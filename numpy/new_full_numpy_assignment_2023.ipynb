{
 "cells": [
  {
   "cell_type": "markdown",
   "metadata": {
    "id": "Y4wuS60lJSVQ"
   },
   "source": [
    "## Numpy assignment"
   ]
  },
  {
   "cell_type": "markdown",
   "metadata": {
    "id": "cYy8-Wq3JSVR"
   },
   "source": [
    "## 1 Preliminaries"
   ]
  },
  {
   "cell_type": "code",
   "execution_count": 2,
   "metadata": {
    "id": "5Z5-LLD_JSVS"
   },
   "outputs": [],
   "source": [
    "# The usual preamble\n",
    "import numpy as np"
   ]
  },
  {
   "cell_type": "markdown",
   "metadata": {
    "id": "MN3eCTN8JSVV"
   },
   "source": [
    "## Numpy"
   ]
  },
  {
   "cell_type": "code",
   "execution_count": 3,
   "metadata": {
    "id": "TCHqsJXxJSVW"
   },
   "outputs": [],
   "source": [
    "import numpy as np\n",
    "x = np.array([2,3,1,0])\n",
    "y =np.arange(10)\n",
    "z = 2 + x"
   ]
  },
  {
   "cell_type": "markdown",
   "metadata": {
    "id": "n1xzCtm3JSVY"
   },
   "source": [
    "Write expressions in the next three cells to retrieve 1 from `x`, 3 from `y`, and 3 from `z`."
   ]
  },
  {
   "cell_type": "code",
   "execution_count": null,
   "metadata": {
    "id": "96FDYv0oJSVZ"
   },
   "outputs": [],
   "source": []
  },
  {
   "cell_type": "code",
   "execution_count": null,
   "metadata": {},
   "outputs": [],
   "source": []
  },
  {
   "cell_type": "code",
   "execution_count": null,
   "metadata": {},
   "outputs": [],
   "source": []
  },
  {
   "cell_type": "markdown",
   "metadata": {
    "id": "t17iimSbJSVb"
   },
   "source": [
    "In the next cell, write an expression that generates a 5 by 5 array filled with zeros, and another  that generates a 1 by 1 array with a 1 in it."
   ]
  },
  {
   "cell_type": "code",
   "execution_count": null,
   "metadata": {
    "id": "s8k51GlRJSVb"
   },
   "outputs": [],
   "source": []
  },
  {
   "cell_type": "code",
   "execution_count": null,
   "metadata": {},
   "outputs": [],
   "source": []
  },
  {
   "cell_type": "markdown",
   "metadata": {},
   "source": [
    "In the next cell write an expression whose value is a 1D array of length 25 filled with the even integers from 2 to 50 inclusive and reshape it into a 5x5 array.  Assign this array to the name `X`; `X` should evaluate as follows.\n",
    "\n",
    "```\n",
    "In [ ]: X\n",
    "\n",
    "Out [ ]: array([[ 2,  4,  6,  8, 10],\n",
    "                [12, 14, 16, 18, 20],\n",
    "                [22, 24, 26, 28, 30],\n",
    "                [32, 34, 36, 38, 40],\n",
    "                [42, 44, 46, 48, 50]])\n",
    "```\n"
   ]
  },
  {
   "cell_type": "markdown",
   "metadata": {},
   "source": [
    "Write an expression that retrieves the following subarray of `X`.  Use slicing in both dimensions\n",
    "of `X`.\n",
    "\n",
    "```\n",
    "array([[24, 26],\n",
    "       [34, 36]])\n",
    "```"
   ]
  },
  {
   "cell_type": "code",
   "execution_count": 89,
   "metadata": {},
   "outputs": [],
   "source": [
    "X = np.arange(2,52,2).reshape((5,5))"
   ]
  },
  {
   "cell_type": "code",
   "execution_count": null,
   "metadata": {},
   "outputs": [],
   "source": []
  },
  {
   "cell_type": "markdown",
   "metadata": {},
   "source": [
    "Retrieve the following from `X`\n",
    "\n",
    "```\n",
    "array([[18, 20],\n",
    "       [38, 40]])\n",
    "```\n",
    "\n",
    "Hint: Use a slice with steps."
   ]
  },
  {
   "cell_type": "markdown",
   "metadata": {},
   "source": [
    "Use \"fancy indexing\" to write one expression that retrieves the following values from X\n",
    "\n",
    "```\n",
    "array([12, 26, 50])\n",
    "```"
   ]
  },
  {
   "cell_type": "code",
   "execution_count": null,
   "metadata": {},
   "outputs": [],
   "source": []
  },
  {
   "cell_type": "markdown",
   "metadata": {
    "id": "wSbS2Fo5JSVe"
   },
   "source": [
    "<style>\n",
    "    @font-face {\n",
    "        font-family: \"Computer Modern\";\n",
    "        src: url('http://mirrors.ctan.org/fonts/cm-unicode/fonts/otf/cmunss.otf');\n",
    "    }\n",
    "    div.cell{\n",
    "        width:800px;\n",
    "        margin-left:16% !important;\n",
    "        margin-right:auto;\n",
    "    }\n",
    "    h1 {\n",
    "        font-family: Helvetica, serif;\n",
    "    }\n",
    "    h4{\n",
    "        margin-top:12px;\n",
    "        margin-bottom: 3px;\n",
    "       }\n",
    "    div.text_cell_render{\n",
    "        font-family: Computer Modern, \"Helvetica Neue\", Arial, Helvetica, Geneva, sans-serif;\n",
    "        line-height: 145%;\n",
    "        font-size: 130%;\n",
    "        width:800px;\n",
    "        margin-left:auto;\n",
    "        margin-right:auto;\n",
    "    }\n",
    "    .CodeMirror{\n",
    "            font-family: \"Source Code Pro\", source-code-pro,Consolas, monospace;\n",
    "    }\n",
    "    .text_cell_render h5 {\n",
    "        font-weight: 300;\n",
    "        font-size: 22pt;\n",
    "        color: #4057A1;\n",
    "        font-style: italic;\n",
    "        margin-bottom: .5em;\n",
    "        margin-top: 0.5em;\n",
    "        display: block;\n",
    "    }\n",
    "    \n",
    "    .warning{\n",
    "        color: rgb( 240, 20, 20 )\n",
    "        }  "
   ]
  },
  {
   "cell_type": "markdown",
   "metadata": {
    "id": "7BvfGKHjJSVe"
   },
   "source": [
    "#### Exercise\n",
    "\n",
    "The next cell defines two arrays `a` and `b`.\n",
    "In this exercise , your task is to create an array\n",
    "that is exactly like `a` except that the negative values in `a` are replaced by\n",
    "`0`. And similarly for `b`. \n",
    "\n",
    "You can do this either with assignments (which\n",
    "will change `a` and `b`) or with a single expression that will create \n",
    "new arrays with the negative values replaced by `0`s.\n",
    "\n",
    "The challenge is this: Make sure that the whatever solution you come up\n",
    "for `a` also works for `b`, with `b` substituted for `a."
   ]
  },
  {
   "cell_type": "markdown",
   "metadata": {},
   "source": [
    "Here are `a` and `b`"
   ]
  },
  {
   "cell_type": "code",
   "execution_count": 97,
   "metadata": {
    "id": "wvKZPhcAJSVe"
   },
   "outputs": [
    {
     "name": "stdout",
     "output_type": "stream",
     "text": [
      "[ 7  6  5  4  3  2  1  0 -1 -2 -3]\n",
      "[  1  -2   3  -4   5  -6   7  -8   9 -10]\n"
     ]
    }
   ],
   "source": [
    "a = np.arange(10,-1,-1) - 3\n",
    "print(a)\n",
    "b = np.array([1,-1] * 5) * np.arange(1,11)\n",
    "print(b)"
   ]
  },
  {
   "cell_type": "markdown",
   "metadata": {},
   "source": [
    "One assignment that solves the problem for `a` is:"
   ]
  },
  {
   "cell_type": "code",
   "execution_count": 6,
   "metadata": {},
   "outputs": [
    {
     "data": {
      "text/plain": [
       "array([7, 6, 5, 4, 3, 2, 1, 0, 0, 0, 0])"
      ]
     },
     "execution_count": 6,
     "metadata": {},
     "output_type": "execute_result"
    }
   ],
   "source": [
    "a[-3:] = 0\n",
    "a"
   ]
  },
  {
   "cell_type": "markdown",
   "metadata": {},
   "source": [
    "This replaces all negative values in `a` with `0`s, as desired.\n",
    "\n",
    "But this isn't a good overall solution, because this\n",
    "assignment doesn't eliminate the negative values in  `b`."
   ]
  },
  {
   "cell_type": "code",
   "execution_count": 10,
   "metadata": {},
   "outputs": [
    {
     "data": {
      "text/plain": [
       "array([ 1, -2,  3, -4,  5, -6,  7,  0,  0,  0])"
      ]
     },
     "execution_count": 10,
     "metadata": {},
     "output_type": "execute_result"
    }
   ],
   "source": [
    "b[-3:] = 0\n",
    "b"
   ]
  },
  {
   "cell_type": "markdown",
   "metadata": {},
   "source": [
    "There are many negative values left.\n",
    "\n",
    "See if you can cook up a solution that applies\n",
    "to both `a` and `b` and gives us arrays with `0` replacing all\n",
    "the negative values.  \n",
    "\n",
    "**Hint One**: Use a Boolean condition\n",
    "combined with an assignment.  This is the strategy that\n",
    "changes both `a` and `b`."
   ]
  },
  {
   "cell_type": "code",
   "execution_count": 29,
   "metadata": {},
   "outputs": [],
   "source": [
    "# Your answer here if you used Hint One"
   ]
  },
  {
   "cell_type": "markdown",
   "metadata": {},
   "source": [
    "**Hint Two**:  One option that doesn't change `a` and `b` is to use `np.where`.\n",
    "\n",
    "\n",
    "The form for using `np.where` is:\n",
    "\n",
    "```\n",
    ">>> np.where(condition, x, y)\n",
    "```\n",
    "\n",
    "where `condition`, `x` and `y` are arrays of the same size (or are broadcastable to the same size).\n",
    "Let `a = np.where(condition, x, y)`;\n",
    "then `a[i] == x[i]` if `condition[i] == True`; otherwise `a[i] ==y[i]`.\n",
    "\n",
    "For example\n",
    "```\n",
    ">>> np.where(np.array([True,False,True]),np.array([1,23,3]),np.array([0,2,0]))\n",
    "array([1, 2, 3])\n",
    "```\n",
    "\n",
    "Another example:  Given `a` and `b` as defined below,  return an array just like `a` wherever\n",
    "`a[i]` is the square root of `b[i]` and `0` where `a[i]` is not.\n",
    "\n",
    "```\n",
    ">>> a = np.array([1, 4.1, 9, 16])\n",
    ">>> b = np.array([1,2,3,4])\n",
    ">>> condition = (np.sqrt(a) == b)\n",
    ">>> np.where(condition,a,0)\n",
    "array([1., 0, 9., 16.])\n",
    "```\n",
    "\n",
    "Note that `condition` is just a Boolean array as in the previous example:\n",
    "\n",
    "```\n",
    ">>> condition\n",
    "array([ True, False,  True,  True])\n",
    "```"
   ]
  },
  {
   "cell_type": "code",
   "execution_count": 31,
   "metadata": {},
   "outputs": [],
   "source": [
    "# Your answer here if you used Hint Two\n"
   ]
  },
  {
   "cell_type": "markdown",
   "metadata": {
    "id": "m7NpYSRgJSVg"
   },
   "source": [
    "#### Exercise\n",
    "\n",
    "In the next cell write an expression that produces an array containing result of multiplying 7 by each of the first 12 integers (1 - 12). There's a hard way to do this and an easy way. The hard way uses a loop. The easy way uses `np.arange` and elementwise multiplication. Don't use the hard way."
   ]
  },
  {
   "cell_type": "code",
   "execution_count": null,
   "metadata": {
    "id": "7yiKGc0HJSVh"
   },
   "outputs": [],
   "source": []
  },
  {
   "cell_type": "markdown",
   "metadata": {
    "id": "o2TyTiOGJSVj"
   },
   "source": [
    "## 2D arrays"
   ]
  },
  {
   "cell_type": "code",
   "execution_count": 32,
   "metadata": {
    "id": "FzCLv6SiJSVj"
   },
   "outputs": [],
   "source": [
    "import numpy as np\n",
    "room_matrix = \\\n",
    "np.array(\n",
    "[[6,  1, 4, 2],\n",
    "[5,  2, 2, 2],\n",
    "[7,  3, 3, 2],\n",
    "[5,  5, 3, 1],\n",
    "[8, 7, 5, 2]])\n",
    "\n",
    "cost_vector = np.array([40, 175, 90, 450])"
   ]
  },
  {
   "cell_type": "markdown",
   "metadata": {
    "id": "XjUwZF0uJSVl"
   },
   "source": [
    "In the next cell write an express that retrieves the last column of `room_matrix`."
   ]
  },
  {
   "cell_type": "code",
   "execution_count": 33,
   "metadata": {
    "id": "QLIMA6dDJSVm"
   },
   "outputs": [
    {
     "data": {
      "text/plain": [
       "array([2, 2, 2, 1, 2])"
      ]
     },
     "execution_count": 33,
     "metadata": {},
     "output_type": "execute_result"
    }
   ],
   "source": []
  },
  {
   "cell_type": "markdown",
   "metadata": {
    "id": "oTcVUAwZJSVo"
   },
   "source": [
    "In the next cell, write an expression that retrieves the third row of `room_matrix`."
   ]
  },
  {
   "cell_type": "code",
   "execution_count": 34,
   "metadata": {
    "id": "NPYhI-MNJSVo"
   },
   "outputs": [
    {
     "data": {
      "text/plain": [
       "array([7, 3, 3, 2])"
      ]
     },
     "execution_count": 34,
     "metadata": {},
     "output_type": "execute_result"
    }
   ],
   "source": []
  },
  {
   "cell_type": "markdown",
   "metadata": {
    "id": "g7ukLsINJSVq"
   },
   "source": [
    "In the next cell write an expression that retrieves the first two elements of the second column of `room_matrix`"
   ]
  },
  {
   "cell_type": "code",
   "execution_count": 37,
   "metadata": {
    "id": "kBlJwiNHJSVq"
   },
   "outputs": [
    {
     "data": {
      "text/plain": [
       "array([1, 2])"
      ]
     },
     "execution_count": 37,
     "metadata": {},
     "output_type": "execute_result"
    }
   ],
   "source": []
  },
  {
   "cell_type": "markdown",
   "metadata": {
    "id": "PFL_HNz8JSVs"
   },
   "source": [
    "In the next cell write an expression that retrieves the following 2D subarray from `room_matrix`:\n",
    "\n",
    "```\n",
    "array([[2,2],\n",
    "       [3,2]])\n",
    "```"
   ]
  },
  {
   "cell_type": "code",
   "execution_count": 39,
   "metadata": {
    "id": "4pJVgJJAJSVt"
   },
   "outputs": [
    {
     "data": {
      "text/plain": [
       "array([[2, 2],\n",
       "       [3, 2]])"
      ]
     },
     "execution_count": 39,
     "metadata": {},
     "output_type": "execute_result"
    }
   ],
   "source": []
  },
  {
   "cell_type": "markdown",
   "metadata": {
    "id": "5Rn-NzcTJSVv"
   },
   "source": [
    "In the next cell, write an expression that returns a Boolean array that identifies the members of `room_matrix` which are greater than or equal to 7."
   ]
  },
  {
   "cell_type": "code",
   "execution_count": 41,
   "metadata": {
    "id": "qOJ3bDQzJSVv"
   },
   "outputs": [
    {
     "data": {
      "text/plain": [
       "array([[False, False, False, False],\n",
       "       [False, False, False, False],\n",
       "       [ True, False, False, False],\n",
       "       [False, False, False, False],\n",
       "       [ True,  True, False, False]])"
      ]
     },
     "execution_count": 41,
     "metadata": {},
     "output_type": "execute_result"
    }
   ],
   "source": []
  },
  {
   "cell_type": "markdown",
   "metadata": {
    "id": "C2DSqCenJp_s"
   },
   "source": [
    "In the next cell, write an expression that produces an array containing the items in `room_matrix` which are greater than or equal to 7.  Note:  This question and the previous question do not have the same answer."
   ]
  },
  {
   "cell_type": "code",
   "execution_count": 42,
   "metadata": {},
   "outputs": [
    {
     "data": {
      "text/plain": [
       "array([7, 8, 7])"
      ]
     },
     "execution_count": 42,
     "metadata": {},
     "output_type": "execute_result"
    }
   ],
   "source": []
  },
  {
   "cell_type": "markdown",
   "metadata": {
    "id": "wwR0EsO5JSVx"
   },
   "source": [
    "## Iris data exercise"
   ]
  },
  {
   "cell_type": "markdown",
   "metadata": {
    "id": "-sAlD8q_JSVx"
   },
   "source": [
    "In the next cell, use a Boolean mask to return all the rows of the iris data set whose column 1 value is greater than 3.0 (I mean the column whose **index** is 1).\n",
    "The next cell is not empty because you have been provided with the code which loads the data.\n",
    "So you should keep that code and **add to it**.  Be sure to save the rows found by assigning\n",
    "them to a variable name"
   ]
  },
  {
   "cell_type": "code",
   "execution_count": 98,
   "metadata": {
    "id": "RWsm4jcbJSVy"
   },
   "outputs": [],
   "source": [
    "from sklearn.datasets import load_iris\n",
    "data = load_iris()\n",
    "features = data['data']\n",
    "target = data['target']"
   ]
  },
  {
   "cell_type": "code",
   "execution_count": 50,
   "metadata": {},
   "outputs": [
    {
     "data": {
      "text/plain": [
       "array([[5.1, 3.5, 1.4, 0.2],\n",
       "       [4.9, 3. , 1.4, 0.2],\n",
       "       [4.7, 3.2, 1.3, 0.2],\n",
       "       [4.6, 3.1, 1.5, 0.2],\n",
       "       [5. , 3.6, 1.4, 0.2],\n",
       "       [5.4, 3.9, 1.7, 0.4],\n",
       "       [4.6, 3.4, 1.4, 0.3],\n",
       "       [5. , 3.4, 1.5, 0.2],\n",
       "       [4.4, 2.9, 1.4, 0.2],\n",
       "       [4.9, 3.1, 1.5, 0.1],\n",
       "       [5.4, 3.7, 1.5, 0.2],\n",
       "       [4.8, 3.4, 1.6, 0.2],\n",
       "       [4.8, 3. , 1.4, 0.1],\n",
       "       [4.3, 3. , 1.1, 0.1],\n",
       "       [5.8, 4. , 1.2, 0.2],\n",
       "       [5.7, 4.4, 1.5, 0.4],\n",
       "       [5.4, 3.9, 1.3, 0.4],\n",
       "       [5.1, 3.5, 1.4, 0.3],\n",
       "       [5.7, 3.8, 1.7, 0.3],\n",
       "       [5.1, 3.8, 1.5, 0.3],\n",
       "       [5.4, 3.4, 1.7, 0.2],\n",
       "       [5.1, 3.7, 1.5, 0.4],\n",
       "       [4.6, 3.6, 1. , 0.2],\n",
       "       [5.1, 3.3, 1.7, 0.5],\n",
       "       [4.8, 3.4, 1.9, 0.2],\n",
       "       [5. , 3. , 1.6, 0.2],\n",
       "       [5. , 3.4, 1.6, 0.4],\n",
       "       [5.2, 3.5, 1.5, 0.2],\n",
       "       [5.2, 3.4, 1.4, 0.2],\n",
       "       [4.7, 3.2, 1.6, 0.2],\n",
       "       [4.8, 3.1, 1.6, 0.2],\n",
       "       [5.4, 3.4, 1.5, 0.4],\n",
       "       [5.2, 4.1, 1.5, 0.1],\n",
       "       [5.5, 4.2, 1.4, 0.2],\n",
       "       [4.9, 3.1, 1.5, 0.2],\n",
       "       [5. , 3.2, 1.2, 0.2],\n",
       "       [5.5, 3.5, 1.3, 0.2],\n",
       "       [4.9, 3.6, 1.4, 0.1],\n",
       "       [4.4, 3. , 1.3, 0.2],\n",
       "       [5.1, 3.4, 1.5, 0.2],\n",
       "       [5. , 3.5, 1.3, 0.3],\n",
       "       [4.5, 2.3, 1.3, 0.3],\n",
       "       [4.4, 3.2, 1.3, 0.2],\n",
       "       [5. , 3.5, 1.6, 0.6],\n",
       "       [5.1, 3.8, 1.9, 0.4],\n",
       "       [4.8, 3. , 1.4, 0.3],\n",
       "       [5.1, 3.8, 1.6, 0.2],\n",
       "       [4.6, 3.2, 1.4, 0.2],\n",
       "       [5.3, 3.7, 1.5, 0.2],\n",
       "       [5. , 3.3, 1.4, 0.2],\n",
       "       [7. , 3.2, 4.7, 1.4],\n",
       "       [6.4, 3.2, 4.5, 1.5],\n",
       "       [6.9, 3.1, 4.9, 1.5],\n",
       "       [5.5, 2.3, 4. , 1.3],\n",
       "       [6.5, 2.8, 4.6, 1.5],\n",
       "       [5.7, 2.8, 4.5, 1.3],\n",
       "       [6.3, 3.3, 4.7, 1.6],\n",
       "       [4.9, 2.4, 3.3, 1. ],\n",
       "       [6.6, 2.9, 4.6, 1.3],\n",
       "       [5.2, 2.7, 3.9, 1.4],\n",
       "       [5. , 2. , 3.5, 1. ],\n",
       "       [5.9, 3. , 4.2, 1.5],\n",
       "       [6. , 2.2, 4. , 1. ],\n",
       "       [6.1, 2.9, 4.7, 1.4],\n",
       "       [5.6, 2.9, 3.6, 1.3],\n",
       "       [6.7, 3.1, 4.4, 1.4],\n",
       "       [5.6, 3. , 4.5, 1.5],\n",
       "       [5.8, 2.7, 4.1, 1. ],\n",
       "       [6.2, 2.2, 4.5, 1.5],\n",
       "       [5.6, 2.5, 3.9, 1.1],\n",
       "       [5.9, 3.2, 4.8, 1.8],\n",
       "       [6.1, 2.8, 4. , 1.3],\n",
       "       [6.3, 2.5, 4.9, 1.5],\n",
       "       [6.1, 2.8, 4.7, 1.2],\n",
       "       [6.4, 2.9, 4.3, 1.3],\n",
       "       [6.6, 3. , 4.4, 1.4],\n",
       "       [6.8, 2.8, 4.8, 1.4],\n",
       "       [6.7, 3. , 5. , 1.7],\n",
       "       [6. , 2.9, 4.5, 1.5],\n",
       "       [5.7, 2.6, 3.5, 1. ],\n",
       "       [5.5, 2.4, 3.8, 1.1],\n",
       "       [5.5, 2.4, 3.7, 1. ],\n",
       "       [5.8, 2.7, 3.9, 1.2],\n",
       "       [6. , 2.7, 5.1, 1.6],\n",
       "       [5.4, 3. , 4.5, 1.5],\n",
       "       [6. , 3.4, 4.5, 1.6],\n",
       "       [6.7, 3.1, 4.7, 1.5],\n",
       "       [6.3, 2.3, 4.4, 1.3],\n",
       "       [5.6, 3. , 4.1, 1.3],\n",
       "       [5.5, 2.5, 4. , 1.3],\n",
       "       [5.5, 2.6, 4.4, 1.2],\n",
       "       [6.1, 3. , 4.6, 1.4],\n",
       "       [5.8, 2.6, 4. , 1.2],\n",
       "       [5. , 2.3, 3.3, 1. ],\n",
       "       [5.6, 2.7, 4.2, 1.3],\n",
       "       [5.7, 3. , 4.2, 1.2],\n",
       "       [5.7, 2.9, 4.2, 1.3],\n",
       "       [6.2, 2.9, 4.3, 1.3],\n",
       "       [5.1, 2.5, 3. , 1.1],\n",
       "       [5.7, 2.8, 4.1, 1.3],\n",
       "       [6.3, 3.3, 6. , 2.5],\n",
       "       [5.8, 2.7, 5.1, 1.9],\n",
       "       [7.1, 3. , 5.9, 2.1],\n",
       "       [6.3, 2.9, 5.6, 1.8],\n",
       "       [6.5, 3. , 5.8, 2.2],\n",
       "       [7.6, 3. , 6.6, 2.1],\n",
       "       [4.9, 2.5, 4.5, 1.7],\n",
       "       [7.3, 2.9, 6.3, 1.8],\n",
       "       [6.7, 2.5, 5.8, 1.8],\n",
       "       [7.2, 3.6, 6.1, 2.5],\n",
       "       [6.5, 3.2, 5.1, 2. ],\n",
       "       [6.4, 2.7, 5.3, 1.9],\n",
       "       [6.8, 3. , 5.5, 2.1],\n",
       "       [5.7, 2.5, 5. , 2. ],\n",
       "       [5.8, 2.8, 5.1, 2.4],\n",
       "       [6.4, 3.2, 5.3, 2.3],\n",
       "       [6.5, 3. , 5.5, 1.8],\n",
       "       [7.7, 3.8, 6.7, 2.2],\n",
       "       [7.7, 2.6, 6.9, 2.3],\n",
       "       [6. , 2.2, 5. , 1.5],\n",
       "       [6.9, 3.2, 5.7, 2.3],\n",
       "       [5.6, 2.8, 4.9, 2. ],\n",
       "       [7.7, 2.8, 6.7, 2. ],\n",
       "       [6.3, 2.7, 4.9, 1.8],\n",
       "       [6.7, 3.3, 5.7, 2.1],\n",
       "       [7.2, 3.2, 6. , 1.8],\n",
       "       [6.2, 2.8, 4.8, 1.8],\n",
       "       [6.1, 3. , 4.9, 1.8],\n",
       "       [6.4, 2.8, 5.6, 2.1],\n",
       "       [7.2, 3. , 5.8, 1.6],\n",
       "       [7.4, 2.8, 6.1, 1.9],\n",
       "       [7.9, 3.8, 6.4, 2. ],\n",
       "       [6.4, 2.8, 5.6, 2.2],\n",
       "       [6.3, 2.8, 5.1, 1.5],\n",
       "       [6.1, 2.6, 5.6, 1.4],\n",
       "       [7.7, 3. , 6.1, 2.3],\n",
       "       [6.3, 3.4, 5.6, 2.4],\n",
       "       [6.4, 3.1, 5.5, 1.8],\n",
       "       [6. , 3. , 4.8, 1.8],\n",
       "       [6.9, 3.1, 5.4, 2.1],\n",
       "       [6.7, 3.1, 5.6, 2.4],\n",
       "       [6.9, 3.1, 5.1, 2.3],\n",
       "       [5.8, 2.7, 5.1, 1.9],\n",
       "       [6.8, 3.2, 5.9, 2.3],\n",
       "       [6.7, 3.3, 5.7, 2.5],\n",
       "       [6.7, 3. , 5.2, 2.3],\n",
       "       [6.3, 2.5, 5. , 1.9],\n",
       "       [6.5, 3. , 5.2, 2. ],\n",
       "       [6.2, 3.4, 5.4, 2.3],\n",
       "       [5.9, 3. , 5.1, 1.8]])"
      ]
     },
     "execution_count": 50,
     "metadata": {},
     "output_type": "execute_result"
    }
   ],
   "source": [
    "features"
   ]
  },
  {
   "cell_type": "markdown",
   "metadata": {
    "id": "30mkWyeOJSV0"
   },
   "source": [
    "In the next cell, use a Boolean array to return all the rows representing members of class 2 in the iris data set (the Boolean array is not the answer; it is used in retrieving the answer)."
   ]
  },
  {
   "cell_type": "code",
   "execution_count": null,
   "metadata": {
    "id": "b9epMASDJSV0"
   },
   "outputs": [],
   "source": []
  },
  {
   "cell_type": "markdown",
   "metadata": {
    "id": "LD7NX3Y2JSV2"
   },
   "source": [
    "**Extra credit**:  In the next cell write an expression -- or expressions -- which returns\n",
    "all the rows of `features` representing members of class 2 whose column 3 value is greater than 1.8.\n",
    "\n",
    "Two solutions: \n",
    "\n",
    "1. One way is to set a variable to the result of one of your answers to the last two questions. That result is an array, and you can do more indexing on it.  \n",
    "2. Another way that expands yoiur skill set more is to use a Boolean operator to combine conditions (note you will need to wrap parentheses around your conditions before combining them with the Boolean operator)."
   ]
  },
  {
   "cell_type": "markdown",
   "metadata": {},
   "source": [
    "Help with Solution 2.  The following example illustrates wrapping parentheses around conditions.\n",
    "Say you have X an array of numbers and you want a Boolean array\n",
    "that tells you exactly which numbers are even (`X%2 == 0`) but not greater than 4 (`not (X > 4)`).  You can\n",
    "combine these two conditions as follows:"
   ]
  },
  {
   "cell_type": "code",
   "execution_count": 56,
   "metadata": {
    "id": "Hake5bryJSV2"
   },
   "outputs": [
    {
     "name": "stdout",
     "output_type": "stream",
     "text": [
      "[[-3 -2 -1  0  1]\n",
      " [ 2  3  4  5  6]\n",
      " [ 7  8  9 10 11]]\n"
     ]
    },
    {
     "data": {
      "text/plain": [
       "array([-2,  0,  2,  4])"
      ]
     },
     "execution_count": 56,
     "metadata": {},
     "output_type": "execute_result"
    }
   ],
   "source": [
    "X = np.arange(-3,12).reshape((3,5))\n",
    "print(X)\n",
    "X[(X%2 == 0) & ~(X > 4)]"
   ]
  },
  {
   "cell_type": "markdown",
   "metadata": {},
   "source": [
    "Your solution or solutions to the Extra Credit problem in the next cell."
   ]
  },
  {
   "cell_type": "code",
   "execution_count": null,
   "metadata": {},
   "outputs": [],
   "source": []
  },
  {
   "cell_type": "markdown",
   "metadata": {
    "id": "yX3ltxTdJSV4"
   },
   "source": [
    "## Part One\n",
    "\n",
    "### California Housing data exercise"
   ]
  },
  {
   "cell_type": "code",
   "execution_count": 99,
   "metadata": {},
   "outputs": [
    {
     "name": "stdout",
     "output_type": "stream",
     "text": [
      "(20640, 8) (20640,)\n"
     ]
    }
   ],
   "source": [
    "from sklearn.datasets import fetch_california_housing\n",
    "housing = fetch_california_housing()\n",
    "X,Y = housing.data,housing.target\n",
    "print(X.shape,Y.shape)"
   ]
  },
  {
   "cell_type": "markdown",
   "metadata": {
    "id": "CEJyjWa0JSV7"
   },
   "source": [
    "The cell above loads the `sklearn` California Housing Dataset"
   ]
  },
  {
   "cell_type": "markdown",
   "metadata": {
    "id": "CEJyjWa0JSV7"
   },
   "source": [
    "### California Housing Data Set Characteristics\n",
    "\n",
    "    :Number of Instances: 20640\n",
    "\n",
    "    :Number of Attributes: 8 numeric, predictive attributes and the target\n",
    "\n",
    "    :Attribute Information:\n",
    "        - MedInc        median income in block group\n",
    "        - HouseAge      median house age in block group\n",
    "        - AveRooms      average number of rooms per household\n",
    "        - AveBedrms     average number of bedrooms per household\n",
    "        - Population    block group population\n",
    "        - AveOccup      average number of household members\n",
    "        - Latitude      block group latitude\n",
    "        - Longitude     block group longitude\n",
    "\n",
    "    :Missing Attribute Values: None\n",
    "\n",
    "This dataset was obtained from the StatLib repository.\n",
    "https://www.dcc.fc.up.pt/~ltorgo/Regression/cal_housing.html\n",
    "\n",
    "The target variable is the median house value for California districts,\n",
    "expressed in hundreds of thousands of dollars ($100,000).\n",
    "\n",
    "This dataset was derived from the 1990 U.S. census, using one row per census\n",
    "block group. A block group is the smallest geographical unit for which the U.S.\n",
    "Census Bureau publishes sample data (a block group typically has a population\n",
    "of 600 to 3,000 people).\n",
    "\n",
    "An household is a group of people residing within a home. Since the average\n",
    "number of rooms and bedrooms in this dataset are provided per household, these\n",
    "columns may take surprisingly large values for block groups with few households\n",
    "and many empty houses, such as vacation resorts.\n",
    "\n",
    ".. topic:: References\n",
    "\n",
    "    - Pace, R. Kelley and Ronald Barry, Sparse Spatial Autoregressions,\n",
    "      Statistics and Probability Letters, 33 (1997) 291-297\n",
    "\n",
    "The array `X`, defined in the cell above, is a 20,640x8 array containing the values of all\n",
    "these variables for 20,640 California block groups.\n",
    "\n",
    "The information stored in Y, the value to be predicted is\n",
    "\n",
    "```\n",
    "       - MEDV     Median value of owner-occupied homes in $1000's\n",
    " \n",
    "```"
   ]
  },
  {
   "cell_type": "markdown",
   "metadata": {
    "id": "CEJyjWa0JSV7"
   },
   "source": [
    "#### Exercise\n",
    "\n",
    "1.  Construct an expression or expressions that creates a new table that omits all blocks whose average number of bedrooms is greater than 10.\n",
    "2.  Construct an expression or expressions that creates a new table containing all columns except the \n",
    "    `MedInc` column.  This will be our new X.  Also create a new Y containing the `MedInc` column.\n",
    "    This is to help someone research how to predict median income using the other variables.  \n",
    "    The shape of the new X should\n",
    "    20,640x7 and the new Y should be a 1D array with length 20,640.  Show that you checked this in your answer."
   ]
  },
  {
   "cell_type": "code",
   "execution_count": 39,
   "metadata": {
    "id": "L4kaM8xuJSV8"
   },
   "outputs": [],
   "source": []
  },
  {
   "cell_type": "markdown",
   "metadata": {},
   "source": [
    "#### Exercise\n",
    "\n",
    "Write an expression that computes how many blocks in the data set \n",
    "have an average house age greater than 25 years old and have a population greater than 5,000.\n",
    "\n",
    "Note there are two solutions.  One involves finding the set of rows that\n",
    "satisfy the constraint and computing its length.  Another \n",
    "finds the Boolean mask that represents those rows and computes\n",
    "the number of `True`s in it.  See if you can find both"
   ]
  },
  {
   "cell_type": "code",
   "execution_count": 76,
   "metadata": {},
   "outputs": [
    {
     "data": {
      "text/plain": [
       "23"
      ]
     },
     "execution_count": 76,
     "metadata": {},
     "output_type": "execute_result"
    }
   ],
   "source": []
  },
  {
   "cell_type": "code",
   "execution_count": 77,
   "metadata": {},
   "outputs": [
    {
     "data": {
      "text/plain": [
       "23"
      ]
     },
     "execution_count": 77,
     "metadata": {},
     "output_type": "execute_result"
    }
   ],
   "source": []
  },
  {
   "cell_type": "markdown",
   "metadata": {},
   "source": [
    "Checks!"
   ]
  },
  {
   "cell_type": "markdown",
   "metadata": {},
   "source": [
    "## Part two"
   ]
  },
  {
   "cell_type": "markdown",
   "metadata": {},
   "source": [
    "The answers for the following section are available on the inclass Boolean exercises solution notebook."
   ]
  },
  {
   "cell_type": "markdown",
   "metadata": {
    "id": "F2-lS9n39ZOY"
   },
   "source": [
    "# Boolean combinations\n",
    "\n",
    "In this section we load forest covertype data.  This is a multi class dataset that has data for 7 different forest covertypes (stored in the `target` attribute).  There are 581,012 forest plots with 54 attributes each (stored ina 581012x54 array) The first ten attributes are numerical, the last 44 are Boolean (true/false) attributes. Each of the Boolean attributes represents a qualitative soil type attribute which is either present or absent.  We will refer to all the attributes by their column index.  Thus the first attribute is attribute 0 and the last (a Boolean attribute) is attribute 53."
   ]
  },
  {
   "cell_type": "code",
   "execution_count": 16,
   "metadata": {
    "id": "t0a3FWEa49nE"
   },
   "outputs": [
    {
     "name": "stdout",
     "output_type": "stream",
     "text": [
      "(581012, 54)\n",
      "(581012,)\n"
     ]
    }
   ],
   "source": [
    "#from sklearn.datasets import load_wine\n",
    "#wdata = load_wine()\n",
    "from sklearn.datasets import fetch_covtype\n",
    "data = fetch_covtype()\n",
    "print(data.data.shape)  # data.data is the 581012 x 54 array\n",
    "print(data.target.shape)     # data.target contains the class for each instance"
   ]
  },
  {
   "cell_type": "markdown",
   "metadata": {},
   "source": [
    "Th first 26 columns of the plot index 50_210:"
   ]
  },
  {
   "cell_type": "code",
   "execution_count": 19,
   "metadata": {},
   "outputs": [
    {
     "data": {
      "text/plain": [
       "array([3.374e+03, 2.940e+02, 1.500e+01, 1.340e+02, 3.200e+01, 2.713e+03,\n",
       "       1.780e+02, 2.360e+02, 1.970e+02, 2.347e+03, 1.000e+00, 0.000e+00,\n",
       "       0.000e+00, 0.000e+00, 0.000e+00, 0.000e+00, 0.000e+00, 0.000e+00,\n",
       "       0.000e+00, 0.000e+00, 0.000e+00, 0.000e+00, 0.000e+00, 0.000e+00,\n",
       "       0.000e+00, 0.000e+00])"
      ]
     },
     "execution_count": 19,
     "metadata": {},
     "output_type": "execute_result"
    }
   ],
   "source": [
    "data.data[50_210,:26]"
   ]
  },
  {
   "cell_type": "markdown",
   "metadata": {},
   "source": [
    "The last 28 column of the plot index 50_210:"
   ]
  },
  {
   "cell_type": "code",
   "execution_count": 21,
   "metadata": {},
   "outputs": [
    {
     "data": {
      "text/plain": [
       "array([0., 0., 0., 0., 0., 0., 0., 0., 0., 0., 0., 0., 0., 0., 0., 0., 1.,\n",
       "       0., 0., 0., 0., 0., 0., 0., 0., 0., 0., 0.])"
      ]
     },
     "execution_count": 21,
     "metadata": {},
     "output_type": "execute_result"
    }
   ],
   "source": [
    "data.data[50_210,26:]"
   ]
  },
  {
   "cell_type": "markdown",
   "metadata": {
    "id": "nlOSWhkBMKAK"
   },
   "source": [
    "[The Boolean arrays and masks notebook](https://github.com/gawron/python-for-social-science/blob/master/numpy/02_06_Boolean_Arrays_and_Masks.ipynb) discusses combining Boolean arrays with Boolean operators `&` (conceptually 'and') and `|` (conceptually 'or').   We can add to that `~` (conceptually 'not') to complete the list.  Look at the examples there.\n",
    "\n",
    " \n",
    "The `sklearn` description of the covertype dataset is printed in the cell below. For a fuller understanding of the attributes in the dataset you might want to look at [the original UCI data set description.](https://archive.ics.uci.edu/ml/datasets/Covertype)"
   ]
  },
  {
   "cell_type": "markdown",
   "metadata": {},
   "source": [
    "Forest covertypes\n",
    "---------------------\n",
    "\n",
    "The samples in this dataset correspond to 30×30m patches of forest in the US,\n",
    "collected for the task of predicting each patch's cover type,\n",
    "i.e. the dominant species of tree.\n",
    "There are seven covertypes, making this a multiclass classification problem.\n",
    "Each sample has 54 features, described on the\n",
    "[dataset's homepage](https://archive.ics.uci.edu/ml/datasets/Covertype>).\n",
    "Some of the features are boolean indicators\n",
    "while others are discrete or continuous measurements.\n",
    "\n",
    "**Data Set Characteristics:**\n",
    "\n",
    "    =================   ============\n",
    "    Classes                        7\n",
    "    Samples total             581012\n",
    "    Dimensionality                54\n",
    "    Features                     int\n",
    "    =================   ============\n",
    "\n",
    "The function `sklearn.datasets.fetch_covtype` will load the covertype dataset;\n",
    "it returns a dictionary-like object\n",
    "with the feature matrix in the ``data`` member\n",
    "and the target values in ``target``.\n",
    "The dataset will be downloaded from the web if necessary."
   ]
  },
  {
   "cell_type": "markdown",
   "metadata": {
    "id": "bXZsBxT6Br8C"
   },
   "source": [
    "`data.data` attribute is a `numpy` array containing the array.  As an example to help with this problem.  To compute an an array containing just the rows in which attribute 0 is greater than 50 you do. "
   ]
  },
  {
   "cell_type": "code",
   "execution_count": null,
   "metadata": {
    "colab": {
     "base_uri": "https://localhost:8080/",
     "height": 34
    },
    "id": "dVZgDsBLLtxN",
    "outputId": "ff49c528-5058-41b1-d29e-5863eec5c58c"
   },
   "outputs": [
    {
     "data": {
      "text/plain": [
       "(581012, 54)"
      ]
     },
     "execution_count": 107,
     "metadata": {
      "tags": []
     },
     "output_type": "execute_result"
    }
   ],
   "source": [
    "WW = data.data > 50\n",
    "print(WW.shape)"
   ]
  },
  {
   "cell_type": "markdown",
   "metadata": {
    "id": "xgTX9Qm1A-va"
   },
   "source": [
    "The covertypes (or dominant tree) for each forest plot are in `data.target`, which is often the attribute used to store the classes in an `sklearn` clasification dataset.  There is data for 581,012 plots\n",
    "so this is a 1D array of length 581,012.  \n",
    "\n",
    "There are 7 distinct fiorest tyoes that a plot can have."
   ]
  },
  {
   "cell_type": "code",
   "execution_count": null,
   "metadata": {
    "colab": {
     "base_uri": "https://localhost:8080/",
     "height": 51
    },
    "id": "uVjutdGL7KPL",
    "outputId": "a827e84f-bec9-4941-d645-d17b2a077fb7"
   },
   "outputs": [
    {
     "name": "stdout",
     "output_type": "stream",
     "text": [
      "581012\n",
      "{1, 2, 3, 4, 5, 6, 7}\n"
     ]
    }
   ],
   "source": [
    "print(len(data.target))\n",
    "print(set(data.target))"
   ]
  },
  {
   "cell_type": "markdown",
   "metadata": {},
   "source": [
    "### The problem"
   ]
  },
  {
   "cell_type": "markdown",
   "metadata": {
    "id": "L-fcMVr_Ls7q"
   },
   "source": [
    "1. Write an expression that retrieves all rows that a value greater than 300 in the column indexed 1 (second column) and a value equal to 1 for the column indexed 12. \n",
    "\n",
    "2. Write an expression that retrieves the rows from either class 3 or class 5  that have a value greater than 300 in the column indexed 1 (second column) and a value equal to 1 for the column indexed 12. \n",
    "\n",
    "3. Write an expression that counts the rows from either class 3 or class 5  that have a value greater than 300 in the column indexed 1 (second column) and a value equal to 1 for the column indexed 12. "
   ]
  },
  {
   "cell_type": "code",
   "execution_count": null,
   "metadata": {},
   "outputs": [],
   "source": []
  },
  {
   "cell_type": "markdown",
   "metadata": {
    "id": "MdNH13MJ1wu_"
   },
   "source": []
  }
 ],
 "metadata": {
  "colab": {
   "name": "full_numpy_assignment.ipynb",
   "provenance": []
  },
  "kernelspec": {
   "display_name": "Python 3 (ipykernel)",
   "language": "python",
   "name": "python3"
  },
  "language_info": {
   "codemirror_mode": {
    "name": "ipython",
    "version": 3
   },
   "file_extension": ".py",
   "mimetype": "text/x-python",
   "name": "python",
   "nbconvert_exporter": "python",
   "pygments_lexer": "ipython3",
   "version": "3.10.6"
  },
  "name": "_merged",
  "toc": {
   "base_numbering": 1,
   "nav_menu": {},
   "number_sections": true,
   "sideBar": true,
   "skip_h1_title": false,
   "title_cell": "Table of Contents",
   "title_sidebar": "Contents",
   "toc_cell": false,
   "toc_position": {},
   "toc_section_display": true,
   "toc_window_display": false
  }
 },
 "nbformat": 4,
 "nbformat_minor": 1
}
