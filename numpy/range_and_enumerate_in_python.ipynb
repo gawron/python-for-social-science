{
 "cells": [
  {
   "cell_type": "markdown",
   "id": "6a0fd3e9",
   "metadata": {},
   "source": [
    "# Ranges in Python"
   ]
  },
  {
   "cell_type": "markdown",
   "id": "ab38049a",
   "metadata": {},
   "source": [
    "The `range` function is a Python builtin which belongs to a family of Python functions that produce useful **iterables**.\n",
    "\n",
    "The concept of an iterable is very close to the concept\n",
    "of a container.  An iterable has elements that can be **iterated**\n",
    "through.  That is, they can be accessed one by one in a loop or they can all be collected to a container. Technically, this means an \n",
    "iterable must implement an `__iter__` method.  We will\n",
    "have more to say on what this means below."
   ]
  },
  {
   "cell_type": "markdown",
   "id": "46fc0484",
   "metadata": {},
   "source": [
    "First let's develop\n",
    "some examples. \n",
    "\n",
    "The simplest kind of example.The range function produces a range of numbers.\n"
   ]
  },
  {
   "cell_type": "code",
   "execution_count": 4,
   "id": "4fdbe468",
   "metadata": {
    "colab": {
     "base_uri": "https://localhost:8080/",
     "height": 34
    },
    "colab_type": "code",
    "id": "rTlpgy_50FIo",
    "outputId": "6422d533-f95b-4b3c-e253-4931e3e95d0a"
   },
   "outputs": [
    {
     "data": {
      "text/plain": [
       "[0, 1, 2, 3, 4, 5, 6, 7, 8, 9, 10, 11, 12, 13, 14]"
      ]
     },
     "execution_count": 4,
     "metadata": {
      "tags": []
     },
     "output_type": "execute_result"
    }
   ],
   "source": [
    "x = list(range(15))\n",
    "x"
   ]
  },
  {
   "cell_type": "markdown",
   "id": "47748c03",
   "metadata": {},
   "source": [
    "So we get a range of numbers from `0` (the default start value of a range) up to but not including the `end` of range value, `15`.\n",
    "\n",
    "The use of `list` in the above example was simply to make the values in the range visible.\n",
    "\n",
    "A `range` instance does not by default show its values;\n",
    "in fact, that's a kind of design feature. A `range` is an object\n",
    "with start and step values which can be stepped through on request,\n",
    "but are not present in memory until that request is made.\n"
   ]
  },
  {
   "cell_type": "code",
   "execution_count": 1,
   "id": "33d1f4aa",
   "metadata": {
    "colab": {
     "base_uri": "https://localhost:8080/",
     "height": 34
    },
    "colab_type": "code",
    "id": "buYPCHse0FIk",
    "outputId": "1a3508ca-99f7-4e6f-c2af-f27fcb138937",
    "scrolled": true
   },
   "outputs": [
    {
     "name": "stdout",
     "output_type": "stream",
     "text": [
      "range(0, 15)\n"
     ]
    },
    {
     "data": {
      "text/plain": [
       "range"
      ]
     },
     "execution_count": 1,
     "metadata": {},
     "output_type": "execute_result"
    }
   ],
   "source": [
    "print(range(15))\n",
    "type(range(15))"
   ]
  },
  {
   "cell_type": "markdown",
   "id": "a289fa83",
   "metadata": {},
   "source": [
    "One fairly typical use of `range` is to provide an iterable that\n",
    "allows us to step through the legal indices of a sequence."
   ]
  },
  {
   "cell_type": "code",
   "execution_count": 5,
   "id": "15c77b34",
   "metadata": {
    "colab": {
     "base_uri": "https://localhost:8080/",
     "height": 85
    },
    "colab_type": "code",
    "id": "UQn9eK9-0FIr",
    "outputId": "8e9fde01-bdc3-4418-ade1-742ee15fa6f0"
   },
   "outputs": [
    {
     "name": "stdout",
     "output_type": "stream",
     "text": [
      "0\n",
      "1\n",
      "2\n",
      "3\n"
     ]
    }
   ],
   "source": [
    "L = [3,5,7,8]\n",
    "for ind in range(len(L)):\n",
    "    print(ind)"
   ]
  },
  {
   "cell_type": "markdown",
   "id": "d0ae0e78",
   "metadata": {},
   "source": [
    "We can of course use those indices to produce the elements of the sequence."
   ]
  },
  {
   "cell_type": "code",
   "execution_count": 6,
   "id": "7718d47d",
   "metadata": {
    "colab": {
     "base_uri": "https://localhost:8080/",
     "height": 85
    },
    "colab_type": "code",
    "id": "bof1A7rl0FIt",
    "outputId": "900ce1ef-7918-4072-9d81-c9c1446e1215"
   },
   "outputs": [
    {
     "name": "stdout",
     "output_type": "stream",
     "text": [
      "3\n",
      "5\n",
      "7\n",
      "8\n"
     ]
    }
   ],
   "source": [
    "\n",
    "\n",
    "for ind in range(len(L)):\n",
    "    print(L[ind])"
   ]
  },
  {
   "cell_type": "markdown",
   "id": "5bd65a4f",
   "metadata": {},
   "source": [
    "We said above that ranges have start and stop values (upper and lower bounds); our examples thus far have used the default start value 0.\n",
    "The start value can be made explicit, as in the next two examples."
   ]
  },
  {
   "cell_type": "code",
   "execution_count": 7,
   "id": "6a9d1eb4",
   "metadata": {
    "colab": {
     "base_uri": "https://localhost:8080/",
     "height": 34
    },
    "colab_type": "code",
    "id": "Ndv5QETf0FIv",
    "outputId": "24673713-299e-4c46-b5a3-c442bff82a94"
   },
   "outputs": [
    {
     "data": {
      "text/plain": [
       "[1, 2, 3, 4]"
      ]
     },
     "execution_count": 7,
     "metadata": {
      "tags": []
     },
     "output_type": "execute_result"
    }
   ],
   "source": [
    "list(range(1,5))"
   ]
  },
  {
   "cell_type": "code",
   "execution_count": 1,
   "id": "556098b7",
   "metadata": {
    "colab": {
     "base_uri": "https://localhost:8080/",
     "height": 1000
    },
    "colab_type": "code",
    "id": "6xiFkEAe0FIx",
    "outputId": "65055f07-82f8-49e7-d1fc-43c76c3179a7"
   },
   "outputs": [
    {
     "data": {
      "text/plain": [
       "[5, 6, 7, 8, 9]"
      ]
     },
     "execution_count": 1,
     "metadata": {},
     "output_type": "execute_result"
    }
   ],
   "source": [
    "list(range(5,10))"
   ]
  },
  {
   "cell_type": "markdown",
   "id": "f8e59fe3",
   "metadata": {},
   "source": [
    "There is also a third optional parameter, the `step size`."
   ]
  },
  {
   "cell_type": "code",
   "execution_count": 9,
   "id": "ce6b5dc8",
   "metadata": {
    "colab": {
     "base_uri": "https://localhost:8080/",
     "height": 34
    },
    "colab_type": "code",
    "id": "MFWOESEf0FI0",
    "outputId": "2c47960c-eee9-4f1a-8455-2fad2b138076"
   },
   "outputs": [
    {
     "data": {
      "text/plain": [
       "[5, 10, 15, 20, 25, 30, 35, 40, 45, 50, 55, 60, 65, 70, 75, 80, 85, 90, 95]"
      ]
     },
     "execution_count": 9,
     "metadata": {
      "tags": []
     },
     "output_type": "execute_result"
    }
   ],
   "source": [
    "list(range(5,100,5))"
   ]
  },
  {
   "cell_type": "markdown",
   "id": "5adf5fc5",
   "metadata": {},
   "source": [
    "Clearly the default value for `step size`, used implicitly in all our\n",
    "examples until this last one, is `1`."
   ]
  },
  {
   "cell_type": "markdown",
   "id": "5337593b",
   "metadata": {},
   "source": [
    "The `step size` can be negative. "
   ]
  },
  {
   "cell_type": "code",
   "execution_count": 10,
   "id": "5b6e556c",
   "metadata": {
    "colab": {
     "base_uri": "https://localhost:8080/",
     "height": 34
    },
    "colab_type": "code",
    "id": "WLqd30VB0FI3",
    "outputId": "b515fcb5-288a-4b9d-b138-39176d32278b"
   },
   "outputs": [
    {
     "data": {
      "text/plain": [
       "[10, 9, 8, 7, 6, 5, 4, 3, 2, 1]"
      ]
     },
     "execution_count": 10,
     "metadata": {
      "tags": []
     },
     "output_type": "execute_result"
    }
   ],
   "source": [
    "list(range(10,0,-1))"
   ]
  },
  {
   "cell_type": "markdown",
   "id": "9f39f8b6",
   "metadata": {},
   "source": [
    "Since the step size is negative, the start argument\n",
    "must be larger than the stop argument.  \n",
    "Note that the interpretation  of the start-stop \n",
    "values is the same for ranges with negative\n",
    "step values: The range starts\n",
    "at the start value and steps up to but does not include the\n",
    "stop value."
   ]
  },
  {
   "cell_type": "markdown",
   "id": "8ff23fdc",
   "metadata": {},
   "source": [
    "So to get our countdown to reach the \"blast off\" value, we must do:"
   ]
  },
  {
   "cell_type": "code",
   "execution_count": 11,
   "id": "432ac3de",
   "metadata": {
    "colab": {
     "base_uri": "https://localhost:8080/",
     "height": 34
    },
    "colab_type": "code",
    "id": "E3TggyXF0FI5",
    "outputId": "a5d6e762-d4cb-45f0-a8ed-a9a40914d8df"
   },
   "outputs": [
    {
     "data": {
      "text/plain": [
       "[10, 9, 8, 7, 6, 5, 4, 3, 2, 1, 0]"
      ]
     },
     "execution_count": 11,
     "metadata": {
      "tags": []
     },
     "output_type": "execute_result"
    }
   ],
   "source": [
    "list(range(10,-1,-1))"
   ]
  },
  {
   "cell_type": "markdown",
   "id": "39a71ba0",
   "metadata": {},
   "source": [
    "The three parameters of a `range`  (`start`, `stop` and `step size`)\n",
    "should be generating a feeling of deja vu.  These are also the\n",
    "three parameters of a Python splice; `start`, `stop` and `step size`\n",
    "all have the same meaning in splices as they do in ranges."
   ]
  },
  {
   "cell_type": "code",
   "execution_count": 57,
   "id": "58540b5a",
   "metadata": {
    "colab": {
     "base_uri": "https://localhost:8080/",
     "height": 51
    },
    "colab_type": "code",
    "id": "_xnv7_8l0FI9",
    "outputId": "d8c6ba66-2143-4edf-b01d-7b56348ddc66"
   },
   "outputs": [
    {
     "name": "stdout",
     "output_type": "stream",
     "text": [
      "[0, 1, 2, 3, 4, 5, 6, 7, 8, 9]\n",
      "[2, 4, 6]\n",
      "[2, 4, 6]\n"
     ]
    }
   ],
   "source": [
    "L = list(range(10))\n",
    "print(L)\n",
    "print(L[2:8:2])\n",
    "print(list(range(2,8,2)))"
   ]
  },
  {
   "cell_type": "markdown",
   "id": "e425f641",
   "metadata": {},
   "source": [
    "Negative step sizes are allowed with splices.  \n",
    "\n",
    "The chief difference is that start, stop and step size are\n",
    "all optional, and all have quite reasonable defaults.\n",
    "\n",
    "This we can get a copy of a list as follows:"
   ]
  },
  {
   "cell_type": "code",
   "execution_count": 20,
   "id": "22b3c092",
   "metadata": {},
   "outputs": [
    {
     "data": {
      "text/plain": [
       "['a', 'x', 'c', 'e']"
      ]
     },
     "execution_count": 20,
     "metadata": {},
     "output_type": "execute_result"
    }
   ],
   "source": [
    "L[:]"
   ]
  },
  {
   "cell_type": "markdown",
   "id": "90964de2",
   "metadata": {},
   "source": [
    "Which is the same as:"
   ]
  },
  {
   "cell_type": "code",
   "execution_count": 21,
   "id": "1756ea5b",
   "metadata": {},
   "outputs": [
    {
     "data": {
      "text/plain": [
       "['a', 'x', 'c', 'e']"
      ]
     },
     "execution_count": 21,
     "metadata": {},
     "output_type": "execute_result"
    }
   ],
   "source": [
    "L[0:4]"
   ]
  },
  {
   "cell_type": "markdown",
   "id": "27365752",
   "metadata": {},
   "source": [
    "And we can reverse a list as follows."
   ]
  },
  {
   "cell_type": "code",
   "execution_count": 13,
   "id": "9285e139",
   "metadata": {},
   "outputs": [
    {
     "data": {
      "text/plain": [
       "['e', 'c', 'x', 'a']"
      ]
     },
     "execution_count": 13,
     "metadata": {},
     "output_type": "execute_result"
    }
   ],
   "source": [
    "L[::-1]"
   ]
  },
  {
   "cell_type": "markdown",
   "id": "3d07376a",
   "metadata": {},
   "source": [
    "Ranges, perhaps suprisingly, are subscriptable,\n",
    "have lengths and support the `in` operator.  This\n",
    "makes them full-fledged containers."
   ]
  },
  {
   "cell_type": "code",
   "execution_count": 37,
   "id": "e2c5dd8c",
   "metadata": {},
   "outputs": [
    {
     "data": {
      "text/plain": [
       "19"
      ]
     },
     "execution_count": 37,
     "metadata": {},
     "output_type": "execute_result"
    }
   ],
   "source": [
    "len(R)"
   ]
  },
  {
   "cell_type": "code",
   "execution_count": 33,
   "id": "9a24b464",
   "metadata": {},
   "outputs": [
    {
     "data": {
      "text/plain": [
       "(True, False)"
      ]
     },
     "execution_count": 33,
     "metadata": {},
     "output_type": "execute_result"
    }
   ],
   "source": [
    "25 in R, 26 in R"
   ]
  },
  {
   "cell_type": "markdown",
   "id": "6f2823f0",
   "metadata": {},
   "source": [
    "They also support subscripting by number, making them them sequences."
   ]
  },
  {
   "cell_type": "code",
   "execution_count": 29,
   "id": "b7a42c1b",
   "metadata": {},
   "outputs": [
    {
     "data": {
      "text/plain": [
       "20"
      ]
     },
     "execution_count": 29,
     "metadata": {},
     "output_type": "execute_result"
    }
   ],
   "source": [
    "R = range(5,100,5)\n",
    "R[3]"
   ]
  },
  {
   "cell_type": "code",
   "execution_count": 30,
   "id": "e6b17933",
   "metadata": {},
   "outputs": [
    {
     "data": {
      "text/plain": [
       "85"
      ]
     },
     "execution_count": 30,
     "metadata": {},
     "output_type": "execute_result"
    }
   ],
   "source": [
    "R[-3]"
   ]
  },
  {
   "cell_type": "markdown",
   "id": "499e6c81",
   "metadata": {},
   "source": [
    "When spliced, they produce a smaller range:"
   ]
  },
  {
   "cell_type": "code",
   "execution_count": 31,
   "id": "67bc3fba",
   "metadata": {},
   "outputs": [
    {
     "data": {
      "text/plain": [
       "range(20, 35, 5)"
      ]
     },
     "execution_count": 31,
     "metadata": {},
     "output_type": "execute_result"
    }
   ],
   "source": [
    "R[3:6]"
   ]
  },
  {
   "cell_type": "markdown",
   "id": "d6337a5c",
   "metadata": {},
   "source": [
    "### Other sequence iterables"
   ]
  },
  {
   "cell_type": "markdown",
   "id": "4a302832",
   "metadata": {},
   "source": [
    "Another Python builtin that creates a sequence iterable \n",
    "is `enumerate`, which we have put to use in various code-writing\n",
    "tasks.  The `enumerate` function applies to a sequence and \n",
    "gives us an iterable pairing each element with its index:"
   ]
  },
  {
   "cell_type": "code",
   "execution_count": 5,
   "id": "2beef242",
   "metadata": {},
   "outputs": [
    {
     "name": "stdout",
     "output_type": "stream",
     "text": [
      "0 a\n",
      "1 x\n",
      "2 c\n",
      "3 e\n"
     ]
    }
   ],
   "source": [
    "L = ['a','x','c','e']\n",
    "for (index,elem) in enumerate(L):\n",
    "    print(index, elem)"
   ]
  },
  {
   "cell_type": "markdown",
   "id": "5f73e87c",
   "metadata": {},
   "source": [
    "Alhough it produces pairs and takes a sequence as its \n",
    "sole argument, the behavior of `enumerate`  is very much\n",
    "in the same spirit as `range`.  It produces a new type\n",
    "of object which does not bring its \"contents\" into memory\n",
    "until asked to:"
   ]
  },
  {
   "cell_type": "code",
   "execution_count": 24,
   "id": "0e2891c7",
   "metadata": {},
   "outputs": [
    {
     "name": "stdout",
     "output_type": "stream",
     "text": [
      "<enumerate object at 0x7fcaa0238ac0>\n"
     ]
    },
    {
     "data": {
      "text/plain": [
       "enumerate"
      ]
     },
     "execution_count": 24,
     "metadata": {},
     "output_type": "execute_result"
    }
   ],
   "source": [
    "E = enumerate(L)\n",
    "print(E)\n",
    "type(E)"
   ]
  },
  {
   "cell_type": "markdown",
   "id": "1400d3de",
   "metadata": {},
   "source": [
    "Using `list` once again forces Python to spell out the \n",
    "enumerate pairs:"
   ]
  },
  {
   "cell_type": "code",
   "execution_count": 23,
   "id": "eb1fd0a6",
   "metadata": {
    "colab": {
     "base_uri": "https://localhost:8080/",
     "height": 34
    },
    "colab_type": "code",
    "id": "KP6zZAmN0FI_",
    "outputId": "b6908f0d-20c8-446c-973f-f71091c9f041"
   },
   "outputs": [
    {
     "data": {
      "text/plain": [
       "[(0, 'a'), (1, 'x'), (2, 'c'), (3, 'e')]"
      ]
     },
     "execution_count": 23,
     "metadata": {},
     "output_type": "execute_result"
    }
   ],
   "source": [
    "list(E)"
   ]
  },
  {
   "cell_type": "markdown",
   "id": "7dcde905",
   "metadata": {},
   "source": [
    "Unlike ranges, enumerate instances are not subscriptable."
   ]
  },
  {
   "cell_type": "code",
   "execution_count": 26,
   "id": "df0172e8",
   "metadata": {},
   "outputs": [
    {
     "ename": "TypeError",
     "evalue": "'enumerate' object is not subscriptable",
     "output_type": "error",
     "traceback": [
      "\u001b[0;31m---------------------------------------------------------------------------\u001b[0m",
      "\u001b[0;31mTypeError\u001b[0m                                 Traceback (most recent call last)",
      "Input \u001b[0;32mIn [26]\u001b[0m, in \u001b[0;36m<cell line: 1>\u001b[0;34m()\u001b[0m\n\u001b[0;32m----> 1\u001b[0m \u001b[43mE\u001b[49m\u001b[43m[\u001b[49m\u001b[38;5;241;43m2\u001b[39;49m\u001b[43m]\u001b[49m\n",
      "\u001b[0;31mTypeError\u001b[0m: 'enumerate' object is not subscriptable"
     ]
    }
   ],
   "source": [
    "E[2]"
   ]
  },
  {
   "cell_type": "markdown",
   "id": "a0223431",
   "metadata": {},
   "source": [
    "They do not have lengths"
   ]
  },
  {
   "cell_type": "code",
   "execution_count": 35,
   "id": "55d90f67",
   "metadata": {
    "scrolled": true
   },
   "outputs": [
    {
     "ename": "TypeError",
     "evalue": "object of type 'enumerate' has no len()",
     "output_type": "error",
     "traceback": [
      "\u001b[0;31m---------------------------------------------------------------------------\u001b[0m",
      "\u001b[0;31mTypeError\u001b[0m                                 Traceback (most recent call last)",
      "Input \u001b[0;32mIn [35]\u001b[0m, in \u001b[0;36m<cell line: 1>\u001b[0;34m()\u001b[0m\n\u001b[0;32m----> 1\u001b[0m \u001b[38;5;28;43mlen\u001b[39;49m\u001b[43m(\u001b[49m\u001b[43mE\u001b[49m\u001b[43m)\u001b[49m\n",
      "\u001b[0;31mTypeError\u001b[0m: object of type 'enumerate' has no len()"
     ]
    }
   ],
   "source": [
    "len(E)"
   ]
  },
  {
   "cell_type": "markdown",
   "id": "39ec466a",
   "metadata": {},
   "source": [
    "Thus `enumerate` instances are not containers."
   ]
  },
  {
   "cell_type": "markdown",
   "id": "e6d19133",
   "metadata": {},
   "source": [
    "But they do support `in`!\n",
    "\n",
    "(Supporting `in` really boils down to supporting iteration\n",
    "and `==`)."
   ]
  },
  {
   "cell_type": "code",
   "execution_count": 36,
   "id": "7c38a4ea",
   "metadata": {},
   "outputs": [
    {
     "data": {
      "text/plain": [
       "True"
      ]
     },
     "execution_count": 36,
     "metadata": {},
     "output_type": "execute_result"
    }
   ],
   "source": [
    "(0, 'a') in E"
   ]
  },
  {
   "cell_type": "markdown",
   "id": "dc81d70b",
   "metadata": {},
   "source": [
    "Let's summarize what we've learned about iterables, conatiners,\n",
    "and sequences.\n",
    "\n",
    "1.  Iterables can be iterated through.  Two examples of what that means:\n",
    "\n",
    "      a.  They can be looped through element by element (for example, in a `for` loop).\n",
    "      \n",
    "      b.  They support the `in` operator.\n",
    "\n",
    "    We saw that `ranges` and `enumerate` instances were both \n",
    "    iterables.\n",
    "2.  Containers are iterables that have lengths.  We saw that\n",
    "    ranges were containers and enumerate instances were not.\n",
    "3.  Sequences are containers that support indexing by position (numerical \n",
    "    indexes).  We saw that `ranges` were sequences and `enumerate`  instances were not."
   ]
  },
  {
   "cell_type": "markdown",
   "id": "a22d49f3",
   "metadata": {},
   "source": [
    "## File streams: Iterators"
   ]
  },
  {
   "cell_type": "markdown",
   "id": "cdd7ea3d",
   "metadata": {},
   "source": [
    "We have seen that `enumerate` instances are iterables\n",
    "but they are not containers; they have no lengths.\n",
    "Another nice example of an iterable that is not a container is\n",
    "a file stream. \n",
    "\n",
    "File streams are communication channels\n",
    "that can produce the contents of\n",
    "a file line by line.\n",
    "\n",
    "We will see that file streams are very\n",
    "similar to enumerate instances, but they have a property\n",
    "that enumerate instances do not have.  They have a notion\n",
    "of **state**.  This goes along with the idea of being\n",
    "an exhaustible resource.  You cannot loop through a file\n",
    "stream multiple times.\n",
    "\n"
   ]
  },
  {
   "cell_type": "markdown",
   "id": "7707b08c",
   "metadata": {},
   "source": [
    "We create a file with known contents\n",
    "\n",
    "```\n",
    "a\n",
    "b\n",
    "c\n",
    "d\n",
    "```"
   ]
  },
  {
   "cell_type": "code",
   "execution_count": 1,
   "id": "2c9a66e4",
   "metadata": {},
   "outputs": [],
   "source": [
    "x = 'abcd'\n",
    "with open('alph.txt','w') as ofh:\n",
    "    for i in range(len(x)):\n",
    "        print(x[i],file=ofh)"
   ]
  },
  {
   "cell_type": "markdown",
   "id": "3052529a",
   "metadata": {},
   "source": [
    "We now iterate partially through its contents using the \n",
    "`in` operator;  we then iterate through the **rest**\n",
    "of its contents using a `for` loop."
   ]
  },
  {
   "cell_type": "code",
   "execution_count": 2,
   "id": "0321d73b",
   "metadata": {},
   "outputs": [
    {
     "name": "stdout",
     "output_type": "stream",
     "text": [
      "True\n",
      "c\n",
      "\n",
      "d\n",
      "\n"
     ]
    }
   ],
   "source": [
    "with open('alph.txt','r') as ifh:\n",
    "    print('b\\n' in ifh)\n",
    "    # Now iterate the rest of the way.\n",
    "    for x in ifh:\n",
    "        print(x)"
   ]
  },
  {
   "cell_type": "markdown",
   "id": "ee8272d7",
   "metadata": {},
   "source": [
    "Using the `in` in line 2 iterates through the file up\n",
    "through the line containing `'b'`. Finding `'b'` in\n",
    "the stream stops the iteration.\n",
    "\n",
    "This leaves us in a **state** where the next element in\n",
    "the iterator is `'c`'.  Hence when we loop through `ifh`\n",
    "in line 4 and 5, the iteration starts with `'c'`.\n",
    "\n",
    "So the file stream `ifh` internally preserves a state;\n",
    "that is, it remembers what line in the file comes next.\n",
    "Internally, this is implemeneted with a `__next__` method.\n",
    "Each time the file stream is iterated on it calls its `__next__`\n",
    "method, which produces the next line in the file. \n",
    "In the cell above, T\n",
    "the first two iterations are executed in the search for\n",
    "`'b'`.  By\n",
    "the time we get to the `for`-loop in lines 4 and 5, \n",
    "the `__next__` method finds the line containing `'c'`.\n",
    "\n",
    "With these examples,\n",
    "we have shown that file streams are **iterators**.\n",
    "An iterator is  a Python object which \n",
    "implements the **iterator protocol**, which means\n",
    "having an `__iter__` method and a `__next__` method.\n",
    "Since it implements an `__iter__` method,\n",
    "an iterator by definition is an iterable.\n",
    "What separates iterators from other iterables\n",
    "is the `__next__` method, the method which\n",
    "returns the next element in the iteration.\n",
    "This is what endows iterators with a state"
   ]
  },
  {
   "cell_type": "code",
   "execution_count": null,
   "id": "fb67418d",
   "metadata": {},
   "outputs": [],
   "source": []
  }
 ],
 "metadata": {
  "kernelspec": {
   "display_name": "Python 3 (ipykernel)",
   "language": "python",
   "name": "python3"
  },
  "language_info": {
   "codemirror_mode": {
    "name": "ipython",
    "version": 3
   },
   "file_extension": ".py",
   "mimetype": "text/x-python",
   "name": "python",
   "nbconvert_exporter": "python",
   "pygments_lexer": "ipython3",
   "version": "3.10.6"
  }
 },
 "nbformat": 4,
 "nbformat_minor": 5
}
