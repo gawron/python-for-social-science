{
 "cells": [
  {
   "cell_type": "markdown",
   "id": "516623e4",
   "metadata": {},
   "source": [
    "# Numpy Exercises\n",
    "\n",
    "Most of these are borrowed without modification from [Nicholas Rougier's github repo.](https://github.com/rougier/numpy-100/tree/master) \n",
    "\n",
    "In all the exercises, the term **vector** means a 1-dimensional `numpy` array.\n",
    "\n",
    "One of the goals of these exercises is to give you a chance to practice what you know.  Another is to introduce you to some basic `numpy` tools. The exercises are liberally sprinkled with hints.  When the hint mentions a `numpy` function or method you've never heard of, you can use `np.info` (illustrated in the two cells below) to learn more."
   ]
  },
  {
   "cell_type": "code",
   "execution_count": 165,
   "id": "d6fc9a96",
   "metadata": {},
   "outputs": [
    {
     "name": "stdout",
     "output_type": "stream",
     "text": [
      " ones(shape, dtype=None, order='C', *, like=None)\n",
      "\n",
      "Return a new array of given shape and type, filled with ones.\n",
      "\n",
      "Parameters\n",
      "----------\n",
      "shape : int or sequence of ints\n",
      "    Shape of the new array, e.g., ``(2, 3)`` or ``2``.\n",
      "dtype : data-type, optional\n",
      "    The desired data-type for the array, e.g., `numpy.int8`.  Default is\n",
      "    `numpy.float64`.\n",
      "order : {'C', 'F'}, optional, default: C\n",
      "    Whether to store multi-dimensional data in row-major\n",
      "    (C-style) or column-major (Fortran-style) order in\n",
      "    memory.\n",
      "like : array_like, optional\n",
      "    Reference object to allow the creation of arrays which are not\n",
      "    NumPy arrays. If an array-like passed in as ``like`` supports\n",
      "    the ``__array_function__`` protocol, the result will be defined\n",
      "    by it. In this case, it ensures the creation of an array object\n",
      "    compatible with that passed in via this argument.\n",
      "\n",
      "    .. versionadded:: 1.20.0\n",
      "\n",
      "Returns\n",
      "-------\n",
      "out : ndarray\n",
      "    Array of ones with the given shape, dtype, and order.\n",
      "\n",
      "See Also\n",
      "--------\n",
      "ones_like : Return an array of ones with shape and type of input.\n",
      "empty : Return a new uninitialized array.\n",
      "zeros : Return a new array setting values to zero.\n",
      "full : Return a new array of given shape filled with value.\n",
      "\n",
      "\n",
      "Examples\n",
      "--------\n",
      ">>> np.ones(5)\n",
      "array([1., 1., 1., 1., 1.])\n",
      "\n",
      ">>> np.ones((5,), dtype=int)\n",
      "array([1, 1, 1, 1, 1])\n",
      "\n",
      ">>> np.ones((2, 1))\n",
      "array([[1.],\n",
      "       [1.]])\n",
      "\n",
      ">>> s = (2,2)\n",
      ">>> np.ones(s)\n",
      "array([[1.,  1.],\n",
      "       [1.,  1.]])\n"
     ]
    }
   ],
   "source": [
    "np.info(np.ones)"
   ]
  },
  {
   "cell_type": "code",
   "execution_count": 163,
   "id": "b9a195a5",
   "metadata": {},
   "outputs": [
    {
     "name": "stdout",
     "output_type": "stream",
     "text": [
      "a.sort(axis=-1, kind=None, order=None)\n",
      "\n",
      "Sort an array in-place. Refer to `numpy.sort` for full documentation.\n",
      "\n",
      "Parameters\n",
      "----------\n",
      "axis : int, optional\n",
      "    Axis along which to sort. Default is -1, which means sort along the\n",
      "    last axis.\n",
      "kind : {'quicksort', 'mergesort', 'heapsort', 'stable'}, optional\n",
      "    Sorting algorithm. The default is 'quicksort'. Note that both 'stable'\n",
      "    and 'mergesort' use timsort under the covers and, in general, the\n",
      "    actual implementation will vary with datatype. The 'mergesort' option\n",
      "    is retained for backwards compatibility.\n",
      "\n",
      "    .. versionchanged:: 1.15.0\n",
      "       The 'stable' option was added.\n",
      "\n",
      "order : str or list of str, optional\n",
      "    When `a` is an array with fields defined, this argument specifies\n",
      "    which fields to compare first, second, etc.  A single field can\n",
      "    be specified as a string, and not all fields need be specified,\n",
      "    but unspecified fields will still be used, in the order in which\n",
      "    they come up in the dtype, to break ties.\n",
      "\n",
      "See Also\n",
      "--------\n",
      "numpy.sort : Return a sorted copy of an array.\n",
      "numpy.argsort : Indirect sort.\n",
      "numpy.lexsort : Indirect stable sort on multiple keys.\n",
      "numpy.searchsorted : Find elements in sorted array.\n",
      "numpy.partition: Partial sort.\n",
      "\n",
      "Notes\n",
      "-----\n",
      "See `numpy.sort` for notes on the different sorting algorithms.\n",
      "\n",
      "Examples\n",
      "--------\n",
      ">>> a = np.array([[1,4], [3,1]])\n",
      ">>> a.sort(axis=1)\n",
      ">>> a\n",
      "array([[1, 4],\n",
      "       [1, 3]])\n",
      ">>> a.sort(axis=0)\n",
      ">>> a\n",
      "array([[1, 3],\n",
      "       [1, 4]])\n",
      "\n",
      "Use the `order` keyword to specify a field to use when sorting a\n",
      "structured array:\n",
      "\n",
      ">>> a = np.array([('a', 2), ('c', 1)], dtype=[('x', 'S1'), ('y', int)])\n",
      ">>> a.sort(order='y')\n",
      ">>> a\n",
      "array([(b'c', 1), (b'a', 2)],\n",
      "      dtype=[('x', 'S1'), ('y', '<i8')])\n"
     ]
    }
   ],
   "source": [
    "A = np.array([1,2])\n",
    "np.info(A.sort)"
   ]
  },
  {
   "cell_type": "markdown",
   "id": "2da414ac",
   "metadata": {},
   "source": [
    "## Exc 15\n",
    "\n",
    "Create a 2-Dimensional array with 1s on the border and 0s inside.  Hint below if desired."
   ]
  },
  {
   "cell_type": "code",
   "execution_count": null,
   "id": "f9b61667",
   "metadata": {},
   "outputs": [],
   "source": []
  },
  {
   "cell_type": "code",
   "execution_count": null,
   "id": "4a8ea846",
   "metadata": {},
   "outputs": [],
   "source": []
  },
  {
   "cell_type": "code",
   "execution_count": null,
   "id": "bb3318f2",
   "metadata": {},
   "outputs": [],
   "source": []
  },
  {
   "cell_type": "code",
   "execution_count": null,
   "id": "7776e4f7",
   "metadata": {},
   "outputs": [],
   "source": []
  },
  {
   "cell_type": "code",
   "execution_count": null,
   "id": "948fbbab",
   "metadata": {},
   "outputs": [],
   "source": []
  },
  {
   "cell_type": "code",
   "execution_count": null,
   "id": "d04287b3",
   "metadata": {},
   "outputs": [],
   "source": []
  },
  {
   "cell_type": "code",
   "execution_count": null,
   "id": "4338732f",
   "metadata": {},
   "outputs": [],
   "source": []
  },
  {
   "cell_type": "code",
   "execution_count": null,
   "id": "fed5c1f8",
   "metadata": {},
   "outputs": [],
   "source": []
  },
  {
   "cell_type": "code",
   "execution_count": null,
   "id": "039ad66c",
   "metadata": {},
   "outputs": [],
   "source": []
  },
  {
   "cell_type": "code",
   "execution_count": null,
   "id": "cf10f2cc",
   "metadata": {},
   "outputs": [],
   "source": []
  },
  {
   "cell_type": "code",
   "execution_count": null,
   "id": "8da2db3c",
   "metadata": {},
   "outputs": [],
   "source": []
  },
  {
   "cell_type": "code",
   "execution_count": null,
   "id": "54437073",
   "metadata": {},
   "outputs": [],
   "source": []
  },
  {
   "cell_type": "code",
   "execution_count": null,
   "id": "a7a2e7a5",
   "metadata": {},
   "outputs": [],
   "source": []
  },
  {
   "cell_type": "markdown",
   "id": "0b649d7f",
   "metadata": {},
   "source": [
    "Use a slice assignment."
   ]
  },
  {
   "cell_type": "markdown",
   "id": "093ed0a1",
   "metadata": {},
   "source": [
    "## Exc 25\n",
    "\n",
    "Given a 1D array, negate all elements which are between 3 and 8, in place.  Hint below if desired."
   ]
  },
  {
   "cell_type": "code",
   "execution_count": null,
   "id": "6af08af5",
   "metadata": {},
   "outputs": [],
   "source": []
  },
  {
   "cell_type": "code",
   "execution_count": null,
   "id": "a84d2501",
   "metadata": {},
   "outputs": [],
   "source": []
  },
  {
   "cell_type": "code",
   "execution_count": null,
   "id": "db230b84",
   "metadata": {},
   "outputs": [],
   "source": []
  },
  {
   "cell_type": "code",
   "execution_count": null,
   "id": "3bce37a9",
   "metadata": {},
   "outputs": [],
   "source": []
  },
  {
   "cell_type": "code",
   "execution_count": null,
   "id": "a303b2fe",
   "metadata": {},
   "outputs": [],
   "source": []
  },
  {
   "cell_type": "code",
   "execution_count": null,
   "id": "3166f274",
   "metadata": {},
   "outputs": [],
   "source": []
  },
  {
   "cell_type": "code",
   "execution_count": null,
   "id": "ff6677ef",
   "metadata": {},
   "outputs": [],
   "source": []
  },
  {
   "cell_type": "code",
   "execution_count": null,
   "id": "986ad960",
   "metadata": {},
   "outputs": [],
   "source": []
  },
  {
   "cell_type": "code",
   "execution_count": null,
   "id": "6df7d73e",
   "metadata": {},
   "outputs": [],
   "source": []
  },
  {
   "cell_type": "code",
   "execution_count": null,
   "id": "26183199",
   "metadata": {},
   "outputs": [],
   "source": []
  },
  {
   "cell_type": "code",
   "execution_count": null,
   "id": "d3f1b2f4",
   "metadata": {},
   "outputs": [],
   "source": []
  },
  {
   "cell_type": "code",
   "execution_count": null,
   "id": "813867a8",
   "metadata": {},
   "outputs": [],
   "source": []
  },
  {
   "cell_type": "markdown",
   "id": "5ba18668",
   "metadata": {},
   "source": [
    "Hint: You can do this with a Boolean mask and a `*=` assignment."
   ]
  },
  {
   "cell_type": "markdown",
   "id": "c00578a8",
   "metadata": {},
   "source": [
    "## Exc 36"
   ]
  },
  {
   "cell_type": "markdown",
   "id": "3b0b8007",
   "metadata": {},
   "source": [
    "Extract the integer part of a random array of positive numbers.  Hint: Many ways.  `np.trunc`, `np.floot`, `dtype=int`.  Here is a random array."
   ]
  },
  {
   "cell_type": "code",
   "execution_count": 1,
   "id": "a0852eee",
   "metadata": {},
   "outputs": [],
   "source": [
    "import numpy as np\n",
    "R = 100*np.random.sample(100)"
   ]
  },
  {
   "cell_type": "markdown",
   "id": "91fd9ee6",
   "metadata": {},
   "source": [
    "## Exc 37"
   ]
  },
  {
   "cell_type": "markdown",
   "id": "69374ac2",
   "metadata": {},
   "source": [
    "Create a 5x5 matrix with row values ranging from 0 to 4.  Hint Use broadcasting.  Note there's more than one way to use broadcasting to cast this done."
   ]
  },
  {
   "cell_type": "markdown",
   "id": "609249f3",
   "metadata": {},
   "source": [
    "## Exc 38\n",
    "\n",
    "Consider a generator function that generates 10 integers and use it to build an array.  Hint:  Use `np.fromiter`."
   ]
  },
  {
   "cell_type": "markdown",
   "id": "c559a574",
   "metadata": {},
   "source": [
    "## Exc 39"
   ]
  },
  {
   "cell_type": "markdown",
   "id": "7f82374e",
   "metadata": {},
   "source": [
    "Create a vector of size 10 with values ranging from 0 to 1, both excluded.  Use `np.linspace`."
   ]
  },
  {
   "cell_type": "markdown",
   "id": "0392ccbd",
   "metadata": {},
   "source": [
    "## Exc 40"
   ]
  },
  {
   "cell_type": "markdown",
   "id": "559e6928",
   "metadata": {},
   "source": [
    "Consider two random array A and B, check if they are equal "
   ]
  },
  {
   "cell_type": "code",
   "execution_count": 109,
   "id": "0d23f06d",
   "metadata": {},
   "outputs": [
    {
     "data": {
      "text/plain": [
       "False"
      ]
     },
     "execution_count": 109,
     "metadata": {},
     "output_type": "execute_result"
    }
   ],
   "source": [
    "import numpy as np\n",
    "A,B = np.random.sample(100),np.random.sample(100)\n",
    "np.allclose(A,B)"
   ]
  },
  {
   "cell_type": "markdown",
   "id": "787f3fcd",
   "metadata": {},
   "source": [
    "## Exc 43"
   ]
  },
  {
   "cell_type": "markdown",
   "id": "83e44236",
   "metadata": {},
   "source": [
    "Make an array immutable (read-only). Hint: `arr.flags.writeable`."
   ]
  },
  {
   "cell_type": "markdown",
   "id": "126f7742",
   "metadata": {},
   "source": [
    "## Exc 44\n",
    "\n",
    "Consider a random 10x2 matrix representing cartesian coordinates, convert them to polar coordinates.  Hint.  `np.arctan2`, `np.linalg.norm`.   To be able to correctly handle\n",
    "the tangents for tangents not in the first quadrant, we want `np.arctan2`,\n",
    "which takes Y and X as separate arguments.  For example $(-\\sqrt{3}/2,\\, -.5)$\n",
    "has a different $\\theta$  than  $(\\sqrt{3}/2,\\, .5)$, but the slope, $y/x$,\n",
    "is the same."
   ]
  },
  {
   "cell_type": "markdown",
   "id": "dc4f5d80",
   "metadata": {},
   "source": [
    "Here is a random 10x2 matrix"
   ]
  },
  {
   "cell_type": "code",
   "execution_count": 100,
   "id": "64f91d82",
   "metadata": {},
   "outputs": [
    {
     "data": {
      "text/plain": [
       "array([[-0.97202963, -0.31012192],\n",
       "       [-0.2159248 ,  0.22287911],\n",
       "       [ 0.55732353, -0.69451597],\n",
       "       [-0.18963697,  0.29884902],\n",
       "       [-0.46348462,  0.39291727],\n",
       "       [-0.50974605,  0.25067699],\n",
       "       [-0.24234923, -0.28105347],\n",
       "       [ 0.5150221 ,  0.84397634],\n",
       "       [-0.95862384, -0.98905502],\n",
       "       [-0.44717145,  0.12702813]])"
      ]
     },
     "execution_count": 100,
     "metadata": {},
     "output_type": "execute_result"
    }
   ],
   "source": [
    "#A = np.random.random((10,2))\n",
    "# Sample both positive and negative values x,y coords\n",
    "A = np.array([2*(random.random() -.5) for _ in range (20)]).reshape(10,2)\n",
    "A"
   ]
  },
  {
   "cell_type": "markdown",
   "id": "38f57363",
   "metadata": {},
   "source": [
    "## Exc 45"
   ]
  },
  {
   "cell_type": "markdown",
   "id": "03b3a699",
   "metadata": {},
   "source": [
    "Create random vector of size 10 and replace the maximum value by 0.  Hint `R.argmax()`.\n",
    "\n",
    "Here is a random vector."
   ]
  },
  {
   "cell_type": "code",
   "execution_count": 2,
   "id": "8724f0ef",
   "metadata": {},
   "outputs": [
    {
     "name": "stdout",
     "output_type": "stream",
     "text": [
      "[0.54205813 0.90939874 0.53340163 0.09076605 0.59281233 0.60134654\n",
      " 0.60339123 0.05605168 0.48740729 0.43871481]\n"
     ]
    }
   ],
   "source": [
    "R =  np.random.sample((10,))\n",
    "\n",
    "print(R)\n"
   ]
  },
  {
   "cell_type": "markdown",
   "id": "9ee00e8d",
   "metadata": {},
   "source": [
    "## Exc 46"
   ]
  },
  {
   "cell_type": "markdown",
   "id": "72a2b487",
   "metadata": {},
   "source": [
    "Create a structured array with x and y coordinates covering the [0,1]x[0,1] area . Hint: `np.meshgrid`."
   ]
  },
  {
   "cell_type": "code",
   "execution_count": 149,
   "id": "67272c69",
   "metadata": {},
   "outputs": [],
   "source": [
    "x = np.linspace(0, 1, 100)\n",
    "y = np.linspace(0, 1, 100)\n",
    "#xv,yv shape (100,100)\n",
    "xv, yv = np.meshgrid(x, y)"
   ]
  },
  {
   "cell_type": "code",
   "execution_count": 157,
   "id": "134da8c6",
   "metadata": {},
   "outputs": [
    {
     "data": {
      "text/plain": [
       "(100, 100, 2)"
      ]
     },
     "execution_count": 157,
     "metadata": {},
     "output_type": "execute_result"
    }
   ],
   "source": [
    "#shape (100, 100, 2)\n",
    "grid = np.concatenate([xv.reshape((100,100,1)),yv.reshape((100,100,1))],axis=2)"
   ]
  },
  {
   "cell_type": "markdown",
   "id": "249e19b8",
   "metadata": {},
   "source": [
    "## Exc 89.\n",
    "\n",
    "The 3 largest values of the array `R` defined in the next cell, computed as an array of size 3.    Hint `np.sort` or `np.argsort`. Call your answer array `ans89`.  Verify your answer by using a Boolean mask to determine how many elements of `R` are larger than or equal to the smallest element of `ans89`."
   ]
  },
  {
   "cell_type": "code",
   "execution_count": 371,
   "id": "4cb6e93c",
   "metadata": {},
   "outputs": [
    {
     "data": {
      "text/plain": [
       "array([96.5012241 , 96.8786705 , 97.42361142])"
      ]
     },
     "execution_count": 371,
     "metadata": {},
     "output_type": "execute_result"
    }
   ],
   "source": [
    "R = 100*np.random.sample((100,))\n",
    "\n",
    "ans89 = R[R.argsort()[-3:]]\n",
    "ans89"
   ]
  },
  {
   "cell_type": "markdown",
   "id": "ff325d69",
   "metadata": {},
   "source": [
    "Verifying:"
   ]
  },
  {
   "cell_type": "code",
   "execution_count": 372,
   "id": "548fc3cc",
   "metadata": {},
   "outputs": [
    {
     "data": {
      "text/plain": [
       "array([96.8786705 , 96.5012241 , 97.42361142])"
      ]
     },
     "execution_count": 372,
     "metadata": {},
     "output_type": "execute_result"
    }
   ],
   "source": [
    "R[R>=ans89[0]]"
   ]
  },
  {
   "cell_type": "code",
   "execution_count": null,
   "id": "18277d7d",
   "metadata": {},
   "outputs": [],
   "source": [
    "R = 100*np.random.sample((100,))\n",
    "\n",
    "ans89 = np.sort(R)"
   ]
  },
  {
   "cell_type": "code",
   "execution_count": 150,
   "id": "ba5150a1",
   "metadata": {},
   "outputs": [
    {
     "data": {
      "text/plain": [
       "array([94.54420195, 95.12663401, 98.90625799])"
      ]
     },
     "execution_count": 150,
     "metadata": {},
     "output_type": "execute_result"
    }
   ],
   "source": [
    "ans89[-3:]"
   ]
  },
  {
   "cell_type": "markdown",
   "id": "78becc4c",
   "metadata": {},
   "source": [
    "## Exc 50"
   ]
  },
  {
   "cell_type": "markdown",
   "id": "ab6ba64b",
   "metadata": {},
   "source": [
    "How do you find the closest value (to a given scalar) in a vector?  In particular, find the closest value to 12 in the vector `R` defined below.  Write a function that does this for any `x` and any vector any vector `v`.\n",
    "\n",
    "Hint: `np.abs` gives the absolute value.  It is vectorized.  Look up what a vectorized function is if you don't know this term."
   ]
  },
  {
   "cell_type": "code",
   "execution_count": 3,
   "id": "669dc285",
   "metadata": {},
   "outputs": [],
   "source": [
    "R = 100*np.random.sample((100,))\n",
    "scalar = 12"
   ]
  },
  {
   "cell_type": "markdown",
   "id": "855b48a5",
   "metadata": {},
   "source": [
    "## Exc 55\n",
    "\n",
    "What is the equivalent of enumerate for numpy arrays? Demonstrate usage in a loop.   Hint: `np.ndenumerate`.   Or use `np.ndindex`"
   ]
  },
  {
   "cell_type": "markdown",
   "id": "70f1fa2e",
   "metadata": {},
   "source": [
    "## Exc 59\n",
    "\n",
    "Sort an array by the  8th column. Hint below if desired."
   ]
  },
  {
   "cell_type": "code",
   "execution_count": 10,
   "id": "d2e24e59",
   "metadata": {},
   "outputs": [
    {
     "data": {
      "text/plain": [
       "array([49, 45, 32,  3,  0, 81, 62, 47, 70, 62, 67, 25, 35, 68, 24, 30, 29,\n",
       "       59,  8, 29, 52, 81, 29, 27, 25, 46, 58, 82, 18, 56, 83, 34, 13, 24,\n",
       "       97, 94, 47, 99, 46, 58, 59, 30, 48, 11, 38, 53, 89, 22,  7, 33,  5,\n",
       "       76, 17, 78, 83, 21, 69, 89, 23, 51, 91, 90, 24, 29,  0, 99, 81, 74,\n",
       "       79, 31, 82, 66, 42, 57,  9, 37, 89, 77, 81,  9, 72, 62, 54, 61,  0,\n",
       "       75, 73, 25, 68, 33, 11, 61, 67, 98, 59,  2, 47,  5, 74, 19])"
      ]
     },
     "execution_count": 10,
     "metadata": {},
     "output_type": "execute_result"
    }
   ],
   "source": [
    "R = np.random.randint(0,100,100)\n",
    "R"
   ]
  },
  {
   "cell_type": "code",
   "execution_count": null,
   "id": "bbb60151",
   "metadata": {},
   "outputs": [],
   "source": []
  },
  {
   "cell_type": "code",
   "execution_count": null,
   "id": "cbda0122",
   "metadata": {},
   "outputs": [],
   "source": []
  },
  {
   "cell_type": "code",
   "execution_count": null,
   "id": "36c43e6a",
   "metadata": {},
   "outputs": [],
   "source": []
  },
  {
   "cell_type": "code",
   "execution_count": null,
   "id": "40f95104",
   "metadata": {},
   "outputs": [],
   "source": []
  },
  {
   "cell_type": "code",
   "execution_count": null,
   "id": "e5a057d8",
   "metadata": {},
   "outputs": [],
   "source": []
  },
  {
   "cell_type": "code",
   "execution_count": null,
   "id": "7088d278",
   "metadata": {},
   "outputs": [],
   "source": []
  },
  {
   "cell_type": "code",
   "execution_count": null,
   "id": "40832fe0",
   "metadata": {},
   "outputs": [],
   "source": []
  },
  {
   "cell_type": "code",
   "execution_count": null,
   "id": "14b23e67",
   "metadata": {},
   "outputs": [],
   "source": []
  },
  {
   "cell_type": "code",
   "execution_count": null,
   "id": "5556bc14",
   "metadata": {},
   "outputs": [],
   "source": []
  },
  {
   "cell_type": "code",
   "execution_count": null,
   "id": "75389641",
   "metadata": {},
   "outputs": [],
   "source": []
  },
  {
   "cell_type": "markdown",
   "id": "77c2d55c",
   "metadata": {},
   "source": [
    "Hint: `R.argsort()` followed by fancy indexing."
   ]
  },
  {
   "cell_type": "markdown",
   "id": "72394d88",
   "metadata": {},
   "source": [
    "## Exc 64\n",
    "\n",
    "Add 1 to each element of vector `v` that is indexed by a second vector `idxs` containing only valid indexes of `v`.  Do the update inplace.  That is, modify the vector `v`.  Allow `idxs` to contain  repeated indexes, but when an index repeats, don't add 1 twice.  "
   ]
  },
  {
   "cell_type": "code",
   "execution_count": 77,
   "id": "ba2143d6",
   "metadata": {},
   "outputs": [],
   "source": [
    "import random\n",
    "\n",
    "#  Pick 10 random numbers between 0 and 9 inclusive\n",
    "v = np.array(random.sample(range(100),10))\n",
    "#  Pick 6 nums between 0 and 9 inclusive.  Doesnt return an array\n",
    "I= random.choices(range(10),k=6)\n",
    "\n",
    "# make sure I contains repetitions; `np.unique()` computes the set of array values.\n",
    "while len(I) == len(np.unique(I)):\n",
    "    I= random.choices(range(10),k=6)"
   ]
  },
  {
   "cell_type": "markdown",
   "id": "5432e3af",
   "metadata": {},
   "source": [
    "Also note the following alternative."
   ]
  },
  {
   "cell_type": "markdown",
   "id": "4a513ce1",
   "metadata": {},
   "source": [
    "## Exc 58\n",
    "\n",
    "Subtract the mean of each row of the  matrix `R`."
   ]
  },
  {
   "cell_type": "code",
   "execution_count": 28,
   "id": "31bfb36c",
   "metadata": {},
   "outputs": [],
   "source": [
    "R = np.array(random.sample(range(100),90)).reshape((9,10))"
   ]
  },
  {
   "cell_type": "markdown",
   "id": "0d8c547e",
   "metadata": {},
   "source": [
    "# Part 2"
   ]
  },
  {
   "cell_type": "markdown",
   "id": "790414ba",
   "metadata": {},
   "source": [
    "In `numpy`, dtype=ubyte refers to the unsigned 8-bit integer data type.\n",
    "Here's what you need to know:\n",
    "\n",
    "$$\n",
    "\\begin{array}{ll}\n",
    "\\text{Unsigned} & \\text{This means the integer can only represent positive values (and  0).}\\\\\n",
    "\\text{8-bit} & \\text{This means the integer is stored using 8 bits (1 byte) of memory.}\\\\\n",
    "\\text{Range} & \\text{The range of values that can be represented is from 0 to 255 (inclusive)}.\\\\\n",
    "\\end{array}\n",
    "$$\n",
    "\n",
    "Common uses:\n",
    "\n",
    "1.  Image processing: Representing pixel values in grayscale images.\n",
    "2.  Binary data: Storing data efficiently where only small positive integer values are needed."
   ]
  },
  {
   "cell_type": "markdown",
   "id": "99b42791",
   "metadata": {},
   "source": [
    "Note `ubytes` don't look any different from ordinary integers."
   ]
  },
  {
   "cell_type": "code",
   "execution_count": 72,
   "id": "6db489ec",
   "metadata": {},
   "outputs": [
    {
     "name": "stdout",
     "output_type": "stream",
     "text": [
      "[10 20 30]\n"
     ]
    }
   ],
   "source": [
    "arr = np.array([10, 20, 30], dtype='ubyte')\n",
    "print(arr) \n"
   ]
  },
  {
   "cell_type": "markdown",
   "id": "7f5f5b72",
   "metadata": {},
   "source": [
    "1 byte per item; 1 bytes is 8 bits; $2^{8}$ is 256, so only 256 distinct integers can\n",
    "be repsresented in a `ubyte`: 0-255."
   ]
  },
  {
   "cell_type": "code",
   "execution_count": 73,
   "id": "cde8020c",
   "metadata": {
    "scrolled": true
   },
   "outputs": [
    {
     "data": {
      "text/plain": [
       "1"
      ]
     },
     "execution_count": 73,
     "metadata": {},
     "output_type": "execute_result"
    }
   ],
   "source": [
    "arr.itemsize"
   ]
  },
  {
   "cell_type": "code",
   "execution_count": 63,
   "id": "8af94671",
   "metadata": {},
   "outputs": [
    {
     "data": {
      "text/plain": [
       "array([10, 20, 30])"
      ]
     },
     "execution_count": 63,
     "metadata": {},
     "output_type": "execute_result"
    }
   ],
   "source": [
    "arr2 = np.array([10, 20, 30], dtype=int)\n",
    "arr2"
   ]
  },
  {
   "cell_type": "markdown",
   "id": "e91e3a11",
   "metadata": {},
   "source": [
    "8 bytes per item.  That's 64 bits."
   ]
  },
  {
   "cell_type": "code",
   "execution_count": 190,
   "id": "d2e5d02e",
   "metadata": {},
   "outputs": [
    {
     "data": {
      "text/plain": [
       "8"
      ]
     },
     "execution_count": 190,
     "metadata": {},
     "output_type": "execute_result"
    }
   ],
   "source": [
    "arr2.itemsize"
   ]
  },
  {
   "cell_type": "markdown",
   "id": "c4d77b8a",
   "metadata": {},
   "source": [
    "What is the theoretical maximum for a Python integer?"
   ]
  },
  {
   "cell_type": "code",
   "execution_count": 54,
   "id": "f3902e9b",
   "metadata": {},
   "outputs": [
    {
     "name": "stdout",
     "output_type": "stream",
     "text": [
      "18,446,744,073,709,551,615\n"
     ]
    }
   ],
   "source": [
    "maxint = 2**64\n",
    "print(f\"{maxint-1:,}\")"
   ]
  },
  {
   "cell_type": "markdown",
   "id": "8da71923",
   "metadata": {},
   "source": [
    "Except it clearly isn't.  Do you see the evidence?\n",
    "\n",
    "The fact is that we got our size of 8 bytes by looking in a `numoy` array and `numpy` and Python implement integers differently. Python does something clever and there is no max int.  Or to put it more technically: There is no fixed maximum value. Python integers can grow as large as your system's memory allows.\n",
    "\n",
    "The `numpy` implementation is different; 64-bit integers are actually implemented as `C long` integers.  So numbers in arrays have fixed memory allocations and arrays consume predictable amounts of memory."
   ]
  },
  {
   "cell_type": "markdown",
   "id": "947cf79c",
   "metadata": {},
   "source": [
    "Let's look at the array's datatype."
   ]
  },
  {
   "cell_type": "code",
   "execution_count": 49,
   "id": "504ebc33",
   "metadata": {},
   "outputs": [
    {
     "data": {
      "text/plain": [
       "dtype('int64')"
      ]
     },
     "execution_count": 49,
     "metadata": {},
     "output_type": "execute_result"
    }
   ],
   "source": [
    "arr2.dtype"
   ]
  },
  {
   "cell_type": "markdown",
   "id": "4f997dce",
   "metadata": {},
   "source": [
    "So that suggests the `numpy` maxint value is $2^{64} - 1$, but there's a slight complication. We want to represent both positive and negative integers:"
   ]
  },
  {
   "cell_type": "code",
   "execution_count": 50,
   "id": "f406cdd6",
   "metadata": {},
   "outputs": [
    {
     "data": {
      "text/plain": [
       "iinfo(min=-9223372036854775808, max=9223372036854775807, dtype=int64)"
      ]
     },
     "execution_count": 50,
     "metadata": {},
     "output_type": "execute_result"
    }
   ],
   "source": [
    "np.iinfo(np.int64)"
   ]
  },
  {
   "cell_type": "markdown",
   "id": "2175dd9e",
   "metadata": {},
   "source": [
    "So we need one bit for the sign, a binary piece of information.  Therefore the `numpy`\n",
    "maxint value is:"
   ]
  },
  {
   "cell_type": "code",
   "execution_count": 62,
   "id": "4046dc9a",
   "metadata": {},
   "outputs": [
    {
     "data": {
      "text/plain": [
       "9223372036854775807"
      ]
     },
     "execution_count": 62,
     "metadata": {},
     "output_type": "execute_result"
    }
   ],
   "source": [
    "2**63  - 1"
   ]
  },
  {
   "cell_type": "markdown",
   "id": "c000ed7b",
   "metadata": {},
   "source": [
    "This is okay:"
   ]
  },
  {
   "cell_type": "code",
   "execution_count": 65,
   "id": "21309c99",
   "metadata": {},
   "outputs": [],
   "source": [
    "arr2[0] = 2**63 - 1"
   ]
  },
  {
   "cell_type": "markdown",
   "id": "a3212ad9",
   "metadata": {},
   "source": [
    "But going just one higher does indeed blow up the array:"
   ]
  },
  {
   "cell_type": "code",
   "execution_count": 67,
   "id": "e6f5202b",
   "metadata": {},
   "outputs": [
    {
     "ename": "OverflowError",
     "evalue": "Python int too large to convert to C long",
     "output_type": "error",
     "traceback": [
      "\u001b[0;31m---------------------------------------------------------------------------\u001b[0m",
      "\u001b[0;31mOverflowError\u001b[0m                             Traceback (most recent call last)",
      "Cell \u001b[0;32mIn[67], line 2\u001b[0m\n\u001b[1;32m      1\u001b[0m arr2 \u001b[38;5;241m=\u001b[39m np\u001b[38;5;241m.\u001b[39marray([\u001b[38;5;241m10\u001b[39m, \u001b[38;5;241m20\u001b[39m, \u001b[38;5;241m30\u001b[39m], dtype\u001b[38;5;241m=\u001b[39m\u001b[38;5;28mint\u001b[39m)\n\u001b[0;32m----> 2\u001b[0m arr2[\u001b[38;5;241m0\u001b[39m] \u001b[38;5;241m=\u001b[39m \u001b[38;5;241m2\u001b[39m\u001b[38;5;241m*\u001b[39m\u001b[38;5;241m*\u001b[39m\u001b[38;5;241m63\u001b[39m\n",
      "\u001b[0;31mOverflowError\u001b[0m: Python int too large to convert to C long"
     ]
    }
   ],
   "source": [
    "arr2 = np.array([10, 20, 30], dtype=int)\n",
    "arr2[0] = 2**63"
   ]
  },
  {
   "cell_type": "markdown",
   "id": "49194a2a",
   "metadata": {},
   "source": [
    "What `numpy` is offer a menu of integer types:"
   ]
  },
  {
   "cell_type": "code",
   "execution_count": 68,
   "id": "390b9385",
   "metadata": {},
   "outputs": [
    {
     "data": {
      "text/plain": [
       "iinfo(min=-2147483648, max=2147483647, dtype=int32)"
      ]
     },
     "execution_count": 68,
     "metadata": {},
     "output_type": "execute_result"
    }
   ],
   "source": [
    "np.iinfo(np.int32)"
   ]
  },
  {
   "cell_type": "code",
   "execution_count": 69,
   "id": "b875b24a",
   "metadata": {},
   "outputs": [
    {
     "data": {
      "text/plain": [
       "iinfo(min=-32768, max=32767, dtype=int16)"
      ]
     },
     "execution_count": 69,
     "metadata": {},
     "output_type": "execute_result"
    }
   ],
   "source": [
    "np.iinfo(np.int16)"
   ]
  },
  {
   "cell_type": "code",
   "execution_count": 70,
   "id": "c8ba22ca",
   "metadata": {},
   "outputs": [
    {
     "data": {
      "text/plain": [
       "iinfo(min=-128, max=127, dtype=int8)"
      ]
     },
     "execution_count": 70,
     "metadata": {},
     "output_type": "execute_result"
    }
   ],
   "source": [
    "np.iinfo(np.int8)"
   ]
  },
  {
   "cell_type": "markdown",
   "id": "a6eff63f",
   "metadata": {},
   "source": [
    "So for ordinary 8-bit integers, the max val is $2^{7} -1$.   Meanwhile back to our array of `ubyte` integers.  "
   ]
  },
  {
   "cell_type": "code",
   "execution_count": 75,
   "id": "f73fe85f",
   "metadata": {},
   "outputs": [
    {
     "data": {
      "text/plain": [
       "dtype('uint8')"
      ]
     },
     "execution_count": 75,
     "metadata": {},
     "output_type": "execute_result"
    }
   ],
   "source": [
    "arr.dtype"
   ]
  },
  {
   "cell_type": "markdown",
   "id": "9c27df27",
   "metadata": {},
   "source": [
    "This datatype is for positive integers only, so the maximum value is:"
   ]
  },
  {
   "cell_type": "code",
   "execution_count": 76,
   "id": "8a91fef1",
   "metadata": {},
   "outputs": [
    {
     "data": {
      "text/plain": [
       "iinfo(min=0, max=255, dtype=uint8)"
      ]
     },
     "execution_count": 76,
     "metadata": {},
     "output_type": "execute_result"
    }
   ],
   "source": [
    "np.iinfo(np.uint8)"
   ]
  },
  {
   "cell_type": "markdown",
   "id": "1601ba08",
   "metadata": {},
   "source": [
    "When the maximum value is exceeded:"
   ]
  },
  {
   "cell_type": "code",
   "execution_count": 191,
   "id": "16252085",
   "metadata": {},
   "outputs": [
    {
     "name": "stderr",
     "output_type": "stream",
     "text": [
      "/var/folders/w9/bx4mylnd27g_kqqgn5hrn2x40000gr/T/ipykernel_4994/3892265066.py:1: DeprecationWarning: NumPy will stop allowing conversion of out-of-bound Python integers to integer arrays.  The conversion of 256 to uint8 will fail in the future.\n",
      "For the old behavior, usually:\n",
      "    np.array(value).astype(dtype)\n",
      "will give the desired result (the cast overflows).\n",
      "  arr[2] = 256\n"
     ]
    }
   ],
   "source": [
    "arr[2] = 256"
   ]
  },
  {
   "cell_type": "markdown",
   "id": "fbcddefb",
   "metadata": {},
   "source": [
    "We got a stiffly worded warning not an error, together with the notification that this sort of behavior won't be tolerated in the future."
   ]
  },
  {
   "cell_type": "markdown",
   "id": "9f94c94c",
   "metadata": {},
   "source": [
    "## Exc 66"
   ]
  },
  {
   "cell_type": "markdown",
   "id": "255000bf",
   "metadata": {},
   "source": [
    "Considering a (w,h,3) image of (dtype=ubyte), compute the number of unique colors.\n",
    "\n",
    "Hint: Use `np.unique`."
   ]
  },
  {
   "cell_type": "code",
   "execution_count": 7,
   "id": "c7f5d93b",
   "metadata": {},
   "outputs": [],
   "source": [
    "w, h = 128, 128\n",
    "\n",
    "sz = w*h*3\n",
    "I = np.array(random.choices(range(256),k=sz),dtype='ubyte').reshape((w,h,3))\n",
    "#  For a smaller example values from the range 0-3 inclusive.\n",
    "#I = np.random.randint(0, 4, (h, w, 3)).astype(np.ubyte)"
   ]
  },
  {
   "cell_type": "code",
   "execution_count": 313,
   "id": "8378f3ee",
   "metadata": {},
   "outputs": [
    {
     "data": {
      "text/plain": [
       "array([137, 146,  96], dtype=uint8)"
      ]
     },
     "execution_count": 313,
     "metadata": {},
     "output_type": "execute_result"
    }
   ],
   "source": [
    "# An RGB value: One color\n",
    "I[27,38]"
   ]
  },
  {
   "cell_type": "markdown",
   "id": "75ca1a02",
   "metadata": {},
   "source": [
    "A clunky but correct solution.  Turn color-triples into tuples, collect the set."
   ]
  },
  {
   "cell_type": "code",
   "execution_count": 314,
   "id": "0cef0db0",
   "metadata": {},
   "outputs": [
    {
     "name": "stdout",
     "output_type": "stream",
     "text": [
      "There were 16,379 distinct colors in a selection of 16,384 colors from 16,777,216 possible color values.\n"
     ]
    }
   ],
   "source": [
    "NumColors = len({tuple(I[i,j]) for i in range(w) for j in range(h)})\n",
    "print(f\"There were {NumColors:,} distinct colors in a selection of {w*h:,} colors\"\\\n",
    "      f\" from {256**3:,} possible color values.\")"
   ]
  },
  {
   "cell_type": "markdown",
   "id": "3a750765",
   "metadata": {},
   "source": [
    "More numpythonic (and faster!)"
   ]
  },
  {
   "cell_type": "code",
   "execution_count": 315,
   "id": "68c80ab8",
   "metadata": {},
   "outputs": [
    {
     "name": "stdout",
     "output_type": "stream",
     "text": [
      "(16384, 3)\n",
      "16379\n"
     ]
    }
   ],
   "source": [
    "# Reshape into a 2D array with 3 columns.  Each row is a color\n",
    "print(I.reshape(-1, 3).shape)\n",
    "\n",
    "# The set of unique vectors along the axis  with 16,384 positions\n",
    "colors = np.unique(I.reshape(-1, 3), axis=0)\n",
    "n = len(colors)\n",
    "print(n)"
   ]
  },
  {
   "cell_type": "markdown",
   "id": "d4836df1",
   "metadata": {},
   "source": [
    "Superhacker trickery. Please document well."
   ]
  },
  {
   "cell_type": "code",
   "execution_count": 9,
   "id": "40b7f1f5",
   "metadata": {},
   "outputs": [
    {
     "name": "stdout",
     "output_type": "stream",
     "text": [
      "(128, 128, 3) (128, 128)\n",
      "16375\n"
     ]
    }
   ],
   "source": [
    "## View each pixel as a single 24-bit (3 byte) integer, rather than three 8-bit bytes\n",
    "## Otherwise put: each byte encodes a digit in base 256.  We convert\n",
    "## that 24 bit representation to an integer, so each distinct color is a distinct \n",
    "## integer.\n",
    "## Dot-product each of the 128x128 3-component pixels \n",
    "## with [1,256,65536], converting each to an integer\n",
    "I24 = np.dot(I.astype(np.uint32),[1,256,65536])\n",
    "print(I.shape,I24.shape)\n",
    "# Count unique colours in the vector of integers.\n",
    "n = len(np.unique(I24))\n",
    "print(n)"
   ]
  },
  {
   "cell_type": "markdown",
   "id": "bb9e763b",
   "metadata": {},
   "source": [
    "## Exc 71\n",
    "\n",
    "Consider an array of dimension (5,5,3), how to multiply it by an array with dimensions (5,5)?   Hint.  Use the rules of broadcasting."
   ]
  },
  {
   "cell_type": "code",
   "execution_count": 13,
   "id": "59a041e6",
   "metadata": {},
   "outputs": [],
   "source": [
    "a = np.arange(75).reshape((5,5,3))\n",
    "b = np.arange(50,75).reshape((5,5))"
   ]
  },
  {
   "cell_type": "markdown",
   "id": "0b7106f5",
   "metadata": {},
   "source": [
    "## Exc 72\n",
    "\n",
    "Swap rows $i$ and $j$ of an array.  Swap rows 2 and 4 of the 6x4 array `M` in the cell below.  Hint:  It's fancy indexing time. "
   ]
  },
  {
   "cell_type": "code",
   "execution_count": 295,
   "id": "30c09e2d",
   "metadata": {},
   "outputs": [
    {
     "data": {
      "text/plain": [
       "array([[ 0,  1,  2,  3],\n",
       "       [ 4,  5,  6,  7],\n",
       "       [ 8,  9, 10, 11],\n",
       "       [12, 13, 14, 15],\n",
       "       [16, 17, 18, 19],\n",
       "       [20, 21, 22, 23]])"
      ]
     },
     "execution_count": 295,
     "metadata": {},
     "output_type": "execute_result"
    }
   ],
   "source": [
    "i,j = 2,4\n",
    "r,c = 6,4\n",
    "M = np.arange(24).reshape((r,c))\n",
    "M"
   ]
  },
  {
   "cell_type": "markdown",
   "id": "ed4af2df",
   "metadata": {},
   "source": [
    "## Exc 95. \n",
    "\n",
    "Convert a vector of ints into a matrix binary representation.\n",
    "\n",
    "i e\n",
    "\n",
    "```python\n",
    "[1,3,5]  ->  [[0,0,0,0,0,0,0,0,1],\n",
    "              [0,0,0,0,0,0,0,1,1], \n",
    "              [0,0,0,0,0,0,1,0,1]]\n",
    "```\n",
    "\n",
    "Hint:  Check out `np.unpackbits`."
   ]
  },
  {
   "cell_type": "markdown",
   "id": "7ebd5a4f",
   "metadata": {},
   "source": [
    "## Exc 90. \n",
    "\n",
    "Write a function which, given an arbitrary sequence of vectors, returns the Cartesian Product (every combination of every item).\n",
    "\n",
    "$$\n",
    "s_{1} \\times s_{2} \\times \\dots \\times s_{n} =\n",
    "\\lbrace \\langle\\, x_{1},\\, x_{2},\\, \\dots x_{n}\\, \\rangle \\mid\n",
    "x_{1} \\in s_{1} \\wedge x_{2} \\in s_{2} \\wedge \\dots \\wedge x_{n} \\in s_{n} \\rbrace\n",
    "$$\n"
   ]
  },
  {
   "cell_type": "code",
   "execution_count": 78,
   "id": "8d566494",
   "metadata": {},
   "outputs": [],
   "source": [
    "def cart_prod(vs):\n",
    "    if len(vs) == 0:\n",
    "        return [()]\n",
    "    v,rest = vs[0],vs[1:]\n",
    "    return [(x,)+rest2 for rest2 in cart_prod(rest) for x in v]"
   ]
  },
  {
   "cell_type": "markdown",
   "id": "544395b5",
   "metadata": {},
   "source": [
    "Here is an example of how your function might behave:\n",
    "\n",
    "```python\n",
    ">>> L = cart_prod([[1,2,3],[4,5],[6,7]])\n",
    ">>> print(len(L))\n",
    "12\n",
    ">>> L\n",
    "[(1, 4, 6),\n",
    " (2, 4, 6),\n",
    " (3, 4, 6),\n",
    " (1, 5, 6),\n",
    " (2, 5, 6),\n",
    " (3, 5, 6),\n",
    " (1, 4, 7),\n",
    " (2, 4, 7),\n",
    " (3, 4, 7),\n",
    " (1, 5, 7),\n",
    " (2, 5, 7),\n",
    " (3, 5, 7)]\n",
    "```\n",
    "\n",
    "Note that what has been returned is a set of 3-tuples. That's fine. \n",
    "For this input, your function can return any sequence of sequences \n",
    "of length 3.  For example, it could return a 12x3 array:\n",
    "\n",
    "```python\n",
    "array([[1, 4, 6],\n",
    "       [2, 4, 6],\n",
    "       [3, 4, 6],\n",
    "       [1, 5, 6],\n",
    "       [2, 5, 6],\n",
    "       [3, 5, 6],\n",
    "       [1, 4, 7],\n",
    "       [2, 4, 7],\n",
    "       [3, 4, 7],\n",
    "       [1, 5, 7],\n",
    "       [2, 5, 7],\n",
    "       [3, 5, 7]])\n",
    "```\n",
    "\n",
    "It is perfectly possible to solve this problem by writing a recursive function.\n",
    "And if you think that's more than enough of a challenge stop reading here.\n",
    "\n",
    "There is another more numpy-thonic solution that uses `np.indices`.   What follow\n",
    "are some hints for how `np.indices` can help:"
   ]
  },
  {
   "cell_type": "markdown",
   "id": "080cd82e",
   "metadata": {},
   "source": [
    "First let's sketch how `np.indices` is usually used: "
   ]
  },
  {
   "cell_type": "code",
   "execution_count": 264,
   "id": "46260551",
   "metadata": {},
   "outputs": [],
   "source": [
    "(R, C) = np.indices((5,5))"
   ]
  },
  {
   "cell_type": "code",
   "execution_count": 265,
   "id": "fd82731b",
   "metadata": {},
   "outputs": [
    {
     "data": {
      "text/plain": [
       "array([[0, 0, 0, 0, 0],\n",
       "       [1, 1, 1, 1, 1],\n",
       "       [2, 2, 2, 2, 2],\n",
       "       [3, 3, 3, 3, 3],\n",
       "       [4, 4, 4, 4, 4]])"
      ]
     },
     "execution_count": 265,
     "metadata": {},
     "output_type": "execute_result"
    }
   ],
   "source": [
    "R"
   ]
  },
  {
   "cell_type": "code",
   "execution_count": 266,
   "id": "c85e66f3",
   "metadata": {},
   "outputs": [
    {
     "data": {
      "text/plain": [
       "array([[0, 1, 2, 3, 4],\n",
       "       [0, 1, 2, 3, 4],\n",
       "       [0, 1, 2, 3, 4],\n",
       "       [0, 1, 2, 3, 4],\n",
       "       [0, 1, 2, 3, 4]])"
      ]
     },
     "execution_count": 266,
     "metadata": {},
     "output_type": "execute_result"
    }
   ],
   "source": [
    "C"
   ]
  },
  {
   "cell_type": "markdown",
   "id": "1a1730a8",
   "metadata": {},
   "source": [
    "Now I can define another array as function of the these two index arrays.\n",
    "\n",
    "$$\n",
    "\\text{M}\\lbrack i,\\,j\\rbrack = i^{2} + j^{2}\n",
    "$$"
   ]
  },
  {
   "cell_type": "code",
   "execution_count": 271,
   "id": "50c01042",
   "metadata": {},
   "outputs": [
    {
     "data": {
      "text/plain": [
       "array([[ 0,  1,  4,  9, 16],\n",
       "       [ 1,  2,  5, 10, 17],\n",
       "       [ 4,  5,  8, 13, 20],\n",
       "       [ 9, 10, 13, 18, 25],\n",
       "       [16, 17, 20, 25, 32]])"
      ]
     },
     "execution_count": 271,
     "metadata": {},
     "output_type": "execute_result"
    }
   ],
   "source": [
    "M = R**2 + C**2\n",
    "M"
   ]
  },
  {
   "cell_type": "markdown",
   "id": "c2bedacd",
   "metadata": {},
   "source": [
    "Now the usefulness of `np.indices` in doing Cartesian products arises from\n",
    "the fact that it returns an array.  Watch what happens when you reshape it."
   ]
  },
  {
   "cell_type": "code",
   "execution_count": 273,
   "id": "909ad066",
   "metadata": {},
   "outputs": [
    {
     "data": {
      "text/plain": [
       "array([[0, 0],\n",
       "       [0, 1],\n",
       "       [0, 2],\n",
       "       [0, 3],\n",
       "       [1, 0],\n",
       "       [1, 1],\n",
       "       [1, 2],\n",
       "       [1, 3],\n",
       "       [2, 0],\n",
       "       [2, 1],\n",
       "       [2, 2],\n",
       "       [2, 3]])"
      ]
     },
     "execution_count": 273,
     "metadata": {},
     "output_type": "execute_result"
    }
   ],
   "source": [
    "M = np.indices((3,4))\n",
    "M.reshape((2,-1)).T"
   ]
  },
  {
   "cell_type": "markdown",
   "id": "1f685dd7",
   "metadata": {},
   "source": [
    "These are the indices we could use in constructing the Cartesian Product\n",
    "of two groups: a group of size 3 and a group of size 4.  The first column contains\n",
    "indices appropriate for the group of size 3.  The second contains\n",
    "indices appropriate the group of size 4.\n",
    "\n",
    "What's left for you to think about is how to use a sequence of indices to construct\n",
    "a sequence of the corresponding group members; as well as how to generalize what you've been shown from the Cartesian product of two groups to the Cartesian product of an arbitrary number for groups."
   ]
  },
  {
   "cell_type": "markdown",
   "id": "7a24b4e7",
   "metadata": {},
   "source": [
    "## Exc. 88  (Conway's Game of Life)\n",
    "\n",
    "Implement Conway's Game of Life using `2D` numpy arrays.\n",
    "\n",
    "Brief description adapted from the Wikipedia page:\n",
    "\n",
    "We have an infinite grid of 0s and 1s and a ticking clock.\n",
    "Each clock tick some of the 1s become 0s (they **die** in the language of the game), \n",
    "some of the 0s become 1s (they **are born** in the language of the game)\n",
    "And some of the cells remain the same (they **survive**). At time `t=0` the grid\n",
    "is given an initial configuration of 0s and 1s, and\n",
    "the configurations for any later time `t=n+1` are given by the \n",
    "following rules\n",
    "\n",
    "1.  What happens to any cell at time `t=n+1` is determined by its 8 neighboring \n",
    "    cells at time `t=n`. The 8 neighbors of any grid cell `x` are:\n",
    "    \n",
    "    ```\n",
    "    n n n\n",
    "    n x n\n",
    "    n n n\n",
    "    ```\n",
    "    \n",
    "2.  If x = 1  and fewer than 2 of its neighbors or more than 3 of its neighbors are 1,\n",
    "    then x becomes 0 (x **dies**).\n",
    "3.  If x = 1  and exactly 2 or exactly 3 of its neighbors are 1,\n",
    "    then x stays 1 (x **survives**).\n",
    "4.  If x = 0 and exactly 3 of its neighbors are 1, x becomes 1 (x **is born**).\n",
    "    Otherwise, if x is 0, x stays 0.\n",
    "\n",
    "Finally, you may be having some trouble with the idea of implementing an infinite grid.  No problem.  Make a 2D array any size you choose (say, M.shape = 50x50), and \n",
    "just update the interior cells, leaving out the first and last rows \n",
    "and the first and last columns.  You will need an initial array, which should be\n",
    "random.  Here is the code for that, where `r` is the number of rows and `c` the number of\n",
    "columns:\n",
    "\n",
    "```python\n",
    "I = np.random.randint(0,2,(r,c)) \n",
    "```\n",
    "\n",
    "One way to go: \n",
    "\n",
    "Hint:  A loop-based solution.  Write a function `decide` that takes the game grid and a position `i`, `j` as its argument. Using the rules above, \n",
    "the function `decide` decides the fate of the cell \n",
    "at position `i`, `j` in the next generation.  Then write another `next_gen` that takes the current game grid as its single argument; `next_gen`  loops through all the interior cells and applies `decide` to each  to produce the new game grid.  Note that the game grid should be a 2D array `I` and `next_gen` cannot  update `I` as it is looping through it, since that may change the survival status of cells it hasn't gotten to yet.  Therefore you need the new game grid  to be a new matrix of the same shape as `I`. \n",
    "\n",
    "Another better way:\n",
    "\n",
    "There is a solution that combines the two functions in the loop-based\n",
    "solution.  Call it `next_gen2`; `next_gen2` correctly updates the current (nxn) game grid \n",
    "without looping.  The idea is to construct a single (n-1)x(n-1) score grid  N (that contains the scores of all the interior\n",
    "cells) by doing array addition.  `N[0,0]` contains the score for `I[1,1]`, where by score\n",
    "I mean the number of living neighbors.  Then the survival rules can be applied \n",
    "to `N`. And `I` can be updated with the results."
   ]
  },
  {
   "cell_type": "markdown",
   "id": "d89a19d0",
   "metadata": {},
   "source": [
    "Because N just scores the interior\n",
    "cells, N is (n-1) x (n-1) and `N[i,j]` contains the sum of the neighbors of `I[i+1,j+1]`:\n",
    "\n",
    "$$\n",
    "\\begin{array}{lclll}\n",
    "N[i,j] & = & I[i,j]\\, + &  I[i+1,j] \\,+ &  I[i+2,j] \\,+\\\\\n",
    "        &   & I[i,j+1]\\, + &            & I[i+2,j+1] \\,+\\\\\n",
    "        &  & I[i,j+2] \\,+ &  I[i+1,j+2] \\,+ & I[i+2,j+2]\\\\\n",
    "\\end{array}\n",
    "$$"
   ]
  },
  {
   "cell_type": "markdown",
   "id": "b6ba1d6a",
   "metadata": {},
   "source": [
    "A successful solution to the problem is a working version of `decide` and `next_gen`\n",
    "or, for those who want a great exercise in array-based programming, a \n",
    "working version of `next_gen2`.\n",
    "\n",
    "Display: Not part of the stated problem, but fun.\n",
    "You can display a generation by passing your updated numpy array\n",
    "to `matplotlib.pyplot.imshow`.  Unfortunately it won't work to just put that in a loop to display successive game states and **animate** a game.  What you **can**  do is patiently\n",
    "just keep re-executing a cell that updates and displays a single game state\n",
    "to see the game evolve.  I would count that as a successful  solution of this problem.\n",
    "\n",
    "If you find successively re-executing a cell a little tedious,\n",
    "and you want to truly animate a game, you need to learn about `matplotlib.animation`.\n",
    "That's a useful visualization tool, and I will present an example of how to use it\n",
    "in the solution, but be forewarned thar there are some peculiarities to deal with in getting the animation module to work in a notebook."
   ]
  },
  {
   "cell_type": "markdown",
   "id": "3d01e4c7",
   "metadata": {},
   "source": [
    "Here's an example of how to initialize a random grid (10x10) to be\n",
    "your game state at `t=0`."
   ]
  },
  {
   "cell_type": "code",
   "execution_count": 83,
   "id": "c221304d",
   "metadata": {},
   "outputs": [
    {
     "data": {
      "text/plain": [
       "array([[1, 0, 1, 1, 0, 1, 1, 0, 0, 1],\n",
       "       [1, 1, 1, 0, 1, 1, 0, 1, 1, 1],\n",
       "       [1, 0, 0, 0, 0, 0, 1, 1, 0, 1],\n",
       "       [0, 0, 1, 0, 0, 0, 0, 0, 0, 1],\n",
       "       [1, 1, 0, 0, 1, 0, 1, 1, 0, 0],\n",
       "       [0, 1, 1, 0, 1, 1, 0, 1, 1, 0],\n",
       "       [1, 0, 1, 0, 1, 1, 1, 1, 1, 1],\n",
       "       [0, 1, 1, 0, 1, 0, 0, 0, 0, 0],\n",
       "       [0, 0, 1, 1, 1, 1, 1, 0, 0, 1],\n",
       "       [0, 0, 0, 0, 0, 0, 0, 0, 1, 0]])"
      ]
     },
     "execution_count": 83,
     "metadata": {},
     "output_type": "execute_result"
    }
   ],
   "source": [
    "import numpy as np\n",
    "import random\n",
    "r,c = (10,10)\n",
    "L= range(2)\n",
    "I = np.random.randint(0,2,(r,c))\n",
    "I"
   ]
  },
  {
   "cell_type": "markdown",
   "id": "5235f9e1",
   "metadata": {},
   "source": [
    "Here's how to display a game state:"
   ]
  },
  {
   "cell_type": "code",
   "execution_count": 87,
   "id": "0a0002ea",
   "metadata": {},
   "outputs": [
    {
     "data": {
      "image/png": "[encoded data removed]",
      "text/plain": [
       "<Figure size 640x480 with 1 Axes>"
      ]
     },
     "metadata": {},
     "output_type": "display_data"
    }
   ],
   "source": [
    "from matplotlib import pyplot as plt\n",
    "\n",
    "art = plt.imshow(I)"
   ]
  }
 ],
 "metadata": {
  "kernelspec": {
   "display_name": "Python 3 (ipykernel)",
   "language": "python",
   "name": "python3"
  },
  "language_info": {
   "codemirror_mode": {
    "name": "ipython",
    "version": 3
   },
   "file_extension": ".py",
   "mimetype": "text/x-python",
   "name": "python",
   "nbconvert_exporter": "python",
   "pygments_lexer": "ipython3",
   "version": "3.12.5"
  }
 },
 "nbformat": 4,
 "nbformat_minor": 5
}
