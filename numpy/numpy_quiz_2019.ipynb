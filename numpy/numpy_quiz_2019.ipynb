{
 "cells": [
  {
   "cell_type": "markdown",
   "metadata": {},
   "source": [
    "$$\\begin{array}[t]{lcr}\n",
    "\\mbox{Name}  &  \\hspace{5in}\\mbox{Numpy Quiz 2019}\n",
    "\\end{array}\n",
    "$$"
   ]
  },
  {
   "cell_type": "markdown",
   "metadata": {},
   "source": [
    "1)  Use the values defined in the code below for the next few problems."
   ]
  },
  {
   "cell_type": "code",
   "execution_count": 5,
   "metadata": {},
   "outputs": [],
   "source": [
    "import numpy as np\n",
    "x = np.array([8,3,1,1,5])\n",
    "y = np.arange(10)\n",
    "z = 2 + x"
   ]
  },
  {
   "cell_type": "markdown",
   "metadata": {},
   "source": [
    "2)  Write an expression on the next line to retrieve 5 from `x`."
   ]
  },
  {
   "cell_type": "markdown",
   "metadata": {},
   "source": [
    " "
   ]
  },
  {
   "cell_type": "markdown",
   "metadata": {},
   "source": [
    "3)  Write an expression on the next line to retrieve 1 from `y`."
   ]
  },
  {
   "cell_type": "markdown",
   "metadata": {
    "collapsed": true
   },
   "source": [
    " "
   ]
  },
  {
   "cell_type": "markdown",
   "metadata": {},
   "source": [
    "4)  Write an expression on the next line to retrieve 5 from `z`."
   ]
  },
  {
   "cell_type": "markdown",
   "metadata": {},
   "source": [
    "  "
   ]
  },
  {
   "cell_type": "markdown",
   "metadata": {},
   "source": [
    "5)  On the next line, write an expression that generates a 3 by 5 array filled with zeros."
   ]
  },
  {
   "cell_type": "markdown",
   "metadata": {},
   "source": [
    "  "
   ]
  },
  {
   "cell_type": "code",
   "execution_count": 1,
   "metadata": {},
   "outputs": [],
   "source": [
    "import numpy as np\n",
    "array_one = \\\n",
    "np.array(\n",
    "[[6,  3, 4, 1, 0],\n",
    "[5,  2, 3, 2, 2],\n",
    "[8,  3, 6, 2, 4],\n",
    "[5,  1, 3, 1, 7],\n",
    "[10, 4, 7, 2, 5]])\n",
    "\n",
    "array_two = np.array([40, 175, 90, 450, 25])"
   ]
  },
  {
   "cell_type": "markdown",
   "metadata": {},
   "source": [
    "6)  In the line below, write an expression that retrieves the second column of `array_one`.  Also write down the value returned by that expression."
   ]
  },
  {
   "cell_type": "markdown",
   "metadata": {
    "collapsed": true
   },
   "source": [
    " "
   ]
  },
  {
   "cell_type": "markdown",
   "metadata": {},
   "source": [
    "7)  In the next cell, write an expression that retrieves the fourth row of `array_one`."
   ]
  },
  {
   "cell_type": "markdown",
   "metadata": {
    "collapsed": true
   },
   "source": [
    " "
   ]
  },
  {
   "cell_type": "markdown",
   "metadata": {},
   "source": [
    "8)  In the next cell write an expression that retrieves the last two elements of the third column of `array_one`."
   ]
  },
  {
   "cell_type": "markdown",
   "metadata": {
    "collapsed": true
   },
   "source": [
    " "
   ]
  },
  {
   "cell_type": "markdown",
   "metadata": {},
   "source": [
    "9)  In this cell,  write an expression that retrieves the following submatrix from `array_one`:\n",
    "\n",
    "```\n",
    "array([[6,2],\n",
    "       [3,1]])\n",
    "```"
   ]
  },
  {
   "cell_type": "markdown",
   "metadata": {},
   "source": [
    "10)  In the next cell, write an expression that returns a Boolean array (every element is either `True` or `False`) that identifies the members of `array_two` which are greater than or equal to 100. \n",
    "Answers using a Python loop will not be accepted."
   ]
  },
  {
   "cell_type": "markdown",
   "metadata": {},
   "source": [
    " "
   ]
  },
  {
   "cell_type": "markdown",
   "metadata": {},
   "source": [
    "11) The code below defines two arrays.  The first array represents some data for a small set of individuals. It\n",
    "represents their ages and income in thousands of dollars. The first column is age and the second is income.\n",
    "The second array represents the clubs the same individuals belong to.  There are three possible clubs,\n",
    "`0`, `1`, and `2`. So for example the 22 year-old individual with an income of 63.1K represented in the second row of `age_data` belongs to club `2`, because\n",
    "`club[1]` is `2`."
   ]
  },
  {
   "cell_type": "code",
   "execution_count": 4,
   "metadata": {},
   "outputs": [],
   "source": [
    "import numpy as np\n",
    "age_income_data = np.array([[47,57.2],\n",
    "                            [22,63.1],\n",
    "                            [14,88.1],\n",
    "                            [20,97.5],\n",
    "                            [31,32.1],\n",
    "                            [28,110.3]])\n",
    "club = np.array([0,2,1,0,1,2])"
   ]
  },
  {
   "cell_type": "markdown",
   "metadata": {},
   "source": [
    "In the next line, write an expression that computes all the rows of `age_income_data` representing\n",
    "individuals whose club is `2`.   Use a Boolean mask.  Answers not using a Boolean mask will receive no credit."
   ]
  },
  {
   "cell_type": "markdown",
   "metadata": {
    "collapsed": true
   },
   "source": [
    " "
   ]
  },
  {
   "cell_type": "markdown",
   "metadata": {},
   "source": [
    "12)  In the next cell, write a line of code that computes all the rows of `age_income_data` representing\n",
    "individuals whose income is over 80,000.  Use a Boolean mask.  Answers not using a Boolean mask will receive no credit."
   ]
  },
  {
   "cell_type": "markdown",
   "metadata": {},
   "source": [
    " "
   ]
  }
 ],
 "metadata": {
  "kernelspec": {
   "display_name": "Python 3 (ipykernel)",
   "language": "python",
   "name": "python3"
  },
  "language_info": {
   "codemirror_mode": {
    "name": "ipython",
    "version": 3
   },
   "file_extension": ".py",
   "mimetype": "text/x-python",
   "name": "python",
   "nbconvert_exporter": "python",
   "pygments_lexer": "ipython3",
   "version": "3.10.6"
  },
  "name": "_merged",
  "toc": {
   "base_numbering": 1,
   "nav_menu": {
    "height": "49px",
    "width": "252px"
   },
   "number_sections": true,
   "sideBar": true,
   "skip_h1_title": false,
   "title_cell": "Table of Contents",
   "title_sidebar": "Contents",
   "toc_cell": false,
   "toc_position": {},
   "toc_section_display": "block",
   "toc_window_display": false
  }
 },
 "nbformat": 4,
 "nbformat_minor": 1
}
