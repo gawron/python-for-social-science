{
 "cells": [
  {
   "cell_type": "markdown",
   "id": "e5c9a348",
   "metadata": {},
   "source": [
    "# Midterm Score Notebook"
   ]
  },
  {
   "cell_type": "code",
   "execution_count": 3,
   "id": "4532bd20",
   "metadata": {},
   "outputs": [
    {
     "data": {
      "text/html": [
       "<div>\n",
       "<style scoped>\n",
       "    .dataframe tbody tr th:only-of-type {\n",
       "        vertical-align: middle;\n",
       "    }\n",
       "\n",
       "    .dataframe tbody tr th {\n",
       "        vertical-align: top;\n",
       "    }\n",
       "\n",
       "    .dataframe thead th {\n",
       "        text-align: right;\n",
       "    }\n",
       "</style>\n",
       "<table border=\"1\" class=\"dataframe\">\n",
       "  <thead>\n",
       "    <tr style=\"text-align: right;\">\n",
       "      <th></th>\n",
       "      <th>Min Score</th>\n",
       "      <th>Grade</th>\n",
       "    </tr>\n",
       "  </thead>\n",
       "  <tbody>\n",
       "    <tr>\n",
       "      <th>0</th>\n",
       "      <td>0</td>\n",
       "      <td>F</td>\n",
       "    </tr>\n",
       "    <tr>\n",
       "      <th>1</th>\n",
       "      <td>60</td>\n",
       "      <td>D</td>\n",
       "    </tr>\n",
       "    <tr>\n",
       "      <th>2</th>\n",
       "      <td>66</td>\n",
       "      <td>D+</td>\n",
       "    </tr>\n",
       "    <tr>\n",
       "      <th>3</th>\n",
       "      <td>68</td>\n",
       "      <td>C-</td>\n",
       "    </tr>\n",
       "    <tr>\n",
       "      <th>4</th>\n",
       "      <td>70</td>\n",
       "      <td>C</td>\n",
       "    </tr>\n",
       "    <tr>\n",
       "      <th>5</th>\n",
       "      <td>76</td>\n",
       "      <td>C+</td>\n",
       "    </tr>\n",
       "    <tr>\n",
       "      <th>6</th>\n",
       "      <td>78</td>\n",
       "      <td>B-</td>\n",
       "    </tr>\n",
       "    <tr>\n",
       "      <th>7</th>\n",
       "      <td>80</td>\n",
       "      <td>B</td>\n",
       "    </tr>\n",
       "    <tr>\n",
       "      <th>8</th>\n",
       "      <td>86</td>\n",
       "      <td>B+</td>\n",
       "    </tr>\n",
       "    <tr>\n",
       "      <th>9</th>\n",
       "      <td>88</td>\n",
       "      <td>A-</td>\n",
       "    </tr>\n",
       "    <tr>\n",
       "      <th>10</th>\n",
       "      <td>90</td>\n",
       "      <td>A</td>\n",
       "    </tr>\n",
       "  </tbody>\n",
       "</table>\n",
       "</div>"
      ],
      "text/plain": [
       "    Min Score Grade\n",
       "0           0     F\n",
       "1          60     D\n",
       "2          66    D+\n",
       "3          68    C-\n",
       "4          70     C\n",
       "5          76    C+\n",
       "6          78    B-\n",
       "7          80     B\n",
       "8          86    B+\n",
       "9          88    A-\n",
       "10         90     A"
      ]
     },
     "execution_count": 3,
     "metadata": {},
     "output_type": "execute_result"
    }
   ],
   "source": [
    "import pandas as pd\n",
    "import numpy as np\n",
    "\n",
    "# These come straight from the syllabus\n",
    "grades       = np.array(['F','D','D+','C-','C','C+','B-','B','B+','A-','A'])\n",
    "grade_breaks = np.array([0,60,66,68,70,76,78,80,86,88,90])\n",
    "df = pd.DataFrame({'Min Score': grade_breaks, \n",
    "                   'Grade': grades})\n",
    "df"
   ]
  },
  {
   "cell_type": "code",
   "execution_count": 6,
   "id": "4ff91b0e",
   "metadata": {
    "scrolled": true
   },
   "outputs": [],
   "source": [
    "import numpy as np\n",
    "\n",
    "\n",
    "\n",
    "def midterm_score(num_v,partial):\n",
    "    \"\"\"\n",
    "    num_v is the number of answers earning no partial credit.\n",
    "    partial is the sum of all the partial deductions on\n",
    "    the exam. If you had 3 deductions and all were -1 point,\n",
    "    it is -3.\n",
    "    \"\"\"\n",
    "    v = 3.25  # pts per item 32 * 3.25  = 104 perfect score\n",
    "    deductions = round(num_v * v) - partial\n",
    "    return np.ceil(104 - deductions)\n",
    "\n",
    "\n",
    "\n",
    "def raw_mid_course_score (midterm_score, \n",
    "                          num_assignments=3,\n",
    "                          running_python_wt = 0,\n",
    "                          final_score=0):\n",
    "    assignment_wt = 6  #  8 assignments * 6 = 48  + 2 running python = 50 points\n",
    "    if num_assignments > 0:\n",
    "        running_python_wt = 2   \n",
    "    midterm_wt = (20/104) # perfect score of 104 worth 20 points toward perfect final grade of 100\n",
    "    final_wt = (30/100)\n",
    "    score = ((midterm_wt)*midterm_score) + \\\n",
    "             running_python_wt + \\\n",
    "             (num_assignments * assignment_wt) + \\\n",
    "             (final_wt * final_score)\n",
    "    #return  np.ceil(score)\n",
    "    return int(round(score))\n",
    "\n",
    "\n",
    "def perfect_score (num_assignments, midterm=None, final=None,\n",
    "                   running_python=2):\n",
    "    ## The perfect raw score for scenarios with just assignements,\n",
    "    ## just midterm, midterm+ final + assignments, etc.\n",
    "    if midterm:\n",
    "        midterm=20\n",
    "    else:\n",
    "        midterm=0\n",
    "    if final:\n",
    "        final = 30  \n",
    "    else:\n",
    "        final=0\n",
    "    if num_assignments == 0:\n",
    "        running_python=0\n",
    "    assert num_assignments<=8, \"More than the maximum number of assignments used!\"\n",
    "    return running_python + (6 * num_assignments) + midterm + final\n",
    "\n",
    "def raw_score_to_projected_grade (raw_score,\n",
    "                                  num_assignments=3,\n",
    "                                  final=None,\n",
    "                                  verbose=0):\n",
    "    perfect = perfect_score(num_assignments,\n",
    "                            midterm=True,\n",
    "                            final=final)\n",
    "    projected = np.ceil(100* (raw_score/perfect)) \n",
    "    idx = np.digitize(projected,df['Min Score']) - 1\n",
    "    Grade = df.iloc[idx]['Grade']\n",
    "    if verbose:\n",
    "        print(f\"Running score tally: {int(raw_score)}/{int(perfect)}\"\n",
    "              f\" Running pct tally: {projected:.0f}%  {Grade=}\")\n",
    "    return Grade \n",
    "\n"
   ]
  },
  {
   "cell_type": "markdown",
   "id": "ecfa1c50",
   "metadata": {},
   "source": [
    "### Midterm picture"
   ]
  },
  {
   "cell_type": "code",
   "execution_count": 10,
   "id": "87314d8d",
   "metadata": {},
   "outputs": [
    {
     "name": "stdout",
     "output_type": "stream",
     "text": [
      "Raw midterm score: 59.00\n",
      "Running grade using just the midterm\n",
      "Running score tally: 11/20 Running pct tally: 56%  Grade='F'\n",
      "Running score tally: 31/40 Running pct tally: 78%  Grade='B-'\n"
     ]
    }
   ],
   "source": [
    "#  There have been 3 assignments to date\n",
    "num_assignments = 3\n",
    "# Max failing score\n",
    "raw_midterm_score = midterm_score(11, -9)\n",
    "# Min midterm score to still have a shot at an A\n",
    "# raw_midterm_score = midterm_score(11, -6)\n",
    "print(f\"Raw midterm score: {raw_midterm_score:.2f}\")\n",
    "print(f\"Running grade using just the midterm\")\n",
    "midterm_course_points = raw_mid_course_score(raw_midterm_score,\n",
    "                                             num_assignments=0,\n",
    "                                             final_score=0)\n",
    "midterm_grade = raw_score_to_projected_grade (midterm_course_points, \n",
    "                                              num_assignments=0,\n",
    "                                              final=0,\n",
    "                                              verbose=True)\n",
    "# We assume the student has done all assignments to compute course grade to date\n",
    "mid_course_points = raw_mid_course_score(raw_midterm_score,num_assignments)\n",
    "course_grade_to_date = raw_score_to_projected_grade (mid_course_points, \n",
    "                                                     num_assignments=num_assignments,\n",
    "                                                     verbose=True)"
   ]
  },
  {
   "cell_type": "markdown",
   "id": "aad4d0ed",
   "metadata": {},
   "source": [
    "### Running grade with perfect assignments (before final)"
   ]
  },
  {
   "cell_type": "code",
   "execution_count": 11,
   "id": "a3cbf225",
   "metadata": {},
   "outputs": [
    {
     "name": "stdout",
     "output_type": "stream",
     "text": [
      "Running score tally: 61/70 Running pct tally: 88%  Grade='A-'\n"
     ]
    }
   ],
   "source": [
    "num_assignments = 8\n",
    "mid_course_points = raw_mid_course_score(raw_midterm_score,num_assignments)\n",
    "# running grade tally with 8 assigments and raw_midterm_score\n",
    "running_grade_tally = raw_score_to_projected_grade (mid_course_points, \n",
    "                                                    num_assignments=num_assignments,\n",
    "                                                    verbose=True)"
   ]
  },
  {
   "cell_type": "markdown",
   "id": "46db5ee6",
   "metadata": {},
   "source": [
    "### Three final scenarios"
   ]
  },
  {
   "cell_type": "code",
   "execution_count": 12,
   "id": "02c94050",
   "metadata": {},
   "outputs": [
    {
     "name": "stdout",
     "output_type": "stream",
     "text": [
      "Running score tally: 85/100 Running pct tally: 85%  Grade='B'\n"
     ]
    }
   ],
   "source": [
    "num_assignments = 8\n",
    "final = 80\n",
    "mid_course_points = raw_mid_course_score(raw_midterm_score,num_assignments,\n",
    "                                         final_score=final)\n",
    "running_grade = raw_score_to_projected_grade (mid_course_points, \n",
    "                                              num_assignments=num_assignments,\n",
    "                                              final=final,verbose=True)"
   ]
  },
  {
   "cell_type": "code",
   "execution_count": 13,
   "id": "6401b559",
   "metadata": {},
   "outputs": [
    {
     "name": "stdout",
     "output_type": "stream",
     "text": [
      "Running score tally: 88/100 Running pct tally: 88%  Grade='A-'\n"
     ]
    }
   ],
   "source": [
    "num_assignments = 8\n",
    "final = 90\n",
    "mid_course_points = raw_mid_course_score(raw_midterm_score,num_assignments,\n",
    "                                         final_score=final)\n",
    "running_grade = raw_score_to_projected_grade (mid_course_points, \n",
    "                                              num_assignments=num_assignments,\n",
    "                                              final=final,verbose=True)"
   ]
  },
  {
   "cell_type": "code",
   "execution_count": 14,
   "id": "52dfcb86",
   "metadata": {},
   "outputs": [
    {
     "name": "stdout",
     "output_type": "stream",
     "text": [
      "Running score tally: 91/100 Running pct tally: 91%  Grade='A'\n"
     ]
    }
   ],
   "source": [
    "num_assignments = 8\n",
    "final = 100\n",
    "mid_course_points = raw_mid_course_score(raw_midterm_score,num_assignments,\n",
    "                                         final_score=final)\n",
    "running_grade = raw_score_to_projected_grade (mid_course_points, \n",
    "                                              num_assignments=num_assignments,\n",
    "                                              final=final,verbose=True)"
   ]
  },
  {
   "cell_type": "code",
   "execution_count": null,
   "id": "b92afeb8",
   "metadata": {},
   "outputs": [],
   "source": []
  }
 ],
 "metadata": {
  "kernelspec": {
   "display_name": "Python 3 (ipykernel)",
   "language": "python",
   "name": "python3"
  },
  "language_info": {
   "codemirror_mode": {
    "name": "ipython",
    "version": 3
   },
   "file_extension": ".py",
   "mimetype": "text/x-python",
   "name": "python",
   "nbconvert_exporter": "python",
   "pygments_lexer": "ipython3",
   "version": "3.8.13"
  }
 },
 "nbformat": 4,
 "nbformat_minor": 5
}
