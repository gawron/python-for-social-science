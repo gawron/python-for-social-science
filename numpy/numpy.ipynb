{
 "cells": [
  {
   "cell_type": "markdown",
   "metadata": {
    "colab_type": "text",
    "id": "Ajg_1H3c0FJF"
   },
   "source": [
    "## 1.  Numpy arrays"
   ]
  },
  {
   "cell_type": "code",
   "execution_count": 1,
   "metadata": {},
   "outputs": [
    {
     "data": {
      "text/plain": [
       "array([ 0,  1,  2,  3,  4,  5,  6,  7,  8,  9, 10, 11, 12, 13, 14])"
      ]
     },
     "execution_count": 1,
     "metadata": {},
     "output_type": "execute_result"
    }
   ],
   "source": [
    "import numpy as np\n",
    "\n",
    "a = np.arange(15)\n",
    "a"
   ]
  },
  {
   "cell_type": "markdown",
   "metadata": {
    "colab_type": "text",
    "id": "9Z97-Fo30FJH"
   },
   "source": [
    "The object named `a` in the cell above is called an **array**."
   ]
  },
  {
   "cell_type": "markdown",
   "metadata": {},
   "source": [
    "We used `np.arange` to define `a`; `np.arange` is like the builtin Python function `range`, except that it produces an array in place of a list.  For now you can think of an array as sequence with only one type.  You can do various sequence-like things with arrays, such as indexing by position and taking slices."
   ]
  },
  {
   "cell_type": "code",
   "execution_count": 3,
   "metadata": {},
   "outputs": [
    {
     "data": {
      "text/plain": [
       "2"
      ]
     },
     "execution_count": 3,
     "metadata": {},
     "output_type": "execute_result"
    }
   ],
   "source": [
    "a[2]"
   ]
  },
  {
   "cell_type": "code",
   "execution_count": 4,
   "metadata": {},
   "outputs": [
    {
     "data": {
      "text/plain": [
       "array([2, 3, 4])"
      ]
     },
     "execution_count": 4,
     "metadata": {},
     "output_type": "execute_result"
    }
   ],
   "source": [
    "a[2:5]"
   ]
  },
  {
   "cell_type": "markdown",
   "metadata": {
    "colab_type": "text",
    "id": "e3S6U6pR0FJI"
   },
   "source": [
    "There are some other differences between `a` and the ordinary Python sequences we have learned about, but  we can't really talk about what motivates arrays without looking at a different kind of example: The characteristic\n",
    "feature of a sequence is that any item in it can unambigously be accessed by a single integer; there's a first postion and the first position has a next position associated with it.  In this sense sequences are **one-dimensional**.\n",
    "\n",
    "In addition to 1D sequences like `a`, `numpy` also provides **2D arrays**, which are **tables of numbers**.  Here both row and column structure matter.\n",
    "\n",
    "An example:"
   ]
  },
  {
   "cell_type": "code",
   "execution_count": 38,
   "metadata": {
    "colab": {
     "base_uri": "https://localhost:8080/",
     "height": 0
    },
    "colab_type": "code",
    "id": "IAI6zend0FJI",
    "outputId": "66ad2895-cad6-4dc8-a9db-a088ce24a271"
   },
   "outputs": [
    {
     "name": "stdout",
     "output_type": "stream",
     "text": [
      "[[ 0  1  2  3  4]\n",
      " [ 5  6  7  8  9]\n",
      " [10 11 12 13 14]]\n"
     ]
    }
   ],
   "source": [
    "#Make a 3x5 array from the range array we used above.\n",
    "LL = np.arange(15).reshape((3,5))\n",
    "print(LL)"
   ]
  },
  {
   "cell_type": "markdown",
   "metadata": {},
   "source": [
    "`LL` is a 3x5 two-dimensional array.  It has 3 rows and 5 columns.\n",
    "\n",
    "To access any given value we need two integers, a 0-based row index paired with c 0-based column index."
   ]
  },
  {
   "cell_type": "code",
   "execution_count": 23,
   "metadata": {
    "colab": {
     "base_uri": "https://localhost:8080/",
     "height": 0
    },
    "colab_type": "code",
    "id": "FNURSADa0FJM",
    "outputId": "8df98b75-f53d-46a0-a00c-be3f2edd2dd0"
   },
   "outputs": [
    {
     "data": {
      "text/plain": [
       "13"
      ]
     },
     "execution_count": 23,
     "metadata": {},
     "output_type": "execute_result"
    }
   ],
   "source": [
    "LL[2,3]"
   ]
  },
  {
   "cell_type": "markdown",
   "metadata": {},
   "source": [
    "Contrast that with the single index we need to retrieve the same value from the original array `a`:"
   ]
  },
  {
   "cell_type": "code",
   "execution_count": 24,
   "metadata": {},
   "outputs": [
    {
     "data": {
      "text/plain": [
       "13"
      ]
     },
     "execution_count": 24,
     "metadata": {},
     "output_type": "execute_result"
    }
   ],
   "source": [
    "a[13]"
   ]
  },
  {
   "cell_type": "markdown",
   "metadata": {},
   "source": [
    "So `a` has 1 **dimension**; `LL` has 2."
   ]
  },
  {
   "cell_type": "code",
   "execution_count": 39,
   "metadata": {},
   "outputs": [
    {
     "name": "stdout",
     "output_type": "stream",
     "text": [
      "[ 0  1  2  3  4  5  6  7  8  9 10 11 12 13 14]\n",
      "\n",
      "[[ 0  1  2  3  4]\n",
      " [ 5  6  7  8  9]\n",
      " [10 11 12 13 14]]\n"
     ]
    }
   ],
   "source": [
    "print(a)\n",
    "print()\n",
    "print(LL)"
   ]
  },
  {
   "cell_type": "markdown",
   "metadata": {},
   "source": [
    "#### Exercise\n",
    "\n",
    "In the next cell an array `P` is created.\n",
    "\n",
    "Write array-indexing expressions that retrieve the following values from `P`.\n",
    "\n",
    "  1.  13\n",
    "  2.  8\n",
    "  3.  26\n",
    "  \n",
    "Explain why `P[2,8]`  raises an error while `P[8,2]` does not."
   ]
  },
  {
   "cell_type": "code",
   "execution_count": 40,
   "metadata": {},
   "outputs": [
    {
     "data": {
      "text/plain": [
       "array([[ 0,  1,  2],\n",
       "       [ 3,  4,  5],\n",
       "       [ 6,  7,  8],\n",
       "       [ 9, 10, 11],\n",
       "       [12, 13, 14],\n",
       "       [15, 16, 17],\n",
       "       [18, 19, 20],\n",
       "       [21, 22, 23],\n",
       "       [24, 25, 26]])"
      ]
     },
     "execution_count": 40,
     "metadata": {},
     "output_type": "execute_result"
    }
   ],
   "source": [
    "P = np.arange(27).reshape((9,3))\n",
    "P"
   ]
  },
  {
   "cell_type": "code",
   "execution_count": 6,
   "metadata": {},
   "outputs": [
    {
     "data": {
      "text/plain": [
       "8"
      ]
     },
     "execution_count": 6,
     "metadata": {},
     "output_type": "execute_result"
    }
   ],
   "source": [
    "P[2,2]"
   ]
  },
  {
   "cell_type": "code",
   "execution_count": null,
   "metadata": {},
   "outputs": [],
   "source": []
  },
  {
   "cell_type": "code",
   "execution_count": null,
   "metadata": {},
   "outputs": [],
   "source": []
  },
  {
   "cell_type": "code",
   "execution_count": null,
   "metadata": {},
   "outputs": [],
   "source": []
  },
  {
   "cell_type": "code",
   "execution_count": null,
   "metadata": {},
   "outputs": [],
   "source": []
  },
  {
   "cell_type": "code",
   "execution_count": null,
   "metadata": {},
   "outputs": [],
   "source": []
  },
  {
   "cell_type": "code",
   "execution_count": null,
   "metadata": {},
   "outputs": [],
   "source": []
  },
  {
   "cell_type": "code",
   "execution_count": 300,
   "metadata": {},
   "outputs": [
    {
     "data": {
      "text/plain": [
       "13"
      ]
     },
     "execution_count": 300,
     "metadata": {},
     "output_type": "execute_result"
    }
   ],
   "source": [
    "P[4,1]"
   ]
  },
  {
   "cell_type": "code",
   "execution_count": 301,
   "metadata": {},
   "outputs": [
    {
     "data": {
      "text/plain": [
       "8"
      ]
     },
     "execution_count": 301,
     "metadata": {},
     "output_type": "execute_result"
    }
   ],
   "source": [
    "P[2,2]"
   ]
  },
  {
   "cell_type": "code",
   "execution_count": 302,
   "metadata": {},
   "outputs": [
    {
     "data": {
      "text/plain": [
       "26"
      ]
     },
     "execution_count": 302,
     "metadata": {},
     "output_type": "execute_result"
    }
   ],
   "source": [
    "P[8,2]"
   ]
  },
  {
   "cell_type": "markdown",
   "metadata": {},
   "source": [
    "The error message in the next cell\n",
    "refers to axis 1 which is the column axis.  Since the array is 9x3 and 0-based indexing\n",
    "is used for each dimension, the maximum row index is 8 and the maximum column index is 2; `P[8,2]` obeys\n",
    "these limits; the example in the next cell does not."
   ]
  },
  {
   "cell_type": "code",
   "execution_count": 303,
   "metadata": {},
   "outputs": [
    {
     "ename": "IndexError",
     "evalue": "index 8 is out of bounds for axis 1 with size 3",
     "output_type": "error",
     "traceback": [
      "\u001b[0;31m---------------------------------------------------------------------------\u001b[0m",
      "\u001b[0;31mIndexError\u001b[0m                                Traceback (most recent call last)",
      "Input \u001b[0;32mIn [303]\u001b[0m, in \u001b[0;36m<cell line: 1>\u001b[0;34m()\u001b[0m\n\u001b[0;32m----> 1\u001b[0m \u001b[43mP\u001b[49m\u001b[43m[\u001b[49m\u001b[38;5;241;43m2\u001b[39;49m\u001b[43m,\u001b[49m\u001b[38;5;241;43m8\u001b[39;49m\u001b[43m]\u001b[49m\n",
      "\u001b[0;31mIndexError\u001b[0m: index 8 is out of bounds for axis 1 with size 3"
     ]
    }
   ],
   "source": [
    "P[2,8]"
   ]
  },
  {
   "cell_type": "markdown",
   "metadata": {},
   "source": [
    "####  Different shapes for the same data"
   ]
  },
  {
   "cell_type": "markdown",
   "metadata": {},
   "source": [
    "In the next cell four arrays are created, one **1D array** `a_1d` of length 15, and three 2D arrays, \n",
    "and each of the four arrays is printed.  We see some of the various ways of representing\n",
    "the same sequence of numbers opened up by having\n",
    "two dimensions instead of just one.\n",
    "\n",
    "To create the first two 2D arrays, the 1D array  is **reshaped**; first into a 3 by 5 array\n",
    "(array `b`; a 3 by 5 array has 3 rows and 2 columns), then into a 5 by 3 array (array `c`; a 5 by 3 array\n",
    "has 5 rows and 3 columns).\n",
    "\n",
    "Finally, we create a third 2D array `c` by transposing `b`;\n",
    "note that `c` has the same 3 by 5 shape as `a`, but is distinct from it."
   ]
  },
  {
   "cell_type": "code",
   "execution_count": 15,
   "metadata": {
    "colab": {
     "base_uri": "https://localhost:8080/",
     "height": 0
    },
    "colab_type": "code",
    "id": "Gz3DJFHQ0FJW",
    "outputId": "b9ae38ba-c38a-492c-8da1-db15dfa8e8ab"
   },
   "outputs": [
    {
     "name": "stdout",
     "output_type": "stream",
     "text": [
      "a_1d\n",
      " [ 0  1  2  3  4  5  6  7  8  9 10 11 12 13 14]\n",
      "a\n",
      " [[ 0  1  2  3  4]\n",
      " [ 5  6  7  8  9]\n",
      " [10 11 12 13 14]]\n",
      "b\n",
      " [[ 0  1  2]\n",
      " [ 3  4  5]\n",
      " [ 6  7  8]\n",
      " [ 9 10 11]\n",
      " [12 13 14]]\n",
      "c\n",
      " [[ 0  3  6  9 12]\n",
      " [ 1  4  7 10 13]\n",
      " [ 2  5  8 11 14]]\n"
     ]
    }
   ],
   "source": [
    "a_1d = np.arange(15)\n",
    "print('a_1d\\n', a_1d)\n",
    "a = np.arange(15).reshape(3, 5)\n",
    "print('a\\n', a)\n",
    "b = np.arange(15).reshape(5, 3)\n",
    "print('b\\n',b)\n",
    "c = b.transpose()\n",
    "print('c\\n',c)"
   ]
  },
  {
   "cell_type": "markdown",
   "metadata": {},
   "source": [
    "#### Arrays and Math"
   ]
  },
  {
   "cell_type": "markdown",
   "metadata": {
    "colab_type": "text",
    "id": "mYf7kyLx0FJX"
   },
   "source": [
    "The need for 2D arrays is obvious if you've taken a linear algebra class.  They correspond to the mathematical object called a **matrix**.  One application for matrices is in solving systems of equations, and indeed numpy 2D arrays are routinely used to solve systems of equations, but this really only scratches the surface. A matrix can represent any **linear map**, and a linear map is a very general and very important mathematical idea.  Examples of linear maps include rotation in 2D and 3D space,\n",
    "mappings from any coordinate system to any other coordinate system, and differentiation of polynomial\n",
    "functions.\n",
    "\n",
    "A more immediate application for matrices for a data scientist is they can represent all that is known about a single data set.  Generally each row represents an item (an individual or event in the data), and the entry in each column its value for a particular attribute. For example let's say each room in a hotel has lamps, tables, chairs, and beds, but in varying numbers.  We might represent the inventory of items in 5-room hotel with a 5x4 matrix (5 rows, 4 columns), as follows:\n",
    "\n",
    "```\n",
    "6  3 4 1\n",
    "5  2 3 2\n",
    "8  3 6 2\n",
    "5  1 3 1\n",
    "10 4 7 2\n",
    "```\n",
    "\n",
    "So the first row represents a room with 6 lamps, 3 tables, 4 chairs, and 1 bed.\n",
    "Now if we represent the cost of each item as 1D cost array (or **vector**) to use the mathematical term,\n",
    "\n",
    "```\n",
    "40 175 90 450,\n",
    "```\n",
    "\n",
    "where the costs are ordered in the same way as our columns above: lamps costs, table costs, chair costs, and bed costs.  Then we can compute  the first room furnishing costs as follows:"
   ]
  },
  {
   "cell_type": "code",
   "execution_count": 26,
   "metadata": {
    "colab": {
     "base_uri": "https://localhost:8080/",
     "height": 0
    },
    "colab_type": "code",
    "id": "EiFrWFVj0FJY",
    "outputId": "84236703-69cb-4ade-db9c-023313191727"
   },
   "outputs": [
    {
     "data": {
      "text/plain": [
       "1575"
      ]
     },
     "execution_count": 26,
     "metadata": {
      "tags": []
     },
     "output_type": "execute_result"
    }
   ],
   "source": [
    "6*40 + 3*175 + 4*90 + 1*450"
   ]
  },
  {
   "cell_type": "markdown",
   "metadata": {
    "colab_type": "text",
    "id": "QkNlYIpfyWMz"
   },
   "source": [
    "Now the computation above can also be done as the \"dot product\" (or \"dot\") of the first row of the room_matrix and the cost vector.  The dot product of two 1D arrays is just the sum of the product of the corresponding terms in the two arrays (they need to be the same length).  That is, \n",
    "\n",
    "```\n",
    "6*40 + 3*175 + 4*90 + 1*450\n",
    "```\n",
    "\n",
    "So one way of thinking of **dot product** --- an operation of great importance in mathematics and physics (and many\n",
    "other contexts) --- is just as a way of applying a particular sequence of coefficients --- 6, 3, 4, and 1 here to a particular sequence of values --- 40, 175, 90, and 450 here.  "
   ]
  },
  {
   "cell_type": "code",
   "execution_count": 10,
   "metadata": {
    "colab": {},
    "colab_type": "code",
    "id": "h5E6II3O0FJa"
   },
   "outputs": [],
   "source": [
    "room_matrix = \\\n",
    "np.array(\n",
    "[[6,  3, 4, 1],\n",
    "[5,  2, 3, 2],\n",
    "[8,  3, 6, 2],\n",
    "[2,  1, 3, 5]])\n",
    "\n",
    "cost_vector = np.array([40, 175, 90, 450])"
   ]
  },
  {
   "cell_type": "markdown",
   "metadata": {},
   "source": [
    "Computing the room cost for the first room:"
   ]
  },
  {
   "cell_type": "code",
   "execution_count": 23,
   "metadata": {
    "colab": {
     "base_uri": "https://localhost:8080/",
     "height": 0
    },
    "colab_type": "code",
    "id": "hml9s_hZyiO1",
    "outputId": "7864581e-452e-417f-e9e2-d253401c2c8c"
   },
   "outputs": [
    {
     "data": {
      "text/plain": [
       "1575"
      ]
     },
     "execution_count": 23,
     "metadata": {},
     "output_type": "execute_result"
    }
   ],
   "source": [
    "room0_value = room_matrix[0,:].dot(cost_vector)\n",
    "room0_value"
   ]
  },
  {
   "cell_type": "markdown",
   "metadata": {},
   "source": [
    "Mathematically, dot product is an operation that takes two vectors (sequences of values) and produces\n",
    "a scalar (a single number)."
   ]
  },
  {
   "cell_type": "markdown",
   "metadata": {
    "colab_type": "text",
    "id": "MamBlnqyzzXn"
   },
   "source": [
    "If we ask `python` for the dot product of an M x N array A with a 1D N-array B, the result is a 1D array containing the dot product of the M rows of A with B.  Applied to our example, the dot product of the room matrix with the cost vector yields the costs of the 5 rooms.  That is, we apply the cost vector to each of the room vectors\n",
    "and produce a vector containing the furnishing costs of the 5 rooms."
   ]
  },
  {
   "cell_type": "code",
   "execution_count": 25,
   "metadata": {
    "colab": {
     "base_uri": "https://localhost:8080/",
     "height": 0
    },
    "colab_type": "code",
    "id": "tZQkAmUV0FJb",
    "outputId": "07419f22-b08f-479c-a611-76fe7eafe2bd",
    "scrolled": true
   },
   "outputs": [
    {
     "name": "stdout",
     "output_type": "stream",
     "text": [
      "Room furnishings\n",
      " [[6 3 4 1]\n",
      " [5 2 3 2]\n",
      " [8 3 6 2]\n",
      " [2 1 3 5]]\n",
      "Furniture cost vector\n",
      " [ 40 175  90 450]\n",
      "Inventory values vector\n",
      " [1575 1720 2285 2775]\n"
     ]
    }
   ],
   "source": [
    "print(\"Room furnishings\\n\", room_matrix)\n",
    "print(\"Furniture cost vector\\n\",cost_vector)\n",
    "print(\"Inventory values vector\\n\",room_matrix.dot(cost_vector))"
   ]
  },
  {
   "cell_type": "markdown",
   "metadata": {
    "colab_type": "text",
    "id": "c-tIfmT10FJd"
   },
   "source": [
    "The mathematical name for what python calls the `dot` method is **matrix multiplication**."
   ]
  },
  {
   "cell_type": "markdown",
   "metadata": {
    "colab_type": "text",
    "id": "c-tIfmT10FJd"
   },
   "source": [
    "As is often the case in Python, important binary operations\n",
    "that can be computed with a method can also be computed\n",
    "using an operator.  Following the convention\n",
    "of arithmetic operators like `+` and `-`, the operator\n",
    "is written between its two arguments. The operator symbol for matrix\n",
    "multiplication is `@`, so the matrix multiplication above can also be written:"
   ]
  },
  {
   "cell_type": "code",
   "execution_count": 21,
   "metadata": {},
   "outputs": [
    {
     "name": "stdout",
     "output_type": "stream",
     "text": [
      "[1575 1720 2285 2775]\n"
     ]
    }
   ],
   "source": [
    "inventory_values = room_matrix @ cost_vector\n",
    "print(inventory_values)"
   ]
  },
  {
   "cell_type": "markdown",
   "metadata": {},
   "source": [
    "We've taken the dot product of the cost vector with each row and assembled the results into\n",
    "a vector.  For instance:"
   ]
  },
  {
   "cell_type": "code",
   "execution_count": 37,
   "metadata": {},
   "outputs": [
    {
     "data": {
      "text/plain": [
       "1575"
      ]
     },
     "execution_count": 37,
     "metadata": {},
     "output_type": "execute_result"
    }
   ],
   "source": [
    "room_matrix[0,:] @ cost_vector"
   ]
  },
  {
   "cell_type": "markdown",
   "metadata": {},
   "source": [
    "#### A wee bit of linear algebra \n",
    "\n",
    "Now suppose we knew the inventory values for each room (say, the ones just computed).  Could we\n",
    "get back the cost of each furniture type?\n",
    "\n",
    "Sure, that would amount to computing the 4 furniture cost values (call them $x_{1}$, $x_{2}$, $x_{3}$, and $x_{4}$, knowing the following facts:\n",
    "\n",
    "$$\n",
    "\\begin{array}[t]{ccccccccc}\n",
    "6*x_{1} & + & 3*x_{2} & + & 4*x_{3} & + &  1*x_{4} & =&  1575\\\\\n",
    "5*x_{1} & + & 2*x_{2} & + & 3*x_{3} & + &  2*x_{4} & =&  1720\\\\\n",
    "8*x_{1} & + & 3*x_{2} & + & 6*x_{3} & + &  2*x_{4} & =&  2285\\\\\n",
    "2*x_{1} & + & 1*x_{2} & + & 3*x_{3} & + &  5*x_{4} & =&  2775\\\\\n",
    "\\end{array}\n",
    "$$\n",
    "\n",
    "That's enough equations to solve for 4 variables.  And we can rewrite\n",
    "the equations in what's called matrix form:\n",
    "\n",
    "$$\n",
    "\\left \\lbrack \\begin{array}{ccccccccc}\n",
    "6 & 3  & 4 & 1 \\\\\n",
    "5 & 2 & 3 &  2\\\\\n",
    "8 & 3  & 6 &  2\\\\\n",
    "2 & 1 & 3 & 5\n",
    "\\end{array}\n",
    "\\right \\rbrack  \n",
    "\\,\n",
    "\\left \\lbrack \n",
    "\\begin{array}{c}\n",
    "x_{1}\\\\\n",
    "x_{2}\\\\\n",
    "x_{3}\\\\\n",
    "x_{4}\n",
    "\\end{array}\n",
    "\\right\\rbrack  = \n",
    "\\left \\lbrack \n",
    "\\begin{array}{c}\n",
    "1575\\\\\n",
    "1720\\\\\n",
    "2285\\\\\n",
    "2775\n",
    "\\end{array}\n",
    "\\right\\rbrack \n",
    "$$\n",
    "\n",
    "There's our 2D `room_matrix` array on the lefthand side and the 1D `inventory_values` array on the right\n",
    "The operation being performed between `room_matrix` and $\\left \\lbrack \n",
    "\\begin{array}{c}\n",
    "x_{1}\\\\\n",
    "x_{2}\\\\\n",
    "x_{3}\\\\\n",
    "x_{4}\n",
    "\\end{array}\n",
    "\\right\\rbrack$\n",
    "is still matrix multiplication.  So we're just looking for the vector whose matrix product\n",
    "with `room_matrix`  is `inventory_values`; `numpy` can of course compute this for us:\n",
    "just call the `solve` function from the `linalg` package."
   ]
  },
  {
   "cell_type": "code",
   "execution_count": 27,
   "metadata": {},
   "outputs": [],
   "source": [
    "from numpy import linalg\n",
    "\n",
    "# Retrieving the cost vector knowing the room by room costs\n",
    "# Find the vector whose matrix product with room_matrix is inventory_values.\n",
    "cost_vector0 = linalg.solve(room_matrix, inventory_values)\n"
   ]
  },
  {
   "cell_type": "markdown",
   "metadata": {},
   "source": [
    "Not every matrix equation that can be written in this form has a solution, but we know this\n",
    "one does because of how we created `inventory_values` from `cost_vector`.  And sure enough\n",
    "the solution found"
   ]
  },
  {
   "cell_type": "code",
   "execution_count": 28,
   "metadata": {},
   "outputs": [
    {
     "data": {
      "text/plain": [
       "array([ 40., 175.,  90., 450.])"
      ]
     },
     "execution_count": 28,
     "metadata": {},
     "output_type": "execute_result"
    }
   ],
   "source": [
    "cost_vector0"
   ]
  },
  {
   "cell_type": "markdown",
   "metadata": {},
   "source": [
    "agrees pretty well with our original cost vector."
   ]
  },
  {
   "cell_type": "code",
   "execution_count": 30,
   "metadata": {},
   "outputs": [
    {
     "data": {
      "text/plain": [
       "array([ 40, 175,  90, 450])"
      ]
     },
     "execution_count": 30,
     "metadata": {},
     "output_type": "execute_result"
    }
   ],
   "source": [
    "cost_vector"
   ]
  },
  {
   "cell_type": "markdown",
   "metadata": {},
   "source": [
    "Though as often happens when we check numerical computing results\n",
    "for consistency, the two results are not **quite** equal."
   ]
  },
  {
   "cell_type": "code",
   "execution_count": 29,
   "metadata": {},
   "outputs": [
    {
     "data": {
      "text/plain": [
       "array([False, False,  True, False])"
      ]
     },
     "execution_count": 29,
     "metadata": {},
     "output_type": "execute_result"
    }
   ],
   "source": [
    "cost_vector == cost_vector0"
   ]
  },
  {
   "cell_type": "markdown",
   "metadata": {},
   "source": [
    "This is due to wee imprecisions that arise in the course of computing the inverse of `room_matrix`, for example:"
   ]
  },
  {
   "cell_type": "code",
   "execution_count": 32,
   "metadata": {},
   "outputs": [
    {
     "name": "stdout",
     "output_type": "stream",
     "text": [
      "40.000000000000014 40\n"
     ]
    }
   ],
   "source": [
    "print(cost_vector0[0], cost_vector[0])"
   ]
  },
  {
   "cell_type": "markdown",
   "metadata": {},
   "source": [
    "In a realistic scenario where you were trying to solve such a systrem of equations, you might want to check\n",
    "whether a solution existed first.  Our linear algebra textbook tells that a solution exists if the determinant of the matrix is non zero.  \n",
    "\n",
    "Again, `numpy` can compute that for us:"
   ]
  },
  {
   "cell_type": "code",
   "execution_count": 36,
   "metadata": {},
   "outputs": [
    {
     "data": {
      "text/plain": [
       "-27.0"
      ]
     },
     "execution_count": 36,
     "metadata": {},
     "output_type": "execute_result"
    }
   ],
   "source": [
    "np.linalg.det(room_matrix)"
   ]
  },
  {
   "cell_type": "markdown",
   "metadata": {},
   "source": [
    "And consistent with what we already know, we see that matrix equations with this matrix do\n",
    "have solutions (though they won't all have positive numbers that we can interpret as costs)."
   ]
  },
  {
   "cell_type": "markdown",
   "metadata": {},
   "source": [
    "####  Arrays as Data Types"
   ]
  },
  {
   "cell_type": "markdown",
   "metadata": {
    "colab_type": "text",
    "id": "dSZHdojw0FJe"
   },
   "source": [
    "`numpy` ndimensional-arrays are a new data type to be \n",
    "added to our list of Python data types.  Like other\n",
    "data types, they have their list of type-specific attributes.\n",
    "\n",
    "Line 1 of the cell below shows `room_matrix` has shape `(5,4)`,\n",
    "meaning it has two dimensions, a row dimension and a column dimension,\n",
    "and the size of the row dimension is `5`  and the size of the column dimension is\n",
    "`4`.  Line 2 shows it is a 2D array (`ndim = 2`).\n",
    "Line 3 shows that the type of each entry is `np.int64`\n",
    "a `numpy`-internal data type for integers. Line 4 shows \n",
    "how much memory each element of the array takes up (in bytes).\n",
    "Line 6 shows the official `numpy`-internal data type for\n",
    "2 dimensional arrays is `np.ndarray`.  That is, 1D arrays\n",
    "2D arrays and higher dimensional arrays all belong\n",
    "to the same type."
   ]
  },
  {
   "cell_type": "code",
   "execution_count": 22,
   "metadata": {
    "colab": {
     "base_uri": "https://localhost:8080/",
     "height": 0
    },
    "colab_type": "code",
    "id": "v1ROk32T0FJe",
    "outputId": "cdd5b2ce-dd08-461d-9161-3062bf345851"
   },
   "outputs": [
    {
     "name": "stdout",
     "output_type": "stream",
     "text": [
      "(5, 4)\n",
      "2\n",
      "int64\n",
      "8\n",
      "20\n",
      "<class 'numpy.ndarray'>\n"
     ]
    }
   ],
   "source": [
    "print(room_matrix.shape)\n",
    "print(room_matrix.ndim)          # a is a 2D array\n",
    "print(room_matrix.dtype.name)    # np.int64 maxint = 2**63 - 1\n",
    "print(room_matrix.itemsize)      # Such an int takes up 8 bytes of memory\n",
    "print(room_matrix.size)          # Number of elements\n",
    "print(type(room_matrix))"
   ]
  },
  {
   "cell_type": "markdown",
   "metadata": {
    "colab_type": "text",
    "id": "59PkfJyxavBN"
   },
   "source": [
    "The python interpreter and the print function will print out arrays differently (Although this is an option any Python type can take, most types look the same whether they're printed by `print` or the interpreter).  Either way, arrays look different from lists."
   ]
  },
  {
   "cell_type": "code",
   "execution_count": 17,
   "metadata": {
    "colab": {
     "base_uri": "https://localhost:8080/",
     "height": 0
    },
    "colab_type": "code",
    "id": "ccvE6k4J0FJg",
    "outputId": "6d7c0a33-8c27-4bb4-c30a-4cfa85707bc8"
   },
   "outputs": [
    {
     "name": "stdout",
     "output_type": "stream",
     "text": [
      "[6, 7, 8]\n",
      "[6 7 8]\n"
     ]
    },
    {
     "data": {
      "text/plain": [
       "array([6, 7, 8])"
      ]
     },
     "execution_count": 17,
     "metadata": {},
     "output_type": "execute_result"
    }
   ],
   "source": [
    "# b is an array created from a list\n",
    "L = [6, 7, 8]\n",
    "b = np.array(L)\n",
    "\n",
    "# print the list\n",
    "print(L)\n",
    "\n",
    "# print the array\n",
    "print(b)\n",
    "\n",
    "# This cell returns the array\n",
    "b"
   ]
  },
  {
   "cell_type": "markdown",
   "metadata": {
    "colab_type": "text",
    "id": "r2oexBUk0FJi"
   },
   "source": [
    "A sequence of sequences can be used to define a 2D-array, but since the inner sequences are rows, they must all be the same length."
   ]
  },
  {
   "cell_type": "code",
   "execution_count": 28,
   "metadata": {
    "colab": {
     "base_uri": "https://localhost:8080/",
     "height": 0
    },
    "colab_type": "code",
    "id": "C5IaEmjj0FJi",
    "outputId": "be7fc499-7389-4a9f-f5da-e5a3d5a79571"
   },
   "outputs": [
    {
     "data": {
      "text/plain": [
       "array([[1.5, 2. , 3. ],\n",
       "       [4. , 5. , 6. ]])"
      ]
     },
     "execution_count": 28,
     "metadata": {},
     "output_type": "execute_result"
    }
   ],
   "source": [
    "import numpy as np\n",
    "b = np.array( [ (1.5,2,3), (4,5,6) ] )\n",
    "b"
   ]
  },
  {
   "cell_type": "markdown",
   "metadata": {},
   "source": [
    "This is what we did to define `row_matrix` above."
   ]
  },
  {
   "cell_type": "markdown",
   "metadata": {
    "colab_type": "text",
    "id": "MqcRxVmK0FJk"
   },
   "source": [
    "Arrays can also contain complex numbers, an important property if they are to serve as the computational\n",
    "versions of matrices in mathematics.   Matrices with complex numbers have important applications,\n",
    "for example, in quantum mechanics.  However, we won't be making much use of this feature in this course."
   ]
  },
  {
   "cell_type": "code",
   "execution_count": 3,
   "metadata": {
    "colab": {
     "base_uri": "https://localhost:8080/",
     "height": 0
    },
    "colab_type": "code",
    "id": "6C59KnpF1ery",
    "outputId": "346fd7c6-acff-45cd-9ee2-658bf4a38172"
   },
   "outputs": [
    {
     "data": {
      "text/plain": [
       "array([[1.+1.j, 2.-3.j],\n",
       "       [3.+5.j, 4.+1.j]])"
      ]
     },
     "execution_count": 3,
     "metadata": {},
     "output_type": "execute_result"
    }
   ],
   "source": [
    "c1 = np.array( [ [1+1j,2-3j], [3+5j,4+1j] ])\n",
    "c2"
   ]
  },
  {
   "cell_type": "markdown",
   "metadata": {},
   "source": [
    "As with real numbers, arrays with complex numbers can be decomposed into their real and imaginary parts:"
   ]
  },
  {
   "cell_type": "code",
   "execution_count": 9,
   "metadata": {},
   "outputs": [
    {
     "data": {
      "text/plain": [
       "array([[1.+1.j, 2.-3.j],\n",
       "       [3.+5.j, 4.+1.j]])"
      ]
     },
     "execution_count": 9,
     "metadata": {},
     "output_type": "execute_result"
    }
   ],
   "source": [
    "R = np.array([[1,2],[3,4]]) \n",
    "I = np.array([[1,-3],[5,1]])\n",
    "\n",
    "c2 = R + 1j*I\n",
    "c2"
   ]
  },
  {
   "cell_type": "code",
   "execution_count": 10,
   "metadata": {},
   "outputs": [
    {
     "name": "stdout",
     "output_type": "stream",
     "text": [
      "int64 int64 complex128\n"
     ]
    }
   ],
   "source": [
    "print(R.dtype,I.dtype,c2.dtype)"
   ]
  },
  {
   "cell_type": "markdown",
   "metadata": {},
   "source": [
    "#### Creating a new array ( np.zeros( ) )"
   ]
  },
  {
   "cell_type": "markdown",
   "metadata": {
    "colab_type": "text",
    "id": "ny4TBB0l0FJn"
   },
   "source": [
    "A very convenient way to fill an array is to start with an array containing all 0's or 1's and then update the contents:"
   ]
  },
  {
   "cell_type": "code",
   "execution_count": 11,
   "metadata": {
    "colab": {
     "base_uri": "https://localhost:8080/",
     "height": 0
    },
    "colab_type": "code",
    "id": "9TVLWvj50FJn",
    "outputId": "3c1034aa-e7f8-4e0d-869c-139ef720b77b",
    "scrolled": true
   },
   "outputs": [
    {
     "data": {
      "text/plain": [
       "array([[0., 0., 0., 0.],\n",
       "       [0., 0., 0., 0.],\n",
       "       [0., 0., 0., 0.]])"
      ]
     },
     "execution_count": 11,
     "metadata": {},
     "output_type": "execute_result"
    }
   ],
   "source": [
    "X = np.zeros( (3,4) )\n",
    "X"
   ]
  },
  {
   "cell_type": "markdown",
   "metadata": {},
   "source": [
    "The corresponding function for ones is  `np.ones()`."
   ]
  },
  {
   "cell_type": "code",
   "execution_count": 12,
   "metadata": {},
   "outputs": [
    {
     "data": {
      "text/plain": [
       "array([[1., 1., 1., 1.],\n",
       "       [1., 1., 1., 1.],\n",
       "       [1., 1., 1., 1.]])"
      ]
     },
     "execution_count": 12,
     "metadata": {},
     "output_type": "execute_result"
    }
   ],
   "source": [
    "np.ones( (3,4) )"
   ]
  },
  {
   "cell_type": "markdown",
   "metadata": {},
   "source": [
    "For a discussion of the Python builtin function `range`,\n",
    "see the **range_and_enumerate_in_python** notebook.\n",
    "For now we note that its most frequent use is\n",
    "to take an integer argument `n` and return an iterable range\n",
    "of numbers from `0` throgh `n-1`.\n",
    "\n",
    "This provides a convenient way to write a loop filling an array with values."
   ]
  },
  {
   "cell_type": "code",
   "execution_count": 30,
   "metadata": {},
   "outputs": [
    {
     "data": {
      "text/plain": [
       "array([[0., 1., 2., 3.],\n",
       "       [1., 2., 3., 4.],\n",
       "       [2., 3., 4., 5.]])"
      ]
     },
     "execution_count": 30,
     "metadata": {},
     "output_type": "execute_result"
    }
   ],
   "source": [
    "rows,cols = (3,4)\n",
    "X = np.zeros((rows,cols))\n",
    "for i in range(rows):\n",
    "    for j in range(cols):\n",
    "        X[i,j] = i+j\n",
    "X"
   ]
  },
  {
   "cell_type": "markdown",
   "metadata": {
    "colab_type": "text",
    "id": "06p6FQ7z3GXT"
   },
   "source": [
    "#### Reshaping an array \n",
    "\n",
    "```\n",
    "A.reshape((m,n))\n",
    "```\n",
    "\n",
    "means recasting the data in and `A` into\n",
    "m rows and n columns.,  This means `A` has to have m x n \n",
    "cells.  Reshaping can be done on any array that has the right number\n",
    "of cells.  For example, a 2D 3x4 array can be reshaped into a 6x2\n",
    "array."
   ]
  },
  {
   "cell_type": "code",
   "execution_count": 14,
   "metadata": {
    "colab": {
     "base_uri": "https://localhost:8080/",
     "height": 85
    },
    "colab_type": "code",
    "id": "loTxKKQm0FJp",
    "outputId": "eed9ebd2-378f-4981-9141-8beffa09a7c7"
   },
   "outputs": [
    {
     "name": "stdout",
     "output_type": "stream",
     "text": [
      "[[ 0  1  2  3]\n",
      " [ 4  5  6  7]\n",
      " [ 8  9 10 11]]\n",
      "\n",
      "[[ 0  1]\n",
      " [ 2  3]\n",
      " [ 4  5]\n",
      " [ 6  7]\n",
      " [ 8  9]\n",
      " [10 11]]\n"
     ]
    }
   ],
   "source": [
    "Y = np.arange(12).reshape((3,4))\n",
    "print(Y,end=\"\\n\\n\")\n",
    "print(Y.reshape((6,2)))"
   ]
  },
  {
   "cell_type": "markdown",
   "metadata": {
    "colab_type": "text",
    "id": "eZoNIC0t0FJr"
   },
   "source": [
    "#### Indexing 2D arrays"
   ]
  },
  {
   "cell_type": "markdown",
   "metadata": {
    "colab_type": "text",
    "id": "KkaJThzr0FJr"
   },
   "source": [
    "Let's take a closer look at how arrays are indexed.\n",
    "\n",
    "We saw above that indexing 1D arrays works exactly\n",
    "like indexing lists.\n",
    "\n",
    "Indexing 2D arrays works similarly, except that now there are two dimensions to worry about."
   ]
  },
  {
   "cell_type": "code",
   "execution_count": 31,
   "metadata": {
    "colab": {
     "base_uri": "https://localhost:8080/",
     "height": 34
    },
    "colab_type": "code",
    "id": "pDqCuu4C0FJv",
    "outputId": "944f88a6-c6be-4d79-ea0f-22fcc44c56c4"
   },
   "outputs": [
    {
     "name": "stdout",
     "output_type": "stream",
     "text": [
      "[[0. 1. 2. 3.]\n",
      " [1. 2. 3. 4.]\n",
      " [2. 3. 4. 5.]]\n"
     ]
    },
    {
     "data": {
      "text/plain": [
       "3.0"
      ]
     },
     "execution_count": 31,
     "metadata": {},
     "output_type": "execute_result"
    }
   ],
   "source": [
    "print(X)\n",
    "X[0,3]  # first row, fourth col"
   ]
  },
  {
   "cell_type": "code",
   "execution_count": 32,
   "metadata": {
    "colab": {
     "base_uri": "https://localhost:8080/",
     "height": 34
    },
    "colab_type": "code",
    "id": "6BXsmLt30FJw",
    "outputId": "e724472c-40c6-4ba5-a193-3a5d8fb91991"
   },
   "outputs": [
    {
     "name": "stdout",
     "output_type": "stream",
     "text": [
      "[[0. 1. 2. 3.]\n",
      " [1. 2. 3. 4.]\n",
      " [2. 3. 4. 5.]]\n"
     ]
    },
    {
     "data": {
      "text/plain": [
       "3.0"
      ]
     },
     "execution_count": 32,
     "metadata": {},
     "output_type": "execute_result"
    }
   ],
   "source": [
    "print(X)\n",
    "X[1,2]  # second row, third col"
   ]
  },
  {
   "cell_type": "markdown",
   "metadata": {},
   "source": [
    "**Exercise**"
   ]
  },
  {
   "cell_type": "markdown",
   "metadata": {},
   "source": [
    "Here is X again."
   ]
  },
  {
   "cell_type": "code",
   "execution_count": 18,
   "metadata": {},
   "outputs": [
    {
     "name": "stdout",
     "output_type": "stream",
     "text": [
      "[[0. 1. 2. 3.]\n",
      " [1. 2. 3. 4.]\n",
      " [2. 3. 4. 5.]]\n"
     ]
    }
   ],
   "source": [
    "print(X)\n"
   ]
  },
  {
   "cell_type": "markdown",
   "metadata": {},
   "source": [
    "Without executing the cell try to predict what value will be returned by the command below.  Then check\n",
    "your answer.  What happened and why?"
   ]
  },
  {
   "cell_type": "code",
   "execution_count": 19,
   "metadata": {
    "colab": {
     "base_uri": "https://localhost:8080/",
     "height": 85
    },
    "colab_type": "code",
    "id": "6_3q5HkC0FJz",
    "outputId": "b54323bb-31a0-427e-8e31-8c806b17f072"
   },
   "outputs": [],
   "source": [
    "X[3,0]  "
   ]
  },
  {
   "cell_type": "code",
   "execution_count": null,
   "metadata": {},
   "outputs": [],
   "source": []
  },
  {
   "cell_type": "code",
   "execution_count": null,
   "metadata": {},
   "outputs": [],
   "source": []
  },
  {
   "cell_type": "code",
   "execution_count": null,
   "metadata": {},
   "outputs": [],
   "source": []
  },
  {
   "cell_type": "code",
   "execution_count": null,
   "metadata": {},
   "outputs": [],
   "source": []
  },
  {
   "cell_type": "code",
   "execution_count": null,
   "metadata": {},
   "outputs": [],
   "source": []
  },
  {
   "cell_type": "code",
   "execution_count": null,
   "metadata": {},
   "outputs": [],
   "source": []
  },
  {
   "cell_type": "code",
   "execution_count": 33,
   "metadata": {
    "scrolled": true
   },
   "outputs": [
    {
     "ename": "IndexError",
     "evalue": "index 3 is out of bounds for axis 0 with size 3",
     "output_type": "error",
     "traceback": [
      "\u001b[0;31m---------------------------------------------------------------------------\u001b[0m",
      "\u001b[0;31mIndexError\u001b[0m                                Traceback (most recent call last)",
      "\u001b[0;32m/var/folders/w9/bx4mylnd27g_kqqgn5hrn2x40000gr/T/ipykernel_96740/1799334490.py\u001b[0m in \u001b[0;36m<module>\u001b[0;34m\u001b[0m\n\u001b[0;32m----> 1\u001b[0;31m \u001b[0mX\u001b[0m\u001b[0;34m[\u001b[0m\u001b[0;36m3\u001b[0m\u001b[0;34m,\u001b[0m\u001b[0;36m0\u001b[0m\u001b[0;34m]\u001b[0m\u001b[0;34m\u001b[0m\u001b[0;34m\u001b[0m\u001b[0m\n\u001b[0m",
      "\u001b[0;31mIndexError\u001b[0m: index 3 is out of bounds for axis 0 with size 3"
     ]
    }
   ],
   "source": [
    "X[3,0]  "
   ]
  },
  {
   "cell_type": "markdown",
   "metadata": {},
   "source": [
    "This expression raises an `IndexError` because it tries to access the fourth row of `X` and `X` has\n",
    "no fourth row.  Notice that we accessed `X[0,3]` with no problem above, so that maximum\n",
    "index that can be used for a dimension depends on the size of that dimension.  `X` has\n",
    "shape "
   ]
  },
  {
   "cell_type": "code",
   "execution_count": 22,
   "metadata": {},
   "outputs": [
    {
     "data": {
      "text/plain": [
       "(3, 4)"
      ]
     },
     "execution_count": 22,
     "metadata": {},
     "output_type": "execute_result"
    }
   ],
   "source": [
    "X.shape"
   ]
  },
  {
   "cell_type": "markdown",
   "metadata": {},
   "source": [
    "so the maximum index in the row dimension is 2 and the maximum index in he column dimension is 3."
   ]
  },
  {
   "cell_type": "markdown",
   "metadata": {},
   "source": [
    "#### Indexing 2D arrays, 2D Slices"
   ]
  },
  {
   "cell_type": "markdown",
   "metadata": {
    "colab_type": "text",
    "id": "TdJtAmuFEDzE"
   },
   "source": [
    "Using `a_1D` and `a` as defined above, we review 1D and 2D value retrieval:"
   ]
  },
  {
   "cell_type": "code",
   "execution_count": 35,
   "metadata": {
    "colab": {
     "base_uri": "https://localhost:8080/",
     "height": 51
    },
    "colab_type": "code",
    "id": "NmfrpEljDzzp",
    "outputId": "723fbd5b-c664-40ae-ca2f-fe14d05d6fd3"
   },
   "outputs": [
    {
     "name": "stdout",
     "output_type": "stream",
     "text": [
      "[[ 0  1  2  3  4]\n",
      " [ 5  6  7  8  9]\n",
      " [10 11 12 13 14]]\n"
     ]
    },
    {
     "data": {
      "text/plain": [
       "13"
      ]
     },
     "execution_count": 35,
     "metadata": {},
     "output_type": "execute_result"
    }
   ],
   "source": [
    "a_1d = np.arange(15)\n",
    "a = np.arange(15).reshape(3, 5)\n",
    "print(a)\n",
    "a_1d[13]"
   ]
  },
  {
   "cell_type": "code",
   "execution_count": 36,
   "metadata": {
    "colab": {
     "base_uri": "https://localhost:8080/",
     "height": 85
    },
    "colab_type": "code",
    "id": "k6i0dFSWDzzt",
    "outputId": "bad9238b-a43c-4b00-adec-2bc1762e6502"
   },
   "outputs": [
    {
     "name": "stdout",
     "output_type": "stream",
     "text": [
      "[[ 0  1  2  3  4]\n",
      " [ 5  6  7  8  9]\n",
      " [10 11 12 13 14]]\n"
     ]
    },
    {
     "data": {
      "text/plain": [
       "13"
      ]
     },
     "execution_count": 36,
     "metadata": {},
     "output_type": "execute_result"
    }
   ],
   "source": [
    "print(a)\n",
    "a[2,3]"
   ]
  },
  {
   "cell_type": "markdown",
   "metadata": {},
   "source": [
    "Now let's retrieve an entire subpart of array.\n",
    "\n",
    "Here's an expression that returns the third row of `a` as a 1D array:"
   ]
  },
  {
   "cell_type": "code",
   "execution_count": 37,
   "metadata": {
    "colab": {
     "base_uri": "https://localhost:8080/",
     "height": 34
    },
    "colab_type": "code",
    "id": "cH_pxhsNDzzv",
    "outputId": "7b61be50-5257-40b1-813c-c7026b67cee7"
   },
   "outputs": [
    {
     "data": {
      "text/plain": [
       "array([10, 11, 12, 13, 14])"
      ]
     },
     "execution_count": 37,
     "metadata": {},
     "output_type": "execute_result"
    }
   ],
   "source": [
    "a[2,:]"
   ]
  },
  {
   "cell_type": "markdown",
   "metadata": {
    "colab_type": "text",
    "id": "bCT0qL-BEdcf"
   },
   "source": [
    "An expression that returns a splice (the first two items) of the third row of `a` as a 1D array:"
   ]
  },
  {
   "cell_type": "code",
   "execution_count": 38,
   "metadata": {
    "colab": {
     "base_uri": "https://localhost:8080/",
     "height": 34
    },
    "colab_type": "code",
    "id": "ZMl_G2MWDzzz",
    "outputId": "743edb85-81e0-49f6-ba36-c9c0dadd141d"
   },
   "outputs": [
    {
     "data": {
      "text/plain": [
       "array([10, 11])"
      ]
     },
     "execution_count": 38,
     "metadata": {},
     "output_type": "execute_result"
    }
   ],
   "source": [
    "a[2,0:2]"
   ]
  },
  {
   "cell_type": "markdown",
   "metadata": {
    "colab_type": "text",
    "id": "HpYvVFaM0FJ1"
   },
   "source": [
    "Further examples to study."
   ]
  },
  {
   "cell_type": "code",
   "execution_count": 39,
   "metadata": {
    "colab": {
     "base_uri": "https://localhost:8080/",
     "height": 68
    },
    "colab_type": "code",
    "id": "jHKtj4iK0FJ7",
    "outputId": "fc3dfcd2-c96f-4197-e468-b34f39f0e54b",
    "scrolled": true
   },
   "outputs": [
    {
     "data": {
      "text/plain": [
       "array([[ 10,  20,  30,  40],\n",
       "       [ 50,  60,  70,  80],\n",
       "       [ 90, 100, 110, 120]])"
      ]
     },
     "execution_count": 39,
     "metadata": {},
     "output_type": "execute_result"
    }
   ],
   "source": [
    "import numpy as np\n",
    "X = np.arange(10,130,10).reshape((3,4))\n",
    "X"
   ]
  },
  {
   "cell_type": "code",
   "execution_count": 40,
   "metadata": {
    "colab": {
     "base_uri": "https://localhost:8080/",
     "height": 153
    },
    "colab_type": "code",
    "id": "dCCDKJUI0FKA",
    "outputId": "27dd4703-7556-4ad7-f375-d2bd4566a181"
   },
   "outputs": [
    {
     "name": "stdout",
     "output_type": "stream",
     "text": [
      "[[ 10  20  30  40]\n",
      " [ 50  60  70  80]\n",
      " [ 90 100 110 120]]\n",
      "--------------------\n",
      "120\n",
      "--------------------\n",
      "[ 90 100 110 120]\n",
      "--------------------\n",
      "[ 30  70 110]\n",
      "--------------------\n",
      "[[ 60  70]\n",
      " [100 110]]\n"
     ]
    }
   ],
   "source": [
    "fill_val = 20\n",
    "print(X)\n",
    "print('-'*fill_val)   # ---------------\n",
    "print(X[2,3])         # value in 3rd row, 4th col.\n",
    "print('-'*fill_val)   # ---------------\n",
    "print(X[2,:])         # entire 3rd row\n",
    "print('-'*fill_val)   # ----------------\n",
    "print(X[:,2])         # entire 3rd col; note it still prints horizontally\n",
    "print('-'*fill_val)   # -----------------\n",
    "print(X[1:3,1:3])     # a sub array of X, also 2D"
   ]
  },
  {
   "cell_type": "markdown",
   "metadata": {},
   "source": [
    "Note that rows and columns both print out horizontally.  This is because both are 1D arrays.  Python\n",
    "1D arrays don't support a distinction between being \n",
    "row vectors and column vectors, because they lack the second dimension\n",
    "the distinction requires.\n",
    "\n"
   ]
  },
  {
   "cell_type": "markdown",
   "metadata": {},
   "source": [
    "This is consistent with mathematical usage; the first class citizens of an $R^{n}$ vector space\n",
    "are simply n-tuples of numbers; there is no additional dimension distinguishing row n-tuples from column\n",
    "n-tuples.  "
   ]
  },
  {
   "cell_type": "markdown",
   "metadata": {},
   "source": [
    "A distinction between row and column vectors can  be introduced by reshaping."
   ]
  },
  {
   "cell_type": "code",
   "execution_count": 3,
   "metadata": {
    "scrolled": true
   },
   "outputs": [
    {
     "name": "stdout",
     "output_type": "stream",
     "text": [
      "[ 90 100 110 120]\n",
      "[[ 90 100 110 120]]\n",
      "[[ 90]\n",
      " [100]\n",
      " [110]\n",
      " [120]]\n"
     ]
    }
   ],
   "source": [
    "print(X[2,:])\n",
    "print(X[2,:].reshape((1,4)))\n",
    "print(X[2,:].reshape((4,1)))"
   ]
  },
  {
   "cell_type": "markdown",
   "metadata": {},
   "source": [
    "But then we have 2D arrays (note the extra brackets)."
   ]
  },
  {
   "cell_type": "markdown",
   "metadata": {
    "colab_type": "text",
    "id": "rsmIt3Ki0FKP"
   },
   "source": [
    "Another set of examples.  "
   ]
  },
  {
   "cell_type": "code",
   "execution_count": 41,
   "metadata": {
    "colab": {
     "base_uri": "https://localhost:8080/",
     "height": 34
    },
    "colab_type": "code",
    "id": "DigdbrjB0FKP",
    "outputId": "3cec3145-4f8e-49cf-f59d-e5a02a54494d"
   },
   "outputs": [
    {
     "data": {
      "text/plain": [
       "array([  0,   1,   8,  27,  64, 125, 216, 343, 512, 729])"
      ]
     },
     "execution_count": 41,
     "metadata": {},
     "output_type": "execute_result"
    }
   ],
   "source": [
    "# This cubes every element of  np.arange(10)\n",
    "a = np.arange(10)**3\n",
    "a"
   ]
  },
  {
   "cell_type": "markdown",
   "metadata": {
    "colab_type": "text",
    "id": "BzUfFZXq0FKS"
   },
   "source": [
    "Look at the **shape** of an array to confirm how many dimensions it has:"
   ]
  },
  {
   "cell_type": "code",
   "execution_count": 5,
   "metadata": {
    "colab": {
     "base_uri": "https://localhost:8080/",
     "height": 34
    },
    "colab_type": "code",
    "id": "j5mejpFx0FKS",
    "outputId": "80ec7c15-4030-45e7-e4d9-dd74b1c7769b",
    "scrolled": true
   },
   "outputs": [
    {
     "data": {
      "text/plain": [
       "(10,)"
      ]
     },
     "execution_count": 5,
     "metadata": {},
     "output_type": "execute_result"
    }
   ],
   "source": [
    "a.shape"
   ]
  },
  {
   "cell_type": "markdown",
   "metadata": {},
   "source": [
    " This is a 1D array, so it has only one shape number and a single cell is indexed by a single index."
   ]
  },
  {
   "cell_type": "code",
   "execution_count": 6,
   "metadata": {
    "colab": {
     "base_uri": "https://localhost:8080/",
     "height": 34
    },
    "colab_type": "code",
    "id": "lA6KZXpH0FKU",
    "outputId": "a45be43d-f856-4254-d9ec-c8f0b86e44ba"
   },
   "outputs": [
    {
     "data": {
      "text/plain": [
       "8"
      ]
     },
     "execution_count": 6,
     "metadata": {},
     "output_type": "execute_result"
    }
   ],
   "source": [
    "a[2]"
   ]
  },
  {
   "cell_type": "markdown",
   "metadata": {
    "colab_type": "text",
    "id": "4M2LHpknF5o3"
   },
   "source": [
    "Attempting to access a 1D array with two indices is an `IndexError`:"
   ]
  },
  {
   "cell_type": "code",
   "execution_count": 7,
   "metadata": {
    "colab": {
     "base_uri": "https://localhost:8080/",
     "height": 164
    },
    "colab_type": "code",
    "id": "5rIY1uoB0FKW",
    "outputId": "06c420e7-9de3-4974-9c54-164dd514ee4b"
   },
   "outputs": [
    {
     "ename": "IndexError",
     "evalue": "too many indices for array: array is 1-dimensional, but 2 were indexed",
     "output_type": "error",
     "traceback": [
      "\u001b[0;31m---------------------------------------------------------------------------\u001b[0m",
      "\u001b[0;31mIndexError\u001b[0m                                Traceback (most recent call last)",
      "\u001b[0;32m/var/folders/w9/bx4mylnd27g_kqqgn5hrn2x40000gr/T/ipykernel_83202/1031093193.py\u001b[0m in \u001b[0;36m<module>\u001b[0;34m\u001b[0m\n\u001b[0;32m----> 1\u001b[0;31m \u001b[0ma\u001b[0m\u001b[0;34m[\u001b[0m\u001b[0;36m2\u001b[0m\u001b[0;34m,\u001b[0m\u001b[0;36m0\u001b[0m\u001b[0;34m]\u001b[0m\u001b[0;34m\u001b[0m\u001b[0;34m\u001b[0m\u001b[0m\n\u001b[0m",
      "\u001b[0;31mIndexError\u001b[0m: too many indices for array: array is 1-dimensional, but 2 were indexed"
     ]
    }
   ],
   "source": [
    "a[2,0]"
   ]
  },
  {
   "cell_type": "markdown",
   "metadata": {},
   "source": [
    "So as a first approximation,indexing arrays works much as indexing lists does, with\n",
    "the proviso that multiple indexes are needed for arrays with more than one dimension."
   ]
  },
  {
   "cell_type": "markdown",
   "metadata": {},
   "source": [
    "Some observations about slicing with 2D arrays using `Y` as defined below for an example."
   ]
  },
  {
   "cell_type": "code",
   "execution_count": 42,
   "metadata": {
    "colab": {},
    "colab_type": "code",
    "id": "HmbwSZF_0FKB"
   },
   "outputs": [],
   "source": [
    "Y = np.arange(10,160,10).reshape((3,5))"
   ]
  },
  {
   "cell_type": "markdown",
   "metadata": {
    "colab_type": "text",
    "id": "fxT4GZeA0FKF"
   },
   "source": [
    "All conventions for slicing `numpy` arrays are inherited from Python slicing conventions): The following expression gives the second row of our 2D array `Y`\n",
    "\n",
    "```\n",
    "Y[1,:]\n",
    "```\n",
    "\n",
    "The following expression gives the 3rd column of `Y`:\n",
    "\n",
    "```\n",
    "Y[:,2]\n",
    "```\n",
    "\n",
    "The following expression gives a complete copy of Y\n",
    "\n",
    "```\n",
    "Y[:,:]\n",
    "```\n",
    "\n",
    "As a convenience, `numpy` lets you skip the `:` when you want a row.  In other words, the next two expressions are synonyms.  Note that you **need** the `:` if you want a column."
   ]
  },
  {
   "cell_type": "code",
   "execution_count": 43,
   "metadata": {
    "colab": {
     "base_uri": "https://localhost:8080/",
     "height": 51
    },
    "colab_type": "code",
    "id": "hr78aG2S0FKG",
    "outputId": "eaf20dba-3bd2-45a6-cd37-075d19d2cdfa"
   },
   "outputs": [
    {
     "name": "stdout",
     "output_type": "stream",
     "text": [
      "[ 60  70  80  90 100]\n",
      "[ 60  70  80  90 100]\n"
     ]
    }
   ],
   "source": [
    "print(Y[1,:])\n",
    "print(Y[1])"
   ]
  },
  {
   "cell_type": "code",
   "execution_count": 6,
   "metadata": {
    "colab": {
     "base_uri": "https://localhost:8080/",
     "height": 102
    },
    "colab_type": "code",
    "id": "RGrq_DbY0FKH",
    "outputId": "311c0c5c-53eb-48c4-bb64-bb6a30c75e8e"
   },
   "outputs": [
    {
     "name": "stdout",
     "output_type": "stream",
     "text": [
      "[[0. 1. 2. 3.]\n",
      " [1. 2. 3. 4.]\n",
      " [2. 3. 4. 5.]]\n",
      "\n",
      "[1. 2. 3. 4.] (4,)\n",
      "[1. 2. 3.] (3,)\n"
     ]
    }
   ],
   "source": [
    "print(X, end=\"\\n\\n\")\n",
    "print(X[1,:], X[1,:].shape) # Row. a 1D array\n",
    "print(X[:,1], X[:,1].shape) # Col. a 1D array"
   ]
  },
  {
   "cell_type": "markdown",
   "metadata": {
    "colab_type": "text",
    "id": "FqFz2Z-r0FKK"
   },
   "source": [
    "Now let's get a 2x2 subarray, consisting of the upper left hand corner of `X`, followed by the central part of the last two rows."
   ]
  },
  {
   "cell_type": "code",
   "execution_count": 41,
   "metadata": {
    "colab": {
     "base_uri": "https://localhost:8080/",
     "height": 136
    },
    "colab_type": "code",
    "id": "rJtG-WvJ0FKL",
    "outputId": "48a7337c-b3de-4040-a1f7-3b6323777fee"
   },
   "outputs": [
    {
     "name": "stdout",
     "output_type": "stream",
     "text": [
      "[[ 10  20  30  40]\n",
      " [ 50  60  70  80]\n",
      " [ 90 100 110 120]]\n",
      "[[10 20]\n",
      " [50 60]]\n",
      "[[ 60  70]\n",
      " [100 110]]\n"
     ]
    }
   ],
   "source": [
    "print(X)\n",
    "print(X[:2,:2])\n",
    "print(X[1:,1:3])"
   ]
  },
  {
   "cell_type": "markdown",
   "metadata": {},
   "source": [
    "All rows and every other column (uses the \"step\" argument of a slice with the value 2):"
   ]
  },
  {
   "cell_type": "code",
   "execution_count": 7,
   "metadata": {},
   "outputs": [
    {
     "name": "stdout",
     "output_type": "stream",
     "text": [
      "[[0. 1. 2. 3.]\n",
      " [1. 2. 3. 4.]\n",
      " [2. 3. 4. 5.]]\n",
      "\n",
      "[[0. 2.]\n",
      " [1. 3.]\n",
      " [2. 4.]]\n"
     ]
    }
   ],
   "source": [
    "print(X,end=\"\\n\\n\")\n",
    "print(X[:,::2])"
   ]
  },
  {
   "cell_type": "markdown",
   "metadata": {},
   "source": [
    "All rows and every other column, starting at the second column."
   ]
  },
  {
   "cell_type": "code",
   "execution_count": 8,
   "metadata": {
    "scrolled": true
   },
   "outputs": [
    {
     "name": "stdout",
     "output_type": "stream",
     "text": [
      "[[0. 1. 2. 3.]\n",
      " [1. 2. 3. 4.]\n",
      " [2. 3. 4. 5.]]\n",
      "\n",
      "[[1. 3.]\n",
      " [2. 4.]\n",
      " [3. 5.]]\n"
     ]
    }
   ],
   "source": [
    "print(X,end=\"\\n\\n\")\n",
    "print(X[:,1::2])"
   ]
  },
  {
   "cell_type": "markdown",
   "metadata": {},
   "source": [
    "Every other row and every other column, starting at the second column."
   ]
  },
  {
   "cell_type": "code",
   "execution_count": 44,
   "metadata": {},
   "outputs": [
    {
     "name": "stdout",
     "output_type": "stream",
     "text": [
      "[[ 20  40]\n",
      " [100 120]]\n"
     ]
    }
   ],
   "source": [
    "print(X[::2,1::2])"
   ]
  },
  {
   "cell_type": "markdown",
   "metadata": {},
   "source": [
    "#### Exercise\n",
    "\n",
    "Use array `V` defined in the next cell.  Write expressions to find the given slices of `V`.\n",
    "\n",
    "```\n",
    "a.                                      b.  \n",
    "array([[550, 600],                      array([550, 600])\n",
    "       [750, 800]])\n",
    "\n",
    "c.                                       d.\n",
    "array([[300, 350],                       array([[300, 350],\n",
    "       [500, 550],                              [700, 750]])\n",
    "       [700, 750],\n",
    "       [900, 950]])\n",
    "\n",
    "e.\n",
    "array([[250, 350],\n",
    "       [650, 750]])\n",
    "```"
   ]
  },
  {
   "cell_type": "code",
   "execution_count": 12,
   "metadata": {},
   "outputs": [
    {
     "data": {
      "text/plain": [
       "array([[  50,  100,  150,  200],\n",
       "       [ 250,  300,  350,  400],\n",
       "       [ 450,  500,  550,  600],\n",
       "       [ 650,  700,  750,  800],\n",
       "       [ 850,  900,  950, 1000],\n",
       "       [1050, 1100, 1150, 1200]])"
      ]
     },
     "execution_count": 12,
     "metadata": {},
     "output_type": "execute_result"
    }
   ],
   "source": [
    "V = np.arange(50,1250,50).reshape((6,4))\n",
    "V"
   ]
  },
  {
   "cell_type": "code",
   "execution_count": null,
   "metadata": {},
   "outputs": [],
   "source": []
  },
  {
   "cell_type": "code",
   "execution_count": null,
   "metadata": {},
   "outputs": [],
   "source": []
  },
  {
   "cell_type": "code",
   "execution_count": null,
   "metadata": {},
   "outputs": [],
   "source": []
  },
  {
   "cell_type": "code",
   "execution_count": null,
   "metadata": {},
   "outputs": [],
   "source": []
  },
  {
   "cell_type": "code",
   "execution_count": null,
   "metadata": {},
   "outputs": [],
   "source": []
  },
  {
   "cell_type": "code",
   "execution_count": null,
   "metadata": {},
   "outputs": [],
   "source": []
  },
  {
   "cell_type": "code",
   "execution_count": null,
   "metadata": {},
   "outputs": [],
   "source": []
  },
  {
   "cell_type": "code",
   "execution_count": null,
   "metadata": {},
   "outputs": [],
   "source": []
  },
  {
   "cell_type": "code",
   "execution_count": null,
   "metadata": {},
   "outputs": [],
   "source": []
  },
  {
   "cell_type": "code",
   "execution_count": null,
   "metadata": {},
   "outputs": [],
   "source": []
  },
  {
   "cell_type": "markdown",
   "metadata": {},
   "source": [
    "a."
   ]
  },
  {
   "cell_type": "code",
   "execution_count": 335,
   "metadata": {},
   "outputs": [
    {
     "data": {
      "text/plain": [
       "array([[550, 600],\n",
       "       [750, 800]])"
      ]
     },
     "execution_count": 335,
     "metadata": {},
     "output_type": "execute_result"
    }
   ],
   "source": [
    "V[2:4,2:4]"
   ]
  },
  {
   "cell_type": "markdown",
   "metadata": {},
   "source": [
    "b."
   ]
  },
  {
   "cell_type": "code",
   "execution_count": 336,
   "metadata": {},
   "outputs": [
    {
     "data": {
      "text/plain": [
       "array([[550, 600]])"
      ]
     },
     "execution_count": 336,
     "metadata": {},
     "output_type": "execute_result"
    }
   ],
   "source": [
    "V[2:3,2:4]"
   ]
  },
  {
   "cell_type": "markdown",
   "metadata": {},
   "source": [
    "c."
   ]
  },
  {
   "cell_type": "code",
   "execution_count": 334,
   "metadata": {},
   "outputs": [
    {
     "data": {
      "text/plain": [
       "array([[300, 350],\n",
       "       [500, 550],\n",
       "       [700, 750],\n",
       "       [900, 950]])"
      ]
     },
     "execution_count": 334,
     "metadata": {},
     "output_type": "execute_result"
    }
   ],
   "source": [
    "V[1:5,1:3]"
   ]
  },
  {
   "cell_type": "markdown",
   "metadata": {},
   "source": [
    "d."
   ]
  },
  {
   "cell_type": "code",
   "execution_count": 332,
   "metadata": {},
   "outputs": [
    {
     "data": {
      "text/plain": [
       "array([[300, 350],\n",
       "       [700, 750]])"
      ]
     },
     "execution_count": 332,
     "metadata": {},
     "output_type": "execute_result"
    }
   ],
   "source": [
    "V[1:5:2,1:3]"
   ]
  },
  {
   "cell_type": "markdown",
   "metadata": {},
   "source": [
    "e."
   ]
  },
  {
   "cell_type": "code",
   "execution_count": 333,
   "metadata": {},
   "outputs": [
    {
     "data": {
      "text/plain": [
       "array([[250, 350],\n",
       "       [650, 750]])"
      ]
     },
     "execution_count": 333,
     "metadata": {},
     "output_type": "execute_result"
    }
   ],
   "source": [
    "V[1:5:2,::2]"
   ]
  },
  {
   "cell_type": "markdown",
   "metadata": {},
   "source": [
    "### Transposition and Shape"
   ]
  },
  {
   "cell_type": "markdown",
   "metadata": {
    "colab_type": "text",
    "id": "P13a0sHIpOjF"
   },
   "source": [
    "The shape of an array is a fixed property, but we can use the data in an array to create a new\n",
    "array with a different shape.\n",
    "\n",
    "After reshaping, the original array retains its original shape, and  can only be indexed according to its original shape:"
   ]
  },
  {
   "cell_type": "code",
   "execution_count": 45,
   "metadata": {
    "colab": {
     "base_uri": "https://localhost:8080/",
     "height": 266
    },
    "colab_type": "code",
    "id": "0j6AGCsh7aXg",
    "outputId": "112c4c72-dd07-4d28-f4e1-dad2e50ecc2e"
   },
   "outputs": [
    {
     "name": "stdout",
     "output_type": "stream",
     "text": [
      "Z\n",
      " [[ 0  1  2]\n",
      " [ 3  4  5]\n",
      " [ 6  7  8]\n",
      " [ 9 10 11]]\n",
      "Y\n",
      " [[ 0  1  2  3]\n",
      " [ 4  5  6  7]\n",
      " [ 8  9 10 11]]\n",
      "Y[2,3]\n",
      " 11\n",
      "Z[3,2]\n",
      " 11\n",
      "Y[3,2]\n"
     ]
    },
    {
     "ename": "IndexError",
     "evalue": "index 3 is out of bounds for axis 0 with size 3",
     "output_type": "error",
     "traceback": [
      "\u001b[0;31m---------------------------------------------------------------------------\u001b[0m",
      "\u001b[0;31mIndexError\u001b[0m                                Traceback (most recent call last)",
      "Cell \u001b[0;32mIn[45], line 8\u001b[0m\n\u001b[1;32m      6\u001b[0m \u001b[38;5;28mprint\u001b[39m(\u001b[38;5;124m\"\u001b[39m\u001b[38;5;124mZ[3,2]\u001b[39m\u001b[38;5;130;01m\\n\u001b[39;00m\u001b[38;5;124m\"\u001b[39m,Z[\u001b[38;5;241m3\u001b[39m,\u001b[38;5;241m2\u001b[39m])\n\u001b[1;32m      7\u001b[0m \u001b[38;5;28mprint\u001b[39m(\u001b[38;5;124m\"\u001b[39m\u001b[38;5;124mY[3,2]\u001b[39m\u001b[38;5;124m\"\u001b[39m)\n\u001b[0;32m----> 8\u001b[0m \u001b[38;5;28mprint\u001b[39m(\u001b[43mY\u001b[49m\u001b[43m[\u001b[49m\u001b[38;5;241;43m3\u001b[39;49m\u001b[43m,\u001b[49m\u001b[38;5;241;43m2\u001b[39;49m\u001b[43m]\u001b[49m)\n",
      "\u001b[0;31mIndexError\u001b[0m: index 3 is out of bounds for axis 0 with size 3"
     ]
    }
   ],
   "source": [
    "Y = np.arange(12).reshape((3,4))\n",
    "Z = Y.reshape((4,3))\n",
    "print(\"Z\\n\",Z)\n",
    "print(\"Y\\n\",Y)\n",
    "print(\"Y[2,3]\\n\",Y[2,3])\n",
    "print(\"Z[3,2]\\n\",Z[3,2])\n",
    "print(\"Y[3,2]\")\n",
    "print(Y[3,2])"
   ]
  },
  {
   "cell_type": "markdown",
   "metadata": {
    "colab_type": "text",
    "id": "Vod_Pd4Bpc8_"
   },
   "source": [
    "However, the two arrays `Z` and `Y` still share the same **data**.  We say that `Z` and `Y` are  **view** of \n",
    "the same data.   What that means is that changing `Z` also changes `Y` (and also vice versa):"
   ]
  },
  {
   "cell_type": "code",
   "execution_count": 47,
   "metadata": {
    "colab": {
     "base_uri": "https://localhost:8080/",
     "height": 340
    },
    "colab_type": "code",
    "id": "mwHVT2qupcdT",
    "outputId": "f181c01c-94bd-4c88-b02c-1454a219012e"
   },
   "outputs": [
    {
     "name": "stdout",
     "output_type": "stream",
     "text": [
      "Y:\n",
      " [[ 0  1  2 14]\n",
      " [ 4  5  6  7]\n",
      " [ 8  9 10 11]]\n",
      "Z:\n",
      " [[ 0  1  2]\n",
      " [14  4  5]\n",
      " [ 6  7  8]\n",
      " [ 9 10 11]]\n",
      "  Y[1,0] = 14  ==>\n",
      "Y\n",
      " [[ 0  1  2 14]\n",
      " [14  5  6  7]\n",
      " [ 8  9 10 11]]\n",
      "Z:\n",
      " [[ 0  1  2]\n",
      " [14 14  5]\n",
      " [ 6  7  8]\n",
      " [ 9 10 11]]\n"
     ]
    }
   ],
   "source": [
    "print('Y:\\n', Y)\n",
    "print('Z:\\n', Z)\n",
    "print('  Y[1,0] = 14  ==>')\n",
    "Y[1,0] = 14\n",
    "print('Y\\n', Y)\n",
    "print('Z:\\n', Z)"
   ]
  },
  {
   "cell_type": "markdown",
   "metadata": {
    "colab_type": "text",
    "id": "i0m2D2u_0FKN"
   },
   "source": [
    "Another view of the same data is obtained by **transposition**.\n",
    "\n",
    "Array transposition is sometimes a nice way to get to the 2D array you really want.  The transposition of an array `M` is called `M.T`, and the definition is that \n",
    "\n",
    "```\n",
    "M.T[i,j] = M[j,i]\n",
    "```\n",
    "\n",
    "So if `M` is an `m` x `n` array, then `M.T` is an `n` x `m`  array.   Look at `X.T` and verify these observations.  The `m`th row of `X` becomes the `m`th column of `X.T`. The `n`th column  of `X` becomes the `n`th row of `X.T`.\n",
    "\n",
    "Note that transposition can change the shape of an array."
   ]
  },
  {
   "cell_type": "code",
   "execution_count": 49,
   "metadata": {
    "colab": {
     "base_uri": "https://localhost:8080/",
     "height": 187
    },
    "colab_type": "code",
    "id": "4jlVHjXE0FKN",
    "outputId": "1c5abb16-c196-48bf-ebe9-17e56937b0be"
   },
   "outputs": [
    {
     "name": "stdout",
     "output_type": "stream",
     "text": [
      "X\n",
      " [[ 10  20  30  40]\n",
      " [ 50  60  70  80]\n",
      " [ 90 100 110 120]] \n",
      " (3, 4)\n",
      "\n",
      "X.T\n",
      " [[ 10  50  90]\n",
      " [ 20  60 100]\n",
      " [ 30  70 110]\n",
      " [ 40  80 120]] \n",
      " (4, 3)\n",
      "\n",
      "X[1,2]\n",
      " 70 \n",
      "X.T[2,1]\n",
      " 70\n"
     ]
    }
   ],
   "source": [
    "X = np.arange(10,130,10).reshape((3,4))\n",
    "print(\"X\\n\", X,\"\\n\",X.shape)\n",
    "print()\n",
    "\n",
    "T = X.T\n",
    "print(\"X.T\\n\", T,\"\\n\",T.shape)\n",
    "print()\n",
    "print(\"X[1,2]\\n\",X[1,2], \"\\nX.T[2,1]\\n\",T[2,1])"
   ]
  },
  {
   "cell_type": "markdown",
   "metadata": {},
   "source": [
    "As with reshaped arrays,  transposition gives a new array but one that shares the same data,\n",
    "so that changing the transposed array also changes the original. "
   ]
  },
  {
   "cell_type": "code",
   "execution_count": 50,
   "metadata": {},
   "outputs": [
    {
     "name": "stdout",
     "output_type": "stream",
     "text": [
      "[[ 10  50  90]\n",
      " [ 20  60  14]\n",
      " [ 30  70 110]\n",
      " [ 40  80 120]]\n",
      "\n",
      "[[ 10  20  30  40]\n",
      " [ 50  60  70  80]\n",
      " [ 90  14 110 120]]\n"
     ]
    }
   ],
   "source": [
    "T[1,2] = 14\n",
    "print(T)\n",
    "print()\n",
    "print(X)"
   ]
  },
  {
   "cell_type": "markdown",
   "metadata": {},
   "source": [
    "### Assigning to slices (broadcasting)"
   ]
  },
  {
   "cell_type": "markdown",
   "metadata": {
    "colab_type": "text",
    "id": "WnJTzRGa0FKX"
   },
   "source": [
    "Now in general 1D arrays are very like lists, but it is important to note\n",
    "that assignment works a little differently with arrays."
   ]
  },
  {
   "cell_type": "code",
   "execution_count": 315,
   "metadata": {
    "colab": {
     "base_uri": "https://localhost:8080/",
     "height": 68
    },
    "colab_type": "code",
    "id": "ngngnHZS0FKY",
    "outputId": "269cf526-26da-45c0-ad35-813203be426b"
   },
   "outputs": [
    {
     "name": "stdout",
     "output_type": "stream",
     "text": [
      "[  0   1   8  27  64 125 216 343 512 729]\n"
     ]
    },
    {
     "data": {
      "text/plain": [
       "array([ 8, 27, 64])"
      ]
     },
     "execution_count": 315,
     "metadata": {},
     "output_type": "execute_result"
    }
   ],
   "source": [
    "a = np.arange(10)**3\n",
    "print(a)\n",
    "a[2:5]"
   ]
  },
  {
   "cell_type": "markdown",
   "metadata": {
    "colab_type": "text",
    "id": "P7fihyOc0FKa"
   },
   "source": [
    "A big difference between an array and a list is that arrays allow scalar assigments\n",
    "to slices.  If the assignee slice is greater than 1x1, the assignment is \"broadcast\" to each of the cells in the slice (we discuss broadcasting in more detail in another `numpy` notebook)."
   ]
  },
  {
   "cell_type": "markdown",
   "metadata": {
    "colab_type": "text",
    "id": "q2PCfAwj0FKa"
   },
   "source": [
    "In the next cell we demonstrate assignment to a slice.  In standard Python the value that is assigned to a slice has to be a sequence.  But in numpy it is treated as an elementwise operation, so in the next  example, we assign the value 5 to each of the positions in the splice.\n",
    "\n",
    "Note that how many 5s there are in the result is determined by the length of the splice `a[3:6]`, so the length of the assignee array `a` remains unchanged by the assignment."
   ]
  },
  {
   "cell_type": "code",
   "execution_count": 11,
   "metadata": {},
   "outputs": [
    {
     "name": "stdout",
     "output_type": "stream",
     "text": [
      "10 [  0   1   8  27  64 125 216 343 512 729]\n",
      "[ 27  64 125]\n",
      "10 [  0   1   8   5   5   5 216 343 512 729]\n"
     ]
    }
   ],
   "source": [
    "a = np.arange(10)**3\n",
    "print(len(a), a)\n",
    "print(a[3:6])\n",
    "a[3:6] = 5\n",
    "print(len(a), a)"
   ]
  },
  {
   "cell_type": "markdown",
   "metadata": {},
   "source": [
    "An example using a slice with a \"step\"-size of 2"
   ]
  },
  {
   "cell_type": "code",
   "execution_count": 317,
   "metadata": {
    "colab": {
     "base_uri": "https://localhost:8080/",
     "height": 68
    },
    "colab_type": "code",
    "id": "vs8p6Uuu0FKb",
    "outputId": "298d602a-b642-40e6-fa70-398f254f22fe"
   },
   "outputs": [
    {
     "name": "stdout",
     "output_type": "stream",
     "text": [
      "[  0   1   8   5   5   5 216 343 512 729]\n",
      "[0 8 5]\n",
      "[-1000     1 -1000     5 -1000     5   216   343   512   729]\n"
     ]
    }
   ],
   "source": [
    "print(a)\n",
    "print(a[0:6:2])\n",
    "a[0:6:2] = -1000  \n",
    "print(a)"
   ]
  },
  {
   "cell_type": "markdown",
   "metadata": {},
   "source": [
    "Note again: the length of the array did not change, despite the fact that we were assigning a sequence of length 1\n",
    "to a span of length 3 in `a`.  To accommodate the assignment, the value `-1000` is \"broadcast\"\n",
    "over the specified span of `a`."
   ]
  },
  {
   "cell_type": "markdown",
   "metadata": {},
   "source": [
    "This a key difference from how standard Python sequence assignment works.  There is no \"broadcasting\"\n",
    "behavior.  Instead, the assignee sequence is shortened."
   ]
  },
  {
   "cell_type": "code",
   "execution_count": 82,
   "metadata": {},
   "outputs": [
    {
     "name": "stdout",
     "output_type": "stream",
     "text": [
      "10 [0, 1, 2, 3, 4, 5, 6, 7, 8, 9]\n",
      "9 [0, 1, 5, 4, 5, 6, 7, 8, 9]\n"
     ]
    }
   ],
   "source": [
    "L = list(range(10))\n",
    "print(len(L), L)\n",
    "L[2:4] = [5]\n",
    "print(len(L), L)"
   ]
  },
  {
   "cell_type": "markdown",
   "metadata": {},
   "source": [
    "The bottom line  is that in a numpy assignment the length -- more generally, the shape -- of the assignee never changes. \n",
    "\n",
    "If `numpy` can't figure out how to broadcast the assignment to preserve shape, it raises an Exception."
   ]
  },
  {
   "cell_type": "code",
   "execution_count": 270,
   "metadata": {},
   "outputs": [
    {
     "name": "stdout",
     "output_type": "stream",
     "text": [
      "10 [  0   1   8  27  64 125 216 343 512 729]\n"
     ]
    },
    {
     "ename": "ValueError",
     "evalue": "could not broadcast input array from shape (2,) into shape (3,)",
     "output_type": "error",
     "traceback": [
      "\u001b[0;31m---------------------------------------------------------------------------\u001b[0m",
      "\u001b[0;31mValueError\u001b[0m                                Traceback (most recent call last)",
      "Input \u001b[0;32mIn [270]\u001b[0m, in \u001b[0;36m<cell line: 3>\u001b[0;34m()\u001b[0m\n\u001b[1;32m      1\u001b[0m a \u001b[38;5;241m=\u001b[39m np\u001b[38;5;241m.\u001b[39marange(\u001b[38;5;241m10\u001b[39m)\u001b[38;5;241m*\u001b[39m\u001b[38;5;241m*\u001b[39m\u001b[38;5;241m3\u001b[39m\n\u001b[1;32m      2\u001b[0m \u001b[38;5;28mprint\u001b[39m(\u001b[38;5;28mlen\u001b[39m(a), a)\n\u001b[0;32m----> 3\u001b[0m a[\u001b[38;5;241m2\u001b[39m:\u001b[38;5;241m5\u001b[39m] \u001b[38;5;241m=\u001b[39m [\u001b[38;5;241m5\u001b[39m,\u001b[38;5;241m6\u001b[39m]\n\u001b[1;32m      4\u001b[0m \u001b[38;5;28mprint\u001b[39m(\u001b[38;5;28mlen\u001b[39m(a), a)\n",
      "\u001b[0;31mValueError\u001b[0m: could not broadcast input array from shape (2,) into shape (3,)"
     ]
    }
   ],
   "source": [
    "a = np.arange(10)**3\n",
    "print(len(a), a)\n",
    "a[2:5] = [5,6]\n",
    "print(len(a), a)"
   ]
  },
  {
   "cell_type": "markdown",
   "metadata": {},
   "source": [
    "The rules governing what shape mismatches work in assignment are known as the **rules of broadcasting**.\n",
    "They are discussed in some slides and another notebook.\n",
    "\n",
    "For now we content ourselves with a more complicated example, in which the shape of the assignee slice is\n",
    "2D, but assigning a 1D value still works."
   ]
  },
  {
   "cell_type": "code",
   "execution_count": 51,
   "metadata": {},
   "outputs": [
    {
     "name": "stdout",
     "output_type": "stream",
     "text": [
      "b\n",
      " [[ 0  1  2  3]\n",
      " [ 4  5  6  7]\n",
      " [ 8  9 10 11]\n",
      " [12 13 14 15]\n",
      " [16 17 18 19]]\n",
      "\n",
      "b[1:3,1:3]\n",
      " [[ 5  6]\n",
      " [ 9 10]]\n",
      "\n",
      "Val\n",
      " [20. 20.]\n",
      "\n",
      "b\n",
      " [[ 0  1  2  3]\n",
      " [ 4 20 20  7]\n",
      " [ 8 20 20 11]\n",
      " [12 13 14 15]\n",
      " [16 17 18 19]]\n",
      "\n",
      "b slice\n",
      " [[20 20]\n",
      " [20 20]]\n",
      "\n"
     ]
    }
   ],
   "source": [
    "b = np.arange(20).reshape((5,4))\n",
    "\n",
    "print(\"b\\n\", b,end=\"\\n\\n\")\n",
    "print(\"b[1:3,1:3]\\n\", b[1:3,1:3],end=\"\\n\\n\")\n",
    "\n",
    "val = 20*np.ones((2,))\n",
    "print(\"Val\\n\",val,end=\"\\n\\n\")\n",
    "\n",
    "b[1:3,1:3] = val\n",
    "\n",
    "print(\"b\\n\", b,end=\"\\n\\n\")\n",
    "print(\"b slice\\n\", b[1:3,1:3],end=\"\\n\\n\")"
   ]
  },
  {
   "cell_type": "markdown",
   "metadata": {
    "colab_type": "text",
    "id": "PAtRJsKOG5OH"
   },
   "source": [
    "## 3 (and more) D arrays"
   ]
  },
  {
   "cell_type": "markdown",
   "metadata": {
    "colab_type": "text",
    "id": "Pi1IKHP40FKd"
   },
   "source": [
    "There are also 3D arrays, which have a third dimension; each position along the third dimension defines a 2D array."
   ]
  },
  {
   "cell_type": "code",
   "execution_count": 53,
   "metadata": {
    "colab": {},
    "colab_type": "code",
    "id": "vA45H3o30FKe",
    "scrolled": true
   },
   "outputs": [
    {
     "data": {
      "text/plain": [
       "array([[[ 0,  1,  2,  3],\n",
       "        [ 4,  5,  6,  7],\n",
       "        [ 8,  9, 10, 11]],\n",
       "\n",
       "       [[12, 13, 14, 15],\n",
       "        [16, 17, 18, 19],\n",
       "        [20, 21, 22, 23]]])"
      ]
     },
     "execution_count": 53,
     "metadata": {},
     "output_type": "execute_result"
    }
   ],
   "source": [
    "A =np.arange(24).reshape((2,3,4))\n",
    "A"
   ]
  },
  {
   "cell_type": "markdown",
   "metadata": {},
   "source": [
    "Think of the array beginning with 12 as a layer lying \"underneath\"\n",
    "the array beginning with 0."
   ]
  },
  {
   "cell_type": "markdown",
   "metadata": {
    "colab_type": "text",
    "id": "LnpVQ8__0FKf"
   },
   "source": [
    " In a 2D array, a single index slice is a row or column (a 1D array).  In a 3D array, a single index slice is a 2D array."
   ]
  },
  {
   "cell_type": "code",
   "execution_count": 272,
   "metadata": {
    "colab": {},
    "colab_type": "code",
    "id": "9PEsvhO80FKf"
   },
   "outputs": [
    {
     "name": "stdout",
     "output_type": "stream",
     "text": [
      "[[[ 0  1  2  3]\n",
      "  [ 4  5  6  7]\n",
      "  [ 8  9 10 11]]\n",
      "\n",
      " [[12 13 14 15]\n",
      "  [16 17 18 19]\n",
      "  [20 21 22 23]]]\n"
     ]
    },
    {
     "data": {
      "text/plain": [
       "array([[12, 13, 14, 15],\n",
       "       [16, 17, 18, 19],\n",
       "       [20, 21, 22, 23]])"
      ]
     },
     "execution_count": 272,
     "metadata": {},
     "output_type": "execute_result"
    }
   ],
   "source": [
    "print(A)\n",
    "A[1,:,:]"
   ]
  },
  {
   "cell_type": "markdown",
   "metadata": {},
   "source": [
    "`A[1,:,:]` is the second layer."
   ]
  },
  {
   "cell_type": "markdown",
   "metadata": {},
   "source": [
    "The next slice slices off the last columns of the two layers."
   ]
  },
  {
   "cell_type": "code",
   "execution_count": 273,
   "metadata": {
    "colab": {},
    "colab_type": "code",
    "id": "XPD2qQhK0FKh",
    "scrolled": false
   },
   "outputs": [
    {
     "name": "stdout",
     "output_type": "stream",
     "text": [
      "[[[ 0  1  2  3]\n",
      "  [ 4  5  6  7]\n",
      "  [ 8  9 10 11]]\n",
      "\n",
      " [[12 13 14 15]\n",
      "  [16 17 18 19]\n",
      "  [20 21 22 23]]]\n"
     ]
    },
    {
     "data": {
      "text/plain": [
       "array([[ 3,  7, 11],\n",
       "       [15, 19, 23]])"
      ]
     },
     "execution_count": 273,
     "metadata": {},
     "output_type": "execute_result"
    }
   ],
   "source": [
    "print(A)\n",
    "\n",
    "A[:,:,3]"
   ]
  },
  {
   "cell_type": "markdown",
   "metadata": {},
   "source": [
    "The next slice slices off the last rows of the two layers."
   ]
  },
  {
   "cell_type": "code",
   "execution_count": 275,
   "metadata": {
    "colab": {},
    "colab_type": "code",
    "id": "dDUF1pkR0FKi"
   },
   "outputs": [
    {
     "name": "stdout",
     "output_type": "stream",
     "text": [
      "[[[ 0  1  2  3]\n",
      "  [ 4  5  6  7]\n",
      "  [ 8  9 10 11]]\n",
      "\n",
      " [[12 13 14 15]\n",
      "  [16 17 18 19]\n",
      "  [20 21 22 23]]]\n"
     ]
    },
    {
     "data": {
      "text/plain": [
       "array([[ 8,  9, 10, 11],\n",
       "       [20, 21, 22, 23]])"
      ]
     },
     "execution_count": 275,
     "metadata": {},
     "output_type": "execute_result"
    }
   ],
   "source": [
    "print(A)\n",
    "A[:,2,:]"
   ]
  },
  {
   "cell_type": "markdown",
   "metadata": {},
   "source": [
    "And here is an array consisting of the upper left hand corners of the two layers."
   ]
  },
  {
   "cell_type": "code",
   "execution_count": 54,
   "metadata": {},
   "outputs": [
    {
     "data": {
      "text/plain": [
       "array([ 0, 12])"
      ]
     },
     "execution_count": 54,
     "metadata": {},
     "output_type": "execute_result"
    }
   ],
   "source": [
    "A[:,0,0]"
   ]
  },
  {
   "cell_type": "markdown",
   "metadata": {
    "colab_type": "text",
    "id": "_5QacYd40FKk"
   },
   "source": [
    "We will not be using 3D arrays much, and they will not be featured on tests.  But it's nice to know they're out there. \n",
    "\n",
    "An easy example of where you might want a 3D array is a color image. Specifying each pixel position in the image takes two numbers, and in a black and white image we can just have the cell at that position contain a single number representing the grayscale magnitude.  But for a color image we need three numbers, and it is very convenient for many purposes to use a third dimension for those three numbers; for example, using the third dimension for the color, and the first \"layer\" in the 3rd dimension for red, there is an easily retrievable 2D array representing all the \"red\" values for the image `I`:\n",
    "\n",
    "```\n",
    "I[:,:, 0]\n",
    "```\n",
    "\n",
    "In machine learning applications, especially in deep learning applications, 3D arrays and higher are not at all uncommon.  One reason is that it is very convenient (and efficient) to use one dimension for the batch number.  Another is that words in the input are often represented as \"vectors\" (1D arrays of floating point numbers).  Then\n",
    "\n",
    "```\n",
    "D[22, 12,:]\n",
    "```\n",
    "\n",
    "retrieves the word vector for the 13th word in the 23rd batch."
   ]
  },
  {
   "cell_type": "markdown",
   "metadata": {},
   "source": [
    "### \"Fancy\" indexing"
   ]
  },
  {
   "cell_type": "markdown",
   "metadata": {
    "colab_type": "text",
    "id": "0KMc7RvX0FLG"
   },
   "source": [
    "Cook up a sequence consisting of the **indices** of the first, third, and seventh elements of an array, namely:\n",
    "\n",
    "```\n",
    "[0,2,6]\n",
    "```\n",
    "\n",
    "Now use that sequence as a **fancy** index on `X` to retrieve the first third and seventh\n",
    "elements of `X`."
   ]
  },
  {
   "cell_type": "code",
   "execution_count": 3,
   "metadata": {
    "colab": {},
    "colab_type": "code",
    "id": "XeBZvUpz0FLG"
   },
   "outputs": [
    {
     "name": "stdout",
     "output_type": "stream",
     "text": [
      "[ 1  5  2  7  9  4  3 -6]\n"
     ]
    },
    {
     "data": {
      "text/plain": [
       "array([1, 2, 3])"
      ]
     },
     "execution_count": 3,
     "metadata": {},
     "output_type": "execute_result"
    }
   ],
   "source": [
    "print(X)\n",
    "X[[0,2,6]]"
   ]
  },
  {
   "cell_type": "markdown",
   "metadata": {},
   "source": [
    "So what is fancy indexing? Fancy indexing is using a sequences of indexes to return a sequence of values.  The sequence of indexes can be any sequence, a list, a tuple, an array.\n",
    "\n",
    "Note that the option of doing fancy indexing has nothing to do with how many dimensions the array has. In this example, we used a 1D array X and passed in a sequence to retrieve 3 different values along one dimension."
   ]
  },
  {
   "cell_type": "markdown",
   "metadata": {
    "colab_type": "text",
    "id": "CQH9gXZs0FLH"
   },
   "source": [
    "So watch out for the difference between fancy indexing and indexing along multiple dimensions.\n",
    "\n",
    "$$\n",
    "\\begin{array}{l|l|l}\n",
    "\\text{Task} &  \\text{Syntax} &  \\text{Returns}\\\\\n",
    "\\hline\n",
    "\\text{Fancy indexing} & X[[0,2,6]] & \\text{A sequence of layers (3D array), rows (2D array), or values (1D array)}\\\\\n",
    "\\text{Indexing multiple dimensions} & X[0,2,6] & \\text{One value from a 3D array} \\text{ Error from 1D or 2D array}\\\\\n",
    "\\end{array}\n",
    "$$\n",
    "\n",
    "If we mean to fancy index but leave out a pair of brackets,\n",
    "that's interpreted as an attempt to index 3 dimensions of `X`,\n",
    "which is an error if `X` is not a 3D array."
   ]
  },
  {
   "cell_type": "markdown",
   "metadata": {},
   "source": [
    "Since our current `X` is a 1D array, this is an error."
   ]
  },
  {
   "cell_type": "code",
   "execution_count": 4,
   "metadata": {
    "colab": {},
    "colab_type": "code",
    "id": "xW9RqGHn0FLH"
   },
   "outputs": [
    {
     "ename": "IndexError",
     "evalue": "too many indices for array: array is 1-dimensional, but 3 were indexed",
     "output_type": "error",
     "traceback": [
      "\u001b[0;31m---------------------------------------------------------------------------\u001b[0m",
      "\u001b[0;31mIndexError\u001b[0m                                Traceback (most recent call last)",
      "\u001b[0;32m/var/folders/w9/bx4mylnd27g_kqqgn5hrn2x40000gr/T/ipykernel_24934/1606959147.py\u001b[0m in \u001b[0;36m<module>\u001b[0;34m\u001b[0m\n\u001b[0;32m----> 1\u001b[0;31m \u001b[0mX\u001b[0m\u001b[0;34m[\u001b[0m\u001b[0;36m0\u001b[0m\u001b[0;34m,\u001b[0m\u001b[0;36m2\u001b[0m\u001b[0;34m,\u001b[0m\u001b[0;36m6\u001b[0m\u001b[0;34m]\u001b[0m\u001b[0;34m\u001b[0m\u001b[0;34m\u001b[0m\u001b[0m\n\u001b[0m",
      "\u001b[0;31mIndexError\u001b[0m: too many indices for array: array is 1-dimensional, but 3 were indexed"
     ]
    }
   ],
   "source": [
    "X[0,2,6]"
   ]
  },
  {
   "cell_type": "code",
   "execution_count": 5,
   "metadata": {},
   "outputs": [
    {
     "data": {
      "text/plain": [
       "array([ 1,  5,  2,  7,  9,  4,  3, -6])"
      ]
     },
     "execution_count": 5,
     "metadata": {},
     "output_type": "execute_result"
    }
   ],
   "source": [
    "X"
   ]
  },
  {
   "cell_type": "markdown",
   "metadata": {
    "colab_type": "text",
    "id": "nVFKolrL0FLI"
   },
   "source": [
    "Fancy indexing can be done along any one of an array's dimensions, and multiple\n",
    "dimensions can be fancy-indexed at the same time, though the fancy sequences must then be of the same length.\n",
    "\n",
    "The following fancy-indexing\n",
    "expression returns three values from `Y`, the value at `[0,1]`, `[0,3]`, and `[2,2]`.\n",
    "\n",
    "So the pattern for 2D fancy indexing is `X[row_indices,column_indices]`."
   ]
  },
  {
   "cell_type": "code",
   "execution_count": 96,
   "metadata": {
    "colab": {},
    "colab_type": "code",
    "id": "LUHYcbnr0FLI"
   },
   "outputs": [
    {
     "name": "stdout",
     "output_type": "stream",
     "text": [
      "[[ 0  1  2  3]\n",
      " [ 4  5  6  7]\n",
      " [ 8  9 10 11]]\n",
      "\n",
      "[ 1  3 10]\n"
     ]
    }
   ],
   "source": [
    "Y = np.arange(12).reshape((3,4))\n",
    "print(Y)\n",
    "print()\n",
    "print(Y[[0,0,2],[1,3, 2]])"
   ]
  },
  {
   "cell_type": "markdown",
   "metadata": {},
   "source": [
    "Below we use fancy indexing to permute the rows and columns of a 3x7 array."
   ]
  },
  {
   "cell_type": "code",
   "execution_count": 7,
   "metadata": {},
   "outputs": [
    {
     "name": "stdout",
     "output_type": "stream",
     "text": [
      "[[ 0  1  2]\n",
      " [ 3  4  5]\n",
      " [ 6  7  8]\n",
      " [ 9 10 11]\n",
      " [12 13 14]\n",
      " [15 16 17]\n",
      " [18 19 20]]\n",
      "\n",
      "[[ 3  4  5]\n",
      " [ 6  7  8]\n",
      " [ 0  1  2]\n",
      " [18 19 20]\n",
      " [12 13 14]\n",
      " [ 9 10 11]\n",
      " [15 16 17]]\n",
      "\n",
      "[[ 4  3  5]\n",
      " [ 7  6  8]\n",
      " [ 1  0  2]\n",
      " [19 18 20]\n",
      " [13 12 14]\n",
      " [10  9 11]\n",
      " [16 15 17]]\n"
     ]
    }
   ],
   "source": [
    "WW =np.arange(21).reshape((7,3))\n",
    "print(WW)\n",
    "print()\n",
    "WW_swap_rows = WW[[1,2,0,6,4,3,5],:]\n",
    "print(WW_swap_rows)\n",
    "print()\n",
    "WW_swap_columns = WW_swap_rows[:,[1,0,2]]\n",
    "print(WW_swap_columns)"
   ]
  },
  {
   "cell_type": "code",
   "execution_count": 18,
   "metadata": {},
   "outputs": [
    {
     "data": {
      "text/plain": [
       "(numpy.ndarray, numpy.ndarray, (150, 4))"
      ]
     },
     "execution_count": 18,
     "metadata": {},
     "output_type": "execute_result"
    }
   ],
   "source": [
    "from sklearn.datasets import load_iris\n",
    "data = load_iris()\n",
    "features = data['data']\n",
    "target = data['target']\n",
    "type(features),type(target),features.shape"
   ]
  },
  {
   "cell_type": "markdown",
   "metadata": {},
   "source": [
    "There are three iris species in the data; the `target` array identifies the species."
   ]
  },
  {
   "cell_type": "code",
   "execution_count": 4,
   "metadata": {
    "scrolled": true
   },
   "outputs": [
    {
     "data": {
      "text/plain": [
       "array([0, 0, 0, 0, 0, 0, 0, 0, 0, 0, 1, 1, 1, 1, 1, 1, 1, 1, 1, 1])"
      ]
     },
     "execution_count": 4,
     "metadata": {},
     "output_type": "execute_result"
    }
   ],
   "source": [
    "target[40:60]"
   ]
  },
  {
   "cell_type": "code",
   "execution_count": 5,
   "metadata": {},
   "outputs": [
    {
     "data": {
      "text/plain": [
       "{0, 1, 2}"
      ]
     },
     "execution_count": 5,
     "metadata": {},
     "output_type": "execute_result"
    }
   ],
   "source": [
    "set(target)"
   ]
  },
  {
   "cell_type": "code",
   "execution_count": 6,
   "metadata": {},
   "outputs": [
    {
     "data": {
      "text/plain": [
       "(150,)"
      ]
     },
     "execution_count": 6,
     "metadata": {},
     "output_type": "execute_result"
    }
   ],
   "source": [
    "target.shape"
   ]
  },
  {
   "cell_type": "code",
   "execution_count": 22,
   "metadata": {},
   "outputs": [
    {
     "data": {
      "text/plain": [
       "array([5.1, 3.3, 1.7, 0.5])"
      ]
     },
     "execution_count": 22,
     "metadata": {},
     "output_type": "execute_result"
    }
   ],
   "source": [
    "features[23]"
   ]
  },
  {
   "cell_type": "markdown",
   "metadata": {},
   "source": [
    "The species of iris 43."
   ]
  },
  {
   "cell_type": "code",
   "execution_count": 23,
   "metadata": {},
   "outputs": [
    {
     "data": {
      "text/plain": [
       "0"
      ]
     },
     "execution_count": 23,
     "metadata": {},
     "output_type": "execute_result"
    }
   ],
   "source": [
    "target[23]"
   ]
  },
  {
   "cell_type": "markdown",
   "metadata": {},
   "source": [
    "#### Example 1 (Exercise)\n",
    "\n",
    "What are the colors telling us?  What does fancy-indexing have to do with this code?"
   ]
  },
  {
   "cell_type": "code",
   "execution_count": 17,
   "metadata": {},
   "outputs": [
    {
     "data": {
      "text/plain": [
       "<matplotlib.collections.PathCollection at 0x15f952e70>"
      ]
     },
     "execution_count": 17,
     "metadata": {},
     "output_type": "execute_result"
    },
    {
     "data": {
      "image/png": "[encoded data removed]",
      "text/plain": [
       "<Figure size 640x480 with 1 Axes>"
      ]
     },
     "metadata": {},
     "output_type": "display_data"
    }
   ],
   "source": [
    "from matplotlib import pyplot as plt\n",
    "fig,ax = plt.subplots(1,1)\n",
    "color_set = np.array([\"teal\",\"blue\", \"aqua\"])\n",
    "colors = color_set[target]\n",
    "ax.scatter(features[:,0],features[:,1],c=colors,s=20)"
   ]
  },
  {
   "cell_type": "code",
   "execution_count": null,
   "metadata": {},
   "outputs": [],
   "source": []
  },
  {
   "cell_type": "code",
   "execution_count": null,
   "metadata": {},
   "outputs": [],
   "source": []
  },
  {
   "cell_type": "code",
   "execution_count": null,
   "metadata": {},
   "outputs": [],
   "source": []
  },
  {
   "cell_type": "code",
   "execution_count": null,
   "metadata": {},
   "outputs": [],
   "source": []
  },
  {
   "cell_type": "code",
   "execution_count": null,
   "metadata": {},
   "outputs": [],
   "source": []
  },
  {
   "cell_type": "code",
   "execution_count": null,
   "metadata": {},
   "outputs": [],
   "source": []
  },
  {
   "cell_type": "code",
   "execution_count": 20,
   "metadata": {},
   "outputs": [
    {
     "data": {
      "text/plain": [
       "array([0, 0, 0, 0, 0, 0, 0, 0, 0, 0, 0, 0, 0, 0, 0, 0, 0, 0, 0, 0, 0, 0,\n",
       "       0, 0, 0, 0, 0, 0, 0, 0, 0, 0, 0, 0, 0, 0, 0, 0, 0, 0, 0, 0, 0, 0,\n",
       "       0, 0, 0, 0, 0, 0, 1, 1, 1, 1, 1, 1, 1, 1, 1, 1, 1, 1, 1, 1, 1, 1,\n",
       "       1, 1, 1, 1, 1, 1, 1, 1, 1, 1, 1, 1, 1, 1, 1, 1, 1, 1, 1, 1, 1, 1,\n",
       "       1, 1, 1, 1, 1, 1, 1, 1, 1, 1, 1, 1, 2, 2, 2, 2, 2, 2, 2, 2, 2, 2,\n",
       "       2, 2, 2, 2, 2, 2, 2, 2, 2, 2, 2, 2, 2, 2, 2, 2, 2, 2, 2, 2, 2, 2,\n",
       "       2, 2, 2, 2, 2, 2, 2, 2, 2, 2, 2, 2, 2, 2, 2, 2, 2, 2])"
      ]
     },
     "execution_count": 20,
     "metadata": {},
     "output_type": "execute_result"
    }
   ],
   "source": [
    "target"
   ]
  },
  {
   "cell_type": "code",
   "execution_count": 21,
   "metadata": {},
   "outputs": [
    {
     "data": {
      "text/plain": [
       "array(['teal', 'blue', 'aqua'], dtype='<U4')"
      ]
     },
     "execution_count": 21,
     "metadata": {},
     "output_type": "execute_result"
    }
   ],
   "source": [
    "color_set"
   ]
  },
  {
   "cell_type": "markdown",
   "metadata": {},
   "source": [
    "Species 0 gets colored teal; species 1 blue; species 2 aqua.\n",
    "\n",
    "The indices in the `target` array are being used to (fancy-)index colors.  The colors\n",
    "are aligned with the points being plotted. \n",
    "\n"
   ]
  },
  {
   "cell_type": "code",
   "execution_count": 19,
   "metadata": {},
   "outputs": [
    {
     "data": {
      "text/plain": [
       "array(['teal', 'teal', 'teal', 'teal', 'teal', 'teal', 'teal', 'teal',\n",
       "       'teal', 'teal', 'teal', 'teal', 'teal', 'teal', 'teal', 'teal',\n",
       "       'teal', 'teal', 'teal', 'teal', 'teal', 'teal', 'teal', 'teal',\n",
       "       'teal', 'teal', 'teal', 'teal', 'teal', 'teal', 'teal', 'teal',\n",
       "       'teal', 'teal', 'teal', 'teal', 'teal', 'teal', 'teal', 'teal',\n",
       "       'teal', 'teal', 'teal', 'teal', 'teal', 'teal', 'teal', 'teal',\n",
       "       'teal', 'teal', 'blue', 'blue', 'blue', 'blue', 'blue', 'blue',\n",
       "       'blue', 'blue', 'blue', 'blue', 'blue', 'blue', 'blue', 'blue',\n",
       "       'blue', 'blue', 'blue', 'blue', 'blue', 'blue', 'blue', 'blue',\n",
       "       'blue', 'blue', 'blue', 'blue', 'blue', 'blue', 'blue', 'blue',\n",
       "       'blue', 'blue', 'blue', 'blue', 'blue', 'blue', 'blue', 'blue',\n",
       "       'blue', 'blue', 'blue', 'blue', 'blue', 'blue', 'blue', 'blue',\n",
       "       'blue', 'blue', 'blue', 'blue', 'aqua', 'aqua', 'aqua', 'aqua',\n",
       "       'aqua', 'aqua', 'aqua', 'aqua', 'aqua', 'aqua', 'aqua', 'aqua',\n",
       "       'aqua', 'aqua', 'aqua', 'aqua', 'aqua', 'aqua', 'aqua', 'aqua',\n",
       "       'aqua', 'aqua', 'aqua', 'aqua', 'aqua', 'aqua', 'aqua', 'aqua',\n",
       "       'aqua', 'aqua', 'aqua', 'aqua', 'aqua', 'aqua', 'aqua', 'aqua',\n",
       "       'aqua', 'aqua', 'aqua', 'aqua', 'aqua', 'aqua', 'aqua', 'aqua',\n",
       "       'aqua', 'aqua', 'aqua', 'aqua', 'aqua', 'aqua'], dtype='<U4')"
      ]
     },
     "execution_count": 19,
     "metadata": {},
     "output_type": "execute_result"
    }
   ],
   "source": [
    "color_set[target]"
   ]
  },
  {
   "cell_type": "markdown",
   "metadata": {},
   "source": [
    "**Takeaway**:  We are indexing each element in an array of size 3 to produce an array of size 150 by  indexing each element many times.    This single line of code\n",
    "\n",
    "```\n",
    "color_set[target]\n",
    "```\n",
    "\n",
    "would have to be a loop in ordinary Python:"
   ]
  },
  {
   "cell_type": "code",
   "execution_count": 97,
   "metadata": {},
   "outputs": [
    {
     "data": {
      "text/plain": [
       "array(['teal', 'teal', 'teal', 'teal', 'teal', 'teal', 'teal', 'teal',\n",
       "       'teal', 'teal', 'teal', 'teal', 'teal', 'teal', 'teal', 'teal',\n",
       "       'teal', 'teal', 'teal', 'teal', 'teal', 'teal', 'teal', 'teal',\n",
       "       'teal', 'teal', 'teal', 'teal', 'teal', 'teal', 'teal', 'teal',\n",
       "       'teal', 'teal', 'teal', 'teal', 'teal', 'teal', 'teal', 'teal',\n",
       "       'teal', 'teal', 'teal', 'teal', 'teal', 'teal', 'teal', 'teal',\n",
       "       'teal', 'teal', 'blue', 'blue', 'blue', 'blue', 'blue', 'blue',\n",
       "       'blue', 'blue', 'blue', 'blue', 'blue', 'blue', 'blue', 'blue',\n",
       "       'blue', 'blue', 'blue', 'blue', 'blue', 'blue', 'blue', 'blue',\n",
       "       'blue', 'blue', 'blue', 'blue', 'blue', 'blue', 'blue', 'blue',\n",
       "       'blue', 'blue', 'blue', 'blue', 'blue', 'blue', 'blue', 'blue',\n",
       "       'blue', 'blue', 'blue', 'blue', 'blue', 'blue', 'blue', 'blue',\n",
       "       'blue', 'blue', 'blue', 'blue', 'aqua', 'aqua', 'aqua', 'aqua',\n",
       "       'aqua', 'aqua', 'aqua', 'aqua', 'aqua', 'aqua', 'aqua', 'aqua',\n",
       "       'aqua', 'aqua', 'aqua', 'aqua', 'aqua', 'aqua', 'aqua', 'aqua',\n",
       "       'aqua', 'aqua', 'aqua', 'aqua', 'aqua', 'aqua', 'aqua', 'aqua',\n",
       "       'aqua', 'aqua', 'aqua', 'aqua', 'aqua', 'aqua', 'aqua', 'aqua',\n",
       "       'aqua', 'aqua', 'aqua', 'aqua', 'aqua', 'aqua', 'aqua', 'aqua',\n",
       "       'aqua', 'aqua', 'aqua', 'aqua', 'aqua', 'aqua'], dtype='<U4')"
      ]
     },
     "execution_count": 97,
     "metadata": {},
     "output_type": "execute_result"
    }
   ],
   "source": [
    "np.array([color_set[i] for i in target])"
   ]
  },
  {
   "cell_type": "markdown",
   "metadata": {},
   "source": [
    "#### Example 2  (Exercise)\n",
    "\n",
    "In this exercise we use fancy indexing to randomly sample from an array's values:"
   ]
  },
  {
   "cell_type": "code",
   "execution_count": 43,
   "metadata": {},
   "outputs": [],
   "source": [
    "import random\n",
    "# A random sample of size N from a sequence of R values\n",
    "N, R = 10, 21\n",
    "\n",
    "W =np.arange(R)"
   ]
  },
  {
   "cell_type": "code",
   "execution_count": 46,
   "metadata": {},
   "outputs": [
    {
     "data": {
      "text/plain": [
       "array([15,  8, 16, 11,  4, 12,  0, 11, 15,  8])"
      ]
     },
     "execution_count": 46,
     "metadata": {},
     "output_type": "execute_result"
    }
   ],
   "source": [
    "# Change the random seed to get a new sample\n",
    "seed=12\n",
    "random.seed(seed)\n",
    "# randrange: select  an integer value from the range 0 through (R-1) inclusive\n",
    "W[[random.randrange(0,R) for i in range(N)]]"
   ]
  },
  {
   "cell_type": "markdown",
   "metadata": {},
   "source": [
    "#### task\n",
    "\n",
    "Your task is to extend the example above: Select exactly N=10\n",
    "values from the 2D array `WW` defined in the next cell.\n",
    "Be sure that all 10 values are independent of each other.  For example\n",
    "you should neither avoid nor be biased toward having values in\n",
    "the same row.\n",
    "\n",
    "Beyond the independence issue, note that if you only select  rows you will get 30 values, not 10, because\n",
    "there are 3 columns.  If you select 3 rows you will get 9 values and  if you select 4 you will get 12.  The game is to use `select_S` to get exactly 10."
   ]
  },
  {
   "cell_type": "code",
   "execution_count": 101,
   "metadata": {},
   "outputs": [
    {
     "name": "stdout",
     "output_type": "stream",
     "text": [
      "WW\n",
      " [[ 0  1  2]\n",
      " [ 3  4  5]\n",
      " [ 6  7  8]\n",
      " [ 9 10 11]\n",
      " [12 13 14]\n",
      " [15 16 17]\n",
      " [18 19 20]]\n"
     ]
    }
   ],
   "source": [
    "R = 21\n",
    "WW = np.arange(R).reshape((7,3))\n",
    "print(\"WW\\n\",WW)"
   ]
  },
  {
   "cell_type": "markdown",
   "metadata": {},
   "source": [
    "Incorrect answer: selecting 10 rows: First of all, that's 30 items not 10. \n",
    "Also note that the rows of the output are all rows of `WW`, so the individual numbers are not independent of each other.  For example, if 12 occurs it will always\n",
    "be followed by 13; there is no chance that 12 will be followed by 1."
   ]
  },
  {
   "cell_type": "code",
   "execution_count": 103,
   "metadata": {
    "scrolled": true
   },
   "outputs": [
    {
     "data": {
      "text/plain": [
       "array([[ 0,  1,  2],\n",
       "       [18, 19, 20],\n",
       "       [ 3,  4,  5],\n",
       "       [ 3,  4,  5],\n",
       "       [ 6,  7,  8],\n",
       "       [18, 19, 20],\n",
       "       [18, 19, 20],\n",
       "       [18, 19, 20],\n",
       "       [ 0,  1,  2],\n",
       "       [ 3,  4,  5]])"
      ]
     },
     "execution_count": 103,
     "metadata": {},
     "output_type": "execute_result"
    }
   ],
   "source": [
    "# Here N=10 and R is the number of rows in WW\n",
    "# Sample 10 rows (with repetition, of course, since there are only 7)\n",
    "N,rows = 10,7\n",
    "WW[[random.randrange(0,rows) for i in range(N)]]"
   ]
  },
  {
   "cell_type": "code",
   "execution_count": null,
   "metadata": {},
   "outputs": [],
   "source": []
  },
  {
   "cell_type": "code",
   "execution_count": null,
   "metadata": {},
   "outputs": [],
   "source": []
  },
  {
   "cell_type": "code",
   "execution_count": null,
   "metadata": {},
   "outputs": [],
   "source": []
  },
  {
   "cell_type": "code",
   "execution_count": null,
   "metadata": {},
   "outputs": [],
   "source": []
  },
  {
   "cell_type": "code",
   "execution_count": null,
   "metadata": {},
   "outputs": [],
   "source": []
  },
  {
   "cell_type": "code",
   "execution_count": null,
   "metadata": {},
   "outputs": [],
   "source": []
  },
  {
   "cell_type": "code",
   "execution_count": null,
   "metadata": {},
   "outputs": [],
   "source": []
  },
  {
   "cell_type": "markdown",
   "metadata": {},
   "source": [
    "We need to select N row indices as well as N column \n",
    "indices at random, using `WW`'s shape -- `rows x cols` -- to\n",
    "define the ranges we are selecting from."
   ]
  },
  {
   "cell_type": "code",
   "execution_count": 104,
   "metadata": {
    "colab": {},
    "colab_type": "code",
    "id": "D_OpNtkp0FLO"
   },
   "outputs": [
    {
     "data": {
      "text/plain": [
       "array([ 5,  3, 18, 14, 17,  2, 14, 20, 11, 18])"
      ]
     },
     "execution_count": 104,
     "metadata": {},
     "output_type": "execute_result"
    }
   ],
   "source": [
    "# rows,cols = (7,3) of course as determined above. \n",
    "rows,cols = WW.shape\n",
    "WW[[random.randrange(0,rows) for i in range(N)],\n",
    "   [random.randrange(0,cols) for i in range(N)]]\n"
   ]
  },
  {
   "cell_type": "markdown",
   "metadata": {},
   "source": [
    "#### Exercise\n",
    "\n",
    "Many machine learning algorithms are sensitive to the order in which data\n",
    "is presented.  So we cannot in good conscience present our data in the \n",
    "order given in the features array, where all the items of class 0 are in the first\n",
    "50 rows, class 1 in the next 50, and so on.\n",
    "\n",
    "We need to shuffle our rows into a random order.  We can use `random.shuffle` to do this:"
   ]
  },
  {
   "cell_type": "code",
   "execution_count": 59,
   "metadata": {},
   "outputs": [
    {
     "name": "stdout",
     "output_type": "stream",
     "text": [
      "[0, 1, 2, 3, 4, 5, 6, 7, 8, 9, 10, 11]\n",
      "[1, 3, 8, 9, 2, 11, 10, 7, 4, 0, 5, 6]\n"
     ]
    }
   ],
   "source": [
    "import random\n",
    "a = list(np.arange(12))\n",
    "print(a)\n",
    "random.shuffle(a)\n",
    "print(a)"
   ]
  },
  {
   "cell_type": "markdown",
   "metadata": {},
   "source": [
    "The problem is if we shuffle `features` we must shuffle `target` in an identical\n",
    "way or we will lose the information of what species each row belongs to,\n",
    "making the shuffled data pretty useless.\n",
    "\n",
    "See if you can get the effect of randomly shuffling `features` and `target` while guaranteeing that they remain aligned.  You can do this by calling\n",
    "`random.seed()` twice with the same argument.  But see if you can do it another way,\n",
    "by using fancy indexing.\n",
    "\n",
    "The cell below creates copies of the original data, so you can practice\n",
    "your solutions on copies and not to have to reload the data if you scramble it.\n",
    "This is just a safety precaution.  The fancy-indexing solution we are looking for\n",
    "here does not destructively modify either `features` or `target`."
   ]
  },
  {
   "cell_type": "code",
   "execution_count": 105,
   "metadata": {},
   "outputs": [],
   "source": [
    "features2 = features.copy()\n",
    "target2 = target.copy()\n",
    "# after shuffling use BC check to see that row 23 is still species 0\n",
    "# >>> features[23]\n",
    "# array([5.1, 3.3, 1.7, 0.5])\n",
    "# These two col values are enough to uniquely determine row 23\n",
    "#BC = (features2[:,0]==5.1) & (features2[:,2]==1.7)\n",
    "#Create and apply BC AFTER shuffling  is implemented to do check\n",
    "#BCs created before shuffling data are no longer aligned with it."
   ]
  },
  {
   "cell_type": "code",
   "execution_count": null,
   "metadata": {},
   "outputs": [],
   "source": []
  },
  {
   "cell_type": "code",
   "execution_count": null,
   "metadata": {},
   "outputs": [],
   "source": []
  },
  {
   "cell_type": "code",
   "execution_count": null,
   "metadata": {},
   "outputs": [],
   "source": []
  },
  {
   "cell_type": "code",
   "execution_count": null,
   "metadata": {},
   "outputs": [],
   "source": []
  },
  {
   "cell_type": "code",
   "execution_count": null,
   "metadata": {},
   "outputs": [],
   "source": []
  },
  {
   "cell_type": "code",
   "execution_count": null,
   "metadata": {},
   "outputs": [],
   "source": []
  },
  {
   "cell_type": "code",
   "execution_count": null,
   "metadata": {},
   "outputs": [],
   "source": []
  },
  {
   "cell_type": "code",
   "execution_count": null,
   "metadata": {},
   "outputs": [],
   "source": []
  },
  {
   "cell_type": "code",
   "execution_count": 90,
   "metadata": {},
   "outputs": [],
   "source": [
    "# The # of rows in `features` 1s the same as the # of rows in `target`\n",
    "(R,D)  = features.shape\n",
    "##  Shuffle a sequence of row indices\n",
    "ra = np.arange(R)\n",
    "random.shuffle(ra)\n",
    "## Fancy indexing: Apply the same shuffled indices to features and target\n",
    "new_features = features[ra]\n",
    "new_target = target[ra]\n",
    "#  Check former row 23 using BC\n",
    "BC = (new_features[:,0]==5.1) & (new_features[:,2]==1.7)"
   ]
  },
  {
   "cell_type": "markdown",
   "metadata": {},
   "source": [
    "Shuffling definitely happened:"
   ]
  },
  {
   "cell_type": "code",
   "execution_count": 95,
   "metadata": {},
   "outputs": [
    {
     "data": {
      "text/plain": [
       "array([2, 0, 0, 0, 0, 2, 2, 1, 0, 2, 2, 2, 1, 2, 0, 2, 1, 2, 1, 1, 1, 2,\n",
       "       2, 0, 1, 1, 0, 0, 2, 1, 0, 2, 1, 0, 2, 1, 0, 2, 2, 0, 0, 2, 1, 1,\n",
       "       1, 1, 0, 0, 0, 0, 2, 0, 2, 1, 1, 2, 1, 2, 2, 0, 1, 0, 0, 1, 1, 0,\n",
       "       0, 1, 2, 2, 0, 1, 1, 2, 2, 0, 1, 1, 1, 1, 2, 2, 0, 0, 0, 1, 2, 0,\n",
       "       0, 2, 2, 0, 0, 0, 1, 1, 0, 1, 0, 1, 1, 1, 0, 1, 0, 1, 2, 1, 2, 2,\n",
       "       1, 0, 1, 1, 0, 2, 1, 0, 2, 1, 0, 1, 0, 0, 2, 0, 0, 2, 2, 2, 2, 2,\n",
       "       2, 0, 2, 2, 1, 2, 0, 2, 1, 1, 2, 2, 0, 1, 1, 1, 0, 2])"
      ]
     },
     "execution_count": 95,
     "metadata": {},
     "output_type": "execute_result"
    }
   ],
   "source": [
    "new_target"
   ]
  },
  {
   "cell_type": "markdown",
   "metadata": {},
   "source": [
    "Yep.  That's our row."
   ]
  },
  {
   "cell_type": "code",
   "execution_count": 92,
   "metadata": {
    "scrolled": true
   },
   "outputs": [
    {
     "data": {
      "text/plain": [
       "array([[5.1, 3.3, 1.7, 0.5]])"
      ]
     },
     "execution_count": 92,
     "metadata": {},
     "output_type": "execute_result"
    }
   ],
   "source": [
    "new_features[BC]"
   ]
  },
  {
   "cell_type": "markdown",
   "metadata": {},
   "source": [
    "Still species 0 after  shuffling"
   ]
  },
  {
   "cell_type": "code",
   "execution_count": 93,
   "metadata": {
    "scrolled": true
   },
   "outputs": [
    {
     "data": {
      "text/plain": [
       "array([0])"
      ]
     },
     "execution_count": 93,
     "metadata": {},
     "output_type": "execute_result"
    }
   ],
   "source": [
    "new_target[BC]"
   ]
  },
  {
   "cell_type": "markdown",
   "metadata": {},
   "source": [
    "Checking to see the original data is unharmed."
   ]
  },
  {
   "cell_type": "code",
   "execution_count": 94,
   "metadata": {},
   "outputs": [
    {
     "data": {
      "text/plain": [
       "array([0, 0, 0, 0, 0, 0, 0, 0, 0, 0, 0, 0, 0, 0, 0, 0, 0, 0, 0, 0, 0, 0,\n",
       "       0, 0, 0, 0, 0, 0, 0, 0, 0, 0, 0, 0, 0, 0, 0, 0, 0, 0, 0, 0, 0, 0,\n",
       "       0, 0, 0, 0, 0, 0, 1, 1, 1, 1, 1, 1, 1, 1, 1, 1, 1, 1, 1, 1, 1, 1,\n",
       "       1, 1, 1, 1, 1, 1, 1, 1, 1, 1, 1, 1, 1, 1, 1, 1, 1, 1, 1, 1, 1, 1,\n",
       "       1, 1, 1, 1, 1, 1, 1, 1, 1, 1, 1, 1, 2, 2, 2, 2, 2, 2, 2, 2, 2, 2,\n",
       "       2, 2, 2, 2, 2, 2, 2, 2, 2, 2, 2, 2, 2, 2, 2, 2, 2, 2, 2, 2, 2, 2,\n",
       "       2, 2, 2, 2, 2, 2, 2, 2, 2, 2, 2, 2, 2, 2, 2, 2, 2, 2])"
      ]
     },
     "execution_count": 94,
     "metadata": {},
     "output_type": "execute_result"
    }
   ],
   "source": [
    "target"
   ]
  },
  {
   "cell_type": "markdown",
   "metadata": {},
   "source": [
    "Obviously to be sure we'd check more rows to be sure.  But that's the idea.\n",
    "\n",
    "Final note. We didn't use `target2` and `features2`, the copies. The copying wasn't really necessary since the solution above does not destructively modify the data.  That safety measure was in case your solution wandered down the wrong path.\n",
    "`"
   ]
  },
  {
   "cell_type": "markdown",
   "metadata": {
    "colab_type": "text",
    "id": "Ew6jQ3qa0FKk"
   },
   "source": [
    "## 3.  Elementwise arithmetic operations"
   ]
  },
  {
   "cell_type": "markdown",
   "metadata": {
    "colab": {},
    "colab_type": "code",
    "id": "-_DRebbv0FKk"
   },
   "source": [
    "We can add arrays `M` and `N` of the same shape. \n",
    "\n",
    "`M+N[i,j] = M[i,j] + N[i,j]`\n",
    "\n",
    "The operation is pretty intuitive."
   ]
  },
  {
   "cell_type": "code",
   "execution_count": 45,
   "metadata": {
    "colab": {
     "base_uri": "https://localhost:8080/",
     "height": 85
    },
    "colab_type": "code",
    "id": "vK34WuAU0FKl",
    "outputId": "268ebad5-95fd-4cbd-fd54-aba25730a742"
   },
   "outputs": [
    {
     "name": "stdout",
     "output_type": "stream",
     "text": [
      "[[20 30]\n",
      " [40 50]]\n",
      "[[0 1]\n",
      " [2 3]]\n"
     ]
    }
   ],
   "source": [
    "import numpy as np\n",
    "a = np.array( [20,30,40,50] ).reshape((2,2))\n",
    "b = np.arange( 4 ).reshape((2,2))\n",
    "print(a)\n",
    "print(b)"
   ]
  },
  {
   "cell_type": "code",
   "execution_count": 46,
   "metadata": {
    "colab": {
     "base_uri": "https://localhost:8080/",
     "height": 51
    },
    "colab_type": "code",
    "id": "gTWEQ80V0FKm",
    "outputId": "7e312496-4638-486a-844c-71afc2882e99"
   },
   "outputs": [
    {
     "data": {
      "text/plain": [
       "array([[20, 31],\n",
       "       [42, 53]])"
      ]
     },
     "execution_count": 46,
     "metadata": {},
     "output_type": "execute_result"
    }
   ],
   "source": [
    "a + b"
   ]
  },
  {
   "cell_type": "markdown",
   "metadata": {},
   "source": [
    "This is known as **elementwise arithmetic**.\n",
    "\n",
    "It extends to other arithmetic operations beside addition."
   ]
  },
  {
   "cell_type": "code",
   "execution_count": null,
   "metadata": {
    "colab": {
     "base_uri": "https://localhost:8080/",
     "height": 51
    },
    "colab_type": "code",
    "id": "SIxwMWUe0FKn",
    "outputId": "a600c116-7e29-44ed-bc03-b0f7ed2cdafd",
    "scrolled": true
   },
   "outputs": [
    {
     "data": {
      "text/plain": [
       "array([[  0,  30],\n",
       "       [ 80, 150]])"
      ]
     },
     "execution_count": 75,
     "metadata": {
      "tags": []
     },
     "output_type": "execute_result"
    }
   ],
   "source": [
    "a * b"
   ]
  },
  {
   "cell_type": "code",
   "execution_count": null,
   "metadata": {
    "colab": {
     "base_uri": "https://localhost:8080/",
     "height": 51
    },
    "colab_type": "code",
    "id": "OUnoMpH50FKp",
    "outputId": "21f7a592-1b63-4005-d8e4-90d28cb245e9",
    "scrolled": true
   },
   "outputs": [
    {
     "data": {
      "text/plain": [
       "array([[20, 29],\n",
       "       [38, 47]])"
      ]
     },
     "execution_count": 76,
     "metadata": {
      "tags": []
     },
     "output_type": "execute_result"
    }
   ],
   "source": [
    "a - b"
   ]
  },
  {
   "cell_type": "markdown",
   "metadata": {},
   "source": [
    "**Exercise**\n",
    "\n",
    "Add 1 to every element of the the array `Q` by creating a new array of the right shape containing only 1s\n",
    "(use `np.ones`, which works like `np.zeros`) and adding the two arrays."
   ]
  },
  {
   "cell_type": "code",
   "execution_count": 9,
   "metadata": {
    "scrolled": true
   },
   "outputs": [
    {
     "data": {
      "text/plain": [
       "array([[ 0,  2,  4,  6],\n",
       "       [ 8, 10, 12, 14],\n",
       "       [16, 18, 20, 22]])"
      ]
     },
     "execution_count": 9,
     "metadata": {},
     "output_type": "execute_result"
    }
   ],
   "source": [
    "Q = np.arange(0,24,2).reshape((3,4))\n",
    "Q"
   ]
  },
  {
   "cell_type": "markdown",
   "metadata": {},
   "source": [
    "Demonstrating `np.ones()`."
   ]
  },
  {
   "cell_type": "code",
   "execution_count": 12,
   "metadata": {},
   "outputs": [
    {
     "data": {
      "text/plain": [
       "array([[1., 1., 1., 1.],\n",
       "       [1., 1., 1., 1.]])"
      ]
     },
     "execution_count": 12,
     "metadata": {},
     "output_type": "execute_result"
    }
   ],
   "source": [
    "np.ones((2,4))"
   ]
  },
  {
   "cell_type": "code",
   "execution_count": null,
   "metadata": {},
   "outputs": [],
   "source": []
  },
  {
   "cell_type": "code",
   "execution_count": null,
   "metadata": {},
   "outputs": [],
   "source": []
  },
  {
   "cell_type": "code",
   "execution_count": null,
   "metadata": {},
   "outputs": [],
   "source": []
  },
  {
   "cell_type": "code",
   "execution_count": null,
   "metadata": {},
   "outputs": [],
   "source": []
  },
  {
   "cell_type": "code",
   "execution_count": null,
   "metadata": {},
   "outputs": [],
   "source": []
  },
  {
   "cell_type": "code",
   "execution_count": null,
   "metadata": {},
   "outputs": [],
   "source": []
  },
  {
   "cell_type": "code",
   "execution_count": null,
   "metadata": {},
   "outputs": [],
   "source": []
  },
  {
   "cell_type": "code",
   "execution_count": 16,
   "metadata": {},
   "outputs": [
    {
     "name": "stdout",
     "output_type": "stream",
     "text": [
      "[[ 0  2  4  6]\n",
      " [ 8 10 12 14]\n",
      " [16 18 20 22]]\n",
      "[[ 1.  3.  5.  7.]\n",
      " [ 9. 11. 13. 15.]\n",
      " [17. 19. 21. 23.]]\n"
     ]
    }
   ],
   "source": [
    "print(Q)\n",
    "print(Q + np.ones((3,4)))"
   ]
  },
  {
   "cell_type": "code",
   "execution_count": 18,
   "metadata": {},
   "outputs": [
    {
     "name": "stdout",
     "output_type": "stream",
     "text": [
      "[[ 0  2  4  6]\n",
      " [ 8 10 12 14]\n",
      " [16 18 20 22]]\n",
      "[[ 1  3  5  7]\n",
      " [ 9 11 13 15]\n",
      " [17 19 21 23]]\n"
     ]
    }
   ],
   "source": [
    "print(Q)\n",
    "print(Q + np.ones((3,4),dtype=int))"
   ]
  },
  {
   "cell_type": "markdown",
   "metadata": {
    "colab_type": "text",
    "id": "ZeRZujnW0FKq"
   },
   "source": [
    "In the next example we illustrate simple **broadcasting** with arithmetic operations. We were briefly\n",
    "introduced to broadcasting above for the case of assignment. \n",
    "\n",
    "The simplest case of broadcasting with arithmetic operations is when elementwise operations apply between arrays and scalars (ordinary numbers).  So for example, `2 * a` (where `a` is the array above) returns an array that contains all the elements of `a` multiplied by 2."
   ]
  },
  {
   "cell_type": "code",
   "execution_count": 19,
   "metadata": {
    "colab": {
     "base_uri": "https://localhost:8080/",
     "height": 102
    },
    "colab_type": "code",
    "id": "SBA4SztC0FKq",
    "outputId": "b62a28dd-e195-433b-9828-72e0262fe13e",
    "scrolled": false
   },
   "outputs": [
    {
     "name": "stdout",
     "output_type": "stream",
     "text": [
      "[ 0  1  2  3  4  5  6  7  8  9 10 11 12 13 14]\n",
      "\n",
      "[ 0  2  4  6  8 10 12 14 16 18 20 22 24 26 28]\n"
     ]
    }
   ],
   "source": [
    "print(a)\n",
    "print()\n",
    "print(2 * a)"
   ]
  },
  {
   "cell_type": "markdown",
   "metadata": {
    "colab_type": "text",
    "id": "2Y7uBAAr0FKr"
   },
   "source": [
    "This works by \"broadcasting\" `2` into an array the same size as `a` and then doing elementwise mutliplication on the two arrays.  \n",
    "\n",
    "$$\n",
    "2 \\Rightarrow \\left \\lbrack\n",
    "\\begin{array}{cccccccccc}\n",
    "2 & 2 & 2 & 2 & 2 & 2 & 2 & 2 & 2 & 2 \n",
    "\\end{array}\n",
    "\\right \\rbrack\n",
    "$$\n",
    "\n",
    "We will say more about broadcasting in a subsequent notebook."
   ]
  },
  {
   "cell_type": "markdown",
   "metadata": {},
   "source": [
    "**Exercise**\n",
    "\n",
    "The same as the last exercise: Add 1 to every element of the the array `Q`.\n",
    "Only this time, do it by adding a scalar value to `Q`."
   ]
  },
  {
   "cell_type": "code",
   "execution_count": 55,
   "metadata": {},
   "outputs": [
    {
     "data": {
      "text/plain": [
       "array([[ 0,  2,  4,  6],\n",
       "       [ 8, 10, 12, 14],\n",
       "       [16, 18, 20, 22]])"
      ]
     },
     "execution_count": 55,
     "metadata": {},
     "output_type": "execute_result"
    }
   ],
   "source": [
    "Q = np.arange(0,24,2).reshape((3,4))\n",
    "Q"
   ]
  },
  {
   "cell_type": "code",
   "execution_count": null,
   "metadata": {},
   "outputs": [],
   "source": []
  },
  {
   "cell_type": "code",
   "execution_count": null,
   "metadata": {},
   "outputs": [],
   "source": []
  },
  {
   "cell_type": "code",
   "execution_count": null,
   "metadata": {},
   "outputs": [],
   "source": []
  },
  {
   "cell_type": "code",
   "execution_count": null,
   "metadata": {},
   "outputs": [],
   "source": []
  },
  {
   "cell_type": "code",
   "execution_count": null,
   "metadata": {},
   "outputs": [],
   "source": []
  },
  {
   "cell_type": "code",
   "execution_count": null,
   "metadata": {},
   "outputs": [],
   "source": []
  },
  {
   "cell_type": "code",
   "execution_count": null,
   "metadata": {},
   "outputs": [],
   "source": []
  },
  {
   "cell_type": "code",
   "execution_count": null,
   "metadata": {},
   "outputs": [],
   "source": []
  },
  {
   "cell_type": "code",
   "execution_count": null,
   "metadata": {},
   "outputs": [],
   "source": []
  },
  {
   "cell_type": "code",
   "execution_count": null,
   "metadata": {},
   "outputs": [],
   "source": []
  },
  {
   "cell_type": "code",
   "execution_count": null,
   "metadata": {},
   "outputs": [],
   "source": []
  },
  {
   "cell_type": "code",
   "execution_count": 58,
   "metadata": {},
   "outputs": [
    {
     "name": "stdout",
     "output_type": "stream",
     "text": [
      "Q\n",
      " [[ 0  2  4  6]\n",
      " [ 8 10 12 14]\n",
      " [16 18 20 22]]\n",
      "\n",
      "Q+1\n",
      " [[ 1  3  5  7]\n",
      " [ 9 11 13 15]\n",
      " [17 19 21 23]]\n"
     ]
    }
   ],
   "source": [
    "print('Q\\n',Q)\n",
    "print()\n",
    "print('Q+1\\n',Q+1)"
   ]
  },
  {
   "cell_type": "markdown",
   "metadata": {},
   "source": [
    "**Exercise** \n",
    "\n",
    "Create an array QP which contains 2 raised to every power contained in Q:\n",
    "\n",
    "$$\n",
    "\\text{QP[i,j]} = 2^{\\text{Q}[i,j]}\n",
    "$$"
   ]
  },
  {
   "cell_type": "code",
   "execution_count": 14,
   "metadata": {},
   "outputs": [
    {
     "data": {
      "text/plain": [
       "array([[ 0,  2,  4,  6],\n",
       "       [ 8, 10, 12, 14],\n",
       "       [16, 18, 20, 22]])"
      ]
     },
     "execution_count": 14,
     "metadata": {},
     "output_type": "execute_result"
    }
   ],
   "source": [
    "Q"
   ]
  },
  {
   "cell_type": "markdown",
   "metadata": {},
   "source": [
    "So for example, since `Q[2,3]` is"
   ]
  },
  {
   "cell_type": "code",
   "execution_count": 286,
   "metadata": {},
   "outputs": [
    {
     "data": {
      "text/plain": [
       "22"
      ]
     },
     "execution_count": 286,
     "metadata": {},
     "output_type": "execute_result"
    }
   ],
   "source": [
    "Q[2,3]"
   ]
  },
  {
   "cell_type": "markdown",
   "metadata": {},
   "source": [
    "`QP[2,3]` should be"
   ]
  },
  {
   "cell_type": "code",
   "execution_count": 20,
   "metadata": {},
   "outputs": [
    {
     "data": {
      "text/plain": [
       "4194304"
      ]
     },
     "execution_count": 20,
     "metadata": {},
     "output_type": "execute_result"
    }
   ],
   "source": [
    "##  Note this is the general syntax for a to the b power (a**b)\n",
    "2**22"
   ]
  },
  {
   "cell_type": "code",
   "execution_count": null,
   "metadata": {},
   "outputs": [],
   "source": []
  },
  {
   "cell_type": "code",
   "execution_count": null,
   "metadata": {},
   "outputs": [],
   "source": []
  },
  {
   "cell_type": "code",
   "execution_count": null,
   "metadata": {},
   "outputs": [],
   "source": []
  },
  {
   "cell_type": "code",
   "execution_count": null,
   "metadata": {},
   "outputs": [],
   "source": []
  },
  {
   "cell_type": "code",
   "execution_count": null,
   "metadata": {},
   "outputs": [],
   "source": []
  },
  {
   "cell_type": "code",
   "execution_count": null,
   "metadata": {},
   "outputs": [],
   "source": []
  },
  {
   "cell_type": "code",
   "execution_count": null,
   "metadata": {},
   "outputs": [],
   "source": []
  },
  {
   "cell_type": "code",
   "execution_count": null,
   "metadata": {},
   "outputs": [],
   "source": []
  },
  {
   "cell_type": "code",
   "execution_count": null,
   "metadata": {},
   "outputs": [],
   "source": []
  },
  {
   "cell_type": "code",
   "execution_count": null,
   "metadata": {},
   "outputs": [],
   "source": []
  },
  {
   "cell_type": "code",
   "execution_count": null,
   "metadata": {},
   "outputs": [],
   "source": []
  },
  {
   "cell_type": "code",
   "execution_count": null,
   "metadata": {},
   "outputs": [],
   "source": []
  },
  {
   "cell_type": "code",
   "execution_count": 288,
   "metadata": {},
   "outputs": [
    {
     "data": {
      "text/plain": [
       "array([[      1,       4,      16,      64],\n",
       "       [    256,    1024,    4096,   16384],\n",
       "       [  65536,  262144, 1048576, 4194304]])"
      ]
     },
     "execution_count": 288,
     "metadata": {},
     "output_type": "execute_result"
    }
   ],
   "source": [
    "QP = 2**Q\n",
    "QP"
   ]
  },
  {
   "cell_type": "code",
   "execution_count": 289,
   "metadata": {},
   "outputs": [
    {
     "data": {
      "text/plain": [
       "4194304"
      ]
     },
     "execution_count": 289,
     "metadata": {},
     "output_type": "execute_result"
    }
   ],
   "source": [
    "QP[2,3]"
   ]
  },
  {
   "cell_type": "markdown",
   "metadata": {
    "colab_type": "text",
    "id": "ZeRZujnW0FKq"
   },
   "source": [
    "## More broadcasting\n",
    "\n",
    "A more complicated case is when we have two arrays of different shape, one `s` of shape 2x3 and the other\n",
    "`t`, a 1D array of length 3.\n",
    "\n",
    "$$\n",
    "s = \n",
    "\\left \\lbrack\n",
    "\\begin{array}{ccc}\n",
    "0 & 1  & 2\\\\\n",
    "3 & 4 & 5\n",
    "\\end{array}\\right \\rbrack\\\\\n",
    "t = \n",
    "\\left \\lbrack\n",
    "\\begin{array}[t]{ccc}\n",
    "0 & 1& 2\\\\\n",
    "\\end{array}\\right \\rbrack\\\\\n",
    "$$\n",
    "\n",
    "and we broadcast `t` to be  2x3 to match `s`.\n",
    "\n",
    "\n",
    "$$\n",
    "\\left \\lbrack\n",
    "\\begin{array}[t]{ccc}\n",
    "0 & 1& 2\\\\\n",
    "\\end{array}\\right \\rbrack\n",
    "\\Rightarrow\n",
    "\\left \\lbrack\n",
    "\\begin{array}{cccc}\n",
    "0 & 1& 2\\\\\n",
    "0& 1 & 2\n",
    "\\end{array}\n",
    "\\right \\rbrack\n",
    "$$\n",
    "\n",
    "Then we do elementwise arithmetic to compute $s * t$."
   ]
  },
  {
   "cell_type": "code",
   "execution_count": 15,
   "metadata": {
    "scrolled": true
   },
   "outputs": [
    {
     "name": "stdout",
     "output_type": "stream",
     "text": [
      "s\n",
      " [[0 1 2]\n",
      " [3 4 5]]\n",
      "\n",
      "t\n",
      " [0 1 2]\n",
      "\n",
      "u = s * t\n",
      " [[ 0  1  4]\n",
      " [ 0  4 10]]\n"
     ]
    }
   ],
   "source": [
    "s = np.arange(6).reshape((2,3))\n",
    "t = np.arange(3)\n",
    "print(\"s\\n\",s)\n",
    "print()\n",
    "print(\"t\\n\",t)\n",
    "print()\n",
    "u = s * t\n",
    "print(\"u = s * t\\n\",u)"
   ]
  },
  {
   "cell_type": "markdown",
   "metadata": {},
   "source": [
    "The result is a new array $u$ whose $i$th column is the result of multiplying the $i$th colum of $s$ ($s[:,i]$)\n",
    "by the $i$th element of $t$."
   ]
  },
  {
   "cell_type": "markdown",
   "metadata": {
    "colab_type": "text",
    "id": "tcoK8vjA0FKt"
   },
   "source": [
    "Of course, you can't always rely on broadcasting to figure out what to do with all mismatched array sizes. In general, multiplying arrays of different sizes together will fail with a `ValueError` that announcing that broadcasting failed:"
   ]
  },
  {
   "cell_type": "code",
   "execution_count": 63,
   "metadata": {
    "colab": {},
    "colab_type": "code",
    "id": "fVQLV0vo0FKt"
   },
   "outputs": [
    {
     "name": "stdout",
     "output_type": "stream",
     "text": [
      "a (10, ) [  0   1   8  27  64 125 216 343 512 729]\n",
      "c (5 , ) [3 2 1 5 4]\n"
     ]
    },
    {
     "ename": "ValueError",
     "evalue": "operands could not be broadcast together with shapes (10,) (5,) ",
     "output_type": "error",
     "traceback": [
      "\u001b[0;31m---------------------------------------------------------------------------\u001b[0m",
      "\u001b[0;31mValueError\u001b[0m                                Traceback (most recent call last)",
      "Cell \u001b[0;32mIn[63], line 4\u001b[0m\n\u001b[1;32m      2\u001b[0m \u001b[38;5;28mprint\u001b[39m(\u001b[38;5;124mf\u001b[39m\u001b[38;5;124m'\u001b[39m\u001b[38;5;124ma (\u001b[39m\u001b[38;5;132;01m{\u001b[39;00ma\u001b[38;5;241m.\u001b[39mshape[\u001b[38;5;241m0\u001b[39m]\u001b[38;5;132;01m:\u001b[39;00m\u001b[38;5;124m<2\u001b[39m\u001b[38;5;132;01m}\u001b[39;00m\u001b[38;5;124m, ) \u001b[39m\u001b[38;5;132;01m{\u001b[39;00ma\u001b[38;5;132;01m}\u001b[39;00m\u001b[38;5;124m'\u001b[39m)\n\u001b[1;32m      3\u001b[0m \u001b[38;5;28mprint\u001b[39m(\u001b[38;5;124mf\u001b[39m\u001b[38;5;124m'\u001b[39m\u001b[38;5;124mc (\u001b[39m\u001b[38;5;132;01m{\u001b[39;00mc\u001b[38;5;241m.\u001b[39mshape[\u001b[38;5;241m0\u001b[39m]\u001b[38;5;132;01m:\u001b[39;00m\u001b[38;5;124m<2\u001b[39m\u001b[38;5;132;01m}\u001b[39;00m\u001b[38;5;124m, ) \u001b[39m\u001b[38;5;132;01m{\u001b[39;00mc\u001b[38;5;132;01m}\u001b[39;00m\u001b[38;5;124m'\u001b[39m)\n\u001b[0;32m----> 4\u001b[0m \u001b[43ma\u001b[49m\u001b[43m \u001b[49m\u001b[38;5;241;43m*\u001b[39;49m\u001b[43m \u001b[49m\u001b[43mc\u001b[49m\n",
      "\u001b[0;31mValueError\u001b[0m: operands could not be broadcast together with shapes (10,) (5,) "
     ]
    }
   ],
   "source": [
    "c = np.array([3,2,1,5,4])\n",
    "print(f'a ({a.shape[0]:<2}, ) {a}')\n",
    "print(f'c ({c.shape[0]:<2}, ) {c}')\n",
    "a * c"
   ]
  },
  {
   "cell_type": "markdown",
   "metadata": {},
   "source": [
    "**Exercise**\n",
    "\n",
    "Look at the array `Q` defined in the next cell.\n",
    "\n",
    "Create a new array that is just like `Q` except that the values in `Q`'s first column are multiplied\n",
    "by 2, the values in `Q`'s second column are multiplied by 4,\n",
    "the values in `Q`'s third column are multiplied by 8,\n",
    "and the values in `Q's` 4th columns are multiplied by 16"
   ]
  },
  {
   "cell_type": "code",
   "execution_count": 339,
   "metadata": {},
   "outputs": [
    {
     "data": {
      "text/plain": [
       "array([[ 0,  2,  4,  6],\n",
       "       [ 8, 10, 12, 14],\n",
       "       [16, 18, 20, 22]])"
      ]
     },
     "execution_count": 339,
     "metadata": {},
     "output_type": "execute_result"
    }
   ],
   "source": [
    "Q = np.arange(0,24,2).reshape((3,4))\n",
    "Q"
   ]
  },
  {
   "cell_type": "code",
   "execution_count": null,
   "metadata": {},
   "outputs": [],
   "source": []
  },
  {
   "cell_type": "code",
   "execution_count": null,
   "metadata": {},
   "outputs": [],
   "source": []
  },
  {
   "cell_type": "code",
   "execution_count": null,
   "metadata": {},
   "outputs": [],
   "source": []
  },
  {
   "cell_type": "code",
   "execution_count": null,
   "metadata": {},
   "outputs": [],
   "source": []
  },
  {
   "cell_type": "code",
   "execution_count": 21,
   "metadata": {},
   "outputs": [
    {
     "name": "stdout",
     "output_type": "stream",
     "text": [
      "[[ 0  2  4  6]\n",
      " [ 8 10 12 14]\n",
      " [16 18 20 22]]\n",
      "\n",
      "[[  0   8  32  96]\n",
      " [ 16  40  96 224]\n",
      " [ 32  72 160 352]]\n"
     ]
    }
   ],
   "source": [
    "#Answer 1\n",
    "print(Q)\n",
    "print()\n",
    "print(Q * np.array([2,4,8,16]))"
   ]
  },
  {
   "cell_type": "code",
   "execution_count": 22,
   "metadata": {},
   "outputs": [
    {
     "name": "stdout",
     "output_type": "stream",
     "text": [
      "[[ 0  2  4  6]\n",
      " [ 8 10 12 14]\n",
      " [16 18 20 22]]\n",
      "\n",
      "[ 2  4  8 16]\n",
      "\n",
      "[[  0   8  32  96]\n",
      " [ 16  40  96 224]\n",
      " [ 32  72 160 352]]\n"
     ]
    }
   ],
   "source": [
    "# Answer 2\n",
    "print(Q)\n",
    "print()\n",
    "powers = 2**np.arange(1,5)\n",
    "print(powers)\n",
    "print()\n",
    "print(Q * powers)"
   ]
  },
  {
   "cell_type": "markdown",
   "metadata": {},
   "source": [
    "Exercise.  Produce a 2-column array whose first column contains the result of adding the first two columns of `X` (defined above)  and whose second column contains the\n",
    "result of adding the last two columns of `X`.\n",
    "\n",
    "In others words, sinc e `X` is\n",
    "\n",
    "```\n",
    "[[ 10  20  30  40]\n",
    " [ 50  60  70  80]\n",
    " [ 90 100 110 120]]\n",
    "```\n",
    "\n",
    "the result we want is:\n",
    "\n",
    "```\n",
    "array([[ 30,  70],\n",
    "       [110, 150],\n",
    "       [190, 230]])\n",
    "```\n",
    "\n",
    "Hint:  this can be done in a single step  with by adding two distinct slices of `X`.   Th slices will\n",
    "will involve using a step-size otehr than one. "
   ]
  },
  {
   "cell_type": "markdown",
   "metadata": {},
   "source": [
    "Reviewing step-slicing on a different exampl:"
   ]
  },
  {
   "cell_type": "code",
   "execution_count": 17,
   "metadata": {},
   "outputs": [
    {
     "data": {
      "text/plain": [
       "array([[ 0,  2,  4,  6],\n",
       "       [ 8, 10, 12, 14],\n",
       "       [16, 18, 20, 22]])"
      ]
     },
     "execution_count": 17,
     "metadata": {},
     "output_type": "execute_result"
    }
   ],
   "source": [
    "Q"
   ]
  },
  {
   "cell_type": "code",
   "execution_count": 19,
   "metadata": {},
   "outputs": [
    {
     "data": {
      "text/plain": [
       "array([[ 0,  4],\n",
       "       [ 8, 12],\n",
       "       [16, 20]])"
      ]
     },
     "execution_count": 19,
     "metadata": {},
     "output_type": "execute_result"
    }
   ],
   "source": [
    "Q[:,::2]"
   ]
  },
  {
   "cell_type": "code",
   "execution_count": 20,
   "metadata": {},
   "outputs": [
    {
     "data": {
      "text/plain": [
       "array([[ 2,  6],\n",
       "       [10, 14],\n",
       "       [18, 22]])"
      ]
     },
     "execution_count": 20,
     "metadata": {},
     "output_type": "execute_result"
    }
   ],
   "source": [
    "Q[:,1::2]"
   ]
  },
  {
   "cell_type": "code",
   "execution_count": null,
   "metadata": {},
   "outputs": [],
   "source": []
  },
  {
   "cell_type": "code",
   "execution_count": null,
   "metadata": {},
   "outputs": [],
   "source": []
  },
  {
   "cell_type": "code",
   "execution_count": null,
   "metadata": {},
   "outputs": [],
   "source": []
  },
  {
   "cell_type": "code",
   "execution_count": null,
   "metadata": {},
   "outputs": [],
   "source": []
  },
  {
   "cell_type": "code",
   "execution_count": null,
   "metadata": {},
   "outputs": [],
   "source": []
  },
  {
   "cell_type": "code",
   "execution_count": null,
   "metadata": {},
   "outputs": [],
   "source": []
  },
  {
   "cell_type": "code",
   "execution_count": null,
   "metadata": {},
   "outputs": [],
   "source": []
  },
  {
   "cell_type": "code",
   "execution_count": null,
   "metadata": {},
   "outputs": [],
   "source": []
  },
  {
   "cell_type": "code",
   "execution_count": 23,
   "metadata": {},
   "outputs": [
    {
     "name": "stdout",
     "output_type": "stream",
     "text": [
      "[[ 10  20  30  40]\n",
      " [ 50  60  70  80]\n",
      " [ 90 100 110 120]]\n",
      "[[ 10  30]\n",
      " [ 50  70]\n",
      " [ 90 110]]\n",
      "[[ 20  40]\n",
      " [ 60  80]\n",
      " [100 120]]\n",
      "\n"
     ]
    },
    {
     "data": {
      "text/plain": [
       "array([[ 30,  70],\n",
       "       [110, 150],\n",
       "       [190, 230]])"
      ]
     },
     "execution_count": 23,
     "metadata": {},
     "output_type": "execute_result"
    }
   ],
   "source": [
    "print(X)\n",
    "print(X[:,::2])\n",
    "print(X[:,1::2])\n",
    "print()\n",
    "X[:,::2] + X[:,1::2]"
   ]
  },
  {
   "cell_type": "markdown",
   "metadata": {},
   "source": [
    "The next example illustrates an idea closely related to elementwise arithmetic, the idea of a **universal function**\n",
    "(or **ufunc**).\n",
    "\n",
    "This term refers to a function that is fundamentally numerical\n",
    "but which can be applied to an array of numbers; the application of the function to an array\n",
    "is interpreted as elementwise application of the function.  For example,  where $M$ is a 2D array,\n",
    "\n",
    "$$\n",
    "\\sin(\\text{M})\n",
    "$$\n",
    "\n",
    "denotes a 2D array such that\n",
    "\n",
    "$$\n",
    "\\sin(\\text{M})[i,j] = \\sin(M[i,j]).\n",
    "$$"
   ]
  },
  {
   "cell_type": "code",
   "execution_count": 21,
   "metadata": {},
   "outputs": [
    {
     "name": "stdout",
     "output_type": "stream",
     "text": [
      "8.66025404e-01\n"
     ]
    }
   ],
   "source": [
    "# For next problem\n",
    "#SQUARE ROOT OF 3 DIVIDED BY 2\n",
    "print(f\"{(3**.5)/2:.8e}\")"
   ]
  },
  {
   "cell_type": "markdown",
   "metadata": {},
   "source": [
    "We take the sin of an array consisting of 0, $\\pi / 3$, $2\\pi / 3$, and $\\pi$.\n",
    "\n",
    "The takeaway here is that we get the result of applying `np.sin` to each\n",
    "of the numbers in the array.\n",
    "\n",
    "That should be an array containing $0, \\sqrt{3}/2, \\sqrt{3}/2,$ and $0$.  \n",
    "\n",
    "And it is, given that we're computing with a computer.\n",
    "\n",
    "Note that the last value in the result is just a very a tiny\n",
    "float (order $10^{-16}$)."
   ]
  },
  {
   "cell_type": "code",
   "execution_count": 16,
   "metadata": {},
   "outputs": [
    {
     "name": "stdout",
     "output_type": "stream",
     "text": [
      "a\n",
      " [0.         1.04719755 2.0943951  3.14159265]\n",
      "sin(a)\n",
      " [0.00000000e+00 8.66025404e-01 8.66025404e-01 1.22464680e-16]\n"
     ]
    }
   ],
   "source": [
    "a = np.arange(0,(4/3)*np.pi,np.pi/3)\n",
    "print(\"a\\n\",a)\n",
    "print(\"sin(a)\\n\",np.sin(a))"
   ]
  },
  {
   "cell_type": "markdown",
   "metadata": {},
   "source": [
    "On this case we say the function is ***vectorized***, that is generalized from\n",
    "a function that applies to numbers to a function that applies to\n",
    "***vectors of numbers*** (in fact, any array of numbers, 1D, 2D, and beyond).\n",
    "\n",
    "Ass noted above, such functions are also called **Ufunc**s (or universal functions) in numpy."
   ]
  },
  {
   "cell_type": "markdown",
   "metadata": {
    "colab_type": "text",
    "id": "2Y7uBAAr0FKr"
   },
   "source": [
    "The next example combines the idea of scalar multiplication of arrays with a universal function\n",
    "We apply two operations to `a`: first `sin`, then multiplication by 10."
   ]
  },
  {
   "cell_type": "code",
   "execution_count": 132,
   "metadata": {
    "colab": {},
    "colab_type": "code",
    "id": "MvI7DgIS0FKw"
   },
   "outputs": [
    {
     "data": {
      "text/plain": [
       "array([0.00000000e+00, 8.66025404e+00, 8.66025404e+00, 1.22464680e-15])"
      ]
     },
     "execution_count": 132,
     "metadata": {},
     "output_type": "execute_result"
    }
   ],
   "source": [
    "10*np.sin(a)"
   ]
  },
  {
   "cell_type": "markdown",
   "metadata": {},
   "source": [
    "## Elementwise Boolean tests"
   ]
  },
  {
   "cell_type": "markdown",
   "metadata": {
    "colab_type": "text",
    "id": "tQ9oyiTS0FKx"
   },
   "source": [
    "One extremely important application of the idea of  a vectorized operation is Boolean conditions or tests.\n",
    "\n",
    "In `numpy`, all Boolean conditions are vectorized.  Applying a Boolean condition to an array results\n",
    "in an array of Booleans, computed by applying the condition to each of the elements of the array."
   ]
  },
  {
   "cell_type": "code",
   "execution_count": 22,
   "metadata": {
    "colab": {
     "base_uri": "https://localhost:8080/",
     "height": 85
    },
    "colab_type": "code",
    "id": "vOOOfJM50FKy",
    "outputId": "ac6cf9a5-7723-41bc-9cd0-b52872278d72",
    "scrolled": true
   },
   "outputs": [
    {
     "name": "stdout",
     "output_type": "stream",
     "text": [
      "[ 0 10 20 30 40]\n",
      "[ True  True  True  True False]\n"
     ]
    }
   ],
   "source": [
    "a = np.arange(0,50,10)\n",
    "print(a)\n",
    "Y = a < 35\n",
    "print(Y)"
   ]
  },
  {
   "cell_type": "markdown",
   "metadata": {},
   "source": [
    "The usefulness of Boolean arrays is that a Boolean array  can be used to index\n",
    "an array of the same shape.  The value of such an expression is the array\n",
    "of elements for which the Boolean array is True:"
   ]
  },
  {
   "cell_type": "code",
   "execution_count": 71,
   "metadata": {
    "colab": {},
    "colab_type": "code",
    "id": "8upSUR_g0FKz"
   },
   "outputs": [
    {
     "data": {
      "text/plain": [
       "array([ 0, 10, 20, 30])"
      ]
     },
     "execution_count": 71,
     "metadata": {},
     "output_type": "execute_result"
    }
   ],
   "source": [
    "# All the elements of a that are less than 35\n",
    "a[Y]"
   ]
  },
  {
   "cell_type": "markdown",
   "metadata": {},
   "source": [
    "Note the shape of `a[Y]` differs from the shape of `a`; in general the number of elements returned when\n",
    "indexing an array `a` with a Boolean condition is determined by the number\n",
    "of elements of `a`  satisfying the condition."
   ]
  },
  {
   "cell_type": "markdown",
   "metadata": {},
   "source": [
    "A shorter version of what we just did:"
   ]
  },
  {
   "cell_type": "code",
   "execution_count": 72,
   "metadata": {},
   "outputs": [
    {
     "data": {
      "text/plain": [
       "array([ 0, 10, 20, 30])"
      ]
     },
     "execution_count": 72,
     "metadata": {},
     "output_type": "execute_result"
    }
   ],
   "source": [
    "a[a < 35]"
   ]
  },
  {
   "cell_type": "markdown",
   "metadata": {},
   "source": [
    "This is the idiomatic way of saying:  The members of `a` less than 35.\n",
    "\n",
    "Applying a Boolean array to select members of another array is called **Boolean masking** or **Boolean indexing**.\n",
    "It is called Boolean masking the Boolean array masks over the undesired values\n",
    "and lets through only those matched by a `True`. It is called Boolean indexing because the Boolean array\n",
    "serves much the same purpose as a sequence of indexes picking out multiple values (see\n",
    "**fancy indexing** below)."
   ]
  },
  {
   "cell_type": "markdown",
   "metadata": {},
   "source": [
    "Another kind of Boolean test is `==`. \n",
    "\n",
    "Consider"
   ]
  },
  {
   "cell_type": "code",
   "execution_count": 3,
   "metadata": {
    "colab": {},
    "colab_type": "code",
    "id": "FoyYZZe_0FK1",
    "scrolled": true
   },
   "outputs": [
    {
     "name": "stdout",
     "output_type": "stream",
     "text": [
      "[ 0 20 20 30 40]\n",
      "[-20   0  20  40  40]\n",
      "[False False  True False  True]\n"
     ]
    }
   ],
   "source": [
    "import numpy as np\n",
    "a = np.arange(0,50,10)\n",
    "a[1] = 20\n",
    "print(a)\n",
    "b =  np.arange(-20,80,20)\n",
    "b[-1] = 40\n",
    "print(b)\n",
    "print(a == b)"
   ]
  },
  {
   "cell_type": "markdown",
   "metadata": {},
   "source": [
    "Boolean tests on arrays will raise an error if applied in a context that requires a single\n",
    "ambiguous Boolean result:"
   ]
  },
  {
   "cell_type": "code",
   "execution_count": 4,
   "metadata": {
    "colab": {},
    "colab_type": "code",
    "id": "RJZi7jCH0FK2",
    "scrolled": false
   },
   "outputs": [
    {
     "name": "stdout",
     "output_type": "stream",
     "text": [
      "[ 0 10 20 30 40]\n",
      "[-20   0  20  40  60]\n"
     ]
    },
    {
     "ename": "ValueError",
     "evalue": "The truth value of an array with more than one element is ambiguous. Use a.any() or a.all()",
     "output_type": "error",
     "traceback": [
      "\u001b[0;31m---------------------------------------------------------------------------\u001b[0m",
      "\u001b[0;31mValueError\u001b[0m                                Traceback (most recent call last)",
      "\u001b[0;32m/var/folders/w9/bx4mylnd27g_kqqgn5hrn2x40000gr/T/ipykernel_59967/1813055576.py\u001b[0m in \u001b[0;36m<module>\u001b[0;34m\u001b[0m\n\u001b[1;32m      3\u001b[0m \u001b[0mb\u001b[0m \u001b[0;34m=\u001b[0m  \u001b[0mnp\u001b[0m\u001b[0;34m.\u001b[0m\u001b[0marange\u001b[0m\u001b[0;34m(\u001b[0m\u001b[0;34m-\u001b[0m\u001b[0;36m20\u001b[0m\u001b[0;34m,\u001b[0m\u001b[0;36m80\u001b[0m\u001b[0;34m,\u001b[0m\u001b[0;36m20\u001b[0m\u001b[0;34m)\u001b[0m\u001b[0;34m\u001b[0m\u001b[0;34m\u001b[0m\u001b[0m\n\u001b[1;32m      4\u001b[0m \u001b[0mprint\u001b[0m\u001b[0;34m(\u001b[0m\u001b[0mb\u001b[0m\u001b[0;34m)\u001b[0m\u001b[0;34m\u001b[0m\u001b[0;34m\u001b[0m\u001b[0m\n\u001b[0;32m----> 5\u001b[0;31m \u001b[0;32mif\u001b[0m \u001b[0ma\u001b[0m \u001b[0;34m==\u001b[0m \u001b[0mb\u001b[0m\u001b[0;34m:\u001b[0m\u001b[0;34m\u001b[0m\u001b[0;34m\u001b[0m\u001b[0m\n\u001b[0m\u001b[1;32m      6\u001b[0m     \u001b[0mprint\u001b[0m\u001b[0;34m(\u001b[0m\u001b[0;34m\"Hi!\"\u001b[0m\u001b[0;34m)\u001b[0m\u001b[0;34m\u001b[0m\u001b[0;34m\u001b[0m\u001b[0m\n",
      "\u001b[0;31mValueError\u001b[0m: The truth value of an array with more than one element is ambiguous. Use a.any() or a.all()"
     ]
    }
   ],
   "source": [
    "a = np.arange(0,50,10)\n",
    "print(a)\n",
    "b =  np.arange(-20,80,20)\n",
    "print(b)\n",
    "if a == b:\n",
    "    print(\"Hi!\")"
   ]
  },
  {
   "cell_type": "markdown",
   "metadata": {},
   "source": [
    "Of course the result of this Boolean test is not `True` or `False`."
   ]
  },
  {
   "cell_type": "code",
   "execution_count": 5,
   "metadata": {},
   "outputs": [
    {
     "data": {
      "text/plain": [
       "array([False, False,  True, False, False])"
      ]
     },
     "execution_count": 5,
     "metadata": {},
     "output_type": "execute_result"
    }
   ],
   "source": [
    "a==b"
   ]
  },
  {
   "cell_type": "markdown",
   "metadata": {
    "colab_type": "text",
    "id": "lC577dCK0FLV"
   },
   "source": [
    "This is what Python means by saying \"The truth value of an array with more than one element is ambiguous.\"  Generally it's a mixture of truths and falsities, like real life."
   ]
  },
  {
   "cell_type": "markdown",
   "metadata": {},
   "source": [
    "What can be used as a test  is to ask if any of the Boolean results is true, or if all of them are.\n",
    "\n",
    "For example:"
   ]
  },
  {
   "cell_type": "code",
   "execution_count": 6,
   "metadata": {},
   "outputs": [
    {
     "name": "stdout",
     "output_type": "stream",
     "text": [
      "Hi!\n"
     ]
    }
   ],
   "source": [
    "# Implementing one of the suggested fixes. Change (a == b).any() to (a == b).all()\n",
    "# For a different result.\n",
    "if (a == b).any():\n",
    "    print(\"Hi!\")"
   ]
  },
  {
   "cell_type": "markdown",
   "metadata": {},
   "source": [
    "`a.all()` requires all the Booleans be `True` and can also serve the purposes of converting a Boolean \n",
    "vector toa single truth-value."
   ]
  },
  {
   "cell_type": "code",
   "execution_count": 25,
   "metadata": {},
   "outputs": [
    {
     "data": {
      "text/plain": [
       "False"
      ]
     },
     "execution_count": 25,
     "metadata": {},
     "output_type": "execute_result"
    }
   ],
   "source": [
    "(a==b).all()"
   ]
  },
  {
   "cell_type": "markdown",
   "metadata": {},
   "source": [
    "One final point, since we will be combining Boolean arrays with Boolean operators later in this notebook.\n",
    "Boolean arrays cannot be combined with Python `and`.  Attemoting to do so\n",
    "raises the same error as using them as tests in conditionals, and for the same reason;\n",
    "Python `and` wants to return a single value; and Boolean arrays cannot be assigned a single Boolean\n",
    "value in an unambiguous way:"
   ]
  },
  {
   "cell_type": "code",
   "execution_count": 7,
   "metadata": {},
   "outputs": [
    {
     "ename": "ValueError",
     "evalue": "The truth value of an array with more than one element is ambiguous. Use a.any() or a.all()",
     "output_type": "error",
     "traceback": [
      "\u001b[0;31m---------------------------------------------------------------------------\u001b[0m",
      "\u001b[0;31mValueError\u001b[0m                                Traceback (most recent call last)",
      "\u001b[0;32m/var/folders/w9/bx4mylnd27g_kqqgn5hrn2x40000gr/T/ipykernel_59967/3074011133.py\u001b[0m in \u001b[0;36m<module>\u001b[0;34m\u001b[0m\n\u001b[0;32m----> 1\u001b[0;31m \u001b[0ma\u001b[0m \u001b[0;32mand\u001b[0m \u001b[0mb\u001b[0m\u001b[0;34m\u001b[0m\u001b[0;34m\u001b[0m\u001b[0m\n\u001b[0m",
      "\u001b[0;31mValueError\u001b[0m: The truth value of an array with more than one element is ambiguous. Use a.any() or a.all()"
     ]
    }
   ],
   "source": [
    "a and b"
   ]
  },
  {
   "cell_type": "markdown",
   "metadata": {
    "colab_type": "text",
    "id": "BMeNEOpf0FK7"
   },
   "source": [
    "## Elementwise Boolean operations, Masking"
   ]
  },
  {
   "cell_type": "markdown",
   "metadata": {
    "colab_type": "text",
    "id": "B98kV2Lo0FK8"
   },
   "source": [
    "Let's look more closely at using Boolean arrays as masks.\n",
    "\n",
    "Reviewing the principle:  Applying a Boolean test to an array returns an array of truth-values: Just as\n",
    "\n",
    "```\n",
    "3 + X\n",
    "```\n",
    "\n",
    "adds 3 to every element of array `X`, so\n",
    "\n",
    "```\n",
    "X > 2\n",
    "```\n",
    "\n",
    "returns an array of truth-values which tells us which elements of `X` are greater than 2."
   ]
  },
  {
   "cell_type": "code",
   "execution_count": 2,
   "metadata": {
    "colab": {},
    "colab_type": "code",
    "id": "ish4sNQZ0FK8"
   },
   "outputs": [
    {
     "name": "stdout",
     "output_type": "stream",
     "text": [
      "[ 1  5  2  7  9  4  3 -6]\n",
      "[False  True False  True  True  True  True False]\n"
     ]
    }
   ],
   "source": [
    "import numpy as np\n",
    "X = np.array([1,5,2,7,9,4,3,-6])\n",
    "print(X)\n",
    "print(X >= 3)"
   ]
  },
  {
   "cell_type": "markdown",
   "metadata": {
    "colab_type": "text",
    "id": "h4gyfdJ80FK9"
   },
   "source": [
    "As we saw above, Boolean arrays can be used to index other arrays.  They must be the same shape as the array\n",
    "they index.   So in the simplest case:"
   ]
  },
  {
   "cell_type": "code",
   "execution_count": 31,
   "metadata": {
    "colab": {},
    "colab_type": "code",
    "id": "Gz6aG0PN0FK9"
   },
   "outputs": [
    {
     "name": "stdout",
     "output_type": "stream",
     "text": [
      "[ 1  5  2  7  9  4  3 -6]\n",
      "[5 7 9 4 3]\n"
     ]
    }
   ],
   "source": [
    "print(X)\n",
    "print(X[np.array([False,  True, False,  True,  True,  True,  True, False])])"
   ]
  },
  {
   "cell_type": "markdown",
   "metadata": {
    "colab_type": "text",
    "id": "qlHK4zDv0FK_"
   },
   "source": [
    "But `X>=3` is a Boolean array is a Boolean array of exactly the right shape \n",
    "to index `X`.  Hence we can use it as a mask to produce an array consisting\n",
    "of exactly the members of `X` that are greater than or equal to 3."
   ]
  },
  {
   "cell_type": "code",
   "execution_count": 32,
   "metadata": {
    "colab": {},
    "colab_type": "code",
    "id": "yjBtsxX70FLA"
   },
   "outputs": [
    {
     "name": "stdout",
     "output_type": "stream",
     "text": [
      "[ 1  5  2  7  9  4  3 -6]\n",
      "[False  True False  True  True  True  True False]\n",
      "[5 7 9 4 3]\n"
     ]
    }
   ],
   "source": [
    "print(X)\n",
    "print(X>=3)\n",
    "print(X[X>=3])"
   ]
  },
  {
   "cell_type": "markdown",
   "metadata": {
    "colab_type": "text",
    "id": "BXS2kZy50FLB"
   },
   "source": [
    "We can achieve the same result with a list comprehension, but the array computation above is much faster:"
   ]
  },
  {
   "cell_type": "code",
   "execution_count": 33,
   "metadata": {
    "colab": {},
    "colab_type": "code",
    "id": "EVnI88mV0FLB",
    "scrolled": true
   },
   "outputs": [
    {
     "data": {
      "text/plain": [
       "array([5, 7, 9, 4, 3])"
      ]
     },
     "execution_count": 33,
     "metadata": {},
     "output_type": "execute_result"
    }
   ],
   "source": [
    "np.array([x for x in X if x >= 3])"
   ]
  },
  {
   "cell_type": "markdown",
   "metadata": {
    "colab_type": "text",
    "id": "wHrkYX8n0FLC"
   },
   "source": [
    "Boolean arrays can also be used to **count** the number of elements in an array that satisfy some constraint. Although `len` works on arrays and could be used, `sum` is faster.  The Boolean `True` is treated as 1 and the Boolean `False` as 0, so summing a Boolean array counts\n",
    "the number of occurences of `True`.  \n",
    "\n",
    "Therefore following expression, labeled\n",
    "\"Solution A\", correctly counts the number of elements in `X` that are greater than or equal to 3."
   ]
  },
  {
   "cell_type": "code",
   "execution_count": 93,
   "metadata": {
    "colab": {
     "base_uri": "https://localhost:8080/",
     "height": 34
    },
    "colab_type": "code",
    "id": "-OtAjfVt0FLD",
    "outputId": "e61f08a5-222a-42b2-8c23-60bc29bb0950"
   },
   "outputs": [
    {
     "name": "stdout",
     "output_type": "stream",
     "text": [
      "Solution A\n"
     ]
    },
    {
     "data": {
      "text/plain": [
       "5"
      ]
     },
     "execution_count": 93,
     "metadata": {},
     "output_type": "execute_result"
    }
   ],
   "source": [
    "print(\"Solution A\")\n",
    "(X>=3).sum()"
   ]
  },
  {
   "cell_type": "markdown",
   "metadata": {},
   "source": [
    "Notice that Solution A does not have `X[X>=3]` as part of it;  on the other hand, Solution B, which follows,\n",
    "does."
   ]
  },
  {
   "cell_type": "code",
   "execution_count": 94,
   "metadata": {},
   "outputs": [
    {
     "name": "stdout",
     "output_type": "stream",
     "text": [
      "Solution B\n"
     ]
    },
    {
     "data": {
      "text/plain": [
       "5"
      ]
     },
     "execution_count": 94,
     "metadata": {},
     "output_type": "execute_result"
    }
   ],
   "source": [
    "print(\"Solution B\")\n",
    "len(X[(X>=3)])"
   ]
  },
  {
   "cell_type": "markdown",
   "metadata": {},
   "source": [
    "Solution B computes the list of elements greater than 3, then measures its length.  Solution A computes a list\n",
    "Booleans, never collects the actual list of numbers,  then adds Booleans."
   ]
  },
  {
   "cell_type": "markdown",
   "metadata": {},
   "source": [
    "So far we have\n",
    "Boolean constraints can also be used to index along one dimension at a time.\n",
    "\n",
    "In the next cell, we use Boolean constraints on the just the row dimension to\n",
    "pick out the first, third, and fourth rows of array `U`.  In this case, since `U`\n",
    "is 5x6, the Boolean array must have size 5."
   ]
  },
  {
   "cell_type": "code",
   "execution_count": 108,
   "metadata": {},
   "outputs": [
    {
     "name": "stdout",
     "output_type": "stream",
     "text": [
      "[[  0  10  20  30  40  50]\n",
      " [ 60  70  80  90 100 110]\n",
      " [120 130 140 150 160 170]\n",
      " [180 190 200 210 220 230]\n",
      " [240 250 260 270 280 290]]\n"
     ]
    },
    {
     "data": {
      "text/plain": [
       "array([[  0,  10,  20,  30,  40,  50],\n",
       "       [120, 130, 140, 150, 160, 170],\n",
       "       [180, 190, 200, 210, 220, 230]])"
      ]
     },
     "execution_count": 108,
     "metadata": {},
     "output_type": "execute_result"
    }
   ],
   "source": [
    "U = np.arange(0,300,10).reshape((5,6))\n",
    "\n",
    "print(U)\n",
    "U[[True,False,True,True,False],:]"
   ]
  },
  {
   "cell_type": "markdown",
   "metadata": {
    "colab_type": "text",
    "id": "fVOVKKu00FLN"
   },
   "source": [
    "**Exercise**\n",
    "\n",
    "In the cell below we define `X`, a 2x4 array.\n",
    "Use a Boolean mask to return \n",
    "first, second and fourth columns of `X`. "
   ]
  },
  {
   "cell_type": "code",
   "execution_count": 26,
   "metadata": {},
   "outputs": [
    {
     "name": "stdout",
     "output_type": "stream",
     "text": [
      "[[11  2 13 17]\n",
      " [14 18 10  8]]\n"
     ]
    }
   ],
   "source": [
    "import random\n",
    "\n",
    "def select_S (S,R):\n",
    "    \"\"\"\n",
    "    Select S random ints from the given by R\n",
    "    \"\"\"\n",
    "    return np.array([random.randrange(0,R) for i in range(S)])\n",
    "\n",
    "seed=47\n",
    "random.seed(seed)\n",
    "X = select_S(8,20).reshape((2,4)) \n",
    "\n",
    "print(X)"
   ]
  },
  {
   "cell_type": "code",
   "execution_count": null,
   "metadata": {},
   "outputs": [],
   "source": []
  },
  {
   "cell_type": "code",
   "execution_count": null,
   "metadata": {},
   "outputs": [],
   "source": []
  },
  {
   "cell_type": "code",
   "execution_count": null,
   "metadata": {},
   "outputs": [],
   "source": []
  },
  {
   "cell_type": "code",
   "execution_count": null,
   "metadata": {},
   "outputs": [],
   "source": []
  },
  {
   "cell_type": "code",
   "execution_count": null,
   "metadata": {},
   "outputs": [],
   "source": []
  },
  {
   "cell_type": "code",
   "execution_count": null,
   "metadata": {},
   "outputs": [],
   "source": []
  },
  {
   "cell_type": "code",
   "execution_count": null,
   "metadata": {},
   "outputs": [],
   "source": []
  },
  {
   "cell_type": "code",
   "execution_count": null,
   "metadata": {},
   "outputs": [],
   "source": []
  },
  {
   "cell_type": "code",
   "execution_count": null,
   "metadata": {},
   "outputs": [],
   "source": []
  },
  {
   "cell_type": "code",
   "execution_count": null,
   "metadata": {},
   "outputs": [],
   "source": []
  },
  {
   "cell_type": "code",
   "execution_count": 25,
   "metadata": {},
   "outputs": [
    {
     "data": {
      "text/plain": [
       "array([[11,  2, 17],\n",
       "       [14, 18,  8]])"
      ]
     },
     "execution_count": 25,
     "metadata": {},
     "output_type": "execute_result"
    }
   ],
   "source": [
    "X[:,[True,True,False,True]]"
   ]
  },
  {
   "cell_type": "markdown",
   "metadata": {
    "colab_type": "text",
    "id": "ZgJr86Hg0FLX"
   },
   "source": [
    "## Data in the form of arrays"
   ]
  },
  {
   "cell_type": "markdown",
   "metadata": {
    "colab_type": "text",
    "id": "UJyuhe0J0FLX"
   },
   "source": [
    "Many python modules that provide data do so in array form.  As an example,\n",
    "we load the famous **iris data set** due to Ronald Fisher, familiar to many who've had a statistics class, but also to many who've a computer science or machine learning class in which data analysis plays a role."
   ]
  },
  {
   "cell_type": "code",
   "execution_count": 2,
   "metadata": {
    "colab": {},
    "colab_type": "code",
    "id": "dTP0PiYN0FLX"
   },
   "outputs": [],
   "source": [
    "from sklearn.datasets import load_iris\n",
    "data = load_iris()\n",
    "features = data['data']\n",
    "target = data['target']"
   ]
  },
  {
   "cell_type": "markdown",
   "metadata": {
    "colab_type": "text",
    "id": "vU0h1yDg0FLY"
   },
   "source": [
    "The name `data` has been set to a dictionary."
   ]
  },
  {
   "cell_type": "code",
   "execution_count": 18,
   "metadata": {
    "colab": {
     "base_uri": "https://localhost:8080/",
     "height": 34
    },
    "colab_type": "code",
    "id": "yqdQgVvP0FLY",
    "outputId": "b4f92885-b0a2-45b3-926d-23ff0ae317f1"
   },
   "outputs": [
    {
     "data": {
      "text/plain": [
       "['data',\n",
       " 'target',\n",
       " 'frame',\n",
       " 'target_names',\n",
       " 'DESCR',\n",
       " 'feature_names',\n",
       " 'filename',\n",
       " 'data_module']"
      ]
     },
     "execution_count": 18,
     "metadata": {},
     "output_type": "execute_result"
    }
   ],
   "source": [
    "list(data.keys())"
   ]
  },
  {
   "cell_type": "markdown",
   "metadata": {
    "colab_type": "text",
    "id": "kjyIEOMs0FLa"
   },
   "source": [
    "In the cell loading the data, the name `features` is given the value `data['data']`, which is a 2D `numpy` array\n",
    "containing only numbers."
   ]
  },
  {
   "cell_type": "code",
   "execution_count": 41,
   "metadata": {
    "colab": {
     "base_uri": "https://localhost:8080/",
     "height": 272
    },
    "colab_type": "code",
    "id": "DXvM4ZuD0FLa",
    "outputId": "ae0e20e0-1fe7-4fff-b738-588c9083a11c"
   },
   "outputs": [
    {
     "name": "stdout",
     "output_type": "stream",
     "text": [
      "(150, 4)\n",
      "2\n",
      "float64\n",
      "600\n",
      "<class 'numpy.ndarray'>\n",
      "[[5.1 3.5 1.4 0.2]\n",
      " [4.9 3.  1.4 0.2]\n",
      " [4.7 3.2 1.3 0.2]\n",
      " [4.6 3.1 1.5 0.2]\n",
      " [5.  3.6 1.4 0.2]\n",
      " [5.4 3.9 1.7 0.4]\n",
      " [4.6 3.4 1.4 0.3]\n",
      " [5.  3.4 1.5 0.2]\n",
      " [4.4 2.9 1.4 0.2]\n",
      " [4.9 3.1 1.5 0.1]]\n"
     ]
    }
   ],
   "source": [
    "print(features.shape)\n",
    "print(features.ndim)\n",
    "print(features.dtype.name)\n",
    "print(features.size)\n",
    "print(type(features))\n",
    "print(features[:10])"
   ]
  },
  {
   "cell_type": "markdown",
   "metadata": {
    "colab_type": "text",
    "id": "9Czezff60FLb"
   },
   "source": [
    "The last thing printed is the first 10 rows of `features`.  This array represents data\n",
    "about irises.  Each row represents a different iris and gives 4 measurements for that \n",
    "exemplar.  So there are 150 iris exemplars; with 4 measurements for each, that's 600 items of\n",
    "data in the array (`features.size`).  The data is used for classification studies,\n",
    "especially classification using multiple features to distinguish more than 2 classes.\n",
    "\n",
    "Let's apply what we've just learnt to pick a certain subset of the data. \n",
    "The first number\n",
    "in each row represents the **sepal length** of that particular iris exemplar (to be demonstrated below)."
   ]
  },
  {
   "cell_type": "markdown",
   "metadata": {
    "colab_type": "text",
    "id": "L67OhNuL0FLb"
   },
   "source": [
    "Find the flowers whose sepal length is exactly 5."
   ]
  },
  {
   "cell_type": "code",
   "execution_count": 111,
   "metadata": {
    "colab": {
     "base_uri": "https://localhost:8080/",
     "height": 238
    },
    "colab_type": "code",
    "id": "_8czCtB00FLb",
    "outputId": "9f80893c-17ae-4fd3-fb58-d7b8712c025f",
    "scrolled": true
   },
   "outputs": [
    {
     "name": "stdout",
     "output_type": "stream",
     "text": [
      "[False False False False  True False False  True False False False False\n",
      " False False False False False False False False False False False False\n",
      " False  True  True False False False False False False False False  True\n",
      " False False False False  True False False  True False False False False\n",
      " False  True False False False False False False False False False False\n",
      "  True False False False False False False False False False False False\n",
      " False False False False False False False False False False False False\n",
      " False False False False False False False False False  True False False\n",
      " False False False False False False False False False False False False\n",
      " False False False False False False False False False False False False\n",
      " False False False False False False False False False False False False\n",
      " False False False False False False False False False False False False\n",
      " False False False False False False]\n",
      "(150,)\n"
     ]
    }
   ],
   "source": [
    "# 1D array: first column\n",
    "first_col = features[:,0]\n",
    "print(first_col == 5.0)\n",
    "print((first_col == 5.0).shape)"
   ]
  },
  {
   "cell_type": "markdown",
   "metadata": {
    "colab_type": "text",
    "id": "_TQUFKTv0FLc"
   },
   "source": [
    "Note:  The Boolean array is a 1D array of length 150, one Boolean for each row in the data.  Any Boolean array of this size can be used to index the rows, combined with a `:` to indicate we want all columns."
   ]
  },
  {
   "cell_type": "code",
   "execution_count": null,
   "metadata": {
    "colab": {
     "base_uri": "https://localhost:8080/",
     "height": 187
    },
    "colab_type": "code",
    "id": "GnKHebDj0FLc",
    "outputId": "05395b95-7038-42bf-f65a-ff8bf48b55d9",
    "scrolled": false
   },
   "outputs": [
    {
     "data": {
      "text/plain": [
       "array([[5. , 3.6, 1.4, 0.2],\n",
       "       [5. , 3.4, 1.5, 0.2],\n",
       "       [5. , 3. , 1.6, 0.2],\n",
       "       [5. , 3.4, 1.6, 0.4],\n",
       "       [5. , 3.2, 1.2, 0.2],\n",
       "       [5. , 3.5, 1.3, 0.3],\n",
       "       [5. , 3.5, 1.6, 0.6],\n",
       "       [5. , 3.3, 1.4, 0.2],\n",
       "       [5. , 2. , 3.5, 1. ],\n",
       "       [5. , 2.3, 3.3, 1. ]])"
      ]
     },
     "execution_count": 96,
     "metadata": {
      "tags": []
     },
     "output_type": "execute_result"
    }
   ],
   "source": [
    "features[first_col == 5.0,:]"
   ]
  },
  {
   "cell_type": "markdown",
   "metadata": {
    "colab_type": "text",
    "id": "BEfS87Pw0FLd"
   },
   "source": [
    "So there are only 10 plants out of 150 that have sepal lengths of exactly 5.\n",
    "\n",
    "Of course we can do this all in one step, with the same result:"
   ]
  },
  {
   "cell_type": "code",
   "execution_count": null,
   "metadata": {
    "colab": {
     "base_uri": "https://localhost:8080/",
     "height": 187
    },
    "colab_type": "code",
    "id": "J1xpG91g0FLe",
    "outputId": "baa1a2e3-39ff-4684-ebea-30b04d846ab8"
   },
   "outputs": [
    {
     "data": {
      "text/plain": [
       "array([[5. , 3.6, 1.4, 0.2],\n",
       "       [5. , 3.4, 1.5, 0.2],\n",
       "       [5. , 3. , 1.6, 0.2],\n",
       "       [5. , 3.4, 1.6, 0.4],\n",
       "       [5. , 3.2, 1.2, 0.2],\n",
       "       [5. , 3.5, 1.3, 0.3],\n",
       "       [5. , 3.5, 1.6, 0.6],\n",
       "       [5. , 3.3, 1.4, 0.2],\n",
       "       [5. , 2. , 3.5, 1. ],\n",
       "       [5. , 2.3, 3.3, 1. ]])"
      ]
     },
     "execution_count": 97,
     "metadata": {
      "tags": []
     },
     "output_type": "execute_result"
    }
   ],
   "source": [
    "features[features[:,0] == 5.0,:]"
   ]
  },
  {
   "cell_type": "markdown",
   "metadata": {
    "colab_type": "text",
    "id": "qi7Ox5hR0FLf"
   },
   "source": [
    "Notice that what we've returned is a set of rows, and that's consistent with how we've used the Boolean\n",
    "mask `features[:,0] == 5.0`.  Despite that, the mask defines a condition on columns: the value in the first column\n",
    "must be `5,0`.  So we're asking for the rows such that their value in the first column is 5.0.\n",
    "\n",
    "Since we're indexing rows here, the `:` can also be left out:"
   ]
  },
  {
   "cell_type": "code",
   "execution_count": null,
   "metadata": {
    "colab": {
     "base_uri": "https://localhost:8080/",
     "height": 187
    },
    "colab_type": "code",
    "id": "KyGOFSk70FLf",
    "outputId": "9488af0f-4625-46d6-9668-75b5c0b229d0",
    "scrolled": true
   },
   "outputs": [
    {
     "data": {
      "text/plain": [
       "array([[5. , 3.6, 1.4, 0.2],\n",
       "       [5. , 3.4, 1.5, 0.2],\n",
       "       [5. , 3. , 1.6, 0.2],\n",
       "       [5. , 3.4, 1.6, 0.4],\n",
       "       [5. , 3.2, 1.2, 0.2],\n",
       "       [5. , 3.5, 1.3, 0.3],\n",
       "       [5. , 3.5, 1.6, 0.6],\n",
       "       [5. , 3.3, 1.4, 0.2],\n",
       "       [5. , 2. , 3.5, 1. ],\n",
       "       [5. , 2.3, 3.3, 1. ]])"
      ]
     },
     "execution_count": 98,
     "metadata": {
      "tags": []
     },
     "output_type": "execute_result"
    }
   ],
   "source": [
    "features[features[:,0] == 5.0]"
   ]
  },
  {
   "cell_type": "markdown",
   "metadata": {
    "colab_type": "text",
    "id": "6GSV5QGO0FLh"
   },
   "source": [
    "A more interesting use of Boolean array indexing is to find all the irises of a particular class, using the  `target` array defined when we loaded the data; the `target` array contains the class of each iris in the data set:"
   ]
  },
  {
   "cell_type": "code",
   "execution_count": 19,
   "metadata": {
    "colab": {},
    "colab_type": "code",
    "id": "Fy0XA1zL0FLi"
   },
   "outputs": [
    {
     "name": "stdout",
     "output_type": "stream",
     "text": [
      "<class 'numpy.ndarray'>\n",
      "(150,)\n",
      "{0, 1, 2}\n",
      "[5.1 3.5 1.4 0.2] 0\n",
      "[5.5 2.6 4.4 1.2] 1\n"
     ]
    }
   ],
   "source": [
    "print(type(target))\n",
    "print(target.shape)\n",
    "print(set(target))\n",
    "# Grab the first rows of both arrays\n",
    "print(features[0], target[0])\n",
    "# Grab row indexed 90 from both arrays\n",
    "print(features[90], target[90])"
   ]
  },
  {
   "cell_type": "markdown",
   "metadata": {
    "colab_type": "text",
    "id": "OYSHMrKJ0FLk"
   },
   "source": [
    "As the printouts indicate , `target` is a 1D array (a **vector**) of length 150, containing only the values 0,1, and 2.  These are the three classes to which an iris can belong.  There are exactly as many entries in the `target` array as there are rows in the `features` array. For any iris, its row-index in the `features` array is the index of its class in the `target`.  Above we printed the features and target class for irises 0 and 90.\n",
    "\n",
    "We can take advantage of this structure to find all the irises of class 1 very efficiently.\n",
    "Note that `target == 1` is a Boolean array of length 150."
   ]
  },
  {
   "cell_type": "code",
   "execution_count": 20,
   "metadata": {
    "colab": {},
    "colab_type": "code",
    "id": "9VQ7azPB0FLk",
    "scrolled": true
   },
   "outputs": [
    {
     "data": {
      "text/plain": [
       "array([False, False, False, False, False, False, False, False, False,\n",
       "       False, False, False, False, False, False, False, False, False,\n",
       "       False, False, False, False, False, False, False, False, False,\n",
       "       False, False, False, False, False, False, False, False, False,\n",
       "       False, False, False, False, False, False, False, False, False,\n",
       "       False, False, False, False, False,  True,  True,  True,  True,\n",
       "        True,  True,  True,  True,  True,  True,  True,  True,  True,\n",
       "        True,  True,  True,  True,  True,  True,  True,  True,  True,\n",
       "        True,  True,  True,  True,  True,  True,  True,  True,  True,\n",
       "        True,  True,  True,  True,  True,  True,  True,  True,  True,\n",
       "        True,  True,  True,  True,  True,  True,  True,  True,  True,\n",
       "        True, False, False, False, False, False, False, False, False,\n",
       "       False, False, False, False, False, False, False, False, False,\n",
       "       False, False, False, False, False, False, False, False, False,\n",
       "       False, False, False, False, False, False, False, False, False,\n",
       "       False, False, False, False, False, False, False, False, False,\n",
       "       False, False, False, False, False, False])"
      ]
     },
     "execution_count": 20,
     "metadata": {},
     "output_type": "execute_result"
    }
   ],
   "source": [
    "target==1"
   ]
  },
  {
   "cell_type": "markdown",
   "metadata": {
    "colab_type": "text",
    "id": "PYdsXCbi0FLl"
   },
   "source": [
    "Since the size of this Boolean array is exactly the same as the number of\n",
    "rows in `features`, we can use it to find the rows in `features` that represent\n",
    "irises of class 1:"
   ]
  },
  {
   "cell_type": "code",
   "execution_count": 21,
   "metadata": {
    "colab": {},
    "colab_type": "code",
    "id": "PhUJ1AhI0FLl",
    "scrolled": false
   },
   "outputs": [
    {
     "data": {
      "text/plain": [
       "(50, 4)"
      ]
     },
     "execution_count": 21,
     "metadata": {},
     "output_type": "execute_result"
    }
   ],
   "source": [
    "features[target==1,:].shape"
   ]
  },
  {
   "cell_type": "markdown",
   "metadata": {
    "colab_type": "text",
    "id": "mX6RWyNs0FLm"
   },
   "source": [
    "There are 50 rows whose class is `1`; you can verify for yourselves that are also 50 rows for classes 2 and 3.  This is a balanced data set."
   ]
  },
  {
   "cell_type": "markdown",
   "metadata": {
    "colab_type": "text",
    "id": "_XWMGkbV0FLm"
   },
   "source": [
    "Going back to the dictionary we loaded when we loaded the datset, we can\n",
    "find the meanings of our 4 columns:"
   ]
  },
  {
   "cell_type": "code",
   "execution_count": 22,
   "metadata": {
    "colab": {},
    "colab_type": "code",
    "id": "FZ4LrV7P0FLm",
    "scrolled": true
   },
   "outputs": [
    {
     "data": {
      "text/plain": [
       "['sepal length (cm)',\n",
       " 'sepal width (cm)',\n",
       " 'petal length (cm)',\n",
       " 'petal width (cm)']"
      ]
     },
     "execution_count": 22,
     "metadata": {},
     "output_type": "execute_result"
    }
   ],
   "source": [
    "data['feature_names']"
   ]
  },
  {
   "cell_type": "markdown",
   "metadata": {
    "colab_type": "text",
    "id": "1NJfxL900FLn"
   },
   "source": [
    "So our 4 columns have numerical data on these attributes. The column indexed 0 contains the sepal length measurement for 1 flower in our sample.  The column indexed 1 contains sepal width measurements. And so on."
   ]
  },
  {
   "cell_type": "markdown",
   "metadata": {
    "colab_type": "text",
    "id": "iOSilYRT0FLo"
   },
   "source": [
    "We know there are three classes (0, 1, and 2). We can look up their names under the `'target_names'` key of the dictionary we got when we loaded the data.  "
   ]
  },
  {
   "cell_type": "code",
   "execution_count": 23,
   "metadata": {
    "colab": {},
    "colab_type": "code",
    "id": "saJgds_C0FLo",
    "scrolled": true
   },
   "outputs": [
    {
     "data": {
      "text/plain": [
       "array(['setosa', 'versicolor', 'virginica'], dtype='<U10')"
      ]
     },
     "execution_count": 23,
     "metadata": {},
     "output_type": "execute_result"
    }
   ],
   "source": [
    "data['target_names']"
   ]
  },
  {
   "cell_type": "markdown",
   "metadata": {
    "colab_type": "text",
    "id": "uXrmUBu20FLp"
   },
   "source": [
    "So class 0 represent the iris species `setosa`, and so on."
   ]
  },
  {
   "cell_type": "markdown",
   "metadata": {
    "colab_type": "text",
    "id": "z5qArrQX0FLp"
   },
   "source": [
    "Here's what the entire target array looks like:"
   ]
  },
  {
   "cell_type": "code",
   "execution_count": 24,
   "metadata": {
    "colab": {},
    "colab_type": "code",
    "id": "FUtDfSVZ0FLp"
   },
   "outputs": [
    {
     "data": {
      "text/plain": [
       "array([0, 0, 0, 0, 0, 0, 0, 0, 0, 0, 0, 0, 0, 0, 0, 0, 0, 0, 0, 0, 0, 0,\n",
       "       0, 0, 0, 0, 0, 0, 0, 0, 0, 0, 0, 0, 0, 0, 0, 0, 0, 0, 0, 0, 0, 0,\n",
       "       0, 0, 0, 0, 0, 0, 1, 1, 1, 1, 1, 1, 1, 1, 1, 1, 1, 1, 1, 1, 1, 1,\n",
       "       1, 1, 1, 1, 1, 1, 1, 1, 1, 1, 1, 1, 1, 1, 1, 1, 1, 1, 1, 1, 1, 1,\n",
       "       1, 1, 1, 1, 1, 1, 1, 1, 1, 1, 1, 1, 2, 2, 2, 2, 2, 2, 2, 2, 2, 2,\n",
       "       2, 2, 2, 2, 2, 2, 2, 2, 2, 2, 2, 2, 2, 2, 2, 2, 2, 2, 2, 2, 2, 2,\n",
       "       2, 2, 2, 2, 2, 2, 2, 2, 2, 2, 2, 2, 2, 2, 2, 2, 2, 2])"
      ]
     },
     "execution_count": 24,
     "metadata": {},
     "output_type": "execute_result"
    }
   ],
   "source": [
    "data['target']"
   ]
  },
  {
   "cell_type": "markdown",
   "metadata": {
    "colab_type": "text",
    "id": "EQquVFNz0FLq"
   },
   "source": [
    "#### Exercise\n",
    "\n",
    "How many irises are there whose species is 1 and whose sepal length is greater than 5.\n",
    "\n",
    "Advice:  An easy way to do this is to do it in two stages.  First find the set of rows of species 1, then use that array to place a condition on the sepal length. "
   ]
  },
  {
   "cell_type": "code",
   "execution_count": 5,
   "metadata": {},
   "outputs": [],
   "source": [
    "# species 1\n",
    "features1 = features[target==1,:]"
   ]
  },
  {
   "cell_type": "code",
   "execution_count": 6,
   "metadata": {},
   "outputs": [
    {
     "data": {
      "text/plain": [
       "array([7. , 6.4, 6.9, 5.5, 6.5, 5.7, 6.3, 4.9, 6.6, 5.2, 5. , 5.9, 6. ,\n",
       "       6.1, 5.6, 6.7, 5.6, 5.8, 6.2, 5.6, 5.9, 6.1, 6.3, 6.1, 6.4, 6.6,\n",
       "       6.8, 6.7, 6. , 5.7, 5.5, 5.5, 5.8, 6. , 5.4, 6. , 6.7, 6.3, 5.6,\n",
       "       5.5, 5.5, 6.1, 5.8, 5. , 5.6, 5.7, 5.7, 6.2, 5.1, 5.7])"
      ]
     },
     "execution_count": 6,
     "metadata": {},
     "output_type": "execute_result"
    }
   ],
   "source": [
    "\n",
    "# first col\n",
    "features1[:,0]"
   ]
  },
  {
   "cell_type": "markdown",
   "metadata": {},
   "source": [
    "There are 50 flowers belonging to species 1."
   ]
  },
  {
   "cell_type": "code",
   "execution_count": 7,
   "metadata": {},
   "outputs": [
    {
     "data": {
      "text/plain": [
       "50"
      ]
     },
     "execution_count": 7,
     "metadata": {},
     "output_type": "execute_result"
    }
   ],
   "source": [
    "len(features1[:,0])"
   ]
  },
  {
   "cell_type": "code",
   "execution_count": 8,
   "metadata": {},
   "outputs": [
    {
     "data": {
      "text/plain": [
       "array([ True,  True,  True,  True,  True,  True,  True, False,  True,\n",
       "        True, False,  True,  True,  True,  True,  True,  True,  True,\n",
       "        True,  True,  True,  True,  True,  True,  True,  True,  True,\n",
       "        True,  True,  True,  True,  True,  True,  True,  True,  True,\n",
       "        True,  True,  True,  True,  True,  True,  True, False,  True,\n",
       "        True,  True,  True,  True,  True])"
      ]
     },
     "execution_count": 8,
     "metadata": {},
     "output_type": "execute_result"
    }
   ],
   "source": [
    "# Boolean condition  on first col\n",
    "features1[:,0] > 5.0"
   ]
  },
  {
   "cell_type": "code",
   "execution_count": 9,
   "metadata": {},
   "outputs": [],
   "source": [
    "# rows satisfying condition\n",
    "XX = features1[features1[:,0] > 5.0]"
   ]
  },
  {
   "cell_type": "markdown",
   "metadata": {},
   "source": [
    "It turns out nearly all the flowers of species 1 have sepal length greater than 5."
   ]
  },
  {
   "cell_type": "code",
   "execution_count": 10,
   "metadata": {},
   "outputs": [
    {
     "data": {
      "text/plain": [
       "47"
      ]
     },
     "execution_count": 10,
     "metadata": {},
     "output_type": "execute_result"
    }
   ],
   "source": [
    "len(XX)"
   ]
  },
  {
   "cell_type": "code",
   "execution_count": null,
   "metadata": {},
   "outputs": [],
   "source": []
  },
  {
   "cell_type": "code",
   "execution_count": null,
   "metadata": {},
   "outputs": [],
   "source": []
  },
  {
   "cell_type": "code",
   "execution_count": null,
   "metadata": {},
   "outputs": [],
   "source": []
  },
  {
   "cell_type": "code",
   "execution_count": null,
   "metadata": {},
   "outputs": [],
   "source": []
  },
  {
   "cell_type": "code",
   "execution_count": null,
   "metadata": {},
   "outputs": [],
   "source": []
  },
  {
   "cell_type": "code",
   "execution_count": null,
   "metadata": {},
   "outputs": [],
   "source": []
  },
  {
   "cell_type": "code",
   "execution_count": 11,
   "metadata": {
    "colab": {},
    "colab_type": "code",
    "id": "3Ec18MGZ0FLq"
   },
   "outputs": [
    {
     "name": "stdout",
     "output_type": "stream",
     "text": [
      "50\n",
      "47\n"
     ]
    }
   ],
   "source": [
    "# New smaller data table consisting of those flowers of species 1.\n",
    "species1 = features[target == 1,:]\n",
    "print(len(species1))\n",
    "species1[species1[:,0] > 5.0,:]\n",
    "print(len(species1[species1[:,0] > 5.0,:]))"
   ]
  },
  {
   "cell_type": "markdown",
   "metadata": {},
   "source": [
    "Alternatively"
   ]
  },
  {
   "cell_type": "code",
   "execution_count": 12,
   "metadata": {
    "colab": {},
    "colab_type": "code",
    "id": "L086oO2z0FLr"
   },
   "outputs": [
    {
     "name": "stdout",
     "output_type": "stream",
     "text": [
      "[ True  True  True  True  True  True  True False  True  True False  True\n",
      "  True  True  True  True  True  True  True  True  True  True  True  True\n",
      "  True  True  True  True  True  True  True  True  True  True  True  True\n",
      "  True  True  True  True  True  True  True False  True  True  True  True\n",
      "  True  True]\n"
     ]
    },
    {
     "data": {
      "text/plain": [
       "47"
      ]
     },
     "execution_count": 12,
     "metadata": {},
     "output_type": "execute_result"
    }
   ],
   "source": [
    "print(species1[:,0] > 5.0)\n",
    "sum(species1[:,0] > 5.0)"
   ]
  },
  {
   "cell_type": "markdown",
   "metadata": {},
   "source": [
    "A better way to do this problem.  Use a the bitwise Boolean operator `&` (and, or more, precisely,\n",
    "**bitwise and**)."
   ]
  },
  {
   "cell_type": "code",
   "execution_count": 23,
   "metadata": {},
   "outputs": [
    {
     "data": {
      "text/plain": [
       "False"
      ]
     },
     "execution_count": 23,
     "metadata": {},
     "output_type": "execute_result"
    }
   ],
   "source": [
    "True & False"
   ]
  },
  {
   "cell_type": "code",
   "execution_count": 24,
   "metadata": {},
   "outputs": [
    {
     "data": {
      "text/plain": [
       "array([False, False,  True])"
      ]
     },
     "execution_count": 24,
     "metadata": {},
     "output_type": "execute_result"
    }
   ],
   "source": [
    "import numpy as np\n",
    "np.array([True,False,True])  & \\\n",
    "np.array([False,True,True])"
   ]
  },
  {
   "cell_type": "markdown",
   "metadata": {},
   "source": [
    "Also meet **bitwise or** (`|`):"
   ]
  },
  {
   "cell_type": "code",
   "execution_count": 25,
   "metadata": {},
   "outputs": [
    {
     "data": {
      "text/plain": [
       "array([ True,  True,  True])"
      ]
     },
     "execution_count": 25,
     "metadata": {},
     "output_type": "execute_result"
    }
   ],
   "source": [
    "np.array([True,False,True])  | \\\n",
    "np.array([False,True,True])"
   ]
  },
  {
   "cell_type": "markdown",
   "metadata": {},
   "source": [
    "And **bitwise not** (~):"
   ]
  },
  {
   "cell_type": "code",
   "execution_count": 26,
   "metadata": {},
   "outputs": [
    {
     "data": {
      "text/plain": [
       "array([False,  True, False])"
      ]
     },
     "execution_count": 26,
     "metadata": {},
     "output_type": "execute_result"
    }
   ],
   "source": [
    "~ np.array([True,False,True])"
   ]
  },
  {
   "cell_type": "markdown",
   "metadata": {},
   "source": [
    "For our current problem all we need is bitwise &:"
   ]
  },
  {
   "cell_type": "code",
   "execution_count": 3,
   "metadata": {},
   "outputs": [
    {
     "data": {
      "text/plain": [
       "47"
      ]
     },
     "execution_count": 3,
     "metadata": {},
     "output_type": "execute_result"
    }
   ],
   "source": [
    "XX2 = features[(target==1)&(features[:,0] > 5.0)]\n",
    "len(XX2)"
   ]
  },
  {
   "cell_type": "code",
   "execution_count": 14,
   "metadata": {},
   "outputs": [
    {
     "data": {
      "text/plain": [
       "47"
      ]
     },
     "execution_count": 14,
     "metadata": {},
     "output_type": "execute_result"
    }
   ],
   "source": [
    "sum((target==1)&(features[:,0] > 5.0))"
   ]
  },
  {
   "cell_type": "code",
   "execution_count": 13,
   "metadata": {},
   "outputs": [
    {
     "data": {
      "text/plain": [
       "True"
      ]
     },
     "execution_count": 13,
     "metadata": {},
     "output_type": "execute_result"
    }
   ],
   "source": [
    "(XX == XX2).all()"
   ]
  },
  {
   "cell_type": "markdown",
   "metadata": {
    "colab_type": "text",
    "id": "4X9-uKon0FLs"
   },
   "source": [
    "Now suppose we wanted to just see the **sepal lengths** (column 0) of the target class 1 irises, and compare them to the sepal lengths of the target class 0 irises, to see if sepal lengths provided a good way of telling the two classes apart.  We could sort the values to make comparison by eyeball easier:"
   ]
  },
  {
   "cell_type": "code",
   "execution_count": 214,
   "metadata": {
    "colab": {},
    "colab_type": "code",
    "id": "pccqkfso0FLt"
   },
   "outputs": [
    {
     "name": "stdout",
     "output_type": "stream",
     "text": [
      "Class 1 sepal length\n",
      " [4.9 5.  5.  5.1 5.2 5.4 5.5 5.5 5.5 5.5 5.5 5.6 5.6 5.6 5.6 5.6 5.7 5.7\n",
      " 5.7 5.7 5.7 5.8 5.8 5.8 5.9 5.9 6.  6.  6.  6.  6.1 6.1 6.1 6.1 6.2 6.2\n",
      " 6.3 6.3 6.3 6.4 6.4 6.5 6.6 6.6 6.7 6.7 6.7 6.8 6.9 7. ]\n",
      "\n",
      "Class 0 sepal length\n",
      " [4.3 4.4 4.4 4.4 4.5 4.6 4.6 4.6 4.6 4.7 4.7 4.8 4.8 4.8 4.8 4.8 4.9 4.9\n",
      " 4.9 4.9 5.  5.  5.  5.  5.  5.  5.  5.  5.1 5.1 5.1 5.1 5.1 5.1 5.1 5.1\n",
      " 5.2 5.2 5.2 5.3 5.4 5.4 5.4 5.4 5.4 5.5 5.5 5.7 5.7 5.8]\n"
     ]
    }
   ],
   "source": [
    "col_0_class1 = features[target==1,0]\n",
    "col_0_class1.sort()\n",
    "print(\"Class 1 sepal length\\n\",col_0_class1)\n",
    "\n",
    "print()\n",
    "col_0_class0 = features[target==0,0]\n",
    "col_0_class0.sort()\n",
    "print(\"Class 0 sepal length\\n\",col_0_class0)"
   ]
  },
  {
   "cell_type": "markdown",
   "metadata": {
    "colab_type": "text",
    "id": "ZvKesmeB0FLu"
   },
   "source": [
    "And though there is some overlap, we see that there is a tendency for the sepal length\n",
    "values to be higher in class 1 than class 0.\n",
    "\n",
    "To quantify this idea, we would of course take the mean (or average value). We could also look at which class\n",
    "shows the greater variance for that attribute."
   ]
  },
  {
   "cell_type": "code",
   "execution_count": 216,
   "metadata": {},
   "outputs": [
    {
     "name": "stdout",
     "output_type": "stream",
     "text": [
      "Class 1 sepal length: Mean 5.936 Var 0.261\n",
      "Class 0 sepal length: Mean 5.006 Var 0.122\n"
     ]
    }
   ],
   "source": [
    "print(f\"Class 1 sepal length: Mean {col_0_class1.mean():.3f} Var {col_0_class1.var():.3f}\")\n",
    "print(f\"Class 0 sepal length: Mean {col_0_class0.mean():.3f} Var {col_0_class0.var():.3f}\")"
   ]
  },
  {
   "cell_type": "markdown",
   "metadata": {},
   "source": [
    "Summing up this part of the discussion of arrays: we've just illustrated one of many methods for computing\n",
    "statistical and numerical properties for numpy ndimensional arrays. \n",
    "They include `.all()` and `.any()` (which we saw above),\n",
    "as well as `.argmax()`, `.argmin()`, `.max()`,`.mean()`,`.std()`, `sum()`, and `var()`.\n",
    "\n",
    "All of these return numerical or Boolean values representing aggregate properties of the array.  Aggregate properties\n",
    "can be opposed to elementwise properties. It makes sense to take `sin()` of an array\n",
    "element by element.  It doesn't make sense to speak of the the elementwise\n",
    "average of an array.\n",
    "\n",
    "We have also seen array modification methods like .`sort()` and `.reshape()`.  These differ\n",
    "from each other in that .`sort()` modifies the array in place (which is why we didn't\n",
    "need to set a variable to the result of `col_0_class1.sort()` above).\n",
    "\n",
    "We will be using these methods and relying on the distinctions between them throughout."
   ]
  },
  {
   "cell_type": "markdown",
   "metadata": {
    "colab_type": "text",
    "id": "YkCkGOGQ0FL0"
   },
   "source": [
    "## Why use arrays?"
   ]
  },
  {
   "cell_type": "markdown",
   "metadata": {
    "colab_type": "text",
    "id": "UO3QRVVT0FL1"
   },
   "source": [
    "Arrays provide all kinds of indexing convenience for accessing data that\n",
    "is genuinely **tabular**.  Tabular data is data that has good reason for being represented in\n",
    "a table;  that is, there is good reason to think of the rows as a unit, and good reason\n",
    "to think of the columns as units.  And therefore, there is good reason to think we might want\n",
    "to apply some computational operations to columns and rows.  We'll explore those ideas a bit more\n",
    "in a future assignment.  \n",
    "\n",
    "All kinds of data is fundamentally tabular, as we'll see.  But although that's very important,\n",
    "it's probably not the main reason why so many scientists, engineers, and data analysts use `numpy`\n",
    "and other programming tools like `matlab` and `R` that provide tables, or **matrices** (the mathematical\n",
    "name for a similar concept), as a fundamental data structure.  The main reason is computational efficiency.\n",
    "\n",
    "Having a single data structure with predictable types and elementwise basic arithmetic operations makes\n",
    "it possible to write very efficient ways of performing more complex operations.  The code snippet. below\n",
    "demonstrates this by providing a timing comparison between two ways of computing the sum of the\n",
    "squares between 0 and 999 inclusive; the first is used in computing the variable `normal_py_sec`, is the ordinary Python way of computing such a sum:  Cook up a container of those integers, square each of them and sum the result.\n",
    "The second, stored in the varibale `np_sec`, uses numpy arrays.  This uses\n",
    "the **dot product**  operation that we discussed above \n",
    "to multiply all the corresponding elements of two vectors (elemntwise) and\n",
    "sums the result.  Using this `precompiled` fast math operation we speed the code up by a factor of about\n",
    " 80 on my machine, and your results, on your various home machines will be different, but in the same ballpark.\n",
    " "
   ]
  },
  {
   "cell_type": "code",
   "execution_count": 60,
   "metadata": {
    "colab": {
     "base_uri": "https://localhost:8080/",
     "height": 51
    },
    "colab_type": "code",
    "id": "kAcvxRmJ0FL1",
    "outputId": "3737b0b4-1d23-4883-9847-7010ebbf72ff"
   },
   "outputs": [
    {
     "name": "stdout",
     "output_type": "stream",
     "text": [
      "Normal Python:  0.65 sec\n",
      "NumPy:          0.01 sec\n"
     ]
    }
   ],
   "source": [
    "import timeit\n",
    "import numpy as np\n",
    "\n",
    "py_sec = timeit.timeit('sum(x*x for x in range(1000))',\n",
    "                              number=10000)\n",
    "\n",
    "np_sec = timeit.timeit('na.dot(na)',\n",
    "                            setup=\"import numpy as np; na=np.arange(1000)\",\n",
    "                            number=10000)\n",
    "\n",
    "print(f\"Normal Python: {py_sec:5.2f} sec\")\n",
    "\n",
    "print(f\"NumPy:         {np_sec:5.2f} sec\")"
   ]
  },
  {
   "cell_type": "markdown",
   "metadata": {
    "colab_type": "text",
    "id": "NEBYwRlKV_5v"
   },
   "source": [
    "Note that numpy arrays in and of themselves don't help.  In the code snippet below, we use elementwise arithmetic to multiply the `na` array times itself and sum the result.  This code takes around the same amount of time as the basic Python code, because it doesn't use the proper optimized operation.  "
   ]
  },
  {
   "cell_type": "code",
   "execution_count": 61,
   "metadata": {
    "colab": {
     "base_uri": "https://localhost:8080/",
     "height": 34
    },
    "colab_type": "code",
    "id": "aSPSLReU0FL2",
    "outputId": "4acac0c7-140f-4b98-a607-d811c6423ae9"
   },
   "outputs": [
    {
     "name": "stdout",
     "output_type": "stream",
     "text": [
      "Naive NumPy: 0.647754 sec\n"
     ]
    }
   ],
   "source": [
    "naive_np_sec = timeit.timeit('sum(na*na)',\n",
    "                             setup=\"import numpy as np; na=np.arange(1000)\",\n",
    "                             number=10000)\n",
    "print((\"Naive NumPy: %f sec\" % naive_np_sec))"
   ]
  },
  {
   "cell_type": "markdown",
   "metadata": {},
   "source": [
    "For example, simply changing from the builtin `sum` function to the `sum` method helps enormously:"
   ]
  },
  {
   "cell_type": "code",
   "execution_count": 62,
   "metadata": {
    "colab": {},
    "colab_type": "code",
    "id": "oEgfmdpg0FL3"
   },
   "outputs": [
    {
     "name": "stdout",
     "output_type": "stream",
     "text": [
      "Better NumPy: 0.040649 sec\n"
     ]
    }
   ],
   "source": [
    "better_np_sec = timeit.timeit('(na*na).sum()',\n",
    "                             setup=\"import numpy as np; na=np.arange(1000)\",\n",
    "                             number=10000)\n",
    "print((\"Better NumPy: %f sec\" % better_np_sec))"
   ]
  },
  {
   "cell_type": "markdown",
   "metadata": {},
   "source": [
    "Or almost as good,  use `numpy` sum instead"
   ]
  },
  {
   "cell_type": "code",
   "execution_count": 63,
   "metadata": {},
   "outputs": [
    {
     "name": "stdout",
     "output_type": "stream",
     "text": [
      "Better NumPy: 0.058753 sec\n"
     ]
    }
   ],
   "source": [
    "better_np_sec = timeit.timeit('np.sum(na*na)',\n",
    "                             setup=\"import numpy as np; na=np.arange(1000)\",\n",
    "                             number=10000)\n",
    "print((\"Better NumPy: %f sec\" % better_np_sec))"
   ]
  },
  {
   "cell_type": "markdown",
   "metadata": {},
   "source": [
    "The lesson here is that coding so as to  take maximum advantage of the efficiencies of `numpy` can be tricky, but if you have a good reason to be efficient, it's definitely worth some experimentation. That starts with knowing about the kinds of builtin array specific functions `numpy` offers."
   ]
  },
  {
   "cell_type": "markdown",
   "metadata": {},
   "source": [
    "A somewhat simpler example."
   ]
  },
  {
   "cell_type": "code",
   "execution_count": 3,
   "metadata": {},
   "outputs": [],
   "source": [
    "import random\n",
    "import numpy as np\n",
    "\n",
    "n = 1_000_000\n",
    "x = [random.random() for _ in range(n)]\n",
    "y = [random.random() for _ in range(n)]\n",
    "xa = np.array(x)\n",
    "ya = np.array(y)"
   ]
  },
  {
   "cell_type": "markdown",
   "metadata": {},
   "source": [
    "Python list comprehension performing subtraction and the absolute value operation on numbers that are values in Python lists `x` and `y`."
   ]
  },
  {
   "cell_type": "code",
   "execution_count": 4,
   "metadata": {},
   "outputs": [
    {
     "name": "stdout",
     "output_type": "stream",
     "text": [
      "121 ms ± 831 µs per loop (mean ± std. dev. of 7 runs, 10 loops each)\n"
     ]
    }
   ],
   "source": [
    "%timeit [abs(x[i] - y[j]) \\\n",
    "         for i in range(1000) \\\n",
    "         for j in range(1000)]"
   ]
  },
  {
   "cell_type": "markdown",
   "metadata": {},
   "source": [
    "Vectorized `abs` on a `numpy` array resulting from elementwise subtraction. Equivalent to previous\n",
    "calculation.  "
   ]
  },
  {
   "cell_type": "code",
   "execution_count": 5,
   "metadata": {},
   "outputs": [
    {
     "name": "stdout",
     "output_type": "stream",
     "text": [
      "888 µs ± 3.96 µs per loop (mean ± std. dev. of 7 runs, 1000 loops each)\n"
     ]
    }
   ],
   "source": [
    "%timeit np.abs(xa[:1000, np.newaxis] - ya[:1000])"
   ]
  },
  {
   "cell_type": "markdown",
   "metadata": {},
   "source": [
    "Since 121 ms is 121,000 µs, we have a speedup of 2 orders of magnitude."
   ]
  },
  {
   "cell_type": "code",
   "execution_count": 6,
   "metadata": {},
   "outputs": [
    {
     "data": {
      "text/plain": [
       "136.26126126126127"
      ]
     },
     "execution_count": 6,
     "metadata": {},
     "output_type": "execute_result"
    }
   ],
   "source": [
    "121_000/888"
   ]
  },
  {
   "cell_type": "code",
   "execution_count": null,
   "metadata": {},
   "outputs": [],
   "source": []
  }
 ],
 "metadata": {
  "colab": {
   "name": "numpy.ipynb",
   "provenance": []
  },
  "kernelspec": {
   "display_name": "Python 3 (ipykernel)",
   "language": "python",
   "name": "python3"
  },
  "language_info": {
   "codemirror_mode": {
    "name": "ipython",
    "version": 3
   },
   "file_extension": ".py",
   "mimetype": "text/x-python",
   "name": "python",
   "nbconvert_exporter": "python",
   "pygments_lexer": "ipython3",
   "version": "3.12.5"
  },
  "toc": {
   "base_numbering": 1,
   "nav_menu": {
    "height": "190px",
    "width": "252px"
   },
   "number_sections": true,
   "sideBar": true,
   "skip_h1_title": false,
   "title_cell": "Table of Contents",
   "title_sidebar": "Contents",
   "toc_cell": false,
   "toc_position": {},
   "toc_section_display": "block",
   "toc_window_display": false
  }
 },
 "nbformat": 4,
 "nbformat_minor": 1
}
