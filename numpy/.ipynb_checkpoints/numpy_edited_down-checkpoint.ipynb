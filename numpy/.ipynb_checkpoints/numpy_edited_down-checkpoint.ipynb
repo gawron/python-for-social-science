{
 "cells": [
  {
   "cell_type": "markdown",
   "metadata": {
    "colab_type": "text",
    "id": "8_MMnIga0FIj"
   },
   "source": [
    "## Making ranges"
   ]
  },
  {
   "cell_type": "code",
   "execution_count": 3,
   "metadata": {
    "colab": {
     "base_uri": "https://localhost:8080/",
     "height": 34
    },
    "colab_type": "code",
    "id": "buYPCHse0FIk",
    "outputId": "1a3508ca-99f7-4e6f-c2af-f27fcb138937"
   },
   "outputs": [
    {
     "data": {
      "text/plain": [
       "range"
      ]
     },
     "execution_count": 3,
     "metadata": {
      "tags": []
     },
     "output_type": "execute_result"
    }
   ],
   "source": [
    "type(range(15))"
   ]
  },
  {
   "cell_type": "code",
   "execution_count": 4,
   "metadata": {
    "colab": {
     "base_uri": "https://localhost:8080/",
     "height": 34
    },
    "colab_type": "code",
    "id": "rTlpgy_50FIo",
    "outputId": "6422d533-f95b-4b3c-e253-4931e3e95d0a"
   },
   "outputs": [
    {
     "data": {
      "text/plain": [
       "[0, 1, 2, 3, 4, 5, 6, 7, 8, 9, 10, 11, 12, 13, 14]"
      ]
     },
     "execution_count": 4,
     "metadata": {
      "tags": []
     },
     "output_type": "execute_result"
    }
   ],
   "source": [
    "x = list(range(15))\n",
    "x"
   ]
  },
  {
   "cell_type": "code",
   "execution_count": 5,
   "metadata": {
    "colab": {
     "base_uri": "https://localhost:8080/",
     "height": 85
    },
    "colab_type": "code",
    "id": "UQn9eK9-0FIr",
    "outputId": "8e9fde01-bdc3-4418-ade1-742ee15fa6f0"
   },
   "outputs": [
    {
     "name": "stdout",
     "output_type": "stream",
     "text": [
      "0\n",
      "1\n",
      "2\n",
      "3\n"
     ]
    }
   ],
   "source": [
    "L = [3,5,7,8]\n",
    "for ind in range(len(L)):\n",
    "    print(ind)"
   ]
  },
  {
   "cell_type": "code",
   "execution_count": 6,
   "metadata": {
    "colab": {
     "base_uri": "https://localhost:8080/",
     "height": 85
    },
    "colab_type": "code",
    "id": "bof1A7rl0FIt",
    "outputId": "900ce1ef-7918-4072-9d81-c9c1446e1215"
   },
   "outputs": [
    {
     "name": "stdout",
     "output_type": "stream",
     "text": [
      "3\n",
      "5\n",
      "7\n",
      "8\n"
     ]
    }
   ],
   "source": [
    "\n",
    "\n",
    "for ind in range(len(L)):\n",
    "    print(L[ind])"
   ]
  },
  {
   "cell_type": "code",
   "execution_count": 7,
   "metadata": {
    "colab": {
     "base_uri": "https://localhost:8080/",
     "height": 34
    },
    "colab_type": "code",
    "id": "Ndv5QETf0FIv",
    "outputId": "24673713-299e-4c46-b5a3-c442bff82a94"
   },
   "outputs": [
    {
     "data": {
      "text/plain": [
       "[1, 2, 3, 4]"
      ]
     },
     "execution_count": 7,
     "metadata": {
      "tags": []
     },
     "output_type": "execute_result"
    }
   ],
   "source": [
    "list(range(1,5))"
   ]
  },
  {
   "cell_type": "code",
   "execution_count": 1,
   "metadata": {
    "colab": {
     "base_uri": "https://localhost:8080/",
     "height": 1000
    },
    "colab_type": "code",
    "id": "6xiFkEAe0FIx",
    "outputId": "65055f07-82f8-49e7-d1fc-43c76c3179a7"
   },
   "outputs": [
    {
     "data": {
      "text/plain": [
       "[5, 6, 7, 8, 9]"
      ]
     },
     "execution_count": 1,
     "metadata": {},
     "output_type": "execute_result"
    }
   ],
   "source": [
    "list(range(5,10))"
   ]
  },
  {
   "cell_type": "code",
   "execution_count": 9,
   "metadata": {
    "colab": {
     "base_uri": "https://localhost:8080/",
     "height": 34
    },
    "colab_type": "code",
    "id": "MFWOESEf0FI0",
    "outputId": "2c47960c-eee9-4f1a-8455-2fad2b138076"
   },
   "outputs": [
    {
     "data": {
      "text/plain": [
       "[5, 10, 15, 20, 25, 30, 35, 40, 45, 50, 55, 60, 65, 70, 75, 80, 85, 90, 95]"
      ]
     },
     "execution_count": 9,
     "metadata": {
      "tags": []
     },
     "output_type": "execute_result"
    }
   ],
   "source": [
    "list(range(5,100,5))"
   ]
  },
  {
   "cell_type": "code",
   "execution_count": 10,
   "metadata": {
    "colab": {
     "base_uri": "https://localhost:8080/",
     "height": 34
    },
    "colab_type": "code",
    "id": "WLqd30VB0FI3",
    "outputId": "b515fcb5-288a-4b9d-b138-39176d32278b"
   },
   "outputs": [
    {
     "data": {
      "text/plain": [
       "[10, 9, 8, 7, 6, 5, 4, 3, 2, 1]"
      ]
     },
     "execution_count": 10,
     "metadata": {
      "tags": []
     },
     "output_type": "execute_result"
    }
   ],
   "source": [
    "list(range(10,0,-1))"
   ]
  },
  {
   "cell_type": "code",
   "execution_count": 11,
   "metadata": {
    "colab": {
     "base_uri": "https://localhost:8080/",
     "height": 34
    },
    "colab_type": "code",
    "id": "E3TggyXF0FI5",
    "outputId": "a5d6e762-d4cb-45f0-a8ed-a9a40914d8df"
   },
   "outputs": [
    {
     "data": {
      "text/plain": [
       "[10, 9, 8, 7, 6, 5, 4, 3, 2, 1, 0]"
      ]
     },
     "execution_count": 11,
     "metadata": {
      "tags": []
     },
     "output_type": "execute_result"
    }
   ],
   "source": [
    "list(range(10,-1,-1))"
   ]
  },
  {
   "cell_type": "code",
   "execution_count": 12,
   "metadata": {
    "colab": {
     "base_uri": "https://localhost:8080/",
     "height": 34
    },
    "colab_type": "code",
    "id": "IQ9ESOhM0FI7",
    "outputId": "1d868eab-4200-4b53-a52a-d288f8c08c9c"
   },
   "outputs": [
    {
     "data": {
      "text/plain": [
       "list"
      ]
     },
     "execution_count": 12,
     "metadata": {
      "tags": []
     },
     "output_type": "execute_result"
    }
   ],
   "source": [
    "type(x)"
   ]
  },
  {
   "cell_type": "code",
   "execution_count": 13,
   "metadata": {
    "colab": {
     "base_uri": "https://localhost:8080/",
     "height": 51
    },
    "colab_type": "code",
    "id": "_xnv7_8l0FI9",
    "outputId": "d8c6ba66-2143-4edf-b01d-7b56348ddc66"
   },
   "outputs": [
    {
     "name": "stdout",
     "output_type": "stream",
     "text": [
      "[10, 9, 8, 7, 6, 5, 4, 3, 2, 1, 0]\n"
     ]
    },
    {
     "data": {
      "text/plain": [
       "[8, 7, 6, 5, 4, 3]"
      ]
     },
     "execution_count": 13,
     "metadata": {
      "tags": []
     },
     "output_type": "execute_result"
    }
   ],
   "source": [
    "L = list(range(10,-1,-1))\n",
    "print(L)\n",
    "L[2:8]"
   ]
  },
  {
   "cell_type": "markdown",
   "metadata": {},
   "source": [
    "Ranges are like splices."
   ]
  },
  {
   "cell_type": "code",
   "execution_count": 14,
   "metadata": {
    "colab": {
     "base_uri": "https://localhost:8080/",
     "height": 34
    },
    "colab_type": "code",
    "id": "KP6zZAmN0FI_",
    "outputId": "b6908f0d-20c8-446c-973f-f71091c9f041"
   },
   "outputs": [
    {
     "data": {
      "text/plain": [
       "[2, 3, 4, 5, 6, 7]"
      ]
     },
     "execution_count": 14,
     "metadata": {
      "tags": []
     },
     "output_type": "execute_result"
    }
   ],
   "source": [
    "L[8:2:-1]"
   ]
  },
  {
   "cell_type": "code",
   "execution_count": 15,
   "metadata": {
    "colab": {
     "base_uri": "https://localhost:8080/",
     "height": 34
    },
    "colab_type": "code",
    "id": "GzUibfhN0FJB",
    "outputId": "4a179aaf-af27-415c-b593-11e0aecf195d"
   },
   "outputs": [
    {
     "data": {
      "text/plain": [
       "[10, 9, 8, 7, 6, 5, 4, 3, 2, 1, 0]"
      ]
     },
     "execution_count": 15,
     "metadata": {
      "tags": []
     },
     "output_type": "execute_result"
    }
   ],
   "source": [
    "L"
   ]
  },
  {
   "cell_type": "code",
   "execution_count": 16,
   "metadata": {
    "colab": {
     "base_uri": "https://localhost:8080/",
     "height": 34
    },
    "colab_type": "code",
    "id": "cyD5H-Ze0FJD",
    "outputId": "e10afd1b-81a9-4ac0-efda-d0ce50c63841"
   },
   "outputs": [
    {
     "data": {
      "text/plain": [
       "[0, 1, 2, 3, 4, 5, 6, 7, 8, 9, 10]"
      ]
     },
     "execution_count": 16,
     "metadata": {
      "tags": []
     },
     "output_type": "execute_result"
    }
   ],
   "source": [
    "L[::-1]"
   ]
  },
  {
   "cell_type": "markdown",
   "metadata": {
    "colab_type": "text",
    "id": "Ajg_1H3c0FJF"
   },
   "source": [
    "## 2.  Numpy arrays"
   ]
  },
  {
   "cell_type": "code",
   "execution_count": 69,
   "metadata": {
    "colab": {
     "base_uri": "https://localhost:8080/",
     "height": 0
    },
    "colab_type": "code",
    "id": "vmOhYEBn0FJG",
    "outputId": "ebbb9e0a-2965-421c-a0b4-48dc4b5643d1"
   },
   "outputs": [
    {
     "name": "stdout",
     "output_type": "stream",
     "text": [
      "[ 0  1  2  3  4  5  6  7  8  9 10 11 12 13 14]\n"
     ]
    },
    {
     "data": {
      "text/plain": [
       "array([ 0,  1,  2,  3,  4,  5,  6,  7,  8,  9, 10, 11, 12, 13, 14])"
      ]
     },
     "execution_count": 69,
     "metadata": {},
     "output_type": "execute_result"
    }
   ],
   "source": [
    "import numpy as np\n",
    "a = np.arange(15)\n",
    "print(a)\n",
    "a"
   ]
  },
  {
   "cell_type": "markdown",
   "metadata": {
    "colab_type": "text",
    "id": "9Z97-Fo30FJH"
   },
   "source": [
    "This is called an **array** and for now you can think of this as sequence with only one type.  You can do various sequence like things, with arrays, such as indexing by number and taking splices."
   ]
  },
  {
   "cell_type": "markdown",
   "metadata": {
    "colab_type": "text",
    "id": "e3S6U6pR0FJI"
   },
   "source": [
    "But we haven't yet seen what arrays really can do.   In addition to these sequence-like arrays there are also **2D arrays**, which are **tables of numbers**.  Here both row and column structure matter."
   ]
  },
  {
   "cell_type": "code",
   "execution_count": 18,
   "metadata": {
    "colab": {
     "base_uri": "https://localhost:8080/",
     "height": 0
    },
    "colab_type": "code",
    "id": "IAI6zend0FJI",
    "outputId": "66ad2895-cad6-4dc8-a9db-a088ce24a271"
   },
   "outputs": [
    {
     "name": "stdout",
     "output_type": "stream",
     "text": [
      "[0, 1, 2, 3, 4, 5, 6, 7, 8, 9, 10, 11, 12, 13, 14]\n",
      "[[ 0  1  2  3  4]\n",
      " [ 5  6  7  8  9]\n",
      " [10 11 12 13 14]]\n"
     ]
    }
   ],
   "source": [
    "LL_list = list(range(15))\n",
    "print(LL_list)\n",
    "LL = np.array([LL_list[0:5],LL_list[5:10],LL_list[10:15]])\n",
    "print(LL)"
   ]
  },
  {
   "cell_type": "code",
   "execution_count": 19,
   "metadata": {
    "colab": {
     "base_uri": "https://localhost:8080/",
     "height": 0
    },
    "colab_type": "code",
    "id": "p60PoEWb0FJK",
    "outputId": "d891672d-e346-4084-e910-ea95d5205d1d"
   },
   "outputs": [
    {
     "data": {
      "text/plain": [
       "13"
      ]
     },
     "execution_count": 19,
     "metadata": {
      "tags": []
     },
     "output_type": "execute_result"
    }
   ],
   "source": [
    "a[13]"
   ]
  },
  {
   "cell_type": "code",
   "execution_count": 20,
   "metadata": {
    "colab": {
     "base_uri": "https://localhost:8080/",
     "height": 0
    },
    "colab_type": "code",
    "id": "FNURSADa0FJM",
    "outputId": "8df98b75-f53d-46a0-a00c-be3f2edd2dd0"
   },
   "outputs": [
    {
     "data": {
      "text/plain": [
       "13"
      ]
     },
     "execution_count": 20,
     "metadata": {
      "tags": []
     },
     "output_type": "execute_result"
    }
   ],
   "source": [
    "LL[2,3]"
   ]
  },
  {
   "cell_type": "code",
   "execution_count": 21,
   "metadata": {
    "colab": {
     "base_uri": "https://localhost:8080/",
     "height": 0
    },
    "colab_type": "code",
    "id": "VReAWBh90FJO",
    "outputId": "6232d0e0-5a32-41cc-c0ab-a860198ed6e4"
   },
   "outputs": [
    {
     "data": {
      "text/plain": [
       "array([10, 11, 12, 13, 14])"
      ]
     },
     "execution_count": 21,
     "metadata": {
      "tags": []
     },
     "output_type": "execute_result"
    }
   ],
   "source": [
    "LL[2,:]"
   ]
  },
  {
   "cell_type": "code",
   "execution_count": 22,
   "metadata": {
    "colab": {
     "base_uri": "https://localhost:8080/",
     "height": 0
    },
    "colab_type": "code",
    "id": "qOk7weON0FJR",
    "outputId": "125af59d-30e9-476d-cb02-dc06b9da84f7"
   },
   "outputs": [
    {
     "data": {
      "text/plain": [
       "array([10, 11])"
      ]
     },
     "execution_count": 22,
     "metadata": {
      "tags": []
     },
     "output_type": "execute_result"
    }
   ],
   "source": [
    "LL[2,0:2]"
   ]
  },
  {
   "cell_type": "code",
   "execution_count": 23,
   "metadata": {
    "colab": {
     "base_uri": "https://localhost:8080/",
     "height": 0
    },
    "colab_type": "code",
    "id": "PsqgLUR80FJT",
    "outputId": "1a4bf15c-a07f-4c73-fb43-dd242cb366f7"
   },
   "outputs": [
    {
     "name": "stdout",
     "output_type": "stream",
     "text": [
      "[ 0  1  2  3  4  5  6  7  8  9 10 11 12 13 14]\n"
     ]
    },
    {
     "data": {
      "text/plain": [
       "2"
      ]
     },
     "execution_count": 23,
     "metadata": {
      "tags": []
     },
     "output_type": "execute_result"
    }
   ],
   "source": [
    "print(a)\n",
    "a[2]"
   ]
  },
  {
   "cell_type": "markdown",
   "metadata": {
    "colab_type": "text",
    "id": "Pbw87SCKweYP"
   },
   "source": [
    "Here is a simpler way to define LL.  Use `np.arange`, which is like the default Python `arange`, except that it produces an array.  More on `reshape` below."
   ]
  },
  {
   "cell_type": "code",
   "execution_count": 24,
   "metadata": {
    "colab": {
     "base_uri": "https://localhost:8080/",
     "height": 0
    },
    "colab_type": "code",
    "id": "4D1BRMxywdAE",
    "outputId": "ba354ad5-2bec-43f8-8d46-ac51b57ebf97"
   },
   "outputs": [
    {
     "name": "stdout",
     "output_type": "stream",
     "text": [
      "[[ 0  1  2  3  4]\n",
      " [ 5  6  7  8  9]\n",
      " [10 11 12 13 14]]\n"
     ]
    }
   ],
   "source": [
    "LL2 = np.arange(15).reshape((3,5))\n",
    "print(LL2)"
   ]
  },
  {
   "cell_type": "markdown",
   "metadata": {
    "colab_type": "text",
    "id": "TQqRMeTN0FJV"
   },
   "source": [
    "`a_1d` is a 1D array.  `a` is a 2D array, meaning it has rows and columns."
   ]
  },
  {
   "cell_type": "code",
   "execution_count": 25,
   "metadata": {
    "colab": {
     "base_uri": "https://localhost:8080/",
     "height": 0
    },
    "colab_type": "code",
    "id": "Gz3DJFHQ0FJW",
    "outputId": "b9ae38ba-c38a-492c-8da1-db15dfa8e8ab"
   },
   "outputs": [
    {
     "name": "stdout",
     "output_type": "stream",
     "text": [
      "[ 0  1  2  3  4  5  6  7  8  9 10 11 12 13 14]\n",
      "[[ 0  1  2  3  4]\n",
      " [ 5  6  7  8  9]\n",
      " [10 11 12 13 14]]\n",
      "[[ 0  1  2]\n",
      " [ 3  4  5]\n",
      " [ 6  7  8]\n",
      " [ 9 10 11]\n",
      " [12 13 14]]\n",
      "[[ 0  3  6  9 12]\n",
      " [ 1  4  7 10 13]\n",
      " [ 2  5  8 11 14]]\n"
     ]
    }
   ],
   "source": [
    "a_1d = np.arange(15)\n",
    "print(a_1d)\n",
    "a = a_1d.reshape(3, 5)\n",
    "print(a)\n",
    "b = np.arange(15).reshape(5, 3)\n",
    "a = np.arange(15).reshape(3, 5)\n",
    "print(b)\n",
    "print(b.transpose())"
   ]
  },
  {
   "cell_type": "markdown",
   "metadata": {
    "colab_type": "text",
    "id": "mYf7kyLx0FJX"
   },
   "source": [
    "The need for 2D arrays is obvious if you've taken a linear algebra class.  They correspond to the mathematical object called a **matrix**.  One application for matrices is in solving systems of equations, but this really only scratches the surface.  A more fundamental application for a data scientist is they can represent all that is known about a single data set.  Generally each row represents an item (an individual or event in the data), and the entry in each column its value for a particular attribute. For example let's say each room in a hotel has lamps, tables, chairs, and beds, but in varying numbers.  We might represent the inventory of items in 5-room hotel with a 5x4 matrix (5 rows, 4 columns), as follows:\n",
    "\n",
    "```\n",
    "6  3 4 1\n",
    "5  2 3 2\n",
    "8  3 6 2\n",
    "5  1 3 1\n",
    "10 4 7 2\n",
    "```\n",
    "\n",
    "So the first row represents a room with 6 lamps, 3 tables, 4 chairs, and 1 bed.\n",
    "Now if we represent the cost of each item as 1D cost array (or **vector**) to use the mathematical term,\n",
    "\n",
    "```\n",
    "40 175 90 450,\n",
    "```\n",
    "\n",
    "where the costs are ordered in the same way as our columns above: lamps costs, table costs, chair costs, and bed costs.  Then we can compute the per room cost or the first room as follows:"
   ]
  },
  {
   "cell_type": "code",
   "execution_count": 26,
   "metadata": {
    "colab": {
     "base_uri": "https://localhost:8080/",
     "height": 0
    },
    "colab_type": "code",
    "id": "EiFrWFVj0FJY",
    "outputId": "84236703-69cb-4ade-db9c-023313191727"
   },
   "outputs": [
    {
     "data": {
      "text/plain": [
       "1575"
      ]
     },
     "execution_count": 26,
     "metadata": {
      "tags": []
     },
     "output_type": "execute_result"
    }
   ],
   "source": [
    "6*40 + 3*175 + 4*90 + 1*450"
   ]
  },
  {
   "cell_type": "markdown",
   "metadata": {
    "colab_type": "text",
    "id": "QkNlYIpfyWMz"
   },
   "source": [
    "Now the computation above, the cost of the items in the first room, can also be done as the \"dot product\" (or \"dot\") of the first row of the room_matrix and the cost vector.  The dot product of two 1D arrays is just the sum of the product of the corresponding terms in the two arrays (they need to be the same length).  That is, \n",
    "\n",
    "```\n",
    "6*40 + 3*175 + 4*90 + 1*450\n",
    "```"
   ]
  },
  {
   "cell_type": "code",
   "execution_count": 27,
   "metadata": {
    "colab": {},
    "colab_type": "code",
    "id": "h5E6II3O0FJa"
   },
   "outputs": [],
   "source": [
    "room_matrix = \\\n",
    "np.array(\n",
    "[[6,  3, 4, 1],\n",
    "[5,  2, 3, 2],\n",
    "[8,  3, 6, 2],\n",
    "[5,  1, 3, 1],\n",
    "[10, 4, 7, 2]])\n",
    "\n",
    "cost_vector = np.array([40, 175, 90, 450])"
   ]
  },
  {
   "cell_type": "code",
   "execution_count": 28,
   "metadata": {
    "colab": {
     "base_uri": "https://localhost:8080/",
     "height": 0
    },
    "colab_type": "code",
    "id": "hml9s_hZyiO1",
    "outputId": "7864581e-452e-417f-e9e2-d253401c2c8c"
   },
   "outputs": [
    {
     "data": {
      "text/plain": [
       "1575"
      ]
     },
     "execution_count": 28,
     "metadata": {
      "tags": []
     },
     "output_type": "execute_result"
    }
   ],
   "source": [
    "cost_vector.dot(room_matrix[0,:])"
   ]
  },
  {
   "cell_type": "markdown",
   "metadata": {
    "colab_type": "text",
    "id": "MamBlnqyzzXn"
   },
   "source": [
    "If we ask for the dot product of an M x N array A with a 1D N-array B, the result is a 1D array containing the dot product of the M rows of A with B.  Applied to our example, the dot product of the room matrix with the cost vector yields the costs of the 5 rooms."
   ]
  },
  {
   "cell_type": "code",
   "execution_count": 29,
   "metadata": {
    "colab": {
     "base_uri": "https://localhost:8080/",
     "height": 0
    },
    "colab_type": "code",
    "id": "tZQkAmUV0FJb",
    "outputId": "07419f22-b08f-479c-a611-76fe7eafe2bd"
   },
   "outputs": [
    {
     "name": "stdout",
     "output_type": "stream",
     "text": [
      "[[ 6  3  4  1]\n",
      " [ 5  2  3  2]\n",
      " [ 8  3  6  2]\n",
      " [ 5  1  3  1]\n",
      " [10  4  7  2]]\n",
      "[ 40 175  90 450]\n",
      "[1575 1720 2285 1095 2630]\n"
     ]
    }
   ],
   "source": [
    "print(room_matrix)\n",
    "print(cost_vector)\n",
    "print(room_matrix.dot(cost_vector))"
   ]
  },
  {
   "cell_type": "markdown",
   "metadata": {
    "colab_type": "text",
    "id": "c-tIfmT10FJd"
   },
   "source": [
    "The mathematical name for the `dot` method, which computes the per room cost here, is **matrix multiplication**."
   ]
  },
  {
   "cell_type": "markdown",
   "metadata": {
    "colab_type": "text",
    "id": "dSZHdojw0FJe"
   },
   "source": [
    "Arrays have many attributes."
   ]
  },
  {
   "cell_type": "code",
   "execution_count": 30,
   "metadata": {
    "colab": {
     "base_uri": "https://localhost:8080/",
     "height": 0
    },
    "colab_type": "code",
    "id": "v1ROk32T0FJe",
    "outputId": "cdd5b2ce-dd08-461d-9161-3062bf345851"
   },
   "outputs": [
    {
     "name": "stdout",
     "output_type": "stream",
     "text": [
      "(3, 5)\n",
      "2\n",
      "int64\n",
      "8\n",
      "15\n",
      "<class 'numpy.ndarray'>\n",
      "<class 'numpy.ndarray'>\n"
     ]
    }
   ],
   "source": [
    "print(a.shape)\n",
    "print(a.ndim)          # a is a 2D arrayam\n",
    "print(a.dtype.name)    # np.int64 maxint = 2**63 - 1\n",
    "print(a.itemsize)      # Such an int takes up 8 bytes of memory\n",
    "print(a.size)          # Number of elements\n",
    "print(type(a))\n",
    "print(np.ndarray)"
   ]
  },
  {
   "cell_type": "markdown",
   "metadata": {
    "colab_type": "text",
    "id": "59PkfJyxavBN"
   },
   "source": [
    "The python interpreter and the print function will print out arrays differently (Although this is an option any Python type can take, most types look the same whether they're printed by `print` or the interpreter).  Either way, arrays look different from lists."
   ]
  },
  {
   "cell_type": "code",
   "execution_count": 31,
   "metadata": {
    "colab": {
     "base_uri": "https://localhost:8080/",
     "height": 0
    },
    "colab_type": "code",
    "id": "ccvE6k4J0FJg",
    "outputId": "6d7c0a33-8c27-4bb4-c30a-4cfa85707bc8"
   },
   "outputs": [
    {
     "name": "stdout",
     "output_type": "stream",
     "text": [
      "[6 7 8]\n",
      "<class 'numpy.ndarray'>\n"
     ]
    },
    {
     "data": {
      "text/plain": [
       "array([6, 7, 8])"
      ]
     },
     "execution_count": 31,
     "metadata": {
      "tags": []
     },
     "output_type": "execute_result"
    }
   ],
   "source": [
    "b = np.array([6, 7, 8])\n",
    "print(b)\n",
    "print(type(b))\n",
    "b"
   ]
  },
  {
   "cell_type": "markdown",
   "metadata": {
    "colab_type": "text",
    "id": "r2oexBUk0FJi"
   },
   "source": [
    "A sequence of sequences can be used to define an array, but since the inner sequences are rows, they must all be the same length."
   ]
  },
  {
   "cell_type": "code",
   "execution_count": 32,
   "metadata": {
    "colab": {
     "base_uri": "https://localhost:8080/",
     "height": 0
    },
    "colab_type": "code",
    "id": "C5IaEmjj0FJi",
    "outputId": "be7fc499-7389-4a9f-f5da-e5a3d5a79571"
   },
   "outputs": [
    {
     "data": {
      "text/plain": [
       "array([[1.5, 2. , 3. ],\n",
       "       [4. , 5. , 6. ]])"
      ]
     },
     "execution_count": 32,
     "metadata": {
      "tags": []
     },
     "output_type": "execute_result"
    }
   ],
   "source": [
    "b = np.array( [ (1.5,2,3), (4,5,6) ] )\n",
    "b"
   ]
  },
  {
   "cell_type": "markdown",
   "metadata": {
    "colab_type": "text",
    "id": "ny4TBB0l0FJn"
   },
   "source": [
    "A very convenient way to fill an array is to start with an array containing all 0's or 1's and then update the contents:"
   ]
  },
  {
   "cell_type": "code",
   "execution_count": 35,
   "metadata": {
    "colab": {
     "base_uri": "https://localhost:8080/",
     "height": 0
    },
    "colab_type": "code",
    "id": "9TVLWvj50FJn",
    "outputId": "3c1034aa-e7f8-4e0d-869c-139ef720b77b",
    "scrolled": true
   },
   "outputs": [
    {
     "data": {
      "text/plain": [
       "array([[0., 0., 0., 0.],\n",
       "       [0., 0., 0., 0.],\n",
       "       [0., 0., 0., 0.]])"
      ]
     },
     "execution_count": 35,
     "metadata": {
      "tags": []
     },
     "output_type": "execute_result"
    }
   ],
   "source": [
    "X = np.zeros( (3,4) )\n",
    "X"
   ]
  },
  {
   "cell_type": "markdown",
   "metadata": {
    "colab_type": "text",
    "id": "06p6FQ7z3GXT"
   },
   "source": [
    "## Reshaping of an array \n",
    "\n",
    "```\n",
    "A.reshape((m,n))\n",
    "```\n",
    "\n",
    "means recasting the data in and `A` into\n",
    "m rows and n columns.,  This means `A` has to have m x n \n",
    "cells.  Reshaping can be done on any array that has the right number\n",
    "of cells.  For example, a 2D 3x4 array can be reshaped into a 6x2\n",
    "array."
   ]
  },
  {
   "cell_type": "code",
   "execution_count": 36,
   "metadata": {
    "colab": {
     "base_uri": "https://localhost:8080/",
     "height": 85
    },
    "colab_type": "code",
    "id": "loTxKKQm0FJp",
    "outputId": "eed9ebd2-378f-4981-9141-8beffa09a7c7"
   },
   "outputs": [
    {
     "name": "stdout",
     "output_type": "stream",
     "text": [
      "[[ 0  1  2  3]\n",
      " [ 4  5  6  7]\n",
      " [ 8  9 10 11]]\n"
     ]
    },
    {
     "data": {
      "text/plain": [
       "11"
      ]
     },
     "execution_count": 36,
     "metadata": {
      "tags": []
     },
     "output_type": "execute_result"
    }
   ],
   "source": [
    "Y = np.arange(12).reshape((3,4))\n",
    "print(Y)\n",
    "Y[2,3]"
   ]
  },
  {
   "cell_type": "markdown",
   "metadata": {
    "colab_type": "text",
    "id": "eZoNIC0t0FJr"
   },
   "source": [
    "## Indexing, Splicing, updating"
   ]
  },
  {
   "cell_type": "markdown",
   "metadata": {},
   "source": [
    "Indexing with 1D arrays works exactly as it does with ordinary Python sequences."
   ]
  },
  {
   "cell_type": "code",
   "execution_count": 14,
   "metadata": {
    "colab": {
     "base_uri": "https://localhost:8080/",
     "height": 51
    },
    "colab_type": "code",
    "id": "z8at8ksJ0FJr",
    "outputId": "b77b1974-e596-4f9c-f40c-451092128469"
   },
   "outputs": [
    {
     "name": "stdout",
     "output_type": "stream",
     "text": [
      "[ 0  1  2  3  4  5  6  7  8  9 10 11]\n"
     ]
    },
    {
     "data": {
      "text/plain": [
       "2"
      ]
     },
     "execution_count": 14,
     "metadata": {},
     "output_type": "execute_result"
    }
   ],
   "source": [
    "import numpy as np\n",
    "a = np.array(range(12))\n",
    "print(a)\n",
    "a[2]"
   ]
  },
  {
   "cell_type": "markdown",
   "metadata": {
    "colab_type": "text",
    "id": "KkaJThzr0FJr"
   },
   "source": [
    "Indexing with works similarly, but now there are two dimensions to worry about."
   ]
  },
  {
   "cell_type": "code",
   "execution_count": 7,
   "metadata": {},
   "outputs": [
    {
     "name": "stdout",
     "output_type": "stream",
     "text": [
      "[[ 0  1  2  3]\n",
      " [ 4  5  6  7]\n",
      " [ 8  9 10 11]]\n"
     ]
    },
    {
     "data": {
      "text/plain": [
       "3"
      ]
     },
     "execution_count": 7,
     "metadata": {},
     "output_type": "execute_result"
    }
   ],
   "source": [
    "a2d = a.reshape((3,4))\n",
    "print(a2d)\n",
    "a2d[0,3]"
   ]
  },
  {
   "cell_type": "code",
   "execution_count": 9,
   "metadata": {},
   "outputs": [
    {
     "data": {
      "text/plain": [
       "6"
      ]
     },
     "execution_count": 9,
     "metadata": {},
     "output_type": "execute_result"
    }
   ],
   "source": [
    "a2d[1,2]"
   ]
  },
  {
   "cell_type": "code",
   "execution_count": 10,
   "metadata": {},
   "outputs": [
    {
     "data": {
      "text/plain": [
       "10"
      ]
     },
     "execution_count": 10,
     "metadata": {},
     "output_type": "execute_result"
    }
   ],
   "source": [
    "a2d[2,2]"
   ]
  },
  {
   "cell_type": "markdown",
   "metadata": {},
   "source": [
    "Lower right corner"
   ]
  },
  {
   "cell_type": "code",
   "execution_count": 11,
   "metadata": {},
   "outputs": [
    {
     "data": {
      "text/plain": [
       "11"
      ]
     },
     "execution_count": 11,
     "metadata": {},
     "output_type": "execute_result"
    }
   ],
   "source": [
    "a2d[2,3]"
   ]
  },
  {
   "cell_type": "markdown",
   "metadata": {},
   "source": [
    "### example 2 (with splices & assignment)"
   ]
  },
  {
   "cell_type": "code",
   "execution_count": 26,
   "metadata": {
    "colab": {},
    "colab_type": "code",
    "id": "NDN2y36R0FJt"
   },
   "outputs": [
    {
     "data": {
      "text/plain": [
       "array([[0., 1., 2., 3.],\n",
       "       [1., 2., 3., 4.],\n",
       "       [2., 3., 4., 5.]])"
      ]
     },
     "execution_count": 26,
     "metadata": {},
     "output_type": "execute_result"
    }
   ],
   "source": [
    "b2d = np.zeros((3,4)) + np.arange(4) + np.arange(3).reshape((3,1))\n",
    "b2d"
   ]
  },
  {
   "cell_type": "code",
   "execution_count": 27,
   "metadata": {
    "colab": {
     "base_uri": "https://localhost:8080/",
     "height": 34
    },
    "colab_type": "code",
    "id": "pDqCuu4C0FJv",
    "outputId": "944f88a6-c6be-4d79-ea0f-22fcc44c56c4"
   },
   "outputs": [
    {
     "data": {
      "text/plain": [
       "0.0"
      ]
     },
     "execution_count": 27,
     "metadata": {},
     "output_type": "execute_result"
    }
   ],
   "source": [
    "b2d[0,0]  # first row, first col"
   ]
  },
  {
   "cell_type": "code",
   "execution_count": 28,
   "metadata": {
    "colab": {
     "base_uri": "https://localhost:8080/",
     "height": 34
    },
    "colab_type": "code",
    "id": "6BXsmLt30FJw",
    "outputId": "e724472c-40c6-4ba5-a193-3a5d8fb91991"
   },
   "outputs": [
    {
     "data": {
      "text/plain": [
       "3.0"
      ]
     },
     "execution_count": 28,
     "metadata": {},
     "output_type": "execute_result"
    }
   ],
   "source": [
    "b2d[1,2]  # second row, third col"
   ]
  },
  {
   "cell_type": "code",
   "execution_count": 29,
   "metadata": {
    "colab": {
     "base_uri": "https://localhost:8080/",
     "height": 85
    },
    "colab_type": "code",
    "id": "6_3q5HkC0FJz",
    "outputId": "b54323bb-31a0-427e-8e31-8c806b17f072"
   },
   "outputs": [
    {
     "name": "stdout",
     "output_type": "stream",
     "text": [
      "[[0. 1. 2. 3.]\n",
      " [1. 2. 3. 4.]\n",
      " [2. 3. 4. 5.]]\n"
     ]
    },
    {
     "data": {
      "text/plain": [
       "2.0"
      ]
     },
     "execution_count": 29,
     "metadata": {},
     "output_type": "execute_result"
    }
   ],
   "source": [
    "print(b2d)\n",
    "b2d[2,0]  # third row, first col"
   ]
  },
  {
   "cell_type": "markdown",
   "metadata": {},
   "source": [
    "A splice from the first row:"
   ]
  },
  {
   "cell_type": "code",
   "execution_count": 43,
   "metadata": {},
   "outputs": [
    {
     "name": "stdout",
     "output_type": "stream",
     "text": [
      "[1. 2.]\n"
     ]
    },
    {
     "data": {
      "text/plain": [
       "(2,)"
      ]
     },
     "execution_count": 43,
     "metadata": {},
     "output_type": "execute_result"
    }
   ],
   "source": [
    "print(b2d[0,1:3])\n",
    "b2d[0,1:3].shape"
   ]
  },
  {
   "cell_type": "markdown",
   "metadata": {},
   "source": [
    "Splices also can be 2D. A 2x2 splice"
   ]
  },
  {
   "cell_type": "code",
   "execution_count": 38,
   "metadata": {},
   "outputs": [
    {
     "name": "stdout",
     "output_type": "stream",
     "text": [
      "[[2. 3.]\n",
      " [3. 4.]]\n"
     ]
    },
    {
     "data": {
      "text/plain": [
       "(2, 2)"
      ]
     },
     "execution_count": 38,
     "metadata": {},
     "output_type": "execute_result"
    }
   ],
   "source": [
    "print(b2d[1:3,1:3])\n",
    "b2d[1:3,1:3].shape"
   ]
  },
  {
   "cell_type": "markdown",
   "metadata": {},
   "source": [
    "Now let's change the value of  the last row, first col element `b2d[2,0]`."
   ]
  },
  {
   "cell_type": "code",
   "execution_count": 41,
   "metadata": {},
   "outputs": [
    {
     "name": "stdout",
     "output_type": "stream",
     "text": [
      "[[0. 1. 2. 3.]\n",
      " [1. 2. 3. 4.]\n",
      " [2. 3. 4. 5.]]\n",
      "\n",
      "[[0. 1. 2. 3.]\n",
      " [1. 2. 3. 4.]\n",
      " [3. 3. 4. 5.]]\n"
     ]
    }
   ],
   "source": [
    "b2d = np.zeros((3,4)) + np.arange(4) + np.arange(3).reshape((3,1))\n",
    "print(b2d)\n",
    "b2d[2,0] = 3\n",
    "print()\n",
    "print(b2d)"
   ]
  },
  {
   "cell_type": "markdown",
   "metadata": {},
   "source": [
    "Now let's make all of that first column be 3."
   ]
  },
  {
   "cell_type": "code",
   "execution_count": 32,
   "metadata": {},
   "outputs": [],
   "source": [
    "b2d[:,0]  = [3,3,3]"
   ]
  },
  {
   "cell_type": "code",
   "execution_count": 33,
   "metadata": {
    "scrolled": true
   },
   "outputs": [
    {
     "data": {
      "text/plain": [
       "array([[3., 1., 2., 3.],\n",
       "       [3., 2., 3., 4.],\n",
       "       [3., 3., 4., 5.]])"
      ]
     },
     "execution_count": 33,
     "metadata": {},
     "output_type": "execute_result"
    }
   ],
   "source": [
    "b2d"
   ]
  },
  {
   "cell_type": "markdown",
   "metadata": {},
   "source": [
    "Next we'll update a small square array in the middle;"
   ]
  },
  {
   "cell_type": "code",
   "execution_count": 46,
   "metadata": {},
   "outputs": [
    {
     "name": "stdout",
     "output_type": "stream",
     "text": [
      "[[5. 5.]\n",
      " [5. 5.]]\n",
      "\n",
      "[[0. 1. 2. 3.]\n",
      " [1. 2. 3. 4.]\n",
      " [2. 3. 4. 5.]]\n",
      "\n",
      "[[2. 3.]\n",
      " [3. 4.]]\n",
      "\n",
      "[[0. 1. 2. 3.]\n",
      " [1. 5. 5. 4.]\n",
      " [2. 5. 5. 5.]]\n"
     ]
    }
   ],
   "source": [
    "spl = 5*np.ones((2,2))\n",
    "print(spl)\n",
    "print()\n",
    "b2d = np.zeros((3,4)) + np.arange(4) + np.arange(3).reshape((3,1))\n",
    "print(b2d)\n",
    "print()\n",
    "print(b2d[1:3,1:3])\n",
    "b2d[1:3,1:3] = spl\n",
    "print()\n",
    "print(b2d)"
   ]
  },
  {
   "cell_type": "markdown",
   "metadata": {},
   "source": [
    "### reshaped arrays are views"
   ]
  },
  {
   "cell_type": "markdown",
   "metadata": {
    "colab_type": "text",
    "id": "P13a0sHIpOjF"
   },
   "source": [
    "Reshaping an array creates a new array.  The original array can only be indexed according to its original shape:"
   ]
  },
  {
   "cell_type": "code",
   "execution_count": 15,
   "metadata": {
    "colab": {
     "base_uri": "https://localhost:8080/",
     "height": 266
    },
    "colab_type": "code",
    "id": "0j6AGCsh7aXg",
    "outputId": "112c4c72-dd07-4d28-f4e1-dad2e50ecc2e"
   },
   "outputs": [
    {
     "name": "stdout",
     "output_type": "stream",
     "text": [
      "[[ 0  1  2]\n",
      " [ 3  4  5]\n",
      " [ 6  7  8]\n",
      " [ 9 10 11]]\n",
      "[[ 0  1  2  3]\n",
      " [ 4  5  6  7]\n",
      " [ 8  9 10 11]]\n",
      "11\n"
     ]
    }
   ],
   "source": [
    "Y = np.arange(12).reshape((3,4))\n",
    "Z = Y.reshape((4,3))\n",
    "print(Z)\n",
    "print(Y)\n",
    "print(Y[2,3])"
   ]
  },
  {
   "cell_type": "markdown",
   "metadata": {
    "colab_type": "text",
    "id": "Vod_Pd4Bpc8_"
   },
   "source": [
    "However, the two arrays `Z` and `Y` still share the same **data**.  What that means is that changing one also changes the other. \n",
    "\n",
    "We call `Z` and `Y` different views of the same data."
   ]
  },
  {
   "cell_type": "code",
   "execution_count": 47,
   "metadata": {
    "colab": {
     "base_uri": "https://localhost:8080/",
     "height": 340
    },
    "colab_type": "code",
    "id": "mwHVT2qupcdT",
    "outputId": "f181c01c-94bd-4c88-b02c-1454a219012e"
   },
   "outputs": [
    {
     "name": "stdout",
     "output_type": "stream",
     "text": [
      "Y:\n",
      "[[ 0  1  2  3]\n",
      " [ 4  5  6  7]\n",
      " [ 8  9 10 11]]\n",
      "Z:\n",
      "[[ 0  1  2]\n",
      " [ 3  4  5]\n",
      " [ 6  7  8]\n",
      " [ 9 10 11]]\n",
      "    ==>\n",
      "Y:\n",
      "[[ 0  1  2  3]\n",
      " [14  5  6  7]\n",
      " [ 8  9 10 11]]\n",
      "Z:\n",
      "[[ 0  1  2]\n",
      " [ 3 14  5]\n",
      " [ 6  7  8]\n",
      " [ 9 10 11]]\n"
     ]
    }
   ],
   "source": [
    "print('Y:')\n",
    "print(Y)\n",
    "print('Z:')\n",
    "print(Z)\n",
    "print('    ==>')\n",
    "Y[1,0] = 14\n",
    "print('Y:')\n",
    "print(Y)\n",
    "print('Z:')\n",
    "print(Z)"
   ]
  },
  {
   "cell_type": "markdown",
   "metadata": {
    "colab_type": "text",
    "id": "HpYvVFaM0FJ1"
   },
   "source": [
    "## Assignment (extended examples)"
   ]
  },
  {
   "cell_type": "markdown",
   "metadata": {},
   "source": [
    "Basic operation."
   ]
  },
  {
   "cell_type": "code",
   "execution_count": 99,
   "metadata": {
    "colab": {
     "base_uri": "https://localhost:8080/",
     "height": 68
    },
    "colab_type": "code",
    "id": "e_UPJkVt0FJ1",
    "outputId": "22715cb3-fd4b-4454-924a-5ad8a160a459"
   },
   "outputs": [
    {
     "data": {
      "text/plain": [
       "array([[0., 0., 0., 0.],\n",
       "       [0., 0., 3., 0.],\n",
       "       [0., 0., 0., 0.]])"
      ]
     },
     "execution_count": 99,
     "metadata": {},
     "output_type": "execute_result"
    }
   ],
   "source": [
    "X = np.zeros((3,4))\n",
    "X[1,2] = 3\n",
    "X"
   ]
  },
  {
   "cell_type": "markdown",
   "metadata": {},
   "source": [
    "Filling an entire array with data in a loop."
   ]
  },
  {
   "cell_type": "code",
   "execution_count": 100,
   "metadata": {
    "colab": {
     "base_uri": "https://localhost:8080/",
     "height": 68
    },
    "colab_type": "code",
    "id": "LA7xUwux0FJ3",
    "outputId": "f69bd531-dd20-4657-fc5d-c2f4dc2f3aa3"
   },
   "outputs": [
    {
     "data": {
      "text/plain": [
       "array([[ 10,  20,  30,  40],\n",
       "       [ 50,  60,  70,  80],\n",
       "       [ 90, 100, 110, 120]])"
      ]
     },
     "execution_count": 100,
     "metadata": {},
     "output_type": "execute_result"
    }
   ],
   "source": [
    "X = np.zeros( (3,4), dtype=int )\n",
    "ctr = 0\n",
    "(rows,cols) = X.shape\n",
    "for i in range(rows):\n",
    "    for j in range(cols):\n",
    "        ctr += 1\n",
    "        X[i,j] += ctr*10\n",
    "X"
   ]
  },
  {
   "cell_type": "markdown",
   "metadata": {
    "colab_type": "text",
    "id": "P7fihyOc0FKa"
   },
   "source": [
    "A big difference between an array and a list is that arrays are more flexible about assignments.  The value assigned to a splice can be a scalar, in which case the assignment is \"broadcast\" to each of the cells in the slice (we discuss broadcasting in more detail in another `numpy` notebook)."
   ]
  },
  {
   "cell_type": "markdown",
   "metadata": {
    "colab_type": "text",
    "id": "q2PCfAwj0FKa"
   },
   "source": [
    "In the next cell we demonstrate assignment to a splice.  In normal Python the value that is assigned to a splice has to be a sequence.  But in numpy it is treated as an elementwise operation, so in the next  example, we assign the value -1000 to each of the positions in the splice."
   ]
  },
  {
   "cell_type": "code",
   "execution_count": 48,
   "metadata": {
    "colab": {
     "base_uri": "https://localhost:8080/",
     "height": 68
    },
    "colab_type": "code",
    "id": "vs8p6Uuu0FKb",
    "outputId": "298d602a-b642-40e6-fa70-398f254f22fe"
   },
   "outputs": [
    {
     "name": "stdout",
     "output_type": "stream",
     "text": [
      "[ 0  1  2  3  4  5  6  7  8  9 10 11 12 13 14]\n",
      "[-1000     1 -1000     3 -1000     5     6     7     8     9    10    11\n",
      "    12    13    14]\n"
     ]
    }
   ],
   "source": [
    "a = np.arange(15)\n",
    "print(a)\n",
    "a[:6:2] = -1000    # equivalent to a[0:6:2] = -1000; from start to position 6, exclusive, set every 2nd element to -1000\n",
    "print(a)"
   ]
  },
  {
   "cell_type": "markdown",
   "metadata": {},
   "source": [
    "This is based on the idea of **broadcasting**."
   ]
  },
  {
   "cell_type": "code",
   "execution_count": 50,
   "metadata": {},
   "outputs": [
    {
     "name": "stdout",
     "output_type": "stream",
     "text": [
      "[ 0  1  2  3  4  5  6  7  8  9 10 11 12 13 14]\n"
     ]
    },
    {
     "data": {
      "text/plain": [
       "array([ 5,  6,  7,  8,  9, 10, 11, 12, 13, 14, 15, 16, 17, 18, 19])"
      ]
     },
     "execution_count": 50,
     "metadata": {},
     "output_type": "execute_result"
    }
   ],
   "source": [
    "a = np.arange(15)\n",
    "print(a)\n",
    "a + 5"
   ]
  },
  {
   "cell_type": "code",
   "execution_count": 53,
   "metadata": {},
   "outputs": [
    {
     "name": "stdout",
     "output_type": "stream",
     "text": [
      "b\n",
      "[[ 0  1  2  3  4]\n",
      " [ 5  6  7  8  9]\n",
      " [10 11 12 13 14]]\n",
      "\n",
      "c\n",
      "[0 1 2 3 4]\n",
      "\n",
      "b + c\n",
      "[[ 0  2  4  6  8]\n",
      " [ 5  7  9 11 13]\n",
      " [10 12 14 16 18]]\n"
     ]
    }
   ],
   "source": [
    "b = a.reshape((3,5))\n",
    "print('b')\n",
    "print(b)\n",
    "c = np.arange(5)\n",
    "print()\n",
    "print('c')\n",
    "print(c)\n",
    "print()\n",
    "print('b + c')\n",
    "print(b+c)"
   ]
  },
  {
   "cell_type": "markdown",
   "metadata": {},
   "source": [
    "First col incremented by 0, second by 1, third by 2, and so on."
   ]
  },
  {
   "cell_type": "markdown",
   "metadata": {},
   "source": [
    "### transposition"
   ]
  },
  {
   "cell_type": "markdown",
   "metadata": {
    "colab_type": "text",
    "id": "i0m2D2u_0FKN"
   },
   "source": [
    "Array transposition is sometimes a nice way to get to the 2D array you eally want.  The transposition of an array `M` is called `M.T`, and the definition is that \n",
    "\n",
    "```\n",
    "M.T[i,j] = M[j,i]\n",
    "```\n",
    "\n",
    "So if `M` is an `m` x `n` array, then `M.T` is an `n` x `m`  array.   Look at `X.T` and verify these definitions.  The `m`th row of `X` becomes the `m`th column of `X.T`. The `n`th column  of `X` becomes the `n`th row of `X.T`."
   ]
  },
  {
   "cell_type": "code",
   "execution_count": 108,
   "metadata": {
    "colab": {
     "base_uri": "https://localhost:8080/",
     "height": 187
    },
    "colab_type": "code",
    "id": "4jlVHjXE0FKN",
    "outputId": "1c5abb16-c196-48bf-ebe9-17e56937b0be"
   },
   "outputs": [
    {
     "name": "stdout",
     "output_type": "stream",
     "text": [
      "[[ 10  20  30  40]\n",
      " [ 50  60  70  80]\n",
      " [ 90 100 110 120]]\n",
      "\n",
      "[[ 10  50  90]\n",
      " [ 20  60 100]\n",
      " [ 30  70 110]\n",
      " [ 40  80 120]]\n",
      "70 70\n"
     ]
    }
   ],
   "source": [
    "print(X)\n",
    "print()\n",
    "print(X.T)\n",
    "print(X[1,2], X.T[2,1])"
   ]
  },
  {
   "cell_type": "markdown",
   "metadata": {
    "colab_type": "text",
    "id": "PAtRJsKOG5OH"
   },
   "source": [
    "## 3 (and more) D arrays [not used on the midterm]"
   ]
  },
  {
   "cell_type": "markdown",
   "metadata": {
    "colab_type": "text",
    "id": "Pi1IKHP40FKd"
   },
   "source": [
    "There are also 3D arrays, which have a third dimension; each position along the third dimension defines a 2D array."
   ]
  },
  {
   "cell_type": "code",
   "execution_count": null,
   "metadata": {
    "colab": {},
    "colab_type": "code",
    "id": "vA45H3o30FKe"
   },
   "outputs": [],
   "source": [
    "A =np.arange(24).reshape((2,3,4))\n",
    "A"
   ]
  },
  {
   "cell_type": "markdown",
   "metadata": {
    "colab_type": "text",
    "id": "LnpVQ8__0FKf"
   },
   "source": [
    " In a 2D array, a single index slice is a row or column (a 1D array).  In a 3D array, a single index slice is a 2D array."
   ]
  },
  {
   "cell_type": "code",
   "execution_count": null,
   "metadata": {
    "colab": {},
    "colab_type": "code",
    "id": "9PEsvhO80FKf"
   },
   "outputs": [],
   "source": [
    "A[1,:,:]"
   ]
  },
  {
   "cell_type": "code",
   "execution_count": null,
   "metadata": {
    "colab": {},
    "colab_type": "code",
    "id": "XPD2qQhK0FKh"
   },
   "outputs": [],
   "source": [
    "A[:,:,3]"
   ]
  },
  {
   "cell_type": "code",
   "execution_count": null,
   "metadata": {
    "colab": {},
    "colab_type": "code",
    "id": "dDUF1pkR0FKi"
   },
   "outputs": [],
   "source": [
    "A[:,2,:]"
   ]
  },
  {
   "cell_type": "markdown",
   "metadata": {
    "colab_type": "text",
    "id": "_5QacYd40FKk"
   },
   "source": [
    "We will not be using 3D arrays much, and they will not be featured on quizzes.  But it's nice to know they're out there. \n",
    "\n",
    "An easy example of where you might want a 3D array is a color image. Specifying each pixel position in the image takes two numbers, and in a black and white image we can just have the cell at that position contain a single number representing the grayscale magnitude.  But for a color image we need three numbers, and it is very convenient for many purposes to use a third dimension for those three numbers; for example, using the third dimension for the color, and the first \"layer\" in the 3rd dimension for red, there is an easily retrievable 2D array representing all the \"red\" values for the image `I`:\n",
    "\n",
    "```\n",
    "I[:,:, 0]\n",
    "```\n",
    "\n",
    "In machine learning applications, especially in deep learning applications, 3D arrays and higher are not at all uncommon.  One reason is that it is very convenient (and efficient) to use one dimension for the batch number.  Another is that words in the input are often represented as \"vectors\" (1D arrays of floating point numbers).  Then\n",
    "\n",
    "```\n",
    "D[22, 12,:]\n",
    "```\n",
    "\n",
    "retrieves the word vector for the 13th word in the 23rd batch."
   ]
  },
  {
   "cell_type": "markdown",
   "metadata": {
    "colab_type": "text",
    "id": "Ew6jQ3qa0FKk"
   },
   "source": [
    "## 3.  Elementwise arithmetic operations"
   ]
  },
  {
   "cell_type": "markdown",
   "metadata": {
    "colab": {},
    "colab_type": "code",
    "id": "-_DRebbv0FKk"
   },
   "source": [
    "Basic idea on which broadcasting is based:"
   ]
  },
  {
   "cell_type": "code",
   "execution_count": null,
   "metadata": {
    "colab": {
     "base_uri": "https://localhost:8080/",
     "height": 85
    },
    "colab_type": "code",
    "id": "vK34WuAU0FKl",
    "outputId": "268ebad5-95fd-4cbd-fd54-aba25730a742"
   },
   "outputs": [
    {
     "name": "stdout",
     "output_type": "stream",
     "text": [
      "[[20 30]\n",
      " [40 50]]\n",
      "[[0 1]\n",
      " [2 3]]\n"
     ]
    }
   ],
   "source": [
    "import numpy as np\n",
    "a = np.array( [20,30,40,50] ).reshape((2,2))\n",
    "b = np.arange( 4 ).reshape((2,2))\n",
    "print(a)\n",
    "print(b)"
   ]
  },
  {
   "cell_type": "code",
   "execution_count": null,
   "metadata": {
    "colab": {
     "base_uri": "https://localhost:8080/",
     "height": 51
    },
    "colab_type": "code",
    "id": "gTWEQ80V0FKm",
    "outputId": "7e312496-4638-486a-844c-71afc2882e99"
   },
   "outputs": [
    {
     "data": {
      "text/plain": [
       "array([[20, 31],\n",
       "       [42, 53]])"
      ]
     },
     "execution_count": 74,
     "metadata": {
      "tags": []
     },
     "output_type": "execute_result"
    }
   ],
   "source": [
    "a + b"
   ]
  },
  {
   "cell_type": "code",
   "execution_count": null,
   "metadata": {
    "colab": {
     "base_uri": "https://localhost:8080/",
     "height": 51
    },
    "colab_type": "code",
    "id": "SIxwMWUe0FKn",
    "outputId": "a600c116-7e29-44ed-bc03-b0f7ed2cdafd"
   },
   "outputs": [
    {
     "data": {
      "text/plain": [
       "array([[  0,  30],\n",
       "       [ 80, 150]])"
      ]
     },
     "execution_count": 75,
     "metadata": {
      "tags": []
     },
     "output_type": "execute_result"
    }
   ],
   "source": [
    "a * b"
   ]
  },
  {
   "cell_type": "code",
   "execution_count": null,
   "metadata": {
    "colab": {
     "base_uri": "https://localhost:8080/",
     "height": 51
    },
    "colab_type": "code",
    "id": "OUnoMpH50FKp",
    "outputId": "21f7a592-1b63-4005-d8e4-90d28cb245e9"
   },
   "outputs": [
    {
     "data": {
      "text/plain": [
       "array([[20, 29],\n",
       "       [38, 47]])"
      ]
     },
     "execution_count": 76,
     "metadata": {
      "tags": []
     },
     "output_type": "execute_result"
    }
   ],
   "source": [
    "a - b"
   ]
  },
  {
   "cell_type": "markdown",
   "metadata": {
    "colab_type": "text",
    "id": "ZeRZujnW0FKq"
   },
   "source": [
    "In the next example we briefly illustrate **broadcasting**.  Elementwise operations are extended to apply between arrays and objects that are not arrays.  So for example, 2 * a (a is the array above) returns an array that contains all the elements of a multiplied by 2"
   ]
  },
  {
   "cell_type": "code",
   "execution_count": null,
   "metadata": {
    "colab": {
     "base_uri": "https://localhost:8080/",
     "height": 102
    },
    "colab_type": "code",
    "id": "SBA4SztC0FKq",
    "outputId": "b62a28dd-e195-433b-9828-72e0262fe13e",
    "scrolled": true
   },
   "outputs": [
    {
     "name": "stdout",
     "output_type": "stream",
     "text": [
      "[[20 30]\n",
      " [40 50]]\n",
      "\n",
      "[[ 40  60]\n",
      " [ 80 100]]\n"
     ]
    }
   ],
   "source": [
    "print(a)\n",
    "print()\n",
    "print(2 * a)"
   ]
  },
  {
   "cell_type": "markdown",
   "metadata": {
    "colab_type": "text",
    "id": "2Y7uBAAr0FKr"
   },
   "source": [
    "This works by \"broadcasting\" 2 into an array the same size as a and then doing elementwise mutliplication on the two arrays.  We will say more about broadcasting in a subsequent notebook.\n",
    "\n",
    "The next example applies two operations to `a`, first `sin`, then multiplication by 10."
   ]
  },
  {
   "cell_type": "markdown",
   "metadata": {
    "colab_type": "text",
    "id": "tcoK8vjA0FKt"
   },
   "source": [
    "You can multiply two arrays of the same shape together as we did with `a` and `b`\n",
    "above, but you can't rely on broadcasting to figure out what to do with mismatched array sizes. In general, multiplying arrays of different sizes together will fail:"
   ]
  },
  {
   "cell_type": "code",
   "execution_count": null,
   "metadata": {
    "colab": {},
    "colab_type": "code",
    "id": "fVQLV0vo0FKt"
   },
   "outputs": [],
   "source": [
    "c = np.array([3,2,1,5,4])\n",
    "print(a)\n",
    "c * a"
   ]
  },
  {
   "cell_type": "markdown",
   "metadata": {},
   "source": [
    "But as we sdaw above this will work if the 1D array has a size that matches the number\n",
    "of rows in the 2D array."
   ]
  },
  {
   "cell_type": "code",
   "execution_count": 55,
   "metadata": {},
   "outputs": [
    {
     "name": "stdout",
     "output_type": "stream",
     "text": [
      "[[20 30]\n",
      " [40 50]]\n",
      "\n",
      "[3 2]\n",
      "\n",
      "a + d\n",
      "[[23 32]\n",
      " [43 52]]\n"
     ]
    }
   ],
   "source": [
    "a = np.array( [20,30,40,50] ).reshape((2,2))\n",
    "print(a)\n",
    "d = np.array([3,2])\n",
    "print()\n",
    "print(d)\n",
    "print()\n",
    "print(\"a + d\")\n",
    "print(a + d)"
   ]
  },
  {
   "cell_type": "markdown",
   "metadata": {},
   "source": [
    "We add `d` to each row of `a`.\n",
    "\n",
    "Put another way: we add 3 to the first column of `a and 2 to the second column of `a`."
   ]
  },
  {
   "cell_type": "markdown",
   "metadata": {},
   "source": [
    "### universal functions"
   ]
  },
  {
   "cell_type": "markdown",
   "metadata": {
    "colab_type": "text",
    "id": "rBkWISFk0FKw"
   },
   "source": [
    "The next example demonstrates the possibility of applying a function of floats to an nd-array.\n",
    "\n",
    "It actually applies to all the elements of the nd-array."
   ]
  },
  {
   "cell_type": "code",
   "execution_count": 57,
   "metadata": {},
   "outputs": [
    {
     "name": "stdout",
     "output_type": "stream",
     "text": [
      "[[20 30]\n",
      " [40 50]]\n",
      "[[ 0.91294525 -0.98803162]\n",
      " [ 0.74511316 -0.26237485]]\n"
     ]
    }
   ],
   "source": [
    "print(a)\n",
    "print(np.sin(a))"
   ]
  },
  {
   "cell_type": "markdown",
   "metadata": {},
   "source": [
    "Wew can combine this with the arithmetic capabilities illustarted below.\n",
    "\n",
    "Eseentially we treeat arrays just like numbers."
   ]
  },
  {
   "cell_type": "code",
   "execution_count": null,
   "metadata": {
    "colab": {},
    "colab_type": "code",
    "id": "MvI7DgIS0FKw"
   },
   "outputs": [],
   "source": [
    "10*np.sin(a)"
   ]
  },
  {
   "cell_type": "markdown",
   "metadata": {
    "colab_type": "text",
    "id": "tQ9oyiTS0FKx"
   },
   "source": [
    "The same idea works with Boolean tests, a point that is important on the homework assignment."
   ]
  },
  {
   "cell_type": "code",
   "execution_count": 58,
   "metadata": {
    "colab": {
     "base_uri": "https://localhost:8080/",
     "height": 85
    },
    "colab_type": "code",
    "id": "vOOOfJM50FKy",
    "outputId": "ac6cf9a5-7723-41bc-9cd0-b52872278d72",
    "scrolled": true
   },
   "outputs": [
    {
     "name": "stdout",
     "output_type": "stream",
     "text": [
      "[[20 30]\n",
      " [40 50]]\n",
      "[[ True  True]\n",
      " [False False]]\n"
     ]
    }
   ],
   "source": [
    "print(a)\n",
    "Y = a < 35\n",
    "print(Y)"
   ]
  },
  {
   "cell_type": "markdown",
   "metadata": {},
   "source": [
    "We apply the Boolean test to ecah element of the array produc imng\n",
    "a new array.\n",
    "\n",
    "The resulting Boolean array is sometimes called **mask.**\n",
    "\n",
    "We see why below."
   ]
  },
  {
   "cell_type": "markdown",
   "metadata": {},
   "source": [
    "### Using a Boolean array as a mask"
   ]
  },
  {
   "cell_type": "code",
   "execution_count": null,
   "metadata": {},
   "outputs": [],
   "source": []
  },
  {
   "cell_type": "code",
   "execution_count": null,
   "metadata": {},
   "outputs": [],
   "source": []
  },
  {
   "cell_type": "markdown",
   "metadata": {},
   "source": [
    "One of the moist important functions of a boolean array\n",
    "constructed as a condition on the elements of\n",
    "a matrix `a`  is to serve as a **mask** that can be used to index \n",
    "the elements of `a` for 1hich the condition is **true**."
   ]
  },
  {
   "cell_type": "code",
   "execution_count": 59,
   "metadata": {
    "colab": {},
    "colab_type": "code",
    "id": "8upSUR_g0FKz"
   },
   "outputs": [
    {
     "name": "stdout",
     "output_type": "stream",
     "text": [
      "[[20 30]\n",
      " [40 50]]\n",
      "[[ True  True]\n",
      " [ True False]]\n"
     ]
    },
    {
     "data": {
      "text/plain": [
       "array([20, 30, 40])"
      ]
     },
     "execution_count": 59,
     "metadata": {},
     "output_type": "execute_result"
    }
   ],
   "source": [
    "print(a)\n",
    "Y = a < 50\n",
    "print(Y)\n",
    "a[Y]"
   ]
  },
  {
   "cell_type": "markdown",
   "metadata": {},
   "source": [
    "The last line is a 1D array that hands us the elements of `a`  less than 50."
   ]
  },
  {
   "cell_type": "code",
   "execution_count": 60,
   "metadata": {
    "colab": {},
    "colab_type": "code",
    "id": "FoyYZZe_0FK1"
   },
   "outputs": [
    {
     "name": "stdout",
     "output_type": "stream",
     "text": [
      "[[20 30]\n",
      " [40 50]]\n",
      "[[0 1]\n",
      " [2 3]]\n"
     ]
    },
    {
     "data": {
      "text/plain": [
       "array([[False, False],\n",
       "       [False, False]])"
      ]
     },
     "execution_count": 60,
     "metadata": {},
     "output_type": "execute_result"
    }
   ],
   "source": [
    "a = np.array( [20,30,40,50] ).reshape((2,2))\n",
    "b = np.arange( 4 ).reshape((2,2))\n",
    "print(a)\n",
    "print(b)\n",
    "a == b"
   ]
  },
  {
   "cell_type": "code",
   "execution_count": null,
   "metadata": {
    "colab": {},
    "colab_type": "code",
    "id": "RJZi7jCH0FK2"
   },
   "outputs": [],
   "source": [
    "if a == b:\n",
    "    print(\"Hi!\")"
   ]
  },
  {
   "cell_type": "markdown",
   "metadata": {},
   "source": [
    "As with any Boolean test the Boolean result takes array shape of `a` and `b`.\n",
    "\n",
    "Hence `a` and `b` must be the same shape or broadcasting must work."
   ]
  },
  {
   "cell_type": "code",
   "execution_count": 64,
   "metadata": {
    "colab": {},
    "colab_type": "code",
    "id": "Howw7OMb0FK3"
   },
   "outputs": [
    {
     "name": "stdout",
     "output_type": "stream",
     "text": [
      "[[1 1]\n",
      " [0 1]]\n",
      "\n",
      "[0 4]\n",
      "\n",
      "[[False False]\n",
      " [ True False]]\n"
     ]
    }
   ],
   "source": [
    "A = np.array( [[1,1],\n",
    "            [0,1]] )\n",
    "B = np.array( \n",
    "            [0,4] )\n",
    "print(A)\n",
    "print()\n",
    "print(B)\n",
    "print()\n",
    "print(A==B)"
   ]
  },
  {
   "cell_type": "markdown",
   "metadata": {
    "colab_type": "text",
    "id": "h4xipcim2Zlp"
   },
   "source": [
    "The result on my machine was that using `np.fromfunction`  is a little under 2 orders of magnitude faster.  Try it on yours.\n",
    "\n",
    "Note a key point here.  The differences between these two ways of array filling are dependent on the sizes of the arrays being filled.  The same code run with small (for example, 4x5) arrays is a virtual tie."
   ]
  },
  {
   "cell_type": "markdown",
   "metadata": {
    "colab_type": "text",
    "id": "BMeNEOpf0FK7"
   },
   "source": [
    "## Elementwise Boolean operations, Masking examples"
   ]
  },
  {
   "cell_type": "markdown",
   "metadata": {
    "colab_type": "text",
    "id": "B98kV2Lo0FK8"
   },
   "source": [
    "A very important extension of elementwise operations is the extension to Boolean tests.\n",
    "\n",
    "Applying a Boolean test to an array returns an array of truth-values: Just as\n",
    "\n",
    "```\n",
    "3 + X\n",
    "```\n",
    "\n",
    "adds 3 to every element of array `X`, so\n",
    "\n",
    "```\n",
    "X > 2\n",
    "```\n",
    "\n",
    "returns an array of truth-values which tells us which elements of `X` are greater than 2."
   ]
  },
  {
   "cell_type": "markdown",
   "metadata": {
    "colab_type": "text",
    "id": "h4gyfdJ80FK9"
   },
   "source": [
    "The property that makes Boolean masking work is this:\n",
    "\n",
    "Any Boolean array can be used to index another other array\n",
    "of teh same shape.  They must be the same shape as the array\n",
    "they index.   So in the simplest case:"
   ]
  },
  {
   "cell_type": "code",
   "execution_count": 66,
   "metadata": {
    "colab": {},
    "colab_type": "code",
    "id": "Gz6aG0PN0FK9"
   },
   "outputs": [
    {
     "name": "stdout",
     "output_type": "stream",
     "text": [
      "[0 1 2 3 4 5 6 7]\n",
      "[1 3 4 5 6]\n"
     ]
    }
   ],
   "source": [
    "X= np.arange(8)\n",
    "print(X)\n",
    "print(X[np.array([False,  True, False,  True,  True,  True,  True, False])])"
   ]
  },
  {
   "cell_type": "markdown",
   "metadata": {
    "colab_type": "text",
    "id": "qlHK4zDv0FK_"
   },
   "source": [
    "But now I can take advantage of the fact `X>=3`  of the same shape as X:"
   ]
  },
  {
   "cell_type": "code",
   "execution_count": null,
   "metadata": {
    "colab": {},
    "colab_type": "code",
    "id": "yjBtsxX70FLA"
   },
   "outputs": [],
   "source": [
    "print(X)\n",
    "print(X>=3)\n",
    "print(X[X>=3])"
   ]
  },
  {
   "cell_type": "markdown",
   "metadata": {
    "colab_type": "text",
    "id": "88ppA0gu0FLB"
   },
   "source": [
    "This returns exactly the members of X that are greater than or equal to 3."
   ]
  },
  {
   "cell_type": "markdown",
   "metadata": {
    "colab_type": "text",
    "id": "BXS2kZy50FLB"
   },
   "source": [
    "We could do the same with a list comprehension, but the array computation above is much faster:"
   ]
  },
  {
   "cell_type": "code",
   "execution_count": null,
   "metadata": {
    "colab": {},
    "colab_type": "code",
    "id": "EVnI88mV0FLB",
    "scrolled": true
   },
   "outputs": [],
   "source": [
    "np.array([x for x in X if x >= 3])"
   ]
  },
  {
   "cell_type": "markdown",
   "metadata": {
    "colab_type": "text",
    "id": "wHrkYX8n0FLC"
   },
   "source": [
    "Boolean arrays can also be used to **count** the number of elements in an array that satisfy some constraint. Although `len` works on arrays and could be used, `sum` is faster.  The Boolean `True` is treated as 1 and the Boolean `False` as 0, so summing a Boolean array counts\n",
    "the number of trues.  The following expression correctly counts the number of elements in `X` that are greater than or equal to 3."
   ]
  },
  {
   "cell_type": "code",
   "execution_count": null,
   "metadata": {
    "colab": {
     "base_uri": "https://localhost:8080/",
     "height": 34
    },
    "colab_type": "code",
    "id": "-OtAjfVt0FLD",
    "outputId": "e61f08a5-222a-42b2-8c23-60bc29bb0950"
   },
   "outputs": [
    {
     "data": {
      "text/plain": [
       "array([4, 4, 4, 5])"
      ]
     },
     "execution_count": 90,
     "metadata": {
      "tags": []
     },
     "output_type": "execute_result"
    }
   ],
   "source": [
    "sum(X>=3)"
   ]
  },
  {
   "cell_type": "markdown",
   "metadata": {
    "colab_type": "text",
    "id": "dxWu_DLv0FLE"
   },
   "source": [
    "More on array operations and efficiency below.  It's a tricky subject."
   ]
  },
  {
   "cell_type": "markdown",
   "metadata": {
    "colab_type": "text",
    "id": "ExBeyXRL0FLE"
   },
   "source": [
    "The reason that `X[X>=3]` works has to do with a basic fact of array indexing we haven't\n",
    "really made explicit yet.  Any Boolean array Y of the right length can be used to index an array X if X and Y are the same length.  \n",
    "\n",
    "A hokey but essential example.  Suppose we have an array of length 8 and we want to access the first, third, and seventh elements.  We can of course do it with a Boolean array:"
   ]
  },
  {
   "cell_type": "code",
   "execution_count": null,
   "metadata": {
    "colab": {},
    "colab_type": "code",
    "id": "AwHCvrUO0FLE"
   },
   "outputs": [],
   "source": [
    "X = np.arange(8) + 1\n",
    "Y = np.array([True,False,True,False,False,False,True,False])\n",
    "print(X)\n",
    "X[Y]"
   ]
  },
  {
   "cell_type": "markdown",
   "metadata": {
    "colab_type": "text",
    "id": "Bfb_IrKG0FLG"
   },
   "source": [
    "But there's a better way!"
   ]
  },
  {
   "cell_type": "markdown",
   "metadata": {
    "colab_type": "text",
    "id": "0KMc7RvX0FLG"
   },
   "source": [
    "Cook up a sequence consisting of the **indices** of the first, third, and seventh elements, namely:\n",
    "\n",
    "```\n",
    "[0,2,6]\n",
    "```\n",
    "\n",
    "Now use that sequence as a **fancy** index on X:"
   ]
  },
  {
   "cell_type": "code",
   "execution_count": null,
   "metadata": {
    "colab": {},
    "colab_type": "code",
    "id": "XeBZvUpz0FLG"
   },
   "outputs": [],
   "source": [
    "X[[0,2,6]]"
   ]
  },
  {
   "cell_type": "markdown",
   "metadata": {
    "colab_type": "text",
    "id": "CQH9gXZs0FLH"
   },
   "source": [
    "Note the need for **double** square brackets.\n",
    "\n",
    "Passing three different indices to the 1D array `X` is an error."
   ]
  },
  {
   "cell_type": "code",
   "execution_count": null,
   "metadata": {
    "colab": {},
    "colab_type": "code",
    "id": "xW9RqGHn0FLH"
   },
   "outputs": [],
   "source": [
    "X[0,2,6]"
   ]
  },
  {
   "cell_type": "markdown",
   "metadata": {
    "colab_type": "text",
    "id": "nVFKolrL0FLI"
   },
   "source": [
    "Fancy indexing also works on 2D arrays.\n",
    "\n",
    "Study this example."
   ]
  },
  {
   "cell_type": "code",
   "execution_count": 67,
   "metadata": {
    "colab": {},
    "colab_type": "code",
    "id": "LUHYcbnr0FLI"
   },
   "outputs": [
    {
     "name": "stdout",
     "output_type": "stream",
     "text": [
      "[[ 0  1  2  3]\n",
      " [ 4  5  6  7]\n",
      " [ 8  9 10 11]]\n",
      "[ 1 10]\n"
     ]
    }
   ],
   "source": [
    "Y = np.arange(12).reshape((3,4))\n",
    "print(Y)\n",
    "print(Y[[0,2],[1,2]])"
   ]
  },
  {
   "cell_type": "markdown",
   "metadata": {},
   "source": [
    "This is one array containing `Y[0,1]` and `Y[2,2]`."
   ]
  },
  {
   "cell_type": "markdown",
   "metadata": {
    "colab_type": "text",
    "id": "fVOVKKu00FLN"
   },
   "source": [
    "Now suppose we have an array of data that has 4 columns, but we only want to keep the\n",
    "first, second and fourth columns.  Here's a simple way to do that using\n",
    "a Boolean array:"
   ]
  },
  {
   "cell_type": "code",
   "execution_count": null,
   "metadata": {
    "colab": {},
    "colab_type": "code",
    "id": "D_OpNtkp0FLO"
   },
   "outputs": [],
   "source": [
    "X = np.arange(8).reshape((2,4)) + 1\n",
    "print(X)\n",
    "print(X[:,np.array([True,True,False,True])])"
   ]
  },
  {
   "cell_type": "markdown",
   "metadata": {
    "colab_type": "text",
    "id": "1KY6buR80FLK"
   },
   "source": [
    "Back to Boolean operations.  Boolean operations work more or less as expected on 2D arrays:"
   ]
  },
  {
   "cell_type": "markdown",
   "metadata": {
    "colab_type": "text",
    "id": "ZgJr86Hg0FLX"
   },
   "source": [
    "## Data in the form of arrays"
   ]
  },
  {
   "cell_type": "markdown",
   "metadata": {
    "colab_type": "text",
    "id": "UJyuhe0J0FLX"
   },
   "source": [
    "Many python modules that provide data do so in array form.  As an example,\n",
    "we load the famous **iris data set** due to Ronald Fisher, familiar to many who've had a statistics class, but also to many who've a computer science or machine learning class in which data analysis plays a role."
   ]
  },
  {
   "cell_type": "code",
   "execution_count": 109,
   "metadata": {
    "colab": {},
    "colab_type": "code",
    "id": "dTP0PiYN0FLX"
   },
   "outputs": [],
   "source": [
    "from sklearn.datasets import load_iris\n",
    "data = load_iris()\n",
    "features = data['data']\n",
    "target = data['target']"
   ]
  },
  {
   "cell_type": "markdown",
   "metadata": {
    "colab_type": "text",
    "id": "vU0h1yDg0FLY"
   },
   "source": [
    "The name `data` has been set to a dictionary."
   ]
  },
  {
   "cell_type": "code",
   "execution_count": 110,
   "metadata": {
    "colab": {
     "base_uri": "https://localhost:8080/",
     "height": 34
    },
    "colab_type": "code",
    "id": "yqdQgVvP0FLY",
    "outputId": "b4f92885-b0a2-45b3-926d-23ff0ae317f1"
   },
   "outputs": [
    {
     "data": {
      "text/plain": [
       "['data',\n",
       " 'target',\n",
       " 'frame',\n",
       " 'target_names',\n",
       " 'DESCR',\n",
       " 'feature_names',\n",
       " 'filename']"
      ]
     },
     "execution_count": 110,
     "metadata": {},
     "output_type": "execute_result"
    }
   ],
   "source": [
    "list(data.keys())"
   ]
  },
  {
   "cell_type": "markdown",
   "metadata": {
    "colab_type": "text",
    "id": "kjyIEOMs0FLa"
   },
   "source": [
    "In the cell loading the data, `features` is set to `data['data']`, a `numpy` array:"
   ]
  },
  {
   "cell_type": "code",
   "execution_count": null,
   "metadata": {
    "colab": {
     "base_uri": "https://localhost:8080/",
     "height": 272
    },
    "colab_type": "code",
    "id": "DXvM4ZuD0FLa",
    "outputId": "ae0e20e0-1fe7-4fff-b738-588c9083a11c"
   },
   "outputs": [
    {
     "name": "stdout",
     "output_type": "stream",
     "text": [
      "(150, 4)\n",
      "2\n",
      "float64\n",
      "600\n",
      "<class 'numpy.ndarray'>\n",
      "[[5.1 3.5 1.4 0.2]\n",
      " [4.9 3.  1.4 0.2]\n",
      " [4.7 3.2 1.3 0.2]\n",
      " [4.6 3.1 1.5 0.2]\n",
      " [5.  3.6 1.4 0.2]\n",
      " [5.4 3.9 1.7 0.4]\n",
      " [4.6 3.4 1.4 0.3]\n",
      " [5.  3.4 1.5 0.2]\n",
      " [4.4 2.9 1.4 0.2]\n",
      " [4.9 3.1 1.5 0.1]]\n"
     ]
    }
   ],
   "source": [
    "print(features.shape)\n",
    "print(features.ndim)\n",
    "print(features.dtype.name)\n",
    "print(features.size)\n",
    "print(type(features))\n",
    "print(features[:10])"
   ]
  },
  {
   "cell_type": "markdown",
   "metadata": {
    "colab_type": "text",
    "id": "9Czezff60FLb"
   },
   "source": [
    "The last thing printed is the first 10 rows of `features`.  This array represents data\n",
    "about irises.  Each row represents a different iris and gives 4 measurements for that \n",
    "exemplar.  So there are 150 iris exemplars; with 4 measurements for each, that's 600 items of\n",
    "data in the array (`features.size`).  The data is used for classification studies.\n",
    "\n",
    "Let's apply what we've just learnt to pick a certain subset of the data. \n",
    "The first number\n",
    "in each row represents the **sepal length** of that particular iris exemplar (to be demonstrated below)."
   ]
  },
  {
   "cell_type": "markdown",
   "metadata": {
    "colab_type": "text",
    "id": "L67OhNuL0FLb"
   },
   "source": [
    "Find the flowers whose sepal length is exactly 5."
   ]
  },
  {
   "cell_type": "code",
   "execution_count": 111,
   "metadata": {
    "colab": {
     "base_uri": "https://localhost:8080/",
     "height": 238
    },
    "colab_type": "code",
    "id": "_8czCtB00FLb",
    "outputId": "9f80893c-17ae-4fd3-fb58-d7b8712c025f",
    "scrolled": true
   },
   "outputs": [
    {
     "name": "stdout",
     "output_type": "stream",
     "text": [
      "[False False False False  True False False  True False False False False\n",
      " False False False False False False False False False False False False\n",
      " False  True  True False False False False False False False False  True\n",
      " False False False False  True False False  True False False False False\n",
      " False  True False False False False False False False False False False\n",
      "  True False False False False False False False False False False False\n",
      " False False False False False False False False False False False False\n",
      " False False False False False False False False False  True False False\n",
      " False False False False False False False False False False False False\n",
      " False False False False False False False False False False False False\n",
      " False False False False False False False False False False False False\n",
      " False False False False False False False False False False False False\n",
      " False False False False False False]\n",
      "(150,)\n"
     ]
    }
   ],
   "source": [
    "# 1D array: first column\n",
    "first_col = features[:,0]\n",
    "print(first_col == 5.0)\n",
    "print((first_col == 5.0).shape)"
   ]
  },
  {
   "cell_type": "markdown",
   "metadata": {
    "colab_type": "text",
    "id": "_TQUFKTv0FLc"
   },
   "source": [
    "Note:  The Boolean array is a 1D array of length 150, one Boolean for each row in the data.  Any Boolean array of this size can be used to index the rows, combined with a `:` to indicate we want all columns."
   ]
  },
  {
   "cell_type": "code",
   "execution_count": null,
   "metadata": {
    "colab": {
     "base_uri": "https://localhost:8080/",
     "height": 187
    },
    "colab_type": "code",
    "id": "GnKHebDj0FLc",
    "outputId": "05395b95-7038-42bf-f65a-ff8bf48b55d9",
    "scrolled": false
   },
   "outputs": [
    {
     "data": {
      "text/plain": [
       "array([[5. , 3.6, 1.4, 0.2],\n",
       "       [5. , 3.4, 1.5, 0.2],\n",
       "       [5. , 3. , 1.6, 0.2],\n",
       "       [5. , 3.4, 1.6, 0.4],\n",
       "       [5. , 3.2, 1.2, 0.2],\n",
       "       [5. , 3.5, 1.3, 0.3],\n",
       "       [5. , 3.5, 1.6, 0.6],\n",
       "       [5. , 3.3, 1.4, 0.2],\n",
       "       [5. , 2. , 3.5, 1. ],\n",
       "       [5. , 2.3, 3.3, 1. ]])"
      ]
     },
     "execution_count": 96,
     "metadata": {
      "tags": []
     },
     "output_type": "execute_result"
    }
   ],
   "source": [
    "features[first_col == 5.0,:]"
   ]
  },
  {
   "cell_type": "markdown",
   "metadata": {
    "colab_type": "text",
    "id": "BEfS87Pw0FLd"
   },
   "source": [
    "So there are only 10 plants out of 150 that have sepal lengths of exactly 5.\n",
    "\n",
    "Of course we can do this all in one step, with the same result:"
   ]
  },
  {
   "cell_type": "code",
   "execution_count": null,
   "metadata": {
    "colab": {
     "base_uri": "https://localhost:8080/",
     "height": 187
    },
    "colab_type": "code",
    "id": "J1xpG91g0FLe",
    "outputId": "baa1a2e3-39ff-4684-ebea-30b04d846ab8"
   },
   "outputs": [
    {
     "data": {
      "text/plain": [
       "array([[5. , 3.6, 1.4, 0.2],\n",
       "       [5. , 3.4, 1.5, 0.2],\n",
       "       [5. , 3. , 1.6, 0.2],\n",
       "       [5. , 3.4, 1.6, 0.4],\n",
       "       [5. , 3.2, 1.2, 0.2],\n",
       "       [5. , 3.5, 1.3, 0.3],\n",
       "       [5. , 3.5, 1.6, 0.6],\n",
       "       [5. , 3.3, 1.4, 0.2],\n",
       "       [5. , 2. , 3.5, 1. ],\n",
       "       [5. , 2.3, 3.3, 1. ]])"
      ]
     },
     "execution_count": 97,
     "metadata": {
      "tags": []
     },
     "output_type": "execute_result"
    }
   ],
   "source": [
    "features[features[:,0] == 5.0,:]"
   ]
  },
  {
   "cell_type": "markdown",
   "metadata": {
    "colab_type": "text",
    "id": "qi7Ox5hR0FLf"
   },
   "source": [
    "Since we're indexing rows here, the `:` can also be left out:"
   ]
  },
  {
   "cell_type": "code",
   "execution_count": null,
   "metadata": {
    "colab": {
     "base_uri": "https://localhost:8080/",
     "height": 187
    },
    "colab_type": "code",
    "id": "KyGOFSk70FLf",
    "outputId": "9488af0f-4625-46d6-9668-75b5c0b229d0",
    "scrolled": true
   },
   "outputs": [
    {
     "data": {
      "text/plain": [
       "array([[5. , 3.6, 1.4, 0.2],\n",
       "       [5. , 3.4, 1.5, 0.2],\n",
       "       [5. , 3. , 1.6, 0.2],\n",
       "       [5. , 3.4, 1.6, 0.4],\n",
       "       [5. , 3.2, 1.2, 0.2],\n",
       "       [5. , 3.5, 1.3, 0.3],\n",
       "       [5. , 3.5, 1.6, 0.6],\n",
       "       [5. , 3.3, 1.4, 0.2],\n",
       "       [5. , 2. , 3.5, 1. ],\n",
       "       [5. , 2.3, 3.3, 1. ]])"
      ]
     },
     "execution_count": 98,
     "metadata": {
      "tags": []
     },
     "output_type": "execute_result"
    }
   ],
   "source": [
    "features[features[:,0] == 5.0]"
   ]
  },
  {
   "cell_type": "markdown",
   "metadata": {
    "colab_type": "text",
    "id": "6GSV5QGO0FLh"
   },
   "source": [
    "A more interesting use of Boolean array indexing is to find all the irises of a particular class, using the variable `target` defined when we loaded the data; `target` is an array containing the class of each iris in the data set:"
   ]
  },
  {
   "cell_type": "code",
   "execution_count": null,
   "metadata": {
    "colab": {},
    "colab_type": "code",
    "id": "Fy0XA1zL0FLi"
   },
   "outputs": [],
   "source": [
    "print(type(target))\n",
    "print(target.shape)\n",
    "print(set(target))\n",
    "# Grab the first rows of both arrays\n",
    "print(features[0], target[0])\n",
    "# Grab row indexed 90 from both arrays\n",
    "print(features[90], target[90])"
   ]
  },
  {
   "cell_type": "markdown",
   "metadata": {
    "colab_type": "text",
    "id": "OYSHMrKJ0FLk"
   },
   "source": [
    "As the printouts indicate , `target` is a 1D array (a **vector**) of length 150, containing only the values 0,1, and 2.  These are the three classes to which an iris can belong.  There are exactly as many entries in the `target` array as there are rows in the `features` array. For any iris, its row-index in the `features` array is the index of its class in the `target`.  Above we printed the features and target class for irises 0 and 90.\n",
    "\n",
    "We can take advantage of this structure to find all the irises of class 1 very efficiently.\n",
    "Note that `target == 1` is a Boolean array of length 150."
   ]
  },
  {
   "cell_type": "code",
   "execution_count": null,
   "metadata": {
    "colab": {},
    "colab_type": "code",
    "id": "9VQ7azPB0FLk",
    "scrolled": true
   },
   "outputs": [],
   "source": [
    "target==1"
   ]
  },
  {
   "cell_type": "markdown",
   "metadata": {
    "colab_type": "text",
    "id": "PYdsXCbi0FLl"
   },
   "source": [
    "To find the irises of class 1, we simply use that Boolean array to specify the rows\n",
    "we want in the `features` array:"
   ]
  },
  {
   "cell_type": "code",
   "execution_count": null,
   "metadata": {
    "colab": {},
    "colab_type": "code",
    "id": "PhUJ1AhI0FLl",
    "scrolled": false
   },
   "outputs": [],
   "source": [
    "features[target==1,:].shape"
   ]
  },
  {
   "cell_type": "markdown",
   "metadata": {
    "colab_type": "text",
    "id": "mX6RWyNs0FLm"
   },
   "source": [
    "There are 50 rows whose class is `1`; you can verify for yourselves that are also 50 rows for classes 2 and 3.  This is a balanced data set."
   ]
  },
  {
   "cell_type": "markdown",
   "metadata": {
    "colab_type": "text",
    "id": "_XWMGkbV0FLm"
   },
   "source": [
    "Going back to the dictionary we loaded when we loaded the datset, we can\n",
    "find the meanings of our 4 columns:"
   ]
  },
  {
   "cell_type": "code",
   "execution_count": null,
   "metadata": {
    "colab": {},
    "colab_type": "code",
    "id": "FZ4LrV7P0FLm",
    "scrolled": true
   },
   "outputs": [],
   "source": [
    "data['feature_names']"
   ]
  },
  {
   "cell_type": "markdown",
   "metadata": {
    "colab_type": "text",
    "id": "1NJfxL900FLn"
   },
   "source": [
    "So our 4 columns have numerical data on these attributes. The column indexed 0 contains the sepal length measurement for 1 flower in our sample.  The column indexed 1 contains sepal width measurements. And so on."
   ]
  },
  {
   "cell_type": "markdown",
   "metadata": {
    "colab_type": "text",
    "id": "iOSilYRT0FLo"
   },
   "source": [
    "We know there are three classes (0, 1, and 2). We can look up their names under the `'target_names'` key of the dictionary we got when we loaded the data.  "
   ]
  },
  {
   "cell_type": "code",
   "execution_count": null,
   "metadata": {
    "colab": {},
    "colab_type": "code",
    "id": "saJgds_C0FLo",
    "scrolled": true
   },
   "outputs": [],
   "source": [
    "data['target_names']"
   ]
  },
  {
   "cell_type": "markdown",
   "metadata": {
    "colab_type": "text",
    "id": "uXrmUBu20FLp"
   },
   "source": [
    "So class 0 represent the iris species `setosa`, and so on."
   ]
  },
  {
   "cell_type": "markdown",
   "metadata": {
    "colab_type": "text",
    "id": "z5qArrQX0FLp"
   },
   "source": [
    "Here's what the entire target array looks like:"
   ]
  },
  {
   "cell_type": "code",
   "execution_count": null,
   "metadata": {
    "colab": {},
    "colab_type": "code",
    "id": "FUtDfSVZ0FLp"
   },
   "outputs": [],
   "source": [
    "data['target']"
   ]
  },
  {
   "cell_type": "markdown",
   "metadata": {
    "colab_type": "text",
    "id": "EQquVFNz0FLq"
   },
   "source": [
    "Find the irises whose species is 1, and whose sepal length is greater than 5."
   ]
  },
  {
   "cell_type": "code",
   "execution_count": null,
   "metadata": {
    "colab": {},
    "colab_type": "code",
    "id": "3Ec18MGZ0FLq"
   },
   "outputs": [],
   "source": [
    "# New smaller data table consisting of those flowers of species 1.\n",
    "species1 = features[target == 1,:]\n",
    "print(len(species1))\n",
    "species1[species1[:,0]>=5.0,:]\n",
    "print(len(species1[species1[:,0]>=5.0,:]))"
   ]
  },
  {
   "cell_type": "code",
   "execution_count": null,
   "metadata": {
    "colab": {},
    "colab_type": "code",
    "id": "L086oO2z0FLr"
   },
   "outputs": [],
   "source": [
    "print(species1[:,0]>=5.0)\n",
    "sum(species1[:,0]>=5.0)"
   ]
  },
  {
   "cell_type": "markdown",
   "metadata": {
    "colab_type": "text",
    "id": "4X9-uKon0FLs"
   },
   "source": [
    "Now suppose we wanted to just see the **sepal lengths** (column 0) of the target class 1 irises, and compare them to the sepal lengths of the target class 0 irises, to see if sepal lengths provided a good way of telling the two classes apart.  We could do:"
   ]
  },
  {
   "cell_type": "code",
   "execution_count": null,
   "metadata": {
    "colab": {},
    "colab_type": "code",
    "id": "pccqkfso0FLt"
   },
   "outputs": [],
   "source": [
    "print(features[target==1,0])\n",
    "print(features[target==0,0])"
   ]
  },
  {
   "cell_type": "markdown",
   "metadata": {
    "colab_type": "text",
    "id": "ZvKesmeB0FLu"
   },
   "source": [
    "And though there is some overlap, we see that there is a tendency for the column-0\n",
    "value be higher in target 1 than it is target class 0."
   ]
  },
  {
   "cell_type": "markdown",
   "metadata": {
    "colab_type": "text",
    "id": "1tnGkWZa0FLu"
   },
   "source": [
    "## Cosine"
   ]
  },
  {
   "cell_type": "markdown",
   "metadata": {
    "colab_type": "text",
    "id": "uhVVoseE0FLu"
   },
   "source": [
    "One way of measuring the similarity between two arrays `x` and `y`. is to take their cosine.  The name for this similarity measure is quite appropriate.  The cosine of `x` and `y` is a measure of the geometric cosine of the angle between them.  It is 1 when that angle is 0 (i.e., `x` and `y` are identical in direction), and -1 when the vectors point in opposite directions, and 0 when the vectors are orthogonal (the do not share a component in any direction).  It is computed by taking the dot product of the unit vectors pointing in the same direction as `x` and `y`.  To do this we divide `x` and `y` by their Euclidean length (`LA.norm` in the code below) and take the dot product of the results."
   ]
  },
  {
   "cell_type": "code",
   "execution_count": null,
   "metadata": {
    "colab": {},
    "colab_type": "code",
    "id": "ReckNwYL0FLu"
   },
   "outputs": [],
   "source": [
    "import numpy as np\n",
    "import numpy.linalg as LA\n",
    "x = np.array([3,4])\n",
    "y = np.array([4,3])\n",
    "\n",
    "def find_unit_vector(x):\n",
    "    return x/LA.norm(x,ord=2)\n",
    "\n",
    "def cosine (x,y):\n",
    "    return (find_unit_vector(x)).dot(find_unit_vector(y))"
   ]
  },
  {
   "cell_type": "markdown",
   "metadata": {
    "colab_type": "text",
    "id": "fhf9F9W90FLv"
   },
   "source": [
    "The maximum possible value cosine can have for two vectors is `1.0`.  The maximum possible value is achieved when you compare a vector `x` with itself `x`.  So nothing can be more similar to `x` than `x` is to itself.  Whew.  That's reassuring."
   ]
  },
  {
   "cell_type": "markdown",
   "metadata": {
    "colab_type": "text",
    "id": "g6ra8PinSlDR"
   },
   "source": [
    "Check my claim about how similar things are top themselves."
   ]
  },
  {
   "cell_type": "code",
   "execution_count": null,
   "metadata": {
    "colab": {
     "base_uri": "https://localhost:8080/",
     "height": 34
    },
    "colab_type": "code",
    "id": "YsUPcm3H0FLw",
    "outputId": "87b8fcc1-43aa-4f90-8f91-093c4334db34"
   },
   "outputs": [
    {
     "data": {
      "text/plain": [
       "1.0"
      ]
     },
     "execution_count": 101,
     "metadata": {
      "tags": []
     },
     "output_type": "execute_result"
    }
   ],
   "source": [
    "cosine(x,x)"
   ]
  },
  {
   "cell_type": "markdown",
   "metadata": {
    "colab_type": "text",
    "id": "I0QocoE5SptX"
   },
   "source": [
    "Let's mutliply x by -1 to get a vector pointing in exactly the opposite direction from `x`, and take the cosine of the two vectors."
   ]
  },
  {
   "cell_type": "code",
   "execution_count": null,
   "metadata": {
    "colab": {
     "base_uri": "https://localhost:8080/",
     "height": 34
    },
    "colab_type": "code",
    "id": "iMH7s_X00FLx",
    "outputId": "06625594-e0f0-48d2-e2df-2fbe1dbba522"
   },
   "outputs": [
    {
     "data": {
      "text/plain": [
       "-1.0"
      ]
     },
     "execution_count": 102,
     "metadata": {
      "tags": []
     },
     "output_type": "execute_result"
    }
   ],
   "source": [
    "cosine(x,-x)"
   ]
  },
  {
   "cell_type": "markdown",
   "metadata": {
    "colab_type": "text",
    "id": "mW-Hzf00S1Nm"
   },
   "source": [
    "`x` and `y` are different but not **that** different. What value does `cos` assign to their similarity?"
   ]
  },
  {
   "cell_type": "code",
   "execution_count": null,
   "metadata": {
    "colab": {
     "base_uri": "https://localhost:8080/",
     "height": 34
    },
    "colab_type": "code",
    "id": "rHiJjTmX0FLy",
    "outputId": "ca9541a3-f81e-408e-9d83-aab1d85f4f0a"
   },
   "outputs": [
    {
     "data": {
      "text/plain": [
       "0.96"
      ]
     },
     "execution_count": 103,
     "metadata": {
      "tags": []
     },
     "output_type": "execute_result"
    }
   ],
   "source": [
    "cosine(x,y)"
   ]
  },
  {
   "cell_type": "markdown",
   "metadata": {
    "colab_type": "text",
    "id": "e4aoDyyYTOxl"
   },
   "source": [
    "What does `find_unit_vector` really do?  It finds a vector pointing in exactly the same direction as `x` but having length 1.  How similar will `x` be to its unit vector?  To find that out for yourself, create a Code cell and execute:\n",
    "\n",
    "```\n",
    "cosine(x, find_unit_vector(x))\n",
    "```\n",
    "\n",
    "Before doing that, look at the definition of cosine again and\n",
    "try to predict what the value will be."
   ]
  },
  {
   "cell_type": "markdown",
   "metadata": {
    "colab_type": "text",
    "id": "8uJxhtxmTDQU"
   },
   "source": [
    "Does a unit vector really have have length 1?"
   ]
  },
  {
   "cell_type": "code",
   "execution_count": null,
   "metadata": {
    "colab": {
     "base_uri": "https://localhost:8080/",
     "height": 34
    },
    "colab_type": "code",
    "id": "w53n-oB00FL0",
    "outputId": "56dd1715-8588-491a-c241-291030d2f61f"
   },
   "outputs": [
    {
     "data": {
      "text/plain": [
       "1.0"
      ]
     },
     "execution_count": 104,
     "metadata": {
      "tags": []
     },
     "output_type": "execute_result"
    }
   ],
   "source": [
    "LA.norm(find_unit_vector(x))"
   ]
  },
  {
   "cell_type": "code",
   "execution_count": null,
   "metadata": {
    "colab": {
     "base_uri": "https://localhost:8080/",
     "height": 34
    },
    "colab_type": "code",
    "id": "iYLvBPTWUSO5",
    "outputId": "9cce9387-bdf7-4012-a5c2-8de772c3a652"
   },
   "outputs": [
    {
     "data": {
      "text/plain": [
       "1076.7"
      ]
     },
     "execution_count": 112,
     "metadata": {
      "tags": []
     },
     "output_type": "execute_result"
    }
   ],
   "source": [
    "((135 * 6) + 120 + 40)* 1.11"
   ]
  },
  {
   "cell_type": "markdown",
   "metadata": {
    "colab_type": "text",
    "id": "YkCkGOGQ0FL0"
   },
   "source": [
    "## Why use arrays?"
   ]
  },
  {
   "cell_type": "markdown",
   "metadata": {
    "colab_type": "text",
    "id": "UO3QRVVT0FL1"
   },
   "source": [
    "Arrays provide all kinds of indexing convenience for accessing data that\n",
    "is genuinely **tabular**.  Tabular data is data that has good reason for being represented in\n",
    "a table;  that is, there is good reason to think of the rows as a unit, and good reason\n",
    "to think of the columns as units.  And therefore, there is good reason to think we might want\n",
    "to apply some computational operations to columns and rows.  We'll explore those ideas a bit more\n",
    "in a future assignment.  \n",
    "\n",
    "All kinds of data is fundamentally tabular, as we'll see.  But although that's very important,\n",
    "it's probably not the main reason why so many scientists, engineers, and data analysts use `numpy`\n",
    "and other programming tools like `matlab` and `R` that provide tables, or **matrices** (the mathematical\n",
    "name for a similar concept), as a fundamental data structure.  The main reason is computational efficiency.\n",
    "\n",
    "Having a single data structure with predictable types and elementwise basic arithmetic operations makes\n",
    "it possible to write very efficient ways of performing more complex operations.  The code snippet. below\n",
    "demonstrates this by providing a timing comparison between two ways of computing the sum of the\n",
    "squares between 0 and 999 inclusive; the first is used in computing the variable `normal_py_sec`, is the ordinary Python way of computing such a sum:  Cook up a container of theose integers, square each of them and sum the result.\n",
    "The second, stored in the varibale `np_sec`, uses numpy arrays.  There is actually a very important\n",
    "mathematical operation **dot product** that multiplies all the corresponding elements of two vectors (elemntwise) and\n",
    "sums the result.  Using this `precompiled` fast math operation we speed the code up by a factor of about\n",
    " 80 on my machine, and your results, on your various home machines will be different, but in the same ballpark.\n",
    " "
   ]
  },
  {
   "cell_type": "code",
   "execution_count": null,
   "metadata": {
    "colab": {
     "base_uri": "https://localhost:8080/",
     "height": 51
    },
    "colab_type": "code",
    "id": "kAcvxRmJ0FL1",
    "outputId": "3737b0b4-1d23-4883-9847-7010ebbf72ff"
   },
   "outputs": [
    {
     "name": "stdout",
     "output_type": "stream",
     "text": [
      "Normal Python: 0.8127167950005969 sec\n",
      "NumPy: 0.01427987700299127 sec\n"
     ]
    }
   ],
   "source": [
    "import timeit\n",
    "import numpy as np\n",
    "\n",
    "py_sec = timeit.timeit('sum(x*x for x in range(1000))',\n",
    "                              number=10000)\n",
    "\n",
    "np_sec = timeit.timeit('na.dot(na)',\n",
    "                            setup=\"import numpy as np; na=np.arange(1000)\",\n",
    "                            number=10000)\n",
    "\n",
    "print(f\"Normal Python: {py_sec} sec\")\n",
    "\n",
    "print(f\"NumPy: {np_sec} sec\")"
   ]
  },
  {
   "cell_type": "markdown",
   "metadata": {
    "colab_type": "text",
    "id": "NEBYwRlKV_5v"
   },
   "source": [
    "Note that numpy arrays in and of themselves don't help.  In the code snippet below, we multiply the `na` array times itself and sum the result.  This code is actually *slower* than the basic Python code, because it pays the overhead of creating the `numpy` array but doesn't exploit it by using the proper optimized operation.  The lesson here is that coding so as to  take maximum advantage of the efficiencies of `numpy` can be tricky, but if you have a good reason to be efficient, it's definitely worth some experimentation. That starts with knowing about the kinds of builtin array specific functions `numpy` offers."
   ]
  },
  {
   "cell_type": "code",
   "execution_count": null,
   "metadata": {
    "colab": {
     "base_uri": "https://localhost:8080/",
     "height": 34
    },
    "colab_type": "code",
    "id": "aSPSLReU0FL2",
    "outputId": "4acac0c7-140f-4b98-a607-d811c6423ae9"
   },
   "outputs": [
    {
     "name": "stdout",
     "output_type": "stream",
     "text": [
      "Naive NumPy: 1.982286 sec\n"
     ]
    }
   ],
   "source": [
    "naive_np_sec = timeit.timeit('sum(na*na)',\n",
    "                             setup=\"import numpy as np; na=np.arange(1000)\",\n",
    "                             number=10000)\n",
    "print((\"Naive NumPy: %f sec\" % naive_np_sec))"
   ]
  },
  {
   "cell_type": "code",
   "execution_count": null,
   "metadata": {
    "colab": {},
    "colab_type": "code",
    "id": "oEgfmdpg0FL3"
   },
   "outputs": [],
   "source": []
  }
 ],
 "metadata": {
  "colab": {
   "name": "numpy.ipynb",
   "provenance": []
  },
  "kernelspec": {
   "display_name": "Python 3",
   "language": "python",
   "name": "python3"
  },
  "language_info": {
   "codemirror_mode": {
    "name": "ipython",
    "version": 3
   },
   "file_extension": ".py",
   "mimetype": "text/x-python",
   "name": "python",
   "nbconvert_exporter": "python",
   "pygments_lexer": "ipython3",
   "version": "3.7.6"
  },
  "toc": {
   "base_numbering": 1,
   "nav_menu": {
    "height": "190px",
    "width": "252px"
   },
   "number_sections": true,
   "sideBar": true,
   "skip_h1_title": false,
   "title_cell": "Table of Contents",
   "title_sidebar": "Contents",
   "toc_cell": false,
   "toc_position": {},
   "toc_section_display": "block",
   "toc_window_display": false
  }
 },
 "nbformat": 4,
 "nbformat_minor": 1
}
