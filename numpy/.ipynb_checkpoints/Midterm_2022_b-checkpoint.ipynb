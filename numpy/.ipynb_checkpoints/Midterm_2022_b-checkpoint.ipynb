{
 "cells": [
  {
   "cell_type": "markdown",
   "metadata": {
    "colab": {},
    "colab_type": "code",
    "id": "LXs4hfRjwmqL"
   },
   "source": [
    "# Part 1 Containers"
   ]
  },
  {
   "cell_type": "markdown",
   "metadata": {},
   "source": [
    "You must execute the next cell, which we will refer to as the **data cell**, to do the problems in this section."
   ]
  },
  {
   "cell_type": "code",
   "execution_count": 3,
   "metadata": {},
   "outputs": [],
   "source": [
    "# Data cell\n",
    "\n",
    "epsilon_left = 'abcde'\n",
    "epsilon_right = 'zyxwv'\n",
    "epsilon = list(zip(epsilon_right,epsilon_left))\n",
    "fruit = ['tomato','cabbage','rambutan','persimmon','mangosteen']\n",
    "frittata = {'alpha': epsilon_right + epsilon_left,\n",
    "            'beta': epsilon_left + epsilon_right,\n",
    "            'delta': fruit,\n",
    "            'gamma': dict(epsilon)}"
   ]
  },
  {
   "cell_type": "markdown",
   "metadata": {},
   "source": [
    "Using the containers in the data cell, write a single Python expression (so, **not** a for-loop) which returns the given values.  Sometimes there are actually many possible answers.  Try for the simplest."
   ]
  },
  {
   "cell_type": "markdown",
   "metadata": {},
   "source": [
    "# 1.1\n",
    "\n",
    "Return `'de'`."
   ]
  },
  {
   "cell_type": "code",
   "execution_count": null,
   "metadata": {
    "scrolled": true
   },
   "outputs": [],
   "source": []
  },
  {
   "cell_type": "markdown",
   "metadata": {},
   "source": [
    "# 1.2\n",
    "\n",
    "Return `'wvab'`."
   ]
  },
  {
   "cell_type": "code",
   "execution_count": null,
   "metadata": {},
   "outputs": [],
   "source": []
  },
  {
   "cell_type": "markdown",
   "metadata": {},
   "source": [
    "# 1.3\n",
    "\n",
    "Return `'rambutan'`."
   ]
  },
  {
   "cell_type": "code",
   "execution_count": null,
   "metadata": {},
   "outputs": [],
   "source": []
  },
  {
   "cell_type": "markdown",
   "metadata": {},
   "source": [
    "# 1.4\n",
    "\n",
    "Return `'sim'`."
   ]
  },
  {
   "cell_type": "code",
   "execution_count": null,
   "metadata": {},
   "outputs": [],
   "source": []
  },
  {
   "cell_type": "markdown",
   "metadata": {},
   "source": [
    "# 1.5\n",
    "\n",
    "Return {'z': 'a', 'y': 'b', 'x': 'c', 'w': 'd', 'v': 'e'}"
   ]
  },
  {
   "cell_type": "code",
   "execution_count": null,
   "metadata": {},
   "outputs": [],
   "source": []
  },
  {
   "cell_type": "markdown",
   "metadata": {},
   "source": [
    "# 1.6\n",
    "\n",
    "Return \n",
    "\n",
    "`[('x', 'c'), ('w', 'd')]`"
   ]
  },
  {
   "cell_type": "code",
   "execution_count": null,
   "metadata": {},
   "outputs": [],
   "source": []
  },
  {
   "cell_type": "markdown",
   "metadata": {},
   "source": [
    "# 1.7\n",
    "\n",
    "Compare the results in the next two cells.\n",
    "\n",
    "Explain why one expression raises an `Exception` and the other does not, even\n",
    "though both involve accessing data defined in `epsilon`."
   ]
  },
  {
   "cell_type": "code",
   "execution_count": 4,
   "metadata": {
    "scrolled": true
   },
   "outputs": [
    {
     "ename": "TypeError",
     "evalue": "list indices must be integers or slices, not str",
     "output_type": "error",
     "traceback": [
      "\u001b[0;31m---------------------------------------------------------------------------\u001b[0m",
      "\u001b[0;31mTypeError\u001b[0m                                 Traceback (most recent call last)",
      "\u001b[0;32m<ipython-input-4-c9f258740a6f>\u001b[0m in \u001b[0;36m<module>\u001b[0;34m\u001b[0m\n\u001b[0;32m----> 1\u001b[0;31m \u001b[0mepsilon\u001b[0m\u001b[0;34m[\u001b[0m\u001b[0;34m'x'\u001b[0m\u001b[0;34m]\u001b[0m\u001b[0;34m\u001b[0m\u001b[0;34m\u001b[0m\u001b[0m\n\u001b[0m",
      "\u001b[0;31mTypeError\u001b[0m: list indices must be integers or slices, not str"
     ]
    }
   ],
   "source": [
    "epsilon['x']"
   ]
  },
  {
   "cell_type": "code",
   "execution_count": 5,
   "metadata": {},
   "outputs": [
    {
     "data": {
      "text/plain": [
       "'c'"
      ]
     },
     "execution_count": 5,
     "metadata": {},
     "output_type": "execute_result"
    }
   ],
   "source": [
    "frittata['gamma']['x']"
   ]
  },
  {
   "cell_type": "markdown",
   "metadata": {},
   "source": [
    "[Your answer here]\n",
    "\n"
   ]
  },
  {
   "cell_type": "markdown",
   "metadata": {},
   "source": [
    "# Part 2 Functions, Loops"
   ]
  },
  {
   "cell_type": "markdown",
   "metadata": {},
   "source": [
    "You must execute the data cell to do the problems in this section."
   ]
  },
  {
   "cell_type": "code",
   "execution_count": 6,
   "metadata": {},
   "outputs": [],
   "source": [
    "# Data cell\n",
    "\n",
    "import numpy as np\n",
    "\n",
    "xx = np.arange(0,26,4)\n",
    "\n",
    "sad_story = \"\"\"Billy the Kid lived in the Wild West long ago .\n",
    "He was an outlaw .\n",
    "He was friends with Pat Garrett who was a lawman .\n",
    "One day Pat Garrett had to bring Billy the Kid in .\n",
    "Billy would not come .\n",
    "They had a gunfight and Pat shot his friend Billy .\n",
    "\"\"\""
   ]
  },
  {
   "cell_type": "markdown",
   "metadata": {},
   "source": [
    "# 2.1\n",
    "\n",
    "Write a loop (it can be a list comprehension) that computes a list of the numbers in `xx` that arew divisible by 3.\n",
    "\n",
    "Do not import any python packages to help (that would suggest that you have\n",
    "not been doing the material in the first part of the class and have done a google search to solve this problem).\n",
    "\n",
    "You may find it useful to be reminded of the `%`-operator:\n",
    "\n",
    "x%y\n",
    "\n",
    "returns the remainder when x is divided by y.  So, for example,\n",
    "\n",
    "```\n",
    ">>> 17%5\n",
    "2\n",
    "```\n",
    "\n",
    "Note: although `xx` is a numpy array, for the purposes of this section you\n",
    "may treat it as if it were a list."
   ]
  },
  {
   "cell_type": "code",
   "execution_count": null,
   "metadata": {
    "scrolled": true
   },
   "outputs": [],
   "source": []
  },
  {
   "cell_type": "markdown",
   "metadata": {},
   "source": [
    "# 2.2\n",
    "\n",
    "Write a for-loop (it may be a list comprehension) that builds a list containing all instances of the letter  `t` in `sad_story`"
   ]
  },
  {
   "cell_type": "code",
   "execution_count": null,
   "metadata": {},
   "outputs": [],
   "source": []
  },
  {
   "cell_type": "markdown",
   "metadata": {},
   "source": [
    "# 2.3\n",
    "\n",
    "Write a for-loop (it may be a list comprehension) that builds a list containing all instances of the word  `the` in `sad_story`."
   ]
  },
  {
   "cell_type": "code",
   "execution_count": null,
   "metadata": {},
   "outputs": [],
   "source": []
  },
  {
   "cell_type": "markdown",
   "metadata": {},
   "source": [
    "# 2.4\n",
    "\n",
    "Write a for loop that creates a dictionary containing the counts of all the words\n",
    "in `sad_story`.  Do not import any Python modules. \n",
    "\n",
    "Call your dictonary `wd_cts`.  If your program is correct `wd_cts`\n",
    "should contain the following count:\n",
    "\n",
    "```\n",
    ">>> wd_counts['in']\n",
    "2\n",
    "```"
   ]
  },
  {
   "cell_type": "code",
   "execution_count": null,
   "metadata": {},
   "outputs": [],
   "source": []
  },
  {
   "cell_type": "markdown",
   "metadata": {},
   "source": [
    "# 2.5\n",
    "\n",
    "Write a **function** `find_word_forms` that takes a string `text_str` and a word `form` as its **two** arguments and returns all **words** in `text_str` that end with `form`.\n",
    "Write this without importing any Python modules.\n",
    "\n",
    "Here are some tests that your function should pass:\n",
    "\n",
    "```\n",
    ">>> find_word_forms(sad_story, 'ing')\n",
    "['bring']\n",
    ">>> find_word_forms(sad_story, 'ed')\n",
    "['lived']\n",
    ">>> find_word_forms(\"He 's sending birds on the wing .\", 'ing')\n",
    "['sending', 'wing']\n",
    ">>> find_word_forms(sad_story, 'g')\n",
    "['long', 'bring']\n",
    "```\n",
    "\n",
    "Hint:  You may find it helpful to remember the\n",
    "string method `endswith`."
   ]
  },
  {
   "cell_type": "code",
   "execution_count": null,
   "metadata": {},
   "outputs": [],
   "source": []
  },
  {
   "cell_type": "markdown",
   "metadata": {},
   "source": [
    "# 2.6\n",
    "\n",
    "Write a function that converts degrees to radians. You are allowed\n",
    "to use the following import statement:\n",
    "\n",
    "```\n",
    "from numpy import pi\n",
    "```\n",
    "\n",
    "The formula is\n",
    "\n",
    "```\n",
    "Radians = (Degrees/360) * 2 * pi\n",
    "```\n",
    "\n",
    "Here are some tests\n",
    "\n",
    "```\n",
    ">>> deg2rad(360)\n",
    "6.283185307179586\n",
    ">>> deg2rad(90)\n",
    "1.5707963267948966\n",
    ">>> deg2rad(72)\n",
    "1.2566370614359172\n",
    "```"
   ]
  },
  {
   "cell_type": "code",
   "execution_count": null,
   "metadata": {},
   "outputs": [],
   "source": []
  },
  {
   "cell_type": "markdown",
   "metadata": {},
   "source": [
    "# Part 3 Numpy arrays"
   ]
  },
  {
   "cell_type": "markdown",
   "metadata": {},
   "source": [
    "You must execute the next cell to do the problems in this section."
   ]
  },
  {
   "cell_type": "code",
   "execution_count": 8,
   "metadata": {},
   "outputs": [],
   "source": [
    "# Data cell\n",
    "\n",
    "import numpy as np\n",
    "\n",
    "xx = np.arange(4,61,4)\n",
    "\n",
    "yy = xx.reshape((3,5))"
   ]
  },
  {
   "cell_type": "markdown",
   "metadata": {},
   "source": [
    "# 3.1\n",
    "\n",
    "Write a single Python expression that returns 12 from `xx`"
   ]
  },
  {
   "cell_type": "code",
   "execution_count": null,
   "metadata": {},
   "outputs": [],
   "source": []
  },
  {
   "cell_type": "markdown",
   "metadata": {},
   "source": [
    "# 3.2\n",
    "\n",
    "Write a single Python expression  that returns all members of `xx` divisible by 8.\n",
    "Hint: Use a splice."
   ]
  },
  {
   "cell_type": "code",
   "execution_count": null,
   "metadata": {},
   "outputs": [],
   "source": []
  },
  {
   "cell_type": "markdown",
   "metadata": {},
   "source": [
    "# 3.3\n",
    "\n",
    "Write a single Python expression  that returns all members of `xx` \n",
    "greater than 16.  You may use a splice if you wish."
   ]
  },
  {
   "cell_type": "code",
   "execution_count": null,
   "metadata": {},
   "outputs": [],
   "source": []
  },
  {
   "cell_type": "markdown",
   "metadata": {},
   "source": [
    "# 3.4\n",
    "\n",
    "Write a single Python expression  that returns the following\n",
    "1D array from `yy`.\n",
    "\n",
    "```\n",
    "array([24, 28, 32, 36, 40])\n",
    "```"
   ]
  },
  {
   "cell_type": "code",
   "execution_count": null,
   "metadata": {},
   "outputs": [],
   "source": []
  },
  {
   "cell_type": "markdown",
   "metadata": {},
   "source": [
    "# 3.5\n",
    "\n",
    "Write a single Python expression  that returns the following\n",
    "2D array from `yy`.\n",
    "\n",
    "```\n",
    "array([[ 4,  8, 12, 16, 20],\n",
    "       [24, 28, 32, 36, 40]])\n",
    "```"
   ]
  },
  {
   "cell_type": "code",
   "execution_count": null,
   "metadata": {
    "scrolled": true
   },
   "outputs": [],
   "source": []
  },
  {
   "cell_type": "markdown",
   "metadata": {},
   "source": [
    "# 3.6\n",
    "\n",
    "Write a single Python expression  that returns the following\n",
    "2D array from `yy`.\n",
    "\n",
    "```\n",
    "array([[32, 36],\n",
    "       [52, 56]])\n",
    "```"
   ]
  },
  {
   "cell_type": "code",
   "execution_count": null,
   "metadata": {},
   "outputs": [],
   "source": []
  },
  {
   "cell_type": "markdown",
   "metadata": {
    "colab_type": "text",
    "id": "HuGC8V_kxKtK"
   },
   "source": [
    "# Part 4  Wine Data\n",
    "\n",
    "In this exercise set, we load wine data. This is a multi class dataset that has data for three different wine types  (stored in `target` below) corresponding to three\n",
    "different cultivators in a particular region of Italy.  These will just\n",
    "be referred to as class_1 calss_2 and class_3 in the description below\n",
    "and in the questions.\n",
    "The chemical properties of the wine stored in the 2D numpy array `data` below are sufficient to identity the cultivator, but it's a challenging classification problem."
   ]
  },
  {
   "cell_type": "markdown",
   "metadata": {},
   "source": [
    "Wine recognition dataset\n",
    "-----------------------------\n",
    "\n",
    "**Data Set Characteristics:**\n",
    "\n",
    "    :Number of Instances: 178\n",
    "    :Number of Attributes: 13 numeric, predictive attributes and the class\n",
    "    :Attribute Information:\n",
    " \t\t- Alcohol\n",
    " \t\t- Malic acid\n",
    " \t\t- Ash\n",
    "\t\t- Alcalinity of ash  \n",
    " \t\t- Magnesium\n",
    "\t\t- Total phenols\n",
    " \t\t- Flavanoids\n",
    " \t\t- Nonflavanoid phenols\n",
    " \t\t- Proanthocyanins\n",
    "\t\t- Color intensity\n",
    " \t\t- Hue\n",
    " \t\t- OD280/OD315 of diluted wines\n",
    " \t\t- Proline\n",
    "\n",
    "    - class:\n",
    "            - class_0\n",
    "            - class_1\n",
    "            - class_2\n",
    "\t\t\n",
    "     \n",
    "    The wine atributes listed in their column order.\n",
    "    \n",
    "    ============================= ==== ===== ======= =====\n",
    "                                   Min   Max   Mean     SD\n",
    "    ============================= ==== ===== ======= =====\n",
    "    Alcohol:                      11.0  14.8    13.0   0.8\n",
    "    Malic Acid:                   0.74  5.80    2.34  1.12\n",
    "    Ash:                          1.36  3.23    2.36  0.27\n",
    "    Alcalinity of Ash:            10.6  30.0    19.5   3.3\n",
    "    Magnesium:                    70.0 162.0    99.7  14.3\n",
    "    Total Phenols:                0.98  3.88    2.29  0.63\n",
    "    Flavanoids:                   0.34  5.08    2.03  1.00\n",
    "    Nonflavanoid Phenols:         0.13  0.66    0.36  0.12\n",
    "    Proanthocyanins:              0.41  3.58    1.59  0.57\n",
    "    Colour Intensity:              1.3  13.0     5.1   2.3\n",
    "    Hue:                          0.48  1.71    0.96  0.23\n",
    "    OD280/OD315 of diluted wines: 1.27  4.00    2.61  0.71\n",
    "    Proline:                       278  1680     746   315\n",
    "    ============================= ==== ===== ======= =====\n",
    "\n",
    "    :Missing Attribute Values: None\n",
    "    :Class Distribution: class_0 (59), class_1 (71), class_2 (48)\n",
    "    :Creator: R.A. Fisher\n",
    "    :Donor: Michael Marshall (MARSHALL%PLU@io.arc.nasa.gov)\n",
    "    :Date: July, 1988\n",
    "\n",
    "This is a copy of UCI ML Wine recognition datasets.\n",
    "https://archive.ics.uci.edu/ml/machine-learning-databases/wine/wine.data\n",
    "\n",
    "The data is the results of a chemical analysis of wines grown in the same\n",
    "region in Italy by three different cultivators. There are thirteen different\n",
    "measurements taken for different constituents found in the three types of\n",
    "wine.\n",
    "\n",
    "Original Owners: \n",
    "\n",
    "Forina, M. et al, PARVUS - \n",
    "An Extendible Package for Data Exploration, Classification and Correlation. \n",
    "Institute of Pharmaceutical and Food Analysis and Technologies,\n",
    "Via Brigata Salerno, 16147 Genoa, Italy.\n",
    "\n",
    "Citation:\n",
    "\n",
    "Lichman, M. (2013). UCI Machine Learning Repository\n",
    "[https://archive.ics.uci.edu/ml]. Irvine, CA: University of California,\n",
    "School of Information and Computer Science. "
   ]
  },
  {
   "cell_type": "markdown",
   "metadata": {},
   "source": [
    "You must evaluate the next cell to do the problems in this section."
   ]
  },
  {
   "cell_type": "code",
   "execution_count": 10,
   "metadata": {},
   "outputs": [],
   "source": [
    "# Data Cell\n",
    "\n",
    "from sklearn.datasets import load_wine\n",
    "wdata = load_wine()\n",
    "data = wdata.data\n",
    "target = wdata.target"
   ]
  },
  {
   "cell_type": "markdown",
   "metadata": {},
   "source": [
    "**4.0**  \n",
    "\n",
    "Write a Python expression that returns s Boolean array defining\n",
    "the set of rows of the `data` array with magnesium level greater than 99.7  and \n",
    "Proanthocyanins level less than 1.59."
   ]
  },
  {
   "cell_type": "code",
   "execution_count": null,
   "metadata": {},
   "outputs": [],
   "source": []
  },
  {
   "cell_type": "markdown",
   "metadata": {},
   "source": [
    "**4.1**\n",
    "\n",
    "Write a Python expression that returns the rows of the `data` array \n",
    "representing  wine samples with  magnesium level greater than 99.7  and \n",
    "Proanthocyanins level less than 1.59."
   ]
  },
  {
   "cell_type": "code",
   "execution_count": null,
   "metadata": {},
   "outputs": [],
   "source": []
  },
  {
   "cell_type": "markdown",
   "metadata": {},
   "source": [
    "**4.2**\n",
    "\n",
    "How many such rows are there?  Show the computation."
   ]
  },
  {
   "cell_type": "code",
   "execution_count": null,
   "metadata": {},
   "outputs": [],
   "source": []
  },
  {
   "cell_type": "markdown",
   "metadata": {},
   "source": [
    "**4.3**\n",
    "\n",
    "Write a Python expression that returns the rows of the `data` array \n",
    "representing wine samples such that they are not of class_1 and they\n",
    "have magnesium level greater than 99.7  and \n",
    "Proanthocyanins level less than 1.59."
   ]
  },
  {
   "cell_type": "code",
   "execution_count": null,
   "metadata": {},
   "outputs": [],
   "source": []
  },
  {
   "cell_type": "markdown",
   "metadata": {},
   "source": [
    "**4.4**\n",
    "\n",
    "How many such rows are there?  Show the computation."
   ]
  },
  {
   "cell_type": "code",
   "execution_count": null,
   "metadata": {},
   "outputs": [],
   "source": []
  }
 ],
 "metadata": {
  "colab": {
   "name": "Boolean_exercises_in_numpy.ipynb",
   "provenance": []
  },
  "kernelspec": {
   "display_name": "Python 3",
   "language": "python",
   "name": "python3"
  },
  "language_info": {
   "codemirror_mode": {
    "name": "ipython",
    "version": 3
   },
   "file_extension": ".py",
   "mimetype": "text/x-python",
   "name": "python",
   "nbconvert_exporter": "python",
   "pygments_lexer": "ipython3",
   "version": "3.8.5"
  }
 },
 "nbformat": 4,
 "nbformat_minor": 1
}
