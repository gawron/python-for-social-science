{
 "cells": [
  {
   "cell_type": "markdown",
   "id": "4cf2bc3f",
   "metadata": {
    "colab_type": "text",
    "id": "tGPIke-W0FK6"
   },
   "source": [
    "## Fast and slow array creation"
   ]
  },
  {
   "cell_type": "markdown",
   "id": "787846f6",
   "metadata": {
    "colab_type": "text",
    "id": "T0faMUuiPhO-"
   },
   "source": [
    "Here are two methods of filling in an array, one with a loop, another with the `numpy` builtin `np.fromfunction`, which needs a two argument function that will return the desired value for cell `[i,j]` in the array when given the two arguments $i$ and $j$."
   ]
  },
  {
   "cell_type": "markdown",
   "id": "4a898bce",
   "metadata": {},
   "source": [
    "#### Code for timing test"
   ]
  },
  {
   "cell_type": "code",
   "execution_count": 165,
   "id": "0f282492",
   "metadata": {
    "colab": {
     "base_uri": "https://localhost:8080/",
     "height": 51
    },
    "colab_type": "code",
    "id": "AwDWWIlv0658",
    "outputId": "be7bc5e0-58e1-4063-ff1d-85cc050e8899"
   },
   "outputs": [],
   "source": [
    "import numpy as np\n",
    "import time\n",
    "\n",
    "num_iters = 100\n",
    "(rows, cols) = (768,1024)\n",
    "\n",
    "\n",
    "# The function used to fill the array.\n",
    "def f (x,y):\n",
    "    return (10*x) + y\n",
    "# Alternative, equivalent syntax for defining f\n",
    "#f = lambda x,y: (10*x) + y\n",
    "\n",
    "def get_avg_duration(start, num_iters):\n",
    "    return (time.time() - start)/num_iters\n",
    "\n",
    "def method_A ():\n",
    "    # Use a double loop to fill X\n",
    "    X = np.zeros( (rows,cols), dtype=int )\n",
    "    for i in range(rows):\n",
    "        for j in range(cols):\n",
    "            X[i,j] = f(i,j)\n",
    "            \n",
    "def method_B ():\n",
    "    # Use np.fromfunction \n",
    "    X = np.fromfunction(f,(rows,cols))"
   ]
  },
  {
   "cell_type": "code",
   "execution_count": 173,
   "id": "806df53a",
   "metadata": {
    "colab": {
     "base_uri": "https://localhost:8080/",
     "height": 51
    },
    "colab_type": "code",
    "id": "AwDWWIlv0658",
    "outputId": "be7bc5e0-58e1-4063-ff1d-85cc050e8899"
   },
   "outputs": [
    {
     "name": "stdout",
     "output_type": "stream",
     "text": [
      "A: 0.194 secs/iter\n"
     ]
    }
   ],
   "source": [
    "# Timing test: Method A\n",
    "start = time.time()\n",
    "for iter_num in range(num_iters):\n",
    "    method_A()\n",
    "\n",
    "avg_A = get_avg_duration(start, num_iters)\n",
    "print(f'A: {avg_A:.3f} secs/iter')"
   ]
  },
  {
   "cell_type": "code",
   "execution_count": 174,
   "id": "b26ac48c",
   "metadata": {
    "colab": {
     "base_uri": "https://localhost:8080/",
     "height": 51
    },
    "colab_type": "code",
    "id": "AwDWWIlv0658",
    "outputId": "be7bc5e0-58e1-4063-ff1d-85cc050e8899"
   },
   "outputs": [
    {
     "name": "stdout",
     "output_type": "stream",
     "text": [
      "B: 0.004 secs/iter\n"
     ]
    }
   ],
   "source": [
    "# Timing test: Method B\n",
    "start = time.time()\n",
    "for iter_num in range(num_iters):\n",
    "    method_B()\n",
    "\n",
    "avg_B = get_avg_duration(start, num_iters)\n",
    "print(f'B: {avg_B:.3f} secs/iter')"
   ]
  },
  {
   "cell_type": "code",
   "execution_count": 175,
   "id": "e965f6a1",
   "metadata": {},
   "outputs": [
    {
     "data": {
      "text/plain": [
       "54.64839272481685"
      ]
     },
     "execution_count": 175,
     "metadata": {},
     "output_type": "execute_result"
    }
   ],
   "source": [
    "avg_A/avg_B"
   ]
  },
  {
   "cell_type": "markdown",
   "id": "80e5f8ee",
   "metadata": {
    "colab_type": "text",
    "id": "h4xipcim2Zlp"
   },
   "source": [
    "The result on my machine was that using `np.fromfunction`  is around 50 times faster.  Try it on yours.\n",
    "\n",
    "Note a key point here.  The differences between these two ways of array filling are dependent on the sizes of the arrays being filled.  The same code run with small (for example, 4x5) arrays is a virtual tie."
   ]
  },
  {
   "cell_type": "code",
   "execution_count": null,
   "id": "538b29d2",
   "metadata": {},
   "outputs": [],
   "source": []
  }
 ],
 "metadata": {
  "kernelspec": {
   "display_name": "Python 3 (ipykernel)",
   "language": "python",
   "name": "python3"
  },
  "language_info": {
   "codemirror_mode": {
    "name": "ipython",
    "version": 3
   },
   "file_extension": ".py",
   "mimetype": "text/x-python",
   "name": "python",
   "nbconvert_exporter": "python",
   "pygments_lexer": "ipython3",
   "version": "3.10.6"
  }
 },
 "nbformat": 4,
 "nbformat_minor": 5
}
