{
 "cells": [
  {
   "cell_type": "markdown",
   "metadata": {
    "colab": {},
    "colab_type": "code",
    "id": "LXs4hfRjwmqL"
   },
   "source": [
    "# Part 1 Containers   28 POINTS"
   ]
  },
  {
   "cell_type": "markdown",
   "metadata": {},
   "source": [
    "You must execute the next cell, which we will refer to as the **data cell**, to do the problems in this section."
   ]
  },
  {
   "cell_type": "code",
   "execution_count": 1,
   "metadata": {},
   "outputs": [],
   "source": [
    "# Data cell\n",
    "\n",
    "epsilon_left = 'abcde'\n",
    "epsilon_right = 'zyxwv'\n",
    "epsilon = list(zip(epsilon_right,epsilon_left))\n",
    "fruit = ['tomato','cabbage','rambutan','persimmon','mangosteen']\n",
    "frittata = {'alpha': epsilon_right + epsilon_left,\n",
    "            'beta': epsilon_left + epsilon_right,\n",
    "            'delta': fruit,\n",
    "            'gamma': dict(epsilon)}"
   ]
  },
  {
   "cell_type": "markdown",
   "metadata": {},
   "source": [
    "Using the containers in the data cell, write a single Python expression (so, **not** a for-loop) which returns the given values.  Sometimes there are actually many possible answers.  Try for the simplest."
   ]
  },
  {
   "cell_type": "markdown",
   "metadata": {},
   "source": [
    "### 1.1  4 POINTS\n",
    "\n",
    "Return '`de`'"
   ]
  },
  {
   "cell_type": "code",
   "execution_count": 9,
   "metadata": {
    "scrolled": true
   },
   "outputs": [
    {
     "data": {
      "text/plain": [
       "'de'"
      ]
     },
     "execution_count": 9,
     "metadata": {},
     "output_type": "execute_result"
    }
   ],
   "source": [
    "epsilon_left[-2:]"
   ]
  },
  {
   "cell_type": "markdown",
   "metadata": {},
   "source": [
    "### 1.2   4 POINTS\n",
    "\n",
    "Return '`wvab`'"
   ]
  },
  {
   "cell_type": "code",
   "execution_count": 2,
   "metadata": {},
   "outputs": [
    {
     "data": {
      "text/plain": [
       "'wvab'"
      ]
     },
     "execution_count": 2,
     "metadata": {},
     "output_type": "execute_result"
    }
   ],
   "source": [
    "frittata['alpha'][3:7]"
   ]
  },
  {
   "cell_type": "code",
   "execution_count": 3,
   "metadata": {},
   "outputs": [
    {
     "data": {
      "text/plain": [
       "'wvab'"
      ]
     },
     "execution_count": 3,
     "metadata": {},
     "output_type": "execute_result"
    }
   ],
   "source": [
    "epsilon_right[-2:] + epsilon_left[:2]"
   ]
  },
  {
   "cell_type": "markdown",
   "metadata": {},
   "source": [
    "### 1.3   4 POINTS\n",
    "\n",
    "Return `'rambutan'`."
   ]
  },
  {
   "cell_type": "code",
   "execution_count": 13,
   "metadata": {},
   "outputs": [
    {
     "data": {
      "text/plain": [
       "'rambutan'"
      ]
     },
     "execution_count": 13,
     "metadata": {},
     "output_type": "execute_result"
    }
   ],
   "source": [
    "fruit[2]"
   ]
  },
  {
   "cell_type": "markdown",
   "metadata": {},
   "source": [
    "### 1.4    4 POINTS\n",
    "\n",
    "Return '`sim`'"
   ]
  },
  {
   "cell_type": "code",
   "execution_count": 12,
   "metadata": {},
   "outputs": [
    {
     "data": {
      "text/plain": [
       "'sim'"
      ]
     },
     "execution_count": 12,
     "metadata": {},
     "output_type": "execute_result"
    }
   ],
   "source": [
    "frittata['delta'][3][3:6]"
   ]
  },
  {
   "cell_type": "code",
   "execution_count": 4,
   "metadata": {},
   "outputs": [
    {
     "data": {
      "text/plain": [
       "'sim'"
      ]
     },
     "execution_count": 4,
     "metadata": {},
     "output_type": "execute_result"
    }
   ],
   "source": [
    "fruit[3][3:6]"
   ]
  },
  {
   "cell_type": "markdown",
   "metadata": {},
   "source": [
    "### 1.5  4 POINTS\n",
    "\n",
    "Return {'z': 'a', 'y': 'b', 'x': 'c', 'w': 'd', 'v': 'e'}"
   ]
  },
  {
   "cell_type": "code",
   "execution_count": 15,
   "metadata": {},
   "outputs": [
    {
     "data": {
      "text/plain": [
       "{'z': 'a', 'y': 'b', 'x': 'c', 'w': 'd', 'v': 'e'}"
      ]
     },
     "execution_count": 15,
     "metadata": {},
     "output_type": "execute_result"
    }
   ],
   "source": [
    "frittata['gamma']"
   ]
  },
  {
   "cell_type": "markdown",
   "metadata": {},
   "source": [
    "### 1.6   4 POINTS\n",
    "\n",
    "Return \n",
    "\n",
    "`[('x', 'c'), ('w', 'd')]`"
   ]
  },
  {
   "cell_type": "code",
   "execution_count": 16,
   "metadata": {},
   "outputs": [
    {
     "data": {
      "text/plain": [
       "[('x', 'c'), ('w', 'd')]"
      ]
     },
     "execution_count": 16,
     "metadata": {},
     "output_type": "execute_result"
    }
   ],
   "source": [
    "epsilon[2:4]"
   ]
  },
  {
   "cell_type": "markdown",
   "metadata": {},
   "source": [
    "### 1.7   4 POINTS\n",
    "\n",
    "Compare the results in the next two cells.\n",
    "\n",
    "Explain why one expression raises an `Exception` and the other does not, even\n",
    "though both involve accessing data defined in `epsilon`."
   ]
  },
  {
   "cell_type": "code",
   "execution_count": 20,
   "metadata": {
    "scrolled": true
   },
   "outputs": [
    {
     "ename": "TypeError",
     "evalue": "list indices must be integers or slices, not str",
     "output_type": "error",
     "traceback": [
      "\u001b[0;31m---------------------------------------------------------------------------\u001b[0m",
      "\u001b[0;31mTypeError\u001b[0m                                 Traceback (most recent call last)",
      "\u001b[0;32m<ipython-input-20-c9f258740a6f>\u001b[0m in \u001b[0;36m<module>\u001b[0;34m\u001b[0m\n\u001b[0;32m----> 1\u001b[0;31m \u001b[0mepsilon\u001b[0m\u001b[0;34m[\u001b[0m\u001b[0;34m'x'\u001b[0m\u001b[0;34m]\u001b[0m\u001b[0;34m\u001b[0m\u001b[0;34m\u001b[0m\u001b[0m\n\u001b[0m",
      "\u001b[0;31mTypeError\u001b[0m: list indices must be integers or slices, not str"
     ]
    }
   ],
   "source": [
    "epsilon['x']"
   ]
  },
  {
   "cell_type": "code",
   "execution_count": 19,
   "metadata": {},
   "outputs": [
    {
     "data": {
      "text/plain": [
       "'c'"
      ]
     },
     "execution_count": 19,
     "metadata": {},
     "output_type": "execute_result"
    }
   ],
   "source": [
    "frittata['gamma']['x']"
   ]
  },
  {
   "cell_type": "markdown",
   "metadata": {},
   "source": [
    "# Part 2 Functions, Loops  24 POINTS"
   ]
  },
  {
   "cell_type": "markdown",
   "metadata": {},
   "source": [
    "You must execute the data cell to do the problems in this section."
   ]
  },
  {
   "cell_type": "code",
   "execution_count": 6,
   "metadata": {},
   "outputs": [],
   "source": [
    "# Data cell\n",
    "\n",
    "import numpy as np\n",
    "\n",
    "xx = np.arange(0,26,4)\n",
    "\n",
    "sad_story = \"\"\"Billy the Kid lived in the Wild West long ago .\n",
    "He was an outlaw .\n",
    "He was friends with Pat Garrett who was a lawman .\n",
    "One day Pat Garrett had to bring Billy the Kid in .\n",
    "Billy would not come .\n",
    "They had a gunfight and Pat shot his friend Billy .\n",
    "\"\"\""
   ]
  },
  {
   "cell_type": "markdown",
   "metadata": {},
   "source": [
    "###  2.1   4 POINTS\n",
    "\n",
    "Write a loop (it can be a list comprehension) that computes a list of the numbers in `xx` that arew divisible by 3.\n",
    "\n",
    "Do not import any python packages to help (that would suggest that you have\n",
    "not been doing the material in the first part of the class and have done a google search to solve this problem).\n",
    "\n",
    "You may find it useful to be reminded of the `%`-operator:\n",
    "\n",
    "x%y\n",
    "\n",
    "returns the remainder when x is divided by y.  So, for example,\n",
    "\n",
    "```\n",
    ">>> 17%5\n",
    "2\n",
    "```\n",
    "\n",
    "Note: although `xx` is a numpy array, for the purposes of this section you\n",
    "may treat it as if it were a list."
   ]
  },
  {
   "cell_type": "code",
   "execution_count": 26,
   "metadata": {
    "scrolled": true
   },
   "outputs": [
    {
     "data": {
      "text/plain": [
       "[0, 12, 24]"
      ]
     },
     "execution_count": 26,
     "metadata": {},
     "output_type": "execute_result"
    }
   ],
   "source": [
    "[x for x in xx if x%3 ==0]"
   ]
  },
  {
   "cell_type": "markdown",
   "metadata": {},
   "source": [
    "###  2.2    4 POINTS\n",
    "\n",
    "Write a for-loop (it may be a list comprehension) that builds a list containing all instances of the letter  `t` in `sad_story`"
   ]
  },
  {
   "cell_type": "code",
   "execution_count": 28,
   "metadata": {},
   "outputs": [
    {
     "data": {
      "text/plain": [
       "['t',\n",
       " 't',\n",
       " 't',\n",
       " 't',\n",
       " 't',\n",
       " 't',\n",
       " 't',\n",
       " 't',\n",
       " 't',\n",
       " 't',\n",
       " 't',\n",
       " 't',\n",
       " 't',\n",
       " 't',\n",
       " 't',\n",
       " 't',\n",
       " 't']"
      ]
     },
     "execution_count": 28,
     "metadata": {},
     "output_type": "execute_result"
    }
   ],
   "source": [
    "[l for l in sad_story if l == 't']"
   ]
  },
  {
   "cell_type": "markdown",
   "metadata": {},
   "source": [
    "### 2.3   4 POINTS\n",
    "\n",
    "Write a for-loop (it may be a list comprehension) that builds a list containing all instances of the word  `the` in `sad_story`."
   ]
  },
  {
   "cell_type": "code",
   "execution_count": 29,
   "metadata": {},
   "outputs": [
    {
     "data": {
      "text/plain": [
       "['the', 'the', 'the']"
      ]
     },
     "execution_count": 29,
     "metadata": {},
     "output_type": "execute_result"
    }
   ],
   "source": [
    "[w for w in sad_story.split() if w == 'the']"
   ]
  },
  {
   "cell_type": "markdown",
   "metadata": {},
   "source": [
    "### 2.4    4 POINTS\n",
    "\n",
    "Write a for loop that creates a dictionary containing the counts of all the words\n",
    "in `sad_story`.  Do not import any Python modules. \n",
    "\n",
    "Call your dictonary `wd_cts`.  If your program is correct `wd_cts`\n",
    "should contain the following count:\n",
    "\n",
    "```\n",
    ">>> wd_counts['in']\n",
    "2\n",
    "```"
   ]
  },
  {
   "cell_type": "code",
   "execution_count": 7,
   "metadata": {},
   "outputs": [
    {
     "data": {
      "text/plain": [
       "2"
      ]
     },
     "execution_count": 7,
     "metadata": {},
     "output_type": "execute_result"
    }
   ],
   "source": [
    "wd_cts = dict()\n",
    "for wd in sad_story.split():\n",
    "    if wd in wd_cts:\n",
    "        wd_cts[wd] += 1\n",
    "    else:\n",
    "        wd_cts[wd] = 1\n",
    "\n",
    "wd_cts['in']"
   ]
  },
  {
   "cell_type": "code",
   "execution_count": 8,
   "metadata": {},
   "outputs": [
    {
     "data": {
      "text/plain": [
       "{'Billy': 4,\n",
       " 'the': 3,\n",
       " 'Kid': 2,\n",
       " 'lived': 1,\n",
       " 'in': 2,\n",
       " 'Wild': 1,\n",
       " 'West': 1,\n",
       " 'long': 1,\n",
       " 'ago': 1,\n",
       " '.': 6,\n",
       " 'He': 2,\n",
       " 'was': 3,\n",
       " 'an': 1,\n",
       " 'outlaw': 1,\n",
       " 'friends': 1,\n",
       " 'with': 1,\n",
       " 'Pat': 3,\n",
       " 'Garrett': 2,\n",
       " 'who': 1,\n",
       " 'a': 2,\n",
       " 'lawman': 1,\n",
       " 'One': 1,\n",
       " 'day': 1,\n",
       " 'had': 2,\n",
       " 'to': 1,\n",
       " 'bring': 1,\n",
       " 'would': 1,\n",
       " 'not': 1,\n",
       " 'come': 1,\n",
       " 'They': 1,\n",
       " 'gunfight': 1,\n",
       " 'and': 1,\n",
       " 'shot': 1,\n",
       " 'his': 1,\n",
       " 'friend': 1}"
      ]
     },
     "execution_count": 8,
     "metadata": {},
     "output_type": "execute_result"
    }
   ],
   "source": [
    "wd_cts"
   ]
  },
  {
   "cell_type": "markdown",
   "metadata": {},
   "source": [
    "###  2.5   4 POINTS\n",
    "\n",
    "Write a **function** `find_word_forms` that takes a string `text_str` and a word `form` as its **two** arguments and returns all **words** in `text_str` that end with `form`.\n",
    "Write this without importing any Python modules.\n",
    "\n",
    "Here are some tests that your function should pass:\n",
    "\n",
    "```\n",
    ">>> find_word_forms(sad_story, 'ing')\n",
    "['bring']\n",
    ">>> find_word_forms(sad_story, 'ed')\n",
    "['lived']\n",
    ">>> find_word_forms(\"He 's sending birds on the wing .\", 'ing')\n",
    "['sending', 'wing']\n",
    ">>> find_word_forms(sad_story, 'g')\n",
    "['long', 'bring']\n",
    "```\n",
    "\n",
    "Hint:  You may find it helpful to remember the\n",
    "string method `endswith`."
   ]
  },
  {
   "cell_type": "code",
   "execution_count": 33,
   "metadata": {},
   "outputs": [],
   "source": [
    "def find_word_forms (text_str, form):\n",
    "    return [wd for wd in text_str.split() if wd.endswith(form)]"
   ]
  },
  {
   "cell_type": "markdown",
   "metadata": {},
   "source": [
    "### 2.6   4 POINTS\n",
    "\n",
    "Write a function that converts degrees to radians. You are allowed\n",
    "to use the following import statement:\n",
    "\n",
    "```\n",
    "from numpy import pi\n",
    "```\n",
    "\n",
    "The formula is\n",
    "\n",
    "```\n",
    "Radians = (Degrees/360) * 2 * pi\n",
    "```\n",
    "\n",
    "Here are some tests\n",
    "\n",
    "```\n",
    ">>> deg2rad(360)\n",
    "6.283185307179586\n",
    ">>> deg2rad(90)\n",
    "1.5707963267948966\n",
    ">>> deg2rad(72)\n",
    "1.2566370614359172\n",
    "```"
   ]
  },
  {
   "cell_type": "code",
   "execution_count": 109,
   "metadata": {},
   "outputs": [],
   "source": [
    "from numpy import pi\n",
    "\n",
    "def deg2rad (deg):\n",
    "    return (deg/360) * 2 * pi"
   ]
  },
  {
   "cell_type": "markdown",
   "metadata": {},
   "source": [
    "# Part 3 Numpy arrays    24 POINTS"
   ]
  },
  {
   "cell_type": "markdown",
   "metadata": {},
   "source": [
    "You must execute the next cell to do the problems in this section."
   ]
  },
  {
   "cell_type": "code",
   "execution_count": 56,
   "metadata": {},
   "outputs": [],
   "source": [
    "# Data cell\n",
    "\n",
    "import numpy as np\n",
    "\n",
    "xx = np.arange(4,61,4)\n",
    "\n",
    "yy = xx.reshape((3,5))"
   ]
  },
  {
   "cell_type": "markdown",
   "metadata": {},
   "source": [
    "### 3.1    4 POINTS\n",
    "\n",
    "Write a single Python expression that returns 12 from `xx`"
   ]
  },
  {
   "cell_type": "code",
   "execution_count": 58,
   "metadata": {},
   "outputs": [
    {
     "data": {
      "text/plain": [
       "12"
      ]
     },
     "execution_count": 58,
     "metadata": {},
     "output_type": "execute_result"
    }
   ],
   "source": [
    "xx[2]"
   ]
  },
  {
   "cell_type": "markdown",
   "metadata": {},
   "source": [
    "### 3.2    4 POINTS\n",
    "\n",
    "Write a single Python expression  that returns all members of `xx` divisible by 8.\n",
    "Hint: Use a splice."
   ]
  },
  {
   "cell_type": "code",
   "execution_count": 60,
   "metadata": {},
   "outputs": [
    {
     "data": {
      "text/plain": [
       "array([ 8, 16, 24, 32, 40, 48, 56])"
      ]
     },
     "execution_count": 60,
     "metadata": {},
     "output_type": "execute_result"
    }
   ],
   "source": [
    "xx[1::2]"
   ]
  },
  {
   "cell_type": "markdown",
   "metadata": {},
   "source": [
    "###  3.3 4 POINTS\n",
    "\n",
    "Write a single Python expression  that returns all members of `xx` \n",
    "greater than 16.  You may use a splice if you wish."
   ]
  },
  {
   "cell_type": "code",
   "execution_count": 68,
   "metadata": {},
   "outputs": [
    {
     "data": {
      "text/plain": [
       "array([20, 24, 28, 32, 36, 40, 44, 48, 52, 56, 60])"
      ]
     },
     "execution_count": 68,
     "metadata": {},
     "output_type": "execute_result"
    }
   ],
   "source": [
    "xx[4:]"
   ]
  },
  {
   "cell_type": "markdown",
   "metadata": {},
   "source": [
    "### 3.4   4 POINTS\n",
    "\n",
    "Write a single Python expression  that returns the following\n",
    "1D array from `yy`.\n",
    "\n",
    "```\n",
    "array([24, 28, 32, 36, 40])\n",
    "```"
   ]
  },
  {
   "cell_type": "code",
   "execution_count": 67,
   "metadata": {},
   "outputs": [
    {
     "data": {
      "text/plain": [
       "array([24, 28, 32, 36, 40])"
      ]
     },
     "execution_count": 67,
     "metadata": {},
     "output_type": "execute_result"
    }
   ],
   "source": [
    "yy[1]"
   ]
  },
  {
   "cell_type": "markdown",
   "metadata": {},
   "source": [
    "### 3.5 4 POINTS\n",
    "\n",
    "Write a single Python expression  that returns the following\n",
    "2D array from `yy`.\n",
    "\n",
    "```\n",
    "array([[ 4,  8, 12, 16, 20],\n",
    "       [24, 28, 32, 36, 40]])\n",
    "```"
   ]
  },
  {
   "cell_type": "code",
   "execution_count": 66,
   "metadata": {
    "scrolled": true
   },
   "outputs": [
    {
     "data": {
      "text/plain": [
       "array([[ 4,  8, 12, 16, 20],\n",
       "       [24, 28, 32, 36, 40]])"
      ]
     },
     "execution_count": 66,
     "metadata": {},
     "output_type": "execute_result"
    }
   ],
   "source": [
    "yy[:2]"
   ]
  },
  {
   "cell_type": "markdown",
   "metadata": {},
   "source": [
    "### 3.6    4 POINTS\n",
    "\n",
    "Write a single Python expression  that returns the following\n",
    "2D array from `yy`.\n",
    "\n",
    "```\n",
    "array([[32, 36],\n",
    "       [52, 56]])\n",
    "```"
   ]
  },
  {
   "cell_type": "code",
   "execution_count": 65,
   "metadata": {},
   "outputs": [
    {
     "data": {
      "text/plain": [
       "array([[32, 36],\n",
       "       [52, 56]])"
      ]
     },
     "execution_count": 65,
     "metadata": {},
     "output_type": "execute_result"
    }
   ],
   "source": [
    "yy[1:3, 2:4]"
   ]
  },
  {
   "cell_type": "markdown",
   "metadata": {
    "colab_type": "text",
    "id": "HuGC8V_kxKtK"
   },
   "source": [
    "# Part 4  Wine Data  24 POINTS\n",
    "\n",
    "\n",
    "\n",
    "In this exercise set, we load wine data. This is a multi class dataset that has data for three different wine types  (stored in `target` below) corresponding to three\n",
    "different cultivators in a particular region of Italy.  These will just\n",
    "be referred to as class_1 calss_2 and class_3 in the description below\n",
    "and in the questions.\n",
    "The chemical properties of the wine stored in the 2D numpy array `data` below are sufficient to identity the cultivator, but it's a challenging classification problem."
   ]
  },
  {
   "cell_type": "markdown",
   "metadata": {},
   "source": [
    "Wine recognition dataset\n",
    "-----------------------------\n",
    "\n",
    "**Data Set Characteristics:**\n",
    "\n",
    "    :Number of Instances: 178\n",
    "    :Number of Attributes: 13 numeric, predictive attributes and the class\n",
    "    :Attribute Information:\n",
    " \t\t- Alcohol\n",
    " \t\t- Malic acid\n",
    " \t\t- Ash\n",
    "\t\t- Alcalinity of ash  \n",
    " \t\t- Magnesium\n",
    "\t\t- Total phenols\n",
    " \t\t- Flavanoids\n",
    " \t\t- Nonflavanoid phenols\n",
    " \t\t- Proanthocyanins\n",
    "\t\t- Color intensity\n",
    " \t\t- Hue\n",
    " \t\t- OD280/OD315 of diluted wines\n",
    " \t\t- Proline\n",
    "\n",
    "    - class:\n",
    "            - class_0\n",
    "            - class_1\n",
    "            - class_2\n",
    "\t\t\n",
    "     \n",
    "    The wine atributes listed in their column order.\n",
    "    \n",
    "    ============================= ==== ===== ======= =====\n",
    "                                   Min   Max   Mean     SD\n",
    "    ============================= ==== ===== ======= =====\n",
    "    Alcohol:                      11.0  14.8    13.0   0.8\n",
    "    Malic Acid:                   0.74  5.80    2.34  1.12\n",
    "    Ash:                          1.36  3.23    2.36  0.27\n",
    "    Alcalinity of Ash:            10.6  30.0    19.5   3.3\n",
    "    Magnesium:                    70.0 162.0    99.7  14.3\n",
    "    Total Phenols:                0.98  3.88    2.29  0.63\n",
    "    Flavanoids:                   0.34  5.08    2.03  1.00\n",
    "    Nonflavanoid Phenols:         0.13  0.66    0.36  0.12\n",
    "    Proanthocyanins:              0.41  3.58    1.59  0.57\n",
    "    Colour Intensity:              1.3  13.0     5.1   2.3\n",
    "    Hue:                          0.48  1.71    0.96  0.23\n",
    "    OD280/OD315 of diluted wines: 1.27  4.00    2.61  0.71\n",
    "    Proline:                       278  1680     746   315\n",
    "    ============================= ==== ===== ======= =====\n",
    "\n",
    "    :Missing Attribute Values: None\n",
    "    :Class Distribution: class_0 (59), class_1 (71), class_2 (48)\n",
    "    :Creator: R.A. Fisher\n",
    "    :Donor: Michael Marshall (MARSHALL%PLU@io.arc.nasa.gov)\n",
    "    :Date: July, 1988\n",
    "\n",
    "This is a copy of UCI ML Wine recognition datasets.\n",
    "https://archive.ics.uci.edu/ml/machine-learning-databases/wine/wine.data\n",
    "\n",
    "The data is the results of a chemical analysis of wines grown in the same\n",
    "region in Italy by three different cultivators. There are thirteen different\n",
    "measurements taken for different constituents found in the three types of\n",
    "wine.\n",
    "\n",
    "Original Owners: \n",
    "\n",
    "Forina, M. et al, PARVUS - \n",
    "An Extendible Package for Data Exploration, Classification and Correlation. \n",
    "Institute of Pharmaceutical and Food Analysis and Technologies,\n",
    "Via Brigata Salerno, 16147 Genoa, Italy.\n",
    "\n",
    "Citation:\n",
    "\n",
    "Lichman, M. (2013). UCI Machine Learning Repository\n",
    "[https://archive.ics.uci.edu/ml]. Irvine, CA: University of California,\n",
    "School of Information and Computer Science. "
   ]
  },
  {
   "cell_type": "markdown",
   "metadata": {},
   "source": [
    "You must evaluate the next cell to do the problems in this section."
   ]
  },
  {
   "cell_type": "code",
   "execution_count": 84,
   "metadata": {},
   "outputs": [],
   "source": [
    "# Data cell\n",
    "\n",
    "from sklearn.datasets import load_wine\n",
    "wdata = load_wine()\n",
    "data = wdata.data\n",
    "target = wdata.target"
   ]
  },
  {
   "cell_type": "code",
   "execution_count": null,
   "metadata": {},
   "outputs": [],
   "source": []
  },
  {
   "cell_type": "markdown",
   "metadata": {},
   "source": [
    "### 4.0   4 POINTS\n",
    "\n",
    "Write a Python expression that returns s Boolean array defining\n",
    "the set of rows of the `data` array with magnesium level greater than 99.7  and \n",
    "Proanthocyanins level less than 1.59."
   ]
  },
  {
   "cell_type": "code",
   "execution_count": 78,
   "metadata": {},
   "outputs": [],
   "source": [
    "B4_1 = (data[:,4] > 99.7) & (data[:,8] < 1.59)"
   ]
  },
  {
   "cell_type": "markdown",
   "metadata": {},
   "source": [
    "### 4.1 5 POINTS\n",
    "\n",
    "Write a Python expression that returns the rows of the `data` array \n",
    "representing  wine samples with  magnesium level greater than 99.7  and \n",
    "Proanthocyanins level less than 1.59."
   ]
  },
  {
   "cell_type": "code",
   "execution_count": 81,
   "metadata": {},
   "outputs": [],
   "source": [
    "data[B4_1]"
   ]
  },
  {
   "cell_type": "markdown",
   "metadata": {},
   "source": [
    "### 4.2  5 POINTS\n",
    "\n",
    "How many such rows are there?"
   ]
  },
  {
   "cell_type": "code",
   "execution_count": 80,
   "metadata": {},
   "outputs": [
    {
     "data": {
      "text/plain": [
       "35"
      ]
     },
     "execution_count": 80,
     "metadata": {},
     "output_type": "execute_result"
    }
   ],
   "source": [
    "B4_1.sum()"
   ]
  },
  {
   "cell_type": "markdown",
   "metadata": {},
   "source": [
    "### 4.3 5 POINTS\n",
    "\n",
    "Write a Python expression that returns the rows of the `data` array \n",
    "representing wine samples such that they are not of class_1 and they\n",
    "have magnesium level greater than 99.7  and \n",
    "Proanthocyanins level less than 1.59."
   ]
  },
  {
   "cell_type": "code",
   "execution_count": 82,
   "metadata": {},
   "outputs": [
    {
     "data": {
      "text/plain": [
       "array([[1.320e+01, 1.780e+00, 2.140e+00, 1.120e+01, 1.000e+02, 2.650e+00,\n",
       "        2.760e+00, 2.600e-01, 1.280e+00, 4.380e+00, 1.050e+00, 3.400e+00,\n",
       "        1.050e+03],\n",
       "       [1.406e+01, 2.150e+00, 2.610e+00, 1.760e+01, 1.210e+02, 2.600e+00,\n",
       "        2.510e+00, 3.100e-01, 1.250e+00, 5.050e+00, 1.060e+00, 3.580e+00,\n",
       "        1.295e+03],\n",
       "       [1.363e+01, 1.810e+00, 2.700e+00, 1.720e+01, 1.120e+02, 2.850e+00,\n",
       "        2.910e+00, 3.000e-01, 1.460e+00, 7.300e+00, 1.280e+00, 2.880e+00,\n",
       "        1.310e+03],\n",
       "       [1.376e+01, 1.530e+00, 2.700e+00, 1.950e+01, 1.320e+02, 2.950e+00,\n",
       "        2.740e+00, 5.000e-01, 1.350e+00, 5.400e+00, 1.250e+00, 3.000e+00,\n",
       "        1.235e+03],\n",
       "       [1.351e+01, 1.800e+00, 2.650e+00, 1.900e+01, 1.100e+02, 2.350e+00,\n",
       "        2.530e+00, 2.900e-01, 1.540e+00, 4.200e+00, 1.100e+00, 2.870e+00,\n",
       "        1.095e+03],\n",
       "       [1.328e+01, 1.640e+00, 2.840e+00, 1.550e+01, 1.100e+02, 2.600e+00,\n",
       "        2.680e+00, 3.400e-01, 1.360e+00, 4.600e+00, 1.090e+00, 2.780e+00,\n",
       "        8.800e+02],\n",
       "       [1.421e+01, 4.040e+00, 2.440e+00, 1.890e+01, 1.110e+02, 2.850e+00,\n",
       "        2.650e+00, 3.000e-01, 1.250e+00, 5.240e+00, 8.700e-01, 3.330e+00,\n",
       "        1.080e+03],\n",
       "       [1.286e+01, 1.350e+00, 2.320e+00, 1.800e+01, 1.220e+02, 1.510e+00,\n",
       "        1.250e+00, 2.100e-01, 9.400e-01, 4.100e+00, 7.600e-01, 1.290e+00,\n",
       "        6.300e+02],\n",
       "       [1.288e+01, 2.990e+00, 2.400e+00, 2.000e+01, 1.040e+02, 1.300e+00,\n",
       "        1.220e+00, 2.400e-01, 8.300e-01, 5.400e+00, 7.400e-01, 1.420e+00,\n",
       "        5.300e+02],\n",
       "       [1.270e+01, 3.550e+00, 2.360e+00, 2.150e+01, 1.060e+02, 1.700e+00,\n",
       "        1.200e+00, 1.700e-01, 8.400e-01, 5.000e+00, 7.800e-01, 1.290e+00,\n",
       "        6.000e+02],\n",
       "       [1.284e+01, 2.960e+00, 2.610e+00, 2.400e+01, 1.010e+02, 2.320e+00,\n",
       "        6.000e-01, 5.300e-01, 8.100e-01, 4.920e+00, 8.900e-01, 2.150e+00,\n",
       "        5.900e+02],\n",
       "       [1.225e+01, 3.880e+00, 2.200e+00, 1.850e+01, 1.120e+02, 1.380e+00,\n",
       "        7.800e-01, 2.900e-01, 1.140e+00, 8.210e+00, 6.500e-01, 2.000e+00,\n",
       "        8.550e+02],\n",
       "       [1.316e+01, 3.570e+00, 2.150e+00, 2.100e+01, 1.020e+02, 1.500e+00,\n",
       "        5.500e-01, 4.300e-01, 1.300e+00, 4.000e+00, 6.000e-01, 1.680e+00,\n",
       "        8.300e+02],\n",
       "       [1.308e+01, 3.900e+00, 2.360e+00, 2.150e+01, 1.130e+02, 1.410e+00,\n",
       "        1.390e+00, 3.400e-01, 1.140e+00, 9.400e+00, 5.700e-01, 1.330e+00,\n",
       "        5.500e+02],\n",
       "       [1.350e+01, 3.120e+00, 2.620e+00, 2.400e+01, 1.230e+02, 1.400e+00,\n",
       "        1.570e+00, 2.200e-01, 1.250e+00, 8.600e+00, 5.900e-01, 1.300e+00,\n",
       "        5.000e+02],\n",
       "       [1.279e+01, 2.670e+00, 2.480e+00, 2.200e+01, 1.120e+02, 1.480e+00,\n",
       "        1.360e+00, 2.400e-01, 1.260e+00, 1.080e+01, 4.800e-01, 1.470e+00,\n",
       "        4.800e+02],\n",
       "       [1.311e+01, 1.900e+00, 2.750e+00, 2.550e+01, 1.160e+02, 2.200e+00,\n",
       "        1.280e+00, 2.600e-01, 1.560e+00, 7.100e+00, 6.100e-01, 1.330e+00,\n",
       "        4.250e+02],\n",
       "       [1.258e+01, 1.290e+00, 2.100e+00, 2.000e+01, 1.030e+02, 1.480e+00,\n",
       "        5.800e-01, 5.300e-01, 1.400e+00, 7.600e+00, 5.800e-01, 1.550e+00,\n",
       "        6.400e+02],\n",
       "       [1.369e+01, 3.260e+00, 2.540e+00, 2.000e+01, 1.070e+02, 1.830e+00,\n",
       "        5.600e-01, 5.000e-01, 8.000e-01, 5.880e+00, 9.600e-01, 1.820e+00,\n",
       "        6.800e+02],\n",
       "       [1.285e+01, 3.270e+00, 2.580e+00, 2.200e+01, 1.060e+02, 1.650e+00,\n",
       "        6.000e-01, 6.000e-01, 9.600e-01, 5.580e+00, 8.700e-01, 2.110e+00,\n",
       "        5.700e+02],\n",
       "       [1.296e+01, 3.450e+00, 2.350e+00, 1.850e+01, 1.060e+02, 1.390e+00,\n",
       "        7.000e-01, 4.000e-01, 9.400e-01, 5.280e+00, 6.800e-01, 1.750e+00,\n",
       "        6.750e+02],\n",
       "       [1.345e+01, 3.700e+00, 2.600e+00, 2.300e+01, 1.110e+02, 1.700e+00,\n",
       "        9.200e-01, 4.300e-01, 1.460e+00, 1.068e+01, 8.500e-01, 1.560e+00,\n",
       "        6.950e+02],\n",
       "       [1.358e+01, 2.580e+00, 2.690e+00, 2.450e+01, 1.050e+02, 1.550e+00,\n",
       "        8.400e-01, 3.900e-01, 1.540e+00, 8.660e+00, 7.400e-01, 1.800e+00,\n",
       "        7.500e+02],\n",
       "       [1.340e+01, 4.600e+00, 2.860e+00, 2.500e+01, 1.120e+02, 1.980e+00,\n",
       "        9.600e-01, 2.700e-01, 1.110e+00, 8.500e+00, 6.700e-01, 1.920e+00,\n",
       "        6.300e+02],\n",
       "       [1.340e+01, 3.910e+00, 2.480e+00, 2.300e+01, 1.020e+02, 1.800e+00,\n",
       "        7.500e-01, 4.300e-01, 1.410e+00, 7.300e+00, 7.000e-01, 1.560e+00,\n",
       "        7.500e+02],\n",
       "       [1.327e+01, 4.280e+00, 2.260e+00, 2.000e+01, 1.200e+02, 1.590e+00,\n",
       "        6.900e-01, 4.300e-01, 1.350e+00, 1.020e+01, 5.900e-01, 1.560e+00,\n",
       "        8.350e+02],\n",
       "       [1.317e+01, 2.590e+00, 2.370e+00, 2.000e+01, 1.200e+02, 1.650e+00,\n",
       "        6.800e-01, 5.300e-01, 1.460e+00, 9.300e+00, 6.000e-01, 1.620e+00,\n",
       "        8.400e+02]])"
      ]
     },
     "execution_count": 82,
     "metadata": {},
     "output_type": "execute_result"
    }
   ],
   "source": [
    "B4_3 = ~(target == 1) & B4_1\n",
    "data[B4_3]"
   ]
  },
  {
   "cell_type": "markdown",
   "metadata": {},
   "source": [
    "### 4.4 5 POINTS\n",
    "\n",
    "How many such rows are there?"
   ]
  },
  {
   "cell_type": "code",
   "execution_count": 83,
   "metadata": {},
   "outputs": [
    {
     "data": {
      "text/plain": [
       "27"
      ]
     },
     "execution_count": 83,
     "metadata": {},
     "output_type": "execute_result"
    }
   ],
   "source": [
    "B4_3.sum()"
   ]
  },
  {
   "cell_type": "code",
   "execution_count": null,
   "metadata": {
    "colab": {},
    "colab_type": "code",
    "id": "rfe-qK0disLj"
   },
   "outputs": [],
   "source": []
  }
 ],
 "metadata": {
  "colab": {
   "name": "Boolean_exercises_in_numpy.ipynb",
   "provenance": []
  },
  "kernelspec": {
   "display_name": "Python 3",
   "language": "python",
   "name": "python3"
  },
  "language_info": {
   "codemirror_mode": {
    "name": "ipython",
    "version": 3
   },
   "file_extension": ".py",
   "mimetype": "text/x-python",
   "name": "python",
   "nbconvert_exporter": "python",
   "pygments_lexer": "ipython3",
   "version": "3.7.0"
  }
 },
 "nbformat": 4,
 "nbformat_minor": 1
}
