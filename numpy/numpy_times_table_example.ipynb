{
 "cells": [
  {
   "cell_type": "markdown",
   "metadata": {},
   "source": [
    "## Numpy Times table example"
   ]
  },
  {
   "cell_type": "markdown",
   "metadata": {},
   "source": [
    "Suppose you want to create a times-table. Here's how you do it with a loop:"
   ]
  },
  {
   "cell_type": "code",
   "execution_count": 25,
   "metadata": {},
   "outputs": [
    {
     "data": {
      "text/plain": [
       "array([[  1,   2,   3,   4,   5,   6,   7,   8,   9,  10,  11,  12],\n",
       "       [  2,   4,   6,   8,  10,  12,  14,  16,  18,  20,  22,  24],\n",
       "       [  3,   6,   9,  12,  15,  18,  21,  24,  27,  30,  33,  36],\n",
       "       [  4,   8,  12,  16,  20,  24,  28,  32,  36,  40,  44,  48],\n",
       "       [  5,  10,  15,  20,  25,  30,  35,  40,  45,  50,  55,  60],\n",
       "       [  6,  12,  18,  24,  30,  36,  42,  48,  54,  60,  66,  72],\n",
       "       [  7,  14,  21,  28,  35,  42,  49,  56,  63,  70,  77,  84],\n",
       "       [  8,  16,  24,  32,  40,  48,  56,  64,  72,  80,  88,  96],\n",
       "       [  9,  18,  27,  36,  45,  54,  63,  72,  81,  90,  99, 108],\n",
       "       [ 10,  20,  30,  40,  50,  60,  70,  80,  90, 100, 110, 120],\n",
       "       [ 11,  22,  33,  44,  55,  66,  77,  88,  99, 110, 121, 132],\n",
       "       [ 12,  24,  36,  48,  60,  72,  84,  96, 108, 120, 132, 144]])"
      ]
     },
     "execution_count": 25,
     "metadata": {},
     "output_type": "execute_result"
    }
   ],
   "source": [
    "import numpy as np\n",
    "times_table = np.ones((12,12),dtype=int)\n",
    "for a in range(1,13):\n",
    "    for b in range(1,13):\n",
    "        times_table[a-1,b-1] = a*b\n",
    "times_table"
   ]
  },
  {
   "cell_type": "markdown",
   "metadata": {},
   "source": [
    "Let's look at how to do much more efficiently this using array operations, using the mathematical regularity\n",
    "of the structure we're trying to build to help us."
   ]
  },
  {
   "cell_type": "markdown",
   "metadata": {},
   "source": [
    "We're going to use broadcaasting to get it done.\n",
    "Recall that `numpy` uses elementwise operations to interpret the following."
   ]
  },
  {
   "cell_type": "code",
   "execution_count": 24,
   "metadata": {
    "scrolled": true
   },
   "outputs": [
    {
     "data": {
      "text/plain": [
       "array([ 7, 14, 21, 28, 35, 42, 49, 56, 63, 70, 77, 84])"
      ]
     },
     "execution_count": 24,
     "metadata": {},
     "output_type": "execute_result"
    }
   ],
   "source": [
    "7 * np.arange(1,13)"
   ]
  },
  {
   "cell_type": "markdown",
   "metadata": {},
   "source": [
    "This of of course is row 7 of our goal, a times table.  The idea is to do some thing\n",
    "like this to a 2D array.  Here's how."
   ]
  },
  {
   "cell_type": "code",
   "execution_count": 3,
   "metadata": {},
   "outputs": [
    {
     "data": {
      "text/plain": [
       "array([[1, 1, 1, 1, 1, 1, 1, 1, 1, 1, 1, 1],\n",
       "       [1, 1, 1, 1, 1, 1, 1, 1, 1, 1, 1, 1],\n",
       "       [1, 1, 1, 1, 1, 1, 1, 1, 1, 1, 1, 1],\n",
       "       [1, 1, 1, 1, 1, 1, 1, 1, 1, 1, 1, 1],\n",
       "       [1, 1, 1, 1, 1, 1, 1, 1, 1, 1, 1, 1],\n",
       "       [1, 1, 1, 1, 1, 1, 1, 1, 1, 1, 1, 1],\n",
       "       [1, 1, 1, 1, 1, 1, 1, 1, 1, 1, 1, 1],\n",
       "       [1, 1, 1, 1, 1, 1, 1, 1, 1, 1, 1, 1],\n",
       "       [1, 1, 1, 1, 1, 1, 1, 1, 1, 1, 1, 1],\n",
       "       [1, 1, 1, 1, 1, 1, 1, 1, 1, 1, 1, 1],\n",
       "       [1, 1, 1, 1, 1, 1, 1, 1, 1, 1, 1, 1],\n",
       "       [1, 1, 1, 1, 1, 1, 1, 1, 1, 1, 1, 1]])"
      ]
     },
     "execution_count": 3,
     "metadata": {},
     "output_type": "execute_result"
    }
   ],
   "source": [
    "ones_12x12 = np.ones((12,12),dtype=int)\n",
    "ones_12x12"
   ]
  },
  {
   "cell_type": "markdown",
   "metadata": {},
   "source": [
    "In the next example, broadcasting naturally applies muliplication of the array on the right to each\n",
    "of the **rows** of the array on the left.  "
   ]
  },
  {
   "cell_type": "code",
   "execution_count": 34,
   "metadata": {},
   "outputs": [
    {
     "name": "stdout",
     "output_type": "stream",
     "text": [
      "[[ 1  2  3  4  5  6  7  8  9 10 11 12]\n",
      " [ 1  2  3  4  5  6  7  8  9 10 11 12]\n",
      " [ 1  2  3  4  5  6  7  8  9 10 11 12]\n",
      " [ 1  2  3  4  5  6  7  8  9 10 11 12]\n",
      " [ 1  2  3  4  5  6  7  8  9 10 11 12]\n",
      " [ 1  2  3  4  5  6  7  8  9 10 11 12]\n",
      " [ 1  2  3  4  5  6  7  8  9 10 11 12]\n",
      " [ 1  2  3  4  5  6  7  8  9 10 11 12]\n",
      " [ 1  2  3  4  5  6  7  8  9 10 11 12]\n",
      " [ 1  2  3  4  5  6  7  8  9 10 11 12]\n",
      " [ 1  2  3  4  5  6  7  8  9 10 11 12]\n",
      " [ 1  2  3  4  5  6  7  8  9 10 11 12]]\n"
     ]
    }
   ],
   "source": [
    "times_table = ones_12x12 * np.arange(1,13)\n",
    "print(times_table)"
   ]
  },
  {
   "cell_type": "markdown",
   "metadata": {},
   "source": [
    "We now have a table with 1's in the first column, 2's in  the second, and so on.\n",
    "Transpose this and we have"
   ]
  },
  {
   "cell_type": "code",
   "execution_count": 35,
   "metadata": {},
   "outputs": [
    {
     "data": {
      "text/plain": [
       "array([[ 1,  1,  1,  1,  1,  1,  1,  1,  1,  1,  1,  1],\n",
       "       [ 2,  2,  2,  2,  2,  2,  2,  2,  2,  2,  2,  2],\n",
       "       [ 3,  3,  3,  3,  3,  3,  3,  3,  3,  3,  3,  3],\n",
       "       [ 4,  4,  4,  4,  4,  4,  4,  4,  4,  4,  4,  4],\n",
       "       [ 5,  5,  5,  5,  5,  5,  5,  5,  5,  5,  5,  5],\n",
       "       [ 6,  6,  6,  6,  6,  6,  6,  6,  6,  6,  6,  6],\n",
       "       [ 7,  7,  7,  7,  7,  7,  7,  7,  7,  7,  7,  7],\n",
       "       [ 8,  8,  8,  8,  8,  8,  8,  8,  8,  8,  8,  8],\n",
       "       [ 9,  9,  9,  9,  9,  9,  9,  9,  9,  9,  9,  9],\n",
       "       [10, 10, 10, 10, 10, 10, 10, 10, 10, 10, 10, 10],\n",
       "       [11, 11, 11, 11, 11, 11, 11, 11, 11, 11, 11, 11],\n",
       "       [12, 12, 12, 12, 12, 12, 12, 12, 12, 12, 12, 12]])"
      ]
     },
     "execution_count": 35,
     "metadata": {},
     "output_type": "execute_result"
    }
   ],
   "source": [
    "times_table.T"
   ]
  },
  {
   "cell_type": "markdown",
   "metadata": {},
   "source": [
    "Apply row-wise multiplication of 1-13 again, and we have a times table, created without any loops."
   ]
  },
  {
   "cell_type": "code",
   "execution_count": 36,
   "metadata": {},
   "outputs": [
    {
     "data": {
      "text/plain": [
       "array([[  1,   2,   3,   4,   5,   6,   7,   8,   9,  10,  11,  12],\n",
       "       [  2,   4,   6,   8,  10,  12,  14,  16,  18,  20,  22,  24],\n",
       "       [  3,   6,   9,  12,  15,  18,  21,  24,  27,  30,  33,  36],\n",
       "       [  4,   8,  12,  16,  20,  24,  28,  32,  36,  40,  44,  48],\n",
       "       [  5,  10,  15,  20,  25,  30,  35,  40,  45,  50,  55,  60],\n",
       "       [  6,  12,  18,  24,  30,  36,  42,  48,  54,  60,  66,  72],\n",
       "       [  7,  14,  21,  28,  35,  42,  49,  56,  63,  70,  77,  84],\n",
       "       [  8,  16,  24,  32,  40,  48,  56,  64,  72,  80,  88,  96],\n",
       "       [  9,  18,  27,  36,  45,  54,  63,  72,  81,  90,  99, 108],\n",
       "       [ 10,  20,  30,  40,  50,  60,  70,  80,  90, 100, 110, 120],\n",
       "       [ 11,  22,  33,  44,  55,  66,  77,  88,  99, 110, 121, 132],\n",
       "       [ 12,  24,  36,  48,  60,  72,  84,  96, 108, 120, 132, 144]])"
      ]
     },
     "execution_count": 36,
     "metadata": {},
     "output_type": "execute_result"
    }
   ],
   "source": [
    "times_table.T * np.arange(1,13)"
   ]
  },
  {
   "cell_type": "markdown",
   "metadata": {},
   "source": [
    "Let's do it all in one step:"
   ]
  },
  {
   "cell_type": "code",
   "execution_count": 33,
   "metadata": {
    "scrolled": true
   },
   "outputs": [
    {
     "data": {
      "text/plain": [
       "array([[  1,   2,   3,   4,   5,   6,   7,   8,   9,  10,  11,  12],\n",
       "       [  2,   4,   6,   8,  10,  12,  14,  16,  18,  20,  22,  24],\n",
       "       [  3,   6,   9,  12,  15,  18,  21,  24,  27,  30,  33,  36],\n",
       "       [  4,   8,  12,  16,  20,  24,  28,  32,  36,  40,  44,  48],\n",
       "       [  5,  10,  15,  20,  25,  30,  35,  40,  45,  50,  55,  60],\n",
       "       [  6,  12,  18,  24,  30,  36,  42,  48,  54,  60,  66,  72],\n",
       "       [  7,  14,  21,  28,  35,  42,  49,  56,  63,  70,  77,  84],\n",
       "       [  8,  16,  24,  32,  40,  48,  56,  64,  72,  80,  88,  96],\n",
       "       [  9,  18,  27,  36,  45,  54,  63,  72,  81,  90,  99, 108],\n",
       "       [ 10,  20,  30,  40,  50,  60,  70,  80,  90, 100, 110, 120],\n",
       "       [ 11,  22,  33,  44,  55,  66,  77,  88,  99, 110, 121, 132],\n",
       "       [ 12,  24,  36,  48,  60,  72,  84,  96, 108, 120, 132, 144]])"
      ]
     },
     "execution_count": 33,
     "metadata": {},
     "output_type": "execute_result"
    }
   ],
   "source": [
    "(np.ones((12,12),dtype=int) * np.arange(1,13)).T * np.arange(1,13)"
   ]
  },
  {
   "cell_type": "markdown",
   "metadata": {},
   "source": [
    "Next we'll see how this can be done much more easily by exploiting the full power of broadcasting."
   ]
  },
  {
   "cell_type": "markdown",
   "metadata": {},
   "source": [
    "### Broadcasting in different dimensions; Two-way broadcasting"
   ]
  },
  {
   "cell_type": "markdown",
   "metadata": {},
   "source": [
    "Here we use our times table example to try to clarify the distinction between row-wise\n",
    "and column-wise broadcasting, and to better understand how to exploit it. In the process, describe an alternative way of building the times table that is much simpler."
   ]
  },
  {
   "cell_type": "markdown",
   "metadata": {},
   "source": [
    "Broadcasting a 1D array to match a 2D array always works in a **row-wise** direction.  The general rule is, the 1D array has to match the last dimension of the 2D array:\n",
    "(12,) can broadcast to match (12,12) or (11,12) but not (12,11)."
   ]
  },
  {
   "cell_type": "code",
   "execution_count": 51,
   "metadata": {},
   "outputs": [
    {
     "data": {
      "text/plain": [
       "array([[ 1.,  2.,  3.,  4.,  5.,  6.,  7.,  8.,  9., 10., 11., 12.],\n",
       "       [ 1.,  2.,  3.,  4.,  5.,  6.,  7.,  8.,  9., 10., 11., 12.],\n",
       "       [ 1.,  2.,  3.,  4.,  5.,  6.,  7.,  8.,  9., 10., 11., 12.],\n",
       "       [ 1.,  2.,  3.,  4.,  5.,  6.,  7.,  8.,  9., 10., 11., 12.],\n",
       "       [ 1.,  2.,  3.,  4.,  5.,  6.,  7.,  8.,  9., 10., 11., 12.],\n",
       "       [ 1.,  2.,  3.,  4.,  5.,  6.,  7.,  8.,  9., 10., 11., 12.],\n",
       "       [ 1.,  2.,  3.,  4.,  5.,  6.,  7.,  8.,  9., 10., 11., 12.],\n",
       "       [ 1.,  2.,  3.,  4.,  5.,  6.,  7.,  8.,  9., 10., 11., 12.],\n",
       "       [ 1.,  2.,  3.,  4.,  5.,  6.,  7.,  8.,  9., 10., 11., 12.],\n",
       "       [ 1.,  2.,  3.,  4.,  5.,  6.,  7.,  8.,  9., 10., 11., 12.],\n",
       "       [ 1.,  2.,  3.,  4.,  5.,  6.,  7.,  8.,  9., 10., 11., 12.]])"
      ]
     },
     "execution_count": 51,
     "metadata": {},
     "output_type": "execute_result"
    }
   ],
   "source": [
    "np.ones((11,12)) * np.arange(1,13) "
   ]
  },
  {
   "cell_type": "code",
   "execution_count": 36,
   "metadata": {
    "scrolled": true
   },
   "outputs": [],
   "source": [
    "# ValueError: operands could not be broadcast together with shapes (12,) (12,11) \n",
    "# np.ones((12,11)) * np.arange(1,13) "
   ]
  },
  {
   "cell_type": "markdown",
   "metadata": {},
   "source": [
    "Consider the version that worked.  To get \n",
    "\n",
    "```\n",
    "ones_11x12 * np.arange(1,13)\n",
    "```\n",
    "\n",
    "to work. we broadcast the 1D vector\n",
    "\n",
    "```\n",
    "array([ 1,  2,  3,  4,  5,  6,  7,  8,  9, 10, 11, 12])\n",
    "```\n",
    "\n",
    "into a 2D vector each of whose **rows** is a copy of\n",
    "the 1D vector.\n",
    "\n",
    "```\n",
    "array([[ 1,  2,  3,  4,  5,  6,  7,  8,  9, 10, 11, 12],\n",
    "       [ 1,  2,  3,  4,  5,  6,  7,  8,  9, 10, 11, 12],\n",
    "       [ 1,  2,  3,  4,  5,  6,  7,  8,  9, 10, 11, 12],\n",
    "       [ 1,  2,  3,  4,  5,  6,  7,  8,  9, 10, 11, 12],\n",
    "       [ 1,  2,  3,  4,  5,  6,  7,  8,  9, 10, 11, 12],\n",
    "       [ 1,  2,  3,  4,  5,  6,  7,  8,  9, 10, 11, 12],\n",
    "       [ 1,  2,  3,  4,  5,  6,  7,  8,  9, 10, 11, 12],\n",
    "       [ 1,  2,  3,  4,  5,  6,  7,  8,  9, 10, 11, 12],\n",
    "       [ 1,  2,  3,  4,  5,  6,  7,  8,  9, 10, 11, 12],\n",
    "       [ 1,  2,  3,  4,  5,  6,  7,  8,  9, 10, 11, 12],\n",
    "       [ 1,  2,  3,  4,  5,  6,  7,  8,  9, 10, 11, 12]])\n",
    "```\n",
    "This has the shape we want, 11x12, enabling \n",
    "us to do do element-wise multiplication with the 11x12 ones matrix.\n",
    "\n",
    "In the case of the 12x11 matrix, row-wise broadcasting from (12,) to 12x12 is of \n",
    "no use, so this is where we want columnwise broadcasting. That is achieved by reshaping the 1D \n",
    "vector of shape (12,) into a 2D vector of shape (12,1)\n",
    "\n",
    "```\n",
    ">>>> col_vec = np.arange(1,13).reshape(12,-1)\n",
    ">>> col_vec\n",
    "array([[ 1],\n",
    "       [ 2],\n",
    "       [ 3],\n",
    "       [ 4],\n",
    "       [ 5],\n",
    "       [ 6],\n",
    "       [ 7],\n",
    "       [ 8],\n",
    "       [ 9],\n",
    "       [10],\n",
    "       [11],\n",
    "       [12]])\n",
    "```\n",
    "\n",
    "And a 12x1 2D array **can** be broadcast to a 12x11 shape.  In general with 2D arrays,\n",
    "if there is a dimension of size 1, broadcasting can happen along that dimension.\n",
    "So \n",
    "\n",
    "```\n",
    "MxN * Mx1\n",
    "MxN * 1xN\n",
    "MxN * 1x1\n",
    "```\n",
    "\n",
    "all work.  And of course the last case is just multiplication by a scalar.\n",
    "\n",
    "Demonstrating."
   ]
  },
  {
   "cell_type": "code",
   "execution_count": 43,
   "metadata": {},
   "outputs": [
    {
     "name": "stdout",
     "output_type": "stream",
     "text": [
      "(12, 1)\n"
     ]
    },
    {
     "data": {
      "text/plain": [
       "array([[ 1],\n",
       "       [ 2],\n",
       "       [ 3],\n",
       "       [ 4],\n",
       "       [ 5],\n",
       "       [ 6],\n",
       "       [ 7],\n",
       "       [ 8],\n",
       "       [ 9],\n",
       "       [10],\n",
       "       [11],\n",
       "       [12]])"
      ]
     },
     "execution_count": 43,
     "metadata": {},
     "output_type": "execute_result"
    }
   ],
   "source": [
    "col_vec = np.arange(1,13).reshape(12,-1);  print(col_vec.shape)\n",
    "col_vec"
   ]
  },
  {
   "cell_type": "code",
   "execution_count": 53,
   "metadata": {},
   "outputs": [
    {
     "data": {
      "text/plain": [
       "array([[ 1.,  1.,  1.,  1.,  1.,  1.,  1.,  1.,  1.,  1.,  1.,  1.],\n",
       "       [ 2.,  2.,  2.,  2.,  2.,  2.,  2.,  2.,  2.,  2.,  2.,  2.],\n",
       "       [ 3.,  3.,  3.,  3.,  3.,  3.,  3.,  3.,  3.,  3.,  3.,  3.],\n",
       "       [ 4.,  4.,  4.,  4.,  4.,  4.,  4.,  4.,  4.,  4.,  4.,  4.],\n",
       "       [ 5.,  5.,  5.,  5.,  5.,  5.,  5.,  5.,  5.,  5.,  5.,  5.],\n",
       "       [ 6.,  6.,  6.,  6.,  6.,  6.,  6.,  6.,  6.,  6.,  6.,  6.],\n",
       "       [ 7.,  7.,  7.,  7.,  7.,  7.,  7.,  7.,  7.,  7.,  7.,  7.],\n",
       "       [ 8.,  8.,  8.,  8.,  8.,  8.,  8.,  8.,  8.,  8.,  8.,  8.],\n",
       "       [ 9.,  9.,  9.,  9.,  9.,  9.,  9.,  9.,  9.,  9.,  9.,  9.],\n",
       "       [10., 10., 10., 10., 10., 10., 10., 10., 10., 10., 10., 10.],\n",
       "       [11., 11., 11., 11., 11., 11., 11., 11., 11., 11., 11., 11.],\n",
       "       [12., 12., 12., 12., 12., 12., 12., 12., 12., 12., 12., 12.]])"
      ]
     },
     "execution_count": 53,
     "metadata": {},
     "output_type": "execute_result"
    }
   ],
   "source": [
    "np.ones((12,12)) * col_vec"
   ]
  },
  {
   "cell_type": "markdown",
   "metadata": {},
   "source": [
    "Now the surprise, if you're not used\n",
    "to broadcasting rules: We only need \n",
    "multiply  `col_vec` by the 1D vector `np.arange(1,13)` to get our times table.\n",
    "\n",
    "The reason is that in this case **both** operands are broadcastable,\n",
    "and in that situation, **both** operands can be broadcast: `col_vec` \n",
    "will be broadcast columnwise, giving us 12 1-12 columns;\n",
    "the 1D vec will complete the product by broadcasting rowwise.\n",
    "\n",
    "\n",
    "```python\n",
    "array([[ 1],\n",
    "       [ 2],\n",
    "       [ 3],\n",
    "       [ 4],\n",
    "       [ 5],\n",
    "       [ 6],\n",
    "       [ 7],\n",
    "       [ 8],\n",
    "       [ 9],\n",
    "       [10],\n",
    "       [11],\n",
    "       [12]])\n",
    "*\n",
    "array([ 1,  2,  3,  4,  5,  6,  7,  8,  9, 10, 11, 12])\n",
    "```\n",
    "\n",
    "becomes\n",
    "\n",
    "\n",
    "```python\n",
    "array([[ 1.,  1.,  1.,  1.,  1.,  1.,  1.,  1.,  1.,  1.,  1.,  1.],\n",
    "       [ 2.,  2.,  2.,  2.,  2.,  2.,  2.,  2.,  2.,  2.,  2.,  2.],\n",
    "       [ 3.,  3.,  3.,  3.,  3.,  3.,  3.,  3.,  3.,  3.,  3.,  3.],\n",
    "       [ 4.,  4.,  4.,  4.,  4.,  4.,  4.,  4.,  4.,  4.,  4.,  4.],\n",
    "       [ 5.,  5.,  5.,  5.,  5.,  5.,  5.,  5.,  5.,  5.,  5.,  5.],\n",
    "       [ 6.,  6.,  6.,  6.,  6.,  6.,  6.,  6.,  6.,  6.,  6.,  6.],\n",
    "       [ 7.,  7.,  7.,  7.,  7.,  7.,  7.,  7.,  7.,  7.,  7.,  7.],\n",
    "       [ 8.,  8.,  8.,  8.,  8.,  8.,  8.,  8.,  8.,  8.,  8.,  8.],\n",
    "       [ 9.,  9.,  9.,  9.,  9.,  9.,  9.,  9.,  9.,  9.,  9.,  9.],\n",
    "       [10., 10., 10., 10., 10., 10., 10., 10., 10., 10., 10., 10.],\n",
    "       [11., 11., 11., 11., 11., 11., 11., 11., 11., 11., 11., 11.],\n",
    "       [12., 12., 12., 12., 12., 12., 12., 12., 12., 12., 12., 12.]])\n",
    "*\n",
    "array([[ 1,  2,  3,  4,  5,  6,  7,  8,  9, 10, 11, 12],\n",
    "       [ 1,  2,  3,  4,  5,  6,  7,  8,  9, 10, 11, 12],\n",
    "       [ 1,  2,  3,  4,  5,  6,  7,  8,  9, 10, 11, 12],\n",
    "       [ 1,  2,  3,  4,  5,  6,  7,  8,  9, 10, 11, 12],\n",
    "       [ 1,  2,  3,  4,  5,  6,  7,  8,  9, 10, 11, 12],\n",
    "       [ 1,  2,  3,  4,  5,  6,  7,  8,  9, 10, 11, 12],\n",
    "       [ 1,  2,  3,  4,  5,  6,  7,  8,  9, 10, 11, 12],\n",
    "       [ 1,  2,  3,  4,  5,  6,  7,  8,  9, 10, 11, 12],\n",
    "       [ 1,  2,  3,  4,  5,  6,  7,  8,  9, 10, 11, 12],\n",
    "       [ 1,  2,  3,  4,  5,  6,  7,  8,  9, 10, 11, 12],\n",
    "       [ 1,  2,  3,  4,  5,  6,  7,  8,  9, 10, 11, 12]])\n",
    "```\n",
    "and we have  our times table:"
   ]
  },
  {
   "cell_type": "code",
   "execution_count": 2,
   "metadata": {},
   "outputs": [
    {
     "name": "stdout",
     "output_type": "stream",
     "text": [
      "(12, 1) (12,)\n"
     ]
    },
    {
     "data": {
      "text/plain": [
       "array([[  1,   2,   3,   4,   5,   6,   7,   8,   9,  10,  11,  12],\n",
       "       [  2,   4,   6,   8,  10,  12,  14,  16,  18,  20,  22,  24],\n",
       "       [  3,   6,   9,  12,  15,  18,  21,  24,  27,  30,  33,  36],\n",
       "       [  4,   8,  12,  16,  20,  24,  28,  32,  36,  40,  44,  48],\n",
       "       [  5,  10,  15,  20,  25,  30,  35,  40,  45,  50,  55,  60],\n",
       "       [  6,  12,  18,  24,  30,  36,  42,  48,  54,  60,  66,  72],\n",
       "       [  7,  14,  21,  28,  35,  42,  49,  56,  63,  70,  77,  84],\n",
       "       [  8,  16,  24,  32,  40,  48,  56,  64,  72,  80,  88,  96],\n",
       "       [  9,  18,  27,  36,  45,  54,  63,  72,  81,  90,  99, 108],\n",
       "       [ 10,  20,  30,  40,  50,  60,  70,  80,  90, 100, 110, 120],\n",
       "       [ 11,  22,  33,  44,  55,  66,  77,  88,  99, 110, 121, 132],\n",
       "       [ 12,  24,  36,  48,  60,  72,  84,  96, 108, 120, 132, 144]])"
      ]
     },
     "execution_count": 2,
     "metadata": {},
     "output_type": "execute_result"
    }
   ],
   "source": [
    "import numpy as np\n",
    "\n",
    "col_vec = np.arange(1,13).reshape(12,-1);  print(col_vec.shape,end=\" \")\n",
    "one_twelve = np.arange(1,13);  print(one_twelve.shape)\n",
    "col_vec *  one_twelve"
   ]
  },
  {
   "cell_type": "markdown",
   "metadata": {},
   "source": [
    "Note: What's interesting about the above is that it is being done\n",
    "as a multiplication with the help of **two way** broadcasting.  In this case, the same result\n",
    "can be achieved by matrix multiplication of a column vector\n",
    "with a row vector."
   ]
  },
  {
   "cell_type": "code",
   "execution_count": 14,
   "metadata": {},
   "outputs": [
    {
     "data": {
      "text/plain": [
       "array([[  1,   2,   3,   4,   5,   6,   7,   8,   9,  10,  11,  12],\n",
       "       [  2,   4,   6,   8,  10,  12,  14,  16,  18,  20,  22,  24],\n",
       "       [  3,   6,   9,  12,  15,  18,  21,  24,  27,  30,  33,  36],\n",
       "       [  4,   8,  12,  16,  20,  24,  28,  32,  36,  40,  44,  48],\n",
       "       [  5,  10,  15,  20,  25,  30,  35,  40,  45,  50,  55,  60],\n",
       "       [  6,  12,  18,  24,  30,  36,  42,  48,  54,  60,  66,  72],\n",
       "       [  7,  14,  21,  28,  35,  42,  49,  56,  63,  70,  77,  84],\n",
       "       [  8,  16,  24,  32,  40,  48,  56,  64,  72,  80,  88,  96],\n",
       "       [  9,  18,  27,  36,  45,  54,  63,  72,  81,  90,  99, 108],\n",
       "       [ 10,  20,  30,  40,  50,  60,  70,  80,  90, 100, 110, 120],\n",
       "       [ 11,  22,  33,  44,  55,  66,  77,  88,  99, 110, 121, 132],\n",
       "       [ 12,  24,  36,  48,  60,  72,  84,  96, 108, 120, 132, 144]])"
      ]
     },
     "execution_count": 14,
     "metadata": {},
     "output_type": "execute_result"
    }
   ],
   "source": [
    "col_vec@col_vec.T"
   ]
  },
  {
   "cell_type": "markdown",
   "metadata": {},
   "source": [
    "This is what's known as the **outer product**; mathematically, this is usually conceived as an operation\n",
    "between two vectors (hence 1D), and numpy provides this as a function that will accept vectors.\n",
    "\n",
    "```python\n",
    "one_twelve = np.arange(1,13)\n",
    "np.outer(one_twelve,one_twelve)\n",
    "```\n",
    "\n",
    "is equivalent to the above matrix product.\n",
    "\n",
    "In general, there aren't other operations that easily achieve the effects of broadcasting,\n",
    "especially two-way broadcasting. For example, for creating an addition table:"
   ]
  },
  {
   "cell_type": "code",
   "execution_count": 47,
   "metadata": {
    "scrolled": true
   },
   "outputs": [
    {
     "data": {
      "text/plain": [
       "array([[ 0,  1,  2,  3,  4,  5,  6,  7,  8,  9, 10, 11, 12],\n",
       "       [ 1,  2,  3,  4,  5,  6,  7,  8,  9, 10, 11, 12, 13],\n",
       "       [ 2,  3,  4,  5,  6,  7,  8,  9, 10, 11, 12, 13, 14],\n",
       "       [ 3,  4,  5,  6,  7,  8,  9, 10, 11, 12, 13, 14, 15],\n",
       "       [ 4,  5,  6,  7,  8,  9, 10, 11, 12, 13, 14, 15, 16],\n",
       "       [ 5,  6,  7,  8,  9, 10, 11, 12, 13, 14, 15, 16, 17],\n",
       "       [ 6,  7,  8,  9, 10, 11, 12, 13, 14, 15, 16, 17, 18],\n",
       "       [ 7,  8,  9, 10, 11, 12, 13, 14, 15, 16, 17, 18, 19],\n",
       "       [ 8,  9, 10, 11, 12, 13, 14, 15, 16, 17, 18, 19, 20],\n",
       "       [ 9, 10, 11, 12, 13, 14, 15, 16, 17, 18, 19, 20, 21],\n",
       "       [10, 11, 12, 13, 14, 15, 16, 17, 18, 19, 20, 21, 22],\n",
       "       [11, 12, 13, 14, 15, 16, 17, 18, 19, 20, 21, 22, 23],\n",
       "       [12, 13, 14, 15, 16, 17, 18, 19, 20, 21, 22, 23, 24]])"
      ]
     },
     "execution_count": 47,
     "metadata": {},
     "output_type": "execute_result"
    }
   ],
   "source": [
    "add = np.arange(13)[:,np.newaxis] + np.arange(13)\n",
    "add"
   ]
  },
  {
   "cell_type": "markdown",
   "metadata": {},
   "source": [
    "is hard to beat.  "
   ]
  },
  {
   "cell_type": "code",
   "execution_count": 48,
   "metadata": {},
   "outputs": [
    {
     "data": {
      "text/plain": [
       "10"
      ]
     },
     "execution_count": 48,
     "metadata": {},
     "output_type": "execute_result"
    }
   ],
   "source": [
    "add[3,7]"
   ]
  },
  {
   "cell_type": "markdown",
   "metadata": {},
   "source": [
    "Broadcasting is a very powerful tool.  The efficiency gains are\n",
    "demonstrated at the end of the notebook."
   ]
  },
  {
   "cell_type": "markdown",
   "metadata": {},
   "source": [
    "Another example: a \"times-table\" with strings, used to create a sequence of unique ids of length `n*26`:"
   ]
  },
  {
   "cell_type": "code",
   "execution_count": 40,
   "metadata": {},
   "outputs": [
    {
     "name": "stdout",
     "output_type": "stream",
     "text": [
      "[['a' 'aa' 'aaa' 'aaaa' 'aaaaa']\n",
      " ['b' 'bb' 'bbb' 'bbbb' 'bbbbb']\n",
      " ['c' 'cc' 'ccc' 'cccc' 'ccccc']\n",
      " ['d' 'dd' 'ddd' 'dddd' 'ddddd']\n",
      " ['e' 'ee' 'eee' 'eeee' 'eeeee']\n",
      " ['f' 'ff' 'fff' 'ffff' 'fffff']\n",
      " ['g' 'gg' 'ggg' 'gggg' 'ggggg']\n",
      " ['h' 'hh' 'hhh' 'hhhh' 'hhhhh']\n",
      " ['i' 'ii' 'iii' 'iiii' 'iiiii']\n",
      " ['j' 'jj' 'jjj' 'jjjj' 'jjjjj']\n",
      " ['k' 'kk' 'kkk' 'kkkk' 'kkkkk']\n",
      " ['l' 'll' 'lll' 'llll' 'lllll']\n",
      " ['m' 'mm' 'mmm' 'mmmm' 'mmmmm']\n",
      " ['n' 'nn' 'nnn' 'nnnn' 'nnnnn']\n",
      " ['o' 'oo' 'ooo' 'oooo' 'ooooo']\n",
      " ['p' 'pp' 'ppp' 'pppp' 'ppppp']\n",
      " ['q' 'qq' 'qqq' 'qqqq' 'qqqqq']\n",
      " ['r' 'rr' 'rrr' 'rrrr' 'rrrrr']\n",
      " ['s' 'ss' 'sss' 'ssss' 'sssss']\n",
      " ['t' 'tt' 'ttt' 'tttt' 'ttttt']\n",
      " ['u' 'uu' 'uuu' 'uuuu' 'uuuuu']\n",
      " ['v' 'vv' 'vvv' 'vvvv' 'vvvvv']\n",
      " ['w' 'ww' 'www' 'wwww' 'wwwww']\n",
      " ['x' 'xx' 'xxx' 'xxxx' 'xxxxx']\n",
      " ['y' 'yy' 'yyy' 'yyyy' 'yyyyy']\n",
      " ['z' 'zz' 'zzz' 'zzzz' 'zzzzz']]\n"
     ]
    },
    {
     "data": {
      "text/plain": [
       "array(['a', 'b', 'c', 'd', 'e', 'f', 'g', 'h', 'i', 'j', 'k', 'l', 'm',\n",
       "       'n', 'o', 'p', 'q', 'r', 's', 't', 'u', 'v', 'w', 'x', 'y', 'z',\n",
       "       'aa', 'bb', 'cc', 'dd', 'ee', 'ff', 'gg', 'hh', 'ii', 'jj', 'kk',\n",
       "       'll', 'mm', 'nn', 'oo', 'pp', 'qq', 'rr', 'ss', 'tt', 'uu', 'vv',\n",
       "       'ww', 'xx', 'yy', 'zz', 'aaa', 'bbb', 'ccc', 'ddd', 'eee', 'fff',\n",
       "       'ggg', 'hhh', 'iii', 'jjj', 'kkk', 'lll', 'mmm', 'nnn', 'ooo',\n",
       "       'ppp', 'qqq', 'rrr', 'sss', 'ttt', 'uuu', 'vvv', 'www', 'xxx',\n",
       "       'yyy', 'zzz', 'aaaa', 'bbbb', 'cccc', 'dddd', 'eeee', 'ffff',\n",
       "       'gggg', 'hhhh', 'iiii', 'jjjj', 'kkkk', 'llll', 'mmmm', 'nnnn',\n",
       "       'oooo', 'pppp', 'qqqq', 'rrrr', 'ssss', 'tttt', 'uuuu', 'vvvv',\n",
       "       'wwww', 'xxxx', 'yyyy', 'zzzz', 'aaaaa', 'bbbbb', 'ccccc', 'ddddd',\n",
       "       'eeeee', 'fffff', 'ggggg', 'hhhhh', 'iiiii', 'jjjjj', 'kkkkk',\n",
       "       'lllll', 'mmmmm', 'nnnnn', 'ooooo', 'ppppp', 'qqqqq', 'rrrrr',\n",
       "       'sssss', 'ttttt', 'uuuuu', 'vvvvv', 'wwwww', 'xxxxx', 'yyyyy',\n",
       "       'zzzzz'], dtype=object)"
      ]
     },
     "execution_count": 40,
     "metadata": {},
     "output_type": "execute_result"
    }
   ],
   "source": [
    "import numpy as np\n",
    "import string\n",
    "\n",
    "n=5\n",
    "x=np.array(list(string.ascii_lowercase),dtype=object)\n",
    "string_times_table = x[:,np.newaxis]*np.arange(1,n+1)\n",
    "print(string_times_table)\n",
    "# Flatten in column-major (=Fortran-style) order\n",
    "# print(string_array.flatten.__doc__)\n",
    "string_times_table.flatten(order=\"F\")"
   ]
  },
  {
   "cell_type": "markdown",
   "metadata": {},
   "source": [
    "### Example Exercises"
   ]
  },
  {
   "cell_type": "markdown",
   "metadata": {},
   "source": [
    "Convert to  percentages: \n",
    "Each cell reports the percentage of a column's total count\n",
    "represented by that cell's count.\n",
    "\n",
    "First sum the columns; then divide by the column totals."
   ]
  },
  {
   "cell_type": "code",
   "execution_count": 23,
   "metadata": {
    "scrolled": true
   },
   "outputs": [
    {
     "name": "stdout",
     "output_type": "stream",
     "text": [
      "a2d: \n",
      "[[ 0  1  2  3  4  5]\n",
      " [ 6  7  8  9 10 11]\n",
      " [12 13 14 15 16 17]\n",
      " [18 19 20 21 22 23]]\n",
      "\n",
      "col sums: \n",
      "[36 40 44 48 52 56]\n"
     ]
    }
   ],
   "source": [
    "import numpy as np\n",
    "a = np.arange(24)\n",
    "(rows,cols) = (4,6)\n",
    "a2d = a.reshape((rows,cols))\n",
    "print('a2d: ')\n",
    "print(a2d)\n",
    "col_sums = a2d.sum(axis=0)\n",
    "print()\n",
    "print('col sums: ')\n",
    "print(col_sums)"
   ]
  },
  {
   "cell_type": "markdown",
   "metadata": {},
   "source": [
    "Now try to divide each row by  col_sums.\n",
    "\n",
    "That is, do the equivalent of what the following for-loop does, but without\n",
    "a for-loop.  You can use this output to check your results."
   ]
  },
  {
   "cell_type": "code",
   "execution_count": 24,
   "metadata": {},
   "outputs": [
    {
     "data": {
      "text/plain": [
       "array([[0.        , 0.025     , 0.04545455, 0.0625    , 0.07692308,\n",
       "        0.08928571],\n",
       "       [0.16666667, 0.175     , 0.18181818, 0.1875    , 0.19230769,\n",
       "        0.19642857],\n",
       "       [0.33333333, 0.325     , 0.31818182, 0.3125    , 0.30769231,\n",
       "        0.30357143],\n",
       "       [0.5       , 0.475     , 0.45454545, 0.4375    , 0.42307692,\n",
       "        0.41071429]])"
      ]
     },
     "execution_count": 24,
     "metadata": {},
     "output_type": "execute_result"
    }
   ],
   "source": [
    "np.array([a2d[i,:]/col_sums for i in range(rows)])"
   ]
  },
  {
   "cell_type": "markdown",
   "metadata": {},
   "source": [
    "This can be done easily because the 1D col_sums \n",
    "vector computed in the last cell will broadcast rowwise.\n",
    "\n",
    "Write the answer to this easy problem in the cell below.\n",
    "The correct answer is a few cells below."
   ]
  },
  {
   "cell_type": "code",
   "execution_count": null,
   "metadata": {},
   "outputs": [],
   "source": []
  },
  {
   "cell_type": "code",
   "execution_count": null,
   "metadata": {},
   "outputs": [],
   "source": []
  },
  {
   "cell_type": "code",
   "execution_count": null,
   "metadata": {},
   "outputs": [],
   "source": []
  },
  {
   "cell_type": "code",
   "execution_count": null,
   "metadata": {},
   "outputs": [],
   "source": []
  },
  {
   "cell_type": "code",
   "execution_count": 64,
   "metadata": {},
   "outputs": [
    {
     "name": "stdout",
     "output_type": "stream",
     "text": [
      "(4, 6) divided by (6,)\n"
     ]
    },
    {
     "data": {
      "text/plain": [
       "array([[0.        , 0.025     , 0.04545455, 0.0625    , 0.07692308,\n",
       "        0.08928571],\n",
       "       [0.16666667, 0.175     , 0.18181818, 0.1875    , 0.19230769,\n",
       "        0.19642857],\n",
       "       [0.33333333, 0.325     , 0.31818182, 0.3125    , 0.30769231,\n",
       "        0.30357143],\n",
       "       [0.5       , 0.475     , 0.45454545, 0.4375    , 0.42307692,\n",
       "        0.41071429]])"
      ]
     },
     "execution_count": 64,
     "metadata": {},
     "output_type": "execute_result"
    }
   ],
   "source": [
    "\n",
    "print(f'{a2d.shape} divided by {col_sums.shape}')\n",
    "\n",
    "col_percentages = a2d/col_sums\n",
    "col_percentages"
   ]
  },
  {
   "cell_type": "markdown",
   "metadata": {},
   "source": [
    "Confirm that these are indeed percentages by summing the cols of `percentages`."
   ]
  },
  {
   "cell_type": "code",
   "execution_count": 75,
   "metadata": {},
   "outputs": [
    {
     "data": {
      "text/plain": [
       "array([1., 1., 1., 1., 1., 1.])"
      ]
     },
     "execution_count": 75,
     "metadata": {},
     "output_type": "execute_result"
    }
   ],
   "source": [
    "col_percentages.sum(axis=0)"
   ]
  },
  {
   "cell_type": "markdown",
   "metadata": {},
   "source": [
    "Now the more challenging problem.  The following cell computes\n",
    "row sums for the 4 rows of `a2d`.  Use that row\n",
    "sum vector to produce a 2d array `row_percentages` in which each cell represents\n",
    "the percentage of a **row's** total count represented by that cell's count."
   ]
  },
  {
   "cell_type": "code",
   "execution_count": 26,
   "metadata": {},
   "outputs": [
    {
     "data": {
      "text/plain": [
       "array([ 15,  51,  87, 123])"
      ]
     },
     "execution_count": 26,
     "metadata": {},
     "output_type": "execute_result"
    }
   ],
   "source": [
    "row_sums = a2d.sum(axis=1)\n",
    "row_sums"
   ]
  },
  {
   "cell_type": "markdown",
   "metadata": {},
   "source": [
    "So if we wrote a  for loop to compute `row_percentages`\n",
    "it would be:"
   ]
  },
  {
   "cell_type": "code",
   "execution_count": 27,
   "metadata": {},
   "outputs": [
    {
     "data": {
      "text/plain": [
       "array([[0.        , 0.06666667, 0.13333333, 0.2       , 0.26666667,\n",
       "        0.33333333],\n",
       "       [0.11764706, 0.1372549 , 0.15686275, 0.17647059, 0.19607843,\n",
       "        0.21568627],\n",
       "       [0.13793103, 0.14942529, 0.16091954, 0.17241379, 0.18390805,\n",
       "        0.1954023 ],\n",
       "       [0.14634146, 0.15447154, 0.16260163, 0.17073171, 0.17886179,\n",
       "        0.18699187]])"
      ]
     },
     "execution_count": 27,
     "metadata": {},
     "output_type": "execute_result"
    }
   ],
   "source": [
    "(rows,cols) = a2d.shape\n",
    "np.array([a2d[:,i]/row_sums for i in range(cols)]).T"
   ]
  },
  {
   "cell_type": "markdown",
   "metadata": {},
   "source": [
    "Your next challenge:\n",
    "Define `row_percentages` a different (more efficient way),\n",
    "through a single array/by array division.\n",
    "\n",
    "Confirm the correctness of your answer by showing each row\n",
    "of `row_percentages` sums to 1."
   ]
  },
  {
   "cell_type": "code",
   "execution_count": null,
   "metadata": {},
   "outputs": [],
   "source": []
  },
  {
   "cell_type": "code",
   "execution_count": null,
   "metadata": {},
   "outputs": [],
   "source": []
  },
  {
   "cell_type": "code",
   "execution_count": null,
   "metadata": {},
   "outputs": [],
   "source": []
  },
  {
   "cell_type": "code",
   "execution_count": null,
   "metadata": {},
   "outputs": [],
   "source": []
  },
  {
   "cell_type": "code",
   "execution_count": 66,
   "metadata": {},
   "outputs": [
    {
     "name": "stdout",
     "output_type": "stream",
     "text": [
      "(4, 6) divided by (4, 1)\n"
     ]
    },
    {
     "data": {
      "text/plain": [
       "array([[0.        , 0.06666667, 0.13333333, 0.2       , 0.26666667,\n",
       "        0.33333333],\n",
       "       [0.11764706, 0.1372549 , 0.15686275, 0.17647059, 0.19607843,\n",
       "        0.21568627],\n",
       "       [0.13793103, 0.14942529, 0.16091954, 0.17241379, 0.18390805,\n",
       "        0.1954023 ],\n",
       "       [0.14634146, 0.15447154, 0.16260163, 0.17073171, 0.17886179,\n",
       "        0.18699187]])"
      ]
     },
     "execution_count": 66,
     "metadata": {},
     "output_type": "execute_result"
    }
   ],
   "source": [
    "# (4,6) divided by (4,1)\n",
    "print(f'{a2d.shape} divided by {row_sums[:,np.newaxis].shape}')\n",
    "row_percentages = a2d/row_sums[:,np.newaxis]\n",
    "row_percentages"
   ]
  },
  {
   "cell_type": "code",
   "execution_count": 67,
   "metadata": {},
   "outputs": [
    {
     "data": {
      "text/plain": [
       "array([1., 1., 1., 1.])"
      ]
     },
     "execution_count": 67,
     "metadata": {},
     "output_type": "execute_result"
    }
   ],
   "source": [
    "row_percentages.sum(axis=1)"
   ]
  },
  {
   "cell_type": "markdown",
   "metadata": {},
   "source": [
    "### Vector Quantization Example\n",
    "\n",
    "For a slightly more computationally sophisticated example of broadcasting, have\n",
    "a look at [this numpy tutorial on broadcasting, especially the section entitled \"A practical Example: Vector Quantization\".](https://numpy.org/doc/stable/user/basics.broadcasting.html)\n",
    "\n",
    "This is essentially the same idea as the van der Plas's KNN example, discussed in the Broadcasting slides."
   ]
  },
  {
   "cell_type": "markdown",
   "metadata": {},
   "source": [
    "### Timing results"
   ]
  },
  {
   "cell_type": "markdown",
   "metadata": {},
   "source": [
    "Array computing is tricky, and efficiency issues don't always work out the way you think they will.\n",
    "\n",
    "Even the most experienced programmers know that they best evidence is to try it, so below we try, and find\n",
    "a significant speedup factor using broadcasting or matrix multiplication operations.  As always, mileage may vary on your individual machines.  \n",
    "\n",
    "The one result that should be robust, though, is that the Python for-loop is the slowest,\n",
    "by about an order of magnitude."
   ]
  },
  {
   "cell_type": "code",
   "execution_count": 41,
   "metadata": {},
   "outputs": [
    {
     "name": "stdout",
     "output_type": "stream",
     "text": [
      "Normal Python:        2.139 sec\n",
      "NumPy Times:          0.207 sec\n",
      "NumPy Outer Product:  0.288 sec\n",
      "NumPy Matrix Product: 0.173 sec\n"
     ]
    }
   ],
   "source": [
    "import timeit\n",
    "import numpy as np\n",
    "\n",
    "num_iters = 100_000\n",
    "\n",
    "py_secs = timeit.timeit(\"\"\"for a in range(1,13): \n",
    "                            for b in range(1,13): \n",
    "                              times_table[a-1,b-1] = a*b\"\"\",\n",
    "                        setup=\"import numpy as np;times_table = np.ones((12,12),dtype=int)\",                        \n",
    "                        number=num_iters)\n",
    "\n",
    "# Broadcasting Times\n",
    "array_secs = timeit.timeit('one_twelve.reshape((12,1)) * one_twelve',\n",
    "                            setup=\"import numpy as np;one_twelve=np.arange(1,13)\",\n",
    "                            number=num_iters)\n",
    "\n",
    "# np.outer()\n",
    "array_secs2 = timeit.timeit(\"\"\"np.outer(one_twelve,one_twelve)\"\"\",\n",
    "                            setup=\"import numpy as np;one_twelve=np.arange(1,13)\",\n",
    "                            number = num_iters)\n",
    "\n",
    "# Matrix multiplication\n",
    "array_secs3 = timeit.timeit(\"\"\"one_twelve.reshape((12,1))@one_twelve.reshape((1,12))\"\"\",\n",
    "                            setup=\"import numpy as np;one_twelve=np.arange(1,13)\",\n",
    "                            number = num_iters)\n",
    "\n",
    "\n",
    "print (f\"Normal Python: {py_secs:12.3f} sec\")\n",
    "\n",
    "print(f\"NumPy Times: {array_secs:>14.3f} sec\")\n",
    "\n",
    "print(f\"NumPy Outer Product: {array_secs2:>6.3f} sec\")\n",
    "\n",
    "print(f\"NumPy Matrix Product: {array_secs3:.3f} sec\")\n"
   ]
  },
  {
   "cell_type": "code",
   "execution_count": null,
   "metadata": {
    "collapsed": true
   },
   "outputs": [],
   "source": []
  }
 ],
 "metadata": {
  "kernelspec": {
   "display_name": "Python 3 (ipykernel)",
   "language": "python",
   "name": "python3"
  },
  "language_info": {
   "codemirror_mode": {
    "name": "ipython",
    "version": 3
   },
   "file_extension": ".py",
   "mimetype": "text/x-python",
   "name": "python",
   "nbconvert_exporter": "python",
   "pygments_lexer": "ipython3",
   "version": "3.10.6"
  },
  "toc": {
   "colors": {
    "hover_highlight": "#DAA520",
    "running_highlight": "#FF0000",
    "selected_highlight": "#FFD700"
   },
   "moveMenuLeft": true,
   "nav_menu": {
    "height": "30px",
    "width": "252px"
   },
   "navigate_menu": true,
   "number_sections": true,
   "sideBar": true,
   "threshold": 4,
   "toc_cell": false,
   "toc_section_display": "block",
   "toc_window_display": false,
   "widenNotebook": false
  }
 },
 "nbformat": 4,
 "nbformat_minor": 1
}
