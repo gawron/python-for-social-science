{
 "cells": [
  {
   "cell_type": "markdown",
   "metadata": {
    "colab": {},
    "colab_type": "code",
    "id": "LXs4hfRjwmqL"
   },
   "source": [
    "# Part 1 Containers  28 points"
   ]
  },
  {
   "cell_type": "markdown",
   "metadata": {},
   "source": [
    "You must execute the next cell, which we will refer to as the **data cell**, to do the problems in this section."
   ]
  },
  {
   "cell_type": "code",
   "execution_count": 43,
   "metadata": {},
   "outputs": [],
   "source": [
    "# Data cell\n",
    "\n",
    "epsilon_left = 'abcde'\n",
    "epsilon_right = 'zyxwv'\n",
    "epsilon = list(zip(epsilon_left,epsilon_right))\n",
    "fruit = ['tomato','cabbage','persimmon','rambutan','mangosteen']\n",
    "frittata = {'alpha': epsilon_left + epsilon_right,\n",
    "            'beta': epsilon_right + epsilon_left,\n",
    "            'delta': fruit,\n",
    "            'gamma': dict(epsilon)}"
   ]
  },
  {
   "cell_type": "markdown",
   "metadata": {},
   "source": [
    "Using the containers in the data cell, write a single Python expression (so, **not** a for-loop) which returns the given values.  Sometimes there are actually many possible answers.  Try for the simplest."
   ]
  },
  {
   "cell_type": "markdown",
   "metadata": {},
   "source": [
    "# 1.1  4 points\n",
    "\n",
    "Return '`bc`'"
   ]
  },
  {
   "cell_type": "code",
   "execution_count": 37,
   "metadata": {
    "scrolled": true
   },
   "outputs": [
    {
     "data": {
      "text/plain": [
       "'bc'"
      ]
     },
     "execution_count": 37,
     "metadata": {},
     "output_type": "execute_result"
    }
   ],
   "source": [
    "epsilon_left[1:3]"
   ]
  },
  {
   "cell_type": "markdown",
   "metadata": {},
   "source": [
    "# 1.2  4 points\n",
    "\n",
    "Return '`dezy`'"
   ]
  },
  {
   "cell_type": "code",
   "execution_count": 44,
   "metadata": {},
   "outputs": [
    {
     "data": {
      "text/plain": [
       "'dezy'"
      ]
     },
     "execution_count": 44,
     "metadata": {},
     "output_type": "execute_result"
    }
   ],
   "source": [
    "frittata['alpha'][3:7]"
   ]
  },
  {
   "cell_type": "markdown",
   "metadata": {},
   "source": [
    "#### Wrong answers"
   ]
  },
  {
   "cell_type": "code",
   "execution_count": 66,
   "metadata": {},
   "outputs": [
    {
     "data": {
      "text/plain": [
       "'dezy'"
      ]
     },
     "execution_count": 66,
     "metadata": {},
     "output_type": "execute_result"
    }
   ],
   "source": [
    "epsilon_left[-2:] + epsilon_right[:2]"
   ]
  },
  {
   "cell_type": "markdown",
   "metadata": {},
   "source": [
    "Too complicated.  Inspect your containers and learn about\n",
    "the structure that has already been built for you.\n",
    "\n",
    "The idea is that you are not just passive recipients of\n",
    "the data in the data cell above.  You **inspect** your data,\n",
    "by evaluating cells like the following."
   ]
  },
  {
   "cell_type": "code",
   "execution_count": 63,
   "metadata": {},
   "outputs": [
    {
     "data": {
      "text/plain": [
       "{'alpha': 'abcdezyxwv',\n",
       " 'beta': 'zyxwvabcde',\n",
       " 'delta': ['tomato', 'cabbage', 'persimmon', 'rambutan', 'mangosteen'],\n",
       " 'gamma': {'a': 'z', 'b': 'y', 'c': 'x', 'd': 'w', 'e': 'v'}}"
      ]
     },
     "execution_count": 63,
     "metadata": {},
     "output_type": "execute_result"
    }
   ],
   "source": [
    "frittata"
   ]
  },
  {
   "cell_type": "code",
   "execution_count": 62,
   "metadata": {},
   "outputs": [
    {
     "data": {
      "text/plain": [
       "'abcdezyxwv'"
      ]
     },
     "execution_count": 62,
     "metadata": {},
     "output_type": "execute_result"
    }
   ],
   "source": [
    "frittata['alpha']"
   ]
  },
  {
   "cell_type": "markdown",
   "metadata": {},
   "source": [
    "# 1.3  4 points\n",
    "\n",
    "Return `'persimmon'`."
   ]
  },
  {
   "cell_type": "code",
   "execution_count": 49,
   "metadata": {},
   "outputs": [
    {
     "data": {
      "text/plain": [
       "'persimmon'"
      ]
     },
     "execution_count": 49,
     "metadata": {},
     "output_type": "execute_result"
    }
   ],
   "source": [
    "fruit[2]"
   ]
  },
  {
   "cell_type": "markdown",
   "metadata": {},
   "source": [
    "# 1.4  4 points\n",
    "\n",
    "Return '`but`'"
   ]
  },
  {
   "cell_type": "code",
   "execution_count": 46,
   "metadata": {},
   "outputs": [
    {
     "data": {
      "text/plain": [
       "'but'"
      ]
     },
     "execution_count": 46,
     "metadata": {},
     "output_type": "execute_result"
    }
   ],
   "source": [
    "frittata['delta'][3][3:6]"
   ]
  },
  {
   "cell_type": "markdown",
   "metadata": {},
   "source": [
    "# 1.5  4 points\n",
    "\n",
    "Return '`{'a': 'z', 'b': 'y', 'c': 'x', 'd': 'w', 'e': 'v'}`'"
   ]
  },
  {
   "cell_type": "code",
   "execution_count": 38,
   "metadata": {},
   "outputs": [
    {
     "data": {
      "text/plain": [
       "{'a': 'z', 'b': 'y', 'c': 'x', 'd': 'w', 'e': 'v'}"
      ]
     },
     "execution_count": 38,
     "metadata": {},
     "output_type": "execute_result"
    }
   ],
   "source": [
    "frittata['gamma']"
   ]
  },
  {
   "cell_type": "markdown",
   "metadata": {},
   "source": [
    "People tried all kinds of things (sometimes unsuccessfully) to get their dictionaries to print out in the order given above. \n",
    "When this got overly complicated or incorrect, it was a deduction.\n",
    "\n",
    "But a dictionary is a **set** of key-value pairs so `frittata['gamma']` is always == to a dictionary with the same key value pairs, no matter what order the key-value pairs were added to the dictionary in.  "
   ]
  },
  {
   "cell_type": "code",
   "execution_count": 54,
   "metadata": {},
   "outputs": [
    {
     "name": "stdout",
     "output_type": "stream",
     "text": [
      "[('a', 'z'), ('b', 'y'), ('c', 'x'), ('d', 'w'), ('e', 'v')]\n",
      "[('a', 'z'), ('c', 'x'), ('e', 'v'), ('d', 'w'), ('b', 'y')]\n",
      "{'a': 'z', 'b': 'y', 'c': 'x', 'd': 'w', 'e': 'v'}\n",
      "{'a': 'z', 'c': 'x', 'e': 'v', 'd': 'w', 'b': 'y'}\n"
     ]
    },
    {
     "data": {
      "text/plain": [
       "True"
      ]
     },
     "execution_count": 54,
     "metadata": {},
     "output_type": "execute_result"
    }
   ],
   "source": [
    "import random\n",
    " \n",
    "# Make a list of the key value pairs from frittata['gamma']\n",
    "L = list(frittata['gamma'].items())\n",
    "print(L)\n",
    "# Use this great shuffle function from the random module\n",
    "random.shuffle(L)\n",
    "print(L)\n",
    "new_dict = dict(L)\n",
    "print(frittata['gamma'])\n",
    "print(new_dict)\n",
    "frittata['gamma'] == new_dict"
   ]
  },
  {
   "cell_type": "markdown",
   "metadata": {},
   "source": [
    "# 1.6  4 points\n",
    "\n",
    "Return \n",
    "\n",
    "`[('c', 'x'), ('d', 'w')]`"
   ]
  },
  {
   "cell_type": "code",
   "execution_count": 51,
   "metadata": {},
   "outputs": [
    {
     "data": {
      "text/plain": [
       "[('c', 'x'), ('d', 'w')]"
      ]
     },
     "execution_count": 51,
     "metadata": {},
     "output_type": "execute_result"
    }
   ],
   "source": [
    "epsilon[2:4]"
   ]
  },
  {
   "cell_type": "markdown",
   "metadata": {},
   "source": [
    "# 1.7  4 points\n",
    "\n",
    "Compare the results in the next two cells.\n",
    "\n",
    "Explain why one expression raises an `Exception` and the other does not, even\n",
    "though both involve accessing data defined in `epsilon`."
   ]
  },
  {
   "cell_type": "code",
   "execution_count": 52,
   "metadata": {
    "scrolled": true
   },
   "outputs": [
    {
     "ename": "TypeError",
     "evalue": "list indices must be integers or slices, not str",
     "output_type": "error",
     "traceback": [
      "\u001b[0;31m---------------------------------------------------------------------------\u001b[0m",
      "\u001b[0;31mTypeError\u001b[0m                                 Traceback (most recent call last)",
      "\u001b[0;32m<ipython-input-52-e7d907f38a18>\u001b[0m in \u001b[0;36m<module>\u001b[0;34m\u001b[0m\n\u001b[0;32m----> 1\u001b[0;31m \u001b[0mepsilon\u001b[0m\u001b[0;34m[\u001b[0m\u001b[0;34m'c'\u001b[0m\u001b[0;34m]\u001b[0m\u001b[0;34m\u001b[0m\u001b[0;34m\u001b[0m\u001b[0m\n\u001b[0m",
      "\u001b[0;31mTypeError\u001b[0m: list indices must be integers or slices, not str"
     ]
    }
   ],
   "source": [
    "epsilon['c']"
   ]
  },
  {
   "cell_type": "code",
   "execution_count": 53,
   "metadata": {},
   "outputs": [
    {
     "data": {
      "text/plain": [
       "'x'"
      ]
     },
     "execution_count": 53,
     "metadata": {},
     "output_type": "execute_result"
    }
   ],
   "source": [
    "frittata['gamma']['c']"
   ]
  },
  {
   "cell_type": "markdown",
   "metadata": {},
   "source": [
    "The container `epsilon` is a list of pairs; the container `frittata['gamma']` is a dictionary.  A list is a sequence and must be indexed by  an integer indicating position in the sequence.  A dictionary is a set of key-value pairs and must be indexed by keys.\n",
    "Hence, `epsilon['c']` is an error, and `frittata['gamma']['c']` is not. In particular `'c'` is one of the keys for the dictionary \n",
    "`frittata['gamma']`:"
   ]
  },
  {
   "cell_type": "code",
   "execution_count": 55,
   "metadata": {},
   "outputs": [
    {
     "data": {
      "text/plain": [
       "{'a': 'z', 'b': 'y', 'c': 'x', 'd': 'w', 'e': 'v'}"
      ]
     },
     "execution_count": 55,
     "metadata": {},
     "output_type": "execute_result"
    }
   ],
   "source": [
    "frittata['gamma']"
   ]
  },
  {
   "cell_type": "markdown",
   "metadata": {},
   "source": [
    "# Part 2 Functions, Loops  24 points"
   ]
  },
  {
   "cell_type": "markdown",
   "metadata": {},
   "source": [
    "You must execute the data cell to do the problems in this section."
   ]
  },
  {
   "cell_type": "code",
   "execution_count": 5,
   "metadata": {},
   "outputs": [],
   "source": [
    "# Data cell\n",
    "\n",
    "import numpy as np\n",
    "\n",
    "xx = np.arange(0,22,3)\n",
    "\n",
    "sad_story = \"\"\"Billy the Kid lived in the Wild West long ago .\n",
    "He was an outlaw .\n",
    "He was friends with Pat Garrett who was a lawman .\n",
    "One day Pat Garrett had to bring Billy the Kid in .\n",
    "Billy would not come .\n",
    "They had a gunfight and Pat shot his friend Billy .\n",
    "\"\"\""
   ]
  },
  {
   "cell_type": "code",
   "execution_count": null,
   "metadata": {},
   "outputs": [],
   "source": []
  },
  {
   "cell_type": "markdown",
   "metadata": {},
   "source": [
    "### 2.1  4 points\n",
    "\n",
    "Write a loop (it can be a list comprehension) that computes a list of the odd numbers in `xx`.\n",
    "\n",
    "Do not import any python packages to help (that would suggest that you have\n",
    "not been doing the material in the first part of the class and have done a google search to solve this problem).\n",
    "\n",
    "You may find it useful to be reminded of the `%`-operator:\n",
    "\n",
    "x%y\n",
    "\n",
    "returns the remainder when x is divided by y.  So, for example,\n",
    "\n",
    "```\n",
    ">>> 17%3\n",
    "2\n",
    "```\n",
    "\n",
    "Note: although `xx` is a numpy array, for the purposes of this section you\n",
    "may treat it as if it were a list."
   ]
  },
  {
   "cell_type": "code",
   "execution_count": 59,
   "metadata": {
    "scrolled": true
   },
   "outputs": [
    {
     "data": {
      "text/plain": [
       "[3, 9, 15, 21]"
      ]
     },
     "execution_count": 59,
     "metadata": {},
     "output_type": "execute_result"
    }
   ],
   "source": [
    "[x for x in xx if x%2 ==1]"
   ]
  },
  {
   "cell_type": "code",
   "execution_count": 5,
   "metadata": {},
   "outputs": [
    {
     "data": {
      "text/plain": [
       "[3, 9, 15, 21]"
      ]
     },
     "execution_count": 5,
     "metadata": {},
     "output_type": "execute_result"
    }
   ],
   "source": [
    "result = []\n",
    "\n",
    "for n in xx:\n",
    "    if n%2 == 1:\n",
    "        result.append(n)\n",
    "        \n",
    "result"
   ]
  },
  {
   "cell_type": "markdown",
   "metadata": {},
   "source": [
    "### 2.2  4 points\n",
    "\n",
    "Write a for-loop (it may be a list comprehension) that builds a list containing all instances of the letter  `f` in `sad_story`"
   ]
  },
  {
   "cell_type": "code",
   "execution_count": 62,
   "metadata": {},
   "outputs": [
    {
     "data": {
      "text/plain": [
       "['f', 'f', 'f']"
      ]
     },
     "execution_count": 62,
     "metadata": {},
     "output_type": "execute_result"
    }
   ],
   "source": [
    "[l for l in sad_story if l == 'f']"
   ]
  },
  {
   "cell_type": "markdown",
   "metadata": {},
   "source": [
    "Alternatively:"
   ]
  },
  {
   "cell_type": "code",
   "execution_count": 4,
   "metadata": {},
   "outputs": [
    {
     "data": {
      "text/plain": [
       "['f', 'f', 'f']"
      ]
     },
     "execution_count": 4,
     "metadata": {},
     "output_type": "execute_result"
    }
   ],
   "source": [
    "result = []\n",
    "\n",
    "for char in sad_story:\n",
    "    if char == 'f':\n",
    "        result.append(char)\n",
    "        \n",
    "result"
   ]
  },
  {
   "cell_type": "markdown",
   "metadata": {},
   "source": [
    "####  wrong answer"
   ]
  },
  {
   "cell_type": "markdown",
   "metadata": {},
   "source": [
    "JMG -2  What was requested was a list of letter instances not word instances.  No `.split()` needed.\n",
    "\n",
    "The idea here is to test your flexibility.  You are able to modify your code to fit the exact specs written, rather than modifying the specs to fit what you know how to write."
   ]
  },
  {
   "cell_type": "code",
   "execution_count": 68,
   "metadata": {},
   "outputs": [
    {
     "data": {
      "text/plain": [
       "['friends', 'gunfight', 'friend']"
      ]
     },
     "execution_count": 68,
     "metadata": {},
     "output_type": "execute_result"
    }
   ],
   "source": [
    "wrong_result = []\n",
    "\n",
    "for wd in sad_story.split():\n",
    "    if 'f' in wd:\n",
    "        wrong_result.append(wd)\n",
    "        \n",
    "wrong_result"
   ]
  },
  {
   "cell_type": "markdown",
   "metadata": {},
   "source": [
    "### 2.3  4 points\n",
    "\n",
    "Write a for-loop (it may be a list comprehension) that builds a list containing all instances of the word  `Kid` in `sad_story`."
   ]
  },
  {
   "cell_type": "code",
   "execution_count": 66,
   "metadata": {},
   "outputs": [
    {
     "data": {
      "text/plain": [
       "['Kid', 'Kid']"
      ]
     },
     "execution_count": 66,
     "metadata": {},
     "output_type": "execute_result"
    }
   ],
   "source": [
    "[w for w in sad_story.split() if w == 'Kid']"
   ]
  },
  {
   "cell_type": "code",
   "execution_count": 3,
   "metadata": {},
   "outputs": [
    {
     "data": {
      "text/plain": [
       "['Kid', 'Kid']"
      ]
     },
     "execution_count": 3,
     "metadata": {},
     "output_type": "execute_result"
    }
   ],
   "source": [
    "result = []\n",
    "\n",
    "for w in sad_story.split():\n",
    "    if w == 'Kid':\n",
    "        result.append(w)\n",
    "        \n",
    "result"
   ]
  },
  {
   "cell_type": "markdown",
   "metadata": {},
   "source": [
    "###  2.4  4 points\n",
    "\n",
    "Write a for loop that creates a dictionary containing the counts of all the words\n",
    "in `sad_story`.  Do not import any Python modules. \n",
    "\n",
    "Call your dictonary `wd_cts`.  If your program is correct `wd_cts`\n",
    "should contain the following count:\n",
    "\n",
    "```\n",
    ">>> wd_counts['in']\n",
    "2\n",
    "```"
   ]
  },
  {
   "cell_type": "code",
   "execution_count": 19,
   "metadata": {},
   "outputs": [
    {
     "data": {
      "text/plain": [
       "2"
      ]
     },
     "execution_count": 19,
     "metadata": {},
     "output_type": "execute_result"
    }
   ],
   "source": [
    "wd_cts = dict()\n",
    "for wd in sad_story.split():\n",
    "    if wd in wd_cts:\n",
    "        wd_cts[wd] += 1\n",
    "    else:\n",
    "        wd_cts[wd] = 1\n",
    "\n",
    "wd_cts['in']"
   ]
  },
  {
   "cell_type": "code",
   "execution_count": 24,
   "metadata": {},
   "outputs": [
    {
     "data": {
      "text/plain": [
       "4"
      ]
     },
     "execution_count": 24,
     "metadata": {},
     "output_type": "execute_result"
    }
   ],
   "source": [
    "wd_cts['Billy']"
   ]
  },
  {
   "cell_type": "markdown",
   "metadata": {},
   "source": [
    "#### 2.4 Some bad solutions"
   ]
  },
  {
   "cell_type": "markdown",
   "metadata": {},
   "source": [
    "#### Using .count"
   ]
  },
  {
   "cell_type": "markdown",
   "metadata": {},
   "source": [
    "We're going to  look at a bad solution that many of you found,\n",
    "using the `count` method for sequences.  Here is an example."
   ]
  },
  {
   "cell_type": "code",
   "execution_count": 25,
   "metadata": {},
   "outputs": [
    {
     "data": {
      "text/plain": [
       "4"
      ]
     },
     "execution_count": 25,
     "metadata": {},
     "output_type": "execute_result"
    }
   ],
   "source": [
    "ct_dict = dict()\n",
    "\n",
    "word_list = sad_story.split()\n",
    "\n",
    "for word in word_list:\n",
    "    ct_dict[word] = word_list.count(word)\n",
    "    \n",
    "ct_dict['Billy']"
   ]
  },
  {
   "cell_type": "code",
   "execution_count": 26,
   "metadata": {},
   "outputs": [
    {
     "name": "stdout",
     "output_type": "stream",
     "text": [
      "story length 55\n",
      "\n",
      "Billy 4\n",
      "Billy 4\n",
      "Billy 4\n",
      "Billy 4\n"
     ]
    }
   ],
   "source": [
    "ct_dict = dict()\n",
    "\n",
    "word_list = sad_story.split()\n",
    "\n",
    "print(\"story length\", len(word_list))\n",
    "print()\n",
    "for word in word_list:\n",
    "    if word == 'Billy':\n",
    "        print(word, word_list.count(word))\n",
    "    ct_dict[word] = word_list.count(word)"
   ]
  },
  {
   "cell_type": "markdown",
   "metadata": {},
   "source": [
    "The loop was wasteful.  The method \".count\" loops through `word_list` each time it is called, \n",
    "so you are looping through `word_list` 55 times,\n",
    "because you call count 55 times, once for each of the 55 words in `word_list`.  The recommended solution above loops through `word_list` once, computing the counts correctly."
   ]
  },
  {
   "cell_type": "markdown",
   "metadata": {},
   "source": [
    "#### Computing the same thing many times"
   ]
  },
  {
   "cell_type": "markdown",
   "metadata": {},
   "source": [
    "One of the reasons you store the result of a computation in a variable is so that you wont have to that computation twice.\n",
    "\n",
    "Consider this \"dictionary comprehension\" version of the \n",
    ".count solution, which illustrates a kind of Pythonic style\n",
    "sometimes called \"Always do it all in one line,\" because\n",
    "it used to be considered a very cool feature of Python that so many\n",
    "complicated thiongs could be done in one line."
   ]
  },
  {
   "cell_type": "code",
   "execution_count": 11,
   "metadata": {},
   "outputs": [],
   "source": [
    "# dictonary comprehension\n",
    "wd_cts2 = {key: sad_story.replace(\".\", \"\").split().count(key) \n",
    "             for key in set(sad_story.replace(\".\", \"\").split())}\n"
   ]
  },
  {
   "cell_type": "markdown",
   "metadata": {},
   "source": [
    "This code would both be more readable and more efficient\n",
    "if we abandoned the \n",
    "\"do it all in one line\" philosophy.  Suppose we did \n",
    "the following at the beginning of our code."
   ]
  },
  {
   "cell_type": "code",
   "execution_count": 9,
   "metadata": {},
   "outputs": [],
   "source": [
    "word_list = sad_story.replace(\".\", \"\").split()"
   ]
  },
  {
   "cell_type": "markdown",
   "metadata": {},
   "source": [
    "Then our dictionary comprehension would read"
   ]
  },
  {
   "cell_type": "code",
   "execution_count": 27,
   "metadata": {},
   "outputs": [],
   "source": [
    "wd_cts3 = {key: word_list.count(key) for key in set(word_list)}"
   ]
  },
  {
   "cell_type": "markdown",
   "metadata": {},
   "source": [
    "We have improved our code.  Why?"
   ]
  },
  {
   "cell_type": "markdown",
   "metadata": {},
   "source": [
    "**Readability**:  It's now clear what we're doing because\n",
    "we separate out the splitting into a list from the\n",
    "counting.\n",
    "\n",
    "**Efficiency**:  Moreover by\n",
    "placing the expression defining `word_list` after `key:` in our original dictionary comprehension \n",
    "we were splitting and editing that same string once each time\n",
    "through the loop, that is, 35 times --- each time\n",
    "computing the same word_list --- so the \"do it all\n",
    "in one line\" philosophy led  to a considerable\n",
    "loss in efficiency. \n",
    "\n",
    "In this  revised version,\n",
    "the string is split and edited only once,\n",
    "gaining efficiency along with readability.\n"
   ]
  },
  {
   "cell_type": "markdown",
   "metadata": {},
   "source": [
    "Note:  The dictionary comprehension using `.count`\n",
    "is more efficient than the for-loop version because it \n",
    "loops through the set of words in `sad_story` instead of\n",
    "the list."
   ]
  },
  {
   "cell_type": "code",
   "execution_count": 12,
   "metadata": {},
   "outputs": [
    {
     "data": {
      "text/plain": [
       "35"
      ]
     },
     "execution_count": 12,
     "metadata": {},
     "output_type": "execute_result"
    }
   ],
   "source": [
    "len(set(word_list))"
   ]
  },
  {
   "cell_type": "markdown",
   "metadata": {},
   "source": [
    "This is better because you  aren't computing the\n",
    "the count of `Billy` 4 times, but tt's still a version\n",
    "of the .count solution. It still loops through\n",
    "all of word list for each word in the vocabulary (35 times),\n",
    "so it's still wasteful.  Because the counting can be done\n",
    "in one pass."
   ]
  },
  {
   "cell_type": "code",
   "execution_count": null,
   "metadata": {},
   "outputs": [],
   "source": [
    "wd_cts3 = {key: word_list.count(key) for key in set(word_list)}"
   ]
  },
  {
   "cell_type": "markdown",
   "metadata": {},
   "source": [
    "#### .split vs .split(' ')"
   ]
  },
  {
   "cell_type": "markdown",
   "metadata": {},
   "source": [
    "Let's return to the \"right \" solution but with one variant,\n",
    "using `.split(' ')` instead of `.split()`."
   ]
  },
  {
   "cell_type": "code",
   "execution_count": 20,
   "metadata": {},
   "outputs": [
    {
     "data": {
      "text/plain": [
       "2"
      ]
     },
     "execution_count": 20,
     "metadata": {},
     "output_type": "execute_result"
    }
   ],
   "source": [
    "word_list2 = sad_story.split(' ')\n",
    "wd_cts4 = dict()\n",
    "for wd in word_list2:\n",
    "    if wd in wd_cts4:\n",
    "        wd_cts4[wd] += 1\n",
    "    else:\n",
    "        wd_cts4[wd] = 1\n",
    "\n",
    "wd_cts4['in']"
   ]
  },
  {
   "cell_type": "markdown",
   "metadata": {},
   "source": [
    "Something went wrong."
   ]
  },
  {
   "cell_type": "code",
   "execution_count": 23,
   "metadata": {},
   "outputs": [
    {
     "data": {
      "text/plain": [
       "3"
      ]
     },
     "execution_count": 23,
     "metadata": {},
     "output_type": "execute_result"
    }
   ],
   "source": [
    "wd_cts4['Billy']"
   ]
  },
  {
   "cell_type": "code",
   "execution_count": 21,
   "metadata": {},
   "outputs": [
    {
     "data": {
      "text/plain": [
       "{'Billy': 3,\n",
       " 'the': 3,\n",
       " 'Kid': 2,\n",
       " 'lived': 1,\n",
       " 'in': 2,\n",
       " 'Wild': 1,\n",
       " 'West': 1,\n",
       " 'long': 1,\n",
       " 'ago': 1,\n",
       " '.\\nHe': 2,\n",
       " 'was': 3,\n",
       " 'an': 1,\n",
       " 'outlaw': 1,\n",
       " 'friends': 1,\n",
       " 'with': 1,\n",
       " 'Pat': 3,\n",
       " 'Garrett': 2,\n",
       " 'who': 1,\n",
       " 'a': 2,\n",
       " 'lawman': 1,\n",
       " '.\\nOne': 1,\n",
       " 'day': 1,\n",
       " 'had': 2,\n",
       " 'to': 1,\n",
       " 'bring': 1,\n",
       " '.\\nBilly': 1,\n",
       " 'would': 1,\n",
       " 'not': 1,\n",
       " 'come': 1,\n",
       " '.\\nThey': 1,\n",
       " 'gunfight': 1,\n",
       " 'and': 1,\n",
       " 'shot': 1,\n",
       " 'his': 1,\n",
       " 'friend': 1,\n",
       " '.\\n': 1}"
      ]
     },
     "execution_count": 21,
     "metadata": {},
     "output_type": "execute_result"
    }
   ],
   "source": [
    "wd_cts4"
   ]
  },
  {
   "cell_type": "markdown",
   "metadata": {},
   "source": [
    "Eyeballing the count we see a number of words, including `\"\\nBilly\"`,\n",
    "which begin with `\"\\n\"`.  This is because split(\" \") is splitting only on space (as it was told to!) and not genereally handling\n",
    "white space corectly (a newline character should be treated as white space too!).\n",
    "\n",
    "So the rule with text is, if you're shooring for a list of words,\n",
    "use `.split()` and not `.split(' ')`; `.split()` uses a soophisticated\n",
    "regular expression definition of white space, and will almnost\n",
    "always work better."
   ]
  },
  {
   "cell_type": "markdown",
   "metadata": {},
   "source": [
    "### 2.5  4 points\n",
    "\n",
    "Write a **function** `find_word_forms` that takes a string `text_str` and a word `form` as its **two** arguments and returns all **words** in `text_str` that begin with `form`.\n",
    "Write this without importing any Python modules.\n",
    "\n",
    "Here are some tests that your function should pass:\n",
    "\n",
    "```\n",
    ">>> find_word_forms(sad_story, 'friend')\n",
    "['friends', 'friend']\n",
    ">>> find_word_forms(\"I'm singing in the rain\", 'friend')\n",
    "[]\n",
    ">>> find_word_forms(\"I'm singing in the rain\", 'in')\n",
    "['in']\n",
    ">>> find_word_forms(\"I'm singing in the rain\", 'sing')\n",
    "['singing']\n",
    ">>> find_word_forms(\"I'm finding you fine\", 'fin')\n",
    "['finding', 'fine']\n",
    ">>> find_word_forms(sad_story, 't')\n",
    "['the', 'the', 'to', 'the']\n",
    "```\n",
    "\n",
    "Hint:  You may find it helpful to remember the\n",
    "string method `startswith`."
   ]
  },
  {
   "cell_type": "code",
   "execution_count": 12,
   "metadata": {},
   "outputs": [],
   "source": [
    "def find_word_forms (text_str, form):\n",
    "    return [wd for wd in text_str.split() if wd.startswith(form)]"
   ]
  },
  {
   "cell_type": "code",
   "execution_count": 11,
   "metadata": {},
   "outputs": [],
   "source": [
    "def find_word_forms_2 (text_str, form):\n",
    "    result = []\n",
    "    for wd in text_str.split():\n",
    "        if wd.startswith(form):\n",
    "            result.append(wd)\n",
    "    return result "
   ]
  },
  {
   "cell_type": "code",
   "execution_count": 13,
   "metadata": {},
   "outputs": [
    {
     "data": {
      "text/plain": [
       "['the', 'the', 'to', 'the']"
      ]
     },
     "execution_count": 13,
     "metadata": {},
     "output_type": "execute_result"
    }
   ],
   "source": [
    "find_word_forms(sad_story, 't')"
   ]
  },
  {
   "cell_type": "code",
   "execution_count": 14,
   "metadata": {},
   "outputs": [
    {
     "data": {
      "text/plain": [
       "['the', 'the', 'to', 'the']"
      ]
     },
     "execution_count": 14,
     "metadata": {},
     "output_type": "execute_result"
    }
   ],
   "source": [
    "find_word_forms_2(sad_story, 't')"
   ]
  },
  {
   "cell_type": "markdown",
   "metadata": {},
   "source": [
    "### 2.6   4 points\n",
    "\n",
    "Write a function that converts degrees to radians. You are allowed\n",
    "to use the following import statement:\n",
    "\n",
    "```\n",
    "from numpy import pi\n",
    "```\n",
    "\n",
    "The formula is\n",
    "\n",
    "```\n",
    "Radians = (Degrees/360) * 2 * pi\n",
    "```\n",
    "\n",
    "Here are some tests\n",
    "\n",
    "```\n",
    ">>> deg2rad(360)\n",
    "6.283185307179586\n",
    ">>> deg2rad(90)\n",
    "1.5707963267948966\n",
    ">>> deg2rad(72)\n",
    "1.2566370614359172\n",
    "```"
   ]
  },
  {
   "cell_type": "code",
   "execution_count": 1,
   "metadata": {},
   "outputs": [],
   "source": [
    "from numpy import pi\n",
    "\n",
    "def deg2rad (deg):\n",
    "    return (deg/360) * 2 * pi\n",
    "\n",
    "def deg2rad_equiv (deg):\n",
    "    return (deg/180) * pi\n",
    "\n",
    "scale_factor = pi/180\n",
    "\n",
    "def deg2rad_more_efficient (deg):\n",
    "    return deg * scale_factor"
   ]
  },
  {
   "cell_type": "code",
   "execution_count": 2,
   "metadata": {},
   "outputs": [
    {
     "name": "stdout",
     "output_type": "stream",
     "text": [
      "6.283185307179586\n",
      "1.5707963267948966\n",
      "1.2566370614359172\n"
     ]
    }
   ],
   "source": [
    "print(deg2rad(360))\n",
    "print(deg2rad(90))\n",
    "print(deg2rad(72))"
   ]
  },
  {
   "cell_type": "code",
   "execution_count": 3,
   "metadata": {},
   "outputs": [
    {
     "name": "stdout",
     "output_type": "stream",
     "text": [
      "6.283185307179586\n",
      "1.5707963267948966\n",
      "1.2566370614359172\n"
     ]
    }
   ],
   "source": [
    "print(deg2rad_more_efficient(360))\n",
    "print(deg2rad_more_efficient(90))\n",
    "print(deg2rad_more_efficient(72))"
   ]
  },
  {
   "cell_type": "markdown",
   "metadata": {},
   "source": [
    "# Part 3 Numpy arrays 24 points"
   ]
  },
  {
   "cell_type": "markdown",
   "metadata": {},
   "source": [
    "You must execute the next cell to do the problems in this section."
   ]
  },
  {
   "cell_type": "code",
   "execution_count": 28,
   "metadata": {},
   "outputs": [],
   "source": [
    "# Data cell\n",
    "\n",
    "import numpy as np\n",
    "\n",
    "xx = np.arange(0,43,3)\n",
    "\n",
    "yy = xx.reshape((3,5))"
   ]
  },
  {
   "cell_type": "code",
   "execution_count": 116,
   "metadata": {},
   "outputs": [
    {
     "data": {
      "text/plain": [
       "array([ 0,  3,  6,  9, 12, 15, 18, 21, 24, 27, 30, 33, 36, 39, 42])"
      ]
     },
     "execution_count": 116,
     "metadata": {},
     "output_type": "execute_result"
    }
   ],
   "source": [
    "xx"
   ]
  },
  {
   "cell_type": "markdown",
   "metadata": {},
   "source": [
    "### 3.1  4 points\n",
    "\n",
    "Write a single Python expression that returns 6 from `xx`"
   ]
  },
  {
   "cell_type": "code",
   "execution_count": 80,
   "metadata": {},
   "outputs": [
    {
     "data": {
      "text/plain": [
       "6"
      ]
     },
     "execution_count": 80,
     "metadata": {},
     "output_type": "execute_result"
    }
   ],
   "source": [
    "xx[2]"
   ]
  },
  {
   "cell_type": "markdown",
   "metadata": {},
   "source": [
    "# 3.2\n",
    "\n",
    "Write a single Python expression  that returns all members of `xx` divisible by 6.\n",
    "Hint: Use a splice."
   ]
  },
  {
   "cell_type": "code",
   "execution_count": 81,
   "metadata": {
    "scrolled": true
   },
   "outputs": [
    {
     "data": {
      "text/plain": [
       "array([ 0,  6, 12, 18, 24, 30, 36, 42])"
      ]
     },
     "execution_count": 81,
     "metadata": {},
     "output_type": "execute_result"
    }
   ],
   "source": [
    "xx[::2]"
   ]
  },
  {
   "cell_type": "code",
   "execution_count": 17,
   "metadata": {},
   "outputs": [
    {
     "data": {
      "text/plain": [
       "array([ 0,  6, 12, 18, 24, 30, 36, 42])"
      ]
     },
     "execution_count": 17,
     "metadata": {},
     "output_type": "execute_result"
    }
   ],
   "source": [
    "xx[xx%6==0]"
   ]
  },
  {
   "cell_type": "markdown",
   "metadata": {},
   "source": [
    "### 3.3  4 points\n",
    "\n",
    "Write a single Python expression  that returns all members of `xx` greater than 18.\n",
    "you may use a splice if you wish."
   ]
  },
  {
   "cell_type": "code",
   "execution_count": 119,
   "metadata": {},
   "outputs": [
    {
     "data": {
      "text/plain": [
       "array([21, 24, 27, 30, 33, 36, 39, 42])"
      ]
     },
     "execution_count": 119,
     "metadata": {},
     "output_type": "execute_result"
    }
   ],
   "source": [
    "xx[7:]"
   ]
  },
  {
   "cell_type": "markdown",
   "metadata": {},
   "source": [
    "### 3.4  4 points\n",
    "\n",
    "Write a single Python expression  that returns the following\n",
    "1D array from `yy`.\n",
    "\n",
    "```\n",
    "[15, 18, 21, 24, 27]\n",
    "```"
   ]
  },
  {
   "cell_type": "code",
   "execution_count": 88,
   "metadata": {},
   "outputs": [
    {
     "data": {
      "text/plain": [
       "array([15, 18, 21, 24, 27])"
      ]
     },
     "execution_count": 88,
     "metadata": {},
     "output_type": "execute_result"
    }
   ],
   "source": [
    "yy[1]"
   ]
  },
  {
   "cell_type": "markdown",
   "metadata": {},
   "source": [
    "Equivalently:"
   ]
  },
  {
   "cell_type": "code",
   "execution_count": 33,
   "metadata": {},
   "outputs": [
    {
     "data": {
      "text/plain": [
       "array([15, 18, 21, 24, 27])"
      ]
     },
     "execution_count": 33,
     "metadata": {},
     "output_type": "execute_result"
    }
   ],
   "source": [
    "yy[1,:]"
   ]
  },
  {
   "cell_type": "markdown",
   "metadata": {},
   "source": [
    "Wrong:"
   ]
  },
  {
   "cell_type": "code",
   "execution_count": 29,
   "metadata": {},
   "outputs": [
    {
     "data": {
      "text/plain": [
       "array([[15, 18, 21, 24, 27]])"
      ]
     },
     "execution_count": 29,
     "metadata": {},
     "output_type": "execute_result"
    }
   ],
   "source": [
    "yy[1:2]"
   ]
  },
  {
   "cell_type": "markdown",
   "metadata": {},
   "source": [
    "Notice the extra square brackets.  This is a 2D array:"
   ]
  },
  {
   "cell_type": "code",
   "execution_count": 30,
   "metadata": {},
   "outputs": [
    {
     "data": {
      "text/plain": [
       "(1, 5)"
      ]
     },
     "execution_count": 30,
     "metadata": {},
     "output_type": "execute_result"
    }
   ],
   "source": [
    "yy[1:2].shape"
   ]
  },
  {
   "cell_type": "code",
   "execution_count": 32,
   "metadata": {},
   "outputs": [
    {
     "data": {
      "text/plain": [
       "(5,)"
      ]
     },
     "execution_count": 32,
     "metadata": {},
     "output_type": "execute_result"
    }
   ],
   "source": [
    "yy[1].shape"
   ]
  },
  {
   "cell_type": "markdown",
   "metadata": {},
   "source": [
    "### 3.5  4 points\n",
    "\n",
    "Write a single Python expression  that returns the following\n",
    "2D array from `yy`.\n",
    "\n",
    "```\n",
    "array([[ 0,  3,  6,  9, 12],\n",
    "       [15, 18, 21, 24, 27]])\n",
    "```"
   ]
  },
  {
   "cell_type": "code",
   "execution_count": 84,
   "metadata": {
    "scrolled": true
   },
   "outputs": [
    {
     "data": {
      "text/plain": [
       "array([[ 0,  3,  6,  9, 12],\n",
       "       [15, 18, 21, 24, 27]])"
      ]
     },
     "execution_count": 84,
     "metadata": {},
     "output_type": "execute_result"
    }
   ],
   "source": [
    "yy[:2]"
   ]
  },
  {
   "cell_type": "markdown",
   "metadata": {},
   "source": [
    "### 3.6  4 points\n",
    "\n",
    "Write a single Python expression  that returns the following\n",
    "2D array from `yy`.\n",
    "\n",
    "```\n",
    "array([[21, 24],\n",
    "       [36, 39]])\n",
    "```"
   ]
  },
  {
   "cell_type": "code",
   "execution_count": 90,
   "metadata": {},
   "outputs": [
    {
     "data": {
      "text/plain": [
       "array([[21, 24],\n",
       "       [36, 39]])"
      ]
     },
     "execution_count": 90,
     "metadata": {},
     "output_type": "execute_result"
    }
   ],
   "source": [
    "yy[1:3, 2:4]"
   ]
  },
  {
   "cell_type": "markdown",
   "metadata": {
    "colab_type": "text",
    "id": "HuGC8V_kxKtK"
   },
   "source": [
    "# Part 4  Wine Data  24 points\n",
    "\n",
    "In this exercise set, we load wine data. This is a multi class dataset that has data for three different wine types  (stored in `target` below) corresponding to three\n",
    "different cultivators in a particular region of Italy.  These will just\n",
    "be referred to as class_1 calss_2 and class_3 in the description below\n",
    "and in the questions.\n",
    "The chemical properties of the wine stored in the 2D numpy array `data` below are sufficient to identity the cultivator, but it's a challenging classification problem."
   ]
  },
  {
   "cell_type": "markdown",
   "metadata": {},
   "source": [
    "Wine recognition dataset\n",
    "-----------------------------\n",
    "\n",
    "**Data Set Characteristics:**\n",
    "\n",
    "    :Number of Instances: 178\n",
    "    :Number of Attributes: 13 numeric, predictive attributes and the class\n",
    "    :Attribute Information:\n",
    " \t\t- Alcohol\n",
    " \t\t- Malic acid\n",
    " \t\t- Ash\n",
    "\t\t- Alcalinity of ash  \n",
    " \t\t- Magnesium\n",
    "\t\t- Total phenols\n",
    " \t\t- Flavanoids\n",
    " \t\t- Nonflavanoid phenols\n",
    " \t\t- Proanthocyanins\n",
    "\t\t- Color intensity\n",
    " \t\t- Hue\n",
    " \t\t- OD280/OD315 of diluted wines\n",
    " \t\t- Proline\n",
    "\n",
    "    - class:\n",
    "            - class_0\n",
    "            - class_1\n",
    "            - class_2\n",
    "\t\t\n",
    "     \n",
    "    The wine atributes listed in their column order.\n",
    "    \n",
    "    ============================= ==== ===== ======= =====\n",
    "                                   Min   Max   Mean     SD\n",
    "    ============================= ==== ===== ======= =====\n",
    "    Alcohol:                      11.0  14.8    13.0   0.8\n",
    "    Malic Acid:                   0.74  5.80    2.34  1.12\n",
    "    Ash:                          1.36  3.23    2.36  0.27\n",
    "    Alcalinity of Ash:            10.6  30.0    19.5   3.3\n",
    "    Magnesium:                    70.0 162.0    99.7  14.3\n",
    "    Total Phenols:                0.98  3.88    2.29  0.63\n",
    "    Flavanoids:                   0.34  5.08    2.03  1.00\n",
    "    Nonflavanoid Phenols:         0.13  0.66    0.36  0.12\n",
    "    Proanthocyanins:              0.41  3.58    1.59  0.57\n",
    "    Colour Intensity:              1.3  13.0     5.1   2.3\n",
    "    Hue:                          0.48  1.71    0.96  0.23\n",
    "    OD280/OD315 of diluted wines: 1.27  4.00    2.61  0.71\n",
    "    Proline:                       278  1680     746   315\n",
    "    ============================= ==== ===== ======= =====\n",
    "\n",
    "    :Missing Attribute Values: None\n",
    "    :Class Distribution: class_0 (59), class_1 (71), class_2 (48)\n",
    "    :Creator: R.A. Fisher\n",
    "    :Donor: Michael Marshall (MARSHALL%PLU@io.arc.nasa.gov)\n",
    "    :Date: July, 1988\n",
    "\n",
    "This is a copy of UCI ML Wine recognition datasets.\n",
    "https://archive.ics.uci.edu/ml/machine-learning-databases/wine/wine.data\n",
    "\n",
    "The data is the results of a chemical analysis of wines grown in the same\n",
    "region in Italy by three different cultivators. There are thirteen different\n",
    "measurements taken for different constituents found in the three types of\n",
    "wine.\n",
    "\n",
    "Original Owners: \n",
    "\n",
    "Forina, M. et al, PARVUS - \n",
    "An Extendible Package for Data Exploration, Classification and Correlation. \n",
    "Institute of Pharmaceutical and Food Analysis and Technologies,\n",
    "Via Brigata Salerno, 16147 Genoa, Italy.\n",
    "\n",
    "Citation:\n",
    "\n",
    "Lichman, M. (2013). UCI Machine Learning Repository\n",
    "[https://archive.ics.uci.edu/ml]. Irvine, CA: University of California,\n",
    "School of Information and Computer Science. \n"
   ]
  },
  {
   "cell_type": "markdown",
   "metadata": {},
   "source": [
    "You must evaluate the next cell to do the problems in this section."
   ]
  },
  {
   "cell_type": "code",
   "execution_count": 34,
   "metadata": {},
   "outputs": [],
   "source": [
    "from sklearn.datasets import load_wine\n",
    "wdata = load_wine()\n",
    "data = wdata.data\n",
    "target = wdata.target"
   ]
  },
  {
   "cell_type": "markdown",
   "metadata": {},
   "source": [
    "### 4.0 4 points \n",
    "\n",
    "Write a Python expression that returns s Boolean array defining\n",
    "the set of rows of the `data` array with ash level less than 2.36  and flavinoids greater than 2.03."
   ]
  },
  {
   "cell_type": "code",
   "execution_count": 37,
   "metadata": {},
   "outputs": [],
   "source": [
    "B4_1 = (data[:,2] < 2.36) & (data[:,6] > 2.03)"
   ]
  },
  {
   "cell_type": "markdown",
   "metadata": {},
   "source": [
    "Wont work"
   ]
  },
  {
   "cell_type": "code",
   "execution_count": 35,
   "metadata": {},
   "outputs": [
    {
     "ename": "ValueError",
     "evalue": "The truth value of an array with more than one element is ambiguous. Use a.any() or a.all()",
     "output_type": "error",
     "traceback": [
      "\u001b[0;31m---------------------------------------------------------------------------\u001b[0m",
      "\u001b[0;31mValueError\u001b[0m                                Traceback (most recent call last)",
      "\u001b[0;32m<ipython-input-35-c183673da60b>\u001b[0m in \u001b[0;36m<module>\u001b[0;34m\u001b[0m\n\u001b[0;32m----> 1\u001b[0;31m \u001b[0mB4_1\u001b[0m \u001b[0;34m=\u001b[0m \u001b[0;34m(\u001b[0m\u001b[0mdata\u001b[0m\u001b[0;34m[\u001b[0m\u001b[0;34m:\u001b[0m\u001b[0;34m,\u001b[0m\u001b[0;36m2\u001b[0m\u001b[0;34m]\u001b[0m \u001b[0;34m<\u001b[0m \u001b[0;36m2.36\u001b[0m\u001b[0;34m)\u001b[0m \u001b[0;32mand\u001b[0m \u001b[0;34m(\u001b[0m\u001b[0mdata\u001b[0m\u001b[0;34m[\u001b[0m\u001b[0;34m:\u001b[0m\u001b[0;34m,\u001b[0m\u001b[0;36m6\u001b[0m\u001b[0;34m]\u001b[0m \u001b[0;34m>\u001b[0m \u001b[0;36m2.03\u001b[0m\u001b[0;34m)\u001b[0m\u001b[0;34m\u001b[0m\u001b[0m\n\u001b[0m",
      "\u001b[0;31mValueError\u001b[0m: The truth value of an array with more than one element is ambiguous. Use a.any() or a.all()"
     ]
    }
   ],
   "source": [
    "B4_1 = (data[:,2] < 2.36) and (data[:,6] > 2.03)"
   ]
  },
  {
   "cell_type": "markdown",
   "metadata": {},
   "source": [
    "A 1D array."
   ]
  },
  {
   "cell_type": "code",
   "execution_count": 38,
   "metadata": {},
   "outputs": [
    {
     "data": {
      "text/plain": [
       "(178,)"
      ]
     },
     "execution_count": 38,
     "metadata": {},
     "output_type": "execute_result"
    }
   ],
   "source": [
    "B4_1.shape"
   ]
  },
  {
   "cell_type": "markdown",
   "metadata": {},
   "source": [
    "Hence this is an error:"
   ]
  },
  {
   "cell_type": "code",
   "execution_count": 41,
   "metadata": {},
   "outputs": [
    {
     "ename": "IndexError",
     "evalue": "too many indices for array: array is 1-dimensional, but 2 were indexed",
     "output_type": "error",
     "traceback": [
      "\u001b[0;31m---------------------------------------------------------------------------\u001b[0m",
      "\u001b[0;31mIndexError\u001b[0m                                Traceback (most recent call last)",
      "\u001b[0;32m<ipython-input-41-6fb801b8ee9b>\u001b[0m in \u001b[0;36m<module>\u001b[0;34m\u001b[0m\n\u001b[0;32m----> 1\u001b[0;31m \u001b[0mB4_1\u001b[0m\u001b[0;34m[\u001b[0m\u001b[0;34m:\u001b[0m\u001b[0;36m10\u001b[0m\u001b[0;34m,\u001b[0m\u001b[0;34m:\u001b[0m\u001b[0;34m]\u001b[0m\u001b[0;34m\u001b[0m\u001b[0m\n\u001b[0m",
      "\u001b[0;31mIndexError\u001b[0m: too many indices for array: array is 1-dimensional, but 2 were indexed"
     ]
    }
   ],
   "source": [
    "B4_1[:10,:]"
   ]
  },
  {
   "cell_type": "code",
   "execution_count": null,
   "metadata": {},
   "outputs": [],
   "source": [
    "Defining a set of rows:"
   ]
  },
  {
   "cell_type": "code",
   "execution_count": 40,
   "metadata": {},
   "outputs": [
    {
     "data": {
      "text/plain": [
       "array([False,  True, False, False, False, False, False, False,  True,\n",
       "        True])"
      ]
     },
     "execution_count": 40,
     "metadata": {},
     "output_type": "execute_result"
    }
   ],
   "source": [
    "B4_1[:10]"
   ]
  },
  {
   "cell_type": "markdown",
   "metadata": {},
   "source": [
    "### 4.1  5 points\n",
    "\n",
    "Write a Python expression that returns the rows of the `data` array \n",
    "representing  wine samples with ash level less than 2.36  and flavinoids greater\n",
    "than 2.03.  "
   ]
  },
  {
   "cell_type": "markdown",
   "metadata": {},
   "source": [
    "JMG Our Boolean array can now be used as **mask** to return the set\n",
    "of rows we want:"
   ]
  },
  {
   "cell_type": "code",
   "execution_count": 25,
   "metadata": {},
   "outputs": [
    {
     "data": {
      "text/plain": [
       "array([[1.320e+01, 1.780e+00, 2.140e+00, 1.120e+01, 1.000e+02, 2.650e+00,\n",
       "        2.760e+00, 2.600e-01, 1.280e+00, 4.380e+00, 1.050e+00, 3.400e+00,\n",
       "        1.050e+03],\n",
       "       [1.483e+01, 1.640e+00, 2.170e+00, 1.400e+01, 9.700e+01, 2.800e+00,\n",
       "        2.980e+00, 2.900e-01, 1.980e+00, 5.200e+00, 1.080e+00, 2.850e+00,\n",
       "        1.045e+03],\n",
       "       [1.386e+01, 1.350e+00, 2.270e+00, 1.600e+01, 9.800e+01, 2.980e+00,\n",
       "        3.150e+00, 2.200e-01, 1.850e+00, 7.220e+00, 1.010e+00, 3.550e+00,\n",
       "        1.045e+03],\n",
       "       [1.410e+01, 2.160e+00, 2.300e+00, 1.800e+01, 1.050e+02, 2.950e+00,\n",
       "        3.320e+00, 2.200e-01, 2.380e+00, 5.750e+00, 1.250e+00, 3.170e+00,\n",
       "        1.510e+03],\n",
       "       [1.412e+01, 1.480e+00, 2.320e+00, 1.680e+01, 9.500e+01, 2.200e+00,\n",
       "        2.430e+00, 2.600e-01, 1.570e+00, 5.000e+00, 1.170e+00, 2.820e+00,\n",
       "        1.280e+03],\n",
       "       [1.406e+01, 1.630e+00, 2.280e+00, 1.600e+01, 1.260e+02, 3.000e+00,\n",
       "        3.170e+00, 2.400e-01, 2.100e+00, 5.650e+00, 1.090e+00, 3.710e+00,\n",
       "        7.800e+02],\n",
       "       [1.330e+01, 1.720e+00, 2.140e+00, 1.700e+01, 9.400e+01, 2.400e+00,\n",
       "        2.190e+00, 2.700e-01, 1.350e+00, 3.950e+00, 1.020e+00, 2.770e+00,\n",
       "        1.285e+03],\n",
       "       [1.402e+01, 1.680e+00, 2.210e+00, 1.600e+01, 9.600e+01, 2.650e+00,\n",
       "        2.330e+00, 2.600e-01, 1.980e+00, 4.700e+00, 1.040e+00, 3.590e+00,\n",
       "        1.035e+03],\n",
       "       [1.307e+01, 1.500e+00, 2.100e+00, 1.550e+01, 9.800e+01, 2.400e+00,\n",
       "        2.640e+00, 2.800e-01, 1.370e+00, 3.700e+00, 1.180e+00, 2.690e+00,\n",
       "        1.020e+03],\n",
       "       [1.356e+01, 1.710e+00, 2.310e+00, 1.620e+01, 1.170e+02, 3.150e+00,\n",
       "        3.290e+00, 3.400e-01, 2.340e+00, 6.130e+00, 9.500e-01, 3.380e+00,\n",
       "        7.950e+02],\n",
       "       [1.341e+01, 3.840e+00, 2.120e+00, 1.880e+01, 9.000e+01, 2.450e+00,\n",
       "        2.680e+00, 2.700e-01, 1.480e+00, 4.280e+00, 9.100e-01, 3.000e+00,\n",
       "        1.035e+03],\n",
       "       [1.324e+01, 3.980e+00, 2.290e+00, 1.750e+01, 1.030e+02, 2.640e+00,\n",
       "        2.630e+00, 3.200e-01, 1.660e+00, 4.360e+00, 8.200e-01, 3.000e+00,\n",
       "        6.800e+02],\n",
       "       [1.305e+01, 1.770e+00, 2.100e+00, 1.700e+01, 1.070e+02, 3.000e+00,\n",
       "        3.000e+00, 2.800e-01, 2.030e+00, 5.040e+00, 8.800e-01, 3.350e+00,\n",
       "        8.850e+02],\n",
       "       [1.438e+01, 3.590e+00, 2.280e+00, 1.600e+01, 1.020e+02, 3.250e+00,\n",
       "        3.170e+00, 2.700e-01, 2.190e+00, 4.900e+00, 1.040e+00, 3.440e+00,\n",
       "        1.065e+03],\n",
       "       [1.390e+01, 1.680e+00, 2.120e+00, 1.600e+01, 1.010e+02, 3.100e+00,\n",
       "        3.390e+00, 2.100e-01, 2.140e+00, 6.100e+00, 9.100e-01, 3.330e+00,\n",
       "        9.850e+02],\n",
       "       [1.394e+01, 1.730e+00, 2.270e+00, 1.740e+01, 1.080e+02, 2.880e+00,\n",
       "        3.540e+00, 3.200e-01, 2.080e+00, 8.900e+00, 1.120e+00, 3.100e+00,\n",
       "        1.260e+03],\n",
       "       [1.305e+01, 1.730e+00, 2.040e+00, 1.240e+01, 9.200e+01, 2.720e+00,\n",
       "        3.270e+00, 1.700e-01, 2.910e+00, 7.200e+00, 1.120e+00, 2.910e+00,\n",
       "        1.150e+03],\n",
       "       [1.374e+01, 1.670e+00, 2.250e+00, 1.640e+01, 1.180e+02, 2.600e+00,\n",
       "        2.900e+00, 2.100e-01, 1.620e+00, 5.850e+00, 9.200e-01, 3.200e+00,\n",
       "        1.060e+03],\n",
       "       [1.422e+01, 1.700e+00, 2.300e+00, 1.630e+01, 1.180e+02, 3.200e+00,\n",
       "        3.000e+00, 2.600e-01, 2.030e+00, 6.380e+00, 9.400e-01, 3.310e+00,\n",
       "        9.700e+02],\n",
       "       [1.237e+01, 1.130e+00, 2.160e+00, 1.900e+01, 8.700e+01, 3.500e+00,\n",
       "        3.100e+00, 1.900e-01, 1.870e+00, 4.450e+00, 1.220e+00, 2.870e+00,\n",
       "        4.200e+02],\n",
       "       [1.311e+01, 1.010e+00, 1.700e+00, 1.500e+01, 7.800e+01, 2.980e+00,\n",
       "        3.180e+00, 2.600e-01, 2.280e+00, 5.300e+00, 1.120e+00, 3.180e+00,\n",
       "        5.020e+02],\n",
       "       [1.196e+01, 1.090e+00, 2.300e+00, 2.100e+01, 1.010e+02, 3.380e+00,\n",
       "        2.140e+00, 1.300e-01, 1.650e+00, 3.210e+00, 9.900e-01, 3.130e+00,\n",
       "        8.860e+02],\n",
       "       [1.200e+01, 9.200e-01, 2.000e+00, 1.900e+01, 8.600e+01, 2.420e+00,\n",
       "        2.260e+00, 3.000e-01, 1.430e+00, 2.500e+00, 1.380e+00, 3.120e+00,\n",
       "        2.780e+02],\n",
       "       [1.272e+01, 1.810e+00, 2.200e+00, 1.880e+01, 8.600e+01, 2.200e+00,\n",
       "        2.530e+00, 2.600e-01, 1.770e+00, 3.900e+00, 1.160e+00, 3.140e+00,\n",
       "        7.140e+02],\n",
       "       [1.229e+01, 2.830e+00, 2.220e+00, 1.800e+01, 8.800e+01, 2.450e+00,\n",
       "        2.250e+00, 2.500e-01, 1.990e+00, 2.150e+00, 1.150e+00, 3.300e+00,\n",
       "        2.900e+02],\n",
       "       [1.162e+01, 1.990e+00, 2.280e+00, 1.800e+01, 9.800e+01, 3.020e+00,\n",
       "        2.260e+00, 1.700e-01, 1.350e+00, 3.250e+00, 1.160e+00, 2.960e+00,\n",
       "        3.450e+02],\n",
       "       [1.247e+01, 1.520e+00, 2.200e+00, 1.900e+01, 1.620e+02, 2.500e+00,\n",
       "        2.270e+00, 3.200e-01, 3.280e+00, 2.600e+00, 1.160e+00, 2.630e+00,\n",
       "        9.370e+02],\n",
       "       [1.229e+01, 1.410e+00, 1.980e+00, 1.600e+01, 8.500e+01, 2.550e+00,\n",
       "        2.500e+00, 2.900e-01, 1.770e+00, 2.900e+00, 1.230e+00, 2.740e+00,\n",
       "        4.280e+02],\n",
       "       [1.237e+01, 1.070e+00, 2.100e+00, 1.850e+01, 8.800e+01, 3.520e+00,\n",
       "        3.750e+00, 2.400e-01, 1.950e+00, 4.500e+00, 1.040e+00, 2.770e+00,\n",
       "        6.600e+02],\n",
       "       [1.229e+01, 3.170e+00, 2.210e+00, 1.800e+01, 8.800e+01, 2.850e+00,\n",
       "        2.990e+00, 4.500e-01, 2.810e+00, 2.300e+00, 1.420e+00, 2.830e+00,\n",
       "        4.060e+02],\n",
       "       [1.208e+01, 2.080e+00, 1.700e+00, 1.750e+01, 9.700e+01, 2.230e+00,\n",
       "        2.170e+00, 2.600e-01, 1.400e+00, 3.300e+00, 1.270e+00, 2.960e+00,\n",
       "        7.100e+02],\n",
       "       [1.222e+01, 1.290e+00, 1.940e+00, 1.900e+01, 9.200e+01, 2.360e+00,\n",
       "        2.040e+00, 3.900e-01, 2.080e+00, 2.700e+00, 8.600e-01, 3.020e+00,\n",
       "        3.120e+02],\n",
       "       [1.146e+01, 3.740e+00, 1.820e+00, 1.950e+01, 1.070e+02, 3.180e+00,\n",
       "        2.580e+00, 2.400e-01, 3.580e+00, 2.900e+00, 7.500e-01, 2.810e+00,\n",
       "        5.620e+02],\n",
       "       [1.252e+01, 2.430e+00, 2.170e+00, 2.100e+01, 8.800e+01, 2.550e+00,\n",
       "        2.270e+00, 2.600e-01, 1.220e+00, 2.000e+00, 9.000e-01, 2.780e+00,\n",
       "        3.250e+02],\n",
       "       [1.103e+01, 1.510e+00, 2.200e+00, 2.150e+01, 8.500e+01, 2.460e+00,\n",
       "        2.170e+00, 5.200e-01, 2.010e+00, 1.900e+00, 1.710e+00, 2.870e+00,\n",
       "        4.070e+02],\n",
       "       [1.242e+01, 1.610e+00, 2.190e+00, 2.250e+01, 1.080e+02, 2.000e+00,\n",
       "        2.090e+00, 3.400e-01, 1.610e+00, 2.060e+00, 1.060e+00, 2.960e+00,\n",
       "        3.450e+02],\n",
       "       [1.305e+01, 5.800e+00, 2.130e+00, 2.150e+01, 8.600e+01, 2.620e+00,\n",
       "        2.650e+00, 3.000e-01, 2.010e+00, 2.600e+00, 7.300e-01, 3.100e+00,\n",
       "        3.800e+02],\n",
       "       [1.207e+01, 2.160e+00, 2.170e+00, 2.100e+01, 8.500e+01, 2.600e+00,\n",
       "        2.650e+00, 3.700e-01, 1.350e+00, 2.760e+00, 8.600e-01, 3.280e+00,\n",
       "        3.780e+02],\n",
       "       [1.243e+01, 1.530e+00, 2.290e+00, 2.150e+01, 8.600e+01, 2.740e+00,\n",
       "        3.150e+00, 3.900e-01, 1.770e+00, 3.940e+00, 6.900e-01, 2.840e+00,\n",
       "        3.520e+02],\n",
       "       [1.237e+01, 1.630e+00, 2.300e+00, 2.450e+01, 8.800e+01, 2.220e+00,\n",
       "        2.450e+00, 4.000e-01, 1.900e+00, 2.120e+00, 8.900e-01, 2.780e+00,\n",
       "        3.420e+02]])"
      ]
     },
     "execution_count": 25,
     "metadata": {},
     "output_type": "execute_result"
    }
   ],
   "source": [
    "data[B4_1]"
   ]
  },
  {
   "cell_type": "markdown",
   "metadata": {},
   "source": [
    "### 4.2 5 points\n",
    "\n",
    "How many such rows are there?"
   ]
  },
  {
   "cell_type": "code",
   "execution_count": 26,
   "metadata": {},
   "outputs": [
    {
     "data": {
      "text/plain": [
       "40"
      ]
     },
     "execution_count": 26,
     "metadata": {},
     "output_type": "execute_result"
    }
   ],
   "source": [
    "B4_1.sum()"
   ]
  },
  {
   "cell_type": "markdown",
   "metadata": {},
   "source": [
    "### 4.3  5 points\n",
    "\n",
    "Write a Python expression that returns the rows of the `data` array \n",
    "representing wine samples such that they are not of class_1 and they\n",
    "have  ash levels less than 2.36  and flavinoids greater than 2.03."
   ]
  },
  {
   "cell_type": "code",
   "execution_count": 57,
   "metadata": {},
   "outputs": [
    {
     "data": {
      "text/plain": [
       "array([[1.320e+01, 1.780e+00, 2.140e+00, 1.120e+01, 1.000e+02, 2.650e+00,\n",
       "        2.760e+00, 2.600e-01, 1.280e+00, 4.380e+00, 1.050e+00, 3.400e+00,\n",
       "        1.050e+03],\n",
       "       [1.483e+01, 1.640e+00, 2.170e+00, 1.400e+01, 9.700e+01, 2.800e+00,\n",
       "        2.980e+00, 2.900e-01, 1.980e+00, 5.200e+00, 1.080e+00, 2.850e+00,\n",
       "        1.045e+03],\n",
       "       [1.386e+01, 1.350e+00, 2.270e+00, 1.600e+01, 9.800e+01, 2.980e+00,\n",
       "        3.150e+00, 2.200e-01, 1.850e+00, 7.220e+00, 1.010e+00, 3.550e+00,\n",
       "        1.045e+03],\n",
       "       [1.410e+01, 2.160e+00, 2.300e+00, 1.800e+01, 1.050e+02, 2.950e+00,\n",
       "        3.320e+00, 2.200e-01, 2.380e+00, 5.750e+00, 1.250e+00, 3.170e+00,\n",
       "        1.510e+03],\n",
       "       [1.412e+01, 1.480e+00, 2.320e+00, 1.680e+01, 9.500e+01, 2.200e+00,\n",
       "        2.430e+00, 2.600e-01, 1.570e+00, 5.000e+00, 1.170e+00, 2.820e+00,\n",
       "        1.280e+03],\n",
       "       [1.406e+01, 1.630e+00, 2.280e+00, 1.600e+01, 1.260e+02, 3.000e+00,\n",
       "        3.170e+00, 2.400e-01, 2.100e+00, 5.650e+00, 1.090e+00, 3.710e+00,\n",
       "        7.800e+02],\n",
       "       [1.330e+01, 1.720e+00, 2.140e+00, 1.700e+01, 9.400e+01, 2.400e+00,\n",
       "        2.190e+00, 2.700e-01, 1.350e+00, 3.950e+00, 1.020e+00, 2.770e+00,\n",
       "        1.285e+03],\n",
       "       [1.402e+01, 1.680e+00, 2.210e+00, 1.600e+01, 9.600e+01, 2.650e+00,\n",
       "        2.330e+00, 2.600e-01, 1.980e+00, 4.700e+00, 1.040e+00, 3.590e+00,\n",
       "        1.035e+03],\n",
       "       [1.307e+01, 1.500e+00, 2.100e+00, 1.550e+01, 9.800e+01, 2.400e+00,\n",
       "        2.640e+00, 2.800e-01, 1.370e+00, 3.700e+00, 1.180e+00, 2.690e+00,\n",
       "        1.020e+03],\n",
       "       [1.356e+01, 1.710e+00, 2.310e+00, 1.620e+01, 1.170e+02, 3.150e+00,\n",
       "        3.290e+00, 3.400e-01, 2.340e+00, 6.130e+00, 9.500e-01, 3.380e+00,\n",
       "        7.950e+02],\n",
       "       [1.341e+01, 3.840e+00, 2.120e+00, 1.880e+01, 9.000e+01, 2.450e+00,\n",
       "        2.680e+00, 2.700e-01, 1.480e+00, 4.280e+00, 9.100e-01, 3.000e+00,\n",
       "        1.035e+03],\n",
       "       [1.324e+01, 3.980e+00, 2.290e+00, 1.750e+01, 1.030e+02, 2.640e+00,\n",
       "        2.630e+00, 3.200e-01, 1.660e+00, 4.360e+00, 8.200e-01, 3.000e+00,\n",
       "        6.800e+02],\n",
       "       [1.305e+01, 1.770e+00, 2.100e+00, 1.700e+01, 1.070e+02, 3.000e+00,\n",
       "        3.000e+00, 2.800e-01, 2.030e+00, 5.040e+00, 8.800e-01, 3.350e+00,\n",
       "        8.850e+02],\n",
       "       [1.438e+01, 3.590e+00, 2.280e+00, 1.600e+01, 1.020e+02, 3.250e+00,\n",
       "        3.170e+00, 2.700e-01, 2.190e+00, 4.900e+00, 1.040e+00, 3.440e+00,\n",
       "        1.065e+03],\n",
       "       [1.390e+01, 1.680e+00, 2.120e+00, 1.600e+01, 1.010e+02, 3.100e+00,\n",
       "        3.390e+00, 2.100e-01, 2.140e+00, 6.100e+00, 9.100e-01, 3.330e+00,\n",
       "        9.850e+02],\n",
       "       [1.394e+01, 1.730e+00, 2.270e+00, 1.740e+01, 1.080e+02, 2.880e+00,\n",
       "        3.540e+00, 3.200e-01, 2.080e+00, 8.900e+00, 1.120e+00, 3.100e+00,\n",
       "        1.260e+03],\n",
       "       [1.305e+01, 1.730e+00, 2.040e+00, 1.240e+01, 9.200e+01, 2.720e+00,\n",
       "        3.270e+00, 1.700e-01, 2.910e+00, 7.200e+00, 1.120e+00, 2.910e+00,\n",
       "        1.150e+03],\n",
       "       [1.374e+01, 1.670e+00, 2.250e+00, 1.640e+01, 1.180e+02, 2.600e+00,\n",
       "        2.900e+00, 2.100e-01, 1.620e+00, 5.850e+00, 9.200e-01, 3.200e+00,\n",
       "        1.060e+03],\n",
       "       [1.422e+01, 1.700e+00, 2.300e+00, 1.630e+01, 1.180e+02, 3.200e+00,\n",
       "        3.000e+00, 2.600e-01, 2.030e+00, 6.380e+00, 9.400e-01, 3.310e+00,\n",
       "        9.700e+02]])"
      ]
     },
     "execution_count": 57,
     "metadata": {},
     "output_type": "execute_result"
    }
   ],
   "source": [
    "B4_3 = ~(target == 1) & B4_1\n",
    "data[B4_3]"
   ]
  },
  {
   "cell_type": "markdown",
   "metadata": {},
   "source": [
    "### 4.4 5 points\n",
    "\n",
    "How many such rows are there?"
   ]
  },
  {
   "cell_type": "code",
   "execution_count": 30,
   "metadata": {},
   "outputs": [
    {
     "data": {
      "text/plain": [
       "19"
      ]
     },
     "execution_count": 30,
     "metadata": {},
     "output_type": "execute_result"
    }
   ],
   "source": [
    "B4_3.sum()"
   ]
  },
  {
   "cell_type": "markdown",
   "metadata": {},
   "source": [
    "Alternative #2"
   ]
  },
  {
   "cell_type": "code",
   "execution_count": null,
   "metadata": {},
   "outputs": [],
   "source": [
    "data[B4_3].shape[0]"
   ]
  },
  {
   "cell_type": "markdown",
   "metadata": {},
   "source": [
    "Alternative #3"
   ]
  },
  {
   "cell_type": "code",
   "execution_count": null,
   "metadata": {},
   "outputs": [],
   "source": [
    "len(data[B4_3])"
   ]
  },
  {
   "cell_type": "markdown",
   "metadata": {},
   "source": [
    "#### wrong answer"
   ]
  },
  {
   "cell_type": "code",
   "execution_count": 58,
   "metadata": {},
   "outputs": [
    {
     "data": {
      "text/plain": [
       "(19, 13)"
      ]
     },
     "execution_count": 58,
     "metadata": {},
     "output_type": "execute_result"
    }
   ],
   "source": [
    "data[B4_3].shape"
   ]
  },
  {
   "cell_type": "markdown",
   "metadata": {},
   "source": [
    "```\n",
    "data[B4_3].shape\n",
    "```\n",
    "\n",
    "is not a computation of the number of rows of `a1` usable in further computations.   It returns a pairs of numbers. A correct answer must be an expression that returns a number, not a pair.  Hence, the following is a correct answer:\n",
    "\n",
    "```\n",
    "data[B4_3].shape[0]\n",
    "```\n",
    "\n",
    "This is exactly the number of rows."
   ]
  },
  {
   "cell_type": "code",
   "execution_count": null,
   "metadata": {},
   "outputs": [],
   "source": []
  }
 ],
 "metadata": {
  "colab": {
   "name": "Boolean_exercises_in_numpy.ipynb",
   "provenance": []
  },
  "kernelspec": {
   "display_name": "Python 3",
   "language": "python",
   "name": "python3"
  },
  "language_info": {
   "codemirror_mode": {
    "name": "ipython",
    "version": 3
   },
   "file_extension": ".py",
   "mimetype": "text/x-python",
   "name": "python",
   "nbconvert_exporter": "python",
   "pygments_lexer": "ipython3",
   "version": "3.7.0"
  }
 },
 "nbformat": 4,
 "nbformat_minor": 1
}
