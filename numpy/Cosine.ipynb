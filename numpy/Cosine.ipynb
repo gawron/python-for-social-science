{
 "cells": [
  {
   "cell_type": "markdown",
   "id": "58d813bd",
   "metadata": {
    "colab_type": "text",
    "id": "1tnGkWZa0FLu"
   },
   "source": [
    "## Cosine"
   ]
  },
  {
   "cell_type": "markdown",
   "id": "3719c30f",
   "metadata": {
    "colab_type": "text",
    "id": "uhVVoseE0FLu"
   },
   "source": [
    "One way of measuring the similarity between two arrays `x` and `y`. is to take their cosine.  The name for this similarity measure is quite appropriate.  The cosine of `x` and `y` is a measure of the geometric cosine of the angle between them.  It is 1 when that angle is 0 (i.e., `x` and `y` are identical in direction), and -1 when the vectors point in opposite directions, and 0 when the vectors are orthogonal (the do not share a component in any direction).  It is computed by taking the dot product of the unit vectors pointing in the same direction as `x` and `y`.  To do this we divide `x` and `y` by their Euclidean length (`LA.norm` in the code below) and take the dot product of the results."
   ]
  },
  {
   "cell_type": "code",
   "execution_count": null,
   "id": "8cfaf68c",
   "metadata": {
    "colab": {},
    "colab_type": "code",
    "id": "ReckNwYL0FLu"
   },
   "outputs": [],
   "source": [
    "import numpy as np\n",
    "import numpy.linalg as LA\n",
    "x = np.array([3,4])\n",
    "y = np.array([4,3])\n",
    "\n",
    "def find_unit_vector(x):\n",
    "    return x/LA.norm(x,ord=2)\n",
    "\n",
    "def cosine (x,y):\n",
    "    return (find_unit_vector(x)).dot(find_unit_vector(y))"
   ]
  },
  {
   "cell_type": "markdown",
   "id": "e0f23f23",
   "metadata": {
    "colab_type": "text",
    "id": "fhf9F9W90FLv"
   },
   "source": [
    "The maximum possible value cosine can have for two vectors is `1.0`.  The maximum possible value is achieved when you compare a vector `x` with itself `x`.  So nothing can be more similar to `x` than `x` is to itself.  Whew.  That's reassuring."
   ]
  },
  {
   "cell_type": "markdown",
   "id": "d758e8de",
   "metadata": {
    "colab_type": "text",
    "id": "g6ra8PinSlDR"
   },
   "source": [
    "Check my claim about how similar things are to themselves."
   ]
  },
  {
   "cell_type": "code",
   "execution_count": null,
   "id": "c4828dec",
   "metadata": {
    "colab": {
     "base_uri": "https://localhost:8080/",
     "height": 34
    },
    "colab_type": "code",
    "id": "YsUPcm3H0FLw",
    "outputId": "87b8fcc1-43aa-4f90-8f91-093c4334db34"
   },
   "outputs": [
    {
     "data": {
      "text/plain": [
       "1.0"
      ]
     },
     "execution_count": 101,
     "metadata": {
      "tags": []
     },
     "output_type": "execute_result"
    }
   ],
   "source": [
    "cosine(x,x)"
   ]
  },
  {
   "cell_type": "markdown",
   "id": "9b6b2309",
   "metadata": {
    "colab_type": "text",
    "id": "I0QocoE5SptX"
   },
   "source": [
    "Let's multiply `x` by -1 to get a vector pointing in exactly the opposite direction from `x`, and take the cosine of the two vectors."
   ]
  },
  {
   "cell_type": "code",
   "execution_count": null,
   "id": "a8c08681",
   "metadata": {
    "colab": {
     "base_uri": "https://localhost:8080/",
     "height": 34
    },
    "colab_type": "code",
    "id": "iMH7s_X00FLx",
    "outputId": "06625594-e0f0-48d2-e2df-2fbe1dbba522"
   },
   "outputs": [
    {
     "data": {
      "text/plain": [
       "-1.0"
      ]
     },
     "execution_count": 102,
     "metadata": {
      "tags": []
     },
     "output_type": "execute_result"
    }
   ],
   "source": [
    "cosine(x,-x)"
   ]
  },
  {
   "cell_type": "markdown",
   "id": "84a73ae3",
   "metadata": {
    "colab_type": "text",
    "id": "mW-Hzf00S1Nm"
   },
   "source": [
    "`x` and `y` are different but not **that** different. What value does `cos` assign to their similarity?"
   ]
  },
  {
   "cell_type": "code",
   "execution_count": null,
   "id": "5190f4a0",
   "metadata": {
    "colab": {
     "base_uri": "https://localhost:8080/",
     "height": 34
    },
    "colab_type": "code",
    "id": "rHiJjTmX0FLy",
    "outputId": "ca9541a3-f81e-408e-9d83-aab1d85f4f0a"
   },
   "outputs": [
    {
     "data": {
      "text/plain": [
       "0.96"
      ]
     },
     "execution_count": 103,
     "metadata": {
      "tags": []
     },
     "output_type": "execute_result"
    }
   ],
   "source": [
    "cosine(x,y)"
   ]
  },
  {
   "cell_type": "markdown",
   "id": "ade7f0fe",
   "metadata": {
    "colab_type": "text",
    "id": "e4aoDyyYTOxl"
   },
   "source": [
    "What does `find_unit_vector` really do?  It finds a vector pointing in exactly the same direction as `x` but having length 1.  How similar will `x` be to its unit vector?  To find that out for yourself, create a Code cell and execute:\n",
    "\n",
    "```\n",
    "cosine(x, find_unit_vector(x))\n",
    "```\n",
    "\n",
    "Before doing that, look at the definition of cosine again and\n",
    "try to predict what the value will be."
   ]
  },
  {
   "cell_type": "markdown",
   "id": "58bf7643",
   "metadata": {
    "colab_type": "text",
    "id": "8uJxhtxmTDQU"
   },
   "source": [
    "Does a unit vector really have have length 1?"
   ]
  },
  {
   "cell_type": "code",
   "execution_count": null,
   "id": "ed208389",
   "metadata": {
    "colab": {
     "base_uri": "https://localhost:8080/",
     "height": 34
    },
    "colab_type": "code",
    "id": "w53n-oB00FL0",
    "outputId": "56dd1715-8588-491a-c241-291030d2f61f"
   },
   "outputs": [
    {
     "data": {
      "text/plain": [
       "1.0"
      ]
     },
     "execution_count": 104,
     "metadata": {
      "tags": []
     },
     "output_type": "execute_result"
    }
   ],
   "source": [
    "LA.norm(find_unit_vector(x))"
   ]
  },
  {
   "cell_type": "code",
   "execution_count": null,
   "id": "b91bd291",
   "metadata": {
    "colab": {
     "base_uri": "https://localhost:8080/",
     "height": 34
    },
    "colab_type": "code",
    "id": "iYLvBPTWUSO5",
    "outputId": "9cce9387-bdf7-4012-a5c2-8de772c3a652"
   },
   "outputs": [
    {
     "data": {
      "text/plain": [
       "1076.7"
      ]
     },
     "execution_count": 112,
     "metadata": {
      "tags": []
     },
     "output_type": "execute_result"
    }
   ],
   "source": [
    "((135 * 6) + 120 + 40)* 1.11"
   ]
  },
  {
   "cell_type": "code",
   "execution_count": null,
   "id": "43e1d92e",
   "metadata": {},
   "outputs": [],
   "source": [
    "## Cosine\n",
    "\n",
    "One way of measuring the similarity between two arrays `x` and `y`. is to take their cosine.  The name for this similarity measure is quite appropriate.  The cosine of `x` and `y` is a measure of the geometric cosine of the angle between them.  It is 1 when that angle is 0 (i.e., `x` and `y` are identical in direction), and -1 when the vectors point in opposite directions, and 0 when the vectors are orthogonal (the do not share a component in any direction).  It is computed by taking the dot product of the unit vectors pointing in the same direction as `x` and `y`.  To do this we divide `x` and `y` by their Euclidean length (`LA.norm` in the code below) and take the dot product of the results.\n",
    "\n",
    "import numpy as np\n",
    "import numpy.linalg as LA\n",
    "x = np.array([3,4])\n",
    "y = np.array([4,3])\n",
    "\n",
    "def find_unit_vector(x):\n",
    "    return x/LA.norm(x,ord=2)\n",
    "\n",
    "def cosine (x,y):\n",
    "    return (find_unit_vector(x)).dot(find_unit_vector(y))\n",
    "\n",
    "The maximum possible value cosine can have for two vectors is `1.0`.  The maximum possible value is achieved when you compare a vector `x` with itself `x`.  So nothing can be more similar to `x` than `x` is to itself.  Whew.  That's reassuring.\n",
    "\n",
    "Check my claim about how similar things are to themselves.\n",
    "\n",
    "cosine(x,x)\n",
    "\n",
    "Let's multiply `x` by -1 to get a vector pointing in exactly the opposite direction from `x`, and take the cosine of the two vectors.\n",
    "\n",
    "cosine(x,-x)\n",
    "\n",
    "`x` and `y` are different but not **that** different. What value does `cos` assign to their similarity?\n",
    "\n",
    "cosine(x,y)\n",
    "\n",
    "What does `find_unit_vector` really do?  It finds a vector pointing in exactly the same direction as `x` but having length 1.  How similar will `x` be to its unit vector?  To find that out for yourself, create a Code cell and execute:\n",
    "\n",
    "```\n",
    "cosine(x, find_unit_vector(x))\n",
    "```\n",
    "\n",
    "Before doing that, look at the definition of cosine again and\n",
    "try to predict what the value will be.\n",
    "\n",
    "Does a unit vector really have have length 1?\n",
    "\n",
    "LA.norm(find_unit_vector(x))\n",
    "\n",
    "((135 * 6) + 120 + 40)* 1.11"
   ]
  }
 ],
 "metadata": {
  "kernelspec": {
   "display_name": "Python 3 (ipykernel)",
   "language": "python",
   "name": "python3"
  },
  "language_info": {
   "codemirror_mode": {
    "name": "ipython",
    "version": 3
   },
   "file_extension": ".py",
   "mimetype": "text/x-python",
   "name": "python",
   "nbconvert_exporter": "python",
   "pygments_lexer": "ipython3",
   "version": "3.10.6"
  }
 },
 "nbformat": 4,
 "nbformat_minor": 5
}
