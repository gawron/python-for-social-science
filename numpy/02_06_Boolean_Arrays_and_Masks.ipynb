{
  "nbformat": 4,
  "nbformat_minor": 0,
  "metadata": {
    "anaconda-cloud": {},
    "kernelspec": {
      "display_name": "Python 3",
      "language": "python",
      "name": "python3"
    },
    "language_info": {
      "codemirror_mode": {
        "name": "ipython",
        "version": 3
      },
      "file_extension": ".py",
      "mimetype": "text/x-python",
      "name": "python",
      "nbconvert_exporter": "python",
      "pygments_lexer": "ipython3",
      "version": "3.5.1"
    },
    "colab": {
      "name": "02.06-Boolean-Arrays-and-Masks.ipynb",
      "provenance": []
    }
  },
  "cells": [
    {
      "cell_type": "markdown",
      "metadata": {
        "id": "Fi8eInz_ZBTG",
        "colab_type": "text"
      },
      "source": [
        "<!--BOOK_INFORMATION-->\n",
        "<img align=\"left\" style=\"padding-right:10px;\" src=\"https://github.com/jakevdp/PythonDataScienceHandbook/blob/8a34a4f653bdbdc01415a94dc20d4e9b97438965/notebooks/figures/PDSH-cover-small.png?raw=1\">\n",
        "\n",
        "*This notebook contains an excerpt from the [Python Data Science Handbook](http://shop.oreilly.com/product/0636920034919.do) by Jake VanderPlas; the content is available [on GitHub](https://github.com/jakevdp/PythonDataScienceHandbook).*\n",
        "\n",
        "*The text is released under the [CC-BY-NC-ND license](https://creativecommons.org/licenses/by-nc-nd/3.0/us/legalcode), and code is released under the [MIT license](https://opensource.org/licenses/MIT). If you find this content useful, please consider supporting the work by [buying the book](http://shop.oreilly.com/product/0636920034919.do)!*"
      ]
    },
    {
      "cell_type": "markdown",
      "metadata": {
        "id": "nd6xFwGxZBTH",
        "colab_type": "text"
      },
      "source": [
        "<!--NAVIGATION-->\n",
        "< [Computation on Arrays: Broadcasting](02.05-Computation-on-arrays-broadcasting.ipynb) | [Contents](Index.ipynb) | [Fancy Indexing](02.07-Fancy-Indexing.ipynb) >\n",
        "\n",
        "<a href=\"https://colab.research.google.com/github/jakevdp/PythonDataScienceHandbook/blob/master/notebooks/02.06-Boolean-Arrays-and-Masks.ipynb\"><img align=\"left\" src=\"https://colab.research.google.com/assets/colab-badge.svg\" alt=\"Open in Colab\" title=\"Open and Execute in Google Colaboratory\"></a>\n"
      ]
    },
    {
      "cell_type": "markdown",
      "metadata": {
        "id": "QPECGMK4ZJN-",
        "colab_type": "text"
      },
      "source": [
        "<font color=\"red\">JMG Note: Read this!</font>. This NB is a slightly modified version of [VanderPlas's original.](https://github.com/jakevdp/PythonDataScienceHandbook/blob/master/notebooks/02.06-Boolean-Arrays-and-Masks.ipynb). I have modified the lines loading the Seattle rain data below so they do not assume the data can be found in a local directory.  Instead they load the data directly from the github repository where Vanderplas keeps it. This is labeled \"LOAD DATA METHOD 0\".  The huge advantage of method 0 is that you can cut and paste these lines of code into any of VanderPlas's notebooks, change the filename and successfuly load the data.\n",
        "\n",
        "Alternatively you can look at \"LOAD DATA METHOD 1'.  This assumes you have previously loaded VanderPlas's data into a folder named 'data' on your google drive.  There are various ways to do this.  All the data for all the notebooks is [here.](https://github.com/jakevdp/PythonDataScienceHandbook/blob/master/notebooks/data)  The advantage of knowing Method 1 is that it will work in some cases where method 0 won't."
      ]
    },
    {
      "cell_type": "markdown",
      "metadata": {
        "id": "C-pVROaqZBTI",
        "colab_type": "text"
      },
      "source": [
        "# Comparisons, Masks, and Boolean Logic"
      ]
    },
    {
      "cell_type": "markdown",
      "metadata": {
        "id": "SXG00vUlZBTI",
        "colab_type": "text"
      },
      "source": [
        "This section covers the use of Boolean masks to examine and manipulate values within NumPy arrays.\n",
        "Masking comes up when you want to extract, modify, count, or otherwise manipulate values in an array based on some criterion: for example, you might wish to count all values greater than a certain value, or perhaps remove all outliers that are above some threshold.\n",
        "In NumPy, Boolean masking is often the most efficient way to accomplish these types of tasks."
      ]
    },
    {
      "cell_type": "markdown",
      "metadata": {
        "id": "VdUK2ouDZBTJ",
        "colab_type": "text"
      },
      "source": [
        "## Example: Counting Rainy Days\n",
        "\n",
        "Imagine you have a series of data that represents the amount of precipitation each day for a year in a given city.\n",
        "For example, here we'll load the daily rainfall statistics for the city of Seattle in 2014, using Pandas (which is covered in more detail in [Chapter 3](03.00-Introduction-to-Pandas.ipynb)):"
      ]
    },
    {
      "cell_type": "code",
      "metadata": {
        "id": "WzD0R1PHZBTJ",
        "colab_type": "code",
        "colab": {
          "base_uri": "https://localhost:8080/",
          "height": 34
        },
        "outputId": "f0210003-e7d5-4145-a974-d66d1d2df6a7"
      },
      "source": [
        "import numpy as np\n",
        "import pandas as pd\n",
        "\n",
        "#Use pandas to extract rainfall inches as a NumPy array\n",
        "\n",
        "# Vanderplas's original data-loading line no longer works in colab\n",
        "#rainfall = pd.read_csv('data/Seattle2014.csv')['PRCP'].values\n",
        "\n",
        "# LOAD DATA METHOD 0 Load data previously imported to your personal Google Drive\n",
        "#from google.colab import drive\n",
        "#drive.mount('/content/gdrive') \n",
        "# Now everything on your Googloe Drive is at /content/gdrive/My Drive/\n",
        "#rainfall = pd.read_csv('/content/gdrive/My Drive/data/Seattle2014.csv')['PRCP'].values\n",
        "\n",
        "# LOAD DATA METHOD 1: Read the data directly off github where Vanderplas stores it.\n",
        "# Folder where all of Vanderplas's NB data is kept\n",
        "url = 'https://github.com/jakevdp/PythonDataScienceHandbook/blob/master/notebooks/data'\n",
        "fn = 'Seattle2014.csv'\n",
        "# As far as I know the raw=true query operator is specific to reading github data\n",
        "path = f'{url}/{fn}?raw=true'\n",
        "rainfall = pd.read_csv(path)['PRCP'].values\n",
        "inches = rainfall / 254.0  # 1/10mm -> inches\n",
        "inches.shape"
      ],
      "execution_count": 1,
      "outputs": [
        {
          "output_type": "execute_result",
          "data": {
            "text/plain": [
              "(365,)"
            ]
          },
          "metadata": {
            "tags": []
          },
          "execution_count": 1
        }
      ]
    },
    {
      "cell_type": "code",
      "metadata": {
        "id": "1t_p7U-onEr3",
        "colab_type": "code",
        "colab": {
          "base_uri": "https://localhost:8080/",
          "height": 34
        },
        "outputId": "a8c72883-5594-4e44-aa3f-8c174220b431"
      },
      "source": [
        "inches.shape"
      ],
      "execution_count": 4,
      "outputs": [
        {
          "output_type": "execute_result",
          "data": {
            "text/plain": [
              "(365,)"
            ]
          },
          "metadata": {
            "tags": []
          },
          "execution_count": 4
        }
      ]
    },
    {
      "cell_type": "code",
      "metadata": {
        "id": "RaUnkAS1a3pF",
        "colab_type": "code",
        "colab": {
          "base_uri": "https://localhost:8080/",
          "height": 35
        },
        "outputId": "78a65d71-9994-47dd-9384-5f170358b4ee"
      },
      "source": [
        "path"
      ],
      "execution_count": null,
      "outputs": [
        {
          "output_type": "execute_result",
          "data": {
            "application/vnd.google.colaboratory.intrinsic+json": {
              "type": "string"
            },
            "text/plain": [
              "'https://github.com/jakevdp/PythonDataScienceHandbook/tree/master/notebooks/data/Seattle2014.csv'"
            ]
          },
          "metadata": {
            "tags": []
          },
          "execution_count": 7
        }
      ]
    },
    {
      "cell_type": "markdown",
      "metadata": {
        "id": "3NrQU8niZBTN",
        "colab_type": "text"
      },
      "source": [
        "The array contains 365 values, giving daily rainfall in inches from January 1 to December 31, 2014.\n",
        "\n",
        "As a first quick visualization, let's look at the histogram of rainy days, which was generated using Matplotlib (we will explore this tool more fully in [Chapter 4](04.00-Introduction-To-Matplotlib.ipynb)):"
      ]
    },
    {
      "cell_type": "code",
      "metadata": {
        "id": "cDX-8linZBTN",
        "colab_type": "code",
        "colab": {}
      },
      "source": [
        "%matplotlib inline\n",
        "import matplotlib.pyplot as plt\n",
        "import seaborn; seaborn.set()  # set plot styles"
      ],
      "execution_count": null,
      "outputs": []
    },
    {
      "cell_type": "code",
      "metadata": {
        "id": "3tx4NM7QZBTQ",
        "colab_type": "code",
        "colab": {
          "base_uri": "https://localhost:8080/",
          "height": 268
        },
        "outputId": "36857858-99ab-40dd-8bbf-125136ebb7e6"
      },
      "source": [
        "plt.hist(inches, 40);"
      ],
      "execution_count": null,
      "outputs": [
        {
          "output_type": "display_data",
          "data": {
            "image/png": "[encoded data removed]",
            "text/plain": [
              "<Figure size 432x288 with 1 Axes>"
            ]
          },
          "metadata": {
            "tags": []
          }
        }
      ]
    },
    {
      "cell_type": "markdown",
      "metadata": {
        "id": "ai_DllTxZBTS",
        "colab_type": "text"
      },
      "source": [
        "This histogram gives us a general idea of what the data looks like: despite its reputation, the vast majority of days in Seattle saw near zero measured rainfall in 2014.\n",
        "But this doesn't do a good job of conveying some information we'd like to see: for example, how many rainy days were there in the year? What is the average precipitation on those rainy days? How many days were there with more than half an inch of rain?"
      ]
    },
    {
      "cell_type": "markdown",
      "metadata": {
        "id": "ZVKwJTFeZBTS",
        "colab_type": "text"
      },
      "source": [
        "### Digging into the data\n",
        "\n",
        "One approach to this would be to answer these questions by hand: loop through the data, incrementing a counter each time we see values in some desired range.\n",
        "For reasons discussed throughout this chapter, such an approach is very inefficient, both from the standpoint of time writing code and time computing the result.\n",
        "We saw in [Computation on NumPy Arrays: Universal Functions](02.03-Computation-on-arrays-ufuncs.ipynb) that NumPy's ufuncs can be used in place of loops to do fast element-wise arithmetic operations on arrays; in the same way, we can use other ufuncs to do element-wise *comparisons* over arrays, and we can then manipulate the results to answer the questions we have.\n",
        "We'll leave the data aside for right now, and discuss some general tools in NumPy to use *masking* to quickly answer these types of questions."
      ]
    },
    {
      "cell_type": "markdown",
      "metadata": {
        "id": "9X41G4U9ZBTS",
        "colab_type": "text"
      },
      "source": [
        "## Comparison Operators as ufuncs\n",
        "\n",
        "In [Computation on NumPy Arrays: Universal Functions](02.03-Computation-on-arrays-ufuncs.ipynb) we introduced ufuncs, and focused in particular on arithmetic operators. We saw that using ``+``, ``-``, ``*``, ``/``, and others on arrays leads to element-wise operations.\n",
        "NumPy also implements comparison operators such as ``<`` (less than) and ``>`` (greater than) as element-wise ufuncs.\n",
        "The result of these comparison operators is always an array with a Boolean data type.\n",
        "All six of the standard comparison operations are available:"
      ]
    },
    {
      "cell_type": "code",
      "metadata": {
        "id": "eXkSw8SYZBTT",
        "colab_type": "code",
        "colab": {}
      },
      "source": [
        "x = np.array([1, 2, 3, 4, 5])"
      ],
      "execution_count": null,
      "outputs": []
    },
    {
      "cell_type": "code",
      "metadata": {
        "id": "5Ko2bgLtZBTV",
        "colab_type": "code",
        "colab": {
          "base_uri": "https://localhost:8080/",
          "height": 34
        },
        "outputId": "b229b714-237b-41e4-88da-9286f6a40069"
      },
      "source": [
        "x < 3  # less than"
      ],
      "execution_count": null,
      "outputs": [
        {
          "output_type": "execute_result",
          "data": {
            "text/plain": [
              "array([ True,  True, False, False, False])"
            ]
          },
          "metadata": {
            "tags": []
          },
          "execution_count": 18
        }
      ]
    },
    {
      "cell_type": "code",
      "metadata": {
        "id": "9FwibOpsZBTX",
        "colab_type": "code",
        "colab": {
          "base_uri": "https://localhost:8080/",
          "height": 34
        },
        "outputId": "0e0931cc-40e2-4bba-a286-ccaac65d38a2"
      },
      "source": [
        "x > 3  # greater than"
      ],
      "execution_count": null,
      "outputs": [
        {
          "output_type": "execute_result",
          "data": {
            "text/plain": [
              "array([False, False, False,  True,  True])"
            ]
          },
          "metadata": {
            "tags": []
          },
          "execution_count": 19
        }
      ]
    },
    {
      "cell_type": "code",
      "metadata": {
        "id": "uSVxGuNqZBTa",
        "colab_type": "code",
        "colab": {},
        "outputId": "ffe89627-1885-49df-9aa4-688e0c0d95ba"
      },
      "source": [
        "x <= 3  # less than or equal"
      ],
      "execution_count": null,
      "outputs": [
        {
          "output_type": "execute_result",
          "data": {
            "text/plain": [
              "array([ True,  True,  True, False, False], dtype=bool)"
            ]
          },
          "metadata": {
            "tags": []
          },
          "execution_count": 7
        }
      ]
    },
    {
      "cell_type": "code",
      "metadata": {
        "id": "rLAIJ_mmZBTc",
        "colab_type": "code",
        "colab": {},
        "outputId": "98881ec2-1d45-462c-ba43-6b45de9ff06c"
      },
      "source": [
        "x >= 3  # greater than or equal"
      ],
      "execution_count": null,
      "outputs": [
        {
          "output_type": "execute_result",
          "data": {
            "text/plain": [
              "array([False, False,  True,  True,  True], dtype=bool)"
            ]
          },
          "metadata": {
            "tags": []
          },
          "execution_count": 8
        }
      ]
    },
    {
      "cell_type": "code",
      "metadata": {
        "id": "43JO2UsaZBTe",
        "colab_type": "code",
        "colab": {},
        "outputId": "7175b5ba-aaf5-4364-9e16-c24f21cc4f5a"
      },
      "source": [
        "x != 3  # not equal"
      ],
      "execution_count": null,
      "outputs": [
        {
          "output_type": "execute_result",
          "data": {
            "text/plain": [
              "array([ True,  True, False,  True,  True], dtype=bool)"
            ]
          },
          "metadata": {
            "tags": []
          },
          "execution_count": 9
        }
      ]
    },
    {
      "cell_type": "code",
      "metadata": {
        "id": "yU26pEWbZBTg",
        "colab_type": "code",
        "colab": {},
        "outputId": "68c95701-3019-421a-f4cb-3f483edb08e5"
      },
      "source": [
        "x == 3  # equal"
      ],
      "execution_count": null,
      "outputs": [
        {
          "output_type": "execute_result",
          "data": {
            "text/plain": [
              "array([False, False,  True, False, False], dtype=bool)"
            ]
          },
          "metadata": {
            "tags": []
          },
          "execution_count": 10
        }
      ]
    },
    {
      "cell_type": "markdown",
      "metadata": {
        "id": "fgNTbF8sZBTi",
        "colab_type": "text"
      },
      "source": [
        "It is also possible to do an element-wise comparison of two arrays, and to include compound expressions:"
      ]
    },
    {
      "cell_type": "code",
      "metadata": {
        "id": "_jkmVUxzZBTi",
        "colab_type": "code",
        "colab": {
          "base_uri": "https://localhost:8080/",
          "height": 34
        },
        "outputId": "44237190-ff0f-48df-ade0-0d53dcfd7fee"
      },
      "source": [
        "(2 * x) == (x ** 2)"
      ],
      "execution_count": null,
      "outputs": [
        {
          "output_type": "execute_result",
          "data": {
            "text/plain": [
              "array([False,  True, False, False, False])"
            ]
          },
          "metadata": {
            "tags": []
          },
          "execution_count": 20
        }
      ]
    },
    {
      "cell_type": "markdown",
      "metadata": {
        "id": "pRmJM4UWZBTk",
        "colab_type": "text"
      },
      "source": [
        "As in the case of arithmetic operators, the comparison operators are implemented as ufuncs in NumPy; for example, when you write ``x < 3``, internally NumPy uses ``np.less(x, 3)``.\n",
        "    A summary of the comparison operators and their equivalent ufunc is shown here:\n",
        "\n",
        "| Operator\t    | Equivalent ufunc    || Operator\t   | Equivalent ufunc    |\n",
        "|---------------|---------------------||---------------|---------------------|\n",
        "|``==``         |``np.equal``         ||``!=``         |``np.not_equal``     |\n",
        "|``<``          |``np.less``          ||``<=``         |``np.less_equal``    |\n",
        "|``>``          |``np.greater``       ||``>=``         |``np.greater_equal`` |"
      ]
    },
    {
      "cell_type": "markdown",
      "metadata": {
        "id": "gZ0Ki9c6ZBTl",
        "colab_type": "text"
      },
      "source": [
        "Just as in the case of arithmetic ufuncs, these will work on arrays of any size and shape.\n",
        "Here is a two-dimensional example:"
      ]
    },
    {
      "cell_type": "code",
      "metadata": {
        "id": "Jn7e0RaZZBTl",
        "colab_type": "code",
        "colab": {
          "base_uri": "https://localhost:8080/",
          "height": 68
        },
        "outputId": "022851d3-bf35-4360-ab8f-52b87ec69a30"
      },
      "source": [
        "rng = np.random.RandomState(0)\n",
        "x = rng.randint(10, size=(3, 4))\n",
        "x"
      ],
      "execution_count": 6,
      "outputs": [
        {
          "output_type": "execute_result",
          "data": {
            "text/plain": [
              "array([[5, 0, 3, 3],\n",
              "       [7, 9, 3, 5],\n",
              "       [2, 4, 7, 6]])"
            ]
          },
          "metadata": {
            "tags": []
          },
          "execution_count": 6
        }
      ]
    },
    {
      "cell_type": "code",
      "metadata": {
        "id": "UlCK7vVDZBTn",
        "colab_type": "code",
        "colab": {
          "base_uri": "https://localhost:8080/",
          "height": 68
        },
        "outputId": "700fb73f-31b6-47f8-b417-82c5413abbe9"
      },
      "source": [
        "x < 6"
      ],
      "execution_count": 7,
      "outputs": [
        {
          "output_type": "execute_result",
          "data": {
            "text/plain": [
              "array([[ True,  True,  True,  True],\n",
              "       [False, False,  True,  True],\n",
              "       [ True,  True, False, False]])"
            ]
          },
          "metadata": {
            "tags": []
          },
          "execution_count": 7
        }
      ]
    },
    {
      "cell_type": "markdown",
      "metadata": {
        "id": "TxwYqaSgZBTp",
        "colab_type": "text"
      },
      "source": [
        "In each case, the result is a Boolean array, and NumPy provides a number of straightforward patterns for working with these Boolean results."
      ]
    },
    {
      "cell_type": "markdown",
      "metadata": {
        "id": "iCQ6BBTpZBTq",
        "colab_type": "text"
      },
      "source": [
        "## Working with Boolean Arrays\n",
        "\n",
        "Given a Boolean array, there are a host of useful operations you can do.\n",
        "We'll work with ``x``, the two-dimensional array we created earlier."
      ]
    },
    {
      "cell_type": "code",
      "metadata": {
        "id": "1X5xSZceZBTq",
        "colab_type": "code",
        "colab": {
          "base_uri": "https://localhost:8080/",
          "height": 68
        },
        "outputId": "de991691-7bf6-4183-bb28-28f996baf549"
      },
      "source": [
        "print(x)"
      ],
      "execution_count": 8,
      "outputs": [
        {
          "output_type": "stream",
          "text": [
            "[[5 0 3 3]\n",
            " [7 9 3 5]\n",
            " [2 4 7 6]]\n"
          ],
          "name": "stdout"
        }
      ]
    },
    {
      "cell_type": "markdown",
      "metadata": {
        "id": "x7LNt_q0ZBTs",
        "colab_type": "text"
      },
      "source": [
        "### Counting entries\n",
        "\n",
        "To count the number of ``True`` entries in a Boolean array, ``np.count_nonzero`` is useful:"
      ]
    },
    {
      "cell_type": "code",
      "metadata": {
        "id": "UMxVlUPlZBTt",
        "colab_type": "code",
        "colab": {
          "base_uri": "https://localhost:8080/",
          "height": 34
        },
        "outputId": "07c9b02e-4035-4a89-e0f8-a6f49748af44"
      },
      "source": [
        "# how many values less than 6?\n",
        "np.count_nonzero(x < 6)"
      ],
      "execution_count": 28,
      "outputs": [
        {
          "output_type": "execute_result",
          "data": {
            "text/plain": [
              "8"
            ]
          },
          "metadata": {
            "tags": []
          },
          "execution_count": 28
        }
      ]
    },
    {
      "cell_type": "markdown",
      "metadata": {
        "id": "JD0ED-fvZBTv",
        "colab_type": "text"
      },
      "source": [
        "We see that there are eight array entries that are less than 6.\n",
        "Another way to get at this information is to use ``np.sum``; in this case, ``False`` is interpreted as ``0``, and ``True`` is interpreted as ``1``:"
      ]
    },
    {
      "cell_type": "code",
      "metadata": {
        "id": "Sfp2AsXbZBTw",
        "colab_type": "code",
        "colab": {
          "base_uri": "https://localhost:8080/",
          "height": 34
        },
        "outputId": "e495e4a0-63ec-46c7-fc9b-073c8c78c11c"
      },
      "source": [
        "np.sum(x < 6)"
      ],
      "execution_count": 29,
      "outputs": [
        {
          "output_type": "execute_result",
          "data": {
            "text/plain": [
              "8"
            ]
          },
          "metadata": {
            "tags": []
          },
          "execution_count": 29
        }
      ]
    },
    {
      "cell_type": "markdown",
      "metadata": {
        "id": "JhWPlQqQZBT0",
        "colab_type": "text"
      },
      "source": [
        "The benefit of ``sum()`` is that like with other NumPy aggregation functions, this summation can be done along rows or columns as well:"
      ]
    },
    {
      "cell_type": "code",
      "metadata": {
        "id": "5z22nM-wZBT0",
        "colab_type": "code",
        "colab": {
          "base_uri": "https://localhost:8080/",
          "height": 34
        },
        "outputId": "8082c35a-49b9-48b9-a0f3-4580543f5ce4"
      },
      "source": [
        "# how many values less than 6 in each row?\n",
        "np.sum(x < 6, axis=1)"
      ],
      "execution_count": 30,
      "outputs": [
        {
          "output_type": "execute_result",
          "data": {
            "text/plain": [
              "array([4, 2, 2])"
            ]
          },
          "metadata": {
            "tags": []
          },
          "execution_count": 30
        }
      ]
    },
    {
      "cell_type": "markdown",
      "metadata": {
        "id": "CS-Ag746ZBT2",
        "colab_type": "text"
      },
      "source": [
        "This counts the number of values less than 6 in each row of the matrix.\n",
        "\n",
        "If we're interested in quickly checking whether any or all the values are true, we can use (you guessed it) ``np.any`` or ``np.all``:"
      ]
    },
    {
      "cell_type": "code",
      "metadata": {
        "id": "VDrktsfaZBT2",
        "colab_type": "code",
        "colab": {
          "base_uri": "https://localhost:8080/",
          "height": 34
        },
        "outputId": "4b1b2842-a76b-407e-828f-658c9d36c03c"
      },
      "source": [
        "# are there any values greater than 8?\n",
        "np.any(x > 8)"
      ],
      "execution_count": 23,
      "outputs": [
        {
          "output_type": "execute_result",
          "data": {
            "text/plain": [
              "True"
            ]
          },
          "metadata": {
            "tags": []
          },
          "execution_count": 23
        }
      ]
    },
    {
      "cell_type": "code",
      "metadata": {
        "id": "gZ2wklk1ZBT4",
        "colab_type": "code",
        "colab": {
          "base_uri": "https://localhost:8080/",
          "height": 34
        },
        "outputId": "0910b75c-abfc-4fbf-806e-e7571bb85386"
      },
      "source": [
        "# are there any values less than zero?\n",
        "np.any(x < 0)"
      ],
      "execution_count": 24,
      "outputs": [
        {
          "output_type": "execute_result",
          "data": {
            "text/plain": [
              "False"
            ]
          },
          "metadata": {
            "tags": []
          },
          "execution_count": 24
        }
      ]
    },
    {
      "cell_type": "code",
      "metadata": {
        "id": "27B7W7aQZBT5",
        "colab_type": "code",
        "colab": {
          "base_uri": "https://localhost:8080/",
          "height": 34
        },
        "outputId": "38b864b1-6c40-436a-f133-26c26d254420"
      },
      "source": [
        "# are all values less than 10?\n",
        "np.all(x < 10)"
      ],
      "execution_count": 25,
      "outputs": [
        {
          "output_type": "execute_result",
          "data": {
            "text/plain": [
              "True"
            ]
          },
          "metadata": {
            "tags": []
          },
          "execution_count": 25
        }
      ]
    },
    {
      "cell_type": "code",
      "metadata": {
        "id": "9g5U7RkKZBT8",
        "colab_type": "code",
        "colab": {
          "base_uri": "https://localhost:8080/",
          "height": 34
        },
        "outputId": "75601be2-f093-4eb2-c752-fbe6bd15e6ef"
      },
      "source": [
        "# are all values equal to 6?\n",
        "np.all(x == 6)"
      ],
      "execution_count": 26,
      "outputs": [
        {
          "output_type": "execute_result",
          "data": {
            "text/plain": [
              "False"
            ]
          },
          "metadata": {
            "tags": []
          },
          "execution_count": 26
        }
      ]
    },
    {
      "cell_type": "markdown",
      "metadata": {
        "id": "kZ3XKJ7PZBT-",
        "colab_type": "text"
      },
      "source": [
        "``np.all`` and ``np.any`` can be used along particular axes as well. For example:"
      ]
    },
    {
      "cell_type": "code",
      "metadata": {
        "id": "kgwbRks_ZBT-",
        "colab_type": "code",
        "colab": {
          "base_uri": "https://localhost:8080/",
          "height": 34
        },
        "outputId": "78eb8067-5eda-4309-b42c-07a268c3ad5e"
      },
      "source": [
        "# are all values in each row less than 8?\n",
        "np.all(x < 8, axis=1)"
      ],
      "execution_count": 27,
      "outputs": [
        {
          "output_type": "execute_result",
          "data": {
            "text/plain": [
              "array([ True, False,  True])"
            ]
          },
          "metadata": {
            "tags": []
          },
          "execution_count": 27
        }
      ]
    },
    {
      "cell_type": "markdown",
      "metadata": {
        "id": "0FssgrLhZBUA",
        "colab_type": "text"
      },
      "source": [
        "Here all the elements in the first and third rows are less than 8, while this is not the case for the second row.\n",
        "\n",
        "Finally, a quick warning: as mentioned in [Aggregations: Min, Max, and Everything In Between](https://github.com/jakevdp/PythonDataScienceHandbook/blob/master/notebooks/02.04-Computation-on-arrays-aggregates.ipynb), Python has built-in ``sum()``, ``any()``, and ``all()`` functions. These have a different syntax than the NumPy versions, and in particular will fail or produce unintended results when used on multidimensional arrays. Be sure that you are using ``np.sum()``, ``np.any()``, and ``np.all()`` for these examples!"
      ]
    },
    {
      "cell_type": "markdown",
      "metadata": {
        "id": "PI8fp5r0ZBUB",
        "colab_type": "text"
      },
      "source": [
        "### Boolean operators\n",
        "\n",
        "We've already seen how we might count, say, all days with rain less than four inches, or all days with rain greater than two inches.\n",
        "But what if we want to know about all days with rain less than four inches and greater than one inch?\n",
        "This is accomplished through Python's *bitwise logic operators*, ``&``, ``|``, ``^``, and ``~``.\n",
        "Like with the standard arithmetic operators, NumPy overloads these as ufuncs which work element-wise on (usually Boolean) arrays.\n",
        "\n",
        "For example, we can address this sort of compound question as follows:"
      ]
    },
    {
      "cell_type": "code",
      "metadata": {
        "id": "zSsLMOrxZBUB",
        "colab_type": "code",
        "colab": {
          "base_uri": "https://localhost:8080/",
          "height": 0
        },
        "outputId": "d2807697-172f-4852-fde9-89c544c78aaf"
      },
      "source": [
        "np.sum((inches > 0.5) & (inches < 1))"
      ],
      "execution_count": 17,
      "outputs": [
        {
          "output_type": "execute_result",
          "data": {
            "text/plain": [
              "29"
            ]
          },
          "metadata": {
            "tags": []
          },
          "execution_count": 17
        }
      ]
    },
    {
      "cell_type": "markdown",
      "metadata": {
        "id": "GYgl0_3MZBUD",
        "colab_type": "text"
      },
      "source": [
        "So we see that there are 29 days with rainfall between 0.5 and 1.0 inches.\n",
        "\n",
        "Note that the parentheses here are important–because of operator precedence rules, with parentheses removed this expression would be evaluated as follows, which results in an error:\n",
        "\n",
        "``` python\n",
        "inches > (0.5 & inches) < 1\n",
        "```\n",
        "\n",
        "Using the equivalence of *A AND B* and *NOT (NOT A OR NOT B)* (which you may remember if you've taken an introductory logic course), we can compute the same result in a different manner:"
      ]
    },
    {
      "cell_type": "code",
      "metadata": {
        "id": "1NmPzagJZBUD",
        "colab_type": "code",
        "colab": {
          "base_uri": "https://localhost:8080/",
          "height": 0
        },
        "outputId": "0d827ca0-88b6-487a-c9f9-7aa4b5f33a4a"
      },
      "source": [
        "np.sum(~( (inches <= 0.5) | (inches >= 1) ))"
      ],
      "execution_count": 18,
      "outputs": [
        {
          "output_type": "execute_result",
          "data": {
            "text/plain": [
              "29"
            ]
          },
          "metadata": {
            "tags": []
          },
          "execution_count": 18
        }
      ]
    },
    {
      "cell_type": "markdown",
      "metadata": {
        "id": "RLNkBF1pZBUF",
        "colab_type": "text"
      },
      "source": [
        "Combining comparison operators and Boolean operators on arrays can lead to a wide range of efficient logical operations.\n",
        "\n",
        "The following table summarizes the bitwise Boolean operators and their equivalent ufuncs:"
      ]
    },
    {
      "cell_type": "markdown",
      "metadata": {
        "id": "8namevOoZBUF",
        "colab_type": "text"
      },
      "source": [
        "| Operator\t    | Equivalent ufunc    || Operator\t    | Equivalent ufunc    |\n",
        "|---------------|---------------------||---------------|---------------------|\n",
        "|``&``          |``np.bitwise_and``   ||&#124;         |``np.bitwise_or``    |\n",
        "|``^``          |``np.bitwise_xor``   ||``~``          |``np.bitwise_not``   |"
      ]
    },
    {
      "cell_type": "markdown",
      "metadata": {
        "id": "upT7uNL4ZBUF",
        "colab_type": "text"
      },
      "source": [
        "Using these tools, we might start to answer the types of questions we have about our weather data.\n",
        "Here are some examples of results we can compute when combining masking with aggregations:"
      ]
    },
    {
      "cell_type": "code",
      "metadata": {
        "id": "RfyC3xRhZBUG",
        "colab_type": "code",
        "colab": {
          "base_uri": "https://localhost:8080/",
          "height": 0
        },
        "outputId": "77c93198-5a89-4199-9ae3-1b84e6721712"
      },
      "source": [
        "print(\"Number days without rain:      \", np.sum(inches == 0))\n",
        "print(\"Number days with rain:         \", np.sum(inches != 0))\n",
        "print(\"Days with more than 0.5 inches:\", np.sum(inches > 0.5))\n",
        "print(\"Rainy days with < 0.2 inches  :\", np.sum((inches > 0) &\n",
        "                                                (inches < 0.2)))"
      ],
      "execution_count": 19,
      "outputs": [
        {
          "output_type": "stream",
          "text": [
            "Number days without rain:       215\n",
            "Number days with rain:          150\n",
            "Days with more than 0.5 inches: 37\n",
            "Rainy days with < 0.2 inches  : 75\n"
          ],
          "name": "stdout"
        }
      ]
    },
    {
      "cell_type": "markdown",
      "metadata": {
        "id": "rNHqlIwZZBUI",
        "colab_type": "text"
      },
      "source": [
        "## Boolean Arrays as Masks\n",
        "\n",
        "In the preceding section we looked at aggregates computed directly on Boolean arrays.\n",
        "A more powerful pattern is to use Boolean arrays as masks, to select particular subsets of the data themselves.\n",
        "Returning to our ``x`` array from before, suppose we want an array of all values in the array that are less than, say, 5:"
      ]
    },
    {
      "cell_type": "code",
      "metadata": {
        "id": "uJXaqDUXZBUI",
        "colab_type": "code",
        "colab": {
          "base_uri": "https://localhost:8080/",
          "height": 68
        },
        "outputId": "fbf4f547-7640-450e-c99e-19798644a7df"
      },
      "source": [
        "x"
      ],
      "execution_count": 32,
      "outputs": [
        {
          "output_type": "execute_result",
          "data": {
            "text/plain": [
              "array([[5, 0, 3, 3],\n",
              "       [7, 9, 3, 5],\n",
              "       [2, 4, 7, 6]])"
            ]
          },
          "metadata": {
            "tags": []
          },
          "execution_count": 32
        }
      ]
    },
    {
      "cell_type": "markdown",
      "metadata": {
        "id": "XXhDnO7wZBUL",
        "colab_type": "text"
      },
      "source": [
        "We can obtain a Boolean array for this condition easily, as we've already seen:"
      ]
    },
    {
      "cell_type": "code",
      "metadata": {
        "id": "yL6IkkkqZBUL",
        "colab_type": "code",
        "colab": {
          "base_uri": "https://localhost:8080/",
          "height": 68
        },
        "outputId": "39e4ce7d-d777-4706-988b-9a21ec0a1c03"
      },
      "source": [
        "x < 5"
      ],
      "execution_count": 33,
      "outputs": [
        {
          "output_type": "execute_result",
          "data": {
            "text/plain": [
              "array([[False,  True,  True,  True],\n",
              "       [False, False,  True, False],\n",
              "       [ True,  True, False, False]])"
            ]
          },
          "metadata": {
            "tags": []
          },
          "execution_count": 33
        }
      ]
    },
    {
      "cell_type": "markdown",
      "metadata": {
        "id": "bIxxKa84ZBUN",
        "colab_type": "text"
      },
      "source": [
        "Now to *select* these values from the array, we can simply index on this Boolean array; this is known as a *masking* operation:"
      ]
    },
    {
      "cell_type": "code",
      "metadata": {
        "id": "S-k_yeBaZBUN",
        "colab_type": "code",
        "colab": {
          "base_uri": "https://localhost:8080/",
          "height": 34
        },
        "outputId": "0ed80083-6d6c-49d2-9322-a3a0795f3245"
      },
      "source": [
        "x[x < 5]"
      ],
      "execution_count": 34,
      "outputs": [
        {
          "output_type": "execute_result",
          "data": {
            "text/plain": [
              "array([0, 3, 3, 3, 2, 4])"
            ]
          },
          "metadata": {
            "tags": []
          },
          "execution_count": 34
        }
      ]
    },
    {
      "cell_type": "markdown",
      "metadata": {
        "id": "t5QAJKbxrrDp",
        "colab_type": "text"
      },
      "source": [
        "What is returned is a one-dimensional array filled with all the values that meet this condition; in other words, all the values in positions at which the mask array is True."
      ]
    },
    {
      "cell_type": "markdown",
      "metadata": {
        "id": "TOvzBfEdqw7a",
        "colab_type": "text"
      },
      "source": [
        "Next we construct a Boolean array that applies to just one column of `x`.  Find the rows for which the value in the first column is greater than or equal to 5."
      ]
    },
    {
      "cell_type": "code",
      "metadata": {
        "id": "zS7Xl-UTqDkl",
        "colab_type": "code",
        "colab": {
          "base_uri": "https://localhost:8080/",
          "height": 34
        },
        "outputId": "5d781de7-2a52-40f4-ac90-33d6d6cb5dec"
      },
      "source": [
        "x[:,0] >= 5"
      ],
      "execution_count": 42,
      "outputs": [
        {
          "output_type": "execute_result",
          "data": {
            "text/plain": [
              "array([ True,  True, False])"
            ]
          },
          "metadata": {
            "tags": []
          },
          "execution_count": 42
        }
      ]
    },
    {
      "cell_type": "markdown",
      "metadata": {
        "id": "7x1eF5gCrHbX",
        "colab_type": "text"
      },
      "source": [
        "The first two rows match the condition.  The third does not.  Finally we use the condition as a mask to return a sub array of `x` contains only the rows matching the condition."
      ]
    },
    {
      "cell_type": "code",
      "metadata": {
        "id": "-MnUtaiVqNH5",
        "colab_type": "code",
        "colab": {
          "base_uri": "https://localhost:8080/",
          "height": 119
        },
        "outputId": "1c1b8341-a164-46e8-a71a-ceb233520c26"
      },
      "source": [
        "print(x)\n",
        "print()\n",
        "print(x[x[:,0] >= 5,:])"
      ],
      "execution_count": 43,
      "outputs": [
        {
          "output_type": "stream",
          "text": [
            "[[5 0 3 3]\n",
            " [7 9 3 5]\n",
            " [2 4 7 6]]\n",
            "\n",
            "[[5 0 3 3]\n",
            " [7 9 3 5]]\n"
          ],
          "name": "stdout"
        }
      ]
    },
    {
      "cell_type": "markdown",
      "metadata": {
        "id": "SEg3iHpxZBUP",
        "colab_type": "text"
      },
      "source": [
        "We are then free to operate on these values as we wish.\n",
        "For example, we can compute some relevant statistics on our Seattle rain data:"
      ]
    },
    {
      "cell_type": "code",
      "metadata": {
        "id": "_qycQ3ARZBUP",
        "colab_type": "code",
        "colab": {
          "base_uri": "https://localhost:8080/",
          "height": 85
        },
        "outputId": "63eee46f-03af-43c5-e70d-7249d5f379ba"
      },
      "source": [
        "# construct a mask of all rainy days\n",
        "rainy = (inches > 0)\n",
        "\n",
        "# construct a mask of all summer days (June 21st is the 172nd day)\n",
        "days = np.arange(365)\n",
        "summer = (days > 172) & (days < 262)\n",
        "\n",
        "print(\"Median precip on rainy days in 2014 (inches):   \",\n",
        "      np.median(inches[rainy]))\n",
        "print(\"Median precip on summer days in 2014 (inches):  \",\n",
        "      np.median(inches[summer]))\n",
        "print(\"Maximum precip on summer days in 2014 (inches): \",\n",
        "      np.max(inches[summer]))\n",
        "print(\"Median precip on non-summer rainy days (inches):\",\n",
        "      np.median(inches[rainy & ~summer]))"
      ],
      "execution_count": null,
      "outputs": [
        {
          "output_type": "stream",
          "text": [
            "Median precip on rainy days in 2014 (inches):    0.19488188976377951\n",
            "Median precip on summer days in 2014 (inches):   0.0\n",
            "Maximum precip on summer days in 2014 (inches):  0.8503937007874016\n",
            "Median precip on non-summer rainy days (inches): 0.20078740157480315\n"
          ],
          "name": "stdout"
        }
      ]
    },
    {
      "cell_type": "markdown",
      "metadata": {
        "id": "FDd0O9KiZBUR",
        "colab_type": "text"
      },
      "source": [
        "By combining Boolean operations, masking operations, and aggregates, we can very quickly answer these sorts of questions for our dataset."
      ]
    },
    {
      "cell_type": "markdown",
      "metadata": {
        "id": "RxcDrFJLZBUR",
        "colab_type": "text"
      },
      "source": [
        "## Aside: Using the Keywords and/or Versus the Operators &/|\n",
        "\n",
        "One common point of confusion is the difference between the keywords ``and`` and ``or`` on one hand, and the operators ``&`` and ``|`` on the other hand.\n",
        "When would you use one versus the other?\n",
        "\n",
        "The difference is this: ``and`` and ``or`` gauge the truth or falsehood of *entire object*, while ``&`` and ``|`` refer to *bits within each object*.\n",
        "\n",
        "When you use ``and`` or ``or``, it's equivalent to asking Python to treat the object as a single Boolean entity.\n",
        "In Python, all nonzero integers will evaluate as True. Thus:"
      ]
    },
    {
      "cell_type": "code",
      "metadata": {
        "id": "_S5z2P8hZBUS",
        "colab_type": "code",
        "colab": {},
        "outputId": "fe12be24-e448-4d20-aac8-72e935b568a2"
      },
      "source": [
        "bool(42), bool(0)"
      ],
      "execution_count": null,
      "outputs": [
        {
          "output_type": "execute_result",
          "data": {
            "text/plain": [
              "(True, False)"
            ]
          },
          "metadata": {
            "tags": []
          },
          "execution_count": 30
        }
      ]
    },
    {
      "cell_type": "code",
      "metadata": {
        "id": "QmXbV3Y_ZBUT",
        "colab_type": "code",
        "colab": {},
        "outputId": "fde87a3a-16bd-4fbd-e0af-b3a1eb9006eb"
      },
      "source": [
        "bool(42 and 0)"
      ],
      "execution_count": null,
      "outputs": [
        {
          "output_type": "execute_result",
          "data": {
            "text/plain": [
              "False"
            ]
          },
          "metadata": {
            "tags": []
          },
          "execution_count": 31
        }
      ]
    },
    {
      "cell_type": "code",
      "metadata": {
        "id": "tLGVOuB8ZBUV",
        "colab_type": "code",
        "colab": {},
        "outputId": "24a7c447-9770-4cc9-ffc9-def9d75d7506"
      },
      "source": [
        "bool(42 or 0)"
      ],
      "execution_count": null,
      "outputs": [
        {
          "output_type": "execute_result",
          "data": {
            "text/plain": [
              "True"
            ]
          },
          "metadata": {
            "tags": []
          },
          "execution_count": 32
        }
      ]
    },
    {
      "cell_type": "markdown",
      "metadata": {
        "id": "jQzNlW-tZBUX",
        "colab_type": "text"
      },
      "source": [
        "When you use ``&`` and ``|`` on integers, the expression operates on the bits of the element, applying the *and* or the *or* to the individual bits making up the number:"
      ]
    },
    {
      "cell_type": "code",
      "metadata": {
        "id": "aZVCpUWzZBUX",
        "colab_type": "code",
        "colab": {
          "base_uri": "https://localhost:8080/",
          "height": 35
        },
        "outputId": "7d05d7c1-77f3-4837-ef57-b6dc7743d7d9"
      },
      "source": [
        "bin(42)"
      ],
      "execution_count": null,
      "outputs": [
        {
          "output_type": "execute_result",
          "data": {
            "application/vnd.google.colaboratory.intrinsic+json": {
              "type": "string"
            },
            "text/plain": [
              "'0b101010'"
            ]
          },
          "metadata": {
            "tags": []
          },
          "execution_count": 22
        }
      ]
    },
    {
      "cell_type": "code",
      "metadata": {
        "id": "aU18MIMHZBUZ",
        "colab_type": "code",
        "colab": {
          "base_uri": "https://localhost:8080/",
          "height": 35
        },
        "outputId": "5721ee4a-d762-4586-bfba-afda7d685565"
      },
      "source": [
        "bin(59)"
      ],
      "execution_count": null,
      "outputs": [
        {
          "output_type": "execute_result",
          "data": {
            "application/vnd.google.colaboratory.intrinsic+json": {
              "type": "string"
            },
            "text/plain": [
              "'0b111011'"
            ]
          },
          "metadata": {
            "tags": []
          },
          "execution_count": 23
        }
      ]
    },
    {
      "cell_type": "code",
      "metadata": {
        "id": "10tcG9qnZBUb",
        "colab_type": "code",
        "colab": {
          "base_uri": "https://localhost:8080/",
          "height": 35
        },
        "outputId": "67a68109-791b-472c-e066-8b3e32f43665"
      },
      "source": [
        "bin(42 & 59)"
      ],
      "execution_count": null,
      "outputs": [
        {
          "output_type": "execute_result",
          "data": {
            "application/vnd.google.colaboratory.intrinsic+json": {
              "type": "string"
            },
            "text/plain": [
              "'0b101010'"
            ]
          },
          "metadata": {
            "tags": []
          },
          "execution_count": 24
        }
      ]
    },
    {
      "cell_type": "code",
      "metadata": {
        "id": "CnKZ4mBAZBUe",
        "colab_type": "code",
        "colab": {
          "base_uri": "https://localhost:8080/",
          "height": 35
        },
        "outputId": "8b3a1c1d-0126-4ef9-a785-5e77a8441d82"
      },
      "source": [
        "bin(42 | 59)"
      ],
      "execution_count": null,
      "outputs": [
        {
          "output_type": "execute_result",
          "data": {
            "application/vnd.google.colaboratory.intrinsic+json": {
              "type": "string"
            },
            "text/plain": [
              "'0b111011'"
            ]
          },
          "metadata": {
            "tags": []
          },
          "execution_count": 30
        }
      ]
    },
    {
      "cell_type": "code",
      "metadata": {
        "id": "AZdx74ZpsIur",
        "colab_type": "code",
        "colab": {
          "base_uri": "https://localhost:8080/",
          "height": 34
        },
        "outputId": "3704a8b2-7ecf-43c8-c5b9-f92ad387233c"
      },
      "source": [
        "int(bin(42 | 59),base=2)"
      ],
      "execution_count": null,
      "outputs": [
        {
          "output_type": "execute_result",
          "data": {
            "text/plain": [
              "59"
            ]
          },
          "metadata": {
            "tags": []
          },
          "execution_count": 31
        }
      ]
    },
    {
      "cell_type": "markdown",
      "metadata": {
        "id": "jHPy0vb8ZBUg",
        "colab_type": "text"
      },
      "source": [
        "Notice that the corresponding bits of the binary representation are compared in order to yield the result.\n",
        "\n",
        "When you have an array of Boolean values in NumPy, this can be thought of as a string of bits where ``1 = True`` and ``0 = False``, and the result of ``&`` and ``|`` operates similarly to above:"
      ]
    },
    {
      "cell_type": "code",
      "metadata": {
        "id": "L7L9D_p2ZBUh",
        "colab_type": "code",
        "colab": {},
        "outputId": "9f4cce92-0be8-42b3-aed1-a01cd571b558"
      },
      "source": [
        "A = np.array([1, 0, 1, 0, 1, 0], dtype=bool)\n",
        "B = np.array([1, 1, 1, 0, 1, 1], dtype=bool)\n",
        "A | B"
      ],
      "execution_count": null,
      "outputs": [
        {
          "output_type": "execute_result",
          "data": {
            "text/plain": [
              "array([ True,  True,  True, False,  True,  True], dtype=bool)"
            ]
          },
          "metadata": {
            "tags": []
          },
          "execution_count": 37
        }
      ]
    },
    {
      "cell_type": "markdown",
      "metadata": {
        "id": "Nk8f7pmCZBUk",
        "colab_type": "text"
      },
      "source": [
        "Using ``or`` on these arrays will try to evaluate the truth or falsehood of the entire array object, which is not a well-defined value:"
      ]
    },
    {
      "cell_type": "code",
      "metadata": {
        "id": "24ZmHUV2ZBUk",
        "colab_type": "code",
        "colab": {},
        "outputId": "8b4bd63d-fbc1-4cc7-e334-8120dba3aabe"
      },
      "source": [
        "A or B"
      ],
      "execution_count": null,
      "outputs": [
        {
          "output_type": "error",
          "ename": "ValueError",
          "evalue": "The truth value of an array with more than one element is ambiguous. Use a.any() or a.all()",
          "traceback": [
            "\u001b[0;31m---------------------------------------------------------------------------\u001b[0m",
            "\u001b[0;31mValueError\u001b[0m                                Traceback (most recent call last)",
            "\u001b[0;32m<ipython-input-38-5d8e4f2e21c0>\u001b[0m in \u001b[0;36m<module>\u001b[0;34m()\u001b[0m\n\u001b[0;32m----> 1\u001b[0;31m \u001b[0mA\u001b[0m \u001b[0;32mor\u001b[0m \u001b[0mB\u001b[0m\u001b[0;34m\u001b[0m\u001b[0m\n\u001b[0m",
            "\u001b[0;31mValueError\u001b[0m: The truth value of an array with more than one element is ambiguous. Use a.any() or a.all()"
          ]
        }
      ]
    },
    {
      "cell_type": "markdown",
      "metadata": {
        "id": "qq1Y2S5QZBUn",
        "colab_type": "text"
      },
      "source": [
        "Similarly, when doing a Boolean expression on a given array, you should use ``|`` or ``&`` rather than ``or`` or ``and``:"
      ]
    },
    {
      "cell_type": "code",
      "metadata": {
        "id": "siHrH_qRZBUo",
        "colab_type": "code",
        "colab": {},
        "outputId": "aad59700-d456-40a7-a719-04a3999b895d"
      },
      "source": [
        "x = np.arange(10)\n",
        "(x > 4) & (x < 8)"
      ],
      "execution_count": null,
      "outputs": [
        {
          "output_type": "execute_result",
          "data": {
            "text/plain": [
              "array([False, False, False, False, False,  True,  True,  True, False, False], dtype=bool)"
            ]
          },
          "metadata": {
            "tags": []
          },
          "execution_count": 39
        }
      ]
    },
    {
      "cell_type": "markdown",
      "metadata": {
        "id": "qtvBtpYBZBUq",
        "colab_type": "text"
      },
      "source": [
        "Trying to evaluate the truth or falsehood of the entire array will give the same ``ValueError`` we saw previously:"
      ]
    },
    {
      "cell_type": "code",
      "metadata": {
        "id": "-BICrrGZZBUq",
        "colab_type": "code",
        "colab": {},
        "outputId": "92cc256d-bec7-466f-dbfc-1ff4faad591b"
      },
      "source": [
        "(x > 4) and (x < 8)"
      ],
      "execution_count": null,
      "outputs": [
        {
          "output_type": "error",
          "ename": "ValueError",
          "evalue": "The truth value of an array with more than one element is ambiguous. Use a.any() or a.all()",
          "traceback": [
            "\u001b[0;31m---------------------------------------------------------------------------\u001b[0m",
            "\u001b[0;31mValueError\u001b[0m                                Traceback (most recent call last)",
            "\u001b[0;32m<ipython-input-40-3d24f1ffd63d>\u001b[0m in \u001b[0;36m<module>\u001b[0;34m()\u001b[0m\n\u001b[0;32m----> 1\u001b[0;31m \u001b[0;34m(\u001b[0m\u001b[0mx\u001b[0m \u001b[0;34m>\u001b[0m \u001b[0;36m4\u001b[0m\u001b[0;34m)\u001b[0m \u001b[0;32mand\u001b[0m \u001b[0;34m(\u001b[0m\u001b[0mx\u001b[0m \u001b[0;34m<\u001b[0m \u001b[0;36m8\u001b[0m\u001b[0;34m)\u001b[0m\u001b[0;34m\u001b[0m\u001b[0m\n\u001b[0m",
            "\u001b[0;31mValueError\u001b[0m: The truth value of an array with more than one element is ambiguous. Use a.any() or a.all()"
          ]
        }
      ]
    },
    {
      "cell_type": "markdown",
      "metadata": {
        "id": "UcRIQgtOZBUr",
        "colab_type": "text"
      },
      "source": [
        "So remember this: ``and`` and ``or`` perform a single Boolean evaluation on an entire object, while ``&`` and ``|`` perform multiple Boolean evaluations on the content (the individual bits or bytes) of an object.\n",
        "For Boolean NumPy arrays, the latter is nearly always the desired operation."
      ]
    },
    {
      "cell_type": "markdown",
      "metadata": {
        "id": "Fbn2RlZ3ZBUs",
        "colab_type": "text"
      },
      "source": [
        "<!--NAVIGATION-->\n",
        "< [Computation on Arrays: Broadcasting](02.05-Computation-on-arrays-broadcasting.ipynb) | [Contents](Index.ipynb) | [Fancy Indexing](02.07-Fancy-Indexing.ipynb) >\n",
        "\n",
        "<a href=\"https://colab.research.google.com/github/jakevdp/PythonDataScienceHandbook/blob/master/notebooks/02.06-Boolean-Arrays-and-Masks.ipynb\"><img align=\"left\" src=\"https://colab.research.google.com/assets/colab-badge.svg\" alt=\"Open in Colab\" title=\"Open and Execute in Google Colaboratory\"></a>\n"
      ]
    }
  ]
}