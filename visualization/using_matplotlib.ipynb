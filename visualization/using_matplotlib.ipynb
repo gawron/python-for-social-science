{
  "cells": [
    {
      "cell_type": "markdown",
      "metadata": {
        "id": "j45U7SChBQgp"
      },
      "source": [
        "## Using matplotlib"
      ]
    },
    {
      "cell_type": "markdown",
      "metadata": {
        "id": "9DlUVOIxBQgt"
      },
      "source": [
        ""
      ]
    },
    {
      "cell_type": "markdown",
      "metadata": {
        "id": "j1J2iHtrBQgt"
      },
      "source": [
        "Many of the examples in this lab session are taken from the matplotlib tutorials."
      ]
    },
    {
      "cell_type": "markdown",
      "metadata": {
        "id": "Cmj1zBWZBQgu"
      },
      "source": [
        "Get the counts of the words in *Emma* by Jane Austen.  Lower case the input words.  Do a histogram of the word counts for the 100 most frequent words.   You'll nneed to use the `most_common` method on a Counter, which, if given the argument 100, returns a list of the word count pairs for the 100 most common words.  You should try 20 bins.\n",
        "You can also experiment wth doing all the words."
      ]
    },
    {
      "cell_type": "code",
      "execution_count": null,
      "metadata": {
        "id": "1_87G-7zBQgu"
      },
      "outputs": [],
      "source": [
        "import urllib.request\n",
        "with urllib.request.urlopen(\\\n",
        "  'http://gawron.sdsu.edu/python_for_ss/emma.txt') \\\n",
        "   as response:\n",
        "   data = response.read()"
      ]
    },
    {
      "cell_type": "code",
      "execution_count": null,
      "metadata": {
        "colab": {
          "base_uri": "https://localhost:8080/"
        },
        "id": "azYxVHrjBQgw",
        "outputId": "4d025983-6237-4ca5-9a64-011c2c6c2e64"
      },
      "outputs": [
        {
          "output_type": "execute_result",
          "data": {
            "text/plain": [
              "b'\\xef\\xbb\\xbfThe Project Gutenberg EBook of Emma, by Jane Austen\\r\\n\\r\\nThis eBook is for the use of anyone anywhe'"
            ]
          },
          "metadata": {},
          "execution_count": 2
        }
      ],
      "source": [
        "data[:100]"
      ]
    },
    {
      "cell_type": "code",
      "execution_count": null,
      "metadata": {
        "colab": {
          "base_uri": "https://localhost:8080/"
        },
        "id": "VZC2wHybBQgx",
        "outputId": "fbd7f8db-9a8e-4811-9d43-7a836ffa1aa7"
      },
      "outputs": [
        {
          "output_type": "execute_result",
          "data": {
            "text/plain": [
              "bytes"
            ]
          },
          "metadata": {},
          "execution_count": 3
        }
      ],
      "source": [
        "type(data)"
      ]
    },
    {
      "cell_type": "code",
      "execution_count": null,
      "metadata": {
        "id": "KSb02iOKBQgx"
      },
      "outputs": [],
      "source": [
        "data1 = data.decode(encoding='utf16')"
      ]
    },
    {
      "cell_type": "code",
      "execution_count": null,
      "metadata": {
        "colab": {
          "base_uri": "https://localhost:8080/"
        },
        "id": "Jk2usdH4BQgy",
        "outputId": "6e916d63-2f58-483d-c7c3-cd3db22e47e7"
      },
      "outputs": [
        {
          "output_type": "execute_result",
          "data": {
            "text/plain": [
              "str"
            ]
          },
          "metadata": {},
          "execution_count": 5
        }
      ],
      "source": [
        "type(data1)"
      ]
    },
    {
      "cell_type": "code",
      "execution_count": null,
      "metadata": {
        "colab": {
          "base_uri": "https://localhost:8080/",
          "height": 53
        },
        "id": "hAClXhOIBQgy",
        "outputId": "f101aef0-ca9e-432b-86bc-3ecd52af2870"
      },
      "outputs": [
        {
          "output_type": "execute_result",
          "data": {
            "text/plain": [
              "'믯咿敨倠潲敪瑣䜠瑵湥敢杲䔠潂歯漠\\u2066浅慭\\u202c祢䨠湡\\u2065畁瑳湥\\u0a0d\\u0a0d桔獩攠潂歯椠\\u2073潦\\u2072桴\\u2065獵\\u2065景愠祮湯\\u2065湡睹敨敲愠⁴潮挠獯⁴湡\\u2064楷桴\\u0a0d污潭瑳渠\\u206f敲瑳楲瑣潩獮眠慨獴敯敶\\u2e72†潙⁵慭⁹潣祰椠ⱴ朠癩\\u2065瑩愠慷⁹牯\\u0a0d敲甭敳'"
            ],
            "application/vnd.google.colaboratory.intrinsic+json": {
              "type": "string"
            }
          },
          "metadata": {},
          "execution_count": 6
        }
      ],
      "source": [
        "data1[:100]"
      ]
    },
    {
      "cell_type": "code",
      "execution_count": null,
      "metadata": {
        "id": "6LH2c683BQgz"
      },
      "outputs": [],
      "source": [
        "data1 = data.decode(encoding='utf8')"
      ]
    },
    {
      "cell_type": "code",
      "execution_count": null,
      "metadata": {
        "colab": {
          "base_uri": "https://localhost:8080/",
          "height": 35
        },
        "id": "YvzcJzURBQgz",
        "outputId": "d9c77e52-6e84-4d0b-86f2-ff37b2ac7892"
      },
      "outputs": [
        {
          "output_type": "execute_result",
          "data": {
            "text/plain": [
              "'\\ufeffThe Project Gutenberg EBook of Emma, by Jane Austen\\r\\n\\r\\nThis eBook is for the use of anyone anywhere'"
            ],
            "application/vnd.google.colaboratory.intrinsic+json": {
              "type": "string"
            }
          },
          "metadata": {},
          "execution_count": 8
        }
      ],
      "source": [
        "data1[:100]"
      ]
    },
    {
      "cell_type": "markdown",
      "metadata": {
        "id": "mTQwwCyhBQgz"
      },
      "source": [
        "Here is the code that needs to be modified."
      ]
    },
    {
      "cell_type": "code",
      "execution_count": null,
      "metadata": {
        "id": "SMJnm01DBQg0"
      },
      "outputs": [],
      "source": [
        "import nltk"
      ]
    },
    {
      "cell_type": "code",
      "execution_count": null,
      "metadata": {
        "colab": {
          "base_uri": "https://localhost:8080/",
          "height": 35
        },
        "id": "OMrKHtXrBQg0",
        "outputId": "d0baa935-2b88-4acc-cab1-17600a627ffa"
      },
      "outputs": [
        {
          "output_type": "execute_result",
          "data": {
            "text/plain": [
              "'3.2.5'"
            ],
            "application/vnd.google.colaboratory.intrinsic+json": {
              "type": "string"
            }
          },
          "metadata": {},
          "execution_count": 10
        }
      ],
      "source": [
        "nltk.__version__"
      ]
    },
    {
      "cell_type": "markdown",
      "source": [
        "In Google Colab, be sure to do this download first."
      ],
      "metadata": {
        "id": "1sNM9cTtBnaS"
      }
    },
    {
      "cell_type": "code",
      "source": [
        "nltk.download('punkt')"
      ],
      "metadata": {
        "colab": {
          "base_uri": "https://localhost:8080/"
        },
        "id": "Fm4y_vGDBcxx",
        "outputId": "7fea9a2f-731f-4b57-fb76-c688039ee449"
      },
      "execution_count": null,
      "outputs": [
        {
          "output_type": "stream",
          "name": "stdout",
          "text": [
            "[nltk_data] Downloading package punkt to /root/nltk_data...\n",
            "[nltk_data]   Unzipping tokenizers/punkt.zip.\n"
          ]
        },
        {
          "output_type": "execute_result",
          "data": {
            "text/plain": [
              "True"
            ]
          },
          "metadata": {},
          "execution_count": 12
        }
      ]
    },
    {
      "cell_type": "code",
      "execution_count": null,
      "metadata": {
        "id": "IbKXucNXBQg0"
      },
      "outputs": [],
      "source": [
        "from nltk.tokenize import word_tokenize\n",
        "from collections import Counter\n",
        "# decode\n",
        "data0 = data.decode(encoding='utf8')\n",
        "datal = data0.lower()  # \n",
        "# Note. We're not using split anymore\n",
        "data_lt =  word_tokenize(datal)  #data1.lower().split()\n",
        "## This needs to change We're not doing word counts for Sl anymore\n",
        "word_cts = Counter(data_lt)"
      ]
    },
    {
      "cell_type": "code",
      "execution_count": null,
      "metadata": {
        "scrolled": true,
        "colab": {
          "base_uri": "https://localhost:8080/"
        },
        "id": "Qv2mjPbpBQg0",
        "outputId": "26c764fd-762b-4126-afed-ba96b6822645"
      },
      "outputs": [
        {
          "output_type": "execute_result",
          "data": {
            "text/plain": [
              "[(',', 12164),\n",
              " ('.', 6439),\n",
              " ('the', 5373),\n",
              " ('to', 5259),\n",
              " ('and', 4943),\n",
              " ('of', 4403),\n",
              " ('a', 3181),\n",
              " ('i', 3164),\n",
              " ('--', 3102),\n",
              " ('it', 2515),\n",
              " ('her', 2446),\n",
              " (\"''\", 2429),\n",
              " ('was', 2397),\n",
              " (';', 2353),\n",
              " ('she', 2336),\n",
              " ('not', 2304),\n",
              " ('in', 2231),\n",
              " ('you', 2032),\n",
              " ('be', 1989),\n",
              " ('that', 1819),\n",
              " ('he', 1808),\n",
              " ('``', 1782),\n",
              " ('had', 1623),\n",
              " ('as', 1446),\n",
              " ('but', 1444),\n",
              " ('for', 1372),\n",
              " ('have', 1324),\n",
              " ('is', 1266),\n",
              " ('with', 1262),\n",
              " ('very', 1203)]"
            ]
          },
          "metadata": {},
          "execution_count": 25
        }
      ],
      "source": [
        "word_cts.most_common(30)"
      ]
    },
    {
      "cell_type": "code",
      "execution_count": null,
      "metadata": {
        "colab": {
          "base_uri": "https://localhost:8080/"
        },
        "id": "n8Q4RpTJBQg1",
        "outputId": "6b56c1a1-6585-4250-9a58-72dfca999365"
      },
      "outputs": [
        {
          "output_type": "execute_result",
          "data": {
            "text/plain": [
              "[('possession', 6),\n",
              " ('attempted', 6),\n",
              " ('pressing', 6),\n",
              " ('containing', 6),\n",
              " ('skill', 6),\n",
              " ('variety', 6),\n",
              " ('baby', 6),\n",
              " ('offence', 6),\n",
              " ('entreaties', 6),\n",
              " ('anxiously', 6),\n",
              " ('slowly', 6),\n",
              " ('doubts', 6),\n",
              " ('prefer', 6),\n",
              " ('waited', 6),\n",
              " ('result', 6),\n",
              " ('suspense', 6),\n",
              " ('opposing', 6),\n",
              " ('censure', 6),\n",
              " ('sentence', 6),\n",
              " ('original', 6)]"
            ]
          },
          "metadata": {},
          "execution_count": 15
        }
      ],
      "source": [
        "word_cts.most_common(2000)[-20:]"
      ]
    },
    {
      "cell_type": "code",
      "execution_count": null,
      "metadata": {
        "colab": {
          "base_uri": "https://localhost:8080/",
          "height": 657
        },
        "id": "R1ZKXO9JBQg1",
        "outputId": "fe6a9dc1-0ce7-4b8d-fb5d-49b975c9e88d"
      },
      "outputs": [
        {
          "output_type": "display_data",
          "data": {
            "text/plain": [
              "<Figure size 864x648 with 6 Axes>"
            ],
            "image/png": "[encoded data removed]"
          },
          "metadata": {
            "needs_background": "light"
          }
        }
      ],
      "source": [
        "from matplotlib import pyplot as plt\n",
        "x = sorted(list(dict(word_cts.most_common(4000)).values()))\n",
        "#Let's try three different plots\n",
        "# First plot only the very top of the freq range\n",
        "fig, axes = plt.subplots(3, 2,figsize=(12,9))\n",
        "## Need to think about how many bars/bins we want\n",
        "n1, bins1, patches1 = axes[0,0].hist(x, 20, facecolor='g', \n",
        "                                   range =(1,100),\n",
        "                                   alpha=0.5)\n",
        "# Same freq range, shift bin placment \n",
        "axes[1,0].set_xticks([10,15,20,30,40,50,60,70,80,90,100,110])\n",
        "n2, bins2, patches2 = axes[1,0].hist(x, 20, facecolor='c', \n",
        "                              alpha=0.5, range=(10,110))\n",
        "# Check out a much larger freq range.  Many more bins needed. \n",
        "# Using Freeman-Diaconis ('fd') estimator for bin edge determination\n",
        "axes[2,0].set_xticks([150,500,1000,1500,2000,2500,3000,4000,5000,6000])\n",
        "n2, bins2, patches2 = axes[2,0].hist(x, 'fd', facecolor='violet', \n",
        "                              alpha=0.5, range=(150,6000))\n",
        "###############################################################\n",
        "axes[0,1].set_xticks([50,60,70,80,90,100,110])\n",
        "axes[0,1].set_yticks([5,10,15,20,25,30])\n",
        "n3, bins3, patches3 = axes[0,1].hist(x, 10, facecolor='m', \n",
        "                              alpha=0.5, range=(50,110))\n",
        "# 15 bins. bumpier\n",
        "axes[1,1].set_xticks([50,60,70,80,90,100,110])\n",
        "axes[1,1].set_yticks([4,8,12,16])\n",
        "n4, bins4, patches4 = axes[1,1].hist(x, 15, facecolor='m', \n",
        "                              alpha=0.5, range=(50,110))\n",
        "\n",
        "# 20 bins. much bumpier\n",
        "axes[2,1].set_xticks([50,60,70,80,90,100,110])\n",
        "axes[2,1].set_yticks([4,8,12,16])\n",
        "n5, bins5, patches5 = axes[2,1].hist(x, 20, facecolor='m', \n",
        "                              alpha=0.5, range=(50,110))\n",
        "# Although the function name suggests otherwise, this spreads out the aubplots\n",
        "fig.tight_layout()"
      ]
    },
    {
      "cell_type": "markdown",
      "metadata": {
        "id": "q6HtD99QBQg2"
      },
      "source": [
        "Heights in last plot, first col."
      ]
    },
    {
      "cell_type": "code",
      "execution_count": null,
      "metadata": {
        "id": "eE4Ip9ilBQg2",
        "outputId": "91d5e9df-7836-49da-eddd-d76e84162855"
      },
      "outputs": [
        {
          "data": {
            "text/plain": [
              "array([64., 30., 18.,  9.,  4.,  4.,  4.,  1.,  3.,  2.,  0.,  5.,  3.,\n",
              "        0.,  0.,  1.,  2.,  0.,  0.,  0.,  0.,  0.,  1.,  0.,  0.,  1.,\n",
              "        0.,  2.,  0.,  0.,  0.])"
            ]
          },
          "execution_count": 127,
          "metadata": {},
          "output_type": "execute_result"
        }
      ],
      "source": [
        "n2"
      ]
    },
    {
      "cell_type": "markdown",
      "metadata": {
        "id": "bVnjFSmcBQg2"
      },
      "source": [
        "Intervals for bins"
      ]
    },
    {
      "cell_type": "code",
      "execution_count": null,
      "metadata": {
        "id": "gG1gr_-tBQg2",
        "outputId": "27eac947-0031-4b84-c4c4-73d226fdb13a"
      },
      "outputs": [
        {
          "data": {
            "text/plain": [
              "(188.7096774193542, 188.7096774193551)"
            ]
          },
          "execution_count": 130,
          "metadata": {},
          "output_type": "execute_result"
        }
      ],
      "source": [
        "widths = [bins2[i] - bins2[i-1] for i in range(1,len(bins2))]\n",
        "\n",
        "min(widths),max(widths)"
      ]
    },
    {
      "cell_type": "code",
      "execution_count": null,
      "metadata": {
        "scrolled": true,
        "id": "5vF7-wLUBQg2",
        "outputId": "a359685a-ba7a-4660-e55b-6553403a3e99"
      },
      "outputs": [
        {
          "name": "stdout",
          "output_type": "stream",
          "text": [
            "['brought', 'the', 'next', 'visit', 'from', 'isabella', 'and', 'her', 'husband', ',', 'and', 'their', 'little', 'children', ',', 'to', 'fill', 'the', 'house', ',', 'and', 'give', 'her', 'pleasant', 'society', 'again', '.', 'highbury', ',', 'the', 'large', 'and', 'populous', 'village', ',', 'almost', 'amounting', 'to', 'a', 'town', ',', 'to', 'which', 'hartfield', ',', 'in', 'spite', 'of', 'its', 'separate', 'lawn', ',', 'and', 'shrubberies', ',', 'and', 'name', ',', 'did', 'really', 'belong', ',', 'afforded', 'her', 'no', 'equals', '.', 'the', 'woodhouses', 'were', 'first', 'in', 'consequence', 'there', '.', 'all', 'looked', 'up', 'to', 'them']\n",
            "brought the next visit from isabella and her husband , and their little children , to fill the house , and give her pleasant society again . highbury , the large and populous village , almost amounting\n"
          ]
        }
      ],
      "source": [
        "print(data_lt[1020:1100])\n",
        "data2 = ' '.join(data_lt[1020:1100])\n",
        "print(data2[:201])"
      ]
    },
    {
      "cell_type": "markdown",
      "source": [
        "Ldet's try something quite different.  We will\n",
        "just plot word frequencies directly, placing the  wordswith the highest frequencies on the left.  The y-axis will be the word frequencies.  The x-axis will just\n",
        "be the integers, so we can think of the x-axis as the word **rank**.  The number one rank word (the most frequent) has frequency 12,164.  The lowest rank word in our set\n",
        "of 5_000 has frequency 1."
      ],
      "metadata": {
        "id": "lwMVjRlaD0L-"
      }
    },
    {
      "cell_type": "code",
      "source": [
        "from matplotlib import pyplot as plt\n",
        "import numpy as np\n",
        "\n",
        "N = 5_000\n",
        "y = sorted(list(dict(word_cts.most_common(N)).values()),reverse=True)\n",
        "x = np.array(range(N))\n",
        "plt.plot(x,y)\n"
      ],
      "metadata": {
        "id": "Vfm7XxXrCd2r",
        "outputId": "6b82f2f5-3e15-4142-c5ff-0c51ee0cd4e6",
        "colab": {
          "base_uri": "https://localhost:8080/",
          "height": 282
        }
      },
      "execution_count": null,
      "outputs": [
        {
          "output_type": "execute_result",
          "data": {
            "text/plain": [
              "[<matplotlib.lines.Line2D at 0x7f9570c9cc10>]"
            ]
          },
          "metadata": {},
          "execution_count": 18
        },
        {
          "output_type": "display_data",
          "data": {
            "text/plain": [
              "<Figure size 432x288 with 1 Axes>"
            ],
            "image/png": "[encoded data removed]"
          },
          "metadata": {
            "needs_background": "light"
          }
        }
      ]
    },
    {
      "cell_type": "markdown",
      "source": [
        "Hmm, nice, but not very informative.  The values\n",
        "drop so quickly.  Let's put the y-axis on a **log scale**.\n",
        "That means we place frequencies $10^1$, $10^2$, $10^3$,\n",
        "and $10^4$ equal distances apart on the y axis.  The plot\n",
        "now looks like this.\n"
      ],
      "metadata": {
        "id": "jutezQpEE6xK"
      }
    },
    {
      "cell_type": "markdown",
      "source": [
        "Zipf's Law"
      ],
      "metadata": {
        "id": "082Eibq5DxIh"
      }
    },
    {
      "cell_type": "code",
      "source": [
        "plt.yscale('log')\n",
        "plt.plot(x,y)"
      ],
      "metadata": {
        "id": "1OAeX0FaFh2H",
        "outputId": "ac64ef76-073f-426c-f4b4-0c9034cde0a9",
        "colab": {
          "base_uri": "https://localhost:8080/",
          "height": 282
        }
      },
      "execution_count": null,
      "outputs": [
        {
          "output_type": "execute_result",
          "data": {
            "text/plain": [
              "[<matplotlib.lines.Line2D at 0x7f95679a9790>]"
            ]
          },
          "metadata": {},
          "execution_count": 22
        },
        {
          "output_type": "display_data",
          "data": {
            "text/plain": [
              "<Figure size 432x288 with 1 Axes>"
            ],
            "image/png": "[encoded data removed]"
          },
          "metadata": {
            "needs_background": "light"
          }
        }
      ]
    },
    {
      "cell_type": "code",
      "source": [
        "plt.yscale('log')\n",
        "plt.xscale('log')\n",
        "plt.plot(x,y)"
      ],
      "metadata": {
        "id": "UkGtSd9WDq_l",
        "outputId": "770f0269-e2a6-4cc3-e548-8336b1baec74",
        "colab": {
          "base_uri": "https://localhost:8080/",
          "height": 287
        }
      },
      "execution_count": null,
      "outputs": [
        {
          "output_type": "execute_result",
          "data": {
            "text/plain": [
              "[<matplotlib.lines.Line2D at 0x7f9573ded050>]"
            ]
          },
          "metadata": {},
          "execution_count": 20
        },
        {
          "output_type": "display_data",
          "data": {
            "text/plain": [
              "<Figure size 432x288 with 1 Axes>"
            ],
            "image/png": "[encoded data removed]"
          },
          "metadata": {
            "needs_background": "light"
          }
        }
      ]
    },
    {
      "cell_type": "markdown",
      "source": [
        "What we're seeing is called Zipf's Law:\n",
        "the frequency of any word is very roughly inversely proportional to its rank. The precise\n",
        "statement involves what is called a power law distribution which we won't go into here.  What we see in our data\n",
        "is a very rapid drop off in frequency.  The most common word\n",
        "is roughly twice as frequent as the 7th ranked word,\n",
        "which is about twicce as frequent as the 22nd ranked word,\n",
        "and so on.\n",
        "\n",
        "```\n",
        "1.  'the'  5373\n",
        "2.  'to'   5259\n",
        "3.  'and'  4943\n",
        "4.  'of'   4403\n",
        "5.  'a'    3181\n",
        "6.  'i'    3164\n",
        "7.  'it'   2515\n",
        "8.  'her'  2446\n",
        "9.  'was'  2397\n",
        "10. 'she'  2336\n",
        "11. 'not'  2304\n",
        "12. 'in'   2231\n",
        "13. 'you'  2032\n",
        "14. 'be'   1989\n",
        "15. 'that' 1819\n",
        "16. 'he'   1808\n",
        "17. 'had'  1623\n",
        "18. 'as'   1446\n",
        "19. 'but'  1444\n",
        "20. 'for', 1372\n",
        "21. 'have' 1324\n",
        "22. 'is'   1266\n",
        "``\n",
        "\n",
        "The law is named after the American linguist George Kingsley Zipf (1902–1950), who tried to explain it (Zipf 1935, 1949).\n"
      ],
      "metadata": {
        "id": "sOwCyeppF3Qx"
      }
    },
    {
      "cell_type": "markdown",
      "source": [
        "## Other matplotlib features"
      ],
      "metadata": {
        "id": "R7rNzyXLCaeC"
      }
    },
    {
      "cell_type": "code",
      "execution_count": null,
      "metadata": {
        "id": "QWVTMRL5BQg3",
        "outputId": "47639fff-5816-4bc9-ab67-2eab8c5276c1"
      },
      "outputs": [
        {
          "data": {
            "image/png": "[encoded data removed]",
            "text/plain": [
              "<Figure size 432x288 with 1 Axes>"
            ]
          },
          "metadata": {
            "needs_background": "light"
          },
          "output_type": "display_data"
        }
      ],
      "source": [
        "%matplotlib inline\n",
        "import numpy as np\n",
        "import matplotlib.pyplot as plt\n",
        "x = np.arange(0,16)\n",
        "# 'ro' Draw individual red points ('r') using circular markers 'o'\n",
        "#plt.plot(x, x**2, 'ro')\n",
        "#plt.plot(x, x**2, 'r-')\n",
        "#plt.plot(x, x**2)\n",
        "plt.plot(x, x**2, 'r^')\n",
        "plt.xticks([1,2,5,8,11,14],'tot tdlr child 8-yrs tween teen'.split())\n",
        "# Axis means the x, y axes together: One plotting box\n",
        "# xmin, xmax, ymin, ymax\n",
        "bds = [-1, 20, -10, 250]\n",
        "_ = plt.axis(bds)"
      ]
    },
    {
      "cell_type": "markdown",
      "metadata": {
        "id": "WIzY_e9HBQg3"
      },
      "source": [
        "#### randomly generated data"
      ]
    },
    {
      "cell_type": "code",
      "execution_count": null,
      "metadata": {
        "id": "LeS3WMrxBQg3",
        "outputId": "f6921e71-fc82-4598-db08-9efa6c72688b"
      },
      "outputs": [
        {
          "data": {
            "text/plain": [
              "[<matplotlib.lines.Line2D at 0x7fcf6ca1c828>]"
            ]
          },
          "execution_count": 180,
          "metadata": {},
          "output_type": "execute_result"
        },
        {
          "data": {
            "image/png": "[encoded data removed]",
            "text/plain": [
              "<Figure size 864x648 with 1 Axes>"
            ]
          },
          "metadata": {
            "needs_background": "light"
          },
          "output_type": "display_data"
        }
      ],
      "source": [
        "import random\n",
        "fig, ax = plt.subplots(1, 1,figsize=(12,9))\n",
        "b = 200\n",
        "x = np.arange(b)\n",
        "y = [random.randint(0,b) for i in range(b)]\n",
        "ax.plot(x, y)\n",
        "#ax.scatter(x, y)"
      ]
    },
    {
      "cell_type": "markdown",
      "metadata": {
        "id": "U78McUQfBQg4"
      },
      "source": [
        "Now we'll try a similar plot, but using a function to provide the\n",
        "y points."
      ]
    },
    {
      "cell_type": "code",
      "execution_count": null,
      "metadata": {
        "id": "LJCgLcHkBQg4",
        "outputId": "ae2571ea-fafd-47a1-fed1-c341c27fd306"
      },
      "outputs": [
        {
          "data": {
            "image/png": "[encoded data removed]",
            "text/plain": [
              "<Figure size 432x288 with 1 Axes>"
            ]
          },
          "metadata": {
            "needs_background": "light"
          },
          "output_type": "display_data"
        }
      ],
      "source": [
        "x = np.arange(0,16)\n",
        "f = lambda x: x**2 + 2*x + 5\n",
        "\n",
        "# 'ro' Draw individual red points ('r') using circular markers 'o'\n",
        "line, = plt.plot(x, f(x), 'ro')"
      ]
    },
    {
      "cell_type": "code",
      "execution_count": null,
      "metadata": {
        "id": "vADeR_G4BQg4",
        "outputId": "81980acd-08ce-4b3d-c33e-4e7251f5ae13"
      },
      "outputs": [
        {
          "data": {
            "image/png": "[encoded data removed]",
            "text/plain": [
              "<Figure size 864x648 with 1 Axes>"
            ]
          },
          "metadata": {
            "needs_background": "light"
          },
          "output_type": "display_data"
        }
      ],
      "source": [
        "import numpy as np\n",
        "fig, ax = plt.subplots(1, 1,figsize=(12,9))\n",
        "def func(x):\n",
        "    return (x-3)*(x-5)*(x-7)+85\n",
        "f = lambda x: .9* x**3 -5*x**2 + 2*x + 5\n",
        "\n",
        "# Compare x = np.linspace(0,10, 101)\n",
        "x = np.arange(0, 10, 0.01)\n",
        "# (x_min, x_max, y_min, y_max)\n",
        "plt.axis([0, 10, -20, 200])\n",
        "line, = ax.plot(x, f(x), linewidth=1,color='cyan')\n",
        "line2, = ax.plot(x, func(x), linewidth=1,color='red')\n"
      ]
    },
    {
      "cell_type": "markdown",
      "metadata": {
        "id": "J63eKWwiBQg4"
      },
      "source": [
        "#### creating xvals (arange vs. linspace)"
      ]
    },
    {
      "cell_type": "code",
      "execution_count": null,
      "metadata": {
        "id": "hWZdrffZBQg4",
        "outputId": "cf1fc3aa-8570-4ccc-ad66-dd83ecaea6d5"
      },
      "outputs": [
        {
          "name": "stdout",
          "output_type": "stream",
          "text": [
            "np.arange(0, 10, 0.01) 1000\n",
            "[0.   0.01 0.02 0.03 0.04 0.05 0.06 0.07 0.08 0.09 0.1  0.11 0.12 0.13\n",
            " 0.14 0.15 0.16 0.17 0.18 0.19 0.2  0.21 0.22 0.23 0.24 0.25 0.26 0.27\n",
            " 0.28 0.29 0.3  0.31 0.32 0.33 0.34 0.35 0.36 0.37 0.38 0.39 0.4  0.41\n",
            " 0.42 0.43 0.44 0.45 0.46 0.47 0.48 0.49] 9.99\n",
            "\n",
            "np.linspace(0, 10, 1000) 1000\n",
            "[0.         0.01001001 0.02002002 0.03003003 0.04004004 0.05005005\n",
            " 0.06006006 0.07007007 0.08008008 0.09009009 0.1001001  0.11011011\n",
            " 0.12012012 0.13013013 0.14014014 0.15015015 0.16016016 0.17017017\n",
            " 0.18018018 0.19019019 0.2002002  0.21021021 0.22022022 0.23023023\n",
            " 0.24024024 0.25025025 0.26026026 0.27027027 0.28028028 0.29029029\n",
            " 0.3003003  0.31031031 0.32032032 0.33033033 0.34034034 0.35035035\n",
            " 0.36036036 0.37037037 0.38038038 0.39039039 0.4004004  0.41041041\n",
            " 0.42042042 0.43043043 0.44044044 0.45045045 0.46046046 0.47047047\n",
            " 0.48048048 0.49049049] 10.0\n"
          ]
        }
      ],
      "source": [
        "print('np.arange(0, 10, 0.01)', len(x))\n",
        "print(x[:50], x[-1])\n",
        "print()\n",
        "x2 = np.linspace(0, 10, 1000)\n",
        "print( 'np.linspace(0, 10, 1000)',len(x2))\n",
        "print(x2[:50], x2[-1])"
      ]
    },
    {
      "cell_type": "markdown",
      "metadata": {
        "id": "wMezaKFSBQg5"
      },
      "source": [
        "## Subplots, Axis boundaries"
      ]
    },
    {
      "cell_type": "markdown",
      "metadata": {
        "id": "B7939NosBQg5"
      },
      "source": [
        "An older way of introducing subplots, which creates them one by one."
      ]
    },
    {
      "cell_type": "code",
      "execution_count": null,
      "metadata": {
        "scrolled": true,
        "id": "aJRRnMU-BQg5",
        "outputId": "d75c48a8-090f-4583-e5d4-e79af7dfee60"
      },
      "outputs": [
        {
          "data": {
            "text/plain": [
              "[<matplotlib.lines.Line2D at 0x7f98b159d5f8>]"
            ]
          },
          "execution_count": 15,
          "metadata": {},
          "output_type": "execute_result"
        },
        {
          "data": {
            "image/png": "[encoded data removed]",
            "text/plain": [
              "<Figure size 432x288 with 2 Axes>"
            ]
          },
          "metadata": {
            "needs_background": "light"
          },
          "output_type": "display_data"
        }
      ],
      "source": [
        "import matplotlib.pyplot as plt\n",
        "import numpy as np\n",
        "\n",
        "t = np.arange(0, 10, 0.01)\n",
        "ax1 = plt.subplot(211)\n",
        "ax1.plot(t, np.sin(2*np.pi*t))\n",
        "ax2 = plt.subplot(212, sharex=ax1)\n",
        "ax2.plot(t, np.sin(4*np.pi*t))\n"
      ]
    },
    {
      "cell_type": "markdown",
      "metadata": {
        "id": "wruBCva8BQg5"
      },
      "source": [
        "The plots are displayed with shared axes.  This means they share the same\n",
        "bounds and the same tick marks.  It also means that when you zoom in\n",
        "on one (using the \"zoom to rectangle\" button in the tool bar [magnifying glass icon]),\n",
        "the zoom will happen in both plots simultaneously."
      ]
    },
    {
      "cell_type": "code",
      "execution_count": null,
      "metadata": {
        "id": "IIdbo6xBBQg5",
        "outputId": "39c7d0fd-0190-48a9-86de-b60edbac3a22"
      },
      "outputs": [
        {
          "data": {
            "text/plain": [
              "[<matplotlib.lines.Line2D at 0x7fcf7346ca58>]"
            ]
          },
          "execution_count": 198,
          "metadata": {},
          "output_type": "execute_result"
        },
        {
          "data": {
            "image/png": "[encoded data removed]",
            "text/plain": [
              "<Figure size 864x576 with 4 Axes>"
            ]
          },
          "metadata": {
            "needs_background": "light"
          },
          "output_type": "display_data"
        }
      ],
      "source": [
        "# clear the state for context use below\n",
        "plt.close('all')\n",
        "# old style\n",
        "# Note figsize param\n",
        "fig = plt.figure(figsize=(12,8))\n",
        "ax1 = fig.add_subplot(221)\n",
        "ax2 = fig.add_subplot(222)\n",
        "ax3 = fig.add_subplot(223)\n",
        "ax3 = fig.add_subplot(224)\n",
        "t = np.arange(0, 10, 0.01)\n",
        "ax2.plot(t,np.sin(4*np.pi*t))"
      ]
    },
    {
      "cell_type": "markdown",
      "metadata": {
        "id": "QrQeOh_1BQg6"
      },
      "source": [
        "A newer way which introduces them all at once.  If you create them all at once and want to\n",
        "share axes.  It is a good idea (especially with shared axes) to provide axes limits that will suit all\n",
        "the data you wish to display."
      ]
    },
    {
      "cell_type": "code",
      "execution_count": null,
      "metadata": {
        "id": "QVvxAg_QBQg6",
        "outputId": "ca6b3072-2a5e-44c6-ead6-5ab2c8c8abfa"
      },
      "outputs": [
        {
          "name": "stderr",
          "output_type": "stream",
          "text": [
            "/Users/gawron/opt/anaconda3/lib/python3.7/site-packages/ipykernel_launcher.py:12: UserWarning: Matplotlib is currently using module://ipykernel.pylab.backend_inline, which is a non-GUI backend, so cannot show the figure.\n",
            "  if sys.path[0] == '':\n"
          ]
        },
        {
          "data": {
            "image/png": "[encoded data removed]",
            "text/plain": [
              "<Figure size 432x288 with 4 Axes>"
            ]
          },
          "metadata": {
            "needs_background": "light"
          },
          "output_type": "display_data"
        }
      ],
      "source": [
        "plt.close('all')\n",
        "fig, axes = plt.subplots(2, 2, sharex=True, sharey=True)\n",
        "((ax1, ax2), (ax3, ax4)) = axes\n",
        "t = np.arange(0, 10, 0.01)\n",
        "# Carefully chosen axis limits\n",
        "ax1.axis([0,10,-1,1.0])\n",
        "ax1.plot(t, np.sin(2*np.pi*t))\n",
        "ax2.plot(t,np.sin(4*np.pi*t))\n",
        "ax3.plot(t,np.sin(np.pi*t))\n",
        "ax3.plot(t,.5 * np.sin(np.pi*t))\n",
        "ax4.plot(t,.5 * np.sin(np.pi*t))\n",
        "fig.show()"
      ]
    },
    {
      "cell_type": "markdown",
      "metadata": {
        "id": "R3wVk-ESBQg6"
      },
      "source": [
        "The nice thing about this style of plotting is that the axes and figure are explicit objects, each with its\n",
        "own explicit variable name.  You can set various\n",
        "features for all the axes and the figure by using those variables (*fig*, *ax1*, etcetera).  For many programmers, this\n",
        "is a more intuitive way to program. Since there can be multiple figures, as well as multiple objects,  keeping things\n",
        "straight without explicit variable names can be difficult.  "
      ]
    },
    {
      "cell_type": "markdown",
      "metadata": {
        "id": "yvaK_TFZBQg6"
      },
      "source": [
        "## A simpler histogram"
      ]
    },
    {
      "cell_type": "code",
      "execution_count": null,
      "metadata": {
        "id": "BCzeE6Q8BQg6",
        "outputId": "3f443871-d3a1-461b-98bf-884505540784"
      },
      "outputs": [
        {
          "data": {
            "text/plain": [
              "array([0.  , 0.01, 0.02, 0.03, 0.04, 0.05, 0.06, 0.07, 0.08, 0.09, 0.1 ,\n",
              "       0.11, 0.12, 0.13, 0.14, 0.15, 0.16, 0.17, 0.18, 0.19, 0.2 , 0.21,\n",
              "       0.22, 0.23, 0.24, 0.25, 0.26, 0.27, 0.28, 0.29, 0.3 , 0.31, 0.32,\n",
              "       0.33, 0.34, 0.35, 0.36, 0.37, 0.38, 0.39, 0.4 , 0.41, 0.42, 0.43,\n",
              "       0.44, 0.45, 0.46, 0.47, 0.48, 0.49])"
            ]
          },
          "execution_count": 18,
          "metadata": {},
          "output_type": "execute_result"
        }
      ],
      "source": [
        "x[:50]"
      ]
    },
    {
      "cell_type": "markdown",
      "metadata": {
        "id": "lRzjS8P2BQg6"
      },
      "source": [
        "Choose N points from a normal dist with std 1.0 centered on 0."
      ]
    },
    {
      "cell_type": "code",
      "execution_count": null,
      "metadata": {
        "id": "L2gQO7b0BQg7",
        "outputId": "c1ef1dc2-e197-47f8-e8dc-70b3b4222e1a"
      },
      "outputs": [
        {
          "data": {
            "text/plain": [
              "(0.025949099678216125, 1047.0139521985393, 1.022907911996202)"
            ]
          },
          "execution_count": 211,
          "metadata": {},
          "output_type": "execute_result"
        }
      ],
      "source": [
        "N = 1_000\n",
        "pts = np.random.randn(N)\n",
        "std_dev = np.std(pts)\n",
        "\n",
        "pts.mean(),(pts**2).sum(),std_dev"
      ]
    },
    {
      "cell_type": "code",
      "execution_count": null,
      "metadata": {
        "id": "MrwSjlDjBQg7",
        "outputId": "901e7a39-729d-4528-eb04-d9afa2993d53"
      },
      "outputs": [
        {
          "data": {
            "text/plain": [
              "14.959135928740334"
            ]
          },
          "execution_count": 215,
          "metadata": {},
          "output_type": "execute_result"
        }
      ],
      "source": [
        "x.std()"
      ]
    },
    {
      "cell_type": "code",
      "execution_count": null,
      "metadata": {
        "id": "TxmWZ8v2BQg7",
        "outputId": "ac018580-d3aa-4555-d2dc-77033edb8db8"
      },
      "outputs": [
        {
          "data": {
            "image/png": "[encoded data removed]",
            "text/plain": [
              "<Figure size 432x288 with 1 Axes>"
            ]
          },
          "metadata": {
            "needs_background": "light"
          },
          "output_type": "display_data"
        }
      ],
      "source": [
        "import numpy as np\n",
        "import matplotlib.pyplot as plt\n",
        "\n",
        "plt.close('all')\n",
        "# Select mean and std\n",
        "mu, sigma = 100, 15\n",
        "x = mu + sigma * np.random.randn(10000)\n",
        "\n",
        "# the histogram of the data\n",
        "n, bins, patches = plt.hist(x, 50, facecolor='m', \n",
        "                            density=True,alpha=0.3)\n",
        "\n",
        "\n",
        "plt.xlabel('Smarts')\n",
        "plt.ylabel('Probability')\n",
        "plt.title('Histogram of IQ')\n",
        "# Place a text annotation at a desired location\n",
        "# Note use of Latex style Greek letters\n",
        "plt.text(60, .025, f'$\\mu={mu},\\ \\sigma={sigma}$')\n",
        "plt.axis([40, 160, 0, 0.03])\n",
        "plt.grid(True)\n",
        "#plt.show()"
      ]
    },
    {
      "cell_type": "markdown",
      "metadata": {
        "id": "IJj87nI0BQg7"
      },
      "source": [
        "## Setting line attributes"
      ]
    },
    {
      "cell_type": "code",
      "execution_count": null,
      "metadata": {
        "id": "zRayIqNFBQg7",
        "outputId": "3dc14c34-8c35-4f7b-c3d0-ad16307e15b5"
      },
      "outputs": [
        {
          "data": {
            "text/plain": [
              "[<matplotlib.lines.Line2D at 0x7f98b21ca438>]"
            ]
          },
          "execution_count": 24,
          "metadata": {},
          "output_type": "execute_result"
        },
        {
          "data": {
            "image/png": "[encoded data removed]",
            "text/plain": [
              "<Figure size 432x288 with 2 Axes>"
            ]
          },
          "metadata": {
            "needs_background": "light"
          },
          "output_type": "display_data"
        }
      ],
      "source": [
        "t = np.arange(0, 10, 0.01)\n",
        "ax1 = plt.subplot(211)\n",
        "ax1.plot(t, np.sin(2*np.pi*t))\n",
        "ax2 = plt.subplot(212, sharex=ax1)\n",
        "ax2.plot(t, np.sin(4*np.pi*t))\n"
      ]
    },
    {
      "cell_type": "code",
      "execution_count": null,
      "metadata": {
        "id": "P1DSKmnTBQg7",
        "outputId": "10aa9691-66ba-4e62-92ad-1f897732b441"
      },
      "outputs": [
        {
          "data": {
            "image/png": "[encoded data removed]",
            "text/plain": [
              "<Figure size 432x288 with 1 Axes>"
            ]
          },
          "metadata": {
            "needs_background": "light"
          },
          "output_type": "display_data"
        }
      ],
      "source": [
        "x = [1,2,3,4]\n",
        "y = [1,4,9,16]\n",
        "line, = plt.plot(x, y, linewidth=3.0)"
      ]
    },
    {
      "cell_type": "markdown",
      "metadata": {
        "id": "wB8tbZQGBQg7"
      },
      "source": [
        "The comma here after *line* is due to the fact that *plot* returns a tuple;\n",
        "in this case it is a 1-tuple, so we just set line to the first member.  "
      ]
    },
    {
      "cell_type": "code",
      "execution_count": null,
      "metadata": {
        "id": "6j_jCQ-hBQg8",
        "outputId": "2774c4d3-83c4-49f5-be27-8ff5259ea954"
      },
      "outputs": [
        {
          "data": {
            "image/png": "[encoded data removed]",
            "text/plain": [
              "<Figure size 432x288 with 1 Axes>"
            ]
          },
          "metadata": {
            "needs_background": "light"
          },
          "output_type": "display_data"
        }
      ],
      "source": [
        "plt.close('all')\n",
        "line, = plt.plot(x, y, linewidth=3.0,linestyle='-.',color='cyan')"
      ]
    },
    {
      "cell_type": "markdown",
      "metadata": {
        "id": "zrxM4Wy_BQg8"
      },
      "source": [
        "Now we can set line attributes."
      ]
    },
    {
      "cell_type": "code",
      "execution_count": null,
      "metadata": {
        "id": "kwBnaYx2BQg8",
        "outputId": "639ef5b7-d912-4e3d-b2c0-f7a84a41513a"
      },
      "outputs": [
        {
          "name": "stdout",
          "output_type": "stream",
          "text": [
            "  agg_filter: a filter function, which takes a (m, n, 3) float array and a dpi value, and returns a (m, n, 3) array\n",
            "  alpha: float or None\n",
            "  animated: bool\n",
            "  antialiased or aa: bool\n",
            "  clip_box: `.Bbox`\n",
            "  clip_on: bool\n",
            "  clip_path: Patch or (Path, Transform) or None\n",
            "  color or c: color\n",
            "  contains: unknown\n",
            "  dash_capstyle: {'butt', 'round', 'projecting'}\n",
            "  dash_joinstyle: {'miter', 'round', 'bevel'}\n",
            "  dashes: sequence of floats (on/off ink in points) or (None, None)\n",
            "  data: (2, N) array or two 1D arrays\n",
            "  drawstyle or ds: {'default', 'steps', 'steps-pre', 'steps-mid', 'steps-post'}, default: 'default'\n",
            "  figure: `.Figure`\n",
            "  fillstyle: {'full', 'left', 'right', 'bottom', 'top', 'none'}\n",
            "  gid: str\n",
            "  in_layout: bool\n",
            "  label: object\n",
            "  linestyle or ls: {'-', '--', '-.', ':', '', (offset, on-off-seq), ...}\n",
            "  linewidth or lw: float\n",
            "  marker: marker style string, `~.path.Path` or `~.markers.MarkerStyle`\n",
            "  markeredgecolor or mec: color\n",
            "  markeredgewidth or mew: float\n",
            "  markerfacecolor or mfc: color\n",
            "  markerfacecoloralt or mfcalt: color\n",
            "  markersize or ms: float\n",
            "  markevery: None or int or (int, int) or slice or List[int] or float or (float, float) or List[bool]\n",
            "  path_effects: `.AbstractPathEffect`\n",
            "  picker: unknown\n",
            "  pickradius: float\n",
            "  rasterized: bool or None\n",
            "  sketch_params: (scale: float, length: float, randomness: float)\n",
            "  snap: bool or None\n",
            "  solid_capstyle: {'butt', 'round', 'projecting'}\n",
            "  solid_joinstyle: {'miter', 'round', 'bevel'}\n",
            "  transform: `matplotlib.transforms.Transform`\n",
            "  url: str\n",
            "  visible: bool\n",
            "  xdata: 1D array\n",
            "  ydata: 1D array\n",
            "  zorder: float\n"
          ]
        }
      ],
      "source": [
        "\n",
        "plt.setp(line)"
      ]
    },
    {
      "cell_type": "markdown",
      "metadata": {
        "id": "fNrZuDu_BQg8"
      },
      "source": [
        "The next example shows alternative ways to set line styles.  The plot command on line 12 sets up\n",
        "two plots simultaneously on the same axis.  The first is a plot of the function *f* defined\n",
        "in lines 4 and 5, over the x range [0,5] because of how *t1* is defined on line 7.  The 'bo'\n",
        "specification sets the line style of that plot.  The line will be a curve traced by small blue circles\n",
        "('b' = 'blue' and 'o' = the circle marker style).  That plot is rather coarse because *t1* is defined \n",
        "to have points only at intervals of *t1*.  The plot defined using *t2* is over the same\n",
        "interval, but it will be much finer-grained because points are placed at intervals of\n",
        "'.02'.  The line style 'k' is just a black solid line.  In the second axis, the line\n",
        "style 'r--' gives a red dashed line.\n"
      ]
    },
    {
      "cell_type": "code",
      "execution_count": null,
      "metadata": {
        "id": "TsooH5V4BQg8",
        "outputId": "f232f24f-257b-483d-c9c1-cc043bfe76a5"
      },
      "outputs": [
        {
          "data": {
            "image/png": "[encoded data removed]",
            "text/plain": [
              "<Figure size 432x288 with 2 Axes>"
            ]
          },
          "metadata": {
            "needs_background": "light"
          },
          "output_type": "display_data"
        }
      ],
      "source": [
        "import numpy as np\n",
        "import matplotlib.pyplot as plt\n",
        "\n",
        "def f(t):\n",
        "    return np.exp(-t) * np.cos(2*np.pi*t)\n",
        "\n",
        "t1 = np.arange(0.0, 5.0, 0.1)\n",
        "t2 = np.arange(0.0, 5.0, 0.02)\n",
        "\n",
        "plt.figure(1)\n",
        "plt.subplot(211)\n",
        "plt.plot(t1, f(t1), 'bo', t2, f(t2), 'k')\n",
        "\n",
        "plt.subplot(212)\n",
        "plt.plot(t2, np.cos(2*np.pi*t2), 'r--')\n",
        "plt.show()"
      ]
    },
    {
      "cell_type": "markdown",
      "metadata": {
        "id": "CjUh9lXCBQg8"
      },
      "source": [
        "## Multiple figures simultaneously"
      ]
    },
    {
      "cell_type": "markdown",
      "metadata": {
        "id": "7elXJrOnBQg8"
      },
      "source": [
        "`matplotlib` has a notion of the current context.\n",
        "\n",
        "The comtext-based style of coding\n",
        "can be quite hard to read if you're not use to it."
      ]
    },
    {
      "cell_type": "markdown",
      "metadata": {
        "id": "l7f_Gd86BQg9"
      },
      "source": [
        "The next cell contains commands for creating two figure windows, each\n",
        "containing distinct subplots.  Two windows pop up.  Each can be killed\n",
        "separately."
      ]
    },
    {
      "cell_type": "code",
      "execution_count": null,
      "metadata": {
        "id": "ZmK1nhTMBQg9",
        "outputId": "c4419cd2-6f59-4195-9aa2-54d179adb2f8"
      },
      "outputs": [
        {
          "data": {
            "text/plain": [
              "<matplotlib.legend.Legend at 0x7fcf7568d908>"
            ]
          },
          "execution_count": 227,
          "metadata": {},
          "output_type": "execute_result"
        },
        {
          "data": {
            "image/png": "[encoded data removed]",
            "text/plain": [
              "<Figure size 432x288 with 1 Axes>"
            ]
          },
          "metadata": {
            "needs_background": "light"
          },
          "output_type": "display_data"
        },
        {
          "data": {
            "image/png": "[encoded data removed]",
            "text/plain": [
              "<Figure size 432x288 with 2 Axes>"
            ]
          },
          "metadata": {
            "needs_background": "light"
          },
          "output_type": "display_data"
        }
      ],
      "source": [
        "import matplotlib.pyplot as plt\n",
        "fig1 = plt.figure(1)                # the first figure\n",
        "plt.subplot(211)             # the first subplot in the first figure\n",
        "plt.plot([1,2,3],label='z')\n",
        "plt.subplot(212)             # the second subplot in the first figure\n",
        "plt.plot([4,5,6],label='y')\n",
        "\n",
        "fig2 = plt.figure(2)                # a second figure\n",
        "plt.plot([4,5,6],label='y')            # creates a subplot(111) by default\n",
        "\n",
        "plt.figure(1)                # Go back figure 1; subplot(212) still current\n",
        "plt.subplot(211,label='x')             # make ax subplot(211) in fig 1 current\n",
        "plt.plot([10,9,8],label='f2')                     # overwrite previous plot\n",
        "plt.legend()"
      ]
    },
    {
      "cell_type": "markdown",
      "metadata": {
        "id": "1fictbDYBQg9"
      },
      "source": [
        "## Using text"
      ]
    },
    {
      "cell_type": "markdown",
      "metadata": {
        "id": "w9NbmNBKBQg9"
      },
      "source": [
        "Matplotlib offers extensive label customization facilities, as in the following\n",
        "elaborate example taken from a StackOverflow post by unubtu."
      ]
    },
    {
      "cell_type": "code",
      "execution_count": null,
      "metadata": {
        "id": "VJM9Ib4XBQg9",
        "outputId": "27bd760c-8ec2-4ba1-ab8a-5ff411aa4fb6"
      },
      "outputs": [
        {
          "data": {
            "image/png": "[encoded data removed]",
            "text/plain": [
              "<Figure size 432x288 with 1 Axes>"
            ]
          },
          "metadata": {
            "needs_background": "light"
          },
          "output_type": "display_data"
        }
      ],
      "source": [
        "import numpy as np\n",
        "import matplotlib.pyplot as plt\n",
        "\n",
        "N = 10\n",
        "data = np.random.random((N, 4))\n",
        "labels = ['point{0}'.format(i) for i in range(N)]\n",
        "plt.subplots_adjust(bottom = 0.1)\n",
        "plt.scatter(\n",
        "    data[:, 0], data[:, 1], marker = 'o', c = data[:, 2], s = data[:, 3]*1500,\n",
        "    cmap = plt.get_cmap('Spectral'))\n",
        "for label, x, y in zip(labels, data[:, 0], data[:, 1]):\n",
        "    plt.annotate(\n",
        "        label, \n",
        "        xy = (x, y), xytext = (-20, 20),\n",
        "        textcoords = 'offset points', ha = 'right', va = 'bottom',\n",
        "        bbox = dict(boxstyle = 'round,pad=0.5', fc = 'yellow', alpha = 0.5),\n",
        "        arrowprops = dict(arrowstyle = '->', connectionstyle = 'arc3,rad=0'))\n"
      ]
    },
    {
      "cell_type": "code",
      "execution_count": null,
      "metadata": {
        "id": "8aKQOgRIBQg9"
      },
      "outputs": [],
      "source": [
        ""
      ]
    },
    {
      "cell_type": "markdown",
      "metadata": {
        "id": "QXGQee-0BQg9"
      },
      "source": [
        "## Reading in some data"
      ]
    },
    {
      "cell_type": "code",
      "execution_count": null,
      "metadata": {
        "id": "ynjr4du4BQg9"
      },
      "outputs": [],
      "source": [
        ""
      ]
    },
    {
      "cell_type": "markdown",
      "metadata": {
        "id": "1cysBQuRBQg-"
      },
      "source": [
        "Get the counts of the words in S.  Lower case the input words."
      ]
    },
    {
      "cell_type": "code",
      "execution_count": null,
      "metadata": {
        "id": "eR5moq2IBQg-"
      },
      "outputs": [],
      "source": [
        "from collections import Counter\n",
        "S = \"\"\"The good boys do fine always \n",
        "       when the good is easy and the bad \n",
        "       is hard and the boys are the girls.\"\"\"\n",
        "Sl = S.lower().split()\n",
        "word_cts = Counter(Sl)"
      ]
    },
    {
      "cell_type": "code",
      "execution_count": null,
      "metadata": {
        "id": "iRICj4gfBQg-",
        "outputId": "88dfe408-d0e6-40cb-a9a2-8358bb15e1ff"
      },
      "outputs": [
        {
          "data": {
            "text/plain": [
              "{1, 2, 5}"
            ]
          },
          "execution_count": 33,
          "metadata": {},
          "output_type": "execute_result"
        }
      ],
      "source": [
        "set(word_cts.values())"
      ]
    },
    {
      "cell_type": "markdown",
      "metadata": {
        "id": "MeV6E21pBQg-"
      },
      "source": [
        "Do a histogram of the word counts."
      ]
    },
    {
      "cell_type": "code",
      "execution_count": null,
      "metadata": {
        "id": "eG8BH_wkBQg-",
        "outputId": "e08e3ffc-173b-42df-edbb-1204fd14a141"
      },
      "outputs": [
        {
          "data": {
            "image/png": "[encoded data removed]",
            "text/plain": [
              "<Figure size 432x288 with 2 Axes>"
            ]
          },
          "metadata": {
            "needs_background": "light"
          },
          "output_type": "display_data"
        }
      ],
      "source": [
        "#word_cts.most_common(5)\n",
        "x = list(word_cts.values())\n",
        "fig, axes = plt.subplots(2, 1, sharex=True, sharey=True)\n",
        "n, bins, patches = axes[0].hist(x, 16, facecolor='g', \n",
        "                              alpha=0.5)\n",
        "n, bins, patches = axes[1].hist(x, 10, facecolor='g', \n",
        "                              alpha=0.5)"
      ]
    },
    {
      "cell_type": "markdown",
      "metadata": {
        "id": "2wuNqsfyBQg-"
      },
      "source": [
        "We can improve all our NLP work by using a tokenizer."
      ]
    },
    {
      "cell_type": "code",
      "execution_count": null,
      "metadata": {
        "id": "ksv56mV8BQg-"
      },
      "outputs": [],
      "source": [
        "from nltk.tokenize import word_tokenize\n",
        "from collections import Counter\n",
        "Sl = S.lower()  # \n",
        "# The next line needs to change.  We're not using split anymore \n",
        "# to tokenize\n",
        "S_lt = word_tokenize(Sl)\n",
        "## The next line needs to change We're not doing word counts for Sl anymore\n",
        "word_cts = Counter(S_lt)"
      ]
    },
    {
      "cell_type": "code",
      "execution_count": null,
      "metadata": {
        "id": "NKuJGr-bBQg_",
        "outputId": "c1e481ae-b554-402b-88be-bdc280cdd93f"
      },
      "outputs": [
        {
          "data": {
            "text/plain": [
              "['the',\n",
              " 'good',\n",
              " 'boys',\n",
              " 'do',\n",
              " 'fine',\n",
              " 'always',\n",
              " 'when',\n",
              " 'the',\n",
              " 'good',\n",
              " 'is',\n",
              " 'easy',\n",
              " 'and',\n",
              " 'the',\n",
              " 'bad',\n",
              " 'is',\n",
              " 'hard',\n",
              " 'and',\n",
              " 'the',\n",
              " 'boys',\n",
              " 'are',\n",
              " 'the',\n",
              " 'girls',\n",
              " '.']"
            ]
          },
          "execution_count": 36,
          "metadata": {},
          "output_type": "execute_result"
        }
      ],
      "source": [
        "S_lt"
      ]
    },
    {
      "cell_type": "markdown",
      "metadata": {
        "id": "tryAY0xfBQg_"
      },
      "source": [
        "Get the counts of the words in *Emma* by Jane Austen.  Lower case the input words.  Do a histogram of the word counts for the 100 most frequent words.   You'll nneed to use the `most_common` method on a Counter, which, if given the argument 100, returns a list of the word count pairs for the 100 most common words.  You should try 20 bins.\n",
        "You can also experiment wth doing all the words."
      ]
    },
    {
      "cell_type": "code",
      "execution_count": null,
      "metadata": {
        "id": "XeASD0WPBQg_"
      },
      "outputs": [],
      "source": [
        "import urllib.request\n",
        "with urllib.request.urlopen(\\\n",
        "  'http://gawron.sdsu.edu/python_for_ss/emma.txt') \\\n",
        "   as response:\n",
        "   data = str(response.read())"
      ]
    },
    {
      "cell_type": "markdown",
      "metadata": {
        "id": "fPMVsbYgBQg_"
      },
      "source": [
        "Here is the code we used above, which needs to be modified."
      ]
    },
    {
      "cell_type": "code",
      "execution_count": null,
      "metadata": {
        "id": "ZrEubXLfBQg_"
      },
      "outputs": [],
      "source": [
        "from nltk.tokenize import word_tokenize\n",
        "from collections import Counter\n",
        "datal = data.lower()  # \n",
        "# The next line needs to change.  We're not using split anymore \n",
        "# to tokenize\n",
        "data_lt = word_tokenize(datal)\n",
        "## The next line needs to change We're not doing word counts for Sl anymore\n",
        "word_cts = Counter(data_lt)"
      ]
    },
    {
      "cell_type": "code",
      "execution_count": null,
      "metadata": {
        "id": "85TC_qA6BQg_",
        "outputId": "63d6732e-e9bb-4323-9f7c-53efac2be06f"
      },
      "outputs": [
        {
          "data": {
            "text/plain": [
              "Counter({\"b'\\\\xef\\\\xbb\\\\xbfthe\": 1,\n",
              "         'project': 68,\n",
              "         'gutenberg': 22,\n",
              "         'ebook': 10,\n",
              "         'of': 3841,\n",
              "         'emma': 591,\n",
              "         ',': 12164,\n",
              "         'by': 520,\n",
              "         'jane': 237,\n",
              "         'austen\\\\r\\\\n\\\\r\\\\nthis': 1,\n",
              "         'is': 1138,\n",
              "         'for': 1198,\n",
              "         'the': 4479,\n",
              "         'use': 43,\n",
              "         'anyone': 4,\n",
              "         'anywhere': 15,\n",
              "         'at': 899,\n",
              "         'no': 656,\n",
              "         'cost': 5,\n",
              "         'and': 4256,\n",
              "         'with\\\\r\\\\nalmost': 2,\n",
              "         'restrictions': 2,\n",
              "         'whatsoever': 2,\n",
              "         '.': 5380,\n",
              "         'you': 1802,\n",
              "         'may': 207,\n",
              "         'copy': 11,\n",
              "         'it': 2200,\n",
              "         'give': 139,\n",
              "         'away': 117,\n",
              "         'or\\\\r\\\\nre-use': 2,\n",
              "         'under': 60,\n",
              "         'terms': 27,\n",
              "         'license': 11,\n",
              "         'included\\\\r\\\\nwith': 2,\n",
              "         'this': 476,\n",
              "         'or': 498,\n",
              "         'online': 4,\n",
              "         'www.gutenberg.org\\\\r\\\\n\\\\r\\\\n\\\\r\\\\ntitle': 1,\n",
              "         ':': 195,\n",
              "         'emma\\\\r\\\\n\\\\r\\\\nauthor': 1,\n",
              "         'austen\\\\r\\\\n\\\\r\\\\nrelease': 1,\n",
              "         'date': 6,\n",
              "         'august': 4,\n",
              "         '1994': 1,\n",
              "         '[': 2,\n",
              "         'etext': 1,\n",
              "         '#': 1,\n",
              "         '158': 1,\n",
              "         ']': 2,\n",
              "         '\\\\r\\\\nposting': 1,\n",
              "         'january': 5,\n",
              "         '21': 1,\n",
              "         '2010\\\\r\\\\n\\\\r\\\\nlanguage': 1,\n",
              "         'english\\\\r\\\\n\\\\r\\\\n\\\\r\\\\n***': 1,\n",
              "         'start': 8,\n",
              "         '***\\\\r\\\\n\\\\r\\\\n\\\\r\\\\n\\\\r\\\\n\\\\r\\\\nproduced': 1,\n",
              "         'an': 400,\n",
              "         'anonymous': 2,\n",
              "         'volunteer\\\\r\\\\n\\\\r\\\\n\\\\r\\\\n\\\\r\\\\n\\\\r\\\\n\\\\r\\\\nemma\\\\r\\\\n\\\\r\\\\nby': 1,\n",
              "         'austen\\\\r\\\\n\\\\r\\\\n\\\\r\\\\n\\\\r\\\\n\\\\r\\\\nvolume': 1,\n",
              "         'i\\\\r\\\\n\\\\r\\\\n\\\\r\\\\n\\\\r\\\\nchapter': 1,\n",
              "         'i\\\\r\\\\n\\\\r\\\\n\\\\r\\\\nemma': 2,\n",
              "         'woodhouse': 230,\n",
              "         'handsome': 30,\n",
              "         'clever': 24,\n",
              "         'rich': 12,\n",
              "         'with': 1078,\n",
              "         'a': 2795,\n",
              "         'comfortable': 27,\n",
              "         'home\\\\r\\\\nand': 1,\n",
              "         'happy': 107,\n",
              "         'disposition': 20,\n",
              "         'seemed': 120,\n",
              "         'to': 4667,\n",
              "         'unite': 3,\n",
              "         'some': 222,\n",
              "         'best': 73,\n",
              "         'blessings': 3,\n",
              "         'of\\\\r\\\\nexistence': 1,\n",
              "         ';': 2353,\n",
              "         'had': 1383,\n",
              "         'lived': 20,\n",
              "         'nearly': 15,\n",
              "         'twenty-one': 1,\n",
              "         'years': 47,\n",
              "         'in': 1939,\n",
              "         'world': 66,\n",
              "         'very\\\\r\\\\nlittle': 3,\n",
              "         'distress': 18,\n",
              "         'vex': 1,\n",
              "         'her.\\\\r\\\\n\\\\r\\\\nshe': 3,\n",
              "         'was': 2089,\n",
              "         'youngest': 3,\n",
              "         'two': 157,\n",
              "         'daughters': 6,\n",
              "         'most': 201,\n",
              "         'affectionate': 6,\n",
              "         '\\\\r\\\\nindulgent': 1,\n",
              "         'father': 141,\n",
              "         'consequence': 18,\n",
              "         'her': 2068,\n",
              "         'sister\\\\': 5,\n",
              "         \"'s\": 831,\n",
              "         'marriage': 31,\n",
              "         'been\\\\r\\\\nmistress': 1,\n",
              "         'his': 960,\n",
              "         'house': 82,\n",
              "         'from': 478,\n",
              "         'very': 1021,\n",
              "         'early': 36,\n",
              "         'period': 13,\n",
              "         'mother': 46,\n",
              "         'died\\\\r\\\\ntoo': 1,\n",
              "         'long': 129,\n",
              "         'ago': 29,\n",
              "         'have': 1135,\n",
              "         'more': 387,\n",
              "         'than': 353,\n",
              "         'indistinct': 1,\n",
              "         'remembrance': 5,\n",
              "         'of\\\\r\\\\nher': 19,\n",
              "         'caresses': 1,\n",
              "         'place': 80,\n",
              "         'been': 635,\n",
              "         'supplied': 4,\n",
              "         'excellent': 24,\n",
              "         'woman': 104,\n",
              "         'as\\\\r\\\\ngoverness': 1,\n",
              "         'who': 247,\n",
              "         'fallen': 7,\n",
              "         'little': 289,\n",
              "         'short': 63,\n",
              "         'affection.\\\\r\\\\n\\\\r\\\\nsixteen': 1,\n",
              "         'miss': 495,\n",
              "         'taylor': 32,\n",
              "         'mr.': 848,\n",
              "         'woodhouse\\\\': 27,\n",
              "         'family': 61,\n",
              "         'less': 60,\n",
              "         'as': 1288,\n",
              "         'a\\\\r\\\\ngoverness': 1,\n",
              "         'friend': 132,\n",
              "         'fond': 33,\n",
              "         'both': 81,\n",
              "         'but': 1275,\n",
              "         'particularly\\\\r\\\\nof': 1,\n",
              "         'between': 58,\n",
              "         '_them_': 4,\n",
              "         'intimacy': 19,\n",
              "         'sisters': 9,\n",
              "         'even': 113,\n",
              "         'before\\\\r\\\\nmiss': 1,\n",
              "         'ceased': 6,\n",
              "         'hold': 14,\n",
              "         'nominal': 1,\n",
              "         'office': 7,\n",
              "         'governess': 6,\n",
              "         'the\\\\r\\\\nmildness': 1,\n",
              "         'temper': 28,\n",
              "         'hardly': 59,\n",
              "         'allowed': 37,\n",
              "         'impose': 1,\n",
              "         'any': 568,\n",
              "         'restraint': 2,\n",
              "         '\\\\r\\\\nand': 201,\n",
              "         'shadow': 2,\n",
              "         'authority': 5,\n",
              "         'being': 309,\n",
              "         'now': 261,\n",
              "         'passed': 44,\n",
              "         'they': 459,\n",
              "         'been\\\\r\\\\nliving': 1,\n",
              "         'together': 73,\n",
              "         'mutually': 2,\n",
              "         'attached': 21,\n",
              "         'emma\\\\r\\\\ndoing': 1,\n",
              "         'just': 143,\n",
              "         'what': 461,\n",
              "         'she': 2025,\n",
              "         'liked': 14,\n",
              "         'highly': 20,\n",
              "         'esteeming': 1,\n",
              "         'taylor\\\\': 5,\n",
              "         'judgment': 25,\n",
              "         'but\\\\r\\\\ndirected': 1,\n",
              "         'chiefly': 7,\n",
              "         'own.\\\\r\\\\n\\\\r\\\\nthe': 1,\n",
              "         'real': 35,\n",
              "         'evils': 9,\n",
              "         'indeed': 180,\n",
              "         'emma\\\\': 57,\n",
              "         'situation': 51,\n",
              "         'were': 520,\n",
              "         'power': 39,\n",
              "         'having\\\\r\\\\nrather': 1,\n",
              "         'too': 230,\n",
              "         'much': 417,\n",
              "         'own': 265,\n",
              "         'way': 136,\n",
              "         'think': 348,\n",
              "         'too\\\\r\\\\nwell': 1,\n",
              "         'herself': 224,\n",
              "         'these': 56,\n",
              "         'disadvantages': 1,\n",
              "         'which': 467,\n",
              "         'threatened': 4,\n",
              "         'alloy': 2,\n",
              "         'to\\\\r\\\\nher': 12,\n",
              "         'many': 117,\n",
              "         'enjoyments': 2,\n",
              "         'danger': 29,\n",
              "         'however': 121,\n",
              "         'present': 69,\n",
              "         'so': 845,\n",
              "         'unperceived': 2,\n",
              "         '\\\\r\\\\nthat': 27,\n",
              "         'did': 325,\n",
              "         'not': 2032,\n",
              "         'means': 47,\n",
              "         'rank': 9,\n",
              "         'misfortunes': 1,\n",
              "         'her.\\\\r\\\\n\\\\r\\\\nsorrow': 1,\n",
              "         'came': 109,\n",
              "         '--': 3102,\n",
              "         'gentle': 14,\n",
              "         'sorrow': 3,\n",
              "         'all': 763,\n",
              "         'shape': 5,\n",
              "         'any\\\\r\\\\ndisagreeable': 1,\n",
              "         'consciousness.': 1,\n",
              "         'married': 35,\n",
              "         \"taylor\\\\'s\\\\r\\\\nloss\": 1,\n",
              "         'first': 176,\n",
              "         'brought': 46,\n",
              "         'grief': 5,\n",
              "         'on': 609,\n",
              "         'wedding-day': 3,\n",
              "         'this\\\\r\\\\nbeloved': 1,\n",
              "         'that': 1580,\n",
              "         'sat': 35,\n",
              "         'mournful': 1,\n",
              "         'thought': 194,\n",
              "         'any\\\\r\\\\ncontinuance': 1,\n",
              "         'wedding': 7,\n",
              "         'over': 109,\n",
              "         'bride-people': 1,\n",
              "         'gone': 67,\n",
              "         'and\\\\r\\\\nherself': 1,\n",
              "         'left': 59,\n",
              "         'dine': 12,\n",
              "         'prospect': 11,\n",
              "         'third': 3,\n",
              "         'cheer\\\\r\\\\na': 1,\n",
              "         'evening': 77,\n",
              "         'composed': 5,\n",
              "         'himself': 121,\n",
              "         'sleep': 1,\n",
              "         'after': 133,\n",
              "         'dinner': 32,\n",
              "         'as\\\\r\\\\nusual': 1,\n",
              "         'then': 149,\n",
              "         'only': 291,\n",
              "         'sit': 36,\n",
              "         'lost.\\\\r\\\\n\\\\r\\\\nthe': 1,\n",
              "         'event': 19,\n",
              "         'every': 343,\n",
              "         'promise': 16,\n",
              "         'happiness': 60,\n",
              "         'weston\\\\r\\\\nwas': 2,\n",
              "         'man': 193,\n",
              "         'unexceptionable': 5,\n",
              "         'character': 34,\n",
              "         'easy': 26,\n",
              "         'fortune': 31,\n",
              "         'suitable': 4,\n",
              "         'age': 21,\n",
              "         'and\\\\r\\\\npleasant': 1,\n",
              "         'manners': 45,\n",
              "         'there': 471,\n",
              "         'satisfaction': 19,\n",
              "         'considering\\\\r\\\\nwith': 1,\n",
              "         'self-denying': 1,\n",
              "         'generous': 4,\n",
              "         'friendship': 19,\n",
              "         'always': 196,\n",
              "         'wished': 42,\n",
              "         'and\\\\r\\\\npromoted': 1,\n",
              "         'match': 23,\n",
              "         'black': 5,\n",
              "         'morning\\\\': 2,\n",
              "         'work': 53,\n",
              "         'want\\\\r\\\\nof': 3,\n",
              "         'would': 712,\n",
              "         'be': 1730,\n",
              "         'felt': 103,\n",
              "         'hour': 62,\n",
              "         'day': 141,\n",
              "         'recalled': 2,\n",
              "         'her\\\\r\\\\npast': 1,\n",
              "         'kindness': 32,\n",
              "         'affection': 39,\n",
              "         'sixteen': 7,\n",
              "         'how': 332,\n",
              "         'had\\\\r\\\\ntaught': 1,\n",
              "         'played': 6,\n",
              "         'five': 33,\n",
              "         'old': 67,\n",
              "         'had\\\\r\\\\ndevoted': 1,\n",
              "         'powers': 12,\n",
              "         'attach': 5,\n",
              "         'amuse': 7,\n",
              "         'health': 29,\n",
              "         'how\\\\r\\\\nnursed': 1,\n",
              "         'through': 46,\n",
              "         'various': 6,\n",
              "         'illnesses': 2,\n",
              "         'childhood': 2,\n",
              "         'large': 28,\n",
              "         'debt': 1,\n",
              "         'of\\\\r\\\\ngratitude': 1,\n",
              "         'owing': 3,\n",
              "         'here': 132,\n",
              "         'intercourse': 8,\n",
              "         'last': 98,\n",
              "         'seven\\\\r\\\\nyears': 1,\n",
              "         'equal': 49,\n",
              "         'footing': 3,\n",
              "         'perfect': 26,\n",
              "         'unreserve': 5,\n",
              "         'soon': 199,\n",
              "         'followed\\\\r\\\\nisabella\\\\': 1,\n",
              "         'their': 243,\n",
              "         'each': 40,\n",
              "         'other': 196,\n",
              "         'yet': 92,\n",
              "         'a\\\\r\\\\ndearer': 1,\n",
              "         'tenderer': 1,\n",
              "         'recollection': 5,\n",
              "         'companion': 24,\n",
              "         'such\\\\r\\\\nas': 1,\n",
              "         'few': 91,\n",
              "         'possessed': 2,\n",
              "         'intelligent': 4,\n",
              "         'well-informed': 3,\n",
              "         'useful': 17,\n",
              "         'knowing\\\\r\\\\nall': 1,\n",
              "         'ways': 16,\n",
              "         'interested': 11,\n",
              "         'its': 104,\n",
              "         'concerns': 9,\n",
              "         'and\\\\r\\\\npeculiarly': 1,\n",
              "         'pleasure': 99,\n",
              "         'scheme': 20,\n",
              "         'of\\\\r\\\\nhers': 1,\n",
              "         'one': 388,\n",
              "         'whom': 63,\n",
              "         'could': 722,\n",
              "         'speak': 87,\n",
              "         'arose': 2,\n",
              "         'had\\\\r\\\\nsuch': 1,\n",
              "         'never': 303,\n",
              "         'find': 70,\n",
              "         'fault.\\\\r\\\\n\\\\r\\\\nhow': 1,\n",
              "         'bear': 48,\n",
              "         'change': 55,\n",
              "         '?': 621,\n",
              "         'true': 58,\n",
              "         'going\\\\r\\\\nonly': 1,\n",
              "         'half': 84,\n",
              "         'mile': 10,\n",
              "         'them': 364,\n",
              "         'aware': 22,\n",
              "         'great': 222,\n",
              "         'must': 495,\n",
              "         'the\\\\r\\\\ndifference': 3,\n",
              "         'mrs.': 518,\n",
              "         'weston': 325,\n",
              "         'miss\\\\r\\\\ntaylor': 2,\n",
              "         'advantages': 8,\n",
              "         'natural': 39,\n",
              "         'domestic': 6,\n",
              "         '\\\\r\\\\nshe': 21,\n",
              "         'suffering': 14,\n",
              "         'intellectual': 4,\n",
              "         'solitude': 3,\n",
              "         'she\\\\r\\\\ndearly': 1,\n",
              "         'loved': 25,\n",
              "         'he': 1568,\n",
              "         'not\\\\r\\\\nmeet': 1,\n",
              "         'conversation': 34,\n",
              "         'rational': 15,\n",
              "         'playful.\\\\r\\\\n\\\\r\\\\nthe': 1,\n",
              "         'evil': 27,\n",
              "         'actual': 2,\n",
              "         'disparity': 6,\n",
              "         'ages': 2,\n",
              "         '(': 127,\n",
              "         'had\\\\r\\\\nnot': 5,\n",
              "         ')': 127,\n",
              "         'increased': 11,\n",
              "         'constitution': 6,\n",
              "         'habits': 11,\n",
              "         '\\\\r\\\\nfor': 12,\n",
              "         'having': 116,\n",
              "         'valetudinarian': 1,\n",
              "         'life': 61,\n",
              "         'without': 183,\n",
              "         'activity': 3,\n",
              "         'of\\\\r\\\\nmind': 3,\n",
              "         'body': 132,\n",
              "         'older': 6,\n",
              "         'though\\\\r\\\\neverywhere': 1,\n",
              "         'beloved': 5,\n",
              "         'friendliness': 2,\n",
              "         'heart': 60,\n",
              "         'amiable\\\\r\\\\ntemper': 1,\n",
              "         'talents': 8,\n",
              "         'recommended': 8,\n",
              "         'him': 654,\n",
              "         'time.\\\\r\\\\n\\\\r\\\\nher': 1,\n",
              "         'sister': 24,\n",
              "         'though': 149,\n",
              "         'comparatively': 1,\n",
              "         'removed': 11,\n",
              "         'matrimony': 7,\n",
              "         'being\\\\r\\\\nsettled': 1,\n",
              "         'london': 39,\n",
              "         'miles': 14,\n",
              "         'off': 90,\n",
              "         'beyond': 48,\n",
              "         'daily\\\\r\\\\nreach': 1,\n",
              "         'october': 4,\n",
              "         'november': 3,\n",
              "         'struggled\\\\r\\\\nthrough': 1,\n",
              "         'hartfield': 136,\n",
              "         'before': 202,\n",
              "         'christmas': 10,\n",
              "         'next': 57,\n",
              "         'visit': 72,\n",
              "         'from\\\\r\\\\nisabella': 1,\n",
              "         'husband': 26,\n",
              "         'children': 49,\n",
              "         'fill': 2,\n",
              "         'pleasant': 28,\n",
              "         'society': 39,\n",
              "         'again.\\\\r\\\\n\\\\r\\\\nhighbury': 1,\n",
              "         'populous': 1,\n",
              "         'village': 1,\n",
              "         'almost': 73,\n",
              "         'amounting': 1,\n",
              "         'town': 21,\n",
              "         '\\\\r\\\\nto': 12,\n",
              "         'spite': 21,\n",
              "         'separate': 10,\n",
              "         'lawn': 4,\n",
              "         'shrubberies': 2,\n",
              "         'and\\\\r\\\\nname': 1,\n",
              "         'really': 123,\n",
              "         'belong': 15,\n",
              "         'afforded': 5,\n",
              "         'equals': 1,\n",
              "         'woodhouses\\\\r\\\\nwere': 1,\n",
              "         'looked': 84,\n",
              "         'up': 172,\n",
              "         'many\\\\r\\\\nacquaintance': 1,\n",
              "         'universally': 3,\n",
              "         'civil': 10,\n",
              "         'but\\\\r\\\\nnot': 1,\n",
              "         'among': 47,\n",
              "         'accepted': 11,\n",
              "         'lieu': 3,\n",
              "         'even\\\\r\\\\nhalf': 2,\n",
              "         'melancholy': 9,\n",
              "         'sigh': 15,\n",
              "         'over\\\\r\\\\nit': 1,\n",
              "         'wish': 119,\n",
              "         'impossible': 30,\n",
              "         'things': 53,\n",
              "         'till': 87,\n",
              "         'awoke': 1,\n",
              "         'made': 173,\n",
              "         'it\\\\r\\\\nnecessary': 1,\n",
              "         'cheerful': 23,\n",
              "         'spirits': 55,\n",
              "         'required': 12,\n",
              "         'support': 11,\n",
              "         'nervous\\\\r\\\\nman': 1,\n",
              "         'easily': 14,\n",
              "         'depressed': 6,\n",
              "         'used': 44,\n",
              "         'and\\\\r\\\\nhating': 1,\n",
              "         'part': 66,\n",
              "         'hating': 1,\n",
              "         'kind': 65,\n",
              "         'the\\\\r\\\\norigin': 1,\n",
              "         'disagreeable': 13,\n",
              "         'yet\\\\r\\\\nreconciled': 1,\n",
              "         'daughter\\\\': 12,\n",
              "         'marrying': 21,\n",
              "         'nor': 59,\n",
              "         'ever': 160,\n",
              "         'her\\\\r\\\\nbut': 1,\n",
              "         'compassion': 9,\n",
              "         'entirely': 28,\n",
              "         '\\\\r\\\\nwhen': 11,\n",
              "         'obliged': 67,\n",
              "         'his\\\\r\\\\nhabits': 1,\n",
              "         'selfishness': 4,\n",
              "         'able': 68,\n",
              "         'suppose': 71,\n",
              "         'that\\\\r\\\\nother': 1,\n",
              "         'people': 78,\n",
              "         'feel': 78,\n",
              "         'differently': 7,\n",
              "         'much\\\\r\\\\ndisposed': 2,\n",
              "         'done': 119,\n",
              "         'sad': 24,\n",
              "         'thing': 337,\n",
              "         'for\\\\r\\\\nthem': 1,\n",
              "         'deal': 76,\n",
              "         'happier': 9,\n",
              "         'if': 459,\n",
              "         'spent': 17,\n",
              "         'the\\\\r\\\\nrest': 2,\n",
              "         'smiled': 16,\n",
              "         'chatted': 1,\n",
              "         'cheerfully\\\\r\\\\nas': 1,\n",
              "         'keep': 32,\n",
              "         'such': 424,\n",
              "         'thoughts': 29,\n",
              "         'when': 315,\n",
              "         'tea': 24,\n",
              "         'was\\\\r\\\\nimpossible': 2,\n",
              "         'say': 278,\n",
              "         'exactly': 46,\n",
              "         'said': 449,\n",
              "         '\\\\r\\\\n\\\\r\\\\n': 1147,\n",
              "         \"''\": 2494,\n",
              "         'poor': 116,\n",
              "         '!': 1064,\n",
              "         'i': 2896,\n",
              "         'again': 179,\n",
              "         'pity': 22,\n",
              "         'that\\\\r\\\\nmr': 5,\n",
              "         '``': 1717,\n",
              "         'can': 398,\n",
              "         'agree': 23,\n",
              "         'papa': 31,\n",
              "         'know': 298,\n",
              "         'such\\\\r\\\\na': 11,\n",
              "         'good-humoured': 6,\n",
              "         'thoroughly': 18,\n",
              "         'deserves\\\\r\\\\na': 1,\n",
              "         'good': 266,\n",
              "         'wife': 60,\n",
              "         'live': 15,\n",
              "         'us': 133,\n",
              "         'for\\\\r\\\\never': 3,\n",
              "         'my': 638,\n",
              "         'odd': 23,\n",
              "         'humours': 2,\n",
              "         'might': 279,\n",
              "         'her\\\\r\\\\nown': 4,\n",
              "         'where': 77,\n",
              "         'advantage': 24,\n",
              "         '\\\\r\\\\nthis': 5,\n",
              "         'three': 56,\n",
              "         'times': 24,\n",
              "         'large.': 1,\n",
              "         'my\\\\r\\\\ndear': 6,\n",
              "         'often': 72,\n",
              "         'we': 312,\n",
              "         'shall': 192,\n",
              "         'going': 97,\n",
              "         'see': 203,\n",
              "         'coming': 75,\n",
              "         'we\\\\r\\\\nshall': 1,\n",
              "         'meeting': 35,\n",
              "         '_we_': 7,\n",
              "         'begin': 26,\n",
              "         'go': 122,\n",
              "         'pay': 24,\n",
              "         'wedding\\\\r\\\\nvisit': 1,\n",
              "         'dear': 225,\n",
              "         'am': 378,\n",
              "         'get': 63,\n",
              "         'far': 66,\n",
              "         'randalls': 66,\n",
              "         'distance': 21,\n",
              "         'could\\\\r\\\\nnot': 19,\n",
              "         'walk': 46,\n",
              "         'nobody': 62,\n",
              "         'your': 326,\n",
              "         'walking': 41,\n",
              "         'carriage': 52,\n",
              "         'sure': 181,\n",
              "         'james': 17,\n",
              "         'will': 494,\n",
              "         'like': 171,\n",
              "         'put': 58,\n",
              "         'horses': 20,\n",
              "         'a\\\\r\\\\nlittle': 19,\n",
              "         'are': 423,\n",
              "         'while': 110,\n",
              "         'paying': 12,\n",
              "         'our\\\\r\\\\nvisit': 1,\n",
              "         'into': 137,\n",
              "         'weston\\\\': 40,\n",
              "         'stable': 2,\n",
              "         'have\\\\r\\\\nsettled': 1,\n",
              "         'already': 39,\n",
              "         'talked': 57,\n",
              "         'last\\\\r\\\\nnight': 3,\n",
              "         'going\\\\r\\\\nto': 1,\n",
              "         'because': 43,\n",
              "         'housemaid': 1,\n",
              "         'only\\\\r\\\\ndoubt': 1,\n",
              "         'whether': 54,\n",
              "         'take': 108,\n",
              "         'else': 64,\n",
              "         'doing': 33,\n",
              "         '\\\\r\\\\npapa': 1,\n",
              "         'got': 31,\n",
              "         'hannah': 2,\n",
              "         'you\\\\r\\\\nmentioned': 1,\n",
              "         'glad': 43,\n",
              "         'lucky': 9,\n",
              "         'not\\\\r\\\\nhave': 7,\n",
              "         'slighted': 5,\n",
              "         'upon': 131,\n",
              "         'account': 49,\n",
              "         'am\\\\r\\\\nsure': 8,\n",
              "         'make': 139,\n",
              "         'servant': 6,\n",
              "         'pretty-spoken\\\\r\\\\ngirl': 1,\n",
              "         'opinion': 55,\n",
              "         'whenever': 22,\n",
              "         'always\\\\r\\\\ncurtseys': 1,\n",
              "         'asks': 2,\n",
              "         'me': 508,\n",
              "         'do': 596,\n",
              "         'pretty': 59,\n",
              "         'manner': 63,\n",
              "         'you\\\\r\\\\nhave': 7,\n",
              "         'needlework': 1,\n",
              "         'observe': 20,\n",
              "         'turns': 9,\n",
              "         'lock\\\\r\\\\nof': 1,\n",
              "         'door': 39,\n",
              "         'right': 80,\n",
              "         'bangs': 1,\n",
              "         'an\\\\r\\\\nexcellent': 3,\n",
              "         'comfort': 51,\n",
              "         'taylor\\\\r\\\\nto': 1,\n",
              "         'somebody': 12,\n",
              "         'about': 218,\n",
              "         'goes\\\\r\\\\nover': 1,\n",
              "         'daughter': 35,\n",
              "         'hearing': 24,\n",
              "         'will\\\\r\\\\nbe': 13,\n",
              "         'tell': 70,\n",
              "         '\\\\r\\\\n\\\\r\\\\nemma': 93,\n",
              "         'spared': 6,\n",
              "         'exertions': 4,\n",
              "         'maintain': 3,\n",
              "         'flow': 5,\n",
              "         'ideas': 13,\n",
              "         'and\\\\r\\\\nhoped': 1,\n",
              "         'help': 37,\n",
              "         'backgammon': 1,\n",
              "         'tolerably\\\\r\\\\nthrough': 1,\n",
              "         'attacked': 2,\n",
              "         'regrets': 5,\n",
              "         'the\\\\r\\\\nbackgammon-table': 1,\n",
              "         'placed': 13,\n",
              "         'visitor': 8,\n",
              "         'immediately': 57,\n",
              "         'afterwards': 34,\n",
              "         'walked\\\\r\\\\nin': 1,\n",
              "         'unnecessary.\\\\r\\\\n\\\\r\\\\nmr': 1,\n",
              "         'knightley': 282,\n",
              "         'sensible': 22,\n",
              "         'seven': 4,\n",
              "         'eight-and-thirty': 1,\n",
              "         'not\\\\r\\\\nonly': 1,\n",
              "         'intimate': 6,\n",
              "         'particularly\\\\r\\\\nconnected': 1,\n",
              "         'elder': 3,\n",
              "         'brother': 38,\n",
              "         'isabella\\\\': 7,\n",
              "         'lived\\\\r\\\\nabout': 1,\n",
              "         'highbury': 96,\n",
              "         'frequent': 8,\n",
              "         'welcome': 11,\n",
              "         'time': 242,\n",
              "         'usual': 37,\n",
              "         'directly': 41,\n",
              "         'their\\\\r\\\\nmutual': 1,\n",
              "         'connexions': 10,\n",
              "         'returned': 33,\n",
              "         'late': 22,\n",
              "         'after\\\\r\\\\nsome': 1,\n",
              "         'days\\\\': 2,\n",
              "         \"'\": 137,\n",
              "         'absence': 13,\n",
              "         'walked': 42,\n",
              "         'were\\\\r\\\\nwell': 1,\n",
              "         'brunswick': 8,\n",
              "         'square': 9,\n",
              "         'circumstance': 29,\n",
              "         'animated\\\\r\\\\nmr': 1,\n",
              "         'which\\\\r\\\\nalways': 2,\n",
              "         'inquiries': 7,\n",
              "         'isabella': 46,\n",
              "         'and\\\\r\\\\nher': 2,\n",
              "         'answered': 19,\n",
              "         'satisfactorily': 1,\n",
              "         'mr.\\\\r\\\\nwoodhouse': 13,\n",
              "         'gratefully': 3,\n",
              "         'observed': 21,\n",
              "         'come': 156,\n",
              "         'out': 187,\n",
              "         'call': 38,\n",
              "         'afraid': 60,\n",
              "         'have\\\\r\\\\nhad': 3,\n",
              "         'shocking': 6,\n",
              "         'sir': 61,\n",
              "         'beautiful': 19,\n",
              "         'moonlight': 2,\n",
              "         'night': 30,\n",
              "         'mild': 4,\n",
              "         'i\\\\r\\\\nmust': 4,\n",
              "         'draw': 9,\n",
              "         'back': 55,\n",
              "         'fire': 15,\n",
              "         'found': 84,\n",
              "         'damp': 6,\n",
              "         'dirty': 6,\n",
              "         'not\\\\r\\\\ncatch': 1,\n",
              "         'cold': 39,\n",
              "         'look': 105,\n",
              "         'shoes': 4,\n",
              "         'speck': 1,\n",
              "         'them.': 5,\n",
              "         'well': 345,\n",
              "         'quite': 234,\n",
              "         'surprising': 2,\n",
              "         'vast': 5,\n",
              "         'rain\\\\r\\\\nhere': 1,\n",
              "         'rained': 1,\n",
              "         'dreadfully': 5,\n",
              "         'hard': 11,\n",
              "         'at\\\\r\\\\nbreakfast': 1,\n",
              "         'wanted': 62,\n",
              "         'bye': 7,\n",
              "         'joy': 17,\n",
              "         'what\\\\r\\\\nsort': 1,\n",
              "         'feeling': 44,\n",
              "         'hurry': 23,\n",
              "         'my\\\\r\\\\ncongratulations': 1,\n",
              "         'hope': 129,\n",
              "         'went': 43,\n",
              "         'tolerably': 9,\n",
              "         'you\\\\r\\\\nall': 3,\n",
              "         'behave': 2,\n",
              "         'cried': 78,\n",
              "         'ah': 47,\n",
              "         \"\\\\'tis\": 2,\n",
              "         'business': 53,\n",
              "         'please': 31,\n",
              "         'possibly': 11,\n",
              "         \"say\\\\r\\\\n\\\\'poor\": 1,\n",
              "         'taylor.\\\\': 1,\n",
              "         'regard': 35,\n",
              "         'it\\\\r\\\\ncomes': 1,\n",
              "         'question': 34,\n",
              "         'dependence': 8,\n",
              "         'independence': 8,\n",
              "         'rate': 12,\n",
              "         'it\\\\r\\\\nmust': 5,\n",
              "         'better': 143,\n",
              "         'especially': 25,\n",
              "         '_one_': 4,\n",
              "         'those': 82,\n",
              "         'fanciful': 3,\n",
              "         'troublesome\\\\r\\\\ncreature': 1,\n",
              "         'playfully': 2,\n",
              "         'head': 36,\n",
              "         'i\\\\r\\\\nknow': 4,\n",
              "         'certainly': 88,\n",
              "         'believe': 88,\n",
              "         'a\\\\r\\\\nsigh': 1,\n",
              "         'sometimes': 36,\n",
              "         'troublesome': 8,\n",
              "         'dearest': 18,\n",
              "         'mean': 53,\n",
              "         '_you_': 16,\n",
              "         'mr.\\\\r\\\\nknightley': 27,\n",
              "         'horrible': 5,\n",
              "         'idea': 89,\n",
              "         'oh': 181,\n",
              "         'meant': 40,\n",
              "         'only\\\\r\\\\nmyself': 1,\n",
              "         'loves': 7,\n",
              "         'fault': 16,\n",
              "         'a\\\\r\\\\njoke': 1,\n",
              "         'joke': 4,\n",
              "         'another.': 3,\n",
              "         '\\\\r\\\\n\\\\r\\\\nmr': 32,\n",
              "         'fact': 22,\n",
              "         'faults\\\\r\\\\nin': 1,\n",
              "         'told': 72,\n",
              "         'and\\\\r\\\\nthough': 3,\n",
              "         'particularly': 33,\n",
              "         'agreeable': 37,\n",
              "         'knew\\\\r\\\\nit': 1,\n",
              "         'him\\\\r\\\\nreally': 1,\n",
              "         'suspect': 20,\n",
              "         'by\\\\r\\\\nevery': 2,\n",
              "         'body.\\\\r\\\\n\\\\r\\\\n': 2,\n",
              "         'knows': 28,\n",
              "         'flatter': 4,\n",
              "         'no\\\\r\\\\nreflection': 2,\n",
              "         'has': 223,\n",
              "         'persons\\\\r\\\\nto': 1,\n",
              "         'chances': 5,\n",
              "         'a\\\\r\\\\ngainer': 1,\n",
              "         'willing': 10,\n",
              "         'let': 82,\n",
              "         'pass': 28,\n",
              "         'want': 74,\n",
              "         'hear': 85,\n",
              "         'about\\\\r\\\\nthe': 2,\n",
              "         'behaved\\\\r\\\\ncharmingly': 1,\n",
              "         'punctual': 1,\n",
              "         'looks': 23,\n",
              "         'not\\\\r\\\\na': 2,\n",
              "         'tear': 3,\n",
              "         'face': 30,\n",
              "         'seen': 60,\n",
              "         'we\\\\r\\\\nwere': 2,\n",
              "         'apart': 3,\n",
              "         'every\\\\r\\\\nday': 3,\n",
              "         'bears': 2,\n",
              "         'sorry': 51,\n",
              "         'lose': 17,\n",
              "         '_will_': 2,\n",
              "         'thinks': 20,\n",
              "         'turned': 24,\n",
              "         'divided': 2,\n",
              "         'tears': 8,\n",
              "         'smiles': 11,\n",
              "         'it\\\\r\\\\nis': 18,\n",
              "         'should': 325,\n",
              "         'could\\\\r\\\\nsuppose': 1,\n",
              "         \"taylor\\\\'s\\\\r\\\\nadvantage\": 1,\n",
              "         'acceptable': 6,\n",
              "         \"taylor\\\\'s\\\\r\\\\ntime\": 1,\n",
              "         'settled': 30,\n",
              "         'home': 113,\n",
              "         'important': 16,\n",
              "         'secure': 8,\n",
              "         'provision': 3,\n",
              "         'therefore': 56,\n",
              "         'allow\\\\r\\\\nherself': 1,\n",
              "         'pain': 29,\n",
              "         'taylor\\\\r\\\\nmust': 1,\n",
              "         'happily': 15,\n",
              "         'forgotten': 17,\n",
              "         'matter': 28,\n",
              "         'very\\\\r\\\\nconsiderable': 1,\n",
              "         'myself': 82,\n",
              "         'you\\\\r\\\\nknow': 11,\n",
              "         'four': 17,\n",
              "         'proved': 15,\n",
              "         'the\\\\r\\\\nright': 2,\n",
              "         'marry': 45,\n",
              "         'may\\\\r\\\\ncomfort': 1,\n",
              "         'thing.': 5,\n",
              "         'shook': 7,\n",
              "         'fondly': 4,\n",
              "         'replied': 71,\n",
              "         '\\\\r\\\\nmy': 8,\n",
              "         'matches': 4,\n",
              "         'foretell': 1,\n",
              "         'for\\\\r\\\\nwhatever': 1,\n",
              "         'comes': 20,\n",
              "         'pray': 25,\n",
              "         'more\\\\r\\\\nmatches': 1,\n",
              "         'none': 27,\n",
              "         'for\\\\r\\\\nother': 1,\n",
              "         'greatest': 24,\n",
              "         'amusement': 11,\n",
              "         'such\\\\r\\\\nsuccess': 1,\n",
              "         'marry\\\\r\\\\nagain': 1,\n",
              "         'widower': 1,\n",
              "         'who\\\\r\\\\nseemed': 1,\n",
              "         'perfectly': 53,\n",
              "         'constantly': 7,\n",
              "         'occupied\\\\r\\\\neither': 1,\n",
              "         'friends': 74,\n",
              "         'always\\\\r\\\\nacceptable': 1,\n",
              "         'wherever': 6,\n",
              "         'need': 37,\n",
              "         'spend\\\\r\\\\na': 2,\n",
              "         'single': 14,\n",
              "         'year': 24,\n",
              "         'alone': 21,\n",
              "         'mr.\\\\r\\\\nweston': 11,\n",
              "         'a\\\\r\\\\npromise': 1,\n",
              "         'deathbed': 1,\n",
              "         'others': 50,\n",
              "         'son': 39,\n",
              "         'the\\\\r\\\\nuncle': 1,\n",
              "         'letting': 3,\n",
              "         'solemn': 3,\n",
              "         'nonsense': 17,\n",
              "         'the\\\\r\\\\nsubject': 6,\n",
              "         'believed': 41,\n",
              "         'it.\\\\r\\\\n\\\\r\\\\n': 9,\n",
              "         'since': 57,\n",
              "         'met\\\\r\\\\nwith': 1,\n",
              "         'broadway': 1,\n",
              "         'lane': 8,\n",
              "         'began': 53,\n",
              "         'drizzle': 1,\n",
              "         'darted\\\\r\\\\naway': 1,\n",
              "         'gallantry': 9,\n",
              "         'borrowed': 2,\n",
              "         'umbrellas': 2,\n",
              "         'from\\\\r\\\\nfarmer': 1,\n",
              "         'mitchell\\\\': 1,\n",
              "         'mind': 112,\n",
              "         'subject': 79,\n",
              "         'planned': 2,\n",
              "         'match\\\\r\\\\nfrom': 1,\n",
              "         'success': 8,\n",
              "         'blessed': 6,\n",
              "         'instance': 8,\n",
              "         '\\\\r\\\\ndear': 2,\n",
              "         'leave': 43,\n",
              "         'match-making': 5,\n",
              "         'understand': 56,\n",
              "         \"\\\\'success\": 2,\n",
              "         '\\\\': 65,\n",
              "         'knightley.\\\\r\\\\n': 1,\n",
              "         'supposes': 1,\n",
              "         'endeavour': 12,\n",
              "         'properly': 9,\n",
              "         'delicately\\\\r\\\\nspent': 1,\n",
              "         'endeavouring': 2,\n",
              "         'bring\\\\r\\\\nabout': 1,\n",
              "         'worthy': 15,\n",
              "         'employment': 9,\n",
              "         'young': 170,\n",
              "         'lady\\\\': 7,\n",
              "         'but\\\\r\\\\nif': 3,\n",
              "         'rather': 117,\n",
              "         'imagine': 46,\n",
              "         'making': 39,\n",
              "         'means\\\\r\\\\nonly': 1,\n",
              "         'planning': 3,\n",
              "         'saying': 44,\n",
              "         'yourself': 42,\n",
              "         'idle': 4,\n",
              "         'it\\\\r\\\\nwould': 6,\n",
              "         'marry\\\\r\\\\nher': 1,\n",
              "         'why\\\\r\\\\ndo': 2,\n",
              "         'talk': 50,\n",
              "         'merit': 10,\n",
              "         'proud': 7,\n",
              "         'you\\\\r\\\\nmade': 1,\n",
              "         'guess': 22,\n",
              "         '_that_': 10,\n",
              "         'known': 49,\n",
              "         'triumph': 6,\n",
              "         'i\\\\r\\\\npity': 1,\n",
              "         'you.': 19,\n",
              "         'cleverer': 3,\n",
              "         'depend': 23,\n",
              "         'is\\\\r\\\\nnever': 2,\n",
              "         'merely': 26,\n",
              "         'luck': 9,\n",
              "         'talent': 6,\n",
              "         'my\\\\r\\\\npoor': 1,\n",
              "         'word': 80,\n",
              "         'quarrel': 10,\n",
              "         'so\\\\r\\\\nentirely': 1,\n",
              "         'claim': 12,\n",
              "         'drawn': 13,\n",
              "         'pictures': 1,\n",
              "         '\\\\r\\\\nbut': 54,\n",
              "         'something': 92,\n",
              "         'do-nothing': 1,\n",
              "         'and\\\\r\\\\nthe': 16,\n",
              "         'do-all': 1,\n",
              "         'promoted': 3,\n",
              "         'visits': 13,\n",
              "         'given\\\\r\\\\nmany': 1,\n",
              "         ...})"
            ]
          },
          "execution_count": 176,
          "metadata": {},
          "output_type": "execute_result"
        }
      ],
      "source": [
        ""
      ]
    },
    {
      "cell_type": "markdown",
      "metadata": {
        "id": "Ef2Oz-UHBQg_"
      },
      "source": [
        "To do the histogram for the 100 most common words, we need to find\n",
        "the 100 most common words.  Use `most_common`."
      ]
    },
    {
      "cell_type": "code",
      "execution_count": null,
      "metadata": {
        "id": "b1ReCC8iBQg_",
        "outputId": "30ddf181-dda9-4808-9226-c43815a8561f"
      },
      "outputs": [
        {
          "data": {
            "text/plain": [
              "(12164,\n",
              " 5372,\n",
              " 4667,\n",
              " 4479,\n",
              " 4256,\n",
              " 3841,\n",
              " 3102,\n",
              " 2896,\n",
              " 2795,\n",
              " 2494,\n",
              " 2353,\n",
              " 2200,\n",
              " 2089,\n",
              " 2068,\n",
              " 2032,\n",
              " 2025,\n",
              " 1939,\n",
              " 1802,\n",
              " 1730,\n",
              " 1717,\n",
              " 1580,\n",
              " 1568,\n",
              " 1383,\n",
              " 1288,\n",
              " 1275,\n",
              " 1198,\n",
              " 1148,\n",
              " 1138,\n",
              " 1135,\n",
              " 1078,\n",
              " 1064,\n",
              " 1021,\n",
              " 960,\n",
              " 899,\n",
              " 848,\n",
              " 845,\n",
              " 831,\n",
              " 763,\n",
              " 722,\n",
              " 712,\n",
              " 656,\n",
              " 654,\n",
              " 638,\n",
              " 635,\n",
              " 621,\n",
              " 609,\n",
              " 596,\n",
              " 591,\n",
              " 568,\n",
              " 520,\n",
              " 520,\n",
              " 518,\n",
              " 508,\n",
              " 498,\n",
              " 495,\n",
              " 495,\n",
              " 494,\n",
              " 478,\n",
              " 476,\n",
              " 471,\n",
              " 467,\n",
              " 461,\n",
              " 459,\n",
              " 459,\n",
              " 449,\n",
              " 424,\n",
              " 423,\n",
              " 417,\n",
              " 400,\n",
              " 398,\n",
              " 388,\n",
              " 387,\n",
              " 378,\n",
              " 364,\n",
              " 353,\n",
              " 348,\n",
              " 345,\n",
              " 343,\n",
              " 337,\n",
              " 332,\n",
              " 326,\n",
              " 325,\n",
              " 325,\n",
              " 325,\n",
              " 325,\n",
              " 315,\n",
              " 312,\n",
              " 309,\n",
              " 303,\n",
              " 298,\n",
              " 291,\n",
              " 289,\n",
              " 282,\n",
              " 279,\n",
              " 278,\n",
              " 277,\n",
              " 266,\n",
              " 265,\n",
              " 261,\n",
              " 247)"
            ]
          },
          "execution_count": 38,
          "metadata": {},
          "output_type": "execute_result"
        }
      ],
      "source": [
        "list(zip(*word_cts.most_common(100)))[1]"
      ]
    },
    {
      "cell_type": "code",
      "execution_count": null,
      "metadata": {
        "id": "CvzVAjXABQg_",
        "outputId": "24ba41d1-77ac-4831-b9f4-42e3acb3fb95"
      },
      "outputs": [
        {
          "data": {
            "text/plain": [
              "[5, 2, 2, 1, 1, 1, 1, 2, 1, 2, 1, 1, 1, 1]"
            ]
          },
          "execution_count": 39,
          "metadata": {},
          "output_type": "execute_result"
        }
      ],
      "source": [
        "x"
      ]
    },
    {
      "cell_type": "code",
      "execution_count": null,
      "metadata": {
        "id": "_eLpVdVFBQhA",
        "outputId": "e2ffcb42-8176-4f26-fcfc-0c0a4758c79d"
      },
      "outputs": [
        {
          "data": {
            "image/png": "[encoded data removed]",
            "text/plain": [
              "<Figure size 432x288 with 3 Axes>"
            ]
          },
          "metadata": {
            "needs_background": "light"
          },
          "output_type": "display_data"
        }
      ],
      "source": [
        "#THis is all the words, not 100 most common.  Change.\n",
        "x = list(zip(*word_cts.most_common(100)))[1] # list(word_cts.values())\n",
        "#Let's try three different plots  Fill in as many as you like.\n",
        "fig, axes = plt.subplots(3, 1)\n",
        "## Need to think about how many bars/bins we want\n",
        "n1, bins1, patches1 = axes[0].hist(x, 5, facecolor='g', \n",
        "                                   alpha=0.5)\n",
        "# These are customizable as well.\n",
        "axes[1].set_yticks([0,50,100,150,200])\n",
        "L = axes[1].set_xticks([10,15,20,30,40,50,60,70,80])\n",
        "n1, bins1, patches1 = axes[1].hist(x, 20, facecolor='g', \n",
        "                                  #range =(1,100),\n",
        "                                   alpha=0.5)\n",
        "n1, bins1, patches1 = axes[2].hist(x, 30, facecolor='g', \n",
        "                                  #range =(1,100),\n",
        "                                   alpha=0.5)"
      ]
    },
    {
      "cell_type": "code",
      "execution_count": null,
      "metadata": {
        "id": "fgPRR8wuBQhA"
      },
      "outputs": [],
      "source": [
        "from nltk.tokenize import word_tokenize\n",
        "from collections import Counter\n",
        "datal = data.lower()  # \n",
        "# The next line needs to change.  We're not using split anymore\n",
        "data_lt =  word_tokenize(datal)  #data1.lower().split()\n",
        "## The next line needs to change We're not doing word counts for Sl anymore\n",
        "word_cts = Counter(data_lt)"
      ]
    },
    {
      "cell_type": "code",
      "execution_count": null,
      "metadata": {
        "id": "s5uD38pXBQhA",
        "outputId": "1c1dc373-b865-4887-dc96-f24f37d9e052"
      },
      "outputs": [
        {
          "data": {
            "image/png": "[encoded data removed]",
            "text/plain": [
              "<Figure size 432x288 with 3 Axes>"
            ]
          },
          "metadata": {
            "needs_background": "light"
          },
          "output_type": "display_data"
        }
      ],
      "source": [
        "x = dict(word_cts.most_common(1000)).values()\n",
        "#Let's try two different plots\n",
        "fig, axes = plt.subplots(3, 1)\n",
        "## Need to think about how many bars/bins we want\n",
        "n1, bins1, patches1 = axes[0].hist(x, 20, facecolor='g', \n",
        "                                   range =(1,100),\n",
        "                                   alpha=0.5)\n",
        "axes[1].set_yticks([0,50,100,150,200])\n",
        "axes[1].set_xticks([10,15,20,30,40,50,60,70,80])\n",
        "n2, bins2, patches2 = axes[1].hist(x, 20, facecolor='g', \n",
        "                              alpha=0.5, range=(10,110))\n",
        "n2, bins2, patches2 = axes[2].hist(x, 20, facecolor='g', \n",
        "                              alpha=0.5, range=(10,110))"
      ]
    },
    {
      "cell_type": "code",
      "execution_count": null,
      "metadata": {
        "id": "_mQRRb6tBQhA"
      },
      "outputs": [],
      "source": [
        ""
      ]
    }
  ],
  "metadata": {
    "kernelspec": {
      "display_name": "Python 3",
      "language": "python",
      "name": "python3"
    },
    "language_info": {
      "codemirror_mode": {
        "name": "ipython",
        "version": 3
      },
      "file_extension": ".py",
      "mimetype": "text/x-python",
      "name": "python",
      "nbconvert_exporter": "python",
      "pygments_lexer": "ipython3",
      "version": "3.7.0"
    },
    "toc": {
      "base_numbering": 1,
      "nav_menu": {},
      "number_sections": true,
      "sideBar": true,
      "skip_h1_title": false,
      "title_cell": "Table of Contents",
      "title_sidebar": "Contents",
      "toc_cell": false,
      "toc_position": {},
      "toc_section_display": true,
      "toc_window_display": false
    },
    "colab": {
      "name": "using_matplotlib.ipynb",
      "provenance": []
    }
  },
  "nbformat": 4,
  "nbformat_minor": 0
}