{
 "cells": [
  {
   "cell_type": "markdown",
   "metadata": {
    "id": "AfcwQkBuwlKW"
   },
   "source": [
    "# Box and Whisker Plots"
   ]
  },
  {
   "cell_type": "markdown",
   "metadata": {
    "collapsed": true,
    "id": "uzIruCeewlKb"
   },
   "source": [
    "In this notebook we look at **boxplots** (McGill, Tukey, and Larsen 1978).  Tukey\n",
    "is one of the big names in visualization and exploratory data analysis, and\n",
    "boxplots are an excellent example of exploratory data analysis as Tukey\n",
    "conceives it:\n",
    "\n",
    "\n",
    "  >Procedures for analyzing data, techniques for interpreting the results of such procedures,ways of planning the gathering of data to make its analysis easier, more precise or more accurate, and all the machinery and results of (mathematical) statistics which apply to analyzing data.\n",
    "  \n",
    "  >Tukey (1962)\n",
    "\n",
    "Some new data from the web.\n",
    "\n",
    "This data is about predicting the age of abalone from physical measurements. The age of\n",
    "abalone can be found reliably by cutting the shell open\n",
    "and counting the number of rings --- a laborious process. \n",
    "\n",
    "Other measurements, which are easier to\n",
    "obtain, are given in this new data set.\n",
    "These measurements can be used to predict the age. Further information, such as\n",
    "location, may be required to solve the problem, so let's remain neutral on whether\n",
    "we've actually got enough information to solve the problem.\n",
    "That's pretty normal in data analysis.\n",
    "\n",
    "We load the information with the help of a `python` module called `pandas`,\n",
    "which provides a number of facilities for reading, storing, and manipulating\n",
    "data.  For now let's just note the following:\n",
    "\n",
    "1.  The file we're reading on the web contains an abalone data set \n",
    "    stored in what's known as `.csv` format.  That means each line\n",
    "    represents a distinct data instance (abalone shell), and provides\n",
    "    an arbitrary number of attributes of that instance, seperated by commas.\n",
    "    \"CSV\" stands for \"comma separated values\".\n",
    "2.  In the code below, the `pandas read_csv` function retrieves the data from the URL it's given\n",
    "    and stores it under the name `abalone` using a special kind of data object called \n",
    "    a `data frame`.  More on data frames later.\n",
    "3.  We print the first and last rows of the data, to give you an idea of what we've got.\n",
    "    Each abalone shell has 8 numerical attributes and one string attribute (\"Sex\").  Notice\n",
    "    that  the numerical attributes are not necessarily comparable.  Some are lengths, \n",
    "    some weights.  The last attribute is a count of the number of rings.\n",
    "\n"
   ]
  },
  {
   "cell_type": "code",
   "execution_count": 1,
   "metadata": {
    "colab": {
     "base_uri": "https://localhost:8080/"
    },
    "id": "buUgm6aSwlKc",
    "outputId": "29b5e172-44b7-4333-a68f-2443cd0f05f7"
   },
   "outputs": [
    {
     "name": "stdout",
     "output_type": "stream",
     "text": [
      "  Sex  Length  Diameter  Height  ...  Shckd weight  Visc weight  Shll weight  Rings\n",
      "0   M   0.455     0.365   0.095  ...        0.2245       0.1010        0.150     15\n",
      "1   M   0.350     0.265   0.090  ...        0.0995       0.0485        0.070      7\n",
      "2   F   0.530     0.420   0.135  ...        0.2565       0.1415        0.210      9\n",
      "3   M   0.440     0.365   0.125  ...        0.2155       0.1140        0.155     10\n",
      "4   I   0.330     0.255   0.080  ...        0.0895       0.0395        0.055      7\n",
      "\n",
      "[5 rows x 9 columns]\n",
      "\n",
      "     Sex  Length  Diameter  ...  Visc weight  Shll weight  Rings\n",
      "4172   F   0.565     0.450  ...       0.2390       0.2490     11\n",
      "4173   M   0.590     0.440  ...       0.2145       0.2605     10\n",
      "4174   M   0.600     0.475  ...       0.2875       0.3080      9\n",
      "4175   F   0.625     0.485  ...       0.2610       0.2960     10\n",
      "4176   M   0.710     0.555  ...       0.3765       0.4950     12\n",
      "\n",
      "[5 rows x 9 columns]\n"
     ]
    }
   ],
   "source": [
    "import pandas as pd\n",
    "from pandas import DataFrame\n",
    "import pylab\n",
    "#from pylab import *\n",
    "import matplotlib.pyplot as plot\n",
    "pd.set_option('display.width',200)\n",
    "\n",
    "target_url = (\"http://archive.ics.uci.edu/ml/machine-\"\n",
    "              \"learning-databases/abalone/abalone.data\")\n",
    "#read abalone data.  This file has no column names (header = None),\n",
    "# so we provide them ourselves.\n",
    "abalone = pd.read_csv(target_url,header=None, prefix=\"V\")\n",
    "abalone.columns = ['Sex', 'Length', 'Diameter', 'Height', 'Whl weight',\n",
    "                   'Shckd weight', 'Visc weight', 'Shll weight',\n",
    "                   'Rings']\n",
    "\n",
    "# Print first few rows of data\n",
    "print((abalone.head()))\n",
    "print()\n",
    "# Print last few rows\n",
    "print((abalone.tail()))"
   ]
  },
  {
   "cell_type": "markdown",
   "metadata": {
    "id": "WmIakdyYwlKd"
   },
   "source": [
    "We're going to do something called a **box plot** which is an excellent visualization tool that gives a you a feel for how the data attributes are distributed."
   ]
  },
  {
   "cell_type": "markdown",
   "metadata": {
    "id": "AtRyylWkwlKd"
   },
   "source": [
    "The box plot visualization shows how concentrated each attribute is around the mean, and where the outliers are. \n",
    "\n",
    "The following **XKCD** web comic ![pic](https://drive.google.com/uc?export=view&id=1oppXKHmASexEO7ZzacoFZ3vUsEsv0L8N)  \n",
    "\n",
    "beautifully illustrates the basic visualization function of a boxplot and is pretty funny to boot.\n",
    "\n"
   ]
  },
  {
   "cell_type": "markdown",
   "metadata": {
    "id": "sn6tPMdbwlKe"
   },
   "source": [
    "![xkcd_539.png](attachment:xkcd_539.png)"
   ]
  },
  {
   "cell_type": "markdown",
   "metadata": {
    "id": "HQba7fHuwlKe"
   },
   "source": [
    "**xkcd**, sometimes styled **XKCD**, is a webcomic created in 2005 by American author Randall Munroe. Munroe states on the comic's website that the name of the comic is not an initialism, but \"just a word with no phonetic pronunciation\"."
   ]
  },
  {
   "cell_type": "markdown",
   "metadata": {
    "id": "HJB0rQkwwlKe"
   },
   "source": [
    "With that preliminary understanding, here's a first stab at visualizing the data:"
   ]
  },
  {
   "cell_type": "code",
   "execution_count": 2,
   "metadata": {
    "colab": {
     "base_uri": "https://localhost:8080/",
     "height": 516
    },
    "id": "Xnt9PxLiwlKe",
    "outputId": "f074cd2f-3261-4045-9cff-440ff936ff56"
   },
   "outputs": [
    {
     "data": {
      "text/plain": [
       "Text(0.5, 1.0, 'All variables')"
      ]
     },
     "execution_count": 2,
     "metadata": {
      "tags": []
     },
     "output_type": "execute_result"
    },
    {
     "data": {
      "image/png": "[encoded data removed]",
      "text/plain": [
       "<Figure size 720x576 with 1 Axes>"
      ]
     },
     "metadata": {
      "needs_background": "light",
      "tags": []
     },
     "output_type": "display_data"
    }
   ],
   "source": [
    "%matplotlib inline\n",
    "# Make the figures big enough for the optically challenged.\n",
    "pylab.rcParams['figure.figsize'] = (10.0, 8.0)\n",
    "#box plot the numerical attributes\n",
    "#convert data frame to array for plotting\n",
    "plot_array = abalone.iloc[:,1:9].values\n",
    "plot.boxplot(plot_array)\n",
    "# Nice labels using attribute names on the x-axis.\n",
    "plot.xticks(range(1,9),abalone.columns[1:9])\n",
    "plot.ylabel((\"Attribute values\"))\n",
    "plot.title('All variables')\n",
    "#show()"
   ]
  },
  {
   "cell_type": "markdown",
   "metadata": {
    "id": "ip58x98fwlKf"
   },
   "source": [
    "The horizontal axis is showing our 8 numerical attributes.  It doesn't take a degree in data science to see that most of the display space is being taken up by the last attribute ('Rings'), which is in fact our representation of age in the data.  That is, it represents the **dependent variable**, the attribute we're trying  to predict. It's out of scale with the others because it takes large integer values and the other attributes all take values below 3, and almost all values fall below 2.\n",
    "\n",
    "Let's remove it and re-plot.  Since it's the dependent variable, it makes sense to set it aside while we look at the predictors, the independent variables."
   ]
  },
  {
   "cell_type": "code",
   "execution_count": 17,
   "metadata": {
    "colab": {
     "base_uri": "https://localhost:8080/",
     "height": 516
    },
    "id": "y2ibW00TwlKf",
    "outputId": "9dde390f-3581-4115-8768-e63ebe36093e"
   },
   "outputs": [
    {
     "data": {
      "text/plain": [
       "Text(0.5, 1.0, 'Independent Variables')"
      ]
     },
     "execution_count": 17,
     "metadata": {
      "tags": []
     },
     "output_type": "execute_result"
    },
    {
     "data": {
      "image/png": "[encoded data removed]",
      "text/plain": [
       "<Figure size 720x576 with 1 Axes>"
      ]
     },
     "metadata": {
      "needs_background": "light",
      "tags": []
     },
     "output_type": "display_data"
    }
   ],
   "source": [
    "plot_array2 = abalone.iloc[:,1:8].values\n",
    "plot.boxplot(plot_array2)\n",
    "plot.xticks(list(range(1,8)),abalone.columns[1:8])\n",
    "plot.ylabel((\"Attribute Values\"))\n",
    "plot.title('Independent Variables')"
   ]
  },
  {
   "cell_type": "markdown",
   "metadata": {
    "id": "rt1CkNiHwlKf"
   },
   "source": [
    "Before we discuss this picture, it will be helpful to review\n",
    "something about **Normal** distributions.  Here's a classic diagram of\n",
    "how population percentages align with STD units in a normal distribtion:"
   ]
  },
  {
   "cell_type": "markdown",
   "metadata": {
    "id": "kYfRR9RVwlKf"
   },
   "source": [
    "![normal_dist.png](attachment:normal_dist.png)\n",
    "\n",
    "\n",
    "![normal_dist.png](https://drive.google.com/uc?export=view&id=1yaBMBxJmHeKwlT2crcTsGrQbjd8_oTGS)\n"
   ]
  },
  {
   "cell_type": "markdown",
   "metadata": {
    "id": "AtQ5i7-iwlKg"
   },
   "source": [
    "The meaning of a box in a boxplot can best be remembered by looking at the box\n",
    "turned on it side in the top half of the diagram.\n",
    "The box in the center of the boxplot always contains the 25th-75th percentile, the middle\n",
    "50% of the population.  The box thus represents IQR (the **inner quartile range**) in the diagrams of normal distributions above. \n",
    "\n",
    "Note the difference between the quartile boundaries and the standard deviation boundaries (marked as $\\sigma$s on the x-axis).  As shown in the lower normal distribution plot,  the interval that extends one standard deviation unit above the median and one standard  deviation unit below it includes 68.27% of the sample population,  so it is quite a bit wider than the IQR box.\n",
    "\n",
    "The IQR box always contains the median, the value that separates the top 50% of the sample population from the bottom 50%, represented by a red line, but the median isn't always centered in the IQR box.   The median line is placed so as to tell you what part of the value range falls at or below the median value.  In a normal distribution, it would be in the middle of the  IQR box, and in some cases in the abalone picture below, it is clearly shifted a bit up or down. The key point in interpreting the madian location is this: 25% of the population always falls between the median line and the lower edge of the quartile box (this group is called Quartile 2 or Q2); 25% always falls above the median line and the upper edge of the box (this group is called Q3).  So if the median is closer to the bottom, than the values for Q2 are squeezed closer together than the values for Q3; if the median floats toeward the top, it's the other way around.\n",
    "\n",
    "Next we turn to the lines outside the box. There are horizontal lines extending from the right and left ends of the IQR box, each ending with a short  vertical line (the lower and upper **whiskers**).  The upper whisker marks the maximum value for the 24.675%  of the population above the Q3 boundary,\n",
    "and the bottom whisker marks off the same interval **below** the Q2 boundary. So, totaling these up, between the lower and upper whiskers, you've got 99.3% of the population.  Anything outside that interval on either side (top .35% and bottom .35%) is defined to be an outlier (so the woman in the xkcd comic has a pretty strong case).  If you look back at the upper half the normal distribution diagram above, you can see what the box and whiskers in a boxplot should look like for a perfectly normal distribution.  Since the IQR is the middle 50% of the population (1.349 $\\sigma$),\n",
    "the lower whisker would end at the Q1 - (1.5 * IQR) point [= -2.698 sigma] and the upper whisker would end at the  Q3 + (1.5 * IQR) point [= +2.698 $\\sigma$].  \n",
    "\n",
    "In the boxplot below, each plus above or below those top bars stands for an outlier.\n"
   ]
  },
  {
   "cell_type": "markdown",
   "metadata": {
    "id": "fvnM_6FjwlKg"
   },
   "source": [
    "Let's go back to abalones now.\n",
    "\n",
    "In our last boxplot for the abalone data we removed the Rings column.  Removing a troublesome column is okay, but **renormalizing** the variables generalizes better. Let's renormalize columns to zero mean and unit standard deviation.  We'll go ahead and put the `rings` attribute back now since the fact that it's out of scale with the others won't matter. \n",
    "\n",
    "This is a common normalization and desirable for other kinds\n",
    "of statistical analysis and machine learning applications, like k-means clustering or k-nearest neighbors.\n",
    "To do that, let's first grab some statistical info about our data."
   ]
  },
  {
   "cell_type": "code",
   "execution_count": 5,
   "metadata": {
    "colab": {
     "base_uri": "https://localhost:8080/"
    },
    "id": "gP4l5o_9wlKh",
    "outputId": "4f8b8316-1841-4cf4-b563-1712ca67c604"
   },
   "outputs": [
    {
     "name": "stdout",
     "output_type": "stream",
     "text": [
      "            Length     Diameter  ...  Shll weight        Rings\n",
      "count  4177.000000  4177.000000  ...  4177.000000  4177.000000\n",
      "mean      0.523992     0.407881  ...     0.238831     9.933684\n",
      "std       0.120093     0.099240  ...     0.139203     3.224169\n",
      "min       0.075000     0.055000  ...     0.001500     1.000000\n",
      "25%       0.450000     0.350000  ...     0.130000     8.000000\n",
      "50%       0.545000     0.425000  ...     0.234000     9.000000\n",
      "75%       0.615000     0.480000  ...     0.329000    11.000000\n",
      "max       0.815000     0.650000  ...     1.005000    29.000000\n",
      "\n",
      "[8 rows x 8 columns]\n"
     ]
    }
   ],
   "source": [
    "summary = abalone.describe()\n",
    "print(summary)"
   ]
  },
  {
   "cell_type": "markdown",
   "metadata": {
    "id": "N7Y3Y60OwlKh"
   },
   "source": [
    "Notice the summary is a data frame of its own with statistical information about each attribute. We see we have data on 4177 abalones.  This means we can use standard `pandas` functions to access the summary info.\n",
    "\n",
    "Notice also that the `mean` and `std` are in rows 2 and 3 (row indices 1 and 2)."
   ]
  },
  {
   "cell_type": "code",
   "execution_count": null,
   "metadata": {
    "colab": {
     "base_uri": "https://localhost:8080/"
    },
    "id": "qj7-Tl84wlKh",
    "outputId": "759fd1e9-81bd-4cf2-b113-8ce15584a212"
   },
   "outputs": [
    {
     "name": "stdout",
     "output_type": "stream",
     "text": [
      "<class 'pandas.core.frame.DataFrame'> Index(['count', 'mean', 'std', 'min', '25%', '50%', '75%', 'max'], dtype='object')\n"
     ]
    }
   ],
   "source": [
    "print(type(summary), summary.index)"
   ]
  },
  {
   "cell_type": "code",
   "execution_count": 19,
   "metadata": {
    "colab": {
     "base_uri": "https://localhost:8080/"
    },
    "id": "wCmYdAyuhs9a",
    "outputId": "e4184a8e-34c5-498f-cb2e-29067c413e31"
   },
   "outputs": [
    {
     "data": {
      "text/plain": [
       "mean    0.523992\n",
       "Name: Length, dtype: float64"
      ]
     },
     "execution_count": 19,
     "metadata": {
      "tags": []
     },
     "output_type": "execute_result"
    }
   ],
   "source": [
    "# JMG This version slightly different from the next. Do you know how? \n"
   ]
  },
  {
   "cell_type": "code",
   "execution_count": null,
   "metadata": {
    "id": "IIvak5Yx7W7s"
   },
   "outputs": [],
   "source": [
    "#print(summary.loc['mean']['Length'])\n"
   ]
  },
  {
   "cell_type": "code",
   "execution_count": null,
   "metadata": {
    "id": "O3r5YqIw7HKn"
   },
   "outputs": [],
   "source": [
    "summary.loc[['mean']]['Length']"
   ]
  },
  {
   "cell_type": "code",
   "execution_count": 8,
   "metadata": {
    "colab": {
     "base_uri": "https://localhost:8080/"
    },
    "id": "JNifW_tIwlKh",
    "outputId": "ede7a615-d804-47c5-bb58-f4699e8387ef"
   },
   "outputs": [
    {
     "data": {
      "text/plain": [
       "Index(['Length', 'Diameter', 'Height', 'Whl weight', 'Shckd weight', 'Visc weight', 'Shll weight', 'Rings'], dtype='object')"
      ]
     },
     "execution_count": 8,
     "metadata": {
      "tags": []
     },
     "output_type": "execute_result"
    }
   ],
   "source": [
    "summary.columns"
   ]
  },
  {
   "cell_type": "code",
   "execution_count": null,
   "metadata": {
    "id": "8_y_iNn2wlKh"
   },
   "outputs": [],
   "source": [
    "# We start by making a copy of the original data frame, minus the sex attribute.\n",
    "abalone2 = abalone.iloc[:,1:9]\n",
    "# We'll iterate through each attribute, and for each attribute we'll change all the rows at once.\n",
    "for (i,col) in enumerate(summary.columns):\n",
    "    # Grab the mean and std of attribute i\n",
    "    mean = summary.loc['mean'][col]\n",
    "    std = summary.loc['std'][col]\n",
    "    # LHS: what's being changed, RHS, what it's changing to.\n",
    "    # We convert to STD units, distance from mean divided by STD\n",
    "    abalone2.iloc[:,i:(i + 1)] = (\n",
    "              abalone2.iloc[:,i:(i + 1)] - mean) / std"
   ]
  },
  {
   "cell_type": "markdown",
   "metadata": {
    "id": "uZF-3yCnwlKi"
   },
   "source": [
    "Now we have **centered** the data in `abalone2` (placed all the mean values at 0 and represented\n",
    "the distances from the mean in STD units).\n",
    "\n",
    "Now we replot usinhg `abalone2`."
   ]
  },
  {
   "cell_type": "code",
   "execution_count": null,
   "metadata": {
    "colab": {
     "base_uri": "https://localhost:8080/",
     "height": 516
    },
    "id": "fmf-xJvawlKi",
    "outputId": "fb54be39-7fa0-4aba-d804-2e506ed5ab89"
   },
   "outputs": [
    {
     "data": {
      "text/plain": [
       "Text(0.5, 1.0, 'Renormalized data')"
      ]
     },
     "execution_count": 8,
     "metadata": {
      "tags": []
     },
     "output_type": "execute_result"
    },
    {
     "data": {
      "image/png": "[encoded data removed]",
      "text/plain": [
       "<Figure size 720x576 with 1 Axes>"
      ]
     },
     "metadata": {
      "needs_background": "light",
      "tags": []
     },
     "output_type": "display_data"
    }
   ],
   "source": [
    "# replot\n",
    "plot_array3 = abalone2.values\n",
    "plot.boxplot(plot_array3)\n",
    "plot.xticks(list(range(1,9)),abalone.columns[1:9])\n",
    "plot.ylim((-4,+7))\n",
    "plot.ylabel((\"Quartile Ranges - Renormalized \"))\n",
    "plot.title('Renormalized data')"
   ]
  },
  {
   "cell_type": "markdown",
   "metadata": {
    "id": "-C60KOobwlKi"
   },
   "source": [
    "Now we see some new details.  The 0 point on the y-axis is now the mean, and by looking at the placement of the median in the box we can see whether the median is above or below the mean. \n",
    "\n",
    "The `Rings` attribute has an outlier that's 6 STD units above the mean.  That's extreme.  If this were IQ, that would be an Einstein; if this were basketball talent, that would be Michael Jordan.  Since we're talking about age, what we have here is a Methusalah among abalones. In other words, that's one **very** old abalone."
   ]
  },
  {
   "cell_type": "markdown",
   "metadata": {
    "id": "Xy_KSjInwlKj"
   },
   "source": [
    "## Limitations  of boxplots"
   ]
  },
  {
   "cell_type": "markdown",
   "metadata": {
    "id": "SrUkQrlSwlKj"
   },
   "source": [
    "Boxplots look at multivariate data one dimension at a time.  You can learn a lot\n",
    "that way, but there are some things you are not going to learn.\n",
    "\n",
    "Let's make some fictional data.  I'm going to generate some points that lie\n",
    "on a line, but not **exactly** on the line, and then I'm going to add in\n",
    "an outlier. This will be the kind of outlier a boxplot won't show you.\n",
    "\n"
   ]
  },
  {
   "cell_type": "code",
   "execution_count": null,
   "metadata": {
    "colab": {
     "base_uri": "https://localhost:8080/",
     "height": 282
    },
    "id": "n_PBuQtJwlKj",
    "outputId": "7a686ee5-eabd-45cf-a6f9-7a0e77e5be75",
    "scrolled": true
   },
   "outputs": [
    {
     "data": {
      "text/plain": [
       "Text(6.8, 2.8, 'A')"
      ]
     },
     "execution_count": 9,
     "metadata": {
      "tags": []
     },
     "output_type": "execute_result"
    },
    {
     "data": {
      "image/png": "[encoded data removed]",
      "text/plain": [
       "<Figure size 432x288 with 1 Axes>"
      ]
     },
     "metadata": {
      "needs_background": "light",
      "tags": []
     },
     "output_type": "display_data"
    }
   ],
   "source": [
    "%matplotlib  inline\n",
    "import numpy as np\n",
    "import matplotlib.pyplot as plt\n",
    "\n",
    "N= 50\n",
    "seed= 47\n",
    "#outlier_idx = 5\n",
    "outlier_idx = 20\n",
    "mu, sigma = 0, 1. # mean and standard deviation for our NOISE\n",
    "np.random.seed(seed)\n",
    "noise = np.random.normal(mu, sigma, N)\n",
    "x = np.linspace(0,10,N)\n",
    "(m,b) = 2.,1.\n",
    "# Out well-behaved line\n",
    "y = m*x + b\n",
    "#Add the noise to JIGGLE points off the line\n",
    "yprime = y + noise\n",
    "# Create an outlier here\n",
    "yprime[-outlier_idx] = 4\n",
    "plt.plot(x,y,c=\"r\")\n",
    "ax = plt.gca()\n",
    "\n",
    "plt.scatter(x,yprime)\n",
    "ax.annotate(\"A\", xy = (x[-outlier_idx],yprime[-outlier_idx]),xycoords='data', \n",
    "            xytext = (6.8,2.8), textcoords='offset points',\n",
    "            size=15)\n",
    "#plt.draw()"
   ]
  },
  {
   "cell_type": "markdown",
   "metadata": {
    "id": "05VhQmEzwlKj"
   },
   "source": [
    "Look at the point A.  It is a visual outlier, clearly. Mathematically, the distance from the line far greater than the distance for any other point.  Yet notice that it is **not** an outlier if\n",
    "we look at  the `x`-values alone or the `y`-values alone."
   ]
  },
  {
   "cell_type": "code",
   "execution_count": null,
   "metadata": {
    "colab": {
     "base_uri": "https://localhost:8080/"
    },
    "id": "_H38Jt6ZwlKj",
    "outputId": "1fa292fa-1a66-4270-91b7-18eb45e1e52e"
   },
   "outputs": [
    {
     "data": {
      "text/plain": [
       "6.122448979591837"
      ]
     },
     "execution_count": 10,
     "metadata": {
      "tags": []
     },
     "output_type": "execute_result"
    }
   ],
   "source": [
    "x[-outlier_idx]"
   ]
  },
  {
   "cell_type": "code",
   "execution_count": null,
   "metadata": {
    "colab": {
     "base_uri": "https://localhost:8080/"
    },
    "id": "r7SrGchvwlKj",
    "outputId": "c1d65691-49d1-4bfc-8eb5-00c915c354f2"
   },
   "outputs": [
    {
     "name": "stdout",
     "output_type": "stream",
     "text": [
      "x min 0.000  max 10.000\n",
      "y min 0.152  max 21.742\n",
      "\n",
      "out:\n",
      "x 6.122\n",
      "y 4.000\n"
     ]
    }
   ],
   "source": [
    "print(\"x min {0:.3f}  max {1:.3f}\".format(x.min(), x.max()))\n",
    "print(\"y min {0:.3f}  max {1:.3f}\".format(yprime.min(), yprime.max()))\n",
    "print()\n",
    "print(\"out:\")\n",
    "print('x {0:.3f}'.format(x[-outlier_idx]))\n",
    "print('y {0:.3f}'.format(yprime[-outlier_idx]))"
   ]
  },
  {
   "cell_type": "markdown",
   "metadata": {
    "id": "1XfIqYyZwlKk"
   },
   "source": [
    "The box plot for **y** will not show this outlier point as an outlier. It lies well\n",
    "off the `y`-minimum of -.175 and the `x`-maximum of 20.724\n",
    "\n",
    "The moral is that when looking at multivariate data, there are some generalizations\n",
    "you can **only** see by looking at multiple dimensions simultaneously.  And we need\n",
    "other visualization tools for that purpose.  The picture above shows us that a 2D scatterplot\n",
    "can in fact show us 2D generalizations. But what applies to 1 dimension versus 2 also applies to 2 versus 3,\n",
    "and so on.  In multi-dimensional data, when looking at less than the full array\n",
    "of dimensions, there always the possibility of missing some higher dimensional\n",
    "generalization.\n",
    "\n",
    "And that's something to be aware whenever you tell a story using\n",
    "a graphical simplification.  This is a point emphasized in Tufte (1983), an excellent source\n",
    "for design principles governing visualization of quantitative data."
   ]
  },
  {
   "cell_type": "markdown",
   "metadata": {
    "id": "eEcXU61-75zp"
   },
   "source": [
    "Another limitation.  The IQR divides the data up rather coarsely, and there are important structurasl properties of the divisions that may go undiscovered as a result.\n",
    "\n",
    "Here is a simple example, two distributions X and Y with identical means and identically-sized IQRs, but an an importance difference which can be seen in their histograms. "
   ]
  },
  {
   "cell_type": "code",
   "execution_count": 9,
   "metadata": {
    "colab": {
     "base_uri": "https://localhost:8080/",
     "height": 276
    },
    "id": "59i2bfFO78Ha",
    "outputId": "6507993b-c27a-41c1-f682-fb7e4e2b5233"
   },
   "outputs": [
    {
     "name": "stdout",
     "output_type": "stream",
     "text": [
      "X: [1. 1. 1. 2. 2. 2. 3. 3. 3. 4. 4. 4. 5. 5. 5. 6. 6. 6.]\n",
      "Y: [1. 1. 3. 3. 4. 4. 6. 6. 2. 2. 2. 2. 2. 5. 5. 5. 5. 5.]\n",
      "\n"
     ]
    },
    {
     "data": {
      "image/png": "[encoded data removed]",
      "text/plain": [
       "<Figure size 720x216 with 2 Axes>"
      ]
     },
     "metadata": {
      "needs_background": "light",
      "tags": []
     },
     "output_type": "display_data"
    }
   ],
   "source": [
    "import numpy as np\n",
    "import matplotlib.pyplot as plt\n",
    "X = np.hstack([a*np.ones(3) for a in range(1,7)])\n",
    "print(f'X: {X}')\n",
    "Y0 = np.hstack([a*np.ones(2) for a in [1,3,4,6]])\n",
    "Y1 = np.hstack([a*np.ones(5) for a in [2,5]])\n",
    "Y = np.hstack([Y0,Y1])\n",
    "print(f'Y: {Y}')\n",
    "print()\n",
    "fig, (ax1,ax2) = plt.subplots(1,2,figsize=(10,3))\n",
    "bins, brange,rwidth,align = 6, (.5,6.5), .4, 'mid'\n",
    "#ax1.hist(X,align='mid',bins=bins,rwidth=rwidth)\n",
    "ax1.hist(X,bins=bins,range=brange, align=align,rwidth=rwidth)\n",
    "ax1.set_yticks(ticks=[0,1,2,3])\n",
    "_T1 = ax1.set_title('X')\n",
    "ax2.hist(Y,bins=bins,range=brange, align=align,rwidth=rwidth,color='k')\n",
    "_T2 = ax2.set_title('Y')\n",
    "#ax2.hist(Y,color='black',range=(.5,6.5), align='mid',rwidth=rwidth)#bins=bins,rwidth=rwidth)"
   ]
  },
  {
   "cell_type": "markdown",
   "metadata": {
    "id": "c22NJ0Sc5GvL"
   },
   "source": [
    "So we have what looks like it may be bimodal data on the right (two clear peaks), possibly the result of two populations with different means. But look what the violin plots show."
   ]
  },
  {
   "cell_type": "code",
   "execution_count": 8,
   "metadata": {
    "colab": {
     "base_uri": "https://localhost:8080/",
     "height": 197
    },
    "id": "mEoERofS5F1T",
    "outputId": "55ddcec9-8398-44a0-d4c9-8dcccc069eb1"
   },
   "outputs": [
    {
     "data": {
      "image/png": "[encoded data removed]",
      "text/plain": [
       "<Figure size 720x216 with 2 Axes>"
      ]
     },
     "metadata": {
      "needs_background": "light",
      "tags": []
     },
     "output_type": "display_data"
    }
   ],
   "source": [
    "fig, (ax1,ax2) = plt.subplots(1,2,figsize=(10,3))\n",
    "L1 = ax1.boxplot(X)\n",
    "L2 = ax2.boxplot(Y)\n",
    "_ = ax1.set_xticks(ticks=[])\n",
    "_ = ax2.set_xticks(ticks=[])"
   ]
  },
  {
   "cell_type": "markdown",
   "metadata": {
    "id": "hkWpFLQl6nZj"
   },
   "source": [
    "We have two samples X and Y with identical medians of 3.5. Both sample populations have size 18, and in both cases the 4  values above and below the median (the IQR) fall between 2 and 5.  Result: identical boxplots.\n",
    "\n",
    "The crucial difference revealed by the histograms remains invisible in the boxplot visualization.  This is because in both cases the values are symmetrically distributed around the median, and the difference between those symmetries falls outside the scope of what a boxplot was designed to represent."
   ]
  },
  {
   "cell_type": "code",
   "execution_count": null,
   "metadata": {
    "id": "oX_7jrUm5FDA"
   },
   "outputs": [],
   "source": []
  },
  {
   "cell_type": "markdown",
   "metadata": {
    "id": "eG6G_-hawlKk"
   },
   "source": [
    "# Violin Plots"
   ]
  },
  {
   "cell_type": "markdown",
   "metadata": {
    "id": "3ZLJfwJDwlKk"
   },
   "source": [
    "Note that although violin plots are closely related to Tukey's (1977)\n",
    "box plots, they add useful information such as the distribution of the\n",
    "sample data (density trace).\n",
    "\n",
    "By default, box plots show data points outside 1.5 * the inter-quartile\n",
    "range as outliers above or below the whiskers whereas violin plots show\n",
    "the whole range of the data.\n",
    "\n",
    "A good general reference on boxplots and their history can be found\n",
    "[here.](http://vita.had.co.nz/papers/boxplots.pdf)\n",
    "\n",
    "Violin plots require matplotlib >= 1.4.\n",
    "\n",
    "For more information on violin plots, the scikit-learn docs have [a great\n",
    "section.](http://scikit-learn.org/stable/modules/density.html)"
   ]
  },
  {
   "cell_type": "markdown",
   "metadata": {
    "id": "NFeMvWpFwlKk"
   },
   "source": [
    "Here's a nice demonstration of the basic idea, contrasting what a violin\n",
    "plot gives you with what a boxplot gives you, on some random data."
   ]
  },
  {
   "cell_type": "code",
   "execution_count": null,
   "metadata": {
    "colab": {
     "base_uri": "https://localhost:8080/",
     "height": 295
    },
    "id": "Qu6vlpz1wlKk",
    "outputId": "04b33390-384c-4534-a4da-2a19f7890c09"
   },
   "outputs": [
    {
     "data": {
      "image/png": "[encoded data removed]",
      "text/plain": [
       "<Figure size 648x288 with 2 Axes>"
      ]
     },
     "metadata": {
      "needs_background": "light",
      "tags": []
     },
     "output_type": "display_data"
    }
   ],
   "source": [
    "import matplotlib.pyplot as plt\n",
    "import numpy as np\n",
    "\n",
    "fig, axes = plt.subplots(nrows=1, ncols=2, figsize=(9, 4))\n",
    "\n",
    "# generate some random test data\n",
    "all_data = [np.random.normal(0, std, 100) for std in range(6, 10)]\n",
    "\n",
    "# plot violin plot\n",
    "axes[0].violinplot(all_data,\n",
    "                   showmeans=False,\n",
    "                   showmedians=True)\n",
    "axes[0].set_title('violin plot')\n",
    "\n",
    "# plot box plot\n",
    "axes[1].boxplot(all_data)\n",
    "axes[1].set_title('box plot')\n",
    "\n",
    "# adding horizontal grid lines\n",
    "for ax in axes:\n",
    "    ax.yaxis.grid(True)\n",
    "    ax.set_xticks([y+1 for y in range(len(all_data))])\n",
    "    ax.set_xlabel('xlabel')\n",
    "    ax.set_ylabel('ylabel')\n",
    "\n",
    "# add x-tick labels\n",
    "plt.setp(axes, xticks=[y+1 for y in range(len(all_data))],\n",
    "         xticklabels=['x1', 'x2', 'x3', 'x4'])\n",
    "#plt.savefig('box_viol_plot_example.png')\n",
    "plt.show()"
   ]
  },
  {
   "cell_type": "code",
   "execution_count": null,
   "metadata": {
    "id": "LnuD_CZ-wlKk"
   },
   "outputs": [],
   "source": []
  },
  {
   "cell_type": "markdown",
   "metadata": {
    "id": "5GjigfJkwlKk"
   },
   "source": [
    "Below we've loaded the image created by saving one particular run of the above code.  Because random\n",
    "sampling is used, the pictures created will vary slightly each time you execute the code.\n",
    "\n",
    "\n",
    "![boxplot_violin_example.png](https://drive.google.com/uc?export=view&id=1R_LlQl9Gd8txKb-wHX89Odhk70zaraZm)\n",
    "  \n",
    "![box_viol_plot_example.png](attachment:box_viol_plot_example.png)\n",
    "\n",
    "The key point to notice is that all the medians (the horizontal midlines shown in both kinds\n",
    "of plot) are in roughly the same place.  However, that does not mean the population is\n",
    "concentrated around that midline.  Notice that the violin plot on the left shows that, for `x3` the fat part of the violin (the value attracting the greatest number of points) is around -5, while for `x2` the fat part of the violin is near 0. These differences are hinted at in the box plot (the median is further below the mean in `x3`),\n",
    "but they are not as clearly visualized."
   ]
  },
  {
   "cell_type": "markdown",
   "metadata": {
    "id": "vJITBouIwlKl"
   },
   "source": [
    "# Abalone data revisited"
   ]
  },
  {
   "cell_type": "code",
   "execution_count": null,
   "metadata": {
    "id": "tyyQWMmLwlKl"
   },
   "outputs": [],
   "source": [
    "import pandas as pd\n",
    "from pandas import DataFrame\n",
    "import pylab\n",
    "#from pylab import *\n",
    "import matplotlib.pyplot as plot\n",
    "pd.set_option('display.width',200)\n",
    "\n",
    "target_url = (\"http://archive.ics.uci.edu/ml/machine-\"\n",
    "              \"learning-databases/abalone/abalone.data\")\n",
    "#read abalone data.  This file has no column names (header = None),\n",
    "# so we provide them ourselves.\n",
    "abalone = pd.read_csv(target_url,header=None, prefix=\"V\")\n",
    "abalone.columns = ['Sex', 'Length', 'Diameter', 'Height', 'Whl weight',\n",
    "                   'Shckd weight', 'Visc weight', 'Shll weight',\n",
    "                   'Rings']\n",
    "summary = abalone.describe()\n",
    "# We start by making a copy of the original data frame, minus the sex attribute.\n",
    "abalone2 = abalone.iloc[:,1:9]\n",
    "# We'll iterate through each attribute, and for each attribute we'll change all the rows at once.\n",
    "for i in range(8):\n",
    "    # Grab the mean and std of attribute i\n",
    "    mean = summary.iloc[1, i]\n",
    "    std = summary.iloc[2, i]\n",
    "    # LHS: what's being changed, RHS, what it's changing to.\n",
    "    # We convert to STD units, distance from mean divided by STD\n",
    "    abalone2.iloc[:,i:(i + 1)] = (\n",
    "              abalone2.iloc[:,i:(i + 1)] - mean) / std\n",
    "#abalone2 = abalone.iloc[:,1:9]\n",
    "plot_array3 = abalone2.values"
   ]
  },
  {
   "cell_type": "code",
   "execution_count": null,
   "metadata": {
    "id": "jHH-c42_wlKl",
    "outputId": "748765af-4015-4c4d-bbd4-aa535540a822",
    "scrolled": true
   },
   "outputs": [
    {
     "data": {
      "text/plain": [
       "Text(0.5, 1.0, 'Violin Plot')"
      ]
     },
     "execution_count": 55,
     "metadata": {
      "tags": []
     },
     "output_type": "execute_result"
    },
    {
     "data": {
      "image/png": "[encoded data removed]",
      "text/plain": [
       "<Figure size 864x432 with 2 Axes>"
      ]
     },
     "metadata": {
      "needs_background": "light",
      "tags": []
     },
     "output_type": "display_data"
    }
   ],
   "source": [
    "%matplotlib inline\n",
    "import matplotlib.pyplot as plt\n",
    "import numpy as np\n",
    "#fig, axes = plt.subplots(nrows=1, ncols=2, figsize=(12, 6))\n",
    "figure = plt.figure(figsize=(12,6))\n",
    "# Make the figures big enough for the optically challenged.\n",
    "#pylab.rcParams['figure.figsize'] = (10.0, 8.0)\n",
    "# We start by making a copy of the original data frame, minus the sex attribute.\n",
    "#replot\n",
    "plot.subplot(121)\n",
    "plot.boxplot(plot_array3)\n",
    "plot.xticks(range(1,9),abalone.columns[1:9],rotation=40,ha='right')\n",
    "#axes[0].boxplot(plot_array3)\n",
    "#axes[0].set_xticks(range(1,9))\n",
    "#axes[0].set_xticklabels(abalone.columns[1:9],rotation=45,ha='right')\n",
    "plot.ylim((-4,+7))\n",
    "plot.ylabel((\"Quartile Ranges - Renormalized \"))\n",
    "plot.title('Boxplot')\n",
    "#axes[0].boxplot(plot_array3)\n",
    "plot.subplot(122)\n",
    "#axes[1].xticks(range(1,9),abalone.columns[1:9])\n",
    "#plot.xticks(range(1,9))\n",
    "plot.xticks(range(1,9), abalone.columns[1:9],rotation=40,ha='right')\n",
    "plot.ylim((-4,+7))\n",
    "plot.yticks([],[])\n",
    "#axes[1].set_ylabel((\"Quartile Ranges - Renormalized \"))\n",
    "plot.violinplot(plot_array3)\n",
    "plot.title('Violin Plot')"
   ]
  },
  {
   "cell_type": "markdown",
   "metadata": {
    "collapsed": true,
    "id": "tgFkRJt4wlKl"
   },
   "source": [
    "## Homework questions"
   ]
  },
  {
   "cell_type": "markdown",
   "metadata": {
    "id": "T-W6GXJcwlKl"
   },
   "source": [
    "1. In the abalone data, explain why the numbers on the y-axis have changed between the plot labeled \"Independent variables\" and the plot labeled \"renormalized data\".  What attributes have medians that are above the mean?\n",
    "2. State in your own words what it means that the horizontal bar on the lower whisker is placed so high on the weight attributes? [Hint: Look at those attributes in the plot labeled 'Independent Variables'.]\n",
    "3. Propose a verbal explanation for why the median is below the mean for the 'Rings' attribute.  In other words, what\n",
    "   fact about abalone shells does this represent? [Hint: Remember what the value of the rings attribute tells us.]\n",
    "   Compare this case to the case of the fictional housing market discussed in our normal distribution notebook.\n",
    "4. The next cell shows the box plot for some new data, showing clause lengths in the plays of Seneca. \n",
    "   The data has not been renormalized.  The units on the y-axis are, roughly, syllables; 12 syllables is one line. \n",
    "   Answer the following questions.\n",
    "   1.  For each play, estimate what percentage of the clauses fall at or below the median clause length.\n",
    "   2.  For each play, estimate what percentage of the clauses have a length of 12 or less.\n",
    "   3.  Plays Pha (*Phaedra*) and Oct (*Octavia*) have the same median clause length (the red line), but the red  lines \n",
    "       are placed differently in the box.  Explain what that means.  In particular, what does it mean for *Phaedra* to have a median that is pinned to the upper edge of the IQR box?  Hint: Remember clause length can only take integer values.  A clause can't have 3.5 syllables."
   ]
  },
  {
   "cell_type": "markdown",
   "metadata": {
    "id": "-8DV9j8d6xQn"
   },
   "source": [
    "![seneca_clause_lengths.png](https://drive.google.com/uc?export=view&id=1E6AnpQdwfpw-CVpwRdUbQ1Iu9oFoPu5J)"
   ]
  },
  {
   "cell_type": "markdown",
   "metadata": {
    "id": "lDNxrOUawlKl"
   },
   "source": [
    "## References"
   ]
  },
  {
   "cell_type": "markdown",
   "metadata": {
    "collapsed": true,
    "id": "0XemMv4PwlKm"
   },
   "source": [
    "McGill, R., Tukey, John W., and Larsen, W. A. 1978. *The American Statistician*. Vol. 32, No. 1, Feb., 1978, pp. 12-16.\n",
    "\n",
    "Tufte, E. R. 1983. The visual display of quantitative data. Cheshire, CT: Graphics.\n",
    "\n",
    "Tukey, John W. 1962. The Future of Data Analysis. Ann. Math. Statist. 33, no. 1, pp. 1--67. doi:10.1214/aoms/1177704711. http://projecteuclid.org/euclid.aoms/1177704711.\n",
    "\n",
    "\n"
   ]
  }
 ],
 "metadata": {
  "colab": {
   "collapsed_sections": [],
   "name": "boxplot.ipynb",
   "provenance": []
  },
  "kernelspec": {
   "display_name": "Python 3",
   "language": "python",
   "name": "python3"
  },
  "language_info": {
   "codemirror_mode": {
    "name": "ipython",
    "version": 3
   },
   "file_extension": ".py",
   "mimetype": "text/x-python",
   "name": "python",
   "nbconvert_exporter": "python",
   "pygments_lexer": "ipython3",
   "version": "3.7.0"
  },
  "name": "_merged",
  "toc": {
   "base_numbering": 1,
   "nav_menu": {
    "height": "84px",
    "width": "252px"
   },
   "number_sections": true,
   "sideBar": true,
   "skip_h1_title": false,
   "title_cell": "Table of Contents",
   "title_sidebar": "Contents",
   "toc_cell": false,
   "toc_position": {},
   "toc_section_display": "block",
   "toc_window_display": false
  }
 },
 "nbformat": 4,
 "nbformat_minor": 1
}
