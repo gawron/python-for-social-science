{
 "cells": [
  {
   "cell_type": "markdown",
   "id": "a38414ed",
   "metadata": {},
   "source": [
    "## Regression assignment"
   ]
  },
  {
   "cell_type": "code",
   "execution_count": 3,
   "id": "1172eeb6",
   "metadata": {
    "id": "xKVNKICMrcrV"
   },
   "outputs": [],
   "source": [
    "from __future__ import division, print_function, unicode_literals\n",
    "\n",
    "# Common imports\n",
    "import numpy as np\n",
    "import numpy.random as rnd\n",
    "import os.path\n",
    "\n",
    "# to make this notebook's output stable across runs\n",
    "rnd.seed(4)\n",
    "\n",
    "# To plot pretty figures\n",
    "%matplotlib inline\n",
    "import matplotlib\n",
    "import matplotlib.pyplot as plt\n",
    "plt.rcParams['axes.labelsize'] = 14\n",
    "plt.rcParams['xtick.labelsize'] = 12\n",
    "plt.rcParams['ytick.labelsize'] = 12\n",
    "\n",
    "# Where to save the figures\n",
    "PROJECT_ROOT_DIR = \".\"\n",
    "\n",
    "def save_fig(fig_id, tight_layout=True):\n",
    "    image_dir = os.path.join(PROJECT_ROOT_DIR, \"images\")\n",
    "    if not os.path.exists(image_dir):\n",
    "        os.makedirs(image_dir)\n",
    "    path = os.path.join(image_dir, fig_id + \".png\")\n",
    "    print(\"Saving figure\", fig_id)\n",
    "    if tight_layout:\n",
    "        plt.tight_layout()\n",
    "    plt.savefig(path, format='png', dpi=300)"
   ]
  },
  {
   "cell_type": "markdown",
   "id": "59b59afe",
   "metadata": {
    "id": "ji28SF7rrcrW"
   },
   "source": [
    "## Loading the data "
   ]
  },
  {
   "cell_type": "markdown",
   "id": "8fc641c6",
   "metadata": {},
   "source": [
    "This is Kaggle data on California housing which has been copied to my website to evade updates."
   ]
  },
  {
   "cell_type": "code",
   "execution_count": 4,
   "id": "d96d7e30",
   "metadata": {
    "id": "WfbtzpHErcrX"
   },
   "outputs": [],
   "source": [
    "import pandas as pd\n",
    "HOUSING_PATH = \"http://gawron.sdsu.edu/housing.csv\"\n",
    "def load_housing_data(housing_path=HOUSING_PATH):\n",
    "    csv_path = housing_path#os.path.join(housing_path, \"housing.csv\")\n",
    "    return pd.read_csv(csv_path)"
   ]
  },
  {
   "cell_type": "code",
   "execution_count": 5,
   "id": "69c01bfa",
   "metadata": {},
   "outputs": [
    {
     "name": "stdout",
     "output_type": "stream",
     "text": [
      "(20640, 10)\n"
     ]
    },
    {
     "data": {
      "text/html": [
       "<div>\n",
       "<style scoped>\n",
       "    .dataframe tbody tr th:only-of-type {\n",
       "        vertical-align: middle;\n",
       "    }\n",
       "\n",
       "    .dataframe tbody tr th {\n",
       "        vertical-align: top;\n",
       "    }\n",
       "\n",
       "    .dataframe thead th {\n",
       "        text-align: right;\n",
       "    }\n",
       "</style>\n",
       "<table border=\"1\" class=\"dataframe\">\n",
       "  <thead>\n",
       "    <tr style=\"text-align: right;\">\n",
       "      <th></th>\n",
       "      <th>longitude</th>\n",
       "      <th>latitude</th>\n",
       "      <th>housing_median_age</th>\n",
       "      <th>total_rooms</th>\n",
       "      <th>total_bedrooms</th>\n",
       "      <th>population</th>\n",
       "      <th>households</th>\n",
       "      <th>median_income</th>\n",
       "      <th>median_house_value</th>\n",
       "      <th>ocean_proximity</th>\n",
       "    </tr>\n",
       "  </thead>\n",
       "  <tbody>\n",
       "    <tr>\n",
       "      <th>0</th>\n",
       "      <td>-122.23</td>\n",
       "      <td>37.88</td>\n",
       "      <td>41.0</td>\n",
       "      <td>880.0</td>\n",
       "      <td>129.0</td>\n",
       "      <td>322.0</td>\n",
       "      <td>126.0</td>\n",
       "      <td>8.3252</td>\n",
       "      <td>452600.0</td>\n",
       "      <td>NEAR BAY</td>\n",
       "    </tr>\n",
       "    <tr>\n",
       "      <th>1</th>\n",
       "      <td>-122.22</td>\n",
       "      <td>37.86</td>\n",
       "      <td>21.0</td>\n",
       "      <td>7099.0</td>\n",
       "      <td>1106.0</td>\n",
       "      <td>2401.0</td>\n",
       "      <td>1138.0</td>\n",
       "      <td>8.3014</td>\n",
       "      <td>358500.0</td>\n",
       "      <td>NEAR BAY</td>\n",
       "    </tr>\n",
       "    <tr>\n",
       "      <th>2</th>\n",
       "      <td>-122.24</td>\n",
       "      <td>37.85</td>\n",
       "      <td>52.0</td>\n",
       "      <td>1467.0</td>\n",
       "      <td>190.0</td>\n",
       "      <td>496.0</td>\n",
       "      <td>177.0</td>\n",
       "      <td>7.2574</td>\n",
       "      <td>352100.0</td>\n",
       "      <td>NEAR BAY</td>\n",
       "    </tr>\n",
       "    <tr>\n",
       "      <th>3</th>\n",
       "      <td>-122.25</td>\n",
       "      <td>37.85</td>\n",
       "      <td>52.0</td>\n",
       "      <td>1274.0</td>\n",
       "      <td>235.0</td>\n",
       "      <td>558.0</td>\n",
       "      <td>219.0</td>\n",
       "      <td>5.6431</td>\n",
       "      <td>341300.0</td>\n",
       "      <td>NEAR BAY</td>\n",
       "    </tr>\n",
       "    <tr>\n",
       "      <th>4</th>\n",
       "      <td>-122.25</td>\n",
       "      <td>37.85</td>\n",
       "      <td>52.0</td>\n",
       "      <td>1627.0</td>\n",
       "      <td>280.0</td>\n",
       "      <td>565.0</td>\n",
       "      <td>259.0</td>\n",
       "      <td>3.8462</td>\n",
       "      <td>342200.0</td>\n",
       "      <td>NEAR BAY</td>\n",
       "    </tr>\n",
       "    <tr>\n",
       "      <th>...</th>\n",
       "      <td>...</td>\n",
       "      <td>...</td>\n",
       "      <td>...</td>\n",
       "      <td>...</td>\n",
       "      <td>...</td>\n",
       "      <td>...</td>\n",
       "      <td>...</td>\n",
       "      <td>...</td>\n",
       "      <td>...</td>\n",
       "      <td>...</td>\n",
       "    </tr>\n",
       "    <tr>\n",
       "      <th>20635</th>\n",
       "      <td>-121.09</td>\n",
       "      <td>39.48</td>\n",
       "      <td>25.0</td>\n",
       "      <td>1665.0</td>\n",
       "      <td>374.0</td>\n",
       "      <td>845.0</td>\n",
       "      <td>330.0</td>\n",
       "      <td>1.5603</td>\n",
       "      <td>78100.0</td>\n",
       "      <td>INLAND</td>\n",
       "    </tr>\n",
       "    <tr>\n",
       "      <th>20636</th>\n",
       "      <td>-121.21</td>\n",
       "      <td>39.49</td>\n",
       "      <td>18.0</td>\n",
       "      <td>697.0</td>\n",
       "      <td>150.0</td>\n",
       "      <td>356.0</td>\n",
       "      <td>114.0</td>\n",
       "      <td>2.5568</td>\n",
       "      <td>77100.0</td>\n",
       "      <td>INLAND</td>\n",
       "    </tr>\n",
       "    <tr>\n",
       "      <th>20637</th>\n",
       "      <td>-121.22</td>\n",
       "      <td>39.43</td>\n",
       "      <td>17.0</td>\n",
       "      <td>2254.0</td>\n",
       "      <td>485.0</td>\n",
       "      <td>1007.0</td>\n",
       "      <td>433.0</td>\n",
       "      <td>1.7000</td>\n",
       "      <td>92300.0</td>\n",
       "      <td>INLAND</td>\n",
       "    </tr>\n",
       "    <tr>\n",
       "      <th>20638</th>\n",
       "      <td>-121.32</td>\n",
       "      <td>39.43</td>\n",
       "      <td>18.0</td>\n",
       "      <td>1860.0</td>\n",
       "      <td>409.0</td>\n",
       "      <td>741.0</td>\n",
       "      <td>349.0</td>\n",
       "      <td>1.8672</td>\n",
       "      <td>84700.0</td>\n",
       "      <td>INLAND</td>\n",
       "    </tr>\n",
       "    <tr>\n",
       "      <th>20639</th>\n",
       "      <td>-121.24</td>\n",
       "      <td>39.37</td>\n",
       "      <td>16.0</td>\n",
       "      <td>2785.0</td>\n",
       "      <td>616.0</td>\n",
       "      <td>1387.0</td>\n",
       "      <td>530.0</td>\n",
       "      <td>2.3886</td>\n",
       "      <td>89400.0</td>\n",
       "      <td>INLAND</td>\n",
       "    </tr>\n",
       "  </tbody>\n",
       "</table>\n",
       "<p>20640 rows × 10 columns</p>\n",
       "</div>"
      ],
      "text/plain": [
       "       longitude  latitude  housing_median_age  total_rooms  total_bedrooms  \\\n",
       "0        -122.23     37.88                41.0        880.0           129.0   \n",
       "1        -122.22     37.86                21.0       7099.0          1106.0   \n",
       "2        -122.24     37.85                52.0       1467.0           190.0   \n",
       "3        -122.25     37.85                52.0       1274.0           235.0   \n",
       "4        -122.25     37.85                52.0       1627.0           280.0   \n",
       "...          ...       ...                 ...          ...             ...   \n",
       "20635    -121.09     39.48                25.0       1665.0           374.0   \n",
       "20636    -121.21     39.49                18.0        697.0           150.0   \n",
       "20637    -121.22     39.43                17.0       2254.0           485.0   \n",
       "20638    -121.32     39.43                18.0       1860.0           409.0   \n",
       "20639    -121.24     39.37                16.0       2785.0           616.0   \n",
       "\n",
       "       population  households  median_income  median_house_value  \\\n",
       "0           322.0       126.0         8.3252            452600.0   \n",
       "1          2401.0      1138.0         8.3014            358500.0   \n",
       "2           496.0       177.0         7.2574            352100.0   \n",
       "3           558.0       219.0         5.6431            341300.0   \n",
       "4           565.0       259.0         3.8462            342200.0   \n",
       "...           ...         ...            ...                 ...   \n",
       "20635       845.0       330.0         1.5603             78100.0   \n",
       "20636       356.0       114.0         2.5568             77100.0   \n",
       "20637      1007.0       433.0         1.7000             92300.0   \n",
       "20638       741.0       349.0         1.8672             84700.0   \n",
       "20639      1387.0       530.0         2.3886             89400.0   \n",
       "\n",
       "      ocean_proximity  \n",
       "0            NEAR BAY  \n",
       "1            NEAR BAY  \n",
       "2            NEAR BAY  \n",
       "3            NEAR BAY  \n",
       "4            NEAR BAY  \n",
       "...               ...  \n",
       "20635          INLAND  \n",
       "20636          INLAND  \n",
       "20637          INLAND  \n",
       "20638          INLAND  \n",
       "20639          INLAND  \n",
       "\n",
       "[20640 rows x 10 columns]"
      ]
     },
     "execution_count": 5,
     "metadata": {},
     "output_type": "execute_result"
    }
   ],
   "source": [
    "df = load_housing_data()\n",
    "#  We need no NaNs for what follows.  This is \n",
    "#  a big hammer, but put probably ok for what we're doing\n",
    "df.fillna(0)\n",
    "print(df.shape)\n",
    "df"
   ]
  },
  {
   "cell_type": "code",
   "execution_count": 379,
   "id": "cb113b4e",
   "metadata": {},
   "outputs": [
    {
     "name": "stdout",
     "output_type": "stream",
     "text": [
      "Med. Inc.|Med. Hou. |Z shape | Samp. Inc. | Samp. Hou.| Samp. Z\n",
      "(20640,) (20640,) (20640, 2) 8.3252 452600.0 [8.3252e+00 4.5260e+05]\n"
     ]
    }
   ],
   "source": [
    "import numpy as np\n",
    "from sklearn.preprocessing import scale\n",
    "\n",
    "X,Y = df.median_income.values, df.median_house_value.values\n",
    "Z = np.vstack([X,Y]).T\n",
    "print(\"Med. Inc.|Med. Hou. |Z shape | Samp. Inc. | Samp. Hou.| Samp. Z\")\n",
    "print(X.shape,Y.shape,Z.shape,X[0],Y[0],Z[0])\n",
    "#plt.scatter(X,Y)"
   ]
  },
  {
   "cell_type": "markdown",
   "id": "090438e4",
   "metadata": {},
   "source": [
    "What would happend if we centered and scaled data.  \n",
    "\n",
    "May not be useful for every problem."
   ]
  },
  {
   "cell_type": "code",
   "execution_count": 185,
   "id": "0e5a0606",
   "metadata": {},
   "outputs": [
    {
     "name": "stdout",
     "output_type": "stream",
     "text": [
      "         Med. inc. Med. hou.             STD inc. STD hou. \n",
      " Data Mn:   3.87   226,304        Data STD: 1.90  226,296\n",
      " Scaled Mn:  0.0  -0.0          Scaled STD: 1.00   0.11\n",
      "\n"
     ]
    }
   ],
   "source": [
    "Z_scale = scale(Z,axis=0)\n",
    "#print(Z_scale.shape)\n",
    "print(\"         Med. inc. Med. hou.             STD inc. STD hou. \")\n",
    "print(f\" Data Mn:   {Z[:,0].mean():0.2f}   {Z[:1].mean():,.0f}\"\n",
    "      f\"        Data STD: {Z[:,0].std():0.2f}  {Z[:1].std():,.0f}\\n\"\n",
    "      f\" Scaled Mn: {Z_scale[:,0].mean(): 0.1f}  {Z_scale[:,1].mean(): 0.1f}\"\n",
    "      f\"          Scaled STD: {Z_scale[:,0].std():0.2f}   {Z_scale[:1].std():0.2f}\\n\")"
   ]
  },
  {
   "cell_type": "markdown",
   "id": "ea57d893",
   "metadata": {},
   "source": [
    "#### Example:  Plot total_bedrooms versus households."
   ]
  },
  {
   "cell_type": "markdown",
   "id": "9f210394",
   "metadata": {},
   "source": [
    "Adding a log values column should be down before copies are made bysome of the otehr operations below"
   ]
  },
  {
   "cell_type": "code",
   "execution_count": 6,
   "id": "182d40b4",
   "metadata": {},
   "outputs": [],
   "source": [
    "df['log_median_income'] = np.log(df['median_income'])\n",
    "by_households = df.sort_values(by=['households'])"
   ]
  },
  {
   "cell_type": "code",
   "execution_count": 381,
   "id": "d4fe11a3",
   "metadata": {},
   "outputs": [
    {
     "data": {
      "text/plain": [
       "<AxesSubplot:xlabel='households'>"
      ]
     },
     "execution_count": 381,
     "metadata": {},
     "output_type": "execute_result"
    },
    {
     "data": {
      "image/png": "[encoded data removed]",
      "text/plain": [
       "<Figure size 2000x2000 with 1 Axes>"
      ]
     },
     "metadata": {},
     "output_type": "display_data"
    }
   ],
   "source": [
    "by_households.plot(x='households',y='total_bedrooms',figsize=(20,20))"
   ]
  },
  {
   "cell_type": "markdown",
   "id": "05e4c6f4",
   "metadata": {},
   "source": [
    "Doesn't really make sense to draw a **line** here visually.  Increasing number\n",
    "of households **generally** increases number of bedrooms, but a small increase\n",
    "in one does not with perfect reliability predict a small increase in the other.\n",
    "Hence the zigzagging.\n",
    "\n",
    "Also, for similar reasons, possibly not a function.  Two different\n",
    "communities **might** have exactly the same number of hoiuseholds,\n",
    "bit not exactly the same number of total bedrooms.\n",
    "\n",
    "Let's do some binning: we'll round off to the nearest 50 and take the mean number\n",
    "of bedrooms for each bin."
   ]
  },
  {
   "cell_type": "code",
   "execution_count": 7,
   "id": "550e6a82",
   "metadata": {},
   "outputs": [
    {
     "data": {
      "text/html": [
       "<div>\n",
       "<style scoped>\n",
       "    .dataframe tbody tr th:only-of-type {\n",
       "        vertical-align: middle;\n",
       "    }\n",
       "\n",
       "    .dataframe tbody tr th {\n",
       "        vertical-align: top;\n",
       "    }\n",
       "\n",
       "    .dataframe thead th {\n",
       "        text-align: right;\n",
       "    }\n",
       "</style>\n",
       "<table border=\"1\" class=\"dataframe\">\n",
       "  <thead>\n",
       "    <tr style=\"text-align: right;\">\n",
       "      <th></th>\n",
       "      <th>total_bedrooms</th>\n",
       "    </tr>\n",
       "    <tr>\n",
       "      <th>Households Level</th>\n",
       "      <th></th>\n",
       "    </tr>\n",
       "  </thead>\n",
       "  <tbody>\n",
       "    <tr>\n",
       "      <th>0.0</th>\n",
       "      <td>46.720365</td>\n",
       "    </tr>\n",
       "    <tr>\n",
       "      <th>50.0</th>\n",
       "      <td>97.358314</td>\n",
       "    </tr>\n",
       "    <tr>\n",
       "      <th>100.0</th>\n",
       "      <td>161.683043</td>\n",
       "    </tr>\n",
       "    <tr>\n",
       "      <th>150.0</th>\n",
       "      <td>199.337266</td>\n",
       "    </tr>\n",
       "    <tr>\n",
       "      <th>200.0</th>\n",
       "      <td>245.075658</td>\n",
       "    </tr>\n",
       "    <tr>\n",
       "      <th>...</th>\n",
       "      <td>...</td>\n",
       "    </tr>\n",
       "    <tr>\n",
       "      <th>4900.0</th>\n",
       "      <td>5419.000000</td>\n",
       "    </tr>\n",
       "    <tr>\n",
       "      <th>5050.0</th>\n",
       "      <td>5290.000000</td>\n",
       "    </tr>\n",
       "    <tr>\n",
       "      <th>5150.0</th>\n",
       "      <td>5471.000000</td>\n",
       "    </tr>\n",
       "    <tr>\n",
       "      <th>5350.0</th>\n",
       "      <td>6210.000000</td>\n",
       "    </tr>\n",
       "    <tr>\n",
       "      <th>6050.0</th>\n",
       "      <td>6445.000000</td>\n",
       "    </tr>\n",
       "  </tbody>\n",
       "</table>\n",
       "<p>94 rows × 1 columns</p>\n",
       "</div>"
      ],
      "text/plain": [
       "                  total_bedrooms\n",
       "Households Level                \n",
       "0.0                    46.720365\n",
       "50.0                   97.358314\n",
       "100.0                 161.683043\n",
       "150.0                 199.337266\n",
       "200.0                 245.075658\n",
       "...                          ...\n",
       "4900.0               5419.000000\n",
       "5050.0               5290.000000\n",
       "5150.0               5471.000000\n",
       "5350.0               6210.000000\n",
       "6050.0               6445.000000\n",
       "\n",
       "[94 rows x 1 columns]"
      ]
     },
     "execution_count": 7,
     "metadata": {},
     "output_type": "execute_result"
    }
   ],
   "source": [
    "import pandas as pd\n",
    "\n",
    "# Bins: households rounded off to the nearest 50\n",
    "by_households['Households Level'] = \\\n",
    "         by_households['households'].apply(lambda x: 50 * (x // 50))\n",
    "bh_pivot = pd.pivot_table(by_households, \n",
    "                    values='total_bedrooms',\n",
    "                    index= 'Households Level',\n",
    "                    aggfunc=np.mean)\n",
    "bh_pivot"
   ]
  },
  {
   "cell_type": "markdown",
   "id": "3c7e6b4c",
   "metadata": {},
   "source": [
    "The newly created pivot table now produces a plot that tells the story:  Exception  for a few bins in the middle range of households, the average number of bedrooms in this data set is very close to 1.  (The line we're plotting is y=x)."
   ]
  },
  {
   "cell_type": "code",
   "execution_count": 383,
   "id": "953e737a",
   "metadata": {},
   "outputs": [
    {
     "data": {
      "text/plain": [
       "Text(0, 0.5, 'Bedrooms')"
      ]
     },
     "execution_count": 383,
     "metadata": {},
     "output_type": "execute_result"
    },
    {
     "data": {
      "image/png": "[encoded data removed]",
      "text/plain": [
       "<Figure size 2000x2000 with 1 Axes>"
      ]
     },
     "metadata": {},
     "output_type": "display_data"
    }
   ],
   "source": [
    "#plt.plot(Z_scale[:,0],Z_scale[:,1])\n",
    "#bh_pivot.plot(x='households_level',y='index')\n",
    "fig, ax = plt.subplots(1,1)\n",
    "bh_pivot.plot(figsize=(20,20),ax=ax)\n",
    "plt.ylabel('Bedrooms')"
   ]
  },
  {
   "cell_type": "markdown",
   "id": "bdc60dbb",
   "metadata": {},
   "source": [
    "## The Regression Problem"
   ]
  },
  {
   "cell_type": "markdown",
   "id": "b77c6e0c",
   "metadata": {},
   "source": [
    "We'll use this form of the data, introduced in the assignment NB. It has a new column called Households level."
   ]
  },
  {
   "cell_type": "code",
   "execution_count": 8,
   "id": "2bfcd6aa",
   "metadata": {},
   "outputs": [
    {
     "data": {
      "text/html": [
       "<div>\n",
       "<style scoped>\n",
       "    .dataframe tbody tr th:only-of-type {\n",
       "        vertical-align: middle;\n",
       "    }\n",
       "\n",
       "    .dataframe tbody tr th {\n",
       "        vertical-align: top;\n",
       "    }\n",
       "\n",
       "    .dataframe thead th {\n",
       "        text-align: right;\n",
       "    }\n",
       "</style>\n",
       "<table border=\"1\" class=\"dataframe\">\n",
       "  <thead>\n",
       "    <tr style=\"text-align: right;\">\n",
       "      <th></th>\n",
       "      <th>longitude</th>\n",
       "      <th>latitude</th>\n",
       "      <th>housing_median_age</th>\n",
       "      <th>total_rooms</th>\n",
       "      <th>total_bedrooms</th>\n",
       "      <th>population</th>\n",
       "      <th>households</th>\n",
       "      <th>median_income</th>\n",
       "      <th>median_house_value</th>\n",
       "      <th>ocean_proximity</th>\n",
       "      <th>log_median_income</th>\n",
       "      <th>Households Level</th>\n",
       "    </tr>\n",
       "  </thead>\n",
       "  <tbody>\n",
       "    <tr>\n",
       "      <th>16171</th>\n",
       "      <td>-122.50</td>\n",
       "      <td>37.79</td>\n",
       "      <td>52.0</td>\n",
       "      <td>8.0</td>\n",
       "      <td>1.0</td>\n",
       "      <td>13.0</td>\n",
       "      <td>1.0</td>\n",
       "      <td>15.0001</td>\n",
       "      <td>500001.0</td>\n",
       "      <td>NEAR BAY</td>\n",
       "      <td>2.708057</td>\n",
       "      <td>0.0</td>\n",
       "    </tr>\n",
       "    <tr>\n",
       "      <th>12286</th>\n",
       "      <td>-116.95</td>\n",
       "      <td>33.86</td>\n",
       "      <td>1.0</td>\n",
       "      <td>6.0</td>\n",
       "      <td>2.0</td>\n",
       "      <td>8.0</td>\n",
       "      <td>2.0</td>\n",
       "      <td>1.6250</td>\n",
       "      <td>55000.0</td>\n",
       "      <td>INLAND</td>\n",
       "      <td>0.485508</td>\n",
       "      <td>0.0</td>\n",
       "    </tr>\n",
       "    <tr>\n",
       "      <th>2511</th>\n",
       "      <td>-119.54</td>\n",
       "      <td>36.51</td>\n",
       "      <td>36.0</td>\n",
       "      <td>49.0</td>\n",
       "      <td>7.0</td>\n",
       "      <td>28.0</td>\n",
       "      <td>2.0</td>\n",
       "      <td>4.6250</td>\n",
       "      <td>162500.0</td>\n",
       "      <td>INLAND</td>\n",
       "      <td>1.531476</td>\n",
       "      <td>0.0</td>\n",
       "    </tr>\n",
       "    <tr>\n",
       "      <th>3126</th>\n",
       "      <td>-117.79</td>\n",
       "      <td>35.21</td>\n",
       "      <td>4.0</td>\n",
       "      <td>2.0</td>\n",
       "      <td>2.0</td>\n",
       "      <td>6.0</td>\n",
       "      <td>2.0</td>\n",
       "      <td>2.3750</td>\n",
       "      <td>137500.0</td>\n",
       "      <td>INLAND</td>\n",
       "      <td>0.864997</td>\n",
       "      <td>0.0</td>\n",
       "    </tr>\n",
       "    <tr>\n",
       "      <th>16888</th>\n",
       "      <td>-122.37</td>\n",
       "      <td>37.60</td>\n",
       "      <td>26.0</td>\n",
       "      <td>15.0</td>\n",
       "      <td>3.0</td>\n",
       "      <td>11.0</td>\n",
       "      <td>3.0</td>\n",
       "      <td>5.0480</td>\n",
       "      <td>350000.0</td>\n",
       "      <td>NEAR OCEAN</td>\n",
       "      <td>1.618992</td>\n",
       "      <td>0.0</td>\n",
       "    </tr>\n",
       "    <tr>\n",
       "      <th>...</th>\n",
       "      <td>...</td>\n",
       "      <td>...</td>\n",
       "      <td>...</td>\n",
       "      <td>...</td>\n",
       "      <td>...</td>\n",
       "      <td>...</td>\n",
       "      <td>...</td>\n",
       "      <td>...</td>\n",
       "      <td>...</td>\n",
       "      <td>...</td>\n",
       "      <td>...</td>\n",
       "      <td>...</td>\n",
       "    </tr>\n",
       "    <tr>\n",
       "      <th>8985</th>\n",
       "      <td>-118.44</td>\n",
       "      <td>33.98</td>\n",
       "      <td>21.0</td>\n",
       "      <td>18132.0</td>\n",
       "      <td>5419.0</td>\n",
       "      <td>7431.0</td>\n",
       "      <td>4930.0</td>\n",
       "      <td>5.3359</td>\n",
       "      <td>500001.0</td>\n",
       "      <td>&lt;1H OCEAN</td>\n",
       "      <td>1.674458</td>\n",
       "      <td>4900.0</td>\n",
       "    </tr>\n",
       "    <tr>\n",
       "      <th>6057</th>\n",
       "      <td>-117.78</td>\n",
       "      <td>34.03</td>\n",
       "      <td>8.0</td>\n",
       "      <td>32054.0</td>\n",
       "      <td>5290.0</td>\n",
       "      <td>15507.0</td>\n",
       "      <td>5050.0</td>\n",
       "      <td>6.0191</td>\n",
       "      <td>253900.0</td>\n",
       "      <td>&lt;1H OCEAN</td>\n",
       "      <td>1.794938</td>\n",
       "      <td>5050.0</td>\n",
       "    </tr>\n",
       "    <tr>\n",
       "      <th>10309</th>\n",
       "      <td>-117.74</td>\n",
       "      <td>33.89</td>\n",
       "      <td>4.0</td>\n",
       "      <td>37937.0</td>\n",
       "      <td>5471.0</td>\n",
       "      <td>16122.0</td>\n",
       "      <td>5189.0</td>\n",
       "      <td>7.4947</td>\n",
       "      <td>366300.0</td>\n",
       "      <td>&lt;1H OCEAN</td>\n",
       "      <td>2.014196</td>\n",
       "      <td>5150.0</td>\n",
       "    </tr>\n",
       "    <tr>\n",
       "      <th>13139</th>\n",
       "      <td>-121.44</td>\n",
       "      <td>38.43</td>\n",
       "      <td>3.0</td>\n",
       "      <td>39320.0</td>\n",
       "      <td>6210.0</td>\n",
       "      <td>16305.0</td>\n",
       "      <td>5358.0</td>\n",
       "      <td>4.9516</td>\n",
       "      <td>153700.0</td>\n",
       "      <td>INLAND</td>\n",
       "      <td>1.599711</td>\n",
       "      <td>5350.0</td>\n",
       "    </tr>\n",
       "    <tr>\n",
       "      <th>9880</th>\n",
       "      <td>-121.79</td>\n",
       "      <td>36.64</td>\n",
       "      <td>11.0</td>\n",
       "      <td>32627.0</td>\n",
       "      <td>6445.0</td>\n",
       "      <td>28566.0</td>\n",
       "      <td>6082.0</td>\n",
       "      <td>2.3087</td>\n",
       "      <td>118800.0</td>\n",
       "      <td>&lt;1H OCEAN</td>\n",
       "      <td>0.836685</td>\n",
       "      <td>6050.0</td>\n",
       "    </tr>\n",
       "  </tbody>\n",
       "</table>\n",
       "<p>20640 rows × 12 columns</p>\n",
       "</div>"
      ],
      "text/plain": [
       "       longitude  latitude  housing_median_age  total_rooms  total_bedrooms  \\\n",
       "16171    -122.50     37.79                52.0          8.0             1.0   \n",
       "12286    -116.95     33.86                 1.0          6.0             2.0   \n",
       "2511     -119.54     36.51                36.0         49.0             7.0   \n",
       "3126     -117.79     35.21                 4.0          2.0             2.0   \n",
       "16888    -122.37     37.60                26.0         15.0             3.0   \n",
       "...          ...       ...                 ...          ...             ...   \n",
       "8985     -118.44     33.98                21.0      18132.0          5419.0   \n",
       "6057     -117.78     34.03                 8.0      32054.0          5290.0   \n",
       "10309    -117.74     33.89                 4.0      37937.0          5471.0   \n",
       "13139    -121.44     38.43                 3.0      39320.0          6210.0   \n",
       "9880     -121.79     36.64                11.0      32627.0          6445.0   \n",
       "\n",
       "       population  households  median_income  median_house_value  \\\n",
       "16171        13.0         1.0        15.0001            500001.0   \n",
       "12286         8.0         2.0         1.6250             55000.0   \n",
       "2511         28.0         2.0         4.6250            162500.0   \n",
       "3126          6.0         2.0         2.3750            137500.0   \n",
       "16888        11.0         3.0         5.0480            350000.0   \n",
       "...           ...         ...            ...                 ...   \n",
       "8985       7431.0      4930.0         5.3359            500001.0   \n",
       "6057      15507.0      5050.0         6.0191            253900.0   \n",
       "10309     16122.0      5189.0         7.4947            366300.0   \n",
       "13139     16305.0      5358.0         4.9516            153700.0   \n",
       "9880      28566.0      6082.0         2.3087            118800.0   \n",
       "\n",
       "      ocean_proximity  log_median_income  Households Level  \n",
       "16171        NEAR BAY           2.708057               0.0  \n",
       "12286          INLAND           0.485508               0.0  \n",
       "2511           INLAND           1.531476               0.0  \n",
       "3126           INLAND           0.864997               0.0  \n",
       "16888      NEAR OCEAN           1.618992               0.0  \n",
       "...               ...                ...               ...  \n",
       "8985        <1H OCEAN           1.674458            4900.0  \n",
       "6057        <1H OCEAN           1.794938            5050.0  \n",
       "10309       <1H OCEAN           2.014196            5150.0  \n",
       "13139          INLAND           1.599711            5350.0  \n",
       "9880        <1H OCEAN           0.836685            6050.0  \n",
       "\n",
       "[20640 rows x 12 columns]"
      ]
     },
     "execution_count": 8,
     "metadata": {},
     "output_type": "execute_result"
    }
   ],
   "source": [
    "by_households"
   ]
  },
  {
   "cell_type": "markdown",
   "id": "2cba849c",
   "metadata": {},
   "source": [
    "The model in the assignment,"
   ]
  },
  {
   "cell_type": "code",
   "execution_count": 9,
   "id": "4cc5be97",
   "metadata": {},
   "outputs": [
    {
     "data": {
      "text/plain": [
       "(74124.76768962912, 0.43649908312060404)"
      ]
     },
     "execution_count": 9,
     "metadata": {},
     "output_type": "execute_result"
    }
   ],
   "source": [
    "from sklearn.metrics import r2_score, mean_squared_error\n",
    "from sklearn import linear_model\n",
    "from sklearn.model_selection import train_test_split\n",
    "from sklearn.metrics import mean_squared_error\n",
    "\n",
    "\n",
    "bh = by_households\n",
    "# Get rid of house values of 500_000 or over\n",
    "sensible_df = bh[bh.median_house_value < 500_000]\n",
    "X,y = sensible_df[[\"median_income\"]],sensible_df[\"median_house_value\"]\n",
    "income_train, income_test, y_train,y_test = train_test_split(X,\n",
    "                                                             y,\n",
    "                                                            random_state=46)\n",
    "#Xsample = income_train[[\"median_income\"]]\n",
    "\n",
    "#Ysample = y_train # income_train[[\"median_house_value\"]]\n",
    "\n",
    "lin1 = linear_model.LinearRegression()\n",
    "\n",
    "lin1.fit(income_train,y_train)\n",
    "\n",
    "predicted = lin1.predict(income_test)\n",
    "lin_mse = mean_squared_error(y_test,predicted)\n",
    "\n",
    "#lin_r2 = r2_score(y_test[[\"median_house_value\"]], vals_lin)\n",
    "lin_r2 = r2_score(y_test, predicted)\n",
    "\n",
    "np.sqrt(lin_mse),lin_r2"
   ]
  },
  {
   "cell_type": "markdown",
   "id": "929b8d06",
   "metadata": {},
   "source": [
    "To improve, try an inferred interaction column.  Details of how we define it matter"
   ]
  },
  {
   "cell_type": "code",
   "execution_count": 386,
   "id": "5d315647",
   "metadata": {},
   "outputs": [],
   "source": [
    "by_households['avg_br_lev'] = by_households['total_bedrooms']/by_households['Households Level']\n",
    "# Less of a strong correlation.  \n",
    "by_households['avg_br'] = by_households['total_bedrooms']/by_households['households']"
   ]
  },
  {
   "cell_type": "markdown",
   "id": "e78f3143",
   "metadata": {},
   "source": [
    "Check correlations with dependent var,"
   ]
  },
  {
   "cell_type": "code",
   "execution_count": 387,
   "id": "449c7a39",
   "metadata": {},
   "outputs": [
    {
     "data": {
      "text/plain": [
       "longitude            -0.045967\n",
       "latitude             -0.144160\n",
       "housing_median_age    0.105623\n",
       "total_rooms           0.134153\n",
       "total_bedrooms        0.049686\n",
       "population           -0.024650\n",
       "households            0.065843\n",
       "median_income         0.688075\n",
       "median_house_value    1.000000\n",
       "log_median_income     0.651807\n",
       "Households Level      0.066211\n",
       "avg_br_lev           -0.080977\n",
       "avg_br               -0.046739\n",
       "Name: median_house_value, dtype: float64"
      ]
     },
     "execution_count": 387,
     "metadata": {},
     "output_type": "execute_result"
    }
   ],
   "source": [
    "by_households.corr(numeric_only=True)['median_house_value']"
   ]
  },
  {
   "cell_type": "markdown",
   "id": "05937b8e",
   "metadata": {},
   "source": [
    "```\n",
    "San Diego      lat 32.7157° N\n",
    "San Francisco  lat 37.7749° N\n",
    "Mendocino      lat 39.3077° N\n",
    "```"
   ]
  },
  {
   "cell_type": "markdown",
   "id": "0b584a07",
   "metadata": {},
   "source": [
    "#### One-hot encoding\n",
    "\n",
    "Convert the information in the Ocean Proximity column into a form usable by regression.\n",
    "\n"
   ]
  },
  {
   "cell_type": "code",
   "execution_count": 388,
   "id": "2ae7b02b",
   "metadata": {},
   "outputs": [
    {
     "data": {
      "text/html": [
       "<div>\n",
       "<style scoped>\n",
       "    .dataframe tbody tr th:only-of-type {\n",
       "        vertical-align: middle;\n",
       "    }\n",
       "\n",
       "    .dataframe tbody tr th {\n",
       "        vertical-align: top;\n",
       "    }\n",
       "\n",
       "    .dataframe thead th {\n",
       "        text-align: right;\n",
       "    }\n",
       "</style>\n",
       "<table border=\"1\" class=\"dataframe\">\n",
       "  <thead>\n",
       "    <tr style=\"text-align: right;\">\n",
       "      <th></th>\n",
       "      <th>&lt;1H OCEAN</th>\n",
       "      <th>INLAND</th>\n",
       "      <th>NEAR BAY</th>\n",
       "      <th>NEAR OCEAN</th>\n",
       "    </tr>\n",
       "  </thead>\n",
       "  <tbody>\n",
       "    <tr>\n",
       "      <th>16171</th>\n",
       "      <td>0</td>\n",
       "      <td>0</td>\n",
       "      <td>1</td>\n",
       "      <td>0</td>\n",
       "    </tr>\n",
       "    <tr>\n",
       "      <th>12286</th>\n",
       "      <td>0</td>\n",
       "      <td>1</td>\n",
       "      <td>0</td>\n",
       "      <td>0</td>\n",
       "    </tr>\n",
       "    <tr>\n",
       "      <th>2511</th>\n",
       "      <td>0</td>\n",
       "      <td>1</td>\n",
       "      <td>0</td>\n",
       "      <td>0</td>\n",
       "    </tr>\n",
       "    <tr>\n",
       "      <th>3126</th>\n",
       "      <td>0</td>\n",
       "      <td>1</td>\n",
       "      <td>0</td>\n",
       "      <td>0</td>\n",
       "    </tr>\n",
       "    <tr>\n",
       "      <th>16888</th>\n",
       "      <td>0</td>\n",
       "      <td>0</td>\n",
       "      <td>0</td>\n",
       "      <td>1</td>\n",
       "    </tr>\n",
       "    <tr>\n",
       "      <th>...</th>\n",
       "      <td>...</td>\n",
       "      <td>...</td>\n",
       "      <td>...</td>\n",
       "      <td>...</td>\n",
       "    </tr>\n",
       "    <tr>\n",
       "      <th>8985</th>\n",
       "      <td>1</td>\n",
       "      <td>0</td>\n",
       "      <td>0</td>\n",
       "      <td>0</td>\n",
       "    </tr>\n",
       "    <tr>\n",
       "      <th>6057</th>\n",
       "      <td>1</td>\n",
       "      <td>0</td>\n",
       "      <td>0</td>\n",
       "      <td>0</td>\n",
       "    </tr>\n",
       "    <tr>\n",
       "      <th>10309</th>\n",
       "      <td>1</td>\n",
       "      <td>0</td>\n",
       "      <td>0</td>\n",
       "      <td>0</td>\n",
       "    </tr>\n",
       "    <tr>\n",
       "      <th>13139</th>\n",
       "      <td>0</td>\n",
       "      <td>1</td>\n",
       "      <td>0</td>\n",
       "      <td>0</td>\n",
       "    </tr>\n",
       "    <tr>\n",
       "      <th>9880</th>\n",
       "      <td>1</td>\n",
       "      <td>0</td>\n",
       "      <td>0</td>\n",
       "      <td>0</td>\n",
       "    </tr>\n",
       "  </tbody>\n",
       "</table>\n",
       "<p>20640 rows × 4 columns</p>\n",
       "</div>"
      ],
      "text/plain": [
       "       <1H OCEAN  INLAND  NEAR BAY  NEAR OCEAN\n",
       "16171          0       0         1           0\n",
       "12286          0       1         0           0\n",
       "2511           0       1         0           0\n",
       "3126           0       1         0           0\n",
       "16888          0       0         0           1\n",
       "...          ...     ...       ...         ...\n",
       "8985           1       0         0           0\n",
       "6057           1       0         0           0\n",
       "10309          1       0         0           0\n",
       "13139          0       1         0           0\n",
       "9880           1       0         0           0\n",
       "\n",
       "[20640 rows x 4 columns]"
      ]
     },
     "execution_count": 388,
     "metadata": {},
     "output_type": "execute_result"
    }
   ],
   "source": [
    "one_hot_encodings = by_households['ocean_proximity'].str.get_dummies()\n",
    "#drop island, same info\n",
    "ocean_prox_cols = [\"<1H OCEAN\",\"INLAND\", \"NEAR BAY\", \"NEAR OCEAN\"]\n",
    "one_hot_encodings = one_hot_encodings[ocean_prox_cols]\n",
    "one_hot_encodings"
   ]
  },
  {
   "cell_type": "code",
   "execution_count": null,
   "id": "64674233",
   "metadata": {},
   "outputs": [],
   "source": [
    "#drop island, same info"
   ]
  },
  {
   "cell_type": "markdown",
   "id": "30a2b6c9",
   "metadata": {},
   "source": [
    "What we're doing is called **one-hot encoding** by the rest of the world.  For some reason (historical?)\n",
    "the method that implements this on a categorical column (calues are all strings) is called `get_dummies` in pandas.\n",
    "\n",
    "The idea of one-hot encoding doesn't really have that much to do with whether the column value set is all strings.  It's about whether it's **categorical**.\n",
    "If one had  a column `C` with a value set in the integer range (0,1,2,3,4),\n",
    "and these were simply encodings of some category (entities of category 3 are no closer to\n",
    "entities of category 4 than entities of category 0), then it would be much\n",
    "better to use one-hot encoding than to use the numbers in `C` for regression.\n",
    "The Scikit Learn `preprocessing.OneHotEncoder()` transformer does much the same thing and is not\n",
    "limited to strings."
   ]
  },
  {
   "cell_type": "code",
   "execution_count": 52,
   "id": "d94c7965",
   "metadata": {},
   "outputs": [
    {
     "name": "stdout",
     "output_type": "stream",
     "text": [
      "[[4]\n",
      " [3]\n",
      " [2]\n",
      " [1]\n",
      " [1]]\n"
     ]
    },
    {
     "data": {
      "text/plain": [
       "array([[0., 0., 0., 0., 1.],\n",
       "       [0., 0., 0., 1., 0.],\n",
       "       [0., 0., 1., 0., 0.],\n",
       "       [0., 1., 0., 0., 0.],\n",
       "       [0., 1., 0., 0., 0.]])"
      ]
     },
     "execution_count": 52,
     "metadata": {},
     "output_type": "execute_result"
    }
   ],
   "source": [
    "import random\n",
    "\n",
    "# Cook up categorical data\n",
    "L = range(5)\n",
    "##  DD is 20x 1 (must be 2D array)\n",
    "DD = np.array([random.choice(L) for _i in range(20)])[:,np.newaxis]\n",
    "\n",
    "## Fit and transform\n",
    "ohe = preprocessing.OneHotEncoder()\n",
    "# To use pandas, pass a DF (possibly with 1 col) not a Series\n",
    "#D_T = ohe.fit_transform(by_households[['ocean_proximity']])\n",
    "DD_T = ohe.fit_transform(DD)\n",
    "\n",
    "print(DD[:5])\n",
    "DD_T.toarray()[:5]"
   ]
  },
  {
   "cell_type": "markdown",
   "id": "5cabd301",
   "metadata": {},
   "source": [
    "Add our one-hot encoded columns to our data."
   ]
  },
  {
   "cell_type": "code",
   "execution_count": 396,
   "id": "af91df52",
   "metadata": {},
   "outputs": [],
   "source": [
    "new_df = pd.concat([by_households,one_hot_encodings],axis=1)"
   ]
  },
  {
   "cell_type": "markdown",
   "id": "e3264f79",
   "metadata": {},
   "source": [
    "Alternative way of adding the ocean proximity cols:"
   ]
  },
  {
   "cell_type": "code",
   "execution_count": 91,
   "id": "52e31bb0",
   "metadata": {},
   "outputs": [],
   "source": [
    "#new_df = df.copy()\n",
    "\n",
    "#n_op_levels = df['ocean_proximity'].nunique()\n",
    "#for p in df['ocean_proximity'].unique():\n",
    "#    new_df[p] = df['ocean_proximity'] == p\n",
    "    "
   ]
  },
  {
   "cell_type": "markdown",
   "id": "1de73951",
   "metadata": {},
   "source": [
    "Some of the new columns are promising."
   ]
  },
  {
   "cell_type": "code",
   "execution_count": 397,
   "id": "45b2a0d2",
   "metadata": {
    "scrolled": false
   },
   "outputs": [
    {
     "data": {
      "text/plain": [
       "longitude            -0.045967\n",
       "latitude             -0.144160\n",
       "housing_median_age    0.105623\n",
       "total_rooms           0.134153\n",
       "total_bedrooms        0.049686\n",
       "population           -0.024650\n",
       "households            0.065843\n",
       "median_income         0.688075\n",
       "median_house_value    1.000000\n",
       "log_median_income     0.651807\n",
       "Households Level      0.066211\n",
       "avg_br_lev           -0.080977\n",
       "avg_br               -0.046739\n",
       "<1H OCEAN             0.256617\n",
       "INLAND               -0.484859\n",
       "NEAR BAY              0.160284\n",
       "NEAR OCEAN            0.141862\n",
       "Name: median_house_value, dtype: float64"
      ]
     },
     "execution_count": 397,
     "metadata": {},
     "output_type": "execute_result"
    }
   ],
   "source": [
    "new_df.corr(numeric_only=True)['median_house_value']"
   ]
  },
  {
   "cell_type": "markdown",
   "id": "9257bb33",
   "metadata": {},
   "source": [
    "The columns we'll call interesting."
   ]
  },
  {
   "cell_type": "code",
   "execution_count": 398,
   "id": "0fc2f246",
   "metadata": {},
   "outputs": [
    {
     "data": {
      "text/plain": [
       "latitude             -0.144160\n",
       "housing_median_age    0.105623\n",
       "total_rooms           0.134153\n",
       "households            0.065843\n",
       "median_income         0.688075\n",
       "median_house_value    1.000000\n",
       "log_median_income     0.651807\n",
       "Households Level      0.066211\n",
       "avg_br_lev           -0.080977\n",
       "<1H OCEAN             0.256617\n",
       "INLAND               -0.484859\n",
       "NEAR BAY              0.160284\n",
       "NEAR OCEAN            0.141862\n",
       "Name: median_house_value, dtype: float64"
      ]
     },
     "execution_count": 398,
     "metadata": {},
     "output_type": "execute_result"
    }
   ],
   "source": [
    "corr_df = new_df.corr(numeric_only=True)\n",
    "corr_df[np.abs(corr_df['median_house_value'])>.06]['median_house_value']"
   ]
  },
  {
   "cell_type": "markdown",
   "id": "ece75662",
   "metadata": {},
   "source": [
    "Note housing avg_br has a weak anti correlation;median age has a weak correlation."
   ]
  },
  {
   "cell_type": "markdown",
   "id": "a7743c0b",
   "metadata": {},
   "source": [
    "Latitude, housing median age, total_rooms and our ocean proximity cols all have decent info"
   ]
  },
  {
   "cell_type": "code",
   "execution_count": 391,
   "id": "cf2224b0",
   "metadata": {},
   "outputs": [],
   "source": [
    "from itertools import chain, combinations\n",
    "\n",
    "def powerset(iterable):\n",
    "    \"powerset([1,2,3]) --> () (1,) (2,) (3,) (1,2) (1,3) (2,3) (1,2,3)\"\n",
    "    s = list(iterable)\n",
    "    return chain.from_iterable(combinations(s, r) for r in range(len(s)+1))\n",
    "\n",
    "def new_system_trial (X, y, num_trials, scores, clf, **params):\n",
    "    for i in range(num_trials):\n",
    "        newX = sensible_df[new_ind_vars]\n",
    "        X_train, X_test, y_train,y_test = train_test_split(newX, y)\n",
    "        #print(newX.shape,type(newX),len(X_train),len(X_test),)\n",
    "        #lin1 = linear_model.LinearRegression()\n",
    "        clf_inst = clf(**params)\n",
    "        clf_inst.fit(X_train,y_train)\n",
    "        predicted = clf_inst.predict(X_test)\n",
    "\n",
    "        clf_mse = mean_squared_error(y_test,predicted)\n",
    "        clf_r2 = r2_score(y_test, predicted)\n",
    "        n,p = X_test.shape[0],X_test.shape[1]\n",
    "        adj_clf_r2 = adj_r2(clf_r2, n, p)\n",
    "\n",
    "        scores[i] = clf_mse, clf_r2, adj_clf_r2\n",
    "    return newX\n",
    "\n",
    "def print_mn_scores(mn_sc,newX):\n",
    "    print (f\"MRE {np.sqrt(mn_sc[0]):,.0f}  R2 {mn_sc[1]:.3f}   Adj_R2 {mn_sc[2]:.3f}\")\n",
    "    print(list(newX.columns))\n",
    "    print()\n",
    "\n",
    "def adj_r2 (r2, n, p):\n",
    "    #A 1-(1-R2)*(n-1)/(n-p) \n",
    "    return 1-((1-r2)*(n-1)/(n-p))"
   ]
  },
  {
   "cell_type": "markdown",
   "id": "58f3f3f1",
   "metadata": {},
   "source": [
    "We choose the median income plus the ocean proximity columns as our core system.\n",
    "All systems we experiment with will include those columns.  Then we\n",
    "add subsets from the columns discovered above."
   ]
  },
  {
   "cell_type": "markdown",
   "id": "769c4360",
   "metadata": {},
   "source": [
    "Last cols are new!"
   ]
  },
  {
   "cell_type": "code",
   "execution_count": 399,
   "id": "b5ac815a",
   "metadata": {},
   "outputs": [
    {
     "data": {
      "text/plain": [
       "Index(['longitude', 'latitude', 'housing_median_age', 'total_rooms',\n",
       "       'total_bedrooms', 'population', 'households', 'median_income',\n",
       "       'median_house_value', 'ocean_proximity', 'log_median_income',\n",
       "       'Households Level', 'avg_br_lev', 'avg_br', '<1H OCEAN', 'INLAND',\n",
       "       'NEAR BAY', 'NEAR OCEAN'],\n",
       "      dtype='object')"
      ]
     },
     "execution_count": 399,
     "metadata": {},
     "output_type": "execute_result"
    }
   ],
   "source": [
    "new_df.columns"
   ]
  },
  {
   "cell_type": "markdown",
   "id": "35771337",
   "metadata": {},
   "source": [
    "### Some numerical cleanup"
   ]
  },
  {
   "cell_type": "code",
   "execution_count": 400,
   "id": "8294cf22",
   "metadata": {},
   "outputs": [
    {
     "data": {
      "text/plain": [
       "16171    1.000000\n",
       "12286    1.000000\n",
       "2511     3.500000\n",
       "3126     1.000000\n",
       "16888    1.000000\n",
       "           ...   \n",
       "8985     1.099189\n",
       "6057     1.047525\n",
       "10309    1.054346\n",
       "13139    1.159015\n",
       "9880     1.059684\n",
       "Name: avg_br, Length: 20640, dtype: float64"
      ]
     },
     "execution_count": 400,
     "metadata": {},
     "output_type": "execute_result"
    }
   ],
   "source": [
    "new_df.avg_br"
   ]
  },
  {
   "cell_type": "code",
   "execution_count": 401,
   "id": "c13e87aa",
   "metadata": {},
   "outputs": [],
   "source": [
    "new_df = new_df.replace([np.inf, -np.inf], np.nan)\n",
    "new_df = new_df.dropna(subset=['avg_br','avg_br_lev'])"
   ]
  },
  {
   "cell_type": "markdown",
   "id": "05b8cef6",
   "metadata": {},
   "source": [
    "Our data is artificially capped.   Fix that by removing all those houses that\n",
    "cost EXACTLY 500_000."
   ]
  },
  {
   "cell_type": "code",
   "execution_count": 402,
   "id": "b9436cd4",
   "metadata": {},
   "outputs": [],
   "source": [
    "sensible_df = new_df[new_df.median_house_value < 500_000]"
   ]
  },
  {
   "cell_type": "code",
   "execution_count": 403,
   "id": "ed9cdf37",
   "metadata": {
    "scrolled": false
   },
   "outputs": [
    {
     "data": {
      "text/plain": [
       "499100.0"
      ]
     },
     "execution_count": 403,
     "metadata": {},
     "output_type": "execute_result"
    }
   ],
   "source": [
    "sensible_df.median_house_value.max()"
   ]
  },
  {
   "cell_type": "markdown",
   "id": "6d6265d0",
   "metadata": {},
   "source": [
    "#### Finding the best linear model"
   ]
  },
  {
   "cell_type": "code",
   "execution_count": 404,
   "id": "62441c95",
   "metadata": {},
   "outputs": [
    {
     "data": {
      "text/html": [
       "<div>\n",
       "<style scoped>\n",
       "    .dataframe tbody tr th:only-of-type {\n",
       "        vertical-align: middle;\n",
       "    }\n",
       "\n",
       "    .dataframe tbody tr th {\n",
       "        vertical-align: top;\n",
       "    }\n",
       "\n",
       "    .dataframe thead th {\n",
       "        text-align: right;\n",
       "    }\n",
       "</style>\n",
       "<table border=\"1\" class=\"dataframe\">\n",
       "  <thead>\n",
       "    <tr style=\"text-align: right;\">\n",
       "      <th></th>\n",
       "      <th>longitude</th>\n",
       "      <th>latitude</th>\n",
       "      <th>housing_median_age</th>\n",
       "      <th>total_rooms</th>\n",
       "      <th>total_bedrooms</th>\n",
       "      <th>population</th>\n",
       "      <th>households</th>\n",
       "      <th>median_income</th>\n",
       "      <th>median_house_value</th>\n",
       "      <th>ocean_proximity</th>\n",
       "      <th>log_median_income</th>\n",
       "      <th>Households Level</th>\n",
       "      <th>avg_br_lev</th>\n",
       "      <th>avg_br</th>\n",
       "      <th>&lt;1H OCEAN</th>\n",
       "      <th>INLAND</th>\n",
       "      <th>NEAR BAY</th>\n",
       "      <th>NEAR OCEAN</th>\n",
       "    </tr>\n",
       "  </thead>\n",
       "  <tbody>\n",
       "    <tr>\n",
       "      <th>8221</th>\n",
       "      <td>-118.22</td>\n",
       "      <td>33.79</td>\n",
       "      <td>48.0</td>\n",
       "      <td>143.0</td>\n",
       "      <td>41.0</td>\n",
       "      <td>222.0</td>\n",
       "      <td>50.0</td>\n",
       "      <td>1.7000</td>\n",
       "      <td>104200.0</td>\n",
       "      <td>NEAR OCEAN</td>\n",
       "      <td>0.530628</td>\n",
       "      <td>50.0</td>\n",
       "      <td>0.820000</td>\n",
       "      <td>0.820000</td>\n",
       "      <td>0</td>\n",
       "      <td>0</td>\n",
       "      <td>0</td>\n",
       "      <td>1</td>\n",
       "    </tr>\n",
       "    <tr>\n",
       "      <th>13999</th>\n",
       "      <td>-116.90</td>\n",
       "      <td>34.69</td>\n",
       "      <td>10.0</td>\n",
       "      <td>337.0</td>\n",
       "      <td>102.0</td>\n",
       "      <td>108.0</td>\n",
       "      <td>50.0</td>\n",
       "      <td>0.4999</td>\n",
       "      <td>55000.0</td>\n",
       "      <td>INLAND</td>\n",
       "      <td>-0.693347</td>\n",
       "      <td>50.0</td>\n",
       "      <td>2.040000</td>\n",
       "      <td>2.040000</td>\n",
       "      <td>0</td>\n",
       "      <td>1</td>\n",
       "      <td>0</td>\n",
       "      <td>0</td>\n",
       "    </tr>\n",
       "    <tr>\n",
       "      <th>20108</th>\n",
       "      <td>-120.35</td>\n",
       "      <td>37.86</td>\n",
       "      <td>25.0</td>\n",
       "      <td>287.0</td>\n",
       "      <td>57.0</td>\n",
       "      <td>118.0</td>\n",
       "      <td>50.0</td>\n",
       "      <td>2.3056</td>\n",
       "      <td>162500.0</td>\n",
       "      <td>INLAND</td>\n",
       "      <td>0.835341</td>\n",
       "      <td>50.0</td>\n",
       "      <td>1.140000</td>\n",
       "      <td>1.140000</td>\n",
       "      <td>0</td>\n",
       "      <td>1</td>\n",
       "      <td>0</td>\n",
       "      <td>0</td>\n",
       "    </tr>\n",
       "    <tr>\n",
       "      <th>13374</th>\n",
       "      <td>-117.51</td>\n",
       "      <td>34.16</td>\n",
       "      <td>2.0</td>\n",
       "      <td>718.0</td>\n",
       "      <td>98.0</td>\n",
       "      <td>119.0</td>\n",
       "      <td>50.0</td>\n",
       "      <td>4.1000</td>\n",
       "      <td>315000.0</td>\n",
       "      <td>INLAND</td>\n",
       "      <td>1.410987</td>\n",
       "      <td>50.0</td>\n",
       "      <td>1.960000</td>\n",
       "      <td>1.960000</td>\n",
       "      <td>0</td>\n",
       "      <td>1</td>\n",
       "      <td>0</td>\n",
       "      <td>0</td>\n",
       "    </tr>\n",
       "    <tr>\n",
       "      <th>365</th>\n",
       "      <td>-122.13</td>\n",
       "      <td>37.75</td>\n",
       "      <td>30.0</td>\n",
       "      <td>414.0</td>\n",
       "      <td>54.0</td>\n",
       "      <td>137.0</td>\n",
       "      <td>50.0</td>\n",
       "      <td>4.9750</td>\n",
       "      <td>311100.0</td>\n",
       "      <td>NEAR BAY</td>\n",
       "      <td>1.604425</td>\n",
       "      <td>50.0</td>\n",
       "      <td>1.080000</td>\n",
       "      <td>1.080000</td>\n",
       "      <td>0</td>\n",
       "      <td>0</td>\n",
       "      <td>1</td>\n",
       "      <td>0</td>\n",
       "    </tr>\n",
       "    <tr>\n",
       "      <th>...</th>\n",
       "      <td>...</td>\n",
       "      <td>...</td>\n",
       "      <td>...</td>\n",
       "      <td>...</td>\n",
       "      <td>...</td>\n",
       "      <td>...</td>\n",
       "      <td>...</td>\n",
       "      <td>...</td>\n",
       "      <td>...</td>\n",
       "      <td>...</td>\n",
       "      <td>...</td>\n",
       "      <td>...</td>\n",
       "      <td>...</td>\n",
       "      <td>...</td>\n",
       "      <td>...</td>\n",
       "      <td>...</td>\n",
       "      <td>...</td>\n",
       "      <td>...</td>\n",
       "    </tr>\n",
       "    <tr>\n",
       "      <th>12623</th>\n",
       "      <td>-121.53</td>\n",
       "      <td>38.48</td>\n",
       "      <td>5.0</td>\n",
       "      <td>27870.0</td>\n",
       "      <td>5027.0</td>\n",
       "      <td>11935.0</td>\n",
       "      <td>4855.0</td>\n",
       "      <td>4.8811</td>\n",
       "      <td>212200.0</td>\n",
       "      <td>INLAND</td>\n",
       "      <td>1.585371</td>\n",
       "      <td>4850.0</td>\n",
       "      <td>1.036495</td>\n",
       "      <td>1.035427</td>\n",
       "      <td>0</td>\n",
       "      <td>1</td>\n",
       "      <td>0</td>\n",
       "      <td>0</td>\n",
       "    </tr>\n",
       "    <tr>\n",
       "      <th>6057</th>\n",
       "      <td>-117.78</td>\n",
       "      <td>34.03</td>\n",
       "      <td>8.0</td>\n",
       "      <td>32054.0</td>\n",
       "      <td>5290.0</td>\n",
       "      <td>15507.0</td>\n",
       "      <td>5050.0</td>\n",
       "      <td>6.0191</td>\n",
       "      <td>253900.0</td>\n",
       "      <td>&lt;1H OCEAN</td>\n",
       "      <td>1.794938</td>\n",
       "      <td>5050.0</td>\n",
       "      <td>1.047525</td>\n",
       "      <td>1.047525</td>\n",
       "      <td>1</td>\n",
       "      <td>0</td>\n",
       "      <td>0</td>\n",
       "      <td>0</td>\n",
       "    </tr>\n",
       "    <tr>\n",
       "      <th>10309</th>\n",
       "      <td>-117.74</td>\n",
       "      <td>33.89</td>\n",
       "      <td>4.0</td>\n",
       "      <td>37937.0</td>\n",
       "      <td>5471.0</td>\n",
       "      <td>16122.0</td>\n",
       "      <td>5189.0</td>\n",
       "      <td>7.4947</td>\n",
       "      <td>366300.0</td>\n",
       "      <td>&lt;1H OCEAN</td>\n",
       "      <td>2.014196</td>\n",
       "      <td>5150.0</td>\n",
       "      <td>1.062330</td>\n",
       "      <td>1.054346</td>\n",
       "      <td>1</td>\n",
       "      <td>0</td>\n",
       "      <td>0</td>\n",
       "      <td>0</td>\n",
       "    </tr>\n",
       "    <tr>\n",
       "      <th>13139</th>\n",
       "      <td>-121.44</td>\n",
       "      <td>38.43</td>\n",
       "      <td>3.0</td>\n",
       "      <td>39320.0</td>\n",
       "      <td>6210.0</td>\n",
       "      <td>16305.0</td>\n",
       "      <td>5358.0</td>\n",
       "      <td>4.9516</td>\n",
       "      <td>153700.0</td>\n",
       "      <td>INLAND</td>\n",
       "      <td>1.599711</td>\n",
       "      <td>5350.0</td>\n",
       "      <td>1.160748</td>\n",
       "      <td>1.159015</td>\n",
       "      <td>0</td>\n",
       "      <td>1</td>\n",
       "      <td>0</td>\n",
       "      <td>0</td>\n",
       "    </tr>\n",
       "    <tr>\n",
       "      <th>9880</th>\n",
       "      <td>-121.79</td>\n",
       "      <td>36.64</td>\n",
       "      <td>11.0</td>\n",
       "      <td>32627.0</td>\n",
       "      <td>6445.0</td>\n",
       "      <td>28566.0</td>\n",
       "      <td>6082.0</td>\n",
       "      <td>2.3087</td>\n",
       "      <td>118800.0</td>\n",
       "      <td>&lt;1H OCEAN</td>\n",
       "      <td>0.836685</td>\n",
       "      <td>6050.0</td>\n",
       "      <td>1.065289</td>\n",
       "      <td>1.059684</td>\n",
       "      <td>1</td>\n",
       "      <td>0</td>\n",
       "      <td>0</td>\n",
       "      <td>0</td>\n",
       "    </tr>\n",
       "  </tbody>\n",
       "</table>\n",
       "<p>19143 rows × 18 columns</p>\n",
       "</div>"
      ],
      "text/plain": [
       "       longitude  latitude  housing_median_age  total_rooms  total_bedrooms  \\\n",
       "8221     -118.22     33.79                48.0        143.0            41.0   \n",
       "13999    -116.90     34.69                10.0        337.0           102.0   \n",
       "20108    -120.35     37.86                25.0        287.0            57.0   \n",
       "13374    -117.51     34.16                 2.0        718.0            98.0   \n",
       "365      -122.13     37.75                30.0        414.0            54.0   \n",
       "...          ...       ...                 ...          ...             ...   \n",
       "12623    -121.53     38.48                 5.0      27870.0          5027.0   \n",
       "6057     -117.78     34.03                 8.0      32054.0          5290.0   \n",
       "10309    -117.74     33.89                 4.0      37937.0          5471.0   \n",
       "13139    -121.44     38.43                 3.0      39320.0          6210.0   \n",
       "9880     -121.79     36.64                11.0      32627.0          6445.0   \n",
       "\n",
       "       population  households  median_income  median_house_value  \\\n",
       "8221        222.0        50.0         1.7000            104200.0   \n",
       "13999       108.0        50.0         0.4999             55000.0   \n",
       "20108       118.0        50.0         2.3056            162500.0   \n",
       "13374       119.0        50.0         4.1000            315000.0   \n",
       "365         137.0        50.0         4.9750            311100.0   \n",
       "...           ...         ...            ...                 ...   \n",
       "12623     11935.0      4855.0         4.8811            212200.0   \n",
       "6057      15507.0      5050.0         6.0191            253900.0   \n",
       "10309     16122.0      5189.0         7.4947            366300.0   \n",
       "13139     16305.0      5358.0         4.9516            153700.0   \n",
       "9880      28566.0      6082.0         2.3087            118800.0   \n",
       "\n",
       "      ocean_proximity  log_median_income  Households Level  avg_br_lev  \\\n",
       "8221       NEAR OCEAN           0.530628              50.0    0.820000   \n",
       "13999          INLAND          -0.693347              50.0    2.040000   \n",
       "20108          INLAND           0.835341              50.0    1.140000   \n",
       "13374          INLAND           1.410987              50.0    1.960000   \n",
       "365          NEAR BAY           1.604425              50.0    1.080000   \n",
       "...               ...                ...               ...         ...   \n",
       "12623          INLAND           1.585371            4850.0    1.036495   \n",
       "6057        <1H OCEAN           1.794938            5050.0    1.047525   \n",
       "10309       <1H OCEAN           2.014196            5150.0    1.062330   \n",
       "13139          INLAND           1.599711            5350.0    1.160748   \n",
       "9880        <1H OCEAN           0.836685            6050.0    1.065289   \n",
       "\n",
       "         avg_br  <1H OCEAN  INLAND  NEAR BAY  NEAR OCEAN  \n",
       "8221   0.820000          0       0         0           1  \n",
       "13999  2.040000          0       1         0           0  \n",
       "20108  1.140000          0       1         0           0  \n",
       "13374  1.960000          0       1         0           0  \n",
       "365    1.080000          0       0         1           0  \n",
       "...         ...        ...     ...       ...         ...  \n",
       "12623  1.035427          0       1         0           0  \n",
       "6057   1.047525          1       0         0           0  \n",
       "10309  1.054346          1       0         0           0  \n",
       "13139  1.159015          0       1         0           0  \n",
       "9880   1.059684          1       0         0           0  \n",
       "\n",
       "[19143 rows x 18 columns]"
      ]
     },
     "execution_count": 404,
     "metadata": {},
     "output_type": "execute_result"
    }
   ],
   "source": [
    "sensible_df"
   ]
  },
  {
   "cell_type": "code",
   "execution_count": 407,
   "id": "218dee02",
   "metadata": {
    "scrolled": false
   },
   "outputs": [
    {
     "name": "stdout",
     "output_type": "stream",
     "text": [
      "MRE 73,275  R2 0.428   Adj_R2 0.428\n",
      "['median_income']\n",
      "\n",
      "MRE 63,804  R2 0.568   Adj_R2 0.567\n",
      "['median_income', '<1H OCEAN', 'INLAND', 'NEAR BAY', 'NEAR OCEAN']\n",
      "\n",
      "MRE 63,642  R2 0.568   Adj_R2 0.568\n",
      "['median_income', '<1H OCEAN', 'INLAND', 'NEAR BAY', 'NEAR OCEAN', 'latitude']\n",
      "\n",
      "MRE 63,641  R2 0.568   Adj_R2 0.568\n",
      "['median_income', '<1H OCEAN', 'INLAND', 'NEAR BAY', 'NEAR OCEAN', 'total_rooms']\n",
      "\n",
      "MRE 63,126  R2 0.576   Adj_R2 0.576\n",
      "['median_income', '<1H OCEAN', 'INLAND', 'NEAR BAY', 'NEAR OCEAN', 'housing_median_age']\n",
      "\n",
      "MRE 63,399  R2 0.571   Adj_R2 0.570\n",
      "['median_income', '<1H OCEAN', 'INLAND', 'NEAR BAY', 'NEAR OCEAN', 'Households Level']\n",
      "\n",
      "MRE 63,676  R2 0.568   Adj_R2 0.568\n",
      "['median_income', '<1H OCEAN', 'INLAND', 'NEAR BAY', 'NEAR OCEAN', 'avg_br_lev']\n",
      "\n",
      "MRE 63,678  R2 0.569   Adj_R2 0.568\n",
      "['median_income', '<1H OCEAN', 'INLAND', 'NEAR BAY', 'NEAR OCEAN', 'latitude', 'total_rooms']\n",
      "\n",
      "MRE 62,981  R2 0.577   Adj_R2 0.576\n",
      "['median_income', '<1H OCEAN', 'INLAND', 'NEAR BAY', 'NEAR OCEAN', 'latitude', 'housing_median_age']\n",
      "\n",
      "MRE 63,377  R2 0.572   Adj_R2 0.572\n",
      "['median_income', '<1H OCEAN', 'INLAND', 'NEAR BAY', 'NEAR OCEAN', 'latitude', 'Households Level']\n",
      "\n",
      "MRE 63,697  R2 0.568   Adj_R2 0.568\n",
      "['median_income', '<1H OCEAN', 'INLAND', 'NEAR BAY', 'NEAR OCEAN', 'latitude', 'avg_br_lev']\n",
      "\n",
      "MRE 62,677  R2 0.580   Adj_R2 0.580\n",
      "['median_income', '<1H OCEAN', 'INLAND', 'NEAR BAY', 'NEAR OCEAN', 'total_rooms', 'housing_median_age']\n",
      "\n",
      "MRE 63,137  R2 0.576   Adj_R2 0.575\n",
      "['median_income', '<1H OCEAN', 'INLAND', 'NEAR BAY', 'NEAR OCEAN', 'total_rooms', 'Households Level']\n",
      "\n",
      "MRE 63,652  R2 0.568   Adj_R2 0.568\n",
      "['median_income', '<1H OCEAN', 'INLAND', 'NEAR BAY', 'NEAR OCEAN', 'total_rooms', 'avg_br_lev']\n",
      "\n",
      "MRE 62,353  R2 0.585   Adj_R2 0.584\n",
      "['median_income', '<1H OCEAN', 'INLAND', 'NEAR BAY', 'NEAR OCEAN', 'housing_median_age', 'Households Level']\n",
      "\n",
      "MRE 63,030  R2 0.576   Adj_R2 0.576\n",
      "['median_income', '<1H OCEAN', 'INLAND', 'NEAR BAY', 'NEAR OCEAN', 'housing_median_age', 'avg_br_lev']\n",
      "\n",
      "MRE 63,399  R2 0.571   Adj_R2 0.571\n",
      "['median_income', '<1H OCEAN', 'INLAND', 'NEAR BAY', 'NEAR OCEAN', 'Households Level', 'avg_br_lev']\n",
      "\n",
      "MRE 62,757  R2 0.581   Adj_R2 0.581\n",
      "['median_income', '<1H OCEAN', 'INLAND', 'NEAR BAY', 'NEAR OCEAN', 'latitude', 'total_rooms', 'housing_median_age']\n",
      "\n",
      "MRE 63,080  R2 0.576   Adj_R2 0.575\n",
      "['median_income', '<1H OCEAN', 'INLAND', 'NEAR BAY', 'NEAR OCEAN', 'latitude', 'total_rooms', 'Households Level']\n",
      "\n",
      "MRE 63,552  R2 0.569   Adj_R2 0.569\n",
      "['median_income', '<1H OCEAN', 'INLAND', 'NEAR BAY', 'NEAR OCEAN', 'latitude', 'total_rooms', 'avg_br_lev']\n",
      "\n",
      "MRE 62,469  R2 0.584   Adj_R2 0.584\n",
      "['median_income', '<1H OCEAN', 'INLAND', 'NEAR BAY', 'NEAR OCEAN', 'latitude', 'housing_median_age', 'Households Level']\n",
      "\n",
      "MRE 63,103  R2 0.577   Adj_R2 0.577\n",
      "['median_income', '<1H OCEAN', 'INLAND', 'NEAR BAY', 'NEAR OCEAN', 'latitude', 'housing_median_age', 'avg_br_lev']\n",
      "\n",
      "MRE 63,381  R2 0.572   Adj_R2 0.571\n",
      "['median_income', '<1H OCEAN', 'INLAND', 'NEAR BAY', 'NEAR OCEAN', 'latitude', 'Households Level', 'avg_br_lev']\n",
      "\n",
      "MRE 62,152  R2 0.589   Adj_R2 0.588\n",
      "['median_income', '<1H OCEAN', 'INLAND', 'NEAR BAY', 'NEAR OCEAN', 'total_rooms', 'housing_median_age', 'Households Level']\n",
      "\n",
      "MRE 62,794  R2 0.580   Adj_R2 0.579\n",
      "['median_income', '<1H OCEAN', 'INLAND', 'NEAR BAY', 'NEAR OCEAN', 'total_rooms', 'housing_median_age', 'avg_br_lev']\n",
      "\n",
      "MRE 62,826  R2 0.580   Adj_R2 0.580\n",
      "['median_income', '<1H OCEAN', 'INLAND', 'NEAR BAY', 'NEAR OCEAN', 'total_rooms', 'Households Level', 'avg_br_lev']\n",
      "\n",
      "MRE 62,164  R2 0.588   Adj_R2 0.587\n",
      "['median_income', '<1H OCEAN', 'INLAND', 'NEAR BAY', 'NEAR OCEAN', 'housing_median_age', 'Households Level', 'avg_br_lev']\n",
      "\n",
      "MRE 62,048  R2 0.591   Adj_R2 0.590\n",
      "['median_income', '<1H OCEAN', 'INLAND', 'NEAR BAY', 'NEAR OCEAN', 'latitude', 'total_rooms', 'housing_median_age', 'Households Level']\n",
      "\n",
      "MRE 62,609  R2 0.582   Adj_R2 0.582\n",
      "['median_income', '<1H OCEAN', 'INLAND', 'NEAR BAY', 'NEAR OCEAN', 'latitude', 'total_rooms', 'housing_median_age', 'avg_br_lev']\n",
      "\n",
      "MRE 62,855  R2 0.580   Adj_R2 0.579\n",
      "['median_income', '<1H OCEAN', 'INLAND', 'NEAR BAY', 'NEAR OCEAN', 'latitude', 'total_rooms', 'Households Level', 'avg_br_lev']\n",
      "\n",
      "MRE 62,307  R2 0.588   Adj_R2 0.587\n",
      "['median_income', '<1H OCEAN', 'INLAND', 'NEAR BAY', 'NEAR OCEAN', 'latitude', 'housing_median_age', 'Households Level', 'avg_br_lev']\n",
      "\n",
      "MRE 61,730  R2 0.594   Adj_R2 0.593\n",
      "['median_income', '<1H OCEAN', 'INLAND', 'NEAR BAY', 'NEAR OCEAN', 'total_rooms', 'housing_median_age', 'Households Level', 'avg_br_lev']\n",
      "\n",
      "MRE 61,801  R2 0.594   Adj_R2 0.593\n",
      "['median_income', '<1H OCEAN', 'INLAND', 'NEAR BAY', 'NEAR OCEAN', 'latitude', 'total_rooms', 'housing_median_age', 'Households Level', 'avg_br_lev']\n",
      "\n"
     ]
    }
   ],
   "source": [
    "#num_trials = 10\n",
    "num_trials = 100\n",
    "core = ['median_income',] + list(ocean_prox_cols)\n",
    "\n",
    "# Using log median in the core does not work as well: Max R2 at .548\n",
    "# core = ['log_median_income',] + list(ocean_prox_cols)\n",
    "use_levels= 1\n",
    "household_var  = ['households','Households Level'][use_levels]\n",
    "bedroom_var  = ['avg_br','avg_br_lev'][1]\n",
    "additional = np.array(['latitude','total_rooms','housing_median_age',household_var,\n",
    "                        bedroom_var])\n",
    "#additional = np.array(['latitude','total_rooms','housing_median_age','avg_br'])\n",
    "#additional = np.array(['latitude','housing_median_age','avg_br'])\n",
    "\n",
    "#alts = powerset((0,1,2))\n",
    "alts = powerset(list(range(len(additional))))\n",
    "num_experiments = len(list(alts)) + 1\n",
    "scores = np.zeros((num_experiments,num_trials,3))\n",
    "\n",
    "#  Indices for choosing subsets pf additions\n",
    "alts = powerset(list(range(len(additional))))\n",
    "system = []\n",
    "\n",
    "# Include the assigned system first for a baseline\n",
    "new_ind_vars = ['median_income']\n",
    "newX,y = sensible_df[new_ind_vars], sensible_df['median_house_value']\n",
    "new_system_trial (newX, y, num_trials, scores[0], linear_model.LinearRegression)\n",
    "mn_sc = scores[0].mean(axis=0)\n",
    "print_mn_scores(mn_sc, newX)\n",
    "\n",
    "#  Now iterate  through all subsets of the chosen features regression and evaluating\n",
    "for (exp,idxs) in enumerate(alts):\n",
    "    chosen = additional[list(idxs)]\n",
    "    system.append(chosen)\n",
    "    exp= exp+1\n",
    "    new_ind_vars = core + list(chosen)\n",
    "    newX = sensible_df[new_ind_vars]\n",
    "    new_system_trial (newX, y, num_trials, scores[exp],linear_model.LinearRegression)\n",
    "    mn_sc = scores[exp].mean(axis=0)\n",
    "    print_mn_scores(mn_sc, newX)"
   ]
  },
  {
   "cell_type": "markdown",
   "id": "55120660",
   "metadata": {},
   "source": [
    "Results from previous runs, showing variation , even when averaging over 100 splits:\n",
    "\n",
    "```\n",
    "\n",
    "MRE 74,026  R2 0.418   Adj_R2 0.418\n",
    "['median_income']\n",
    "\n",
    "MRE 64,676  R2 0.557   Adj_R2 0.556\n",
    "['median_income', '<1H OCEAN', 'INLAND', 'ISLAND', 'NEAR BAY', 'NEAR OCEAN']\n",
    "\n",
    "MRE 64,573  R2 0.558   Adj_R2 0.558\n",
    "['median_income', '<1H OCEAN', 'INLAND', 'ISLAND', 'NEAR BAY', 'NEAR OCEAN', 'latitude']\n",
    "\n",
    "MRE 64,437  R2 0.559   Adj_R2 0.558\n",
    "['median_income', '<1H OCEAN', 'INLAND', 'ISLAND', 'NEAR BAY', 'NEAR OCEAN', 'total_rooms']\n",
    "\n",
    "MRE 64,045  R2 0.565   Adj_R2 0.564\n",
    "['median_income', '<1H OCEAN', 'INLAND', 'ISLAND', 'NEAR BAY', 'NEAR OCEAN', 'housing_median_age']\n",
    "\n",
    "MRE 64,389  R2 0.560   Adj_R2 0.559\n",
    "['median_income', '<1H OCEAN', 'INLAND', 'ISLAND', 'NEAR BAY', 'NEAR OCEAN', 'latitude', 'total_rooms']\n",
    "\n",
    "MRE 63,997  R2 0.566   Adj_R2 0.565\n",
    "['median_income', '<1H OCEAN', 'INLAND', 'ISLAND', 'NEAR BAY', 'NEAR OCEAN', 'latitude', 'housing_median_age']\n",
    "\n",
    "MRE 63,649  R2 0.570   Adj_R2 0.569\n",
    "['median_income', '<1H OCEAN', 'INLAND', 'ISLAND', 'NEAR BAY', 'NEAR OCEAN', 'total_rooms', 'housing_median_age']\n",
    "\n",
    "MRE 63,653  R2 0.571   Adj_R2 0.570\n",
    "['median_income', '<1H OCEAN', 'INLAND', 'ISLAND', 'NEAR BAY', 'NEAR OCEAN', 'latitude', 'total_rooms', 'housing_median_age']\n",
    "\n",
    "MRE 61,849  R2 0.593   Adj_R2 0.592\n",
    "['median_income', '<1H OCEAN', 'INLAND', 'ISLAND', 'NEAR BAY', 'NEAR OCEAN', 'total_rooms', 'housing_median_age', 'households', 'avg_br']\n",
    "\n",
    "```"
   ]
  },
  {
   "cell_type": "markdown",
   "id": "1a4d7a97",
   "metadata": {},
   "source": [
    "### A nonlinear model\n",
    "\n",
    "Let's try a random forest model on the feature set that works best, although we're\n",
    "going to see that screening our feature choices by using the results of a linear model\n",
    "is quite risky."
   ]
  },
  {
   "cell_type": "code",
   "execution_count": 59,
   "id": "d6e49752",
   "metadata": {},
   "outputs": [
    {
     "name": "stdout",
     "output_type": "stream",
     "text": [
      "MRE 59,085  R2 0.628   Adj_R2 0.628\n",
      "['median_income', '<1H OCEAN', 'INLAND', 'NEAR BAY', 'NEAR OCEAN', 'total_rooms', 'housing_median_age', 'avg_br', 'latitude']\n",
      "\n"
     ]
    }
   ],
   "source": [
    "import sklearn\n",
    "from sklearn import ensemble\n",
    "from sklearn.pipeline import make_pipeline\n",
    "from sklearn.preprocessing import StandardScaler\n",
    "from sklearn import ensemble\n",
    "\n",
    "#new_ind_vars = ['median_income', '<1H OCEAN', 'INLAND',  'NEAR BAY', \n",
    "#                'NEAR OCEAN', 'latitude', 'total_rooms', 'housing_median_age', 'Households Level']\n",
    "# The next one is unexpectedly bad (0.525), if you comment out \"latitide\"\n",
    "# despite that combo being quite competitive (.592) with the linear model\n",
    "new_ind_vars = ['median_income', '<1H OCEAN', 'INLAND', 'NEAR BAY', 'NEAR OCEAN', \n",
    "               'total_rooms', 'housing_median_age', 'avg_br',\n",
    "               'latitude', \n",
    "               ]\n",
    "#new_ind_vars = ['median_income', '<1H OCEAN', 'INLAND', 'NEAR BAY', 'NEAR OCEAN', \n",
    "#                'total_rooms', 'housing_median_age', 'households', 'avg_br']\n",
    "\n",
    "# The next one is unexpectedly bad (0.540), despite being quite competitive (.589) with the linear model\n",
    "#new_ind_vars = ['median_income', '<1H OCEAN', 'INLAND', 'ISLAND', 'NEAR BAY', 'NEAR OCEAN', \n",
    "#                'total_rooms', 'housing_median_age', 'households']\n",
    "\n",
    "newX,y = sensible_df[new_ind_vars], sensible_df['median_house_value']\n",
    "\n",
    "num_trials = 100\n",
    "scores =np.zeros((num_trials,3))\n",
    "\n",
    "#linear_model.LinearRegression\n",
    "new_system_trial (newX, y, num_trials, scores, ensemble.RandomForestRegressor, n_estimators=5)\n",
    "#new_system_trial (newX, y, num_trials, scores, linear_model.LinearRegression)\n",
    "mn_sc = scores.mean(axis=0)\n",
    "print_mn_scores(mn_sc, newX)"
   ]
  },
  {
   "cell_type": "markdown",
   "id": "bd30bcc9",
   "metadata": {},
   "source": [
    "Best model yet."
   ]
  },
  {
   "cell_type": "markdown",
   "id": "c2a3abc7",
   "metadata": {},
   "source": [
    "```\n",
    "MRE 60,075  R2 0.618   Adj_R2 0.617\n",
    "['median_income', '<1H OCEAN', 'INLAND', 'ISLAND', 'NEAR BAY', 'NEAR OCEAN', 'latitude', 'total_rooms', 'housing_median_age']\n",
    "```\n",
    "```\n",
    "MRE 59,440  R2 0.626   Adj_R2 0.625\n",
    "['median_income', '<1H OCEAN', 'INLAND', 'ISLAND', 'NEAR BAY', 'NEAR OCEAN', 'latitude', 'total_rooms', 'housing_median_age', 'Households Level']\n",
    "```\n",
    "\n",
    "```\n",
    "MRE 59,232  R2 0.627   Adj_R2 0.626\n",
    "['median_income', '<1H OCEAN', 'INLAND', 'ISLAND', 'NEAR BAY', 'NEAR OCEAN', 'latitude', 'total_rooms', 'housing_median_age', 'avg_br']\n",
    "\n",
    "!!! MRE 65,925  R2 0.537   Adj_R2 0.536\n",
    "['median_income', '<1H OCEAN', 'INLAND', 'ISLAND', 'NEAR BAY', 'NEAR OCEAN', 'total_rooms', 'housing_median_age', 'households']\n",
    "\n",
    "!! MRE 65,718  R2 0.541   Adj_R2 0.540\n",
    "['median_income', '<1H OCEAN', 'INLAND', 'ISLAND', 'NEAR BAY', 'NEAR OCEAN', 'total_rooms', 'housing_median_age', 'households']\n",
    "\n",
    "\n",
    "\n",
    "```\n"
   ]
  },
  {
   "cell_type": "markdown",
   "id": "f7691417",
   "metadata": {},
   "source": [
    "#### How about a polynomial model?"
   ]
  },
  {
   "cell_type": "markdown",
   "id": "8f9384c1",
   "metadata": {},
   "source": [
    "The next model is a little bit of a roller coaster ride.  The result below is quite good.  And this\n",
    "regressor (being computationally linear) is quite fast.\n",
    "\n",
    "But try adding 'households' to the feature set."
   ]
  },
  {
   "cell_type": "code",
   "execution_count": 60,
   "id": "9b0c4702",
   "metadata": {},
   "outputs": [
    {
     "name": "stdout",
     "output_type": "stream",
     "text": [
      "MRE 59,988  R2 0.617   Adj_R2 0.616\n",
      "['median_income', '<1H OCEAN', 'INLAND', 'NEAR BAY', 'NEAR OCEAN', 'total_rooms', 'housing_median_age', 'avg_br', 'latitude']\n",
      "\n"
     ]
    }
   ],
   "source": [
    "import sklearn\n",
    "from sklearn import ensemble\n",
    "from sklearn.pipeline import make_pipeline\n",
    "from sklearn.preprocessing import StandardScaler, PolynomialFeatures\n",
    "from sklearn import ensemble\n",
    "\n",
    "\n",
    "def make_polynomial_regressor (degree=2):\n",
    "    return make_pipeline(\n",
    "                         PolynomialFeatures(degree=degree),\n",
    "                         linear_model.LinearRegression())\n",
    "\n",
    "\n",
    "#new_ind_vars = ['median_income', '<1H OCEAN', 'INLAND', 'ISLAND', 'NEAR BAY', \n",
    "#                'NEAR OCEAN', 'latitude', 'total_rooms', 'housing_median_age', 'Households Level']\n",
    "#new_ind_vars = ['median_income', '<1H OCEAN', 'INLAND', 'ISLAND', 'NEAR BAY', \n",
    "#               'NEAR OCEAN', 'latitude', 'total_rooms', 'housing_median_age']\n",
    "new_ind_vars = ['median_income', '<1H OCEAN', 'INLAND', 'NEAR BAY', 'NEAR OCEAN', \n",
    "               'total_rooms', 'housing_median_age', 'avg_br',\n",
    "               'latitude', \n",
    "               ]\n",
    "\n",
    "newX,y = sensible_df[new_ind_vars], sensible_df['median_house_value']\n",
    "\n",
    "num_trials = 100\n",
    "scores =np.zeros((num_trials,3))\n",
    "\n",
    "#linear_model.LinearRegression\n",
    "new_system_trial (newX, y, num_trials, scores, make_polynomial_regressor, degree=2)\n",
    "#new_system_trial (newX, y, num_trials, scores, linear_model.LinearRegression)\n",
    "mn_sc = scores.mean(axis=0)\n",
    "print_mn_scores(mn_sc, newX)"
   ]
  },
  {
   "cell_type": "markdown",
   "id": "b0291b0f",
   "metadata": {},
   "source": [
    "## Ideas that don't work"
   ]
  },
  {
   "cell_type": "markdown",
   "id": "d642a5c6",
   "metadata": {},
   "source": [
    "### Unsupervised reduction\n",
    "\n",
    "Call this regressor PCR:  Use PCA.  Scale data first.  Then do linear regression."
   ]
  },
  {
   "cell_type": "code",
   "execution_count": 61,
   "id": "5c84e3c8",
   "metadata": {
    "scrolled": true
   },
   "outputs": [
    {
     "name": "stdout",
     "output_type": "stream",
     "text": [
      "MRE 94,408  R2 0.065   Adj_R2 0.064\n",
      "['median_income', '<1H OCEAN', 'INLAND', 'NEAR BAY', 'NEAR OCEAN', 'latitude', 'total_rooms', 'housing_median_age', 'Households Level']\n",
      "\n"
     ]
    }
   ],
   "source": [
    "import sklearn\n",
    "from sklearn import ensemble\n",
    "from sklearn.pipeline import make_pipeline\n",
    "from sklearn.preprocessing import StandardScaler\n",
    "from sklearn import ensemble\n",
    "from sklearn.decomposition import PCA\n",
    "\n",
    "\n",
    "new_ind_vars = ['median_income', '<1H OCEAN', 'INLAND', 'NEAR BAY', \n",
    "                'NEAR OCEAN', 'latitude', 'total_rooms', 'housing_median_age', 'Households Level']\n",
    "newX,y = sensible_df[new_ind_vars], sensible_df['median_house_value']\n",
    "\n",
    "num_trials = 10\n",
    "scores =np.zeros((num_trials,3))\n",
    "\n",
    "def make_PCA_regressor (n_components=10):\n",
    "    return make_pipeline(StandardScaler(), PCA(n_components=n_components), linear_model.LinearRegression())\n",
    "\n",
    "\n",
    "new_system_trial (newX, y, num_trials, scores, make_PCA_regressor,n_components=1)\n",
    "mn_sc = scores.mean(axis=0)\n",
    "print_mn_scores(mn_sc, newX)"
   ]
  },
  {
   "cell_type": "markdown",
   "id": "e6fc0a31",
   "metadata": {},
   "source": [
    "Ooh boy. Stinky poo.\n",
    "\n",
    ">PCR is a regressor composed of two steps: first, PCA is applied to the training data, possibly performing dimensionality reduction; then, a regressor (e.g. a linear regressor) is trained on the transformed samples. In PCA, the transformation is purely unsupervised, meaning that no information about the targets is used. As a result, **PCR may perform poorly in some datasets where the target is strongly correlated with directions that have low variance.** Indeed, the dimensionality reduction of PCA projects the data into a lower dimensional space where the variance of the projected data is greedily maximized along each axis. Despite them having the most predictive power on the target, the directions with a lower variance will be dropped, and the final regressor will not be able to leverage them.  **SCikit learn docs**"
   ]
  },
  {
   "cell_type": "markdown",
   "id": "3024972c",
   "metadata": {},
   "source": [
    "### Supervised reduction"
   ]
  },
  {
   "cell_type": "markdown",
   "id": "e9c01659",
   "metadata": {},
   "source": [
    "#### Linear Discriminant Analysis\n",
    "\n",
    "Reduce to find component that accounts for the most variation class by class."
   ]
  },
  {
   "cell_type": "code",
   "execution_count": 62,
   "id": "ce051f8f",
   "metadata": {},
   "outputs": [
    {
     "name": "stdout",
     "output_type": "stream",
     "text": [
      "MRE 80,357  R2 0.315   Adj_R2 0.314\n",
      "['median_income', '<1H OCEAN', 'INLAND', 'NEAR BAY', 'NEAR OCEAN', 'latitude', 'total_rooms', 'housing_median_age', 'Households Level']\n",
      "\n"
     ]
    }
   ],
   "source": [
    "from sklearn.discriminant_analysis import LinearDiscriminantAnalysis\n",
    "\n",
    "num_trials = 10\n",
    "scores =np.zeros((num_trials,3))\n",
    "\n",
    "new_system_trial (newX, y, num_trials, scores, LinearDiscriminantAnalysis, n_components=1)\n",
    "mn_sc = scores.mean(axis=0)\n",
    "print_mn_scores(mn_sc, newX)"
   ]
  },
  {
   "cell_type": "markdown",
   "id": "fa809959",
   "metadata": {},
   "source": [
    "#### Partial Least Squares Regression\n",
    "\n",
    "\n",
    "> PLS is both a transformer and a regressor, and it is quite similar to PCR: it also applies a dimensionality reduction to the samples before applying a linear regressor to the transformed data. The main difference with PCR is that the PLS transformation is supervised. "
   ]
  },
  {
   "cell_type": "code",
   "execution_count": 63,
   "id": "2f6e5cd7",
   "metadata": {},
   "outputs": [
    {
     "name": "stdout",
     "output_type": "stream",
     "text": [
      "MRE 67,455  R2 0.518   Adj_R2 0.517\n",
      "['median_income', '<1H OCEAN', 'INLAND', 'NEAR BAY', 'NEAR OCEAN', 'latitude', 'total_rooms', 'housing_median_age', 'Households Level']\n",
      "\n"
     ]
    }
   ],
   "source": [
    "from sklearn.cross_decomposition import PLSRegression\n",
    "num_trials = 10\n",
    "scores =np.zeros((num_trials,3))\n",
    "\n",
    "new_system_trial (newX, y, num_trials, scores, PLSRegression,n_components=1)\n",
    "mn_sc = scores.mean(axis=0)\n",
    "print_mn_scores(mn_sc, newX)"
   ]
  },
  {
   "cell_type": "markdown",
   "id": "f854f64f",
   "metadata": {},
   "source": [
    "### Summary\n",
    "\n",
    "1.  We preprocessed our feature set in various ways.\n",
    "\n",
    "    a. Did one-hot encoding of the categorical ocean proximity feature (**Biggest feature engineering win of the day**)\n",
    "    \n",
    "    b. Inferred some new columns based on nonlinear relations (households level, avg_br, avg_br_lev)\n",
    "    \n",
    "    c. Did some numerical cleanup (np.inf removal).\n",
    "    \n",
    "    d. Dealt with capped values in the dependent var column: `new_df[new_df.median_house_value < 500_000]`\n",
    "    \n",
    "2. Looked at correlations between feature columns and the dependent variable correlations to try to pick good candidates to explore.\n",
    "   \n",
    "3. Looping through various feature subsets, we **improved our Linear Model** R2 score considerably (**Adj_R2 0.430 -> .593, MRE 73,036 -> 61,849**).\n",
    "\n",
    "4.  Experimented with **non linear models** to improve performance still further.\n",
    "    \n",
    "    a. Random Forest Regressor  (**Adj_R2 0.593 -> 0.627, MRE  73,036 -> 59,039**)  Lowest MRE and highest Adjusted R2 of all models tested\n",
    "    \n",
    "    b. Polynomial (k=2) Regressor  (Adj_R2 0.593 -> 0.609, MRE  73,036 -> 60,509) \n",
    "    \n",
    "5.  We experimented with supervised reduction regressors (Linear discriminant analysis and Partial Least Squares Regression), using the best feature subsets,  and provisionally determined that these models were unable to improve on the linear model with feature subsets.\n",
    "\n",
    "\n",
    "These results are full of caveats.  With the nonlinear models, some feature sets perform better than they did with the linear model, but others perform considerably worse.   We don't know why.  Also We haven't done a full exploration of independent variuables to look for issues like **collinearity**.  That doesn't affect our R2 but it matters if we're really using the regression to do an **analysis**.\n",
    "\n",
    ">One important thing that we should notice is that collinearity would not affect the model prediction or the accuracy of the model. If you look at the R^2 comparison between the model with and without collinearity above, they are both similar. In fact, the model with collinearity typically yields to a better accuracy due to the fact it generally has more independent variables.\n",
    "\n",
    ">Collinearity only affects the variance of coefficient estimates and the p-Values. It affects the interpretability of the model, not the ability of the model to predict.\n",
    "\n",
    ">So, if you want to build a regression model to make predictions and you don’t need to understand the influence of each independent variable, then you don’t need to remove collinearity in your model. [Stratascratch regression discussion.](https://www.stratascratch.com/blog/a-beginner-s-guide-to-collinearity-what-it-is-and-how-it-affects-our-regression-model/#:~:text=The%20problem%20with%20collinearity%20is,than%20the%20model%20with%20collinearity.)\n",
    "    "
   ]
  },
  {
   "cell_type": "markdown",
   "id": "ecbf14df",
   "metadata": {},
   "source": [
    "### Discussion\n",
    "\n",
    "As some of you noted in your answers, an initial scatterplot of the data does not make a linear model look very promising."
   ]
  },
  {
   "cell_type": "code",
   "execution_count": 64,
   "id": "4afb8b1b",
   "metadata": {},
   "outputs": [
    {
     "data": {
      "image/png": "[encoded data removed]",
      "text/plain": [
       "<Figure size 1050x550 with 1 Axes>"
      ]
     },
     "metadata": {},
     "output_type": "display_data"
    }
   ],
   "source": [
    "fig, ax = plt.subplots(1,1,figsize=(10.5,5.5))\n",
    "import matplotlib.colors as mcolors\n",
    "tblue = mcolors.TABLEAU_COLORS['tab:blue']\n",
    "tred = mcolors.TABLEAU_COLORS['tab:red']\n",
    "\n",
    "X,y = sensible_df[['median_income']], sensible_df['median_house_value']\n",
    "xmin,xmax = X.min(),X.max()\n",
    "xmin,xmax = xmin.values[0],xmax.values[0]\n",
    "ymin,ymax = y.min(),y.max()\n",
    "\n",
    "# Scatterplot the actual test points.  Small size, low alpha.\n",
    "ax.scatter(X,y,s=4,color = tblue,alpha=.3)\n",
    "\n",
    "## Choose plot boundaries, cropping off the points at the artificial max\n",
    "xdelta,ydelta = .5,5_000\n",
    "plt.axis([xmin-xdelta, xmax+xdelta, ymin-ydelta, ymax-ydelta])\n",
    "plt.show()"
   ]
  },
  {
   "cell_type": "markdown",
   "id": "0d2cd515",
   "metadata": {},
   "source": [
    "But note if there is a third data dimension of the appropriate sort, data that looks like this\n",
    "in one projection may look linear in others.  So we need to a do a **complete** analysis,\n",
    "looking at all variable pairings to even make a first guess.  And even that won't always work\n",
    "(if the hyperplane that describes the linearity has too many dimensions).  The plot in the next\n",
    "section tries to help you visualize this.\n",
    "\n",
    "Of course some data **are** nonlinear, and this data may be an example.  \n",
    "\n",
    "But there's another question looming. Perhaps the variables we have in hand just collectively don't contain enough information to do good regression.  In that case we either get more information, or we have to be content with low R2-values.\n",
    "\n",
    "So we have 3 explanations for poor results in our linear regression, which are not mutually exclusive.\n",
    "\n",
    "1. The only true model is non linear\n",
    "2. The problem requires us to use more variables in our data get good results.\n",
    "3. The phenomenon we are studying is influenced by variables outside our data set.\n",
    "\n",
    "We might break out a subcase of 3, since it really merits special treatment:  There is noise in\n",
    "our data.  Noise is different because it may affect each variable in different ways, and needs to be modeled that way."
   ]
  },
  {
   "cell_type": "code",
   "execution_count": null,
   "id": "24da74ae",
   "metadata": {},
   "outputs": [],
   "source": []
  },
  {
   "cell_type": "code",
   "execution_count": null,
   "id": "68e2f52e",
   "metadata": {},
   "outputs": [],
   "source": []
  },
  {
   "cell_type": "code",
   "execution_count": null,
   "id": "194ede46",
   "metadata": {},
   "outputs": [],
   "source": []
  },
  {
   "cell_type": "code",
   "execution_count": null,
   "id": "639bbe38",
   "metadata": {},
   "outputs": [],
   "source": []
  },
  {
   "cell_type": "code",
   "execution_count": null,
   "id": "67ef39db",
   "metadata": {},
   "outputs": [],
   "source": []
  },
  {
   "cell_type": "code",
   "execution_count": null,
   "id": "f3c178eb",
   "metadata": {},
   "outputs": [],
   "source": []
  },
  {
   "cell_type": "code",
   "execution_count": null,
   "id": "54fcf574",
   "metadata": {},
   "outputs": [],
   "source": []
  },
  {
   "cell_type": "code",
   "execution_count": null,
   "id": "9f6c56c9",
   "metadata": {},
   "outputs": [],
   "source": []
  },
  {
   "cell_type": "code",
   "execution_count": null,
   "id": "4de75f15",
   "metadata": {},
   "outputs": [],
   "source": []
  },
  {
   "cell_type": "code",
   "execution_count": null,
   "id": "36a93de1",
   "metadata": {},
   "outputs": [],
   "source": []
  },
  {
   "cell_type": "code",
   "execution_count": null,
   "id": "839e4c26",
   "metadata": {},
   "outputs": [],
   "source": []
  },
  {
   "cell_type": "code",
   "execution_count": null,
   "id": "582d2d07",
   "metadata": {},
   "outputs": [],
   "source": []
  },
  {
   "cell_type": "markdown",
   "id": "e366e5fc",
   "metadata": {},
   "source": [
    "### Linearity in higher dimensions:   Was our data linear?"
   ]
  },
  {
   "cell_type": "markdown",
   "id": "1376f2b3",
   "metadata": {},
   "source": [
    "Many of you took one look at the cloud of points above and immediately concluded the porblem\n",
    "was non linear.\n",
    "\n",
    "When we look at a projection of linear data onto a lower number of dimensions,\n",
    "we can completely miss the linear structure.  The plot on the left shows that the X,Y,Z points lie on a plane.  The plot on the right is a projection of 250 randomly selected points from that plane\n",
    "on to the XZ plane.   The linear structure is gone. "
   ]
  },
  {
   "cell_type": "code",
   "execution_count": 93,
   "id": "84dbd34e",
   "metadata": {},
   "outputs": [],
   "source": [
    "import numpy as np\n",
    "import matplotlib.pyplot as plt\n",
    "from mpl_toolkits.mplot3d import Axes3D\n",
    "import random\n",
    "\n",
    "\n",
    "#ax + by + cz + d = 0\n",
    "# z = -a/c x -b/c y - d\n",
    "# Trythis form\n",
    "# z = ax + b y + c\n",
    "# z = x + y + c (a=1,b=1,c=intercept)\n",
    "\n",
    "a,b,c = 1,1,-3\n",
    "def f(x,y):\n",
    "    return a*x + b*y + c\n",
    "\n",
    "x = np.linspace(0,3)\n",
    "y = np.linspace(0,3)\n",
    "X,Y = np.meshgrid(x,y)\n",
    "Z = f(X, Y)\n",
    "d1,d2 = Z.shape\n",
    "mu, sigma = 0, 0.1 # mean and standard deviation\n",
    "# Add some noise to z\n",
    "s = np.random.normal(mu, sigma, x.shape[0]**2).reshape((d1,d2))\n",
    "Z = Z + s"
   ]
  },
  {
   "cell_type": "code",
   "execution_count": 91,
   "id": "6ee07248",
   "metadata": {},
   "outputs": [
    {
     "data": {
      "text/plain": [
       "(50,)"
      ]
     },
     "execution_count": 91,
     "metadata": {},
     "output_type": "execute_result"
    }
   ],
   "source": [
    "x.shape"
   ]
  },
  {
   "cell_type": "code",
   "execution_count": 94,
   "id": "db239daf",
   "metadata": {},
   "outputs": [
    {
     "data": {
      "text/plain": [
       "(-3.0390466285840207, 2.9582118326687876)"
      ]
     },
     "execution_count": 94,
     "metadata": {},
     "output_type": "execute_result"
    }
   ],
   "source": [
    "Z.min(),Z.max()"
   ]
  },
  {
   "cell_type": "markdown",
   "id": "77ea92d5",
   "metadata": {},
   "source": [
    "Draw a plot:"
   ]
  },
  {
   "cell_type": "code",
   "execution_count": 95,
   "id": "15bcf79b",
   "metadata": {},
   "outputs": [
    {
     "name": "stdout",
     "output_type": "stream",
     "text": [
      "ax0.azim=-20\n",
      "ax0.elev=-180\n"
     ]
    },
    {
     "data": {
      "image/png": "[encoded data removed]",
      "text/plain": [
       "<Figure size 1000x800 with 2 Axes>"
      ]
     },
     "metadata": {},
     "output_type": "display_data"
    }
   ],
   "source": [
    "fig = plt.figure(figsize=(10,8))\n",
    "ax0 = fig.add_subplot(121, projection='3d')\n",
    "ax1 = fig.add_subplot(122)\n",
    "\n",
    "\n",
    "ax0.scatter(X, Y, Z,)\n",
    "ax0.view_init(-180, -20)  # From ??\n",
    "ax0.set_title(\"Planar data\")\n",
    "\n",
    "# Plot projection of plane onto XZ plane\n",
    "XX,YY, ZZ = X.ravel(),Y.ravel(), Z.ravel()\n",
    "indices = np.array([random.randint(0,2499) for i in range(1500)])\n",
    "xp,yp, zp = XX[indices], YY[indices], ZZ[indices]\n",
    "ax1.scatter(xp,zp,s=5)\n",
    "ax1.set_ylabel('z_axis')\n",
    "ax1.set_xlabel('x_axis')\n",
    "print(f'{ax0.azim=}')\n",
    "print(f'{ax0.elev=}')\n",
    "T = ax1.set_title(\"Project planar data sample onto the XZ plane\")"
   ]
  },
  {
   "cell_type": "markdown",
   "id": "2700a947",
   "metadata": {},
   "source": [
    "But in fact linear regression will work perfectly.\n",
    "\n",
    "Put the randomly sampled data into 2D array form."
   ]
  },
  {
   "cell_type": "code",
   "execution_count": 96,
   "id": "a390b2ff",
   "metadata": {},
   "outputs": [],
   "source": [
    "#data = np.concatenate([XX[:,np.newaxis],YY[:,np.newaxis]],axis=1)\n",
    "X_train = np.concatenate([xp[:,np.newaxis],yp[:,np.newaxis]],axis=1)\n",
    "z_train = zp"
   ]
  },
  {
   "cell_type": "code",
   "execution_count": 97,
   "id": "4dfd4e5a",
   "metadata": {},
   "outputs": [],
   "source": [
    "## Take another sample for test data\n",
    "test_indices = np.array([random.randint(0,2499) for i in range(250)])\n",
    "xp0,yp0,z_test = XX[test_indices], YY[test_indices], ZZ[test_indices]\n",
    "X_test = np.concatenate([xp0[:,np.newaxis],yp0[:,np.newaxis]],axis=1)"
   ]
  },
  {
   "cell_type": "code",
   "execution_count": 98,
   "id": "1eb005d8",
   "metadata": {},
   "outputs": [
    {
     "data": {
      "text/html": [
       "<style>#sk-container-id-4 {color: black;background-color: white;}#sk-container-id-4 pre{padding: 0;}#sk-container-id-4 div.sk-toggleable {background-color: white;}#sk-container-id-4 label.sk-toggleable__label {cursor: pointer;display: block;width: 100%;margin-bottom: 0;padding: 0.3em;box-sizing: border-box;text-align: center;}#sk-container-id-4 label.sk-toggleable__label-arrow:before {content: \"▸\";float: left;margin-right: 0.25em;color: #696969;}#sk-container-id-4 label.sk-toggleable__label-arrow:hover:before {color: black;}#sk-container-id-4 div.sk-estimator:hover label.sk-toggleable__label-arrow:before {color: black;}#sk-container-id-4 div.sk-toggleable__content {max-height: 0;max-width: 0;overflow: hidden;text-align: left;background-color: #f0f8ff;}#sk-container-id-4 div.sk-toggleable__content pre {margin: 0.2em;color: black;border-radius: 0.25em;background-color: #f0f8ff;}#sk-container-id-4 input.sk-toggleable__control:checked~div.sk-toggleable__content {max-height: 200px;max-width: 100%;overflow: auto;}#sk-container-id-4 input.sk-toggleable__control:checked~label.sk-toggleable__label-arrow:before {content: \"▾\";}#sk-container-id-4 div.sk-estimator input.sk-toggleable__control:checked~label.sk-toggleable__label {background-color: #d4ebff;}#sk-container-id-4 div.sk-label input.sk-toggleable__control:checked~label.sk-toggleable__label {background-color: #d4ebff;}#sk-container-id-4 input.sk-hidden--visually {border: 0;clip: rect(1px 1px 1px 1px);clip: rect(1px, 1px, 1px, 1px);height: 1px;margin: -1px;overflow: hidden;padding: 0;position: absolute;width: 1px;}#sk-container-id-4 div.sk-estimator {font-family: monospace;background-color: #f0f8ff;border: 1px dotted black;border-radius: 0.25em;box-sizing: border-box;margin-bottom: 0.5em;}#sk-container-id-4 div.sk-estimator:hover {background-color: #d4ebff;}#sk-container-id-4 div.sk-parallel-item::after {content: \"\";width: 100%;border-bottom: 1px solid gray;flex-grow: 1;}#sk-container-id-4 div.sk-label:hover label.sk-toggleable__label {background-color: #d4ebff;}#sk-container-id-4 div.sk-serial::before {content: \"\";position: absolute;border-left: 1px solid gray;box-sizing: border-box;top: 0;bottom: 0;left: 50%;z-index: 0;}#sk-container-id-4 div.sk-serial {display: flex;flex-direction: column;align-items: center;background-color: white;padding-right: 0.2em;padding-left: 0.2em;position: relative;}#sk-container-id-4 div.sk-item {position: relative;z-index: 1;}#sk-container-id-4 div.sk-parallel {display: flex;align-items: stretch;justify-content: center;background-color: white;position: relative;}#sk-container-id-4 div.sk-item::before, #sk-container-id-4 div.sk-parallel-item::before {content: \"\";position: absolute;border-left: 1px solid gray;box-sizing: border-box;top: 0;bottom: 0;left: 50%;z-index: -1;}#sk-container-id-4 div.sk-parallel-item {display: flex;flex-direction: column;z-index: 1;position: relative;background-color: white;}#sk-container-id-4 div.sk-parallel-item:first-child::after {align-self: flex-end;width: 50%;}#sk-container-id-4 div.sk-parallel-item:last-child::after {align-self: flex-start;width: 50%;}#sk-container-id-4 div.sk-parallel-item:only-child::after {width: 0;}#sk-container-id-4 div.sk-dashed-wrapped {border: 1px dashed gray;margin: 0 0.4em 0.5em 0.4em;box-sizing: border-box;padding-bottom: 0.4em;background-color: white;}#sk-container-id-4 div.sk-label label {font-family: monospace;font-weight: bold;display: inline-block;line-height: 1.2em;}#sk-container-id-4 div.sk-label-container {text-align: center;}#sk-container-id-4 div.sk-container {/* jupyter's `normalize.less` sets `[hidden] { display: none; }` but bootstrap.min.css set `[hidden] { display: none !important; }` so we also need the `!important` here to be able to override the default hidden behavior on the sphinx rendered scikit-learn.org. See: https://github.com/scikit-learn/scikit-learn/issues/21755 */display: inline-block !important;position: relative;}#sk-container-id-4 div.sk-text-repr-fallback {display: none;}</style><div id=\"sk-container-id-4\" class=\"sk-top-container\"><div class=\"sk-text-repr-fallback\"><pre>LinearRegression()</pre><b>In a Jupyter environment, please rerun this cell to show the HTML representation or trust the notebook. <br />On GitHub, the HTML representation is unable to render, please try loading this page with nbviewer.org.</b></div><div class=\"sk-container\" hidden><div class=\"sk-item\"><div class=\"sk-estimator sk-toggleable\"><input class=\"sk-toggleable__control sk-hidden--visually\" id=\"sk-estimator-id-4\" type=\"checkbox\" checked><label for=\"sk-estimator-id-4\" class=\"sk-toggleable__label sk-toggleable__label-arrow\">LinearRegression</label><div class=\"sk-toggleable__content\"><pre>LinearRegression()</pre></div></div></div></div></div>"
      ],
      "text/plain": [
       "LinearRegression()"
      ]
     },
     "execution_count": 98,
     "metadata": {},
     "output_type": "execute_result"
    }
   ],
   "source": [
    "lin1 = linear_model.LinearRegression()\n",
    "lin1.fit(X_train,z_train)"
   ]
  },
  {
   "cell_type": "code",
   "execution_count": 99,
   "id": "d68f209b",
   "metadata": {},
   "outputs": [],
   "source": [
    "predictions = lin1.predict(X_test)"
   ]
  },
  {
   "cell_type": "code",
   "execution_count": 100,
   "id": "c2016635",
   "metadata": {},
   "outputs": [
    {
     "data": {
      "text/plain": [
       "(0.9932841516999961, 0.011085805929015865)"
      ]
     },
     "execution_count": 100,
     "metadata": {},
     "output_type": "execute_result"
    }
   ],
   "source": [
    "r2_score(z_test,predictions,),mean_squared_error(z_test,predictions,)"
   ]
  },
  {
   "cell_type": "code",
   "execution_count": 101,
   "id": "e066a44a",
   "metadata": {},
   "outputs": [
    {
     "data": {
      "text/plain": [
       "array([-0.02402549,  0.10394616,  0.15785866,  0.03796992,  0.0181179 ,\n",
       "       -0.01359771,  0.25645632,  0.06764667,  0.01359388, -0.14496937])"
      ]
     },
     "execution_count": 101,
     "metadata": {},
     "output_type": "execute_result"
    }
   ],
   "source": [
    "\n",
    "residuals = (z_test - predictions)\n",
    "residuals[:10]"
   ]
  },
  {
   "cell_type": "markdown",
   "id": "af650c29",
   "metadata": {},
   "source": [
    "So what we've demonstrated with toy data is that a sample of perfectly linear data can look nonlinear if we\n",
    "only look at a projection (2 of the 3 dimensions).  And that linear regression can work fine on data like\n",
    "this (because it **is** linear, the equation generating it is the equation of a plane).  The R2 is a perfect\n",
    "1.0.  And the MSE is practically undetectable.\n",
    "\n",
    "Of course real data is never this perfectly linear; there is usually\n",
    "noise, we won't usually have our hands on all the relevant variables. So these results are a little \n",
    "fantasy like.\n",
    "\n",
    "But the take away here is the visual.  The randomly sampled data is only **approximately** linear.\n",
    "Because of the noise we added, it does not meet the mathematical ideal of linearity.    \n",
    "Nevertheles, the regression algorithm, constrained to find a linear\n",
    "predictor, found the exact parameters we  used to generate the data:"
   ]
  },
  {
   "cell_type": "code",
   "execution_count": 102,
   "id": "0d1fb3c4",
   "metadata": {
    "scrolled": true
   },
   "outputs": [
    {
     "name": "stdout",
     "output_type": "stream",
     "text": [
      "1 1 -3\n",
      "1.0 1.0 -3.0\n"
     ]
    }
   ],
   "source": [
    "print(a,b,c)\n",
    "print(f\"{lin1.coef_[0]:.1f} {lin1.coef_[1]:.1f} {lin1.intercept_:.1f}\")"
   ]
  },
  {
   "cell_type": "markdown",
   "id": "652279e1",
   "metadata": {},
   "source": [
    "And it still looks like a mess as a projection."
   ]
  },
  {
   "cell_type": "code",
   "execution_count": 103,
   "id": "f1ce7446",
   "metadata": {},
   "outputs": [],
   "source": [
    "df0 = pd.DataFrame(X_train,columns=['x','y'])\n",
    "df0['z'] = z_train"
   ]
  },
  {
   "cell_type": "markdown",
   "id": "64c43c3c",
   "metadata": {},
   "source": [
    "Checking that the alignment of the sample is not perfect (the noise guarntees that)"
   ]
  },
  {
   "cell_type": "code",
   "execution_count": 104,
   "id": "260ca699",
   "metadata": {},
   "outputs": [
    {
     "data": {
      "text/plain": [
       "False"
      ]
     },
     "execution_count": 104,
     "metadata": {},
     "output_type": "execute_result"
    }
   ],
   "source": [
    "z = a*df0['x'] + b*df0['y'] + c\n",
    "(z ==  df0[\"z\"]).all()"
   ]
  },
  {
   "cell_type": "markdown",
   "id": "5a7f9db5",
   "metadata": {},
   "source": [
    "And showing what an imperfect tool correlation can be for exposing linearity: `x` and `y` both have strong\n",
    "but imperfect correlations to `z` (note the same x-value can correspond to multiple z-values, so the correlation can't be perfect)."
   ]
  },
  {
   "cell_type": "code",
   "execution_count": 77,
   "id": "f5eb02a6",
   "metadata": {},
   "outputs": [
    {
     "data": {
      "text/html": [
       "<div>\n",
       "<style scoped>\n",
       "    .dataframe tbody tr th:only-of-type {\n",
       "        vertical-align: middle;\n",
       "    }\n",
       "\n",
       "    .dataframe tbody tr th {\n",
       "        vertical-align: top;\n",
       "    }\n",
       "\n",
       "    .dataframe thead th {\n",
       "        text-align: right;\n",
       "    }\n",
       "</style>\n",
       "<table border=\"1\" class=\"dataframe\">\n",
       "  <thead>\n",
       "    <tr style=\"text-align: right;\">\n",
       "      <th></th>\n",
       "      <th>x</th>\n",
       "      <th>y</th>\n",
       "      <th>z</th>\n",
       "    </tr>\n",
       "  </thead>\n",
       "  <tbody>\n",
       "    <tr>\n",
       "      <th>x</th>\n",
       "      <td>1.000000</td>\n",
       "      <td>-0.010543</td>\n",
       "      <td>0.694137</td>\n",
       "    </tr>\n",
       "    <tr>\n",
       "      <th>y</th>\n",
       "      <td>-0.010543</td>\n",
       "      <td>1.000000</td>\n",
       "      <td>0.707670</td>\n",
       "    </tr>\n",
       "    <tr>\n",
       "      <th>z</th>\n",
       "      <td>0.694137</td>\n",
       "      <td>0.707670</td>\n",
       "      <td>1.000000</td>\n",
       "    </tr>\n",
       "  </tbody>\n",
       "</table>\n",
       "</div>"
      ],
      "text/plain": [
       "          x         y         z\n",
       "x  1.000000 -0.010543  0.694137\n",
       "y -0.010543  1.000000  0.707670\n",
       "z  0.694137  0.707670  1.000000"
      ]
     },
     "execution_count": 77,
     "metadata": {},
     "output_type": "execute_result"
    }
   ],
   "source": [
    "df0.corr()"
   ]
  },
  {
   "cell_type": "markdown",
   "id": "d467d38b",
   "metadata": {},
   "source": [
    "# Exercises"
   ]
  },
  {
   "cell_type": "markdown",
   "id": "49a77447",
   "metadata": {},
   "source": [
    "We'll use one of the standard data sets in R, the \"Prestige\" data."
   ]
  },
  {
   "cell_type": "code",
   "execution_count": 106,
   "id": "95582eb3",
   "metadata": {},
   "outputs": [
    {
     "data": {
      "text/html": [
       "<div>\n",
       "<style scoped>\n",
       "    .dataframe tbody tr th:only-of-type {\n",
       "        vertical-align: middle;\n",
       "    }\n",
       "\n",
       "    .dataframe tbody tr th {\n",
       "        vertical-align: top;\n",
       "    }\n",
       "\n",
       "    .dataframe thead th {\n",
       "        text-align: right;\n",
       "    }\n",
       "</style>\n",
       "<table border=\"1\" class=\"dataframe\">\n",
       "  <thead>\n",
       "    <tr style=\"text-align: right;\">\n",
       "      <th></th>\n",
       "      <th>education</th>\n",
       "      <th>income</th>\n",
       "      <th>women</th>\n",
       "      <th>prestige</th>\n",
       "      <th>census</th>\n",
       "      <th>type</th>\n",
       "    </tr>\n",
       "  </thead>\n",
       "  <tbody>\n",
       "    <tr>\n",
       "      <th>gov.administrators</th>\n",
       "      <td>13.11</td>\n",
       "      <td>12351</td>\n",
       "      <td>11.16</td>\n",
       "      <td>68.8</td>\n",
       "      <td>1113</td>\n",
       "      <td>prof</td>\n",
       "    </tr>\n",
       "    <tr>\n",
       "      <th>general.managers</th>\n",
       "      <td>12.26</td>\n",
       "      <td>25879</td>\n",
       "      <td>4.02</td>\n",
       "      <td>69.1</td>\n",
       "      <td>1130</td>\n",
       "      <td>prof</td>\n",
       "    </tr>\n",
       "    <tr>\n",
       "      <th>accountants</th>\n",
       "      <td>12.77</td>\n",
       "      <td>9271</td>\n",
       "      <td>15.70</td>\n",
       "      <td>63.4</td>\n",
       "      <td>1171</td>\n",
       "      <td>prof</td>\n",
       "    </tr>\n",
       "    <tr>\n",
       "      <th>purchasing.officers</th>\n",
       "      <td>11.42</td>\n",
       "      <td>8865</td>\n",
       "      <td>9.11</td>\n",
       "      <td>56.8</td>\n",
       "      <td>1175</td>\n",
       "      <td>prof</td>\n",
       "    </tr>\n",
       "    <tr>\n",
       "      <th>chemists</th>\n",
       "      <td>14.62</td>\n",
       "      <td>8403</td>\n",
       "      <td>11.68</td>\n",
       "      <td>73.5</td>\n",
       "      <td>2111</td>\n",
       "      <td>prof</td>\n",
       "    </tr>\n",
       "    <tr>\n",
       "      <th>...</th>\n",
       "      <td>...</td>\n",
       "      <td>...</td>\n",
       "      <td>...</td>\n",
       "      <td>...</td>\n",
       "      <td>...</td>\n",
       "      <td>...</td>\n",
       "    </tr>\n",
       "    <tr>\n",
       "      <th>bus.drivers</th>\n",
       "      <td>7.58</td>\n",
       "      <td>5562</td>\n",
       "      <td>9.47</td>\n",
       "      <td>35.9</td>\n",
       "      <td>9171</td>\n",
       "      <td>bc</td>\n",
       "    </tr>\n",
       "    <tr>\n",
       "      <th>taxi.drivers</th>\n",
       "      <td>7.93</td>\n",
       "      <td>4224</td>\n",
       "      <td>3.59</td>\n",
       "      <td>25.1</td>\n",
       "      <td>9173</td>\n",
       "      <td>bc</td>\n",
       "    </tr>\n",
       "    <tr>\n",
       "      <th>longshoremen</th>\n",
       "      <td>8.37</td>\n",
       "      <td>4753</td>\n",
       "      <td>0.00</td>\n",
       "      <td>26.1</td>\n",
       "      <td>9313</td>\n",
       "      <td>bc</td>\n",
       "    </tr>\n",
       "    <tr>\n",
       "      <th>typesetters</th>\n",
       "      <td>10.00</td>\n",
       "      <td>6462</td>\n",
       "      <td>13.58</td>\n",
       "      <td>42.2</td>\n",
       "      <td>9511</td>\n",
       "      <td>bc</td>\n",
       "    </tr>\n",
       "    <tr>\n",
       "      <th>bookbinders</th>\n",
       "      <td>8.55</td>\n",
       "      <td>3617</td>\n",
       "      <td>70.87</td>\n",
       "      <td>35.2</td>\n",
       "      <td>9517</td>\n",
       "      <td>bc</td>\n",
       "    </tr>\n",
       "  </tbody>\n",
       "</table>\n",
       "<p>102 rows × 6 columns</p>\n",
       "</div>"
      ],
      "text/plain": [
       "                     education  income  women  prestige  census  type\n",
       "gov.administrators       13.11   12351  11.16      68.8    1113  prof\n",
       "general.managers         12.26   25879   4.02      69.1    1130  prof\n",
       "accountants              12.77    9271  15.70      63.4    1171  prof\n",
       "purchasing.officers      11.42    8865   9.11      56.8    1175  prof\n",
       "chemists                 14.62    8403  11.68      73.5    2111  prof\n",
       "...                        ...     ...    ...       ...     ...   ...\n",
       "bus.drivers               7.58    5562   9.47      35.9    9171    bc\n",
       "taxi.drivers              7.93    4224   3.59      25.1    9173    bc\n",
       "longshoremen              8.37    4753   0.00      26.1    9313    bc\n",
       "typesetters              10.00    6462  13.58      42.2    9511    bc\n",
       "bookbinders               8.55    3617  70.87      35.2    9517    bc\n",
       "\n",
       "[102 rows x 6 columns]"
      ]
     },
     "execution_count": 106,
     "metadata": {},
     "output_type": "execute_result"
    }
   ],
   "source": [
    "import pandas as pd\n",
    "import numpy as np\n",
    "from sklearn import linear_model\n",
    "from sklearn.model_selection import train_test_split\n",
    "from sklearn.metrics import mean_squared_error,r2_score\n",
    "\n",
    "# Where the data is if you follow the directory structure on githyb\n",
    "#url = \"https://github.com/gawron/python-for-social-science/blob/master/visualization/data/Prestige.csv\"\n",
    "# Where you have to look to download it directly.  The server address changes, also the \"blob\" goes away.\n",
    "url = \"https://raw.githubusercontent.com/gawron/python-for-social-science/master/visualization/data/Prestige.csv\"\n",
    "#df = pd.read_csv(\"data/Prestige.csv\",header=0,index_col=0)\n",
    "df = pd.read_csv(url,header=0,index_col=0)\n",
    "df"
   ]
  },
  {
   "cell_type": "markdown",
   "id": "28a3863f",
   "metadata": {},
   "source": [
    "To predict"
   ]
  },
  {
   "cell_type": "code",
   "execution_count": 107,
   "id": "11514ad8",
   "metadata": {},
   "outputs": [
    {
     "data": {
      "text/plain": [
       "gov.administrators     68.8\n",
       "general.managers       69.1\n",
       "accountants            63.4\n",
       "purchasing.officers    56.8\n",
       "chemists               73.5\n",
       "                       ... \n",
       "bus.drivers            35.9\n",
       "taxi.drivers           25.1\n",
       "longshoremen           26.1\n",
       "typesetters            42.2\n",
       "bookbinders            35.2\n",
       "Name: prestige, Length: 102, dtype: float64"
      ]
     },
     "execution_count": 107,
     "metadata": {},
     "output_type": "execute_result"
    }
   ],
   "source": [
    "df[\"prestige\"]"
   ]
  },
  {
   "cell_type": "markdown",
   "id": "778fd005",
   "metadata": {},
   "source": [
    "#### A good predictor"
   ]
  },
  {
   "cell_type": "code",
   "execution_count": 108,
   "id": "4c6a669a",
   "metadata": {},
   "outputs": [
    {
     "data": {
      "text/html": [
       "<div>\n",
       "<style scoped>\n",
       "    .dataframe tbody tr th:only-of-type {\n",
       "        vertical-align: middle;\n",
       "    }\n",
       "\n",
       "    .dataframe tbody tr th {\n",
       "        vertical-align: top;\n",
       "    }\n",
       "\n",
       "    .dataframe thead th {\n",
       "        text-align: right;\n",
       "    }\n",
       "</style>\n",
       "<table border=\"1\" class=\"dataframe\">\n",
       "  <thead>\n",
       "    <tr style=\"text-align: right;\">\n",
       "      <th></th>\n",
       "      <th>income</th>\n",
       "      <th>log_income</th>\n",
       "    </tr>\n",
       "  </thead>\n",
       "  <tbody>\n",
       "    <tr>\n",
       "      <th>count</th>\n",
       "      <td>102.000000</td>\n",
       "      <td>102.000000</td>\n",
       "    </tr>\n",
       "    <tr>\n",
       "      <th>mean</th>\n",
       "      <td>6797.901961</td>\n",
       "      <td>8.660508</td>\n",
       "    </tr>\n",
       "    <tr>\n",
       "      <th>std</th>\n",
       "      <td>4245.922227</td>\n",
       "      <td>0.591449</td>\n",
       "    </tr>\n",
       "    <tr>\n",
       "      <th>min</th>\n",
       "      <td>611.000000</td>\n",
       "      <td>6.415097</td>\n",
       "    </tr>\n",
       "    <tr>\n",
       "      <th>25%</th>\n",
       "      <td>4106.000000</td>\n",
       "      <td>8.320120</td>\n",
       "    </tr>\n",
       "    <tr>\n",
       "      <th>50%</th>\n",
       "      <td>5930.500000</td>\n",
       "      <td>8.687852</td>\n",
       "    </tr>\n",
       "    <tr>\n",
       "      <th>75%</th>\n",
       "      <td>8187.250000</td>\n",
       "      <td>9.010325</td>\n",
       "    </tr>\n",
       "    <tr>\n",
       "      <th>max</th>\n",
       "      <td>25879.000000</td>\n",
       "      <td>10.161187</td>\n",
       "    </tr>\n",
       "  </tbody>\n",
       "</table>\n",
       "</div>"
      ],
      "text/plain": [
       "             income  log_income\n",
       "count    102.000000  102.000000\n",
       "mean    6797.901961    8.660508\n",
       "std     4245.922227    0.591449\n",
       "min      611.000000    6.415097\n",
       "25%     4106.000000    8.320120\n",
       "50%     5930.500000    8.687852\n",
       "75%     8187.250000    9.010325\n",
       "max    25879.000000   10.161187"
      ]
     },
     "execution_count": 108,
     "metadata": {},
     "output_type": "execute_result"
    }
   ],
   "source": [
    "new_col = np.log(df['income'])\n",
    "new_col.name=\"log_income\"\n",
    "df0 = pd.DataFrame([df[\"income\"],new_col]).T\n",
    "df0.describe()"
   ]
  },
  {
   "cell_type": "markdown",
   "id": "458558dd",
   "metadata": {},
   "source": [
    "#### Log(income col) + education +women\n",
    "\n",
    "We'll use three columns for our regression.  One of which is created by a log transformation.  We apply log\n",
    "to the income column to reduce its skewness.  To understand this, note how, in the income column, the distance between the 25-percentile point and 50-percentile point is much smaller than the distance between the 50-percentile point and the 75-percentile point. "
   ]
  },
  {
   "cell_type": "code",
   "execution_count": 109,
   "id": "1dc26c3b",
   "metadata": {},
   "outputs": [
    {
     "data": {
      "text/plain": [
       "count      102.000000\n",
       "mean      6797.901961\n",
       "std       4245.922227\n",
       "min        611.000000\n",
       "25%       4106.000000\n",
       "50%       5930.500000\n",
       "75%       8187.250000\n",
       "max      25879.000000\n",
       "Name: income, dtype: float64"
      ]
     },
     "execution_count": 109,
     "metadata": {},
     "output_type": "execute_result"
    }
   ],
   "source": [
    "df.describe()['income']"
   ]
  },
  {
   "cell_type": "markdown",
   "id": "1df44240",
   "metadata": {},
   "source": []
  },
  {
   "cell_type": "code",
   "execution_count": 110,
   "id": "0cff4461",
   "metadata": {},
   "outputs": [],
   "source": [
    "def make_model(X,y, random_state=1,do_split=True):\n",
    "    lin1 = linear_model.LinearRegression()\n",
    "    if do_split:\n",
    "        X_train, X_test, y_train, y_test = train_test_split(X,y,random_state=random_state)\n",
    "    else:\n",
    "        X_train, X_test, y_train, y_test = X,X,y,y\n",
    "    lin1.fit(X_train,y_train)\n",
    "    predictions = lin1.predict(X_test)\n",
    "    return lin1, X_test, y_test, predictions \n",
    "\n",
    "def get_residuals (y_test, predictions):\n",
    "    residuals = (y_test - predictions)\n",
    "    return residuals\n",
    "\n",
    "def adj_r2 (r2, n, p):\n",
    "    return 1-((1-r2)*(n-1)/(n-p))\n",
    "    \n",
    "df[\"log_income\"] = np.log(df[\"income\"])\n",
    "\n",
    "\n",
    "#ind_vars= ['education']\n",
    "# This time using log_income improves the model\n",
    "ind_vars = ['education',\"log_income\",\"women\"]\n",
    "#ind_vars = ['education',\"income\",\"women\"]\n",
    "#ind_vars = ['education',\"log_income\",\"women\",\"census\"]\n",
    "p = len(ind_vars)\n",
    "\n",
    "X, y = df[ind_vars], df[\"prestige\"]\n",
    "lin1, X_test, y_test, predictions  = make_model(X,y,random_state=42,do_split=False)\n",
    "residuals = get_residuals (y_test, predictions)\n",
    "N = len(y_test)"
   ]
  },
  {
   "cell_type": "code",
   "execution_count": 111,
   "id": "b6e314d1",
   "metadata": {},
   "outputs": [
    {
     "data": {
      "text/plain": [
       "gov.administrators     3.727401\n",
       "general.managers      -2.407019\n",
       "accountants            3.237568\n",
       "purchasing.officers    2.584560\n",
       "chemists               7.945657\n",
       "Name: prestige, dtype: float64"
      ]
     },
     "execution_count": 111,
     "metadata": {},
     "output_type": "execute_result"
    }
   ],
   "source": [
    "residuals[:5]"
   ]
  },
  {
   "cell_type": "code",
   "execution_count": 112,
   "id": "ddf35cac",
   "metadata": {},
   "outputs": [
    {
     "data": {
      "text/plain": [
       "(-0.10101829222855763, 19.17933592185765, -17.36391398507096)"
      ]
     },
     "execution_count": 112,
     "metadata": {},
     "output_type": "execute_result"
    }
   ],
   "source": [
    "# education \n",
    "# 'education',\"log_income\",\"women\" (-0.10101829222855763, 19.17933592185765, -17.36391398507096)\n",
    "residuals.median(), residuals.max(), residuals.min()"
   ]
  },
  {
   "cell_type": "code",
   "execution_count": 113,
   "id": "b2bba374",
   "metadata": {},
   "outputs": [
    {
     "data": {
      "text/plain": [
       "-4.429343898148138"
      ]
     },
     "execution_count": 113,
     "metadata": {},
     "output_type": "execute_result"
    }
   ],
   "source": [
    "residuals.quantile(.25)"
   ]
  },
  {
   "cell_type": "code",
   "execution_count": 114,
   "id": "9902b974",
   "metadata": {},
   "outputs": [
    {
     "data": {
      "text/plain": [
       "4.316042526579618"
      ]
     },
     "execution_count": 114,
     "metadata": {},
     "output_type": "execute_result"
    }
   ],
   "source": [
    "residuals.quantile(.75)"
   ]
  },
  {
   "cell_type": "code",
   "execution_count": 115,
   "id": "00c103ab",
   "metadata": {},
   "outputs": [
    {
     "data": {
      "text/plain": [
       "(array([ 3.73050783, 13.43822306,  0.04689514]), -110.96582408762598)"
      ]
     },
     "execution_count": 115,
     "metadata": {},
     "output_type": "execute_result"
    }
   ],
   "source": [
    "# education: (array([5.36087773]), -10.731981967960806)\n",
    "# 'education',\"log_income\",\"women\"\n",
    "#(array([ 3.73050783, 13.43822306,  0.04689514]), -110.96582408762598)\n",
    "lin1.coef_,lin1.intercept_"
   ]
  },
  {
   "cell_type": "code",
   "execution_count": 116,
   "id": "9a2a6061",
   "metadata": {
    "scrolled": true
   },
   "outputs": [
    {
     "data": {
      "text/plain": [
       "6.986468798742807"
      ]
     },
     "execution_count": 116,
     "metadata": {},
     "output_type": "execute_result"
    }
   ],
   "source": [
    "# education: 9.103290684137031 (agrees with R when ddof=2)\n",
    "# 'education',\"log_income\",\"women\" 6.952137048966496\n",
    "residuals.std()"
   ]
  },
  {
   "cell_type": "code",
   "execution_count": 117,
   "id": "773e9c37",
   "metadata": {},
   "outputs": [
    {
     "name": "stdout",
     "output_type": "stream",
     "text": [
      "0.8350956676810606 0.8317642670281526\n"
     ]
    }
   ],
   "source": [
    "# education: Agrees with R\n",
    "# 'education',\"log_income\",\"women\" 0.8351 0.8318\n",
    "r2 = r2_score(y_test,predictions)\n",
    "ar2 = adj_r2(r2,N,p)\n",
    "print(r2,ar2)"
   ]
  },
  {
   "cell_type": "markdown",
   "id": "8a0d317c",
   "metadata": {},
   "source": [
    "###  Add 1 hot encoding of symbolic column and census +  Factor code blocks into functions"
   ]
  },
  {
   "cell_type": "code",
   "execution_count": 118,
   "id": "863c5287",
   "metadata": {},
   "outputs": [
    {
     "data": {
      "text/plain": [
       "array(['prof', 'bc', 'wc', nan], dtype=object)"
      ]
     },
     "execution_count": 118,
     "metadata": {},
     "output_type": "execute_result"
    }
   ],
   "source": [
    "df[\"type\"].unique()"
   ]
  },
  {
   "cell_type": "markdown",
   "id": "eaac678f",
   "metadata": {},
   "source": [
    "The code you write should add 3 new columns to `df`,\n",
    "with $\\lbrace0,\\,1\\rbrace$-values, one-hot encoideing the \"type\"\n",
    "of each row."
   ]
  },
  {
   "cell_type": "code",
   "execution_count": 119,
   "id": "5c53ce06",
   "metadata": {
    "scrolled": true
   },
   "outputs": [
    {
     "ename": "NameError",
     "evalue": "name 'types_cols' is not defined",
     "output_type": "error",
     "traceback": [
      "\u001b[0;31m---------------------------------------------------------------------------\u001b[0m",
      "\u001b[0;31mNameError\u001b[0m                                 Traceback (most recent call last)",
      "\u001b[0;32m/var/folders/w9/bx4mylnd27g_kqqgn5hrn2x40000gr/T/ipykernel_6557/2201174838.py\u001b[0m in \u001b[0;36m<module>\u001b[0;34m\u001b[0m\n\u001b[0;32m----> 1\u001b[0;31m \u001b[0mtypes_cols\u001b[0m\u001b[0;34m\u001b[0m\u001b[0;34m\u001b[0m\u001b[0m\n\u001b[0m",
      "\u001b[0;31mNameError\u001b[0m: name 'types_cols' is not defined"
     ]
    }
   ],
   "source": [
    "types_cols"
   ]
  },
  {
   "cell_type": "markdown",
   "id": "311feb9e",
   "metadata": {},
   "source": [
    "1.  Add the one-hot encoding columns `types_cols` (as defined in above)\n",
    "    to `df` (with the appropriate values.  An example of how to do one-hot-encoding\n",
    "    of a symbolic column is given earlier in the notebook).\n",
    "2.  In a new code cell below, copy and paste the code from the previous section which computes the models \n",
    "    and some additional variables:\n",
    "\n",
    "    ```python\n",
    "    ind_vars = [\"education\",\"log_income\",\"women\"]\n",
    "    p = len(ind_vars)\n",
    "\n",
    "    X, y = df[ind_vars], df[\"prestige\"]\n",
    "    lin1, X_test, y_test, predictions  = make_model(X,y,random_state=42,do_split=False)\n",
    "    residuals = get_residuals (y_test, predictions)\n",
    "    N = len(y_test)\n",
    "    ```\n",
    "    \n",
    "    Modify it to use the additional `types_cols` as additional variables in the regression.\n",
    "    \n",
    "3.  Write a function `report`  that is called as follows:\n",
    "\n",
    "    ```python\n",
    "    report(residuals,lin1,y_test,predictions,N,p,X_test.columns.tolist())\n",
    "    ```\n",
    "    \n",
    "    and prints out\n",
    "    \n",
    "    ```python\n",
    "    Residuals: Mdn 0.352, Min -13.714, Max 17.511 Q1 -4.244 Q3 4.089\n",
    "    Coef: [ 2.87728231e+00  1.49064313e+01  9.35572908e-02  8.02557096e-04\n",
    "     -2.17479723e+00 -2.17479723e+00 -2.17479723e+00 -2.17479723e+00\n",
    "     -2.17479723e+00 -1.89036705e-01 -1.89036705e-01 -1.89036705e-01\n",
    "     -1.89036705e-01 -1.89036705e-01 -2.25123740e+00 -2.25123740e+00\n",
    "     -2.25123740e+00 -2.25123740e+00 -2.25123740e+00], \n",
    "    Intcpt: -112.691\n",
    "    Max col log_income   Min col wc        \n",
    "    R2: 0.869   Adj R2 0.861\n",
    "    ```\n",
    "    \n",
    "    Here \"Mdn\" labels the median value of the residuals, Q1 and Q3 label\n",
    "    the residual values at the 25th and 75th percentiles (computed in the previous\n",
    "    section using `.quantile(  )`), the coefficients and the intercept of the model,\n",
    "    and the R2 and adjusted R2 values.  Many of these are computed in the previous section;\n",
    "    `report` should also find the names of the columns with the maximum and minimum coefficient\n",
    "    values.  Some of the variables needed for the call to `report` are already computed in the code \n",
    "    you copied and pasted from the previous section.  Add the line calling the new function report \n",
    "    to the code cell you modified in Step2.  Execute and test your new code.\n"
   ]
  },
  {
   "cell_type": "code",
   "execution_count": 138,
   "id": "67616bce",
   "metadata": {},
   "outputs": [
    {
     "data": {
      "text/plain": [
       "array([[0., 1., 0., 0.],\n",
       "       [0., 1., 0., 0.],\n",
       "       [0., 1., 0., 0.],\n",
       "       [0., 1., 0., 0.],\n",
       "       [0., 1., 0., 0.]])"
      ]
     },
     "execution_count": 138,
     "metadata": {},
     "output_type": "execute_result"
    }
   ],
   "source": [
    "from sklearn.preprocessing import OneHotEncoder\n",
    "\n",
    "ohe = OneHotEncoder()\n",
    "## Fill out\n",
    "types_cols2 = ohe.fit_transform(df[['type']])\n",
    "types_cols2.toarray()[:5]"
   ]
  },
  {
   "cell_type": "code",
   "execution_count": 137,
   "id": "041065d2",
   "metadata": {},
   "outputs": [
    {
     "data": {
      "text/plain": [
       "(102, 102)"
      ]
     },
     "execution_count": 137,
     "metadata": {},
     "output_type": "execute_result"
    }
   ],
   "source": [
    "len(df),len(new_df)"
   ]
  },
  {
   "cell_type": "code",
   "execution_count": 136,
   "id": "af45de00",
   "metadata": {},
   "outputs": [
    {
     "data": {
      "text/html": [
       "<div>\n",
       "<style scoped>\n",
       "    .dataframe tbody tr th:only-of-type {\n",
       "        vertical-align: middle;\n",
       "    }\n",
       "\n",
       "    .dataframe tbody tr th {\n",
       "        vertical-align: top;\n",
       "    }\n",
       "\n",
       "    .dataframe thead th {\n",
       "        text-align: right;\n",
       "    }\n",
       "</style>\n",
       "<table border=\"1\" class=\"dataframe\">\n",
       "  <thead>\n",
       "    <tr style=\"text-align: right;\">\n",
       "      <th></th>\n",
       "      <th>education</th>\n",
       "      <th>income</th>\n",
       "      <th>women</th>\n",
       "      <th>prestige</th>\n",
       "      <th>census</th>\n",
       "      <th>type</th>\n",
       "      <th>log_income</th>\n",
       "      <th>bc</th>\n",
       "      <th>prof</th>\n",
       "      <th>wc</th>\n",
       "    </tr>\n",
       "  </thead>\n",
       "  <tbody>\n",
       "    <tr>\n",
       "      <th>gov.administrators</th>\n",
       "      <td>13.11</td>\n",
       "      <td>12351</td>\n",
       "      <td>11.16</td>\n",
       "      <td>68.8</td>\n",
       "      <td>1113</td>\n",
       "      <td>prof</td>\n",
       "      <td>9.421492</td>\n",
       "      <td>0</td>\n",
       "      <td>1</td>\n",
       "      <td>0</td>\n",
       "    </tr>\n",
       "    <tr>\n",
       "      <th>general.managers</th>\n",
       "      <td>12.26</td>\n",
       "      <td>25879</td>\n",
       "      <td>4.02</td>\n",
       "      <td>69.1</td>\n",
       "      <td>1130</td>\n",
       "      <td>prof</td>\n",
       "      <td>10.161187</td>\n",
       "      <td>0</td>\n",
       "      <td>1</td>\n",
       "      <td>0</td>\n",
       "    </tr>\n",
       "    <tr>\n",
       "      <th>accountants</th>\n",
       "      <td>12.77</td>\n",
       "      <td>9271</td>\n",
       "      <td>15.70</td>\n",
       "      <td>63.4</td>\n",
       "      <td>1171</td>\n",
       "      <td>prof</td>\n",
       "      <td>9.134647</td>\n",
       "      <td>0</td>\n",
       "      <td>1</td>\n",
       "      <td>0</td>\n",
       "    </tr>\n",
       "    <tr>\n",
       "      <th>purchasing.officers</th>\n",
       "      <td>11.42</td>\n",
       "      <td>8865</td>\n",
       "      <td>9.11</td>\n",
       "      <td>56.8</td>\n",
       "      <td>1175</td>\n",
       "      <td>prof</td>\n",
       "      <td>9.089866</td>\n",
       "      <td>0</td>\n",
       "      <td>1</td>\n",
       "      <td>0</td>\n",
       "    </tr>\n",
       "    <tr>\n",
       "      <th>chemists</th>\n",
       "      <td>14.62</td>\n",
       "      <td>8403</td>\n",
       "      <td>11.68</td>\n",
       "      <td>73.5</td>\n",
       "      <td>2111</td>\n",
       "      <td>prof</td>\n",
       "      <td>9.036344</td>\n",
       "      <td>0</td>\n",
       "      <td>1</td>\n",
       "      <td>0</td>\n",
       "    </tr>\n",
       "    <tr>\n",
       "      <th>...</th>\n",
       "      <td>...</td>\n",
       "      <td>...</td>\n",
       "      <td>...</td>\n",
       "      <td>...</td>\n",
       "      <td>...</td>\n",
       "      <td>...</td>\n",
       "      <td>...</td>\n",
       "      <td>...</td>\n",
       "      <td>...</td>\n",
       "      <td>...</td>\n",
       "    </tr>\n",
       "    <tr>\n",
       "      <th>bus.drivers</th>\n",
       "      <td>7.58</td>\n",
       "      <td>5562</td>\n",
       "      <td>9.47</td>\n",
       "      <td>35.9</td>\n",
       "      <td>9171</td>\n",
       "      <td>bc</td>\n",
       "      <td>8.623713</td>\n",
       "      <td>1</td>\n",
       "      <td>0</td>\n",
       "      <td>0</td>\n",
       "    </tr>\n",
       "    <tr>\n",
       "      <th>taxi.drivers</th>\n",
       "      <td>7.93</td>\n",
       "      <td>4224</td>\n",
       "      <td>3.59</td>\n",
       "      <td>25.1</td>\n",
       "      <td>9173</td>\n",
       "      <td>bc</td>\n",
       "      <td>8.348538</td>\n",
       "      <td>1</td>\n",
       "      <td>0</td>\n",
       "      <td>0</td>\n",
       "    </tr>\n",
       "    <tr>\n",
       "      <th>longshoremen</th>\n",
       "      <td>8.37</td>\n",
       "      <td>4753</td>\n",
       "      <td>0.00</td>\n",
       "      <td>26.1</td>\n",
       "      <td>9313</td>\n",
       "      <td>bc</td>\n",
       "      <td>8.466531</td>\n",
       "      <td>1</td>\n",
       "      <td>0</td>\n",
       "      <td>0</td>\n",
       "    </tr>\n",
       "    <tr>\n",
       "      <th>typesetters</th>\n",
       "      <td>10.00</td>\n",
       "      <td>6462</td>\n",
       "      <td>13.58</td>\n",
       "      <td>42.2</td>\n",
       "      <td>9511</td>\n",
       "      <td>bc</td>\n",
       "      <td>8.773694</td>\n",
       "      <td>1</td>\n",
       "      <td>0</td>\n",
       "      <td>0</td>\n",
       "    </tr>\n",
       "    <tr>\n",
       "      <th>bookbinders</th>\n",
       "      <td>8.55</td>\n",
       "      <td>3617</td>\n",
       "      <td>70.87</td>\n",
       "      <td>35.2</td>\n",
       "      <td>9517</td>\n",
       "      <td>bc</td>\n",
       "      <td>8.193400</td>\n",
       "      <td>1</td>\n",
       "      <td>0</td>\n",
       "      <td>0</td>\n",
       "    </tr>\n",
       "  </tbody>\n",
       "</table>\n",
       "<p>102 rows × 10 columns</p>\n",
       "</div>"
      ],
      "text/plain": [
       "                     education  income  women  prestige  census  type  \\\n",
       "gov.administrators       13.11   12351  11.16      68.8    1113  prof   \n",
       "general.managers         12.26   25879   4.02      69.1    1130  prof   \n",
       "accountants              12.77    9271  15.70      63.4    1171  prof   \n",
       "purchasing.officers      11.42    8865   9.11      56.8    1175  prof   \n",
       "chemists                 14.62    8403  11.68      73.5    2111  prof   \n",
       "...                        ...     ...    ...       ...     ...   ...   \n",
       "bus.drivers               7.58    5562   9.47      35.9    9171    bc   \n",
       "taxi.drivers              7.93    4224   3.59      25.1    9173    bc   \n",
       "longshoremen              8.37    4753   0.00      26.1    9313    bc   \n",
       "typesetters              10.00    6462  13.58      42.2    9511    bc   \n",
       "bookbinders               8.55    3617  70.87      35.2    9517    bc   \n",
       "\n",
       "                     log_income  bc  prof  wc  \n",
       "gov.administrators     9.421492   0     1   0  \n",
       "general.managers      10.161187   0     1   0  \n",
       "accountants            9.134647   0     1   0  \n",
       "purchasing.officers    9.089866   0     1   0  \n",
       "chemists               9.036344   0     1   0  \n",
       "...                         ...  ..   ...  ..  \n",
       "bus.drivers            8.623713   1     0   0  \n",
       "taxi.drivers           8.348538   1     0   0  \n",
       "longshoremen           8.466531   1     0   0  \n",
       "typesetters            8.773694   1     0   0  \n",
       "bookbinders            8.193400   1     0   0  \n",
       "\n",
       "[102 rows x 10 columns]"
      ]
     },
     "execution_count": 136,
     "metadata": {},
     "output_type": "execute_result"
    }
   ],
   "source": [
    "types_cols = df['type'].str.get_dummies()\n",
    "# Add cols\n",
    "new_df = pd.concat([df,types_cols],axis=1)\n",
    "new_df"
   ]
  },
  {
   "cell_type": "code",
   "execution_count": null,
   "id": "8a3d9018",
   "metadata": {},
   "outputs": [],
   "source": []
  },
  {
   "cell_type": "code",
   "execution_count": null,
   "id": "7592c554",
   "metadata": {},
   "outputs": [],
   "source": []
  },
  {
   "cell_type": "code",
   "execution_count": null,
   "id": "e6b98678",
   "metadata": {},
   "outputs": [],
   "source": []
  },
  {
   "cell_type": "code",
   "execution_count": null,
   "id": "454a5021",
   "metadata": {},
   "outputs": [],
   "source": []
  },
  {
   "cell_type": "code",
   "execution_count": null,
   "id": "823d4505",
   "metadata": {},
   "outputs": [],
   "source": []
  },
  {
   "cell_type": "code",
   "execution_count": null,
   "id": "9709a203",
   "metadata": {},
   "outputs": [],
   "source": []
  },
  {
   "cell_type": "code",
   "execution_count": null,
   "id": "e85daf39",
   "metadata": {},
   "outputs": [],
   "source": []
  },
  {
   "cell_type": "code",
   "execution_count": null,
   "id": "a0b5ffe0",
   "metadata": {},
   "outputs": [],
   "source": []
  },
  {
   "cell_type": "code",
   "execution_count": null,
   "id": "bc993677",
   "metadata": {},
   "outputs": [],
   "source": []
  },
  {
   "cell_type": "code",
   "execution_count": null,
   "id": "9f8b0a2b",
   "metadata": {},
   "outputs": [],
   "source": []
  },
  {
   "cell_type": "code",
   "execution_count": null,
   "id": "7480017f",
   "metadata": {},
   "outputs": [],
   "source": []
  },
  {
   "cell_type": "code",
   "execution_count": null,
   "id": "1ca66187",
   "metadata": {},
   "outputs": [],
   "source": []
  },
  {
   "cell_type": "code",
   "execution_count": null,
   "id": "8d17fd6f",
   "metadata": {},
   "outputs": [],
   "source": []
  },
  {
   "cell_type": "code",
   "execution_count": null,
   "id": "4e8a4e36",
   "metadata": {},
   "outputs": [],
   "source": []
  },
  {
   "cell_type": "code",
   "execution_count": null,
   "id": "cbbce95a",
   "metadata": {},
   "outputs": [],
   "source": []
  },
  {
   "cell_type": "code",
   "execution_count": null,
   "id": "e2e3c6d2",
   "metadata": {},
   "outputs": [],
   "source": []
  },
  {
   "cell_type": "code",
   "execution_count": 371,
   "id": "7b9db6d4",
   "metadata": {},
   "outputs": [],
   "source": [
    "df[\"log_income\"] = np.log(df[\"income\"])\n",
    "ind_vars = ['education',\"log_income\",\"women\",\"census\"]\n",
    "#ind_vars = ['education',\"log_income\",\"women\"]\n",
    "#ind_vars= ['education']\n",
    "one_hot_encodings = df['type'].str.get_dummies()\n",
    "types_cols = one_hot_encodings.columns.tolist()\n",
    "\n",
    "ind_vars = ind_vars + types_cols\n",
    "p = len(ind_vars)\n",
    "\n",
    "df = pd.concat([df,one_hot_encodings],axis=1)\n",
    "X, y = df[ind_vars], df[\"prestige\"]\n",
    "lin1, X_test, y_test, predictions  = make_model(X,y,random_state=42,do_split=False)\n",
    "residuals = get_residuals (y_test, predictions)\n",
    "N = len(X_test)"
   ]
  },
  {
   "cell_type": "code",
   "execution_count": 372,
   "id": "7a73f6e5",
   "metadata": {},
   "outputs": [
    {
     "name": "stdout",
     "output_type": "stream",
     "text": [
      "\n",
      "Residuals: Mdn 0.352, Min -13.714, Max 17.511 Q1 -4.244 Q3 4.089\n",
      "Coef: [ 2.87728231e+00  1.49064313e+01  9.35572908e-02  8.02557096e-04\n",
      " -2.17479723e+00 -2.17479723e+00 -2.17479723e+00 -2.17479723e+00\n",
      " -2.17479723e+00 -1.89036705e-01 -1.89036705e-01 -1.89036705e-01\n",
      " -1.89036705e-01 -1.89036705e-01 -2.25123740e+00 -2.25123740e+00\n",
      " -2.25123740e+00 -2.25123740e+00 -2.25123740e+00], \n",
      "Intcpt: -112.691\n",
      "Max col log_income   Min col wc        \n",
      "R2: 0.869   Adj R2 0.861\n",
      "\n"
     ]
    }
   ],
   "source": [
    "def report(residuals,lin1,y_test,predictions, N,p, cols):\n",
    "    Q1_val,Q3_val = residuals.quantile(.25),residuals.quantile(.75)\n",
    "    print(f\"\\nResiduals: Mdn {residuals.median():.3f}, Min {residuals.min():.3f}\"\n",
    "          f\" Max {residuals.max():.3f} Q1 {Q1_val:.3f} Q3 {Q3_val:.3f}\")\n",
    "    print(f\"Coef: {lin1.coef_}, \")\n",
    "    print(f\"Intcpt: {lin1.intercept_:.3f}\")\n",
    "    max_col, min_col = lin1.coef_.argmax(),(lin1.coef_).argmin()\n",
    "    print(f\"Max col {cols[max_col]:<10}   Min col {cols[min_col]:<10}\")\n",
    "    r2 = r2_score(y_test,predictions)\n",
    "    ar2 = adj_r2(r2,N,p)\n",
    "    print(f\"R2: {r2:.3f}   Adj R2 {ar2:.3f}\\n\")\n",
    "    \n",
    "report(residuals,lin1,y_test,predictions,N,p,X_test.columns.tolist())"
   ]
  },
  {
   "cell_type": "markdown",
   "id": "9620aad5",
   "metadata": {},
   "source": [
    "##  Official Notebook material ends here\n",
    "\n",
    "####  The form of a square root of 0\n",
    "\n",
    "Rows and cols must be orthogonal, leading to the following:\n",
    "\n",
    "$$\n",
    "\\left \\lbrack\n",
    "\\begin{array}{cc}\n",
    "x   & sx\\\\\n",
    "-s^{-1}x  & -x\n",
    "\\end{array}\n",
    "\\right \\rbrack\n",
    "$$"
   ]
  },
  {
   "cell_type": "code",
   "execution_count": 4,
   "id": "396fd366",
   "metadata": {},
   "outputs": [
    {
     "name": "stdout",
     "output_type": "stream",
     "text": [
      "[[  3.    0.6]\n",
      " [-15.   -3. ]]\n",
      "[[-1.77635684e-15  0.00000000e+00]\n",
      " [ 0.00000000e+00 -1.77635684e-15]]\n",
      "\n",
      "[[ 1.    4.  ]\n",
      " [-0.25 -1.  ]]\n",
      "[[0. 0.]\n",
      " [0. 0.]]\n"
     ]
    }
   ],
   "source": [
    "import numpy as np\n",
    "\n",
    "\n",
    "def minus_inv (w):\n",
    "    return -1/w\n",
    "\n",
    "x,s = 3,.2\n",
    "\n",
    "O = np.array([[x,s*x],[minus_inv(s)*x,-x]])\n",
    "print(O)\n",
    "print(O@O)\n",
    "print()\n",
    "\n",
    "x,s = 1,4\n",
    "\n",
    "O = np.array([[x,s*x],[minus_inv(s)*x,-x]])\n",
    "print(O)\n",
    "print(O@O)"
   ]
  },
  {
   "cell_type": "markdown",
   "id": "dd898986",
   "metadata": {},
   "source": [
    "Also note: `Ov` is an eigenvector of `O` with eigenvalue 0."
   ]
  },
  {
   "cell_type": "code",
   "execution_count": 8,
   "id": "f6acb9be",
   "metadata": {},
   "outputs": [
    {
     "data": {
      "text/plain": [
       "array([0., 0.])"
      ]
     },
     "execution_count": 8,
     "metadata": {},
     "output_type": "execute_result"
    }
   ],
   "source": [
    "v = np.array([5,7])\n",
    "O@(O@v)"
   ]
  },
  {
   "cell_type": "markdown",
   "id": "80fff081",
   "metadata": {},
   "source": [
    "So `O` maps all vectors to the same line."
   ]
  },
  {
   "cell_type": "code",
   "execution_count": 10,
   "id": "a14b1c75",
   "metadata": {},
   "outputs": [
    {
     "name": "stdout",
     "output_type": "stream",
     "text": [
      "[33.   -8.25]\n",
      "[11.   -2.75] [33.   -8.25]\n"
     ]
    }
   ],
   "source": [
    "v1 = np.array([5,7])\n",
    "v2 = np.array([3,2])\n",
    "print(O@v1)\n",
    "print(O@v2,3*O@v2)"
   ]
  },
  {
   "cell_type": "code",
   "execution_count": 5,
   "id": "230abd77",
   "metadata": {},
   "outputs": [
    {
     "data": {
      "text/plain": [
       "array([ 19, -19])"
      ]
     },
     "execution_count": 5,
     "metadata": {},
     "output_type": "execute_result"
    }
   ],
   "source": [
    "v = np.array([5,7])\n",
    "L = np.array([[1,2],[-1,-2]])\n",
    "L@v"
   ]
  },
  {
   "cell_type": "code",
   "execution_count": null,
   "id": "56b91bae",
   "metadata": {},
   "outputs": [],
   "source": []
  }
 ],
 "metadata": {
  "kernelspec": {
   "display_name": "Python 3 (ipykernel)",
   "language": "python",
   "name": "python3"
  },
  "language_info": {
   "codemirror_mode": {
    "name": "ipython",
    "version": 3
   },
   "file_extension": ".py",
   "mimetype": "text/x-python",
   "name": "python",
   "nbconvert_exporter": "python",
   "pygments_lexer": "ipython3",
   "version": "3.10.13"
  }
 },
 "nbformat": 4,
 "nbformat_minor": 5
}
