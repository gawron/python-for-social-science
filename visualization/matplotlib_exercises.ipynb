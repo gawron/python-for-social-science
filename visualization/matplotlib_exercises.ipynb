{
 "cells": [
  {
   "cell_type": "markdown",
   "id": "a38414ed",
   "metadata": {},
   "source": [
    "## Matplotlib exercises"
   ]
  },
  {
   "cell_type": "code",
   "execution_count": 13,
   "id": "1172eeb6",
   "metadata": {
    "id": "xKVNKICMrcrV"
   },
   "outputs": [],
   "source": [
    "from __future__ import division, print_function, unicode_literals\n",
    "\n",
    "# Common imports\n",
    "import numpy as np\n",
    "import numpy.random as rnd\n",
    "import os.path\n",
    "\n",
    "# to make this notebook's output stable across runs\n",
    "rnd.seed(4)\n",
    "\n",
    "# To plot pretty figures\n",
    "%matplotlib inline\n",
    "import matplotlib\n",
    "import matplotlib.pyplot as plt\n",
    "plt.rcParams['axes.labelsize'] = 14\n",
    "plt.rcParams['xtick.labelsize'] = 12\n",
    "plt.rcParams['ytick.labelsize'] = 12\n",
    "\n",
    "# Where to save the figures\n",
    "PROJECT_ROOT_DIR = \".\"\n",
    "\n",
    "def save_fig(fig_id, tight_layout=True):\n",
    "    image_dir = os.path.join(PROJECT_ROOT_DIR, \"images\")\n",
    "    if not os.path.exists(image_dir):\n",
    "        os.makedirs(image_dir)\n",
    "    path = os.path.join(image_dir, fig_id + \".png\")\n",
    "    print(\"Saving figure\", fig_id)\n",
    "    if tight_layout:\n",
    "        plt.tight_layout()\n",
    "    plt.savefig(path, format='png', dpi=300)"
   ]
  },
  {
   "cell_type": "markdown",
   "id": "59b59afe",
   "metadata": {
    "id": "ji28SF7rrcrW"
   },
   "source": [
    "## Loading the data "
   ]
  },
  {
   "cell_type": "markdown",
   "id": "8fc641c6",
   "metadata": {},
   "source": [
    "This is Kaggle data on California housing which has been copied to my website to evade updates."
   ]
  },
  {
   "cell_type": "code",
   "execution_count": 1,
   "id": "d96d7e30",
   "metadata": {
    "id": "WfbtzpHErcrX"
   },
   "outputs": [],
   "source": [
    "import pandas as pd\n",
    "HOUSING_PATH = \"http://gawron.sdsu.edu/housing.csv\"\n",
    "def load_housing_data(housing_path=HOUSING_PATH):\n",
    "    csv_path = housing_path#os.path.join(housing_path, \"housing.csv\")\n",
    "    return pd.read_csv(csv_path)"
   ]
  },
  {
   "cell_type": "code",
   "execution_count": 2,
   "id": "69c01bfa",
   "metadata": {},
   "outputs": [
    {
     "name": "stdout",
     "output_type": "stream",
     "text": [
      "(20640, 10)\n"
     ]
    },
    {
     "data": {
      "text/html": [
       "<div>\n",
       "<style scoped>\n",
       "    .dataframe tbody tr th:only-of-type {\n",
       "        vertical-align: middle;\n",
       "    }\n",
       "\n",
       "    .dataframe tbody tr th {\n",
       "        vertical-align: top;\n",
       "    }\n",
       "\n",
       "    .dataframe thead th {\n",
       "        text-align: right;\n",
       "    }\n",
       "</style>\n",
       "<table border=\"1\" class=\"dataframe\">\n",
       "  <thead>\n",
       "    <tr style=\"text-align: right;\">\n",
       "      <th></th>\n",
       "      <th>longitude</th>\n",
       "      <th>latitude</th>\n",
       "      <th>housing_median_age</th>\n",
       "      <th>total_rooms</th>\n",
       "      <th>total_bedrooms</th>\n",
       "      <th>population</th>\n",
       "      <th>households</th>\n",
       "      <th>median_income</th>\n",
       "      <th>median_house_value</th>\n",
       "      <th>ocean_proximity</th>\n",
       "    </tr>\n",
       "  </thead>\n",
       "  <tbody>\n",
       "    <tr>\n",
       "      <th>0</th>\n",
       "      <td>-122.23</td>\n",
       "      <td>37.88</td>\n",
       "      <td>41.0</td>\n",
       "      <td>880.0</td>\n",
       "      <td>129.0</td>\n",
       "      <td>322.0</td>\n",
       "      <td>126.0</td>\n",
       "      <td>8.3252</td>\n",
       "      <td>452600.0</td>\n",
       "      <td>NEAR BAY</td>\n",
       "    </tr>\n",
       "    <tr>\n",
       "      <th>1</th>\n",
       "      <td>-122.22</td>\n",
       "      <td>37.86</td>\n",
       "      <td>21.0</td>\n",
       "      <td>7099.0</td>\n",
       "      <td>1106.0</td>\n",
       "      <td>2401.0</td>\n",
       "      <td>1138.0</td>\n",
       "      <td>8.3014</td>\n",
       "      <td>358500.0</td>\n",
       "      <td>NEAR BAY</td>\n",
       "    </tr>\n",
       "    <tr>\n",
       "      <th>2</th>\n",
       "      <td>-122.24</td>\n",
       "      <td>37.85</td>\n",
       "      <td>52.0</td>\n",
       "      <td>1467.0</td>\n",
       "      <td>190.0</td>\n",
       "      <td>496.0</td>\n",
       "      <td>177.0</td>\n",
       "      <td>7.2574</td>\n",
       "      <td>352100.0</td>\n",
       "      <td>NEAR BAY</td>\n",
       "    </tr>\n",
       "    <tr>\n",
       "      <th>3</th>\n",
       "      <td>-122.25</td>\n",
       "      <td>37.85</td>\n",
       "      <td>52.0</td>\n",
       "      <td>1274.0</td>\n",
       "      <td>235.0</td>\n",
       "      <td>558.0</td>\n",
       "      <td>219.0</td>\n",
       "      <td>5.6431</td>\n",
       "      <td>341300.0</td>\n",
       "      <td>NEAR BAY</td>\n",
       "    </tr>\n",
       "    <tr>\n",
       "      <th>4</th>\n",
       "      <td>-122.25</td>\n",
       "      <td>37.85</td>\n",
       "      <td>52.0</td>\n",
       "      <td>1627.0</td>\n",
       "      <td>280.0</td>\n",
       "      <td>565.0</td>\n",
       "      <td>259.0</td>\n",
       "      <td>3.8462</td>\n",
       "      <td>342200.0</td>\n",
       "      <td>NEAR BAY</td>\n",
       "    </tr>\n",
       "    <tr>\n",
       "      <th>...</th>\n",
       "      <td>...</td>\n",
       "      <td>...</td>\n",
       "      <td>...</td>\n",
       "      <td>...</td>\n",
       "      <td>...</td>\n",
       "      <td>...</td>\n",
       "      <td>...</td>\n",
       "      <td>...</td>\n",
       "      <td>...</td>\n",
       "      <td>...</td>\n",
       "    </tr>\n",
       "    <tr>\n",
       "      <th>20635</th>\n",
       "      <td>-121.09</td>\n",
       "      <td>39.48</td>\n",
       "      <td>25.0</td>\n",
       "      <td>1665.0</td>\n",
       "      <td>374.0</td>\n",
       "      <td>845.0</td>\n",
       "      <td>330.0</td>\n",
       "      <td>1.5603</td>\n",
       "      <td>78100.0</td>\n",
       "      <td>INLAND</td>\n",
       "    </tr>\n",
       "    <tr>\n",
       "      <th>20636</th>\n",
       "      <td>-121.21</td>\n",
       "      <td>39.49</td>\n",
       "      <td>18.0</td>\n",
       "      <td>697.0</td>\n",
       "      <td>150.0</td>\n",
       "      <td>356.0</td>\n",
       "      <td>114.0</td>\n",
       "      <td>2.5568</td>\n",
       "      <td>77100.0</td>\n",
       "      <td>INLAND</td>\n",
       "    </tr>\n",
       "    <tr>\n",
       "      <th>20637</th>\n",
       "      <td>-121.22</td>\n",
       "      <td>39.43</td>\n",
       "      <td>17.0</td>\n",
       "      <td>2254.0</td>\n",
       "      <td>485.0</td>\n",
       "      <td>1007.0</td>\n",
       "      <td>433.0</td>\n",
       "      <td>1.7000</td>\n",
       "      <td>92300.0</td>\n",
       "      <td>INLAND</td>\n",
       "    </tr>\n",
       "    <tr>\n",
       "      <th>20638</th>\n",
       "      <td>-121.32</td>\n",
       "      <td>39.43</td>\n",
       "      <td>18.0</td>\n",
       "      <td>1860.0</td>\n",
       "      <td>409.0</td>\n",
       "      <td>741.0</td>\n",
       "      <td>349.0</td>\n",
       "      <td>1.8672</td>\n",
       "      <td>84700.0</td>\n",
       "      <td>INLAND</td>\n",
       "    </tr>\n",
       "    <tr>\n",
       "      <th>20639</th>\n",
       "      <td>-121.24</td>\n",
       "      <td>39.37</td>\n",
       "      <td>16.0</td>\n",
       "      <td>2785.0</td>\n",
       "      <td>616.0</td>\n",
       "      <td>1387.0</td>\n",
       "      <td>530.0</td>\n",
       "      <td>2.3886</td>\n",
       "      <td>89400.0</td>\n",
       "      <td>INLAND</td>\n",
       "    </tr>\n",
       "  </tbody>\n",
       "</table>\n",
       "<p>20640 rows × 10 columns</p>\n",
       "</div>"
      ],
      "text/plain": [
       "       longitude  latitude  housing_median_age  total_rooms  total_bedrooms  \\\n",
       "0        -122.23     37.88                41.0        880.0           129.0   \n",
       "1        -122.22     37.86                21.0       7099.0          1106.0   \n",
       "2        -122.24     37.85                52.0       1467.0           190.0   \n",
       "3        -122.25     37.85                52.0       1274.0           235.0   \n",
       "4        -122.25     37.85                52.0       1627.0           280.0   \n",
       "...          ...       ...                 ...          ...             ...   \n",
       "20635    -121.09     39.48                25.0       1665.0           374.0   \n",
       "20636    -121.21     39.49                18.0        697.0           150.0   \n",
       "20637    -121.22     39.43                17.0       2254.0           485.0   \n",
       "20638    -121.32     39.43                18.0       1860.0           409.0   \n",
       "20639    -121.24     39.37                16.0       2785.0           616.0   \n",
       "\n",
       "       population  households  median_income  median_house_value  \\\n",
       "0           322.0       126.0         8.3252            452600.0   \n",
       "1          2401.0      1138.0         8.3014            358500.0   \n",
       "2           496.0       177.0         7.2574            352100.0   \n",
       "3           558.0       219.0         5.6431            341300.0   \n",
       "4           565.0       259.0         3.8462            342200.0   \n",
       "...           ...         ...            ...                 ...   \n",
       "20635       845.0       330.0         1.5603             78100.0   \n",
       "20636       356.0       114.0         2.5568             77100.0   \n",
       "20637      1007.0       433.0         1.7000             92300.0   \n",
       "20638       741.0       349.0         1.8672             84700.0   \n",
       "20639      1387.0       530.0         2.3886             89400.0   \n",
       "\n",
       "      ocean_proximity  \n",
       "0            NEAR BAY  \n",
       "1            NEAR BAY  \n",
       "2            NEAR BAY  \n",
       "3            NEAR BAY  \n",
       "4            NEAR BAY  \n",
       "...               ...  \n",
       "20635          INLAND  \n",
       "20636          INLAND  \n",
       "20637          INLAND  \n",
       "20638          INLAND  \n",
       "20639          INLAND  \n",
       "\n",
       "[20640 rows x 10 columns]"
      ]
     },
     "execution_count": 2,
     "metadata": {},
     "output_type": "execute_result"
    }
   ],
   "source": [
    "df = load_housing_data()\n",
    "#  We need no NaNs for what follows.  This is \n",
    "#  a big hammer, but put probably ok for what we're doing\n",
    "df.fillna(0)\n",
    "print(df.shape)\n",
    "df"
   ]
  },
  {
   "cell_type": "markdown",
   "id": "acbccf20",
   "metadata": {},
   "source": [
    "## The data"
   ]
  },
  {
   "cell_type": "markdown",
   "id": "ec1c9916",
   "metadata": {},
   "source": [
    "Use `scale` from `sklearn.preprocessing`. This will \n",
    "center to the mean and scale column by column to unit variance.\n",
    "\n",
    "\n",
    "**Arguments:**\n",
    "\n",
    "*X   {array-like, sparse matrix} of shape (n_samples, n_features)*\n",
    "\n",
    "    The data to center and scale.\n",
    "\n",
    "*axis  int, default=0*\n",
    "\n",
    "    axis used to compute the means and standard deviations along. If 0, independently standardize each feature, otherwise (if 1) standardize each sample.\n",
    "\n",
    "*with_mean   bool, default=True*\n",
    "\n",
    "    If True, center the data before scaling.\n",
    "\n",
    "*with_stdbool, default=True*\n",
    "\n",
    "    If True, scale the data to unit variance (or equivalently, unit standard deviation).\n",
    "\n",
    "copybool, default=True\n",
    "\n",
    "    set to False to perform inplace row normalization and avoid a copy (if the input is already a numpy array or a scipy.sparse CSC matrix and if axis is 1).\n",
    "\n",
    "\n",
    "**Returns**\n",
    "\n",
    "*X_tr{ndarray, sparse matrix} of shape (n_samples, n_features)*\n",
    "\n",
    "    The transformed data.\n"
   ]
  },
  {
   "cell_type": "code",
   "execution_count": 81,
   "id": "cb113b4e",
   "metadata": {},
   "outputs": [
    {
     "name": "stdout",
     "output_type": "stream",
     "text": [
      "(20640,) (20640,) (20640, 2) 8.3252 452600.0 [8.3252e+00 4.5260e+05]\n"
     ]
    }
   ],
   "source": [
    "import numpy as np\n",
    "from sklearn.preprocessing import scale\n",
    "\n",
    "X,Y = df.median_income.values, df.median_house_value.values\n",
    "Z = np.vstack([X,Y]).T\n",
    "print(X.shape,Y.shape,Z.shape,X[0],Y[0],Z[0])\n",
    "#plt.scatter(X,Y)"
   ]
  },
  {
   "cell_type": "markdown",
   "id": "73ec59ed",
   "metadata": {},
   "source": [
    "A string formatting trick (consecutive strings)"
   ]
  },
  {
   "cell_type": "markdown",
   "id": "090438e4",
   "metadata": {},
   "source": [
    "What would happend if we centered and scaled data.  \n",
    "\n",
    "May not be useful for every problem."
   ]
  },
  {
   "cell_type": "code",
   "execution_count": 82,
   "id": "0e5a0606",
   "metadata": {},
   "outputs": [
    {
     "name": "stdout",
     "output_type": "stream",
     "text": [
      " Data Mn:   3.871 226304.163    Data STD: 1.900 226295.837\n",
      " Scaled Mn: 0.000 -0.000        Scaled STD: 1.000 0.108\n",
      "\n"
     ]
    }
   ],
   "source": [
    "Z_scale = scale(Z,axis=0)\n",
    "#print(Z_scale.shape)\n",
    "print(f\" Data Mn:   {Z[:,0].mean():0.3f} {Z[:1].mean():0.3f}\"\n",
    "      f\"    Data STD: {Z[:,0].std():0.3f} {Z[:1].std():0.3f}\\n\"\n",
    "      f\" Scaled Mn: {Z_scale[:,0].mean():0.3f} {Z_scale[:,1].mean():0.3f}\"\n",
    "      f\"        Scaled STD: {Z_scale[:,0].std():0.3f} {Z_scale[:1].std():0.3f}\\n\")"
   ]
  },
  {
   "cell_type": "markdown",
   "id": "ea57d893",
   "metadata": {},
   "source": [
    "#### Example:  Plot total_bedrooms versus households."
   ]
  },
  {
   "cell_type": "code",
   "execution_count": 5,
   "id": "182d40b4",
   "metadata": {},
   "outputs": [],
   "source": [
    "by_households = df.sort_values(by=['households'])[['total_bedrooms','households']]"
   ]
  },
  {
   "cell_type": "code",
   "execution_count": 6,
   "id": "d4fe11a3",
   "metadata": {},
   "outputs": [
    {
     "data": {
      "text/plain": [
       "<AxesSubplot:xlabel='households'>"
      ]
     },
     "execution_count": 6,
     "metadata": {},
     "output_type": "execute_result"
    },
    {
     "data": {
      "image/png": "[encoded data removed]",
      "text/plain": [
       "<Figure size 1440x1440 with 1 Axes>"
      ]
     },
     "metadata": {
      "needs_background": "light"
     },
     "output_type": "display_data"
    }
   ],
   "source": [
    "by_households.plot(x='households',y='total_bedrooms',figsize=(20,20))"
   ]
  },
  {
   "cell_type": "markdown",
   "id": "05e4c6f4",
   "metadata": {},
   "source": [
    "Not a function.  In other words, in different communities the same humber of households might correspond to very different numbers of total bedrooms.\n",
    "\n",
    "Let's do some binning: we'll round off to the nearest 50 and take the mean number\n",
    "of bedrooms for each bin."
   ]
  },
  {
   "cell_type": "code",
   "execution_count": 85,
   "id": "550e6a82",
   "metadata": {},
   "outputs": [
    {
     "data": {
      "text/html": [
       "<div>\n",
       "<style scoped>\n",
       "    .dataframe tbody tr th:only-of-type {\n",
       "        vertical-align: middle;\n",
       "    }\n",
       "\n",
       "    .dataframe tbody tr th {\n",
       "        vertical-align: top;\n",
       "    }\n",
       "\n",
       "    .dataframe thead th {\n",
       "        text-align: right;\n",
       "    }\n",
       "</style>\n",
       "<table border=\"1\" class=\"dataframe\">\n",
       "  <thead>\n",
       "    <tr style=\"text-align: right;\">\n",
       "      <th></th>\n",
       "      <th>total_bedrooms</th>\n",
       "    </tr>\n",
       "    <tr>\n",
       "      <th>Households Level</th>\n",
       "      <th></th>\n",
       "    </tr>\n",
       "  </thead>\n",
       "  <tbody>\n",
       "    <tr>\n",
       "      <th>0.0</th>\n",
       "      <td>46.720365</td>\n",
       "    </tr>\n",
       "    <tr>\n",
       "      <th>50.0</th>\n",
       "      <td>97.358314</td>\n",
       "    </tr>\n",
       "    <tr>\n",
       "      <th>100.0</th>\n",
       "      <td>161.683043</td>\n",
       "    </tr>\n",
       "    <tr>\n",
       "      <th>150.0</th>\n",
       "      <td>199.337266</td>\n",
       "    </tr>\n",
       "    <tr>\n",
       "      <th>200.0</th>\n",
       "      <td>245.075658</td>\n",
       "    </tr>\n",
       "    <tr>\n",
       "      <th>...</th>\n",
       "      <td>...</td>\n",
       "    </tr>\n",
       "    <tr>\n",
       "      <th>4900.0</th>\n",
       "      <td>5419.000000</td>\n",
       "    </tr>\n",
       "    <tr>\n",
       "      <th>5050.0</th>\n",
       "      <td>5290.000000</td>\n",
       "    </tr>\n",
       "    <tr>\n",
       "      <th>5150.0</th>\n",
       "      <td>5471.000000</td>\n",
       "    </tr>\n",
       "    <tr>\n",
       "      <th>5350.0</th>\n",
       "      <td>6210.000000</td>\n",
       "    </tr>\n",
       "    <tr>\n",
       "      <th>6050.0</th>\n",
       "      <td>6445.000000</td>\n",
       "    </tr>\n",
       "  </tbody>\n",
       "</table>\n",
       "<p>94 rows × 1 columns</p>\n",
       "</div>"
      ],
      "text/plain": [
       "                  total_bedrooms\n",
       "Households Level                \n",
       "0.0                    46.720365\n",
       "50.0                   97.358314\n",
       "100.0                 161.683043\n",
       "150.0                 199.337266\n",
       "200.0                 245.075658\n",
       "...                          ...\n",
       "4900.0               5419.000000\n",
       "5050.0               5290.000000\n",
       "5150.0               5471.000000\n",
       "5350.0               6210.000000\n",
       "6050.0               6445.000000\n",
       "\n",
       "[94 rows x 1 columns]"
      ]
     },
     "execution_count": 85,
     "metadata": {},
     "output_type": "execute_result"
    }
   ],
   "source": [
    "import pandas as pd\n",
    "\n",
    "# Bins: households rounded off to the nearest 50\n",
    "by_households['Households Level'] = \\\n",
    "         by_households['households'].apply(lambda x: 50 * (x // 50))\n",
    "bh_pivot = pd.pivot_table(by_households, \n",
    "                    values='total_bedrooms',\n",
    "                    index= 'Households Level',\n",
    "                    aggfunc=np.mean)\n",
    "bh_pivot"
   ]
  },
  {
   "cell_type": "markdown",
   "id": "3c7e6b4c",
   "metadata": {},
   "source": [
    "We get a plot that tells the story:  Exception  for a few bins in the middle range\n",
    "of households, the average number of bedrooms in this data set is very close to 1."
   ]
  },
  {
   "cell_type": "code",
   "execution_count": 86,
   "id": "953e737a",
   "metadata": {},
   "outputs": [
    {
     "data": {
      "text/plain": [
       "Text(0, 0.5, 'Bedrooms')"
      ]
     },
     "execution_count": 86,
     "metadata": {},
     "output_type": "execute_result"
    },
    {
     "data": {
      "image/png": "[encoded data removed]",
      "text/plain": [
       "<Figure size 1440x1440 with 1 Axes>"
      ]
     },
     "metadata": {
      "needs_background": "light"
     },
     "output_type": "display_data"
    }
   ],
   "source": [
    "#plt.plot(Z_scale[:,0],Z_scale[:,1])\n",
    "#bh_pivot.plot(x='households_level',y='index')\n",
    "fig, ax = plt.subplots(1,1)\n",
    "bh_pivot.plot(figsize=(20,20),ax=ax)\n",
    "plt.ylabel('Bedrooms')"
   ]
  },
  {
   "cell_type": "markdown",
   "id": "bdc60dbb",
   "metadata": {},
   "source": [
    "## Problem A"
   ]
  },
  {
   "cell_type": "code",
   "execution_count": 16,
   "id": "6dc9ca0d",
   "metadata": {},
   "outputs": [
    {
     "data": {
      "text/html": [
       "<div>\n",
       "<style scoped>\n",
       "    .dataframe tbody tr th:only-of-type {\n",
       "        vertical-align: middle;\n",
       "    }\n",
       "\n",
       "    .dataframe tbody tr th {\n",
       "        vertical-align: top;\n",
       "    }\n",
       "\n",
       "    .dataframe thead th {\n",
       "        text-align: right;\n",
       "    }\n",
       "</style>\n",
       "<table border=\"1\" class=\"dataframe\">\n",
       "  <thead>\n",
       "    <tr style=\"text-align: right;\">\n",
       "      <th></th>\n",
       "      <th>longitude</th>\n",
       "      <th>latitude</th>\n",
       "      <th>housing_median_age</th>\n",
       "      <th>total_rooms</th>\n",
       "      <th>total_bedrooms</th>\n",
       "      <th>population</th>\n",
       "      <th>households</th>\n",
       "      <th>median_income</th>\n",
       "      <th>median_house_value</th>\n",
       "      <th>ocean_proximity</th>\n",
       "    </tr>\n",
       "  </thead>\n",
       "  <tbody>\n",
       "    <tr>\n",
       "      <th>0</th>\n",
       "      <td>-122.23</td>\n",
       "      <td>37.88</td>\n",
       "      <td>41.0</td>\n",
       "      <td>880.0</td>\n",
       "      <td>129.0</td>\n",
       "      <td>322.0</td>\n",
       "      <td>126.0</td>\n",
       "      <td>8.3252</td>\n",
       "      <td>452600.0</td>\n",
       "      <td>NEAR BAY</td>\n",
       "    </tr>\n",
       "    <tr>\n",
       "      <th>1</th>\n",
       "      <td>-122.22</td>\n",
       "      <td>37.86</td>\n",
       "      <td>21.0</td>\n",
       "      <td>7099.0</td>\n",
       "      <td>1106.0</td>\n",
       "      <td>2401.0</td>\n",
       "      <td>1138.0</td>\n",
       "      <td>8.3014</td>\n",
       "      <td>358500.0</td>\n",
       "      <td>NEAR BAY</td>\n",
       "    </tr>\n",
       "    <tr>\n",
       "      <th>2</th>\n",
       "      <td>-122.24</td>\n",
       "      <td>37.85</td>\n",
       "      <td>52.0</td>\n",
       "      <td>1467.0</td>\n",
       "      <td>190.0</td>\n",
       "      <td>496.0</td>\n",
       "      <td>177.0</td>\n",
       "      <td>7.2574</td>\n",
       "      <td>352100.0</td>\n",
       "      <td>NEAR BAY</td>\n",
       "    </tr>\n",
       "    <tr>\n",
       "      <th>3</th>\n",
       "      <td>-122.25</td>\n",
       "      <td>37.85</td>\n",
       "      <td>52.0</td>\n",
       "      <td>1274.0</td>\n",
       "      <td>235.0</td>\n",
       "      <td>558.0</td>\n",
       "      <td>219.0</td>\n",
       "      <td>5.6431</td>\n",
       "      <td>341300.0</td>\n",
       "      <td>NEAR BAY</td>\n",
       "    </tr>\n",
       "    <tr>\n",
       "      <th>4</th>\n",
       "      <td>-122.25</td>\n",
       "      <td>37.85</td>\n",
       "      <td>52.0</td>\n",
       "      <td>1627.0</td>\n",
       "      <td>280.0</td>\n",
       "      <td>565.0</td>\n",
       "      <td>259.0</td>\n",
       "      <td>3.8462</td>\n",
       "      <td>342200.0</td>\n",
       "      <td>NEAR BAY</td>\n",
       "    </tr>\n",
       "  </tbody>\n",
       "</table>\n",
       "</div>"
      ],
      "text/plain": [
       "   longitude  latitude  housing_median_age  total_rooms  total_bedrooms  \\\n",
       "0    -122.23     37.88                41.0        880.0           129.0   \n",
       "1    -122.22     37.86                21.0       7099.0          1106.0   \n",
       "2    -122.24     37.85                52.0       1467.0           190.0   \n",
       "3    -122.25     37.85                52.0       1274.0           235.0   \n",
       "4    -122.25     37.85                52.0       1627.0           280.0   \n",
       "\n",
       "   population  households  median_income  median_house_value ocean_proximity  \n",
       "0       322.0       126.0         8.3252            452600.0        NEAR BAY  \n",
       "1      2401.0      1138.0         8.3014            358500.0        NEAR BAY  \n",
       "2       496.0       177.0         7.2574            352100.0        NEAR BAY  \n",
       "3       558.0       219.0         5.6431            341300.0        NEAR BAY  \n",
       "4       565.0       259.0         3.8462            342200.0        NEAR BAY  "
      ]
     },
     "execution_count": 16,
     "metadata": {},
     "output_type": "execute_result"
    }
   ],
   "source": [
    "df.head()"
   ]
  },
  {
   "cell_type": "markdown",
   "id": "b97cfbb7",
   "metadata": {},
   "source": [
    "Plot median house value (y-axis) versus average number of bedrooms (x-axis).\n",
    "By eyeballing your plot, decide whether average niumber of BRs is a good predictor of\n",
    "median house value.\n",
    "\n",
    "Do this two ways.  First use pandas plot method on a data frame\n",
    "whose index contains the values you want on the x-axis. Second\n",
    "using that data frame to supply the values,  plot it\n",
    "using the pyplot plot function (plt.plot).  Customize your results\n",
    "with line style and line color.  Add a text annotation at one of\n",
    "the spikes.\n",
    "\n",
    "You should start by adding a column for average number of BRs to the original DF.\n",
    "You may want to try some form of binning of the average number of BRs as was done above.\n",
    "Note that, with a variable that ranges over small values, rounding off to\n",
    "the nearest integer may obscure a lot.\n",
    "\n",
    "Use `round(x,1)` to round off to 1 decimal place."
   ]
  },
  {
   "cell_type": "code",
   "execution_count": 17,
   "id": "f37228c4",
   "metadata": {},
   "outputs": [],
   "source": [
    "df['avg_BRs']  = round(df['total_bedrooms']/df['households'],1)"
   ]
  },
  {
   "cell_type": "code",
   "execution_count": 18,
   "id": "904a4027",
   "metadata": {},
   "outputs": [
    {
     "data": {
      "text/plain": [
       "0        1.0\n",
       "1        1.0\n",
       "2        1.1\n",
       "3        1.1\n",
       "4        1.1\n",
       "        ... \n",
       "20635    1.1\n",
       "20636    1.3\n",
       "20637    1.1\n",
       "20638    1.2\n",
       "20639    1.2\n",
       "Name: avg_BRs, Length: 20640, dtype: float64"
      ]
     },
     "execution_count": 18,
     "metadata": {},
     "output_type": "execute_result"
    }
   ],
   "source": [
    "df['avg_BRs']"
   ]
  },
  {
   "cell_type": "code",
   "execution_count": null,
   "id": "3c947d44",
   "metadata": {},
   "outputs": [],
   "source": [
    "df2 = df.sort_values(by=['avg_BRs'])\n",
    "##  create pivot table\n",
    "pivot_df = pd.pivot_table(df2, ....)\n",
    "## Plot!\n",
    "pivot_df.plot(...)"
   ]
  },
  {
   "cell_type": "code",
   "execution_count": null,
   "id": "1ab655c1",
   "metadata": {},
   "outputs": [],
   "source": [
    "## Syggestion.  sort values  by new col.\n",
    "df2 = df.sort_values(by=['avg_BRs'])\n",
    "# Step 2 create pivot df\n",
    "# What we did above\n",
    "# bh_pivot = pd.pivot_table(by_households, \n",
    "#                   values='total_bedrooms',\n",
    "#                    index= 'Households Level',\n",
    "#                    aggfunc=np.mean)\n",
    "pivot_df = pd.pivot_table(df2, values = 'median_house_value', \n",
    "                          index='avg_BRs', aggfunc=np.mean)"
   ]
  },
  {
   "cell_type": "code",
   "execution_count": 19,
   "id": "c99bed1f",
   "metadata": {},
   "outputs": [
    {
     "data": {
      "text/html": [
       "<div>\n",
       "<style scoped>\n",
       "    .dataframe tbody tr th:only-of-type {\n",
       "        vertical-align: middle;\n",
       "    }\n",
       "\n",
       "    .dataframe tbody tr th {\n",
       "        vertical-align: top;\n",
       "    }\n",
       "\n",
       "    .dataframe thead th {\n",
       "        text-align: right;\n",
       "    }\n",
       "</style>\n",
       "<table border=\"1\" class=\"dataframe\">\n",
       "  <thead>\n",
       "    <tr style=\"text-align: right;\">\n",
       "      <th></th>\n",
       "      <th>median_house_value</th>\n",
       "    </tr>\n",
       "    <tr>\n",
       "      <th>avg_BRs</th>\n",
       "      <th></th>\n",
       "    </tr>\n",
       "  </thead>\n",
       "  <tbody>\n",
       "    <tr>\n",
       "      <th>0.3</th>\n",
       "      <td>275000.000000</td>\n",
       "    </tr>\n",
       "    <tr>\n",
       "      <th>0.4</th>\n",
       "      <td>165000.000000</td>\n",
       "    </tr>\n",
       "    <tr>\n",
       "      <th>0.5</th>\n",
       "      <td>240633.500000</td>\n",
       "    </tr>\n",
       "    <tr>\n",
       "      <th>0.6</th>\n",
       "      <td>121880.000000</td>\n",
       "    </tr>\n",
       "    <tr>\n",
       "      <th>0.7</th>\n",
       "      <td>173436.842105</td>\n",
       "    </tr>\n",
       "    <tr>\n",
       "      <th>...</th>\n",
       "      <td>...</td>\n",
       "    </tr>\n",
       "    <tr>\n",
       "      <th>11.4</th>\n",
       "      <td>221400.000000</td>\n",
       "    </tr>\n",
       "    <tr>\n",
       "      <th>14.1</th>\n",
       "      <td>87500.000000</td>\n",
       "    </tr>\n",
       "    <tr>\n",
       "      <th>15.3</th>\n",
       "      <td>67500.000000</td>\n",
       "    </tr>\n",
       "    <tr>\n",
       "      <th>25.6</th>\n",
       "      <td>500001.000000</td>\n",
       "    </tr>\n",
       "    <tr>\n",
       "      <th>34.1</th>\n",
       "      <td>162500.000000</td>\n",
       "    </tr>\n",
       "  </tbody>\n",
       "</table>\n",
       "<p>80 rows × 1 columns</p>\n",
       "</div>"
      ],
      "text/plain": [
       "         median_house_value\n",
       "avg_BRs                    \n",
       "0.3           275000.000000\n",
       "0.4           165000.000000\n",
       "0.5           240633.500000\n",
       "0.6           121880.000000\n",
       "0.7           173436.842105\n",
       "...                     ...\n",
       "11.4          221400.000000\n",
       "14.1           87500.000000\n",
       "15.3           67500.000000\n",
       "25.6          500001.000000\n",
       "34.1          162500.000000\n",
       "\n",
       "[80 rows x 1 columns]"
      ]
     },
     "execution_count": 19,
     "metadata": {},
     "output_type": "execute_result"
    }
   ],
   "source": [
    "pivot_df"
   ]
  },
  {
   "cell_type": "code",
   "execution_count": 22,
   "id": "5f430688",
   "metadata": {},
   "outputs": [
    {
     "data": {
      "text/plain": [
       "<AxesSubplot:xlabel='avg_BRs'>"
      ]
     },
     "execution_count": 22,
     "metadata": {},
     "output_type": "execute_result"
    },
    {
     "data": {
      "image/png": "[encoded data removed]",
      "text/plain": [
       "<Figure size 432x288 with 1 Axes>"
      ]
     },
     "metadata": {
      "needs_background": "light"
     },
     "output_type": "display_data"
    }
   ],
   "source": [
    "# Step 3 plot..\n",
    "pivot_df.iloc[:-2].plot()"
   ]
  },
  {
   "cell_type": "code",
   "execution_count": 11,
   "id": "0065b579",
   "metadata": {},
   "outputs": [
    {
     "data": {
      "text/html": [
       "<div>\n",
       "<style scoped>\n",
       "    .dataframe tbody tr th:only-of-type {\n",
       "        vertical-align: middle;\n",
       "    }\n",
       "\n",
       "    .dataframe tbody tr th {\n",
       "        vertical-align: top;\n",
       "    }\n",
       "\n",
       "    .dataframe thead th {\n",
       "        text-align: right;\n",
       "    }\n",
       "</style>\n",
       "<table border=\"1\" class=\"dataframe\">\n",
       "  <thead>\n",
       "    <tr style=\"text-align: right;\">\n",
       "      <th></th>\n",
       "      <th>median_house_value</th>\n",
       "    </tr>\n",
       "    <tr>\n",
       "      <th>avg_BRs</th>\n",
       "      <th></th>\n",
       "    </tr>\n",
       "  </thead>\n",
       "  <tbody>\n",
       "    <tr>\n",
       "      <th>0.3</th>\n",
       "      <td>275000.000000</td>\n",
       "    </tr>\n",
       "    <tr>\n",
       "      <th>0.4</th>\n",
       "      <td>165000.000000</td>\n",
       "    </tr>\n",
       "    <tr>\n",
       "      <th>0.5</th>\n",
       "      <td>240633.500000</td>\n",
       "    </tr>\n",
       "    <tr>\n",
       "      <th>0.6</th>\n",
       "      <td>121880.000000</td>\n",
       "    </tr>\n",
       "    <tr>\n",
       "      <th>0.7</th>\n",
       "      <td>173436.842105</td>\n",
       "    </tr>\n",
       "    <tr>\n",
       "      <th>...</th>\n",
       "      <td>...</td>\n",
       "    </tr>\n",
       "    <tr>\n",
       "      <th>11.4</th>\n",
       "      <td>221400.000000</td>\n",
       "    </tr>\n",
       "    <tr>\n",
       "      <th>14.1</th>\n",
       "      <td>87500.000000</td>\n",
       "    </tr>\n",
       "    <tr>\n",
       "      <th>15.3</th>\n",
       "      <td>67500.000000</td>\n",
       "    </tr>\n",
       "    <tr>\n",
       "      <th>25.6</th>\n",
       "      <td>500001.000000</td>\n",
       "    </tr>\n",
       "    <tr>\n",
       "      <th>34.1</th>\n",
       "      <td>162500.000000</td>\n",
       "    </tr>\n",
       "  </tbody>\n",
       "</table>\n",
       "<p>80 rows × 1 columns</p>\n",
       "</div>"
      ],
      "text/plain": [
       "         median_house_value\n",
       "avg_BRs                    \n",
       "0.3           275000.000000\n",
       "0.4           165000.000000\n",
       "0.5           240633.500000\n",
       "0.6           121880.000000\n",
       "0.7           173436.842105\n",
       "...                     ...\n",
       "11.4          221400.000000\n",
       "14.1           87500.000000\n",
       "15.3           67500.000000\n",
       "25.6          500001.000000\n",
       "34.1          162500.000000\n",
       "\n",
       "[80 rows x 1 columns]"
      ]
     },
     "execution_count": 11,
     "metadata": {},
     "output_type": "execute_result"
    }
   ],
   "source": [
    "pivot_df"
   ]
  },
  {
   "cell_type": "markdown",
   "id": "1ce7d683",
   "metadata": {},
   "source": [
    "A note on the data before we begin.  This data is either very old or it's been capped or\n",
    "both."
   ]
  },
  {
   "cell_type": "code",
   "execution_count": 40,
   "id": "00c8209b",
   "metadata": {
    "scrolled": true
   },
   "outputs": [
    {
     "data": {
      "text/plain": [
       "500001.0"
      ]
     },
     "execution_count": 40,
     "metadata": {},
     "output_type": "execute_result"
    }
   ],
   "source": [
    "df['median_house_value']b.max()"
   ]
  },
  {
   "cell_type": "code",
   "execution_count": 72,
   "id": "79d85e1b",
   "metadata": {},
   "outputs": [],
   "source": [
    "df['avg_BRs'] = round_off_to_nearest (df['households']/df['total_bedrooms'])\n",
    "#df2 = df.fillna(0)\n",
    "df2 = df.sort_values(by=['avg_BRs'])"
   ]
  },
  {
   "cell_type": "code",
   "execution_count": 73,
   "id": "fe9d11e2",
   "metadata": {},
   "outputs": [
    {
     "data": {
      "text/html": [
       "<div>\n",
       "<style scoped>\n",
       "    .dataframe tbody tr th:only-of-type {\n",
       "        vertical-align: middle;\n",
       "    }\n",
       "\n",
       "    .dataframe tbody tr th {\n",
       "        vertical-align: top;\n",
       "    }\n",
       "\n",
       "    .dataframe thead th {\n",
       "        text-align: right;\n",
       "    }\n",
       "</style>\n",
       "<table border=\"1\" class=\"dataframe\">\n",
       "  <thead>\n",
       "    <tr style=\"text-align: right;\">\n",
       "      <th></th>\n",
       "      <th>median_house_value</th>\n",
       "    </tr>\n",
       "    <tr>\n",
       "      <th>avg_BRs</th>\n",
       "      <th></th>\n",
       "    </tr>\n",
       "  </thead>\n",
       "  <tbody>\n",
       "    <tr>\n",
       "      <th>0.0</th>\n",
       "      <td>209466.777778</td>\n",
       "    </tr>\n",
       "    <tr>\n",
       "      <th>0.1</th>\n",
       "      <td>135488.888889</td>\n",
       "    </tr>\n",
       "    <tr>\n",
       "      <th>0.2</th>\n",
       "      <td>164827.638298</td>\n",
       "    </tr>\n",
       "    <tr>\n",
       "      <th>0.3</th>\n",
       "      <td>137469.090909</td>\n",
       "    </tr>\n",
       "    <tr>\n",
       "      <th>0.4</th>\n",
       "      <td>151126.606383</td>\n",
       "    </tr>\n",
       "    <tr>\n",
       "      <th>0.5</th>\n",
       "      <td>165416.427273</td>\n",
       "    </tr>\n",
       "    <tr>\n",
       "      <th>0.6</th>\n",
       "      <td>166138.027132</td>\n",
       "    </tr>\n",
       "    <tr>\n",
       "      <th>0.7</th>\n",
       "      <td>181470.711957</td>\n",
       "    </tr>\n",
       "    <tr>\n",
       "      <th>0.8</th>\n",
       "      <td>188368.279338</td>\n",
       "    </tr>\n",
       "    <tr>\n",
       "      <th>0.9</th>\n",
       "      <td>212928.511949</td>\n",
       "    </tr>\n",
       "    <tr>\n",
       "      <th>1.0</th>\n",
       "      <td>215844.103324</td>\n",
       "    </tr>\n",
       "    <tr>\n",
       "      <th>1.1</th>\n",
       "      <td>200090.260870</td>\n",
       "    </tr>\n",
       "    <tr>\n",
       "      <th>1.2</th>\n",
       "      <td>206282.561404</td>\n",
       "    </tr>\n",
       "    <tr>\n",
       "      <th>1.3</th>\n",
       "      <td>199383.388889</td>\n",
       "    </tr>\n",
       "    <tr>\n",
       "      <th>1.4</th>\n",
       "      <td>123337.500000</td>\n",
       "    </tr>\n",
       "    <tr>\n",
       "      <th>1.5</th>\n",
       "      <td>225000.000000</td>\n",
       "    </tr>\n",
       "    <tr>\n",
       "      <th>1.6</th>\n",
       "      <td>99000.000000</td>\n",
       "    </tr>\n",
       "    <tr>\n",
       "      <th>1.7</th>\n",
       "      <td>144760.000000</td>\n",
       "    </tr>\n",
       "    <tr>\n",
       "      <th>1.8</th>\n",
       "      <td>185433.333333</td>\n",
       "    </tr>\n",
       "    <tr>\n",
       "      <th>1.9</th>\n",
       "      <td>295833.666667</td>\n",
       "    </tr>\n",
       "    <tr>\n",
       "      <th>2.2</th>\n",
       "      <td>80000.000000</td>\n",
       "    </tr>\n",
       "    <tr>\n",
       "      <th>2.6</th>\n",
       "      <td>250000.000000</td>\n",
       "    </tr>\n",
       "    <tr>\n",
       "      <th>2.9</th>\n",
       "      <td>275000.000000</td>\n",
       "    </tr>\n",
       "  </tbody>\n",
       "</table>\n",
       "</div>"
      ],
      "text/plain": [
       "         median_house_value\n",
       "avg_BRs                    \n",
       "0.0           209466.777778\n",
       "0.1           135488.888889\n",
       "0.2           164827.638298\n",
       "0.3           137469.090909\n",
       "0.4           151126.606383\n",
       "0.5           165416.427273\n",
       "0.6           166138.027132\n",
       "0.7           181470.711957\n",
       "0.8           188368.279338\n",
       "0.9           212928.511949\n",
       "1.0           215844.103324\n",
       "1.1           200090.260870\n",
       "1.2           206282.561404\n",
       "1.3           199383.388889\n",
       "1.4           123337.500000\n",
       "1.5           225000.000000\n",
       "1.6            99000.000000\n",
       "1.7           144760.000000\n",
       "1.8           185433.333333\n",
       "1.9           295833.666667\n",
       "2.2            80000.000000\n",
       "2.6           250000.000000\n",
       "2.9           275000.000000"
      ]
     },
     "execution_count": 73,
     "metadata": {},
     "output_type": "execute_result"
    }
   ],
   "source": [
    "#df2[df2['avg_BRs'] == 1.0]\n",
    "df3 = df2[['avg_BRs','median_house_value']]\n",
    "#pd.pivot_table(df3, ...)\n",
    "hvbr_pivot = pd.pivot_table(df3, \n",
    "                    values='median_house_value',\n",
    "                    index= 'avg_BRs',\n",
    "                    aggfunc=np.mean)\n",
    "hvbr_pivot"
   ]
  },
  {
   "cell_type": "code",
   "execution_count": 75,
   "id": "b4a72812",
   "metadata": {},
   "outputs": [
    {
     "data": {
      "text/plain": [
       "Text(0, 0.5, 'Median House Value')"
      ]
     },
     "execution_count": 75,
     "metadata": {},
     "output_type": "execute_result"
    },
    {
     "data": {
      "image/png": "[encoded data removed]",
      "text/plain": [
       "<Figure size 720x720 with 1 Axes>"
      ]
     },
     "metadata": {
      "needs_background": "light"
     },
     "output_type": "display_data"
    }
   ],
   "source": [
    "#df3['avg_BRs'].max(),df3['avg_BRs'].min()\n",
    "\n",
    "hvbr_pivot.plot(figsize=(10,10))\n",
    "# Note we can play with figure properties\n",
    "plt.ylabel('Median House Value')"
   ]
  },
  {
   "cell_type": "markdown",
   "id": "9c0b5299",
   "metadata": {},
   "source": [
    "## Problem B"
   ]
  },
  {
   "cell_type": "markdown",
   "id": "bab97f77",
   "metadata": {},
   "source": [
    "Do a linear regression trying to predict median_house_value from median_income.\n",
    "\n",
    "Separate data into trainimng and test (90/10)\n",
    "\n",
    "Do a single plot that shows a scatterplot of all the points and \n",
    "the line discovered by regression.  This will require finding\n",
    "the model parameters on the trained LinearRegression instance.\n",
    "See the Linear Regression notebook.\n",
    "\n",
    "Here are some imports that may prove useful.  The mean_squared_error is\n",
    "for those who wish to think about evaluating the model by computing\n",
    "the residual for the test data."
   ]
  },
  {
   "cell_type": "code",
   "execution_count": 5,
   "id": "78475566",
   "metadata": {},
   "outputs": [
    {
     "name": "stdout",
     "output_type": "stream",
     "text": [
      "Split arrays or matrices into random train and test subsets\n",
      "\n",
      "    Quick utility that wraps input validation and\n",
      "    ``next(ShuffleSplit().split(X, y))`` and application to input data\n",
      "    into a single call for splitting (and optionally subsampling) data in a\n",
      "    oneliner.\n",
      "\n",
      "    Read more in the :ref:`User Guide <cross_validation>`.\n",
      "\n",
      "    Parameters\n",
      "    ----------\n",
      "    *arrays : sequence of indexables with same length / shape[0]\n",
      "        Allowed inputs are lists, numpy arrays, scipy-sparse\n",
      "        matrices or pandas dataframes.\n",
      "\n",
      "    test_size : float or int, default=None\n",
      "        If float, should be between 0.0 and 1.0 and represent the proportion\n",
      "        of the dataset to include in the test split. If int, represents the\n",
      "        absolute number of test samples. If None, the value is set to the\n",
      "        complement of the train size. If ``train_size`` is also None, it will\n",
      "        be set to 0.25.\n",
      "\n",
      "    train_size : float or int, default=None\n",
      "        If float, should be between 0.0 and 1.0 and represent the\n",
      "        proportion of the dataset to include in the train split. If\n",
      "        int, represents the absolute number of train samples. If None,\n",
      "        the value is automatically set to the complement of the test size.\n",
      "\n",
      "    random_state : int, RandomState instance or None, default=None\n",
      "        Controls the shuffling applied to the data before applying the split.\n",
      "        Pass an int for reproducible output across multiple function calls.\n",
      "        See :term:`Glossary <random_state>`.\n",
      "\n",
      "\n",
      "    shuffle : bool, default=True\n",
      "        Whether or not to shuffle the data before splitting. If shuffle=False\n",
      "        then stratify must be None.\n",
      "\n",
      "    stratify : array-like, default=None\n",
      "        If not None, data is split in a stratified fashion, using this as\n",
      "        the class labels.\n",
      "        Read more in the :ref:`User Guide <stratification>`.\n",
      "\n",
      "    Returns\n",
      "    -------\n",
      "    splitting : list, length=2 * len(arrays)\n",
      "        List containing train-test split of inputs.\n",
      "\n",
      "        .. versionadded:: 0.16\n",
      "            If the input is sparse, the output will be a\n",
      "            ``scipy.sparse.csr_matrix``. Else, output type is the same as the\n",
      "            input type.\n",
      "\n",
      "    Examples\n",
      "    --------\n",
      "    >>> import numpy as np\n",
      "    >>> from sklearn.model_selection import train_test_split\n",
      "    >>> X, y = np.arange(10).reshape((5, 2)), range(5)\n",
      "    >>> X\n",
      "    array([[0, 1],\n",
      "           [2, 3],\n",
      "           [4, 5],\n",
      "           [6, 7],\n",
      "           [8, 9]])\n",
      "    >>> list(y)\n",
      "    [0, 1, 2, 3, 4]\n",
      "\n",
      "    >>> X_train, X_test, y_train, y_test = train_test_split(\n",
      "    ...     X, y, test_size=0.33, random_state=42)\n",
      "    ...\n",
      "    >>> X_train\n",
      "    array([[4, 5],\n",
      "           [0, 1],\n",
      "           [6, 7]])\n",
      "    >>> y_train\n",
      "    [2, 0, 3]\n",
      "    >>> X_test\n",
      "    array([[2, 3],\n",
      "           [8, 9]])\n",
      "    >>> y_test\n",
      "    [1, 4]\n",
      "\n",
      "    >>> train_test_split(y, shuffle=False)\n",
      "    [[0, 1, 2], [3, 4]]\n",
      "\n",
      "    \n"
     ]
    }
   ],
   "source": [
    "print(train_test_split.__doc__)"
   ]
  },
  {
   "cell_type": "code",
   "execution_count": 25,
   "id": "11acae0a",
   "metadata": {},
   "outputs": [],
   "source": [
    "from sklearn.model_selection import train_test_split\n",
    "from sklearn.linear_model import LinearRegression \n",
    "from sklearn.metrics import mean_squared_error\n",
    "import matplotlib.pyplot as plt\n",
    "import pandas as pd\n",
    "import numpy as np"
   ]
  },
  {
   "cell_type": "code",
   "execution_count": 30,
   "id": "5c3795b8",
   "metadata": {},
   "outputs": [],
   "source": [
    "lin1 = LinearRegression()\n",
    "Xsample = np.c_[df[\"median_income\"]]\n",
    "ysample = np.c_[df[\"median_house_value\"]]\n",
    "# prepare training test data\n",
    "train_test_split(...)\n",
    "# Train classifier\n",
    "lin1.fit(...)\n",
    "### test the model on the test data\n",
    "lin1.??(...)"
   ]
  },
  {
   "cell_type": "code",
   "execution_count": 28,
   "id": "cb30e162",
   "metadata": {},
   "outputs": [
    {
     "data": {
      "text/plain": [
       "((2064, 1), (2064, 1))"
      ]
     },
     "execution_count": 28,
     "metadata": {},
     "output_type": "execute_result"
    }
   ],
   "source": [
    "y_predicted.shape, y_test.shape"
   ]
  },
  {
   "cell_type": "code",
   "execution_count": 1,
   "id": "5e99beba",
   "metadata": {},
   "outputs": [],
   "source": [
    "import matplotlib.colors as mcolors\n",
    "tblue = mcolors.TABLEAU_COLORS['tab:blue']\n",
    "tred = mcolors.TABLEAU_COLORS['tab:red']\n",
    "#fig, ax = plt.subplots(1,1,figsize=(7.5,5.5))\n"
   ]
  },
  {
   "cell_type": "markdown",
   "id": "b810eef6",
   "metadata": {},
   "source": [
    "Evaluate the model by mse"
   ]
  },
  {
   "cell_type": "code",
   "execution_count": 37,
   "id": "2c7f90da",
   "metadata": {},
   "outputs": [
    {
     "data": {
      "text/plain": [
       "86349.76491105583"
      ]
     },
     "execution_count": 37,
     "metadata": {},
     "output_type": "execute_result"
    }
   ],
   "source": [
    "np.sqrt(mean_squared_error(??,??))"
   ]
  },
  {
   "cell_type": "markdown",
   "id": "c062800d",
   "metadata": {},
   "source": [
    "Evaluate the model by r2 (explained variance):"
   ]
  },
  {
   "cell_type": "code",
   "execution_count": 38,
   "id": "19e52d4c",
   "metadata": {},
   "outputs": [
    {
     "data": {
      "text/plain": [
       "0.4567009873156618"
      ]
     },
     "execution_count": 38,
     "metadata": {},
     "output_type": "execute_result"
    }
   ],
   "source": [
    "from sklearn.metrics import r2_score\n",
    "\n",
    "r2_score(??, ??)"
   ]
  },
  {
   "cell_type": "code",
   "execution_count": null,
   "id": "8fd8907b",
   "metadata": {},
   "outputs": [],
   "source": []
  }
 ],
 "metadata": {
  "kernelspec": {
   "display_name": "Python 3",
   "language": "python",
   "name": "python3"
  },
  "language_info": {
   "codemirror_mode": {
    "name": "ipython",
    "version": 3
   },
   "file_extension": ".py",
   "mimetype": "text/x-python",
   "name": "python",
   "nbconvert_exporter": "python",
   "pygments_lexer": "ipython3",
   "version": "3.7.0"
  }
 },
 "nbformat": 4,
 "nbformat_minor": 5
}
