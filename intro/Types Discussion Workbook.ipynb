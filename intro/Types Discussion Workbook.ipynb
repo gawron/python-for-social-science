{
 "cells": [
  {
   "cell_type": "markdown",
   "id": "a66b663e",
   "metadata": {},
   "source": [
    "## Questions about what type to use\n",
    "\n",
    "The questions below all involve choosing the right data type for a specific task and they are intended to be answered after covering Section 3.3 in the textbook Links to an external site.Links to an external site.(numbers and strings) and Section 3.4 in the textbook. Links to an external site.(Python containers), as well as working through the  M1 Python Types Notebooks.\n",
    "\n",
    "Each of the situations below presents you with some information that needs to stored.  Note that these questions are not about persistent storage, saving something on a disk so that it'll still be here after you turn the computer off and on; they are about how you should represent the data when it's in the computer's memory and you're preparing to do some computing with it. So the answer is never \"in a file\".  In fact, for the scenarios below, the answer is always going to be some kind of Python container type.  Try to make you answers as specific as possible.  For example, it's possible for a container to contain a container (a list of strings, a dictionary whose values are lists), so after a choosing a container you can often make your answer more specific (and more useful) by saying what data type the container contains.  Hint:  It might be useful to read through all the examples before attempting to answer any one.\n",
    "\n",
    "For each question, you are asked to motivate your answer, explaining why that container type is particularly well-suited to the task given.  To do this, think about some of the most important properties of the data you chose, and explain why they fit.  For example,  if you chose a sequence, you might want to explain why order  is important, or if you didn't choose a sequence type, you might explain why order isn't important.  To decide whether order is important, you might want to think what users will know when they look up a particular item, as well as what they will want to know."
   ]
  },
  {
   "attachments": {},
   "cell_type": "markdown",
   "id": "bfdae67f",
   "metadata": {},
   "source": [
    "\n",
    "\n",
    "1.  a single phone number\n",
    "\n",
    "2.  The emails of the students in a class.\n",
    "\n",
    "3. an anonymized list of phone numbers to be used for cold calls on election night.  The list contains the phone number of a household likely to vote for our candidate. The list is prioritized so that the households most likely to vote for our candidate come first.  Does it change your answer if some of the numbers have extensions?\n",
    "\n",
    "4.  a list of the phone numbers of  the potential contributors to our campaign.\n",
    "\n",
    "A key difference from the last question is that people who are being asked for money like to be addressed by name. The list is still prioritized so that the contributors most likely to contribute the most money come first.\n",
    "\n",
    "5.  A collection of called contributors.  The purpose of this container is to keep track of which potential contributors have already been spoken to,  The idea is to keep from bugging the same contributor twice.  It isn't enough to have an answer to question (d) and keep track of how far you've gotten on the list.  To illustrate, suppose you call Thurston Howell III and he's not home. In that case you don't add Howell to the collection of called contributors but you do move on to the next most likely contributor.  After your first pass through the contributor's list you start back at the beginning, but this time you skip over any name in the collection of called contributors.  What kind of container should the collection of called contributors be?\n",
    "\n",
    "6.  An unsuccessful call counter. That is, we want a container that keeps count of how many times we have called each contributor and been unable to speak with them.   Essentially the same scenario as in (e) but this time there is a maximum number of times we will try calling Howell.  Let's say the max number of calls is 3. On the second and later passes through the contributor list, we call only contributors we've unsuccessfully called 1 or 2 times before.\n",
    "\n",
    "7.  The entire contents of the Constance Garnett translation (into English)  of Leo Tolstoy's novel War and Peace.\n",
    "\n",
    "8.  Same as (g), but this time I want to be able to do word counts and answer questions like ``How many times does the word general appear in War and Peace?\"  Include with your answer to this question a brief description of how you will do word counting, which could be a code snippet.\n",
    "\n",
    "9.  A partition.  You want to partition a set.  A partition\n",
    "  of a  set S is a set of sets (we'll call the smaller sets partitions) such that every member of S is in some partition, and no member is in 2 partitions.  For example, you can partition the set of English words according to how many letters each word has.  So all the 6-letter words go in the same partition. And every word has some specific number of letters so every word goes in exactly one partition. The question is: How do you represent the partition?  Caution: Before answering this, try your idea out in Python on a simple example.  For example, represent a partition of the following set of words according to how many letters each word has:\n",
    "\n",
    "$$\n",
    "  \\lbrace \\,\\text{if},\\,\\text{the},\\,\\text{link}, \\, \\text{an},\\,\\text{park},\\,\n",
    "  \\text{ham}\\,\\rbrace\n",
    "$$\n",
    "\n",
    "10. Tracking dance partnerships.  You run a famous ballroom dancing studio where many celebrated ballroom dancing couples perfect their routines.  You need to keep track of who the couples are and you need to be able to easily access information in the following way:  Given a dancer, you want to be able to find out who their partner is.   Finally, the world of ballroom dancing is in constant flux, with frequent breakups and new partnerships frequently forming.  So you want  to be able to update easily.  Describe the data structure you'd use.  Describe how you'd do a lookup: Given X, find X's partner.  Describe how you'd do an update. Minimally, X and Y have broken up.  What do you do?  X and Y have just become  partners.  What do you do? Optional 1:  How does the requirement  that you store this info using as little memory as possible change things?  Optional 2:  Enforce serial monogamy:  No dancer can belong to more than\n",
    "  one partnership.\n"
   ]
  },
  {
   "cell_type": "code",
   "execution_count": null,
   "id": "6e65efc4",
   "metadata": {},
   "outputs": [],
   "source": []
  }
 ],
 "metadata": {
  "kernelspec": {
   "display_name": "Python 3 (ipykernel)",
   "language": "python",
   "name": "python3"
  },
  "language_info": {
   "codemirror_mode": {
    "name": "ipython",
    "version": 3
   },
   "file_extension": ".py",
   "mimetype": "text/x-python",
   "name": "python",
   "nbconvert_exporter": "python",
   "pygments_lexer": "ipython3",
   "version": "3.12.5"
  }
 },
 "nbformat": 4,
 "nbformat_minor": 5
}
