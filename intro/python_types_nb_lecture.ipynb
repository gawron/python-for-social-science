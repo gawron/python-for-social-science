{
 "cells": [
  {
   "cell_type": "markdown",
   "metadata": {
    "colab_type": "text",
    "id": "view-in-github"
   },
   "source": [
    "<a href=\"https://colab.research.google.com/github/gawron/python-for-social-science/blob/master/intro/python_types_nb_lecture.ipynb\" target=\"_parent\"><img src=\"https://colab.research.google.com/assets/colab-badge.svg\" alt=\"Open In Colab\"/></a>"
   ]
  },
  {
   "cell_type": "markdown",
   "metadata": {
    "id": "-yLHP8ZTVbAN"
   },
   "source": [
    "**Prerequisites**\n",
    "\n",
    "1.  You know what a type is in the context of a computer language.\n",
    "2.  You know what a Python container is.\n",
    "3.  You know what the Python builtin container types are and have some familiarity with their differences:\n",
    "    a.  List\n",
    "    b.  Tuple\n",
    "    c.  String\n",
    "    d.  Dictionary\n",
    "    e.  Set\n",
    "    \n",
    "One way you might have picked up these odd bits of knowledge is to have read [Chapter 3 of the online text.](https://gawron.sdsu.edu/python_for_ss/course_core/book_draft/Python_introduction/Python_introduction.html)\n",
    "It is also probably of use in focusing the ideas of particular importance in this notebook to have had a look at\n",
    "[the Python Types Slides I](https://gawron.sdsu.edu/python_for_ss/course_core/lectures/python_types_slides_one.pdf) and\n",
    "[the Python Types Slides Ii](https://gawron.sdsu.edu/python_for_ss/course_core/lectures/python_types_slides_two.pdf).\n",
    "\n",
    "In following along with this lecture, it is best to have [the notebook we are using](https://colab.research.google.com/github/gawron/python-for-social-science/blob/master/intro/programming_nb.ipynb) open in a separate tab.\n",
    "\n",
    "This notebook/lecture is particularly \"Socratic\" in its teaching style.  The notebook supplies you with small bits of information or data and then asks to to learn by answering questions that take you beyond what youy've been given.  The answers to the questions all require you to supply a snippet of code.   Feel free to pause the lecture at any time, so you can switch over to the notebook tab and try out an answer of your own.  If you do this, you should do your best to **verify your answers answers yourself** by evaluating the code cell you've written your answer in.  More hints on this as we go.\n",
    "\n",
    "In any case, the lecture video will take you through the set up for each question, then tell you what a good time to try out your answer is.  It will then provide an answer.  That is why the title of the notebook at the top of the page is **python_types_nb-Copy1**."
   ]
  },
  {
   "cell_type": "markdown",
   "metadata": {
    "id": "2Kutyj5rVi4f"
   },
   "source": []
  },
  {
   "cell_type": "markdown",
   "metadata": {
    "id": "M2um92nVUZcl"
   },
   "source": [
    "<font size=7> <b> Python types </b></font>"
   ]
  },
  {
   "cell_type": "markdown",
   "metadata": {
    "id": "lkLT83fHVbAP"
   },
   "source": [
    "## Tuples"
   ]
  },
  {
   "cell_type": "markdown",
   "metadata": {
    "id": "yOPfMyt0UZcz"
   },
   "source": [
    "To start using this notebook, recall the directions you were given in the `running_python` video about how to use a notebook.  Execute the next cell.  That is, in Jupyter, position your cursor in the next cell and hit the `[Enter]` key while holding down the shift key, which we will henceforth write as `[Shift]`-`[Enter]`.  Nothing visible will happen.  But you will have defined the variable T to be a tuple with four members.  In Google Colab, just hit the small triangle (or `Play` button) to the left of the cell."
   ]
  },
  {
   "cell_type": "code",
   "execution_count": 1,
   "metadata": {
    "id": "QgcodkpKUZc0",
    "outputId": "9b08227e-1311-4383-8062-fe67f41f1b0b"
   },
   "outputs": [
    {
     "data": {
      "text/plain": [
       "('a', 'b', 'c', 'd')"
      ]
     },
     "execution_count": 1,
     "metadata": {},
     "output_type": "execute_result"
    }
   ],
   "source": [
    "#Variable assignment. T is now a tuple.\n",
    "T = tuple('abcd')\n",
    "T"
   ]
  },
  {
   "cell_type": "markdown",
   "metadata": {
    "id": "T25eA8onVbAQ"
   },
   "source": [
    "The next cell retrieves the third element of `T` by using the positional index 2 (0 is first position):"
   ]
  },
  {
   "cell_type": "code",
   "execution_count": 2,
   "metadata": {
    "colab": {
     "base_uri": "https://localhost:8080/",
     "height": 35
    },
    "id": "Opu4E_dXUZc2",
    "outputId": "8aac1020-54a0-41a0-b4bd-f50c89cd3ad3",
    "scrolled": true
   },
   "outputs": [
    {
     "data": {
      "text/plain": [
       "'c'"
      ]
     },
     "execution_count": 2,
     "metadata": {},
     "output_type": "execute_result"
    }
   ],
   "source": [
    "T[2]"
   ]
  },
  {
   "cell_type": "markdown",
   "metadata": {
    "id": "Tx7tCXwmVbAQ"
   },
   "source": [
    "The next cell retrieves the third from the last element of T by using the positional index -3 (-1 is last position):"
   ]
  },
  {
   "cell_type": "code",
   "execution_count": 3,
   "metadata": {
    "colab": {
     "base_uri": "https://localhost:8080/",
     "height": 35
    },
    "id": "TqY4LkDgUZc4",
    "outputId": "6dd95997-f852-4f46-a5cc-b5b2b1db779c"
   },
   "outputs": [
    {
     "data": {
      "text/plain": [
       "'b'"
      ]
     },
     "execution_count": 3,
     "metadata": {},
     "output_type": "execute_result"
    }
   ],
   "source": [
    "T[-3]"
   ]
  },
  {
   "cell_type": "markdown",
   "metadata": {
    "id": "8mxJHVhaVbAR"
   },
   "source": [
    "Consider a new tuple, defined from a string using the type name `tuple` as a creator\n",
    "or factory function."
   ]
  },
  {
   "cell_type": "code",
   "execution_count": 4,
   "metadata": {
    "id": "h8FmONijVbAR",
    "outputId": "0fb590a8-fa64-4629-aa7f-d9a81433d34b"
   },
   "outputs": [
    {
     "name": "stdout",
     "output_type": "stream",
     "text": [
      "A ('a', 'b', 'c', 'd', 'e', 'f', 'g')\n",
      "B ('abc', 'bcd', 'cde', 'def', 'efg')\n"
     ]
    }
   ],
   "source": [
    "S = 'abcdefg'\n",
    "A = tuple(S)\n",
    "print('A', A)\n",
    "B = (S[0:3],S[1:4],S[2:5],S[3:6],S[4:7])\n",
    "print('B', B)"
   ]
  },
  {
   "cell_type": "markdown",
   "metadata": {
    "id": "VfkRLMTFVbAR"
   },
   "source": [
    "Recall how **splices** work."
   ]
  },
  {
   "cell_type": "code",
   "execution_count": 5,
   "metadata": {
    "id": "ueykeJS7VbAR",
    "outputId": "890f5c93-cf2d-4add-e264-a7889f2e5ae8"
   },
   "outputs": [
    {
     "data": {
      "text/plain": [
       "('b', 'c', 'd')"
      ]
     },
     "execution_count": 5,
     "metadata": {},
     "output_type": "execute_result"
    }
   ],
   "source": [
    "# elements from position 1 up to but not including position 4\n",
    "# elements at positions 1,2, and 3\n",
    "A[1:4]"
   ]
  },
  {
   "cell_type": "code",
   "execution_count": 5,
   "metadata": {},
   "outputs": [
    {
     "data": {
      "text/plain": [
       "('a', 'b', 'c', 'd', 'e', 'f', 'g')"
      ]
     },
     "execution_count": 5,
     "metadata": {},
     "output_type": "execute_result"
    }
   ],
   "source": [
    "A"
   ]
  },
  {
   "cell_type": "markdown",
   "metadata": {
    "id": "h-7mRkIMVbAR"
   },
   "source": [
    "#### Retrieve `('c','d')` from `A`"
   ]
  },
  {
   "cell_type": "code",
   "execution_count": 12,
   "metadata": {},
   "outputs": [
    {
     "data": {
      "text/plain": [
       "('a', 'b', 'c', 'd', 'e', 'f', 'g')"
      ]
     },
     "execution_count": 12,
     "metadata": {},
     "output_type": "execute_result"
    }
   ],
   "source": [
    "A"
   ]
  },
  {
   "cell_type": "code",
   "execution_count": null,
   "metadata": {
    "id": "7ETKtKoXVbAR"
   },
   "outputs": [],
   "source": []
  },
  {
   "cell_type": "code",
   "execution_count": null,
   "metadata": {
    "id": "3h-xq0InVbAR"
   },
   "outputs": [],
   "source": []
  },
  {
   "cell_type": "code",
   "execution_count": null,
   "metadata": {
    "id": "StpNuf_uVbAR"
   },
   "outputs": [],
   "source": []
  },
  {
   "cell_type": "code",
   "execution_count": null,
   "metadata": {
    "id": "W-biHtSqVbAR"
   },
   "outputs": [],
   "source": []
  },
  {
   "cell_type": "code",
   "execution_count": null,
   "metadata": {
    "id": "eejfIGzlVbAR"
   },
   "outputs": [],
   "source": []
  },
  {
   "cell_type": "code",
   "execution_count": null,
   "metadata": {
    "id": "QEcIcY2gVbAR",
    "outputId": "21b67f7e-2bce-4653-ae60-421493b6831d"
   },
   "outputs": [
    {
     "data": {
      "text/plain": [
       "('c', 'd')"
      ]
     },
     "execution_count": 7,
     "metadata": {},
     "output_type": "execute_result"
    }
   ],
   "source": [
    "A[2:4]"
   ]
  },
  {
   "cell_type": "markdown",
   "metadata": {
    "id": "IuZ_5cUXVbAR"
   },
   "source": [
    "#### Retrieve `'cde'` from `B`"
   ]
  },
  {
   "cell_type": "code",
   "execution_count": 13,
   "metadata": {},
   "outputs": [
    {
     "data": {
      "text/plain": [
       "('abc', 'bcd', 'cde', 'def', 'efg')"
      ]
     },
     "execution_count": 13,
     "metadata": {},
     "output_type": "execute_result"
    }
   ],
   "source": [
    "B"
   ]
  },
  {
   "cell_type": "code",
   "execution_count": null,
   "metadata": {
    "id": "mhH3W8glVbAS"
   },
   "outputs": [],
   "source": []
  },
  {
   "cell_type": "code",
   "execution_count": null,
   "metadata": {
    "id": "rtBwHKksVbAS"
   },
   "outputs": [],
   "source": []
  },
  {
   "cell_type": "code",
   "execution_count": null,
   "metadata": {
    "id": "YiZ_oe36VbAS"
   },
   "outputs": [],
   "source": []
  },
  {
   "cell_type": "code",
   "execution_count": null,
   "metadata": {
    "id": "gkxaSheyVbAS"
   },
   "outputs": [],
   "source": []
  },
  {
   "cell_type": "code",
   "execution_count": null,
   "metadata": {
    "id": "XPt9U7HWVbAS"
   },
   "outputs": [],
   "source": []
  },
  {
   "cell_type": "code",
   "execution_count": null,
   "metadata": {
    "id": "4nZH_H6fVbAS"
   },
   "outputs": [],
   "source": []
  },
  {
   "cell_type": "markdown",
   "metadata": {
    "id": "HusjHmL3VbAS"
   },
   "source": [
    "This is not a splice because `'cde'` is an element of `B` not a subsequence."
   ]
  },
  {
   "cell_type": "code",
   "execution_count": null,
   "metadata": {
    "id": "coKr4WrWVbAS",
    "outputId": "602b9095-24c0-4cc4-b3ae-41a02a45dcac"
   },
   "outputs": [
    {
     "data": {
      "text/plain": [
       "'cde'"
      ]
     },
     "execution_count": 8,
     "metadata": {},
     "output_type": "execute_result"
    }
   ],
   "source": [
    "B[2]"
   ]
  },
  {
   "cell_type": "code",
   "execution_count": 15,
   "metadata": {},
   "outputs": [
    {
     "data": {
      "text/plain": [
       "('abc', 'bcd', 'cde', 'def', 'efg')"
      ]
     },
     "execution_count": 15,
     "metadata": {},
     "output_type": "execute_result"
    }
   ],
   "source": [
    "B"
   ]
  },
  {
   "cell_type": "code",
   "execution_count": 19,
   "metadata": {},
   "outputs": [
    {
     "data": {
      "text/plain": [
       "('abc', 'bcd', 'cde', 'def', 'efg')"
      ]
     },
     "execution_count": 19,
     "metadata": {},
     "output_type": "execute_result"
    }
   ],
   "source": [
    "B"
   ]
  },
  {
   "cell_type": "markdown",
   "metadata": {
    "id": "5nbda7VrVbAS"
   },
   "source": [
    "#### Retrieve `('cde', 'def')`  from B"
   ]
  },
  {
   "cell_type": "code",
   "execution_count": 7,
   "metadata": {
    "id": "jqo4GgbOVbAS"
   },
   "outputs": [
    {
     "data": {
      "text/plain": [
       "('abc', 'bcd', 'cde', 'def', 'efg')"
      ]
     },
     "execution_count": 7,
     "metadata": {},
     "output_type": "execute_result"
    }
   ],
   "source": [
    "B"
   ]
  },
  {
   "cell_type": "code",
   "execution_count": null,
   "metadata": {
    "id": "SLKv6n-eVbAS"
   },
   "outputs": [],
   "source": []
  },
  {
   "cell_type": "code",
   "execution_count": null,
   "metadata": {
    "id": "YNBOtGe8VbAS"
   },
   "outputs": [],
   "source": []
  },
  {
   "cell_type": "code",
   "execution_count": null,
   "metadata": {
    "id": "qyK26FDXVbAS"
   },
   "outputs": [],
   "source": []
  },
  {
   "cell_type": "code",
   "execution_count": null,
   "metadata": {
    "id": "5wqLke9YVbAS"
   },
   "outputs": [],
   "source": []
  },
  {
   "cell_type": "code",
   "execution_count": null,
   "metadata": {
    "id": "7JE0CVl6VbAS"
   },
   "outputs": [],
   "source": []
  },
  {
   "cell_type": "code",
   "execution_count": null,
   "metadata": {
    "id": "kRo3YMlkVbAS"
   },
   "outputs": [],
   "source": []
  },
  {
   "cell_type": "code",
   "execution_count": null,
   "metadata": {
    "id": "HJ3CmtQZVbAS",
    "outputId": "dc75827e-7107-42e1-b524-8e1dcf9c70d1"
   },
   "outputs": [
    {
     "data": {
      "text/plain": [
       "('cde', 'def')"
      ]
     },
     "execution_count": 10,
     "metadata": {},
     "output_type": "execute_result"
    }
   ],
   "source": [
    "B[2:4]"
   ]
  },
  {
   "cell_type": "markdown",
   "metadata": {
    "id": "GSQk9M4cVbAS"
   },
   "source": [
    "The next cell repeats the original definition of `T` from\n",
    "above and assigns the **string** `\"x\"` to be the value at the second position.\n",
    "\n",
    "The raises an **Exception**. To see what the `Exception` is, position your cursor in the cell and type `[Shift]`-`[Enter]`. Explain what the error is in the cell 2 cells down (labeled `Enter your answer here`)."
   ]
  },
  {
   "cell_type": "code",
   "execution_count": 8,
   "metadata": {
    "id": "ETZ1-a9NUZc6"
   },
   "outputs": [],
   "source": [
    "T = tuple('abcd')\n",
    "##  Attempted assignment\n",
    "T[1] = 'x'"
   ]
  },
  {
   "cell_type": "markdown",
   "metadata": {},
   "source": [
    "[Enter your answer here]"
   ]
  },
  {
   "cell_type": "markdown",
   "metadata": {
    "id": "PNh0QhT7VbAT"
   },
   "source": [
    "In the next cell your task is to illustrate that you understand the source of the problem\n",
    "with the **assignment statement** `T[1] = 'x'`.\n",
    "\n",
    "To do that, use the cell below to define `T` differently so that the assignment is not an error.\n",
    "\n",
    "Here are some guidelines:\n",
    "\n",
    "1.  The new `T` must still be a sequence  (or `T[1]` won't work).\n",
    "2.  Try to have the new `T` contain the same elements as the old `T`."
   ]
  },
  {
   "cell_type": "code",
   "execution_count": null,
   "metadata": {
    "id": "ETFpu-DtVbAT"
   },
   "outputs": [],
   "source": []
  },
  {
   "cell_type": "code",
   "execution_count": null,
   "metadata": {
    "id": "zh64XwBGVbAT"
   },
   "outputs": [],
   "source": []
  },
  {
   "cell_type": "code",
   "execution_count": null,
   "metadata": {
    "id": "vinVBscTVbAT"
   },
   "outputs": [],
   "source": []
  },
  {
   "cell_type": "code",
   "execution_count": null,
   "metadata": {
    "id": "5rn_-zBrVbAT"
   },
   "outputs": [],
   "source": []
  },
  {
   "cell_type": "code",
   "execution_count": null,
   "metadata": {
    "id": "G0WQ8dzzVbAT"
   },
   "outputs": [],
   "source": []
  },
  {
   "cell_type": "code",
   "execution_count": null,
   "metadata": {
    "id": "oTq03eS3VbAT"
   },
   "outputs": [],
   "source": []
  },
  {
   "cell_type": "code",
   "execution_count": null,
   "metadata": {
    "id": "4kKZXkbaVbAT"
   },
   "outputs": [],
   "source": []
  },
  {
   "cell_type": "code",
   "execution_count": null,
   "metadata": {
    "id": "zPEnTth5VbAT"
   },
   "outputs": [],
   "source": []
  },
  {
   "cell_type": "code",
   "execution_count": null,
   "metadata": {
    "id": "ia0V7fr1VbAT"
   },
   "outputs": [],
   "source": []
  },
  {
   "cell_type": "code",
   "execution_count": null,
   "metadata": {
    "id": "HOk-zUAGVbAT"
   },
   "outputs": [],
   "source": []
  },
  {
   "cell_type": "code",
   "execution_count": null,
   "metadata": {
    "id": "IS6NVVTZVbAT"
   },
   "outputs": [],
   "source": [
    "#T =  tuple('abcd') # Assignment raises Exception\n",
    "T =  list(T)              # Assignment in next line is valid\n",
    "T[1] = 'x'\n",
    "T"
   ]
  },
  {
   "cell_type": "markdown",
   "metadata": {
    "id": "yLl7qu7AVbAT"
   },
   "source": [
    "Takeaways:\n",
    "\n",
    "1.  Tuples are sequences.  data is accessed by **positional indexing**, with the first element at index 0.  This is called 0-based indexing.\n",
    "2.  A splice from any sequence is always a sequence of the same type.\n",
    "3.  The length of a splice `start:stop` is always  `stop - start`.\n",
    "4.  Tuples can't be updated.  That is, they don't support **assignment**.  You can't change the value of an element at a particular position.\n",
    "5.  Lists do support assignment.  To create a sequence you can update, just turn a tuple into a list.\n"
   ]
  },
  {
   "cell_type": "markdown",
   "metadata": {
    "id": "vVObwCeJUZdA"
   },
   "source": [
    "# Lists (& Containers as compound data)"
   ]
  },
  {
   "cell_type": "code",
   "execution_count": 11,
   "metadata": {
    "id": "-6AxKeYXVbAT",
    "outputId": "ababec8f-345e-4216-8b11-50507902f217"
   },
   "outputs": [
    {
     "name": "stdout",
     "output_type": "stream",
     "text": [
      "('a', 'b', 'c', 'd', 'e')\n",
      "['a', 'b', 'x', 'd', 'e']\n"
     ]
    }
   ],
   "source": [
    "T = tuple('abcde')\n",
    "print(T)\n",
    "L = list('abxde')\n",
    "print(L)\n",
    "# Defines same B as above\n",
    "S = 'abcdefg'\n",
    "B = (S[0:3],S[1:4],S[2:5],S[3:6],S[4:7])"
   ]
  },
  {
   "cell_type": "code",
   "execution_count": 22,
   "metadata": {},
   "outputs": [
    {
     "data": {
      "text/plain": [
       "['a', 'b', 'x', 'd', 'e']"
      ]
     },
     "execution_count": 22,
     "metadata": {},
     "output_type": "execute_result"
    }
   ],
   "source": [
    "L"
   ]
  },
  {
   "cell_type": "code",
   "execution_count": null,
   "metadata": {
    "id": "eYrIHzmdVbAT",
    "outputId": "03fe7e33-ef71-4e46-fb97-ab03541225d9"
   },
   "outputs": [
    {
     "data": {
      "text/plain": [
       "'b'"
      ]
     },
     "execution_count": 12,
     "metadata": {},
     "output_type": "execute_result"
    }
   ],
   "source": [
    "L[1]"
   ]
  },
  {
   "cell_type": "code",
   "execution_count": null,
   "metadata": {
    "id": "X9wr18M7VbAT",
    "outputId": "6535c1b1-1dec-431b-865d-f2abe00ba600"
   },
   "outputs": [
    {
     "data": {
      "text/plain": [
       "'d'"
      ]
     },
     "execution_count": 13,
     "metadata": {},
     "output_type": "execute_result"
    }
   ],
   "source": [
    "L[-2]"
   ]
  },
  {
   "cell_type": "markdown",
   "metadata": {
    "id": "GVq8dA3WVbAT"
   },
   "source": [
    "Tuple versus list syntax and print names"
   ]
  },
  {
   "cell_type": "code",
   "execution_count": null,
   "metadata": {
    "id": "1IExeFJcVbAT",
    "outputId": "b46ae1ea-bbae-40ae-8392-de20dbd04846"
   },
   "outputs": [
    {
     "name": "stdout",
     "output_type": "stream",
     "text": [
      "('a', 'b', 'c', 'd', 'e')\n",
      "['a', 'b', 'x', 'd', 'e']\n"
     ]
    }
   ],
   "source": [
    "print(T)\n",
    "print(L)"
   ]
  },
  {
   "cell_type": "code",
   "execution_count": null,
   "metadata": {
    "id": "Df-iq9eTVbAU",
    "outputId": "dfbcf14e-36f0-40a4-d8bb-a462a2ddcafb"
   },
   "outputs": [
    {
     "name": "stdout",
     "output_type": "stream",
     "text": [
      "['a', 'b', 'x', 'd', 'e']\n"
     ]
    },
    {
     "data": {
      "text/plain": [
       "True"
      ]
     },
     "execution_count": 26,
     "metadata": {},
     "output_type": "execute_result"
    }
   ],
   "source": [
    "print(L)\n",
    "'x' in L"
   ]
  },
  {
   "cell_type": "code",
   "execution_count": 9,
   "metadata": {},
   "outputs": [
    {
     "data": {
      "text/plain": [
       "True"
      ]
     },
     "execution_count": 9,
     "metadata": {},
     "output_type": "execute_result"
    }
   ],
   "source": [
    "'x' in 'abcxde'"
   ]
  },
  {
   "cell_type": "code",
   "execution_count": 12,
   "metadata": {},
   "outputs": [
    {
     "data": {
      "text/plain": [
       "('a', 'b', 'x', 'd', 'e')"
      ]
     },
     "execution_count": 12,
     "metadata": {},
     "output_type": "execute_result"
    }
   ],
   "source": [
    "tuple(L)"
   ]
  },
  {
   "cell_type": "code",
   "execution_count": 14,
   "metadata": {},
   "outputs": [
    {
     "data": {
      "text/plain": [
       "True"
      ]
     },
     "execution_count": 14,
     "metadata": {},
     "output_type": "execute_result"
    }
   ],
   "source": [
    "'x' in tuple(L)"
   ]
  },
  {
   "cell_type": "markdown",
   "metadata": {},
   "source": [
    "Wnat will the value be  when I execute the following cell?"
   ]
  },
  {
   "cell_type": "code",
   "execution_count": null,
   "metadata": {},
   "outputs": [],
   "source": [
    "x in tuple(L)"
   ]
  },
  {
   "cell_type": "code",
   "execution_count": 15,
   "metadata": {},
   "outputs": [
    {
     "name": "stdout",
     "output_type": "stream",
     "text": [
      "['a', 'b', 'x', 'd', 'e']\n"
     ]
    }
   ],
   "source": [
    "print(L)"
   ]
  },
  {
   "cell_type": "code",
   "execution_count": null,
   "metadata": {
    "id": "0BOF26gmVbAU",
    "outputId": "2a6ef906-85a1-4f83-da74-e724bdfe6939"
   },
   "outputs": [
    {
     "data": {
      "text/plain": [
       "False"
      ]
     },
     "execution_count": 16,
     "metadata": {},
     "output_type": "execute_result"
    }
   ],
   "source": [
    "'c' in L"
   ]
  },
  {
   "cell_type": "markdown",
   "metadata": {
    "id": "lej3ZJrSVbAU"
   },
   "source": [
    "The objects that are `in` a container are its **elements**."
   ]
  },
  {
   "cell_type": "code",
   "execution_count": 31,
   "metadata": {},
   "outputs": [
    {
     "data": {
      "text/plain": [
       "('abc', 'bcd', 'cde', 'def', 'efg')"
      ]
     },
     "execution_count": 31,
     "metadata": {},
     "output_type": "execute_result"
    }
   ],
   "source": [
    "B"
   ]
  },
  {
   "cell_type": "code",
   "execution_count": 32,
   "metadata": {
    "id": "BusAuNSvVbAU",
    "outputId": "88e33348-d2ba-4652-a402-9b3a5efdf891"
   },
   "outputs": [
    {
     "name": "stdout",
     "output_type": "stream",
     "text": [
      "B ('abc', 'bcd', 'cde', 'def', 'efg')\n",
      "\"b\" in B:  False\n",
      "\"bcd\" in B:  True\n"
     ]
    }
   ],
   "source": [
    "print('B', B)\n",
    "print('\"b\" in B: ', 'b' in B)\n",
    "print('\"bcd\" in B: ', 'bcd' in B)"
   ]
  },
  {
   "cell_type": "markdown",
   "metadata": {
    "id": "22XBuE73VbAU"
   },
   "source": [
    "The length of a container is the count of its elements, no matter what size the elements are."
   ]
  },
  {
   "cell_type": "code",
   "execution_count": 33,
   "metadata": {
    "id": "2hdEqJXzVbAU",
    "outputId": "f34dbf65-e684-4a5b-9faf-86c9a14f0124"
   },
   "outputs": [
    {
     "name": "stdout",
     "output_type": "stream",
     "text": [
      "B ('abc', 'bcd', 'cde', 'def', 'efg')\n",
      "L ['a', 'b', 'x', 'd', 'e']\n",
      "len(B) 5\n",
      "len(L) 5\n"
     ]
    }
   ],
   "source": [
    "print(\"B\",B)\n",
    "print(\"L\", L)\n",
    "print(\"len(B)\", len(B))\n",
    "print(\"len(L)\", len(L))"
   ]
  },
  {
   "cell_type": "markdown",
   "metadata": {
    "id": "4Fn3hu-HVbAU"
   },
   "source": [
    "For `L`, which is a list, assignments of new values to positions are possible:"
   ]
  },
  {
   "cell_type": "code",
   "execution_count": 16,
   "metadata": {},
   "outputs": [
    {
     "data": {
      "text/plain": [
       "['a', 'b', 'x', 'd', 'e']"
      ]
     },
     "execution_count": 16,
     "metadata": {},
     "output_type": "execute_result"
    }
   ],
   "source": [
    "L"
   ]
  },
  {
   "cell_type": "code",
   "execution_count": 17,
   "metadata": {
    "id": "l6iwyAJwVbAU",
    "outputId": "380f9f13-8f19-48be-c0c3-067b6fb70c0f"
   },
   "outputs": [],
   "source": [
    "L[1]  = ('1','2')"
   ]
  },
  {
   "cell_type": "code",
   "execution_count": null,
   "metadata": {},
   "outputs": [],
   "source": [
    "L"
   ]
  },
  {
   "cell_type": "markdown",
   "metadata": {
    "id": "nesjWt2-VbAU"
   },
   "source": [
    "Note that we can assign to slice locations just as we assign to index\n",
    "locations.   These slice assignments may change the langth of the list."
   ]
  },
  {
   "cell_type": "code",
   "execution_count": 27,
   "metadata": {
    "id": "xRVgdPNcVbAU",
    "outputId": "7dc27a28-874b-41af-a80d-4422f3998ced"
   },
   "outputs": [
    {
     "name": "stdout",
     "output_type": "stream",
     "text": [
      "['a', 'b', 'c', 'd', 'e']\n"
     ]
    }
   ],
   "source": [
    "L = list('abcde')\n",
    "print(L)\n",
    "#L[1:3]  = ['w','f','h']\n",
    "#print(L)"
   ]
  },
  {
   "cell_type": "markdown",
   "metadata": {
    "id": "qkrAhZcmVbAU"
   },
   "source": [
    "In the next cell,  use a slice assignment to replace the last two elements of\n",
    "`L` with a single element `\"zr\"`.  That is, starting with\n",
    "\n",
    "```\n",
    "['a', 'w', 'f', 'h', 'd', 'e']\n",
    "```\n",
    "\n",
    "the result is:\n",
    "\n",
    "```\n",
    "['a', 'w', 'f', 'h', 'zr']\n",
    "```\n"
   ]
  },
  {
   "cell_type": "code",
   "execution_count": 46,
   "metadata": {
    "id": "2FUWAGSuVbAU"
   },
   "outputs": [
    {
     "name": "stdout",
     "output_type": "stream",
     "text": [
      "['a', 'w', 'f', 'h', 'd', 'e']\n",
      "['a', 'w', 'f', 'h', 'd', 'e']\n"
     ]
    }
   ],
   "source": [
    "print(L)\n",
    "# Your splice assignment goes here\n",
    "\n",
    "print(L)"
   ]
  },
  {
   "cell_type": "code",
   "execution_count": 1,
   "metadata": {
    "id": "zf4qvbyfVbAU"
   },
   "outputs": [],
   "source": [
    "#Is this right?\n",
    "#L[-1:] = \"zr\""
   ]
  },
  {
   "cell_type": "code",
   "execution_count": 2,
   "metadata": {
    "id": "_ljm17wIVbAU"
   },
   "outputs": [],
   "source": [
    "#How about this?\n",
    "#L[-1:] = [\"zr\"]"
   ]
  },
  {
   "cell_type": "code",
   "execution_count": 34,
   "metadata": {
    "id": "W27GPsi0VbAU"
   },
   "outputs": [],
   "source": [
    "# Or this?\n",
    "#L[-2] = [\"zr\"]"
   ]
  },
  {
   "cell_type": "code",
   "execution_count": null,
   "metadata": {
    "id": "Mfp3GEWSVbAU"
   },
   "outputs": [],
   "source": []
  },
  {
   "cell_type": "code",
   "execution_count": null,
   "metadata": {},
   "outputs": [],
   "source": []
  },
  {
   "cell_type": "code",
   "execution_count": null,
   "metadata": {
    "id": "vqPXtJoCVbAU"
   },
   "outputs": [],
   "source": []
  },
  {
   "cell_type": "code",
   "execution_count": null,
   "metadata": {
    "id": "czilyT3SVbAU"
   },
   "outputs": [],
   "source": []
  },
  {
   "cell_type": "code",
   "execution_count": null,
   "metadata": {
    "id": "gLdXn7drVbAU",
    "outputId": "22a06b82-0189-4ca9-da16-63f510691b42"
   },
   "outputs": [
    {
     "name": "stdout",
     "output_type": "stream",
     "text": [
      "['a', 'w', 'f', 'h', 'd', 'e']\n",
      "['a', 'w', 'f', 'h', 'zr']\n"
     ]
    }
   ],
   "source": [
    "print(L)\n",
    "L[-2:] = [\"zr\"]\n",
    "\n",
    "print(L)"
   ]
  },
  {
   "cell_type": "markdown",
   "metadata": {
    "id": "nGGNCPWrVbAV"
   },
   "source": [
    "### Calling `L` the assignee and `\"zr\"` what is assigned, the\n",
    "rule in slice assignment is:  The elements of what is assigned become\n",
    "elements of the assignee.  So for \n",
    "\n",
    "```\n",
    "L[-1:] = \"zr\",\n",
    "```\n",
    "\n",
    "the two elements of the string `\"zr\"`\n",
    "become elements of `L`.  In order to assign the single element `\"zr\"`\n",
    "to a slice, we need a container with  `\"zr\"` as its single element,\n",
    "for example  `[\"zr\"]`."
   ]
  },
  {
   "cell_type": "markdown",
   "metadata": {
    "id": "11lTm7xZVbAV"
   },
   "source": [
    "We introduce a new list, which is a list of **tuples**.  We emphasize that this is a **compound container**, a container\n",
    "which contains other containers inside of it."
   ]
  },
  {
   "cell_type": "code",
   "execution_count": 35,
   "metadata": {
    "id": "uWB4r9QYUZdA"
   },
   "outputs": [],
   "source": [
    "Mothers = [('George Clooney', 'Rozemary Clooney'),\n",
    "           ('Jimmy Carter',  'Lillian Carter'),\n",
    "           ('George H. W. Bush','Dorothy Walker Bush'),\n",
    "           ('George W. Bush', 'Barbara Bush'),\n",
    "           ('Liza Minnelli', 'Judy Garland')]"
   ]
  },
  {
   "cell_type": "code",
   "execution_count": 36,
   "metadata": {
    "id": "73qQGx-ZVbAV",
    "outputId": "722a7ad0-a290-431e-de9a-8dd28eeabd6e"
   },
   "outputs": [
    {
     "data": {
      "text/plain": [
       "5"
      ]
     },
     "execution_count": 36,
     "metadata": {},
     "output_type": "execute_result"
    }
   ],
   "source": [
    "# 10 strings inside Mothers but the length of Mothers is not 10\n",
    "len(Mothers)"
   ]
  },
  {
   "cell_type": "code",
   "execution_count": 37,
   "metadata": {
    "id": "X478O_cnVbAV",
    "outputId": "866dcda1-b235-4a0b-8389-8bb80d7614c4"
   },
   "outputs": [
    {
     "data": {
      "text/plain": [
       "2"
      ]
     },
     "execution_count": 37,
     "metadata": {},
     "output_type": "execute_result"
    }
   ],
   "source": [
    "len(Mothers[0])"
   ]
  },
  {
   "cell_type": "code",
   "execution_count": 38,
   "metadata": {
    "id": "9khLvH6CUZdC",
    "outputId": "7077cfe5-6052-4401-8ab1-78180fff0609"
   },
   "outputs": [
    {
     "data": {
      "text/plain": [
       "('George Clooney', 'Rozemary Clooney')"
      ]
     },
     "execution_count": 38,
     "metadata": {},
     "output_type": "execute_result"
    }
   ],
   "source": [
    "Mothers[0]"
   ]
  },
  {
   "cell_type": "code",
   "execution_count": 39,
   "metadata": {},
   "outputs": [
    {
     "data": {
      "text/plain": [
       "[('George Clooney', 'Rozemary Clooney'),\n",
       " ('Jimmy Carter', 'Lillian Carter'),\n",
       " ('George H. W. Bush', 'Dorothy Walker Bush'),\n",
       " ('George W. Bush', 'Barbara Bush'),\n",
       " ('Liza Minnelli', 'Judy Garland')]"
      ]
     },
     "execution_count": 39,
     "metadata": {},
     "output_type": "execute_result"
    }
   ],
   "source": [
    "Mothers"
   ]
  },
  {
   "cell_type": "markdown",
   "metadata": {
    "id": "WBt-b0mBUZdE"
   },
   "source": [
    "**Retrieving data from compound data structures**\n",
    "\n",
    "In the next cell, write a single expression that retrieves the value `\"Judy Garland\"` from `Mothers`.  Test your answer by typing `[Shift]`-`[Enter]` to see what you get.  If you get `NameError`, it's because you didn't first execute the expression in the cell above to define the variable `Mothers`.  "
   ]
  },
  {
   "cell_type": "code",
   "execution_count": null,
   "metadata": {
    "id": "P1Y5UvumVbAV"
   },
   "outputs": [],
   "source": [
    "#Answer should be of the form Mothers[..."
   ]
  },
  {
   "cell_type": "code",
   "execution_count": 40,
   "metadata": {
    "id": "KBn8PlaUVbAV"
   },
   "outputs": [
    {
     "data": {
      "text/plain": [
       "('Liza Minnelli', 'Judy Garland')"
      ]
     },
     "execution_count": 40,
     "metadata": {},
     "output_type": "execute_result"
    }
   ],
   "source": [
    "# This is a single expression but not the right one.\n",
    "Mothers[-1]"
   ]
  },
  {
   "cell_type": "code",
   "execution_count": 41,
   "metadata": {
    "id": "M7Bd83cjVbAV"
   },
   "outputs": [
    {
     "data": {
      "text/plain": [
       "'Judy Garland'"
      ]
     },
     "execution_count": 41,
     "metadata": {},
     "output_type": "execute_result"
    }
   ],
   "source": [
    "# Right value retrieved but wrong because it's not a single expression\n",
    "x = Mothers[-1]\n",
    "x[-1]"
   ]
  },
  {
   "cell_type": "code",
   "execution_count": null,
   "metadata": {
    "id": "t3mnAamBVbAV"
   },
   "outputs": [],
   "source": []
  },
  {
   "cell_type": "code",
   "execution_count": null,
   "metadata": {
    "id": "Ip1yyOtZVbAV"
   },
   "outputs": [],
   "source": []
  },
  {
   "cell_type": "code",
   "execution_count": null,
   "metadata": {
    "id": "Y7FfUHBlVbAV"
   },
   "outputs": [],
   "source": []
  },
  {
   "cell_type": "markdown",
   "metadata": {
    "id": "YHW3LwwsVbAV"
   },
   "source": [
    "**Answer**"
   ]
  },
  {
   "cell_type": "code",
   "execution_count": 42,
   "metadata": {
    "id": "AiR7OJ_rVbAV"
   },
   "outputs": [
    {
     "data": {
      "text/plain": [
       "'Judy Garland'"
      ]
     },
     "execution_count": 42,
     "metadata": {},
     "output_type": "execute_result"
    }
   ],
   "source": [
    "Mothers[-1][-1]"
   ]
  },
  {
   "cell_type": "code",
   "execution_count": 43,
   "metadata": {
    "id": "t0mmx7IXUZdE"
   },
   "outputs": [
    {
     "data": {
      "text/plain": [
       "'Judy Garland'"
      ]
     },
     "execution_count": 43,
     "metadata": {},
     "output_type": "execute_result"
    }
   ],
   "source": [
    "\n",
    "Mothers[4][1]"
   ]
  },
  {
   "cell_type": "markdown",
   "metadata": {
    "id": "6P_1isqAUZdH"
   },
   "source": [
    "**Retrieving data from compound data structures: Going deeper**\n",
    "\n",
    "In the next cell, type a single expression that retrieves the value `z` from `Mothers` and sets  a variable to that value.  This answer will be of the  form `Variable = Mothers[...`.  \n",
    "\n",
    "Note:  There are mutliple valid answers"
   ]
  },
  {
   "cell_type": "code",
   "execution_count": 44,
   "metadata": {
    "id": "t4ScTs86VbAV"
   },
   "outputs": [
    {
     "data": {
      "text/plain": [
       "[('George Clooney', 'Rozemary Clooney'),\n",
       " ('Jimmy Carter', 'Lillian Carter'),\n",
       " ('George H. W. Bush', 'Dorothy Walker Bush'),\n",
       " ('George W. Bush', 'Barbara Bush'),\n",
       " ('Liza Minnelli', 'Judy Garland')]"
      ]
     },
     "execution_count": 44,
     "metadata": {},
     "output_type": "execute_result"
    }
   ],
   "source": [
    "Mothers"
   ]
  },
  {
   "cell_type": "code",
   "execution_count": null,
   "metadata": {
    "id": "ceGWkjxfVbAV"
   },
   "outputs": [],
   "source": []
  },
  {
   "cell_type": "code",
   "execution_count": null,
   "metadata": {
    "id": "gm9gYMGHVbAW"
   },
   "outputs": [],
   "source": []
  },
  {
   "cell_type": "code",
   "execution_count": null,
   "metadata": {
    "id": "rL_cCx8nVbAW"
   },
   "outputs": [],
   "source": []
  },
  {
   "cell_type": "code",
   "execution_count": null,
   "metadata": {
    "id": "peF-6v7uVbAW"
   },
   "outputs": [],
   "source": []
  },
  {
   "cell_type": "code",
   "execution_count": null,
   "metadata": {
    "id": "U17WEwHqVbAW"
   },
   "outputs": [],
   "source": []
  },
  {
   "cell_type": "code",
   "execution_count": 45,
   "metadata": {
    "id": "sLpXKgUTUZdH",
    "outputId": "18095795-10ca-44bd-cc32-74c48d8acb52"
   },
   "outputs": [
    {
     "data": {
      "text/plain": [
       "'z'"
      ]
     },
     "execution_count": 45,
     "metadata": {},
     "output_type": "execute_result"
    }
   ],
   "source": [
    "Mothers[-1][0][2]"
   ]
  },
  {
   "cell_type": "markdown",
   "metadata": {
    "id": "vsEqk1zVVbAW"
   },
   "source": [
    "Also"
   ]
  },
  {
   "cell_type": "code",
   "execution_count": null,
   "metadata": {
    "id": "DtxxOmcgVbAW",
    "outputId": "c5e3169f-2ce3-492b-ca07-36adfb43fa59"
   },
   "outputs": [
    {
     "name": "stdout",
     "output_type": "stream",
     "text": [
      "z\n",
      "z\n"
     ]
    }
   ],
   "source": [
    "print(Mothers[4][0][2])\n",
    "print(Mothers[4][0][-11])\n"
   ]
  },
  {
   "cell_type": "markdown",
   "metadata": {
    "id": "J7b8swZjVbAW"
   },
   "source": [
    "And so on"
   ]
  },
  {
   "cell_type": "markdown",
   "metadata": {
    "id": "s-KAYBuSVbAW"
   },
   "source": [
    "Takeaways\n",
    "\n",
    "1.  Lists are sequences just like tuples.  Indexing by position works and it works just the same way.\n",
    "2.  All containers `C` have lengths and elements; that is, `len(C)` and the `x in C`  Boolean test always works.\n",
    "3.  Containers are always compound. They are data structures composed of some other smaller, usually differently typed, data.\n",
    "4.  Indexing container `C` by position retrieves an element of `C`; if that element is itself a container, you can index again.  That is, expressions of the form `C[idx1][idx2]`  will work."
   ]
  },
  {
   "cell_type": "markdown",
   "metadata": {},
   "source": [
    "###  Assignments to compound data structures"
   ]
  },
  {
   "cell_type": "markdown",
   "metadata": {},
   "source": [
    "Challenge:  Update `Mothers` from\n",
    "\n",
    "```\n",
    "[('George Clooney', 'Rosemary Clooney'),\n",
    " ('Jimmy Carter', 'Lillian Carter'),\n",
    " ('George H. W. Bush', 'Dorothy Walker Bush'),\n",
    " ('George W. Bush', 'Barbara Bush'),\n",
    " ('Liza Minnelli', 'Judy Garland')]\n",
    "```\n",
    "\n",
    "to\n",
    "\n",
    "```\n",
    "[('George Clooney', 'Rosemary Clooney'),\n",
    " ('Jimmy Carter', 'Lillian Carter'),\n",
    " ('George H. W. Bush', 'Dorothy Walker Bush'),\n",
    " ('George W. Bush', 'Barbara Bush'),\n",
    " ('Hazel Moder', 'Julia Roberts')]\n",
    "```\n"
   ]
  },
  {
   "cell_type": "code",
   "execution_count": null,
   "metadata": {},
   "outputs": [],
   "source": []
  },
  {
   "cell_type": "code",
   "execution_count": null,
   "metadata": {},
   "outputs": [],
   "source": []
  },
  {
   "cell_type": "code",
   "execution_count": null,
   "metadata": {},
   "outputs": [],
   "source": []
  },
  {
   "cell_type": "code",
   "execution_count": null,
   "metadata": {},
   "outputs": [],
   "source": []
  },
  {
   "cell_type": "code",
   "execution_count": null,
   "metadata": {},
   "outputs": [],
   "source": []
  },
  {
   "cell_type": "code",
   "execution_count": null,
   "metadata": {},
   "outputs": [],
   "source": []
  },
  {
   "cell_type": "code",
   "execution_count": 34,
   "metadata": {},
   "outputs": [
    {
     "data": {
      "text/plain": [
       "[('George Clooney', 'Rosemary Clooney'),\n",
       " ('Jimmy Carter', 'Lillian Carter'),\n",
       " ('George H. W. Bush', 'Dorothy Walker Bush'),\n",
       " ('George W. Bush', 'Barbara Bush'),\n",
       " ('Hazel Moder', 'Julia Roberts')]"
      ]
     },
     "execution_count": 34,
     "metadata": {},
     "output_type": "execute_result"
    }
   ],
   "source": [
    "Mothers[-1]  = ('Hazel Moder', 'Julia Roberts')\n",
    "Mothers"
   ]
  },
  {
   "cell_type": "markdown",
   "metadata": {},
   "source": [
    "Challenge: Update Mothers from\n",
    "\n",
    "```\n",
    "[('George Clooney', 'Rozemary Clooney'),\n",
    " ('Jimmy Carter', 'Lillian Carter'),\n",
    " ('George H. W. Bush', 'Dorothy Walker Bush'),\n",
    " ('George W. Bush', 'Barbara Bush'),\n",
    " ('Hazel Moder', 'Julia Roberts')]\n",
    "``\n",
    "to\n",
    "\n",
    "[('George Clooney', 'Rosemary Clooney'),\n",
    " ('Jimmy Carter', 'Lillian Carter'),\n",
    " ('George H. W. Bush', 'Dorothy Walker Bush'),\n",
    " ('George W. Bush', 'Barbara Bush'),\n",
    " ('Hazel Moder', 'Julia Roberts')]\n"
   ]
  },
  {
   "cell_type": "code",
   "execution_count": null,
   "metadata": {},
   "outputs": [],
   "source": []
  },
  {
   "cell_type": "code",
   "execution_count": null,
   "metadata": {},
   "outputs": [],
   "source": []
  },
  {
   "cell_type": "code",
   "execution_count": null,
   "metadata": {},
   "outputs": [],
   "source": []
  },
  {
   "cell_type": "code",
   "execution_count": null,
   "metadata": {},
   "outputs": [],
   "source": []
  },
  {
   "cell_type": "code",
   "execution_count": null,
   "metadata": {},
   "outputs": [],
   "source": []
  },
  {
   "cell_type": "code",
   "execution_count": null,
   "metadata": {},
   "outputs": [],
   "source": []
  },
  {
   "cell_type": "code",
   "execution_count": 46,
   "metadata": {},
   "outputs": [
    {
     "data": {
      "text/plain": [
       "[('George Clooney', 'Rozemary Clooney'),\n",
       " ('Jimmy Carter', 'Lillian Carter'),\n",
       " ('George H. W. Bush', 'Dorothy Walker Bush'),\n",
       " ('George W. Bush', 'Barbara Bush'),\n",
       " ('Liza Minnelli', 'Judy Garland')]"
      ]
     },
     "execution_count": 46,
     "metadata": {},
     "output_type": "execute_result"
    }
   ],
   "source": [
    "Mothers"
   ]
  },
  {
   "cell_type": "code",
   "execution_count": 51,
   "metadata": {},
   "outputs": [
    {
     "data": {
      "text/plain": [
       "'z'"
      ]
     },
     "execution_count": 51,
     "metadata": {},
     "output_type": "execute_result"
    }
   ],
   "source": [
    "Mothers[0][1][2]# = 'Rosemary Clooney'"
   ]
  },
  {
   "cell_type": "code",
   "execution_count": 52,
   "metadata": {},
   "outputs": [
    {
     "data": {
      "text/plain": [
       "'Rozemary Clooney'"
      ]
     },
     "execution_count": 52,
     "metadata": {},
     "output_type": "execute_result"
    }
   ],
   "source": [
    "Mothers[0][1]# = 'Rosemary Clooney'"
   ]
  },
  {
   "cell_type": "code",
   "execution_count": 53,
   "metadata": {},
   "outputs": [],
   "source": [
    "Mothers[0] = ('George Clooney', 'Rosemary Clooney')"
   ]
  },
  {
   "cell_type": "code",
   "execution_count": 54,
   "metadata": {},
   "outputs": [
    {
     "data": {
      "text/plain": [
       "[('George Clooney', 'Rosemary Clooney'),\n",
       " ('Jimmy Carter', 'Lillian Carter'),\n",
       " ('George H. W. Bush', 'Dorothy Walker Bush'),\n",
       " ('George W. Bush', 'Barbara Bush'),\n",
       " ('Liza Minnelli', 'Judy Garland')]"
      ]
     },
     "execution_count": 54,
     "metadata": {},
     "output_type": "execute_result"
    }
   ],
   "source": [
    "Mothers"
   ]
  },
  {
   "cell_type": "markdown",
   "metadata": {
    "id": "ZCU5yT9iUZdJ"
   },
   "source": [
    "# Strings"
   ]
  },
  {
   "cell_type": "markdown",
   "metadata": {
    "id": "KgNydjTJUZdJ"
   },
   "source": [
    "The cell below defines a string.  Execute that definition. (This is another way of saying, \"Place your cursor in the cell and type `[Shift]`-`[Enter]`)\".  Notice that when you evaluate this cell, Python doesn't seem to do anything.  Nevertheless it has changed its state to reflect the fact that the variable `Example_str` has been defined to denote a particular string."
   ]
  },
  {
   "cell_type": "code",
   "execution_count": 57,
   "metadata": {
    "id": "uBWtgRxwUZdJ"
   },
   "outputs": [],
   "source": [
    "Example_str = \"program\""
   ]
  },
  {
   "cell_type": "markdown",
   "metadata": {
    "id": "Q5Zz5eXEVbAW"
   },
   "source": [
    "Strings are sequence containers just as lists and tuples are.  Because they are containers, `len` and `in` and\n",
    "iteration work.  Because they sequences (they are ordered), indexing by position works."
   ]
  },
  {
   "cell_type": "code",
   "execution_count": 67,
   "metadata": {
    "id": "mGeyLp0WVbAW",
    "outputId": "2adedfb1-4cc7-4082-aa29-9225682b0b6c"
   },
   "outputs": [
    {
     "data": {
      "text/plain": [
       "7"
      ]
     },
     "execution_count": 67,
     "metadata": {},
     "output_type": "execute_result"
    }
   ],
   "source": [
    "len(Example_str)"
   ]
  },
  {
   "cell_type": "code",
   "execution_count": 68,
   "metadata": {
    "id": "qLTKkTPyVbAW",
    "outputId": "f07cad96-5427-44f0-8b9e-6c6afb385f20"
   },
   "outputs": [
    {
     "data": {
      "text/plain": [
       "True"
      ]
     },
     "execution_count": 68,
     "metadata": {},
     "output_type": "execute_result"
    }
   ],
   "source": [
    "'r' in Example_str"
   ]
  },
  {
   "cell_type": "markdown",
   "metadata": {
    "id": "N_F6fLwEVbAW"
   },
   "source": [
    "We now demonstrate looping through a string -- or **iteration** -- processing\n",
    "each element in the expected order."
   ]
  },
  {
   "cell_type": "code",
   "execution_count": 70,
   "metadata": {
    "id": "QldguPuIVbAW",
    "outputId": "582207d4-7db3-4130-d4fb-f377c8d2a875"
   },
   "outputs": [
    {
     "name": "stdout",
     "output_type": "stream",
     "text": [
      "p\n",
      "r\n",
      "o\n",
      "g\n",
      "r\n",
      "a\n",
      "m\n"
     ]
    }
   ],
   "source": [
    "for char in Example_str:\n",
    "    print(char)"
   ]
  },
  {
   "cell_type": "markdown",
   "metadata": {},
   "source": [
    "Only **iterables** can be looped through:"
   ]
  },
  {
   "cell_type": "code",
   "execution_count": 69,
   "metadata": {},
   "outputs": [
    {
     "ename": "TypeError",
     "evalue": "'int' object is not iterable",
     "output_type": "error",
     "traceback": [
      "\u001b[0;31m---------------------------------------------------------------------------\u001b[0m",
      "\u001b[0;31mTypeError\u001b[0m                                 Traceback (most recent call last)",
      "\u001b[0;32m/var/folders/w9/bx4mylnd27g_kqqgn5hrn2x40000gr/T/ipykernel_35425/3543620882.py\u001b[0m in \u001b[0;36m<module>\u001b[0;34m\u001b[0m\n\u001b[0;32m----> 1\u001b[0;31m \u001b[0;32mfor\u001b[0m \u001b[0mx\u001b[0m \u001b[0;32min\u001b[0m \u001b[0;36m1\u001b[0m\u001b[0;34m:\u001b[0m\u001b[0;34m\u001b[0m\u001b[0;34m\u001b[0m\u001b[0m\n\u001b[0m\u001b[1;32m      2\u001b[0m     \u001b[0mprint\u001b[0m\u001b[0;34m(\u001b[0m\u001b[0mx\u001b[0m\u001b[0;34m)\u001b[0m\u001b[0;34m\u001b[0m\u001b[0;34m\u001b[0m\u001b[0m\n",
      "\u001b[0;31mTypeError\u001b[0m: 'int' object is not iterable"
     ]
    }
   ],
   "source": [
    "for x in 1:\n",
    "    print(x)"
   ]
  },
  {
   "cell_type": "code",
   "execution_count": 58,
   "metadata": {},
   "outputs": [
    {
     "data": {
      "text/plain": [
       "'program'"
      ]
     },
     "execution_count": 58,
     "metadata": {},
     "output_type": "execute_result"
    }
   ],
   "source": [
    "Example_str"
   ]
  },
  {
   "cell_type": "markdown",
   "metadata": {
    "id": "TVxpGcCBUZdL"
   },
   "source": [
    "In the next cell, write and execute an expression that retrieves the value `\"r\"` from `Example_str`.  There are two *r*'s in the string, so there are at least two possible answers."
   ]
  },
  {
   "cell_type": "code",
   "execution_count": null,
   "metadata": {
    "id": "UQBb2PenVbAW"
   },
   "outputs": [],
   "source": []
  },
  {
   "cell_type": "code",
   "execution_count": null,
   "metadata": {
    "id": "ek8qdsFSVbAW"
   },
   "outputs": [],
   "source": []
  },
  {
   "cell_type": "code",
   "execution_count": null,
   "metadata": {
    "id": "qccy-l7tVbAW"
   },
   "outputs": [],
   "source": []
  },
  {
   "cell_type": "code",
   "execution_count": null,
   "metadata": {
    "id": "AxZY6oqBVbAW"
   },
   "outputs": [],
   "source": []
  },
  {
   "cell_type": "code",
   "execution_count": null,
   "metadata": {
    "id": "KRg63O39VbAW"
   },
   "outputs": [],
   "source": []
  },
  {
   "cell_type": "code",
   "execution_count": null,
   "metadata": {
    "id": "SLHSfLksVbAW"
   },
   "outputs": [],
   "source": []
  },
  {
   "cell_type": "code",
   "execution_count": 59,
   "metadata": {
    "id": "qV8N-4FTVbAX"
   },
   "outputs": [
    {
     "data": {
      "text/plain": [
       "'r'"
      ]
     },
     "execution_count": 59,
     "metadata": {},
     "output_type": "execute_result"
    }
   ],
   "source": [
    "Example_str[1]"
   ]
  },
  {
   "cell_type": "markdown",
   "metadata": {
    "id": "QThAtsnWUZdN"
   },
   "source": [
    "The string `program` has the nice property that at least one of its substrings is an English word.  In the cell below write a single Python expression that retrieves the word 'pro' from `Example_str`. You might need to review the textbook material on [string slices](http://www-rohan.sdsu.edu/~gawron/python_for_ss/course_core/book_draft/Python_introduction/strings.html).  Evaluate it with `[Shift]`-`[Enter]` to check your answer.  "
   ]
  },
  {
   "cell_type": "code",
   "execution_count": null,
   "metadata": {
    "id": "UaMIuTyCUZdO"
   },
   "outputs": [],
   "source": []
  },
  {
   "cell_type": "code",
   "execution_count": null,
   "metadata": {
    "id": "Nrc8XuEzVbAX"
   },
   "outputs": [],
   "source": []
  },
  {
   "cell_type": "code",
   "execution_count": null,
   "metadata": {
    "id": "iqwg5r2JVbAX"
   },
   "outputs": [],
   "source": []
  },
  {
   "cell_type": "code",
   "execution_count": null,
   "metadata": {
    "id": "wIAwGIP0VbAX"
   },
   "outputs": [],
   "source": []
  },
  {
   "cell_type": "code",
   "execution_count": null,
   "metadata": {
    "id": "28cj9_3cVbAX"
   },
   "outputs": [],
   "source": []
  },
  {
   "cell_type": "code",
   "execution_count": null,
   "metadata": {
    "id": "eMKeeo92VbAX"
   },
   "outputs": [],
   "source": []
  },
  {
   "cell_type": "code",
   "execution_count": null,
   "metadata": {
    "id": "b62exlmUVbAX"
   },
   "outputs": [],
   "source": []
  },
  {
   "cell_type": "code",
   "execution_count": null,
   "metadata": {
    "id": "zXuY4JkzVbAX"
   },
   "outputs": [],
   "source": []
  },
  {
   "cell_type": "code",
   "execution_count": null,
   "metadata": {
    "id": "VthUPeoxVbAX"
   },
   "outputs": [],
   "source": []
  },
  {
   "cell_type": "markdown",
   "metadata": {
    "id": "U3M3XQ5eVbAX"
   },
   "source": [
    "Help with splice indices.  Think of the indices as pointing\n",
    "to positions between the elements, with the first index (`0`)\n",
    "pointing to the very beginning of the string. It follows that the length of the `[start:stop]`\n",
    "is `stop - start`.\n",
    "\n",
    "So in the string `\"Python\"` the splice `1:4`\n",
    "has length 3 and covers the span `'yth'` as in the following picture:"
   ]
  },
  {
   "cell_type": "markdown",
   "metadata": {
    "id": "giYqWFCxVbAX"
   },
   "source": [
    "```\n",
    " +---+---+---+---+---+---+\n",
    " | P | y | t | h | o | n |\n",
    " +---+---+---+---+---+---+\n",
    " 0   1   2   3   4   5   6\n",
    "-6  -5  -4  -3  -2  -1   \n",
    "```"
   ]
  },
  {
   "cell_type": "code",
   "execution_count": null,
   "metadata": {
    "id": "tZapei0CVbAX",
    "outputId": "aad6d69e-b505-426c-b970-4f46263e3bdb"
   },
   "outputs": [
    {
     "name": "stdout",
     "output_type": "stream",
     "text": [
      "y\n",
      "yth\n",
      "P\n",
      "yth\n"
     ]
    }
   ],
   "source": [
    "P = 'Python'\n",
    "print(P[1])\n",
    "print(P[1:4])\n",
    "print(P[-6])\n",
    "print(P[-5:-2])"
   ]
  },
  {
   "cell_type": "markdown",
   "metadata": {
    "id": "NNms7oemUZdS"
   },
   "source": [
    "In the  cell below, add a slice\n",
    "that retrieves the English word 'ram'\n",
    "from `Example_str`."
   ]
  },
  {
   "cell_type": "code",
   "execution_count": null,
   "metadata": {
    "id": "MYLwlGVIVbAX"
   },
   "outputs": [],
   "source": [
    "Example_str = \"program\"\n"
   ]
  },
  {
   "cell_type": "code",
   "execution_count": null,
   "metadata": {
    "id": "948D6ZfvVbAX"
   },
   "outputs": [],
   "source": []
  },
  {
   "cell_type": "code",
   "execution_count": null,
   "metadata": {
    "id": "9zyLSj8FVbAX"
   },
   "outputs": [],
   "source": []
  },
  {
   "cell_type": "code",
   "execution_count": null,
   "metadata": {
    "id": "s1Ui_uvVVbAX"
   },
   "outputs": [],
   "source": []
  },
  {
   "cell_type": "code",
   "execution_count": null,
   "metadata": {
    "id": "ic1vs_eJVbAX"
   },
   "outputs": [],
   "source": []
  },
  {
   "cell_type": "code",
   "execution_count": null,
   "metadata": {
    "id": "CNEN5WnxVbAX"
   },
   "outputs": [],
   "source": []
  },
  {
   "cell_type": "code",
   "execution_count": null,
   "metadata": {
    "id": "WLQA84gBVbAX"
   },
   "outputs": [],
   "source": []
  },
  {
   "cell_type": "code",
   "execution_count": null,
   "metadata": {
    "id": "qnVlvrimVbAX"
   },
   "outputs": [],
   "source": []
  },
  {
   "cell_type": "code",
   "execution_count": null,
   "metadata": {
    "id": "kVWFMUHHVbAX"
   },
   "outputs": [],
   "source": []
  },
  {
   "cell_type": "markdown",
   "metadata": {
    "id": "b76uibrJUZdS"
   },
   "source": [
    "# Dictionaries"
   ]
  },
  {
   "cell_type": "markdown",
   "metadata": {
    "id": "s6V2thdKUZdT"
   },
   "source": [
    "We begin discussing dictionaries with an observation about our last example, `Mothers`, a list of pairs.  Suppose what we want to do is to look up the mother of one of the celebrities."
   ]
  },
  {
   "cell_type": "code",
   "execution_count": 74,
   "metadata": {
    "id": "BrqFG1OrUZdT"
   },
   "outputs": [],
   "source": [
    "Mothers = [('George Clooney', 'Rosemary Clooney'), ('Jimmy Carter', 'Lillian Carter'),\n",
    "           ('George H. W. Bush', 'Dorothy Walker Bush'), ('George W. Bush', 'Barbara Bush'),\n",
    "           ('Liza Minnelli', 'Judy Garland')]"
   ]
  },
  {
   "cell_type": "code",
   "execution_count": null,
   "metadata": {
    "id": "I8uHWjVNUZdW"
   },
   "outputs": [],
   "source": [
    "# Look up George Bush's mother\n",
    "Mothers[1]"
   ]
  },
  {
   "cell_type": "markdown",
   "metadata": {
    "id": "xBtQA70hVbAY"
   },
   "source": [
    "This is fine if you know that the information about George W. is in 4th position.  Then\n",
    "to get an expression that returns George W.'s mother, you could do:"
   ]
  },
  {
   "cell_type": "code",
   "execution_count": null,
   "metadata": {
    "id": "DYXTM185UZdY"
   },
   "outputs": [],
   "source": [
    "Mothers[3][1]"
   ]
  },
  {
   "cell_type": "markdown",
   "metadata": {
    "id": "u0pfR9UHVbAY"
   },
   "source": [
    "But what if you knew that `Mothers` contains information about celebrity mothers\n",
    "but you didn't know that the information about George W. was in 4th position?\n",
    "\n",
    "For example, suppose the information is being updated all the time and nothing\n",
    "keeps track of how many updates have occurred.  The information you want\n",
    "would still be in the string, but you would have to **search** for it.\n",
    "\n",
    "By which I mean something like this:"
   ]
  },
  {
   "cell_type": "code",
   "execution_count": 63,
   "metadata": {
    "id": "mFixyJ5GUZda",
    "outputId": "4d2d6a51-4df5-4b65-d48e-8cf35316eb57"
   },
   "outputs": [
    {
     "name": "stdout",
     "output_type": "stream",
     "text": [
      "Not the pair we want George Clooney Rosemary Clooney\n",
      "Not the pair we want Jimmy Carter Lillian Carter\n",
      "Not the pair we want George H. W. Bush Dorothy Walker Bush\n",
      "Barbara Bush\n"
     ]
    }
   ],
   "source": [
    "for (c,m) in Mothers:\n",
    "    if c == 'George W. Bush':\n",
    "        # print the MOM we're looking for\n",
    "        print(m)\n",
    "        # Stop this loop.   We're done!\n",
    "        break\n",
    "    else:\n",
    "        # print the pairs we're NOT looking for\n",
    "        print(\"Not the pair we want\",c,m)"
   ]
  },
  {
   "cell_type": "markdown",
   "metadata": {
    "id": "RdXKG8uOVbAY"
   },
   "source": [
    "Loop through the string until you find the tuple beginning with George W.\n",
    "\n",
    "At that point stop the loop.  The value of `m` will be the mother you you want."
   ]
  },
  {
   "cell_type": "code",
   "execution_count": 61,
   "metadata": {},
   "outputs": [
    {
     "data": {
      "text/plain": [
       "'Barbara Bush'"
      ]
     },
     "execution_count": 61,
     "metadata": {},
     "output_type": "execute_result"
    }
   ],
   "source": [
    "m"
   ]
  },
  {
   "cell_type": "markdown",
   "metadata": {
    "id": "9vXIAiugUZdc"
   },
   "source": [
    "This is both inefficient and a nuisance.  As the printout shows,\n",
    "we have to examine a number of irrelevant pairs before we find the\n",
    "one of interest.  What we want is something where we plug in the child and it outputs the mother.\n",
    "\n",
    "And the next cell shows us what does that:  a **Dictionary** made out of the list of pairs."
   ]
  },
  {
   "cell_type": "code",
   "execution_count": 66,
   "metadata": {
    "id": "RdvBUwpkUZdd"
   },
   "outputs": [
    {
     "name": "stdout",
     "output_type": "stream",
     "text": [
      "[('George Clooney', 'Rosemary Clooney'), ('Jimmy Carter', 'Lillian Carter'), ('George H. W. Bush', 'Dorothy Walker Bush'), ('George W. Bush', 'Barbara Bush'), ('Liza Minnelli', 'Judy Garland')]\n"
     ]
    },
    {
     "data": {
      "text/plain": [
       "{'George Clooney': 'Rosemary Clooney',\n",
       " 'Jimmy Carter': 'Lillian Carter',\n",
       " 'George H. W. Bush': 'Dorothy Walker Bush',\n",
       " 'George W. Bush': 'Barbara Bush',\n",
       " 'Liza Minnelli': 'Judy Garland'}"
      ]
     },
     "execution_count": 66,
     "metadata": {},
     "output_type": "execute_result"
    }
   ],
   "source": [
    "print(Mothers)\n",
    "ddm = dict(Mothers)\n",
    "ddm"
   ]
  },
  {
   "cell_type": "markdown",
   "metadata": {
    "id": "jWigp5qPUZde"
   },
   "source": [
    "This transforms a list of pairs with the first member of each pair as a key and the second member as its value.  So `ddm` is now a dictionary with individuals as keys, and their mothers as values."
   ]
  },
  {
   "cell_type": "code",
   "execution_count": 67,
   "metadata": {
    "id": "3Qp6lAzIUZde",
    "outputId": "9b0a3e73-0c97-4380-8c78-1cf3680f59fb"
   },
   "outputs": [
    {
     "data": {
      "text/plain": [
       "{'George Clooney': 'Rosemary Clooney',\n",
       " 'Jimmy Carter': 'Lillian Carter',\n",
       " 'George H. W. Bush': 'Dorothy Walker Bush',\n",
       " 'George W. Bush': 'Barbara Bush',\n",
       " 'Liza Minnelli': 'Judy Garland'}"
      ]
     },
     "execution_count": 67,
     "metadata": {},
     "output_type": "execute_result"
    }
   ],
   "source": [
    "ddm"
   ]
  },
  {
   "cell_type": "markdown",
   "metadata": {
    "id": "8IATMWW7UZdg"
   },
   "source": [
    "With dictionaries we move from **positional indexing** (each index is an integer specifying the position\n",
    "of an item), to **keyword indexing** (each index is an keyword defining the **key** for a **value**)."
   ]
  },
  {
   "cell_type": "code",
   "execution_count": null,
   "metadata": {
    "id": "BjAPoY3hUZdh",
    "outputId": "6c1510c1-6a4c-4a57-cc0c-1f07ebb937aa"
   },
   "outputs": [
    {
     "data": {
      "text/plain": [
       "'Barbara Bush'"
      ]
     },
     "execution_count": 78,
     "metadata": {},
     "output_type": "execute_result"
    }
   ],
   "source": [
    "ddm['George W. Bush']"
   ]
  },
  {
   "cell_type": "markdown",
   "metadata": {
    "id": "gy5CKfFrVbAZ"
   },
   "source": [
    "**Under the hood**:  the computational difference between a list of pairs and a dictionary\n",
    "is that a dictionary provides **constant time lookup**.  The length of computing time\n",
    "it takes find the value corresponding to a particular key won't change as the dictionary\n",
    "grows larger,  On the other hand,  with the list, lookup time will grow with list length.\n",
    "\n",
    "This is because information in the dictionary is **hashed** by the key: The key\n",
    "string provides easily computed information about exactly where in memory\n",
    "to look to find the associated value.  Without going into the computational details of\n",
    "how hashing works, you can think of this as working like Webster's Dictionary.  The first\n",
    "letter of \"abacus\" tells us to too look in the \"a\" section of the dictionary; the second\n",
    "letter tells us to look early in the \"a\" section, and so on."
   ]
  },
  {
   "cell_type": "markdown",
   "metadata": {
    "id": "IYh-dWEcVbAZ"
   },
   "source": [
    "Often if we want **functional information** for entities we will store it in a dictionary.\n",
    "\n",
    "A function on a set is an assignment of unique values to each of the entities in a set.\n",
    "The **mother** relation is a function on people because people have unique mothers,\n",
    "so it would be quite natural to store information aboiut people's mothers\n",
    "in a dictionary.  Other typically functional relations on people\n",
    "are father, address, social security number, congressional district, and place of birth.\n",
    "\n",
    "Non-functional relations are sibling, cousin, child, and friend.  A person\n",
    "can often have more than one sibling, cousin, child, or friend.\n",
    "\n",
    "Place of employment used to be a fairly natural example of a functional\n",
    "relation, but it is probably less of a natural example in our current *gig* economy,\n",
    "where people often work multiple jobs."
   ]
  },
  {
   "cell_type": "markdown",
   "metadata": {
    "id": "YbkwIhf9UZdi"
   },
   "source": [
    "In the next cell is another Python expression.  Before evaluating the cell, examine it carefully and try to predict what the result of evaluating it will be.  Then in the cell below that, explain the result that you got."
   ]
  },
  {
   "cell_type": "code",
   "execution_count": null,
   "metadata": {
    "id": "ZEw3XpLQUZdi"
   },
   "outputs": [],
   "source": [
    "Mothers['George W. Bush']"
   ]
  },
  {
   "cell_type": "code",
   "execution_count": 64,
   "metadata": {},
   "outputs": [
    {
     "data": {
      "text/plain": [
       "[('George Clooney', 'Rosemary Clooney'),\n",
       " ('Jimmy Carter', 'Lillian Carter'),\n",
       " ('George H. W. Bush', 'Dorothy Walker Bush'),\n",
       " ('George W. Bush', 'Barbara Bush'),\n",
       " ('Liza Minnelli', 'Judy Garland')]"
      ]
     },
     "execution_count": 64,
     "metadata": {},
     "output_type": "execute_result"
    }
   ],
   "source": [
    "Mothers"
   ]
  },
  {
   "cell_type": "markdown",
   "metadata": {
    "id": "Dp_Lsc_HUZdk"
   },
   "source": []
  },
  {
   "cell_type": "code",
   "execution_count": null,
   "metadata": {
    "id": "muYGaTLrUZdl"
   },
   "outputs": [],
   "source": [
    "ddm['George Clooney']"
   ]
  },
  {
   "cell_type": "code",
   "execution_count": 68,
   "metadata": {},
   "outputs": [
    {
     "data": {
      "text/plain": [
       "{'George Clooney': 'Rosemary Clooney',\n",
       " 'Jimmy Carter': 'Lillian Carter',\n",
       " 'George H. W. Bush': 'Dorothy Walker Bush',\n",
       " 'George W. Bush': 'Barbara Bush',\n",
       " 'Liza Minnelli': 'Judy Garland'}"
      ]
     },
     "execution_count": 68,
     "metadata": {},
     "output_type": "execute_result"
    }
   ],
   "source": [
    "ddm"
   ]
  },
  {
   "cell_type": "markdown",
   "metadata": {},
   "source": [
    "Same question about the next expresssion:"
   ]
  },
  {
   "cell_type": "code",
   "execution_count": null,
   "metadata": {},
   "outputs": [],
   "source": [
    "ddm[1]"
   ]
  },
  {
   "cell_type": "markdown",
   "metadata": {
    "id": "rXpvUFqQUZdm"
   },
   "source": [
    "So now you know how to transform a list of pairs into a dictionary, so that the first member of each pair becomes a key for the dictionary and the second member becomes its value.\n",
    "\n",
    "There are two other ways to define dictionaries which are both worth knowing.  We start with the easiest to type."
   ]
  },
  {
   "cell_type": "code",
   "execution_count": 75,
   "metadata": {
    "id": "ikdSzsJkUZdm"
   },
   "outputs": [],
   "source": [
    "dd = dict(name = 'Guido van Rossum',\n",
    "          job_title = 'Benevolent Dictator for Life',\n",
    "          native_language = \"Dutch\",\n",
    "          favorite_non_native_language = 'English',\n",
    "          favorite_computer_language = \"Perl\")"
   ]
  },
  {
   "cell_type": "markdown",
   "metadata": {
    "id": "iyn2PgVYVbAZ"
   },
   "source": [
    "This is called keyword notation.  It uses the same syntax that can be used to call functions in\n",
    "Python.  Each argument of a function has a name; to provide a value for an argument when\n",
    "calling the function, you just type `name=<value>`.  \n",
    "\n",
    "In fact in the cell above, we are just calling the `dict` function; the builtin\n",
    "Python type `dict` can be called as a function; as a function, it takes any number of arguments\n",
    "with any allowable keywords and uses them to create a dictionary."
   ]
  },
  {
   "cell_type": "markdown",
   "metadata": {},
   "source": [
    "### A digression on keyword notation"
   ]
  },
  {
   "cell_type": "code",
   "execution_count": 71,
   "metadata": {},
   "outputs": [
    {
     "data": {
      "text/plain": [
       "-1"
      ]
     },
     "execution_count": 71,
     "metadata": {},
     "output_type": "execute_result"
    }
   ],
   "source": [
    "def minus(fred, barney):\n",
    "    return fred - barney\n",
    "\n",
    "minus(2,3)"
   ]
  },
  {
   "cell_type": "code",
   "execution_count": 72,
   "metadata": {},
   "outputs": [
    {
     "data": {
      "text/plain": [
       "1"
      ]
     },
     "execution_count": 72,
     "metadata": {},
     "output_type": "execute_result"
    }
   ],
   "source": [
    "minus(barney=2, fred=3)"
   ]
  },
  {
   "cell_type": "code",
   "execution_count": 73,
   "metadata": {},
   "outputs": [
    {
     "ename": "TypeError",
     "evalue": "minus() got an unexpected keyword argument 'alice'",
     "output_type": "error",
     "traceback": [
      "\u001b[0;31m---------------------------------------------------------------------------\u001b[0m",
      "\u001b[0;31mTypeError\u001b[0m                                 Traceback (most recent call last)",
      "Cell \u001b[0;32mIn[73], line 1\u001b[0m\n\u001b[0;32m----> 1\u001b[0m minus(alice\u001b[38;5;241m=\u001b[39m\u001b[38;5;241m2\u001b[39m,betty\u001b[38;5;241m=\u001b[39m\u001b[38;5;241m3\u001b[39m)\n",
      "\u001b[0;31mTypeError\u001b[0m: minus() got an unexpected keyword argument 'alice'"
     ]
    }
   ],
   "source": [
    "minus(alice=2,betty=3)"
   ]
  },
  {
   "cell_type": "markdown",
   "metadata": {},
   "source": [
    "### Back to our dictionary"
   ]
  },
  {
   "cell_type": "code",
   "execution_count": 4,
   "metadata": {},
   "outputs": [
    {
     "data": {
      "text/plain": [
       "{'name': 'Guido van Rossum',\n",
       " 'job_title': 'Benevolent Dictator for Life',\n",
       " 'native_language': 'Dutch',\n",
       " 'favorite_non_native_language': 'English',\n",
       " 'favorite_computer_language': 'Perl'}"
      ]
     },
     "execution_count": 4,
     "metadata": {},
     "output_type": "execute_result"
    }
   ],
   "source": [
    "dd"
   ]
  },
  {
   "cell_type": "code",
   "execution_count": null,
   "metadata": {
    "id": "atq9btQvUZdo",
    "outputId": "97a363d9-df82-44b5-bd98-e288796b4b97"
   },
   "outputs": [
    {
     "data": {
      "text/plain": [
       "'Perl'"
      ]
     },
     "execution_count": 81,
     "metadata": {},
     "output_type": "execute_result"
    }
   ],
   "source": [
    "dd['favorite_computer_language']"
   ]
  },
  {
   "cell_type": "markdown",
   "metadata": {
    "id": "4G9m_kYjUZdq"
   },
   "source": [
    "In the next cell down, write a single expression to retrieve the value `\"Benevolent Dictator for Life\"` from `dd`."
   ]
  },
  {
   "cell_type": "code",
   "execution_count": null,
   "metadata": {
    "id": "R1Pm49dcVbAZ"
   },
   "outputs": [],
   "source": []
  },
  {
   "cell_type": "code",
   "execution_count": null,
   "metadata": {
    "id": "wP7iAaL5VbAZ"
   },
   "outputs": [],
   "source": []
  },
  {
   "cell_type": "code",
   "execution_count": null,
   "metadata": {
    "id": "_RWLDPP6VbAZ"
   },
   "outputs": [],
   "source": []
  },
  {
   "cell_type": "code",
   "execution_count": null,
   "metadata": {
    "id": "Yuwtch77VbAZ"
   },
   "outputs": [],
   "source": []
  },
  {
   "cell_type": "code",
   "execution_count": null,
   "metadata": {
    "id": "YtEVUB7kVbAZ"
   },
   "outputs": [],
   "source": []
  },
  {
   "cell_type": "code",
   "execution_count": null,
   "metadata": {
    "id": "X4nN1MuDVbAZ"
   },
   "outputs": [],
   "source": []
  },
  {
   "cell_type": "code",
   "execution_count": null,
   "metadata": {
    "id": "IthMqs-AVbAb"
   },
   "outputs": [],
   "source": []
  },
  {
   "cell_type": "code",
   "execution_count": null,
   "metadata": {
    "id": "Jaq7C7yQVbAb"
   },
   "outputs": [],
   "source": []
  },
  {
   "cell_type": "code",
   "execution_count": null,
   "metadata": {
    "id": "JdBVXScDVbAb",
    "outputId": "9886d454-a675-4bca-c1e0-282071a09d19"
   },
   "outputs": [
    {
     "data": {
      "text/plain": [
       "'Benevolent Dictator for Life'"
      ]
     },
     "execution_count": 82,
     "metadata": {},
     "output_type": "execute_result"
    }
   ],
   "source": [
    "dd['job_title']"
   ]
  },
  {
   "cell_type": "markdown",
   "metadata": {
    "id": "iWZTegXzVbAb"
   },
   "source": [
    "What happens when we try to look up a key that isn't in the dictionary?"
   ]
  },
  {
   "cell_type": "code",
   "execution_count": null,
   "metadata": {
    "id": "_QiMhp79VbAb",
    "outputId": "158f6764-c303-4b3e-b88c-4ef5d5fef923"
   },
   "outputs": [
    {
     "ename": "KeyError",
     "evalue": "'favorite_pizza_topping'",
     "output_type": "error",
     "traceback": [
      "\u001b[0;31m---------------------------------------------------------------------------\u001b[0m",
      "\u001b[0;31mKeyError\u001b[0m                                  Traceback (most recent call last)",
      "Cell \u001b[0;32mIn[83], line 1\u001b[0m\n\u001b[0;32m----> 1\u001b[0m \u001b[43mdd\u001b[49m\u001b[43m[\u001b[49m\u001b[38;5;124;43m'\u001b[39;49m\u001b[38;5;124;43mfavorite_pizza_topping\u001b[39;49m\u001b[38;5;124;43m'\u001b[39;49m\u001b[43m]\u001b[49m\n",
      "\u001b[0;31mKeyError\u001b[0m: 'favorite_pizza_topping'"
     ]
    }
   ],
   "source": [
    "dd['favorite_pizza_topping']"
   ]
  },
  {
   "cell_type": "markdown",
   "metadata": {
    "id": "7IAam6BfVbAb"
   },
   "source": [
    "To forestall `KeyError`s, you can discover which keys are **in** the dictionary by using\n",
    "the `in` test (Dictionaries are containers)."
   ]
  },
  {
   "cell_type": "code",
   "execution_count": null,
   "metadata": {
    "id": "KXRblDzgVbAb",
    "outputId": "18909958-8832-4bc5-91a5-42b3969c0c38"
   },
   "outputs": [
    {
     "name": "stdout",
     "output_type": "stream",
     "text": [
      "True\n",
      "False\n"
     ]
    }
   ],
   "source": [
    "print('favorite_computer_language'in dd)\n",
    "print('favorite_pizza_topping' in dd)"
   ]
  },
  {
   "cell_type": "markdown",
   "metadata": {
    "id": "XXUGEpJdUZds"
   },
   "source": [
    "In the next cell down write an expression that *adds* information to `dd`.  Specifically add the *key* `favorite_tv_show` and set its value to be `\"Monty Python's Flying Circus\"`.  Note that strings can have spaces in them and still be valid strings.\n",
    "\n",
    "You should not be satisfied that you have found the correct answer until you have done the following:\n",
    "\n",
    "1.  Evaluated your answer in a code cell to make sure it is syntactically correct (does not raise a `SyntaxError`).\n",
    "2.  Evaluated `dd` **after** the update to check by inspection that the new information you wanted\n",
    "    has been added to `dd`.\n",
    "3.  Tried to retrieve the information you added in the usual way, by asking the dictionary for the\n",
    "    value associated with the new key:\n",
    "     \n",
    "    ```\n",
    "    dd['favorite_tv_show']\n",
    "    \"Monty Python's Flying Circus\"\n",
    "    ```"
   ]
  },
  {
   "cell_type": "code",
   "execution_count": null,
   "metadata": {
    "id": "-ySiK0G-VbAb"
   },
   "outputs": [],
   "source": []
  },
  {
   "cell_type": "code",
   "execution_count": null,
   "metadata": {
    "id": "ZUHiZwvOVbAc"
   },
   "outputs": [],
   "source": []
  },
  {
   "cell_type": "code",
   "execution_count": null,
   "metadata": {
    "id": "5onoq_O5VbAc"
   },
   "outputs": [],
   "source": []
  },
  {
   "cell_type": "code",
   "execution_count": null,
   "metadata": {
    "id": "2d6lAqnzVbAc"
   },
   "outputs": [],
   "source": []
  },
  {
   "cell_type": "code",
   "execution_count": null,
   "metadata": {
    "id": "X7CfPg7UVbAc"
   },
   "outputs": [],
   "source": []
  },
  {
   "cell_type": "code",
   "execution_count": null,
   "metadata": {
    "id": "C6-bIlsaVbAc"
   },
   "outputs": [],
   "source": []
  },
  {
   "cell_type": "markdown",
   "metadata": {
    "id": "co7DVoL0UZds"
   },
   "source": [
    "Note: There are several possible answers to this question.  One is quite simple, and uses the syntax that is parallel to what we did for mutable sequences (for example, lists).\n",
    "\n",
    "For list L we did something like\n",
    "\n",
    "```\n",
    "L[1] = 'abracadabra'\n",
    "\n",
    "```\n",
    "\n",
    "which changed the  second element of `L` to be the string `'abracadabra'`.  For a dictionary `dd` we can do:\n",
    "\n",
    "```\n",
    "dd[key] = value\n",
    "```\n",
    "\n",
    "To make `dd`'s value for the key be `value`."
   ]
  },
  {
   "cell_type": "code",
   "execution_count": null,
   "metadata": {},
   "outputs": [],
   "source": [
    "dd[\"favorite_tv_show\"] = \"Monty Python's Flying Circus\""
   ]
  },
  {
   "cell_type": "markdown",
   "metadata": {
    "id": "jj0XNwHjUZdt"
   },
   "source": [
    "A second idea is to use the dictionary's `update` method, which allows a very simple syntax:\n",
    "\n",
    "```\n",
    "dd.update(key = value)\n",
    "```"
   ]
  },
  {
   "cell_type": "code",
   "execution_count": 9,
   "metadata": {
    "id": "n5BNFLIxVbAc"
   },
   "outputs": [
    {
     "data": {
      "text/plain": [
       "{'name': 'Guido van Rossum',\n",
       " 'job_title': 'Benevolent Dictator for Life',\n",
       " 'native_language': 'Dutch',\n",
       " 'favorite_non_native_language': 'English',\n",
       " 'favorite_computer_language': 'Perl',\n",
       " 'favorite_tv_show': \"Monty Python's Flying Circus\"}"
      ]
     },
     "execution_count": 9,
     "metadata": {},
     "output_type": "execute_result"
    }
   ],
   "source": [
    "\n",
    "dd.update(favorite_tv_show =  \"Monty Python's Flying Circus\")\n",
    "dd"
   ]
  },
  {
   "cell_type": "markdown",
   "metadata": {},
   "source": [
    "Under the hood, the key-value pair that is the argument\n",
    "of `update` being turned into a dictionary.  Alternatively,\n",
    "you can just directly update with a dictionary"
   ]
  },
  {
   "cell_type": "code",
   "execution_count": 81,
   "metadata": {},
   "outputs": [
    {
     "data": {
      "text/plain": [
       "{'favorite_tv_show': \"Monty Python's Flying Circus\"}"
      ]
     },
     "execution_count": 81,
     "metadata": {},
     "output_type": "execute_result"
    }
   ],
   "source": [
    "new_data = {'favorite_tv_show':  \"Monty Python's Flying Circus\"}\n",
    "new_data"
   ]
  },
  {
   "cell_type": "code",
   "execution_count": 77,
   "metadata": {},
   "outputs": [
    {
     "ename": "KeyError",
     "evalue": "'favorite_tv_show'",
     "output_type": "error",
     "traceback": [
      "\u001b[0;31m---------------------------------------------------------------------------\u001b[0m",
      "\u001b[0;31mKeyError\u001b[0m                                  Traceback (most recent call last)",
      "Cell \u001b[0;32mIn[77], line 1\u001b[0m\n\u001b[0;32m----> 1\u001b[0m dd[\u001b[38;5;124m\"\u001b[39m\u001b[38;5;124mfavorite_tv_show\u001b[39m\u001b[38;5;124m\"\u001b[39m]\n",
      "\u001b[0;31mKeyError\u001b[0m: 'favorite_tv_show'"
     ]
    }
   ],
   "source": [
    "dd[\"favorite_tv_show\"]"
   ]
  },
  {
   "cell_type": "code",
   "execution_count": 79,
   "metadata": {},
   "outputs": [],
   "source": [
    "dd.update(upd)"
   ]
  },
  {
   "cell_type": "code",
   "execution_count": 8,
   "metadata": {},
   "outputs": [
    {
     "data": {
      "text/plain": [
       "{'name': 'Guido van Rossum',\n",
       " 'job_title': 'Benevolent Dictator for Life',\n",
       " 'native_language': 'Dutch',\n",
       " 'favorite_non_native_language': 'English',\n",
       " 'favorite_computer_language': 'Perl',\n",
       " 'favorite_tv_show': \"Monty Python's Flying Circus\"}"
      ]
     },
     "execution_count": 8,
     "metadata": {},
     "output_type": "execute_result"
    }
   ],
   "source": [
    "dd"
   ]
  },
  {
   "cell_type": "code",
   "execution_count": 80,
   "metadata": {},
   "outputs": [
    {
     "data": {
      "text/plain": [
       "\"Monty Python's Flying Circus\""
      ]
     },
     "execution_count": 80,
     "metadata": {},
     "output_type": "execute_result"
    }
   ],
   "source": [
    "dd[\"favorite_tv_show\"]"
   ]
  },
  {
   "cell_type": "markdown",
   "metadata": {
    "id": "enrEWbo5UZd4"
   },
   "source": [
    "In the next cell correct an error in our data.  Guido van Rossum's favorite computer\n",
    "language is not Perl.  It is Python.  \n",
    "\n",
    "**Write an assignment that corrects the error.**"
   ]
  },
  {
   "cell_type": "code",
   "execution_count": null,
   "metadata": {
    "id": "j70kl0hkUZd5"
   },
   "outputs": [],
   "source": []
  },
  {
   "cell_type": "code",
   "execution_count": null,
   "metadata": {
    "id": "zLf4INOMVbAc"
   },
   "outputs": [],
   "source": []
  },
  {
   "cell_type": "code",
   "execution_count": null,
   "metadata": {
    "id": "_imxZl1NVbAc"
   },
   "outputs": [],
   "source": []
  },
  {
   "cell_type": "code",
   "execution_count": null,
   "metadata": {
    "id": "TMtTAaFiVbAc"
   },
   "outputs": [],
   "source": []
  },
  {
   "cell_type": "code",
   "execution_count": null,
   "metadata": {
    "id": "gPocbImQVbAc"
   },
   "outputs": [],
   "source": []
  },
  {
   "cell_type": "code",
   "execution_count": null,
   "metadata": {
    "id": "Oy86eKHjVbAc"
   },
   "outputs": [],
   "source": []
  },
  {
   "cell_type": "markdown",
   "metadata": {
    "id": "6Ter0aeOVbAc"
   },
   "source": [
    "The update"
   ]
  },
  {
   "cell_type": "code",
   "execution_count": null,
   "metadata": {
    "id": "_mMNWNB_VbAc"
   },
   "outputs": [],
   "source": [
    "dd.update(favorite_computer_language =  \"Python\")"
   ]
  },
  {
   "cell_type": "markdown",
   "metadata": {
    "id": "uCvSMb_AVbAc"
   },
   "source": [
    "Inspecting the modified doctionary:"
   ]
  },
  {
   "cell_type": "code",
   "execution_count": null,
   "metadata": {
    "id": "Vaq0-aSiVbAc",
    "outputId": "000686ff-3a6a-489d-cd26-b059a1adae20",
    "scrolled": true
   },
   "outputs": [
    {
     "data": {
      "text/plain": [
       "{'name': 'Guido van Rossum',\n",
       " 'job_title': 'Benevolent Dictator for Life',\n",
       " 'native_language': 'Dutch',\n",
       " 'favorite_non_native_language': 'English',\n",
       " 'favorite_computer_language': 'Python'}"
      ]
     },
     "execution_count": 87,
     "metadata": {},
     "output_type": "execute_result"
    }
   ],
   "source": [
    "dd"
   ]
  },
  {
   "cell_type": "markdown",
   "metadata": {
    "id": "WdtaYUC5VbAc"
   },
   "source": [
    "Checking that retrieval works as expected (the old information is gone!)"
   ]
  },
  {
   "cell_type": "code",
   "execution_count": null,
   "metadata": {
    "id": "LDFB-WfrVbAc",
    "outputId": "4933e005-f326-4385-bfc8-ebf4a7d93201"
   },
   "outputs": [
    {
     "data": {
      "text/plain": [
       "'Python'"
      ]
     },
     "execution_count": 88,
     "metadata": {},
     "output_type": "execute_result"
    }
   ],
   "source": [
    "dd['favorite_computer_language']"
   ]
  },
  {
   "cell_type": "markdown",
   "metadata": {
    "id": "Yaw2jLpbVbAc"
   },
   "source": [
    "If you've done everything according to specs, here is what `dd` should look like\n",
    "when you evaluate it in a code cell:\n",
    "\n",
    "```\n",
    "{'name': 'Guido van Rossum',\n",
    " 'job_title': 'Benevolent Dictator for Life',\n",
    " 'native_language': 'Dutch',\n",
    " 'favorite_non_native_language': 'English',\n",
    " 'favorite_computer_language': 'Python',\n",
    " 'favorite_tv_show': \"Monty Python's Flying Circus\",\n",
    " }\n",
    " ```"
   ]
  },
  {
   "cell_type": "code",
   "execution_count": null,
   "metadata": {
    "id": "Mlhshi0kVbAc",
    "outputId": "055f660a-fa20-4ee7-f069-374199c02b14"
   },
   "outputs": [
    {
     "data": {
      "text/plain": [
       "{'name': 'Guido van Rossum',\n",
       " 'job_title': 'Benevolent Dictator for Life',\n",
       " 'native_language': 'Dutch',\n",
       " 'favorite_non_native_language': 'English',\n",
       " 'favorite_computer_language': 'Perl'}"
      ]
     },
     "execution_count": 92,
     "metadata": {},
     "output_type": "execute_result"
    }
   ],
   "source": [
    "dd"
   ]
  },
  {
   "cell_type": "markdown",
   "metadata": {
    "id": "QioobQ_uVbAc"
   },
   "source": [
    "In the next cell we define a new dictionary using **curly-braces** syntax.  "
   ]
  },
  {
   "cell_type": "code",
   "execution_count": null,
   "metadata": {
    "id": "cgb1HGGuUZd8"
   },
   "outputs": [],
   "source": [
    "mystery_sentence_letter_counts = {' ': 9, 'e': 5, 'o': 5, 'l': 3, 'd': 2,\n",
    "                                  'h': 2, 'r': 2, 'u': 2, 'w': 2, 'y': 2, '.': 1,\n",
    "                                  'a': 1, 'c': 1, 'b': 1, 'g': 1, 'f': 1,\n",
    "                                  'i': 1, 'k': 1, 'j': 1, 'm': 1, 'n': 1, 'q': 1,\n",
    "                                  'p': 1, 't': 2, 'v': 1, 'x': 1, 'z': 1}"
   ]
  },
  {
   "cell_type": "markdown",
   "metadata": {
    "id": "n8LFjHr6UZd8"
   },
   "source": [
    "\n",
    "Note the differences with what we did above with `dict`:\n",
    "\n",
    "```\n",
    "dd = dict(name = 'Guido van Rossum',\n",
    "          job_title = 'Benevolent Dictator for Life',\n",
    "          native_language = \"Dutch\",\n",
    "          favorite_non_native_language = 'English',\n",
    "          favorite_computer_language = \"Perl\")\n",
    "```\n",
    "\n",
    "Above we are using the type name `dict` as a function to create a dictionary instance\n",
    "(it is a Python convention that type/class names also serve as factory,\n",
    "or creator, functions).\n",
    "\n",
    "The keyword arguments to the function are being interpreted as key/value pairs,\n",
    "so no quotes are necessary around the keywords; keys and values are separated by\n",
    "equal-signs; all business as usual for function keywords.\n",
    "\n",
    "The curly brace syntax for creating a dictionary, on the other hand,\n",
    "is completely analagous to the square bracket syntax for creating lists.\n",
    "No function is called.  It is just a syntactic convention for entering\n",
    "a dictionary: Within curly braces, enter the key-value pairs with key separated from\n",
    "value by `:` and the pairs separated from each other by `,`."
   ]
  },
  {
   "cell_type": "markdown",
   "metadata": {
    "id": "1_6u7nHQUZd-"
   },
   "source": [
    "**Using the same syntax as is used in defining `mystery_sentence_letter_counts` (curly braces and colons),\n",
    "write another definition of `dd` in the next cell.**  Your answer should define exactly the same dictionary,\n",
    "but using a different syntax.  Here's how your definition might might start:\n",
    "\n",
    "```\n",
    "dd =  { ....\n",
    "```"
   ]
  },
  {
   "cell_type": "code",
   "execution_count": null,
   "metadata": {
    "id": "D0MNfEm2VbAd"
   },
   "outputs": [],
   "source": []
  },
  {
   "cell_type": "code",
   "execution_count": null,
   "metadata": {
    "id": "aNokrLMXVbAd"
   },
   "outputs": [],
   "source": []
  },
  {
   "cell_type": "code",
   "execution_count": null,
   "metadata": {
    "id": "UdJde93OVbAd"
   },
   "outputs": [],
   "source": []
  },
  {
   "cell_type": "code",
   "execution_count": null,
   "metadata": {
    "id": "aXCM1pGFVbAd"
   },
   "outputs": [],
   "source": []
  },
  {
   "cell_type": "code",
   "execution_count": null,
   "metadata": {
    "id": "vMkVK2v9VbAd"
   },
   "outputs": [],
   "source": []
  },
  {
   "cell_type": "code",
   "execution_count": null,
   "metadata": {
    "id": "AA3znK45VbAd"
   },
   "outputs": [],
   "source": []
  },
  {
   "cell_type": "code",
   "execution_count": null,
   "metadata": {
    "id": "xqdOaARNVbAd"
   },
   "outputs": [],
   "source": []
  },
  {
   "cell_type": "code",
   "execution_count": null,
   "metadata": {
    "id": "8IRjuiqcVbAd"
   },
   "outputs": [],
   "source": []
  },
  {
   "cell_type": "code",
   "execution_count": null,
   "metadata": {
    "id": "me0Q024HVbAd"
   },
   "outputs": [],
   "source": []
  },
  {
   "cell_type": "markdown",
   "metadata": {
    "id": "u0iSRZZmVbAd"
   },
   "source": [
    "Here is the answer:"
   ]
  },
  {
   "cell_type": "code",
   "execution_count": null,
   "metadata": {
    "id": "d96W9VnLVbAd"
   },
   "outputs": [],
   "source": [
    "dd  ={ \"name\": 'Guido van Rossum',\n",
    "       \"job_title\": 'Benevolent Dictator for Life',\n",
    "        \"native_language\": \"Dutch\",\n",
    "        \"favorite_non_native_language\": 'English',\n",
    "        \"favorite_computer_language\" : \"Perl\",\n",
    "        'favorite_tv_show': \"Monty Python's Flying Circus\",\n",
    "     }"
   ]
  },
  {
   "cell_type": "markdown",
   "metadata": {
    "id": "xg-MWeSaVbAd"
   },
   "source": [
    "We noted above that quotes are required around the dictionary keys in this \"curly braces\" notation, whereas they are not in the keyword notation.  In the keyword notation you are **using** the keys as names, which are Pythonic syntactic units like expressions and statements.  The code that executes the `dict` function uses these names to make strings, and later when retrieving values for keys, you must use those strings:\n",
    "\n",
    "```\n",
    "dd[\"job_title\"]\n",
    "```\n",
    "\n",
    "not\n",
    "\n",
    "```\n",
    "dd[job_title]\n",
    "```\n",
    "\n",
    "This means the curly braces notation is more powerful than the keyword notation, since there are many\n",
    "strings that do not correspond to legal names.  For example a name cannot start with an integer, so trying\n",
    "to use `1var` as a name is an error:"
   ]
  },
  {
   "cell_type": "code",
   "execution_count": null,
   "metadata": {
    "id": "to6UabSDVbAd",
    "outputId": "4b496ef3-fe0b-45c4-bd3a-64a92fb4bb0e"
   },
   "outputs": [
    {
     "ename": "SyntaxError",
     "evalue": "invalid decimal literal (3666288981.py, line 1)",
     "output_type": "error",
     "traceback": [
      "\u001b[0;36m  Cell \u001b[0;32mIn[96], line 1\u001b[0;36m\u001b[0m\n\u001b[0;31m    1var = 33\u001b[0m\n\u001b[0m    ^\u001b[0m\n\u001b[0;31mSyntaxError\u001b[0m\u001b[0;31m:\u001b[0m invalid decimal literal\n"
     ]
    }
   ],
   "source": [
    "1var = 33"
   ]
  },
  {
   "cell_type": "markdown",
   "metadata": {
    "id": "sARAsI7dVbAd"
   },
   "source": [
    "And this is the same error:"
   ]
  },
  {
   "cell_type": "code",
   "execution_count": null,
   "metadata": {
    "id": "Li730wJGVbAd",
    "outputId": "ff8deffa-f985-4761-926b-44c803ff35d9"
   },
   "outputs": [
    {
     "ename": "SyntaxError",
     "evalue": "invalid decimal literal (170411066.py, line 1)",
     "output_type": "error",
     "traceback": [
      "\u001b[0;36m  Cell \u001b[0;32mIn[95], line 1\u001b[0;36m\u001b[0m\n\u001b[0;31m    dict(1fog = 3)\u001b[0m\n\u001b[0m         ^\u001b[0m\n\u001b[0;31mSyntaxError\u001b[0m\u001b[0;31m:\u001b[0m invalid decimal literal\n"
     ]
    }
   ],
   "source": [
    "dict(1var = 33)"
   ]
  },
  {
   "cell_type": "markdown",
   "metadata": {
    "id": "Gw6fSf8WVbAd"
   },
   "source": [
    "But `\"1var\"`` is a perfectly fine string, and any streing can be a dictionary key,  so this works:"
   ]
  },
  {
   "cell_type": "code",
   "execution_count": null,
   "metadata": {
    "id": "8dQfnsLRVbAd",
    "outputId": "d8078120-081c-4157-e926-c1503615455c"
   },
   "outputs": [
    {
     "data": {
      "text/plain": [
       "{'1var': 33}"
      ]
     },
     "execution_count": 98,
     "metadata": {},
     "output_type": "execute_result"
    }
   ],
   "source": [
    "dd22 = {\"1var\":33}\n",
    "dd22"
   ]
  },
  {
   "cell_type": "markdown",
   "metadata": {
    "id": "MVOwQsbpVbAd"
   },
   "source": [
    "Similarly you can't use keyword notation with builtin operators like `in`:"
   ]
  },
  {
   "cell_type": "code",
   "execution_count": null,
   "metadata": {
    "id": "5o5sjP5DVbAd",
    "outputId": "fc8a3ee3-d30e-4f0d-da6b-ca0ae3c3c79d"
   },
   "outputs": [
    {
     "ename": "SyntaxError",
     "evalue": "invalid syntax (344706876.py, line 1)",
     "output_type": "error",
     "traceback": [
      "\u001b[0;36m  Cell \u001b[0;32mIn[100], line 1\u001b[0;36m\u001b[0m\n\u001b[0;31m    dd23 = dict(in=33)\u001b[0m\n\u001b[0m                ^\u001b[0m\n\u001b[0;31mSyntaxError\u001b[0m\u001b[0;31m:\u001b[0m invalid syntax\n"
     ]
    }
   ],
   "source": [
    "dd23 = dict(in=33)"
   ]
  },
  {
   "cell_type": "code",
   "execution_count": 82,
   "metadata": {},
   "outputs": [],
   "source": [
    "dd23 = {\"in\":33}"
   ]
  },
  {
   "cell_type": "markdown",
   "metadata": {
    "id": "5uyMkg9gUZeA"
   },
   "source": [
    "Let's return to `mystery_letter_counts`\n",
    "\n",
    "```\n",
    "mystery_sentence_letter_counts = {' ': 9, 'e': 5, 'o': 5, 'l': 3, 'd': 2,\n",
    "                                  'h': 2, 'r': 2, 'u': 2, 'w': 2, 'y': 2, '.': 1,\n",
    "                                  'a': 1, 'c': 1, 'b': 1, 'g': 1, 'f': 1,\n",
    "                                  'i': 1, 'k': 1, 'j': 1, 'm': 1, 'n': 1, 'q': 1,\n",
    "                                  'p': 1, 't': 2, 'v': 1, 'x': 1, 'z': 1}\n",
    "```\n",
    "The  dictionary `mystery_letter_counts` stores the number of times each of 28 characters occurs in a particular sentence of English.  We will show you this sentence shortly.  In the meantime, you are welcome to guess what the mystery sentence is; it is obviously a sentence that includes all 26 letters of the alphabet."
   ]
  },
  {
   "cell_type": "markdown",
   "metadata": {
    "id": "weunyDLAUZeA"
   },
   "source": [
    "In the cell below, write an expression that retrieves the value `9` from `mystery_sentence_letter_counts`."
   ]
  },
  {
   "cell_type": "code",
   "execution_count": null,
   "metadata": {
    "id": "WUDb5IA5UZeB"
   },
   "outputs": [],
   "source": []
  },
  {
   "cell_type": "markdown",
   "metadata": {},
   "source": [
    "###  How to fill a dictionary"
   ]
  },
  {
   "cell_type": "markdown",
   "metadata": {
    "id": "BxS1sox4UZeE"
   },
   "source": [
    "How might we get a dictionary like `mystery_letter_counts` defined?   Yes, typing it in is one option. But there are ways that might arise more naturally in the context of analyzing some data.  Suppose we had a sentence and we simply wanted to count the number of times each character occurs in it (acquiring accurate English letter frequencies is sometimes important, for example if you're a cryptographer.\n",
    "\n",
    "We'd probably write a piece of code like this (using a loop, which is something\n",
    "you haven't yet been introduced to)."
   ]
  },
  {
   "cell_type": "code",
   "execution_count": 78,
   "metadata": {
    "id": "0Sqn-u5kUZeE"
   },
   "outputs": [],
   "source": [
    "\n",
    "# The mystery sentence\n",
    "Sentence = 'the quick brown fox jumped over the lazy yellow dog.'\n",
    "# Cook up an empty dictionary\n",
    "letter_freqs = dict()\n",
    "# Write a loop to count the letters in `Sentence`\n",
    "for letter in Sentence:\n",
    "    if letter in letter_freqs:\n",
    "        letter_freqs[letter] += 1\n",
    "    else:\n",
    "        letter_freqs[letter] = 1"
   ]
  },
  {
   "cell_type": "markdown",
   "metadata": {
    "id": "CqDJYwCDUZeG"
   },
   "source": [
    "This dictionary named `letter_freqs` is defined in line 3 and filled with information in a `for` loop that begin on line 4 and ends on line 5.  The variable `Sentence` is defined to be a string (line 2) and the `for` loop steps through each character of that string and adds 1 to its count in the dictionary (line 5).  Looking\n",
    "at `letter_freqs` you see that the keys and counts in the dictionary `letter_freqs` are the same as those in the dictionary `letter_counts`, defined in one of the cells above.  "
   ]
  },
  {
   "cell_type": "code",
   "execution_count": 79,
   "metadata": {
    "id": "dQY7_O1TVbAe"
   },
   "outputs": [
    {
     "data": {
      "text/plain": [
       "{'t': 2,\n",
       " 'h': 2,\n",
       " 'e': 5,\n",
       " ' ': 9,\n",
       " 'q': 1,\n",
       " 'u': 2,\n",
       " 'i': 1,\n",
       " 'c': 1,\n",
       " 'k': 1,\n",
       " 'b': 1,\n",
       " 'r': 2,\n",
       " 'o': 5,\n",
       " 'w': 2,\n",
       " 'n': 1,\n",
       " 'f': 1,\n",
       " 'x': 1,\n",
       " 'j': 1,\n",
       " 'm': 1,\n",
       " 'p': 1,\n",
       " 'd': 2,\n",
       " 'v': 1,\n",
       " 'l': 3,\n",
       " 'a': 1,\n",
       " 'z': 1,\n",
       " 'y': 2,\n",
       " 'g': 1,\n",
       " '.': 1}"
      ]
     },
     "execution_count": 79,
     "metadata": {},
     "output_type": "execute_result"
    }
   ],
   "source": [
    "letter_freqs"
   ]
  },
  {
   "cell_type": "markdown",
   "metadata": {
    "id": "gyAlPytzUZeK"
   },
   "source": [
    "Finally here's a very simple way to do what we just did in the `for` loop.  `Python` has many specialized kinds of dictionaries you can `import`, thus adding them to what you get in your builtin `Python`.   One of these is called a `Counter`.  \n",
    "\n",
    "You use a `Counter` to count the kinds of things contained in a container.  Here's how to count the number of times each character occurs in a string."
   ]
  },
  {
   "cell_type": "code",
   "execution_count": 80,
   "metadata": {
    "id": "PWYFMc-_UZeK"
   },
   "outputs": [],
   "source": [
    "import collections\n",
    "mslc = collections.Counter('i have checked out on many queer lax days with flying bats jumping through hoops.')"
   ]
  },
  {
   "cell_type": "code",
   "execution_count": 81,
   "metadata": {
    "id": "1VomiYIcVbAe"
   },
   "outputs": [
    {
     "data": {
      "text/plain": [
       "Counter({'i': 4,\n",
       "         ' ': 14,\n",
       "         'h': 6,\n",
       "         'a': 5,\n",
       "         'v': 1,\n",
       "         'e': 5,\n",
       "         'c': 2,\n",
       "         'k': 1,\n",
       "         'd': 2,\n",
       "         'o': 5,\n",
       "         'u': 4,\n",
       "         't': 4,\n",
       "         'n': 4,\n",
       "         'm': 2,\n",
       "         'y': 3,\n",
       "         'q': 1,\n",
       "         'r': 2,\n",
       "         'l': 2,\n",
       "         'x': 1,\n",
       "         's': 3,\n",
       "         'w': 1,\n",
       "         'f': 1,\n",
       "         'g': 3,\n",
       "         'b': 1,\n",
       "         'j': 1,\n",
       "         'p': 2,\n",
       "         '.': 1})"
      ]
     },
     "execution_count": 81,
     "metadata": {},
     "output_type": "execute_result"
    }
   ],
   "source": [
    "mslc"
   ]
  },
  {
   "cell_type": "markdown",
   "metadata": {
    "id": "AKRrOqRnUZeM"
   },
   "source": [
    "In the cell below write an expression that retrieves the number of times the letter `e` occurred in the mystery sentence from `mslc`."
   ]
  },
  {
   "cell_type": "code",
   "execution_count": null,
   "metadata": {
    "id": "yvA8JrFSUZeN"
   },
   "outputs": [],
   "source": []
  },
  {
   "cell_type": "markdown",
   "metadata": {
    "id": "bCPZitytUZeO"
   },
   "source": [
    "In the cell below, define the same dictionary we called `letter_freqs2` above, using the string `Sentence` and a `Counter`.  The minimal answer add justs one line of code to the cell below.\n",
    "\n",
    "Check your answer."
   ]
  },
  {
   "cell_type": "code",
   "execution_count": null,
   "metadata": {
    "id": "FXDPqz4zUZeP"
   },
   "outputs": [],
   "source": [
    "import collections\n"
   ]
  },
  {
   "cell_type": "markdown",
   "metadata": {
    "id": "_kQUjWvJUZeS"
   },
   "source": [
    "# Filling a Dictionary with information"
   ]
  },
  {
   "cell_type": "markdown",
   "metadata": {
    "id": "25no3mtXUZeS"
   },
   "source": [
    "Now let's look at a more practical example of defining a dictionary."
   ]
  },
  {
   "cell_type": "code",
   "execution_count": 83,
   "metadata": {
    "id": "z1_jHW6_UZeU"
   },
   "outputs": [
    {
     "data": {
      "text/html": [
       "<img src=\"https://gawron.sdsu.edu/python_for_ss/course_core/book_draft/_static/example_toy_graph.png\" width=\"600\"/>"
      ],
      "text/plain": [
       "<IPython.core.display.Image object>"
      ]
     },
     "execution_count": 83,
     "metadata": {},
     "output_type": "execute_result"
    }
   ],
   "source": [
    "from IPython.display import Image\n",
    "Image(url = \"https://gawron.sdsu.edu/python_for_ss/course_core/book_draft/_static/example_toy_graph.png\",\n",
    "      width= 600)"
   ]
  },
  {
   "cell_type": "markdown",
   "metadata": {
    "id": "4KPzHb4tUZeV"
   },
   "source": [
    "Using the example of the Enron email graph discussed in the online text as your model, represent the above graph as a dictionary. (By the way, the graph represents victories ina sports tournament.  A link from team A to team B means A defeated B are in the playoffs).  There are 8 teams in the graph.  Your dictionary should have exactly 8 keys. If `dd` is your dictionary, the `dd['Houston']` should return the teams Houston defeated in the tournament.\n",
    "\n",
    "There's more than one correct answer.  You may use containers not yet discussed in the notebook."
   ]
  },
  {
   "cell_type": "code",
   "execution_count": null,
   "metadata": {
    "id": "hI6CmqdWVbAe"
   },
   "outputs": [],
   "source": []
  },
  {
   "cell_type": "code",
   "execution_count": null,
   "metadata": {
    "id": "IWUo6IijVbAe"
   },
   "outputs": [],
   "source": []
  },
  {
   "cell_type": "code",
   "execution_count": null,
   "metadata": {
    "id": "zON0rDJtVbAe"
   },
   "outputs": [],
   "source": []
  },
  {
   "cell_type": "code",
   "execution_count": null,
   "metadata": {
    "id": "AVZwERl7VbAe"
   },
   "outputs": [],
   "source": []
  },
  {
   "cell_type": "code",
   "execution_count": null,
   "metadata": {},
   "outputs": [],
   "source": []
  },
  {
   "cell_type": "code",
   "execution_count": null,
   "metadata": {},
   "outputs": [],
   "source": []
  },
  {
   "cell_type": "code",
   "execution_count": null,
   "metadata": {},
   "outputs": [],
   "source": []
  },
  {
   "cell_type": "code",
   "execution_count": 85,
   "metadata": {
    "id": "GoOQ4SS6UZeV"
   },
   "outputs": [],
   "source": [
    "dd = {'Golden State': {'Houston','New Orleans', 'Memphis'},\n",
    "      'Houston': {'Dallas','Los Angeles'},\n",
    "      'Los Angeles': {\"San Antonio\"},\n",
    "       'Memphis': {\"Portland\"},\n",
    "      'Dallas': {},\n",
    "      'San Antonio': {},\n",
    "       'Portland':{},\n",
    "      'New Orleans': {},\n",
    "      }"
   ]
  },
  {
   "cell_type": "markdown",
   "metadata": {
    "id": "b2ychw6ZVbAe"
   },
   "source": [
    "## Sets"
   ]
  },
  {
   "cell_type": "code",
   "execution_count": null,
   "metadata": {
    "id": "jOG32DQYVbAe"
   },
   "outputs": [],
   "source": [
    "S = {'a','b','c', ('d','e')}\n",
    "T = {'d','a','f'}"
   ]
  },
  {
   "cell_type": "code",
   "execution_count": null,
   "metadata": {
    "id": "LxS4rjPiVbAe"
   },
   "outputs": [],
   "source": [
    "T"
   ]
  },
  {
   "cell_type": "code",
   "execution_count": null,
   "metadata": {
    "id": "CWS3Lu8iVbAe"
   },
   "outputs": [],
   "source": [
    "len(S)"
   ]
  },
  {
   "cell_type": "code",
   "execution_count": null,
   "metadata": {
    "id": "R_diwxtXVbAf"
   },
   "outputs": [],
   "source": [
    "len(Mothers)"
   ]
  },
  {
   "cell_type": "code",
   "execution_count": null,
   "metadata": {
    "id": "vQGB0QoVVbAf"
   },
   "outputs": [],
   "source": [
    "len(dd)"
   ]
  },
  {
   "cell_type": "code",
   "execution_count": null,
   "metadata": {
    "id": "3ZQqocpMVbAf"
   },
   "outputs": [],
   "source": [
    "Mothers"
   ]
  },
  {
   "cell_type": "code",
   "execution_count": null,
   "metadata": {
    "id": "lHTfwKxSVbAf"
   },
   "outputs": [],
   "source": [
    "('George Clooney', 'Rosemary Clooney') in Mothers"
   ]
  },
  {
   "cell_type": "code",
   "execution_count": null,
   "metadata": {
    "id": "3W8oQX09VbAf"
   },
   "outputs": [],
   "source": [
    "'George Clooney' in Mothers"
   ]
  },
  {
   "cell_type": "code",
   "execution_count": null,
   "metadata": {
    "id": "WMpD4vblVbAf"
   },
   "outputs": [],
   "source": [
    "'a' in S"
   ]
  },
  {
   "cell_type": "code",
   "execution_count": null,
   "metadata": {
    "id": "y2IJTmXHVbAf"
   },
   "outputs": [],
   "source": [
    "'d' in T"
   ]
  },
  {
   "cell_type": "code",
   "execution_count": null,
   "metadata": {
    "id": "w5khUHc-VbAf"
   },
   "outputs": [],
   "source": [
    "('d','e') in T"
   ]
  },
  {
   "cell_type": "markdown",
   "metadata": {
    "id": "djd6F68YVbAf"
   },
   "source": [
    "In dictionaries it's the **keys** that count as the elements **in** the dictionary.\n",
    "\n",
    "They uniquely define an item of information in the dictionary, a key-value association."
   ]
  },
  {
   "cell_type": "code",
   "execution_count": null,
   "metadata": {
    "id": "ByyoSJhFVbAf"
   },
   "outputs": [],
   "source": [
    "print(dd)\n",
    "'name' in dd"
   ]
  },
  {
   "cell_type": "code",
   "execution_count": 83,
   "metadata": {
    "id": "SUvn0jBfVbAf"
   },
   "outputs": [],
   "source": [
    "S = {'a','b','c'}\n",
    "T = {'b','a','c'}\n",
    "U = {'a','b','c','b','b'}\n",
    "STup = ('a','b','c')\n",
    "TTup =  ('b','a','c')\n",
    "UTup = ('a','b','c','b','b')"
   ]
  },
  {
   "cell_type": "code",
   "execution_count": 84,
   "metadata": {
    "id": "a5qjQ5OhVbAf"
   },
   "outputs": [
    {
     "data": {
      "text/plain": [
       "True"
      ]
     },
     "execution_count": 84,
     "metadata": {},
     "output_type": "execute_result"
    }
   ],
   "source": [
    "S == T"
   ]
  },
  {
   "cell_type": "code",
   "execution_count": 85,
   "metadata": {
    "id": "j2d3aUcsVbAf"
   },
   "outputs": [
    {
     "data": {
      "text/plain": [
       "True"
      ]
     },
     "execution_count": 85,
     "metadata": {},
     "output_type": "execute_result"
    }
   ],
   "source": [
    "S == U"
   ]
  },
  {
   "cell_type": "code",
   "execution_count": null,
   "metadata": {
    "id": "BlAPRfcUVbAf"
   },
   "outputs": [],
   "source": [
    "S"
   ]
  },
  {
   "cell_type": "code",
   "execution_count": null,
   "metadata": {
    "id": "sJwdlg-5VbAf"
   },
   "outputs": [],
   "source": [
    "U"
   ]
  },
  {
   "cell_type": "code",
   "execution_count": 86,
   "metadata": {
    "id": "oDHXSjRYVbAf"
   },
   "outputs": [
    {
     "data": {
      "text/plain": [
       "False"
      ]
     },
     "execution_count": 86,
     "metadata": {},
     "output_type": "execute_result"
    }
   ],
   "source": [
    "STup == TTup"
   ]
  },
  {
   "cell_type": "code",
   "execution_count": 87,
   "metadata": {
    "id": "OrI5rf3UVbAf"
   },
   "outputs": [
    {
     "data": {
      "text/plain": [
       "False"
      ]
     },
     "execution_count": 87,
     "metadata": {},
     "output_type": "execute_result"
    }
   ],
   "source": [
    "STup == UTup"
   ]
  },
  {
   "cell_type": "code",
   "execution_count": 88,
   "metadata": {},
   "outputs": [
    {
     "data": {
      "text/plain": [
       "5"
      ]
     },
     "execution_count": 88,
     "metadata": {},
     "output_type": "execute_result"
    }
   ],
   "source": [
    "len(UTup)"
   ]
  },
  {
   "cell_type": "markdown",
   "metadata": {
    "id": "rXxREK7tVbAf"
   },
   "source": [
    "#### Retrieve the element 'a' from `S`?"
   ]
  },
  {
   "cell_type": "code",
   "execution_count": null,
   "metadata": {
    "id": "7MZxFLQTVbAf"
   },
   "outputs": [],
   "source": [
    "print(S)\n",
    "print('a' in S)"
   ]
  },
  {
   "cell_type": "markdown",
   "metadata": {
    "id": "xfnyrcmOVbAf"
   },
   "source": [
    "There isn't any way to **retrieve** `'a'` from `S` because there isn't any additional piece of\n",
    "information it's hooked onto (a position, or a key).  \n",
    "\n",
    "It's just in `S` (or it's not)."
   ]
  },
  {
   "cell_type": "markdown",
   "metadata": {
    "id": "WytEI1J5VbAf"
   },
   "source": [
    "What we can do is **remove** the element `'a'` from S."
   ]
  },
  {
   "cell_type": "code",
   "execution_count": 93,
   "metadata": {},
   "outputs": [
    {
     "data": {
      "text/plain": [
       "['add',\n",
       " 'clear',\n",
       " 'copy',\n",
       " 'difference',\n",
       " 'difference_update',\n",
       " 'discard',\n",
       " 'intersection',\n",
       " 'intersection_update',\n",
       " 'isdisjoint',\n",
       " 'issubset',\n",
       " 'issuperset',\n",
       " 'pop',\n",
       " 'remove',\n",
       " 'symmetric_difference',\n",
       " 'symmetric_difference_update',\n",
       " 'union',\n",
       " 'update']"
      ]
     },
     "execution_count": 93,
     "metadata": {},
     "output_type": "execute_result"
    }
   ],
   "source": [
    "dir(S)[-17:]"
   ]
  },
  {
   "cell_type": "code",
   "execution_count": 88,
   "metadata": {},
   "outputs": [
    {
     "data": {
      "text/plain": [
       "({'A', 'B', 'C'}, {'b', 'c', 'd'})"
      ]
     },
     "execution_count": 88,
     "metadata": {},
     "output_type": "execute_result"
    }
   ],
   "source": [
    "S = set(\"ABC\")\n",
    "U = set('bcd')\n",
    "S, U"
   ]
  },
  {
   "cell_type": "code",
   "execution_count": 90,
   "metadata": {},
   "outputs": [],
   "source": [
    "S.update(U)"
   ]
  },
  {
   "cell_type": "code",
   "execution_count": 91,
   "metadata": {},
   "outputs": [
    {
     "data": {
      "text/plain": [
       "{'A', 'B', 'C', 'b', 'c', 'd'}"
      ]
     },
     "execution_count": 91,
     "metadata": {},
     "output_type": "execute_result"
    }
   ],
   "source": [
    "S"
   ]
  },
  {
   "cell_type": "code",
   "execution_count": null,
   "metadata": {
    "id": "HuGByj3jVbAf"
   },
   "outputs": [],
   "source": [
    "print(S)\n",
    "S.remove('a')\n",
    "print(S)"
   ]
  },
  {
   "cell_type": "markdown",
   "metadata": {
    "id": "1Boa6xMxVbAg"
   },
   "source": [
    "It's a `KeyError` to try to remove  something that isn't a member."
   ]
  },
  {
   "cell_type": "code",
   "execution_count": null,
   "metadata": {
    "id": "f6fcCg3lVbAg"
   },
   "outputs": [],
   "source": [
    "S.remove('w')"
   ]
  },
  {
   "cell_type": "markdown",
   "metadata": {},
   "source": [
    "#### Sets as iterators\n",
    "\n",
    "Sets are containers so they're iterators.\n",
    "\n",
    "\n",
    "Here's what that means:"
   ]
  },
  {
   "cell_type": "code",
   "execution_count": 92,
   "metadata": {},
   "outputs": [
    {
     "name": "stdout",
     "output_type": "stream",
     "text": [
      "d\n",
      "A\n",
      "b\n",
      "c\n",
      "B\n",
      "C\n"
     ]
    }
   ],
   "source": [
    "for x in S:\n",
    "    print(x)"
   ]
  },
  {
   "cell_type": "code",
   "execution_count": 93,
   "metadata": {},
   "outputs": [],
   "source": [
    "W = {4, -1, 8}\n",
    "x,y,z = W"
   ]
  },
  {
   "cell_type": "code",
   "execution_count": 94,
   "metadata": {},
   "outputs": [
    {
     "data": {
      "text/plain": [
       "(8, 4, -1)"
      ]
     },
     "execution_count": 94,
     "metadata": {},
     "output_type": "execute_result"
    }
   ],
   "source": [
    "x,y,z"
   ]
  },
  {
   "cell_type": "markdown",
   "metadata": {
    "id": "mzT39tBZVbAg"
   },
   "source": [
    "Sets\n",
    "\n",
    "1.  Sets are **not** sequences.  Order doesn't matter.\n",
    "2.  Sets are not indexable.  They support neither positional indexing (like sequences) nor keyword indexing (like dictionaries).  The question they answer about any object `x` is whether `x` is in **in** or **out**; that is, they serve to identify collections of objects that have some property.\n",
    "2.  There are no duplicates.\n",
    "3.  Sets may contain other containers (hierarchical structure), although there are limitations we'll\n",
    "    discuss elsewhere.\n",
    "4.  Sets are like dictionaries in several ways. Neither is a sequence.   They both raise `KeyErrors`\n",
    "    when you try to perform a retrieval or update operation on a non-member."
   ]
  },
  {
   "cell_type": "markdown",
   "metadata": {
    "id": "9vfewMmpVbAg"
   },
   "source": []
  },
  {
   "cell_type": "markdown",
   "metadata": {
    "id": "Mv_7NvXqUZeW"
   },
   "source": [
    "# Data structure key: the elements of a sequence"
   ]
  },
  {
   "cell_type": "markdown",
   "metadata": {
    "id": "9IR9sYvXUZeX"
   },
   "source": [
    "There are several things we want to be able to do with a sequence.  \n",
    "   1.  We want to be able store and retrieve elements in a particular position.\n",
    "   2.  We want to be able to efficiently iterate through all the elements of the sequence in order and \n",
    "       perhaps do some thing with them.\n",
    "       \n",
    "The `for`  loop we used in the previous section lets us efficiently step through all the elements of a sequence\n",
    "and do some uniform thing to all of them.  For example, the next `for` loop just prints all the elements of Sentence2.\n",
    "Evaluate it and make sure you understand why it works the way it does."
   ]
  },
  {
   "cell_type": "code",
   "execution_count": null,
   "metadata": {
    "id": "k3mJKBu8UZeX",
    "scrolled": true
   },
   "outputs": [],
   "source": [
    "Sentence2 = 'The quick brown fox jumped over the lazy yellow dog.'\n",
    "for letter in Sentence2:\n",
    "    print (letter)"
   ]
  },
  {
   "cell_type": "markdown",
   "metadata": {
    "id": "aqvwHQk3UZeY"
   },
   "source": [
    "Now suppose we wanted to print all the **words** in `Sentence2`, each on a line all its own."
   ]
  },
  {
   "cell_type": "markdown",
   "metadata": {
    "id": "igSOeq_LUZeY"
   },
   "source": [
    "\n",
    "\n",
    "Well we can't do that with a simple  `for` loop with a string like `Sentence2`.  This is because the words in `Sentence2` are all different lengths and therefore they turn out to be different-sized splices. The next cell prints out the first\n",
    "three words using splices. Evaluate it and make sure you understand why the splices work the way they do."
   ]
  },
  {
   "cell_type": "code",
   "execution_count": null,
   "metadata": {
    "id": "Q3L7jS4pUZeZ"
   },
   "outputs": [],
   "source": [
    "# First we need a splice 3 characters long starting at the beginning of the string.\n",
    "Sentence2 = 'The quick brown fox jumped over the lazy yellow dog.'\n",
    "print(Sentence2[0:3]) # Now skip the space\n",
    "print(Sentence2[4:9]) # Now skip the space\n",
    "print(Sentence2[10:16])"
   ]
  },
  {
   "cell_type": "markdown",
   "metadata": {
    "id": "JqmD8DNiUZea"
   },
   "source": [
    "## An easier way"
   ]
  },
  {
   "cell_type": "markdown",
   "metadata": {
    "id": "u0sa-ZMmUZea"
   },
   "source": [
    "Fortunately there's a much easier way to print out the words.  We turn the string into a list, each of whose elements is a word in the string.  Then we use a simple `for` loop."
   ]
  },
  {
   "cell_type": "code",
   "execution_count": null,
   "metadata": {
    "id": "7v_a24ypUZeb"
   },
   "outputs": [],
   "source": [
    "Sentence2 = 'The quick brown fox jumped over the lazy yellow dog.'\n",
    "word_list = Sentence2.split()\n",
    "for word in word_list:\n",
    "    print(word)"
   ]
  },
  {
   "cell_type": "markdown",
   "metadata": {
    "id": "rVWWAAtWUZed"
   },
   "source": [
    "The next cell shows what `split` does.  It creates a list of strings by breaking the original string up at the spaces."
   ]
  },
  {
   "cell_type": "code",
   "execution_count": null,
   "metadata": {
    "id": "4stZ1WuAUZed"
   },
   "outputs": [],
   "source": [
    "Sentence2 = 'The quick brown fox jumped over the lazy yellow dog.'\n",
    "Sentence2.split()"
   ]
  },
  {
   "cell_type": "markdown",
   "metadata": {
    "id": "O5ImnfDsUZef"
   },
   "source": [
    " Notice the spaces themselves are not included. When we split \"on\" some element of a string, that element is regarded as a *separator character* and the things of interest are the things between separators.  `split` is actually a much more general function that can split a string on any character and return the substrings separated by that element.  So for example if we split `Sentence2` on `u`, we get three pieces back, because there are two `u`'s."
   ]
  },
  {
   "cell_type": "code",
   "execution_count": null,
   "metadata": {
    "id": "FuVAOYR8UZef"
   },
   "outputs": [],
   "source": [
    "Sentence2 = 'The quick brown fox jumped over the lazy yellow dog.'\n",
    "Sentence2.split('u')"
   ]
  },
  {
   "cell_type": "markdown",
   "metadata": {
    "id": "MIPkKUjSUZeg"
   },
   "source": [
    "Notice that this time the elements of the list returned by `split` did include spaces."
   ]
  },
  {
   "cell_type": "markdown",
   "metadata": {
    "id": "NSEczbc7UZeg"
   },
   "source": [
    "\n",
    "Try to guess what we'll get in the next example before looking at the result in the output cell. We will try to split `Sentence2` on `y`.  How many pieces will there be and what will the second piece be?"
   ]
  },
  {
   "cell_type": "code",
   "execution_count": null,
   "metadata": {
    "id": "HTUOTKQzUZeh"
   },
   "outputs": [],
   "source": [
    "Sentence2 = 'The quick brown fox jumped over the lazy yellow dog.'\n",
    "Sentence2.split('y')"
   ]
  },
  {
   "cell_type": "markdown",
   "metadata": {
    "id": "EiCeKje7UZei"
   },
   "source": [
    "More usefully, data is often stored in files with some special character used as a 'separator'.  For example, if you save an Excel file in `.csv` format, the comma character (\",\") is used as a separator, and a table of people, their ages, and their phone numbers might look like this:\n",
    "\n",
    "```\n",
    " fred,22,7891234\n",
    " alice,28,9070077\n",
    " joe,20,8742399\n",
    "```\n",
    "\n",
    "The next cell shows what you get you get when you split one of these lines on comma:"
   ]
  },
  {
   "cell_type": "code",
   "execution_count": null,
   "metadata": {
    "id": "M4Y5YSdhUZei"
   },
   "outputs": [],
   "source": [
    "'joe,20,8742399'.split(\",\")"
   ]
  },
  {
   "cell_type": "markdown",
   "metadata": {
    "id": "pde3mYrtUZej"
   },
   "source": [
    "Notice the numbers are not Python numbers; they are strings of digits, because splitting a string always returns a list of strings.\n",
    "\n",
    "The `default` character that `split` splits on is actually a set of characters, anything that counts as whitespaces.  That includes space (' '), tab ('\\t'), a line return, because turning a string into a list of words is often fairly useful.  This is what we did with `Sentence2` above.\n",
    "\n",
    "Try to guess what the result of the following split will be:"
   ]
  },
  {
   "cell_type": "code",
   "execution_count": null,
   "metadata": {
    "id": "TemYyFFBUZej"
   },
   "outputs": [],
   "source": [
    "S = \"\"\"Rose are red;\n",
    "       violets are blue.\n",
    "       Sugar is sweet.\n",
    "       And so are you.\n",
    "       \"\"\"\n",
    "S.split()"
   ]
  },
  {
   "cell_type": "markdown",
   "metadata": {
    "id": "E97Z6UzsUZek"
   },
   "source": [
    "So `split` treats line breaks just as another kind of white space."
   ]
  },
  {
   "cell_type": "markdown",
   "metadata": {
    "id": "yspm8N7bVbAh"
   },
   "source": [
    "####  Methods for strings"
   ]
  },
  {
   "cell_type": "markdown",
   "metadata": {
    "id": "JDmDNiG7UZel"
   },
   "source": [
    "The moral of this section is that different kinds of sequences can have different kinds of elements.  Strings are probably best thought of as having characters (strings of length 1) as their elements, and that's the only convenient way\n",
    "to loop through them, one character at a time.  Lists are more flexible.  An element of the list can itself be a sequence, and so we can arrange for a list to have chunks of any size as its elements. We just pick whatever chunks are useful, and in strings of text, the word chunks are useful, and the default version of splitting gives us (approximately) a list of word chunks."
   ]
  },
  {
   "cell_type": "markdown",
   "metadata": {
    "id": "xNNREsNtUZel"
   },
   "source": [
    "## Counting words"
   ]
  },
  {
   "cell_type": "markdown",
   "metadata": {
    "id": "erKv1lOzUZel"
   },
   "source": [
    "Let's review how we did counting above."
   ]
  },
  {
   "cell_type": "code",
   "execution_count": null,
   "metadata": {
    "id": "3FYjd-FvVbAh"
   },
   "outputs": [],
   "source": [
    "from collections import Counter\n",
    "Sentence = 'the quick brown fox jumped over the lazy yellow dog.'\n",
    "word_freqs = Counter(Sentence)\n",
    "word_freqs"
   ]
  },
  {
   "cell_type": "markdown",
   "metadata": {
    "id": "eXb94QZ9UZem"
   },
   "source": [
    "Bearing in mind that we can initialize a `Counter` with any kind of sequence, **revise the code above so that what is counted is words, not characters.**"
   ]
  },
  {
   "cell_type": "code",
   "execution_count": null,
   "metadata": {
    "id": "apiesyjJUZen"
   },
   "outputs": [],
   "source": [
    "[your answer here]"
   ]
  },
  {
   "cell_type": "code",
   "execution_count": null,
   "metadata": {
    "id": "Xwyb29DWVbAh"
   },
   "outputs": [],
   "source": []
  },
  {
   "cell_type": "code",
   "execution_count": null,
   "metadata": {
    "id": "bxi5R1BCVbAh"
   },
   "outputs": [],
   "source": []
  },
  {
   "cell_type": "code",
   "execution_count": null,
   "metadata": {
    "id": "CU499rEZVbAh"
   },
   "outputs": [],
   "source": []
  },
  {
   "cell_type": "code",
   "execution_count": null,
   "metadata": {
    "id": "H4LsGqdwVbAh"
   },
   "outputs": [],
   "source": []
  },
  {
   "cell_type": "code",
   "execution_count": null,
   "metadata": {
    "id": "3fJBaEAaVbAh"
   },
   "outputs": [],
   "source": []
  },
  {
   "cell_type": "code",
   "execution_count": null,
   "metadata": {
    "id": "wk_DmyChVbAh"
   },
   "outputs": [],
   "source": []
  },
  {
   "cell_type": "code",
   "execution_count": null,
   "metadata": {
    "id": "RsWzJ34EVbAh"
   },
   "outputs": [],
   "source": []
  },
  {
   "cell_type": "code",
   "execution_count": null,
   "metadata": {
    "id": "kWgtyo6tVbAh"
   },
   "outputs": [],
   "source": []
  },
  {
   "cell_type": "code",
   "execution_count": null,
   "metadata": {
    "id": "TpHabGfyVbAh"
   },
   "outputs": [],
   "source": []
  },
  {
   "cell_type": "code",
   "execution_count": null,
   "metadata": {
    "id": "TmkzslhdVbAh"
   },
   "outputs": [],
   "source": []
  },
  {
   "cell_type": "code",
   "execution_count": null,
   "metadata": {
    "id": "kxg4kdvcVbAh"
   },
   "outputs": [],
   "source": []
  },
  {
   "cell_type": "markdown",
   "metadata": {
    "id": "MBY-MHvWUZe1"
   },
   "source": [
    "# Notebook Takeaways"
   ]
  },
  {
   "cell_type": "markdown",
   "metadata": {
    "id": "FZori1-aUZe1"
   },
   "source": [
    "1. Different types => different constructions for retrieving information\n",
    "2. All types => defined for `in` and `len`\n",
    "3. In any container, what the elements are matters for retrieving information, for counting, for looping through the elements\n",
    "4. All containers except strings are **compound**. Containers may have containers of other types as elements.\n",
    "5. Python syntax allows for hierarchical structure (`X[y][z]`)"
   ]
  },
  {
   "cell_type": "markdown",
   "metadata": {
    "id": "fxb6nvEEVbAh"
   },
   "source": [
    "The cells below are not discussed in the video lecture, but useful."
   ]
  },
  {
   "cell_type": "markdown",
   "metadata": {
    "id": "VLsLVerVUZeo"
   },
   "source": [
    "# Embedded Structure"
   ]
  },
  {
   "cell_type": "code",
   "execution_count": 95,
   "metadata": {
    "id": "9YtlY96OUZeo"
   },
   "outputs": [],
   "source": [
    "Higgledypiggledy = [1, ['a','b','c'], {1.4: 'Sam'}]"
   ]
  },
  {
   "cell_type": "markdown",
   "metadata": {
    "id": "8Bz4EIAwUZeq"
   },
   "source": [
    "We saw this example above.  Here we emphasize the fact that some container types can contain containers, either of the same type  or of different types. `Higgledypiggledy` is a list that contains a list and a tuple."
   ]
  },
  {
   "cell_type": "markdown",
   "metadata": {
    "id": "s1SVwVsEVbAi"
   },
   "source": [
    "####  Exercse\n",
    "\n",
    "\n",
    "Write a single Python expression that returns the value `'S'` from `Higgledypiggledy`, being\n",
    "sure to respect the container structure.  Also remember, case matters."
   ]
  },
  {
   "cell_type": "code",
   "execution_count": null,
   "metadata": {
    "id": "2PWnxaJZVbAi"
   },
   "outputs": [],
   "source": []
  },
  {
   "cell_type": "code",
   "execution_count": null,
   "metadata": {
    "id": "qO60drk5VbAi"
   },
   "outputs": [],
   "source": []
  },
  {
   "cell_type": "code",
   "execution_count": null,
   "metadata": {
    "id": "L5z8TQQ7VbAi"
   },
   "outputs": [],
   "source": []
  },
  {
   "cell_type": "code",
   "execution_count": null,
   "metadata": {
    "id": "QxRdRStcVbAi"
   },
   "outputs": [],
   "source": []
  },
  {
   "cell_type": "code",
   "execution_count": null,
   "metadata": {
    "id": "oEMZ2R15VbAi"
   },
   "outputs": [],
   "source": []
  },
  {
   "cell_type": "code",
   "execution_count": null,
   "metadata": {
    "id": "bsjbZLqqVbAi"
   },
   "outputs": [],
   "source": []
  },
  {
   "cell_type": "code",
   "execution_count": null,
   "metadata": {
    "id": "ebqM9uxHVbAi"
   },
   "outputs": [],
   "source": []
  },
  {
   "cell_type": "code",
   "execution_count": null,
   "metadata": {
    "id": "hCTYjAYMVbAi"
   },
   "outputs": [],
   "source": []
  },
  {
   "cell_type": "markdown",
   "metadata": {},
   "source": [
    "Incorrect."
   ]
  },
  {
   "cell_type": "code",
   "execution_count": 96,
   "metadata": {
    "id": "fFGwAS_MVbAi",
    "outputId": "a5fb3d9b-c5bf-48c9-ffd7-eb6b2a76e15e",
    "scrolled": true
   },
   "outputs": [
    {
     "ename": "KeyError",
     "evalue": "1",
     "output_type": "error",
     "traceback": [
      "\u001b[0;31m---------------------------------------------------------------------------\u001b[0m",
      "\u001b[0;31mKeyError\u001b[0m                                  Traceback (most recent call last)",
      "Cell \u001b[0;32mIn[96], line 1\u001b[0m\n\u001b[0;32m----> 1\u001b[0m Higgledypiggledy[\u001b[38;5;241m2\u001b[39m][\u001b[38;5;241m1\u001b[39m][\u001b[38;5;241m1\u001b[39m]\n",
      "\u001b[0;31mKeyError\u001b[0m: 1"
     ]
    }
   ],
   "source": [
    "Higgledypiggledy[2][1][1]"
   ]
  },
  {
   "cell_type": "code",
   "execution_count": 101,
   "metadata": {},
   "outputs": [
    {
     "data": {
      "text/plain": [
       "'S'"
      ]
     },
     "execution_count": 101,
     "metadata": {},
     "output_type": "execute_result"
    }
   ],
   "source": [
    "Higgledypiggledy[2][1.4][0]"
   ]
  },
  {
   "cell_type": "code",
   "execution_count": null,
   "metadata": {
    "id": "24vHUsLgUZex"
   },
   "outputs": [],
   "source": [
    "dd = dict(name = 'Mark Gawron',\n",
    "          languages = ['Python','Prolog', 'Lisp', 'Java'],\n",
    "          favorite_tv_shows = [\"The Tunnel\",\"Monty Python's Flying Circus\", \"Justified\"],\n",
    "          favorite_deserts = ['Apple pie','Chocolate pudding','flan'])"
   ]
  },
  {
   "cell_type": "markdown",
   "metadata": {
    "id": "l59ViUHqVbAi"
   },
   "source": [
    "The intended result of the following code is\n",
    "\n",
    "```\n",
    "'Apple'\n",
    "```\n",
    "\n",
    "Instead of returning this result, it raises an `Exception`.  Diagnose the problem and edit the code\n",
    "to produce the intended result."
   ]
  },
  {
   "cell_type": "code",
   "execution_count": null,
   "metadata": {
    "id": "Czlx6LikVbAi",
    "outputId": "3e314639-9b74-4ffd-bd2d-43139795d9ad",
    "scrolled": true
   },
   "outputs": [
    {
     "ename": "AttributeError",
     "evalue": "'list' object has no attribute 'split'",
     "output_type": "error",
     "traceback": [
      "\u001b[0;31m---------------------------------------------------------------------------\u001b[0m",
      "\u001b[0;31mAttributeError\u001b[0m                            Traceback (most recent call last)",
      "Cell \u001b[0;32mIn[5], line 1\u001b[0m\n\u001b[0;32m----> 1\u001b[0m \u001b[43mdd\u001b[49m\u001b[43m[\u001b[49m\u001b[38;5;124;43m'\u001b[39;49m\u001b[38;5;124;43mfavorite_deserts\u001b[39;49m\u001b[38;5;124;43m'\u001b[39;49m\u001b[43m]\u001b[49m\u001b[38;5;241;43m.\u001b[39;49m\u001b[43msplit\u001b[49m()[\u001b[38;5;241m0\u001b[39m]\n",
      "\u001b[0;31mAttributeError\u001b[0m: 'list' object has no attribute 'split'"
     ]
    }
   ],
   "source": [
    "dd['favorite_deserts'].split()[0]"
   ]
  },
  {
   "cell_type": "code",
   "execution_count": null,
   "metadata": {
    "id": "FkzVJ7sjVbAi"
   },
   "outputs": [],
   "source": []
  },
  {
   "cell_type": "code",
   "execution_count": null,
   "metadata": {
    "id": "Dr47qAW5VbAi"
   },
   "outputs": [],
   "source": []
  },
  {
   "cell_type": "code",
   "execution_count": null,
   "metadata": {
    "id": "Al_luwyaVbAi"
   },
   "outputs": [],
   "source": []
  },
  {
   "cell_type": "code",
   "execution_count": null,
   "metadata": {
    "id": "hRdmr1GKVbAi"
   },
   "outputs": [],
   "source": []
  },
  {
   "cell_type": "code",
   "execution_count": null,
   "metadata": {
    "id": "OurObylrVbAi"
   },
   "outputs": [],
   "source": []
  },
  {
   "cell_type": "code",
   "execution_count": null,
   "metadata": {
    "id": "lxgEkaP5VbAi"
   },
   "outputs": [],
   "source": []
  },
  {
   "cell_type": "code",
   "execution_count": null,
   "metadata": {
    "id": "gCFrqGadVbAi"
   },
   "outputs": [],
   "source": []
  },
  {
   "cell_type": "code",
   "execution_count": null,
   "metadata": {
    "id": "nTdJ19sDVbAi"
   },
   "outputs": [],
   "source": []
  },
  {
   "cell_type": "markdown",
   "metadata": {
    "id": "DPgr74Z4VbAi"
   },
   "source": [
    "The problem was that value of `dd['favorite_deserts']` was a list and `.split(...)` is\n",
    "a method on strings.  To get to the string that produces the desired split, we need\n",
    "to retrieve the first element of the list and then split."
   ]
  },
  {
   "cell_type": "code",
   "execution_count": null,
   "metadata": {
    "id": "qX8QlEZQVbAi",
    "outputId": "e0aec369-ebe2-4ea7-af16-d13123fb09c0"
   },
   "outputs": [
    {
     "data": {
      "text/plain": [
       "'Apple'"
      ]
     },
     "execution_count": 9,
     "metadata": {},
     "output_type": "execute_result"
    }
   ],
   "source": [
    "dd['favorite_deserts'][0].split()[0]"
   ]
  },
  {
   "cell_type": "markdown",
   "metadata": {
    "id": "ULYeKb8EVbAi"
   },
   "source": [
    "### Methods suitable for types"
   ]
  },
  {
   "cell_type": "markdown",
   "metadata": {},
   "source": [
    "Each type has a set of **methods** that do things taht bare in some way natural \n",
    "for that type. For example:"
   ]
  },
  {
   "cell_type": "code",
   "execution_count": 112,
   "metadata": {},
   "outputs": [
    {
     "data": {
      "text/plain": [
       "'war and peace'"
      ]
     },
     "execution_count": 112,
     "metadata": {},
     "output_type": "execute_result"
    }
   ],
   "source": [
    "wnp = \"War and Peace\".casefold()\n",
    "wnp"
   ]
  },
  {
   "cell_type": "code",
   "execution_count": 124,
   "metadata": {},
   "outputs": [
    {
     "data": {
      "text/plain": [
       "'War and peace'"
      ]
     },
     "execution_count": 124,
     "metadata": {},
     "output_type": "execute_result"
    }
   ],
   "source": [
    "capped = wnp.capitalize()\n",
    "capped"
   ]
  },
  {
   "cell_type": "code",
   "execution_count": 125,
   "metadata": {},
   "outputs": [
    {
     "data": {
      "text/plain": [
       "'War And Peace'"
      ]
     },
     "execution_count": 125,
     "metadata": {},
     "output_type": "execute_result"
    }
   ],
   "source": [
    "titled = wnp.title()\n",
    "titled"
   ]
  },
  {
   "cell_type": "code",
   "execution_count": 131,
   "metadata": {},
   "outputs": [
    {
     "data": {
      "text/plain": [
       "False"
      ]
     },
     "execution_count": 131,
     "metadata": {},
     "output_type": "execute_result"
    }
   ],
   "source": [
    "\".333\".isdecimal()"
   ]
  },
  {
   "cell_type": "code",
   "execution_count": 117,
   "metadata": {},
   "outputs": [
    {
     "data": {
      "text/plain": [
       "('the horror', ',', ' the horror')"
      ]
     },
     "execution_count": 117,
     "metadata": {},
     "output_type": "execute_result"
    }
   ],
   "source": [
    "\"the horror, the horror\".partition(\",\")"
   ]
  },
  {
   "cell_type": "code",
   "execution_count": 118,
   "metadata": {},
   "outputs": [
    {
     "data": {
      "text/plain": [
       "('the horror', ',', ' the horror, the horror')"
      ]
     },
     "execution_count": 118,
     "metadata": {},
     "output_type": "execute_result"
    }
   ],
   "source": [
    "\"the horror, the horror, the horror\".partition(\",\")"
   ]
  },
  {
   "cell_type": "code",
   "execution_count": 119,
   "metadata": {},
   "outputs": [
    {
     "data": {
      "text/plain": [
       "['the horror', ' the horror', ' the horror']"
      ]
     },
     "execution_count": 119,
     "metadata": {},
     "output_type": "execute_result"
    }
   ],
   "source": [
    "\"the horror, the horror, the horror\".split(\",\")"
   ]
  },
  {
   "cell_type": "code",
   "execution_count": 123,
   "metadata": {
    "scrolled": true
   },
   "outputs": [
    {
     "data": {
      "text/plain": [
       "True"
      ]
     },
     "execution_count": 123,
     "metadata": {},
     "output_type": "execute_result"
    }
   ],
   "source": [
    "\"Quaff\".startswith(\"Qu\")"
   ]
  },
  {
   "cell_type": "markdown",
   "metadata": {},
   "source": [
    "Similar example:  update for dictionaries, union/intersection for sets."
   ]
  },
  {
   "cell_type": "markdown",
   "metadata": {},
   "source": [
    "###  Further exercioses"
   ]
  },
  {
   "cell_type": "code",
   "execution_count": null,
   "metadata": {},
   "outputs": [],
   "source": []
  },
  {
   "cell_type": "markdown",
   "metadata": {
    "id": "VwsuUQ6fUZey"
   },
   "source": [
    "In the next exercise we try to retrieve some data."
   ]
  },
  {
   "cell_type": "code",
   "execution_count": 103,
   "metadata": {
    "id": "mhAFz2ZmUZez"
   },
   "outputs": [],
   "source": [
    "dd = dict(name = 'Mark Gawron',\n",
    "          languages = ['Python','Prolog', 'Lisp', 'Java'],\n",
    "          favorite_tv_shows = [\"The Tunnel\",\"Monty Python's Flying Circus\", \"Justified\"],\n",
    "          favorite_deserts = ['Apple pie','Chocolate pudding','flan'])"
   ]
  },
  {
   "cell_type": "markdown",
   "metadata": {
    "id": "1LxFbn-yUZe0"
   },
   "source": [
    "In the next cell, Write a single expression that retrieves the string `yin` from `dd`."
   ]
  },
  {
   "cell_type": "code",
   "execution_count": null,
   "metadata": {
    "id": "p-kyGfN7UZe0"
   },
   "outputs": [],
   "source": []
  },
  {
   "cell_type": "code",
   "execution_count": null,
   "metadata": {
    "id": "GXCr438yVbAj"
   },
   "outputs": [],
   "source": []
  },
  {
   "cell_type": "code",
   "execution_count": null,
   "metadata": {
    "id": "bfYmTyIbVbAj"
   },
   "outputs": [],
   "source": []
  },
  {
   "cell_type": "code",
   "execution_count": null,
   "metadata": {
    "id": "xA0pIuLcVbAj"
   },
   "outputs": [],
   "source": []
  },
  {
   "cell_type": "code",
   "execution_count": null,
   "metadata": {
    "id": "6FjvoXhAVbAj"
   },
   "outputs": [],
   "source": []
  },
  {
   "cell_type": "code",
   "execution_count": null,
   "metadata": {
    "id": "liwPPfqKVbAj"
   },
   "outputs": [],
   "source": []
  },
  {
   "cell_type": "code",
   "execution_count": null,
   "metadata": {
    "id": "j2QE2rDaVbAj"
   },
   "outputs": [],
   "source": []
  },
  {
   "cell_type": "code",
   "execution_count": null,
   "metadata": {
    "id": "UBOJe_cHVbAj"
   },
   "outputs": [],
   "source": []
  },
  {
   "cell_type": "code",
   "execution_count": null,
   "metadata": {
    "id": "NyA4M7DhVbAj"
   },
   "outputs": [],
   "source": []
  },
  {
   "cell_type": "code",
   "execution_count": null,
   "metadata": {
    "id": "FtBOHI8cVbAj"
   },
   "outputs": [],
   "source": []
  },
  {
   "cell_type": "code",
   "execution_count": null,
   "metadata": {
    "id": "VzEbTM9fVbAj",
    "outputId": "e9f09c99-39ec-487b-b51d-762cb3b89fc1"
   },
   "outputs": [
    {
     "data": {
      "text/plain": [
       "'yin'"
      ]
     },
     "execution_count": 14,
     "metadata": {},
     "output_type": "execute_result"
    }
   ],
   "source": [
    "dd['favorite_tv_shows'][1].split()[2][2:5]"
   ]
  },
  {
   "cell_type": "markdown",
   "metadata": {
    "id": "toLfzW-RVbAj"
   },
   "source": [
    "#### Exercise"
   ]
  },
  {
   "cell_type": "code",
   "execution_count": 104,
   "metadata": {},
   "outputs": [
    {
     "data": {
      "text/plain": [
       "{'name': 'Mark Gawron',\n",
       " 'languages': ['Python', 'Prolog', 'Lisp', 'Java'],\n",
       " 'favorite_tv_shows': ['The Tunnel',\n",
       "  \"Monty Python's Flying Circus\",\n",
       "  'Justified'],\n",
       " 'favorite_deserts': ['Apple pie', 'Chocolate pudding', 'flan']}"
      ]
     },
     "execution_count": 104,
     "metadata": {},
     "output_type": "execute_result"
    }
   ],
   "source": [
    "dd"
   ]
  },
  {
   "cell_type": "markdown",
   "metadata": {
    "id": "ijNCAfPgVbAj"
   },
   "source": [
    "In the next cell we try something a little trickier.Write a single Python expression that returns the value `\"favorite_tv_shows\"` from `dd`.  Hint: you will need to think about some dictionary methods.\n",
    "That will give you a container with `\"favorite_tv_shows\"` as en element.\n",
    "But that container won't be an indexable sequence.  So you will need to convert the container to\n",
    "an indexable sequence, and then index it."
   ]
  },
  {
   "cell_type": "code",
   "execution_count": null,
   "metadata": {
    "id": "tkmNbYyeVbAj"
   },
   "outputs": [],
   "source": []
  },
  {
   "cell_type": "code",
   "execution_count": null,
   "metadata": {
    "id": "poSL404XVbAj"
   },
   "outputs": [],
   "source": []
  },
  {
   "cell_type": "code",
   "execution_count": null,
   "metadata": {
    "id": "ASDV3xhAVbAj"
   },
   "outputs": [],
   "source": []
  },
  {
   "cell_type": "code",
   "execution_count": null,
   "metadata": {
    "id": "xKK4NzPHVbAj"
   },
   "outputs": [],
   "source": []
  },
  {
   "cell_type": "code",
   "execution_count": null,
   "metadata": {
    "id": "hDtvo65sVbAj"
   },
   "outputs": [],
   "source": []
  },
  {
   "cell_type": "code",
   "execution_count": null,
   "metadata": {
    "id": "A0x94hviVbAj"
   },
   "outputs": [],
   "source": []
  },
  {
   "cell_type": "code",
   "execution_count": null,
   "metadata": {
    "id": "MLUtPjwEVbAj"
   },
   "outputs": [],
   "source": []
  },
  {
   "cell_type": "code",
   "execution_count": null,
   "metadata": {
    "id": "VF9nKnaVVbAj"
   },
   "outputs": [],
   "source": []
  },
  {
   "cell_type": "code",
   "execution_count": null,
   "metadata": {
    "id": "jcvF-2WzVbAj"
   },
   "outputs": [],
   "source": []
  },
  {
   "cell_type": "code",
   "execution_count": null,
   "metadata": {
    "id": "vy0jxgWkVbAj"
   },
   "outputs": [],
   "source": []
  },
  {
   "cell_type": "markdown",
   "metadata": {
    "id": "PgNob_EzVbAj"
   },
   "source": [
    "Study the following answer and make sure you understand it."
   ]
  },
  {
   "cell_type": "code",
   "execution_count": null,
   "metadata": {
    "id": "rMkBPKpVVbAj",
    "outputId": "c0f97e7c-9de4-459a-f2a9-7f1e2af57c35"
   },
   "outputs": [
    {
     "data": {
      "text/plain": [
       "'favorite_tv_shows'"
      ]
     },
     "execution_count": 27,
     "metadata": {},
     "output_type": "execute_result"
    }
   ],
   "source": [
    "list(dd.keys())[2]"
   ]
  },
  {
   "cell_type": "markdown",
   "metadata": {
    "id": "veeHsc6NVbAj"
   },
   "source": [
    "First we get `dd`'s keys:"
   ]
  },
  {
   "cell_type": "code",
   "execution_count": null,
   "metadata": {
    "id": "JmvQ9OnMVbAj",
    "outputId": "6d55a956-7434-4699-d156-439eaea9c1e4"
   },
   "outputs": [
    {
     "data": {
      "text/plain": [
       "dict_keys(['name', 'languages', 'favorite_tv_shows', 'favorite_deserts'])"
      ]
     },
     "execution_count": 29,
     "metadata": {},
     "output_type": "execute_result"
    }
   ],
   "source": [
    "dd.keys()"
   ]
  },
  {
   "cell_type": "markdown",
   "metadata": {
    "id": "TVV8RVo2VbAj"
   },
   "source": [
    "This is a special keys object, It is a container:"
   ]
  },
  {
   "cell_type": "code",
   "execution_count": null,
   "metadata": {
    "id": "7iQenYLCVbAk",
    "outputId": "54557a37-f0b0-43c9-9eb4-0740e573c4b6"
   },
   "outputs": [
    {
     "data": {
      "text/plain": [
       "True"
      ]
     },
     "execution_count": 30,
     "metadata": {},
     "output_type": "execute_result"
    }
   ],
   "source": [
    "'favorite_tv_shows'  in dd.keys()"
   ]
  },
  {
   "cell_type": "code",
   "execution_count": null,
   "metadata": {
    "id": "bxUWiN53VbAk",
    "outputId": "7c77d247-83c0-4aa7-bc58-070c95781538"
   },
   "outputs": [
    {
     "data": {
      "text/plain": [
       "4"
      ]
     },
     "execution_count": 31,
     "metadata": {},
     "output_type": "execute_result"
    }
   ],
   "source": [
    "len(dd.keys())"
   ]
  },
  {
   "cell_type": "markdown",
   "metadata": {
    "id": "fIK8iLGqVbAk"
   },
   "source": [
    "But is cannot be indexed (**subscripted**):"
   ]
  },
  {
   "cell_type": "code",
   "execution_count": null,
   "metadata": {
    "id": "AkjkY3qVVbAk",
    "outputId": "0e98e12b-cdc2-44b9-8bb8-10fb4c5492f5"
   },
   "outputs": [
    {
     "ename": "TypeError",
     "evalue": "'dict_keys' object is not subscriptable",
     "output_type": "error",
     "traceback": [
      "\u001b[0;31m---------------------------------------------------------------------------\u001b[0m",
      "\u001b[0;31mTypeError\u001b[0m                                 Traceback (most recent call last)",
      "Cell \u001b[0;32mIn[32], line 1\u001b[0m\n\u001b[0;32m----> 1\u001b[0m \u001b[43mdd\u001b[49m\u001b[38;5;241;43m.\u001b[39;49m\u001b[43mkeys\u001b[49m\u001b[43m(\u001b[49m\u001b[43m)\u001b[49m\u001b[43m[\u001b[49m\u001b[38;5;241;43m2\u001b[39;49m\u001b[43m]\u001b[49m\n",
      "\u001b[0;31mTypeError\u001b[0m: 'dict_keys' object is not subscriptable"
     ]
    }
   ],
   "source": [
    "dd.keys()[2]"
   ]
  },
  {
   "cell_type": "markdown",
   "metadata": {
    "id": "6DcfUdrKVbAk"
   },
   "source": [
    "So we convert it to something that can be indexed:"
   ]
  },
  {
   "cell_type": "code",
   "execution_count": null,
   "metadata": {
    "id": "6Lg91CdQVbAk",
    "outputId": "196f2660-915a-4514-928a-17940716ec10"
   },
   "outputs": [
    {
     "data": {
      "text/plain": [
       "['name', 'languages', 'favorite_tv_shows', 'favorite_deserts']"
      ]
     },
     "execution_count": 34,
     "metadata": {},
     "output_type": "execute_result"
    }
   ],
   "source": [
    "list(dd.keys())"
   ]
  },
  {
   "cell_type": "code",
   "execution_count": null,
   "metadata": {
    "id": "le8rX6qNVbAk"
   },
   "outputs": [],
   "source": [
    "then index it:"
   ]
  },
  {
   "cell_type": "code",
   "execution_count": null,
   "metadata": {
    "id": "hhhQE5QqVbAk",
    "outputId": "ddd94a40-f650-4299-9bb3-6f1a3fe3ed95"
   },
   "outputs": [
    {
     "data": {
      "text/plain": [
       "'favorite_tv_shows'"
      ]
     },
     "execution_count": 38,
     "metadata": {},
     "output_type": "execute_result"
    }
   ],
   "source": [
    "list(dd.keys())[2]"
   ]
  },
  {
   "cell_type": "markdown",
   "metadata": {
    "id": "NTn81lilVbAk"
   },
   "source": [
    "Notice that the index used here corresponds to the order we used when we entered\n",
    "the key-value pairs in defining the diction (several cells back).  Dictonaries in python\n",
    "are now **ordered**; keys and key-value pairs will be returned in the ordee used to enter them into\n",
    "the dictionary.\n",
    "\n",
    "The moral of this exercise.  \n",
    "\n",
    "1.  Pay attention to the specific properties native to the **type** of the container you are retrieving\n",
    "data from.\n",
    "2.  If the container type you've got doesn't have the properties you need, ot is often easy enough to convert to the type of container that does have those properties.\n",
    "\n",
    "In this case the `dict_keys` container couldn't be subscripted, but it was easy to convert it to a list\n",
    "that could be."
   ]
  },
  {
   "cell_type": "markdown",
   "metadata": {
    "id": "ggQtMxUTVbAk"
   },
   "source": [
    "The next cell defines a tuple  `XX` that contains the word \"Ringo\".  Write a few lines\n",
    "of code that define a  Python tuple identical to `XX` except that the word \"Bob\" replaces\n",
    "the word \"Ringo\".  Hint A: A type change will make this easy.   Hint B:  This\n",
    "will take three lines of code."
   ]
  },
  {
   "cell_type": "code",
   "execution_count": null,
   "metadata": {
    "id": "olY-xtn6VbAk"
   },
   "outputs": [],
   "source": [
    "XX = ('The', 'winner', 'of', 'the', 'game', 'was', 'named', 'Ringo')"
   ]
  },
  {
   "cell_type": "code",
   "execution_count": null,
   "metadata": {
    "id": "PCDaTvvWVbAk"
   },
   "outputs": [],
   "source": []
  },
  {
   "cell_type": "code",
   "execution_count": null,
   "metadata": {
    "id": "5oGZQFAXVbAk"
   },
   "outputs": [],
   "source": []
  },
  {
   "cell_type": "code",
   "execution_count": null,
   "metadata": {
    "id": "BHNCY5I5VbAk"
   },
   "outputs": [],
   "source": []
  },
  {
   "cell_type": "code",
   "execution_count": null,
   "metadata": {
    "id": "2k0qeSG8VbAk"
   },
   "outputs": [],
   "source": []
  },
  {
   "cell_type": "code",
   "execution_count": null,
   "metadata": {
    "collapsed": true,
    "id": "u5w5PPz3VbAk"
   },
   "outputs": [],
   "source": []
  },
  {
   "cell_type": "code",
   "execution_count": null,
   "metadata": {
    "id": "GnwQHkUQVbAk"
   },
   "outputs": [],
   "source": []
  },
  {
   "cell_type": "code",
   "execution_count": null,
   "metadata": {
    "id": "jatr2VZjVbAk"
   },
   "outputs": [],
   "source": []
  },
  {
   "cell_type": "code",
   "execution_count": null,
   "metadata": {
    "id": "D2cJhgq5VbAk"
   },
   "outputs": [],
   "source": []
  },
  {
   "cell_type": "code",
   "execution_count": null,
   "metadata": {
    "id": "1C-xp7TtVbAk",
    "outputId": "28d11c86-6429-420f-c6f0-2adc0ed2d571"
   },
   "outputs": [
    {
     "data": {
      "text/plain": [
       "('The', 'winner', 'of', 'the', 'game', 'was', 'named', 'Bob')"
      ]
     },
     "execution_count": 43,
     "metadata": {},
     "output_type": "execute_result"
    }
   ],
   "source": [
    "# Convert to a list to allow assignment\n",
    "LL = list(XX)\n",
    "LL [-1] =\"Bob\"\n",
    "# Convert back to tuple\n",
    "tuple(LL)"
   ]
  },
  {
   "cell_type": "markdown",
   "metadata": {
    "id": "zPKsd2YFVbAk"
   },
   "source": [
    "Note that it is hard to do this in less than 3 lines, given what we know.\n",
    "\n",
    "```\n",
    "list(XX)[-1] = 'Bob'\n",
    "```\n",
    "\n",
    "is legal, but now we don't have a name for the list to use for converting it back to a tuple.\n",
    "\n",
    "```\n",
    "tuple(list(XX)[-1] = 'Bob')\n",
    "```\n",
    "\n",
    "is illegal because `list(XX)[-1] = 'Bob'` is a **statement** which has no return value\n",
    "and therefore can't be the argument of a function:"
   ]
  },
  {
   "cell_type": "code",
   "execution_count": null,
   "metadata": {
    "id": "YGoAYKJeVbAk",
    "outputId": "3294a0bb-c677-417d-b73b-4da58224cdc1",
    "scrolled": true
   },
   "outputs": [
    {
     "ename": "SyntaxError",
     "evalue": "expression cannot contain assignment, perhaps you meant \"==\"? (298957941.py, line 1)",
     "output_type": "error",
     "traceback": [
      "\u001b[0;36m  Cell \u001b[0;32mIn[44], line 1\u001b[0;36m\u001b[0m\n\u001b[0;31m    tuple(list(XX)[-1] = 'Bob')\u001b[0m\n\u001b[0m          ^\u001b[0m\n\u001b[0;31mSyntaxError\u001b[0m\u001b[0;31m:\u001b[0m expression cannot contain assignment, perhaps you meant \"==\"?\n"
     ]
    }
   ],
   "source": [
    "tuple(list(XX)[-1] = 'Bob')"
   ]
  },
  {
   "cell_type": "markdown",
   "metadata": {
    "id": "OKTZ3xczVbAk"
   },
   "source": [
    "In addition we want to want to convert the entire list into a tuple,\n",
    "and `tuple(list(XX)[-1] = 'Bob')` certainly doesn't make that clear."
   ]
  },
  {
   "cell_type": "markdown",
   "metadata": {
    "id": "Mrdzyf8FVbAk"
   },
   "source": [
    "The moral of these last exercices  \n",
    "\n",
    "1.  Pay attention to the specific properties native to the **type** of the container you are doing things to.\n",
    "2.  If the type you've got doesn't have the properties you need, it is often easy enough to convert to the type of container that does have those properties, and, if necessary, to convert back.\n",
    "\n"
   ]
  },
  {
   "cell_type": "code",
   "execution_count": null,
   "metadata": {
    "id": "vg6CZjGKVbAl"
   },
   "outputs": [],
   "source": []
  }
 ],
 "metadata": {
  "celltoolbar": "Slideshow",
  "colab": {
   "collapsed_sections": [
    "vVObwCeJUZdA",
    "ZCU5yT9iUZdJ",
    "b76uibrJUZdS",
    "_kQUjWvJUZeS",
    "Mv_7NvXqUZeW",
    "JqmD8DNiUZea",
    "xNNREsNtUZel",
    "MBY-MHvWUZe1",
    "VLsLVerVUZeo"
   ],
   "include_colab_link": true,
   "provenance": []
  },
  "kernelspec": {
   "display_name": "Python 3 (ipykernel)",
   "language": "python",
   "name": "python3"
  },
  "language_info": {
   "codemirror_mode": {
    "name": "ipython",
    "version": 3
   },
   "file_extension": ".py",
   "mimetype": "text/x-python",
   "name": "python",
   "nbconvert_exporter": "python",
   "pygments_lexer": "ipython3",
   "version": "3.12.5"
  },
  "toc": {
   "base_numbering": 1,
   "nav_menu": {
    "height": "277px",
    "width": "252px"
   },
   "number_sections": true,
   "sideBar": true,
   "skip_h1_title": false,
   "title_cell": "Table of Contents",
   "title_sidebar": "Contents",
   "toc_cell": false,
   "toc_position": {},
   "toc_section_display": "block",
   "toc_window_display": false
  }
 },
 "nbformat": 4,
 "nbformat_minor": 1
}
