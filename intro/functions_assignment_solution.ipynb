{
 "cells": [
  {
   "cell_type": "markdown",
   "metadata": {},
   "source": [
    "# Functions, types, loops assignment"
   ]
  },
  {
   "cell_type": "markdown",
   "metadata": {},
   "source": [
    "## Exercise 1"
   ]
  },
  {
   "cell_type": "markdown",
   "metadata": {},
   "source": [
    "Add a line of code that will generate the give output::\n",
    " \n",
    "     In [ ]: a_list = [2,7,8, 19]\n",
    "             YOUR CODE HERE\n",
    "     Out [ ]: 2\n",
    "     \n",
    "NOTE: The idea of this kind of exercise is to write a line of code\n",
    "that will produce the given output, 2 in this case.  Your\n",
    "answer goes in the next cell, which is a code cell.  It should this be an\n",
    "expression that operates on `a_list`.  A simple correct answer is:\n",
    "\n",
    "     In [ ]: a_list = [2,7,8, 19]\n",
    "             a_list[0]\n",
    "     Out [ ]: 2\n",
    "     \n",
    "Don't forget to evaluate the cell after you've written in your answer to generate Python's output and check your answer!\n"
   ]
  },
  {
   "cell_type": "code",
   "execution_count": 1,
   "metadata": {},
   "outputs": [
    {
     "data": {
      "text/plain": [
       "2"
      ]
     },
     "execution_count": 1,
     "metadata": {},
     "output_type": "execute_result"
    }
   ],
   "source": [
    "a_list = [2,7,8, 19]\n",
    "a_list[0]"
   ]
  },
  {
   "cell_type": "markdown",
   "metadata": {},
   "source": [
    "## Exercise 2"
   ]
  },
  {
   "cell_type": "markdown",
   "metadata": {},
   "source": [
    "  Write a line of code that produces the given output.  Use a splice with a \"steps\" component.\n",
    "   \n",
    "    In [ ]: X = 'abcdefghij'\n",
    "             YOUR CODE HERE\n",
    "    Out [ ]: 'acegi'"
   ]
  },
  {
   "cell_type": "code",
   "execution_count": 2,
   "metadata": {},
   "outputs": [
    {
     "data": {
      "text/plain": [
       "'acegi'"
      ]
     },
     "execution_count": 2,
     "metadata": {},
     "output_type": "execute_result"
    }
   ],
   "source": [
    "X  = 'abcdefghij'\n",
    "X[::2]"
   ]
  },
  {
   "cell_type": "markdown",
   "metadata": {},
   "source": [
    "## Exercise 3"
   ]
  },
  {
   "cell_type": "markdown",
   "metadata": {},
   "source": [
    " Write a line of code that produces the given output: \n",
    "   \n",
    "     In [ ]: S, T = set('abc'), set('cde')\n",
    "           YOUR CODE HERE\n",
    "     Out [ ]: {'c'}\n",
    "\n",
    "Hint.  Each Python type has its own methods.  For instance, strings have a `.title()` method that capitalizes them.  For this problem use a method that is particular to **sets** on the two sets `S` and `T`.  Look\n",
    "at [Van DerPlas's Whirlwind Tour, Ch. 6](https://colab.research.google.com/github/jakevdp/WhirlwindTourOfPython/blob/6f1daf714fe52a8dde6a288674ba46a7feed8816/06-Built-in-Data-Structures.ipynb) for a nice discussion of set methods."
   ]
  },
  {
   "cell_type": "code",
   "execution_count": 22,
   "metadata": {},
   "outputs": [
    {
     "data": {
      "text/plain": [
       "['__and__',\n",
       " '__class__',\n",
       " '__contains__',\n",
       " '__delattr__',\n",
       " '__dir__',\n",
       " '__doc__',\n",
       " '__eq__',\n",
       " '__format__',\n",
       " '__ge__',\n",
       " '__getattribute__',\n",
       " '__gt__',\n",
       " '__hash__',\n",
       " '__iand__',\n",
       " '__init__',\n",
       " '__init_subclass__',\n",
       " '__ior__',\n",
       " '__isub__',\n",
       " '__iter__',\n",
       " '__ixor__',\n",
       " '__le__',\n",
       " '__len__',\n",
       " '__lt__',\n",
       " '__ne__',\n",
       " '__new__',\n",
       " '__or__',\n",
       " '__rand__',\n",
       " '__reduce__',\n",
       " '__reduce_ex__',\n",
       " '__repr__',\n",
       " '__ror__',\n",
       " '__rsub__',\n",
       " '__rxor__',\n",
       " '__setattr__',\n",
       " '__sizeof__',\n",
       " '__str__',\n",
       " '__sub__',\n",
       " '__subclasshook__',\n",
       " '__xor__',\n",
       " 'add',\n",
       " 'clear',\n",
       " 'copy',\n",
       " 'difference',\n",
       " 'difference_update',\n",
       " 'discard',\n",
       " 'intersection',\n",
       " 'intersection_update',\n",
       " 'isdisjoint',\n",
       " 'issubset',\n",
       " 'issuperset',\n",
       " 'pop',\n",
       " 'remove',\n",
       " 'symmetric_difference',\n",
       " 'symmetric_difference_update',\n",
       " 'union',\n",
       " 'update']"
      ]
     },
     "execution_count": 22,
     "metadata": {},
     "output_type": "execute_result"
    }
   ],
   "source": [
    "# Set methods.  Ficus on those that dont start with '__'\n",
    "dir(set())"
   ]
  },
  {
   "cell_type": "code",
   "execution_count": 3,
   "metadata": {},
   "outputs": [
    {
     "data": {
      "text/plain": [
       "{'c'}"
      ]
     },
     "execution_count": 3,
     "metadata": {},
     "output_type": "execute_result"
    }
   ],
   "source": [
    "S, T = set('abc'), set('cde')\n",
    "S.intersection(T)"
   ]
  },
  {
   "cell_type": "markdown",
   "metadata": {},
   "source": [
    "## Exercise 4"
   ]
  },
  {
   "cell_type": "markdown",
   "metadata": {},
   "source": [
    " Write a line of code that produces the given output: \n",
    "   \n",
    "     In [ ]: a_list = [2,7,8, 19]\n",
    "           YOUR CODE HERE\n",
    "     Out [ ]: [22,27,28,39]\n",
    "    \n",
    "Hint: Try a list comprehension. Look at [Whirlwind Tour](https://colab.research.google.com/github/jakevdp/WhirlwindTourOfPython/blob/6f1daf714fe52a8dde6a288674ba46a7feed8816/11-List-Comprehensions.ipynb) for a quick review of list comprehensions."
   ]
  },
  {
   "cell_type": "code",
   "execution_count": 4,
   "metadata": {},
   "outputs": [
    {
     "data": {
      "text/plain": [
       "[22, 27, 28, 39]"
      ]
     },
     "execution_count": 4,
     "metadata": {},
     "output_type": "execute_result"
    }
   ],
   "source": [
    "a_list = [2,7,8, 19]\n",
    "[x+20 for x in a_list]"
   ]
  },
  {
   "cell_type": "markdown",
   "metadata": {},
   "source": [
    "## Exercise 5"
   ]
  },
  {
   "cell_type": "markdown",
   "metadata": {},
   "source": [
    "Write a line of code that produces the given output.\n",
    "\n",
    "Hint Remember that list comprehensions can also be used as filters. Look at [Whirlwind Tour](https://colab.research.google.com/github/jakevdp/WhirlwindTourOfPython/blob/6f1daf714fe52a8dde6a288674ba46a7feed8816/11-List-Comprehensions.ipynb) for a quick review of list comprehensions.\n",
    "\n",
    "```\n",
    "In [ ]: a_list = [2,7,8, 19]\n",
    "In [ ]: # Your code           \n",
    "Out [ ]: [22,27]\n",
    " ```"
   ]
  },
  {
   "cell_type": "code",
   "execution_count": 7,
   "metadata": {},
   "outputs": [],
   "source": [
    "a_list = [2,7,8, 19]"
   ]
  },
  {
   "cell_type": "code",
   "execution_count": 8,
   "metadata": {},
   "outputs": [
    {
     "data": {
      "text/plain": [
       "[22, 27]"
      ]
     },
     "execution_count": 8,
     "metadata": {},
     "output_type": "execute_result"
    }
   ],
   "source": [
    "# YOUR CODE GOES UNDER HERE\n",
    "[x+20 for x in a_list[:2]]"
   ]
  },
  {
   "cell_type": "markdown",
   "metadata": {},
   "source": [
    "## Exercise 6"
   ]
  },
  {
   "cell_type": "markdown",
   "metadata": {},
   "source": [
    "Write a function that finds all the consonants in a string.  As a help, the list of vowels is given below.  The beginning\n",
    "of the function definition has been given with a `pass` as the body.  \n",
    "\n",
    "It should work as in the following examples.\n",
    "\n",
    "```\n",
    ">>> find_consonants('baker')\n",
    "'bkr'\n",
    ">>> find_consonants('abracadabra')\n",
    "'brcdbr'\n",
    ">>> find_consonants('mississippi is the place for me')\n",
    "'mssssppsthplcfrm'\n",
    "```\n",
    "\n",
    "As the argument of the function, use the name that has been supplied.\n",
    "Replace the `pass` with the correct definition of the function.\n",
    "\n",
    "For those interested in more of a challenge, you may add 'sometimes y' to the list of vowels. The letter `'y'` is a vowel in \"Mary\" and \"Plymouth\" and \"play\", but not in \"youth\"."
   ]
  },
  {
   "cell_type": "code",
   "execution_count": 4,
   "metadata": {},
   "outputs": [],
   "source": [
    "vowels = 'aeiou'\n",
    "vowels_space = vowels + ' '\n",
    "def find_consonants(word):\n",
    "    return ''.join([x for x in word if x not in vowels_space])"
   ]
  },
  {
   "cell_type": "code",
   "execution_count": 5,
   "metadata": {},
   "outputs": [
    {
     "name": "stdout",
     "output_type": "stream",
     "text": [
      "bkr\n",
      "brcdbr\n",
      "mssssppsthplcfrm\n"
     ]
    }
   ],
   "source": [
    "print(find_consonants('baker'))\n",
    "print(find_consonants('abracadabra'))\n",
    "print(find_consonants('mississippi is the place for me'))"
   ]
  },
  {
   "cell_type": "code",
   "execution_count": 9,
   "metadata": {},
   "outputs": [],
   "source": [
    "vowels = 'aeiou'\n",
    "vowels_space = vowels + ' '\n",
    "\n",
    "def find_consonants_deal_with_y(word):\n",
    "    if word[-1] == 'y':\n",
    "        return find_consonants(word[:-1])\n",
    "    else:\n",
    "        return find_consonants(word)\n",
    "    \n",
    "def find_consonants_deal_with_y2(word):\n",
    "    result = ''\n",
    "    for (i,let) in enumerate(word):\n",
    "        if let in vowels_space or (i > 0 and let == 'y'  and word[-1] not in vowels):\n",
    "            pass\n",
    "        else:\n",
    "            result += let\n",
    "    return result"
   ]
  },
  {
   "cell_type": "markdown",
   "metadata": {},
   "source": [
    "This version wrongly treats the \"y\" in \"Plymouth\" as a consonant:"
   ]
  },
  {
   "cell_type": "code",
   "execution_count": 15,
   "metadata": {},
   "outputs": [
    {
     "name": "stdout",
     "output_type": "stream",
     "text": [
      "bkr\n",
      "brcdbr\n",
      "mssssppsthplcfrm\n",
      "Mr\n",
      "*Plymth*\n",
      "pl\n",
      "yth\n"
     ]
    }
   ],
   "source": [
    "for word in ['baker','abracadabra','mississippi is the place for me','Mary','*Plymouth*','play','youth']:\n",
    "    print(find_consonants_deal_with_y(word))"
   ]
  },
  {
   "cell_type": "markdown",
   "metadata": {},
   "source": [
    "This more complicated version is correct."
   ]
  },
  {
   "cell_type": "code",
   "execution_count": 11,
   "metadata": {},
   "outputs": [
    {
     "name": "stdout",
     "output_type": "stream",
     "text": [
      "bkr\n",
      "brcdbr\n",
      "mssssppsthplcfrm\n",
      "Mr\n",
      "Plmth\n",
      "pl\n",
      "yth\n"
     ]
    }
   ],
   "source": [
    "for word in ['baker','abracadabra','mississippi is the place for me','Mary','Plymouth','play','youth']:\n",
    "    print(find_consonants_deal_with_y2(word))"
   ]
  },
  {
   "cell_type": "markdown",
   "metadata": {},
   "source": [
    "### Error discussion I"
   ]
  },
  {
   "cell_type": "markdown",
   "metadata": {},
   "source": [
    "Some typical errors are illustrated by the following example solution."
   ]
  },
  {
   "cell_type": "code",
   "execution_count": 1,
   "metadata": {
    "colab": {
     "base_uri": "https://localhost:8080/",
     "height": 201
    },
    "id": "6hyN1E0dNeSL",
    "outputId": "f95911cd-7821-4b79-dfbe-5c33a90de859"
   },
   "outputs": [],
   "source": [
    "vowels = 'aeiou'\n",
    "\n",
    "def find_consonants():\n",
    "\n",
    "    for i in range(len(string)):\n",
    " \n",
    "        if (string[i] not in vowels):\n",
    "            print(string[i])"
   ]
  },
  {
   "cell_type": "markdown",
   "metadata": {},
   "source": [
    "This does not work.  Try to guess what will happen when we test it on the first example:\n",
    "\n",
    "```\n",
    "find_consonants('baker')\n",
    "```"
   ]
  },
  {
   "cell_type": "code",
   "execution_count": null,
   "metadata": {},
   "outputs": [],
   "source": []
  },
  {
   "cell_type": "code",
   "execution_count": null,
   "metadata": {},
   "outputs": [],
   "source": []
  },
  {
   "cell_type": "code",
   "execution_count": null,
   "metadata": {},
   "outputs": [],
   "source": []
  },
  {
   "cell_type": "code",
   "execution_count": null,
   "metadata": {},
   "outputs": [],
   "source": [
    "find_consonants('baker')"
   ]
  },
  {
   "cell_type": "markdown",
   "metadata": {
    "colab": {
     "base_uri": "https://localhost:8080/",
     "height": 201
    },
    "id": "6hyN1E0dNeSL",
    "outputId": "f95911cd-7821-4b79-dfbe-5c33a90de859"
   },
   "source": [
    "Error type I You defined a function with no arguments"
   ]
  },
  {
   "cell_type": "code",
   "execution_count": 18,
   "metadata": {
    "colab": {
     "base_uri": "https://localhost:8080/",
     "height": 201
    },
    "id": "6hyN1E0dNeSL",
    "outputId": "f95911cd-7821-4b79-dfbe-5c33a90de859"
   },
   "outputs": [],
   "source": [
    "def jmg_find_consonants1(string):\n",
    "    \"\"\"\n",
    "    First improvement. Fix the bug.\n",
    "    Compare this version to yours.\n",
    "    \"\"\"\n",
    "     \n",
    "    for i in range(len(string)):\n",
    " \n",
    "        if (string[i] not in vowels):\n",
    "            print(string[i])"
   ]
  },
  {
   "cell_type": "markdown",
   "metadata": {},
   "source": [
    "Error type 2;  You defined a function thatused print(...)  rather than return ..."
   ]
  },
  {
   "cell_type": "code",
   "execution_count": 20,
   "metadata": {
    "colab": {
     "base_uri": "https://localhost:8080/",
     "height": 201
    },
    "id": "6hyN1E0dNeSL",
    "outputId": "f95911cd-7821-4b79-dfbe-5c33a90de859"
   },
   "outputs": [],
   "source": [
    "# JMG Error tyope 2 You defined a function that\n",
    "# used print(...)  rather than return ...\n",
    "def jmg_find_consonants2(string):\n",
    "    \"\"\"\n",
    "    Second improvement\n",
    "    \"\"\"\n",
    "    result = []\n",
    "    for i in range(len(string)):\n",
    " \n",
    "        if (string[i] not in vowels):\n",
    "            result.append(string[i])\n",
    "    return result\n",
    "  "
   ]
  },
  {
   "cell_type": "markdown",
   "metadata": {
    "colab": {
     "base_uri": "https://localhost:8080/",
     "height": 201
    },
    "id": "6hyN1E0dNeSL",
    "outputId": "f95911cd-7821-4b79-dfbe-5c33a90de859"
   },
   "source": [
    "Error type 3: Your function was supposed to return a string not a list"
   ]
  },
  {
   "cell_type": "code",
   "execution_count": 22,
   "metadata": {
    "colab": {
     "base_uri": "https://localhost:8080/",
     "height": 201
    },
    "id": "6hyN1E0dNeSL",
    "outputId": "f95911cd-7821-4b79-dfbe-5c33a90de859"
   },
   "outputs": [],
   "source": [
    "def jmg_find_consonants3(string):\n",
    "    \"\"\"\n",
    "    Third improvement\n",
    "    \"\"\"\n",
    "    result = []\n",
    "    for i in range(len(string)):\n",
    " \n",
    "        if (string[i] not in vowels):\n",
    "            result.append(string[i])\n",
    "    return ''.join(result)"
   ]
  },
  {
   "cell_type": "markdown",
   "metadata": {},
   "source": [
    "Finally a style remark\n",
    "\n",
    "Awkward code: Your loop variable was an index `i` so you had to retrieve elements of the string \n",
    "with string[i] in the loop.  It is simpler simply to loop through the letters in the string.\n",
    "\n",
    "```\n",
    "for i in range(len(string)):\n",
    "```\n",
    "becomes\n",
    "\n",
    "```\n",
    "for let in string:\n",
    "```"
   ]
  },
  {
   "cell_type": "code",
   "execution_count": 23,
   "metadata": {
    "colab": {
     "base_uri": "https://localhost:8080/",
     "height": 201
    },
    "id": "6hyN1E0dNeSL",
    "outputId": "f95911cd-7821-4b79-dfbe-5c33a90de859"
   },
   "outputs": [],
   "source": [
    "\n",
    "def jmg_find_consonants4(string):\n",
    "    \"\"\"\n",
    "    Fourth improvement\n",
    "    \"\"\"\n",
    "    result = []\n",
    "    for let in string:\n",
    " \n",
    "        if let not in vowels:\n",
    "            result.append(let)\n",
    "    return ''.join(result)"
   ]
  },
  {
   "cell_type": "code",
   "execution_count": 24,
   "metadata": {
    "colab": {
     "base_uri": "https://localhost:8080/",
     "height": 201
    },
    "id": "6hyN1E0dNeSL",
    "outputId": "f95911cd-7821-4b79-dfbe-5c33a90de859"
   },
   "outputs": [
    {
     "name": "stdout",
     "output_type": "stream",
     "text": [
      "b\n",
      "k\n",
      "r\n",
      "None\n",
      "====\n",
      "['b', 'k', 'r']\n",
      "====\n",
      "bkr\n",
      "====\n",
      "bkr\n"
     ]
    }
   ],
   "source": [
    "print(jmg_find_consonants1('baker'))\n",
    "print('====')\n",
    "print(jmg_find_consonants2('baker'))\n",
    "print('====')\n",
    "print(jmg_find_consonants3('baker'))\n",
    "print('====')\n",
    "# JMG THis is the best. Make sure you understand the sequence of improvements\n",
    "# that led to this version.\n",
    "print(jmg_find_consonants4('baker'))"
   ]
  },
  {
   "cell_type": "code",
   "execution_count": null,
   "metadata": {},
   "outputs": [],
   "source": []
  },
  {
   "cell_type": "markdown",
   "metadata": {},
   "source": [
    "## Exercise 7"
   ]
  },
  {
   "cell_type": "markdown",
   "metadata": {},
   "source": [
    " Write a line of code that operates on `XX` and produces the given output: \n",
    "   \n",
    "     In [ ]: XX = 'bad good sad happy'\n",
    "           YOUR CODE HERE\n",
    "     Out [ ]: [True, False, True, False]\n",
    "  \n",
    " Hint:  Try a list comprehension that collects\n",
    "  a list of the results of a Boolean test.  But remember that the elements of a string\n",
    "  are characters.  You can turn `XX` into a list of length 4 with a simple operation \n",
    "  discussed in the python_types_nb.\n"
   ]
  },
  {
   "cell_type": "code",
   "execution_count": 26,
   "metadata": {},
   "outputs": [
    {
     "data": {
      "text/plain": [
       "[True, False, True, False]"
      ]
     },
     "execution_count": 26,
     "metadata": {},
     "output_type": "execute_result"
    }
   ],
   "source": [
    "XX = 'bad good sad happy' \n",
    "# Your code here\n",
    "# JMG Many possible answer\n",
    "[len(xx) < 4 for xx in XX.split()]"
   ]
  },
  {
   "cell_type": "markdown",
   "metadata": {},
   "source": [
    "Unnecessary complication"
   ]
  },
  {
   "cell_type": "code",
   "execution_count": 28,
   "metadata": {},
   "outputs": [
    {
     "data": {
      "text/plain": [
       "[True, False, True, False]"
      ]
     },
     "execution_count": 28,
     "metadata": {},
     "output_type": "execute_result"
    }
   ],
   "source": [
    "XX = 'bad good sad happy' \n",
    "[True if len(xx) < 4 else False for xx in XX.split()]"
   ]
  },
  {
   "cell_type": "markdown",
   "metadata": {},
   "source": [
    "Unnecessary complication (imported from other programming languages):"
   ]
  },
  {
   "cell_type": "code",
   "execution_count": 27,
   "metadata": {},
   "outputs": [
    {
     "data": {
      "text/plain": [
       "[True, False, True, False]"
      ]
     },
     "execution_count": 27,
     "metadata": {},
     "output_type": "execute_result"
    }
   ],
   "source": [
    "[bool(len(xx) < 4) for xx in XX.split()]"
   ]
  },
  {
   "cell_type": "markdown",
   "metadata": {},
   "source": [
    "## Exercise 8"
   ]
  },
  {
   "cell_type": "markdown",
   "metadata": {},
   "source": [
    "You're having a big party.\n",
    "\n",
    "The guests will be boys and girls.   The lists are defined for you in the next cell.\n",
    "There should be 24 pairings since the pairing ('Huey', 'Susan') should count\n",
    "as the same dance partnership as ('Susan','Huey'). \n",
    "\n",
    "You want to make sure there are enough dance partners and that they are all compatible.  Write a single list comprehension that will compute every possible pairing of a boy with a girl.  \n",
    "\n",
    "Hint:\n",
    "The list built by the list comprehension will be a list of tuples of length 2."
   ]
  },
  {
   "cell_type": "code",
   "execution_count": 30,
   "metadata": {},
   "outputs": [
    {
     "name": "stdout",
     "output_type": "stream",
     "text": [
      "24 [('Huey', 'Susan'), ('Huey', 'Paula'), ('Huey', 'Barbara'), ('Huey', 'Felicia'), ('Fred', 'Susan'), ('Fred', 'Paula'), ('Fred', 'Barbara'), ('Fred', 'Felicia'), ('Jason', 'Susan'), ('Jason', 'Paula'), ('Jason', 'Barbara'), ('Jason', 'Felicia'), ('Ed', 'Susan'), ('Ed', 'Paula'), ('Ed', 'Barbara'), ('Ed', 'Felicia'), ('Albert', 'Susan'), ('Albert', 'Paula'), ('Albert', 'Barbara'), ('Albert', 'Felicia'), ('Louie', 'Susan'), ('Louie', 'Paula'), ('Louie', 'Barbara'), ('Louie', 'Felicia')]\n"
     ]
    }
   ],
   "source": [
    "boys = 'Huey Fred Jason Ed Albert Louie'.split()\n",
    "girls = 'Susan Paula Barbara Felicia'.split()\n",
    "# Your code here\n",
    "partners = [(b,g) for b in boys for g in girls]\n",
    "print(len(partners),partners)"
   ]
  },
  {
   "cell_type": "markdown",
   "metadata": {},
   "source": [
    "## Exercise 10"
   ]
  },
  {
   "cell_type": "markdown",
   "metadata": {},
   "source": [
    "You suddenly remember that boys don't always dance with girls and girls don't always dance with boys.\n",
    "And there are people who are neither who are also guests at the party.  You compile a list of neithers.  \n",
    "\n",
    "Using the `boys` and `girls` lists from the last problem and the `neither` list below,\n",
    "write another list comprehension that finds **all** the possible dance partners, that is\n",
    "every pair of guests at the party, regardless of whether they are boys or girls or neither.\n",
    "But remember: people can't dance with themselves (at least not for the dances that will\n",
    "played at this party).\n",
    "\n",
    "If your final list has 169 members, people are dancing with themselves.\n",
    "\n",
    "If your final list has 156 members, it's because you have both ('Huey', 'Fred') and ('Fred', 'Huey') as possible dance partners. This is a bug.  They are just one happy couple.\n",
    "You might think you can fix this problem by doing a set comprehension\n",
    "instead of a list comprehension, but ('Huey', 'Fred') and ('Fred', 'Huey')\n",
    "are different tuples so they actually count as distinct \n",
    "members of the set. That means the set will also  have length 156.\n",
    "\n",
    "Another way to fix this is with `enumerate` as shown in the function-nb notebook.\n",
    "\n",
    "The correct answer has 78 dance couples."
   ]
  },
  {
   "cell_type": "code",
   "execution_count": 33,
   "metadata": {},
   "outputs": [
    {
     "name": "stdout",
     "output_type": "stream",
     "text": [
      "============================================================\n",
      "Some checks on the answer\n",
      "13 True False\n",
      "78\n"
     ]
    },
    {
     "data": {
      "text/plain": [
       "True"
      ]
     },
     "execution_count": 33,
     "metadata": {},
     "output_type": "execute_result"
    }
   ],
   "source": [
    "neither = 'Lee Sam Kim'.split()\n",
    "\n",
    "\n",
    "# Your code here\n",
    "all_dancers = boys + girls + neither\n",
    "num_dancers = len(all_dancers)\n",
    "# This version has 156 dancer pairs\n",
    "# partners = [(d1,d2)  for d1 in all_dancers for d2 in all_dancers if d1 != d2]\n",
    "partners = [(all_dancers[i],all_dancers[j])  for i in range(num_dancers) \n",
    "               for j in range(i+1,num_dancers)]\n",
    "print('='*60)\n",
    "print('Some checks on the answer')\n",
    "print(num_dancers, ('Huey', 'Jason') in partners, ('Jason','Huey') in  partners )\n",
    "print(len(partners))\n",
    "(num_dancers * (num_dancers - 1))/2 == len(partners)"
   ]
  },
  {
   "cell_type": "markdown",
   "metadata": {},
   "source": [
    "Understanding the code.  We pair Huey with all the **other** dancers."
   ]
  },
  {
   "cell_type": "code",
   "execution_count": 65,
   "metadata": {},
   "outputs": [
    {
     "name": "stdout",
     "output_type": "stream",
     "text": [
      "There are 13 dancers\n",
      "Huey is the first.\n",
      "\n",
      " 1 Huey  Fred\n",
      " 2 Huey  Jason\n",
      " 3 Huey  Ed\n",
      " 4 Huey  Albert\n",
      " 5 Huey  Louie\n",
      " 6 Huey  Susan\n",
      " 7 Huey  Paula\n",
      " 8 Huey  Barbara\n",
      " 9 Huey  Felicia\n",
      "10 Huey  Lee\n",
      "11 Huey  Sam\n",
      "12 Huey  Kim\n"
     ]
    }
   ],
   "source": [
    "huey_pairs = [p for p in partners if p[0] == 'Huey']\n",
    "print(f'There are {len(all_dancers)} dancers')\n",
    "print(f'{all_dancers[0]} is the first.')\n",
    "print()\n",
    "for (i,p) in enumerate(huey_pairs):\n",
    "    print(f'{i+1:>2} {p[0]:<5} {p[1]}')"
   ]
  },
  {
   "cell_type": "markdown",
   "metadata": {},
   "source": [
    "Next the Fred pairs.  We pair Fred with all the other dancers except Huey (because\n",
    "Fred has already been paired with Huey)."
   ]
  },
  {
   "cell_type": "code",
   "execution_count": 36,
   "metadata": {},
   "outputs": [
    {
     "name": "stdout",
     "output_type": "stream",
     "text": [
      "There are 13 dancers\n",
      "Fred is the second.\n",
      "\n",
      " 1 Fred  Jason\n",
      " 2 Fred  Ed\n",
      " 3 Fred  Albert\n",
      " 4 Fred  Louie\n",
      " 5 Fred  Susan\n",
      " 6 Fred  Paula\n",
      " 7 Fred  Barbara\n",
      " 8 Fred  Felicia\n",
      " 9 Fred  Lee\n",
      "10 Fred  Sam\n",
      "11 Fred  Kim\n"
     ]
    }
   ],
   "source": [
    "fred_pairs = [p for p in partners if p[0] == 'Fred']\n",
    "print(f'There are {len(all_dancers)} dancers')\n",
    "print(f'{all_dancers[1]} is the second.')\n",
    "print()\n",
    "for (i,p) in enumerate(fred_pairs):\n",
    "    print(f'{i+1:>2} {p[0]:<5} {p[1]}')"
   ]
  },
  {
   "cell_type": "markdown",
   "metadata": {},
   "source": [
    "And so on."
   ]
  },
  {
   "cell_type": "markdown",
   "metadata": {},
   "source": [
    "## Exercise 9"
   ]
  },
  {
   "cell_type": "markdown",
   "metadata": {},
   "source": [
    "Write a **function** `remainder_one` that takes two arguments `dividend` and `divisor`; `remainder_one`  returns `True` when the result of dividing the `dividend` by  the `divisor` has a remainder of 1, and `False` when the remainder is some other integer;`remainder_one`  should return nothing (`None`) when either argument is a non-integer.  It's okay to raise an Exception for non numbers.  The `divisor` argument should be optional and should have a default value of `3`.\n",
    "\n",
    "Here is how it should  work:\n",
    "\n",
    "```\n",
    ">>> print(remainder_one(14,3))\n",
    "False\n",
    ">>> print(remainder_one(14))\n",
    "False\n",
    ">>> print(remainder_one(16))\n",
    "True\n",
    ">>> print(remainder_one(16.0))\n",
    "True\n",
    ">>> print(remainder_one(16,2))\n",
    "False\n",
    ">>> print(remainder_one(16.1))\n",
    "None\n",
    "```\n",
    "\n",
    "How will you test if something is an integer?  Usually this test\n",
    "would work:\n",
    "\n",
    "```\n",
    ">>> isinstance(16, int)\n",
    "True\n",
    "```\n",
    "\n",
    "but it won't work here because as the examples above show, we want 16.0\n",
    "to count as an integer and it doesn't per this test:\n",
    "\n",
    "```\n",
    ">>> isinstance(16.0, int)\n",
    "False\n",
    "```\n",
    "\n",
    "Try the following idea.  If the remainder is 0 when divided by 1,\n",
    "it's an integer.\n",
    "\n",
    "Your function body can be written in 2 lines of code.  Don't worry greatly\n",
    "if it is longer than that."
   ]
  },
  {
   "cell_type": "code",
   "execution_count": 66,
   "metadata": {},
   "outputs": [],
   "source": [
    "def remainder_one (dividend, divisor=3):\n",
    "    if (dividend%1 == 0) and (divisor%1 == 0):\n",
    "        return dividend%divisor == 1"
   ]
  },
  {
   "cell_type": "code",
   "execution_count": 67,
   "metadata": {},
   "outputs": [
    {
     "name": "stdout",
     "output_type": "stream",
     "text": [
      "False\n",
      "False\n",
      "True\n",
      "True\n",
      "False\n",
      "None\n"
     ]
    }
   ],
   "source": [
    "print(remainder_one(14,3))\n",
    "print(remainder_one(14))\n",
    "print(remainder_one(16))\n",
    "print(remainder_one(16.0))\n",
    "print(remainder_one(16,2))\n",
    "print(remainder_one(16.1))"
   ]
  },
  {
   "cell_type": "markdown",
   "metadata": {},
   "source": [
    "## Exercise 10"
   ]
  },
  {
   "cell_type": "markdown",
   "metadata": {},
   "source": [
    "Write a function that converts temperatures (as\n",
    "numbers) from Fahrenheit to Celsius scale. The temperature should be\n",
    "optional and its default value should be 32.  Here are some examples showing\n",
    "how you **call** the `fahrenheit-to_celsius` function and what it returns:\n",
    "\n",
    "```\n",
    "    In [ ]:  fahrenheit_to_celsius(212)\n",
    "    Out [ ]: 100\n",
    "    In [ ]: fahrenheit_to_celsius(-40)\n",
    "    Out [ ]: -40.0\n",
    "    In [ ]:  fahrenheit_to_celsius(32)\n",
    "    Out [ ]: 0\n",
    "    In [ ]:  fahrenheit_to_celsius()\n",
    "    Out [ ]: 0    \n",
    "```\n",
    "\n",
    "Please include a cell printing out your validation tests to show you have checked your work (which of course you **always** do).   \n",
    "To create new cells to demonstrate all the examples, you hold down the `[Control]` key while pressing `M` and then typing `b` (for \"below\").\n"
   ]
  },
  {
   "cell_type": "code",
   "execution_count": 69,
   "metadata": {},
   "outputs": [],
   "source": [
    "def fahrenheit_to_celsius(f=32):\n",
    "    return (5/9) * (f-32)"
   ]
  },
  {
   "cell_type": "code",
   "execution_count": 76,
   "metadata": {},
   "outputs": [
    {
     "name": "stdout",
     "output_type": "stream",
     "text": [
      " 100.0\n",
      " -40.0\n",
      "   0.0\n",
      "Exiting loop\n",
      "   0.0\n"
     ]
    }
   ],
   "source": [
    "for temp in (212,-40,32):\n",
    "    print(f'{fahrenheit_to_celsius(temp): 6.1f}')\n",
    "print('Exiting loop')\n",
    "print(f'{fahrenheit_to_celsius(): 6.1f}')"
   ]
  },
  {
   "cell_type": "markdown",
   "metadata": {},
   "source": [
    "## Exercise 11"
   ]
  },
  {
   "cell_type": "markdown",
   "metadata": {},
   "source": [
    "Write a function that can compute the difference between two temperatures.  Assume the\n",
    "input temperatures are Fahrenheit and the output temperatures are Celsius. You should take the differences in Celsus, as shown in the examples below.   Your\n",
    "definition should **call** the `fahrenheit_to_celsius`  function you defined in the previous problem, so **don't** just copy and paste the code from there.  Assume the first argument is obligatory and then the second argument is optional.  When the second argument is omitted, just return the result of converting the first argument to Celsius.\n",
    "Show that you have checked your work, using all of the following examples.\n",
    "\n",
    "Here is how the function should work:\n",
    "\n",
    "```\n",
    "    In [ ]:  fahrenheit_to_celsius_diff(212,32)\n",
    "    Out [ ]: 100\n",
    "    In [ ]: fahrenheit_to_celsius_diff(-40, 212)\n",
    "    Out [ ]: -140.0\n",
    "    In [ ]:  fahrenheit_to_celsius_diff(212)\n",
    "    Out [ ]: 100\n",
    "    In [ ]:  fahrenheit_to_celsius_diff(212, 0)\n",
    "    Out [ ]: 117.78\n",
    "\n",
    "```\n"
   ]
  },
  {
   "cell_type": "code",
   "execution_count": 77,
   "metadata": {
    "scrolled": true
   },
   "outputs": [],
   "source": [
    "\n",
    "def fahrenheit_to_celsius_diff(f1, f2=32):\n",
    "    return fahrenheit_to_celsius(f1) - fahrenheit_to_celsius(f2)"
   ]
  },
  {
   "cell_type": "code",
   "execution_count": 81,
   "metadata": {},
   "outputs": [
    {
     "name": "stdout",
     "output_type": "stream",
     "text": [
      " 100.00\n",
      "-140.00\n",
      " 100.00\n",
      " 117.78\n"
     ]
    }
   ],
   "source": [
    "print(f'{fahrenheit_to_celsius_diff(212,32): 6.2f}')\n",
    "print(f'{fahrenheit_to_celsius_diff(-40,212): 6.2f}')\n",
    "print(f'{fahrenheit_to_celsius_diff(212): 6.2f}')\n",
    "print(f'{fahrenheit_to_celsius_diff(212,0): 6.2f}')"
   ]
  },
  {
   "cell_type": "markdown",
   "metadata": {},
   "source": [
    "JMG:  Note if you had trouble writinga version of this that **called** `fahrenheit_to_celsius`,\n",
    "it may be because your version of `fahrenheit_to_celsius` didn't use `return`,"
   ]
  },
  {
   "cell_type": "code",
   "execution_count": 38,
   "metadata": {},
   "outputs": [],
   "source": [
    "def fahrenheit_to_celsius_buggy (f=32):\n",
    "    print((5/9) * (f-32))\n",
    "\n",
    "def fahrenheit_to_celsius_diff_buggy(f1, f2=32):\n",
    "    return fahrenheit_to_celsius_buggy(f1) - fahrenheit_to_celsius_buggy(f2)"
   ]
  },
  {
   "cell_type": "markdown",
   "metadata": {},
   "source": [
    "Two things get printed out because you call `fahrenheit_to_celsius_buggy` twice.\n",
    "\n",
    "Then disaster strikes when you try to subtract the result retiurned by one\n",
    "call from the other."
   ]
  },
  {
   "cell_type": "code",
   "execution_count": 39,
   "metadata": {
    "scrolled": true
   },
   "outputs": [
    {
     "name": "stdout",
     "output_type": "stream",
     "text": [
      "100.0\n",
      "0.0\n"
     ]
    },
    {
     "ename": "TypeError",
     "evalue": "unsupported operand type(s) for -: 'NoneType' and 'NoneType'",
     "output_type": "error",
     "traceback": [
      "\u001b[0;31m---------------------------------------------------------------------------\u001b[0m",
      "\u001b[0;31mTypeError\u001b[0m                                 Traceback (most recent call last)",
      "\u001b[0;32m<ipython-input-39-21bfe1f99bd9>\u001b[0m in \u001b[0;36m<module>\u001b[0;34m\u001b[0m\n\u001b[0;32m----> 1\u001b[0;31m \u001b[0mprint\u001b[0m\u001b[0;34m(\u001b[0m\u001b[0;34mf'{fahrenheit_to_celsius_diff_buggy(212,32): 6.2f}'\u001b[0m\u001b[0;34m)\u001b[0m\u001b[0;34m\u001b[0m\u001b[0;34m\u001b[0m\u001b[0m\n\u001b[0m",
      "\u001b[0;32m<ipython-input-38-8ffadb7989c8>\u001b[0m in \u001b[0;36mfahrenheit_to_celsius_diff_buggy\u001b[0;34m(f1, f2)\u001b[0m\n\u001b[1;32m      3\u001b[0m \u001b[0;34m\u001b[0m\u001b[0m\n\u001b[1;32m      4\u001b[0m \u001b[0;32mdef\u001b[0m \u001b[0mfahrenheit_to_celsius_diff_buggy\u001b[0m\u001b[0;34m(\u001b[0m\u001b[0mf1\u001b[0m\u001b[0;34m,\u001b[0m \u001b[0mf2\u001b[0m\u001b[0;34m=\u001b[0m\u001b[0;36m32\u001b[0m\u001b[0;34m)\u001b[0m\u001b[0;34m:\u001b[0m\u001b[0;34m\u001b[0m\u001b[0;34m\u001b[0m\u001b[0m\n\u001b[0;32m----> 5\u001b[0;31m     \u001b[0;32mreturn\u001b[0m \u001b[0mfahrenheit_to_celsius_buggy\u001b[0m\u001b[0;34m(\u001b[0m\u001b[0mf1\u001b[0m\u001b[0;34m)\u001b[0m \u001b[0;34m-\u001b[0m \u001b[0mfahrenheit_to_celsius_buggy\u001b[0m\u001b[0;34m(\u001b[0m\u001b[0mf2\u001b[0m\u001b[0;34m)\u001b[0m\u001b[0;34m\u001b[0m\u001b[0;34m\u001b[0m\u001b[0m\n\u001b[0m",
      "\u001b[0;31mTypeError\u001b[0m: unsupported operand type(s) for -: 'NoneType' and 'NoneType'"
     ]
    }
   ],
   "source": [
    "print(f'{fahrenheit_to_celsius_diff_buggy(212,32): 6.2f}')"
   ]
  },
  {
   "cell_type": "markdown",
   "metadata": {},
   "source": [
    "## A potential problem:  Functions that return None"
   ]
  },
  {
   "cell_type": "markdown",
   "metadata": {},
   "source": [
    "I see a lot of solutuon to problems asking for functions to be written with the problem discussed in this section.\n",
    "\n",
    "First let's introduce `None`, which is a very important Python object with a type all its own."
   ]
  },
  {
   "cell_type": "code",
   "execution_count": 51,
   "metadata": {},
   "outputs": [],
   "source": [
    "None"
   ]
  },
  {
   "cell_type": "markdown",
   "metadata": {},
   "source": [
    "Notice evaluating the cell above does not produce an error.  Neither does anything print out.  What's happening?\n",
    "What is that thing `None`?\n",
    "\n",
    "Let's try printing `None`."
   ]
  },
  {
   "cell_type": "code",
   "execution_count": 46,
   "metadata": {
    "scrolled": false
   },
   "outputs": [
    {
     "name": "stdout",
     "output_type": "stream",
     "text": [
      "None\n"
     ]
    }
   ],
   "source": [
    "print(None)"
   ]
  },
  {
   "cell_type": "markdown",
   "metadata": {},
   "source": [
    "So it prints out as `None` a genuine object in Python, but its evaluation (what appears when you evaluate in the Python interpreter) shows up as empty output.\n",
    "\n",
    "This is the intended behavior:  `None` is the Python object returned when an empty value or no\n",
    "value is desired.\n",
    "\n",
    "One reason this is so necessary is that officially all Python functions have to return something when\n",
    "evaluated.  If the user has not specified any return value in the definition of the function,\n",
    "`None` is returned. "
   ]
  },
  {
   "cell_type": "markdown",
   "metadata": {},
   "source": [
    "This happens whenever there is no `return` statement in the definition of a function.\n",
    "\n",
    "Consider the following function."
   ]
  },
  {
   "cell_type": "code",
   "execution_count": 54,
   "metadata": {},
   "outputs": [],
   "source": [
    "def add_fn (x,y):\n",
    "    print(x+y)\n",
    "        "
   ]
  },
  {
   "cell_type": "markdown",
   "metadata": {},
   "source": [
    "This may look like a perfectly fine (perhaps unnecessary) function that does addition.\n",
    "\n",
    "But in fact all it does is print out the result of an addition.  It does not **return** the value\n",
    "of that addition.  \n",
    "\n",
    "So consider the following expression\n",
    "\n",
    "```\n",
    "3 + add_fn(2,1)\n",
    "```\n",
    "\n",
    "which intuitively should be 6."
   ]
  },
  {
   "cell_type": "code",
   "execution_count": 56,
   "metadata": {
    "scrolled": true
   },
   "outputs": [
    {
     "name": "stdout",
     "output_type": "stream",
     "text": [
      "3\n"
     ]
    },
    {
     "ename": "TypeError",
     "evalue": "unsupported operand type(s) for +: 'int' and 'NoneType'",
     "output_type": "error",
     "traceback": [
      "\u001b[0;31m---------------------------------------------------------------------------\u001b[0m",
      "\u001b[0;31mTypeError\u001b[0m                                 Traceback (most recent call last)",
      "\u001b[0;32m<ipython-input-56-27e018451df9>\u001b[0m in \u001b[0;36m<module>\u001b[0;34m\u001b[0m\n\u001b[0;32m----> 1\u001b[0;31m \u001b[0;36m3\u001b[0m \u001b[0;34m+\u001b[0m \u001b[0madd_fn\u001b[0m\u001b[0;34m(\u001b[0m\u001b[0;36m2\u001b[0m\u001b[0;34m,\u001b[0m\u001b[0;36m1\u001b[0m\u001b[0;34m)\u001b[0m\u001b[0;34m\u001b[0m\u001b[0;34m\u001b[0m\u001b[0m\n\u001b[0m",
      "\u001b[0;31mTypeError\u001b[0m: unsupported operand type(s) for +: 'int' and 'NoneType'"
     ]
    }
   ],
   "source": [
    "3 + add_fn(2,1)"
   ]
  },
  {
   "cell_type": "markdown",
   "metadata": {},
   "source": [
    "The addition results prints out, but then the calls to `add_fn` returns `None`  and since \n",
    "`None` is not the type of thing you can add to 3, there is a `TypeError`.\n",
    "\n",
    "\n",
    "Here is the fix:\n"
   ]
  },
  {
   "cell_type": "code",
   "execution_count": 58,
   "metadata": {},
   "outputs": [],
   "source": [
    "def add_fn_fixed (x,y):\n",
    "    return x+y"
   ]
  },
  {
   "cell_type": "code",
   "execution_count": 60,
   "metadata": {},
   "outputs": [
    {
     "data": {
      "text/plain": [
       "6"
      ]
     },
     "execution_count": 60,
     "metadata": {},
     "output_type": "execute_result"
    }
   ],
   "source": [
    "3 + add_fn_fixed(2,1)"
   ]
  },
  {
   "cell_type": "markdown",
   "metadata": {},
   "source": [
    "If you need to print it (for example, because it's not the last line in a cell), you still can.\n",
    "\n",
    "That look like this."
   ]
  },
  {
   "cell_type": "code",
   "execution_count": 61,
   "metadata": {
    "scrolled": true
   },
   "outputs": [
    {
     "name": "stdout",
     "output_type": "stream",
     "text": [
      "6\n"
     ]
    }
   ],
   "source": [
    "print(3 + add_fn_fixed(2,1))"
   ]
  },
  {
   "cell_type": "markdown",
   "metadata": {},
   "source": [
    "Why did 6 only appear once?  Because the expression that's the argument of `print` has value\n",
    "    6, which gets printed.  Then the function `print` returns `None`, which doesn't get printed."
   ]
  },
  {
   "cell_type": "code",
   "execution_count": null,
   "metadata": {},
   "outputs": [],
   "source": []
  },
  {
   "cell_type": "markdown",
   "metadata": {},
   "source": [
    "## Sudoku:  More list comprehension"
   ]
  },
  {
   "cell_type": "markdown",
   "metadata": {},
   "source": [
    "This is the dreaded blank page problem I promised you at the beginning of the course.\n",
    "\n",
    "You are essentially being asked to write a non-trivial function from scratch.  The functions notebook tried to give you some hints, so try to read that material before doing this.  Here we present the helper code and the problem."
   ]
  },
  {
   "cell_type": "markdown",
   "metadata": {},
   "source": [
    "For this exercise, execute the code below; we will use it, but only briefly discuss how it works. "
   ]
  },
  {
   "cell_type": "markdown",
   "metadata": {},
   "source": [
    "The code below is a simplified subset of the code defined in the functions_nb.  This version is slightly simpler than the code there and understanding this part of the code will help you complete this exercise.  You should make sure you understand how it works."
   ]
  },
  {
   "cell_type": "code",
   "execution_count": 83,
   "metadata": {},
   "outputs": [],
   "source": [
    "def cross(A, B):\n",
    "    \"\"\"\n",
    "    Cross product of elements in sequence A and elements in sequence B. \n",
    "    When a and b are strings, we just concatenate them.\n",
    "    \"\"\"\n",
    "    return [a+b for a in A for b in B]\n",
    "\n",
    "\n",
    "digits   = '123456789'\n",
    "rows     = 'ABCDEFGHI'\n",
    "cols     = digits\n",
    "squares  = cross(rows, cols)\n",
    "unitlist = ([cross(rows, c) for c in cols] +\n",
    "            [cross(r, cols) for r in rows] +\n",
    "            [cross(rs, cs) for rs in ('ABC','DEF','GHI') for cs in ('123','456','789')])\n",
    "\n",
    "# Assign to each square s A set of sets of squares\n",
    "units = dict((s, [u for u in unitlist if s in u])\n",
    "             for s in squares)\n",
    "## Assign to each square s a set of squares, namely those that cant have the same value as s.\n",
    "peers = dict((s, set(sum(units[s],[]))-set([s]))\n",
    "             for s in squares)\n",
    "\n",
    "\n",
    "def grid_values(grid):\n",
    "    \"Convert grid into a dict of {square: char} with '0' or '.' for empties.\"\n",
    "    chars = [c for c in grid if c in digits or c in '0.']\n",
    "    assert len(chars) == 81\n",
    "    return dict(list(zip(squares, chars)))\n",
    "\n",
    "digits   = '123456789'\n",
    "rows     = 'ABCDEFGHI'\n",
    "cols     = digits\n",
    "squares  = cross(rows, cols)\n",
    "unitlist = ([cross(rows, c) for c in cols] +\n",
    "            [cross(r, cols) for r in rows] +\n",
    "            [cross(rs, cs) for rs in ('ABC','DEF','GHI') for cs in ('123','456','789')])\n",
    "\n",
    "# Assign to each square s A set of sets of squares\n",
    "units = dict((s, [u for u in unitlist if s in u])\n",
    "             for s in squares)\n",
    "## Assign to each square s a set of squares, namely those that cant have the same value as s.\n",
    "peers = dict((s, set(sum(units[s],[]))-set([s]))\n",
    "             for s in squares)\n",
    "\n",
    "##############################################################################################\n",
    "#  S o m e    D a t a    t o    P r a c t i c e     O n\n",
    "##############################################################################################\n",
    "grid1  = '003020600900305001001806400008102900700000008006708200002609500800203009005010300'\n",
    "grid1_soln = '483921657967345821251876493548132976729564138136798245372689514814253769695417382'\n",
    "grid2  = '003020600900305001001806400008102900700000008006708200002689500800203009005010300'\n",
    "# Some illegal grids (they break the rules of Sudoku)\n",
    "grid3  = '003020600900305001001806400008102900700000008006708200002609500800203089005010300'\n",
    "grid4  = '003020609900305001001806400008102900700000008006708200002609500800203009005010300'\n",
    "grid5  = '003020600900305061001806400008102900700000008006708200002609500800203009005010300'"
   ]
  },
  {
   "cell_type": "markdown",
   "metadata": {},
   "source": [
    "Your assignment is to write a function that will print out `Invalid` if the grid that is\n",
    "passed in as an argument is illegal and will print out `Valid` if the grid is legal.  It should work as follows:\n",
    "\n",
    "```\n",
    "test(grid_values(grid1))\n",
    "test(grid_values(grid2))\n",
    "test(grid_values(grid3))\n",
    "test(grid_values(grid4))\n",
    "test(grid_values(grid5))\n",
    "```\n",
    "\n",
    "When you finish your code and execute the lines above, the following should print out:\n",
    "\n",
    "```\n",
    "   Valid!\n",
    "   Valid!\n",
    "   Invalid!\n",
    "   Invalid!\n",
    "   Invalid!\n",
    "```"
   ]
  },
  {
   "cell_type": "markdown",
   "metadata": {},
   "source": [
    "Here some examples and the expected answers for testing your code.  The expected\n",
    "output is shown below the cell.\n",
    "\n",
    "You miught want to test in the cell below that so as not to lose track of what the original  expected output is."
   ]
  },
  {
   "cell_type": "code",
   "execution_count": 27,
   "metadata": {},
   "outputs": [
    {
     "name": "stdout",
     "output_type": "stream",
     "text": [
      "Valid!\n",
      "Valid!\n",
      "Invalid!\n",
      "Invalid!\n",
      "Invalid!\n"
     ]
    }
   ],
   "source": [
    "\n",
    "pdict1 = grid_values(grid1)  # Valid\n",
    "pdict2 = grid_values(grid2)  # Valid\n",
    "pdict3 = grid_values(grid3)  # Invalid\n",
    "pdict4 = grid_values(grid4)  # Invalid\n",
    "pdict5 = grid_values(grid5)  # Invalid\n",
    "test(pdict1)\n",
    "test(pdict2)\n",
    "test(pdict3)\n",
    "test(pdict4)\n",
    "test(pdict5)"
   ]
  },
  {
   "cell_type": "code",
   "execution_count": 40,
   "metadata": {},
   "outputs": [],
   "source": [
    "def test(grid_values):\n",
    "    for unit in unitlist:\n",
    "        vals = [grid_values[s] for s in unit if grid_values[s] != '0']\n",
    "        # Test whether this unit contains any duplicate values\n",
    "        if len(vals) != len(set(vals)):\n",
    "            print('Invalid')\n",
    "            return False\n",
    "    print('Valid')\n",
    "    return True"
   ]
  },
  {
   "cell_type": "code",
   "execution_count": 87,
   "metadata": {},
   "outputs": [
    {
     "name": "stdout",
     "output_type": "stream",
     "text": [
      "Valid\n",
      "Valid\n",
      "Invalid\n",
      "Invalid\n",
      "Invalid\n"
     ]
    },
    {
     "data": {
      "text/plain": [
       "False"
      ]
     },
     "execution_count": 87,
     "metadata": {},
     "output_type": "execute_result"
    }
   ],
   "source": [
    "pdict1 = grid_values(grid1)  # Valid\n",
    "pdict2 = grid_values(grid2)  # Valid\n",
    "pdict3 = grid_values(grid3)  # Invalid\n",
    "pdict4 = grid_values(grid4)  # Invalid\n",
    "pdict5 = grid_values(grid5)  # Invalid\n",
    "test(pdict1)\n",
    "test(pdict2)\n",
    "test(pdict3)\n",
    "test(pdict4)\n",
    "test(pdict5)"
   ]
  },
  {
   "cell_type": "code",
   "execution_count": null,
   "metadata": {},
   "outputs": [],
   "source": []
  }
 ],
 "metadata": {
  "kernelspec": {
   "display_name": "Python 3",
   "language": "python",
   "name": "python3"
  },
  "language_info": {
   "codemirror_mode": {
    "name": "ipython",
    "version": 3
   },
   "file_extension": ".py",
   "mimetype": "text/x-python",
   "name": "python",
   "nbconvert_exporter": "python",
   "pygments_lexer": "ipython3",
   "version": "3.7.6"
  },
  "toc": {
   "base_numbering": 1,
   "nav_menu": {
    "height": "310px",
    "width": "252px"
   },
   "number_sections": true,
   "sideBar": true,
   "skip_h1_title": false,
   "title_cell": "Table of Contents",
   "title_sidebar": "Contents",
   "toc_cell": false,
   "toc_position": {},
   "toc_section_display": "block",
   "toc_window_display": false
  }
 },
 "nbformat": 4,
 "nbformat_minor": 1
}
