{
 "cells": [
  {
   "cell_type": "markdown",
   "metadata": {},
   "source": [
    "# A linear map L\n",
    "\n",
    "$$\n",
    "\\text{L}: \\left \\lbrack\\begin{array}{c}x \\\\y\\end{array}\\right\\rbrack\n",
    "\\mapsto\n",
    "\\left \\lbrack\\begin{array}{rcr}2x & + & y\\\\x  & + & 2y\\end{array}\\right\\rbrack\n",
    "$$\n",
    "\n",
    "A very good way to get a feel for what a linear map does is to plot a set of\n",
    "points.  For some maps, it is particular useful to map polygons. \n",
    "\n",
    "Below we plot what this linear map  L does to the unit square:\n"
   ]
  },
  {
   "cell_type": "code",
   "execution_count": 1,
   "metadata": {},
   "outputs": [
    {
     "data": {
      "image/png": "[encoded data removed]",
      "text/plain": [
       "<Figure size 720x360 with 2 Axes>"
      ]
     },
     "metadata": {
      "needs_background": "light"
     },
     "output_type": "display_data"
    }
   ],
   "source": [
    "#import matplotlib as mpl\n",
    "from matplotlib import pyplot as plt\n",
    "import numpy as np\n",
    "\n",
    "def LinMap (x,y):\n",
    "    \"\"\"\n",
    "    The map for the matrix:\n",
    "   \n",
    "       |2  1|\n",
    "       |1  2|    \n",
    "    \"\"\"\n",
    "    return ((2*x) + y, x + (2*y))\n",
    "\n",
    "def equalize_aspect(xints,yints,eps=.05):\n",
    "    xls, xus = zip(*xints)\n",
    "    yls, yus = zip(*yints)\n",
    "    global_xu,global_xl = max(xus),min(xls)\n",
    "    global_xint = global_xu - global_xl\n",
    "    global_yu,global_yl = max(yus),min(yls)\n",
    "    global_yint = global_yu - global_yl\n",
    "    shared_int = global_xint\n",
    "    #print(global_yint, global_xint)\n",
    "    if global_yint < global_xint:\n",
    "        global_xl= global_xu - shared_int\n",
    "    elif global_yint > global_xint:\n",
    "        shared_int = global_yint\n",
    "        global_yl= global_yu - shared_int\n",
    "    delta = shared_int * eps\n",
    "    return global_xl-delta,global_xu+delta, global_yl-delta,global_yu+delta\n",
    "\n",
    "def global_equalize_aspect(xdata,ydata):\n",
    "    def find_global_ints(data):\n",
    "        return [(vals.min(),vals.max()) for vals in data]\n",
    "    return equalize_aspect(find_global_ints(xdata),find_global_ints(ydata))\n",
    "\n",
    "def plot_mapping (X,Y, LX, LY, name = 'L',figsize=(10,5), make_equal_aspect=False):\n",
    "    \"\"\"\n",
    "    X: A an array of the X vals to be mapped, Y: an array of the Y vals.\n",
    "    \n",
    "    LX, LY the same for the mapped points.\n",
    "    \n",
    "    Gives a 1 x 2 display; show the input points next to their mapping.\n",
    "    \n",
    "    \n",
    "    \"\"\"\n",
    "  \n",
    "    if make_equal_aspect:\n",
    "        xmin,xmax,ymin,ymax = global_equalize_aspect((X,LX),(Y,LY))\n",
    "        #print(xmin,xmax,ymin,ymax)\n",
    "        lxmin,lymin,lxmax,lymax = xmin,ymin,xmax,ymax\n",
    "    else:\n",
    "        xmin,ymin,xmax,ymax = X.min(),Y.min(),X.max(),Y.max()\n",
    "        lxmin,lymin,lxmax,lymax = LX.min(),LY.min(),LX.max(),LY.max()\n",
    "    fig, (ax1, ax2) = plt.subplots(1, 2, figsize = figsize,\n",
    "                                   sharey=True,sharex=True)\n",
    "    #newx =np.arange(1.0,2.0,50)\n",
    "    #ax1.plot(newx,newx)\n",
    "    ax1.set_title('Before {0}'.format(name))\n",
    "    ax1.set_xlim(xmin,xmax)\n",
    "    ax1.set_ylim(ymin,ymax)\n",
    "    ax1.scatter(X,Y)\n",
    "    ax2.set_xlim(lxmin,lxmax)\n",
    "    ax2.set_ylim(lymin,lymax)\n",
    "    ax2.set_title('After {0}'.format(name))\n",
    "    ax2.scatter(LX,LY)\n",
    "    return fig, (ax1,ax2)\n",
    "\n",
    "def make_meshgrid (xmin=0, xmax=1, ymin=0, ymax=1, nx=25, ny=25):\n",
    "\n",
    "    \"\"\"\n",
    "    Makes a grid (a numpy 2D array).  Default: 25x25 (=625) grid \n",
    "    points.\n",
    "    \n",
    "    default values for xmin,xmax,ymin,ymax give unit square.\n",
    "    \"\"\"\n",
    "    x,y = np.linspace(xmin, xmax, nx), np.linspace(ymin, ymax, ny)\n",
    "    # Return A pair: Xcoords,Ycoords of all points in the grid\n",
    "    return np.meshgrid(x, y)\n",
    "\n",
    "def make_line_segment (vec=None, f = None, xmin=0,xmax=1,nx=25):\n",
    "    \"\"\"\n",
    "    Return a pair of xvals and yvals specifying points on the \n",
    "    line defined by either `vec` or `f`.\n",
    "    \"\"\"\n",
    "    assert not ((vec is not None) and (f is not None)), \\\n",
    "          'Must supply either a vector (vec=) or a function (f=) not both'\n",
    "    x = np.linspace(xmin, xmax, nx)\n",
    "    if f is not None:\n",
    "        return x, f(x)\n",
    "    elif vec is not None:\n",
    "        try:\n",
    "            x0,y0 = vec\n",
    "        except:\n",
    "            print('Only R2 handled now')\n",
    "        slope = y0/x0\n",
    "        return x, slope*x\n",
    "    else:\n",
    "        print('Must supply either a vector (vec=) or a function (f=)')\n",
    "        raise ValueError\n",
    "\n",
    "# Xcoords,Ycoords of all 625 grid points in the unit square\n",
    "xv, yv = make_meshgrid ()\n",
    "#xv, yv = make_meshgrid (xmin=-1,xmax=0)\n",
    "\n",
    "# taking advantage of ufunctions, map 625 points\n",
    "(sxv,syv) = LinMap(xv,yv)\n",
    "\n",
    "XX =plot_mapping (xv,yv,sxv,syv,make_equal_aspect=True)"
   ]
  },
  {
   "cell_type": "markdown",
   "metadata": {},
   "source": [
    "We get a parallelogram.  It **looks like** the sides of the square are getting\n",
    "turned into the sides of the parallelogram. And it **looks like** all the points\n",
    "inside the square are mapped to points inside the parallelogram."
   ]
  },
  {
   "cell_type": "markdown",
   "metadata": {},
   "source": [
    "## Using matrix multiplication"
   ]
  },
  {
   "cell_type": "markdown",
   "metadata": {},
   "source": [
    "We represent the map as 2x2 matrix, or in `numpy` terms, a 2D array."
   ]
  },
  {
   "cell_type": "code",
   "execution_count": 2,
   "metadata": {},
   "outputs": [
    {
     "name": "stdout",
     "output_type": "stream",
     "text": [
      "[[2 1]\n",
      " [1 2]]\n"
     ]
    }
   ],
   "source": [
    "L = np.array([[2,1],[1,2]])\n",
    "print(L)"
   ]
  },
  {
   "cell_type": "markdown",
   "metadata": {},
   "source": [
    "To map a vector we do matrix multiplication.  Let's map the upper right hand corner of the square:\n",
    "\n",
    "$$\n",
    "\\left \\lbrack\\begin{array}{c}{\\mathbf 1} \\\\{\\mathbf 1}\\end{array}\\right\\rbrack\n",
    "\\mapsto\n",
    "\\left \\lbrack\\begin{array}{rcr}\n",
    "2\\cdot{\\mathbf 1}  & + & 1\\cdot {\\mathbf 1}\\\\\n",
    "1\\cdot{\\mathbf 1}  & + & 2\\cdot {\\mathbf 1}\\end{array}\n",
    "\\right\\rbrack\n",
    "=\n",
    "\\left \\lbrack\\begin{array}{c}3 \\\\3\\end{array}\\right\\rbrack\n",
    "$$\n",
    "\n",
    "As a matrix multiplication we'd write it:\n",
    "\n",
    "$$\n",
    "\\left \\lbrack\\begin{array}{rcr}2 & 1\\\\1 & 2 \\end{array}\\right\\rbrack\n",
    "\\left \\lbrack\\begin{array}{c}{\\mathbf 1 }\\\\{\\mathbf 1}\\end{array}\\right\\rbrack\n",
    "=\n",
    "\\left \\lbrack\\begin{array}{c}3 \\\\3\\end{array}\\right\\rbrack\n",
    "$$\n"
   ]
  },
  {
   "cell_type": "markdown",
   "metadata": {},
   "source": [
    "And in `numpy`:"
   ]
  },
  {
   "cell_type": "code",
   "execution_count": 3,
   "metadata": {},
   "outputs": [
    {
     "data": {
      "text/plain": [
       "array([3, 3])"
      ]
     },
     "execution_count": 3,
     "metadata": {},
     "output_type": "execute_result"
    }
   ],
   "source": [
    "L.dot(np.array([1,1]))"
   ]
  },
  {
   "cell_type": "markdown",
   "metadata": {},
   "source": [
    "\n",
    "Let's try mapping the 4 corners of the unit square\n",
    "```\n",
    "(0,0),(0,1), (1,0), (1,1)\n",
    "```"
   ]
  },
  {
   "cell_type": "markdown",
   "metadata": {},
   "source": [
    "## Corners of the unit square"
   ]
  },
  {
   "cell_type": "markdown",
   "metadata": {},
   "source": [
    "To map multiple vectors $v_i$ create a matrix in which each\n",
    "$v_i$ is a column vector."
   ]
  },
  {
   "cell_type": "code",
   "execution_count": 4,
   "metadata": {},
   "outputs": [
    {
     "name": "stdout",
     "output_type": "stream",
     "text": [
      "[[0 0 1 1]\n",
      " [0 1 0 1]]\n"
     ]
    }
   ],
   "source": [
    "U = np.array([[0,0,1,1],[0,1,0,1]])\n",
    "print(U)"
   ]
  },
  {
   "cell_type": "markdown",
   "metadata": {},
   "source": [
    "Now use the `dot` method as before.  Each column $\\text{V}_{i}$ of $\\text{V}$  is equal to\n",
    "$\\text{L}(\\text{U}_{i})$."
   ]
  },
  {
   "cell_type": "code",
   "execution_count": 5,
   "metadata": {},
   "outputs": [
    {
     "name": "stdout",
     "output_type": "stream",
     "text": [
      "[[0 0 1 1]\n",
      " [0 1 0 1]]\n",
      "    ==>\n",
      "[[0 1 2 3]\n",
      " [0 2 1 3]]\n"
     ]
    }
   ],
   "source": [
    "V = L.dot(U)\n",
    "print(U)\n",
    "print('    ==>')\n",
    "print(V)"
   ]
  },
  {
   "cell_type": "markdown",
   "metadata": {},
   "source": [
    "`L.dot(U)` is equivalent to the standard mathematical definition of the matrix product LU."
   ]
  },
  {
   "cell_type": "markdown",
   "metadata": {},
   "source": [
    "Plot the map of the 4 corners."
   ]
  },
  {
   "cell_type": "code",
   "execution_count": 6,
   "metadata": {},
   "outputs": [
    {
     "data": {
      "text/plain": [
       "<matplotlib.collections.PathCollection at 0x7fe5200f2550>"
      ]
     },
     "execution_count": 6,
     "metadata": {},
     "output_type": "execute_result"
    },
    {
     "data": {
      "image/png": "[encoded data removed]",
      "text/plain": [
       "<Figure size 432x288 with 1 Axes>"
      ]
     },
     "metadata": {
      "needs_background": "light"
     },
     "output_type": "display_data"
    }
   ],
   "source": [
    "plt.scatter(V[0,:],V[1,:])"
   ]
  },
  {
   "cell_type": "markdown",
   "metadata": {},
   "source": [
    "As suspected, the corners of the square are mapped to the corners of the parallelogram."
   ]
  },
  {
   "cell_type": "markdown",
   "metadata": {},
   "source": [
    "To use the 2D array `L` on the 625-point meshgrid above that represents our entire square, we proceed as we\n",
    "did when plotting the four corners.  We need a 2x625 array in place of\n",
    "a 2x4 array.\n",
    "\n",
    "We flatten the  `xv` and `yv` arrays into 1D arrays (625,), and use them as \n",
    "the rows of a  2 x 625 array.\n",
    "\n",
    "Then we map 625 2D vectors by one matrix multiplication.  It's no more code than\n",
    "the Linear Map function we wrote above, but it's faster."
   ]
  },
  {
   "cell_type": "code",
   "execution_count": 79,
   "metadata": {},
   "outputs": [
    {
     "data": {
      "text/plain": [
       "(<Figure size 720x360 with 2 Axes>,\n",
       " (<AxesSubplot:title={'center':'Before L'}>,\n",
       "  <AxesSubplot:title={'center':'After L'}>))"
      ]
     },
     "execution_count": 79,
     "metadata": {},
     "output_type": "execute_result"
    },
    {
     "data": {
      "image/png": "[encoded data removed]",
      "text/plain": [
       "<Figure size 720x360 with 2 Axes>"
      ]
     },
     "metadata": {
      "needs_background": "light"
     },
     "output_type": "display_data"
    }
   ],
   "source": [
    "# equivalent to np.array([np.ravel(xv),np.ravel(yv)])\n",
    "U = np.vstack([np.ravel(xv),np.ravel(yv)])\n",
    "V = L.dot(U)\n",
    "plot_mapping (xv, yv, V[0,:], V[1,:])"
   ]
  },
  {
   "cell_type": "markdown",
   "metadata": {},
   "source": [
    "# Finding the matrix M for a linear map L"
   ]
  },
  {
   "cell_type": "markdown",
   "metadata": {},
   "source": [
    "We write ${\\mathbb R}^{2}$ for the set of all the $\\left\\lbrack \\begin{array}{c} x\\\\ y \\end{array} \\right\\rbrack$ vectors in the xy plane.  There are two vectors in ${\\mathbb R}^{2}$ of particular interest:\n",
    "\n",
    " $$\n",
    " \\begin{array}[t]{lr}\n",
    " e_{1} = \\left\\lbrack \\begin{array}{c} 1\\\\ 0\\end{array} \\right\\rbrack\n",
    " &\n",
    " e_{2} = \\left\\lbrack \\begin{array}{c} 0\\\\ 1\\end{array} \\right\\rbrack\n",
    " \\end{array}\n",
    " $$\n",
    " \n",
    " $e_{1}$ and $e_{2}$ are called the **standard basis vectors**.  \n",
    " They are computationally and mathematically interesting\n",
    " because any vector $\\left\\lbrack \\begin{array}{c} x\\\\ y \\end{array} \\right\\rbrack$  can be written\n",
    " as a **linear combination** of  $e_{1}$ and $e_{2}$ in a particularly simple way.\n",
    " \n",
    " $$\n",
    " \\begin{array}[t]{lcr}\n",
    " \\left\\lbrack \\begin{array}{c} x\\\\ y\\end{array} \\right\\rbrack\n",
    " & = & \n",
    " x \\left\\lbrack \\begin{array}{c} 1\\\\ 0\\end{array} \\right\\rbrack\n",
    " \\;+\\;\n",
    " y \\left\\lbrack \\begin{array}{c} 0\\\\ 1\\end{array} \\right\\rbrack\n",
    " \\end{array}\n",
    " $$\n",
    " \n",
    " This in turn means that the effect of any linear map  L from ${\\mathbb R}^{2}$  to ${\\mathbb R}^{2}$ \n",
    " can be written:\n",
    " \n",
    " $$\n",
    " \\begin{array}[t]{lcr}\n",
    " \\text{L} \\left ( \\left \\lbrack \\begin{array}{c} x\\\\ y\\end{array} \\right\\rbrack \\right )\n",
    " & = & \n",
    " x \\;\\text{L} \\left  ( \\left \\lbrack \\begin{array}{c} 1\\\\ 0\\end{array} \\right\\rbrack \\right )\n",
    " \\;+\\;\n",
    " y \\;\\text{L} \\left ( \\left\\lbrack \\begin{array}{c} 0\\\\ 1\\end{array} \\right\\rbrack \\right )\n",
    " \\end{array}\n",
    " $$\n",
    " \n",
    " So if we know the effect of L on $e_{1}$ and $e_{2}$, we've uniquely defined L."
   ]
  },
  {
   "cell_type": "markdown",
   "metadata": {},
   "source": [
    "Now all this is particularly helpful when it comes to finding the matrix M that represents\n",
    "a particular mapping L.  Why?  Because applying L to a vector v corresponds to \n",
    "matrix multiplying M by v, and\n",
    "under the definition of matrix multiplication, multiplication of\n",
    "any matrix by a standard basis yields one of the **columns** of the matrix.  For instance, to\n",
    "get the first column of `L`, we multiply its matrix by $e_{1}$:\n",
    "\n",
    "$$\n",
    "\\left \\lbrack\\begin{array}{rcr}2 & 1\\\\1 & 2 \\end{array}\\right\\rbrack\n",
    "\\left \\lbrack\\begin{array}{c}{\\mathbf 1 }\\\\{\\mathbf 0}\\end{array}\\right\\rbrack\n",
    "=\n",
    "\\left \\lbrack\\begin{array}{c}2 \\\\1\\end{array}\\right\\rbrack\n",
    "$$\n",
    "\n",
    "To get the second column of `L`, we multiply its matrix by $e_{2}$:\n",
    "\n",
    "$$\n",
    "\\left \\lbrack\\begin{array}{rcr}2 & 1\\\\1 & 2 \\end{array}\\right\\rbrack\n",
    "\\left \\lbrack\\begin{array}{c}{\\mathbf 0 }\\\\{\\mathbf 1}\\end{array}\\right\\rbrack\n",
    "=\n",
    "\\left \\lbrack\\begin{array}{c}1 \\\\2\\end{array}\\right\\rbrack\n",
    "$$"
   ]
  },
  {
   "cell_type": "markdown",
   "metadata": {},
   "source": [
    "In python (`numpy`):"
   ]
  },
  {
   "cell_type": "code",
   "execution_count": 12,
   "metadata": {},
   "outputs": [
    {
     "name": "stdout",
     "output_type": "stream",
     "text": [
      "[2 1]\n",
      "[1 2]\n"
     ]
    }
   ],
   "source": [
    "e1, e2 = np.array([1,0]),np.array([0,1])\n",
    "\n",
    "print(L.dot(e1))  # First col\n",
    "print(L.dot(e2))  # Second col"
   ]
  },
  {
   "cell_type": "markdown",
   "metadata": {},
   "source": [
    "In other words, to get a complete definition of the  matrix that represents any linear mapping L,\n",
    "we simply find  the results of applying L to $e_{1}$ and $e_{2}$.\n",
    "\n",
    "In the next few sections, we explore some examples implementing this idea."
   ]
  },
  {
   "cell_type": "markdown",
   "metadata": {},
   "source": [
    "## Rotation"
   ]
  },
  {
   "cell_type": "markdown",
   "metadata": {},
   "source": [
    "For example, suppose we want to rotate the plane by $30^{\\circ} = \\pi/6$.  A little trig\n",
    "show us that that moves \n",
    "\n",
    "$$\n",
    "\\left \\lbrack\\begin{array}{c}{\\mathbf 1} \\\\{\\mathbf 0}\\end{array}\\right\\rbrack\n",
    "$$\n",
    "\n",
    "to \n",
    "\n",
    "$$\n",
    "\\left \\lbrack\\begin{array}{c}\\cos \\pi / 6\\\\ \\sin\\pi / 6\\end{array}\\right\\rbrack\n",
    "$$"
   ]
  },
  {
   "cell_type": "code",
   "execution_count": 12,
   "metadata": {
    "scrolled": true
   },
   "outputs": [
    {
     "data": {
      "text/plain": [
       "<matplotlib.patches.FancyArrow at 0x7fe520c67460>"
      ]
     },
     "execution_count": 12,
     "metadata": {},
     "output_type": "execute_result"
    },
    {
     "data": {
      "image/png": "[encoded data removed]",
      "text/plain": [
       "<Figure size 720x360 with 2 Axes>"
      ]
     },
     "metadata": {
      "needs_background": "light"
     },
     "output_type": "display_data"
    }
   ],
   "source": [
    "from matplotlib import rc\n",
    "import numpy as np\n",
    "\n",
    "#rc('font', **{'family':'sansserif','sansserif':['Palatino']})\n",
    "#rc('text', usetex=True)\n",
    "theta = np.pi/6\n",
    "nx,ny = 25,25\n",
    "#ray = np.array([np.cos(theta),np.sin(theta)])\n",
    "#xs,ys = make_line_segment (vec=ray, xmin=0,xmax=np.cos(theta),nx=25)\n",
    "\n",
    "#cs = np.cos(theta) * np.ones(nx)\n",
    "#ray2 = np.linspace(0,np.sin(theta),ny)\n",
    "\n",
    "fig, (ax,ax2)  = plt.subplots(1, 2, figsize = (10,5), sharey=True,sharex=False)\n",
    "ax.set_title('Map $e_{1}$')\n",
    "ax.set_ylim(-.02,1.08)\n",
    "\n",
    "# hypotenuse\n",
    "ray = np.array([np.cos(theta),np.sin(theta)])\n",
    "xs,ys = make_line_segment (vec=ray, xmin=0,xmax=np.cos(theta),nx=25)\n",
    "ax.plot(xs,ys)\n",
    "# horizontal leg\n",
    "zs = np.zeros(nx)\n",
    "ax.plot(np.linspace(0,1,nx),zs)\n",
    "# vertical leg\n",
    "cs = np.cos(theta) * np.ones(nx)\n",
    "ray2 = np.linspace(0,np.sin(theta),ny)\n",
    "ax.plot(cs,ray2)\n",
    "\n",
    "def draw_angles (theta, ax, shrink_fac = 8, angle_gap = 1):\n",
    "    ###  Angle arc\n",
    "    angle_ts = np.linspace(0,theta,20)\n",
    "    # Leave room for an arrowhead\n",
    "    angle_xs = np.cos(angle_ts)[:-angle_gap]\n",
    "    angle_ys = np.sin(angle_ts)[:-angle_gap]\n",
    "    # Draw the teensy angle the ray makes with x-axis\n",
    "    # Adjust shrink_fac to make arc bigger/smaller\n",
    "    ax.plot(angle_xs/shrink_fac,angle_ys/shrink_fac)\n",
    "    # Circle arc\n",
    "    # Draw the big arc showing the sweep of the rotation\n",
    "    ax.plot(angle_xs,angle_ys)\n",
    "\n",
    "shrink_fac,angle_gap = 7,2\n",
    "draw_angles (theta, ax, shrink_fac=shrink_fac,angle_gap = angle_gap)\n",
    "\n",
    "\n",
    "ax.annotate(r'$\\theta$',(.075,.01))\n",
    "ax.annotate(r'cos $\\theta$',(.5,.03))\n",
    "ax.annotate(r'sin $\\theta$',(.74,.22))\n",
    "#ax.legend()\n",
    "\n",
    "def draw_arrows (theta, ax, delta_fac=.01, angle_shrink=.05, head_width=.04,\n",
    "                 head_length=.03):\n",
    "    # One on end of big rotation arc.\n",
    "    # One on the vec being rotated\n",
    "    ## Draw arrow on rotation arc\n",
    "    base_angle = theta - angle_shrink\n",
    "    dx,dy = -np.sin(base_angle)*delta_fac,np.cos(base_angle)*delta_fac\n",
    "    ax.arrow(x = np.cos(base_angle), y=np.sin(base_angle), dx=dx,dy=dy,head_width=head_width,\n",
    "             head_length=head_length, alpha=.3)\n",
    "    # draw arrow on vector\n",
    "    ax.arrow(x = 0, y=0, dx=.96,dy=0,head_width=head_width,head_length=head_length,alpha=.3)\n",
    "\n",
    "delta_fac = .01\n",
    "angle_shrink = .05\n",
    "head_width = .04\n",
    "head_length = .03\n",
    "\n",
    "draw_arrows (theta, ax, delta_fac=delta_fac, angle_shrink=angle_shrink, head_width=head_width,\n",
    "            head_length=head_length)\n",
    "########\n",
    "#Ax2\n",
    "#######\n",
    "\n",
    "ax2.set_title('Map $e_{2}$')\n",
    "e2_ax = np.pi/2\n",
    "ax2.set_xlim(-1.02,.02)\n",
    "\n",
    "# e2\n",
    "ax2.plot(np.zeros(ny), np.linspace(0,1,ny))\n",
    "# hypotenuse\n",
    "e2_ray = np.array([np.cos(e2_ax + theta),np.sin(e2_ax + theta)])\n",
    "e2_xs,e2_ys = make_line_segment (vec=e2_ray, xmin=np.cos(e2_ax+theta),xmax=0,nx=25)\n",
    "ax2.plot(e2_xs,e2_ys)\n",
    "\n",
    "# horizontal leg\n",
    "e2_zs = np.zeros(nx)\n",
    "ax2.plot(np.linspace(-np.sin(theta),0,nx),e2_zs)\n",
    "# vertical leg\n",
    "e2_cs = -np.sin(theta) * np.ones(nx)\n",
    "e2_ray2 = np.linspace(0,np.cos(theta),ny)\n",
    "ax2.plot(e2_cs,e2_ray2)\n",
    "\n",
    "###  Angle arc  # Too many change to use draw angles\n",
    "e2_shrink_fac, e2_angle_gap = 5,1\n",
    "e2_angle_ts = np.linspace(0,theta,20)\n",
    "e2_angle_xs = np.sin(e2_angle_ts)[:-e2_angle_gap]\n",
    "e2_angle_ys = np.cos(e2_angle_ts)[:-e2_angle_gap]\n",
    "ax2.plot(-e2_angle_xs/e2_shrink_fac,e2_angle_ys/e2_shrink_fac)\n",
    "###  Angle arc\n",
    "# Circle arc\n",
    "ax2.plot(-e2_angle_xs,e2_angle_ys)\n",
    "\n",
    "ax2.annotate(r'$\\theta$',(-.045,.1))\n",
    "ax2.annotate(r'- sin $\\theta$',(-.29,.03))\n",
    "ax2.annotate(r'cos $\\theta$',(-.49,.28))\n",
    "\n",
    "## Draw arrow\n",
    "delta_fac = .01\n",
    "angle_shrink = .04\n",
    "base_angle = e2_ax + theta - angle_shrink\n",
    "dx,dy = -np.sin(base_angle)*delta_fac,np.cos(base_angle)*delta_fac\n",
    "ax2.arrow(x = np.cos(base_angle), y=np.sin(base_angle), dx=dx,dy=dy,head_width=.04,head_length=.03,alpha=.3)\n",
    "ax2.arrow(x = 0, y=0, dx=0,dy=.96,head_width=.04,head_length=.03,alpha=.3)"
   ]
  },
  {
   "cell_type": "code",
   "execution_count": 151,
   "metadata": {},
   "outputs": [],
   "source": [
    "fig.savefig('rotating_bases.png')"
   ]
  },
  {
   "cell_type": "markdown",
   "metadata": {},
   "source": [
    "Code for just e2"
   ]
  },
  {
   "cell_type": "code",
   "execution_count": 13,
   "metadata": {},
   "outputs": [
    {
     "data": {
      "text/plain": [
       "<matplotlib.patches.FancyArrow at 0x7fe520b0f0a0>"
      ]
     },
     "execution_count": 13,
     "metadata": {},
     "output_type": "execute_result"
    },
    {
     "data": {
      "image/png": "[encoded data removed]",
      "text/plain": [
       "<Figure size 360x360 with 1 Axes>"
      ]
     },
     "metadata": {
      "needs_background": "light"
     },
     "output_type": "display_data"
    }
   ],
   "source": [
    "fig, ax = plt.subplots(1, 1, figsize = (5,5), sharey=True,sharex=True)\n",
    "ax.set_title('Map $e_{2}$')\n",
    "e2_ax = np.pi/2\n",
    "ax.set_xlim(-1.02,.02)\n",
    "\n",
    "# e2\n",
    "ax.plot(np.zeros(ny), np.linspace(0,1,ny))\n",
    "# hypotenuse\n",
    "e2_ray = np.array([np.cos(e2_ax + theta),np.sin(e2_ax + theta)])\n",
    "e2_xs,e2_ys = make_line_segment (vec=e2_ray, xmin=np.cos(e2_ax+theta),xmax=0,nx=25)\n",
    "ax.plot(e2_xs,e2_ys)\n",
    "\n",
    "# horizontal leg\n",
    "e2_zs = np.zeros(nx)\n",
    "ax.plot(np.linspace(-np.sin(theta),0,nx),e2_zs)\n",
    "# vertical leg\n",
    "e2_cs = -np.sin(theta) * np.ones(nx)\n",
    "e2_ray2 = np.linspace(0,np.cos(theta),ny)\n",
    "ax.plot(e2_cs,e2_ray2)\n",
    "\n",
    "###  Angle arc\n",
    "e2_shrink_fac = 5\n",
    "e2_angle_ts = np.linspace(0,theta,20)\n",
    "e2_angle_xs = np.sin(e2_angle_ts)\n",
    "e2_angle_ys = np.cos(e2_angle_ts)\n",
    "ax.plot(-e2_angle_xs/e2_shrink_fac,e2_angle_ys/e2_shrink_fac)\n",
    "###  Angle arc\n",
    "\n",
    "# Circle arc\n",
    "ax.plot(-e2_angle_xs,e2_angle_ys)\n",
    "\n",
    "ax.annotate(r'$\\theta$',(-.04,.1))\n",
    "ax.annotate(r'- sin $\\theta$',(-.29,.03))\n",
    "ax.annotate(r'cos $\\theta$',(-.49,.28))\n",
    "\n",
    "## Draw arrow\n",
    "delta_fac = .01\n",
    "dx,dy = -np.sin(e2_ax+theta)*delta_fac,np.cos(e2_ax+theta)*delta_fac\n",
    "ax.arrow(x = np.cos(e2_ax+theta), y=np.sin(e2_ax+theta), dx=dx,dy=dy,head_width=.04,head_length=.03,alpha=.3)"
   ]
  },
  {
   "cell_type": "markdown",
   "metadata": {},
   "source": [
    "Similarly, \n",
    "\n",
    "$$\n",
    "\\left \\lbrack\\begin{array}{c}{\\mathbf 0} \\\\{\\mathbf 1}\\end{array}\\right\\rbrack\n",
    "$$\n",
    "\n",
    "goes to\n",
    "\n",
    "\n",
    "$$\n",
    "\\left \\lbrack\\begin{array}{ccc} - \\sin \\pi / 6\\\\ \\hspace{8pt}  \\cos \\pi / 6\\end{array}\\right\\rbrack\n",
    "$$\n",
    "\n",
    "We now know both columns of our 2x2 rotation matrix:\n",
    "\n",
    "$$\n",
    "\\left \\lbrack\\begin{array}{ccc}\n",
    "\\cos \\pi / 6 & - \\sin \\pi / 6 \\\\ \n",
    "\\sin\\pi / 6  &  \\hspace{8pt}\\cos \\pi/6\n",
    "\\end{array}\\right\\rbrack\n",
    "$$"
   ]
  },
  {
   "cell_type": "markdown",
   "metadata": {},
   "source": [
    "So we take it out for a spin with the unit square"
   ]
  },
  {
   "cell_type": "code",
   "execution_count": 29,
   "metadata": {},
   "outputs": [],
   "source": [
    "theta = np.pi/6\n",
    "\n",
    "def rotation_matrix (theta):\n",
    "    return np.array([[np.cos(theta),-np.sin(theta)],[np.sin(theta),np.cos(theta)]])\n",
    "\n",
    "theta = np.pi/6\n",
    "R = rotation_matrix(theta)"
   ]
  },
  {
   "cell_type": "code",
   "execution_count": 19,
   "metadata": {
    "scrolled": false
   },
   "outputs": [
    {
     "data": {
      "image/png": "[encoded data removed]",
      "text/plain": [
       "<Figure size 720x360 with 2 Axes>"
      ]
     },
     "metadata": {
      "needs_background": "light"
     },
     "output_type": "display_data"
    }
   ],
   "source": [
    "xv, yv = make_meshgrid (xmin=-1,xmax=0)\n",
    "U = np.vstack([np.ravel(xv),np.ravel(yv)])\n",
    "V = R.dot(U)\n",
    "XX = plot_mapping (xv, yv, V[0,:], V[1,:],name='R',make_equal_aspect=True)"
   ]
  },
  {
   "cell_type": "markdown",
   "metadata": {},
   "source": [
    "You can look at this picture and see very clearly what one vector gets mapped to itself by the\n",
    "rotation (such a vector is called a **fixed point**).\n",
    "\n",
    "$$\\left \\lbrack\\begin{array}{c}{\\mathbf 0} \\\\{\\mathbf 0}\\end{array}\\right\\rbrack.$$\n",
    "\n",
    "And this is good because it's a theorem about linear maps that 0 is a fixed point.\n",
    "\n",
    "Try rotating rectangles for clearer visualization"
   ]
  },
  {
   "cell_type": "code",
   "execution_count": 20,
   "metadata": {},
   "outputs": [
    {
     "data": {
      "image/png": "[encoded data removed]",
      "text/plain": [
       "<Figure size 720x360 with 2 Axes>"
      ]
     },
     "metadata": {
      "needs_background": "light"
     },
     "output_type": "display_data"
    }
   ],
   "source": [
    "theta = np.pi/6\n",
    "R = rotation_matrix(theta)\n",
    "#xv, yv = make_meshgrid (xmin=0,xmax=2,ymin=0,ymax = 1,nx =50)\n",
    "xv, yv = make_meshgrid (xmin=-2,xmax=0,ymin=0,ymax = 1,nx =50)\n",
    "U = np.vstack([np.ravel(xv),np.ravel(yv)])\n",
    "V = R.dot(U)\n",
    "XX = plot_mapping (xv, yv, V[0,:], V[1,:], name='R' ,make_equal_aspect=True)"
   ]
  },
  {
   "cell_type": "markdown",
   "metadata": {},
   "source": [
    "## Dilation"
   ]
  },
  {
   "cell_type": "markdown",
   "metadata": {},
   "source": [
    "Now, still thinking in terms of what happens to a polygon, in particular a square, suppose we want to grow our square **bigger**.   Say, we want to double the lengths of the sides.\n",
    "\n",
    "Again we look at the results of performing those tasks on\n",
    "\n",
    "$$\n",
    "\\left \\lbrack\\begin{array}{c}{\\mathbf 1} \\\\{\\mathbf 0}\\end{array}\\right\\rbrack\n",
    "$$\n",
    "\n",
    "and\n",
    "\n",
    "$$\n",
    "\\left \\lbrack\\begin{array}{c}{\\mathbf 0} \\\\{\\mathbf 1}\\end{array}\\right\\rbrack\n",
    "$$\n",
    "\n",
    "For doubling lengths we want \n",
    "\n",
    "$$\n",
    "\\left \\lbrack\\begin{array}{c}{\\mathbf 1} \\\\{\\mathbf 0}\\end{array}\\right\\rbrack\n",
    "$$\n",
    "\n",
    "to go to\n",
    "\n",
    "$$\n",
    "\\left \\lbrack\\begin{array}{c} 2\\\\ 0\\end{array}\\right\\rbrack\n",
    "$$\n",
    "\n",
    "Similarly, \n",
    "\n",
    "$$\n",
    "\\left \\lbrack\\begin{array}{c}{\\mathbf 0} \\\\{\\mathbf 1}\\end{array}\\right\\rbrack\n",
    "$$\n",
    "\n",
    "goes to\n",
    "\n",
    "\n",
    "$$\n",
    "\\left \\lbrack\\begin{array}{ccc} 0\\\\ 2\\end{array}\\right\\rbrack\n",
    "$$\n",
    "\n",
    "And soi our 2x2 scaling matrix is\n",
    "\n",
    "$$\n",
    "\\left \\lbrack\\begin{array}{ccc}\n",
    "2 & 0\\\\ \n",
    "0 &  2\n",
    "\\end{array}\\right\\rbrack\n",
    "$$"
   ]
  },
  {
   "cell_type": "code",
   "execution_count": 75,
   "metadata": {
    "scrolled": false
   },
   "outputs": [
    {
     "data": {
      "text/plain": [
       "(<Figure size 720x360 with 2 Axes>,\n",
       " (<AxesSubplot:title={'center':'Before R'}>,\n",
       "  <AxesSubplot:title={'center':'After R'}>))"
      ]
     },
     "execution_count": 75,
     "metadata": {},
     "output_type": "execute_result"
    },
    {
     "data": {
      "image/png": "[encoded data removed]",
      "text/plain": [
       "<Figure size 720x360 with 2 Axes>"
      ]
     },
     "metadata": {
      "needs_background": "light"
     },
     "output_type": "display_data"
    }
   ],
   "source": [
    "S= np.array([[2,0],[0,2]])\n",
    "xv, yv = make_meshgrid (xmin=0,xmax=1,ymin=0,ymax = 1,nx =25)\n",
    "U = np.vstack([np.ravel(xv),np.ravel(yv)])\n",
    "V = S.dot(U)\n",
    "plot_mapping (xv, yv, V[0,:], V[1,:],name='R')"
   ]
  },
  {
   "cell_type": "markdown",
   "metadata": {},
   "source": [
    "Oops!  We scaled the square so much our pixels are showing! But the lengths do seem to have\n",
    "doubled in size, as desired.  To get rid of the sudden pixel assault, we just rev up our resolution."
   ]
  },
  {
   "cell_type": "code",
   "execution_count": 39,
   "metadata": {},
   "outputs": [
    {
     "data": {
      "text/plain": [
       "(<Figure size 720x360 with 2 Axes>,\n",
       " (<AxesSubplot:title={'center':'Before R'}>,\n",
       "  <AxesSubplot:title={'center':'After R'}>))"
      ]
     },
     "execution_count": 39,
     "metadata": {},
     "output_type": "execute_result"
    },
    {
     "data": {
      "image/png": "[encoded data removed]",
      "text/plain": [
       "<Figure size 720x360 with 2 Axes>"
      ]
     },
     "metadata": {
      "needs_background": "light"
     },
     "output_type": "display_data"
    }
   ],
   "source": [
    "S= np.array([[2,0],[0,2]])\n",
    "xv, yv = make_meshgrid (xmin=0,xmax=1,ymin=0,ymax = 1,nx =60,ny=60)\n",
    "U = np.vstack([np.ravel(xv),np.ravel(yv)])\n",
    "V = S.dot(U)\n",
    "plot_mapping (xv, yv, V[0,:], V[1,:],name='R')"
   ]
  },
  {
   "cell_type": "markdown",
   "metadata": {},
   "source": [
    "## Composition of Linear Maps"
   ]
  },
  {
   "cell_type": "markdown",
   "metadata": {},
   "source": [
    "Now suppose we want to grow our square U by some factor\n",
    "and then rotate it by some  angle $\\theta$.\n",
    "\n",
    "Using the examples above where the angle is $\\pi/6$ and the factor is two, we could just do this:\n",
    "\n",
    "$$\n",
    "\\left \\lbrack\\begin{array}{ccc}\n",
    "\\cos \\pi / 6 & - \\sin \\pi / 6 \\\\ \n",
    "\\sin\\pi / 6  &  \\hspace{8pt}\\cos \\pi/6\n",
    "\\end{array}\\right\\rbrack\n",
    "\\left ( \\left \\lbrack\\begin{array}{ccc}\n",
    "2 & 0\\\\ \n",
    "0 &  2\n",
    "\\end{array}\\right\\rbrack (\\text{U})  \\right )\n",
    "$$\n",
    "\n",
    "Now the math book tells us matrix multiplication is associative.  That means the above is \n",
    "equivalent to:\n",
    "\n",
    "$$\n",
    "\\left ( \\left \\lbrack\\begin{array}{ccc}\n",
    "\\cos \\pi / 6 & - \\sin \\pi / 6 \\\\ \n",
    "\\sin\\pi / 6  &  \\hspace{8pt}\\cos \\pi/6\n",
    "\\end{array}\\right\\rbrack\n",
    "\\left \\lbrack\\begin{array}{ccc}\n",
    "2 & 0\\\\ \n",
    "0 &  2\n",
    "\\end{array}\\right\\rbrack  \\right ) (\\text{U})  \n",
    "$$\n",
    "\n",
    "The key point here is that if we want to find the matrix that **composes** (combines the effects of) two\n",
    "linear mappings L${}_{1}$ and L${}_{2}$, we just need to matrix multiply their matrices:\n",
    "\n",
    "$$\n",
    "\\left \\lbrack\\begin{array}{ccc}\n",
    "\\cos \\pi / 6 & - \\sin \\pi / 6 \\\\ \n",
    "\\sin\\pi / 6  &  \\hspace{8pt}\\cos \\pi/6\n",
    "\\end{array}\\right\\rbrack\n",
    "\\left \\lbrack\\begin{array}{ccc}\n",
    "2 & 0\\\\ \n",
    "0 &  2\n",
    "\\end{array}\\right\\rbrack \n",
    "= \n",
    "\\left \\lbrack\\begin{array}{ccc}\n",
    "2 \\cos \\pi / 6 & - 2 \\sin \\pi / 6 \\\\ \n",
    "2 \\sin\\pi / 6  &  \\hspace{8pt}2 \\cos \\pi/6\n",
    "\\end{array}\\right\\rbrack\n",
    "$$\n"
   ]
  },
  {
   "cell_type": "code",
   "execution_count": 40,
   "metadata": {
    "scrolled": true
   },
   "outputs": [
    {
     "data": {
      "image/png": "[encoded data removed]",
      "text/plain": [
       "<Figure size 720x360 with 2 Axes>"
      ]
     },
     "metadata": {
      "needs_background": "light"
     },
     "output_type": "display_data"
    }
   ],
   "source": [
    "C = R.dot(S)\n",
    "xmin,xmax = -1,0\n",
    "xv, yv = make_meshgrid (xmin=xmin,xmax=xmax,ymin=0,ymax = 1,nx =50,ny=50)\n",
    "U = np.vstack([np.ravel(xv),np.ravel(yv)])\n",
    "V = C.dot(U)\n",
    "fig, (ax1,ax2) = plot_mapping (xv, yv, V[0,:], V[1,:],name='R',make_equal_aspect=True)\n"
   ]
  },
  {
   "cell_type": "markdown",
   "metadata": {},
   "source": [
    "## Reflection"
   ]
  },
  {
   "cell_type": "markdown",
   "metadata": {},
   "source": [
    "To use what we know about composing linear maps, we tackle problem of reflection around\n",
    "the line  L which goes through the origin and makes the angle $\\theta$ with the x-axis.\n",
    "\n",
    "\n",
    "Let's start with something simple, then compose our way\n",
    "upward. First suppose we want to reflect a vector v \n",
    "around the x axis. Then any vector on the x-axis remains unchanged so in\n",
    "particular,\n",
    "\n",
    "\n",
    "$$\n",
    "\\left \\lbrack\\begin{array}{c}{\\mathbf 1} \\\\{\\mathbf 0}\\end{array}\\right\\rbrack\n",
    "$$\n",
    "\n",
    "maps to \n",
    "\n",
    "$$\n",
    "\\left \\lbrack\\begin{array}{c} 1\\\\ 0\\end{array}\\right\\rbrack\n",
    "$$\n",
    " \n",
    "But\n",
    " \n",
    "$$\n",
    "\\left \\lbrack\\begin{array}{c}{\\mathbf 0} \\\\{\\mathbf 1}\\end{array}\\right\\rbrack\n",
    "$$\n",
    "\n",
    "gets flipped around the x-axis so, it maps to \n",
    "\n",
    "$$\n",
    "\\left \\lbrack\\begin{array}{c} \\hspace{6pt}0\\\\ -1\\end{array}\\right\\rbrack .\n",
    "$$\n",
    " \n",
    " \n",
    "Now we know both columns of our 2x2 rotation matrix:\n",
    "\n",
    "$$\n",
    "\\left \\lbrack\\begin{array}{ccc}\n",
    "1 & \\hspace{8pt}0 \\\\ \n",
    "0& -1\n",
    "\\end{array}\\right\\rbrack\n",
    "$$\n",
    "\n",
    "Call this map $T_{x}$.\n",
    "\n",
    "But suppose we don't want to reflect the vector v around the x-axis.  Suppose as we said\n",
    "initially, wa want to reflect \n",
    " around the line  L which makes the angle $\\theta$ with the x-axis.\n",
    "\n",
    "Our plan is as follows.  We rotate the entire plane $-\\theta$, so that L coincides with the x axis, we\n",
    "reflect (because now we know how to do that), then we rotate back $\\theta$.\n",
    "\n",
    "Using $R_{\\theta}$ for a rotation of $\\theta$, that means our map is\n",
    "\n",
    "$$\n",
    "\\text{R}_{\\theta}\\text{T}_{x}\\text{R}_{-\\theta}\n",
    "$$\n",
    "\n",
    "Writing this out as a matrix multiplication, it's\n",
    "\n",
    "\n",
    "$$\n",
    "\\left \\lbrack\\begin{array}{ccc}\n",
    "\\cos  \\theta & - \\sin \\theta\\\\ \n",
    "\\sin \\theta &  \\hspace{8pt}\\cos \\theta\n",
    "\\end{array}\\right\\rbrack\n",
    "\\left \\lbrack\\begin{array}{ccc}\n",
    "1 & 0\\\\ \n",
    "0 &  -1\n",
    "\\end{array}\\right\\rbrack\n",
    "\\left \\lbrack\\begin{array}{ccc}\n",
    "\\cos  - \\theta & - \\sin - \\theta \\\\ \n",
    "\\sin - \\theta  &  \\hspace{8pt}\\cos -\\theta\n",
    "\\end{array}\\right\\rbrack,\n",
    "$$\n",
    "\n",
    "which is\n",
    "\n",
    "\n",
    "$$\n",
    "\\left \\lbrack\\begin{array}{ccc}\n",
    "\\cos  \\theta & \\hspace{8pt}\\sin \\theta  \\\\ \n",
    "\\sin \\theta  &  -\\cos \\theta\n",
    "\\end{array}\\right\\rbrack\n",
    "\\left \\lbrack\\begin{array}{ccc}\n",
    "1 & 0\\\\ \n",
    "0 &  -1\n",
    "\\end{array}\\right\\rbrack\n",
    "\\left \\lbrack\\begin{array}{ccc}\n",
    "\\cos  \\theta & \\sin \\theta \\\\ \n",
    "- \\sin \\theta  &  \\hspace{8pt}\\cos \\theta\n",
    "\\end{array}\\right\\rbrack,\n",
    "$$\n",
    "\n",
    "which is\n",
    "\n",
    "$$\n",
    "\\left \\lbrack\\begin{array}{ll}\n",
    "\\cos  \\theta & - \\sin \\theta \\\\ \n",
    "\\sin \\theta &  \\hspace{8pt}\\cos \\theta\n",
    "\\end{array}\\right\\rbrack\n",
    "\\left \\lbrack\\begin{array}{ll}\n",
    "\\cos  \\theta & \\hspace{8pt}\\sin \\theta \\\\ \n",
    "\\sin \\theta &  -\\cos \\theta\n",
    "\\end{array}\\right\\rbrack\n",
    "=\n",
    "\\left \\lbrack\\begin{array}{ll}\n",
    "\\cos^2  \\theta - \\sin^2  \\theta & 2 \\cos \\theta \\;\\sin \\theta\\\\ \n",
    "2 \\cos \\theta \\;\\sin \\theta & \\sin^2  \\theta - \\cos^2  \\theta\\\\ \n",
    "\\end{array}\\right\\rbrack\n",
    "=\n",
    "\\left \\lbrack\\begin{array}{ll}\n",
    "\\cos  2\\theta  & \\hspace{8pt}\\sin 2\\theta\\\\ \n",
    "\\sin 2\\theta & - \\cos 2  \\theta\\\\ \n",
    "\\end{array}\\right\\rbrack\n",
    "$$\n",
    "\n",
    "The last step uses some well-known trigonmetric identities.  This looks like, but is not the same as, the matrix for rotation by $2\\theta$. In fact what is is a reflection followed by a rotation of $2\\theta$\n",
    "\n",
    "$$\n",
    "\\left \\lbrack\\begin{array}{ll}\n",
    "\\cos  2\\theta  & \\hspace{8pt}\\sin 2\\theta\\\\ \n",
    "\\sin 2\\theta & - \\cos 2  \\theta\\\\ \n",
    "\\end{array}\\right\\rbrack\n",
    "=\n",
    "\\left \\lbrack\\begin{array}{ll}\n",
    "\\cos  2\\theta & -\\sin 2\\theta \\\\ \n",
    "\\sin 2\\theta &  \\hspace{8pt}\\cos 2\\theta\n",
    "\\end{array}\\right\\rbrack\n",
    "\\left \\lbrack\\begin{array}{ll}\n",
    "1& \\hspace{6pt}0\\\\ \n",
    "0&  -1\n",
    "\\end{array}\\right\\rbrack\n",
    "$$\n",
    "\n",
    "With the help of a diagram, it is fairly easy to see that this another sequence of transformations equivalent\n",
    "to reflection around L."
   ]
  },
  {
   "cell_type": "markdown",
   "metadata": {},
   "source": [
    "Here is a function returning the reflection acroos the theta line as a matrix and \n",
    "example reflections of two points."
   ]
  },
  {
   "cell_type": "code",
   "execution_count": 3,
   "metadata": {},
   "outputs": [
    {
     "data": {
      "image/png": "[encoded data removed]",
      "text/plain": [
       "<Figure size 500x500 with 1 Axes>"
      ]
     },
     "metadata": {},
     "output_type": "display_data"
    }
   ],
   "source": [
    "import numpy as np\n",
    "from matplotlib import pyplot as plt\n",
    "\n",
    "def reflection_matrix (theta):\n",
    "    \"\"\"\n",
    "    If R_{\\theta} is rotation by theta and T_{x} is reflection across the x-axis, then reflection is\n",
    "    \n",
    "    R_{\\theta} T_{x}  R_{-\\theta}\n",
    "    \n",
    "    Once the matrix multiplications for these three transformations are carried out, this turns\n",
    "    out to be equivalent to the following matrix.\n",
    "    \"\"\"\n",
    "    two_theta = 2*theta\n",
    "    return np.array([[np.cos(two_theta),np.sin(two_theta)],[np.sin(two_theta),- np.cos(two_theta)]])\n",
    "\n",
    "def hyp(x,theta):\n",
    "    \"\"\"\"\n",
    "    len of hyp of right triangle with angle theta\n",
    "    when adjacent side has len x. Similar triangles gives\n",
    "    \n",
    "    1/cos(theta) =  hyp/x => hyp = x/cos(theta)\n",
    "    \"\"\"\n",
    "    return x/np.cos(theta)\n",
    "\n",
    "theta = np.pi/6\n",
    "# The reflection matrix\n",
    "R = reflection_matrix(theta)\n",
    "\n",
    "# The pts to be reflected. (2,1) & (3,1)\n",
    "pt = np.array([[1,2,3],[2,1,1]])\n",
    "# Reflecting it\n",
    "mapped = R.dot(pt)\n",
    "#  Plottimng code\n",
    "fig, ax1 = plt.subplots(1, 1, figsize = (5,5),\n",
    "                                   sharey=True,sharex=True)\n",
    "ax1.set_xlim(-.5,3.5)\n",
    "ax1.set_ylim(-.5,3.5)\n",
    "U = np.hstack([pt,mapped])\n",
    "xr = np.arange(-.1,3.44,step=.01)\n",
    "#  Let's put the reflection line in the picture\n",
    "LL = ax1.plot(xr,hyp(xr,theta)*np.sin(theta),c='r')\n",
    "MM = ax1.scatter(U[0,:],U[1,:])"
   ]
  },
  {
   "cell_type": "code",
   "execution_count": 79,
   "metadata": {},
   "outputs": [
    {
     "data": {
      "text/plain": [
       "((2, 3), (2, 3), (2, 6))"
      ]
     },
     "execution_count": 79,
     "metadata": {},
     "output_type": "execute_result"
    }
   ],
   "source": [
    "pt.shape,mapped.shape,U.shape"
   ]
  },
  {
   "cell_type": "code",
   "execution_count": 69,
   "metadata": {},
   "outputs": [
    {
     "data": {
      "image/png": "[encoded data removed]",
      "text/plain": [
       "<Figure size 720x360 with 2 Axes>"
      ]
     },
     "metadata": {
      "needs_background": "light"
     },
     "output_type": "display_data"
    }
   ],
   "source": [
    "xv, yv = make_meshgrid (xmin=0,xmax=1,ymin=0,ymax = 1,nx =50,ny=50)\n",
    "U = np.vstack([np.ravel(xv),np.ravel(yv)])\n",
    "V = R.dot(U)\n",
    "fig, (ax1,ax2) = plot_mapping (xv, yv, V[0,:], V[1,:], name='R',make_equal_aspect=True)\n",
    "xr = np.arange(-.1,1.44,step=.01)\n",
    "#LL =ax1.plot(xr,(xr)*np.sin(theta),c='k')\n",
    "LL =ax1.plot(xr,hyp(xr,theta)*np.sin(theta),c='r')\n",
    "\n",
    "LL =ax2.plot(xr,hyp(xr,theta)*np.sin(theta),c='r')"
   ]
  },
  {
   "cell_type": "markdown",
   "metadata": {},
   "source": [
    "When theta = 0 we get reflectiuon on the x-axis."
   ]
  },
  {
   "cell_type": "code",
   "execution_count": 70,
   "metadata": {},
   "outputs": [
    {
     "data": {
      "image/png": "[encoded data removed]",
      "text/plain": [
       "<Figure size 504x360 with 2 Axes>"
      ]
     },
     "metadata": {
      "needs_background": "light"
     },
     "output_type": "display_data"
    }
   ],
   "source": [
    "theta = 0\n",
    "R = reflection_matrix(theta)\n",
    "xv, yv = make_meshgrid (xmin=-1,xmax=0,ymin=0,ymax = 1,nx =50,ny=50)\n",
    "U = np.vstack([np.ravel(xv),np.ravel(yv)])\n",
    "V = R.dot(U)\n",
    "XX = plot_mapping (xv, yv, V[0,:], V[1,:], name='R',figsize=(7,5),make_equal_aspect=True)"
   ]
  },
  {
   "cell_type": "markdown",
   "metadata": {},
   "source": [
    "## More complex shapes"
   ]
  },
  {
   "cell_type": "code",
   "execution_count": 31,
   "metadata": {},
   "outputs": [],
   "source": [
    "from PIL import ImageDraw,Image,ImageFont\n",
    "import numpy as np\n",
    "\n",
    "def make_text_image_array(unicode_text, font_file=None,font_dir= r'/Library/Fonts/',\n",
    "                          font_family='Arial', font_type = 'ttf',\n",
    "                          sz=48,w_marg=40,h_marg=40):\n",
    "    if font_file is None:\n",
    "        base = r'{font_family} Unicode.{font_type}'\n",
    "        font_file = os.path.join(font_dir, base)\n",
    "    font = ImageFont.truetype(font_file, sz, encoding=\"unic\")\n",
    "    text_width, text_height = font.getsize(unicode_text)\n",
    "    canvas = Image.new('RGB', (text_width + 20, text_height + 20), \"white\")\n",
    "    # Make an artist instance linked to that canvass\n",
    "    draw = ImageDraw.Draw(canvas)\n",
    "    draw.text((10,10), unicode_text, 'blue', font)    \n",
    "    img_arr = np.array(canvas.im)\n",
    "    (width,height) = canvas.size\n",
    "    # Transposing gives inverted letter\n",
    "    return img_arr[:,0].reshape(height,width).T\n",
    "\n",
    "def img_array_to_coords(img_array, xdelta = -10, ydelta=60):\n",
    "    \"\"\"\n",
    "    Convert to coords.\n",
    "    \n",
    "    Reflect the image on the X-axis (because the letter will be inmverted).\n",
    "    \n",
    "    Add enough delta to bring the entire letter above the X axis.\n",
    "    \"\"\"\n",
    "    (r,c) = img_array.shape\n",
    "    # 255 = white.  Get the coords of the non white pixels\n",
    "    coords = [(i,j) for i in range (r) for j in range(c) if img_array[i,j] < 255]\n",
    "    xvals,yvals = zip(*coords)\n",
    "    #  We subtract the ydeltas because we're doing this BEFORE the reflection on X-axis\n",
    "    #  A subtracted positive ydelta WILL turn into an upward movement after reflection\n",
    "    U = np.vstack([np.array(xvals)+xdelta,np.array(yvals)-ydelta])\n",
    "    # Reflection transformation: reflect on X-axis to get rightside up A\n",
    "    Rf = np.array([[1,0],[0,-1]])\n",
    "   \n",
    "    return Rf.dot(U) #+ delta\n",
    " \n",
    "def make_smiley (radius = 2):\n",
    "    xran = np.arange(0,2*np.pi,step=.01)\n",
    "    xvals,yvals = radius*np.cos(xran),radius*np.sin(xran)\n",
    "    face_array = np.vstack([xvals,yvals])\n",
    "    #print(face_array.shape)\n",
    "    smile_rad = .7 * radius\n",
    "    smile_ran = np.arange((4*np.pi)/3,(5*np.pi)/3,step=.01)\n",
    "    #print(smile_ran.shape)\n",
    "    xsmilevals,ysmilevals = smile_rad*np.cos(smile_ran),smile_rad*np.sin(smile_ran)\n",
    "    smile_array = np.vstack([xsmilevals,ysmilevals])\n",
    "    #print(smile_array.shape)\n",
    "    height, dist = .4 * radius,0\n",
    "    eyes_array = np.array([[-height,height],[dist,dist]])\n",
    "    #U = np.hstack([face_array,smile_array,eyes_array])\n",
    "    return np.hstack([face_array,smile_array,eyes_array])\n",
    "    #return face_array\n",
    "\n",
    "\n",
    "def plot_smiley (ax1=None,radius=2.0,eps=.5):\n",
    "    #Uface,Usmile,Ueyes = make_smiley(radius=radius)\n",
    "    U = make_smiley(radius=radius)\n",
    "    if ax1 is None:\n",
    "        fig, ax1 = plt.subplots(1, 1, figsize = (5,5),\n",
    "                                       sharey=True,sharex=True)\n",
    "    ax1.set_xlim((-radius)-eps,radius+eps)\n",
    "    ax1.set_ylim((-radius)-eps,radius+eps)\n",
    "    #MM0 = ax1.plot(Uface[0,:],Uface[1,:])\n",
    "    #MM1 = ax1.plot(Usmile[0,:],Usmile[1,:])\n",
    "    #U = np.hstack([Uface,Usmile])\n",
    "    #ax1.scatter(U[0,:],U[1,:])\n",
    "    #ax1.scatter(Ufac)\n",
    "    #height, dist = .8,0\n",
    "    #eyes = np.array([[-height,height],[dist,dist]])\n",
    "    #U = np.hstack([Uface,Usmile,Ueyes])\n",
    "    ax1.scatter(U[0,:],U[1,:])\n",
    "    #MM2 = ax1.scatter([-height],[dist],s=65,c='g',marker='x')\n",
    "    #MM2 = ax1.scatter([height],[dist],s=75,c='g',marker='o')"
   ]
  },
  {
   "cell_type": "code",
   "execution_count": 27,
   "metadata": {},
   "outputs": [
    {
     "name": "stdout",
     "output_type": "stream",
     "text": [
      "(2, 629)\n",
      "(2, 105)\n"
     ]
    },
    {
     "data": {
      "image/png": "[encoded data removed]",
      "text/plain": [
       "<Figure size 360x360 with 1 Axes>"
      ]
     },
     "metadata": {
      "needs_background": "light"
     },
     "output_type": "display_data"
    }
   ],
   "source": [
    "plot_smiley(radius=5)"
   ]
  },
  {
   "cell_type": "code",
   "execution_count": 34,
   "metadata": {},
   "outputs": [
    {
     "data": {
      "image/png": "[encoded data removed]",
      "text/plain": [
       "<Figure size 720x360 with 2 Axes>"
      ]
     },
     "metadata": {
      "needs_background": "light"
     },
     "output_type": "display_data"
    }
   ],
   "source": [
    "U = make_smiley (radius = 2)\n",
    "theta = np.pi/4\n",
    "R = rotation_matrix(theta)\n",
    "V = R.dot(U)\n",
    "XX = plot_mapping (U[0,:], U[1,:], V[0,:], V[1,:], name='R',make_equal_aspect=True)"
   ]
  },
  {
   "cell_type": "code",
   "execution_count": null,
   "metadata": {},
   "outputs": [],
   "source": []
  },
  {
   "cell_type": "code",
   "execution_count": 32,
   "metadata": {},
   "outputs": [
    {
     "data": {
      "image/png": "[encoded data removed]",
      "text/plain": [
       "<Figure size 720x360 with 2 Axes>"
      ]
     },
     "metadata": {
      "needs_background": "light"
     },
     "output_type": "display_data"
    }
   ],
   "source": [
    "import os.path\n",
    "\n",
    "font_dir = r'/Library/Fonts/'\n",
    "font_file = os.path.join(font_dir, 'Arial Unicode.ttf')\n",
    "unicode_text, sz, w_marg, h_marg= 'B', 48, 40, 40\n",
    "img_arr = make_text_image_array(unicode_text, font_file, sz=sz,w_marg=w_marg,h_marg=h_marg)\n",
    "U = img_array_to_coords(img_arr)\n",
    "\n",
    "theta = np.pi/6\n",
    "R = rotation_matrix(theta)\n",
    "V = R.dot(U)\n",
    "XX = plot_mapping (U[0,:], U[1,:], V[0,:], V[1,:], name='R',make_equal_aspect=True)"
   ]
  },
  {
   "cell_type": "code",
   "execution_count": 34,
   "metadata": {},
   "outputs": [
    {
     "data": {
      "image/png": "[encoded data removed]",
      "text/plain": [
       "<Figure size 720x360 with 2 Axes>"
      ]
     },
     "metadata": {
      "needs_background": "light"
     },
     "output_type": "display_data"
    }
   ],
   "source": [
    "#theta = np.pi/6\n",
    "#R = rotation_matrix(theta)\n",
    "#V = R.dot(U)\n",
    "L = np.array([[3.5,1],[1,3.5]])\n",
    "V = L.dot(U)\n",
    "XX = plot_mapping (U[0,:], U[1,:], V[0,:], V[1,:], name='R',make_equal_aspect=True)"
   ]
  },
  {
   "cell_type": "code",
   "execution_count": null,
   "metadata": {},
   "outputs": [],
   "source": []
  }
 ],
 "metadata": {
  "kernelspec": {
   "display_name": "Python 3 (ipykernel)",
   "language": "python",
   "name": "python3"
  },
  "language_info": {
   "codemirror_mode": {
    "name": "ipython",
    "version": 3
   },
   "file_extension": ".py",
   "mimetype": "text/x-python",
   "name": "python",
   "nbconvert_exporter": "python",
   "pygments_lexer": "ipython3",
   "version": "3.10.6"
  }
 },
 "nbformat": 4,
 "nbformat_minor": 4
}
