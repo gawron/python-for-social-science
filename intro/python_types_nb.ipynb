{
 "cells": [
  {
   "cell_type": "markdown",
   "metadata": {
    "colab_type": "text",
    "id": "M2um92nVUZcl"
   },
   "source": [
    "<font size=7> <b> Python types </b></font>"
   ]
  },
  {
   "cell_type": "markdown",
   "metadata": {},
   "source": [
    "## Tuples"
   ]
  },
  {
   "cell_type": "markdown",
   "metadata": {
    "colab_type": "text",
    "id": "yOPfMyt0UZcz"
   },
   "source": [
    "To start the assignment, recall the directions you were given in class about how to use a notebook.  Execute the hext cell.  That is, in Jupyter, position your cursor in the next cell (numbered 2) and hit the `[Enter]` key while holding down the shift key, which we will henceforth write as `[Shift]`-`[Enter]`.  Nothing will happen.  But you will have defined the variable T to be a tuple with three members.  In Google Colab, just hit the foreward arrow attached to the cell."
   ]
  },
  {
   "cell_type": "code",
   "execution_count": null,
   "metadata": {
    "colab": {},
    "colab_type": "code",
    "id": "QgcodkpKUZc0"
   },
   "outputs": [],
   "source": [
    "T = ('a','b','c')"
   ]
  },
  {
   "cell_type": "code",
   "execution_count": null,
   "metadata": {
    "colab": {
     "base_uri": "https://localhost:8080/",
     "height": 35
    },
    "colab_type": "code",
    "id": "Opu4E_dXUZc2",
    "outputId": "8aac1020-54a0-41a0-b4bd-f50c89cd3ad3",
    "scrolled": true
   },
   "outputs": [
    {
     "data": {
      "application/vnd.google.colaboratory.intrinsic+json": {
       "type": "string"
      },
      "text/plain": [
       "'c'"
      ]
     },
     "execution_count": 15,
     "metadata": {
      "tags": []
     },
     "output_type": "execute_result"
    }
   ],
   "source": [
    "T[2]"
   ]
  },
  {
   "cell_type": "code",
   "execution_count": null,
   "metadata": {
    "colab": {
     "base_uri": "https://localhost:8080/",
     "height": 35
    },
    "colab_type": "code",
    "id": "TqY4LkDgUZc4",
    "outputId": "6dd95997-f852-4f46-a5cc-b5b2b1db779c"
   },
   "outputs": [
    {
     "data": {
      "application/vnd.google.colaboratory.intrinsic+json": {
       "type": "string"
      },
      "text/plain": [
       "'a'"
      ]
     },
     "execution_count": 16,
     "metadata": {
      "tags": []
     },
     "output_type": "execute_result"
    }
   ],
   "source": [
    "T[-3]"
   ]
  },
  {
   "cell_type": "code",
   "execution_count": null,
   "metadata": {
    "colab": {
     "base_uri": "https://localhost:8080/",
     "height": 164
    },
    "colab_type": "code",
    "id": "ETZ1-a9NUZc6",
    "outputId": "3f60b378-a970-4f3a-f282-7d08838c7cf5"
   },
   "outputs": [
    {
     "ename": "TypeError",
     "evalue": "ignored",
     "output_type": "error",
     "traceback": [
      "\u001b[0;31m---------------------------------------------------------------------------\u001b[0m",
      "\u001b[0;31mTypeError\u001b[0m                                 Traceback (most recent call last)",
      "\u001b[0;32m<ipython-input-17-5986fa890b94>\u001b[0m in \u001b[0;36m<module>\u001b[0;34m()\u001b[0m\n\u001b[0;32m----> 1\u001b[0;31m \u001b[0mT\u001b[0m\u001b[0;34m[\u001b[0m\u001b[0;36m1\u001b[0m\u001b[0;34m]\u001b[0m \u001b[0;34m=\u001b[0m \u001b[0;34m'1'\u001b[0m\u001b[0;34m\u001b[0m\u001b[0;34m\u001b[0m\u001b[0m\n\u001b[0m",
      "\u001b[0;31mTypeError\u001b[0m: 'tuple' object does not support item assignment"
     ]
    }
   ],
   "source": [
    "T[1] = '1'"
   ]
  },
  {
   "cell_type": "markdown",
   "metadata": {
    "colab_type": "text",
    "id": "moecqmh5UZc6"
   },
   "source": [
    "The cell below contains an error. To see what the error is, position your cursor in the cell and type `[Shift]`-`[Enter]`. Explain what the error is in the cell 2 cells down (labeled `Enter your answer here`). (It is not a `NameError`; if you get a `NameError`, that's because you haven't executed the cell that defines the variable `T` first.)  Explain how you could define `T` differently so that the expression in the cell below would not be an error."
   ]
  },
  {
   "cell_type": "markdown",
   "metadata": {
    "colab_type": "text",
    "id": "MfidaIkuUZc8"
   },
   "source": [
    "[Answer goes here]"
   ]
  },
  {
   "cell_type": "markdown",
   "metadata": {
    "colab_type": "text",
    "id": "hbKW-sGnUZc9"
   },
   "source": [
    "In the cell below, write an expression that computes the length of `T`. Execute the expression by typing `[Shift]`-`[Enter]` and check that you get the right result.  If you don't remember how to compute the length of a tuple, you can check [this introductory book-draft material on Python tuples](http://gawron.sdsu.edu/python_for_ss/course_core/book_draft/Python_introduction/tuples.html) OR you can do a Google seach on \"Python tuple length\"."
   ]
  },
  {
   "cell_type": "code",
   "execution_count": null,
   "metadata": {
    "colab": {},
    "colab_type": "code",
    "id": "gZ1mK5LLUZc9"
   },
   "outputs": [],
   "source": []
  },
  {
   "cell_type": "markdown",
   "metadata": {
    "colab_type": "text",
    "id": "vVObwCeJUZdA"
   },
   "source": [
    "# Lists"
   ]
  },
  {
   "cell_type": "code",
   "execution_count": null,
   "metadata": {
    "colab": {},
    "colab_type": "code",
    "id": "uWB4r9QYUZdA"
   },
   "outputs": [],
   "source": [
    "Mothers = [('George Clooney', 'Rosemary Clooney'), \n",
    "           ('Jimmy Carter',  'Lillian Carter'), \n",
    "           ('George H. W. Bush','Dorothy Walker Bush'), \n",
    "           ('George W. Bush', 'Barbara Bush'),\n",
    "           ('Liza Minnelli', 'Judy Garland')]"
   ]
  },
  {
   "cell_type": "code",
   "execution_count": null,
   "metadata": {
    "colab": {},
    "colab_type": "code",
    "id": "9khLvH6CUZdC",
    "outputId": "7077cfe5-6052-4401-8ab1-78180fff0609"
   },
   "outputs": [
    {
     "data": {
      "text/plain": [
       "('George Clooney', 'Rosemary Clooney')"
      ]
     },
     "execution_count": 4,
     "metadata": {
      "tags": []
     },
     "output_type": "execute_result"
    }
   ],
   "source": [
    "Mothers[0]\n"
   ]
  },
  {
   "cell_type": "markdown",
   "metadata": {
    "colab_type": "text",
    "id": "WBt-b0mBUZdE"
   },
   "source": [
    "In the next cell, write an expression that retrieves the value `\"Judy Garland\"` from `Mothers`.  For example, the expression `Mothers[0]` retrieves the value `('George Clooney', 'Rosemary Clooney'),`.  Test your answer by typing `[Shift]`-`[Enter]` to see what you get.  If you get `NameError`, it's because you didn't first execute the expression in the cell above to define the variable `Mothers`.  "
   ]
  },
  {
   "cell_type": "code",
   "execution_count": null,
   "metadata": {
    "colab": {},
    "colab_type": "code",
    "id": "t0mmx7IXUZdE",
    "outputId": "bb6d1773-5c13-4031-b6e4-7b67f79bc69e"
   },
   "outputs": [
    {
     "data": {
      "text/plain": [
       "'Judy Garland'"
      ]
     },
     "execution_count": 3,
     "metadata": {
      "tags": []
     },
     "output_type": "execute_result"
    }
   ],
   "source": []
  },
  {
   "cell_type": "markdown",
   "metadata": {
    "colab_type": "text",
    "id": "6P_1isqAUZdH"
   },
   "source": [
    "In the next cell, type a single expression that retrieves the value `z` from `Mothers` and sets  a variable to that value.  This answer will be of the  form `Something = Something`.  The first something will be a variable name.   Python will raise a `SyntaxError` if you use a reserved name."
   ]
  },
  {
   "cell_type": "code",
   "execution_count": null,
   "metadata": {
    "colab": {},
    "colab_type": "code",
    "id": "sLpXKgUTUZdH"
   },
   "outputs": [],
   "source": []
  },
  {
   "cell_type": "markdown",
   "metadata": {
    "colab_type": "text",
    "id": "ZCU5yT9iUZdJ"
   },
   "source": [
    "# Strings"
   ]
  },
  {
   "cell_type": "markdown",
   "metadata": {
    "colab_type": "text",
    "id": "KgNydjTJUZdJ"
   },
   "source": [
    "The cell below defines a string.  Execute that definition. (This is another way of saying, \"Place your cursor in the cell and type `[Shift]`-`[Enter]`)\".  Notice that when you evaluate this cell, Python doesn't seem to do anything.  Nevertheless it has changed its state to reflect the fact that the variable `Example_str` has been defined to denote a particular string."
   ]
  },
  {
   "cell_type": "code",
   "execution_count": null,
   "metadata": {
    "colab": {},
    "colab_type": "code",
    "id": "uBWtgRxwUZdJ"
   },
   "outputs": [],
   "source": [
    "Example_str = \"program\""
   ]
  },
  {
   "cell_type": "markdown",
   "metadata": {
    "colab_type": "text",
    "id": "TVxpGcCBUZdL"
   },
   "source": [
    "In the next cell, write and execute an expression that retrieves the value `\"r\"` from `Example_str`.  There are two *r*'s in the string, so there are two possible answers."
   ]
  },
  {
   "cell_type": "code",
   "execution_count": null,
   "metadata": {
    "colab": {},
    "colab_type": "code",
    "id": "XDKSb1OwUZdM",
    "outputId": "e00f1696-d9e6-432d-9036-538aefa315fb"
   },
   "outputs": [
    {
     "data": {
      "text/plain": [
       "'r'"
      ]
     },
     "execution_count": 6,
     "metadata": {
      "tags": []
     },
     "output_type": "execute_result"
    }
   ],
   "source": []
  },
  {
   "cell_type": "markdown",
   "metadata": {
    "colab_type": "text",
    "id": "QThAtsnWUZdN"
   },
   "source": [
    "The string `program` has the nice property that at least one of its substrings is an English word.  In the cell below write a single Python expression that retrieves the word 'pro' from `Example_str`. You might need to review the lecture material on [string slices](http://www-rohan.sdsu.edu/~gawron/python_for_ss/course_core/book_draft/Python_introduction/strings.html).  Evaluate it with `[Shift]`-`[Enter]` to check your answer.  "
   ]
  },
  {
   "cell_type": "code",
   "execution_count": null,
   "metadata": {
    "colab": {},
    "colab_type": "code",
    "collapsed": true,
    "id": "UaMIuTyCUZdO",
    "outputId": "f308ee32-8486-49e6-e89e-f3a248282b0e"
   },
   "outputs": [
    {
     "data": {
      "text/plain": [
       "1"
      ]
     },
     "execution_count": 2,
     "metadata": {
      "tags": []
     },
     "output_type": "execute_result"
    }
   ],
   "source": []
  },
  {
   "cell_type": "code",
   "execution_count": null,
   "metadata": {
    "colab": {},
    "colab_type": "code",
    "collapsed": true,
    "id": "Yoa7U_iRUZdQ",
    "outputId": "231d750e-02e8-44ce-8878-efa2cf932f5a"
   },
   "outputs": [
    {
     "data": {
      "text/plain": [
       "'rog'"
      ]
     },
     "execution_count": 8,
     "metadata": {
      "tags": []
     },
     "output_type": "execute_result"
    }
   ],
   "source": []
  },
  {
   "cell_type": "markdown",
   "metadata": {
    "colab_type": "text",
    "id": "NNms7oemUZdS"
   },
   "source": [
    "In the same cell (the cell above), on new lines, write two more expressions that retrieve two other strings; one should retrieve the English word 'ram', another the string 'rog'. Each time you add a line to the cell, type `[Shift]`-`[Enter]`. Notice that when there's more than one line in the cell, Python only seems to be responding to the last line.  This is how the Python *Interpreter* (the program you are interacting with when you type commands to Python) works.  Despite the fact that Python only responds to the last line, **all** the lines are being executed. "
   ]
  },
  {
   "cell_type": "markdown",
   "metadata": {
    "colab_type": "text",
    "id": "b76uibrJUZdS"
   },
   "source": [
    "# Dictionaries"
   ]
  },
  {
   "cell_type": "markdown",
   "metadata": {
    "colab_type": "text",
    "id": "s6V2thdKUZdT"
   },
   "source": [
    "We begin discussing dictionaries with an observation about our last example, `Mothers`, a list of pairs.  A list of pairs is probably not the most convenient way to represent this information.  Our most likely use of the information is to try to look up some individual's mother, but in order to do that with a list, we have to searrch through the list, looking for the pair that contains information about that individual.  What we want is a data structure that allows you ask for information by individual (instead of list index) --- the information is **indexed** by individual.  That is a dictionary.  Fortunately there is a very easy way to turn a list of pairs into a dictionary."
   ]
  },
  {
   "cell_type": "code",
   "execution_count": null,
   "metadata": {
    "colab": {},
    "colab_type": "code",
    "id": "BrqFG1OrUZdT"
   },
   "outputs": [],
   "source": [
    "Mothers = [('George Clooney', 'Rosemary Clooney'), ('Jimmy Carter', 'Lillian Carter'),\n",
    "           ('George H. W. Bush', 'Dorothy Walker Bush'), ('George W. Bush', 'Barbara Bush'),\n",
    "           ('Liza Minnelli', 'Judy Garland')]"
   ]
  },
  {
   "cell_type": "code",
   "execution_count": null,
   "metadata": {
    "colab": {},
    "colab_type": "code",
    "id": "I8uHWjVNUZdW",
    "outputId": "c011ef86-878e-4d64-efc8-e5567a50c0f4"
   },
   "outputs": [
    {
     "data": {
      "text/plain": [
       "('George W. Bush', 'Barbara Bush')"
      ]
     },
     "execution_count": 9,
     "metadata": {
      "tags": []
     },
     "output_type": "execute_result"
    }
   ],
   "source": [
    "# Look up George Bushes mother\n",
    "Mothers[3]"
   ]
  },
  {
   "cell_type": "code",
   "execution_count": null,
   "metadata": {
    "colab": {},
    "colab_type": "code",
    "id": "DYXTM185UZdY"
   },
   "outputs": [],
   "source": [
    "Mothers[3][1]"
   ]
  },
  {
   "cell_type": "code",
   "execution_count": null,
   "metadata": {
    "colab": {},
    "colab_type": "code",
    "id": "mFixyJ5GUZda",
    "outputId": "4d2d6a51-4df5-4b65-d48e-8cf35316eb57"
   },
   "outputs": [
    {
     "data": {
      "text/plain": [
       "'Barbara Bush'"
      ]
     },
     "execution_count": 10,
     "metadata": {
      "tags": []
     },
     "output_type": "execute_result"
    }
   ],
   "source": [
    "for (c,m) in Mothers:\n",
    "    if c == 'George W. Bush':\n",
    "        break\n",
    "m"
   ]
  },
  {
   "cell_type": "markdown",
   "metadata": {
    "colab_type": "text",
    "id": "9vXIAiugUZdc"
   },
   "source": [
    "This is both inefficient and a nuisance.  What we want is something where we plug in the child and it outputs the mother.\n",
    "\n",
    "And the next cell shows us what does that.  a **Dictionary** made out of the list of pairs."
   ]
  },
  {
   "cell_type": "code",
   "execution_count": null,
   "metadata": {
    "colab": {},
    "colab_type": "code",
    "id": "RdvBUwpkUZdd"
   },
   "outputs": [],
   "source": [
    "ddm = dict(Mothers)"
   ]
  },
  {
   "cell_type": "markdown",
   "metadata": {
    "colab_type": "text",
    "id": "jWigp5qPUZde"
   },
   "source": [
    "This transforms a list of pairs with the first member of each pair as a key and the second member as its value.  So `ddm` is now a dictionary with individuals as keys, and their mothers as values."
   ]
  },
  {
   "cell_type": "code",
   "execution_count": null,
   "metadata": {
    "colab": {},
    "colab_type": "code",
    "id": "3Qp6lAzIUZde",
    "outputId": "9b0a3e73-0c97-4380-8c78-1cf3680f59fb"
   },
   "outputs": [
    {
     "data": {
      "text/plain": [
       "{'George Clooney': 'Rosemary Clooney',\n",
       " 'Jimmy Carter': 'Lillian Carter',\n",
       " 'George H. W. Bush': 'Dorothy Walker Bush',\n",
       " 'George W. Bush': 'Barbara Bush',\n",
       " 'Liza Minnelli': 'Judy Garland'}"
      ]
     },
     "execution_count": 12,
     "metadata": {
      "tags": []
     },
     "output_type": "execute_result"
    }
   ],
   "source": [
    "ddm"
   ]
  },
  {
   "cell_type": "markdown",
   "metadata": {
    "colab_type": "text",
    "id": "8IATMWW7UZdg"
   },
   "source": [
    "And here is our plug and play behavior:"
   ]
  },
  {
   "cell_type": "code",
   "execution_count": null,
   "metadata": {
    "colab": {},
    "colab_type": "code",
    "id": "BjAPoY3hUZdh",
    "outputId": "6c1510c1-6a4c-4a57-cc0c-1f07ebb937aa"
   },
   "outputs": [
    {
     "data": {
      "text/plain": [
       "'Barbara Bush'"
      ]
     },
     "execution_count": 11,
     "metadata": {
      "tags": []
     },
     "output_type": "execute_result"
    }
   ],
   "source": [
    "ddm['George W. Bush']"
   ]
  },
  {
   "cell_type": "markdown",
   "metadata": {
    "colab_type": "text",
    "id": "YbkwIhf9UZdi"
   },
   "source": [
    "In the next cell is another Python expression.  Before evaluating the cell, examine it carefully and try to predict what the result of evaluating it will be.  Then in the cell below that, explain the result that you got."
   ]
  },
  {
   "cell_type": "code",
   "execution_count": null,
   "metadata": {
    "colab": {},
    "colab_type": "code",
    "collapsed": true,
    "id": "ZEw3XpLQUZdi",
    "outputId": "1b57ebce-41d8-4a7c-b255-2e93364766f5"
   },
   "outputs": [
    {
     "ename": "TypeError",
     "evalue": "list indices must be integers or slices, not str",
     "output_type": "error",
     "traceback": [
      "\u001b[0;31m---------------------------------------------------------------------------\u001b[0m",
      "\u001b[0;31mTypeError\u001b[0m                                 Traceback (most recent call last)",
      "\u001b[0;32m<ipython-input-7-97c69d266365>\u001b[0m in \u001b[0;36m<module>\u001b[0;34m()\u001b[0m\n\u001b[0;32m----> 1\u001b[0;31m \u001b[0mMothers\u001b[0m\u001b[0;34m[\u001b[0m\u001b[0;34m'George W. Bush'\u001b[0m\u001b[0;34m]\u001b[0m\u001b[0;34m\u001b[0m\u001b[0m\n\u001b[0m",
      "\u001b[0;31mTypeError\u001b[0m: list indices must be integers or slices, not str"
     ]
    }
   ],
   "source": [
    "Mothers['George W. Bush']"
   ]
  },
  {
   "cell_type": "markdown",
   "metadata": {
    "colab_type": "text",
    "id": "Dp_Lsc_HUZdk"
   },
   "source": [
    "[your answer here]"
   ]
  },
  {
   "cell_type": "code",
   "execution_count": null,
   "metadata": {
    "colab": {},
    "colab_type": "code",
    "id": "muYGaTLrUZdl"
   },
   "outputs": [],
   "source": [
    "ddm['George Clooney']"
   ]
  },
  {
   "cell_type": "markdown",
   "metadata": {
    "colab_type": "text",
    "id": "rXpvUFqQUZdm"
   },
   "source": [
    "So now you know how to transform a list of pairs into a dictionary, with the first member of each pair as a key and the second member as its value.\n",
    "\n",
    "There are two other ways to define dictionaries which are both worth knowing.  We start with the easiest to type."
   ]
  },
  {
   "cell_type": "code",
   "execution_count": null,
   "metadata": {
    "colab": {},
    "colab_type": "code",
    "id": "ikdSzsJkUZdm"
   },
   "outputs": [],
   "source": [
    "dd = dict(name = 'Guido van Rossum',\n",
    "          job_title = 'Benevolent Dictator for Life',\n",
    "          native_language = \"Dutch\",\n",
    "          favorite_non_native_language = 'English',\n",
    "          favorite_computer_language = \"Perl\")"
   ]
  },
  {
   "cell_type": "code",
   "execution_count": null,
   "metadata": {
    "colab": {},
    "colab_type": "code",
    "id": "atq9btQvUZdo",
    "outputId": "97a363d9-df82-44b5-bd98-e288796b4b97"
   },
   "outputs": [
    {
     "data": {
      "text/plain": [
       "'Perl'"
      ]
     },
     "execution_count": 21,
     "metadata": {
      "tags": []
     },
     "output_type": "execute_result"
    }
   ],
   "source": [
    "dd['favorite_computer_language']"
   ]
  },
  {
   "cell_type": "markdown",
   "metadata": {
    "colab_type": "text",
    "id": "4G9m_kYjUZdq"
   },
   "source": [
    "In the next cell down, write a single expression to retrieve the value `\"Benevolent Dictator for Life\"` from `dd`."
   ]
  },
  {
   "cell_type": "code",
   "execution_count": null,
   "metadata": {
    "colab": {},
    "colab_type": "code",
    "id": "tEIVY-FvUZdq"
   },
   "outputs": [],
   "source": []
  },
  {
   "cell_type": "markdown",
   "metadata": {
    "colab_type": "text",
    "id": "XXUGEpJdUZds"
   },
   "source": [
    "In the next cell down write an expression that *adds* information to `dd`.  Specifically add the *key* `favorite_tv_show` and set its value to be `\"Monty Python's Flying Circus\"`.  Note that strings can have spaces in them and still be valid strings."
   ]
  },
  {
   "cell_type": "markdown",
   "metadata": {
    "colab_type": "text",
    "id": "co7DVoL0UZds"
   },
   "source": [
    "Note: There are several possible answers to this question.  One is quite simple, and uses the syntax that is parallel to what we did for mutable sequences (for example, lists).\n",
    "\n",
    "For list L we did something like\n",
    "\n",
    "```\n",
    "L[1] = 'abracadabra'\n",
    "\n",
    "```\n",
    "\n",
    "which changed the  second element of `L` to be the string `'abracadabra'`.  For a dictionary `dd` we can do:\n",
    "\n",
    "```\n",
    "dd[key] = value\n",
    "```\n",
    "\n",
    "To make `dd`'s value for the key be `value`."
   ]
  },
  {
   "cell_type": "markdown",
   "metadata": {
    "colab_type": "text",
    "id": "jj0XNwHjUZdt"
   },
   "source": [
    "A second idea is to use the dictionary's `update` method, which allows a very cimple syntax:\n",
    "\n",
    "```\n",
    "dd.update(key = value)\n",
    "```"
   ]
  },
  {
   "cell_type": "markdown",
   "metadata": {
    "colab_type": "text",
    "id": "t_pg1KWSUZdt"
   },
   "source": [
    "Here are some other updates to help illustrate.  Let's assume children are accessed by an index that tells us what number child they are.  The first child is accessed by the key 0, the second by the 1, and so on.  The we might, as part of the information we have about Guido:"
   ]
  },
  {
   "cell_type": "code",
   "execution_count": null,
   "metadata": {
    "colab": {},
    "colab_type": "code",
    "id": "7uk7eV0TUZdt"
   },
   "outputs": [],
   "source": [
    "dd[0]  = \"Guido, Jr.\""
   ]
  },
  {
   "cell_type": "code",
   "execution_count": null,
   "metadata": {
    "colab": {},
    "colab_type": "code",
    "id": "pH_Q4R6sUZdv",
    "outputId": "f08abcd9-ca84-473d-fb36-0904c9e326cc"
   },
   "outputs": [
    {
     "data": {
      "text/plain": [
       "{'name': 'Guido van Rossum',\n",
       " 'job_title': 'Benevolent Dictator for Life',\n",
       " 'native_language': 'Dutch',\n",
       " 'favorite_non_native_language': 'English',\n",
       " 'favorite_computer_language': 'Perl',\n",
       " 'favorite_tv_show': \"Monty Python's Flying Circus\",\n",
       " 0: 'Guido, Jr.'}"
      ]
     },
     "execution_count": 28,
     "metadata": {
      "tags": []
     },
     "output_type": "execute_result"
    }
   ],
   "source": [
    "dd"
   ]
  },
  {
   "cell_type": "markdown",
   "metadata": {
    "colab_type": "text",
    "id": "r-aLpBFVUZdx"
   },
   "source": [
    "Note `update` won't work, at least not using the simplest syntax:"
   ]
  },
  {
   "cell_type": "code",
   "execution_count": null,
   "metadata": {
    "colab": {},
    "colab_type": "code",
    "id": "vocoujYfUZdx"
   },
   "outputs": [],
   "source": [
    "dd.update(0  = \"Guido, Jr.\")"
   ]
  },
  {
   "cell_type": "markdown",
   "metadata": {
    "colab_type": "text",
    "id": "e3BYH9uaUZdz"
   },
   "source": [
    "This is because what this use of `update` does is  supply key-value pairs as **keyword arguments**.  Each keyword becomes a dictionary key, each value for a keyword becomes a dictionary value.  But integers can't be keywords.  A keyword basically has to be a legal name."
   ]
  },
  {
   "cell_type": "markdown",
   "metadata": {
    "colab_type": "text",
    "id": "tr5-p63dUZdz"
   },
   "source": [
    "What we can do instead is use the trick we used before to define a dictionary, supply a list of key-value pairs, in this case a list of length 1."
   ]
  },
  {
   "cell_type": "code",
   "execution_count": null,
   "metadata": {
    "colab": {},
    "colab_type": "code",
    "id": "uD4vDxndUZdz"
   },
   "outputs": [],
   "source": [
    "dd.update([(0 , \"Guido, Jr.\")])"
   ]
  },
  {
   "cell_type": "markdown",
   "metadata": {
    "colab_type": "text",
    "id": "pfrW_A6uUZd2"
   },
   "source": [
    "You can also pass the `update` method another dictionary, as in:"
   ]
  },
  {
   "cell_type": "code",
   "execution_count": null,
   "metadata": {
    "colab": {},
    "colab_type": "code",
    "id": "7ynmf2nkUZd2"
   },
   "outputs": [],
   "source": [
    "dd.update({0 , \"Guido, Jr.\"})"
   ]
  },
  {
   "cell_type": "markdown",
   "metadata": {
    "colab_type": "text",
    "id": "6k8QnQMuUZd4"
   },
   "source": [
    "Indeed this is probably the most common way update is used, to update one dictionary with the information in another."
   ]
  },
  {
   "cell_type": "markdown",
   "metadata": {
    "colab_type": "text",
    "id": "enrEWbo5UZd4"
   },
   "source": [
    "In the next cell correct an error in our data.  Guido van Rossum's favorite computer\n",
    "language is not Perl.  It is Python.  Write an expression that corrects the error."
   ]
  },
  {
   "cell_type": "code",
   "execution_count": null,
   "metadata": {
    "colab": {},
    "colab_type": "code",
    "id": "j70kl0hkUZd5"
   },
   "outputs": [],
   "source": []
  },
  {
   "cell_type": "markdown",
   "metadata": {
    "colab_type": "text",
    "id": "n8LFjHr6UZd8"
   },
   "source": [
    "In the next cell we use a different syntax for defining a dictionary."
   ]
  },
  {
   "cell_type": "code",
   "execution_count": null,
   "metadata": {
    "colab": {},
    "colab_type": "code",
    "id": "cgb1HGGuUZd8"
   },
   "outputs": [],
   "source": [
    "mystery_sentence_letter_counts = {' ': 9, 'e': 5, 'o': 5, 'l': 3, 'd': 2,\n",
    "                                  'h': 2, 'r': 2, 'u': 2, 'w': 2, 'y': 2, '.': 1, \n",
    "                                  'a': 1, 'c': 1, 'b': 1, 'g': 1, 'f': 1, \n",
    "                                  'i': 1, 'k': 1, 'j': 1, 'm': 1, 'n': 1, 'q': 1, \n",
    "                                  'p': 1, 't': 2, 'v': 1, 'x': 1, 'z': 1}"
   ]
  },
  {
   "cell_type": "markdown",
   "metadata": {
    "colab_type": "text",
    "id": "1_6u7nHQUZd-"
   },
   "source": [
    "Notice some of the features of this dictionary `mystery_letter_counts`.  They keys are all single characters and the values are all integers.  Moreover, there is one key for each letter of the alphabet.  Plus there are keys for space and a punctuation mark, period ('.').  There are 28 keys in all. \n",
    "\n",
    "There is nothing special about the fact that the keys are single characters here.  In Python characters are just strings that happen to have length 1.  And all of the ways we've used to define dictionaries will work with any string as keys, whether length 1, or highly varied lengths.\n",
    "\n",
    "Using the same syntax as is used in defining `mystery_sentence_letter_counts` (curly braces and colons),\n",
    "write another definition of `dd` in the next cell.  Your answer should define exactly the same dictionary,\n",
    "but using a different syntax.  Here's how your definition might might start:\n",
    "\n",
    "```\n",
    "dd = {'name': 'Guido van Rossum',\n",
    "      ....\n",
    "      }\n",
    "```"
   ]
  },
  {
   "cell_type": "code",
   "execution_count": null,
   "metadata": {
    "colab": {},
    "colab_type": "code",
    "id": "z8A5fmZxUZd-"
   },
   "outputs": [],
   "source": [
    "[your answer here]"
   ]
  },
  {
   "cell_type": "markdown",
   "metadata": {
    "colab_type": "text",
    "id": "5uyMkg9gUZeA"
   },
   "source": [
    "The  dictionary `mystery_letter_counts` stores the number of times each of 28 characters occurs in a particular sentence of English.  We will call this sentence the mystery sentence.  (You are welcome to guess what the mystery sentence is, obviously a sentence that includes all 26 letters of the alphabet). "
   ]
  },
  {
   "cell_type": "markdown",
   "metadata": {
    "colab_type": "text",
    "id": "weunyDLAUZeA"
   },
   "source": [
    "In the cell below, write an expression that retrieves the value `9` from `mystery_sentence_letter_counts`. "
   ]
  },
  {
   "cell_type": "code",
   "execution_count": null,
   "metadata": {
    "colab": {},
    "colab_type": "code",
    "id": "WUDb5IA5UZeB"
   },
   "outputs": [],
   "source": []
  },
  {
   "cell_type": "markdown",
   "metadata": {
    "colab_type": "text",
    "id": "BxS1sox4UZeE"
   },
   "source": [
    "How might we get a dictionary like `mystery_letter_counts` defined?   Yes, typing it in is one option. But there are ways that might arise more naturally in the context of analyzing some data.  Suppose we had a sentence and we simply wanted to count the number of times each character occurs in it (acquiring accurate English letter frequencies is sometimes important, for example if you're a cryptographer.\n",
    "\n",
    "We'd probably write a piece of code like this:"
   ]
  },
  {
   "cell_type": "code",
   "execution_count": null,
   "metadata": {
    "colab": {},
    "colab_type": "code",
    "id": "0Sqn-u5kUZeE",
    "outputId": "9672a3b4-57cf-4c45-b5b6-45ed08379f5d"
   },
   "outputs": [
    {
     "data": {
      "text/plain": [
       "{'t': 2,\n",
       " 'h': 2,\n",
       " 'e': 5,\n",
       " ' ': 9,\n",
       " 'q': 1,\n",
       " 'u': 2,\n",
       " 'i': 1,\n",
       " 'c': 1,\n",
       " 'k': 1,\n",
       " 'b': 1,\n",
       " 'r': 2,\n",
       " 'o': 5,\n",
       " 'w': 2,\n",
       " 'n': 1,\n",
       " 'f': 1,\n",
       " 'x': 1,\n",
       " 'j': 1,\n",
       " 'm': 1,\n",
       " 'p': 1,\n",
       " 'd': 2,\n",
       " 'v': 1,\n",
       " 'l': 3,\n",
       " 'a': 1,\n",
       " 'z': 1,\n",
       " 'y': 2,\n",
       " 'g': 1,\n",
       " '.': 1}"
      ]
     },
     "execution_count": 50,
     "metadata": {
      "tags": []
     },
     "output_type": "execute_result"
    }
   ],
   "source": [
    "\n",
    "Sentence = 'the quick brown fox jumped over the lazy yellow dog.'\n",
    "letter_freqs = dict()\n",
    "for letter in Sentence:\n",
    "    if letter in letter_freqs:\n",
    "        letter_freqs[letter] += 1\n",
    "    else:\n",
    "        letter_freqs[letter] = 1\n",
    "letter_freqs"
   ]
  },
  {
   "cell_type": "markdown",
   "metadata": {
    "colab_type": "text",
    "id": "CqDJYwCDUZeG"
   },
   "source": [
    "This dictionary named `letter_freqs` is defined in line 3 and filled with information in a `for` loop that begin on line 4 and ends on line 5.  The variable `Sentence` is defined to be a string (line 2) and the `for` loop steps through each character of that string and adds 1 to its count in the dictionary (line 5).  You may have noticed that the keys and counts in the dictionary `letter_freqs` were the same as those in the dictionary `letter_counts`, defined in one of the cells above.  "
   ]
  },
  {
   "cell_type": "markdown",
   "metadata": {
    "colab_type": "text",
    "id": "z9klN5BdUZeG"
   },
   "source": [
    "Let's build a dictionary very like  `letter_freqs` on a slightly different string:"
   ]
  },
  {
   "cell_type": "code",
   "execution_count": null,
   "metadata": {
    "colab": {},
    "colab_type": "code",
    "id": "f6iPbmW4UZeH"
   },
   "outputs": [],
   "source": [
    "\n",
    "Sentence = 'the quick brown fox jumped over the lazy yellow dog.'\n",
    "Sentence2 = 'The quick brown fox jumped over the lazy yellow dog.'\n",
    "letter_freqs2 = dict()\n",
    "for letter in Sentence2:\n",
    "    if letter in letter_freqs2:\n",
    "        letter_freqs2[letter] += 1\n",
    "    else:\n",
    "        letter_freqs2[letter] = 1"
   ]
  },
  {
   "cell_type": "code",
   "execution_count": null,
   "metadata": {
    "colab": {},
    "colab_type": "code",
    "id": "O5klwr1rUZeI",
    "outputId": "da3bf484-cf8f-45bd-bd53-131b7c49b554"
   },
   "outputs": [
    {
     "data": {
      "text/plain": [
       "{'T': 1,\n",
       " 'h': 2,\n",
       " 'e': 5,\n",
       " ' ': 9,\n",
       " 'q': 1,\n",
       " 'u': 2,\n",
       " 'i': 1,\n",
       " 'c': 1,\n",
       " 'k': 1,\n",
       " 'b': 1,\n",
       " 'r': 2,\n",
       " 'o': 5,\n",
       " 'w': 2,\n",
       " 'n': 1,\n",
       " 'f': 1,\n",
       " 'x': 1,\n",
       " 'j': 1,\n",
       " 'm': 1,\n",
       " 'p': 1,\n",
       " 'd': 2,\n",
       " 'v': 1,\n",
       " 't': 1,\n",
       " 'l': 3,\n",
       " 'a': 1,\n",
       " 'z': 1,\n",
       " 'y': 2,\n",
       " 'g': 1,\n",
       " '.': 1}"
      ]
     },
     "execution_count": 53,
     "metadata": {
      "tags": []
     },
     "output_type": "execute_result"
    }
   ],
   "source": [
    "letter_freqs2"
   ]
  },
  {
   "cell_type": "markdown",
   "metadata": {
    "colab_type": "text",
    "id": "Yid93AGcUZeK"
   },
   "source": [
    "There is an important difference between the string `Sentence` and the string `Sentence2`.  What is it? How is the difference reflected in `letter_freqs2`.  "
   ]
  },
  {
   "cell_type": "markdown",
   "metadata": {
    "colab_type": "text",
    "id": "P09MYR5qUZeK"
   },
   "source": [
    "[Double click on this text (or \"markup\") cell and write your answer here.]"
   ]
  },
  {
   "cell_type": "markdown",
   "metadata": {
    "colab_type": "text",
    "id": "gyAlPytzUZeK"
   },
   "source": [
    "Finally here's a very simple way to do what we just did in the `for` loop.  `Python` has many specialized kinds of dictionaries you can `import`, thus adding them to what you get in your builtin `Python`.   One of these is called a `Counter`.  \n",
    "\n",
    "You use a `Counter` to count the kinds of things contained in a container.  Here's how to count the number of times each character occurs in a string."
   ]
  },
  {
   "cell_type": "code",
   "execution_count": 1,
   "metadata": {
    "colab": {},
    "colab_type": "code",
    "id": "PWYFMc-_UZeK",
    "outputId": "42555df8-d03c-4552-e104-b19005e7c9d9"
   },
   "outputs": [
    {
     "data": {
      "text/plain": [
       "4"
      ]
     },
     "execution_count": 1,
     "metadata": {},
     "output_type": "execute_result"
    }
   ],
   "source": [
    "import collections\n",
    "mslc = collections.Counter('i have checked out on many queer lax days with flying bats jumping through hoops.')\n",
    "mslc['i']"
   ]
  },
  {
   "cell_type": "markdown",
   "metadata": {
    "colab_type": "text",
    "id": "AKRrOqRnUZeM"
   },
   "source": [
    "In the cell below write an expression that retrieves the number of times the letter `e` occurred in the mystery sentence from `mslc`."
   ]
  },
  {
   "cell_type": "code",
   "execution_count": null,
   "metadata": {
    "colab": {},
    "colab_type": "code",
    "collapsed": true,
    "id": "yvA8JrFSUZeN"
   },
   "outputs": [],
   "source": [
    "[your answer here]"
   ]
  },
  {
   "cell_type": "markdown",
   "metadata": {
    "colab_type": "text",
    "id": "bCPZitytUZeO"
   },
   "source": [
    "In the cell below, define the same dictionary we called `letter_freqs2` above, using the string `Sentence2` and a `Counter`.  Your answer should be just one line of code."
   ]
  },
  {
   "cell_type": "code",
   "execution_count": null,
   "metadata": {
    "colab": {},
    "colab_type": "code",
    "id": "FXDPqz4zUZeP"
   },
   "outputs": [],
   "source": [
    "[your answer here]"
   ]
  },
  {
   "cell_type": "markdown",
   "metadata": {
    "colab_type": "text",
    "id": "_kQUjWvJUZeS"
   },
   "source": [
    "# Filling a Dictionary with information"
   ]
  },
  {
   "cell_type": "markdown",
   "metadata": {
    "colab_type": "text",
    "id": "25no3mtXUZeS"
   },
   "source": [
    "Now let's look at a more practical example of defining a dictionary."
   ]
  },
  {
   "cell_type": "code",
   "execution_count": 5,
   "metadata": {
    "colab": {},
    "colab_type": "code",
    "id": "z1_jHW6_UZeU",
    "outputId": "65cc6fd3-b41a-4c16-eb5e-562bd69632e0"
   },
   "outputs": [
    {
     "data": {
      "text/html": [
       "<img src=\"https://gawron.sdsu.edu/python_for_ss/course_core/book_draft/_static/practice_toy_graph.png\" width=\"300\"/>"
      ],
      "text/plain": [
       "<IPython.core.display.Image object>"
      ]
     },
     "execution_count": 5,
     "metadata": {},
     "output_type": "execute_result"
    }
   ],
   "source": [
    "from IPython.display import Image\n",
    "Image(url = \"https://gawron.sdsu.edu/python_for_ss/course_core/book_draft/_static/practice_toy_graph.png\",\n",
    "      width= 300)"
   ]
  },
  {
   "cell_type": "markdown",
   "metadata": {
    "colab_type": "text",
    "id": "4KPzHb4tUZeV"
   },
   "source": [
    "Using the example of the Enron email graph discussed in the online text as your model, represent the above graph as a dictionary. (By the way, the graph represents high school friendships.  A link between individual A and individual B means A and B are friends).  There are 8 individuals in the graph.  Your dictionary should have 8 keys. If `dd` is your dictionary, the `dd['Sue Anne']` should return Sue Anne's friends."
   ]
  },
  {
   "cell_type": "code",
   "execution_count": null,
   "metadata": {
    "colab": {},
    "colab_type": "code",
    "id": "GoOQ4SS6UZeV"
   },
   "outputs": [],
   "source": []
  },
  {
   "cell_type": "markdown",
   "metadata": {
    "colab_type": "text",
    "id": "Mv_7NvXqUZeW"
   },
   "source": [
    "# Data structure key: the elements of a sequence"
   ]
  },
  {
   "cell_type": "markdown",
   "metadata": {
    "colab_type": "text",
    "id": "9IR9sYvXUZeX"
   },
   "source": [
    "There are several things we want to be able to do with a sequence.  \n",
    "   1.  We want to be able store and retrieve elements in a particular position.\n",
    "   2.  We want to be able to efficiently list all the elements of the sequence in order and perhaps do some thing\n",
    "       with them.\n",
    "The `for`  loop we used in the previous section lets us efficiently step through all the elements of a sequence\n",
    "and do some uniform thing to all of them.  For example, the next `for` loop just prints all the elements of Sentence2.\n",
    "Evaluate it and make sure you understand why it works the way it does."
   ]
  },
  {
   "cell_type": "code",
   "execution_count": null,
   "metadata": {
    "colab": {},
    "colab_type": "code",
    "id": "k3mJKBu8UZeX",
    "outputId": "e51803b5-0baf-48a6-b450-31cb12be16bf",
    "scrolled": true
   },
   "outputs": [
    {
     "name": "stdout",
     "output_type": "stream",
     "text": [
      "T\n",
      "h\n",
      "e\n",
      " \n",
      "q\n",
      "u\n",
      "i\n",
      "c\n",
      "k\n",
      " \n",
      "b\n",
      "r\n",
      "o\n",
      "w\n",
      "n\n",
      " \n",
      "f\n",
      "o\n",
      "x\n",
      " \n",
      "j\n",
      "u\n",
      "m\n",
      "p\n",
      "e\n",
      "d\n",
      " \n",
      "o\n",
      "v\n",
      "e\n",
      "r\n",
      " \n",
      "t\n",
      "h\n",
      "e\n",
      " \n",
      "l\n",
      "a\n",
      "z\n",
      "y\n",
      " \n",
      "y\n",
      "e\n",
      "l\n",
      "l\n",
      "o\n",
      "w\n",
      " \n",
      "d\n",
      "o\n",
      "g\n",
      ".\n"
     ]
    }
   ],
   "source": [
    "Sentence2 = 'The quick brown fox jumped over the lazy yellow dog.'\n",
    "for letter in Sentence2:\n",
    "    print (letter)"
   ]
  },
  {
   "cell_type": "markdown",
   "metadata": {
    "colab_type": "text",
    "id": "aqvwHQk3UZeY"
   },
   "source": [
    "Now suppose we wanted to print all the **words** in `Sentence2`, each on a line all its own. "
   ]
  },
  {
   "cell_type": "markdown",
   "metadata": {
    "colab_type": "text",
    "id": "igSOeq_LUZeY"
   },
   "source": [
    " \n",
    "\n",
    "Well we can't do that with a simple  `for` loop with a string like `Sentence2`.  This is because the words in `Sentence2` are all different lengths and therefore they turn out to be different-sized splices. The next cell prints out the first\n",
    "three words using splices. Evaluate it and make sure you understand why the splices work the way they do."
   ]
  },
  {
   "cell_type": "code",
   "execution_count": null,
   "metadata": {
    "colab": {},
    "colab_type": "code",
    "collapsed": true,
    "id": "Q3L7jS4pUZeZ"
   },
   "outputs": [],
   "source": [
    "# First we need a splice 3 characters long starting at the beginning of the string.\n",
    "Sentence2 = 'The quick brown fox jumped over the lazy yellow dog.'\n",
    "print Sentence2[0:3] # Now skip the space\n",
    "print Sentence2[4:9] # Now skip the space\n",
    "print Sentence2[10:16]"
   ]
  },
  {
   "cell_type": "markdown",
   "metadata": {
    "colab_type": "text",
    "id": "JqmD8DNiUZea"
   },
   "source": [
    "## An easier way"
   ]
  },
  {
   "cell_type": "markdown",
   "metadata": {
    "colab_type": "text",
    "id": "u0sa-ZMmUZea"
   },
   "source": [
    "Fortunately there's a much easier way to print out the words.  We turn the string into a list, each of whose elements is a word in the string.  Then we use a simple `for` loop."
   ]
  },
  {
   "cell_type": "code",
   "execution_count": 3,
   "metadata": {},
   "outputs": [
    {
     "data": {
      "text/plain": [
       "['The',\n",
       " 'quick',\n",
       " 'brown',\n",
       " 'fox',\n",
       " 'jumped',\n",
       " 'over',\n",
       " 'the',\n",
       " 'lazy',\n",
       " 'yellow',\n",
       " 'dog.']"
      ]
     },
     "execution_count": 3,
     "metadata": {},
     "output_type": "execute_result"
    }
   ],
   "source": [
    "word_list"
   ]
  },
  {
   "cell_type": "code",
   "execution_count": 2,
   "metadata": {
    "colab": {},
    "colab_type": "code",
    "id": "7v_a24ypUZeb",
    "outputId": "0842e887-b739-46b6-b1a2-b20a649d562f"
   },
   "outputs": [
    {
     "name": "stdout",
     "output_type": "stream",
     "text": [
      "The\n",
      "quick\n",
      "brown\n",
      "fox\n",
      "jumped\n",
      "over\n",
      "the\n",
      "lazy\n",
      "yellow\n",
      "dog.\n"
     ]
    }
   ],
   "source": [
    "Sentence2 = 'The quick brown fox jumped over the lazy yellow dog.'\n",
    "word_list = Sentence2.split()\n",
    "for word in word_list:\n",
    "    print(word)"
   ]
  },
  {
   "cell_type": "markdown",
   "metadata": {
    "colab_type": "text",
    "id": "rVWWAAtWUZed"
   },
   "source": [
    "The next cell shows what `split` does.  It creates a list of strings by breaking the original string up at the spaces."
   ]
  },
  {
   "cell_type": "code",
   "execution_count": null,
   "metadata": {
    "colab": {},
    "colab_type": "code",
    "id": "4stZ1WuAUZed",
    "outputId": "717036d1-506f-4c4f-d86c-d8cbd3892964"
   },
   "outputs": [
    {
     "data": {
      "text/plain": [
       "['The',\n",
       " 'quick',\n",
       " 'brown',\n",
       " 'fox',\n",
       " 'jumped',\n",
       " 'over',\n",
       " 'the',\n",
       " 'lazy',\n",
       " 'yellow',\n",
       " 'dog.']"
      ]
     },
     "execution_count": 69,
     "metadata": {
      "tags": []
     },
     "output_type": "execute_result"
    }
   ],
   "source": [
    "Sentence2 = 'The quick brown fox jumped over the lazy yellow dog.'\n",
    "Sentence2.split()"
   ]
  },
  {
   "cell_type": "markdown",
   "metadata": {
    "colab_type": "text",
    "id": "O5ImnfDsUZef"
   },
   "source": [
    " Notice the spaces themselves are not included. When we split \"on\" some element of a string, that element is regarded as a *separator character* and the things of interest are the things between separators.  `split` is actually a much more general function that can split a string on any character and return the substrings separated by that element.  So for example if we split `Sentence2` on `u`, we get three pieces back, because there are two `u`'s."
   ]
  },
  {
   "cell_type": "code",
   "execution_count": 4,
   "metadata": {
    "colab": {},
    "colab_type": "code",
    "id": "FuVAOYR8UZef",
    "outputId": "bbf6279b-f06e-4bf1-e5d0-a34b17c93c62"
   },
   "outputs": [
    {
     "data": {
      "text/plain": [
       "['The q', 'ick brown fox j', 'mped over the lazy yellow dog.']"
      ]
     },
     "execution_count": 4,
     "metadata": {},
     "output_type": "execute_result"
    }
   ],
   "source": [
    "Sentence2 = 'The quick brown fox jumped over the lazy yellow dog.'\n",
    "Sentence2.split('u')"
   ]
  },
  {
   "cell_type": "markdown",
   "metadata": {
    "colab_type": "text",
    "id": "MIPkKUjSUZeg"
   },
   "source": [
    "Notice that this time the elements of the list returned by `split` did include spaces. "
   ]
  },
  {
   "cell_type": "markdown",
   "metadata": {
    "colab_type": "text",
    "id": "NSEczbc7UZeg"
   },
   "source": [
    " \n",
    "Try to guess what we'll get in the next example before looking at the result in the output cell. We will try to split `Sentence2` on `y`.  How many pieces will there be and what will the second piece be?"
   ]
  },
  {
   "cell_type": "code",
   "execution_count": 5,
   "metadata": {
    "colab": {},
    "colab_type": "code",
    "id": "HTUOTKQzUZeh"
   },
   "outputs": [
    {
     "data": {
      "text/plain": [
       "['The quick brown fox jumped over the laz', ' ', 'ellow dog.']"
      ]
     },
     "execution_count": 5,
     "metadata": {},
     "output_type": "execute_result"
    }
   ],
   "source": [
    "Sentence2 = 'The quick brown fox jumped over the lazy yellow dog.'\n",
    "Sentence2.split('y')"
   ]
  },
  {
   "cell_type": "markdown",
   "metadata": {
    "colab_type": "text",
    "id": "EiCeKje7UZei"
   },
   "source": [
    "More usefully, data is often stored in files with some special character used as a 'separator'.  For example, if you save an Excel file in `.csv` format, the comma character (\",\") is used as a separator, and a table of people, their ages, and their phone numbers might look like this:\n",
    "\n",
    "```\n",
    " fred,22,7891234\n",
    " alice,28,9070077\n",
    " joe,20,8742399\n",
    "```\n",
    "\n",
    "The next cell shows what you get you get when you split one of these lines on comma:"
   ]
  },
  {
   "cell_type": "code",
   "execution_count": 6,
   "metadata": {
    "colab": {},
    "colab_type": "code",
    "id": "M4Y5YSdhUZei"
   },
   "outputs": [
    {
     "data": {
      "text/plain": [
       "['joe', '20', '8742399']"
      ]
     },
     "execution_count": 6,
     "metadata": {},
     "output_type": "execute_result"
    }
   ],
   "source": [
    "'joe,20,8742399'.split(\",\")"
   ]
  },
  {
   "cell_type": "markdown",
   "metadata": {
    "colab_type": "text",
    "id": "pde3mYrtUZej"
   },
   "source": [
    "Notice the numbers are not Python numbers; they are strings of digits, because splitting a string always returns a list of strings.\n",
    "\n",
    "The `default` character that `split` splits on is actually a set of characters, anything that counts as whitespaces.  That includes space (' '), tab ('\\t'), a line return, because turning a string into a list of words is often fairly useful.  This is what we did with `Sentence2` above.\n",
    "\n",
    "Try to guess what the result of the following split will be:"
   ]
  },
  {
   "cell_type": "code",
   "execution_count": 7,
   "metadata": {
    "colab": {},
    "colab_type": "code",
    "id": "TemYyFFBUZej",
    "outputId": "4ec27dd8-5f95-4811-e479-29040f5b640d"
   },
   "outputs": [
    {
     "data": {
      "text/plain": [
       "['Rose',\n",
       " 'are',\n",
       " 'red;',\n",
       " 'violets',\n",
       " 'are',\n",
       " 'blue.',\n",
       " 'Sugar',\n",
       " 'is',\n",
       " 'sweet.',\n",
       " 'And',\n",
       " 'so',\n",
       " 'are',\n",
       " 'you.']"
      ]
     },
     "execution_count": 7,
     "metadata": {},
     "output_type": "execute_result"
    }
   ],
   "source": [
    "S = \"\"\"Rose are red;\n",
    "       violets are blue.\n",
    "       Sugar is sweet.\n",
    "       And so are you.\n",
    "       \"\"\"\n",
    "S.split()"
   ]
  },
  {
   "cell_type": "markdown",
   "metadata": {
    "colab_type": "text",
    "id": "E97Z6UzsUZek"
   },
   "source": [
    "So `split` treats line breaks just as another kind of white space."
   ]
  },
  {
   "cell_type": "markdown",
   "metadata": {
    "colab_type": "text",
    "id": "JDmDNiG7UZel"
   },
   "source": [
    "The moral of this section is that different kinds of sequences can have different kinds of elements.  Strings are probably best thought of as having characters (strings of length 1) as their elements, and that's the only convenient way\n",
    "to loop through them, one character at a time.  Lists are more flexible.  An element of the list can itself be a sequence, and so we can arrange for a list to have chunks of any size as its elements. We just pick whatever chunks are useful, and in strings of text, the word chunks are useful, and the default version of splitting gives us (approximately) a list of word chunks."
   ]
  },
  {
   "cell_type": "markdown",
   "metadata": {
    "colab_type": "text",
    "id": "xNNREsNtUZel"
   },
   "source": [
    "## Counting words"
   ]
  },
  {
   "cell_type": "markdown",
   "metadata": {
    "colab_type": "text",
    "id": "erKv1lOzUZel"
   },
   "source": [
    "Let's review how we did counting above."
   ]
  },
  {
   "cell_type": "code",
   "execution_count": null,
   "metadata": {
    "colab": {},
    "colab_type": "code",
    "id": "AjCECqhnUZel"
   },
   "outputs": [],
   "source": [
    "from collections import Counter\n",
    "Sentence = 'the quick brown fox jumped over the lazy yellow dog.'\n",
    "letter_freqs2 = Counter(Sentence2)"
   ]
  },
  {
   "cell_type": "markdown",
   "metadata": {
    "colab_type": "text",
    "id": "eXb94QZ9UZem"
   },
   "source": [
    "Bearing in mind that we can initilaize a `Counter` with any kind of sequence, revise the code above so that what is counted is words, not characters."
   ]
  },
  {
   "cell_type": "code",
   "execution_count": 10,
   "metadata": {},
   "outputs": [
    {
     "data": {
      "text/plain": [
       "Counter({'the': 2,\n",
       "         'quick': 1,\n",
       "         'brown': 1,\n",
       "         'fox': 1,\n",
       "         'jumped': 1,\n",
       "         'over': 1,\n",
       "         'lazy': 1,\n",
       "         'yellow': 1,\n",
       "         'dog.': 1})"
      ]
     },
     "execution_count": 10,
     "metadata": {},
     "output_type": "execute_result"
    }
   ],
   "source": [
    "from collections import Counter\n",
    "Sentence = 'the quick brown fox jumped over the lazy yellow dog.'\n",
    "word_freqs = Counter(Sentence.split())\n",
    "word_freqs"
   ]
  },
  {
   "cell_type": "code",
   "execution_count": null,
   "metadata": {
    "colab": {},
    "colab_type": "code",
    "id": "apiesyjJUZen"
   },
   "outputs": [],
   "source": [
    "[your answer here]"
   ]
  },
  {
   "cell_type": "markdown",
   "metadata": {
    "colab_type": "text",
    "id": "VLsLVerVUZeo"
   },
   "source": [
    "# Embedded Structure"
   ]
  },
  {
   "cell_type": "code",
   "execution_count": null,
   "metadata": {
    "colab": {},
    "colab_type": "code",
    "id": "9YtlY96OUZeo"
   },
   "outputs": [],
   "source": [
    "Higgledypiggledy = [1, ['a','b','c'], (1.4, 'Sam')]"
   ]
  },
  {
   "cell_type": "markdown",
   "metadata": {
    "colab_type": "text",
    "id": "8Bz4EIAwUZeq"
   },
   "source": [
    "We saw this example above.  Here we emphasize the fact that some container types can contain containers, either of the same type  or of different types. `Higgledypiggledy` is a list that contains a list and a tuple."
   ]
  },
  {
   "cell_type": "code",
   "execution_count": null,
   "metadata": {
    "colab": {},
    "colab_type": "code",
    "id": "YVC7K8DmUZeq",
    "outputId": "aba750ad-909d-4020-e581-d82f140d051e"
   },
   "outputs": [
    {
     "data": {
      "text/plain": [
       "['a', 'b', 'c']"
      ]
     },
     "execution_count": 72,
     "metadata": {
      "tags": []
     },
     "output_type": "execute_result"
    }
   ],
   "source": [
    "Higgledypiggledy[1]"
   ]
  },
  {
   "cell_type": "code",
   "execution_count": null,
   "metadata": {
    "colab": {},
    "colab_type": "code",
    "id": "OAnSJN-WUZes",
    "outputId": "09ed8683-9a0a-4db1-f32c-cc30e07b1c43"
   },
   "outputs": [
    {
     "data": {
      "text/plain": [
       "'c'"
      ]
     },
     "execution_count": 73,
     "metadata": {
      "tags": []
     },
     "output_type": "execute_result"
    }
   ],
   "source": [
    "Higgledypiggledy[1][2]"
   ]
  },
  {
   "cell_type": "markdown",
   "metadata": {
    "colab_type": "text",
    "id": "aKKfyKJFUZew"
   },
   "source": [
    "What value does executing this cell return?"
   ]
  },
  {
   "cell_type": "code",
   "execution_count": null,
   "metadata": {},
   "outputs": [],
   "source": [
    "Higgledypiggledy[2][0]"
   ]
  },
  {
   "cell_type": "markdown",
   "metadata": {},
   "source": [
    "What value does executing this cell return?"
   ]
  },
  {
   "cell_type": "code",
   "execution_count": null,
   "metadata": {},
   "outputs": [],
   "source": [
    "Higgledypiggledy[2][1][1]"
   ]
  },
  {
   "cell_type": "code",
   "execution_count": null,
   "metadata": {
    "colab": {},
    "colab_type": "code",
    "collapsed": true,
    "id": "24vHUsLgUZex",
    "outputId": "3e314639-9b74-4ffd-bd2d-43139795d9ad"
   },
   "outputs": [
    {
     "data": {
      "text/plain": [
       "'Mark'"
      ]
     },
     "execution_count": 75,
     "metadata": {
      "tags": []
     },
     "output_type": "execute_result"
    }
   ],
   "source": [
    "dd = dict(name = 'Mark Gawron',\n",
    "          language = 'Python',\n",
    "          favorite_tv_show = \"Monty Python's Flying Circus\",\n",
    "          favorite_desert = 'Apple pie')\n",
    "dd['name'].split()[0]"
   ]
  },
  {
   "cell_type": "markdown",
   "metadata": {
    "colab_type": "text",
    "id": "VwsuUQ6fUZey"
   },
   "source": [
    "In the next exercise we try to retrieve some data."
   ]
  },
  {
   "cell_type": "code",
   "execution_count": null,
   "metadata": {
    "colab": {},
    "colab_type": "code",
    "id": "mhAFz2ZmUZez"
   },
   "outputs": [],
   "source": [
    "dd = dict(name = 'Mark Gawron',\n",
    "          language = 'Python',\n",
    "          favorite_tv_show = \"Monty Python's Flying Circus\",\n",
    "          favorite_desert = 'Apple pie')"
   ]
  },
  {
   "cell_type": "markdown",
   "metadata": {
    "colab_type": "text",
    "id": "1LxFbn-yUZe0"
   },
   "source": [
    "In the next cell, Write a single expression that retrieves the word `Flying` from `dd`."
   ]
  },
  {
   "cell_type": "code",
   "execution_count": null,
   "metadata": {
    "colab": {},
    "colab_type": "code",
    "id": "p-kyGfN7UZe0"
   },
   "outputs": [],
   "source": []
  },
  {
   "cell_type": "markdown",
   "metadata": {
    "colab_type": "text",
    "id": "MBY-MHvWUZe1"
   },
   "source": [
    "# Takeaways"
   ]
  },
  {
   "cell_type": "markdown",
   "metadata": {
    "colab_type": "text",
    "id": "FZori1-aUZe1"
   },
   "source": [
    "1. Different types => different constructions for retrieving information\n",
    "2. Different types => different operations that work\n",
    "3. In any container, what the elements are matters for retrieving information, for counting, for looping through the elements\n",
    "4. Containers have hierarchical structure.  Containers may have containers as elements.\n",
    "5. Python syntax allows for hierarchical structure (`X[y][z]`)"
   ]
  },
  {
   "cell_type": "markdown",
   "metadata": {
    "colab_type": "text",
    "id": "jwiUFp9YUZe1"
   },
   "source": [
    "<font size = 6> <b> Appendix:  Networks (Dictionaries) [Extra Credit] </b></font>"
   ]
  },
  {
   "cell_type": "markdown",
   "metadata": {
    "colab_type": "text",
    "id": "5Gr_F6oOUZe1"
   },
   "source": [
    "This section presents a brief preview of `Networkx`, an important Python module that provides a number of\n",
    "tools for building and analyzing networks. Suppose we return to the example of our high school friendship network,\n",
    "which we represented above in a dictionary."
   ]
  },
  {
   "cell_type": "code",
   "execution_count": 6,
   "metadata": {
    "colab": {},
    "colab_type": "code",
    "id": "FBM7slQOUZe1",
    "outputId": "85d67f6a-0c82-46fc-8f9f-c5d0572ee162"
   },
   "outputs": [
    {
     "data": {
      "text/html": [
       "<img src=\"https://gawron.sdsu.edu/python_for_ss/course_core/book_draft/_static/practice_toy_graph.png\" width=\"300\"/>"
      ],
      "text/plain": [
       "<IPython.core.display.Image object>"
      ]
     },
     "execution_count": 6,
     "metadata": {},
     "output_type": "execute_result"
    }
   ],
   "source": [
    "from IPython.display import Image\n",
    "Image(url = \"https://gawron.sdsu.edu/python_for_ss/course_core/book_draft/_static/practice_toy_graph.png\",\n",
    "      width= 300)"
   ]
  },
  {
   "cell_type": "markdown",
   "metadata": {
    "colab_type": "text",
    "id": "6r07pCf5UZe4"
   },
   "source": [
    "Alternatively, suppose we have a file `practice_toy_graph.el` whose contents look like this\n",
    "\n",
    "```\n",
    "Sue_Anne  Sam \n",
    "Sue_Anne  Hugo\n",
    "Sue_Anne  Harry\n",
    "Sam  Billy_Joe\n",
    "Billy_Joe  Barbara\n",
    "Harry  Hugo\n",
    "Barbara  Bobbie_Rae\n",
    "Sam  Ricky\n",
    "Barbara  Sue_Anne\n",
    "```\n",
    "\n",
    "Here's the \".el\" extension signals the file is in \"edgelist\" format, the simplest way to\n",
    "represent graph information. Note that this representation looks a little like a \n",
    "list of pairs.  We can turn this into a useful graph representation using \n",
    "`networkx`,  a Python package for handling\n",
    "networks; `networkx`  provides a way of reading a file in the above format into\n",
    "an internal representation of a graph, a little different from the dictionary\n",
    "representation we used above, but with the same information."
   ]
  },
  {
   "cell_type": "code",
   "execution_count": 14,
   "metadata": {
    "colab": {},
    "colab_type": "code",
    "id": "SvPpTqG7UZe4"
   },
   "outputs": [],
   "source": [
    "import networkx as nx\n",
    "\n",
    "graph_string = \"\"\"\n",
    "Sue_Anne  Sam \n",
    "Sue_Anne  Hugo\n",
    "Sue_Anne  Harry\n",
    "Sam  Billy_Joe\n",
    "Billy_Joe  Barbara\n",
    "Harry  Hugo\n",
    "Barbara  Bobbie_Rae\n",
    "Sam  Ricky\n",
    "Barbara  Sue_Anne\n",
    "\"\"\"\n",
    "\n",
    "edgelist_str = \\\n",
    "[\n",
    "'Sue_Anne  Sam', \n",
    "'Sam  Billy_Joe',\n",
    "'Billy_Joe  Barbara',\n",
    "'Harry  Hugo',\n",
    "'Barbara  Bobbie_Rae',\n",
    "'Sue_Anne  Hugo',\n",
    "'Sue_Anne  Harry',\n",
    "'Sam  Ricky',\n",
    "'Barbara  Sue_Anne']\n",
    "G = nx.parse_edgelist(edgelist_str)"
   ]
  },
  {
   "cell_type": "markdown",
   "metadata": {
    "colab_type": "text",
    "id": "SzZEYPQ8UZe5"
   },
   "source": [
    "G is now a `networkx` graph object:"
   ]
  },
  {
   "cell_type": "markdown",
   "metadata": {
    "colab_type": "text",
    "id": "wbGfdQJ6UZfC"
   },
   "source": [
    "NB: `Networkx` also allows an edgelist to be read from\n",
    "a file via a function called `nx.read_edgelist`.\n",
    "Just like `nx.parse_edgelist` it returns the graph object."
   ]
  },
  {
   "cell_type": "code",
   "execution_count": 15,
   "metadata": {
    "colab": {},
    "colab_type": "code",
    "id": "tG5dpbfHUZe6",
    "outputId": "3e2de2b6-32e5-4165-a9d2-a63a71cd00a4"
   },
   "outputs": [
    {
     "data": {
      "text/plain": [
       "<networkx.classes.graph.Graph at 0x7facb1209310>"
      ]
     },
     "execution_count": 15,
     "metadata": {},
     "output_type": "execute_result"
    }
   ],
   "source": [
    "G"
   ]
  },
  {
   "cell_type": "markdown",
   "metadata": {
    "colab_type": "text",
    "id": "SfGMrRH5UZe7"
   },
   "source": [
    "We find a list of pairs-like representation of the edges in our graph if we look at something called `G.edges`."
   ]
  },
  {
   "cell_type": "code",
   "execution_count": 12,
   "metadata": {
    "colab": {},
    "colab_type": "code",
    "id": "JagO2aPFUZe7",
    "outputId": "2f6d0a12-6bb9-4698-cbd0-76087c0f092d",
    "scrolled": true
   },
   "outputs": [
    {
     "data": {
      "text/plain": [
       "EdgeView([('Sue_Anne', 'Sam'), ('Sue_Anne', 'Hugo'), ('Sue_Anne', 'Harry'), ('Sue_Anne', 'Barbara'), ('Sam', 'Billy_Joe'), ('Sam', 'Ricky'), ('Hugo', 'Harry'), ('Billy_Joe', 'Barbara'), ('Barbara', 'Bobbie_Rae')])"
      ]
     },
     "execution_count": 12,
     "metadata": {},
     "output_type": "execute_result"
    }
   ],
   "source": [
    "G.edges"
   ]
  },
  {
   "cell_type": "markdown",
   "metadata": {
    "colab_type": "text",
    "id": "UujFMMYgUZe9"
   },
   "source": [
    "We will talk more about the `x.y` syntax later when we talk about classes and class instances.  For now, we will just note that **objects** (the graph `G` is an object) have **attributes** (`edges` is an attribute of `G`), and `G.edges` denotes the list-of-pairs like data you see above. Each member of this \"list\" represents a link in the graph, or a friendship.\n",
    "\n",
    "The graph `G` has a number of attributes.  Another attribute is `nodes`, which stores a list-like view of the people (nodes) in the friendship network."
   ]
  },
  {
   "cell_type": "code",
   "execution_count": 16,
   "metadata": {
    "colab": {},
    "colab_type": "code",
    "id": "_YJFfCEQUZe9",
    "outputId": "a142ac25-b616-4ec7-ee11-1d314db23719"
   },
   "outputs": [
    {
     "data": {
      "text/plain": [
       "NodeView(('Sue_Anne', 'Sam', 'Hugo', 'Harry', 'Billy_Joe', 'Barbara', 'Bobbie_Rae', 'Ricky'))"
      ]
     },
     "execution_count": 16,
     "metadata": {},
     "output_type": "execute_result"
    }
   ],
   "source": [
    "G.nodes"
   ]
  },
  {
   "cell_type": "markdown",
   "metadata": {
    "colab_type": "text",
    "id": "4-rNTuYAUZe_"
   },
   "source": [
    "It turns out that even  though `G` is not a dictionary, we can treat it like one, using the nodes in `G.nodes` as its keys:"
   ]
  },
  {
   "cell_type": "code",
   "execution_count": null,
   "metadata": {
    "colab": {},
    "colab_type": "code",
    "id": "FmKxT92lUZfA",
    "outputId": "d52b094d-b661-47a7-a711-d138bef8dc95"
   },
   "outputs": [
    {
     "name": "stdout",
     "output_type": "stream",
     "text": [
      "Sue_Anne {'Sam': {}, 'Hugo': {}, 'Harry': {}, 'Barbara': {}}\n",
      "Sam {'Sue_Anne': {}, 'Billy_Joe': {}, 'Ricky': {}}\n",
      "Billy_Joe {'Sam': {}, 'Barbara': {}}\n",
      "Barbara {'Billy_Joe': {}, 'Bobbie_Rae': {}, 'Sue_Anne': {}}\n",
      "Harry {'Hugo': {}, 'Sue_Anne': {}}\n",
      "Hugo {'Harry': {}, 'Sue_Anne': {}}\n",
      "Bobbie_Rae {'Barbara': {}}\n",
      "Ricky {'Sam': {}}\n"
     ]
    }
   ],
   "source": [
    "for n in G.nodes():\n",
    "    print('{0} {1}'.format(n, G[n]))\n",
    "    #print('{0:<15} {1}'.format(n, G[n]))"
   ]
  },
  {
   "cell_type": "markdown",
   "metadata": {
    "colab_type": "text",
    "id": "Fok3LM2xUZfB"
   },
   "source": [
    "One of the attractions of using a graph package like `Networkx` instead of \"rolling our own\" representation of a graph, is that it provides a lot of efficient functions for doing things one would want to do with graphs.  For example, we might want to **draw** them.  Typically there is a lot of complexity in any visualization software, and visualization is a good plac to start letting the pros do it.  In fact `networkx` makes use of still another package to do its drawing, `matplotlib (pylab)`, the same Python package we will use for drawing graphs later."
   ]
  },
  {
   "cell_type": "code",
   "execution_count": 27,
   "metadata": {
    "colab": {},
    "colab_type": "code",
    "id": "MNzBlIyfUZfB",
    "outputId": "1a232957-9db0-47b6-847c-959604b99e7a",
    "scrolled": true
   },
   "outputs": [
    {
     "data": {
      "image/png": "[encoded data removed]",
      "text/plain": [
       "<Figure size 432x288 with 1 Axes>"
      ]
     },
     "metadata": {},
     "output_type": "display_data"
    }
   ],
   "source": [
    "nx.draw_networkx(G,node_size=50,node_color='gray')"
   ]
  },
  {
   "cell_type": "markdown",
   "metadata": {
    "colab_type": "text",
    "id": "8pmVv9rkUZfE"
   },
   "source": [
    "Let's look at `G[n]` a little more closely:"
   ]
  },
  {
   "cell_type": "code",
   "execution_count": null,
   "metadata": {
    "colab": {},
    "colab_type": "code",
    "id": "qHtQt9v2UZfE",
    "outputId": "39f117fe-bd77-4626-bc4d-cb2f5eb56879"
   },
   "outputs": [
    {
     "name": "stdout",
     "output_type": "stream",
     "text": [
      "Sue_Anne        {'Sam': {}, 'Hugo': {}, 'Harry': {}, 'Barbara': {}}\n",
      "Sam             {'Sue_Anne': {}, 'Billy_Joe': {}, 'Ricky': {}}\n",
      "Billy_Joe       {'Sam': {}, 'Barbara': {}}\n",
      "Barbara         {'Billy_Joe': {}, 'Bobbie_Rae': {}, 'Sue_Anne': {}}\n",
      "Harry           {'Hugo': {}, 'Sue_Anne': {}}\n",
      "Hugo            {'Harry': {}, 'Sue_Anne': {}}\n",
      "Bobbie_Rae      {'Barbara': {}}\n",
      "Ricky           {'Sam': {}}\n"
     ]
    }
   ],
   "source": [
    "for n in G.nodes():\n",
    "    print('{0:15} {1}'.format(n, G[n]))"
   ]
  },
  {
   "cell_type": "markdown",
   "metadata": {
    "colab_type": "text",
    "id": "BON4vqGrUZfF"
   },
   "source": [
    "Notice that in each case `G[n]` is a dictionary.  The keys of `n` are the friends that `n` is connected to.  That values are empty dictionaries.\n",
    "\n",
    "This representation is a little different from the dictionary representation of the graph we used above.  Think about two questions.  (a) Does it contain the same information as our dictionary representation above? (b) How is it different?  "
   ]
  },
  {
   "cell_type": "markdown",
   "metadata": {
    "colab_type": "text",
    "id": "c-l3DaCeUZfG"
   },
   "source": [
    "The advantage of having those empty dictionaries around is that it we can use them to representing attributes of edges, which allows us to build networks with more realistic properties.  For example, suppose we want to associate friendship links with an intensity, as measured by something like the number of different kinds of contexts in which the two friends see one another.  We would then want to be able to associate each edge with a weight.  To build a `Networkx` representation of weighted edges, we could do something like  this:"
   ]
  },
  {
   "cell_type": "code",
   "execution_count": 28,
   "metadata": {
    "colab": {},
    "colab_type": "code",
    "id": "JJHrVUWrUZfG"
   },
   "outputs": [],
   "source": [
    "edgelist_str1 = \\\n",
    "[\n",
    "'Sue_Anne  Sam {\"weight\":8}', \n",
    "'Sam  Billy_Joe {\"weight\":5}',\n",
    "'Billy_Joe  Barbara {\"weight\":3}',\n",
    "'Harry  Hugo {\"weight\":8}',\n",
    "'Barbara  Bobbie_Rae {\"weight\":1}',\n",
    "'Sue_Anne  Hugo {\"weight\":9}',\n",
    "'Sue_Anne  Harry {\"weight\":7}',\n",
    "'Sam  Ricky {\"weight\":8}',\n",
    "'Barbara  Sue_Anne {\"weight\":2}']\n",
    "\n",
    "G1 = nx.parse_edgelist(edgelist_str1)\n"
   ]
  },
  {
   "cell_type": "markdown",
   "metadata": {
    "colab_type": "text",
    "id": "lX9b1rEwUZfH"
   },
   "source": [
    "This means `Sue_Anne` has relatively intense freindships with `Hugo` and `Sam`, and that `Barbara` and `Bobbie Rae` have a relativly casual friendship.\n",
    "\n",
    "`G1.edges` looks much the same."
   ]
  },
  {
   "cell_type": "code",
   "execution_count": 29,
   "metadata": {
    "colab": {},
    "colab_type": "code",
    "id": "xH9F6KplUZfH"
   },
   "outputs": [
    {
     "data": {
      "text/plain": [
       "EdgeView([('Sue_Anne', 'Sam'), ('Sue_Anne', 'Hugo'), ('Sue_Anne', 'Harry'), ('Sue_Anne', 'Barbara'), ('Sam', 'Billy_Joe'), ('Sam', 'Ricky'), ('Billy_Joe', 'Barbara'), ('Barbara', 'Bobbie_Rae'), ('Harry', 'Hugo')])"
      ]
     },
     "execution_count": 29,
     "metadata": {},
     "output_type": "execute_result"
    }
   ],
   "source": [
    "G1.edges"
   ]
  },
  {
   "cell_type": "markdown",
   "metadata": {
    "colab_type": "text",
    "id": "UfYqXZIGUZfI"
   },
   "source": [
    "However, if we want to see the edge **weights**, or the **data** we have about each edge, we do this:\n"
   ]
  },
  {
   "cell_type": "code",
   "execution_count": 30,
   "metadata": {
    "colab": {},
    "colab_type": "code",
    "id": "H3iFMiHVUZfJ"
   },
   "outputs": [
    {
     "data": {
      "text/plain": [
       "EdgeDataView([('Sue_Anne', 'Sam', {'weight': 8}), ('Sue_Anne', 'Hugo', {'weight': 9}), ('Sue_Anne', 'Harry', {'weight': 7}), ('Sue_Anne', 'Barbara', {'weight': 2}), ('Sam', 'Billy_Joe', {'weight': 5}), ('Sam', 'Ricky', {'weight': 8}), ('Billy_Joe', 'Barbara', {'weight': 3}), ('Barbara', 'Bobbie_Rae', {'weight': 1}), ('Harry', 'Hugo', {'weight': 8})])"
      ]
     },
     "execution_count": 30,
     "metadata": {},
     "output_type": "execute_result"
    }
   ],
   "source": [
    "G1.edges(data = True)"
   ]
  },
  {
   "cell_type": "markdown",
   "metadata": {
    "colab_type": "text",
    "id": "jaIHUcfeUZfL"
   },
   "source": [
    "The `edges` attribute can be **called**, like a function,  and extra arguments (in the case `data`) can be specified. A function of this sort of is called a **method**  We'll learn more about methods when we talk about classes.\n",
    "\n",
    "If the designers have been good to us, a method will have documentation, and we can look it up in the notebook environment as follows:"
   ]
  },
  {
   "cell_type": "code",
   "execution_count": 31,
   "metadata": {
    "colab": {},
    "colab_type": "code",
    "id": "tUfh5qVUUZfL"
   },
   "outputs": [],
   "source": [
    "G1.edges?"
   ]
  },
  {
   "cell_type": "markdown",
   "metadata": {
    "colab_type": "text",
    "id": "6-w1SHN0UZfM"
   },
   "source": [
    "We can also take advantage of the fact that we can treat `G1` like a dictionary, and that the value\n",
    "of `G1['Sue_Anne']` is a dictionary to find the weight of one of `Sue_Anne`'s friendships:"
   ]
  },
  {
   "cell_type": "code",
   "execution_count": 32,
   "metadata": {
    "colab": {},
    "colab_type": "code",
    "id": "A27CCZ26UZfN"
   },
   "outputs": [
    {
     "data": {
      "text/plain": [
       "{'weight': 8}"
      ]
     },
     "execution_count": 32,
     "metadata": {},
     "output_type": "execute_result"
    }
   ],
   "source": [
    "G1['Sue_Anne']['Sam']"
   ]
  },
  {
   "cell_type": "markdown",
   "metadata": {
    "colab_type": "text",
    "id": "qMopsA9yUZfO"
   },
   "source": [
    "Or even:"
   ]
  },
  {
   "cell_type": "code",
   "execution_count": 33,
   "metadata": {
    "colab": {},
    "colab_type": "code",
    "id": "afjSqHxxUZfP"
   },
   "outputs": [
    {
     "data": {
      "text/plain": [
       "8"
      ]
     },
     "execution_count": 33,
     "metadata": {},
     "output_type": "execute_result"
    }
   ],
   "source": [
    "G1['Sue_Anne']['Sam']['weight']"
   ]
  },
  {
   "cell_type": "code",
   "execution_count": 35,
   "metadata": {
    "colab": {},
    "colab_type": "code",
    "id": "kKl9glQQUZfQ"
   },
   "outputs": [
    {
     "data": {
      "image/png": "[encoded data removed]",
      "text/plain": [
       "<Figure size 432x288 with 1 Axes>"
      ]
     },
     "metadata": {},
     "output_type": "display_data"
    }
   ],
   "source": [
    "nx.draw_networkx(G1,node_color='blue',node_size=50)"
   ]
  },
  {
   "cell_type": "markdown",
   "metadata": {
    "colab_type": "text",
    "id": "xw1ac29FUZfR"
   },
   "source": [
    "Let's do the following exercise.  Take the following information.  Make it an edgelist like `edgelist_str` above (no weights).\n",
    "\n",
    "```\n",
    "Acme buys parts from D-Line and Excelsior, Inc.\n",
    "D-Line buys parts from Excelsior, Inc.\n",
    "Fillmore Lmtd. buys parts from Excelsior Inc. and Bradley Tool & Dye.\n",
    "Bradley Tool & Dye buys parts from Crossley Maritime.\n",
    "Bradley Tool & Dye buys parts from D-Line.\n",
    "Crossley Maritime supplies Acme.\n",
    "```"
   ]
  },
  {
   "cell_type": "code",
   "execution_count": null,
   "metadata": {
    "colab": {},
    "colab_type": "code",
    "id": "krXckMz7UZfR"
   },
   "outputs": [],
   "source": [
    "#[your answer goes here; call your edgelist e10]"
   ]
  },
  {
   "cell_type": "markdown",
   "metadata": {
    "colab_type": "text",
    "id": "X6srX4_TUZfS"
   },
   "source": [
    "The next cell creates and draws your network, assuming you have created the edgeliust `e10` containing the above\n",
    "\"buy parts\" information.  It creates a **directed graph**.  That is, the links are directional.  We used an undirected graph above because we were talking about friendship; if Sue Anne and Sam are friends, then Sam is Sue Anne's friend and Sue Anne is Sam's friend.  Buying parts doesn't work that way.  One company is the buyer; the other the supplier.\n",
    "\n",
    "If you've completed this extra credit section (and defined `e10`, you should execute the cell below befor ehanding the notebook."
   ]
  },
  {
   "cell_type": "code",
   "execution_count": null,
   "metadata": {
    "colab": {},
    "colab_type": "code",
    "id": "LmotLPlSUZfS"
   },
   "outputs": [],
   "source": [
    "G2 = nx.parse_edgelist(e10,create_using=nx.DiGraph())\n",
    "nx.draw_networkx(G2)"
   ]
  },
  {
   "cell_type": "code",
   "execution_count": null,
   "metadata": {
    "colab": {},
    "colab_type": "code",
    "id": "0ovWXM8rUZfT"
   },
   "outputs": [],
   "source": []
  }
 ],
 "metadata": {
  "celltoolbar": "Slideshow",
  "colab": {
   "collapsed_sections": [
    "vVObwCeJUZdA",
    "ZCU5yT9iUZdJ",
    "b76uibrJUZdS",
    "_kQUjWvJUZeS",
    "Mv_7NvXqUZeW",
    "JqmD8DNiUZea",
    "xNNREsNtUZel",
    "VLsLVerVUZeo",
    "MBY-MHvWUZe1"
   ],
   "name": "Copy of python_types-nb.ipynb",
   "provenance": []
  },
  "kernelspec": {
   "display_name": "Python 3 (ipykernel)",
   "language": "python",
   "name": "python3"
  },
  "language_info": {
   "codemirror_mode": {
    "name": "ipython",
    "version": 3
   },
   "file_extension": ".py",
   "mimetype": "text/x-python",
   "name": "python",
   "nbconvert_exporter": "python",
   "pygments_lexer": "ipython3",
   "version": "3.7.0"
  },
  "toc": {
   "base_numbering": 1,
   "nav_menu": {
    "height": "277px",
    "width": "252px"
   },
   "number_sections": true,
   "sideBar": true,
   "skip_h1_title": false,
   "title_cell": "Table of Contents",
   "title_sidebar": "Contents",
   "toc_cell": false,
   "toc_position": {},
   "toc_section_display": "block",
   "toc_window_display": false
  }
 },
 "nbformat": 4,
 "nbformat_minor": 1
}
