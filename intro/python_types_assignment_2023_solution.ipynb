{
 "cells": [
  {
   "cell_type": "markdown",
   "metadata": {
    "colab_type": "text",
    "id": "ZIBX7u_RW74U"
   },
   "source": [
    "# Python Types Assignment 2023 Solution"
   ]
  },
  {
   "cell_type": "markdown",
   "metadata": {
    "colab_type": "text",
    "id": "kWYWYfMiW74W"
   },
   "source": [
    "For the problems in this assignment, assume all the definitions in the next cell, and check your answers by evaluating the next cell and verifying that your answers give the required results."
   ]
  },
  {
   "cell_type": "code",
   "execution_count": 1,
   "metadata": {
    "colab": {},
    "colab_type": "code",
    "id": "19mvC4k2W74X"
   },
   "outputs": [],
   "source": [
    "# Note: the interpretation we will work with for city distances is that it is a weighted graph representing \n",
    "# city distances.  The weights represent the distance between the cities. \n",
    "city_distances = {'New York': {'Chicago': 790, 'Boston': 215, 'St. Louis': 953, 'Baltimore':188},\n",
    "                   'Chicago': {'Denver': 1_002, 'Omaha': 467, 'Salt Lake City':1_397},\n",
    "                   'Denver': {'Phoenix': 865, 'Salt Lake City': 528, },\n",
    "                   'Phoenix': { 'Albuquerque': 419,  'Reno': 739, 'San Diego': 355},\n",
    "                   'Dallas' : {'Houston': 241}\n",
    "                  }\n",
    "capitals = [ ('France', 'Paris'), ('Italy', 'Rome'), ('Germany', 'Berlin'),  ('England', 'London'),\n",
    "                          ('Sweden', 'Stockholm'), ('Norway', 'Oslo'), ('Poland', 'Warsaw')]\n",
    "country2capital = dict(capitals)\n",
    "dwarves = ('Sneezy', 'Doc', 'Sleepy','Happy','Dopey','Grumpy', 'Bashful')\n",
    "secret_word = \"sesame bagel\"\n",
    "historical_records = [{'name':'Fred Flinstone',\n",
    "                     'spouse': 'Wilma',\n",
    "                       'favorite_tv_shows': ['The Honeymooners', 'The Jetsons'],\n",
    "                      'town of residence': 'Bedrock'},\n",
    "                    {'name':'Barney Rubble',\n",
    "                     'spouse': 'Elizabeth',\n",
    "                     'favorite_tv_shows': ['The Crown', 'Bridgerton'],\n",
    "                      'town of residence': 'Bedrock'},\n",
    "                  ]"
   ]
  },
  {
   "cell_type": "markdown",
   "metadata": {
    "colab_type": "text",
    "id": "_3Sm1M10W74W"
   },
   "source": [
    "## Part One"
   ]
  },
  {
   "cell_type": "markdown",
   "metadata": {
    "colab_type": "text",
    "id": "-SdNV4DNW74i"
   },
   "source": [
    "## Exercise One\n",
    "\n",
    "In the next cell, write expression that accesses `dwarves` and returns the value `\"Bashful\"`."
   ]
  },
  {
   "cell_type": "markdown",
   "metadata": {},
   "source": [
    "Container"
   ]
  },
  {
   "cell_type": "code",
   "execution_count": 95,
   "metadata": {},
   "outputs": [
    {
     "data": {
      "text/plain": [
       "('Sneezy', 'Doc', 'Sleepy', 'Happy', 'Dopey', 'Grumpy', 'Bashful')"
      ]
     },
     "execution_count": 95,
     "metadata": {},
     "output_type": "execute_result"
    }
   ],
   "source": [
    "dwarves"
   ]
  },
  {
   "cell_type": "markdown",
   "metadata": {},
   "source": [
    "Solution"
   ]
  },
  {
   "cell_type": "code",
   "execution_count": 3,
   "metadata": {
    "colab": {},
    "colab_type": "code",
    "id": "Ic5AnNKuW74j"
   },
   "outputs": [
    {
     "data": {
      "text/plain": [
       "'Bashful'"
      ]
     },
     "execution_count": 3,
     "metadata": {},
     "output_type": "execute_result"
    }
   ],
   "source": [
    "dwarves[-1]"
   ]
  },
  {
   "cell_type": "markdown",
   "metadata": {
    "colab_type": "text",
    "id": "nrb4FrpQW74m"
   },
   "source": [
    " "
   ]
  },
  {
   "cell_type": "markdown",
   "metadata": {
    "colab_type": "text",
    "id": "gyonsXZjW74m"
   },
   "source": [
    "## Exercise Two\n",
    "\n",
    "In the next cell, write an expression that accesses `secret_word` and returns the value `\"m\"`.\n",
    "`."
   ]
  },
  {
   "cell_type": "markdown",
   "metadata": {},
   "source": [
    "Container"
   ]
  },
  {
   "cell_type": "code",
   "execution_count": 96,
   "metadata": {},
   "outputs": [
    {
     "data": {
      "text/plain": [
       "'sesame bagel'"
      ]
     },
     "execution_count": 96,
     "metadata": {},
     "output_type": "execute_result"
    }
   ],
   "source": [
    "secret_word"
   ]
  },
  {
   "cell_type": "markdown",
   "metadata": {},
   "source": [
    "Solution"
   ]
  },
  {
   "cell_type": "code",
   "execution_count": 5,
   "metadata": {
    "colab": {},
    "colab_type": "code",
    "id": "dLKwzgMKW74n",
    "outputId": "110e6599-5bd7-47af-e9cd-072fe25d06c4",
    "scrolled": true
   },
   "outputs": [
    {
     "data": {
      "text/plain": [
       "'m'"
      ]
     },
     "execution_count": 5,
     "metadata": {},
     "output_type": "execute_result"
    }
   ],
   "source": [
    "secret_word[4]"
   ]
  },
  {
   "cell_type": "markdown",
   "metadata": {
    "colab_type": "text",
    "id": "SqgeJc1jW74p"
   },
   "source": [
    " "
   ]
  },
  {
   "cell_type": "markdown",
   "metadata": {
    "colab_type": "text",
    "id": "IFmMMNrVW74q"
   },
   "source": [
    "## Exercise Three\n",
    "\n",
    "In the next cell, write an expression that accesses `dwarves` and produces an `IndexError`.  Try to make the index you use to access `dwarves` as small as possible."
   ]
  },
  {
   "cell_type": "markdown",
   "metadata": {},
   "source": [
    "Container"
   ]
  },
  {
   "cell_type": "code",
   "execution_count": 3,
   "metadata": {},
   "outputs": [
    {
     "data": {
      "text/plain": [
       "('Sneezy', 'Doc', 'Sleepy', 'Happy', 'Dopey', 'Grumpy', 'Bashful')"
      ]
     },
     "execution_count": 3,
     "metadata": {},
     "output_type": "execute_result"
    }
   ],
   "source": [
    "dwarves"
   ]
  },
  {
   "cell_type": "markdown",
   "metadata": {},
   "source": [
    "Solution: "
   ]
  },
  {
   "cell_type": "code",
   "execution_count": 4,
   "metadata": {},
   "outputs": [
    {
     "ename": "IndexError",
     "evalue": "tuple index out of range",
     "output_type": "error",
     "traceback": [
      "\u001b[0;31m---------------------------------------------------------------------------\u001b[0m",
      "\u001b[0;31mIndexError\u001b[0m                                Traceback (most recent call last)",
      "\u001b[0;32m/var/folders/w9/bx4mylnd27g_kqqgn5hrn2x40000gr/T/ipykernel_53108/210683397.py\u001b[0m in \u001b[0;36m<module>\u001b[0;34m\u001b[0m\n\u001b[0;32m----> 1\u001b[0;31m \u001b[0mdwarves\u001b[0m\u001b[0;34m[\u001b[0m\u001b[0;36m7\u001b[0m\u001b[0;34m]\u001b[0m\u001b[0;34m\u001b[0m\u001b[0m\n\u001b[0m",
      "\u001b[0;31mIndexError\u001b[0m: tuple index out of range"
     ]
    }
   ],
   "source": [
    "dwarves[7]"
   ]
  },
  {
   "cell_type": "markdown",
   "metadata": {},
   "source": [
    "**Note**: What we label the solution for a problem is always a full-credit answer; what we label as Comment is always discussion that may be helpful to understanding the purpose of the problem or the reasoning behind a solution, but is not required for a full-credit answer."
   ]
  },
  {
   "cell_type": "markdown",
   "metadata": {},
   "source": [
    "**Comment**: A `tuple` is a **Sequence**. The maximum legal index for any\n",
    "sequence `seq` is `seq[len(seq) - 1]`.  Therefore the smallest index\n",
    "that will raise an error is `len(seq)`.  For `dwarves` we have:"
   ]
  },
  {
   "cell_type": "code",
   "execution_count": 98,
   "metadata": {},
   "outputs": [
    {
     "data": {
      "text/plain": [
       "7"
      ]
     },
     "execution_count": 98,
     "metadata": {},
     "output_type": "execute_result"
    }
   ],
   "source": [
    "len(dwarves)"
   ]
  },
  {
   "cell_type": "markdown",
   "metadata": {},
   "source": [
    "So this is equivalent to the full-credit answer above."
   ]
  },
  {
   "cell_type": "code",
   "execution_count": 97,
   "metadata": {
    "colab": {},
    "colab_type": "code",
    "id": "DC5oXusOW74r",
    "scrolled": true
   },
   "outputs": [
    {
     "ename": "IndexError",
     "evalue": "tuple index out of range",
     "output_type": "error",
     "traceback": [
      "\u001b[0;31m---------------------------------------------------------------------------\u001b[0m",
      "\u001b[0;31mIndexError\u001b[0m                                Traceback (most recent call last)",
      "\u001b[0;32m/var/folders/w9/bx4mylnd27g_kqqgn5hrn2x40000gr/T/ipykernel_46533/983145037.py\u001b[0m in \u001b[0;36m<module>\u001b[0;34m\u001b[0m\n\u001b[0;32m----> 1\u001b[0;31m \u001b[0mdwarves\u001b[0m\u001b[0;34m[\u001b[0m\u001b[0mlen\u001b[0m\u001b[0;34m(\u001b[0m\u001b[0mdwarves\u001b[0m\u001b[0;34m)\u001b[0m\u001b[0;34m]\u001b[0m\u001b[0;34m\u001b[0m\u001b[0;34m\u001b[0m\u001b[0m\n\u001b[0m",
      "\u001b[0;31mIndexError\u001b[0m: tuple index out of range"
     ]
    }
   ],
   "source": [
    "dwarves[len(dwarves)]"
   ]
  },
  {
   "cell_type": "markdown",
   "metadata": {},
   "source": [
    "To demonstrate, the the index 1 less than `len(dwarves)` is valid."
   ]
  },
  {
   "cell_type": "code",
   "execution_count": 99,
   "metadata": {},
   "outputs": [
    {
     "data": {
      "text/plain": [
       "'Bashful'"
      ]
     },
     "execution_count": 99,
     "metadata": {},
     "output_type": "execute_result"
    }
   ],
   "source": [
    "dwarves[len(dwarves)-1]"
   ]
  },
  {
   "cell_type": "markdown",
   "metadata": {
    "colab_type": "text",
    "id": "SRhYiXRJW74t"
   },
   "source": [
    "## Exercise Four\n",
    "\n",
    "In the next cell, write an expression that accesses `dwarves` and returns `\"ope\"`.  There is more than one answer.  See if you can find two."
   ]
  },
  {
   "cell_type": "markdown",
   "metadata": {},
   "source": [
    "Container"
   ]
  },
  {
   "cell_type": "code",
   "execution_count": 100,
   "metadata": {},
   "outputs": [
    {
     "data": {
      "text/plain": [
       "('Sneezy', 'Doc', 'Sleepy', 'Happy', 'Dopey', 'Grumpy', 'Bashful')"
      ]
     },
     "execution_count": 100,
     "metadata": {},
     "output_type": "execute_result"
    }
   ],
   "source": [
    "dwarves"
   ]
  },
  {
   "cell_type": "markdown",
   "metadata": {},
   "source": [
    "Solution One:"
   ]
  },
  {
   "cell_type": "code",
   "execution_count": 102,
   "metadata": {
    "colab": {},
    "colab_type": "code",
    "id": "sb81tMbDW74u",
    "outputId": "071b430e-a70d-4e89-b892-f8429f3f7c47",
    "scrolled": true
   },
   "outputs": [
    {
     "data": {
      "text/plain": [
       "'ope'"
      ]
     },
     "execution_count": 102,
     "metadata": {},
     "output_type": "execute_result"
    }
   ],
   "source": [
    "dwarves[4][1:4]"
   ]
  },
  {
   "cell_type": "markdown",
   "metadata": {},
   "source": [
    "Solution Two:"
   ]
  },
  {
   "cell_type": "code",
   "execution_count": 103,
   "metadata": {},
   "outputs": [
    {
     "data": {
      "text/plain": [
       "'ope'"
      ]
     },
     "execution_count": 103,
     "metadata": {},
     "output_type": "execute_result"
    }
   ],
   "source": [
    "dwarves[-3][1:4]"
   ]
  },
  {
   "cell_type": "markdown",
   "metadata": {
    "colab_type": "text",
    "id": "Yd_mC2AHW74w"
   },
   "source": [
    " ## Exercise Five\n",
    " \n",
    " In the next cell, write **a single Python expression** that accesses `secret_word` and returns\n",
    " \n",
    " ```\n",
    " ['sesame','bagel']\n",
    " ```\n",
    " \n",
    " You will need to use a string **method**, that is, a function called with the syntax `secret_word.function(...)`."
   ]
  },
  {
   "cell_type": "markdown",
   "metadata": {},
   "source": [
    "Container:"
   ]
  },
  {
   "cell_type": "code",
   "execution_count": 107,
   "metadata": {},
   "outputs": [
    {
     "data": {
      "text/plain": [
       "'sesame bagel'"
      ]
     },
     "execution_count": 107,
     "metadata": {},
     "output_type": "execute_result"
    }
   ],
   "source": [
    "secret_word"
   ]
  },
  {
   "cell_type": "markdown",
   "metadata": {},
   "source": [
    "Solution:"
   ]
  },
  {
   "cell_type": "code",
   "execution_count": 13,
   "metadata": {
    "colab": {},
    "colab_type": "code",
    "id": "tRmFvB_8W74x",
    "outputId": "a6465e2f-f441-4180-af3a-2fcc595b62a4"
   },
   "outputs": [
    {
     "data": {
      "text/plain": [
       "['sesame', 'bagel']"
      ]
     },
     "execution_count": 13,
     "metadata": {},
     "output_type": "execute_result"
    }
   ],
   "source": [
    "secret_word.split()"
   ]
  },
  {
   "cell_type": "markdown",
   "metadata": {},
   "source": [
    "Comment: The `.split()` method is one of tho most common ways to go from\n",
    "string to list.  It allows you some flexibility in how you **chunk** your string by letting you choose the \"split\" character."
   ]
  },
  {
   "cell_type": "code",
   "execution_count": 105,
   "metadata": {},
   "outputs": [
    {
     "data": {
      "text/plain": [
       "['sesa', 'e bagel']"
      ]
     },
     "execution_count": 105,
     "metadata": {},
     "output_type": "execute_result"
    }
   ],
   "source": [
    "secret_word.split('m')"
   ]
  },
  {
   "cell_type": "markdown",
   "metadata": {
    "colab_type": "text",
    "id": "0c5-_POaW74z"
   },
   "source": [
    " "
   ]
  },
  {
   "cell_type": "markdown",
   "metadata": {
    "colab_type": "text",
    "id": "TyoTDs0_W740"
   },
   "source": [
    "## Exercise Six\n",
    "\n",
    "Explain what happens  when the following expression is evaluated.  Edit it to be an expression that returns `\"h\"`."
   ]
  },
  {
   "cell_type": "code",
   "execution_count": 82,
   "metadata": {},
   "outputs": [
    {
     "ename": "TypeError",
     "evalue": "string indices must be integers",
     "output_type": "error",
     "traceback": [
      "\u001b[0;31m---------------------------------------------------------------------------\u001b[0m",
      "\u001b[0;31mTypeError\u001b[0m                                 Traceback (most recent call last)",
      "\u001b[0;32m/var/folders/w9/bx4mylnd27g_kqqgn5hrn2x40000gr/T/ipykernel_53108/4232992233.py\u001b[0m in \u001b[0;36m<module>\u001b[0;34m\u001b[0m\n\u001b[0;32m----> 1\u001b[0;31m \u001b[0mdwarves\u001b[0m\u001b[0;34m[\u001b[0m\u001b[0;36m6\u001b[0m\u001b[0;34m]\u001b[0m\u001b[0;34m[\u001b[0m\u001b[0;34m'h'\u001b[0m\u001b[0;34m]\u001b[0m\u001b[0;34m\u001b[0m\u001b[0m\n\u001b[0m",
      "\u001b[0;31mTypeError\u001b[0m: string indices must be integers"
     ]
    }
   ],
   "source": [
    "dwarves[6]['h']"
   ]
  },
  {
   "cell_type": "markdown",
   "metadata": {},
   "source": [
    "Solution:"
   ]
  },
  {
   "cell_type": "markdown",
   "metadata": {},
   "source": [
    "(Explain what happens when the ... expression is evaluated.)\n",
    "\n",
    "`dwarves[6]` denotes the string `Bashful`.  Strings are Python sequences and must be accessed by **positional indices** (integers specifying the position of a character in the string). Using anything other than an integer raises a `TypeError`."
   ]
  },
  {
   "cell_type": "markdown",
   "metadata": {},
   "source": [
    "Solution:"
   ]
  },
  {
   "cell_type": "markdown",
   "metadata": {},
   "source": [
    "(Edit it to be an expression that returns \"h\".)"
   ]
  },
  {
   "cell_type": "code",
   "execution_count": 84,
   "metadata": {},
   "outputs": [
    {
     "data": {
      "text/plain": [
       "'h'"
      ]
     },
     "execution_count": 84,
     "metadata": {},
     "output_type": "execute_result"
    }
   ],
   "source": [
    "dwarves[6][3]"
   ]
  },
  {
   "cell_type": "markdown",
   "metadata": {},
   "source": [
    "Comment.  \n",
    "\n",
    "Demonstrating that `dwarves[6]` denotes `\"Bashful\"`."
   ]
  },
  {
   "cell_type": "code",
   "execution_count": 109,
   "metadata": {
    "scrolled": true
   },
   "outputs": [
    {
     "data": {
      "text/plain": [
       "'Bashful'"
      ]
     },
     "execution_count": 109,
     "metadata": {},
     "output_type": "execute_result"
    }
   ],
   "source": [
    "dwarves[6]"
   ]
  },
  {
   "cell_type": "markdown",
   "metadata": {},
   "source": [
    "Comment.\n",
    "\n",
    "Demonstrating that accessing a string with an non-integer index raises a `TypeError`."
   ]
  },
  {
   "cell_type": "code",
   "execution_count": 83,
   "metadata": {},
   "outputs": [
    {
     "ename": "TypeError",
     "evalue": "string indices must be integers",
     "output_type": "error",
     "traceback": [
      "\u001b[0;31m---------------------------------------------------------------------------\u001b[0m",
      "\u001b[0;31mTypeError\u001b[0m                                 Traceback (most recent call last)",
      "\u001b[0;32m/var/folders/w9/bx4mylnd27g_kqqgn5hrn2x40000gr/T/ipykernel_53108/1241073278.py\u001b[0m in \u001b[0;36m<module>\u001b[0;34m\u001b[0m\n\u001b[0;32m----> 1\u001b[0;31m \u001b[0;34m\"Bashful\"\u001b[0m\u001b[0;34m[\u001b[0m\u001b[0;34m'h'\u001b[0m\u001b[0;34m]\u001b[0m\u001b[0;34m\u001b[0m\u001b[0m\n\u001b[0m",
      "\u001b[0;31mTypeError\u001b[0m: string indices must be integers"
     ]
    }
   ],
   "source": [
    "\"Bashful\"['h']"
   ]
  },
  {
   "cell_type": "markdown",
   "metadata": {
    "colab_type": "text",
    "id": "VabiRPzPW743"
   },
   "source": [
    " "
   ]
  },
  {
   "cell_type": "markdown",
   "metadata": {
    "colab_type": "text",
    "id": "GyNmzb8iW743"
   },
   "source": [
    "## Exercise Seven\n",
    "\n",
    "In the next cell, write an expression that accesses `dwarves[2]` and returns `True`. \n",
    "\n",
    "You will need to perform a Boolean test."
   ]
  },
  {
   "cell_type": "markdown",
   "metadata": {},
   "source": [
    "Solution One:"
   ]
  },
  {
   "cell_type": "code",
   "execution_count": 17,
   "metadata": {
    "colab": {},
    "colab_type": "code",
    "id": "S5ObRPoaW744",
    "outputId": "e8c5adb6-1044-4a86-e65f-ec7c117689db"
   },
   "outputs": [
    {
     "data": {
      "text/plain": [
       "True"
      ]
     },
     "execution_count": 17,
     "metadata": {},
     "output_type": "execute_result"
    }
   ],
   "source": [
    "dwarves[2]  == 'Sleepy'"
   ]
  },
  {
   "cell_type": "markdown",
   "metadata": {},
   "source": [
    "Solution Two:"
   ]
  },
  {
   "cell_type": "code",
   "execution_count": 2,
   "metadata": {},
   "outputs": [
    {
     "data": {
      "text/plain": [
       "True"
      ]
     },
     "execution_count": 2,
     "metadata": {},
     "output_type": "execute_result"
    }
   ],
   "source": [
    "'Sleep' in dwarves[2]"
   ]
  },
  {
   "cell_type": "markdown",
   "metadata": {},
   "source": [
    "Comment"
   ]
  },
  {
   "cell_type": "markdown",
   "metadata": {},
   "source": [
    "This problem calls for a `Boolean` test that returns `True`.  A **Boolean\n",
    "test** is a test that returns either `True` or `False` when applied. Some other examples of Boolean tests that work on strings."
   ]
  },
  {
   "cell_type": "code",
   "execution_count": 92,
   "metadata": {},
   "outputs": [
    {
     "name": "stdout",
     "output_type": "stream",
     "text": [
      "False\n",
      "True\n",
      "False\n",
      "True\n"
     ]
    }
   ],
   "source": [
    "print('Sleepy'.isupper())\n",
    "print('Sleepy'.istitle())\n",
    "print('Sleepy'.islower())\n",
    "print('Sleepy' < 'Zooey')"
   ]
  },
  {
   "cell_type": "markdown",
   "metadata": {},
   "source": [
    "The `<` operator is always used as a Boolean test.  When applied to strings it checks that the string on the left comes before the string on the right in alphabetical order.  When applied to numbers it just checks that the number on the left is smaller."
   ]
  },
  {
   "cell_type": "code",
   "execution_count": 91,
   "metadata": {},
   "outputs": [
    {
     "name": "stdout",
     "output_type": "stream",
     "text": [
      "True\n",
      "False\n",
      "False\n"
     ]
    }
   ],
   "source": [
    "print(2<3)\n",
    "print(3<2)\n",
    "print(2<2)"
   ]
  },
  {
   "cell_type": "markdown",
   "metadata": {},
   "source": []
  },
  {
   "cell_type": "markdown",
   "metadata": {
    "colab_type": "text",
    "id": "BHPox3R5W747"
   },
   "source": [
    " "
   ]
  },
  {
   "cell_type": "markdown",
   "metadata": {
    "colab_type": "text",
    "id": "MTSVrHjiW747"
   },
   "source": [
    " ## Exercise Eight A\n",
    "\n",
    "In the next cell, write an expression that accesses `capitals` and raises\n",
    "a `TypeError`."
   ]
  },
  {
   "cell_type": "code",
   "execution_count": null,
   "metadata": {},
   "outputs": [],
   "source": [
    "Container:"
   ]
  },
  {
   "cell_type": "code",
   "execution_count": 3,
   "metadata": {},
   "outputs": [
    {
     "data": {
      "text/plain": [
       "[('France', 'Paris'),\n",
       " ('Italy', 'Rome'),\n",
       " ('Germany', 'Berlin'),\n",
       " ('England', 'London'),\n",
       " ('Sweden', 'Stockholm'),\n",
       " ('Norway', 'Oslo'),\n",
       " ('Poland', 'Warsaw')]"
      ]
     },
     "execution_count": 3,
     "metadata": {},
     "output_type": "execute_result"
    }
   ],
   "source": [
    "capitals"
   ]
  },
  {
   "cell_type": "markdown",
   "metadata": {},
   "source": [
    "Solution One:"
   ]
  },
  {
   "cell_type": "code",
   "execution_count": 4,
   "metadata": {},
   "outputs": [
    {
     "ename": "TypeError",
     "evalue": "can only concatenate list (not \"str\") to list",
     "output_type": "error",
     "traceback": [
      "\u001b[0;31m---------------------------------------------------------------------------\u001b[0m",
      "\u001b[0;31mTypeError\u001b[0m                                 Traceback (most recent call last)",
      "\u001b[0;32m/var/folders/w9/bx4mylnd27g_kqqgn5hrn2x40000gr/T/ipykernel_38968/2890679280.py\u001b[0m in \u001b[0;36m<module>\u001b[0;34m\u001b[0m\n\u001b[0;32m----> 1\u001b[0;31m \u001b[0mcapitals\u001b[0m \u001b[0;34m+\u001b[0m \u001b[0;34m'X'\u001b[0m\u001b[0;34m\u001b[0m\u001b[0;34m\u001b[0m\u001b[0m\n\u001b[0m",
      "\u001b[0;31mTypeError\u001b[0m: can only concatenate list (not \"str\") to list"
     ]
    }
   ],
   "source": [
    "capitals + 'X'"
   ]
  },
  {
   "cell_type": "markdown",
   "metadata": {},
   "source": [
    "Solution Two:"
   ]
  },
  {
   "cell_type": "code",
   "execution_count": 5,
   "metadata": {},
   "outputs": [
    {
     "ename": "TypeError",
     "evalue": "list indices must be integers or slices, not str",
     "output_type": "error",
     "traceback": [
      "\u001b[0;31m---------------------------------------------------------------------------\u001b[0m",
      "\u001b[0;31mTypeError\u001b[0m                                 Traceback (most recent call last)",
      "\u001b[0;32m/var/folders/w9/bx4mylnd27g_kqqgn5hrn2x40000gr/T/ipykernel_38968/210416940.py\u001b[0m in \u001b[0;36m<module>\u001b[0;34m\u001b[0m\n\u001b[0;32m----> 1\u001b[0;31m \u001b[0mcapitals\u001b[0m\u001b[0;34m[\u001b[0m\u001b[0;34m'France'\u001b[0m\u001b[0;34m]\u001b[0m\u001b[0;34m\u001b[0m\u001b[0;34m\u001b[0m\u001b[0m\n\u001b[0m",
      "\u001b[0;31mTypeError\u001b[0m: list indices must be integers or slices, not str"
     ]
    }
   ],
   "source": [
    "capitals['France']"
   ]
  },
  {
   "cell_type": "markdown",
   "metadata": {
    "colab_type": "text",
    "id": "MTSVrHjiW747"
   },
   "source": [
    "## Exercise Eight B\n",
    "\n",
    "In the next cell, write an expression that accesses `capitals` and raises\n",
    "an `IndexError`.  If this can't be done, explain why."
   ]
  },
  {
   "cell_type": "markdown",
   "metadata": {},
   "source": [
    "Solution:"
   ]
  },
  {
   "cell_type": "code",
   "execution_count": 6,
   "metadata": {
    "scrolled": true
   },
   "outputs": [
    {
     "ename": "IndexError",
     "evalue": "list index out of range",
     "output_type": "error",
     "traceback": [
      "\u001b[0;31m---------------------------------------------------------------------------\u001b[0m",
      "\u001b[0;31mIndexError\u001b[0m                                Traceback (most recent call last)",
      "\u001b[0;32m/var/folders/w9/bx4mylnd27g_kqqgn5hrn2x40000gr/T/ipykernel_38968/2020882812.py\u001b[0m in \u001b[0;36m<module>\u001b[0;34m\u001b[0m\n\u001b[0;32m----> 1\u001b[0;31m \u001b[0mcapitals\u001b[0m\u001b[0;34m[\u001b[0m\u001b[0mlen\u001b[0m\u001b[0;34m(\u001b[0m\u001b[0mcapitals\u001b[0m\u001b[0;34m)\u001b[0m\u001b[0;34m]\u001b[0m\u001b[0;34m\u001b[0m\u001b[0;34m\u001b[0m\u001b[0m\n\u001b[0m",
      "\u001b[0;31mIndexError\u001b[0m: list index out of range"
     ]
    }
   ],
   "source": [
    "capitals[len(capitals)]"
   ]
  },
  {
   "cell_type": "markdown",
   "metadata": {},
   "source": [
    "Comment:"
   ]
  },
  {
   "cell_type": "markdown",
   "metadata": {},
   "source": [
    "`capitals` is a list, which a sequence(list, tuple, string),  Accessing  a list with an numerical index that's too large will raise an `IndexError`."
   ]
  },
  {
   "cell_type": "markdown",
   "metadata": {
    "colab_type": "text",
    "id": "MTSVrHjiW747"
   },
   "source": [
    "## Exercise Eight C\n",
    "\n",
    "In the next cell, write an expression that accesses `capitals` and raises\n",
    "a `KeyError`.  If this can't be done, explain why."
   ]
  },
  {
   "cell_type": "markdown",
   "metadata": {},
   "source": [
    "Solution one:\n",
    "\n",
    "Only dictionaries and sets can raise `KeyError`s.  Since `capitals` is a list, it can't be done."
   ]
  },
  {
   "cell_type": "code",
   "execution_count": 97,
   "metadata": {},
   "outputs": [
    {
     "data": {
      "text/plain": [
       "[('France', 'Paris'),\n",
       " ('Italy', 'Rome'),\n",
       " ('Germany', 'Berlin'),\n",
       " ('England', 'London'),\n",
       " ('Sweden', 'Stockholm'),\n",
       " ('Norway', 'Oslo'),\n",
       " ('Poland', 'Warsaw')]"
      ]
     },
     "execution_count": 97,
     "metadata": {},
     "output_type": "execute_result"
    }
   ],
   "source": [
    "capitals"
   ]
  },
  {
   "cell_type": "markdown",
   "metadata": {},
   "source": [
    "Solution Two:\n",
    "\n",
    "Since only dictionaries and sets can raise `KeyError`s,\n",
    "the only way to do it is to change the list to a set or a dictionary."
   ]
  },
  {
   "cell_type": "code",
   "execution_count": 117,
   "metadata": {
    "scrolled": true
   },
   "outputs": [
    {
     "name": "stdout",
     "output_type": "stream",
     "text": [
      "[('France', 'Paris'), ('Italy', 'Rome'), ('Germany', 'Berlin'), ('England', 'London'), ('Sweden', 'Stockholm'), ('Norway', 'Oslo'), ('Poland', 'Warsaw')]\n",
      "{'France': 'Paris', 'Italy': 'Rome', 'Germany': 'Berlin', 'England': 'London', 'Sweden': 'Stockholm', 'Norway': 'Oslo', 'Poland': 'Warsaw'}\n"
     ]
    },
    {
     "ename": "KeyError",
     "evalue": "'Jerome'",
     "output_type": "error",
     "traceback": [
      "\u001b[0;31m---------------------------------------------------------------------------\u001b[0m",
      "\u001b[0;31mKeyError\u001b[0m                                  Traceback (most recent call last)",
      "\u001b[0;32m/var/folders/w9/bx4mylnd27g_kqqgn5hrn2x40000gr/T/ipykernel_53108/43119692.py\u001b[0m in \u001b[0;36m<module>\u001b[0;34m\u001b[0m\n\u001b[1;32m      1\u001b[0m \u001b[0mprint\u001b[0m\u001b[0;34m(\u001b[0m\u001b[0mcapitals\u001b[0m\u001b[0;34m)\u001b[0m\u001b[0;34m\u001b[0m\u001b[0m\n\u001b[1;32m      2\u001b[0m \u001b[0mprint\u001b[0m\u001b[0;34m(\u001b[0m\u001b[0mdict\u001b[0m\u001b[0;34m(\u001b[0m\u001b[0mcapitals\u001b[0m\u001b[0;34m)\u001b[0m\u001b[0;34m)\u001b[0m\u001b[0;34m\u001b[0m\u001b[0m\n\u001b[0;32m----> 3\u001b[0;31m \u001b[0mdict\u001b[0m\u001b[0;34m(\u001b[0m\u001b[0mcapitals\u001b[0m\u001b[0;34m)\u001b[0m\u001b[0;34m[\u001b[0m\u001b[0;34m'Jerome'\u001b[0m\u001b[0;34m]\u001b[0m\u001b[0;34m\u001b[0m\u001b[0m\n\u001b[0m",
      "\u001b[0;31mKeyError\u001b[0m: 'Jerome'"
     ]
    }
   ],
   "source": [
    "print(capitals)\n",
    "print(dict(capitals))\n",
    "dict(capitals)['Jerome']"
   ]
  },
  {
   "cell_type": "markdown",
   "metadata": {},
   "source": [
    "Or using `.remove(X)` with a set.  Reviewing how `.remove()` works first:"
   ]
  },
  {
   "cell_type": "code",
   "execution_count": 119,
   "metadata": {},
   "outputs": [
    {
     "name": "stdout",
     "output_type": "stream",
     "text": [
      "[('France', 'Paris'), ('Italy', 'Rome'), ('Germany', 'Berlin'), ('England', 'London'), ('Sweden', 'Stockholm'), ('Norway', 'Oslo'), ('Poland', 'Warsaw')]\n",
      "{('France', 'Paris'), ('Poland', 'Warsaw'), ('Sweden', 'Stockholm'), ('Norway', 'Oslo'), ('Italy', 'Rome'), ('Germany', 'Berlin'), ('England', 'London')}\n",
      "{('Poland', 'Warsaw'), ('Sweden', 'Stockholm'), ('Norway', 'Oslo'), ('Italy', 'Rome'), ('Germany', 'Berlin'), ('England', 'London')}\n"
     ]
    }
   ],
   "source": [
    "print(capitals)\n",
    "S = set(capitals)\n",
    "print(S)\n",
    "S.remove(('France','Paris'))\n",
    "print(S)"
   ]
  },
  {
   "cell_type": "markdown",
   "metadata": {},
   "source": [
    "But trying to remove something that is not  a member of the set raises\n",
    "a `KeyError`."
   ]
  },
  {
   "cell_type": "code",
   "execution_count": 100,
   "metadata": {},
   "outputs": [
    {
     "ename": "KeyError",
     "evalue": "'Jerome'",
     "output_type": "error",
     "traceback": [
      "\u001b[0;31m---------------------------------------------------------------------------\u001b[0m",
      "\u001b[0;31mKeyError\u001b[0m                                  Traceback (most recent call last)",
      "\u001b[0;32m/var/folders/w9/bx4mylnd27g_kqqgn5hrn2x40000gr/T/ipykernel_53108/1257212446.py\u001b[0m in \u001b[0;36m<module>\u001b[0;34m\u001b[0m\n\u001b[0;32m----> 1\u001b[0;31m \u001b[0mS\u001b[0m\u001b[0;34m.\u001b[0m\u001b[0mremove\u001b[0m\u001b[0;34m(\u001b[0m\u001b[0;34m'Jerome'\u001b[0m\u001b[0;34m)\u001b[0m\u001b[0;34m\u001b[0m\u001b[0m\n\u001b[0m",
      "\u001b[0;31mKeyError\u001b[0m: 'Jerome'"
     ]
    }
   ],
   "source": [
    "S.remove('Jerome')"
   ]
  },
  {
   "cell_type": "markdown",
   "metadata": {
    "colab_type": "text",
    "id": "o0uOi3F1W74-"
   },
   "source": [
    " "
   ]
  },
  {
   "cell_type": "markdown",
   "metadata": {
    "colab_type": "text",
    "id": "BAs0bfXxW75D"
   },
   "source": [
    "## Exercise Nine \n",
    "\n",
    "In the next cell, write an expression that accesses `city_distances` and returns `419`. "
   ]
  },
  {
   "cell_type": "markdown",
   "metadata": {},
   "source": [
    "Container:"
   ]
  },
  {
   "cell_type": "code",
   "execution_count": 121,
   "metadata": {},
   "outputs": [
    {
     "data": {
      "text/plain": [
       "{'New York': {'Chicago': 790,\n",
       "  'Boston': 215,\n",
       "  'St. Louis': 953,\n",
       "  'Baltimore': 188},\n",
       " 'Chicago': {'Denver': 1002, 'Omaha': 467, 'Salt Lake City': 1397},\n",
       " 'Denver': {'Phoenix': 865, 'Salt Lake City': 528},\n",
       " 'Phoenix': {'Albuquerque': 419, 'Reno': 739, 'San Diego': 355},\n",
       " 'Dallas': {'Houston': 241}}"
      ]
     },
     "execution_count": 121,
     "metadata": {},
     "output_type": "execute_result"
    }
   ],
   "source": [
    "city_distances"
   ]
  },
  {
   "cell_type": "markdown",
   "metadata": {},
   "source": [
    "Solution:"
   ]
  },
  {
   "cell_type": "code",
   "execution_count": 102,
   "metadata": {},
   "outputs": [
    {
     "data": {
      "text/plain": [
       "419"
      ]
     },
     "execution_count": 102,
     "metadata": {},
     "output_type": "execute_result"
    }
   ],
   "source": [
    "city_distances['Phoenix']['Albuquerque']"
   ]
  },
  {
   "cell_type": "markdown",
   "metadata": {},
   "source": [
    "Comment:"
   ]
  },
  {
   "cell_type": "markdown",
   "metadata": {},
   "source": [
    "Using the key `'Phoenix'` we get a dictionary that has\n",
    "419 as a value (for the key `'Albuquerque'`)."
   ]
  },
  {
   "cell_type": "code",
   "execution_count": 101,
   "metadata": {},
   "outputs": [
    {
     "data": {
      "text/plain": [
       "{'Albuquerque': 419, 'Reno': 739, 'San Diego': 355}"
      ]
     },
     "execution_count": 101,
     "metadata": {},
     "output_type": "execute_result"
    }
   ],
   "source": [
    "city_distances['Phoenix']"
   ]
  },
  {
   "cell_type": "markdown",
   "metadata": {},
   "source": [
    "So we use `'Albuquerque'` as a second key:"
   ]
  },
  {
   "cell_type": "code",
   "execution_count": 123,
   "metadata": {
    "colab": {},
    "colab_type": "code",
    "id": "hVFy1awGW75D"
   },
   "outputs": [
    {
     "data": {
      "text/plain": [
       "419"
      ]
     },
     "execution_count": 123,
     "metadata": {},
     "output_type": "execute_result"
    }
   ],
   "source": [
    "city_distances['Phoenix']['Albuquerque']"
   ]
  },
  {
   "cell_type": "markdown",
   "metadata": {
    "colab_type": "text",
    "id": "CIlyrl7EW75H"
   },
   "source": [
    "## Exercise Ten A\n",
    "\n",
    "In the next cell, write an expression that accesses `capitals` and returns `\"Stockholm\"`. "
   ]
  },
  {
   "cell_type": "markdown",
   "metadata": {},
   "source": [
    "Container:"
   ]
  },
  {
   "cell_type": "code",
   "execution_count": 124,
   "metadata": {},
   "outputs": [
    {
     "data": {
      "text/plain": [
       "[('France', 'Paris'),\n",
       " ('Italy', 'Rome'),\n",
       " ('Germany', 'Berlin'),\n",
       " ('England', 'London'),\n",
       " ('Sweden', 'Stockholm'),\n",
       " ('Norway', 'Oslo'),\n",
       " ('Poland', 'Warsaw')]"
      ]
     },
     "execution_count": 124,
     "metadata": {},
     "output_type": "execute_result"
    }
   ],
   "source": [
    "capitals"
   ]
  },
  {
   "cell_type": "markdown",
   "metadata": {},
   "source": [
    "Solution:\n",
    "\n",
    "Second (index = 1) member of the fifth (index= 4) tuple."
   ]
  },
  {
   "cell_type": "code",
   "execution_count": 126,
   "metadata": {},
   "outputs": [
    {
     "data": {
      "text/plain": [
       "'Stockholm'"
      ]
     },
     "execution_count": 126,
     "metadata": {},
     "output_type": "execute_result"
    }
   ],
   "source": [
    "capitals[4][1]"
   ]
  },
  {
   "cell_type": "markdown",
   "metadata": {
    "colab_type": "text",
    "id": "CIlyrl7EW75H"
   },
   "source": [
    "## Exercise Ten B\n",
    "\n",
    "In the next cell, write an expression that accesses `country2capital` and returns `\"Stockholm\"`. "
   ]
  },
  {
   "cell_type": "markdown",
   "metadata": {},
   "source": [
    "Container:"
   ]
  },
  {
   "cell_type": "code",
   "execution_count": 127,
   "metadata": {},
   "outputs": [
    {
     "data": {
      "text/plain": [
       "{'France': 'Paris',\n",
       " 'Italy': 'Rome',\n",
       " 'Germany': 'Berlin',\n",
       " 'England': 'London',\n",
       " 'Sweden': 'Stockholm',\n",
       " 'Norway': 'Oslo',\n",
       " 'Poland': 'Warsaw'}"
      ]
     },
     "execution_count": 127,
     "metadata": {},
     "output_type": "execute_result"
    }
   ],
   "source": [
    "country2capital"
   ]
  },
  {
   "cell_type": "markdown",
   "metadata": {},
   "source": [
    "Solution:"
   ]
  },
  {
   "cell_type": "code",
   "execution_count": 128,
   "metadata": {},
   "outputs": [
    {
     "data": {
      "text/plain": [
       "'Stockholm'"
      ]
     },
     "execution_count": 128,
     "metadata": {},
     "output_type": "execute_result"
    }
   ],
   "source": [
    "country2capital['Sweden']"
   ]
  },
  {
   "cell_type": "markdown",
   "metadata": {
    "colab_type": "text",
    "id": "5rxYWbcJW75L"
   },
   "source": [
    " "
   ]
  },
  {
   "cell_type": "markdown",
   "metadata": {
    "colab_type": "text",
    "id": "s4HBqIahW75M"
   },
   "source": [
    "## Exercise Eleven\n",
    "\n",
    "In the next cell, write an expression that accesses `historical_records` and returns `Jetsons`. \n",
    "(There's more than one way to do this. The easy way uses the `.split(...)` method on strings.)"
   ]
  },
  {
   "cell_type": "markdown",
   "metadata": {},
   "source": [
    "Container:"
   ]
  },
  {
   "cell_type": "code",
   "execution_count": 103,
   "metadata": {},
   "outputs": [
    {
     "data": {
      "text/plain": [
       "[{'name': 'Fred Flinstone',\n",
       "  'spouse': 'Wilma',\n",
       "  'favorite_tv_shows': ['The Honeymooners', 'The Jetsons'],\n",
       "  'town of residence': 'Bedrock'},\n",
       " {'name': 'Barney Rubble',\n",
       "  'spouse': 'Elizabeth',\n",
       "  'favorite_tv_shows': ['The Crown', 'Bridgerton'],\n",
       "  'town of residence': 'Bedrock'}]"
      ]
     },
     "execution_count": 103,
     "metadata": {},
     "output_type": "execute_result"
    }
   ],
   "source": [
    "historical_records"
   ]
  },
  {
   "cell_type": "markdown",
   "metadata": {},
   "source": [
    "Solution One (use `.split()`):"
   ]
  },
  {
   "cell_type": "code",
   "execution_count": 135,
   "metadata": {
    "colab": {},
    "colab_type": "code",
    "id": "gVKYQYLVW75M",
    "outputId": "cdeda932-58b1-4dd7-8caa-dcc3d1a26dcd"
   },
   "outputs": [
    {
     "data": {
      "text/plain": [
       "'Jetsons'"
      ]
     },
     "execution_count": 135,
     "metadata": {},
     "output_type": "execute_result"
    }
   ],
   "source": [
    "historical_records[0]['favorite_tv_shows'][1].split()[1]"
   ]
  },
  {
   "cell_type": "markdown",
   "metadata": {},
   "source": [
    "Solution Two (use a slice):"
   ]
  },
  {
   "cell_type": "code",
   "execution_count": 137,
   "metadata": {},
   "outputs": [
    {
     "data": {
      "text/plain": [
       "'Jetsons'"
      ]
     },
     "execution_count": 137,
     "metadata": {},
     "output_type": "execute_result"
    }
   ],
   "source": [
    "historical_records[0]['favorite_tv_shows'][1][4:]"
   ]
  },
  {
   "cell_type": "markdown",
   "metadata": {},
   "source": [
    "Comment:\n",
    "\n",
    "This is Russian dolls, containers inside containers.\n",
    "\n",
    "Working our way down, one container at a time, we have:"
   ]
  },
  {
   "cell_type": "code",
   "execution_count": 105,
   "metadata": {},
   "outputs": [
    {
     "data": {
      "text/plain": [
       "{'name': 'Fred Flinstone',\n",
       " 'spouse': 'Wilma',\n",
       " 'favorite_tv_shows': ['The Honeymooners', 'The Jetsons'],\n",
       " 'town of residence': 'Bedrock'}"
      ]
     },
     "execution_count": 105,
     "metadata": {},
     "output_type": "execute_result"
    }
   ],
   "source": [
    "historical_records[0]"
   ]
  },
  {
   "cell_type": "code",
   "execution_count": 106,
   "metadata": {},
   "outputs": [
    {
     "data": {
      "text/plain": [
       "['The Honeymooners', 'The Jetsons']"
      ]
     },
     "execution_count": 106,
     "metadata": {},
     "output_type": "execute_result"
    }
   ],
   "source": [
    "historical_records[0]['favorite_tv_shows']"
   ]
  },
  {
   "cell_type": "code",
   "execution_count": 132,
   "metadata": {},
   "outputs": [
    {
     "data": {
      "text/plain": [
       "'The Jetsons'"
      ]
     },
     "execution_count": 132,
     "metadata": {},
     "output_type": "execute_result"
    }
   ],
   "source": [
    "historical_records[0]['favorite_tv_shows'][1]"
   ]
  },
  {
   "cell_type": "markdown",
   "metadata": {},
   "source": [
    "And now it's a string and we choose one of two ways to get to substring \n",
    "`Jetsons`."
   ]
  },
  {
   "cell_type": "markdown",
   "metadata": {
    "colab_type": "text",
    "id": "-7xecYYuW75P"
   },
   "source": [
    " (a) Use `.split()`, an easy way to get from a string to a list containing\n",
    " the substring as an element."
   ]
  },
  {
   "cell_type": "code",
   "execution_count": 109,
   "metadata": {},
   "outputs": [
    {
     "data": {
      "text/plain": [
       "['The', 'Jetsons']"
      ]
     },
     "execution_count": 109,
     "metadata": {},
     "output_type": "execute_result"
    }
   ],
   "source": [
    "historical_records[0]['favorite_tv_shows'][1].split()"
   ]
  },
  {
   "cell_type": "code",
   "execution_count": 108,
   "metadata": {},
   "outputs": [
    {
     "data": {
      "text/plain": [
       "'Jetsons'"
      ]
     },
     "execution_count": 108,
     "metadata": {},
     "output_type": "execute_result"
    }
   ],
   "source": [
    "historical_records[0]['favorite_tv_shows'][1].split()[1]"
   ]
  },
  {
   "cell_type": "markdown",
   "metadata": {},
   "source": [
    "(b) use a slice"
   ]
  },
  {
   "cell_type": "code",
   "execution_count": 111,
   "metadata": {},
   "outputs": [
    {
     "data": {
      "text/plain": [
       "'Jetsons'"
      ]
     },
     "execution_count": 111,
     "metadata": {},
     "output_type": "execute_result"
    }
   ],
   "source": [
    "historical_records[0]['favorite_tv_shows'][1][4:]"
   ]
  },
  {
   "cell_type": "markdown",
   "metadata": {
    "colab_type": "text",
    "id": "5WCkETk-W75P"
   },
   "source": [
    "## Exercise Twelve\n",
    "\n",
    "In the next cell, write an expression that accesses `historical_records` and returns `\"roc\"`. "
   ]
  },
  {
   "cell_type": "markdown",
   "metadata": {},
   "source": [
    "Solution One:"
   ]
  },
  {
   "cell_type": "code",
   "execution_count": null,
   "metadata": {},
   "outputs": [],
   "source": [
    "historical_records[0]['town of residence'][-4:-1]"
   ]
  },
  {
   "cell_type": "markdown",
   "metadata": {},
   "source": [
    "Solution Two:"
   ]
  },
  {
   "cell_type": "code",
   "execution_count": 114,
   "metadata": {},
   "outputs": [
    {
     "data": {
      "text/plain": [
       "'roc'"
      ]
     },
     "execution_count": 114,
     "metadata": {},
     "output_type": "execute_result"
    }
   ],
   "source": [
    "historical_records[0]['town of residence'][3:6]"
   ]
  },
  {
   "cell_type": "markdown",
   "metadata": {},
   "source": [
    "Comment:\n",
    "\n",
    "The last part is a slice of a string, which can be done multiple ways:"
   ]
  },
  {
   "cell_type": "code",
   "execution_count": 139,
   "metadata": {},
   "outputs": [
    {
     "data": {
      "text/plain": [
       "'Bedrock'"
      ]
     },
     "execution_count": 139,
     "metadata": {},
     "output_type": "execute_result"
    }
   ],
   "source": [
    "historical_records[0]['town of residence']"
   ]
  },
  {
   "cell_type": "code",
   "execution_count": 40,
   "metadata": {
    "colab": {},
    "colab_type": "code",
    "id": "gL-f2FucW75P",
    "outputId": "d88f1aa6-a77c-4d3a-f60a-87d178ae44c4",
    "scrolled": true
   },
   "outputs": [
    {
     "data": {
      "text/plain": [
       "'roc'"
      ]
     },
     "execution_count": 40,
     "metadata": {},
     "output_type": "execute_result"
    }
   ],
   "source": [
    "'Bedrock'[-4:-1]"
   ]
  },
  {
   "cell_type": "code",
   "execution_count": 116,
   "metadata": {},
   "outputs": [
    {
     "data": {
      "text/plain": [
       "'roc'"
      ]
     },
     "execution_count": 116,
     "metadata": {},
     "output_type": "execute_result"
    }
   ],
   "source": [
    "'Bedrock'[3:6]"
   ]
  },
  {
   "cell_type": "markdown",
   "metadata": {
    "colab_type": "text",
    "id": "JbtVOFMCW75S"
   },
   "source": [
    " "
   ]
  },
  {
   "cell_type": "markdown",
   "metadata": {
    "colab_type": "text",
    "id": "NiSCfU1BW75T"
   },
   "source": [
    "## Exercise Thirteen\n",
    "\n",
    "Can you write an expression that sets the first element of `dwarves` to be `\"Thorin\"`.  If not, why not?\n",
    "\n",
    "You may use the next cell to illustrate your answer."
   ]
  },
  {
   "cell_type": "markdown",
   "metadata": {},
   "source": [
    "Solution One:\n",
    "\n",
    "This can't be done, because `dwarves` is a `tuple` and `tuple`s are immutable."
   ]
  },
  {
   "cell_type": "code",
   "execution_count": 140,
   "metadata": {},
   "outputs": [
    {
     "data": {
      "text/plain": [
       "('Sneezy', 'Doc', 'Sleepy', 'Happy', 'Dopey', 'Grumpy', 'Bashful')"
      ]
     },
     "execution_count": 140,
     "metadata": {},
     "output_type": "execute_result"
    }
   ],
   "source": [
    "dwarves"
   ]
  },
  {
   "cell_type": "markdown",
   "metadata": {},
   "source": [
    "Illustrating:"
   ]
  },
  {
   "cell_type": "code",
   "execution_count": 41,
   "metadata": {},
   "outputs": [
    {
     "ename": "TypeError",
     "evalue": "'tuple' object does not support item assignment",
     "output_type": "error",
     "traceback": [
      "\u001b[0;31m---------------------------------------------------------------------------\u001b[0m",
      "\u001b[0;31mTypeError\u001b[0m                                 Traceback (most recent call last)",
      "\u001b[0;32m/var/folders/w9/bx4mylnd27g_kqqgn5hrn2x40000gr/T/ipykernel_46533/2082174780.py\u001b[0m in \u001b[0;36m<module>\u001b[0;34m\u001b[0m\n\u001b[0;32m----> 1\u001b[0;31m \u001b[0mdwarves\u001b[0m\u001b[0;34m[\u001b[0m\u001b[0;36m0\u001b[0m\u001b[0;34m]\u001b[0m \u001b[0;34m=\u001b[0m \u001b[0;34m'Thorin'\u001b[0m\u001b[0;34m\u001b[0m\u001b[0;34m\u001b[0m\u001b[0m\n\u001b[0m",
      "\u001b[0;31mTypeError\u001b[0m: 'tuple' object does not support item assignment"
     ]
    }
   ],
   "source": [
    "dwarves[0] = 'Thorin'"
   ]
  },
  {
   "cell_type": "markdown",
   "metadata": {},
   "source": [
    "Solution Two:\n",
    "\n",
    "In order to do this, we would have to change the type of `dwarves`, for\n",
    "example, turning into a list which could be updated, then (possibly)\n",
    "converting it back."
   ]
  },
  {
   "cell_type": "code",
   "execution_count": 120,
   "metadata": {},
   "outputs": [
    {
     "data": {
      "text/plain": [
       "['Thorin', 'Doc', 'Sleepy', 'Happy', 'Dopey', 'Grumpy', 'Bashful']"
      ]
     },
     "execution_count": 120,
     "metadata": {},
     "output_type": "execute_result"
    }
   ],
   "source": [
    "L = list(dwarves)\n",
    "L[0] = 'Thorin'\n",
    "L"
   ]
  },
  {
   "cell_type": "code",
   "execution_count": 43,
   "metadata": {},
   "outputs": [
    {
     "data": {
      "text/plain": [
       "('Thorin', 'Doc', 'Sleepy', 'Happy', 'Dopey', 'Grumpy', 'Bashful')"
      ]
     },
     "execution_count": 43,
     "metadata": {},
     "output_type": "execute_result"
    }
   ],
   "source": [
    "tuple(L)"
   ]
  },
  {
   "cell_type": "markdown",
   "metadata": {
    "colab_type": "text",
    "id": "H7lDWVTTW75X"
   },
   "source": [
    " "
   ]
  },
  {
   "cell_type": "markdown",
   "metadata": {
    "colab_type": "text",
    "id": "rehiuvcXW75Y"
   },
   "source": [
    "## Exercise Fourteen\n",
    "\n",
    "In the next cell, write an expression that accesses `capitals[-2]` and returns `True`. "
   ]
  },
  {
   "cell_type": "markdown",
   "metadata": {},
   "source": [
    "Container:"
   ]
  },
  {
   "cell_type": "code",
   "execution_count": 141,
   "metadata": {},
   "outputs": [
    {
     "data": {
      "text/plain": [
       "('Norway', 'Oslo')"
      ]
     },
     "execution_count": 141,
     "metadata": {},
     "output_type": "execute_result"
    }
   ],
   "source": [
    "capitals[-2]"
   ]
  },
  {
   "cell_type": "markdown",
   "metadata": {},
   "source": [
    "Solution (three of many):"
   ]
  },
  {
   "cell_type": "code",
   "execution_count": 124,
   "metadata": {},
   "outputs": [
    {
     "data": {
      "text/plain": [
       "True"
      ]
     },
     "execution_count": 124,
     "metadata": {},
     "output_type": "execute_result"
    }
   ],
   "source": [
    "len(capitals[-2]) == 2"
   ]
  },
  {
   "cell_type": "code",
   "execution_count": 122,
   "metadata": {},
   "outputs": [
    {
     "data": {
      "text/plain": [
       "True"
      ]
     },
     "execution_count": 122,
     "metadata": {},
     "output_type": "execute_result"
    }
   ],
   "source": [
    "capitals[-2]  == ('Norway', 'Oslo')"
   ]
  },
  {
   "cell_type": "code",
   "execution_count": 123,
   "metadata": {},
   "outputs": [
    {
     "data": {
      "text/plain": [
       "True"
      ]
     },
     "execution_count": 123,
     "metadata": {},
     "output_type": "execute_result"
    }
   ],
   "source": [
    "capitals[-2][1]  == 'Oslo'"
   ]
  },
  {
   "cell_type": "markdown",
   "metadata": {
    "colab_type": "text",
    "id": "Un339aJjW75c"
   },
   "source": [
    " "
   ]
  },
  {
   "cell_type": "markdown",
   "metadata": {
    "colab_type": "text",
    "id": "olFPDUg7W75c"
   },
   "source": [
    "## Exercise Fifteen\n",
    "\n",
    "In the next cell, write an expression that accesses `city_distances` and returns \n",
    "a dictionary with three keys. Would your answer be any different if you were asked to\n",
    "return a dictionary of length 3?  If you say yes, produce a different answer; if\n",
    "you say no, demonstrate that your answer to the first question is also an answer to\n",
    "the second.  You will need to create a new cell below the code cell below this one\n",
    "for your second answer. "
   ]
  },
  {
   "cell_type": "markdown",
   "metadata": {},
   "source": [
    "Container:"
   ]
  },
  {
   "cell_type": "code",
   "execution_count": 125,
   "metadata": {},
   "outputs": [
    {
     "data": {
      "text/plain": [
       "{'New York': {'Chicago': 790,\n",
       "  'Boston': 215,\n",
       "  'St. Louis': 953,\n",
       "  'Baltimore': 188},\n",
       " 'Chicago': {'Denver': 1002, 'Omaha': 467, 'Salt Lake City': 1397},\n",
       " 'Denver': {'Phoenix': 865, 'Salt Lake City': 528},\n",
       " 'Phoenix': {'Albuquerque': 419, 'Reno': 739, 'San Diego': 355},\n",
       " 'Dallas': {'Houston': 241}}"
      ]
     },
     "execution_count": 125,
     "metadata": {},
     "output_type": "execute_result"
    }
   ],
   "source": [
    "city_distances"
   ]
  },
  {
   "cell_type": "markdown",
   "metadata": {},
   "source": [
    "Solution:"
   ]
  },
  {
   "cell_type": "code",
   "execution_count": 48,
   "metadata": {},
   "outputs": [
    {
     "data": {
      "text/plain": [
       "{'Denver': 1002, 'Omaha': 467, 'Salt Lake City': 1397}"
      ]
     },
     "execution_count": 48,
     "metadata": {},
     "output_type": "execute_result"
    }
   ],
   "source": [
    "city_distances['Chicago']"
   ]
  },
  {
   "cell_type": "markdown",
   "metadata": {},
   "source": [
    "A dictionary with three keys is by definition a dictionary of length 3."
   ]
  },
  {
   "cell_type": "code",
   "execution_count": 49,
   "metadata": {
    "colab": {},
    "colab_type": "code",
    "id": "jJNlecohW75Z",
    "outputId": "e24211a3-d70e-4286-f455-97260b32cf07"
   },
   "outputs": [
    {
     "data": {
      "text/plain": [
       "3"
      ]
     },
     "execution_count": 49,
     "metadata": {},
     "output_type": "execute_result"
    }
   ],
   "source": [
    "len(city_distances['Chicago'])"
   ]
  },
  {
   "cell_type": "markdown",
   "metadata": {},
   "source": [
    "## Exercise Sixteen\n",
    "\n",
    "In the next cell update `historical_records` so that Barney Rubble's spouse \n",
    "changes from `\"Elizabeth\"`  to \"`Betty\"`."
   ]
  },
  {
   "cell_type": "markdown",
   "metadata": {},
   "source": [
    "Container:"
   ]
  },
  {
   "cell_type": "code",
   "execution_count": 126,
   "metadata": {},
   "outputs": [
    {
     "data": {
      "text/plain": [
       "{'name': 'Barney Rubble',\n",
       " 'spouse': 'Elizabeth',\n",
       " 'favorite_tv_shows': ['The Crown', 'Bridgerton'],\n",
       " 'town of residence': 'Bedrock'}"
      ]
     },
     "execution_count": 126,
     "metadata": {},
     "output_type": "execute_result"
    }
   ],
   "source": [
    "historical_records[1]"
   ]
  },
  {
   "cell_type": "markdown",
   "metadata": {},
   "source": [
    "Content to be updated:"
   ]
  },
  {
   "cell_type": "code",
   "execution_count": 143,
   "metadata": {},
   "outputs": [
    {
     "data": {
      "text/plain": [
       "'Elizabeth'"
      ]
     },
     "execution_count": 143,
     "metadata": {},
     "output_type": "execute_result"
    }
   ],
   "source": [
    "historical_records[1]['spouse']"
   ]
  },
  {
   "cell_type": "markdown",
   "metadata": {},
   "source": [
    "Solution:"
   ]
  },
  {
   "cell_type": "code",
   "execution_count": 52,
   "metadata": {},
   "outputs": [],
   "source": [
    "historical_records[1]['spouse'] = 'Betty'"
   ]
  },
  {
   "cell_type": "code",
   "execution_count": 54,
   "metadata": {},
   "outputs": [
    {
     "data": {
      "text/plain": [
       "{'name': 'Barney Rubble',\n",
       " 'spouse': 'Betty',\n",
       " 'favorite_tv_shows': ['The Crown', 'Bridgerton'],\n",
       " 'town of residence': 'Bedrock'}"
      ]
     },
     "execution_count": 54,
     "metadata": {},
     "output_type": "execute_result"
    }
   ],
   "source": [
    "historical_records[1]"
   ]
  },
  {
   "cell_type": "markdown",
   "metadata": {},
   "source": [
    "## Exercise Seventeen\n",
    "\n",
    "The next cell raises a `TypeError`.  Explain why. Be sure to say what string is causing the rror."
   ]
  },
  {
   "cell_type": "code",
   "execution_count": 144,
   "metadata": {},
   "outputs": [
    {
     "ename": "TypeError",
     "evalue": "'str' object does not support item assignment",
     "output_type": "error",
     "traceback": [
      "\u001b[0;31m---------------------------------------------------------------------------\u001b[0m",
      "\u001b[0;31mTypeError\u001b[0m                                 Traceback (most recent call last)",
      "\u001b[0;32m/var/folders/w9/bx4mylnd27g_kqqgn5hrn2x40000gr/T/ipykernel_46533/3696662505.py\u001b[0m in \u001b[0;36m<module>\u001b[0;34m\u001b[0m\n\u001b[0;32m----> 1\u001b[0;31m \u001b[0mhistorical_records\u001b[0m\u001b[0;34m[\u001b[0m\u001b[0;36m0\u001b[0m\u001b[0;34m]\u001b[0m\u001b[0;34m[\u001b[0m\u001b[0;34m'spouse'\u001b[0m\u001b[0;34m]\u001b[0m\u001b[0;34m[\u001b[0m\u001b[0;36m0\u001b[0m\u001b[0;34m]\u001b[0m  \u001b[0;34m=\u001b[0m \u001b[0;34m'V'\u001b[0m\u001b[0;34m\u001b[0m\u001b[0;34m\u001b[0m\u001b[0m\n\u001b[0m",
      "\u001b[0;31mTypeError\u001b[0m: 'str' object does not support item assignment"
     ]
    }
   ],
   "source": [
    "historical_records[0]['spouse'][0]  = 'V'"
   ]
  },
  {
   "cell_type": "markdown",
   "metadata": {},
   "source": [
    "Solution:"
   ]
  },
  {
   "cell_type": "markdown",
   "metadata": {},
   "source": [
    "This is a type error because strings are **immutable**.  "
   ]
  },
  {
   "cell_type": "markdown",
   "metadata": {},
   "source": [
    "The string causing the error is 'Wilma' as we demonstrate."
   ]
  },
  {
   "cell_type": "code",
   "execution_count": 145,
   "metadata": {},
   "outputs": [
    {
     "data": {
      "text/plain": [
       "'Wilma'"
      ]
     },
     "execution_count": 145,
     "metadata": {},
     "output_type": "execute_result"
    }
   ],
   "source": [
    "s = historical_records[0]['spouse']\n",
    "s"
   ]
  },
  {
   "cell_type": "code",
   "execution_count": 57,
   "metadata": {
    "scrolled": true
   },
   "outputs": [
    {
     "ename": "TypeError",
     "evalue": "'str' object does not support item assignment",
     "output_type": "error",
     "traceback": [
      "\u001b[0;31m---------------------------------------------------------------------------\u001b[0m",
      "\u001b[0;31mTypeError\u001b[0m                                 Traceback (most recent call last)",
      "\u001b[0;32m/var/folders/w9/bx4mylnd27g_kqqgn5hrn2x40000gr/T/ipykernel_46533/2732130985.py\u001b[0m in \u001b[0;36m<module>\u001b[0;34m\u001b[0m\n\u001b[0;32m----> 1\u001b[0;31m \u001b[0ms\u001b[0m\u001b[0;34m[\u001b[0m\u001b[0;36m0\u001b[0m\u001b[0;34m]\u001b[0m \u001b[0;34m=\u001b[0m \u001b[0;34m'V'\u001b[0m\u001b[0;34m\u001b[0m\u001b[0;34m\u001b[0m\u001b[0m\n\u001b[0m",
      "\u001b[0;31mTypeError\u001b[0m: 'str' object does not support item assignment"
     ]
    }
   ],
   "source": [
    "s[0] = 'V'"
   ]
  },
  {
   "cell_type": "markdown",
   "metadata": {},
   "source": [
    "Comment:\n",
    "\n",
    "This `TypeError` is the same\n",
    "kind of error as in Exercise 13, which asks about updating the tuple `dwarves`.\n",
    "\n",
    "Strings are also immutable.  Here's a summary of the mutability facts.\n",
    "\n",
    "$$\n",
    "\\begin{array}[t]{c}\n",
    "\\text{Python Container Types}\\\\\n",
    "\\begin{array}[t]{lll}\n",
    "\\text{Type} & \\text{Mutable?}& \\text{SuperType}\\\\\n",
    "\\hline\n",
    "\\text{list} & \\text{Yes} &\\text{Sequence}\\\\\n",
    "\\text{tuple} & \\text{No}&\\text{Sequence}\\\\\n",
    "\\text{str}  &  \\text{No} & \\text{Sequence}\\\\\n",
    "\\text{dict} & \\text{Yes}&\\text{Mapping}\\\\\n",
    "\\text{set} & \\text{Yes}& \\text{Set}\\\\\n",
    "\\text{frozenset} & \\text{No}& \\text{Set} \\\\\n",
    "\\end{array}\n",
    "\\end{array}\n",
    "$$\n",
    "\n",
    "So the one basic container type that doesn't have a mutable version is\n",
    "strings.  Well, strings are different in other ways too.  They can't contain\n",
    "anything but other strings (they're \"flat\").  This allows a certain simplicity.  The strings \"cat\" and \"bat\" don't contain references to the memory locations where \"a\" and \"t\" are kept; they are just sequences of length 3 containing different copies of the unicode code points for \"a\" and \"t\".\n",
    "\n",
    "Most importantly, if there were mutable strings, they couldn't be keys in a dictionary.  If we need updatable sequences of characters, we can use lists (or dip into something we haven't talked about yet, `bytearray`s).  Strings have signficant limitations, but they are perfectly suited to the jobs they do."
   ]
  },
  {
   "cell_type": "markdown",
   "metadata": {},
   "source": [
    "## Exercise Eighteen\n",
    "\n",
    "In this problem, your task is to write an assignment statement that changes the distance from\n",
    "Chicago to New York in `city_distances` from 790 to 789."
   ]
  },
  {
   "cell_type": "markdown",
   "metadata": {},
   "source": [
    "Put your answer, which should be an assignment, in the next cell.\n",
    "\n",
    "Be sure to check your answer as well by accessing the updated data value."
   ]
  },
  {
   "cell_type": "markdown",
   "metadata": {},
   "source": [
    "Solution:\n",
    "\n",
    "Doing the update"
   ]
  },
  {
   "cell_type": "code",
   "execution_count": 148,
   "metadata": {},
   "outputs": [],
   "source": [
    "city_distances['New York']['Chicago'] = 789"
   ]
  },
  {
   "cell_type": "markdown",
   "metadata": {},
   "source": [
    "Checking thgat it worked"
   ]
  },
  {
   "cell_type": "code",
   "execution_count": 149,
   "metadata": {},
   "outputs": [
    {
     "data": {
      "text/plain": [
       "789"
      ]
     },
     "execution_count": 149,
     "metadata": {},
     "output_type": "execute_result"
    }
   ],
   "source": [
    "city_distances['New York']['Chicago']"
   ]
  },
  {
   "cell_type": "code",
   "execution_count": null,
   "metadata": {
    "colab_type": "text",
    "id": "-SmuZa2HW75g"
   },
   "outputs": [],
   "source": [
    " "
   ]
  },
  {
   "cell_type": "markdown",
   "metadata": {
    "colab_type": "text",
    "id": "qwn17TUFW75h"
   },
   "source": [
    "##       Part Two"
   ]
  },
  {
   "cell_type": "markdown",
   "metadata": {
    "colab_type": "text",
    "id": "Ma_hoftyW75h"
   },
   "source": [
    "Write down expressions to retrieve the given values from the given variables."
   ]
  },
  {
   "cell_type": "markdown",
   "metadata": {
    "colab_type": "text",
    "id": "XvH9JnpVW75i"
   },
   "source": [
    "1) `'pp'` from `dwarves`"
   ]
  },
  {
   "cell_type": "code",
   "execution_count": 150,
   "metadata": {},
   "outputs": [
    {
     "data": {
      "text/plain": [
       "('Sneezy', 'Doc', 'Sleepy', 'Happy', 'Dopey', 'Grumpy', 'Bashful')"
      ]
     },
     "execution_count": 150,
     "metadata": {},
     "output_type": "execute_result"
    }
   ],
   "source": [
    "dwarves"
   ]
  },
  {
   "cell_type": "code",
   "execution_count": 60,
   "metadata": {
    "colab": {},
    "colab_type": "code",
    "id": "grPenshDW75i",
    "outputId": "52cecfc9-790a-4667-e4b5-5dd5f720ea56"
   },
   "outputs": [
    {
     "data": {
      "text/plain": [
       "'pp'"
      ]
     },
     "execution_count": 60,
     "metadata": {},
     "output_type": "execute_result"
    }
   ],
   "source": [
    "dwarves[3][2:4]"
   ]
  },
  {
   "cell_type": "markdown",
   "metadata": {
    "colab_type": "text",
    "id": "hCEFKZu0W75k"
   },
   "source": [
    "2) `'rsa'` from `country2capital`"
   ]
  },
  {
   "cell_type": "code",
   "execution_count": 151,
   "metadata": {},
   "outputs": [
    {
     "data": {
      "text/plain": [
       "{'France': 'Paris',\n",
       " 'Italy': 'Rome',\n",
       " 'Germany': 'Berlin',\n",
       " 'England': 'London',\n",
       " 'Sweden': 'Stockholm',\n",
       " 'Norway': 'Oslo',\n",
       " 'Poland': 'Warsaw'}"
      ]
     },
     "execution_count": 151,
     "metadata": {},
     "output_type": "execute_result"
    }
   ],
   "source": [
    "country2capital"
   ]
  },
  {
   "cell_type": "code",
   "execution_count": 153,
   "metadata": {
    "colab": {},
    "colab_type": "code",
    "id": "YfPfNTfrW75k",
    "outputId": "a931dd1e-f360-49d9-9d39-08e79ef23307"
   },
   "outputs": [
    {
     "data": {
      "text/plain": [
       "'rsa'"
      ]
     },
     "execution_count": 153,
     "metadata": {},
     "output_type": "execute_result"
    }
   ],
   "source": [
    "country2capital['Poland'][2:5]"
   ]
  },
  {
   "cell_type": "markdown",
   "metadata": {
    "colab_type": "text",
    "id": "AziVAtqLW75n"
   },
   "source": [
    "3) `'rma'` from `capitals`"
   ]
  },
  {
   "cell_type": "code",
   "execution_count": 155,
   "metadata": {},
   "outputs": [
    {
     "data": {
      "text/plain": [
       "[('France', 'Paris'),\n",
       " ('Italy', 'Rome'),\n",
       " ('Germany', 'Berlin'),\n",
       " ('England', 'London'),\n",
       " ('Sweden', 'Stockholm'),\n",
       " ('Norway', 'Oslo'),\n",
       " ('Poland', 'Warsaw')]"
      ]
     },
     "execution_count": 155,
     "metadata": {},
     "output_type": "execute_result"
    }
   ],
   "source": [
    "capitals"
   ]
  },
  {
   "cell_type": "code",
   "execution_count": 158,
   "metadata": {
    "colab": {},
    "colab_type": "code",
    "id": "Kd0ImWxkW75o",
    "outputId": "a31041b9-fd94-428a-f36b-def3cca2f4eb"
   },
   "outputs": [
    {
     "data": {
      "text/plain": [
       "'rma'"
      ]
     },
     "execution_count": 158,
     "metadata": {},
     "output_type": "execute_result"
    }
   ],
   "source": [
    "capitals[2][0][2:5]"
   ]
  },
  {
   "cell_type": "markdown",
   "metadata": {
    "colab_type": "text",
    "id": "FAG5HtfyW75q"
   },
   "source": [
    "4) `'rma'` from `country2capital` (Hint:  You will need to use a method appropriate for the container\n",
    "this substring is in)"
   ]
  },
  {
   "cell_type": "code",
   "execution_count": 159,
   "metadata": {},
   "outputs": [
    {
     "data": {
      "text/plain": [
       "{'France': 'Paris',\n",
       " 'Italy': 'Rome',\n",
       " 'Germany': 'Berlin',\n",
       " 'England': 'London',\n",
       " 'Sweden': 'Stockholm',\n",
       " 'Norway': 'Oslo',\n",
       " 'Poland': 'Warsaw'}"
      ]
     },
     "execution_count": 159,
     "metadata": {},
     "output_type": "execute_result"
    }
   ],
   "source": [
    "country2capital"
   ]
  },
  {
   "cell_type": "code",
   "execution_count": 162,
   "metadata": {},
   "outputs": [
    {
     "data": {
      "text/plain": [
       "dict_keys(['France', 'Italy', 'Germany', 'England', 'Sweden', 'Norway', 'Poland'])"
      ]
     },
     "execution_count": 162,
     "metadata": {},
     "output_type": "execute_result"
    }
   ],
   "source": [
    "country2capital.keys()"
   ]
  },
  {
   "cell_type": "code",
   "execution_count": null,
   "metadata": {
    "colab": {},
    "colab_type": "code",
    "id": "1RbAp7uVW75r",
    "outputId": "c42c809b-edcf-449d-ccca-341ce47b44ce"
   },
   "outputs": [],
   "source": [
    "list(country2capital.keys())[2][2:5]"
   ]
  },
  {
   "cell_type": "markdown",
   "metadata": {
    "colab_type": "text",
    "id": "7ZMgB6DRW75t"
   },
   "source": [
    "## Part Three"
   ]
  },
  {
   "cell_type": "markdown",
   "metadata": {
    "colab": {},
    "colab_type": "code",
    "id": "S0LjtauVW75t",
    "outputId": "08d92e1d-a903-45f4-9282-5fb7184b112e"
   },
   "source": [
    "The `city_distances` dictionary provides information about distances between U. S. city pairs.  It does not cover all U.S. city pairs; in fact it only covers  13 city pairs.  Besides its incompleteness, there is a significant problem with how the information is represented.  In this problem you will reoorganize the data and represent it in a way\n",
    "that fixes this problem.\n",
    "\n",
    "Here is a hint as to what the problem is. Even though `city_distances` contains information about the distance between Chicago and New York, the following is an error:"
   ]
  },
  {
   "cell_type": "code",
   "execution_count": 2,
   "metadata": {},
   "outputs": [
    {
     "ename": "KeyError",
     "evalue": "'New York'",
     "output_type": "error",
     "traceback": [
      "\u001b[0;31m---------------------------------------------------------------------------\u001b[0m",
      "\u001b[0;31mKeyError\u001b[0m                                  Traceback (most recent call last)",
      "\u001b[0;32m/var/folders/w9/bx4mylnd27g_kqqgn5hrn2x40000gr/T/ipykernel_60197/824707247.py\u001b[0m in \u001b[0;36m<module>\u001b[0;34m\u001b[0m\n\u001b[0;32m----> 1\u001b[0;31m \u001b[0mcity_distances\u001b[0m\u001b[0;34m[\u001b[0m\u001b[0;34m'Chicago'\u001b[0m\u001b[0;34m]\u001b[0m\u001b[0;34m[\u001b[0m\u001b[0;34m'New York'\u001b[0m\u001b[0;34m]\u001b[0m\u001b[0;34m\u001b[0m\u001b[0m\n\u001b[0m",
      "\u001b[0;31mKeyError\u001b[0m: 'New York'"
     ]
    }
   ],
   "source": [
    "city_distances['Chicago']['New York']"
   ]
  },
  {
   "cell_type": "markdown",
   "metadata": {},
   "source": [
    "Notice it's not that the data is being looked up in a way inconsistent with the dictionary's design.  The following is fine:"
   ]
  },
  {
   "cell_type": "code",
   "execution_count": 13,
   "metadata": {},
   "outputs": [
    {
     "data": {
      "text/plain": [
       "419"
      ]
     },
     "execution_count": 13,
     "metadata": {},
     "output_type": "execute_result"
    }
   ],
   "source": [
    "city_distances['Phoenix']['Albuquerque']"
   ]
  },
  {
   "cell_type": "markdown",
   "metadata": {},
   "source": [
    "Imagine that the typical user can't look at the definition of the dictionary.  They know how to use it\n",
    "and they know the city pairs that it covers. Explain the problem and why this puts an undue burden on the user. Hint: How **do** you look up the distance between Chicago and New York? Come up with a different way of representing the same data that solves this problem. Note:  Your solution should not introduce redundancy into the representation.  Don't store the same piece of information twice.  Your solution  should give the user one fairly natural way of looking up any of the 13 distances available in the data.  And it should not require the user to know any arbitrary facts about how any indvidual city distance is stored. \n",
    "\n",
    "This problem is about designing a a good way to represent some information. You can illustrate your \n",
    "design idea without typing in all 13 city pairs.  How about just doing three, one of which should\n",
    "be Chicago and New York?"
   ]
  },
  {
   "cell_type": "markdown",
   "metadata": {},
   "source": [
    "Solution One\n",
    "\n",
    "One way of re-representing the data that solves the problem is to\n",
    "represent the distances in a dictionary that has unordered\n",
    "pairs as its keys.  Sets can be unordered pairs,\n",
    "but they cannot serve as dictionary keys because they\n",
    "are mutable.  But we could use `frozenset`s."
   ]
  },
  {
   "cell_type": "markdown",
   "metadata": {},
   "source": [
    "The original data"
   ]
  },
  {
   "cell_type": "code",
   "execution_count": 70,
   "metadata": {},
   "outputs": [
    {
     "data": {
      "text/plain": [
       "{'New York': {'Chicago': 790,\n",
       "  'Boston': 215,\n",
       "  'St. Louis': 953,\n",
       "  'Baltimore': 188},\n",
       " 'Chicago': {'Denver': 1002, 'Omaha': 467, 'Salt Lake City': 1397},\n",
       " 'Denver': {'Phoenix': 865, 'Salt Lake City': 528},\n",
       " 'Phoenix': {'Albuquerque': 419, 'Reno': 739, 'San Diego': 355},\n",
       " 'Dallas': {'Houston': 241}}"
      ]
     },
     "execution_count": 70,
     "metadata": {},
     "output_type": "execute_result"
    }
   ],
   "source": [
    "city_distances"
   ]
  },
  {
   "cell_type": "code",
   "execution_count": 92,
   "metadata": {},
   "outputs": [],
   "source": [
    "def fz (cntnr):\n",
    "    return frozenset(cntnr)\n",
    "\n",
    "city_distances = {\n",
    "                  fz(['New York','Chicago']): 790, \n",
    "                  fz(['New York','Boston']): 215, \n",
    "                  fz(['New York','St. Louis']): 953, \n",
    "                  fz(['New York','Baltimore']):188,\n",
    "                  fz(['Chicago','Denver']): 1_002,\n",
    "                  fz(['Chicago','Omaha']): 467,\n",
    "                  fz(['Chicago','Salt Lake City']):1_397,\n",
    "                  fz(['Denver', 'Phoenix']): 865,\n",
    "                  fz(['Denver', 'Salt Lake City']): 528, \n",
    "                  fz(['Phoenix', 'Albuquerque']): 419, \n",
    "                  fz(['Phoenix', 'Reno']): 739, \n",
    "                  fz(['Phoenix', 'San Diego']): 355,\n",
    "                  fz(['Dallas' 'Houston']): 241\n",
    "                  }"
   ]
  },
  {
   "cell_type": "code",
   "execution_count": 76,
   "metadata": {},
   "outputs": [
    {
     "data": {
      "text/plain": [
       "790"
      ]
     },
     "execution_count": 76,
     "metadata": {},
     "output_type": "execute_result"
    }
   ],
   "source": [
    "city_distances[fz(['New York','Chicago'])]"
   ]
  },
  {
   "cell_type": "code",
   "execution_count": 77,
   "metadata": {},
   "outputs": [
    {
     "data": {
      "text/plain": [
       "790"
      ]
     },
     "execution_count": 77,
     "metadata": {},
     "output_type": "execute_result"
    }
   ],
   "source": [
    "city_distances[fz(['Chicago','New York'])]"
   ]
  },
  {
   "cell_type": "code",
   "execution_count": 93,
   "metadata": {},
   "outputs": [
    {
     "data": {
      "text/plain": [
       "{frozenset({'Chicago', 'New York'}): 790,\n",
       " frozenset({'Boston', 'New York'}): 215,\n",
       " frozenset({'New York', 'St. Louis'}): 953,\n",
       " frozenset({'Baltimore', 'New York'}): 188,\n",
       " frozenset({'Chicago', 'Denver'}): 1002,\n",
       " frozenset({'Chicago', 'Omaha'}): 467,\n",
       " frozenset({'Chicago', 'Salt Lake City'}): 1397,\n",
       " frozenset({'Denver', 'Phoenix'}): 865,\n",
       " frozenset({'Denver', 'Salt Lake City'}): 528,\n",
       " frozenset({'Albuquerque', 'Phoenix'}): 419,\n",
       " frozenset({'Phoenix', 'Reno'}): 739,\n",
       " frozenset({'Phoenix', 'San Diego'}): 355,\n",
       " frozenset({'DallasHouston'}): 241}"
      ]
     },
     "execution_count": 93,
     "metadata": {},
     "output_type": "execute_result"
    }
   ],
   "source": [
    "city_distances"
   ]
  },
  {
   "cell_type": "markdown",
   "metadata": {},
   "source": [
    "Solution Two\n",
    "\n",
    "An alternative idea is to store every city \n",
    "pair as a tuple but to enforce the convention that\n",
    "cities in the tuple come in alphabetical order.\n",
    "\n",
    "Users could fairly be asked to remember this or we could\n",
    "write a function that would remember it for them."
   ]
  },
  {
   "cell_type": "code",
   "execution_count": 85,
   "metadata": {},
   "outputs": [],
   "source": [
    "city_distances = {\n",
    "                  ('Chicago','New York'): 790, \n",
    "                  ('Boston','New York'): 215, \n",
    "                  ('New York','St. Louis'): 953, \n",
    "                  ('Baltimore','New York'):188,\n",
    "                  ('Chicago','Denver'): 1_002,\n",
    "                  ('Chicago','Omaha'): 467,\n",
    "                  ('Chicago','Salt Lake City'):1_397,\n",
    "                  ('Denver', 'Phoenix'): 865,\n",
    "                  ('Denver', 'Salt Lake City'): 528, \n",
    "                  ('Albuquerque','Phoenix'): 419, \n",
    "                  ('Phoenix', 'Reno'): 739, \n",
    "                  ('Phoenix', 'San Diego'): 355,\n",
    "                  ('Dallas' 'Houston'): 241\n",
    "                  }"
   ]
  },
  {
   "cell_type": "markdown",
   "metadata": {},
   "source": [
    "Here's how we might write the function to enforce alphabetical order.\n",
    "\n",
    "The Python builtin function `sorted` will sort any sequence, but it always returns a list."
   ]
  },
  {
   "cell_type": "code",
   "execution_count": 169,
   "metadata": {},
   "outputs": [
    {
     "data": {
      "text/plain": [
       "['a', 'b', 'c', 'd', 'e']"
      ]
     },
     "execution_count": 169,
     "metadata": {},
     "output_type": "execute_result"
    }
   ],
   "source": [
    "# sort a tuple\n",
    "sorted(('c','e','b','a','d'))"
   ]
  },
  {
   "cell_type": "code",
   "execution_count": 168,
   "metadata": {},
   "outputs": [
    {
     "data": {
      "text/plain": [
       "[' ', 'N', 'Y', 'e', 'k', 'o', 'r', 'w']"
      ]
     },
     "execution_count": 168,
     "metadata": {},
     "output_type": "execute_result"
    }
   ],
   "source": [
    "# sort a string\n",
    "sorted('New York')"
   ]
  },
  {
   "cell_type": "markdown",
   "metadata": {},
   "source": [
    "Or for our problem:"
   ]
  },
  {
   "cell_type": "code",
   "execution_count": 78,
   "metadata": {
    "scrolled": true
   },
   "outputs": [
    {
     "data": {
      "text/plain": [
       "['Chicago', 'New York']"
      ]
     },
     "execution_count": 78,
     "metadata": {},
     "output_type": "execute_result"
    }
   ],
   "source": [
    "sorted(('New York','Chicago'))"
   ]
  },
  {
   "cell_type": "markdown",
   "metadata": {},
   "source": [
    "We need a tuple because our dictionary contains tuples as keys:"
   ]
  },
  {
   "cell_type": "code",
   "execution_count": 90,
   "metadata": {},
   "outputs": [
    {
     "data": {
      "text/plain": [
       "('Chicago', 'New York')"
      ]
     },
     "execution_count": 90,
     "metadata": {},
     "output_type": "execute_result"
    }
   ],
   "source": [
    "tuple(sorted(('New York','Chicago')))"
   ]
  },
  {
   "cell_type": "code",
   "execution_count": 87,
   "metadata": {},
   "outputs": [],
   "source": [
    "def look_up_city_distance(pair):\n",
    "    return city_distances[tuple(sorted(pair))]"
   ]
  },
  {
   "cell_type": "code",
   "execution_count": 88,
   "metadata": {},
   "outputs": [
    {
     "data": {
      "text/plain": [
       "790"
      ]
     },
     "execution_count": 88,
     "metadata": {},
     "output_type": "execute_result"
    }
   ],
   "source": [
    "look_up_city_distance(('New York','Chicago'))"
   ]
  },
  {
   "cell_type": "code",
   "execution_count": 89,
   "metadata": {
    "scrolled": true
   },
   "outputs": [
    {
     "data": {
      "text/plain": [
       "790"
      ]
     },
     "execution_count": 89,
     "metadata": {},
     "output_type": "execute_result"
    }
   ],
   "source": [
    "look_up_city_distance(('Chicago','New York'))"
   ]
  },
  {
   "cell_type": "markdown",
   "metadata": {},
   "source": [
    "Known Bug.  Case errors will lead to unexpected sortings.\n",
    "\n",
    "To be dealt with in version 0.01."
   ]
  },
  {
   "cell_type": "code",
   "execution_count": 171,
   "metadata": {},
   "outputs": [
    {
     "data": {
      "text/plain": [
       "['New York', 'chicago']"
      ]
     },
     "execution_count": 171,
     "metadata": {},
     "output_type": "execute_result"
    }
   ],
   "source": [
    "sorted(('New York','chicago'))"
   ]
  },
  {
   "cell_type": "markdown",
   "metadata": {
    "colab_type": "text",
    "id": "VJQo1KOhW75w"
   },
   "source": [
    "  "
   ]
  }
 ],
 "metadata": {
  "colab": {
   "name": "python_types_assignment_2020.ipynb",
   "provenance": []
  },
  "kernelspec": {
   "display_name": "Python 3 (ipykernel)",
   "language": "python",
   "name": "python3"
  },
  "language_info": {
   "codemirror_mode": {
    "name": "ipython",
    "version": 3
   },
   "file_extension": ".py",
   "mimetype": "text/x-python",
   "name": "python",
   "nbconvert_exporter": "python",
   "pygments_lexer": "ipython3",
   "version": "3.10.6"
  },
  "toc": {
   "base_numbering": 1,
   "nav_menu": {
    "height": "67px",
    "width": "252px"
   },
   "number_sections": true,
   "sideBar": true,
   "skip_h1_title": false,
   "title_cell": "Table of Contents",
   "title_sidebar": "Contents",
   "toc_cell": false,
   "toc_position": {},
   "toc_section_display": "block",
   "toc_window_display": false
  }
 },
 "nbformat": 4,
 "nbformat_minor": 1
}
