{
 "cells": [
  {
   "cell_type": "markdown",
   "metadata": {},
   "source": [
    "## Extracting Names:  Try #1"
   ]
  },
  {
   "cell_type": "markdown",
   "metadata": {},
   "source": [
    "Let's try to extract all proper names from a large body of text.  As a first approximation, use the string method \"is_title\" which tells us, by returning `True` or `False`, whether a string is capitalized or not:"
   ]
  },
  {
   "cell_type": "code",
   "execution_count": 1,
   "metadata": {},
   "outputs": [
    {
     "name": "stdout",
     "output_type": "stream",
     "text": [
      "True\n",
      "False\n"
     ]
    }
   ],
   "source": [
    "print('Fred'.istitle())\n",
    "print('tablespoon'.istitle())"
   ]
  },
  {
   "cell_type": "markdown",
   "metadata": {},
   "source": [
    "We need to open a file, loop through every line, loop through every word in the line, and collect the ones that are capitalized into some sort of container.  Let's assume we don't want to know how many times a name occurs, just that it occurs.  So we want a container that can't contain duplicates.  To that end we want a `Set`.  As our example text, let's use Jane Austen's *Pride and Prejudice*, downloaded for free from Project Gutenberg."
   ]
  },
  {
   "cell_type": "code",
   "execution_count": 2,
   "metadata": {},
   "outputs": [
    {
     "name": "stdout",
     "output_type": "stream",
     "text": [
      "{'\"Did', \"Wickham.'\", 'Hill.', \"'Bingley,\", '\"An', 'August', '\"Aye,', 'Michaelmas,', 'His', 'Did', 'June.', 'Sir,--', 'Rosings.', 'Meryton!\"', '\"E.', 'Monday', 'Anxious', '1.F.4.', 'Occupied', 'Parsonage;', 'If,', \"Lucases'\", '\\ufeffThe', '\"How', '\"Mamma,\"', '\"One', 'Brighton', 'Sarah,', '\"Go,', 'I.\"', 'Colonel', '\"Colonel', 'Every', 'Wretched,', 'Morris', 'Again', '\"All', '1.F.2.', '\"No,', 'Great', 'Caroline,\"', 'Haggerston', 'Certain', 'Irish', 'Society', 'Recovering', 'F.,', '\"Only', 'United', '\"To', 'Bromley,', 'Having', '(Lady', 'Younge,', 'Cheapside.\"', 'Bennet.', 'Interested', 'Here', 'Rendered', 'Presuming', \"'Oh!\", 'Charles.\"', '\"Neither', 'Of', '\"Poor', 'Rosings', 'Gracechurch', 'Rosings?\"', 'Newby', 'June,', '\"Indeed,\"', '\"I', 'Since', 'Eliza,', 'Chatsworth,', 'Annesley,', '_Boulanger_--\"', '\"_Her_', 'Teasing,', 'Kitty?\"', 'Mount', 'A', 'King.', 'Lucas,\"', '\"If', '\"But,\"', 'Thoughtless', '\"Never,', 'Jane;', '\"Yours', 'Gardiner.', 'License.', '\"Indeed,', 'Pratt,', 'Observing', 'Eliza,\"', 'Italian', 'Compliance', 'Thank', 'Promise', '\"Then', 'Derbyshire,', 'Redistributing', 'Who', '\"Implacable', 'Reynolds', 'Bennet,', 'Eliza', 'Darcy?\"', '_You_', 'Epsom,', '\"Obstinate,', '\"_My_', 'Hart', 'King,', 'No', '\"Heaven', '\"Were', 'Could', '\"There', 'Darcy!', 'Forster,', 'Hill', 'Netherfield,\"', 'Towards', 'Lydia.\"', 'Three', '1.E.9.', 'Everything,', '\"Kitty', 'Lord', 'Gardiners', '\"Already', 'Elizabeth;', 'When,', 'Parsonage,', 'Catherine;', 'Updated', 'George,', '_I_', '\"You,', 'Eliza!', 'Supposing', '\"Surely', 'Bennet;', 'Meryton,\"', 'Ashworth', '\"Merely', '\"Your', 'Whatever', 'And', 'Street.\"', 'Meryton.\"', 'Gardiners,', 'Much', 'London,', 'Dale', 'Collins,\"', 'Bingley:', 'Darcy.', 'Netherfield?', 'Kenilworth,', 'Saturday', 'Parsonage.', 'Copyright', 'International', 'Hertfordshire,', 'Chapter', 'Bath;', '\"Insolent', 'Amazed', 'Excuse', 'Honourable', '\"So', '\"Nonsense,', 'Mr.', '\"Her', 'Saturday,', '\"Such', 'Words', \"Bingleys'\", 'Well!', 'Bourgh?', 'Theatre', 'House!', 'Lakes.', 'Last', 'Heaven!', 'Christmas.', 'Derbyshire;', 'Console', 'Find', 'Pope', 'Let', 'Lizzy!', 'Its', 'God', 'London.', 'Fixed', 'Jane!', 'Gutenberg\"),', 'They', 'Come', 'Pemberley,', 'Hertfordshire;', 'Hurst?\"', '\"Certainly,', 'Most', 'Sometimes', 'Send', 'Bingley,\"', 'Indeed,', '\"No;', 'Change', '\"Unhappy', 'Why,', 'Section', 'Hart,', '\"Believe', '\"M.', 'Posting', '\"Then,', 'I,\"', 'Long.', 'Jenkinson', 'To', '\"Are', 'Lizzy!\"', 'Thus', 'Where', '\"Though', 'Are', 'Longbourn.\"', 'What,', 'Scotland', 'Stoke,', 'British', 'Street;', 'Has', 'Author:', 'More', 'Pemberley.', '\"Will', '_He_', 'Then', '\"Lizzy,\"', '\"Next', 'Unfortunately', 'Scotch', 'Phillips', 'People', 'Nonsense,', '\"Speak', '\"Sure', 'He', 'Additional', 'London', 'Fitzwilliam?', 'Donations', 'French', 'Catherine),', 'Their', 'Lizzy,', 'Come,', 'Everything', 'Darcy.\"', 'Anne', '\"If,', 'Such', '\"And', 'Anne,', 'Scarborough,', 'Hatfield,', '_His_', 'Project', 'Denny,', 'Street', 'Lydia;', 'Letters', 'Pursuing', 'Everybody', 'Both', '[Last', 'Foundation,', 'Carter,', 'Gouldings', 'Many', '\"Then,\"', 'Among', '\"Unless', 'Unwilling', 'Those', 'Jenkinson,', 'Widely', 'Accept', '\"Good', 'Another', 'Friday,', 'Take', 'Generous,', 'Sunday,', '1.E', 'Long', 'September,', \"'Yes,'\", 'Lodge;', '\"Let', 'Brighton?\"', 'July,', 'Phillipses', '\"Blame', 'Imagine', 'Bennet:', 'Hunsford,', '_She_', '\"Every', '1.F.1.', '\"Right', '\"_That_', 'Convinced', 'We', 'Nobody', 'Little', 'Human', 'Michaelmas;', '\"True;', 'Pemberley?\"', 'North,', '\"Say', '\"Was', 'From', 'Put', \"'Ah!\", 'Literary', 'Birmingham,', '\"Elizabeth', '\"Be', 'Pray', 'Gutenberg:', '\"He', 'Darcy;', 'Executive', 'John', 'In', 'Jane,', '\"As', 'Elizabeth,\"', 'Breakfast', 'Lizzy.\"', 'The', '\"Whatever', 'Peak.', 'Archbishop,', 'You', 'Arguments', '\"Wickham,', 'See', 'Lucas,', 'Elizabeth--', 'What', '\"Take', '\"What,', 'Vain', 'Regard', 'Allow', 'Meryton.', 'However,', 'Fitzwilliam,', 'Chamberlayne', 'Lydia!', '\"Depend', '1.E.', 'Parsonage', '\"Sometimes.', 'North.', 'Christian,', '\"Yes', '\"Well,', '\"Read', 'Believe', '\"His', 'Bingley!', 'Forster?\"', '\"Would', 'Have', 'Wednesday.', '\"My', 'Indeed', '\"Undoubtedly,\"', '\"Nay,', 'This', 'Calling', '\"Who', 'England', 'Longbourn.', 'England.', '\"Lizzy', 'January', 'Society,', 'April,', 'Collins,', 'Eliza.\"', 'Sermons.', 'Bennet?', 'Elizabeth.', '\"Ten', 'Vanilla', 'King', 'Britain', 'Meryton;', 'Bingley.', 'Till', 'Why', 'Tease', 'King?', 'W.', 'B.', 'Pemberley', '\"Mary', 'Woods', 'Kitty!', '1.E.3.', 'Georgiana,', 'Painful', '\"Yes,', '\"Hunsford,', 'Lizzy', 'Charlotte', '_My_', 'Nothing', 'Longbourn', 'Bingley.\"', '\"Our', '\"In', 'Would', '\"Why,', 'Hurst', 'Putting', 'Courier,', 'Lord!', 'Easter', 'Ramsgate', \"'_She_\", 'Scotland:', '\"She', 'Forsters', 'Bell,', 'William', 'Heaven,', '\"Exceed', 'Shall', '\"About', 'Bennet', 'Only', 'Never,', '\"You', 'Gardiner', 'Gutenberg\"', 'Meryton', 'London;', 'Jane,\"', '\"Lydia', 'Elizabeth.\"', '\"Most', '\"That', 'About', 'Spanish', 'Vain,', 'Melan', 'Oh,', 'Without', 'Wickham!', 'Matlock', 'Family', '\"Miss', 'As', '\"Not', 'South.', 'Stupid', 'Importance', 'Kympton?\"', 'Newcastle,', 'Stop', 'Jane.', '\"Two', 'Mamma,', 'Matlock,', 'Pulvis', 'Robinson;', 'October.', 'Maria.', 'Saturday.', '\"Dining', 'Lambton!', 'Refund\"', '\"Certainly', 'Commerce;', 'Darcy!\"', 'Perhaps', 'Steady', 'Caroline.', 'Lydia,\"', 'Wholly', 'Austen', 'Pemberley;', \"'Having\", '\"Dearest', 'F3.', '\"Dear', '\"Sir', '1.E.7.', 'Chief', 'Language:', 'Elizabeth:', 'Yet', \"'Mr.\", '\"Some', '\"Nothing', 'Wednesday', 'Richard;', 'Domain', 'City,', 'Mississippi', 'Bennet.\"', 'First', 'February', 'Bennet?\"', 'Netherfield.\"', 'Will', 'Lambton?', 'Louisa,\"', '1.F.5.', 'Gutenberg', 'March,\"', 'No,', '\"Really,', 'Be', 'Younge', '\"Had', 'Soon', 'Bourgh,', 'All', '\"Write', 'License', 'Derbyshire.\"', 'Dove', '\"Certainly,\"', 'How', 'Charlotte;', 'Lakes.\"', 'Adieu!', 'Adieu', '_They_', 'Even', 'Before', '\"Pray', 'Jane:', 'Esq.', 'Lydia!\"', \"'This\", '\"Remember,', 'Hertfordshire', 'Charlotte,', 'Lucas.\"', 'Ring', 'Hope', 'Christmas.\"', 'Terms', 'Park,', '\"Perfectly', 'Do', 'States,', 'Christmas', 'U.S.', '1.E.2.', 'Mamma', '\"Indeed!\"', 'Must', 'With', 'Not', 'Does', 'Lord,', '\"Their', 'William:', 'Hurst,', 'Yet,', 'Can', '\"Haye', 'Intimate', 'Barnet', 'Epsom.', 'Newcastle', '1.F.3,', '\"Compared', '\"Pardon', '\"Because', 'Gardiner?', '\"Defects,\"', 'Consider', 'Bingleys', 'Lakes', 'Something,', 'Eager', 'Fitzwilliam.', 'Scotland.', 'Rosings.\"', 'Bingley,', '1.C.', 'Elizabeth,', 'Forster', '\"Mr.', '\"Sir,', 'Pleased', 'Impossible!', 'Lydia?\"', 'November', '\"\\'My', 'Foundation\"', 'Lodge,', 'Imprudence', 'If', '\"Oh!\"', 'Lizzy.', 'Full', 'Follies', 'Four', 'Nothing,', 'Madam,\"', 'Lodge', 'Consoled', '\"Charles', '\"Oh,', 'Scotland,', 'York,', 'Catherine.', '\"Care', 'Sept.', 'Stay,', 'Charles,', 'Collinses', 'Proud', '1.E.6.', 'Public', '1.E.1.', 'Collins.\"', 'When', 'S.', 'Hertfordshire.', '\"Beyond', 'Monday,', '\"Certainly.', 'Conceal', 'Please', 'Title:', 'Dear', 'Thoughtlessness,', 'Dear,', 'Scarcely', 'So,', 'At', 'Foundation', 'Revenue', 'An', 'Happiness', 'Wickham', 'Kitty.', 'Carter', '\"Just', '\"By', 'Forster,\"', 'Attendance,', 'Reynolds,', 'Wickham.', '\"We', 'War', 'Phillipses,', 'Choose', 'P.', '1.C', '\"Well', 'Darcy,', '\"Come', 'Others', '\"Laugh', 'Risk', 'Kent,', 'Charles', 'Pride', 'Hunsford.\"', 'For', '\"Thank', 'Meryton?', 'Bingley)', 'Lizzy?\"', 'For,', '\"Upon', 'Epsom', 'Lucases.', 'Dovedale,', 'Jane', 'Now,', 'House.', 'Kitty', 'Each', 'Brighton!', '\"At', 'These', '\"Have', 'Single,', '\"Elizabeth,', '\"It', 'Derbyshire.', 'Hill,', 'Thus,', '\"Come,', '\"For', 'Longbourn;', 'Girls,', 'Lydia', 'Other', 'Internal', 'Oxford,', 'Dawson', '\"Can', 'Pray,', 'Heaven', 'Redistribution', 'Archive', 'Rosings;', 'Pemberley.\"', \"Bennet,'\", 'Neither', 'Volunteers', 'Gardiner,', 'Eastbourne', 'Yes,', 'He,', '\"Impossible,', 'Times', 'Things', 'Saturday.\"', 'Oh!', 'Elizabeth', \"'Keep\", '\"The', '\"But,', 'Bennet!\"', 'First,', 'Persuaded', \"'Lady\", 'London.\"', 'Two', 'Sunday', 'Kitty;', 'May,', 'Netherfield.', '\"Now', '\"Yes,\"', 'Lake', '\"Undoubtedly;\"', '\"I,', 'Sunday;', '\"\\'Tis', 'Brighton!\"', '\"On', 'Jane?', 'Foundation.\"', '1.F.', 'Lambton', 'However', 'Lambton;', 'Right', '\"Now,\"', 'Resignation', 'Longbourn,', 'Militia', 'Mrs.', 'Hill?', 'It', 'Collins.', 'Hunsford;', 'Park', \"'I\", 'Oakham', 'Fatigued', '1.E.4.', '\"Bingley.\"', '\"Money!', 'Darcy', '\"Which', 'Was', 'Pen', 'Hertfordshire.\"', 'Release', 'But,', '\"Does', 'Information', '\"Plain', 'Use', 'And,', '\"Now,', '\"Lady', 'Anxiety', '\"_Mr.', 'Captain', 'Caroline,', 'Netherfield', 'Nearly', 'Charlotte!', '1.F.6.', 'Hunsford', 'Kent?\"', 'Bennets,', 'Blenheim,', 'Affectation', '\"Very', 'Ramsgate.\"', 'End', 'Phillips,', 'Darcy,\"', 'Absence', '\"If!', 'Into', 'Newcastle.', '\"Perhaps,\"', 'Darcy?', '\"Another', 'Wherever', 'Or,', 'Bennet,\"', 'Amongst', 'Service.', '\"La!', '\"Not,', 'Under', 'Netherfield?\"', 'Accordingly,', 'Lizzy,\"', '\"True,\"', 'Caroline', 'Mary,\"', 'Madam,', 'Tuesday,', 'Hursts', 'Respect,', 'Church', '\"Project', 'London?\"', '\"From', '\"Something', 'Whenever', 'Westerham,', 'Miss', 'Contributions', '\"Louisa,', '_That_', 'Young', \"Catherine,'\", 'Ramsgate;', 'Clapham,', 'Green,', 'Never', 'Besides,', 'Bakewell,', 'Stone.', '\"Nay,\"', 'Lucases', 'November;', 'Happy', 'Tuesday.', 'Dr.', 'Is', 'Poor', 'Good', 'Office,', '\"Nor', 'Oh', 'God!', 'Fitzwilliam', 'Liverpool:', '\"Undoubtedly.', 'Bingley?\"', 'Louisa.', 'There', 'Hunsford.', 'Unfeeling,', '\"Perhaps', 'Mount,', 'Web', 'Think', 'Nor', 'Lucas.', '\"Go', 'Cheapside,\"', 'Wickham?\"', 'Mary,', 'My', 'Almost', '\"Yours,', 'Some', 'Jane!\"', 'Wednesday;', 'Bourgh.', 'Now', 'William,', 'Vanity', 'May', '\"These', 'During', 'Catherine,', 'Whilst', 'London,\"', '\"Much', '\"All!', 'Remember', '\"\\'After', 'Georgiana', '\"Why', 'Darcy_,', 'London!', 'States', 'There--I', 'Charlotte,\"', '\"Removed!\"', 'Twice', 'Nay,', '\"Has', 'Tell', '\"Is', 'Then,', 'Your', 'Clapham.', '\"Could', 'Wednesday,', 'Wickham;', '\"Pray,', '\"Neglect!', 'Gregory', \"Bennet.'--My\", '\"Caroline', \"'Lydia\", 'Away', 'Except', '\"Do', 'Unless', 'Fairbanks,', '\"Complied', 'Hill!', 'Lucases,', '\"Jane,', '\"Hate', 'Bingleys.', 'Thursday.', 'Charlotte.', 'Meryton?\"', '\"Lord,', 'Maria,', 'Lydia,', 'After', '\"Or,', 'Reflection', 'George', 'Very', 'Seriously,', 'Scotland.\"', 'Smiles', 'Despite', 'Mission', 'Eliza?', '1.A.', 'Mary?', 'Netherfield,', 'Maria', 'Mary', 'Tuesday;', 'Lambton,', 'Gretna', 'Through', '\"No,\"', 'Younger', 'Make', '\"Where', 'Michael', '\"Far', 'Professor', 'Phillips.', 'Tuesday', \"'Lately,\", 'Madam.', \"'Tis\", 'Webbs', 'Kitty,', '\"Shall', 'Give', 'Long,\"', 'Say', '1.E.8', '\"This,', 'Collins!\"', 'March', 'While', 'Saturday?\"', 'Lodge.', '\"No--I', 'English', 'Collins!', 'Forgive', 'Philips.', '\"Tell', '\"Ah!', 'Elizabeth!', 'Between', 'Nicholls', 'England,', 'Our', 'Darcy:', 'Surprise', 'One', '\"Of', 'Goulding', 'Conjectures', 'Contact', '_Her_', 'Had', 'Lydia.', 'Within', 'On', 'Christian', 'Ten', 'Denny', 'Collins', 'Daughters', '\"Oh!', 'Yours,', 'Maria;', 'Rosings,', 'Lambton?\"', '\"Excuse', 'England;', 'Five', 'There,', 'Collins;', 'House', 'Email', 'Well,', 'Compliments', 'Director', 'Though', '\"La!\"', '\"A', '\"Nearly', 'Forster?', 'Sally', 'Lucas)', 'Bourgh', 'Allowing', 'This,', 'Lakes,', 'Brighton.', 'Harriet', 'Kent', 'Were', 'Assistance', 'Upon', '1.E.1', 'Bingley', 'Bennet!', 'Instead', '1.B.', 'So', 'October', '\"May', 'Ignorant', 'Robinson.\"', '\"Gracechurch', '\"Lizzy,', 'Whether', 'I,', 'Replacement', '\"Pride,\"', '\"This', 'Louisa', 'Against', 'Creating', 'Collinses,', 'No;', '\"No', '\"While', '\"Very,', 'Bennets', '\"Information', 'Sir', 'Wilfully', 'Warwick,', '_Too', 'By', '\"Ah,', 'Prejudice', '\"Yes;', 'Lewis', '1.D.', 'Wickham\"', 'General', 'North', 'Netherfield;', '\"Hunsford,\"', 'West,', 'Bourgh,\"', '\"Well,\"', 'Meryton,', '\"Probably', 'Annesley', 'Here,', 'Defect', 'Lady', 'Lane,', 'Any', 'Foundation.', 'St.', 'Next', 'Pardon', 'Her', '\"True.', 'Lucas;', 'Balls', 'States.', 'Militia,', 'Special', 'Forster;', 'November,', '1.E.8.', 'But,\"', '\"But', 'Brighton;', '\"Since', 'Gardiner;', 'That', 'Anonymous', 'Bingley;', '\"With', '\"Engaged', '1.E.5.', 'I', '\"Both,\"', 'Pratt', '\"Wickham', 'Derbyshire', '\"Design!', 'Kent.', 'Catherine', 'Dearest', 'Date:', 'Anything', 'Forster.', 'Wickham,', '\"Oh', 'Far', '1.E.7', 'Harringtons', '\"Except,\"', 'She', 'Lucas', '\"What', 'Bourgh.\"', '\"John', 'Astonishment,', 'Royalty', 'Sections', '\"Ah!\"', 'Grosvenor', 'Lucases;', 'Prejudice,', 'Howsoever', 'Kitty,\"', '\"None', 'Day', 'F.', '\"Indeed', 'Jones', '\"So,', '\"Exceedingly', 'Easter,', 'House,', 'Imprudent', 'Hear', '1.F.3.', '\"Yes.', 'Street,', 'Brighton,', 'Salt', 'Ever', '\"_You_', 'Thursday', 'January.', '\"Mrs.', 'Women', '\"Yet', '\"When', 'Once', 'Monday:', 'Produced', 'Lizzy;', 'But', '\"They'}\n"
     ]
    }
   ],
   "source": [
    "cap_words = set()\n",
    "with open('pride_and_prejudice.txt', 'r') as filehandle:\n",
    "     ## Loop through each line and in each line loop\n",
    "     ## through each word\n",
    "     for line in filehandle:\n",
    "         line_list = line.split()\n",
    "         for word in line_list:\n",
    "             if word.istitle():\n",
    "                cap_words.add(word)\n",
    "print(cap_words)\n"
   ]
  },
  {
   "cell_type": "markdown",
   "metadata": {},
   "source": [
    "Now let's for the moment ignore the flaws in what we've done (Many, if not most, of the things collected are not proper names).  Suppose we want to do the same thing to another Jane Austen novel, *Emma*. Here's code for that:"
   ]
  },
  {
   "cell_type": "code",
   "execution_count": 2,
   "metadata": {},
   "outputs": [
    {
     "name": "stdout",
     "output_type": "stream",
     "text": [
      "{'\"\\'Smallridge!\\'--What', 'Emma?\"', 'Melan', 'Vicar', 'Woodhouse;', 'Otway', 'Another', '\"_His_', '\"Yes.\"', 'Richard?--Oh!', 'Receive', 'Neptune?', '\"From', 'Dixon.--Emma', '\"Knightley', '\"Indeed!\"', '\"Imprudent,', 'Abbots', 'Churchill;', 'Grove;', 'Weymouth.', '_Elton_', 'Bickerton,', 'Somebody', 'God!--Mr.', 'Italian', '\"Yes--I', 'English.', 'January.', 'Wingfield,', '\"Almost', 'Harriet,\"', 'They', 'That', 'Elegant', 'Harriet!', \"'No,'\", 'Bless', 'January.\"', '\"Christmas', 'Crown', 'Mississippi', 'Letters', 'Woodhouse.\"', '\"Ah!--Indeed', 'Cox', '\"Agreed,', 'Cox.', '\"Jane,', 'Nash,', 'Matrimony,', 'Compliments,', 'Smith,', 'Call', 'Dr.', 'Gilbert', '\"One', 'Robert', 'Vicarage,', 'God!\"', 'Enscombe;', 'Sept.', 'Not', 'Tuesday.', 'Suckling,', 'Under', 'Knightley,\"', '\"Myself', 'Surry;', 'Vigorous,', 'Bates?--I', 'Highbury!', 'Michael', 'Bird', '\"Brother', 'Place,', 'Mission', '\"They', '\"Certainly.', 'Isabella,', '\"Ah!', 'Dixon.--Very', 'Dancing', '\"None;', '\"What!\"', 'Hawkins!--Well,', '_Some_', 'Web', 'Smith!--It', 'Director', '\"Was', 'Was', 'Donwell,', 'Hall;', 'This,', 'Taylor!', '\"Yours', 'Grove.\"', 'Produced', '\"Whenever', 'Emma!--Emma', 'There', 'Nature', '\"Dating', 'Fairfax', 'Grandmama', 'Fairfax,', '\"Read', 'Hodges', 'Emma.\"', 'Bateses.', 'Poverty', 'Jane,--There', '\"Trouble!', 'Lake', 'Time', 'States.', 'Smith!--What', 'Fairfax.--And', 'Or', '1.F.6.', 'Bath?--Indeed', 'Too', '\"Now', 'Dixon,', 'Will', 'Things', 'E.', 'Having', 'Philip', 'Fairfax!', 'Perry.--I', 'Knightley!--Mr.', 'Accordingly,', '\"Never,', 'Royalty', 'Gilbert.\"', 'Smiles', 'Woodhouse?--Till', 'Kingston.', 'Knightley!--There', \"Knightley.'--You\", \"'Have\", '_Mrs_.', 'Sunday', 'However,', 'Stokes.--Every', '1.F.5.', 'Fortunately,', '\"Emma', '\"Come,\"', \"'The\", 'Fairfax.--She', 'F3.', 'Elton!--The', 'Quite', 'Living', 'Knightley?\"', 'Proportions,', 'Bates!\"', 'Richmond,', '\"Which', '1.E.8.', 'Weston?--Judge', 'Elton?--That', 'Vanity,', 'Lieut.', 'Weston.\"', 'Pray,', 'Hawkins,', 'Prince,', '1.E.5.', 'George.', 'Churchill?--Ah!', 'Dorking', 'Smith!--Miss', 'Goddard.', \"Emma'\", 'Very', '\"Highbury', '\"Indifferent!', 'Isabella:', '\"Your', 'Neither', 'Farm.', 'Hitherto', '\"My', 'Foundation.\"', 'Smallridge,', 'Forcing', 'Happy', '\"These', 'Depend', '1.E.2.', 'W.\"', 'Excellent', 'After', '\"Both', '\"Having', 'Eltons', '\"Do', 'Nearly', 'Wiltshire,', 'Coxe--Oh!', 'Campbell.\\'\"', 'Here', 'Martin.', 'We', 'Patty,', 'Colonel', 'End.', 'Knightley.--They', 'Churchill.\"', 'Within', 'Highbury?\"', 'Date:', 'Exquisite,', 'Posting', 'Certainly', '\"Some', 'Eltons.', 'General', 'Kingston.\"', 'Fairfax.--I', \"Jane?--'So\", 'Leave', '_What_', 'Bates--I', 'I?--Anne,', 'Knightley!', 'William,', 'Hartfield.\"', 'Even', '\"Then,', '\"Open', 'Those', '\\'No?\\'\"', \"Churchill.'--I\", 'Foundation\"', 'Knightleys;', 'Caroline.--Such', '\"Great', 'Unless', 'Perry!', '\"Ungrateful!--What', 'During', 'Compliance', 'By', '\"Harriet', 'Lane.\"', '\"Better', 'Harriet;', 'Emma;', 'Come', 'Could', \"'Do\", 'High', 'Windsor', 'Campbell;', 'Hawkins!--Good', '\"Think', '\"Never', '\"Nor,', 'Donwell;', '\"Ah!\"', 'Wednesday.\"', '\"Our', 'Perrys,', 'Henceforward', 'Kitty,', 'Certainly,', 'Churchill,\"', 'V', 'Lane', '\"Nonsense!', 'June.', 'Bragge,', 'Both', 'Cole,', 'Skilful', 'Harriet!--It', 'Coxes', 'Martin?\"', 'Latterly,', 'Absence,', 'Romance', 'Aunt', 'Martin;', 'Highbury:', '\"How', 'An', 'Indeed,', \"Elton!--'Jane\", '\"Had', 'Other', 'Six', 'Revenue', '\"Yes;', '_She_', 'Knightley.--\"Robert', 'January;', 'Much,', '\"Beg', 'Now,', 'Emma:\"', 'Invite', 'Campbell.', 'Happily,', 'Our', 'Ah!', '1.F.3.', 'Bath', 'Always', 'Martins,', 'Woodhouse),', '\"By', '\"Ha!', 'French,', 'From', 'Bates,\"', 'Nay,', 'Elton;', '\"Indeed!', '_Chaperon_', \"Churchills'\", '\"Nonsense,', 'Churchill.--At', '\"Does', '\"More', 'Gutenberg\"', 'Woodhouses', 'Wickedness', 'Fortunately', 'I!\"--But', 'Churchills.\"', 'Smith', 'Wednesday', '_Miss_', '\"Those', 'Does', 'Rev.', 'Birmingham,', 'Day,', 'April', 'Larkins.', 'Compressed', 'International', 'Such', 'Knightleys', 'December.', 'Knightley,', 'Service.', 'Wakefield.', 'Though,', 'U.S.', 'Austen', 'This', 'Come,', 'Smith!--I', 'Isabella\"', 'Ireland;', 'Fairfax,\"', '1.E.8', 'Some', 'Internal', 'England', 'So', 'Real,', '\"Certainly,', '\"Good', 'Jane,', '\"Yes,', 'Did', '\"Well', '\"Can', \"'No;'\", 'Ireland', '\"Colonel', 'Which', 'Abbey-Mill', 'Children', '\"The', '\"Proof', '\"Handsome!', 'Vicarage.\"', 'Should', 'Fourteen', 'Emma,)', 'Used', 'Martin.\"', '\"Perry!\"', 'Angry', 'Foundation.', 'Weston.--So', \"E.,'\", '\\ufeffThe', 'As', '\"Frank', \"Sucklings'\", '\"Aye,', 'On', \"'Shall\", 'Selina', 'Weymouth?', 'Anywhere,', 'Jane;', '1.A.', 'Emma),', 'How,', 'I?', '1.E.1.', '\"Certainly,\"', 'London.', \"'F.\", 'Archive', 'Shall', 'Farm!--_You_', 'Fairfax;', 'Every', '_Mr_.', 'Jane!\"--And', 'Farmer', 'Any', 'With', 'Lively', 'Here,', \"Madam,'\", 'Foundation', 'Knightley!--How', 'She', 'Easter,', \"'Even\", 'Full', 'Windsor,', 'He', 'Contrary', 'Busy', 'Taylor.', '\"Well,', 'Harriet.--\"Do', 'Highbury.--\"He', 'Dixons,', \"'George'\", 'Windsor.--Oh!', 'Bath,', '(Harriet,', 'Cooper;', 'Lord', '\"Between', 'Has', 'Conceive', 'Say', 'Christmas,', '1.E', '\"Nay,', '\"Certainly;', '\"Or', 'Fetch', \"'Well,'\", 'Their', 'Bristol;', 'Bristol--Maple', 'Young', '\"Well!', 'Martin!', 'Absolute', 'Emma,\"', 'End', 'Believe', 'Kingston', 'Christmas.', '\"Low,', 'Milmans,', 'James,', 'Fairfax?\"', 'Square', 'Churchills.', 'Part', 'Absolutely', 'Taylor.--But', 'Oh!', '_Adair_', '_Dixons_.', 'Eltons?--Here', 'Replacement', \"'Exactly\", '\"His', 'Instances', 'Donwell!--You', '_Her_', 'Woodhouse', 'Woodhouse.--I', 'Patroness,', 'Anne', 'Yes,', '\"Indeed,', 'Donwell?--Oh!', 'Hawkins.', 'Clifton?\"', 'Perrys--I', 'June', 'To', 'Henry,', 'Square,', 'Emma--\"A', 'Scotland,', '\"But,', 'Church!', 'His', 'Email', 'Goddard?', 'I?--Yes,', 'Frank.--Go', 'Without', 'Theodore,', 'Abbey', 'Cox;', 'It', 'Selina;', '\"Where', 'Cole.', 'Weston!--Astonished', 'Smith!--Such', 'Donwell?--_There_', 'February,', 'Stokes', 'Crown!\"', 'Waiving', 'Smith?--Very', '\"Increase!\"', 'Books', 'Enscombe.', 'Elizabeth', 'Braithwaites,', 'Bristol', '\"Me!', 'Go,', 'Perfectly', 'Consider', 'Eltons!', 'Read', 'Knightley,)', 'Perry', 'Perry;', '\"For', 'Many', 'Small', 'Cromer', 'London;', 'Manners', 'Randalls.\"', 'Natural', 'Just', 'Weston;', 'Emma.\"--', 'Bella,', 'Knightley.--This', 'Smith.\"', '\"Success', '\"Mrs.', '\"No,\"', 'Fairfax.', 'Poor', '\"Mermaids', 'Gratifying,', '\"_I_', '\"Isabella', '\"Ah,', '\"Whom', 'November,', 'Can', 'Enscombe,', 'Sir,', 'Section', 'Hawkins;', 'Married', 'States,', 'Seldom,', 'Mr.', '\"Should', 'Abbey,', 'December,', 'I.--I', '1.F.1.', 'End,', '\"Much', 'Pain', 'Randalls,\"', 'Saturday', 'Terms', 'Common', 'Where', 'November', '\"Never!', 'Madeira', 'Kings', 'Dear,', 'Emma!\"', 'Vicarage', 'Excepting', 'October,', 'Taylor', 'Former', '1.C', 'Bath;', 'Heavens!--What', 'A', 'I', \"Fairfax.'\", 'Harriet.--It', 'Presently', 'Emma.)', 'Harriet?\"', 'Gilberts,', 'Elton', '\"\\'Mr.', 'Salt', '\"She', 'Creating', '\"Most', 'Crown,', 'Emma.--You', 'Churchills,', 'Frank.', 'Shortly', 'Clayton', 'Harriet!\"', '_Now_', '\"You', 'Woodhouse--I', 'Vicarage.--There,', '(Miss', '\"Me!--I', 'Campbell.\"', 'Referring', 'John.--He', '\"Being', 'Understanding', 'Smith.', 'Richmond.', 'Often', 'Elton!\"', 'Weymouth,', 'Goddard;', 'Augusta,', 'Mistresses', '_You_', 'Miniatures,', 'January', '\"Why', 'Emma.--\"I', '\"Sir,\"', 'Actually', 'Command', 'Sighs', 'Augusta', 'Weather', 'Mill,', 'Windsor?\"', 'July', 'September:', '\"John,', 'Delighted', 'Pardon', 'Woodhouse!\"', 'Friday', 'Frank', 'Worse', 'Monday', 'Woodhouse,', 'Frank;', '\"Women', 'Emma.', \"Kingston?'\", 'Additional', 'Campbells', '\"That', 'Is', 'Except', 'C.', 'Hazle', '\"Service!', 'Highbury,', 'Altogether', 'Your', 'Half', 'Defect', 'Perry.', 'Smith.\"--She', '\"Pray', \"Stokes,'\", 'Woodhouse)', 'While', 'Elton.', 'Eltons,', '\"Just', 'Isabella', 'That,', 'Title:', '\"Ever', 'Anxious', 'Fairfax!\"', 'Enscombe.\"', 'South', '\"Dreadful!--Exactly', 'Hodges,', 'Surry.\"', 'April,', 'Eltons,\"', 'Sixteen', 'Martin.\"--She', 'Long', '1.E.7.', 'Take', '\"Perhaps', 'Surry', 'Bickerton', 'Two', '\"Indeed', 'Resentment', '\"Till', 'Swisserland,', 'Otway,', '(Mr.', 'Circumstances', '\"Of', 'Look', '\"Yes.', 'Henry;', 'Harry', 'Happily', '\"Oh', 'Hughes.', 'Elton,', '1.E.1', 'Instead', 'Mickleham', \"'My\", 'And', 'Yes.', 'Never', 'Elton?', 'Ireland.', 'Composure', \"'How\", 'She,', 'Now', 'Farm;', 'Cole.\"', 'Think,', '\"Her', 'Knightley?--Who', 'Would', '\"Plain', 'Bates.', 'Emma)', 'Martin?', '\"Oh!', 'Human', 'Weston.', 'Partridge,', \"'And\", 'Patty', 'Bates,)', 'B.', 'Weston,\"', 'Aye,', 'Taylor!--I', '\"Very', 'Elizabeth,', '\"Six', 'Since', 'Agricultural', 'Surry,', 'Emma.--Offended,', 'March?', 'Square.', '[To', '\"Have', 'Hartfield!--No,', '\"Not', \"'No,\", '\"Depend', '\"Nobody', 'Donwell.', 'But', 'Then,', 'Hartfield.', 'Between', 'Give', 'Delightful,', 'Saturday;', 'You,', '\"With', 'Keep', 'Maple', '\"No,', 'Knightley!--Can', 'Professor', 'Randalls;', 'Gone', 'E.,', 'Updated', 'Hannah', 'Nobody,', 'Donations', 'Refund\"', '\"Poor', 'Bought', 'Am', '\"Emma,\"', '_The', 'Abbey!--Oh!', 'Elton,\"', 'Unwelcome', 'Weymouth.\"', 'Adelaide', 'Nothing,', 'Forest,', 'Isabella.', 'February.', 'Christmas', 'Elton.--She', '\"Right', 'Elton?\"', '\"No--It', 'Dixons', \"'Can\", 'People', 'Sections', 'Churchill.--He', '1.E.6.', 'Barnes,', 'Campbells.\"', 'Emma!', '_May_,', 'Disingenuousness', 'Mill', 'Otways.--Not', 'Ford.\"', 'Jeffereys--Clara', 'But,', 'October', '1.C.', 'Highbury', 'Donwell', '1.F.', '1.E.4.', 'Going', '[Etext', \"'Uncle\", '\"Business,', '\"This', 'United', '\"Say', 'Highbury;--Mr.', 'Nash', 'Baronne', 'Contributions', 'Wrapt', 'W.', 'September,', '\"When', 'Holyhead', 'Perrys', 'Enscombe,\"', 'Hetty', 'Anna', 'Weston?--To', '\"Henry', 'Ladies', \"'But,'\", 'S.', 'Frank?', \"'Bless\", 'Later', 'Donwell?--He', 'I?\"', 'Fairfax.--Then,', 'North', 'Release', 'Soon', 'Richard?--I', 'Harriet!--A', 'I,\"', 'Fairfax!--Good', 'Pembroke,', '_There_,', 'September', 'Box', 'Perry,\"', '\"Take', 'Most', '\"Only', 'M.', 'Woodhouse,\"', 'Walk', 'Knightley--\"I', 'Charming', 'English', 'Had', '\"Hum!', 'Fairfax!--Well', '\"It', 'Respect', 'Westons', 'Weston!', 'Extracts.', 'Westons.', 'Redistributing', 'Bates!', 'Gutenberg:', 'Thank', 'Grove.', '\"Harriet!\"', 'Woodhouse:', 'Arthur!--How', '\"To', \"Cox.'\", 'Hill,', 'Hawkins', 'Perry,', '\"You,', '\"Rather', 'No;', '\"Pretty!', 'Harriet!--I', 'Beyond', 'Cox,', '\"Oh!\"', '\"No--Mrs.', 'Considering', 'No!', \"'Well,\", 'Ten', 'Hartfield!', '\"_You_', 'My', 'Perhaps', 'Find', 'Bates?\"', 'Dixon.', 'Remember', '\"If', 'Language:', 'Once,', 'Jane.\"', 'Abbey;', 'Abbey.', 'Elton--', 'Yorkshire.', 'Bates;', 'Wright', 'Her', 'Emma.--\"You', 'Highbury.\"', 'Ford', 'Public', 'Churchill?\"', 'Emma--\"', 'Must', \"'Nobody\", 'Exactly', '\"Whoever', 'You', \"'If\", 'Otway;', '_Robin_', 'Martin,', 'Cromer,', 'Then', 'June,', 'Consider,', '\"Me!\"', 'Venice,', 'John,', '\"Men', 'States', 'Dixon!', 'Fairfax.--', 'Fairfax.\"', 'Concession', 'Serious', '\"Would', 'Jane.)', 'Campbells,', 'Selina,', 'Miss', 'Martin,\"', 'February', 'Mine,', 'Farm,', 'Project', 'Foundation,', 'Dixon)', 'Cole?', 'Smallridge', 'Nonsense!', 'F.,', 'Smith!--No,', 'Knightley.', '\"Very.\"', 'F.', '\"Then', 'Wallis', 'Encouragement', 'And,', '1.E.7', 'Churchill.--I', '\"Here,\"', 'Information', 'Please', 'Hill.', '\"Impossible!--I', 'Goddard', 'Smith!--Very', \"Eltons';\", 'Soup', 'Hartfield,', 'Towards', 'May.', 'Miss--', 'Forest', 'Larkins;', 'Fairfax?--I', 'Weymouth;', 'Fairfax?', 'Well,', 'True,', 'Bateses', 'Go', 'Might', 'Martin!\"', 'July,', '\"Now,\"', 'Richmond', 'Dublin,', 'Campbell,', 'Day;', 'Heavens!', '\"\\'Tis', 'In', 'Son,', '\"Now,', '\"Ill,', 'Ambition,', 'Sorrow', \"Eltons'\", '\"Pray,', '\"Happy', '\"Did', 'Understanding.', 'Approve', 'Saturday.\"', 'S.--_My_', 'Peculiarly', '\"A', 'Something', '\"Defects,\"', 'Pray', 'Well!', \"'Woman,\", '\"Might', 'Dinner', '\"True,', \"'No'\", 'Knightley', 'What', 'Bath.', 'Churchills', 'Larkins,\"', 'Weston?', 'December)', \"'But\", 'Inn,', 'Papa,', 'Woodhouse.--Dear', '\"Information', 'January,', 'Abbey.\"', 'Cannot', 'Coles.', '\"True.', 'Frank,', \"'Dearer,\", 'Randalls,', 'Bateses--I', 'According', 'X', 'Volunteer', '\"Come,', 'Coles,', 'Highbury;', '\"No', 'Martins', '\"May', '_I_', 'Cobham,', 'Grove,', '\"Encouragement!--I', 'Fairfax--\"', 'Knightley.--Every', 'Knightleys,', 'Till', \"Genlis'\", 'Ford?', '1.D.', 'Taylor.\"', 'Vanity', 'End.\"', 'Fairbanks,', 'F--,', 'Put', 'Brunswick', 'William', 'K.--But', 'Men', '_Mrs._', 'Square.--Isabella', 'Dear', '\"On', '\"Shall', 'Michaelmas!', '\"What', \"'Oh!\", 'Misses', '\"Dirty,', \"'Yes,'\", 'England.\"', \"Cole,'\", 'Campbell', 'For', '\"Emma,', 'Churchill,', 'Upon', '\"At', 'Cowper', 'Still,', 'Donwell,)', 'Woodhouse?--I', 'Sometimes,', 'Hawkins.\"', 'Domain', 'Who', 'Bragge', 'Taylor,', 'Tuesday,', 'Only', '_We_', 'At', 'Inn?\"', 'One', 'Whether', 'Pass', 'Highbury!\"', 'St.', 'Tom', 'Harriet!\"--Those', 'Elton.\"', 'Knightley.\"', 'God!', 'Broadway', 'Swisserland.', 'Smith--I', 'Saturday.', 'Voices', '\"Mr.', 'Langham,', 'Bath_,', 'Blessed', 'Impossible', 'Early,', '\"Especially', 'Yorkshire', 'N.', 'Martins;', 'Campbells,\"', 'Quick', 'Randalls?\"', \"'Not\", 'Heaven', 'Decidedly,', '\"Break', \"'Oh!'\", '\"Well,\"', '\"Who', '\"_My_', 'Jane?--Do', 'Weston.]', 'Dixon.\"', '_Perfection_', 'Abbey-Mill,', \"Churchill--'Every\", 'Use', 'Remember.\"', 'Tea', 'Vanilla', 'Witness', 'Lords', 'Author:', 'Ford,', 'Harriet', '\"But', 'Surprizes', 'Lane,', '\"Me,', \"Knightley;'\", \"'Full\", 'Grove', '1.F.4.', 'Although', 'Tell', 'Heaven!', 'Wallises,', 'City,', '\"--Mrs.', 'Fairfax!--Harriet', 'Name', '\"Middling,', '\"Be', 'No,', '\"Nonsensical', 'All', 'If', '_Woodhouse_', 'Saturday,', \"Taylor,'\", 'August.\"', 'Goldsmith', \"'Miss\", 'Stilton', '\"Why,', 'Yorkshire,', 'Hawkins,--I', '\"Insufferable', '\"Yes:', '\"Much,', '\"So', 'Bates', 'Oxford', 'Enscombe:', '\"Impropriety!', 'Martin', 'Special', \"'Mr.\", 'Escape,', 'Hartfield;', '1.B.', 'The', 'Isabella;', 'James', 'Shakespeare', 'Knightley?', 'Nobody', '\"Three', 'Three', 'Think', '\"Lord', '\"Humph!', 'Serle', 'Reports,', '\"We', '\"York', 'Thy', 'Oh', '\"Whatever', 'Adopt', '\"Perfectly,', 'Saunders', 'Were', 'Behold', 'Christmas;', '_Now_,', '\"Worse', 'W.,', 'Chief', 'Elton.--This', 'Smiths', \"Knightley'\", 'Imagine', '\"In', 'James;', 'Knightley;', 'Bates.\"', 'These', \"'I\", 'Windsor;', 'Donwell,\"', 'Like', 'Why', 'Bath!', 'Soft', 'Besides', 'Dixon', 'Grove!', '\"Nothing', \"'It\", 'Perry.\"', '\"Quite', 'Such,', 'Randalls.--But', 'Heaven!\"', 'Tupmans,', 'Picture,', 'Disputable,', 'Irish', \"Ceremonies'\", '\"About', 'August,', 'Master', 'Bateses,', 'Warmth', 'Observe', 'Extracts,', 'Tuesday', 'Abbey-Mill.\"', 'Bragge;', 'Churchill?', 'Trust', '\"Wrong!', \"'Tis\", 'Hughes', 'Harriet.--Does', 'Harriet,)', 'Richmond;', 'Weston', '_May_', '\"Project', 'Knightley.--Were', 'Sucklings.', '\"Exactly', 'Weston;--Mrs.', '\"John', '\"Another', 'Harriet.--They', 'What!', 'Jane', '\"Part', 'England.', '\"Cautious,', '\"No--I', '\"Cannot', 'White-Hart,', '\"Oh,', 'Knightley!--I', '\"While', '\"Leave', '\"Here', '1.F.3,', 'Look!', 'Papa', 'Anonymous', 'Hart,', 'Late', 'Emma.--She', '--\"The', 'Henry', 'John', '\"Are', 'John?\"', 'Randalls.', '_Most_', 'Catherine', 'Coles', 'Gregory', '\"Something', '\"And,', 'Seats', 'Dixon!\"', 'Suppose', 'Eltons;', 'Harriet?', 'Crown.\"', 'See', 'Campbells.--The', 'Uncle', '\"News!', 'God', 'Gutenberg', 'Knightley.--It', 'Harriet.\"', 'Cole', '\"Yes,\"', '\"Come', 'Campbells.', 'November.', 'Perfect', 'Harriet:', '\"No;', 'Compare', '\"Will', 'Undoubtedly', '\"_She_', 'Supper', 'Churchill.', 'Martins.', '_Taylor_', 'No', '1.E.', '\"Miss', '\"There', 'May', '_Dixon_.', 'Sucklings', 'Crown.', 'Let', 'Larkins', 'Plain', 'Literary', 'How', '\"Frank,\"', 'Being', 'Wingfield', '1.E.3.', 'Time,', 'Yet', 'Weston.--\"Very', '\"What!', 'Sunday,', 'Richardson,', 'Jane.', 'Hart', '\"Harriet,', '\"Must', 'Are', \"'George,'\", 'West', 'Alas!', 'Seven', 'Captain', 'Before', 'Gutenberg\"),', 'Weston,', 'February.\"', 'Churchill!', 'Knightley.--Neither', 'Thus,', 'Broadwood', 'West,', 'Woodhouse.', 'Acquit', 'Taylor--It', 'Bragges,', '\"Dear', 'Its', 'Hawkins--\"', 'Randalls', 'London,', 'Emma', 'Suckling', 'Copyright', 'Philippics', '\"Is', 'Do', 'Square;', '\"He', 'Nothing', 'About', 'Contact', 'Good', '\"Knightley!\"', 'Lady', 'George', 'Augusta?\"', 'Or,', 'Yorkshire?\"', 'Be', 'Campbell,\"', 'I,', '\"Jane', \"'You\", 'Crown;', '\"Kitty,', '\"And', 'Emma,', '\"A.', 'Highbury.', '\"Elegant,', \"'Grandpapa,\", 'Five', 'Knightley.--\"Emma,', '\"_He_', 'Hill;', \"'Augusta.'\", 'Knightley.--\"It', 'Bates,', 'Hill', '(I', 'La', 'When', 'They,', 'Perry?--Has', 'Redistribution', '(Emma', 'Goddard,', 'Comtesse', '1.F.2.', 'Though', 'Isabella,\"', 'More', '\"There,', 'Of', 'Besides,', '\"Time,', '\"Were', 'John.', '\"Ought', 'Despite', 'Alderneys,', 'Ireland.\"', 'Ours', '\"Such', '\"How?--They', 'Sometimes', '\"As', 'George?\"', 'Whenever', 'Weymouth', '\"Emma!\"', '\"Upon', '\"Engaged', 'Newby', '\"Charming', 'Fortune', 'Either', 'Randalls.--\"Well,', 'Ireland,', 'Volunteers', 'Elton!', 'Hartfield:', 'Coles.--Upon', 'License.', 'Mrs.', 'Smith;', 'England,', 'Richmond.\"', 'Harriet.', 'Park,', 'True', 'Fairfax.--A', 'Partridge', 'Indeed', '\"Donwell!\"', 'Birmingham.', 'Whatever', 'Hartfield,\"', '\"Prejudiced!', '_He_', \"'Three\", '\"Thank', 'Little', 'Churchill', 'Certain', 'There,', '\"Has', \"Taylor.'\", 'Short', '\"Pretty', '1.E.9.', 'Kindled', '\"Robert', 'Christian', 'Madame', 'Woodhouse!', 'Bristol,', 'Enscombe', 'Chuse', 'Have', '\"Four', 'Welch', 'London', 'Ford.', 'Oh,', 'Tupman,', 'Hartfield', '\"I', 'English,', 'Intimacy', 'Dining', 'Ever', 'Harriet,', 'Bates?', 'Much', 'Better', '\"Let', '\"Excuse', 'Executive', '\"Yes', 'License', 'Dixon?\"', 'Midsummer,', '\"Difference!', '\"Oftentimes', 'Bates.--He', 'Hetty,', 'Apologies', 'Tan\"', 'Beavers\"', 'Randalls!', 'Sucklings,', \"'Upon\", \"Knightley.'\"}\n"
     ]
    }
   ],
   "source": [
    "cap_words = set()\n",
    "with open('emma.txt', 'r') as filehandle:\n",
    "     ## Loop through each line and in each line loop\n",
    "     ## through each word\n",
    "     for line in filehandle:\n",
    "         line_list = line.split()\n",
    "         for word in line_list:\n",
    "             if word.istitle():\n",
    "                cap_words.add(word)\n",
    "print(cap_words)"
   ]
  },
  {
   "cell_type": "markdown",
   "metadata": {},
   "source": [
    "So now we have two code cells above which are practically identical.  But what I want to focus on here is not the redundancy.  After all, the way I created the second cell was by cutting, pasting, and doing a small edit.  Not by laboriously retyping all the same things.  What I want to focus on is what it's going to be like to read this notebook three months from now.  We're going to see two cells that look nearly identical, and it's going to take some work to see where they differ.  That's unnecessary.  There are  really three complaints about the copy and paste method of reusing code (which you will do a lot):\n",
    "\n",
    "  1.  There's no explicit, easy-to-read statement, of what's different in the two uses.\n",
    "  2.  Closely related, but not entirely identical, There's no explicit statement of what the code *depends on*, \n",
    "      that is, on what names have to be defined in order for the code to work.  This makes it hard to fit the \n",
    "      code into a large data pipeline (which is another thing you'll be doing).\n",
    "  3.  There isn't any explcit easy-to-read statement of what the code **does**.  In a very practical sense\n",
    "      it inputs a filename and outputs a set of capitalized words. Now those facts happen to be related to the           first and last lines of the code cell, so they're not hard to figure out, but in many cases the code flow\n",
    "      will be more complicated and it won't be so easy to read the purpose off the order in the cell.\n",
    "      \n",
    "The second issue would be more obvious if I had written the **Pride and Prejudice** code as in the next cell:"
   ]
  },
  {
   "cell_type": "code",
   "execution_count": null,
   "metadata": {},
   "outputs": [],
   "source": [
    "filename = 'emma.txt'\n",
    "cap_words = set() \n",
    "with open(filename, 'r') as filehandle:\n",
    "     ## Loop through each line and in each line loop\n",
    "     ## through each word\n",
    "     for line in filehandle:\n",
    "         line_list = line.split()\n",
    "         for word in line_list:\n",
    "             if word.istitle():\n",
    "                cap_words.add(word)\n",
    "print(cap_words)"
   ]
  },
  {
   "cell_type": "markdown",
   "metadata": {},
   "source": [
    "So this code needs the name `filename` to be defined.  Easy enough to see since I put it right at beginning of the cell, but  it could just as easily have been defined several cells earlier, if I'd needed that file for other purposes.  Then it woukd take some careful reading to see that the cell needs the name `filename` to be defined.  This is what I meant by problem 2 above. The dependency on that name is explicit, and needs to be dug out by doing work.  So both complaints fall under the broad heading of *code readability*.  But we can go a bit further.  Both complaints go to code **reusability**.  In order to cut and paste the code to use it on a third file, I have to have these kinds of issues settled.  Moreover, the reusability issues get worse as the context dependency of the code gets worse.  Suppose the above code depended both on a file name and a directory name, and that I generally (maybe not always) changed both at the same time.  That's not explicit either, and that kind of inexplicitness is responsible for many, many bugs when code is reused."
   ]
  },
  {
   "cell_type": "markdown",
   "metadata": {},
   "source": [
    "## Functions are the solution"
   ]
  },
  {
   "cell_type": "markdown",
   "metadata": {},
   "source": [
    "The solution is to encapsulate what you've done as a function definition.   This solves all three of our problems:"
   ]
  },
  {
   "cell_type": "code",
   "execution_count": 1,
   "metadata": {},
   "outputs": [
    {
     "name": "stdout",
     "output_type": "stream",
     "text": [
      "Hi\n",
      "there!\n"
     ]
    }
   ],
   "source": [
    "print(\"Hi\\nthere!\")"
   ]
  },
  {
   "cell_type": "code",
   "execution_count": null,
   "metadata": {},
   "outputs": [],
   "source": [
    "with open(filename, 'r') as filehandle:\n",
    "    words = filehandle.read().split()"
   ]
  },
  {
   "cell_type": "code",
   "execution_count": null,
   "metadata": {},
   "outputs": [],
   "source": [
    "import sys\n",
    "import re\n",
    "\n",
    "\n",
    "\n",
    "def find_cap_words(filename):\n",
    "    cap_words = set()\n",
    "    with open(filename, 'r') as filehandle:\n",
    "        ## Loop through each line and in each line loop\n",
    "        ## through each word\n",
    "        for line in filehandle:\n",
    "            line_list = line.split()\n",
    "            for word in line_list:\n",
    "                if word.istitle():\n",
    "                    cap_words.add(word)\n",
    "    return cap_words"
   ]
  },
  {
   "cell_type": "markdown",
   "metadata": {},
   "source": [
    "`filename` is our input, `cap_words` is our output (what is **returned**).  What's different from use to use is the exact value of `filename`.  What the code depends on is also the exact value of `filename`.  Moreover suppose we want there to be another optional dependency (a directory).  Now the code would look like this:"
   ]
  },
  {
   "cell_type": "code",
   "execution_count": null,
   "metadata": {},
   "outputs": [],
   "source": [
    "import os.path\n",
    "def find_cap_words(filename, dirname = None):\n",
    "    cap_words = set()\n",
    "    if dirname is not None:\n",
    "        filename = os.path.join(dirname, filename)\n",
    "    with open(filename, 'r') as filehandle:\n",
    "        ## Loop through each line and in each line loop\n",
    "        ## through each word\n",
    "        for line in filehandle:\n",
    "            line_list = line.split()\n",
    "            for word in line_list:\n",
    "                if word.istitle():\n",
    "                    cap_words.add(word)\n",
    "    return cap_words"
   ]
  },
  {
   "cell_type": "markdown",
   "metadata": {},
   "source": [
    "The `dirname` is made optional by putting `= None` after it.  That supplies a default value.  If we haven't been given a `dirname` then we set it to `None`.  As the code says, we only use `dirname` if `dirname is not None`. \n",
    "So here's an  example of **calling** (using) the function on one file."
   ]
  },
  {
   "cell_type": "code",
   "execution_count": 2,
   "metadata": {
    "scrolled": true
   },
   "outputs": [
    {
     "name": "stdout",
     "output_type": "stream",
     "text": [
      "1204 ['Darcy!', '\"Can', '[Last', 'Domain', 'Many', 'Hunsford,', 'Darcy,', 'Make', 'Darcy.', '\"Another', 'Hunsford.', '\"Mamma,\"', 'Lodge', 'Darcy;', 'Pride', 'Darcy?', 'Tuesday.', 'Tuesday,', '\"Neglect!', 'Importance', 'Bath;', 'Dr.', '\"Why,', '\"So', 'Tuesday;', 'Long.', 'Words', '_His_', 'Not', 'Believe', '\"Except,\"', 'Day', 'Nor', '\"None', 'Carter,', 'Recovering', '\"Nay,\"', 'Mrs.', 'Gouldings', \"'Lady\", 'Yet', 'Militia', '\"Some', '\"Information', 'Volunteers', 'Where', 'Netherfield?\"', 'Sarah,', '\"That', 'Charlotte', 'Harringtons', '1.F.3.', 'Pope', '1.F.3,', 'Mary,\"', 'Vain', 'Wickham;', 'Wickham!', 'Eastbourne', 'Does', 'Imprudent', 'Unless', 'Tuesday', 'Breakfast', '\"Certainly,\"', 'Wickham,', 'George', 'Author:', 'Take', 'There,', 'Jane!\"', '\"Indeed,', '\"Engaged', 'And,', 'Date:', '\"Bingley.\"', '\"Did', 'Long', 'Pleased', '\"Certainly,', 'Annesley', 'Only', '\"Nonsense,', \"'This\", 'Stupid', 'South.', 'Jane', 'Collins', 'General', 'Wilfully', 'Hertfordshire.\"', 'Kitty,\"', 'Collins.\"', 'Consoled', 'Brighton?\"', 'Then,', 'House!', '1.F.2.', 'Public', '1.C']\n"
     ]
    }
   ],
   "source": [
    "\n",
    "cap_words = find_cap_words('pride_and_prejudice.txt')\n",
    "print(len(cap_words), list(cap_words)[:100])"
   ]
  },
  {
   "cell_type": "markdown",
   "metadata": {},
   "source": [
    "And here we are using it on another file.  See?  Quite easy to see the differences."
   ]
  },
  {
   "cell_type": "code",
   "execution_count": null,
   "metadata": {},
   "outputs": [],
   "source": [
    "cap_words = find_cap_words('emma.txt')\n",
    "print(len(cap_words), list(cap_words)[:100])"
   ]
  },
  {
   "cell_type": "markdown",
   "metadata": {},
   "source": [
    "## Takeaways"
   ]
  },
  {
   "cell_type": "markdown",
   "metadata": {},
   "source": [
    "So here's the new plan, now that we know about functions.  Write the code once encapsulated as a function.\n",
    "Reuse it as many times as you like varying the **arguments** of the function  (the part that changes from use to use, the information the code explicitly depends on): in this case what changes is the `filename` value.  In one case it's `\"pride_and_prejudice.txt\"`.  In another it's `\"emma.txt\"`."
   ]
  },
  {
   "cell_type": "markdown",
   "metadata": {},
   "source": [
    "## Parameters and Return values (input/output)"
   ]
  },
  {
   "cell_type": "markdown",
   "metadata": {},
   "source": [
    "We tackle the problem of saving our results to a file, so that they can be retrieved later without going through the entire text they came from.  Here's the idea:"
   ]
  },
  {
   "cell_type": "code",
   "execution_count": 3,
   "metadata": {},
   "outputs": [],
   "source": [
    "filename = 'pride_and_prejudice.txt'\n",
    "new_filename = filename[:-4] + '_names.txt'\n",
    "\n",
    "with open(new_filename, 'w') as ofh:\n",
    "     for w in cap_words:\n",
    "         print(w, file=ofh)"
   ]
  },
  {
   "cell_type": "markdown",
   "metadata": {},
   "source": [
    "Look at this code carefully.  What names need to be predefined in order for the cell above to work?  It's trickier this time.  "
   ]
  },
  {
   "cell_type": "markdown",
   "metadata": {},
   "source": [
    "The correct answer to the question above leads to the following function definition. "
   ]
  },
  {
   "cell_type": "code",
   "execution_count": null,
   "metadata": {},
   "outputs": [],
   "source": [
    "def print_cap_words (filename, cap_words):\n",
    "    new_filename = filename[:-4] + '_names.txt'\n",
    "    with open(new_filename, 'w') as ofh:\n",
    "        for w in cap_words:\n",
    "            print(w, file=ofh)"
   ]
  },
  {
   "cell_type": "markdown",
   "metadata": {},
   "source": [
    "The names in parentheses after the function name are called the **parameters** or **arguments** of the function.  Notice that in this case both parameters are obligatory (No `= Value` after either parameter, so no default value supplied).  In the case of the `dirname` parameter in `find_cap_words`, there was a fairly natural answer as to what to do when `dirname` wasn't supplied.  Just look in the **current working directory** (Python always has one, though you may not know what it is) for `filename`.  But in the case of `cap_words` there's no natural default.  How are we to save the data if the data isn't supplied?  So `print_cap_words` has two obligatory parameters.  The decision as to whether a paramaeter is optional or obligatory is an important thing to think about when defining a function.\n",
    "\n",
    "Notice that this function definition has no `return` command anywhere in it.  A function returns something when it produces data that may need further processing.  Usually we set some name to that returned value. And then we do further processing on that returned data.  In the case of `print_cap_words`, there's no need for any thing to be returned: Data is passed in to be saved in a file.\n",
    "\n",
    "Here is a variant of `print_cap_words` that works equally well."
   ]
  },
  {
   "cell_type": "code",
   "execution_count": null,
   "metadata": {},
   "outputs": [],
   "source": [
    "def print_cap_words (filename,cap_words):\n",
    "    new_filename = filename[:-4] + '_names.txt'\n",
    "    with open(new_filename, 'w') as ofh:\n",
    "        print('\\n'.join(cap_words), file=ofh)"
   ]
  },
  {
   "cell_type": "markdown",
   "metadata": {},
   "source": [
    "So now we have the following natural sequence of commands whenever we get a new text to extract information from."
   ]
  },
  {
   "cell_type": "code",
   "execution_count": null,
   "metadata": {},
   "outputs": [],
   "source": [
    "filename = 'pride_and_prejudice.txt'\n",
    "cap_words = find_cap_words_re(filename)\n",
    "print_cap_words (filename,cap_words)"
   ]
  },
  {
   "cell_type": "markdown",
   "metadata": {},
   "source": [
    "This, like many of the pieces of code we will write in this course, is a **pipeline**.   We take in one piece of data, a filename, use it to extract some information, a set of capitalized words, and pass those on for further processing,  A simple pipeline has the following structure:\n",
    "\n",
    "```\n",
    "output_1 = Function_1(input)\n",
    "output_2 = Function_2(output_1, ... [other parameters])\n",
    "output_3 = Function_3(output_2, ... [other parameters])\n",
    "...\n",
    "Function_n(output_{n-1}, ... [other paramters])\n",
    "```\n",
    "\n",
    "We are assuming here that Funtion_n is a function that saves the data to a disk, so there is not output_n in the program.  In a simple variant, there is an output_n, because the pipeline is part of some larger program, which will do further processing on output_n.\n",
    "\n",
    "Our simple pipeline has only two functions.  It can very easily be written as one line of code."
   ]
  },
  {
   "cell_type": "code",
   "execution_count": null,
   "metadata": {},
   "outputs": [],
   "source": [
    "print_cap_words('pride_and_prejudice.txt', find_cap_words('pride_and_prejudice.txt'))"
   ]
  },
  {
   "cell_type": "markdown",
   "metadata": {},
   "source": [
    "\n",
    "Note that `'pride_and_prejudice.txt'` is used twice here.  We could make life even simpler for future readers of this code by \n",
    "\n",
    "This suggests one further step to capture the fact that the filename will always be used twice:"
   ]
  },
  {
   "cell_type": "code",
   "execution_count": null,
   "metadata": {},
   "outputs": [],
   "source": [
    "def get_and_save_cap_words (filename):\n",
    "    print_cap_words(filename, find_cap_words(filename))"
   ]
  },
  {
   "cell_type": "markdown",
   "metadata": {},
   "source": [
    "Notice that this function definition has no `return` command.  A function returns something when it produces data that may need further processing.  Usually we set some name to that returned value. And then we do further processing on that returned data.  In the case of `get_and_save_cap_words`, there's no need for any thing to be returned: Data is extracted from one file and saved in another."
   ]
  },
  {
   "cell_type": "markdown",
   "metadata": {},
   "source": [
    "## Appendix:  Regular expression-based approach"
   ]
  },
  {
   "cell_type": "markdown",
   "metadata": {},
   "source": [
    "Another good reason for encapsulating code in a function, is that it's easy to change all uses of the function in a large body of code, and experiment with a new method, as we will frequently do in this course.  For example here's an entirely new approach to the extract names problem:"
   ]
  },
  {
   "cell_type": "code",
   "execution_count": null,
   "metadata": {},
   "outputs": [],
   "source": [
    "import re\n",
    "cap_word_re = r'\\b([A-Z]\\w+)\\b'\n",
    "x = set(re.findall(cap_word_re, open(filename, 'r').read()))"
   ]
  },
  {
   "cell_type": "markdown",
   "metadata": {},
   "source": [
    "Here we use a pattern-matching Python module called `re` (for **regular expression**)  to try to extract all capitalized words that are at least two characters long.  The pattern is the string that's given the name `cap_word_re`, which is then used as the first argument of `re.findall`.  The part in the first pair of square breackets of the pattern says the first character must be a capitalized letter (`A-Z`) and then there must be one or more following characters of the sort that can occur in words (`\\w+`).  All of this must begin and end with a word boundary (`\\b`). \n",
    "\n",
    "Applying this pattern to a simple string we get:"
   ]
  },
  {
   "cell_type": "code",
   "execution_count": 26,
   "metadata": {},
   "outputs": [
    {
     "data": {
      "text/plain": [
       "['F3', 'Beethoven']"
      ]
     },
     "execution_count": 26,
     "metadata": {},
     "output_type": "execute_result"
    }
   ],
   "source": [
    "re.findall(cap_word_re,'F3 I 22 love Beethoven')"
   ]
  },
  {
   "cell_type": "markdown",
   "metadata": {},
   "source": [
    "Notice that this excludes `I`, which our previous attempt didn't.  There are more powerful things one can say with regular expressions, and when we learn more about regular expressions, we'll return to this problem and come up with a still more satisfactory solution."
   ]
  },
  {
   "cell_type": "markdown",
   "metadata": {},
   "source": [
    "Here we use a pattern-matching Python module called `re` (for **regular expression**)  to try to extract all capitalized words that are at least two characters long.  The pattern is the string that's the first argument of `re.findall`.  The part in the first pair of square breackets of the pattern says the first character must be a capitalized letter (`A-Z`) and then there must be one or more following characters of the sort that can occur in words (`\\w+`).  All of this must begin and end with a word boundary (`\\b`).  Notice that this excludes `I`, which our previous attempt didn't.  There are more powerful things one can say with regular expressions, and when we learn more about regular expressions, we'll return to this problem and come up with a still more satisfactory solution.\n",
    "\n",
    "For now, our goal is to show how we'd redefine `find_cap_words` to use a regular expression approach."
   ]
  },
  {
   "cell_type": "code",
   "execution_count": null,
   "metadata": {},
   "outputs": [],
   "source": [
    "def find_cap_words (filename):\n",
    "    cap_word_re = r'\\b([A-Z]\\w+)\\b'\n",
    "    return set(re.findall(cap_word_re, open(filename, 'r').read()))"
   ]
  },
  {
   "cell_type": "markdown",
   "metadata": {},
   "source": [
    "To try this out we'd just re-execute any of the cells above that call `find_cap_words`.  For example."
   ]
  },
  {
   "cell_type": "code",
   "execution_count": 4,
   "metadata": {
    "scrolled": true
   },
   "outputs": [
    {
     "name": "stdout",
     "output_type": "stream",
     "text": [
      "595 ['Many', 'Title', 'Dining', 'Does', 'Take', 'Lodge', 'Pride', 'Painful', 'Foundation', 'Liverpool', 'Importance', 'Words', 'Not', 'Now', 'Day', 'Nor', 'Scarcely', 'Recovering', 'Volunteers', 'Where', 'Haye', 'Charlotte', 'Harringtons', 'Pope', 'Just', 'Vain', 'Eastbourne', 'Go', 'Breakfast', 'Must', 'George', 'None', 'Long', 'Pleased', 'Annesley', 'Only', 'Jane', 'Collins', 'Wilfully', 'Consoled', 'Theatre', 'Hear', 'Imagine', 'Put', 'During', 'True', 'Professor', 'Proud', 'Contact', 'Green', 'Mr', 'My', 'Tuesday', 'Teasing', 'Hatfield', 'Archive', 'Dear', 'Militia', 'Assistance', 'Lizzy', 'Compared', 'Things', 'Clarke', 'When', 'Three', 'Pemberley', 'August', 'June', 'Something', 'Royalty', 'Allowing', 'Michaelmas', 'Removed', 'Undoubtedly', 'Clement', 'Those', 'Brighton', 'Chatsworth', 'Lane', 'October', 'Reflection', 'These', 'Plain', 'Mount', 'Wednesday', 'St', 'Already', 'So', 'Madam', 'Unhappy', 'Believe', 'Family', 'Bennets', 'Bath', 'Birmingham', 'Our', 'Your', 'Conjectures', 'La', 'Mississippi']\n"
     ]
    },
    {
     "data": {
      "text/plain": [
       "True"
      ]
     },
     "execution_count": 4,
     "metadata": {},
     "output_type": "execute_result"
    }
   ],
   "source": [
    "filename = 'pride_and_prejudice.txt'\n",
    "cap_words = find_cap_words(filename)\n",
    "print(len(cap_words), list(cap_words)[:100])\n",
    "'Darcy' in cap_words"
   ]
  },
  {
   "cell_type": "code",
   "execution_count": null,
   "metadata": {},
   "outputs": [],
   "source": []
  },
  {
   "cell_type": "code",
   "execution_count": null,
   "metadata": {},
   "outputs": [],
   "source": []
  }
 ],
 "metadata": {
  "kernelspec": {
   "display_name": "Python 3 (ipykernel)",
   "language": "python",
   "name": "python3"
  },
  "language_info": {
   "codemirror_mode": {
    "name": "ipython",
    "version": 3
   },
   "file_extension": ".py",
   "mimetype": "text/x-python",
   "name": "python",
   "nbconvert_exporter": "python",
   "pygments_lexer": "ipython3",
   "version": "3.10.6"
  },
  "toc": {
   "base_numbering": 1,
   "nav_menu": {
    "height": "30px",
    "width": "252px"
   },
   "number_sections": true,
   "sideBar": true,
   "skip_h1_title": false,
   "title_cell": "Table of Contents",
   "title_sidebar": "Contents",
   "toc_cell": false,
   "toc_position": {},
   "toc_section_display": "block",
   "toc_window_display": false
  }
 },
 "nbformat": 4,
 "nbformat_minor": 1
}
