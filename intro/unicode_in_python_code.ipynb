{
 "cells": [
  {
   "cell_type": "markdown",
   "id": "57429e9e",
   "metadata": {},
   "source": [
    "## Unicode strings and writing Python code in unicode"
   ]
  },
  {
   "cell_type": "markdown",
   "id": "3da1d97a",
   "metadata": {},
   "source": [
    "This notebook is about writing unicode in Python.\n",
    "\n",
    "First, you can enter unicode directly in Jupyter Notebook.  The α in the next cell was entered by\n",
    "typing \\alpha and then hitting the Tab-key.  Try it yourself inj\\] the following code cell (nite it must be a code\n",
    "cell)."
   ]
  },
  {
   "cell_type": "code",
   "execution_count": null,
   "id": "96c26d8d",
   "metadata": {},
   "outputs": [],
   "source": [
    "α"
   ]
  },
  {
   "cell_type": "code",
   "execution_count": null,
   "id": "9bab9cfa",
   "metadata": {},
   "outputs": [],
   "source": []
  },
  {
   "cell_type": "markdown",
   "id": "44b3b9b5",
   "metadata": {},
   "source": [
    "The name in the following code cell was entered by typing \\CYRILLIC and then hitting TAB and selecting from a menu, then hitting TAB again."
   ]
  },
  {
   "cell_type": "code",
   "execution_count": 26,
   "id": "3cbc242c",
   "metadata": {},
   "outputs": [],
   "source": [
    "П = 55"
   ]
  },
  {
   "cell_type": "markdown",
   "id": "e13917df",
   "metadata": {},
   "source": [
    "There is a restriction. Only characters that are legal parts of Python names can be entered using the \\character_name TAB convention.  So for example keyboard entry for \\NABLA, a perfectly fine unicode character\n",
    "found among the math symbols, does not work.  Nor do emojis. The rule is: \"Python 3 restricts variable names to unicode characters that represent characters in written languages\" ([ref](https://python-3-for-scientists.readthedocs.io/en/latest/python3_features.html))"
   ]
  },
  {
   "cell_type": "markdown",
   "id": "ed8a42da",
   "metadata": {},
   "source": [
    "This is nice, but the main point of this notebook is to illustrate that Python code files can now be written in the extended character set of unicode. That means not just that unicode strings are fine, but that names that use unicode characters are fine.  Consider a Python file `unicode_code.py` that contains the following:\n",
    "\n",
    "```\n",
    "alphabet = 'αβγδεζηθικλμνξοπρςστυφχψ'\n",
    "φ = 3\n",
    "\n",
    "def αβ (γ):\n",
    "    return γ[::2]\n",
    "```\n",
    "\n"
   ]
  },
  {
   "cell_type": "code",
   "execution_count": 1,
   "id": "33bbd358",
   "metadata": {},
   "outputs": [],
   "source": [
    "import unicode_code"
   ]
  },
  {
   "cell_type": "markdown",
   "id": "7a4441a0",
   "metadata": {},
   "source": [
    "First we have imported a unicode string,  Let's verify that it's intact:"
   ]
  },
  {
   "cell_type": "code",
   "execution_count": 2,
   "id": "d9869b0e",
   "metadata": {},
   "outputs": [
    {
     "data": {
      "text/plain": [
       "'αβγδεζηθικλμνξοπρςστυφχψ'"
      ]
     },
     "execution_count": 2,
     "metadata": {},
     "output_type": "execute_result"
    }
   ],
   "source": [
    "unicode_code.alphabet"
   ]
  },
  {
   "cell_type": "markdown",
   "id": "9512eee9",
   "metadata": {},
   "source": [
    "It is a Python string of exactly the right length.  There are 24 characters in the Greek alphabet."
   ]
  },
  {
   "cell_type": "code",
   "execution_count": 5,
   "id": "09fde9f0",
   "metadata": {},
   "outputs": [
    {
     "data": {
      "text/plain": [
       "24"
      ]
     },
     "execution_count": 5,
     "metadata": {},
     "output_type": "execute_result"
    }
   ],
   "source": [
    "len(unicode_code.alphabet)"
   ]
  },
  {
   "cell_type": "markdown",
   "id": "b78e7cb4",
   "metadata": {},
   "source": [
    "String operations work as expacted.  Peeling off and reversing the last 11 characters."
   ]
  },
  {
   "cell_type": "code",
   "execution_count": 18,
   "id": "8bee6e2d",
   "metadata": {},
   "outputs": [
    {
     "data": {
      "text/plain": [
       "'ψχφυτσςρποξ'"
      ]
     },
     "execution_count": 18,
     "metadata": {},
     "output_type": "execute_result"
    }
   ],
   "source": [
    "unicode_code.alphabet[23:12:-1]"
   ]
  },
  {
   "cell_type": "code",
   "execution_count": 19,
   "id": "c0e76dad",
   "metadata": {},
   "outputs": [],
   "source": [
    "last_greek = unicode_code.alphabet[23:12:-1]"
   ]
  },
  {
   "cell_type": "code",
   "execution_count": 20,
   "id": "8f2e08cf",
   "metadata": {},
   "outputs": [
    {
     "data": {
      "text/plain": [
       "11"
      ]
     },
     "execution_count": 20,
     "metadata": {},
     "output_type": "execute_result"
    }
   ],
   "source": [
    "len(last_greek)"
   ]
  },
  {
   "cell_type": "markdown",
   "id": "2ca6e2b3",
   "metadata": {},
   "source": [
    "Check out using the name `φ`:"
   ]
  },
  {
   "cell_type": "code",
   "execution_count": 3,
   "id": "836d175d",
   "metadata": {},
   "outputs": [
    {
     "data": {
      "text/plain": [
       "3"
      ]
     },
     "execution_count": 3,
     "metadata": {},
     "output_type": "execute_result"
    }
   ],
   "source": [
    "unicode_code.φ"
   ]
  },
  {
   "cell_type": "markdown",
   "id": "f161f425",
   "metadata": {},
   "source": [
    "Check out calling the function `αβ`:"
   ]
  },
  {
   "cell_type": "code",
   "execution_count": 4,
   "id": "fbf8e78b",
   "metadata": {},
   "outputs": [
    {
     "data": {
      "text/plain": [
       "'zxvt'"
      ]
     },
     "execution_count": 4,
     "metadata": {},
     "output_type": "execute_result"
    }
   ],
   "source": [
    "unicode_code.αβ('zyxwvut')"
   ]
  },
  {
   "cell_type": "markdown",
   "id": "6bde8b06",
   "metadata": {},
   "source": [
    "Calling it on a unicode string."
   ]
  },
  {
   "cell_type": "code",
   "execution_count": 11,
   "id": "73566914",
   "metadata": {},
   "outputs": [
    {
     "data": {
      "text/plain": [
       "'ψφτςπξ'"
      ]
     },
     "execution_count": 11,
     "metadata": {},
     "output_type": "execute_result"
    }
   ],
   "source": [
    "unicode_code.αβ(last_greek)"
   ]
  },
  {
   "cell_type": "markdown",
   "id": "3c6e291e",
   "metadata": {},
   "source": [
    "Prepping for the grand finale:"
   ]
  },
  {
   "cell_type": "code",
   "execution_count": 22,
   "id": "e0cb5058",
   "metadata": {},
   "outputs": [],
   "source": [
    "from unicode_code import αβ"
   ]
  },
  {
   "cell_type": "markdown",
   "id": "2fb48e5a",
   "metadata": {},
   "source": [
    "And the next cell is all Greek to me:"
   ]
  },
  {
   "cell_type": "code",
   "execution_count": 23,
   "id": "e7a5f8a8",
   "metadata": {},
   "outputs": [
    {
     "data": {
      "text/plain": [
       "'ψφτςπξ'"
      ]
     },
     "execution_count": 23,
     "metadata": {},
     "output_type": "execute_result"
    }
   ],
   "source": [
    "αβ('ψχφυτσςρποξ')"
   ]
  },
  {
   "cell_type": "code",
   "execution_count": null,
   "id": "1eb39c90",
   "metadata": {},
   "outputs": [],
   "source": []
  }
 ],
 "metadata": {
  "kernelspec": {
   "display_name": "Python 3 (ipykernel)",
   "language": "python",
   "name": "python3"
  },
  "language_info": {
   "codemirror_mode": {
    "name": "ipython",
    "version": 3
   },
   "file_extension": ".py",
   "mimetype": "text/x-python",
   "name": "python",
   "nbconvert_exporter": "python",
   "pygments_lexer": "ipython3",
   "version": "3.10.6"
  }
 },
 "nbformat": 4,
 "nbformat_minor": 5
}
