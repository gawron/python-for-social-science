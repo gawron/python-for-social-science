{
 "cells": [
  {
   "cell_type": "markdown",
   "id": "57429e9e",
   "metadata": {},
   "source": [
    "## Unicode strings and writing Python code in unicode"
   ]
  },
  {
   "cell_type": "markdown",
   "id": "3da1d97a",
   "metadata": {},
   "source": [
    "This notebook is about writing unicode in Python.  The main point is that not everything that can be\n",
    "part of unicode string can occur freely in your code.\n",
    "\n",
    "First, you can enter unicode characters directly in Jupyter Notebook.  The α in the next cell was entered by\n",
    "typing \\alpha and then hitting the Tab-key.  Try it yourself in the following code cell (note it must be a code\n",
    "cell).  Note, this won't work in Google Colab, and as far as I know, you can't enter unicode characters\n",
    "into a Colab notebook with your keyboard.  But you should be able to paste unicode characters into your notebook from your clipboard, and the principles discussed below about what can occur in a Python code file are the same."
   ]
  },
  {
   "cell_type": "code",
   "execution_count": null,
   "id": "96c26d8d",
   "metadata": {},
   "outputs": [],
   "source": [
    "α"
   ]
  },
  {
   "cell_type": "code",
   "execution_count": null,
   "id": "9bab9cfa",
   "metadata": {},
   "outputs": [],
   "source": []
  },
  {
   "cell_type": "markdown",
   "id": "44b3b9b5",
   "metadata": {},
   "source": [
    "The name in the following code cell was entered by typing \\CYRILLIC and then hitting TAB and selecting from a menu, then hitting TAB again."
   ]
  },
  {
   "cell_type": "code",
   "execution_count": 26,
   "id": "3cbc242c",
   "metadata": {},
   "outputs": [],
   "source": [
    "П = 55"
   ]
  },
  {
   "cell_type": "markdown",
   "id": "e13917df",
   "metadata": {},
   "source": [
    "There is a restriction. Only characters that are legal parts of Python names can be entered using the \\character_name TAB convention.  So for example keyboard entry for \\NABLA, a perfectly fine unicode character\n",
    "found among the math symbols, does not work.  Nor do emojis. The rule about what can be entered by keyboard seems to be the same as the rule about what can be part of Python name.  And that rule is: \"Python 3 restricts variable names to unicode characters that represent characters in written languages\" ([ref](https://python-3-for-scientists.readthedocs.io/en/latest/python3_features.html))"
   ]
  },
  {
   "cell_type": "markdown",
   "id": "ed8a42da",
   "metadata": {},
   "source": [
    "But this still leaves a pretty wide range of possible names.\n",
    "\n",
    "Let's illustrate what this means by looking at some Python code that uses some characters not found in ASCII. \n",
    "We emphasize:  It's not just that unicode **strings** are fine, but also that names that use the right kind of unicode characters are fine.  Consider a Python file `unicode_code.py` that contains the following:\n",
    "\n",
    "```\n",
    "alphabet = 'αβγδεζηθικλμνξοπρςστυφχψ'\n",
    "φ = 3\n",
    "\n",
    "def αβ (γ):\n",
    "    # Return every other character in string\n",
    "    return γ[::2]\n",
    "```\n",
    "\n",
    "We see three names that aren't ASCII: φ, a variable name; αβ, a function name; and\n",
    "γ, a function parameter.\n"
   ]
  },
  {
   "cell_type": "code",
   "execution_count": 5,
   "id": "33bbd358",
   "metadata": {},
   "outputs": [],
   "source": [
    "# Note this won't work unless you have a file named `unicode_code.py` with the contents above\n",
    "# in a directory where python knows to look for imports (for example, the directory your jupyter notebook\n",
    "# is running in)\n",
    "import unicode_code"
   ]
  },
  {
   "cell_type": "markdown",
   "id": "7a4441a0",
   "metadata": {},
   "source": [
    "First we have imported a unicode string,  Let's verify that it's intact:"
   ]
  },
  {
   "cell_type": "code",
   "execution_count": 2,
   "id": "d9869b0e",
   "metadata": {},
   "outputs": [
    {
     "data": {
      "text/plain": [
       "'αβγδεζηθικλμνξοπρςστυφχψ'"
      ]
     },
     "execution_count": 2,
     "metadata": {},
     "output_type": "execute_result"
    }
   ],
   "source": [
    "unicode_code.alphabet"
   ]
  },
  {
   "cell_type": "markdown",
   "id": "9512eee9",
   "metadata": {},
   "source": [
    "It is a Python string of exactly the right length.  There are 24 characters in the Greek alphabet."
   ]
  },
  {
   "cell_type": "code",
   "execution_count": 5,
   "id": "09fde9f0",
   "metadata": {},
   "outputs": [
    {
     "data": {
      "text/plain": [
       "24"
      ]
     },
     "execution_count": 5,
     "metadata": {},
     "output_type": "execute_result"
    }
   ],
   "source": [
    "len(unicode_code.alphabet)"
   ]
  },
  {
   "cell_type": "markdown",
   "id": "b78e7cb4",
   "metadata": {},
   "source": [
    "String operations work as expacted.  Peeling off and reversing the last 11 characters."
   ]
  },
  {
   "cell_type": "code",
   "execution_count": 18,
   "id": "8bee6e2d",
   "metadata": {},
   "outputs": [
    {
     "data": {
      "text/plain": [
       "'ψχφυτσςρποξ'"
      ]
     },
     "execution_count": 18,
     "metadata": {},
     "output_type": "execute_result"
    }
   ],
   "source": [
    "unicode_code.alphabet[23:12:-1]"
   ]
  },
  {
   "cell_type": "code",
   "execution_count": 6,
   "id": "c0e76dad",
   "metadata": {},
   "outputs": [
    {
     "data": {
      "text/plain": [
       "'ψχφυτσςρποξ'"
      ]
     },
     "execution_count": 6,
     "metadata": {},
     "output_type": "execute_result"
    }
   ],
   "source": [
    "last_greek = unicode_code.alphabet[23:12:-1]\n",
    "last_greek"
   ]
  },
  {
   "cell_type": "code",
   "execution_count": 7,
   "id": "8f2e08cf",
   "metadata": {},
   "outputs": [
    {
     "data": {
      "text/plain": [
       "11"
      ]
     },
     "execution_count": 7,
     "metadata": {},
     "output_type": "execute_result"
    }
   ],
   "source": [
    "len(last_greek)"
   ]
  },
  {
   "cell_type": "markdown",
   "id": "2ca6e2b3",
   "metadata": {},
   "source": [
    "Check out using the name `φ` (entered as above using  \\phiTAB)"
   ]
  },
  {
   "cell_type": "code",
   "execution_count": 3,
   "id": "836d175d",
   "metadata": {},
   "outputs": [
    {
     "data": {
      "text/plain": [
       "3"
      ]
     },
     "execution_count": 3,
     "metadata": {},
     "output_type": "execute_result"
    }
   ],
   "source": [
    "unicode_code.φ"
   ]
  },
  {
   "cell_type": "markdown",
   "id": "f161f425",
   "metadata": {},
   "source": [
    "Check out calling the function `αβ`:"
   ]
  },
  {
   "cell_type": "code",
   "execution_count": 8,
   "id": "fbf8e78b",
   "metadata": {},
   "outputs": [
    {
     "data": {
      "text/plain": [
       "'zxvt'"
      ]
     },
     "execution_count": 8,
     "metadata": {},
     "output_type": "execute_result"
    }
   ],
   "source": [
    "unicode_code.αβ('zyxwvut')"
   ]
  },
  {
   "cell_type": "markdown",
   "id": "6bde8b06",
   "metadata": {},
   "source": [
    "Calling it on a unicode string."
   ]
  },
  {
   "cell_type": "code",
   "execution_count": 9,
   "id": "73566914",
   "metadata": {},
   "outputs": [
    {
     "data": {
      "text/plain": [
       "'ψφτςπξ'"
      ]
     },
     "execution_count": 9,
     "metadata": {},
     "output_type": "execute_result"
    }
   ],
   "source": [
    "unicode_code.αβ(last_greek)"
   ]
  },
  {
   "cell_type": "markdown",
   "id": "3c6e291e",
   "metadata": {},
   "source": [
    "Prepping for the grand finale:"
   ]
  },
  {
   "cell_type": "code",
   "execution_count": 10,
   "id": "e0cb5058",
   "metadata": {},
   "outputs": [],
   "source": [
    "from unicode_code import αβ"
   ]
  },
  {
   "cell_type": "markdown",
   "id": "2fb48e5a",
   "metadata": {},
   "source": [
    "And the next cell is all Greek to me:"
   ]
  },
  {
   "cell_type": "code",
   "execution_count": 11,
   "id": "e7a5f8a8",
   "metadata": {},
   "outputs": [
    {
     "data": {
      "text/plain": [
       "'ψφτςπξ'"
      ]
     },
     "execution_count": 11,
     "metadata": {},
     "output_type": "execute_result"
    }
   ],
   "source": [
    "αβ('ψχφυτσςρποξ')"
   ]
  },
  {
   "cell_type": "markdown",
   "id": "ffab2418",
   "metadata": {},
   "source": [
    "#### Characters from the extended unicode set"
   ]
  },
  {
   "cell_type": "markdown",
   "id": "501ea59f",
   "metadata": {},
   "source": [
    "Now the restriction on names doesn't apply to strings.\n",
    "Any characters in the vast unicode character set can be part of a string in Python 3.X.\n",
    "\n",
    "For example, having looked up the unicode code points in a unicode chart,\n",
    "let's run through some strings containing characters in the unicode card deck,\n",
    "using `chr`, a function that produces a unicode character (a string of length one) from\n",
    "a unicode code point."
   ]
  },
  {
   "cell_type": "code",
   "execution_count": 1,
   "id": "1eb39c90",
   "metadata": {},
   "outputs": [
    {
     "name": "stdout",
     "output_type": "stream",
     "text": [
      "🂡  🂢  🂣  🂤  🂥  🂦  🂧  🂨  🂩  🂪  🂫  🂭  🂮  \n",
      "🂱  🂲  🂳  🂴  🂵  🂶  🂷  🂸  🂹  🂺  🂻  🂽  🂾  \n",
      "🃁  🃂  🃃  🃄  🃅  🃆  🃇  🃈  🃉  🃊  🃋  🃍  🃎  \n",
      "🃑  🃒  🃓  🃔  🃕  🃖  🃗  🃘  🃙  🃚  🃛  🃝  🃞  \n",
      "\n"
     ]
    }
   ],
   "source": [
    "# Printing the Unicode card deck\n",
    "\n",
    "\n",
    "suit = 0x1f0a0,0x1f0b0,0x1f0c0,0x1f0d0\n",
    "rank = 1,2,3,4,5,6,7,8,9,10,11,13,14\n",
    "for s in suit:\n",
    "     for r in rank:\n",
    "        print(chr(s+r),end='  ')\n",
    "     print()\n",
    "print()"
   ]
  },
  {
   "cell_type": "markdown",
   "id": "302ef6f7",
   "metadata": {},
   "source": [
    "However, as mentioned above, we can't use characters that don't come from the writing system\n",
    "of a language for variable names.  For example, let's try a playing card cut and pasted from the output above:"
   ]
  },
  {
   "cell_type": "code",
   "execution_count": 2,
   "id": "2fc1d991",
   "metadata": {},
   "outputs": [
    {
     "ename": "SyntaxError",
     "evalue": "invalid character '🂤' (U+1F0A4) (1070479639.py, line 1)",
     "output_type": "error",
     "traceback": [
      "\u001b[0;36m  Cell \u001b[0;32mIn[2], line 1\u001b[0;36m\u001b[0m\n\u001b[0;31m    🂤 = 3\u001b[0m\n\u001b[0m    ^\u001b[0m\n\u001b[0;31mSyntaxError\u001b[0m\u001b[0;31m:\u001b[0m invalid character '🂤' (U+1F0A4)\n"
     ]
    }
   ],
   "source": [
    "🂤 = 3"
   ]
  },
  {
   "cell_type": "code",
   "execution_count": null,
   "id": "ca80f3d0",
   "metadata": {},
   "outputs": [],
   "source": []
  }
 ],
 "metadata": {
  "kernelspec": {
   "display_name": "Python 3 (ipykernel)",
   "language": "python",
   "name": "python3"
  },
  "language_info": {
   "codemirror_mode": {
    "name": "ipython",
    "version": 3
   },
   "file_extension": ".py",
   "mimetype": "text/x-python",
   "name": "python",
   "nbconvert_exporter": "python",
   "pygments_lexer": "ipython3",
   "version": "3.10.6"
  }
 },
 "nbformat": 4,
 "nbformat_minor": 5
}
