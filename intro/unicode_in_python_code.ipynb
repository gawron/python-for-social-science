{
 "cells": [
  {
   "cell_type": "markdown",
   "id": "9b397dd2",
   "metadata": {},
   "source": [
    "## Unicode strings and writing Python code in unicode"
   ]
  },
  {
   "cell_type": "markdown",
   "id": "300f093f",
   "metadata": {},
   "source": [
    "This notebook is about writing unicode in Python.\n",
    "\n",
    "First, you can enter unicode directly in Jupyter Notebook.  The α in the next cell was entered by\n",
    "typing \\alpha and then hitting the Tab-key.  Try it yourself inj\\] the following code cell (nite it must be a code\n",
    "cell)."
   ]
  },
  {
   "cell_type": "code",
   "execution_count": null,
   "id": "cef631e5",
   "metadata": {},
   "outputs": [],
   "source": [
    "α"
   ]
  },
  {
   "cell_type": "code",
   "execution_count": null,
   "id": "fce62465",
   "metadata": {},
   "outputs": [],
   "source": []
  },
  {
   "cell_type": "markdown",
   "id": "48264cea",
   "metadata": {},
   "source": [
    "The name in the following code cell was entered by typing \\CYRILLIC and then hitting TAB and selecting from a menu, then hitting TAB again."
   ]
  },
  {
   "cell_type": "code",
   "execution_count": 26,
   "id": "027bf84a",
   "metadata": {},
   "outputs": [],
   "source": [
    "П = 55"
   ]
  },
  {
   "cell_type": "markdown",
   "id": "c8e1409d",
   "metadata": {},
   "source": [
    "There is a restriction. Only characters that are legal parts of Python names can be entered using the \\character_name TAB convention.  So for example keyboard entry for \\NABLA, a perfectly fine unicode character\n",
    "found among the math symbols, does not work.  Nor do emojis. The rule is: \"Python 3 restricts variable names to unicode characters that represent characters in written languages\" ([ref](https://python-3-for-scientists.readthedocs.io/en/latest/python3_features.html))"
   ]
  },
  {
   "cell_type": "markdown",
   "id": "2ea48a18",
   "metadata": {},
   "source": [
    "This is nice, but the main point of this notebook is to illustrate that Python code files can now be written in the extended character set of unicode. That means not just that unicode strings are fine, but that names that use unicode characters are fine.  Consider a Python file `unicode_code.py` that contains the following:\n",
    "\n",
    "```\n",
    "alphabet = 'αβγδεζηθικλμνξοπρςστυφχψ'\n",
    "φ = 3\n",
    "\n",
    "def αβ (γ):\n",
    "    return γ[::2]\n",
    "```\n",
    "\n"
   ]
  },
  {
   "cell_type": "code",
   "execution_count": 1,
   "id": "a00ab799",
   "metadata": {},
   "outputs": [],
   "source": [
    "import unicode_code"
   ]
  },
  {
   "cell_type": "markdown",
   "id": "fbc8b630",
   "metadata": {},
   "source": [
    "First we have imported a unicode string,  Let's verify that it's intact:"
   ]
  },
  {
   "cell_type": "code",
   "execution_count": 2,
   "id": "36852ad7",
   "metadata": {},
   "outputs": [
    {
     "data": {
      "text/plain": [
       "'αβγδεζηθικλμνξοπρςστυφχψ'"
      ]
     },
     "execution_count": 2,
     "metadata": {},
     "output_type": "execute_result"
    }
   ],
   "source": [
    "unicode_code.alphabet"
   ]
  },
  {
   "cell_type": "markdown",
   "id": "50928317",
   "metadata": {},
   "source": [
    "It is a Python string of exactly the right length.  There are 24 characters in the Greek alphabet."
   ]
  },
  {
   "cell_type": "code",
   "execution_count": 5,
   "id": "37b753d8",
   "metadata": {},
   "outputs": [
    {
     "data": {
      "text/plain": [
       "24"
      ]
     },
     "execution_count": 5,
     "metadata": {},
     "output_type": "execute_result"
    }
   ],
   "source": [
    "len(unicode_code.alphabet)"
   ]
  },
  {
   "cell_type": "markdown",
   "id": "68cfa9cb",
   "metadata": {},
   "source": [
    "String operations work as expacted.  Peeling off and reversing the last 11 characters."
   ]
  },
  {
   "cell_type": "code",
   "execution_count": 18,
   "id": "69fe866f",
   "metadata": {},
   "outputs": [
    {
     "data": {
      "text/plain": [
       "'ψχφυτσςρποξ'"
      ]
     },
     "execution_count": 18,
     "metadata": {},
     "output_type": "execute_result"
    }
   ],
   "source": [
    "unicode_code.alphabet[23:12:-1]"
   ]
  },
  {
   "cell_type": "code",
   "execution_count": 19,
   "id": "6e64bbc1",
   "metadata": {},
   "outputs": [],
   "source": [
    "last_greek = unicode_code.alphabet[23:12:-1]"
   ]
  },
  {
   "cell_type": "code",
   "execution_count": 20,
   "id": "9d5decaf",
   "metadata": {},
   "outputs": [
    {
     "data": {
      "text/plain": [
       "11"
      ]
     },
     "execution_count": 20,
     "metadata": {},
     "output_type": "execute_result"
    }
   ],
   "source": [
    "len(last_greek)"
   ]
  },
  {
   "cell_type": "markdown",
   "id": "2baa3c2b",
   "metadata": {},
   "source": [
    "Check out using the name `φ`:"
   ]
  },
  {
   "cell_type": "code",
   "execution_count": 3,
   "id": "92651201",
   "metadata": {},
   "outputs": [
    {
     "data": {
      "text/plain": [
       "3"
      ]
     },
     "execution_count": 3,
     "metadata": {},
     "output_type": "execute_result"
    }
   ],
   "source": [
    "unicode_code.φ"
   ]
  },
  {
   "cell_type": "markdown",
   "id": "84addb3f",
   "metadata": {},
   "source": [
    "Check out calling the function `αβ`:"
   ]
  },
  {
   "cell_type": "code",
   "execution_count": 4,
   "id": "a64963c0",
   "metadata": {},
   "outputs": [
    {
     "data": {
      "text/plain": [
       "'zxvt'"
      ]
     },
     "execution_count": 4,
     "metadata": {},
     "output_type": "execute_result"
    }
   ],
   "source": [
    "unicode_code.αβ('zyxwvut')"
   ]
  },
  {
   "cell_type": "markdown",
   "id": "2f191f64",
   "metadata": {},
   "source": [
    "Calling it on a unicode string."
   ]
  },
  {
   "cell_type": "code",
   "execution_count": 11,
   "id": "66a2fa4c",
   "metadata": {},
   "outputs": [
    {
     "data": {
      "text/plain": [
       "'ψφτςπξ'"
      ]
     },
     "execution_count": 11,
     "metadata": {},
     "output_type": "execute_result"
    }
   ],
   "source": [
    "unicode_code.αβ(last_greek)"
   ]
  },
  {
   "cell_type": "markdown",
   "id": "4555b367",
   "metadata": {},
   "source": [
    "Prepping for the grand finale:"
   ]
  },
  {
   "cell_type": "code",
   "execution_count": 22,
   "id": "733eb198",
   "metadata": {},
   "outputs": [],
   "source": [
    "from unicode_code import αβ"
   ]
  },
  {
   "cell_type": "markdown",
   "id": "26560317",
   "metadata": {},
   "source": [
    "And the next cell is all Greek to me:"
   ]
  },
  {
   "cell_type": "code",
   "execution_count": 23,
   "id": "bd1d8069",
   "metadata": {},
   "outputs": [
    {
     "data": {
      "text/plain": [
       "'ψφτςπξ'"
      ]
     },
     "execution_count": 23,
     "metadata": {},
     "output_type": "execute_result"
    }
   ],
   "source": [
    "αβ('ψχφυτσςρποξ')"
   ]
  },
  {
   "cell_type": "code",
   "execution_count": null,
   "id": "df650401",
   "metadata": {},
   "outputs": [],
   "source": []
  }
 ],
 "metadata": {
  "kernelspec": {
   "display_name": "Python 3 (ipykernel)",
   "language": "python",
   "name": "python3"
  },
  "language_info": {
   "codemirror_mode": {
    "name": "ipython",
    "version": 3
   },
   "file_extension": ".py",
   "mimetype": "text/x-python",
   "name": "python",
   "nbconvert_exporter": "python",
   "pygments_lexer": "ipython3",
   "version": "3.10.6"
  }
 },
 "nbformat": 4,
 "nbformat_minor": 5
}
