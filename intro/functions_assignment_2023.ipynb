{
 "cells": [
  {
   "cell_type": "markdown",
   "metadata": {},
   "source": [
    "# Functions, types, loops assignment"
   ]
  },
  {
   "cell_type": "markdown",
   "metadata": {},
   "source": [
    "## Exercise 1"
   ]
  },
  {
   "cell_type": "markdown",
   "metadata": {},
   "source": [
    "Add a line of code that will generate the give output::\n",
    " \n",
    "     In [ ]: a_list = [2,7,8, 19]\n",
    "             YOUR CODE HERE\n",
    "     Out [ ]: 2\n",
    "     \n",
    "NOTE: The idea of this kind of exercise is to write a line of code\n",
    "that will produce the given output, 2 in this case.  Your\n",
    "answer goes in the next cell, which is a code cell.  It should this be an\n",
    "expression that operates on `a_list`.  A simple correct answer is:\n",
    "\n",
    "     In [ ]: a_list = [2,7,8, 19]\n",
    "             a_list[0]\n",
    "     Out [ ]: 2\n",
    "     \n",
    "Don't forget to evaluate the cell after you've written in your answer to generate Python's output and check your answer!\n"
   ]
  },
  {
   "cell_type": "code",
   "execution_count": 1,
   "metadata": {},
   "outputs": [
    {
     "data": {
      "text/plain": [
       "2"
      ]
     },
     "execution_count": 1,
     "metadata": {},
     "output_type": "execute_result"
    }
   ],
   "source": [
    "a_list = [2,7,8, 19]\n",
    "a_list[0]"
   ]
  },
  {
   "cell_type": "markdown",
   "metadata": {},
   "source": [
    "## Exercise 2"
   ]
  },
  {
   "cell_type": "markdown",
   "metadata": {},
   "source": [
    "  Write a line of code that produces the given output.  Use a splice with a \"steps\" component.\n",
    "   \n",
    "    In [ ]: X = 'abcdefghij'\n",
    "             YOUR CODE HERE\n",
    "    Out [ ]: 'acegi'"
   ]
  },
  {
   "cell_type": "code",
   "execution_count": 1,
   "metadata": {},
   "outputs": [],
   "source": [
    "X = 'abcdefghij'"
   ]
  },
  {
   "cell_type": "markdown",
   "metadata": {},
   "source": [
    "## Exercise 3"
   ]
  },
  {
   "cell_type": "markdown",
   "metadata": {},
   "source": [
    " Write a line of code that produces the given output: \n",
    "   \n",
    "     In [ ]: S, T = set('abc'), set('cde')\n",
    "           YOUR CODE HERE\n",
    "     Out [ ]: {'c'}\n",
    "\n",
    "Hint.  Each Python type has its own methods.  For instance, strings have a `.title()` method that capitalizes them.  For this problem use a method that is particular to **sets** on the two sets `S` and `T`.  See the [Set Operations Notebook](https://colab.research.google.com/github/gawron/python-for-social-science/blob/master/intro/set_operations.ipynb) for a discussion of set methods. Also see [Van DerPlas's Whirlwind Tour, Ch. 6.](https://colab.research.google.com/github/jakevdp/WhirlwindTourOfPython/blob/6f1daf714fe52a8dde6a288674ba46a7feed8816/06-Built-in-Data-Structures.ipynb) "
   ]
  },
  {
   "cell_type": "code",
   "execution_count": 1,
   "metadata": {},
   "outputs": [],
   "source": [
    "S, T = set('abc'), set('cde')"
   ]
  },
  {
   "cell_type": "code",
   "execution_count": 26,
   "metadata": {},
   "outputs": [
    {
     "data": {
      "text/plain": [
       "{'c', 'd', 'e'}"
      ]
     },
     "execution_count": 26,
     "metadata": {},
     "output_type": "execute_result"
    }
   ],
   "source": [
    "T"
   ]
  },
  {
   "cell_type": "markdown",
   "metadata": {},
   "source": [
    "## Exercise 4"
   ]
  },
  {
   "cell_type": "markdown",
   "metadata": {},
   "source": [
    " Write a line of code that produces the given output: \n",
    "   \n",
    "     In [ ]: a_list = [2,7,8, 19]\n",
    "           YOUR CODE HERE\n",
    "     Out [ ]: [22,27,28,39]\n",
    "    \n",
    "Hint: Try a list comprehension. Look at [Whirlwind Tour](https://colab.research.google.com/github/jakevdp/WhirlwindTourOfPython/blob/6f1daf714fe52a8dde6a288674ba46a7feed8816/11-List-Comprehensions.ipynb) for a quick review of list comprehensions."
   ]
  },
  {
   "cell_type": "code",
   "execution_count": 2,
   "metadata": {},
   "outputs": [],
   "source": [
    "a_list = [2,7,8, 19]\n",
    "## Your code below this line\n"
   ]
  },
  {
   "cell_type": "markdown",
   "metadata": {},
   "source": [
    "## Exercise 5"
   ]
  },
  {
   "cell_type": "markdown",
   "metadata": {},
   "source": [
    "Write a line of code that produces the given output.\n",
    "\n",
    "Hint Remember that list comprehensions can also be used as filters. Look at [Whirlwind Tour](https://colab.research.google.com/github/jakevdp/WhirlwindTourOfPython/blob/6f1daf714fe52a8dde6a288674ba46a7feed8816/11-List-Comprehensions.ipynb) for a quick review of list comprehensions.\n",
    "\n",
    "```\n",
    "In [ ]: a_list = [2,7,8, 19]\n",
    "In [ ]: # Your code           \n",
    "Out [ ]: [22,27]\n",
    " ```"
   ]
  },
  {
   "cell_type": "code",
   "execution_count": 3,
   "metadata": {},
   "outputs": [],
   "source": [
    "# YOUR CODE GOES UNDER HERE\n",
    "a_list = [2,7,8, 19]\n",
    "a_list = [2,7,8, 19]\n",
    "## Your code below this line\n"
   ]
  },
  {
   "cell_type": "markdown",
   "metadata": {},
   "source": [
    "## Exercise 6"
   ]
  },
  {
   "cell_type": "markdown",
   "metadata": {},
   "source": [
    "Write a function that finds all the consonants in a string.  As a help, the list of vowels is given below. You can assume that any character in a word that is not a vowel is a consonant.  The beginning\n",
    "of the function definition has been given with a `pass` as the body.  \n",
    "\n",
    "It should work as in the following examples.\n",
    "\n",
    "```\n",
    ">>> find_consonants('baker')\n",
    "'bkr'\n",
    ">>> find_consonants('abracadabra')\n",
    "'brcdbr'\n",
    ">>> find_consonants('mississippi is the place for me')\n",
    "'mssssppsthplcfrm'\n",
    "```\n",
    "\n",
    "Be aware that you will have to edit the argument/parameter list of the function\n",
    "as well as the body (the part in parens after the name). \n",
    "Replace the `pass` with the correct definition of the function.\n",
    "\n",
    "For those interested in more of a challenge, you may add 'sometimes y' to the list of vowels. The letter `'y'` is a vowel in \"Mary\" and \"Plymouth\" and \"play\", but not in \"youth\"."
   ]
  },
  {
   "cell_type": "code",
   "execution_count": null,
   "metadata": {},
   "outputs": [],
   "source": [
    "vowels = 'aeiou'\n",
    "def find_consonants():\n",
    "    pass"
   ]
  },
  {
   "cell_type": "code",
   "execution_count": 34,
   "metadata": {},
   "outputs": [
    {
     "data": {
      "text/plain": [
       "['b', 'k', 'r']"
      ]
     },
     "execution_count": 34,
     "metadata": {},
     "output_type": "execute_result"
    }
   ],
   "source": [
    "#  STEP BY STEP SOLUTION\n",
    "# Write a list comprehension that removes the non vowels in a string S\n",
    "vowels = 'aeiou'\n",
    "X = 'baker'\n",
    "L = [   ]   # Your list comprehension goes in the square brackets\n",
    "L"
   ]
  },
  {
   "cell_type": "code",
   "execution_count": 35,
   "metadata": {},
   "outputs": [
    {
     "data": {
      "text/plain": [
       "'bkr'"
      ]
     },
     "execution_count": 35,
     "metadata": {},
     "output_type": "execute_result"
    }
   ],
   "source": [
    "# Turn L into a string using the .join()  method on strings\n",
    "''.join(L)"
   ]
  },
  {
   "cell_type": "code",
   "execution_count": 51,
   "metadata": {},
   "outputs": [],
   "source": [
    "#  Wrap this code in a function definition. making sure\n",
    "#  to choose a parameter name consistent with\n",
    "#  the name in your code and making sure to include a return statement\n",
    "\n",
    "vowels = 'aeiou'\n",
    "\n",
    "def find_consonants(   ):  # Paramater name in parens\n",
    "    #  Put the list comprehension you wrote above here.\n",
    "    return   #  Need to put something here.  Look at teh directions which show what the function SHOULD return"
   ]
  },
  {
   "cell_type": "code",
   "execution_count": 46,
   "metadata": {},
   "outputs": [
    {
     "data": {
      "text/plain": [
       "'bkr'"
      ]
     },
     "execution_count": 46,
     "metadata": {},
     "output_type": "execute_result"
    }
   ],
   "source": [
    "## test  ALL the examples in the directions.  They each have a purpose.\n",
    "find_consonants('baker')"
   ]
  },
  {
   "cell_type": "code",
   "execution_count": 47,
   "metadata": {},
   "outputs": [
    {
     "data": {
      "text/plain": [
       "'brcdbr'"
      ]
     },
     "execution_count": 47,
     "metadata": {},
     "output_type": "execute_result"
    }
   ],
   "source": [
    "find_consonants('abracadabra')"
   ]
  },
  {
   "cell_type": "code",
   "execution_count": 48,
   "metadata": {},
   "outputs": [
    {
     "data": {
      "text/plain": [
       "'msssspp s th plc fr m'"
      ]
     },
     "execution_count": 48,
     "metadata": {},
     "output_type": "execute_result"
    }
   ],
   "source": [
    "find_consonants('mississippi is the place for me')"
   ]
  },
  {
   "cell_type": "markdown",
   "metadata": {},
   "source": [
    "Last example doesn't work as advertised.  Diagnosis: we should\n",
    "remove spaces along with consonants.  Keep the good ideas\n",
    "we've used so far.  Redefine what we omit. New version."
   ]
  },
  {
   "cell_type": "code",
   "execution_count": 53,
   "metadata": {},
   "outputs": [],
   "source": []
  },
  {
   "cell_type": "code",
   "execution_count": 54,
   "metadata": {},
   "outputs": [
    {
     "data": {
      "text/plain": [
       "'mssssppsthplcfrm'"
      ]
     },
     "execution_count": 54,
     "metadata": {},
     "output_type": "execute_result"
    }
   ],
   "source": [
    "find_consonants('mississippi is the place for me')"
   ]
  },
  {
   "cell_type": "markdown",
   "metadata": {},
   "source": [
    "## Exercise 7"
   ]
  },
  {
   "cell_type": "markdown",
   "metadata": {},
   "source": [
    " Write a line of code that operates on `XX` and produces the given output: \n",
    "   \n",
    "     In [ ]: XX = 'bad good sad happy'\n",
    "           YOUR CODE HERE\n",
    "     Out [ ]: [True, False, True, False]\n",
    "  \n",
    " Hint:  Try a list comprehension that collects\n",
    "  a list of the results of a Boolean test.  But remember that the elements of a string\n",
    "  are characters.  You can turn `XX` into a list of length 4 with a simple operation \n",
    "  discussed in the python_types_nb.\n"
   ]
  },
  {
   "cell_type": "code",
   "execution_count": 1,
   "metadata": {},
   "outputs": [],
   "source": [
    "XX = 'bad good sad happy' \n",
    "\n",
    "# Your code here"
   ]
  },
  {
   "cell_type": "markdown",
   "metadata": {},
   "source": [
    "## Exercise 8"
   ]
  },
  {
   "cell_type": "markdown",
   "metadata": {},
   "source": [
    "You're having a big party.\n",
    "\n",
    "The guests will be boys and girls.   The lists are defined for you in the next cell.\n",
    "There should be 24 pairings since the pairing ('Huey', 'Susan') should count\n",
    "as the same dance partnership as ('Susan','Huey'). \n",
    "\n",
    "You want to make sure there are enough dance partners and that they are all compatible.  Write a single list comprehension that will compute every possible pairing of a boy with a girl.  \n",
    "\n",
    "Hint:\n",
    "The list built by the list comprehension will be a list of tuples of length 2."
   ]
  },
  {
   "cell_type": "code",
   "execution_count": 1,
   "metadata": {},
   "outputs": [],
   "source": [
    "boys = 'Huey Fred Jason Ed Albert Louie'.split()\n",
    "girls = 'Susan Paula Barbara Felicia'.split()\n",
    "# Your code here"
   ]
  },
  {
   "cell_type": "code",
   "execution_count": 2,
   "metadata": {},
   "outputs": [],
   "source": [
    "boys = 'Huey Fred Jason Ed Albert Louie'.split()\n",
    "girls = 'Susan Paula Barbara Felicia'.split()\n",
    "pairs = tuple(set(((boys[i]),girls[j]) for i in range(len(boys)) for j in\n",
    "range(len(girls))))"
   ]
  },
  {
   "cell_type": "code",
   "execution_count": 8,
   "metadata": {},
   "outputs": [
    {
     "data": {
      "text/plain": [
       "24"
      ]
     },
     "execution_count": 8,
     "metadata": {},
     "output_type": "execute_result"
    }
   ],
   "source": [
    "len(pairs)"
   ]
  },
  {
   "cell_type": "markdown",
   "metadata": {},
   "source": [
    "## Exercise 9"
   ]
  },
  {
   "cell_type": "markdown",
   "metadata": {},
   "source": [
    "You suddenly remember that boys don't always dance with girls and girls don't always dance with boys.\n",
    "And there are people who are neither who are also guests at the party.  You compile a list of neithers.  \n",
    "\n",
    "Using the `boys` and `girls` lists from the last problem and the `neither` list below,\n",
    "write another list comprehension that finds **all** the possible dance partners, that is\n",
    "every pair of guests at the party, regardless of whether they are boys or girls or neither.\n",
    "But remember: people can't dance with themselves (at least not for the dances that will be\n",
    "played at this party).\n",
    "\n",
    "If your final list has 169 members, people are dancing with themselves.\n",
    "\n",
    "If your final list has 156 members, it's because you have both ('Huey', 'Fred') and ('Fred', 'Huey') as possible dance partners. This is a bug.  They are just one happy couple.\n",
    "One way to fix this is do a set comprehension but then the final set you collect can't\n",
    "just be a set of two-member tuples or you'll still have 156 of them.\n",
    "\n",
    "Super geeky glitch note.  If you're going to use sets, be aware that Python sets can't have sets as members,\n",
    "so you can't just produce a set of two-member sets (What?  Why!  That's kind of a long story.)  What you want is `frozenset`: so `frozenset(['a', 'b'])` will produce a frozenset of size 2, and sets can have frozensets\n",
    "as members.\n",
    "\n",
    "Another way to fix this is with `enumerate` as shown in the function-nb notebook.\n",
    "\n",
    "The correct answer has 78 dance couples."
   ]
  },
  {
   "cell_type": "code",
   "execution_count": 3,
   "metadata": {},
   "outputs": [],
   "source": [
    "neither = 'Lee Sam Kim'.split()\n",
    "# Your code here"
   ]
  },
  {
   "cell_type": "markdown",
   "metadata": {},
   "source": [
    "There is another simpler way to solve the problem we just solved, which is not quite as\n",
    "useful as a programming exercise, which is to use the `itertools` module.    Please don't\n",
    "do this.  It's not nearly as educational.\n",
    "\n",
    "It will be helpful to review our discussion of Counters in the book draft section on dictionaries.\n",
    "It will also be helpful to read the [Python docs](http://docs.python.org/2/library/collections.html)  to find a convenient method that finds the element in a counter with the highest count."
   ]
  },
  {
   "cell_type": "code",
   "execution_count": 4,
   "metadata": {},
   "outputs": [
    {
     "data": {
      "text/plain": [
       "86"
      ]
     },
     "execution_count": 4,
     "metadata": {},
     "output_type": "execute_result"
    }
   ],
   "source": [
    "result = {tuple({a,b}) for a in (set(boys)|set(girls)|set(neither)) for b in\n",
    "(set(boys)|set(girls)|set(neither)) if a!=b}\n",
    "len(result)"
   ]
  },
  {
   "cell_type": "code",
   "execution_count": 8,
   "metadata": {},
   "outputs": [],
   "source": [
    "result2 = {frozenset({a,b}) for a in (set(boys)|set(girls)|set(neither)) for b in\n",
    "(set(boys)|set(girls)|set(neither)) if a!=b}"
   ]
  },
  {
   "cell_type": "code",
   "execution_count": 11,
   "metadata": {},
   "outputs": [
    {
     "data": {
      "text/plain": [
       "['Susan', 'Paula', 'Barbara', 'Felicia']"
      ]
     },
     "execution_count": 11,
     "metadata": {},
     "output_type": "execute_result"
    }
   ],
   "source": [
    "girls"
   ]
  },
  {
   "cell_type": "code",
   "execution_count": 12,
   "metadata": {},
   "outputs": [
    {
     "data": {
      "text/plain": [
       "['Lee', 'Sam', 'Kim']"
      ]
     },
     "execution_count": 12,
     "metadata": {},
     "output_type": "execute_result"
    }
   ],
   "source": [
    "neither"
   ]
  },
  {
   "cell_type": "code",
   "execution_count": 13,
   "metadata": {},
   "outputs": [
    {
     "data": {
      "text/plain": [
       "['Huey', 'Fred', 'Jason', 'Ed', 'Albert', 'Louie']"
      ]
     },
     "execution_count": 13,
     "metadata": {},
     "output_type": "execute_result"
    }
   ],
   "source": [
    "boys"
   ]
  },
  {
   "cell_type": "code",
   "execution_count": 6,
   "metadata": {},
   "outputs": [
    {
     "name": "stdout",
     "output_type": "stream",
     "text": [
      "Kim Albert\n",
      "Jason Huey\n",
      "Susan Lee\n",
      "Paula Jason\n",
      "Fred Barbara\n",
      "Albert Louie\n",
      "Kim Louie\n",
      "Huey Paula\n"
     ]
    }
   ],
   "source": [
    "seen = []\n",
    "dupes = []\n",
    "for (x,y) in result:\n",
    "    if (y,x) in seen:\n",
    "        print(x,y)\n",
    "        dupes.append((x,y))\n",
    "    seen.append((x,y))\n"
   ]
  },
  {
   "cell_type": "code",
   "execution_count": 7,
   "metadata": {},
   "outputs": [
    {
     "name": "stdout",
     "output_type": "stream",
     "text": [
      "True\n",
      "True\n"
     ]
    }
   ],
   "source": [
    "print(('Kim','Albert')  in result)\n",
    "print(('Albert',\"Kim\")  in result)"
   ]
  },
  {
   "cell_type": "code",
   "execution_count": 10,
   "metadata": {},
   "outputs": [
    {
     "data": {
      "text/plain": [
       "78"
      ]
     },
     "execution_count": 10,
     "metadata": {},
     "output_type": "execute_result"
    }
   ],
   "source": [
    "len(result2)"
   ]
  },
  {
   "cell_type": "markdown",
   "metadata": {},
   "source": [
    "## Exercise 10"
   ]
  },
  {
   "cell_type": "markdown",
   "metadata": {},
   "source": [
    "Write a function that converts temperatures (as\n",
    "numbers) from Fahrenheit to Celsius scale. The temperature should be\n",
    "optional and its default value should be 32.  Here are some examples showing\n",
    "how you **call** the `fahrenheit-to_celsius` function and what it returns:\n",
    "\n",
    "```\n",
    "    In [ ]:  fahrenheit_to_celsius(212)\n",
    "    Out [ ]: 100\n",
    "    In [ ]: fahrenheit_to_celsius(-40)\n",
    "    Out [ ]: -40.0\n",
    "    In [ ]:  fahrenheit_to_celsius(32)\n",
    "    Out [ ]: 0.0\n",
    "    In [ ]:  fahrenheit_to_celsius()\n",
    "    Out [ ]: 0.0    \n",
    "```\n",
    "\n",
    "Please include a cell printing out your validation tests to show you have checked your work (which of course you **always** do).   \n",
    "To create new cells to demonstrate all the examples, you hold down the `[Control]` key while pressing `M` and then typing `b` (for \"below\").\n"
   ]
  },
  {
   "cell_type": "code",
   "execution_count": 13,
   "metadata": {},
   "outputs": [],
   "source": [
    "def fahrenheit_to_celsius(f):\n",
    "    #return [your answer goes here]"
   ]
  },
  {
   "cell_type": "markdown",
   "metadata": {},
   "source": [
    "## Exercise 11"
   ]
  },
  {
   "cell_type": "markdown",
   "metadata": {},
   "source": [
    "Write a function that can compute the difference between two temperatures.  Assume the\n",
    "input temperatures are Fahrenheit and the output temperatures are Celsius. You should take the differences in Celsus, as shown in the examples below.   Your\n",
    "definition should **call** the `fahrenheit_to_celsius`  function you defined in the previous problem, so **don't** just copy and paste the code from thefunction body.  Assume the first argument is obligatory and then the second argument is optional.  When the second argument is omitted, just return the result of converting the first argument to Celsius.\n",
    "Show that you have checked your work, using all of the following examples.\n",
    "\n",
    "Here is how the function should work:\n",
    "\n",
    "```\n",
    "    In [ ]:  fahrenheit_to_celsius_diff(212,32)\n",
    "    Out [ ]: 100.0\n",
    "    In [ ]: fahrenheit_to_celsius_diff(-40, 212)\n",
    "    Out [ ]: -140.0\n",
    "    In [ ]:  fahrenheit_to_celsius_diff(212)\n",
    "    Out [ ]: 100.0\n",
    "    In [ ]:  fahrenheit_to_celsius_diff(212, 0)\n",
    "    Out [ ]: 117.78\n",
    "\n",
    "```\n"
   ]
  },
  {
   "cell_type": "code",
   "execution_count": 35,
   "metadata": {
    "scrolled": true
   },
   "outputs": [],
   "source": [
    "\n",
    "def fahrenheit_to_celsius_diff(f1, f2):\n",
    "    # Put the entire function definition here."
   ]
  },
  {
   "cell_type": "code",
   "execution_count": null,
   "metadata": {},
   "outputs": [],
   "source": []
  }
 ],
 "metadata": {
  "kernelspec": {
   "display_name": "Python 3 (ipykernel)",
   "language": "python",
   "name": "python3"
  },
  "language_info": {
   "codemirror_mode": {
    "name": "ipython",
    "version": 3
   },
   "file_extension": ".py",
   "mimetype": "text/x-python",
   "name": "python",
   "nbconvert_exporter": "python",
   "pygments_lexer": "ipython3",
   "version": "3.10.13"
  },
  "toc": {
   "base_numbering": 1,
   "nav_menu": {
    "height": "310px",
    "width": "252px"
   },
   "number_sections": true,
   "sideBar": true,
   "skip_h1_title": false,
   "title_cell": "Table of Contents",
   "title_sidebar": "Contents",
   "toc_cell": false,
   "toc_position": {},
   "toc_section_display": "block",
   "toc_window_display": false
  }
 },
 "nbformat": 4,
 "nbformat_minor": 1
}
