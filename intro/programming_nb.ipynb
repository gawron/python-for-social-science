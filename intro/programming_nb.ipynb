{
 "cells": [
  {
   "cell_type": "markdown",
   "metadata": {},
   "source": [
    "<font size = 6> <b>Programming: putting things together</b></font>"
   ]
  },
  {
   "cell_type": "markdown",
   "metadata": {},
   "source": [
    "In this NB we go through some of the steps in solving problems and packaging the solutions into python scripts."
   ]
  },
  {
   "cell_type": "markdown",
   "metadata": {},
   "source": [
    "# Exercise 1"
   ]
  },
  {
   "cell_type": "markdown",
   "metadata": {},
   "source": [
    "Our goal in this exercise is to write a function that removes all elements of a sequence that do not occur at least two times.   \n",
    "\n",
    "Note: This should remind you of an exercise from a previous notebook but refresh your memory and try it anyway.  We are going to proceed by steps and in the final step in this exercise we are going to write the function described above. \n",
    "\n",
    "We'll break the problem into two parts."
   ]
  },
  {
   "cell_type": "markdown",
   "metadata": {},
   "source": [
    "Using the string `test_str`, write a `for` loop that **counts**\n",
    "the number of times each item in `test_str` occurs. We will store these counts in\n",
    "a dictionary.  We are going to do this using a special kind of dictionary called a `Counter`.  If you know enough about `Counter`s to do this without a `for`-loop, go ahead and do so.  Otherwise, write a `for`-loop that loops through the string using `ctr` (defined in line 4 below) to  keep count of how many times each character has occurred.  Use the `test_str` defined below to test your code.  "
   ]
  },
  {
   "cell_type": "code",
   "execution_count": null,
   "metadata": {},
   "outputs": [],
   "source": [
    "test_str = 'abracadabra'\n",
    "from collections import Counter\n",
    "\n",
    "ctr = Counter()\n",
    "#[Your for loop to get all the counts for items in test_str]\n",
    "ctr"
   ]
  },
  {
   "cell_type": "markdown",
   "metadata": {},
   "source": [
    "If you defined `ctr` correctly, it should look like this:\n",
    "\n",
    "```\n",
    "Counter({'a': 5, 'r': 2, 'b': 2, 'c': 1, 'd': 1})\n",
    "```\n",
    "\n",
    "Morevover if you want to know the count of some character in `test_str`, you do like this\n",
    "\n",
    "```\n",
    "In [5]: ctr['a']\n",
    "Out[5]: 5\n",
    "```"
   ]
  },
  {
   "cell_type": "markdown",
   "metadata": {},
   "source": [
    "Having now counted, we are going to write a line of code that removes all elements of `test_str` that do not occur at least 2 times.  Hint:  You should use a list-comprehension with a test:\n",
    "\n",
    "```\n",
    "[x for x in test_str if **test**]\n",
    "```\n",
    "\n",
    "This collects only the members of `test_str` that pass the test."
   ]
  },
  {
   "cell_type": "raw",
   "metadata": {},
   "source": [
    "[your code here]"
   ]
  },
  {
   "cell_type": "markdown",
   "metadata": {},
   "source": [
    "In the final step we put all the code we've written into a function that not only works on `test_str`, but on any sequence, returning a version of the sequence with all singleton elements removed.  We've started the function definition below.  Remember to use `return`."
   ]
  },
  {
   "cell_type": "code",
   "execution_count": null,
   "metadata": {
    "scrolled": true
   },
   "outputs": [],
   "source": [
    "def remove_singletons (seq):\n",
    "    #[Your code here]\n",
    "    pass\n",
    "\n",
    "\n",
    "# Some items to test on follow\n",
    "test_str1  = 'abracadabra'\n",
    "# Make sure to be okay on a boundary case\n",
    "test_list1 = []\n",
    "# Make sure to be able to do nothing\n",
    "test_list2 = list(range(7))\n",
    "# Another kind of boundary case\n",
    "test_str2 = test_str1 + test_str1\n",
    "\n",
    "print(remove_singletons(test_str1))\n",
    "print(remove_singletons(test_list1))\n",
    "print(remove_singletons(test_list2))\n",
    "print(remove_singletons(test_str2))"
   ]
  },
  {
   "cell_type": "markdown",
   "metadata": {},
   "source": [
    "The steps we took:\n",
    "\n",
    "\n",
    "1.  **Analysis**. Break the problem down into steps you know how to do in Python (yes, this is the hard part).  We know how to count the number of occcurrences of the elements of a container.  We know how filter out things that don't meet some criterion.  We broke the task of producing a sequence with the singletons removed into those two doable pieces.  \n",
    "2.  **Be example based.**  Write the code to execute one of your steps on one of your examples.  Interact with Python at this stage.  Get the basic idea working.\n",
    "3.  **Write a function**. Turn your code into a reusable function.\n",
    "4.  **Test**.  Test on a variety of cases.  Frequently I'll give you a set of cases to test on in an exercise. As you get more experienced you'll be able to generate your own useful test items.  If this is going to be a reusable piece of code you're going to change and maintain for a while, this is an extremely iomportant step.  You're building your first test suite."
   ]
  },
  {
   "cell_type": "markdown",
   "metadata": {},
   "source": [
    "# Exercise 2: For loops with Sudoku"
   ]
  },
  {
   "cell_type": "markdown",
   "metadata": {},
   "source": [
    "Just execute the code cell below.  We need it for the discussion and exercises that follow."
   ]
  },
  {
   "cell_type": "code",
   "execution_count": null,
   "metadata": {},
   "outputs": [],
   "source": [
    "digits   = '123456789'\n",
    "rows     = 'ABCDEFGHI'\n",
    "cols     = digits\n",
    "squares  = [r+c for r in rows for c in cols]\n",
    "unitlist = ([[r+c for r in rows] for c in cols] + \n",
    "           [[r+c for c in cols] for r in rows] + \n",
    "           [[r+c for r in rs for c in cs] for rs in ('ABC','DEF','GHI') for cs in ('123','456','789')])\n",
    "\n",
    "# Assign to each square s, 3 sets of squares, the unique row and column and box s belongs to.\n",
    "units = dict((s, [u for u in unitlist if s in u])\n",
    "             for s in squares)\n",
    "## Assign to each square s a set of squares, namely those that cant have the same value as s.\n",
    "peers = dict((s, set(sum(units[s],[]))-set([s]))\n",
    "             for s in squares)\n",
    "grid1  = '003020600900305001001806400008102900700000008006708200002609500800203009005010300'\n",
    "grid1_soln = '483921657967345821251876493548132976729564138136798245372689514814253769695417382'\n",
    "grid2  = '003020600900305001001806400008102900700000008006708200002689500800203009005010300'"
   ]
  },
  {
   "cell_type": "markdown",
   "metadata": {},
   "source": [
    "The code above defines the row labels in a Sudoku puzzle  in a variable `rows`. Write a `for`-loop that prints out the row labels in a Sudoku puzzle."
   ]
  },
  {
   "cell_type": "code",
   "execution_count": null,
   "metadata": {},
   "outputs": [],
   "source": []
  },
  {
   "cell_type": "markdown",
   "metadata": {},
   "source": [
    "The code above defines the column labels in a Sudoku puzzle  in a variable `cols`. Write a `for`-loop that prints out the column labels in a Sudoku puzzle."
   ]
  },
  {
   "cell_type": "code",
   "execution_count": null,
   "metadata": {},
   "outputs": [],
   "source": []
  },
  {
   "cell_type": "markdown",
   "metadata": {},
   "source": [
    "Write a list comprehension that returns a list of the squares in rows `ABC` a Sudoku puzzle.  For a hint, look at the list comprehension that defines `squares` in the code above."
   ]
  },
  {
   "cell_type": "code",
   "execution_count": null,
   "metadata": {},
   "outputs": [],
   "source": [
    "ABC  = [] # Put your list comprehension in the the square "
   ]
  },
  {
   "cell_type": "code",
   "execution_count": null,
   "metadata": {},
   "outputs": [],
   "source": [
    "ABC"
   ]
  },
  {
   "cell_type": "markdown",
   "metadata": {},
   "source": [
    "If the variable `squares` had not been precomputed for you, you could also have computed it yourself with a **double loop** in a list comprehension, as discussed in [the section on loops](http://www-rohan.sdsu.edu/~gawron/python_for_ss/course_core/book_draft/programming_intro/list_comprehension.html) in the online text."
   ]
  },
  {
   "cell_type": "code",
   "execution_count": null,
   "metadata": {
    "scrolled": true
   },
   "outputs": [],
   "source": [
    "[r+c for r in rows for c in cols]"
   ]
  },
  {
   "cell_type": "markdown",
   "metadata": {},
   "source": [
    "This is an example of a very important idea with applicability to a lot of computations.  You're pairing every element in `rows` with every element in `cols`. That's called taking the cross-product of the two containers.  So now let's turn this idea into a function that won't just apply to `rows` and `cols`, but to any two containers with elements that can be combined with `+`. Let's call the function `cross` and the two containers that are its arguments `A` and `B`.  Finish the definition below."
   ]
  },
  {
   "cell_type": "code",
   "execution_count": 3,
   "metadata": {},
   "outputs": [],
   "source": [
    "def cross (A, B):\n",
    "    return [your list comprehension code here]"
   ]
  },
  {
   "cell_type": "markdown",
   "metadata": {},
   "source": [
    "Try writing another function `cross2tuple` that works as follows:"
   ]
  },
  {
   "cell_type": "code",
   "execution_count": 4,
   "metadata": {},
   "outputs": [
    {
     "data": {
      "text/plain": [
       "[('rock', 'rock'),\n",
       " ('rock', 'paper'),\n",
       " ('rock', 'scissors'),\n",
       " ('paper', 'rock'),\n",
       " ('paper', 'paper'),\n",
       " ('paper', 'scissors'),\n",
       " ('scissors', 'rock'),\n",
       " ('scissors', 'paper'),\n",
       " ('scissors', 'scissors')]"
      ]
     },
     "execution_count": 4,
     "metadata": {},
     "output_type": "execute_result"
    }
   ],
   "source": [
    "cross2tuple(('rock','paper','scissors'),('rock','paper','scissors'))"
   ]
  },
  {
   "cell_type": "markdown",
   "metadata": {},
   "source": [
    "One of the most powerful things about functions is that it allows you to **simplify**.  Once you identify an important operation like `cross` you can see it in other computations.  Consider the definition of `units` given below.  We want to create a list that contains all\n",
    "of the **units**, that is, all\n",
    "of the columns (9 groups of squares) all of the rows (9 groups of squares) and\n",
    "all of the boxes (again, 9 groups of squares).  In the code above (adapted from\n",
    "Norvig's code) this was done by concatenating together three lists, as shown\n",
    "in the snippet below.  Line 1 computes a list of the 9 columns; line 2 a list the 9 rows,\n",
    "and lines 3 & 4 a list of the 9 squares.\n",
    "```\n",
    "1 unitlist = ([[r+c for r in rows] for c in cols] +\n",
    "2             [[r+c for c in cols] for r in rows] +\n",
    "3             [[r+c for r in rs for c in cs] for rs in ('ABC','DEF','GHI') \n",
    "4                                            for cs in ('123','456','789')])\n",
    "```\n",
    "Notice that each line involves a `cross` operation.  In line 1, we take a column `c`\n",
    "and *cross* all the things in `rows` with all the things in `c` (namely `c`).  Similarly in\n",
    "line 2, we take a row `r` and *cross* it with all things in `cols`.  Finally, to compute the contents of each box unit, we *cross* the rows in that box unit with the cols in that box unit. So with `cross` defined, we can rewrite the code above as\n",
    "```\n",
    "1 unitlist = [cross(rows,c) for c in cols] +\n",
    "2            [cross(r,cols) for r in rows] +\n",
    "3            [cross(rs,cs) for rs in ('ABC','DEF','GHI') \n",
    "4                          for cs in ('123','456','789')]\n",
    "```\n",
    "Notice the code's much easier to read and understand.  We don't have to rethink the parts of a *cross* operation each time we get to one.  That simplification of the comprehension process is one of the huge benefits of functions.\n",
    "\n",
    "The code for `cross` is also quite general.  Thinking about what the code does, answer the following questions.\n",
    "\n",
    "1. Suppose `A` is of length 3.  Does `B` have to also be of length 3 in order for `cross(A,B)`\n",
    "to make sense?\n",
    "2. Suppose `A` is of length `M` and `B` is of length `N`.  What is the length of `cross(A,B)`?\n",
    "3. Try to guess what `cross([1,1,1],[-1,-1,-1,-1])` will be and describe your in answer in a single sentence.  Verify it using Python.\n",
    "4. Try to guess what `cross(['1','1','1'],['-1','-1','-1','-1'])` will be and describe your in answer in a single sentence.  Verify it using Python."
   ]
  },
  {
   "cell_type": "markdown",
   "metadata": {},
   "source": [
    "[Your answers to questions 1-4 in prose in this markdown cell.]"
   ]
  },
  {
   "cell_type": "code",
   "execution_count": null,
   "metadata": {},
   "outputs": [],
   "source": [
    "[Test your answers to question 3 & 4 in this code cell]"
   ]
  },
  {
   "cell_type": "markdown",
   "metadata": {
    "collapsed": true
   },
   "source": [
    "# Imports & namespaces"
   ]
  },
  {
   "cell_type": "markdown",
   "metadata": {
    "collapsed": true
   },
   "source": [
    "In this exercise we try to diagnose and fix namespace-related errors.  As discussed in the `running_python` notebook `numpy` is a module that defines a `log` function, called as follows in our notebook:\n",
    "\n",
    "```\n",
    "log(2)\n",
    "```\n",
    "\n",
    "But note that function  doesnt work here"
   ]
  },
  {
   "cell_type": "code",
   "execution_count": 5,
   "metadata": {},
   "outputs": [
    {
     "ename": "NameError",
     "evalue": "name 'log' is not defined",
     "output_type": "error",
     "traceback": [
      "\u001b[0;31m---------------------------------------------------------------------------\u001b[0m",
      "\u001b[0;31mNameError\u001b[0m                                 Traceback (most recent call last)",
      "\u001b[0;32m<ipython-input-5-75e41ac770c9>\u001b[0m in \u001b[0;36m<module>\u001b[0;34m\u001b[0m\n\u001b[0;32m----> 1\u001b[0;31m \u001b[0mlog\u001b[0m\u001b[0;34m(\u001b[0m\u001b[0;36m2\u001b[0m\u001b[0;34m)\u001b[0m\u001b[0;34m\u001b[0m\u001b[0;34m\u001b[0m\u001b[0m\n\u001b[0m",
      "\u001b[0;31mNameError\u001b[0m: name 'log' is not defined"
     ]
    }
   ],
   "source": [
    "log(2)"
   ]
  },
  {
   "cell_type": "markdown",
   "metadata": {},
   "source": [
    "Of course in the running_python notebook we had automagically imported numpy functions with our \n",
    "\n",
    "```\n",
    "%pylab inline\n",
    "```\n",
    "\n",
    "cell at the beginning of the notebook.  So let's try importing `numpy` and see if that works."
   ]
  },
  {
   "cell_type": "code",
   "execution_count": 6,
   "metadata": {},
   "outputs": [
    {
     "ename": "NameError",
     "evalue": "name 'log' is not defined",
     "output_type": "error",
     "traceback": [
      "\u001b[0;31m---------------------------------------------------------------------------\u001b[0m",
      "\u001b[0;31mNameError\u001b[0m                                 Traceback (most recent call last)",
      "\u001b[0;32m<ipython-input-6-96afb6127044>\u001b[0m in \u001b[0;36m<module>\u001b[0;34m\u001b[0m\n\u001b[1;32m      1\u001b[0m \u001b[0;32mimport\u001b[0m \u001b[0mnumpy\u001b[0m\u001b[0;34m\u001b[0m\u001b[0;34m\u001b[0m\u001b[0m\n\u001b[0;32m----> 2\u001b[0;31m \u001b[0mlog\u001b[0m\u001b[0;34m(\u001b[0m\u001b[0;36m2\u001b[0m\u001b[0;34m)\u001b[0m\u001b[0;34m\u001b[0m\u001b[0;34m\u001b[0m\u001b[0m\n\u001b[0m",
      "\u001b[0;31mNameError\u001b[0m: name 'log' is not defined"
     ]
    }
   ],
   "source": [
    "import numpy \n",
    "log(2)"
   ]
  },
  {
   "cell_type": "markdown",
   "metadata": {},
   "source": [
    "Still doesn't work!"
   ]
  },
  {
   "cell_type": "markdown",
   "metadata": {},
   "source": [
    "Describe what happened when you evaluate the cell above and why.  What does it have to do with namespaces?  To answer this question, you might need to review [the online book draft section on name spaces](http://gawron.sdsu.edu/python_for_ss/book_draft/anatomy/nme_space.html).\n",
    "\n",
    "For a little extra credit, explain why `log(2)` did work in the running_python notebook."
   ]
  },
  {
   "cell_type": "markdown",
   "metadata": {},
   "source": [
    "[Your answer in this markdown cell]"
   ]
  },
  {
   "cell_type": "markdown",
   "metadata": {},
   "source": [
    "The code cell below is a copy of the cell above.  Edit it and fix the problem"
   ]
  },
  {
   "cell_type": "code",
   "execution_count": null,
   "metadata": {},
   "outputs": [],
   "source": [
    "import numpy\n",
    "log(2)"
   ]
  },
  {
   "cell_type": "markdown",
   "metadata": {},
   "source": [
    "The `string` module defines a character string `ascii_letters`.  The line in the code looks like this:\n",
    "\n",
    "```\n",
    "ascii_letters = 'abcdefghijklmnopqrstuvwxyzABCDEFGHIJKLMNOPQRSTUVWXYZ'\n",
    "```\n",
    "\n",
    "Fix the problem in the next cell.\n"
   ]
  },
  {
   "cell_type": "code",
   "execution_count": 7,
   "metadata": {},
   "outputs": [
    {
     "ename": "NameError",
     "evalue": "name 'ascii_letters' is not defined",
     "output_type": "error",
     "traceback": [
      "\u001b[0;31m---------------------------------------------------------------------------\u001b[0m",
      "\u001b[0;31mNameError\u001b[0m                                 Traceback (most recent call last)",
      "\u001b[0;32m<ipython-input-7-0250db63025f>\u001b[0m in \u001b[0;36m<module>\u001b[0;34m\u001b[0m\n\u001b[1;32m      1\u001b[0m \u001b[0;32mimport\u001b[0m \u001b[0mstring\u001b[0m\u001b[0;34m\u001b[0m\u001b[0;34m\u001b[0m\u001b[0m\n\u001b[0;32m----> 2\u001b[0;31m \u001b[0mascii_letters\u001b[0m\u001b[0;34m\u001b[0m\u001b[0;34m\u001b[0m\u001b[0m\n\u001b[0m",
      "\u001b[0;31mNameError\u001b[0m: name 'ascii_letters' is not defined"
     ]
    }
   ],
   "source": [
    "import string\n",
    "ascii_letters"
   ]
  },
  {
   "cell_type": "markdown",
   "metadata": {},
   "source": [
    "Finally, `numpy` is a popular module, often frequently invoked by the programs that use\n",
    "it.  Hence it's convenient to give that namespace an easier-to-type *nickname* with the following\n",
    "import command:"
   ]
  },
  {
   "cell_type": "code",
   "execution_count": null,
   "metadata": {},
   "outputs": [],
   "source": [
    "import numpy as np"
   ]
  },
  {
   "cell_type": "markdown",
   "metadata": {},
   "source": [
    "What would the proper fix to the namespace problem above be if you imported\n",
    "`numpy` this way?"
   ]
  },
  {
   "cell_type": "markdown",
   "metadata": {},
   "source": [
    "Put your answer in this markdown cell.  Note  that if you've executed both `import numpy`\n",
    "and `import numpy as np`, both names for the module will work."
   ]
  },
  {
   "cell_type": "markdown",
   "metadata": {},
   "source": [
    "There's one more variant of the `import` command worth knowing, since you'll see it a loy in other people's  code\n",
    "even if youdon;'t use it yourself."
   ]
  },
  {
   "cell_type": "code",
   "execution_count": 8,
   "metadata": {},
   "outputs": [],
   "source": [
    "from numpy import log"
   ]
  },
  {
   "cell_type": "markdown",
   "metadata": {},
   "source": [
    "This imports just the log function and the name `log`. So the following works."
   ]
  },
  {
   "cell_type": "code",
   "execution_count": 9,
   "metadata": {},
   "outputs": [
    {
     "data": {
      "text/plain": [
       "0.6931471805599453"
      ]
     },
     "execution_count": 9,
     "metadata": {},
     "output_type": "execute_result"
    }
   ],
   "source": [
    "log(2)"
   ]
  },
  {
   "cell_type": "markdown",
   "metadata": {},
   "source": [
    "Recall that python's `math` module also defines a version of the `log` function, albeit a slightly different one.\n",
    "\n",
    "What do you will happen when we now execute the following cell?"
   ]
  },
  {
   "cell_type": "code",
   "execution_count": 10,
   "metadata": {},
   "outputs": [],
   "source": [
    "from math import log"
   ]
  },
  {
   "cell_type": "markdown",
   "metadata": {},
   "source": [
    "Surprised?  Welcome to the wonderful word of powerful customization.\n",
    "\n",
    "You now know enough to cause yourself serious grief.\n",
    "\n",
    "Which version  of `log` do you think will now be called when you execute\n",
    "`log(2)`?\n",
    "\n",
    "Confirm or disconfirm your guess by trying out one of the features defined for one function but not\n",
    "the other, as discussed in the running_python notebook.\n",
    "\n",
    "Put your demonstration in the cell below."
   ]
  },
  {
   "cell_type": "code",
   "execution_count": null,
   "metadata": {},
   "outputs": [],
   "source": []
  },
  {
   "cell_type": "markdown",
   "metadata": {},
   "source": [
    "The moral here is that when you do `from <module> import <name>`, you are importing `<name>` into your global namespace.\n",
    "\n",
    "Just as when you assign any object to a name, that name is now used up. And you need to be careful\n",
    "not to abuse it by giving that name another meaning."
   ]
  },
  {
   "cell_type": "markdown",
   "metadata": {},
   "source": [
    "# Namespaces and class definitions"
   ]
  },
  {
   "cell_type": "markdown",
   "metadata": {},
   "source": [
    "Namespace issues also arise  whenever we have `class` definitions and instances\n",
    "of classes.  The following  class definition defines the `Point`\n",
    "class.  `Point` instance represent points in the `xy`-plane.  The\n",
    "have methods like `distance_from_origin` and `distance` (from another\n",
    "point instance)."
   ]
  },
  {
   "cell_type": "code",
   "execution_count": 18,
   "metadata": {},
   "outputs": [],
   "source": [
    "import math\n",
    "## Not used in class dfn below but helpful for discussion\n",
    "import numpy as np\n",
    "\n",
    "class Point:\n",
    "\n",
    "    def __init__(self, x, y):\n",
    "        self.x = x\n",
    "        self.y = y\n",
    "\n",
    "    def __str__(self):\n",
    "       return \"Point({0}, {1})\".format(self.x, self.y)\n",
    "\n",
    "    def __eq__ (self, other):\n",
    "        if self.x == other.x and self.y == other.y:\n",
    "            return True\n",
    "        else:\n",
    "            return False\n",
    "\n",
    "    def distance_from_origin (self):\n",
    "        return math.sqrt(self.x**2 + self.y**2)\n",
    "\n",
    "    def distance(self, p2):\n",
    "        return math.sqrt((p2.x - self.x)**2 + (p2.y - self.y)**2)"
   ]
  },
  {
   "cell_type": "markdown",
   "metadata": {},
   "source": [
    "## Creating instances of the class"
   ]
  },
  {
   "cell_type": "code",
   "execution_count": 4,
   "metadata": {},
   "outputs": [
    {
     "name": "stdout",
     "output_type": "stream",
     "text": [
      "3\n",
      "2\n"
     ]
    },
    {
     "data": {
      "text/plain": [
       "True"
      ]
     },
     "execution_count": 4,
     "metadata": {},
     "output_type": "execute_result"
    }
   ],
   "source": [
    "p1 = Point(3,4)\n",
    "p2 = Point(1,2)\n",
    "p3 = Point(3,4)\n",
    "print((p1.x))\n",
    "print((p2.y))\n",
    "p1 == p3"
   ]
  },
  {
   "cell_type": "markdown",
   "metadata": {},
   "source": [
    "To find the string to print for a class instance, `print` calls the instance's `__str__` method."
   ]
  },
  {
   "cell_type": "code",
   "execution_count": 6,
   "metadata": {},
   "outputs": [
    {
     "name": "stdout",
     "output_type": "stream",
     "text": [
      "Point(3, 4)\n"
     ]
    }
   ],
   "source": [
    "print(p1)"
   ]
  },
  {
   "cell_type": "markdown",
   "metadata": {},
   "source": [
    "To find the string to print out when the value of a cell is a class instance, the Python interpreter calls the instance's `__repr__` method.\n",
    "\n",
    "Since we didn't define one above a generic inherited `__repr__` method is called."
   ]
  },
  {
   "cell_type": "code",
   "execution_count": 7,
   "metadata": {},
   "outputs": [
    {
     "data": {
      "text/plain": [
       "<__main__.Point at 0x7fa9ffc16750>"
      ]
     },
     "execution_count": 7,
     "metadata": {},
     "output_type": "execute_result"
    }
   ],
   "source": [
    "p1"
   ]
  },
  {
   "cell_type": "code",
   "execution_count": 22,
   "metadata": {},
   "outputs": [],
   "source": [
    "p1.z = 15"
   ]
  },
  {
   "cell_type": "code",
   "execution_count": 23,
   "metadata": {},
   "outputs": [
    {
     "data": {
      "text/plain": [
       "15"
      ]
     },
     "execution_count": 23,
     "metadata": {},
     "output_type": "execute_result"
    }
   ],
   "source": [
    "p1.z"
   ]
  },
  {
   "cell_type": "code",
   "execution_count": 15,
   "metadata": {},
   "outputs": [
    {
     "data": {
      "text/plain": [
       "2.8284271247461903"
      ]
     },
     "execution_count": 15,
     "metadata": {},
     "output_type": "execute_result"
    }
   ],
   "source": [
    "p1.distance(p2)"
   ]
  },
  {
   "cell_type": "code",
   "execution_count": 16,
   "metadata": {},
   "outputs": [
    {
     "data": {
      "text/plain": [
       "2.8284271247461903"
      ]
     },
     "execution_count": 16,
     "metadata": {},
     "output_type": "execute_result"
    }
   ],
   "source": [
    "p2.distance(p1)"
   ]
  },
  {
   "cell_type": "markdown",
   "metadata": {},
   "source": [
    "There is an error raised by the code in the next cell"
   ]
  },
  {
   "cell_type": "code",
   "execution_count": 8,
   "metadata": {
    "scrolled": true
   },
   "outputs": [
    {
     "ename": "TypeError",
     "evalue": "__init__() missing 2 required positional arguments: 'x' and 'y'",
     "output_type": "error",
     "traceback": [
      "\u001b[0;31m---------------------------------------------------------------------------\u001b[0m",
      "\u001b[0;31mTypeError\u001b[0m                                 Traceback (most recent call last)",
      "\u001b[0;32m<ipython-input-8-0c785f0913da>\u001b[0m in \u001b[0;36m<module>\u001b[0;34m()\u001b[0m\n\u001b[0;32m----> 1\u001b[0;31m \u001b[0mp1\u001b[0m \u001b[0;34m=\u001b[0m \u001b[0mPoint\u001b[0m\u001b[0;34m(\u001b[0m\u001b[0;34m)\u001b[0m\u001b[0;34m\u001b[0m\u001b[0m\n\u001b[0m",
      "\u001b[0;31mTypeError\u001b[0m: __init__() missing 2 required positional arguments: 'x' and 'y'"
     ]
    }
   ],
   "source": [
    "p4 = Point()"
   ]
  },
  {
   "cell_type": "markdown",
   "metadata": {},
   "source": [
    "Fix it  so that `p4` behaves  as follows:"
   ]
  },
  {
   "cell_type": "code",
   "execution_count": 8,
   "metadata": {},
   "outputs": [
    {
     "name": "stdout",
     "output_type": "stream",
     "text": [
      "Point(5, 1)\n"
     ]
    }
   ],
   "source": [
    "\n",
    "print(p4)"
   ]
  },
  {
   "cell_type": "markdown",
   "metadata": {},
   "source": [
    "After fixing the problem, Explain what went\n",
    "wrong and why your fix works.  To answer this question, you might need to review [the online book draft section on clases.](http://gawron.sdsu.edu/python_for_ss/book_draft/anatomy/classes.html)."
   ]
  },
  {
   "cell_type": "code",
   "execution_count": null,
   "metadata": {},
   "outputs": [],
   "source": [
    "#[Your code here]"
   ]
  },
  {
   "cell_type": "markdown",
   "metadata": {},
   "source": [
    "Your explanation here"
   ]
  },
  {
   "cell_type": "markdown",
   "metadata": {},
   "source": [
    "## Using methods"
   ]
  },
  {
   "cell_type": "code",
   "execution_count": null,
   "metadata": {},
   "outputs": [],
   "source": [
    "p1.distance_from_origin()"
   ]
  },
  {
   "cell_type": "markdown",
   "metadata": {},
   "source": [
    "So a class defines a set of **methods**.  For the `Point` class, the methods defined above\n",
    "are `__init__`, `__str__`, `distance_from_origin` and `distance`.\n",
    "\n",
    "The `distance` method computes the distance between two points,  It is used as follows:"
   ]
  },
  {
   "cell_type": "code",
   "execution_count": null,
   "metadata": {},
   "outputs": [],
   "source": [
    "p1 = Point(3,4)\n",
    "p2 = Point(0,0)\n",
    "print((p1.distance(p2)))"
   ]
  },
  {
   "cell_type": "markdown",
   "metadata": {},
   "source": [
    "Not surprisingly, we got the same answer as we got for `distance_from_origin`, since we used the\n",
    "origin as our second point.  But `distance` works for any two points."
   ]
  },
  {
   "cell_type": "code",
   "execution_count": null,
   "metadata": {},
   "outputs": [],
   "source": [
    "p1 = Point(3,4)\n",
    "p2 = Point(1,2)\n",
    "print((p1.distance(p2)))"
   ]
  },
  {
   "cell_type": "markdown",
   "metadata": {},
   "source": [
    "Notice that  the idea of `distance`  requires computing a relationship between two points.  Since\n",
    "this is a method on points, we define the function by viewing one of the points as `self` (our \"point of view\", so\n",
    "to speak) and we just call the other point `p2`:\n",
    "\n",
    "```\n",
    "def distance(self, p2):\n",
    "    return math.sqrt((p2.x - self.x)**2 + (p2.y - self.y)**2)\n",
    "```\n",
    "\n",
    "This definition says subtract the `x`-value of `self` from the `x`-value of `p2`, square that,\n",
    "add the result of squaring the differnce between the `y`-value of `self` and the `y`-value\n",
    "of `p2`.  Then take the square root of that sum. \n",
    "\n",
    "But other than the fact that we put this in a class definition, indented, this\n",
    "looks just like the way we'd define the distance between two points in a function.\n",
    "\n",
    "```\n",
    "def distance(p1, p2):\n",
    "    return math.sqrt((p2.x - p1.x)**2 + (p2.y - p1.y)**2)\n",
    "```\n",
    "\n",
    "It is a convention to call the first variable `self` when defining a method.\n",
    "Calling `distance` this way:\n",
    "\n",
    "```\n",
    "p1.distance(p2)\n",
    "```\n",
    "\n",
    "means `p1` will be `self` and `p2` will be the \"other\" point.  Since both `p1` and `p2` are points,\n",
    "`p2` has a `distance`  method, too, and we can just as well call it this way:\n",
    "\n",
    "```\n",
    "p2.distance(p1)\n",
    "```\n",
    "\n",
    "and in this case `p2` is `self`  and `p1` is the other point.   Because\n",
    "of the way the function is defined, the result will be the same:\n"
   ]
  },
  {
   "cell_type": "code",
   "execution_count": null,
   "metadata": {},
   "outputs": [],
   "source": [
    "print((p2.distance(p1)))"
   ]
  },
  {
   "cell_type": "code",
   "execution_count": null,
   "metadata": {},
   "outputs": [],
   "source": [
    "p1 = Point(3,4)"
   ]
  },
  {
   "cell_type": "markdown",
   "metadata": {},
   "source": [
    "Notise what `__init__` does. It sets the two important attributes of the point, its `x`-coordinate\n",
    "and its `y`-coordinate. \n",
    "\n",
    "```\n",
    "def __init__(self, x, y):\n",
    "    self.x = x\n",
    "    self.y = y\n",
    "```\n",
    "\n",
    "So every point is defined to have these attributes when created, and these attributes can be\n",
    "retrieved whenever needed.  "
   ]
  },
  {
   "cell_type": "code",
   "execution_count": null,
   "metadata": {},
   "outputs": [],
   "source": [
    "p1 = Point(3,4)\n",
    "print((p1.x))\n",
    "print((p1.y))"
   ]
  },
  {
   "cell_type": "markdown",
   "metadata": {},
   "source": [
    "Notice that both the `distance` and `distance_from_origin` methods\n",
    "use these values in their definitions.\n",
    "\n",
    "We can see what methods are defined for an instance of a class by using the `dir` (directory)\n",
    "function:"
   ]
  },
  {
   "cell_type": "code",
   "execution_count": 9,
   "metadata": {},
   "outputs": [
    {
     "data": {
      "text/plain": [
       "['__class__',\n",
       " '__delattr__',\n",
       " '__dict__',\n",
       " '__dir__',\n",
       " '__doc__',\n",
       " '__eq__',\n",
       " '__format__',\n",
       " '__ge__',\n",
       " '__getattribute__',\n",
       " '__gt__',\n",
       " '__hash__',\n",
       " '__init__',\n",
       " '__init_subclass__',\n",
       " '__le__',\n",
       " '__lt__',\n",
       " '__module__',\n",
       " '__ne__',\n",
       " '__new__',\n",
       " '__reduce__',\n",
       " '__reduce_ex__',\n",
       " '__repr__',\n",
       " '__setattr__',\n",
       " '__sizeof__',\n",
       " '__str__',\n",
       " '__subclasshook__',\n",
       " '__weakref__',\n",
       " 'distance',\n",
       " 'distance_from_origin',\n",
       " 'x',\n",
       " 'y']"
      ]
     },
     "execution_count": 9,
     "metadata": {},
     "output_type": "execute_result"
    }
   ],
   "source": [
    "dir(p2)"
   ]
  },
  {
   "cell_type": "markdown",
   "metadata": {},
   "source": [
    "Notice that the output of `dir` includes the `x` and `y` attributes that are set when\n",
    "the point is created. Technically `dir` just lists all the attributes  `p1` has.  The methods\n",
    "are a just a special kind of attribute that can be **called** like a function."
   ]
  },
  {
   "cell_type": "markdown",
   "metadata": {},
   "source": [
    "Continuing the discussion of the methjods defined for `Point`."
   ]
  },
  {
   "cell_type": "markdown",
   "metadata": {},
   "source": [
    "The `__str__` method defines when happens when you call `print` on a `Point` instance.\n",
    "What should the user see?  What is important?  Well, the fact that `p1` is a point\n",
    "and maybe also its `x` and `y` attributes:\n",
    "\n",
    "```\n",
    "def __str__(self):\n",
    "        return \"Point({0}, {1})\".format(self.x, self.y)\n",
    "```"
   ]
  },
  {
   "cell_type": "markdown",
   "metadata": {},
   "source": [
    "Now we print `p1` to see  the definition in action:"
   ]
  },
  {
   "cell_type": "code",
   "execution_count": 11,
   "metadata": {},
   "outputs": [
    {
     "name": "stdout",
     "output_type": "stream",
     "text": [
      "Point(3, 4)\n"
     ]
    }
   ],
   "source": [
    "print(p1)"
   ]
  },
  {
   "cell_type": "markdown",
   "metadata": {},
   "source": [
    "The `__eq__` is called whenever `==` is called on two instances of a class,\n",
    "\n",
    "Our definition of `__eq__` says that two points are `==` whenever their `x` and `y` coordinates are the same."
   ]
  },
  {
   "cell_type": "code",
   "execution_count": 12,
   "metadata": {},
   "outputs": [
    {
     "data": {
      "text/plain": [
       "False"
      ]
     },
     "execution_count": 12,
     "metadata": {},
     "output_type": "execute_result"
    }
   ],
   "source": [
    "p1 == p2"
   ]
  },
  {
   "cell_type": "code",
   "execution_count": 16,
   "metadata": {},
   "outputs": [
    {
     "data": {
      "text/plain": [
       "0.982793723247329"
      ]
     },
     "execution_count": 16,
     "metadata": {},
     "output_type": "execute_result"
    }
   ],
   "source": [
    "#from numpy import arccos\n",
    "import numpy as np\n",
    "np.arccos(2/pow(4+9,.5))"
   ]
  },
  {
   "cell_type": "markdown",
   "metadata": {},
   "source": [
    "**Optional  extended exercise**.  Modify the class so that points can either be created with\n",
    "Cartesian (x,y) coordinates or Polar coordinate (angle $\\theta$ and line length $\\rho$).\n",
    "Creating points should look like this\n",
    "\n",
    "```\n",
    ">>> from numpy import pi\n",
    ">>> p1 = Point(cartesian = (2,3))\n",
    ">>> p2 = Point(polar = (pi/3, 2))\n",
    "```\n",
    "\n",
    "You want any point, regardless of how it was created, to support the following\n",
    "\n",
    "```\n",
    ">>> p1.x\n",
    "2\n",
    ">>> p1.y\n",
    "3\n",
    ">>> p1.rho()\n",
    "3.605551275463989  # np.sqrt of 3**2 + 2**2\n",
    ">>> p1.theta()\n",
    "0.982793723247329 # np.arccos(2/13)\n",
    "```\n",
    "\n",
    "The easiest way to do this is just store x and y\n",
    "values in the `__init__` functiom.\n",
    "\n",
    "```\n",
    "self.x = x\n",
    "self.y = y\n",
    "```\n",
    "\n",
    "Of course if `Point(polar = (pi/3, 2))` has been used,\n",
    "supplying `theta` and `rho` instead of `x` and `y`,\n",
    "you will have to compute `x` and `y` from `theta` and `rho`.\n",
    "For that you can use the relationship\n",
    "\n",
    "```\n",
    "x = rho * np.cos(theta)\n",
    "y = rho * np.sin(theta)\n",
    "```\n",
    "\n",
    "What this means is that you will need to define\n",
    "the methods `rho` and `theta` as in, for example\n",
    "`p1.rho()` above.  The comments above should\n",
    "help.\n",
    "\n"
   ]
  },
  {
   "cell_type": "markdown",
   "metadata": {},
   "source": [
    "## Class and instance namespaces"
   ]
  },
  {
   "cell_type": "markdown",
   "metadata": {},
   "source": [
    "An important feature of class definitions is that the names created in the class definition are in a separate namespace.  Consider:"
   ]
  },
  {
   "cell_type": "code",
   "execution_count": null,
   "metadata": {},
   "outputs": [],
   "source": [
    "distance_from_origin(p1)"
   ]
  },
  {
   "cell_type": "markdown",
   "metadata": {},
   "source": [
    "This is a `NameError`.  The name `distance_from_origin` does not belong to the global namespace.  When\n",
    "the class `Point` was defined, the class name `Point` became part of the global name space `__main__`; hence we can use it to create a `Point` instance. "
   ]
  },
  {
   "cell_type": "code",
   "execution_count": 13,
   "metadata": {},
   "outputs": [
    {
     "data": {
      "text/plain": [
       "__main__.Point"
      ]
     },
     "execution_count": 13,
     "metadata": {},
     "output_type": "execute_result"
    }
   ],
   "source": [
    "Point"
   ]
  },
  {
   "cell_type": "markdown",
   "metadata": {},
   "source": [
    "But none of the internal methods or attributes are in the global namespace.  They are accessible only\n",
    "when using the class namespace, or the namespace that belongs to the instance of a class. Hence, given that \n",
    "`p1` and `p2` are class instances, all of the following are legal:\n",
    "\n",
    "```\n",
    "p1.distance_from_origin()\n",
    "p2.distance_from_origin()\n",
    "Point.distance_from_origin(p1)\n",
    "p1.x\n",
    "p1.y\n",
    "p2.x\n",
    "p2.y\n",
    "```\n",
    "\n",
    "Note that `x` and `y` are in the name spaces for `p1` and `p2` because the `__init__` method for `Point`\n",
    "sets those attributes with the lines:\n",
    "\n",
    "```\n",
    "self.x = x\n",
    "self.y = y\n",
    "```\n"
   ]
  },
  {
   "cell_type": "markdown",
   "metadata": {},
   "source": [
    "## Python types and classes"
   ]
  },
  {
   "cell_type": "markdown",
   "metadata": {},
   "source": [
    "Here's an interesting feature of Python: All of the special things  you can do with types\n",
    "are in fact special **methods** defined for those types, just as if they were instance\n",
    "of a class.  So retrieving something from a dictionary or a list uses the \n",
    "\n",
    "```\n",
    "__getitem__\n",
    "```\n",
    "\n",
    "method."
   ]
  },
  {
   "cell_type": "code",
   "execution_count": 29,
   "metadata": {},
   "outputs": [
    {
     "data": {
      "text/plain": [
       "1"
      ]
     },
     "execution_count": 29,
     "metadata": {},
     "output_type": "execute_result"
    }
   ],
   "source": [
    "D = dict(a=1,b=2)\n",
    "D.__getitem__('a')"
   ]
  },
  {
   "cell_type": "markdown",
   "metadata": {},
   "source": [
    "This is equivalent to the much more convenient way of saying it we've learned:"
   ]
  },
  {
   "cell_type": "code",
   "execution_count": null,
   "metadata": {},
   "outputs": [],
   "source": [
    "D['a']"
   ]
  },
  {
   "cell_type": "markdown",
   "metadata": {},
   "source": [
    "If you use the `dir` function on `D`, you can see all the other special methods defined\n",
    "for dictionaries."
   ]
  },
  {
   "cell_type": "code",
   "execution_count": 31,
   "metadata": {},
   "outputs": [
    {
     "data": {
      "text/plain": [
       "['__class__',\n",
       " '__contains__',\n",
       " '__delattr__',\n",
       " '__delitem__',\n",
       " '__dir__',\n",
       " '__doc__',\n",
       " '__eq__',\n",
       " '__format__',\n",
       " '__ge__',\n",
       " '__getattribute__',\n",
       " '__getitem__',\n",
       " '__gt__',\n",
       " '__hash__',\n",
       " '__init__',\n",
       " '__init_subclass__',\n",
       " '__iter__',\n",
       " '__le__',\n",
       " '__len__',\n",
       " '__lt__',\n",
       " '__ne__',\n",
       " '__new__',\n",
       " '__reduce__',\n",
       " '__reduce_ex__',\n",
       " '__repr__',\n",
       " '__setattr__',\n",
       " '__setitem__',\n",
       " '__sizeof__',\n",
       " '__str__',\n",
       " '__subclasshook__',\n",
       " 'clear',\n",
       " 'copy',\n",
       " 'fromkeys',\n",
       " 'get',\n",
       " 'items',\n",
       " 'keys',\n",
       " 'pop',\n",
       " 'popitem',\n",
       " 'setdefault',\n",
       " 'update',\n",
       " 'values']"
      ]
     },
     "execution_count": 31,
     "metadata": {},
     "output_type": "execute_result"
    }
   ],
   "source": [
    "dir(D)"
   ]
  },
  {
   "cell_type": "markdown",
   "metadata": {},
   "source": [
    "The `__getitem__` method is also define for lists and tuples, but of course works slightly differently than\n",
    "it does for dictionaries."
   ]
  },
  {
   "cell_type": "code",
   "execution_count": 32,
   "metadata": {},
   "outputs": [],
   "source": [
    "T = tuple(range(4))"
   ]
  },
  {
   "cell_type": "code",
   "execution_count": 33,
   "metadata": {},
   "outputs": [
    {
     "data": {
      "text/plain": [
       "(0, 1, 2, 3)"
      ]
     },
     "execution_count": 33,
     "metadata": {},
     "output_type": "execute_result"
    }
   ],
   "source": [
    "T"
   ]
  },
  {
   "cell_type": "code",
   "execution_count": 34,
   "metadata": {},
   "outputs": [
    {
     "data": {
      "text/plain": [
       "2"
      ]
     },
     "execution_count": 34,
     "metadata": {},
     "output_type": "execute_result"
    }
   ],
   "source": [
    "T.__getitem__(2)"
   ]
  },
  {
   "cell_type": "markdown",
   "metadata": {},
   "source": [
    "Notice that the dictionary directory listing above shows that a dictionary is defined for\n",
    "the `__setitem__` method.  This is the one called for assigning values.\n",
    "\n",
    "So"
   ]
  },
  {
   "cell_type": "code",
   "execution_count": null,
   "metadata": {},
   "outputs": [],
   "source": [
    "D['a'] = 2"
   ]
  },
  {
   "cell_type": "code",
   "execution_count": null,
   "metadata": {},
   "outputs": [],
   "source": [
    "D"
   ]
  },
  {
   "cell_type": "markdown",
   "metadata": {},
   "source": [
    "The assignment is equivalent to"
   ]
  },
  {
   "cell_type": "code",
   "execution_count": null,
   "metadata": {},
   "outputs": [],
   "source": [
    "D.__setitem__('a',2)"
   ]
  },
  {
   "cell_type": "code",
   "execution_count": null,
   "metadata": {},
   "outputs": [],
   "source": [
    "D"
   ]
  },
  {
   "cell_type": "markdown",
   "metadata": {},
   "source": [
    "Based on what you know about tuples, you should be able to guess whether or not tuples have a `__setitem__` method.\n",
    "But let's check:"
   ]
  },
  {
   "cell_type": "code",
   "execution_count": 38,
   "metadata": {},
   "outputs": [
    {
     "data": {
      "text/plain": [
       "4"
      ]
     },
     "execution_count": 38,
     "metadata": {},
     "output_type": "execute_result"
    }
   ],
   "source": [
    "len(T)"
   ]
  },
  {
   "cell_type": "code",
   "execution_count": 35,
   "metadata": {},
   "outputs": [
    {
     "data": {
      "text/plain": [
       "['__add__',\n",
       " '__class__',\n",
       " '__contains__',\n",
       " '__delattr__',\n",
       " '__dir__',\n",
       " '__doc__',\n",
       " '__eq__',\n",
       " '__format__',\n",
       " '__ge__',\n",
       " '__getattribute__',\n",
       " '__getitem__',\n",
       " '__getnewargs__',\n",
       " '__gt__',\n",
       " '__hash__',\n",
       " '__init__',\n",
       " '__init_subclass__',\n",
       " '__iter__',\n",
       " '__le__',\n",
       " '__len__',\n",
       " '__lt__',\n",
       " '__mul__',\n",
       " '__ne__',\n",
       " '__new__',\n",
       " '__reduce__',\n",
       " '__reduce_ex__',\n",
       " '__repr__',\n",
       " '__rmul__',\n",
       " '__setattr__',\n",
       " '__sizeof__',\n",
       " '__str__',\n",
       " '__subclasshook__',\n",
       " 'count',\n",
       " 'index']"
      ]
     },
     "execution_count": 35,
     "metadata": {},
     "output_type": "execute_result"
    }
   ],
   "source": [
    "dir(T)"
   ]
  },
  {
   "cell_type": "markdown",
   "metadata": {},
   "source": [
    "Nope.  No  `__setitem__` method.  Reasonably so, since tuples are immutable."
   ]
  },
  {
   "cell_type": "markdown",
   "metadata": {},
   "source": [
    "Notice that both the dictionary and tuple `dir` listing include the `__str__` method.  This has the\n",
    "same use we saw above with the user-defined class `Point`: It defines the string representation\n",
    "that is used when `print` is called on a dictionary or a tuple.  So with dictionaries\n",
    "it will print out the familiar curly braces and with lists the familiar square brackets."
   ]
  },
  {
   "cell_type": "markdown",
   "metadata": {},
   "source": [
    "Notice that all the `dir` outputs above include the `__init__` method.  That is a method that is\n",
    "always called when either a instance of a basic type or an instance of a class is called.  Notice that the syntax of creating instances is the same both cases:  The name of the type/class is called.  So we can create lists and tuples with the `list` and `tuple` function, just as we can create points with the `Point` function."
   ]
  },
  {
   "cell_type": "markdown",
   "metadata": {},
   "source": [
    "Finally there is the `__eq__` method, which defines when two instances of a type  are `==`.  For lists\n",
    "this tells Python to look at each of the corresponding elements and se if they are `==`."
   ]
  },
  {
   "cell_type": "code",
   "execution_count": null,
   "metadata": {},
   "outputs": [],
   "source": [
    "L = [1,2,3]\n",
    "M = [1,2,3]\n",
    "L == M"
   ]
  },
  {
   "cell_type": "code",
   "execution_count": null,
   "metadata": {},
   "outputs": [],
   "source": [
    "L.__eq__(M)"
   ]
  },
  {
   "cell_type": "code",
   "execution_count": null,
   "metadata": {},
   "outputs": [],
   "source": [
    "def __eq__ ():\n",
    "    if   :\n",
    "        return True\n",
    "    else:\n",
    "        ??"
   ]
  },
  {
   "cell_type": "markdown",
   "metadata": {},
   "source": [
    "So the moral of the story is that we can pretty much think of classes and types in the same way.\n",
    "\n",
    "The behavior of a class or type is characterized by a set of methods defined by the user for user-defined\n",
    "classes, and by Python for Python types.  THere is a set of methods with names of the form `__<name>__`\n",
    "that have conventional interpretations across types and classes.  "
   ]
  },
  {
   "cell_type": "code",
   "execution_count": null,
   "metadata": {},
   "outputs": [],
   "source": [
    "list()"
   ]
  },
  {
   "cell_type": "code",
   "execution_count": null,
   "metadata": {},
   "outputs": [],
   "source": [
    "list('abc')"
   ]
  },
  {
   "cell_type": "markdown",
   "metadata": {},
   "source": [
    "## Another customized class example: More about dunder methods"
   ]
  },
  {
   "cell_type": "markdown",
   "metadata": {},
   "source": [
    "Those under the hood\n",
    "Python methds with double underscore (`__`) in their names and special\n",
    "interpretations are sometimes called **dunder** methods.\n",
    "\n",
    "The following example is from *Fluent Python* by Luciano Ramalho. llustrates how you can make something behave like a **sequence**\n",
    "just by defining `__len__` and `__get_item__`."
   ]
  },
  {
   "cell_type": "code",
   "execution_count": 48,
   "metadata": {},
   "outputs": [],
   "source": [
    "import collections\n",
    "\n",
    "Card = collections.namedtuple('Card', ['rank', 'suit'])\n",
    "\n",
    "class FrenchDeck:\n",
    "    ranks = [str(n) for n in range(2, 11)] + list('JQKA')\n",
    "    suits = 'spades diamonds clubs hearts'.split()\n",
    "\n",
    "    def __init__(self):\n",
    "        self._cards = [Card(rank, suit) for suit in self.suits\n",
    "                                        for rank in self.ranks]\n",
    "        self._x = range(3)\n",
    "\n",
    "    def __len__(self):\n",
    "        return len(self._cards)\n",
    "\n",
    "    def __getitem__(self, position):\n",
    "        return self._cards[position]"
   ]
  },
  {
   "cell_type": "code",
   "execution_count": 63,
   "metadata": {},
   "outputs": [],
   "source": [
    "deck = FrenchDeck()"
   ]
  },
  {
   "cell_type": "code",
   "execution_count": 50,
   "metadata": {},
   "outputs": [
    {
     "data": {
      "text/plain": [
       "<__main__.FrenchDeck at 0x7f905fae51d0>"
      ]
     },
     "execution_count": 50,
     "metadata": {},
     "output_type": "execute_result"
    }
   ],
   "source": [
    "deck"
   ]
  },
  {
   "cell_type": "markdown",
   "metadata": {},
   "source": [
    "The following works because the `__len__` method is defined for the class `FrenchDeck`."
   ]
  },
  {
   "cell_type": "code",
   "execution_count": 64,
   "metadata": {
    "scrolled": false
   },
   "outputs": [
    {
     "data": {
      "text/plain": [
       "52"
      ]
     },
     "execution_count": 64,
     "metadata": {},
     "output_type": "execute_result"
    }
   ],
   "source": [
    "len(deck)"
   ]
  },
  {
   "cell_type": "markdown",
   "metadata": {},
   "source": [
    "Let's look look at what's in a deck, cards."
   ]
  },
  {
   "cell_type": "code",
   "execution_count": 65,
   "metadata": {},
   "outputs": [],
   "source": [
    "card1 = Card('J','diamonds')"
   ]
  },
  {
   "cell_type": "code",
   "execution_count": 66,
   "metadata": {
    "scrolled": true
   },
   "outputs": [
    {
     "data": {
      "text/plain": [
       "True"
      ]
     },
     "execution_count": 66,
     "metadata": {},
     "output_type": "execute_result"
    }
   ],
   "source": [
    "isinstance(card1, tuple)"
   ]
  },
  {
   "cell_type": "markdown",
   "metadata": {},
   "source": [
    "A card is just a named tuple, a specialization of the builtin type `tuple` provided\n",
    "by the Python collections module.\n",
    "\n",
    "What's special is that the first and second positions in the 2-tuple have names."
   ]
  },
  {
   "cell_type": "code",
   "execution_count": 61,
   "metadata": {
    "scrolled": false
   },
   "outputs": [
    {
     "data": {
      "text/plain": [
       "Card(rank='J', suit='diamonds')"
      ]
     },
     "execution_count": 61,
     "metadata": {},
     "output_type": "execute_result"
    }
   ],
   "source": [
    "card1 "
   ]
  },
  {
   "cell_type": "markdown",
   "metadata": {},
   "source": [
    "So the tuple can be accessed like this;"
   ]
  },
  {
   "cell_type": "code",
   "execution_count": 54,
   "metadata": {},
   "outputs": [
    {
     "data": {
      "text/plain": [
       "('J', 'diamonds')"
      ]
     },
     "execution_count": 54,
     "metadata": {},
     "output_type": "execute_result"
    }
   ],
   "source": [
    "card1[0],card1[1]"
   ]
  },
  {
   "cell_type": "markdown",
   "metadata": {},
   "source": [
    "or like this:"
   ]
  },
  {
   "cell_type": "code",
   "execution_count": 71,
   "metadata": {},
   "outputs": [
    {
     "data": {
      "text/plain": [
       "('J', 'diamonds')"
      ]
     },
     "execution_count": 71,
     "metadata": {},
     "output_type": "execute_result"
    }
   ],
   "source": [
    "card1.rank,card1.suit"
   ]
  },
  {
   "cell_type": "markdown",
   "metadata": {},
   "source": [
    "Meanwhile our `FrenchDeck` class has many of the properties of\n",
    "a list of tuples, because it is defined for `__getitem__` and\n",
    "implements the getting through a list (`self._cards`)."
   ]
  },
  {
   "cell_type": "markdown",
   "metadata": {},
   "source": [
    "For example, the `FrenchDeck` class works with `in`:"
   ]
  },
  {
   "cell_type": "code",
   "execution_count": 39,
   "metadata": {
    "scrolled": true
   },
   "outputs": [
    {
     "data": {
      "text/plain": [
       "True"
      ]
     },
     "execution_count": 39,
     "metadata": {},
     "output_type": "execute_result"
    }
   ],
   "source": [
    "card1 in deck"
   ]
  },
  {
   "cell_type": "markdown",
   "metadata": {},
   "source": [
    "It can be indexed like a list, with integer position-indexes."
   ]
  },
  {
   "cell_type": "code",
   "execution_count": 58,
   "metadata": {},
   "outputs": [
    {
     "data": {
      "text/plain": [
       "Card(rank='4', suit='spades')"
      ]
     },
     "execution_count": 58,
     "metadata": {},
     "output_type": "execute_result"
    }
   ],
   "source": [
    "deck[2]"
   ]
  },
  {
   "cell_type": "markdown",
   "metadata": {},
   "source": [
    "It can be sliced and looped through like a list."
   ]
  },
  {
   "cell_type": "code",
   "execution_count": 59,
   "metadata": {},
   "outputs": [
    {
     "name": "stdout",
     "output_type": "stream",
     "text": [
      "Card(rank='4', suit='diamonds')\n",
      "Card(rank='5', suit='diamonds')\n",
      "Card(rank='6', suit='diamonds')\n",
      "Card(rank='7', suit='diamonds')\n",
      "Card(rank='8', suit='diamonds')\n"
     ]
    }
   ],
   "source": [
    "for cd in deck[15:20]:\n",
    "    print(cd)"
   ]
  },
  {
   "cell_type": "markdown",
   "metadata": {},
   "source": [
    "The for-loop works because for any class defined for `__getitem__` but not\n",
    "`__iter__`, Python tries to loop by using successively higher numerical\n",
    "indices, and we have set things up in `__getitem__` so that that works.\n",
    "\n",
    "Warning: This feature can bite you, especially if you're not thinking about\n",
    "it.   Consider the following silly but seemingly harmless class definition.\n",
    "\n",
    "```\n",
    "class Foo:\n",
    "\n",
    "   def __init__ (self, a):\n",
    "       self.a = a\n",
    "       \n",
    "   def __getitem__(self, b):\n",
    "       return self.a\n",
    " \n",
    "\n",
    ">>> f = Foo(1)\n",
    ">>> f[0], f[1]\n",
    "(1,1)\n",
    ">>> 1 in f\n",
    "True\n",
    "```\n",
    "\n",
    "So we seem to have defined a container that\n",
    "contains 1 in every position.\n",
    "\n",
    "But now we try:\n",
    "\n",
    "```\n",
    ">>> 2 in f\n",
    "True\n",
    "```\n",
    "\n",
    "This seemingless harmless `in` request does not return `False`\n",
    "or raise an error; it sends you into\n",
    "an infinite loop.  This is because this call to `in` is a request \n",
    "to iterate through `f` seeking something equal to `2`.  So Python\n",
    "tries the indices 0,1,2,3,... always returning 1 and having\n",
    "no way to stop iterating.\n",
    "\n",
    "So when implementing `__getitem__` either define an `__iter__` method\n",
    "explicitly with some way to stop built in or delegate to something\n",
    "that has criteria for stopping the iteration, as in the definition\n",
    "of `FrenchDeck`, where `__getitem__` delegates the work to a list."
   ]
  },
  {
   "cell_type": "code",
   "execution_count": 73,
   "metadata": {},
   "outputs": [
    {
     "data": {
      "text/plain": [
       "True"
      ]
     },
     "execution_count": 73,
     "metadata": {},
     "output_type": "execute_result"
    }
   ],
   "source": [
    "1 in f"
   ]
  },
  {
   "cell_type": "code",
   "execution_count": 72,
   "metadata": {},
   "outputs": [
    {
     "data": {
      "text/plain": [
       "(1, 1)"
      ]
     },
     "execution_count": 72,
     "metadata": {},
     "output_type": "execute_result"
    }
   ],
   "source": [
    "f[0], f[1]"
   ]
  },
  {
   "cell_type": "markdown",
   "metadata": {},
   "source": [
    "## Classes provided by a module"
   ]
  },
  {
   "cell_type": "markdown",
   "metadata": {},
   "source": [
    "An important point to be aware of is that many packages will provide their services via a class.\n",
    "\n",
    "Therefore to use the modules correctly, you will have to create instances of the class (supplying all the\n",
    "obligatory arguments), and know what the appropriate methods for that class are.\n",
    "\n",
    "We already saw an example of this in teh functions notebook when we used the `networkx` package and created graph instance.\n",
    "\n",
    "Here's another simple example, to illustrate."
   ]
  },
  {
   "cell_type": "code",
   "execution_count": 7,
   "metadata": {},
   "outputs": [
    {
     "data": {
      "text/plain": [
       "array([1, 6, 3, 2])"
      ]
     },
     "execution_count": 7,
     "metadata": {},
     "output_type": "execute_result"
    }
   ],
   "source": [
    "# Import the numpy module and give it the nickname np\n",
    "import numpy as np\n",
    "a = np.array([1,6,3,2])\n",
    "a"
   ]
  },
  {
   "cell_type": "markdown",
   "metadata": {},
   "source": [
    "The object `a` is a `numpy` `array`.  This is\n",
    "a class defined in the `numpy` module for\n",
    "primarily for storing numerical data\n",
    "in sequential and table form. In\n",
    "this case we've constructed a 1D array that looks\n",
    "a lot like like a list and shares many logical\n",
    "properties with lists, including\n",
    "being sequential, and being modifiable.\n",
    "\n",
    "But there are also many attributes and methods that\n",
    "`numpy` ndarrays have that lists don't."
   ]
  },
  {
   "cell_type": "code",
   "execution_count": 27,
   "metadata": {},
   "outputs": [
    {
     "name": "stdout",
     "output_type": "stream",
     "text": [
      "a [1 6 3 2]\n",
      "a.shape (4,)\n",
      "a.reshape((2,2)):\n",
      "[[1 6]\n",
      " [3 2]]\n",
      "reshaped a's shape (2, 2)\n",
      "a.min() 1 a.max() 6\n",
      "\n",
      "a after sorting [1 2 3 6]\n",
      "a.reshape((2,2)):\n",
      "[[1 2]\n",
      " [3 6]]\n",
      "a again (order of elements changed but shape unchanged) [1 2 3 6]\n"
     ]
    }
   ],
   "source": [
    "a = np.array([1,6,3,2])\n",
    "print('a', a)\n",
    "print('a.shape', a.shape)\n",
    "print('a.reshape((2,2)):')\n",
    "print( a.reshape((2,2)))\n",
    "print(\"reshaped a's shape\", a.reshape((2,2)).shape)\n",
    "print(\"a.min()\", a.min(),\"a.max()\", a.max())\n",
    "print()\n",
    "a.sort()\n",
    "print('a after sorting', a)\n",
    "print('a.reshape((2,2)):')\n",
    "print(a.reshape((2,2)))\n",
    "print('a again (order of elements changed but shape unchanged)', a)"
   ]
  },
  {
   "cell_type": "markdown",
   "metadata": {},
   "source": [
    "Try the same things on a list."
   ]
  },
  {
   "cell_type": "code",
   "execution_count": 33,
   "metadata": {},
   "outputs": [
    {
     "ename": "AttributeError",
     "evalue": "'list' object has no attribute 'min'",
     "output_type": "error",
     "traceback": [
      "\u001b[0;31m---------------------------------------------------------------------------\u001b[0m",
      "\u001b[0;31mAttributeError\u001b[0m                            Traceback (most recent call last)",
      "\u001b[0;32m<ipython-input-33-88976223a655>\u001b[0m in \u001b[0;36m<module>\u001b[0;34m\u001b[0m\n\u001b[1;32m      1\u001b[0m \u001b[0mL\u001b[0m \u001b[0;34m=\u001b[0m \u001b[0;34m[\u001b[0m\u001b[0;36m1\u001b[0m\u001b[0;34m,\u001b[0m\u001b[0;36m6\u001b[0m\u001b[0;34m,\u001b[0m\u001b[0;36m3\u001b[0m\u001b[0;34m,\u001b[0m\u001b[0;36m2\u001b[0m\u001b[0;34m]\u001b[0m\u001b[0;34m\u001b[0m\u001b[0;34m\u001b[0m\u001b[0m\n\u001b[0;32m----> 2\u001b[0;31m \u001b[0mprint\u001b[0m\u001b[0;34m(\u001b[0m\u001b[0mL\u001b[0m\u001b[0;34m.\u001b[0m\u001b[0mmin\u001b[0m\u001b[0;34m(\u001b[0m\u001b[0;34m)\u001b[0m\u001b[0;34m)\u001b[0m\u001b[0;34m\u001b[0m\u001b[0;34m\u001b[0m\u001b[0m\n\u001b[0m",
      "\u001b[0;31mAttributeError\u001b[0m: 'list' object has no attribute 'min'"
     ]
    }
   ],
   "source": [
    "L = [1,6,3,2]\n",
    "print(L.min())"
   ]
  },
  {
   "cell_type": "markdown",
   "metadata": {},
   "source": [
    "Error.  Method not right for lists."
   ]
  },
  {
   "cell_type": "code",
   "execution_count": null,
   "metadata": {},
   "outputs": [],
   "source": [
    "L.sort()\n",
    "print(L)"
   ]
  },
  {
   "cell_type": "markdown",
   "metadata": {},
   "source": [
    "We can sort L with similar results to sorting an array.\n",
    "\n",
    "But a list doesn't have a shape.  It's intrinsically 1 D."
   ]
  },
  {
   "cell_type": "code",
   "execution_count": 16,
   "metadata": {},
   "outputs": [
    {
     "name": "stdout",
     "output_type": "stream",
     "text": [
      "[1, 2, 3, 6]\n"
     ]
    },
    {
     "ename": "AttributeError",
     "evalue": "'list' object has no attribute 'shape'",
     "output_type": "error",
     "traceback": [
      "\u001b[0;31m---------------------------------------------------------------------------\u001b[0m",
      "\u001b[0;31mAttributeError\u001b[0m                            Traceback (most recent call last)",
      "\u001b[0;32m<ipython-input-16-deb7fab536a0>\u001b[0m in \u001b[0;36m<module>\u001b[0;34m\u001b[0m\n\u001b[1;32m      1\u001b[0m \u001b[0mL\u001b[0m\u001b[0;34m.\u001b[0m\u001b[0msort\u001b[0m\u001b[0;34m(\u001b[0m\u001b[0;34m)\u001b[0m\u001b[0;34m\u001b[0m\u001b[0;34m\u001b[0m\u001b[0m\n\u001b[1;32m      2\u001b[0m \u001b[0mprint\u001b[0m\u001b[0;34m(\u001b[0m\u001b[0mL\u001b[0m\u001b[0;34m)\u001b[0m\u001b[0;34m\u001b[0m\u001b[0;34m\u001b[0m\u001b[0m\n\u001b[0;32m----> 3\u001b[0;31m \u001b[0mprint\u001b[0m\u001b[0;34m(\u001b[0m\u001b[0mL\u001b[0m\u001b[0;34m.\u001b[0m\u001b[0mshape\u001b[0m\u001b[0;34m)\u001b[0m\u001b[0;34m\u001b[0m\u001b[0;34m\u001b[0m\u001b[0m\n\u001b[0m",
      "\u001b[0;31mAttributeError\u001b[0m: 'list' object has no attribute 'shape'"
     ]
    }
   ],
   "source": [
    "print(L.shape)"
   ]
  },
  {
   "cell_type": "markdown",
   "metadata": {},
   "source": [
    "So we can sort both arrays and lists. But lists don't have \"shapes\"."
   ]
  },
  {
   "cell_type": "code",
   "execution_count": 36,
   "metadata": {},
   "outputs": [
    {
     "ename": "AttributeError",
     "evalue": "'list' object has no attribute 'reshape'",
     "output_type": "error",
     "traceback": [
      "\u001b[0;31m---------------------------------------------------------------------------\u001b[0m",
      "\u001b[0;31mAttributeError\u001b[0m                            Traceback (most recent call last)",
      "\u001b[0;32m<ipython-input-36-8ef3f81c16d5>\u001b[0m in \u001b[0;36m<module>\u001b[0;34m\u001b[0m\n\u001b[0;32m----> 1\u001b[0;31m \u001b[0mL\u001b[0m\u001b[0;34m.\u001b[0m\u001b[0mreshape\u001b[0m\u001b[0;34m(\u001b[0m\u001b[0;34m(\u001b[0m\u001b[0;36m2\u001b[0m\u001b[0;34m,\u001b[0m\u001b[0;36m2\u001b[0m\u001b[0;34m)\u001b[0m\u001b[0;34m)\u001b[0m\u001b[0;34m\u001b[0m\u001b[0;34m\u001b[0m\u001b[0m\n\u001b[0m",
      "\u001b[0;31mAttributeError\u001b[0m: 'list' object has no attribute 'reshape'"
     ]
    }
   ],
   "source": [
    "L.reshape((2,2))"
   ]
  },
  {
   "cell_type": "markdown",
   "metadata": {},
   "source": [
    "And consequently don't have a `reshape` method.\n",
    "\n",
    "You can usually find out what class an object belongs through its\n",
    "`__class__` attribute.\n",
    "\n",
    "You can find out whether  an instance belongs to a particular class with the builtin `isinstance` function."
   ]
  },
  {
   "cell_type": "code",
   "execution_count": 38,
   "metadata": {},
   "outputs": [
    {
     "data": {
      "text/plain": [
       "(list, numpy.ndarray, False, True)"
      ]
     },
     "execution_count": 38,
     "metadata": {},
     "output_type": "execute_result"
    }
   ],
   "source": [
    "L.__class__, a.__class__, isinstance(a,list), isinstance(a,np.ndarray)"
   ]
  },
  {
   "cell_type": "markdown",
   "metadata": {},
   "source": [
    "So far, we know an array has a `shape` **attribute** (looked up with no parentheses), like so\n",
    "\n",
    "```\n",
    "a.shape`\n",
    "```\n",
    "\n",
    "and `min`,`max`,`reshape`, and `sort` **methods**, all used with parentheses, which in some \n",
    "cases may enclose one or more **argument**s.\n",
    "\n",
    "```\n",
    "a.min(),a.max(),a.reshape((2,2)),a.sort()\n",
    "```\n",
    "\n",
    "You can find all the methods and attributes of a `n with the builtin `dir` (directory) function."
   ]
  },
  {
   "cell_type": "code",
   "execution_count": 5,
   "metadata": {},
   "outputs": [
    {
     "data": {
      "text/plain": [
       "['T',\n",
       " '__abs__',\n",
       " '__add__',\n",
       " '__and__',\n",
       " '__array__',\n",
       " '__array_finalize__',\n",
       " '__array_function__',\n",
       " '__array_interface__',\n",
       " '__array_prepare__',\n",
       " '__array_priority__',\n",
       " '__array_struct__',\n",
       " '__array_ufunc__',\n",
       " '__array_wrap__',\n",
       " '__bool__',\n",
       " '__class__',\n",
       " '__complex__',\n",
       " '__contains__',\n",
       " '__copy__',\n",
       " '__deepcopy__',\n",
       " '__delattr__',\n",
       " '__delitem__',\n",
       " '__dir__',\n",
       " '__divmod__',\n",
       " '__doc__',\n",
       " '__eq__',\n",
       " '__float__',\n",
       " '__floordiv__',\n",
       " '__format__',\n",
       " '__ge__',\n",
       " '__getattribute__',\n",
       " '__getitem__',\n",
       " '__gt__',\n",
       " '__hash__',\n",
       " '__iadd__',\n",
       " '__iand__',\n",
       " '__ifloordiv__',\n",
       " '__ilshift__',\n",
       " '__imatmul__',\n",
       " '__imod__',\n",
       " '__imul__',\n",
       " '__index__',\n",
       " '__init__',\n",
       " '__init_subclass__',\n",
       " '__int__',\n",
       " '__invert__',\n",
       " '__ior__',\n",
       " '__ipow__',\n",
       " '__irshift__',\n",
       " '__isub__',\n",
       " '__iter__',\n",
       " '__itruediv__',\n",
       " '__ixor__',\n",
       " '__le__',\n",
       " '__len__',\n",
       " '__lshift__',\n",
       " '__lt__',\n",
       " '__matmul__',\n",
       " '__mod__',\n",
       " '__mul__',\n",
       " '__ne__',\n",
       " '__neg__',\n",
       " '__new__',\n",
       " '__or__',\n",
       " '__pos__',\n",
       " '__pow__',\n",
       " '__radd__',\n",
       " '__rand__',\n",
       " '__rdivmod__',\n",
       " '__reduce__',\n",
       " '__reduce_ex__',\n",
       " '__repr__',\n",
       " '__rfloordiv__',\n",
       " '__rlshift__',\n",
       " '__rmatmul__',\n",
       " '__rmod__',\n",
       " '__rmul__',\n",
       " '__ror__',\n",
       " '__rpow__',\n",
       " '__rrshift__',\n",
       " '__rshift__',\n",
       " '__rsub__',\n",
       " '__rtruediv__',\n",
       " '__rxor__',\n",
       " '__setattr__',\n",
       " '__setitem__',\n",
       " '__setstate__',\n",
       " '__sizeof__',\n",
       " '__str__',\n",
       " '__sub__',\n",
       " '__subclasshook__',\n",
       " '__truediv__',\n",
       " '__xor__',\n",
       " 'all',\n",
       " 'any',\n",
       " 'argmax',\n",
       " 'argmin',\n",
       " 'argpartition',\n",
       " 'argsort',\n",
       " 'astype',\n",
       " 'base',\n",
       " 'byteswap',\n",
       " 'choose',\n",
       " 'clip',\n",
       " 'compress',\n",
       " 'conj',\n",
       " 'conjugate',\n",
       " 'copy',\n",
       " 'ctypes',\n",
       " 'cumprod',\n",
       " 'cumsum',\n",
       " 'data',\n",
       " 'diagonal',\n",
       " 'dot',\n",
       " 'dtype',\n",
       " 'dump',\n",
       " 'dumps',\n",
       " 'fill',\n",
       " 'flags',\n",
       " 'flat',\n",
       " 'flatten',\n",
       " 'getfield',\n",
       " 'imag',\n",
       " 'item',\n",
       " 'itemset',\n",
       " 'itemsize',\n",
       " 'max',\n",
       " 'mean',\n",
       " 'min',\n",
       " 'nbytes',\n",
       " 'ndim',\n",
       " 'newbyteorder',\n",
       " 'nonzero',\n",
       " 'partition',\n",
       " 'prod',\n",
       " 'ptp',\n",
       " 'put',\n",
       " 'ravel',\n",
       " 'real',\n",
       " 'repeat',\n",
       " 'reshape',\n",
       " 'resize',\n",
       " 'round',\n",
       " 'searchsorted',\n",
       " 'setfield',\n",
       " 'setflags',\n",
       " 'shape',\n",
       " 'size',\n",
       " 'sort',\n",
       " 'squeeze',\n",
       " 'std',\n",
       " 'strides',\n",
       " 'sum',\n",
       " 'swapaxes',\n",
       " 'take',\n",
       " 'tobytes',\n",
       " 'tofile',\n",
       " 'tolist',\n",
       " 'tostring',\n",
       " 'trace',\n",
       " 'transpose',\n",
       " 'var',\n",
       " 'view']"
      ]
     },
     "execution_count": 5,
     "metadata": {},
     "output_type": "execute_result"
    }
   ],
   "source": [
    "dir(a)"
   ]
  },
  {
   "cell_type": "markdown",
   "metadata": {},
   "source": [
    "### Same ideas, using networkx"
   ]
  },
  {
   "cell_type": "code",
   "execution_count": 98,
   "metadata": {},
   "outputs": [],
   "source": [
    "import networkx as nx\n",
    "G = nx.Graph()"
   ]
  },
  {
   "cell_type": "markdown",
   "metadata": {},
   "source": [
    "`G` is now an empty graph, no nodes, no edges.  \n",
    "\n",
    "And that's okay."
   ]
  },
  {
   "cell_type": "code",
   "execution_count": 99,
   "metadata": {},
   "outputs": [
    {
     "data": {
      "text/plain": [
       "<networkx.classes.graph.Graph at 0x7f9060e3c290>"
      ]
     },
     "execution_count": 99,
     "metadata": {},
     "output_type": "execute_result"
    }
   ],
   "source": [
    "G"
   ]
  },
  {
   "cell_type": "markdown",
   "metadata": {},
   "source": [
    "Now let's add an edge."
   ]
  },
  {
   "cell_type": "code",
   "execution_count": 100,
   "metadata": {},
   "outputs": [],
   "source": [
    "G.add_edge(2,3)"
   ]
  },
  {
   "cell_type": "markdown",
   "metadata": {},
   "source": [
    "And now another."
   ]
  },
  {
   "cell_type": "code",
   "execution_count": 101,
   "metadata": {},
   "outputs": [],
   "source": [
    "G.add_edge(3,1)"
   ]
  },
  {
   "cell_type": "markdown",
   "metadata": {},
   "source": [
    "And a third and then some."
   ]
  },
  {
   "cell_type": "code",
   "execution_count": 102,
   "metadata": {},
   "outputs": [],
   "source": [
    "G.add_edge(1,2)\n",
    "G.add_edge(2,4)\n",
    "G.add_edge(1,5)\n",
    "G.add_edge(2,5)\n",
    "G.add_edge(3,5)\n",
    "G.add_edge(4,5)\n",
    "G.add_edge(4,1)\n",
    "G.add_edge(4,3)"
   ]
  },
  {
   "cell_type": "markdown",
   "metadata": {},
   "source": [
    "Now let's look at the nodes and edges."
   ]
  },
  {
   "cell_type": "code",
   "execution_count": 104,
   "metadata": {},
   "outputs": [
    {
     "data": {
      "text/plain": [
       "NodeView((2, 3, 1, 4, 5))"
      ]
     },
     "execution_count": 104,
     "metadata": {},
     "output_type": "execute_result"
    }
   ],
   "source": [
    "G.nodes()"
   ]
  },
  {
   "cell_type": "code",
   "execution_count": 103,
   "metadata": {},
   "outputs": [
    {
     "data": {
      "text/plain": [
       "EdgeView([(2, 3), (2, 1), (2, 4), (2, 5), (3, 1), (3, 5), (3, 4), (1, 5), (1, 4), (4, 5)])"
      ]
     },
     "execution_count": 103,
     "metadata": {},
     "output_type": "execute_result"
    }
   ],
   "source": [
    "G.edges()"
   ]
  },
  {
   "cell_type": "markdown",
   "metadata": {},
   "source": [
    "In fact,  `Graph` objects are quite complicated and have a huge number of special purpose methods in addition\n",
    "to the two we know, `nodes` and `edges`.\n",
    "\n",
    "Let's look."
   ]
  },
  {
   "cell_type": "code",
   "execution_count": 86,
   "metadata": {},
   "outputs": [
    {
     "data": {
      "text/plain": [
       "['__class__',\n",
       " '__contains__',\n",
       " '__delattr__',\n",
       " '__dict__',\n",
       " '__dir__',\n",
       " '__doc__',\n",
       " '__eq__',\n",
       " '__format__',\n",
       " '__ge__',\n",
       " '__getattribute__',\n",
       " '__getitem__',\n",
       " '__gt__',\n",
       " '__hash__',\n",
       " '__init__',\n",
       " '__init_subclass__',\n",
       " '__iter__',\n",
       " '__le__',\n",
       " '__len__',\n",
       " '__lt__',\n",
       " '__module__',\n",
       " '__ne__',\n",
       " '__new__',\n",
       " '__reduce__',\n",
       " '__reduce_ex__',\n",
       " '__repr__',\n",
       " '__setattr__',\n",
       " '__sizeof__',\n",
       " '__str__',\n",
       " '__subclasshook__',\n",
       " '__weakref__',\n",
       " '_adj',\n",
       " '_node',\n",
       " 'add_edge',\n",
       " 'add_edges_from',\n",
       " 'add_node',\n",
       " 'add_nodes_from',\n",
       " 'add_weighted_edges_from',\n",
       " 'adj',\n",
       " 'adjacency',\n",
       " 'adjlist_inner_dict_factory',\n",
       " 'adjlist_outer_dict_factory',\n",
       " 'clear',\n",
       " 'clear_edges',\n",
       " 'copy',\n",
       " 'degree',\n",
       " 'edge_attr_dict_factory',\n",
       " 'edge_subgraph',\n",
       " 'edges',\n",
       " 'get_edge_data',\n",
       " 'graph',\n",
       " 'graph_attr_dict_factory',\n",
       " 'has_edge',\n",
       " 'has_node',\n",
       " 'is_directed',\n",
       " 'is_multigraph',\n",
       " 'name',\n",
       " 'nbunch_iter',\n",
       " 'neighbors',\n",
       " 'node_attr_dict_factory',\n",
       " 'node_dict_factory',\n",
       " 'nodes',\n",
       " 'number_of_edges',\n",
       " 'number_of_nodes',\n",
       " 'order',\n",
       " 'remove_edge',\n",
       " 'remove_edges_from',\n",
       " 'remove_node',\n",
       " 'remove_nodes_from',\n",
       " 'size',\n",
       " 'subgraph',\n",
       " 'to_directed',\n",
       " 'to_directed_class',\n",
       " 'to_undirected',\n",
       " 'to_undirected_class',\n",
       " 'update']"
      ]
     },
     "execution_count": 86,
     "metadata": {},
     "output_type": "execute_result"
    }
   ],
   "source": [
    "dir(G)"
   ]
  },
  {
   "cell_type": "markdown",
   "metadata": {},
   "source": [
    "One thing you don't see is a draw method.  For that we need to call a function.\n",
    "\n",
    "Why a function and not a method?  This has to do with models of how the module will\n",
    "be used and is sometimes a matter of programmer taste.  It's also possible\n",
    "that more things than just graphs cam be drawn.\n",
    "\n",
    "Here's drawing illustrated."
   ]
  },
  {
   "cell_type": "code",
   "execution_count": 105,
   "metadata": {},
   "outputs": [
    {
     "data": {
      "image/png": "[encoded data removed]",
      "text/plain": [
       "<Figure size 432x288 with 1 Axes>"
      ]
     },
     "metadata": {},
     "output_type": "display_data"
    }
   ],
   "source": [
    "%matplotlib inline\n",
    "nx.draw_networkx(G)"
   ]
  },
  {
   "cell_type": "code",
   "execution_count": null,
   "metadata": {},
   "outputs": [],
   "source": []
  }
 ],
 "metadata": {
  "celltoolbar": "Raw Cell Format",
  "kernelspec": {
   "display_name": "Python 3",
   "language": "python",
   "name": "python3"
  },
  "language_info": {
   "codemirror_mode": {
    "name": "ipython",
    "version": 3
   },
   "file_extension": ".py",
   "mimetype": "text/x-python",
   "name": "python",
   "nbconvert_exporter": "python",
   "pygments_lexer": "ipython3",
   "version": "3.7.6"
  },
  "toc": {
   "base_numbering": 1,
   "nav_menu": {
    "height": "121px",
    "width": "252px"
   },
   "number_sections": true,
   "sideBar": true,
   "skip_h1_title": false,
   "title_cell": "Table of Contents",
   "title_sidebar": "Contents",
   "toc_cell": false,
   "toc_position": {},
   "toc_section_display": "block",
   "toc_window_display": false
  }
 },
 "nbformat": 4,
 "nbformat_minor": 1
}
