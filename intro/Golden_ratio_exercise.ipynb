{
 "cells": [
  {
   "cell_type": "markdown",
   "id": "becef2d2",
   "metadata": {},
   "source": [
    "## The golden ratio and the Fibonacci sequence\n",
    "\n",
    "Below we plot the Golden Rectangle.  The proportions of the smaller rectangle with sides \n",
    "a and b are \"golden\".  What makes them golden is that proportion of the lower rectangle,\n",
    "constructed with sides a+b and b, are the same.\n",
    "\n",
    "\n",
    "That is,\n",
    "\n",
    "$$\n",
    "\\frac{b}{a} = \\frac{b+a}{b}\n",
    "$$\n",
    "\n",
    "\n",
    "#### Useful references \n",
    "\n",
    "1. [Reich's discussion of Fibonacci numbers](https://math.temple.edu/~reich/Fib/fibo.html)\n",
    "2. [Mathworld Wolfram on loarithmic spirals.](https://mathworld.wolfram.com/LogarithmicSpiral.html)\n",
    "3. [Wikipedia spiral page.](https://en.wikipedia.org/wiki/Spiral)   See especially for definition of polar slope angle.\n",
    "4. [Wikipedia Logarithmic Spiral page.](https://en.wikipedia.org/wiki/Logarithmic_spiral)\n",
    "5. [Basic differential geometry definition definition of tangential angle](https://mathworld.wolfram.com/TangentialAngle.html)"
   ]
  },
  {
   "cell_type": "code",
   "execution_count": 463,
   "id": "be6887e4",
   "metadata": {
    "scrolled": false
   },
   "outputs": [
    {
     "data": {
      "image/png": "[encoded data removed]",
      "text/plain": [
       "<Figure size 440x440 with 1 Axes>"
      ]
     },
     "metadata": {},
     "output_type": "display_data"
    }
   ],
   "source": [
    "import numpy as np\n",
    "from matplotlib import pyplot as plt\n",
    "\n",
    "phi = 2* np.cos (np.pi/5)\n",
    "a,b = 1,phi\n",
    "\n",
    "fig, ax0 = plt.subplots(1,1,figsize=(4.4,4.4))\n",
    "\n",
    "# side b lower\n",
    "ax0.plot([0,b], [0,0],c=\"b\")\n",
    "#side b upper\n",
    "ax0.plot([0,b], [a,a],c=\"b\")\n",
    "# side a left\n",
    "ax0.plot([0,0], [0,a],c=\"r\")\n",
    "# side a right\n",
    "ax0.plot([b,b], [0,a],c=\"r\")\n",
    "\n",
    "# Lower a extension\n",
    "ax0.plot([b,b+a],[0,0],c=\"red\")\n",
    "\n",
    "#Lower b extensions\n",
    "ax0.plot([0,0],[0,-b],c=\"b\")\n",
    "ax0.plot([b+a,b+a],[0,-b],c=\"b\")\n",
    "\n",
    "# Lower Parallels\n",
    "# b part\n",
    "ax0.plot([0,b], [-b,-b],c=\"b\")\n",
    "# a part\n",
    "ax0.plot([b,b+a],[-b,-b],c=\"r\")\n",
    "\n",
    "ax0.set_aspect(\"equal\")\n",
    "ax0.set_xticks([],[])\n",
    "ax0.set_yticks([],[])\n",
    "ax0.annotate('b', xy=(b/2, .08))\n",
    "ax0.annotate('b', xy=(.08, -.54*b))\n",
    "ax0.annotate('a', xy=(b, a/2), xytext=(3, 0), textcoords=\"offset points\")\n",
    "_ = ax0.annotate('a', xy=(b+.4*a, .08), xytext=(3, 0), textcoords=\"offset points\")"
   ]
  },
  {
   "cell_type": "markdown",
   "id": "e24e7f9e",
   "metadata": {},
   "source": [
    "Letting $\\phi$ be the proportion we seek ($\\phi=b/a$), we can write:\n",
    "\n",
    "$$\n",
    "\\phi = 1 + \\frac{1}{\\phi}\n",
    "$$\n",
    "\n",
    "The positive solution to the quadratic equation is\n",
    "\n",
    "$$\n",
    "\\phi = \\frac{1 + \\sqrt{5}}{2}\n",
    "$$\n",
    "\n",
    "This number is the **Golden ratio** (yes, that's right, the god(desse)s of Math have decreed\n",
    "that the Golden Ratio is irrational).  We compute its value (as best it can be computed) in the next cell."
   ]
  },
  {
   "cell_type": "code",
   "execution_count": 464,
   "id": "9da5b3c1",
   "metadata": {
    "scrolled": true
   },
   "outputs": [
    {
     "data": {
      "text/plain": [
       "1.618033988749895"
      ]
     },
     "execution_count": 464,
     "metadata": {},
     "output_type": "execute_result"
    }
   ],
   "source": [
    "phi = (1 + np.sqrt(5))/2\n",
    "phi"
   ]
  },
  {
   "cell_type": "markdown",
   "id": "aeb13f16",
   "metadata": {},
   "source": [
    "A note:  Though we do not illustrate this in the diagram, the construction above is recursive, because the second rectangle is just as much a golden rectangle as the first.  Therefore we can repeat the construction and draw a third rectangle with sides 2b + a, b + a below the second.  That rectangle too will be golden.  And below that we can construct a fourth golden rectangle, and so on.  It's golden rectangles all the way down.\n",
    "\n",
    "We never solved for $a$ and $b$ of course. But these conclusions are true for any rectangle with golden proportions.  So consider $a=1$ and $b=\\phi$. Then the third rectangle's proportions must be golden as well\n",
    "and that means\n",
    "\n",
    "$$\n",
    "\\frac{2\\phi + 1}{\\phi + 1} = \\phi\n",
    "$$\n",
    "\n",
    "And indeed"
   ]
  },
  {
   "cell_type": "code",
   "execution_count": 465,
   "id": "c5b35446",
   "metadata": {},
   "outputs": [
    {
     "data": {
      "text/plain": [
       "1.618033988749895"
      ]
     },
     "execution_count": 465,
     "metadata": {},
     "output_type": "execute_result"
    }
   ],
   "source": [
    "(2*phi + 1)/(phi + 1)"
   ]
  },
  {
   "cell_type": "markdown",
   "id": "e8b1c9d4",
   "metadata": {},
   "source": [
    "And so also for a rectangle with sides $3\\phi+2$ and $2\\phi +1$: as we keep growing the rectangle sides\n",
    "the ratio remains constant."
   ]
  },
  {
   "cell_type": "markdown",
   "id": "27454edb",
   "metadata": {},
   "source": [
    "##  Introducing the Fibonacci sequence\n",
    "\n",
    "The Fibonacci sequence is sequence of integers which has a deep connection to the golden ratio $\\phi$.  We'll demonstrate that in a moment.  First here is the sequence:"
   ]
  },
  {
   "cell_type": "code",
   "execution_count": 297,
   "id": "41b4e1ca",
   "metadata": {},
   "outputs": [
    {
     "name": "stdout",
     "output_type": "stream",
     "text": [
      "\n",
      "1 1 2 3 5 8 13 21 34 55 89 144 233 377 610 987 1597 2584 4181 6765 10946 ...\n"
     ]
    }
   ],
   "source": [
    "a,b = (1,1)\n",
    "\n",
    "print(f\"\\n{a}\",end=\" \")\n",
    "\n",
    "for i in range(20):\n",
    "    print(f\"{b}\",end=\" \")\n",
    "    a,b = b, a+b\n",
    "    \n",
    "print(\"...\")"
   ]
  },
  {
   "cell_type": "markdown",
   "id": "ce1ed2b4",
   "metadata": {},
   "source": [
    "Note that each term after the first `1 1` is the sum of the previous two terms.  The code snippet\n",
    "just implements this simple idea, maintaining a pair consisting of the last two integers in the sequence which is used to construct the next pair.\n",
    "\n",
    "The Fibonacci Sequence crops up in many places in nature, mathematics, and applied mathematics (of which\n",
    "Computer Science is one large branch).  [Wikipedia](https://en.wikipedia.org/wiki/Fibonacci_sequence) tells us:\n",
    "\n",
    "> Applications of Fibonacci numbers include computer algorithms such as the Fibonacci search technique and the Fibonacci heap data structure, and graphs called Fibonacci cubes used for interconnecting parallel and distributed systems. They also appear in biological settings, such as branching in trees, the arrangement of leaves on a stem, the fruit sprouts of a pineapple, the flowering of an artichoke, and the arrangement of a pine cone's bracts ..."
   ]
  },
  {
   "cell_type": "markdown",
   "id": "60662164",
   "metadata": {},
   "source": [
    "And here is the first of many connections to  the Golden Ratio $\\phi$:\n",
    "At the limit, the ratio of successive terms in the Fibonacci sequence is $\\phi$.\n",
    "We demonstrate:"
   ]
  },
  {
   "cell_type": "code",
   "execution_count": 298,
   "id": "fb59a2f2",
   "metadata": {},
   "outputs": [
    {
     "name": "stdout",
     "output_type": "stream",
     "text": [
      "                       phi = 1.618033988749895\n",
      "\n",
      "  i     Fib(i-1)   Fib(i)    Fib(i)/Fib(i-1)\n",
      "------------------------------------------\n",
      "  1         1         1      1.0\n",
      "  2         1         2      2.0\n",
      "  3         2         3      1.5\n",
      "  4         3         5      1.6666666666666667\n",
      "  5         5         8      1.6\n",
      "  6         8        13      1.625\n",
      "  7        13        21      1.6153846153846154\n",
      "  8        21        34      1.619047619047619\n",
      "  9        34        55      1.6176470588235294\n",
      " 10        55        89      1.6181818181818182\n",
      " 11        89       144      1.6179775280898876\n",
      " 12       144       233      1.6180555555555556\n",
      " 13       233       377      1.6180257510729614\n",
      " 14       377       610      1.6180371352785146\n",
      " 15       610       987      1.618032786885246\n",
      " 16       987      1597      1.618034447821682\n",
      " 17      1597      2584      1.6180338134001253\n",
      " 18      2584      4181      1.618034055727554\n",
      " 19      4181      6765      1.6180339631667064\n",
      " 20      6765     10946      1.6180339985218033\n",
      " 21     10946     17711      1.618033985017358\n",
      " 22     17711     28657      1.6180339901755971\n",
      " 23     28657     46368      1.618033988205325\n",
      " 24     46368     75025      1.618033988957902\n",
      " 25     75025    121393      1.6180339886704431\n",
      " 26    121393    196418      1.6180339887802426\n",
      " 27    196418    317811      1.618033988738303\n",
      " 28    317811    514229      1.6180339887543225\n",
      " 29    514229    832040      1.6180339887482036\n",
      " 30    832040   1346269      1.6180339887505408\n"
     ]
    }
   ],
   "source": [
    "# Another way of computing phi is 2* np.cos (np.pi/5).  Explained below.\n",
    "print(f\"                       phi = {2* np.cos (np.pi/5)}\",end=\"\\n\\n\")\n",
    "   \n",
    "\n",
    "a,b = (1,1)\n",
    "print(\"  i     Fib(i-1)   Fib(i)    Fib(i)/Fib(i-1)\")\n",
    "print(\"-\"*42)\n",
    "for i in range(1,31):\n",
    "    print(f\"{i: >3d}  {a:>8d}  {b: 8d}      {b/a}\")\n",
    "    a,b = b, a+b"
   ]
  },
  {
   "cell_type": "markdown",
   "id": "1e8e5640",
   "metadata": {},
   "source": [
    "Below we'll sketch a demonstration of this wonder.  If tt doesn't exactly explain away the wonder,\n",
    "it does at least show that it must be true.\n",
    "\n",
    "The next cell contains Python code implementing a variety of ways to compute Fibonacci sequences,\n",
    "including an iterative function, a recursive function, a Python generator (really a special kind\n",
    "of iteration function), two matrix powers computations, and a closed form function (derived\n",
    "from the matrix powers algorithm).  The last is the most efficient, but not by as much as\n",
    "you might think.\n",
    "\n",
    "What the variants demonstrate is the difference between three ideas: implementation, algorithm,\n",
    "and function. An algorithm is a step-by-step recipe for computing something. Even though it\n",
    "must be specific enough to be implementable, it may still leave out many details of how\n",
    "the computation is done.  Arguably, there are only two algorithms in the code below, the \n",
    "summing of successive integer pairs we demonstrated above, and the closed form computation\n",
    "that is the result of mathematical insight.  More precisely, the algorithm we presented is\n",
    "\n",
    "$$\n",
    "\\begin{array}{ll}\n",
    "\\text{while} &\\text{ctr} < n:\\\\\n",
    "              &(a,\\, b) \\mapsto (b,\\, a + b)\\\\\n",
    "              &\\text{ctr} += 1\n",
    "\\end{array}\n",
    "$$\n",
    "\n",
    "An implementation of an algorithm is a specific\n",
    "embodiment in code.  Below we give iterative and recursive versions of the successive summing\n",
    "algorithm for computing the nth Fibonacci number.  Then we give a Python generator version,\n",
    "which is only a slight implementational variant of the iterative version, but that variant\n",
    "can have huge memory usage advantages.  Then we move on to a matrix powers implementation\n",
    "which involves taking the nth power of a matrix to compute the nth Fibonacci term.  That looks\n",
    "very different but in fact each successive multiplication by the Fibonacci matrix just maps\n",
    "$(a,\\, b)$ to $(b,\\, a + b)$ essentially the same algorithm.  We then present a variation\n",
    "of the matrix powers idea which implements taking the nth power by diagonalizing the\n",
    "Fibonacci matrix, allowing a significant speed-up because taking powers of diagonal\n",
    "matrixes is much faster. Still the matrix multiplications involved  just\n",
    "map successive values of $(a,\\, b)$ to $(b,\\, a + b)$. Finally the closed form \n",
    "computation is a genuine break.  It looks like this:\n",
    "\n",
    "$$\n",
    "\\text{F}_{n} = \\frac{1}{\\sqrt{5}}(\\phi^{n} - (1 - \\phi)^{n})\n",
    "$$\n",
    "\n",
    "No successive mapping of pairs, no successive summing. And suddenly, magically,\n",
    "$\\phi$ appears in what is probably the most compelling illustration of the deep connection of $\\phi$ \n",
    "and the Fibonacci sequence. And by the way, \n",
    "where did $\\sqrt{5}$ come from? This is a different algorithm.  Conceptually,\n",
    "it is a short step from the computation by diagonalized matrix (we sketch the step below), but\n",
    "in that step everything has changed.  And computationally, the efficiency is an improvement.\n",
    "\n",
    "Final distinction to be made. What's practical.  The closed form approach implemented\n",
    "below is faster, consistently twice as fast on my MacBookPro 18,3 with an 8-core Apple M1 Pro\n",
    "CPU.  However it does not get the right answer for large n.  For example, for $\\text{F}_{100}$\n",
    "we have\n",
    "\n",
    "$$\n",
    "\\begin{array}{l|cc|cc}\n",
    "                    &  \\text{F}_{72}  & \\Delta  &  \\text{F}_{100} & \\Delta \\\\\n",
    "                    \\hline\n",
    "\\text{Closed form}  & 498,454,011,879,265 &1 & 354,224,848,179,263,111,168 & 1,196,093\\\\\n",
    "\\text{Iterative} &  498,454,011,879,264  & \\_  &  354,224,848,179,261,915,075 & \\_\n",
    "\\end{array}\n",
    "$$\n",
    "\n",
    "At n= 72, the closed form function \n",
    "differs by 1 from the iterative function (which agrees with Google and WolframAlpha in its results);\n",
    "by n =100, the difference is nearly 1.2 million. The details may vary on various\n",
    "machines, but I'll note that Fabian Dablander (cited below) also cites major\n",
    "issues around this value of n.  \n",
    "\n",
    "The problems actually start at lower numbers.  The attentive code-reader will note\n",
    "that the definition of `fibonacci_closed_form` wraps the expression\n",
    "in the `int(...)` function before returning a value.  This is because the function \n",
    "would never return an integer value otherwise.  For example, here's the value returned for n=12\n",
    "with no `int` wrapper"
   ]
  },
  {
   "cell_type": "code",
   "execution_count": 119,
   "id": "fd6955e7",
   "metadata": {},
   "outputs": [
    {
     "data": {
      "text/plain": [
       "144.00000000000006"
      ]
     },
     "execution_count": 119,
     "metadata": {},
     "output_type": "execute_result"
    }
   ],
   "source": [
    "(phi**12 - neg_phi_inv**12)/np.sqrt(5)"
   ]
  },
  {
   "cell_type": "markdown",
   "id": "46a73782",
   "metadata": {},
   "source": [
    "The math is completely correct and completely accurate.  The problems start with the $\\sqrt{5}$\n",
    "in the definition of $\\phi$, which is an irrational number that cannot be precisely represented\n",
    "on a computer.  The minute you type `np.sqrt(5)` into Python you're dealing with an approximation. The problems then  mount up because floating point calculations generally inflate errors \n",
    "the more operations they require, and eventually, by the time you get to\n",
    "$n=100$, you have an error of over 1 million, which sounds awful, but really isn't so bad when you \n",
    "consider you're computing a number over 350 quintillion. That's an error of about\n",
    "$0.0000000000003\\%$.\n",
    "\n",
    "The moral: In the end practical considerations may trump everything, including the best\n",
    "math and computer science.  The reason to be educated about programming is to know what\n",
    "your options are.  For most conceivable purposes, an error of $0.0000000000003\\%$ will\n",
    "be no error at all and you can run with the faster alternative. However, if you\n",
    "happen to be entered in a competitive computing tournament, it may be disastrous.  The good\n",
    "old iterative algorithm we started with may well be the best option.  Other considerations\n",
    "that may affect your choice: the amount of memory on your machine, \n",
    "the structure of your problem (for example,\n",
    "whether your problem can be formulated in matrix form),\n",
    "the real world usage context (are you putting this code on a server\n",
    "with thousands of hits an hour, so that efficiency practically outweighs all\n",
    "else?), whether parallelism can be deployed, and so on."
   ]
  },
  {
   "cell_type": "code",
   "execution_count": 327,
   "id": "10cd835f",
   "metadata": {},
   "outputs": [],
   "source": [
    "from matplotlib import pyplot as plt\n",
    "import numpy as np\n",
    "from functools import cache\n",
    "\n",
    "def fibonacci_seq_n_iterative(n):\n",
    "    \"\"\"\n",
    "    Return the nth Fibonacci number.\n",
    "    \n",
    "    Classic iterative definition of fibonacci sequence.\n",
    "    \"\"\"\n",
    "    assert n > 0,\"Use only positive n\"\n",
    "    a,b=(1, 1)\n",
    "    #  This works on the corner cases n=0 n=1 because\n",
    "    #  list(range(-1)) and list(range(0)) are both []\n",
    "    #  (the right behavior if you think about\n",
    "    #  the default values for the range parameters \n",
    "    #  start and step)\n",
    "    for i in range(1,n):\n",
    "        a,b = (b, a+b)\n",
    "    return a\n",
    "\n",
    "\n",
    "@cache\n",
    "def fibonacci_seq_n (n):\n",
    "    \"\"\"\n",
    "    Return the nth Fibonacci number.\n",
    "    \n",
    "    Classic recursive definition of fibonacci sequence.\n",
    "    \n",
    "    Decorator introduces caching.\n",
    "    \"\"\"\n",
    "    assert n > 0,\"Use only positive n\"\n",
    "    if n == 1:\n",
    "        return 1\n",
    "    elif n == 2:\n",
    "        return 1\n",
    "    else:\n",
    "        return fibonacci_seq_n(n-2) + fibonacci_seq_n(n-1)\n",
    " \n",
    "def fibonacci_seq_n_generator(n):\n",
    "    \"\"\"\n",
    "    A generator that yields the Fibonacci sequence up to n or generates\n",
    "    it an integer at a time.\n",
    "    \"\"\"\n",
    "    assert n > 0,\"Use only positive n\"\n",
    "    a,b=(1, 1)\n",
    "    #  This works on the corner cases because\n",
    "    #  list(range(-1)) and list(range(0)) are both []\n",
    "    #  (the right behavior if you think about\n",
    "    #  the default values for the range parameters \n",
    "    #  start and step)\n",
    "    for i in range(n):\n",
    "        yield a\n",
    "        a,b = (b, a+b)\n",
    "        \n",
    "##########################################################################\n",
    "#  Linear Algebra computation of Fib_n using powers of a matrix \n",
    "########################################################################\n",
    "\n",
    "########################################################################\n",
    "# Things to precompute\n",
    "########################################################################\n",
    "\n",
    "# Fib relation is a linear map\n",
    "# (a b) |->  (b a+b)\n",
    "# nth Fib num is a component of (Fib_m)^n applied to [1,1]\n",
    "fib_M = np.array([[0,1],[1,1]])\n",
    "init = np.array([0,1])\n",
    "\n",
    "# fib_M eigen values are -1/phi, and phi \n",
    "# fib_M eigen vecs are unit vecs pointing in the direction\n",
    "# of (1,phi) and (1,-1/phi) !\n",
    "fib_evals, fib_evecs = np.linalg.eig(fib_M)\n",
    "# Precompute the change of basis into the eigenspace\n",
    "eigenspace_init = fib_evecs.T@init\n",
    "evals_diag = np.diag(fib_evals)\n",
    "# Some constants\n",
    "phi = (1 + np.sqrt(5))/2\n",
    "log_phi = np.log(phi)\n",
    "phi_inv = phi -1\n",
    "log_phi_inv = np.log(phi_inv)\n",
    "neg_phi_inv = -phi_inv\n",
    "## \n",
    "phi_10 = phi**(10)\n",
    "phi_m10 = phi**(-10)\n",
    "\n",
    "@cache\n",
    "def fib_matrix_power(n):\n",
    "    \"\"\"\n",
    "    Make this a function for caching\n",
    "    \"\"\"\n",
    "    return np.linalg.matrix_power(fib_M,n)\n",
    "\n",
    "\n",
    "def fibonacci_seq_n_matrix (n):\n",
    "    # Fib relation is a linear map\n",
    "    # (a b) |->  (b a+b)\n",
    "    # Return a from the nth power of the corresponding matrix\n",
    "    return (fib_matrix_power(n)@init)[0]\n",
    "\n",
    "def fibonacci_seq_n_matrix_diag(n):\n",
    "    \"\"\"\n",
    "    More efficient version of fibonacci_seq_n_matrix that uses\n",
    "    diagonalized form of fib_M\n",
    "    \"\"\"\n",
    "    #D= np.zeros((2,2))\n",
    "    #D[[0,1],[0,1]] = fib_evals**n\n",
    "    #return (fib_evecs@D@eigenspace_init)[0]\n",
    "    #return (fib_evecs@np.linalg.matrix_power(evals_diag,n)@eigenspace_init)[0]\n",
    "    return (fib_evecs@evals_diag**n@eigenspace_init)[0]\n",
    "    #return (fib_evecs@np.diag(fib_evals**n)@eigenspace_init)[0]\n",
    "\n",
    "def fibonacci_closed_form (n):\n",
    "    \"\"\"\n",
    "    Reputation as the Fastest Fib_n computation.\n",
    "    Another illustration of the close connection of phi and fib.\n",
    "    Recall that -1/phi = 1 - phi, so neg_phi_inv is defined as 1-phi.\n",
    "    \"\"\"\n",
    "    return int((phi**n - neg_phi_inv**n)/np.sqrt(5))\n",
    "\n",
    "\n",
    "def fibonacci_closed_form_exp (n):\n",
    "    \"\"\"\n",
    "    This actually has slightly greater accuracy problems for large n.  But is\n",
    "    competitive efficiency wose.\n",
    "    \"\"\"\n",
    "    return int(1/np.sqrt(5)*(np.exp(log_phi*n) - ((-1)**n) * np.exp(log_phi_inv*n)))\n",
    "\n",
    "def fibonacci_closed_form_not_really_a_help (n):\n",
    "    \"\"\"\n",
    "    Fastest Fib_n computation by far.\n",
    "    Another illustration of the close connection of phi and fib.\n",
    "    To relate to formula: Recall that -1/phi = 1 - phi.\n",
    "    \n",
    "    Note: For n>10 there seem to be some issues with high\n",
    "    powers of floating point numbers. \n",
    "    \"\"\"\n",
    "    def fib_helper (phi_amt, phim_amt):\n",
    "        return int((phi_amt - phim_amt)/np.sqrt(5))\n",
    "    if n>10:\n",
    "        (quo,rem) = divmod(n,10)\n",
    "        phi_amt = (phi_10**quo)*(phi**rem)\n",
    "        phim_amt = (phi_m10**quo)*(phi_inv**rem)\n",
    "        return fib_helper (phi_amt, phim_amt)\n",
    "    else:\n",
    "        return int((phi**n - neg_phi_inv**n)/np.sqrt(5))"
   ]
  },
  {
   "cell_type": "markdown",
   "id": "730a6409",
   "metadata": {},
   "source": [
    "## Notes on the code above\n",
    "\n",
    "After you've used it with a large value, or while debugging, it may be a good idea to do this\n",
    "because of the `@cache` decorator in teh finction definition.\n",
    "which saves whatever values it computes and does not need to do the \n",
    "full recursion the second time through a particular n."
   ]
  },
  {
   "cell_type": "code",
   "execution_count": 720,
   "id": "e56b1c5b",
   "metadata": {},
   "outputs": [],
   "source": [
    "fibonacci_seq_n.cache_clear()"
   ]
  },
  {
   "cell_type": "markdown",
   "id": "d88315d1",
   "metadata": {},
   "source": [
    "Saves memory, or while debugging it flushes possibly incorrect values."
   ]
  },
  {
   "cell_type": "code",
   "execution_count": 4,
   "id": "8c202110",
   "metadata": {},
   "outputs": [
    {
     "data": {
      "text/plain": [
       "144"
      ]
     },
     "execution_count": 4,
     "metadata": {},
     "output_type": "execute_result"
    }
   ],
   "source": [
    "fibonacci_seq_n (12)"
   ]
  },
  {
   "cell_type": "code",
   "execution_count": 7,
   "id": "fa098d22",
   "metadata": {},
   "outputs": [
    {
     "name": "stdout",
     "output_type": "stream",
     "text": [
      "12,586,269,025\n"
     ]
    }
   ],
   "source": [
    "print(f\"{fibonacci_closed_form (50):,}\")"
   ]
  },
  {
   "cell_type": "code",
   "execution_count": 8,
   "id": "34c96488",
   "metadata": {},
   "outputs": [
    {
     "data": {
      "text/plain": [
       "12586269025"
      ]
     },
     "execution_count": 8,
     "metadata": {},
     "output_type": "execute_result"
    }
   ],
   "source": [
    "fibonacci_closed_form (50)"
   ]
  },
  {
   "cell_type": "code",
   "execution_count": 9,
   "id": "b0b1eed1",
   "metadata": {},
   "outputs": [
    {
     "name": "stdout",
     "output_type": "stream",
     "text": [
      "1 1\n",
      "2 1\n",
      "3 2\n",
      "4 3\n",
      "5 5\n",
      "6 8\n",
      "7 13\n",
      "8 21\n",
      "9 34\n",
      "10 55\n",
      "11 89\n",
      "12 144\n"
     ]
    }
   ],
   "source": [
    "for i in range(1, 13):\n",
    "    print(i,fibonacci_seq_n_iterative(i))"
   ]
  },
  {
   "cell_type": "code",
   "execution_count": 10,
   "id": "4925de18",
   "metadata": {},
   "outputs": [
    {
     "data": {
      "text/plain": [
       "12586269025"
      ]
     },
     "execution_count": 10,
     "metadata": {},
     "output_type": "execute_result"
    }
   ],
   "source": [
    "fibonacci_seq_n_iterative(50)"
   ]
  },
  {
   "cell_type": "code",
   "execution_count": 11,
   "id": "68dad1fc",
   "metadata": {},
   "outputs": [
    {
     "data": {
      "text/plain": [
       "12586269025"
      ]
     },
     "execution_count": 11,
     "metadata": {},
     "output_type": "execute_result"
    }
   ],
   "source": [
    "fibonacci_seq_n(50)"
   ]
  },
  {
   "cell_type": "code",
   "execution_count": 14,
   "id": "5ab37993",
   "metadata": {},
   "outputs": [
    {
     "data": {
      "text/plain": [
       "12586269025"
      ]
     },
     "execution_count": 14,
     "metadata": {},
     "output_type": "execute_result"
    }
   ],
   "source": [
    "fibonacci_closed_form_float_issues(50)"
   ]
  },
  {
   "cell_type": "markdown",
   "id": "6774a405",
   "metadata": {},
   "source": [
    "####  Generator version"
   ]
  },
  {
   "cell_type": "code",
   "execution_count": 776,
   "id": "499923ee",
   "metadata": {},
   "outputs": [],
   "source": [
    "g = fibonacci_seq_n_generator(12)"
   ]
  },
  {
   "cell_type": "code",
   "execution_count": 777,
   "id": "324a072f",
   "metadata": {
    "scrolled": true
   },
   "outputs": [
    {
     "data": {
      "text/plain": [
       "1"
      ]
     },
     "execution_count": 777,
     "metadata": {},
     "output_type": "execute_result"
    }
   ],
   "source": [
    "next(g)"
   ]
  },
  {
   "cell_type": "code",
   "execution_count": 778,
   "id": "f721f66a",
   "metadata": {
    "scrolled": true
   },
   "outputs": [
    {
     "data": {
      "text/plain": [
       "[1, 1, 2, 3, 5, 8, 13, 21, 34, 55, 89, 144]"
      ]
     },
     "execution_count": 778,
     "metadata": {},
     "output_type": "execute_result"
    }
   ],
   "source": [
    "list(fibonacci_seq_n_generator(12))"
   ]
  },
  {
   "cell_type": "code",
   "execution_count": 4,
   "id": "48033ea6",
   "metadata": {},
   "outputs": [
    {
     "name": "stdout",
     "output_type": "stream",
     "text": [
      "[1, 1, 2, 3, 5, 8, 13, 21, 34, 55, 89, 144]\n"
     ]
    },
    {
     "ename": "StopIteration",
     "evalue": "",
     "output_type": "error",
     "traceback": [
      "\u001b[0;31m---------------------------------------------------------------------------\u001b[0m",
      "\u001b[0;31mStopIteration\u001b[0m                             Traceback (most recent call last)",
      "Cell \u001b[0;32mIn[4], line 4\u001b[0m\n\u001b[1;32m      2\u001b[0m \u001b[38;5;28mprint\u001b[39m(\u001b[38;5;28mlist\u001b[39m(g))\n\u001b[1;32m      3\u001b[0m \u001b[38;5;66;03m# this produces an error\u001b[39;00m\n\u001b[0;32m----> 4\u001b[0m \u001b[38;5;28mnext\u001b[39m(g)\n",
      "\u001b[0;31mStopIteration\u001b[0m: "
     ]
    }
   ],
   "source": [
    "g = fibonacci_seq_n_generator(12)\n",
    "print(list(g))\n",
    "# this produces an error\n",
    "next(g)"
   ]
  },
  {
   "cell_type": "code",
   "execution_count": 780,
   "id": "80d4fee1",
   "metadata": {
    "scrolled": true
   },
   "outputs": [
    {
     "name": "stdout",
     "output_type": "stream",
     "text": [
      "1\n",
      "1\n",
      "2\n",
      "3\n",
      "5\n",
      "8\n",
      "13\n",
      "21\n",
      "34\n",
      "55\n",
      "89\n",
      "144\n"
     ]
    }
   ],
   "source": [
    "for x in fibonacci_seq_n_generator(12):\n",
    "    print(x)"
   ]
  },
  {
   "cell_type": "markdown",
   "id": "e224bb15",
   "metadata": {},
   "source": [
    "## Timing results for the various Fibonacci n-functions\n",
    "\n",
    "There are some surprises awaiting.  Be aware.  Your mielage may vary.  All I can say is this is what happened on my Mac."
   ]
  },
  {
   "cell_type": "code",
   "execution_count": 861,
   "id": "96524c0d",
   "metadata": {},
   "outputs": [
    {
     "name": "stdout",
     "output_type": "stream",
     "text": [
      "2.765e-04 seconds\n"
     ]
    }
   ],
   "source": [
    "#  Default timing strategy\n",
    "import time\n",
    "\n",
    "# Dont forget to do this or this puppy will win every time\n",
    "fibonacci_seq_n.cache_clear()\n",
    "\n",
    "ctr,t1,iters = 0,time.perf_counter(),100\n",
    "n=100\n",
    "while ctr < iters:\n",
    "    # f(50) = 12,586,269,025\n",
    "    # f(100) = 354,224,848,179,261,915,075 (per google)\n",
    "    fn2 = fibonacci_seq_n (n)\n",
    "    ctr += 1\n",
    "elapsed2 = timer.timeit(iters)\n",
    "print(f\"{(time.perf_counter()-t1):.3e} seconds\")\n",
    "#print(f\"{fn2:,}\")"
   ]
  },
  {
   "cell_type": "markdown",
   "id": "00e9972c",
   "metadata": {},
   "source": [
    "Said to be better for small chunks of code.  We'll use it here."
   ]
  },
  {
   "cell_type": "code",
   "execution_count": 869,
   "id": "d3572dd5",
   "metadata": {},
   "outputs": [
    {
     "name": "stdout",
     "output_type": "stream",
     "text": [
      "Time taken: 0.000258 seconds\n"
     ]
    }
   ],
   "source": [
    "import timeit\n",
    "n,iters = 200,1000\n",
    "\n",
    "fibonacci_seq_n.cache_clear()\n",
    "# Recursive implementation, almost always the fastest, go figure\n",
    "timer = timeit.Timer(lambda: fibonacci_seq_n(n))\n",
    "elapsed3 = timer.timeit(iters)\n",
    "print(f'Time taken: {elapsed3:.6f} seconds')"
   ]
  },
  {
   "cell_type": "code",
   "execution_count": 870,
   "id": "0b251341",
   "metadata": {},
   "outputs": [
    {
     "name": "stdout",
     "output_type": "stream",
     "text": [
      "Time taken: 0.019375 seconds\n"
     ]
    }
   ],
   "source": [
    "import timeit\n",
    "n,iters = 200,1000\n",
    "\n",
    "\n",
    "# Iterative implementation\n",
    "timer = timeit.Timer(lambda: fibonacci_seq_n_iterative(n))\n",
    "elapsed3 = timer.timeit(iters)\n",
    "print(f'Time taken: {elapsed3:.6f} seconds')"
   ]
  },
  {
   "cell_type": "code",
   "execution_count": 871,
   "id": "8a5320ce",
   "metadata": {},
   "outputs": [
    {
     "name": "stdout",
     "output_type": "stream",
     "text": [
      "Time taken: 0.004295 seconds\n"
     ]
    }
   ],
   "source": [
    "import timeit\n",
    "n,iters = 200,1000\n",
    "\n",
    "# Matrix implementation plain matrix powers calculation\n",
    "timer = timeit.Timer(lambda: fibonacci_seq_n_matrix(n))\n",
    "elapsed4 = timer.timeit(iters)\n",
    "print(f'Time taken: {elapsed4:.6f} seconds')"
   ]
  },
  {
   "cell_type": "code",
   "execution_count": 872,
   "id": "550d11d0",
   "metadata": {},
   "outputs": [
    {
     "name": "stdout",
     "output_type": "stream",
     "text": [
      "Time taken: 0.011387 seconds\n"
     ]
    }
   ],
   "source": [
    "import timeit\n",
    "n,iters = 200,1000\n",
    "\n",
    "# Matrix implementation with diagonalization, eigen computations precomputed (surprisingly bad)\n",
    "timer = timeit.Timer(lambda: fibonacci_seq_n_matrix_diag(n))\n",
    "elapsed4 = timer.timeit(iters)\n",
    "print(f'Time taken: {elapsed4:.6f} seconds')"
   ]
  },
  {
   "cell_type": "code",
   "execution_count": 873,
   "id": "957e0250",
   "metadata": {},
   "outputs": [
    {
     "name": "stdout",
     "output_type": "stream",
     "text": [
      "Time taken: 0.004699 seconds\n"
     ]
    }
   ],
   "source": [
    "\n",
    "import timeit\n",
    "n,iters = 200,1000\n",
    "\n",
    "# The best closed form variant with issues discussed above\n",
    "# Surpisingly NOT the fastest\n",
    "timer = timeit.Timer(lambda: fibonacci_closed_form(n))\n",
    "elapsed22 = timer.timeit(iters)\n",
    "print(f'Time taken: {elapsed22:.6f} seconds')"
   ]
  },
  {
   "cell_type": "code",
   "execution_count": 874,
   "id": "b0b5bec8",
   "metadata": {},
   "outputs": [
    {
     "name": "stdout",
     "output_type": "stream",
     "text": [
      "Time taken: 0.008441 seconds\n"
     ]
    }
   ],
   "source": [
    "import timeit\n",
    "n,iters = 200,1000\n",
    "\n",
    "# A closed form variant using exp for exponentiation\n",
    "timer = timeit.Timer(lambda: fibonacci_closed_form_exp(n))\n",
    "elapsed23 = timer.timeit(iters)\n",
    "print(f'Time taken: {elapsed23:.6f} seconds')"
   ]
  },
  {
   "cell_type": "markdown",
   "id": "612e1b5f",
   "metadata": {},
   "source": [
    "## Accuracy results for closed form function"
   ]
  },
  {
   "cell_type": "markdown",
   "id": "298a594e",
   "metadata": {},
   "source": [
    "Restating what was said in the introduction:  The closed form computation is inaccurate\n",
    "for larger values of n; all the others using some sort of iteration of addition on integers are accurate.\n",
    "\n",
    "Here's the code to test your own version"
   ]
  },
  {
   "cell_type": "code",
   "execution_count": 875,
   "id": "0c0803b8",
   "metadata": {},
   "outputs": [
    {
     "name": "stdout",
     "output_type": "stream",
     "text": [
      "72\n",
      "Closed form: 498,454,011,879,265\n",
      "Accurate:    498,454,011,879,264\n"
     ]
    }
   ],
   "source": [
    "for n in range(20,99):\n",
    "    v1 = fibonacci_closed_form_float_issues(n) \n",
    "    v2 = fibonacci_seq_n (n)\n",
    "    if (v1 != v2):\n",
    "        print(f\"{n}\")\n",
    "        print(f\"Closed form: {v1:,}\")\n",
    "        print(f\"Accurate:    {v2:,}\")\n",
    "        break"
   ]
  },
  {
   "cell_type": "code",
   "execution_count": 876,
   "id": "7ad33ba4",
   "metadata": {},
   "outputs": [
    {
     "name": "stdout",
     "output_type": "stream",
     "text": [
      "100\n",
      "Closed form: 354,224,848,179,263,111,168\n",
      "Accurate     354,224,848,179,261,915,075\n"
     ]
    }
   ],
   "source": [
    "n=100\n",
    "v1 = fibonacci_closed_form_float_issues(n) \n",
    "v2 = fibonacci_seq_n (n)\n",
    "print(f\"{n}\")\n",
    "print(f\"Closed form: {v1:,}\")\n",
    "print(f\"Accurate     {v2:,}\")"
   ]
  },
  {
   "cell_type": "markdown",
   "id": "bf98f218",
   "metadata": {},
   "source": [
    "## The matrix calculation of Fibonacci numbers"
   ]
  },
  {
   "cell_type": "markdown",
   "id": "82677e7f",
   "metadata": {},
   "source": [
    "We implement the idea that the Fibonacci update on a vector of two integers is a Linear Map with an associated matrix.  This matrix powers approach to computing is discussed in a number of places.  I first saw it in \n",
    "[Fabian Dablander's blog post}.](https://fabiandablander.com/r/Fibonacci.html) \n",
    "\n",
    "Here's a quick demo.  We'll show how we chose the matrix `fib_M` below."
   ]
  },
  {
   "cell_type": "code",
   "execution_count": 782,
   "id": "32f6d8b4",
   "metadata": {},
   "outputs": [],
   "source": [
    "fib_M = np.array([[0,1],\n",
    "                  [1,1]])"
   ]
  },
  {
   "cell_type": "markdown",
   "id": "c6e2a2d7",
   "metadata": {},
   "source": [
    "$\\text{F}_n$ is found by applying `fib_M` repeatedly to an initial Fibonacci pair vector."
   ]
  },
  {
   "cell_type": "code",
   "execution_count": 783,
   "id": "7773886f",
   "metadata": {},
   "outputs": [],
   "source": [
    "init = np.array([0,1])\n",
    "vec = init"
   ]
  },
  {
   "cell_type": "markdown",
   "id": "7d0bd222",
   "metadata": {},
   "source": [
    "We now calculate $\\text{F}_{12}$ which rerquires calculating all $\\text{F}_{n}$ up through $\\text{F}_{12}$:"
   ]
  },
  {
   "cell_type": "code",
   "execution_count": 784,
   "id": "ebd984f4",
   "metadata": {},
   "outputs": [
    {
     "name": "stdout",
     "output_type": "stream",
     "text": [
      "  1\n",
      "  1\n",
      "  2\n",
      "  3\n",
      "  5\n",
      "  8\n",
      " 13\n",
      " 21\n",
      " 34\n",
      " 55\n",
      " 89\n",
      "144\n"
     ]
    }
   ],
   "source": [
    "for i in range(12):\n",
    "    vec = fib_M@vec\n",
    "    print(f\"{vec[0]: >3}\")"
   ]
  },
  {
   "cell_type": "markdown",
   "id": "1bf64460",
   "metadata": {},
   "source": [
    "So finding the 12th Fibonacci number amounts to taking the matrix product of `fib_M`${}^{12}$ with\n",
    "$\\left (\\begin{array}{c}0\\\\1\\end{array}\\right )$:\n"
   ]
  },
  {
   "cell_type": "code",
   "execution_count": 785,
   "id": "19ce716f",
   "metadata": {},
   "outputs": [
    {
     "data": {
      "text/plain": [
       "array([144, 233])"
      ]
     },
     "execution_count": 785,
     "metadata": {},
     "output_type": "execute_result"
    }
   ],
   "source": [
    "init = np.array([0,1])\n",
    "np.linalg.matrix_power(fib_M,12)@init"
   ]
  },
  {
   "cell_type": "markdown",
   "id": "7eeb907d",
   "metadata": {},
   "source": [
    "How we get to this: The linear transformation for the Fibonacci Sequence is\n",
    "\n",
    "$$\n",
    "T \\left ( \\begin{array}{c} a\\\\b \\end{array} \\right ) =  \\left ( \\begin{array}{c} b\\\\ a + b \\end{array} \\right )\n",
    "$$\n",
    "\n",
    "It follows that (see Dablander's blog for a detailed proof) that\n",
    "\n",
    "$$\n",
    " T ^{n}\\left ( \\begin{array}{c} 0\\\\1 \\end{array} \\right ) =\n",
    " \\left ( \\begin{array}{c} \\text{F}_{n}\\\\ \\text{F}_{n+1} \\end{array} \\right ).\n",
    "$$\n",
    "\n",
    "\n",
    "We define the two columns of the matrix for T,\n",
    "which we'll call `fib_M`, by looking at the values of T `(0,1)` and `(1,0)`.  "
   ]
  },
  {
   "cell_type": "code",
   "execution_count": 509,
   "id": "6223f151",
   "metadata": {
    "scrolled": true
   },
   "outputs": [
    {
     "data": {
      "text/plain": [
       "array([0, 1])"
      ]
     },
     "execution_count": 509,
     "metadata": {},
     "output_type": "execute_result"
    }
   ],
   "source": [
    "# Col 1 of fib_M. The result dictated by the definition of T\n",
    "fib_M@(np.array([1,0]))"
   ]
  },
  {
   "cell_type": "code",
   "execution_count": 786,
   "id": "03360f1f",
   "metadata": {
    "scrolled": true
   },
   "outputs": [
    {
     "data": {
      "text/plain": [
       "array([1, 1])"
      ]
     },
     "execution_count": 786,
     "metadata": {},
     "output_type": "execute_result"
    }
   ],
   "source": [
    "#Col 2 of fib_M\n",
    "fib_M@(np.array([0,1]))"
   ]
  },
  {
   "cell_type": "markdown",
   "id": "51bd2c72",
   "metadata": {},
   "source": [
    "Since $\\text{M}\\left ( \\begin{array}{c} 1\\\\ 0\\end{array}\\right )$ is the first column of\n",
    "$\\text{M}$  and $\\text{M}\\left ( \\begin{array}{c} 0\\\\ 1\\end{array}\\right )$ is the second, for any\n",
    "matrix M, `fib_M` is:\n",
    "\n",
    "$$\n",
    "\\left \\lbrack\n",
    "\\begin{array}{c}\n",
    "0 & 1\\\\\n",
    "1 & 1\n",
    "\\end{array}\n",
    "\\right \\rbrack\n",
    "$$"
   ]
  },
  {
   "cell_type": "markdown",
   "id": "c692e5f5",
   "metadata": {},
   "source": [
    "So Fibonacci calculations become\n",
    "\n",
    "$$\n",
    "\\left (\n",
    "\\begin{array}{c}\n",
    "\\text{F}_{n}\\\\\n",
    "\\text{F}_{n=1}\\\\\n",
    "\\end{array}\n",
    "\\right )\n",
    "=\n",
    "\\left (\n",
    "\\left \\lbrack\n",
    "\\begin{array}{c}\n",
    "0 & 1\\\\\n",
    "1 & 1\n",
    "\\end{array}\n",
    "\\right \\rbrack\n",
    "\\right)^{n}\n",
    "\\left (\n",
    "\\begin{array}{c}\n",
    "0\\\\\n",
    "1\n",
    "\\end{array}\n",
    "\\right )\n",
    "$$"
   ]
  },
  {
   "cell_type": "markdown",
   "id": "cd3467a3",
   "metadata": {},
   "source": [
    "The next step up the efficiency ladder (one would think) is to use the diagonalized version of the Fibonacci Matrix because  the nth power of a diagonal matrix is particularly easy to compute\n",
    "\n",
    "$$\n",
    "\\left\\lbrack\n",
    "\\begin{array}{cc}\n",
    "a  & 0 \\\\\n",
    "0  & b\n",
    "\\end{array}\n",
    "\\right\\rbrack ^{n} \n",
    "=\n",
    "\\left\\lbrack\n",
    "\\begin{array}{cc}\n",
    "a^n  & 0 \\\\\n",
    "0  & b^n\n",
    "\\end{array}\n",
    "\\right\\rbrack\n",
    "$$\n",
    "\n",
    "We get to the diagonal form of a matrix by factoring it into three other matrices,\n",
    "one of which is diagonal; it turns out that, in this factored form, computing the nth power of the original matrix \n",
    "is equivalent to just taking the nth power of the diagonal matrix.\n",
    "Schematically, this works as follows:\n",
    "\n",
    "$$\n",
    "\\begin{array}{llcl}\n",
    "&\n",
    "\\left\\lbrack\n",
    "\\begin{array}{cc}\n",
    "1 & 1 \\\\\n",
    "1  & 0\n",
    "\\end{array}\n",
    "\\right\\rbrack &= &\n",
    "\\text{E}\n",
    "\\left\\lbrack\n",
    "\\begin{array}{cc}\n",
    "\\lambda_{1} & 0 \\\\\n",
    "0  & \\lambda_{2}\n",
    "\\end{array}\n",
    "\\right\\rbrack\n",
    "\\text{E}^{-1}\\\\\n",
    "&\n",
    "\\left\\lbrack\n",
    "\\begin{array}{cc}\n",
    "1 & 1 \\\\\n",
    "1  & 0\n",
    "\\end{array}\n",
    "\\right\\rbrack^{n} &=&\n",
    "\\text{E}\n",
    "\\left\\lbrack\n",
    "\\begin{array}{cc}\n",
    "\\lambda_{1}^{n} & 0 \\\\\n",
    "0  & \\lambda_{2}^{n}\n",
    "\\end{array}\n",
    "\\right\\rbrack\n",
    "\\text{E}^{-1}\n",
    "\\end{array}\n",
    "$$\n",
    "\n",
    "The factoring on the first line is called the **Singular Value Decomposition**  (SVD) of the matrix.\n",
    "The singular values are the $\\lambda$s in the diagonal matrix.  They are also\n",
    "called **eigenvalues** of M, the matrix we're decomposing.  A full description of the idea takes up much of a Linear Algebra text, but essentially what we're doing is a change of coordinates or a change of axes to  certain\n",
    "vectors associated with M called its **eigenvectors**.  Reading from right to left, the three matrices in the decomposition work as follows: the first changes basis to eigenvector coordinates (that's $\\text{E}^{-1}$),; \n",
    "the second dilates in the directions of the  new axes (that's  the diagonal matrix); the third changes back from the eigenvector basis to the standard basis (that's $\\text{E}$).\n",
    "\n",
    "Why are we doing this again?  Well there are actually many applications of this decomposition,\n",
    "but for our purposes, the point is the second line. If D is the diagonal matrix,it's easy to show that\n",
    "$M^{n}$ is $\\text{E}D^{n}\\text{E}^{-1}$.    Applying this to the task of computing the nth Fiboncci number,\n",
    "using the `Fib_m` matrix, we get:"
   ]
  },
  {
   "cell_type": "markdown",
   "id": "ba34caaa",
   "metadata": {},
   "source": [
    "$$\n",
    "\\begin{array}{llcl}\n",
    "(1) &\n",
    "\\left (\n",
    "\\begin{array}{c}\n",
    "\\text{F}_{n}\\\\\n",
    "\\text{F}_{n=1}\\\\\n",
    "\\end{array}\n",
    "\\right )\n",
    "&=&\n",
    "\\left (\n",
    "\\left \\lbrack\n",
    "\\begin{array}{c}\n",
    "0 & 1\\\\\n",
    "1 & 1\n",
    "\\end{array}\n",
    "\\right \\rbrack\n",
    "\\right)^{n}\n",
    "\\left (\n",
    "\\begin{array}{c}\n",
    "0\\\\\n",
    "1\n",
    "\\end{array}\n",
    "\\right ) \\\\\n",
    "& & = &\n",
    "\\text{E}\n",
    "\\left\\lbrack\n",
    "\\begin{array}{cc}\n",
    "\\lambda_{1}^{n} & 0 \\\\\n",
    "0  & \\lambda_{2}^{n}\n",
    "\\end{array}\n",
    "\\right\\rbrack\n",
    "\\text{E}^{-1}\n",
    "\\left (\n",
    "\\begin{array}{c}\n",
    "0\\\\\n",
    "1\n",
    "\\end{array}\n",
    "\\right )\n",
    "\\\\\n",
    "\\end{array}\n",
    "$$"
   ]
  },
  {
   "cell_type": "markdown",
   "id": "d3d04262",
   "metadata": {},
   "source": [
    "So with one change of basis and one inverse change \n",
    "of basis, finding the nth Fibonacci number becomes very easy.\n",
    "\n",
    "But it's actually much better than that.  Because this matrix  computation leads to a closed form solution to the problem of computing the nth Fibonacci number ($\\text{F}_{n}$).  No more recursion or iteration needed.  We have defined a function using the closed form definition (`fibonacci_closed_form`) along with other \n",
    "ways of computing the nth Fibonacci number in a code cell above.   The derivation of this form is given in the appendix, but the elements of the derivation have already been given.  If you know some Linear Algebra, you may want to try working out the details on your own. Use equation (1). You will need to find the eigenvalues and eigenvectors of `Fib_M` (because the diagonal matrix contains the eigenvalues and E contains the eigenvectors), and use E to find $\\text{E}^{-1}$.  The hardest part is finding  $\\text{E}^{-1}$, since you will lose an important numerical relationship if you just call `numpy.linalg.inv`. Instead you will have to use the formula for inverses from a Linear Textbook. If\n",
    "\n",
    "$$\n",
    "\\text{E} = \\left\\lbrack \n",
    "\\begin{array}{cc}\n",
    "a & b \\\\\n",
    "c  & d\n",
    "\\end{array}\n",
    "\\right \\rbrack\n",
    "$$\n",
    "\n",
    "then\n",
    "$$\n",
    "\\text{E}^{-1} = \n",
    "\\frac{1}{\\Delta}\n",
    "\\left\\lbrack \n",
    "\\begin{array}{cc}\n",
    "d & -b \\\\\n",
    "-c & a\n",
    "\\end{array}\n",
    "\\right\\rbrack,\n",
    "$$\n",
    "\n",
    "where $\\Delta$ is the determinant of E, $ad - bc$.\n",
    "\n",
    "You can check your results by\n",
    "looking at `fibonacci_closed_form` in the code cell above.\n",
    "\n",
    "Let's close this discussion by  sketching the proof of something we noted \n",
    "above that the ratio $\\text{F}_{n+1}/\\text{F}_{n}$ converges\n",
    "on $\\phi$.\n",
    "\n",
    "First, if we use standard methods to compute the eigenvalues of `fib_M` (see\n",
    "Fabian's blog for the steps), we discover they are \n",
    "\n",
    "$$\n",
    "\\lambda_{1} = \\frac{1 + \\sqrt{5}}{2} \\text{ and } \\lambda_{2} = \\frac{1 - \\sqrt{5}}{2}\n",
    "$$\n",
    "\n",
    "and  one of these, of course, is our old friends $\\phi$ and the other is $1 - \\phi$,\n",
    "which also $-\\phi^{-1}$ (recall that $\\phi = 1 + \\phi^{-1}$).\n",
    "This is fairly astonishing if you stop to think about it.  \n",
    "\n",
    "It's also useful.  Using this first eigenvalue we can find the first eigenvector\n",
    "and that will help us prove that the ratio of the terms in the Fibonacci\n",
    "Sequence approaches $\\phi$."
   ]
  },
  {
   "cell_type": "markdown",
   "id": "7bd0f7b9",
   "metadata": {},
   "source": [
    "To find the eigenvector \n",
    "\n",
    "$$\n",
    "\\left(\n",
    "\\begin{array}{c}\n",
    "a\\\\\n",
    "b\n",
    "\\end{array}\n",
    "\\right )\n",
    "$$\n",
    "\n",
    "corresponding to eigenvalue $\\phi$ of `fib_M`, we start with the following:\n",
    "\n",
    "$$\n",
    "\\left\\lbrack\n",
    "\\begin{array}{cc}\n",
    "0 & 1 \\\\\n",
    "1  & 1\n",
    "\\end{array}\n",
    "\\right\\rbrack \n",
    "\\left(\n",
    "\\begin{array}{c}\n",
    "a\\\\\n",
    "b\n",
    "\\end{array}\n",
    "\\right )\n",
    "=\n",
    "\\left(\n",
    "\\begin{array}{c}\n",
    "\\phi \\, a\\\\\n",
    "\\phi \\, b\n",
    "\\end{array}\n",
    "\\right )\n",
    "$$\n",
    "since by definition an eigenvector of `fib_M`\n",
    "with eigenvalue $\\phi$\n",
    "is a vector whose direction is unchanged by multiplication\n",
    "with `fib_M`, but which is dilated or shrunk by a factor\n",
    "of $\\phi$.\n",
    "\n",
    "We only need to consider the computation of the first component $\\phi\\,a$:\n",
    "From the definition of matrix multiplication we know\n",
    "\n",
    "$$\n",
    "\\begin{array}{lcl}\n",
    "\\phi a & = & b \\\\\n",
    "\\end{array}\n",
    "$$\n",
    "\n",
    "Hence, the ratio of $b$ to $a$ must be $\\phi$,\n",
    "so the eigenvectors for this eigenvalue must all be scalar multiples of \n",
    "\n",
    "$$\n",
    "\\left (\n",
    "\\begin{array}{c}\n",
    "1\\\\\n",
    "\\phi \n",
    "\\end{array}\n",
    "\\right ).\n",
    "$$"
   ]
  },
  {
   "cell_type": "markdown",
   "id": "242ff831",
   "metadata": {},
   "source": [
    "Now the fact that the first eigenvector has the form\n",
    "\n",
    "$$\n",
    "\\left(\n",
    "\\begin{array}{cc}\n",
    "1\\\\\n",
    "\\phi \\\\\n",
    "\\end{array}\n",
    "\\right )\n",
    "$$\n",
    "\n",
    "leads directly to the conclusion\n",
    "that the ratio of $\\text{Fib}_{n+1}$ to $\\text{Fib}_{n}$  converges to $\\phi$."
   ]
  },
  {
   "cell_type": "markdown",
   "id": "149f2ae8",
   "metadata": {},
   "source": [
    "The key connection is provided by a Linear Algebra theorem about matrix powers which says that for any square matrix M with first (or dominant) eigenvector $e_{1}$ and any arbitrary vector $v$,  \n",
    "\n",
    "$$\n",
    "\\begin{array}{c}\n",
    "\\text{Powers Theorem}\\\\\n",
    "\\lim_{n\\to \\infty} \\text{M}^{n}v = ke_{1},\n",
    "\\end{array}\n",
    "$$\n",
    "\n",
    "where $e_{1}$ is the first eigenvector (paired with the eigenvalue of largest magnitude) and $k$ is a scalar. That is, for large powers of $n$, $\\text{M}^{n}v$ approaches the first eigenvector.\n",
    "This is the basis for the powers method of computing the first eigenvector of\n",
    "a matrix.  The proof is quite simple and is sketched out in an Appendix to this notebook.\n",
    "\n",
    "Applying this to our matrix, `fib_M` and our initial Fibonacci vector \n",
    "\n",
    "$\\left (\n",
    "\\begin{array}{c}\n",
    "0\\\\\n",
    "1\n",
    "\\end{array}\n",
    "\\right )$,\n",
    "we have \n",
    "\n",
    "$$\n",
    "\\begin{array}{lcl}\n",
    "\\text{fib_M}^{n}\n",
    "\\left (\n",
    "\\begin{array}{c}\n",
    "0\\\\\n",
    "1\n",
    "\\end{array}\n",
    "\\right ) &=&\n",
    "\\left (\n",
    "\\begin{array}{l}\n",
    "\\text{F}_{n}\\\\\n",
    "\\text{F}_{n+1}\n",
    "\\end{array}\n",
    "\\right )\\\\\n",
    "%\\begin{array}{l}\n",
    "%\\lim_{n\\to \\infty}\n",
    "\\lim\\limits_{n \\to \\infty}\n",
    "\\text{fib_M}^{n}\n",
    "\\left (\n",
    "\\begin{array}{c}\n",
    "0\\\\\n",
    "1\n",
    "\\end{array}\n",
    "\\right ) & = &\n",
    "k\\left (\n",
    "\\begin{array}{c}\n",
    "1\\\\\n",
    "\\phi\n",
    "\\end{array}\n",
    "\\right )\\\\\n",
    "%\\lim_{n\\to \\infty} \n",
    "\\lim\\limits_{n \\to \\infty}\n",
    "%\\text{fib_M}^{n}\n",
    "%\\left (\n",
    "%\\begin{array}{c}\n",
    "%0\\\\\n",
    "%1\n",
    "%\\end{array}\n",
    "%\\right )\n",
    "\\left (\n",
    "\\begin{array}{l}\n",
    "\\text{F}_{n}\\\\\n",
    "\\text{F}_{n+1}\n",
    "\\end{array}\n",
    "\\right )\n",
    "&=& k\\left (\n",
    "\\begin{array}{c}\n",
    "1\\\\\n",
    "\\phi\n",
    "\\end{array}\n",
    "\\right )\n",
    "\\end{array}\n",
    "$$"
   ]
  },
  {
   "cell_type": "markdown",
   "id": "2a0987a1",
   "metadata": {},
   "source": [
    "so if  (1,$\\phi$) is the first eigenvector, then the limit of the ratio $\\text{F}_{n+1}/\\text{F}_{n}$\n",
    "must be $\\phi$.  "
   ]
  },
  {
   "cell_type": "markdown",
   "id": "fb48370f",
   "metadata": {},
   "source": [
    "This is as good a time as any to say that I heartily endorse what blogger Fabian says: If you want a better understanding of what eigenvectors are, see [3blue1brown's video on eigenvectors.](https://www.3blue1brown.com/lessons/eigenvalues)"
   ]
  },
  {
   "cell_type": "markdown",
   "id": "55a16f21",
   "metadata": {},
   "source": [
    "## Exercise\n",
    "\n",
    "### Introduction\n",
    "\n",
    "As we just saw, $\\phi$ is the $x$ such that $x = 1 + 1/x$.  That is,\n",
    "\n",
    "$$\n",
    "(1)\\, \\phi^{1} = \\phi^{0} + \\phi^{-1}.\n",
    "$$\n",
    "\n",
    "From this it follows that for any $n$ (including negative or irrational $n$):\n",
    "\n",
    "$$\n",
    "(2)\\, \\phi^{n} = \\phi^{n-1} + \\phi^{n - 2}\n",
    "$$\n",
    "\n",
    "For any particular $n$,we derive the version of (2) that has $\\phi^{n}$ on the\n",
    "left hand side simply by multiplying both sides of (1) by $\\phi^{n-1}$.\n",
    "For example, if $n=3$, we multiply both sides of (1) by $\\phi^{2}$ to get:\n",
    "\n",
    "$$\n",
    "\\phi^{3} = \\phi^{2} + \\phi^{1}\n",
    "$$\n",
    "\n",
    "\n",
    "What (2) tells us, then, is that taking a power of $\\phi$ may be reduced to addition:\n",
    "\n",
    "The first function in the cell below takes advantage of this\n",
    "relation to define an iterative function that computes \n",
    "positive integer powers of $\\phi$.\n",
    "\n",
    "For any non-negative integer `n`, `phi_pow_iterative(n)`\n",
    "returns exactly the same result as $\\phi^n$ or in Python\n",
    "`phi**n`."
   ]
  },
  {
   "cell_type": "code",
   "execution_count": 879,
   "id": "90cd1222",
   "metadata": {},
   "outputs": [],
   "source": [
    "def phi_pow_iterative(n):\n",
    "    \"\"\"\n",
    "    Iterative implementation of phi**n using the Fibonacci-like recurrence relation.\n",
    "    \n",
    "    phi^n = phi^{n-1}  + phi^{n-2}\n",
    "    \n",
    "    For example \n",
    "    \n",
    "    phi**2 = 1 + phi = phi**0 + phi**1\n",
    "    phi**3 = phi**2 + phi \n",
    "    phi**4 = phi**3 + phi**2\n",
    "    ....\n",
    "    \"\"\"\n",
    "    assert n >= 0,\"Use only nonnegative n\"\n",
    "    if n == 0:\n",
    "        return 1\n",
    "    elif n == 1:\n",
    "        return phi\n",
    "    else:\n",
    "        #  Keep around the last two terms\n",
    "        #  because you're going to add them to get\n",
    "        #  the next one\n",
    "        res = [1,phi]\n",
    "        for i in range (n-1):\n",
    "            res = [res[1], res[0]+res[1]]\n",
    "            #res = res[1:] + [sum(res)]\n",
    "        return res[1]\n",
    "    \n"
   ]
  },
  {
   "cell_type": "markdown",
   "id": "c12079e3",
   "metadata": {},
   "source": [
    "To check our claim that for any non-negative integer `n`, `phi_pow_iterative(n)` \n",
    "returns exactly the same result as $\\phi^n$, let's try `n=12`:"
   ]
  },
  {
   "cell_type": "code",
   "execution_count": 881,
   "id": "4221da33",
   "metadata": {},
   "outputs": [
    {
     "data": {
      "text/plain": [
       "321.996894379985"
      ]
     },
     "execution_count": 881,
     "metadata": {},
     "output_type": "execute_result"
    }
   ],
   "source": [
    "# phi is a name defined earlier in the notebook and which should be defoned when youi\n",
    "# do this exercise.\n",
    "phi**12"
   ]
  },
  {
   "cell_type": "markdown",
   "id": "d7b0629e",
   "metadata": {},
   "source": [
    "And our phi functions return:"
   ]
  },
  {
   "cell_type": "code",
   "execution_count": 882,
   "id": "fb6f6ccb",
   "metadata": {
    "scrolled": true
   },
   "outputs": [
    {
     "data": {
      "text/plain": [
       "321.99689437998484"
      ]
     },
     "execution_count": 882,
     "metadata": {},
     "output_type": "execute_result"
    }
   ],
   "source": [
    "phi_pow_iterative(12)"
   ]
  },
  {
   "cell_type": "markdown",
   "id": "58c2f529",
   "metadata": {},
   "source": [
    "Demonstrations of what's discussed below:"
   ]
  },
  {
   "cell_type": "code",
   "execution_count": 888,
   "id": "9c135c05",
   "metadata": {},
   "outputs": [
    {
     "data": {
      "text/plain": [
       "(4.23606797749979, 4.23606797749979)"
      ]
     },
     "execution_count": 888,
     "metadata": {},
     "output_type": "execute_result"
    }
   ],
   "source": [
    "phi**(3),2*phi+1"
   ]
  },
  {
   "cell_type": "code",
   "execution_count": 892,
   "id": "83ec7bf2",
   "metadata": {},
   "outputs": [
    {
     "data": {
      "text/plain": [
       "(6.854101966249686, 6.854101966249685)"
      ]
     },
     "execution_count": 892,
     "metadata": {},
     "output_type": "execute_result"
    }
   ],
   "source": [
    "phi**(4), 3*phi+2"
   ]
  },
  {
   "cell_type": "code",
   "execution_count": 894,
   "id": "b3a7a8cf",
   "metadata": {},
   "outputs": [
    {
     "data": {
      "text/plain": [
       "(11.090169943749476, 11.090169943749475)"
      ]
     },
     "execution_count": 894,
     "metadata": {},
     "output_type": "execute_result"
    }
   ],
   "source": [
    "phi**(5),5*phi+3"
   ]
  },
  {
   "cell_type": "markdown",
   "id": "1dcd4b10",
   "metadata": {},
   "source": [
    "###  What to do\n",
    "\n",
    "Your assignment  is to write two functions. \n",
    "\n",
    "1.  First, write a recursive version \n",
    "of `phi_pow_iterative(n)`. Call it `phi_pow_recursive(n)`.  You should consult  `phi_pow_iterative(n)` to help\n",
    "you decide how to formulate it, and you might also find it useful\n",
    "to look at `fibonacci_seq_n`  defined earlier in the notebook. That\n",
    "is a recursive definition of `fibonacci_seq_n_iterative`.\n",
    "\n",
    "2.  Write another function (call it `phi_pow`) that for any $n$, returns the same value\n",
    "as  `phi_pow_iterative(n)` and `phi_pow_recursive(n)` but is neither iterative nor\n",
    "recursive.  Instead your function  should take advantage of the following\n",
    "regularity:\n",
    "\n",
    "    $$\n",
    "\\begin{array}{lclclcrl}\n",
    "\\phi^1 & &                &  &                    &=& \\phi\\\\\n",
    "\\phi^2& &                 &  &                    &=&  \\, \\phi + 1 \\\\\n",
    "\\phi^3 &=& \\phi^2 +\\phi  &=& (\\phi + 1) + \\phi &=& 2\\,\\phi + 1\\\\\n",
    "\\phi^4 &=& \\phi^3 + \\phi^2 && & =& 3\\,\\phi + 2 &\\\\\n",
    "\\phi^5 &=& \\phi^4 + \\phi^3 && &= & 5\\,\\phi + 3 &\\\\\n",
    "\\end{array}\n",
    "    $$\n",
    "\n",
    "    That is, for any positive integer `n`, $\\phi^{n}$ can be expressed in the form\n",
    "\n",
    "    $$\n",
    "\\phi^{n} = j\\phi  + k\n",
    "    $$\n",
    "\n",
    "    where `j` and `k` are  positive integers depending on `n`.  For example, when `n` is 5, `j` is 5 and `k` is 3.  The examples shown above should make it clear that when `n` is 6, `j` is 8 and `k` is 5."
   ]
  },
  {
   "cell_type": "markdown",
   "id": "c0f749b9",
   "metadata": {},
   "source": [
    "1. Your function `phi_pow(n)` should return the same value as  $\\phi^{n}$, but you should at least test it for `n=1` `n=2` and `n=12`.  \n",
    "2. I am going to test your function on some unknown higher value of `n`, so you won't get full credit for simply precomputing the values `i` and `j` necessary for `n=1,n=2, ... n=12`. In fact, if you do that, you won't get any credit.\n",
    "2.  Your answer shouldn't call `phi_pow_iterative(n)` or `phi_pow_recursive(n)` and it shouldn't incorporate any code from those functions or any functions you import from another module. A good rule of thumb: if you follow the hints in the instructions,  computing `phi_pow(12)` shouldn't involve computing `phi_pow(11)` or `phi_pow(10)`.\n",
    "3.  **Hint**  A function defined elsewhere in this notebook may be of use, although you will get full credit if you compute $i$ and $j$ with your own code."
   ]
  },
  {
   "cell_type": "code",
   "execution_count": 735,
   "id": "740e30bb",
   "metadata": {},
   "outputs": [],
   "source": [
    "\n",
    "def phi_pow_recursive(n):\n",
    "    \"\"\"\n",
    "    Iterative implementation of phi**n using the Fibonacci-like recurrence relation.\n",
    "    \n",
    "    phi^n = phi^{n-1}  + phi^{n-2}\n",
    "    \n",
    "    For example \n",
    "    \n",
    "    phi**2 = 1 + phi = phi**0 + phi**1\n",
    "    phi**3 = phi**2 + phi \n",
    "    phi**4 = phi**3 + phi**2\n",
    "    ....\n",
    "    \"\"\"\n",
    "    assert n >= 0,\"Use only nonnegative n\"\n",
    "    if n == 0:\n",
    "        return 1\n",
    "    elif n == 1:\n",
    "        return phi\n",
    "    else:\n",
    "        return phi_pow_recursive(n-2) + phi_pow_recursive(n-1)\n",
    "\n",
    "    \n",
    "def phi_pow (n):\n",
    "    \"\"\"\n",
    "    Non-iterative implementation of phi**n using the recurrence relation\n",
    "    \n",
    "    phi^n = phi^{n-2}  + phi^{n-1}\n",
    "    \n",
    "    For example \n",
    "    \n",
    "    phi**2                                   =   phi + 1\n",
    "    phi**3 = phi + phi**2  = phi + (phi + 1) = 2*phi + 1\n",
    "    phi**4 = phi**2 + phi**3                 = 3*phi + 2 (add the two expressions above)\n",
    "    phi**5 = phi**3 + phi**4                 = 5*phi + 3 (add the two expressions above)\n",
    "    ....\n",
    "    phi**n = Fib_{n-1} * phi + Fib_{n-2}\n",
    "    \n",
    "    where Fib_i is the ith term in the Fib sequence\n",
    "    \"\"\"\n",
    "    if n == 0:\n",
    "        return 1\n",
    "    elif n== 1:\n",
    "        return phi\n",
    "    else:\n",
    "        #  Note phi_pow isnt recursive because it  doesnt call phi_pow\n",
    "        #  Rather phi_pow has been reduced to a computation involving\n",
    "        #  fibonacci_seq_n. Multiplication (taking a power)  has been reduced to addition.\n",
    "        return fibonacci_seq_n(n)*phi + fibonacci_seq_n(n-1) "
   ]
  },
  {
   "cell_type": "markdown",
   "id": "db04067e",
   "metadata": {},
   "source": [
    "## Appendix\n",
    "\n",
    "    ### Deriving the Closed form computation of Fibonacci numbers"
   ]
  },
  {
   "cell_type": "markdown",
   "id": "f54077d9",
   "metadata": {},
   "source": [
    "### Deriving the closed form (See [Fabian Dablander's blog](https://fabiandablander.com/r/Fibonacci.html) )\n",
    "\n",
    "To derive a closed form for $\\text{Fib}_{n}$, we must spell out the change of basis \n",
    "matrixes $\\text{E}$ and $\\text{E}^{-1}$ used in (1).\n",
    "Start with E, which must map from the eigenvector basis\n",
    "to the standard basis.  To find the matrix expressing the linear map, \n",
    "we  ask  what does E map  $\\left ( \\begin{array}{c} 1 \\\\ 0\\end{array} \\right )$\n",
    "and $\\left ( \\begin{array}{c} 0 \\\\ 1\\end{array} \\right )$ to?\n",
    "Since the basis we are changing to is the eigenvector basis,\n",
    "the linear combinations encoded by coordinates $\\left ( \\begin{array}{c} 1 \\\\ 0\\end{array} \\right )$   and $\\left ( \\begin{array}{c} 0 \\\\ 1\\end{array} \\right )$  are\n",
    "\n",
    "$$\n",
    "\\begin{array}{lcl}\n",
    "1 \\cdot e_{1} + 0\\cdot e{2}\n",
    "& = & e_{1}\\\\\n",
    "0 \\cdot e_{1} + 1 \\cdot e_{2} & = & e_{2}\n",
    "\\end{array},\n",
    "$$\n",
    "\n",
    "where $e_{1}$ and $e_{2}$ are the first and second eigenvectors; so to specify E we know we need both eigenvectors.\n",
    "We found the first eigenvector above."
   ]
  },
  {
   "cell_type": "markdown",
   "id": "3321dbdc",
   "metadata": {},
   "source": [
    "Using the same method for the second eigenvalue, we get\n",
    "\n",
    "$$\n",
    "\\begin{array}{lcl}\n",
    "(-\\phi^{-1}) \\,a & = & b\n",
    "\\end{array}\n",
    "$$\n",
    "\n",
    "The first equation tells us that in this case the ratio of $b$ to $a$ must be $-\\phi^{-1}$,\n",
    "so the eigenvectors for this eigenvalue must all be scalar multiples of \n",
    "\n",
    "$$\n",
    "\\left (\n",
    "\\begin{array}{c}\n",
    "1\\\\\n",
    "-\\phi^{-1} \n",
    "\\end{array}\n",
    "\\right )\n",
    "$$"
   ]
  },
  {
   "cell_type": "markdown",
   "id": "c05dfd9c",
   "metadata": {},
   "source": [
    "So now we know\n",
    "\n",
    "$$\n",
    "\\begin{array}{llcl}\n",
    "\\text{E}:& \\left ( \\begin{array}{c} 1 \\\\ 0\\end{array} \\right ) &\\mapsto &\n",
    "\\left ( \\begin{array}{c}1\\\\ \\phi \\end{array} \\right )\\\\\n",
    "\\text{E}: & \\left ( \\begin{array}{c} 0 \\\\ 1\\end{array} \\right ) & \\mapsto &\n",
    "\\left ( \\begin{array}{c} 1\\\\-\\phi^{-1} \\end{array} \\right )\n",
    "\\end{array}\n",
    "$$\n",
    "\n",
    "The only matrix that does this is \n",
    "$$\n",
    "\\text{E} =\n",
    "\\left\\lbrack\n",
    "\\begin{array}{cc}\n",
    "1 & 1 \\\\\n",
    "\\phi & -\\phi^{-1}\n",
    "\\end{array}\n",
    "\\right\\rbrack\n",
    "$$\n",
    "\n",
    "To use the diagonal matrix, we also need $\\text{E}^{-1}$, the matrix that maps from standard basis coordinates to\n",
    "coordinates in the eigenvector basis.  Not every matrix has an inverse but a valid change of basis matrix will, and\n",
    "when the matrix exists, we can use \n",
    "the standard Linear Algebra formula cited above to find it;\n",
    "\n",
    "$$\n",
    "\\text{E} = \\left\\lbrack \n",
    "\\begin{array}{cc}\n",
    "a & b \\\\\n",
    "c  & d\n",
    "\\end{array}\n",
    "\\right \\rbrack\n",
    "$$\n",
    "\n",
    "implies \n",
    "\n",
    "$$\n",
    "\\text{E}^{-1} = \n",
    "\\frac{1}{\\Delta}\n",
    "\\left\\lbrack \n",
    "\\begin{array}{cc}\n",
    "d & -b \\\\\n",
    "-c & a\n",
    "\\end{array}\n",
    "\\right\\rbrack,\n",
    "$$\n",
    "\n",
    "where $\\Delta$ is the determinant of E, $ad - bc$.\n",
    "\n",
    "\n",
    "Applying this to E, we have:\n",
    "\n",
    "\n",
    "$$\n",
    "\\text{E}^{-1} =\n",
    "\\frac{-1}{\\sqrt{5}}\n",
    "\\left\\lbrack\n",
    "\\begin{array}{cc}\n",
    "-\\phi^{-1} & - 1\\\\\n",
    "-\\phi & 1\n",
    "\\end{array}\n",
    "\\right\\rbrack\n",
    "$$\n",
    "\n",
    "That is, the determinant $\\Delta$ of $\\text{E}$, $ad - bc$, is $- \\sqrt{5}$.  Working through that:"
   ]
  },
  {
   "cell_type": "markdown",
   "id": "dbeda461",
   "metadata": {},
   "source": [
    "\n",
    "$$\n",
    "ad-bc = \\lbrack 1\\cdot(-\\phi^{-1}) \\rbrack - \\lbrack1\\cdot \\phi \\rbrack = (1 - \\phi) - \\phi = (1 - 2\\phi),\n",
    "$$\n",
    "\n",
    "since $-\\phi^{-1} = (1 - \\phi)$."
   ]
  },
  {
   "cell_type": "markdown",
   "id": "114f4ce8",
   "metadata": {},
   "source": [
    "Recalling that\n",
    "\n",
    "$$\n",
    "\\phi = \\frac{1 + \\sqrt{5}}{2}\n",
    "$$\n",
    "\n",
    "\n",
    "we have\n",
    "\n",
    "$$\n",
    "\\begin{array}{lcl}\n",
    "1 - 2\\phi  &=& 1 - 2 \\frac{1 + \\sqrt{5}}{2}\\\\\n",
    "               &=& \\frac{2 - 2 -2 \\sqrt{5}}{2}\\\\\n",
    "               &=& - \\sqrt{5}\n",
    "               \\end{array}\n",
    "$$"
   ]
  },
  {
   "cell_type": "markdown",
   "id": "07b58efe",
   "metadata": {},
   "source": [
    "You can also do this step by finding the inverse in Python:"
   ]
  },
  {
   "cell_type": "code",
   "execution_count": 102,
   "id": "fb27a560",
   "metadata": {},
   "outputs": [
    {
     "data": {
      "text/plain": [
       "array([[ 0.2763932,  0.4472136],\n",
       "       [ 0.7236068, -0.4472136]])"
      ]
     },
     "execution_count": 102,
     "metadata": {},
     "output_type": "execute_result"
    }
   ],
   "source": [
    "E = np.array([[1,           1],\n",
    "              [phi, -phi**(-1)]])\n",
    "((a,b),(c,d))= E\n",
    "E_inv =np.linalg.inv(E)\n",
    "E_inv"
   ]
  },
  {
   "cell_type": "markdown",
   "id": "e67e399c",
   "metadata": {},
   "source": [
    "But then you have to multiply $\\Delta$ (the determinant, $=-\\sqrt{5}$) back in to \n",
    "let you see that $\\phi$, $-\\phi^{-1}$,-1, and 1 are all in there, which\n",
    "is what lets the simplifications go forward."
   ]
  },
  {
   "cell_type": "code",
   "execution_count": 117,
   "id": "e20d2fdb",
   "metadata": {},
   "outputs": [
    {
     "data": {
      "text/plain": [
       "array([[-0.61803399, -1.        ],\n",
       "       [-1.61803399,  1.        ]])"
      ]
     },
     "execution_count": 117,
     "metadata": {},
     "output_type": "execute_result"
    }
   ],
   "source": [
    "E_inv* (np.linalg.det(E))"
   ]
  },
  {
   "cell_type": "code",
   "execution_count": 111,
   "id": "72b52e59",
   "metadata": {},
   "outputs": [
    {
     "data": {
      "text/plain": [
       "array([[-0.61803399, -1.        ],\n",
       "       [-1.61803399,  1.        ]])"
      ]
     },
     "execution_count": 111,
     "metadata": {},
     "output_type": "execute_result"
    }
   ],
   "source": [
    "np.array([[d, -b], [-c,  a]])"
   ]
  },
  {
   "cell_type": "markdown",
   "id": "003205cb",
   "metadata": {},
   "source": [
    "And it's okay to use  `np.linalg.det(E)` for $\\Delta$, without ever calling it $-\\sqrt{5}$."
   ]
  },
  {
   "cell_type": "code",
   "execution_count": 105,
   "id": "f3540160",
   "metadata": {},
   "outputs": [
    {
     "data": {
      "text/plain": [
       "(-2.23606797749979, -2.23606797749979)"
      ]
     },
     "execution_count": 105,
     "metadata": {},
     "output_type": "execute_result"
    }
   ],
   "source": [
    "np.linalg.det(E),-np.sqrt(5)"
   ]
  },
  {
   "cell_type": "markdown",
   "id": "847a162a",
   "metadata": {},
   "source": [
    "We can now use  (1) to write an expression for\n",
    "the nth Fibonacci vector:\n",
    "\n",
    "$$\n",
    "\\begin{array}{lclccc}\n",
    "\\left(\n",
    "\\begin{array}{c}\n",
    "\\text{F}_{n}\\\\\n",
    "\\text{F}_{n+1}\n",
    "\\end{array}\n",
    "\\right )\n",
    "& = &\n",
    "\\left (\n",
    "\\left\\lbrack\n",
    "\\begin{array}{cc}\n",
    "1 & 1 \\\\\n",
    "1  & 0\n",
    "\\end{array}\n",
    "\\right\\rbrack\n",
    "\\right )^{n} \n",
    "\\left(\n",
    "\\begin{array}{c}\n",
    "0\\\\\n",
    "1\n",
    "\\end{array}\n",
    "\\right ) \\\\  %%%%  Begin second line\n",
    "&=&\n",
    "\\left\\lbrack\n",
    "\\begin{array}{cc}\n",
    "1 & 1 \\\\\n",
    "\\phi & -\\phi^{-1}\n",
    "\\end{array}\n",
    "\\right\\rbrack\n",
    "\\left\\lbrack\n",
    "\\begin{array}{cc}\n",
    "\\phi^{n} & 0 \\\\\n",
    "0 & (-\\phi^{-1})^{n}\n",
    "\\end{array}\n",
    "\\right\\rbrack\n",
    "\\left(\n",
    "\\frac{-1}{\\sqrt{5}}\n",
    "\\left\\lbrack\n",
    "\\begin{array}{cc}\n",
    "-\\phi^{-1} & -1\\\\\n",
    "-\\phi & 1\n",
    "\\end{array}\n",
    "\\right\\rbrack\n",
    "\\right )\n",
    "\\left(\n",
    "\\begin{array}{c}\n",
    "0\\\\\n",
    "1\n",
    "\\end{array}\n",
    "\\right )  \\\\  %%%% Begin third line\n",
    "& = &\n",
    "-\\frac{1}{\\sqrt{5}}\n",
    "\\left\\lbrack\n",
    "\\begin{array}{cc}\n",
    "\\phi^{n} & (-\\phi^{-1})^{n}\\\\\n",
    "\\phi^{n+1} & (-\\phi^{-1})^{n+1}\n",
    "\\end{array}\n",
    "\\right \\rbrack\n",
    "\\left (\n",
    "\\begin{array}{c}\n",
    "-1\\\\\n",
    "1\n",
    "\\end{array}\n",
    "\\right )  \\\\  %%%% Begin fourth line\n",
    "& = &\n",
    "\\frac{1}{\\sqrt{5}}\n",
    "\\left (\n",
    "\\begin{array}{c}\n",
    "\\phi^{n} - (-\\phi^{-1})^{n}\\\\\n",
    "\\phi^{n+1} - (-\\phi^{-1})^{n+1}\n",
    "\\end{array}\n",
    "\\right )\n",
    "\\end{array}\n",
    "$$\n",
    "\n",
    "From which we see the closed form for $\\text{F}_{n}$:\n",
    "\n",
    "$$\n",
    "\\text{F}_{n} = \\frac{1}{\\sqrt{5}}(\\phi^{n} - (-\\phi^{-1})^{n})\n",
    "$$\n",
    "\n",
    "It's clear that the second term goes to 0 as $n$ gets large, so for large\n",
    "$n$,\n",
    "\n",
    "$$\n",
    "\\text{F}_{n} \\approx \\frac{1}{\\sqrt{5}}\\phi^{n},\n",
    "$$\n",
    "\n",
    "which leads to another proof that the\n",
    "ratio of adjacent Fibonacci numbers has $\\phi$ as a limit (also cited\n",
    "in Fabian's blog, as Kepler's proof).  For large $n$:\n",
    "\n",
    "$$\n",
    "\\frac{\\text{F}_{n+1}}{F_{n}} = \\frac{\\frac{1}{\\sqrt{5}}\\phi^{n+1}}{\\frac{1}{\\sqrt{5}}\\phi^{n}}\n",
    "= \\frac{\\phi^{n+1}}{\\phi^{n}} = \\phi\n",
    "$$"
   ]
  },
  {
   "cell_type": "markdown",
   "id": "ea7bf0a2",
   "metadata": {},
   "source": [
    "##  An informal derivation of the closed form of $\\text{F}_{n}$\n",
    "\n",
    "Above  we followed blogger Fabian's steps in deriving the closed form of the nth Fibonacci\n",
    "number.  That proof was quite elegant and used eigenvectors of the Fibonacci matrix.  That's\n",
    "Linear Algebra, which is not generally considered lofty mathematics, but it's more\n",
    "than a lot of people have had.  Here I'd like to present an alternative \"derivation\".\n",
    "Unlike the Linear Algebra derivation it's only valid for large $n$, but it offers\n",
    "some insight, because it shows the relationship of the closed form to the odd fact\n",
    "that $\\phi^{n}$ has a Fibonacci-like structure ($\\phi^{n}$ is the sum of the \n",
    "$\\phi^{n-1}$ and $\\phi^{n-2}$).  It also introduces the number $\\sqrt{5}$ in a fairly\n",
    "transparent way.  In the Linear Algebra derivation, $\\sqrt{5}$ makes its appearance\n",
    "as the determinant of the change of basis matrix E, but like almost all facts involving\n",
    "determinants, that falls somewhat short of being intutitive.\n",
    "\n",
    "From the original definition of $\\phi$\n",
    "and the fact that $\\phi = 1 + 1/\\phi$, we have:\n",
    "\n",
    "$$\n",
    "\\begin{array}{lcl}\n",
    "    \\mathbf{Fact} \\,\\mathbf{A}& &\\\\\n",
    "\\sqrt{5} = \\phi + \\frac{1}{\\phi}\n",
    "\\end{array}\n",
    "$$\n",
    "\n",
    "Fact A follows directly from the original definition of $\\phi$\n",
    "and the fact that $\\phi = 1 + 1/\\phi$:\n",
    "\n",
    "$$\n",
    "\\begin{array}{lcl}\n",
    "\\phi &=& \\frac{1+\\sqrt{5}}{2}\\\\\n",
    "\\sqrt{5} &=& 2\\phi -1\\\\\n",
    "        & =& \\phi + (\\phi - 1)\\\\\n",
    "        & =& \\phi + \\frac{1}{\\phi}\\\\\n",
    "\\end{array}\n",
    "$$\n",
    "\n",
    "Based also on the fact that $\\phi = 1 + 1/\\phi$,\n",
    "or more usefully for present purposes,  $\\phi^1 = \\phi^0 + \\phi^{-1}$, we have  this general Fibonacci-like relation among powers of $\\phi$:\n",
    "\n",
    "$$\n",
    "\\begin{array}{llcl}\n",
    "(a) & \\phi^1 = \\phi^0 + \\phi^{-1}\\\\\n",
    "(b) & \\phi^n = \\phi^{n-1} + \\phi^{n-2}\\\\\n",
    "\\end{array}\n",
    "$$\n",
    "\n",
    "where (b) is (a) multiplied by $\\phi^{n-1}$.\n",
    "\n",
    "Now we can reformulate this to actually use Fibbonacci numbers \n",
    "to compute powers of $\\phi$ (not recommended for\n",
    "the computationally conscientious):\n",
    "\n",
    "   $$\n",
    "\\begin{array}{lclclcrl}\n",
    "\\phi^1 & &                &  &                    &=& \\phi\\\\\n",
    "\\phi^2&= &  \\phi^1 +\\phi^0               &  &                    &=&  \\, \\phi + 1 \\\\\n",
    "\\phi^3 &=& \\phi^2 +\\phi  &=& (\\phi + 1) + \\phi &=& 2\\,\\phi + 1\\\\\n",
    "\\phi^4 &=& \\phi^3 + \\phi^2 && & =& 3\\,\\phi + 2 &\\\\\n",
    "\\phi^5 &=& \\phi^4 + \\phi^3 && &= & 5\\,\\phi + 3 &\\\\\n",
    "\\end{array}\n",
    "    $$\n",
    "   \n",
    "In each case the expression on the right contains\n",
    "Fibonacci coefficients and is computed by summing the two expressions above it.  That is, for any positive integer `n`, $\\phi^{n}$ can be expressed in the form\n",
    "\n",
    "$$\n",
    "\\begin{array}{lcl}\n",
    "\\mathbf{Fact} \\,\\mathbf{B}& &\\\\\n",
    "\\phi^{n}  = F_{n}\\phi + F_{n-1},\n",
    "\\end{array}\n",
    "$$\n",
    "\n",
    "where $F_{n}$ is the nth Fibonacci number.  Now we examine a similar pattern for negative powers of\n",
    "$\\phi$:\n",
    "\n",
    " $$\n",
    "\\begin{array}{lclclcrr}\n",
    "\\phi^{1}  &=&                                       & &                    & & \\phi\\\\\n",
    "\\phi^{0} &=&                                       & &                    & & 1\\\\\n",
    "\\phi^{-1} & = &  \\phi^{1} - \\phi^{0}              &  &                    &=& \\phi - 1\\\\\n",
    "\\phi^{-2}&  =&    \\phi^{0} - \\phi^{-1}                & = &  1-(\\phi-1)  &=& -\\phi + 2 \\\\\n",
    "\\phi^{-3} &=& \\phi^{-1} - \\phi^{-2}  &=& (\\phi - 1) - (2- \\phi) &=& 2\\,\\phi -3 \\\\\n",
    "\\phi^{-4} &=& \\phi^{-2} - \\phi^{-3} && & =& -3\\,\\phi + 5 \\\\\n",
    "\\phi^{-5} &=& \\phi^{-3} - \\phi^{-4} && &= & 5\\,\\phi -8 \\\\\n",
    "\\phi^{-6} &=& \\phi^{-4} - \\phi^{-3} && &= & -8\\,\\phi +13 \\\\\n",
    "\\end{array}\n",
    "    $$\n",
    "\n",
    "where the first equality in each row follows from\n",
    "$\\phi^n = \\phi^{n-1} + \\phi^{n-2}$, which remains true for negative values of $n$, by simply\n",
    "subtracting $\\phi^{n-1}$ from both sides: $\\phi^n - \\phi^{n-1} =  \\phi^{n-2}$.\n",
    "\n",
    "Generalization:  Each power is the difference of the previous two.  The successive subtractions lead\n",
    "to swapping of signs between the $\\phi$ term and the integer term, but apart from that the\n",
    "generalization is very similar to the one about positive powers of $\\phi$, which leads to fact C\n",
    "\n",
    "$$\n",
    "\\begin{array}{lcl}\n",
    "\\mathbf{Fact} \\,\\mathbf{C}& &\\\\\n",
    "\\phi^{-n}  = (-1)^{n+1}\\lbrack F_{n}\\phi - F_{n+1} \\rbrack.\n",
    "\\end{array}\n",
    "$$\n"
   ]
  },
  {
   "cell_type": "markdown",
   "id": "046cd363",
   "metadata": {},
   "source": [
    "And finally we need what we proved above:\n",
    "$$\n",
    "\\begin{array}{lcl}\n",
    "\\mathbf{Fact} \\,\\mathbf{D}& &\\\\\n",
    "\\text{For large n, } F_{n+1}/F_{n} &= &\\phi\n",
    "\\end{array}\n",
    "$$"
   ]
  },
  {
   "cell_type": "markdown",
   "id": "3e27b452",
   "metadata": {},
   "source": [
    "We can now derive the closed form of the nth Fibonacci number, for large n at least:\n",
    "\n",
    "\n",
    "$$\n",
    "\\begin{array}{llcll}\n",
    " (a)& \\sqrt{5}      &=&   \\phi + \\frac{1}{\\phi}  & \\text{Fact A}\\\\\n",
    "(b)&            &=& \\lbrack F_{n+1}/F_{n} +  F_{n-1}/F_{n}\\rbrack & \\text{Fact D}\\\\\n",
    "(c)&      &=& 1/F_{n}\\lbrack F_{n+1} + F_{n-1} \\rbrack\\\\       \n",
    "(d)&        F_{n}&=&   \\frac{1}{\\sqrt{5}}  \\lbrack F_{n+1} + F_{n-1}  \\rbrack\\\\\n",
    "(e)&                       &=& \\frac{1}{\\sqrt{5}} \\lbrack F_{n}\\phi + F_{n-1}  \\rbrack & \\text{Fact D}\\\\                \n",
    "(f)&                &=& \\frac{1}{\\sqrt{5}}  \\lbrack F_{n}\\phi + F_{n-1} + F_{n+1} -F_{n+1} \\rbrack \\\\\n",
    "(g)&                       &=& \\frac{1}{\\sqrt{5}} \\lbrack F_{n}\\phi + F_{n-1} + F_{n}\\phi -F_{n+1} \\rbrack & \\text{Fact D}\\\\\n",
    "(h)&              &=& \\frac{1}{\\sqrt{5}} \\lbrack F_{n}\\phi + F_{n-1} - (-1)^n (-1)^{n+1}\\lbrack F_{n}\\phi - F_{n+1}      \\rbrack\\,\\rbrack\\\\             \n",
    "(i)&                 &=&  \\frac{1}{\\sqrt{5}} \\lbrack F_{n}\\phi + F_{n-1} - (-1)^n \\phi^{-n}\\,\\rbrack& \\text{Fact C}\\\\ \n",
    "(j)&              &=& \\frac{1}{\\sqrt{5}} \\lbrack \\phi^{n} - (-1)^n \\phi^{-n}\\,\\rbrack& \\text{Fact B}\\\\\\              \n",
    "(k)&             &=&\\frac{1}{\\sqrt{5}} \\lbrack \\phi^{n} -  (-\\phi^{-1})^{n}\\,\\rbrack\\\\\n",
    "(l)&             &=&\\frac{1}{\\sqrt{5}} \\lbrack \\phi^{n} -  (1 - \\phi)^{n}\\,\\rbrack\\\\\n",
    "(m)&             &=&\\frac{1}{\\sqrt{5}} \\left\\lbrack \\, \\left ( \\frac{1 + \\sqrt{5}}{2} \\right )^{n} - \\left ( \\frac{1 - \\sqrt{5}}{2} \\right )^{n} \\,\\right \\rbrack\\\\\n",
    "\\end{array}\n",
    "$$\n",
    "\n",
    "where what drives all the manipulations is to get the expression into the form where facts B and C are used\n",
    "and powers of $\\phi$ appear.   Steps (l) and (m) merely used standard facts about $\\phi$ to re-express the\n",
    "closed form in other common forms."
   ]
  },
  {
   "cell_type": "code",
   "execution_count": 911,
   "id": "bc9340f8",
   "metadata": {},
   "outputs": [
    {
     "data": {
      "text/plain": [
       "(17.944271909999163, 17.94427190999916)"
      ]
     },
     "execution_count": 911,
     "metadata": {},
     "output_type": "execute_result"
    }
   ],
   "source": [
    "phi**6,8*phi+5"
   ]
  },
  {
   "cell_type": "markdown",
   "id": "c6c66ea9",
   "metadata": {},
   "source": [
    "## Fibonacci and Pascal's Triangle"
   ]
  },
  {
   "cell_type": "code",
   "execution_count": 352,
   "id": "1712ca9f",
   "metadata": {},
   "outputs": [],
   "source": [
    "\n",
    "def make_pascals_triangle (nrows):\n",
    "    \"\"\"\n",
    "    No printing version of make_pascals_triangle\n",
    "    \"\"\"\n",
    "    \n",
    "    L = [1]\n",
    "    rows = []\n",
    "    rows.append(L)\n",
    "    for i in range(nrows):\n",
    "        L = [1] + get_sums(L) + [1]\n",
    "        rows.append(L)\n",
    "    return rows\n",
    "\n",
    "def get_sums (Seq):\n",
    "    return [Seq[i]+Seq[i+1] for i in range(len(Seq)-1) ]\n",
    "\n",
    "def print_pascal_row (L, num_rows,i,verbose):\n",
    "    if not verbose:\n",
    "        return\n",
    "    # Row indent\n",
    "    print((num_rows-i)*' ',end=\" \")\n",
    "    # Extra indent for rows lacking 2 digit entries\n",
    "    if i<5:\n",
    "        print(\"\",end=\" \")\n",
    "    # Row\n",
    "    print(*L)\n",
    "    \n",
    "def print_pascal_rows (rows):\n",
    "    num_rows=len(rows)\n",
    "    for (i,L) in enumerate(rows):\n",
    "        print_pascal_row (L, num_rows,i,True)\n",
    "    \n",
    "    \n",
    "############################################################################\n",
    "# Numpy versions (for coding-style purposes only. actually slower memory hogs)\n",
    "############################################################################\n",
    "\n",
    "\n",
    "def make_pascals_triangle_numpy (nrows):\n",
    "    first_row = np.array([1])\n",
    "    r = first_row\n",
    "    # Note use of Walrus operator (> Python 3.7).  This is a nice example\n",
    "    # of where it comes in handy.  We want to both accumulate and\n",
    "    # update values of r.\n",
    "    return [first_row] + [r := get_next_row(r) for i in range(nrows)]\n",
    "\n",
    "def get_next_row(r):\n",
    "    \"\"\"\n",
    "    r is a row of a Pascalian triangle. Get next row.\n",
    "    For example:\n",
    "       row = array([1,2,1])\n",
    "       return array([1, 3, 3, 1])\n",
    "    \"\"\"\n",
    "    return np.concatenate([[0], r]) + np.concatenate([r, [0]])\n"
   ]
  },
  {
   "cell_type": "markdown",
   "id": "e83c12d3",
   "metadata": {},
   "source": [
    "Here, for easy reference, is a fragment of the Fibonacci Sequence:\n",
    "\n",
    "```python\n",
    "1 1 2 3 5 8 13 21 34 55 89 144 233 377 610 987 1597 2584 4181 6765 10946\n",
    "```"
   ]
  },
  {
   "cell_type": "markdown",
   "id": "bb1cdc09",
   "metadata": {},
   "source": [
    "The triangle below, known as Pascal's Triangle, may be familiar as an aid to remembering the Binomial Theorem,\n",
    "which tells us how to compute $(a + b)^n$:"
   ]
  },
  {
   "cell_type": "code",
   "execution_count": 485,
   "id": "43fb63e9",
   "metadata": {
    "scrolled": true
   },
   "outputs": [
    {
     "name": "stdout",
     "output_type": "stream",
     "text": [
      "           1\n",
      "          1 1\n",
      "         1 2 1\n",
      "        1 3 3 1\n",
      "       1 4 6 4 1\n",
      "     1 5 10 10 5 1\n",
      "    1 6 15 20 15 6 1\n",
      "   1 7 21 35 35 21 7 1\n",
      "  1 8 28 56 70 56 28 8 1\n"
     ]
    }
   ],
   "source": [
    "rows = make_pascals_triangle(8)\n",
    "print_pascal_rows (rows)"
   ]
  },
  {
   "cell_type": "markdown",
   "id": "32318414",
   "metadata": {},
   "source": [
    "Using 0-based indexing, the fourth row $1\\, 4\\, 6\\, 4\\, 1$ tells us the coeffients of all the $a^{i}b^{4-i}$ terms\n",
    "in computing $(a + b)^4$.  As an example, let's compute $7^4$"
   ]
  },
  {
   "cell_type": "code",
   "execution_count": 227,
   "id": "eadaa7fb",
   "metadata": {},
   "outputs": [
    {
     "data": {
      "text/plain": [
       "2401"
      ]
     },
     "execution_count": 227,
     "metadata": {},
     "output_type": "execute_result"
    }
   ],
   "source": [
    "7**4"
   ]
  },
  {
   "cell_type": "markdown",
   "id": "a87e817d",
   "metadata": {},
   "source": [
    "the hard way, as $(3 + 4)^4$.  Pascal's triangle tells us the coefficients will be\n",
    "$1\\, 4 \\,6\\, 4\\, 1$, so:"
   ]
  },
  {
   "cell_type": "code",
   "execution_count": 397,
   "id": "b60a8d5d",
   "metadata": {},
   "outputs": [
    {
     "name": "stdout",
     "output_type": "stream",
     "text": [
      "[1 4 6 4 1]\n",
      "[81, 108, 144, 192, 256]\n"
     ]
    },
    {
     "data": {
      "text/plain": [
       "2401"
      ]
     },
     "execution_count": 397,
     "metadata": {},
     "output_type": "execute_result"
    }
   ],
   "source": [
    "rows = make_pascals_triangle_numpy(8)\n",
    "n= 4\n",
    "a,b = 4,3\n",
    "coeffs = rows[n]\n",
    "print(coeffs)\n",
    "powers = [a**i*b**(n-i) for i in range(n+1)]\n",
    "print(powers)\n",
    "#powers = np.array([(3**4)*(4**0), (3**3)*(4**1), (3**2)*(4**2), (3**1)*(4**3), (4**4)*(3**0)])\n",
    "coeffs.dot(powers)\n",
    "#1*(3**4)*(4**0) + 4*(3**3)*(4**1) + 6*(3**2)*(4**2) + 4*(3**1)*(4**3) + 1*(4**4)*(3**0)"
   ]
  },
  {
   "cell_type": "markdown",
   "id": "3226689d",
   "metadata": {},
   "source": [
    "So what does this have to do with Fibonacci numbers? There are lots of number in the triangle,\n",
    "but plenty of them are not Fibonacci numbers, for example the 4 and 6 we just used. It turns out the \n",
    "diagonal sums of the triangle are the Fibonacci numbers in order, as shown in the following\n",
    "diagram."
   ]
  },
  {
   "cell_type": "code",
   "execution_count": 912,
   "id": "d181ba4e",
   "metadata": {},
   "outputs": [
    {
     "data": {
      "image/png": "[encoded data removed]",
      "text/plain": [
       "<IPython.core.display.Image object>"
      ]
     },
     "execution_count": 912,
     "metadata": {},
     "output_type": "execute_result"
    }
   ],
   "source": [
    "from IPython.display import Image\n",
    "url = \"https://raw.githubusercontent.com/gawron/python-for-social-science/refs/heads/master/intro/pascal.png\"\n",
    "#img = Image(\"pascal.png\")\n",
    "img = Image(url)\n",
    "img"
   ]
  },
  {
   "cell_type": "markdown",
   "id": "e789c3c4",
   "metadata": {},
   "source": [
    "## Completely optional  appendix exercise\n",
    "\n",
    "1.  The function `make_pascals_triangle` defined above gives you a working Pascal's triangle and the examples show how to use it.  Write a function `fib_n_from_pascal` that takes two arguments, `n` and a Pascal's Triangle of the sort produced by `make_pascals_triangle`; `fib_n_from_pascal` should return the $n$-th Fibonacci number (so `fib_n_from_pascal(n)` should equal `fibonacci_seq_n (n)`) and it should compute it by doing the correct diagonal sum in Pascal's triangle.  Once you have defined `fib_n_from_pascal`, the code snippet in the cell below should work.\n",
    "2.  You know that the numbers in Pascal's Triangle are the coefficients in the Binomial Theorem. Modify  `fib_n_from_pascal` to eliminate its dependence on a precomputed Pascal's triangle table. Call the modified function   `fib_n_from_binomial`.  It should have a single parameter `n`.  Instead of summing entries in Pascal's triangular table it will sum appropriate binomial coefficients.  Note: if you have done part (a) of this problem, this should be a very small modification.  It is particularly small if you import a standard Python module that provides a function that computes binomial coefficients (it is not, however, named `compute_binomial_coeffient` or anything quite so transparent).  If not, refresh your memory of the Binomial theorem (Google it, I mean), which will tell you another way to compute the numbers in Pascal's Triangle.   Test it in an appropriately m,odified version of the code cell below.\n",
    "3.  This is far from the easiest way to compute the $n$-th Fibonacci number. The closed form is, but it does avoid floating point issues and it sums n/2 numbers instead of n. So, probably no Nobel Prize in CS.  But this is fun."
   ]
  },
  {
   "cell_type": "code",
   "execution_count": 608,
   "id": "69811e20",
   "metadata": {},
   "outputs": [
    {
     "name": "stdout",
     "output_type": "stream",
     "text": [
      " 1      1\n",
      " 2      1\n",
      " 3      2\n",
      " 4      3\n",
      " 5      5\n",
      " 6      8\n",
      " 7     13\n",
      " 8     21\n",
      " 9     34\n",
      "10     55\n",
      "11     89\n",
      "12    144\n",
      "13    233\n",
      "14    377\n",
      "15    610\n",
      "16    987\n",
      "17   1597\n",
      "18   2584\n",
      "19   4181\n",
      "20   6765\n"
     ]
    }
   ],
   "source": [
    "m=20\n",
    "# SHd produce same output as previous cell\n",
    "rows = make_pascals_triangle(m)\n",
    "# Makes no diff if rows has more than enough rows\n",
    "#rows = make_pascals_triangle(m+5)\n",
    "for n in range(1,m+1):\n",
    "    print(f\"{n:>2}   {fib_n_from_pascal (rows,n):>4}\")"
   ]
  },
  {
   "cell_type": "code",
   "execution_count": 602,
   "id": "49d263ee",
   "metadata": {},
   "outputs": [
    {
     "name": "stdout",
     "output_type": "stream",
     "text": [
      " 1      1\n",
      " 2      1\n",
      " 3      2\n",
      " 4      3\n",
      " 5      5\n",
      " 6      8\n",
      " 7     13\n",
      " 8     21\n",
      " 9     34\n",
      "10     55\n",
      "11     89\n",
      "12    144\n",
      "13    233\n",
      "14    377\n",
      "15    610\n",
      "16    987\n",
      "17   1597\n",
      "18   2584\n",
      "19   4181\n",
      "20   6765\n"
     ]
    }
   ],
   "source": [
    "m=20\n",
    "# SHd produce same output as previous cell\n",
    "for n in range(1,m+1):\n",
    "    print(f\"{n:>2}   {fibonacci_seq_n (n):>4}\")\n"
   ]
  },
  {
   "cell_type": "code",
   "execution_count": 566,
   "id": "a06a39a1",
   "metadata": {},
   "outputs": [
    {
     "name": "stdout",
     "output_type": "stream",
     "text": [
      " 0     0\n",
      " 1     1\n",
      " 2     1\n",
      " 3     2\n",
      " 4     3\n",
      " 5     5\n",
      " 6     8\n",
      " 7    13\n",
      " 8    21\n",
      " 9    34\n",
      "10    55\n",
      "11    89\n",
      "12   144\n",
      "13   233\n",
      "14   377\n",
      "15   610\n",
      "16   987\n",
      "17   1597\n",
      "18   2584\n",
      "19   4181\n",
      "20   6765\n"
     ]
    }
   ],
   "source": [
    "m=20\n",
    "# SHd produce same output as previous two cells\n",
    "for n in range(m+1):\n",
    "    print(f\"{n:>2}   {fib_n_from_binomial (n):>3}\")"
   ]
  },
  {
   "cell_type": "code",
   "execution_count": 607,
   "id": "31bb7991",
   "metadata": {},
   "outputs": [],
   "source": [
    "import math\n",
    "\n",
    "def fib_n_from_pascal (pt,m):\n",
    "    \"\"\"\n",
    "    pt is a pascals triangle, n is an integer.\n",
    "    \n",
    "    Return the nth Fiobonacci number.\n",
    "    \"\"\"\n",
    "    n=m-1\n",
    "    # Need to count down from different starting points for odds and evens\n",
    "    parity_bit = m%2\n",
    "    return sum(pt[r][n-r] for r in range(n+parity_bit,n//2,-1))\n",
    "\n",
    "\n",
    "def fib_n_from_pascal_alt (pt,m):\n",
    "    \"\"\"\n",
    "    pt is a pascals triangle, n is an integer.\n",
    "    \n",
    "    Return the nth Fiobonacci number.\n",
    "    \"\"\"\n",
    "    n=m-1\n",
    "    r,tot=n,0\n",
    "    while n-r<=r:\n",
    "        tot += pt[r][n-r]\n",
    "        r-=1\n",
    "    return tot\n",
    "\n",
    "\n",
    "def fib_n_from_binomial_alt(n):\n",
    "    \"\"\"\n",
    "    This is the correct, more complicated version with no m,.n offset\n",
    "    n is an integer.\n",
    "    \n",
    "    Return the nth Fiobonacci number.\n",
    "    \"\"\"\n",
    "    r, tot = n-1,0\n",
    "    while n-(r+1) <= r:\n",
    "        tot += math.comb(r,(n-(r+1)))\n",
    "        #print(n-r,r,math.comb(r,n-r), tot)\n",
    "        r-=1\n",
    "    return tot\n",
    "\n",
    "def fib_n_from_binomial_minor_alt(m):\n",
    "    \"\"\"\n",
    "    m is an integer.\n",
    "    \n",
    "    Return the mth Fibonacci number.\n",
    "    \"\"\"\n",
    "    #  The code is simpler if you offset by 1\n",
    "    #  Consistency with other fib fns requires\n",
    "    #  fib_n_from_binomial(12) = 144 (not 233)\n",
    "    n=m-1\n",
    "    r, tot = n,0\n",
    "    while n-r <= r:\n",
    "        tot += math.comb(r,(n-r))\n",
    "        #print(n-r,r,math.comb(r,n-r), tot)\n",
    "        r-=1\n",
    "    return tot\n",
    "\n",
    "def fib_n_from_binomialx(m):\n",
    "    \"\"\"\n",
    "    m is an integer.\n",
    "    \n",
    "    Return the mth Fibonacci number.\n",
    "    \"\"\"\n",
    "    #  The code is simpler if you offset by 1\n",
    "    #  Consistency with other fib fns requires\n",
    "    #  fib_n_from_binomial(12) = 144 (not 233)\n",
    "    n=m-1\n",
    "    #rather than : r, tot = n//2,1\n",
    "    # round up when n is odd\n",
    "    r, tot = round(n/2),0\n",
    "    while r <= n:\n",
    "        tot += math.comb(r,n-r)\n",
    "        #print(r,n-r,math.comb(r,n-r), tot)\n",
    "        r+=1\n",
    "    return tot\n",
    "\n",
    "def fib_n_from_binomial(m):\n",
    "    \"\"\"\n",
    "    m is an integer.\n",
    "    \n",
    "    Return the mth Fibonacci number.\n",
    "    \"\"\"\n",
    "    #  The code is simpler if you offset by 1\n",
    "    n=m-1\n",
    "    return sum(math.comb(x,n-x) for x in range(round(n/2),n+1))"
   ]
  },
  {
   "cell_type": "markdown",
   "id": "6c402162",
   "metadata": {},
   "source": [
    "#### Final comments\n",
    "\n",
    "$$\n",
    "\\text{Moe's Theorem}\\\\\n",
    "\\text{F}_{n+1} = \\sum_{r=\\lceil n/2 \\rceil}^{n} {r \\choose n-r} = \\frac{-1}{\\sqrt{5}}\\left (\\phi^{n+1} - (-\\phi^{-1})^{n+1} \\right)\n",
    "$$\n",
    "\n",
    "Notation note:  The expression $\\lceil x \\rceil$ denotes the smallest integer greater or equal to $x$, so for\n",
    "example, $\\lceil 11/2 \\rceil$ is 6.\n",
    "\n",
    "The truth of Moe's Theorem (Moe of Cretonia, 470 B.C.) should now be obvious."
   ]
  },
  {
   "cell_type": "markdown",
   "id": "96c29fc6",
   "metadata": {},
   "source": [
    "###  Proof that $\\text{A}^{m}v$ converges on the first eigenvector\n",
    "\n",
    "\n",
    "$$\n",
    "v_{m}  = A^{m}v_{0}\n",
    "$$\n",
    "\n",
    "Now whatever $v_{0}$ is, linear algebra tells us we can\n",
    "write $v_{0}$ as a linear combination of the eigenvectors  $e_{i}$ of A:\n",
    "\n",
    "$$\n",
    "v_{0} = \\sum_{i} c_{i} e_{i},\n",
    "$$\n",
    "\n",
    "for appropriate choice of the $c_{i}$. Then \n",
    "\n",
    "$$\n",
    "v_{m} = A^{m} \\sum_{i} c_{i} e_{i} =  \\sum_{i} c_{i} \\kappa_{i}^{m}  e_{i} = \\kappa_{1}^{m} \\sum_{i} c_{i} \\left \\lbrack \\frac{\\kappa_{i}}{\\kappa_{1}}\\right \\rbrack^{m} e_{i} \n",
    "$$\n",
    "\n",
    "where $\\kappa_{1}$ is the leading or largest eigenvalue and\n",
    "we have made use of the fact that if $\\kappa$ is\n",
    "an eigenvalue of A, then $\\kappa^{m}$ is an eigenvalue\n",
    "of  $\\text{A}^{m}$.   Then, since $\\kappa_{i}/\\kappa_{1} < 1$ whenever $i\\neq 1$,\n",
    "all the $i\\neq 1$ terms will tend toward 0.  Then\n",
    "\n",
    "$$\n",
    "\\lim_{m \\to \\infty} v_{m} = A^{𝑚} v_{0} = \\kappa_{1}^{m} c_{1} \\left \\lbrack \\frac{\\kappa_{1}}{\\kappa_{1}}\\right \\rbrack^{m} v_{1} \n",
    "= \\kappa_{1}^{m} c_{1} e_{1} \n",
    "$$\n",
    "\n",
    "That is, applying $A^{m}$ to **any** vector converges on a vector proportional to $e_{1}$, the first eigenvector of A. The significance of that is that any vector proportional to a first eigenvector $v_{1}$ is still a first eigenvector, that is, it is in the same\n",
    "**eigenspace**, so we will get a vector that is a first eigenvector.  Using the eigenvector\n",
    "we can always easily find the eigenvalue."
   ]
  },
  {
   "cell_type": "markdown",
   "id": "be8f5bf8",
   "metadata": {},
   "source": [
    "## When $\\phi^{n} + \\phi^{-n}$  and $\\phi^{n} - \\phi^{-n}$ are integers\n",
    "\n",
    "Somewhat surprisingly $\\phi^{n} + \\phi^{-n}$ is often an integer and if it\n",
    "isn't $\\phi^{n} - \\phi^{-n}$ is.    How often does each happen?\n",
    "Well, it's fairly easy to show for the case of $n=2$.  Recall from the discussion\n",
    "above that:\n",
    "\n",
    "$$\n",
    "\\begin{array}{lcl}\n",
    "\\sqrt{5} &= &\\phi + \\frac{1}{\\phi}\n",
    "\\end{array}\n",
    "$$"
   ]
  },
  {
   "cell_type": "markdown",
   "id": "9418b6fb",
   "metadata": {},
   "source": [
    "From this it immediately follows that\n",
    "\n",
    "\n",
    "$$\n",
    "\\begin{array}{lcl}\n",
    "5 & = & \\left ( \\phi + \\frac{1}{\\phi} \\right ) ^2\\\\\n",
    "  & = & \\phi^{2} + 2 + \\frac{1}{\\phi^2}\\\\\n",
    "3 & = &  \\phi^{2} + \\frac{1}{\\phi^2}\n",
    "\\end{array}\n",
    "$$"
   ]
  },
  {
   "cell_type": "markdown",
   "id": "79c52aca",
   "metadata": {},
   "source": [
    "In fact, using facts B and C above it's easy to show that\n",
    "$\\phi^{n} + \\phi^{-n}$ is an integer for all even $n$.  In fact,\n",
    "for even $n$:\n",
    "\n",
    "\n",
    "$$\n",
    "\\phi^{n} + \\phi^{-n} = F_{n-1} + F_{n+1}\n",
    "$$\n",
    "\n",
    "Since $F_{n-1}$ and $F_{n+1}$ are not adjacent, the value is is not generally a Fibonacci number.\n",
    "\n",
    "For example:"
   ]
  },
  {
   "cell_type": "code",
   "execution_count": 852,
   "id": "887ae875",
   "metadata": {},
   "outputs": [
    {
     "name": "stdout",
     "output_type": "stream",
     "text": [
      " i    n                  F_n-1    F_n+1       Python\n",
      "\n",
      " 1    2            3        1        2    3.000000000000000\n",
      " 2    4            7        2        5    7.000000000000001\n",
      " 3    6           18        5       13    18.000000000000004\n",
      " 4    8           47       13       34    47.000000000000014\n",
      " 5   10          123       34       89    123.000000000000043\n",
      " 6   12          322       89      233    322.000000000000171\n",
      " 7   14          843      233      610    843.000000000000341\n",
      " 8   16         2207      610     1597    2207.000000000001364\n",
      " 9   18         5778     1597     4181    5778.000000000003638\n",
      "10   20        15127     4181    10946    15127.000000000009095\n",
      "11   22        39603    10946    28657    39603.000000000029104\n",
      "12   24       103682    28657    75025    103682.000000000087311\n",
      "13   26       271443    75025   196418    271443.000000000232831\n",
      "14   28       710647   196418   514229    710647.000000000582077\n",
      "15   30      1860498   514229  1346269    1860498.000000002095476\n"
     ]
    }
   ],
   "source": [
    "tol = 1e-6\n",
    "print(\" i    n                  F_n-1    F_n+1       Python\",end=\"\\n\\n\")\n",
    "for n in range(2,32,2):\n",
    "    s = phi**(n) + phi**(-n)\n",
    "    t = fibonacci_seq_n(n-1) + fibonacci_seq_n(n+1)\n",
    "    lb,ub = fibonacci_seq_n(n-1),fibonacci_seq_n(n+1)\n",
    "    print(f\"{n//2:>2}   {n:>2}      {t:>7.0f} {lb:>8} {ub:>8}    {s:<16.15f}\")"
   ]
  },
  {
   "cell_type": "markdown",
   "id": "14301095",
   "metadata": {},
   "source": [
    "where the second column is $n$, \n",
    "the power we're raising to, the third is $\\phi^{n} + \\phi^{-n}$,\n",
    "the fifth and sixth are the nonadjacent Fibonacci numbers  \n",
    "we add to compute $\\phi^{n} + \\phi^{-n}$, and\n",
    "where the decimal with many 0s in the last column\n",
    "is what Python actually returns for the computation.  You\n",
    "can see the computational error grow as $n$ grows larger.\n",
    "\n",
    "To prove the claim:"
   ]
  },
  {
   "cell_type": "markdown",
   "id": "37519ed7",
   "metadata": {},
   "source": [
    "$$\n",
    "\\begin{array}{llcll}\n",
    "(a)&     & &           \\phi^{n} + \\phi^{-n} \\\\ \n",
    "(b)&     &=&            F_{n}\\phi + F_{n-1} + (-1)^{n+1} \\lbrack F_{n}\\phi - F_{n+1}\\rbrack \\\\        \n",
    "\\end{array}\n",
    "$$\n",
    "\n",
    "where step (b) applies facts B and C demonstrated in the previous section:\n",
    "\n",
    "So when $n$ is even $(-1)^{n+1}$ becomes a minus sign and we have \n",
    "$$\n",
    "\\begin{array}{llcll}\n",
    "(c)&                 &=&    F_{n}\\phi + F_{n-1} - ( F_{n}\\phi - F_{n+1}) \\\\  \n",
    "(d) &                 &=&    F_{n}\\phi + F_{n-1} -  F_{n}\\phi + F_{n+1} \\\\  \n",
    "(e) &                 &=&    F_{n-1}  + F_{n+1} \\\\  \n",
    "\\end{array}\n",
    "$$\n",
    "\n",
    "which is an integer.  If $n$ is odd the $\\phi$  terms do not cancel.  "
   ]
  },
  {
   "cell_type": "markdown",
   "id": "36d14287",
   "metadata": {},
   "source": [
    "By completely parallel reasoning,\n",
    "\n",
    "\n",
    "$$\n",
    "\\phi^{n} - \\phi^{-n} = F_{n-1} + F_{n+1}\n",
    "$$\n",
    "\n",
    "for odd values of $n$.  The demonstration is left as an exercise.  Inspecting \n",
    "$\\phi^{n} - \\phi^{-n}$ for some odd $n$:"
   ]
  },
  {
   "cell_type": "code",
   "execution_count": 854,
   "id": "9518f830",
   "metadata": {
    "scrolled": true
   },
   "outputs": [
    {
     "name": "stdout",
     "output_type": "stream",
     "text": [
      " i    n                  F_n-1    F_n+1       Python\n",
      "\n",
      " 1    3            4        1        3    4.000000000000000\n",
      " 2    5           11        3        8    11.000000000000002\n",
      " 3    7           29        8       21    29.000000000000007\n",
      " 4    9           76       21       55    76.000000000000028\n",
      " 5   11          199       55      144    199.000000000000057\n",
      " 6   13          521      144      377    521.000000000000227\n",
      " 7   15         1364      377      987    1364.000000000000682\n",
      " 8   17         3571      987     2584    3571.000000000002274\n",
      " 9   19         9349     2584     6765    9349.000000000005457\n",
      "10   21        24476     6765    17711    24476.000000000014552\n",
      "11   23        64079    17711    46368    64079.000000000050932\n",
      "12   25       167761    46368   121393    167761.000000000116415\n",
      "13   27       439204   121393   317811    439204.000000000407454\n",
      "14   29      1149851   317811   832040    1149851.000000001164153\n",
      "15   31      3010349   832040  2178309    3010349.000000003259629\n"
     ]
    }
   ],
   "source": [
    "tol = 1e-6\n",
    "print(\" i    n                  F_n-1    F_n+1       Python\",end=\"\\n\\n\")\n",
    "for n in range(3,33,2):\n",
    "    s = phi**(n) - phi**(-n)\n",
    "    t = fibonacci_seq_n(n-1) + fibonacci_seq_n(n+1)\n",
    "    lb,ub = fibonacci_seq_n(n-1),fibonacci_seq_n(n+1)\n",
    "    print(f\"{n//2:>2}   {n:>2}      {t:>7.0f} {lb:>8} {ub:>8}    {s:<16.15f}\")"
   ]
  },
  {
   "cell_type": "markdown",
   "id": "c22c3a5c",
   "metadata": {},
   "source": [
    "Combining the previous two code cells to  show that one or the other $\\phi^n + \\phi^{-n}$ or  $\\phi^n - \\phi^{-n}$ will always be an integer."
   ]
  },
  {
   "cell_type": "code",
   "execution_count": 910,
   "id": "9d8e6df7",
   "metadata": {},
   "outputs": [
    {
     "name": "stdout",
     "output_type": "stream",
     "text": [
      " n    phi^n + phi^-n      phi^n - phi^-n   \n",
      "\n",
      " 1        2.23607              1.00000\n",
      " 2        3.00000              2.23607\n",
      " 3        4.47214              4.00000\n",
      " 4        7.00000              6.70820\n",
      " 5       11.18034             11.00000\n",
      " 6       18.00000             17.88854\n",
      " 7       29.06888             29.00000\n",
      " 8       47.00000             46.95743\n",
      " 9       76.02631             76.00000\n",
      "10      123.00000            122.98374\n",
      "11      199.01005            199.00000\n",
      "12      322.00000            321.99379\n",
      "13      521.00384            521.00000\n",
      "14      843.00000            842.99763\n",
      "15     1364.00147           1364.00000\n",
      "16     2207.00000           2206.99909\n",
      "17     3571.00056           3571.00000\n",
      "18     5778.00000           5777.99965\n",
      "19     9349.00021           9349.00000\n",
      "20    15127.00000          15126.99987\n",
      "21    24476.00008          24476.00000\n",
      "22    39603.00000          39602.99995\n",
      "23    64079.00003          64079.00000\n",
      "24   103682.00000         103681.99998\n",
      "25   167761.00001         167761.00000\n",
      "26   271443.00000         271442.99999\n",
      "27   439204.00000         439204.00000\n",
      "28   710647.00000         710647.00000\n",
      "29  1149851.00000        1149851.00000\n",
      "30  1860498.00000        1860498.00000\n",
      "31  3010349.00000        3010349.00000\n"
     ]
    }
   ],
   "source": [
    "tol = 1e-6\n",
    "print(\" n    phi^n + phi^-n      phi^n - phi^-n   \",end=\"\\n\\n\")\n",
    "for n in range(1,32):\n",
    "    s = phi**(n) + phi**(-n)\n",
    "    t = phi**(n) - phi**(-n)\n",
    "    print(f\"{n:>2}  {s:>13.5f}        {t:>13.5f}\")"
   ]
  },
  {
   "cell_type": "markdown",
   "id": "8924ec85",
   "metadata": {},
   "source": [
    "Something interesting happens. In the last few printouts it looks as if both are integers. In fact\n",
    "only one is, but the contribution made by the $\\phi^{-1}$ term is growing smaller and smaller\n",
    "and so $\\phi^n + \\phi^{-n}$ and $\\phi^n - \\phi^{-n}$ are growing closer together, too close for\n",
    "the level of precision we are using to distinguish.\n",
    "\n",
    "Thiese considerations also explain why values of $\\phi^{n}$ grow closer to an integer as \n",
    "$n$ increases, a puzzle considered on [Judith Knott's post](https://judithknott.com/2017/09/13/powers-of-the-golden-ratio/) on powers of the golden ratio.  For integer values of $n$, one of $\\phi^n + \\phi^{-n}$ or $\\phi^n - \\phi^{-n}$ will always be an integer, but as $n$ increases the contribution of $\\phi^{-n}$ grows rapidly smaller, and $\\phi^n + \\phi^{-n}$ and $\\phi^n - \\phi^{-n}$ simultaneously grow closer to $\\phi^{n}$, so necessarily\n",
    "$\\phi^n$ grows closer to an integer."
   ]
  },
  {
   "cell_type": "code",
   "execution_count": null,
   "id": "63d3290a",
   "metadata": {},
   "outputs": [],
   "source": []
  }
 ],
 "metadata": {
  "kernelspec": {
   "display_name": "Python 3 (ipykernel)",
   "language": "python",
   "name": "python3"
  },
  "language_info": {
   "codemirror_mode": {
    "name": "ipython",
    "version": 3
   },
   "file_extension": ".py",
   "mimetype": "text/x-python",
   "name": "python",
   "nbconvert_exporter": "python",
   "pygments_lexer": "ipython3",
   "version": "3.12.5"
  }
 },
 "nbformat": 4,
 "nbformat_minor": 5
}
