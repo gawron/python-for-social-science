{
 "cells": [
  {
   "cell_type": "markdown",
   "id": "468bb558",
   "metadata": {},
   "source": [
    ">The Background section for this notebook  is a copy of [Alon Amit's Quora post on the mathematical  constant $e$](https://www.quora.com/How-was-the-mathematical-constant-e-calculated-Why-is-it-important),\n",
    "which is really about the $\\exp$ (or exponential) function.\n",
    "\n",
    "## Background\n",
    "\n",
    "The function\n",
    "\n",
    "$$\n",
    "(1)\\,\\,  𝑓(x) =1+ x +\\frac{x^2}{2!}+ \\frac{x^3}{3!} + \\frac{x^4}{4!} + \\dots\n",
    "$$\n",
    "\n",
    "has been called by Rudin \"the most important function in mathematics\". It satisfies the simplest of differential equations:\n",
    "\n",
    "$$\n",
    "f' = f\n",
    "$$\n",
    " \n",
    "from which all kinds of wondrous things follow, as I will attempt to show below.\n",
    "\n",
    "The function usually goes by the name  $\\exp$, \"the exponential function\".   The value\n",
    "\n",
    "$$\n",
    "\\exp\\,(1) = e\n",
    "$$\n",
    "\n",
    "is, indeed, one of the most important constants in math. The  exp\n",
    "function can also be written as an actual exponent with base e:\n",
    "\n",
    "$$\n",
    "\\exp\\,(x)= e^{x}\n",
    "$$\n",
    "\n",
    "But honestly, it's not so much the number $e$ that's so important. It's the function."
   ]
  },
  {
   "cell_type": "markdown",
   "id": "5277de27",
   "metadata": {},
   "source": [
    "## Harmonic Oscillators\n",
    "\n",
    "In physics, the harmonic oscillator is the most fundamental model of a vibrating object, and since everything is made out of little vibrating objects you can imagine that the harmonic oscillator is pretty important. The equation of motion of a harmonic oscillator is given by\n",
    "\n",
    "$$\n",
    "x''= - ax\n",
    "$$\n",
    "\n",
    "where $x$ is the position as a function of time, $x''$\n",
    "is the second derivative of the position with respect to time, aka the acceleration, and\n",
    "$a$ is some positive number (it is the ratio between the \"spring constant\" and the mass). \n",
    "To make matters simple we can just take $a=1$\n",
    "for now. It's easy to change units later and fit the actual value. So,\n",
    "\n",
    "$$\n",
    "x''= - x.\n",
    "$$\n",
    "\n",
    "How do we solve such an equation? Well, we already have a magical function $f$ which satisfies\n",
    "\n",
    "$$\n",
    "f' = f\n",
    "$$\n",
    "\n",
    "so if we modify it just a bit,"
   ]
  },
  {
   "cell_type": "markdown",
   "id": "b72bf576",
   "metadata": {},
   "source": [
    "\n",
    "$$\n",
    "g(x) = f(cx)\n",
    "$$\n",
    " \n",
    "we get\n",
    "\n",
    "$$\n",
    "g' = cg\n",
    "$$\n",
    "\n",
    "and\n",
    "\n",
    "$$\n",
    "g'' = c^{2}g\n",
    "$$\n",
    "\n",
    "So all we need to do is make sure that $c^{2}=-1$\n",
    "and we've solved our harmonic motion equation. There are two such numbers$c$, namely $i$\n",
    "and $-i$, so the functions we need are $e^{ix}$ and $e^{-ix}$.\n",
    "The entire solution space of the equation of motion is just the collection of linear combinations of these two guys, and we can fit a solution to whatever initial conditions we have \n",
    "(initial position and initial velocity - two constraints for a 2-dimensional solution space.\n",
    "Perfect).\n",
    "\n",
    "Since the initial position and initial velocity happen to be real numbers, the entire solution is a real function of time, so we usually switch from the two functions $e^{ix}$ and $e^{-ix}$\n",
    "to the two familiar linear combinations $\\sin(x)$ and $\\cos(x)$, but that's just a simple change of basis.\n",
    "\n",
    "$$\n",
    "\\sin(x)=\\frac{1}{2i}(e^{ix} - e^{-ix}), \\cos(x)=\\frac{1}{2}(e^{ix} + e^{-ix}),\n",
    "$$\n",
    "\n",
    "The function that truly underlies the solutions of fundamental differential equations such as the equation of the harmonic oscillator is the exponential function. The trigonometric functions are simple combinations of exponentials."
   ]
  },
  {
   "cell_type": "markdown",
   "id": "eeeecf23",
   "metadata": {},
   "source": [
    "## Normal Distributions\n",
    "\n",
    "One of the most fundamental laws of the universe is the Central Limit Theorem, which says that when you add up lots of things that have some uncertainty or randomness built into them, you get something that looks like a bell curve."
   ]
  },
  {
   "cell_type": "markdown",
   "id": "756d8b8b",
   "metadata": {},
   "source": [
    "This is called \"the normal distribution\" for a reason. Most everything in nature is distributed like that, because so many things are sums or averages of lots of similar contributions. And of course, the function that describes this all-important curve is an exponential:\n",
    "\n",
    "$$\n",
    "f(x) = e^{-x^{2}/2}\n",
    "$$\n",
    "\n",
    "(I'm ignoring constants and standard deviations and such to show the essence of the function;\n",
    "[JMG i.e., $\\mu=0$ and $\\sigma=1$)]. Again, the fundamental reason why this is the case is the defining differential property of the exponential function; in this case, the normal curve is the solution of\n",
    "\n",
    "$$\n",
    "f' + xf = 0\n",
    "$$\n",
    " \n",
    "which turns out to be the thing that makes this distribution so universal. Up to scaling factors, it is one of the few functions that is its own convolution with itself. And it is the only function that is its own Fourier Transform."
   ]
  },
  {
   "cell_type": "markdown",
   "id": "c64b2add",
   "metadata": {},
   "source": [
    "The Fourier transform is a fundamental tool in engineering, physics and mathematics. It's hard to overstate its importance. Most people usually associate Fourier series and transforms with trigonometric functions, but we've already seen that these functions are really just exponentials. In fact, the definition of the general Fourier transform is\n",
    "\n",
    "$$\n",
    "F(f)(\\omega) = \\int^{\\infty}_{-\\infty} e^{-2\\pi i \\omega x} dx\n",
    "$$\n",
    "\n"
   ]
  },
  {
   "cell_type": "markdown",
   "id": "43ffbd0c",
   "metadata": {},
   "source": [
    "so here's our favorite $e$ again, or rather the exponential function, at the center of an idea that permeates science and engineering. Signal processing, as an example, cannot get off the ground without Fourier analysis -- and that applies to both the analog and digital domains.\n",
    "\n",
    "These are just some of the reasons why the exponential function, and the number that accompanies it, are so important."
   ]
  },
  {
   "cell_type": "markdown",
   "id": "1dc551d7",
   "metadata": {},
   "source": [
    "Here ends the extended excerpt from Alon Amit.\n",
    "\n",
    "The rest of this notebook relates the properties of $f$ just discussed to other\n",
    "famous properties."
   ]
  },
  {
   "cell_type": "markdown",
   "id": "84ebcf2d",
   "metadata": {},
   "source": [
    "## Estimating $e$:\n",
    "\n",
    "We have our definition of this important function $f$ (as an infinite series), which clearly satisfies \n",
    "f = f', and we have our definition of $e$ as $f(1)$.\n",
    "\n",
    "So let's use these two facts to start estimating $e$ computationally.\n"
   ]
  },
  {
   "cell_type": "code",
   "execution_count": 26,
   "id": "4d7460b3",
   "metadata": {},
   "outputs": [
    {
     "name": "stdout",
     "output_type": "stream",
     "text": [
      "\n",
      "Successively better estimates of e\n",
      "\n",
      "n=0: 2.000\n",
      "n=1: 2.500\n",
      "n=2: 2.667\n",
      "n=3: 2.708\n",
      "n=4: 2.717\n",
      "n=5: 2.718\n"
     ]
    }
   ],
   "source": [
    "import numpy as np\n",
    "\n",
    "def estimate_exp(n,x=1):\n",
    "    \"\"\"\n",
    "    Estimate `exp(x)`  by summing the first n+1 terms of the exp series.\n",
    "    \n",
    "    Leaving it to np.math.factorial to enforce the requirement that n be a non negative integer.\n",
    "    \"\"\"\n",
    "    if n == 0:\n",
    "        return 1\n",
    "    else:\n",
    "        return (x**n)/np.math.factorial(n) + estimate_exp(n-1,x=x)\n",
    "    \n",
    "\n",
    "print(\"\\nSuccessively better estimates of e\\n\")\n",
    "N=5\n",
    "for n in range(N+1):   \n",
    "    print(f\"{n=}: {estimate_exp(n+1):.3f}\")"
   ]
  },
  {
   "cell_type": "markdown",
   "id": "2f6e267f",
   "metadata": {},
   "source": [
    "Looking up $e$ in our mathematical directory:"
   ]
  },
  {
   "cell_type": "code",
   "execution_count": 3,
   "id": "484a1098",
   "metadata": {},
   "outputs": [
    {
     "data": {
      "text/plain": [
       "2.718281828459045"
      ]
     },
     "execution_count": 3,
     "metadata": {},
     "output_type": "execute_result"
    }
   ],
   "source": [
    "np.e"
   ]
  },
  {
   "cell_type": "markdown",
   "id": "4825119c",
   "metadata": {},
   "source": [
    "Estimating $e^{2}$:"
   ]
  },
  {
   "cell_type": "code",
   "execution_count": 16,
   "id": "f86bed0c",
   "metadata": {},
   "outputs": [
    {
     "name": "stdout",
     "output_type": "stream",
     "text": [
      "0: 3.000\n",
      "1: 5.000\n",
      "2: 6.333\n",
      "3: 7.000\n",
      "4: 7.267\n",
      "5: 7.356\n",
      "6: 7.381\n",
      "7: 7.387\n",
      "8: 7.389\n"
     ]
    }
   ],
   "source": [
    "n=8\n",
    "for i in range(n+1):   \n",
    "    print(f\"{i}: {estimate_exp(i+1,x=2):.3f}\")"
   ]
  },
  {
   "cell_type": "code",
   "execution_count": 9,
   "id": "f62a6554",
   "metadata": {},
   "outputs": [
    {
     "data": {
      "text/plain": [
       "7.3890560989306495"
      ]
     },
     "execution_count": 9,
     "metadata": {},
     "output_type": "execute_result"
    }
   ],
   "source": [
    "np.e**2"
   ]
  },
  {
   "cell_type": "markdown",
   "id": "f695a919",
   "metadata": {},
   "source": [
    "## Proving that exp is -- well, exponential \n",
    "\n",
    "Ok this part, especially remembering to test for uniform convergence, comes from [a Flammable Maths Video.](https://www.youtube.com/watch?v=owdvXpe_-Zc)\n",
    "\n",
    "Prove that $\\exp$ is exponential.  That is, prove it satisfies the following basic relation:\n",
    "\n",
    "$$\n",
    "\\exp\\,(x + y) = \\exp\\,(x)\\,\\exp\\,(y)\n",
    "$$\n",
    "\n",
    "with $\\exp\\,(x)$ defined as in (1), repeated here:\n",
    "\n",
    "\n",
    "$$\n",
    "\\exp(x) = 1+ x +\\frac{x^2}{2!}+ \\frac{x^3}{3!} + \\frac{x^4}{4!} + \\dots\n",
    "$$\n",
    "\n",
    "\n",
    "The proof uses **the Cauchy product of two infinite series** (now to see whether the\n",
    "Cauchy equivalence holds here, there is an important test I'm skipping; see the note\n",
    "below):\n",
    "\n",
    "$$\n",
    "\\left ( \\sum_{i=0}^{\\infty} a_{i} \\right ) \\left ( \\sum_{j=0}^{\\infty} b_{j} \\right ) =\n",
    " \\sum_{k=0}^{\\infty} c_{k} \\, \\,\n",
    "\\mbox{ where } \\,\\, c_{k} =  \\sum_{l=0}^{k} a_{l}b_{k-l} \n",
    "$$\n",
    "\n",
    "This somewhat resembles what we once learned about polynomial multiplication\n",
    "but is different in important ways.  And since infinite sums are always a little unsettling,\n",
    "it's nice to know that someone with impecabble math (and engineering) credentials\n",
    "proved this in the 19th century.  Applying this to \n",
    "\n",
    "$$\n",
    "\\exp(x)\\,\\exp(y) = \\left (\\sum_{i=0}^{\\infty} \\frac{x^{i}}{i!} \\right )\\left (\\sum_{j=0}^{\\infty} \\frac{y^{j}}{j!} \\right ) \n",
    "$$\n",
    "\n",
    "we get:\n",
    "\n",
    "$$\n",
    "(1) \\, \\,\\exp\\,(x)\\exp\\,(y) =  \\sum_{k=0}^{\\infty}  \\left (\\sum_{l=0}^{k} \\frac{x^{l}}{l!} \\frac{y^{k-l}}{(k-l)!} \\right ) \n",
    "$$\n",
    "\n",
    "Now let's take a look at where we're headed.  We'd like the double sum on the right of\n",
    "the equal sign in (1) to equal:\n",
    "\n",
    "$$\n",
    "\\exp\\,(x + y) = 1 + \\frac{(x + y)^{1}}{1!} +\\frac{(x+y)^2}{2!}+ \\frac{(x+y)^3}{3!} + \\dots\n",
    "= \\sum_{k=0}^{\\infty} \\frac{(x+y)^{k}}{k!}\n",
    "$$\n",
    "\n",
    "So if life were kind,  the inner sum in (1) would equal a term in the $\\exp$ sum:\n",
    "\n",
    "$$\n",
    "(2) \\,\\,  \\sum_{l=0}^{k} \\frac{x^{l}}{l!} \\frac{y^{k-l}}{(k-l)!} \\stackrel{?}{=} \\frac{(x + y)^{k}}{k!}\n",
    "$$\n",
    "\n",
    "To see whether that's true we use the Binomial Theorem, which tells us:\n",
    "\n",
    "\n",
    "$$\n",
    "(x + y)^{k}  = \\sum_{l=0}^{k} { k \\choose l } \\, x^{l}\\,y^{k-l} = \\sum_{l=0}^{k} \\frac{k!}{l!\\,(k-l)!} \\, x^{l}\\,y^{k-l}\n",
    "$$\n",
    "\n",
    "which means\n",
    "\n",
    "$$\n",
    "\\frac{1}{k!}(x + y)^{k}  = \\sum_{l=0}^{k} \\frac{1}{k!} \\frac{k!}{l!\\,(k-l)!} \\, x^{l}\\,y^{k-l} = \\sum_{l=0}^{k}  \\frac{x^{l}\\,y^{k-l}}{l!\\,(k-l)!},\n",
    "$$\n",
    "\n",
    "which is exactly the inner sum in (1).  This essentially completes the proof, but let's tidy up.\n",
    "\n",
    "Now that we know exactly what the proof needs, we can appear especially clever by backtracking to (1) and\n",
    "factoring $\\frac{1}{k!}$ out of the inner sum.  We do that by multiplying the terms in the inner sum \n",
    "by $\\frac{k!}{k!}$\n",
    "\n",
    "$$\n",
    "(1') \\, \\,\\exp\\,(x)\\exp\\,(y) = \\sum_{k=0}^{\\infty}\\left (   \\sum_{l=0}^{k} \\frac{x^{l}}{l!} \\frac{y^{k-l}}{(k-l)!} \\frac{k!}{k!} \\right )\n",
    "= \\sum_{k=0}^{\\infty}  \\frac{1}{k!} \\left (\\sum_{l=0}^{k} x^{l} y^{k-l} \\frac{k!}{l!\\,(k-l)!} \\right )\n",
    "= \\sum_{k=0}^{\\infty} \\frac{(x + y)^{k}}{k!} \n",
    "= \\exp\\,(x + y)\n",
    "$$\n",
    "\n",
    "And voila!  A one-line proof (more or less).  We might want to add a note of explanation for the mere mortals:\n",
    "where the substitution of $(x + y)^{k}$ for the second inner sum is justified by the Binomial Theorem.\n",
    "\n",
    "\n",
    "\n",
    "========================================================================================================\n",
    "\n",
    "**Note**:  The fine print on the Cauchy product says that we need the two series we are multiplying to **converge absolutely**, which we can establish with something called the ratio test. That is, for both series (which, fortunately, have exactly the same form), the ratio of the ($n+1$)-th term to $n$th\n",
    "term has to be less than 1:\n",
    "\n",
    "$$\n",
    "\\lim_{n\\rightarrow \\infty} \\left \\vert \\frac{a_{n+1}}{a_{n}} \\right \\vert \\lt 1.\n",
    "$$\n",
    "\n",
    "So we check  the ratio of \n",
    "\n",
    "$$\n",
    "\\left \\vert \\frac{x^{n+1}}{(n + 1)!} \\right \\vert \\,\\, \\mbox{ to } \\,\\, \\left \\vert \\frac{x^{n}}{n!} \\right \\vert,\n",
    "$$\n",
    "\n",
    "which is\n",
    "\n",
    "$$\n",
    "\\left \\vert \\frac{x^{n+1}} {(n + 1)!}  \\right \\vert \\cdot \\left \\vert \\frac{n!}{x^{n}}  \\right \\vert  = \\left \\vert \\frac{x}{n+1} \\right \\vert ,\n",
    "$$\n",
    "\n",
    "since the product of  the absolute values of two real numbers is the\n",
    "absolute value of the product. And so we can confidently assert\n",
    "\n",
    "$$\n",
    "\\lim_{n\\rightarrow \\infty}  \\left \\vert \\frac{x}{n+1} \\right \\vert \\lt 1,\n",
    "$$\n",
    "\n",
    "since the expression on the left dwindles to 0 as $n$ grows, whatever the value of $x$.\n"
   ]
  },
  {
   "cell_type": "markdown",
   "id": "8fa644b0",
   "metadata": {},
   "source": [
    "## Take 2: A somewhat more satisfying proof\n",
    "\n",
    "From [one of Dr. Peyam's videos.](https://www.youtube.com/watch?v=TgrT2nTl6IM)\n",
    "\n",
    "No Cauchy product, in fact no reference to the infinite series at all.  Just make three assumptions\n",
    "\n",
    "1.  f = f'\n",
    "2.  f(0) = 1\n",
    "3.  f > 0.\n",
    "\n",
    "$$\n",
    "g(x) = \\frac{f(x + a)}{f(x)}\n",
    "$$\n",
    "\n",
    "This proof that follows uses $g$ and needs assumption 3, which guarantees that $g$ is nowhere undefined,\n",
    "licensing the shenanigans below. We of course could derive assumption 3\n",
    "if we were allowed to peek at the infinite series, but we're not.\n",
    "\n",
    "$$\n",
    "g'(x) = \\frac{f'(x + a)f(x) - f'(x)f(x+a)}{f(x)^2} = \\frac{f(x + a)f(x) - f(x)f(x+a)}{f(x)^2} = 0\n",
    "$$\n",
    "\n",
    "Hence we have shown $g$ is constant:\n",
    "\n",
    "$$\n",
    "C = \\frac{f(x + a)}{f(x)}\n",
    "$$\n",
    "\n",
    "To find C we look at $x=0$ and use assumption 2.\n",
    "\n",
    "$$\n",
    "C = \\frac{f(0 + a)}{f(0)} = \\frac{f(a)}{1} = f(a)\n",
    "$$\n",
    "\n",
    "So now we are pretty much done. We have:\n",
    "\n",
    "$$\n",
    "\\frac{f(x + a)}{f(x)} =  f(a) \\Rightarrow f(x + a) =  f(a) f(x) \n",
    "$$\n",
    "\n",
    "You might say, well the proof via Cauchy product goes through with no assumptions, so isn't that better?\n",
    "But of course that proof starts by defining $f$ \n",
    "as a very special infinite series, which entails all three assumptions above, \n",
    "so in fact it assumes at least as much this proof.\n",
    "\n",
    "Both proofs have their place. This one shows us that it doesn't take much more than $f' = f$ to give\n",
    "us exponentiality, and it does so in an insightful way."
   ]
  },
  {
   "cell_type": "markdown",
   "id": "8c936477",
   "metadata": {},
   "source": [
    "## Another proof of exponentiality, another path to e"
   ]
  },
  {
   "cell_type": "markdown",
   "id": "d2810e07",
   "metadata": {},
   "source": [
    "Why is $e$ the **natural** logarithm base? We will try to motivate that idea here.  In the process we will\n",
    "discover yet another proof that $\\exp$ is exponential.\n",
    "\n",
    "Choose a small number $\\epsilon$, add it to 1, and raise that to the\n",
    "$1/\\epsilon$ power.  Here's an example:"
   ]
  },
  {
   "cell_type": "code",
   "execution_count": 30,
   "id": "f72cbe8f",
   "metadata": {},
   "outputs": [
    {
     "data": {
      "text/plain": [
       "1.000001"
      ]
     },
     "execution_count": 30,
     "metadata": {},
     "output_type": "execute_result"
    }
   ],
   "source": [
    "eps = 1e-6\n",
    "1 + eps"
   ]
  },
  {
   "cell_type": "markdown",
   "id": "207c57f6",
   "metadata": {},
   "source": [
    "Next we choose $1/\\epsilon$ as a power to raise $1 + \\epsilon$ to: Observe what happens:"
   ]
  },
  {
   "cell_type": "code",
   "execution_count": 12,
   "id": "2576886b",
   "metadata": {},
   "outputs": [
    {
     "data": {
      "text/plain": [
       "2.7182804690957534"
      ]
     },
     "execution_count": 12,
     "metadata": {},
     "output_type": "execute_result"
    }
   ],
   "source": [
    "epss = 1e-6\n",
    "(1+eps)**(1/eps)"
   ]
  },
  {
   "cell_type": "markdown",
   "id": "6b534b1b",
   "metadata": {},
   "source": [
    "Which is a pretty good approximation of $e$:"
   ]
  },
  {
   "cell_type": "code",
   "execution_count": 5,
   "id": "55429e49",
   "metadata": {},
   "outputs": [
    {
     "data": {
      "text/plain": [
       "2.718281828459045"
      ]
     },
     "execution_count": 5,
     "metadata": {},
     "output_type": "execute_result"
    }
   ],
   "source": [
    "import numpy as np\n",
    "np.exp(1)"
   ]
  },
  {
   "cell_type": "markdown",
   "id": "e399e255",
   "metadata": {},
   "source": [
    "Shrink the base, the number whose power is being taken, ever closer to $1$ for \n",
    "ever better approximations of $e$:"
   ]
  },
  {
   "cell_type": "code",
   "execution_count": 16,
   "id": "49976698",
   "metadata": {},
   "outputs": [
    {
     "name": "stdout",
     "output_type": "stream",
     "text": [
      " 1 2.250000000000 2.691588029074  4.68e-01  0.468\n",
      " 2 2.441406250000 2.704813829422  2.77e-01  0.591\n",
      " 3 2.565784513950 2.711517122929  1.52e-01  0.551\n",
      " 4 2.637928497367 2.714891744381  8.04e-02  0.527\n",
      " 5 2.676990129378 2.716584846682  4.13e-02  0.514\n",
      " 6 2.697344952565 2.717432851769  2.09e-02  0.507\n",
      " 7 2.707739019688 2.717857218554  1.05e-02  0.504\n",
      " 8 2.712991624253 2.718069493105  5.29e-03  0.502\n",
      " 9 2.715632000169 2.718175653176  2.65e-03  0.501\n",
      "10 2.716955729466 2.718228738916  1.33e-03  0.500\n",
      "11 2.717618482337 2.718255283211  6.63e-04  0.500\n",
      "12 2.717950081190 2.718268555715  3.32e-04  0.500\n",
      "13 2.718115936266 2.718275192118  1.66e-04  0.500\n",
      "14 2.718198877722 2.718278510311  8.30e-05  0.500\n",
      "15 2.718240351930 2.718280169413  4.15e-05  0.500\n",
      "16 2.718261089905 2.718280998471  2.07e-05  0.500\n",
      "17 2.718271459109 2.718281414236  1.04e-05  0.500\n",
      "18 2.718276643766 2.718281619647  5.18e-06  0.500\n",
      "19 2.718279236108 2.718281727296  2.59e-06  0.500\n",
      "20 2.718280532282 2.718281779144  1.30e-06  0.500\n",
      "21 2.718281180370 2.718281805067  6.48e-07  0.500\n",
      "22 2.718281504415 2.718281818029  3.24e-07  0.500\n",
      "23 2.718281666437 2.718281761220  1.62e-07  0.500\n",
      "24 2.718281747448 2.718281764460  8.10e-08  0.500\n",
      "25 2.718281787953 2.718281766080  4.05e-08  0.500\n",
      "26 2.718281808206 2.718282273210  2.03e-08  0.500\n",
      "27 2.718281818333 2.718281260976  1.01e-08  0.500\n",
      "28 2.718281823396 2.718283286457  5.06e-09  0.500\n",
      "29 2.718281825927 2.718279236003  2.53e-09  0.500\n",
      "30 2.718281827193 2.718279236054  1.27e-09  0.500\n",
      "31 2.718281827826 2.718279236079  6.33e-10  0.500\n",
      "32 2.718281828143 2.718279236092  3.16e-10  0.500\n",
      "33 2.718281828301 2.718344045698  1.58e-10  0.500\n",
      "34 2.718281828380 2.718344045701  7.91e-11  0.500\n",
      "35 2.718281828419 2.718344045703  3.96e-11  0.500\n",
      "36 2.718281828439 2.717825612167  1.98e-11  0.500\n",
      "37 2.718281828449 2.718862578134  9.89e-12  0.500\n",
      "38 2.718281828454 2.716789041697  4.94e-12  0.500\n",
      "39 2.718281828457 2.720937697157  2.47e-12  0.500\n"
     ]
    }
   ],
   "source": [
    "eps0 = 1\n",
    "for i in range(1,40):\n",
    "    bs = 2**(-i)\n",
    "    r = 2 **(i)\n",
    "    val=(1+bs)**(1/bs)\n",
    "    eps = np.e - val\n",
    "    print(f\"{i:>2} {val:.12f}  {eps: .2e}  {eps/eps0:.3f}\")\n",
    "    eps0 = eps"
   ]
  },
  {
   "cell_type": "code",
   "execution_count": 35,
   "id": "9ebb4b6a",
   "metadata": {},
   "outputs": [
    {
     "data": {
      "text/plain": [
       "2.718281828459045"
      ]
     },
     "execution_count": 35,
     "metadata": {},
     "output_type": "execute_result"
    }
   ],
   "source": [
    "np.e"
   ]
  },
  {
   "cell_type": "markdown",
   "id": "640aab4d",
   "metadata": {},
   "source": [
    "Notice $\\epsilon$ the difference between `val` (our estimate) and $e$ is converging on  0, with the error halved on each iteration."
   ]
  },
  {
   "cell_type": "markdown",
   "id": "93ffef62",
   "metadata": {},
   "source": [
    "What we are suggesting (but not yet proving) is:\n",
    "\n",
    "$$\n",
    "(1A)\\;\\; e = \\lim_{n\\rightarrow \\infty} \\; (1+1/n)^{n} \n",
    "$$"
   ]
  },
  {
   "cell_type": "markdown",
   "id": "ee5f9873",
   "metadata": {},
   "source": [
    "This limit, which is an alternative definition of $e$ (we used $\\exp(1)$ above) also turns out to lead to an alternative definition of $\\exp$.\n",
    "\n",
    "The interest in this limit (discovered by Bernoulli) arose first in the computation of compound interest.\n",
    "He was exploring what happens to compound interest as the compounding period grows smaller and \n",
    "smaller. Suppose your the interest on your principle is 4% and you compound every day, then \n",
    "at the end of the first day your principle will be multiplied\n",
    "by $(1 + .04/365)$ and if we add that to our new principle for the second day (compounding)\n",
    "the multiplier will be  $(1 + .04/365)^2$.  Now suppose we compound every half day,\n",
    "or every minute.   In fact the multiplier grows and grows each time the compounding frequency is increased, but the rate at which it grows slows. In fact, suppose we make our period infinitely small.  Does  the multiplier grow infinite?  No, indeed. Here's what happens:\n",
    "\n",
    "For any given compounding frequency $r$, the multiplier is:\n",
    "\n",
    "$$\n",
    "(1 + .04/r)^r.\n",
    "$$\n",
    "\n",
    "Since\n",
    "\n",
    "$$\n",
    "\\lim_{r\\rightarrow \\infty} (1 + .04/r)^{r/.04}  = e,\n",
    "$$\n",
    "\n",
    "$$\n",
    "\\lim_{r\\rightarrow \\infty} (1 + .04/r)^{r} = ((1 + .04/r)^{r/.04})^{.04} = e ^{.04}.\n",
    "$$\n",
    "\n",
    "Demonstrating, we compute the multipliers from daily compounding to compounding 20 times daily,\n",
    "and compare with $e^{.04}$."
   ]
  },
  {
   "cell_type": "code",
   "execution_count": 28,
   "id": "80205120",
   "metadata": {},
   "outputs": [
    {
     "name": "stdout",
     "output_type": "stream",
     "text": [
      "e^0.04 1.0408107741923882\n",
      "\n",
      "            difference from e^{.04}\n",
      "-----------------------------------\n",
      "   1 daily:        2.2811e-06\n",
      "   2 daily:        1.1406e-06\n",
      "   3 daily:        7.6039e-07\n",
      "   4 daily:        5.7030e-07\n",
      "   5 daily:        4.5624e-07\n",
      "   6 daily:        3.8020e-07\n",
      "   7 daily:        3.2589e-07\n",
      "   8 daily:        2.8515e-07\n",
      "   9 daily:        2.5347e-07\n",
      "  10 daily:        2.2812e-07\n",
      "  11 daily:        2.0738e-07\n",
      "  12 daily:        1.9010e-07\n",
      "  13 daily:        1.7548e-07\n",
      "  14 daily:        1.6294e-07\n",
      "  15 daily:        1.5208e-07\n",
      "  16 daily:        1.4258e-07\n",
      "  17 daily:        1.3419e-07\n",
      "  18 daily:        1.2673e-07\n",
      "  19 daily:        1.2006e-07\n",
      "  20 daily:        1.1406e-07\n"
     ]
    }
   ],
   "source": [
    "import numpy as np\n",
    "\n",
    "lim = np.e**(.04)\n",
    "def multiplier (r):\n",
    "    return (1 + (.04/r))**(r)\n",
    "\n",
    "print(f\"e^{.04} {lim:8}\",end=\"\\n\\n\")\n",
    "col_header= \"            difference from e^{.04}\"\n",
    "print (col_header)\n",
    "print(\"-\" * len(col_header))\n",
    "\n",
    "for (i,r) in enumerate(range(365, 21*365, 365)):\n",
    "    print(f\"{i+1:>4} daily:        {lim - multiplier(r):.4e}\")"
   ]
  },
  {
   "cell_type": "markdown",
   "id": "31328faa",
   "metadata": {},
   "source": [
    "Thus, Bernoulli discovered that at the limit the compound interest multiplier is a power of $e$.\n",
    "\n",
    "Equally interesting, $e$ came into focus because of building logarithm tables, which were at first\n",
    "constructed simply as tables for making multiplication easier, without realizing that the values for an exponential function were being computed. The idea was to map multiplication problems to\n",
    "addition problems, as in:\n",
    "\n",
    "$$\n",
    "\\begin{array}[t]{ll}\n",
    "0 & 1\\\\\n",
    "1 & 2\\\\\n",
    "2 & 4\\\\\n",
    "3 & 8\\\\\n",
    "4 & 16\\\\\n",
    "5 & 32\\\\\n",
    "  & \\dots\\\\\n",
    "9 &  512\n",
    "\\end{array}\n",
    "$$\n",
    "\n",
    "To multiply 16 by 32 you would look up their logs (base 2) which are 4 and 5, add them, and look up the \"antilog\" of 9, which is 512.\n",
    "\n",
    "This is great, but using 2 as your multiplier only allows you to multiply powers of 2. Suppose you want to multiply other integers, or real positive non-integers. What we need is a finer-grained way of slicing up the positive numbers.  But wait, so far we've only used integer powers of 2.  Suppose we\n",
    "try fractional powers.   Suppose we use the $1/3$ power.\n",
    "\n",
    "$$\n",
    "\\begin{array}[t]{ll}\n",
    "0 & 1\\\\\n",
    "1/3 & \\sqrt[3]{2}\\\\\n",
    "2/3 & {\\sqrt[3]{2}}^{2}\\\\\n",
    "1 & 2\\\\\n",
    "4/3 & {\\sqrt[3]{2}}^{4}\\\\\n",
    "5/3 & {\\sqrt[3]{2}}^{5}\\\\\n",
    "2 & 4\\\\\n",
    "\\end{array}\n",
    "$$\n",
    "\n",
    "Indeed why stop there?  For any $n$\n",
    "\n",
    "$$\n",
    "\\begin{array}[t]{ll}\n",
    "0 & 1\\\\\n",
    "1/n & \\sqrt[n]{2}\\\\\n",
    "2/n & {\\sqrt[n]{2}}^{\\,2}\\\\\n",
    "\\dots &  \\dots \\\\\n",
    "n/n & 2\\\\\n",
    "(n+1)/n & {\\sqrt[n]{2}}^{\\,n+1}\\\\\n",
    "(n+2)/n & {\\sqrt[n]{2}}^{\\,n+2}\\\\\n",
    "\\dots & \\dots \\\\\n",
    "2 & 4\\\\\n",
    "\\end{array}\n",
    "$$\n",
    "\n",
    "Now suppose we want to get still finer-grained entries in order to get greater precision.  We just make $n$ larger. Each time we increase $n$, we get a new value for $2^{1/n}$, the smallest number in our\n",
    "logarithm table, which we'll call our **atom**.   And the bigger $n$ is, the smaller our atom and  the more accurate our computations with the table get.  So now we are led to ask: Is there an end to this\n",
    "process?  Well obviously\n",
    "\n",
    "$$\n",
    "\\lim_{n\\rightarrow\\infty} 2^{1/n}  = 1,\n",
    "$$\n",
    "\n",
    "but that's not much use, since $1^{m} = 1$ for any $m$, so we can't have 1 be our atom. Also\n",
    "our choice of 2 for our base was arbitrary.  Nothing hangs on that. In fact for any fixed $y>1$:\n",
    "\n",
    "$$\n",
    "\\lim_{n\\rightarrow\\infty} y^{1/n}  = 1,\n",
    "$$\n",
    "\n",
    "Let's flip things around and ask if there's a natural logarithm atom/base\n",
    "relationship, that is, any atom $z$ and base $y$ such that:\n",
    "\n",
    "$$\n",
    "\\lim_{n\\rightarrow\\infty} z^{n}  = y.\n",
    "$$\n",
    "\n",
    "And obviously $z$ can't be some fixed number, since if it is less than 1, $y$ just gets\n",
    "smaller and smaller, and if it is greater, $y$ gets bigger and bigger.  And we already\n",
    "saw, $z=1$ is no help.  \n",
    "\n",
    "But what if we let $z$ depend on $n$ and let it approach 1 as $n$ increases? This brings\n",
    "us back to the familiar limit in (1a):\n",
    "\n",
    "$$\n",
    "\\lim_{n\\rightarrow\\infty} (1+1/n)^{n}  = y.\n",
    "$$\n",
    "\n",
    "We've already suggested that this limit exists and is equal to $e$.  And if that's \n",
    "true, then there's a very precise sense in which $e$ is the ideal value for $y$.  For \n",
    "as $n$ increases, the $n$th root of $e$ grows closer and closer to $(1 + 1/n)$.\n",
    "\n",
    "And now our table looks like this:\n",
    "\n",
    "$$\n",
    "\\begin{array}[t]{ll}\n",
    "0 & 1\\\\\n",
    "1/n & 1+1/n\\\\\n",
    "2/n & (1+1/n)^2\\\\\n",
    "3/n & (1+1/n)^3\\\\\n",
    "4/n & (1+1/n)^4\\\\\n",
    "5/n & (1+1/n)^5\\\\\n",
    "  & \\dots\\\\\n",
    "n/n &  (1+1/n)^n \\approx e\\\\\n",
    "\\end{array}\n",
    "$$\n",
    "\n",
    "Here for completeness is a table comparing the nth root of $e$ with\n",
    "$(1+1/n)$ as $n$ grows larger:"
   ]
  },
  {
   "cell_type": "code",
   "execution_count": 85,
   "id": "ec1d3d1f",
   "metadata": {},
   "outputs": [
    {
     "name": "stdout",
     "output_type": "stream",
     "text": [
      "  n  1+1/n  (1+1/n)^n e^(1/n) \n",
      "===============================\n",
      "  1  2.0000  2.0000  2.7183\n",
      "  7  1.1429  2.5465  1.1536\n",
      " 13  1.0769  2.6206  1.0800\n",
      " 19  1.0526  2.6500  1.0540\n",
      " 25  1.0400  2.6658  1.0408\n",
      " 31  1.0323  2.6757  1.0328\n",
      " 37  1.0270  2.6824  1.0274\n",
      " 43  1.0233  2.6873  1.0235\n",
      " 49  1.0204  2.6911  1.0206\n",
      " 55  1.0182  2.6940  1.0183\n",
      " 61  1.0164  2.6963  1.0165\n",
      " 67  1.0149  2.6983  1.0150\n",
      " 73  1.0137  2.6999  1.0138\n",
      " 79  1.0127  2.7013  1.0127\n",
      " 85  1.0118  2.7025  1.0118\n",
      " 91  1.0110  2.7035  1.0110\n",
      " 97  1.0103  2.7044  1.0104\n",
      "103  1.0097  2.7052  1.0098\n",
      "109  1.0092  2.7059  1.0092\n",
      "115  1.0087  2.7066  1.0087\n",
      "121  1.0083  2.7071  1.0083\n",
      "127  1.0079  2.7077  1.0079\n",
      "133  1.0075  2.7081  1.0075\n",
      "139  1.0072  2.7086  1.0072\n"
     ]
    }
   ],
   "source": [
    "banner = f\"{'n':>3}  {'1+1/n'}  {'(1+1/n)^n':>4} {'e^(1/n)':>4} \"\n",
    "print(banner)\n",
    "print(\"=\"*(len(banner)+1),end=\"\\n\")\n",
    "for n in range(1,140,6):\n",
    "  print(f\"{n:>3}  {1+1/n:.4f}  {(1+1/n)**n:.4f}  {np.e**(1/n):.4f}\")"
   ]
  },
  {
   "cell_type": "markdown",
   "id": "872361f1",
   "metadata": {},
   "source": [
    "The next question is: can we prove (1A)?  To do that \n",
    "we are going to relate the limit in (1A) (some particular number,\n",
    "if the limit exists) to what we know\n",
    "about the function $f$ (or $\\exp$ as we have been calling it)?\n",
    "\n",
    "What we know by definition is this:\n",
    "\n",
    "$$\n",
    "(2)\\,\\,\\exp\\,(1) = e \n",
    "$$\n",
    "\n",
    "More precisely we have convinced ourselves that the infinite sum in (1) has a limit (not proved here) and called the limit $e$.\n",
    "\n",
    "What we'd like to show is that $e$ is also the limit of another infinite sequence:\n",
    "\n",
    "$$\n",
    "(2')\\,\\, e = \\lim_{n\\rightarrow \\infty} \\; (1+1/n)^{n}.\n",
    "$$\n",
    "\n",
    "That is, we want to simultaneously show that the limit in (1A) exists and that\n",
    "its value is the limit of the infinite series we used to define $\\exp(1)$."
   ]
  },
  {
   "cell_type": "markdown",
   "id": "e73a6598",
   "metadata": {},
   "source": [
    "Do we know an algebraic way of computing the limit in (2')?  Yes, we do, a way that's come up once before in the notebook, the good old undervalued Binomial Theorem (well, undervalued by algebra students, perhaps, not by mathematicians, or by people who compute compound interest).  According to the Binomial Theorem\n",
    "\n",
    "\n",
    "$$\n",
    "(x + y)^{n}  = \\sum_{k=0}^{n} { n \\choose k } \\, x^{n-k}\\,y^{k} = \\sum_{k=0}^{n} \\frac{n!}{k!\\,(n-k)!} \\, x^{n-k}\\,y^{k}\n",
    "$$\n",
    "\n",
    "Therefore\n",
    "\n",
    "$$\n",
    "(3)\\,\\,\\,  (1 + 1/n)^{n}  = \\sum_{k=0}^{n} { n \\choose k } \\, 1^{n-k}\\,(1/n)^{k} \n",
    "               =  \\sum_{k=0}^{n} \\frac{1}{k!} \\frac{n (n-1) (n-2) \\dots (n - k +1)}{n^k}\n",
    "               =  \\sum_{k=0}^{n} \\frac{1}{k!} \\prod^{k-1}_{m=0} \\left ( 1 - \\frac{m}{n}\\right )\n",
    "$$\n"
   ]
  },
  {
   "cell_type": "markdown",
   "id": "58b24b70",
   "metadata": {},
   "source": [
    "We'd like to show this is equal to $\\exp(1)=e$ as defined above.  Since,\n",
    "\n",
    "$$\n",
    "\\exp(x) =1+ x +\\frac{x^2}{2!}+ \\frac{x^3}{3!} + \\frac{x^4}{4!} + \\dots,\n",
    "$$\n",
    "\n",
    "then\n",
    "\n",
    "$$\n",
    "\\exp(1) = 1  +  1 +\\frac{1}{2!}+ \\frac{1}{3!} + \\frac{1}{4!} + \\dots\n",
    "$$\n",
    "\n",
    "In other words:\n",
    "$$\n",
    "e= \\exp(1) =  \\lim_{n\\rightarrow \\infty} \\sum_{k=0}^{n} \\frac{1}{k!} \n",
    "$$\n",
    "\n",
    "And what we'd like to show is:\n",
    "\n",
    "$$\n",
    "(4)\\,\\,\\, \\lim_{n\\rightarrow \\infty} (1 + 1/n)^{n}  =  \\lim_{n\\rightarrow \\infty} \\sum_{k=0}^{n} \\frac{1}{k!} \n",
    "$$\n"
   ]
  },
  {
   "cell_type": "markdown",
   "id": "ce931a0b",
   "metadata": {},
   "source": [
    "**Proof***:  Consider the inner product in the formulation on the right in (3):\n",
    "\n",
    "$$\n",
    "\\prod^{k-1}_{m=0} \\left ( 1 - \\frac{m}{n}\\right )\n",
    "$$\n",
    "\n",
    "If $k$ is fixed, this approaches  1 as $n$ grows large.\n",
    "\n",
    "$$\n",
    "\\lim_{n\\rightarrow \\infty} \\prod^{k-1}_{m=0} \\left ( 1 - \\frac{m}{n}\\right ) = 1\n",
    "$$\n",
    "\n",
    "\n",
    "Therefore as $n$ grows large,\n",
    "\n",
    "$$\n",
    "\\lim_{n\\rightarrow \\infty} \\frac{1}{k!} \\prod^{k-1}_{m=0} \\left ( 1 - \\frac{m}{n}\\right )\n",
    "= \\frac{1}{k!}\n",
    "$$\n",
    "\n",
    "essentially completing our proof. As $n$ grows large, each of the terms in the sum in (3) approaches\n",
    "$\\frac{1}{k!}$.  \n",
    "\n",
    "\n",
    "$$\n",
    "\\lim_{n\\rightarrow \\infty}  (1 + 1/n)^{n} \n",
    "               =  \\lim_{n\\rightarrow \\infty} \\sum_{k=0}^{n} \\frac{1}{k!} \\left \\lbrack \\prod^{k-1}_{m=0} \\left ( 1 - \\frac{m}{n}\\right ) \\right \\rbrack\n",
    "               =  \\lim_{n\\rightarrow \\infty} \\sum_{k=0}^{n} \\frac{1}{k!} \n",
    "$$\n",
    "\n",
    "\n",
    "It's easy enough to generalize this from a proof about $\\exp(1)$ to a proof about\n",
    "$\\exp (x)$:\n",
    "\n",
    "\n",
    "$$\n",
    "(1 + x/n)^{n}  = \\sum_{k=0}^{n} { n \\choose k } \\, 1^{n-k}\\,(x/n)^{k} \n",
    "               =  \\sum_{k=0}^{n}\\frac{x^{k}}{k!}  \\left \\lbrack\n",
    "                   \\frac{n (n-1) (n-2) \\dots (n - k +1)}{n^k}\n",
    "                   \\right \\rbrack\n",
    "               =  \\sum_{k=0}^{n}\\frac{x^{k}}{k!} \\left \\lbrack  \\prod^{k-1}_{m=0} \\left ( 1 - \\frac{m}{n}\\right ) \\right \\rbrack\n",
    "$$\n",
    "\n",
    "Hence:\n",
    "\n",
    "$$\n",
    "(3') \\lim_{n\\rightarrow \\infty}  (1 + x/n)^{n} \n",
    "               =  \\lim_{n\\rightarrow \\infty} \\sum_{k=0}^{n} \\frac{x^{k}}{k!} \\left \\lbrack \\prod^{k-1}_{m=0} \\left ( 1 - \\frac{m}{n}\\right ) \\right \\rbrack\n",
    "               =  \\lim_{n\\rightarrow \\infty} \\sum_{k=0}^{n} \\frac{x^{n}}{k!} \n",
    "$$\n",
    "\n",
    "Where the sum on the right is (1), the sum we used to define $f(x)=\\exp(x)$.  One final point remains. We haven't yet shown\n",
    "that\n",
    "\n",
    "$$\n",
    "f(x) = e^{x}.\n",
    "$$\n",
    "\n",
    "To show that the lefthand side of (3') is same as $e^{x}$, we just recall our trick with \n",
    "compound interest rates and observe that\n",
    "\n",
    "$$\n",
    "\\lim_{n\\rightarrow \\infty} (1 + x/n)^n  = \\lim_{n\\rightarrow \\infty} ((1 + x/n)^{n/x})^{x} = e^{x}.\n",
    "$$\n",
    "\n",
    "And now we've found yet another proof that $\\exp$ is exponential.  In fact, we've done more than that.  We shown that the base of the exponential function is $e$."
   ]
  },
  {
   "cell_type": "markdown",
   "id": "ee49aa4d",
   "metadata": {},
   "source": [
    "###  Back to basics:  The derivative "
   ]
  },
  {
   "cell_type": "markdown",
   "id": "0bb00c6b",
   "metadata": {},
   "source": [
    "We now have two definitions of $\\exp$, the one we started with, the infinite sum in (1):\n",
    "\n",
    "$$\n",
    "\\exp(x) =  \\lim_{n\\rightarrow \\infty} \\sum_{k=0}^{n} \\frac{x^{k}}{k!} \n",
    "$$\n",
    "\n",
    "and \n",
    "\n",
    "$$\n",
    "\\exp(x) = \\lim_{n\\rightarrow \\infty} (1 + x/n)^n \n",
    "$$\n",
    "\n",
    "Now it's trivial to show \n",
    "\n",
    "$$\n",
    "\\exp =  \\exp\\text{'}\n",
    "$$\n",
    "\n",
    "by the first definition (exercise).  But what about the second?  Let's rewrite the second:\n",
    "\n",
    "$$\n",
    "\\exp(x) \\begin{array}[t]{l} =  \\lim_{n\\rightarrow \\infty} (1 + x/n)^n \\\\\n",
    "                           =                   \\lim_{n\\rightarrow \\infty} g^n  \\text{ where}\\\\\n",
    "                                       \\;\\;\\;g= (1 + x/n)\n",
    "              \\end{array}\n",
    "$$\n",
    "\n"
   ]
  },
  {
   "cell_type": "markdown",
   "id": "1ee272e8",
   "metadata": {},
   "source": [
    "We observe"
   ]
  },
  {
   "cell_type": "markdown",
   "id": "b6ef95de",
   "metadata": {},
   "source": [
    "$$\n",
    "g' = 1/n\n",
    "$$\n",
    "\n",
    "and therefore:\n",
    "\n",
    "$$\n",
    "\\begin{array}[t]{lcl}\n",
    "\\exp\\text{'} & = &   \\lim_{n\\rightarrow \\infty} n g^{n-1} g'\\\\\n",
    "   & = &   \\lim_{n\\rightarrow \\infty} n g^{n-1} 1/n\\\\\n",
    "    & = &  \\lim_{n\\rightarrow \\infty} g^{n-1} \\\\\n",
    "\\end{array}\n",
    "$$\n",
    "\n",
    "Hence\n",
    "\n",
    "$$\n",
    "\\begin{array}[t]{lcl}\n",
    "\\exp\\text{'} & = & \\lim_{n\\rightarrow \\infty} g^{n-1}\\\\\n",
    "\\exp(x) &  = & \\lim_{n\\rightarrow \\infty} g^{n}\n",
    "\\end{array}\n",
    "$$\n",
    "\n",
    "So the question of whether \n",
    "\n",
    "$$\n",
    "\\exp\\text{'} = \\exp\n",
    "$$\n",
    "\n",
    "amounts to whether\n",
    "\n",
    "$$\n",
    "\\begin{array}[t]{lcl}\n",
    " \\lim_{n\\rightarrow \\infty} g^{n-1} & = &  \\lim_{n\\rightarrow \\infty} g^{n}\n",
    "\\end{array}\n",
    "$$\n",
    "\n",
    "And it seems quite reasonable that it does."
   ]
  },
  {
   "cell_type": "markdown",
   "id": "0eae7131",
   "metadata": {},
   "source": [
    "Now same question for \n",
    "\n",
    "$$\n",
    "h(x) = \\frac{x^{n}}{n}\n",
    "$$\n",
    "\n",
    "$$\n",
    "h\\text{'}(x) = \\frac{x^{n-1}}{n} * n = x^{n-1}\n",
    "$$"
   ]
  },
  {
   "cell_type": "markdown",
   "id": "7542336c",
   "metadata": {},
   "source": [
    "Here\n",
    "\n",
    "$$\n",
    "h\\text{'}(x) = n/x \\; h(x)\n",
    "$$\n",
    "\n",
    "So is the following true?\n",
    "\n",
    "$$\n",
    "\\lim_{n \\rightarrow\\infty} h(x) = \\lim_{n \\rightarrow\\infty} h\\text{'}(x) \n",
    "$$"
   ]
  },
  {
   "cell_type": "code",
   "execution_count": null,
   "id": "6a3ef95b",
   "metadata": {},
   "outputs": [],
   "source": []
  }
 ],
 "metadata": {
  "kernelspec": {
   "display_name": "Python 3 (ipykernel)",
   "language": "python",
   "name": "python3"
  },
  "language_info": {
   "codemirror_mode": {
    "name": "ipython",
    "version": 3
   },
   "file_extension": ".py",
   "mimetype": "text/x-python",
   "name": "python",
   "nbconvert_exporter": "python",
   "pygments_lexer": "ipython3",
   "version": "3.10.13"
  }
 },
 "nbformat": 4,
 "nbformat_minor": 5
}
