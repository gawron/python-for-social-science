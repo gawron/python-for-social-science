{
 "cells": [
  {
   "cell_type": "markdown",
   "id": "468bb558",
   "metadata": {},
   "source": [
    ">The following is a copy of [Alon Amit's Quora post on the mathematical  constant $e$](https://www.quora.com/How-was-the-mathematical-constant-e-calculated-Why-is-it-important),\n",
    "which is really about the $\\exp$ (or exponential) function.\n",
    "\n",
    "The function\n",
    "\n",
    "$$\n",
    "𝑓(x) =1+ x +\\frac{x^2}{2!}+ \\frac{x^3}{3!} + \\frac{x^4}{4!} + \\dots\n",
    "$$\n",
    "\n",
    "has been called by Rudin \"the most important function in mathematics\". It satisfies the simplest of differential equations:\n",
    "\n",
    "$$\n",
    "f' = f\n",
    "$$\n",
    " \n",
    "from which all kinds of wondrous things follow, as I will attempt to show below.\n",
    "\n",
    "The function usually goes by the name  $\\exp$, \"the exponential function\".   The value\n",
    "\n",
    "$$\n",
    "\\exp\\,(1) = e\n",
    "$$\n",
    "\n",
    "is, indeed, one of the most important constants in math. The  exp\n",
    "function can also be written as an actual exponent with base e:\n",
    "\n",
    "$$\n",
    "\\exp\\,(x)= e^{x}\n",
    "$$\n",
    "\n",
    "But honestly, it's not so much the number $e$ that's so important. It's the function."
   ]
  },
  {
   "cell_type": "markdown",
   "id": "5277de27",
   "metadata": {},
   "source": [
    "In physics, the harmonic oscillator is the most fundamental model of a vibrating object, and since everything is made out of little vibrating objects you can imagine that the harmonic oscillator is pretty important. The equation of motion of a harmonic oscillator is given by\n",
    "\n",
    "$$\n",
    "x''= - ax\n",
    "$$\n",
    "\n",
    "where $x$ is the position as a function of time, $x''$\n",
    "is the second derivative of the position with respect to time, aka the acceleration, and\n",
    "$a$ is some positive number (it is the ratio between the \"spring constant\" and the mass). \n",
    "To make matters simple we can just take $a=1$\n",
    "for now. It's easy to change units later and fit the actual value. So,\n",
    "\n",
    "$$\n",
    "x''= - x.\n",
    "$$\n",
    "\n",
    "How do we solve such an equation? Well, we already have a magical function $f$ which satisfies\n",
    "\n",
    "$$\n",
    "f' = f\n",
    "$$\n",
    "\n",
    "so if we modify it just a bit,"
   ]
  },
  {
   "cell_type": "markdown",
   "id": "b72bf576",
   "metadata": {},
   "source": [
    "\n",
    "$$\n",
    "g(x) = f(cx)\n",
    "$$\n",
    " \n",
    "we get\n",
    "\n",
    "$$\n",
    "g' = cg\n",
    "$$\n",
    "\n",
    "and\n",
    "\n",
    "$$\n",
    "g'' = c^{2}g\n",
    "$$\n",
    "\n",
    "So all we need to do is make sure that $c^{2}=-1$\n",
    "and we've solved our harmonic motion equation. There are two such numbers$c$, namely $i$\n",
    "and $-i$, so the functions we need are $e^{ix}$ and $e^{-ix}$.\n",
    "The entire solution space of the equation of motion is just the collection of linear combinations of these two guys, and we can fit a solution to whatever initial conditions we have \n",
    "(initial position and initial velocity - two constraints for a 2-dimensional solution space.\n",
    "Perfect).\n",
    "\n",
    "Since the initial position and initial velocity happen to be real numbers, the entire solution is a real function of time, so we usually switch from the two functions $e^{ix}$ and $e^{-ix}$\n",
    "to the two familiar linear combinations $\\sin(x)$ and $\\cos(x)$, but that's just a simple change of basis.\n",
    "\n",
    "$$\n",
    "\\sin(x)=\\frac{1}{2i}(e^{ix} - e^{-ix}), \\cos(x)=\\frac{1}{2}(e^{ix} + e^{-ix}),\n",
    "$$\n",
    "\n",
    "The function that truly underlies the solutions of fundamental differential equations such as the equation of the harmonic oscillator is the exponential function. The trigonometric functions are simple combinations of exponentials."
   ]
  },
  {
   "cell_type": "markdown",
   "id": "84ebcf2d",
   "metadata": {},
   "source": [
    "Estimating $e$:"
   ]
  },
  {
   "cell_type": "code",
   "execution_count": 7,
   "id": "4d7460b3",
   "metadata": {},
   "outputs": [
    {
     "name": "stdout",
     "output_type": "stream",
     "text": [
      "0: 2.000\n",
      "1: 2.500\n",
      "2: 2.667\n",
      "3: 2.708\n",
      "4: 2.717\n",
      "5: 2.718\n"
     ]
    }
   ],
   "source": [
    "import numpy as np\n",
    "\n",
    "def estimate_exp(n,x=1):\n",
    "    \"\"\"\n",
    "    Leaving it to np.math.factorial to enforce the requirements: n is a non negative integer.\n",
    "    \"\"\"\n",
    "    if n == 0:\n",
    "        return 1\n",
    "    else:\n",
    "        return (x**n)/np.math.factorial(n) + estimate_exp(n-1,x=x)\n",
    "    \n",
    "\n",
    "n=5\n",
    "for i in range(n+1):   \n",
    "    print(f\"{i}: {estimate_exp(i+1):.3f}\")"
   ]
  },
  {
   "cell_type": "markdown",
   "id": "4825119c",
   "metadata": {},
   "source": [
    "Estimating $e^{2}$:"
   ]
  },
  {
   "cell_type": "code",
   "execution_count": 16,
   "id": "f86bed0c",
   "metadata": {},
   "outputs": [
    {
     "name": "stdout",
     "output_type": "stream",
     "text": [
      "0: 3.000\n",
      "1: 5.000\n",
      "2: 6.333\n",
      "3: 7.000\n",
      "4: 7.267\n",
      "5: 7.356\n",
      "6: 7.381\n",
      "7: 7.387\n",
      "8: 7.389\n"
     ]
    }
   ],
   "source": [
    "n=8\n",
    "for i in range(n+1):   \n",
    "    print(f\"{i}: {estimate_exp(i+1,x=2):.3f}\")"
   ]
  },
  {
   "cell_type": "code",
   "execution_count": 9,
   "id": "f62a6554",
   "metadata": {},
   "outputs": [
    {
     "data": {
      "text/plain": [
       "7.3890560989306495"
      ]
     },
     "execution_count": 9,
     "metadata": {},
     "output_type": "execute_result"
    }
   ],
   "source": [
    "np.e**2"
   ]
  },
  {
   "cell_type": "markdown",
   "id": "e6551568",
   "metadata": {},
   "source": [
    "Moving on: one of the most fundamental laws of the universe is the Central Limit Theorem, which says that when you add up lots of things that have some uncertainty or randomness built into them, you get something that looks like a bell curve:"
   ]
  },
  {
   "cell_type": "code",
   "execution_count": 38,
   "id": "de464b9e",
   "metadata": {},
   "outputs": [
    {
     "data": {
      "image/png": "[encoded data removed]",
      "text/plain": [
       "<Figure size 640x480 with 1 Axes>"
      ]
     },
     "metadata": {},
     "output_type": "display_data"
    }
   ],
   "source": [
    "from matplotlib import pyplot as plt\n",
    "\n",
    "N,bins=1_000_000,300\n",
    "\n",
    "X=np.random.randn(N)\n",
    "_ = plt.hist(X,bins=bins)"
   ]
  },
  {
   "cell_type": "markdown",
   "id": "756d8b8b",
   "metadata": {},
   "source": [
    "This is called \"the normal distribution\" for a reason. Most everything in nature is distributed like that, because so many things are sums or averages of lots of similar contributions. And of course, the function that describes this all-important curve is an exponential:\n",
    "\n",
    "$$\n",
    "f(x) = e^{-x^{2}/2}\n",
    "$$\n",
    "\n",
    "(I'm ignoring constants and standard deviations and such to show the essence of the function). Again, the fundamental reason why this is the case is the defining differential property of the exponential function; in this case, the normal curve is the solution of\n",
    "\n",
    "$$\n",
    "f' + xf = 0\n",
    "$$\n",
    " \n",
    "which turns out to be the thing that makes this distribution so universal. Up to scaling factors, it is one of the few functions that is its own convolution with itself. And it is the only function that is its own Fourier Transform."
   ]
  },
  {
   "cell_type": "markdown",
   "id": "c64b2add",
   "metadata": {},
   "source": [
    "The Fourier transform is a fundamental tool in engineering, physics and mathematics. It's hard to overstate its importance. Most people usually associate Fourier series and transforms with trigonometric functions, but we've already seen that these functions are really just exponentials. In fact, the definition of the general Fourier transform is\n",
    "\n",
    "$$\n",
    "F(f)(\\omega) = \\int^{\\infty}_{-\\infty} e^{-2\\pi i \\omega x} dx\n",
    "$$\n",
    "\n"
   ]
  },
  {
   "cell_type": "markdown",
   "id": "43ffbd0c",
   "metadata": {},
   "source": [
    "so here's our favorite $e$ again, or rather the exponential function, at the center of an idea that permeates science and engineering. Signal processing, as an example, cannot get off the ground without Fourier analysis -- and that applies to both the analog and digital domains.\n",
    "\n",
    "These are just some of the reasons why the exponential function, and the number that accompanies it, are so important."
   ]
  },
  {
   "cell_type": "code",
   "execution_count": null,
   "id": "cc98a64b",
   "metadata": {},
   "outputs": [],
   "source": []
  }
 ],
 "metadata": {
  "kernelspec": {
   "display_name": "Python 3 (ipykernel)",
   "language": "python",
   "name": "python3"
  },
  "language_info": {
   "codemirror_mode": {
    "name": "ipython",
    "version": 3
   },
   "file_extension": ".py",
   "mimetype": "text/x-python",
   "name": "python",
   "nbconvert_exporter": "python",
   "pygments_lexer": "ipython3",
   "version": "3.10.6"
  }
 },
 "nbformat": 4,
 "nbformat_minor": 5
}
