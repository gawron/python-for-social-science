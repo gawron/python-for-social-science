{
 "cells": [
  {
   "cell_type": "markdown",
   "id": "27454edb",
   "metadata": {},
   "source": [
    "##  Introducing the Fibonacci sequence\n",
    "\n",
    "We start with a sequence of numbers called the **Fibonacci sequence**:"
   ]
  },
  {
   "cell_type": "code",
   "execution_count": 6,
   "id": "41b4e1ca",
   "metadata": {
    "scrolled": true
   },
   "outputs": [
    {
     "name": "stdout",
     "output_type": "stream",
     "text": [
      "\n",
      "1 1 2 3 5 8 13 21 34 55 89 144 233 377 610 987 1597 2584 4181 6765 10946 ...\n"
     ]
    }
   ],
   "source": [
    "a,b = (1,1)\n",
    "\n",
    "print(f\"\\n{a}\",end=\" \")\n",
    "\n",
    "for i in range(20):\n",
    "    print(f\"{b}\",end=\" \")\n",
    "    a,b = b, a+b\n",
    "    \n",
    "print(\"...\")"
   ]
  },
  {
   "cell_type": "markdown",
   "id": "28eac4a8",
   "metadata": {},
   "source": [
    "Note that each term after the first `1 1` is the sum of the previous two terms.  The code snippet above\n",
    "just implements this simple idea, maintaining a pair consisting of the last two integers in the sequence which is used to construct the next pair.  This is an **exponentially growing** series even though it's extended by addition.  It's exponential because the amount added at each step grows, like successive generations of rabbits. In fact, the legend is that Fibonacci was trying to solve a problem about rabbit population size when he first defined the series that is named after him."
   ]
  },
  {
   "cell_type": "code",
   "execution_count": 7,
   "id": "c603356d",
   "metadata": {},
   "outputs": [
    {
     "data": {
      "text/plain": [
       "[<matplotlib.lines.Line2D at 0x117deb410>]"
      ]
     },
     "execution_count": 7,
     "metadata": {},
     "output_type": "execute_result"
    },
    {
     "data": {
      "image/png": "[encoded data removed]",
      "text/plain": [
       "<Figure size 400x600 with 1 Axes>"
      ]
     },
     "metadata": {},
     "output_type": "display_data"
    }
   ],
   "source": [
    "from matplotlib import pyplot as plt\n",
    "\n",
    "fig,ax = plt.subplots(1,1,figsize=(4,6))\n",
    "\n",
    "a,b=1,1\n",
    "y =[a,b]\n",
    "\n",
    "for i in range(18):\n",
    "    (a,b) = (b, a+b)\n",
    "    y.append(b)\n",
    "\n",
    "ax.plot(np.arange(20),y)"
   ]
  },
  {
   "cell_type": "markdown",
   "id": "ce1ed2b4",
   "metadata": {},
   "source": [
    "The Fibonacci Sequence crops up in many places in nature, mathematics, and applied mathematics (of which\n",
    "Computer Science is one large branch).  [Wikipedia](https://en.wikipedia.org/wiki/Fibonacci_sequence) tells us:\n",
    "\n",
    "> Applications of Fibonacci numbers include computer algorithms such as the Fibonacci search technique and the Fibonacci heap data structure, and graphs called Fibonacci cubes used for interconnecting parallel and distributed systems. They also appear in biological settings, such as branching in trees, the arrangement of leaves on a stem, the fruit sprouts of a pineapple, the flowering of an artichoke, and the arrangement of a pine cone's bracts ..."
   ]
  },
  {
   "cell_type": "markdown",
   "id": "becef2d2",
   "metadata": {},
   "source": [
    "## The Golden Ratio and the Fibonacci sequence\n",
    "\n",
    "The theme of this notebook is how the structure of the Fibonacci sequence is tangled up with\n",
    "a single number called the **the golden ratio**.\n",
    "\n",
    "Below we draw the Golden Rectangle, so called because the proportions of its sides \n",
    "a and b are \"golden\".  What makes them golden is that proportion of the larger rectangle\n",
    "below it, constructed with sides a+b and b, are the same.\n",
    "\n",
    "\n",
    "That is,\n",
    "\n",
    "$$\n",
    "\\frac{b}{a} = \\frac{b+a}{b}\n",
    "$$\n",
    "\n",
    "\n",
    "#### Useful references \n",
    "\n",
    "1. [Reich's discussion of Fibonacci numbers](https://math.temple.edu/~reich/Fib/fibo.html)\n",
    "2. [Mathworld Wolfram on loarithmic spirals.](https://mathworld.wolfram.com/LogarithmicSpiral.html)\n",
    "3. [Wikipedia spiral page.](https://en.wikipedia.org/wiki/Spiral)   See especially for definition of polar slope angle.\n",
    "4. [Wikipedia Logarithmic Spiral page.](https://en.wikipedia.org/wiki/Logarithmic_spiral)\n",
    "5. [Basic differential geometry definition definition of tangential angle](https://mathworld.wolfram.com/TangentialAngle.html)"
   ]
  },
  {
   "cell_type": "code",
   "execution_count": 1,
   "id": "be6887e4",
   "metadata": {
    "scrolled": false
   },
   "outputs": [
    {
     "data": {
      "image/png": "[encoded data removed]",
      "text/plain": [
       "<Figure size 440x440 with 1 Axes>"
      ]
     },
     "metadata": {},
     "output_type": "display_data"
    }
   ],
   "source": [
    "import numpy as np\n",
    "from matplotlib import pyplot as plt\n",
    "\n",
    "phi = 2* np.cos (np.pi/5)\n",
    "a,b = 1,phi\n",
    "\n",
    "fig, ax0 = plt.subplots(1,1,figsize=(4.4,4.4))\n",
    "\n",
    "# side b lower\n",
    "ax0.plot([0,b], [0,0],c=\"b\")\n",
    "#side b upper\n",
    "ax0.plot([0,b], [a,a],c=\"b\")\n",
    "# side a left\n",
    "ax0.plot([0,0], [0,a],c=\"r\")\n",
    "# side a right\n",
    "ax0.plot([b,b], [0,a],c=\"r\")\n",
    "\n",
    "# Lower a extension\n",
    "ax0.plot([b,b+a],[0,0],c=\"red\")\n",
    "\n",
    "#Lower b extensions\n",
    "ax0.plot([0,0],[0,-b],c=\"b\")\n",
    "ax0.plot([b+a,b+a],[0,-b],c=\"b\")\n",
    "\n",
    "# Lower Parallels\n",
    "# b part\n",
    "ax0.plot([0,b], [-b,-b],c=\"b\")\n",
    "# a part\n",
    "ax0.plot([b,b+a],[-b,-b],c=\"r\")\n",
    "\n",
    "ax0.set_aspect(\"equal\")\n",
    "ax0.set_xticks([],[])\n",
    "ax0.set_yticks([],[])\n",
    "ax0.annotate('b', xy=(b/2, .08))\n",
    "ax0.annotate('b', xy=(.08, -.54*b))\n",
    "ax0.annotate('a', xy=(b, a/2), xytext=(3, 0), textcoords=\"offset points\")\n",
    "_ = ax0.annotate('a', xy=(b+.4*a, .08), xytext=(3, 0), textcoords=\"offset points\")"
   ]
  },
  {
   "cell_type": "markdown",
   "id": "e24e7f9e",
   "metadata": {},
   "source": [
    "Letting $\\phi$ be the proportion we seek ($\\phi=b/a$), we can write:\n",
    "\n",
    "$$\n",
    "\\phi = 1 + \\frac{1}{\\phi}\n",
    "$$\n",
    "\n",
    "The positive solution to the quadratic equation is (using the quadratic formula):\n",
    "\n",
    "$$\n",
    "\\phi = \\frac{1 + \\sqrt{5}}{2}\n",
    "$$\n",
    "\n",
    "This number is the **Golden ratio** (yes, that's right, the god(desse)s of Math have decreed\n",
    "that the Golden Ratio is irrational).  We compute its value (as best it can be computed) in the next cell."
   ]
  },
  {
   "cell_type": "code",
   "execution_count": 2,
   "id": "9da5b3c1",
   "metadata": {
    "scrolled": true
   },
   "outputs": [
    {
     "data": {
      "text/plain": [
       "1.618033988749895"
      ]
     },
     "execution_count": 2,
     "metadata": {},
     "output_type": "execute_result"
    }
   ],
   "source": [
    "phi = (1 + np.sqrt(5))/2\n",
    "phi"
   ]
  },
  {
   "cell_type": "markdown",
   "id": "87615ae1",
   "metadata": {},
   "source": [
    "You can also use numpy to directly compute the roots of the equation:"
   ]
  },
  {
   "cell_type": "code",
   "execution_count": 3,
   "id": "59c4646b",
   "metadata": {},
   "outputs": [
    {
     "data": {
      "text/plain": [
       "(1.618033988749895, -0.6180339887498948)"
      ]
     },
     "execution_count": 3,
     "metadata": {},
     "output_type": "execute_result"
    }
   ],
   "source": [
    "#  Solve the quadratic equation x^2 - x - 1 = 0 using numpy (=np)\n",
    "phi0, psi0 = np.roots([1,-1,-1])\n",
    "phi0,psi0"
   ]
  },
  {
   "cell_type": "markdown",
   "id": "439d6455",
   "metadata": {},
   "source": [
    "Note that there are TWO solutions.  For now, we'll ignore the negative one because we don't know how to draw rectangles with sides of negative length.  Later on we will make use of both values.  The two values are \"negative inverses\".  That is"
   ]
  },
  {
   "cell_type": "code",
   "execution_count": 4,
   "id": "f8908e85",
   "metadata": {},
   "outputs": [
    {
     "data": {
      "text/plain": [
       "-0.9999999999999999"
      ]
     },
     "execution_count": 4,
     "metadata": {},
     "output_type": "execute_result"
    }
   ],
   "source": [
    "phi0*psi0"
   ]
  },
  {
   "cell_type": "markdown",
   "id": "aeb13f16",
   "metadata": {},
   "source": [
    "A note:  Though we do not illustrate this in the diagram, the construction above is recursive, because the second rectangle is just as much a golden rectangle as the first.  Therefore we can repeat the construction and draw a third rectangle with sides 2b + a, b + a below the second.  That rectangle too will be golden.  And below that we can construct a fourth golden rectangle, and so on.  It's golden rectangles all the way down.\n",
    "\n",
    "We never solved for $a$ and $b$ of course. But these conclusions are true for any rectangle with golden proportions.  So consider $a=1$ and $b=\\phi$. Then the third rectangle's proportions must be golden as well\n",
    "and that means\n",
    "\n",
    "$$\n",
    "\\frac{2b+a}{b+a} = \\frac{2\\phi + 1}{\\phi + 1} = \\phi\n",
    "$$\n",
    "\n",
    "And indeed"
   ]
  },
  {
   "cell_type": "code",
   "execution_count": 5,
   "id": "c5b35446",
   "metadata": {},
   "outputs": [
    {
     "data": {
      "text/plain": [
       "1.618033988749895"
      ]
     },
     "execution_count": 5,
     "metadata": {},
     "output_type": "execute_result"
    }
   ],
   "source": [
    "(2*phi + 1)/(phi + 1)"
   ]
  },
  {
   "cell_type": "markdown",
   "id": "e502af00",
   "metadata": {},
   "source": [
    "And since\n",
    "\n",
    "$$\n",
    "\\phi = 1 + \\frac{1}{\\phi} = \\frac{\\phi + 1}{\\phi}\n",
    "$$\n",
    "\n",
    "we have\n",
    "\n",
    "$$\n",
    "\\begin{array}{rr}\n",
    "1     & \\phi^0\\\\\n",
    "\\phi  & \\phi^1\\\\\n",
    "\\phi + 1 & \\phi^2\\\\\n",
    "2\\phi + 1 & \\phi^{3}\n",
    "\\end{array}\n",
    "$$\n",
    "\n",
    "Hmmm.  The sides of the successive rectangles are powers of $\\phi$! We'll return to the significance of this relationship below."
   ]
  },
  {
   "cell_type": "markdown",
   "id": "e8b1c9d4",
   "metadata": {},
   "source": [
    "In the meantime note: So also for a rectangle with sides $3\\phi+2$ and $2\\phi +1$: as we keep growing the rectangle sides  the ratio remains constant."
   ]
  },
  {
   "cell_type": "markdown",
   "id": "60662164",
   "metadata": {},
   "source": [
    "And here is the first of many connections of the Golden Ratio $\\phi$ to the Fibonnaci\n",
    "Sequence:  At the limit, the ratio of successive terms in the Fibonacci sequence is $\\phi$.\n",
    "We demonstrate:"
   ]
  },
  {
   "cell_type": "code",
   "execution_count": 8,
   "id": "fb59a2f2",
   "metadata": {},
   "outputs": [
    {
     "name": "stdout",
     "output_type": "stream",
     "text": [
      "                       phi = 1.618033988749895\n",
      "\n",
      "  i     Fib(i-1)   Fib(i)    Fib(i)/Fib(i-1)\n",
      "------------------------------------------\n",
      "  1         1         1      1.0\n",
      "  2         1         2      2.0\n",
      "  3         2         3      1.5\n",
      "  4         3         5      1.6666666666666667\n",
      "  5         5         8      1.6\n",
      "  6         8        13      1.625\n",
      "  7        13        21      1.6153846153846154\n",
      "  8        21        34      1.619047619047619\n",
      "  9        34        55      1.6176470588235294\n",
      " 10        55        89      1.6181818181818182\n",
      " 11        89       144      1.6179775280898876\n",
      " 12       144       233      1.6180555555555556\n",
      " 13       233       377      1.6180257510729614\n",
      " 14       377       610      1.6180371352785146\n",
      " 15       610       987      1.618032786885246\n",
      " 16       987      1597      1.618034447821682\n",
      " 17      1597      2584      1.6180338134001253\n",
      " 18      2584      4181      1.618034055727554\n",
      " 19      4181      6765      1.6180339631667064\n",
      " 20      6765     10946      1.6180339985218033\n",
      " 21     10946     17711      1.618033985017358\n",
      " 22     17711     28657      1.6180339901755971\n",
      " 23     28657     46368      1.618033988205325\n",
      " 24     46368     75025      1.618033988957902\n",
      " 25     75025    121393      1.6180339886704431\n",
      " 26    121393    196418      1.6180339887802426\n",
      " 27    196418    317811      1.618033988738303\n",
      " 28    317811    514229      1.6180339887543225\n",
      " 29    514229    832040      1.6180339887482036\n",
      " 30    832040   1346269      1.6180339887505408\n"
     ]
    }
   ],
   "source": [
    "# Another way of computing phi is 2* np.cos (np.pi/5).  Explained below.\n",
    "print(f\"                       phi = {2* np.cos (np.pi/5)}\",end=\"\\n\\n\")\n",
    "   \n",
    "\n",
    "a,b = (1,1)\n",
    "print(\"  i     Fib(i-1)   Fib(i)    Fib(i)/Fib(i-1)\")\n",
    "print(\"-\"*42)\n",
    "for i in range(1,31):\n",
    "    print(f\"{i: >3d}  {a:>8d}  {b: 8d}      {b/a}\")\n",
    "    a,b = b, a+b"
   ]
  },
  {
   "cell_type": "markdown",
   "id": "1e8e5640",
   "metadata": {},
   "source": [
    "The key point is that the members of the sequence eventually come to have the same relationship\n",
    "as the sides of the golden rectangles (which are powers of $\\phi$) in the recursive construction\n",
    "above: their ratio is $\\phi$.  In the appendix we sketch a proof of this wonder.  It will depend on\n",
    "discovering a relationship between successive members of the sequence and successive powers of $\\phi$.\n",
    "\n",
    "The next cell contains Python code implementing a variety of ways to compute Fibonacci sequences,\n",
    "including an iterative function, a recursive function, a Python generator (really a special kind\n",
    "of iteration function), two matrix powers computations, and a closed form function (derived\n",
    "from the matrix powers algorithm).  The last is the most efficient, but not by as much as\n",
    "you might think.\n",
    "\n",
    "What the variants demonstrate is the difference between three ideas: implementation, algorithm,\n",
    "and function. An algorithm is a step-by-step recipe for computing something. Even though it\n",
    "must be specific enough to be implementable, it may still leave out many details of how\n",
    "the computation is done.  Arguably, there are only two algorithms in the code below, the \n",
    "summing of successive integer pairs we demonstrated above, and the closed form computation\n",
    "that is the result of mathematical insight.  More precisely, the algorithm we presented is\n",
    "\n",
    "$$\n",
    "\\begin{array}{ll}\n",
    "\\text{while} &\\text{ctr} < n:\\\\\n",
    "              &(a,\\, b) \\mapsto (b,\\, a + b)\\\\\n",
    "              &\\text{ctr} += 1\n",
    "\\end{array}\n",
    "$$\n",
    "\n",
    "An implementation of an algorithm is a specific\n",
    "embodiment in code.  Below we give iterative and recursive versions of the successive summing\n",
    "algorithm for computing the nth Fibonacci number.  Then we give a Python generator version,\n",
    "which is only a slight implementational variant of the iterative version, but that variant\n",
    "can have huge memory usage advantages.  Then we move on to a matrix powers implementation\n",
    "which involves taking the nth power of a matrix to compute the nth Fibonacci term.  That looks\n",
    "very different but in fact each successive multiplication by the Fibonacci matrix just maps\n",
    "$(a,\\, b)$ to $(b,\\, a + b)$, essentially the same algorithm.  We then present a variation\n",
    "of the matrix powers idea which implements taking the nth power by diagonalizing the\n",
    "Fibonacci matrix, allowing a significant speed-up because taking powers of diagonal\n",
    "matrixes is much faster. Still the matrix multiplications involved  just\n",
    "map successive values of $(a,\\, b)$ to $(b,\\, a + b)$. Finally there is a closed form \n",
    "computation involving something called Binet's Formula. This exploits the relationship between\n",
    "Fibonacci numbers and power of $\\phi$ that we noted above.  And it is a genuine break with \n",
    "the other methods for computing $\\text{F}_{n}$.\n",
    "We defer explanation of the relationship until later.  For now it will suffice to \n",
    "examine the formula like something dropped from the sky:\n",
    "\n",
    "$$\n",
    "\\text{F}_{n} = \\frac{1}{\\sqrt{5}}(\\phi^{n} - (1 - \\phi)^{n})\n",
    "$$\n",
    "\n",
    "No obvious connection, is there?  No successive mapping of pairs, no successive summing. And suddenly, magically,\n",
    "$\\phi$ appears in what is probably the most compelling illustration of the deep connection of $\\phi$ \n",
    "and the Fibonacci sequence. And by the way, \n",
    "where did $\\sqrt{5}$ come from? This is a different algorithm.  Conceptually,\n",
    "it is a short step from the computation by diagonalized matrix (we sketch the step below), but\n",
    "in that step everything has changed.  As to computational efficiency, it must be an improvement (but see\n",
    "the actual timing results below).  \n",
    "\n",
    "Final distinction to be made. What's practical.  The closed form approach implemented\n",
    "below is faster, consistently twice as fast on my MacBookPro 18,3 with an 8-core Apple M1 Pro\n",
    "CPU.  However it does not get the right answer for large n.  For example, for $\\text{F}_{100}$\n",
    "we have\n",
    "\n",
    "$$\n",
    "\\begin{array}{l|cc|cc}\n",
    "                    &  \\text{F}_{72}  & \\Delta  &  \\text{F}_{100} & \\Delta \\\\\n",
    "                    \\hline\n",
    "\\text{Closed form}  & 498,454,011,879,265 &1 & 354,224,848,179,263,111,168 & 1,196,093\\\\\n",
    "\\text{Iterative} &  498,454,011,879,264  & \\_  &  354,224,848,179,261,915,075 & \\_\n",
    "\\end{array}\n",
    "$$\n",
    "\n",
    "At n= 72, the closed form function \n",
    "differs by 1 from the iterative function (which agrees with Google and WolframAlpha in its results);\n",
    "by n =100, the difference is nearly 1.2 million. The details may vary on various\n",
    "machines, but I'll note that Fabian Dablander (cited below) also cites major\n",
    "issues around this value of n.  \n",
    "\n",
    "The problems actually start at lower numbers.  The attentive code-reader will note\n",
    "that the definition of `fibonacci_closed_form` wraps the expression\n",
    "in the `int(...)` function before returning a value.  This is because the function \n",
    "would never return an integer value otherwise.  For example, here's the value returned for n=12\n",
    "with no `int` wrapper"
   ]
  },
  {
   "cell_type": "code",
   "execution_count": 119,
   "id": "59651b7a",
   "metadata": {},
   "outputs": [
    {
     "data": {
      "text/plain": [
       "144.00000000000006"
      ]
     },
     "execution_count": 119,
     "metadata": {},
     "output_type": "execute_result"
    }
   ],
   "source": [
    "(phi**12 - neg_phi_inv**12)/np.sqrt(5)"
   ]
  },
  {
   "cell_type": "markdown",
   "id": "d81f64c6",
   "metadata": {},
   "source": [
    "The math is completely correct and completely accurate.  The problems start with the $\\sqrt{5}$\n",
    "in the definition of $\\phi$, which is an irrational number that cannot be precisely represented\n",
    "on a computer.  The minute you type `np.sqrt(5)` into Python you're dealing with an approximation. The problems then  mount up because floating point calculations generally inflate errors \n",
    "the more operations they require, and eventually, by the time you get to\n",
    "$n=100$, you have an error of over 1 million, which sounds awful, but really isn't so bad when you \n",
    "consider you're computing a number over 350 quintillion. That's an error of about\n",
    "$0.0000000000003\\%$.\n",
    "\n",
    "The moral: In the end practical considerations may trump everything, including the best\n",
    "math and computer science.  The reason to be educated about programming is to know what\n",
    "your options are.  For most conceivable purposes, an error of $0.0000000000003\\%$ will\n",
    "be no error at all and you can run with the faster alternative. However, if you\n",
    "happen to be entered in a competitive computing tournament, it may be disastrous.  The good\n",
    "old iterative algorithm we started with may well be a better option.  Other considerations\n",
    "that may affect your choice: the amount of memory on your machine, \n",
    "the structure of your problem (for example,\n",
    "whether your problem can be formulated in matrix form),\n",
    "the real world usage context (are you putting this code on a server\n",
    "with thousands of hits an hour, so that efficiency practically outweighs all\n",
    "else?), whether parallelism can be deployed, and so on."
   ]
  },
  {
   "cell_type": "code",
   "execution_count": 46,
   "id": "10cd835f",
   "metadata": {},
   "outputs": [],
   "source": [
    "from matplotlib import pyplot as plt\n",
    "import numpy as np\n",
    "from functools import cache\n",
    "\n",
    "def fibonacci_seq_n_iterative(n):\n",
    "    \"\"\"\n",
    "    Return the nth Fibonacci number.\n",
    "    \n",
    "    Classic iterative definition of fibonacci sequence.\n",
    "    \"\"\"\n",
    "    assert n > 0,\"Use only positive n\"\n",
    "    a,b=(1, 1)\n",
    "    #  This works on the corner cases n=0 n=1 because\n",
    "    #  list(range(-1)) and list(range(0)) are both []\n",
    "    #  (the right behavior if you think about\n",
    "    #  the default values for the range parameters \n",
    "    #  start and step)\n",
    "    for i in range(1,n):\n",
    "        a,b = (b, a+b)\n",
    "    return a\n",
    "\n",
    "\n",
    "def fibonacci_seq_n2 (n):\n",
    "    \"\"\"\n",
    "    Non-caching Copy of fibonacci_seq_n for demonstrating exponential complexity growth.  Do not use for fun.\n",
    "    \n",
    "    Return the nth Fibonacci number.\n",
    "    \n",
    "    Classic recursive definition of fibonacci sequence.\n",
    "    \n",
    "    Decorator introduces caching.\n",
    "    \"\"\"\n",
    "    assert n > 0,\"Use only positive n\"\n",
    "    if n == 1:\n",
    "        return 1\n",
    "    elif n == 2:\n",
    "        return 1\n",
    "    else:\n",
    "        return fibonacci_seq_n2(n-2) + fibonacci_seq_n2(n-1)\n",
    "\n",
    "@cache\n",
    "def fibonacci_seq_n (n):\n",
    "    \"\"\"\n",
    "    Return the nth Fibonacci number.\n",
    "    \n",
    "    Classic recursive definition of fibonacci sequence.\n",
    "    \n",
    "    Decorator introduces caching.  So not exponential.\n",
    "    \"\"\"\n",
    "    assert n > 0,\"Use only positive n\"\n",
    "    if n == 1:\n",
    "        return 1\n",
    "    elif n == 2:\n",
    "        return 1\n",
    "    else:\n",
    "        return fibonacci_seq_n(n-2) + fibonacci_seq_n(n-1)\n",
    "\n",
    "def fibonacci_seq_n_log2 (n):\n",
    "    \"\"\"\n",
    "    Return the nth Fibonacci number.\n",
    "    \n",
    "    Recursive definition of fibonacci sequence using the recurrence relation\n",
    "    \n",
    "       F_{m=2n} = F_{n}(2F_{n+1} + F_{n})    # Even m\n",
    "       F_{m=2n-1} = F_{n}^2 + F_{n-1}^2      # Odd m\n",
    "    \n",
    "    \n",
    "    \"\"\"\n",
    "    assert n > 0,\"Use only positive n\"\n",
    "    if n == 1:\n",
    "        return 1\n",
    "    elif n == 2:\n",
    "        return 1\n",
    "    (q,r) = divmod(n,2)\n",
    "    #if nm2 is not None and nm2 is None:\n",
    "    Fq =  fibonacci_seq_n_log2(q)\n",
    "    if r:\n",
    "        qp = q + 1  ## we want n = 2qp-1\n",
    "        Fqp = fibonacci_seq_n_log2(qp)\n",
    "        return Fqp**2 + Fq**2\n",
    "    else:\n",
    "        return Fq**2 + 2*Fq*fibonacci_seq_n_log2(q-1)\n",
    "    \n",
    "def fibonacci_tail(n):\n",
    "    \"\"\"\n",
    "    Attemot to do tail recursion optimization by hand\n",
    "    \"\"\"\n",
    "    def fibonacci_helper(n, acc1, acc2):\n",
    "        if n == 0:\n",
    "            return acc1\n",
    "        return fibonacci_helper(n - 1, acc2, acc1+acc2)\n",
    "    return fibonacci_helper(n, 0, 1)\n",
    "\n",
    "from bitstring import BitArray\n",
    "#https://bitstring.readthedocs.io/en/stable/\n",
    "\n",
    "def bits(n):\n",
    "    return BitArray(bin(n))\n",
    "#a = BitArray(6000000)\n",
    "#a=BitArray(uint=42, length=8)\n",
    "\n",
    "def old_bits(n):\n",
    "  \"\"\"Represent an integer as an array of binary digits.\n",
    "  \"\"\"\n",
    "  bits = []\n",
    "  while n > 0:\n",
    "    n, bit = divmod(n, 2)\n",
    "    bits.append(bit)\n",
    "  bits.reverse()\n",
    "  return bits\n",
    " \n",
    "def fib_mat(n):\n",
    "  assert n >= 0\n",
    "  a, b, c = 1, 0, 1\n",
    "  for bit in old_bits(n):\n",
    "    a, b, c = a*a + b*b, a*b + b*c, b*b + c*c\n",
    "    if bit: a, b, c = b, c, b+c\n",
    "  return b\n",
    "\n",
    "def fib_fast(n):\n",
    "  assert n >= 0\n",
    "  a, b, c = 1, 0, 1\n",
    "  for bit in old_bits(n):\n",
    "    if bit: a, b = (a+c)*b, b*b + c*c\n",
    "    else:   a, b = a*a + b*b, (a+c)*b\n",
    "    c = a + b\n",
    "  return b\n",
    "\n",
    "def fibonacci_seq_n_generator(n):\n",
    "    \"\"\"\n",
    "    A generator that yields the Fibonacci sequence up to n or generates\n",
    "    it an integer at a time.\n",
    "    \"\"\"\n",
    "    assert n > 0,\"Use only positive n\"\n",
    "    a,b=(1, 1)\n",
    "    #  This works on the corner cases because\n",
    "    #  list(range(-1)) and list(range(0)) are both []\n",
    "    #  (the right behavior if you think about\n",
    "    #  the default values for the range parameters \n",
    "    #  start and step)\n",
    "    for i in range(n):\n",
    "        yield a\n",
    "        a,b = (b, a+b)\n",
    "        \n",
    "##########################################################################\n",
    "#  Linear Algebra computation of Fib_n using powers of a matrix \n",
    "########################################################################\n",
    "\n",
    "########################################################################\n",
    "# Things to precompute\n",
    "########################################################################\n",
    "\n",
    "# Fib relation is a linear map\n",
    "# (a b) |->  (a+b a)\n",
    "fib_M = np.array([[1,1],[1,0]])\n",
    "init = np.array([1,0])\n",
    "##  this works too but the form is\n",
    "## # (a b) |->  (b a+b)\n",
    "fib_M2 = np.array([[0,1],[1,1]])\n",
    "init2 = np.array([0,1])\n",
    "\n",
    "# fib_M eigen values are -1/phi, and phi \n",
    "# fib_M eigen vecs are unit vecs pointing in the direction\n",
    "# of (1,phi) and (1,-1/phi) !\n",
    "fib_evals, fib_evecs = np.linalg.eig(fib_M)\n",
    "# Precompute the change of basis into the eigenspace\n",
    "eigenspace_init = fib_evecs.T@init\n",
    "evals_diag = np.diag(fib_evals)\n",
    "# Some constants\n",
    "phi = (1 + np.sqrt(5))/2\n",
    "log_phi = np.log(phi)\n",
    "## == phi**(-1)\n",
    "phi_inv = phi - 1\n",
    "log_phi_inv = np.log(phi_inv)\n",
    "psi = -phi_inv\n",
    "## \n",
    "phi_10 = phi**(10)\n",
    "phi_m10 = phi**(-10)\n",
    "\n",
    "@cache\n",
    "def fib_matrix_power(n):\n",
    "    \"\"\"\n",
    "    Make this a user function to enable caching.\n",
    "    \"\"\"\n",
    "    return np.linalg.matrix_power(fib_M,n)\n",
    "\n",
    "\n",
    "def fibonacci_seq_n_matrix (n):\n",
    "    # Fib relation is a linear map\n",
    "    # (a b) |->  (b a+b)\n",
    "    # Return a from the nth power of the corresponding matrix\n",
    "    return (fib_matrix_power(n-1)@init)[0]\n",
    "\n",
    "def fibonacci_seq_n_matrix_diag(n):\n",
    "    \"\"\"\n",
    "    Supposedly more efficient version of fibonacci_seq_n_matrix that uses\n",
    "    diagonalized form of fib_M\n",
    "    \"\"\"\n",
    "    # The version below should be equivalent to what's being used (but slower)\n",
    "    #return (fib_evecs@np.linalg.matrix_power(evals_diag,n)@eigenspace_init)[0]\n",
    "    return (fib_evecs@evals_diag**(n-1)@eigenspace_init)[0]\n",
    "\n",
    "def fibonacci_closed_form (n):\n",
    "    \"\"\"\n",
    "    Reputation as the Fastest Fib_n computation.\n",
    "    Another illustration of the close connection of phi and fib.\n",
    "    Recall that -1/phi = 1 - phi, so neg_phi_inv is defined as 1-phi.\n",
    "    \"\"\"\n",
    "    return int((phi**n - psi**n)/np.sqrt(5))\n",
    "\n",
    "\n",
    "def fibonacci_closed_form_exp (n):\n",
    "    \"\"\"\n",
    "    This actually has slightly greater accuracy problems for large n.  But is\n",
    "    competitive efficiency wose.\n",
    "    \"\"\"\n",
    "    return int(1/np.sqrt(5)*(np.exp(log_phi*n) - ((-1)**n) * np.exp(log_phi_inv*n)))"
   ]
  },
  {
   "cell_type": "code",
   "execution_count": 181,
   "id": "25e0be2a",
   "metadata": {},
   "outputs": [
    {
     "data": {
      "text/plain": [
       "(46368, 46368)"
      ]
     },
     "execution_count": 181,
     "metadata": {},
     "output_type": "execute_result"
    }
   ],
   "source": [
    "fibonacci_seq_n(24),fibonacci_seq_n_log2(24)"
   ]
  },
  {
   "cell_type": "code",
   "execution_count": 47,
   "id": "175e1822",
   "metadata": {},
   "outputs": [
    {
     "data": {
      "text/plain": [
       "(75025, 75025)"
      ]
     },
     "execution_count": 47,
     "metadata": {},
     "output_type": "execute_result"
    }
   ],
   "source": [
    "fibonacci_seq_n(25),fibonacci_seq_n_log2(25)"
   ]
  },
  {
   "cell_type": "markdown",
   "id": "730a6409",
   "metadata": {},
   "source": [
    "## Notes on the code above\n",
    "\n",
    "After you've used it with a large value, or while debugging, it may be a good idea to do this\n",
    "because of the `@cache` decorator in the function definition.\n",
    "which saves whatever values it computes and does not need to do the \n",
    "full recursion the second time through a particular n."
   ]
  },
  {
   "cell_type": "code",
   "execution_count": 720,
   "id": "e56b1c5b",
   "metadata": {},
   "outputs": [],
   "source": [
    "fibonacci_seq_n.cache_clear()"
   ]
  },
  {
   "cell_type": "markdown",
   "id": "d88315d1",
   "metadata": {},
   "source": [
    "Saves memory, or while debugging it flushes possibly incorrect values."
   ]
  },
  {
   "cell_type": "code",
   "execution_count": 75,
   "id": "6cae4286",
   "metadata": {},
   "outputs": [
    {
     "data": {
      "text/plain": [
       "(12, 0)"
      ]
     },
     "execution_count": 75,
     "metadata": {},
     "output_type": "execute_result"
    }
   ],
   "source": [
    "divmod(24,2)"
   ]
  },
  {
   "cell_type": "code",
   "execution_count": 23,
   "id": "39c1dae6",
   "metadata": {
    "scrolled": true
   },
   "outputs": [
    {
     "data": {
      "text/plain": [
       "144"
      ]
     },
     "execution_count": 23,
     "metadata": {},
     "output_type": "execute_result"
    }
   ],
   "source": [
    "fibonacci_tail(12)"
   ]
  },
  {
   "cell_type": "code",
   "execution_count": 69,
   "id": "8c202110",
   "metadata": {},
   "outputs": [
    {
     "data": {
      "text/plain": [
       "46368"
      ]
     },
     "execution_count": 69,
     "metadata": {},
     "output_type": "execute_result"
    }
   ],
   "source": [
    "f12 = fibonacci_seq_n (12)\n",
    "f12**2 + 2* f12 * fibonacci_seq_n (11)"
   ]
  },
  {
   "cell_type": "code",
   "execution_count": 68,
   "id": "f0bc8963",
   "metadata": {},
   "outputs": [
    {
     "data": {
      "text/plain": [
       "46368"
      ]
     },
     "execution_count": 68,
     "metadata": {},
     "output_type": "execute_result"
    }
   ],
   "source": [
    "fibonacci_seq_n (24)"
   ]
  },
  {
   "cell_type": "code",
   "execution_count": 31,
   "id": "ce7d0fcd",
   "metadata": {},
   "outputs": [
    {
     "data": {
      "text/plain": [
       "144"
      ]
     },
     "execution_count": 31,
     "metadata": {},
     "output_type": "execute_result"
    }
   ],
   "source": [
    "fibonacci_seq_n_matrix(12)"
   ]
  },
  {
   "cell_type": "code",
   "execution_count": 32,
   "id": "4884eed2",
   "metadata": {},
   "outputs": [
    {
     "data": {
      "text/plain": [
       "144.00000000000003"
      ]
     },
     "execution_count": 32,
     "metadata": {},
     "output_type": "execute_result"
    }
   ],
   "source": [
    "fibonacci_seq_n_matrix_diag(12)"
   ]
  },
  {
   "cell_type": "code",
   "execution_count": 7,
   "id": "9ddef9c5",
   "metadata": {},
   "outputs": [
    {
     "name": "stdout",
     "output_type": "stream",
     "text": [
      "12,586,269,025\n"
     ]
    }
   ],
   "source": [
    "print(f\"{fibonacci_closed_form (50):,}\")"
   ]
  },
  {
   "cell_type": "code",
   "execution_count": 32,
   "id": "cfa37710",
   "metadata": {},
   "outputs": [
    {
     "name": "stdout",
     "output_type": "stream",
     "text": [
      "12,586,269,025\n"
     ]
    }
   ],
   "source": [
    "print(f\"{fibonacci_closed_form_exp (50):,}\")"
   ]
  },
  {
   "cell_type": "code",
   "execution_count": 8,
   "id": "e96fe522",
   "metadata": {},
   "outputs": [
    {
     "data": {
      "text/plain": [
       "12586269025"
      ]
     },
     "execution_count": 8,
     "metadata": {},
     "output_type": "execute_result"
    }
   ],
   "source": [
    "fibonacci_closed_form (50)"
   ]
  },
  {
   "cell_type": "code",
   "execution_count": 9,
   "id": "b0b1eed1",
   "metadata": {},
   "outputs": [
    {
     "name": "stdout",
     "output_type": "stream",
     "text": [
      "1 1\n",
      "2 1\n",
      "3 2\n",
      "4 3\n",
      "5 5\n",
      "6 8\n",
      "7 13\n",
      "8 21\n",
      "9 34\n",
      "10 55\n",
      "11 89\n",
      "12 144\n"
     ]
    }
   ],
   "source": [
    "for i in range(1, 13):\n",
    "    print(i,fibonacci_seq_n_iterative(i))"
   ]
  },
  {
   "cell_type": "code",
   "execution_count": 119,
   "id": "5759e9e6",
   "metadata": {},
   "outputs": [
    {
     "data": {
      "text/plain": [
       "12586269025"
      ]
     },
     "execution_count": 119,
     "metadata": {},
     "output_type": "execute_result"
    }
   ],
   "source": [
    "fibonacci_seq_n_iterative(50)"
   ]
  },
  {
   "cell_type": "code",
   "execution_count": 120,
   "id": "c64f6720",
   "metadata": {},
   "outputs": [
    {
     "data": {
      "text/plain": [
       "12586269025"
      ]
     },
     "execution_count": 120,
     "metadata": {},
     "output_type": "execute_result"
    }
   ],
   "source": [
    "fibonacci_seq_n(50)"
   ]
  },
  {
   "cell_type": "code",
   "execution_count": 121,
   "id": "bfe97054",
   "metadata": {},
   "outputs": [
    {
     "data": {
      "text/plain": [
       "12586269025"
      ]
     },
     "execution_count": 121,
     "metadata": {},
     "output_type": "execute_result"
    }
   ],
   "source": [
    "fibonacci_closed_form(50)"
   ]
  },
  {
   "cell_type": "markdown",
   "id": "6774a405",
   "metadata": {},
   "source": [
    "####  Generator version"
   ]
  },
  {
   "cell_type": "code",
   "execution_count": 204,
   "id": "499923ee",
   "metadata": {},
   "outputs": [],
   "source": [
    "g = fibonacci_seq_n_generator(12)"
   ]
  },
  {
   "cell_type": "code",
   "execution_count": 205,
   "id": "324a072f",
   "metadata": {
    "scrolled": true
   },
   "outputs": [
    {
     "data": {
      "text/plain": [
       "1"
      ]
     },
     "execution_count": 205,
     "metadata": {},
     "output_type": "execute_result"
    }
   ],
   "source": [
    "next(g)"
   ]
  },
  {
   "cell_type": "code",
   "execution_count": 206,
   "id": "f721f66a",
   "metadata": {
    "scrolled": true
   },
   "outputs": [
    {
     "data": {
      "text/plain": [
       "[1, 1, 2, 3, 5, 8, 13, 21, 34, 55, 89, 144]"
      ]
     },
     "execution_count": 206,
     "metadata": {},
     "output_type": "execute_result"
    }
   ],
   "source": [
    "list(fibonacci_seq_n_generator(12))"
   ]
  },
  {
   "cell_type": "code",
   "execution_count": 4,
   "id": "48033ea6",
   "metadata": {},
   "outputs": [
    {
     "name": "stdout",
     "output_type": "stream",
     "text": [
      "[1, 1, 2, 3, 5, 8, 13, 21, 34, 55, 89, 144]\n"
     ]
    },
    {
     "ename": "StopIteration",
     "evalue": "",
     "output_type": "error",
     "traceback": [
      "\u001b[0;31m---------------------------------------------------------------------------\u001b[0m",
      "\u001b[0;31mStopIteration\u001b[0m                             Traceback (most recent call last)",
      "Cell \u001b[0;32mIn[4], line 4\u001b[0m\n\u001b[1;32m      2\u001b[0m \u001b[38;5;28mprint\u001b[39m(\u001b[38;5;28mlist\u001b[39m(g))\n\u001b[1;32m      3\u001b[0m \u001b[38;5;66;03m# this produces an error\u001b[39;00m\n\u001b[0;32m----> 4\u001b[0m \u001b[38;5;28mnext\u001b[39m(g)\n",
      "\u001b[0;31mStopIteration\u001b[0m: "
     ]
    }
   ],
   "source": [
    "g = fibonacci_seq_n_generator(12)\n",
    "print(list(g))\n",
    "# this produces an error\n",
    "next(g)"
   ]
  },
  {
   "cell_type": "code",
   "execution_count": 780,
   "id": "80d4fee1",
   "metadata": {
    "scrolled": true
   },
   "outputs": [
    {
     "name": "stdout",
     "output_type": "stream",
     "text": [
      "1\n",
      "1\n",
      "2\n",
      "3\n",
      "5\n",
      "8\n",
      "13\n",
      "21\n",
      "34\n",
      "55\n",
      "89\n",
      "144\n"
     ]
    }
   ],
   "source": [
    "for x in fibonacci_seq_n_generator(12):\n",
    "    print(x)"
   ]
  },
  {
   "cell_type": "markdown",
   "id": "955e7c0d",
   "metadata": {},
   "source": [
    "## Timing results for the various Fibonacci n-functions\n",
    "\n",
    "There are some surprises awaiting.  Be aware.  Your mileage may vary.  All I can say is this is what happened on my Mac."
   ]
  },
  {
   "cell_type": "markdown",
   "id": "64d3922f",
   "metadata": {},
   "source": [
    "The `timeit` module is said to be best performance measurer for small chunks of code.  We'll use it. The first function timed (`fibonacci_seq_n`) generally achieves the best results.  \n",
    "\n",
    "That's a bit of a surprise.  This is the recursive version of Fibonacci...\n",
    "\n",
    "What's going on?"
   ]
  },
  {
   "cell_type": "code",
   "execution_count": 33,
   "id": "35da4cd9",
   "metadata": {},
   "outputs": [
    {
     "name": "stdout",
     "output_type": "stream",
     "text": [
      "Time taken: 0.003123 seconds\n"
     ]
    }
   ],
   "source": [
    "import timeit\n",
    "n,iters = 500,10_000\n",
    "\n",
    "# Now use the caching version.  But clear the cache first\n",
    "#fibonacci_seq_n.cache_clear()\n",
    "# Recursive implementation, almost always the fastest, go figure\n",
    "#timer = timeit.Timer(lambda: fibonacci_seq_n(n))\n",
    "#elapsed3 = timer.timeit(iters)\n",
    "elapsed3 = timeit.timeit(lambda: fibonacci_seq_n(n),number=iters)\n",
    "print(f'Time taken: {elapsed3:.6f} seconds')"
   ]
  },
  {
   "cell_type": "markdown",
   "id": "8f8186ce",
   "metadata": {},
   "source": [
    "Oh, the cache!  Let's try clearing it!"
   ]
  },
  {
   "cell_type": "code",
   "execution_count": 44,
   "id": "40f9cbf4",
   "metadata": {},
   "outputs": [
    {
     "name": "stdout",
     "output_type": "stream",
     "text": [
      "Time taken: 0.003884 seconds\n"
     ]
    }
   ],
   "source": [
    "import timeit\n",
    "n,iters = 500,10_000\n",
    "\n",
    "# Now use the caching version.\n",
    "fibonacci_seq_n.cache_clear()\n",
    "# Recursive implementation, almost always the fastest, go figure\n",
    "#timer = timeit.Timer(lambda: fibonacci_seq_n(n))\n",
    "#elapsed3 = timer.timeit(iters)\n",
    "elapsed3 =  timeit.timeit(lambda: fibonacci_seq_n(n),number=iters)\n",
    "print(f'Time taken: {elapsed3:.6f} seconds')"
   ]
  },
  {
   "cell_type": "markdown",
   "id": "056174e9",
   "metadata": {},
   "source": [
    "That made very little difference!  \n",
    "\n",
    "Can you guess why that is, in the context of measuring performance?\n",
    "\n",
    "Wait, let's try a version of the same function with  no caching at all...  And because I have some sense\n",
    "of what's about to happen, ket's try that on a much lower value of $n$ first, $n=40$."
   ]
  },
  {
   "cell_type": "code",
   "execution_count": 3,
   "id": "ec82c86e",
   "metadata": {},
   "outputs": [
    {
     "name": "stdout",
     "output_type": "stream",
     "text": [
      "Time taken: 80.422317 seconds\n"
     ]
    }
   ],
   "source": [
    "import timeit\n",
    "n,iters = 40,10\n",
    "\n",
    "elapsed3 =  timeit.timeit(lambda: fibonacci_seq_n2(n),number=iters)\n",
    "print(f'Time taken: {elapsed3:.6f} seconds')"
   ]
  },
  {
   "cell_type": "markdown",
   "id": "16cf1cbc",
   "metadata": {},
   "source": [
    "We have an average of 8 secs for computing $F_{40}$.  Estimated time for $F_{n=50}$ with linear growth in computation time: 10 secs."
   ]
  },
  {
   "cell_type": "code",
   "execution_count": 4,
   "id": "0a019240",
   "metadata": {},
   "outputs": [
    {
     "name": "stdout",
     "output_type": "stream",
     "text": [
      "Time taken: 996.386352 seconds\n"
     ]
    }
   ],
   "source": [
    "import timeit\n",
    "n,iters = 50,1\n",
    "\n",
    "elapsed3 =  timeit.timeit(lambda: fibonacci_seq_n2(n),number=iters)\n",
    "print(f'Time taken: {elapsed3:.6f} seconds')"
   ]
  },
  {
   "cell_type": "markdown",
   "id": "ee8dc089",
   "metadata": {},
   "source": [
    "Whoa!  Computing time for the recursive version with no caching definitely does **not** grow linearly.  We see\n",
    "that as $n$ grows, computing time for that recursive version grows exponentially!\n",
    "\n",
    "Here's the code for the recursive function.\n",
    "\n",
    "```python\n",
    "def fibonacci_seq_n (n):\n",
    "    \"\"\"\n",
    "    Return the nth Fibonacci number.\n",
    "    \n",
    "    Classic recursive definition of fibonacci sequence.\n",
    "    \n",
    "    Decorator introduces caching.  So not exponential.\n",
    "    \"\"\"\n",
    "    assert n > 0,\"Use only positive n\"\n",
    "    if n == 1:\n",
    "        return 1\n",
    "    elif n == 2:\n",
    "        return 1\n",
    "    else:\n",
    "        return fibonacci_seq_n(n-2) + fibonacci_seq_n(n-1)\n",
    "```\n",
    "\n",
    "The **recursion relation** (the relation defining when the function calls itself) is:\n",
    "\n",
    "$$\n",
    "\\text{fibonacci_seq_n} (n) = \\text{fibonacci_seq_n}(n-2) + \\text{fibonacci_seq_n}(n-1)\n",
    "$$\n",
    "\n",
    "So, abbreviating its name to $f$,\n",
    "here is a partial computational tree for $\\text{fibonacci_seq_n}$ (the computational tree for\n",
    " $\\text{fibonacci_seq_n}$ tells us what functions $\\text{fibonacci_seq_n}$ needs to call in order \n",
    " to compute $\\text{fibonacci_seq_n}(n)$, and then what functions those functions need to call, and so on."
   ]
  },
  {
   "cell_type": "code",
   "execution_count": 1,
   "id": "88d25abe",
   "metadata": {},
   "outputs": [
    {
     "data": {
      "image/svg+xml": [
       "<svg baseProfile=\"full\" height=\"264px\" preserveAspectRatio=\"xMidYMid meet\" style=\"font-family: times, serif; font-weight: normal; font-style: normal; font-size: 16px\" version=\"1.1\" viewBox=\"0,0,848.0,264.0\" width=\"848px\" xmlns=\"http://www.w3.org/2000/svg\" xmlns:ev=\"http://www.w3.org/2001/xml-events\" xmlns:xlink=\"http://www.w3.org/1999/xlink\"><defs /><svg width=\"100%\" x=\"0\" y=\"0px\"><defs /><text text-anchor=\"middle\" x=\"50%\" y=\"16px\">0:f[n]</text></svg><svg width=\"62.2642%\" x=\"0%\" y=\"48px\"><defs /><svg width=\"100%\" x=\"0\" y=\"0px\"><defs /><text text-anchor=\"middle\" x=\"50%\" y=\"16px\">1:f[n-1]</text></svg><svg width=\"63.6364%\" x=\"0%\" y=\"48px\"><defs /><svg width=\"100%\" x=\"0\" y=\"0px\"><defs /><text text-anchor=\"middle\" x=\"50%\" y=\"16px\">2:f[n-2]</text></svg><svg width=\"61.9048%\" x=\"0%\" y=\"48px\"><defs /><svg width=\"100%\" x=\"0\" y=\"0px\"><defs /><text text-anchor=\"middle\" x=\"50%\" y=\"16px\">3:f[n-3]</text></svg><svg width=\"69.2308%\" x=\"0%\" y=\"48px\"><defs /><svg width=\"100%\" x=\"0\" y=\"0px\"><defs /><text text-anchor=\"middle\" x=\"50%\" y=\"16px\">4:f[n-4]</text></svg><svg width=\"55.5556%\" x=\"0%\" y=\"48px\"><defs /><svg width=\"100%\" x=\"0\" y=\"0px\"><defs /><text text-anchor=\"middle\" x=\"50%\" y=\"16px\">5:f[n-5]</text></svg></svg><line stroke=\"black\" x1=\"50%\" x2=\"27.7778%\" y1=\"20px\" y2=\"48px\" /><svg width=\"44.4444%\" x=\"55.5556%\" y=\"48px\"><defs /><svg width=\"100%\" x=\"0\" y=\"0px\"><defs /><text text-anchor=\"middle\" x=\"50%\" y=\"16px\">f[n-6]</text></svg></svg><line stroke=\"black\" x1=\"50%\" x2=\"77.7778%\" y1=\"20px\" y2=\"48px\" /></svg><line stroke=\"black\" x1=\"50%\" x2=\"34.6154%\" y1=\"20px\" y2=\"48px\" /><svg width=\"30.7692%\" x=\"69.2308%\" y=\"48px\"><defs /><svg width=\"100%\" x=\"0\" y=\"0px\"><defs /><text text-anchor=\"middle\" x=\"50%\" y=\"16px\">f[n-5]</text></svg></svg><line stroke=\"black\" x1=\"50%\" x2=\"84.6154%\" y1=\"20px\" y2=\"48px\" /></svg><line stroke=\"black\" x1=\"50%\" x2=\"30.9524%\" y1=\"20px\" y2=\"48px\" /><svg width=\"38.0952%\" x=\"61.9048%\" y=\"48px\"><defs /><svg width=\"100%\" x=\"0\" y=\"0px\"><defs /><text text-anchor=\"middle\" x=\"50%\" y=\"16px\">f[n-4]</text></svg><svg width=\"50%\" x=\"0%\" y=\"48px\"><defs /><svg width=\"100%\" x=\"0\" y=\"0px\"><defs /><text text-anchor=\"middle\" x=\"50%\" y=\"16px\">f[n-5]</text></svg></svg><line stroke=\"black\" x1=\"50%\" x2=\"25%\" y1=\"20px\" y2=\"48px\" /><svg width=\"50%\" x=\"50%\" y=\"48px\"><defs /><svg width=\"100%\" x=\"0\" y=\"0px\"><defs /><text text-anchor=\"middle\" x=\"50%\" y=\"16px\">f[n-6]</text></svg></svg><line stroke=\"black\" x1=\"50%\" x2=\"75%\" y1=\"20px\" y2=\"48px\" /></svg><line stroke=\"black\" x1=\"50%\" x2=\"80.9524%\" y1=\"20px\" y2=\"48px\" /></svg><line stroke=\"black\" x1=\"50%\" x2=\"31.8182%\" y1=\"20px\" y2=\"48px\" /><svg width=\"36.3636%\" x=\"63.6364%\" y=\"48px\"><defs /><svg width=\"100%\" x=\"0\" y=\"0px\"><defs /><text text-anchor=\"middle\" x=\"50%\" y=\"16px\">f[n-3]</text></svg><svg width=\"66.6667%\" x=\"0%\" y=\"48px\"><defs /><svg width=\"100%\" x=\"0\" y=\"0px\"><defs /><text text-anchor=\"middle\" x=\"50%\" y=\"16px\">f[n-4]</text></svg><svg width=\"50%\" x=\"0%\" y=\"48px\"><defs /><svg width=\"100%\" x=\"0\" y=\"0px\"><defs /><text text-anchor=\"middle\" x=\"50%\" y=\"16px\">f[n-5]</text></svg></svg><line stroke=\"black\" x1=\"50%\" x2=\"25%\" y1=\"20px\" y2=\"48px\" /><svg width=\"50%\" x=\"50%\" y=\"48px\"><defs /><svg width=\"100%\" x=\"0\" y=\"0px\"><defs /><text text-anchor=\"middle\" x=\"50%\" y=\"16px\">f[n-6]</text></svg></svg><line stroke=\"black\" x1=\"50%\" x2=\"75%\" y1=\"20px\" y2=\"48px\" /></svg><line stroke=\"black\" x1=\"50%\" x2=\"33.3333%\" y1=\"20px\" y2=\"48px\" /><svg width=\"33.3333%\" x=\"66.6667%\" y=\"48px\"><defs /><svg width=\"100%\" x=\"0\" y=\"0px\"><defs /><text text-anchor=\"middle\" x=\"50%\" y=\"16px\">f[n-5]</text></svg></svg><line stroke=\"black\" x1=\"50%\" x2=\"83.3333%\" y1=\"20px\" y2=\"48px\" /></svg><line stroke=\"black\" x1=\"50%\" x2=\"81.8182%\" y1=\"20px\" y2=\"48px\" /></svg><line stroke=\"black\" x1=\"50%\" x2=\"31.1321%\" y1=\"20px\" y2=\"48px\" /><svg width=\"37.7358%\" x=\"62.2642%\" y=\"48px\"><defs /><svg width=\"100%\" x=\"0\" y=\"0px\"><defs /><text text-anchor=\"middle\" x=\"50%\" y=\"16px\">f[n-2]</text></svg><svg width=\"60%\" x=\"0%\" y=\"48px\"><defs /><svg width=\"100%\" x=\"0\" y=\"0px\"><defs /><text text-anchor=\"middle\" x=\"50%\" y=\"16px\">f[n-3]</text></svg><svg width=\"66.6667%\" x=\"0%\" y=\"48px\"><defs /><svg width=\"100%\" x=\"0\" y=\"0px\"><defs /><text text-anchor=\"middle\" x=\"50%\" y=\"16px\">f[n-4]</text></svg><svg width=\"50%\" x=\"0%\" y=\"48px\"><defs /><svg width=\"100%\" x=\"0\" y=\"0px\"><defs /><text text-anchor=\"middle\" x=\"50%\" y=\"16px\">f[n-5]</text></svg></svg><line stroke=\"black\" x1=\"50%\" x2=\"25%\" y1=\"20px\" y2=\"48px\" /><svg width=\"50%\" x=\"50%\" y=\"48px\"><defs /><svg width=\"100%\" x=\"0\" y=\"0px\"><defs /><text text-anchor=\"middle\" x=\"50%\" y=\"16px\">f[n-6]</text></svg></svg><line stroke=\"black\" x1=\"50%\" x2=\"75%\" y1=\"20px\" y2=\"48px\" /></svg><line stroke=\"black\" x1=\"50%\" x2=\"33.3333%\" y1=\"20px\" y2=\"48px\" /><svg width=\"33.3333%\" x=\"66.6667%\" y=\"48px\"><defs /><svg width=\"100%\" x=\"0\" y=\"0px\"><defs /><text text-anchor=\"middle\" x=\"50%\" y=\"16px\">f[n-5]</text></svg></svg><line stroke=\"black\" x1=\"50%\" x2=\"83.3333%\" y1=\"20px\" y2=\"48px\" /></svg><line stroke=\"black\" x1=\"50%\" x2=\"30%\" y1=\"20px\" y2=\"48px\" /><svg width=\"40%\" x=\"60%\" y=\"48px\"><defs /><svg width=\"100%\" x=\"0\" y=\"0px\"><defs /><text text-anchor=\"middle\" x=\"50%\" y=\"16px\">f[n-4]</text></svg><svg width=\"50%\" x=\"0%\" y=\"48px\"><defs /><svg width=\"100%\" x=\"0\" y=\"0px\"><defs /><text text-anchor=\"middle\" x=\"50%\" y=\"16px\">f[n-5]</text></svg></svg><line stroke=\"black\" x1=\"50%\" x2=\"25%\" y1=\"20px\" y2=\"48px\" /><svg width=\"50%\" x=\"50%\" y=\"48px\"><defs /><svg width=\"100%\" x=\"0\" y=\"0px\"><defs /><text text-anchor=\"middle\" x=\"50%\" y=\"16px\">f[n-6]</text></svg></svg><line stroke=\"black\" x1=\"50%\" x2=\"75%\" y1=\"20px\" y2=\"48px\" /></svg><line stroke=\"black\" x1=\"50%\" x2=\"80%\" y1=\"20px\" y2=\"48px\" /></svg><line stroke=\"black\" x1=\"50%\" x2=\"81.1321%\" y1=\"20px\" y2=\"48px\" /></svg>"
      ],
      "text/plain": [
       "Tree('0:f[n]', [Tree('1:f[n-1]', [Tree('2:f[n-2]', [Tree('3:f[n-3]', [Tree('4:f[n-4]', ['5:f[n-5]', 'f[n-6]']), 'f[n-5]']), Tree('f[n-4]', ['f[n-5]', 'f[n-6]'])]), Tree('f[n-3]', [Tree('f[n-4]', ['f[n-5]', 'f[n-6]']), 'f[n-5]'])]), Tree('f[n-2]', [Tree('f[n-3]', [Tree('f[n-4]', ['f[n-5]', 'f[n-6]']), 'f[n-5]']), Tree('f[n-4]', ['f[n-5]', 'f[n-6]'])])])"
      ]
     },
     "execution_count": 1,
     "metadata": {},
     "output_type": "execute_result"
    }
   ],
   "source": [
    "# Note for this to work svgling must be installed (`! pip install svgling`) in addition to nltk\n",
    "from nltk.tree import Tree\n",
    "t = Tree.fromstring(\"(0:f[n] (1:f[n-1] (2:f[n-2] (3:f[n-3] (4:f[n-4] 5:f[n-5] f[n-6]) f[n-5]) (f[n-4] f[n-5] f[n-6]))\"\n",
    "                    \"(f[n-3] (f[n-4] f[n-5] f[n-6]) f[n-5])) (f[n-2] (f[n-3] (f[n-4] f[n-5] f[n-6]) f[n-5])\"\n",
    "                    \"(f[n-4] f[n-5] f[n-6])))\")\n",
    "t"
   ]
  },
  {
   "cell_type": "markdown",
   "id": "196acf80",
   "metadata": {},
   "source": [
    "The tree has only been  expanded as far as `f[n-5]` and `f[n-6]`.  If  we follow the code and call `n=1` and `n=2` the \"base cases\" (where the function doesn't recurse), this would be the entire computational tree for `n=7`; if `n>7`, each of the \"leaf\" nodes at the bottom of the tree would need further expanding, generating an arbitrarily deep tree of its own.\n",
    "\n",
    "The first thing to notice is the generation numbers on the left.  The root of the tree is generation 0; its daughters are generation 1; its grandaughters generation 2, and so on.  With each generation the number of computations to perform doubles.  For example there are 2  computations (`f[n-1]` and `f[n-2]`) in generation 1 \n",
    "and 4 in generation 2: `f[n-2]`, `f[n-3]`, `f[n-3]`(again) and  `f[n-4]`.  If tree were further expanded at generation 4 (because `n>7`), there would be $2^4$ or 16 computations.  So in general the number of computational operations at the bottom of a tree with $n$ generations is $2^{n}$; since the $n$ is an exponent, the computational complexity for this recursive function is called **exponential**. Exponential complexity is a pretty good indicator of **intractability**,  in the sense that in very short order, the computational needs will overwhelm whatever computaional resources you have on tap.  We have just demonstrated this for a naive implementation of `fibonacci_seq_n`.\n",
    "\n",
    "The second thing to notice about the computational tree above is the number of times the same thing is computed. For example, `f[n-5]` is computed 8 times, `f[n-4]` is computed 4 times.  Obviously that's contributing to our exponential growth.  This suggests a fix.  Remember the results of each computation after completing it.  Now instead of expanding the tree for `f[n-5]` 8 times, you only compute it once, and look up the answer the next 7 times it comes up.  This strategy is called **memoization** (no \"r\", though the idea suggests there should be), and it converts the exponential computation above into a linear computation: `n` times a constant number of steps.\n",
    "We have defined both memoized and non-memoized versions of `fibonacci_seq_n` above.  In Python, you memoize a function with a simple \"decorator\" declaration above the function definition:\n",
    "\n",
    "```python\n",
    "@cache\n",
    "def function_to_be_cached (param1, param2, ...):\n",
    "    Function_body\n",
    "```\n",
    "\n",
    "is enough to make `fibonacci_seq_n` linear and practical.  The uncached version, `fibonacci_seq_n2`, is thoroughly impractical, as we just demonstrated."
   ]
  },
  {
   "cell_type": "markdown",
   "id": "59c31fd3",
   "metadata": {},
   "source": [
    "Note, however that there is a recursive way of computing the nth Fobonacci number which is not exponential.  We have a variant recursive function called `fibonacci_seq_n_log2`, which uses adifferent recursion relation. Even without caching it is still a strong contender:"
   ]
  },
  {
   "cell_type": "code",
   "execution_count": 183,
   "id": "dacff797",
   "metadata": {},
   "outputs": [
    {
     "name": "stdout",
     "output_type": "stream",
     "text": [
      "Time taken: 0.000067 seconds\n"
     ]
    }
   ],
   "source": [
    "import timeit\n",
    "n,iters = 40,10\n",
    "\n",
    "elapsed3 =  timeit.timeit(lambda: fibonacci_seq_n_log2(n),number=iters)\n",
    "print(f'Time taken: {elapsed3:.6f} seconds')"
   ]
  },
  {
   "cell_type": "code",
   "execution_count": 17,
   "id": "ae41e532",
   "metadata": {},
   "outputs": [
    {
     "name": "stdout",
     "output_type": "stream",
     "text": [
      "Time taken: 0.000570 seconds\n"
     ]
    }
   ],
   "source": [
    "import timeit\n",
    "n,iters = 500,10\n",
    "\n",
    "elapsed3 =  timeit.timeit(lambda: fibonacci_seq_n_log2(n),number=iters)\n",
    "print(f'Time taken: {elapsed3:.6f} seconds')"
   ]
  },
  {
   "cell_type": "markdown",
   "id": "b8f2bd37",
   "metadata": {},
   "source": [
    "Without further ado, let's do some preliminary timing tests:"
   ]
  },
  {
   "cell_type": "code",
   "execution_count": 18,
   "id": "79997f47",
   "metadata": {},
   "outputs": [
    {
     "name": "stdout",
     "output_type": "stream",
     "text": [
      "Time taken: 0.161157 seconds\n"
     ]
    }
   ],
   "source": [
    "import timeit\n",
    "n,iters = 500,10_000\n",
    "\n",
    "\n",
    "# Iterative implementation\n",
    "elapsed3 =  timeit.timeit(lambda: fibonacci_seq_n_iterative(n),number=iters)\n",
    "print(f'Time taken: {elapsed3:.6f} seconds')"
   ]
  },
  {
   "cell_type": "code",
   "execution_count": 19,
   "id": "139a2b2b",
   "metadata": {},
   "outputs": [
    {
     "name": "stdout",
     "output_type": "stream",
     "text": [
      "Time taken: 0.021186 seconds\n"
     ]
    }
   ],
   "source": [
    "import timeit\n",
    "n,iters = 500,10_000\n",
    "\n",
    "# Matrix implementation plain matrix powers calculation\n",
    "elapsed3 =  timeit.timeit(lambda: fibonacci_seq_n_matrix(n),number=iters)\n",
    "print(f'Time taken: {elapsed3:.6f} seconds')"
   ]
  },
  {
   "cell_type": "markdown",
   "id": "ff3df8a7",
   "metadata": {},
   "source": [
    "So not faster....  There is an improvement possible...  later ..."
   ]
  },
  {
   "cell_type": "code",
   "execution_count": 20,
   "id": "fc419782",
   "metadata": {},
   "outputs": [
    {
     "name": "stdout",
     "output_type": "stream",
     "text": [
      "Time taken: 0.032299 seconds\n"
     ]
    }
   ],
   "source": [
    "import timeit\n",
    "n,iters = 500,10_000\n",
    "\n",
    "# Matrix implementation with diagonalization, eigen computations precomputed (surprisingly bad)\n",
    "timer = timeit.Timer(lambda: fibonacci_seq_n_matrix_diag(n))\n",
    "elapsed3 = timer.timeit(iters)\n",
    "print(f'Time taken: {elapsed3:.6f} seconds')"
   ]
  },
  {
   "cell_type": "code",
   "execution_count": 21,
   "id": "87121e23",
   "metadata": {},
   "outputs": [
    {
     "name": "stdout",
     "output_type": "stream",
     "text": [
      "Time taken: 0.016460 seconds\n"
     ]
    }
   ],
   "source": [
    "\n",
    "import timeit\n",
    "n,iters = 500,10_000\n",
    "\n",
    "# The best closed form variant with issues discussed above\n",
    "# Surprisingly NOT the fastest\n",
    "#timer = timeit.Timer(lambda: fibonacci_closed_form(n))\n",
    "#elapsed22 = timer.timeit(iters)\n",
    "elapsed3 =  timeit.timeit(lambda: fibonacci_closed_form(n),number=iters)\n",
    "print(f'Time taken: {elapsed3:.6f} seconds')"
   ]
  },
  {
   "cell_type": "code",
   "execution_count": 23,
   "id": "3d896625",
   "metadata": {},
   "outputs": [
    {
     "name": "stdout",
     "output_type": "stream",
     "text": [
      "Time taken: 0.035051 seconds\n"
     ]
    }
   ],
   "source": [
    "import timeit\n",
    "n,iters = 500,10_000\n",
    "\n",
    "# A closed form variant using exp or exponentiation\n",
    "# The conversion of phi and phi^{-1} to log form is precomputed, so its \n",
    "# ... exp(n*log_phi) - ... exp(n*log_inv_phi) ...\n",
    "#timer = timeit.Timer(lambda: fibonacci_closed_form_exp(n))\n",
    "#elapsed3 = timer.timeit(iters)\n",
    "elapsed3 =  timeit.timeit(lambda: fibonacci_closed_form_exp(n),number=iters)\n",
    "print(f'Time taken: {elapsed3:.6f} seconds')"
   ]
  },
  {
   "cell_type": "code",
   "execution_count": 24,
   "id": "d0d7fc4a",
   "metadata": {},
   "outputs": [
    {
     "name": "stdout",
     "output_type": "stream",
     "text": [
      "Time taken: 0.434210 seconds\n"
     ]
    }
   ],
   "source": [
    "import timeit\n",
    "n,iters = 500,10_000\n",
    "\n",
    "# A closed form variant using exp or exponentiation\n",
    "# The conversion of phi and phi^{-1} to log form is precomputed, so its \n",
    "# ... exp(n*log_phi) - ... exp(n*log_inv_phi) ...\n",
    "#timer = timeit.Timer(lambda: fibonacci_closed_form_exp(n))\n",
    "#elapsed3 = timer.timeit(iters)\n",
    "elapsed3 =  timeit.timeit(lambda: fibonacci_seq_n_log2(n),number=iters)\n",
    "print(f'Time taken: {elapsed3:.6f} seconds')"
   ]
  },
  {
   "cell_type": "markdown",
   "id": "0359fa2b",
   "metadata": {},
   "source": [
    "Better method.  Do timing runs for different systems as closely together as possible to keep\n",
    "background computational load as similar as possible."
   ]
  },
  {
   "cell_type": "code",
   "execution_count": 25,
   "id": "a46c4e7d",
   "metadata": {},
   "outputs": [],
   "source": [
    "import timeit\n",
    "n,iters = 500,10_000\n",
    "\n",
    "fns = fibonacci_seq_n, fibonacci_seq_n_iterative,fibonacci_seq_n_matrix,\\\n",
    "                    fibonacci_seq_n_matrix_diag,fibonacci_closed_form,fibonacci_closed_form_exp,fibonacci_seq_n_log2\n",
    "\n",
    "fn_dict= dict()\n",
    "for fn in fns:\n",
    "    fn_dict[fn.__name__] = timeit.timeit(lambda: fn(n),number=iters)"
   ]
  },
  {
   "cell_type": "code",
   "execution_count": 26,
   "id": "c4cf2fb6",
   "metadata": {},
   "outputs": [
    {
     "name": "stdout",
     "output_type": "stream",
     "text": [
      "fibonacci_seq_n                0.002491\n",
      "fibonacci_seq_n_matrix         0.007012\n",
      "fibonacci_closed_form          0.008814\n",
      "fibonacci_closed_form_exp      0.018713\n",
      "fibonacci_seq_n_matrix_diag    0.024289\n",
      "fibonacci_seq_n_iterative      0.164255\n",
      "fibonacci_seq_n_log2           0.411215\n"
     ]
    }
   ],
   "source": [
    "n,iters = 500,10_000\n",
    "time_list = sorted(list(fn_dict.items()),key=lambda x: x[1])\n",
    "for (fn_name,elapsed)  in time_list:\n",
    "    print(f'{fn_name:<30} {elapsed:.6f}')"
   ]
  },
  {
   "cell_type": "code",
   "execution_count": 188,
   "id": "ac7a95d2",
   "metadata": {},
   "outputs": [
    {
     "name": "stdout",
     "output_type": "stream",
     "text": [
      "fibonacci_closed_form          0.008741\n",
      "fibonacci_seq_n_matrix         0.010310\n",
      "fibonacci_seq_n                0.013675\n",
      "fibonacci_closed_form_exp      0.019026\n",
      "fibonacci_seq_n_matrix_diag    0.024515\n",
      "fibonacci_seq_n_iterative      0.144307\n",
      "fibonacci_seq_n_log2           0.410670\n"
     ]
    }
   ],
   "source": [
    "time_list = sorted(list(fn_dict.items()),key=lambda x: x[1])\n",
    "for (fn_name,elapsed)  in time_list:\n",
    "    print(f'{fn_name:<30} {elapsed:.6f}')"
   ]
  },
  {
   "cell_type": "code",
   "execution_count": 189,
   "id": "a1932841",
   "metadata": {},
   "outputs": [
    {
     "name": "stdout",
     "output_type": "stream",
     "text": [
      "fibonacci_closed_form          0.008741\n",
      "fibonacci_seq_n_matrix         0.010310\n",
      "fibonacci_seq_n                0.013675\n",
      "fibonacci_closed_form_exp      0.019026\n",
      "fibonacci_seq_n_matrix_diag    0.024515\n",
      "fibonacci_seq_n_iterative      0.144307\n",
      "fibonacci_seq_n_log2           0.410670\n"
     ]
    }
   ],
   "source": [
    "time_list = sorted(list(fn_dict.items()),key=lambda x: x[1])\n",
    "for (fn_name,elapsed)  in time_list:\n",
    "    print(f'{fn_name:<30} {elapsed:.6f}')"
   ]
  },
  {
   "cell_type": "markdown",
   "id": "dacf5f79",
   "metadata": {},
   "source": [
    "### More systematic timing\n",
    "\n",
    "The big flaw of the previous approaches is not exploring multiple values of n.   Bad algorithms\n",
    "often blow up somewhere along the way as `n` (some characerization of the size of the\n",
    "problem) increases.  In fact we saw that above with `fibonacci_seq_n2` the non-caching version\n",
    "of the recursive implementation when moving from $n=40$ to $n=50$ blew up computation time\n",
    "by a factor of 100."
   ]
  },
  {
   "cell_type": "code",
   "execution_count": 190,
   "id": "6c568ef7",
   "metadata": {},
   "outputs": [],
   "source": [
    "import timeit\n",
    "from matplotlib import pyplot as plt\n",
    "\n",
    "def timings(fns, log_lb=1,log_ub=3.1,iters=10_000,num_pts=25):\n",
    "    # create array of nvalues to time results for. We will turn these into ints\n",
    "    # Logscale for meaningful variation.\n",
    "    n_array = np.floor(np.logspace(log_lb, log_ub, num_pts))\n",
    "    num_ns,num_fns = (len(n_array),len(fns))\n",
    "    results = np.zeros((num_ns,num_fns))\n",
    "\n",
    "    for (i,n) in enumerate(n_array):\n",
    "        n=int(n)\n",
    "        for (j,fn) in enumerate(fns):\n",
    "            results[i,j] = timeit.timeit(lambda: fn(n),number=iters) \n",
    "    return results,n_array\n",
    "\n",
    "def plot_timings (results,n_array,fns,legend_loc=\"center right\"):\n",
    "    (fig, ax) = plt.subplots(1,1)\n",
    "    x = n_array\n",
    "    for i in range(results.shape[1]):\n",
    "        ax.plot(x,results[:,i],label=fns[i].__name__)\n",
    "    _ = ax.legend(loc=legend_loc)"
   ]
  },
  {
   "cell_type": "markdown",
   "id": "0f8d9097",
   "metadata": {},
   "source": [
    "The value sof $n$ we'll explore:"
   ]
  },
  {
   "cell_type": "code",
   "execution_count": 191,
   "id": "a0f47d69",
   "metadata": {},
   "outputs": [
    {
     "data": {
      "text/plain": [
       "array([  10.,   12.,   15.,   18.,   22.,   27.,   34.,   42.,   51.,\n",
       "         63.,   77.,   95.,  117.,  144.,  177.,  217.,  267.,  327.,\n",
       "        402.,  494.,  607.,  745.,  915., 1124., 1380.])"
      ]
     },
     "execution_count": 191,
     "metadata": {},
     "output_type": "execute_result"
    }
   ],
   "source": [
    "#n_array  for the x-axis in the plots\n",
    "np.floor(np.logspace(1, 3.14, 25))"
   ]
  },
  {
   "cell_type": "code",
   "execution_count": 192,
   "id": "543c6b9c",
   "metadata": {
    "scrolled": true
   },
   "outputs": [
    {
     "data": {
      "image/png": "[encoded data removed]",
      "text/plain": [
       "<Figure size 640x480 with 1 Axes>"
      ]
     },
     "metadata": {},
     "output_type": "display_data"
    }
   ],
   "source": [
    "fns = fibonacci_seq_n_log2,fibonacci_seq_n, fibonacci_seq_n_iterative,fibonacci_seq_n_matrix,\\\n",
    "                    fibonacci_seq_n_matrix_diag,fibonacci_closed_form,fibonacci_closed_form_exp\n",
    "\n",
    "# 1400 is about the most closed form function can take np.log10(1400)=3.14\n",
    "# Try phi**1500\n",
    "log_lb,log_ub,iters,num_pts= 1,3.14,10_000,25\n",
    "\n",
    "results,n_array =timings(fns, log_lb=log_lb,log_ub=log_ub,iters=iters,num_pts=num_pts)\n",
    "plot_timings (results,n_array,fns,legend_loc=\"upper left\")"
   ]
  },
  {
   "cell_type": "markdown",
   "id": "fff77cfe",
   "metadata": {},
   "source": [
    "Let's eliminate the outliers and rerun this:"
   ]
  },
  {
   "cell_type": "code",
   "execution_count": 193,
   "id": "cfd38cc9",
   "metadata": {},
   "outputs": [
    {
     "data": {
      "image/png": "[encoded data removed]",
      "text/plain": [
       "<Figure size 640x480 with 1 Axes>"
      ]
     },
     "metadata": {},
     "output_type": "display_data"
    }
   ],
   "source": [
    "fns = fibonacci_seq_n, fibonacci_seq_n_iterative,fibonacci_seq_n_matrix,\\\n",
    "                    fibonacci_seq_n_matrix_diag,fibonacci_closed_form,fibonacci_closed_form_exp\n",
    "\n",
    "# 1400 is about the most closed form function can take np.log10(1400)=3.14\n",
    "# Try phi**1500\n",
    "log_lb,log_ub,iters,num_pts= 1,3.14,10_000,25\n",
    "\n",
    "results,n_array =timings(fns, log_lb=log_lb,log_ub=log_ub,iters=iters,num_pts=num_pts)\n",
    "plot_timings (results,n_array,fns,legend_loc=\"upper left\")"
   ]
  },
  {
   "cell_type": "markdown",
   "id": "cad16236",
   "metadata": {},
   "source": [
    "The functions `fibonacci_seq_n_iterative` is still ill-behaved with respect\n",
    "to the others. "
   ]
  },
  {
   "cell_type": "markdown",
   "id": "186baf6e",
   "metadata": {},
   "source": [
    "For better visual resolution, remove that outlier as well:"
   ]
  },
  {
   "cell_type": "code",
   "execution_count": 195,
   "id": "cf7731ee",
   "metadata": {},
   "outputs": [
    {
     "data": {
      "image/png": "[encoded data removed]",
      "text/plain": [
       "<Figure size 640x480 with 1 Axes>"
      ]
     },
     "metadata": {},
     "output_type": "display_data"
    }
   ],
   "source": [
    "fns = fibonacci_closed_form,fibonacci_closed_form_exp, fibonacci_seq_n, fibonacci_seq_n_matrix,\\\n",
    "      fibonacci_seq_n_matrix_diag\n",
    "\n",
    "results,n_array =timings(fns, log_lb=log_lb,log_ub=log_ub,iters=iters,num_pts=num_pts)\n",
    "plot_timings (results,n_array,fns,legend_loc=\"lower left\")"
   ]
  },
  {
   "cell_type": "code",
   "execution_count": 196,
   "id": "b49df100",
   "metadata": {},
   "outputs": [
    {
     "name": "stdout",
     "output_type": "stream",
     "text": [
      "fibonacci_closed_form\n",
      "fibonacci_closed_form_exp\n",
      "fibonacci_seq_n\n",
      "fibonacci_seq_n_matrix\n",
      "fibonacci_seq_n_matrix_diag\n"
     ]
    },
    {
     "data": {
      "text/plain": [
       "array([0.01088042, 0.02158379, 0.00064221, 0.00753804, 0.025     ])"
      ]
     },
     "execution_count": 196,
     "metadata": {},
     "output_type": "execute_result"
    }
   ],
   "source": [
    "for f in fns:\n",
    "    print(f.__name__)\n",
    "results[-1,:]"
   ]
  },
  {
   "cell_type": "markdown",
   "id": "2ebb2e27",
   "metadata": {},
   "source": [
    "Align the the two sequences by enumeration:"
   ]
  },
  {
   "cell_type": "code",
   "execution_count": 197,
   "id": "576f668a",
   "metadata": {},
   "outputs": [
    {
     "name": "stdout",
     "output_type": "stream",
     "text": [
      "fibonacci_closed_form          0.01088\n",
      "fibonacci_closed_form_exp      0.02158\n",
      "fibonacci_seq_n                0.00064\n",
      "fibonacci_seq_n_matrix         0.00754\n",
      "fibonacci_seq_n_matrix_diag    0.02500\n"
     ]
    }
   ],
   "source": [
    "for (i,f) in enumerate(fns):\n",
    "    print(f\"{f.__name__:<30} {results[-1,i]:.5f}\")"
   ]
  },
  {
   "cell_type": "markdown",
   "id": "a9268bba",
   "metadata": {},
   "source": [
    "Align by zipping and sort by time:"
   ]
  },
  {
   "cell_type": "code",
   "execution_count": 198,
   "id": "fe2dd57b",
   "metadata": {},
   "outputs": [
    {
     "name": "stdout",
     "output_type": "stream",
     "text": [
      "Timing_results for n=500\n",
      "fibonacci_seq_n                0.00064\n",
      "fibonacci_seq_n_matrix         0.00754\n",
      "fibonacci_closed_form          0.01088\n",
      "fibonacci_closed_form_exp      0.02158\n",
      "fibonacci_seq_n_matrix_diag    0.02500\n"
     ]
    }
   ],
   "source": [
    "timing_results = list(zip((fn.__name__ for fn in fns),results[-1,:]))\n",
    "print(f\"Timing_results for {n=}\")\n",
    "timing_results.sort(key=lambda x: x[1])\n",
    "for (f,t) in timing_results:\n",
    "    print(f\"{f:<30} {t:.5f}\")"
   ]
  },
  {
   "cell_type": "markdown",
   "id": "91b71d83",
   "metadata": {},
   "source": [
    "## Accuracy results for closed form function"
   ]
  },
  {
   "cell_type": "markdown",
   "id": "51914a26",
   "metadata": {},
   "source": [
    "Restating what was said in the introduction:  The closed form computation is inaccurate\n",
    "for larger values of n; all the others using some sort of iteration of addition on integers are accurate.\n",
    "\n",
    "Here's the code to test your own version"
   ]
  },
  {
   "cell_type": "code",
   "execution_count": 875,
   "id": "587f51cb",
   "metadata": {},
   "outputs": [
    {
     "name": "stdout",
     "output_type": "stream",
     "text": [
      "72\n",
      "Closed form: 498,454,011,879,265\n",
      "Accurate:    498,454,011,879,264\n"
     ]
    }
   ],
   "source": [
    "for n in range(20,99):\n",
    "    v1 = fibonacci_closed_form_float_issues(n) \n",
    "    v2 = fibonacci_seq_n (n)\n",
    "    if (v1 != v2):\n",
    "        print(f\"{n}\")\n",
    "        print(f\"Closed form: {v1:,}\")\n",
    "        print(f\"Accurate:    {v2:,}\")\n",
    "        break"
   ]
  },
  {
   "cell_type": "code",
   "execution_count": 876,
   "id": "a1acaaae",
   "metadata": {},
   "outputs": [
    {
     "name": "stdout",
     "output_type": "stream",
     "text": [
      "100\n",
      "Closed form: 354,224,848,179,263,111,168\n",
      "Accurate     354,224,848,179,261,915,075\n"
     ]
    }
   ],
   "source": [
    "n=100\n",
    "v1 = fibonacci_closed_form_float_issues(n) \n",
    "v2 = fibonacci_seq_n (n)\n",
    "print(f\"{n}\")\n",
    "print(f\"Closed form: {v1:,}\")\n",
    "print(f\"Accurate     {v2:,}\")"
   ]
  },
  {
   "cell_type": "markdown",
   "id": "bf98f218",
   "metadata": {},
   "source": [
    "## The matrix calculation of Fibonacci numbers"
   ]
  },
  {
   "cell_type": "markdown",
   "id": "dc9880e7",
   "metadata": {},
   "source": [
    "We implement the idea that the Fibonacci update on a vector of two integers is a Linear Map with an associated matrix.  This matrix powers approach to computing is discussed in a number of places.  It's describe don the Fibonacci Sequence Wikipedia page.  I first read through it in \n",
    "[Fabian Dablander's blog post}.](https://fabiandablander.com/r/Fibonacci.html) \n",
    "\n",
    "Here's a quick demo.  We'll show how it works and then how we chose the matrix `fib_M` below."
   ]
  },
  {
   "cell_type": "code",
   "execution_count": 232,
   "id": "6c8df58f",
   "metadata": {},
   "outputs": [],
   "source": [
    "fib_M = np.array([[1,1],\n",
    "                  [1,0]])"
   ]
  },
  {
   "cell_type": "markdown",
   "id": "69a1fa97",
   "metadata": {},
   "source": [
    "$\\text{F}_n$ is found by applying `fib_M` repeatedly to an initial Fibonacci pair vector."
   ]
  },
  {
   "cell_type": "code",
   "execution_count": 233,
   "id": "cb786a7e",
   "metadata": {},
   "outputs": [],
   "source": [
    "init = np.array([1,0])"
   ]
  },
  {
   "cell_type": "markdown",
   "id": "e8ce9d0e",
   "metadata": {},
   "source": [
    "We now calculate $\\text{F}_{12}$ which rerquires calculating all $\\text{F}_{n}$ up through $\\text{F}_{12}$:"
   ]
  },
  {
   "cell_type": "code",
   "execution_count": 235,
   "id": "ebd984f4",
   "metadata": {},
   "outputs": [
    {
     "name": "stdout",
     "output_type": "stream",
     "text": [
      " n+1    n    v[0]  v[1]  \n",
      "  1     0     1     0 \n",
      "  2     1     1     1 \n",
      "  3     2     2     1 \n",
      "  4     3     3     2 \n",
      "  5     4     5     3 \n",
      "  6     5     8     5 \n",
      "  7     6    13     8 \n",
      "  8     7    21    13 \n",
      "  9     8    34    21 \n",
      " 10     9    55    34 \n",
      " 11    10    89    55 \n",
      " 12    11   144    89 \n",
      " 13    12   233   144 \n"
     ]
    }
   ],
   "source": [
    "vec = init\n",
    "print(\" n+1    n    v[0]  v[1]  \")\n",
    "for i in range(13):\n",
    "    print(f\" {i+1:>2}    {i:>2}   {vec[0]: >3}   {vec[1]: >3} \")\n",
    "    vec = fib_M@vec"
   ]
  },
  {
   "cell_type": "markdown",
   "id": "30770f67",
   "metadata": {},
   "source": [
    "So finding the 12th Fibonacci number amounts to taking the matrix product of `fib_M`${}^{12}$ with\n",
    "$\\left (\\begin{array}{c}1\\\\0\\end{array}\\right )$:\n"
   ]
  },
  {
   "cell_type": "code",
   "execution_count": 236,
   "id": "19ce716f",
   "metadata": {},
   "outputs": [
    {
     "data": {
      "text/plain": [
       "array([233, 144])"
      ]
     },
     "execution_count": 236,
     "metadata": {},
     "output_type": "execute_result"
    }
   ],
   "source": [
    "init = np.array([1,0])\n",
    "np.linalg.matrix_power(fib_M,12)@init"
   ]
  },
  {
   "cell_type": "markdown",
   "id": "d793721a",
   "metadata": {},
   "source": [
    "Note we **don't** do this"
   ]
  },
  {
   "cell_type": "code",
   "execution_count": 234,
   "id": "98d6975b",
   "metadata": {},
   "outputs": [
    {
     "data": {
      "text/plain": [
       "array([1, 1])"
      ]
     },
     "execution_count": 234,
     "metadata": {},
     "output_type": "execute_result"
    }
   ],
   "source": [
    "(fib_M**12)@init"
   ]
  },
  {
   "cell_type": "markdown",
   "id": "72db949a",
   "metadata": {},
   "source": [
    "Because `fib_M**12` is"
   ]
  },
  {
   "cell_type": "code",
   "execution_count": 235,
   "id": "0c57f0e0",
   "metadata": {},
   "outputs": [
    {
     "data": {
      "text/plain": [
       "array([[1, 1],\n",
       "       [1, 0]])"
      ]
     },
     "execution_count": 235,
     "metadata": {},
     "output_type": "execute_result"
    }
   ],
   "source": [
    "(fib_M**12)"
   ]
  },
  {
   "cell_type": "markdown",
   "id": "fd9c0460",
   "metadata": {},
   "source": [
    "This is just elementwise power-raising or elementwise multiplication 12 times. Elementwise power-raising  is this:\n",
    "\n",
    "$$\n",
    "\\prod_{i=1}^{12} \\left \\lbrack\n",
    "\\begin{array}{cc}\n",
    "1 & 1\\\\\n",
    "1 & 0\n",
    "\\end{array}\n",
    "\\right \\rbrack\n",
    "= \\underbrace{\\left \\lbrack\n",
    "\\begin{array}{cc}\n",
    "1 & 1\\\\\n",
    "1 & 0\n",
    "\\end{array}\n",
    "\\right \\rbrack \\times\n",
    "\\left \\lbrack\n",
    "\\begin{array}{cc}\n",
    "1 & 1\\\\\n",
    "1 & 0\n",
    "\\end{array}\n",
    "\\right \\rbrack \\times \\dots\n",
    "\\left \\lbrack\n",
    "\\begin{array}{cc}\n",
    "1 & 1\\\\\n",
    "1 & 0\n",
    "\\end{array}\n",
    "\\right \\rbrack}_{\\text{12 times}}\n",
    "= \n",
    "\\left \\lbrack\n",
    "\\begin{array}{cc}\n",
    "1 & 1\\\\\n",
    "1 & 0\n",
    "\\end{array} \\right \\rbrack\n",
    "$$\n",
    "\n",
    "Instead we do\n",
    "$$\n",
    "\\text{np.linalg.matrix_power}\\left ( \\left \\lbrack\n",
    "\\begin{array}{cc}\n",
    "1 & 1\\\\\n",
    "1 & 0\n",
    "\\end{array}\n",
    "\\right \\rbrack,\n",
    "12 \\right )\n",
    "= \\underbrace{\\left \\lbrack\n",
    "\\begin{array}{cc}\n",
    "1 & 1\\\\\n",
    "1 & 0\n",
    "\\end{array}\n",
    "\\right \\rbrack @\n",
    "\\left \\lbrack\n",
    "\\begin{array}{cc}\n",
    "1 & 1\\\\\n",
    "1 & 0\n",
    "\\end{array}\n",
    "\\right \\rbrack @ \\dots\n",
    "\\left \\lbrack\n",
    "\\begin{array}{cc}\n",
    "1 & 1\\\\\n",
    "1 & 0\n",
    "\\end{array}\n",
    "\\right \\rbrack}_{\\text{12 times}}\n",
    "= \n",
    "\\left \\lbrack\n",
    "\\begin{array}{cc}\n",
    "233 & 144\\\\\n",
    "144 & 89\n",
    "\\end{array} \\right \\rbrack\n",
    "$$\n",
    "\n",
    "\n",
    "\n",
    "Matrix multiplication\n",
    "\n",
    "$$\n",
    "= \\underbrace{\n",
    "\\left \\lbrack\n",
    "\\begin{array}{cc}\n",
    "a & b\\\\\n",
    "c & d\n",
    "\\end{array}\n",
    "\\right \\rbrack  @ \n",
    "\\left ( \\begin{array}{c} x \\\\ y \\end{array} \\right )}_{\\text{Python}}\n",
    "=\n",
    "\\left \\lbrack\n",
    "\\begin{array}{cc}\n",
    "a & b\\\\\n",
    "c & d\n",
    "\\end{array}\n",
    "\\right \\rbrack\n",
    "\\left ( \\begin{array}{c} x \\\\ y \\end{array} \\right )\n",
    "=\n",
    "\\left ( \\begin{array}{c} x' \\\\ y' \\end{array} \\right )\n",
    "=\n",
    "\\left ( \\begin{array}{c} a\\cdot x \\,+\\, b\\cdot y \\\\ c\\cdot x \\,+\\, d\\cdot y \\end{array} \\right )\n",
    "$$\n",
    "\n",
    "If you're unfamiliar with matrix multiplication, it's useful to think of it as applying the coefficients\n",
    "in a pair of equations defining the coordinates of the vector output by a **linear map**. So we see\n",
    "the matrix multiplication above as implementing the map defined by the equations:\n",
    "\n",
    "$$\n",
    "%\\left \\lbrack\n",
    "\\begin{array}{ccccc}\n",
    "a \\cdot x & + & b \\cdot y & = & x'\\\\\n",
    "c \\cdot x & + & d \\cdot y & = & y'\n",
    "\\end{array}\n",
    "%\\right \\rbrack  \n",
    "%=\n",
    "%\\left ( \n",
    "%\\begin{array}{c} x' \\\\ y' \\end{array}\n",
    "%\\right )\n",
    "$$\n",
    "\n",
    "So:\n",
    "\n",
    "$$\n",
    "\\left \\lbrack\n",
    "\\begin{array}{cc}\n",
    "a & b\\\\\n",
    "c & d\n",
    "\\end{array}\n",
    "\\right \\rbrack\n",
    "\\left ( \\begin{array}{c} x \\\\ y \\end{array} \\right )\n",
    "\\text{ corresponds to }\n",
    "\\left ( \\begin{array}{c} x \\\\ y \\end{array} \\right ) \\mapsto \n",
    "\\left ( \\begin{array}{c}  a \\cdot x & + & b \\cdot y \\\\ c \\cdot x & + & d \\cdot y  \\end{array} \\right )\n",
    "$$"
   ]
  },
  {
   "cell_type": "markdown",
   "id": "89701f08",
   "metadata": {},
   "source": [
    "Returning to the contrast with elementwise mutliplication:"
   ]
  },
  {
   "cell_type": "code",
   "execution_count": 226,
   "id": "10dac72d",
   "metadata": {},
   "outputs": [
    {
     "data": {
      "text/plain": [
       "array([[1, 1],\n",
       "       [1, 0]])"
      ]
     },
     "execution_count": 226,
     "metadata": {},
     "output_type": "execute_result"
    }
   ],
   "source": [
    "fib_M*fib_M"
   ]
  },
  {
   "cell_type": "code",
   "execution_count": 225,
   "id": "50e8c18f",
   "metadata": {},
   "outputs": [
    {
     "data": {
      "text/plain": [
       "array([[2, 1],\n",
       "       [1, 1]])"
      ]
     },
     "execution_count": 225,
     "metadata": {},
     "output_type": "execute_result"
    }
   ],
   "source": [
    "fib_M@fib_M"
   ]
  },
  {
   "cell_type": "markdown",
   "id": "0ae44a46",
   "metadata": {},
   "source": [
    "How we discover fib_M: The linear transformation for the Fibonacci Sequence is\n",
    "\n",
    "\n",
    "$$\n",
    "T \\left ( \\begin{array}{c} a\\\\b \\end{array} \\right ) =  \\left ( \\begin{array}{c} a+b\\\\ a \\end{array} \\right )\n",
    "$$\n",
    "It follows that (see Dablander's blog for a detailed proof) that\n",
    "\n",
    "$$\n",
    " T ^{n}\\left ( \\begin{array}{c} 1\\\\0 \\end{array} \\right ) =\n",
    " \\left ( \\begin{array}{c} \\text{F}_{n+1}\\\\ \\text{F}_{n} \\end{array} \\right ).\n",
    "$$\n",
    "\n",
    "\n",
    "We now want to find the matrix for T.  We define the two columns of the matrix for T,\n",
    "which we'll call `fib_M`, by looking at the values of T `(0,1)` and `(1,0)`.  "
   ]
  },
  {
   "cell_type": "markdown",
   "id": "837d7c0f",
   "metadata": {},
   "source": [
    "By the definition of T\n",
    "\n",
    "$$\n",
    "T\\left(\\,\\left\\lbrack \\begin{array}{c}1\\\\0\\end{array}\\right \\rbrack\\,\\right ) = \\left\\lbrack \\begin{array}{c}1+0\\\\1\\end{array}\\right \\rbrack = \\left\\lbrack \\begin{array}{c}1\\\\1\\end{array}\\right \\rbrack \n",
    "$$\n",
    "\n",
    "\n",
    "\n",
    "and \n",
    "\n",
    "$$\n",
    "T\\left(\\,\\left\\lbrack \\begin{array}{c}0\\\\1\\end{array}\\right \\rbrack\\,\\right ) = \\left\\lbrack \\begin{array}{c}1+0\\\\0\\end{array}\\right \\rbrack = \\left\\lbrack \\begin{array}{c}1\\\\0\\end{array}\\right \\rbrack. \n",
    "$$\n",
    "\n",
    "\n",
    "By the rules of matrix multiplication\n",
    "\n",
    "$$\n",
    "\\begin{array}{lcl}\n",
    "M\\left(\\,\\left\\lbrack \\begin{array}{c}1\\\\0\\end{array}\\right \\rbrack\\,\\right ) &=& \\text{ the first column of M }\\\\\n",
    "M\\left(\\,\\left\\lbrack \\begin{array}{c}0\\\\1\\end{array}\\right \\rbrack\\,\\right ) &=& \\text{ the second column of M }\n",
    "\\end{array}\n",
    "$$\n",
    "\n",
    "So\n",
    "\n",
    "$$\n",
    "\\text{fib_M} = \n",
    "\\left \\lbrack \\begin{array}{lcl}\n",
    "1 & 1\\\\\n",
    "1 & 0\n",
    "\\end{array} \\right \\rbrack.\n",
    "$$"
   ]
  },
  {
   "cell_type": "code",
   "execution_count": 165,
   "id": "a258e5fe",
   "metadata": {},
   "outputs": [
    {
     "data": {
      "text/plain": [
       "array([[1, 1],\n",
       "       [1, 0]])"
      ]
     },
     "execution_count": 165,
     "metadata": {},
     "output_type": "execute_result"
    }
   ],
   "source": [
    "fib_M"
   ]
  },
  {
   "cell_type": "markdown",
   "id": "05cf57c1",
   "metadata": {},
   "source": [
    "Confirming Python agrees with us:"
   ]
  },
  {
   "cell_type": "code",
   "execution_count": 163,
   "id": "6223f151",
   "metadata": {
    "scrolled": true
   },
   "outputs": [
    {
     "data": {
      "text/plain": [
       "array([1, 1])"
      ]
     },
     "execution_count": 163,
     "metadata": {},
     "output_type": "execute_result"
    }
   ],
   "source": [
    "# Col 1 of fib_M. The result dictated by the definition of T\n",
    "fib_M@(np.array([1,0]))"
   ]
  },
  {
   "cell_type": "code",
   "execution_count": 164,
   "id": "03360f1f",
   "metadata": {
    "scrolled": true
   },
   "outputs": [
    {
     "data": {
      "text/plain": [
       "array([1, 0])"
      ]
     },
     "execution_count": 164,
     "metadata": {},
     "output_type": "execute_result"
    }
   ],
   "source": [
    "#Col 2 of fib_M\n",
    "fib_M@(np.array([0,1]))"
   ]
  },
  {
   "cell_type": "markdown",
   "id": "9c293ff5",
   "metadata": {},
   "source": [
    "So Fibonacci calculations become\n",
    "\n",
    "$$\n",
    "\\left (\n",
    "\\begin{array}{c}\n",
    "\\text{F}_{n+1}\\\\\n",
    "\\text{F}_{n}\\\\\n",
    "\\end{array}\n",
    "\\right )\n",
    "=\n",
    "\\left (\n",
    "\\left \\lbrack\n",
    "\\begin{array}{c}\n",
    "1 & 1\\\\\n",
    "1 & 0\n",
    "\\end{array}\n",
    "\\right \\rbrack\n",
    "\\right)^{n}\n",
    "\\left (\n",
    "\\begin{array}{c}\n",
    "0\\\\\n",
    "1\n",
    "\\end{array}\n",
    "\\right )\n",
    "$$"
   ]
  },
  {
   "cell_type": "markdown",
   "id": "59af4738",
   "metadata": {},
   "source": [
    "Actually we don't really need an initial vector, though it's convenient presentationally (for discussing the diagonalization computation to come).  Just taking powers of the inital matrix will get you\n",
    "Fibonacci numbers;"
   ]
  },
  {
   "cell_type": "code",
   "execution_count": 238,
   "id": "bb836051",
   "metadata": {},
   "outputs": [
    {
     "data": {
      "text/plain": [
       "array([[233, 144],\n",
       "       [144,  89]])"
      ]
     },
     "execution_count": 238,
     "metadata": {},
     "output_type": "execute_result"
    }
   ],
   "source": [
    "np.linalg.matrix_power(fib_M,12)"
   ]
  },
  {
   "cell_type": "markdown",
   "id": "1f4f0a31",
   "metadata": {},
   "source": [
    "So \n",
    "\n",
    "$$\n",
    "\\text{fib_M}^n = \n",
    "\\left \\lbrack \\begin{array}{cc}\n",
    "1 & 1\\\\\n",
    "1 & 0\n",
    "\\end{array}\\right \\rbrack ^{n} =\n",
    "\\left \\lbrack \\begin{array}{cc}\n",
    "F_{n+1} & F_{n}\\\\\n",
    "F_{n} & F_{n-1}\n",
    "\\end{array}\\right \\rbrack\n",
    "$$"
   ]
  },
  {
   "cell_type": "markdown",
   "id": "dcdc9bda",
   "metadata": {},
   "source": [
    "Not the least of the virtues of the matrix is that it provides a new recursion relation for computing $F_n$.  From the fact that, for square matrices, $A^{m+n} = A^{m}A^{n}$, we have:\n",
    "\n",
    "$$\n",
    "\\begin{array}{lcl}\n",
    "\\left \\lbrack \\begin{array}{cc}\n",
    "1 & 1\\\\\n",
    "1 & 0\n",
    "\\end{array}\\right \\rbrack  ^{m+n}\n",
    "&\n",
    "=&\n",
    "\\left \\lbrack \\begin{array}{cc}\n",
    "1 & 1\\\\\n",
    "1 & 0\n",
    "\\end{array}\\right \\rbrack  ^{m}\n",
    "\\left \\lbrack \\begin{array}{cc}\n",
    "1 & 1\\\\\n",
    "1 & 0\n",
    "\\end{array}\\right \\rbrack  ^{n}\\\\\n",
    "\\left \\lbrack\n",
    "\\begin{array}{ll}\n",
    "\\text{F}_{m+n+1} & \\text{F}_{m+n}\\\\\n",
    "\\text{F}_{m+n} & \\text{F}_{m+n-1}\n",
    "\\end{array}\n",
    "\\right \\rbrack\n",
    "& = &\n",
    "\\left \\lbrack\n",
    "\\begin{array}{ll}\n",
    "\\text{F}_{m+1} & \\text{F}_{m}\\\\\n",
    "\\text{F}_{m} & \\text{F}_{m-1}\n",
    "\\end{array}\n",
    "\\right \\rbrack\n",
    "\\left \\lbrack\n",
    "\\begin{array}{ll}\n",
    "\\text{F}_{n+1} & \\text{F}_{n}\\\\\n",
    "\\text{F}_{n} & \\text{F}_{n-1}\n",
    "\\end{array}\n",
    "\\right \\rbrack\n",
    "\\end{array}\n",
    "$$\n",
    "\n",
    "And so we have\n",
    "\n",
    "$$\n",
    "\\left \\lbrack\n",
    "\\begin{array}{cc}\n",
    "(a) & (b)\\\\\n",
    "\\text{F}_{m+n+1} & \\text{F}_{m+n}\\\\\n",
    "\\text{F}_{m+n} & \\text{F}_{m+n-1}\\\\\n",
    "(c) & (d)\n",
    "\\end{array}\n",
    "\\right \\rbrack\n",
    "=\n",
    "\\left \\lbrack\n",
    "\\begin{array}{ll}\n",
    "\\text{F}_{m+1} & \\text{F}_{m}\\\\\n",
    "\\text{F}_{m} & \\text{F}_{m-1}\n",
    "\\end{array}\n",
    "\\right \\rbrack\n",
    "\\left \\lbrack\n",
    "\\begin{array}{ll}\n",
    "\\text{F}_{n+1} & \\text{F}_{n}\\\\\n",
    "\\text{F}_{n} & \\text{F}_{n-1}\n",
    "\\end{array}\n",
    "\\right \\rbrack\n",
    "=\n",
    "\\left \\lbrack\n",
    "\\begin{array}{cc}\n",
    "(a) & (b)\\\\\n",
    "\\text{F}_{m+1}\\text{F}_{n+1} + \\text{F}_{m}\\text{F}_{n} & \n",
    "   \\text{F}_{m+1}\\text{F}_{n} + \\text{F}_{m}\\text{F}_{n-1} \\\\\n",
    "   \\text{F}_{m}\\text{F}_{n+1} + \\text{F}_{m-1}\\text{F}_{n} \n",
    "    &  \\text{F}_{m}\\text{F}_{n} + \\text{F}_{m-1}\\text{F}_{n-1} \\\\\n",
    "    (c) & (d)\n",
    "\\end{array}\n",
    "\\right\\rbrack\n",
    "$$\n",
    "\n",
    "We have equality between the matrix entries on the left and the corresponding entries on the right, so\n",
    "using the entries labeled (c) and (d) we have:\n",
    "\n",
    "$$\n",
    "\\begin{array}{lcl}\n",
    "\\text{F}_{m+n} &=& \\text{F}_{m}\\text{F}_{n+1} + \\text{F}_{m-1}\\text{F}_{n}\\\\\n",
    "\\text{F}_{m+n-1} &=& \\text{F}_{m}\\text{F}_{n} + \\text{F}_{m-1}\\text{F}_{n-1}\\\\\n",
    "\\end{array}\n",
    "$$\n",
    "\n",
    "For the case where $m=n$ this gives:\n",
    "\n",
    "$$\n",
    "\\begin{array}{lcl}\n",
    "\\text{F}_{2n} &=& \\text{F}_{n}\\text{F}_{n+1} + \\text{F}_{n-1}\\text{F}_{n}\\\\\n",
    "              &=& F_{n}\\left \\lbrack \\,\\text{F}_{n+1} + \\text{F}_{n-1} \\,\\right\\rbrack\\\\\n",
    "              &=& F_{n}\\left \\lbrack \\,\\text{F}_{n} + 2\\,\\text{F}_{n-1} \\,\\right\\rbrack\\\\\n",
    " \\text{F}_{2n-1} &=& \\left(\\text{F}_{n} \\right )^{\\,2} + \\left (\\text{F}_{n-1} \\right )^{\\,2}\\\\\n",
    "\\end{array}\n",
    "$$"
   ]
  },
  {
   "cell_type": "markdown",
   "id": "7aab372a",
   "metadata": {},
   "source": [
    "This recursion relation licenses a recursive function where the number of arithmetic calculations\n",
    "is hugely reduced, in fact, from Order $2^{n}$ to Order $\\log n$. \n",
    "We saw there are $2^{32}$ arithmetic computations in computing $\\text{F}_{32}$,\n",
    "when we expanded its computation tree above.  \n",
    "On the other hand, using this new recursion relation, we can define \n",
    " $\\text{F}_{32}$ directly in terms of $\\text{F}_{16}$ and $\\text{F}_{15}$, shortening its\n",
    " recursion tree, because $\\text{F}_{16}$ and  $\\text{F}_{15}$ both turn \n",
    " into computations involving $\\text{F}_{8}$ and $\\text{F}_{7}$, and so on.\n",
    " \n",
    "Here is a computation tree for n=30, which may be compared\n",
    "with exponential computation tree we saw above for naive recursion (`fibonacci_seq_n`); the $\\log_{2} n$ algorithm\n",
    "tree for $n=30$ is shallower than naive algorithm tree for $n=7$. "
   ]
  },
  {
   "cell_type": "code",
   "execution_count": 42,
   "id": "7996eaac",
   "metadata": {},
   "outputs": [
    {
     "data": {
      "image/svg+xml": [
       "<svg baseProfile=\"full\" height=\"216px\" preserveAspectRatio=\"xMidYMid meet\" style=\"font-family: times, serif; font-weight: normal; font-style: normal; font-size: 16px\" version=\"1.1\" viewBox=\"0,0,736.0,216.0\" width=\"736px\" xmlns=\"http://www.w3.org/2000/svg\" xmlns:ev=\"http://www.w3.org/2001/xml-events\" xmlns:xlink=\"http://www.w3.org/1999/xlink\"><defs /><svg width=\"100%\" x=\"0\" y=\"0px\"><defs /><text text-anchor=\"middle\" x=\"50%\" y=\"16px\">0:f[30]</text></svg><svg width=\"54.3478%\" x=\"0%\" y=\"48px\"><defs /><svg width=\"100%\" x=\"0\" y=\"0px\"><defs /><text text-anchor=\"middle\" x=\"50%\" y=\"16px\">1:f[15]</text></svg><svg width=\"52%\" x=\"0%\" y=\"48px\"><defs /><svg width=\"100%\" x=\"0\" y=\"0px\"><defs /><text text-anchor=\"middle\" x=\"50%\" y=\"16px\">2:f[8]</text></svg><svg width=\"53.8462%\" x=\"0%\" y=\"48px\"><defs /><svg width=\"100%\" x=\"0\" y=\"0px\"><defs /><text text-anchor=\"middle\" x=\"50%\" y=\"16px\">3:f[4]</text></svg><svg width=\"57.1429%\" x=\"0%\" y=\"48px\"><defs /><svg width=\"100%\" x=\"0\" y=\"0px\"><defs /><text text-anchor=\"middle\" x=\"50%\" y=\"16px\">4:f[2]</text></svg></svg><line stroke=\"black\" x1=\"50%\" x2=\"28.5714%\" y1=\"20px\" y2=\"48px\" /><svg width=\"42.8571%\" x=\"57.1429%\" y=\"48px\"><defs /><svg width=\"100%\" x=\"0\" y=\"0px\"><defs /><text text-anchor=\"middle\" x=\"50%\" y=\"16px\">f[1]</text></svg></svg><line stroke=\"black\" x1=\"50%\" x2=\"78.5714%\" y1=\"20px\" y2=\"48px\" /></svg><line stroke=\"black\" x1=\"50%\" x2=\"26.9231%\" y1=\"20px\" y2=\"48px\" /><svg width=\"46.1538%\" x=\"53.8462%\" y=\"48px\"><defs /><svg width=\"100%\" x=\"0\" y=\"0px\"><defs /><text text-anchor=\"middle\" x=\"50%\" y=\"16px\">f[3]</text></svg><svg width=\"50%\" x=\"0%\" y=\"48px\"><defs /><svg width=\"100%\" x=\"0\" y=\"0px\"><defs /><text text-anchor=\"middle\" x=\"50%\" y=\"16px\">f[2]</text></svg></svg><line stroke=\"black\" x1=\"50%\" x2=\"25%\" y1=\"20px\" y2=\"48px\" /><svg width=\"50%\" x=\"50%\" y=\"48px\"><defs /><svg width=\"100%\" x=\"0\" y=\"0px\"><defs /><text text-anchor=\"middle\" x=\"50%\" y=\"16px\">f[1]</text></svg></svg><line stroke=\"black\" x1=\"50%\" x2=\"75%\" y1=\"20px\" y2=\"48px\" /></svg><line stroke=\"black\" x1=\"50%\" x2=\"76.9231%\" y1=\"20px\" y2=\"48px\" /></svg><line stroke=\"black\" x1=\"50%\" x2=\"26%\" y1=\"20px\" y2=\"48px\" /><svg width=\"48%\" x=\"52%\" y=\"48px\"><defs /><svg width=\"100%\" x=\"0\" y=\"0px\"><defs /><text text-anchor=\"middle\" x=\"50%\" y=\"16px\">f[7]</text></svg><svg width=\"50%\" x=\"0%\" y=\"48px\"><defs /><svg width=\"100%\" x=\"0\" y=\"0px\"><defs /><text text-anchor=\"middle\" x=\"50%\" y=\"16px\">f[4]</text></svg><svg width=\"50%\" x=\"0%\" y=\"48px\"><defs /><svg width=\"100%\" x=\"0\" y=\"0px\"><defs /><text text-anchor=\"middle\" x=\"50%\" y=\"16px\">f[2]</text></svg></svg><line stroke=\"black\" x1=\"50%\" x2=\"25%\" y1=\"20px\" y2=\"48px\" /><svg width=\"50%\" x=\"50%\" y=\"48px\"><defs /><svg width=\"100%\" x=\"0\" y=\"0px\"><defs /><text text-anchor=\"middle\" x=\"50%\" y=\"16px\">f[1]</text></svg></svg><line stroke=\"black\" x1=\"50%\" x2=\"75%\" y1=\"20px\" y2=\"48px\" /></svg><line stroke=\"black\" x1=\"50%\" x2=\"25%\" y1=\"20px\" y2=\"48px\" /><svg width=\"50%\" x=\"50%\" y=\"48px\"><defs /><svg width=\"100%\" x=\"0\" y=\"0px\"><defs /><text text-anchor=\"middle\" x=\"50%\" y=\"16px\">f[3]</text></svg><svg width=\"50%\" x=\"0%\" y=\"48px\"><defs /><svg width=\"100%\" x=\"0\" y=\"0px\"><defs /><text text-anchor=\"middle\" x=\"50%\" y=\"16px\">f[2]</text></svg></svg><line stroke=\"black\" x1=\"50%\" x2=\"25%\" y1=\"20px\" y2=\"48px\" /><svg width=\"50%\" x=\"50%\" y=\"48px\"><defs /><svg width=\"100%\" x=\"0\" y=\"0px\"><defs /><text text-anchor=\"middle\" x=\"50%\" y=\"16px\">f[1]</text></svg></svg><line stroke=\"black\" x1=\"50%\" x2=\"75%\" y1=\"20px\" y2=\"48px\" /></svg><line stroke=\"black\" x1=\"50%\" x2=\"75%\" y1=\"20px\" y2=\"48px\" /></svg><line stroke=\"black\" x1=\"50%\" x2=\"76%\" y1=\"20px\" y2=\"48px\" /></svg><line stroke=\"black\" x1=\"50%\" x2=\"27.1739%\" y1=\"20px\" y2=\"48px\" /><svg width=\"45.6522%\" x=\"54.3478%\" y=\"48px\"><defs /><svg width=\"100%\" x=\"0\" y=\"0px\"><defs /><text text-anchor=\"middle\" x=\"50%\" y=\"16px\">f[14]</text></svg><svg width=\"57.1429%\" x=\"0%\" y=\"48px\"><defs /><svg width=\"100%\" x=\"0\" y=\"0px\"><defs /><text text-anchor=\"middle\" x=\"50%\" y=\"16px\">f[7]</text></svg><svg width=\"50%\" x=\"0%\" y=\"48px\"><defs /><svg width=\"100%\" x=\"0\" y=\"0px\"><defs /><text text-anchor=\"middle\" x=\"50%\" y=\"16px\">f[4]</text></svg><svg width=\"50%\" x=\"0%\" y=\"48px\"><defs /><svg width=\"100%\" x=\"0\" y=\"0px\"><defs /><text text-anchor=\"middle\" x=\"50%\" y=\"16px\">f[2]</text></svg></svg><line stroke=\"black\" x1=\"50%\" x2=\"25%\" y1=\"20px\" y2=\"48px\" /><svg width=\"50%\" x=\"50%\" y=\"48px\"><defs /><svg width=\"100%\" x=\"0\" y=\"0px\"><defs /><text text-anchor=\"middle\" x=\"50%\" y=\"16px\">f[1]</text></svg></svg><line stroke=\"black\" x1=\"50%\" x2=\"75%\" y1=\"20px\" y2=\"48px\" /></svg><line stroke=\"black\" x1=\"50%\" x2=\"25%\" y1=\"20px\" y2=\"48px\" /><svg width=\"50%\" x=\"50%\" y=\"48px\"><defs /><svg width=\"100%\" x=\"0\" y=\"0px\"><defs /><text text-anchor=\"middle\" x=\"50%\" y=\"16px\">f[3]</text></svg><svg width=\"50%\" x=\"0%\" y=\"48px\"><defs /><svg width=\"100%\" x=\"0\" y=\"0px\"><defs /><text text-anchor=\"middle\" x=\"50%\" y=\"16px\">f[2]</text></svg></svg><line stroke=\"black\" x1=\"50%\" x2=\"25%\" y1=\"20px\" y2=\"48px\" /><svg width=\"50%\" x=\"50%\" y=\"48px\"><defs /><svg width=\"100%\" x=\"0\" y=\"0px\"><defs /><text text-anchor=\"middle\" x=\"50%\" y=\"16px\">f[1]</text></svg></svg><line stroke=\"black\" x1=\"50%\" x2=\"75%\" y1=\"20px\" y2=\"48px\" /></svg><line stroke=\"black\" x1=\"50%\" x2=\"75%\" y1=\"20px\" y2=\"48px\" /></svg><line stroke=\"black\" x1=\"50%\" x2=\"28.5714%\" y1=\"20px\" y2=\"48px\" /><svg width=\"42.8571%\" x=\"57.1429%\" y=\"48px\"><defs /><svg width=\"100%\" x=\"0\" y=\"0px\"><defs /><text text-anchor=\"middle\" x=\"50%\" y=\"16px\">f[6]</text></svg><svg width=\"66.6667%\" x=\"0%\" y=\"48px\"><defs /><svg width=\"100%\" x=\"0\" y=\"0px\"><defs /><text text-anchor=\"middle\" x=\"50%\" y=\"16px\">f[3]</text></svg><svg width=\"50%\" x=\"0%\" y=\"48px\"><defs /><svg width=\"100%\" x=\"0\" y=\"0px\"><defs /><text text-anchor=\"middle\" x=\"50%\" y=\"16px\">f[2]</text></svg></svg><line stroke=\"black\" x1=\"50%\" x2=\"25%\" y1=\"20px\" y2=\"48px\" /><svg width=\"50%\" x=\"50%\" y=\"48px\"><defs /><svg width=\"100%\" x=\"0\" y=\"0px\"><defs /><text text-anchor=\"middle\" x=\"50%\" y=\"16px\">f[1]</text></svg></svg><line stroke=\"black\" x1=\"50%\" x2=\"75%\" y1=\"20px\" y2=\"48px\" /></svg><line stroke=\"black\" x1=\"50%\" x2=\"33.3333%\" y1=\"20px\" y2=\"48px\" /><svg width=\"33.3333%\" x=\"66.6667%\" y=\"48px\"><defs /><svg width=\"100%\" x=\"0\" y=\"0px\"><defs /><text text-anchor=\"middle\" x=\"50%\" y=\"16px\">f[2]</text></svg></svg><line stroke=\"black\" x1=\"50%\" x2=\"83.3333%\" y1=\"20px\" y2=\"48px\" /></svg><line stroke=\"black\" x1=\"50%\" x2=\"78.5714%\" y1=\"20px\" y2=\"48px\" /></svg><line stroke=\"black\" x1=\"50%\" x2=\"77.1739%\" y1=\"20px\" y2=\"48px\" /></svg>"
      ],
      "text/plain": [
       "Tree('0:f[30]', [Tree('1:f[15]', [Tree('2:f[8]', [Tree('3:f[4]', ['4:f[2]', 'f[1]']), Tree('f[3]', ['f[2]', 'f[1]'])]), Tree('f[7]', [Tree('f[4]', ['f[2]', 'f[1]']), Tree('f[3]', ['f[2]', 'f[1]'])])]), Tree('f[14]', [Tree('f[7]', [Tree('f[4]', ['f[2]', 'f[1]']), Tree('f[3]', ['f[2]', 'f[1]'])]), Tree('f[6]', [Tree('f[3]', ['f[2]', 'f[1]']), 'f[2]'])])])"
      ]
     },
     "execution_count": 42,
     "metadata": {},
     "output_type": "execute_result"
    }
   ],
   "source": [
    "# Note for this to work svgling must be installed (`! pip install svgling`) in addition to nltk\n",
    "from nltk.tree import Tree\n",
    "t = Tree.fromstring(\"(0:f[30] (1:f[15] (2:f[8] (3:f[4] 4:f[2] f[1]) (f[3] f[2] f[1]))\"\n",
    "                    \"(f[7] (f[4] f[2] f[1]) (f[3] f[2] f[1]))) (f[14] (f[7] (f[4] f[2] f[1]) (f[3] f[2] f[1]))\"\n",
    "                    \"(f[6] (f[3] f[2] f[1]) f[2])))\")\n",
    "t"
   ]
  },
  {
   "cell_type": "markdown",
   "id": "38b73102",
   "metadata": {},
   "source": [
    "Since this is a cousin of\n",
    "the simple recursive algorithm, implemented as `fibonacci_seq_n`,  we have named the function\n",
    "implementing this algorithm `fibonacci_seq_n_log2`. "
   ]
  },
  {
   "cell_type": "markdown",
   "id": "4675928b",
   "metadata": {},
   "source": [
    "The next step up the efficiency ladder is to use the diagonalized version of the Fibonacci Matrix because  the nth power of a diagonal matrix is particularly easy to compute\n",
    "\n",
    "$$\n",
    "\\left\\lbrack\n",
    "\\begin{array}{cc}\n",
    "a  & 0 \\\\\n",
    "0  & b\n",
    "\\end{array}\n",
    "\\right\\rbrack ^{n} \n",
    "=\n",
    "\\left\\lbrack\n",
    "\\begin{array}{cc}\n",
    "a^n  & 0 \\\\\n",
    "0  & b^n\n",
    "\\end{array}\n",
    "\\right\\rbrack\n",
    "$$\n",
    "\n",
    "We get to the diagonal form of a matrix by factoring it into three other matrices,\n",
    "one of which is diagonal; it turns out that, in this factored form, computing the nth power of the original matrix \n",
    "is equivalent to just taking the nth power of the diagonal matrix.\n",
    "Schematically, this works as follows:\n",
    "\n",
    "$$\n",
    "\\begin{array}{llcl}\n",
    "&\n",
    "\\left\\lbrack\n",
    "\\begin{array}{cc}\n",
    "1 & 1 \\\\\n",
    "1  & 0\n",
    "\\end{array}\n",
    "\\right\\rbrack &= &\n",
    "\\text{E}\n",
    "\\left\\lbrack\n",
    "\\begin{array}{cc}\n",
    "\\lambda_{1} & 0 \\\\\n",
    "0  & \\lambda_{2}\n",
    "\\end{array}\n",
    "\\right\\rbrack\n",
    "\\text{E}^{-1}\\\\\n",
    "&\n",
    "\\left\\lbrack\n",
    "\\begin{array}{cc}\n",
    "1 & 1 \\\\\n",
    "1  & 0\n",
    "\\end{array}\n",
    "\\right\\rbrack^{n} &=&\n",
    "\\text{E}\n",
    "\\left\\lbrack\n",
    "\\begin{array}{cc}\n",
    "\\lambda_{1}^{n} & 0 \\\\\n",
    "0  & \\lambda_{2}^{n}\n",
    "\\end{array}\n",
    "\\right\\rbrack\n",
    "\\text{E}^{-1}\n",
    "\\end{array}\n",
    "$$\n",
    "\n",
    "The factoring on the first line is called the **Eigendecomposition**  of the matrix.\n",
    "The $\\lambda$s in the diagonal matrix are\n",
    "called **eigenvalues** of `fib_M`.  A full description of the idea takes up much of a Linear Algebra text, but essentially what we're doing is a change of coordinates or a change of axes to  certain\n",
    "vectors associated with M called its **eigenvectors**.  Reading from right to left, the three matrices in the decomposition work as follows: the first changes the basis to eigenvector coordinates (that's $\\text{E}^{-1}$),; \n",
    "the second dilates in the directions of the  new axes (that's  the diagonal matrix); the third changes back from the eigenvector basis to the standard basis (that's $\\text{E}$).\n",
    "\n",
    "Why are we doing this again?  Well there are actually many applications of this decomposition,\n",
    "but for our purposes, the point is the second line. If D is the diagonal matrix,it's easy to show that\n",
    "$M^{n}$ is $\\text{E}D^{n}\\text{E}^{-1}$.    Applying this to the task of computing the nth Fiboncci number,\n",
    "using the `Fib_m` matrix, we get:"
   ]
  },
  {
   "cell_type": "markdown",
   "id": "dbc87084",
   "metadata": {},
   "source": [
    "$$\n",
    "\\begin{array}{llcl}\n",
    "(1) &\n",
    "\\left (\n",
    "\\begin{array}{c}\n",
    "\\text{F}_{n+1}\\\\\n",
    "\\text{F}_{n}\\\\\n",
    "\\end{array}\n",
    "\\right )\n",
    "&=&\n",
    "\\left (\n",
    "\\left \\lbrack\n",
    "\\begin{array}{c}\n",
    "1 & 1\\\\\n",
    "1 & 0\n",
    "\\end{array}\n",
    "\\right \\rbrack\n",
    "\\right)^{n}\n",
    "\\left (\n",
    "\\begin{array}{c}\n",
    "0\\\\\n",
    "1\n",
    "\\end{array}\n",
    "\\right ) \\\\\n",
    "& & = &\n",
    "\\text{E}\n",
    "\\left\\lbrack\n",
    "\\begin{array}{cc}\n",
    "\\lambda_{1}^{n} & 0 \\\\\n",
    "0  & \\lambda_{2}^{n}\n",
    "\\end{array}\n",
    "\\right\\rbrack\n",
    "\\text{E}^{-1}\n",
    "\\left (\n",
    "\\begin{array}{c}\n",
    "0\\\\\n",
    "1\n",
    "\\end{array}\n",
    "\\right )\n",
    "\\\\\n",
    "\\end{array}\n",
    "$$"
   ]
  },
  {
   "cell_type": "markdown",
   "id": "633f8c19",
   "metadata": {},
   "source": [
    "So with one change of basis and one inverse change \n",
    "of basis, finding the nth Fibonacci number becomes very easy.\n",
    "\n",
    "But it's actually much better than that.  Because this matrix  computation leads to a closed form solution to the problem of computing the nth Fibonacci number ($\\text{F}_{n}$).  No more recursion or iteration needed.  We have defined a function using the closed form definition (`fibonacci_closed_form`) along with other \n",
    "ways of computing the nth Fibonacci number in a code cell above.   The derivation of this form is given in the appendix, but the elements of the derivation have already been given.  If you know some Linear Algebra, you may want to try working out the details on your own. Use equation (1). You will need to find the eigenvalues and eigenvectors of `Fib_M` (because the diagonal matrix contains the eigenvalues and E contains the eigenvectors), and use E to find $\\text{E}^{-1}$.  The hardest part is finding  $\\text{E}^{-1}$, since you will lose an important numerical relationship if you just call `numpy.linalg.inv`. Instead you will have to use the formula for inverses from a Linear Textbook. If\n",
    "\n",
    "$$\n",
    "\\text{E} = \\left\\lbrack \n",
    "\\begin{array}{cc}\n",
    "a & b \\\\\n",
    "c  & d\n",
    "\\end{array}\n",
    "\\right \\rbrack\n",
    "$$\n",
    "\n",
    "then\n",
    "$$\n",
    "\\text{E}^{-1} = \n",
    "\\frac{1}{\\Delta}\n",
    "\\left\\lbrack \n",
    "\\begin{array}{cc}\n",
    "d & -b \\\\\n",
    "-c & a\n",
    "\\end{array}\n",
    "\\right\\rbrack,\n",
    "$$\n",
    "\n",
    "where $\\Delta$ is the so-called **determinant** of E, $ad - bc$.\n",
    "\n",
    "You can check your results by\n",
    "looking at `fibonacci_closed_form` in the code cell above.\n",
    "\n",
    "Let's close this discussion by  sketching the proof of something we noted \n",
    "above that the ratio $\\text{F}_{n+1}/\\text{F}_{n}$ converges\n",
    "on $\\phi$.\n",
    "\n",
    "First, if we use standard methods to compute the eigenvalues of `fib_M` (see\n",
    "Fabian's blog for the steps), we discover they are \n",
    "\n",
    "$$\n",
    "\\lambda_{1} = \\frac{1 + \\sqrt{5}}{2} \\text{ and } \\lambda_{2} = \\frac{1 - \\sqrt{5}}{2}\n",
    "$$\n",
    "\n",
    "and  one of these, of course, is our old friends $\\phi$ and the other is $1 - \\phi$,\n",
    "which also $-\\phi^{-1}$ (recall that $\\phi = 1 + \\phi^{-1}$).\n",
    "This is fairly astonishing if you stop to think about it.  \n",
    "\n",
    "It's also useful.  Using this first eigenvalue we can find the first eigenvector\n",
    "and that will help us prove that the ratio of the terms in the Fibonacci\n",
    "Sequence approaches $\\phi$."
   ]
  },
  {
   "cell_type": "markdown",
   "id": "e8ff8014",
   "metadata": {},
   "source": [
    "To find the eigenvector \n",
    "\n",
    "$$\n",
    "\\left(\n",
    "\\begin{array}{c}\n",
    "a\\\\\n",
    "b\n",
    "\\end{array}\n",
    "\\right )\n",
    "$$\n",
    "\n",
    "corresponding to eigenvalue $\\phi$ of `fib_M`, we start with the following:\n",
    "\n",
    "$$\n",
    "\\left\\lbrack\n",
    "\\begin{array}{cc}\n",
    "1 & 1 \\\\\n",
    "1  & 0\n",
    "\\end{array}\n",
    "\\right\\rbrack \n",
    "\\left(\n",
    "\\begin{array}{c}\n",
    "a\\\\\n",
    "b\n",
    "\\end{array}\n",
    "\\right )\n",
    "=\n",
    "\\left(\n",
    "\\begin{array}{c}\n",
    "\\phi \\, a\\\\\n",
    "\\phi \\, b\n",
    "\\end{array}\n",
    "\\right )\n",
    "$$\n",
    "since by definition an eigenvector of `fib_M`\n",
    "with eigenvalue $\\phi$\n",
    "is a vector whose direction is unchanged by multiplication\n",
    "with `fib_M`, but which is dilated or shrunk by a factor\n",
    "of $\\phi$.\n",
    "\n",
    "We only need to consider the computation of the second component $\\phi\\,b$:\n",
    "From the definition of matrix multiplication we know\n",
    "\n",
    "$$\n",
    "\\begin{array}{lcl}\n",
    "\\phi b & = & a \\\\\n",
    "\\end{array}\n",
    "$$\n",
    "\n",
    "Hence, the ratio of $a$ to $b$ must be $\\phi$,\n",
    "so the eigenvectors for this eigenvalue must all be scalar multiples of \n",
    "\n",
    "$$\n",
    "\\left (\n",
    "\\begin{array}{c}\n",
    "\\phi\\\\\n",
    "1\n",
    "\\end{array}\n",
    "\\right ).\n",
    "$$"
   ]
  },
  {
   "cell_type": "markdown",
   "id": "242ff831",
   "metadata": {},
   "source": [
    "Now the fact that the first eigenvector has the form\n",
    "\n",
    "$$\n",
    "\\left(\n",
    "\\begin{array}{cc}\n",
    "\\phi\\\\\n",
    "1\\\\\n",
    "\\end{array}\n",
    "\\right )\n",
    "$$\n",
    "\n",
    "leads directly to the conclusion\n",
    "that the ratio of $\\text{Fib}_{n+1}$ to $\\text{Fib}_{n}$  converges to $\\phi$."
   ]
  },
  {
   "cell_type": "markdown",
   "id": "856f2973",
   "metadata": {},
   "source": [
    "The key connection is provided by a Linear Algebra theorem about matrix powers which says that for any square matrix M with first (or dominant) eigenvector $e_{1}$ and any arbitrary vector $v$,  \n",
    "\n",
    "$$\n",
    "\\begin{array}{c}\n",
    "\\text{Powers Theorem}\\\\\n",
    "\\lim_{n\\to \\infty} \\text{M}^{n}v = ke_{1},\n",
    "\\end{array}\n",
    "$$\n",
    "\n",
    "where $e_{1}$ is the first eigenvector (paired with the eigenvalue of largest magnitude) and $k$ is a scalar. That is, for large powers of $n$, $\\text{M}^{n}v$ approaches the first eigenvector.\n",
    "This is the basis for the powers method of computing the first eigenvector of\n",
    "a matrix.  The proof is quite simple and is sketched out in an Appendix to this notebook.\n",
    "\n",
    "Applying this to our matrix, `fib_M` and our initial Fibonacci vector \n",
    "\n",
    "$\\left (\n",
    "\\begin{array}{c}\n",
    "1\\\\\n",
    "0\n",
    "\\end{array}\n",
    "\\right )$,\n",
    "we have \n",
    "\n",
    "$$\n",
    "\\begin{array}{lcl}\n",
    "\\text{fib_M}^{n}\n",
    "\\left (\n",
    "\\begin{array}{c}\n",
    "1\\\\\n",
    "0\n",
    "\\end{array}\n",
    "\\right ) &=&\n",
    "\\left (\n",
    "\\begin{array}{l}\n",
    "\\text{F}_{n+1}\\\\\n",
    "\\text{F}_{n}\n",
    "\\end{array}\n",
    "\\right )\\\\\n",
    "%\\begin{array}{l}\n",
    "%\\lim_{n\\to \\infty}\n",
    "\\lim\\limits_{n \\to \\infty}\n",
    "\\text{fib_M}^{n}\n",
    "\\left (\n",
    "\\begin{array}{c}\n",
    "1\\\\\n",
    "0\n",
    "\\end{array}\n",
    "\\right ) & = &\n",
    "k\\left (\n",
    "\\begin{array}{c}\n",
    "\\phi\\\\\n",
    "1\n",
    "\\end{array}\n",
    "\\right )\\\\\n",
    "%\\lim_{n\\to \\infty} \n",
    "\\lim\\limits_{n \\to \\infty}\n",
    "%\\text{fib_M}^{n}\n",
    "%\\left (\n",
    "%\\begin{array}{c}\n",
    "%0\\\\\n",
    "%1\n",
    "%\\end{array}\n",
    "%\\right )\n",
    "\\left (\n",
    "\\begin{array}{l}\n",
    "\\text{F}_{n+1}\\\\\n",
    "\\text{F}_{n}\n",
    "\\end{array}\n",
    "\\right )\n",
    "&=& k\\left (\n",
    "\\begin{array}{c}\n",
    "\\phi\\\\\n",
    "1\n",
    "\\end{array}\n",
    "\\right )\n",
    "\\end{array}\n",
    "$$"
   ]
  },
  {
   "cell_type": "markdown",
   "id": "2a0987a1",
   "metadata": {},
   "source": [
    "so if  $(\\phi,\\,1)$ is the first eigenvector, then the limit of the ratio $\\text{F}_{n+1}/\\text{F}_{n}$\n",
    "must be $\\phi$.  "
   ]
  },
  {
   "cell_type": "markdown",
   "id": "fb48370f",
   "metadata": {},
   "source": [
    "This is as good a time as any to say that I heartily endorse what blogger Fabian says: If you want a better understanding of what eigenvectors are, see [3blue1brown's video on eigenvectors.](https://www.3blue1brown.com/lessons/eigenvalues)"
   ]
  },
  {
   "cell_type": "markdown",
   "id": "05cca002",
   "metadata": {},
   "source": [
    "Python computation of eigenvalues and eigenvectors. First eigenvector is the first column of the eigenvector matrix."
   ]
  },
  {
   "cell_type": "code",
   "execution_count": 207,
   "id": "beea0a11",
   "metadata": {
    "scrolled": false
   },
   "outputs": [
    {
     "name": "stdout",
     "output_type": "stream",
     "text": [
      "1.618033988749895\n"
     ]
    },
    {
     "data": {
      "text/plain": [
       "array([0.85065081, 0.52573111])"
      ]
     },
     "execution_count": 207,
     "metadata": {},
     "output_type": "execute_result"
    }
   ],
   "source": [
    "eig_struc = np.linalg.eig(fib_M)\n",
    "eigvals= eig_struc.eigenvalues\n",
    "print(eigvals[0])\n",
    "eig1 = eig_struc.eigenvectors[:,0]\n",
    "eig1"
   ]
  },
  {
   "cell_type": "markdown",
   "id": "7844ce5d",
   "metadata": {},
   "source": [
    "The eigenvector `eig1` is a scalar multiple of  $\\left ( \\begin{array}{c}\\phi\\\\1\\end{array} \\right )$.  Just divide both components by the second:"
   ]
  },
  {
   "cell_type": "code",
   "execution_count": 209,
   "id": "87cf682f",
   "metadata": {},
   "outputs": [
    {
     "data": {
      "text/plain": [
       "array([1.61803399, 1.        ])"
      ]
     },
     "execution_count": 209,
     "metadata": {},
     "output_type": "execute_result"
    }
   ],
   "source": [
    "(1/eig1[1])*eig1"
   ]
  },
  {
   "cell_type": "markdown",
   "id": "55a16f21",
   "metadata": {},
   "source": [
    "## Exercise\n",
    "\n",
    "### Introduction\n",
    "\n",
    "As we saw at the outset, $\\phi$ is the $x$ such that $x = 1 + 1/x$.  That is,\n",
    "\n",
    "$$\n",
    "(1)\\, \\phi^{1} = \\phi^{0} + \\phi^{-1}.\n",
    "$$\n",
    "\n",
    "From this it follows that for any $n$ (including negative or irrational $n$):\n",
    "\n",
    "$$\n",
    "(2)\\, \\phi^{n} = \\phi^{n-1} + \\phi^{n - 2}\n",
    "$$\n",
    "\n",
    "For any particular $n$,we derive the version of (2) that has $\\phi^{n}$ on the\n",
    "left hand side simply by multiplying both sides of (1) by $\\phi^{n-1}$.\n",
    "For example, if $n=3$, we multiply both sides of (1) by $\\phi^{2}$ to get:\n",
    "\n",
    "$$\n",
    "\\phi^{3} = \\phi^{2} + \\phi^{1}\n",
    "$$\n",
    "\n",
    "\n",
    "What (2) tells us, then, is that taking a power of $\\phi$ may be reduced to addition:\n",
    "\n",
    "The first function in the cell below takes advantage of this\n",
    "relation to define an iterative function that computes \n",
    "positive integer powers of $\\phi$.\n",
    "\n",
    "For any non-negative integer `n`, `phi_pow_iterative(n)`\n",
    "returns exactly the same result as $\\phi^n$ or in Python\n",
    "`phi**n`.  Notice how much the definition of `phi_pow_iterative(n)`\n",
    "resembles the definition of `fibonacci_seq_n_iterative`."
   ]
  },
  {
   "cell_type": "code",
   "execution_count": 879,
   "id": "90cd1222",
   "metadata": {},
   "outputs": [],
   "source": [
    "def phi_pow_iterative(n):\n",
    "    \"\"\"\n",
    "    Iterative implementation of phi**n using the Fibonacci-like recurrence relation.\n",
    "    \n",
    "    phi^n = phi^{n-1}  + phi^{n-2}\n",
    "    \n",
    "    For example \n",
    "    \n",
    "    phi**2 = 1 + phi = phi**0 + phi**1\n",
    "    phi**3 = phi**2 + phi \n",
    "    phi**4 = phi**3 + phi**2\n",
    "    ....\n",
    "    \"\"\"\n",
    "    assert n >= 0,\"Use only nonnegative n\"\n",
    "    if n == 0:\n",
    "        return 1\n",
    "    elif n == 1:\n",
    "        return phi\n",
    "    else:\n",
    "        #  Keep around the last two terms\n",
    "        #  because you're going to add them to get\n",
    "        #  the next one\n",
    "        res = [1,phi]\n",
    "        for i in range (n-1):\n",
    "            res = [res[1], res[0]+res[1]]\n",
    "            #res = res[1:] + [sum(res)]\n",
    "        return res[1]\n",
    "    \n"
   ]
  },
  {
   "cell_type": "markdown",
   "id": "c12079e3",
   "metadata": {},
   "source": [
    "To check our claim that for any non-negative integer `n`, `phi_pow_iterative(n)` \n",
    "returns exactly the same result as $\\phi^n$, let's try `n=12`:"
   ]
  },
  {
   "cell_type": "code",
   "execution_count": 881,
   "id": "4221da33",
   "metadata": {},
   "outputs": [
    {
     "data": {
      "text/plain": [
       "321.996894379985"
      ]
     },
     "execution_count": 881,
     "metadata": {},
     "output_type": "execute_result"
    }
   ],
   "source": [
    "# phi is a name defined earlier in the notebook and which should be defoned when youi\n",
    "# do this exercise.\n",
    "phi**12"
   ]
  },
  {
   "cell_type": "markdown",
   "id": "d7b0629e",
   "metadata": {},
   "source": [
    "And our phi functions return:"
   ]
  },
  {
   "cell_type": "code",
   "execution_count": 882,
   "id": "fb6f6ccb",
   "metadata": {
    "scrolled": true
   },
   "outputs": [
    {
     "data": {
      "text/plain": [
       "321.99689437998484"
      ]
     },
     "execution_count": 882,
     "metadata": {},
     "output_type": "execute_result"
    }
   ],
   "source": [
    "phi_pow_iterative(12)"
   ]
  },
  {
   "cell_type": "markdown",
   "id": "0ae65daf",
   "metadata": {},
   "source": [
    "Demonstrations of what's discussed below:"
   ]
  },
  {
   "cell_type": "code",
   "execution_count": 888,
   "id": "5cd59f03",
   "metadata": {},
   "outputs": [
    {
     "data": {
      "text/plain": [
       "(4.23606797749979, 4.23606797749979)"
      ]
     },
     "execution_count": 888,
     "metadata": {},
     "output_type": "execute_result"
    }
   ],
   "source": [
    "phi**(3),2*phi+1"
   ]
  },
  {
   "cell_type": "code",
   "execution_count": 892,
   "id": "d4f4e33a",
   "metadata": {},
   "outputs": [
    {
     "data": {
      "text/plain": [
       "(6.854101966249686, 6.854101966249685)"
      ]
     },
     "execution_count": 892,
     "metadata": {},
     "output_type": "execute_result"
    }
   ],
   "source": [
    "phi**(4), 3*phi+2"
   ]
  },
  {
   "cell_type": "code",
   "execution_count": 894,
   "id": "6bff3fcf",
   "metadata": {},
   "outputs": [
    {
     "data": {
      "text/plain": [
       "(11.090169943749476, 11.090169943749475)"
      ]
     },
     "execution_count": 894,
     "metadata": {},
     "output_type": "execute_result"
    }
   ],
   "source": [
    "phi**(5),5*phi+3"
   ]
  },
  {
   "cell_type": "markdown",
   "id": "1dcd4b10",
   "metadata": {},
   "source": [
    "###  What to do\n",
    "\n",
    "Your assignment  is to write two functions. \n",
    "\n",
    "1.  First, write a recursive version \n",
    "of `phi_pow_iterative(n)`. Call it `phi_pow_recursive(n)`.  You should consult  `phi_pow_iterative(n)` to help\n",
    "you decide how to formulate it, and you might also find it useful\n",
    "to look at `fibonacci_seq_n`  defined earlier in the notebook. That\n",
    "is a recursive definition of `fibonacci_seq_n_iterative`.\n",
    "\n",
    "2.  Write another function (call it `phi_pow`) that for any $n$, returns the same value\n",
    "as  `phi_pow_iterative(n)` and `phi_pow_recursive(n)` but is neither iterative nor\n",
    "recursive.  Instead your function  should take advantage of the following\n",
    "regularity, noted when we first introduced $\\phi$:\n",
    "\n",
    "    $$\n",
    "\\begin{array}{lclclcrl}\n",
    "\\phi^1 & &                &  &                    &=& \\phi\\\\\n",
    "\\phi^2& &                 &  &                    &=&  \\, \\phi + 1 \\\\\n",
    "\\phi^3 &=& \\phi^2 +\\phi  &=& (\\phi + 1) + \\phi &=& 2\\,\\phi + 1\\\\\n",
    "\\phi^4 &=& \\phi^3 + \\phi^2 && & =& 3\\,\\phi + 2 &\\\\\n",
    "\\phi^5 &=& \\phi^4 + \\phi^3 && &= & 5\\,\\phi + 3 &\\\\\n",
    "\\end{array}\n",
    "    $$\n",
    "\n",
    "    That is, for any positive integer `n`, $\\phi^{n}$ can be expressed in the form\n",
    "\n",
    "    $$\n",
    "\\phi^{n} = j\\phi  + k\n",
    "    $$\n",
    "\n",
    "    where `j` and `k` are  positive integers depending on `n`.  For example, when `n` is 5, `j` is 5 and `k` is 3.  The examples shown above should make it clear that when `n` is 6, `j` is 8 and `k` is 5."
   ]
  },
  {
   "cell_type": "markdown",
   "id": "c0f749b9",
   "metadata": {},
   "source": [
    "1. Your function `phi_pow(n)` should return the same value as  $\\phi^{n}$, but you should at least test it for `n=1` `n=2` and `n=12`.  \n",
    "2. I am going to test your function on some unknown higher value of `n`, so you won't get full credit for simply precomputing the values `i` and `j` necessary for `n=1,n=2, ... n=12`. In fact, if you do that, you won't get any credit.\n",
    "2.  Your answer shouldn't call `phi_pow_iterative(n)` or `phi_pow_recursive(n)` and it shouldn't incorporate any code from those functions or any functions you import from another module. A good rule of thumb: if you follow the hints in the instructions,  computing `phi_pow(12)` shouldn't involve computing `phi_pow(11)` or `phi_pow(10)`.\n",
    "3.  **Hint**  A function defined elsewhere in this notebook may be of use, although you will get full credit if you compute $i$ and $j$ with your own code."
   ]
  },
  {
   "cell_type": "code",
   "execution_count": 735,
   "id": "740e30bb",
   "metadata": {},
   "outputs": [],
   "source": [
    "\n",
    "def phi_pow_recursive(n):\n",
    "    \"\"\"\n",
    "    Iterative implementation of phi**n using the Fibonacci-like recurrence relation.\n",
    "    \n",
    "    phi^n = phi^{n-1}  + phi^{n-2}\n",
    "    \n",
    "    For example \n",
    "    \n",
    "    phi**2 = 1 + phi = phi**0 + phi**1\n",
    "    phi**3 = phi**2 + phi \n",
    "    phi**4 = phi**3 + phi**2\n",
    "    ....\n",
    "    \"\"\"\n",
    "    assert n >= 0,\"Use only nonnegative n\"\n",
    "    if n == 0:\n",
    "        return 1\n",
    "    elif n == 1:\n",
    "        return phi\n",
    "    else:\n",
    "        return phi_pow_recursive(n-2) + phi_pow_recursive(n-1)\n",
    "\n",
    "    \n",
    "def phi_pow (n):\n",
    "    \"\"\"\n",
    "    Non-iterative implementation of phi**n using the recurrence relation\n",
    "    \n",
    "    phi^n = phi^{n-2}  + phi^{n-1}\n",
    "    \n",
    "    For example \n",
    "    \n",
    "    phi**2                                   =   phi + 1\n",
    "    phi**3 = phi + phi**2  = phi + (phi + 1) = 2*phi + 1\n",
    "    phi**4 = phi**2 + phi**3                 = 3*phi + 2 (add the two expressions above)\n",
    "    phi**5 = phi**3 + phi**4                 = 5*phi + 3 (add the two expressions above)\n",
    "    ....\n",
    "    phi**n = Fib_{n-1} * phi + Fib_{n-2}\n",
    "    \n",
    "    where Fib_i is the ith term in the Fib sequence\n",
    "    \"\"\"\n",
    "    if n == 0:\n",
    "        return 1\n",
    "    elif n== 1:\n",
    "        return phi\n",
    "    else:\n",
    "        #  Note phi_pow isnt recursive because it  doesnt call phi_pow\n",
    "        #  Rather phi_pow has been reduced to a computation involving\n",
    "        #  fibonacci_seq_n. Multiplication (taking a power)  has been reduced to addition.\n",
    "        return fibonacci_seq_n(n)*phi + fibonacci_seq_n(n-1) "
   ]
  },
  {
   "cell_type": "markdown",
   "id": "db04067e",
   "metadata": {},
   "source": [
    "## Appendix"
   ]
  },
  {
   "cell_type": "markdown",
   "id": "edf52572",
   "metadata": {},
   "source": [
    "### Deriving the closed form (See [Fabian Dablander's blog](https://fabiandablander.com/r/Fibonacci.html) )\n",
    "\n",
    "To derive a closed form for $\\text{Fib}_{n}$, we must spell out the change of basis \n",
    "matrixes $\\text{E}$ and $\\text{E}^{-1}$ used in (1).\n",
    "Start with E, which must map from the eigenvector basis\n",
    "to the standard basis.  To find the matrix expressing the linear map, \n",
    "we  ask  what does E map  $\\left ( \\begin{array}{c} 1 \\\\ 0\\end{array} \\right )$\n",
    "and $\\left ( \\begin{array}{c} 0 \\\\ 1\\end{array} \\right )$ to?\n",
    "Since the basis we are changing to is the eigenvector basis,\n",
    "the linear combinations encoded by coordinates $\\left ( \\begin{array}{c} 1 \\\\ 0\\end{array} \\right )$   and $\\left ( \\begin{array}{c} 0 \\\\ 1\\end{array} \\right )$  are\n",
    "\n",
    "$$\n",
    "\\begin{array}{lcl}\n",
    "1 \\cdot e_{1} + 0\\cdot e{2}\n",
    "& = & e_{1}\\\\\n",
    "0 \\cdot e_{1} + 1 \\cdot e_{2} & = & e_{2}\n",
    "\\end{array},\n",
    "$$\n",
    "\n",
    "where $e_{1}$ and $e_{2}$ are the first and second eigenvectors; so to specify E we know we need both eigenvectors.\n",
    "We found the first eigenvector above."
   ]
  },
  {
   "cell_type": "markdown",
   "id": "3321dbdc",
   "metadata": {},
   "source": [
    "Using the same method for the second eigenvalue, we get\n",
    "\n",
    "$$\n",
    "\\begin{array}{lcl}\n",
    "(-\\phi^{-1}) \\,b & = & a\n",
    "\\end{array}\n",
    "$$\n",
    "\n",
    "The first equation tells us that in this case the ratio of $a$ to $b$ must be $-\\phi^{-1}$,\n",
    "so the eigenvectors for this eigenvalue must all be scalar multiples of \n",
    "\n",
    "$$\n",
    "\\left (\n",
    "\\begin{array}{c}\n",
    "-\\phi^{-1} \\\\\n",
    "1\n",
    "\\end{array}\n",
    "\\right )\n",
    "$$"
   ]
  },
  {
   "cell_type": "markdown",
   "id": "137bab88",
   "metadata": {},
   "source": [
    "So now we know\n",
    "\n",
    "$$\n",
    "\\begin{array}{llcl}\n",
    "\\text{E}:& \\left ( \\begin{array}{c} 1 \\\\ 0\\end{array} \\right ) &\\mapsto &\n",
    "\\left ( \\begin{array}{c}\\phi \\\\ 1 \\end{array} \\right )\\\\\n",
    "\\text{E}: & \\left ( \\begin{array}{c} 0 \\\\ 1\\end{array} \\right ) & \\mapsto &\n",
    "\\left ( \\begin{array}{c} -\\phi^{-1}\\\\ 1 \\end{array} \\right )\n",
    "\\end{array}\n",
    "$$\n",
    "\n",
    "The only matrix that does this is \n",
    "$$\n",
    "\\text{E} =\n",
    "\\left\\lbrack\n",
    "\\begin{array}{cc}\n",
    "\\phi & -\\phi^{-1}\\\\\n",
    "1 & 1 \\\\\n",
    "\\end{array}\n",
    "\\right\\rbrack\n",
    "$$\n",
    "\n",
    "To use the diagonal matrix, we also need $\\text{E}^{-1}$, the matrix that maps from standard basis coordinates to\n",
    "coordinates in the eigenvector basis.  Not every matrix has an inverse but a valid change of basis matrix will, and\n",
    "when the matrix exists, we can use \n",
    "the standard Linear Algebra formula cited above to find it;\n",
    "\n",
    "$$\n",
    "\\text{E} = \\left\\lbrack \n",
    "\\begin{array}{cc}\n",
    "a & b \\\\\n",
    "c  & d\n",
    "\\end{array}\n",
    "\\right \\rbrack\n",
    "$$\n",
    "\n",
    "implies \n",
    "\n",
    "$$\n",
    "\\text{E}^{-1} = \n",
    "\\frac{1}{\\Delta}\n",
    "\\left\\lbrack \n",
    "\\begin{array}{cc}\n",
    "d & -b \\\\\n",
    "-c & a\n",
    "\\end{array}\n",
    "\\right\\rbrack,\n",
    "$$\n",
    "\n",
    "where $\\Delta$ is the determinant of E, $ad - bc$.\n",
    "\n",
    "\n",
    "Applying this to E, we have:\n",
    "\n",
    "\n",
    "$$\n",
    "\\text{E}^{-1} =\n",
    "\\frac{-1}{\\sqrt{5}}\n",
    "\\left\\lbrack\n",
    "\\begin{array}{cc}\n",
    "1&\\phi^{-1} \\\\\n",
    "-1 & \\phi \n",
    "\\end{array}\n",
    "\\right\\rbrack\n",
    "$$\n",
    "\n",
    "That is, the determinant $\\Delta$ of $\\text{E}$, $ad - bc$, is $- \\sqrt{5}$.  Working through that:"
   ]
  },
  {
   "cell_type": "markdown",
   "id": "e29d7263",
   "metadata": {},
   "source": [
    "\n",
    "$$\n",
    "\\text{det}(E) = ad-bc = \\lbrack \\phi\\cdot 1 \\rbrack - \\lbrack1\\cdot -\\phi^{-1} \\rbrack = \\phi - (1 - \\phi) = (2\\phi-1),\n",
    "$$\n",
    "\n",
    "since $-\\phi^{-1} = (1 - \\phi)$."
   ]
  },
  {
   "cell_type": "markdown",
   "id": "01b75d8f",
   "metadata": {},
   "source": [
    "Recalling that\n",
    "\n",
    "$$\n",
    "\\phi = \\frac{1 + \\sqrt{5}}{2}\n",
    "$$\n",
    "\n",
    "\n",
    "we have\n",
    "\n",
    "$$\n",
    "\\begin{array}{lcl}\n",
    "2\\phi -1  &=& 2 \\frac{1 + \\sqrt{5}}{2} - 1\\\\\n",
    "               &=& \\frac{2 + 2 \\sqrt{5} -2}{2}\\\\\n",
    "               &=& \\sqrt{5}\n",
    "               \\end{array}\n",
    "$$"
   ]
  },
  {
   "cell_type": "markdown",
   "id": "f19bd693",
   "metadata": {},
   "source": [
    "You can also do this step by finding the inverse in Python:"
   ]
  },
  {
   "cell_type": "code",
   "execution_count": 12,
   "id": "86753e3f",
   "metadata": {},
   "outputs": [
    {
     "data": {
      "text/plain": [
       "array([[ 0.4472136,  0.2763932],\n",
       "       [-0.4472136,  0.7236068]])"
      ]
     },
     "execution_count": 12,
     "metadata": {},
     "output_type": "execute_result"
    }
   ],
   "source": [
    "E = np.array([[phi, -phi**(-1)],\n",
    "              [1,           1]\n",
    "              ])\n",
    "((a,b),(c,d))= E\n",
    "E_inv =np.linalg.inv(E)\n",
    "E_inv"
   ]
  },
  {
   "cell_type": "markdown",
   "id": "17830f55",
   "metadata": {},
   "source": [
    "But then you have to multiply $\\Delta$ (the determinant, $=\\sqrt{5}$) back in to \n",
    "let you see that $\\phi$, $-\\phi^{-1}$,-1, and 1 are all in there, which\n",
    "is what lets the simplifications go forward."
   ]
  },
  {
   "cell_type": "code",
   "execution_count": 13,
   "id": "4556db7e",
   "metadata": {},
   "outputs": [
    {
     "data": {
      "text/plain": [
       "array([[ 1.        ,  0.61803399],\n",
       "       [-1.        ,  1.61803399]])"
      ]
     },
     "execution_count": 13,
     "metadata": {},
     "output_type": "execute_result"
    }
   ],
   "source": [
    "E_inv* (np.linalg.det(E))"
   ]
  },
  {
   "cell_type": "code",
   "execution_count": 14,
   "id": "475b1eb6",
   "metadata": {},
   "outputs": [
    {
     "data": {
      "text/plain": [
       "array([[ 1.        ,  0.61803399],\n",
       "       [-1.        ,  1.61803399]])"
      ]
     },
     "execution_count": 14,
     "metadata": {},
     "output_type": "execute_result"
    }
   ],
   "source": [
    "np.array([[d, -b], [-c,  a]])"
   ]
  },
  {
   "cell_type": "markdown",
   "id": "96515d46",
   "metadata": {},
   "source": [
    "And it's okay to use  `np.linalg.det(E)` ($\\approx 2.236068$) for $\\Delta$, without ever calling it $\\sqrt{5}$."
   ]
  },
  {
   "cell_type": "code",
   "execution_count": 17,
   "id": "903289b3",
   "metadata": {},
   "outputs": [
    {
     "data": {
      "text/plain": [
       "(2.23606797749979, 2.23606797749979)"
      ]
     },
     "execution_count": 17,
     "metadata": {},
     "output_type": "execute_result"
    }
   ],
   "source": [
    "np.linalg.det(E),np.sqrt(5)"
   ]
  },
  {
   "cell_type": "markdown",
   "id": "256493b5",
   "metadata": {},
   "source": [
    "We can now use  (1) to write an expression for\n",
    "the nth Fibonacci vector:\n",
    "\n",
    "$$\n",
    "\\begin{array}{lclccc}\n",
    "\\left(\n",
    "\\begin{array}{c}\n",
    "\\text{F}_{n+1}\\\\\n",
    "\\text{F}_{n}\n",
    "\\end{array}\n",
    "\\right )\n",
    "& = &\n",
    "\\left (\n",
    "\\left\\lbrack\n",
    "\\begin{array}{cc}\n",
    "1 & 1 \\\\\n",
    "1  & 0\n",
    "\\end{array}\n",
    "\\right\\rbrack\n",
    "\\right )^{n} \n",
    "\\left(\n",
    "\\begin{array}{c}\n",
    "1\\\\\n",
    "0\n",
    "\\end{array}\n",
    "\\right ) \\\\  %%%%  Begin second line\n",
    "&=&\n",
    "\\left\\lbrack\n",
    "\\begin{array}{cc}\n",
    "\\phi & -\\phi^{-1}\\\\\n",
    "1 & 1 \\\\\n",
    "\\end{array}\n",
    "\\right\\rbrack\n",
    "\\left\\lbrack\n",
    "\\begin{array}{cc}\n",
    "\\phi^{n} & 0 \\\\\n",
    "0 & (-\\phi^{-1})^{n}\n",
    "\\end{array}\n",
    "\\right\\rbrack\n",
    "\\frac{1}{\\sqrt{5}}\n",
    "\\left (\n",
    "\\left\\lbrack \n",
    "\\begin{array}{cc}\n",
    "1 & \\phi^{-1} \\\\\n",
    "-1 &  \\phi\n",
    "\\end{array}\n",
    "\\right\\rbrack\n",
    "\\right )\n",
    "%\\left(\n",
    "%\\frac{-1}{\\sqrt{5}}\n",
    "%\\left\\lbrack\n",
    "%\\begin{array}{cc}\n",
    "%-\\phi^{-1} & -1\\\\\n",
    "%-\\phi & 1\n",
    "%\\end{array}\n",
    "%\\right\\rbrack\n",
    "%\\right )\n",
    "\\left(\n",
    "\\begin{array}{c}\n",
    "1\\\\\n",
    "0\n",
    "\\end{array}\n",
    "\\right )  \\\\  %%%% Begin third line\n",
    "& = &\n",
    "\\frac{1}{\\sqrt{5}}\n",
    "\\left\\lbrack\n",
    "\\begin{array}{cc}\n",
    "\\phi^{n+1} & (-\\phi^{-1})^{n+1}\\\\\n",
    "\\phi^{n} & (-\\phi^{-1})^{n}\n",
    "\\end{array}\n",
    "\\right \\rbrack\n",
    "\\left (\n",
    "\\begin{array}{c}\n",
    "-1\\\\\n",
    "1\n",
    "\\end{array}\n",
    "\\right )  \\\\  %%%% Begin fourth line\n",
    "& = &\n",
    "\\frac{1}{\\sqrt{5}}\n",
    "\\left (\n",
    "\\begin{array}{c}\n",
    "\\phi^{n+1} - (-\\phi^{-1})^{n+1}\\\\\n",
    "\\phi^{n} - (-\\phi^{-1})^{n}\n",
    "\\end{array}\n",
    "\\right )\n",
    "\\end{array}\n",
    "$$\n",
    "\n",
    "From which we see the closed form for $\\text{F}_{n}$, known as **Binet's Formula**:\n",
    "\n",
    "$$\n",
    "\\text{F}_{n} = \\frac{1}{\\sqrt{5}}(\\phi^{n} - (-\\phi^{-1})^{n})\n",
    "$$\n",
    "\n",
    "It's clear that the second term goes to 0 as $n$ gets large, so for large\n",
    "$n$,\n",
    "\n",
    "$$\n",
    "\\text{F}_{n} \\approx \\frac{1}{\\sqrt{5}}\\phi^{n},\n",
    "$$\n",
    "\n",
    "which leads to another proof that the\n",
    "ratio of adjacent Fibonacci numbers has $\\phi$ as a limit (also cited\n",
    "in Fabian's blog, as Kepler's proof).  For large $n$:\n",
    "\n",
    "$$\n",
    "\\frac{\\text{F}_{n+1}}{F_{n}} = \\frac{\\frac{1}{\\sqrt{5}}\\phi^{n+1}}{\\frac{1}{\\sqrt{5}}\\phi^{n}}\n",
    "= \\frac{\\phi^{n+1}}{\\phi^{n}} = \\phi\n",
    "$$"
   ]
  },
  {
   "cell_type": "code",
   "execution_count": 47,
   "id": "b0929e97",
   "metadata": {},
   "outputs": [
    {
     "data": {
      "text/plain": [
       "-0.6180339887498949"
      ]
     },
     "execution_count": 47,
     "metadata": {},
     "output_type": "execute_result"
    }
   ],
   "source": [
    "psi"
   ]
  },
  {
   "cell_type": "code",
   "execution_count": 50,
   "id": "960d67bd",
   "metadata": {},
   "outputs": [
    {
     "data": {
      "text/plain": [
       "(-0.6180339887498949, -0.6180339887498947)"
      ]
     },
     "execution_count": 50,
     "metadata": {},
     "output_type": "execute_result"
    }
   ],
   "source": [
    "psi,1 + psi**(-1)"
   ]
  },
  {
   "cell_type": "markdown",
   "id": "0d3bad4d",
   "metadata": {},
   "source": [
    "##  Binet's Form:  A more illuminating derivation of Binet's Formula\n",
    "\n",
    "Above  we followed blogger Fabian's steps in deriving Binet's Formula, a closed form \n",
    "calculation of the nth Fibonacci\n",
    "number.  That proof was quite elegant and used eigenvectors of the Fibonacci matrix.  That's\n",
    "Linear Algebra, which is not generally considered lofty mathematics, but it's more\n",
    "than a lot of people have had.  Here I'd like to present an alternative \"derivation\" which offers\n",
    "some insight, because it shows the relationship of the closed form to the odd fact\n",
    "that $\\phi^{n}$ has a Fibonacci-like structure ($\\phi^{n}$ is the sum of the \n",
    "$\\phi^{n-1}$ and $\\phi^{n-2}$).  It also introduces the number $\\sqrt{5}$ in a fairly\n",
    "transparent way.  In the Linear Algebra derivation, $\\sqrt{5}$ makes its appearance\n",
    "as the determinant of the change of basis matrix E, but like almost all facts involving\n",
    "determinants, that falls somewhat short of being intuitive.\n",
    "\n",
    "Here's a slightly disabbreviated form of the \"derivation\" of Binet's  formula, as prersented on [the Wikipedia page for the Fibonacci Sequence.](https://en.wikipedia.org/wiki/Fibonacci_sequence) You'll see\n",
    "why I put word *derivation* in scare quotes below. \n",
    "\n",
    "\n",
    "First, recall that $\\phi = 1 + 1/\\phi$,\n",
    "or more usefully for present purposes,  $\\phi^1 = \\phi^{-1} + \\phi^{0}$, we have  this general Fibonacci-like relation among powers of $\\phi$:\n",
    "\n",
    "$$\n",
    "\\begin{array}{llcl}\n",
    "(i) & \\phi^1 = \\phi^0 + \\phi^{-1}\\\\\n",
    "(ii) & \\phi^n = \\phi^{n-1} + \\phi^{n-2},\\\\\n",
    "\\end{array}\n",
    "$$\n",
    "\n",
    "where (ii) follows from (i) simply by multiplying both sides by $\\phi^{n-1}$\n",
    "Another way of putting this is that $\\phi$ satisfies the following equation:\n",
    "\n",
    "$$\n",
    "\\begin{array}{llcl}\n",
    "(a) & x^1 &= & x^{0} + x^{-1} \\\\\n",
    "\\end{array}\n",
    "$$\n",
    "\n",
    "Any $x$ that satisfies (a) will also satisfy (b):\n",
    "\n",
    "$$\n",
    "\\begin{array}{llcl}\n",
    "   &  \\mathbf {Fibonacci }\\quad\\mathbf{Relation}\\\\\n",
    "(b) & x^n &= & x^{n-2} + x^{n-1}\\\\\n",
    "\\end{array}\n",
    "$$\n",
    "\n",
    "Well, there is another $x$ that satisfies (a) (and therefore also satisfies (b)). That is $-\\phi^{-1}$\n",
    "(recall that $-\\phi^{-1}$ is the other solution to the equation $x = 1 + 1/x$):\n",
    "\n",
    "$$\n",
    "\\begin{array}{llcll}\n",
    "(a') & (-\\phi^{-1})^1 &=& (-\\phi^{-1})^{0} + (-\\phi^{-1})^{-1} \\\\\n",
    "    &  -\\phi^{-1}    &=& 1 + -\\phi \\\\\n",
    "(b') & (-\\phi^{-1})^n &= &(-\\phi^{-1})^{n-1} + (-\\phi^{-1})^{n-2}\\\\\n",
    "\\end{array}\n",
    "$$"
   ]
  },
  {
   "cell_type": "markdown",
   "id": "2c2b4924",
   "metadata": {},
   "source": [
    "We will follow standard practice and write $-\\phi^{-1}$ (the negative inverse of $\\phi$) as $\\psi$.\n",
    "\n",
    "$$\n",
    "\\psi = -\\phi^{-1}\n",
    "$$\n",
    "\n",
    "It follows that if we define a sequence S consisting of powers of either $\\phi$ or $\\psi$, S will \n",
    "satisfy the Fibonacci-like recurrence relation in (b).  That is, if the nth member of the sequence \n",
    "$S_{n}$ is defined by either\n",
    "\n",
    "$$\n",
    "S_{n} = \\phi^{n}  \\text{ or } S_{n} = \\psi^{n}\n",
    "$$\n",
    "\n",
    "then \n",
    "\n",
    "$$\n",
    "S_{n+1}  = S_{n-1} + S_{n-2}.\n",
    "$$\n",
    "\n",
    "Moreover, it is easy to show that the Fibonacci relation will still hold if we define $S_{n}$ using a linear combination of  powers of $\\phi$ and $\\psi$.\n",
    "\n",
    "$$\n",
    "\\begin{array}{llcl}\n",
    "      & & \\mathbf {Binet's }\\quad\\mathbf{Form}\\\\\n",
    "S_{n} &=& a\\phi^{n} + b\\psi^{n}\n",
    "\\end{array}\n",
    "$$\n",
    "\n",
    "We have called this general schema for Fibonacci-like Sequences **Binet's Form**.\n",
    "\n",
    "The next step is to use Binet's Form to define the standard Fibonacci Sequence.\n",
    "To do that all we need to do get the first two members of the sequence right.\n",
    "The Fibonacci Sequence begins:\n",
    "\n",
    "```python\n",
    "0, 1, 2, 3, 5, 8, ...\n",
    "```\n",
    "\n",
    "All we need to do is choose $a$ and $b$ so as to fit Binet's Form and so that $S_{0}=0$ and $S_{1}=1$.\n",
    "From there the Fibonacci relation will give us all the rest.\n",
    "This gives us a pair of equations to solve.\n",
    "\n",
    "$$\n",
    "\\begin{array}{llcl}\n",
    "(i) & 0 &=& a\\phi^{0} + b\\psi^{0}\\\\\n",
    "    &  &=& a + b\\\\\n",
    "    & a &=& -b\\\\\n",
    "\\end{array}\n",
    "$$\n",
    "\n",
    "and \n",
    "\n",
    "$$\n",
    "\\begin{array}{llcl}\n",
    "(ii) & 1 &=& a\\phi^{1} + b\\psi^{1}\\\\\n",
    "\\end{array}\n",
    "$$\n",
    "\n",
    "Using equation (i), we rewrite (ii) as:\n",
    "\n",
    "$$\n",
    "\\begin{array}{llcl}\n",
    "(ii) & 1  &=& a\\phi -a \\psi  \\\\\n",
    " & &=& a(\\phi - \\psi)\\\\\n",
    "& a &=& 1/(\\phi-\\psi) = 1/(\\phi + \\phi^{-1}) \n",
    "\\end{array}\n",
    "$$\n",
    "\n",
    "If this were any other number but $\\phi$ we'd be done.  But $\\phi$ lives in an algebra all its own.   Recall that for $\\phi$ we know:\n",
    "\n",
    "$$\n",
    "\\begin{array}{llcl}\n",
    " &  \\phi &=& (1 + \\sqrt{5})/2\\\\\n",
    "(iv) & \\sqrt{5} &=&2\\phi - 1\\\\\n",
    "       &  &= &\\phi + (\\phi - 1)\\\\\n",
    "       & & =& \\phi + \\phi^{-1} = \\phi - \\psi\n",
    "\\end{array}\n",
    "$$\n",
    "\n",
    "Substituting (iv) into (ii) and using (i) we have:\n",
    "\n",
    "$$\n",
    "\\begin{array}{lcl}\n",
    "a &=& 1/\\sqrt{5}\\\\\n",
    "b &=& -1/\\sqrt{5}\n",
    "\\end{array}\n",
    "$$\n",
    "\n",
    "And plugging these values for $a$ and $b$ into Binet's Form we have\n",
    "the following as the definition for the standard Fibonacci Sequence:\n",
    "\n",
    "$$\n",
    "\\begin{array}{lcl}\n",
    "S_{n} &=& \\frac{1}{\\sqrt{5}}\\lbrack\\, \\phi^{n} - \\psi^{n}\\,\\rbrack,\n",
    "\\end{array}\n",
    "$$\n",
    "\n",
    "which agrees with we've been calling Binet's Formula.   So we  see that  the \"derivation\"\n",
    "of Binet's Formula isn't so much a derivation of the formula from the sequence\n",
    "as a different way of defining it that uses a more general perspective on the Fibonacci relation.\n",
    "In a later section we'll see another example of a  Fibonacci-like Sequence of\n",
    "integers.\n",
    "\n",
    "Binet's Form really gets at the heart of why $\\phi$ (and $\\psi$)  are so intimately tied up\n",
    "with Fibonacci Numbers:  Equation (b).  That's really all there is to it: Additive exponeniality.\n",
    "But of course there aren't many numbers that satisfy (b); just two, in fact, and that's\n",
    "what makes $\\phi$ and $\\psi$ special.\n",
    "\n",
    "**Exercise:**  Use Binet's form to define another Fibonacci-like sequence whose first two members\n",
    "are $S_{0} = 2$ and $S_{1}= 1$.  What are $a$ and $b$?  Spell out the first 10 members\n",
    "of the sequence.  Helpful note:  It is an integer sequence."
   ]
  },
  {
   "cell_type": "markdown",
   "id": "11f96cfb",
   "metadata": {},
   "source": [
    "## When $\\phi^{n}$ is an integer, a Fibonnaci cousin, and a double helix plot\n",
    "\n",
    "###  Introduction: A statement of the problem\n",
    "\n",
    "The theme of this notebook has been the entanglement of properties of the Golden Mean $\\phi$ with\n",
    "properties of $F_n$, the nth Fibonacci number. In the previous section,\n",
    "we saw how powers of $\\phi$ (and $\\psi$) could\n",
    "be used to provide general characterization of sequences that obey the Fibonacci relation. In this section \n",
    "we'll see how the standard Fibonacci sequence can in turn play a crucial role \n",
    "in characterizing certain surprising regularities \n",
    "in powers of $\\phi$.\n",
    "\n",
    "Consider the following pattern for $\\phi^n$:"
   ]
  },
  {
   "cell_type": "code",
   "execution_count": 65,
   "id": "9535641e",
   "metadata": {
    "scrolled": false
   },
   "outputs": [
    {
     "name": "stdout",
     "output_type": "stream",
     "text": [
      " n         phi^n             eps(n)      phi^n+eps\n",
      "\n",
      " 1          1.61803         0.38197           2.0\n",
      " 2          2.61803         0.38197           3.0\n",
      " 3          4.23607        -0.23607           4.0\n",
      " 4          6.85410         0.14590           7.0\n",
      " 5         11.09017        -0.09017          11.0\n",
      " 6         17.94427         0.05573          18.0\n",
      " 7         29.03444        -0.03444          29.0\n",
      " 8         46.97871         0.02129          47.0\n",
      " 9         76.01316        -0.01316          76.0\n",
      "10        122.99187         0.00813         123.0\n",
      "11        199.00502        -0.00502         199.0\n",
      "12        321.99689         0.00311         322.0\n",
      "13        521.00192        -0.00192         521.0\n",
      "14        842.99881         0.00119         843.0\n",
      "15       1364.00073        -0.00073        1364.0\n",
      "16       2206.99955         0.00045        2207.0\n",
      "17       3571.00028        -0.00028        3571.0\n",
      "18       5777.99983         0.00017        5778.0\n",
      "19       9349.00011        -0.00011        9349.0\n",
      "20      15126.99993         0.00007       15127.0\n",
      "21      24476.00004        -0.00004       24476.0\n",
      "22      39602.99997         0.00003       39603.0\n",
      "23      64079.00002        -0.00002       64079.0\n",
      "24     103681.99999         0.00001      103682.0\n",
      "25     167761.00001        -0.00001      167761.0\n",
      "26     271443.00000         0.00000      271443.0\n",
      "27     439204.00000        -0.00000      439204.0\n",
      "28     710647.00000         0.00000      710647.0\n",
      "29    1149851.00000        -0.00000     1149851.0\n",
      "30    1860498.00000         0.00000     1860498.0\n",
      "31    3010349.00000        -0.00000     3010349.0\n",
      "32    4870847.00000         0.00000     4870847.0\n",
      "33    7881196.00000        -0.00000     7881196.0\n",
      "34   12752043.00000         0.00000    12752043.0\n"
     ]
    }
   ],
   "source": [
    "tol = 1e-6\n",
    "print(\" n         phi^n             eps(n)      phi^n+eps\",end=\"\\n\\n\")\n",
    "for n in range(1,35):\n",
    "    s = phi**(n)\n",
    "    eps = round(s)-s\n",
    "    print(f\"{n:>2}  {s:>15.5f}    {eps: >12.5f}  {s+eps:>12}\")"
   ]
  },
  {
   "cell_type": "markdown",
   "id": "dcde5550",
   "metadata": {},
   "source": [
    "The first column is $\\phi^n$, the second the distance between $\\phi^n$ and the nearest integer, called $eps(n)$. \n",
    "Ther third column shows that we have defined $eps(n)$ so that $\\phi^n + eps(n)$ is always an integer.\n",
    "Clearly, as $n$ grows,   $\\phi^n$ grows closer and closer to being an integer. Why?   This is a \n",
    "a puzzle considered in [Judith Knott's post](https://judithknott.com/2017/09/13/powers-of-the-golden-ratio/) on powers of the golden ratio, as well as in {John Cook's blog on \"golden powers\".](https://www.johndcook.com/blog/2017/03/22/golden-powers-are-nearly-integers/)\n",
    "\n",
    "The first thing to note, besides that dwindling magnitude of $eps(n)$, is its sign.  Sometimes $\\phi^n$ is just slightly more than its rounded value ($eps$ negative), sometimes, slightly less ($eps(n)$ positive).  In fact after $n=2$, it is positive for even integers and negative for odd integers.  Let's start by assuming $eps(n)$ is some simple function of $n$.  Why?  Well because that's what we're hoping for.\n",
    "  \n",
    "So here are our clues for $eps(n) = \\text{round}(\\phi^{n})-\\phi^{n}$\n",
    "\n",
    "1.  $eps(n)$ dwindles fast.  How fast?  Well let's a do a plot to check that.\n",
    "2.  $eps(n)$ is positive for for even integers and negative for odd integers.  That suggests powers of a negative number.\n",
    "3.  $eps(n)$ bears some simple relationship to $\\phi^{n}$ which allows it to systematically draw closer to $\\phi^{n}$."
   ]
  },
  {
   "cell_type": "markdown",
   "id": "0f04a901",
   "metadata": {},
   "source": [
    "How about $(-\\phi^{-1})^n$, which we called $\\psi^{n}$ in the previous section? \n",
    "It meets all three criteria. First, it  will dwindle exponentially\n",
    "Second, it's a power of negative number so its will change sign for odd and even integers. Third, it is tied rather closely to the growth of $\\phi^{n}$."
   ]
  },
  {
   "cell_type": "markdown",
   "id": "22fb2ec4",
   "metadata": {},
   "source": [
    "Let's draw the plot to confirm $eps$ diminishes exponentially:"
   ]
  },
  {
   "cell_type": "code",
   "execution_count": 26,
   "id": "1b029b23",
   "metadata": {},
   "outputs": [
    {
     "data": {
      "text/plain": [
       "[<matplotlib.lines.Line2D at 0x11c801340>]"
      ]
     },
     "execution_count": 26,
     "metadata": {},
     "output_type": "execute_result"
    },
    {
     "data": {
      "image/png": "[encoded data removed]",
      "text/plain": [
       "<Figure size 600x800 with 1 Axes>"
      ]
     },
     "metadata": {},
     "output_type": "display_data"
    }
   ],
   "source": [
    "from matplotlib import pyplot as plt\n",
    "(fig, ax)= plt.subplots(1,1,figsize=(6,8))\n",
    "x=np.arange(1,35)\n",
    "pows = phi**x\n",
    "rounded = np.round(pows)\n",
    "y=np.abs(pows - rounded)\n",
    "\n",
    "ax.plot(x,y)"
   ]
  },
  {
   "cell_type": "markdown",
   "id": "d2be5325",
   "metadata": {},
   "source": [
    "Well that certainly looks exponential.  Let's look at how well $\\psi^n$ tracks $eps$."
   ]
  },
  {
   "cell_type": "code",
   "execution_count": 53,
   "id": "3e3aa0f8",
   "metadata": {},
   "outputs": [
    {
     "name": "stdout",
     "output_type": "stream",
     "text": [
      " n         phi^n           eps(n)         psi^n\n",
      "\n",
      " 1        1.61803          0.38197      -0.61803\n",
      " 2        2.61803          0.38197       0.38197\n",
      " 3        4.23607         -0.23607      -0.23607\n",
      " 4        6.85410          0.14590       0.14590\n",
      " 5       11.09017         -0.09017      -0.09017\n",
      " 6       17.94427          0.05573       0.05573\n",
      " 7       29.03444         -0.03444      -0.03444\n",
      " 8       46.97871          0.02129       0.02129\n",
      " 9       76.01316         -0.01316      -0.01316\n",
      "10      122.99187          0.00813       0.00813\n",
      "11      199.00502         -0.00502      -0.00502\n",
      "12      321.99689          0.00311       0.00311\n",
      "13      521.00192         -0.00192      -0.00192\n",
      "14      842.99881          0.00119       0.00119\n",
      "15     1364.00073         -0.00073      -0.00073\n",
      "16     2206.99955          0.00045       0.00045\n",
      "17     3571.00028         -0.00028      -0.00028\n",
      "18     5777.99983          0.00017       0.00017\n",
      "19     9349.00011         -0.00011      -0.00011\n"
     ]
    }
   ],
   "source": [
    "tol = 1e-6\n",
    "print(\" n         phi^n           eps(n)         psi^n\",end=\"\\n\\n\")\n",
    "for n in range(1,20):\n",
    "    s,t = phi**(n),(-phi**(-1))**(n)\n",
    "    print(f\"{n:>2}  {s:>13.5f}    {round(s)-s:>13.5f} {t:>13.5f}\")"
   ]
  },
  {
   "cell_type": "markdown",
   "id": "4fc41554",
   "metadata": {},
   "source": [
    "Perfectly!  In every case except $n=1$, $\\psi^{-n}$ agrees with $eps$, and\n",
    "in the case of $n=1$ it is exactly the difference between $\\phi^{1}$ and 1, so not the nearest integer\n",
    "in that case, but an integer.  What that means is that  for every single $n$ we have looked at (including 1) $\\phi^{n} + \\psi^{n}$  is an integer. We are a long way from proving that is true for every integer (though we will do so shortly), but let's think about what it it would mean for the puzzle we started out with if the following preposition were true:\n",
    "\n",
    "> Proposition A (preliminary): For every  integer $n$, $\\phi^{n} + \\psi^{n}$ is an integer.\n",
    "\n",
    "How would this shed light on the fact that $\\phi^n$ grows closer to being an integer as $n$ grows?   It would explain it.Because $\\psi^{n} = \\phi^{-n}$ for even integers and $\\psi^{n} = -\\phi^{-n}$ for odd integers. As $n$ increases the value $\\phi^{-n}$ grows rapidly smaller, and $\\phi^n + \\phi^{-n}$ and $\\phi^n - \\phi^{-n}$ simultaneously grow closer to $\\phi^{n}$, so  if one of them must be an integer, necessarily $\\phi^n$ would grow closer to an integer.  In fact we can say a little more based on the sign of $eps(n)$ in the data above:  For even values of $n$, $\\phi^{n} + \\phi^{-n}$ is an integer and for odd values  $\\phi^{n} - \\phi^{-n}$ is.  \n",
    "\n",
    "The situation then is that we have solved our puzzle but only at the cost of creating a new one.  Why should Proposition A be true.  Is it true?  Are some of the apparent equalities in the printout above just approximate equalities, true only at low precision? Even if they aren't approximate equalities, is proposition A true for every $n$?\n",
    "\n",
    "Let's consider some cases where proof is easy. \n",
    "\n",
    "1.  For $n=1$, consider $\\phi^{1} - \\phi^{-1} = 1$.   This is exact because it follows from the definition of $\\phi$ ($\\phi = 1 + \\phi^{-1}$).\n",
    "2.  For $n=2$,  recall from the discussion of the the closed form calculation of $F_{n}$  that:\n",
    "\n",
    "$$\n",
    "\\begin{array}{lcl}\n",
    "\\sqrt{5} &= &\\phi + \\frac{1}{\\phi}\n",
    "\\end{array}\n",
    "$$"
   ]
  },
  {
   "cell_type": "markdown",
   "id": "c17ac8ed",
   "metadata": {},
   "source": [
    "From this it immediately follows that\n",
    "\n",
    "\n",
    "$$\n",
    "\\begin{array}{lcl}\n",
    "5 & = & \\left ( \\phi + \\frac{1}{\\phi} \\right ) ^2\\\\\n",
    "  & = & \\phi^{2} + 2 + \\frac{1}{\\phi^2}\\\\\n",
    "3 & = &  \\phi^{2} + \\frac{1}{\\phi^2}\n",
    "\\end{array}\n",
    "$$"
   ]
  },
  {
   "cell_type": "markdown",
   "id": "4875ecf7",
   "metadata": {},
   "source": [
    "So we have another proof of exactness.  In order to address the general case we will \n",
    "need to prove somethings about powers of $\\phi$.\n",
    "\n",
    "##  Some facts about powers of $\\phi$"
   ]
  },
  {
   "cell_type": "markdown",
   "id": "baf46d2d",
   "metadata": {},
   "source": [
    "Based also on the fact that $\\phi = 1 + 1/\\phi$,\n",
    "or more usefully for present purposes,  $\\phi^1 = \\phi^0 + \\phi^{-1}$, we have  this general Fibonacci-like relation among powers of $\\phi$:\n",
    "\n",
    "$$\n",
    "\\begin{array}{llcl}\n",
    "(a) & \\phi^1 = \\phi^0 + \\phi^{-1}\\\\\n",
    "(b) & \\phi^n = \\phi^{n-1} + \\phi^{n-2}\\\\\n",
    "\\end{array}\n",
    "$$\n",
    "\n",
    "where (b) is (a) multiplied by $\\phi^{n-1}$.\n",
    "\n",
    "Now we can reformulate this to actually use Fibbonacci numbers \n",
    "to compute powers of $\\phi$ (not recommended for\n",
    "the computationally conscientious):\n",
    "\n",
    "   $$\n",
    "\\begin{array}{lclclcrl}\n",
    "\\phi^1 & &                &  &                    &=& \\phi\\\\\n",
    "\\phi^2&= &  \\phi^1 +\\phi^0               &  &                    &=&  \\, \\phi + 1 \\\\\n",
    "\\phi^3 &=& \\phi^2 +\\phi  &=& (\\phi + 1) + \\phi &=& 2\\,\\phi + 1\\\\\n",
    "\\phi^4 &=& \\phi^3 + \\phi^2 && & =& 3\\,\\phi + 2 &\\\\\n",
    "\\phi^5 &=& \\phi^4 + \\phi^3 && &= & 5\\,\\phi + 3 &\\\\\n",
    "\\end{array}\n",
    "    $$\n",
    "   \n",
    "In each case the expression on the right contains\n",
    "Fibonacci coefficients and is computed by summing the two expressions above it.  That is, for any positive integer `n`, $\\phi^{n}$ can be expressed in the form\n",
    "\n",
    "$$\n",
    "\\begin{array}{lcl}\n",
    "\\mathbf{Fact} \\,\\mathbf{A}& &\\\\\n",
    "\\phi^{n}  = F_{n}\\phi + F_{n-1},\n",
    "\\end{array}\n",
    "$$\n",
    "\n",
    "where $F_{n}$ is the nth Fibonacci number. A formal proof would use mathematical induction.  For now, we will satisfy ourselves with this informal demonstration.  In the previous section we contented ourselves with reducing facts about Fibonacci numbers to facts about $\\phi$.  Now we have turned the tables.  We are defining powers of $\\phi$ in terms of Fibonacci numbers.  As we will see, this will suit our current needs well, because we are interested in relating facts about powers  of $\\phi$ to facts about integers.\n",
    "\n",
    " Now we examine a similar pattern for negative powers of  $\\phi$:\n",
    "\n",
    " $$\n",
    "\\begin{array}{lclclcrr}\n",
    "\\phi^{1}  &=&                                       & &                    & & \\phi\\\\\n",
    "\\phi^{0} &=&                                       & &                    & & 1\\\\\n",
    "\\phi^{-1} & = &  \\phi^{1} - \\phi^{0}              &  &                    &=& \\phi - 1\\\\\n",
    "\\phi^{-2}&  =&    \\phi^{0} - \\phi^{-1}                & = &  1-(\\phi-1)  &=& -\\phi + 2 \\\\\n",
    "\\phi^{-3} &=& \\phi^{-1} - \\phi^{-2}  &=& (\\phi - 1) - (2- \\phi) &=& 2\\,\\phi -3 \\\\\n",
    "\\phi^{-4} &=& \\phi^{-2} - \\phi^{-3} && & =& -3\\,\\phi + 5 \\\\\n",
    "\\phi^{-5} &=& \\phi^{-3} - \\phi^{-4} && &= & 5\\,\\phi -8 \\\\\n",
    "\\phi^{-6} &=& \\phi^{-4} - \\phi^{-3} && &= & -8\\,\\phi +13 \\\\\n",
    "\\end{array}\n",
    "    $$\n",
    "\n",
    "where the first equality in each row follows from\n",
    "$\\phi^{n-1} + \\phi^{n-2} = \\phi^{n}$, which remains true for negative values of $n$, by simply\n",
    "subtracting $\\phi^{n-1}$ from both sides: $\\phi^{n-2} = \\phi^n - \\phi^{n-1}$.\n",
    "\n",
    "Generalization:  Each power is the difference of the previous two.  The successive subtractions lead\n",
    "to swapping of signs between the $\\phi$ term and the integer term, but apart from that the\n",
    "generalization is very similar to the one about positive powers of $\\phi$, which leads to fact B\n",
    "\n",
    "$$\n",
    "\\begin{array}{lcl}\n",
    "\\mathbf{Fact} \\,\\mathbf{B}& &\\\\\n",
    "\\phi^{-n}  = (-1)^{n+1}\\lbrack F_{n}\\phi - F_{n+1} \\rbrack.\n",
    "\\end{array}\n",
    "$$\n"
   ]
  },
  {
   "cell_type": "markdown",
   "id": "fa502b9f",
   "metadata": {},
   "source": [
    "In sum we have for positive integers $n$:"
   ]
  },
  {
   "cell_type": "markdown",
   "id": "3f3a5f7d",
   "metadata": {},
   "source": [
    "$$\n",
    "\\begin{array}{lcl}\n",
    "\\mathbf{\\phi^n}\\, \\mathbf{Rule}\\,(\\mathbf{Fact} \\,\\mathbf{A})& &\\\\\n",
    "\\phi^{n}  = F_{n}\\phi + F_{n-1},\n",
    "\\end{array}\n",
    "$$\n",
    "\n",
    "$$\n",
    "\\begin{array}{c}\n",
    "\\mathbf{\\phi^{-n}}\\, \\mathbf{Rule}\\,(\\mathbf{Fact} \\,\\mathbf{B})& &\\\\\n",
    "\\phi^{-n}  = (-1)^{n+1}\\lbrack F_{n}\\phi - F_{n+1} \\rbrack.\n",
    "\\end{array}\n",
    "$$\n",
    "\n",
    "where in both cases $F_{n}$ is the nth Fibonacci number.  \n",
    "\n",
    "This concludes our little digression on powers of $\\phi$."
   ]
  },
  {
   "cell_type": "markdown",
   "id": "9c4b1c10",
   "metadata": {},
   "source": [
    "##  Back to our problem\n",
    "\n",
    "Using facts A and B above it's easy to show that\n",
    "$\\phi^{n} + \\phi^{-n}$ is an integer for all even $n$.  In fact,\n",
    "for even $n$:\n",
    "\n",
    "\n",
    "$$\n",
    "\\phi^{n} + \\phi^{-n} = F_{n-1} + F_{n+1}\n",
    "$$\n",
    "\n",
    "Since $F_{n-1}$ and $F_{n+1}$ are not adjacent, the value is is not generally a Fibonacci number."
   ]
  },
  {
   "cell_type": "markdown",
   "id": "1662f54e",
   "metadata": {},
   "source": [
    "**Proof**:\n",
    "\n",
    "$$\n",
    "\\begin{array}{llcll}\n",
    "(a)&     & &           \\phi^{n} + \\phi^{-n} \\\\ \n",
    "(b)&     &=&            F_{n}\\phi + F_{n-1} + (-1)^{n+1} \\lbrack F_{n}\\phi - F_{n+1}\\rbrack \\\\        \n",
    "\\end{array}\n",
    "$$\n",
    "\n",
    "where step (b) applies facts A and B.\n",
    "\n",
    "So when $n$ is even $(-1)^{n+1}$ becomes a minus sign and we have \n",
    "$$\n",
    "\\begin{array}{llcll}\n",
    "(c)&                 &=&    F_{n}\\phi + F_{n-1} - ( F_{n}\\phi - F_{n+1}) \\\\  \n",
    "(d) &                 &=&    F_{n}\\phi + F_{n-1} -  F_{n}\\phi + F_{n+1} \\\\  \n",
    "(e) &                 &=&    F_{n-1}  + F_{n+1} \\\\  \n",
    "\\end{array}\n",
    "$$\n",
    "\n",
    "which is an integer.  If $n$ is odd the $\\phi$  terms do not cancel.   Demonstrating:"
   ]
  },
  {
   "cell_type": "code",
   "execution_count": 80,
   "id": "a9d03824",
   "metadata": {},
   "outputs": [
    {
     "name": "stdout",
     "output_type": "stream",
     "text": [
      "  n     phi^n+phi^-n  F_n-1    F_n+1       Python\n",
      "\n",
      "  2            3        1        2    3.000000000000000\n",
      "  4            7        2        5    7.000000000000001\n",
      "  6           18        5       13    18.000000000000004\n",
      "  8           47       13       34    47.000000000000014\n",
      " 10          123       34       89    123.000000000000043\n",
      " 12          322       89      233    322.000000000000171\n",
      " 14          843      233      610    843.000000000000341\n",
      " 16         2207      610     1597    2207.000000000001364\n",
      " 18         5778     1597     4181    5778.000000000003638\n",
      " 20        15127     4181    10946    15127.000000000009095\n",
      " 22        39603    10946    28657    39603.000000000029104\n",
      " 24       103682    28657    75025    103682.000000000087311\n",
      " 26       271443    75025   196418    271443.000000000232831\n",
      " 28       710647   196418   514229    710647.000000000582077\n",
      " 30      1860498   514229  1346269    1860498.000000002095476\n"
     ]
    }
   ],
   "source": [
    "tol = 1e-6\n",
    "print(\"  n     phi^n+phi^-n  F_n-1    F_n+1       Python\",end=\"\\n\\n\")\n",
    "for n in range(2,32,2):\n",
    "    s = phi**(n) + phi**(-n)\n",
    "    t = fibonacci_seq_n(n-1) + fibonacci_seq_n(n+1)\n",
    "    lb,ub = fibonacci_seq_n(n-1),fibonacci_seq_n(n+1)\n",
    "    print(f\" {n:>2}      {t:>7.0f} {lb:>8} {ub:>8}    {s:<16.15f}\")"
   ]
  },
  {
   "cell_type": "markdown",
   "id": "650b5545",
   "metadata": {},
   "source": [
    "where the first column is $n$, \n",
    "the power we're raising to, the second is $\\phi^{n} + \\phi^{-n}$,\n",
    "the third and fourth are the nonadjacent Fibonacci numbers  \n",
    "whose sum is equal to $\\phi^{n} + \\phi^{-n}$, and\n",
    "where the decimal number with many 0s in the last column\n",
    "is what Python actually returns for the computation $\\phi^{n} + \\phi^{-n}$.  You\n",
    "can see the computational error grow as $n$ grows larger. "
   ]
  },
  {
   "cell_type": "markdown",
   "id": "a8ef04bc",
   "metadata": {},
   "source": [
    "By completely parallel reasoning, we arrive at a dual fact for odd values of $n$:\n",
    "\n",
    "$$\n",
    "\\phi^{n} - \\phi^{-n} = F_{n-1} + F_{n+1}\n",
    "$$\n",
    "\n",
    "**Exercise**:  Prove $\\phi^{n} - \\phi^{-n} = F_{n-1} + F_{n+1}$ for all odd integer values of $n$.\n",
    "\n",
    "\n",
    "So the official answer to what function $eps(n)$ is should not be a surprise at this point:\n",
    "\n",
    "$$\n",
    "eps(n) = (-1)^{n}(\\phi^{-1})^{n} = (-\\phi^{-1})^{n}= \\psi^{n}\n",
    "$$\n",
    "\n",
    "As suspected and made clear by the last two representations, $eps(n)$,\n",
    "the difference between $\\phi^n$ and its integer neighbnor, involves taking a power of a negative number,\n",
    "the negative inverse of $\\phi$ (called $\\psi$ in the previous section of this notebook).\n",
    "\n",
    "This allows us to finally present a fully specified version of Proposition A.\n",
    "\n",
    ">  Proposition A (final): For all positive integer values of $n$, $\\phi^{n} + \\psi^{n} = F_{n-1}  + F_{n+1}$.\n",
    "\n",
    "This immediately implies that $\\phi^{n} + \\psi^{n}$ is always an integer.\n",
    "Let's call the larger function that $eps$ appears in in Proposition A $h$:\n",
    "\n",
    "$$\n",
    "h(n) = \\phi^{n} + \\psi^{n} =  \\phi^{n} + (-\\phi^{-1})^{n} = F_{n-1}  + F_{n+1}.\n",
    "$$\n",
    "\n",
    "Here I've written $h$ so as to highlight the similarity to the function that appears inside the brackets in\n",
    "Binet's Formula, the closed form expression for $F_{n}$:\n",
    "\n",
    "$$\n",
    "F_{n} = \\frac{1}{\\sqrt{5}}  \\,\\lbrack \\phi^{n} - \\psi^{n} \\rbrack = \\frac{1}{\\sqrt{5}}  \\,\\lbrack \\phi^{n} -  (-\\phi^{-1})^{n} \\rbrack\n",
    "$$\n",
    "\n",
    "The difference is a mere change of sign.  Let's call the expression in the brackets $g$:\n",
    "\n",
    "$$\n",
    "\\begin{array}{lcl}\n",
    "h(n) &= &\\phi^{n} + (-\\phi^{-1})^{n}\\\\\n",
    "g(n) &= & \\phi^{n} - (-\\phi^{-1})^{n}\n",
    "\\end{array}\n",
    "$$\n",
    "\n",
    "We'll briefly discuss the relationship of $h$, $g$ and Binet's Form in the last section."
   ]
  },
  {
   "cell_type": "markdown",
   "id": "bfd19bb0",
   "metadata": {},
   "source": [
    "Returning to the original puzzle of why $\\phi^{n}$ approaches integerhood, we repeat those facts with\n",
    "slightly different labeling."
   ]
  },
  {
   "cell_type": "code",
   "execution_count": 85,
   "id": "e9ad53f3",
   "metadata": {},
   "outputs": [
    {
     "name": "stdout",
     "output_type": "stream",
     "text": [
      " n       phi^n      phi^n + phi^-n  phi^n - phi^-n     h(n) \n",
      "\n",
      " 0       1.00000       2.00000         0.00000            2\n",
      " 1       1.61803       2.23607         1.00000            1\n",
      " 2       2.61803       3.00000         2.23607            3\n",
      " 3       4.23607       4.47214         4.00000            4\n",
      " 4       6.85410       7.00000         6.70820            7\n",
      " 5      11.09017      11.18034        11.00000           11\n",
      " 6      17.94427      18.00000        17.88854           18\n",
      " 7      29.03444      29.06888        29.00000           29\n",
      " 8      46.97871      47.00000        46.95743           47\n",
      " 9      76.01316      76.02631        76.00000           76\n",
      "10     122.99187     123.00000       122.98374          123\n",
      "11     199.00502     199.01005       199.00000          199\n",
      "12     321.99689     322.00000       321.99379          322\n",
      "13     521.00192     521.00384       521.00000          521\n",
      "14     842.99881     843.00000       842.99763          843\n",
      "15    1364.00073    1364.00147      1364.00000        1,364\n",
      "16    2206.99955    2207.00000      2206.99909        2,207\n",
      "17    3571.00028    3571.00056      3571.00000        3,571\n",
      "18    5777.99983    5778.00000      5777.99965        5,778\n",
      "19    9349.00011    9349.00021      9349.00000        9,349\n",
      "20   15126.99993   15127.00000     15126.99987       15,127\n",
      "21   24476.00004   24476.00008     24476.00000       24,476\n",
      "22   39602.99997   39603.00000     39602.99995       39,603\n",
      "23   64079.00002   64079.00003     64079.00000       64,079\n",
      "24  103681.99999  103682.00000    103681.99998      103,682\n",
      "25  167761.00001  167761.00001    167761.00000      167,761\n",
      "26  271443.00000  271443.00000    271442.99999      271,443\n",
      "27  439204.00000  439204.00000    439204.00000      439,204\n",
      "28  710647.00000  710647.00000    710647.00000      710,647\n",
      "29 1149851.00000 1149851.00000   1149851.00000    1,149,851\n",
      "30 1860498.00000 1860498.00000   1860498.00000    1,860,498\n",
      "31 3010349.00000 3010349.00000   3010349.00000    3,010,349\n"
     ]
    }
   ],
   "source": [
    "def h(n):\n",
    "    \"\"\"\n",
    "    h(n) = phi^n + (-phi^{-1})^n\n",
    "    \"\"\"\n",
    "    return (np.power(phi,n) + np.power(-1,n)*(np.power(phi, -n)))\n",
    "\n",
    "def g(n):\n",
    "    \"\"\"\n",
    "    g(n) = phi^n - (-phi^{-1})^n\n",
    "    \"\"\"\n",
    "    #return (phi**n - ((-1)**n)*(phi**(-n)))\n",
    "    return (np.power(phi,n) - np.power(-1,n)*(np.power(phi, -n)))\n",
    "\n",
    "\n",
    "tol = 1e-6 \n",
    "print(\" n       phi^n      phi^n + phi^-n  phi^n - phi^-n     h(n) \",end=\"\\n\\n\")\n",
    "for n in range(0,32):\n",
    "    s = phi**(n) + phi**(-n)\n",
    "    t = phi**(n) - phi**(-n)\n",
    "    u = phi**n\n",
    "    hn = int(h(n))\n",
    "    print(f\"{n:>2} {u:13.5f} {s:>13.5f}   {t:>13.5f}    {hn:>9,}\")"
   ]
  },
  {
   "cell_type": "markdown",
   "id": "996b50e7",
   "metadata": {},
   "source": [
    "In the last few rows we see the pattern we noted at the beginning of\n",
    "this discussion. For large $n$, it looks as if $\\phi^{n}$ is an an integer,\n",
    "and it looks as if both $\\phi^n + \\phi^{-n}$ and $\\phi^n - \\phi^{-n}$  are integers too,\n",
    "but that is an artifact of the precision values used in printing those rows.\n",
    "As we have seen,   $\\phi^n$ is never an integer and $h(n)$ always is,\n",
    "but the fact that $h(n) = \\phi^n + \\phi^{-n}$ for even integers and\n",
    "$h(n) = \\phi^n - \\phi^{-n}$ for odd integers\n",
    "means that $\\phi^n$ must be a better and better approximation  of an integer.\n",
    "\n",
    "We even understand what integer $\\phi^{n}$ approaches:  $𝐹_{𝑛−1}+𝐹_{𝑛+1}$.  So to answer\n",
    "the question in the title of this section:  When is $\\phi^{n}$ an integer?  Never.\n",
    "And the integer it never is is $𝐹_{𝑛−1}+𝐹_{𝑛+1}$."
   ]
  },
  {
   "cell_type": "markdown",
   "id": "d0b85827",
   "metadata": {},
   "source": [
    "### Relationship to closed form\n",
    "\n",
    "The interesting pattern we've noted is $h(n)$ is always an integer and $\\phi^{n}$ \n",
    "necessarily approaches it.  But as a bonus we've noted the close relationship to Binet's Formula,  the\n",
    "the closed form calculation of $F_{n}$.  In this section we want to point out why exactly\n",
    "that relationship exists."
   ]
  },
  {
   "cell_type": "markdown",
   "id": "465ab9da",
   "metadata": {},
   "source": [
    "Let's look simply at the sequence of values produced by `h`:"
   ]
  },
  {
   "cell_type": "code",
   "execution_count": 87,
   "id": "d04dee43",
   "metadata": {},
   "outputs": [
    {
     "name": "stdout",
     "output_type": "stream",
     "text": [
      " n         h(n)  \n",
      " 0          2\n",
      " 1          1\n",
      " 2          3\n",
      " 3          4\n",
      " 4          7\n",
      " 5         11\n",
      " 6         18\n",
      " 7         29\n",
      " 8         47\n",
      " 9         76\n",
      "10        123\n",
      "11        199\n",
      "12        322\n",
      "13        521\n",
      "14        843\n",
      "15       1364\n",
      "16       2207\n",
      "17       3571\n",
      "18       5778\n",
      "19       9349\n",
      "20      15127\n",
      "21      24476\n",
      "22      39603\n",
      "23      64079\n",
      "24     103682\n",
      "25     167761\n",
      "26     271443\n",
      "27     439204\n",
      "28     710647\n",
      "29    1149851\n",
      "30    1860498\n",
      "31    3010349\n"
     ]
    }
   ],
   "source": [
    "#print(\" n         h(n)  h(n-1) + h(n-2)\")\n",
    "print(\" n         h(n)  \")\n",
    "for n in range(0,32):\n",
    "    hn = int(h(n))\n",
    "    try:\n",
    "        hnp = int(h(n-1))+ int(h(n-2))\n",
    "    except:\n",
    "        hnp=0\n",
    "    print(f\"{n:>2}  {hn:>9}\")"
   ]
  },
  {
   "cell_type": "markdown",
   "id": "5100b9dd",
   "metadata": {},
   "source": [
    "This is a Fibonacci like sequence.  After $n=2$ each member is the sum of the previous two.\n",
    "\n",
    "And this is not really a surprise, because\n",
    "$h(n)$ qualifies as full-fledged member of the family of Fibonacci Sequences discussed\n",
    "in the section entitled ****Binet's Form: A more illuminating derivation of Binet's Formula****; see the exercise in that section.  \n",
    "\n",
    "The general form for a Fibonacci-like Sequence was called **Binet's Form** in that section.  Binet's Form is:\n",
    "\n",
    "$$\n",
    "\\begin{array}{lcl}\n",
    "\\text{Binet}(n) &= & a\\cdot\\phi^{n} + b \\cdot\\psi^{n}\\\\\n",
    "                &= & a\\cdot\\phi^{n} + b \\cdot (-\\phi^{-1})^{n}\\\\\n",
    "\\end{array}\n",
    "$$\n",
    "\n",
    "So $h$ is nothing more than an instance of Binet's form with $a=b=1$:\n",
    "\n",
    "$$\n",
    "\\begin{array}{lcl}\n",
    "h(n) & =& 1\\cdot\\phi^{n} + 1 \\cdot(-\\phi^{-1})^{n}\\\\\n",
    "     & =& 1\\cdot\\phi^{n} + 1 \\cdot \\psi^{n}\\\\\n",
    "\\end{array}\n",
    "$$\n"
   ]
  },
  {
   "cell_type": "markdown",
   "id": "1f54f3d4",
   "metadata": {},
   "source": [
    "As the printout above shows, $h(0)$ and $h(1)$ are fully determined."
   ]
  },
  {
   "cell_type": "code",
   "execution_count": 24,
   "id": "797c565b",
   "metadata": {
    "scrolled": true
   },
   "outputs": [
    {
     "data": {
      "text/plain": [
       "(2.0, 1.0)"
      ]
     },
     "execution_count": 24,
     "metadata": {},
     "output_type": "execute_result"
    }
   ],
   "source": [
    "h(0),h(1)"
   ]
  },
  {
   "cell_type": "markdown",
   "id": "a7c91bf1",
   "metadata": {},
   "source": [
    "and even without the printout above,\n",
    "the considerations discussed in defining Binet's Form would lead us to conclude:\n",
    "\n",
    "$$\n",
    "h(n+1) = h(n) + h(n-1)\n",
    "$$\n",
    "\n",
    "Done.  Full family affilation established.\n",
    "\n",
    "Note that $g$ (the part of Binet's formula inside the square brackets) is **also**\n",
    "an instance of Binet's form, with  $a=1,b=-1$  It's just that\n",
    "it does not define  an integer sequence.  However, as $n$ grows large, it approaches\n",
    "integerhood, just alternately undershooting and overshooting, much as $\\phi^{n}$ does.  And\n",
    "what it overshoots and undershoots, we now know, is $F_{n-1} + F_{n+1}$."
   ]
  },
  {
   "cell_type": "code",
   "execution_count": 182,
   "id": "ab63ad1b",
   "metadata": {},
   "outputs": [
    {
     "name": "stdout",
     "output_type": "stream",
     "text": [
      " n           g(n)        F_n-1 + F_n+1\n",
      " 2        2.236067977          3  \n",
      " 3        4.472135955          4  \n",
      " 4        6.708203932          7  \n",
      " 5       11.180339887         11  \n",
      " 6       17.888543820         18  \n",
      " 7       29.068883707         29  \n",
      " 8       46.957427527         47  \n",
      " 9       76.026311235         76  \n",
      "10      122.983738762        123  \n",
      "11      199.010049997        199  \n",
      "12      321.993788760        322  \n",
      "13      521.003838757        521  \n",
      "14      842.997627517        843  \n",
      "15     1364.001466275       1364  \n",
      "16     2206.999093792       2207  \n",
      "17     3571.000560067       3571  \n",
      "18     5777.999653859       5778  \n",
      "19     9349.000213927       9349  \n",
      "20    15126.999867786      15127  \n",
      "21    24476.000081713      24476  \n",
      "22    39602.999949499      39603  \n",
      "23    64079.000031212      64079  \n",
      "24   103681.999980710     103682  \n",
      "25   167761.000011922     167761  \n",
      "26   271442.999992632     271443  \n",
      "27   439204.000004554     439204  \n",
      "28   710646.999997186     710647  \n",
      "29  1149851.000001740    1149851  \n",
      "30  1860497.999998927    1860498  \n",
      "31  3010349.000000667    3010349  \n"
     ]
    }
   ],
   "source": [
    "print(\" n           g(n)        F_n-1 + F_n+1\")\n",
    "for n in range(2,32):\n",
    "    gn = g(n)\n",
    "    t = fibonacci_seq_n(n-1) + fibonacci_seq_n(n+1)\n",
    "    print(f\"{n:>2}  {gn:>17.9f}  {t:>9d}  \")"
   ]
  },
  {
   "cell_type": "markdown",
   "id": "238fb61b",
   "metadata": {},
   "source": [
    "We see that $g$ obeys the Fibonacci relation. For each $n$, $g(n)$ is the sum if the two values above it.\n",
    "Of course $h$ and $g$ are perfectly good continuous functions as well, but they take  values in the complex numbers for non-integer values of $n$, so a plot showing that is as good a way as any to bid goodbye to this topic."
   ]
  },
  {
   "cell_type": "code",
   "execution_count": 237,
   "id": "7b63a65a",
   "metadata": {
    "scrolled": false
   },
   "outputs": [
    {
     "data": {
      "image/png": "[encoded data removed]",
      "text/plain": [
       "<Figure size 600x800 with 2 Axes>"
      ]
     },
     "metadata": {},
     "output_type": "display_data"
    }
   ],
   "source": [
    "from matplotlib import pyplot as plt\n",
    "(fig, (ax1,ax2)) = plt.subplots(1,2,figsize=(6,8))\n",
    "x=np.arange(0,8,.01)\n",
    "def hc(n):\n",
    "    \"\"\"\n",
    "    h(n) allowing imaginary values, where h(n) is\n",
    "    phi**n + ((-1)**n)*(phi**(-n))\n",
    "    \"\"\"\n",
    "    return (np.power(phi,n) + np.power(-1+0j,n)*(np.power(phi, -n)))\n",
    "\n",
    "def gc(n):\n",
    "    \"\"\"\n",
    "    g(n) defined for nonintegers, allowing imaginary values\n",
    "    \"\"\"\n",
    "    # g(n)\n",
    "    #return (phi**n - ((-1)**n)*(phi**(-n)))\n",
    "    return (np.power(phi,n) - np.power(-1+0j,n)*(np.power(phi, -n)))\n",
    "\n",
    "\n",
    "hx = hc(x)\n",
    "h_real = hx.real\n",
    "h_imag = hx.imag\n",
    "gx = gc(x)\n",
    "g_real = gx.real\n",
    "g_imag = gx.imag\n",
    "\n",
    "#ax1.scatter(x,h_real,label=\"h(x).real\",c=\"r\",s=4)\n",
    "ax1.plot(x,h_real,label=\"h(x)\",c=\"r\")\n",
    "#ax1.scatter(x, g_real, label=\"g(x).real\",c=\"c\",s=4)\n",
    "ax1.plot(x, g_real, label=\"g(x)\",c=\"c\")\n",
    "ax1.legend()\n",
    "ax1.set_title(\"Real vals for $h(n)$ and $g(n)$\")\n",
    "ax2.scatter(x,h_imag,label=\"h(x)\",c=\"r\",s=2)\n",
    "ax2.scatter(x, g_imag, label=\"g(x)\",c=\"c\",s=2)\n",
    "ax2.set_yticks(ax2.get_yticks(),[f\"{yval:.1f}i\" for yval in ax2.get_yticks()])\n",
    "ax2.legend()\n",
    "ax2.set_title(\"Imag vals for $h(n)$ and $g(n)$\")\n",
    "plt.tight_layout()\n",
    "#ax.set_aspect(\"equal\")"
   ]
  },
  {
   "cell_type": "markdown",
   "id": "ea6bd323",
   "metadata": {},
   "source": [
    "And the promised double helix appears at last.  This is really the picture driving our original puzzle, the spiraling dance of $h$ and $g$ in both graphs.   On the right, the imaginary components graph, necessarily $h$ and $g$ are symmetric with respect to the $x$-axis, since the coefficients of $i$ are determined entirely by their $\\psi$-components, which are equal and opposite in sign.  When their imaginary components cross the $x$-axis, both $h$ and $g$ take real values, and those crossings are, of course, at integer values for $n$ (the plot is from $n=0$ to $n=8$).  On the left, $h$ takes integer values when it is real-valued, and $g$ does not.  The plot on the left is a better and better picture of $\\phi^{n}$ as $n$ grows large, since $\\phi^{n}$ is squeezed between $h$ and $g$."
   ]
  },
  {
   "cell_type": "markdown",
   "id": "fa7c443e",
   "metadata": {},
   "source": [
    "####  Exercises for this section\n",
    "\n",
    "**Exercise**: The function $\\phi^{n}$  is also an instance of Binet's Form, of course, with $a=1,b=0$.   What are the starting values for $n=0$ and $n=1$?\n",
    "\n",
    "**Exercise**: The function $(-\\phi^{-1})^{n}$  is also an instance of Binet's Form, of course, with $a=0,b=1$.   What are the starting values for $n=0$ and $n=1$?\n",
    "\n",
    "**Exercise**: Find another instance of Binet's Form which produces an integer sequence.  It should generate neither the standard Fibonacci Sequence ($a=1/\\sqrt{5}$, $b=-1/\\sqrt{5}$) nor a scalar multiple of it ($a=k/\\sqrt{5}$, $b=-k/\\sqrt{5}$ nor the Fibonacci cousin studied in this section  ($a=1$, $b=1$), nor a scalar multiple of it ($a=k$, $b=k$).  You should specify  $a$ and $b$, as well as the first 10 members of the sequence, including $S_{0}$ and $S_{1}$.  Hint: Pick some initial values that guarantee the above requirements will be met, and solve the Binet form equations for those initial values, as illustrated in **Binet's Form: A more illuminating derivation of Binet's Formula.**  If you can't simplify to a pretty form, just write some code to see if you are in fact generating an integer sequence, using your ugly form."
   ]
  },
  {
   "cell_type": "code",
   "execution_count": 185,
   "id": "fc09389b",
   "metadata": {},
   "outputs": [
    {
     "data": {
      "text/plain": [
       "(1.0, 4.0, 5.0, 9.0)"
      ]
     },
     "execution_count": 185,
     "metadata": {},
     "output_type": "execute_result"
    }
   ],
   "source": [
    "def i(n):\n",
    "    \"\"\"\n",
    "    Binets form.  Solving the equations tp make S_0=1, S_1 = 4\n",
    "    i(n) = phi^(n+1) + (-phi^{-1})^(n+1))\n",
    "    \"\"\"\n",
    "    # Shifting  the F_{n-1}+F_{n+1} Fibonacci Sequence by setting a = phi^m and b = psi^m.  For m=3\n",
    "    # a,b = phi**3, (-phi)**(-3)\n",
    "    # Or solving the equations tp make S_0=1, S_1 = 4\n",
    "    psi = -(phi**(-1))\n",
    "    a = (4-psi)/np.sqrt(5)\n",
    "    b = 1 - a\n",
    "    return (a*np.power(phi,n)) + (b*np.power(-1,n)*(np.power(phi, -n)))\n",
    "\n",
    "i(0),i(1),i(2),i(3)"
   ]
  },
  {
   "cell_type": "code",
   "execution_count": 193,
   "id": "0b3ff6f5",
   "metadata": {},
   "outputs": [
    {
     "name": "stdout",
     "output_type": "stream",
     "text": [
      " n               h(n)         i(n)\n",
      " 0                 1           0\n",
      " 1                 4           3\n",
      " 2                 5           4\n",
      " 3                 9           7\n",
      " 4                14          11\n",
      " 5                23          18\n",
      " 6                37          29\n",
      " 7                60          47\n",
      " 8                97          76\n",
      " 9               157         123\n",
      "10               254         199\n",
      "11               411         322\n",
      "12               665         521\n",
      "13              1076         843\n",
      "14              1741        1364\n",
      "15              2817        2207\n",
      "16              4558        3571\n",
      "17              7375        5778\n",
      "18             11933        9349\n",
      "19             19308       15127\n",
      "20             31241       24476\n",
      "21             50549       39603\n",
      "22             81790       64079\n",
      "23            132339      103682\n",
      "24            214129      167761\n",
      "25            346468      271443\n",
      "26            560597      439204\n",
      "27            907065      710647\n",
      "28           1467662     1149851\n",
      "29           2374727     1860498\n",
      "30           3842389     3010349\n",
      "31           6217116     4870847\n"
     ]
    }
   ],
   "source": [
    "print(\" n               h(n)         i(n)\")\n",
    "for n in range(0,32):\n",
    "    i_n = i(n)\n",
    "    try:\n",
    "        hn = h(n)\n",
    "    except:\n",
    "        hn=0\n",
    "    #t = 2*(fibonacci_seq_n(n-1) + fibonacci_seq_n(n+1))\n",
    "    try:\n",
    "        t = fibonacci_seq_n(n) + fibonacci_seq_n(n+2)\n",
    "    except:\n",
    "        t=0\n",
    "    print(f\"{n:>2} {i_n:>17.0f}  {t:>10}\")"
   ]
  },
  {
   "cell_type": "code",
   "execution_count": 170,
   "id": "132ac1f4",
   "metadata": {},
   "outputs": [
    {
     "data": {
      "text/plain": [
       "((47.000000000000014+0j), (46.9574275274956+0j), (21.000000000000004+0j))"
      ]
     },
     "execution_count": 170,
     "metadata": {},
     "output_type": "execute_result"
    }
   ],
   "source": [
    "hc(8),gc(8),1/np.sqrt(5)*gc(8)"
   ]
  },
  {
   "cell_type": "markdown",
   "id": "334eb152",
   "metadata": {},
   "source": [
    "## Fibonacci and Pascal's Triangle"
   ]
  },
  {
   "cell_type": "code",
   "execution_count": 352,
   "id": "1712ca9f",
   "metadata": {},
   "outputs": [],
   "source": [
    "\n",
    "def make_pascals_triangle (nrows):\n",
    "    \"\"\"\n",
    "    No printing version of make_pascals_triangle\n",
    "    \"\"\"\n",
    "    \n",
    "    L = [1]\n",
    "    rows = []\n",
    "    rows.append(L)\n",
    "    for i in range(nrows):\n",
    "        L = [1] + get_sums(L) + [1]\n",
    "        rows.append(L)\n",
    "    return rows\n",
    "\n",
    "def get_sums (Seq):\n",
    "    return [Seq[i]+Seq[i+1] for i in range(len(Seq)-1) ]\n",
    "\n",
    "def print_pascal_row (L, num_rows,i,verbose):\n",
    "    if not verbose:\n",
    "        return\n",
    "    # Row indent\n",
    "    print((num_rows-i)*' ',end=\" \")\n",
    "    # Extra indent for rows lacking 2 digit entries\n",
    "    if i<5:\n",
    "        print(\"\",end=\" \")\n",
    "    # Row\n",
    "    print(*L)\n",
    "    \n",
    "def print_pascal_rows (rows):\n",
    "    num_rows=len(rows)\n",
    "    for (i,L) in enumerate(rows):\n",
    "        print_pascal_row (L, num_rows,i,True)\n",
    "    \n",
    "    \n",
    "############################################################################\n",
    "# Numpy versions (for coding-style purposes only. actually slower memory hogs)\n",
    "############################################################################\n",
    "\n",
    "\n",
    "def make_pascals_triangle_numpy (nrows):\n",
    "    first_row = np.array([1])\n",
    "    r = first_row\n",
    "    # Note use of Walrus operator (> Python 3.7).  This is a nice example\n",
    "    # of where it comes in handy.  We want to both accumulate and\n",
    "    # update values of r.\n",
    "    return [first_row] + [r := get_next_row(r) for i in range(nrows)]\n",
    "\n",
    "def get_next_row(r):\n",
    "    \"\"\"\n",
    "    r is a row of a Pascalian triangle. Get next row.\n",
    "    For example:\n",
    "       row = array([1,2,1])\n",
    "       return array([1, 3, 3, 1])\n",
    "    \"\"\"\n",
    "    return np.concatenate([[0], r]) + np.concatenate([r, [0]])\n"
   ]
  },
  {
   "cell_type": "markdown",
   "id": "e83c12d3",
   "metadata": {},
   "source": [
    "Here, for easy reference, is a fragment of the Fibonacci Sequence:\n",
    "\n",
    "```python\n",
    "1 1 2 3 5 8 13 21 34 55 89 144 233 377 610 987 1597 2584 4181 6765 10946\n",
    "```"
   ]
  },
  {
   "cell_type": "markdown",
   "id": "bb1cdc09",
   "metadata": {},
   "source": [
    "The triangle below, known as Pascal's Triangle, may be familiar as an aid to remembering the Binomial Theorem,\n",
    "which tells us how to compute $(a + b)^n$:"
   ]
  },
  {
   "cell_type": "code",
   "execution_count": 485,
   "id": "43fb63e9",
   "metadata": {
    "scrolled": true
   },
   "outputs": [
    {
     "name": "stdout",
     "output_type": "stream",
     "text": [
      "           1\n",
      "          1 1\n",
      "         1 2 1\n",
      "        1 3 3 1\n",
      "       1 4 6 4 1\n",
      "     1 5 10 10 5 1\n",
      "    1 6 15 20 15 6 1\n",
      "   1 7 21 35 35 21 7 1\n",
      "  1 8 28 56 70 56 28 8 1\n"
     ]
    }
   ],
   "source": [
    "rows = make_pascals_triangle(8)\n",
    "print_pascal_rows (rows)"
   ]
  },
  {
   "cell_type": "markdown",
   "id": "32318414",
   "metadata": {},
   "source": [
    "Using 0-based indexing, the fourth row $1\\, 4\\, 6\\, 4\\, 1$ tells us the coeffients of all the $a^{i}b^{4-i}$ terms\n",
    "in computing $(a + b)^4$.  As an example, let's compute $7^4$"
   ]
  },
  {
   "cell_type": "code",
   "execution_count": 227,
   "id": "eadaa7fb",
   "metadata": {},
   "outputs": [
    {
     "data": {
      "text/plain": [
       "2401"
      ]
     },
     "execution_count": 227,
     "metadata": {},
     "output_type": "execute_result"
    }
   ],
   "source": [
    "7**4"
   ]
  },
  {
   "cell_type": "markdown",
   "id": "a87e817d",
   "metadata": {},
   "source": [
    "the hard way, as $(3 + 4)^4$.  Pascal's triangle tells us the coefficients will be\n",
    "$1\\, 4 \\,6\\, 4\\, 1$, so:"
   ]
  },
  {
   "cell_type": "code",
   "execution_count": 397,
   "id": "b60a8d5d",
   "metadata": {},
   "outputs": [
    {
     "name": "stdout",
     "output_type": "stream",
     "text": [
      "[1 4 6 4 1]\n",
      "[81, 108, 144, 192, 256]\n"
     ]
    },
    {
     "data": {
      "text/plain": [
       "2401"
      ]
     },
     "execution_count": 397,
     "metadata": {},
     "output_type": "execute_result"
    }
   ],
   "source": [
    "rows = make_pascals_triangle_numpy(8)\n",
    "n= 4\n",
    "a,b = 4,3\n",
    "coeffs = rows[n]\n",
    "print(coeffs)\n",
    "powers = [a**i*b**(n-i) for i in range(n+1)]\n",
    "print(powers)\n",
    "#powers = np.array([(3**4)*(4**0), (3**3)*(4**1), (3**2)*(4**2), (3**1)*(4**3), (4**4)*(3**0)])\n",
    "coeffs.dot(powers)\n",
    "#1*(3**4)*(4**0) + 4*(3**3)*(4**1) + 6*(3**2)*(4**2) + 4*(3**1)*(4**3) + 1*(4**4)*(3**0)"
   ]
  },
  {
   "cell_type": "markdown",
   "id": "3226689d",
   "metadata": {},
   "source": [
    "So what does this have to do with Fibonacci numbers? There are lots of number in the triangle,\n",
    "but plenty of them are not Fibonacci numbers, for example the 4 and 6 we just used. It turns out the \n",
    "diagonal sums of the triangle are the Fibonacci numbers in order, as shown in the following\n",
    "diagram."
   ]
  },
  {
   "cell_type": "code",
   "execution_count": 912,
   "id": "d181ba4e",
   "metadata": {},
   "outputs": [
    {
     "data": {
      "image/png": "[encoded data removed]",
      "text/plain": [
       "<IPython.core.display.Image object>"
      ]
     },
     "execution_count": 912,
     "metadata": {},
     "output_type": "execute_result"
    }
   ],
   "source": [
    "from IPython.display import Image\n",
    "url = \"https://raw.githubusercontent.com/gawron/python-for-social-science/refs/heads/master/intro/pascal.png\"\n",
    "#img = Image(\"pascal.png\")\n",
    "img = Image(url)\n",
    "img"
   ]
  },
  {
   "cell_type": "markdown",
   "id": "e789c3c4",
   "metadata": {},
   "source": [
    "## Completely optional  appendix exercise\n",
    "\n",
    "1.  The function `make_pascals_triangle` defined above gives you a working Pascal's triangle and the examples show how to use it.  Write a function `fib_n_from_pascal` that takes two arguments, `n` and a Pascal's Triangle of the sort produced by `make_pascals_triangle`; `fib_n_from_pascal` should return the $n$-th Fibonacci number (so `fib_n_from_pascal(n)` should equal `fibonacci_seq_n (n)`) and it should compute it by doing the correct diagonal sum in Pascal's triangle.  Once you have defined `fib_n_from_pascal`, the code snippet in the cell below should work.\n",
    "2.  You know that the numbers in Pascal's Triangle are the coefficients in the Binomial Theorem. Modify  `fib_n_from_pascal` to eliminate its dependence on a precomputed Pascal's triangle table. Call the modified function   `fib_n_from_binomial`.  It should have a single parameter `n`.  Instead of summing entries in Pascal's triangular table it will sum appropriate binomial coefficients.  Note: if you have done part (a) of this problem, this should be a very small modification.  It is particularly small if you import a standard Python module that provides a function that computes binomial coefficients (it is not, however, named `compute_binomial_coeffient` or anything quite so transparent).  If not, refresh your memory of the Binomial theorem (Google it, I mean), which will tell you another way to compute the numbers in Pascal's Triangle.   Test it in an appropriately m,odified version of the code cell below.\n",
    "3.  This is far from the easiest way to compute the $n$-th Fibonacci number. The closed form is, but it does avoid floating point issues and it sums n/2 numbers instead of n. So, probably no Nobel Prize in CS.  But this is fun."
   ]
  },
  {
   "cell_type": "code",
   "execution_count": 608,
   "id": "a0bfb59f",
   "metadata": {},
   "outputs": [
    {
     "name": "stdout",
     "output_type": "stream",
     "text": [
      " 1      1\n",
      " 2      1\n",
      " 3      2\n",
      " 4      3\n",
      " 5      5\n",
      " 6      8\n",
      " 7     13\n",
      " 8     21\n",
      " 9     34\n",
      "10     55\n",
      "11     89\n",
      "12    144\n",
      "13    233\n",
      "14    377\n",
      "15    610\n",
      "16    987\n",
      "17   1597\n",
      "18   2584\n",
      "19   4181\n",
      "20   6765\n"
     ]
    }
   ],
   "source": [
    "m=20\n",
    "# SHd produce same output as previous cell\n",
    "rows = make_pascals_triangle(m)\n",
    "# Makes no diff if rows has more than enough rows\n",
    "#rows = make_pascals_triangle(m+5)\n",
    "for n in range(1,m+1):\n",
    "    print(f\"{n:>2}   {fib_n_from_pascal (rows,n):>4}\")"
   ]
  },
  {
   "cell_type": "code",
   "execution_count": 602,
   "id": "94a1c572",
   "metadata": {},
   "outputs": [
    {
     "name": "stdout",
     "output_type": "stream",
     "text": [
      " 1      1\n",
      " 2      1\n",
      " 3      2\n",
      " 4      3\n",
      " 5      5\n",
      " 6      8\n",
      " 7     13\n",
      " 8     21\n",
      " 9     34\n",
      "10     55\n",
      "11     89\n",
      "12    144\n",
      "13    233\n",
      "14    377\n",
      "15    610\n",
      "16    987\n",
      "17   1597\n",
      "18   2584\n",
      "19   4181\n",
      "20   6765\n"
     ]
    }
   ],
   "source": [
    "m=20\n",
    "# SHd produce same output as previous cell\n",
    "for n in range(1,m+1):\n",
    "    print(f\"{n:>2}   {fibonacci_seq_n (n):>4}\")\n"
   ]
  },
  {
   "cell_type": "code",
   "execution_count": 566,
   "id": "665bea8a",
   "metadata": {},
   "outputs": [
    {
     "name": "stdout",
     "output_type": "stream",
     "text": [
      " 0     0\n",
      " 1     1\n",
      " 2     1\n",
      " 3     2\n",
      " 4     3\n",
      " 5     5\n",
      " 6     8\n",
      " 7    13\n",
      " 8    21\n",
      " 9    34\n",
      "10    55\n",
      "11    89\n",
      "12   144\n",
      "13   233\n",
      "14   377\n",
      "15   610\n",
      "16   987\n",
      "17   1597\n",
      "18   2584\n",
      "19   4181\n",
      "20   6765\n"
     ]
    }
   ],
   "source": [
    "m=20\n",
    "# SHd produce same output as previous two cells\n",
    "for n in range(m+1):\n",
    "    print(f\"{n:>2}   {fib_n_from_binomial (n):>3}\")"
   ]
  },
  {
   "cell_type": "code",
   "execution_count": 607,
   "id": "03ef7091",
   "metadata": {},
   "outputs": [],
   "source": [
    "import math\n",
    "\n",
    "def fib_n_from_pascal (pt,m):\n",
    "    \"\"\"\n",
    "    pt is a pascals triangle, n is an integer.\n",
    "    \n",
    "    Return the nth Fiobonacci number.\n",
    "    \"\"\"\n",
    "    n=m-1\n",
    "    # Need to count down from different starting points for odds and evens\n",
    "    parity_bit = m%2\n",
    "    return sum(pt[r][n-r] for r in range(n+parity_bit,n//2,-1))\n",
    "\n",
    "\n",
    "def fib_n_from_pascal_alt (pt,m):\n",
    "    \"\"\"\n",
    "    pt is a pascals triangle, n is an integer.\n",
    "    \n",
    "    Return the nth Fiobonacci number.\n",
    "    \"\"\"\n",
    "    n=m-1\n",
    "    r,tot=n,0\n",
    "    while n-r<=r:\n",
    "        tot += pt[r][n-r]\n",
    "        r-=1\n",
    "    return tot\n",
    "\n",
    "\n",
    "def fib_n_from_binomial_alt(n):\n",
    "    \"\"\"\n",
    "    This is the correct, more complicated version with no m,.n offset\n",
    "    n is an integer.\n",
    "    \n",
    "    Return the nth Fiobonacci number.\n",
    "    \"\"\"\n",
    "    r, tot = n-1,0\n",
    "    while n-(r+1) <= r:\n",
    "        tot += math.comb(r,(n-(r+1)))\n",
    "        #print(n-r,r,math.comb(r,n-r), tot)\n",
    "        r-=1\n",
    "    return tot\n",
    "\n",
    "def fib_n_from_binomial_minor_alt(m):\n",
    "    \"\"\"\n",
    "    m is an integer.\n",
    "    \n",
    "    Return the mth Fibonacci number.\n",
    "    \"\"\"\n",
    "    #  The code is simpler if you offset by 1\n",
    "    #  Consistency with other fib fns requires\n",
    "    #  fib_n_from_binomial(12) = 144 (not 233)\n",
    "    n=m-1\n",
    "    r, tot = n,0\n",
    "    while n-r <= r:\n",
    "        tot += math.comb(r,(n-r))\n",
    "        #print(n-r,r,math.comb(r,n-r), tot)\n",
    "        r-=1\n",
    "    return tot\n",
    "\n",
    "def fib_n_from_binomialx(m):\n",
    "    \"\"\"\n",
    "    m is an integer.\n",
    "    \n",
    "    Return the mth Fibonacci number.\n",
    "    \"\"\"\n",
    "    #  The code is simpler if you offset by 1\n",
    "    #  Consistency with other fib fns requires\n",
    "    #  fib_n_from_binomial(12) = 144 (not 233)\n",
    "    n=m-1\n",
    "    #rather than : r, tot = n//2,1\n",
    "    # round up when n is odd\n",
    "    r, tot = round(n/2),0\n",
    "    while r <= n:\n",
    "        tot += math.comb(r,n-r)\n",
    "        #print(r,n-r,math.comb(r,n-r), tot)\n",
    "        r+=1\n",
    "    return tot\n",
    "\n",
    "def fib_n_from_binomial(m):\n",
    "    \"\"\"\n",
    "    m is an integer.\n",
    "    \n",
    "    Return the mth Fibonacci number.\n",
    "    \"\"\"\n",
    "    #  The code is simpler if you offset by 1\n",
    "    n=m-1\n",
    "    return sum(math.comb(x,n-x) for x in range(round(n/2),n+1))"
   ]
  },
  {
   "cell_type": "markdown",
   "id": "ec6a2830",
   "metadata": {},
   "source": [
    "#### Final comments\n",
    "\n",
    "$$\n",
    "\\text{Moe's Theorem}\\\\\n",
    "\\text{F}_{n+1} = \\sum_{r=\\lceil n/2 \\rceil}^{n} {r \\choose n-r} = \\frac{-1}{\\sqrt{5}}\\left (\\phi^{n+1} - (-\\phi^{-1})^{n+1} \\right)\n",
    "$$\n",
    "\n",
    "Notation note:  The expression $\\lceil x \\rceil$ denotes the smallest integer greater or equal to $x$, so for\n",
    "example, $\\lceil 11/2 \\rceil$ is 6.\n",
    "\n",
    "The truth of Moe's Theorem (Moe of Cretonia, 470 B.C.) should now be obvious."
   ]
  },
  {
   "cell_type": "markdown",
   "id": "80f8b43f",
   "metadata": {},
   "source": [
    "###  Proof that $\\text{A}^{m}v$ converges on the first eigenvector\n",
    "\n",
    "Let $v_{0}$ be an arbitrary vector and let $v_{m}$ be the result of matrix mutltiplying\n",
    "$A^{m}$ with $v_{0}$:\n",
    "\n",
    "$$\n",
    "v_{m}  = A^{m}v_{0}\n",
    "$$\n",
    "\n",
    "Now whatever $v_{0}$ is, Linear Algebra tells us we can\n",
    "write $v_{0}$ as a linear combination of the eigenvectors  $e_{i}$ of A:\n",
    "\n",
    "$$\n",
    "v_{0} = \\sum_{i} c_{i} e_{i},\n",
    "$$\n",
    "\n",
    "for appropriate choice of the $c_{i}$. Then \n",
    "\n",
    "$$\n",
    "v_{m} = A^{m} \\sum_{i} c_{i} e_{i} =  \\sum_{i} c_{i} \\kappa_{i}^{m}  e_{i} = \\kappa_{1}^{m} \\sum_{i} c_{i} \\left \\lbrack \\frac{\\kappa_{i}}{\\kappa_{1}}\\right \\rbrack^{m} e_{i} \n",
    "$$\n",
    "\n",
    "where $\\kappa_{1}$ is the leading or largest eigenvalue and\n",
    "we have made use of the fact that if $\\kappa$ is\n",
    "an eigenvalue of A, then $\\kappa^{m}$ is an eigenvalue\n",
    "of  $\\text{A}^{m}$.   Then, since $\\kappa_{i}/\\kappa_{1} < 1$ whenever $i\\neq 1$,\n",
    "all the $i\\neq 1$ terms will tend toward 0.  Then\n",
    "\n",
    "$$\n",
    "\\lim_{m \\to \\infty} v_{m} = A^{𝑚} v_{0} = \\kappa_{1}^{m} c_{1} \\left \\lbrack \\frac{\\kappa_{1}}{\\kappa_{1}}\\right \\rbrack^{m} v_{1} \n",
    "= \\kappa_{1}^{m} c_{1} e_{1} \n",
    "$$\n",
    "\n",
    "That is, applying $A^{m}$ to **any** vector converges on a vector proportional to $e_{1}$, the first eigenvector of A. The significance of that is that any vector proportional to a first eigenvector $v_{1}$ is still a first eigenvector, that is, it is in the same\n",
    "**eigenspace**, so we will get a vector that is a first eigenvector.  "
   ]
  },
  {
   "cell_type": "markdown",
   "id": "0e9dae75",
   "metadata": {},
   "source": [
    "## Ring of $\\mathbb{Z}\\left \\lbrack \\sqrt{5}\\, \\right \\rbrack$ \n",
    "\n",
    "From a [Hacker news post.](https://news.ycombinator.com/item?id=2538724).  Compute $F_{n}$ in the ring\n",
    "$\\mathbb{Z}\\left \\lbrack \\sqrt{5}\\, \\right \\rbrack$.  The idea is to circumvent floating point calculations (and their associated inaccuracies?) by computing the core part of the $F_{n}$ calculation with\n",
    "integers.\n",
    "\n",
    "The ring $\\left.\\mathbb{Z}\\left\\lbrack\\sqrt{d}\\,\\right\\rbrack \\right.$ is the set of all numbers of the form $a+b\\sqrt{d}$, where $a$ and $b$ are integers\n",
    "\n",
    "Pairs of ints in place of 1 float\n",
    "\n",
    "```python\n",
    "def Zsqrt5_to_Z(a,b):\n",
    "    return a + np.sqrt(5)*b\n",
    "```\n",
    "\n",
    "\n",
    "Various operations in the ring $\\mathbb{Z}\\left\\lbrack\\sqrt{5}\\right\\rbrack$\n",
    "\n",
    "1. (a,b)+(c,d) = (a+c,b+d)\n",
    "\n",
    "2. (a,b)/sqrt(5) = (b,a/5)\n",
    "\n",
    "3. (a,b)(c,d) = (ac+5bd,ad+bc)\n",
    "\n",
    "4. 2phi = (1,1)\n",
    "\n",
    "5.  F(n) = ((2phi)^n - (2-2phi)^n)/(2^n*sqrt(5)).  Uses the dfn of 2phi in 4.  This Binet's formula in \n",
    "-------------------------------------------\n",
    "6.  sqrt(5) = (0,1) = phi + 1/phi\n",
    "\n",
    "7.  phi = (.5,.5), so phi is not in the ring.\n",
    "\n",
    "8.  1/phi = sqrt(5) - phi = (0,1)-(.5,.5) = (-.5,.5), so  1/phi ios notin the ring.\n",
    "\n",
    "9. (a,b)^2 = (a,b)(a,b) = (aa+5bb,ab+ba) = (a^2+5b^2,a^2b^2)\n",
    "    (3) with c=a,d=b\n",
    "    \n",
    "\n",
    "10. Point of Emphasis: the mapping `Z_to_Z5` is only partial, as shown above.  We have\n",
    "    \n",
    "    $$\n",
    "    \\phi = .5 + .5 \\sqrt{5}\n",
    "    $$\n",
    "    \n",
    "    But these are not integers, so $\\phi$ is not in the ring.  But\n",
    "    \n",
    "    $$\n",
    "    2\\phi = 1 + 1 \\sqrt{5},\n",
    "    $$\n",
    "    \n",
    "    so $2\\phi$ is in the ring.  \n",
    "    \n",
    "11.  Similarly, $\\phi^{-1}$ is not in ring because\n",
    "\n",
    "     $$\n",
    "     \\phi^{-1} = -.5 + .5 \\sqrt{5}.\n",
    "     $$\n",
    "  \n",
    "  \n",
    "     but $2\\phi^{-1}$ is, because \n",
    "    \n",
    "  \n",
    "     $$\n",
    "     2\\phi^{-1} = -1 + 1 \\sqrt{5}.\n",
    "     $$\n",
    "  \n",
    "12.   For any integer $n$, $n \\in \\mathbb{Z}\\left\\lbrack\\sqrt{d}\\right\\rbrack$ as $(n,\\,0)$.\n",
    "\n",
    "13.  $2-2\\phi \\in \\mathbb{Z}\\left\\lbrack\\sqrt{d}\\right\\rbrack$  as  $(2,\\,0)-(1,\\,1) =(1,\\,-1)$.\n",
    "\n",
    "14.  This shows how the computation of $F_{n}$ can be done in $\\mathbb{Z}\\left\\lbrack\\sqrt{5}\\right\\rbrack$\n",
    "\n",
    "     $$\n",
    "     \\begin{array}{lcl}\n",
    "     F_{n} &= & \\frac{2^{n}}{2^{n}\\sqrt{5}}\\left \\lbrack\\phi^n - (1-\\phi)^n)\\right \\rbrack\\\\\n",
    "          &= & \\frac{1}{2^{n}\\sqrt{5}}\\left\\lbrack 2^{n}\\phi^n - 2^{n}(1-1\\phi)^n)\\right\\rbrack\\\\\n",
    "          &= &  \\frac{1}{2^{n}\\sqrt{5}}\\left\\lbrack (2\\phi)^n - (2-2\\phi)^n)\\right\\rbrack\n",
    "     \\end{array}\n",
    "     $$\n",
    "     \n",
    "     We know $(2\\phi)$ and $(2-2\\phi)$  are in the ring.  Do we know the ring is closed under multiplication?  It is because of point 3 above.  Therefore it is closed under power-taking. We know the ring is closed under division by $\\sqrt{5}$ (shown above) and closed under division in general when the result is an integer, and it must be here because the result is a Fibonacci number."
   ]
  },
  {
   "cell_type": "code",
   "execution_count": 167,
   "id": "37e28da4",
   "metadata": {
    "scrolled": true
   },
   "outputs": [],
   "source": [
    "import numpy as np\n",
    "phi = (1 + np.sqrt(5))/2\n",
    "psi = -(1/phi)\n",
    "#3^2= (3,0)^2\n",
    "three_Zsqrt5 = np.array((3,0))\n",
    "nine_Zsqrt5  = np.array((9,0))\n",
    "phi_Zsqrt5 = np.array((.5,.5))\n",
    "two_phi_Zsqrt5 = np.array((1,1))\n",
    "# This is 2*((phi^{-1}))\n",
    "two_phi_inv_Zsqrt5 = np.array((-1,1))\n",
    "# This is 2*(-(phi^{-1}))\n",
    "two_psi_Zsqrt5 = np.array((1,-1))\n",
    "two_phi = 2*phi\n",
    "\n",
    "\n",
    "def times_Zsqrt5 (x,y):\n",
    "    (a,b),(c,d) = (x,y)\n",
    "    return  ((a*c)+(5*b*d),(a*d)+(b*c))\n",
    "\n",
    "def plus_Zsqrt5 (x,y):\n",
    "    #(a,b),(c,d) = (x,y)\n",
    "    return  (x[0]+y[0],x[1]+y[1])\n",
    "\n",
    "def minus_Zsqrt5 (x,y):\n",
    "    #(a,b),(c,d) = (x,y)\n",
    "    return  (x[0]-y[0],x[1]-y[1])\n",
    "\n",
    "def two_phi_pow_Zsqrt5 (n):\n",
    "    res = two_phi_Zsqrt5 \n",
    "    for i in range(n-1):\n",
    "        res = times_Zsqrt5(two_phi_Zsqrt5, res)\n",
    "    return res\n",
    "\n",
    "def two_psi_pow_Zsqrt5 (n):\n",
    "    \"\"\"\n",
    "    That is (2psi)^n\n",
    "    \"\"\"\n",
    "    res = two_psi_Zsqrt5\n",
    "    for i in range(n-1):\n",
    "        res = times_Zsqrt5(two_mpsi_Zsqrt5, res)\n",
    "    return res\n",
    "\n",
    "\n",
    "def two_phi_pow_Zsqrt5_2(n):\n",
    "    return 2**n * phi_pow_Z(n)\n",
    "\n",
    "def times_sqrt_5_inv_Zsqrt5 (a,b):\n",
    "    return (b,a/5)\n",
    "\n",
    "def square_Zsqrt5 (a,b):\n",
    "    return  ((a**2)+5*(b**2),(a**2)+(b**2))\n",
    "\n",
    "def Zsqrt5_to_Z(a,b):\n",
    "    return a + np.sqrt(5)*b\n",
    "\n",
    "\n",
    "def fib_Zsqrt5 (n):\n",
    "    \"\"\"\n",
    "    Ok. I confess.  Doing the last step (dividing by 2**n) in Z rather than in Z[sqrt{5}].\n",
    "    Otherwise a faithful implementation of the idea\n",
    "    \n",
    "    Could be fixed with a divide_by_int_Zsqrt5 fn.   Which by all rights would need a membership \n",
    "    check (assert (q[0]%1  == 0) and (q[1]%1  == 0), f\"{q} is not in the ring\") because this\n",
    "    is not a general operation on the ring. Or go completelt binary on the int reps, so \n",
    "    divdiing x by 2^n is a rightward shift of n bits, legal when the last n binary digits of x are 0.\n",
    "    \n",
    "    Warning this encounters int overflow warnings for n> 37\n",
    "    \"\"\"\n",
    "    return Zsqrt5_to_Z(*times_sqrt_5_inv_Zsqrt5 (*minus_Zsqrt5 (two_phi_pow_Zsqrt5(n),two_psi_pow_Zsqrt5(n))))/2**n\n",
    "\n",
    "#########################################################\n",
    "# Unneeded and incorrect\n",
    "#########################################################\n",
    "\n",
    "def phi_pow_Zsqrt5 (n):\n",
    "    \"\"\"\n",
    "    phi is not in the ring.  two_phi is.  So we\n",
    "    do this weirdly.\n",
    "    \"\"\"\n",
    "    return two_phi_pow_Zsqrt5 (n)/2**n\n",
    "\n",
    "def phi_pow_Zsqrt5(n):\n",
    "    \"\"\"\n",
    "    This is correct but not computed in the ring.,\n",
    "    \"\"\"\n",
    "    return ((fibonacci_seq_n(n) * phi_Z5) + np.array([fibonacci_seq_n(n-1),0]))\n",
    "\n",
    "def phi_inv_pow_Zsqrt5(n):\n",
    "    \"\"\"\n",
    "    This is correct but not computed in the ring.,\n",
    "    \"\"\"\n",
    "    return ((fibonacci_seq_n(n) * phi_Z5) + (-1)**(n+1)* np.array([fibonacci_seq_n(n-1),0]))\n",
    "\n",
    "\n",
    "def Z_to_Zsqrt5 (x):\n",
    "    \"\"\"\n",
    "    Incorrect version\n",
    "    \n",
    "    Check for membership in the ring, then return integer pair\n",
    "    \n",
    "    This works for  2phi and 2psi and correctly rejects phi and psi.\n",
    "    \n",
    "    This is the hard case\n",
    "    \n",
    "        x = np.sqrt(5)-1  |-> (-1, 1)\n",
    "        b,a = divmod(x,np.sqrt(5))\n",
    "        >>> b,a\n",
    "        (0.0, 1.2360679774997898)  # == x\n",
    "    \"\"\"\n",
    "    if x%1  == 0:\n",
    "        return (x,0)\n",
    "    else:\n",
    "        b,a = divmod(x,np.sqrt(5))\n",
    "        assert (a%1  == 0) and (b%1  == 0), f\"{x} is not in the ring\"\n",
    "        return (a,b)\n",
    "\n",
    "\n",
    "#print(Zsqrt5_to_Z(*three_Zsqrt5),Zsqrt5_to_Z(*nine_Zsqrt5))\n",
    "\n",
    "#square_Zsqrt5 (*phi_Zsqrt5)"
   ]
  },
  {
   "cell_type": "markdown",
   "id": "4a5984a0",
   "metadata": {},
   "source": [
    "`fib_Zsqrt5` uses Binet's formula but is in fact more accurate than the  straightforward implementation of Binet's Formula."
   ]
  },
  {
   "cell_type": "code",
   "execution_count": 168,
   "id": "7d3a60ac",
   "metadata": {
    "scrolled": false
   },
   "outputs": [
    {
     "data": {
      "text/plain": [
       "24157817.0"
      ]
     },
     "execution_count": 168,
     "metadata": {},
     "output_type": "execute_result"
    }
   ],
   "source": [
    "n=37\n",
    "fib_Zsqrt5 (n)"
   ]
  },
  {
   "cell_type": "markdown",
   "id": "7c395f56",
   "metadata": {},
   "source": [
    "Binet's Formula:"
   ]
  },
  {
   "cell_type": "code",
   "execution_count": 164,
   "id": "47f36bc9",
   "metadata": {
    "scrolled": true
   },
   "outputs": [
    {
     "data": {
      "text/plain": [
       "24157817.000000026"
      ]
     },
     "execution_count": 164,
     "metadata": {},
     "output_type": "execute_result"
    }
   ],
   "source": [
    "1/np.sqrt(5)*(phi**n - psi**n)"
   ]
  },
  {
   "cell_type": "markdown",
   "id": "f23947da",
   "metadata": {},
   "source": [
    "The iterative calculation."
   ]
  },
  {
   "cell_type": "code",
   "execution_count": 165,
   "id": "66bd1f94",
   "metadata": {},
   "outputs": [
    {
     "data": {
      "text/plain": [
       "24157817"
      ]
     },
     "execution_count": 165,
     "metadata": {},
     "output_type": "execute_result"
    }
   ],
   "source": [
    "fibonacci_seq_n(n)"
   ]
  },
  {
   "cell_type": "markdown",
   "id": "2641f43b",
   "metadata": {},
   "source": [
    "In my implementation (which could stand improvement), the function `fib_Zsqrt5` is in fact both slower and more restricted than the other Fibonacci functions.  It is more restricted in that it incurs int overflow warnings for values of `n` over 37"
   ]
  },
  {
   "cell_type": "markdown",
   "id": "71f142a9",
   "metadata": {},
   "source": [
    "The error arises in a muliplication step in calculating $(2\\phi)^{n}$"
   ]
  },
  {
   "cell_type": "code",
   "execution_count": 110,
   "id": "aa79a201",
   "metadata": {},
   "outputs": [
    {
     "name": "stderr",
     "output_type": "stream",
     "text": [
      "/var/folders/w9/bx4mylnd27g_kqqgn5hrn2x40000gr/T/ipykernel_1161/1657987761.py:17: RuntimeWarning: overflow encountered in scalar add\n",
      "  return  ((a*c)+(5*b*d),(a*d)+(b*c))\n"
     ]
    },
    {
     "data": {
      "text/plain": [
       "(-6434056859916697600, 5372237040496672768)"
      ]
     },
     "execution_count": 110,
     "metadata": {},
     "output_type": "execute_result"
    }
   ],
   "source": [
    "n=38\n",
    "two_phi_pow_Zsqrt5(n)"
   ]
  },
  {
   "cell_type": "markdown",
   "id": "283897e9",
   "metadata": {},
   "source": [
    "The solution is to switch to an \"open\" representation of integers such as a binary array of arbitrary length, with no \"max int.\""
   ]
  },
  {
   "cell_type": "code",
   "execution_count": null,
   "id": "9a92d7ec",
   "metadata": {},
   "outputs": [],
   "source": []
  }
 ],
 "metadata": {
  "kernelspec": {
   "display_name": "Python 3 (ipykernel)",
   "language": "python",
   "name": "python3"
  },
  "language_info": {
   "codemirror_mode": {
    "name": "ipython",
    "version": 3
   },
   "file_extension": ".py",
   "mimetype": "text/x-python",
   "name": "python",
   "nbconvert_exporter": "python",
   "pygments_lexer": "ipython3",
   "version": "3.12.5"
  }
 },
 "nbformat": 4,
 "nbformat_minor": 5
}
