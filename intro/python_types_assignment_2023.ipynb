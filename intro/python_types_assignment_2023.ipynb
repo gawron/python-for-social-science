{
 "cells": [
  {
   "cell_type": "markdown",
   "metadata": {
    "colab_type": "text",
    "id": "ZIBX7u_RW74U"
   },
   "source": [
    "# Python Types Assignment 2023"
   ]
  },
  {
   "cell_type": "markdown",
   "metadata": {
    "colab_type": "text",
    "id": "nIt_8QZrW74V"
   },
   "source": [
    "Name/RedID:"
   ]
  },
  {
   "cell_type": "code",
   "execution_count": null,
   "metadata": {},
   "outputs": [],
   "source": []
  },
  {
   "cell_type": "markdown",
   "metadata": {},
   "source": [
    "General Directions.  First double click on the cell above labeled `Name/RedID` and enter that information.  Then complete the assignment below, answering the questions by writing Python expressions in the code cells provided.  In all cases, check your answers by executing the code cell to verify that the output is appropriate.  In some cases you may have to create code or text (**markup**) cells of your own to provide an answer.  Please be sure you know how to do this (read the [Jupyter Notebook](https://www.dataquest.io/blog/jupyter-notebook-tutorial/) or [Google Colab](https://colab.research.google.com/notebooks/basic_features_overview.ipynb) docs) as it will be a regular part of assignments and exams.\n",
    "\n",
    "After you have completed the assignment to your satisfaction, you can download the notebook to your machine as a Notebook file (extension `.ipynb`) **and** as a Python file (extension `.py`).  The notebook file is for your own use\n",
    "for review and revision.  The Python file is what you will submit on Canvas to receive credit for this assignment. You should keep copies of both and update both if needed.  Despite the weird extension, the Python (.py) file is just a text file and you can look at it using any text editor or viewer and you should do that to verify it contains all your work. Do not edit the file using a text editor (especially Word).  If you find a problem and you want to change something, restart your notebook and  edit that and re-execute any relevant code cells and re-save both the notebook and Python versions.  Submit **only** the Python (.py) file.  Notebook (.ipynb) files will not be opened.\n",
    "\n",
    "When running Google Colab, an alternative to downloading your notebook file to your local machine is to\n",
    "save it to your Google Drive (Menu path: `File > Save a Copy in Drive`).  You can then run it directly\n",
    "from your Google Drive.  My notebook files all appear in a folder on my Google Drive named `Colab Notebooks`.\n",
    "Note that Google executes the `Save a Copy` command by creating a copy with a name containing the prefix `Copy of` (for example,`Copy of python_types_assignment_2023`).  From now on, when you save the notebook, just use the `File > Save`  command, or your Google Drive will contain a chain of copies with ever lengthening names like `Copy of Copy of ....`.\n",
    "\n",
    "It is **highly recommended** that you install an Anaconda Python distribution on your home machine (the latest\n",
    "version is 688 MB and provides Python 3.9) since it has all the basics for the this course and since it allows\n",
    "you to run assignment notebooks on your own machine as Jupyter notebooks (even if you first completed\n",
    "the assignment in Google Colab).  Even if you do not install Python, you can run a saved Notebook in \n",
    "Google Colab as follows:\n",
    "\n",
    ">Go to [https://colab.research.google.com/](https://colab.research.google.com/) and login with your google account. You can choose to import your notebook either from Google drive, a local file, or Github. After you have the notebook open go to the top right and click connect. (Thanks to [Jessica Green at medium.com](https://medium.com/@jessica0greene/running-your-notebooks-in-the-cloud-with-google-colab-4387529bfad4#:~:text=Go%20to%20https%3A%2F%2Fcolab,top%20right%20and%20click%20connect.) for this)."
   ]
  },
  {
   "cell_type": "markdown",
   "metadata": {
    "colab_type": "text",
    "id": "_3Sm1M10W74W"
   },
   "source": [
    "## Part One"
   ]
  },
  {
   "cell_type": "markdown",
   "metadata": {
    "colab_type": "text",
    "id": "kWYWYfMiW74W"
   },
   "source": [
    "For the problems in Part One, assume all the definitions in the next cell, and check your answers by evaluating the next cell and verifying that your answers give the required results."
   ]
  },
  {
   "cell_type": "code",
   "execution_count": 1,
   "metadata": {
    "colab": {},
    "colab_type": "code",
    "id": "19mvC4k2W74X"
   },
   "outputs": [],
   "source": [
    "# Note: the interpretation we will work with for city distances is that it is a weighted graph representing \n",
    "# city distances.  The weights represent the distance between the cities. \n",
    "city_distances = {'New York': {'Chicago': 790, 'Boston': 215, 'St. Louis': 953, 'Baltimore':188},\n",
    "                   'Chicago': {'Denver': 1_002, 'Omaha': 467, 'Salt Lake City':1_397},\n",
    "                   'Denver': {'Phoenix': 865, 'Salt Lake City': 528, },\n",
    "                   'Phoenix': { 'Albuquerque': 419,  'Reno': 739, 'San Diego': 355},\n",
    "                   'Dallas' : {'Houston': 241}\n",
    "                  }\n",
    "capitals = [ ('France', 'Paris'), ('Italy', 'Rome'), ('Germany', 'Berlin'),  ('England', 'London'),\n",
    "                          ('Sweden', 'Stockholm'), ('Norway', 'Oslo'), ('Poland', 'Warsaw')]\n",
    "country2capital = dict(capitals)\n",
    "dwarves = ('Sneezy', 'Doc', 'Sleepy','Happy','Dopey','Grumpy', 'Bashful')\n",
    "secret_word = \"sesame bagel\"\n",
    "historical_records = [{'name':'Fred Flinstone',\n",
    "                     'spouse': 'Wilma',\n",
    "                       'favorite_tv_shows': ['The Honeymooners', 'The Jetsons'],\n",
    "                      'town of residence': 'Bedrock'},\n",
    "                    {'name':'Barney Rubble',\n",
    "                     'spouse': 'Elizabeth',\n",
    "                     'favorite_tv_shows': ['The Crown', 'Bridgerton'],\n",
    "                      'town of residence': 'Bedrock'},\n",
    "                  ]"
   ]
  },
  {
   "cell_type": "markdown",
   "metadata": {
    "colab_type": "text",
    "id": "ipI_NV8pW74b"
   },
   "source": [
    "In the problems below,  when you are asked to write an expression that \"accesses\". a particular name, that means your answer should **use** that name.  For example, if asked:\n",
    "\n",
    "\n",
    "   Write an expression that accesses `dwarves` and returns the value `'Grumpy'`.\n",
    "\n",
    "\n",
    "You might answer:\n",
    "\n",
    "```\n",
    "dwarves[-2]\n",
    "```\n",
    "\n",
    "because that is an expression that uses the name `dwarves` and returns the value\n",
    "`\"Grumpy\"`, as illustrated in the next cell."
   ]
  },
  {
   "cell_type": "code",
   "execution_count": 3,
   "metadata": {
    "colab": {},
    "colab_type": "code",
    "id": "PLZS5ol9W74c",
    "outputId": "89c6142b-4770-4c1e-e9d6-5f16d17ec41c"
   },
   "outputs": [
    {
     "data": {
      "text/plain": [
       "'Grumpy'"
      ]
     },
     "execution_count": 3,
     "metadata": {},
     "output_type": "execute_result"
    }
   ],
   "source": [
    "dwarves[-2]"
   ]
  },
  {
   "cell_type": "markdown",
   "metadata": {
    "colab_type": "text",
    "id": "-SdNV4DNW74i"
   },
   "source": [
    "## Exercise One\n",
    "\n",
    "In the next cell, write expression that accesses `dwarves` and returns the value `\"Bashful\"`."
   ]
  },
  {
   "cell_type": "code",
   "execution_count": null,
   "metadata": {
    "colab": {},
    "colab_type": "code",
    "id": "Ic5AnNKuW74j"
   },
   "outputs": [],
   "source": []
  },
  {
   "cell_type": "markdown",
   "metadata": {
    "colab_type": "text",
    "id": "nrb4FrpQW74m"
   },
   "source": [
    " "
   ]
  },
  {
   "cell_type": "markdown",
   "metadata": {
    "colab_type": "text",
    "id": "gyonsXZjW74m"
   },
   "source": [
    "## Exercise Two\n",
    "\n",
    "In the next cell, write an expression that accesses `secret_word` and returns the value `\"m\"`.\n",
    "`."
   ]
  },
  {
   "cell_type": "code",
   "execution_count": 10,
   "metadata": {
    "colab": {},
    "colab_type": "code",
    "id": "dLKwzgMKW74n",
    "outputId": "110e6599-5bd7-47af-e9cd-072fe25d06c4"
   },
   "outputs": [
    {
     "data": {
      "text/plain": [
       "'m'"
      ]
     },
     "execution_count": 10,
     "metadata": {},
     "output_type": "execute_result"
    }
   ],
   "source": []
  },
  {
   "cell_type": "markdown",
   "metadata": {
    "colab_type": "text",
    "id": "SqgeJc1jW74p"
   },
   "source": [
    " "
   ]
  },
  {
   "cell_type": "markdown",
   "metadata": {
    "colab_type": "text",
    "id": "IFmMMNrVW74q"
   },
   "source": [
    "## Exercise Three\n",
    "\n",
    "In the next cell, write an expression that accesses `dwarves` and produces an `IndexError`.  Try to make the index you use to access `dwarves` as small as possible."
   ]
  },
  {
   "cell_type": "code",
   "execution_count": 6,
   "metadata": {
    "colab": {},
    "colab_type": "code",
    "id": "DC5oXusOW74r",
    "scrolled": true
   },
   "outputs": [
    {
     "ename": "IndexError",
     "evalue": "tuple index out of range",
     "output_type": "error",
     "traceback": [
      "\u001b[0;31m---------------------------------------------------------------------------\u001b[0m",
      "\u001b[0;31mIndexError\u001b[0m                                Traceback (most recent call last)",
      "\u001b[0;32m<ipython-input-6-0b59d97c647d>\u001b[0m in \u001b[0;36m<module>\u001b[0;34m\u001b[0m\n\u001b[0;32m----> 1\u001b[0;31m \u001b[0mawards\u001b[0m\u001b[0;34m[\u001b[0m\u001b[0mlen\u001b[0m\u001b[0;34m(\u001b[0m\u001b[0mawards\u001b[0m\u001b[0;34m)\u001b[0m\u001b[0;34m]\u001b[0m\u001b[0;34m\u001b[0m\u001b[0;34m\u001b[0m\u001b[0m\n\u001b[0m",
      "\u001b[0;31mIndexError\u001b[0m: tuple index out of range"
     ]
    }
   ],
   "source": []
  },
  {
   "cell_type": "markdown",
   "metadata": {
    "colab_type": "text",
    "id": "SRhYiXRJW74t"
   },
   "source": [
    "## Exercise Four\n",
    "\n",
    "In the next cell, write an expression that accesses `dwarves` and returns `\"ope\"`.  There is more than one answer.  See if you can find two."
   ]
  },
  {
   "cell_type": "code",
   "execution_count": null,
   "metadata": {
    "colab": {},
    "colab_type": "code",
    "id": "sb81tMbDW74u",
    "outputId": "071b430e-a70d-4e89-b892-f8429f3f7c47"
   },
   "outputs": [],
   "source": []
  },
  {
   "cell_type": "markdown",
   "metadata": {
    "colab_type": "text",
    "id": "Yd_mC2AHW74w"
   },
   "source": [
    " ## Exercise Five\n",
    " \n",
    " In the next cell, write **a single Python expression** that accesses `secret_word` and returns\n",
    " \n",
    " ```\n",
    " ['sesame','bagel']\n",
    " ```\n",
    " \n",
    " You will need to use a string **method**, that is, a function called with the syntax `secret_word.function(...)`."
   ]
  },
  {
   "cell_type": "code",
   "execution_count": null,
   "metadata": {
    "colab": {},
    "colab_type": "code",
    "id": "tRmFvB_8W74x",
    "outputId": "a6465e2f-f441-4180-af3a-2fcc595b62a4"
   },
   "outputs": [],
   "source": []
  },
  {
   "cell_type": "markdown",
   "metadata": {
    "colab_type": "text",
    "id": "0c5-_POaW74z"
   },
   "source": [
    " "
   ]
  },
  {
   "cell_type": "markdown",
   "metadata": {
    "colab_type": "text",
    "id": "TyoTDs0_W740"
   },
   "source": [
    "## Exercise Six\n",
    "\n",
    "Explain what happens  when the following expression is evaluated.  Edit it to be an expression that returns `\"h\"`."
   ]
  },
  {
   "cell_type": "code",
   "execution_count": null,
   "metadata": {
    "colab": {},
    "colab_type": "code",
    "id": "jwYjbhIcW740",
    "outputId": "97b85bc1-dede-4790-f7eb-2c2f6868213e",
    "scrolled": true
   },
   "outputs": [
    {
     "ename": "TypeError",
     "evalue": "string indices must be integers",
     "output_type": "error",
     "traceback": [
      "\u001b[0;31m---------------------------------------------------------------------------\u001b[0m",
      "\u001b[0;31mTypeError\u001b[0m                                 Traceback (most recent call last)",
      "\u001b[0;32m<ipython-input-8-f360eac5cd2a>\u001b[0m in \u001b[0;36m<module>\u001b[0;34m()\u001b[0m\n\u001b[0;32m----> 1\u001b[0;31m \u001b[0mawards\u001b[0m\u001b[0;34m[\u001b[0m\u001b[0;36m2\u001b[0m\u001b[0;34m]\u001b[0m\u001b[0;34m[\u001b[0m\u001b[0;34m'n'\u001b[0m\u001b[0;34m]\u001b[0m\u001b[0;34m\u001b[0m\u001b[0m\n\u001b[0m",
      "\u001b[0;31mTypeError\u001b[0m: string indices must be integers"
     ]
    }
   ],
   "source": [
    "dwarves[6]['h']"
   ]
  },
  {
   "cell_type": "markdown",
   "metadata": {},
   "source": [
    "[Your explanation goes here].  Double click on this cell to begin editing.  Type [Shift-Return]  when you're finished writing."
   ]
  },
  {
   "cell_type": "code",
   "execution_count": 1,
   "metadata": {},
   "outputs": [],
   "source": [
    "# Edited version of the Python expression above\n"
   ]
  },
  {
   "cell_type": "markdown",
   "metadata": {
    "colab_type": "text",
    "id": "VabiRPzPW743"
   },
   "source": [
    " "
   ]
  },
  {
   "cell_type": "markdown",
   "metadata": {
    "colab_type": "text",
    "id": "GyNmzb8iW743"
   },
   "source": [
    "## Exercise Seven\n",
    "\n",
    "In the next cell, write an expression that accesses `dwarves[2]` and returns `True`. \n",
    "\n",
    "You will need to perform a Boolean test."
   ]
  },
  {
   "cell_type": "code",
   "execution_count": null,
   "metadata": {
    "colab": {},
    "colab_type": "code",
    "id": "S5ObRPoaW744",
    "outputId": "e8c5adb6-1044-4a86-e65f-ec7c117689db"
   },
   "outputs": [],
   "source": []
  },
  {
   "cell_type": "markdown",
   "metadata": {
    "colab_type": "text",
    "id": "BHPox3R5W747"
   },
   "source": [
    " "
   ]
  },
  {
   "cell_type": "markdown",
   "metadata": {
    "colab_type": "text",
    "id": "MTSVrHjiW747"
   },
   "source": [
    " ## Exercise Eight A\n",
    "\n",
    "In the next cell, write an expression that accesses `capitals` and raises\n",
    "a `TypeError`."
   ]
  },
  {
   "cell_type": "code",
   "execution_count": null,
   "metadata": {
    "colab": {},
    "colab_type": "code",
    "id": "dQlgKSz1W748"
   },
   "outputs": [],
   "source": []
  },
  {
   "cell_type": "markdown",
   "metadata": {
    "colab_type": "text",
    "id": "MTSVrHjiW747"
   },
   "source": [
    "## Exercise Eight B\n",
    "\n",
    "In the next cell, write an expression that accesses `capitals` and raises\n",
    "an `IndexError`.  If this can't be done, explain why."
   ]
  },
  {
   "cell_type": "code",
   "execution_count": null,
   "metadata": {},
   "outputs": [],
   "source": []
  },
  {
   "cell_type": "markdown",
   "metadata": {
    "colab_type": "text",
    "id": "MTSVrHjiW747"
   },
   "source": [
    "## Exercise Eight C\n",
    "\n",
    "In the next cell, write an expression that accesses `capitals` and raises\n",
    "a `KeyError`.  If this can't be done, explain why."
   ]
  },
  {
   "cell_type": "code",
   "execution_count": null,
   "metadata": {},
   "outputs": [],
   "source": []
  },
  {
   "cell_type": "markdown",
   "metadata": {
    "colab_type": "text",
    "id": "o0uOi3F1W74-"
   },
   "source": [
    " "
   ]
  },
  {
   "cell_type": "markdown",
   "metadata": {
    "colab_type": "text",
    "id": "BAs0bfXxW75D"
   },
   "source": [
    "## Exercise Nine \n",
    "\n",
    "In the next cell, write an expression that accesses `city_distances` and returns `419`. "
   ]
  },
  {
   "cell_type": "code",
   "execution_count": null,
   "metadata": {
    "colab": {},
    "colab_type": "code",
    "id": "hVFy1awGW75D"
   },
   "outputs": [],
   "source": []
  },
  {
   "cell_type": "markdown",
   "metadata": {
    "colab_type": "text",
    "id": "CIlyrl7EW75H"
   },
   "source": [
    "## Exercise Ten A\n",
    "\n",
    "In the next cell, write an expression that accesses `capitals` and returns `\"Stockholm\"`. "
   ]
  },
  {
   "cell_type": "code",
   "execution_count": null,
   "metadata": {},
   "outputs": [],
   "source": []
  },
  {
   "cell_type": "markdown",
   "metadata": {
    "colab_type": "text",
    "id": "CIlyrl7EW75H"
   },
   "source": [
    "## Exercise Ten B\n",
    "\n",
    "In the next cell, write an expression that accesses `country2capital` and returns `\"Stockholm\"`. "
   ]
  },
  {
   "cell_type": "code",
   "execution_count": null,
   "metadata": {},
   "outputs": [],
   "source": []
  },
  {
   "cell_type": "markdown",
   "metadata": {
    "colab_type": "text",
    "id": "5rxYWbcJW75L"
   },
   "source": [
    " "
   ]
  },
  {
   "cell_type": "markdown",
   "metadata": {
    "colab_type": "text",
    "id": "s4HBqIahW75M"
   },
   "source": [
    "## Exercise Eleven\n",
    "\n",
    "In the next cell, write an expression that accesses `historical_records` and returns `Jetsons`. \n",
    "(There's more than one way to do this. The easy way uses the `.split(...)` method on strings.)"
   ]
  },
  {
   "cell_type": "code",
   "execution_count": null,
   "metadata": {
    "colab": {},
    "colab_type": "code",
    "id": "gVKYQYLVW75M",
    "outputId": "cdeda932-58b1-4dd7-8caa-dcc3d1a26dcd"
   },
   "outputs": [],
   "source": []
  },
  {
   "cell_type": "markdown",
   "metadata": {
    "colab_type": "text",
    "id": "-7xecYYuW75P"
   },
   "source": [
    " "
   ]
  },
  {
   "cell_type": "markdown",
   "metadata": {
    "colab_type": "text",
    "id": "5WCkETk-W75P"
   },
   "source": [
    "## Exercise Twelve\n",
    "\n",
    "In the next cell, write an expression that accesses `historical_records` and returns `\"roc\"`. "
   ]
  },
  {
   "cell_type": "code",
   "execution_count": null,
   "metadata": {
    "colab": {},
    "colab_type": "code",
    "id": "gL-f2FucW75P",
    "outputId": "d88f1aa6-a77c-4d3a-f60a-87d178ae44c4"
   },
   "outputs": [],
   "source": []
  },
  {
   "cell_type": "markdown",
   "metadata": {
    "colab_type": "text",
    "id": "JbtVOFMCW75S"
   },
   "source": [
    " "
   ]
  },
  {
   "cell_type": "markdown",
   "metadata": {
    "colab_type": "text",
    "id": "NiSCfU1BW75T"
   },
   "source": [
    "## Exercise Thirteen\n",
    "\n",
    "Can you write an expression that sets the first element of `dwarves` to be `\"Thorin\"`.  If not, why not?\n",
    "\n",
    "You may use the next cell to illustrate your answer."
   ]
  },
  {
   "cell_type": "code",
   "execution_count": null,
   "metadata": {},
   "outputs": [],
   "source": []
  },
  {
   "cell_type": "markdown",
   "metadata": {
    "colab_type": "text",
    "id": "H7lDWVTTW75X"
   },
   "source": [
    " "
   ]
  },
  {
   "cell_type": "markdown",
   "metadata": {
    "colab_type": "text",
    "id": "rehiuvcXW75Y"
   },
   "source": [
    "## Exercise Fourteen\n",
    "\n",
    "In the next cell, write an expression that accesses `capitals[-2]` and returns `True`. "
   ]
  },
  {
   "cell_type": "code",
   "execution_count": null,
   "metadata": {},
   "outputs": [],
   "source": []
  },
  {
   "cell_type": "markdown",
   "metadata": {
    "colab_type": "text",
    "id": "Un339aJjW75c"
   },
   "source": [
    " "
   ]
  },
  {
   "cell_type": "markdown",
   "metadata": {
    "colab_type": "text",
    "id": "olFPDUg7W75c"
   },
   "source": [
    "## Exercise Fifteen\n",
    "\n",
    "In the next cell, write an expression that accesses `city_distances` and returns \n",
    "a dictionary with three keys. Would your answer be any different if you were asked to\n",
    "return a dictionary of length 3?  If you say yes, produce a different answer; if\n",
    "you say no, demonstrate that your answer to the first question is also an answer to\n",
    "the second.  You will need to create a new cell below the code cell below this one\n",
    "for your second answer. "
   ]
  },
  {
   "cell_type": "code",
   "execution_count": null,
   "metadata": {
    "colab": {},
    "colab_type": "code",
    "id": "jJNlecohW75Z",
    "outputId": "e24211a3-d70e-4286-f455-97260b32cf07"
   },
   "outputs": [],
   "source": []
  },
  {
   "cell_type": "markdown",
   "metadata": {},
   "source": [
    "## Exercise Sixteen\n",
    "\n",
    "In the next cell update `historical_records` so that Barney Rubble's spouse \n",
    "changes from `\"Elizabeth\"`  to \"`Betty\"`."
   ]
  },
  {
   "cell_type": "code",
   "execution_count": null,
   "metadata": {},
   "outputs": [],
   "source": []
  },
  {
   "cell_type": "markdown",
   "metadata": {},
   "source": [
    "## Exercise Seventeen\n",
    "\n",
    "The next cell raises a `TypeError`.  Explain why. Be sure to say what string is causing the rror."
   ]
  },
  {
   "cell_type": "code",
   "execution_count": 8,
   "metadata": {},
   "outputs": [
    {
     "ename": "TypeError",
     "evalue": "'str' object does not support item assignment",
     "output_type": "error",
     "traceback": [
      "\u001b[0;31m---------------------------------------------------------------------------\u001b[0m",
      "\u001b[0;31mTypeError\u001b[0m                                 Traceback (most recent call last)",
      "Cell \u001b[0;32mIn[8], line 1\u001b[0m\n\u001b[0;32m----> 1\u001b[0m historical_records[\u001b[38;5;241m0\u001b[39m][\u001b[38;5;124m'\u001b[39m\u001b[38;5;124mspouse\u001b[39m\u001b[38;5;124m'\u001b[39m][\u001b[38;5;241m0\u001b[39m]  \u001b[38;5;241m=\u001b[39m \u001b[38;5;124m'\u001b[39m\u001b[38;5;124mV\u001b[39m\u001b[38;5;124m'\u001b[39m\n",
      "\u001b[0;31mTypeError\u001b[0m: 'str' object does not support item assignment"
     ]
    }
   ],
   "source": [
    "historical_records[0]['spouse'][0]  = 'V'"
   ]
  },
  {
   "cell_type": "markdown",
   "metadata": {},
   "source": [
    "## Exercise Eighteen\n",
    "\n",
    "In this problem, your task is to write an assignment statement that changes the distance from\n",
    "Chicago to New York in `city_distances` from 790 to 789."
   ]
  },
  {
   "cell_type": "markdown",
   "metadata": {},
   "source": [
    "Put your answer, which should be an assignment, in the next cell.\n",
    "\n",
    "Be sure to check your answer as well by accessing the updated data value."
   ]
  },
  {
   "cell_type": "code",
   "execution_count": null,
   "metadata": {
    "colab_type": "text",
    "id": "-SmuZa2HW75g"
   },
   "outputs": [],
   "source": [
    " "
   ]
  },
  {
   "cell_type": "markdown",
   "metadata": {
    "colab_type": "text",
    "id": "qwn17TUFW75h"
   },
   "source": [
    "##       Part Two"
   ]
  },
  {
   "cell_type": "markdown",
   "metadata": {
    "colab_type": "text",
    "id": "Ma_hoftyW75h"
   },
   "source": [
    "Write down expressions to retrieve the given values from the given variables."
   ]
  },
  {
   "cell_type": "markdown",
   "metadata": {
    "colab_type": "text",
    "id": "XvH9JnpVW75i"
   },
   "source": [
    "1) `'pp'` from `dwarves`"
   ]
  },
  {
   "cell_type": "code",
   "execution_count": null,
   "metadata": {
    "colab": {},
    "colab_type": "code",
    "id": "grPenshDW75i",
    "outputId": "52cecfc9-790a-4667-e4b5-5dd5f720ea56"
   },
   "outputs": [],
   "source": []
  },
  {
   "cell_type": "markdown",
   "metadata": {
    "colab_type": "text",
    "id": "hCEFKZu0W75k"
   },
   "source": [
    "2) `'rsa'` from `country2capital`"
   ]
  },
  {
   "cell_type": "code",
   "execution_count": null,
   "metadata": {
    "colab": {},
    "colab_type": "code",
    "id": "YfPfNTfrW75k",
    "outputId": "a931dd1e-f360-49d9-9d39-08e79ef23307"
   },
   "outputs": [],
   "source": []
  },
  {
   "cell_type": "markdown",
   "metadata": {
    "colab_type": "text",
    "id": "AziVAtqLW75n"
   },
   "source": [
    "3) `'rma'` from `capitals`"
   ]
  },
  {
   "cell_type": "code",
   "execution_count": null,
   "metadata": {
    "colab": {},
    "colab_type": "code",
    "id": "Kd0ImWxkW75o",
    "outputId": "a31041b9-fd94-428a-f36b-def3cca2f4eb"
   },
   "outputs": [],
   "source": []
  },
  {
   "cell_type": "markdown",
   "metadata": {
    "colab_type": "text",
    "id": "FAG5HtfyW75q"
   },
   "source": [
    "4) `'rma'` from `country2capital` (Hint:  You will need to use a method appropriate for the container\n",
    "this substring is in)"
   ]
  },
  {
   "cell_type": "code",
   "execution_count": null,
   "metadata": {
    "colab": {},
    "colab_type": "code",
    "id": "1RbAp7uVW75r",
    "outputId": "c42c809b-edcf-449d-ccca-341ce47b44ce"
   },
   "outputs": [],
   "source": []
  },
  {
   "cell_type": "markdown",
   "metadata": {
    "colab_type": "text",
    "id": "7ZMgB6DRW75t"
   },
   "source": [
    "## Part Three"
   ]
  },
  {
   "cell_type": "markdown",
   "metadata": {
    "colab": {},
    "colab_type": "code",
    "id": "S0LjtauVW75t",
    "outputId": "08d92e1d-a903-45f4-9282-5fb7184b112e"
   },
   "source": [
    "The `city_distances` dictionary provides information about distances between U. S. city pairs.  It does not cover all U.S. city pairs; in fact it only covers  13 city pairs.  Besides its incompleteness, there is a significant problem with how the information is represented.  In this problem you will reoorganize the data and represent it in a way\n",
    "that fixes this problem.\n",
    "\n",
    "Here is a hint as to what the problem is. Even though `city_distances` contains information about the distance between Chicago and New York, the following is an error:"
   ]
  },
  {
   "cell_type": "code",
   "execution_count": 2,
   "metadata": {},
   "outputs": [
    {
     "ename": "KeyError",
     "evalue": "'New York'",
     "output_type": "error",
     "traceback": [
      "\u001b[0;31m---------------------------------------------------------------------------\u001b[0m",
      "\u001b[0;31mKeyError\u001b[0m                                  Traceback (most recent call last)",
      "\u001b[0;32m/var/folders/w9/bx4mylnd27g_kqqgn5hrn2x40000gr/T/ipykernel_60197/824707247.py\u001b[0m in \u001b[0;36m<module>\u001b[0;34m\u001b[0m\n\u001b[0;32m----> 1\u001b[0;31m \u001b[0mcity_distances\u001b[0m\u001b[0;34m[\u001b[0m\u001b[0;34m'Chicago'\u001b[0m\u001b[0;34m]\u001b[0m\u001b[0;34m[\u001b[0m\u001b[0;34m'New York'\u001b[0m\u001b[0;34m]\u001b[0m\u001b[0;34m\u001b[0m\u001b[0m\n\u001b[0m",
      "\u001b[0;31mKeyError\u001b[0m: 'New York'"
     ]
    }
   ],
   "source": [
    "city_distances['Chicago']['New York']"
   ]
  },
  {
   "cell_type": "markdown",
   "metadata": {},
   "source": [
    "Notice it's not that the data is being looked up in a way inconsistent with the dictionary's design.  The following is fine:"
   ]
  },
  {
   "cell_type": "code",
   "execution_count": 13,
   "metadata": {},
   "outputs": [
    {
     "data": {
      "text/plain": [
       "419"
      ]
     },
     "execution_count": 13,
     "metadata": {},
     "output_type": "execute_result"
    }
   ],
   "source": [
    "city_distances['Phoenix']['Albuquerque']"
   ]
  },
  {
   "cell_type": "markdown",
   "metadata": {},
   "source": [
    "Imagine that the typical user can't look at the definition of the dictionary.  They know how to use it\n",
    "and they know the city pairs that it covers. Explain the problem and why this puts an undue burden on the user. Hint: How **do** you look up the distance between Chicago and New York? Come up with a different way of representing the same data that solves this problem. Note:  Your solution should not introduce redundancy into the representation.  Don't store the same piece of information twice.  Your solution  should give the user one fairly natural way of looking up any of the 13 distances available in the data.  And it should not require the user to know any arbitrary facts about how any indvidual city distance is stored. \n",
    "\n",
    "This problem is about designing a a good way to represent some information. You can illustrate your \n",
    "design idea without typing in all 13 city pairs.  How about just doing three, one of which should\n",
    "be Chicago and New York?"
   ]
  },
  {
   "cell_type": "markdown",
   "metadata": {
    "colab_type": "text",
    "id": "VJQo1KOhW75w"
   },
   "source": [
    "  "
   ]
  }
 ],
 "metadata": {
  "colab": {
   "name": "python_types_assignment_2020.ipynb",
   "provenance": []
  },
  "kernelspec": {
   "display_name": "Python 3 (ipykernel)",
   "language": "python",
   "name": "python3"
  },
  "language_info": {
   "codemirror_mode": {
    "name": "ipython",
    "version": 3
   },
   "file_extension": ".py",
   "mimetype": "text/x-python",
   "name": "python",
   "nbconvert_exporter": "python",
   "pygments_lexer": "ipython3",
   "version": "3.7.0"
  },
  "toc": {
   "base_numbering": 1,
   "nav_menu": {
    "height": "67px",
    "width": "252px"
   },
   "number_sections": true,
   "sideBar": true,
   "skip_h1_title": false,
   "title_cell": "Table of Contents",
   "title_sidebar": "Contents",
   "toc_cell": false,
   "toc_position": {},
   "toc_section_display": "block",
   "toc_window_display": false
  }
 },
 "nbformat": 4,
 "nbformat_minor": 1
}
