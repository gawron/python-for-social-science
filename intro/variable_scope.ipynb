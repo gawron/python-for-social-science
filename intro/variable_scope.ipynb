{
 "cells": [
  {
   "cell_type": "markdown",
   "metadata": {},
   "source": [
    "# Variable scope"
   ]
  },
  {
   "cell_type": "markdown",
   "metadata": {},
   "source": [
    "In reading this section, it probably helps to remember the following Groucho Marx line:  \"Outside of  dog, a book is man's best friend.  Inside of a dog, it's too dark to read.\""
   ]
  },
  {
   "cell_type": "markdown",
   "metadata": {},
   "source": [
    "## Using a local variable"
   ]
  },
  {
   "cell_type": "code",
   "execution_count": 2,
   "metadata": {},
   "outputs": [
    {
     "name": "stdout",
     "output_type": "stream",
     "text": [
      "outside of a dog, a book is man's best friend\n",
      "inside of a dog, it's too dark to read\n",
      "we're back outside of the dog again\n",
      "and a book is again man's best friend\n"
     ]
    }
   ],
   "source": [
    "a_book = \"man's best friend\"\n",
    "print(\"outside of a dog, a book is\", a_book)\n",
    "\n",
    "def a_dog():\n",
    "    a_book = \"too dark to read\"\n",
    "    print(\"inside of a dog, it's\", a_book)\n",
    "\n",
    "a_dog()\n",
    "print(\"we're back outside of the dog again\")\n",
    "print(\"and a book is again\", a_book)"
   ]
  },
  {
   "cell_type": "markdown",
   "metadata": {},
   "source": [
    "What's happened is this.  In line 1, the variable *a_book* is set globally.  In line 2, the value is printed.  In lines 4-7, a function named *a_dog* is defined which resets the variable value (line 5) and then prints the value (line 6).  In line 8, the function *a_dog* is run, and in line 10, the value is printed again. So the value of *a_book* is printed three times, once before running *a_dog*, once inside *a_dog*, and once after running *a_dog*.  We see that, as might be expected, it changes inside *a_dog*.  What might be less expected is that it changes back to the value it had before after *a_dog* is run.  The assignment of the value in line 5 is just temporary (or *local*).  This is a general feature of Python.  As a rule, variables set inside functions don't retain their value after the function is executed.  This is sometimes inconvenient.  For example, you cat pass a variable storing a count in to a function and have the function return an incremented count.  But there are other ways to get this sort of thing accomplished."
   ]
  },
  {
   "cell_type": "markdown",
   "metadata": {},
   "source": [
    "## Using a global variable"
   ]
  },
  {
   "cell_type": "code",
   "execution_count": null,
   "metadata": {},
   "outputs": [],
   "source": [
    "a_book = \"man's best friend\"\n",
    "print(\"outside of a dog, a book is\", a_book)\n",
    "def a_bright_dog():\n",
    "    print(\"inside of THIS dog, a book is still\", a_book)\n",
    "a_bright_dog()"
   ]
  },
  {
   "cell_type": "markdown",
   "metadata": {},
   "source": [
    "## Declaring a variable global"
   ]
  },
  {
   "cell_type": "code",
   "execution_count": null,
   "metadata": {},
   "outputs": [],
   "source": [
    "eggcolor = \"green\"\n",
    "meat = \"ham\"\n",
    "print(eggcolor, \"eggs and\", meat)\n",
    "def breakfast():\n",
    "    global eggcolor\n",
    "    eggcolor = \"red\"\n",
    "    meat = \"bacon\"\n",
    "    print(eggcolor, \"eggs and\", meat)\n",
    "breakfast()\n",
    "print(eggcolor, \"eggs and\", meat)"
   ]
  }
 ],
 "metadata": {
  "kernelspec": {
   "display_name": "Python 3 (ipykernel)",
   "language": "python",
   "name": "python3"
  },
  "language_info": {
   "codemirror_mode": {
    "name": "ipython",
    "version": 3
   },
   "file_extension": ".py",
   "mimetype": "text/x-python",
   "name": "python",
   "nbconvert_exporter": "python",
   "pygments_lexer": "ipython3",
   "version": "3.7.0"
  },
  "toc": {
   "colors": {
    "hover_highlight": "#DAA520",
    "running_highlight": "#FF0000",
    "selected_highlight": "#FFD700"
   },
   "moveMenuLeft": true,
   "nav_menu": {
    "height": "66px",
    "width": "252px"
   },
   "navigate_menu": true,
   "number_sections": true,
   "sideBar": true,
   "threshold": 4,
   "toc_cell": false,
   "toc_section_display": "block",
   "toc_window_display": false,
   "widenNotebook": false
  }
 },
 "nbformat": 4,
 "nbformat_minor": 1
}
