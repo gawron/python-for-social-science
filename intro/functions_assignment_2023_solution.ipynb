{
 "cells": [
  {
   "cell_type": "markdown",
   "metadata": {},
   "source": [
    "# Functions, types, loops assignment"
   ]
  },
  {
   "cell_type": "markdown",
   "metadata": {},
   "source": [
    "## Exercise 1"
   ]
  },
  {
   "cell_type": "markdown",
   "metadata": {},
   "source": [
    "Add a line of code that will generate the give output::\n",
    " \n",
    "     In [ ]: a_list = [2,7,8, 19]\n",
    "             YOUR CODE HERE\n",
    "     Out [ ]: 2\n",
    "     \n",
    "NOTE: The idea of this kind of exercise is to write a line of code\n",
    "that will produce the given output, 2 in this case.  Your\n",
    "answer goes in the next cell, which is a code cell.  It should this be an\n",
    "expression that operates on `a_list`.  A simple correct answer is:\n",
    "\n",
    "     In [ ]: a_list = [2,7,8, 19]\n",
    "             a_list[0]\n",
    "     Out [ ]: 2\n",
    "     \n",
    "Don't forget to evaluate the cell after you've written in your answer to generate Python's output and check your answer!\n"
   ]
  },
  {
   "cell_type": "code",
   "execution_count": 1,
   "metadata": {},
   "outputs": [
    {
     "data": {
      "text/plain": [
       "2"
      ]
     },
     "execution_count": 1,
     "metadata": {},
     "output_type": "execute_result"
    }
   ],
   "source": [
    "a_list = [2,7,8, 19]\n",
    "a_list[0]"
   ]
  },
  {
   "cell_type": "markdown",
   "metadata": {},
   "source": [
    "## Exercise 2"
   ]
  },
  {
   "cell_type": "markdown",
   "metadata": {},
   "source": [
    "  Write a line of code that produces the given output.  Use a splice with a \"steps\" component.\n",
    "   \n",
    "    In [ ]: X = 'abcdefghij'\n",
    "             YOUR CODE HERE\n",
    "    Out [ ]: 'acegi'"
   ]
  },
  {
   "cell_type": "code",
   "execution_count": 18,
   "metadata": {},
   "outputs": [
    {
     "name": "stdout",
     "output_type": "stream",
     "text": [
      "cdefgh\n",
      "ceg\n"
     ]
    }
   ],
   "source": [
    "X = 'abcdefghij'\n",
    "print(X[2:8:1])\n",
    "print(X[2:8:2])"
   ]
  },
  {
   "cell_type": "code",
   "execution_count": 22,
   "metadata": {},
   "outputs": [
    {
     "data": {
      "text/plain": [
       "'acegi'"
      ]
     },
     "execution_count": 22,
     "metadata": {},
     "output_type": "execute_result"
    }
   ],
   "source": [
    "X  = 'abcdefghij'\n",
    "X[0:10:2]"
   ]
  },
  {
   "cell_type": "markdown",
   "metadata": {},
   "source": [
    "## Exercise 3"
   ]
  },
  {
   "cell_type": "markdown",
   "metadata": {},
   "source": [
    " Write a line of code that produces the given output: \n",
    "   \n",
    "     In [ ]: S, T = set('abc'), set('cde')\n",
    "           YOUR CODE HERE\n",
    "     Out [ ]: {'c'}\n",
    "\n",
    "Hint.  Each Python type has its own methods.  For instance, strings have a `.title()` method that capitalizes them.  For this problem use a method that is particular to **sets** on the two sets `S` and `T`.  See the [Set Operations Notebook](https://colab.research.google.com/github/gawron/python-for-social-science/blob/master/intro/set_operations.ipynb) for a discussion of set methods. Also see [Van DerPlas's Whirlwind Tour, Ch. 6.](https://colab.research.google.com/github/jakevdp/WhirlwindTourOfPython/blob/6f1daf714fe52a8dde6a288674ba46a7feed8816/06-Built-in-Data-Structures.ipynb) "
   ]
  },
  {
   "cell_type": "code",
   "execution_count": 24,
   "metadata": {},
   "outputs": [],
   "source": [
    "S, T = set('abc'), set('cde')"
   ]
  },
  {
   "cell_type": "code",
   "execution_count": 25,
   "metadata": {},
   "outputs": [
    {
     "data": {
      "text/plain": [
       "{'a', 'b', 'c'}"
      ]
     },
     "execution_count": 25,
     "metadata": {},
     "output_type": "execute_result"
    }
   ],
   "source": [
    "S"
   ]
  },
  {
   "cell_type": "code",
   "execution_count": 26,
   "metadata": {},
   "outputs": [
    {
     "data": {
      "text/plain": [
       "{'c', 'd', 'e'}"
      ]
     },
     "execution_count": 26,
     "metadata": {},
     "output_type": "execute_result"
    }
   ],
   "source": [
    "T"
   ]
  },
  {
   "cell_type": "code",
   "execution_count": 27,
   "metadata": {},
   "outputs": [
    {
     "data": {
      "text/plain": [
       "{'c'}"
      ]
     },
     "execution_count": 27,
     "metadata": {},
     "output_type": "execute_result"
    }
   ],
   "source": [
    "S&T"
   ]
  },
  {
   "cell_type": "code",
   "execution_count": 28,
   "metadata": {},
   "outputs": [
    {
     "data": {
      "text/plain": [
       "{'c'}"
      ]
     },
     "execution_count": 28,
     "metadata": {},
     "output_type": "execute_result"
    }
   ],
   "source": [
    "S.intersection(T)"
   ]
  },
  {
   "cell_type": "markdown",
   "metadata": {},
   "source": [
    "## Exercise 4"
   ]
  },
  {
   "cell_type": "markdown",
   "metadata": {},
   "source": [
    " Write a line of code that produces the given output: \n",
    "   \n",
    "     In [ ]: a_list = [2,7,8, 19]\n",
    "           YOUR CODE HERE\n",
    "     Out [ ]: [22,27,28,39]\n",
    "    \n",
    "Hint: Try a list comprehension. Look at [Whirlwind Tour](https://colab.research.google.com/github/jakevdp/WhirlwindTourOfPython/blob/6f1daf714fe52a8dde6a288674ba46a7feed8816/11-List-Comprehensions.ipynb) for a quick review of list comprehensions."
   ]
  },
  {
   "cell_type": "code",
   "execution_count": 4,
   "metadata": {},
   "outputs": [],
   "source": [
    "a_list = [2,7,8, 19]\n",
    "[x+20 for x in a_list]"
   ]
  },
  {
   "cell_type": "markdown",
   "metadata": {},
   "source": [
    "## Exercise 5"
   ]
  },
  {
   "cell_type": "markdown",
   "metadata": {},
   "source": [
    "Write a line of code that produces the given output.\n",
    "\n",
    "Hint Remember that list comprehensions can also be used as filters. Look at [Whirlwind Tour](https://colab.research.google.com/github/jakevdp/WhirlwindTourOfPython/blob/6f1daf714fe52a8dde6a288674ba46a7feed8816/11-List-Comprehensions.ipynb) for a quick review of list comprehensions.\n",
    "\n",
    "```\n",
    "In [ ]: a_list = [2,7,8, 19]\n",
    "In [ ]: # Your code           \n",
    "Out [ ]: [22,27]\n",
    " ```"
   ]
  },
  {
   "cell_type": "code",
   "execution_count": 30,
   "metadata": {},
   "outputs": [
    {
     "data": {
      "text/plain": [
       "[22, 27]"
      ]
     },
     "execution_count": 30,
     "metadata": {},
     "output_type": "execute_result"
    }
   ],
   "source": [
    "# YOUR CODE GOES UNDER HERE\n",
    "a_list = [2,7,8, 19]\n",
    "\n",
    "[x+20 for x in a_list if x < 8]"
   ]
  },
  {
   "cell_type": "markdown",
   "metadata": {},
   "source": [
    "## Exercise 6"
   ]
  },
  {
   "cell_type": "markdown",
   "metadata": {},
   "source": [
    "Write a function that finds all the consonants in a string.  As a help, the list of vowels is given below.  The beginning\n",
    "of the function definition has been given with a `pass` as the body.  \n",
    "\n",
    "It should work as in the following examples.\n",
    "\n",
    "```\n",
    ">>> find_consonants('baker')\n",
    "'bkr'\n",
    ">>> find_consonants('abracadabra')\n",
    "'brcdbr'\n",
    ">>> find_consonants('mississippi is the place for me')\n",
    "'mssssppsthplcfrm'\n",
    "```\n",
    "\n",
    "As the argument of the function, use the name that has been supplied.\n",
    "Replace the `pass` with the correct definition of the function.\n",
    "\n",
    "For those interested in more of a challenge, you may add 'sometimes y' to the list of vowels. The letter `'y'` is a vowel in \"Mary\" and \"Plymouth\" and \"play\", but not in \"youth\"."
   ]
  },
  {
   "cell_type": "code",
   "execution_count": null,
   "metadata": {},
   "outputs": [],
   "source": [
    "vowels = 'aeiou'\n",
    "def find_consonants():\n",
    "    pass"
   ]
  },
  {
   "cell_type": "code",
   "execution_count": 34,
   "metadata": {},
   "outputs": [
    {
     "data": {
      "text/plain": [
       "['b', 'k', 'r']"
      ]
     },
     "execution_count": 34,
     "metadata": {},
     "output_type": "execute_result"
    }
   ],
   "source": [
    "#  STEP BY STEP SOLUTION\n",
    "# Write a list comprehension that removes the non vowels in a string S\n",
    "vowels = 'aeiou'\n",
    "X = 'baker'\n",
    "L = [let for let in X if let not in vowels]\n",
    "L"
   ]
  },
  {
   "cell_type": "code",
   "execution_count": 35,
   "metadata": {},
   "outputs": [
    {
     "data": {
      "text/plain": [
       "'bkr'"
      ]
     },
     "execution_count": 35,
     "metadata": {},
     "output_type": "execute_result"
    }
   ],
   "source": [
    "# Turn L into a string\n",
    "''.join(L)"
   ]
  },
  {
   "cell_type": "code",
   "execution_count": 51,
   "metadata": {},
   "outputs": [],
   "source": [
    "#  Wrap this code in a function definition. making sure\n",
    "#  to chose a parameter name X consistent with\n",
    "#  how you wrote your code and include a return statement\n",
    "\n",
    "vowels = 'aeiou'\n",
    "\n",
    "def find_consonants(X):\n",
    "    L = [let for let in X if let not in vowels]\n",
    "    return ''.join(L)"
   ]
  },
  {
   "cell_type": "code",
   "execution_count": 46,
   "metadata": {},
   "outputs": [
    {
     "data": {
      "text/plain": [
       "'bkr'"
      ]
     },
     "execution_count": 46,
     "metadata": {},
     "output_type": "execute_result"
    }
   ],
   "source": [
    "## test\n",
    "find_consonants('baker')"
   ]
  },
  {
   "cell_type": "code",
   "execution_count": 47,
   "metadata": {},
   "outputs": [
    {
     "data": {
      "text/plain": [
       "'brcdbr'"
      ]
     },
     "execution_count": 47,
     "metadata": {},
     "output_type": "execute_result"
    }
   ],
   "source": [
    "find_consonants('abracadabra')"
   ]
  },
  {
   "cell_type": "code",
   "execution_count": 48,
   "metadata": {},
   "outputs": [
    {
     "data": {
      "text/plain": [
       "'msssspp s th plc fr m'"
      ]
     },
     "execution_count": 48,
     "metadata": {},
     "output_type": "execute_result"
    }
   ],
   "source": [
    "find_consonants('mississippi is the place for me')"
   ]
  },
  {
   "cell_type": "markdown",
   "metadata": {},
   "source": [
    "Last example doesn't work as advertised.  Diagnosis: we should\n",
    "remove spaces along with consonants.  Keep the good ideas\n",
    "we've used so far.  Redefine what we omit. New version."
   ]
  },
  {
   "cell_type": "code",
   "execution_count": 53,
   "metadata": {},
   "outputs": [],
   "source": [
    "omit = vowels + ' '\n",
    "def find_consonants(X):\n",
    "    L = [let for let in X if let not in omit]\n",
    "    return ''.join(L)"
   ]
  },
  {
   "cell_type": "code",
   "execution_count": 54,
   "metadata": {},
   "outputs": [
    {
     "data": {
      "text/plain": [
       "'mssssppsthplcfrm'"
      ]
     },
     "execution_count": 54,
     "metadata": {},
     "output_type": "execute_result"
    }
   ],
   "source": [
    "find_consonants('mississippi is the place for me')"
   ]
  },
  {
   "cell_type": "markdown",
   "metadata": {},
   "source": [
    "## Exercise 7"
   ]
  },
  {
   "cell_type": "markdown",
   "metadata": {},
   "source": [
    " Write a line of code that operates on `XX` and produces the given output: \n",
    "   \n",
    "     In [ ]: XX = 'bad good sad happy'\n",
    "           YOUR CODE HERE\n",
    "     Out [ ]: [True, False, True, False]\n",
    "  \n",
    " Hint:  Try a list comprehension that collects\n",
    "  a list of the results of a Boolean test.  But remember that the elements of a string\n",
    "  are characters.  You can turn `XX` into a list of length 4 with a simple operation \n",
    "  discussed in the python_types_nb.\n"
   ]
  },
  {
   "cell_type": "markdown",
   "metadata": {},
   "source": [
    "Solution"
   ]
  },
  {
   "cell_type": "code",
   "execution_count": 1,
   "metadata": {},
   "outputs": [
    {
     "data": {
      "text/plain": [
       "[True, False, True, False]"
      ]
     },
     "execution_count": 1,
     "metadata": {},
     "output_type": "execute_result"
    }
   ],
   "source": [
    "XX = 'bad good sad happy' \n",
    "# Your code here\n",
    "[len(x)==3 for x in XX.split()]"
   ]
  },
  {
   "cell_type": "markdown",
   "metadata": {},
   "source": [
    "## Exercise 8"
   ]
  },
  {
   "cell_type": "markdown",
   "metadata": {},
   "source": [
    "You're having a big party.\n",
    "\n",
    "The guests will be boys and girls.   The lists are defined for you in the next cell.\n",
    "There should be 24 pairings since the pairing ('Huey', 'Susan') should count\n",
    "as the same dance partnership as ('Susan','Huey'). \n",
    "\n",
    "You want to make sure there are enough dance partners and that they are all compatible.  Write a single list comprehension that will compute every possible pairing of a boy with a girl.  \n",
    "\n",
    "Hint:\n",
    "The list built by the list comprehension will be a list of tuples of length 2."
   ]
  },
  {
   "cell_type": "code",
   "execution_count": 5,
   "metadata": {},
   "outputs": [
    {
     "data": {
      "text/plain": [
       "[('Susan', 'Huey'),\n",
       " ('Susan', 'Fred'),\n",
       " ('Susan', 'Jason'),\n",
       " ('Susan', 'Ed'),\n",
       " ('Susan', 'Albert'),\n",
       " ('Susan', 'Louie'),\n",
       " ('Paula', 'Huey'),\n",
       " ('Paula', 'Fred'),\n",
       " ('Paula', 'Jason'),\n",
       " ('Paula', 'Ed'),\n",
       " ('Paula', 'Albert'),\n",
       " ('Paula', 'Louie'),\n",
       " ('Barbara', 'Huey'),\n",
       " ('Barbara', 'Fred'),\n",
       " ('Barbara', 'Jason'),\n",
       " ('Barbara', 'Ed'),\n",
       " ('Barbara', 'Albert'),\n",
       " ('Barbara', 'Louie'),\n",
       " ('Felicia', 'Huey'),\n",
       " ('Felicia', 'Fred'),\n",
       " ('Felicia', 'Jason'),\n",
       " ('Felicia', 'Ed'),\n",
       " ('Felicia', 'Albert'),\n",
       " ('Felicia', 'Louie')]"
      ]
     },
     "execution_count": 5,
     "metadata": {},
     "output_type": "execute_result"
    }
   ],
   "source": [
    "boys = 'Huey Fred Jason Ed Albert Louie'.split()\n",
    "girls = 'Susan Paula Barbara Felicia'.split()\n",
    "# Your code here\n",
    "[(g,b)  for g in girls for b in boys]"
   ]
  },
  {
   "cell_type": "markdown",
   "metadata": {},
   "source": [
    "## Exercise 9"
   ]
  },
  {
   "cell_type": "markdown",
   "metadata": {},
   "source": [
    "You suddenly remember that boys don't always dance with girls and girls don't always dance with boys.\n",
    "And there are people who are neither who are also guests at the party.  You compile a list of neithers.  \n",
    "\n",
    "Using the `boys` and `girls` lists from the last problem and the `neither` list below,\n",
    "write another list comprehension that finds **all** the possible dance partners, that is\n",
    "every pair of guests at the party, regardless of whether they are boys or girls or neither.\n",
    "But remember: people can't dance with themselves (at least not for the dances that will\n",
    "played at this party).\n",
    "\n",
    "If your final list has 169 members, people are dancing with themselves.\n",
    "\n",
    "If your final list has 156 members, it's because you have both ('Huey', 'Fred') and ('Fred', 'Huey') as possible dance partners. This is a bug.  They are just one happy couple.\n",
    "One way to fix this is do a set comprehension but then the final set you collect can't\n",
    "just be a set of two-member tuples or you'll have 156 of them.\n",
    "\n",
    "Another way to fix this is with `enumerate` as shown in the function-nb notebook.\n",
    "\n",
    "The correct answer has 78 dance couples."
   ]
  },
  {
   "cell_type": "markdown",
   "metadata": {},
   "source": [
    "Solution: One way to look at this is from the point of view of\n",
    "the fiurst member of each pair.  We need never to consider pairing any second member \n",
    "whose pairs have already been computed with any first member.\n",
    "Enumerate allows us to do this by keeping track of what first members we\n",
    "have already paired."
   ]
  },
  {
   "cell_type": "code",
   "execution_count": 10,
   "metadata": {},
   "outputs": [
    {
     "name": "stdout",
     "output_type": "stream",
     "text": [
      "78\n"
     ]
    },
    {
     "data": {
      "text/plain": [
       "[('Huey', 'Fred'),\n",
       " ('Huey', 'Jason'),\n",
       " ('Huey', 'Ed'),\n",
       " ('Huey', 'Albert'),\n",
       " ('Huey', 'Louie'),\n",
       " ('Huey', 'Susan'),\n",
       " ('Huey', 'Paula'),\n",
       " ('Huey', 'Barbara'),\n",
       " ('Huey', 'Felicia'),\n",
       " ('Huey', 'Lee'),\n",
       " ('Huey', 'Sam'),\n",
       " ('Huey', 'Kim'),\n",
       " ('Fred', 'Jason'),\n",
       " ('Fred', 'Ed'),\n",
       " ('Fred', 'Albert'),\n",
       " ('Fred', 'Louie'),\n",
       " ('Fred', 'Susan'),\n",
       " ('Fred', 'Paula'),\n",
       " ('Fred', 'Barbara'),\n",
       " ('Fred', 'Felicia'),\n",
       " ('Fred', 'Lee'),\n",
       " ('Fred', 'Sam'),\n",
       " ('Fred', 'Kim'),\n",
       " ('Jason', 'Ed'),\n",
       " ('Jason', 'Albert'),\n",
       " ('Jason', 'Louie'),\n",
       " ('Jason', 'Susan'),\n",
       " ('Jason', 'Paula'),\n",
       " ('Jason', 'Barbara'),\n",
       " ('Jason', 'Felicia'),\n",
       " ('Jason', 'Lee'),\n",
       " ('Jason', 'Sam'),\n",
       " ('Jason', 'Kim'),\n",
       " ('Ed', 'Albert'),\n",
       " ('Ed', 'Louie'),\n",
       " ('Ed', 'Susan'),\n",
       " ('Ed', 'Paula'),\n",
       " ('Ed', 'Barbara'),\n",
       " ('Ed', 'Felicia'),\n",
       " ('Ed', 'Lee'),\n",
       " ('Ed', 'Sam'),\n",
       " ('Ed', 'Kim'),\n",
       " ('Albert', 'Louie'),\n",
       " ('Albert', 'Susan'),\n",
       " ('Albert', 'Paula'),\n",
       " ('Albert', 'Barbara'),\n",
       " ('Albert', 'Felicia'),\n",
       " ('Albert', 'Lee'),\n",
       " ('Albert', 'Sam'),\n",
       " ('Albert', 'Kim'),\n",
       " ('Louie', 'Susan'),\n",
       " ('Louie', 'Paula'),\n",
       " ('Louie', 'Barbara'),\n",
       " ('Louie', 'Felicia'),\n",
       " ('Louie', 'Lee'),\n",
       " ('Louie', 'Sam'),\n",
       " ('Louie', 'Kim'),\n",
       " ('Susan', 'Paula'),\n",
       " ('Susan', 'Barbara'),\n",
       " ('Susan', 'Felicia'),\n",
       " ('Susan', 'Lee'),\n",
       " ('Susan', 'Sam'),\n",
       " ('Susan', 'Kim'),\n",
       " ('Paula', 'Barbara'),\n",
       " ('Paula', 'Felicia'),\n",
       " ('Paula', 'Lee'),\n",
       " ('Paula', 'Sam'),\n",
       " ('Paula', 'Kim'),\n",
       " ('Barbara', 'Felicia'),\n",
       " ('Barbara', 'Lee'),\n",
       " ('Barbara', 'Sam'),\n",
       " ('Barbara', 'Kim'),\n",
       " ('Felicia', 'Lee'),\n",
       " ('Felicia', 'Sam'),\n",
       " ('Felicia', 'Kim'),\n",
       " ('Lee', 'Sam'),\n",
       " ('Lee', 'Kim'),\n",
       " ('Sam', 'Kim')]"
      ]
     },
     "execution_count": 10,
     "metadata": {},
     "output_type": "execute_result"
    }
   ],
   "source": [
    "neither = 'Lee Sam Kim'.split()\n",
    "dancers = boys + girls + neither\n",
    "# Your code here\n",
    "partners = [(d1,d2) for (i,d1) in enumerate(dancers) for d2 in dancers[i+1:]]\n",
    "print(len(partners))\n",
    "partners"
   ]
  },
  {
   "cell_type": "markdown",
   "metadata": {},
   "source": [
    "One of you came up with a different, clever angle of attack.\n",
    "Only produce dance pairs that are in \n",
    "alphabetical order. This simultaneously solves the problem of never\n",
    "pairing anyone with themselves and never producing\n",
    "both the pair ('Huey', 'Fred') and ('Fred', 'Huey').\n",
    "Only the second pair is produced because that's\n",
    "the only one where the names are in alphabetical order.\n",
    "And similarly for all possible pairs (x,y) and (y,x).\n",
    "Only the one where x and y are in alphabetical; order will\n",
    "be produced.\n",
    "\n",
    "Of course this would not work if there were any name duplicates\n",
    "(two Dales, one male, one female; or two Dales, both male),\n",
    "but that was not the case in the data I gave you.\n",
    "\n",
    "See the next cell."
   ]
  },
  {
   "cell_type": "code",
   "execution_count": 12,
   "metadata": {},
   "outputs": [
    {
     "data": {
      "text/plain": [
       "78"
      ]
     },
     "execution_count": 12,
     "metadata": {},
     "output_type": "execute_result"
    }
   ],
   "source": [
    "partners = [(x,y) for x in dancers for y in dancers if x < y ]\n",
    "len(partners)"
   ]
  },
  {
   "cell_type": "markdown",
   "metadata": {},
   "source": [
    "There is another simpler way to solve the problem we just solved, which is not quite as\n",
    "useful as a programming exercise.\n",
    "\n",
    "That is to use itertools."
   ]
  },
  {
   "cell_type": "code",
   "execution_count": 15,
   "metadata": {},
   "outputs": [
    {
     "data": {
      "text/plain": [
       "78"
      ]
     },
     "execution_count": 15,
     "metadata": {},
     "output_type": "execute_result"
    }
   ],
   "source": [
    "from itertools import combinations\n",
    "\n",
    "partners = list(combinations(dancers,2))\n",
    "len(partners)"
   ]
  },
  {
   "cell_type": "markdown",
   "metadata": {},
   "source": [
    "## Exercise 9"
   ]
  },
  {
   "cell_type": "markdown",
   "metadata": {},
   "source": [
    "Write a **function** `remainder_one` that takes two arguments `dividend` and `divisor`; `remainder_one`  returns `True` when the result of dividing the `dividend` by  the `divisor` has a remainder of 1, and `False` when the remainder is some other integer;`remainder_one`  should return nothing (`None`) when either argument is a non-integer.  It's okay to raise an Exception for non numbers.  The `divisor` argument should be optional and should have a default value of `3`.\n",
    "\n",
    "Here is how it should  work:\n",
    "\n",
    "```\n",
    ">>> print(remainder_one(14,3))\n",
    "False\n",
    ">>> print(remainder_one(14))\n",
    "False\n",
    ">>> print(remainder_one(16,3))\n",
    "True\n",
    ">>> print(remainder_one(16))\n",
    "True\n",
    ">>> print(remainder_one(16.0))\n",
    "True\n",
    ">>> print(remainder_one(16,2))\n",
    "False\n",
    ">>> print(remainder_one(16.1))\n",
    "None\n",
    "```\n",
    "\n",
    "#### Many ignored this example\n",
    "\n",
    "print(remainder_one(16.0))\n",
    "\n",
    "#### Many ignored this example\n",
    "\n",
    "print(remainder_one(16.1))\n",
    "\n",
    "How will you test if something is an integer?  Usually this test\n",
    "would work:\n",
    "\n",
    "```\n",
    ">>> isinstance(16, int)\n",
    "True\n",
    "```\n",
    "\n",
    "but it won't work here because as the examples above show, we want 16.0\n",
    "to count as an integer and it doesn't per this test:\n",
    "\n",
    "```\n",
    ">>> isinstance(16.0, int)\n",
    "False\n",
    "```"
   ]
  },
  {
   "cell_type": "markdown",
   "metadata": {},
   "source": [
    "### Many did not make use of the following suggestion\n",
    "\n",
    "***Try the following idea.  If the remainder is 0 when divided by 1,\n",
    "it's an integer.***"
   ]
  },
  {
   "cell_type": "markdown",
   "metadata": {},
   "source": [
    "### Solution"
   ]
  },
  {
   "cell_type": "markdown",
   "metadata": {},
   "source": [
    "Your function body can be written in 2 lines of code.  Don't worry greatly\n",
    "if it is longer than that.\n",
    "\n",
    "Here are two equivalent versions of a solution."
   ]
  },
  {
   "cell_type": "markdown",
   "metadata": {},
   "source": [
    "Solution One:"
   ]
  },
  {
   "cell_type": "code",
   "execution_count": null,
   "metadata": {},
   "outputs": [],
   "source": [
    "def remainder_one (dividend, divisor=3):\n",
    "    if dividend%1 == 0: # Check if dividend is an integer\n",
    "        return dividend%divisor == 1"
   ]
  },
  {
   "cell_type": "markdown",
   "metadata": {},
   "source": [
    "Solution Two:"
   ]
  },
  {
   "cell_type": "code",
   "execution_count": 16,
   "metadata": {},
   "outputs": [],
   "source": [
    "def remainder_one (dividend, divisor=3):\n",
    "    if dividend%1 == 0: # Check if dividend is an integer\n",
    "        return dividend%divisor == 1\n",
    "    else:\n",
    "        return None"
   ]
  },
  {
   "cell_type": "markdown",
   "metadata": {},
   "source": [
    "Comment:"
   ]
  },
  {
   "cell_type": "markdown",
   "metadata": {},
   "source": [
    "The second version is completely equivalent to the less verbose version above it.\n",
    "\n",
    "It's worth understanding why.  \n",
    "\n",
    "If the `if` test in the first version fails, the function returns `None`,\n",
    "and that's what we want it to do, so the `else: return None` used in the second version\n",
    "is unnecessary."
   ]
  },
  {
   "cell_type": "markdown",
   "metadata": {},
   "source": [
    "This is in turn is completely equivalent to the even more verbose version below.\n",
    "\n",
    "It's worthwhile understanding why, so you can write less verbose Boolean tests."
   ]
  },
  {
   "cell_type": "code",
   "execution_count": null,
   "metadata": {},
   "outputs": [],
   "source": [
    "def remainder_one (dividend, divisor=3):\n",
    "    if dividend%1 == 0: # Check if dividend is an integer\n",
    "        if dividend%divisor == 1:\n",
    "            return True\n",
    "        else:\n",
    "            return False\n",
    "    else:\n",
    "        return None"
   ]
  },
  {
   "cell_type": "markdown",
   "metadata": {},
   "source": [
    "Many of you did not check all the examples given.  You always should.  Cut and paste the examples above into a code cell.  Keep track of what values they should produce in comments  "
   ]
  },
  {
   "cell_type": "code",
   "execution_count": 17,
   "metadata": {
    "scrolled": true
   },
   "outputs": [
    {
     "name": "stdout",
     "output_type": "stream",
     "text": [
      "False\n",
      "False\n",
      "True\n",
      "True\n",
      "True\n",
      "False\n",
      "None\n"
     ]
    }
   ],
   "source": [
    "print(remainder_one(14,3))\n",
    "#False\n",
    "print(remainder_one(14))\n",
    "#False\n",
    "print(remainder_one(16,3))\n",
    "#True\n",
    "print(remainder_one(16))\n",
    "#True\n",
    "print(remainder_one(16.0))\n",
    "#True\n",
    "print(remainder_one(16,2))\n",
    "#False\n",
    "print(remainder_one(16.1))\n",
    "#None"
   ]
  },
  {
   "cell_type": "markdown",
   "metadata": {},
   "source": [
    "### Solution ends here"
   ]
  },
  {
   "cell_type": "markdown",
   "metadata": {},
   "source": [
    "## Exercise 10"
   ]
  },
  {
   "cell_type": "markdown",
   "metadata": {},
   "source": [
    "Write a function that converts temperatures (as\n",
    "numbers) from Fahrenheit to Celsius scale. The temperature should be\n",
    "optional and its default value should be 32.  Here are some examples showing\n",
    "how you **call** the `fahrenheit-to_celsius` function and what it returns:\n",
    "\n",
    "```\n",
    "    In [ ]:  fahrenheit_to_celsius(212)\n",
    "    Out [ ]: 100\n",
    "    In [ ]: fahrenheit_to_celsius(-40)\n",
    "    Out [ ]: -40.0\n",
    "    In [ ]:  fahrenheit_to_celsius(32)\n",
    "    Out [ ]: 0\n",
    "    In [ ]:  fahrenheit_to_celsius()\n",
    "    Out [ ]: 0    \n",
    "```\n",
    "\n",
    "Please include a cell printing out your validation tests to show you have checked your work (which of course you **always** do).   \n",
    "To create new cells to demonstrate all the examples, you hold down the `[Control]` key while pressing `M` and then typing `b` (for \"below\").\n"
   ]
  },
  {
   "cell_type": "code",
   "execution_count": 71,
   "metadata": {},
   "outputs": [],
   "source": [
    "def fahrenheit_to_celsius(f=32):\n",
    "    return (f-32)*(5/9)"
   ]
  },
  {
   "cell_type": "code",
   "execution_count": 72,
   "metadata": {},
   "outputs": [
    {
     "name": "stdout",
     "output_type": "stream",
     "text": [
      "100.0\n",
      "-40.0\n",
      "0.0\n",
      "0.0\n"
     ]
    }
   ],
   "source": [
    "print(fahrenheit_to_celsius(212))\n",
    "#100\n",
    "print(fahrenheit_to_celsius(-40))\n",
    "#-40\n",
    "print(fahrenheit_to_celsius(32))\n",
    "#0\n",
    "print(fahrenheit_to_celsius())\n",
    "#0"
   ]
  },
  {
   "cell_type": "markdown",
   "metadata": {},
   "source": [
    "### Comment"
   ]
  },
  {
   "cell_type": "markdown",
   "metadata": {},
   "source": [
    "A frequent incorrect response  was to omit making the argument optional,\n",
    "which whoul;d have made the final test fail."
   ]
  },
  {
   "cell_type": "code",
   "execution_count": 19,
   "metadata": {},
   "outputs": [],
   "source": [
    "def fahrenheit_to_celsius_buggy(f):\n",
    "    return (f-32)*(5/9)"
   ]
  },
  {
   "cell_type": "code",
   "execution_count": 20,
   "metadata": {},
   "outputs": [
    {
     "ename": "TypeError",
     "evalue": "fahrenheit_to_celsius_buggy() missing 1 required positional argument: 'f'",
     "output_type": "error",
     "traceback": [
      "\u001b[0;31m---------------------------------------------------------------------------\u001b[0m",
      "\u001b[0;31mTypeError\u001b[0m                                 Traceback (most recent call last)",
      "\u001b[0;32m/var/folders/w9/bx4mylnd27g_kqqgn5hrn2x40000gr/T/ipykernel_53530/2750140037.py\u001b[0m in \u001b[0;36m<module>\u001b[0;34m\u001b[0m\n\u001b[0;32m----> 1\u001b[0;31m \u001b[0mprint\u001b[0m\u001b[0;34m(\u001b[0m\u001b[0mfahrenheit_to_celsius_buggy\u001b[0m\u001b[0;34m(\u001b[0m\u001b[0;34m)\u001b[0m\u001b[0;34m)\u001b[0m\u001b[0;34m\u001b[0m\u001b[0;34m\u001b[0m\u001b[0m\n\u001b[0m\u001b[1;32m      2\u001b[0m \u001b[0;31m#0\u001b[0m\u001b[0;34m\u001b[0m\u001b[0;34m\u001b[0m\u001b[0m\n",
      "\u001b[0;31mTypeError\u001b[0m: fahrenheit_to_celsius_buggy() missing 1 required positional argument: 'f'"
     ]
    }
   ],
   "source": [
    "print(fahrenheit_to_celsius_buggy())\n",
    "#0"
   ]
  },
  {
   "cell_type": "markdown",
   "metadata": {},
   "source": [
    "The response below worked and would be a full credit answer on the midterm, but notice  how much less elegant it is than the model response.  The model\n",
    "response takes advantage of the fact that the behavior when no argument\n",
    "was passed is the same as when f=32, which was illustrated for you\n",
    "in the test examples."
   ]
  },
  {
   "cell_type": "code",
   "execution_count": 21,
   "metadata": {},
   "outputs": [],
   "source": [
    "def fahrenheit_to_celsius_okay(f=None):\n",
    "    if f == None:\n",
    "        return 0\n",
    "    return (f-32)*(5/9)"
   ]
  },
  {
   "cell_type": "markdown",
   "metadata": {},
   "source": [
    "## Exercise 11"
   ]
  },
  {
   "cell_type": "markdown",
   "metadata": {},
   "source": [
    "Write a function that can compute the difference between two temperatures.  Assume the\n",
    "input temperatures are Fahrenheit and the output temperatures are Celsius. You should take the differences in Celsus, as shown in the examples below. "
   ]
  },
  {
   "cell_type": "markdown",
   "metadata": {},
   "source": [
    "#### Many people ignored this instruction\n",
    "\n",
    "Your\n",
    "definition should **call** the `fahrenheit_to_celsius`  function you defined in the previous problem, so **don't** just copy and paste the code from thefunction body.  "
   ]
  },
  {
   "cell_type": "markdown",
   "metadata": {},
   "source": [
    "Assume the first argument is obligatory and then the second argument is optional.  When the second argument is omitted, just return the result of converting the first argument to Celsius.\n",
    "Show that you have checked your work, using all of the following examples.\n",
    "\n",
    "Here is how the function should work:\n",
    "\n",
    "```\n",
    "    In [ ]:  fahrenheit_to_celsius_diff(212,32)\n",
    "    Out [ ]: 100\n",
    "    In [ ]: fahrenheit_to_celsius_diff(-40, 212)\n",
    "    Out [ ]: -140.0\n",
    "    In [ ]:  fahrenheit_to_celsius_diff(212)\n",
    "    Out [ ]: 100\n",
    "    In [ ]:  fahrenheit_to_celsius_diff(212, 0)\n",
    "    Out [ ]: 117.78\n",
    "\n",
    "```"
   ]
  },
  {
   "cell_type": "markdown",
   "metadata": {},
   "source": [
    "### Solution"
   ]
  },
  {
   "cell_type": "code",
   "execution_count": 22,
   "metadata": {
    "scrolled": true
   },
   "outputs": [],
   "source": [
    "\n",
    "def fahrenheit_to_celsius_diff(f1, f2=32):\n",
    "    return fahrenheit_to_celsius(f1) - fahrenheit_to_celsius(f2)"
   ]
  },
  {
   "cell_type": "code",
   "execution_count": 78,
   "metadata": {},
   "outputs": [
    {
     "name": "stdout",
     "output_type": "stream",
     "text": [
      "100.0\n",
      "-140.0\n",
      "100.0\n",
      "117.77777777777777\n"
     ]
    }
   ],
   "source": [
    "print(fahrenheit_to_celsius_diff(212,32))\n",
    "#    Out [ ]: 100\n",
    "print(fahrenheit_to_celsius_diff(-40, 212))\n",
    "#    Out [ ]: -140.0\n",
    "print(fahrenheit_to_celsius_diff(212))\n",
    "#    Out [ ]: 100\n",
    "print(fahrenheit_to_celsius_diff(212, 0))\n",
    "#    Out [ ]: 117.78"
   ]
  },
  {
   "cell_type": "markdown",
   "metadata": {},
   "source": [
    "#### Comment\n",
    "\n",
    "A frequent error was to ignore the instruction to\n",
    "***call*** the function `fahrenheit_to_celsius` defined in\n",
    "the previous problem.  That looks like this:"
   ]
  },
  {
   "cell_type": "code",
   "execution_count": 29,
   "metadata": {},
   "outputs": [],
   "source": [
    "def fahrenheit_to_celsius_diff_incorrect(f1, f2=32):\n",
    "    return ((f1-32)*(5/9)) - ((f2-32)*(5/9))"
   ]
  },
  {
   "cell_type": "markdown",
   "metadata": {},
   "source": [
    "It passes ***all*** the tests:"
   ]
  },
  {
   "cell_type": "code",
   "execution_count": 31,
   "metadata": {},
   "outputs": [
    {
     "name": "stdout",
     "output_type": "stream",
     "text": [
      "100.0\n",
      "-140.0\n",
      "100.0\n",
      "117.77777777777777\n"
     ]
    }
   ],
   "source": [
    "print(fahrenheit_to_celsius_diff_incorrect(212,32))\n",
    "#    Out [ ]: 100\n",
    "print(fahrenheit_to_celsius_diff_incorrect(-40, 212))\n",
    "#    Out [ ]: -140.0\n",
    "print(fahrenheit_to_celsius_diff_incorrect(212))\n",
    "#    Out [ ]: 100\n",
    "print(fahrenheit_to_celsius_diff_incorrect(212, 0))\n",
    "#    Out [ ]: 117.78"
   ]
  },
  {
   "cell_type": "markdown",
   "metadata": {},
   "source": [
    "So why is it wrong? \n",
    "\n",
    "Because this was a very easy problem whose only purpose was to begin writing code that builds on your previous successes.\n",
    "\n",
    "And the only way to do that is to wrap your code up into functions and\n",
    "***use*** those function definitions in other code. \n",
    "What `fahrenheit_to_celsius_diff` does in the correct solution\n",
    "is to **call** `fahrenheit_to_celsius`, making it easier to read and re-use."
   ]
  },
  {
   "cell_type": "markdown",
   "metadata": {},
   "source": [
    "## Sudoku:  More list comprehension"
   ]
  },
  {
   "cell_type": "markdown",
   "metadata": {},
   "source": [
    "This is the dreaded blank page problem I promised you at the beginning of the course.\n",
    "\n",
    "You are essentially being asked to write a non-trivial function from scratch.  The functions notebook tried to give you some hints, so try to read that material before doing this.  Here we present the helper code and the problem."
   ]
  },
  {
   "cell_type": "markdown",
   "metadata": {},
   "source": [
    "For this exercise, execute the code below; we will use it, but only briefly discuss how it works. "
   ]
  },
  {
   "cell_type": "markdown",
   "metadata": {},
   "source": [
    "The code below is a simplified subset of the code defined in the functions_nb.  This version is slightly simpler than the code there and understanding this part of the code will help you complete this exercise.  You should make sure you understand how it works."
   ]
  },
  {
   "cell_type": "code",
   "execution_count": 35,
   "metadata": {},
   "outputs": [],
   "source": [
    "def cross(A, B):\n",
    "    \"\"\"\n",
    "    Cross product of elements in sequence A and elements in sequence B. \n",
    "    When a and b are strings, we just concatenate them.\n",
    "    \"\"\"\n",
    "    return [a+b for a in A for b in B]\n",
    "\n",
    "\n",
    "digits   = '123456789'\n",
    "rows     = 'ABCDEFGHI'\n",
    "cols     = digits\n",
    "squares  = cross(rows, cols)\n",
    "unitlist = ([cross(rows, c) for c in cols] +\n",
    "            [cross(r, cols) for r in rows] +\n",
    "            [cross(rs, cs) for rs in ('ABC','DEF','GHI') for cs in ('123','456','789')])\n",
    "\n",
    "# Assign to each square s A set of sets of squares\n",
    "units = dict((s, [u for u in unitlist if s in u])\n",
    "             for s in squares)\n",
    "## Assign to each square s a set of squares, namely those that cant have the same value as s.\n",
    "peers = dict((s, set(sum(units[s],[]))-set([s]))\n",
    "             for s in squares)\n",
    "\n",
    "\n",
    "def grid_values(grid):\n",
    "    \"Convert grid into a dict of {square: char} with '0' or '.' for empties.\"\n",
    "    chars = [c for c in grid if c in digits or c in '0.']\n",
    "    assert len(chars) == 81\n",
    "    return dict(list(zip(squares, chars)))\n",
    "\n",
    "digits   = '123456789'\n",
    "rows     = 'ABCDEFGHI'\n",
    "cols     = digits\n",
    "squares  = cross(rows, cols)\n",
    "unitlist = ([cross(rows, c) for c in cols] +\n",
    "            [cross(r, cols) for r in rows] +\n",
    "            [cross(rs, cs) for rs in ('ABC','DEF','GHI') for cs in ('123','456','789')])\n",
    "\n",
    "# Assign to each square s A set of sets of squares\n",
    "units = dict((s, [u for u in unitlist if s in u])\n",
    "             for s in squares)\n",
    "## Assign to each square s a set of squares, namely those that cant have the same value as s.\n",
    "peers = dict((s, set(sum(units[s],[]))-set([s]))\n",
    "             for s in squares)\n",
    "\n",
    "##############################################################################################\n",
    "#  S o m e    D a t a    t o    P r a c t i c e     O n\n",
    "##############################################################################################\n",
    "grid1  = '003020600900305001001806400008102900700000008006708200002609500800203009005010300'\n",
    "grid1_soln = '483921657967345821251876493548132976729564138136798245372689514814253769695417382'\n",
    "grid2  = '003020600900305001001806400008102900700000008006708200002689500800203009005010300'\n",
    "# Some illegal grids (they break the rules of Sudoku)\n",
    "grid3  = '003020600900305001001806400008102900700000008006708200002609500800203089005010300'\n",
    "grid4  = '003020609900305001001806400008102900700000008006708200002609500800203009005010300'\n",
    "grid5  = '003020600900305061001806400008102900700000008006708200002609500800203009005010300'"
   ]
  },
  {
   "cell_type": "code",
   "execution_count": 14,
   "metadata": {},
   "outputs": [
    {
     "data": {
      "text/plain": [
       "{'A1': '0',\n",
       " 'A2': '0',\n",
       " 'A3': '3',\n",
       " 'A4': '0',\n",
       " 'A5': '2',\n",
       " 'A6': '0',\n",
       " 'A7': '6',\n",
       " 'A8': '0',\n",
       " 'A9': '0',\n",
       " 'B1': '9',\n",
       " 'B2': '0',\n",
       " 'B3': '0',\n",
       " 'B4': '3',\n",
       " 'B5': '0',\n",
       " 'B6': '5',\n",
       " 'B7': '0',\n",
       " 'B8': '0',\n",
       " 'B9': '1',\n",
       " 'C1': '0',\n",
       " 'C2': '0',\n",
       " 'C3': '1',\n",
       " 'C4': '8',\n",
       " 'C5': '0',\n",
       " 'C6': '6',\n",
       " 'C7': '4',\n",
       " 'C8': '0',\n",
       " 'C9': '0',\n",
       " 'D1': '0',\n",
       " 'D2': '0',\n",
       " 'D3': '8',\n",
       " 'D4': '1',\n",
       " 'D5': '0',\n",
       " 'D6': '2',\n",
       " 'D7': '9',\n",
       " 'D8': '0',\n",
       " 'D9': '0',\n",
       " 'E1': '7',\n",
       " 'E2': '0',\n",
       " 'E3': '0',\n",
       " 'E4': '0',\n",
       " 'E5': '0',\n",
       " 'E6': '0',\n",
       " 'E7': '0',\n",
       " 'E8': '0',\n",
       " 'E9': '8',\n",
       " 'F1': '0',\n",
       " 'F2': '0',\n",
       " 'F3': '6',\n",
       " 'F4': '7',\n",
       " 'F5': '0',\n",
       " 'F6': '8',\n",
       " 'F7': '2',\n",
       " 'F8': '0',\n",
       " 'F9': '0',\n",
       " 'G1': '0',\n",
       " 'G2': '0',\n",
       " 'G3': '2',\n",
       " 'G4': '6',\n",
       " 'G5': '0',\n",
       " 'G6': '9',\n",
       " 'G7': '5',\n",
       " 'G8': '0',\n",
       " 'G9': '0',\n",
       " 'H1': '8',\n",
       " 'H2': '0',\n",
       " 'H3': '0',\n",
       " 'H4': '2',\n",
       " 'H5': '0',\n",
       " 'H6': '3',\n",
       " 'H7': '0',\n",
       " 'H8': '8',\n",
       " 'H9': '9',\n",
       " 'I1': '0',\n",
       " 'I2': '0',\n",
       " 'I3': '5',\n",
       " 'I4': '0',\n",
       " 'I5': '1',\n",
       " 'I6': '0',\n",
       " 'I7': '3',\n",
       " 'I8': '0',\n",
       " 'I9': '0'}"
      ]
     },
     "execution_count": 14,
     "metadata": {},
     "output_type": "execute_result"
    }
   ],
   "source": [
    "grid_values(grid3)"
   ]
  },
  {
   "cell_type": "code",
   "execution_count": 10,
   "metadata": {},
   "outputs": [
    {
     "data": {
      "text/plain": [
       "False"
      ]
     },
     "execution_count": 10,
     "metadata": {},
     "output_type": "execute_result"
    }
   ],
   "source": [
    "grid3==grid2"
   ]
  },
  {
   "cell_type": "code",
   "execution_count": 7,
   "metadata": {},
   "outputs": [
    {
     "data": {
      "text/plain": [
       "False"
      ]
     },
     "execution_count": 7,
     "metadata": {},
     "output_type": "execute_result"
    }
   ],
   "source": [
    "grid2==grid3"
   ]
  },
  {
   "cell_type": "code",
   "execution_count": 11,
   "metadata": {},
   "outputs": [
    {
     "data": {
      "text/plain": [
       "False"
      ]
     },
     "execution_count": 11,
     "metadata": {},
     "output_type": "execute_result"
    }
   ],
   "source": [
    "grid3==grid4"
   ]
  },
  {
   "cell_type": "code",
   "execution_count": 12,
   "metadata": {},
   "outputs": [
    {
     "data": {
      "text/plain": [
       "False"
      ]
     },
     "execution_count": 12,
     "metadata": {},
     "output_type": "execute_result"
    }
   ],
   "source": [
    "grid3==grid5"
   ]
  },
  {
   "cell_type": "markdown",
   "metadata": {},
   "source": [
    "Your assignment is to write a function that will print out `Invalid` if the grid that is\n",
    "passed in as an argument is illegal and will print out `Valid` if the grid is legal.  It should work as follows:\n",
    "\n",
    "```\n",
    "test(grid_values(grid1))\n",
    "test(grid_values(grid2))\n",
    "test(grid_values(grid3))\n",
    "test(grid_values(grid4))\n",
    "test(grid_values(grid5))\n",
    "```\n",
    "\n",
    "When you finish your code and execute the lines above, the following should print out:\n",
    "\n",
    "```\n",
    "   Valid!\n",
    "   Valid!\n",
    "   Invalid!\n",
    "   Invalid!\n",
    "   Invalid!\n",
    "```"
   ]
  },
  {
   "cell_type": "markdown",
   "metadata": {},
   "source": [
    "Here some examples and the expected answers for testing your code.  The expected\n",
    "output is shown below the cell.\n",
    "\n",
    "You miught want to test in the cell below that so as not to lose track of what the original  expected output is."
   ]
  },
  {
   "cell_type": "code",
   "execution_count": 27,
   "metadata": {},
   "outputs": [
    {
     "name": "stdout",
     "output_type": "stream",
     "text": [
      "Valid!\n",
      "Valid!\n",
      "Invalid!\n",
      "Invalid!\n",
      "Invalid!\n"
     ]
    }
   ],
   "source": [
    "\n",
    "pdict1 = grid_values(grid1)  # Valid\n",
    "pdict2 = grid_values(grid2)  # Valid\n",
    "pdict3 = grid_values(grid3)  # Invalid\n",
    "pdict4 = grid_values(grid4)  # Invalid\n",
    "pdict5 = grid_values(grid5)  # Invalid\n",
    "test(pdict1)\n",
    "test(pdict2)\n",
    "test(pdict3)\n",
    "test(pdict4)\n",
    "test(pdict5)"
   ]
  },
  {
   "cell_type": "markdown",
   "metadata": {},
   "source": [
    "### Solution"
   ]
  },
  {
   "cell_type": "markdown",
   "metadata": {},
   "source": [
    "An elegant solution:"
   ]
  },
  {
   "cell_type": "code",
   "execution_count": 33,
   "metadata": {},
   "outputs": [],
   "source": [
    "def test (grid_dict):\n",
    "    for unit in unitlist:\n",
    "        filled_squares = [grid_dict[sq] for sq in unit if grid_dict[sq] != '0']\n",
    "        if len(set(filled_squares)) != len(filled_squares):\n",
    "            print('Invalid!')\n",
    "            return\n",
    "    print(\"Valid!\")"
   ]
  },
  {
   "cell_type": "markdown",
   "metadata": {},
   "source": [
    "An laternative we discussed in class."
   ]
  },
  {
   "cell_type": "code",
   "execution_count": 37,
   "metadata": {},
   "outputs": [],
   "source": [
    "def test (grid_dict):\n",
    "    for unit in unitlist:\n",
    "        if duplicates_found([grid_dict[sq] for sq in unit if grid_dict[sq] != '0']):\n",
    "            print('Invalid!')\n",
    "            return\n",
    "    print(\"Valid!\")\n",
    " \n",
    "def duplicates_found (L):\n",
    "    seen = set()\n",
    "    for x in L:\n",
    "        if x in seen:\n",
    "            return True\n",
    "        else:\n",
    "            seen.add(x)\n",
    "    return False"
   ]
  },
  {
   "cell_type": "code",
   "execution_count": 38,
   "metadata": {},
   "outputs": [
    {
     "name": "stdout",
     "output_type": "stream",
     "text": [
      "Valid!\n",
      "Valid!\n",
      "Invalid!\n",
      "Invalid!\n",
      "Invalid!\n"
     ]
    }
   ],
   "source": [
    "pdict1 = grid_values(grid1)  # Valid\n",
    "pdict2 = grid_values(grid2)  # Valid\n",
    "pdict3 = grid_values(grid3)  # Invalid\n",
    "pdict4 = grid_values(grid4)  # Invalid\n",
    "pdict5 = grid_values(grid5)  # Invalid\n",
    "test(pdict1)\n",
    "test(pdict2)\n",
    "test(pdict3)\n",
    "test(pdict4)\n",
    "test(pdict5)"
   ]
  },
  {
   "cell_type": "markdown",
   "metadata": {},
   "source": [
    "### Comment"
   ]
  },
  {
   "cell_type": "code",
   "execution_count": 98,
   "metadata": {},
   "outputs": [],
   "source": [
    "#  A frequent bug is to leave out the return statement\n",
    "def test_buggy (grid_dict):\n",
    "    for unit in unitlist:\n",
    "        if duplicates_found([grid_dict[sq] for sq in unit if grid_dict[sq] != '0']):\n",
    "            print('Invalid!')\n",
    "            #return\n",
    "    print(\"Valid!\")\n",
    " "
   ]
  },
  {
   "cell_type": "markdown",
   "metadata": {},
   "source": [
    "The resulting function behaves very oddly on  invalid puzzles"
   ]
  },
  {
   "cell_type": "code",
   "execution_count": 101,
   "metadata": {
    "scrolled": true
   },
   "outputs": [
    {
     "name": "stdout",
     "output_type": "stream",
     "text": [
      "Invalid!\n",
      "Valid!\n"
     ]
    }
   ],
   "source": [
    "test_buggy(pdict3)"
   ]
  },
  {
   "cell_type": "markdown",
   "metadata": {},
   "source": [
    "Do you see why?\n",
    "\n",
    "It finds the invalid unit, prints \"Invalid!\", and keeps looping to\n",
    "check all the other units (they're all okay!) and finally exits the\n",
    "loop and, inevitably, prints \"Valid!\" too.\n",
    "\n",
    "This can be avoided by setting a flag whenever an invalidity is found.\n",
    "That looks like this:"
   ]
  },
  {
   "cell_type": "code",
   "execution_count": 107,
   "metadata": {},
   "outputs": [],
   "source": [
    "#  \n",
    "def test_okay (grid_dict):\n",
    "    invalidity_found_flag = False\n",
    "    for unit in unitlist:\n",
    "        if duplicates_found([grid_dict[sq] for sq in unit if grid_dict[sq] != '0']):\n",
    "            print('Invalid!')\n",
    "            invalidity_found_flag = True\n",
    "            # return\n",
    "    if not invalidity_found_flag:\n",
    "        print(\"Valid!\")\n",
    " "
   ]
  },
  {
   "cell_type": "markdown",
   "metadata": {},
   "source": [
    "This solves the problem."
   ]
  },
  {
   "cell_type": "code",
   "execution_count": 103,
   "metadata": {
    "scrolled": false
   },
   "outputs": [
    {
     "name": "stdout",
     "output_type": "stream",
     "text": [
      "Invalid!\n"
     ]
    }
   ],
   "source": [
    "test_okay(pdict3)"
   ]
  },
  {
   "cell_type": "markdown",
   "metadata": {},
   "source": [
    "But notice how much simpler the model solution is. \n",
    "Just return when the invalidity is found and no flag-checking is\n",
    "necessary."
   ]
  },
  {
   "cell_type": "markdown",
   "metadata": {},
   "source": [
    "Another frequent bug causes all the puzzles to be found invalid\n",
    "despite all the hard work that went into writing the code."
   ]
  },
  {
   "cell_type": "code",
   "execution_count": 105,
   "metadata": {},
   "outputs": [],
   "source": [
    "def test_buggy2 (grid_dict):\n",
    "    for unit in unitlist:\n",
    "        if duplicates_found([grid_dict[sq] for sq in unit]):\n",
    "            print('Invalid!')\n",
    "            return\n",
    "    print(\"Valid!\")\n",
    " "
   ]
  },
  {
   "cell_type": "code",
   "execution_count": 106,
   "metadata": {},
   "outputs": [
    {
     "name": "stdout",
     "output_type": "stream",
     "text": [
      "Invalid!\n",
      "Invalid!\n",
      "Invalid!\n",
      "Invalid!\n",
      "Invalid!\n"
     ]
    }
   ],
   "source": [
    "test_buggy2 (pdict1)\n",
    "test_buggy2 (pdict2)\n",
    "test_buggy2 (pdict3)\n",
    "test_buggy2 (pdict4)\n",
    "test_buggy2 (pdict5)"
   ]
  },
  {
   "cell_type": "markdown",
   "metadata": {},
   "source": [
    "What's going on here is that we forgot to eliminate the squares containing \"0\" (which means a blank square) before checking for duplicates (Compare the model solution).  So every unit has duplicates because every unit has blank squares.  And therefore the\n",
    "test function immediately prints \"Invalid!\""
   ]
  },
  {
   "cell_type": "code",
   "execution_count": null,
   "metadata": {},
   "outputs": [],
   "source": []
  }
 ],
 "metadata": {
  "kernelspec": {
   "display_name": "Python 3 (ipykernel)",
   "language": "python",
   "name": "python3"
  },
  "language_info": {
   "codemirror_mode": {
    "name": "ipython",
    "version": 3
   },
   "file_extension": ".py",
   "mimetype": "text/x-python",
   "name": "python",
   "nbconvert_exporter": "python",
   "pygments_lexer": "ipython3",
   "version": "3.10.6"
  },
  "toc": {
   "base_numbering": 1,
   "nav_menu": {
    "height": "310px",
    "width": "252px"
   },
   "number_sections": true,
   "sideBar": true,
   "skip_h1_title": false,
   "title_cell": "Table of Contents",
   "title_sidebar": "Contents",
   "toc_cell": false,
   "toc_position": {},
   "toc_section_display": "block",
   "toc_window_display": false
  }
 },
 "nbformat": 4,
 "nbformat_minor": 1
}
