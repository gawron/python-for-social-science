{
 "cells": [
  {
   "cell_type": "markdown",
   "metadata": {
    "colab_type": "text",
    "id": "ZIBX7u_RW74U"
   },
   "source": [
    "# Python Types Assignment 2020"
   ]
  },
  {
   "cell_type": "markdown",
   "metadata": {
    "colab_type": "text",
    "id": "nIt_8QZrW74V"
   },
   "source": [
    "Name/RedID:"
   ]
  },
  {
   "cell_type": "markdown",
   "metadata": {
    "colab_type": "text",
    "id": "_3Sm1M10W74W"
   },
   "source": [
    "## Part One"
   ]
  },
  {
   "cell_type": "markdown",
   "metadata": {
    "colab_type": "text",
    "id": "kWYWYfMiW74W"
   },
   "source": [
    "For the problems in Part One, assume all the definitions in the next cell, and check your answers by evaluating the next cell and verifying that your answers give the required results."
   ]
  },
  {
   "cell_type": "code",
   "execution_count": 2,
   "metadata": {
    "colab": {},
    "colab_type": "code",
    "id": "19mvC4k2W74X"
   },
   "outputs": [],
   "source": [
    "friends_network = {'susan': {'alex': 8, 'louis': 5, 'plato': 1, 'giuseppe':3},\n",
    "                   'alex': {'louis': 5, 'susan': 3, 'giuseppe':3},\n",
    "                   'louis': {'alex': 4, 'plato': 4, },\n",
    "                   'plato': { 'louis': 8,  'giuseppe':2, 'susan': 2},\n",
    "                   'giuseppe' : {}\n",
    "                  }\n",
    "language_decade_pairs = [ ('50s', 'fortran'), ('60s', 'pascal'), ('70s', 'C'),  ('80s', 'C++'),\n",
    "                          ('90s', 'java'), ('00s', 'perl'), ('10s', 'python')]\n",
    "dominant_computer_languages = dict(language_decade_pairs)\n",
    "awards = ('grammy', 'emmy', 'pulitzer','hugo','baseball_mvp','edgar', 'nobel_prize','oscar')\n",
    "secret_word = \"White House\"\n",
    "personnel_files = [{'name':'Fred Flinstone',\n",
    "                     'spouse': 'Wilma',\n",
    "                      'town of residence': 'Bedrock'},\n",
    "                    {'name':'Barney Rubble',\n",
    "                     'spouse': 'Betty',\n",
    "                      'town of residence': 'Bedrock'},\n",
    "                  ]"
   ]
  },
  {
   "cell_type": "markdown",
   "metadata": {
    "colab_type": "text",
    "id": "ipI_NV8pW74b"
   },
   "source": [
    "In the problems below,  when you are asked to write an expression that \"accesses\". a particular name, that means your answer should **use** that name.  For if asked:\n",
    "\n",
    "\n",
    "   Write an expression that accesses `awards` and return the value `'baseball_mvp'`.\n",
    "\n",
    "\n",
    "You might answer:\n",
    "\n",
    "```\n",
    "awards[4]\n",
    "```\n",
    "\n",
    "because that is an expression that uses the name `awards` and returns the value\n",
    "`\"baseball_mvp\"`, as illustrated in the next cell."
   ]
  },
  {
   "cell_type": "code",
   "execution_count": null,
   "metadata": {
    "colab": {},
    "colab_type": "code",
    "id": "PLZS5ol9W74c",
    "outputId": "89c6142b-4770-4c1e-e9d6-5f16d17ec41c"
   },
   "outputs": [
    {
     "data": {
      "text/plain": [
       "'baseball_mvp'"
      ]
     },
     "execution_count": 2,
     "metadata": {
      "tags": []
     },
     "output_type": "execute_result"
    }
   ],
   "source": [
    "awards[4]"
   ]
  },
  {
   "cell_type": "markdown",
   "metadata": {
    "colab_type": "text",
    "id": "-SdNV4DNW74i"
   },
   "source": [
    "In the next cell, write expression that accesses `awards` and returns the value `\"pulitzer\"`."
   ]
  },
  {
   "cell_type": "code",
   "execution_count": null,
   "metadata": {
    "colab": {},
    "colab_type": "code",
    "id": "Ic5AnNKuW74j"
   },
   "outputs": [],
   "source": []
  },
  {
   "cell_type": "markdown",
   "metadata": {
    "colab_type": "text",
    "id": "nrb4FrpQW74m"
   },
   "source": [
    " "
   ]
  },
  {
   "cell_type": "markdown",
   "metadata": {
    "colab_type": "text",
    "id": "gyonsXZjW74m"
   },
   "source": [
    "In the next cell, write an expression that accesses `secret_words` and returns the value `\"H\"\n",
    "`."
   ]
  },
  {
   "cell_type": "code",
   "execution_count": 5,
   "metadata": {
    "colab": {},
    "colab_type": "code",
    "id": "dLKwzgMKW74n",
    "outputId": "110e6599-5bd7-47af-e9cd-072fe25d06c4"
   },
   "outputs": [
    {
     "data": {
      "text/plain": [
       "'H'"
      ]
     },
     "execution_count": 5,
     "metadata": {},
     "output_type": "execute_result"
    }
   ],
   "source": []
  },
  {
   "cell_type": "markdown",
   "metadata": {
    "colab_type": "text",
    "id": "SqgeJc1jW74p"
   },
   "source": [
    " "
   ]
  },
  {
   "cell_type": "markdown",
   "metadata": {
    "colab_type": "text",
    "id": "IFmMMNrVW74q"
   },
   "source": [
    "In the next cell, write an expression that accesses `awards` and produces an `IndexError`.  Try to make the index you use to access `awards` as small as possible."
   ]
  },
  {
   "cell_type": "code",
   "execution_count": 6,
   "metadata": {
    "colab": {},
    "colab_type": "code",
    "id": "DC5oXusOW74r",
    "scrolled": true
   },
   "outputs": [
    {
     "ename": "IndexError",
     "evalue": "tuple index out of range",
     "output_type": "error",
     "traceback": [
      "\u001b[0;31m---------------------------------------------------------------------------\u001b[0m",
      "\u001b[0;31mIndexError\u001b[0m                                Traceback (most recent call last)",
      "\u001b[0;32m<ipython-input-6-0b59d97c647d>\u001b[0m in \u001b[0;36m<module>\u001b[0;34m\u001b[0m\n\u001b[0;32m----> 1\u001b[0;31m \u001b[0mawards\u001b[0m\u001b[0;34m[\u001b[0m\u001b[0mlen\u001b[0m\u001b[0;34m(\u001b[0m\u001b[0mawards\u001b[0m\u001b[0;34m)\u001b[0m\u001b[0;34m]\u001b[0m\u001b[0;34m\u001b[0m\u001b[0;34m\u001b[0m\u001b[0m\n\u001b[0m",
      "\u001b[0;31mIndexError\u001b[0m: tuple index out of range"
     ]
    }
   ],
   "source": []
  },
  {
   "cell_type": "markdown",
   "metadata": {
    "colab_type": "text",
    "id": "SRhYiXRJW74t"
   },
   "source": [
    "In the next cell, write an expression that accesses `awards` and returns `\"oscar\"`.  There is more than one answer.  See if you can find two."
   ]
  },
  {
   "cell_type": "code",
   "execution_count": null,
   "metadata": {
    "colab": {},
    "colab_type": "code",
    "id": "sb81tMbDW74u",
    "outputId": "071b430e-a70d-4e89-b892-f8429f3f7c47"
   },
   "outputs": [],
   "source": []
  },
  {
   "cell_type": "markdown",
   "metadata": {
    "colab_type": "text",
    "id": "Yd_mC2AHW74w"
   },
   "source": [
    " In the next cell, write an expression that accesses `awards` and returns `\"s\"`. "
   ]
  },
  {
   "cell_type": "code",
   "execution_count": null,
   "metadata": {
    "colab": {},
    "colab_type": "code",
    "id": "tRmFvB_8W74x",
    "outputId": "a6465e2f-f441-4180-af3a-2fcc595b62a4"
   },
   "outputs": [],
   "source": []
  },
  {
   "cell_type": "markdown",
   "metadata": {
    "colab_type": "text",
    "id": "0c5-_POaW74z"
   },
   "source": [
    " "
   ]
  },
  {
   "cell_type": "markdown",
   "metadata": {
    "colab_type": "text",
    "id": "TyoTDs0_W740"
   },
   "source": [
    "Explain what happens  when the following expression is evaluated.  Edit it to be an expression that returns `\"n\"`."
   ]
  },
  {
   "cell_type": "code",
   "execution_count": null,
   "metadata": {
    "colab": {},
    "colab_type": "code",
    "id": "jwYjbhIcW740",
    "outputId": "97b85bc1-dede-4790-f7eb-2c2f6868213e"
   },
   "outputs": [
    {
     "ename": "TypeError",
     "evalue": "string indices must be integers",
     "output_type": "error",
     "traceback": [
      "\u001b[0;31m---------------------------------------------------------------------------\u001b[0m",
      "\u001b[0;31mTypeError\u001b[0m                                 Traceback (most recent call last)",
      "\u001b[0;32m<ipython-input-8-f360eac5cd2a>\u001b[0m in \u001b[0;36m<module>\u001b[0;34m()\u001b[0m\n\u001b[0;32m----> 1\u001b[0;31m \u001b[0mawards\u001b[0m\u001b[0;34m[\u001b[0m\u001b[0;36m2\u001b[0m\u001b[0;34m]\u001b[0m\u001b[0;34m[\u001b[0m\u001b[0;34m'n'\u001b[0m\u001b[0;34m]\u001b[0m\u001b[0;34m\u001b[0m\u001b[0m\n\u001b[0m",
      "\u001b[0;31mTypeError\u001b[0m: string indices must be integers"
     ]
    }
   ],
   "source": [
    "awards[6]['n']"
   ]
  },
  {
   "cell_type": "code",
   "execution_count": 1,
   "metadata": {},
   "outputs": [],
   "source": [
    "# Edited version\n"
   ]
  },
  {
   "cell_type": "markdown",
   "metadata": {
    "colab_type": "text",
    "id": "VabiRPzPW743"
   },
   "source": [
    " "
   ]
  },
  {
   "cell_type": "markdown",
   "metadata": {
    "colab_type": "text",
    "id": "GyNmzb8iW743"
   },
   "source": [
    "In the next cell, write an expression that accesses `awards[2]` and returns `True`. "
   ]
  },
  {
   "cell_type": "code",
   "execution_count": null,
   "metadata": {
    "colab": {},
    "colab_type": "code",
    "id": "S5ObRPoaW744",
    "outputId": "e8c5adb6-1044-4a86-e65f-ec7c117689db"
   },
   "outputs": [],
   "source": []
  },
  {
   "cell_type": "markdown",
   "metadata": {
    "colab_type": "text",
    "id": "BHPox3R5W747"
   },
   "source": [
    " "
   ]
  },
  {
   "cell_type": "markdown",
   "metadata": {
    "colab_type": "text",
    "id": "MTSVrHjiW747"
   },
   "source": [
    "In the next cell, write an expression that accesses `language_decade_pairs` and raises\n",
    "a `TypeError`."
   ]
  },
  {
   "cell_type": "code",
   "execution_count": null,
   "metadata": {
    "colab": {},
    "colab_type": "code",
    "id": "dQlgKSz1W748"
   },
   "outputs": [],
   "source": []
  },
  {
   "cell_type": "markdown",
   "metadata": {
    "colab_type": "text",
    "id": "o0uOi3F1W74-"
   },
   "source": [
    " "
   ]
  },
  {
   "cell_type": "markdown",
   "metadata": {
    "colab_type": "text",
    "id": "BAs0bfXxW75D"
   },
   "source": [
    "In the next cell, write an expression that accesses `friends_network` and returns `8`. "
   ]
  },
  {
   "cell_type": "code",
   "execution_count": null,
   "metadata": {
    "colab": {},
    "colab_type": "code",
    "id": "hVFy1awGW75D"
   },
   "outputs": [],
   "source": []
  },
  {
   "cell_type": "markdown",
   "metadata": {
    "colab_type": "text",
    "id": "g-20RA33W75G"
   },
   "source": [
    " "
   ]
  },
  {
   "cell_type": "markdown",
   "metadata": {
    "colab_type": "text",
    "id": "CIlyrl7EW75H"
   },
   "source": [
    "In the next cell, write an expression that accesses `friends_network` and returns `4`. "
   ]
  },
  {
   "cell_type": "code",
   "execution_count": null,
   "metadata": {
    "colab": {},
    "colab_type": "code",
    "id": "Ho-bG6cQW75H"
   },
   "outputs": [],
   "source": []
  },
  {
   "cell_type": "markdown",
   "metadata": {
    "colab_type": "text",
    "id": "5rxYWbcJW75L"
   },
   "source": [
    " "
   ]
  },
  {
   "cell_type": "markdown",
   "metadata": {
    "colab_type": "text",
    "id": "s4HBqIahW75M"
   },
   "source": [
    "In the next cell, write an expression that accesses `personnel_files` and returns `Barney Rubble`. "
   ]
  },
  {
   "cell_type": "code",
   "execution_count": null,
   "metadata": {
    "colab": {},
    "colab_type": "code",
    "id": "gVKYQYLVW75M",
    "outputId": "cdeda932-58b1-4dd7-8caa-dcc3d1a26dcd"
   },
   "outputs": [],
   "source": []
  },
  {
   "cell_type": "markdown",
   "metadata": {
    "colab_type": "text",
    "id": "-7xecYYuW75P"
   },
   "source": [
    " "
   ]
  },
  {
   "cell_type": "markdown",
   "metadata": {
    "colab_type": "text",
    "id": "5WCkETk-W75P"
   },
   "source": [
    "In the next cell, write an expression that accesses `personnel_files` and returns `\"roc\"`. "
   ]
  },
  {
   "cell_type": "code",
   "execution_count": null,
   "metadata": {
    "colab": {},
    "colab_type": "code",
    "id": "gL-f2FucW75P",
    "outputId": "d88f1aa6-a77c-4d3a-f60a-87d178ae44c4"
   },
   "outputs": [],
   "source": []
  },
  {
   "cell_type": "markdown",
   "metadata": {
    "colab_type": "text",
    "id": "JbtVOFMCW75S"
   },
   "source": [
    " "
   ]
  },
  {
   "cell_type": "markdown",
   "metadata": {
    "colab_type": "text",
    "id": "NiSCfU1BW75T"
   },
   "source": [
    "Can you write an expression that sets the first element of `awards` to be `\"national_book_award\"`.  If not, why not?\n",
    "\n",
    "You may use the next cell to illustrate your answer."
   ]
  },
  {
   "cell_type": "code",
   "execution_count": null,
   "metadata": {},
   "outputs": [],
   "source": []
  },
  {
   "cell_type": "markdown",
   "metadata": {
    "colab_type": "text",
    "id": "H7lDWVTTW75X"
   },
   "source": [
    " "
   ]
  },
  {
   "cell_type": "markdown",
   "metadata": {
    "colab_type": "text",
    "id": "rehiuvcXW75Y"
   },
   "source": [
    "In the next cell, write an expression that accesses `awards[-2]` and returns `True`. "
   ]
  },
  {
   "cell_type": "code",
   "execution_count": null,
   "metadata": {},
   "outputs": [],
   "source": []
  },
  {
   "cell_type": "markdown",
   "metadata": {
    "colab_type": "text",
    "id": "Un339aJjW75c"
   },
   "source": [
    " "
   ]
  },
  {
   "cell_type": "markdown",
   "metadata": {
    "colab_type": "text",
    "id": "olFPDUg7W75c"
   },
   "source": [
    "In the next cell, write an expression that accesses `friends_network` and returns \n",
    "a dictionary with three keys. "
   ]
  },
  {
   "cell_type": "code",
   "execution_count": null,
   "metadata": {
    "colab": {},
    "colab_type": "code",
    "id": "jJNlecohW75Z",
    "outputId": "e24211a3-d70e-4286-f455-97260b32cf07"
   },
   "outputs": [],
   "source": []
  },
  {
   "cell_type": "markdown",
   "metadata": {
    "colab_type": "text",
    "id": "-SmuZa2HW75g"
   },
   "source": [
    " "
   ]
  },
  {
   "cell_type": "markdown",
   "metadata": {
    "colab_type": "text",
    "id": "qwn17TUFW75h"
   },
   "source": [
    "##       Part Two"
   ]
  },
  {
   "cell_type": "markdown",
   "metadata": {
    "colab_type": "text",
    "id": "Ma_hoftyW75h"
   },
   "source": [
    "Write down expressions to retrieve the given values from the given variables."
   ]
  },
  {
   "cell_type": "markdown",
   "metadata": {
    "colab_type": "text",
    "id": "XvH9JnpVW75i"
   },
   "source": [
    "1) `'mm'` from `awards`"
   ]
  },
  {
   "cell_type": "code",
   "execution_count": null,
   "metadata": {
    "colab": {},
    "colab_type": "code",
    "id": "grPenshDW75i",
    "outputId": "52cecfc9-790a-4667-e4b5-5dd5f720ea56"
   },
   "outputs": [],
   "source": []
  },
  {
   "cell_type": "markdown",
   "metadata": {
    "colab_type": "text",
    "id": "hCEFKZu0W75k"
   },
   "source": [
    "2) `'yth'` from `dominant_computer_languages`"
   ]
  },
  {
   "cell_type": "code",
   "execution_count": null,
   "metadata": {
    "colab": {},
    "colab_type": "code",
    "id": "YfPfNTfrW75k",
    "outputId": "a931dd1e-f360-49d9-9d39-08e79ef23307"
   },
   "outputs": [],
   "source": []
  },
  {
   "cell_type": "markdown",
   "metadata": {
    "colab_type": "text",
    "id": "AziVAtqLW75n"
   },
   "source": [
    "3) `'yth'` from `language_decade_pairs`"
   ]
  },
  {
   "cell_type": "code",
   "execution_count": null,
   "metadata": {
    "colab": {},
    "colab_type": "code",
    "id": "Kd0ImWxkW75o",
    "outputId": "a31041b9-fd94-428a-f36b-def3cca2f4eb"
   },
   "outputs": [],
   "source": []
  },
  {
   "cell_type": "markdown",
   "metadata": {
    "colab_type": "text",
    "id": "FAG5HtfyW75q"
   },
   "source": [
    "4) `'mvp'` from `awards`"
   ]
  },
  {
   "cell_type": "code",
   "execution_count": null,
   "metadata": {
    "colab": {},
    "colab_type": "code",
    "id": "1RbAp7uVW75r",
    "outputId": "c42c809b-edcf-449d-ccca-341ce47b44ce"
   },
   "outputs": [],
   "source": []
  },
  {
   "cell_type": "markdown",
   "metadata": {
    "colab_type": "text",
    "id": "7ZMgB6DRW75t"
   },
   "source": [
    "5) `'edr'` from `personnel_files`"
   ]
  },
  {
   "cell_type": "code",
   "execution_count": null,
   "metadata": {
    "colab": {},
    "colab_type": "code",
    "id": "S0LjtauVW75t",
    "outputId": "08d92e1d-a903-45f4-9282-5fb7184b112e"
   },
   "outputs": [],
   "source": []
  },
  {
   "cell_type": "markdown",
   "metadata": {
    "colab_type": "text",
    "id": "VJQo1KOhW75w"
   },
   "source": [
    "  "
   ]
  }
 ],
 "metadata": {
  "colab": {
   "name": "python_types_assignment_2020.ipynb",
   "provenance": []
  },
  "kernelspec": {
   "display_name": "Python 3",
   "language": "python",
   "name": "python3"
  },
  "language_info": {
   "codemirror_mode": {
    "name": "ipython",
    "version": 3
   },
   "file_extension": ".py",
   "mimetype": "text/x-python",
   "name": "python",
   "nbconvert_exporter": "python",
   "pygments_lexer": "ipython3",
   "version": "3.7.6"
  },
  "toc": {
   "base_numbering": 1,
   "nav_menu": {
    "height": "67px",
    "width": "252px"
   },
   "number_sections": true,
   "sideBar": true,
   "skip_h1_title": false,
   "title_cell": "Table of Contents",
   "title_sidebar": "Contents",
   "toc_cell": false,
   "toc_position": {},
   "toc_section_display": "block",
   "toc_window_display": false
  }
 },
 "nbformat": 4,
 "nbformat_minor": 1
}
