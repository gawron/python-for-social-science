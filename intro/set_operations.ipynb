{
  "cells": [
    {
      "cell_type": "markdown",
      "metadata": {
        "id": "OUJHRxXLlMS-"
      },
      "source": [
        "Sets and Boolean Things\n",
        "====================\n",
        "\n",
        "Let's start with two sets:"
      ]
    },
    {
      "cell_type": "code",
      "execution_count": 1,
      "metadata": {
        "id": "ga80oKialMTA"
      },
      "outputs": [],
      "source": [
        "A = {1, 2, 3, 4}\n",
        "B = {3, 4, 5, 6}"
      ]
    },
    {
      "cell_type": "code",
      "source": [
        "type(A)"
      ],
      "metadata": {
        "id": "DOmEb1ZFlRAW",
        "outputId": "2bda98b7-c7d4-4aef-f2b6-8310d05425b5",
        "colab": {
          "base_uri": "https://localhost:8080/"
        }
      },
      "execution_count": 2,
      "outputs": [
        {
          "output_type": "execute_result",
          "data": {
            "text/plain": [
              "set"
            ]
          },
          "metadata": {},
          "execution_count": 2
        }
      ]
    },
    {
      "cell_type": "markdown",
      "metadata": {
        "id": "fZoWOJjhlMTB"
      },
      "source": [
        "Remember that sets are unordered collections of unique values, and behave a lot like the mathematical notion of a set, so you can perform operations a lot like the mathematical set operations.\n",
        "\n",
        "Union\n",
        "-----\n",
        "\n",
        "For example, you can create the union of `A` and `B`, which is the set containing all of the elements in `A` and all of the elements of `B` with any duplicates removed, by calling the `union` method of `A` with\n",
        "the argument `B`."
      ]
    },
    {
      "cell_type": "code",
      "execution_count": 3,
      "metadata": {
        "id": "hhXc65NGlMTC",
        "outputId": "425c49fd-0bee-4a06-dae7-8875d18be021",
        "colab": {
          "base_uri": "https://localhost:8080/"
        }
      },
      "outputs": [
        {
          "output_type": "stream",
          "name": "stdout",
          "text": [
            "{1, 2, 3, 4, 5, 6}\n"
          ]
        }
      ],
      "source": [
        "C = A.union(B)\n",
        "print(C)"
      ]
    },
    {
      "cell_type": "markdown",
      "metadata": {
        "id": "7D9hecnQlMTC"
      },
      "source": [
        "The same effect can be acheived using the | operator:"
      ]
    },
    {
      "cell_type": "code",
      "execution_count": 4,
      "metadata": {
        "id": "6BLRaQ4ClMTD",
        "outputId": "3b1472e7-a353-4410-ee49-e204d94be831",
        "colab": {
          "base_uri": "https://localhost:8080/"
        }
      },
      "outputs": [
        {
          "output_type": "stream",
          "name": "stdout",
          "text": [
            "{1, 2, 3, 4, 5, 6}\n"
          ]
        }
      ],
      "source": [
        "print(A|B)"
      ]
    },
    {
      "cell_type": "markdown",
      "metadata": {
        "id": "W809aoHElMTD"
      },
      "source": [
        "Note one important way in which the method differs from the operator.  For the method, `B`\n",
        "can be any container.  Not so with the operator."
      ]
    },
    {
      "cell_type": "code",
      "execution_count": 5,
      "metadata": {
        "id": "vXWW7YmqlMTD",
        "outputId": "9bfc8a24-e13e-4b74-ccfa-c0b8f60754f0",
        "colab": {
          "base_uri": "https://localhost:8080/",
          "height": 222
        }
      },
      "outputs": [
        {
          "output_type": "stream",
          "name": "stdout",
          "text": [
            "{1, 2, 3, 4, 5, 6}\n"
          ]
        },
        {
          "output_type": "error",
          "ename": "TypeError",
          "evalue": "ignored",
          "traceback": [
            "\u001b[0;31m---------------------------------------------------------------------------\u001b[0m",
            "\u001b[0;31mTypeError\u001b[0m                                 Traceback (most recent call last)",
            "\u001b[0;32m<ipython-input-5-d093c9bf0fcf>\u001b[0m in \u001b[0;36m<module>\u001b[0;34m\u001b[0m\n\u001b[1;32m      1\u001b[0m \u001b[0;31m# Union with a list\u001b[0m\u001b[0;34m\u001b[0m\u001b[0;34m\u001b[0m\u001b[0;34m\u001b[0m\u001b[0m\n\u001b[1;32m      2\u001b[0m \u001b[0mprint\u001b[0m\u001b[0;34m(\u001b[0m\u001b[0mA\u001b[0m\u001b[0;34m.\u001b[0m\u001b[0munion\u001b[0m\u001b[0;34m(\u001b[0m\u001b[0;34m[\u001b[0m\u001b[0;36m3\u001b[0m\u001b[0;34m,\u001b[0m\u001b[0;36m4\u001b[0m\u001b[0;34m,\u001b[0m\u001b[0;36m5\u001b[0m\u001b[0;34m,\u001b[0m\u001b[0;36m6\u001b[0m\u001b[0;34m,\u001b[0m\u001b[0;36m3\u001b[0m\u001b[0;34m]\u001b[0m\u001b[0;34m)\u001b[0m\u001b[0;34m)\u001b[0m\u001b[0;34m\u001b[0m\u001b[0;34m\u001b[0m\u001b[0m\n\u001b[0;32m----> 3\u001b[0;31m \u001b[0mprint\u001b[0m\u001b[0;34m(\u001b[0m\u001b[0mA\u001b[0m \u001b[0;34m|\u001b[0m \u001b[0;34m[\u001b[0m\u001b[0;36m3\u001b[0m\u001b[0;34m,\u001b[0m\u001b[0;36m4\u001b[0m\u001b[0;34m,\u001b[0m\u001b[0;36m5\u001b[0m\u001b[0;34m,\u001b[0m\u001b[0;36m6\u001b[0m\u001b[0;34m]\u001b[0m\u001b[0;34m)\u001b[0m\u001b[0;34m\u001b[0m\u001b[0;34m\u001b[0m\u001b[0m\n\u001b[0m",
            "\u001b[0;31mTypeError\u001b[0m: unsupported operand type(s) for |: 'set' and 'list'"
          ]
        }
      ],
      "source": [
        "# Union with a list\n",
        "print(A.union([3,4,5,6,3]))\n",
        "print(A | [3,4,5,6])"
      ]
    },
    {
      "cell_type": "markdown",
      "metadata": {
        "id": "Cn48AsAnlMTD"
      },
      "source": [
        "Another way in which `|` differs from the union method is that `|` has a second meaning in Python."
      ]
    },
    {
      "cell_type": "code",
      "execution_count": 6,
      "metadata": {
        "scrolled": false,
        "id": "etOkqaMtlMTD",
        "outputId": "30131c1a-c0fe-44bb-d14f-d379a12cc4a4",
        "colab": {
          "base_uri": "https://localhost:8080/"
        }
      },
      "outputs": [
        {
          "output_type": "execute_result",
          "data": {
            "text/plain": [
              "(True, True, False)"
            ]
          },
          "metadata": {},
          "execution_count": 6
        }
      ],
      "source": [
        "True|False, False|True, False|False"
      ]
    },
    {
      "cell_type": "code",
      "execution_count": 7,
      "metadata": {
        "id": "CzjRb6SolMTE",
        "outputId": "709ead31-3456-44d7-ca59-af0dfe540a77",
        "colab": {
          "base_uri": "https://localhost:8080/"
        }
      },
      "outputs": [
        {
          "output_type": "execute_result",
          "data": {
            "text/plain": [
              "array([1, 1])"
            ]
          },
          "metadata": {},
          "execution_count": 7
        }
      ],
      "source": [
        "# Using Python's standard implementation of numerical arrays\n",
        "import numpy as np\n",
        "np.array([0,1]) | np.array([1,0])"
      ]
    },
    {
      "cell_type": "markdown",
      "metadata": {
        "id": "bv71DvKhlMTE"
      },
      "source": [
        "So `|` can also mean 'or'.\n",
        "\n",
        "Those who've been exposed to set theory will have seen some of algebraic similarities between set operations and Boolean operations like 'or'.  Logically, you can think of `a.union(b)` as the set of things in `a` _or_ `b`.\n",
        "\n",
        "Computationally, though, it is better to think of '|' as a special kind of `or` called bitwise `or` because of how it works with numbers."
      ]
    },
    {
      "cell_type": "code",
      "execution_count": null,
      "metadata": {
        "id": "n-3iiWYnlMTE",
        "outputId": "42b8bd7b-212c-4610-8010-198517d45c47"
      },
      "outputs": [
        {
          "name": "stdout",
          "output_type": "stream",
          "text": [
            "101 011 111\n",
            "7\n"
          ]
        }
      ],
      "source": [
        "X,Y = 5,3\n",
        "# We print 5 and 3 as base 2 numbers to illustrate how | works\n",
        "print(f'{X:03b} {Y:03b} {7:03b}')\n",
        "print(X|Y)"
      ]
    },
    {
      "cell_type": "markdown",
      "metadata": {
        "id": "LdPuZ_ldlMTE"
      },
      "source": [
        "Contrast Python's logical `or`:"
      ]
    },
    {
      "cell_type": "code",
      "execution_count": 8,
      "metadata": {
        "id": "Pa5LjajSlMTE",
        "outputId": "8e6ae427-e5de-4774-9e38-aeeab28541c5",
        "colab": {
          "base_uri": "https://localhost:8080/"
        }
      },
      "outputs": [
        {
          "output_type": "stream",
          "name": "stdout",
          "text": [
            "5\n",
            "3\n",
            "0\n"
          ]
        }
      ],
      "source": [
        "print(5 or 3)\n",
        "print(0 or 3)\n",
        "print(0 or 0)"
      ]
    },
    {
      "cell_type": "markdown",
      "metadata": {
        "id": "tPtBshFqlMTE"
      },
      "source": [
        "Intersection\n",
        "------------\n",
        "\n",
        "As an alternative, the intersection of two sets are the elements that are in both sets, so in the above example it would be the elements `3` and `4`.\n",
        "\n",
        "You can compute the intersection using the `intersection()` method:"
      ]
    },
    {
      "cell_type": "code",
      "execution_count": 26,
      "metadata": {
        "id": "3AJploH8lMTE",
        "outputId": "f16e6e1e-c182-46b2-b232-e65e3fa09c77",
        "colab": {
          "base_uri": "https://localhost:8080/"
        }
      },
      "outputs": [
        {
          "output_type": "stream",
          "name": "stdout",
          "text": [
            "{1, 2, 3, 4} {3, 4, 5, 6} {3, 4}\n"
          ]
        }
      ],
      "source": [
        "C = A.intersection(B)\n",
        "print(A, B, C)"
      ]
    },
    {
      "cell_type": "markdown",
      "metadata": {
        "id": "rgY35C1XlMTF"
      },
      "source": [
        "or using the binary <i>and</i> operator `&`, since you want things in `a` _and_ in `b`:"
      ]
    },
    {
      "cell_type": "code",
      "execution_count": 11,
      "metadata": {
        "id": "2rPyWz8GlMTF",
        "outputId": "31f4323f-8c91-47ca-b793-33cc4762ccd1",
        "colab": {
          "base_uri": "https://localhost:8080/"
        }
      },
      "outputs": [
        {
          "output_type": "stream",
          "name": "stdout",
          "text": [
            "{3, 4}\n"
          ]
        }
      ],
      "source": [
        "C = A & B\n",
        "print(C)"
      ]
    },
    {
      "cell_type": "markdown",
      "metadata": {
        "id": "AEOFMiPVlMTF"
      },
      "source": [
        "Set Difference\n",
        "--------------\n",
        "\n",
        "Set difference gives you the elements which are only in `a`, and not in `b`.  So in this example it would be 1 and 2.\n",
        "\n",
        "You can compute the set difference using the `difference()` method:"
      ]
    },
    {
      "cell_type": "code",
      "execution_count": 13,
      "metadata": {
        "id": "hiTDllGJlMTF",
        "outputId": "67a9079f-b087-49b2-87e1-5947f5743a4b",
        "colab": {
          "base_uri": "https://localhost:8080/"
        }
      },
      "outputs": [
        {
          "output_type": "stream",
          "name": "stdout",
          "text": [
            "{1, 2}\n"
          ]
        }
      ],
      "source": [
        "C = A.difference(B)\n",
        "print(C)"
      ]
    },
    {
      "cell_type": "markdown",
      "metadata": {
        "id": "KAw7RITplMTF"
      },
      "source": [
        "or using the standard minus operator `-`:"
      ]
    },
    {
      "cell_type": "code",
      "execution_count": 14,
      "metadata": {
        "id": "v-cvR3OblMTF",
        "outputId": "65a08ae0-504a-4728-abac-3d808c30834b",
        "colab": {
          "base_uri": "https://localhost:8080/"
        }
      },
      "outputs": [
        {
          "output_type": "stream",
          "name": "stdout",
          "text": [
            "{1, 2}\n"
          ]
        }
      ],
      "source": [
        "C = A - B\n",
        "print(C)"
      ]
    },
    {
      "cell_type": "markdown",
      "metadata": {
        "id": "O24MR8gulMTF"
      },
      "source": [
        "Note that unlike union and intersection, `a - b` and `b - a` are different.  In this example, `b - a` gives 5 and 6:"
      ]
    },
    {
      "cell_type": "code",
      "execution_count": 15,
      "metadata": {
        "id": "UXYjViQvlMTF",
        "outputId": "687869dd-9292-4cfb-a3dd-47e2a12e3563",
        "colab": {
          "base_uri": "https://localhost:8080/"
        }
      },
      "outputs": [
        {
          "output_type": "execute_result",
          "data": {
            "text/plain": [
              "{5, 6}"
            ]
          },
          "metadata": {},
          "execution_count": 15
        }
      ],
      "source": [
        "B - A"
      ]
    },
    {
      "cell_type": "markdown",
      "metadata": {
        "id": "r3y8zwpAlMTF"
      },
      "source": [
        "Symmetric Difference\n",
        "--------------------\n",
        "\n",
        "The last basic operation is symmetric difference, which is the things which are in `a` or in `b`, but _not_ in both.  So in this example it would be 1, 2, 5, and 6, but not 3 and 4.\n",
        "\n",
        "You can compute the symmtric difference using the `symmetric_difference()` method:"
      ]
    },
    {
      "cell_type": "code",
      "execution_count": 16,
      "metadata": {
        "id": "oqZN_pm2lMTF",
        "outputId": "9042fb8b-2396-48b2-fc33-0cb9ca011b2a",
        "colab": {
          "base_uri": "https://localhost:8080/"
        }
      },
      "outputs": [
        {
          "output_type": "stream",
          "name": "stdout",
          "text": [
            "{1, 2, 5, 6}\n"
          ]
        }
      ],
      "source": [
        "C = A.symmetric_difference(B)\n",
        "print(C)"
      ]
    },
    {
      "cell_type": "markdown",
      "metadata": {
        "id": "e-huFS6_lMTG"
      },
      "source": [
        "or using the \"exclusive or\" (or \"xor\") binary operator `^`, because you are getting the elements which are in `a` _xor_ `b`:"
      ]
    },
    {
      "cell_type": "code",
      "execution_count": 17,
      "metadata": {
        "id": "LXnsaBlflMTG",
        "outputId": "b0bb1f7d-1e8f-4017-d1de-5d6ff59d46ac",
        "colab": {
          "base_uri": "https://localhost:8080/"
        }
      },
      "outputs": [
        {
          "output_type": "stream",
          "name": "stdout",
          "text": [
            "{1, 2, 5, 6}\n"
          ]
        }
      ],
      "source": [
        "C = A ^ B\n",
        "print(C)"
      ]
    },
    {
      "cell_type": "markdown",
      "source": [
        "#### Summary\n",
        "\n",
        "```\n",
        "  Method              Operation             Op Name\n",
        ".union()                  |            bitwise \"or\"                      \n",
        ".intersection()           &            bitwise \"and\" \n",
        ".difference()             -            setminus/set difference\n",
        ".symmetric_difference()   ^            xor\n",
        "```\n",
        "\n",
        "Operations all overlap in meaning with the methods,\n",
        "but have different restrictions, and when operating\n",
        "on nonsets (bit sequences) different meanings.\n"
      ],
      "metadata": {
        "id": "c_a-z4KPoIn4"
      }
    },
    {
      "cell_type": "markdown",
      "metadata": {
        "id": "aUoW7QRwlMTG"
      },
      "source": [
        "Set Containment\n",
        "---------------\n",
        "\n",
        "There are also a couple of operations that allow you to check for set containment.  If we have two sets like this:"
      ]
    },
    {
      "cell_type": "code",
      "execution_count": 18,
      "metadata": {
        "id": "OV4RhMYrlMTG"
      },
      "outputs": [],
      "source": [
        "a = {1, 2, 3}\n",
        "b = {1, 2}"
      ]
    },
    {
      "cell_type": "markdown",
      "metadata": {
        "id": "zDiymQvmlMTG"
      },
      "source": [
        "You can ask if `b` is a subset of `a`:"
      ]
    },
    {
      "cell_type": "code",
      "execution_count": 19,
      "metadata": {
        "id": "d5qdFg0FlMTG",
        "outputId": "2957c7d5-797c-41cd-ff76-16df8050897d",
        "colab": {
          "base_uri": "https://localhost:8080/"
        }
      },
      "outputs": [
        {
          "output_type": "execute_result",
          "data": {
            "text/plain": [
              "True"
            ]
          },
          "metadata": {},
          "execution_count": 19
        }
      ],
      "source": [
        "b.issubset(a)"
      ]
    },
    {
      "cell_type": "markdown",
      "metadata": {
        "id": "Jsa_3fcGlMTG"
      },
      "source": [
        "You can also use `<=` to test for containment, since if `b` is a subset of `a` it is smaller than `a` in a very real sense:"
      ]
    },
    {
      "cell_type": "code",
      "execution_count": 20,
      "metadata": {
        "id": "ugYGKUM6lMTG",
        "outputId": "8a1662d1-95dd-4baf-8f28-f8f39c9a5570",
        "colab": {
          "base_uri": "https://localhost:8080/"
        }
      },
      "outputs": [
        {
          "output_type": "execute_result",
          "data": {
            "text/plain": [
              "True"
            ]
          },
          "metadata": {},
          "execution_count": 20
        }
      ],
      "source": [
        "b <= a"
      ]
    },
    {
      "cell_type": "markdown",
      "metadata": {
        "id": "Z1diEod1lMTG"
      },
      "source": [
        "You can also ask if `a` is a superset of `b` using the `issuperset()` method:"
      ]
    },
    {
      "cell_type": "code",
      "execution_count": 21,
      "metadata": {
        "id": "DTiOd17HlMTG",
        "outputId": "ab193be6-f4dd-4349-e335-8afec60eebc5",
        "colab": {
          "base_uri": "https://localhost:8080/"
        }
      },
      "outputs": [
        {
          "output_type": "execute_result",
          "data": {
            "text/plain": [
              "True"
            ]
          },
          "metadata": {},
          "execution_count": 21
        }
      ],
      "source": [
        "a.issuperset(b)"
      ]
    },
    {
      "cell_type": "markdown",
      "metadata": {
        "id": "TJLaktvSlMTG"
      },
      "source": [
        "or by using `>=`:"
      ]
    },
    {
      "cell_type": "code",
      "execution_count": 22,
      "metadata": {
        "id": "VCiVtNZglMTG",
        "outputId": "fa39fc4d-b467-4113-f021-e8e88ef59819",
        "colab": {
          "base_uri": "https://localhost:8080/"
        }
      },
      "outputs": [
        {
          "output_type": "execute_result",
          "data": {
            "text/plain": [
              "True"
            ]
          },
          "metadata": {},
          "execution_count": 22
        }
      ],
      "source": [
        "a >= b"
      ]
    },
    {
      "cell_type": "markdown",
      "metadata": {
        "id": "bPSiz6kvlMTG"
      },
      "source": [
        "Although there aren't methods for these, you can also use `>` and `<` to test for proper subset and superset, so `a` is a subset of itself:"
      ]
    },
    {
      "cell_type": "code",
      "execution_count": 23,
      "metadata": {
        "id": "EjsGFl4ylMTG",
        "outputId": "8a7fcad6-f977-4fef-e0ab-9e33cd85feda",
        "colab": {
          "base_uri": "https://localhost:8080/"
        }
      },
      "outputs": [
        {
          "output_type": "execute_result",
          "data": {
            "text/plain": [
              "True"
            ]
          },
          "metadata": {},
          "execution_count": 23
        }
      ],
      "source": [
        "a <= a"
      ]
    },
    {
      "cell_type": "markdown",
      "metadata": {
        "id": "7fBbMuSLlMTG"
      },
      "source": [
        "but not a proper subset:"
      ]
    },
    {
      "cell_type": "code",
      "execution_count": 24,
      "metadata": {
        "id": "4OJKdd_UlMTG",
        "outputId": "e48ba16f-d0fd-4774-e028-61127e81a9b3",
        "colab": {
          "base_uri": "https://localhost:8080/"
        }
      },
      "outputs": [
        {
          "output_type": "execute_result",
          "data": {
            "text/plain": [
              "False"
            ]
          },
          "metadata": {},
          "execution_count": 24
        }
      ],
      "source": [
        "a < a"
      ]
    },
    {
      "cell_type": "markdown",
      "metadata": {
        "id": "kKAiYRiJlMTG"
      },
      "source": [
        "and this isn't surprising if you think about it.\n",
        "\n",
        "Finally the `isdisjoint()` method tells you if two sets have nothing in common:"
      ]
    },
    {
      "cell_type": "code",
      "execution_count": 25,
      "metadata": {
        "id": "je8TXHhhlMTG",
        "outputId": "8fa541a4-ef98-49b8-e0ee-d4247acc39ed",
        "colab": {
          "base_uri": "https://localhost:8080/"
        }
      },
      "outputs": [
        {
          "output_type": "execute_result",
          "data": {
            "text/plain": [
              "True"
            ]
          },
          "metadata": {},
          "execution_count": 25
        }
      ],
      "source": [
        "a = {1, 2}\n",
        "b = {3, 4}\n",
        "a.isdisjoint(b)"
      ]
    },
    {
      "cell_type": "markdown",
      "metadata": {
        "id": "X_4Sd7ValMTH"
      },
      "source": [
        "Updating Sets\n",
        "----------------\n",
        "\n",
        "None of the methods discussed above modify the content of the sets that call them: `A.union(B)` returns a set\n",
        "that is the union of `A` and `B` but leaves `A` unchanged.  Sometimes you want to change the contents of a set, to add or remove elements. \n",
        "\n",
        "### Adding & subtracting elements\n",
        "\n",
        "For a list, you would use `append()` and `extend()` methods to add elements to the end of the list; because sets are unordered, the names for the corresponding methods are different.\n",
        "\n",
        "The `add()` method adds a single element to a set, like `append()`:"
      ]
    },
    {
      "cell_type": "code",
      "execution_count": null,
      "metadata": {
        "id": "Liwbq4GSlMTH",
        "outputId": "596eb3d3-5712-422d-81df-b6493f2730f2"
      },
      "outputs": [
        {
          "data": {
            "text/plain": [
              "{1, 2, 3, 5}"
            ]
          },
          "execution_count": 86,
          "metadata": {},
          "output_type": "execute_result"
        }
      ],
      "source": [
        "t = {1, 2, 3}\n",
        "t.add(5)\n",
        "t"
      ]
    },
    {
      "cell_type": "markdown",
      "metadata": {
        "id": "mKO6VtpLlMTH"
      },
      "source": [
        "Remember that you can't have duplicates in a set, so if you add the same element twice, you'll only see it once in the set:"
      ]
    },
    {
      "cell_type": "code",
      "execution_count": null,
      "metadata": {
        "id": "8_SCM1-TlMTH",
        "outputId": "9a3bb1d4-802a-4636-9e11-8d809c6ac125"
      },
      "outputs": [
        {
          "data": {
            "text/plain": [
              "{1, 2, 3, 5}"
            ]
          },
          "execution_count": 87,
          "metadata": {},
          "output_type": "execute_result"
        }
      ],
      "source": [
        "t.add(5)\n",
        "t"
      ]
    },
    {
      "cell_type": "markdown",
      "metadata": {
        "id": "zUOorMY4lMTH"
      },
      "source": [
        "The `update()` method adds a collection of elements from another container into the set. It is worth emphasizing that the second element does not have to be a set.  It can be any container, with the elements of\n",
        "the container added one by one."
      ]
    },
    {
      "cell_type": "code",
      "execution_count": null,
      "metadata": {
        "id": "tC6_9mmclMTH",
        "outputId": "473433a7-0a6e-4995-d29d-60890edcc1f3"
      },
      "outputs": [
        {
          "name": "stdout",
          "output_type": "stream",
          "text": [
            "{1, 2, 3, 5, 6, 7}\n",
            "{1, 2, 3, 5, 6, 7, 8, 9}\n",
            "{1, 2, 3, 5, 6, 7, 8, 9, 'a', 'b'}\n",
            "{1, 2, 3, 5, 6, 7, 8, 9, 'ab', 'a', 'b'}\n"
          ]
        }
      ],
      "source": [
        "t = {1, 2, 3, 5}\n",
        "t.update([5, 6, 7])\n",
        "print(t)\n",
        "t.update((8,9,8))\n",
        "print(t)\n",
        "t.update('ab')\n",
        "print(t)\n",
        "t.add('ab')\n",
        "print(t)"
      ]
    },
    {
      "cell_type": "markdown",
      "metadata": {
        "id": "I7x4k93vlMTH"
      },
      "source": [
        "This resembles `update()` for dictionaries, which changes the contents of a dictionary."
      ]
    },
    {
      "cell_type": "code",
      "execution_count": null,
      "metadata": {
        "id": "jgxwkss2lMTH",
        "outputId": "4025bd46-f298-4990-c139-73ec5bba8b2d"
      },
      "outputs": [
        {
          "name": "stdout",
          "output_type": "stream",
          "text": [
            "{'a': 1, 'b': 2}\n",
            "{'a': 2, 'b': 2, 'c': 7}\n"
          ]
        }
      ],
      "source": [
        "dd0 = {'a':1, 'b':2}\n",
        "print(dd0)\n",
        "dd1 = {'a':2, 'c':7}\n",
        "dd0.update(dd1)\n",
        "print(dd0)"
      ]
    },
    {
      "cell_type": "markdown",
      "metadata": {
        "id": "Vi7kyQg2lMTH"
      },
      "source": [
        "Finally, there are update operations corresponding to `intersection` and `difference`, which update\n",
        "the membership of the set to be the result of these operations.\n",
        "\n",
        "Thus, `update` on sets could be called `union_update` to emphasize its similarity to the other two update\n",
        "operations.  The motivation for the shorter name is probably to emphasize its similarity\n",
        "to the dictionary operation."
      ]
    },
    {
      "cell_type": "code",
      "execution_count": null,
      "metadata": {
        "id": "hs7uRuKolMTH",
        "outputId": "f8491c0a-65e8-4d9d-a7d9-c3f12c314309"
      },
      "outputs": [
        {
          "name": "stdout",
          "output_type": "stream",
          "text": [
            "{1, 2, 3, 4, 5, 6, 7}\n",
            "{5, 6, 7}\n",
            "=========================\n",
            "{1, 2, 3}\n",
            "{1, 3}\n"
          ]
        }
      ],
      "source": [
        "t = {1, 2, 3,4,5,6,7}\n",
        "print(t)\n",
        "t.intersection_update([5, 6, 7])\n",
        "print(t)\n",
        "print('='*25)\n",
        "t = {1, 2, 3}\n",
        "s = {2,4,5}\n",
        "print(t)\n",
        "t.difference_update(s)\n",
        "print(t)"
      ]
    },
    {
      "cell_type": "markdown",
      "metadata": {
        "id": "lKl4YSHilMTH"
      },
      "source": [
        "Note that update operations don't return a value. They just change the set calling the method."
      ]
    },
    {
      "cell_type": "code",
      "execution_count": null,
      "metadata": {
        "id": "qhpphz-ElMTH",
        "outputId": "d58e88c8-6a2d-4970-dddd-0e0393bbedd5"
      },
      "outputs": [
        {
          "name": "stdout",
          "output_type": "stream",
          "text": [
            "{1, 2, 3}\n",
            "None {1, 3}\n"
          ]
        }
      ],
      "source": [
        "t = {1, 2, 3}\n",
        "s = {2,4,5}\n",
        "print(t)\n",
        "v = t.difference_update(s)\n",
        "print(v,t)"
      ]
    },
    {
      "cell_type": "markdown",
      "metadata": {
        "id": "Iv8GDFmnlMTH"
      },
      "source": [
        "### Removing Elements\n",
        "\n",
        "There are at least 3 different ways of removing elements from a set.\n",
        "\n",
        "The first is the `remove()` method which works a lot like the list `remove()` method by the value of the element, so:"
      ]
    },
    {
      "cell_type": "code",
      "execution_count": null,
      "metadata": {
        "id": "7H-DcG9vlMTH",
        "outputId": "431057ee-53e5-4dc4-88f1-760080c68851"
      },
      "outputs": [
        {
          "data": {
            "text/plain": [
              "{2, 3}"
            ]
          },
          "execution_count": 121,
          "metadata": {},
          "output_type": "execute_result"
        }
      ],
      "source": [
        "t = {1, 2, 3}\n",
        "t.remove(1)\n",
        "t"
      ]
    },
    {
      "cell_type": "markdown",
      "metadata": {
        "id": "0bWj33tblMTH"
      },
      "source": [
        "removes `1` from the set.  However if you try to remove an element which doesn't exist the `remove()` method complains by raising a `KeyError` exception:"
      ]
    },
    {
      "cell_type": "code",
      "execution_count": null,
      "metadata": {
        "id": "kid2OEuIlMTH",
        "outputId": "efb791ff-026d-4f8c-da6f-41fcacbd5140"
      },
      "outputs": [
        {
          "ename": "KeyError",
          "evalue": "10",
          "output_type": "error",
          "traceback": [
            "\u001b[0;31m---------------------------------------------------------------------------\u001b[0m",
            "\u001b[0;31mKeyError\u001b[0m                                  Traceback (most recent call last)",
            "\u001b[0;32m<ipython-input-122-c0ded720561a>\u001b[0m in \u001b[0;36m<module>\u001b[0;34m\u001b[0m\n\u001b[0;32m----> 1\u001b[0;31m \u001b[0mt\u001b[0m\u001b[0;34m.\u001b[0m\u001b[0mremove\u001b[0m\u001b[0;34m(\u001b[0m\u001b[0;36m10\u001b[0m\u001b[0;34m)\u001b[0m\u001b[0;34m\u001b[0m\u001b[0;34m\u001b[0m\u001b[0m\n\u001b[0m",
            "\u001b[0;31mKeyError\u001b[0m: 10"
          ]
        }
      ],
      "source": [
        "t.remove(10)"
      ]
    },
    {
      "cell_type": "markdown",
      "metadata": {
        "id": "LsulWNgklMTH"
      },
      "source": [
        "If you want to remove an element from the set, but don't care which one, then you can use the `pop()` method:"
      ]
    },
    {
      "cell_type": "code",
      "execution_count": null,
      "metadata": {
        "id": "nB2T-1QWlMTI",
        "outputId": "57e57d09-3cf1-4868-fc32-4093e0055367"
      },
      "outputs": [
        {
          "data": {
            "text/plain": [
              "2"
            ]
          },
          "execution_count": 123,
          "metadata": {},
          "output_type": "execute_result"
        }
      ],
      "source": [
        "t.pop()"
      ]
    },
    {
      "cell_type": "code",
      "execution_count": null,
      "metadata": {
        "id": "T2gsgfnblMTI",
        "outputId": "825d4c93-1ddd-483e-f95b-54c74a4fecc9"
      },
      "outputs": [
        {
          "data": {
            "text/plain": [
              "{3}"
            ]
          },
          "execution_count": 124,
          "metadata": {},
          "output_type": "execute_result"
        }
      ],
      "source": [
        "t"
      ]
    },
    {
      "cell_type": "markdown",
      "metadata": {
        "id": "9ZjIaBvNlMTI"
      },
      "source": [
        "Notice that `pop()` returns the value of the element that was removed from the set.  If you try to `pop()` an element from an empty set, then it raises a `KeyError`:"
      ]
    },
    {
      "cell_type": "code",
      "execution_count": null,
      "metadata": {
        "id": "B_J7GQT9lMTI",
        "outputId": "e4900e4e-1f76-4cec-f4d6-a66231c83e46"
      },
      "outputs": [
        {
          "ename": "KeyError",
          "evalue": "'pop from an empty set'",
          "output_type": "error",
          "traceback": [
            "\u001b[0;31m---------------------------------------------------------------------------\u001b[0m",
            "\u001b[0;31mKeyError\u001b[0m                                  Traceback (most recent call last)",
            "\u001b[0;32m<ipython-input-125-261aed8e48a7>\u001b[0m in \u001b[0;36m<module>\u001b[0;34m\u001b[0m\n\u001b[1;32m      1\u001b[0m \u001b[0ms\u001b[0m \u001b[0;34m=\u001b[0m \u001b[0mset\u001b[0m\u001b[0;34m(\u001b[0m\u001b[0;34m)\u001b[0m\u001b[0;34m\u001b[0m\u001b[0;34m\u001b[0m\u001b[0m\n\u001b[0;32m----> 2\u001b[0;31m \u001b[0ms\u001b[0m\u001b[0;34m.\u001b[0m\u001b[0mpop\u001b[0m\u001b[0;34m(\u001b[0m\u001b[0;34m)\u001b[0m\u001b[0;34m\u001b[0m\u001b[0;34m\u001b[0m\u001b[0m\n\u001b[0m",
            "\u001b[0;31mKeyError\u001b[0m: 'pop from an empty set'"
          ]
        }
      ],
      "source": [
        "s = set()\n",
        "s.pop()"
      ]
    },
    {
      "cell_type": "markdown",
      "metadata": {
        "id": "yJWHQTlHlMTI"
      },
      "source": [
        "Also notice that in these examples we've been seeing the elements of the set as if they are in order, and the `pop()` removed the first one, but that's an accident of the way that sets store small numbers, and isn't guaranteed in general.\n",
        "\n",
        "If you want to remove an element without worrying about getting an exception, `discard()` works like `remove()`, so if you say:"
      ]
    },
    {
      "cell_type": "code",
      "execution_count": null,
      "metadata": {
        "id": "QuCXBR1slMTI"
      },
      "outputs": [],
      "source": [
        "t.discard(3)\n",
        "t"
      ]
    },
    {
      "cell_type": "markdown",
      "metadata": {
        "id": "N1x24ORtlMTI"
      },
      "source": [
        "it removes 3 from the set, but if you try to discard an element which isn't in the set, then it just does nothing:"
      ]
    },
    {
      "cell_type": "code",
      "execution_count": null,
      "metadata": {
        "id": "pF-z67i6lMTI"
      },
      "outputs": [],
      "source": [
        "t.discard(20)\n",
        "t"
      ]
    },
    {
      "cell_type": "markdown",
      "metadata": {
        "id": "OxNT-bLClMTI"
      },
      "source": [
        "in particular, it doesn't raise an exception."
      ]
    },
    {
      "cell_type": "markdown",
      "metadata": {
        "id": "fj_7h_bzlMTI"
      },
      "source": [
        "## Numpy arrays"
      ]
    },
    {
      "cell_type": "markdown",
      "metadata": {
        "id": "KLb9cZ82lMTI"
      },
      "source": [
        "Above, using the example of `|`, we introduced the idea of a **bitwise operator**, which presupposes\n",
        "arguments that can be interpreted as sequences of bits (0s and 1s).  Because numbers can be interpreted\n",
        "as sequences of binary digits, they can serve as arguments to bitwise operators like `|`,\n",
        "but they are not inherently sequences (it makes no sense to ask what the first element of\n",
        "5 is).\n",
        "\n",
        "Along with other programming languages, Python has a notion of a **bit vector** (or bit array), though the natural implementation is in `numpy`,  a module that must be imported; `numpy` arrays  are a datatype\n",
        "of their own; they are updatable sequences generally used with a fixed datatype, usually numerical.\n",
        "\n",
        "In this section, we will restrict discussion to arrays with Boolean values like 0 and 1 (note that\n",
        "numpy arrays with `True` behave basically the same)."
      ]
    },
    {
      "cell_type": "code",
      "execution_count": null,
      "metadata": {
        "id": "H0sYbrErlMTI",
        "outputId": "0217968b-ddf3-4fa3-a9bf-fa137a202f7b"
      },
      "outputs": [
        {
          "name": "stdout",
          "output_type": "stream",
          "text": [
            "[1 1 0]\n",
            "[ True  True False]\n"
          ]
        },
        {
          "data": {
            "text/plain": [
              "array([ True,  True,  True])"
            ]
          },
          "execution_count": 144,
          "metadata": {},
          "output_type": "execute_result"
        }
      ],
      "source": [
        "import numpy as np\n",
        "\n",
        "a = np.array([1,1,0]) \n",
        "print(a)\n",
        "b =  np.array([True,True,False]) \n",
        "print(b)\n",
        "a == b"
      ]
    },
    {
      "cell_type": "markdown",
      "metadata": {
        "id": "UXgMbmxflMTI"
      },
      "source": [
        "Note that you can interpret this as the binary (base 2) representation of the number 5, but that's just one of an infinite number of interpretation of these three binary bits.\n",
        "\n",
        "So it's not accurate to think of bit arrays as binary numbers.  Python has  no datatype for a binary number, just `int`s, which by default are printed in their usual base 10 form, or upon request  in binary or other\n",
        "bases."
      ]
    },
    {
      "cell_type": "code",
      "execution_count": null,
      "metadata": {
        "id": "f0RiQN3IlMTI",
        "outputId": "5e139ecd-bb2e-444d-a20a-77d501b4570d"
      },
      "outputs": [
        {
          "name": "stdout",
          "output_type": "stream",
          "text": [
            "decimal: 15   binary: 1111   octal: 017   hexadecimal: 00f\n"
          ]
        }
      ],
      "source": [
        "X = 15\n",
        "print(f'decimal: {X}   binary: {X:03b}   octal: {X:03o}   hexadecimal: {X:03x}')"
      ]
    },
    {
      "cell_type": "markdown",
      "metadata": {
        "id": "3wcdRhrslMTI"
      },
      "source": [
        "Similarly a string of digits can be converted to an `int` by being interpreted according to\n",
        "a given base."
      ]
    },
    {
      "cell_type": "code",
      "execution_count": null,
      "metadata": {
        "id": "AxqnUDa_lMTI",
        "outputId": "a49dfee0-5600-4a55-f6cb-c3c4796cbcae"
      },
      "outputs": [
        {
          "data": {
            "text/plain": [
              "(101, 5, 65, 257)"
            ]
          },
          "execution_count": 148,
          "metadata": {},
          "output_type": "execute_result"
        }
      ],
      "source": [
        "int('101'), int('101',2), int('101',8), int('101',16)"
      ]
    },
    {
      "cell_type": "markdown",
      "metadata": {
        "id": "8eNUWdoalMTI"
      },
      "source": [
        "The `&` and `|` operators work as expected on numpy arrays:"
      ]
    },
    {
      "cell_type": "code",
      "execution_count": null,
      "metadata": {
        "id": "0v8e-GuQlMTK",
        "outputId": "2a488790-c964-46b7-f09e-a727d29c56e6"
      },
      "outputs": [
        {
          "name": "stdout",
          "output_type": "stream",
          "text": [
            "[1 1 1]\n",
            "[0 0 1]\n"
          ]
        }
      ],
      "source": [
        "a, b = np.array([1,0,1]),np.array([0,1,1])\n",
        "print(a|b)\n",
        "print(a&b)"
      ]
    },
    {
      "cell_type": "markdown",
      "metadata": {
        "id": "eg9yGZRMlMTK"
      },
      "source": [
        "Because Python provides bitwise operators like \"|\", it might make sense to think a bit before\n",
        "incurring the overhead of a `numpy` array.  What job can an array do that an integers 3 or 5 can't do?  Arrays are justified when specific kinds of binary information needs to be encoded and you need to efficiently answer questions like \"What is the third bit?\" and \"How many 1s are there?\""
      ]
    },
    {
      "cell_type": "markdown",
      "metadata": {
        "id": "LqAu67pMlMTK"
      },
      "source": [
        "To answer these question for `a`, do:"
      ]
    },
    {
      "cell_type": "code",
      "execution_count": null,
      "metadata": {
        "id": "xQg1bpWrlMTK",
        "outputId": "0323fbbd-171e-4432-d1de-84440f6f1890"
      },
      "outputs": [
        {
          "name": "stdout",
          "output_type": "stream",
          "text": [
            "[1 1 0]\n",
            "0\n",
            "2\n"
          ]
        }
      ],
      "source": [
        "print(a)\n",
        "print(a[2])\n",
        "print(a.sum())"
      ]
    }
  ],
  "metadata": {
    "kernelspec": {
      "display_name": "Python 3",
      "language": "python",
      "name": "python3"
    },
    "language_info": {
      "codemirror_mode": {
        "name": "ipython",
        "version": 3
      },
      "file_extension": ".py",
      "mimetype": "text/x-python",
      "name": "python",
      "nbconvert_exporter": "python",
      "pygments_lexer": "ipython3",
      "version": "3.7.6"
    },
    "colab": {
      "provenance": []
    }
  },
  "nbformat": 4,
  "nbformat_minor": 0
}