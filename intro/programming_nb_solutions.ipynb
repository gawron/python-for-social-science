{
 "cells": [
  {
   "cell_type": "markdown",
   "metadata": {},
   "source": [
    "<font size = 6> <b>Programming: putting things together</b></font>"
   ]
  },
  {
   "cell_type": "markdown",
   "metadata": {},
   "source": [
    "In this NB we go through some of the steps in solving problems and packaging the solutions into python scripts."
   ]
  },
  {
   "cell_type": "markdown",
   "metadata": {},
   "source": [
    "# Exercise 1"
   ]
  },
  {
   "cell_type": "markdown",
   "metadata": {},
   "source": [
    "Our goal in this exercise is to write a function that removes all elements of a sequence that do not occur at least two times.   \n",
    "\n",
    "Note: This should remind you of an exercise from a previous notebook but refresh your memory and try it anyway.  We are going to proceed by steps and in the final step in this exercise we are going to write the function described above. \n",
    "\n",
    "We'll break the problem into two parts."
   ]
  },
  {
   "cell_type": "markdown",
   "metadata": {},
   "source": [
    "Using the string `test_str`, write a `for` loop that **counts**\n",
    "the number of times each item in `test_str` occurs. We will store these counts in\n",
    "a dictionary.  We are going to do this using a special kind of dictionary called a `Counter`.  If you know enough about `Counter`s to do this without a `for`-loop, go ahead and do so.  Otherwise, write a `for`-loop that loops through the string using `ctr` (defined in line 4 below) to  keep count of how many times each character has occurred.  Use the `test_str` defined below to test your code.  "
   ]
  },
  {
   "cell_type": "code",
   "execution_count": 1,
   "metadata": {},
   "outputs": [
    {
     "data": {
      "text/plain": [
       "Counter({'a': 5, 'b': 2, 'r': 2, 'c': 1, 'd': 1})"
      ]
     },
     "execution_count": 1,
     "metadata": {},
     "output_type": "execute_result"
    }
   ],
   "source": [
    "test_str = 'abracadabra'\n",
    "from collections import Counter\n",
    "\n",
    "ctr = Counter(test_str)\n",
    "#[Your for loop to get all the counts for items in test_str]\n",
    "ctr"
   ]
  },
  {
   "cell_type": "markdown",
   "metadata": {},
   "source": [
    "If you defined `ctr` correctly, it should look like this:\n",
    "\n",
    "```\n",
    "Counter({'a': 5, 'r': 2, 'b': 2, 'c': 1, 'd': 1})\n",
    "```\n",
    "\n",
    "Morevover if you want to know the count of some character in `test_str`, you do like this\n",
    "\n",
    "```\n",
    "In [5]: ctr['a']\n",
    "Out[5]: 5\n",
    "```"
   ]
  },
  {
   "cell_type": "markdown",
   "metadata": {},
   "source": [
    "Having now counted, we are going to write a line of code that removes all elements of `test_str` that do not occur at least 2 times.  Hint:  You should use a list-comprehension with a test:\n",
    "\n",
    "```\n",
    "[x for x in test_str if **test**]\n",
    "```\n",
    "\n",
    "This collects only the members of `test_str` that pass the test."
   ]
  },
  {
   "cell_type": "code",
   "execution_count": 3,
   "metadata": {},
   "outputs": [
    {
     "data": {
      "text/plain": [
       "['a', 'b', 'r', 'a', 'a', 'a', 'b', 'r', 'a']"
      ]
     },
     "execution_count": 3,
     "metadata": {},
     "output_type": "execute_result"
    }
   ],
   "source": [
    "#[your code here]\n",
    "[x for x in test_str if ctr[x] >= 2]"
   ]
  },
  {
   "cell_type": "markdown",
   "metadata": {},
   "source": [
    "In the final step we put all the code we've written into a function that not only works on `test_str`, but on any sequence, returning a version of the sequence with all singleton elements removed.  We've started the function definition below.  Remember to use `return`."
   ]
  },
  {
   "cell_type": "code",
   "execution_count": 5,
   "metadata": {
    "scrolled": true
   },
   "outputs": [
    {
     "name": "stdout",
     "output_type": "stream",
     "text": [
      "['a', 'b', 'r', 'a', 'a', 'a', 'b', 'r', 'a']\n",
      "[]\n",
      "[]\n",
      "['a', 'b', 'r', 'a', 'c', 'a', 'd', 'a', 'b', 'r', 'a', 'a', 'b', 'r', 'a', 'c', 'a', 'd', 'a', 'b', 'r', 'a']\n"
     ]
    }
   ],
   "source": [
    "from collections import Counter\n",
    "\n",
    "def remove_singletons (seq):\n",
    "    ctr = Counter(seq)\n",
    "    return [s for s in seq if ctr[s]>=2]\n",
    "\n",
    "\n",
    "# Some items to test on follow\n",
    "test_str1  = 'abracadabra'\n",
    "# Make sure to be okay on a boundary case\n",
    "test_list1 = []\n",
    "# Make sure to be able to remove everything\n",
    "test_list2 = list(range(7))\n",
    "# Another kind of boundary case\n",
    "test_str2 = test_str1 + test_str1\n",
    "\n",
    "print(remove_singletons(test_str1))\n",
    "print(remove_singletons(test_list1))\n",
    "print(remove_singletons(test_list2))\n",
    "print(remove_singletons(test_str2))"
   ]
  },
  {
   "cell_type": "markdown",
   "metadata": {},
   "source": [
    "The steps we took:\n",
    "\n",
    "\n",
    "1.  **Analysis**. Break the problem down into steps you know how to do in Python (yes, this is the hard part).  We know how to count the number of occcurrences of the elements of a container.  We know how filter out things that don't meet some criterion.  We broke the task of producing a sequence with the singletons removed into those two doable pieces.  \n",
    "2.  **Be example based.**  Write the code to execute one of your steps on one of your examples.  Interact with Python at this stage.  Get the basic idea working.\n",
    "3.  **Write a function**. Turn your code into a reusable function.\n",
    "4.  **Test**.  Test on a variety of cases.  Frequently I'll give you a set of cases to test on in an exercise. As you get more experienced you'll be able to generate your own useful test items.  If this is going to be a reusable piece of code you're going to change and maintain for a while, this is an extremely iomportant step.  You're building your first test suite."
   ]
  },
  {
   "cell_type": "markdown",
   "metadata": {},
   "source": [
    "# Exercise 2: For loops with Sudoku"
   ]
  },
  {
   "cell_type": "markdown",
   "metadata": {},
   "source": [
    "Just execute the code cell below.  We need it for the discussion and exercises that follow."
   ]
  },
  {
   "cell_type": "code",
   "execution_count": 6,
   "metadata": {},
   "outputs": [],
   "source": [
    "digits   = '123456789'\n",
    "rows     = 'ABCDEFGHI'\n",
    "cols     = digits\n",
    "squares  = [r+c for r in rows for c in cols]\n",
    "unitlist = ([[r+c for r in rows] for c in cols] + \n",
    "           [[r+c for c in cols] for r in rows] + \n",
    "           [[r+c for r in rs for c in cs] for rs in ('ABC','DEF','GHI') for cs in ('123','456','789')])\n",
    "\n",
    "# Assign to each square s, 3 sets of squares, the unique row and column and box s belongs to.\n",
    "units = dict((s, [u for u in unitlist if s in u])\n",
    "             for s in squares)\n",
    "## Assign to each square s a set of squares, namely those that cant have the same value as s.\n",
    "peers = dict((s, set(sum(units[s],[]))-set([s]))\n",
    "             for s in squares)\n",
    "grid1  = '003020600900305001001806400008102900700000008006708200002609500800203009005010300'\n",
    "grid1_soln = '483921657967345821251876493548132976729564138136798245372689514814253769695417382'\n",
    "grid2  = '003020600900305001001806400008102900700000008006708200002689500800203009005010300'"
   ]
  },
  {
   "cell_type": "markdown",
   "metadata": {},
   "source": [
    "The code above defines the row labels in a Sudoku puzzle  in a variable `rows`. Write a `for`-loop that prints out the row labels in a Sudoku puzzle."
   ]
  },
  {
   "cell_type": "code",
   "execution_count": null,
   "metadata": {},
   "outputs": [],
   "source": []
  },
  {
   "cell_type": "markdown",
   "metadata": {},
   "source": [
    "The code above defines the column labels in a Sudoku puzzle  in a variable `cols`. Write a `for`-loop that prints out the column labels in a Sudoku puzzle."
   ]
  },
  {
   "cell_type": "code",
   "execution_count": null,
   "metadata": {},
   "outputs": [],
   "source": []
  },
  {
   "cell_type": "markdown",
   "metadata": {},
   "source": [
    "Write a list comprehension that returns a list of the squares in rows `ABC` a Sudoku puzzle.  For a hint, look at the list comprehension that defines `squares` in the code above."
   ]
  },
  {
   "cell_type": "code",
   "execution_count": null,
   "metadata": {},
   "outputs": [],
   "source": [
    "ABC  = [] # Put your list comprehension in the the square "
   ]
  },
  {
   "cell_type": "code",
   "execution_count": null,
   "metadata": {},
   "outputs": [],
   "source": [
    "ABC"
   ]
  },
  {
   "cell_type": "markdown",
   "metadata": {},
   "source": [
    "If the variable `squares` had not been precomputed for you, you could also have computed it yourself with a **double loop** in a list comprehension, as discussed in [the section on loops](http://www-rohan.sdsu.edu/~gawron/python_for_ss/course_core/book_draft/programming_intro/list_comprehension.html) in the online text."
   ]
  },
  {
   "cell_type": "code",
   "execution_count": null,
   "metadata": {
    "scrolled": true
   },
   "outputs": [],
   "source": [
    "[r+c for r in rows for c in cols]"
   ]
  },
  {
   "cell_type": "markdown",
   "metadata": {},
   "source": [
    "This is an example of a very important idea with applicability to a lot of computations.  You're pairing every element in `rows` with every element in `cols`. That's called taking the cross-product of the two containers.  So now let's turn this idea into a function that won't just apply to `rows` and `cols`, but to any two containers with elements that can be combined with `+`. Let's call the function `cross` and the two containers that are its arguments `A` and `B`.  Finish the definition below."
   ]
  },
  {
   "cell_type": "code",
   "execution_count": 7,
   "metadata": {},
   "outputs": [],
   "source": [
    "def cross (A, B):\n",
    "    return [a+b for a in A for b in B]"
   ]
  },
  {
   "cell_type": "markdown",
   "metadata": {},
   "source": [
    "Try writing another function `cross2tuple` that works as follows:"
   ]
  },
  {
   "cell_type": "code",
   "execution_count": 4,
   "metadata": {},
   "outputs": [
    {
     "data": {
      "text/plain": [
       "[('rock', 'rock'),\n",
       " ('rock', 'paper'),\n",
       " ('rock', 'scissors'),\n",
       " ('paper', 'rock'),\n",
       " ('paper', 'paper'),\n",
       " ('paper', 'scissors'),\n",
       " ('scissors', 'rock'),\n",
       " ('scissors', 'paper'),\n",
       " ('scissors', 'scissors')]"
      ]
     },
     "execution_count": 4,
     "metadata": {},
     "output_type": "execute_result"
    }
   ],
   "source": [
    "cross2tuple(('rock','paper','scissors'),('rock','paper','scissors'))"
   ]
  },
  {
   "cell_type": "code",
   "execution_count": 9,
   "metadata": {},
   "outputs": [
    {
     "data": {
      "text/plain": [
       "[('rock', 'rock'),\n",
       " ('rock', 'paper'),\n",
       " ('rock', 'scissors'),\n",
       " ('paper', 'rock'),\n",
       " ('paper', 'paper'),\n",
       " ('paper', 'scissors'),\n",
       " ('scissors', 'rock'),\n",
       " ('scissors', 'paper'),\n",
       " ('scissors', 'scissors')]"
      ]
     },
     "execution_count": 9,
     "metadata": {},
     "output_type": "execute_result"
    }
   ],
   "source": [
    "def cross2tuple (A, B):\n",
    "    return [(a,b) for a in A for b in B]\n",
    "\n",
    "cross2tuple(('rock','paper','scissors'),('rock','paper','scissors'))"
   ]
  },
  {
   "cell_type": "markdown",
   "metadata": {},
   "source": [
    "One of the most powerful things about functions is that it allows you to **simplify**.  Once you identify an important operation like `cross` you can see it in other computations.  Consider the definition of `units` given below.  We want to create a list that contains all\n",
    "of the **units**, that is, all\n",
    "of the columns (9 groups of squares) all of the rows (9 groups of squares) and\n",
    "all of the boxes (again, 9 groups of squares).  In the code above (adapted from\n",
    "Norvig's code) this was done by concatenating together three lists, as shown\n",
    "in the snippet below.  Line 1 computes a list of the 9 columns; line 2 a list the 9 rows,\n",
    "and lines 3 & 4 a list of the 9 squares.\n",
    "```\n",
    "1 unitlist = ([[r+c for r in rows] for c in cols] +\n",
    "2             [[r+c for c in cols] for r in rows] +\n",
    "3             [[r+c for r in rs for c in cs] for rs in ('ABC','DEF','GHI') \n",
    "4                                            for cs in ('123','456','789')])\n",
    "```\n",
    "Notice that each line involves a `cross` operation.  In line 1, we take a column `c`\n",
    "and *cross* all the things in `rows` with all the things in `c` (namely `c`).  Similarly in\n",
    "line 2, we take a row `r` and *cross* it with all things in `cols`.  Finally, to compute the contents of each box unit, we *cross* the rows in that box unit with the cols in that box unit. So with `cross` defined, we can rewrite the code above as\n",
    "```\n",
    "1 unitlist = [cross(rows,c) for c in cols] +\n",
    "2            [cross(r,cols) for r in rows] +\n",
    "3            [cross(rs,cs) for rs in ('ABC','DEF','GHI') \n",
    "4                          for cs in ('123','456','789')]\n",
    "```\n",
    "Notice the code's much easier to read and understand.  We don't have to rethink the parts of a *cross* operation each time we get to one.  That simplification of the comprehension process is one of the huge benefits of functions.\n",
    "\n",
    "The code for `cross` is also quite general.  Thinking about what the code does, answer the following questions.\n",
    "\n",
    "1. Suppose `A` is of length 3.  Does `B` have to also be of length 3 in order for `cross(A,B)`\n",
    "to make sense?\n",
    "2. Suppose `A` is of length `M` and `B` is of length `N`.  What is the length of `cross(A,B)`?\n",
    "3. Try to guess what `cross([1,1,1],[-1,-1,-1,-1])` will be and describe your in answer in a single sentence.  Verify it using Python.\n",
    "4. Try to guess what `cross(['1','1','1'],['-1','-1','-1','-1'])` will be and describe your in answer in a single sentence.  Verify it using Python."
   ]
  },
  {
   "cell_type": "markdown",
   "metadata": {},
   "source": [
    "[Your answers to questions 1-4 in prose in this markdown cell.]"
   ]
  },
  {
   "cell_type": "code",
   "execution_count": 11,
   "metadata": {},
   "outputs": [
    {
     "name": "stdout",
     "output_type": "stream",
     "text": [
      "12\n",
      "[0, 0, 0, 0, 0, 0, 0, 0, 0, 0, 0, 0]\n",
      "['1-1', '1-1', '1-1', '1-1', '1-1', '1-1', '1-1', '1-1', '1-1', '1-1', '1-1', '1-1']\n"
     ]
    }
   ],
   "source": [
    "# Andwer to 1, no; answer to 2 M x N.  Both answers validated in the next line\n",
    "print(len(cross([1,1,1],[-1,-1,-1,-1])))\n",
    "print(cross([1,1,1],[-1,-1,-1,-1]))\n",
    "print(cross(['1','1','1'],['-1','-1','-1','-1']))"
   ]
  },
  {
   "cell_type": "markdown",
   "metadata": {
    "collapsed": true
   },
   "source": [
    "# Imports & namespaces"
   ]
  },
  {
   "cell_type": "markdown",
   "metadata": {
    "collapsed": true
   },
   "source": [
    "In this exercise we try to diagnose and fix namespace-related errors.  As discussed in the `running_python` notebook `numpy` is a module that defines a `log` function, called as follows in our notebook:\n",
    "\n",
    "```\n",
    "log(2)\n",
    "```\n",
    "\n",
    "But note that function  doesnt work here"
   ]
  },
  {
   "cell_type": "code",
   "execution_count": 12,
   "metadata": {},
   "outputs": [
    {
     "ename": "NameError",
     "evalue": "name 'log' is not defined",
     "output_type": "error",
     "traceback": [
      "\u001b[0;31m---------------------------------------------------------------------------\u001b[0m",
      "\u001b[0;31mNameError\u001b[0m                                 Traceback (most recent call last)",
      "Cell \u001b[0;32mIn[12], line 1\u001b[0m\n\u001b[0;32m----> 1\u001b[0m \u001b[43mlog\u001b[49m(\u001b[38;5;241m2\u001b[39m)\n",
      "\u001b[0;31mNameError\u001b[0m: name 'log' is not defined"
     ]
    }
   ],
   "source": [
    "log(2)"
   ]
  },
  {
   "cell_type": "markdown",
   "metadata": {},
   "source": [
    "Of course in the running_python notebook we had automagically imported numpy functions with our \n",
    "\n",
    "```\n",
    "%pylab inline\n",
    "```\n",
    "\n",
    "cell at the beginning of the notebook.  So let's try importing `numpy` and see if that works."
   ]
  },
  {
   "cell_type": "code",
   "execution_count": 13,
   "metadata": {},
   "outputs": [
    {
     "ename": "NameError",
     "evalue": "name 'log' is not defined",
     "output_type": "error",
     "traceback": [
      "\u001b[0;31m---------------------------------------------------------------------------\u001b[0m",
      "\u001b[0;31mNameError\u001b[0m                                 Traceback (most recent call last)",
      "Cell \u001b[0;32mIn[13], line 2\u001b[0m\n\u001b[1;32m      1\u001b[0m \u001b[38;5;28;01mimport\u001b[39;00m \u001b[38;5;21;01mnumpy\u001b[39;00m \n\u001b[0;32m----> 2\u001b[0m \u001b[43mlog\u001b[49m(\u001b[38;5;241m2\u001b[39m)\n",
      "\u001b[0;31mNameError\u001b[0m: name 'log' is not defined"
     ]
    }
   ],
   "source": [
    "import numpy \n",
    "log(2)"
   ]
  },
  {
   "cell_type": "markdown",
   "metadata": {},
   "source": [
    "Still doesn't work!"
   ]
  },
  {
   "cell_type": "markdown",
   "metadata": {},
   "source": [
    "Describe what happened when you evaluate the cell above and why.  What does it have to do with namespaces?  To answer this question, you might need to review [the online book draft section on name spaces](http://gawron.sdsu.edu/python_for_ss/book_draft/anatomy/nme_space.html).\n",
    "\n",
    "For a little extra credit, explain why `log(2)` did work in the running_python notebook."
   ]
  },
  {
   "cell_type": "markdown",
   "metadata": {},
   "source": [
    "[Your answer in this markdown cell]"
   ]
  },
  {
   "cell_type": "markdown",
   "metadata": {},
   "source": [
    "The code cell below is a copy of the cell above.  Edit it and fix the problem"
   ]
  },
  {
   "cell_type": "code",
   "execution_count": 14,
   "metadata": {},
   "outputs": [
    {
     "data": {
      "text/plain": [
       "0.6931471805599453"
      ]
     },
     "execution_count": 14,
     "metadata": {},
     "output_type": "execute_result"
    }
   ],
   "source": [
    "import numpy\n",
    "numpy.log(2)"
   ]
  },
  {
   "cell_type": "markdown",
   "metadata": {},
   "source": [
    "The `string` module defines a character string `ascii_letters`.  The line in the code looks like this:\n",
    "\n",
    "```\n",
    "ascii_letters = 'abcdefghijklmnopqrstuvwxyzABCDEFGHIJKLMNOPQRSTUVWXYZ'\n",
    "```\n",
    "\n",
    "Fix the problem in the next cell.\n"
   ]
  },
  {
   "cell_type": "code",
   "execution_count": 15,
   "metadata": {},
   "outputs": [
    {
     "data": {
      "text/plain": [
       "'abcdefghijklmnopqrstuvwxyzABCDEFGHIJKLMNOPQRSTUVWXYZ'"
      ]
     },
     "execution_count": 15,
     "metadata": {},
     "output_type": "execute_result"
    }
   ],
   "source": [
    "import string\n",
    "string.ascii_letters"
   ]
  },
  {
   "cell_type": "markdown",
   "metadata": {},
   "source": [
    "Finally, `numpy` is a popular module, often frequently invoked by the programs that use\n",
    "it.  Hence it's convenient to give that namespace an easier-to-type *nickname* with the following\n",
    "import command:"
   ]
  },
  {
   "cell_type": "code",
   "execution_count": null,
   "metadata": {},
   "outputs": [],
   "source": [
    "import numpy as np\n"
   ]
  },
  {
   "cell_type": "markdown",
   "metadata": {},
   "source": [
    "What would the proper fix to the namespace problem (trying to call `log(2)` be if you imported\n",
    "`numpy` this way?"
   ]
  },
  {
   "cell_type": "code",
   "execution_count": 17,
   "metadata": {},
   "outputs": [
    {
     "data": {
      "text/plain": [
       "0.6931471805599453"
      ]
     },
     "execution_count": 17,
     "metadata": {},
     "output_type": "execute_result"
    }
   ],
   "source": [
    "import numpy as np\n",
    "np.log(2)"
   ]
  },
  {
   "cell_type": "markdown",
   "metadata": {},
   "source": [
    "Put your answer in this markdown cell.  Note  that if you've executed both `import numpy`\n",
    "and `import numpy as np`, both names for the module will work."
   ]
  },
  {
   "cell_type": "markdown",
   "metadata": {},
   "source": [
    "There's one more variant of the `import` command worth knowing, since you'll see it a loy in other people's  code\n",
    "even if youdon;'t use it yourself."
   ]
  },
  {
   "cell_type": "code",
   "execution_count": 18,
   "metadata": {},
   "outputs": [],
   "source": [
    "from numpy import log"
   ]
  },
  {
   "cell_type": "markdown",
   "metadata": {},
   "source": [
    "This imports just the log function and the name `log`. So the following works."
   ]
  },
  {
   "cell_type": "code",
   "execution_count": 19,
   "metadata": {},
   "outputs": [
    {
     "data": {
      "text/plain": [
       "0.6931471805599453"
      ]
     },
     "execution_count": 19,
     "metadata": {},
     "output_type": "execute_result"
    }
   ],
   "source": [
    "log(2)"
   ]
  },
  {
   "cell_type": "markdown",
   "metadata": {},
   "source": [
    "Recall that python's `math` module also defines a version of the `log` function, albeit a slightly different one.\n",
    "\n",
    "What do you will happen when we now execute the following cell?"
   ]
  },
  {
   "cell_type": "code",
   "execution_count": 20,
   "metadata": {},
   "outputs": [],
   "source": [
    "from math import log"
   ]
  },
  {
   "cell_type": "markdown",
   "metadata": {},
   "source": [
    "Surprised?  Welcome to the wonderful word of powerful customization.\n",
    "\n",
    "You now know enough to cause yourself serious grief.\n",
    "\n",
    "Which version  of `log` do you think will now be called when you execute\n",
    "`log(2)`?\n",
    "\n",
    "Confirm or disconfirm your guess by trying out one of the features defined for one function but not\n",
    "the other, as discussed in the running_python notebook.\n",
    "\n",
    "Put your demonstration in the cell below."
   ]
  },
  {
   "cell_type": "code",
   "execution_count": 22,
   "metadata": {},
   "outputs": [
    {
     "ename": "TypeError",
     "evalue": "must be real number, not complex",
     "output_type": "error",
     "traceback": [
      "\u001b[0;31m---------------------------------------------------------------------------\u001b[0m",
      "\u001b[0;31mTypeError\u001b[0m                                 Traceback (most recent call last)",
      "Cell \u001b[0;32mIn[22], line 2\u001b[0m\n\u001b[1;32m      1\u001b[0m \u001b[38;5;66;03m# We are using the math.log version which does not handle complex numbers\u001b[39;00m\n\u001b[0;32m----> 2\u001b[0m \u001b[43mlog\u001b[49m\u001b[43m(\u001b[49m\u001b[38;5;241;43m2\u001b[39;49m\u001b[38;5;241;43m+\u001b[39;49m\u001b[38;5;241;43m3\u001b[39;49m\u001b[43mj\u001b[49m\u001b[43m)\u001b[49m\n",
      "\u001b[0;31mTypeError\u001b[0m: must be real number, not complex"
     ]
    }
   ],
   "source": [
    "# We are using the math.log version which does not handle complex numbers\n",
    "log(2+3j)"
   ]
  },
  {
   "cell_type": "markdown",
   "metadata": {},
   "source": [
    "The moral here is that when you do `from <module> import <name>`, you are importing `<name>` into your global namespace.\n",
    "\n",
    "Just as when you assign any object to a name, that name is now used up. And you need to be careful\n",
    "not to abuse it by giving that name another meaning."
   ]
  },
  {
   "cell_type": "markdown",
   "metadata": {},
   "source": [
    "# Customized class example"
   ]
  },
  {
   "cell_type": "markdown",
   "metadata": {},
   "source": [
    "Namespace issues also arise  whenever we have `class` definitions and instances\n",
    "of classes.  The following  class definition defines the `Point`\n",
    "class.  `Point` instance represent points in the `xy`-plane.  The\n",
    "have methods like `distance_from_origin` and `distance` (from another\n",
    "point instance)."
   ]
  },
  {
   "cell_type": "code",
   "execution_count": 78,
   "metadata": {},
   "outputs": [],
   "source": [
    "import math\n",
    "## Not used in class dfn below but helpful for discussion\n",
    "import numpy as np\n",
    "\n",
    "class Point:\n",
    "\n",
    "    def __init__(self, x=0, y=0):\n",
    "        self.x = x\n",
    "        self.y = y\n",
    "\n",
    "    def __str__(self):\n",
    "       return \"Point({0}, {1})\".format(self.x, self.y)\n",
    "\n",
    "    def __eq__ (self, other):\n",
    "        if self.x == other.x and self.y == other.y:\n",
    "            return True\n",
    "        else:\n",
    "            return False\n",
    "\n",
    "    def distance_from_origin (self):\n",
    "        return math.sqrt(self.x**2 + self.y**2)\n",
    "\n",
    "    def distance(self, p2):\n",
    "        return math.sqrt((p2.x - self.x)**2 + (p2.y - self.y)**2)"
   ]
  },
  {
   "cell_type": "markdown",
   "metadata": {},
   "source": [
    "## Creating instances of the class"
   ]
  },
  {
   "cell_type": "code",
   "execution_count": 24,
   "metadata": {},
   "outputs": [
    {
     "name": "stdout",
     "output_type": "stream",
     "text": [
      "3\n",
      "2\n"
     ]
    },
    {
     "data": {
      "text/plain": [
       "True"
      ]
     },
     "execution_count": 24,
     "metadata": {},
     "output_type": "execute_result"
    }
   ],
   "source": [
    "p1 = Point(3,4)\n",
    "p2 = Point(1,2)\n",
    "p3 = Point(3,4)\n",
    "print((p1.x))\n",
    "print((p2.y))\n",
    "p1 == p3"
   ]
  },
  {
   "cell_type": "markdown",
   "metadata": {},
   "source": [
    "To find the string to print for a class instance, `print` calls the instance's `__str__` method."
   ]
  },
  {
   "cell_type": "code",
   "execution_count": 25,
   "metadata": {},
   "outputs": [
    {
     "name": "stdout",
     "output_type": "stream",
     "text": [
      "Point(3, 4)\n"
     ]
    }
   ],
   "source": [
    "print(p1)"
   ]
  },
  {
   "cell_type": "markdown",
   "metadata": {},
   "source": [
    "To find the string to print out when the value of a cell is a class instance, the Python interpreter calls the instance's `__repr__` method.\n",
    "\n",
    "Since we didn't define one above a generic inherited `__repr__` method is called."
   ]
  },
  {
   "cell_type": "code",
   "execution_count": 26,
   "metadata": {},
   "outputs": [
    {
     "data": {
      "text/plain": [
       "<__main__.Point at 0x7fa294bf8eb0>"
      ]
     },
     "execution_count": 26,
     "metadata": {},
     "output_type": "execute_result"
    }
   ],
   "source": [
    "p1"
   ]
  },
  {
   "cell_type": "code",
   "execution_count": 29,
   "metadata": {},
   "outputs": [
    {
     "data": {
      "text/plain": [
       "2.8284271247461903"
      ]
     },
     "execution_count": 29,
     "metadata": {},
     "output_type": "execute_result"
    }
   ],
   "source": [
    "p1.distance(p2)"
   ]
  },
  {
   "cell_type": "code",
   "execution_count": 16,
   "metadata": {},
   "outputs": [
    {
     "data": {
      "text/plain": [
       "2.8284271247461903"
      ]
     },
     "execution_count": 16,
     "metadata": {},
     "output_type": "execute_result"
    }
   ],
   "source": [
    "p2.distance(p1)"
   ]
  },
  {
   "cell_type": "markdown",
   "metadata": {},
   "source": [
    "**Exercise**:  There is an error raised by the code in the next cell"
   ]
  },
  {
   "cell_type": "code",
   "execution_count": 65,
   "metadata": {
    "scrolled": true
   },
   "outputs": [
    {
     "ename": "TypeError",
     "evalue": "Point.__init__() missing 2 required positional arguments: 'x' and 'y'",
     "output_type": "error",
     "traceback": [
      "\u001b[0;31m---------------------------------------------------------------------------\u001b[0m",
      "\u001b[0;31mTypeError\u001b[0m                                 Traceback (most recent call last)",
      "Cell \u001b[0;32mIn[65], line 1\u001b[0m\n\u001b[0;32m----> 1\u001b[0m p4 \u001b[38;5;241m=\u001b[39m \u001b[43mPoint\u001b[49m\u001b[43m(\u001b[49m\u001b[43m)\u001b[49m\n",
      "\u001b[0;31mTypeError\u001b[0m: Point.__init__() missing 2 required positional arguments: 'x' and 'y'"
     ]
    }
   ],
   "source": [
    "p4 = Point()"
   ]
  },
  {
   "cell_type": "markdown",
   "metadata": {},
   "source": [
    "Modify the definition of the class `Point` so that `p4` behaves  as follows:"
   ]
  },
  {
   "cell_type": "code",
   "execution_count": 79,
   "metadata": {},
   "outputs": [
    {
     "name": "stdout",
     "output_type": "stream",
     "text": [
      "Point(0, 0)\n"
     ]
    }
   ],
   "source": [
    "p4 = Point()\n",
    "print(p4)"
   ]
  },
  {
   "cell_type": "markdown",
   "metadata": {},
   "source": [
    "After fixing the problem, Explain what went\n",
    "wrong and why your fix works.  To answer this question, you might need to review [the online book draft section on classes.](http://gawron.sdsu.edu/python_for_ss/book_draft/anatomy/classes.html)."
   ]
  },
  {
   "cell_type": "markdown",
   "metadata": {},
   "source": [
    "I modified the `__init__` method in the definition of the class `Point` so that the `x` and `y` arguments had default values of `0`.\n",
    "\n",
    "```\n",
    "def __init__(self, x=0, y=0):\n",
    "        self.x = x\n",
    "        self.y = y\n",
    "```"
   ]
  },
  {
   "cell_type": "code",
   "execution_count": 66,
   "metadata": {},
   "outputs": [],
   "source": [
    "\n",
    "class Point1:\n",
    "\n",
    "    def __init__(self, x=0, y=0):\n",
    "        self.x = x\n",
    "        self.y = y\n",
    "\n",
    "    def __str__(self):\n",
    "       return \"Point1({0}, {1})\".format(self.x, self.y)\n",
    "\n",
    "    def __eq__ (self, other):\n",
    "        if self.x == other.x and self.y == other.y:\n",
    "            return True\n",
    "        else:\n",
    "            return False\n",
    "\n",
    "    def distance_from_origin (self):\n",
    "        return math.sqrt(self.x**2 + self.y**2)\n",
    "\n",
    "    def distance(self, p2):\n",
    "        return math.sqrt((p2.x - self.x)**2 + (p2.y - self.y)**2)\n",
    "        \n",
    "    def average(self, P2):\n",
    "        # Returns the midpoint of the line connecting self and P2\n",
    "        return Point1(x=(self.x+P2.x)/2, y=(self.y+P2.y)/2)\n",
    "    \n",
    "    def line_slope (self,P2):\n",
    "        # Returns the slope of the line connecting self and P2\n",
    "        return (P2.y - self.y)/(P2.x - self.x)\n",
    "    \n"
   ]
  },
  {
   "cell_type": "markdown",
   "metadata": {},
   "source": [
    "Subtle point:  Note that  the `__str__` method has been modified so that this would print\n",
    "as a `Point1` instance."
   ]
  },
  {
   "cell_type": "markdown",
   "metadata": {},
   "source": [
    "**Exercise**  Modify the `Point1` class definition so that a point `P1` has a new  method\n",
    "that finds a new point on the midpoint of the line conecting `P1` and `P2`. \n",
    "For example,\n",
    "\n",
    "```\n",
    "In: [] P1 = Point1(3, 4)\n",
    "In: [] P2 = Point1(-1, 5)\n",
    "In: [] P3 = P1.average(P2)\n",
    "In: [] print(P3)\n",
    "Point1(1.0, 4.5)\n",
    "```\n",
    "\n",
    "Note: Test your method and be sure to re-execute the class definition and create\n",
    "new points using the redefined class when you do.  Otherwise, `P1` won't have\n",
    "the method defined for it."
   ]
  },
  {
   "cell_type": "code",
   "execution_count": 67,
   "metadata": {},
   "outputs": [
    {
     "name": "stdout",
     "output_type": "stream",
     "text": [
      "Point1(1.0, 4.5)\n"
     ]
    }
   ],
   "source": [
    "# Test your solution here after moidifying and re-executing the def of Point1 above\n",
    "P1 = Point1(3, 4)\n",
    "P2 = Point1(-1, 5)\n",
    "P3 = P1.average(P2)\n",
    "print(P3)"
   ]
  },
  {
   "cell_type": "markdown",
   "metadata": {},
   "source": [
    "Demonstrating `P3` is on the same line,\n",
    "by looking at all three slopss."
   ]
  },
  {
   "cell_type": "code",
   "execution_count": 68,
   "metadata": {},
   "outputs": [
    {
     "data": {
      "text/plain": [
       "(-0.25, -0.25, -0.25)"
      ]
     },
     "execution_count": 68,
     "metadata": {},
     "output_type": "execute_result"
    }
   ],
   "source": [
    "(P2.line_slope(P1),P3.line_slope(P2), P3.line_slope(P1))"
   ]
  },
  {
   "cell_type": "markdown",
   "metadata": {},
   "source": [
    "**Optional  extended exercise**.  Edit the class `Point` to create a new class `Point2`, which\n",
    "allows points be created either with\n",
    "Cartesian (x,y) coordinates or Polar coordinate (angle $\\theta$ and line length $\\rho$).\n",
    "Creating points should look like this\n",
    "\n",
    "```\n",
    ">>> from numpy import pi\n",
    ">>> p1 = Point2(cartesian = (2,3))\n",
    ">>> p2 = Point2(polar = (pi/3, 2))\n",
    "```\n",
    "\n",
    "You want any point, regardless of how it was created, to support the following\n",
    "\n",
    "```\n",
    ">>> p1.x\n",
    "2\n",
    ">>> p1.y\n",
    "3\n",
    ">>> p1.rho()\n",
    "3.605551275463989  # np.sqrt of 3**2 + 2**2\n",
    ">>> p1.theta()\n",
    "0.982793723247329 # np.arccos(2/p1.distance_from_origin())\n",
    "```\n",
    "\n",
    "The easiest way to do this is just store x and y\n",
    "values in the `__init__` functiom.\n",
    "\n",
    "```\n",
    "self.x = x\n",
    "self.y = y\n",
    "```\n",
    "\n",
    "Of course if `Point(polar = (pi/3, 2))` has been used,\n",
    "supplying `theta` and `rho` instead of `x` and `y`,\n",
    "you will have to compute `x` and `y` from `theta` and `rho`.\n",
    "For that you can use the relationship\n",
    "\n",
    "```\n",
    "x = rho * np.cos(theta)\n",
    "y = rho * np.sin(theta)\n",
    "```\n",
    "\n",
    "What this means is that you will need to define\n",
    "the methods `rho` and `theta` as in, for example\n",
    "`p1.rho()` above.  The comments above should\n",
    "help."
   ]
  },
  {
   "cell_type": "code",
   "execution_count": 86,
   "metadata": {},
   "outputs": [],
   "source": [
    "class Point2:\n",
    "\n",
    "    def __init__(self, cartesian=None,polar=None):\n",
    "        # This \"check\" causes an error if both parameters are None\n",
    "        assert not(cartesian is None and polar is None), \"You must supply a value for either cartesian or polar\"\n",
    "        if polar is None:\n",
    "            (self.x,self.y) = cartesian\n",
    "        else:\n",
    "            theta,rho = polar\n",
    "            self.x = rho*np.cos(theta)\n",
    "            self.y = rho*np.sin(theta)\n",
    "                                \n",
    "    def __str__(self):\n",
    "       return \"Point1({0}, {1})\".format(self.x, self.y)\n",
    "    \n",
    "    def __eq__ (self, other):\n",
    "        if self.x == other.x and self.y == other.y:\n",
    "            return True\n",
    "        else:\n",
    "            return False\n",
    "\n",
    "    def distance_from_origin (self):\n",
    "        return math.sqrt(self.x**2 + self.y**2)\n",
    "\n",
    "    def distance(self, p2):\n",
    "        return math.sqrt((p2.x - self.x)**2 + (p2.y - self.y)**2)\n",
    "        \n",
    "    def rho(self):\n",
    "        return self.distance_from_origin()\n",
    "    \n",
    "    def theta (self):\n",
    "        return np.arccos(self.x/self.distance_from_origin())\n",
    "    "
   ]
  },
  {
   "cell_type": "code",
   "execution_count": 71,
   "metadata": {},
   "outputs": [
    {
     "name": "stdout",
     "output_type": "stream",
     "text": [
      "P1.x=3   P1.y=4   P1.rho()=5.0   P1.theta()=0.927\n"
     ]
    }
   ],
   "source": [
    "P1 = Point2(cartesian=(3,4))\n",
    "print(f\"{P1.x=}   {P1.y=}   {P1.rho()=}   {P1.theta()=:.3f}\")"
   ]
  },
  {
   "cell_type": "markdown",
   "metadata": {},
   "source": [
    "Demonstrating reversibility:"
   ]
  },
  {
   "cell_type": "code",
   "execution_count": 85,
   "metadata": {},
   "outputs": [
    {
     "name": "stdout",
     "output_type": "stream",
     "text": [
      "Point1(3.0, 4.0)\n"
     ]
    }
   ],
   "source": [
    "P2 = Point2(polar=(P1.theta(),P1.rho()))\n",
    "print(f\"{P2}\")"
   ]
  },
  {
   "cell_type": "markdown",
   "metadata": {},
   "source": [
    "Checking theta and rho another way:"
   ]
  },
  {
   "cell_type": "code",
   "execution_count": 72,
   "metadata": {},
   "outputs": [
    {
     "data": {
      "text/plain": [
       "(3.0, 4.0)"
      ]
     },
     "execution_count": 72,
     "metadata": {},
     "output_type": "execute_result"
    }
   ],
   "source": [
    "P1.rho()*np.cos(P1.theta()),P1.rho()*np.sin(P1.theta())"
   ]
  },
  {
   "cell_type": "code",
   "execution_count": 77,
   "metadata": {},
   "outputs": [
    {
     "data": {
      "text/plain": [
       "(3.605551275463989, 0.982793723247329)"
      ]
     },
     "execution_count": 77,
     "metadata": {},
     "output_type": "execute_result"
    }
   ],
   "source": [
    "# From the example given\n",
    "p3 = Point2(cartesian = (2,3))\n",
    "p3.rho(),p3.theta()"
   ]
  },
  {
   "cell_type": "markdown",
   "metadata": {},
   "source": [
    "## Class and instance namespaces"
   ]
  },
  {
   "cell_type": "markdown",
   "metadata": {},
   "source": [
    "An important feature of class definitions is that the names created in the class definition are in a separate namespace.  Consider:"
   ]
  },
  {
   "cell_type": "code",
   "execution_count": null,
   "metadata": {},
   "outputs": [],
   "source": [
    "distance_from_origin(p1)"
   ]
  },
  {
   "cell_type": "markdown",
   "metadata": {},
   "source": [
    "This is a `NameError`.  The name `distance_from_origin` does not belong to the global namespace.  When\n",
    "the class `Point` was defined, the class name `Point` became part of the global name space `__main__`; hence we can use it to create a `Point` instance. "
   ]
  },
  {
   "cell_type": "code",
   "execution_count": 13,
   "metadata": {},
   "outputs": [
    {
     "data": {
      "text/plain": [
       "__main__.Point"
      ]
     },
     "execution_count": 13,
     "metadata": {},
     "output_type": "execute_result"
    }
   ],
   "source": [
    "Point"
   ]
  },
  {
   "cell_type": "markdown",
   "metadata": {},
   "source": [
    "But none of the internal methods or attributes are in the global namespace.  They are accessible only\n",
    "when using the class namespace, or the namespace that belongs to the instance of a class. Hence, given that \n",
    "`p1` and `p2` are class instances, all of the following are legal:\n",
    "\n",
    "```\n",
    "p1.distance_from_origin()\n",
    "p2.distance_from_origin()\n",
    "Point.distance_from_origin(p1)\n",
    "p1.x\n",
    "p1.y\n",
    "p2.x\n",
    "p2.y\n",
    "```\n",
    "\n",
    "Note that `x` and `y` are in the name spaces for `p1` and `p2` because the `__init__` method for `Point`\n",
    "sets those attributes with the lines:\n",
    "\n",
    "```\n",
    "self.x = x\n",
    "self.y = y\n",
    "```\n"
   ]
  },
  {
   "cell_type": "markdown",
   "metadata": {},
   "source": [
    "Why is drawing\n",
    "a function and not a method?  This has to do with models of how the module will\n",
    "be used and it is, frankly,\n",
    "sometimes a matter of programmer taste.  Does the term \"drawing\"\n",
    "describe a class\n",
    "of algorithms of various that can be applied to graphs, or is it an\n",
    "operation structurally intrinsic to graphs? Arguably it is the former\n",
    "so it is perhaps viewed as a family of functions, with the one enjoying the status\n",
    "of default drawing algorithm used above."
   ]
  },
  {
   "cell_type": "code",
   "execution_count": null,
   "metadata": {},
   "outputs": [],
   "source": []
  }
 ],
 "metadata": {
  "celltoolbar": "Raw Cell Format",
  "kernelspec": {
   "display_name": "Python 3 (ipykernel)",
   "language": "python",
   "name": "python3"
  },
  "language_info": {
   "codemirror_mode": {
    "name": "ipython",
    "version": 3
   },
   "file_extension": ".py",
   "mimetype": "text/x-python",
   "name": "python",
   "nbconvert_exporter": "python",
   "pygments_lexer": "ipython3",
   "version": "3.10.6"
  },
  "toc": {
   "base_numbering": 1,
   "nav_menu": {
    "height": "121px",
    "width": "252px"
   },
   "number_sections": true,
   "sideBar": true,
   "skip_h1_title": false,
   "title_cell": "Table of Contents",
   "title_sidebar": "Contents",
   "toc_cell": false,
   "toc_position": {},
   "toc_section_display": "block",
   "toc_window_display": false
  }
 },
 "nbformat": 4,
 "nbformat_minor": 1
}
