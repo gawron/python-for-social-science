{
 "cells": [
  {
   "cell_type": "markdown",
   "metadata": {},
   "source": [
    "# Functions, types, loops assignment"
   ]
  },
  {
   "cell_type": "markdown",
   "metadata": {},
   "source": [
    "## Directions"
   ]
  },
  {
   "cell_type": "markdown",
   "metadata": {},
   "source": [
    "Write code that will generate the give output using the given data. For example::\n",
    " \n",
    "     In [ ]: a_list = [1,1,3,2]\n",
    "             YOUR CODE HERE\n",
    "     Out [ ]: 7\n",
    "     \n",
    "NOTE: The idea of this kind of exercise is to write a line of code\n",
    "that will produce the given output or outputs, 7 in this case.  Your\n",
    "answer goes in the next cell, which is a code cell.  It should this be an\n",
    "expression that operates on `a_list`.  A simple correct answer is:\n",
    "\n",
    "     In [ ]: a_list = [1,1,3,2]\n",
    "             sum(a_list)\n",
    "     Out [ ]: 7\n",
    "     \n",
    "Don't forget to evaluate the cell after you've written in your answer to generate Python's output and check your answer!\n"
   ]
  },
  {
   "cell_type": "markdown",
   "metadata": {},
   "source": [
    "## Exercise 1"
   ]
  },
  {
   "cell_type": "markdown",
   "metadata": {},
   "source": [
    "Write a line of code that produces the given output. "
   ]
  },
  {
   "cell_type": "markdown",
   "metadata": {},
   "source": [
    " Write a line of code that produces the given output: \n",
    "   \n",
    "     In [ ]: S, T = set('abc'), set('bcd')\n",
    "           YOUR CODE HERE\n",
    "     Out [ ]: {'b','c'}\n",
    "\n",
    "Hint.  Each Python type has its own methods.  For instance, strings have a `.title()` method that capitalizes them.  For this problem use a method that is particular to **sets** on the two sets `S` and `T`.  See the [Set Operations Notebook](https://colab.research.google.com/github/gawron/python-for-social-science/blob/master/intro/set_operations.ipynb) for a discussion of set methods. Also see [Van DerPlas's Whirlwind Tour, Ch. 6.](https://colab.research.google.com/github/jakevdp/WhirlwindTourOfPython/blob/6f1daf714fe52a8dde6a288674ba46a7feed8816/06-Built-in-Data-Structures.ipynb) "
   ]
  },
  {
   "cell_type": "code",
   "execution_count": 1,
   "metadata": {},
   "outputs": [],
   "source": [
    "S, T = set('abc'), set('bcd')"
   ]
  },
  {
   "cell_type": "markdown",
   "metadata": {},
   "source": [
    "## Exercise 2"
   ]
  },
  {
   "cell_type": "markdown",
   "metadata": {},
   "source": [
    " Write a single line of code that produces the given outputs: \n",
    "   \n",
    "     In [ ]: S, T = set('abc'), set('bcd')\n",
    "           YOUR CODE HERE\n",
    "     Out [ ]: {'a'}\n",
    "     In [ ]: S, T = set('abcdefg'), set('bdef')\n",
    "           THE SAME CODE HERE\n",
    "     Out [ ]: {'a','c', 'g'}"
   ]
  },
  {
   "cell_type": "code",
   "execution_count": 65,
   "metadata": {},
   "outputs": [
    {
     "data": {
      "text/plain": [
       "{'a'}"
      ]
     },
     "execution_count": 65,
     "metadata": {},
     "output_type": "execute_result"
    }
   ],
   "source": [
    "S, T = set('abc'), set('bcd')\n",
    "# Your code here"
   ]
  },
  {
   "cell_type": "code",
   "execution_count": 66,
   "metadata": {},
   "outputs": [
    {
     "data": {
      "text/plain": [
       "{'a', 'c', 'g'}"
      ]
     },
     "execution_count": 66,
     "metadata": {},
     "output_type": "execute_result"
    }
   ],
   "source": [
    "S, T = set('abcdefg'), set('bdef')\n",
    "# THe same code here"
   ]
  },
  {
   "cell_type": "markdown",
   "metadata": {},
   "source": [
    "## Exercise 3"
   ]
  },
  {
   "cell_type": "markdown",
   "metadata": {},
   "source": [
    "  Write a line of code that produces the given output.  Use a splice with a \"steps\" component.\n",
    "   \n",
    "    In [ ]: X = 'abcdefghij'\n",
    "             YOUR CODE HERE\n",
    "    Out [ ]: 'acegi'"
   ]
  },
  {
   "cell_type": "code",
   "execution_count": 1,
   "metadata": {},
   "outputs": [],
   "source": [
    "X  = 'abcdefghij'\n",
    "# Your code here"
   ]
  },
  {
   "cell_type": "markdown",
   "metadata": {},
   "source": [
    "## Exercise 4"
   ]
  },
  {
   "cell_type": "markdown",
   "metadata": {},
   "source": [
    " Write a line of code that produces the given output: \n",
    "   \n",
    "     In [ ]: a_list = [2,7,8, 19]\n",
    "           YOUR CODE HERE\n",
    "     Out [ ]: [22,27,28,39]\n",
    "    \n",
    "Hint: Try a list comprehension. Look at [Whirlwind Tour](https://colab.research.google.com/github/jakevdp/WhirlwindTourOfPython/blob/6f1daf714fe52a8dde6a288674ba46a7feed8816/11-List-Comprehensions.ipynb) for a quick review of list comprehensions."
   ]
  },
  {
   "cell_type": "code",
   "execution_count": 7,
   "metadata": {},
   "outputs": [],
   "source": [
    "a_list = [2,7,8, 19]\n",
    "#your code here"
   ]
  },
  {
   "cell_type": "markdown",
   "metadata": {},
   "source": [
    "## Exercise 5"
   ]
  },
  {
   "cell_type": "markdown",
   "metadata": {},
   "source": [
    "Write a line of code that produces the given output.\n",
    "\n",
    "Hint Collect the results of performing a simple mathamtical operation on member of `a_list`.\n",
    "But remember that list comprehensions can also be used as filters. Look at [Whirlwind Tour](https://colab.research.google.com/github/jakevdp/WhirlwindTourOfPython/blob/6f1daf714fe52a8dde6a288674ba46a7feed8816/11-List-Comprehensions.ipynb) for a quick review of list comprehensions.\n",
    "\n",
    "```\n",
    "In [ ]: a_list = [2,7,8, 19]\n",
    "In [ ]: # Your code           \n",
    "Out [ ]: [22,27]\n",
    " ```"
   ]
  },
  {
   "cell_type": "code",
   "execution_count": 12,
   "metadata": {},
   "outputs": [],
   "source": [
    "# YOUR CODE GOES UNDER HERE\n",
    "a_list = [2,7,8, 19]\n",
    "\n",
    "#Your code here"
   ]
  },
  {
   "cell_type": "markdown",
   "metadata": {},
   "source": [
    "## Exercise 6"
   ]
  },
  {
   "cell_type": "markdown",
   "metadata": {},
   "source": [
    "Write a function that finds all the consonants in a string.  As a help, the list of vowels is given below.  The beginning\n",
    "of the function definition has been given with a `pass` as the body.  \n",
    "\n",
    "It should work as in the following examples.\n",
    "\n",
    "```\n",
    ">>> find_consonants('baker')\n",
    "'bkr'\n",
    ">>> find_consonants('abracadabra')\n",
    "'brcdbr'\n",
    ">>> find_consonants('mississippi is the place for me')\n",
    "'mssssppsthplcfrm'\n",
    "```\n",
    "\n",
    "As the argument of the function, use the name that has been supplied.\n",
    "Replace the `pass` with the correct definition of the function.\n",
    "\n",
    "For those interested in more of a challenge, you may add 'sometimes y' to the list of vowels. The letter `'y'` is a vowel in \"Mary\" and \"Plymouth\" and \"play\", but not in \"youth\"."
   ]
  },
  {
   "cell_type": "code",
   "execution_count": 5,
   "metadata": {},
   "outputs": [],
   "source": [
    "vowels = 'aeiou'\n",
    "def find_consonants():\n",
    "    pass"
   ]
  },
  {
   "cell_type": "code",
   "execution_count": 6,
   "metadata": {},
   "outputs": [],
   "source": [
    "#  STEP BY STEP SOLUTION\n",
    "# Write a list comprehension that removes the non vowels in a string S\n",
    "vowels = 'aeiou'\n",
    "X = 'baker'\n",
    "# Your code here use the variable L for the list returned by the list comprehension"
   ]
  },
  {
   "cell_type": "code",
   "execution_count": 8,
   "metadata": {},
   "outputs": [],
   "source": [
    "# Turn L into a string\n",
    "''.join(L)"
   ]
  },
  {
   "cell_type": "code",
   "execution_count": 4,
   "metadata": {},
   "outputs": [],
   "source": [
    "#  Wrap this code in a function definition. making sure\n",
    "#  to chose a parameter name X consistent with\n",
    "#  how you wrote your code and include a return statement\n",
    "\n",
    "vowels = 'aeiou'\n",
    "\n",
    "def find_consonants(X):\n",
    "    # your code here replacing pass\n",
    "    pass"
   ]
  },
  {
   "cell_type": "code",
   "execution_count": 46,
   "metadata": {},
   "outputs": [
    {
     "data": {
      "text/plain": [
       "'bkr'"
      ]
     },
     "execution_count": 46,
     "metadata": {},
     "output_type": "execute_result"
    }
   ],
   "source": [
    "## test 1\n",
    "find_consonants('baker')"
   ]
  },
  {
   "cell_type": "code",
   "execution_count": 47,
   "metadata": {},
   "outputs": [
    {
     "data": {
      "text/plain": [
       "'brcdbr'"
      ]
     },
     "execution_count": 47,
     "metadata": {},
     "output_type": "execute_result"
    }
   ],
   "source": [
    "# test 2\n",
    "find_consonants('abracadabra')"
   ]
  },
  {
   "cell_type": "code",
   "execution_count": 48,
   "metadata": {},
   "outputs": [
    {
     "data": {
      "text/plain": [
       "'msssspp s th plc fr m'"
      ]
     },
     "execution_count": 48,
     "metadata": {},
     "output_type": "execute_result"
    }
   ],
   "source": [
    "# test 3\n",
    "find_consonants('mississippi is the place for me')"
   ]
  },
  {
   "cell_type": "markdown",
   "metadata": {},
   "source": [
    "Last example doesn't work as advertised.  Diagnosis: we should\n",
    "remove spaces along with consonants.  Keep the good ideas\n",
    "we've used so far.  Redefine what we omit. New version."
   ]
  },
  {
   "cell_type": "code",
   "execution_count": 53,
   "metadata": {},
   "outputs": [],
   "source": [
    "omit = vowels + ' '\n",
    "def find_consonants(X):\n",
    "    pass\n",
    "    #your code here"
   ]
  },
  {
   "cell_type": "code",
   "execution_count": 54,
   "metadata": {},
   "outputs": [
    {
     "data": {
      "text/plain": [
       "'mssssppsthplcfrm'"
      ]
     },
     "execution_count": 54,
     "metadata": {},
     "output_type": "execute_result"
    }
   ],
   "source": [
    "find_consonants('mississippi is the place for me')"
   ]
  },
  {
   "cell_type": "markdown",
   "metadata": {},
   "source": [
    "## Exercise 7"
   ]
  },
  {
   "cell_type": "markdown",
   "metadata": {},
   "source": [
    " Write a line of code that operates on `XX` and produces the given output: \n",
    "   \n",
    "     In [ ]: XX = list(range(1,13))\n",
    "           YOUR CODE HERE\n",
    "     Out [ ]: [1,2,0,1,2,0,1,2,0,1,2,0]\n",
    "  \n",
    " Hint:  Try a list comprehension that collects\n",
    "  a list of the results of a numerical operation on the elements of `XX`.   \n",
    "  Applied to 1,4,7, and 10, it should produce\n",
    "  the result 1.  Applied to 2,5,8, and 11, it should produce\n",
    "  the result 2. Applied to 0, 3, 6, 9, and 12 it should produce 0.\n"
   ]
  },
  {
   "cell_type": "markdown",
   "metadata": {},
   "source": [
    "Solution"
   ]
  },
  {
   "cell_type": "code",
   "execution_count": 9,
   "metadata": {},
   "outputs": [
    {
     "data": {
      "text/plain": [
       "[1, 2, 0, 1, 2, 0, 1, 2, 0, 1, 2, 0]"
      ]
     },
     "execution_count": 9,
     "metadata": {},
     "output_type": "execute_result"
    }
   ],
   "source": [
    " XX = list(range(1,13))\n",
    "# Your code here"
   ]
  },
  {
   "cell_type": "markdown",
   "metadata": {},
   "source": [
    "## Exercise 8"
   ]
  },
  {
   "cell_type": "markdown",
   "metadata": {},
   "source": [
    "You're having a big party.\n",
    "\n",
    "The guests will be boys and girls.   The lists are defined for you in the next cell.\n",
    "There should be 24 pairings since the pairing ('Huey', 'Susan') should count\n",
    "as the same dance partnership as ('Susan','Huey'). \n",
    "\n",
    "You want to make sure there are enough dance partners and that they are all compatible.  Write a single list comprehension that will compute every possible pairing of a boy with a girl.  \n",
    "\n",
    "Hint:\n",
    "The list built by the list comprehension will be a list of tuples of length 2."
   ]
  },
  {
   "cell_type": "code",
   "execution_count": 17,
   "metadata": {},
   "outputs": [],
   "source": [
    "boys = 'Huey Fred Jason Ed Albert Louie'.split()\n",
    "girls = 'Susan Paula Barbara Felicia'.split()\n",
    "# Your code here"
   ]
  },
  {
   "cell_type": "markdown",
   "metadata": {},
   "source": [
    "You suddenly remember that boys don't always dance with girls and girls don't always dance with boys.\n",
    "And there are people who are neither who are also guests at the party.  You compile a list of neithers.  \n",
    "\n",
    "Using the `boys` and `girls` lists from the last problem and the `neither` list below,\n",
    "write another list comprehension that finds **all** the possible dance partners, that is\n",
    "every pair of guests at the party, regardless of whether they are boys or girls or neither.\n",
    "But remember: people can't dance with themselves (at least not for the dances that will\n",
    "played at this party).\n",
    "\n",
    "If your final list has 169 members, people are dancing with themselves.\n",
    "\n",
    "If your final list has 156 members, it's because you have both ('Huey', 'Fred') and ('Fred', 'Huey') as possible dance partners. This is a bug.  They are just one happy couple.\n",
    "One way to fix this is do a set comprehension but then the final set you collect can't\n",
    "just be a set of two-member tuples or you'll have 156 of them.\n",
    "\n",
    "The correct answer has 78 dance couples."
   ]
  },
  {
   "cell_type": "code",
   "execution_count": 18,
   "metadata": {},
   "outputs": [],
   "source": [
    "neither = 'Lee Sam Kim'.split()"
   ]
  },
  {
   "cell_type": "code",
   "execution_count": 21,
   "metadata": {},
   "outputs": [
    {
     "name": "stdout",
     "output_type": "stream",
     "text": [
      "156\n",
      "[('Huey', 'Fred'), ('Huey', 'Jason'), ('Huey', 'Ed'), ('Huey', 'Albert'), ('Huey', 'Louie'), ('Huey', 'Susan'), ('Huey', 'Paula'), ('Huey', 'Barbara'), ('Huey', 'Felicia'), ('Huey', 'Lee')]\n"
     ]
    }
   ],
   "source": [
    "all_guests = boys + girls + neither\n",
    "pairings = [(person1, person2) for person1 in all_guests for person2 in all_guests\n",
    "if person1 != person2]\n",
    "print(len(pairings)) # To check the total number of pairings\n",
    "print(pairings[:10]) # Display first 10 pairings for an example\n",
    "## Exercise 10\n"
   ]
  },
  {
   "cell_type": "markdown",
   "metadata": {},
   "source": [
    "## Exercise 10"
   ]
  },
  {
   "cell_type": "markdown",
   "metadata": {},
   "source": [
    "Write a function that converts temperatures (as\n",
    "numbers) from Fahrenheit to Celsius scale. The temperature should be\n",
    "optional and its default value should be 32.  Here are some examples showing\n",
    "how you **call** the `fahrenheit-to_celsius` function and what it returns:\n",
    "\n",
    "```\n",
    "    In [ ]:  fahrenheit_to_celsius(212)\n",
    "    Out [ ]: 100\n",
    "    In [ ]: fahrenheit_to_celsius(-40)\n",
    "    Out [ ]: -40.0\n",
    "    In [ ]:  fahrenheit_to_celsius(32)\n",
    "    Out [ ]: 0\n",
    "    In [ ]:  fahrenheit_to_celsius()\n",
    "    Out [ ]: 0    \n",
    "```\n",
    "\n",
    "Please include a cell printing out your validation tests to show you have checked your work (which of course you **always** do).   \n",
    "To create new cells to demonstrate all the examples, you hold down the `[Control]` key while pressing `M` and then typing `b` (for \"below\").\n"
   ]
  },
  {
   "cell_type": "code",
   "execution_count": 71,
   "metadata": {},
   "outputs": [],
   "source": [
    "def fahrenheit_to_celsius(f=32):\n",
    "    pass\n",
    "    #your code here"
   ]
  },
  {
   "cell_type": "code",
   "execution_count": 72,
   "metadata": {},
   "outputs": [
    {
     "name": "stdout",
     "output_type": "stream",
     "text": [
      "100.0\n",
      "-40.0\n",
      "0.0\n",
      "0.0\n"
     ]
    }
   ],
   "source": [
    "print(fahrenheit_to_celsius(212))\n",
    "#100\n",
    "print(fahrenheit_to_celsius(-40))\n",
    "#-40\n",
    "print(fahrenheit_to_celsius(32))\n",
    "#0\n",
    "print(fahrenheit_to_celsius())\n",
    "#0"
   ]
  },
  {
   "cell_type": "markdown",
   "metadata": {},
   "source": [
    "### Comment"
   ]
  },
  {
   "cell_type": "markdown",
   "metadata": {},
   "source": [
    "A frequent incorrect response  was to omit making the argument optional,\n",
    "which would have made the final test fail."
   ]
  },
  {
   "cell_type": "code",
   "execution_count": 19,
   "metadata": {},
   "outputs": [],
   "source": [
    "def fahrenheit_to_celsius_buggy(f):\n",
    "    return (f-32)*(5/9)"
   ]
  },
  {
   "cell_type": "code",
   "execution_count": 20,
   "metadata": {},
   "outputs": [
    {
     "ename": "TypeError",
     "evalue": "fahrenheit_to_celsius_buggy() missing 1 required positional argument: 'f'",
     "output_type": "error",
     "traceback": [
      "\u001b[0;31m---------------------------------------------------------------------------\u001b[0m",
      "\u001b[0;31mTypeError\u001b[0m                                 Traceback (most recent call last)",
      "\u001b[0;32m/var/folders/w9/bx4mylnd27g_kqqgn5hrn2x40000gr/T/ipykernel_53530/2750140037.py\u001b[0m in \u001b[0;36m<module>\u001b[0;34m\u001b[0m\n\u001b[0;32m----> 1\u001b[0;31m \u001b[0mprint\u001b[0m\u001b[0;34m(\u001b[0m\u001b[0mfahrenheit_to_celsius_buggy\u001b[0m\u001b[0;34m(\u001b[0m\u001b[0;34m)\u001b[0m\u001b[0;34m)\u001b[0m\u001b[0;34m\u001b[0m\u001b[0;34m\u001b[0m\u001b[0m\n\u001b[0m\u001b[1;32m      2\u001b[0m \u001b[0;31m#0\u001b[0m\u001b[0;34m\u001b[0m\u001b[0;34m\u001b[0m\u001b[0m\n",
      "\u001b[0;31mTypeError\u001b[0m: fahrenheit_to_celsius_buggy() missing 1 required positional argument: 'f'"
     ]
    }
   ],
   "source": [
    "print(fahrenheit_to_celsius_buggy())\n",
    "#0"
   ]
  },
  {
   "cell_type": "markdown",
   "metadata": {},
   "source": [
    "## Exercise 11"
   ]
  },
  {
   "cell_type": "markdown",
   "metadata": {},
   "source": [
    "There are three parts to this problem.\n",
    "\n",
    "**Part One**:  Write a function that solves quadratic equations.  It should take the coefficients as arguments\n",
    "and return **both** solutions to the equation.  Here are some examples:\n",
    "\n",
    "To solve the equation:\n",
    "\n",
    "$$\n",
    "x^{2} +x -6  = 0\n",
    "$$\n",
    "\n",
    "you should call your function as follows\n",
    "\n",
    "```python\n",
    "solve_quadratic(1,1,-6)\n",
    "```\n",
    "\n",
    "and it should return the two solutions 2.0 and -3.0.\n",
    "\n",
    "You will get no credit if you import a function for solving equations or quadratic equations\n",
    "from a numerical computing  package or module (numpy, numpy.linalg, etcetera).  The idea here\n",
    "is to look up the **quadratic formula** and implement it in a piece of code.  You will\n",
    "need to do an import for the `sqrt` operation in the quadratic formula and for that\n",
    "you should import `sqrt` from the `math` module.  Here's how it's imported and called:"
   ]
  },
  {
   "cell_type": "code",
   "execution_count": 12,
   "metadata": {},
   "outputs": [
    {
     "data": {
      "text/plain": [
       "1.4142135623730951"
      ]
     },
     "execution_count": 12,
     "metadata": {},
     "output_type": "execute_result"
    }
   ],
   "source": [
    "import math\n",
    "\n",
    "math.sqrt(2)"
   ]
  },
  {
   "cell_type": "markdown",
   "metadata": {},
   "source": [
    "Comment:  Try to write your function so that you don't do the same numerical computation\n",
    "twice."
   ]
  },
  {
   "cell_type": "code",
   "execution_count": 39,
   "metadata": {},
   "outputs": [
    {
     "data": {
      "text/plain": [
       "(2.0, -3.0)"
      ]
     },
     "execution_count": 39,
     "metadata": {},
     "output_type": "execute_result"
    }
   ],
   "source": [
    "import math\n",
    "\n",
    "def solve_quadratic(a,b,c):\n",
    "     ## Your code here\n",
    "        \n",
    "\n",
    "solve_quadratic(1,1,-6)"
   ]
  },
  {
   "cell_type": "markdown",
   "metadata": {},
   "source": [
    "**Part Two**: Write a function `quad` that helps checks solutions.  You will get full credit if your function simply  behaves as follows:\n",
    "\n",
    "```python\n",
    ">>> quad(1,1,-6, 2)\n",
    "0\n",
    ">>> quad(1,1,-6, -3)\n",
    "0\n",
    "```"
   ]
  },
  {
   "cell_type": "code",
   "execution_count": 14,
   "metadata": {},
   "outputs": [
    {
     "data": {
      "text/plain": [
       "0"
      ]
     },
     "execution_count": 14,
     "metadata": {},
     "output_type": "execute_result"
    }
   ],
   "source": [
    "def quad (a,b,c, x):\n",
    "    ## Your code here\n",
    "\n",
    "quad(1,1,-6,-3)"
   ]
  },
  {
   "cell_type": "markdown",
   "metadata": {},
   "source": [
    "You may be tempted to just have your function return `True` or `False` depending on whether the \n",
    "value you get by plugging `x` into the equation is 0.  But this is actually a little trickier\n",
    "than you might think because of the idiosyncrasies of floating point calculations on a computer.\n",
    "If you know something about those idiosyncrasies, go ahead an write a version of `quad` that returns\n",
    "`True` for correct solutions of the quadratic equation and `False` otherwise, using `5e-15` as your \n",
    "tolerance value.  I will accept either version. If the phrases \"Floating point calculations\"\n",
    "and tolerance values are new to you, just the write `quad` to behave as in the above examples.\n",
    "\n",
    "**Part Three**: Use `solve_quadratic` to solve the following 4 equations and in each case, use\n",
    "`quad` to check both your solutions, showing your results.  Report any oddities you may observe.\n",
    "\n",
    "$$\n",
    "\\begin{array}{llcl}\n",
    "\\text{a.}& x^2 - 2 & = & 0\\\\\n",
    "\\text{b.}& x^2 + x - 6 &=& 0\\\\\n",
    "\\text{c.}& 12x^2 - 5x - 2 &=& 0\\\\\n",
    "\\text{d.}& .001x^2 + 1,000x + .001 &=& 0\n",
    "\\end{array}\n",
    "$$\n",
    "\n",
    "Consider the following solution for (d):\n",
    "\n",
    "```python\n",
    "s22 = -1.000000000001e-06\n",
    "```\n",
    "\n",
    "Is it better or worse than either of the solutions found\n",
    "by `solve_quadratic`?  If it is better, assume it is the\n",
    "correct solution and use it to compute the percentage of error in the solution found by\n",
    "`solve_quadratic`\n",
    "\n",
    "This part of the problem raises the question of accuracy in numerical\n",
    "computations.  We will talk about what counts as acceptable error in\n",
    "computational contexts.\n"
   ]
  },
  {
   "cell_type": "markdown",
   "metadata": {},
   "source": [
    "## Exercise 12\n",
    "\n",
    "First learn about the new word game **Wordle** that is taking the internet by storm.\n",
    "\n",
    "Read about the phenomenon [here.](https://ktla.com/morning-news/technology/what-is-wordle-game-everyone-playing-explained-tips-to-win/)\n",
    "\n",
    "Play a game [here.](https://www.powerlanguage.co.uk/wordle/)\n",
    "\n",
    "Here's a quick summary of the idea.\n",
    "\n",
    "   1. The game consists of one puzzle a day where you have six chances to guess a five-letter word. Let's call that the target. Each of your guesses must be an English word. Sounds pretty hard so far. There are lots of 5-letter words!\n",
    "\n",
    "   2. But here's the thing.  After you type in your guess, correct letters are highlighted: \n",
    "   \n",
    "      a.  green highlighting means thje letter is in the right spot;\n",
    "      \n",
    "      b.  yellow highlighting means the letter is in the target, but it’s not in the right spot. \n",
    "      \n",
    "      c.  black means the letter does not occur in the target.\n",
    "   \n",
    "So as you work through your six guesses, you acquire information\n",
    "about the target.  Say your guess is *skier* and it produces:\n",
    "\n",
    "\n",
    ">kgkky (**s** is  colored black, **k** is green, **i** and **e** are black, **r** is yellow_\n",
    "\n",
    "Each color tells you something about the correponding letter in your guess.\n",
    "That green *g* in the second \n",
    "position means the target has an *k* in the second position (so, based on what we know about English spelling, it likely has a vowel or an *s* in the first position).  That  yellow *r* in the fifth position means there's an *r* somewhere in the word, but not in fifth position, and not in first position, because English words can't start with *rk*, and not in second position, because that's filled with a *k*.  So in fact you know the *r* is in third or fourth position.  And since the other three letters in your guess turned black you know that the target\n",
    "word does not contain an *s*, an *i* or an *e*. And so on, combining simple logic with knowledge of facts \n",
    "about English.  Fun game.\n",
    "\n",
    "\n",
    "Here's another slightly more interesting game we'll use below.  Think about whether that last guess\n",
    "is incredibly lucky, or just represents a good play.  We'll try to answer that question in an extra credit probem.\n",
    "<figure>\n",
    "<center>\n",
    "<img src='https://gawron.sdsu.edu/python_for_ss/course_core/book_draft/_static/sample_wordle_game_2.png ' width=500 />\n",
    "<figcaption>A better Wordle Game</figcaption></center>\n",
    "</figure>\n"
   ]
  },
  {
   "cell_type": "markdown",
   "metadata": {},
   "source": [
    "####\n",
    "\n",
    "For first time Wordlists, a play-by-play description of the game above.\n",
    "\n",
    "1.  First guess \"steal\".  The all black coloring of the letters means none of the letters in \"steal\" occur \n",
    "in the target.\n",
    "2.  Second guess \"pinch\".  The coloring of the letters means there is a \"p\" in first position\n",
    "in the target amd a \"c in 4th position, and there is an \"i\" somewhere in the target..\n",
    "3.  The all green coloring means you have solved the Worldl.  There is a \"p\" in first position\n",
    "in the target and an \"r\" in 2nd position, and an \"i\" in 3rd position, and a \"c\" in 4th position,\n",
    "and a \"k\" in 5th position.\n",
    "\n",
    "\n",
    "\n",
    "#### Problem statement\n",
    "\n",
    "Write a function **color_guess** that takes a Wordle target and a Wordle guess as inputs (so both are 5-letter words), and returns the **coloring** for the guess.\n",
    "\n",
    "A coloring is a sequence of colors (represented as the characters 'g', 'y' or 'k' [for black]) that contains the correct colors for the letters of the guess, where correct means correct according to the coloring rules of Wordle. \n",
    "\n",
    "The first question you should answer is what the data type of a coloring is.\n",
    "\n",
    "**Try to answer that question before continuing on to the next cell.**"
   ]
  },
  {
   "cell_type": "markdown",
   "metadata": {},
   "source": [
    "The definition of the function should be just a few lines of code.\n",
    "\n",
    "Here are some cases (from the game above):\n",
    "\n",
    "```python\n",
    "color_guess(target, guess)\n",
    "\n",
    ">>> color_guess (\"prick\", \"steal\")\n",
    "[\"k\",\"k\",\"k\",\"k\",\"k\"]\n",
    ">>> color_guess (\"prick\", \"pinch\")\n",
    "[\"g\",\"y\",\"k\",\"g\",\"k\"]\n",
    ">>> color_guess (\"prick\", \"prick\")\n",
    "[\"g\",\"g\",\"g\",\"g\",\"g\"]\n",
    "```\n",
    "\n",
    "Note that it matters which word is target and which is guess:\n",
    "\n",
    "```python\n",
    ">>> color guess (\"pinch\", \"prick\")\n",
    "[\"g\",\"k\",\"y\",\"g\",\"k\"]\n",
    "```\n",
    "\n",
    "which is different from what is returned for `color guess (\"prick\", \"pinch\")."
   ]
  },
  {
   "cell_type": "code",
   "execution_count": 139,
   "metadata": {},
   "outputs": [],
   "source": [
    "## Your code here"
   ]
  },
  {
   "cell_type": "markdown",
   "metadata": {},
   "source": [
    "## Exercise 13"
   ]
  },
  {
   "cell_type": "markdown",
   "metadata": {},
   "source": [
    "Another Wordl function.  This is harder.\n",
    "\n",
    "This function, called `compatible`, takes three arguments, a coloring, a guessed word, and a candidate word, and returns `True` if the candidate word is compatible with what you know about the target word given the coloring of the guess.  Otherwise it returns `False`.\n",
    "\n",
    "\n",
    "For example\n",
    "\n",
    "```\n",
    "function signature:  compatible(coloring, guess, candidate)\n",
    "\n",
    "compatible([\"g\",\"k\",\"y\",\"k\",\"y\"], \"slant\", \"slate\")\n",
    "```\n",
    "\n",
    "should return `False` because the second letter of the coloring, \"k\", tells us that the second letter\n",
    "of the guess, \"l\", doesn't occur in the target word.  But our candidate has an \"l\" in it.\n",
    "\n",
    "```\n",
    "compatible([\"k\",\"k\",\"y\",\"k\",\"k\"], \"audio\", \"dryer\")\n",
    "```\n",
    "should return `True` because the target can't contain the vowels \"a\", \"u\", \"i', or \"o\", and must contain\n",
    "a \"d\", but not in third position; \"dryer\" fits the bill.\n",
    "\n",
    "One more example\n",
    "\n",
    "```\n",
    "compatible([\"k\",\"k\",\"y\",\"k\",\"k\"], \"audio\", \"bedew\")\n",
    "```\n",
    "should return `False`. Although a candidate must contain\n",
    "a \"d\", it can't be in third position; the candidate \"bedew\" has a \"d\" in third position.\n",
    "Explanation:  if the target had a \"d\" in third\n",
    "position, the \"d\" in \"audio\" would have been colored green.\n",
    "\n",
    "\n",
    "The way to attack writing the definition of `compatible`\n",
    "is to write out in pseudo-code (half-python/half english)\n",
    "what `compatible` should  do.  It **can** be written\n",
    "along the following lines.  Iterate through the coloring letter by letter,\n",
    "keeping track of your position.  Given a color (\"g\", \"k\", or \"y\"),\n",
    "at a particular position in the coloring you know what comparison to make between the guess and the \n",
    "candidate.\n",
    "\n",
    "```python\n",
    "\n",
    "def compatible(coloring, guess, candidate):\n",
    "    for (i,color) in enumerate(coloring):\n",
    "        if color == \"k\":\n",
    "            # check that the ith letter of guess doesn't occur in candidate\n",
    "            # if it does, return False. This candidate has been ruled out.\n",
    "        elif color ==\"g\":\n",
    "            # check that the letter at position i in guess is the same as the letter at position i in candidate\n",
    "            # if it isn't, return False\n",
    "        # and so on\n",
    "```\n",
    "\n",
    "Make sure to return `True` if the candidate has not been ruled out."
   ]
  },
  {
   "cell_type": "code",
   "execution_count": 121,
   "metadata": {},
   "outputs": [],
   "source": [
    "from nltk.corpus import words\n"
   ]
  },
  {
   "cell_type": "markdown",
   "metadata": {},
   "source": [
    "Some examples to test on."
   ]
  },
  {
   "cell_type": "code",
   "execution_count": 134,
   "metadata": {},
   "outputs": [
    {
     "data": {
      "text/plain": [
       "True"
      ]
     },
     "execution_count": 134,
     "metadata": {},
     "output_type": "execute_result"
    }
   ],
   "source": [
    "compatible([\"k\",\"k\",\"y\",\"k\",\"k\"], \"audio\", \"delve\")"
   ]
  },
  {
   "cell_type": "code",
   "execution_count": 107,
   "metadata": {},
   "outputs": [
    {
     "data": {
      "text/plain": [
       "False"
      ]
     },
     "execution_count": 107,
     "metadata": {},
     "output_type": "execute_result"
    }
   ],
   "source": [
    "compatible([\"g\",\"k\",\"y\",\"k\",\"y\"], \"slant\", \"slate\")"
   ]
  },
  {
   "cell_type": "markdown",
   "metadata": {},
   "source": [
    "## Extra credit\n",
    "\n",
    "Next, for extra credit, write another \n",
    "function `compatible_words`, which calls `compatible`.  \n",
    "Given a coloring guess and candidate\n",
    "it returns the set of english words compatible\n",
    "with the guess and the coloring. Here is how it might work.\n",
    "\n",
    "The nltk module has a **very** large list of words.  Here are the first 10."
   ]
  },
  {
   "cell_type": "code",
   "execution_count": 104,
   "metadata": {},
   "outputs": [
    {
     "data": {
      "text/plain": [
       "['A',\n",
       " 'a',\n",
       " 'aa',\n",
       " 'aal',\n",
       " 'aalii',\n",
       " 'aam',\n",
       " 'Aani',\n",
       " 'aardvark',\n",
       " 'aardwolf',\n",
       " 'Aaron']"
      ]
     },
     "execution_count": 104,
     "metadata": {},
     "output_type": "execute_result"
    }
   ],
   "source": [
    "from  nltk.corpus import words\n",
    "words.words()[:10]"
   ]
  },
  {
   "cell_type": "markdown",
   "metadata": {},
   "source": [
    "To write `compatible_words`\n",
    "all you have to is **loop** through `words.words()` and collect those that are 5-letters long and uncapitalized (there is a string method for this) and are compatible with the guess and color as determined by `compatible`, which you wrote in Exercise 13."
   ]
  },
  {
   "cell_type": "code",
   "execution_count": 129,
   "metadata": {},
   "outputs": [],
   "source": [
    "def compatible_words(coloring,guess,word_seq=None):\n",
    "  # Your code here"
   ]
  },
  {
   "cell_type": "markdown",
   "metadata": {},
   "source": [
    "Here is how it should work"
   ]
  },
  {
   "cell_type": "code",
   "execution_count": 123,
   "metadata": {},
   "outputs": [
    {
     "data": {
      "text/plain": [
       "85"
      ]
     },
     "execution_count": 123,
     "metadata": {},
     "output_type": "execute_result"
    }
   ],
   "source": [
    "candidates = compatible_words([\"k\",\"k\",\"y\",\"k\",\"k\"], \"audio\")\n",
    "len(candidates)"
   ]
  },
  {
   "cell_type": "code",
   "execution_count": 112,
   "metadata": {},
   "outputs": [
    {
     "data": {
      "text/plain": [
       "True"
      ]
     },
     "execution_count": 112,
     "metadata": {},
     "output_type": "execute_result"
    }
   ],
   "source": [
    "\"decry\" in candidates"
   ]
  },
  {
   "cell_type": "code",
   "execution_count": 113,
   "metadata": {},
   "outputs": [
    {
     "data": {
      "text/plain": [
       "True"
      ]
     },
     "execution_count": 113,
     "metadata": {},
     "output_type": "execute_result"
    }
   ],
   "source": [
    "\"dense\" in candidates"
   ]
  },
  {
   "cell_type": "code",
   "execution_count": 114,
   "metadata": {},
   "outputs": [
    {
     "data": {
      "text/plain": [
       "True"
      ]
     },
     "execution_count": 114,
     "metadata": {},
     "output_type": "execute_result"
    }
   ],
   "source": [
    "\"tweed\" in candidates"
   ]
  },
  {
   "cell_type": "code",
   "execution_count": 115,
   "metadata": {},
   "outputs": [
    {
     "data": {
      "text/plain": [
       "True"
      ]
     },
     "execution_count": 115,
     "metadata": {},
     "output_type": "execute_result"
    }
   ],
   "source": [
    "\"delve\" in candidates"
   ]
  },
  {
   "cell_type": "code",
   "execution_count": 125,
   "metadata": {},
   "outputs": [
    {
     "data": {
      "text/plain": [
       "False"
      ]
     },
     "execution_count": 125,
     "metadata": {},
     "output_type": "execute_result"
    }
   ],
   "source": [
    "'bedew' in candidates"
   ]
  },
  {
   "cell_type": "code",
   "execution_count": 137,
   "metadata": {},
   "outputs": [
    {
     "data": {
      "text/plain": [
       "False"
      ]
     },
     "execution_count": 137,
     "metadata": {},
     "output_type": "execute_result"
    }
   ],
   "source": [
    "\"audio\" in candidates"
   ]
  },
  {
   "cell_type": "code",
   "execution_count": 141,
   "metadata": {},
   "outputs": [
    {
     "data": {
      "text/plain": [
       "False"
      ]
     },
     "execution_count": 141,
     "metadata": {},
     "output_type": "execute_result"
    }
   ],
   "source": [
    "\"bread\" in candidates"
   ]
  },
  {
   "cell_type": "markdown",
   "metadata": {},
   "source": [
    "Our word data is still missing some pretty normal word spellings.  Don't worry about that."
   ]
  },
  {
   "cell_type": "code",
   "execution_count": 136,
   "metadata": {},
   "outputs": [
    {
     "data": {
      "text/plain": [
       "False"
      ]
     },
     "execution_count": 136,
     "metadata": {},
     "output_type": "execute_result"
    }
   ],
   "source": [
    "'dryer' in candidates"
   ]
  },
  {
   "cell_type": "markdown",
   "metadata": {},
   "source": [
    "This is because it's not in the original data:"
   ]
  },
  {
   "cell_type": "code",
   "execution_count": 135,
   "metadata": {
    "scrolled": true
   },
   "outputs": [
    {
     "data": {
      "text/plain": [
       "False"
      ]
     },
     "execution_count": 135,
     "metadata": {},
     "output_type": "execute_result"
    }
   ],
   "source": [
    "'dryer' in words.words()"
   ]
  },
  {
   "cell_type": "markdown",
   "metadata": {},
   "source": [
    "Whereas this is:"
   ]
  },
  {
   "cell_type": "code",
   "execution_count": 131,
   "metadata": {},
   "outputs": [
    {
     "data": {
      "text/plain": [
       "True"
      ]
     },
     "execution_count": 131,
     "metadata": {},
     "output_type": "execute_result"
    }
   ],
   "source": [
    "'drier' in words.words()"
   ]
  },
  {
   "cell_type": "markdown",
   "metadata": {},
   "source": [
    "This probably happened because of the over-enthuisiastic application of a spelling\n",
    "rule that turns \"y\" to \"i\" before \"e\".  In fact both spellings, \"drier\" and \"dryer\", are needed,\n",
    "the first for the adjective (comparative form of \"dry\"), the second for the noun (the thing that spins\n",
    "your clothes dry).  Linguists take note!  In one case, the \"-er\" is an inflectional suffix.  In the \n",
    "other it is derivational (it changes part of speech)."
   ]
  },
  {
   "cell_type": "markdown",
   "metadata": {},
   "source": [
    "##  Extra special credit\n",
    "\n",
    "\n",
    "Continuing in tbe Wordl world, write a function called `words_left`. Its single argument is a **sequence** of\n",
    "coloring,guess  pairs. It returns the set of target words compatible\n",
    "with the **sequence** of guesses. On the first guess, it works just like\n",
    "calling `compatible_words` all on its own, but after that it uses\n",
    "the fact that you've narrowed down the set of possible words with previous guesses.\n",
    "A call to `words_left`  might look like this\n",
    "\n",
    "```\n",
    "words_left([([\"k\",\"k\",\"k\",\"k\",\"k\"],\"steal\"),([\"g\",\"y\",\"k\",\"g\",\"k\"],\"pinch\")])\n",
    "```\n",
    "\n",
    "Hint:  A natural approach involes revising the definition of `\n",
    "\n",
    "Note: this is how you would call this function on the first two guesses guess in the Wordle \n",
    "game above, to answer the question whether the last guess is lucky (there are many\n",
    "open possibilities) or insightful (there are few, and \"prick\" is one of them). \n"
   ]
  },
  {
   "cell_type": "code",
   "execution_count": 132,
   "metadata": {},
   "outputs": [],
   "source": [
    "\n",
    "def words_left(coloring_guess_seq):\n",
    "    # Your code here"
   ]
  },
  {
   "cell_type": "markdown",
   "metadata": {},
   "source": [
    "An example to check"
   ]
  },
  {
   "cell_type": "code",
   "execution_count": 185,
   "metadata": {},
   "outputs": [],
   "source": [
    "words_left([([\"k\",\"k\",\"k\",\"k\",\"k\"],\"steal\"),([\"g\",\"y\",\"k\",\"g\",\"k\"],\"pinch\")])"
   ]
  },
  {
   "cell_type": "markdown",
   "metadata": {},
   "source": [
    "## Final note\n",
    "\n",
    "If you've done this exercise you've gone a significant part of the way toward building a Wordl-bot, a program that can play Wordl significantly better than you.  The remaining obstacles\n",
    "\n",
    "1.  A way of scoring candidate guesses.  Some guesses are  much better than others because\n",
    "    on average they knock out more contenders than other candidates.  You need a scoring metric\n",
    "    that measures this property: `metric(candidate, all_candidates) = score`.\n",
    "    \n",
    "2.  The actual set of possible Wordl solutions is a closely kept secret. For the metric defined in\n",
    "    step 1 to be accurate it needs to start with the the actual set of possible Wordl solutions.\n",
    "    It could then be used to find the word (or words, in case of tie) that make the best first\n",
    "    Wordl guess.  This problem has no known solution but you can create an interesting game if you take\n",
    "    the Eordset in this notebook, and filter it down to 5-letter words with no caps and words that\n",
    "    meet some frequency threshhold (see [Adam Kilgarrif's BNC frequency lists](https://www.kilgarriff.co.uk/BNClists/all.num.o5) or execute the code in the next cell, which downloads\n",
    "    a copy).\n",
    "    "
   ]
  },
  {
   "cell_type": "code",
   "execution_count": 183,
   "metadata": {},
   "outputs": [
    {
     "data": {
      "text/html": [
       "<div>\n",
       "<style scoped>\n",
       "    .dataframe tbody tr th:only-of-type {\n",
       "        vertical-align: middle;\n",
       "    }\n",
       "\n",
       "    .dataframe tbody tr th {\n",
       "        vertical-align: top;\n",
       "    }\n",
       "\n",
       "    .dataframe thead th {\n",
       "        text-align: right;\n",
       "    }\n",
       "</style>\n",
       "<table border=\"1\" class=\"dataframe\">\n",
       "  <thead>\n",
       "    <tr style=\"text-align: right;\">\n",
       "      <th></th>\n",
       "      <th>the</th>\n",
       "      <th>2618291</th>\n",
       "      <th>1713</th>\n",
       "    </tr>\n",
       "  </thead>\n",
       "  <tbody>\n",
       "    <tr>\n",
       "      <th>0</th>\n",
       "      <td>,</td>\n",
       "      <td>2398174</td>\n",
       "      <td>1713</td>\n",
       "    </tr>\n",
       "    <tr>\n",
       "      <th>1</th>\n",
       "      <td>.</td>\n",
       "      <td>2131797</td>\n",
       "      <td>1713</td>\n",
       "    </tr>\n",
       "    <tr>\n",
       "      <th>2</th>\n",
       "      <td>of</td>\n",
       "      <td>1417475</td>\n",
       "      <td>1713</td>\n",
       "    </tr>\n",
       "    <tr>\n",
       "      <th>3</th>\n",
       "      <td>and</td>\n",
       "      <td>1227434</td>\n",
       "      <td>1713</td>\n",
       "    </tr>\n",
       "    <tr>\n",
       "      <th>4</th>\n",
       "      <td>to</td>\n",
       "      <td>1176765</td>\n",
       "      <td>1713</td>\n",
       "    </tr>\n",
       "    <tr>\n",
       "      <th>5</th>\n",
       "      <td>a</td>\n",
       "      <td>965085</td>\n",
       "      <td>1711</td>\n",
       "    </tr>\n",
       "    <tr>\n",
       "      <th>6</th>\n",
       "      <td>in</td>\n",
       "      <td>815387</td>\n",
       "      <td>1713</td>\n",
       "    </tr>\n",
       "    <tr>\n",
       "      <th>7</th>\n",
       "      <td>is</td>\n",
       "      <td>485750</td>\n",
       "      <td>1710</td>\n",
       "    </tr>\n",
       "    <tr>\n",
       "      <th>8</th>\n",
       "      <td>that</td>\n",
       "      <td>430031</td>\n",
       "      <td>1710</td>\n",
       "    </tr>\n",
       "    <tr>\n",
       "      <th>9</th>\n",
       "      <td>was</td>\n",
       "      <td>408202</td>\n",
       "      <td>1699</td>\n",
       "    </tr>\n",
       "    <tr>\n",
       "      <th>10</th>\n",
       "      <td>&amp;bquo</td>\n",
       "      <td>405743</td>\n",
       "      <td>1643</td>\n",
       "    </tr>\n",
       "    <tr>\n",
       "      <th>11</th>\n",
       "      <td>&amp;equo</td>\n",
       "      <td>388546</td>\n",
       "      <td>1645</td>\n",
       "    </tr>\n",
       "    <tr>\n",
       "      <th>12</th>\n",
       "      <td>for</td>\n",
       "      <td>384954</td>\n",
       "      <td>1711</td>\n",
       "    </tr>\n",
       "    <tr>\n",
       "      <th>13</th>\n",
       "      <td>it</td>\n",
       "      <td>326293</td>\n",
       "      <td>1707</td>\n",
       "    </tr>\n",
       "    <tr>\n",
       "      <th>14</th>\n",
       "      <td>The</td>\n",
       "      <td>313391</td>\n",
       "      <td>1707</td>\n",
       "    </tr>\n",
       "    <tr>\n",
       "      <th>15</th>\n",
       "      <td>'s</td>\n",
       "      <td>311766</td>\n",
       "      <td>1706</td>\n",
       "    </tr>\n",
       "    <tr>\n",
       "      <th>16</th>\n",
       "      <td>with</td>\n",
       "      <td>306891</td>\n",
       "      <td>1711</td>\n",
       "    </tr>\n",
       "    <tr>\n",
       "      <th>17</th>\n",
       "      <td>be</td>\n",
       "      <td>305521</td>\n",
       "      <td>1709</td>\n",
       "    </tr>\n",
       "    <tr>\n",
       "      <th>18</th>\n",
       "      <td>on</td>\n",
       "      <td>300717</td>\n",
       "      <td>1711</td>\n",
       "    </tr>\n",
       "    <tr>\n",
       "      <th>19</th>\n",
       "      <td>I</td>\n",
       "      <td>268153</td>\n",
       "      <td>1566</td>\n",
       "    </tr>\n",
       "  </tbody>\n",
       "</table>\n",
       "</div>"
      ],
      "text/plain": [
       "      the  2618291  1713\n",
       "0       ,  2398174  1713\n",
       "1       .  2131797  1713\n",
       "2      of  1417475  1713\n",
       "3     and  1227434  1713\n",
       "4      to  1176765  1713\n",
       "5       a   965085  1711\n",
       "6      in   815387  1713\n",
       "7      is   485750  1710\n",
       "8    that   430031  1710\n",
       "9     was   408202  1699\n",
       "10  &bquo   405743  1643\n",
       "11  &equo   388546  1645\n",
       "12    for   384954  1711\n",
       "13     it   326293  1707\n",
       "14    The   313391  1707\n",
       "15     's   311766  1706\n",
       "16   with   306891  1711\n",
       "17     be   305521  1709\n",
       "18     on   300717  1711\n",
       "19      I   268153  1566"
      ]
     },
     "execution_count": 183,
     "metadata": {},
     "output_type": "execute_result"
    }
   ],
   "source": [
    "import pandas as pd\n",
    "import os.path\n",
    "\n",
    "url = \"https://raw.githubusercontent.com/gawron/python-for-social-science/refs/heads/master/\"\n",
    "file_path = \"text_classification/bnc_word_and_doc_freqs_2023_04_13.csv\"\n",
    "bnc_freqs = pd.read_csv(os.path.join(url,file_path))\n",
    "bnc_freqs[:20]"
   ]
  },
  {
   "cell_type": "markdown",
   "metadata": {},
   "source": [
    "In the rest of this note we give a quick sketch of how a scoring metric works. The intuition\n",
    "we'll try to flesh out is that the best scoring metric knocks out more possibilities than others **on average**.\n",
    "But what does that mean?\n",
    "\n",
    "We saw in the last exercise that the guess \"audio\" left us with 85 candidates.  And we knew that because\n",
    "we executed the function `compatible_words`.  But maybe there was a guess that would\n",
    "have left us with only 50 candidates.  That would have been better. \n",
    "That's an insight, but not an immediately helpful one.\n",
    "How did we arrive at the information that one guess left us with 85 candidates?\n",
    "We computed that by knowing the coloring and then finding the\n",
    "words compatible with that coloring, but computing\n",
    "a coloring requires knowing the target.\n",
    "How do we score guesses when we don't know the target?\n",
    "\n",
    "Here's what we do. We hold the guess constant and we compute\n",
    "the coloring that guess would produce if each of the possible candidate words\n",
    "were the target.  That gives a set of colorings, and each coloring is associated with a set\n",
    "of candidate words (possibly a set of size 1).  This set of sets is called a **partition** and\n",
    "the key insight is that it should be partitions we score. Each of the sets in the partition  is\n",
    "one possible outcome for the set of words left after our guess.  So the\n",
    "simplest idea for scoring the guess is just to compute the average size\n",
    "of those partition sets.  The smaller the average size, the more words \n",
    "eliminated on average, and the better the guess.\n",
    "That's not bad.  You could build a pretty good WordlBot with that idea.\n",
    "\n",
    "But it turns out there is a better idea.  Our problem can be phrased:\n",
    "How do we measure the amount of information gained in going\n",
    "from the original set of candidates to a smaller set? \n",
    "If we can answer that question, then we just compute the\n",
    "average of the information gain for each set in the partition\n",
    "and we have a useful score for our guess.\n",
    "\n",
    "This is exactly the sort of question answered by a branch of computer science called **Information Theory**.\n",
    "The information theoretic approach often settles on the same answer\n",
    "as average partition size, but it's somewhat more principled\n",
    "and a lot more sophisticated because it is grounded in a \n",
    "mathematical theory for measuring the information of an event,\n",
    "which is in turn grounded in a very satisfying way in probability\n",
    "theory.  To learn how to use **information gain** to evaluate \n",
    "guesses, and learn more about how to build your\n",
    "own Wordlbot, see **the Information Theory Notebook**."
   ]
  },
  {
   "cell_type": "markdown",
   "metadata": {},
   "source": []
  }
 ],
 "metadata": {
  "kernelspec": {
   "display_name": "Python 3 (ipykernel)",
   "language": "python",
   "name": "python3"
  },
  "language_info": {
   "codemirror_mode": {
    "name": "ipython",
    "version": 3
   },
   "file_extension": ".py",
   "mimetype": "text/x-python",
   "name": "python",
   "nbconvert_exporter": "python",
   "pygments_lexer": "ipython3",
   "version": "3.12.5"
  },
  "toc": {
   "base_numbering": 1,
   "nav_menu": {
    "height": "310px",
    "width": "252px"
   },
   "number_sections": true,
   "sideBar": true,
   "skip_h1_title": false,
   "title_cell": "Table of Contents",
   "title_sidebar": "Contents",
   "toc_cell": false,
   "toc_position": {},
   "toc_section_display": "block",
   "toc_window_display": false
  }
 },
 "nbformat": 4,
 "nbformat_minor": 1
}
