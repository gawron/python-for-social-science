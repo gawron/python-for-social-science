{
 "cells": [
  {
   "cell_type": "markdown",
   "metadata": {},
   "source": [
    "# Variable Scope and Block Structure"
   ]
  },
  {
   "cell_type": "markdown",
   "metadata": {},
   "source": [
    "Disclaimer: This notebook covers somewhat advanced topics.  \n",
    "\n",
    "It is useful to read, introduces a number of concepts you\n",
    "at least need to have heard of, but it is probably not necessary to understand every detail. "
   ]
  },
  {
   "cell_type": "markdown",
   "metadata": {},
   "source": [
    "## Making a global variable a local variable (OK)"
   ]
  },
  {
   "cell_type": "markdown",
   "metadata": {},
   "source": [
    "The **scope** of a variable is a block of code in which it has fixed assignment. \n",
    "\n",
    "We illustrate this idea with a function definition,\n",
    "a python construction in which variable assignemnts \n",
    "always have **local** scope (scope that only extends for the length\n",
    "of the construction).\n",
    "\n",
    "This illustrative example is taken from \n",
    "\n",
    "*Python for Dummies*. 2006.  Maruch, Stef and Maruch, Aahz.  Wiley Dummies Series. Indianapolis, In.\n",
    "\n",
    "In reading this code, it will probably help to be aware of the following Groucho Marx line:  \"Outside of  dog, a book is man's best friend.  Inside of a dog, it's too dark to read.\"\n",
    "\n",
    "Pay attention to the value of the variable `a_book` as it changes during the execution of the next cell."
   ]
  },
  {
   "cell_type": "code",
   "execution_count": 5,
   "metadata": {},
   "outputs": [
    {
     "name": "stdout",
     "output_type": "stream",
     "text": [
      "outside of A_DOG, a_book is [man's best friend]\n",
      "inside of A_DOG, it's [too dark to read]\n",
      "we're back outside of A_DOG again\n",
      "and a_book is again [man's best friend]\n"
     ]
    }
   ],
   "source": [
    "a_book = \"man's best friend\"\n",
    "print(f\"outside of A_DOG, a_book is [{a_book}]\")\n",
    "\n",
    "def A_DOG():\n",
    "    a_book = \"too dark to read\"\n",
    "    print(f\"inside of A_DOG, it's [{a_book}]\")\n",
    "\n",
    "A_DOG()\n",
    "print(\"we're back outside of A_DOG again\")\n",
    "print(f\"and a_book is again [{a_book}]\")"
   ]
  },
  {
   "cell_type": "code",
   "execution_count": null,
   "metadata": {},
   "outputs": [],
   "source": []
  },
  {
   "cell_type": "markdown",
   "metadata": {},
   "source": [
    "What's happened is this.  In line 1, the variable `a_book` is set **globally** (not in any  block with special variable-scoping properties).  That makes `a_book` what is called a **global variable**.\n",
    "\n",
    "In line 2, that global value of `a_book` is printed.  In lines 4-7, a function named `A_DOG` is defined to assign a new value to the variable `a_book` (line 5) and to print the value (line 6).  In line 8, the function `A_DOG` is **called**, which means the code in lines 5 and 6 is **executed**; so that's when the output line\n",
    "\n",
    "```\n",
    "inside of a dog, it's too dark to read\n",
    "```\n",
    "\n",
    "is printed.  Since this is the result of line 6\n",
    "\n",
    "```\n",
    "print(\"inside of A_DOG, it's\", a_book)\n",
    "```\n",
    "\n",
    "being executed, this shows us that the assignment of a new value to the variable `a_book` has worked.\n",
    "\n",
    "Then, in line 10, after `A_DOG` has finished executing, the value of the name `a_book` is printed again. \n",
    "\n",
    "So the value of `a_book` is printed three times, \n",
    "\n",
    "1. once before running `A_DOG`, \n",
    "2. once inside `A_DOG`;\n",
    "3. once after running `A_DOG`. \n",
    "\n",
    "We see that, as might be expected, the name's value changes inside the code block defining `A_DOG`.  What might be less expected is that after `A_DOG` finishes executing,\n",
    "the name's value changes back to its global value.  \n",
    "\n",
    "This is a general feature of Python.  As a rule, the effects of variable assignments made inside functions don't persist after the function is executed, even if they're made to global variables, as in this case.   This\n",
    "property is described by saying *The scope of the assigment is local.* \n",
    "Or by saying the variable has **local scope**.\n",
    "That is, the assignment only holds while a certain (local) block of code is being executed.  After that block of code is done executing, the variable goes back to whatever state it had before the block of code was executed.  If it had a value, it goes back to having the old value; if it was undefined, it goes back to being undefined.\n",
    "\n",
    "Pythonistas also\n",
    "describe this by saying we make a new local variable inside the function block.\n",
    "This is the actual truth.  We need a new place in memory to put the local\n",
    "value, so this version of `a_dog` is in fact a new variable, which goes\n",
    "about its business without affecting the global variable.\n",
    "\n",
    "When we described line 1 by saying the value of the variable is set globally,\n",
    "we explained that by saying \"not in any block of code that has special variable-scoping\n",
    "properties.\"  Well, a function definition is definitely a block of code that\n",
    "has special variable-scoping properties.  So, in a function defintion,\n",
    "an assignment to a variable is not global.\n",
    "\n",
    "This is sometimes confusing if you're used to other notions of scope.  In many programming languages (like C++), the effect of an assignment made to a global variable inside a function would persist after the function finishes executing. \n",
    "\n",
    "This has some consequences, which we'll now explore."
   ]
  },
  {
   "cell_type": "markdown",
   "metadata": {},
   "source": [
    "## Using a global variable in a function definition (OK)"
   ]
  },
  {
   "cell_type": "markdown",
   "metadata": {},
   "source": [
    "Not a problem.  You can reference the value of global variable all you want inside\n",
    "the bodies of functions or elsewhere.  That's what they're for."
   ]
  },
  {
   "cell_type": "code",
   "execution_count": 6,
   "metadata": {},
   "outputs": [
    {
     "name": "stdout",
     "output_type": "stream",
     "text": [
      "outside of a dog, a book is man's best friend\n",
      "inside of THIS dog, a book is still man's best friend\n"
     ]
    }
   ],
   "source": [
    "a_book = \"man's best friend\"\n",
    "print(\"outside of a dog, a book is\", a_book)\n",
    "def a_bright_dog():\n",
    "    print(\"inside of THIS dog, a book is still\", a_book)\n",
    "a_bright_dog()"
   ]
  },
  {
   "cell_type": "markdown",
   "metadata": {},
   "source": [
    "## Using a variable as both local and global (BAD!)"
   ]
  },
  {
   "cell_type": "code",
   "execution_count": 7,
   "metadata": {},
   "outputs": [
    {
     "name": "stdout",
     "output_type": "stream",
     "text": [
      "init 0\n"
     ]
    },
    {
     "ename": "UnboundLocalError",
     "evalue": "local variable 'grog_ctr' referenced before assignment",
     "output_type": "error",
     "traceback": [
      "\u001b[0;31m---------------------------------------------------------------------------\u001b[0m",
      "\u001b[0;31mUnboundLocalError\u001b[0m                         Traceback (most recent call last)",
      "\u001b[0;32m/var/folders/_q/2s1hy5bx1l7f9j1lw9zjgt19_wb463/T/ipykernel_29774/2935624476.py\u001b[0m in \u001b[0;36m<module>\u001b[0;34m\u001b[0m\n\u001b[1;32m      8\u001b[0m \u001b[0;34m\u001b[0m\u001b[0m\n\u001b[1;32m      9\u001b[0m \u001b[0mprint\u001b[0m\u001b[0;34m(\u001b[0m\u001b[0;34m'init'\u001b[0m\u001b[0;34m,\u001b[0m\u001b[0mgrog_ctr\u001b[0m\u001b[0;34m)\u001b[0m\u001b[0;34m\u001b[0m\u001b[0m\n\u001b[0;32m---> 10\u001b[0;31m \u001b[0mgrog1\u001b[0m \u001b[0;34m=\u001b[0m \u001b[0mmake_a_grog\u001b[0m \u001b[0;34m(\u001b[0m\u001b[0;34m'ralph'\u001b[0m\u001b[0;34m)\u001b[0m\u001b[0;34m\u001b[0m\u001b[0m\n\u001b[0m\u001b[1;32m     11\u001b[0m \u001b[0mprint\u001b[0m\u001b[0;34m(\u001b[0m\u001b[0;34m'after exec 1'\u001b[0m\u001b[0;34m,\u001b[0m \u001b[0mgrog_ctr\u001b[0m\u001b[0;34m)\u001b[0m\u001b[0;34m\u001b[0m\u001b[0m\n",
      "\u001b[0;32m/var/folders/_q/2s1hy5bx1l7f9j1lw9zjgt19_wb463/T/ipykernel_29774/2935624476.py\u001b[0m in \u001b[0;36mmake_a_grog\u001b[0;34m(name)\u001b[0m\n\u001b[1;32m      4\u001b[0m \u001b[0;34m\u001b[0m\u001b[0m\n\u001b[1;32m      5\u001b[0m \u001b[0;32mdef\u001b[0m \u001b[0mmake_a_grog\u001b[0m \u001b[0;34m(\u001b[0m\u001b[0mname\u001b[0m\u001b[0;34m)\u001b[0m\u001b[0;34m:\u001b[0m\u001b[0;34m\u001b[0m\u001b[0m\n\u001b[0;32m----> 6\u001b[0;31m     \u001b[0mgrog_ctr\u001b[0m \u001b[0;34m=\u001b[0m  \u001b[0mgrog_ctr\u001b[0m \u001b[0;34m+\u001b[0m \u001b[0;36m1\u001b[0m\u001b[0;34m\u001b[0m\u001b[0m\n\u001b[0m\u001b[1;32m      7\u001b[0m     \u001b[0;32mreturn\u001b[0m \u001b[0;34m{\u001b[0m\u001b[0;34m'species'\u001b[0m\u001b[0;34m:\u001b[0m \u001b[0;34m'grog'\u001b[0m\u001b[0;34m,\u001b[0m \u001b[0;34m'id'\u001b[0m\u001b[0;34m:\u001b[0m \u001b[0mgrog_ctr\u001b[0m\u001b[0;34m,\u001b[0m \u001b[0;34m'name'\u001b[0m\u001b[0;34m:\u001b[0m \u001b[0mname\u001b[0m\u001b[0;34m}\u001b[0m\u001b[0;34m\u001b[0m\u001b[0m\n\u001b[1;32m      8\u001b[0m \u001b[0;34m\u001b[0m\u001b[0m\n",
      "\u001b[0;31mUnboundLocalError\u001b[0m: local variable 'grog_ctr' referenced before assignment"
     ]
    }
   ],
   "source": [
    "# Declare a counter.  I want it updated every time I make a grog.\n",
    "\n",
    "grog_ctr = 0\n",
    "\n",
    "def make_a_grog (name):\n",
    "    grog_ctr =  grog_ctr + 1\n",
    "    return {'species': 'grog', 'id': grog_ctr, 'name': name}\n",
    "\n",
    "print('init',grog_ctr)\n",
    "grog1 = make_a_grog ('ralph')\n",
    "print('after exec 1', grog_ctr)\n"
   ]
  },
  {
   "cell_type": "markdown",
   "metadata": {},
   "source": [
    "Although we could make a new assignment to  a global variable inside\n",
    "a'function (we just showed that inside `A_DOG`), \n",
    "we can't **use** the global value of a global variable (RHS of line 6)\n",
    "and also use it as a local variable (assign a new value to it, LHS of line 6).\n",
    "\n",
    "We describe this as follows. Assigning a value to a variable\n",
    "in a function makes it a local variable in that function (whether it's\n",
    "global or not).  Executing code referencing the value of a global\n",
    "variable  in the function before assigning a value makes it\n",
    "a global variable.  A variable name can't be both\n",
    "local and global inside the same function body. (Note:  You might **read** the RHS of an assignment after the LHS, but clearly the RHS of the assignment \n",
    "has to be executed before the assignment can make `a_dog` a local variable).\n",
    "\n",
    "And violating this rule this is exactly what we need to do\n",
    "if we are going to use this line\n",
    "\n",
    "```\n",
    "grog_ctr =  grog_ctr + 1\n",
    "```\n",
    "\n",
    "to keep count of how many grogs there are inside the function\n",
    "`make_a_grog`.\n"
   ]
  },
  {
   "cell_type": "markdown",
   "metadata": {},
   "source": [
    "## Declaring a variable global"
   ]
  },
  {
   "cell_type": "markdown",
   "metadata": {},
   "source": [
    "Now suppose we just absolutely **have** to write a function\n",
    "that updates a global variable inside the body.  We use a\n",
    "declaration that says that variable cannot be local\n",
    "in that function.\n",
    "\n",
    "Then assignments inside the function then work as they would in C++."
   ]
  },
  {
   "cell_type": "code",
   "execution_count": 8,
   "metadata": {},
   "outputs": [
    {
     "name": "stdout",
     "output_type": "stream",
     "text": [
      "green eggs\n",
      "red eggs\n",
      "red eggs\n"
     ]
    }
   ],
   "source": [
    "eggcolor = \"green\"\n",
    "print(eggcolor, \"eggs\")\n",
    "def breakfast():\n",
    "    global eggcolor\n",
    "    eggcolor = \"red\"\n",
    "    print(eggcolor, \"eggs\")\n",
    "breakfast()\n",
    "print(eggcolor, \"eggs\")"
   ]
  },
  {
   "cell_type": "markdown",
   "metadata": {},
   "source": [
    "This means we can use the global declaration to make our grog counter work."
   ]
  },
  {
   "cell_type": "code",
   "execution_count": 9,
   "metadata": {},
   "outputs": [
    {
     "name": "stdout",
     "output_type": "stream",
     "text": [
      "init 0\n",
      "after exec 1 1\n",
      "{'species': 'grog', 'id': 1, 'name': 'ralph'}\n",
      "after exec 2 2\n",
      "{'species': 'grog', 'id': 2, 'name': 'ed'}\n"
     ]
    }
   ],
   "source": [
    "# Delare a counter.  I want it updated every time I make a grog.\n",
    "\n",
    "grog_ctr = 0\n",
    "\n",
    "def make_a_grog (name):\n",
    "    # Now make the ctr global\n",
    "    global grog_ctr\n",
    "    # The assignment now does NOT make a local var named grog_ctr\n",
    "    grog_ctr =  grog_ctr + 1\n",
    "    return {'species': 'grog', 'id': grog_ctr, 'name': name}\n",
    "\n",
    "print('init',grog_ctr)\n",
    "grog1 = make_a_grog ('ralph')\n",
    "print('after exec 1', grog_ctr)\n",
    "print(grog1)\n",
    "grog2 = make_a_grog ('ed')\n",
    "print('after exec 2', grog_ctr)\n",
    "print(grog2)\n"
   ]
  },
  {
   "cell_type": "markdown",
   "metadata": {},
   "source": [
    "# Scope and Block Structure"
   ]
  },
  {
   "cell_type": "markdown",
   "metadata": {},
   "source": [
    "There's lots more that could be said about Python variable scope but we're going to keep things simple for now.\n",
    "\n",
    "1.  The **scope** of a variable assigment is a block of code in which the assignment\n",
    "    is valid.  Whenever there is such a block of code, we say the assignment is **local** to the block. \n",
    "2.  Global scope means there is no block of code limiting the validity of the assignment.  It is valid everywhere.\n",
    "2.  Unless a variable is declared to be global, the scope of an assignment inside a function definition is the function definition.  That is, it is limited to the block of code that defines the function.\n",
    "\n",
    "Now it's important to remember that there are many Python constructions using block structure, and not every kind of block defines variable scopes.  The way to remember which constructions introduce blocks is watch for `:`.  Everytime there is a `:` an indented block of code follows.  Here is a list:\n",
    "\n",
    "1.  `if`\n",
    "     ```\n",
    "     if x == 4:\n",
    "        print('Valid')\n",
    "     ```\n",
    "2.   `for`, `while`\n",
    "      ```\n",
    "      for x in 'abc':\n",
    "          print(x)\n",
    "      ```\n",
    "3.   `with`\n",
    "     ```\n",
    "     with open('foo.txt','r') as fh:\n",
    "          file_str = fh.read()\n",
    "     ```\n",
    "4.   `class`\n",
    "     ```\n",
    "     class Grog:\n",
    "         grog_ctr = 0\n",
    "     ```\n",
    "5.  `def`\n",
    "     ```\n",
    "     def hello(name):\n",
    "         print(\"Hello\",name)\n",
    "     ```\n",
    "  \n",
    "Only two of these 5 block constructions define variable scopes: `def` and `class`.  We\n",
    "have illustrated scope with function definitions above.  The next cell reimplements\n",
    "our grog maker system in a better way and will serve to illustrate\n",
    "how variable scope works in a class definition."
   ]
  },
  {
   "cell_type": "code",
   "execution_count": 10,
   "metadata": {},
   "outputs": [
    {
     "name": "stdout",
     "output_type": "stream",
     "text": [
      "0\n",
      "Ralph 1\n",
      "Ed 2\n",
      "Ralph 1\n"
     ]
    }
   ],
   "source": [
    "class Grog:\n",
    "    \n",
    "    ctr = 0\n",
    "    \n",
    "    def __init__(self, name):\n",
    "        self.name = name\n",
    "        # Update the total count of all grogs\n",
    "        Grog.ctr += 1\n",
    "        # use the current count as this grog's unique id\n",
    "        self.ctr = Grog.ctr\n",
    "\n",
    "print(Grog.ctr)\n",
    "grog1 = Grog('Ralph') \n",
    "print(grog1.name, grog1.ctr)\n",
    "grog2 = Grog('Ed') \n",
    "print(grog2.name, grog2.ctr)\n",
    "# Notice grog \"Ralph\" is unchanged after grog \"Ed\" is created\n",
    "print(grog1.name, grog1.ctr)"
   ]
  },
  {
   "cell_type": "code",
   "execution_count": 11,
   "metadata": {},
   "outputs": [
    {
     "ename": "NameError",
     "evalue": "name 'ctr' is not defined",
     "output_type": "error",
     "traceback": [
      "\u001b[0;31m---------------------------------------------------------------------------\u001b[0m",
      "\u001b[0;31mNameError\u001b[0m                                 Traceback (most recent call last)",
      "\u001b[0;32m/var/folders/_q/2s1hy5bx1l7f9j1lw9zjgt19_wb463/T/ipykernel_29774/3502835232.py\u001b[0m in \u001b[0;36m<module>\u001b[0;34m\u001b[0m\n\u001b[0;32m----> 1\u001b[0;31m \u001b[0mctr\u001b[0m\u001b[0;34m\u001b[0m\u001b[0m\n\u001b[0m",
      "\u001b[0;31mNameError\u001b[0m: name 'ctr' is not defined"
     ]
    }
   ],
   "source": [
    "ctr"
   ]
  },
  {
   "cell_type": "markdown",
   "metadata": {},
   "source": [
    "Executing the class definition gave the variable `Grog.ctr` the value 0 and then\n",
    "creating two new Grogs (lines 13 and 15) updated that value, because the `__init__` method, if defined, is automatically executed whenever a new instance of a class is created."
   ]
  },
  {
   "cell_type": "code",
   "execution_count": 12,
   "metadata": {},
   "outputs": [
    {
     "name": "stdout",
     "output_type": "stream",
     "text": [
      "2\n",
      "1\n"
     ]
    }
   ],
   "source": [
    "# This is our official grog ct\n",
    "print(Grog.ctr)\n",
    "# This is grog1's id\n",
    "print(grog1.ctr)"
   ]
  },
  {
   "cell_type": "markdown",
   "metadata": {},
   "source": [
    "Notice the assignment to the variable `ctr` is local to the class definition.  That is, it was\n",
    "undefined before class was defined and it remains undefined after the\n",
    "class definition was executed and then used to create two new Grog instances."
   ]
  },
  {
   "cell_type": "code",
   "execution_count": 37,
   "metadata": {},
   "outputs": [
    {
     "ename": "NameError",
     "evalue": "name 'ctr' is not defined",
     "output_type": "error",
     "traceback": [
      "\u001b[0;31m---------------------------------------------------------------------------\u001b[0m",
      "\u001b[0;31mNameError\u001b[0m                                 Traceback (most recent call last)",
      "\u001b[0;32m/var/folders/_q/2s1hy5bx1l7f9j1lw9zjgt19_wb463/T/ipykernel_29546/3502835232.py\u001b[0m in \u001b[0;36m<module>\u001b[0;34m\u001b[0m\n\u001b[0;32m----> 1\u001b[0;31m \u001b[0mctr\u001b[0m\u001b[0;34m\u001b[0m\u001b[0m\n\u001b[0m",
      "\u001b[0;31mNameError\u001b[0m: name 'ctr' is not defined"
     ]
    }
   ],
   "source": [
    "ctr"
   ]
  },
  {
   "cell_type": "markdown",
   "metadata": {},
   "source": [
    "What **is** defined is `Grog.ctr`.  That is, the class creates a namespace and\n",
    "all the names given values in the class definition block belong to that namespace.\n",
    "In particular:"
   ]
  },
  {
   "cell_type": "code",
   "execution_count": 38,
   "metadata": {
    "scrolled": true
   },
   "outputs": [
    {
     "name": "stdout",
     "output_type": "stream",
     "text": [
      "2\n",
      "<function Grog.__init__ at 0x7fda41d2cbf8>\n"
     ]
    }
   ],
   "source": [
    "print (Grog.ctr)\n",
    "print(Grog.__init__)"
   ]
  },
  {
   "cell_type": "markdown",
   "metadata": {},
   "source": [
    "In having their own private name space for functions (`__init__` in this case)\n",
    "and variables (`ctr` in this case), class definitions are like modules."
   ]
  },
  {
   "cell_type": "markdown",
   "metadata": {},
   "source": [
    "Summing up:\n",
    "\n",
    "1.  Every variable scope is defined by some block structure; but\n",
    "2.  Not every code block can define a variable scope (not every code block\n",
    "    can give rise to local variables).\n",
    "3.  Consequently, if a global variable is updated in a `for`-loop or an `if` conditional,\n",
    "    that will globally change its value. If a new variable is assigned a value \n",
    "    in a `for`-loop or an `if` conditional, that value will persist outside the\n",
    "    code block."
   ]
  },
  {
   "cell_type": "code",
   "execution_count": null,
   "metadata": {},
   "outputs": [],
   "source": []
  }
 ],
 "metadata": {
  "kernelspec": {
   "display_name": "Python 3 (ipykernel)",
   "language": "python",
   "name": "python3"
  },
  "language_info": {
   "codemirror_mode": {
    "name": "ipython",
    "version": 3
   },
   "file_extension": ".py",
   "mimetype": "text/x-python",
   "name": "python",
   "nbconvert_exporter": "python",
   "pygments_lexer": "ipython3",
   "version": "3.7.0"
  },
  "toc": {
   "colors": {
    "hover_highlight": "#DAA520",
    "running_highlight": "#FF0000",
    "selected_highlight": "#FFD700"
   },
   "moveMenuLeft": true,
   "nav_menu": {
    "height": "66px",
    "width": "252px"
   },
   "navigate_menu": true,
   "number_sections": true,
   "sideBar": true,
   "threshold": 4,
   "toc_cell": false,
   "toc_section_display": "block",
   "toc_window_display": false,
   "widenNotebook": false
  }
 },
 "nbformat": 4,
 "nbformat_minor": 1
}
