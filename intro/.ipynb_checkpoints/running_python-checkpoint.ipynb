{
 "cells": [
  {
   "cell_type": "markdown",
   "metadata": {
    "colab_type": "text",
    "id": "M2um92nVUZcl"
   },
   "source": [
    "<font size=7> <b> Running Python </b></font>"
   ]
  },
  {
   "cell_type": "markdown",
   "metadata": {},
   "source": [
    "## Opening remarks (how to submit)"
   ]
  },
  {
   "cell_type": "markdown",
   "metadata": {},
   "source": [
    "Welcome to your first notebook."
   ]
  },
  {
   "cell_type": "markdown",
   "metadata": {
    "colab_type": "text",
    "id": "cVBfwQlxUZcm"
   },
   "source": [
    "This is your introduction to Jupyter and Colab notebooks. It is not an official assignment itself (your first assignment is in another notebook), but it provides you with some technical help that should help you complete the first assignment. Although this is not an assignment, your are being asked to submit as your first discussion topic.\n",
    "\n",
    "We accomplish several things with this notebook.\n",
    "\n",
    "1. We will make sure you can run Python, either because you have installed it correctly on your home machine or because you are running this notebook through Google Colab.\n",
    "2. We will try to get you comfortable working with a Jupyter Notebook or in Colab. You need to be able to execute the code in it, observe the results, and write responses to what you see.  \n",
    "3. Equally important, you need to be save your notebook on your home machine and turn it in.  A notebook file has the extension `.ipynb`.  This is the only kind of file you should upload when you submit your notebook assignments in Canvas.\n",
    "4. If step 3 fails, as a last resort, **and only as a last resort**, you can savet it as an `.pdf` file (via HTML, explained below) and submit that,\n",
    "5. I recommend always keeping a copy of your submitted assignment on your home machine in case anything goes wrong with your Canvas submission. Keep that copy around until the end of the course.  Next, we go through each of these steps in turn. "
   ]
  },
  {
   "cell_type": "markdown",
   "metadata": {},
   "source": [
    "Before we do anything else, let's try a few very simple things.  The next cell contains an arithmetic expression `3+4`.\n",
    "\n",
    "The cell has been **evaluated** so the the value of that expression appears as **output** below the cell.  Cells that contain Python code that can be evaluated so as to produce \n",
    "some output are called **code cells**.  Cells that contain text (like this one!) are called **markup cells**.\n",
    "\n",
    "In Jupyter notebook,  code cells have an **In[ ]** to their left, In Google Colab they have a circle containing a rightward pointing triangle (like the triangle on the **Play** button in many music/video apps). \n",
    "\n",
    "You should edit the cell so that it contains a different arithmetic expression with a different value.  Then you should **evaluate** so as to produce new output.\n",
    "\n",
    "To evaluate, in Jupyter Notebook, press the `Return` key (or `Enter`) while holding down the Shift-key. The Return key is also used to start a new line, so you will need to press `Shift` **before** you press `Enter`.  In Google Colab, click the cell's Play button (usually called a Run button)."
   ]
  },
  {
   "cell_type": "code",
   "execution_count": 7,
   "metadata": {},
   "outputs": [
    {
     "data": {
      "text/plain": [
       "7"
      ]
     },
     "execution_count": 7,
     "metadata": {},
     "output_type": "execute_result"
    }
   ],
   "source": [
    "#@ title A code cell\n",
    "3+4"
   ]
  },
  {
   "cell_type": "markdown",
   "metadata": {},
   "source": [
    "Next exercise:  the next cell contains the words \"Markup Cell\" in Bold.\n",
    "\n",
    "Double-click on the next cell so that you can edit it. The cell will change color and the text in it will display in typewriter font.  Type in a new sentence.  It will appear in typewriter font.\n",
    "\n",
    "After you are done with your sentence, hold down shift and press `return` to see your handiwork displayed in nice notebook font."
   ]
  },
  {
   "cell_type": "markdown",
   "metadata": {},
   "source": [
    "**Markup cell**\n"
   ]
  },
  {
   "cell_type": "markdown",
   "metadata": {},
   "source": [
    "### Learn a little about working  with the notebook"
   ]
  },
  {
   "cell_type": "markdown",
   "metadata": {
    "colab_type": "text",
    "id": "J7l5WK0YUZcn"
   },
   "source": [
    " Before going on with this notebook, I recommend you take in a brief tutorial on nitebook interaction.  \n",
    " \n",
    "1. If you are using Jupyter notebook, I recommend that you pull down the `Help` Menu from the Notebook Menubar above and select `User Interface Tour` which we took in class together.  This will give you a quick review of the terminology used for the various parts of the IPython screen, which we will be referring to below. Pay particular attention to where the Notebook Menu Bar is.\n",
    "2. If you are using `Google Colab`, have a look at [\"Getting started with Google Colab.\"](https://towardsdatascience.com/getting-started-with-google-colab-f2fff97f594c)"
   ]
  },
  {
   "cell_type": "markdown",
   "metadata": {},
   "source": [
    "### Importing data from the World-Wide World"
   ]
  },
  {
   "cell_type": "markdown",
   "metadata": {
    "colab_type": "text",
    "id": "GarzNavBo7Ui"
   },
   "source": [
    "The next two cells shows two methods for importing external data into a notebook, both very useful.  \n",
    "\n",
    "1. Method  One will work in any notebook.  It uses the `Ipython.display.Image` function to load a URL known to contain an image file.  The `Ipython.display.Image` function can be used to download any image from the web.  More generally, there are various Python resource-loading functions in various Python toolkits that have the capacity to load resources that are either on your local machine.\n",
    "2. Method Two will only work when you are working in the Google tool suite.  You need to be using the notebook as a Google Colab notebook, and you need to be logged in to your Google account.  Finally the file referenced after `'/content/gdrive'`  needs to have been uploaded to your Google Drive.  I previously saved a copy of the Python Logo in the top level folder of my personal Google Drive as \"python-logo.png\", so when I tried method 2, it worked for me.  \n",
    "\n",
    "   To try out Method Two, first upload the image at the following URL onto your Google Drive:\n",
    "   \n",
    "         https://gawron.sdsu.edu/python_for_ss/course_core/book_draft/_static/python-logo.png    \n",
    "         \n",
    "    Then execute the code in the Method Two cell below. comment out lines 2 and 3 in the cell. In line 5 the Google Drive module is imported (this will probably only work if you are using the notebook as a Google Colab notebook; most python distributions will not have this module). In line 6 we \"mount\" Google Drive (make it behave as if it is just another folder/directory on your local machine).  In line 7 we load the image into this notebook.  Since it was saved in the toplevel folder of my Google Drive, the folder is `/content/gdrive/My Drive`.\n"
   ]
  },
  {
   "cell_type": "markdown",
   "metadata": {},
   "source": [
    "#### Method One:"
   ]
  },
  {
   "cell_type": "code",
   "execution_count": 5,
   "metadata": {
    "colab": {
     "base_uri": "https://localhost:8080/",
     "height": 228
    },
    "colab_type": "code",
    "id": "eYU2tVJEUZcs",
    "outputId": "e58ff2ac-b0d1-4766-d104-af7ffcc68ef9"
   },
   "outputs": [
    {
     "data": {
      "text/html": [
       "<img src=\"https://gawron.sdsu.edu/python_for_ss/course_core/book_draft/_static/python-logo.png\" width=\"500\"/>"
      ],
      "text/plain": [
       "<IPython.core.display.Image object>"
      ]
     },
     "execution_count": 5,
     "metadata": {},
     "output_type": "execute_result"
    }
   ],
   "source": [
    "import IPython\n",
    "IPython.display.Image(url=\"https://gawron.sdsu.edu/python_for_ss/course_core/book_draft/\"\\\n",
    "          \"_static/python-logo.png\", width=500)"
   ]
  },
  {
   "cell_type": "markdown",
   "metadata": {},
   "source": [
    "#### Method Two:\n",
    "\n",
    "(most likely wont work in Jupyter notebook)"
   ]
  },
  {
   "cell_type": "code",
   "execution_count": 2,
   "metadata": {},
   "outputs": [
    {
     "ename": "ModuleNotFoundError",
     "evalue": "No module named 'google.colab'",
     "output_type": "error",
     "traceback": [
      "\u001b[0;31m---------------------------------------------------------------------------\u001b[0m",
      "\u001b[0;31mModuleNotFoundError\u001b[0m                       Traceback (most recent call last)",
      "\u001b[0;32m/var/folders/_q/2s1hy5bx1l7f9j1lw9zjgt19_wb463/T/ipykernel_45400/303562421.py\u001b[0m in \u001b[0;36m<module>\u001b[0;34m\u001b[0m\n\u001b[0;32m----> 1\u001b[0;31m \u001b[0;32mfrom\u001b[0m \u001b[0mgoogle\u001b[0m\u001b[0;34m.\u001b[0m\u001b[0mcolab\u001b[0m \u001b[0;32mimport\u001b[0m \u001b[0mdrive\u001b[0m\u001b[0;34m\u001b[0m\u001b[0m\n\u001b[0m\u001b[1;32m      2\u001b[0m \u001b[0mdrive\u001b[0m\u001b[0;34m.\u001b[0m\u001b[0mmount\u001b[0m\u001b[0;34m(\u001b[0m\u001b[0;34m'/content/gdrive'\u001b[0m\u001b[0;34m)\u001b[0m\u001b[0;34m\u001b[0m\u001b[0m\n\u001b[1;32m      3\u001b[0m \u001b[0mImage\u001b[0m\u001b[0;34m(\u001b[0m\u001b[0mfilename\u001b[0m\u001b[0;34m=\u001b[0m\u001b[0;34m'/content/gdrive/My Drive/python-logo.png'\u001b[0m\u001b[0;34m,\u001b[0m \u001b[0mwidth\u001b[0m\u001b[0;34m=\u001b[0m\u001b[0;36m250\u001b[0m\u001b[0;34m)\u001b[0m\u001b[0;34m\u001b[0m\u001b[0m\n",
      "\u001b[0;31mModuleNotFoundError\u001b[0m: No module named 'google.colab'"
     ]
    }
   ],
   "source": [
    "from google.colab import drive\n",
    "drive.mount('/content/drive') \n",
    "Image(filename='/content/drive/My Drive/python-logo.png', width=250)"
   ]
  },
  {
   "cell_type": "markdown",
   "metadata": {
    "colab_type": "text",
    "id": "ZyBw7AMzUZcv"
   },
   "source": [
    "# Work Flow"
   ]
  },
  {
   "cell_type": "markdown",
   "metadata": {
    "colab_type": "text",
    "id": "oHm_O1M6UZcw"
   },
   "source": [
    "**Copy, rename and save your notebook file**.  \n",
    "\n",
    "\n",
    "**Makde a copy**:  Work on a copy of the original notebook. If you are running this notebook on Google Colab you are necessarily working on a copy.  If you have saved this notebook to your local machine, and are running Jupyter notebook, you should pull down the `File` menu that appears on the Notebook Menu Bar and choose `Make a Copy`.  This will create a new Tab in your browser containing all the material in this notebook with a new name including the word `Copy`.  If you don't see the `Make a Copy` option, it's probably because you are using the wrong menu bar.  You need the Notebook menubar, not your browser's menu bar.\n",
    "\n",
    "The notebook Menu Bar is just below the line containing the title of the notebook. The actual title of thie notebook is **running_python**; Google Colab may have a title beginning \"Copy of\" followed by a modified version of the the title. \n",
    "\n",
    "The purpose of working on a copy is so that, if anything goes wrong, you can go back to the original to start over. "
   ]
  },
  {
   "cell_type": "markdown",
   "metadata": {
    "colab_type": "text",
    "id": "BR0lhP4uUZcw"
   },
   "source": [
    "**Rename your copy**:  In Jupyter notebook, while working on the copy you should be able to click above the menu bar in the notebook name area.  You will be able to type a new name.  Alternatively, pull down the `File` menu again and choose `Rename`.  Rename the notebook to be `<yourname>_python_types_nb`.  For example I would rename my assignment to be `mark_gawron_python_types_nb`.  \n",
    "\n",
    "In Google Colab the only way to rename is to choose a new name  when saving.  You should copy and rename as soon as you can in your notebook session.  Following these steps will not change the original notebook file you downloaded to do this assignment.  "
   ]
  },
  {
   "cell_type": "markdown",
   "metadata": {
    "colab_type": "text",
    "id": "LR-adqzhUZcw"
   },
   "source": [
    "**Saving**. After you have renamed the file, you can save your further work just by pulling down the same file menu and choosing `Save and Checkpoint` in Jupyter Notebook or `Download .ipynb` in Google Colab. The key point is to save the notebook when you are finished working (though you should certainly save earlier as well!).  The saved file is the file you will eventually submit on Canvas.   \n",
    "\n",
    "Takeaway: When doing an assignment, save your work.  Save it often. "
   ]
  },
  {
   "cell_type": "markdown",
   "metadata": {
    "colab_type": "text",
    "id": "BpGd5qUpUZcx"
   },
   "source": [
    "**Terminating Python and restarting**.  If Python does not seem to be responding to you when you execute commands that should have a response (like asking for the value of a variable by just typing the variable name), you can restart Python by pulling down the `Kernel` menu  in Jupyter Notebook and choosing `Interrupt`.  Or at any time, whether it's after an `Interrupt` or not, you can choose `Kernel > Restart`.  In Google Colab the equivalent items are under `Runtime`.  **Caution**: This will have the effect of wiping Python's memory clean.  So none of the definitions you have already executed will be in effect.  That means if you want to work with an expression that depends on something previously defined, you will have to re-execute all the definitions it depends on.  See the section on interacting with your notebook."
   ]
  },
  {
   "cell_type": "markdown",
   "metadata": {
    "colab_type": "text",
    "id": "iGblIaIwUZcx"
   },
   "source": [
    "**Ending your Jupyter or Colab session**.  In Jupyter Notebook, select `Close and halt` from the `File` menu.  This kills the Python process running behind your notebook.  But it does not kill the program that is interacting with you through your web browser, called the `Notebook Server`.  This is still running back in the window you originally started the notebook from.  To  kill this program, go back to the directory listing that showed up when you started jupyter notebook and select `Quit`.  Or just ignore it.  It's not hurting anyone.\n",
    "\n",
    "There is nothing equivalent to `Close and Halt` for Google Colab.  Just kill the Browser Tab or Browser Window your notebook is running in.  It is a good idea to do this since if you don't Google will eventually do it for you.  \n",
    "\n",
    "This brings up a special caution for Google Colab users.  Another time to save your work is if you are going away for a while.  If you leave the tab open and, say, go away for the night, your Python process will very likely be terminated by Google.  Your notebook window will generally still  be there in the morning, but you will need to start up a new Python process (under Runtime > Restart Runtime) and re-execute all your definitions.\n",
    "\n",
    "**Restarting your Jupyter or Colab session from a saved notebook**.  You have saved \n",
    "a notebook to your local machine.  You want to resume work on that version of the notebook.  The scenarios are different with Jupyter notebook and Google Colab\n",
    "\n",
    "**Google Colab**:   Visit [https://colab.research.google.com/](https://colab.research.google.com/)  Then do `File > Upload Notebook`."
   ]
  },
  {
   "cell_type": "markdown",
   "metadata": {},
   "source": [
    "**Submitting an assignemnt on Canvas.** For this you will need a file saved on your local machine.\n",
    "\n",
    "The assignment  page in Canvas will provide an easy way of uploading a file on your local\n",
    "machine onto Canvas."
   ]
  },
  {
   "cell_type": "markdown",
   "metadata": {
    "colab_type": "text",
    "id": "e5ihd81-UZcy"
   },
   "source": [
    "# Interacting with Jupyter Notebook or Google Colab"
   ]
  },
  {
   "cell_type": "markdown",
   "metadata": {
    "colab_type": "text",
    "id": "15CkXOhvUZcy"
   },
   "source": [
    "1. **Basic concept**.  An interactive notebook is a kind of spreadsheet consisting of a sequence of **cells** of two types, called **Code cells** and **Markdown cells**. These two types of cells let you do two different things, enter text and interact with Python.  The code cells all begin with an interger in square brackets.  Any time you wish, you can double click on a code cell and edit it, adding or deleting material.  In Jupyter Notebook, When you're done editing, position your cursor in the code cell and hit the `[Enter]` key while holding down the shift key, which we will henceforth write as `[Shift]`-`[Enter]`.  This will execute the code in that cell and give you Python's response (**if there is one**). The equivalent action in Google Colab  is to hover yout cursor over the square brackets at the beginning of the cell and click on the forward arrow that appears.  Keep in mind that Python is responding to the **last** line typed in the cell and some Python statements don't all call for a response.  For example, if you type `2+3` in a code cell and hit `[Shift]`-`[Enter]`, Python will respond `5`, But if you type `X=2+3`, Python says nothing.  It merely changes its state so that the variable `X` is now defined and now has the value `5`.\n",
    "2. **Code cell dependencies**.  Is everything defined?   When you load up a Python notebook, Python doesn't automatically execute all the code in code cells. It waits for you to tell it to. Frequently a code cell will have expressions that will depend on other expressions being defined or on some Python module being loaded, and those things will have happened in cells above the one you're editing.  In that case, executing the cell you're editing **before** executing the cells above will cause a Python error, often a `NameError`.  There are two ways to fix this.  One is to execute the cell with the needed definition and then re-execute the cell you were editing.  This is the scalpel solution.  The hammer solution is to pull down the `Cell` menu and select `Run all above`.  As time goes on and our notebooks become more and more complicated, the hammer solution will work less and less often, or you will become impatient with waiting for unnecessary pieces of code to finish executing.  At that point it will be a good idea to understand the dependencies among code cells and just execute the cells you need for your current editing purposes. Often this will be as simple as just executing the cells in the section of the notebook you're working on.\n",
    "3.  **Help**.  Of course the way to get help is to pull down the `Help` menu, but it is worth pointing out that most of the items there are not for beginners.  The two most important items are\n",
    "    1. Notebook Help (Jupyter only).  This takes you to some web pages that are basically a Tutorials. Highly recommended.\n",
    "    2. Keyboard shortcuts (under `Tools` in Google Colab.) This includes all the ways to get things done with keyboard commands, which are often more efficient than menu shuffling.  Most of the commands begin with `Ctrl-m`.  As with `[Shift]`-`[Enter]`, this means holding down the first key while pressing the second.  So `Ctrl-m` means *hold down the `Control` key while pressing the `m` key.*\n",
    "4.  **Creating new cells**.  Eventually you will be doing assignments in which you create new code cells and new markdown cells.  For now cells of both types have been provided below for you to put your answers in.  When you want to start creating cells, in Jupyter notebook you can use keyboard commands shown in the Keyboard shortcut help that will put new cells above and below the cell your cursor is in.  By default a new cell is a code cell.  There is also a keyboard shortcut for turning a code cell into a markdown cell.  In Google Colab, if you hover your cursor over the top center or bittom center of a cell, buttons for adding new code or text cells\n",
    "will appear."
   ]
  },
  {
   "cell_type": "markdown",
   "metadata": {},
   "source": []
  },
  {
   "cell_type": "markdown",
   "metadata": {
    "colab_type": "text",
    "id": "UZw4IFWVvTwQ"
   },
   "source": [
    "**Note**:  If you are looking at this notebook on github and wondering how on earth to run it have a look [at this section of the online book](https://gawron.sdsu.edu/python_for_ss/course_core/book_draft/Introduction/starting_up_python.html).  Bear in mind you'll not only need to download the \"Open in colab\" extension of your Chrome browser.  You'll also need to be logged in to your Google account."
   ]
  },
  {
   "cell_type": "markdown",
   "metadata": {
    "colab_type": "text",
    "id": "x9s5jJ4klqDx"
   },
   "source": [
    "# Running python"
   ]
  },
  {
   "cell_type": "markdown",
   "metadata": {
    "colab_type": "text",
    "id": "teAxBAjhlqDy"
   },
   "source": [
    "The first command in the cell below will start off many notebooks.  It loads matplotlib (graphing) tools and numpy (extended math) tools into Python.  It also guarantees your plots will appear in the notebook rather than in a separate window."
   ]
  },
  {
   "cell_type": "code",
   "execution_count": 6,
   "metadata": {
    "colab": {
     "base_uri": "https://localhost:8080/",
     "height": 85
    },
    "colab_type": "code",
    "id": "SKB31DKrlqD1",
    "outputId": "cbee5d00-2a8b-47b9-94e7-83ad5aef8618"
   },
   "outputs": [
    {
     "name": "stdout",
     "output_type": "stream",
     "text": [
      "Populating the interactive namespace from numpy and matplotlib\n"
     ]
    }
   ],
   "source": [
    "%pylab inline"
   ]
  },
  {
   "cell_type": "markdown",
   "metadata": {},
   "source": [
    "If you've just loaded this notebook, you might want to run the commands in the cell above.  This is done by placing your cursor in the cell and hitting the enter key **while** holding down shift, which we will henceforth write as `[Shift]`-`[Enter]`.  After you do that the 5 variables will have the values they were assigned in the cell. "
   ]
  },
  {
   "cell_type": "markdown",
   "metadata": {
    "colab_type": "text",
    "id": "-z86imZUlqD_"
   },
   "source": [
    "Now try running the commands in the cell below\n",
    ".  This is done by placing your cursor in the cell and hitting the enter key **while** holding down shift, which we will henceforth write as `[Shift]`-`[Enter]`.  After you do that the 5 variables will have the values they were assigned in the cell. "
   ]
  },
  {
   "cell_type": "code",
   "execution_count": 3,
   "metadata": {
    "colab": {},
    "colab_type": "code",
    "id": "2a4Ebz5AlqD8"
   },
   "outputs": [],
   "source": [
    "total_secs = 7684\n",
    "hours = total_secs // 3600\n",
    "secs_still_remaining = total_secs % 3600\n",
    "minutes =  secs_still_remaining // 60\n",
    "secs_finally_remaining = secs_still_remaining  % 60"
   ]
  },
  {
   "cell_type": "code",
   "execution_count": 4,
   "metadata": {
    "colab": {},
    "colab_type": "code",
    "id": "HeDbeOsZlqEA",
    "outputId": "8029e9d3-f190-4b64-d876-1c6163343128"
   },
   "outputs": [
    {
     "data": {
      "text/plain": [
       "7685"
      ]
     },
     "execution_count": 4,
     "metadata": {},
     "output_type": "execute_result"
    }
   ],
   "source": [
    "total_secs  + 1"
   ]
  },
  {
   "cell_type": "code",
   "execution_count": 5,
   "metadata": {
    "colab": {},
    "colab_type": "code",
    "id": "JS6Hr6xxlqED",
    "outputId": "a89999bd-9c59-4da3-ff6e-3ede6f0a02ce"
   },
   "outputs": [
    {
     "data": {
      "text/plain": [
       "2"
      ]
     },
     "execution_count": 5,
     "metadata": {},
     "output_type": "execute_result"
    }
   ],
   "source": [
    "hours"
   ]
  },
  {
   "cell_type": "code",
   "execution_count": 6,
   "metadata": {
    "colab": {},
    "colab_type": "code",
    "id": "87nSqyjklqEG",
    "outputId": "e12767b1-3e36-4829-caaa-b3ab765e5364"
   },
   "outputs": [
    {
     "data": {
      "text/plain": [
       "8"
      ]
     },
     "execution_count": 6,
     "metadata": {},
     "output_type": "execute_result"
    }
   ],
   "source": [
    "minutes"
   ]
  },
  {
   "cell_type": "code",
   "execution_count": 7,
   "metadata": {
    "colab": {},
    "colab_type": "code",
    "id": "g35ld2tUlqEK",
    "outputId": "7fe86f9b-b5a6-4ec1-afda-26ce6f5a5c50"
   },
   "outputs": [
    {
     "data": {
      "text/plain": [
       "484"
      ]
     },
     "execution_count": 7,
     "metadata": {},
     "output_type": "execute_result"
    }
   ],
   "source": [
    "secs_still_remaining"
   ]
  },
  {
   "cell_type": "code",
   "execution_count": 8,
   "metadata": {
    "colab": {},
    "colab_type": "code",
    "id": "QpbHNDK_lqEN",
    "outputId": "2c1f6cba-0da9-4418-ddff-13912155a176"
   },
   "outputs": [
    {
     "data": {
      "text/plain": [
       "4"
      ]
     },
     "execution_count": 8,
     "metadata": {},
     "output_type": "execute_result"
    }
   ],
   "source": [
    "secs_finally_remaining"
   ]
  },
  {
   "cell_type": "markdown",
   "metadata": {
    "colab_type": "text",
    "id": "C5Ulk3VslqEQ"
   },
   "source": [
    "To look at the values of a set of variables you can do what we just did, typing each variable to Python, but there are some other options.  One is to type a tuple to Python, to look at several variables at once."
   ]
  },
  {
   "cell_type": "code",
   "execution_count": 9,
   "metadata": {
    "colab": {},
    "colab_type": "code",
    "id": "54WkydbllqER",
    "outputId": "6d712cee-a64b-4544-f2e0-a758d9897b62"
   },
   "outputs": [
    {
     "data": {
      "text/plain": [
       "(7684, 2, 8, 484, 4)"
      ]
     },
     "execution_count": 9,
     "metadata": {},
     "output_type": "execute_result"
    }
   ],
   "source": [
    "(total_secs, hours, minutes, secs_still_remaining,secs_finally_remaining)"
   ]
  },
  {
   "cell_type": "markdown",
   "metadata": {
    "colab_type": "text",
    "id": "q7br_VDjlqEU"
   },
   "source": [
    "Another is to use Python's print statement."
   ]
  },
  {
   "cell_type": "code",
   "execution_count": 10,
   "metadata": {
    "colab": {},
    "colab_type": "code",
    "id": "F9lgEGXglqEU",
    "outputId": "2132f435-fe00-4fa6-b6d2-47c3ff72d61d",
    "scrolled": true
   },
   "outputs": [
    {
     "name": "stdout",
     "output_type": "stream",
     "text": [
      "Hrs = 2 mins = 8 secs = 4\n"
     ]
    }
   ],
   "source": [
    "print(\"Hrs =\", hours, \"mins =\", minutes, \"secs =\", secs_finally_remaining)"
   ]
  },
  {
   "cell_type": "markdown",
   "metadata": {},
   "source": [
    "Or equivalently and slightly more conveniently"
   ]
  },
  {
   "cell_type": "code",
   "execution_count": 12,
   "metadata": {},
   "outputs": [
    {
     "name": "stdout",
     "output_type": "stream",
     "text": [
      "Hrs = 2 mins = 8 secs = 4\n"
     ]
    }
   ],
   "source": [
    "print(f\"Hrs = {hours} mins = {minutes} secs = {secs_finally_remaining}\")"
   ]
  },
  {
   "cell_type": "markdown",
   "metadata": {},
   "source": [
    "Notice the curly braces are important."
   ]
  },
  {
   "cell_type": "code",
   "execution_count": 13,
   "metadata": {},
   "outputs": [
    {
     "name": "stdout",
     "output_type": "stream",
     "text": [
      "Hrs = hours mins = minutes secs = secs_finally_remaining\n"
     ]
    }
   ],
   "source": [
    "print(f\"Hrs = hours mins = minutes secs = secs_finally_remaining\")"
   ]
  },
  {
   "cell_type": "markdown",
   "metadata": {
    "colab_type": "text",
    "id": "v9Xmmm--lqEX"
   },
   "source": [
    "Some important features of the `print` statement are illustrated. In the first example we see `print` takes any number of arguments, separated by commas.  The commas are interpreted as spaces.  The final argument is not followed by a comma so print adds a newline character (\"\\n\").  The syntax of `print`, which used to  like nothing else in Python (no parens), has been changed in Python 3.0.  The new syntax is what's illustrated here."
   ]
  },
  {
   "cell_type": "markdown",
   "metadata": {
    "colab_type": "text",
    "id": "TdfbhwySlqEY"
   },
   "source": [
    "# Python arithmetic "
   ]
  },
  {
   "cell_type": "markdown",
   "metadata": {
    "colab_type": "text",
    "id": "LUmgRRRWlqEZ"
   },
   "source": [
    "Lets look at each of the lines in the code and see what it computes.  Python has two division operators, '//' and '/'. This is illustrated in the next line."
   ]
  },
  {
   "cell_type": "code",
   "execution_count": 14,
   "metadata": {
    "colab": {},
    "colab_type": "code",
    "id": "m6fl1vcnlqEa",
    "outputId": "0fd2cc60-3c33-4c8c-8585-f8f0cd52415a"
   },
   "outputs": [
    {
     "data": {
      "text/plain": [
       "2"
      ]
     },
     "execution_count": 14,
     "metadata": {},
     "output_type": "execute_result"
    }
   ],
   "source": [
    "total_secs // 3600"
   ]
  },
  {
   "cell_type": "markdown",
   "metadata": {
    "colab_type": "text",
    "id": "GecQMaQ1lqEd"
   },
   "source": [
    "Note that even though the value of *total_secs* is 7684, the value returned is an integer.  The '//' operator always rounds off to the nearest integer when necessary.  "
   ]
  },
  {
   "cell_type": "code",
   "execution_count": 6,
   "metadata": {
    "colab": {},
    "colab_type": "code",
    "id": "tn14JrgJlqEe",
    "outputId": "85a92661-a217-49b3-e50d-c16aef734754"
   },
   "outputs": [
    {
     "data": {
      "text/plain": [
       "12.0"
      ]
     },
     "execution_count": 6,
     "metadata": {},
     "output_type": "execute_result"
    }
   ],
   "source": [
    "7200.1//600"
   ]
  },
  {
   "cell_type": "markdown",
   "metadata": {
    "colab_type": "text",
    "id": "VEpDsT9RlqEh"
   },
   "source": [
    "The '%' operator (also called the **modulus** operator) computes the *remainder* in a division."
   ]
  },
  {
   "cell_type": "code",
   "execution_count": 18,
   "metadata": {
    "colab": {},
    "colab_type": "code",
    "id": "JFjIFROIlqEh",
    "outputId": "6ffa936f-a022-4676-c7af-77fa56350af5"
   },
   "outputs": [
    {
     "data": {
      "text/plain": [
       "484"
      ]
     },
     "execution_count": 18,
     "metadata": {},
     "output_type": "execute_result"
    }
   ],
   "source": [
    "total_secs % 3600"
   ]
  },
  {
   "cell_type": "code",
   "execution_count": 19,
   "metadata": {
    "colab": {},
    "colab_type": "code",
    "id": "CdUWppz2lqEk",
    "outputId": "3fd7fec1-d0d1-4c17-e830-4b8b9a6a03c5"
   },
   "outputs": [
    {
     "data": {
      "text/plain": [
       "0.30000000000001137"
      ]
     },
     "execution_count": 19,
     "metadata": {},
     "output_type": "execute_result"
    }
   ],
   "source": [
    "345.3 % 3"
   ]
  },
  {
   "cell_type": "markdown",
   "metadata": {
    "colab_type": "text",
    "id": "whOazm8UlqEn"
   },
   "source": [
    "## Basic arithmetic"
   ]
  },
  {
   "cell_type": "markdown",
   "metadata": {
    "colab_type": "text",
    "id": "g68FE0_blqEn"
   },
   "source": [
    "Multiplication"
   ]
  },
  {
   "cell_type": "code",
   "execution_count": 20,
   "metadata": {
    "colab": {},
    "colab_type": "code",
    "id": "lnZDltEYlqEp",
    "outputId": "cd4857e9-aac1-4553-a167-8bd98fce826c"
   },
   "outputs": [
    {
     "data": {
      "text/plain": [
       "6"
      ]
     },
     "execution_count": 20,
     "metadata": {},
     "output_type": "execute_result"
    }
   ],
   "source": [
    "3 * 2"
   ]
  },
  {
   "cell_type": "markdown",
   "metadata": {
    "colab_type": "text",
    "id": "-z2LnvEjlqEt"
   },
   "source": [
    "Addition"
   ]
  },
  {
   "cell_type": "code",
   "execution_count": 21,
   "metadata": {
    "colab": {},
    "colab_type": "code",
    "id": "nYm0jGY2lqEu",
    "outputId": "51b900d8-84f9-4a40-ee2a-ec2f1445fb03"
   },
   "outputs": [
    {
     "data": {
      "text/plain": [
       "5"
      ]
     },
     "execution_count": 21,
     "metadata": {},
     "output_type": "execute_result"
    }
   ],
   "source": [
    "3 + 2"
   ]
  },
  {
   "cell_type": "markdown",
   "metadata": {
    "colab_type": "text",
    "id": "KX_F9O2BlqEy"
   },
   "source": [
    "Subtraction"
   ]
  },
  {
   "cell_type": "code",
   "execution_count": 22,
   "metadata": {
    "colab": {},
    "colab_type": "code",
    "id": "tQmvhITolqEz",
    "outputId": "7ed11841-c802-46ef-ef6a-598afefa0d4b"
   },
   "outputs": [
    {
     "data": {
      "text/plain": [
       "1"
      ]
     },
     "execution_count": 22,
     "metadata": {},
     "output_type": "execute_result"
    }
   ],
   "source": [
    "3 - 2"
   ]
  },
  {
   "cell_type": "markdown",
   "metadata": {
    "colab_type": "text",
    "id": "PaqeCq0qlqE2"
   },
   "source": [
    "Raising to a power"
   ]
  },
  {
   "cell_type": "code",
   "execution_count": 23,
   "metadata": {
    "colab": {},
    "colab_type": "code",
    "id": "HuunR6ZblqE3",
    "outputId": "fb64faa3-c620-43a1-9017-e69554af1e51"
   },
   "outputs": [
    {
     "data": {
      "text/plain": [
       "9"
      ]
     },
     "execution_count": 23,
     "metadata": {},
     "output_type": "execute_result"
    }
   ],
   "source": [
    "3 ** 2"
   ]
  },
  {
   "cell_type": "markdown",
   "metadata": {
    "colab_type": "text",
    "id": "M7uODFS0lqE6"
   },
   "source": [
    "Taking the log.  The next line is log of 3."
   ]
  },
  {
   "cell_type": "code",
   "execution_count": 5,
   "metadata": {
    "colab": {},
    "colab_type": "code",
    "id": "F7-uXHiHlqE6",
    "outputId": "d02aba77-b040-44ae-c405-d2e53e006bc6"
   },
   "outputs": [
    {
     "data": {
      "text/plain": [
       "1.0986122886681098"
      ]
     },
     "execution_count": 5,
     "metadata": {},
     "output_type": "execute_result"
    }
   ],
   "source": [
    "log(3)"
   ]
  },
  {
   "cell_type": "markdown",
   "metadata": {
    "colab_type": "text",
    "id": "St96VgO5lqE9"
   },
   "source": [
    "In regular Python, this would be a `NameError` because the *log function* is not one of the builtin Python math functions.  But because we executed `%pylab` when we started up this notebook, all the extended math functions defined in the `numpy` module are defined.  One of those is `log`.  As an example of some possible pitfalls, we'll compare this `log` with the more vanilla version from the standard Python `math` module.  `math.log` does give the same answers for real numbers."
   ]
  },
  {
   "cell_type": "code",
   "execution_count": 7,
   "metadata": {
    "colab": {
     "base_uri": "https://localhost:8080/",
     "height": 34
    },
    "colab_type": "code",
    "id": "xWuzczGalqE_",
    "outputId": "1f558e21-fb2e-4cf2-e40a-f0cdbdcd51d9"
   },
   "outputs": [
    {
     "data": {
      "text/plain": [
       "1.0986122886681098"
      ]
     },
     "execution_count": 7,
     "metadata": {},
     "output_type": "execute_result"
    }
   ],
   "source": [
    "import math\n",
    "math.log(3)"
   ]
  },
  {
   "cell_type": "markdown",
   "metadata": {
    "colab_type": "text",
    "id": "tSZ8J3EylqFB"
   },
   "source": [
    "By default, math.log does natural logarithms, as does `numpy.log`, so if you dont specify the base, it is **e**.  But unlike the numpy implementation, `math.log` lets you choose other bases."
   ]
  },
  {
   "cell_type": "code",
   "execution_count": 8,
   "metadata": {
    "colab": {},
    "colab_type": "code",
    "id": "N3W2eCvRlqFC",
    "outputId": "9f000653-331a-446c-e16c-d196840b0b35"
   },
   "outputs": [
    {
     "data": {
      "text/plain": [
       "(1.5849625007211563, 1.0)"
      ]
     },
     "execution_count": 8,
     "metadata": {},
     "output_type": "execute_result"
    }
   ],
   "source": [
    "math.log(3,2),math.log(3,3)"
   ]
  },
  {
   "cell_type": "markdown",
   "metadata": {
    "colab_type": "text",
    "id": "vNxr1jGKlqFE"
   },
   "source": [
    "Trying this with the `numpy.log` raises an exception.  `numpy.log` does take a second argument but it's used for purposes we won't delve into right now."
   ]
  },
  {
   "cell_type": "code",
   "execution_count": 9,
   "metadata": {
    "colab": {},
    "colab_type": "code",
    "id": "L-EcWtrXlqFF",
    "outputId": "4f93078e-996c-477b-8662-0289f911b457"
   },
   "outputs": [
    {
     "ename": "TypeError",
     "evalue": "return arrays must be of ArrayType",
     "output_type": "error",
     "traceback": [
      "\u001b[0;31m---------------------------------------------------------------------------\u001b[0m",
      "\u001b[0;31mTypeError\u001b[0m                                 Traceback (most recent call last)",
      "\u001b[0;32m<ipython-input-9-e5ab6086b242>\u001b[0m in \u001b[0;36m<module>\u001b[0;34m\u001b[0m\n\u001b[0;32m----> 1\u001b[0;31m \u001b[0mlog\u001b[0m\u001b[0;34m(\u001b[0m\u001b[0;36m3\u001b[0m\u001b[0;34m,\u001b[0m\u001b[0;36m2\u001b[0m\u001b[0;34m)\u001b[0m\u001b[0;34m\u001b[0m\u001b[0;34m\u001b[0m\u001b[0m\n\u001b[0m",
      "\u001b[0;31mTypeError\u001b[0m: return arrays must be of ArrayType"
     ]
    }
   ],
   "source": [
    "log(3,2)"
   ]
  },
  {
   "cell_type": "code",
   "execution_count": 29,
   "metadata": {
    "colab": {
     "base_uri": "https://localhost:8080/",
     "height": 34
    },
    "colab_type": "code",
    "id": "xrFNJwLLlqFH",
    "outputId": "c566d1fe-9309-4ba0-9809-deb29d36b0a7"
   },
   "outputs": [
    {
     "data": {
      "text/plain": [
       "1.0"
      ]
     },
     "execution_count": 29,
     "metadata": {},
     "output_type": "execute_result"
    }
   ],
   "source": [
    "from math import e\n",
    "math.log(e)"
   ]
  },
  {
   "cell_type": "code",
   "execution_count": 30,
   "metadata": {
    "colab": {
     "base_uri": "https://localhost:8080/",
     "height": 34
    },
    "colab_type": "code",
    "id": "-j7o52Z9lqFK",
    "outputId": "35a234d4-50f9-4c5a-be58-8871e964eaea"
   },
   "outputs": [
    {
     "data": {
      "text/plain": [
       "2.718281828459045"
      ]
     },
     "execution_count": 30,
     "metadata": {},
     "output_type": "execute_result"
    }
   ],
   "source": [
    "e"
   ]
  },
  {
   "cell_type": "code",
   "execution_count": 31,
   "metadata": {
    "colab": {},
    "colab_type": "code",
    "id": "uSGh1_GclqFN"
   },
   "outputs": [
    {
     "data": {
      "text/plain": [
       "1.3862943611198906"
      ]
     },
     "execution_count": 31,
     "metadata": {},
     "output_type": "execute_result"
    }
   ],
   "source": [
    "math.log(4)"
   ]
  },
  {
   "cell_type": "code",
   "execution_count": 32,
   "metadata": {
    "colab": {},
    "colab_type": "code",
    "id": "_xbdw0VMlqFP"
   },
   "outputs": [
    {
     "data": {
      "text/plain": [
       "2.0"
      ]
     },
     "execution_count": 32,
     "metadata": {},
     "output_type": "execute_result"
    }
   ],
   "source": [
    "math.log(4,2)"
   ]
  },
  {
   "cell_type": "markdown",
   "metadata": {
    "colab_type": "text",
    "id": "XnRmiiO8lqFS"
   },
   "source": [
    "The numpy version of log is pretty geeky. For example, it's defined for complex numbers."
   ]
  },
  {
   "cell_type": "code",
   "execution_count": 33,
   "metadata": {
    "colab": {},
    "colab_type": "code",
    "id": "2JfHfmJSlqFT"
   },
   "outputs": [
    {
     "data": {
      "text/plain": [
       "(1.2824746787307684+0.5880026035475675j)"
      ]
     },
     "execution_count": 33,
     "metadata": {},
     "output_type": "execute_result"
    }
   ],
   "source": [
    "log(3+2j)"
   ]
  },
  {
   "cell_type": "markdown",
   "metadata": {
    "colab_type": "text",
    "id": "guzlhKbYlqFW"
   },
   "source": [
    "The regular Python version of log is not."
   ]
  },
  {
   "cell_type": "code",
   "execution_count": 34,
   "metadata": {
    "colab": {},
    "colab_type": "code",
    "id": "iCFtOO3olqFW"
   },
   "outputs": [
    {
     "ename": "TypeError",
     "evalue": "can't convert complex to float",
     "output_type": "error",
     "traceback": [
      "\u001b[0;31m---------------------------------------------------------------------------\u001b[0m",
      "\u001b[0;31mTypeError\u001b[0m                                 Traceback (most recent call last)",
      "\u001b[0;32m<ipython-input-34-17df8a628b26>\u001b[0m in \u001b[0;36m<module>\u001b[0;34m\u001b[0m\n\u001b[0;32m----> 1\u001b[0;31m \u001b[0mmath\u001b[0m\u001b[0;34m.\u001b[0m\u001b[0mlog\u001b[0m\u001b[0;34m(\u001b[0m\u001b[0;36m3\u001b[0m\u001b[0;34m+\u001b[0m\u001b[0;36m2j\u001b[0m\u001b[0;34m)\u001b[0m\u001b[0;34m\u001b[0m\u001b[0;34m\u001b[0m\u001b[0m\n\u001b[0m",
      "\u001b[0;31mTypeError\u001b[0m: can't convert complex to float"
     ]
    }
   ],
   "source": [
    "math.log(3+2j)"
   ]
  },
  {
   "cell_type": "markdown",
   "metadata": {
    "colab_type": "text",
    "id": "qCPY3vLUlqFb"
   },
   "source": [
    "The Python *math* module is very spare and lacks a number of important mathematical tools of interest to data scientists.  Later on in this course we will be introduced to the more complete set of tools available in the *numpy* module."
   ]
  },
  {
   "cell_type": "markdown",
   "metadata": {
    "colab_type": "text",
    "id": "fCyujxkLlqFc"
   },
   "source": [
    "## Student confirmation section"
   ]
  },
  {
   "cell_type": "markdown",
   "metadata": {
    "colab_type": "text",
    "id": "f5LzpcwYlqFc"
   },
   "source": [
    "Evaluate the cells below, to find out the value of the expressions.\n",
    "\n",
    "Note that you may get some errors, which we'll talk about.  They have to do when\n",
    "complex numbers are required and how to write them when they are.\n",
    "\n",
    "After evaluating all four cells, save the notebook and submit it on\n",
    "Canvas as your version of the first assignment.  Do not submit\n",
    "the notebook without evaluating the cells, or you won't get credit."
   ]
  },
  {
   "cell_type": "code",
   "execution_count": 10,
   "metadata": {
    "colab": {
     "base_uri": "https://localhost:8080/",
     "height": 34
    },
    "colab_type": "code",
    "id": "uYavvgpslqFd",
    "outputId": "7be21211-e61c-4746-cbb7-d3e17facb4b8"
   },
   "outputs": [
    {
     "ename": "NameError",
     "evalue": "name 'j' is not defined",
     "output_type": "error",
     "traceback": [
      "\u001b[0;31m---------------------------------------------------------------------------\u001b[0m",
      "\u001b[0;31mNameError\u001b[0m                                 Traceback (most recent call last)",
      "\u001b[0;32m<ipython-input-10-59dfc85bb107>\u001b[0m in \u001b[0;36m<module>\u001b[0;34m\u001b[0m\n\u001b[1;32m      1\u001b[0m \u001b[0;32mfrom\u001b[0m \u001b[0mmath\u001b[0m \u001b[0;32mimport\u001b[0m \u001b[0mpi\u001b[0m\u001b[0;34m,\u001b[0m\u001b[0me\u001b[0m\u001b[0;34m\u001b[0m\u001b[0;34m\u001b[0m\u001b[0m\n\u001b[0;32m----> 2\u001b[0;31m \u001b[0mpow\u001b[0m\u001b[0;34m(\u001b[0m\u001b[0me\u001b[0m\u001b[0;34m,\u001b[0m\u001b[0;36m0\u001b[0m\u001b[0;34m+\u001b[0m\u001b[0;34m(\u001b[0m\u001b[0mpi\u001b[0m\u001b[0;34m*\u001b[0m\u001b[0mj\u001b[0m\u001b[0;34m)\u001b[0m\u001b[0;34m)\u001b[0m\u001b[0;34m\u001b[0m\u001b[0;34m\u001b[0m\u001b[0m\n\u001b[0m",
      "\u001b[0;31mNameError\u001b[0m: name 'j' is not defined"
     ]
    }
   ],
   "source": [
    "from math import pi,e\n",
    "pow(e,0+(pi*j))"
   ]
  },
  {
   "cell_type": "code",
   "execution_count": 11,
   "metadata": {
    "colab": {
     "base_uri": "https://localhost:8080/",
     "height": 34
    },
    "colab_type": "code",
    "id": "VZvDdThJCIuq",
    "outputId": "4988ff92-89af-47dd-fbb8-98678d39f567"
   },
   "outputs": [
    {
     "data": {
      "text/plain": [
       "(-1+1.2246467991473532e-16j)"
      ]
     },
     "execution_count": 11,
     "metadata": {},
     "output_type": "execute_result"
    }
   ],
   "source": [
    "pow(e,(1j*pi))"
   ]
  },
  {
   "cell_type": "code",
   "execution_count": 12,
   "metadata": {},
   "outputs": [
    {
     "data": {
      "text/plain": [
       "(-1+1.2246467991473532e-16j)"
      ]
     },
     "execution_count": 12,
     "metadata": {},
     "output_type": "execute_result"
    }
   ],
   "source": [
    "pow(e,(0 + 1j*pi))"
   ]
  },
  {
   "cell_type": "code",
   "execution_count": 44,
   "metadata": {},
   "outputs": [],
   "source": [
    "log(-1)"
   ]
  },
  {
   "cell_type": "code",
   "execution_count": 45,
   "metadata": {
    "colab": {
     "base_uri": "https://localhost:8080/",
     "height": 34
    },
    "colab_type": "code",
    "id": "BFt69_yllqFg",
    "outputId": "93d48913-9f27-42f0-e35d-69d9938d2381"
   },
   "outputs": [],
   "source": [
    "log(-1+0j)"
   ]
  },
  {
   "cell_type": "markdown",
   "metadata": {
    "colab_type": "text",
    "id": "8GtKWyXzD83X"
   },
   "source": []
  },
  {
   "cell_type": "markdown",
   "metadata": {
    "colab_type": "text",
    "id": "vyQgJo2slqFi"
   },
   "source": [
    "# Textbook problems (also to be completed by students)"
   ]
  },
  {
   "cell_type": "markdown",
   "metadata": {
    "colab_type": "text",
    "id": "B_uZD7hulqFj"
   },
   "source": [
    "Recall the first cell in this notebook."
   ]
  },
  {
   "cell_type": "code",
   "execution_count": 14,
   "metadata": {
    "colab": {},
    "colab_type": "code",
    "id": "Ppj7a-qalqFj"
   },
   "outputs": [],
   "source": [
    "total_secs = 7684\n",
    "hours = total_secs // 3600\n",
    "secs_still_remaining = total_secs % 3600\n",
    "minutes =  secs_still_remaining // 60\n",
    "secs_finally_remaining = secs_still_remaining  % 60"
   ]
  },
  {
   "cell_type": "markdown",
   "metadata": {
    "colab_type": "text",
    "id": "0TqVexkglqFm"
   },
   "source": [
    "Each of these 5 lines involves assigning a value to a **name** or **variable**.  Pythonistas use both terms (there is a slight technical difference that needn't worry us now).  For example, the first line assigns the value 7684 to the **name** `total_secs`.  The second line assigns whatever you get by dividing `total_secs` by 3600 to the name `hours`. And so on."
   ]
  },
  {
   "cell_type": "markdown",
   "metadata": {
    "colab_type": "text",
    "id": "uP9b_MwhlqFn"
   },
   "source": [
    "Above, we printed out information about all the above computations as follows:"
   ]
  },
  {
   "cell_type": "code",
   "execution_count": 17,
   "metadata": {
    "colab": {},
    "colab_type": "code",
    "id": "lw3OCwBelqFn",
    "outputId": "72503512-a449-4b80-e058-7c87ed202741"
   },
   "outputs": [
    {
     "name": "stdout",
     "output_type": "stream",
     "text": [
      "Hrs = 2 mins = 8 secs = 4\n"
     ]
    }
   ],
   "source": [
    "print(\"Hrs =\", hours, \"mins =\", minutes, \"secs =\", secs_finally_remaining)"
   ]
  },
  {
   "cell_type": "markdown",
   "metadata": {
    "colab_type": "text",
    "id": "X0ZtKIkylqFq"
   },
   "source": [
    "There was another way to do the same thing that we illustrated:"
   ]
  },
  {
   "cell_type": "code",
   "execution_count": 20,
   "metadata": {
    "colab": {},
    "colab_type": "code",
    "id": "fzTKL2CllqFq",
    "outputId": "2578d067-d79a-4c1b-84c7-b76621be7195"
   },
   "outputs": [
    {
     "name": "stdout",
     "output_type": "stream",
     "text": [
      "Hrs = 2 mins = 8 secs = 4\n"
     ]
    }
   ],
   "source": [
    "print(f\"Hrs = {hours} mins = {minutes} secs = {secs_finally_remaining}\")"
   ]
  },
  {
   "cell_type": "markdown",
   "metadata": {
    "colab_type": "text",
    "id": "39ROOwnzlqFt"
   },
   "source": [
    "When we print the string, the bracketed names `{hours}`, `{minutes}` and `{secs_finally_remaining}` are all replaced with the values of the names. For this to work, the names have to have been given values beforehand (as we did above), and we have to tell Python that this is a special kind of string that has variable slots by prefixing the string with \"f\".  Not surprisingly, these kind of strings are called **f-strings**."
   ]
  },
  {
   "cell_type": "markdown",
   "metadata": {
    "colab_type": "text",
    "id": "YkL8e4sllqFu"
   },
   "source": [
    "**Exercise 1**. For your first exercise, use the cell below. Use a variable to represent a person's name, and print a message to the person using an f-string.  For example the name might be Bozo and the message might be \"Hey Bozo, you're pants are on fire!\""
   ]
  },
  {
   "cell_type": "code",
   "execution_count": null,
   "metadata": {
    "colab": {},
    "colab_type": "code",
    "id": "T9zWvHK2lqFu",
    "outputId": "e645698f-a27a-4ae7-ed79-1bfe441047c1"
   },
   "outputs": [
    {
     "name": "stdout",
     "output_type": "stream",
     "text": [
      "Hey Bozo, your pants are on fire!\n"
     ]
    }
   ],
   "source": [
    "name = \"Bozo\"\n",
    "print(f\"Hey {name}, your pants are on fire!\")"
   ]
  },
  {
   "cell_type": "code",
   "execution_count": 1,
   "metadata": {
    "colab": {},
    "colab_type": "code",
    "id": "90VxY7CVlqFz"
   },
   "outputs": [],
   "source": []
  },
  {
   "cell_type": "markdown",
   "metadata": {
    "colab_type": "text",
    "id": "lo_pYBj9lqF6"
   },
   "source": [
    "Your second exercise will make use of the string methods `title`, `upper` and `lower`, illustrated below:"
   ]
  },
  {
   "cell_type": "code",
   "execution_count": null,
   "metadata": {
    "colab": {},
    "colab_type": "code",
    "id": "MLzyyLj0lqF6",
    "outputId": "43e6bfdc-3e64-404a-fa08-fe588e1e3a80"
   },
   "outputs": [
    {
     "name": "stdout",
     "output_type": "stream",
     "text": [
      "abcdefghijklmopqrstuvwxyz\n",
      "Abcdefghijklmopqrstuvwxyz\n",
      "abcdefghijklmopqrstuvwxyz\n",
      "ABCDEFGHIJKLMOPQRSTUVWXYZ\n",
      "\n",
      "The quick brown fox jumped over the lazy yellow dog.\n",
      "The Quick Brown Fox Jumped Over The Lazy Yellow Dog.\n",
      "the quick brown fox jumped over the lazy yellow dog.\n",
      "THE QUICK BROWN FOX JUMPED OVER THE LAZY YELLOW DOG.\n"
     ]
    }
   ],
   "source": [
    "alphabet = 'abcdefghijklmopqrstuvwxyz'\n",
    "sentence = 'The quick brown fox jumped over the lazy yellow dog.'\n",
    "\n",
    "print(alphabet)\n",
    "print (alphabet.title())\n",
    "print(alphabet.lower())\n",
    "print(alphabet.upper())\n",
    "print()\n",
    "print(sentence)\n",
    "print (sentence.title())\n",
    "print(sentence.lower())\n",
    "print(sentence.upper())"
   ]
  },
  {
   "cell_type": "markdown",
   "metadata": {
    "colab_type": "text",
    "id": "nkbOUQAFlqF9"
   },
   "source": [
    "**Exercise 2**.\n",
    "In the next cell, use a variable to represent a person's name and print that name in lower case, upper case, and title case.  Be sure to use f-strings."
   ]
  },
  {
   "cell_type": "code",
   "execution_count": 2,
   "metadata": {
    "colab": {},
    "colab_type": "code",
    "id": "5fvdK047lqF-"
   },
   "outputs": [],
   "source": []
  },
  {
   "cell_type": "markdown",
   "metadata": {
    "colab_type": "text",
    "id": "E-eiqq1OlqGI"
   },
   "source": [
    "**Exercise 3**.  Find a quote whose source you know and print the quote and the name of its author.  For example, as a particularly challenging example, you might want to print out\n",
    "\n",
    "```\n",
    "\"There's a sucker born every minute,\" P. T. Barnum once said.\n",
    "```\n",
    "Your answer should go in the next cell.  To understand how to create a string with quotes inside it, you might need to look at [the introduction to strings in the online textbook.](https://gawron.sdsu.edu/python_for_ss/course_core/book_draft/Python_introduction/python_types_first_pass.html#strings)"
   ]
  },
  {
   "cell_type": "code",
   "execution_count": 3,
   "metadata": {
    "colab": {},
    "colab_type": "code",
    "id": "uX2zwapplqGI"
   },
   "outputs": [],
   "source": []
  },
  {
   "cell_type": "markdown",
   "metadata": {
    "colab_type": "text",
    "id": "MPH4R-5VlqGL"
   },
   "source": [
    "For your next exercise, you'll make use of some Python methods that trim white space (space, tab, newline) off strings.  These are illustrated below.  First `rstrip`:"
   ]
  },
  {
   "cell_type": "code",
   "execution_count": null,
   "metadata": {
    "colab": {},
    "colab_type": "code",
    "id": "lAOD9wPwlqGM",
    "outputId": "6590e6d7-97d0-44a6-c0ac-9296fd3fa412"
   },
   "outputs": [
    {
     "name": "stdout",
     "output_type": "stream",
     "text": [
      "fred\n",
      "fred \n",
      "X == Y:  False  len X: 4 len Y: 5\n",
      "X == Z:  True  len X: 4 len Z: 4\n"
     ]
    }
   ],
   "source": [
    "X = \"fred\"\n",
    "print(X)\n",
    "Y = \"fred \"  # add an extra space at the end ...\n",
    "print(Y)  # Looks deceptively just like printing X, BUT\n",
    "print(\"X == Y: \", X == Y, \" len X:\",len(X), \"len Y:\", len(Y))\n",
    "Z = Y.rstrip()  # Now strip away white space on the right.\n",
    "print(\"X == Z: \", X == Z, \" len X:\",len(X), \"len Z:\", len(Z))"
   ]
  },
  {
   "cell_type": "markdown",
   "metadata": {
    "colab_type": "text",
    "id": "eHgyH3wClqGP"
   },
   "source": [
    "Now the mirror image method, `lstrip`:"
   ]
  },
  {
   "cell_type": "code",
   "execution_count": null,
   "metadata": {
    "colab": {},
    "colab_type": "code",
    "id": "ASeNPvy8lqGP",
    "scrolled": false
   },
   "outputs": [],
   "source": [
    "X = \"fred\"\n",
    "print(X)\n",
    "Y = \" fred\"  # add an extra space at the beginning ...\n",
    "print(Y)  # This time X and Y print out differently\n",
    "print(\"X == Y: \", X == Y, \" len X:\",len(X), \"len Y:\", len(Y))\n",
    "Z = Y.lstrip()  # Now strip away white space on the left.\n",
    "print(\"X == Z: \", X == Z, \" len X:\",len(X), \"len Z:\", len(Z))"
   ]
  },
  {
   "cell_type": "markdown",
   "metadata": {
    "colab_type": "text",
    "id": "E972_yhIlqGT"
   },
   "source": [
    "Now a convenient variant that strips white space on both the right and left sides, a very frequently used method in text preocessing."
   ]
  },
  {
   "cell_type": "code",
   "execution_count": null,
   "metadata": {
    "colab": {},
    "colab_type": "code",
    "id": "WJv8aA8plqGT"
   },
   "outputs": [],
   "source": [
    "X = \"fred\"\n",
    "print(X)\n",
    "Y = \" fred \"  # add an extra space at the beginning and at the end...\n",
    "print(Y)  # X and Y print out differently\n",
    "print(\"X == Y: \", X == Y, \" len X:\",len(X), \"len Y:\", len(Y))\n",
    "Z = Y.strip()  # Now strip away white space on both sides.\n",
    "print(\"X == Z: \", X == Z, \" len X:\",len(X), \"len Z:\", len(Z))"
   ]
  },
  {
   "cell_type": "code",
   "execution_count": null,
   "metadata": {
    "colab": {},
    "colab_type": "code",
    "id": "ardnSazClqGV"
   },
   "outputs": [],
   "source": [
    "len(Z)"
   ]
  },
  {
   "cell_type": "markdown",
   "metadata": {
    "colab_type": "text",
    "id": "Wd7r7lUTlqGa"
   },
   "source": [
    "**Exercise 4**.  In the next cell, use a variable to represent a person's name and include some white space both before and after the name.  Print the name once so the white space around the name is displayed.  Then print the name using each of the three stripping functions `lstrip`, `rstrip`, and `strip`."
   ]
  },
  {
   "cell_type": "code",
   "execution_count": 4,
   "metadata": {
    "colab": {},
    "colab_type": "code",
    "id": "ExH1MQgWlqGa"
   },
   "outputs": [],
   "source": []
  },
  {
   "cell_type": "markdown",
   "metadata": {
    "colab_type": "text",
    "id": "F8PQx7aM2NpY"
   },
   "source": []
  },
  {
   "cell_type": "code",
   "execution_count": null,
   "metadata": {
    "colab": {},
    "colab_type": "code",
    "id": "ocpwxle4lqGc"
   },
   "outputs": [],
   "source": []
  }
 ],
 "metadata": {
  "colab": {
   "collapsed_sections": [],
   "name": "Copy of gawron2_running_python.ipynb",
   "provenance": []
  },
  "kernelspec": {
   "display_name": "Python 3 (ipykernel)",
   "language": "python",
   "name": "python3"
  },
  "language_info": {
   "codemirror_mode": {
    "name": "ipython",
    "version": 3
   },
   "file_extension": ".py",
   "mimetype": "text/x-python",
   "name": "python",
   "nbconvert_exporter": "python",
   "pygments_lexer": "ipython3",
   "version": "3.7.0"
  },
  "toc": {
   "base_numbering": 1,
   "nav_menu": {
    "height": "85px",
    "width": "252px"
   },
   "number_sections": true,
   "sideBar": true,
   "skip_h1_title": false,
   "title_cell": "Table of Contents",
   "title_sidebar": "Contents",
   "toc_cell": false,
   "toc_position": {},
   "toc_section_display": "block",
   "toc_window_display": false
  }
 },
 "nbformat": 4,
 "nbformat_minor": 1
}
