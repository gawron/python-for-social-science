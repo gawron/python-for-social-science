{
 "cells": [
  {
   "cell_type": "markdown",
   "id": "490c0487",
   "metadata": {},
   "source": [
    "##  Functions assignment solution"
   ]
  },
  {
   "cell_type": "markdown",
   "id": "5c139e36",
   "metadata": {},
   "source": [
    "This notebook has been temporarily sidelined."
   ]
  },
  {
   "cell_type": "code",
   "execution_count": null,
   "id": "8b37ee56",
   "metadata": {},
   "outputs": [],
   "source": []
  }
 ],
 "metadata": {
  "kernelspec": {
   "display_name": "Python 3 (ipykernel)",
   "language": "python",
   "name": "python3"
  },
  "language_info": {
   "codemirror_mode": {
    "name": "ipython",
    "version": 3
   },
   "file_extension": ".py",
   "mimetype": "text/x-python",
   "name": "python",
   "nbconvert_exporter": "python",
   "pygments_lexer": "ipython3",
   "version": "3.7.0"
  }
 },
 "nbformat": 4,
 "nbformat_minor": 5
}
