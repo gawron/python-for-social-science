{
 "cells": [
  {
   "cell_type": "markdown",
   "metadata": {},
   "source": [
    "**Prerequisites**\n",
    "\n",
    "1.  You know what a type is in the context of a computer language.\n",
    "2.  You know what a Python container is.\n",
    "3.  You know what the Python builtin container types are and have some familiarity with their differences:\n",
    "    a.  List\n",
    "    b.  Tuple\n",
    "    c.  String\n",
    "    d.  Dictionary\n",
    "    e.  Set\n",
    "    \n",
    "One way you might have picked up these odd bits of knowledge is to have read [Chapter 3 of the online text.](https://gawron.sdsu.edu/python_for_ss/course_core/book_draft/Python_introduction/Python_introduction.html)\n",
    "It is also probably of use in focusing the ideas of particular importance in this notebook to have had a look at\n",
    "[the Python Types Slides I](https://gawron.sdsu.edu/python_for_ss/course_core/lectures/python_types_slides_one.pdf) and\n",
    "[the Python Types Slides Ii](https://gawron.sdsu.edu/python_for_ss/course_core/lectures/python_types_slides_two.pdf).\n",
    "\n",
    "In following along with this lecture, it is best to have [the notebook we are using](https://colab.research.google.com/github/gawron/python-for-social-science/blob/master/intro/programming_nb.ipynb) open in a separate tab.\n",
    "\n",
    "This notebook/lecture is particularly \"Socratic\" in its teaching style.  The notebook supplies you with small bits of information or data and then asks to to learn by answering questions that take you beyond what youy've been given.  The answers to the questions all require you to supply a snippet of code.   Feel free to pause the lecture at any time, so you can switch over to the notebook tab and try out an answer of your own.  If you do this, you should do your best to **verify your answers answers yourself** by evaluating the code cell you've written your answer in.  More hints on this as we go. \n",
    "\n",
    "In any case, the lecture video will take you through the set up for each question, then tell you what a good time to try out your answer is.  It will then provide an answer.  That is why the title of the notebook at the top of the page is **python_types_nb-Copy1**."
   ]
  },
  {
   "cell_type": "markdown",
   "metadata": {
    "colab_type": "text",
    "id": "M2um92nVUZcl"
   },
   "source": [
    "<font size=7> <b> Python types </b></font>"
   ]
  },
  {
   "cell_type": "markdown",
   "metadata": {},
   "source": [
    "## Tuples"
   ]
  },
  {
   "cell_type": "markdown",
   "metadata": {
    "colab_type": "text",
    "id": "yOPfMyt0UZcz"
   },
   "source": [
    "To start using this notebook, recall the directions you were given in the `running_python` video about how to use a notebook.  Execute the next cell.  That is, in Jupyter, position your cursor in the next cell and hit the `[Enter]` key while holding down the shift key, which we will henceforth write as `[Shift]`-`[Enter]`.  Nothing visible will happen.  But you will have defined the variable T to be a tuple with four members.  In Google Colab, just hit the small triangle (or `Play` button) to the left of the cell."
   ]
  },
  {
   "cell_type": "code",
   "execution_count": 1,
   "metadata": {
    "colab": {},
    "colab_type": "code",
    "id": "QgcodkpKUZc0"
   },
   "outputs": [
    {
     "data": {
      "text/plain": [
       "('a', 'b', 'c', 'd')"
      ]
     },
     "execution_count": 1,
     "metadata": {},
     "output_type": "execute_result"
    }
   ],
   "source": [
    "#Variable assignment. T is now a tuple.\n",
    "T = tuple('abcd')\n",
    "T"
   ]
  },
  {
   "cell_type": "markdown",
   "metadata": {},
   "source": [
    "The next cell retrieves the third element of `T` by using the positional index 2 (0 is first position):"
   ]
  },
  {
   "cell_type": "code",
   "execution_count": 2,
   "metadata": {
    "colab": {
     "base_uri": "https://localhost:8080/",
     "height": 35
    },
    "colab_type": "code",
    "id": "Opu4E_dXUZc2",
    "outputId": "8aac1020-54a0-41a0-b4bd-f50c89cd3ad3",
    "scrolled": true
   },
   "outputs": [
    {
     "data": {
      "text/plain": [
       "'c'"
      ]
     },
     "execution_count": 2,
     "metadata": {},
     "output_type": "execute_result"
    }
   ],
   "source": [
    "T[2]"
   ]
  },
  {
   "cell_type": "markdown",
   "metadata": {},
   "source": [
    "The next cell retrieves the third from the last element of T by using the positional index -3 (-1 is last position):"
   ]
  },
  {
   "cell_type": "code",
   "execution_count": 3,
   "metadata": {
    "colab": {
     "base_uri": "https://localhost:8080/",
     "height": 35
    },
    "colab_type": "code",
    "id": "TqY4LkDgUZc4",
    "outputId": "6dd95997-f852-4f46-a5cc-b5b2b1db779c"
   },
   "outputs": [
    {
     "data": {
      "text/plain": [
       "'b'"
      ]
     },
     "execution_count": 3,
     "metadata": {},
     "output_type": "execute_result"
    }
   ],
   "source": [
    "T[-3]"
   ]
  },
  {
   "cell_type": "markdown",
   "metadata": {},
   "source": [
    "Consider a new tuple, defined from a string using the type name `tuple` as a creator\n",
    "or factory function."
   ]
  },
  {
   "cell_type": "code",
   "execution_count": 5,
   "metadata": {},
   "outputs": [
    {
     "name": "stdout",
     "output_type": "stream",
     "text": [
      "A ('a', 'b', 'c', 'd', 'e', 'f', 'g')\n",
      "B ('abc', 'bcd', 'cde', 'def', 'efg')\n"
     ]
    }
   ],
   "source": [
    "S = 'abcdefg'\n",
    "A = tuple(S)\n",
    "print('A', A)\n",
    "B = (S[0:3],S[1:4],S[2:5],S[3:6],S[4:7])\n",
    "print('B', B)"
   ]
  },
  {
   "cell_type": "markdown",
   "metadata": {},
   "source": [
    "Recall how **splices** work."
   ]
  },
  {
   "cell_type": "code",
   "execution_count": 6,
   "metadata": {},
   "outputs": [
    {
     "data": {
      "text/plain": [
       "('b', 'c', 'd')"
      ]
     },
     "execution_count": 6,
     "metadata": {},
     "output_type": "execute_result"
    }
   ],
   "source": [
    "# elements from position 1 up to but not including position 4\n",
    "# elements at positions 1,2, and 3\n",
    "A[1:4]"
   ]
  },
  {
   "cell_type": "markdown",
   "metadata": {},
   "source": [
    "#### Retrieve `('c','d')` from `A`"
   ]
  },
  {
   "cell_type": "code",
   "execution_count": null,
   "metadata": {},
   "outputs": [],
   "source": []
  },
  {
   "cell_type": "code",
   "execution_count": null,
   "metadata": {},
   "outputs": [],
   "source": []
  },
  {
   "cell_type": "code",
   "execution_count": null,
   "metadata": {},
   "outputs": [],
   "source": []
  },
  {
   "cell_type": "code",
   "execution_count": null,
   "metadata": {},
   "outputs": [],
   "source": []
  },
  {
   "cell_type": "code",
   "execution_count": null,
   "metadata": {},
   "outputs": [],
   "source": []
  },
  {
   "cell_type": "code",
   "execution_count": null,
   "metadata": {},
   "outputs": [],
   "source": []
  },
  {
   "cell_type": "code",
   "execution_count": null,
   "metadata": {},
   "outputs": [],
   "source": []
  },
  {
   "cell_type": "code",
   "execution_count": 7,
   "metadata": {},
   "outputs": [
    {
     "data": {
      "text/plain": [
       "('c', 'd')"
      ]
     },
     "execution_count": 7,
     "metadata": {},
     "output_type": "execute_result"
    }
   ],
   "source": [
    "A[2:4]"
   ]
  },
  {
   "cell_type": "markdown",
   "metadata": {},
   "source": [
    "#### Retrieve `'cde'` from `B`"
   ]
  },
  {
   "cell_type": "code",
   "execution_count": null,
   "metadata": {},
   "outputs": [],
   "source": []
  },
  {
   "cell_type": "code",
   "execution_count": null,
   "metadata": {},
   "outputs": [],
   "source": []
  },
  {
   "cell_type": "code",
   "execution_count": null,
   "metadata": {},
   "outputs": [],
   "source": []
  },
  {
   "cell_type": "code",
   "execution_count": null,
   "metadata": {},
   "outputs": [],
   "source": []
  },
  {
   "cell_type": "code",
   "execution_count": null,
   "metadata": {},
   "outputs": [],
   "source": []
  },
  {
   "cell_type": "code",
   "execution_count": null,
   "metadata": {},
   "outputs": [],
   "source": []
  },
  {
   "cell_type": "code",
   "execution_count": null,
   "metadata": {},
   "outputs": [],
   "source": []
  },
  {
   "cell_type": "markdown",
   "metadata": {},
   "source": [
    "This is not a splice because `'cde'` is an element of `B` not a subsequence."
   ]
  },
  {
   "cell_type": "code",
   "execution_count": 8,
   "metadata": {},
   "outputs": [
    {
     "data": {
      "text/plain": [
       "'cde'"
      ]
     },
     "execution_count": 8,
     "metadata": {},
     "output_type": "execute_result"
    }
   ],
   "source": [
    "B[2]"
   ]
  },
  {
   "cell_type": "markdown",
   "metadata": {},
   "source": [
    "#### Retrieve `('cde', 'def')`  from B"
   ]
  },
  {
   "cell_type": "code",
   "execution_count": null,
   "metadata": {},
   "outputs": [],
   "source": []
  },
  {
   "cell_type": "code",
   "execution_count": null,
   "metadata": {},
   "outputs": [],
   "source": []
  },
  {
   "cell_type": "code",
   "execution_count": null,
   "metadata": {},
   "outputs": [],
   "source": []
  },
  {
   "cell_type": "code",
   "execution_count": null,
   "metadata": {},
   "outputs": [],
   "source": []
  },
  {
   "cell_type": "code",
   "execution_count": null,
   "metadata": {},
   "outputs": [],
   "source": []
  },
  {
   "cell_type": "code",
   "execution_count": null,
   "metadata": {},
   "outputs": [],
   "source": []
  },
  {
   "cell_type": "code",
   "execution_count": null,
   "metadata": {},
   "outputs": [],
   "source": []
  },
  {
   "cell_type": "code",
   "execution_count": 10,
   "metadata": {},
   "outputs": [
    {
     "data": {
      "text/plain": [
       "('cde', 'def')"
      ]
     },
     "execution_count": 10,
     "metadata": {},
     "output_type": "execute_result"
    }
   ],
   "source": [
    "B[2:4]"
   ]
  },
  {
   "cell_type": "markdown",
   "metadata": {},
   "source": [
    "The next cell repeats the original definition of `T` from\n",
    "above and assigns the **string** `\"x\"` to be the value at the second position.\n",
    "\n",
    "The raises an **Exception**. To see what the `Exception` is, position your cursor in the cell and type `[Shift]`-`[Enter]`. Explain what the error is in the cell 2 cells down (labeled `Enter your answer here`). "
   ]
  },
  {
   "cell_type": "code",
   "execution_count": null,
   "metadata": {
    "colab": {
     "base_uri": "https://localhost:8080/",
     "height": 164
    },
    "colab_type": "code",
    "id": "ETZ1-a9NUZc6",
    "outputId": "3f60b378-a970-4f3a-f282-7d08838c7cf5"
   },
   "outputs": [],
   "source": [
    "T = tuple('abcd')\n",
    "##  Attempted assignment\n",
    "T[1] = 'x'"
   ]
  },
  {
   "cell_type": "markdown",
   "metadata": {},
   "source": [
    "In the next cell your task is to illustrate that you understand the source of the problem\n",
    "with the **assignment statement** `T[1] = 'x'`.\n",
    "\n",
    "To do that, use the cell below to define `T` differently so that the assignment is not an error.\n",
    "\n",
    "Here are some guidelines:\n",
    "\n",
    "1.  The new `T` must still be a sequence  (or `T[1]` won't work).\n",
    "2.  Try to have the new `T` contain the same elements as the old `T`."
   ]
  },
  {
   "cell_type": "code",
   "execution_count": null,
   "metadata": {},
   "outputs": [],
   "source": []
  },
  {
   "cell_type": "code",
   "execution_count": null,
   "metadata": {},
   "outputs": [],
   "source": []
  },
  {
   "cell_type": "code",
   "execution_count": null,
   "metadata": {},
   "outputs": [],
   "source": []
  },
  {
   "cell_type": "code",
   "execution_count": null,
   "metadata": {},
   "outputs": [],
   "source": []
  },
  {
   "cell_type": "code",
   "execution_count": null,
   "metadata": {},
   "outputs": [],
   "source": []
  },
  {
   "cell_type": "code",
   "execution_count": null,
   "metadata": {},
   "outputs": [],
   "source": []
  },
  {
   "cell_type": "code",
   "execution_count": null,
   "metadata": {},
   "outputs": [],
   "source": []
  },
  {
   "cell_type": "code",
   "execution_count": null,
   "metadata": {},
   "outputs": [],
   "source": []
  },
  {
   "cell_type": "code",
   "execution_count": null,
   "metadata": {},
   "outputs": [],
   "source": []
  },
  {
   "cell_type": "code",
   "execution_count": null,
   "metadata": {},
   "outputs": [],
   "source": []
  },
  {
   "cell_type": "code",
   "execution_count": null,
   "metadata": {},
   "outputs": [],
   "source": []
  },
  {
   "cell_type": "code",
   "execution_count": null,
   "metadata": {},
   "outputs": [],
   "source": [
    "#T =  tuple('abcd') # Assignment raises Exception\n",
    "T =  list(T)              # Assignment in next line is valid   \n",
    "T[1] = 'x'\n",
    "T"
   ]
  },
  {
   "cell_type": "markdown",
   "metadata": {},
   "source": [
    "Takeaways:\n",
    "\n",
    "1.  Tuples are sequences.  data is accessed by **positional indexing**, with the first element at index 0.  This is called 0-based indexing.\n",
    "2.  A splice from any sequence is always a sequence of the same type.\n",
    "3.  The length of a splice `start:stop` is always  `stop - start`.\n",
    "4.  Tuples can't be updated.  That is, they don't support **assignment**.  You can't change the value of an element at a particular position.\n",
    "5.  Lists do support assignment.  To create a sequence you can update, just turn a tuple into a list.\n"
   ]
  },
  {
   "cell_type": "markdown",
   "metadata": {
    "colab_type": "text",
    "id": "vVObwCeJUZdA"
   },
   "source": [
    "# Lists (& Containers as compound data)"
   ]
  },
  {
   "cell_type": "code",
   "execution_count": 11,
   "metadata": {},
   "outputs": [
    {
     "name": "stdout",
     "output_type": "stream",
     "text": [
      "('a', 'b', 'c', 'd', 'e')\n",
      "['a', 'b', 'x', 'd', 'e']\n"
     ]
    }
   ],
   "source": [
    "T = tuple('abcde')\n",
    "print(T)\n",
    "L = list('abxde')\n",
    "print(L)\n",
    "# Defines same B as above\n",
    "S = 'abcdefg'\n",
    "B = (S[0:3],S[1:4],S[2:5],S[3:6],S[4:7])"
   ]
  },
  {
   "cell_type": "code",
   "execution_count": 12,
   "metadata": {},
   "outputs": [
    {
     "data": {
      "text/plain": [
       "'b'"
      ]
     },
     "execution_count": 12,
     "metadata": {},
     "output_type": "execute_result"
    }
   ],
   "source": [
    "L[1]"
   ]
  },
  {
   "cell_type": "code",
   "execution_count": 13,
   "metadata": {},
   "outputs": [
    {
     "data": {
      "text/plain": [
       "'d'"
      ]
     },
     "execution_count": 13,
     "metadata": {},
     "output_type": "execute_result"
    }
   ],
   "source": [
    "L[-2]"
   ]
  },
  {
   "cell_type": "markdown",
   "metadata": {},
   "source": [
    "Tuple versus list syntax and print names"
   ]
  },
  {
   "cell_type": "code",
   "execution_count": 14,
   "metadata": {},
   "outputs": [
    {
     "name": "stdout",
     "output_type": "stream",
     "text": [
      "('a', 'b', 'c', 'd', 'e')\n",
      "['a', 'b', 'x', 'd', 'e']\n"
     ]
    }
   ],
   "source": [
    "print(T)\n",
    "print(L)"
   ]
  },
  {
   "cell_type": "code",
   "execution_count": 26,
   "metadata": {},
   "outputs": [
    {
     "name": "stdout",
     "output_type": "stream",
     "text": [
      "['a', 'b', 'x', 'd', 'e']\n"
     ]
    },
    {
     "data": {
      "text/plain": [
       "True"
      ]
     },
     "execution_count": 26,
     "metadata": {},
     "output_type": "execute_result"
    }
   ],
   "source": [
    "print(L)\n",
    "'x' in L"
   ]
  },
  {
   "cell_type": "code",
   "execution_count": 16,
   "metadata": {},
   "outputs": [
    {
     "data": {
      "text/plain": [
       "False"
      ]
     },
     "execution_count": 16,
     "metadata": {},
     "output_type": "execute_result"
    }
   ],
   "source": [
    "'c' in L"
   ]
  },
  {
   "cell_type": "markdown",
   "metadata": {},
   "source": [
    "The objects that are `in` a container are its **elements**."
   ]
  },
  {
   "cell_type": "code",
   "execution_count": 23,
   "metadata": {},
   "outputs": [
    {
     "name": "stdout",
     "output_type": "stream",
     "text": [
      "B ('abc', 'bcd', 'cde', 'def', 'efg')\n",
      "\"b\" in B:  False\n",
      "\"bcd\" in B:  True\n"
     ]
    }
   ],
   "source": [
    "print('B', B)\n",
    "print('\"b\" in B: ', 'b' in B)\n",
    "print('\"bcd\" in B: ', 'bcd' in B)"
   ]
  },
  {
   "cell_type": "markdown",
   "metadata": {},
   "source": [
    "The length of a container is the count of its elements, no matter what size the elements are."
   ]
  },
  {
   "cell_type": "code",
   "execution_count": 27,
   "metadata": {},
   "outputs": [
    {
     "name": "stdout",
     "output_type": "stream",
     "text": [
      "B ('abc', 'bcd', 'cde', 'def', 'efg')\n",
      "L ['a', 'b', 'x', 'd', 'e']\n",
      "len(B) 5\n",
      "len(L) 5\n"
     ]
    }
   ],
   "source": [
    "print(\"B\",B)\n",
    "print(\"L\", L)\n",
    "print(\"len(B)\", len(B))\n",
    "print(\"len(L)\", len(L))"
   ]
  },
  {
   "cell_type": "code",
   "execution_count": 18,
   "metadata": {
    "scrolled": true
   },
   "outputs": [
    {
     "name": "stdout",
     "output_type": "stream",
     "text": [
      "True\n",
      "5\n"
     ]
    }
   ],
   "source": [
    "print('c' in T)\n",
    "print(len(T))"
   ]
  },
  {
   "cell_type": "code",
   "execution_count": 19,
   "metadata": {},
   "outputs": [
    {
     "data": {
      "text/plain": [
       "False"
      ]
     },
     "execution_count": 19,
     "metadata": {},
     "output_type": "execute_result"
    }
   ],
   "source": [
    "'x' in T"
   ]
  },
  {
   "cell_type": "markdown",
   "metadata": {},
   "source": [
    "For `L`, which is a list, assignments of new values to positions are possible:"
   ]
  },
  {
   "cell_type": "code",
   "execution_count": 28,
   "metadata": {},
   "outputs": [
    {
     "data": {
      "text/plain": [
       "['a', ('1', '2'), 'x', 'd', 'e']"
      ]
     },
     "execution_count": 28,
     "metadata": {},
     "output_type": "execute_result"
    }
   ],
   "source": [
    "L[1]  = ('1','2')\n",
    "L"
   ]
  },
  {
   "cell_type": "markdown",
   "metadata": {},
   "source": [
    "Note that we can assign to slice locations just as we assign to index\n",
    "locations.   These slice assignments may change the langth of the list."
   ]
  },
  {
   "cell_type": "code",
   "execution_count": 40,
   "metadata": {},
   "outputs": [
    {
     "name": "stdout",
     "output_type": "stream",
     "text": [
      "['a', 'b', 'x', 'd', 'e']\n",
      "['a', 'w', 'f', 'h', 'd', 'e']\n"
     ]
    }
   ],
   "source": [
    "L = list('abxde')\n",
    "print(L)\n",
    "L[1:3]  = ['w','f','h']\n",
    "print(L)"
   ]
  },
  {
   "cell_type": "markdown",
   "metadata": {},
   "source": [
    "In the next cell,  use a slice assignment to replace the last two elements of \n",
    "`L` with a single element `\"zr\"`.  That is, starting with\n",
    "\n",
    "```\n",
    "['a', 'w', 'f', 'h', 'd', 'e']\n",
    "```\n",
    "\n",
    "the result is:\n",
    "\n",
    "```\n",
    "['a', 'w', 'f', 'h', 'zr']\n",
    "```\n"
   ]
  },
  {
   "cell_type": "code",
   "execution_count": null,
   "metadata": {},
   "outputs": [],
   "source": [
    "print(L)\n",
    "# Your splice assignment goes here\n",
    "\n",
    "print(L)"
   ]
  },
  {
   "cell_type": "code",
   "execution_count": null,
   "metadata": {},
   "outputs": [],
   "source": []
  },
  {
   "cell_type": "code",
   "execution_count": null,
   "metadata": {},
   "outputs": [],
   "source": []
  },
  {
   "cell_type": "code",
   "execution_count": null,
   "metadata": {},
   "outputs": [],
   "source": []
  },
  {
   "cell_type": "code",
   "execution_count": null,
   "metadata": {},
   "outputs": [],
   "source": []
  },
  {
   "cell_type": "code",
   "execution_count": null,
   "metadata": {},
   "outputs": [],
   "source": []
  },
  {
   "cell_type": "code",
   "execution_count": null,
   "metadata": {},
   "outputs": [],
   "source": []
  },
  {
   "cell_type": "code",
   "execution_count": 41,
   "metadata": {},
   "outputs": [
    {
     "name": "stdout",
     "output_type": "stream",
     "text": [
      "['a', 'w', 'f', 'h', 'd', 'e']\n",
      "['a', 'w', 'f', 'h', 'zr']\n"
     ]
    }
   ],
   "source": [
    "print(L)\n",
    "L[-2:] = [\"zr\"]\n",
    "\n",
    "print(L)"
   ]
  },
  {
   "cell_type": "markdown",
   "metadata": {},
   "source": [
    "Notice this doesn't work:"
   ]
  },
  {
   "cell_type": "code",
   "execution_count": 42,
   "metadata": {},
   "outputs": [
    {
     "name": "stdout",
     "output_type": "stream",
     "text": [
      "['a', 'w', 'f', 'h', 'd', 'e']\n",
      "['a', 'w', 'f', 'h', 'z', 'r']\n"
     ]
    }
   ],
   "source": [
    "L = list('awfhde')\n",
    "print(L)\n",
    "L[-2:] = \"zr\"\n",
    "print(L)"
   ]
  },
  {
   "cell_type": "markdown",
   "metadata": {},
   "source": [
    "### Calling `L` the assignee and `\"zr\"` what is assigned, the\n",
    "rule in slice assignment is:  The elements of what is assigned become\n",
    "elements of the assignee.  So for the assignment in line 3 above, the two elements of the string `\"zr\"`\n",
    "become elements of `L`.  In order to assign the single element `\"zr\"`\n",
    "to a slice, we need a container with  `\"zr\"` as its single element,\n",
    "for example  `[\"zr\"]`."
   ]
  },
  {
   "cell_type": "markdown",
   "metadata": {},
   "source": [
    "We introduce a new list, which is a list of **tuples**.  We emphasize that this is a **compound container**, a container\n",
    "which contains other containers inside of it."
   ]
  },
  {
   "cell_type": "code",
   "execution_count": 44,
   "metadata": {
    "colab": {},
    "colab_type": "code",
    "id": "uWB4r9QYUZdA"
   },
   "outputs": [],
   "source": [
    "Mothers = [('George Clooney', 'Rosemary Clooney'), \n",
    "           ('Jimmy Carter',  'Lillian Carter'), \n",
    "           ('George H. W. Bush','Dorothy Walker Bush'), \n",
    "           ('George W. Bush', 'Barbara Bush'),\n",
    "           ('Liza Minnelli', 'Judy Garland')]"
   ]
  },
  {
   "cell_type": "code",
   "execution_count": 61,
   "metadata": {},
   "outputs": [
    {
     "data": {
      "text/plain": [
       "5"
      ]
     },
     "execution_count": 61,
     "metadata": {},
     "output_type": "execute_result"
    }
   ],
   "source": [
    "# 10 strings inside Mothers but the length of Mothers is not 10\n",
    "len(Mothers)"
   ]
  },
  {
   "cell_type": "code",
   "execution_count": 62,
   "metadata": {},
   "outputs": [
    {
     "data": {
      "text/plain": [
       "2"
      ]
     },
     "execution_count": 62,
     "metadata": {},
     "output_type": "execute_result"
    }
   ],
   "source": [
    "len(Mothers[0])"
   ]
  },
  {
   "cell_type": "code",
   "execution_count": 63,
   "metadata": {
    "colab": {},
    "colab_type": "code",
    "id": "9khLvH6CUZdC",
    "outputId": "7077cfe5-6052-4401-8ab1-78180fff0609"
   },
   "outputs": [
    {
     "data": {
      "text/plain": [
       "('George Clooney', 'Rosemary Clooney')"
      ]
     },
     "execution_count": 63,
     "metadata": {},
     "output_type": "execute_result"
    }
   ],
   "source": [
    "Mothers[0]"
   ]
  },
  {
   "cell_type": "markdown",
   "metadata": {
    "colab_type": "text",
    "id": "WBt-b0mBUZdE"
   },
   "source": [
    "**Retrieving data from compound data structures**\n",
    "\n",
    "In the next cell, write a single expression that retrieves the value `\"Judy Garland\"` from `Mothers`.  Test your answer by typing `[Shift]`-`[Enter]` to see what you get.  If you get `NameError`, it's because you didn't first execute the expression in the cell above to define the variable `Mothers`.  "
   ]
  },
  {
   "cell_type": "code",
   "execution_count": null,
   "metadata": {},
   "outputs": [],
   "source": [
    "#Answer should be of the form Mothers[..."
   ]
  },
  {
   "cell_type": "code",
   "execution_count": null,
   "metadata": {},
   "outputs": [],
   "source": []
  },
  {
   "cell_type": "code",
   "execution_count": null,
   "metadata": {},
   "outputs": [],
   "source": []
  },
  {
   "cell_type": "code",
   "execution_count": null,
   "metadata": {},
   "outputs": [],
   "source": []
  },
  {
   "cell_type": "code",
   "execution_count": null,
   "metadata": {},
   "outputs": [],
   "source": []
  },
  {
   "cell_type": "code",
   "execution_count": null,
   "metadata": {},
   "outputs": [],
   "source": []
  },
  {
   "cell_type": "code",
   "execution_count": null,
   "metadata": {},
   "outputs": [],
   "source": []
  },
  {
   "cell_type": "markdown",
   "metadata": {},
   "source": [
    "**Answer**"
   ]
  },
  {
   "cell_type": "code",
   "execution_count": null,
   "metadata": {
    "colab": {},
    "colab_type": "code",
    "id": "t0mmx7IXUZdE",
    "outputId": "bb6d1773-5c13-4031-b6e4-7b67f79bc69e"
   },
   "outputs": [],
   "source": [
    "\n",
    "Mothers[4][1]"
   ]
  },
  {
   "cell_type": "markdown",
   "metadata": {
    "colab_type": "text",
    "id": "6P_1isqAUZdH"
   },
   "source": [
    "**Retrieving data from compound data structures: Going deeper**\n",
    "\n",
    "In the next cell, type a single expression that retrieves the value `z` from `Mothers` and sets  a variable to that value.  This answer will be of the  form `Variable = Mothers[...`.  \n",
    "\n",
    "Note:  There are mutliple valid answers"
   ]
  },
  {
   "cell_type": "code",
   "execution_count": null,
   "metadata": {},
   "outputs": [],
   "source": [
    "Mothers"
   ]
  },
  {
   "cell_type": "code",
   "execution_count": null,
   "metadata": {},
   "outputs": [],
   "source": []
  },
  {
   "cell_type": "code",
   "execution_count": null,
   "metadata": {},
   "outputs": [],
   "source": []
  },
  {
   "cell_type": "code",
   "execution_count": null,
   "metadata": {},
   "outputs": [],
   "source": []
  },
  {
   "cell_type": "code",
   "execution_count": null,
   "metadata": {},
   "outputs": [],
   "source": []
  },
  {
   "cell_type": "code",
   "execution_count": null,
   "metadata": {},
   "outputs": [],
   "source": []
  },
  {
   "cell_type": "code",
   "execution_count": null,
   "metadata": {},
   "outputs": [],
   "source": []
  },
  {
   "cell_type": "code",
   "execution_count": null,
   "metadata": {},
   "outputs": [],
   "source": []
  },
  {
   "cell_type": "code",
   "execution_count": 64,
   "metadata": {
    "colab": {},
    "colab_type": "code",
    "id": "sLpXKgUTUZdH"
   },
   "outputs": [
    {
     "data": {
      "text/plain": [
       "'z'"
      ]
     },
     "execution_count": 64,
     "metadata": {},
     "output_type": "execute_result"
    }
   ],
   "source": [
    "Mothers[-1][0][2]"
   ]
  },
  {
   "cell_type": "markdown",
   "metadata": {},
   "source": [
    "Also"
   ]
  },
  {
   "cell_type": "code",
   "execution_count": 67,
   "metadata": {},
   "outputs": [
    {
     "name": "stdout",
     "output_type": "stream",
     "text": [
      "z\n",
      "z\n"
     ]
    }
   ],
   "source": [
    "print(Mothers[4][0][2])\n",
    "print(Mothers[4][0][-11])\n"
   ]
  },
  {
   "cell_type": "markdown",
   "metadata": {},
   "source": [
    "And so on"
   ]
  },
  {
   "cell_type": "markdown",
   "metadata": {},
   "source": [
    "Takeaways\n",
    "\n",
    "1.  Lists are sequences just like tuples.  Indexing by position works and it works just the same way.\n",
    "2.  All containers `C` have lengths and elements; that is, `len(C)` and the `x in C`  Boolean test always works.\n",
    "3.  Containers are always compound. They are data structures composed of some other smaller, usually differently typed, data. \n",
    "4.  Indexing container `C` by position retrieves an element of `C`; if that element is itself a container, you can index again.  That is, expressions of the form `C[idx1][idx2]`  will work."
   ]
  },
  {
   "cell_type": "markdown",
   "metadata": {
    "colab_type": "text",
    "id": "ZCU5yT9iUZdJ"
   },
   "source": [
    "# Strings"
   ]
  },
  {
   "cell_type": "markdown",
   "metadata": {
    "colab_type": "text",
    "id": "KgNydjTJUZdJ"
   },
   "source": [
    "The cell below defines a string.  Execute that definition. (This is another way of saying, \"Place your cursor in the cell and type `[Shift]`-`[Enter]`)\".  Notice that when you evaluate this cell, Python doesn't seem to do anything.  Nevertheless it has changed its state to reflect the fact that the variable `Example_str` has been defined to denote a particular string."
   ]
  },
  {
   "cell_type": "code",
   "execution_count": 68,
   "metadata": {
    "colab": {},
    "colab_type": "code",
    "id": "uBWtgRxwUZdJ"
   },
   "outputs": [],
   "source": [
    "Example_str = \"program\""
   ]
  },
  {
   "cell_type": "markdown",
   "metadata": {},
   "source": [
    "Strings are sequence containers just as lists and tuples are.  Because they are containers, `len` and `in` and\n",
    "iteration work.  Because they sequences (they are ordered), indexing by position works."
   ]
  },
  {
   "cell_type": "code",
   "execution_count": 69,
   "metadata": {},
   "outputs": [
    {
     "data": {
      "text/plain": [
       "7"
      ]
     },
     "execution_count": 69,
     "metadata": {},
     "output_type": "execute_result"
    }
   ],
   "source": [
    "len(Example_str)"
   ]
  },
  {
   "cell_type": "code",
   "execution_count": 70,
   "metadata": {},
   "outputs": [
    {
     "data": {
      "text/plain": [
       "True"
      ]
     },
     "execution_count": 70,
     "metadata": {},
     "output_type": "execute_result"
    }
   ],
   "source": [
    "'r' in Example_str"
   ]
  },
  {
   "cell_type": "markdown",
   "metadata": {},
   "source": [
    "We now demonstrate looping through a string -- or **iteration** -- processing\n",
    "each element in the expected order."
   ]
  },
  {
   "cell_type": "code",
   "execution_count": 71,
   "metadata": {},
   "outputs": [
    {
     "name": "stdout",
     "output_type": "stream",
     "text": [
      "p\n",
      "r\n",
      "o\n",
      "g\n",
      "r\n",
      "a\n",
      "m\n"
     ]
    }
   ],
   "source": [
    "for char in Example_str:\n",
    "    print(char)"
   ]
  },
  {
   "cell_type": "markdown",
   "metadata": {},
   "source": [
    "And you know enough to check out indexing by position yourself:"
   ]
  },
  {
   "cell_type": "markdown",
   "metadata": {
    "colab_type": "text",
    "id": "TVxpGcCBUZdL"
   },
   "source": [
    "In the next cell, write and execute an expression that retrieves the value `\"r\"` from `Example_str`.  There are two *r*'s in the string, so there are at least two possible answers."
   ]
  },
  {
   "cell_type": "code",
   "execution_count": null,
   "metadata": {
    "colab": {},
    "colab_type": "code",
    "id": "XDKSb1OwUZdM",
    "outputId": "e00f1696-d9e6-432d-9036-538aefa315fb"
   },
   "outputs": [],
   "source": []
  },
  {
   "cell_type": "code",
   "execution_count": null,
   "metadata": {},
   "outputs": [],
   "source": []
  },
  {
   "cell_type": "code",
   "execution_count": null,
   "metadata": {},
   "outputs": [],
   "source": []
  },
  {
   "cell_type": "code",
   "execution_count": null,
   "metadata": {},
   "outputs": [],
   "source": []
  },
  {
   "cell_type": "code",
   "execution_count": null,
   "metadata": {},
   "outputs": [],
   "source": []
  },
  {
   "cell_type": "code",
   "execution_count": null,
   "metadata": {},
   "outputs": [],
   "source": []
  },
  {
   "cell_type": "code",
   "execution_count": null,
   "metadata": {},
   "outputs": [],
   "source": []
  },
  {
   "cell_type": "code",
   "execution_count": null,
   "metadata": {},
   "outputs": [],
   "source": []
  },
  {
   "cell_type": "markdown",
   "metadata": {
    "colab_type": "text",
    "id": "QThAtsnWUZdN"
   },
   "source": [
    "The string `program` has the nice property that at least one of its substrings is an English word.  In the cell below write a single Python expression that retrieves the word 'pro' from `Example_str`. You might need to review the textbook material on [string slices](http://www-rohan.sdsu.edu/~gawron/python_for_ss/course_core/book_draft/Python_introduction/strings.html).  Evaluate it with `[Shift]`-`[Enter]` to check your answer.  "
   ]
  },
  {
   "cell_type": "code",
   "execution_count": null,
   "metadata": {
    "colab": {},
    "colab_type": "code",
    "id": "UaMIuTyCUZdO",
    "outputId": "f308ee32-8486-49e6-e89e-f3a248282b0e"
   },
   "outputs": [],
   "source": []
  },
  {
   "cell_type": "code",
   "execution_count": null,
   "metadata": {},
   "outputs": [],
   "source": []
  },
  {
   "cell_type": "code",
   "execution_count": null,
   "metadata": {},
   "outputs": [],
   "source": []
  },
  {
   "cell_type": "code",
   "execution_count": null,
   "metadata": {},
   "outputs": [],
   "source": []
  },
  {
   "cell_type": "code",
   "execution_count": null,
   "metadata": {},
   "outputs": [],
   "source": []
  },
  {
   "cell_type": "code",
   "execution_count": null,
   "metadata": {},
   "outputs": [],
   "source": []
  },
  {
   "cell_type": "code",
   "execution_count": null,
   "metadata": {},
   "outputs": [],
   "source": []
  },
  {
   "cell_type": "code",
   "execution_count": null,
   "metadata": {},
   "outputs": [],
   "source": []
  },
  {
   "cell_type": "code",
   "execution_count": null,
   "metadata": {},
   "outputs": [],
   "source": []
  },
  {
   "cell_type": "markdown",
   "metadata": {},
   "source": [
    "Help with splice indices.  Think of the indices as pointing\n",
    "to positions between the elements, with the first index (`0`)\n",
    "pointing to the very beginning of the string. Then in the string `\"Python\"` the splice `1:4`\n",
    "covers the span `'yth'` as in the following picture:"
   ]
  },
  {
   "cell_type": "markdown",
   "metadata": {},
   "source": [
    "```\n",
    " +---+---+---+---+---+---+\n",
    " | P | y | t | h | o | n |\n",
    " +---+---+---+---+---+---+\n",
    " 0   1   2   3   4   5   6\n",
    "-6  -5  -4  -3  -2  -1   \n",
    "```"
   ]
  },
  {
   "cell_type": "code",
   "execution_count": null,
   "metadata": {},
   "outputs": [],
   "source": [
    "P = 'Python'\n",
    "print(P[1])\n",
    "print(P[1:4])\n",
    "print(P[-6])\n",
    "print(P[-5:-2])"
   ]
  },
  {
   "cell_type": "markdown",
   "metadata": {
    "colab_type": "text",
    "id": "NNms7oemUZdS"
   },
   "source": [
    "In the  cell below, add a splice\n",
    "that retrieves the English word 'ram'\n",
    "from `Example_str`."
   ]
  },
  {
   "cell_type": "code",
   "execution_count": null,
   "metadata": {},
   "outputs": [],
   "source": [
    "Example_str = \"program\"\n"
   ]
  },
  {
   "cell_type": "code",
   "execution_count": null,
   "metadata": {},
   "outputs": [],
   "source": []
  },
  {
   "cell_type": "code",
   "execution_count": null,
   "metadata": {},
   "outputs": [],
   "source": []
  },
  {
   "cell_type": "code",
   "execution_count": null,
   "metadata": {},
   "outputs": [],
   "source": []
  },
  {
   "cell_type": "code",
   "execution_count": null,
   "metadata": {},
   "outputs": [],
   "source": []
  },
  {
   "cell_type": "code",
   "execution_count": null,
   "metadata": {},
   "outputs": [],
   "source": []
  },
  {
   "cell_type": "code",
   "execution_count": null,
   "metadata": {},
   "outputs": [],
   "source": []
  },
  {
   "cell_type": "code",
   "execution_count": null,
   "metadata": {},
   "outputs": [],
   "source": []
  },
  {
   "cell_type": "code",
   "execution_count": null,
   "metadata": {},
   "outputs": [],
   "source": []
  },
  {
   "cell_type": "markdown",
   "metadata": {},
   "source": [
    " In the  cell below, write an expression that retrieves the English word  'rog'. \n",
    " \n",
    "Remember that when there's more than one line in the cell, Python \n",
    "executes them all but only prints out the value of of the last line.\n",
    "So you need to make your additions the last lines in\n",
    "in order to see the effect of what myou've done."
   ]
  },
  {
   "cell_type": "code",
   "execution_count": null,
   "metadata": {},
   "outputs": [],
   "source": [
    "Example_str = \"program\"\n"
   ]
  },
  {
   "cell_type": "code",
   "execution_count": null,
   "metadata": {},
   "outputs": [],
   "source": []
  },
  {
   "cell_type": "code",
   "execution_count": null,
   "metadata": {},
   "outputs": [],
   "source": []
  },
  {
   "cell_type": "code",
   "execution_count": null,
   "metadata": {},
   "outputs": [],
   "source": []
  },
  {
   "cell_type": "code",
   "execution_count": null,
   "metadata": {},
   "outputs": [],
   "source": []
  },
  {
   "cell_type": "code",
   "execution_count": null,
   "metadata": {},
   "outputs": [],
   "source": []
  },
  {
   "cell_type": "code",
   "execution_count": null,
   "metadata": {},
   "outputs": [],
   "source": []
  },
  {
   "cell_type": "code",
   "execution_count": null,
   "metadata": {},
   "outputs": [],
   "source": []
  },
  {
   "cell_type": "code",
   "execution_count": null,
   "metadata": {},
   "outputs": [],
   "source": []
  },
  {
   "cell_type": "markdown",
   "metadata": {
    "colab_type": "text",
    "id": "b76uibrJUZdS"
   },
   "source": [
    "# Dictionaries"
   ]
  },
  {
   "cell_type": "markdown",
   "metadata": {
    "colab_type": "text",
    "id": "s6V2thdKUZdT"
   },
   "source": [
    "We begin discussing dictionaries with an observation about our last example, `Mothers`, a list of pairs.  Suppose what we want to do is to look up the mother of one of the celebrities. "
   ]
  },
  {
   "cell_type": "code",
   "execution_count": null,
   "metadata": {
    "colab": {},
    "colab_type": "code",
    "id": "BrqFG1OrUZdT"
   },
   "outputs": [],
   "source": [
    "Mothers = [('George Clooney', 'Rosemary Clooney'), ('Jimmy Carter', 'Lillian Carter'),\n",
    "           ('George H. W. Bush', 'Dorothy Walker Bush'), ('George W. Bush', 'Barbara Bush'),\n",
    "           ('Liza Minnelli', 'Judy Garland')]"
   ]
  },
  {
   "cell_type": "code",
   "execution_count": null,
   "metadata": {
    "colab": {},
    "colab_type": "code",
    "id": "I8uHWjVNUZdW",
    "outputId": "c011ef86-878e-4d64-efc8-e5567a50c0f4"
   },
   "outputs": [],
   "source": [
    "# Look up George Bush's mother\n",
    "Mothers[1]"
   ]
  },
  {
   "cell_type": "markdown",
   "metadata": {},
   "source": [
    "This is fine if you know that the information about George W. is in 4th position.  Then\n",
    "to get an expression that returns George W.'s mother, you could do:"
   ]
  },
  {
   "cell_type": "code",
   "execution_count": null,
   "metadata": {
    "colab": {},
    "colab_type": "code",
    "id": "DYXTM185UZdY"
   },
   "outputs": [],
   "source": [
    "Mothers[3][1]"
   ]
  },
  {
   "cell_type": "markdown",
   "metadata": {},
   "source": [
    "But what if you knew that `Mothers` contains information about celebrity mothers\n",
    "but you didn't know that the information about George W. was in 4th position?\n",
    "\n",
    "For example, suppose the information is being updated all the time and nothing\n",
    "keeps track of how many updates have occurred.  The information you want\n",
    "would still be in the string, but you would have to **search** for it.\n",
    "\n",
    "By which I mean something like this:"
   ]
  },
  {
   "cell_type": "code",
   "execution_count": 75,
   "metadata": {
    "colab": {},
    "colab_type": "code",
    "id": "mFixyJ5GUZda",
    "outputId": "4d2d6a51-4df5-4b65-d48e-8cf35316eb57"
   },
   "outputs": [
    {
     "name": "stdout",
     "output_type": "stream",
     "text": [
      "George Clooney Rosemary Clooney\n",
      "Jimmy Carter Lillian Carter\n",
      "George H. W. Bush Dorothy Walker Bush\n",
      "Barbara Bush\n"
     ]
    },
    {
     "data": {
      "text/plain": [
       "'Barbara Bush'"
      ]
     },
     "execution_count": 75,
     "metadata": {},
     "output_type": "execute_result"
    }
   ],
   "source": [
    "for (c,m) in Mothers:\n",
    "    if c == 'George W. Bush':\n",
    "        # print the MOM we're looking for\n",
    "        print(m)\n",
    "        break\n",
    "    else:\n",
    "        # print the pairs we're NOT looking for\n",
    "        print(c,m)\n",
    "m"
   ]
  },
  {
   "cell_type": "markdown",
   "metadata": {},
   "source": [
    "Loop through the string until you find the tuple beginning with George W.\n",
    "\n",
    "At that point stop the loop.  The value of `m` will be the mother you you want."
   ]
  },
  {
   "cell_type": "markdown",
   "metadata": {
    "colab_type": "text",
    "id": "9vXIAiugUZdc"
   },
   "source": [
    "This is both inefficient and a nuisance.  As the printout shows,\n",
    "we have to examine a number of irrelevant pairs before we find the\n",
    "one of interest.  What we want is something where we plug in the child and it outputs the mother.\n",
    "\n",
    "And the next cell shows us what does that:  a **Dictionary** made out of the list of pairs."
   ]
  },
  {
   "cell_type": "code",
   "execution_count": 76,
   "metadata": {
    "colab": {},
    "colab_type": "code",
    "id": "RdvBUwpkUZdd"
   },
   "outputs": [],
   "source": [
    "ddm = dict(Mothers)"
   ]
  },
  {
   "cell_type": "markdown",
   "metadata": {
    "colab_type": "text",
    "id": "jWigp5qPUZde"
   },
   "source": [
    "This transforms a list of pairs with the first member of each pair as a key and the second member as its value.  So `ddm` is now a dictionary with individuals as keys, and their mothers as values."
   ]
  },
  {
   "cell_type": "code",
   "execution_count": 77,
   "metadata": {
    "colab": {},
    "colab_type": "code",
    "id": "3Qp6lAzIUZde",
    "outputId": "9b0a3e73-0c97-4380-8c78-1cf3680f59fb"
   },
   "outputs": [
    {
     "data": {
      "text/plain": [
       "{'George Clooney': 'Rosemary Clooney',\n",
       " 'Jimmy Carter': 'Lillian Carter',\n",
       " 'George H. W. Bush': 'Dorothy Walker Bush',\n",
       " 'George W. Bush': 'Barbara Bush',\n",
       " 'Liza Minnelli': 'Judy Garland'}"
      ]
     },
     "execution_count": 77,
     "metadata": {},
     "output_type": "execute_result"
    }
   ],
   "source": [
    "ddm"
   ]
  },
  {
   "cell_type": "markdown",
   "metadata": {
    "colab_type": "text",
    "id": "8IATMWW7UZdg"
   },
   "source": [
    "With dictionaries we move from **positional indexing** (each index is an integer specifying the position\n",
    "of an item), to **keyword indexing** (each index is an keyword defining the **key** for a **value**)."
   ]
  },
  {
   "cell_type": "code",
   "execution_count": 78,
   "metadata": {
    "colab": {},
    "colab_type": "code",
    "id": "BjAPoY3hUZdh",
    "outputId": "6c1510c1-6a4c-4a57-cc0c-1f07ebb937aa"
   },
   "outputs": [
    {
     "data": {
      "text/plain": [
       "'Barbara Bush'"
      ]
     },
     "execution_count": 78,
     "metadata": {},
     "output_type": "execute_result"
    }
   ],
   "source": [
    "ddm['George W. Bush']"
   ]
  },
  {
   "cell_type": "markdown",
   "metadata": {},
   "source": [
    "**Under the hood**:  the computational difference between a list of pairs and a dictionary\n",
    "is that a dictionary provides **constant time lookup**.  The length of computing time \n",
    "it takes find the value corresponding to a particular key won't change as the dictionary\n",
    "grows larger,  On the other hand,  with the list, lookup time will grow with list length.\n",
    "\n",
    "This is because information in the dictionary is **hashed** by the key: The key\n",
    "string provides easily computed information about exactly where in memory\n",
    "to look to find the associated value.  Without going into the computational details of \n",
    "how hashing works, you can think of this as working like Webster's Dictionary.  The first\n",
    "letter of \"abacus\" tells us to too look in the \"a\" section of the dictionary; the second\n",
    "letter tells us to look early in the \"a\" section, and so on."
   ]
  },
  {
   "cell_type": "markdown",
   "metadata": {},
   "source": [
    "Often if we want **functional information** for entities we will store it in a dictionary.\n",
    "\n",
    "A function on a set is an assignment of unique values to each of the entities in a set.\n",
    "The **mother** relation is a function on people because people have unique mothers,\n",
    "so it would be quite natural to store information aboiut people's mothers\n",
    "in a dictionary.  Other typically functional relations on people \n",
    "are father, address, social security number, congressional district, and place of birth.\n",
    "\n",
    "Non-functional relations are sibling, cousin, child, and friend.  A person\n",
    "can often have more than one sibling, cousin, child, or friend.\n",
    "\n",
    "Place of employment used to be a fairly natural example of a functional\n",
    "relation, but it is probably less of a natural example in our current *gig* economy,\n",
    "where people often work multiple jobs."
   ]
  },
  {
   "cell_type": "markdown",
   "metadata": {
    "colab_type": "text",
    "id": "YbkwIhf9UZdi"
   },
   "source": [
    "In the next cell is another Python expression.  Before evaluating the cell, examine it carefully and try to predict what the result of evaluating it will be.  Then in the cell below that, explain the result that you got."
   ]
  },
  {
   "cell_type": "code",
   "execution_count": null,
   "metadata": {
    "colab": {},
    "colab_type": "code",
    "id": "ZEw3XpLQUZdi",
    "outputId": "1b57ebce-41d8-4a7c-b255-2e93364766f5"
   },
   "outputs": [],
   "source": [
    "Mothers['George W. Bush']"
   ]
  },
  {
   "cell_type": "markdown",
   "metadata": {
    "colab_type": "text",
    "id": "Dp_Lsc_HUZdk"
   },
   "source": []
  },
  {
   "cell_type": "code",
   "execution_count": null,
   "metadata": {
    "colab": {},
    "colab_type": "code",
    "id": "muYGaTLrUZdl"
   },
   "outputs": [],
   "source": [
    "ddm['George Clooney']"
   ]
  },
  {
   "cell_type": "markdown",
   "metadata": {
    "colab_type": "text",
    "id": "rXpvUFqQUZdm"
   },
   "source": [
    "So now you know how to transform a list of pairs into a dictionary, so that the first member of each pair becomes a key for the dictionary and the second member becomes its value.\n",
    "\n",
    "There are two other ways to define dictionaries which are both worth knowing.  We start with the easiest to type."
   ]
  },
  {
   "cell_type": "code",
   "execution_count": 89,
   "metadata": {
    "colab": {},
    "colab_type": "code",
    "id": "ikdSzsJkUZdm"
   },
   "outputs": [],
   "source": [
    "dd = dict(name = 'Guido van Rossum',\n",
    "          job_title = 'Benevolent Dictator for Life',\n",
    "          native_language = \"Dutch\",\n",
    "          favorite_non_native_language = 'English',\n",
    "          favorite_computer_language = \"Perl\")"
   ]
  },
  {
   "cell_type": "markdown",
   "metadata": {},
   "source": [
    "This is called keyword notation.  It uses the same syntax that can be used to call functions in\n",
    "Python.  Each argument of a function has a name; to provide a value for an argument when\n",
    "calling the function, you just type `name=<value>`.  \n",
    "\n",
    "In fact in the cell above, we are just calling the `dict` function; the builtin\n",
    "Python type `dict` can be called as a function; as a function, it takes any number of arguments\n",
    "with any allowable keywords and uses them to create a dictionary."
   ]
  },
  {
   "cell_type": "code",
   "execution_count": 81,
   "metadata": {
    "colab": {},
    "colab_type": "code",
    "id": "atq9btQvUZdo",
    "outputId": "97a363d9-df82-44b5-bd98-e288796b4b97"
   },
   "outputs": [
    {
     "data": {
      "text/plain": [
       "'Perl'"
      ]
     },
     "execution_count": 81,
     "metadata": {},
     "output_type": "execute_result"
    }
   ],
   "source": [
    "dd['favorite_computer_language']"
   ]
  },
  {
   "cell_type": "markdown",
   "metadata": {
    "colab_type": "text",
    "id": "4G9m_kYjUZdq"
   },
   "source": [
    "In the next cell down, write a single expression to retrieve the value `\"Benevolent Dictator for Life\"` from `dd`."
   ]
  },
  {
   "cell_type": "code",
   "execution_count": null,
   "metadata": {},
   "outputs": [],
   "source": []
  },
  {
   "cell_type": "code",
   "execution_count": null,
   "metadata": {},
   "outputs": [],
   "source": []
  },
  {
   "cell_type": "code",
   "execution_count": null,
   "metadata": {},
   "outputs": [],
   "source": []
  },
  {
   "cell_type": "code",
   "execution_count": null,
   "metadata": {},
   "outputs": [],
   "source": []
  },
  {
   "cell_type": "code",
   "execution_count": null,
   "metadata": {},
   "outputs": [],
   "source": []
  },
  {
   "cell_type": "code",
   "execution_count": null,
   "metadata": {},
   "outputs": [],
   "source": []
  },
  {
   "cell_type": "code",
   "execution_count": null,
   "metadata": {},
   "outputs": [],
   "source": []
  },
  {
   "cell_type": "code",
   "execution_count": null,
   "metadata": {},
   "outputs": [],
   "source": []
  },
  {
   "cell_type": "code",
   "execution_count": 82,
   "metadata": {},
   "outputs": [
    {
     "data": {
      "text/plain": [
       "'Benevolent Dictator for Life'"
      ]
     },
     "execution_count": 82,
     "metadata": {},
     "output_type": "execute_result"
    }
   ],
   "source": [
    "dd['job_title']"
   ]
  },
  {
   "cell_type": "markdown",
   "metadata": {},
   "source": [
    "What happens when we try to look up a key that isn't in the dictionary?"
   ]
  },
  {
   "cell_type": "code",
   "execution_count": 83,
   "metadata": {},
   "outputs": [
    {
     "ename": "KeyError",
     "evalue": "'favorite_pizza_topping'",
     "output_type": "error",
     "traceback": [
      "\u001b[0;31m---------------------------------------------------------------------------\u001b[0m",
      "\u001b[0;31mKeyError\u001b[0m                                  Traceback (most recent call last)",
      "Cell \u001b[0;32mIn[83], line 1\u001b[0m\n\u001b[0;32m----> 1\u001b[0m \u001b[43mdd\u001b[49m\u001b[43m[\u001b[49m\u001b[38;5;124;43m'\u001b[39;49m\u001b[38;5;124;43mfavorite_pizza_topping\u001b[39;49m\u001b[38;5;124;43m'\u001b[39;49m\u001b[43m]\u001b[49m\n",
      "\u001b[0;31mKeyError\u001b[0m: 'favorite_pizza_topping'"
     ]
    }
   ],
   "source": [
    "dd['favorite_pizza_topping']"
   ]
  },
  {
   "cell_type": "markdown",
   "metadata": {},
   "source": [
    "To forestall `KeyError`s, you can discover which keys are **in** the dictionary by using\n",
    "the `in` test (Dictionaries are containers)."
   ]
  },
  {
   "cell_type": "code",
   "execution_count": 85,
   "metadata": {},
   "outputs": [
    {
     "name": "stdout",
     "output_type": "stream",
     "text": [
      "True\n",
      "False\n"
     ]
    }
   ],
   "source": [
    "print('favorite_computer_language'in dd)\n",
    "print('favorite_pizza_topping' in dd)"
   ]
  },
  {
   "cell_type": "markdown",
   "metadata": {
    "colab_type": "text",
    "id": "XXUGEpJdUZds"
   },
   "source": [
    "In the next cell down write an expression that *adds* information to `dd`.  Specifically add the *key* `favorite_tv_show` and set its value to be `\"Monty Python's Flying Circus\"`.  Note that strings can have spaces in them and still be valid strings.\n",
    "\n",
    "You should not be satisfied that you have found the correct answer until you have done the following:\n",
    "\n",
    "1.  Evaluated your answer in a code cell to make sure it is syntactically correct (does not raise a `SyntaxError`).\n",
    "2.  Evaluated `dd` **after** the update to check by inspection that the new information you wanted\n",
    "    has been added to `dd`.\n",
    "3.  Tried to retrieve the information you added in the usual way, by asking the dictionary for the\n",
    "    value associated with the new key:\n",
    "     \n",
    "    ```\n",
    "    dd['favorite_tv_show']\n",
    "    \"Monty Python's Flying Circus\"\n",
    "    ```"
   ]
  },
  {
   "cell_type": "code",
   "execution_count": null,
   "metadata": {},
   "outputs": [],
   "source": []
  },
  {
   "cell_type": "code",
   "execution_count": null,
   "metadata": {},
   "outputs": [],
   "source": []
  },
  {
   "cell_type": "code",
   "execution_count": null,
   "metadata": {},
   "outputs": [],
   "source": []
  },
  {
   "cell_type": "code",
   "execution_count": null,
   "metadata": {},
   "outputs": [],
   "source": []
  },
  {
   "cell_type": "code",
   "execution_count": null,
   "metadata": {},
   "outputs": [],
   "source": []
  },
  {
   "cell_type": "code",
   "execution_count": null,
   "metadata": {},
   "outputs": [],
   "source": []
  },
  {
   "cell_type": "markdown",
   "metadata": {
    "colab_type": "text",
    "id": "co7DVoL0UZds"
   },
   "source": [
    "Note: There are several possible answers to this question.  One is quite simple, and uses the syntax that is parallel to what we did for mutable sequences (for example, lists).\n",
    "\n",
    "For list L we did something like\n",
    "\n",
    "```\n",
    "L[1] = 'abracadabra'\n",
    "\n",
    "```\n",
    "\n",
    "which changed the  second element of `L` to be the string `'abracadabra'`.  For a dictionary `dd` we can do:\n",
    "\n",
    "```\n",
    "dd[key] = value\n",
    "```\n",
    "\n",
    "To make `dd`'s value for the key be `value`."
   ]
  },
  {
   "cell_type": "markdown",
   "metadata": {
    "colab_type": "text",
    "id": "jj0XNwHjUZdt"
   },
   "source": [
    "A second idea is to use the dictionary's `update` method, which allows a very simple syntax:\n",
    "\n",
    "```\n",
    "dd.update(key = value)\n",
    "```"
   ]
  },
  {
   "cell_type": "code",
   "execution_count": null,
   "metadata": {},
   "outputs": [],
   "source": [
    "\n",
    "dd.update(favorite_tv_show =  \"Monty Python's Flying Circus\")\n",
    "dd"
   ]
  },
  {
   "cell_type": "markdown",
   "metadata": {
    "colab_type": "text",
    "id": "enrEWbo5UZd4"
   },
   "source": [
    "In the next cell correct an error in our data.  Guido van Rossum's favorite computer\n",
    "language is not Perl.  It is Python.  \n",
    "\n",
    "**Write an assignment that corrects the error.**"
   ]
  },
  {
   "cell_type": "code",
   "execution_count": null,
   "metadata": {
    "colab": {},
    "colab_type": "code",
    "id": "j70kl0hkUZd5"
   },
   "outputs": [],
   "source": []
  },
  {
   "cell_type": "code",
   "execution_count": null,
   "metadata": {},
   "outputs": [],
   "source": []
  },
  {
   "cell_type": "code",
   "execution_count": null,
   "metadata": {},
   "outputs": [],
   "source": []
  },
  {
   "cell_type": "code",
   "execution_count": null,
   "metadata": {},
   "outputs": [],
   "source": []
  },
  {
   "cell_type": "code",
   "execution_count": null,
   "metadata": {},
   "outputs": [],
   "source": []
  },
  {
   "cell_type": "code",
   "execution_count": null,
   "metadata": {},
   "outputs": [],
   "source": []
  },
  {
   "cell_type": "markdown",
   "metadata": {},
   "source": [
    "The update"
   ]
  },
  {
   "cell_type": "code",
   "execution_count": 86,
   "metadata": {},
   "outputs": [],
   "source": [
    "dd.update(favorite_computer_language =  \"Python\")"
   ]
  },
  {
   "cell_type": "markdown",
   "metadata": {},
   "source": [
    "Inspecting the modified doctionary:"
   ]
  },
  {
   "cell_type": "code",
   "execution_count": 87,
   "metadata": {
    "scrolled": true
   },
   "outputs": [
    {
     "data": {
      "text/plain": [
       "{'name': 'Guido van Rossum',\n",
       " 'job_title': 'Benevolent Dictator for Life',\n",
       " 'native_language': 'Dutch',\n",
       " 'favorite_non_native_language': 'English',\n",
       " 'favorite_computer_language': 'Python'}"
      ]
     },
     "execution_count": 87,
     "metadata": {},
     "output_type": "execute_result"
    }
   ],
   "source": [
    "dd"
   ]
  },
  {
   "cell_type": "markdown",
   "metadata": {},
   "source": [
    "Checking that retrieval works as expected (the old information is gone!)"
   ]
  },
  {
   "cell_type": "code",
   "execution_count": 88,
   "metadata": {},
   "outputs": [
    {
     "data": {
      "text/plain": [
       "'Python'"
      ]
     },
     "execution_count": 88,
     "metadata": {},
     "output_type": "execute_result"
    }
   ],
   "source": [
    "dd['favorite_computer_language']"
   ]
  },
  {
   "cell_type": "markdown",
   "metadata": {},
   "source": [
    "If you've done everything according to specs, here is what `dd` should look like\n",
    "when you evaluate it in a code cell:\n",
    "\n",
    "```\n",
    "{'name': 'Guido van Rossum',\n",
    " 'job_title': 'Benevolent Dictator for Life',\n",
    " 'native_language': 'Dutch',\n",
    " 'favorite_non_native_language': 'English',\n",
    " 'favorite_computer_language': 'Python',\n",
    " 'favorite_tv_show': \"Monty Python's Flying Circus\",\n",
    " }\n",
    " ```"
   ]
  },
  {
   "cell_type": "code",
   "execution_count": 92,
   "metadata": {},
   "outputs": [
    {
     "data": {
      "text/plain": [
       "{'name': 'Guido van Rossum',\n",
       " 'job_title': 'Benevolent Dictator for Life',\n",
       " 'native_language': 'Dutch',\n",
       " 'favorite_non_native_language': 'English',\n",
       " 'favorite_computer_language': 'Perl'}"
      ]
     },
     "execution_count": 92,
     "metadata": {},
     "output_type": "execute_result"
    }
   ],
   "source": [
    "dd"
   ]
  },
  {
   "cell_type": "markdown",
   "metadata": {},
   "source": [
    "In the next cell we define a new dictionary using **curly-braces** syntax.  "
   ]
  },
  {
   "cell_type": "code",
   "execution_count": null,
   "metadata": {
    "colab": {},
    "colab_type": "code",
    "id": "cgb1HGGuUZd8"
   },
   "outputs": [],
   "source": [
    "mystery_sentence_letter_counts = {' ': 9, 'e': 5, 'o': 5, 'l': 3, 'd': 2,\n",
    "                                  'h': 2, 'r': 2, 'u': 2, 'w': 2, 'y': 2, '.': 1, \n",
    "                                  'a': 1, 'c': 1, 'b': 1, 'g': 1, 'f': 1, \n",
    "                                  'i': 1, 'k': 1, 'j': 1, 'm': 1, 'n': 1, 'q': 1, \n",
    "                                  'p': 1, 't': 2, 'v': 1, 'x': 1, 'z': 1}"
   ]
  },
  {
   "cell_type": "markdown",
   "metadata": {
    "colab_type": "text",
    "id": "n8LFjHr6UZd8"
   },
   "source": [
    "\n",
    "Note the differences with what we did above with `dict`:\n",
    "\n",
    "```\n",
    "dd = dict(name = 'Guido van Rossum',\n",
    "          job_title = 'Benevolent Dictator for Life',\n",
    "          native_language = \"Dutch\",\n",
    "          favorite_non_native_language = 'English',\n",
    "          favorite_computer_language = \"Perl\")\n",
    "```\n",
    "\n",
    "Above we are using the type name `dict` as a function to create a dictionary instance\n",
    "(it is a Python convention that type/class names also serve as factory,\n",
    "or creator, functions).\n",
    "\n",
    "The keyword argumnents to the function are being interpreted as key/value pairs,\n",
    "so no quotes are necessary around the keywords; keys and values are separated by\n",
    "equal-signs; all business as usual for function keywords.\n",
    "\n",
    "The curly brace syntax for creating a dictionary, on the other hand, \n",
    "is completely analagous to the square bracket syntax for creating lists.\n",
    "No function is called.  It is just a syntactic convention for entering\n",
    "a dictionary: Within curly braces, enter the key-value pairs with key separated from\n",
    "value by `:` and the pairs separated from each other by `,`."
   ]
  },
  {
   "cell_type": "markdown",
   "metadata": {
    "colab_type": "text",
    "id": "1_6u7nHQUZd-"
   },
   "source": [
    "**Using the same syntax as is used in defining `mystery_sentence_letter_counts` (curly braces and colons),\n",
    "write another definition of `dd` in the next cell.**  Your answer should define exactly the same dictionary,\n",
    "but using a different syntax.  Here's how your definition might might start:\n",
    "\n",
    "```\n",
    "dd =  { ....\n",
    "```"
   ]
  },
  {
   "cell_type": "code",
   "execution_count": null,
   "metadata": {},
   "outputs": [],
   "source": []
  },
  {
   "cell_type": "code",
   "execution_count": null,
   "metadata": {},
   "outputs": [],
   "source": []
  },
  {
   "cell_type": "code",
   "execution_count": null,
   "metadata": {},
   "outputs": [],
   "source": []
  },
  {
   "cell_type": "code",
   "execution_count": null,
   "metadata": {},
   "outputs": [],
   "source": []
  },
  {
   "cell_type": "code",
   "execution_count": null,
   "metadata": {},
   "outputs": [],
   "source": []
  },
  {
   "cell_type": "code",
   "execution_count": null,
   "metadata": {},
   "outputs": [],
   "source": []
  },
  {
   "cell_type": "code",
   "execution_count": null,
   "metadata": {},
   "outputs": [],
   "source": []
  },
  {
   "cell_type": "code",
   "execution_count": null,
   "metadata": {},
   "outputs": [],
   "source": []
  },
  {
   "cell_type": "code",
   "execution_count": null,
   "metadata": {},
   "outputs": [],
   "source": []
  },
  {
   "cell_type": "markdown",
   "metadata": {},
   "source": [
    "Here is the answer:"
   ]
  },
  {
   "cell_type": "code",
   "execution_count": 91,
   "metadata": {},
   "outputs": [],
   "source": [
    "dd  ={ \"name\": 'Guido van Rossum',\n",
    "       \"job_title\": 'Benevolent Dictator for Life',\n",
    "        \"native_language\": \"Dutch\",\n",
    "        \"favorite_non_native_language\": 'English',\n",
    "        \"favorite_computer_language\" : \"Perl\",\n",
    "        'favorite_tv_show': \"Monty Python's Flying Circus\",\n",
    "     }"
   ]
  },
  {
   "cell_type": "markdown",
   "metadata": {},
   "source": [
    "We noted above that quotes are required around the dictionary keys in this \"curly braces\" notation, whereas they are not in the keyword notation.  In the keyword notation you are **using** the keys as names, which are Pythonic syntactic units like expressions and statements.  The code that executes the `dict` function uses these names to make strings, and later when retrieving values for keys, you must use those strings:\n",
    "\n",
    "```\n",
    "dd[\"job_title\"]\n",
    "```\n",
    "\n",
    "not \n",
    "\n",
    "```\n",
    "dd[job_title]\n",
    "```\n",
    "\n",
    "This means the curly braces notation is more powerful than the keyword notation, since there are many\n",
    "strings that do not correspond to legal names.  For example a name cannot start with an integer, so trying\n",
    "to use `1var` as a name is an error:"
   ]
  },
  {
   "cell_type": "code",
   "execution_count": 96,
   "metadata": {},
   "outputs": [
    {
     "ename": "SyntaxError",
     "evalue": "invalid decimal literal (3666288981.py, line 1)",
     "output_type": "error",
     "traceback": [
      "\u001b[0;36m  Cell \u001b[0;32mIn[96], line 1\u001b[0;36m\u001b[0m\n\u001b[0;31m    1var = 33\u001b[0m\n\u001b[0m    ^\u001b[0m\n\u001b[0;31mSyntaxError\u001b[0m\u001b[0;31m:\u001b[0m invalid decimal literal\n"
     ]
    }
   ],
   "source": [
    "1var = 33"
   ]
  },
  {
   "cell_type": "markdown",
   "metadata": {},
   "source": [
    "And this is the same error:"
   ]
  },
  {
   "cell_type": "code",
   "execution_count": 95,
   "metadata": {},
   "outputs": [
    {
     "ename": "SyntaxError",
     "evalue": "invalid decimal literal (170411066.py, line 1)",
     "output_type": "error",
     "traceback": [
      "\u001b[0;36m  Cell \u001b[0;32mIn[95], line 1\u001b[0;36m\u001b[0m\n\u001b[0;31m    dict(1fog = 3)\u001b[0m\n\u001b[0m         ^\u001b[0m\n\u001b[0;31mSyntaxError\u001b[0m\u001b[0;31m:\u001b[0m invalid decimal literal\n"
     ]
    }
   ],
   "source": [
    "dict(1var = 33)"
   ]
  },
  {
   "cell_type": "markdown",
   "metadata": {},
   "source": [
    "But `\"1var\"`` is a perfectly fine string, so this works:"
   ]
  },
  {
   "cell_type": "code",
   "execution_count": 98,
   "metadata": {},
   "outputs": [
    {
     "data": {
      "text/plain": [
       "{'1var': 33}"
      ]
     },
     "execution_count": 98,
     "metadata": {},
     "output_type": "execute_result"
    }
   ],
   "source": [
    "dd22 = {\"1var\":33}\n",
    "dd22"
   ]
  },
  {
   "cell_type": "markdown",
   "metadata": {},
   "source": [
    "Similarly you can't use keyword notation with builtin operators like `in`:"
   ]
  },
  {
   "cell_type": "code",
   "execution_count": 100,
   "metadata": {},
   "outputs": [
    {
     "ename": "SyntaxError",
     "evalue": "invalid syntax (344706876.py, line 1)",
     "output_type": "error",
     "traceback": [
      "\u001b[0;36m  Cell \u001b[0;32mIn[100], line 1\u001b[0;36m\u001b[0m\n\u001b[0;31m    dd23 = dict(in=33)\u001b[0m\n\u001b[0m                ^\u001b[0m\n\u001b[0;31mSyntaxError\u001b[0m\u001b[0;31m:\u001b[0m invalid syntax\n"
     ]
    }
   ],
   "source": [
    "dd23 = dict(in=33)"
   ]
  },
  {
   "cell_type": "markdown",
   "metadata": {
    "colab_type": "text",
    "id": "5uyMkg9gUZeA"
   },
   "source": [
    "Let's return to `mystery_letter_counts`\n",
    "\n",
    "```\n",
    "mystery_sentence_letter_counts = {' ': 9, 'e': 5, 'o': 5, 'l': 3, 'd': 2,\n",
    "                                  'h': 2, 'r': 2, 'u': 2, 'w': 2, 'y': 2, '.': 1, \n",
    "                                  'a': 1, 'c': 1, 'b': 1, 'g': 1, 'f': 1, \n",
    "                                  'i': 1, 'k': 1, 'j': 1, 'm': 1, 'n': 1, 'q': 1, \n",
    "                                  'p': 1, 't': 2, 'v': 1, 'x': 1, 'z': 1}\n",
    "```\n",
    "The  dictionary `mystery_letter_counts` stores the number of times each of 28 characters occurs in a particular sentence of English.  We will show you this sentence shortly.  In the meantime, you are welcome to guess what the mystery sentence is; it is obviously a sentence that includes all 26 letters of the alphabet. "
   ]
  },
  {
   "cell_type": "markdown",
   "metadata": {
    "colab_type": "text",
    "id": "weunyDLAUZeA"
   },
   "source": [
    "In the cell below, write an expression that retrieves the value `9` from `mystery_sentence_letter_counts`. "
   ]
  },
  {
   "cell_type": "code",
   "execution_count": null,
   "metadata": {
    "colab": {},
    "colab_type": "code",
    "id": "WUDb5IA5UZeB"
   },
   "outputs": [],
   "source": []
  },
  {
   "cell_type": "markdown",
   "metadata": {
    "colab_type": "text",
    "id": "BxS1sox4UZeE"
   },
   "source": [
    "How might we get a dictionary like `mystery_letter_counts` defined?   Yes, typing it in is one option. But there are ways that might arise more naturally in the context of analyzing some data.  Suppose we had a sentence and we simply wanted to count the number of times each character occurs in it (acquiring accurate English letter frequencies is sometimes important, for example if you're a cryptographer.\n",
    "\n",
    "We'd probably write a piece of code like this (using a loop, which is something\n",
    "you haven't yet been introduced to)."
   ]
  },
  {
   "cell_type": "code",
   "execution_count": null,
   "metadata": {
    "colab": {},
    "colab_type": "code",
    "id": "0Sqn-u5kUZeE",
    "outputId": "9672a3b4-57cf-4c45-b5b6-45ed08379f5d"
   },
   "outputs": [],
   "source": [
    "\n",
    "# The mystery sentence\n",
    "Sentence = 'the quick brown fox jumped over the lazy yellow dog.'\n",
    "# Cook up an empty dictionary\n",
    "letter_freqs = dict()\n",
    "# Write a loop to count the letters in `Sentence`\n",
    "for letter in Sentence:\n",
    "    if letter in letter_freqs:\n",
    "        letter_freqs[letter] += 1\n",
    "    else:\n",
    "        letter_freqs[letter] = 1"
   ]
  },
  {
   "cell_type": "markdown",
   "metadata": {
    "colab_type": "text",
    "id": "CqDJYwCDUZeG"
   },
   "source": [
    "This dictionary named `letter_freqs` is defined in line 3 and filled with information in a `for` loop that begin on line 4 and ends on line 5.  The variable `Sentence` is defined to be a string (line 2) and the `for` loop steps through each character of that string and adds 1 to its count in the dictionary (line 5).  Looking\n",
    "at `letter_freqs` you see that the keys and counts in the dictionary `letter_freqs` are the same as those in the dictionary `letter_counts`, defined in one of the cells above.  "
   ]
  },
  {
   "cell_type": "code",
   "execution_count": null,
   "metadata": {},
   "outputs": [],
   "source": [
    "letter_freqs"
   ]
  },
  {
   "cell_type": "markdown",
   "metadata": {
    "colab_type": "text",
    "id": "gyAlPytzUZeK"
   },
   "source": [
    "Finally here's a very simple way to do what we just did in the `for` loop.  `Python` has many specialized kinds of dictionaries you can `import`, thus adding them to what you get in your builtin `Python`.   One of these is called a `Counter`.  \n",
    "\n",
    "You use a `Counter` to count the kinds of things contained in a container.  Here's how to count the number of times each character occurs in a string."
   ]
  },
  {
   "cell_type": "code",
   "execution_count": null,
   "metadata": {
    "colab": {},
    "colab_type": "code",
    "id": "PWYFMc-_UZeK",
    "outputId": "42555df8-d03c-4552-e104-b19005e7c9d9"
   },
   "outputs": [],
   "source": [
    "import collections\n",
    "mslc = collections.Counter('i have checked out on many queer lax days with flying bats jumping through hoops.')"
   ]
  },
  {
   "cell_type": "code",
   "execution_count": null,
   "metadata": {},
   "outputs": [],
   "source": [
    "mslc"
   ]
  },
  {
   "cell_type": "markdown",
   "metadata": {
    "colab_type": "text",
    "id": "AKRrOqRnUZeM"
   },
   "source": [
    "In the cell below write an expression that retrieves the number of times the letter `e` occurred in the mystery sentence from `mslc`."
   ]
  },
  {
   "cell_type": "code",
   "execution_count": null,
   "metadata": {
    "colab": {},
    "colab_type": "code",
    "id": "yvA8JrFSUZeN"
   },
   "outputs": [],
   "source": []
  },
  {
   "cell_type": "markdown",
   "metadata": {
    "colab_type": "text",
    "id": "bCPZitytUZeO"
   },
   "source": [
    "In the cell below, define the same dictionary we called `letter_freqs2` above, using the string `Sentence` and a `Counter`.  The minimal answer add justs one line of code to the cell below.\n",
    "\n",
    "Check your answer."
   ]
  },
  {
   "cell_type": "code",
   "execution_count": null,
   "metadata": {
    "colab": {},
    "colab_type": "code",
    "id": "FXDPqz4zUZeP"
   },
   "outputs": [],
   "source": [
    "import collections\n"
   ]
  },
  {
   "cell_type": "markdown",
   "metadata": {
    "colab_type": "text",
    "id": "_kQUjWvJUZeS"
   },
   "source": [
    "# Filling a Dictionary with information"
   ]
  },
  {
   "cell_type": "markdown",
   "metadata": {
    "colab_type": "text",
    "id": "25no3mtXUZeS"
   },
   "source": [
    "Now let's look at a more practical example of defining a dictionary."
   ]
  },
  {
   "cell_type": "code",
   "execution_count": null,
   "metadata": {
    "colab": {},
    "colab_type": "code",
    "id": "z1_jHW6_UZeU",
    "outputId": "65cc6fd3-b41a-4c16-eb5e-562bd69632e0"
   },
   "outputs": [],
   "source": [
    "from IPython.display import Image\n",
    "Image(url = \"https://gawron.sdsu.edu/python_for_ss/course_core/book_draft/_static/example_toy_graph.png\",\n",
    "      width= 600)"
   ]
  },
  {
   "cell_type": "markdown",
   "metadata": {
    "colab_type": "text",
    "id": "4KPzHb4tUZeV"
   },
   "source": [
    "Using the example of the Enron email graph discussed in the online text as your model, represent the above graph as a dictionary. (By the way, the graph represents victories ina sports tournament.  A link from team A to team B means A defeated B are in the playoffs).  There are 8 teamss in the graph.  Your dictionary should have exactlyt 8 keys. If `dd` is your dictionary, the `dd['Houston']` should return the teams Houston defeated in the tournament.\n",
    "\n",
    "There's more than one correct answer.  You may use containers not yet discussed in the notebook."
   ]
  },
  {
   "cell_type": "code",
   "execution_count": null,
   "metadata": {},
   "outputs": [],
   "source": []
  },
  {
   "cell_type": "code",
   "execution_count": null,
   "metadata": {},
   "outputs": [],
   "source": []
  },
  {
   "cell_type": "code",
   "execution_count": null,
   "metadata": {},
   "outputs": [],
   "source": []
  },
  {
   "cell_type": "code",
   "execution_count": null,
   "metadata": {},
   "outputs": [],
   "source": []
  },
  {
   "cell_type": "code",
   "execution_count": null,
   "metadata": {
    "colab": {},
    "colab_type": "code",
    "id": "GoOQ4SS6UZeV"
   },
   "outputs": [],
   "source": [
    "dd = {'Golden State': {'Houston','New Orleans', 'Memphis'},\n",
    "      'Houston': {'Dallas','Los Angeles'},\n",
    "      'Dallas': {}}"
   ]
  },
  {
   "cell_type": "markdown",
   "metadata": {},
   "source": [
    "## Sets"
   ]
  },
  {
   "cell_type": "code",
   "execution_count": null,
   "metadata": {},
   "outputs": [],
   "source": [
    "S = {'a','b','c', ('d','e')}\n",
    "T = {'d','a','f'}"
   ]
  },
  {
   "cell_type": "code",
   "execution_count": null,
   "metadata": {},
   "outputs": [],
   "source": [
    "T"
   ]
  },
  {
   "cell_type": "code",
   "execution_count": null,
   "metadata": {},
   "outputs": [],
   "source": [
    "len(S)"
   ]
  },
  {
   "cell_type": "code",
   "execution_count": null,
   "metadata": {},
   "outputs": [],
   "source": [
    "len(Mothers)"
   ]
  },
  {
   "cell_type": "code",
   "execution_count": null,
   "metadata": {},
   "outputs": [],
   "source": [
    "len(dd)"
   ]
  },
  {
   "cell_type": "code",
   "execution_count": null,
   "metadata": {},
   "outputs": [],
   "source": [
    "Mothers"
   ]
  },
  {
   "cell_type": "code",
   "execution_count": null,
   "metadata": {},
   "outputs": [],
   "source": [
    "('George Clooney', 'Rosemary Clooney') in Mothers"
   ]
  },
  {
   "cell_type": "code",
   "execution_count": null,
   "metadata": {},
   "outputs": [],
   "source": [
    "'George Clooney' in Mothers"
   ]
  },
  {
   "cell_type": "code",
   "execution_count": null,
   "metadata": {},
   "outputs": [],
   "source": [
    "'a' in S"
   ]
  },
  {
   "cell_type": "code",
   "execution_count": null,
   "metadata": {},
   "outputs": [],
   "source": [
    "'d' in T"
   ]
  },
  {
   "cell_type": "code",
   "execution_count": null,
   "metadata": {},
   "outputs": [],
   "source": [
    "('d','e') in T"
   ]
  },
  {
   "cell_type": "markdown",
   "metadata": {},
   "source": [
    "In dictionaries it's the **keys** that count as the elements **in** the dictionary.\n",
    "\n",
    "They uniquely define an item of information in the dictionary, a key-value association."
   ]
  },
  {
   "cell_type": "code",
   "execution_count": null,
   "metadata": {},
   "outputs": [],
   "source": [
    "print(dd)\n",
    "'name' in dd"
   ]
  },
  {
   "cell_type": "code",
   "execution_count": null,
   "metadata": {},
   "outputs": [],
   "source": [
    "S = {'a','b','c'}\n",
    "T = {'b','a','c'}\n",
    "U = {'a','b','c','b','b'}\n",
    "STup = ('a','b','c')\n",
    "TTup =  ('b','a','c')\n",
    "UTup = ('a','b','c','b','b')"
   ]
  },
  {
   "cell_type": "code",
   "execution_count": null,
   "metadata": {},
   "outputs": [],
   "source": [
    "S == T"
   ]
  },
  {
   "cell_type": "code",
   "execution_count": null,
   "metadata": {},
   "outputs": [],
   "source": [
    "S == U"
   ]
  },
  {
   "cell_type": "code",
   "execution_count": null,
   "metadata": {},
   "outputs": [],
   "source": [
    "S"
   ]
  },
  {
   "cell_type": "code",
   "execution_count": null,
   "metadata": {},
   "outputs": [],
   "source": [
    "U"
   ]
  },
  {
   "cell_type": "code",
   "execution_count": null,
   "metadata": {},
   "outputs": [],
   "source": [
    "STup == TTup"
   ]
  },
  {
   "cell_type": "code",
   "execution_count": null,
   "metadata": {},
   "outputs": [],
   "source": [
    "STup == UTup"
   ]
  },
  {
   "cell_type": "markdown",
   "metadata": {},
   "source": [
    "#### Retrieve the element 'a' from `S`?"
   ]
  },
  {
   "cell_type": "code",
   "execution_count": null,
   "metadata": {},
   "outputs": [],
   "source": [
    "print(S)\n",
    "print('a' in S)"
   ]
  },
  {
   "cell_type": "markdown",
   "metadata": {},
   "source": [
    "There isn't any way to **retrieve** `'a'` from `S` because there isn't any additional piece of\n",
    "information it's hooked onto (a position, or a key).  \n",
    "\n",
    "It's just in `S` (or it's not)."
   ]
  },
  {
   "cell_type": "markdown",
   "metadata": {},
   "source": [
    "What we can do is **remove** the element `'a'` from S."
   ]
  },
  {
   "cell_type": "code",
   "execution_count": null,
   "metadata": {},
   "outputs": [],
   "source": [
    "print(S)\n",
    "S.remove('a')\n",
    "print(S)"
   ]
  },
  {
   "cell_type": "markdown",
   "metadata": {},
   "source": [
    "It's a `KeyError` to try to remove  something that isn't a member."
   ]
  },
  {
   "cell_type": "code",
   "execution_count": null,
   "metadata": {},
   "outputs": [],
   "source": [
    "S.remove('w')"
   ]
  },
  {
   "cell_type": "markdown",
   "metadata": {},
   "source": [
    "Sets\n",
    "\n",
    "1.  Sets are **not** sequences.  Order doesn't matter.\n",
    "2.  Sets are not indexable.  They support neither positional indexing (like sequences) nor keyword indexing (like dictionaries).  The question they answer about any object `x` is whether `x` is in **in** or **out**; that is, they serve to identify collections of objects that have some property. \n",
    "2.  There are no duplicates.\n",
    "3.  Sets may contain other containers (hierarchical structure), although there are limitations we'll\n",
    "    discuss elsewhere.\n",
    "4.  Sets are like dictionaries in several ways. Neither is a sequence.   They both raise `KeyErrors`\n",
    "    when you try to perform a retrieval or update operation on a non-member."
   ]
  },
  {
   "cell_type": "markdown",
   "metadata": {},
   "source": []
  },
  {
   "cell_type": "markdown",
   "metadata": {
    "colab_type": "text",
    "id": "Mv_7NvXqUZeW"
   },
   "source": [
    "# Data structure key: the elements of a sequence"
   ]
  },
  {
   "cell_type": "markdown",
   "metadata": {
    "colab_type": "text",
    "id": "9IR9sYvXUZeX"
   },
   "source": [
    "There are several things we want to be able to do with a sequence.  \n",
    "   1.  We want to be able store and retrieve elements in a particular position.\n",
    "   2.  We want to be able to efficiently list all the elements of the sequence in order and perhaps do some thing\n",
    "       with them.\n",
    "The `for`  loop we used in the previous section lets us efficiently step through all the elements of a sequence\n",
    "and do some uniform thing to all of them.  For example, the next `for` loop just prints all the elements of Sentence2.\n",
    "Evaluate it and make sure you understand why it works the way it does."
   ]
  },
  {
   "cell_type": "code",
   "execution_count": null,
   "metadata": {
    "colab": {},
    "colab_type": "code",
    "id": "k3mJKBu8UZeX",
    "outputId": "e51803b5-0baf-48a6-b450-31cb12be16bf",
    "scrolled": true
   },
   "outputs": [],
   "source": [
    "Sentence2 = 'The quick brown fox jumped over the lazy yellow dog.'\n",
    "for letter in Sentence2:\n",
    "    print (letter)"
   ]
  },
  {
   "cell_type": "markdown",
   "metadata": {
    "colab_type": "text",
    "id": "aqvwHQk3UZeY"
   },
   "source": [
    "Now suppose we wanted to print all the **words** in `Sentence2`, each on a line all its own. "
   ]
  },
  {
   "cell_type": "markdown",
   "metadata": {
    "colab_type": "text",
    "id": "igSOeq_LUZeY"
   },
   "source": [
    " \n",
    "\n",
    "Well we can't do that with a simple  `for` loop with a string like `Sentence2`.  This is because the words in `Sentence2` are all different lengths and therefore they turn out to be different-sized splices. The next cell prints out the first\n",
    "three words using splices. Evaluate it and make sure you understand why the splices work the way they do."
   ]
  },
  {
   "cell_type": "code",
   "execution_count": null,
   "metadata": {
    "colab": {},
    "colab_type": "code",
    "id": "Q3L7jS4pUZeZ"
   },
   "outputs": [],
   "source": [
    "# First we need a splice 3 characters long starting at the beginning of the string.\n",
    "Sentence2 = 'The quick brown fox jumped over the lazy yellow dog.'\n",
    "print(Sentence2[0:3]) # Now skip the space\n",
    "print(Sentence2[4:9]) # Now skip the space\n",
    "print(Sentence2[10:16])"
   ]
  },
  {
   "cell_type": "markdown",
   "metadata": {
    "colab_type": "text",
    "id": "JqmD8DNiUZea"
   },
   "source": [
    "## An easier way"
   ]
  },
  {
   "cell_type": "markdown",
   "metadata": {
    "colab_type": "text",
    "id": "u0sa-ZMmUZea"
   },
   "source": [
    "Fortunately there's a much easier way to print out the words.  We turn the string into a list, each of whose elements is a word in the string.  Then we use a simple `for` loop."
   ]
  },
  {
   "cell_type": "code",
   "execution_count": null,
   "metadata": {
    "colab": {},
    "colab_type": "code",
    "id": "7v_a24ypUZeb",
    "outputId": "0842e887-b739-46b6-b1a2-b20a649d562f"
   },
   "outputs": [],
   "source": [
    "Sentence2 = 'The quick brown fox jumped over the lazy yellow dog.'\n",
    "word_list = Sentence2.split()\n",
    "for word in word_list:\n",
    "    print(word)"
   ]
  },
  {
   "cell_type": "markdown",
   "metadata": {
    "colab_type": "text",
    "id": "rVWWAAtWUZed"
   },
   "source": [
    "The next cell shows what `split` does.  It creates a list of strings by breaking the original string up at the spaces."
   ]
  },
  {
   "cell_type": "code",
   "execution_count": null,
   "metadata": {
    "colab": {},
    "colab_type": "code",
    "id": "4stZ1WuAUZed",
    "outputId": "717036d1-506f-4c4f-d86c-d8cbd3892964"
   },
   "outputs": [],
   "source": [
    "Sentence2 = 'The quick brown fox jumped over the lazy yellow dog.'\n",
    "Sentence2.split()"
   ]
  },
  {
   "cell_type": "markdown",
   "metadata": {
    "colab_type": "text",
    "id": "O5ImnfDsUZef"
   },
   "source": [
    " Notice the spaces themselves are not included. When we split \"on\" some element of a string, that element is regarded as a *separator character* and the things of interest are the things between separators.  `split` is actually a much more general function that can split a string on any character and return the substrings separated by that element.  So for example if we split `Sentence2` on `u`, we get three pieces back, because there are two `u`'s."
   ]
  },
  {
   "cell_type": "code",
   "execution_count": null,
   "metadata": {
    "colab": {},
    "colab_type": "code",
    "id": "FuVAOYR8UZef",
    "outputId": "bbf6279b-f06e-4bf1-e5d0-a34b17c93c62"
   },
   "outputs": [],
   "source": [
    "Sentence2 = 'The quick brown fox jumped over the lazy yellow dog.'\n",
    "Sentence2.split('u')"
   ]
  },
  {
   "cell_type": "markdown",
   "metadata": {
    "colab_type": "text",
    "id": "MIPkKUjSUZeg"
   },
   "source": [
    "Notice that this time the elements of the list returned by `split` did include spaces. "
   ]
  },
  {
   "cell_type": "markdown",
   "metadata": {
    "colab_type": "text",
    "id": "NSEczbc7UZeg"
   },
   "source": [
    " \n",
    "Try to guess what we'll get in the next example before looking at the result in the output cell. We will try to split `Sentence2` on `y`.  How many pieces will there be and what will the second piece be?"
   ]
  },
  {
   "cell_type": "code",
   "execution_count": null,
   "metadata": {
    "colab": {},
    "colab_type": "code",
    "id": "HTUOTKQzUZeh"
   },
   "outputs": [],
   "source": [
    "Sentence2 = 'The quick brown fox jumped over the lazy yellow dog.'\n",
    "Sentence2.split('y')"
   ]
  },
  {
   "cell_type": "markdown",
   "metadata": {
    "colab_type": "text",
    "id": "EiCeKje7UZei"
   },
   "source": [
    "More usefully, data is often stored in files with some special character used as a 'separator'.  For example, if you save an Excel file in `.csv` format, the comma character (\",\") is used as a separator, and a table of people, their ages, and their phone numbers might look like this:\n",
    "\n",
    "```\n",
    " fred,22,7891234\n",
    " alice,28,9070077\n",
    " joe,20,8742399\n",
    "```\n",
    "\n",
    "The next cell shows what you get you get when you split one of these lines on comma:"
   ]
  },
  {
   "cell_type": "code",
   "execution_count": null,
   "metadata": {
    "colab": {},
    "colab_type": "code",
    "id": "M4Y5YSdhUZei"
   },
   "outputs": [],
   "source": [
    "'joe,20,8742399'.split(\",\")"
   ]
  },
  {
   "cell_type": "markdown",
   "metadata": {
    "colab_type": "text",
    "id": "pde3mYrtUZej"
   },
   "source": [
    "Notice the numbers are not Python numbers; they are strings of digits, because splitting a string always returns a list of strings.\n",
    "\n",
    "The `default` character that `split` splits on is actually a set of characters, anything that counts as whitespaces.  That includes space (' '), tab ('\\t'), a line return, because turning a string into a list of words is often fairly useful.  This is what we did with `Sentence2` above.\n",
    "\n",
    "Try to guess what the result of the following split will be:"
   ]
  },
  {
   "cell_type": "code",
   "execution_count": null,
   "metadata": {
    "colab": {},
    "colab_type": "code",
    "id": "TemYyFFBUZej",
    "outputId": "4ec27dd8-5f95-4811-e479-29040f5b640d"
   },
   "outputs": [],
   "source": [
    "S = \"\"\"Rose are red;\n",
    "       violets are blue.\n",
    "       Sugar is sweet.\n",
    "       And so are you.\n",
    "       \"\"\"\n",
    "S.split()"
   ]
  },
  {
   "cell_type": "markdown",
   "metadata": {
    "colab_type": "text",
    "id": "E97Z6UzsUZek"
   },
   "source": [
    "So `split` treats line breaks just as another kind of white space."
   ]
  },
  {
   "cell_type": "markdown",
   "metadata": {
    "colab_type": "text",
    "id": "JDmDNiG7UZel"
   },
   "source": [
    "The moral of this section is that different kinds of sequences can have different kinds of elements.  Strings are probably best thought of as having characters (strings of length 1) as their elements, and that's the only convenient way\n",
    "to loop through them, one character at a time.  Lists are more flexible.  An element of the list can itself be a sequence, and so we can arrange for a list to have chunks of any size as its elements. We just pick whatever chunks are useful, and in strings of text, the word chunks are useful, and the default version of splitting gives us (approximately) a list of word chunks."
   ]
  },
  {
   "cell_type": "markdown",
   "metadata": {
    "colab_type": "text",
    "id": "xNNREsNtUZel"
   },
   "source": [
    "## Counting words"
   ]
  },
  {
   "cell_type": "markdown",
   "metadata": {
    "colab_type": "text",
    "id": "erKv1lOzUZel"
   },
   "source": [
    "Let's review how we did counting above."
   ]
  },
  {
   "cell_type": "code",
   "execution_count": null,
   "metadata": {},
   "outputs": [],
   "source": [
    "from collections import Counter\n",
    "Sentence = 'the quick brown fox jumped over the lazy yellow dog.'\n",
    "word_freqs = Counter(Sentence)\n",
    "word_freqs"
   ]
  },
  {
   "cell_type": "markdown",
   "metadata": {
    "colab_type": "text",
    "id": "eXb94QZ9UZem"
   },
   "source": [
    "Bearing in mind that we can initialize a `Counter` with any kind of sequence, revise the code above so that what is counted is words, not characters."
   ]
  },
  {
   "cell_type": "code",
   "execution_count": null,
   "metadata": {
    "colab": {},
    "colab_type": "code",
    "id": "apiesyjJUZen"
   },
   "outputs": [],
   "source": [
    "[your answer here]"
   ]
  },
  {
   "cell_type": "code",
   "execution_count": null,
   "metadata": {},
   "outputs": [],
   "source": []
  },
  {
   "cell_type": "code",
   "execution_count": null,
   "metadata": {},
   "outputs": [],
   "source": []
  },
  {
   "cell_type": "code",
   "execution_count": null,
   "metadata": {},
   "outputs": [],
   "source": []
  },
  {
   "cell_type": "code",
   "execution_count": null,
   "metadata": {},
   "outputs": [],
   "source": []
  },
  {
   "cell_type": "code",
   "execution_count": null,
   "metadata": {},
   "outputs": [],
   "source": []
  },
  {
   "cell_type": "code",
   "execution_count": null,
   "metadata": {},
   "outputs": [],
   "source": []
  },
  {
   "cell_type": "code",
   "execution_count": null,
   "metadata": {},
   "outputs": [],
   "source": []
  },
  {
   "cell_type": "code",
   "execution_count": null,
   "metadata": {},
   "outputs": [],
   "source": []
  },
  {
   "cell_type": "code",
   "execution_count": null,
   "metadata": {},
   "outputs": [],
   "source": []
  },
  {
   "cell_type": "code",
   "execution_count": null,
   "metadata": {},
   "outputs": [],
   "source": []
  },
  {
   "cell_type": "code",
   "execution_count": null,
   "metadata": {},
   "outputs": [],
   "source": []
  },
  {
   "cell_type": "markdown",
   "metadata": {
    "colab_type": "text",
    "id": "MBY-MHvWUZe1"
   },
   "source": [
    "# Notebook Takeaways"
   ]
  },
  {
   "cell_type": "markdown",
   "metadata": {
    "colab_type": "text",
    "id": "FZori1-aUZe1"
   },
   "source": [
    "1. Different types => different constructions for retrieving information\n",
    "2. All types => defined for `in` and `len`\n",
    "3. In any container, what the elements are matters for retrieving information, for counting, for looping through the elements\n",
    "4. All containers except strings are **compound**. Containers may have containers of other types as elements.\n",
    "5. Python syntax allows for hierarchical structure (`X[y][z]`)"
   ]
  },
  {
   "cell_type": "markdown",
   "metadata": {},
   "source": [
    "The cells below are not discussed in the video lecture, but useful."
   ]
  },
  {
   "cell_type": "markdown",
   "metadata": {
    "colab_type": "text",
    "id": "VLsLVerVUZeo"
   },
   "source": [
    "# Embedded Structure"
   ]
  },
  {
   "cell_type": "code",
   "execution_count": null,
   "metadata": {
    "colab": {},
    "colab_type": "code",
    "id": "9YtlY96OUZeo"
   },
   "outputs": [],
   "source": [
    "Higgledypiggledy = [1, ['a','b','c'], (1.4, 'Sam')]"
   ]
  },
  {
   "cell_type": "markdown",
   "metadata": {
    "colab_type": "text",
    "id": "8Bz4EIAwUZeq"
   },
   "source": [
    "We saw this example above.  Here we emphasize the fact that some container types can contain containers, either of the same type  or of different types. `Higgledypiggledy` is a list that contains a list and a tuple."
   ]
  },
  {
   "cell_type": "code",
   "execution_count": null,
   "metadata": {
    "colab": {},
    "colab_type": "code",
    "id": "YVC7K8DmUZeq",
    "outputId": "aba750ad-909d-4020-e581-d82f140d051e"
   },
   "outputs": [],
   "source": [
    "Higgledypiggledy[1]"
   ]
  },
  {
   "cell_type": "code",
   "execution_count": null,
   "metadata": {
    "colab": {},
    "colab_type": "code",
    "id": "OAnSJN-WUZes",
    "outputId": "09ed8683-9a0a-4db1-f32c-cc30e07b1c43"
   },
   "outputs": [],
   "source": [
    "Higgledypiggledy[1][2]"
   ]
  },
  {
   "cell_type": "markdown",
   "metadata": {
    "colab_type": "text",
    "id": "aKKfyKJFUZew"
   },
   "source": [
    "What value does executing this cell return?"
   ]
  },
  {
   "cell_type": "code",
   "execution_count": null,
   "metadata": {},
   "outputs": [],
   "source": [
    "Higgledypiggledy[2][0]"
   ]
  },
  {
   "cell_type": "markdown",
   "metadata": {},
   "source": [
    "What value does executing this cell return?"
   ]
  },
  {
   "cell_type": "code",
   "execution_count": null,
   "metadata": {},
   "outputs": [],
   "source": [
    "Higgledypiggledy[2][1][1]"
   ]
  },
  {
   "cell_type": "code",
   "execution_count": null,
   "metadata": {
    "colab": {},
    "colab_type": "code",
    "id": "24vHUsLgUZex",
    "outputId": "3e314639-9b74-4ffd-bd2d-43139795d9ad"
   },
   "outputs": [],
   "source": [
    "dd = dict(name = 'Mark Gawron',\n",
    "          language = 'Python',\n",
    "          favorite_tv_show = \"Monty Python's Flying Circus\",\n",
    "          favorite_desert = 'Apple pie')\n",
    "dd['name'].split()[0]"
   ]
  },
  {
   "cell_type": "markdown",
   "metadata": {
    "colab_type": "text",
    "id": "VwsuUQ6fUZey"
   },
   "source": [
    "In the next exercise we try to retrieve some data."
   ]
  },
  {
   "cell_type": "code",
   "execution_count": null,
   "metadata": {
    "colab": {},
    "colab_type": "code",
    "id": "mhAFz2ZmUZez"
   },
   "outputs": [],
   "source": [
    "dd = dict(name = 'Mark Gawron',\n",
    "          language = 'Python',\n",
    "          favorite_tv_show = \"Monty Python's Flying Circus\",\n",
    "          favorite_desert = 'Apple pie')"
   ]
  },
  {
   "cell_type": "markdown",
   "metadata": {
    "colab_type": "text",
    "id": "1LxFbn-yUZe0"
   },
   "source": [
    "In the next cell, Write a single expression that retrieves the word `Flying` from `dd`."
   ]
  },
  {
   "cell_type": "code",
   "execution_count": null,
   "metadata": {
    "colab": {},
    "colab_type": "code",
    "id": "p-kyGfN7UZe0"
   },
   "outputs": [],
   "source": []
  },
  {
   "cell_type": "markdown",
   "metadata": {
    "colab_type": "text",
    "id": "jwiUFp9YUZe1"
   },
   "source": [
    "<font size = 6> <b> Appendix:  Networks (Dictionaries) [Extra Credit] </b></font>"
   ]
  },
  {
   "cell_type": "markdown",
   "metadata": {
    "colab_type": "text",
    "id": "5Gr_F6oOUZe1"
   },
   "source": [
    "This section presents a brief preview of `Networkx`, an important Python module that provides a number of\n",
    "tools for building and analyzing networks. As our next example, we use a high school friendship network,\n",
    "which we can be represented as a dictionary."
   ]
  },
  {
   "cell_type": "code",
   "execution_count": 137,
   "metadata": {
    "colab": {},
    "colab_type": "code",
    "id": "FBM7slQOUZe1",
    "outputId": "85d67f6a-0c82-46fc-8f9f-c5d0572ee162"
   },
   "outputs": [
    {
     "data": {
      "text/html": [
       "<img src=\"https://gawron.sdsu.edu/python_for_ss/course_core/book_draft/_static/practice_toy_graph.png\" width=\"300\"/>"
      ],
      "text/plain": [
       "<IPython.core.display.Image object>"
      ]
     },
     "execution_count": 137,
     "metadata": {},
     "output_type": "execute_result"
    }
   ],
   "source": [
    "from IPython.display import Image\n",
    "Image(url = \"https://gawron.sdsu.edu/python_for_ss/course_core/book_draft/_static/practice_toy_graph.png\",\n",
    "      width= 300)"
   ]
  },
  {
   "cell_type": "markdown",
   "metadata": {},
   "source": [
    "Here the nodes are students in a high school and a link represents a friendship."
   ]
  },
  {
   "cell_type": "markdown",
   "metadata": {
    "colab_type": "text",
    "id": "6r07pCf5UZe4"
   },
   "source": [
    "Alternatively, instead of a hard to compute with image, we might represnt friendships in a  file `practice_toy_graph.el` whose contents look like this:\n",
    "\n",
    "```\n",
    "Sue  Sam \n",
    "Sue  Hugo\n",
    "Sue  Harry\n",
    "Sam  Billy_Joe\n",
    "Billy_Joe  Barbara\n",
    "Harry  Hugo\n",
    "Barbara  Bobbie\n",
    "Sam  Ricky\n",
    "Barbara  Sue\n",
    "```\n",
    "\n",
    "Here's the \".el\" extension signals the file is in \"edgelist\" format, the simplest way to\n",
    "represent graph information. Each line represents an edge in the graph.\n",
    "Note that this representation looks a little like a \n",
    "list of pairs.  We can turn this into a useful graph representation using \n",
    "`networkx`,  a Python package for handling\n",
    "networks; `networkx`  provides a way of reading a file in the above format into\n",
    "an internal representation of a graph, a little different from the dictionary\n",
    "representation we used above, but with the same information."
   ]
  },
  {
   "cell_type": "code",
   "execution_count": 114,
   "metadata": {
    "colab": {},
    "colab_type": "code",
    "id": "SvPpTqG7UZe4"
   },
   "outputs": [],
   "source": [
    "import networkx as nx\n",
    "\n",
    "# The string we would get by reading in the above file in one gulp: file_stream.read()\n",
    "\n",
    "graph_string = \"\"\"\n",
    "Sue  Sam \n",
    "Sue  Hugo\n",
    "Sue  Harry\n",
    "Sam  Billy_Joe\n",
    "Billy_Joe  Barbara\n",
    "Harry  Hugo\n",
    "Barbara  Bobbie\n",
    "Sam  Ricky\n",
    "Barbara  Sue\n",
    "\"\"\"\n",
    "\n",
    "# A list of the strings on each line file_stream.readlines()\n",
    "edgelist_str = \\\n",
    "[\n",
    "'Sue Sam', \n",
    "'Sam  Billy_Joe',\n",
    "'Billy_Joe  Barbara',\n",
    "'Harry  Hugo',\n",
    "'Barbara  Bobbie',\n",
    "'Sue  Hugo',\n",
    "'Sue Harry',\n",
    "'Sam  Ricky',\n",
    "'Barbara  Sue']\n",
    "G = nx.parse_edgelist(edgelist_str)"
   ]
  },
  {
   "cell_type": "markdown",
   "metadata": {
    "colab_type": "text",
    "id": "SzZEYPQ8UZe5"
   },
   "source": [
    "G is now a `networkx` graph object:"
   ]
  },
  {
   "cell_type": "markdown",
   "metadata": {
    "colab_type": "text",
    "id": "wbGfdQJ6UZfC"
   },
   "source": [
    "NB: `Networkx` also allows an edgelist to be read from\n",
    "a file via a function called `nx.read_edgelist`.\n",
    "Just like `nx.parse_edgelist` it returns the graph object."
   ]
  },
  {
   "cell_type": "code",
   "execution_count": 115,
   "metadata": {
    "colab": {},
    "colab_type": "code",
    "id": "tG5dpbfHUZe6",
    "outputId": "3e2de2b6-32e5-4165-a9d2-a63a71cd00a4"
   },
   "outputs": [
    {
     "data": {
      "text/plain": [
       "<networkx.classes.graph.Graph at 0x7fd261a04340>"
      ]
     },
     "execution_count": 115,
     "metadata": {},
     "output_type": "execute_result"
    }
   ],
   "source": [
    "G"
   ]
  },
  {
   "cell_type": "markdown",
   "metadata": {
    "colab_type": "text",
    "id": "SfGMrRH5UZe7"
   },
   "source": [
    "We find a list of pairs-like representation of the edges in our graph if we look at something called `G.edges`."
   ]
  },
  {
   "cell_type": "code",
   "execution_count": 138,
   "metadata": {
    "colab": {},
    "colab_type": "code",
    "id": "JagO2aPFUZe7",
    "outputId": "2f6d0a12-6bb9-4698-cbd0-76087c0f092d",
    "scrolled": true
   },
   "outputs": [
    {
     "data": {
      "text/plain": [
       "EdgeView([('Sue', 'Sam'), ('Sue', 'Hugo'), ('Sue', 'Harry'), ('Sue', 'Barbara'), ('Sam', 'Billy_Joe'), ('Sam', 'Ricky'), ('Billy_Joe', 'Barbara'), ('Barbara', 'Bobbie'), ('Harry', 'Hugo')])"
      ]
     },
     "execution_count": 138,
     "metadata": {},
     "output_type": "execute_result"
    }
   ],
   "source": [
    "G.edges"
   ]
  },
  {
   "cell_type": "markdown",
   "metadata": {
    "colab_type": "text",
    "id": "UujFMMYgUZe9"
   },
   "source": [
    "We will talk more about the `x.y` syntax later when we talk about classes and class instances.  For now, we will just note that **objects** (the graph `G` is an object) have **attributes** (`edges` is an attribute of `G`), and `G.edges` denotes the list-of-pairs like data you see above. Each member of this \"list\" represents a link in the graph, or a friendship.\n",
    "\n",
    "The graph `G` has a number of attributes.  Another attribute is `nodes`, which stores a list-like view of the people (nodes) in the friendship network."
   ]
  },
  {
   "cell_type": "code",
   "execution_count": 139,
   "metadata": {
    "colab": {},
    "colab_type": "code",
    "id": "_YJFfCEQUZe9",
    "outputId": "a142ac25-b616-4ec7-ee11-1d314db23719"
   },
   "outputs": [
    {
     "data": {
      "text/plain": [
       "NodeView(('Sue', 'Sam', 'Billy_Joe', 'Barbara', 'Harry', 'Hugo', 'Bobbie', 'Ricky'))"
      ]
     },
     "execution_count": 139,
     "metadata": {},
     "output_type": "execute_result"
    }
   ],
   "source": [
    "G.nodes"
   ]
  },
  {
   "cell_type": "markdown",
   "metadata": {
    "colab_type": "text",
    "id": "4-rNTuYAUZe_"
   },
   "source": [
    "It turns out that even  though `G` is not a dictionary, we can treat it like one, using the nodes in `G.nodes` as its keys:"
   ]
  },
  {
   "cell_type": "code",
   "execution_count": 140,
   "metadata": {
    "colab": {},
    "colab_type": "code",
    "id": "FmKxT92lUZfA",
    "outputId": "d52b094d-b661-47a7-a711-d138bef8dc95"
   },
   "outputs": [
    {
     "name": "stdout",
     "output_type": "stream",
     "text": [
      "Sue {'Sam': {}, 'Hugo': {}, 'Harry': {}, 'Barbara': {}}\n",
      "Sam {'Sue': {}, 'Billy_Joe': {}, 'Ricky': {}}\n",
      "Billy_Joe {'Sam': {}, 'Barbara': {}}\n",
      "Barbara {'Billy_Joe': {}, 'Bobbie': {}, 'Sue': {}}\n",
      "Harry {'Hugo': {}, 'Sue': {}}\n",
      "Hugo {'Harry': {}, 'Sue': {}}\n",
      "Bobbie {'Barbara': {}}\n",
      "Ricky {'Sam': {}}\n"
     ]
    }
   ],
   "source": [
    "for n in G.nodes():\n",
    "    print('{0} {1}'.format(n, G[n]))\n",
    "    #print('{0:<15} {1}'.format(n, G[n]))"
   ]
  },
  {
   "cell_type": "markdown",
   "metadata": {
    "colab_type": "text",
    "id": "Fok3LM2xUZfB"
   },
   "source": [
    "One of the attractions of using a graph package like `Networkx` instead of \"rolling our own\" representation of a graph, is that it provides a lot of efficient functions for doing things one would want to do with graphs.  For example, we might want to **draw** them.  Typically there is a lot of complexity in any visualization software, and visualization is a good plac to start letting the pros do it.  In fact `networkx` makes use of still another package to do its drawing, `matplotlib (pylab)`, the same Python package we will use for drawing graphs later."
   ]
  },
  {
   "cell_type": "code",
   "execution_count": 141,
   "metadata": {
    "colab": {},
    "colab_type": "code",
    "id": "MNzBlIyfUZfB",
    "outputId": "1a232957-9db0-47b6-847c-959604b99e7a",
    "scrolled": false
   },
   "outputs": [
    {
     "data": {
      "image/png": "[encoded data removed]",
      "text/plain": [
       "<Figure size 640x480 with 1 Axes>"
      ]
     },
     "metadata": {},
     "output_type": "display_data"
    }
   ],
   "source": [
    "nx.draw_networkx(G,node_size=2200,node_color='c')"
   ]
  },
  {
   "cell_type": "markdown",
   "metadata": {
    "colab_type": "text",
    "id": "8pmVv9rkUZfE"
   },
   "source": [
    "Let's look at `G[n]` a little more closely:"
   ]
  },
  {
   "cell_type": "code",
   "execution_count": 142,
   "metadata": {
    "colab": {},
    "colab_type": "code",
    "id": "qHtQt9v2UZfE",
    "outputId": "39f117fe-bd77-4626-bc4d-cb2f5eb56879"
   },
   "outputs": [
    {
     "name": "stdout",
     "output_type": "stream",
     "text": [
      "Sue             {'Sam': {}, 'Hugo': {}, 'Harry': {}, 'Barbara': {}}\n",
      "Sam             {'Sue': {}, 'Billy_Joe': {}, 'Ricky': {}}\n",
      "Billy_Joe       {'Sam': {}, 'Barbara': {}}\n",
      "Barbara         {'Billy_Joe': {}, 'Bobbie': {}, 'Sue': {}}\n",
      "Harry           {'Hugo': {}, 'Sue': {}}\n",
      "Hugo            {'Harry': {}, 'Sue': {}}\n",
      "Bobbie          {'Barbara': {}}\n",
      "Ricky           {'Sam': {}}\n"
     ]
    }
   ],
   "source": [
    "for n in G.nodes():\n",
    "    print('{0:15} {1}'.format(n, G[n]))"
   ]
  },
  {
   "cell_type": "markdown",
   "metadata": {
    "colab_type": "text",
    "id": "BON4vqGrUZfF"
   },
   "source": [
    "Notice that in each case `G[n]` is a dictionary.  The keys of `n` are the friends that `n` is connected to.  That values are empty dictionaries.\n",
    "\n",
    "This representation is a little different from the dictionary representation of the graph we used in the text for the enron email network (D[node] = list of nodes).  Think about two questions.  (a) Does it contain the same information as our dictionary representation above? (b) How is it different?  "
   ]
  },
  {
   "cell_type": "markdown",
   "metadata": {
    "colab_type": "text",
    "id": "c-l3DaCeUZfG"
   },
   "source": [
    "The advantage of having those empty dictionaries around is that it we can use them to representing attributes of edges, which allows us to build networks with more realistic properties.  For example, suppose we want to associate friendship links with an intensity, as measured by something like the number of different kinds of contexts in which the two friends see one another.  We would then want to be able to associate each edge with a weight.  To build a `Networkx` representation of weighted edges, we could do something like  this:"
   ]
  },
  {
   "cell_type": "code",
   "execution_count": 121,
   "metadata": {
    "colab": {},
    "colab_type": "code",
    "id": "JJHrVUWrUZfG"
   },
   "outputs": [],
   "source": [
    "edgelist_str1 = \\\n",
    "[\n",
    "'Sue  Sam {\"weight\":8}', \n",
    "'Sam  Billy_Joe {\"weight\":5}',\n",
    "'Billy_Joe  Barbara {\"weight\":3}',\n",
    "'Harry  Hugo {\"weight\":8}',\n",
    "'Barbara  Bobbie {\"weight\":1}',\n",
    "'Sue  Hugo {\"weight\":9}',\n",
    "'Sue  Harry {\"weight\":7}',\n",
    "'Sam  Ricky {\"weight\":8}',\n",
    "'Barbara  Sue {\"weight\":2}']\n",
    "\n",
    "G1 = nx.parse_edgelist(edgelist_str1)\n"
   ]
  },
  {
   "cell_type": "markdown",
   "metadata": {
    "colab_type": "text",
    "id": "lX9b1rEwUZfH"
   },
   "source": [
    "This means `Sue_Anne` has relatively intense freindships with `Hugo` and `Sam`, and that `Barbara` and `Bobbie Rae` have a relativly casual friendship.\n",
    "\n",
    "In its default use, `G1.edges` looks much the same."
   ]
  },
  {
   "cell_type": "code",
   "execution_count": 122,
   "metadata": {
    "colab": {},
    "colab_type": "code",
    "id": "xH9F6KplUZfH"
   },
   "outputs": [
    {
     "data": {
      "text/plain": [
       "EdgeView([('Sue', 'Sam'), ('Sue', 'Hugo'), ('Sue', 'Harry'), ('Sue', 'Barbara'), ('Sam', 'Billy_Joe'), ('Sam', 'Ricky'), ('Billy_Joe', 'Barbara'), ('Barbara', 'Bobbie'), ('Harry', 'Hugo')])"
      ]
     },
     "execution_count": 122,
     "metadata": {},
     "output_type": "execute_result"
    }
   ],
   "source": [
    "G1.edges"
   ]
  },
  {
   "cell_type": "markdown",
   "metadata": {
    "colab_type": "text",
    "id": "UfYqXZIGUZfI"
   },
   "source": [
    "However, if we want to see the edge **weights**, or the **data** we have about each edge, we do this:\n"
   ]
  },
  {
   "cell_type": "code",
   "execution_count": 123,
   "metadata": {
    "colab": {},
    "colab_type": "code",
    "id": "H3iFMiHVUZfJ"
   },
   "outputs": [
    {
     "data": {
      "text/plain": [
       "EdgeDataView([('Sue', 'Sam', {'weight': 8}), ('Sue', 'Hugo', {'weight': 9}), ('Sue', 'Harry', {'weight': 7}), ('Sue', 'Barbara', {'weight': 2}), ('Sam', 'Billy_Joe', {'weight': 5}), ('Sam', 'Ricky', {'weight': 8}), ('Billy_Joe', 'Barbara', {'weight': 3}), ('Barbara', 'Bobbie', {'weight': 1}), ('Harry', 'Hugo', {'weight': 8})])"
      ]
     },
     "execution_count": 123,
     "metadata": {},
     "output_type": "execute_result"
    }
   ],
   "source": [
    "G1.edges(data = True)"
   ]
  },
  {
   "cell_type": "markdown",
   "metadata": {
    "colab_type": "text",
    "id": "jaIHUcfeUZfL"
   },
   "source": [
    "The `edges` attribute can be **called**, like a function,  and extra arguments (in the case `data`) can be specified. A function of this sort of is called a **method**  We'll learn more about methods when we talk about classes.\n",
    "\n",
    "If the designers have been good to us, a method will have documentation, and we can look it up in the notebook environment as follows:"
   ]
  },
  {
   "cell_type": "code",
   "execution_count": 124,
   "metadata": {
    "colab": {},
    "colab_type": "code",
    "id": "tUfh5qVUUZfL"
   },
   "outputs": [],
   "source": [
    "G1.edges?"
   ]
  },
  {
   "cell_type": "markdown",
   "metadata": {
    "colab_type": "text",
    "id": "6-w1SHN0UZfM"
   },
   "source": [
    "We can also take advantage of the fact that we can treat `G1` like a dictionary, and that the value\n",
    "of `G1['Sue']` is a dictionary to find the weight of one of `Sue`'s friendships:"
   ]
  },
  {
   "cell_type": "code",
   "execution_count": 125,
   "metadata": {
    "colab": {},
    "colab_type": "code",
    "id": "A27CCZ26UZfN"
   },
   "outputs": [
    {
     "data": {
      "text/plain": [
       "{'weight': 8}"
      ]
     },
     "execution_count": 125,
     "metadata": {},
     "output_type": "execute_result"
    }
   ],
   "source": [
    "G1['Sue']['Sam']"
   ]
  },
  {
   "cell_type": "markdown",
   "metadata": {
    "colab_type": "text",
    "id": "qMopsA9yUZfO"
   },
   "source": [
    "Or even:"
   ]
  },
  {
   "cell_type": "code",
   "execution_count": 126,
   "metadata": {
    "colab": {},
    "colab_type": "code",
    "id": "afjSqHxxUZfP"
   },
   "outputs": [
    {
     "data": {
      "text/plain": [
       "8"
      ]
     },
     "execution_count": 126,
     "metadata": {},
     "output_type": "execute_result"
    }
   ],
   "source": [
    "G1['Sue']['Sam']['weight']"
   ]
  },
  {
   "cell_type": "code",
   "execution_count": 128,
   "metadata": {
    "colab": {},
    "colab_type": "code",
    "id": "kKl9glQQUZfQ"
   },
   "outputs": [
    {
     "data": {
      "image/png": "[encoded data removed]",
      "text/plain": [
       "<Figure size 640x480 with 1 Axes>"
      ]
     },
     "metadata": {},
     "output_type": "display_data"
    }
   ],
   "source": [
    "nx.draw_networkx(G1,node_color='c',node_size=2200)"
   ]
  },
  {
   "cell_type": "markdown",
   "metadata": {
    "colab_type": "text",
    "id": "xw1ac29FUZfR"
   },
   "source": [
    "Let's do the following exercise.  Take the following information.  Make it an edgelist like `edgelist_str` above (no weights).\n",
    "\n",
    "```\n",
    "Acme buys parts from D-Line and Excelsior, Inc.\n",
    "D-Line buys parts from Excelsior, Inc.\n",
    "Fillmore Lmtd. buys parts from Excelsior Inc. and Bradley Tool & Dye.\n",
    "Bradley Tool & Dye buys parts from Crossley Maritime.\n",
    "Bradley Tool & Dye buys parts from D-Line.\n",
    "Crossley Maritime supplies Acme.\n",
    "```"
   ]
  },
  {
   "cell_type": "code",
   "execution_count": null,
   "metadata": {
    "colab": {},
    "colab_type": "code",
    "id": "krXckMz7UZfR"
   },
   "outputs": [],
   "source": [
    "#[your answer goes here; call your edgelist e10]"
   ]
  },
  {
   "cell_type": "code",
   "execution_count": null,
   "metadata": {},
   "outputs": [],
   "source": []
  },
  {
   "cell_type": "code",
   "execution_count": null,
   "metadata": {},
   "outputs": [],
   "source": []
  },
  {
   "cell_type": "code",
   "execution_count": null,
   "metadata": {},
   "outputs": [],
   "source": []
  },
  {
   "cell_type": "code",
   "execution_count": null,
   "metadata": {},
   "outputs": [],
   "source": []
  },
  {
   "cell_type": "code",
   "execution_count": null,
   "metadata": {},
   "outputs": [],
   "source": []
  },
  {
   "cell_type": "code",
   "execution_count": null,
   "metadata": {},
   "outputs": [],
   "source": []
  },
  {
   "cell_type": "code",
   "execution_count": null,
   "metadata": {},
   "outputs": [],
   "source": []
  },
  {
   "cell_type": "code",
   "execution_count": null,
   "metadata": {},
   "outputs": [],
   "source": []
  },
  {
   "cell_type": "code",
   "execution_count": 129,
   "metadata": {},
   "outputs": [],
   "source": [
    "e10 = [\n",
    "    \"Acme D-Line\",\n",
    "    \"Acme Excelsior_Inc.\",\n",
    "    \"Fillmore_Lmtd.   Excelsior_Inc.\",\n",
    "    \"Fillmore_Lmtd.  Bradley_Tool_&_Dye\",\n",
    "    \"Bradley_Tool_&_Dye Crossley_Maritime\",\n",
    "    \"Bradley_Tool_&_Dye D-Line\",\n",
    "    \"Acme Crossley_Maritime\",\n",
    "]"
   ]
  },
  {
   "cell_type": "markdown",
   "metadata": {
    "colab_type": "text",
    "id": "X6srX4_TUZfS"
   },
   "source": [
    "The next cell creates and draws your network, assuming you have created the edgeliust `e10` containing the above\n",
    "\"buy parts\" information.  It creates a **directed graph**.  That is, the links are directional.  We used an undirected graph above because we were talking about friendship; if Sue Anne and Sam are friends, then Sam is Sue Anne's friend and Sue Anne is Sam's friend.  Buying parts doesn't work that way.  One company is the buyer; the other the supplier.\n",
    "\n",
    "If you've completed this extra credit section (and defined `e10`, you should execute the cell below before handing the notebook."
   ]
  },
  {
   "cell_type": "code",
   "execution_count": 148,
   "metadata": {
    "colab": {},
    "colab_type": "code",
    "id": "LmotLPlSUZfS"
   },
   "outputs": [
    {
     "data": {
      "image/png": "[encoded data removed]",
      "text/plain": [
       "<Figure size 640x480 with 1 Axes>"
      ]
     },
     "metadata": {},
     "output_type": "display_data"
    }
   ],
   "source": [
    "G2 = nx.parse_edgelist(e10,create_using=nx.DiGraph())\n",
    "nx.draw_networkx(G2,node_color=\"c\",node_shape=\"None\")"
   ]
  },
  {
   "cell_type": "code",
   "execution_count": null,
   "metadata": {
    "colab": {},
    "colab_type": "code",
    "id": "0ovWXM8rUZfT"
   },
   "outputs": [],
   "source": []
  }
 ],
 "metadata": {
  "celltoolbar": "Slideshow",
  "colab": {
   "collapsed_sections": [
    "vVObwCeJUZdA",
    "ZCU5yT9iUZdJ",
    "b76uibrJUZdS",
    "_kQUjWvJUZeS",
    "Mv_7NvXqUZeW",
    "JqmD8DNiUZea",
    "xNNREsNtUZel",
    "VLsLVerVUZeo",
    "MBY-MHvWUZe1"
   ],
   "name": "Copy of python_types-nb.ipynb",
   "provenance": []
  },
  "kernelspec": {
   "display_name": "Python 3 (ipykernel)",
   "language": "python",
   "name": "python3"
  },
  "language_info": {
   "codemirror_mode": {
    "name": "ipython",
    "version": 3
   },
   "file_extension": ".py",
   "mimetype": "text/x-python",
   "name": "python",
   "nbconvert_exporter": "python",
   "pygments_lexer": "ipython3",
   "version": "3.10.6"
  },
  "toc": {
   "base_numbering": 1,
   "nav_menu": {
    "height": "277px",
    "width": "252px"
   },
   "number_sections": true,
   "sideBar": true,
   "skip_h1_title": false,
   "title_cell": "Table of Contents",
   "title_sidebar": "Contents",
   "toc_cell": false,
   "toc_position": {},
   "toc_section_display": "block",
   "toc_window_display": false
  }
 },
 "nbformat": 4,
 "nbformat_minor": 1
}
