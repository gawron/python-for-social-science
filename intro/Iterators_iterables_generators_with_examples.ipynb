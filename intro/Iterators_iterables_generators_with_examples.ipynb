{
 "cells": [
  {
   "cell_type": "markdown",
   "metadata": {
    "id": "x9mc7U0KNtb-"
   },
   "source": [
    "# Iterators, iterables, generators"
   ]
  },
  {
   "cell_type": "markdown",
   "metadata": {
    "id": "lG9madqONtcA"
   },
   "source": [
    "Python has three concepts which are often confused: **iterator, iterable**, and **generator**.  \n",
    "\n",
    "They're actually fairly straightforward.  Confusion arises because examples of each can be \n",
    "be created in a variety of ways, and because their relationahip is not clearly spelled out\n",
    "in the python type system."
   ]
  },
  {
   "cell_type": "markdown",
   "metadata": {
    "id": "RFSITCetNtcA"
   },
   "source": [
    "## Iterators"
   ]
  },
  {
   "cell_type": "markdown",
   "metadata": {
    "id": "g7QpL30ANtcA"
   },
   "source": [
    "Let's start with the most basic concept, an iterator.  An iterator is an object that produces \n",
    "the next member of a sequence \n",
    "of values one by one by one.  It does this by\n",
    "supporting a `__next__` method that produces the next member of the sequence.  This\n",
    "means it has to remember where it currently is in the sequence, which is called remembering **state**.\n",
    "We illustrate this with a string, which is not an iterator, but can be used to create an iterator with\n",
    "its `__iter__` method. "
   ]
  },
  {
   "cell_type": "code",
   "execution_count": null,
   "metadata": {
    "id": "KbzcnEqiNtcA",
    "outputId": "b51bc8d1-c0f2-431d-dde0-dcf99c9e23d4"
   },
   "outputs": [
    {
     "name": "stdout",
     "output_type": "stream",
     "text": [
      "a\n",
      "b\n",
      "c\n",
      "d\n",
      "e\n"
     ]
    }
   ],
   "source": [
    "from string import ascii_lowercase\n",
    "from collections.abc import Iterator\n",
    "\n",
    "it1 = ascii_lowercase.__iter__()\n",
    "print(it1.__next__())\n",
    "print(it1.__next__())\n",
    "print(it1.__next__())\n",
    "print(next(it1))       # Can equivalently use the Python builtin function `next`\n",
    "print(it1.__next__())  # Using `next()` has same effect on state as using .__next__()"
   ]
  },
  {
   "cell_type": "markdown",
   "metadata": {
    "id": "t0jVZE2VNtcB"
   },
   "source": [
    "Want to start reciting the alphabet again?  Create another iterator."
   ]
  },
  {
   "cell_type": "code",
   "execution_count": null,
   "metadata": {
    "id": "CUOhJxysNtcB",
    "outputId": "9ea76f17-9567-4311-f41d-89c8d956191d"
   },
   "outputs": [
    {
     "name": "stdout",
     "output_type": "stream",
     "text": [
      "a\n",
      "b\n",
      "c\n"
     ]
    }
   ],
   "source": [
    "it2 = ascii_lowercase.__iter__()\n",
    "print(it2.__next__())\n",
    "print(it2.__next__())\n",
    "print(it2.__next__())"
   ]
  },
  {
   "cell_type": "markdown",
   "metadata": {
    "id": "SipGkY9UNtcB"
   },
   "source": [
    "What happens when we reach the end of the sequence?"
   ]
  },
  {
   "cell_type": "code",
   "execution_count": null,
   "metadata": {
    "id": "acle3gGTNtcB",
    "outputId": "416a0afd-d671-4d41-9492-b78364ac5d12"
   },
   "outputs": [
    {
     "name": "stdout",
     "output_type": "stream",
     "text": [
      "a b c d e f g h i j k l m n o p q r s t u v w x y z \n"
     ]
    },
    {
     "ename": "StopIteration",
     "evalue": "",
     "output_type": "error",
     "traceback": [
      "\u001b[0;31m---------------------------------------------------------------------------\u001b[0m",
      "\u001b[0;31mStopIteration\u001b[0m                             Traceback (most recent call last)",
      "\u001b[0;32m<ipython-input-39-d8a873a331db>\u001b[0m in \u001b[0;36m<module>\u001b[0;34m\u001b[0m\n\u001b[1;32m      3\u001b[0m     \u001b[0mprint\u001b[0m\u001b[0;34m(\u001b[0m\u001b[0mit3\u001b[0m\u001b[0;34m.\u001b[0m\u001b[0m__next__\u001b[0m\u001b[0;34m(\u001b[0m\u001b[0;34m)\u001b[0m\u001b[0;34m,\u001b[0m \u001b[0mend\u001b[0m \u001b[0;34m=\u001b[0m \u001b[0;34m' '\u001b[0m\u001b[0;34m)\u001b[0m\u001b[0;34m\u001b[0m\u001b[0;34m\u001b[0m\u001b[0m\n\u001b[1;32m      4\u001b[0m \u001b[0mprint\u001b[0m\u001b[0;34m(\u001b[0m\u001b[0;34m)\u001b[0m\u001b[0;34m\u001b[0m\u001b[0;34m\u001b[0m\u001b[0m\n\u001b[0;32m----> 5\u001b[0;31m \u001b[0mit3\u001b[0m\u001b[0;34m.\u001b[0m\u001b[0m__next__\u001b[0m\u001b[0;34m(\u001b[0m\u001b[0;34m)\u001b[0m\u001b[0;34m\u001b[0m\u001b[0;34m\u001b[0m\u001b[0m\n\u001b[0m\u001b[1;32m      6\u001b[0m \u001b[0;34m\u001b[0m\u001b[0m\n",
      "\u001b[0;31mStopIteration\u001b[0m: "
     ]
    }
   ],
   "source": [
    "it3 = ascii_lowercase.__iter__()\n",
    "for _i in range(26):\n",
    "    print(it3.__next__(), end = ' ')\n",
    "print()\n",
    "it3.__next__()\n",
    "\n"
   ]
  },
  {
   "cell_type": "markdown",
   "metadata": {
    "id": "5mWkL23qNtcC"
   },
   "source": [
    "An empty iterator raises the `StopIteration` exception when `next` is called.\n",
    "Another way to exhaustively enumerate the sequence is to call `list` on it;\n",
    "this creates a list of all the elements in the sequence.  Again the iterator, having been enumerated,\n",
    "raises the `StopIteration` exception if called upon to produce a\n",
    "next element."
   ]
  },
  {
   "cell_type": "code",
   "execution_count": null,
   "metadata": {
    "id": "a53IOYVhNtcC",
    "outputId": "500d1c4a-2ea7-4153-8515-718700c7d85f"
   },
   "outputs": [
    {
     "name": "stdout",
     "output_type": "stream",
     "text": [
      "['a', 'b', 'c', 'd', 'e', 'f', 'g', 'h', 'i', 'j', 'k', 'l', 'm', 'n', 'o', 'p', 'q', 'r', 's', 't', 'u', 'v', 'w', 'x', 'y', 'z']\n",
      "\n",
      "Calling next\n"
     ]
    },
    {
     "ename": "StopIteration",
     "evalue": "",
     "output_type": "error",
     "traceback": [
      "\u001b[0;31m---------------------------------------------------------------------------\u001b[0m",
      "\u001b[0;31mStopIteration\u001b[0m                             Traceback (most recent call last)",
      "\u001b[0;32m<ipython-input-133-ce1fceff7c03>\u001b[0m in \u001b[0;36m<module>\u001b[0;34m\u001b[0m\n\u001b[1;32m      3\u001b[0m \u001b[0mprint\u001b[0m\u001b[0;34m(\u001b[0m\u001b[0;34m)\u001b[0m\u001b[0;34m\u001b[0m\u001b[0;34m\u001b[0m\u001b[0m\n\u001b[1;32m      4\u001b[0m \u001b[0mprint\u001b[0m\u001b[0;34m(\u001b[0m\u001b[0;34m'Calling next'\u001b[0m\u001b[0;34m)\u001b[0m\u001b[0;34m\u001b[0m\u001b[0;34m\u001b[0m\u001b[0m\n\u001b[0;32m----> 5\u001b[0;31m \u001b[0mnext\u001b[0m\u001b[0;34m(\u001b[0m\u001b[0mit4\u001b[0m\u001b[0;34m)\u001b[0m\u001b[0;34m\u001b[0m\u001b[0;34m\u001b[0m\u001b[0m\n\u001b[0m",
      "\u001b[0;31mStopIteration\u001b[0m: "
     ]
    }
   ],
   "source": [
    "it4 = ascii_lowercase.__iter__()\n",
    "print(list(it4))\n",
    "print()\n",
    "print('Calling next')\n",
    "next(it4)"
   ]
  },
  {
   "cell_type": "markdown",
   "metadata": {
    "id": "fJ3-uOzWNtcC"
   },
   "source": [
    "There is no reason why an iterator has to produce a finite sequence.  This is very convenient when an unknown number of values may be needed, all appropriately sequenced."
   ]
  },
  {
   "cell_type": "code",
   "execution_count": null,
   "metadata": {
    "id": "lQ6aL32XNtcC"
   },
   "outputs": [],
   "source": [
    "class Counter:\n",
    "    \n",
    "    def __init__(self, val = -1):\n",
    "        self.val = val\n",
    "\n",
    "    def __next__ (self):\n",
    "        self.val += 1\n",
    "        return self.val\n",
    "\n",
    "    def __iter__ (self):\n",
    "        return self"
   ]
  },
  {
   "cell_type": "code",
   "execution_count": null,
   "metadata": {
    "id": "NQv8Au8yNtcC",
    "outputId": "216d5ade-56c9-494b-d49c-f1cda797a070"
   },
   "outputs": [
    {
     "name": "stdout",
     "output_type": "stream",
     "text": [
      "0\n",
      "1\n",
      "1\n",
      "2\n"
     ]
    }
   ],
   "source": [
    "ctr = Counter()\n",
    "print(next(ctr))\n",
    "print(next(ctr))\n",
    "print(ctr.val)  # Look up val without incrementing\n",
    "print(next(ctr))\n"
   ]
  },
  {
   "cell_type": "markdown",
   "metadata": {
    "id": "vi5BymUZNtcC"
   },
   "source": [
    "Note that the `Counter` instance formally qualifies as an iterator. An instance qualifies as an iterator if implements the right methods, namely `__next__`, and also `__iter__` (which will be discussed below).   This is the so-called **iterator protocol**."
   ]
  },
  {
   "cell_type": "code",
   "execution_count": null,
   "metadata": {
    "id": "6pHMZsV4NtcC"
   },
   "outputs": [],
   "source": [
    "from collections.abc import Iterator\n",
    "isinstance(ctr,Iterator)"
   ]
  },
  {
   "cell_type": "markdown",
   "metadata": {
    "id": "h7ax8zjHNtcD"
   },
   "source": [
    "## Iterables"
   ]
  },
  {
   "cell_type": "markdown",
   "metadata": {
    "id": "4H7ctj-qNtcD"
   },
   "source": [
    "The behavior we illustrated with the string `ascii_string` could have been illustrated with any container: sets, lists, tuples, dictionaries, sets.  All support an `__iter__` method capable of stepping through the elements of the container.  In the case of sequences like lists, strings, and tuples, the elements will be produced in sequence order.  In the case of sets and dictionaries, the order is arbitrary.\n",
    "\n",
    "In fact, the way Python `for`-loops are implemented is with iterators.  Let C be the object we want to loop through. \n",
    "\n",
    "```\n",
    "for x in C:\n",
    "   code line 1\n",
    "   code line 2\n",
    "   ...\n",
    "```\n",
    "\n",
    "Under the hood we call the `__iter__` method of `C` to produce an iterator.  That then is used to reset the  value of the loop variable `x` each time we want to execute the codeblock in the loop.  This means that any object we want to be able to loop through has to support an `__iter__` method.  "
   ]
  },
  {
   "cell_type": "markdown",
   "metadata": {
    "id": "m2DwylHXNtcD"
   },
   "source": [
    "The concept is so important we have a name for it. Objects that support an `__iter__` method are called **Iterables**.  Notice that iterables are not the same thing as iterators.  We illustrated that above\n",
    "in the `ascii_lowercase` example.  There was the iterable string `ascii_lowercase` and there were distinct iterators produced from it, `it1`, `it2`, and `it3`.  Each iterators independently kept track of its own state (`it1` still knows that the next letter it needs to produce is `'f'`).  Once iterated through an iterator is empty and can not be re-used. The iterable `ascii_lowercase` has no state.  It is the alphabet.  We can loop through it as many times as needed."
   ]
  },
  {
   "cell_type": "markdown",
   "metadata": {
    "id": "6Vw-53sQNtcD"
   },
   "source": [
    "A somewhat subtle but important point is that iterators can be looped through too.\n",
    "\n",
    "The idea is that when we are at a certain position in a sequence, we want to compute something that involves looping through the rest of the sequence.\n",
    "\n",
    "For example, we are in the state represented by `it1`, where the next letter is `'f'`, \n",
    "and we want to loop through `'f'` through `'z'`.  We do:"
   ]
  },
  {
   "cell_type": "code",
   "execution_count": null,
   "metadata": {
    "id": "hn2mhUX7NtcD",
    "outputId": "bae4fba7-7c64-4509-f89f-1b8604c82efb"
   },
   "outputs": [
    {
     "name": "stdout",
     "output_type": "stream",
     "text": [
      "f g h i j k l m n o p q r s t u v w x y z "
     ]
    },
    {
     "ename": "StopIteration",
     "evalue": "",
     "output_type": "error",
     "traceback": [
      "\u001b[0;31m---------------------------------------------------------------------------\u001b[0m",
      "\u001b[0;31mStopIteration\u001b[0m                             Traceback (most recent call last)",
      "\u001b[0;32m<ipython-input-114-351f27b9766e>\u001b[0m in \u001b[0;36m<module>\u001b[0;34m\u001b[0m\n\u001b[1;32m      1\u001b[0m \u001b[0;32mfor\u001b[0m \u001b[0mlet\u001b[0m \u001b[0;32min\u001b[0m \u001b[0mit1\u001b[0m\u001b[0;34m:\u001b[0m\u001b[0;34m\u001b[0m\u001b[0;34m\u001b[0m\u001b[0m\n\u001b[1;32m      2\u001b[0m     \u001b[0mprint\u001b[0m\u001b[0;34m(\u001b[0m\u001b[0mlet\u001b[0m\u001b[0;34m,\u001b[0m \u001b[0mend\u001b[0m \u001b[0;34m=\u001b[0m \u001b[0;34m' '\u001b[0m\u001b[0;34m)\u001b[0m\u001b[0;34m\u001b[0m\u001b[0;34m\u001b[0m\u001b[0m\n\u001b[0;32m----> 3\u001b[0;31m \u001b[0mprint\u001b[0m\u001b[0;34m(\u001b[0m\u001b[0mnext\u001b[0m\u001b[0;34m(\u001b[0m\u001b[0mit1\u001b[0m\u001b[0;34m)\u001b[0m\u001b[0;34m)\u001b[0m\u001b[0;34m\u001b[0m\u001b[0;34m\u001b[0m\u001b[0m\n\u001b[0m",
      "\u001b[0;31mStopIteration\u001b[0m: "
     ]
    }
   ],
   "source": [
    "for let in it1:\n",
    "    print(let, end = ' ')\n",
    "print(next(it1))"
   ]
  },
  {
   "cell_type": "markdown",
   "metadata": {
    "id": "wPRK4jG5NtcD"
   },
   "source": [
    "In order to loop through the iterator, an iterator had to be generated to provide values for the loop variable.  Isn't that too many iterators?  Yes, so when the `__iter__`-method of `it1` is called it returns `it1`, and the loop simply steps through all the next states of `it1`.\n",
    "\n",
    "As the final line shows, after being looped through, the iterator is then empty and raises\n",
    "a `StopIteration` error if asked for a next element.\n",
    "\n",
    "We can summarize the discussion thus far as follows:\n",
    "\n",
    "1. An **Iterator** is a state-preserving object that produces the next member of a sequence of values on demand.  In particular,  an iterator produces the next member in the sequence when its `__next__` method is called,  If the last member of the sequence has already been produced, an iterator raises a `StopIteration` exception when `__next__` is called.  \n",
    "2.  An **iterable** is an object that supports an `__iter__` method, which is the same as saying it can be looped through in a `for`-loop.  All containers are iterables.  For containers, each time the `__iter__` method is called, a fresh iterable is created.\n",
    "3. Because iterators support an `__iter__` method, they are iterables too. They may themselves be looped through.  In contrast to containers, the `__iter__` method of an iterator just returns the iterator, and therefore an iterator can be looped through only once."
   ]
  },
  {
   "cell_type": "markdown",
   "metadata": {
    "id": "2A7bNlWXNtcD"
   },
   "source": [
    "We conclude this preliminary discussion by noting that there are other kinds of iterables beside containers.\n",
    "This was shown in our original picture of the Python type hierarchy, displayed again below."
   ]
  },
  {
   "cell_type": "code",
   "execution_count": 1,
   "metadata": {},
   "outputs": [
    {
     "data": {
      "text/html": [
       "<img src=\"http://gawron.sdsu.edu/python_for_ss/course_core/book_draft/_static/python_type_tree.png\" width=\"700\"/>"
      ],
      "text/plain": [
       "<IPython.core.display.Image object>"
      ]
     },
     "execution_count": 1,
     "metadata": {},
     "output_type": "execute_result"
    }
   ],
   "source": [
    "from IPython.display import Image, IFrame, display, HTML\n",
    "Image(url=\"http://gawron.sdsu.edu/python_for_ss/course_core/book_draft/_static/python_type_tree.png\",width=700)"
   ]
  },
  {
   "cell_type": "markdown",
   "metadata": {
    "id": "RDA7cV-LNtcE"
   },
   "source": [
    "The picture shows probably the most important case of non-container iterables, input-output streams such as file streams, but it leaves many other instances out. \n",
    "\n",
    "Among the standard Python iterables not shown are iterators such as the container\n",
    "-generated iterators discussed above, and `zip` and `enumerate`\n",
    "instances.  We discuss these below."
   ]
  },
  {
   "cell_type": "markdown",
   "metadata": {
    "id": "-RPn8BFiNtcE"
   },
   "source": [
    "## Relationship of iterables to their iterators"
   ]
  },
  {
   "cell_type": "markdown",
   "metadata": {
    "id": "H6PIvA6ONtcE"
   },
   "source": [
    "In general, iterators will lack or significantly alter many of properties of the iterables they are derived from.  For example all containers are iterables that have a length and support the `in` test.  Their iterators either do not or exhibit somewhat surprising state-changing behavior."
   ]
  },
  {
   "cell_type": "code",
   "execution_count": null,
   "metadata": {
    "id": "JbSFLCKLNtcE",
    "outputId": "f197c321-cd6d-46d1-9a36-fdd42248fc62"
   },
   "outputs": [
    {
     "ename": "TypeError",
     "evalue": "object of type 'str_iterator' has no len()",
     "output_type": "error",
     "traceback": [
      "\u001b[0;31m---------------------------------------------------------------------------\u001b[0m",
      "\u001b[0;31mTypeError\u001b[0m                                 Traceback (most recent call last)",
      "\u001b[0;32m<ipython-input-149-f3702dcbcb42>\u001b[0m in \u001b[0;36m<module>\u001b[0;34m\u001b[0m\n\u001b[0;32m----> 1\u001b[0;31m \u001b[0mprint\u001b[0m\u001b[0;34m(\u001b[0m\u001b[0mlen\u001b[0m\u001b[0;34m(\u001b[0m\u001b[0mit1\u001b[0m\u001b[0;34m)\u001b[0m\u001b[0;34m)\u001b[0m\u001b[0;34m\u001b[0m\u001b[0;34m\u001b[0m\u001b[0m\n\u001b[0m",
      "\u001b[0;31mTypeError\u001b[0m: object of type 'str_iterator' has no len()"
     ]
    }
   ],
   "source": [
    "print(len(it1))"
   ]
  },
  {
   "cell_type": "code",
   "execution_count": null,
   "metadata": {
    "id": "rv71-oAuNtcE",
    "outputId": "bf492771-eab6-483a-af2c-6f541613b63e",
    "scrolled": false
   },
   "outputs": [
    {
     "name": "stdout",
     "output_type": "stream",
     "text": [
      "True\n"
     ]
    },
    {
     "data": {
      "text/plain": [
       "'y'"
      ]
     },
     "execution_count": 79,
     "metadata": {},
     "output_type": "execute_result"
    }
   ],
   "source": [
    "it6 = ascii_lowercase.__iter__()\n",
    "for let in 'abcdef':\n",
    "    it6.__next__()\n",
    "print('x' in it6)\n",
    "next(it6)"
   ]
  },
  {
   "cell_type": "markdown",
   "metadata": {
    "id": "2GdT3VqbNtcE"
   },
   "source": [
    "What is going on in the `in` case  is that, under the hood, the test requires an iteration through the\n",
    "iterator which is interrupted when the requested element is found.  Hence the next call to `next` produces `'y'`. This also means that when an `in` test is `False`, the iterator is exhausted."
   ]
  },
  {
   "cell_type": "code",
   "execution_count": null,
   "metadata": {
    "id": "h6js-vw9NtcE",
    "outputId": "12ee5824-95dc-41ad-e728-f3c35197622f"
   },
   "outputs": [
    {
     "name": "stdout",
     "output_type": "stream",
     "text": [
      "False\n"
     ]
    },
    {
     "ename": "StopIteration",
     "evalue": "",
     "output_type": "error",
     "traceback": [
      "\u001b[0;31m---------------------------------------------------------------------------\u001b[0m",
      "\u001b[0;31mStopIteration\u001b[0m                             Traceback (most recent call last)",
      "\u001b[0;32m<ipython-input-100-adf08325421c>\u001b[0m in \u001b[0;36m<module>\u001b[0;34m\u001b[0m\n\u001b[1;32m      1\u001b[0m \u001b[0mprint\u001b[0m\u001b[0;34m(\u001b[0m\u001b[0;34m'aa'\u001b[0m \u001b[0;32min\u001b[0m \u001b[0mit6\u001b[0m\u001b[0;34m)\u001b[0m\u001b[0;34m\u001b[0m\u001b[0;34m\u001b[0m\u001b[0m\n\u001b[0;32m----> 2\u001b[0;31m \u001b[0mnext\u001b[0m\u001b[0;34m(\u001b[0m\u001b[0mit6\u001b[0m\u001b[0;34m)\u001b[0m\u001b[0;34m\u001b[0m\u001b[0;34m\u001b[0m\u001b[0m\n\u001b[0m",
      "\u001b[0;31mStopIteration\u001b[0m: "
     ]
    }
   ],
   "source": [
    "print('aa' in it6)\n",
    "next(it6)"
   ]
  },
  {
   "cell_type": "markdown",
   "metadata": {
    "id": "1xHiV_GNNtcE"
   },
   "source": [
    "The general moral here is that when using iterators explicitly in code (as opposed to the implicit iterators of a `for`-loop) one must take into account any operations that will change the state of the iterator."
   ]
  },
  {
   "cell_type": "markdown",
   "metadata": {
    "id": "GSfI4TKHNtcE"
   },
   "source": [
    "#### Special facts about dictionary iterators"
   ]
  },
  {
   "cell_type": "markdown",
   "metadata": {
    "id": "uEKiYN7lNtcE"
   },
   "source": [
    "Some iterables logically connect to more than one kind of iterator. In the case of dictionaries, for example, one may want to loop through the keys, the values, or paired keys and values. Of course, only of these ways of\n",
    "looping can be the definition of a dictionary's `__iter__` method.  Python chooses to let looping through\n",
    "keys be the definition of a dictionary's `__iter__` method, consistent with how `in` is defined for dictionaries, and to define separate container types for dictionary keys, dictionary values, and key-value pairs.  "
   ]
  },
  {
   "cell_type": "code",
   "execution_count": null,
   "metadata": {
    "id": "pwR0Cg3xNtcE",
    "outputId": "d2c1588a-7e20-45f4-b449-ff5e689e0548"
   },
   "outputs": [
    {
     "name": "stdout",
     "output_type": "stream",
     "text": [
      "a True b True c True d True e True f True g True h True i True j True k True l True m True n True o True p True q True r True s True t True u True v True w True x True y True z True \n",
      "\n",
      "<class 'dict_keys'> <class 'dict_values'> <class 'dict_items'>\n",
      "False False False\n",
      "\n",
      "26 26 26\n",
      "True True True\n"
     ]
    }
   ],
   "source": [
    "from collections.abc import Iterator\n",
    "dd = dict(zip(ascii_lowercase, range(26)))\n",
    "for l in dd:\n",
    "    print(l, l in dd, end = ' ')\n",
    "print()\n",
    "print()\n",
    "dd_k,dd_v,dd_i = dd.keys(),dd.values(),dd.items()\n",
    "print(type(dd_k),type(dd_v), type(dd_i))\n",
    "print(isinstance(dd_k,Iterator),isinstance(dd_v,Iterator),isinstance(dd_i,Iterator))\n",
    "print()\n",
    "print(len(dd_k),len(dd_v), len(dd_i))\n",
    "print('a' in dd_k, 0 in dd_v, ('a',0) in dd_i)"
   ]
  },
  {
   "cell_type": "markdown",
   "metadata": {
    "id": "SVxW-KlaNtcE"
   },
   "source": [
    "Each of these types can be looped through, meaning each supports its own `__iter__` method."
   ]
  },
  {
   "cell_type": "code",
   "execution_count": null,
   "metadata": {
    "id": "-z70T4sXNtcE",
    "outputId": "4cec9909-9a0e-4ffd-bf85-2dcee632b7e9",
    "scrolled": true
   },
   "outputs": [
    {
     "name": "stdout",
     "output_type": "stream",
     "text": [
      "a b c d e f g h i j k l m n o p q r s t u v w x y z \n",
      "a b c d e f g h i j k l m n o p q r s t u v w x y z \n",
      "0 1 2 3 4 5 6 7 8 9 10 11 12 13 14 15 16 17 18 19 20 21 22 23 24 25 \n",
      "a 0  b 1  c 2  d 3  e 4  f 5  g 6  h 7  i 8  j 9  k 10  l 11  m 12  n 13  o 14  p 15  q 16  r 17  s 18  t 19  u 20  v 21  w 22  x 23  y 24  z 25  \n"
     ]
    }
   ],
   "source": [
    "# Loop through the dict_keys instances once\n",
    "for l in dd_k:\n",
    "    print(l, end = ' ')\n",
    "print()\n",
    "# Loop through dd_k a second time\n",
    "for l in dd_k:\n",
    "    print(l, end = ' ')\n",
    "print()\n",
    "# loop through the dict_values instance\n",
    "for v in dd_v:\n",
    "    print(v, end = ' ')\n",
    "print()\n",
    "# loop through the dict_items instance\n",
    "for (k,v) in dd_i:\n",
    "    print(k, v, end = '  ')\n",
    "print()"
   ]
  },
  {
   "cell_type": "markdown",
   "metadata": {
    "id": "Op_U0XRJNtcE"
   },
   "source": [
    "Importantly, these dictionary-derived container types are not themselves iterators.  They support no notion of state.  Thus as illustrated above with the `dict_keys` object, the same same `dict_keys` instance can be looped\n",
    "through multiple times.  \n",
    "\n",
    "Like the basic Python container types they support looping by having an `__iter__` method that creates a fresh\n",
    "iterator each time they are looped through."
   ]
  },
  {
   "cell_type": "markdown",
   "metadata": {
    "id": "w-rEJab6NtcF"
   },
   "source": [
    "An important motivation for having these special dictionary-derived containers is that they are **views** of the original dictionary.  That is, they represent the same data, and when the dictionary changes, they change."
   ]
  },
  {
   "cell_type": "code",
   "execution_count": null,
   "metadata": {
    "id": "HicnnHqTNtcF",
    "outputId": "6f7b4406-42ea-4250-a5e8-924a2408a068"
   },
   "outputs": [
    {
     "name": "stdout",
     "output_type": "stream",
     "text": [
      "dict_keys(['a', 'b', 'c', 'd', 'e', 'f', 'g', 'h', 'i', 'j', 'k', 'l', 'm', 'n', 'o', 'p', 'q', 'r', 's', 't', 'u', 'v', 'w', 'x', 'y', 'z', 'aa'])\n",
      "dict_values([0, 1, 2, 3, 4, 5, 6, 7, 8, 9, 10, 11, 12, 13, 14, 15, 16, 17, 18, 19, 20, 21, 22, 23, 24, 25, 100])\n",
      "dict_items([('a', 0), ('b', 1), ('c', 2), ('d', 3), ('e', 4), ('f', 5), ('g', 6), ('h', 7), ('i', 8), ('j', 9), ('k', 10), ('l', 11), ('m', 12), ('n', 13), ('o', 14), ('p', 15), ('q', 16), ('r', 17), ('s', 18), ('t', 19), ('u', 20), ('v', 21), ('w', 22), ('x', 23), ('y', 24), ('z', 25), ('aa', 100)])\n"
     ]
    }
   ],
   "source": [
    "dd['aa'] = 100\n",
    "print(dd_k)\n",
    "print(dd_v)\n",
    "print(dd_i)"
   ]
  },
  {
   "cell_type": "markdown",
   "metadata": {
    "id": "_EuKFmSPNtcF"
   },
   "source": [
    "Finally, note that the iterator of a dictionary is no longer usable if the dictionary changes size after the iterator was created.  This is essentially because a dictionary is a set of key value pairs, and if the underlying set has been changed, all bets are off on what `next` should mean."
   ]
  },
  {
   "cell_type": "code",
   "execution_count": null,
   "metadata": {
    "id": "Lfotv584NtcF",
    "outputId": "8e65f53d-8301-4f02-f9c3-4ba19e5004d2"
   },
   "outputs": [
    {
     "ename": "RuntimeError",
     "evalue": "dictionary changed size during iteration",
     "output_type": "error",
     "traceback": [
      "\u001b[0;31m---------------------------------------------------------------------------\u001b[0m",
      "\u001b[0;31mRuntimeError\u001b[0m                              Traceback (most recent call last)",
      "\u001b[0;32m<ipython-input-108-ce6bd9684873>\u001b[0m in \u001b[0;36m<module>\u001b[0;34m\u001b[0m\n\u001b[1;32m      1\u001b[0m \u001b[0mit200\u001b[0m \u001b[0;34m=\u001b[0m \u001b[0mdd\u001b[0m\u001b[0;34m.\u001b[0m\u001b[0m__iter__\u001b[0m\u001b[0;34m(\u001b[0m\u001b[0;34m)\u001b[0m\u001b[0;34m\u001b[0m\u001b[0;34m\u001b[0m\u001b[0m\n\u001b[1;32m      2\u001b[0m \u001b[0mdd\u001b[0m\u001b[0;34m[\u001b[0m\u001b[0;34m'bb'\u001b[0m\u001b[0;34m]\u001b[0m \u001b[0;34m=\u001b[0m \u001b[0;36m200\u001b[0m\u001b[0;34m\u001b[0m\u001b[0;34m\u001b[0m\u001b[0m\n\u001b[0;32m----> 3\u001b[0;31m \u001b[0mnext\u001b[0m\u001b[0;34m(\u001b[0m\u001b[0mit200\u001b[0m\u001b[0;34m)\u001b[0m\u001b[0;34m\u001b[0m\u001b[0;34m\u001b[0m\u001b[0m\n\u001b[0m",
      "\u001b[0;31mRuntimeError\u001b[0m: dictionary changed size during iteration"
     ]
    }
   ],
   "source": [
    "it200 = dd.__iter__()\n",
    "dd['bb'] = 200\n",
    "next(it200)"
   ]
  },
  {
   "cell_type": "markdown",
   "metadata": {
    "id": "qvXHTp5hNtcF"
   },
   "source": [
    "This is the same error will be raised if a dictionary's size changes while looping through it."
   ]
  },
  {
   "cell_type": "code",
   "execution_count": null,
   "metadata": {
    "id": "Q_gw_0tUNtcF",
    "outputId": "d139e01f-15a9-47ea-b5eb-89e8db79d877"
   },
   "outputs": [
    {
     "ename": "RuntimeError",
     "evalue": "dictionary changed size during iteration",
     "output_type": "error",
     "traceback": [
      "\u001b[0;31m---------------------------------------------------------------------------\u001b[0m",
      "\u001b[0;31mRuntimeError\u001b[0m                              Traceback (most recent call last)",
      "\u001b[0;32m<ipython-input-109-3a153c74e271>\u001b[0m in \u001b[0;36m<module>\u001b[0;34m\u001b[0m\n\u001b[0;32m----> 1\u001b[0;31m \u001b[0;32mfor\u001b[0m \u001b[0mk\u001b[0m \u001b[0;32min\u001b[0m \u001b[0mdd\u001b[0m\u001b[0;34m:\u001b[0m\u001b[0;34m\u001b[0m\u001b[0;34m\u001b[0m\u001b[0m\n\u001b[0m\u001b[1;32m      2\u001b[0m     \u001b[0mdd\u001b[0m\u001b[0;34m[\u001b[0m\u001b[0mk\u001b[0m\u001b[0;34m+\u001b[0m\u001b[0mk\u001b[0m\u001b[0;34m]\u001b[0m \u001b[0;34m=\u001b[0m \u001b[0;36m100\u001b[0m \u001b[0;34m*\u001b[0m \u001b[0mdd\u001b[0m\u001b[0;34m[\u001b[0m\u001b[0mk\u001b[0m\u001b[0;34m]\u001b[0m\u001b[0;34m\u001b[0m\u001b[0;34m\u001b[0m\u001b[0m\n",
      "\u001b[0;31mRuntimeError\u001b[0m: dictionary changed size during iteration"
     ]
    }
   ],
   "source": [
    "for k in dd:\n",
    "    dd[k+k] = 100 * dd[k]"
   ]
  },
  {
   "cell_type": "markdown",
   "metadata": {
    "id": "9v-LAzp2NtcF"
   },
   "source": [
    "Because the dictionary derived containers are views of the same data, they will raise the same\n",
    "error if the original dictionary size changes during looping:"
   ]
  },
  {
   "cell_type": "code",
   "execution_count": null,
   "metadata": {
    "id": "d7C8zlBGNtcF",
    "outputId": "3b1d6aa5-45c6-489b-c027-6709d88dce95"
   },
   "outputs": [
    {
     "ename": "RuntimeError",
     "evalue": "dictionary changed size during iteration",
     "output_type": "error",
     "traceback": [
      "\u001b[0;31m---------------------------------------------------------------------------\u001b[0m",
      "\u001b[0;31mRuntimeError\u001b[0m                              Traceback (most recent call last)",
      "\u001b[0;32m<ipython-input-111-b5378f113963>\u001b[0m in \u001b[0;36m<module>\u001b[0;34m\u001b[0m\n\u001b[1;32m      1\u001b[0m \u001b[0;31m# Looping the keys object\u001b[0m\u001b[0;34m\u001b[0m\u001b[0;34m\u001b[0m\u001b[0;34m\u001b[0m\u001b[0m\n\u001b[0;32m----> 2\u001b[0;31m \u001b[0;32mfor\u001b[0m \u001b[0mk\u001b[0m \u001b[0;32min\u001b[0m \u001b[0mdd_k\u001b[0m\u001b[0;34m:\u001b[0m\u001b[0;34m\u001b[0m\u001b[0;34m\u001b[0m\u001b[0m\n\u001b[0m\u001b[1;32m      3\u001b[0m     \u001b[0mdd\u001b[0m\u001b[0;34m[\u001b[0m\u001b[0mk\u001b[0m\u001b[0;34m+\u001b[0m\u001b[0mk\u001b[0m\u001b[0;34m]\u001b[0m \u001b[0;34m=\u001b[0m \u001b[0;36m100\u001b[0m \u001b[0;34m*\u001b[0m \u001b[0mdd\u001b[0m\u001b[0;34m[\u001b[0m\u001b[0mk\u001b[0m\u001b[0;34m]\u001b[0m\u001b[0;34m\u001b[0m\u001b[0;34m\u001b[0m\u001b[0m\n",
      "\u001b[0;31mRuntimeError\u001b[0m: dictionary changed size during iteration"
     ]
    }
   ],
   "source": [
    "# Looping the keys object\n",
    "for k in dd_k:\n",
    "    dd[k+k] = 100 * dd[k]"
   ]
  },
  {
   "cell_type": "markdown",
   "metadata": {
    "id": "fLb5hxOTNtcF"
   },
   "source": [
    "The moral here: don't do this.  \n",
    "\n",
    "Size-changing updates of a dictionary can be done other ways, for example through the `update` method, or by a loop that doesn't loop through the dictionary or a derived container, but some copy."
   ]
  },
  {
   "cell_type": "markdown",
   "metadata": {
    "id": "CJuZLU4gNtcF"
   },
   "source": [
    "## Generators"
   ]
  },
  {
   "cell_type": "markdown",
   "metadata": {
    "id": "yWnxLwrYNtcF"
   },
   "source": [
    "We are now ready to discuss **generators**.  \n",
    "\n",
    "Generators are a special case of iterators distinguished by how they are created.  There are two\n",
    "principle ways of creating a generator:\n",
    "\n",
    "1.  A generator can be created by calling a function which contains a `yield` statement.\n",
    "2.  A generator can be created by a **generator expression**, which is a generalization of a list comprehension.\n",
    "\n",
    "For simplicity, we illustrate with the `ascii_lowercase` example.  We describe a more compelling use case below."
   ]
  },
  {
   "cell_type": "code",
   "execution_count": null,
   "metadata": {
    "id": "PD2rTbF5NtcF",
    "outputId": "e9062c4d-84b6-4d55-f841-dd3be31cd92d"
   },
   "outputs": [
    {
     "name": "stdout",
     "output_type": "stream",
     "text": [
      "<generator object get_elem_generator at 0x7fbd998bd040> <class 'generator'>\n",
      "\n",
      "a <class 'str'>\n",
      "\n",
      "Is a generator an iterator? True\n",
      "next(let_generator): a\n",
      "next(let_generator): b\n",
      "next(let_generator): c\n",
      "\n",
      "Make a string from the generator: defghijklmnopqrstuvwxyz\n",
      "\n",
      "next(let_generator): ***Error*** (StopIteration)\n"
     ]
    }
   ],
   "source": [
    "from string import ascii_lowercase\n",
    "from collections.abc import Iterator\n",
    "\n",
    "def get_elem_generator (seq):\n",
    "    for x in seq:\n",
    "        yield x\n",
    "\n",
    "def get_elem_function (seq):\n",
    "    for x in seq:\n",
    "        return x\n",
    " \n",
    "\n",
    "let_generator = get_elem_generator(ascii_lowercase)\n",
    "print(let_generator, type(let_generator))\n",
    "print()\n",
    "X = get_elem_function(ascii_lowercase)\n",
    "print(X, type(X))\n",
    "print()\n",
    "print(f'Is a generator an iterator? {isinstance(let_generator, Iterator)}')\n",
    "print(f'next(let_generator): {next(let_generator)}')\n",
    "print(f'next(let_generator): {next(let_generator)}')\n",
    "print(f'next(let_generator): {next(let_generator)}')\n",
    "print()\n",
    "print(f\"Make a string from the generator: {''.join(list(let_generator))}\")\n",
    "print()\n",
    "try:\n",
    "  print(next(let_generator))\n",
    "except StopIteration as e:\n",
    "  print(f'next(let_generator): ***Error*** (StopIteration)')"
   ]
  },
  {
   "cell_type": "markdown",
   "metadata": {
    "id": "XvGz2Tc3NtcF"
   },
   "source": [
    "We see that that the value obtained by calling the function defined with `return` is a single character,\n",
    "while the value obtained  by calling the function defined with `yield` produces a `generator` instance,\n",
    "`let_generator`.  We can then call the `next` function on `let_generator` to produce successive letters of the alphabet.  "
   ]
  },
  {
   "cell_type": "markdown",
   "metadata": {
    "id": "sRyHCyJSNtcF"
   },
   "source": [
    "The problem with the example above is that much of the appeal of using a generator to produce the elements of\n",
    "a sequence is lost when the entire sequence is already in memory, as is the case with the string `ascii_lowercase`\n",
    "\n",
    "A better use-case for a generator is looping through the contents of a **very** large file, say a Wikipedia dump,\n",
    "or a Google ngram dump.  In this caae we might very well want to write a function like the following:\n",
    "\n",
    "```\n",
    "def read_very_large_file (file_path):\n",
    "    with open(file_path, 'r') as fh:\n",
    "        for line in fh:\n",
    "            yield line\n",
    "\n",
    "reader = read_very_large_file('googleplex.txt')\n",
    "```\n",
    "\n",
    "`reader` is now a generator that generates the file line by line.\n",
    "Here are the first 1000 lines (a mere scratch on the surface of this\n",
    "monstrous stream):\n",
    "\n",
    "```\n",
    "first_1000_lines = [next(reader) for _ in range(1000)]\n",
    "```\n",
    "\n",
    "Do some computing, have lunch, return, and do:\n",
    "\n",
    "```\n",
    "second_1000_lines = [next(reader) for _ in range(1000)]\n",
    "```\n",
    "\n",
    "and that is the second 1000 lines.  Want to sample from the middle?\n",
    "\n",
    "```\n",
    "elsewhere_1000_lines = [line for i in range(100001) if (line:=next(reader)) and i > 99000]\n",
    "```\n",
    "\n",
    "Note that executing the above code positions the generator at line 100,001, and from now sampling with this generator starts from there."
   ]
  },
  {
   "cell_type": "markdown",
   "metadata": {
    "id": "dF-siv5ANtcF"
   },
   "source": [
    "I tested the above code by executing the following cell, which you can test by finding a suitably large local file to use."
   ]
  },
  {
   "cell_type": "code",
   "execution_count": null,
   "metadata": {
    "id": "Hqr9_UUNNtcF",
    "outputId": "db82bfd7-c0d4-4bcc-e91b-6baa2b4c3edd",
    "scrolled": true
   },
   "outputs": [
    {
     "name": "stdout",
     "output_type": "stream",
     "text": [
      "<generator object read_very_large_file at 0x7fbd998bd900>\n",
      "1000 Race and Racism\n",
      "\n",
      "\n",
      "1000 Over the last year we have moved therefore from care support to urgent training of Romanian people who can then become effective educators .\n",
      "\n",
      "1000 The powerful balance of these figure compositions is highlighted when they are transposed into tubes and sheets of metal .\n",
      "\n"
     ]
    }
   ],
   "source": [
    "\n",
    "def read_very_large_file (file_path):\n",
    "    with open(file_path, 'r') as fh:\n",
    "        for line in fh:\n",
    "            yield line\n",
    "\n",
    "# Call the generator function on a file.\n",
    "file_path = '/Users/gawron/ext/corpus/bnc/written.txt'\n",
    "reader = read_very_large_file(file_path)\n",
    "print(reader)\n",
    "\n",
    "## Read and check first 2000 lines \n",
    "first_1000_lines = [next(reader) for _ in range(1000)]\n",
    "second_1000_lines = [next(reader) for _ in range(1000)]\n",
    "print(len(first_1000_lines),first_1000_lines[100])\n",
    "print()\n",
    "print(len(second_1000_lines),second_1000_lines[100])\n",
    "\n",
    "## Read the chunk from the middle and check\n",
    "elsewhere_1000_lines = [line for i in range(100001) if (line:=next(reader)) and i > 99000]\n",
    "print(len(elsewhere_1000_lines),elsewhere_1000_lines[100])"
   ]
  },
  {
   "cell_type": "markdown",
   "metadata": {
    "id": "nCQM_yYXNtcF"
   },
   "source": [
    "Everything done above can also be done with generator expressions, which are written like list-comprehensions, but enclosed in parentheses instead of square  brackets.\n",
    "\n",
    "The code is somewhat shorter and has much to recommend it."
   ]
  },
  {
   "cell_type": "code",
   "execution_count": null,
   "metadata": {
    "id": "BlfUdmN_NtcF",
    "outputId": "cfc7efee-fa58-4aeb-9c60-f16040f7bc99"
   },
   "outputs": [
    {
     "data": {
      "text/plain": [
       "<generator object <genexpr> at 0x7fbd99989c80>"
      ]
     },
     "execution_count": 136,
     "metadata": {},
     "output_type": "execute_result"
    }
   ],
   "source": [
    "# Replaces defining [and executing] `read_very_large_file`\n",
    "reader = (line for line in open(file_path,'r'))\n",
    "reader"
   ]
  },
  {
   "cell_type": "markdown",
   "metadata": {
    "id": "_PfKcZNNNtcF"
   },
   "source": [
    "Now, as before, we can use the generator we just created for whatever number of steps meets our needs,\n",
    "in a list comprehension."
   ]
  },
  {
   "cell_type": "code",
   "execution_count": null,
   "metadata": {
    "id": "rsv4ShuTNtcF",
    "outputId": "be2c1329-5a22-42fa-8088-edf2fc95649c"
   },
   "outputs": [
    {
     "name": "stdout",
     "output_type": "stream",
     "text": [
      "1000 Race and Racism\n",
      "\n",
      "\n",
      "1000 Over the last year we have moved therefore from care support to urgent training of Romanian people who can then become effective educators .\n",
      "\n",
      "1000 The powerful balance of these figure compositions is highlighted when they are transposed into tubes and sheets of metal .\n",
      "\n"
     ]
    }
   ],
   "source": [
    "first_1000_lines = [next(reader) for _ in range(1000)]\n",
    "second_1000_lines = [next(reader) for _ in range(1000)]\n",
    "## Check out results thus far\n",
    "print(len(first_1000_lines),first_1000_lines[100])\n",
    "print()\n",
    "print(len(second_1000_lines),second_1000_lines[100])\n",
    "\n",
    "## Do the chunk from the middle and check\n",
    "elsewhere_1000_lines = [line for i in range(100001) if (line:=next(reader)) and i > 99000]\n",
    "print(len(elsewhere_1000_lines),elsewhere_1000_lines[100])"
   ]
  },
  {
   "cell_type": "markdown",
   "metadata": {
    "id": "G9Brrnm8NtcG"
   },
   "source": [
    "The choice between writing a generator function and a generator expression is a little like the choice between a `for`-loop and a list comprehension.  A generator function definition is more flexible.  \n",
    "\n",
    "But the generator expression is often far more convenient."
   ]
  },
  {
   "cell_type": "markdown",
   "metadata": {
    "id": "s82yWQY6NtcG"
   },
   "source": [
    "## Zip, enumerate, and range"
   ]
  },
  {
   "cell_type": "markdown",
   "metadata": {
    "id": "44ZtG4pMNtcG"
   },
   "source": [
    "We turn to some important examples of builtin Python iterators and iterables not discussed above --- and one important non-example --- namely\n",
    "`zip` instances, `enumerate` instances, and `range` instances.  The first two are iterators; the third, while similar in many respects to the first two, is not an iterator.   This discussion assumes you \n",
    "you basically know about the operation of `zip`, `enumerate`, and `range`.\n",
    "\n",
    "`zip`, `enumerate`, and `range` instances are created by calling the respective Python functions:"
   ]
  },
  {
   "cell_type": "code",
   "execution_count": null,
   "metadata": {
    "id": "AU4jox50NtcG",
    "outputId": "f5f1fa0d-36c1-4702-a640-119b7ee216de"
   },
   "outputs": [
    {
     "name": "stdout",
     "output_type": "stream",
     "text": [
      "range(4, 20, 2) <zip object at 0x7ff46882a388> <enumerate object at 0x7ff467fd6c60>\n",
      "\n",
      "Enumerate contents\n",
      "R:  [4, 6, 8, 10, 12, 14, 16, 18]\n",
      "Z:  [('a', 0), ('b', 1), ('c', 2), ('d', 3), ('e', 4)]\n",
      "E:  [(0, 'a'), (1, 'b'), (2, 'c'), (3, 'd'), (4, 'e')]\n"
     ]
    }
   ],
   "source": [
    "R,Z,E = range(4,20,2), zip('abcde',range(5)), enumerate('abcde')\n",
    "print(R,Z,E)\n",
    "print()\n",
    "print('Enumerate contents')\n",
    "print('R: ', list(R))\n",
    "print('Z: ', list(Z))\n",
    "print('E: ', list(E))"
   ]
  },
  {
   "cell_type": "markdown",
   "metadata": {
    "id": "junY1hr8NtcG"
   },
   "source": [
    "In each case we have sequential information which can be enumerated on demand and is not computed until a demand is made.  We created such a demand above by calling `list`."
   ]
  },
  {
   "cell_type": "markdown",
   "metadata": {
    "id": "kP3uIUMDNtcG"
   },
   "source": [
    "We illustrate the basic memory saving with a `range` instance.\n",
    "Like `zip` and `enumerate` objects, a `range` object does not immediately expand the entire sequence it represents into memory.  A range with 1 million elements has the same size as a range 100,000 elements."
   ]
  },
  {
   "cell_type": "code",
   "execution_count": null,
   "metadata": {
    "id": "LSrBPT1QNtcG",
    "outputId": "7c088846-848c-4e0e-916d-a1882edf896f"
   },
   "outputs": [
    {
     "name": "stdout",
     "output_type": "stream",
     "text": [
      "  100,000 integers List size:   800,056 Range size: 48\n",
      "1,000,000 integers List size: 8,000,056 Range size: 48\n",
      "\n"
     ]
    }
   ],
   "source": [
    "import sys\n",
    "N = 100000\n",
    "R = range(N)\n",
    "L = list(R)\n",
    "\n",
    "print(f'{N:9,} integers List size: {sys.getsizeof(L):9,} Range size: {sys.getsizeof(R)}')\n",
    "\n",
    "N = 1000000\n",
    "R = range(N)\n",
    "L = list(R)\n",
    "\n",
    "print(f'{N:9,} integers List size: {sys.getsizeof(L):9,} Range size: {sys.getsizeof(R)}')\n",
    "print()\n",
    "R,Z,E = range(4,20,2), zip('abcde',range(5)), enumerate('abcde')\n",
    "\n"
   ]
  },
  {
   "cell_type": "markdown",
   "metadata": {
    "id": "ECNw0mGzNtcG"
   },
   "source": [
    "However, the `range` object is not quite like the other two.  For one thing, it supports indexing\n",
    "and `len`.  For many purposes, it behaves exactly like a list while being\n",
    "more memory efficient. \n",
    "\n",
    "We illustrate:"
   ]
  },
  {
   "cell_type": "code",
   "execution_count": null,
   "metadata": {
    "id": "kFgF-LSDNtcG",
    "outputId": "61f2115a-2f9d-401d-921b-3acb6d344dfe"
   },
   "outputs": [
    {
     "name": "stdout",
     "output_type": "stream",
     "text": [
      "Range, Zip, Enumerator Iterators?\n",
      "[False, True, True]\n",
      "\n",
      "Demoing len, integer-index access for range\n",
      "8 14\n",
      "\n",
      "Demoing len zip obj\n",
      "**Type Error**:  object of type 'zip' has no len()\n",
      "Demoing index zip obj\n",
      "**Type Error**:  'zip' object is not subscriptable\n",
      "\n",
      "Demoing len enumerate obj\n",
      "**Type Error**:  object of type 'enumerate' has no len()\n",
      "Demoing index enumerate obj\n",
      "**Type Error**:  'enumerate' object is not subscriptable\n"
     ]
    }
   ],
   "source": [
    "from collections.abc import Iterator\n",
    "R,Z,E = range(4,20,2), zip('abcde',range(5)), enumerate('abcde')\n",
    "print('Range, Zip, Enumerator Iterators?')\n",
    "print([isinstance(x, Iterator) for x in (R,Z,E)])\n",
    "print()\n",
    "print('Demoing len, integer-index access for range')\n",
    "print(len(R), R[-3])\n",
    "print()\n",
    "print('Demoing len zip obj')\n",
    "try:\n",
    "    len(Z)\n",
    "except TypeError as e:\n",
    "    print('**Type Error**: ', e)\n",
    "print('Demoing index zip obj')\n",
    "try:\n",
    "    Z[0]\n",
    "except TypeError as e:\n",
    "    print('**Type Error**: ', e)\n",
    "print()\n",
    "print('Demoing len enumerate obj')\n",
    "try:\n",
    "    len(E)\n",
    "except TypeError as e:\n",
    "    print('**Type Error**: ', e)\n",
    "print('Demoing index enumerate obj')\n",
    "try:\n",
    "    E[0]\n",
    "except TypeError as e:\n",
    "    print('**Type Error**: ', e)"
   ]
  },
  {
   "cell_type": "markdown",
   "metadata": {
    "id": "RZNG1ksqNtcG"
   },
   "source": [
    "Unlike the other iterators, the range instance can also be looped through more than once."
   ]
  },
  {
   "cell_type": "code",
   "execution_count": null,
   "metadata": {
    "id": "M1TAyZkjNtcG",
    "outputId": "3811d32a-e48b-4c5a-9c61-c25ac9be6747"
   },
   "outputs": [
    {
     "name": "stdout",
     "output_type": "stream",
     "text": [
      "Iterate on Zip obj try 1\n",
      "a 0\n",
      "b 1\n",
      "c 2\n",
      "d 3\n",
      "e 4\n",
      "Iterate on Zip obj try 2\n",
      "Iterate on enumerate obj try 1\n",
      "0 a\n",
      "1 b\n",
      "2 c\n",
      "3 d\n",
      "4 e\n",
      "Iterate on enumerate obj try 2\n",
      "Iterate on range obj try 1\n",
      "4\n",
      "6\n",
      "8\n",
      "10\n",
      "12\n",
      "14\n",
      "16\n",
      "18\n",
      "Iterate on range obj try 2\n",
      "4\n",
      "6\n",
      "8\n",
      "10\n",
      "12\n",
      "14\n",
      "16\n",
      "18\n"
     ]
    }
   ],
   "source": [
    "print('Iterate on Zip obj try 1')\n",
    "for (let,num) in Z:\n",
    "    print(let,num)\n",
    "print('Iterate on Zip obj try 2')  \n",
    "for (let,num) in Z:\n",
    "    print(let,num)\n",
    "print('Iterate on enumerate obj try 1')    \n",
    "for (i,let) in E:\n",
    "    print(i,let)\n",
    "print('Iterate on enumerate obj try 2')    \n",
    "for (i,let) in E:\n",
    "    print(i,let)\n",
    "print('Iterate on range obj try 1')    \n",
    "for i in R:\n",
    "    print(i)\n",
    "print('Iterate on range obj try 2')   \n",
    "for i in R:\n",
    "    print(i)"
   ]
  },
  {
   "cell_type": "markdown",
   "metadata": {
    "id": "uTDf5H7dNtcG"
   },
   "source": [
    "Consistent with the idea of allowing multiple iterations and being an indexable sequence, there is no notion of state:"
   ]
  },
  {
   "cell_type": "code",
   "execution_count": null,
   "metadata": {
    "id": "WQqaqaMkNtcG",
    "outputId": "bac44947-c06a-456d-d9be-1abf2e847f2e"
   },
   "outputs": [
    {
     "name": "stdout",
     "output_type": "stream",
     "text": [
      "4\n",
      "6\n",
      "8\n"
     ]
    }
   ],
   "source": [
    "for i in R[:3]:\n",
    "    print(i)"
   ]
  },
  {
   "cell_type": "markdown",
   "metadata": {
    "id": "J7dct60eNtcG"
   },
   "source": [
    "We have looped through part of the range.  If we start a second loop\n",
    "on the same range, it starts from the beginning."
   ]
  },
  {
   "cell_type": "code",
   "execution_count": null,
   "metadata": {
    "id": "PDQosKVFNtcG",
    "outputId": "3ff18407-5589-4153-e557-fd8145e305f9"
   },
   "outputs": [
    {
     "name": "stdout",
     "output_type": "stream",
     "text": [
      "4\n",
      "6\n",
      "8\n",
      "10\n",
      "12\n",
      "14\n",
      "16\n",
      "18\n"
     ]
    }
   ],
   "source": [
    "for i in R:\n",
    "    print(i)"
   ]
  },
  {
   "cell_type": "markdown",
   "metadata": {
    "id": "9Zf0TibBNtcG"
   },
   "source": [
    "Hence `next` does not work"
   ]
  },
  {
   "cell_type": "code",
   "execution_count": null,
   "metadata": {
    "id": "T3rLrv4QNtcG",
    "outputId": "3ffb04fc-0ee1-41c3-bfe5-6a82f885b9ac",
    "scrolled": true
   },
   "outputs": [
    {
     "ename": "TypeError",
     "evalue": "'range' object is not an iterator",
     "output_type": "error",
     "traceback": [
      "\u001b[0;31m---------------------------------------------------------------------------\u001b[0m",
      "\u001b[0;31mTypeError\u001b[0m                                 Traceback (most recent call last)",
      "\u001b[0;32m/var/folders/_q/2s1hy5bx1l7f9j1lw9zjgt19_wb463/T/ipykernel_25160/2055906796.py\u001b[0m in \u001b[0;36m<module>\u001b[0;34m\u001b[0m\n\u001b[0;32m----> 1\u001b[0;31m \u001b[0mnext\u001b[0m\u001b[0;34m(\u001b[0m\u001b[0mR\u001b[0m\u001b[0;34m)\u001b[0m\u001b[0;34m\u001b[0m\u001b[0m\n\u001b[0m",
      "\u001b[0;31mTypeError\u001b[0m: 'range' object is not an iterator"
     ]
    }
   ],
   "source": [
    "next(R)"
   ]
  },
  {
   "cell_type": "markdown",
   "metadata": {
    "id": "jVsVt1T8NtcG"
   },
   "source": [
    "This error message says it all. In contrast to `Z` and `E`, there is no `__next__` method for `R`. Hence it is not an interator."
   ]
  },
  {
   "cell_type": "code",
   "execution_count": null,
   "metadata": {
    "id": "CpJopvkINtcG",
    "outputId": "036d9808-7346-486f-cf19-cd0de39beb36"
   },
   "outputs": [
    {
     "data": {
      "text/plain": [
       "False"
      ]
     },
     "execution_count": 19,
     "metadata": {},
     "output_type": "execute_result"
    }
   ],
   "source": [
    "'__next__'  in dir(R)"
   ]
  },
  {
   "cell_type": "code",
   "execution_count": null,
   "metadata": {
    "id": "lZ7OvRAQNtcG",
    "outputId": "b3a10068-c8f7-45a2-9ffa-537f34298699"
   },
   "outputs": [
    {
     "data": {
      "text/plain": [
       "True"
      ]
     },
     "execution_count": 18,
     "metadata": {},
     "output_type": "execute_result"
    }
   ],
   "source": [
    "'__next__'  in dir(Z)"
   ]
  },
  {
   "cell_type": "code",
   "execution_count": null,
   "metadata": {
    "id": "lyGkE21pNtcG"
   },
   "outputs": [],
   "source": []
  }
 ],
 "metadata": {
  "colab": {
   "provenance": []
  },
  "kernelspec": {
   "display_name": "Python 3 (ipykernel)",
   "language": "python",
   "name": "python3"
  },
  "language_info": {
   "codemirror_mode": {
    "name": "ipython",
    "version": 3
   },
   "file_extension": ".py",
   "mimetype": "text/x-python",
   "name": "python",
   "nbconvert_exporter": "python",
   "pygments_lexer": "ipython3",
   "version": "3.10.14"
  }
 },
 "nbformat": 4,
 "nbformat_minor": 1
}
