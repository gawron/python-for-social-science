{
 "cells": [
  {
   "cell_type": "markdown",
   "metadata": {},
   "source": [
    "# Midterm study Notebook"
   ]
  },
  {
   "cell_type": "markdown",
   "metadata": {},
   "source": [
    "The problems in Part One are taken from a previous quiz.  Write the value of each expression in the space provided. A helpful reminder.  When applied to strings, '<' checks alphabetical order.  So\n",
    "\n",
    "```\n",
    ">>> 'a' < 'b'\n",
    "True\n",
    ">>> 'b' < 'a'\n",
    "False\n",
    ">>> 'a' < 'a'\n",
    "False\n",
    "```\n",
    "\n",
    "When applied to strings '+' does concatenation:\n",
    "\n",
    "```\n",
    ">>> 'a' + 'x'\n",
    "'ax'\n",
    "```\n"
   ]
  },
  {
   "cell_type": "markdown",
   "metadata": {},
   "source": [
    "## Part One"
   ]
  },
  {
   "cell_type": "code",
   "execution_count": 3,
   "metadata": {},
   "outputs": [],
   "source": [
    "lender_rates = {'Fannie Mae': .05, 'Bank of America': .065, 'Quicken Loans': .045}\n",
    "prime_interest_rate = .04\n",
    "amount_above_prime = [lender_rates[x] - prime_interest_rate for x in lender_rates.keys()]\n",
    "loan_amounts = [100000, 150000, 200000, 500000]\n",
    "interest_due = [x * prime_interest_rate for x in loan_amounts]\n",
    "prime_mortgages = [x <= 200000 and x > 100000 for x in loan_amounts]\n",
    "prime_mortgages2 = [x for x in loan_amounts if x <= 200000 and x > 100000]\n",
    "shoe_string = 'adidas_ultra_boost'"
   ]
  },
  {
   "cell_type": "code",
   "execution_count": 4,
   "metadata": {},
   "outputs": [
    {
     "data": {
      "text/plain": [
       "({'Fannie Mae': 0.05, 'Bank of America': 0.065, 'Quicken Loans': 0.045},\n",
       " 0.04,\n",
       " [0.010000000000000002, 0.025, 0.0049999999999999975],\n",
       " [100000, 150000, 200000, 500000],\n",
       " [4000.0, 6000.0, 8000.0, 20000.0],\n",
       " [False, True, True, False])"
      ]
     },
     "execution_count": 4,
     "metadata": {},
     "output_type": "execute_result"
    }
   ],
   "source": [
    "(lender_rates, prime_interest_rate, amount_above_prime, \n",
    " loan_amounts, interest_due, prime_mortgages)"
   ]
  },
  {
   "cell_type": "code",
   "execution_count": 5,
   "metadata": {},
   "outputs": [],
   "source": [
    "letters = 'abcdefghijklmnopqrstuvwxyz'\n",
    "vowels = 'aeiou'\n",
    "word = 'facetious'\n",
    "X = [l for l in letters if l not in vowels]\n",
    "Y = [x for x in letters if x > 'd' and x < 'j']\n",
    "W = [x for x in letters if x == 'd' or x == 'j' or x < 'q']\n",
    "Z = [x > 'd' and x < 'j' for x in letters]\n",
    "R = [x for x in word if x in vowels]\n",
    "consonants = [l for l in letters if l not in vowels]\n",
    "#. This is a dictionary comprehension.  It creates a dictionary\n",
    "consonant2vowel = {consonants[i]:v for (i, v) in enumerate(vowels)}\n",
    "vowel2consonant = {v:k for (k,v) in consonant2vowel.items()}"
   ]
  },
  {
   "cell_type": "markdown",
   "metadata": {},
   "source": [
    "# Exercises"
   ]
  },
  {
   "cell_type": "markdown",
   "metadata": {},
   "source": [
    "# A\n",
    "\n",
    "Write some code to turn `X` into a string. Remember `X` was created by a list comprehension, so it is initially defined to be a list.  The string you should get is:\n",
    "\n",
    "```\n",
    "'bcdfghjklmnpqrstvwxyz'\n",
    "```"
   ]
  },
  {
   "cell_type": "markdown",
   "metadata": {},
   "source": [
    "Solution:"
   ]
  },
  {
   "cell_type": "code",
   "execution_count": null,
   "metadata": {},
   "outputs": [],
   "source": []
  },
  {
   "cell_type": "markdown",
   "metadata": {},
   "source": [
    "# B\n",
    "\n",
    "Write some code to produce a list of letters that are in `letters` but are not in `Y`.  Your code should use the current values of `letters` and `Y` and it should be a list comprehension using a filter.  Your result should look like this:\n",
    "\n",
    "```\n",
    "['a', 'b', 'c', 'd', 'j', 'k', 'l', 'm', 'n', 'o', 'p', 'q', 'r', 's', 't', 'u', 'v', 'w', 'x', 'y', 'z']\n",
    "```"
   ]
  },
  {
   "cell_type": "markdown",
   "metadata": {},
   "source": [
    "Solution:"
   ]
  },
  {
   "cell_type": "code",
   "execution_count": null,
   "metadata": {},
   "outputs": [],
   "source": []
  },
  {
   "cell_type": "markdown",
   "metadata": {},
   "source": [
    " "
   ]
  },
  {
   "cell_type": "markdown",
   "metadata": {},
   "source": [
    "# C\n",
    "\n",
    "Write some code that returns a string consisting of the letters that are both in `W` and in `Y`.  "
   ]
  },
  {
   "cell_type": "markdown",
   "metadata": {},
   "source": [
    "Solution:"
   ]
  },
  {
   "cell_type": "code",
   "execution_count": null,
   "metadata": {},
   "outputs": [],
   "source": []
  },
  {
   "cell_type": "markdown",
   "metadata": {},
   "source": [
    "# D\n",
    "\n",
    "Write a function called `find_vowels` that will take any string and return a **string** containing the vowels in that string.  For the vowels use  `vowels` (defined above)  After writing the function, you should\n",
    "be able to apply it to `word` (as defined above).  The answer would be\n",
    "\n",
    "```\n",
    ">>> find_vowels(word)\n",
    "'aeiou'\n",
    "```\n",
    "\n",
    "Then you should be able to\n",
    "apply the function to `word` again and see whether the function returns a value `==` to `vowels`.\n",
    "The result you should get is:\n",
    "\n",
    "```\n",
    ">>> find_vowels(word) == vowels\n",
    "True\n",
    "```\n",
    "\n",
    "Notice that this last test also verifies that your function\n",
    "returns a string, because only a string can be == to\n",
    "a string.\n",
    "\n",
    "You should be able to apply the function to `'radish'`.  The answer should be:\n",
    "\n",
    "```\n",
    ">>> find_vowels(\"radish\")\n",
    "'ai'\n",
    "```\n",
    "\n",
    "You should able to concatenate the answer the last question with\n",
    "'x' as follows:\n",
    "\n",
    "```\n",
    ">>> find_vowels(\"radish\") + 'x'\n",
    "'aix'\n",
    "```\n",
    "\n",
    "Notice that this last test is a second way of verifying that your function\n",
    "returns a string, because only a string can be concatenated with\n",
    "a string."
   ]
  },
  {
   "cell_type": "markdown",
   "metadata": {},
   "source": [
    "Solution:"
   ]
  },
  {
   "cell_type": "code",
   "execution_count": 6,
   "metadata": {},
   "outputs": [],
   "source": []
  },
  {
   "cell_type": "markdown",
   "metadata": {},
   "source": [
    "Comments:  you lose points if you wrote a function that printed something but has no\n",
    "`return` statement.   You lose points if your code handles two test cases instead of all\n",
    "three, and even more points if it handles one out of three, and still more if it handles\n",
    "none.\n",
    "\n",
    "You lose points if you return the wrong type of Python object.  The directions above clearly \n",
    "asked for a string.  If you put square brackets around your string, you are returning\n",
    "a list of strings, not a string.  If you put curly braces around your string you are returning\n",
    "a set of strings, not a string.  And so on.  Some of the above tests were devised so as to make you\n",
    "think about this. "
   ]
  },
  {
   "cell_type": "markdown",
   "metadata": {},
   "source": [
    "# E\n",
    "\n",
    "Modify `find_vowels` as defined in problem  **D** so that its argument is optional and it behaves as follows:\n",
    "\n",
    "```\n",
    ">>> find_vowels() == vowels\n",
    "True\n",
    "```\n",
    "\n",
    "Note:  All the previously discussed examples using `find_vowels` should continue to behave as before."
   ]
  },
  {
   "cell_type": "markdown",
   "metadata": {},
   "source": [
    "Solution:"
   ]
  },
  {
   "cell_type": "code",
   "execution_count": 22,
   "metadata": {},
   "outputs": [],
   "source": []
  },
  {
   "cell_type": "markdown",
   "metadata": {},
   "source": [
    "# F \n",
    "\n",
    "Now write a function `same_chars` that\n",
    "determines if two sequences have exactly the same\n",
    "set of characters.  It should behave as follows:\n",
    "\n",
    "```\n",
    ">>> same_chars(vowels, 'aeiou')\n",
    "True\n",
    ">>> same_chars(vowels, 'eioua')\n",
    "True\n",
    ">>> same_chars(vowels, 'uoiea')\n",
    "True\n",
    ">>> same_chars(vowels, 'eiou')\n",
    "False\n",
    ">>> same_chars('bcd','dcb')\n",
    "True\n",
    ">>> same_chars('bcd','dcb') == True\n",
    "True\n",
    ">>> if same_chars('xyz','zyx'):\n",
    "...     print('Same!`)\n",
    "... else:\n",
    "        print('Different')\n",
    "Same!\n",
    "```\n",
    "\n",
    "The last two tests verify that you are returning `True` or `False`, not just printing them.\n",
    "If you don't know what this means, study the functions nb and the functions assignment\n",
    "solution.\n",
    "\n",
    "Hint: Use sets. Remember how easy it is in Python to turn one type into another.  For example:\n",
    "\n",
    "```\n",
    ">>> list('abc')\n",
    "['a', 'b', 'c']\n",
    "```\n"
   ]
  },
  {
   "cell_type": "markdown",
   "metadata": {},
   "source": [
    "Solution:"
   ]
  },
  {
   "cell_type": "code",
   "execution_count": 14,
   "metadata": {},
   "outputs": [],
   "source": []
  },
  {
   "cell_type": "markdown",
   "metadata": {},
   "source": [
    " "
   ]
  },
  {
   "cell_type": "markdown",
   "metadata": {},
   "source": [
    "# G\n",
    "\n",
    "Consider `R` as defined above. Remember `R` filters the elements of `word` with the condition `x in vowels`.\n",
    "\n",
    "Write some code that performs a test to show that `vowels` (a string) contains the same \n",
    "characters as `R` (a list)."
   ]
  },
  {
   "cell_type": "markdown",
   "metadata": {},
   "source": [
    "Solution:"
   ]
  },
  {
   "cell_type": "code",
   "execution_count": null,
   "metadata": {},
   "outputs": [],
   "source": []
  },
  {
   "cell_type": "markdown",
   "metadata": {},
   "source": [
    " "
   ]
  },
  {
   "cell_type": "markdown",
   "metadata": {},
   "source": [
    "# H\n",
    "\n",
    "Consider `consonant2vowel`.  It is a mapping from consonants to vowels.  Write some code that returns the vowel associated with `\"b\"` in `consonant2vowel`.  Note:  This question has a **very** simple answer.  It is about\n",
    "whether you understand what type of data structure `consonant2vowel` is, and how you use it."
   ]
  },
  {
   "cell_type": "markdown",
   "metadata": {},
   "source": [
    "Solution:"
   ]
  },
  {
   "cell_type": "code",
   "execution_count": null,
   "metadata": {},
   "outputs": [],
   "source": []
  },
  {
   "cell_type": "markdown",
   "metadata": {},
   "source": [
    " "
   ]
  },
  {
   "cell_type": "markdown",
   "metadata": {
    "collapsed": true
   },
   "source": [
    "# I\n",
    "\n",
    "Write a simple one-line Python expression that operates on `vowels` and returns \n",
    "\n",
    "```\n",
    "['ba', 'be','bi', 'bo','bu']\n",
    "```"
   ]
  },
  {
   "cell_type": "markdown",
   "metadata": {},
   "source": [
    "Solution:"
   ]
  },
  {
   "cell_type": "code",
   "execution_count": null,
   "metadata": {},
   "outputs": [],
   "source": []
  },
  {
   "cell_type": "markdown",
   "metadata": {},
   "source": [
    " "
   ]
  },
  {
   "cell_type": "markdown",
   "metadata": {
    "collapsed": true
   },
   "source": [
    "# J\n",
    "\n",
    "Look at `interest_due`.  Using that as a model, write a simple expression that returns a list containing\n",
    "the result of dividing every loan amount in `loan_amounts` by 100,000.\n"
   ]
  },
  {
   "cell_type": "markdown",
   "metadata": {},
   "source": [
    "Solution:"
   ]
  },
  {
   "cell_type": "code",
   "execution_count": null,
   "metadata": {},
   "outputs": [],
   "source": []
  },
  {
   "cell_type": "markdown",
   "metadata": {},
   "source": [
    " "
   ]
  },
  {
   "cell_type": "markdown",
   "metadata": {
    "collapsed": true
   },
   "source": [
    "# K\n",
    "\n",
    "Write a simple one line Python expression that operates on X and returns\n",
    "\n",
    "```\n",
    "['b', 'c']\n",
    "```\n",
    "\n",
    "Use slices."
   ]
  },
  {
   "cell_type": "markdown",
   "metadata": {},
   "source": [
    "Solution:"
   ]
  },
  {
   "cell_type": "code",
   "execution_count": null,
   "metadata": {},
   "outputs": [],
   "source": []
  },
  {
   "cell_type": "markdown",
   "metadata": {},
   "source": [
    " "
   ]
  },
  {
   "cell_type": "markdown",
   "metadata": {
    "collapsed": true
   },
   "source": [
    "# L\n",
    "\n",
    "\n",
    "Write a Python expression which operates on `letters` and returns the following value. \n",
    "\n",
    "```\n",
    "'ghi'\n",
    "```\n",
    "\n",
    "Use slices."
   ]
  },
  {
   "cell_type": "markdown",
   "metadata": {},
   "source": [
    "Solution:"
   ]
  },
  {
   "cell_type": "code",
   "execution_count": null,
   "metadata": {},
   "outputs": [],
   "source": [
    " "
   ]
  },
  {
   "cell_type": "markdown",
   "metadata": {},
   "source": [
    " "
   ]
  },
  {
   "cell_type": "markdown",
   "metadata": {},
   "source": [
    "# M\n",
    "\n",
    "Write a Python expression which operates on `Z` and returns the following value\n",
    "\n",
    "```\n",
    "[False, False, False]\n",
    "```"
   ]
  },
  {
   "cell_type": "markdown",
   "metadata": {},
   "source": [
    "Solution:"
   ]
  },
  {
   "cell_type": "code",
   "execution_count": null,
   "metadata": {},
   "outputs": [],
   "source": []
  },
  {
   "cell_type": "markdown",
   "metadata": {},
   "source": [
    " "
   ]
  },
  {
   "cell_type": "markdown",
   "metadata": {
    "collapsed": true
   },
   "source": [
    "# N\n",
    "\n",
    "Write a Python expression which operates on `Y` and returns the following value:\n",
    "\n",
    "```\n",
    "['e','i']\n",
    "```"
   ]
  },
  {
   "cell_type": "markdown",
   "metadata": {},
   "source": [
    "Solution:"
   ]
  },
  {
   "cell_type": "code",
   "execution_count": null,
   "metadata": {},
   "outputs": [],
   "source": []
  },
  {
   "cell_type": "markdown",
   "metadata": {},
   "source": [
    " "
   ]
  },
  {
   "cell_type": "markdown",
   "metadata": {},
   "source": [
    "# O\n",
    "\n",
    "Write a line of code which operates on `Y` and returns `False`."
   ]
  },
  {
   "cell_type": "markdown",
   "metadata": {},
   "source": [
    "Solution:"
   ]
  },
  {
   "cell_type": "code",
   "execution_count": null,
   "metadata": {
    "scrolled": true
   },
   "outputs": [],
   "source": [
    " "
   ]
  },
  {
   "cell_type": "markdown",
   "metadata": {},
   "source": [
    "# P\n",
    "\n",
    "Write a line of code which accesses `vowels` and returns the following value:\n",
    "\n",
    "```\n",
    "[True, True, False, False, False]\n",
    "```\n",
    "\n",
    "There are many solutions.  Just find one."
   ]
  },
  {
   "cell_type": "markdown",
   "metadata": {},
   "source": [
    "Solution:"
   ]
  },
  {
   "cell_type": "code",
   "execution_count": null,
   "metadata": {},
   "outputs": [],
   "source": []
  },
  {
   "cell_type": "markdown",
   "metadata": {},
   "source": [
    " "
   ]
  },
  {
   "cell_type": "markdown",
   "metadata": {},
   "source": [
    "# Q\n",
    "\n",
    "Write a line of code which operates on `consonant2vowel` and returns the following value.\n",
    "\n",
    "```\n",
    "'e'\n",
    "```"
   ]
  },
  {
   "cell_type": "markdown",
   "metadata": {},
   "source": [
    "Solution:"
   ]
  },
  {
   "cell_type": "code",
   "execution_count": null,
   "metadata": {},
   "outputs": [],
   "source": []
  },
  {
   "cell_type": "markdown",
   "metadata": {},
   "source": [
    " "
   ]
  },
  {
   "cell_type": "markdown",
   "metadata": {},
   "source": [
    " "
   ]
  },
  {
   "cell_type": "markdown",
   "metadata": {},
   "source": [
    "\n",
    "\n",
    "Write a line of code which operates on `vowel2consonant` and returns the following value.\n",
    "\n",
    "```\n",
    "'g'\n",
    "```"
   ]
  },
  {
   "cell_type": "markdown",
   "metadata": {},
   "source": [
    "Solution:"
   ]
  },
  {
   "cell_type": "code",
   "execution_count": null,
   "metadata": {},
   "outputs": [],
   "source": []
  },
  {
   "cell_type": "markdown",
   "metadata": {},
   "source": [
    "##       Part Two"
   ]
  },
  {
   "cell_type": "markdown",
   "metadata": {},
   "source": [
    "Write functions that behave according to the descriptions given."
   ]
  },
  {
   "cell_type": "markdown",
   "metadata": {},
   "source": [
    "# 1\n",
    "\n",
    "Write a function that takes two numbers as arguments and multiplies them together and adds 1 to the result.  Call your function `product_successor`.  Then:\n",
    "\n",
    "```\n",
    ">>> product_successor(3,2)\n",
    "7\n",
    ">>> product_successor(5,9)\n",
    "46\n",
    ">>> product_successor(5,9) == 46\n",
    "True\n",
    "```\n",
    "\n",
    "Last test verifies that the functioin is returning the value, not just printing it."
   ]
  },
  {
   "cell_type": "markdown",
   "metadata": {},
   "source": [
    "Solution:"
   ]
  },
  {
   "cell_type": "code",
   "execution_count": null,
   "metadata": {},
   "outputs": [],
   "source": []
  },
  {
   "cell_type": "markdown",
   "metadata": {},
   "source": [
    " "
   ]
  },
  {
   "cell_type": "markdown",
   "metadata": {},
   "source": [
    "# 2\n",
    "\n",
    "Write a function called `product_successor_ratios`\n",
    "which takes four numbers as arguments.   Call them `a`,`b`,`c`' and `d`;\n",
    "`product_successor_ratios` should first find the product successor of `a` and `b`.\n",
    "\n",
    "That is, it should multiply `a` and `b` together\n",
    "and add one to the result.  It should call the function `product_successor` (defined in the last problem))\n",
    "to do this.  Note: **No credit for a solution that ignores this instruction**.   \n",
    "\n",
    "`product_successor_ratio` should\n",
    "also call `product_successor` on `c` and `d` (multiplying `c` and `d` together and adding 1 to the result).\n",
    "It should return the ratio obtained by dividing the product successor of `a` and `b` \n",
    "by the product successor of `c` and `d`.\n",
    "\n",
    "Note: It took a lot of English to say this but the body of the `product_successor_ratios`\n",
    "function is essentially one line of code.  Here are some examples illustratinmg its behavior:\n",
    "\n",
    "```\n",
    ">>> product_successor_ratio(3,2,5,9)   # Test One\n",
    "0.15217391304347827\n",
    ">>> product_successor_ratio(5,9,3,2)   # Test Two\n",
    "6.571428571428571\n",
    ">>> product_successor_ratio(3,2,5,9) + product_successor_ratio(5,9,3,2)   # Test Three\n",
    "6.72360248447205\n",
    ">>> product_successor_ratio(5,9,3,0)    # Test Four\n",
    "46.0\n",
    ">>> product_successor_ratio(5,9,0,0)    # Test Five\n",
    "46.0\n",
    ">>> product_successor_ratio(5,9,0,0) == 46.0    # Test Five\n",
    "True\n",
    "```\n",
    "\n",
    "\n",
    "Finally,  the last two arguments of `product_successor_ratio` should be\n",
    "optional.  Here are the results when they are omitted.\n",
    "\n",
    "```\n",
    ">>> product_successor_ratio(5,9,1)\n",
    "23.0\n",
    ">>> product_successor_ratio(5,9)\n",
    "23.0\n",
    "```\n"
   ]
  },
  {
   "cell_type": "markdown",
   "metadata": {},
   "source": [
    "Solution:"
   ]
  },
  {
   "cell_type": "code",
   "execution_count": 97,
   "metadata": {},
   "outputs": [],
   "source": []
  },
  {
   "cell_type": "markdown",
   "metadata": {},
   "source": [
    " "
   ]
  },
  {
   "cell_type": "markdown",
   "metadata": {},
   "source": [
    "## Part 3"
   ]
  },
  {
   "cell_type": "markdown",
   "metadata": {},
   "source": [
    "Reminders: `range(n)` returns a list of the integers from 0 up to but not including `n`.\n",
    "\n",
    "```\n",
    ">>> list(range(10))\n",
    "[0,1,2,3,4,5,6,7,8,9]\n",
    "```\n",
    "\n",
    "`'str0'.join(str_seq)`  returns a string gotten by joining together the elements of `str_seq` with `str0`. It is the opposite of `split`.  It is an error if the elements of `str_seq` are not all strings:\n",
    "\n",
    "```\n",
    ">>> ''.join(['a','b','c'])\n",
    "'abc'\n",
    ">>> 'x'.join(['a','b','c'])\n",
    "'axbxc'\n",
    ">>> 'x'.join([1,2,3])\n",
    "TypeError      \n",
    "...\n",
    "TypeError: sequence item 0: expected string, int found\n",
    ">>> 'i'.join(['m','ss','ss','pp',''])\n",
    "'mississippi'\n",
    ">>> 'i'.join(['m','ss','ss','pp'])\n",
    "'mississipp'\n",
    "```\n",
    "\n",
    "\n"
   ]
  },
  {
   "cell_type": "code",
   "execution_count": 55,
   "metadata": {},
   "outputs": [],
   "source": [
    "letters = ('a', 'b', 'c', 'd', 'e', 'f', 'g', \n",
    "           'h', 'i', 'j', 'k', 'l', 'm', 'n', \n",
    "           'o', 'p', 'q', 'r', 's', 't', 'u', \n",
    "           'v', 'w', 'x', 'y', 'z')\n",
    "vowels = 'aeiou'\n",
    "digits = list(range(4))\n",
    "word_list = ['bbop','pine', 'bake', 'isle']\n",
    "weird_list = [word_list[x][x] for x in digits]\n",
    "word3 = ''.join([x[1] for x in word_list])\n",
    "word4 = 'x'.join(['o','o','o',''])\n",
    "char_list = [x for x in word4 if x in vowels]\n",
    "word1 = 'rambunctious'\n",
    "word2 = 'mellifluous'\n",
    "WW = word1 + word2\n",
    "Z = [x for x in WW if x in 'lmn']\n",
    "favorite_words = {'Noam Chomsky': word2, 'Leonard Bloomfield': word1, 'John Rupert Firth': weird_list,\n",
    "                 'Ferdinand de Saussure': word3}"
   ]
  },
  {
   "cell_type": "markdown",
   "metadata": {},
   "source": [
    "# a\n",
    "\n",
    "Write out an expression which applies to `word3` and returns\n",
    "\n",
    "```\n",
    "'bs'\n",
    "```\n",
    "\n",
    "There is more than one solution."
   ]
  },
  {
   "cell_type": "markdown",
   "metadata": {},
   "source": [
    "Solution:"
   ]
  },
  {
   "cell_type": "code",
   "execution_count": null,
   "metadata": {},
   "outputs": [],
   "source": []
  },
  {
   "cell_type": "markdown",
   "metadata": {},
   "source": [
    "# b\n",
    "\n",
    "Find a value for `LL` (a list)  for which the following piece of code produces the result shown.  There are some helpful examples above.\n",
    "\n",
    "```\n",
    ">>> 'a'.join(LL)\n",
    "'abracadabra'\n",
    "```"
   ]
  },
  {
   "cell_type": "markdown",
   "metadata": {},
   "source": [
    "Solution:\n",
    "\n",
    "Fill in your elements for `LL`:"
   ]
  },
  {
   "cell_type": "code",
   "execution_count": 2,
   "metadata": {},
   "outputs": [],
   "source": [
    "LL=[\"????\"]"
   ]
  },
  {
   "cell_type": "markdown",
   "metadata": {},
   "source": [
    " "
   ]
  },
  {
   "cell_type": "markdown",
   "metadata": {},
   "source": [
    "# c\n",
    "\n",
    "What is the Python type of `digits` (as defined above)?"
   ]
  },
  {
   "cell_type": "markdown",
   "metadata": {},
   "source": [
    "Solution\n",
    "\n",
    "[Write here]"
   ]
  },
  {
   "cell_type": "markdown",
   "metadata": {},
   "source": [
    "# d\n",
    "\n",
    "What is the Python type of `digits[0]`?"
   ]
  },
  {
   "cell_type": "markdown",
   "metadata": {},
   "source": [
    "Solution:"
   ]
  },
  {
   "cell_type": "markdown",
   "metadata": {},
   "source": [
    "[Write here]"
   ]
  },
  {
   "cell_type": "markdown",
   "metadata": {},
   "source": [
    "# e\n",
    "\n",
    "Find a value for `word_list2` (a list) which makes the expression below have the given value\n",
    "(see the example using `weird_list` above).\n",
    "\n",
    "```\n",
    ">>> [word_list2[x][x] for x in digits]\n",
    "['v ','o','t','e']\n",
    "```\n"
   ]
  },
  {
   "cell_type": "markdown",
   "metadata": {},
   "source": [
    "Solution:\n",
    "\n",
    "Fill in your own elements for `word_list2` (there are many solutions)."
   ]
  },
  {
   "cell_type": "code",
   "execution_count": 3,
   "metadata": {
    "scrolled": true
   },
   "outputs": [],
   "source": [
    "word_list2 = [\"????\"]"
   ]
  },
  {
   "cell_type": "markdown",
   "metadata": {},
   "source": [
    " "
   ]
  },
  {
   "cell_type": "markdown",
   "metadata": {},
   "source": [
    " "
   ]
  },
  {
   "cell_type": "markdown",
   "metadata": {},
   "source": [
    "# f\n",
    "\n",
    "Write an expression which returns the **set** of vowels in  `char_list`.\n",
    "\n",
    "There are several solutions. Find one."
   ]
  },
  {
   "cell_type": "markdown",
   "metadata": {},
   "source": [
    "Solution:"
   ]
  },
  {
   "cell_type": "code",
   "execution_count": null,
   "metadata": {},
   "outputs": [],
   "source": []
  },
  {
   "cell_type": "markdown",
   "metadata": {},
   "source": [
    " "
   ]
  },
  {
   "cell_type": "markdown",
   "metadata": {
    "collapsed": true
   },
   "source": [
    " "
   ]
  },
  {
   "cell_type": "markdown",
   "metadata": {},
   "source": [
    "# g \n",
    "\n",
    "Write an expression which operates on `favorite_words` and returns:\n",
    "\n",
    "```\n",
    "'ias'\n",
    "```\n",
    "\n",
    "Hint: Use a slice.  Remember that `favorite_word` is a dictionary. Values are retrieved from a dictionary by keys, and therefore it makes no sense to use numerical indices (or slices) directly on a dictionary. "
   ]
  },
  {
   "cell_type": "markdown",
   "metadata": {},
   "source": [
    "Solution:"
   ]
  },
  {
   "cell_type": "code",
   "execution_count": null,
   "metadata": {},
   "outputs": [],
   "source": []
  },
  {
   "cell_type": "markdown",
   "metadata": {},
   "source": [
    " "
   ]
  },
  {
   "cell_type": "markdown",
   "metadata": {},
   "source": [
    "# h\n",
    "\n",
    "Write an expression which operates on `favorite_words` and returns:\n",
    "\n",
    "```\n",
    "'bun'\n",
    "```\n"
   ]
  },
  {
   "cell_type": "markdown",
   "metadata": {},
   "source": [
    " Solution:"
   ]
  },
  {
   "cell_type": "code",
   "execution_count": null,
   "metadata": {},
   "outputs": [],
   "source": []
  },
  {
   "cell_type": "markdown",
   "metadata": {},
   "source": [
    "# i\n",
    "\n",
    "Write an expression which retrieves\n",
    "\n",
    "```\n",
    "['a','b','c','x','y''z']\n",
    "```\n",
    "\n",
    "from `letters`.  Hint: use a list comprehension with a filtering condition.  This is not slice territory."
   ]
  },
  {
   "cell_type": "markdown",
   "metadata": {},
   "source": [
    "Solution"
   ]
  },
  {
   "cell_type": "code",
   "execution_count": null,
   "metadata": {},
   "outputs": [],
   "source": []
  },
  {
   "cell_type": "markdown",
   "metadata": {},
   "source": [
    "# j\n",
    "\n",
    "What is the effect of or the value returned by the following code?  Explain\n",
    "by referring to the type of `letters`."
   ]
  },
  {
   "cell_type": "code",
   "execution_count": 48,
   "metadata": {},
   "outputs": [],
   "source": [
    "letters[1]  = '0'"
   ]
  },
  {
   "cell_type": "markdown",
   "metadata": {},
   "source": [
    "Solution"
   ]
  },
  {
   "cell_type": "markdown",
   "metadata": {},
   "source": [
    "[Write your answer here]"
   ]
  },
  {
   "cell_type": "markdown",
   "metadata": {},
   "source": [
    "# k"
   ]
  },
  {
   "cell_type": "markdown",
   "metadata": {},
   "source": [
    "\n",
    "What is the effect of or the value returned by the following code?  Explain\n",
    "by referring to the type of `favorite_words`."
   ]
  },
  {
   "cell_type": "code",
   "execution_count": null,
   "metadata": {},
   "outputs": [],
   "source": [
    "favorite_words[0]  = 'Capitalism'"
   ]
  },
  {
   "cell_type": "markdown",
   "metadata": {},
   "source": [
    "Solution:"
   ]
  },
  {
   "cell_type": "markdown",
   "metadata": {},
   "source": [
    "[Write your answer here]"
   ]
  },
  {
   "cell_type": "markdown",
   "metadata": {},
   "source": [
    "# l"
   ]
  },
  {
   "cell_type": "markdown",
   "metadata": {},
   "source": [
    "\n",
    "What is the effect of or the value returned by the following code?  Explain\n",
    "by referring to the type of `favorite_words`."
   ]
  },
  {
   "cell_type": "code",
   "execution_count": null,
   "metadata": {},
   "outputs": [],
   "source": [
    "favorite_words[2]"
   ]
  },
  {
   "cell_type": "markdown",
   "metadata": {},
   "source": [
    "Solution:"
   ]
  },
  {
   "cell_type": "markdown",
   "metadata": {},
   "source": [
    "[Write your answer here]"
   ]
  },
  {
   "cell_type": "markdown",
   "metadata": {},
   "source": [
    "## Part 4"
   ]
  },
  {
   "cell_type": "code",
   "execution_count": null,
   "metadata": {},
   "outputs": [],
   "source": []
  },
  {
   "cell_type": "code",
   "execution_count": 153,
   "metadata": {},
   "outputs": [],
   "source": [
    "employees = ['happy', 'sleepy', 'dopey', 'bashful', 'grumpy', 'doc', 'sneezy']\n",
    "employeeEmail = {'happy': ['sleepy','dopey'], 'dopey':['dopey'],'doc': employees,\n",
    "                 'sleepy': ['bashful','doc', 'happy'],\n",
    "                 'bashful': ['dopey']}\n",
    "secret_word = 'utilitarian'\n",
    "flip = {'0':'1', '1':'0'}\n",
    "bit_string = '001110'\n",
    "flipped = [flip[x] for x in bit_string]"
   ]
  },
  {
   "cell_type": "markdown",
   "metadata": {},
   "source": [
    "# 1\n",
    "\n",
    "Write an expression which operates on `employees` and returns\n",
    "\n",
    "```\n",
    "['dopey', 'bashful', 'grumpy']\n",
    "```"
   ]
  },
  {
   "cell_type": "markdown",
   "metadata": {},
   "source": [
    "Solution"
   ]
  },
  {
   "cell_type": "code",
   "execution_count": null,
   "metadata": {},
   "outputs": [],
   "source": []
  },
  {
   "cell_type": "markdown",
   "metadata": {},
   "source": [
    "# 2\n",
    "\n",
    "Write an expression which operates on `employees` and returns\n",
    "\n",
    "```\n",
    "'y'\n",
    "```"
   ]
  },
  {
   "cell_type": "markdown",
   "metadata": {},
   "source": [
    "Solution:"
   ]
  },
  {
   "cell_type": "code",
   "execution_count": null,
   "metadata": {},
   "outputs": [],
   "source": []
  },
  {
   "cell_type": "markdown",
   "metadata": {},
   "source": [
    "# 3\n",
    "\n",
    "Write an expression which operates on `employeeEmail` and returns\n",
    "\n",
    "```\n",
    "\"rump\"\n",
    "```"
   ]
  },
  {
   "cell_type": "markdown",
   "metadata": {},
   "source": [
    "Solution:"
   ]
  },
  {
   "cell_type": "code",
   "execution_count": null,
   "metadata": {},
   "outputs": [],
   "source": []
  },
  {
   "cell_type": "markdown",
   "metadata": {},
   "source": [
    "# 4\n",
    "\n",
    "Write an expression which operates on `secret_word` and returns\n",
    "\n",
    "```\n",
    "'arian'\n",
    "```"
   ]
  },
  {
   "cell_type": "markdown",
   "metadata": {},
   "source": [
    "Solution:"
   ]
  },
  {
   "cell_type": "code",
   "execution_count": null,
   "metadata": {
    "scrolled": true
   },
   "outputs": [],
   "source": []
  },
  {
   "cell_type": "markdown",
   "metadata": {},
   "source": [
    "# 5\n",
    "\n",
    "Write an expression which operates on `secret_word` and returns\n",
    "\n",
    "```\n",
    "[False, False, True, False, True, False, True, False, True, True, False]\n",
    "```"
   ]
  },
  {
   "cell_type": "markdown",
   "metadata": {},
   "source": [
    "Solution:"
   ]
  },
  {
   "cell_type": "code",
   "execution_count": null,
   "metadata": {},
   "outputs": [],
   "source": []
  },
  {
   "cell_type": "markdown",
   "metadata": {},
   "source": [
    "# 6\n",
    "\n",
    "`flipped` is defined above as\n",
    "\n",
    "```\n",
    "flipped = [flip[x] for x in bit_string]\n",
    "```\n",
    "\n",
    "The current value of `flipped` is\n",
    "\n",
    "```\n",
    "['1', '1', '0', '0', '0', '1']\n",
    "```\n",
    "\n",
    "Redefine `flip` so that the value of `flipped` becomes\n",
    "\n",
    "```\n",
    "[0, 0, 1, 1, 1, 0].\n",
    "```\n"
   ]
  },
  {
   "cell_type": "markdown",
   "metadata": {},
   "source": [
    "Solution:"
   ]
  },
  {
   "cell_type": "code",
   "execution_count": null,
   "metadata": {},
   "outputs": [],
   "source": []
  },
  {
   "cell_type": "markdown",
   "metadata": {},
   "source": [
    "Part 5"
   ]
  },
  {
   "cell_type": "code",
   "execution_count": 205,
   "metadata": {},
   "outputs": [],
   "source": [
    "import numpy as np\n",
    "x = np.array([5,13,23,47,9])\n",
    "y = np.ones((5,))\n",
    "z = np.ones((5,2))\n",
    "w = np.arange(15).reshape((3,5))"
   ]
  },
  {
   "cell_type": "code",
   "execution_count": 206,
   "metadata": {},
   "outputs": [
    {
     "data": {
      "text/plain": [
       "array([[ 0,  1,  2,  3,  4],\n",
       "       [ 5,  6,  7,  8,  9],\n",
       "       [10, 11, 12, 13, 14]])"
      ]
     },
     "execution_count": 206,
     "metadata": {},
     "output_type": "execute_result"
    }
   ],
   "source": [
    "w"
   ]
  },
  {
   "cell_type": "markdown",
   "metadata": {},
   "source": [
    "# a\n",
    "\n",
    "Write out an expression which returns the shape of `x`,"
   ]
  },
  {
   "cell_type": "markdown",
   "metadata": {},
   "source": [
    "Solution"
   ]
  },
  {
   "cell_type": "code",
   "execution_count": null,
   "metadata": {},
   "outputs": [],
   "source": []
  },
  {
   "cell_type": "markdown",
   "metadata": {},
   "source": [
    "# b\n",
    "\n",
    "Write out an expression which operates on `x` and returns\n",
    "\n",
    "```\n",
    "array([10, 26, 46, 94, 18])\n",
    "```\n",
    "\n",
    "Note: A solution using a `for`-loop or a list comprehension will receive no credit."
   ]
  },
  {
   "cell_type": "markdown",
   "metadata": {},
   "source": [
    "Solution One:"
   ]
  },
  {
   "cell_type": "code",
   "execution_count": null,
   "metadata": {},
   "outputs": [],
   "source": []
  },
  {
   "cell_type": "markdown",
   "metadata": {},
   "source": [
    "# c\n",
    "\n",
    "Write out an expression that returns an array containing the elementwise sum of the elements in `x` and `y`."
   ]
  },
  {
   "cell_type": "markdown",
   "metadata": {},
   "source": [
    "Solution:"
   ]
  },
  {
   "cell_type": "code",
   "execution_count": null,
   "metadata": {},
   "outputs": [],
   "source": []
  },
  {
   "cell_type": "markdown",
   "metadata": {},
   "source": [
    "# d"
   ]
  },
  {
   "cell_type": "markdown",
   "metadata": {},
   "source": [
    "Explain why you get a `ValueError` for `x + z`. "
   ]
  },
  {
   "cell_type": "markdown",
   "metadata": {},
   "source": [
    "Solution:"
   ]
  },
  {
   "cell_type": "markdown",
   "metadata": {},
   "source": [
    "[Write your answer here.]"
   ]
  },
  {
   "cell_type": "markdown",
   "metadata": {},
   "source": [
    "# e\n",
    "\n",
    "Note the following:"
   ]
  },
  {
   "cell_type": "code",
   "execution_count": 31,
   "metadata": {
    "scrolled": true
   },
   "outputs": [
    {
     "data": {
      "text/plain": [
       "array([ True,  True, False, False,  True], dtype=bool)"
      ]
     },
     "execution_count": 31,
     "metadata": {},
     "output_type": "execute_result"
    }
   ],
   "source": [
    "x < 20"
   ]
  },
  {
   "cell_type": "markdown",
   "metadata": {},
   "source": [
    "The result above is called a **Boolean array** because it only contains instances of the\n",
    "type `bool` (`True` and `False`). Such Boolean arrays can be used to index arrays (basically\n",
    "if they are of the same length).  Using a Boolean array this way is called using a **Boolean mask**."
   ]
  },
  {
   "cell_type": "markdown",
   "metadata": {},
   "source": [
    "# e (ctd.)\n",
    "\n",
    "Using a Boolean mask, write an expression that returns an array containing the members of `x` that\n",
    "are less than `20`."
   ]
  },
  {
   "cell_type": "markdown",
   "metadata": {},
   "source": [
    "Solution"
   ]
  },
  {
   "cell_type": "code",
   "execution_count": null,
   "metadata": {},
   "outputs": [],
   "source": []
  },
  {
   "cell_type": "markdown",
   "metadata": {},
   "source": [
    "# f\n",
    "\n",
    "Now consider"
   ]
  },
  {
   "cell_type": "code",
   "execution_count": 196,
   "metadata": {},
   "outputs": [
    {
     "data": {
      "text/plain": [
       "array([[1, 2],\n",
       "       [2, 1],\n",
       "       [5, 5],\n",
       "       [9, 4]])"
      ]
     },
     "execution_count": 196,
     "metadata": {},
     "output_type": "execute_result"
    }
   ],
   "source": [
    "two_d_array = np.array([[1,2],[2,1],[5,5],[9,4]])\n",
    "two_d_array"
   ]
  },
  {
   "cell_type": "markdown",
   "metadata": {},
   "source": [
    "# h.1 \n",
    "\n",
    "Write an expression that returns the second row of `two_d_array`."
   ]
  },
  {
   "cell_type": "markdown",
   "metadata": {},
   "source": [
    "Solution:"
   ]
  },
  {
   "cell_type": "code",
   "execution_count": null,
   "metadata": {},
   "outputs": [],
   "source": []
  },
  {
   "cell_type": "markdown",
   "metadata": {},
   "source": [
    "# h.2 \n",
    "\n",
    "Write an expression that returns `two_d_array` omitting the first row."
   ]
  },
  {
   "cell_type": "markdown",
   "metadata": {},
   "source": [
    "Solution:"
   ]
  },
  {
   "cell_type": "code",
   "execution_count": null,
   "metadata": {},
   "outputs": [],
   "source": [
    " "
   ]
  },
  {
   "cell_type": "markdown",
   "metadata": {},
   "source": [
    "# h.3\n",
    "\n",
    "Write an expression that returns the following subarray of `two_d_array`.\n",
    "\n",
    "```\n",
    "array([[2, 1],\n",
    "       [5, 5]])\n",
    "```"
   ]
  },
  {
   "cell_type": "markdown",
   "metadata": {},
   "source": [
    "Solution:"
   ]
  },
  {
   "cell_type": "code",
   "execution_count": null,
   "metadata": {
    "scrolled": true
   },
   "outputs": [],
   "source": []
  },
  {
   "cell_type": "markdown",
   "metadata": {},
   "source": [
    "# i\n",
    "\n",
    "Here is `w` again as a reminder. \n",
    "\n",
    "```\n",
    "array([[ 0,  1,  2,  3,  4],\n",
    "       [ 5,  6,  7,  8,  9],\n",
    "       [10, 11, 12, 13, 14]])\n",
    "```\n",
    "\n",
    "Use fancy indexing to retrieve the following array from `w`\n",
    "\n",
    "```\n",
    "array([ 2,  6, 13])\n",
    "```\n",
    "\n",
    "Note:   You answer should be one Python expression, and it should use fancy indexing. not Boolean\n",
    "indexing."
   ]
  },
  {
   "cell_type": "markdown",
   "metadata": {},
   "source": [
    "Solution"
   ]
  },
  {
   "cell_type": "code",
   "execution_count": null,
   "metadata": {
    "scrolled": true
   },
   "outputs": [],
   "source": []
  },
  {
   "cell_type": "markdown",
   "metadata": {},
   "source": [
    "# j\n",
    "\n",
    "Below we load the `iris` data discussed in lecture and review some features:"
   ]
  },
  {
   "cell_type": "code",
   "execution_count": 211,
   "metadata": {},
   "outputs": [],
   "source": [
    "from sklearn.datasets import load_iris\n",
    "data = load_iris()\n",
    "features = data['data']\n",
    "target = data['target']"
   ]
  },
  {
   "cell_type": "code",
   "execution_count": 212,
   "metadata": {},
   "outputs": [
    {
     "data": {
      "text/plain": [
       "(150, 4)"
      ]
     },
     "execution_count": 212,
     "metadata": {},
     "output_type": "execute_result"
    }
   ],
   "source": [
    "features.shape"
   ]
  },
  {
   "cell_type": "markdown",
   "metadata": {},
   "source": [
    "Each row represents 4 measurements taken of an individual iris."
   ]
  },
  {
   "cell_type": "code",
   "execution_count": 213,
   "metadata": {},
   "outputs": [
    {
     "data": {
      "text/plain": [
       "array([[5.1, 3.5, 1.4, 0.2],\n",
       "       [4.9, 3. , 1.4, 0.2],\n",
       "       [4.7, 3.2, 1.3, 0.2],\n",
       "       [4.6, 3.1, 1.5, 0.2],\n",
       "       [5. , 3.6, 1.4, 0.2],\n",
       "       [5.4, 3.9, 1.7, 0.4],\n",
       "       [4.6, 3.4, 1.4, 0.3],\n",
       "       [5. , 3.4, 1.5, 0.2],\n",
       "       [4.4, 2.9, 1.4, 0.2],\n",
       "       [4.9, 3.1, 1.5, 0.1]])"
      ]
     },
     "execution_count": 213,
     "metadata": {},
     "output_type": "execute_result"
    }
   ],
   "source": [
    "features[:10]"
   ]
  },
  {
   "cell_type": "markdown",
   "metadata": {},
   "source": [
    "Various kinds of infromation anbout the dataset are included in `data`, a dictionary-like object."
   ]
  },
  {
   "cell_type": "code",
   "execution_count": 214,
   "metadata": {},
   "outputs": [
    {
     "data": {
      "text/plain": [
       "dict_keys(['data', 'target', 'frame', 'target_names', 'DESCR', 'feature_names', 'filename', 'data_module'])"
      ]
     },
     "execution_count": 214,
     "metadata": {},
     "output_type": "execute_result"
    }
   ],
   "source": [
    "data.keys()"
   ]
  },
  {
   "cell_type": "markdown",
   "metadata": {},
   "source": [
    "The measurements represented in the 4 columns are: "
   ]
  },
  {
   "cell_type": "code",
   "execution_count": 215,
   "metadata": {
    "scrolled": true
   },
   "outputs": [
    {
     "data": {
      "text/plain": [
       "['sepal length (cm)',\n",
       " 'sepal width (cm)',\n",
       " 'petal length (cm)',\n",
       " 'petal width (cm)']"
      ]
     },
     "execution_count": 215,
     "metadata": {},
     "output_type": "execute_result"
    }
   ],
   "source": [
    "data['feature_names']"
   ]
  },
  {
   "cell_type": "markdown",
   "metadata": {},
   "source": [
    "So for example the petal length of the first iris (row 0 printed above) is 1.4."
   ]
  },
  {
   "cell_type": "markdown",
   "metadata": {},
   "source": [
    "The three species we are trying to classify are named in target names."
   ]
  },
  {
   "cell_type": "code",
   "execution_count": 216,
   "metadata": {},
   "outputs": [
    {
     "data": {
      "text/plain": [
       "array(['setosa', 'versicolor', 'virginica'], dtype='<U10')"
      ]
     },
     "execution_count": 216,
     "metadata": {},
     "output_type": "execute_result"
    }
   ],
   "source": [
    "data['target_names']"
   ]
  },
  {
   "cell_type": "markdown",
   "metadata": {},
   "source": [
    "The array `target` (length 150) has the species for each iris in the data,\n",
    "but represented as an integer."
   ]
  },
  {
   "cell_type": "code",
   "execution_count": 217,
   "metadata": {},
   "outputs": [
    {
     "data": {
      "text/plain": [
       "{0, 1, 2}"
      ]
     },
     "execution_count": 217,
     "metadata": {},
     "output_type": "execute_result"
    }
   ],
   "source": [
    "set(target)"
   ]
  },
  {
   "cell_type": "markdown",
   "metadata": {},
   "source": [
    "# j.1 \n",
    "\n",
    "Your first task is to define a single Boolean array that is `True` for those rows of `features` that are not of target species `1`,\n",
    "have sepal length greater than 4.7, and have petal width greater than 2.  Name your Boolean array `BC`.\n",
    "\n",
    "Say what you think the length of  `BC` will be."
   ]
  },
  {
   "cell_type": "markdown",
   "metadata": {},
   "source": [
    "Solution:"
   ]
  },
  {
   "cell_type": "code",
   "execution_count": null,
   "metadata": {},
   "outputs": [],
   "source": []
  },
  {
   "cell_type": "markdown",
   "metadata": {},
   "source": [
    "[Write the value you expect for the length of `BC` here.]"
   ]
  },
  {
   "cell_type": "markdown",
   "metadata": {},
   "source": [
    "# j.2\n",
    "\n",
    "Your next task is to write an expression that computes how many rows there are\n",
    "that are not of target species `1`,\n",
    "have sepal length greater than 4.7, and have petal width greater than 2.\n",
    "\n",
    "Your expression should use `BC`. In fact, there are 23 such rows, so the value of your expression\n",
    "should be 23."
   ]
  },
  {
   "cell_type": "markdown",
   "metadata": {},
   "source": [
    "Solution:"
   ]
  },
  {
   "cell_type": "code",
   "execution_count": null,
   "metadata": {},
   "outputs": [],
   "source": []
  },
  {
   "cell_type": "markdown",
   "metadata": {},
   "source": [
    "# j.3\n",
    "\n",
    "Your final task is to write an expression that returns the rows of `features` that are not of target species 1, have sepal length greater than 4.7, and have petal width greater than 2.  It should use `BC`."
   ]
  },
  {
   "cell_type": "markdown",
   "metadata": {},
   "source": [
    "Solution:"
   ]
  },
  {
   "cell_type": "code",
   "execution_count": null,
   "metadata": {},
   "outputs": [],
   "source": []
  },
  {
   "cell_type": "markdown",
   "metadata": {},
   "source": [
    "# j.4\n",
    "\n",
    "Write an expression that computes how many of the rows computed in `j.3` have target species `0`. (In fact it's `0`,\n",
    "so your expression will have `0` as its value)."
   ]
  },
  {
   "cell_type": "markdown",
   "metadata": {},
   "source": [
    "Solution:"
   ]
  },
  {
   "cell_type": "code",
   "execution_count": null,
   "metadata": {},
   "outputs": [],
   "source": []
  },
  {
   "cell_type": "markdown",
   "metadata": {},
   "source": [
    "# j.5\n"
   ]
  },
  {
   "cell_type": "markdown",
   "metadata": {},
   "source": [
    "Write another  expression that computes how many of the rows computed in `j.3` have target value `2`. (In fact it's 23,\n",
    "so your expression will have `23` as its value)."
   ]
  },
  {
   "cell_type": "markdown",
   "metadata": {},
   "source": [
    "Solution:"
   ]
  },
  {
   "cell_type": "code",
   "execution_count": 230,
   "metadata": {},
   "outputs": [],
   "source": []
  }
 ],
 "metadata": {
  "kernelspec": {
   "display_name": "Python 3 (ipykernel)",
   "language": "python",
   "name": "python3"
  },
  "language_info": {
   "codemirror_mode": {
    "name": "ipython",
    "version": 3
   },
   "file_extension": ".py",
   "mimetype": "text/x-python",
   "name": "python",
   "nbconvert_exporter": "python",
   "pygments_lexer": "ipython3",
   "version": "3.10.6"
  },
  "toc": {
   "base_numbering": 1,
   "nav_menu": {
    "height": "103px",
    "width": "252px"
   },
   "number_sections": true,
   "sideBar": true,
   "skip_h1_title": false,
   "title_cell": "Table of Contents",
   "title_sidebar": "Contents",
   "toc_cell": false,
   "toc_position": {},
   "toc_section_display": "block",
   "toc_window_display": false
  }
 },
 "nbformat": 4,
 "nbformat_minor": 1
}
