{
 "cells": [
  {
   "cell_type": "code",
   "execution_count": 2,
   "id": "5bc958dd",
   "metadata": {},
   "outputs": [],
   "source": [
    "def remainder_one (dividend, divisor=3):\n",
    "    if dividend % divisor == 1: return dividend % divisor == 1"
   ]
  },
  {
   "cell_type": "code",
   "execution_count": 9,
   "id": "8cfd55ed",
   "metadata": {},
   "outputs": [
    {
     "name": "stdout",
     "output_type": "stream",
     "text": [
      "False\n",
      "False\n",
      "True\n",
      "True\n",
      "None\n",
      "False\n",
      "None\n",
      "False\n",
      "None\n"
     ]
    }
   ],
   "source": [
    "print(remainder_one(14,3))  # False\n",
    "print(remainder_one(14))  #False\n",
    "print(remainder_one(16,3))  #True\n",
    "print(remainder_one(16)) # True\n",
    "print(remainder_one(16.0))  #True\n",
    "print(remainder_one(16,2)) #False\n",
    "print(remainder_one(16.0)) # True\n",
    "print(remainder_one(16,2)) # False\n",
    "print(remainder_one(16.1))  # None"
   ]
  },
  {
   "cell_type": "code",
   "execution_count": 4,
   "id": "20b5d6e3",
   "metadata": {},
   "outputs": [],
   "source": [
    "def remainder_one(dividend, divisor = 3):\n",
    "  if dividend % divisor == 1:\n",
    "    return True\n",
    "  elif type(dividend) != int or type(divisor) != int:\n",
    "    return\n",
    "  else:\n",
    "    return False"
   ]
  },
  {
   "cell_type": "code",
   "execution_count": 8,
   "id": "096e3d8a",
   "metadata": {},
   "outputs": [],
   "source": [
    "def remainder_one (dividend, divisor = 3):\n",
    "  if not isinstance(dividend, int) or not isinstance(divisor, int):\n",
    "    return None\n",
    "  try:\n",
    "    return dividend % divisor == 1\n",
    "  except TypeError:\n",
    "    print(\"False\")"
   ]
  },
  {
   "cell_type": "code",
   "execution_count": 10,
   "id": "10c800dd",
   "metadata": {},
   "outputs": [],
   "source": [
    "\n",
    "def fahrenheit_to_celsius_diff(f1, f2=None):\n",
    "    # Put the entire function definition here.\n",
    "    if f2 is None:\n",
    "      cesius = (f1-32)*5/9\n",
    "      return cesius\n",
    "    else:\n",
    "      diff_in_fahrenheit = f1-f2\n",
    "      diff_in_cesius = diff_in_fahrenheit *5/9\n",
    "      return diff_in_cesius\n"
   ]
  },
  {
   "cell_type": "code",
   "execution_count": 13,
   "id": "36c737c3",
   "metadata": {},
   "outputs": [
    {
     "data": {
      "text/plain": [
       "-140.0"
      ]
     },
     "execution_count": 13,
     "metadata": {},
     "output_type": "execute_result"
    }
   ],
   "source": [
    "fahrenheit_to_celsius_diff(-40,212)"
   ]
  },
  {
   "cell_type": "code",
   "execution_count": 17,
   "id": "c5f32434",
   "metadata": {},
   "outputs": [],
   "source": [
    "vowels = 'aeiou'\n",
    "def find_consonants(string):\n",
    "  new_string = ''\n",
    "  for s in string:\n",
    "    if s.lower() not in vowels:\n",
    "     new_string += s\n",
    "  return new_string"
   ]
  },
  {
   "cell_type": "code",
   "execution_count": 18,
   "id": "a9ae5d36",
   "metadata": {},
   "outputs": [
    {
     "data": {
      "text/plain": [
       "'msssspp s th plc fr m'"
      ]
     },
     "execution_count": 18,
     "metadata": {},
     "output_type": "execute_result"
    }
   ],
   "source": [
    "find_consonants('mississippi is the place for me')"
   ]
  },
  {
   "cell_type": "markdown",
   "id": "9ca97af9",
   "metadata": {},
   "source": []
  },
  {
   "cell_type": "code",
   "execution_count": 19,
   "id": "57790908",
   "metadata": {},
   "outputs": [
    {
     "data": {
      "text/plain": [
       "True"
      ]
     },
     "execution_count": 19,
     "metadata": {},
     "output_type": "execute_result"
    }
   ],
   "source": [
    "def remainder_one (dividend, divisor=3):\n",
    "  remain = dividend % divisor\n",
    "  if (remain == 1):\n",
    "     return True\n",
    "  else:\n",
    "    return False"
   ]
  },
  {
   "cell_type": "code",
   "execution_count": 20,
   "id": "25f4f558",
   "metadata": {},
   "outputs": [],
   "source": [
    "def remainder_one (dividend, divisor=3):\n",
    "    return (dividend % divisor == 1)"
   ]
  },
  {
   "cell_type": "code",
   "execution_count": 21,
   "id": "7517e99f",
   "metadata": {},
   "outputs": [
    {
     "data": {
      "text/plain": [
       "78"
      ]
     },
     "execution_count": 21,
     "metadata": {},
     "output_type": "execute_result"
    }
   ],
   "source": [
    "boys = 'Huey Fred Jason Ed Albert Louie'.split()\n",
    "girls = 'Susan Paula Barbara Felicia'.split()\n",
    "neither = 'Lee Sam Kim'.split()\n",
    "\n",
    "people = boys + girls + neither\n",
    "\n",
    "dancers = [(x,y) for x in people for y in people if x < y ]\n",
    "len(dancers)"
   ]
  },
  {
   "cell_type": "code",
   "execution_count": 22,
   "id": "cdb73560",
   "metadata": {},
   "outputs": [
    {
     "data": {
      "text/plain": [
       "[False,\n",
       " False,\n",
       " False,\n",
       " False,\n",
       " False,\n",
       " False,\n",
       " False,\n",
       " False,\n",
       " False,\n",
       " False,\n",
       " False,\n",
       " False,\n",
       " False,\n",
       " False,\n",
       " False,\n",
       " False,\n",
       " False,\n",
       " False,\n",
       " False,\n",
       " False,\n",
       " False,\n",
       " False,\n",
       " False,\n",
       " False,\n",
       " False]"
      ]
     },
     "execution_count": 22,
     "metadata": {},
     "output_type": "execute_result"
    }
   ],
   "source": [
    "XX = ['bad good sad happy']\n",
    "s = str(XX)\n",
    "s = s.replace(' ', ', ')\n",
    "[len(x)== 3 for x in s]"
   ]
  },
  {
   "cell_type": "code",
   "execution_count": 23,
   "id": "eb03c327",
   "metadata": {},
   "outputs": [
    {
     "name": "stdout",
     "output_type": "stream",
     "text": [
      "0 ('Huey', 'Susan')\n",
      "1 ('Fred', 'Paula')\n",
      "2 ('Jason', 'Barbara')\n",
      "3 ('Ed', 'Felicia')\n"
     ]
    }
   ],
   "source": [
    "neither = 'Lee Sam Kim'.split()\n",
    "z = zip(boys, girls)\n",
    "for (i, x) in enumerate(z):\n",
    "  print(i, x)"
   ]
  },
  {
   "cell_type": "code",
   "execution_count": 80,
   "id": "b3eacfc9",
   "metadata": {},
   "outputs": [
    {
     "data": {
      "text/plain": [
       "156"
      ]
     },
     "execution_count": 80,
     "metadata": {},
     "output_type": "execute_result"
    }
   ],
   "source": [
    "pairs = []\n",
    "newlist = people\n",
    "for i in newlist: #iterate through the newly created list\n",
    "  for j in newlist: #iterate a second time through the list\n",
    "    if i != j: #if i doesn't equal j\n",
    "      pairs.append((i,j)) #put the pair in the list\n",
    "len(pairs)"
   ]
  },
  {
   "cell_type": "code",
   "execution_count": 54,
   "id": "3f68a710",
   "metadata": {},
   "outputs": [
    {
     "data": {
      "text/plain": [
       "True"
      ]
     },
     "execution_count": 54,
     "metadata": {},
     "output_type": "execute_result"
    }
   ],
   "source": [
    "('Huey', 'Jason') in pairs"
   ]
  },
  {
   "cell_type": "code",
   "execution_count": 53,
   "id": "e38fc962",
   "metadata": {},
   "outputs": [
    {
     "data": {
      "text/plain": [
       "False"
      ]
     },
     "execution_count": 53,
     "metadata": {},
     "output_type": "execute_result"
    }
   ],
   "source": [
    "('Jason','Huey') in pairs"
   ]
  },
  {
   "cell_type": "code",
   "execution_count": 52,
   "id": "d9487d19",
   "metadata": {},
   "outputs": [],
   "source": [
    "pairs.remove(('Jason','Huey'))"
   ]
  },
  {
   "cell_type": "code",
   "execution_count": 81,
   "id": "834b8fef",
   "metadata": {},
   "outputs": [
    {
     "data": {
      "text/plain": [
       "(78, 78)"
      ]
     },
     "execution_count": 81,
     "metadata": {},
     "output_type": "execute_result"
    }
   ],
   "source": [
    "ctr = 0\n",
    "for (i,j) in pairs: #iterate through the pairs in the pairs list\n",
    "  ctr += 1\n",
    "  if (i,j) == (i,j): #if one pair equals the other pair\n",
    "    pairs.remove((i,j)) #remove it from the list\n",
    "len(pairs),ctr"
   ]
  },
  {
   "cell_type": "code",
   "execution_count": 82,
   "id": "ebe9afe7",
   "metadata": {},
   "outputs": [],
   "source": [
    "seen = []\n",
    "dups = []\n",
    "for (x,y)  in pairs:\n",
    "    if (y,x) in seen:\n",
    "        dups.append((x,y))\n",
    "    else:\n",
    "        seen.append((x,y))"
   ]
  },
  {
   "cell_type": "code",
   "execution_count": 85,
   "id": "4fee8539",
   "metadata": {},
   "outputs": [
    {
     "data": {
      "text/plain": [
       "True"
      ]
     },
     "execution_count": 85,
     "metadata": {},
     "output_type": "execute_result"
    }
   ],
   "source": [
    "('Jason', 'Fred') in pairs"
   ]
  },
  {
   "cell_type": "code",
   "execution_count": 86,
   "id": "61bf7b45",
   "metadata": {},
   "outputs": [
    {
     "data": {
      "text/plain": [
       "True"
      ]
     },
     "execution_count": 86,
     "metadata": {},
     "output_type": "execute_result"
    }
   ],
   "source": [
    "('Fred','Jason') in pairs"
   ]
  },
  {
   "cell_type": "code",
   "execution_count": 84,
   "id": "9e317de8",
   "metadata": {},
   "outputs": [
    {
     "data": {
      "text/plain": [
       "[('Jason', 'Fred'),\n",
       " ('Albert', 'Fred'),\n",
       " ('Albert', 'Ed'),\n",
       " ('Susan', 'Fred'),\n",
       " ('Susan', 'Ed'),\n",
       " ('Susan', 'Louie'),\n",
       " ('Barbara', 'Fred'),\n",
       " ('Barbara', 'Ed'),\n",
       " ('Barbara', 'Louie'),\n",
       " ('Barbara', 'Paula'),\n",
       " ('Lee', 'Fred'),\n",
       " ('Lee', 'Ed'),\n",
       " ('Lee', 'Louie'),\n",
       " ('Lee', 'Paula'),\n",
       " ('Lee', 'Felicia'),\n",
       " ('Kim', 'Fred'),\n",
       " ('Kim', 'Ed'),\n",
       " ('Kim', 'Louie'),\n",
       " ('Kim', 'Paula'),\n",
       " ('Kim', 'Felicia'),\n",
       " ('Kim', 'Sam')]"
      ]
     },
     "execution_count": 84,
     "metadata": {},
     "output_type": "execute_result"
    }
   ],
   "source": [
    "dups"
   ]
  },
  {
   "cell_type": "code",
   "execution_count": 83,
   "id": "3255fb45",
   "metadata": {},
   "outputs": [
    {
     "data": {
      "text/plain": [
       "[('Huey', 'Jason'),\n",
       " ('Huey', 'Albert'),\n",
       " ('Huey', 'Susan'),\n",
       " ('Huey', 'Barbara'),\n",
       " ('Huey', 'Lee'),\n",
       " ('Huey', 'Kim'),\n",
       " ('Fred', 'Jason'),\n",
       " ('Fred', 'Albert'),\n",
       " ('Fred', 'Susan'),\n",
       " ('Fred', 'Barbara'),\n",
       " ('Fred', 'Lee'),\n",
       " ('Fred', 'Kim'),\n",
       " ('Jason', 'Albert'),\n",
       " ('Jason', 'Susan'),\n",
       " ('Jason', 'Barbara'),\n",
       " ('Jason', 'Lee'),\n",
       " ('Jason', 'Kim'),\n",
       " ('Ed', 'Fred'),\n",
       " ('Ed', 'Albert'),\n",
       " ('Ed', 'Susan'),\n",
       " ('Ed', 'Barbara'),\n",
       " ('Ed', 'Lee'),\n",
       " ('Ed', 'Kim'),\n",
       " ('Albert', 'Susan'),\n",
       " ('Albert', 'Barbara'),\n",
       " ('Albert', 'Lee'),\n",
       " ('Albert', 'Kim'),\n",
       " ('Louie', 'Fred'),\n",
       " ('Louie', 'Ed'),\n",
       " ('Louie', 'Susan'),\n",
       " ('Louie', 'Barbara'),\n",
       " ('Louie', 'Lee'),\n",
       " ('Louie', 'Kim'),\n",
       " ('Susan', 'Barbara'),\n",
       " ('Susan', 'Lee'),\n",
       " ('Susan', 'Kim'),\n",
       " ('Paula', 'Fred'),\n",
       " ('Paula', 'Ed'),\n",
       " ('Paula', 'Louie'),\n",
       " ('Paula', 'Barbara'),\n",
       " ('Paula', 'Lee'),\n",
       " ('Paula', 'Kim'),\n",
       " ('Barbara', 'Lee'),\n",
       " ('Barbara', 'Kim'),\n",
       " ('Felicia', 'Fred'),\n",
       " ('Felicia', 'Ed'),\n",
       " ('Felicia', 'Louie'),\n",
       " ('Felicia', 'Paula'),\n",
       " ('Felicia', 'Lee'),\n",
       " ('Felicia', 'Kim'),\n",
       " ('Lee', 'Kim'),\n",
       " ('Sam', 'Fred'),\n",
       " ('Sam', 'Ed'),\n",
       " ('Sam', 'Louie'),\n",
       " ('Sam', 'Paula'),\n",
       " ('Sam', 'Felicia'),\n",
       " ('Sam', 'Kim')]"
      ]
     },
     "execution_count": 83,
     "metadata": {},
     "output_type": "execute_result"
    }
   ],
   "source": [
    "seen"
   ]
  },
  {
   "cell_type": "code",
   "execution_count": 71,
   "id": "4e64606e",
   "metadata": {},
   "outputs": [
    {
     "data": {
      "text/plain": [
       "False"
      ]
     },
     "execution_count": 71,
     "metadata": {},
     "output_type": "execute_result"
    }
   ],
   "source": [
    "f_dancers = {frozenset(p) for p in dancers}\n",
    "f_pairs = {frozenset(p) for p in pairs}\n",
    "f_pairs == f_dancers"
   ]
  },
  {
   "cell_type": "code",
   "execution_count": 75,
   "id": "7bb80cc3",
   "metadata": {},
   "outputs": [
    {
     "data": {
      "text/plain": [
       "(78, 57)"
      ]
     },
     "execution_count": 75,
     "metadata": {},
     "output_type": "execute_result"
    }
   ],
   "source": [
    "len(f_dancers),len(f_pairs)"
   ]
  },
  {
   "cell_type": "code",
   "execution_count": 78,
   "id": "305e73e6",
   "metadata": {},
   "outputs": [
    {
     "data": {
      "text/plain": [
       "False"
      ]
     },
     "execution_count": 78,
     "metadata": {},
     "output_type": "execute_result"
    }
   ],
   "source": [
    "('Huey','Louie') in pairs"
   ]
  },
  {
   "cell_type": "code",
   "execution_count": 79,
   "id": "5ac787db",
   "metadata": {},
   "outputs": [
    {
     "data": {
      "text/plain": [
       "False"
      ]
     },
     "execution_count": 79,
     "metadata": {},
     "output_type": "execute_result"
    }
   ],
   "source": [
    "('Louie','Huey') in pairs"
   ]
  },
  {
   "cell_type": "code",
   "execution_count": 77,
   "id": "31a1e9af",
   "metadata": {},
   "outputs": [
    {
     "data": {
      "text/plain": [
       "True"
      ]
     },
     "execution_count": 77,
     "metadata": {},
     "output_type": "execute_result"
    }
   ],
   "source": [
    "('Huey','Louie') in dancers"
   ]
  },
  {
   "cell_type": "code",
   "execution_count": 74,
   "id": "32bfccc5",
   "metadata": {},
   "outputs": [
    {
     "data": {
      "text/plain": [
       "{frozenset({'Huey', 'Louie'}),\n",
       " frozenset({'Barbara', 'Felicia'}),\n",
       " frozenset({'Sam', 'Susan'}),\n",
       " frozenset({'Felicia', 'Huey'}),\n",
       " frozenset({'Paula', 'Susan'}),\n",
       " frozenset({'Lee', 'Sam'}),\n",
       " frozenset({'Huey', 'Paula'}),\n",
       " frozenset({'Jason', 'Sam'}),\n",
       " frozenset({'Albert', 'Paula'}),\n",
       " frozenset({'Huey', 'Sam'}),\n",
       " frozenset({'Albert', 'Louie'}),\n",
       " frozenset({'Ed', 'Jason'}),\n",
       " frozenset({'Barbara', 'Sam'}),\n",
       " frozenset({'Felicia', 'Susan'}),\n",
       " frozenset({'Felicia', 'Jason'}),\n",
       " frozenset({'Ed', 'Huey'}),\n",
       " frozenset({'Fred', 'Huey'}),\n",
       " frozenset({'Albert', 'Felicia'}),\n",
       " frozenset({'Jason', 'Louie'}),\n",
       " frozenset({'Jason', 'Paula'}),\n",
       " frozenset({'Albert', 'Sam'})}"
      ]
     },
     "execution_count": 74,
     "metadata": {},
     "output_type": "execute_result"
    }
   ],
   "source": [
    "f_dancers - f_pairs"
   ]
  },
  {
   "cell_type": "code",
   "execution_count": 73,
   "id": "0ee7ccd0",
   "metadata": {},
   "outputs": [
    {
     "data": {
      "text/plain": [
       "set()"
      ]
     },
     "execution_count": 73,
     "metadata": {},
     "output_type": "execute_result"
    }
   ],
   "source": [
    "set(f_pairs) - set(f_dancers)"
   ]
  },
  {
   "cell_type": "code",
   "execution_count": 87,
   "id": "84ed4e63",
   "metadata": {},
   "outputs": [],
   "source": [
    "def remainder_one (dividend, divisor = 3):\n",
    "  if not isinstance(dividend, int) or not isinstance(divisor, int):\n",
    "    return None\n",
    "  try:\n",
    "    return dividend % divisor == 1\n",
    "  except TypeError:\n",
    "    print(False)"
   ]
  },
  {
   "cell_type": "code",
   "execution_count": 96,
   "id": "8ad482d5",
   "metadata": {},
   "outputs": [
    {
     "name": "stdout",
     "output_type": "stream",
     "text": [
      "False\n",
      "False\n",
      "True\n",
      "True\n",
      "True\n",
      "False\n",
      "None\n"
     ]
    }
   ],
   "source": [
    "print(remainder_one(14,3))\n",
    "print(remainder_one(14))\n",
    "print(remainder_one(16,3))\n",
    "print(remainder_one(16))\n",
    "print(remainder_one(16.0)) ##Answers above show this as needing to be true?\n",
    "print(remainder_one(16,2))\n",
    "print(remainder_one(16.1))"
   ]
  },
  {
   "cell_type": "code",
   "execution_count": 95,
   "id": "f7aff0be",
   "metadata": {},
   "outputs": [],
   "source": [
    "\n",
    "def remainder_one (dividend, divisor=3):\n",
    "   remainder = dividend % divisor\n",
    "   result = \"None\" if remainder % 1 != 0 else remainder == 1\n",
    "   return result"
   ]
  },
  {
   "cell_type": "code",
   "execution_count": 90,
   "id": "f1b6000d",
   "metadata": {},
   "outputs": [],
   "source": [
    "def remainder_one (dividend, divisor=3):\n",
    "   if len(remainder_one)==1:\n",
    "     print('True')\n",
    "     return remainder_one\n",
    "   else: \n",
    "     return (remainder_one)"
   ]
  },
  {
   "cell_type": "code",
   "execution_count": 93,
   "id": "f9af2e91",
   "metadata": {},
   "outputs": [
    {
     "name": "stdout",
     "output_type": "stream",
     "text": [
      "None\n"
     ]
    }
   ],
   "source": [
    "def remainder_one (dividend, divisor=3):\n",
    "    if dividend.is_integer():\n",
    "      if dividend % divisor == 1: return 'True'\n",
    "      else: return 'False'\n",
    "    else: return 'None'\n",
    "print(remainder_one(16.1))"
   ]
  },
  {
   "cell_type": "code",
   "execution_count": 92,
   "id": "e3384354",
   "metadata": {},
   "outputs": [
    {
     "name": "stdout",
     "output_type": "stream",
     "text": [
      "False\n"
     ]
    }
   ],
   "source": [
    "XX = 'bad good sad happy' \n",
    "# Your code here\n",
    "def toBool(given):\n",
    "  words = given.split(' ')\n",
    "  for x in words:\n",
    "      if x == 'bad': output = 'True'\n",
    "      if x == 'sad': output = 'True'\n",
    "      if x == 'good': output = 'False'\n",
    "      if x == 'happy': output = 'False'\n",
    "  print(output)\n",
    "toBool(XX)"
   ]
  },
  {
   "cell_type": "code",
   "execution_count": 98,
   "id": "77ddae7a",
   "metadata": {},
   "outputs": [],
   "source": [
    "farenheit = 32\n",
    "def fahrenheit_to_celsius_diff(f1,f=32):\n",
    "        return ((f1 - 32) * 5//9)"
   ]
  },
  {
   "cell_type": "code",
   "execution_count": 97,
   "id": "83dffec1",
   "metadata": {},
   "outputs": [
    {
     "data": {
      "text/plain": [
       "-140.0"
      ]
     },
     "execution_count": 97,
     "metadata": {},
     "output_type": "execute_result"
    }
   ],
   "source": [
    "fahrenheit_to_celsius_diff(-40, 212)"
   ]
  },
  {
   "cell_type": "code",
   "execution_count": 99,
   "id": "0ef2fde1",
   "metadata": {},
   "outputs": [
    {
     "data": {
      "text/plain": [
       "-40"
      ]
     },
     "execution_count": 99,
     "metadata": {},
     "output_type": "execute_result"
    }
   ],
   "source": [
    "fahrenheit_to_celsius_diff(-40, 212)"
   ]
  },
  {
   "cell_type": "code",
   "execution_count": 101,
   "id": "774cc482",
   "metadata": {},
   "outputs": [
    {
     "data": {
      "text/plain": [
       "100"
      ]
     },
     "execution_count": 101,
     "metadata": {},
     "output_type": "execute_result"
    }
   ],
   "source": [
    "fahrenheit_to_celsius_diff(212, 0)"
   ]
  },
  {
   "cell_type": "code",
   "execution_count": 102,
   "id": "f00c011e",
   "metadata": {},
   "outputs": [
    {
     "data": {
      "text/plain": [
       "-40"
      ]
     },
     "execution_count": 102,
     "metadata": {},
     "output_type": "execute_result"
    }
   ],
   "source": [
    "\n",
    "fahrenheit_to_celsius_diff(-40, 212)"
   ]
  },
  {
   "cell_type": "code",
   "execution_count": 103,
   "id": "1f46474f",
   "metadata": {},
   "outputs": [
    {
     "ename": "TypeError",
     "evalue": "'int' object is not iterable",
     "output_type": "error",
     "traceback": [
      "\u001b[0;31m---------------------------------------------------------------------------\u001b[0m",
      "\u001b[0;31mTypeError\u001b[0m                                 Traceback (most recent call last)",
      "\u001b[0;32m/var/folders/w9/bx4mylnd27g_kqqgn5hrn2x40000gr/T/ipykernel_52701/1845110276.py\u001b[0m in \u001b[0;36m<module>\u001b[0;34m\u001b[0m\n\u001b[0;32m----> 1\u001b[0;31m \u001b[0mzip\u001b[0m\u001b[0;34m(\u001b[0m\u001b[0;36m1\u001b[0m\u001b[0;34m,\u001b[0m\u001b[0;36m2\u001b[0m\u001b[0;34m)\u001b[0m\u001b[0;34m\u001b[0m\u001b[0;34m\u001b[0m\u001b[0m\n\u001b[0m",
      "\u001b[0;31mTypeError\u001b[0m: 'int' object is not iterable"
     ]
    }
   ],
   "source": [
    "zip(1,2)"
   ]
  },
  {
   "cell_type": "code",
   "execution_count": 105,
   "id": "bdff82ef",
   "metadata": {},
   "outputs": [
    {
     "data": {
      "text/plain": [
       "[('a', 'j'), ('a', 'j')]"
      ]
     },
     "execution_count": 105,
     "metadata": {},
     "output_type": "execute_result"
    }
   ],
   "source": [
    "list(zip('aa','jj'))"
   ]
  },
  {
   "cell_type": "code",
   "execution_count": 106,
   "id": "1c28bae4",
   "metadata": {},
   "outputs": [
    {
     "data": {
      "text/plain": [
       "False"
      ]
     },
     "execution_count": 106,
     "metadata": {},
     "output_type": "execute_result"
    }
   ],
   "source": [
    "isinstance(16.0%3, int)"
   ]
  },
  {
   "cell_type": "code",
   "execution_count": 107,
   "id": "f66735c8",
   "metadata": {},
   "outputs": [],
   "source": [
    "def remainder_one (dividend, divisor=3):\n",
    "   if dividend % divisor == 1:\n",
    "     x = True\n",
    "   elif dividend % divisor != 1 and isinstance (dividend % divisor, int) == True:\n",
    "     x = False\n",
    "   else:\n",
    "     x = None\n",
    "   return x"
   ]
  },
  {
   "cell_type": "code",
   "execution_count": 108,
   "id": "ba5341f9",
   "metadata": {},
   "outputs": [
    {
     "name": "stdout",
     "output_type": "stream",
     "text": [
      "True\n"
     ]
    }
   ],
   "source": [
    "print(remainder_one(16.0))"
   ]
  },
  {
   "cell_type": "code",
   "execution_count": 110,
   "id": "41b57e93",
   "metadata": {},
   "outputs": [
    {
     "ename": "ZeroDivisionError",
     "evalue": "integer division or modulo by zero",
     "output_type": "error",
     "traceback": [
      "\u001b[0;31m---------------------------------------------------------------------------\u001b[0m",
      "\u001b[0;31mZeroDivisionError\u001b[0m                         Traceback (most recent call last)",
      "\u001b[0;32m/var/folders/w9/bx4mylnd27g_kqqgn5hrn2x40000gr/T/ipykernel_52701/1305860960.py\u001b[0m in \u001b[0;36m<module>\u001b[0;34m\u001b[0m\n\u001b[1;32m      1\u001b[0m \u001b[0;32mtry\u001b[0m\u001b[0;34m:\u001b[0m\u001b[0;34m\u001b[0m\u001b[0;34m\u001b[0m\u001b[0m\n\u001b[0;32m----> 2\u001b[0;31m   \u001b[0;36m3\u001b[0m\u001b[0;34m%\u001b[0m\u001b[0;36m0\u001b[0m\u001b[0;34m\u001b[0m\u001b[0;34m\u001b[0m\u001b[0m\n\u001b[0m\u001b[1;32m      3\u001b[0m \u001b[0;32mexcept\u001b[0m \u001b[0mTypeError\u001b[0m\u001b[0;34m:\u001b[0m\u001b[0;34m\u001b[0m\u001b[0;34m\u001b[0m\u001b[0m\n\u001b[1;32m      4\u001b[0m     \u001b[0mprint\u001b[0m\u001b[0;34m(\u001b[0m\u001b[0;34m\"OK\"\u001b[0m\u001b[0;34m)\u001b[0m\u001b[0;34m\u001b[0m\u001b[0;34m\u001b[0m\u001b[0m\n",
      "\u001b[0;31mZeroDivisionError\u001b[0m: integer division or modulo by zero"
     ]
    }
   ],
   "source": [
    "try:\n",
    "  3%0\n",
    "except TypeError:\n",
    "    print(\"OK\")"
   ]
  },
  {
   "cell_type": "code",
   "execution_count": 111,
   "id": "d6952ecf",
   "metadata": {},
   "outputs": [
    {
     "ename": "TypeError",
     "evalue": "not all arguments converted during string formatting",
     "output_type": "error",
     "traceback": [
      "\u001b[0;31m---------------------------------------------------------------------------\u001b[0m",
      "\u001b[0;31mTypeError\u001b[0m                                 Traceback (most recent call last)",
      "\u001b[0;32m/var/folders/w9/bx4mylnd27g_kqqgn5hrn2x40000gr/T/ipykernel_52701/3309758334.py\u001b[0m in \u001b[0;36m<module>\u001b[0;34m\u001b[0m\n\u001b[0;32m----> 1\u001b[0;31m \u001b[0;34m\"Shoe\"\u001b[0m\u001b[0;34m%\u001b[0m\u001b[0;34m\"lace\"\u001b[0m\u001b[0;34m\u001b[0m\u001b[0;34m\u001b[0m\u001b[0m\n\u001b[0m",
      "\u001b[0;31mTypeError\u001b[0m: not all arguments converted during string formatting"
     ]
    }
   ],
   "source": [
    "\"Shoe\"%\"lace\""
   ]
  },
  {
   "cell_type": "code",
   "execution_count": null,
   "id": "3c51282d",
   "metadata": {},
   "outputs": [],
   "source": []
  }
 ],
 "metadata": {
  "kernelspec": {
   "display_name": "Python 3 (ipykernel)",
   "language": "python",
   "name": "python3"
  },
  "language_info": {
   "codemirror_mode": {
    "name": "ipython",
    "version": 3
   },
   "file_extension": ".py",
   "mimetype": "text/x-python",
   "name": "python",
   "nbconvert_exporter": "python",
   "pygments_lexer": "ipython3",
   "version": "3.10.6"
  }
 },
 "nbformat": 4,
 "nbformat_minor": 5
}
