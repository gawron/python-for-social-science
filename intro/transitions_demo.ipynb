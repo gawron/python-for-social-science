{
 "cells": [
  {
   "cell_type": "markdown",
   "metadata": {},
   "source": [
    "# Transitions Demo\n",
    "\n",
    "This notebook introduces you to Tal Yarkoni's `transitions` module, and much of this notebook\n",
    "is taken from the excellent set of examples in [the github repository readme](https://github.com/pytransitions/transitions#diagrams) for the module.\n",
    "\n",
    "This is very lightweight (unlike many graph and finite state packages) and installable with \n",
    "`conda install` or `pip install`."
   ]
  },
  {
   "cell_type": "markdown",
   "metadata": {},
   "source": [
    "## Using transitions"
   ]
  },
  {
   "cell_type": "markdown",
   "metadata": {},
   "source": [
    "This demo is simply a notebook adapted from the [transitions Github README page.](https://github.com/pytransitions/transitions)  with afew small addons to support\n",
    "language processing.\n",
    "\n",
    "The has been updated for notebook display, by  extending the link to `graphviz.agraph` objects,\n",
    "which uses the `to_graph()` method, to `graphviz.Source` objects which have `._repr_mimebundle_`\n",
    "and know how to display themselves in a notebook."
   ]
  },
  {
   "cell_type": "markdown",
   "metadata": {},
   "source": [
    "## Example one:  sheep language (with punctuation!)"
   ]
  },
  {
   "cell_type": "markdown",
   "metadata": {},
   "source": [
    "This beautifully minimal \"language\" is from Jurafsky and Martin  (*Speech and Language Processing*)."
   ]
  },
  {
   "cell_type": "code",
   "execution_count": 2,
   "metadata": {},
   "outputs": [],
   "source": [
    "from transitions import MachineError\n",
    "\n",
    "import random\n",
    "import graphviz\n",
    "try:\n",
    "  import pygraphviz\n",
    "  from transitions.extensions import GraphMachine as Machine\n",
    "  pygraphviz_available = True\n",
    "except ModuleNotFoundError:\n",
    "  from transitions import Machine\n",
    "  pygraphviz_available = False\n",
    "\n",
    "\n",
    "class SheepLanguage(object):\n",
    "\n",
    "    # Define some states. \n",
    "    # Start will be the init state.\n",
    "    states = ['Start','b', 'a1', 'a2','End']\n",
    "    accept = False\n",
    "    source = None\n",
    "    \n",
    "    def __init__ (self):\n",
    "        self.initialize()\n",
    "        self.init_display()\n",
    "\n",
    "    def initialize(self):\n",
    "\n",
    "\n",
    "        # How many instance of the letter \"a\" have we seen?\n",
    "        self.as_seen = 0\n",
    "\n",
    "        # Initialize the state machine\n",
    "        self.machine = Machine(model=self, states=SheepLanguage.states, initial='Start')\n",
    "\n",
    "        # Add some transitions. We could also define these using a static list of\n",
    "        # dictionaries, as we did with states above, and then pass the list to\n",
    "        # the Machine initializer as the transitions= argument.\n",
    "\n",
    "        # See b in start state\n",
    "        self.machine.add_transition(trigger='b', source='Start', dest='b')\n",
    "\n",
    "        # See first a in b state\n",
    "        self.machine.add_transition('a', 'b', 'a1')\n",
    "\n",
    "        # See second a in a1 state\n",
    "        self.machine.add_transition('a', 'a1', 'a2')\n",
    "\n",
    "        # See a in a2 state\n",
    "        self.machine.add_transition('a','a2','a2')\n",
    "        \n",
    "        # See ! in a2 state\n",
    "        self.machine.add_transition('!','a2','End', after='accept_string')\n",
    "\n",
    "    def accept_string(self):\n",
    "        \"\"\" Everything is good. \"\"\"\n",
    "        self.accept = True\n",
    "        return self.accept\n",
    "        \n",
    "    def reject_string(self):\n",
    "        \"\"\" Everything is bad. \"\"\"\n",
    "        self.accept = False\n",
    "        return self.accept\n",
    "        \n",
    "    def consume_string (self, in_str):\n",
    "        for c in in_str:\n",
    "            try:\n",
    "               getattr(self,c)()\n",
    "            except MachineError:\n",
    "               return self.reject_string()\n",
    "        return self.accept\n",
    "    \n",
    "    def init_display(self):\n",
    "        \"\"\"\n",
    "        Needs to be re-executed if the graph is altered.\n",
    "        \"\"\"\n",
    "        if pygraphviz_available:\n",
    "            self.source = graphviz.Source(self.get_graph().to_string())\n",
    "            # This is the attribute tht contains self display info\n",
    "            self._repr_mimebundle_ = self.source._repr_mimebundle_\n",
    "            return None"
   ]
  },
  {
   "cell_type": "code",
   "execution_count": 3,
   "metadata": {},
   "outputs": [
    {
     "data": {
      "image/svg+xml": [
       "<?xml version=\"1.0\" encoding=\"UTF-8\" standalone=\"no\"?>\n",
       "<!DOCTYPE svg PUBLIC \"-//W3C//DTD SVG 1.1//EN\"\n",
       " \"http://www.w3.org/Graphics/SVG/1.1/DTD/svg11.dtd\">\n",
       "<!-- Generated by graphviz version 12.0.0 (0)\n",
       " -->\n",
       "<!-- Pages: 1 -->\n",
       "<svg width=\"453pt\" height=\"83pt\"\n",
       " viewBox=\"0.00 0.00 453.25 82.50\" xmlns=\"http://www.w3.org/2000/svg\" xmlns:xlink=\"http://www.w3.org/1999/xlink\">\n",
       "<g id=\"graph0\" class=\"graph\" transform=\"scale(1 1) rotate(0) translate(4 78.5)\">\n",
       "<polygon fill=\"white\" stroke=\"none\" points=\"-4,4 -4,-78.5 449.25,-78.5 449.25,4 -4,4\"/>\n",
       "<!-- Start -->\n",
       "<g id=\"node1\" class=\"node\">\n",
       "<title>Start</title>\n",
       "<path fill=\"darksalmon\" stroke=\"red\" d=\"M46,-40C46,-40 16,-40 16,-40 10,-40 4,-34 4,-28 4,-28 4,-16 4,-16 4,-10 10,-4 16,-4 16,-4 46,-4 46,-4 52,-4 58,-10 58,-16 58,-16 58,-28 58,-28 58,-34 52,-40 46,-40\"/>\n",
       "<path fill=\"none\" stroke=\"red\" d=\"M50,-44C50,-44 12,-44 12,-44 6,-44 0,-38 0,-32 0,-32 0,-12 0,-12 0,-6 6,0 12,0 12,0 50,0 50,0 56,0 62,-6 62,-12 62,-12 62,-32 62,-32 62,-38 56,-44 50,-44\"/>\n",
       "<text text-anchor=\"start\" x=\"12\" y=\"-16.95\" font-family=\"Times,serif\" font-size=\"14.00\">Start</text>\n",
       "</g>\n",
       "<!-- b -->\n",
       "<g id=\"node2\" class=\"node\">\n",
       "<title>b</title>\n",
       "<path fill=\"white\" stroke=\"black\" d=\"M146.75,-40C146.75,-40 116.75,-40 116.75,-40 110.75,-40 104.75,-34 104.75,-28 104.75,-28 104.75,-16 104.75,-16 104.75,-10 110.75,-4 116.75,-4 116.75,-4 146.75,-4 146.75,-4 152.75,-4 158.75,-10 158.75,-16 158.75,-16 158.75,-28 158.75,-28 158.75,-34 152.75,-40 146.75,-40\"/>\n",
       "<text text-anchor=\"start\" x=\"112.75\" y=\"-16.95\" font-family=\"Times,serif\" font-size=\"14.00\">b</text>\n",
       "</g>\n",
       "<!-- Start&#45;&gt;b -->\n",
       "<g id=\"edge1\" class=\"edge\">\n",
       "<title>Start&#45;&gt;b</title>\n",
       "<path fill=\"none\" stroke=\"black\" d=\"M62.43,-22C72.05,-22 82.79,-22 92.86,-22\"/>\n",
       "<polygon fill=\"black\" stroke=\"black\" points=\"92.74,-25.5 102.74,-22 92.74,-18.5 92.74,-25.5\"/>\n",
       "<text text-anchor=\"middle\" x=\"83.38\" y=\"-25.2\" font-family=\"Times,serif\" font-size=\"14.00\">b</text>\n",
       "</g>\n",
       "<!-- a1 -->\n",
       "<g id=\"node3\" class=\"node\">\n",
       "<title>a1</title>\n",
       "<path fill=\"white\" stroke=\"black\" d=\"M242.75,-40C242.75,-40 212.75,-40 212.75,-40 206.75,-40 200.75,-34 200.75,-28 200.75,-28 200.75,-16 200.75,-16 200.75,-10 206.75,-4 212.75,-4 212.75,-4 242.75,-4 242.75,-4 248.75,-4 254.75,-10 254.75,-16 254.75,-16 254.75,-28 254.75,-28 254.75,-34 248.75,-40 242.75,-40\"/>\n",
       "<text text-anchor=\"start\" x=\"208.75\" y=\"-16.95\" font-family=\"Times,serif\" font-size=\"14.00\">a1</text>\n",
       "</g>\n",
       "<!-- b&#45;&gt;a1 -->\n",
       "<g id=\"edge2\" class=\"edge\">\n",
       "<title>b&#45;&gt;a1</title>\n",
       "<path fill=\"none\" stroke=\"black\" d=\"M159.18,-22C168.47,-22 179.1,-22 189.13,-22\"/>\n",
       "<polygon fill=\"black\" stroke=\"black\" points=\"189,-25.5 199,-22 189,-18.5 189,-25.5\"/>\n",
       "<text text-anchor=\"middle\" x=\"179.75\" y=\"-25.2\" font-family=\"Times,serif\" font-size=\"14.00\">a</text>\n",
       "</g>\n",
       "<!-- a2 -->\n",
       "<g id=\"node4\" class=\"node\">\n",
       "<title>a2</title>\n",
       "<path fill=\"white\" stroke=\"black\" d=\"M338.75,-40C338.75,-40 308.75,-40 308.75,-40 302.75,-40 296.75,-34 296.75,-28 296.75,-28 296.75,-16 296.75,-16 296.75,-10 302.75,-4 308.75,-4 308.75,-4 338.75,-4 338.75,-4 344.75,-4 350.75,-10 350.75,-16 350.75,-16 350.75,-28 350.75,-28 350.75,-34 344.75,-40 338.75,-40\"/>\n",
       "<text text-anchor=\"start\" x=\"304.75\" y=\"-16.95\" font-family=\"Times,serif\" font-size=\"14.00\">a2</text>\n",
       "</g>\n",
       "<!-- a1&#45;&gt;a2 -->\n",
       "<g id=\"edge3\" class=\"edge\">\n",
       "<title>a1&#45;&gt;a2</title>\n",
       "<path fill=\"none\" stroke=\"black\" d=\"M255.18,-22C264.47,-22 275.1,-22 285.13,-22\"/>\n",
       "<polygon fill=\"black\" stroke=\"black\" points=\"285,-25.5 295,-22 285,-18.5 285,-25.5\"/>\n",
       "<text text-anchor=\"middle\" x=\"275.75\" y=\"-25.2\" font-family=\"Times,serif\" font-size=\"14.00\">a</text>\n",
       "</g>\n",
       "<!-- a2&#45;&gt;a2 -->\n",
       "<g id=\"edge4\" class=\"edge\">\n",
       "<title>a2&#45;&gt;a2</title>\n",
       "<path fill=\"none\" stroke=\"black\" d=\"M315.2,-40.15C313.89,-49.54 316.74,-58 323.75,-58 327.7,-58 330.32,-55.32 331.63,-51.31\"/>\n",
       "<polygon fill=\"black\" stroke=\"black\" points=\"335.11,-51.85 332.21,-41.66 328.12,-51.44 335.11,-51.85\"/>\n",
       "<text text-anchor=\"middle\" x=\"323.75\" y=\"-61.2\" font-family=\"Times,serif\" font-size=\"14.00\">a</text>\n",
       "</g>\n",
       "<!-- End -->\n",
       "<g id=\"node5\" class=\"node\">\n",
       "<title>End</title>\n",
       "<path fill=\"white\" stroke=\"black\" d=\"M433.25,-40C433.25,-40 403.25,-40 403.25,-40 397.25,-40 391.25,-34 391.25,-28 391.25,-28 391.25,-16 391.25,-16 391.25,-10 397.25,-4 403.25,-4 403.25,-4 433.25,-4 433.25,-4 439.25,-4 445.25,-10 445.25,-16 445.25,-16 445.25,-28 445.25,-28 445.25,-34 439.25,-40 433.25,-40\"/>\n",
       "<text text-anchor=\"start\" x=\"399.25\" y=\"-16.95\" font-family=\"Times,serif\" font-size=\"14.00\">End</text>\n",
       "</g>\n",
       "<!-- a2&#45;&gt;End -->\n",
       "<g id=\"edge5\" class=\"edge\">\n",
       "<title>a2&#45;&gt;End</title>\n",
       "<path fill=\"none\" stroke=\"black\" d=\"M351.01,-22C359.89,-22 370,-22 379.59,-22\"/>\n",
       "<polygon fill=\"black\" stroke=\"black\" points=\"379.41,-25.5 389.41,-22 379.41,-18.5 379.41,-25.5\"/>\n",
       "<text text-anchor=\"middle\" x=\"371\" y=\"-25.2\" font-family=\"Times,serif\" font-size=\"14.00\">!</text>\n",
       "</g>\n",
       "</g>\n",
       "</svg>\n"
      ],
      "text/plain": [
       "<__main__.SheepLanguage at 0x105e2df40>"
      ]
     },
     "execution_count": 3,
     "metadata": {},
     "output_type": "execute_result"
    }
   ],
   "source": [
    "sl = SheepLanguage()\n",
    "sl\n",
    "# Uncomment this to get your sheep network drawn & saved as a file.\n",
    "#sl.get_graph().draw('sheep_language.png', prog='dot')"
   ]
  },
  {
   "cell_type": "code",
   "execution_count": 4,
   "metadata": {},
   "outputs": [
    {
     "data": {
      "text/plain": [
       "True"
      ]
     },
     "execution_count": 4,
     "metadata": {},
     "output_type": "execute_result"
    }
   ],
   "source": [
    "sl.b()"
   ]
  },
  {
   "cell_type": "code",
   "execution_count": 5,
   "metadata": {},
   "outputs": [
    {
     "data": {
      "text/plain": [
       "'b'"
      ]
     },
     "execution_count": 5,
     "metadata": {},
     "output_type": "execute_result"
    }
   ],
   "source": [
    "sl.state"
   ]
  },
  {
   "cell_type": "code",
   "execution_count": 6,
   "metadata": {},
   "outputs": [
    {
     "ename": "MachineError",
     "evalue": "\"Can't trigger event b from state b!\"",
     "output_type": "error",
     "traceback": [
      "\u001b[0;31m---------------------------------------------------------------------------\u001b[0m",
      "\u001b[0;31mMachineError\u001b[0m                              Traceback (most recent call last)",
      "Cell \u001b[0;32mIn[6], line 1\u001b[0m\n\u001b[0;32m----> 1\u001b[0m sl\u001b[38;5;241m.\u001b[39mb()\n",
      "File \u001b[0;32m~/opt/anaconda3/envs/p312/lib/python3.12/site-packages/transitions/core.py:406\u001b[0m, in \u001b[0;36mEvent.trigger\u001b[0;34m(self, model, *args, **kwargs)\u001b[0m\n\u001b[1;32m    401\u001b[0m func \u001b[38;5;241m=\u001b[39m partial(\u001b[38;5;28mself\u001b[39m\u001b[38;5;241m.\u001b[39m_trigger, EventData(\u001b[38;5;28;01mNone\u001b[39;00m, \u001b[38;5;28mself\u001b[39m, \u001b[38;5;28mself\u001b[39m\u001b[38;5;241m.\u001b[39mmachine, model, args\u001b[38;5;241m=\u001b[39margs, kwargs\u001b[38;5;241m=\u001b[39mkwargs))\n\u001b[1;32m    402\u001b[0m \u001b[38;5;66;03m# pylint: disable=protected-access\u001b[39;00m\n\u001b[1;32m    403\u001b[0m \u001b[38;5;66;03m# noinspection PyProtectedMember\u001b[39;00m\n\u001b[1;32m    404\u001b[0m \u001b[38;5;66;03m# Machine._process should not be called somewhere else. That's why it should not be exposed\u001b[39;00m\n\u001b[1;32m    405\u001b[0m \u001b[38;5;66;03m# to Machine users.\u001b[39;00m\n\u001b[0;32m--> 406\u001b[0m \u001b[38;5;28;01mreturn\u001b[39;00m \u001b[38;5;28mself\u001b[39m\u001b[38;5;241m.\u001b[39mmachine\u001b[38;5;241m.\u001b[39m_process(func)\n",
      "File \u001b[0;32m~/opt/anaconda3/envs/p312/lib/python3.12/site-packages/transitions/core.py:1239\u001b[0m, in \u001b[0;36mMachine._process\u001b[0;34m(self, trigger)\u001b[0m\n\u001b[1;32m   1236\u001b[0m \u001b[38;5;28;01mif\u001b[39;00m \u001b[38;5;129;01mnot\u001b[39;00m \u001b[38;5;28mself\u001b[39m\u001b[38;5;241m.\u001b[39mhas_queue:\n\u001b[1;32m   1237\u001b[0m     \u001b[38;5;28;01mif\u001b[39;00m \u001b[38;5;129;01mnot\u001b[39;00m \u001b[38;5;28mself\u001b[39m\u001b[38;5;241m.\u001b[39m_transition_queue:\n\u001b[1;32m   1238\u001b[0m         \u001b[38;5;66;03m# if trigger raises an Error, it has to be handled by the Machine.process caller\u001b[39;00m\n\u001b[0;32m-> 1239\u001b[0m         \u001b[38;5;28;01mreturn\u001b[39;00m trigger()\n\u001b[1;32m   1240\u001b[0m     \u001b[38;5;28;01mraise\u001b[39;00m MachineError(\u001b[38;5;124m\"\u001b[39m\u001b[38;5;124mAttempt to process events synchronously while transition queue is not empty!\u001b[39m\u001b[38;5;124m\"\u001b[39m)\n\u001b[1;32m   1242\u001b[0m \u001b[38;5;66;03m# process queued events\u001b[39;00m\n",
      "File \u001b[0;32m~/opt/anaconda3/envs/p312/lib/python3.12/site-packages/transitions/core.py:419\u001b[0m, in \u001b[0;36mEvent._trigger\u001b[0;34m(self, event_data)\u001b[0m\n\u001b[1;32m    417\u001b[0m event_data\u001b[38;5;241m.\u001b[39mstate \u001b[38;5;241m=\u001b[39m \u001b[38;5;28mself\u001b[39m\u001b[38;5;241m.\u001b[39mmachine\u001b[38;5;241m.\u001b[39mget_model_state(event_data\u001b[38;5;241m.\u001b[39mmodel)\n\u001b[1;32m    418\u001b[0m \u001b[38;5;28;01mtry\u001b[39;00m:\n\u001b[0;32m--> 419\u001b[0m     \u001b[38;5;28;01mif\u001b[39;00m \u001b[38;5;28mself\u001b[39m\u001b[38;5;241m.\u001b[39m_is_valid_source(event_data\u001b[38;5;241m.\u001b[39mstate):\n\u001b[1;32m    420\u001b[0m         \u001b[38;5;28mself\u001b[39m\u001b[38;5;241m.\u001b[39m_process(event_data)\n\u001b[1;32m    421\u001b[0m \u001b[38;5;28;01mexcept\u001b[39;00m \u001b[38;5;167;01mBaseException\u001b[39;00m \u001b[38;5;28;01mas\u001b[39;00m err:  \u001b[38;5;66;03m# pylint: disable=broad-except; Exception will be handled elsewhere\u001b[39;00m\n",
      "File \u001b[0;32m~/opt/anaconda3/envs/p312/lib/python3.12/site-packages/transitions/core.py:456\u001b[0m, in \u001b[0;36mEvent._is_valid_source\u001b[0;34m(self, state)\u001b[0m\n\u001b[1;32m    454\u001b[0m         _LOGGER\u001b[38;5;241m.\u001b[39mwarning(msg)\n\u001b[1;32m    455\u001b[0m         \u001b[38;5;28;01mreturn\u001b[39;00m \u001b[38;5;28;01mFalse\u001b[39;00m\n\u001b[0;32m--> 456\u001b[0m     \u001b[38;5;28;01mraise\u001b[39;00m MachineError(msg)\n\u001b[1;32m    457\u001b[0m \u001b[38;5;28;01mreturn\u001b[39;00m \u001b[38;5;28;01mTrue\u001b[39;00m\n",
      "\u001b[0;31mMachineError\u001b[0m: \"Can't trigger event b from state b!\""
     ]
    }
   ],
   "source": [
    "sl.b()"
   ]
  },
  {
   "cell_type": "code",
   "execution_count": 7,
   "metadata": {},
   "outputs": [
    {
     "data": {
      "text/plain": [
       "True"
      ]
     },
     "execution_count": 7,
     "metadata": {},
     "output_type": "execute_result"
    }
   ],
   "source": [
    "sl.a()"
   ]
  },
  {
   "cell_type": "code",
   "execution_count": 8,
   "metadata": {},
   "outputs": [
    {
     "data": {
      "text/plain": [
       "False"
      ]
     },
     "execution_count": 8,
     "metadata": {},
     "output_type": "execute_result"
    }
   ],
   "source": [
    "sl.accept"
   ]
  },
  {
   "cell_type": "code",
   "execution_count": 9,
   "metadata": {},
   "outputs": [
    {
     "data": {
      "text/plain": [
       "True"
      ]
     },
     "execution_count": 9,
     "metadata": {},
     "output_type": "execute_result"
    }
   ],
   "source": [
    "sl.a()"
   ]
  },
  {
   "cell_type": "code",
   "execution_count": 10,
   "metadata": {},
   "outputs": [
    {
     "data": {
      "text/plain": [
       "False"
      ]
     },
     "execution_count": 10,
     "metadata": {},
     "output_type": "execute_result"
    }
   ],
   "source": [
    "sl.accept"
   ]
  },
  {
   "cell_type": "code",
   "execution_count": 11,
   "metadata": {},
   "outputs": [
    {
     "data": {
      "text/plain": [
       "True"
      ]
     },
     "execution_count": 11,
     "metadata": {},
     "output_type": "execute_result"
    }
   ],
   "source": [
    "# sl.!()  is a Python syntax error, because '!' is not a legal 1st char for a name\n",
    "getattr(sl,'!')()"
   ]
  },
  {
   "cell_type": "code",
   "execution_count": 12,
   "metadata": {},
   "outputs": [
    {
     "data": {
      "text/plain": [
       "True"
      ]
     },
     "execution_count": 12,
     "metadata": {},
     "output_type": "execute_result"
    }
   ],
   "source": [
    "sl.accept"
   ]
  },
  {
   "cell_type": "code",
   "execution_count": 13,
   "metadata": {
    "scrolled": true
   },
   "outputs": [
    {
     "ename": "MachineError",
     "evalue": "\"Can't trigger event ! from state End!\"",
     "output_type": "error",
     "traceback": [
      "\u001b[0;31m---------------------------------------------------------------------------\u001b[0m",
      "\u001b[0;31mMachineError\u001b[0m                              Traceback (most recent call last)",
      "Cell \u001b[0;32mIn[13], line 1\u001b[0m\n\u001b[0;32m----> 1\u001b[0m \u001b[38;5;28mgetattr\u001b[39m(sl,\u001b[38;5;124m'\u001b[39m\u001b[38;5;124m!\u001b[39m\u001b[38;5;124m'\u001b[39m)()\n",
      "File \u001b[0;32m~/opt/anaconda3/envs/p312/lib/python3.12/site-packages/transitions/core.py:406\u001b[0m, in \u001b[0;36mEvent.trigger\u001b[0;34m(self, model, *args, **kwargs)\u001b[0m\n\u001b[1;32m    401\u001b[0m func \u001b[38;5;241m=\u001b[39m partial(\u001b[38;5;28mself\u001b[39m\u001b[38;5;241m.\u001b[39m_trigger, EventData(\u001b[38;5;28;01mNone\u001b[39;00m, \u001b[38;5;28mself\u001b[39m, \u001b[38;5;28mself\u001b[39m\u001b[38;5;241m.\u001b[39mmachine, model, args\u001b[38;5;241m=\u001b[39margs, kwargs\u001b[38;5;241m=\u001b[39mkwargs))\n\u001b[1;32m    402\u001b[0m \u001b[38;5;66;03m# pylint: disable=protected-access\u001b[39;00m\n\u001b[1;32m    403\u001b[0m \u001b[38;5;66;03m# noinspection PyProtectedMember\u001b[39;00m\n\u001b[1;32m    404\u001b[0m \u001b[38;5;66;03m# Machine._process should not be called somewhere else. That's why it should not be exposed\u001b[39;00m\n\u001b[1;32m    405\u001b[0m \u001b[38;5;66;03m# to Machine users.\u001b[39;00m\n\u001b[0;32m--> 406\u001b[0m \u001b[38;5;28;01mreturn\u001b[39;00m \u001b[38;5;28mself\u001b[39m\u001b[38;5;241m.\u001b[39mmachine\u001b[38;5;241m.\u001b[39m_process(func)\n",
      "File \u001b[0;32m~/opt/anaconda3/envs/p312/lib/python3.12/site-packages/transitions/core.py:1239\u001b[0m, in \u001b[0;36mMachine._process\u001b[0;34m(self, trigger)\u001b[0m\n\u001b[1;32m   1236\u001b[0m \u001b[38;5;28;01mif\u001b[39;00m \u001b[38;5;129;01mnot\u001b[39;00m \u001b[38;5;28mself\u001b[39m\u001b[38;5;241m.\u001b[39mhas_queue:\n\u001b[1;32m   1237\u001b[0m     \u001b[38;5;28;01mif\u001b[39;00m \u001b[38;5;129;01mnot\u001b[39;00m \u001b[38;5;28mself\u001b[39m\u001b[38;5;241m.\u001b[39m_transition_queue:\n\u001b[1;32m   1238\u001b[0m         \u001b[38;5;66;03m# if trigger raises an Error, it has to be handled by the Machine.process caller\u001b[39;00m\n\u001b[0;32m-> 1239\u001b[0m         \u001b[38;5;28;01mreturn\u001b[39;00m trigger()\n\u001b[1;32m   1240\u001b[0m     \u001b[38;5;28;01mraise\u001b[39;00m MachineError(\u001b[38;5;124m\"\u001b[39m\u001b[38;5;124mAttempt to process events synchronously while transition queue is not empty!\u001b[39m\u001b[38;5;124m\"\u001b[39m)\n\u001b[1;32m   1242\u001b[0m \u001b[38;5;66;03m# process queued events\u001b[39;00m\n",
      "File \u001b[0;32m~/opt/anaconda3/envs/p312/lib/python3.12/site-packages/transitions/core.py:419\u001b[0m, in \u001b[0;36mEvent._trigger\u001b[0;34m(self, event_data)\u001b[0m\n\u001b[1;32m    417\u001b[0m event_data\u001b[38;5;241m.\u001b[39mstate \u001b[38;5;241m=\u001b[39m \u001b[38;5;28mself\u001b[39m\u001b[38;5;241m.\u001b[39mmachine\u001b[38;5;241m.\u001b[39mget_model_state(event_data\u001b[38;5;241m.\u001b[39mmodel)\n\u001b[1;32m    418\u001b[0m \u001b[38;5;28;01mtry\u001b[39;00m:\n\u001b[0;32m--> 419\u001b[0m     \u001b[38;5;28;01mif\u001b[39;00m \u001b[38;5;28mself\u001b[39m\u001b[38;5;241m.\u001b[39m_is_valid_source(event_data\u001b[38;5;241m.\u001b[39mstate):\n\u001b[1;32m    420\u001b[0m         \u001b[38;5;28mself\u001b[39m\u001b[38;5;241m.\u001b[39m_process(event_data)\n\u001b[1;32m    421\u001b[0m \u001b[38;5;28;01mexcept\u001b[39;00m \u001b[38;5;167;01mBaseException\u001b[39;00m \u001b[38;5;28;01mas\u001b[39;00m err:  \u001b[38;5;66;03m# pylint: disable=broad-except; Exception will be handled elsewhere\u001b[39;00m\n",
      "File \u001b[0;32m~/opt/anaconda3/envs/p312/lib/python3.12/site-packages/transitions/core.py:456\u001b[0m, in \u001b[0;36mEvent._is_valid_source\u001b[0;34m(self, state)\u001b[0m\n\u001b[1;32m    454\u001b[0m         _LOGGER\u001b[38;5;241m.\u001b[39mwarning(msg)\n\u001b[1;32m    455\u001b[0m         \u001b[38;5;28;01mreturn\u001b[39;00m \u001b[38;5;28;01mFalse\u001b[39;00m\n\u001b[0;32m--> 456\u001b[0m     \u001b[38;5;28;01mraise\u001b[39;00m MachineError(msg)\n\u001b[1;32m    457\u001b[0m \u001b[38;5;28;01mreturn\u001b[39;00m \u001b[38;5;28;01mTrue\u001b[39;00m\n",
      "\u001b[0;31mMachineError\u001b[0m: \"Can't trigger event ! from state End!\""
     ]
    }
   ],
   "source": [
    "getattr(sl,'!')()"
   ]
  },
  {
   "cell_type": "markdown",
   "metadata": {},
   "source": [
    "### Consuming strings"
   ]
  },
  {
   "cell_type": "code",
   "execution_count": 14,
   "metadata": {},
   "outputs": [
    {
     "data": {
      "image/svg+xml": [
       "<?xml version=\"1.0\" encoding=\"UTF-8\" standalone=\"no\"?>\n",
       "<!DOCTYPE svg PUBLIC \"-//W3C//DTD SVG 1.1//EN\"\n",
       " \"http://www.w3.org/Graphics/SVG/1.1/DTD/svg11.dtd\">\n",
       "<!-- Generated by graphviz version 12.0.0 (0)\n",
       " -->\n",
       "<!-- Pages: 1 -->\n",
       "<svg width=\"453pt\" height=\"83pt\"\n",
       " viewBox=\"0.00 0.00 453.25 82.50\" xmlns=\"http://www.w3.org/2000/svg\" xmlns:xlink=\"http://www.w3.org/1999/xlink\">\n",
       "<g id=\"graph0\" class=\"graph\" transform=\"scale(1 1) rotate(0) translate(4 78.5)\">\n",
       "<polygon fill=\"white\" stroke=\"none\" points=\"-4,4 -4,-78.5 449.25,-78.5 449.25,4 -4,4\"/>\n",
       "<!-- Start -->\n",
       "<g id=\"node1\" class=\"node\">\n",
       "<title>Start</title>\n",
       "<path fill=\"darksalmon\" stroke=\"red\" d=\"M46,-40C46,-40 16,-40 16,-40 10,-40 4,-34 4,-28 4,-28 4,-16 4,-16 4,-10 10,-4 16,-4 16,-4 46,-4 46,-4 52,-4 58,-10 58,-16 58,-16 58,-28 58,-28 58,-34 52,-40 46,-40\"/>\n",
       "<path fill=\"none\" stroke=\"red\" d=\"M50,-44C50,-44 12,-44 12,-44 6,-44 0,-38 0,-32 0,-32 0,-12 0,-12 0,-6 6,0 12,0 12,0 50,0 50,0 56,0 62,-6 62,-12 62,-12 62,-32 62,-32 62,-38 56,-44 50,-44\"/>\n",
       "<text text-anchor=\"start\" x=\"12\" y=\"-16.95\" font-family=\"Times,serif\" font-size=\"14.00\">Start</text>\n",
       "</g>\n",
       "<!-- b -->\n",
       "<g id=\"node2\" class=\"node\">\n",
       "<title>b</title>\n",
       "<path fill=\"white\" stroke=\"black\" d=\"M146.75,-40C146.75,-40 116.75,-40 116.75,-40 110.75,-40 104.75,-34 104.75,-28 104.75,-28 104.75,-16 104.75,-16 104.75,-10 110.75,-4 116.75,-4 116.75,-4 146.75,-4 146.75,-4 152.75,-4 158.75,-10 158.75,-16 158.75,-16 158.75,-28 158.75,-28 158.75,-34 152.75,-40 146.75,-40\"/>\n",
       "<text text-anchor=\"start\" x=\"112.75\" y=\"-16.95\" font-family=\"Times,serif\" font-size=\"14.00\">b</text>\n",
       "</g>\n",
       "<!-- Start&#45;&gt;b -->\n",
       "<g id=\"edge1\" class=\"edge\">\n",
       "<title>Start&#45;&gt;b</title>\n",
       "<path fill=\"none\" stroke=\"black\" d=\"M62.43,-22C72.05,-22 82.79,-22 92.86,-22\"/>\n",
       "<polygon fill=\"black\" stroke=\"black\" points=\"92.74,-25.5 102.74,-22 92.74,-18.5 92.74,-25.5\"/>\n",
       "<text text-anchor=\"middle\" x=\"83.38\" y=\"-25.2\" font-family=\"Times,serif\" font-size=\"14.00\">b</text>\n",
       "</g>\n",
       "<!-- a1 -->\n",
       "<g id=\"node3\" class=\"node\">\n",
       "<title>a1</title>\n",
       "<path fill=\"white\" stroke=\"black\" d=\"M242.75,-40C242.75,-40 212.75,-40 212.75,-40 206.75,-40 200.75,-34 200.75,-28 200.75,-28 200.75,-16 200.75,-16 200.75,-10 206.75,-4 212.75,-4 212.75,-4 242.75,-4 242.75,-4 248.75,-4 254.75,-10 254.75,-16 254.75,-16 254.75,-28 254.75,-28 254.75,-34 248.75,-40 242.75,-40\"/>\n",
       "<text text-anchor=\"start\" x=\"208.75\" y=\"-16.95\" font-family=\"Times,serif\" font-size=\"14.00\">a1</text>\n",
       "</g>\n",
       "<!-- b&#45;&gt;a1 -->\n",
       "<g id=\"edge2\" class=\"edge\">\n",
       "<title>b&#45;&gt;a1</title>\n",
       "<path fill=\"none\" stroke=\"black\" d=\"M159.18,-22C168.47,-22 179.1,-22 189.13,-22\"/>\n",
       "<polygon fill=\"black\" stroke=\"black\" points=\"189,-25.5 199,-22 189,-18.5 189,-25.5\"/>\n",
       "<text text-anchor=\"middle\" x=\"179.75\" y=\"-25.2\" font-family=\"Times,serif\" font-size=\"14.00\">a</text>\n",
       "</g>\n",
       "<!-- a2 -->\n",
       "<g id=\"node4\" class=\"node\">\n",
       "<title>a2</title>\n",
       "<path fill=\"white\" stroke=\"black\" d=\"M338.75,-40C338.75,-40 308.75,-40 308.75,-40 302.75,-40 296.75,-34 296.75,-28 296.75,-28 296.75,-16 296.75,-16 296.75,-10 302.75,-4 308.75,-4 308.75,-4 338.75,-4 338.75,-4 344.75,-4 350.75,-10 350.75,-16 350.75,-16 350.75,-28 350.75,-28 350.75,-34 344.75,-40 338.75,-40\"/>\n",
       "<text text-anchor=\"start\" x=\"304.75\" y=\"-16.95\" font-family=\"Times,serif\" font-size=\"14.00\">a2</text>\n",
       "</g>\n",
       "<!-- a1&#45;&gt;a2 -->\n",
       "<g id=\"edge3\" class=\"edge\">\n",
       "<title>a1&#45;&gt;a2</title>\n",
       "<path fill=\"none\" stroke=\"black\" d=\"M255.18,-22C264.47,-22 275.1,-22 285.13,-22\"/>\n",
       "<polygon fill=\"black\" stroke=\"black\" points=\"285,-25.5 295,-22 285,-18.5 285,-25.5\"/>\n",
       "<text text-anchor=\"middle\" x=\"275.75\" y=\"-25.2\" font-family=\"Times,serif\" font-size=\"14.00\">a</text>\n",
       "</g>\n",
       "<!-- a2&#45;&gt;a2 -->\n",
       "<g id=\"edge4\" class=\"edge\">\n",
       "<title>a2&#45;&gt;a2</title>\n",
       "<path fill=\"none\" stroke=\"black\" d=\"M315.2,-40.15C313.89,-49.54 316.74,-58 323.75,-58 327.7,-58 330.32,-55.32 331.63,-51.31\"/>\n",
       "<polygon fill=\"black\" stroke=\"black\" points=\"335.11,-51.85 332.21,-41.66 328.12,-51.44 335.11,-51.85\"/>\n",
       "<text text-anchor=\"middle\" x=\"323.75\" y=\"-61.2\" font-family=\"Times,serif\" font-size=\"14.00\">a</text>\n",
       "</g>\n",
       "<!-- End -->\n",
       "<g id=\"node5\" class=\"node\">\n",
       "<title>End</title>\n",
       "<path fill=\"white\" stroke=\"black\" d=\"M433.25,-40C433.25,-40 403.25,-40 403.25,-40 397.25,-40 391.25,-34 391.25,-28 391.25,-28 391.25,-16 391.25,-16 391.25,-10 397.25,-4 403.25,-4 403.25,-4 433.25,-4 433.25,-4 439.25,-4 445.25,-10 445.25,-16 445.25,-16 445.25,-28 445.25,-28 445.25,-34 439.25,-40 433.25,-40\"/>\n",
       "<text text-anchor=\"start\" x=\"399.25\" y=\"-16.95\" font-family=\"Times,serif\" font-size=\"14.00\">End</text>\n",
       "</g>\n",
       "<!-- a2&#45;&gt;End -->\n",
       "<g id=\"edge5\" class=\"edge\">\n",
       "<title>a2&#45;&gt;End</title>\n",
       "<path fill=\"none\" stroke=\"black\" d=\"M351.01,-22C359.89,-22 370,-22 379.59,-22\"/>\n",
       "<polygon fill=\"black\" stroke=\"black\" points=\"379.41,-25.5 389.41,-22 379.41,-18.5 379.41,-25.5\"/>\n",
       "<text text-anchor=\"middle\" x=\"371\" y=\"-25.2\" font-family=\"Times,serif\" font-size=\"14.00\">!</text>\n",
       "</g>\n",
       "</g>\n",
       "</svg>\n"
      ],
      "text/plain": [
       "<__main__.SheepLanguage at 0x105e2df40>"
      ]
     },
     "execution_count": 14,
     "metadata": {},
     "output_type": "execute_result"
    }
   ],
   "source": [
    "sl"
   ]
  },
  {
   "cell_type": "code",
   "execution_count": 15,
   "metadata": {},
   "outputs": [
    {
     "data": {
      "text/plain": [
       "True"
      ]
     },
     "execution_count": 15,
     "metadata": {},
     "output_type": "execute_result"
    }
   ],
   "source": [
    "sl = SheepLanguage()\n",
    "sl.consume_string('baa!')"
   ]
  },
  {
   "cell_type": "code",
   "execution_count": 16,
   "metadata": {},
   "outputs": [
    {
     "data": {
      "text/plain": [
       "True"
      ]
     },
     "execution_count": 16,
     "metadata": {},
     "output_type": "execute_result"
    }
   ],
   "source": [
    "sl = SheepLanguage()\n",
    "sl.consume_string('baaaa!')"
   ]
  },
  {
   "cell_type": "code",
   "execution_count": 17,
   "metadata": {},
   "outputs": [
    {
     "data": {
      "text/plain": [
       "False"
      ]
     },
     "execution_count": 17,
     "metadata": {},
     "output_type": "execute_result"
    }
   ],
   "source": [
    "sl = SheepLanguage()\n",
    "sl.consume_string('ba!')"
   ]
  },
  {
   "cell_type": "code",
   "execution_count": 18,
   "metadata": {},
   "outputs": [
    {
     "data": {
      "text/plain": [
       "False"
      ]
     },
     "execution_count": 18,
     "metadata": {},
     "output_type": "execute_result"
    }
   ],
   "source": [
    "sl = SheepLanguage()\n",
    "sl.consume_string('baa!a')"
   ]
  },
  {
   "cell_type": "code",
   "execution_count": 19,
   "metadata": {},
   "outputs": [
    {
     "data": {
      "text/plain": [
       "False"
      ]
     },
     "execution_count": 19,
     "metadata": {},
     "output_type": "execute_result"
    }
   ],
   "source": [
    "sl = SheepLanguage()\n",
    "sl.consume_string('baa')"
   ]
  },
  {
   "cell_type": "markdown",
   "metadata": {},
   "source": [
    "## Superhero state machine\n",
    "\n",
    "Next a non-linguistic example."
   ]
  },
  {
   "cell_type": "code",
   "execution_count": 20,
   "metadata": {},
   "outputs": [],
   "source": [
    "from transitions import MachineError\n",
    "import random\n",
    "import graphviz\n",
    "\n",
    "try:\n",
    "  import pygraphviz\n",
    "  from transitions.extensions import GraphMachine as Machine\n",
    "  pygraphviz_available = True\n",
    "except ModuleNotFoundError:\n",
    "  from transitions import Machine\n",
    "  pygraphviz_available = False\n",
    "\n",
    "\n",
    "class NarcolepticSuperhero(object):\n",
    "\n",
    "    # Define some states. Most of the time, narcoleptic superheroes are just like\n",
    "    # everyone else. Except for...\n",
    "    # asleep will be the init state.\n",
    "    states = ['asleep', 'hanging out', 'hungry', 'sweaty', 'saving the world']\n",
    "    \n",
    "    def __init__ (self,name):\n",
    "        self._initialize(name)\n",
    "        self.init_display()\n",
    "\n",
    "    def _initialize(self, name):\n",
    "\n",
    "        # No anonymous superheroes on my watch! Every narcoleptic superhero gets\n",
    "        # a name. Any name at all. SleepyMan. SlumberGirl. You get the idea.\n",
    "        self.name = name\n",
    "\n",
    "        # What have we accomplished today?\n",
    "        self.kittens_rescued = 0\n",
    "\n",
    "        # Initialize the state machine\n",
    "        self.machine = Machine(model=self, states=NarcolepticSuperhero.states, initial='asleep')\n",
    "\n",
    "        # Add some transitions. We could also define these using a static list of\n",
    "        # dictionaries, as we did with states above, and then pass the list to\n",
    "        # the Machine initializer as the transitions= argument.\n",
    "\n",
    "        # At some point, every superhero must rise and shine.\n",
    "        self.machine.add_transition(trigger='wake_up', source='asleep', dest='hanging out')\n",
    "\n",
    "        # Superheroes need to keep in shape.\n",
    "        self.machine.add_transition('work_out', 'hanging out', 'hungry')\n",
    "\n",
    "        # Those calories won't replenish themselves!\n",
    "        self.machine.add_transition('eat', 'hungry', 'hanging out')\n",
    "\n",
    "        # Superheroes are always on call. ALWAYS. But they're not always\n",
    "        # dressed in work-appropriate clothing.\n",
    "        self.machine.add_transition('distress_call', '*', 'saving the world',\n",
    "                         before='change_into_super_secret_costume')\n",
    "\n",
    "        # When they get off work, they're all sweaty and disgusting. But before\n",
    "        # they do anything else, they have to meticulously log their latest\n",
    "        # escapades. Because the legal department says so.\n",
    "        self.machine.add_transition('complete_mission', 'saving the world', 'sweaty',\n",
    "                         after='update_journal')\n",
    "\n",
    "        # Sweat is a disorder that can be remedied with water.\n",
    "        # Unless you've had a particularly long day, in which case... bed time!\n",
    "        self.machine.add_transition('clean_up', 'sweaty', 'asleep', conditions=['is_exhausted'])\n",
    "        self.machine.add_transition('clean_up', 'sweaty', 'hanging out')\n",
    "\n",
    "        # Our NarcolepticSuperhero can fall asleep at pretty much any time.\n",
    "        self.machine.add_transition('nap', '*', 'asleep')\n",
    "\n",
    "    def update_journal(self):\n",
    "        \"\"\" Dear Diary, today I saved Mr. Whiskers. Again. \"\"\"\n",
    "        self.kittens_rescued += 1\n",
    "\n",
    "    @property\n",
    "    def is_exhausted(self):\n",
    "        \"\"\" Basically a coin toss. \"\"\"\n",
    "        return random.random() < 0.5\n",
    "\n",
    "    def change_into_super_secret_costume(self):\n",
    "        print(\"Beauty, eh?\")\n",
    "        \n",
    "    def init_display(self):\n",
    "        \"\"\"\n",
    "        Needs to be re-exceuted if the graph is altered.\n",
    "        \"\"\"\n",
    "        if pygraphviz_available:\n",
    "            self.source = graphviz.Source(self.get_graph().to_string())\n",
    "            self._repr_mimebundle_ = self.source._repr_mimebundle_\n",
    "            return None"
   ]
  },
  {
   "cell_type": "markdown",
   "metadata": {},
   "source": [
    "There, now you've baked a state machine into NarcolepticSuperhero. Let's take him/her/it out for a spin..."
   ]
  },
  {
   "cell_type": "code",
   "execution_count": 22,
   "metadata": {},
   "outputs": [
    {
     "data": {
      "text/plain": [
       "'asleep'"
      ]
     },
     "execution_count": 22,
     "metadata": {},
     "output_type": "execute_result"
    }
   ],
   "source": [
    "batman = NarcolepticSuperhero(\"Batman\")\n",
    "batman.state\n",
    "'asleep'"
   ]
  },
  {
   "cell_type": "code",
   "execution_count": 24,
   "metadata": {},
   "outputs": [
    {
     "data": {
      "text/plain": [
       "'hanging out'"
      ]
     },
     "execution_count": 24,
     "metadata": {},
     "output_type": "execute_result"
    }
   ],
   "source": [
    "batman.wake_up()\n",
    "batman.state\n",
    "'hanging out'"
   ]
  },
  {
   "cell_type": "code",
   "execution_count": 25,
   "metadata": {},
   "outputs": [
    {
     "data": {
      "text/plain": [
       "'asleep'"
      ]
     },
     "execution_count": 25,
     "metadata": {},
     "output_type": "execute_result"
    }
   ],
   "source": [
    "batman.nap()\n",
    "batman.state\n",
    "'asleep'"
   ]
  },
  {
   "cell_type": "code",
   "execution_count": 26,
   "metadata": {},
   "outputs": [
    {
     "ename": "MachineError",
     "evalue": "\"Can't trigger event clean_up from state asleep!\"",
     "output_type": "error",
     "traceback": [
      "\u001b[0;31m---------------------------------------------------------------------------\u001b[0m",
      "\u001b[0;31mMachineError\u001b[0m                              Traceback (most recent call last)",
      "Cell \u001b[0;32mIn[26], line 1\u001b[0m\n\u001b[0;32m----> 1\u001b[0m batman\u001b[38;5;241m.\u001b[39mclean_up()\n",
      "File \u001b[0;32m~/opt/anaconda3/envs/p312/lib/python3.12/site-packages/transitions/core.py:406\u001b[0m, in \u001b[0;36mEvent.trigger\u001b[0;34m(self, model, *args, **kwargs)\u001b[0m\n\u001b[1;32m    401\u001b[0m func \u001b[38;5;241m=\u001b[39m partial(\u001b[38;5;28mself\u001b[39m\u001b[38;5;241m.\u001b[39m_trigger, EventData(\u001b[38;5;28;01mNone\u001b[39;00m, \u001b[38;5;28mself\u001b[39m, \u001b[38;5;28mself\u001b[39m\u001b[38;5;241m.\u001b[39mmachine, model, args\u001b[38;5;241m=\u001b[39margs, kwargs\u001b[38;5;241m=\u001b[39mkwargs))\n\u001b[1;32m    402\u001b[0m \u001b[38;5;66;03m# pylint: disable=protected-access\u001b[39;00m\n\u001b[1;32m    403\u001b[0m \u001b[38;5;66;03m# noinspection PyProtectedMember\u001b[39;00m\n\u001b[1;32m    404\u001b[0m \u001b[38;5;66;03m# Machine._process should not be called somewhere else. That's why it should not be exposed\u001b[39;00m\n\u001b[1;32m    405\u001b[0m \u001b[38;5;66;03m# to Machine users.\u001b[39;00m\n\u001b[0;32m--> 406\u001b[0m \u001b[38;5;28;01mreturn\u001b[39;00m \u001b[38;5;28mself\u001b[39m\u001b[38;5;241m.\u001b[39mmachine\u001b[38;5;241m.\u001b[39m_process(func)\n",
      "File \u001b[0;32m~/opt/anaconda3/envs/p312/lib/python3.12/site-packages/transitions/core.py:1239\u001b[0m, in \u001b[0;36mMachine._process\u001b[0;34m(self, trigger)\u001b[0m\n\u001b[1;32m   1236\u001b[0m \u001b[38;5;28;01mif\u001b[39;00m \u001b[38;5;129;01mnot\u001b[39;00m \u001b[38;5;28mself\u001b[39m\u001b[38;5;241m.\u001b[39mhas_queue:\n\u001b[1;32m   1237\u001b[0m     \u001b[38;5;28;01mif\u001b[39;00m \u001b[38;5;129;01mnot\u001b[39;00m \u001b[38;5;28mself\u001b[39m\u001b[38;5;241m.\u001b[39m_transition_queue:\n\u001b[1;32m   1238\u001b[0m         \u001b[38;5;66;03m# if trigger raises an Error, it has to be handled by the Machine.process caller\u001b[39;00m\n\u001b[0;32m-> 1239\u001b[0m         \u001b[38;5;28;01mreturn\u001b[39;00m trigger()\n\u001b[1;32m   1240\u001b[0m     \u001b[38;5;28;01mraise\u001b[39;00m MachineError(\u001b[38;5;124m\"\u001b[39m\u001b[38;5;124mAttempt to process events synchronously while transition queue is not empty!\u001b[39m\u001b[38;5;124m\"\u001b[39m)\n\u001b[1;32m   1242\u001b[0m \u001b[38;5;66;03m# process queued events\u001b[39;00m\n",
      "File \u001b[0;32m~/opt/anaconda3/envs/p312/lib/python3.12/site-packages/transitions/core.py:419\u001b[0m, in \u001b[0;36mEvent._trigger\u001b[0;34m(self, event_data)\u001b[0m\n\u001b[1;32m    417\u001b[0m event_data\u001b[38;5;241m.\u001b[39mstate \u001b[38;5;241m=\u001b[39m \u001b[38;5;28mself\u001b[39m\u001b[38;5;241m.\u001b[39mmachine\u001b[38;5;241m.\u001b[39mget_model_state(event_data\u001b[38;5;241m.\u001b[39mmodel)\n\u001b[1;32m    418\u001b[0m \u001b[38;5;28;01mtry\u001b[39;00m:\n\u001b[0;32m--> 419\u001b[0m     \u001b[38;5;28;01mif\u001b[39;00m \u001b[38;5;28mself\u001b[39m\u001b[38;5;241m.\u001b[39m_is_valid_source(event_data\u001b[38;5;241m.\u001b[39mstate):\n\u001b[1;32m    420\u001b[0m         \u001b[38;5;28mself\u001b[39m\u001b[38;5;241m.\u001b[39m_process(event_data)\n\u001b[1;32m    421\u001b[0m \u001b[38;5;28;01mexcept\u001b[39;00m \u001b[38;5;167;01mBaseException\u001b[39;00m \u001b[38;5;28;01mas\u001b[39;00m err:  \u001b[38;5;66;03m# pylint: disable=broad-except; Exception will be handled elsewhere\u001b[39;00m\n",
      "File \u001b[0;32m~/opt/anaconda3/envs/p312/lib/python3.12/site-packages/transitions/core.py:456\u001b[0m, in \u001b[0;36mEvent._is_valid_source\u001b[0;34m(self, state)\u001b[0m\n\u001b[1;32m    454\u001b[0m         _LOGGER\u001b[38;5;241m.\u001b[39mwarning(msg)\n\u001b[1;32m    455\u001b[0m         \u001b[38;5;28;01mreturn\u001b[39;00m \u001b[38;5;28;01mFalse\u001b[39;00m\n\u001b[0;32m--> 456\u001b[0m     \u001b[38;5;28;01mraise\u001b[39;00m MachineError(msg)\n\u001b[1;32m    457\u001b[0m \u001b[38;5;28;01mreturn\u001b[39;00m \u001b[38;5;28;01mTrue\u001b[39;00m\n",
      "\u001b[0;31mMachineError\u001b[0m: \"Can't trigger event clean_up from state asleep!\""
     ]
    }
   ],
   "source": [
    "batman.clean_up()\n",
    "#MachineError: \"Can't trigger event clean_up from state asleep!\""
   ]
  },
  {
   "cell_type": "code",
   "execution_count": 27,
   "metadata": {},
   "outputs": [
    {
     "data": {
      "text/plain": [
       "'hungry'"
      ]
     },
     "execution_count": 27,
     "metadata": {},
     "output_type": "execute_result"
    }
   ],
   "source": [
    "batman.wake_up()\n",
    "batman.work_out()\n",
    "batman.state\n",
    "#'hungry'"
   ]
  },
  {
   "cell_type": "code",
   "execution_count": 28,
   "metadata": {},
   "outputs": [
    {
     "data": {
      "text/plain": [
       "0"
      ]
     },
     "execution_count": 28,
     "metadata": {},
     "output_type": "execute_result"
    }
   ],
   "source": [
    "# Batman still hasn't done anything useful...\n",
    "batman.kittens_rescued\n",
    "#0"
   ]
  },
  {
   "cell_type": "code",
   "execution_count": 29,
   "metadata": {},
   "outputs": [
    {
     "name": "stdout",
     "output_type": "stream",
     "text": [
      "Beauty, eh?\n"
     ]
    },
    {
     "data": {
      "text/plain": [
       "True"
      ]
     },
     "execution_count": 29,
     "metadata": {},
     "output_type": "execute_result"
    }
   ],
   "source": [
    "# We now take you live to the scene of a horrific kitten entreement...\n",
    "batman.distress_call()\n",
    "#'Beauty, eh?'"
   ]
  },
  {
   "cell_type": "code",
   "execution_count": 30,
   "metadata": {},
   "outputs": [
    {
     "data": {
      "text/plain": [
       "'saving the world'"
      ]
     },
     "execution_count": 30,
     "metadata": {},
     "output_type": "execute_result"
    }
   ],
   "source": [
    "batman.state\n",
    "#'saving the world'"
   ]
  },
  {
   "cell_type": "code",
   "execution_count": 31,
   "metadata": {},
   "outputs": [
    {
     "data": {
      "text/plain": [
       "'sweaty'"
      ]
     },
     "execution_count": 31,
     "metadata": {},
     "output_type": "execute_result"
    }
   ],
   "source": [
    "# Back to the crib.\n",
    "batman.complete_mission()\n",
    "batman.state\n",
    "#'sweaty'"
   ]
  },
  {
   "cell_type": "code",
   "execution_count": 32,
   "metadata": {},
   "outputs": [
    {
     "data": {
      "text/plain": [
       "'asleep'"
      ]
     },
     "execution_count": 32,
     "metadata": {},
     "output_type": "execute_result"
    }
   ],
   "source": [
    "batman.clean_up()\n",
    "batman.state\n",
    "#'asleep'   # Too tired to shower!"
   ]
  },
  {
   "cell_type": "code",
   "execution_count": 33,
   "metadata": {},
   "outputs": [
    {
     "data": {
      "text/plain": [
       "1"
      ]
     },
     "execution_count": 33,
     "metadata": {},
     "output_type": "execute_result"
    }
   ],
   "source": [
    "# Another productive day, Alfred.\n",
    "batman.kittens_rescued\n",
    "#1"
   ]
  },
  {
   "cell_type": "code",
   "execution_count": 34,
   "metadata": {},
   "outputs": [
    {
     "data": {
      "text/plain": [
       "True"
      ]
     },
     "execution_count": 34,
     "metadata": {},
     "output_type": "execute_result"
    }
   ],
   "source": [
    "batman.is_exhausted"
   ]
  },
  {
   "cell_type": "markdown",
   "metadata": {},
   "source": [
    "But what is batman really?\n",
    "\n",
    "Note this will behave very differently if `pygraphviz` is not working  (and it won't be in a Colab\n",
    "notebook)."
   ]
  },
  {
   "cell_type": "code",
   "execution_count": 95,
   "metadata": {},
   "outputs": [
    {
     "data": {
      "image/svg+xml": [
       "<?xml version=\"1.0\" encoding=\"UTF-8\" standalone=\"no\"?>\n",
       "<!DOCTYPE svg PUBLIC \"-//W3C//DTD SVG 1.1//EN\"\n",
       " \"http://www.w3.org/Graphics/SVG/1.1/DTD/svg11.dtd\">\n",
       "<!-- Generated by graphviz version 12.0.0 (0)\n",
       " -->\n",
       "<!-- Pages: 1 -->\n",
       "<svg width=\"816pt\" height=\"326pt\"\n",
       " viewBox=\"0.00 0.00 816.00 325.50\" xmlns=\"http://www.w3.org/2000/svg\" xmlns:xlink=\"http://www.w3.org/1999/xlink\">\n",
       "<g id=\"graph0\" class=\"graph\" transform=\"scale(1 1) rotate(0) translate(4 321.5)\">\n",
       "<polygon fill=\"white\" stroke=\"none\" points=\"-4,4 -4,-321.5 812,-321.5 812,4 -4,4\"/>\n",
       "<!-- asleep -->\n",
       "<g id=\"node1\" class=\"node\">\n",
       "<title>asleep</title>\n",
       "<path fill=\"darksalmon\" stroke=\"red\" d=\"M46,-177C46,-177 16,-177 16,-177 10,-177 4,-171 4,-165 4,-165 4,-153 4,-153 4,-147 10,-141 16,-141 16,-141 46,-141 46,-141 52,-141 58,-147 58,-153 58,-153 58,-165 58,-165 58,-171 52,-177 46,-177\"/>\n",
       "<path fill=\"none\" stroke=\"red\" d=\"M50,-181C50,-181 12,-181 12,-181 6,-181 0,-175 0,-169 0,-169 0,-149 0,-149 0,-143 6,-137 12,-137 12,-137 50,-137 50,-137 56,-137 62,-143 62,-149 62,-149 62,-169 62,-169 62,-175 56,-181 50,-181\"/>\n",
       "<text text-anchor=\"start\" x=\"12\" y=\"-153.95\" font-family=\"Times,serif\" font-size=\"14.00\">asleep</text>\n",
       "</g>\n",
       "<!-- asleep&#45;&gt;asleep -->\n",
       "<g id=\"edge1\" class=\"edge\">\n",
       "<title>asleep&#45;&gt;asleep</title>\n",
       "<path fill=\"none\" stroke=\"black\" d=\"M17.41,-181.21C16.29,-190.8 20.82,-199 31,-199 36.72,-199 40.66,-196.4 42.81,-192.43\"/>\n",
       "<polygon fill=\"black\" stroke=\"black\" points=\"46.24,-193.13 44.36,-182.71 39.33,-192.03 46.24,-193.13\"/>\n",
       "<text text-anchor=\"middle\" x=\"31\" y=\"-202.2\" font-family=\"Times,serif\" font-size=\"14.00\">nap</text>\n",
       "</g>\n",
       "<!-- hanging out -->\n",
       "<g id=\"node2\" class=\"node\">\n",
       "<title>hanging out</title>\n",
       "<path fill=\"white\" stroke=\"black\" d=\"M215.25,-128C215.25,-128 158.75,-128 158.75,-128 152.75,-128 146.75,-122 146.75,-116 146.75,-116 146.75,-104 146.75,-104 146.75,-98 152.75,-92 158.75,-92 158.75,-92 215.25,-92 215.25,-92 221.25,-92 227.25,-98 227.25,-104 227.25,-104 227.25,-116 227.25,-116 227.25,-122 221.25,-128 215.25,-128\"/>\n",
       "<text text-anchor=\"start\" x=\"154.75\" y=\"-104.95\" font-family=\"Times,serif\" font-size=\"14.00\">hanging out</text>\n",
       "</g>\n",
       "<!-- asleep&#45;&gt;hanging out -->\n",
       "<g id=\"edge2\" class=\"edge\">\n",
       "<title>asleep&#45;&gt;hanging out</title>\n",
       "<path fill=\"none\" stroke=\"black\" d=\"M44.97,-136.73C53.29,-124.77 65.29,-111.14 80,-104.5 96.96,-96.84 117.02,-96.08 135.11,-97.96\"/>\n",
       "<polygon fill=\"black\" stroke=\"black\" points=\"134.49,-101.41 144.87,-99.29 135.43,-94.47 134.49,-101.41\"/>\n",
       "<text text-anchor=\"middle\" x=\"104.38\" y=\"-107.2\" font-family=\"Times,serif\" font-size=\"14.00\">wake_up</text>\n",
       "</g>\n",
       "<!-- saving the world -->\n",
       "<g id=\"node3\" class=\"node\">\n",
       "<title>saving the world</title>\n",
       "<path fill=\"white\" stroke=\"black\" d=\"M606.25,-145C606.25,-145 523.5,-145 523.5,-145 517.5,-145 511.5,-139 511.5,-133 511.5,-133 511.5,-121 511.5,-121 511.5,-115 517.5,-109 523.5,-109 523.5,-109 606.25,-109 606.25,-109 612.25,-109 618.25,-115 618.25,-121 618.25,-121 618.25,-133 618.25,-133 618.25,-139 612.25,-145 606.25,-145\"/>\n",
       "<text text-anchor=\"start\" x=\"519.5\" y=\"-121.95\" font-family=\"Times,serif\" font-size=\"14.00\">saving the world</text>\n",
       "</g>\n",
       "<!-- asleep&#45;&gt;saving the world -->\n",
       "<g id=\"edge3\" class=\"edge\">\n",
       "<title>asleep&#45;&gt;saving the world</title>\n",
       "<path fill=\"none\" stroke=\"black\" d=\"M39.63,-181.43C46.96,-199.15 59.93,-222.7 80,-234 240.14,-324.17 332.71,-323 493.5,-234 523.66,-217.3 543.1,-181.58 553.75,-156\"/>\n",
       "<polygon fill=\"black\" stroke=\"black\" points=\"556.96,-157.41 557.35,-146.82 550.44,-154.85 556.96,-157.41\"/>\n",
       "<text text-anchor=\"middle\" x=\"278.62\" y=\"-304.2\" font-family=\"Times,serif\" font-size=\"14.00\">distress_call</text>\n",
       "</g>\n",
       "<!-- hanging out&#45;&gt;asleep -->\n",
       "<g id=\"edge4\" class=\"edge\">\n",
       "<title>hanging out&#45;&gt;asleep</title>\n",
       "<path fill=\"none\" stroke=\"black\" d=\"M146.29,-122.64C123.92,-129.75 96.03,-138.63 73.39,-145.83\"/>\n",
       "<polygon fill=\"black\" stroke=\"black\" points=\"72.34,-142.49 63.87,-148.86 74.46,-149.16 72.34,-142.49\"/>\n",
       "<text text-anchor=\"middle\" x=\"104.38\" y=\"-146.2\" font-family=\"Times,serif\" font-size=\"14.00\">nap</text>\n",
       "</g>\n",
       "<!-- hanging out&#45;&gt;saving the world -->\n",
       "<g id=\"edge6\" class=\"edge\">\n",
       "<title>hanging out&#45;&gt;saving the world</title>\n",
       "<path fill=\"none\" stroke=\"black\" d=\"M227.48,-122.23C233.39,-123.72 239.45,-125.04 245.25,-126 354.2,-144 383.3,-143.02 493.5,-136 495.67,-135.86 497.87,-135.7 500.09,-135.52\"/>\n",
       "<polygon fill=\"black\" stroke=\"black\" points=\"500.16,-139.03 509.79,-134.61 499.51,-132.06 500.16,-139.03\"/>\n",
       "<text text-anchor=\"middle\" x=\"369.38\" y=\"-143.2\" font-family=\"Times,serif\" font-size=\"14.00\">distress_call</text>\n",
       "</g>\n",
       "<!-- hungry -->\n",
       "<g id=\"node4\" class=\"node\">\n",
       "<title>hungry</title>\n",
       "<path fill=\"white\" stroke=\"black\" d=\"M384.5,-114C384.5,-114 354.25,-114 354.25,-114 348.25,-114 342.25,-108 342.25,-102 342.25,-102 342.25,-90 342.25,-90 342.25,-84 348.25,-78 354.25,-78 354.25,-78 384.5,-78 384.5,-78 390.5,-78 396.5,-84 396.5,-90 396.5,-90 396.5,-102 396.5,-102 396.5,-108 390.5,-114 384.5,-114\"/>\n",
       "<text text-anchor=\"start\" x=\"350.25\" y=\"-90.95\" font-family=\"Times,serif\" font-size=\"14.00\">hungry</text>\n",
       "</g>\n",
       "<!-- hanging out&#45;&gt;hungry -->\n",
       "<g id=\"edge5\" class=\"edge\">\n",
       "<title>hanging out&#45;&gt;hungry</title>\n",
       "<path fill=\"none\" stroke=\"black\" d=\"M216.01,-91.58C224.98,-86.66 235.2,-82.01 245.25,-79.5 274.03,-72.31 282.63,-75.29 312,-79.5 318.18,-80.39 324.63,-81.79 330.87,-83.42\"/>\n",
       "<polygon fill=\"black\" stroke=\"black\" points=\"329.73,-86.73 340.31,-86.11 331.65,-80 329.73,-86.73\"/>\n",
       "<text text-anchor=\"middle\" x=\"278.62\" y=\"-82.2\" font-family=\"Times,serif\" font-size=\"14.00\">work_out</text>\n",
       "</g>\n",
       "<!-- saving the world&#45;&gt;asleep -->\n",
       "<g id=\"edge13\" class=\"edge\">\n",
       "<title>saving the world&#45;&gt;asleep</title>\n",
       "<path fill=\"none\" stroke=\"black\" d=\"M513.89,-145.48C507.1,-147.57 500.17,-149.49 493.5,-151 342.68,-185.21 301.29,-185.78 146.75,-180 117.02,-178.89 109.17,-180.86 80,-175 77.84,-174.57 75.63,-174.06 73.42,-173.51\"/>\n",
       "<polygon fill=\"black\" stroke=\"black\" points=\"74.45,-170.16 63.88,-170.8 72.55,-176.9 74.45,-170.16\"/>\n",
       "<text text-anchor=\"middle\" x=\"278.62\" y=\"-185.2\" font-family=\"Times,serif\" font-size=\"14.00\">nap</text>\n",
       "</g>\n",
       "<!-- saving the world&#45;&gt;saving the world -->\n",
       "<g id=\"edge15\" class=\"edge\">\n",
       "<title>saving the world&#45;&gt;saving the world</title>\n",
       "<path fill=\"none\" stroke=\"black\" d=\"M545.92,-145.15C543.01,-154.54 549.33,-163 564.88,-163 573.62,-163 579.45,-160.32 582.35,-156.31\"/>\n",
       "<polygon fill=\"black\" stroke=\"black\" points=\"585.79,-157.03 583.63,-146.65 578.85,-156.11 585.79,-157.03\"/>\n",
       "<text text-anchor=\"middle\" x=\"564.88\" y=\"-166.2\" font-family=\"Times,serif\" font-size=\"14.00\">distress_call</text>\n",
       "</g>\n",
       "<!-- sweaty -->\n",
       "<g id=\"node5\" class=\"node\">\n",
       "<title>sweaty</title>\n",
       "<path fill=\"white\" stroke=\"black\" d=\"M796,-82C796,-82 766,-82 766,-82 760,-82 754,-76 754,-70 754,-70 754,-58 754,-58 754,-52 760,-46 766,-46 766,-46 796,-46 796,-46 802,-46 808,-52 808,-58 808,-58 808,-70 808,-70 808,-76 802,-82 796,-82\"/>\n",
       "<text text-anchor=\"start\" x=\"762\" y=\"-58.95\" font-family=\"Times,serif\" font-size=\"14.00\">sweaty</text>\n",
       "</g>\n",
       "<!-- saving the world&#45;&gt;sweaty -->\n",
       "<g id=\"edge14\" class=\"edge\">\n",
       "<title>saving the world&#45;&gt;sweaty</title>\n",
       "<path fill=\"none\" stroke=\"black\" d=\"M618.37,-127.88C653.21,-126.58 699.12,-121.18 736,-104 743.29,-100.6 750.22,-95.56 756.34,-90.2\"/>\n",
       "<polygon fill=\"black\" stroke=\"black\" points=\"758.74,-92.75 763.56,-83.31 753.91,-87.68 758.74,-92.75\"/>\n",
       "<text text-anchor=\"middle\" x=\"686.12\" y=\"-129.2\" font-family=\"Times,serif\" font-size=\"14.00\">complete_mission</text>\n",
       "</g>\n",
       "<!-- hungry&#45;&gt;asleep -->\n",
       "<g id=\"edge7\" class=\"edge\">\n",
       "<title>hungry&#45;&gt;asleep</title>\n",
       "<path fill=\"none\" stroke=\"black\" d=\"M341.89,-112.21C332.69,-117.25 322.14,-122.42 312,-126 233.8,-153.56 211.3,-153.19 128.75,-161 110.68,-162.71 90.62,-162.62 73.48,-161.95\"/>\n",
       "<polygon fill=\"black\" stroke=\"black\" points=\"73.8,-158.46 63.65,-161.47 73.47,-165.45 73.8,-158.46\"/>\n",
       "<text text-anchor=\"middle\" x=\"187\" y=\"-162.2\" font-family=\"Times,serif\" font-size=\"14.00\">nap</text>\n",
       "</g>\n",
       "<!-- hungry&#45;&gt;hanging out -->\n",
       "<g id=\"edge8\" class=\"edge\">\n",
       "<title>hungry&#45;&gt;hanging out</title>\n",
       "<path fill=\"none\" stroke=\"black\" d=\"M341.99,-98.05C315.05,-100.14 272.56,-103.44 239.03,-106.04\"/>\n",
       "<polygon fill=\"black\" stroke=\"black\" points=\"238.79,-102.55 229.09,-106.81 239.33,-109.53 238.79,-102.55\"/>\n",
       "<text text-anchor=\"middle\" x=\"278.62\" y=\"-108.2\" font-family=\"Times,serif\" font-size=\"14.00\">eat</text>\n",
       "</g>\n",
       "<!-- hungry&#45;&gt;saving the world -->\n",
       "<g id=\"edge9\" class=\"edge\">\n",
       "<title>hungry&#45;&gt;saving the world</title>\n",
       "<path fill=\"none\" stroke=\"black\" d=\"M396.87,-100.25C423.31,-104.48 464.91,-111.15 499.99,-116.76\"/>\n",
       "<polygon fill=\"black\" stroke=\"black\" points=\"499.19,-120.18 509.62,-118.31 500.3,-113.27 499.19,-120.18\"/>\n",
       "<text text-anchor=\"middle\" x=\"460.12\" y=\"-118.2\" font-family=\"Times,serif\" font-size=\"14.00\">distress_call</text>\n",
       "</g>\n",
       "<!-- sweaty&#45;&gt;asleep -->\n",
       "<g id=\"edge10\" class=\"edge\">\n",
       "<title>sweaty&#45;&gt;asleep</title>\n",
       "<path fill=\"none\" stroke=\"black\" d=\"M753.72,-50.74C714.06,-31.99 636.1,0 565.88,0 186,0 186,0 186,0 116.3,0 68.06,-79.81 45.86,-126.34\"/>\n",
       "<polygon fill=\"black\" stroke=\"black\" points=\"42.79,-124.64 41.78,-135.18 49.15,-127.57 42.79,-124.64\"/>\n",
       "<text text-anchor=\"middle\" x=\"369.38\" y=\"-3.2\" font-family=\"Times,serif\" font-size=\"14.00\">clean_up | nap</text>\n",
       "</g>\n",
       "<!-- sweaty&#45;&gt;hanging out -->\n",
       "<g id=\"edge11\" class=\"edge\">\n",
       "<title>sweaty&#45;&gt;hanging out</title>\n",
       "<path fill=\"none\" stroke=\"black\" d=\"M753.94,-63.31C748.04,-63.18 741.81,-63.07 736,-63 691.67,-62.5 680.58,-62.57 636.25,-63 208.06,-67.19 252.41,-68.7 245.25,-71 235.7,-74.07 226.3,-79.27 217.97,-84.9\"/>\n",
       "<polygon fill=\"black\" stroke=\"black\" points=\"215.99,-82.01 209.95,-90.71 220.1,-87.67 215.99,-82.01\"/>\n",
       "<text text-anchor=\"middle\" x=\"460.12\" y=\"-68.2\" font-family=\"Times,serif\" font-size=\"14.00\">clean_up</text>\n",
       "</g>\n",
       "<!-- sweaty&#45;&gt;saving the world -->\n",
       "<g id=\"edge12\" class=\"edge\">\n",
       "<title>sweaty&#45;&gt;saving the world</title>\n",
       "<path fill=\"none\" stroke=\"black\" d=\"M753.62,-65.55C724.26,-67.9 675.75,-73.67 636.25,-87.5 625.04,-91.42 613.54,-97.08 603.17,-102.89\"/>\n",
       "<polygon fill=\"black\" stroke=\"black\" points=\"601.41,-99.86 594.54,-107.93 604.94,-105.91 601.41,-99.86\"/>\n",
       "<text text-anchor=\"middle\" x=\"686.12\" y=\"-90.2\" font-family=\"Times,serif\" font-size=\"14.00\">distress_call</text>\n",
       "</g>\n",
       "</g>\n",
       "</svg>\n"
      ],
      "text/plain": [
       "<__main__.NarcolepticSuperhero at 0x1130e1820>"
      ]
     },
     "execution_count": 95,
     "metadata": {},
     "output_type": "execute_result"
    }
   ],
   "source": [
    "batman"
   ]
  },
  {
   "cell_type": "markdown",
   "metadata": {},
   "source": [
    "While we cannot read the mind of the actual batman, we surely can visualize the current state of our NarcolepticSuperhero."
   ]
  },
  {
   "cell_type": "markdown",
   "metadata": {},
   "source": [
    "Have a look at the Diagrams extentions if you want to know how."
   ]
  },
  {
   "cell_type": "markdown",
   "metadata": {},
   "source": [
    "## Diagrams"
   ]
  },
  {
   "cell_type": "markdown",
   "metadata": {},
   "source": [
    "The following simple version of outputting drawings (layouts) works on the Narcoleptic superhero.\n",
    "But only if pygraphviz has been successfully installed.\n",
    "\n",
    "If using this notebook in Jupyter on local machine, just flip back to the Home tab to check out the \".png\" \n",
    "or \".pdf\" file that will have been saved there."
   ]
  },
  {
   "cell_type": "code",
   "execution_count": 25,
   "metadata": {},
   "outputs": [],
   "source": [
    "from transitions.extensions import GraphMachine as Machine\n",
    "#m = Model()\n",
    "m = NarcolepticSuperhero(\"Robin\")\n",
    "# without further arguments pygraphviz will be used\n",
    "#machine = Machine(model=m)\n",
    "# when you want to use graphviz explicitely\n",
    "#machine = Machine(model=m, use_pygraphviz=False, ...)\n",
    "# in cases where auto transitions should be visible\n",
    "#machine = Machine(model=m, show_auto_transitions=True, ...)\n",
    "\n",
    "# draw the whole graph ... and save in a .png file.\n",
    "m.get_graph().draw('robin_diagram2.png', prog='dot')\n",
    "# ... or just the region of interest\n",
    "# (previous state, active state and all reachable states)\n",
    "#roi = m.get_graph(show_roi=True).draw('my_state_diagram.png', prog='dot')"
   ]
  },
  {
   "cell_type": "code",
   "execution_count": 27,
   "metadata": {},
   "outputs": [],
   "source": [
    "g = m.get_graph()"
   ]
  },
  {
   "cell_type": "code",
   "execution_count": 24,
   "metadata": {},
   "outputs": [
    {
     "name": "stdout",
     "output_type": "stream",
     "text": [
      "Output graph to path in specified format.\n",
      "\n",
      "        An attempt will be made to guess the output format based on the file\n",
      "        extension of `path`.  If that fails, then the `format` parameter will\n",
      "        be used.\n",
      "\n",
      "        Note, if `path` is a file object returned by a call to os.fdopen(),\n",
      "        then the method for discovering the format will not work.  In such\n",
      "        cases, one should explicitly set the `format` parameter; otherwise, it\n",
      "        will default to 'dot'.\n",
      "\n",
      "        If path is None, the result is returned as a Bytes object.\n",
      "\n",
      "        Formats (not all may be available on every system depending on\n",
      "        how Graphviz was built)\n",
      "\n",
      "            'canon', 'cmap', 'cmapx', 'cmapx_np', 'dia', 'dot',\n",
      "            'fig', 'gd', 'gd2', 'gif', 'hpgl', 'imap', 'imap_np',\n",
      "            'ismap', 'jpe', 'jpeg', 'jpg', 'mif', 'mp', 'pcl', 'pdf',\n",
      "            'pic', 'plain', 'plain-ext', 'png', 'ps', 'ps2', 'svg',\n",
      "            'svgz', 'vml', 'vmlz', 'vrml', 'vtx', 'wbmp', 'xdot', 'xlib'\n",
      "\n",
      "\n",
      "        If prog is not specified and the graph has positions\n",
      "        (see layout()) then no additional graph positioning will\n",
      "        be performed.\n",
      "\n",
      "        Optional prog=['neato'|'dot'|'twopi'|'circo'|'fdp'|'nop']\n",
      "        will use specified graphviz layout method.\n",
      "\n",
      "        >>> import pygraphviz as pgv\n",
      "        >>> G = pgv.AGraph()\n",
      "        >>> G.add_edges_from([(0, 1), (1, 2), (2, 0), (2, 3)])\n",
      "        >>> G.layout()\n",
      "\n",
      "        # use current node positions, output pdf in 'file.pdf'\n",
      "        >>> G.draw(\"file.pdf\")\n",
      "\n",
      "        # use dot to position, output png in 'file'\n",
      "        >>> G.draw(\"file\", format=\"png\", prog=\"dot\")\n",
      "\n",
      "        # use keyword 'args' to pass additional arguments to graphviz\n",
      "        >>> G.draw(\"test.pdf\", prog=\"twopi\", args=\"-Gepsilon=1\")\n",
      "        >>> G.draw(\"test2.pdf\", args=\"-Nshape=box -Edir=forward -Ecolor=red \")\n",
      "\n",
      "        The layout might take a long time on large graphs.\n",
      "\n",
      "        \n"
     ]
    }
   ],
   "source": [
    "print(g.draw.__doc__)"
   ]
  },
  {
   "cell_type": "code",
   "execution_count": 26,
   "metadata": {},
   "outputs": [],
   "source": [
    "# create dot file from graph\n",
    "#g.draw(\"robin_diagram2.dot\", format=\"dot\", prog=\"dot\")"
   ]
  },
  {
   "cell_type": "code",
   "execution_count": 73,
   "metadata": {},
   "outputs": [
    {
     "name": "stdout",
     "output_type": "stream",
     "text": [
      "strict digraph \"\" {\n",
      "\tgraph [bb=\"0,0,218.86,117.62\",\n",
      "\t\trankdir=LR\n",
      "\t];\n",
      "\tnode [color=black,\n",
      "\t\tfillcolor=white,\n",
      "\t\tlabel=\"\\N\",\n",
      "\t\tperipheries=1,\n",
      "\t\tshape=rectangle,\n",
      "\t\tstyle=\"rounded,filled\"\n",
      "\t];\n",
      "\tedge [color=black];\n",
      "\tasleep\t[color=red,\n",
      "\t\tfillcolor=darksalmon,\n",
      "\t\theight=0.72222,\n",
      "\t\tlabel=\"asleep\\l\",\n",
      "\t\tperipheries=2,\n",
      "\t\tpos=\"41.646,50.888\",\n",
      "\t\twidth=0.97222];\n",
      "\tasleep -> asleep\t[label=nap,\n",
      "\t\tlp=\"104.4,50.888\",\n",
      "\t\tpos=\"e,76.814,44.164 76.814,57.612 86.882,57.348 94.646,55.107 94.646,50.888 94.646,48.449 92.051,46.671 87.916,45.554\"];\n",
      "\t\"hanging out\"\t[height=0.5,\n",
      "\t\tlabel=\"hanging out\\l\",\n",
      "\t\tpos=\"123.54,45.875\",\n",
      "\t\twidth=1.1181];\n",
      "\tasleep -> \"hanging out\"\t[label=wake_up,\n",
      "\t\tlp=\"101.35,63.673\",\n",
      "\t\tpos=\"e,82.848,55.129 76.786,55.43 76.912,55.425 77.037,55.42 77.163,55.415\"];\n",
      "\t\"saving the world\"\t[height=0.5,\n",
      "\t\tlabel=\"saving the world\\l\",\n",
      "\t\tpos=\"80.731,18\",\n",
      "\t\twidth=1.4826];\n",
      "\tasleep -> \"saving the world\"\t[label=distress_call,\n",
      "\t\tlp=\"110.47,19.783\",\n",
      "\t\tpos=\"e,77.341,27.723 77.016,28.137 77.071,28.067 77.125,27.998 77.18,27.929\"];\n",
      "\t\"hanging out\" -> asleep\t[label=nap,\n",
      "\t\tlp=\"73.194,49.849\",\n",
      "\t\tpos=\"e,76.823,42.024 83.142,41.587 83.01,41.595 82.878,41.602 82.746,41.61\"];\n",
      "\t\"hanging out\" -> \"saving the world\"\t[label=distress_call,\n",
      "\t\tlp=\"128.51,19.127\",\n",
      "\t\tpos=\"e,94.853,27.195 95.225,27.437 95.163,27.397 95.101,27.356 95.039,27.316\"];\n",
      "\thungry\t[height=0.5,\n",
      "\t\tlabel=\"hungry\\l\",\n",
      "\t\tpos=\"56.114,99.623\",\n",
      "\t\twidth=0.75347];\n",
      "\t\"hanging out\" -> hungry\t[label=work_out,\n",
      "\t\tlp=\"109.55,77.405\",\n",
      "\t\tpos=\"e,69.45,81.377 89.59,64.36 85.569,67.458 81.553,70.715 77.766,73.95\"];\n",
      "\t\"saving the world\" -> asleep\t[label=nap,\n",
      "\t\tlp=\"39.34,44.764\",\n",
      "\t\tpos=\"e,48.885,36.73 49.159,36.442 49.113,36.49 49.067,36.538 49.022,36.586\"];\n",
      "\t\"saving the world\" -> \"saving the world\"\t[label=distress_call,\n",
      "\t\tlp=\"185.48,18\",\n",
      "\t\tpos=\"e,134.58,11.573 134.58,24.427 144.85,23.658 152.11,21.516 152.11,18 152.11,15.968 149.68,14.394 145.65,13.28\"];\n",
      "\tsweaty\t[height=0.5,\n",
      "\t\tlabel=\"sweaty\\l\",\n",
      "\t\tpos=\"115.1,96.023\",\n",
      "\t\twidth=0.75];\n",
      "\t\"saving the world\" -> sweaty\t[label=complete_mission,\n",
      "\t\tlp=\"138.85,60.12\",\n",
      "\t\tpos=\"e,100.36,77.57 82.735,36.421 85.687,45.643 90.31,56.996 95.209,67.319\"];\n",
      "\thungry -> asleep\t[label=nap,\n",
      "\t\tlp=\"40.822,72.705\",\n",
      "\t\tpos=\"e,49.475,77.261 50.644,81.198 50.596,81.037 50.548,80.875 50.5,80.712\"];\n",
      "\thungry -> \"hanging out\"\t[label=eat,\n",
      "\t\tlp=\"84.837,87.051\",\n",
      "\t\tpos=\"e,110.17,64.159 83.731,85.885 89.717,81.532 95.962,76.604 101.69,71.717\"];\n",
      "\thungry -> \"saving the world\"\t[label=distress_call,\n",
      "\t\tlp=\"33.375,72.606\",\n",
      "\t\tpos=\"e,75.198,36.346 61.577,81.508 64.615,71.434 68.47,58.654 71.923,47.204\"];\n",
      "\tsweaty -> asleep\t[label=\"clean_up | nap\",\n",
      "\t\tlp=\"126.63,70.662\",\n",
      "\t\tpos=\"e,77,72.611 87.751,79.216 87.422,79.014 87.092,78.812 86.762,78.608\"];\n",
      "\tsweaty -> \"hanging out\"\t[label=clean_up,\n",
      "\t\tlp=\"142.75,84.853\",\n",
      "\t\tpos=\"e,120.45,64.261 118.2,77.634 118.31,76.953 118.43,76.265 118.55,75.571\"];\n",
      "\tsweaty -> \"saving the world\"\t[label=distress_call,\n",
      "\t\tlp=\"140.24,53.903\",\n",
      "\t\tpos=\"e,95.478,36.453 113.1,77.602 110.15,68.38 105.53,57.027 100.63,46.704\"];\n",
      "}\n",
      "\n"
     ]
    }
   ],
   "source": [
    "# Create string contents of dot file.  Note: this has layout info.\n",
    "print(g.to_string())"
   ]
  },
  {
   "cell_type": "markdown",
   "metadata": {},
   "source": [
    "##  From dot file to graphviz source"
   ]
  },
  {
   "cell_type": "code",
   "execution_count": 35,
   "metadata": {},
   "outputs": [],
   "source": [
    "import graphviz\n",
    "g22 = graphviz.Source.from_file(\"robin_diagram2.dot\")"
   ]
  },
  {
   "cell_type": "markdown",
   "metadata": {},
   "source": [
    "Graphviz source isn't really a graph.  It's an api for graph rendering."
   ]
  },
  {
   "cell_type": "code",
   "execution_count": 43,
   "metadata": {},
   "outputs": [
    {
     "name": "stdout",
     "output_type": "stream",
     "text": [
      "robin_diagram2.dot\n",
      "dot\n",
      "pdf\n",
      "graph_attr undefined!\n",
      "node_attr undefined!\n",
      "edge_attr undefined!\n",
      "<bound method Render.render of <graphviz.sources.Source object at 0x1105212b0>>\n",
      "None\n"
     ]
    }
   ],
   "source": [
    "for att in \"filename engine format graph_attr node_attr edge_attr render renderer\".split():\n",
    "    try:\n",
    "        print(getattr(g22,att))\n",
    "    except:\n",
    "        print (f\"{att} undefined!\")\n",
    "        continue"
   ]
  },
  {
   "cell_type": "code",
   "execution_count": 36,
   "metadata": {
    "scrolled": true
   },
   "outputs": [
    {
     "data": {
      "image/svg+xml": [
       "<?xml version=\"1.0\" encoding=\"UTF-8\" standalone=\"no\"?>\n",
       "<!DOCTYPE svg PUBLIC \"-//W3C//DTD SVG 1.1//EN\"\n",
       " \"http://www.w3.org/Graphics/SVG/1.1/DTD/svg11.dtd\">\n",
       "<!-- Generated by graphviz version 12.0.0 (0)\n",
       " -->\n",
       "<!-- Pages: 1 -->\n",
       "<svg width=\"824pt\" height=\"325pt\"\n",
       " viewBox=\"0.00 0.00 824.00 324.50\" xmlns=\"http://www.w3.org/2000/svg\" xmlns:xlink=\"http://www.w3.org/1999/xlink\">\n",
       "<g id=\"graph0\" class=\"graph\" transform=\"scale(1 1) rotate(0) translate(4 320.5)\">\n",
       "<polygon fill=\"white\" stroke=\"none\" points=\"-4,4 -4,-320.5 820,-320.5 820,4 -4,4\"/>\n",
       "<!-- asleep -->\n",
       "<g id=\"node1\" class=\"node\">\n",
       "<title>asleep</title>\n",
       "<path fill=\"darksalmon\" stroke=\"red\" d=\"M54,-181C54,-181 16,-181 16,-181 10,-181 4,-175 4,-169 4,-169 4,-149 4,-149 4,-143 10,-137 16,-137 16,-137 54,-137 54,-137 60,-137 66,-143 66,-149 66,-149 66,-169 66,-169 66,-175 60,-181 54,-181\"/>\n",
       "<path fill=\"none\" stroke=\"red\" d=\"M58,-185C58,-185 12,-185 12,-185 6,-185 0,-179 0,-173 0,-173 0,-145 0,-145 0,-139 6,-133 12,-133 12,-133 58,-133 58,-133 64,-133 70,-139 70,-145 70,-145 70,-173 70,-173 70,-179 64,-185 58,-185\"/>\n",
       "<text text-anchor=\"start\" x=\"12\" y=\"-153.95\" font-family=\"Times,serif\" font-size=\"14.00\">asleep</text>\n",
       "</g>\n",
       "<!-- asleep&#45;&gt;asleep -->\n",
       "<g id=\"edge1\" class=\"edge\">\n",
       "<title>asleep&#45;&gt;asleep</title>\n",
       "<path fill=\"none\" stroke=\"black\" d=\"M20.52,-185.2C20.05,-194.96 24.87,-203 35,-203 40.85,-203 44.94,-200.31 47.25,-196.16\"/>\n",
       "<polygon fill=\"black\" stroke=\"black\" points=\"50.61,-197.18 49.17,-186.68 43.75,-195.78 50.61,-197.18\"/>\n",
       "<text text-anchor=\"middle\" x=\"35\" y=\"-206.2\" font-family=\"Times,serif\" font-size=\"14.00\">nap</text>\n",
       "</g>\n",
       "<!-- hanging out -->\n",
       "<g id=\"node2\" class=\"node\">\n",
       "<title>hanging out</title>\n",
       "<path fill=\"white\" stroke=\"black\" d=\"M223.25,-128C223.25,-128 166.75,-128 166.75,-128 160.75,-128 154.75,-122 154.75,-116 154.75,-116 154.75,-104 154.75,-104 154.75,-98 160.75,-92 166.75,-92 166.75,-92 223.25,-92 223.25,-92 229.25,-92 235.25,-98 235.25,-104 235.25,-104 235.25,-116 235.25,-116 235.25,-122 229.25,-128 223.25,-128\"/>\n",
       "<text text-anchor=\"start\" x=\"162.75\" y=\"-104.95\" font-family=\"Times,serif\" font-size=\"14.00\">hanging out</text>\n",
       "</g>\n",
       "<!-- asleep&#45;&gt;hanging out -->\n",
       "<g id=\"edge2\" class=\"edge\">\n",
       "<title>asleep&#45;&gt;hanging out</title>\n",
       "<path fill=\"none\" stroke=\"black\" d=\"M53.6,-132.71C62.48,-121.82 74.29,-110.37 88,-104.5 105.04,-97.21 125.04,-96.49 143.06,-98.31\"/>\n",
       "<polygon fill=\"black\" stroke=\"black\" points=\"142.39,-101.76 152.76,-99.59 143.31,-94.82 142.39,-101.76\"/>\n",
       "<text text-anchor=\"middle\" x=\"112.37\" y=\"-107.2\" font-family=\"Times,serif\" font-size=\"14.00\">wake_up</text>\n",
       "</g>\n",
       "<!-- saving the world -->\n",
       "<g id=\"node3\" class=\"node\">\n",
       "<title>saving the world</title>\n",
       "<path fill=\"white\" stroke=\"black\" d=\"M614.25,-145C614.25,-145 531.5,-145 531.5,-145 525.5,-145 519.5,-139 519.5,-133 519.5,-133 519.5,-121 519.5,-121 519.5,-115 525.5,-109 531.5,-109 531.5,-109 614.25,-109 614.25,-109 620.25,-109 626.25,-115 626.25,-121 626.25,-121 626.25,-133 626.25,-133 626.25,-139 620.25,-145 614.25,-145\"/>\n",
       "<text text-anchor=\"start\" x=\"527.5\" y=\"-121.95\" font-family=\"Times,serif\" font-size=\"14.00\">saving the world</text>\n",
       "</g>\n",
       "<!-- asleep&#45;&gt;saving the world -->\n",
       "<g id=\"edge3\" class=\"edge\">\n",
       "<title>asleep&#45;&gt;saving the world</title>\n",
       "<path fill=\"none\" stroke=\"black\" d=\"M46.51,-185.13C54.95,-202.34 68.61,-223.55 88,-234 249.77,-321.2 340.71,-323 501.5,-234 531.67,-217.3 551.11,-181.58 561.75,-156\"/>\n",
       "<polygon fill=\"black\" stroke=\"black\" points=\"564.96,-157.41 565.35,-146.82 558.44,-154.85 564.96,-157.41\"/>\n",
       "<text text-anchor=\"middle\" x=\"286.63\" y=\"-303.2\" font-family=\"Times,serif\" font-size=\"14.00\">distress_call</text>\n",
       "</g>\n",
       "<!-- hanging out&#45;&gt;asleep -->\n",
       "<g id=\"edge4\" class=\"edge\">\n",
       "<title>hanging out&#45;&gt;asleep</title>\n",
       "<path fill=\"none\" stroke=\"black\" d=\"M154.49,-122.25C132.23,-129.16 104.34,-137.81 81.21,-144.98\"/>\n",
       "<polygon fill=\"black\" stroke=\"black\" points=\"80.24,-141.61 71.73,-147.92 82.32,-148.3 80.24,-141.61\"/>\n",
       "<text text-anchor=\"middle\" x=\"112.37\" y=\"-144.2\" font-family=\"Times,serif\" font-size=\"14.00\">nap</text>\n",
       "</g>\n",
       "<!-- hanging out&#45;&gt;saving the world -->\n",
       "<g id=\"edge5\" class=\"edge\">\n",
       "<title>hanging out&#45;&gt;saving the world</title>\n",
       "<path fill=\"none\" stroke=\"black\" d=\"M235.48,-122.23C241.39,-123.72 247.45,-125.04 253.25,-126 362.2,-144 391.3,-143.02 501.5,-136 503.67,-135.86 505.87,-135.7 508.09,-135.52\"/>\n",
       "<polygon fill=\"black\" stroke=\"black\" points=\"508.17,-139.03 517.79,-134.61 507.51,-132.06 508.17,-139.03\"/>\n",
       "<text text-anchor=\"middle\" x=\"377.38\" y=\"-143.2\" font-family=\"Times,serif\" font-size=\"14.00\">distress_call</text>\n",
       "</g>\n",
       "<!-- hungry -->\n",
       "<g id=\"node4\" class=\"node\">\n",
       "<title>hungry</title>\n",
       "<path fill=\"white\" stroke=\"black\" d=\"M392.5,-114C392.5,-114 362.25,-114 362.25,-114 356.25,-114 350.25,-108 350.25,-102 350.25,-102 350.25,-90 350.25,-90 350.25,-84 356.25,-78 362.25,-78 362.25,-78 392.5,-78 392.5,-78 398.5,-78 404.5,-84 404.5,-90 404.5,-90 404.5,-102 404.5,-102 404.5,-108 398.5,-114 392.5,-114\"/>\n",
       "<text text-anchor=\"start\" x=\"358.25\" y=\"-90.95\" font-family=\"Times,serif\" font-size=\"14.00\">hungry</text>\n",
       "</g>\n",
       "<!-- hanging out&#45;&gt;hungry -->\n",
       "<g id=\"edge6\" class=\"edge\">\n",
       "<title>hanging out&#45;&gt;hungry</title>\n",
       "<path fill=\"none\" stroke=\"black\" d=\"M224.01,-91.58C232.98,-86.66 243.2,-82.01 253.25,-79.5 282.04,-72.31 290.64,-75.29 320,-79.5 326.19,-80.39 332.64,-81.79 338.88,-83.42\"/>\n",
       "<polygon fill=\"black\" stroke=\"black\" points=\"337.74,-86.73 348.31,-86.11 339.65,-80 337.74,-86.73\"/>\n",
       "<text text-anchor=\"middle\" x=\"286.63\" y=\"-82.2\" font-family=\"Times,serif\" font-size=\"14.00\">work_out</text>\n",
       "</g>\n",
       "<!-- saving the world&#45;&gt;asleep -->\n",
       "<g id=\"edge7\" class=\"edge\">\n",
       "<title>saving the world&#45;&gt;asleep</title>\n",
       "<path fill=\"none\" stroke=\"black\" d=\"M521.89,-145.48C515.1,-147.57 508.18,-149.49 501.5,-151 350.61,-185.23 309.27,-190.08 154.75,-182 124.96,-180.44 117.23,-180.97 88,-175 85.85,-174.56 83.66,-174.07 81.46,-173.54\"/>\n",
       "<polygon fill=\"black\" stroke=\"black\" points=\"82.47,-170.19 71.91,-171.01 80.68,-176.95 82.47,-170.19\"/>\n",
       "<text text-anchor=\"middle\" x=\"286.63\" y=\"-188.2\" font-family=\"Times,serif\" font-size=\"14.00\">nap</text>\n",
       "</g>\n",
       "<!-- saving the world&#45;&gt;saving the world -->\n",
       "<g id=\"edge8\" class=\"edge\">\n",
       "<title>saving the world&#45;&gt;saving the world</title>\n",
       "<path fill=\"none\" stroke=\"black\" d=\"M553.93,-145.15C551.01,-154.54 557.33,-163 572.88,-163 581.62,-163 587.45,-160.32 590.35,-156.31\"/>\n",
       "<polygon fill=\"black\" stroke=\"black\" points=\"593.79,-157.03 591.63,-146.65 586.85,-156.11 593.79,-157.03\"/>\n",
       "<text text-anchor=\"middle\" x=\"572.88\" y=\"-166.2\" font-family=\"Times,serif\" font-size=\"14.00\">distress_call</text>\n",
       "</g>\n",
       "<!-- sweaty -->\n",
       "<g id=\"node5\" class=\"node\">\n",
       "<title>sweaty</title>\n",
       "<path fill=\"white\" stroke=\"black\" d=\"M804,-82C804,-82 774,-82 774,-82 768,-82 762,-76 762,-70 762,-70 762,-58 762,-58 762,-52 768,-46 774,-46 774,-46 804,-46 804,-46 810,-46 816,-52 816,-58 816,-58 816,-70 816,-70 816,-76 810,-82 804,-82\"/>\n",
       "<text text-anchor=\"start\" x=\"770\" y=\"-58.95\" font-family=\"Times,serif\" font-size=\"14.00\">sweaty</text>\n",
       "</g>\n",
       "<!-- saving the world&#45;&gt;sweaty -->\n",
       "<g id=\"edge9\" class=\"edge\">\n",
       "<title>saving the world&#45;&gt;sweaty</title>\n",
       "<path fill=\"none\" stroke=\"black\" d=\"M626.37,-127.88C661.21,-126.58 707.13,-121.18 744,-104 751.3,-100.6 758.23,-95.56 764.34,-90.2\"/>\n",
       "<polygon fill=\"black\" stroke=\"black\" points=\"766.74,-92.75 771.56,-83.31 761.91,-87.68 766.74,-92.75\"/>\n",
       "<text text-anchor=\"middle\" x=\"694.13\" y=\"-129.2\" font-family=\"Times,serif\" font-size=\"14.00\">complete_mission</text>\n",
       "</g>\n",
       "<!-- hungry&#45;&gt;asleep -->\n",
       "<g id=\"edge10\" class=\"edge\">\n",
       "<title>hungry&#45;&gt;asleep</title>\n",
       "<path fill=\"none\" stroke=\"black\" d=\"M349.89,-112.21C340.7,-117.25 330.15,-122.42 320,-126 221.65,-160.67 192.26,-163 88,-161 85.95,-160.96 83.86,-160.91 81.75,-160.86\"/>\n",
       "<polygon fill=\"black\" stroke=\"black\" points=\"82.01,-157.36 71.91,-160.56 81.8,-164.36 82.01,-157.36\"/>\n",
       "<text text-anchor=\"middle\" x=\"195\" y=\"-164.2\" font-family=\"Times,serif\" font-size=\"14.00\">nap</text>\n",
       "</g>\n",
       "<!-- hungry&#45;&gt;hanging out -->\n",
       "<g id=\"edge11\" class=\"edge\">\n",
       "<title>hungry&#45;&gt;hanging out</title>\n",
       "<path fill=\"none\" stroke=\"black\" d=\"M349.99,-98.05C323.06,-100.14 280.56,-103.44 247.03,-106.04\"/>\n",
       "<polygon fill=\"black\" stroke=\"black\" points=\"246.79,-102.55 237.09,-106.81 247.34,-109.53 246.79,-102.55\"/>\n",
       "<text text-anchor=\"middle\" x=\"286.63\" y=\"-108.2\" font-family=\"Times,serif\" font-size=\"14.00\">eat</text>\n",
       "</g>\n",
       "<!-- hungry&#45;&gt;saving the world -->\n",
       "<g id=\"edge12\" class=\"edge\">\n",
       "<title>hungry&#45;&gt;saving the world</title>\n",
       "<path fill=\"none\" stroke=\"black\" d=\"M404.88,-100.25C431.31,-104.48 472.92,-111.15 507.99,-116.76\"/>\n",
       "<polygon fill=\"black\" stroke=\"black\" points=\"507.2,-120.18 517.62,-118.31 508.3,-113.27 507.2,-120.18\"/>\n",
       "<text text-anchor=\"middle\" x=\"468.13\" y=\"-118.2\" font-family=\"Times,serif\" font-size=\"14.00\">distress_call</text>\n",
       "</g>\n",
       "<!-- sweaty&#45;&gt;asleep -->\n",
       "<g id=\"edge13\" class=\"edge\">\n",
       "<title>sweaty&#45;&gt;asleep</title>\n",
       "<path fill=\"none\" stroke=\"black\" d=\"M761.72,-50.74C722.07,-31.99 644.11,0 573.88,0 194,0 194,0 194,0 125.26,0 76.16,-75.7 52.32,-122.63\"/>\n",
       "<polygon fill=\"black\" stroke=\"black\" points=\"49.29,-120.87 48.01,-131.39 55.57,-123.96 49.29,-120.87\"/>\n",
       "<text text-anchor=\"middle\" x=\"377.38\" y=\"-3.2\" font-family=\"Times,serif\" font-size=\"14.00\">clean_up | nap</text>\n",
       "</g>\n",
       "<!-- sweaty&#45;&gt;hanging out -->\n",
       "<g id=\"edge14\" class=\"edge\">\n",
       "<title>sweaty&#45;&gt;hanging out</title>\n",
       "<path fill=\"none\" stroke=\"black\" d=\"M761.96,-61.93C756.06,-61.54 749.82,-61.2 744,-61 699.7,-59.49 688.58,-60.43 644.25,-61 470.43,-63.22 418.71,-17.67 253.25,-71 243.71,-74.08 234.31,-79.28 225.97,-84.91\"/>\n",
       "<polygon fill=\"black\" stroke=\"black\" points=\"224,-82.02 217.95,-90.72 228.11,-87.69 224,-82.02\"/>\n",
       "<text text-anchor=\"middle\" x=\"468.13\" y=\"-56.2\" font-family=\"Times,serif\" font-size=\"14.00\">clean_up</text>\n",
       "</g>\n",
       "<!-- sweaty&#45;&gt;saving the world -->\n",
       "<g id=\"edge15\" class=\"edge\">\n",
       "<title>sweaty&#45;&gt;saving the world</title>\n",
       "<path fill=\"none\" stroke=\"black\" d=\"M761.52,-64.31C732.07,-65.4 683.49,-69.43 644.25,-83.5 631.49,-88.07 618.58,-95.19 607.36,-102.34\"/>\n",
       "<polygon fill=\"black\" stroke=\"black\" points=\"605.63,-99.29 599.24,-107.74 609.5,-105.12 605.63,-99.29\"/>\n",
       "<text text-anchor=\"middle\" x=\"694.13\" y=\"-86.2\" font-family=\"Times,serif\" font-size=\"14.00\">distress_call</text>\n",
       "</g>\n",
       "</g>\n",
       "</svg>\n"
      ],
      "text/plain": [
       "<graphviz.sources.Source at 0x1105212b0>"
      ]
     },
     "execution_count": 36,
     "metadata": {},
     "output_type": "execute_result"
    }
   ],
   "source": [
    "g22"
   ]
  },
  {
   "cell_type": "markdown",
   "metadata": {},
   "source": [
    "# The non-quickstart"
   ]
  },
  {
   "cell_type": "markdown",
   "metadata": {},
   "source": [
    "## Basic initialization\n",
    "\n",
    "Getting a state machine up and running is pretty simple. Let's say you have the object lump (an instance of class Matter), and you want to manage its states:"
   ]
  },
  {
   "cell_type": "code",
   "execution_count": null,
   "metadata": {},
   "outputs": [],
   "source": [
    "class Matter(object):\n",
    "    pass\n",
    "\n",
    "lump = Matter()"
   ]
  },
  {
   "cell_type": "markdown",
   "metadata": {},
   "source": [
    "You can initialize a (minimal) working state machine bound to lump like this:"
   ]
  },
  {
   "cell_type": "code",
   "execution_count": null,
   "metadata": {},
   "outputs": [],
   "source": [
    "from transitions import Machine\n",
    "machine = Machine(model=lump, states=['solid', 'liquid', 'gas', 'plasma'], initial='solid')\n",
    "\n",
    "# Lump now has state!\n",
    "lump.state\n",
    "#'solid'"
   ]
  },
  {
   "cell_type": "markdown",
   "metadata": {},
   "source": [
    "I say \"minimal\", because while this state machine is technically operational, it doesn't actually do anything. It starts in the 'solid' state, but won't ever move into another state, because no transitions are defined... yet!\n",
    "\n",
    "Let's try again."
   ]
  },
  {
   "cell_type": "code",
   "execution_count": null,
   "metadata": {},
   "outputs": [],
   "source": [
    "# The states\n",
    "states=['solid', 'liquid', 'gas', 'plasma']\n",
    "\n",
    "# And some transitions between states. We're lazy, so we'll leave out\n",
    "# the inverse phase transitions (freezing, condensation, etc.).\n",
    "transitions = [\n",
    "    { 'trigger': 'melt', 'source': 'solid', 'dest': 'liquid' },\n",
    "    { 'trigger': 'evaporate', 'source': 'liquid', 'dest': 'gas' },\n",
    "    { 'trigger': 'sublimate', 'source': 'solid', 'dest': 'gas' },\n",
    "    { 'trigger': 'ionize', 'source': 'gas', 'dest': 'plasma' }\n",
    "]\n",
    "\n",
    "# Initialize\n",
    "machine = Machine(lump, states=states, transitions=transitions, initial='liquid')\n",
    "\n",
    "# Now lump maintains state...\n",
    "lump.state\n",
    "#>>> 'liquid'"
   ]
  },
  {
   "cell_type": "code",
   "execution_count": null,
   "metadata": {},
   "outputs": [],
   "source": [
    "# And that state can change...\n",
    "lump.evaporate()\n",
    "lump.state\n",
    "#>>> 'gas'"
   ]
  },
  {
   "cell_type": "code",
   "execution_count": null,
   "metadata": {},
   "outputs": [],
   "source": [
    "lump.trigger('ionize')\n",
    "lump.state\n",
    "#>>> 'plasma'"
   ]
  },
  {
   "cell_type": "markdown",
   "metadata": {},
   "source": [
    "Notice the shiny new methods attached to the Matter instance (evaporate(), ionize(), etc.). Each method triggers the corresponding transition. You don't have to explicitly define these methods anywhere; the name of each transition is bound to the model passed to the Machine initializer (in this case, lump). To be more precise, your model should not already contain methods with the same name as event triggers since transitions will only attach convenience methods to your model if the spot is not already taken. If you want to modify that behaviour, have a look at the FAQ. Furthermore, there is a method called trigger now attached to your model (if it hasn't been there before). This method lets you execute transitions by name in case dynamic triggering is required.\n",
    "\n",
    "States\n",
    "The soul of any good state machine (and of many bad ones, no doubt) is a set of states. Above, we defined the valid model states by passing a list of strings to the Machine initializer. But internally, states are actually represented as State objects.\n",
    "\n",
    "You can initialize and modify States in a number of ways. Specifically, you can:\n",
    "\n",
    "pass a string to the Machine initializer giving the name(s) of the state(s), or\n",
    "directly initialize each new State object, or\n",
    "pass a dictionary with initialization arguments\n",
    "The following snippets illustrate several ways to achieve the same goal:"
   ]
  },
  {
   "cell_type": "code",
   "execution_count": null,
   "metadata": {},
   "outputs": [],
   "source": [
    "# import Machine and State class\n",
    "from transitions import State\n",
    "\n",
    "# Create a list of 3 states to pass to the Machine\n",
    "# initializer. We can mix types; in this case, we\n",
    "# pass one State, one string, and one dict.\n",
    "states = [\n",
    "    State(name='solid'),\n",
    "    'liquid',\n",
    "    { 'name': 'gas'}\n",
    "    ]\n",
    "machine = Machine(lump, states)\n",
    "\n",
    "# This alternative example illustrates more explicit\n",
    "# addition of states and state callbacks, but the net\n",
    "# result is identical to the above.\n",
    "machine = Machine(lump)\n",
    "solid = State('solid')\n",
    "liquid = State('liquid')\n",
    "gas = State('gas')\n",
    "machine.add_states([solid, liquid, gas])"
   ]
  },
  {
   "cell_type": "markdown",
   "metadata": {},
   "source": [
    "States are initialized once when added to the machine and will persist until they are removed from it. In other words: if you alter the attributes of a state object, this change will NOT be reset the next time you enter that state. Have a look at how to extend state features in case you require some other behaviour.\n",
    "\n",
    "Callbacks\n",
    "A State can also be associated with a list of enter and exit callbacks, which are called whenever the state machine enters or leaves that state. You can specify callbacks during initialization, or add them later.\n",
    "\n",
    "For convenience, whenever a new State is added to a Machine, the methods on_enter_«state name» and on_exit_«state name» are dynamically created on the Machine (not on the model!), which allow you to dynamically add new enter and exit callbacks later if you need them."
   ]
  },
  {
   "cell_type": "code",
   "execution_count": null,
   "metadata": {},
   "outputs": [],
   "source": [
    "# Our old Matter class, now with  a couple of new methods we\n",
    "# can trigger when entering or exit states.\n",
    "class Matter(object):\n",
    "    def say_hello(self): print(\"hello, new state!\")\n",
    "    def say_goodbye(self): print(\"goodbye, old state!\")\n",
    "\n",
    "lump = Matter()\n",
    "\n",
    "# Same states as above, but now we give StateA an exit callback\n",
    "states = [\n",
    "    State(name='solid', on_exit=['say_goodbye']),\n",
    "    'liquid',\n",
    "    { 'name': 'gas' }\n",
    "    ]\n",
    "\n",
    "machine = Machine(lump, states=states)\n",
    "machine.add_transition('sublimate', 'solid', 'gas')\n",
    "\n",
    "# Callbacks can also be added after initialization using\n",
    "# the dynamically added on_enter_ and on_exit_ methods.\n",
    "# Note that the initial call to add the callback is made\n",
    "# on the Machine and not on the model.\n",
    "machine.on_enter_gas('say_hello')\n",
    "\n",
    "# Test out the callbacks...\n",
    "machine.set_state('solid')\n",
    "lump.sublimate()\n",
    ">>> 'goodbye, old state!'\n",
    ">>> 'hello, new state!'"
   ]
  },
  {
   "cell_type": "markdown",
   "metadata": {},
   "source": [
    "Note that on_enter_«state name» callback will not fire when a Machine is first initialized. For example if you have an on_enter_A() callback defined, and initialize the Machine with initial='A', on_enter_A() will not be fired until the next time you enter state A. (If you need to make sure on_enter_A() fires at initialization, you can simply create a dummy initial state and then explicitly call to_A() inside the __init__ method.)\n",
    "\n",
    "In addition to passing in callbacks when initializing a State, or adding them dynamically, it's also possible to define callbacks in the model class itself, which may increase code clarity. For example:"
   ]
  },
  {
   "cell_type": "code",
   "execution_count": null,
   "metadata": {},
   "outputs": [],
   "source": [
    "class Matter(object):\n",
    "    def say_hello(self): print(\"hello, new state!\")\n",
    "    def say_goodbye(self): print(\"goodbye, old state!\")\n",
    "    def on_enter_A(self): print(\"We've just entered state A!\")\n",
    "\n",
    "lump = Matter()\n",
    "machine = Machine(lump, states=['A', 'B', 'C'])"
   ]
  },
  {
   "cell_type": "markdown",
   "metadata": {},
   "source": [
    "Now, any time lump transitions to state A, the on_enter_A() method defined in the Matter class will fire.\n",
    "\n",
    "Checking state\n",
    "You can always check the current state of the model by either:\n",
    "\n",
    "inspecting the .state attribute, or\n",
    "calling is_«state name»()\n",
    "And if you want to retrieve the actual State object for the current state, you can do that through the Machine instance's get_state() method."
   ]
  },
  {
   "cell_type": "code",
   "execution_count": null,
   "metadata": {},
   "outputs": [],
   "source": [
    "lump.state\n",
    "#>>> 'solid'"
   ]
  },
  {
   "cell_type": "code",
   "execution_count": null,
   "metadata": {},
   "outputs": [],
   "source": [
    "lump.is_gas()\n",
    "#>>> False"
   ]
  },
  {
   "cell_type": "code",
   "execution_count": null,
   "metadata": {},
   "outputs": [],
   "source": [
    "lump.is_solid()\n",
    "#>>> True"
   ]
  },
  {
   "cell_type": "code",
   "execution_count": null,
   "metadata": {},
   "outputs": [],
   "source": [
    "machine.get_state(lump.state).name\n",
    "#>>> 'solid'"
   ]
  },
  {
   "cell_type": "markdown",
   "metadata": {},
   "source": [
    "If you'd like you can choose your own state attribute name by passing the model_attribute argument while initializing the Machine. This will also change the name of is_«state name»() to is_«model_attribute»_«state name»() though. Similarly, auto transitions will be named to_«model_attribute»_«state name»() instead of to_«state name»(). This is done to allow multiple machines to work on the same model with individual state attribute names."
   ]
  },
  {
   "cell_type": "code",
   "execution_count": null,
   "metadata": {},
   "outputs": [],
   "source": [
    "lump = Matter()\n",
    "machine = Machine(lump, states=['solid', 'liquid', 'gas'],  model_attribute='matter_state', initial='solid')\n",
    "lump.matter_state\n",
    "#>>> 'solid'"
   ]
  },
  {
   "cell_type": "code",
   "execution_count": null,
   "metadata": {},
   "outputs": [],
   "source": [
    "# with a custom 'model_attribute', states can also be checked like this:\n",
    "lump.is_matter_state_solid()\n",
    "#>>> True"
   ]
  },
  {
   "cell_type": "code",
   "execution_count": null,
   "metadata": {},
   "outputs": [],
   "source": [
    "lump.to_matter_state_gas()\n",
    "#>>> True"
   ]
  },
  {
   "cell_type": "markdown",
   "metadata": {},
   "source": [
    "Enumerations\n",
    "So far we have seen how we can give state names and use these names to work with our state machine. If you favour stricter typing and more IDE code completion (or you just can't type 'sesquipedalophobia' any longer because the word scares you) using Enumerations might be what you are looking for:"
   ]
  },
  {
   "cell_type": "code",
   "execution_count": null,
   "metadata": {},
   "outputs": [],
   "source": [
    "import enum  # Python 2.7 users need to have 'enum34' installed\n",
    "from transitions import Machine\n",
    "\n",
    "class States(enum.Enum):\n",
    "    ERROR = 0\n",
    "    RED = 1\n",
    "    YELLOW = 2\n",
    "    GREEN = 3\n",
    "\n",
    "transitions = [['proceed', States.RED, States.YELLOW],\n",
    "               ['proceed', States.YELLOW, States.GREEN],\n",
    "               ['error', '*', States.ERROR]]\n",
    "\n",
    "m = Machine(states=States, transitions=transitions, initial=States.RED)\n",
    "assert m.is_RED()\n",
    "assert m.state is States.RED\n",
    "state = m.get_state(States.RED)  # get transitions.State object\n",
    "print(state.name)  # >>> RED\n",
    "m.proceed()\n",
    "m.proceed()\n",
    "assert m.is_GREEN()\n",
    "m.error()\n",
    "assert m.state is States.ERROR"
   ]
  },
  {
   "cell_type": "markdown",
   "metadata": {},
   "source": [
    "You can mix enums and strings if you like (e.g. [States.RED, 'ORANGE', States.YELLOW, States.GREEN]) but note that internally, transitions will still handle states by name (enum.Enum.name). Thus, it is not possible to have the states 'GREEN' and States.GREEN at the same time.\n",
    "\n",
    "Transitions\n",
    "Some of the above examples already illustrate the use of transitions in passing, but here we'll explore them in more detail.\n",
    "\n",
    "As with states, each transition is represented internally as its own object – an instance of class Transition. The quickest way to initialize a set of transitions is to pass a dictionary, or list of dictionaries, to the Machine initializer. We already saw this above:"
   ]
  },
  {
   "cell_type": "code",
   "execution_count": null,
   "metadata": {},
   "outputs": [],
   "source": [
    "transitions = [\n",
    "    { 'trigger': 'melt', 'source': 'solid', 'dest': 'liquid' },\n",
    "    { 'trigger': 'evaporate', 'source': 'liquid', 'dest': 'gas' },\n",
    "    { 'trigger': 'sublimate', 'source': 'solid', 'dest': 'gas' },\n",
    "    { 'trigger': 'ionize', 'source': 'gas', 'dest': 'plasma' }\n",
    "]\n",
    "machine = Machine(model=Matter(), states=states, transitions=transitions)"
   ]
  },
  {
   "cell_type": "markdown",
   "metadata": {},
   "source": [
    "Defining transitions in dictionaries has the benefit of clarity, but can be cumbersome. If you're after brevity, you might choose to define transitions using lists. Just make sure that the elements in each list are in the same order as the positional arguments in the Transition initialization (i.e., trigger, source, destination, etc.).\n",
    "\n",
    "The following list-of-lists is functionally equivalent to the list-of-dictionaries above:"
   ]
  },
  {
   "cell_type": "code",
   "execution_count": null,
   "metadata": {},
   "outputs": [],
   "source": [
    "transitions = [\n",
    "    ['melt', 'solid', 'liquid'],\n",
    "    ['evaporate', 'liquid', 'gas'],\n",
    "    ['sublimate', 'solid', 'gas'],\n",
    "    ['ionize', 'gas', 'plasma']\n",
    "]"
   ]
  },
  {
   "cell_type": "markdown",
   "metadata": {},
   "source": [
    "Alternatively, you can add transitions to a Machine after initialization:"
   ]
  },
  {
   "cell_type": "code",
   "execution_count": null,
   "metadata": {},
   "outputs": [],
   "source": [
    "machine = Machine(model=lump, states=states, initial='solid')\n",
    "machine.add_transition('melt', source='solid', dest='liquid')"
   ]
  },
  {
   "cell_type": "markdown",
   "metadata": {},
   "source": [
    "The trigger argument defines the name of the new triggering method that gets attached to the base model. When this method is called, it will try to execute the transition:"
   ]
  },
  {
   "cell_type": "code",
   "execution_count": null,
   "metadata": {},
   "outputs": [],
   "source": [
    "lump.melt()\n",
    "lump.state\n",
    "#'liquid'"
   ]
  },
  {
   "cell_type": "markdown",
   "metadata": {},
   "source": [
    "By default, calling an invalid trigger will raise an exception:"
   ]
  },
  {
   "cell_type": "code",
   "execution_count": null,
   "metadata": {},
   "outputs": [],
   "source": [
    "lump.to_gas()\n",
    "# This won't work because only objects in a solid state can melt\n",
    "lump.melt()\n",
    "#transitions.core.MachineError: \"Can't trigger event melt from state gas!\""
   ]
  },
  {
   "cell_type": "markdown",
   "metadata": {},
   "source": [
    "This behavior is generally desirable, since it helps alert you to problems in your code. But in some cases, you might want to silently ignore invalid triggers. You can do this by setting ignore_invalid_triggers=True (either on a state-by-state basis, or globally for all states):"
   ]
  },
  {
   "cell_type": "code",
   "execution_count": null,
   "metadata": {},
   "outputs": [],
   "source": [
    "# Globally suppress invalid trigger exceptions\n",
    "m = Machine(lump, states, initial='solid', ignore_invalid_triggers=True)\n",
    "# ...or suppress for only one group of states\n",
    "states = ['new_state1', 'new_state2']\n",
    "m.add_states(states, ignore_invalid_triggers=True)\n",
    "# ...or even just for a single state. Here, exceptions will only be suppressed when the current state is A.\n",
    "states = [State('A', ignore_invalid_triggers=True), 'B', 'C']\n",
    "m = Machine(lump, states)\n",
    "# ...this can be inverted as well if just one state should raise an exception\n",
    "# since the machine's global value is not applied to a previously initialized state.\n",
    "states = ['A', 'B', State('C')] # the default value for 'ignore_invalid_triggers' is False\n",
    "m = Machine(lump, states, ignore_invalid_triggers=True)"
   ]
  },
  {
   "cell_type": "markdown",
   "metadata": {},
   "source": [
    "If you need to know which transitions are valid from a certain state, you can use get_triggers:"
   ]
  },
  {
   "cell_type": "code",
   "execution_count": null,
   "metadata": {},
   "outputs": [],
   "source": [
    "m.get_triggers('solid')\n",
    "#['melt', 'sublimate']"
   ]
  },
  {
   "cell_type": "code",
   "execution_count": null,
   "metadata": {},
   "outputs": [],
   "source": [
    "m.get_triggers('liquid')\n",
    "#['evaporate']"
   ]
  },
  {
   "cell_type": "code",
   "execution_count": null,
   "metadata": {},
   "outputs": [],
   "source": [
    "m.get_triggers('plasma')\n",
    "$[]"
   ]
  },
  {
   "cell_type": "code",
   "execution_count": null,
   "metadata": {},
   "outputs": [],
   "source": [
    "# you can also query several states at once\n",
    "m.get_triggers('solid', 'liquid', 'gas', 'plasma')\n",
    "#['melt', 'evaporate', 'sublimate', 'ionize']"
   ]
  },
  {
   "cell_type": "markdown",
   "metadata": {},
   "source": [
    "Automatic transitions for all states\n",
    "In addition to any transitions added explicitly, a to_«state»() method is created automatically whenever a state is added to a Machine instance. This method transitions to the target state no matter which state the machine is currently in:"
   ]
  },
  {
   "cell_type": "code",
   "execution_count": null,
   "metadata": {},
   "outputs": [],
   "source": [
    "lump.to_liquid()\n",
    "lump.state\n",
    "#'liquid'"
   ]
  },
  {
   "cell_type": "code",
   "execution_count": null,
   "metadata": {},
   "outputs": [],
   "source": [
    "lump.to_solid()\n",
    "lump.state\n",
    "#'solid'"
   ]
  },
  {
   "cell_type": "markdown",
   "metadata": {},
   "source": [
    "If you desire, you can disable this behavior by setting auto_transitions=False in the Machine initializer.\n",
    "\n",
    "Transitioning from multiple states\n",
    "A given trigger can be attached to multiple transitions, some of which can potentially begin or end in the same state. For example:"
   ]
  },
  {
   "cell_type": "code",
   "execution_count": null,
   "metadata": {},
   "outputs": [],
   "source": [
    "machine.add_transition('transmogrify', ['solid', 'liquid', 'gas'], 'plasma')\n",
    "machine.add_transition('transmogrify', 'plasma', 'solid')\n",
    "# This next transition will never execute\n",
    "machine.add_transition('transmogrify', 'plasma', 'gas')"
   ]
  },
  {
   "cell_type": "markdown",
   "metadata": {},
   "source": [
    "In this case, calling transmogrify() will set the model's state to 'solid' if it's currently 'plasma', and set it to 'plasma' otherwise. (Note that only the first matching transition will execute; thus, the transition defined in the last line above won't do anything.)\n",
    "\n",
    "You can also make a trigger cause a transition from all states to a particular destination by using the '*' wildcard:"
   ]
  },
  {
   "cell_type": "code",
   "execution_count": null,
   "metadata": {},
   "outputs": [],
   "source": [
    "machine.add_transition('to_liquid', '*', 'liquid')"
   ]
  },
  {
   "cell_type": "markdown",
   "metadata": {},
   "source": [
    "Note that wildcard transitions will only apply to states that exist at the time of the add_transition() call. Calling a wildcard-based transition when the model is in a state added after the transition was defined will elicit an invalid transition message, and will not transition to the target state."
   ]
  },
  {
   "cell_type": "markdown",
   "metadata": {},
   "source": [
    "Reflexive transitions from multiple states\n",
    "A reflexive trigger (trigger that has the same state as source and destination) can easily be added specifying = as destination. This is handy if the same reflexive trigger should be added to multiple states. For example:"
   ]
  },
  {
   "cell_type": "code",
   "execution_count": null,
   "metadata": {},
   "outputs": [],
   "source": [
    "machine.add_transition('touch', ['liquid', 'gas', 'plasma'], '=', after='change_shape')"
   ]
  },
  {
   "cell_type": "markdown",
   "metadata": {},
   "source": [
    "This will add reflexive transitions for all three states with touch() as trigger and with change_shape executed after each trigger."
   ]
  },
  {
   "cell_type": "markdown",
   "metadata": {},
   "source": [
    "### Internal transitions"
   ]
  },
  {
   "cell_type": "markdown",
   "metadata": {},
   "source": [
    "In contrast to reflexive transitions, internal transitions will never actually leave the state. This means that transition-related callbacks such as before or after will be processed while state-related callbacks exit or enter will not. To define a transition to be internal, set the destination to None."
   ]
  },
  {
   "cell_type": "code",
   "execution_count": null,
   "metadata": {},
   "outputs": [],
   "source": [
    "machine.add_transition('internal', ['liquid', 'gas'], None, after='change_shape')"
   ]
  },
  {
   "cell_type": "markdown",
   "metadata": {},
   "source": [
    "### Ordered transitions"
   ]
  },
  {
   "cell_type": "markdown",
   "metadata": {},
   "source": [
    "A common desire is for state transitions to follow a strict linear sequence. For instance, given states ['A', 'B', 'C'], you might want valid transitions for A → B, B → C, and C → A (but no other pairs).\n",
    "\n",
    "To facilitate this behavior, Transitions provides an add_ordered_transitions() method in the Machine class:"
   ]
  },
  {
   "cell_type": "code",
   "execution_count": null,
   "metadata": {},
   "outputs": [],
   "source": [
    "states = ['A', 'B', 'C']\n",
    " # See the \"alternative initialization\" section for an explanation of the 1st argument to init\n",
    "machine = Machine(states=states, initial='A')\n",
    "machine.add_ordered_transitions()\n",
    "machine.next_state()\n",
    "print(machine.state)\n",
    "#'B'\n",
    "# We can also define a different order of transitions\n",
    "machine = Machine(states=states, initial='A')\n",
    "machine.add_ordered_transitions(['A', 'C', 'B'])\n",
    "machine.next_state()\n",
    "print(machine.state)\n",
    "#'C'\n",
    "# Conditions can be passed to 'add_ordered_transitions' as well\n",
    "# If one condition is passed, it will be used for all transitions\n",
    "machine = Machine(states=states, initial='A')\n",
    "machine.add_ordered_transitions(conditions='check')\n",
    "# If a list is passed, it must contain exactly as many elements as the\n",
    "# machine contains states (A->B, ..., X->A)\n",
    "machine = Machine(states=states, initial='A')\n",
    "machine.add_ordered_transitions(conditions=['check_A2B', ..., 'check_X2A'])"
   ]
  },
  {
   "cell_type": "markdown",
   "metadata": {},
   "source": [
    "### Queued transitions"
   ]
  },
  {
   "cell_type": "markdown",
   "metadata": {},
   "source": [
    "The default behaviour in Transitions is to process events instantly. This means events within an on_enter method will be processed before callbacks bound to after are called."
   ]
  },
  {
   "cell_type": "code",
   "execution_count": null,
   "metadata": {},
   "outputs": [],
   "source": [
    "def go_to_C():\n",
    "    global machine\n",
    "    machine.to_C()\n",
    "\n",
    "def after_advance():\n",
    "    print(\"I am in state B now!\")\n",
    "\n",
    "def entering_C():\n",
    "    print(\"I am in state C now!\")\n",
    "\n",
    "states = ['A', 'B', 'C']\n",
    "machine = Machine(states=states, initial='A')\n",
    "\n",
    "# we want a message when state transition to B has been completed\n",
    "machine.add_transition('advance', 'A', 'B', after=after_advance)\n",
    "\n",
    "# call transition from state B to state C\n",
    "machine.on_enter_B(go_to_C)\n",
    "\n",
    "# we also want a message when entering state C\n",
    "machine.on_enter_C(entering_C)\n",
    "machine.advance()\n",
    "#'I am in state C now!'\n",
    "#'I am in state B now!' # what?"
   ]
  },
  {
   "cell_type": "markdown",
   "metadata": {},
   "source": [
    "The execution order of this example is\n",
    "\n",
    "```\n",
    "prepare -> before -> on_enter_B -> on_enter_C -> after\n",
    "```\n",
    "\n",
    "If queued processing is enabled, a transition will be finished before the next transition is triggered:"
   ]
  },
  {
   "cell_type": "code",
   "execution_count": null,
   "metadata": {},
   "outputs": [],
   "source": [
    "machine = Machine(states=states, queued=True, initial='A')\n",
    "### ...\n",
    "machine.advance()\n",
    "#'I am in state B now!'\n",
    "#'I am in state C now!' # That's better!"
   ]
  },
  {
   "cell_type": "markdown",
   "metadata": {},
   "source": [
    "This results in\n",
    "\n",
    "```\n",
    "prepare -> before -> on_enter_B -> queue(to_C) -> after  -> on_enter_C.\n",
    "```\n",
    "Important note: when processing events in a queue, the trigger call will always return True, since there is no way to determine at queuing time whether a transition involving queued calls will ultimately complete successfully. This is true even when only a single event is processed."
   ]
  },
  {
   "cell_type": "code",
   "execution_count": null,
   "metadata": {},
   "outputs": [],
   "source": [
    "machine.add_transition('jump', 'A', 'C', conditions='will_fail')\n",
    "#...\n",
    "# queued=False\n",
    "machine.jump()\n",
    "#False\n",
    "# queued=True\n",
    "machine.jump()\n",
    "#True"
   ]
  },
  {
   "cell_type": "markdown",
   "metadata": {},
   "source": [
    "When a model is removed from the machine, transitions will also remove all related events from the queue."
   ]
  },
  {
   "cell_type": "code",
   "execution_count": null,
   "metadata": {},
   "outputs": [],
   "source": [
    "class Model:\n",
    "    def on_enter_B(self):\n",
    "        self.to_C()  # add event to queue ...\n",
    "        self.machine.remove_model(self)  # aaaand it's gone"
   ]
  },
  {
   "cell_type": "markdown",
   "metadata": {},
   "source": [
    "### Conditional transitions"
   ]
  },
  {
   "cell_type": "markdown",
   "metadata": {},
   "source": [
    "Sometimes you only want a particular transition to execute if a specific condition occurs. You can do this by passing a method, or list of methods, in the conditions argument:"
   ]
  },
  {
   "cell_type": "code",
   "execution_count": null,
   "metadata": {},
   "outputs": [],
   "source": [
    "# Our Matter class, now with a bunch of methods that return booleans.\n",
    "class Matter(object):\n",
    "    def is_flammable(self): return False\n",
    "    def is_really_hot(self): return True\n",
    "\n",
    "machine.add_transition('heat', 'solid', 'gas', conditions='is_flammable')\n",
    "machine.add_transition('heat', 'solid', 'liquid', conditions=['is_really_hot'])"
   ]
  },
  {
   "cell_type": "code",
   "execution_count": null,
   "metadata": {},
   "outputs": [],
   "source": [
    "In the above example, calling heat() when the model is in state 'solid' will transition to state 'gas' if is_flammable returns True. Otherwise, it will transition to state 'liquid' if is_really_hot returns True.\n",
    "\n",
    "For convenience, there's also an 'unless' argument that behaves exactly like conditions, but inverted:"
   ]
  },
  {
   "cell_type": "code",
   "execution_count": null,
   "metadata": {},
   "outputs": [],
   "source": [
    "machine.add_transition('heat', 'solid', 'gas', unless=['is_flammable', 'is_really_hot'])"
   ]
  },
  {
   "cell_type": "code",
   "execution_count": null,
   "metadata": {},
   "outputs": [],
   "source": [
    "In this case, the model would transition from solid to gas whenever heat() fires, provided that both is_flammable() and is_really_hot() return False.\n",
    "\n",
    "Note that condition-checking methods will passively receive optional arguments and/or data objects passed to triggering methods. For instance, the following call:"
   ]
  },
  {
   "cell_type": "code",
   "execution_count": null,
   "metadata": {},
   "outputs": [],
   "source": [
    "lump.heat(temp=74)\n",
    "# equivalent to lump.trigger('heat', temp=74)\n",
    "#... would pass the temp=74 optional kwarg to the is_flammable() check (possibly wrapped in an EventData instance). For more on this, see the Passing data section below."
   ]
  },
  {
   "cell_type": "markdown",
   "metadata": {},
   "source": [
    "### Callbacks\n",
    "\n",
    "You can attach callbacks to transitions as well as states. Every transition has 'before' and 'after' attributes that contain a list of methods to call before and after the transition executes:"
   ]
  },
  {
   "cell_type": "code",
   "execution_count": null,
   "metadata": {},
   "outputs": [],
   "source": [
    "class Matter(object):\n",
    "    def make_hissing_noises(self): print(\"HISSSSSSSSSSSSSSSS\")\n",
    "    def disappear(self): print(\"where'd all the liquid go?\")\n",
    "\n",
    "transitions = [\n",
    "    { 'trigger': 'melt', 'source': 'solid', 'dest': 'liquid', 'before': 'make_hissing_noises'},\n",
    "    { 'trigger': 'evaporate', 'source': 'liquid', 'dest': 'gas', 'after': 'disappear' }\n",
    "]\n",
    "\n",
    "lump = Matter()\n",
    "machine = Machine(lump, states, transitions=transitions, initial='solid')\n",
    "lump.melt()\n",
    "#\"HISSSSSSSSSSSSSSSS\"\n",
    "lump.evaporate()\n",
    "#\"where'd all the liquid go?\""
   ]
  },
  {
   "cell_type": "markdown",
   "metadata": {},
   "source": [
    "There is also a 'prepare' callback that is executed as soon as a transition starts, before any 'conditions' are checked or other callbacks are executed."
   ]
  },
  {
   "cell_type": "code",
   "execution_count": null,
   "metadata": {},
   "outputs": [],
   "source": [
    "class Matter(object):\n",
    "    heat = False\n",
    "    attempts = 0\n",
    "    def count_attempts(self): self.attempts += 1\n",
    "    def heat_up(self): self.heat = random.random() < 0.25\n",
    "    def stats(self): print('It took you %i attempts to melt the lump!' %self.attempts)\n",
    "\n",
    "    @property\n",
    "    def is_really_hot(self):\n",
    "        return self.heat\n",
    "    \n",
    "\n",
    "states=['solid', 'liquid', 'gas', 'plasma']\n",
    "\n",
    "transitions = [\n",
    "    { 'trigger': 'melt', 'source': 'solid', 'dest': 'liquid', 'prepare': ['heat_up', 'count_attempts'], 'conditions': 'is_really_hot', 'after': 'stats'},\n",
    "]\n",
    "\n",
    "lump = Matter()\n",
    "machine = Machine(lump, states, transitions=transitions, initial='solid')\n",
    "lump.melt()\n",
    "lump.melt()\n",
    "lump.melt()\n",
    "lump.melt()\n",
    "#\"It took you 4 attempts to melt the lump!\""
   ]
  },
  {
   "cell_type": "markdown",
   "metadata": {},
   "source": [
    "Note that prepare will not be called unless the current state is a valid source for the named transition.\n",
    "\n",
    "Default actions meant to be executed before or after every transition can be passed to Machine during initialization with before_state_change and after_state_change respectively:"
   ]
  },
  {
   "cell_type": "code",
   "execution_count": null,
   "metadata": {},
   "outputs": [],
   "source": [
    "class Matter(object):\n",
    "    def make_hissing_noises(self): print(\"HISSSSSSSSSSSSSSSS\")\n",
    "    def disappear(self): print(\"where'd all the liquid go?\")\n",
    "\n",
    "states=['solid', 'liquid', 'gas', 'plasma']\n",
    "\n",
    "lump = Matter()\n",
    "m = Machine(lump, states, before_state_change='make_hissing_noises', after_state_change='disappear')\n",
    "lump.to_gas()\n",
    "#\"HISSSSSSSSSSSSSSSS\"\n",
    "#\"where'd all the liquid go?\""
   ]
  },
  {
   "cell_type": "markdown",
   "metadata": {},
   "source": [
    "There are also two keywords for callbacks which should be executed independently a) of how many transitions are possible, b) if any transition succeeds and c) even if an error is raised during the execution of some other callback. Callbacks passed to Machine with prepare_event will be executed once before processing possible transitions (and their individual prepare callbacks) takes place. Callbacks of finalize_event will be executed regardless of the success of the processed transitions. Note that if an error occurred it will be attached to event_data as error and can be retrieved with send_event=True."
   ]
  },
  {
   "cell_type": "code",
   "execution_count": null,
   "metadata": {},
   "outputs": [],
   "source": [
    "from transitions import Machine\n",
    "\n",
    "class Matter(object):\n",
    "    def raise_error(self, event): raise ValueError(\"Oh no\")\n",
    "    def prepare(self, event): print(\"I am ready!\")\n",
    "    def finalize(self, event): print(\"Result: \", type(event.error), event.error)\n",
    "\n",
    "states=['solid', 'liquid', 'gas', 'plasma']\n",
    "\n",
    "lump = Matter()\n",
    "m = Machine(lump, states, prepare_event='prepare', before_state_change='raise_error',\n",
    "            finalize_event='finalize', send_event=True)\n",
    "try:\n",
    "    lump.to_gas()\n",
    "except ValueError:\n",
    "    pass\n",
    "print(lump.state)\n",
    "\n",
    "#I am ready!\n",
    "#Result:  <class 'ValueError'> Oh no\n",
    "#initial"
   ]
  },
  {
   "cell_type": "markdown",
   "metadata": {},
   "source": [
    "### Callable resolution\n",
    "\n",
    "\n",
    "As you have probably already realized, the standard way of passing callables to states, conditions and transitions is by name. When processing callbacks and conditions, transitions will use their name to retrieve the related callable from the model. If the method cannot be retrieved and it contains dots, transitions will treat the name as a path to a module function and try to import it. Alternatively, you can pass names of properties or attributes. They will be wrapped into functions but cannot receive event data for obvious reasons. You can also pass callables such as (bound) functions directly. As mentioned earlier, you can also pass lists/tuples of callables names to the callback parameters. Callbacks will be executed in the order they were added."
   ]
  },
  {
   "cell_type": "code",
   "execution_count": null,
   "metadata": {},
   "outputs": [],
   "source": [
    "from transitions import Machine\n",
    "from mod import imported_func\n",
    "\n",
    "import random\n",
    "\n",
    "\n",
    "class Model(object):\n",
    "\n",
    "    def a_callback(self):\n",
    "        imported_func()\n",
    "\n",
    "    @property\n",
    "    def a_property(self):\n",
    "        \"\"\" Basically a coin toss. \"\"\"\n",
    "        return random.random() < 0.5\n",
    "\n",
    "    an_attribute = False\n",
    "\n",
    "\n",
    "model = Model()\n",
    "machine = Machine(model=model, states=['A'], initial='A')\n",
    "machine.add_transition('by_name', 'A', 'A', conditions='a_property', after='a_callback')\n",
    "machine.add_transition('by_reference', 'A', 'A', unless=['a_property', 'an_attribute'], after=model.a_callback)\n",
    "machine.add_transition('imported', 'A', 'A', after='mod.imported_func')\n",
    "\n",
    "model.by_name()\n",
    "model.by_reference()\n",
    "model.imported()"
   ]
  },
  {
   "cell_type": "markdown",
   "metadata": {},
   "source": [
    "The callable resolution is done in Machine.resolve_callable. This method can be overridden in case more complex callable resolution strategies are required."
   ]
  },
  {
   "cell_type": "markdown",
   "metadata": {},
   "source": [
    "### Example"
   ]
  },
  {
   "cell_type": "code",
   "execution_count": null,
   "metadata": {},
   "outputs": [],
   "source": [
    "class CustomMachine(Machine):\n",
    "    @staticmethod\n",
    "    def resolve_callable(func, event_data):\n",
    "        # manipulate arguments here and return func, or super() if no manipulation is done.\n",
    "        super(CustomMachine, CustomMachine).resolve_callable(func, event_data)"
   ]
  },
  {
   "cell_type": "markdown",
   "metadata": {},
   "source": [
    "### Callback execution order\n",
    "\n",
    "In summary, callbacks on transitions are executed in the following order:"
   ]
  },
  {
   "cell_type": "markdown",
   "metadata": {},
   "source": [
    "Callback\t             Current State\t Comments\n",
    "'machine.prepare_event'\tsource\texecuted once before individual transitions are processed\n",
    "'transition.prepare'\tsource\texecuted as soon as the transition starts\n",
    "'transition.conditions'\tsource\tconditions may fail and halt the transition\n",
    "'transition.unless'\tsource\tconditions may fail and halt the transition\n",
    "'machine.before_state_change'\tsource\tdefault callbacks declared on model\n",
    "'transition.before'\tsource\t\n",
    "'state.on_exit'\tsource\tcallbacks declared on the source state\n",
    "<STATE CHANGE>\t\t\n",
    "'state.on_enter'\tdestination\tcallbacks declared on the destination state\n",
    "'transition.after'\tdestination\t\n",
    "'machine.after_state_change'\tdestination\tdefault callbacks declared on model\n",
    "'machine.finalize_event'\tsource/destination\tcallbacks will be executed even if no transition took place or an exception has been raised\n",
    "\n",
    "If any callback raises an exception, the processing of callbacks is not continued. This means that when an error occurs before the transition (in state.on_exit or earlier), it is halted. In case there is a raise after the transition has been conducted (in state.on_enter or later), the state change persists and no rollback is happening. Callbacks specified in machine.finalize_event will always be executed unless the exception is raised by a finalizing callback itself."
   ]
  },
  {
   "cell_type": "markdown",
   "metadata": {},
   "source": [
    "### Passing data\n",
    "\n",
    "Sometimes you need to pass the callback functions registered at machine initialization some data that reflects the model's current state. Transitions allows you to do this in two different ways.\n",
    "\n",
    "First (the default), you can pass any positional or keyword arguments directly to the trigger methods (created when you call add_transition()):"
   ]
  },
  {
   "cell_type": "code",
   "execution_count": null,
   "metadata": {},
   "outputs": [],
   "source": [
    "class Matter(object):\n",
    "    def __init__(self): self.set_environment()\n",
    "    def set_environment(self, temp=0, pressure=101.325):\n",
    "        self.temp = temp\n",
    "        self.pressure = pressure\n",
    "    def print_temperature(self): print(\"Current temperature is %d degrees celsius.\" % self.temp)\n",
    "    def print_pressure(self): print(\"Current pressure is %.2f kPa.\" % self.pressure)\n",
    "\n",
    "lump = Matter()\n",
    "machine = Machine(lump, ['solid', 'liquid'], initial='solid')\n",
    "machine.add_transition('melt', 'solid', 'liquid', before='set_environment')\n",
    "\n",
    "lump.melt(45)  # positional arg;\n",
    "# equivalent to lump.trigger('melt', 45)\n",
    "lump.print_temperature()\n",
    "'Current temperature is 45 degrees celsius.'\n",
    "\n",
    "machine.set_state('solid')  # reset state so we can melt again\n",
    "lump.melt(pressure=300.23)  # keyword args also work\n",
    "lump.print_pressure()\n",
    "#'Current pressure is 300.23 kPa.'"
   ]
  },
  {
   "cell_type": "markdown",
   "metadata": {},
   "source": [
    "You can pass any number of arguments you like to the trigger.\n",
    "\n",
    "There is one important limitation to this approach: every callback function triggered by the state transition must be able to handle all of the arguments. This may cause problems if the callbacks each expect somewhat different data.\n",
    "\n",
    "To get around this, Transitions supports an alternate method for sending data. If you set send_event=True at Machine initialization, all arguments to the triggers will be wrapped in an EventData instance and passed on to every callback. (The EventData object also maintains internal references to the source state, model, transition, machine, and trigger associated with the event, in case you need to access these for anything.)"
   ]
  },
  {
   "cell_type": "code",
   "execution_count": null,
   "metadata": {},
   "outputs": [],
   "source": [
    "class Matter(object):\n",
    "\n",
    "    def __init__(self):\n",
    "        self.temp = 0\n",
    "        self.pressure = 101.325\n",
    "\n",
    "    # Note that the sole argument is now the EventData instance.\n",
    "    # This object stores positional arguments passed to the trigger method in the\n",
    "    # .args property, and stores keywords arguments in the .kwargs dictionary.\n",
    "    def set_environment(self, event):\n",
    "        self.temp = event.kwargs.get('temp', 0)\n",
    "        self.pressure = event.kwargs.get('pressure', 101.325)\n",
    "\n",
    "    def print_pressure(self): print(\"Current pressure is %.2f kPa.\" % self.pressure)\n",
    "\n",
    "lump = Matter()\n",
    "machine = Machine(lump, ['solid', 'liquid'], send_event=True, initial='solid')\n",
    "machine.add_transition('melt', 'solid', 'liquid', before='set_environment')\n",
    "\n",
    "lump.melt(temp=45, pressure=1853.68)  # keyword args\n",
    "lump.print_pressure()\n",
    "'Current pressure is 1853.68 kPa.'"
   ]
  },
  {
   "cell_type": "markdown",
   "metadata": {},
   "source": [
    "### Alternative initialization patterns\n",
    "\n",
    "In all of the examples so far, we've attached a new Machine instance to a separate model (lump, an instance of class Matter). While this separation keeps things tidy (because you don't have to monkey patch a whole bunch of new methods into the Matter class), it can also get annoying, since it requires you to keep track of which methods are called on the state machine, and which ones are called on the model that the state machine is bound to (e.g., lump.on_enter_StateA() vs. machine.add_transition()).\n",
    "\n",
    "Fortunately, Transitions is flexible, and supports two other initialization patterns.\n",
    "\n",
    "First, you can create a standalone state machine that doesn't require another model at all. Simply omit the model argument during initialization:"
   ]
  },
  {
   "cell_type": "code",
   "execution_count": null,
   "metadata": {},
   "outputs": [],
   "source": [
    "machine = Machine(states=states, transitions=transitions, initial='solid')\n",
    "machine.melt()\n",
    "machine.state\n",
    "#'liquid'"
   ]
  },
  {
   "cell_type": "markdown",
   "metadata": {},
   "source": [
    "If you initialize the machine this way, you can then attach all triggering events (like evaporate(), sublimate(), etc.) and all callback functions directly to the Machine instance.\n",
    "\n",
    "This approach has the benefit of consolidating all of the state machine functionality in one place, but can feel a little bit unnatural if you think state logic should be contained within the model itself rather than in a separate controller.\n",
    "\n",
    "An alternative (potentially better) approach is to have the model inherit from the Machine class. Transitions is designed to support inheritance seamlessly. (just be sure to override class Machine's __init__ method!):"
   ]
  },
  {
   "cell_type": "code",
   "execution_count": null,
   "metadata": {},
   "outputs": [],
   "source": [
    "class Matter(Machine):\n",
    "    def say_hello(self): print(\"hello, new state!\")\n",
    "    def say_goodbye(self): print(\"goodbye, old state!\")\n",
    "\n",
    "    def __init__(self):\n",
    "        states = ['solid', 'liquid', 'gas']\n",
    "        Machine.__init__(self, states=states, initial='solid')\n",
    "        self.add_transition('melt', 'solid', 'liquid')\n",
    "\n",
    "lump = Matter()\n",
    "lump.state\n",
    "#'solid'"
   ]
  },
  {
   "cell_type": "code",
   "execution_count": null,
   "metadata": {},
   "outputs": [],
   "source": [
    "lump.melt()\n",
    "#lump.state\n",
    "'liquid'"
   ]
  },
  {
   "cell_type": "markdown",
   "metadata": {},
   "source": [
    "Here you get to consolidate all state machine functionality into your existing model, which often feels more natural way than sticking all of the functionality we want in a separate standalone Machine instance.\n",
    "\n",
    "A machine can handle multiple models which can be passed as a list like Machine(model=[model1, model2, ...]). In cases where you want to add models as well as the machine instance itself, you can pass the string placeholder 'self' during initialization like Machine(model=['self', model1, ...]). You can also create a standalone machine, and register models dynamically via machine.add_model by passing model=None to the constructor. Remember to call machine.remove_model if machine is long-lasting and your models are temporary and should be garbage collected:"
   ]
  },
  {
   "cell_type": "code",
   "execution_count": null,
   "metadata": {},
   "outputs": [],
   "source": [
    "class Matter():\n",
    "    pass\n",
    "\n",
    "lump1 = Matter()\n",
    "lump2 = Matter()\n",
    "\n",
    "# setting 'model' to None or passing an empty list will initialize the machine without a model\n",
    "machine = Machine(model=None, states=states, transitions=transitions, initial='solid')\n",
    "\n",
    "machine.add_model(lump1)\n",
    "machine.add_model(lump2, initial='liquid')\n",
    "\n",
    "lump1.state\n",
    "'solid'\n",
    "lump2.state\n",
    "'liquid'\n",
    "\n",
    "machine.remove_model([lump1, lump2])\n",
    "del lump1  # lump1 is garbage collected\n",
    "del lump2  # lump2 is garbage collected"
   ]
  },
  {
   "cell_type": "markdown",
   "metadata": {},
   "source": [
    "If you don't provide an initial state in the state machine constructor, transitions will create and add a default state called 'initial'. If you do not want a default initial state, you can pass initial=None. However, in this case you need to pass an initial state every time you add a model."
   ]
  },
  {
   "cell_type": "code",
   "execution_count": null,
   "metadata": {},
   "outputs": [],
   "source": [
    "machine = Machine(model=None, states=states, transitions=transitions, initial=None)\n",
    "\n",
    "machine.add_model(Matter())\n",
    "#\"MachineError: No initial state configured for machine, must specify when adding model.\""
   ]
  },
  {
   "cell_type": "code",
   "execution_count": null,
   "metadata": {},
   "outputs": [],
   "source": [
    "machine.add_model(Matter(), initial='liquid')\n",
    "Models with multiple states could attach multiple machines using different model_attribute values. As mentioned in Checking state, this will add custom is/to_<model_attribute>_<state_name> functions:\n",
    "\n",
    "lump = Matter()\n",
    "\n",
    "matter_machine = Machine(lump, states=['solid', 'liquid', 'gas'], initial='solid')\n",
    "# add a second machine to the same model but assign a different state attribute\n",
    "shipment_machine = Machine(lump, states=['delivered', 'shipping'], initial='delivered', model_attribute='shipping_state')\n",
    "\n",
    "lump.state\n",
    "#'solid'"
   ]
  },
  {
   "cell_type": "code",
   "execution_count": null,
   "metadata": {},
   "outputs": [],
   "source": [
    "lump.is_solid()  # check the default field\n",
    "#True"
   ]
  },
  {
   "cell_type": "code",
   "execution_count": null,
   "metadata": {},
   "outputs": [],
   "source": [
    "lump.shipping_state\n",
    "#'delivered'"
   ]
  },
  {
   "cell_type": "code",
   "execution_count": null,
   "metadata": {},
   "outputs": [],
   "source": [
    "lump.is_shipping_state_delivered()  # check the custom field.\n",
    "#True"
   ]
  },
  {
   "cell_type": "code",
   "execution_count": null,
   "metadata": {},
   "outputs": [],
   "source": [
    "lump.to_shipping_state_shipping()\n",
    "#True"
   ]
  },
  {
   "cell_type": "code",
   "execution_count": null,
   "metadata": {},
   "outputs": [],
   "source": [
    "lump.is_shipping_state_delivered()\n",
    "#False"
   ]
  },
  {
   "cell_type": "markdown",
   "metadata": {},
   "source": [
    "### Logging\n",
    "Transitions includes very rudimentary logging capabilities. A number of events – namely, state changes, transition triggers, and conditional checks – are logged as INFO-level events using the standard Python logging module. This means you can easily configure logging to standard output in a script:"
   ]
  },
  {
   "cell_type": "code",
   "execution_count": null,
   "metadata": {},
   "outputs": [],
   "source": [
    "# Set up logging; The basic log level will be DEBUG\n",
    "import logging\n",
    "logging.basicConfig(level=logging.DEBUG)\n",
    "# Set transitions' log level to INFO; DEBUG messages will be omitted\n",
    "logging.getLogger('transitions').setLevel(logging.INFO)\n",
    "\n",
    "# Business as usual\n",
    "machine = Machine(states=states, transitions=transitions, initial='solid')\n",
    "#..."
   ]
  },
  {
   "cell_type": "markdown",
   "metadata": {},
   "source": [
    "### (Re-)Storing machine instances\n",
    "\n",
    "Machines are picklable and can be stored and loaded with pickle. For Python 3.3 and earlier dill is required."
   ]
  },
  {
   "cell_type": "code",
   "execution_count": null,
   "metadata": {},
   "outputs": [],
   "source": [
    "import dill as pickle # only required for Python 3.3 and earlier\n",
    "\n",
    "m = Machine(states=['A', 'B', 'C'], initial='A')\n",
    "m.to_B()\n",
    "m.state  \n",
    "B\n",
    "\n",
    "# store the machine\n",
    "dump = pickle.dumps(m)\n",
    "\n",
    "# load the Machine instance again\n",
    "m2 = pickle.loads(dump)"
   ]
  },
  {
   "cell_type": "code",
   "execution_count": null,
   "metadata": {},
   "outputs": [],
   "source": [
    "m2.state\n",
    "#B"
   ]
  },
  {
   "cell_type": "code",
   "execution_count": null,
   "metadata": {},
   "outputs": [],
   "source": [
    "m2.states.keys()\n",
    "#['A', 'B', 'C']"
   ]
  },
  {
   "cell_type": "markdown",
   "metadata": {},
   "source": [
    "Extensions\n",
    "Even though the core of transitions is kept lightweight, there are a variety of MixIns to extend its functionality. Currently supported are:\n",
    "\n",
    "    1. Diagrams to visualize the current state of a machine\n",
    "    2. Hierarchical State Machines for nesting and reuse\n",
    "    3. Threadsafe Locks for parallel execution\n",
    "    4. Async callbacks for asynchronous execution\n",
    "    5. Custom States for extended state-related behaviour\n",
    "\n",
    "There are two mechanisms to retrieve a state machine instance with the desired features enabled. The first approach makes use of the convenience factory with the four parameters graph, nested, locked or asyncio set to `True` if the feature is required:"
   ]
  },
  {
   "cell_type": "code",
   "execution_count": null,
   "metadata": {},
   "outputs": [],
   "source": [
    "from transitions.extensions import MachineFactory\n",
    "\n",
    "# create a machine with mixins\n",
    "diagram_cls = MachineFactory.get_predefined(graph=True)\n",
    "nested_locked_cls = MachineFactory.get_predefined(nested=True, locked=True)\n",
    "async_machine_cls = MachineFactory.get_predefined(asyncio=True)\n",
    "\n",
    "# create instances from these classes\n",
    "# instances can be used like simple machines\n",
    "machine1 = diagram_cls(model, state, transitions)\n",
    "machine2 = nested_locked_cls(model, state, transitions)"
   ]
  },
  {
   "cell_type": "markdown",
   "metadata": {},
   "source": [
    "This approach targets experimental use since in this case the underlying classes do not have to be known. However, classes can also be directly imported from transitions.extensions. The naming scheme is as follows:\n",
    "\n",
    "```\n",
    "                Diagrams\tNested\tLocked\tAsyncio\n",
    "Machine\t            ✘\t      ✘\t     ✘\t     ✘\n",
    "GraphMachine        ✓\t      ✘\t     ✘\t     ✘\n",
    "HierarchicalMachine\t✘\t      ✓\t     ✘\t     ✘\n",
    "LockedMachine\t    ✘\t      ✘\t     ✓\t     ✘\n",
    "HierarchicalGraphMachine\t✓\t✓\t✘\t✘\n",
    "LockedGraphMachine\t✓\t✘\t✓\t✘\n",
    "LockedHierarchicalMachine\t✘\t✓\t✓\t✘\n",
    "LockedHierarchicalGraphMachine\t✓\t✓\t✓\t✘\n",
    "AsyncMachine\t✘\t✘\t✘\t✓\n",
    "AsyncGraphMachine\t✓\t✘\t✘\t✓\n",
    "HierarchicalAsyncMachine\t✘\t✓\t✘\t✓\n",
    "HierarchicalAsyncGraphMachine\t✓\t✓\t✘\t✓\n",
    "```\n",
    "\n",
    "To use a feature-rich state machine, one could write:"
   ]
  },
  {
   "cell_type": "code",
   "execution_count": null,
   "metadata": {},
   "outputs": [],
   "source": [
    "from transitions.extensions import LockedHierarchicalGraphMachine as Machine\n",
    "\n",
    "machine = Machine(model, states, transitions)\n",
    "\n",
    "Diagrams\n",
    "Additional Keywords:\n",
    "\n",
    "title (optional): Sets the title of the generated image.\n",
    "show_conditions (default False): Shows conditions at transition edges\n",
    "show_auto_transitions (default False): Shows auto transitions in graph\n",
    "show_state_attributes (default False): Show callbacks (enter, exit), tags and timeouts in graph\n",
    "\n",
    "    "
   ]
  },
  {
   "cell_type": "markdown",
   "metadata": {},
   "source": [
    "Transitions can generate basic state diagrams displaying all valid transitions between states. To use the graphing functionality, you'll need to have graphviz and/or pygraphviz installed:\n",
    "To generate graphs with the package graphviz, you need to install Graphviz manually or via a package manager."
   ]
  },
  {
   "cell_type": "markdown",
   "metadata": {},
   "source": [
    "```\n",
    "sudo apt-get install graphviz  # Ubuntu and Debian\n",
    "brew install graphviz  # MacOS\n",
    "conda install graphviz python-graphviz  # (Ana)conda\n",
    "```\n",
    "\n",
    "Now you can install the actual Python packages\n",
    "\n",
    "```\n",
    "pip install graphviz pygraphviz # install graphviz and/or pygraphviz manually...\n",
    "pip install transitions[diagrams]  # ... or install transitions with 'diagrams' extras which currently depends on pygraphviz\n",
    "```\n",
    "\n",
    "Currently, GraphMachine will use `pygraphviz` when available and fall back to `graphviz` when `pygraphviz` cannot be found. This can be overridden by passing `use_pygraphviz=False` to the constructor. Note that this default might change in the future and `pygraphviz` support may be dropped. With `Model.get_graph()` you can get the current graph or the region of interest (roi) and draw it like this:"
   ]
  },
  {
   "cell_type": "markdown",
   "metadata": {},
   "source": [
    "\n",
    "```\n",
    "from transitions.extensions import GraphMachine as Machine\n",
    "m = Model()\n",
    "# without further arguments pygraphviz will be used\n",
    "machine = Machine(model=m, ...)\n",
    "# when you want to use graphviz explicitely\n",
    "machine = Machine(model=m, use_pygraphviz=False, ...)\n",
    "# in cases where auto transitions should be visible\n",
    "machine = Machine(model=m, show_auto_transitions=True, ...)\n",
    "\n",
    "# draw the whole graph ...\n",
    "m.get_graph().draw('my_state_diagram.png', prog='dot')\n",
    "# ... or just the region of interest\n",
    "# (previous state, active state and all reachable states)\n",
    "roi = m.get_graph(show_roi=True).draw('my_state_diagram.png', prog='dot')\n",
    "```"
   ]
  },
  {
   "cell_type": "markdown",
   "metadata": {},
   "source": [
    "This produces something like this:\n",
    "\n",
    "state diagram example\n",
    "\n",
    "Also, have a look at our example IPython/Jupyter notebooks for a more detailed example about how to use and edit graphs.\n",
    "\n",
    "Hierarchical State Machine (HSM)\n",
    "Transitions includes an extension module which allows to nest states. This allows to create contexts and to model cases where states are related to certain subtasks in the state machine. To create a nested state, either import NestedState from transitions or use a dictionary with the initialization arguments name and children. Optionally, initial can be used to define a sub state to transit to, when the nested state is entered."
   ]
  },
  {
   "cell_type": "code",
   "execution_count": null,
   "metadata": {},
   "outputs": [],
   "source": [
    "from transitions.extensions import HierarchicalMachine as Machine\n",
    "\n",
    "states = ['standing', 'walking', {'name': 'caffeinated', 'children':['dithering', 'running']}]\n",
    "transitions = [\n",
    "  ['walk', 'standing', 'walking'],\n",
    "  ['stop', 'walking', 'standing'],\n",
    "  ['drink', '*', 'caffeinated'],\n",
    "  ['walk', ['caffeinated', 'caffeinated_dithering'], 'caffeinated_running'],\n",
    "  ['relax', 'caffeinated', 'standing']\n",
    "]\n",
    "\n",
    "machine = Machine(states=states, transitions=transitions, initial='standing', ignore_invalid_triggers=True)\n",
    "\n",
    "machine.walk() # Walking now\n",
    "machine.stop() # let's stop for a moment\n",
    "machine.drink() # coffee time\n",
    "machine.state\n",
    "'caffeinated'\n",
    "machine.walk() # we have to go faster\n",
    "machine.state\n",
    "'caffeinated_running'\n",
    "machine.stop() # can't stop moving!\n",
    "machine.state\n",
    "'caffeinated_running'\n",
    "machine.relax() # leave nested state\n",
    "machine.state # phew, what a ride\n",
    "'standing'\n",
    "# machine.on_enter_caffeinated_running('callback_method')\n",
    "A configuration making use of initial could look like this:\n",
    "\n",
    "# ...\n",
    "states = ['standing', 'walking', {'name': 'caffeinated', 'initial': 'dithering', 'children': ['dithering', 'running']}]\n",
    "transitions = [\n",
    "  ['walk', 'standing', 'walking'],\n",
    "  ['stop', 'walking', 'standing'],\n",
    "  # this transition will end in 'caffeinated_dithering'...\n",
    "  ['drink', '*', 'caffeinated'],\n",
    "  # ... that is why we do not need do specify 'caffeinated' here anymore\n",
    "  ['walk', 'caffeinated_dithering', 'caffeinated_running'],\n",
    "  ['relax', 'caffeinated', 'standing']\n",
    "]\n",
    "# ..."
   ]
  },
  {
   "cell_type": "markdown",
   "metadata": {},
   "source": [
    "The initial keyword of the HierarchicalMachine constructor accepts nested states (e.g. initial='caffeinated_running') and a list of states which is considered to be a parallel state (e.g. initial=['A', 'B']) or the current state of another model (initial=model.state) which should be effectively one of the previous mentioned options. Note that when passing a string, transition will check the targeted state for initial substates and use this as an entry state. This will be done recursively until a substate does not mention an initial state. Parallel states or a state passed as a list will be used 'as is' and no further initial evaluation will be conducted.\n",
    "\n",
    "Note that your previously created state object must be a NestedState or a derived class of it. The standard State class used in simple Machine instances lacks features required for nesting."
   ]
  },
  {
   "cell_type": "code",
   "execution_count": null,
   "metadata": {},
   "outputs": [],
   "source": [
    "from transitions.extensions.nesting import HierarchicalMachine, NestedState\n",
    "from transitions import  State\n",
    "m = HierarchicalMachine(states=['A'], initial='initial')\n",
    "m.add_state('B')  # fine\n",
    "m.add_state({'name': 'C'})  # also fine\n",
    "m.add_state(NestedState('D'))  # fine as well\n",
    "m.add_state(State('E'))  # does not work!"
   ]
  },
  {
   "cell_type": "markdown",
   "metadata": {},
   "source": [
    "Some things that have to be considered when working with nested states: State names are concatenated with NestedState.separator. Currently the separator is set to underscore ('_') and therefore behaves similar to the basic machine. This means a substate bar from state foo will be known by foo_bar. A substate baz of bar will be referred to as foo_bar_baz and so on. When entering a substate, enter will be called for all parent states. The same is true for exiting substates. Third, nested states can overwrite transition behaviour of their parents. If a transition is not known to the current state it will be delegated to its parent.\n",
    "\n",
    "This means that in the standard configuration, state names in HSMs MUST NOT contain underscores. For transitions it's impossible to tell whether machine.add_state('state_name') should add a state named state_name or add a substate name to the state state. In some cases this is not sufficient however. For instance if state names consists of more than one word and you want/need to use underscore to separate them instead of CamelCase. To deal with this, you can change the character used for separation quite easily. You can even use fancy unicode characters if you use Python 3. Setting the separator to something else than underscore changes some of the behaviour (auto_transition and setting callbacks) though:"
   ]
  },
  {
   "cell_type": "code",
   "execution_count": null,
   "metadata": {},
   "outputs": [],
   "source": [
    "from transitions.extensions.nesting import NestedState\n",
    "NestedState.separator = '↦'\n",
    "states = ['A', 'B',\n",
    "  {'name': 'C', 'children':['1', '2',\n",
    "    {'name': '3', 'children': ['a', 'b', 'c']}\n",
    "  ]}\n",
    "]\n",
    "\n",
    "transitions = [\n",
    "    ['reset', 'C', 'A'],\n",
    "    ['reset', 'C↦2', 'C']  # overwriting parent reset\n",
    "]\n",
    "\n",
    "# we rely on auto transitions\n",
    "machine = Machine(states=states, transitions=transitions, initial='A')\n",
    "machine.to_B()  # exit state A, enter state B\n",
    "machine.to_C()  # exit B, enter C\n",
    "machine.to_C.s3.a()  # enter C↦a; enter C↦3↦a;\n",
    "machine.state,\n",
    "'C↦3↦a'\n",
    "machine.to('C↦2')  # not interactive; exit C↦3↦a, exit C↦3, enter C↦2\n",
    "machine.reset()  # exit C↦2; reset C has been overwritten by C↦3\n",
    "machine.state\n",
    "'C'\n",
    "machine.reset()  # exit C, enter A\n",
    "machine.state\n",
    "'A'\n",
    "# s.on_enter('C↦3↦a', 'callback_method')"
   ]
  },
  {
   "cell_type": "code",
   "execution_count": null,
   "metadata": {},
   "outputs": [],
   "source": [
    "Instead of to_C_3_a() auto transition is called as to_C.s3.a(). If your substate starts with a digit, transitions adds a prefix 's' ('3' becomes 's3') to the auto transition FunctionWrapper to comply with the attribute naming scheme of Python. If interactive completion is not required, to('C↦3↦a') can be called directly. Additionally, on_enter/exit_<<state name>> is replaced with on_enter/exit(state_name, callback).\n",
    "\n",
    "To check whether the current state is a substate of a specific state is_state supports the keyword allow_substates:"
   ]
  },
  {
   "cell_type": "code",
   "execution_count": null,
   "metadata": {},
   "outputs": [],
   "source": [
    "machine.state\n",
    "#'C.2.a'"
   ]
  },
  {
   "cell_type": "code",
   "execution_count": null,
   "metadata": {},
   "outputs": [],
   "source": [
    "machine.is_C() # checks for specific states\n",
    "#False"
   ]
  },
  {
   "cell_type": "code",
   "execution_count": null,
   "metadata": {},
   "outputs": [],
   "source": [
    "machine.is_C(allow_substates=True)\n",
    "#True"
   ]
  },
  {
   "cell_type": "markdown",
   "metadata": {},
   "source": [
    "### new in 0.8.0\n",
    "\n",
    "You can use enumerations in HSMs as well but keep in mind that Enum are compared by value. If you have a value more than once in a state tree those states cannot be distinguished."
   ]
  },
  {
   "cell_type": "code",
   "execution_count": null,
   "metadata": {},
   "outputs": [],
   "source": [
    "states = [States.RED, States.YELLOW, {'name': States.GREEN, 'children': ['tick', 'tock']}]\n",
    "states = ['A', {'name': 'B', 'children': states, 'initial': States.GREEN}, States.GREEN]\n",
    "machine = HierarchicalMachine(states=states)\n",
    "machine.to_B()\n",
    "machine.is_GREEN()  # returns True even though the actual state is B_GREEN"
   ]
  },
  {
   "cell_type": "markdown",
   "metadata": {},
   "source": [
    "### new in 0.8.0\n",
    "\n",
    "HierarchicalMachine has been rewritten from scratch to support parallel states and better isolation of nested states. This involves some tweaks based on community feedback. To get an idea of processing order and configuration have a look at the following example:"
   ]
  },
  {
   "cell_type": "code",
   "execution_count": null,
   "metadata": {},
   "outputs": [],
   "source": [
    "from transitions.extensions.nesting import HierarchicalMachine\n",
    "import logging\n",
    "states = ['A', 'B', {'name': 'C', 'parallel': [{'name': '1', 'children': ['a', 'b', 'c'], 'initial': 'a',\n",
    "                                                'transitions': [['go', 'a', 'b']]},\n",
    "                                               {'name': '2', 'children': ['x', 'y', 'z'], 'initial': 'z'}],\n",
    "                      'transitions': [['go', '2_z', '2_x']]}]\n",
    "\n",
    "transitions = [['reset', 'C_1_b', 'B']]\n",
    "logging.basicConfig(level=logging.INFO)\n",
    "machine = HierarchicalMachine(states=states, transitions=transitions, initial='A')\n",
    "machine.to_C()\n",
    "# INFO:transitions.extensions.nesting:Exited state A\n",
    "# INFO:transitions.extensions.nesting:Entered state C\n",
    "# INFO:transitions.extensions.nesting:Entered state C_1\n",
    "# INFO:transitions.extensions.nesting:Entered state C_2\n",
    "# INFO:transitions.extensions.nesting:Entered state C_1_a\n",
    "# INFO:transitions.extensions.nesting:Entered state C_2_z"
   ]
  },
  {
   "cell_type": "code",
   "execution_count": null,
   "metadata": {},
   "outputs": [],
   "source": [
    "machine.go()\n",
    "# INFO:transitions.extensions.nesting:Exited state C_1_a\n",
    "# INFO:transitions.extensions.nesting:Entered state C_1_b\n",
    "# INFO:transitions.extensions.nesting:Exited state C_2_z\n",
    "# INFO:transitions.extensions.nesting:Entered state C_2_x"
   ]
  },
  {
   "cell_type": "code",
   "execution_count": null,
   "metadata": {},
   "outputs": [],
   "source": [
    "machine.reset()\n",
    "# INFO:transitions.extensions.nesting:Exited state C_1_b\n",
    "# INFO:transitions.extensions.nesting:Exited state C_2_x\n",
    "# INFO:transitions.extensions.nesting:Exited state C_1\n",
    "# INFO:transitions.extensions.nesting:Exited state C_2\n",
    "# INFO:transitions.extensions.nesting:Exited state C\n",
    "# INFO:transitions.extensions.nesting:Entered state B"
   ]
  },
  {
   "cell_type": "markdown",
   "metadata": {},
   "source": [
    "When using parallel instead of children, transitions will enter all states of the passed list at the same time. Which substate to enter is defined by initial which should always point to a direct substate. A novel feature is to define local transitions by passing the transitions keyword in a state definition. The above defined transition ['go', 'a', 'b'] is only valid in C_1. While you can reference substates as done in ['go', '2_z', '2_x'] you cannot reference parent states directly in locally defined transitions. When a parent state is exited, its children will also be exited. In addition to the processing order of transitions known from Machine where transitions are considered in the order they were added, HierarchicalMachine considers hierarchy as well. Transitions defined in substates will be evaluated first (e.g. C_1_a is left before C_2_z) and transitions defined with wildcard * will (for now) only add transitions to root states (in this example A, B, C) Starting with 0.8.0 nested states can be added directly and will issue the creation of parent states on-the-fly:"
   ]
  },
  {
   "cell_type": "code",
   "execution_count": null,
   "metadata": {},
   "outputs": [],
   "source": [
    "m = HierarchicalMachine(states=['A'], initial='A')\n",
    "m.add_state('B_1_a')\n",
    "m.to_B_1()\n",
    "assert m.is_B(allow_substates=True)"
   ]
  },
  {
   "cell_type": "markdown",
   "metadata": {},
   "source": [
    "### Reuse of previously created HSMs\n",
    "\n",
    "Besides semantic order, nested states are very handy if you want to specify state machines for specific tasks and plan to reuse them. Before 0.8.0, a HierarchicalMachine would not integrate the machine instance itself but the states and transitions by creating copies of them. However, since 0.8.0 (Nested)State instances are just referenced which means changes in one machine's collection of states and events will influence the other machine instance. Models and their state will not be shared though. Note that events and transitions are also copied by reference and will be shared by both instances if you do not use the remap keyword."
   ]
  },
  {
   "cell_type": "code",
   "execution_count": null,
   "metadata": {},
   "outputs": [],
   "source": [
    "count_states = ['1', '2', '3', 'done']\n",
    "count_trans = [\n",
    "    ['increase', '1', '2'],\n",
    "    ['increase', '2', '3'],\n",
    "    ['decrease', '3', '2'],\n",
    "    ['decrease', '2', '1'],\n",
    "    ['done', '3', 'done'],\n",
    "    ['reset', '*', '1']\n",
    "]\n",
    "\n",
    "counter = Machine(states=count_states, transitions=count_trans, initial='1')\n",
    "\n",
    "counter.increase() # love my counter\n",
    "states = ['waiting', 'collecting', {'name': 'counting', 'children': counter}]\n",
    "\n",
    "transitions = [\n",
    "    ['collect', '*', 'collecting'],\n",
    "    ['wait', '*', 'waiting'],\n",
    "    ['count', 'collecting', 'counting']\n",
    "]\n",
    "\n",
    "collector = Machine(states=states, transitions=transitions, initial='waiting')\n",
    "collector.collect()  # collecting\n",
    "collector.count()  # let's see what we got; counting_1\n",
    "collector.increase()  # counting_2\n",
    "collector.increase()  # counting_3\n",
    "collector.done()  # collector.state == counting_done\n",
    "collector.wait()  # collector.state == waiting"
   ]
  },
  {
   "cell_type": "markdown",
   "metadata": {},
   "source": [
    "If a HierarchicalMachine is passed with the children keyword, the initial state of this machine will be assigned to the new parent state. In the above example we see that entering counting will also enter counting_1. If this is undesired behaviour and the machine should rather halt in the parent state, the user can pass initial as False like {'name': 'counting', 'children': counter, 'initial': False}.\n",
    "\n",
    "Sometimes you want such an embedded state collection to 'return' which means after it is done it should exit and transit to one of your super states. To achieve this behaviour you can remap state transitions. In the example above we would like the counter to return if the state done was reached. This is done as follows:"
   ]
  },
  {
   "cell_type": "code",
   "execution_count": null,
   "metadata": {},
   "outputs": [],
   "source": [
    "states = ['waiting', 'collecting', {'name': 'counting', 'children': counter, 'remap': {'done': 'waiting'}}]\n",
    "\n",
    "# same as above\n",
    "\n",
    "collector.increase() # counting_3\n",
    "collector.done()\n",
    "collector.state\n",
    "#'waiting' be aware that 'counting_done' will be removed from the state machine"
   ]
  },
  {
   "cell_type": "markdown",
   "metadata": {},
   "source": [
    "As mentioned above, using remap will copy events and transitions since they could not be valid in the original state machine. If a reused state machine does not have a final state, you can of course add the transitions manually. If 'counter' had no 'done' state, we could just add ['done', 'counter_3', 'waiting'] to achieve the same behaviour.\n",
    "\n",
    "For complex state machines, sharing configurations rather than instantiated machines might be more feasible. Especially since instantiated machines must be derived from HierarchicalMachine. Such configurations can be stored and loaded easily via JSON or YAML (see the FAQ). HierarchicalMachine allows defining substates either with the keyword children or states. If both are present, only children will be considered."
   ]
  },
  {
   "cell_type": "code",
   "execution_count": null,
   "metadata": {},
   "outputs": [],
   "source": [
    "counter_conf = {\n",
    "    'name': 'counting',\n",
    "    'states': ['1', '2', '3', 'done'],\n",
    "    'transitions': [\n",
    "        ['increase', '1', '2'],\n",
    "        ['increase', '2', '3'],\n",
    "        ['decrease', '3', '2'],\n",
    "        ['decrease', '2', '1'],\n",
    "        ['done', '3', 'done'],\n",
    "        ['reset', '*', '1']\n",
    "    ],\n",
    "    'initial': '1'\n",
    "}\n",
    "\n",
    "collector_conf = {\n",
    "    'name': 'collector',\n",
    "    'states': ['waiting', 'collecting', counter_conf],\n",
    "    'transitions': [\n",
    "        ['collect', '*', 'collecting'],\n",
    "        ['wait', '*', 'waiting'],\n",
    "        ['count', 'collecting', 'counting']\n",
    "    ],\n",
    "    'initial': 'waiting'\n",
    "}\n",
    "\n",
    "collector = Machine(**collector_conf)\n",
    "collector.collect()\n",
    "collector.count()\n",
    "collector.increase()\n",
    "assert collector.is_counting_2()"
   ]
  },
  {
   "cell_type": "markdown",
   "metadata": {},
   "source": [
    "### Threadsafe(-ish) State Machine\n",
    "\n",
    "In cases where event dispatching is done in threads, one can use either LockedMachine or LockedHierarchicalMachine where function access (!sic) is secured with reentrant locks. This does not save you from corrupting your machine by tinkering with member variables of your model or state machine."
   ]
  },
  {
   "cell_type": "code",
   "execution_count": null,
   "metadata": {},
   "outputs": [],
   "source": [
    "from transitions.extensions import LockedMachine as Machine\n",
    "from threading import Thread\n",
    "import time\n",
    "\n",
    "states = ['A', 'B', 'C']\n",
    "machine = Machine(states=states, initial='A')\n",
    "\n",
    "# let us assume that entering B will take some time\n",
    "thread = Thread(target=machine.to_B)\n",
    "thread.start()\n",
    "time.sleep(0.01) # thread requires some time to start\n",
    "machine.to_C() # synchronized access; won't execute before thread is done\n",
    "# accessing attributes directly\n",
    "thread = Thread(target=machine.to_B)\n",
    "thread.start()\n",
    "machine.new_attrib = 42 # not synchronized! will mess with execution order"
   ]
  },
  {
   "cell_type": "markdown",
   "metadata": {},
   "source": [
    "Any python context manager can be passed in via the machine_context keyword argument:"
   ]
  },
  {
   "cell_type": "code",
   "execution_count": null,
   "metadata": {},
   "outputs": [],
   "source": [
    "from transitions.extensions import LockedMachine as Machine\n",
    "from threading import RLock\n",
    "\n",
    "states = ['A', 'B', 'C']\n",
    "\n",
    "lock1 = RLock()\n",
    "lock2 = RLock()\n",
    "\n",
    "machine = Machine(states=states, initial='A', machine_context=[lock1, lock2])\n",
    "Any contexts via machine_model will be shared between all models registered with the Machine. Per-model contexts can be added as well:\n",
    "\n",
    "lock3 = RLock()\n",
    "\n",
    "machine.add_model(model, model_context=lock3)"
   ]
  },
  {
   "cell_type": "markdown",
   "metadata": {},
   "source": [
    "It's important that all user-provided context managers are re-entrant since the state machine will call them multiple times, even in the context of a single trigger invocation.\n",
    "\n",
    "Using async callbacks\n",
    "If you are using Python 3.7 or later, you can use AsyncMachine to work with asynchronous callbacks. You can mix synchronous and asynchronous callbacks if you like but this may have undesired side effects. Note that events need to be awaited and the event loop must also be handled by you."
   ]
  },
  {
   "cell_type": "code",
   "execution_count": null,
   "metadata": {},
   "outputs": [],
   "source": [
    "from transitions.extensions.asyncio import AsyncMachine\n",
    "import asyncio\n",
    "import time\n",
    "\n",
    "\n",
    "class AsyncModel:\n",
    "\n",
    "    def prepare_model(self):\n",
    "        print(\"I am synchronous.\")\n",
    "        self.start_time = time.time()\n",
    "\n",
    "    async def before_change(self):\n",
    "        print(\"I am asynchronous and will block now for 100 milliseconds.\")\n",
    "        await asyncio.sleep(0.1)\n",
    "        print(\"I am done waiting.\")\n",
    "\n",
    "    def sync_before_change(self):\n",
    "        print(\"I am synchronous and will block the event loop (what I probably shouldn't)\")\n",
    "        time.sleep(0.1)\n",
    "        print(\"I am done waiting synchronously.\")\n",
    "\n",
    "    def after_change(self):\n",
    "        print(f\"I am synchronous again. Execution took {int((time.time() - self.start_time) * 1000)} ms.\")\n",
    "\n",
    "\n",
    "transition = dict(trigger=\"start\", source=\"Start\", dest=\"Done\", prepare=\"prepare_model\",\n",
    "                  before=[\"before_change\"] * 5 + [\"sync_before_change\"],\n",
    "                  after=\"after_change\")  # execute before function in asynchronously 5 times\n",
    "model = AsyncModel()\n",
    "machine = AsyncMachine(model, states=[\"Start\", \"Done\"], transitions=[transition], initial='Start')\n",
    "\n",
    "asyncio.get_event_loop().run_until_complete(model.start())\n",
    "# I am synchronous.\n",
    "#     I am asynchronous and will block now for 100 milliseconds.\n",
    "#     I am asynchronous and will block now for 100 milliseconds.\n",
    "#     I am asynchronous and will block now for 100 milliseconds.\n",
    "#     I am asynchronous and will block now for 100 milliseconds.\n",
    "#     I am asynchronous and will block now for 100 milliseconds.\n",
    "#     I am synchronous and will block the event loop (what I probably shouldn't)\n",
    "#     I am done waiting synchronously.\n",
    "#     I am done waiting.\n",
    "#     I am done waiting.\n",
    "#     I am done waiting.\n",
    "#     I am done waiting.\n",
    "#     I am done waiting.\n",
    "#     I am synchronous again. Execution took 101 ms.\n",
    "assert model.is_Done()\n",
    "So, why do you need to use Python 3.7 or later you may ask. Async support has been introduced earlier. AsyncMachine makes use of contextvars to handle running callbacks when new events arrive before a transition has been finished:\n",
    "\n",
    "async def await_never_return():\n",
    "    await asyncio.sleep(100)\n",
    "    raise ValueError(\"That took too long!\")\n",
    "\n",
    "async def fix():\n",
    "    await m2.fix()\n",
    "\n",
    "m1 = AsyncMachine(states=['A', 'B', 'C'], initial='A', name=\"m1\")\n",
    "m2 = AsyncMachine(states=['A', 'B', 'C'], initial='A', name=\"m2\")\n",
    "m2.add_transition(trigger='go', source='A', dest='B', before=await_never_return)\n",
    "m2.add_transition(trigger='fix', source='A', dest='C')\n",
    "m1.add_transition(trigger='go', source='A', dest='B', after='go')\n",
    "m1.add_transition(trigger='go', source='B', dest='C', after=fix)\n",
    "asyncio.get_event_loop().run_until_complete(asyncio.gather(m2.go(), m1.go()))\n",
    "\n",
    "assert m1.state == m2.state"
   ]
  },
  {
   "cell_type": "markdown",
   "metadata": {},
   "source": [
    "This example illustrates actually two things: First, that 'go' called in m1's transition from A to be B is not cancelled and second, calling m2.fix() will halt the transition attempt of m2 from A to B by executing 'fix' from A to C. This separation would not be possible without contextvars. Note that prepare and conditions are NOT treated as ongoing transitions. This means that after conditions have been evaluated, a transition is executed even though another event already happened. Tasks will only be cancelled when run as a before callback or later.\n",
    "\n",
    "AsyncMachine features a model-special queue mode which can be used when queued='model' is passed to the constructor. With model-specific queue, events will only be queued when they belong to the same model. Furthermore, a raised exception will only clear the event queue of the model that raised that exception. For the sake of simplicity, let's assume that every event in asyncion.gather below is not triggered at the same time but slightly delayed:"
   ]
  },
  {
   "cell_type": "code",
   "execution_count": null,
   "metadata": {},
   "outputs": [],
   "source": [
    "asyncio.gather(model1.event1(), model1.event2(), model2.event1())\n",
    "# execution order with AsyncMachine(queued=True)\n",
    "# model1.event1 -> model1.event2 -> model2.event1\n",
    "# execution order with AsyncMachine(queued='model')\n",
    "# (model1.event1, model2.event1) -> model1.event2\n",
    "\n",
    "asyncio.gather(model1.event1(), model1.error(), model1.event3(), model2.event1(), model2.event2(), model2.event3())\n",
    "# execution order with AsyncMachine(queued=True)\n",
    "# model1.event1 -> model1.error\n",
    "# execution order with AsyncMachine(queued='model')\n",
    "# (model1.event1, model2.event1) -> (model1.error, model2.event2) -> model2.event3"
   ]
  },
  {
   "cell_type": "markdown",
   "metadata": {},
   "source": [
    "Note that queue modes must not be changed after machine construction."
   ]
  },
  {
   "cell_type": "markdown",
   "metadata": {},
   "source": [
    "### Adding features to states\n",
    "\n",
    "If your superheroes need some custom behaviour, you can throw in some extra functionality by decorating machine states:"
   ]
  },
  {
   "cell_type": "code",
   "execution_count": null,
   "metadata": {},
   "outputs": [],
   "source": [
    "from time import sleep\n",
    "from transitions import Machine\n",
    "from transitions.extensions.states import add_state_features, Tags, Timeout\n",
    "\n",
    "\n",
    "@add_state_features(Tags, Timeout)\n",
    "class CustomStateMachine(Machine):\n",
    "    pass\n",
    "\n",
    "\n",
    "class SocialSuperhero(object):\n",
    "    def __init__(self):\n",
    "        self.entourage = 0\n",
    "\n",
    "    def on_enter_waiting(self):\n",
    "        self.entourage += 1\n",
    "\n",
    "\n",
    "states = [{'name': 'preparing', 'tags': ['home', 'busy']},\n",
    "          {'name': 'waiting', 'timeout': 1, 'on_timeout': 'go'},\n",
    "          {'name': 'away'}]  # The city needs us!\n",
    "\n",
    "transitions = [['done', 'preparing', 'waiting'],\n",
    "               ['join', 'waiting', 'waiting'],  # Entering Waiting again will increase our entourage\n",
    "               ['go', 'waiting', 'away']]  # Okay, let' move\n",
    "\n",
    "hero = SocialSuperhero()\n",
    "machine = CustomStateMachine(model=hero, states=states, transitions=transitions, initial='preparing')\n",
    "assert hero.state == 'preparing'  # Preparing for the night shift\n",
    "assert machine.get_state(hero.state).is_busy  # We are at home and busy\n",
    "hero.done()\n",
    "assert hero.state == 'waiting'  # Waiting for fellow superheroes to join us\n",
    "assert hero.entourage == 1  # It's just us so far\n",
    "sleep(0.7)  # Waiting...\n",
    "hero.join()  # Weeh, we got company\n",
    "sleep(0.5)  # Waiting...\n",
    "hero.join()  # Even more company \\o/\n",
    "sleep(2)  # Waiting...\n",
    "assert hero.state == 'away'  # Impatient superhero already left the building\n",
    "assert machine.get_state(hero.state).is_home is False  # Yupp, not at home anymore\n",
    "assert hero.entourage == 3  # At least he is not alone"
   ]
  },
  {
   "cell_type": "markdown",
   "metadata": {},
   "source": [
    "Currently, transitions comes equipped with the following state features:\n",
    "\n",
    "```\n",
    "Timeout -- triggers an event after some time has passed\n",
    "\n",
    "keyword: timeout (int, optional) -- if passed, an entered state will timeout after timeout seconds\n",
    "keyword: on_timeout (string/callable, optional) -- will be called when timeout time has been reached\n",
    "will raise an AttributeError when timeout is set but on_timeout is not\n",
    "Note: A timeout is triggered in a thread. This implies several limitations (e.g. catching Exceptions raised in timeouts). Consider an event queue for more sophisticated applications.\n",
    "Tags -- adds tags to states\n",
    "\n",
    "keyword: tags (list, optional) -- assigns tags to a state\n",
    "State.is_<tag_name> will return True when the state has been tagged with tag_name, else False\n",
    "Error -- raises a MachineError when a state cannot be left\n",
    "\n",
    "inherits from Tags (if you use Error do not use Tags)\n",
    "keyword: accepted (bool, optional) -- marks a state as accepted\n",
    "alternatively the keyword tags can be passed, containing 'accepted'\n",
    "Note: Errors will only be raised if auto_transitions has been set to False. Otherwise every state can be exited with to_<state> methods.\n",
    "Volatile -- initialises an object every time a state is entered\n",
    "\n",
    "keyword: volatile (class, optional) -- every time the state is entered an object of type class will be assigned to the model. The attribute name is defined by hook. If omitted, an empty VolatileObject will be created instead\n",
    "keyword: hook (string, default='scope') -- The model's attribute name fore the temporal object.\n",
    "```\n",
    "\n",
    "You can write your own State extensions and add them the same way. Just note that add_state_features expects Mixins. This means your extension should always call the overridden methods __init__, enter and exit. Your extension may inherit from State but will also work without it. In case you prefer to write your own custom states from scratch be aware that some state extensions require certain state features. HierarchicalMachine requires your custom state to be an instance of NestedState (State is not sufficient). To inject your states you can either assign them to your Machine's class attribute state_cls or override Machine.create_state in case you need some specific procedures done whenever a state is created:"
   ]
  },
  {
   "cell_type": "code",
   "execution_count": null,
   "metadata": {},
   "outputs": [],
   "source": [
    "from transitions import Machine, State\n",
    "\n",
    "class MyState(State):\n",
    "    pass\n",
    "\n",
    "class CustomMachine(Machine):\n",
    "    # Use MyState as state class\n",
    "    state_cls = MyState\n",
    "\n",
    "    \n",
    "class VerboseMachine(Machine):\n",
    "\n",
    "    # `Machine._create_state` is a class method but we can \n",
    "    # override it to be an instance method\n",
    "    def _create_state(self, *args, **kwargs):\n",
    "        print(\"Creating a new state with machine '{0}'\".format(self.name))\n",
    "        return MyState(*args, **kwargs)"
   ]
  },
  {
   "cell_type": "markdown",
   "metadata": {},
   "source": [
    "If you want to avoid threads in your AsyncMachine entirely, you can replace the Timeout state feature with AsyncTimeout from the asyncio extension:"
   ]
  },
  {
   "cell_type": "code",
   "execution_count": null,
   "metadata": {},
   "outputs": [],
   "source": [
    "import asyncio\n",
    "from transitions.extensions.states import add_state_features\n",
    "from transitions.extensions.asyncio import AsyncTimeout, AsyncMachine\n",
    "\n",
    "@add_state_features(AsyncTimeout)\n",
    "class TimeoutMachine(AsyncMachine):\n",
    "    pass\n",
    "\n",
    "states = ['A', {'name': 'B', 'timeout': 0.2, 'on_timeout': 'to_C'}, 'C']\n",
    "m = TimeoutMachine(states=states, initial='A', queued=True)  # see remark below\n",
    "asyncio.run(asyncio.wait([m.to_B(), asyncio.sleep(0.1)]))\n",
    "assert m.is_B()  # timeout shouldn't be triggered\n",
    "asyncio.run(asyncio.wait([m.to_B(), asyncio.sleep(0.3)]))\n",
    "assert m.is_C()   # now timeout should have been processed"
   ]
  },
  {
   "cell_type": "markdown",
   "metadata": {},
   "source": [
    "You should consider passing `queued=True` to the `TimeoutMachine` constructor. This will make sure that events are processed sequentially and avoid asynchronous racing conditions that may appear when timeout and event happen in close proximity."
   ]
  },
  {
   "cell_type": "markdown",
   "metadata": {},
   "source": [
    "## Using transitions together with Django\n",
    "\n",
    "You can have a look at the FAQ for some inspiration or checkout django-transitions. It has been developed by Christian Ledermann and is also hosted on Github. The documentation contains some usage examples."
   ]
  },
  {
   "cell_type": "markdown",
   "metadata": {},
   "source": [
    "### I have a [bug report/issue/question]...\n",
    "\n",
    "First, congratulations! You reached the end of the documentation! If you want to try out transitions before you install it, you can do that in an interactive Jupyter notebook at mybinder.org. Just click this button 👉 Binder.\n",
    "\n",
    "For bug reports and other issues, please open an issue on GitHub.\n",
    "\n",
    "For usage questions, post on Stack Overflow, making sure to tag your question with the transitions and python tags. Do not forget to have a look at the extended examples!\n",
    "\n",
    "For any other questions, solicitations, or large unrestricted monetary gifts, email Tal Yarkoni."
   ]
  }
 ],
 "metadata": {
  "kernelspec": {
   "display_name": "Python 3 (ipykernel)",
   "language": "python",
   "name": "python3"
  },
  "language_info": {
   "codemirror_mode": {
    "name": "ipython",
    "version": 3
   },
   "file_extension": ".py",
   "mimetype": "text/x-python",
   "name": "python",
   "nbconvert_exporter": "python",
   "pygments_lexer": "ipython3",
   "version": "3.12.5"
  }
 },
 "nbformat": 4,
 "nbformat_minor": 4
}
