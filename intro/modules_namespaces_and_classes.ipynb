{
 "cells": [
  {
   "cell_type": "markdown",
   "metadata": {},
   "source": [
    "# Modules, namespaces, and classes"
   ]
  },
  {
   "cell_type": "markdown",
   "metadata": {},
   "source": [
    "There is a `log` function defined in a Python **module** (library of function\n",
    "definitions) called `numpy`.  In the next cell we **import** the library (execute\n",
    "all its function definitions in the current Python environment) and then try to use it.\n",
    "\n",
    "If we try to execute the code in the next cell we get the following error:\n",
    "\n",
    "```\n",
    "---------------------------------------------------------------------------\n",
    "NameError                                 Traceback (most recent call last)\n",
    "/var/folders/_q/2s1hy5bx1l7f9j1lw9zjgt19_wb463/T/ipykernel_61967/3919341660.py in <module>\n",
    "      1 import numpy\n",
    "----> 2 log(2)\n",
    "\n",
    "NameError: name 'log' is not defined\n",
    "```"
   ]
  },
  {
   "cell_type": "code",
   "execution_count": 1,
   "metadata": {},
   "outputs": [],
   "source": [
    "# Raises NameError\n",
    "import numpy\n",
    "log(2)"
   ]
  },
  {
   "cell_type": "markdown",
   "metadata": {},
   "source": [
    "We get a name error,  which is the exactly the error we would have gotten if we hadn't done the import at all.\n",
    "\n",
    "What went wrong?  What went wrong is that we didn't use the right **namespace**\n",
    "for the function.  When we import the module `numpy` all the functions in it\n",
    "are defined, but they are defined only as **attributes** of the module. "
   ]
  },
  {
   "cell_type": "markdown",
   "metadata": {},
   "source": [
    "Here's our module object:"
   ]
  },
  {
   "cell_type": "code",
   "execution_count": 2,
   "metadata": {},
   "outputs": [
    {
     "data": {
      "text/plain": [
       "<module 'numpy' from '/Users/gawron/opt/anaconda3/envs/p312/lib/python3.12/site-packages/numpy/__init__.py'>"
      ]
     },
     "execution_count": 2,
     "metadata": {},
     "output_type": "execute_result"
    }
   ],
   "source": [
    "numpy"
   ]
  },
  {
   "cell_type": "markdown",
   "metadata": {},
   "source": [
    "The name `log` is an attribute of that module object.  Pythonistas say the\n",
    "name `log` is in the module's **namespace**."
   ]
  },
  {
   "cell_type": "code",
   "execution_count": 3,
   "metadata": {},
   "outputs": [
    {
     "data": {
      "text/plain": [
       "<ufunc 'log'>"
      ]
     },
     "execution_count": 3,
     "metadata": {},
     "output_type": "execute_result"
    }
   ],
   "source": [
    "numpy.log"
   ]
  },
  {
   "cell_type": "markdown",
   "metadata": {},
   "source": [
    "Whenever we import a module, the names of all the functions defined in it -- in fact all the names defined in it -- are in the module's namespace. \n",
    "\n",
    "In the next cell, we **call** the function.  "
   ]
  },
  {
   "cell_type": "code",
   "execution_count": 4,
   "metadata": {},
   "outputs": [
    {
     "data": {
      "text/plain": [
       "0.6931471805599453"
      ]
     },
     "execution_count": 4,
     "metadata": {},
     "output_type": "execute_result"
    }
   ],
   "source": [
    "numpy.log(2)"
   ]
  },
  {
   "cell_type": "markdown",
   "metadata": {},
   "source": [
    "Here `log` means *natural logarithm*; that is, logarithm to the base $e$.  Besides defining functions, the `numpy` module also defines values for various variables.  One of them is `e`. That means that once the module is imported, the name `e` is  in the module's namespace as well:"
   ]
  },
  {
   "cell_type": "code",
   "execution_count": 5,
   "metadata": {},
   "outputs": [
    {
     "data": {
      "text/plain": [
       "2.718281828459045"
      ]
     },
     "execution_count": 5,
     "metadata": {},
     "output_type": "execute_result"
    }
   ],
   "source": [
    "numpy.e"
   ]
  },
  {
   "cell_type": "markdown",
   "metadata": {},
   "source": [
    "And we can verify that the base for `log` is $e$."
   ]
  },
  {
   "cell_type": "code",
   "execution_count": 6,
   "metadata": {},
   "outputs": [
    {
     "data": {
      "text/plain": [
       "1.0"
      ]
     },
     "execution_count": 6,
     "metadata": {},
     "output_type": "execute_result"
    }
   ],
   "source": [
    "numpy.log(numpy.e)\n"
   ]
  },
  {
   "cell_type": "markdown",
   "metadata": {},
   "source": [
    "Since\n",
    "\n",
    "$$e^{1}  = e,$$\n",
    "\n",
    "$$log_e(e) = 1.$$\n"
   ]
  },
  {
   "cell_type": "markdown",
   "metadata": {},
   "source": [
    "The `numpy` module defines many other mathematically useful functions, for instance `numpy.sin` and `numpy.cos`, as well as other mathematically useful names:"
   ]
  },
  {
   "cell_type": "code",
   "execution_count": 7,
   "metadata": {},
   "outputs": [
    {
     "data": {
      "text/plain": [
       "3.141592653589793"
      ]
     },
     "execution_count": 7,
     "metadata": {},
     "output_type": "execute_result"
    }
   ],
   "source": [
    "numpy.pi"
   ]
  },
  {
   "cell_type": "markdown",
   "metadata": {},
   "source": [
    "Summarizing the points up to here.\n",
    "\n",
    "1.  Every time you import a module, it defines a set of Python objects in the current Python environment.  Those objects may be functions (like `numpy.log`) or other data types (like `numpy.e`, a number).\n",
    "2.  The names of those imported objects reside in the module's **namespace**. That is, they are attributes of the module.\n",
    "\n",
    "The concept of namespace will arise in other contexts; for example,\n",
    "Python classes have namespaces like modules do.  We discuss that in the next section.\n",
    "For now, the important thing to understand is that all names belong to a namespace.\n",
    "\n",
    "Technically, a namespace is just a collection of names linked to the object that each name references; the simplest picture is that of a dictionary in which the keys are the names and the values are the objects.  The builtin namespace contains all the builtin Python\n",
    "objects, such as the function `len` or the type `int`; these name are not the attributes of any module, so no module prefix is required to access them. \n",
    "\n",
    "You can view the entire list of names in any namespace using the function `dir` (for **directory**). Some namespaces are quite large."
   ]
  },
  {
   "cell_type": "markdown",
   "metadata": {},
   "source": [
    "You can inspect a module's namespace through the `dir` function. Sometimes however a namespace is pretty big:"
   ]
  },
  {
   "cell_type": "code",
   "execution_count": 30,
   "metadata": {},
   "outputs": [
    {
     "data": {
      "text/plain": [
       "612"
      ]
     },
     "execution_count": 30,
     "metadata": {},
     "output_type": "execute_result"
    }
   ],
   "source": [
    "len(dir(numpy))"
   ]
  },
  {
   "cell_type": "markdown",
   "metadata": {},
   "source": [
    "So let's just look at ten names in  the namespace from the middle of the namespace list:"
   ]
  },
  {
   "cell_type": "code",
   "execution_count": 31,
   "metadata": {
    "scrolled": true
   },
   "outputs": [
    {
     "data": {
      "text/plain": [
       "['arctan',\n",
       " 'arctan2',\n",
       " 'arctanh',\n",
       " 'argmax',\n",
       " 'argmin',\n",
       " 'argpartition',\n",
       " 'argsort',\n",
       " 'argwhere',\n",
       " 'around',\n",
       " 'array']"
      ]
     },
     "execution_count": 31,
     "metadata": {},
     "output_type": "execute_result"
    }
   ],
   "source": [
    "dir(numpy)[100:110]"
   ]
  },
  {
   "cell_type": "markdown",
   "metadata": {},
   "source": [
    "You could use `dir` to check if a name is defined in `numpy`:"
   ]
  },
  {
   "cell_type": "code",
   "execution_count": 32,
   "metadata": {},
   "outputs": [
    {
     "data": {
      "text/plain": [
       "True"
      ]
     },
     "execution_count": 32,
     "metadata": {},
     "output_type": "execute_result"
    }
   ],
   "source": [
    "'e' in dir(numpy)"
   ]
  },
  {
   "cell_type": "markdown",
   "metadata": {},
   "source": [
    "And this might prove a useful test in a program.\n",
    "\n",
    "But if you're trying it in a notebook cell, it's actually faster to just try the name out."
   ]
  },
  {
   "cell_type": "code",
   "execution_count": 33,
   "metadata": {},
   "outputs": [
    {
     "data": {
      "text/plain": [
       "2.718281828459045"
      ]
     },
     "execution_count": 33,
     "metadata": {},
     "output_type": "execute_result"
    }
   ],
   "source": [
    "numpy.e"
   ]
  },
  {
   "cell_type": "markdown",
   "metadata": {},
   "source": [
    "You can look at the builtin namespace as well, by using the reserved name `__builtins__`. You will find builtin functions as well as all the builtin type names like\n",
    "`str` and `list` as well as special type instances like `True`,`False`,\n",
    "and `None`, and function names like `len` and `hash`, as well as a number of things we haven't discussed."
   ]
  },
  {
   "cell_type": "code",
   "execution_count": 93,
   "metadata": {},
   "outputs": [
    {
     "data": {
      "text/plain": [
       "['ArithmeticError',\n",
       " 'AssertionError',\n",
       " 'AttributeError',\n",
       " 'BaseException',\n",
       " 'BlockingIOError',\n",
       " 'BrokenPipeError',\n",
       " 'BufferError',\n",
       " 'BytesWarning',\n",
       " 'ChildProcessError',\n",
       " 'ConnectionAbortedError',\n",
       " 'ConnectionError',\n",
       " 'ConnectionRefusedError',\n",
       " 'ConnectionResetError',\n",
       " 'DeprecationWarning',\n",
       " 'EOFError',\n",
       " 'Ellipsis',\n",
       " 'EnvironmentError',\n",
       " 'Exception',\n",
       " 'False',\n",
       " 'FileExistsError',\n",
       " 'FileNotFoundError',\n",
       " 'FloatingPointError',\n",
       " 'FutureWarning',\n",
       " 'GeneratorExit',\n",
       " 'IOError',\n",
       " 'ImportError',\n",
       " 'ImportWarning',\n",
       " 'IndentationError',\n",
       " 'IndexError',\n",
       " 'InterruptedError',\n",
       " 'IsADirectoryError',\n",
       " 'KeyError',\n",
       " 'KeyboardInterrupt',\n",
       " 'LookupError',\n",
       " 'MemoryError',\n",
       " 'ModuleNotFoundError',\n",
       " 'NameError',\n",
       " 'None',\n",
       " 'NotADirectoryError',\n",
       " 'NotImplemented',\n",
       " 'NotImplementedError',\n",
       " 'OSError',\n",
       " 'OverflowError',\n",
       " 'PendingDeprecationWarning',\n",
       " 'PermissionError',\n",
       " 'ProcessLookupError',\n",
       " 'RecursionError',\n",
       " 'ReferenceError',\n",
       " 'ResourceWarning',\n",
       " 'RuntimeError',\n",
       " 'RuntimeWarning',\n",
       " 'StopAsyncIteration',\n",
       " 'StopIteration',\n",
       " 'SyntaxError',\n",
       " 'SyntaxWarning',\n",
       " 'SystemError',\n",
       " 'SystemExit',\n",
       " 'TabError',\n",
       " 'TimeoutError',\n",
       " 'True',\n",
       " 'TypeError',\n",
       " 'UnboundLocalError',\n",
       " 'UnicodeDecodeError',\n",
       " 'UnicodeEncodeError',\n",
       " 'UnicodeError',\n",
       " 'UnicodeTranslateError',\n",
       " 'UnicodeWarning',\n",
       " 'UserWarning',\n",
       " 'ValueError',\n",
       " 'Warning',\n",
       " 'ZeroDivisionError',\n",
       " '__IPYTHON__',\n",
       " '__build_class__',\n",
       " '__debug__',\n",
       " '__doc__',\n",
       " '__import__',\n",
       " '__loader__',\n",
       " '__name__',\n",
       " '__package__',\n",
       " '__spec__',\n",
       " 'abs',\n",
       " 'all',\n",
       " 'any',\n",
       " 'ascii',\n",
       " 'bin',\n",
       " 'bool',\n",
       " 'breakpoint',\n",
       " 'bytearray',\n",
       " 'bytes',\n",
       " 'callable',\n",
       " 'chr',\n",
       " 'classmethod',\n",
       " 'compile',\n",
       " 'complex',\n",
       " 'copyright',\n",
       " 'credits',\n",
       " 'delattr',\n",
       " 'dict',\n",
       " 'dir',\n",
       " 'display',\n",
       " 'divmod',\n",
       " 'enumerate',\n",
       " 'eval',\n",
       " 'exec',\n",
       " 'execfile',\n",
       " 'filter',\n",
       " 'float',\n",
       " 'format',\n",
       " 'frozenset',\n",
       " 'get_ipython',\n",
       " 'getattr',\n",
       " 'globals',\n",
       " 'hasattr',\n",
       " 'hash',\n",
       " 'help',\n",
       " 'hex',\n",
       " 'id',\n",
       " 'input',\n",
       " 'int',\n",
       " 'isinstance',\n",
       " 'issubclass',\n",
       " 'iter',\n",
       " 'len',\n",
       " 'license',\n",
       " 'list',\n",
       " 'locals',\n",
       " 'map',\n",
       " 'max',\n",
       " 'memoryview',\n",
       " 'min',\n",
       " 'next',\n",
       " 'object',\n",
       " 'oct',\n",
       " 'open',\n",
       " 'ord',\n",
       " 'pow',\n",
       " 'print',\n",
       " 'property',\n",
       " 'range',\n",
       " 'repr',\n",
       " 'reversed',\n",
       " 'round',\n",
       " 'runfile',\n",
       " 'set',\n",
       " 'setattr',\n",
       " 'slice',\n",
       " 'sorted',\n",
       " 'staticmethod',\n",
       " 'str',\n",
       " 'sum',\n",
       " 'super',\n",
       " 'tuple',\n",
       " 'type',\n",
       " 'vars',\n",
       " 'zip']"
      ]
     },
     "execution_count": 93,
     "metadata": {},
     "output_type": "execute_result"
    }
   ],
   "source": [
    "dir(__builtins__)"
   ]
  },
  {
   "cell_type": "markdown",
   "metadata": {},
   "source": [
    "Hmm.  Let's try one of these names out."
   ]
  },
  {
   "cell_type": "code",
   "execution_count": 20,
   "metadata": {},
   "outputs": [
    {
     "data": {
      "text/plain": [
       "Copyright (c) 2001-2023 Python Software Foundation.\n",
       "All Rights Reserved.\n",
       "\n",
       "Copyright (c) 2000 BeOpen.com.\n",
       "All Rights Reserved.\n",
       "\n",
       "Copyright (c) 1995-2001 Corporation for National Research Initiatives.\n",
       "All Rights Reserved.\n",
       "\n",
       "Copyright (c) 1991-1995 Stichting Mathematisch Centrum, Amsterdam.\n",
       "All Rights Reserved."
      ]
     },
     "execution_count": 20,
     "metadata": {},
     "output_type": "execute_result"
    }
   ],
   "source": [
    "copyright"
   ]
  },
  {
   "cell_type": "markdown",
   "metadata": {},
   "source": [
    "Before leaving the subject of imports and namespaces, we mention one fine point, which is important because it arises frequently in Python code.  When imported, a module may be renamed (given a \"nickname\").  That changes  the way the namespace is accessed.\n",
    "\n",
    "For example, if we import `numpy` as follows:"
   ]
  },
  {
   "cell_type": "code",
   "execution_count": null,
   "metadata": {},
   "outputs": [],
   "source": [
    "import numpy as np"
   ]
  },
  {
   "cell_type": "markdown",
   "metadata": {},
   "source": [
    "that means the module is now accessed via the name `np`."
   ]
  },
  {
   "cell_type": "code",
   "execution_count": 34,
   "metadata": {},
   "outputs": [
    {
     "data": {
      "text/plain": [
       "<module 'numpy' from '/Users/gawron/opt/anaconda3/lib/python3.7/site-packages/numpy/__init__.py'>"
      ]
     },
     "execution_count": 34,
     "metadata": {},
     "output_type": "execute_result"
    }
   ],
   "source": [
    "np"
   ]
  },
  {
   "cell_type": "markdown",
   "metadata": {},
   "source": [
    "If you remember what we got when we just did a plain `import numpy` and then evaluated the\n",
    "name `numpy`, this is is the same thing.  The module we import hasn't chasnged, just the name\n",
    "we use to refer to it."
   ]
  },
  {
   "cell_type": "markdown",
   "metadata": {},
   "source": [
    "The consequence is that all the names **in** the namespace are accessed via the \"nick\" name `np`:"
   ]
  },
  {
   "cell_type": "code",
   "execution_count": 35,
   "metadata": {},
   "outputs": [
    {
     "data": {
      "text/plain": [
       "1.0"
      ]
     },
     "execution_count": 35,
     "metadata": {},
     "output_type": "execute_result"
    }
   ],
   "source": [
    "np.log(np.e)"
   ]
  },
  {
   "cell_type": "markdown",
   "metadata": {},
   "source": [
    "Popular modules like `numpy` and `pandas` generally have conventionalized nicknames (`np` and `pd`, respectively) and it is good programming practice to stick to these.  It will reduce the number of characters you have to type when using names from these namespaces while keeping your program easy to understand."
   ]
  },
  {
   "cell_type": "markdown",
   "metadata": {},
   "source": [
    "## A brief introduction to Classes"
   ]
  },
  {
   "cell_type": "markdown",
   "metadata": {},
   "source": [
    "**Classes** are essentially types defined in a Python program. \n",
    "Recall that a type instance is an item\n",
    "that stores a specific kind of data and has certain operations defined\n",
    "for it. \n",
    "\n",
    "Since classes are defined in programs,\n",
    "they are **generally** not builtin elements of the language. Many essential Python\n",
    "modules define classes of their own and we will be using them throughout the course.  We'll look at some examples in the next section.\n",
    "\n",
    "For now we illustrate what it means to define a class with a very simple example.\n",
    "\n",
    "Suppose we want to compute things about points in a 2D Cartesian plane. \n",
    "Here's a picture of 3 not terribly interesting points."
   ]
  },
  {
   "cell_type": "code",
   "execution_count": 79,
   "metadata": {},
   "outputs": [
    {
     "data": {
      "image/png": "[encoded data removed]",
      "text/plain": [
       "<Figure size 432x288 with 1 Axes>"
      ]
     },
     "metadata": {
      "needs_background": "light"
     },
     "output_type": "display_data"
    }
   ],
   "source": [
    "from matplotlib import pyplot as plt\n",
    "import numpy as np\n",
    "\n",
    "fig,ax = plt.subplots(1)\n",
    "xs = np.array([1,2.5,3])\n",
    "ys = np.array([3,2.5,0])\n",
    "plt.scatter(xs,ys)\n",
    "plt.text(1.06, 3.0, 'P1', horizontalalignment='left', \n",
    "     verticalalignment='center')\n",
    "plt.text(2.88, 0.1, 'P2', horizontalalignment='left', \n",
    "     verticalalignment='center')\n",
    "plt.text(2.55, 2.54, 'P3', horizontalalignment='left', \n",
    "     verticalalignment='center')\n",
    "plt.show()"
   ]
  },
  {
   "cell_type": "markdown",
   "metadata": {},
   "source": [
    "Now suppose further that \n",
    "we want to be able compute the distance of any point like P1 \n",
    "from the origin, or we want to \n",
    "be able to compute the distance between P2 and P3. \n",
    "\n",
    "We can represent the points as objects that have x and y attributes.  We\n",
    "can then compute the distance from the origin and the distance between points\n",
    "using these attributes."
   ]
  },
  {
   "cell_type": "markdown",
   "metadata": {},
   "source": [
    "### The Point example\n",
    "\n",
    "We can implement these ideas with a `Point` class:"
   ]
  },
  {
   "cell_type": "code",
   "execution_count": 32,
   "metadata": {},
   "outputs": [],
   "source": [
    "import math\n",
    "\n",
    "class Point(object):\n",
    "\n",
    "    def __init__(self, x, y):\n",
    "        self.x = x\n",
    "        self.y = y\n",
    "        #with open(\"pascal.png\",\"rb\") as fh:\n",
    "        #    self.image=fh.read()\n",
    "\n",
    "    def __str__(self):\n",
    "       return f\"Point({self.x}, {self.y})\"\n",
    "\n",
    "    #def _repr_html_(self):\n",
    "    #    return f\"<h2>Point({self.x}, {self.y})</h2>\"\n",
    "    \n",
    "    def _repr_latex_ (self):\n",
    "        return r\"$\\lbrack$\"+ f\"{self.x}, {self.y}\" + r\"$\\rbrack$ \"\n",
    "    \n",
    "    #def _repr_png_ (self):\n",
    "    #    return self.image\n",
    "\n",
    "    def __eq__ (self, other):\n",
    "        if self.x == other.x and self.y == other.y:\n",
    "            return True\n",
    "        else:\n",
    "            return False\n",
    "\n",
    "    def distance_from_origin (self):\n",
    "        return math.sqrt(self.x**2 + self.y**2)\n",
    "\n",
    "    def distance(self, p2=None):\n",
    "        if p2 is None:\n",
    "            p2 = Point(0,0)\n",
    "        return math.sqrt((p2.x - self.x)**2 + (p2.y - self.y)**2)\n",
    "    \n",
    "    def __mul__(self, other):\n",
    "        return Point(x=(self.x*other.x)-(self.y*other.y),\n",
    "                     y=(self.y*other.x)+(self.x*other.y))"
   ]
  },
  {
   "cell_type": "code",
   "execution_count": 21,
   "metadata": {},
   "outputs": [
    {
     "name": "stdout",
     "output_type": "stream",
     "text": [
      "Point(-6, 17)\n"
     ]
    }
   ],
   "source": [
    "P1 = Point(3,4)\n",
    "P2 = Point(2,3)\n",
    "print(P1 * P2)"
   ]
  },
  {
   "cell_type": "code",
   "execution_count": 23,
   "metadata": {},
   "outputs": [
    {
     "data": {
      "text/plain": [
       "(-6+17j)"
      ]
     },
     "execution_count": 23,
     "metadata": {},
     "output_type": "execute_result"
    }
   ],
   "source": [
    "6 + 8j + 9j -12"
   ]
  },
  {
   "cell_type": "code",
   "execution_count": 24,
   "metadata": {},
   "outputs": [
    {
     "data": {
      "text/plain": [
       "(-6+17j)"
      ]
     },
     "execution_count": 24,
     "metadata": {},
     "output_type": "execute_result"
    }
   ],
   "source": [
    "(3+4j) * (2+3j)"
   ]
  },
  {
   "cell_type": "code",
   "execution_count": 7,
   "metadata": {},
   "outputs": [
    {
     "data": {
      "text/plain": [
       "4j"
      ]
     },
     "execution_count": 7,
     "metadata": {},
     "output_type": "execute_result"
    }
   ],
   "source": [
    "x=4\n",
    "x*1j"
   ]
  },
  {
   "cell_type": "markdown",
   "metadata": {},
   "source": [
    "There are four function definitions in the code\n",
    "block that defines the class.\n",
    "\n",
    "Each of these class-specific functions has a special status, so they are called\n",
    "**methods**.  Each of them is intended be called by instances of the class, typically\n",
    "to perform operations involving themselves;  thus, the first parameter of a method \n",
    "will be bound to the class instance.  It is a code-writing convention to\n",
    "use the name `self` for that parameter.\n",
    "\n",
    "The block of code in the class definition defines the methods a class instance\n",
    "can use; and although it's not immediately obvious in the code above, it also \n",
    "provides a specification for how instances of the class are to be created.\n",
    "\n",
    "We illustrate with the 3 points drawn above."
   ]
  },
  {
   "cell_type": "code",
   "execution_count": 33,
   "metadata": {},
   "outputs": [],
   "source": [
    "p1 = Point(1,3)\n",
    "p2 = Point(2.5,2.5)\n",
    "p3 = Point(3,0)"
   ]
  },
  {
   "cell_type": "code",
   "execution_count": 34,
   "metadata": {},
   "outputs": [
    {
     "data": {
      "text/latex": [
       "$\\lbrack$1, 3$\\rbrack$ "
      ],
      "text/plain": [
       "<__main__.Point at 0x120a102f0>"
      ]
     },
     "execution_count": 34,
     "metadata": {},
     "output_type": "execute_result"
    }
   ],
   "source": [
    "p1"
   ]
  },
  {
   "cell_type": "code",
   "execution_count": 35,
   "metadata": {},
   "outputs": [
    {
     "name": "stdout",
     "output_type": "stream",
     "text": [
      "Point(1, 3)\n",
      "Point(2.5, 2.5)\n",
      "Point(3, 0)\n"
     ]
    }
   ],
   "source": [
    "print(p1)\n",
    "print(p2)\n",
    "print(p3)"
   ]
  },
  {
   "cell_type": "markdown",
   "metadata": {},
   "source": [
    "The Python convention is that the class is callable and that it is called to create\n",
    "instances of the class.  The fact that the x and y coordinates must be supplied\n",
    "when creating a `Point` instance is determined by making x and y parameters\n",
    "of the `__init__` method, which, if supplied, is always executed when \n",
    "an instance is created.  This means every point will have an x and y attribute."
   ]
  },
  {
   "cell_type": "code",
   "execution_count": 36,
   "metadata": {},
   "outputs": [
    {
     "name": "stdout",
     "output_type": "stream",
     "text": [
      "2.5\n",
      "2.5\n"
     ]
    }
   ],
   "source": [
    "print(p2.x)\n",
    "print(p2.y)"
   ]
  },
  {
   "cell_type": "markdown",
   "metadata": {},
   "source": [
    "and that means methods like `distance_from_origin` and `distance` which\n",
    "make reference to those attributes, will work on any point."
   ]
  },
  {
   "cell_type": "code",
   "execution_count": 37,
   "metadata": {},
   "outputs": [
    {
     "data": {
      "text/plain": [
       "3.5355339059327378"
      ]
     },
     "execution_count": 37,
     "metadata": {},
     "output_type": "execute_result"
    }
   ],
   "source": [
    "p2.distance_from_origin()"
   ]
  },
  {
   "cell_type": "code",
   "execution_count": 38,
   "metadata": {},
   "outputs": [
    {
     "data": {
      "text/plain": [
       "3.1622776601683795"
      ]
     },
     "execution_count": 38,
     "metadata": {},
     "output_type": "execute_result"
    }
   ],
   "source": [
    "p1.distance_from_origin()"
   ]
  },
  {
   "cell_type": "code",
   "execution_count": 39,
   "metadata": {},
   "outputs": [
    {
     "data": {
      "text/plain": [
       "1.5811388300841898"
      ]
     },
     "execution_count": 39,
     "metadata": {},
     "output_type": "execute_result"
    }
   ],
   "source": [
    "p1.distance(p2)"
   ]
  },
  {
   "cell_type": "code",
   "execution_count": 40,
   "metadata": {},
   "outputs": [
    {
     "data": {
      "text/plain": [
       "1.5811388300841898"
      ]
     },
     "execution_count": 40,
     "metadata": {},
     "output_type": "execute_result"
    }
   ],
   "source": [
    "p2.distance(p1)"
   ]
  },
  {
   "cell_type": "markdown",
   "metadata": {},
   "source": [
    "The class methods are not called the way normal functions are.  The `self` argument\n",
    "comes first, followed by a period (`.`) followed by the other arguments.  We have\n",
    "seen this syntax befiore in some of the methods called on Python's builtin types. More\n",
    "on this syntax below.\n",
    "\n",
    "Note that `distance` is a method involving two points. One of these points \n",
    "must be be chosen as the `self` point (the \"point\" of view, as it were), but\n",
    "the definition of `distance` guarantees that  whichever of the two points calls the\n",
    "method, the result is the same.\n",
    "\n",
    "The `__eq__` method is called whenever we are testing whether two points\n",
    "are equivalent; like the `distance` method it can be called by any\n",
    "point to compare itself to another, but it also has a special status.\n",
    "The Python interpreter knows to use it whenever the equivalence of two point\n",
    "instances is in question, for instance, when using `==`:"
   ]
  },
  {
   "cell_type": "code",
   "execution_count": 41,
   "metadata": {},
   "outputs": [
    {
     "name": "stdout",
     "output_type": "stream",
     "text": [
      "False\n",
      "False\n"
     ]
    }
   ],
   "source": [
    "print(p1.__eq__(p2))\n",
    "print(p1 == p2)"
   ]
  },
  {
   "cell_type": "code",
   "execution_count": 42,
   "metadata": {},
   "outputs": [
    {
     "data": {
      "text/plain": [
       "True"
      ]
     },
     "execution_count": 42,
     "metadata": {},
     "output_type": "execute_result"
    }
   ],
   "source": [
    "# Let's put another point instance in the same place as p2\n",
    "p2a = Point(2.5,2.5)\n",
    "p2 == p2a"
   ]
  },
  {
   "cell_type": "markdown",
   "metadata": {},
   "source": [
    "Since `in` calls `==` under the hood, the `__eq__` method will also be used with `in`\n",
    "tests:"
   ]
  },
  {
   "cell_type": "code",
   "execution_count": 43,
   "metadata": {
    "scrolled": true
   },
   "outputs": [
    {
     "data": {
      "text/plain": [
       "True"
      ]
     },
     "execution_count": 43,
     "metadata": {},
     "output_type": "execute_result"
    }
   ],
   "source": [
    "p2 in [p1,p3,p2a]"
   ]
  },
  {
   "cell_type": "markdown",
   "metadata": {},
   "source": [
    "The unwritten Python convention is that all methods that have a name\n",
    "that begins and ends with double_underscore (so-called **dunder** methods, also called **magic** methods) have a special status, often\n",
    "one honored by Python's builtin operators. For example, whenever\n",
    "`==` is applied to two class instances, Python will check for an  `__eq__` method\n",
    "and, if it is available will use it to determine equality.\n",
    "Similarly, `__add__` can be used to implement a semantics for `+`\n",
    "with a custom class and `__mul__` to implement a semantics for `*`."
   ]
  },
  {
   "cell_type": "markdown",
   "metadata": {},
   "source": [
    "A somewhat different example is `__str__`, which returns a string; Python\n",
    "will use call this method to define the string used\n",
    "when printing instances of the `Point` class:"
   ]
  },
  {
   "cell_type": "code",
   "execution_count": 42,
   "metadata": {},
   "outputs": [
    {
     "name": "stdout",
     "output_type": "stream",
     "text": [
      "Point(1, 3)\n"
     ]
    }
   ],
   "source": [
    "print(p1)"
   ]
  },
  {
   "cell_type": "markdown",
   "metadata": {},
   "source": [
    "Note that this is different from what the Python interpreter prints when evaluating an instance of our class."
   ]
  },
  {
   "cell_type": "code",
   "execution_count": 44,
   "metadata": {},
   "outputs": [
    {
     "data": {
      "text/latex": [
       "$\\lbrack$1, 3$\\rbrack$ "
      ],
      "text/plain": [
       "<__main__.Point at 0x120a102f0>"
      ]
     },
     "execution_count": 44,
     "metadata": {},
     "output_type": "execute_result"
    }
   ],
   "source": [
    "p1"
   ]
  },
  {
   "cell_type": "markdown",
   "metadata": {},
   "source": [
    "Here what happens is that notebook renderer looks for a class of _repr_ methods, discussed [here](https://ipython.readthedocs.io/en/stable/config/integrating.html), for example `_repr_html_` or\n",
    "`_repr_latex_`, which by convention define strings in the formatting languages `html` or `latex`.\n",
    "If it finds such a method, it uses it to produce a formatting string and \n",
    "calls an *engine* that knows how to render descriptions in that language.  In this case it found\n",
    "a `_repr_latex_` method and rendered the latex string it produced.\n",
    "\n",
    "Here's a simpler example using `_repr_htmnl_` to illustrate the principle:"
   ]
  },
  {
   "cell_type": "code",
   "execution_count": 45,
   "metadata": {},
   "outputs": [],
   "source": [
    "class Shout(object):\n",
    "    def __init__(self, text):\n",
    "        self.text = text\n",
    "\n",
    "    def _repr_html_(self):\n",
    "        return \"<h1>\" + self.text + \"</h1>\"\n",
    "\n",
    "sh = Shout(\"Damn!\")"
   ]
  },
  {
   "cell_type": "code",
   "execution_count": 46,
   "metadata": {},
   "outputs": [
    {
     "data": {
      "text/html": [
       "<h1>Damn!</h1>"
      ],
      "text/plain": [
       "<__main__.Shout at 0x120a0aea0>"
      ]
     },
     "execution_count": 46,
     "metadata": {},
     "output_type": "execute_result"
    }
   ],
   "source": [
    "sh"
   ]
  },
  {
   "cell_type": "markdown",
   "metadata": {},
   "source": [
    "There's a lot more to be said about dunder methods and about classes\n",
    "in general, especially if one\n",
    "wants to begin programming with them, but the key ideas we\n",
    "need to establish for our purposes are:\n",
    "\n",
    "1.  Classes can be defined in any body of code.  When you import a module,\n",
    "you will often be importing class definitions as well as function and variable\n",
    "definitions.\n",
    "2.  Once a class is defined, Python has conventions for creating new instances\n",
    "and for calling methods.\n",
    "\n",
    "    a.  A class instance is created by calling the name of the class together with the non-`self` arguments of the `__init__` method. Internally, the method `__new__` creates the instance; and the method `__init__` is called on that.\n",
    "    \n",
    "    b.  Methods are generally called by an instance of the class using the special method syntax.  "
   ]
  },
  {
   "cell_type": "markdown",
   "metadata": {},
   "source": [
    "Note that methods are functions in the class namespace; and can even be called that way."
   ]
  },
  {
   "cell_type": "code",
   "execution_count": 76,
   "metadata": {},
   "outputs": [
    {
     "data": {
      "text/plain": [
       "1.5811388300841898"
      ]
     },
     "execution_count": 76,
     "metadata": {},
     "output_type": "execute_result"
    }
   ],
   "source": [
    "Point.distance(p1,p2)"
   ]
  },
  {
   "cell_type": "markdown",
   "metadata": {},
   "source": [
    "A corollary is that the name `distance` does not belong to the `__main__` (top-level)\n",
    "namespace, and the `distance` method cannot be called this way:"
   ]
  },
  {
   "cell_type": "code",
   "execution_count": 135,
   "metadata": {},
   "outputs": [
    {
     "ename": "NameError",
     "evalue": "name 'distance' is not defined",
     "output_type": "error",
     "traceback": [
      "\u001b[0;31m---------------------------------------------------------------------------\u001b[0m",
      "\u001b[0;31mNameError\u001b[0m                                 Traceback (most recent call last)",
      "\u001b[0;32m/var/folders/_q/2s1hy5bx1l7f9j1lw9zjgt19_wb463/T/ipykernel_39491/1053637786.py\u001b[0m in \u001b[0;36m<module>\u001b[0;34m\u001b[0m\n\u001b[0;32m----> 1\u001b[0;31m \u001b[0mdistance\u001b[0m\u001b[0;34m(\u001b[0m\u001b[0mp1\u001b[0m\u001b[0;34m,\u001b[0m\u001b[0mp2\u001b[0m\u001b[0;34m)\u001b[0m\u001b[0;34m\u001b[0m\u001b[0m\n\u001b[0m",
      "\u001b[0;31mNameError\u001b[0m: name 'distance' is not defined"
     ]
    }
   ],
   "source": [
    "distance(p1,p2)"
   ]
  },
  {
   "cell_type": "markdown",
   "metadata": {},
   "source": [
    "There are two features that make methods special:\n",
    "\n",
    "1.  Class instances like `p1` and `p2` can call the methods, as shown above; in effect the instances inherit the namespace of the class.\n",
    "2.  The instance (`self`) argument is given special treatment when an instance calls the method."
   ]
  },
  {
   "cell_type": "markdown",
   "metadata": {},
   "source": [
    "To verify that the instance inherits its classes attributes we can inspect the namespaces of the instance and the class using `dir`. "
   ]
  },
  {
   "cell_type": "code",
   "execution_count": 44,
   "metadata": {
    "scrolled": true
   },
   "outputs": [
    {
     "data": {
      "text/plain": [
       "{'x', 'y'}"
      ]
     },
     "execution_count": 44,
     "metadata": {},
     "output_type": "execute_result"
    }
   ],
   "source": [
    "set(dir(p1)) - set(dir(Point))"
   ]
  },
  {
   "cell_type": "markdown",
   "metadata": {},
   "source": [
    "The sole attributes unique to the instance are the two attributes it was given\n",
    "when it was created."
   ]
  },
  {
   "cell_type": "markdown",
   "metadata": {},
   "source": [
    "Summary of the main points in this section.\n",
    "\n",
    "1.  Classes fulfilling specific computational needs can be defined\n",
    "in any body of code using a `class` definition.\n",
    "2.  Class instances inherit the attributes of their class but can also\n",
    "have their own individualizing attributes.\n",
    "3.  Many Dunder (double  underscore) methods have special interpretations\n",
    "supported by Python, and these can be leveraged to make customized class\n",
    "instances behave more like builtin Python types.  For more examples\n",
    "of this working see the `FrenchDeck` class in the optional appendix to this\n",
    "notebook."
   ]
  },
  {
   "cell_type": "markdown",
   "metadata": {},
   "source": [
    "**Optional exercise A**:  Think about a sensible interpretation of adding points\n",
    "and implement it so that the following works:\n",
    "\n",
    "```\n",
    "p3 = p1 + p2\n",
    "```\n",
    "**Optional exercise B** (for the mathematically inclined):  Creat a new class `IPoint`\n",
    "that represents points on the Complex plane.  In place of the `x` and `y` coordinates\n",
    "we will have the `real` and `imag` component. \n",
    "Modify the definition of __str__ to suggest this interpretation. \n",
    "\n",
    "Also `p1.imag` should return\n",
    "the imaginary component and `p1.real` the real component,  For example\n",
    "\n",
    "```python\n",
    ">>> p1 = IPoint(3,-4)\n",
    ">>> p1.imag\n",
    "-4\n",
    "```\n",
    "\n",
    "Implement multiplication between points.\n",
    "\n",
    "```python\n",
    ">>> p2 = IPoint(2,3)\n",
    ">>> p3 = p1 * p2\n",
    ">>>p3.real\n",
    "18\n",
    ">>>p3.imag\n",
    "1\n",
    "```\n",
    "Note this should behave, quantitatively, like multiplication between complex numbers,\n",
    "but it should return another insytance of `IPoint`, not a complex number.  Be sure\n",
    "to correctly implement the "
   ]
  },
  {
   "cell_type": "code",
   "execution_count": 83,
   "metadata": {},
   "outputs": [],
   "source": [
    "## A\n",
    "\n",
    "\n",
    "class Point(object):\n",
    "\n",
    "    def __init__(self, x, y):\n",
    "        self.x = x\n",
    "        self.y = y\n",
    "\n",
    "    def __str__(self):\n",
    "       return f\"Point({self.x}, {self.y})\"\n",
    "\n",
    "    def __eq__ (self, other):\n",
    "        if self.x == other.x and self.y == other.y:\n",
    "            return True\n",
    "        else:\n",
    "            return False\n",
    "        \n",
    "    def __add__ (self, other):\n",
    "        return Point(self.x + other.x, self.y + other.y)\n",
    "    "
   ]
  },
  {
   "cell_type": "code",
   "execution_count": 84,
   "metadata": {},
   "outputs": [],
   "source": [
    "## B\n",
    "\n",
    "\n",
    "class IPoint(object):\n",
    "\n",
    "    def __init__(self, x, y):\n",
    "        self.real = x\n",
    "        self.imag = y\n",
    "        self.val = x + 1j*y\n",
    "\n",
    "    def __str__(self):\n",
    "        return f\"{self.real} + {self.imag}j\"\n",
    "\n",
    "    def __eq__ (self, other):\n",
    "        #if self.real == other.real and self.imag == other.imag:\n",
    "        #    return True\n",
    "        #else:\n",
    "        #    return False\n",
    "        return (self.real == other.real) and (self.imag == other.imag)\n",
    "        \n",
    "    def __add__ (self, other):\n",
    "        return IPoint(self.real + other.real, self.imag + other.imag)\n",
    " \n",
    "    def __mul__(self, other):\n",
    "        newval = self.val * other.val\n",
    "        return IPoint(newval.real,newval.imag)\n",
    "        #return IPoint(x=(self.real*other.real)-(self.imag*other.imag),\n",
    "        #            y=(self.imag*other.real)+(self.real*other.imag))\n",
    "        \n",
    "    def distance_from_origin (self):\n",
    "        return math.sqrt(self.real**2 + self.imag**2)\n",
    "\n",
    "    def distance(self, p2=None):\n",
    "        if p2 is None:\n",
    "            p2 = Point(0,0)\n",
    "        return math.sqrt((p2.real - self.real)**2 + (p2.imag - self.imag)**2)\n",
    "     \n",
    "\n",
    "# Another perfectly valid solution\n",
    "# that shows why you wouldnt really want to\n",
    "# implement this class\n",
    "class IPoint2(complex):\n",
    "\n",
    "     pass"
   ]
  },
  {
   "cell_type": "code",
   "execution_count": 61,
   "metadata": {},
   "outputs": [
    {
     "data": {
      "text/plain": [
       "True"
      ]
     },
     "execution_count": 61,
     "metadata": {},
     "output_type": "execute_result"
    }
   ],
   "source": [
    "p23 == p23"
   ]
  },
  {
   "cell_type": "code",
   "execution_count": 91,
   "metadata": {},
   "outputs": [
    {
     "name": "stdout",
     "output_type": "stream",
     "text": [
      "(18+1j)\n",
      "5 + -1j\n",
      "18.0 + 1.0j\n",
      "3.605551275463989\n"
     ]
    }
   ],
   "source": [
    "print(6+9j-8j+12)\n",
    "p23,p17 = IPoint(2,3), IPoint(3,-4)\n",
    "p12 = p23 + p17\n",
    "print(p12)\n",
    "p13 = p23 * p17\n",
    "print(p13)\n",
    "print(p23.distance_from_origin())"
   ]
  },
  {
   "cell_type": "code",
   "execution_count": 92,
   "metadata": {},
   "outputs": [
    {
     "name": "stdout",
     "output_type": "stream",
     "text": [
      "7.0710678118654755\n"
     ]
    }
   ],
   "source": [
    "print(p23.distance(p17))"
   ]
  },
  {
   "cell_type": "code",
   "execution_count": 68,
   "metadata": {},
   "outputs": [
    {
     "data": {
      "text/plain": [
       "(2+3j)"
      ]
     },
     "execution_count": 68,
     "metadata": {},
     "output_type": "execute_result"
    }
   ],
   "source": [
    "IPoint2(2,3)"
   ]
  },
  {
   "cell_type": "code",
   "execution_count": 93,
   "metadata": {},
   "outputs": [
    {
     "name": "stdout",
     "output_type": "stream",
     "text": [
      "(5-1j)\n",
      "(18+1j)\n"
     ]
    }
   ],
   "source": [
    "q23,q17 = IPoint2(2,3), IPoint2(3,-4)\n",
    "q12 = q23 + q17\n",
    "print(q12)\n",
    "q13 = q23 * q17\n",
    "print(q13)"
   ]
  },
  {
   "cell_type": "markdown",
   "metadata": {},
   "source": [
    "The distance from origin functionality"
   ]
  },
  {
   "cell_type": "code",
   "execution_count": 94,
   "metadata": {},
   "outputs": [
    {
     "data": {
      "text/plain": [
       "3.6055512754639896"
      ]
     },
     "execution_count": 94,
     "metadata": {},
     "output_type": "execute_result"
    }
   ],
   "source": [
    "numpy.abs(q23)"
   ]
  },
  {
   "cell_type": "code",
   "execution_count": null,
   "metadata": {},
   "outputs": [],
   "source": [
    "Distance between points."
   ]
  },
  {
   "cell_type": "code",
   "execution_count": 95,
   "metadata": {},
   "outputs": [
    {
     "data": {
      "text/plain": [
       "7.0710678118654755"
      ]
     },
     "execution_count": 95,
     "metadata": {},
     "output_type": "execute_result"
    }
   ],
   "source": [
    "numpy.abs(q23-q17)"
   ]
  },
  {
   "cell_type": "markdown",
   "metadata": {},
   "source": [
    "### Analogy between Classes and Python builtin types\n",
    "\n",
    "Note that much of what we have said about classes applies to builtin Python types.\n",
    "\n",
    "Types like `str` (string) have instances and those instances can call methods\n",
    "specific to the type."
   ]
  },
  {
   "cell_type": "code",
   "execution_count": 45,
   "metadata": {
    "scrolled": true
   },
   "outputs": [
    {
     "data": {
      "text/plain": [
       "'cat'"
      ]
     },
     "execution_count": 45,
     "metadata": {},
     "output_type": "execute_result"
    }
   ],
   "source": [
    "'Cat'.lower()"
   ]
  },
  {
   "cell_type": "markdown",
   "metadata": {},
   "source": [
    "The type name can be called to create instances of the type:"
   ]
  },
  {
   "cell_type": "code",
   "execution_count": 46,
   "metadata": {},
   "outputs": [
    {
     "data": {
      "text/plain": [
       "('c', 'a', 't')"
      ]
     },
     "execution_count": 46,
     "metadata": {},
     "output_type": "execute_result"
    }
   ],
   "source": [
    "tuple('cat')"
   ]
  },
  {
   "cell_type": "code",
   "execution_count": 47,
   "metadata": {},
   "outputs": [
    {
     "data": {
      "text/plain": [
       "'123'"
      ]
     },
     "execution_count": 47,
     "metadata": {},
     "output_type": "execute_result"
    }
   ],
   "source": [
    "str(123)"
   ]
  },
  {
   "cell_type": "markdown",
   "metadata": {},
   "source": [
    "\n",
    "Type methods are functions in the type namespace and can be called that way:"
   ]
  },
  {
   "cell_type": "code",
   "execution_count": 48,
   "metadata": {
    "scrolled": true
   },
   "outputs": [
    {
     "data": {
      "text/plain": [
       "'cat'"
      ]
     },
     "execution_count": 48,
     "metadata": {},
     "output_type": "execute_result"
    }
   ],
   "source": [
    "str.lower('Cat')"
   ]
  },
  {
   "cell_type": "markdown",
   "metadata": {},
   "source": [
    "## Classes in imported modules"
   ]
  },
  {
   "cell_type": "markdown",
   "metadata": {},
   "source": [
    "Many modules define classes; in many cases there is a distinguished class implementing the core features of the module's functionality.  For `numpy`, a good candidate would\n",
    "be th n-dimensional array class"
   ]
  },
  {
   "cell_type": "code",
   "execution_count": 8,
   "metadata": {},
   "outputs": [
    {
     "name": "stdout",
     "output_type": "stream",
     "text": [
      "<class 'numpy.ndarray'>\n"
     ]
    },
    {
     "data": {
      "text/plain": [
       "array([1, 2, 3])"
      ]
     },
     "execution_count": 8,
     "metadata": {},
     "output_type": "execute_result"
    }
   ],
   "source": [
    "import numpy as np\n",
    "a = np.array([1,2,3])\n",
    "print(type(a))\n",
    "a"
   ]
  },
  {
   "cell_type": "markdown",
   "metadata": {},
   "source": [
    "The object `a` is a `numpy` `array`.  This is\n",
    "a class defined in the `numpy` module for\n",
    "primarily for storing numerical data\n",
    "in sequential and table form. In\n",
    "this case we've constructed a 1D array that looks\n",
    "a lot like like a list and shares many logical\n",
    "properties with lists, including\n",
    "being sequential, and being modifiable.\n",
    "\n",
    "But there are also many attributes and methods that\n",
    "`numpy` ndarrays have that lists don't."
   ]
  },
  {
   "cell_type": "code",
   "execution_count": 49,
   "metadata": {
    "scrolled": true
   },
   "outputs": [
    {
     "name": "stdout",
     "output_type": "stream",
     "text": [
      "a=array([1, 6, 3, 2]) a.shape=(4,)\n",
      "\n",
      "a.reshape((2,2)) Size in 2 Dimensions\n",
      "\n",
      "[[1 6]\n",
      " [3 2]]\n",
      "\n",
      "a.reshape((2,2)).shape=(2, 2)\n",
      "\n",
      "a.min() 1 a.max() 6\n",
      "\n",
      "a after a.sort() [1 2 3 6]\n",
      "\n",
      "a.reshape((2,2))\n",
      "\n",
      " [[1 2]\n",
      " [3 6]]\n",
      "\n",
      "a=array([1, 2, 3, 6])\n"
     ]
    }
   ],
   "source": [
    "a = np.array([1,6,3,2])\n",
    "print(f'{a=} {a.shape=}',end=\"\\n\\n\")\n",
    "\n",
    "print(f\"a.reshape((2,2)) Size in 2 Dimensions\\n\\n{a.reshape((2,2))}\",end=\"\\n\\n\")\n",
    "print(f\"{a.reshape((2,2)).shape=}\",end=\"\\n\\n\")\n",
    "print(\"a.min()\", a.min(),\"a.max()\", a.max())\n",
    "print()\n",
    "a.sort()\n",
    "print('a after a.sort()', a)\n",
    "print()\n",
    "print(f'a.reshape((2,2))\\n\\n {a.reshape((2,2))}',end=\"\\n\\n\")\n",
    "print(f'{a=}')# again (order of elements changed but shape unchanged)', a)"
   ]
  },
  {
   "cell_type": "markdown",
   "metadata": {},
   "source": [
    "We show the **shape** of the ndimensional array (this is a 1D array so its shape is\n",
    "the same as its length); then we **reshape** it into a 2 x 2 table, making a 2 D\n",
    "array.  Then we found its min and max and sorted it and reshaped it again\n",
    "to get a different 2D table."
   ]
  },
  {
   "cell_type": "markdown",
   "metadata": {},
   "source": [
    "It turns out that `.sort()` is the only one\n",
    "of these operations that will also work on lists."
   ]
  },
  {
   "cell_type": "code",
   "execution_count": 10,
   "metadata": {},
   "outputs": [
    {
     "ename": "AttributeError",
     "evalue": "'list' object has no attribute 'min'",
     "output_type": "error",
     "traceback": [
      "\u001b[0;31m---------------------------------------------------------------------------\u001b[0m",
      "\u001b[0;31mAttributeError\u001b[0m                            Traceback (most recent call last)",
      "\u001b[0;32m/var/folders/_q/2s1hy5bx1l7f9j1lw9zjgt19_wb463/T/ipykernel_61967/349006416.py\u001b[0m in \u001b[0;36m<module>\u001b[0;34m\u001b[0m\n\u001b[1;32m      1\u001b[0m \u001b[0mL\u001b[0m \u001b[0;34m=\u001b[0m \u001b[0;34m[\u001b[0m\u001b[0;36m1\u001b[0m\u001b[0;34m,\u001b[0m\u001b[0;36m6\u001b[0m\u001b[0;34m,\u001b[0m\u001b[0;36m3\u001b[0m\u001b[0;34m,\u001b[0m\u001b[0;36m2\u001b[0m\u001b[0;34m]\u001b[0m\u001b[0;34m\u001b[0m\u001b[0m\n\u001b[0;32m----> 2\u001b[0;31m \u001b[0mprint\u001b[0m\u001b[0;34m(\u001b[0m\u001b[0mL\u001b[0m\u001b[0;34m.\u001b[0m\u001b[0mmin\u001b[0m\u001b[0;34m(\u001b[0m\u001b[0;34m)\u001b[0m\u001b[0;34m)\u001b[0m\u001b[0;34m\u001b[0m\u001b[0m\n\u001b[0m",
      "\u001b[0;31mAttributeError\u001b[0m: 'list' object has no attribute 'min'"
     ]
    }
   ],
   "source": [
    "L = [1,6,3,2]\n",
    "print(L.min())"
   ]
  },
  {
   "cell_type": "markdown",
   "metadata": {},
   "source": [
    "Similarly, a list doesn't have a shape.  It's intrinsically 1 D."
   ]
  },
  {
   "cell_type": "code",
   "execution_count": 11,
   "metadata": {},
   "outputs": [
    {
     "ename": "AttributeError",
     "evalue": "'list' object has no attribute 'shape'",
     "output_type": "error",
     "traceback": [
      "\u001b[0;31m---------------------------------------------------------------------------\u001b[0m",
      "\u001b[0;31mAttributeError\u001b[0m                            Traceback (most recent call last)",
      "\u001b[0;32m/var/folders/_q/2s1hy5bx1l7f9j1lw9zjgt19_wb463/T/ipykernel_61967/3670024942.py\u001b[0m in \u001b[0;36m<module>\u001b[0;34m\u001b[0m\n\u001b[0;32m----> 1\u001b[0;31m \u001b[0mprint\u001b[0m\u001b[0;34m(\u001b[0m\u001b[0mL\u001b[0m\u001b[0;34m.\u001b[0m\u001b[0mshape\u001b[0m\u001b[0;34m)\u001b[0m\u001b[0;34m\u001b[0m\u001b[0m\n\u001b[0m",
      "\u001b[0;31mAttributeError\u001b[0m: 'list' object has no attribute 'shape'"
     ]
    }
   ],
   "source": [
    "print(L.shape)"
   ]
  },
  {
   "cell_type": "markdown",
   "metadata": {},
   "source": [
    "Hence you can't reshape lists:"
   ]
  },
  {
   "cell_type": "code",
   "execution_count": 12,
   "metadata": {},
   "outputs": [
    {
     "ename": "AttributeError",
     "evalue": "'list' object has no attribute 'reshape'",
     "output_type": "error",
     "traceback": [
      "\u001b[0;31m---------------------------------------------------------------------------\u001b[0m",
      "\u001b[0;31mAttributeError\u001b[0m                            Traceback (most recent call last)",
      "\u001b[0;32m/var/folders/_q/2s1hy5bx1l7f9j1lw9zjgt19_wb463/T/ipykernel_61967/2508903390.py\u001b[0m in \u001b[0;36m<module>\u001b[0;34m\u001b[0m\n\u001b[0;32m----> 1\u001b[0;31m \u001b[0mL\u001b[0m\u001b[0;34m.\u001b[0m\u001b[0mreshape\u001b[0m\u001b[0;34m(\u001b[0m\u001b[0;34m(\u001b[0m\u001b[0;36m2\u001b[0m\u001b[0;34m,\u001b[0m\u001b[0;36m2\u001b[0m\u001b[0;34m)\u001b[0m\u001b[0;34m)\u001b[0m\u001b[0;34m\u001b[0m\u001b[0m\n\u001b[0m",
      "\u001b[0;31mAttributeError\u001b[0m: 'list' object has no attribute 'reshape'"
     ]
    }
   ],
   "source": [
    "L.reshape((2,2))"
   ]
  },
  {
   "cell_type": "markdown",
   "metadata": {},
   "source": [
    "The takeaway is this:  Ndimensional arrays are quite different than lists\n",
    "and certainly merit being a different class/type.  We'll  learn more about\n",
    "them in the next module."
   ]
  },
  {
   "cell_type": "markdown",
   "metadata": {},
   "source": [
    "Turning from `numpy` to `pandas`: in `pandas` the key class is the `DataFrame`:"
   ]
  },
  {
   "cell_type": "code",
   "execution_count": 1,
   "metadata": {},
   "outputs": [
    {
     "data": {
      "text/html": [
       "<div>\n",
       "<style scoped>\n",
       "    .dataframe tbody tr th:only-of-type {\n",
       "        vertical-align: middle;\n",
       "    }\n",
       "\n",
       "    .dataframe tbody tr th {\n",
       "        vertical-align: top;\n",
       "    }\n",
       "\n",
       "    .dataframe thead th {\n",
       "        text-align: right;\n",
       "    }\n",
       "</style>\n",
       "<table border=\"1\" class=\"dataframe\">\n",
       "  <thead>\n",
       "    <tr style=\"text-align: right;\">\n",
       "      <th></th>\n",
       "      <th>name</th>\n",
       "      <th>gender</th>\n",
       "      <th>family name</th>\n",
       "      <th>hobby</th>\n",
       "      <th>pet</th>\n",
       "      <th>spouse</th>\n",
       "    </tr>\n",
       "  </thead>\n",
       "  <tbody>\n",
       "    <tr>\n",
       "      <th>0</th>\n",
       "      <td>None</td>\n",
       "      <td>M</td>\n",
       "      <td>Flintstone</td>\n",
       "      <td>bowling</td>\n",
       "      <td>Dino</td>\n",
       "      <td>Wilma</td>\n",
       "    </tr>\n",
       "    <tr>\n",
       "      <th>1</th>\n",
       "      <td>Barney</td>\n",
       "      <td>M</td>\n",
       "      <td>Rubble</td>\n",
       "      <td>bowling</td>\n",
       "      <td>Hoppy</td>\n",
       "      <td>Betty</td>\n",
       "    </tr>\n",
       "    <tr>\n",
       "      <th>2</th>\n",
       "      <td>Wilma</td>\n",
       "      <td>F</td>\n",
       "      <td>Flintstone</td>\n",
       "      <td>gardening</td>\n",
       "      <td>Dino</td>\n",
       "      <td>Fred</td>\n",
       "    </tr>\n",
       "    <tr>\n",
       "      <th>3</th>\n",
       "      <td>Betty</td>\n",
       "      <td>F</td>\n",
       "      <td>Rubble</td>\n",
       "      <td>dance</td>\n",
       "      <td>Hoppy</td>\n",
       "      <td>Barney</td>\n",
       "    </tr>\n",
       "  </tbody>\n",
       "</table>\n",
       "</div>"
      ],
      "text/plain": [
       "     name gender family name      hobby    pet  spouse\n",
       "0    None      M  Flintstone    bowling   Dino   Wilma\n",
       "1  Barney      M      Rubble    bowling  Hoppy   Betty\n",
       "2   Wilma      F  Flintstone  gardening   Dino    Fred\n",
       "3   Betty      F      Rubble      dance  Hoppy  Barney"
      ]
     },
     "execution_count": 1,
     "metadata": {},
     "output_type": "execute_result"
    }
   ],
   "source": [
    "import pandas as pd\n",
    "import numpy as np\n",
    "df = pd.DataFrame({'name': (None,'Barney','Wilma','Betty'),\n",
    "                   'gender': ('M','M','F','F'),\n",
    "                   'family name': ('Flintstone','Rubble','Flintstone','Rubble'),\n",
    "                    'hobby': ('bowling','bowling','gardening','dance'),\n",
    "                    'pet': ('Dino','Hoppy','Dino','Hoppy'),\n",
    "                    'spouse': ('Wilma','Betty','Fred','Barney')})\n",
    "#df['name'][0] = np.nan\n",
    "df"
   ]
  },
  {
   "cell_type": "markdown",
   "metadata": {},
   "source": [
    "A `DataFrame` is a generic container for data in tabular form.\n",
    "The `pandas` module provides many functions for creating,\n",
    "comb`ining, and manipulating `DataFrame` instances. \n",
    "And DataFrame`s have many attributes and methods\n",
    "specific to `DataFrame`s.\n",
    "\n",
    "We'll look at just two to illustrate the relationship\n",
    "to the way other class attributes and methods work.\n",
    "First every `DataFrame` has an attribute `columns`\n",
    "containing all its columns,\n",
    "and almost every column printed out in the `DataFrame` above is an attribute."
   ]
  },
  {
   "cell_type": "code",
   "execution_count": 2,
   "metadata": {},
   "outputs": [
    {
     "name": "stdout",
     "output_type": "stream",
     "text": [
      "Index(['name', 'gender', 'family name', 'hobby', 'pet', 'spouse'], dtype='object')\n",
      "\n",
      "df.name=0      None\n",
      "1    Barney\n",
      "2     Wilma\n",
      "3     Betty\n",
      "Name: name, dtype: object\n",
      "\n",
      "df.gender=0    M\n",
      "1    M\n",
      "2    F\n",
      "3    F\n",
      "Name: gender, dtype: object\n",
      "\n",
      "df.hobby=0      bowling\n",
      "1      bowling\n",
      "2    gardening\n",
      "3        dance\n",
      "Name: hobby, dtype: object\n",
      "\n",
      "df.pet=0     Dino\n",
      "1    Hoppy\n",
      "2     Dino\n",
      "3    Hoppy\n",
      "Name: pet, dtype: object\n",
      "\n",
      "df.spouse=0     Wilma\n",
      "1     Betty\n",
      "2      Fred\n",
      "3    Barney\n",
      "Name: spouse, dtype: object\n"
     ]
    }
   ],
   "source": [
    "print(df.columns)\n",
    "print()\n",
    "print(f\"{df.name=}\\n\\n{df.gender=}\\n\\n{df.hobby=}\\n\\n{df.pet=}\\n\\n{df.spouse=}\")"
   ]
  },
  {
   "cell_type": "markdown",
   "metadata": {},
   "source": [
    "Can you guess why the column  `family name` is not an attribute?"
   ]
  },
  {
   "cell_type": "code",
   "execution_count": null,
   "metadata": {},
   "outputs": [],
   "source": []
  },
  {
   "cell_type": "code",
   "execution_count": null,
   "metadata": {},
   "outputs": [],
   "source": []
  },
  {
   "cell_type": "code",
   "execution_count": null,
   "metadata": {},
   "outputs": [],
   "source": []
  },
  {
   "cell_type": "code",
   "execution_count": null,
   "metadata": {},
   "outputs": [],
   "source": []
  },
  {
   "cell_type": "code",
   "execution_count": null,
   "metadata": {},
   "outputs": [],
   "source": []
  },
  {
   "cell_type": "code",
   "execution_count": null,
   "metadata": {},
   "outputs": [],
   "source": []
  },
  {
   "cell_type": "code",
   "execution_count": null,
   "metadata": {},
   "outputs": [],
   "source": []
  },
  {
   "cell_type": "code",
   "execution_count": null,
   "metadata": {},
   "outputs": [],
   "source": []
  },
  {
   "cell_type": "code",
   "execution_count": null,
   "metadata": {},
   "outputs": [],
   "source": []
  },
  {
   "cell_type": "code",
   "execution_count": null,
   "metadata": {},
   "outputs": [],
   "source": []
  },
  {
   "cell_type": "code",
   "execution_count": null,
   "metadata": {},
   "outputs": [],
   "source": []
  },
  {
   "cell_type": "code",
   "execution_count": 4,
   "metadata": {},
   "outputs": [
    {
     "ename": "SyntaxError",
     "evalue": "invalid syntax (3923766202.py, line 1)",
     "output_type": "error",
     "traceback": [
      "\u001b[0;36m  File \u001b[0;32m\"/var/folders/w9/bx4mylnd27g_kqqgn5hrn2x40000gr/T/ipykernel_11093/3923766202.py\"\u001b[0;36m, line \u001b[0;32m1\u001b[0m\n\u001b[0;31m    df.family name\u001b[0m\n\u001b[0m              ^\u001b[0m\n\u001b[0;31mSyntaxError\u001b[0m\u001b[0;31m:\u001b[0m invalid syntax\n"
     ]
    }
   ],
   "source": [
    "df.family name"
   ]
  },
  {
   "cell_type": "markdown",
   "metadata": {},
   "source": [
    "But isn't quite right to conclude that `family name` isn't an attribute.  It is, it just can't be accessed the usual way.\n",
    "\n",
    "How to solve that problem:"
   ]
  },
  {
   "cell_type": "code",
   "execution_count": 3,
   "metadata": {},
   "outputs": [
    {
     "data": {
      "text/plain": [
       "0    Flintstone\n",
       "1        Rubble\n",
       "2    Flintstone\n",
       "3        Rubble\n",
       "Name: family name, dtype: object"
      ]
     },
     "execution_count": 3,
     "metadata": {},
     "output_type": "execute_result"
    }
   ],
   "source": [
    "getattr(df,\"family name\")"
   ]
  },
  {
   "cell_type": "markdown",
   "metadata": {},
   "source": [
    "The correct description of the situation is that `family name` is not an attribute **name** because\n",
    "it doesn't satisfy Python's syntactic requirements for a name.  Among other things it doesn't show\n",
    "up when we do `dir(df)` which returns a complete listing of `df`'s namespace (see also `var`).\n"
   ]
  },
  {
   "cell_type": "code",
   "execution_count": 11,
   "metadata": {},
   "outputs": [
    {
     "name": "stdout",
     "output_type": "stream",
     "text": [
      "False\n",
      "True\n"
     ]
    }
   ],
   "source": [
    "# For a ciomplete listong of the namespace\n",
    "#dir(df)\n",
    "print(\"family name\"  in dir(df))\n",
    "print(\"pet\"  in dir(df))"
   ]
  },
  {
   "cell_type": "markdown",
   "metadata": {},
   "source": [
    "So `family name` is an attribut but not an attribute name.\n",
    "\n",
    "Also `pandas` has its own syntax for accessing the content of a column, which is robust for\n",
    "all forms of column attributes:"
   ]
  },
  {
   "cell_type": "code",
   "execution_count": 9,
   "metadata": {},
   "outputs": [
    {
     "data": {
      "text/plain": [
       "0    Flintstone\n",
       "1        Rubble\n",
       "2    Flintstone\n",
       "3        Rubble\n",
       "Name: family name, dtype: object"
      ]
     },
     "execution_count": 9,
     "metadata": {},
     "output_type": "execute_result"
    }
   ],
   "source": [
    "df[\"family name\"]"
   ]
  },
  {
   "cell_type": "markdown",
   "metadata": {},
   "source": [
    "Second, among its many methods a `DataFrame` has  is a `.count()` method which by\n",
    "default counts the number of values in each column (the `None` in the `gender` column\n",
    "is understood a non-value so the `gender` column has 1 fewer value than the others)."
   ]
  },
  {
   "cell_type": "code",
   "execution_count": 34,
   "metadata": {},
   "outputs": [
    {
     "data": {
      "text/plain": [
       "name           3\n",
       "gender         4\n",
       "family name    4\n",
       "hobby          4\n",
       "pet            4\n",
       "spouse         4\n",
       "dtype: int64"
      ]
     },
     "execution_count": 34,
     "metadata": {},
     "output_type": "execute_result"
    }
   ],
   "source": [
    "df.count()"
   ]
  },
  {
   "cell_type": "markdown",
   "metadata": {},
   "source": [
    "Since we're going to spend the next three modules working with `numpy` arrays\n",
    "and `pandas` Dataframes, let's zoom on in on another example; the `networkx`\n",
    "module is a large complicated module \n",
    "defining a number of operations and \n",
    "algorithms connected with networks, which\n",
    "are called graphs by mathematicians The\n",
    "key class is the `Graph` class."
   ]
  },
  {
   "cell_type": "code",
   "execution_count": 13,
   "metadata": {},
   "outputs": [],
   "source": [
    "import networkx as nx"
   ]
  },
  {
   "cell_type": "markdown",
   "metadata": {},
   "source": [
    "`networkx` has a vast namespace containing many functions and classes, one of which is\n",
    "`Graph`."
   ]
  },
  {
   "cell_type": "code",
   "execution_count": 14,
   "metadata": {},
   "outputs": [
    {
     "name": "stdout",
     "output_type": "stream",
     "text": [
      "906\n",
      "Graph True\n"
     ]
    }
   ],
   "source": [
    "print(len(dir(nx)))\n",
    "print('Graph', \"Graph\" in dir(nx))"
   ]
  },
  {
   "cell_type": "markdown",
   "metadata": {},
   "source": [
    "We illustrate `Graph` by working a toy example."
   ]
  },
  {
   "cell_type": "code",
   "execution_count": 15,
   "metadata": {},
   "outputs": [],
   "source": [
    "G = nx.Graph()"
   ]
  },
  {
   "cell_type": "code",
   "execution_count": 16,
   "metadata": {},
   "outputs": [
    {
     "data": {
      "text/plain": [
       "<networkx.classes.graph.Graph at 0x7fe15e2c82e8>"
      ]
     },
     "execution_count": 16,
     "metadata": {},
     "output_type": "execute_result"
    }
   ],
   "source": [
    "G"
   ]
  },
  {
   "cell_type": "markdown",
   "metadata": {},
   "source": [
    "`G` is a `Graph` instance with its own set of methods, for instance:"
   ]
  },
  {
   "cell_type": "code",
   "execution_count": 17,
   "metadata": {
    "scrolled": true
   },
   "outputs": [
    {
     "data": {
      "text/plain": [
       "<bound method Graph.neighbors of <networkx.classes.graph.Graph object at 0x7fe15e2c82e8>>"
      ]
     },
     "execution_count": 17,
     "metadata": {},
     "output_type": "execute_result"
    }
   ],
   "source": [
    "G.neighbors"
   ]
  },
  {
   "cell_type": "markdown",
   "metadata": {},
   "source": [
    "Now let's add an edge."
   ]
  },
  {
   "cell_type": "code",
   "execution_count": 18,
   "metadata": {},
   "outputs": [],
   "source": [
    "G.add_edge(2,3)"
   ]
  },
  {
   "cell_type": "markdown",
   "metadata": {},
   "source": [
    "And now a second and then some:"
   ]
  },
  {
   "cell_type": "code",
   "execution_count": 19,
   "metadata": {},
   "outputs": [],
   "source": [
    "G.add_edge(3,1)\n",
    "G.add_edge(1,2)\n",
    "G.add_edge(2,4)\n",
    "G.add_edge(1,5)\n",
    "G.add_edge(2,5)\n",
    "G.add_edge(3,5)\n",
    "G.add_edge(4,5)\n",
    "G.add_edge(4,1)\n",
    "G.add_edge(4,3)"
   ]
  },
  {
   "cell_type": "markdown",
   "metadata": {},
   "source": [
    "Now let's look at the nodes and edges."
   ]
  },
  {
   "cell_type": "code",
   "execution_count": 20,
   "metadata": {},
   "outputs": [
    {
     "data": {
      "text/plain": [
       "NodeView((2, 3, 1, 4, 5))"
      ]
     },
     "execution_count": 20,
     "metadata": {},
     "output_type": "execute_result"
    }
   ],
   "source": [
    "G.nodes()"
   ]
  },
  {
   "cell_type": "code",
   "execution_count": 21,
   "metadata": {},
   "outputs": [
    {
     "data": {
      "text/plain": [
       "EdgeView([(2, 3), (2, 1), (2, 4), (2, 5), (3, 1), (3, 5), (3, 4), (1, 5), (1, 4), (4, 5)])"
      ]
     },
     "execution_count": 21,
     "metadata": {},
     "output_type": "execute_result"
    }
   ],
   "source": [
    "G.edges()"
   ]
  },
  {
   "cell_type": "markdown",
   "metadata": {},
   "source": [
    "Returning to the `neighbors` method: the `neighbors` method takes\n",
    "a node as an argument and returns the nodes that node is connected\n",
    "to in the form of something called an iterator (something we can\n",
    "loop through to actually find the neighbors).  Let's turn the\n",
    "iterator into a list to spell out the neighbors."
   ]
  },
  {
   "cell_type": "code",
   "execution_count": 22,
   "metadata": {
    "scrolled": true
   },
   "outputs": [
    {
     "data": {
      "text/plain": [
       "[3, 1, 4, 5]"
      ]
     },
     "execution_count": 22,
     "metadata": {},
     "output_type": "execute_result"
    }
   ],
   "source": [
    "list(G.neighbors(2))"
   ]
  },
  {
   "cell_type": "markdown",
   "metadata": {},
   "source": [
    "And this is in fact the list of nodes node 2 is connected to."
   ]
  },
  {
   "cell_type": "markdown",
   "metadata": {},
   "source": [
    "What else can you do with a Graph?\n",
    "\n",
    "Well, independent of the vast namespace of `networkx`, `Graph` has its own \n",
    "internal namespace.  For instance:"
   ]
  },
  {
   "cell_type": "code",
   "execution_count": 23,
   "metadata": {},
   "outputs": [
    {
     "data": {
      "text/plain": [
       "['graph_attr_dict_factory',\n",
       " 'has_edge',\n",
       " 'has_node',\n",
       " 'is_directed',\n",
       " 'is_multigraph',\n",
       " 'name',\n",
       " 'nbunch_iter',\n",
       " 'neighbors',\n",
       " 'node_attr_dict_factory',\n",
       " 'node_dict_factory']"
      ]
     },
     "execution_count": 23,
     "metadata": {},
     "output_type": "execute_result"
    }
   ],
   "source": [
    "dir(G)[50:60]"
   ]
  },
  {
   "cell_type": "markdown",
   "metadata": {},
   "source": [
    "One thing you won't find is a draw method.  For that we need to call a function.\n",
    "\n",
    "Here's drawing illustrated."
   ]
  },
  {
   "cell_type": "code",
   "execution_count": 156,
   "metadata": {
    "scrolled": false
   },
   "outputs": [
    {
     "data": {
      "image/png": "[encoded data removed]",
      "text/plain": [
       "<Figure size 432x288 with 1 Axes>"
      ]
     },
     "metadata": {},
     "output_type": "display_data"
    }
   ],
   "source": [
    "nx.draw_networkx(G)"
   ]
  },
  {
   "cell_type": "markdown",
   "metadata": {},
   "source": [
    "Why is drawing\n",
    "a function and not a method?  This has to do with the `networkx` designers' model of how Graphs will\n",
    "be used and it is, frankly,\n",
    "sometimes a matter of designer taste.  Does the term \"drawing\"\n",
    "describe a class\n",
    "of algorithms of various kinds that can be applied to Graphs, or is it an\n",
    "operation structurally intrinsic to Graphs? Arguably it is the former,\n",
    "perhaps even a class of algorithms applicable to a more general class\n",
    "of things than graphs,\n",
    "so it is perhaps viewed as a family of functions, with the one enjoying the status\n",
    "of default drawing algorithm used above."
   ]
  },
  {
   "cell_type": "markdown",
   "metadata": {},
   "source": [
    "## Another custom class example (optional)"
   ]
  },
  {
   "cell_type": "markdown",
   "metadata": {},
   "source": [
    "### The FrenchDeck: A Customized Sequence\n",
    "#### More about dunder methods"
   ]
  },
  {
   "cell_type": "markdown",
   "metadata": {},
   "source": [
    "The following example is from *Fluent Python* by Luciano Ramalho illustrates how you can customize a class to be  a **sequence**.\n",
    "\n",
    "\n",
    "As noted in the `Point` class discussion, \n",
    "Python methods with double underscore (`__`) in their names and special\n",
    "interpretations are called dunder methods.\n",
    "The key to creating a custom sequence type is\n",
    "to  define the dunder methods `__len__` and `__get_item__`.\n",
    "\n"
   ]
  },
  {
   "cell_type": "code",
   "execution_count": 168,
   "metadata": {},
   "outputs": [],
   "source": [
    "import collections\n",
    "\n",
    "Card = collections.namedtuple('Card', ['rank', 'suit'])\n",
    "\n",
    "class FrenchDeck:\n",
    "    ranks = [str(n) for n in range(2, 11)] + list('JQKA')\n",
    "    suits = 'spades diamonds clubs hearts'.split()\n",
    "\n",
    "    def __init__(self):\n",
    "        self._cards = [Card(rank, suit) for suit in self.suits\n",
    "                                        for rank in self.ranks]\n",
    "\n",
    "    def __len__(self):\n",
    "        return len(self._cards)\n",
    "\n",
    "    def __getitem__(self, position):\n",
    "        return self._cards[position]"
   ]
  },
  {
   "cell_type": "code",
   "execution_count": 163,
   "metadata": {},
   "outputs": [],
   "source": [
    "deck = FrenchDeck()"
   ]
  },
  {
   "cell_type": "code",
   "execution_count": 164,
   "metadata": {},
   "outputs": [
    {
     "data": {
      "text/plain": [
       "<__main__.FrenchDeck at 0x7fb730ddc828>"
      ]
     },
     "execution_count": 164,
     "metadata": {},
     "output_type": "execute_result"
    }
   ],
   "source": [
    "deck"
   ]
  },
  {
   "cell_type": "markdown",
   "metadata": {},
   "source": [
    "The following works because the `__len__` method is defined for the class `FrenchDeck`."
   ]
  },
  {
   "cell_type": "code",
   "execution_count": 165,
   "metadata": {
    "scrolled": false
   },
   "outputs": [
    {
     "data": {
      "text/plain": [
       "52"
      ]
     },
     "execution_count": 165,
     "metadata": {},
     "output_type": "execute_result"
    }
   ],
   "source": [
    "len(deck)"
   ]
  },
  {
   "cell_type": "markdown",
   "metadata": {},
   "source": [
    "Note, for example, that `len` is undefined for points."
   ]
  },
  {
   "cell_type": "code",
   "execution_count": 166,
   "metadata": {},
   "outputs": [
    {
     "ename": "TypeError",
     "evalue": "object of type 'Point' has no len()",
     "output_type": "error",
     "traceback": [
      "\u001b[0;31m---------------------------------------------------------------------------\u001b[0m",
      "\u001b[0;31mTypeError\u001b[0m                                 Traceback (most recent call last)",
      "\u001b[0;32m/var/folders/_q/2s1hy5bx1l7f9j1lw9zjgt19_wb463/T/ipykernel_39491/83412706.py\u001b[0m in \u001b[0;36m<module>\u001b[0;34m\u001b[0m\n\u001b[0;32m----> 1\u001b[0;31m \u001b[0mlen\u001b[0m\u001b[0;34m(\u001b[0m\u001b[0mp2\u001b[0m\u001b[0;34m)\u001b[0m\u001b[0;34m\u001b[0m\u001b[0m\n\u001b[0m",
      "\u001b[0;31mTypeError\u001b[0m: object of type 'Point' has no len()"
     ]
    }
   ],
   "source": [
    "len(p2)"
   ]
  },
  {
   "cell_type": "markdown",
   "metadata": {},
   "source": [
    "Similarly, because the `__get_item__` is defined for `FrenchDeck` instances,\n",
    "we can access their elements with positional indexing:"
   ]
  },
  {
   "cell_type": "code",
   "execution_count": 167,
   "metadata": {},
   "outputs": [
    {
     "data": {
      "text/plain": [
       "Card(rank='A', suit='spades')"
      ]
     },
     "execution_count": 167,
     "metadata": {},
     "output_type": "execute_result"
    }
   ],
   "source": [
    "deck[12]"
   ]
  },
  {
   "cell_type": "markdown",
   "metadata": {},
   "source": [
    "To probe this\n",
    "a little further, let's first look at the class found within the FrenchDeck class,\n",
    "cards."
   ]
  },
  {
   "cell_type": "code",
   "execution_count": 65,
   "metadata": {},
   "outputs": [],
   "source": [
    "card1 = Card('J','diamonds')"
   ]
  },
  {
   "cell_type": "code",
   "execution_count": 66,
   "metadata": {
    "scrolled": true
   },
   "outputs": [
    {
     "data": {
      "text/plain": [
       "True"
      ]
     },
     "execution_count": 66,
     "metadata": {},
     "output_type": "execute_result"
    }
   ],
   "source": [
    "isinstance(card1, tuple)"
   ]
  },
  {
   "cell_type": "markdown",
   "metadata": {},
   "source": [
    "A card is just a named tuple, a specialization of the builtin type `tuple` provided\n",
    "by the Python collections module.\n",
    "\n",
    "What's special is that the first and second positions in the 2-tuple have names."
   ]
  },
  {
   "cell_type": "code",
   "execution_count": 61,
   "metadata": {
    "scrolled": false
   },
   "outputs": [
    {
     "data": {
      "text/plain": [
       "Card(rank='J', suit='diamonds')"
      ]
     },
     "execution_count": 61,
     "metadata": {},
     "output_type": "execute_result"
    }
   ],
   "source": [
    "card1 "
   ]
  },
  {
   "cell_type": "markdown",
   "metadata": {},
   "source": [
    "So the tuple can be accessed like this;"
   ]
  },
  {
   "cell_type": "code",
   "execution_count": 54,
   "metadata": {},
   "outputs": [
    {
     "data": {
      "text/plain": [
       "('J', 'diamonds')"
      ]
     },
     "execution_count": 54,
     "metadata": {},
     "output_type": "execute_result"
    }
   ],
   "source": [
    "card1[0],card1[1]"
   ]
  },
  {
   "cell_type": "markdown",
   "metadata": {},
   "source": [
    "or like this:"
   ]
  },
  {
   "cell_type": "code",
   "execution_count": 71,
   "metadata": {},
   "outputs": [
    {
     "data": {
      "text/plain": [
       "('J', 'diamonds')"
      ]
     },
     "execution_count": 71,
     "metadata": {},
     "output_type": "execute_result"
    }
   ],
   "source": [
    "card1.rank,card1.suit"
   ]
  },
  {
   "cell_type": "markdown",
   "metadata": {},
   "source": [
    "As a consequence our `FrenchDeck` class has many of the properties of\n",
    "a list of tuples, because it is defined for `__getitem__` and\n",
    "implements item-getting via the list (`self._cards`)."
   ]
  },
  {
   "cell_type": "markdown",
   "metadata": {},
   "source": [
    "For example, the `FrenchDeck` class works with `in`:"
   ]
  },
  {
   "cell_type": "code",
   "execution_count": 39,
   "metadata": {
    "scrolled": false
   },
   "outputs": [
    {
     "data": {
      "text/plain": [
       "True"
      ]
     },
     "execution_count": 39,
     "metadata": {},
     "output_type": "execute_result"
    }
   ],
   "source": [
    "card1 in deck"
   ]
  },
  {
   "cell_type": "markdown",
   "metadata": {},
   "source": [
    "It can also be sliced and looped through like a list."
   ]
  },
  {
   "cell_type": "code",
   "execution_count": 59,
   "metadata": {},
   "outputs": [
    {
     "name": "stdout",
     "output_type": "stream",
     "text": [
      "Card(rank='4', suit='diamonds')\n",
      "Card(rank='5', suit='diamonds')\n",
      "Card(rank='6', suit='diamonds')\n",
      "Card(rank='7', suit='diamonds')\n",
      "Card(rank='8', suit='diamonds')\n"
     ]
    }
   ],
   "source": [
    "for cd in deck[15:20]:\n",
    "    print(cd)"
   ]
  },
  {
   "cell_type": "markdown",
   "metadata": {},
   "source": [
    "The for-loop works because for any class defined for `__getitem__` but not\n",
    "`__iter__`, Python tries to loop by using successively higher numerical\n",
    "indices, and we have set things up in `__getitem__` so that that works.\n",
    "\n",
    "Warning: This feature can bite you, especially if you're not thinking about\n",
    "it.   Consider the following silly but seemingly harmless class definition.\n",
    "\n",
    "```\n",
    "class Foo:\n",
    "\n",
    "   def __init__ (self, a):\n",
    "       self.a = a\n",
    "       \n",
    "   def __getitem__(self, b):\n",
    "       return self.a\n",
    " \n",
    "\n",
    ">>> f = Foo(1)\n",
    ">>> f[0], f[1]\n",
    "(1,1)\n",
    ">>> 1 in f\n",
    "True\n",
    "```\n",
    "\n",
    "So we seem to have defined a container that\n",
    "contains 1 in every position. Odd, but surely coherent.\n",
    "\n",
    "\n",
    "But now we try:\n",
    "\n",
    "```\n",
    ">>> 2 in f\n",
    "...\n",
    "```\n",
    "\n",
    "This seemingless harmless `in` request does not return `False`\n",
    "or raise an error; it sends you into\n",
    "an infinite loop.  This is because this call to `in` is a request \n",
    "to iterate through `f` seeking something equal to `2`.  So Python\n",
    "tries the indices 0,1,2,3,... always returning 1 and having\n",
    "no way to stop iterating.\n",
    "\n",
    "So when implementing `__getitem__` either define an `__iter__` method\n",
    "explicitly with some way to stop built in or delegate to something\n",
    "that has criteria for stopping the iteration, as in the definition\n",
    "of `FrenchDeck`, where `__getitem__` delegates the work to a list."
   ]
  },
  {
   "cell_type": "markdown",
   "metadata": {
    "collapsed": true
   },
   "source": [
    "Optional exercise.  Implement a random shuffle method for `FrenchDeck`,  Use\n",
    "`shuffle` from the `random` module.  Make sure that everything that worked before \n",
    "still works."
   ]
  },
  {
   "cell_type": "code",
   "execution_count": null,
   "metadata": {},
   "outputs": [],
   "source": []
  }
 ],
 "metadata": {
  "kernelspec": {
   "display_name": "Python 3 (ipykernel)",
   "language": "python",
   "name": "python3"
  },
  "language_info": {
   "codemirror_mode": {
    "name": "ipython",
    "version": 3
   },
   "file_extension": ".py",
   "mimetype": "text/x-python",
   "name": "python",
   "nbconvert_exporter": "python",
   "pygments_lexer": "ipython3",
   "version": "3.12.5"
  },
  "toc": {
   "base_numbering": 1,
   "nav_menu": {
    "height": "12px",
    "width": "252px"
   },
   "number_sections": true,
   "sideBar": true,
   "skip_h1_title": false,
   "title_cell": "Table of Contents",
   "title_sidebar": "Contents",
   "toc_cell": false,
   "toc_position": {},
   "toc_section_display": "block",
   "toc_window_display": false
  }
 },
 "nbformat": 4,
 "nbformat_minor": 2
}
