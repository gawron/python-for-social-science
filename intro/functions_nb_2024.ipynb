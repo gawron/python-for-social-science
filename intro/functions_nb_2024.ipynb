{
 "cells": [
  {
   "cell_type": "markdown",
   "metadata": {
    "id": "tSv87EV-xAG0"
   },
   "source": [
    "# Functions, types, loops"
   ]
  },
  {
   "cell_type": "markdown",
   "metadata": {
    "id": "PnY1D2giRj9_"
   },
   "source": [
    "Prerequisites:  In this notebook we assume you've been introduced to loop constructions\n",
    "andf function definitions in Python by reading the text.\n",
    "\n",
    "We'll begin with a brief review of ideas from the last module **python types**\n",
    "that are most relevant to this notebook.\n"
   ]
  },
  {
   "cell_type": "markdown",
   "metadata": {
    "id": "SoQbqypGxjTm"
   },
   "source": [
    "## Review of container-accessing operations"
   ]
  },
  {
   "cell_type": "markdown",
   "metadata": {
    "id": "0UQLu8BwxAG1"
   },
   "source": [
    "### Exercise 1"
   ]
  },
  {
   "cell_type": "markdown",
   "metadata": {
    "id": "l48lELRMxAG2"
   },
   "source": [
    "Add a line of code that will generate the give output::\n",
    "\n",
    "     In [ ]: a_list = [2,7,8, 19]\n",
    "             Your code\n",
    "     Out [ ]: 2\n",
    "     \n",
    "NOTE: The idea of this kind of exercise is to write a line of code\n",
    "that will produce the given output, 2 in this case.  Your\n",
    "answer goes in the next cell, which is a code cell.  It should this be an\n",
    "expression that operates on `a_list`.  A simple correct answer is:\n",
    "\n",
    "     In [ ]: a_list = [2,7,8, 19]\n",
    "             a_list[0]\n",
    "     Out [ ]: 2\n",
    "     \n",
    "Don't forget to evaluate the cell after you've written in your answer to generate Python's output and check your answer!\n"
   ]
  },
  {
   "cell_type": "code",
   "execution_count": null,
   "metadata": {
    "id": "aVZ_ApYFxAG2"
   },
   "outputs": [],
   "source": [
    "# Your code here"
   ]
  },
  {
   "cell_type": "markdown",
   "metadata": {
    "id": "iq05X7y9xAG8"
   },
   "source": [
    "### Exercise 2"
   ]
  },
  {
   "cell_type": "markdown",
   "metadata": {
    "id": "23GlIMl0xAG9"
   },
   "source": [
    "  Write a line of code that produces the given output::\n",
    "   \n",
    "    In [ ]: a_list = ['sid','nancy','paul','ringo']\n",
    "             YOUR CODE HERE\n",
    "    Out [ ]: 'paul'"
   ]
  },
  {
   "cell_type": "code",
   "execution_count": 2,
   "metadata": {
    "id": "XxmKSWwZxAG9"
   },
   "outputs": [],
   "source": [
    "a_list = ['sid','nancy','paul','ringo']"
   ]
  },
  {
   "cell_type": "code",
   "execution_count": 3,
   "metadata": {
    "colab": {
     "base_uri": "https://localhost:8080/",
     "height": 35
    },
    "id": "yTquUfsgxAG_",
    "outputId": "f8f0f021-be93-41fb-aa1b-5f6e252ddbd2"
   },
   "outputs": [
    {
     "data": {
      "text/plain": [
       "'paul'"
      ]
     },
     "execution_count": 3,
     "metadata": {},
     "output_type": "execute_result"
    }
   ],
   "source": []
  },
  {
   "cell_type": "markdown",
   "metadata": {
    "id": "KkWSQOcvxAHB"
   },
   "source": [
    "### Exercise 3"
   ]
  },
  {
   "cell_type": "markdown",
   "metadata": {
    "id": "Jjf0RWxQxAHC"
   },
   "source": [
    " Write a line of code that produces the given output:\n",
    "   \n",
    "     In [ ]: a_list = ['sid','nancy','paul','ringo']\n",
    "           YOUR CODE HERE\n",
    "     Out [ ]: ['nancy','paul']\n"
   ]
  },
  {
   "cell_type": "code",
   "execution_count": 4,
   "metadata": {
    "colab": {
     "base_uri": "https://localhost:8080/",
     "height": 34
    },
    "id": "_850YLm3xAHC",
    "outputId": "fa7d52ba-d0d8-4d37-ecf4-ac2ebb18d576"
   },
   "outputs": [
    {
     "data": {
      "text/plain": [
       "['nancy', 'paul']"
      ]
     },
     "execution_count": 4,
     "metadata": {},
     "output_type": "execute_result"
    }
   ],
   "source": [
    "a_list = ['sid','nancy','paul','ringo']\n",
    "#Write your answer below thi"
   ]
  },
  {
   "cell_type": "markdown",
   "metadata": {
    "id": "zOE_-spix6FA"
   },
   "source": [
    "## Loops"
   ]
  },
  {
   "cell_type": "markdown",
   "metadata": {
    "id": "WhzeJOD6xAHE"
   },
   "source": [
    "### Exercise 4:  Mapping title case"
   ]
  },
  {
   "cell_type": "markdown",
   "metadata": {
    "id": "Qs1V-5B1xAHE"
   },
   "source": [
    "Write a line of code that produces the given output:\n",
    "\n",
    "```\n",
    "In [ ]: a_list = ['sid','nancy','paul','ringo']\n",
    "        YOUR CODE HERE\n",
    "Out [ ]: ['Sid','Nancy','Paul','Ringo']\n",
    "```"
   ]
  },
  {
   "cell_type": "markdown",
   "metadata": {
    "id": "k-BgPopdyr7O"
   },
   "source": [
    "Here are some hints.  It's easy to capitalize a string."
   ]
  },
  {
   "cell_type": "code",
   "execution_count": null,
   "metadata": {
    "colab": {
     "base_uri": "https://localhost:8080/",
     "height": 35
    },
    "id": "naf2B8VcygYX",
    "outputId": "873b0937-991b-4a94-f9b9-e28829cadc90",
    "scrolled": true
   },
   "outputs": [
    {
     "data": {
      "text/plain": [
       "('Sid', 'The Rain In Spain Falls Mainly On The Plain')"
      ]
     },
     "execution_count": 1,
     "metadata": {},
     "output_type": "execute_result"
    }
   ],
   "source": [
    "'sid'.title(), 'the rain in spain falls mainly on the plain'.title()"
   ]
  },
  {
   "cell_type": "markdown",
   "metadata": {
    "id": "4KhQTrWExAHO"
   },
   "source": [
    "But `.title()` is a method on strings, and it won't work on lists."
   ]
  },
  {
   "cell_type": "code",
   "execution_count": null,
   "metadata": {
    "colab": {
     "base_uri": "https://localhost:8080/",
     "height": 181
    },
    "id": "FOUNlKVGxAHP",
    "outputId": "c7ef5703-2759-4a6f-87f4-2ff960875a74",
    "scrolled": true
   },
   "outputs": [
    {
     "ename": "AttributeError",
     "evalue": "ignored",
     "output_type": "error",
     "traceback": [
      "\u001b[0;31m---------------------------------------------------------------------------\u001b[0m",
      "\u001b[0;31mAttributeError\u001b[0m                            Traceback (most recent call last)",
      "\u001b[0;32m<ipython-input-10-96be30fb4f05>\u001b[0m in \u001b[0;36m<module>\u001b[0;34m()\u001b[0m\n\u001b[1;32m      1\u001b[0m \u001b[0ma_list\u001b[0m \u001b[0;34m=\u001b[0m \u001b[0;34m[\u001b[0m\u001b[0;34m'sid'\u001b[0m\u001b[0;34m,\u001b[0m\u001b[0;34m'nancy'\u001b[0m\u001b[0;34m,\u001b[0m\u001b[0;34m'paul'\u001b[0m\u001b[0;34m,\u001b[0m\u001b[0;34m'ringo'\u001b[0m\u001b[0;34m]\u001b[0m\u001b[0;34m\u001b[0m\u001b[0;34m\u001b[0m\u001b[0m\n\u001b[0;32m----> 2\u001b[0;31m \u001b[0ma_list\u001b[0m\u001b[0;34m.\u001b[0m\u001b[0mtitle\u001b[0m\u001b[0;34m(\u001b[0m\u001b[0;34m)\u001b[0m\u001b[0;34m\u001b[0m\u001b[0;34m\u001b[0m\u001b[0m\n\u001b[0m",
      "\u001b[0;31mAttributeError\u001b[0m: 'list' object has no attribute 'title'"
     ]
    }
   ],
   "source": [
    "a_list = ['sid','nancy','paul','ringo']\n",
    "a_list.title()"
   ]
  },
  {
   "cell_type": "markdown",
   "metadata": {
    "id": "XS--SjlpRj-C"
   },
   "source": [
    "Notice that this makes **sense** if we think about the job a method is supposed to do.\n",
    "\n",
    "Strings are the sort of thing you can add title case to.\n",
    "Lists on the other hand may have arbitary elements, so defining a title case operatioon might be **possible**\n",
    "(we'd have to check if it was a list of **strings**), but it doesn't make sense to define title-casing as a general\n",
    "property of lists."
   ]
  },
  {
   "cell_type": "markdown",
   "metadata": {
    "id": "zIKh9o6syzX3"
   },
   "source": [
    "So do we do if we do have a list of strings and we want to add title to each string.\n",
    "Well the string method\n",
    "`.title()` will do exactly what we want if it is applied to each element in the list.  So\n",
    "we need a **loop** that will apply `.title()` to each element in the list and collect the results."
   ]
  },
  {
   "cell_type": "markdown",
   "metadata": {
    "id": "E1TpsDMpxAHF"
   },
   "source": [
    "If you're not using a list comprehension as your loop, try an answer with this format.  Insert a `for`-loop where it says \"#Your code below here\""
   ]
  },
  {
   "cell_type": "code",
   "execution_count": 3,
   "metadata": {},
   "outputs": [
    {
     "data": {
      "text/plain": [
       "'Sid'"
      ]
     },
     "execution_count": 3,
     "metadata": {},
     "output_type": "execute_result"
    }
   ],
   "source": [
    "\"sid\".title()"
   ]
  },
  {
   "cell_type": "code",
   "execution_count": 7,
   "metadata": {
    "colab": {
     "base_uri": "https://localhost:8080/"
    },
    "id": "5b0dKoo_xAHG",
    "outputId": "1f3e5dc9-b292-4966-c9a8-4152f494a6d7"
   },
   "outputs": [
    {
     "data": {
      "text/plain": [
       "['Sid', 'Nancy', 'Paul', 'Ringo']"
      ]
     },
     "execution_count": 7,
     "metadata": {},
     "output_type": "execute_result"
    }
   ],
   "source": [
    "a_list = ['sid','nancy','paul','ringo']\n",
    "new_list = []\n",
    "# Your code below here\n",
    "for x in a_list:\n",
    "    new_list.append(x.title())\n",
    "new_list"
   ]
  },
  {
   "cell_type": "code",
   "execution_count": 5,
   "metadata": {},
   "outputs": [
    {
     "data": {
      "text/plain": [
       "['sid', 'nancy', 'paul', 'ringo']"
      ]
     },
     "execution_count": 5,
     "metadata": {},
     "output_type": "execute_result"
    }
   ],
   "source": [
    "a_list"
   ]
  },
  {
   "cell_type": "markdown",
   "metadata": {
    "id": "HxeLKKKDxAHJ"
   },
   "source": [
    "If you are using a list comprehension, your answer will have this format."
   ]
  },
  {
   "cell_type": "code",
   "execution_count": null,
   "metadata": {
    "id": "oocOxj1fxAHJ"
   },
   "outputs": [],
   "source": [
    "a_list = ['sid','nancy','paul','ringo']\n",
    "#Your list comprehension code below here inside the square brackets\n",
    "new_list = [...   for x in ...]\n",
    "new_list"
   ]
  },
  {
   "cell_type": "code",
   "execution_count": 13,
   "metadata": {
    "id": "LQdwJGHKRj-C"
   },
   "outputs": [
    {
     "ename": "SyntaxError",
     "evalue": "invalid syntax. Maybe you meant '==' or ':=' instead of '='? (1715093211.py, line 1)",
     "output_type": "error",
     "traceback": [
      "\u001b[0;36m  Cell \u001b[0;32mIn[13], line 1\u001b[0;36m\u001b[0m\n\u001b[0;31m    [x = 5 for x in a_list]\u001b[0m\n\u001b[0m     ^\u001b[0m\n\u001b[0;31mSyntaxError\u001b[0m\u001b[0;31m:\u001b[0m invalid syntax. Maybe you meant '==' or ':=' instead of '='?\n"
     ]
    }
   ],
   "source": [
    "[x = 5 for x in a_list]"
   ]
  },
  {
   "cell_type": "code",
   "execution_count": 11,
   "metadata": {
    "id": "JaeVxQR5Rj-C"
   },
   "outputs": [
    {
     "data": {
      "text/plain": [
       "'Sid'"
      ]
     },
     "execution_count": 11,
     "metadata": {},
     "output_type": "execute_result"
    }
   ],
   "source": [
    "\"sid\".title()"
   ]
  },
  {
   "cell_type": "code",
   "execution_count": 12,
   "metadata": {
    "id": "hSbgahyyRj-C"
   },
   "outputs": [],
   "source": [
    "X = 5"
   ]
  },
  {
   "cell_type": "code",
   "execution_count": 15,
   "metadata": {
    "id": "QCyJNpooRj-C"
   },
   "outputs": [
    {
     "data": {
      "text/plain": [
       "{'fred': 'ginger', 'ginger': 'fred'}"
      ]
     },
     "execution_count": 15,
     "metadata": {},
     "output_type": "execute_result"
    }
   ],
   "source": [
    "dd = {}\n",
    "dd[\"fred\"] = 'ginger'\n",
    "dd['ginger'] = 'fred'\n",
    "dd"
   ]
  },
  {
   "cell_type": "code",
   "execution_count": 16,
   "metadata": {
    "id": "_H0DHkauRj-C"
   },
   "outputs": [
    {
     "data": {
      "text/plain": [
       "{}"
      ]
     },
     "execution_count": 16,
     "metadata": {},
     "output_type": "execute_result"
    }
   ],
   "source": [
    "del dd['fred']\n",
    "del dd['ginger']\n",
    "dd"
   ]
  },
  {
   "cell_type": "code",
   "execution_count": 17,
   "metadata": {},
   "outputs": [
    {
     "data": {
      "text/plain": [
       "7"
      ]
     },
     "execution_count": 17,
     "metadata": {},
     "output_type": "execute_result"
    }
   ],
   "source": [
    "3 + 4"
   ]
  },
  {
   "cell_type": "markdown",
   "metadata": {
    "id": "Xlbst2umRj-C"
   },
   "source": [
    "`For`-loop solution:"
   ]
  },
  {
   "cell_type": "code",
   "execution_count": null,
   "metadata": {
    "id": "oELvfuGoRj-C",
    "outputId": "64da53b9-7592-476f-fc99-d707a2912dc6"
   },
   "outputs": [
    {
     "data": {
      "text/plain": [
       "['Sid', 'Nancy', 'Paul', 'Ringo']"
      ]
     },
     "execution_count": 2,
     "metadata": {},
     "output_type": "execute_result"
    }
   ],
   "source": [
    "a_list = ['sid','nancy','paul','ringo']\n",
    "new_list = []\n",
    "# Your code below here\n",
    "for x in a_list:\n",
    "    new_list.append(x.title())\n",
    "new_list"
   ]
  },
  {
   "cell_type": "markdown",
   "metadata": {
    "id": "1ZZAkqWARj-D"
   },
   "source": [
    "List-comprehension solution."
   ]
  },
  {
   "cell_type": "code",
   "execution_count": null,
   "metadata": {
    "id": "MsjRaI4-Rj-D",
    "outputId": "114c47e3-ca5f-46b9-d64f-db85ef8f2959"
   },
   "outputs": [
    {
     "data": {
      "text/plain": [
       "['Sid', 'Nancy', 'Paul', 'Ringo']"
      ]
     },
     "execution_count": 3,
     "metadata": {},
     "output_type": "execute_result"
    }
   ],
   "source": [
    "new_list = [x.title() for x in a_list]\n",
    "new_list"
   ]
  },
  {
   "cell_type": "markdown",
   "metadata": {
    "id": "uTptaU-dRj-D"
   },
   "source": [
    "Note: For long time Python users, `map` is also possible"
   ]
  },
  {
   "cell_type": "code",
   "execution_count": null,
   "metadata": {
    "id": "GWMapeFhRj-G",
    "outputId": "1267c4fe-b07d-41e9-dd5f-b28daf077e30"
   },
   "outputs": [
    {
     "data": {
      "text/plain": [
       "['Sid', 'Nancy', 'Paul', 'Ringo']"
      ]
     },
     "execution_count": 7,
     "metadata": {},
     "output_type": "execute_result"
    }
   ],
   "source": [
    "list(map(str.title, a_list))"
   ]
  },
  {
   "cell_type": "markdown",
   "metadata": {
    "id": "WquVf-lmxAHg"
   },
   "source": [
    "### Exercise 5:  Reversing sequences"
   ]
  },
  {
   "cell_type": "markdown",
   "metadata": {
    "id": "4h63IwzTxAHh"
   },
   "source": [
    "Write a line of code that produces the given output:\n",
    "\n",
    "```\n",
    "In [ ]: a_list = ['sid','nancy','paul','ringo']\n",
    "        YOUR CODE HERE\n",
    "Out [ ]: ['Ringo', 'Paul', 'Nancy', 'Sid']\n",
    "```\n",
    "    \n",
    "Hint: Try combining a list comprehension with a list reversal"
   ]
  },
  {
   "cell_type": "code",
   "execution_count": null,
   "metadata": {
    "colab": {
     "base_uri": "https://localhost:8080/",
     "height": 34
    },
    "id": "MBFNAJ1kxAHh",
    "outputId": "6a66e747-2dc4-4a38-eb77-288615cf0016"
   },
   "outputs": [
    {
     "name": "stdout",
     "output_type": "stream",
     "text": [
      "['ringo', 'paul', 'nancy', 'sid']\n",
      "None\n"
     ]
    }
   ],
   "source": [
    "a_list = ['sid','nancy','paul','ringo']\n",
    "Y = a_list.reverse()\n",
    "print(a_list)\n",
    "print(Y)"
   ]
  },
  {
   "cell_type": "code",
   "execution_count": 27,
   "metadata": {},
   "outputs": [
    {
     "data": {
      "text/plain": [
       "'jaws'"
      ]
     },
     "execution_count": 27,
     "metadata": {},
     "output_type": "execute_result"
    }
   ],
   "source": [
    "\"swaj\"[::-1]"
   ]
  },
  {
   "cell_type": "markdown",
   "metadata": {
    "id": "HJF4NqqXRj-G"
   },
   "source": [
    "The `.reverse()` method returns `None`.\n",
    "\n",
    "This is because it updates (destructively modifies) `a_list`, so its\n",
    "effects are observed by inspecting `a_list`.  What it actually returns\n",
    "is of no interest and the convention in Python is that when a value\n",
    "is of no interest (irrelevant), it is `None`.\n",
    "\n",
    "Now there is a way to produce a new list that is the reverse of\n",
    "`a_list`, a way that leaves `a_list` unchanged.  That is to\n",
    "use a slice with a step value of -1.\n",
    "\n",
    "Illustrating step values, and especially negative step values"
   ]
  },
  {
   "cell_type": "code",
   "execution_count": 28,
   "metadata": {
    "id": "fUTqh4hPRj-G",
    "outputId": "e38b1248-bda9-4035-f89d-19ba171b9d64"
   },
   "outputs": [
    {
     "name": "stdout",
     "output_type": "stream",
     "text": [
      "acegi\n",
      "ceg\n",
      "ihgfedcba\n"
     ]
    }
   ],
   "source": [
    "print('abcdefghi'[::2])\n",
    "print('abcdefghi'[2:8:2])\n",
    "print('abcdefghi'[::-1])"
   ]
  },
  {
   "cell_type": "code",
   "execution_count": 29,
   "metadata": {
    "id": "EOhtKBSERj-G",
    "outputId": "06aa2885-37fd-4b57-db4f-8376e4a5111e"
   },
   "outputs": [
    {
     "name": "stdout",
     "output_type": "stream",
     "text": [
      "['sid', 'nancy', 'paul', 'ringo']\n",
      "['sid', 'paul']\n",
      "['paul']\n",
      "['ringo', 'paul', 'nancy', 'sid']\n"
     ]
    }
   ],
   "source": [
    "print(a_list)\n",
    "print(a_list[::2])\n",
    "print(a_list[2:5:2])\n",
    "print(a_list[::-1])"
   ]
  },
  {
   "cell_type": "code",
   "execution_count": null,
   "metadata": {
    "id": "BRVcLHgURj-G",
    "outputId": "c00feab9-aa19-4c6f-eea3-97be00fb1075"
   },
   "outputs": [
    {
     "name": "stdout",
     "output_type": "stream",
     "text": [
      "['ringo', 'paul', 'nancy', 'sid']\n",
      "['sid', 'nancy', 'paul', 'ringo']\n"
     ]
    }
   ],
   "source": [
    "Y = a_list[::-1]\n",
    "print(a_list)\n",
    "print(Y)"
   ]
  },
  {
   "cell_type": "markdown",
   "metadata": {
    "id": "_z7Axl4gRj-G"
   },
   "source": [
    "Strings do not have a `.reverse()` method.  But reversal can still be\n",
    "accomplished through a splice that has a `-1` step-size.  Since\n",
    "splicing works the same for all sequences, this has the appeal of generality: It works for lists, tuples, and strings."
   ]
  },
  {
   "cell_type": "code",
   "execution_count": null,
   "metadata": {
    "colab": {
     "base_uri": "https://localhost:8080/",
     "height": 35
    },
    "id": "9jEwHJ_QxAHk",
    "outputId": "79f26d60-79b4-4087-d7ba-d72194d5391f"
   },
   "outputs": [
    {
     "data": {
      "text/plain": [
       "'zyxwvutsrqponmlkjihgfedcba'"
      ]
     },
     "execution_count": 1,
     "metadata": {},
     "output_type": "execute_result"
    }
   ],
   "source": [
    "X = 'abcdefghijklmnopqrstuvwxyz'\n",
    "X[::-1]"
   ]
  },
  {
   "cell_type": "code",
   "execution_count": 20,
   "metadata": {
    "colab": {
     "base_uri": "https://localhost:8080/",
     "height": 34
    },
    "id": "FRXg89mDxAHm",
    "outputId": "b17b81fe-a1ae-471d-f55f-cecb48fc97c7"
   },
   "outputs": [
    {
     "data": {
      "text/plain": [
       "[]"
      ]
     },
     "execution_count": 20,
     "metadata": {},
     "output_type": "execute_result"
    }
   ],
   "source": [
    "a_list = ['sid','nancy','paul','ringo']\n",
    "new_list = []\n",
    "# Your code her\n",
    "new_list"
   ]
  },
  {
   "cell_type": "code",
   "execution_count": 22,
   "metadata": {},
   "outputs": [
    {
     "data": {
      "text/plain": [
       "['Sid', 'Nancy', 'Paul', 'Ringo']"
      ]
     },
     "execution_count": 22,
     "metadata": {},
     "output_type": "execute_result"
    }
   ],
   "source": [
    "#a_list.reverse()\n",
    "[x.title() for x in a_list[::-1]]"
   ]
  },
  {
   "cell_type": "markdown",
   "metadata": {
    "id": "cKGaMiWp3gZw"
   },
   "source": [
    "## Boolean tests"
   ]
  },
  {
   "cell_type": "code",
   "execution_count": 2,
   "metadata": {
    "id": "qYS4am5dRj-G",
    "outputId": "7ecec342-62e9-4967-a26c-efe0eb5a38b8"
   },
   "outputs": [
    {
     "name": "stdout",
     "output_type": "stream",
     "text": [
      "True\n"
     ]
    }
   ],
   "source": [
    "X=5\n",
    "print(X == 5)"
   ]
  },
  {
   "cell_type": "code",
   "execution_count": 26,
   "metadata": {},
   "outputs": [
    {
     "data": {
      "text/plain": [
       "(bool, bool)"
      ]
     },
     "execution_count": 26,
     "metadata": {},
     "output_type": "execute_result"
    }
   ],
   "source": [
    "type(True),type(False)"
   ]
  },
  {
   "cell_type": "code",
   "execution_count": 5,
   "metadata": {},
   "outputs": [],
   "source": [
    "Y = (X==5)"
   ]
  },
  {
   "cell_type": "code",
   "execution_count": 4,
   "metadata": {},
   "outputs": [
    {
     "data": {
      "text/plain": [
       "True"
      ]
     },
     "execution_count": 4,
     "metadata": {},
     "output_type": "execute_result"
    }
   ],
   "source": [
    "Y"
   ]
  },
  {
   "cell_type": "markdown",
   "metadata": {
    "id": "2GfVpyjKxAHv"
   },
   "source": [
    "#### Exercise 6:  Conditional branches"
   ]
  },
  {
   "cell_type": "markdown",
   "metadata": {
    "id": "8sHJtFgrxAHw"
   },
   "source": [
    "Write a line of code that will return True when applied to X.  There are of course many good answers:\n",
    "\n",
    "    In [ ]: X = 'ringo'\n",
    "            YOUR CODE GOES HERE\n",
    "    Out [ ]: True\n",
    "            "
   ]
  },
  {
   "cell_type": "code",
   "execution_count": 32,
   "metadata": {},
   "outputs": [
    {
     "data": {
      "text/plain": [
       "True"
      ]
     },
     "execution_count": 32,
     "metadata": {},
     "output_type": "execute_result"
    }
   ],
   "source": [
    "X = 'ringo'\n",
    "#X=='ringo'\n",
    "#type(X)  == str\n",
    "#X[0]  == 'r'\n",
    "len(X) > 4"
   ]
  },
  {
   "cell_type": "markdown",
   "metadata": {
    "id": "jCv8rX0sxAHw"
   },
   "source": [
    "Write a line of code that will return False when applied to X:\n",
    "\n",
    "    In [ ]: X = 'ringo'\n",
    "            YOUR CODE GOES HERE\n",
    "    Out [ ]: False\n",
    "            "
   ]
  },
  {
   "cell_type": "code",
   "execution_count": 43,
   "metadata": {
    "id": "40Hx7aaTxAHx"
   },
   "outputs": [
    {
     "data": {
      "text/plain": [
       "True"
      ]
     },
     "execution_count": 43,
     "metadata": {},
     "output_type": "execute_result"
    }
   ],
   "source": [
    "X = 'ringo'\n",
    "# Your code below here."
   ]
  },
  {
   "cell_type": "markdown",
   "metadata": {
    "id": "b8r0cL7oxAHy"
   },
   "source": [
    "### Exercise 7: Conditional branches continued"
   ]
  },
  {
   "cell_type": "markdown",
   "metadata": {
    "id": "kqMI78d2xAHz"
   },
   "source": [
    "Write an `if` statement (4 lines of code) that will print \"Branch 1\" for the first value of X; and \"branch2\" for the second value of X::\n",
    "    \n",
    "X = 'ringo'\n",
    "\n",
    "YOUR IF-ELSE STATEMENT GOES HERE IT SHOULD PRINT `\"Branch 1\"`\n",
    "\n",
    "X = 'paul'\n",
    "\n",
    "COPY & PASTE THE SAME IF-ELSE STATEMENT HERE  IT SHOULD PRINT `\"Branch 2\"`\n",
    "    \n",
    "Hence the output from executing the cell above is just the two things that were printed\n",
    "\n",
    "    Out [ ]: Branch 1\n",
    "             Branch 2\n",
    "             \n",
    "Note there's more than one way to get this right.  Bear that in mind when you get to the next problem,\n",
    "which will use the code you've written in this section.\n",
    "\n",
    "It may be that you'll have to re think how you did this problem when you get to the next one."
   ]
  },
  {
   "cell_type": "code",
   "execution_count": null,
   "metadata": {},
   "outputs": [],
   "source": [
    "\n",
    "    "
   ]
  },
  {
   "cell_type": "code",
   "execution_count": null,
   "metadata": {},
   "outputs": [],
   "source": []
  },
  {
   "cell_type": "code",
   "execution_count": null,
   "metadata": {},
   "outputs": [],
   "source": []
  },
  {
   "cell_type": "code",
   "execution_count": null,
   "metadata": {},
   "outputs": [],
   "source": []
  },
  {
   "cell_type": "code",
   "execution_count": null,
   "metadata": {},
   "outputs": [],
   "source": []
  },
  {
   "cell_type": "code",
   "execution_count": null,
   "metadata": {},
   "outputs": [],
   "source": []
  },
  {
   "cell_type": "code",
   "execution_count": null,
   "metadata": {},
   "outputs": [],
   "source": []
  },
  {
   "cell_type": "code",
   "execution_count": null,
   "metadata": {},
   "outputs": [],
   "source": []
  },
  {
   "cell_type": "code",
   "execution_count": null,
   "metadata": {},
   "outputs": [],
   "source": []
  },
  {
   "cell_type": "code",
   "execution_count": null,
   "metadata": {},
   "outputs": [],
   "source": []
  },
  {
   "cell_type": "code",
   "execution_count": null,
   "metadata": {},
   "outputs": [],
   "source": []
  },
  {
   "cell_type": "code",
   "execution_count": null,
   "metadata": {},
   "outputs": [],
   "source": []
  },
  {
   "cell_type": "code",
   "execution_count": null,
   "metadata": {},
   "outputs": [],
   "source": []
  },
  {
   "cell_type": "code",
   "execution_count": null,
   "metadata": {},
   "outputs": [],
   "source": []
  },
  {
   "cell_type": "code",
   "execution_count": 36,
   "metadata": {
    "id": "NH6ZjzBSxAHz"
   },
   "outputs": [
    {
     "name": "stdout",
     "output_type": "stream",
     "text": [
      "Branch 1\n",
      "Branch 2\n"
     ]
    }
   ],
   "source": [
    "X = 'ringo'\n",
    "# Your code below HERE\n",
    "if  X==\"ringo\":\n",
    "    print(\"Branch 1\")\n",
    "else:\n",
    "    print(\"Branch 2\")\n",
    "X = 'paul'\n",
    "if  X==\"ringo\":\n",
    "    print(\"Branch 1\")\n",
    "else:\n",
    "    print(\"Branch 2\")\n",
    "# Exactly the SAME code below here\n"
   ]
  },
  {
   "cell_type": "markdown",
   "metadata": {
    "id": "qYLPRhpzxAH1"
   },
   "source": [
    "In the previous cell you wrote some code.  In this cell you package it into a function definition.\n",
    "\n",
    "Write a **function** called `find_branch` that prints `Branch 1` when applied to `ringo` and `Branch 2` when applied to `paul`.  For any other input it should print nothing.  To get this behavior, you may be able to use the same conditional you used above, or you may have to modify it.\n",
    "\n",
    "Create a new cell and **test** your function in the new cell."
   ]
  },
  {
   "cell_type": "code",
   "execution_count": null,
   "metadata": {},
   "outputs": [],
   "source": [
    "def find_branch (Y): \n",
    "    ## Your code here\n",
    "    pass"
   ]
  },
  {
   "cell_type": "code",
   "execution_count": null,
   "metadata": {},
   "outputs": [],
   "source": []
  },
  {
   "cell_type": "code",
   "execution_count": null,
   "metadata": {},
   "outputs": [],
   "source": []
  },
  {
   "cell_type": "code",
   "execution_count": null,
   "metadata": {},
   "outputs": [],
   "source": []
  },
  {
   "cell_type": "code",
   "execution_count": null,
   "metadata": {},
   "outputs": [],
   "source": []
  },
  {
   "cell_type": "code",
   "execution_count": null,
   "metadata": {},
   "outputs": [],
   "source": []
  },
  {
   "cell_type": "code",
   "execution_count": null,
   "metadata": {},
   "outputs": [],
   "source": []
  },
  {
   "cell_type": "code",
   "execution_count": null,
   "metadata": {},
   "outputs": [],
   "source": []
  },
  {
   "cell_type": "code",
   "execution_count": null,
   "metadata": {},
   "outputs": [],
   "source": []
  },
  {
   "cell_type": "code",
   "execution_count": null,
   "metadata": {},
   "outputs": [],
   "source": []
  },
  {
   "cell_type": "code",
   "execution_count": null,
   "metadata": {},
   "outputs": [],
   "source": []
  },
  {
   "cell_type": "code",
   "execution_count": null,
   "metadata": {},
   "outputs": [],
   "source": []
  },
  {
   "cell_type": "code",
   "execution_count": null,
   "metadata": {},
   "outputs": [],
   "source": []
  },
  {
   "cell_type": "code",
   "execution_count": null,
   "metadata": {},
   "outputs": [],
   "source": []
  },
  {
   "cell_type": "code",
   "execution_count": 42,
   "metadata": {
    "id": "epFbjFayxAH1"
   },
   "outputs": [],
   "source": [
    "#Your function definition goes here.\n",
    "#Dont forget to execute this cell after entering the definition\n",
    "\n",
    "def find_branch (Y): \n",
    "    ## Your code here\n",
    "    if  Y==\"ringo\":\n",
    "        print(\"Branch 1\")\n",
    "    elif Y==\"paul\":\n",
    "        print(\"Branch 2\")"
   ]
  },
  {
   "cell_type": "code",
   "execution_count": 47,
   "metadata": {
    "id": "tzg9BQgxYjfJ",
    "outputId": "09f66e03-856b-4adc-ab39-6ee1c3f0b22b"
   },
   "outputs": [
    {
     "name": "stdout",
     "output_type": "stream",
     "text": [
      "Example 1\n",
      "Branch 2\n",
      "\n",
      "Example 2\n",
      "Branch 1\n",
      "\n",
      "Example 3\n",
      "Branch 2\n",
      "\n",
      "Example 4\n",
      "Branch 2\n"
     ]
    }
   ],
   "source": [
    "# Here are your tests.  The desired output is shown below this cell.\n",
    "print('Example 1')\n",
    "find_branch('paul')\n",
    "print()\n",
    "print('Example 2')\n",
    "find_branch('ringo')\n",
    "print()\n",
    "print('Example 3')\n",
    "find_branch('Paul')\n",
    "print()\n",
    "print('Example 4')\n",
    "find_branch('ring')"
   ]
  },
  {
   "cell_type": "code",
   "execution_count": 43,
   "metadata": {
    "id": "tzg9BQgxYjfJ",
    "outputId": "09f66e03-856b-4adc-ab39-6ee1c3f0b22b"
   },
   "outputs": [
    {
     "name": "stdout",
     "output_type": "stream",
     "text": [
      "Example 1\n",
      "Branch 2\n",
      "\n",
      "Example 2\n",
      "Branch 1\n",
      "\n",
      "Example 3\n",
      "\n",
      "Example 4\n"
     ]
    }
   ],
   "source": [
    "# Here are your tests.  The desired output is shown below this cell.\n",
    "print('Example 1')\n",
    "find_branch('paul')\n",
    "print()\n",
    "print('Example 2')\n",
    "find_branch('ringo')\n",
    "print()\n",
    "print('Example 3')\n",
    "find_branch('Paul')\n",
    "print()\n",
    "print('Example 4')\n",
    "find_branch('ring')"
   ]
  },
  {
   "cell_type": "markdown",
   "metadata": {
    "id": "qjWFJ6k3Rj-H"
   },
   "source": [
    "You should get the following output:\n",
    "\n",
    "```\n",
    "Example 1\n",
    "Branch 2\n",
    "\n",
    "Example 2\n",
    "Branch 1\n",
    "\n",
    "Example 3\n",
    "\n",
    "Example 4\n",
    "```"
   ]
  },
  {
   "cell_type": "markdown",
   "metadata": {
    "id": "b0JiaE6exAH2"
   },
   "source": [
    "### Exercise 8:  Mapping Boolean tests"
   ]
  },
  {
   "cell_type": "markdown",
   "metadata": {
    "id": "6WaIc03rxAH3"
   },
   "source": [
    " Write a line of code that produces the given output:\n",
    "   \n",
    "     In [ ]: a_list = ['john','paul','nancy','sid']\n",
    "           YOUR CODE HERE\n",
    "     Out [ ]: [True, True, False, False]"
   ]
  },
  {
   "cell_type": "code",
   "execution_count": 50,
   "metadata": {},
   "outputs": [],
   "source": [
    "a_list = ['john','paul','nancy','sid']"
   ]
  },
  {
   "cell_type": "code",
   "execution_count": null,
   "metadata": {},
   "outputs": [],
   "source": []
  },
  {
   "cell_type": "code",
   "execution_count": null,
   "metadata": {},
   "outputs": [],
   "source": []
  },
  {
   "cell_type": "code",
   "execution_count": null,
   "metadata": {},
   "outputs": [],
   "source": []
  },
  {
   "cell_type": "code",
   "execution_count": null,
   "metadata": {},
   "outputs": [],
   "source": []
  },
  {
   "cell_type": "code",
   "execution_count": null,
   "metadata": {},
   "outputs": [],
   "source": []
  },
  {
   "cell_type": "code",
   "execution_count": null,
   "metadata": {},
   "outputs": [],
   "source": []
  },
  {
   "cell_type": "code",
   "execution_count": null,
   "metadata": {},
   "outputs": [],
   "source": []
  },
  {
   "cell_type": "code",
   "execution_count": null,
   "metadata": {},
   "outputs": [],
   "source": []
  },
  {
   "cell_type": "code",
   "execution_count": null,
   "metadata": {},
   "outputs": [],
   "source": []
  },
  {
   "cell_type": "code",
   "execution_count": null,
   "metadata": {},
   "outputs": [],
   "source": []
  },
  {
   "cell_type": "code",
   "execution_count": null,
   "metadata": {},
   "outputs": [],
   "source": []
  },
  {
   "cell_type": "code",
   "execution_count": null,
   "metadata": {},
   "outputs": [],
   "source": []
  },
  {
   "cell_type": "code",
   "execution_count": 44,
   "metadata": {
    "colab": {
     "base_uri": "https://localhost:8080/",
     "height": 34
    },
    "id": "01ARy7AVxAH3",
    "outputId": "e0817b12-37d9-43e4-b57f-e8937ac39b00"
   },
   "outputs": [
    {
     "data": {
      "text/plain": [
       "[True, True, False, False]"
      ]
     },
     "execution_count": 44,
     "metadata": {},
     "output_type": "execute_result"
    }
   ],
   "source": [
    "new_list = []\n",
    "for x in a_list:\n",
    "    ##  Your code replace pass on the next line\n",
    "    new_list.append(len(x)==4)\n",
    "new_list"
   ]
  },
  {
   "cell_type": "markdown",
   "metadata": {
    "id": "7j9FZo3PwC1r"
   },
   "source": [
    "The loop above can also be translated into a list\n",
    "comprehension that simply collect s the results of whatever Boolean test you used.\n",
    "\n",
    "Try to code that up in the next cell."
   ]
  },
  {
   "cell_type": "code",
   "execution_count": 46,
   "metadata": {
    "id": "Lj8zZG8gRj-H"
   },
   "outputs": [
    {
     "data": {
      "text/plain": [
       "[True, True, False, False]"
      ]
     },
     "execution_count": 46,
     "metadata": {},
     "output_type": "execute_result"
    }
   ],
   "source": [
    "## Your list comprension below this line inside the square brackets\n",
    "a_list = ['john','paul','nancy','sid']\n",
    "new_list = [len(x)==4 for x in a_list ]\n",
    "new_list"
   ]
  },
  {
   "cell_type": "code",
   "execution_count": null,
   "metadata": {
    "id": "iwBK9w1iRj-H"
   },
   "outputs": [],
   "source": []
  },
  {
   "cell_type": "code",
   "execution_count": null,
   "metadata": {
    "id": "tU1NKgqNRj-H"
   },
   "outputs": [],
   "source": []
  },
  {
   "cell_type": "code",
   "execution_count": null,
   "metadata": {
    "id": "z8qMc8NFRj-H"
   },
   "outputs": [],
   "source": []
  },
  {
   "cell_type": "code",
   "execution_count": null,
   "metadata": {
    "id": "vqqlXBWVRj-H"
   },
   "outputs": [],
   "source": []
  },
  {
   "cell_type": "code",
   "execution_count": null,
   "metadata": {
    "id": "eLc6sH_7Rj-H"
   },
   "outputs": [],
   "source": []
  },
  {
   "cell_type": "code",
   "execution_count": null,
   "metadata": {
    "id": "OvWf1j2SRj-H"
   },
   "outputs": [],
   "source": []
  },
  {
   "cell_type": "code",
   "execution_count": null,
   "metadata": {
    "id": "AI-EPzsTRj-H"
   },
   "outputs": [],
   "source": []
  },
  {
   "cell_type": "code",
   "execution_count": null,
   "metadata": {
    "id": "psmgBd1hRj-I"
   },
   "outputs": [],
   "source": []
  },
  {
   "cell_type": "code",
   "execution_count": null,
   "metadata": {
    "id": "JH5cZaRRRj-I"
   },
   "outputs": [],
   "source": []
  },
  {
   "cell_type": "code",
   "execution_count": null,
   "metadata": {
    "id": "UzGVqrJoRj-I"
   },
   "outputs": [],
   "source": []
  },
  {
   "cell_type": "code",
   "execution_count": null,
   "metadata": {
    "id": "n40OqoIlRj-I"
   },
   "outputs": [],
   "source": []
  },
  {
   "cell_type": "code",
   "execution_count": null,
   "metadata": {
    "colab": {
     "base_uri": "https://localhost:8080/",
     "height": 34
    },
    "id": "rzOh2NuExAH5",
    "outputId": "8b003e8f-2aff-447b-b649-0345db262bde"
   },
   "outputs": [
    {
     "data": {
      "text/plain": [
       "[]"
      ]
     },
     "execution_count": 8,
     "metadata": {
      "tags": []
     },
     "output_type": "execute_result"
    }
   ],
   "source": [
    "# Your list comprehension code below, inside the square brackets\n",
    "a_list = ['sid','nancy','paul','ringo']\n",
    "new_list =  []\n",
    "new_list"
   ]
  },
  {
   "cell_type": "markdown",
   "metadata": {
    "id": "BC0-hqJhxAH7"
   },
   "source": [
    "###  Exercise 9:  Filtering a list"
   ]
  },
  {
   "cell_type": "markdown",
   "metadata": {
    "id": "D4NouVzKxAH8"
   },
   "source": [
    "Write a `for` loop that collects all the numbers in `test_list`\n",
    "that are between 3 and 6 inclusive and places them\n",
    "in a list named `result`.\n",
    "\n",
    "In the cell below you are given a list  to work on and an initial value for the list `result`,\n",
    "which you can update in a `for` loop.  The cell also evaluates `result` after the\n",
    "loop to check that the value is right:\n",
    "\n",
    "    In [ ]: test_list = [2, 7, 9, 4, 8, 3, 2, 6, 3, 5, 9, 18, 0, 5]\n",
    "            result = []\n",
    "            YOUR CODE GOES HERE\n",
    "            result\n",
    "     Out [ ]: [4,3,6,3,5,5]\n",
    "                         \n",
    "For updating the `result` list one element at a time the following may be of help.  The way to add `x` onto\n",
    "the end of a list `result` is:\n",
    "\n",
    "```\n",
    "    result.append(x)\n",
    "```\n",
    "\n",
    "Note:  Instead of updating the list `result` one element at a time in\n",
    "a `for-`loop, you can also do this with a list comprehension."
   ]
  },
  {
   "cell_type": "code",
   "execution_count": null,
   "metadata": {},
   "outputs": [],
   "source": [
    "test_list = [2, 7, 9, 4, 8, 3, 2, 6, 3, 5, 9, 18, 0, 5]\n",
    "# Your code here"
   ]
  },
  {
   "cell_type": "code",
   "execution_count": null,
   "metadata": {},
   "outputs": [],
   "source": []
  },
  {
   "cell_type": "code",
   "execution_count": null,
   "metadata": {},
   "outputs": [],
   "source": []
  },
  {
   "cell_type": "code",
   "execution_count": null,
   "metadata": {},
   "outputs": [],
   "source": []
  },
  {
   "cell_type": "code",
   "execution_count": null,
   "metadata": {},
   "outputs": [],
   "source": []
  },
  {
   "cell_type": "code",
   "execution_count": null,
   "metadata": {},
   "outputs": [],
   "source": []
  },
  {
   "cell_type": "code",
   "execution_count": null,
   "metadata": {},
   "outputs": [],
   "source": []
  },
  {
   "cell_type": "code",
   "execution_count": null,
   "metadata": {},
   "outputs": [],
   "source": []
  },
  {
   "cell_type": "code",
   "execution_count": null,
   "metadata": {},
   "outputs": [],
   "source": []
  },
  {
   "cell_type": "code",
   "execution_count": null,
   "metadata": {},
   "outputs": [],
   "source": []
  },
  {
   "cell_type": "code",
   "execution_count": null,
   "metadata": {},
   "outputs": [],
   "source": []
  },
  {
   "cell_type": "code",
   "execution_count": null,
   "metadata": {},
   "outputs": [],
   "source": []
  },
  {
   "cell_type": "code",
   "execution_count": null,
   "metadata": {},
   "outputs": [],
   "source": []
  },
  {
   "cell_type": "code",
   "execution_count": null,
   "metadata": {},
   "outputs": [],
   "source": []
  },
  {
   "cell_type": "code",
   "execution_count": null,
   "metadata": {},
   "outputs": [],
   "source": []
  },
  {
   "cell_type": "code",
   "execution_count": null,
   "metadata": {},
   "outputs": [],
   "source": []
  },
  {
   "cell_type": "code",
   "execution_count": null,
   "metadata": {},
   "outputs": [],
   "source": []
  },
  {
   "cell_type": "code",
   "execution_count": null,
   "metadata": {},
   "outputs": [],
   "source": []
  },
  {
   "cell_type": "code",
   "execution_count": null,
   "metadata": {},
   "outputs": [],
   "source": []
  },
  {
   "cell_type": "code",
   "execution_count": null,
   "metadata": {},
   "outputs": [],
   "source": []
  },
  {
   "cell_type": "code",
   "execution_count": null,
   "metadata": {},
   "outputs": [],
   "source": []
  },
  {
   "cell_type": "code",
   "execution_count": null,
   "metadata": {},
   "outputs": [],
   "source": []
  },
  {
   "cell_type": "code",
   "execution_count": null,
   "metadata": {},
   "outputs": [],
   "source": []
  },
  {
   "cell_type": "code",
   "execution_count": null,
   "metadata": {},
   "outputs": [],
   "source": []
  },
  {
   "cell_type": "code",
   "execution_count": 49,
   "metadata": {
    "colab": {
     "base_uri": "https://localhost:8080/",
     "height": 34
    },
    "id": "dMPILTMwxAH8",
    "outputId": "a04555f1-04a2-4937-8fad-ac7982c3513b",
    "scrolled": true
   },
   "outputs": [
    {
     "data": {
      "text/plain": [
       "[4, 3, 6, 3, 5, 5]"
      ]
     },
     "execution_count": 49,
     "metadata": {},
     "output_type": "execute_result"
    }
   ],
   "source": [
    "test_list = [2, 7, 9, 4, 8, 3, 2, 6, 3, 5, 9, 18, 0, 5]\n",
    "result = []\n",
    "for x in test_list:\n",
    "    ## Your filtering code goes here replacing pass\n",
    "    if  3 <= x <=6:\n",
    "        result.append(x)\n",
    "result"
   ]
  },
  {
   "cell_type": "code",
   "execution_count": null,
   "metadata": {
    "id": "iUPqCuUURj-I"
   },
   "outputs": [],
   "source": []
  },
  {
   "cell_type": "code",
   "execution_count": null,
   "metadata": {
    "id": "DMW0tiUrRj-I"
   },
   "outputs": [],
   "source": []
  },
  {
   "cell_type": "code",
   "execution_count": null,
   "metadata": {
    "id": "0vQckZnPRj-I"
   },
   "outputs": [],
   "source": []
  },
  {
   "cell_type": "code",
   "execution_count": null,
   "metadata": {
    "id": "-VlEV3PuRj-I"
   },
   "outputs": [],
   "source": []
  },
  {
   "cell_type": "code",
   "execution_count": null,
   "metadata": {
    "id": "oCscAUunRj-I"
   },
   "outputs": [],
   "source": []
  },
  {
   "cell_type": "code",
   "execution_count": null,
   "metadata": {
    "id": "v0n3ukzvRj-I"
   },
   "outputs": [],
   "source": []
  },
  {
   "cell_type": "code",
   "execution_count": null,
   "metadata": {
    "id": "jd6S9QtXRj-I"
   },
   "outputs": [],
   "source": []
  },
  {
   "cell_type": "code",
   "execution_count": null,
   "metadata": {
    "id": "548aob7KRj-I"
   },
   "outputs": [],
   "source": []
  },
  {
   "cell_type": "code",
   "execution_count": null,
   "metadata": {
    "id": "qlZZRMCWRj-I"
   },
   "outputs": [],
   "source": []
  },
  {
   "cell_type": "code",
   "execution_count": 6,
   "metadata": {
    "colab": {
     "base_uri": "https://localhost:8080/"
    },
    "id": "Jtg4Uy0rRj-I",
    "outputId": "96b37e31-516f-4d2b-ab10-664eac31bb16"
   },
   "outputs": [
    {
     "data": {
      "text/plain": [
       "[4, 3, 6, 3, 5, 5]"
      ]
     },
     "execution_count": 6,
     "metadata": {},
     "output_type": "execute_result"
    }
   ],
   "source": [
    "test_list = [2, 7, 9, 4, 8, 3, 2, 6, 3, 5, 9, 18, 0, 5]\n",
    "result = []\n",
    "for x in test_list:\n",
    "    ## Your filtering code goes here replacing pass\n",
    "    if 3 <= x <= 6:\n",
    "      result.append(x)\n",
    "result"
   ]
  },
  {
   "cell_type": "code",
   "execution_count": null,
   "metadata": {
    "id": "5W6K7IOLw1sv"
   },
   "outputs": [],
   "source": []
  },
  {
   "cell_type": "markdown",
   "metadata": {
    "id": "iw4dPqevxIix"
   },
   "source": [
    "This can also be done with a list comprehension.  Note that this is the first list comprehension whose result is shorter than the list we are looping through.   This is because of where we put the condition.  Values are collected only for the x's that meet the condition."
   ]
  },
  {
   "cell_type": "code",
   "execution_count": 82,
   "metadata": {
    "id": "z0qn7YRzRj-I",
    "outputId": "d3379cae-2bee-403b-ee79-37ae30305a05"
   },
   "outputs": [
    {
     "data": {
      "text/plain": [
       "[4, 3, 6, 3, 5, 5]"
      ]
     },
     "execution_count": 82,
     "metadata": {},
     "output_type": "execute_result"
    }
   ],
   "source": [
    "[x for x in test_list if 3 <= x <= 6]"
   ]
  },
  {
   "cell_type": "markdown",
   "metadata": {
    "id": "47Q5ARzwxAH_"
   },
   "source": [
    "### Exercise 10:  Counting"
   ]
  },
  {
   "cell_type": "markdown",
   "metadata": {
    "id": "3aeUFk_SxAIA"
   },
   "source": [
    "Now, using the same definition of `test_list`\n",
    "as in exercise 6, write a `for` loop that **counts**\n",
    "the number of integers in `test_list` that are between 3 and 6 inclusive\n",
    "and  places the result in a variable named `tweeners`.\n",
    "You can do this by just taking the length\n",
    "of the list you computed in exercise 6, but try to do\n",
    "it without building that list.  Just start with `tweeners`\n",
    "set to 0 and increment its value by one each time you see an appropriate number.  \n",
    "The value of the variable `tweeners` after the loop is exited should be 6.\n",
    "\n",
    "Note the assignment statement that updates the value of `tweeners` by 1 is :\n",
    "\n",
    "```\n",
    "tweeners = tweeners + 1\n",
    "```\n",
    "\n",
    "or the slightly shorter but equivalent\n",
    "\n",
    "```\n",
    "tweeners += 1\n",
    "```\n",
    "\n"
   ]
  },
  {
   "cell_type": "code",
   "execution_count": null,
   "metadata": {
    "id": "0suFi78ZxAIC",
    "outputId": "4af03b0c-3ed9-447a-9d1a-e94128abd21d"
   },
   "outputs": [
    {
     "data": {
      "text/plain": [
       "6"
      ]
     },
     "execution_count": 66,
     "metadata": {},
     "output_type": "execute_result"
    }
   ],
   "source": [
    "test_list = [2, 7, 9, 4, 8, 3, 2, 6, 3, 5, 9, 18, 0, 5]\n",
    "\n",
    "tweeners = 0\n",
    "# Your loop here, it's been started for\n",
    "for num in test_list:\n",
    "   # you update tweeners when appropriate here. Your code replaces pass\n",
    "   pass\n",
    "\n",
    "tweeners"
   ]
  },
  {
   "cell_type": "code",
   "execution_count": null,
   "metadata": {},
   "outputs": [],
   "source": []
  },
  {
   "cell_type": "code",
   "execution_count": null,
   "metadata": {},
   "outputs": [],
   "source": []
  },
  {
   "cell_type": "code",
   "execution_count": null,
   "metadata": {},
   "outputs": [],
   "source": []
  },
  {
   "cell_type": "code",
   "execution_count": null,
   "metadata": {},
   "outputs": [],
   "source": []
  },
  {
   "cell_type": "code",
   "execution_count": null,
   "metadata": {},
   "outputs": [],
   "source": []
  },
  {
   "cell_type": "code",
   "execution_count": null,
   "metadata": {},
   "outputs": [],
   "source": []
  },
  {
   "cell_type": "code",
   "execution_count": null,
   "metadata": {},
   "outputs": [],
   "source": []
  },
  {
   "cell_type": "code",
   "execution_count": null,
   "metadata": {},
   "outputs": [],
   "source": []
  },
  {
   "cell_type": "code",
   "execution_count": null,
   "metadata": {},
   "outputs": [],
   "source": []
  },
  {
   "cell_type": "code",
   "execution_count": null,
   "metadata": {},
   "outputs": [],
   "source": []
  },
  {
   "cell_type": "code",
   "execution_count": null,
   "metadata": {},
   "outputs": [],
   "source": []
  },
  {
   "cell_type": "code",
   "execution_count": null,
   "metadata": {},
   "outputs": [],
   "source": []
  },
  {
   "cell_type": "code",
   "execution_count": null,
   "metadata": {},
   "outputs": [],
   "source": []
  },
  {
   "cell_type": "code",
   "execution_count": null,
   "metadata": {},
   "outputs": [],
   "source": []
  },
  {
   "cell_type": "code",
   "execution_count": null,
   "metadata": {},
   "outputs": [],
   "source": []
  },
  {
   "cell_type": "code",
   "execution_count": null,
   "metadata": {},
   "outputs": [],
   "source": []
  },
  {
   "cell_type": "code",
   "execution_count": 51,
   "metadata": {
    "id": "0suFi78ZxAIC",
    "outputId": "4af03b0c-3ed9-447a-9d1a-e94128abd21d"
   },
   "outputs": [
    {
     "data": {
      "text/plain": [
       "6"
      ]
     },
     "execution_count": 51,
     "metadata": {},
     "output_type": "execute_result"
    }
   ],
   "source": [
    "test_list = [2, 7, 9, 4, 8, 3, 2, 6, 3, 5, 9, 18, 0, 5]\n",
    "\n",
    "tweeners = 0\n",
    "# Your loop here, it's been started for\n",
    "for num in test_list:\n",
    "   # you update tweeners when appropriate here. Your code replaces pass\n",
    "   if 3 <= num <= 6:\n",
    "      tweeners = tweeners + 1\n",
    "\n",
    "tweeners"
   ]
  },
  {
   "cell_type": "markdown",
   "metadata": {
    "id": "jsIHOLHYzDT9"
   },
   "source": [
    "There is no list comprehension analogue to this loop because we're not collecting values in a list. Notice the following is a Syntax error becaause `ctr += 1` is an assignment statement and therefore not an expression (it doesn't return a value)."
   ]
  },
  {
   "cell_type": "code",
   "execution_count": 16,
   "metadata": {
    "colab": {
     "base_uri": "https://localhost:8080/",
     "height": 141
    },
    "id": "XP-IcpbAzCc6",
    "outputId": "a0b7adf4-9d13-4387-ecd3-5706230da75e"
   },
   "outputs": [
    {
     "ename": "SyntaxError",
     "evalue": "invalid syntax (<ipython-input-16-a4d7346bddc0>, line 1)",
     "output_type": "error",
     "traceback": [
      "\u001b[0;36m  File \u001b[0;32m\"<ipython-input-16-a4d7346bddc0>\"\u001b[0;36m, line \u001b[0;32m1\u001b[0m\n\u001b[0;31m    [ctr += 1 for num in test_list if  3 <= num <= 6]\u001b[0m\n\u001b[0m         ^\u001b[0m\n\u001b[0;31mSyntaxError\u001b[0m\u001b[0;31m:\u001b[0m invalid syntax\n"
     ]
    }
   ],
   "source": [
    "[ctr += 1 for num in test_list if  3 <= num <= 6]"
   ]
  },
  {
   "cell_type": "markdown",
   "metadata": {
    "id": "93_9kIUjzNtR"
   },
   "source": [
    "Let's name the parts of a list comprehension\n",
    "\n",
    "```\n",
    "[collected for loop-var in iterable if filter]\n",
    "```\n",
    "\n",
    "The syntax error is raised because `collected` has to be an official Python expression, something with a value that can be included in the list being constructed.\n",
    "\n",
    "```\n",
    "ctr += 1\n",
    "```\n",
    "\n",
    "is an assignment to the variable `ctr`  so it is a statement."
   ]
  },
  {
   "cell_type": "code",
   "execution_count": 53,
   "metadata": {},
   "outputs": [
    {
     "data": {
      "text/plain": [
       "5"
      ]
     },
     "execution_count": 53,
     "metadata": {},
     "output_type": "execute_result"
    }
   ],
   "source": [
    "dd = {'a': 5, 'b': 2, 'r': 2, 'c': 1, 'd': 1}\n",
    "dd.get('a')"
   ]
  },
  {
   "cell_type": "code",
   "execution_count": 57,
   "metadata": {},
   "outputs": [
    {
     "data": {
      "text/plain": [
       "True"
      ]
     },
     "execution_count": 57,
     "metadata": {},
     "output_type": "execute_result"
    }
   ],
   "source": [
    "'a' in dd"
   ]
  },
  {
   "cell_type": "code",
   "execution_count": 56,
   "metadata": {
    "scrolled": true
   },
   "outputs": [
    {
     "name": "stdout",
     "output_type": "stream",
     "text": [
      "Hi\n"
     ]
    }
   ],
   "source": [
    "if dd.get('a'):\n",
    "    print(\"Hi\")"
   ]
  },
  {
   "cell_type": "markdown",
   "metadata": {
    "id": "5sXbCePsSzxz"
   },
   "source": [
    "### Exercise 11\n",
    "\n",
    "Now, write a loop that computes the frequencies of the letters in `\"abracadabra\"`.  The frequencies should be\n",
    "kept in a dictionary that has letters as keys and integers as values. After the counting code is executed,\n",
    "the dictionary should look like this:\n",
    "\n",
    "```\n",
    "{'a': 5, 'b': 2, 'r': 2, 'c': 1, 'd': 1}\n",
    "```\n",
    "Do not use the `Counter` class from the Python `collections` module to solve this problem, even\n",
    "though though that makes it easier.  The goal here is to get you writing loops.\n",
    "\n",
    "Hint One:  Your  answer will use a loop and will contain this line (or something\n",
    "equivalent) to update the dictionary count.\n",
    "\n",
    "```\n",
    "counter_dict[letter] = counter_dict[letter] + 1\n",
    "```\n",
    "\n",
    "Near synonym\n",
    "\n",
    "```\n",
    "counter_dict[letter] +=  1\n",
    "```\n",
    "\n",
    "The problem is that the dictionary needs to start out empty; the expression on the right hand\n",
    "hand side of the `=` will raise a `KeyError` on an an empty dictionary, so this can't be what\n",
    "you always do.\n",
    "\n",
    "Inside the loop, you need to structure your code something like this:\n",
    "\n",
    "```\n",
    "    if [Boolean test to see if letter is a key in the dictionary]:\n",
    "       # # the usual counting code\n",
    "       counter_dict[letter] = counter_dict[letter] + 1\n",
    "    else:\n",
    "       # Start letter off with count 1\n",
    "       counter_dict[letter] = 1\n",
    "```\n",
    "    "
   ]
  },
  {
   "cell_type": "markdown",
   "metadata": {
    "id": "2V6Tc8FZRj-J"
   },
   "source": [
    "**Only read Hint Two in the next cell if you're stuck after trying hint One.**"
   ]
  },
  {
   "cell_type": "markdown",
   "metadata": {
    "id": "hcG3wWlmRj-J"
   },
   "source": [
    "Hint two:\n",
    "\n",
    "Note: the test to see if `counter_dict` already contains `letter` as a key is:\n",
    "\n",
    "```\n",
    "letter in counter_dict\n",
    "```"
   ]
  },
  {
   "cell_type": "code",
   "execution_count": 21,
   "metadata": {
    "scrolled": true
   },
   "outputs": [
    {
     "ename": "KeyError",
     "evalue": "'a'",
     "output_type": "error",
     "traceback": [
      "\u001b[0;31m---------------------------------------------------------------------------\u001b[0m",
      "\u001b[0;31mKeyError\u001b[0m                                  Traceback (most recent call last)",
      "Cell \u001b[0;32mIn[21], line 2\u001b[0m\n\u001b[1;32m      1\u001b[0m counter_dict \u001b[38;5;241m=\u001b[39m \u001b[38;5;28mdict\u001b[39m()\n\u001b[0;32m----> 2\u001b[0m counter_dict[\u001b[38;5;124m'\u001b[39m\u001b[38;5;124ma\u001b[39m\u001b[38;5;124m'\u001b[39m]  \u001b[38;5;241m=\u001b[39m counter_dict[\u001b[38;5;124m'\u001b[39m\u001b[38;5;124ma\u001b[39m\u001b[38;5;124m'\u001b[39m] \u001b[38;5;241m+\u001b[39m \u001b[38;5;241m1\u001b[39m\n",
      "\u001b[0;31mKeyError\u001b[0m: 'a'"
     ]
    }
   ],
   "source": [
    "counter_dict = dict()\n",
    "counter_dict['a']  = counter_dict['a'] + 1"
   ]
  },
  {
   "cell_type": "code",
   "execution_count": 28,
   "metadata": {
    "scrolled": true
   },
   "outputs": [
    {
     "data": {
      "text/plain": [
       "1"
      ]
     },
     "execution_count": 28,
     "metadata": {},
     "output_type": "execute_result"
    }
   ],
   "source": [
    "'a'  in counter_dict\n",
    "counter_dict['a']"
   ]
  },
  {
   "cell_type": "code",
   "execution_count": 25,
   "metadata": {},
   "outputs": [],
   "source": [
    "counter_dict['a'] = 1"
   ]
  },
  {
   "cell_type": "code",
   "execution_count": null,
   "metadata": {
    "id": "FNNqmZEhRj-J"
   },
   "outputs": [],
   "source": []
  },
  {
   "cell_type": "code",
   "execution_count": null,
   "metadata": {
    "id": "1OcKinQpRj-J"
   },
   "outputs": [],
   "source": []
  },
  {
   "cell_type": "code",
   "execution_count": null,
   "metadata": {
    "id": "t4H-BhdnRj-J"
   },
   "outputs": [],
   "source": []
  },
  {
   "cell_type": "code",
   "execution_count": null,
   "metadata": {
    "id": "UEYa3vjBRj-J"
   },
   "outputs": [],
   "source": []
  },
  {
   "cell_type": "code",
   "execution_count": null,
   "metadata": {
    "id": "bi7e5Q4bRj-J"
   },
   "outputs": [],
   "source": []
  },
  {
   "cell_type": "code",
   "execution_count": null,
   "metadata": {
    "id": "XeiykMtXRj-J"
   },
   "outputs": [],
   "source": []
  },
  {
   "cell_type": "code",
   "execution_count": null,
   "metadata": {
    "id": "TCHVg61ORj-J"
   },
   "outputs": [],
   "source": []
  },
  {
   "cell_type": "code",
   "execution_count": null,
   "metadata": {
    "id": "SMj5jcN1Rj-J"
   },
   "outputs": [],
   "source": []
  },
  {
   "cell_type": "code",
   "execution_count": null,
   "metadata": {
    "id": "qE2ZuTSLRj-J"
   },
   "outputs": [],
   "source": []
  },
  {
   "cell_type": "code",
   "execution_count": null,
   "metadata": {
    "id": "aWn1cwzpRj-J"
   },
   "outputs": [],
   "source": []
  },
  {
   "cell_type": "code",
   "execution_count": null,
   "metadata": {
    "id": "95yrjufsRj-J"
   },
   "outputs": [],
   "source": []
  },
  {
   "cell_type": "code",
   "execution_count": null,
   "metadata": {
    "id": "GbAoxA4iRj-J"
   },
   "outputs": [],
   "source": []
  },
  {
   "cell_type": "code",
   "execution_count": null,
   "metadata": {
    "id": "9rLNl3CPRj-J"
   },
   "outputs": [],
   "source": []
  },
  {
   "cell_type": "code",
   "execution_count": 2,
   "metadata": {
    "colab": {
     "base_uri": "https://localhost:8080/"
    },
    "id": "uBWZlACuRj-J",
    "outputId": "670244bc-b5c9-4cee-ce79-6871e8367f21"
   },
   "outputs": [
    {
     "data": {
      "text/plain": [
       "{'a': 5, 'b': 2, 'r': 2, 'c': 1, 'd': 1}"
      ]
     },
     "execution_count": 2,
     "metadata": {},
     "output_type": "execute_result"
    }
   ],
   "source": [
    "test_str = 'abracadabra'\n",
    "\n",
    "counter_dict = dict()\n",
    "\n",
    "for letter in test_str:\n",
    "    if letter in counter_dict:\n",
    "       counter_dict[letter] = counter_dict[letter] + 1\n",
    "    else:\n",
    "       counter_dict[letter] = 1\n",
    "counter_dict"
   ]
  },
  {
   "cell_type": "code",
   "execution_count": null,
   "metadata": {
    "id": "5zuUkdfeRj-J"
   },
   "outputs": [],
   "source": []
  },
  {
   "cell_type": "code",
   "execution_count": null,
   "metadata": {
    "id": "zhRFT2ndRj-J"
   },
   "outputs": [],
   "source": []
  },
  {
   "cell_type": "markdown",
   "metadata": {
    "id": "h3pbHGvCRj-J"
   },
   "source": []
  },
  {
   "cell_type": "code",
   "execution_count": null,
   "metadata": {
    "id": "CZbUU9_Rx87-"
   },
   "outputs": [],
   "source": []
  },
  {
   "cell_type": "code",
   "execution_count": null,
   "metadata": {
    "id": "dZCSDFw2x84O"
   },
   "outputs": [],
   "source": []
  },
  {
   "cell_type": "markdown",
   "metadata": {
    "id": "XajFYX0HxAID"
   },
   "source": [
    "### Exercise 12"
   ]
  },
  {
   "cell_type": "markdown",
   "metadata": {
    "id": "l1kONBASxAIE"
   },
   "source": []
  },
  {
   "cell_type": "markdown",
   "metadata": {
    "id": "QvO91mHjxAIE"
   },
   "source": [
    "Filter  any items which occur\n",
    "less than 2 times in a sequence of items.\n",
    "Using `seq` as the name of the input sequence, your code should return the filtered version of `seq` and it should be of the same type as `seq`.\n",
    "\n",
    "Below we will generalize the idea to allow sequence to be a\n",
    "string, or tuple, or list.  For now we will handle the special case of a string.  You can use the following string as an example:\n",
    "\n",
    "```\n",
    "   seq = 'abracadabra'\n",
    "```\n",
    "Hint: Solve this problem in two parts.  First get all the needed counts and place them in a dictionary\n",
    "using the code from the previous exercise. (Or you can if you like use a `Counter`, in which case\n",
    "it will be helpful to review our discussion of Counters in [the book draft section on dictionaries](http://gawron.sdsu.edu/python_for_ss/course_core/book_draft/Python_introduction/dictionaries.html#python-collections-module).\n",
    "\n",
    "Either way, you can then use counter dictionary you computed  to filter the letters in `\"abracadabra\"` with counts below 2."
   ]
  },
  {
   "cell_type": "code",
   "execution_count": 32,
   "metadata": {
    "id": "5qFPEW0VxAIH",
    "outputId": "6e8110cc-20d0-42ad-92c3-8f20ea58fb90"
   },
   "outputs": [],
   "source": [
    "from collections import Counter\n",
    "seq = 'abracadabra'\n",
    "# Your code here\n",
    "\n"
   ]
  },
  {
   "cell_type": "code",
   "execution_count": 39,
   "metadata": {},
   "outputs": [
    {
     "data": {
      "text/plain": [
       "Counter({'a': 5, 'b': 2, 'r': 2, 'c': 1, 'd': 1})"
      ]
     },
     "execution_count": 39,
     "metadata": {},
     "output_type": "execute_result"
    }
   ],
   "source": [
    "from collections import Counter\n",
    "Counter(\"abracadabra\")"
   ]
  },
  {
   "cell_type": "code",
   "execution_count": null,
   "metadata": {
    "id": "ltWnT5PL1gBI"
   },
   "outputs": [],
   "source": []
  },
  {
   "cell_type": "code",
   "execution_count": null,
   "metadata": {
    "id": "g4d-lgmv1f-a"
   },
   "outputs": [],
   "source": []
  },
  {
   "cell_type": "code",
   "execution_count": null,
   "metadata": {
    "id": "rNCRJ0_m1f72"
   },
   "outputs": [],
   "source": []
  },
  {
   "cell_type": "code",
   "execution_count": null,
   "metadata": {
    "id": "wV3PkKun1f5g"
   },
   "outputs": [],
   "source": []
  },
  {
   "cell_type": "code",
   "execution_count": null,
   "metadata": {
    "id": "3p8cydan1f3D"
   },
   "outputs": [],
   "source": []
  },
  {
   "cell_type": "code",
   "execution_count": null,
   "metadata": {
    "id": "mwPnVBt51f0o"
   },
   "outputs": [],
   "source": []
  },
  {
   "cell_type": "code",
   "execution_count": null,
   "metadata": {
    "id": "D3qTERb31fx_"
   },
   "outputs": [],
   "source": []
  },
  {
   "cell_type": "code",
   "execution_count": null,
   "metadata": {
    "id": "Y2EPzwuW1fvW"
   },
   "outputs": [],
   "source": []
  },
  {
   "cell_type": "code",
   "execution_count": 5,
   "metadata": {
    "colab": {
     "base_uri": "https://localhost:8080/"
    },
    "id": "TaFnZJQI118Q",
    "outputId": "3f060a61-11af-4641-863e-914b1d04cf62"
   },
   "outputs": [],
   "source": [
    "#seq=\"abracadabra\"\n",
    "#seq = tuple(\"abracadabra\")\n",
    "seq = list(\"abracadabra\")\n",
    "seq_type = type(seq)\n",
    "elems = [x for x in seq if counter_dict[x] >= 2]\n",
    "## The code that ensure elems is of the right type\n",
    "## goes here.\n",
    "filtered = ''.join(elems)"
   ]
  },
  {
   "cell_type": "markdown",
   "metadata": {
    "id": "MFMI0G354h85"
   },
   "source": [
    "The issue. After filtering out the low-count elements in a list comprension, we need to turn the list into a string.  This won't work.  "
   ]
  },
  {
   "cell_type": "code",
   "execution_count": 6,
   "metadata": {
    "colab": {
     "base_uri": "https://localhost:8080/",
     "height": 35
    },
    "id": "NzXtemxs3Rmz",
    "outputId": "14d856b8-0bfd-43ee-af7d-5def0a374ed1"
   },
   "outputs": [
    {
     "data": {
      "text/plain": [
       "\"['a', 'b', 'r', 'a', 'a', 'a', 'b', 'r', 'a']\""
      ]
     },
     "execution_count": 6,
     "metadata": {},
     "output_type": "execute_result"
    }
   ],
   "source": [
    "str(elems)"
   ]
  },
  {
   "cell_type": "markdown",
   "metadata": {
    "id": "MFMI0G354h85"
   },
   "source": [
    "Hint:  Use `.join()`."
   ]
  },
  {
   "cell_type": "code",
   "execution_count": 7,
   "metadata": {},
   "outputs": [
    {
     "data": {
      "text/plain": [
       "'abraaabra'"
      ]
     },
     "execution_count": 7,
     "metadata": {},
     "output_type": "execute_result"
    }
   ],
   "source": [
    "''.join(elems)"
   ]
  },
  {
   "cell_type": "code",
   "execution_count": 8,
   "metadata": {
    "id": "nsIigzQN1gIF"
   },
   "outputs": [
    {
     "data": {
      "text/plain": [
       "'abraaabra'"
      ]
     },
     "execution_count": 8,
     "metadata": {},
     "output_type": "execute_result"
    }
   ],
   "source": [
    "res = []\n",
    "for let in seq:\n",
    "    if counter_dict[let] >= 2:\n",
    "        res.append(let)\n",
    "# Do something to res with .join()  to produce the string we want\n",
    "''.join(res)"
   ]
  },
  {
   "cell_type": "markdown",
   "metadata": {},
   "source": [
    "Note that the code will work for any container conatining the elements we care about.  For example:"
   ]
  },
  {
   "cell_type": "code",
   "execution_count": 9,
   "metadata": {
    "id": "jaKTQZKV3-J-"
   },
   "outputs": [
    {
     "data": {
      "text/plain": [
       "'abraaabra'"
      ]
     },
     "execution_count": 9,
     "metadata": {},
     "output_type": "execute_result"
    }
   ],
   "source": [
    "#seq=\"abracadabra\"\n",
    "#seq = tuple(\"abracadabra\")\n",
    "seq = list(\"abracadabra\")\n",
    "seq_type = type(seq)\n",
    "elems = [x for x in seq if counter_dict[x] >= 2]\n",
    "if seq_type == str:\n",
    "  filtered = ''.join(elems)\n",
    "else:\n",
    "  filtered = seq_type(elems)\n",
    "filtered\n",
    "''.join(elems)"
   ]
  },
  {
   "cell_type": "code",
   "execution_count": 24,
   "metadata": {
    "colab": {
     "base_uri": "https://localhost:8080/",
     "height": 35
    },
    "id": "ACnJti2r1frZ",
    "outputId": "bf0ac03e-4d07-4e52-cfcb-49b033bc5a6c"
   },
   "outputs": [
    {
     "data": {
      "application/vnd.google.colaboratory.intrinsic+json": {
       "type": "string"
      },
      "text/plain": [
       "'abraaabra'"
      ]
     },
     "execution_count": 24,
     "metadata": {},
     "output_type": "execute_result"
    }
   ],
   "source": [
    "seq = 'abracadabra'\n",
    "elems = [elem for elem in seq if counter_dict[elem] >= 2]\n",
    "''.join(elems)"
   ]
  },
  {
   "cell_type": "markdown",
   "metadata": {
    "id": "LowOkLSixAIb"
   },
   "source": [
    "### Exercise 13  Writing a simple retrieval function."
   ]
  },
  {
   "cell_type": "markdown",
   "metadata": {
    "id": "tG1gWlnPxAIb"
   },
   "source": [
    "Write a function that returns the first element of any sequence.  Consider the function\n",
    "to work as advertised if it raises an `Exception` if given a `dictionary` or a `set`.  These are not sequences.  Here are some examples of how it should work:\n",
    "\n",
    "```\n",
    ">>> first('william')\n",
    "'w'\n",
    ">>> first(['X', [0,1], ('a','b')])\n",
    "'X'\n",
    ">>> Z = first(['X', [0,1], ('a','b')])\n",
    ">>> Z\n",
    "'X'\n",
    "```\n",
    "\n",
    "Hint:  If you're having trouble getting this behavior, maybe you forgot\n",
    "about `return`?.\n",
    "\n",
    "Hint two:\n",
    "\n",
    "The cell below starts your function definition for you.\n",
    "\n",
    "```\n",
    "def first(seq):\n",
    "    # Your code here\n",
    "```\n",
    "\n",
    "The indented code that goes under `#Your code here`\n",
    "shoukd perform a retrieval operation that uses the name `seq`."
   ]
  },
  {
   "cell_type": "code",
   "execution_count": 42,
   "metadata": {},
   "outputs": [],
   "source": [
    "def first(seq):\n",
    "    # Your code here\n",
    "    return seq[0]"
   ]
  },
  {
   "cell_type": "code",
   "execution_count": 43,
   "metadata": {},
   "outputs": [
    {
     "data": {
      "text/plain": [
       "'w'"
      ]
     },
     "execution_count": 43,
     "metadata": {},
     "output_type": "execute_result"
    }
   ],
   "source": [
    "first('william')"
   ]
  },
  {
   "cell_type": "code",
   "execution_count": 44,
   "metadata": {},
   "outputs": [
    {
     "data": {
      "text/plain": [
       "'X'"
      ]
     },
     "execution_count": 44,
     "metadata": {},
     "output_type": "execute_result"
    }
   ],
   "source": [
    "Z = first(['X', [0,1], ('a','b')])\n",
    "Z"
   ]
  },
  {
   "cell_type": "code",
   "execution_count": null,
   "metadata": {},
   "outputs": [],
   "source": []
  },
  {
   "cell_type": "code",
   "execution_count": null,
   "metadata": {},
   "outputs": [],
   "source": []
  },
  {
   "cell_type": "code",
   "execution_count": null,
   "metadata": {},
   "outputs": [],
   "source": []
  },
  {
   "cell_type": "code",
   "execution_count": null,
   "metadata": {},
   "outputs": [],
   "source": []
  },
  {
   "cell_type": "code",
   "execution_count": null,
   "metadata": {},
   "outputs": [],
   "source": []
  },
  {
   "cell_type": "code",
   "execution_count": null,
   "metadata": {},
   "outputs": [],
   "source": []
  },
  {
   "cell_type": "code",
   "execution_count": null,
   "metadata": {},
   "outputs": [],
   "source": []
  },
  {
   "cell_type": "code",
   "execution_count": null,
   "metadata": {},
   "outputs": [],
   "source": []
  },
  {
   "cell_type": "code",
   "execution_count": null,
   "metadata": {},
   "outputs": [],
   "source": []
  },
  {
   "cell_type": "code",
   "execution_count": null,
   "metadata": {},
   "outputs": [],
   "source": []
  },
  {
   "cell_type": "code",
   "execution_count": 91,
   "metadata": {
    "id": "EQbt-EBQxAIc"
   },
   "outputs": [],
   "source": [
    "def first(seq):\n",
    "  # Your code here replacing pass\n",
    "  return seq[0]\n"
   ]
  },
  {
   "cell_type": "markdown",
   "metadata": {
    "id": "AjR5jBUVRj-K"
   },
   "source": [
    "Test your code by executing the next cell."
   ]
  },
  {
   "cell_type": "code",
   "execution_count": 87,
   "metadata": {},
   "outputs": [
    {
     "name": "stdout",
     "output_type": "stream",
     "text": [
      "w\n"
     ]
    }
   ],
   "source": [
    "Z = first('william')\n",
    "Z"
   ]
  },
  {
   "cell_type": "code",
   "execution_count": 90,
   "metadata": {},
   "outputs": [
    {
     "data": {
      "text/plain": [
       "True"
      ]
     },
     "execution_count": 90,
     "metadata": {},
     "output_type": "execute_result"
    }
   ],
   "source": [
    "Z == None"
   ]
  },
  {
   "cell_type": "code",
   "execution_count": 93,
   "metadata": {
    "id": "pIoDO49lRj-K",
    "outputId": "ddff070d-3ae7-4fcd-8f6d-72f8e77c4194"
   },
   "outputs": [
    {
     "name": "stdout",
     "output_type": "stream",
     "text": [
      "w\n"
     ]
    },
    {
     "data": {
      "text/plain": [
       "'X'"
      ]
     },
     "execution_count": 93,
     "metadata": {},
     "output_type": "execute_result"
    }
   ],
   "source": [
    "print(first('william'))\n",
    "Z = first(['X', [0,1], ('a','b')])\n",
    "Z"
   ]
  },
  {
   "cell_type": "code",
   "execution_count": 92,
   "metadata": {},
   "outputs": [
    {
     "name": "stdout",
     "output_type": "stream",
     "text": [
      "w\n"
     ]
    },
    {
     "data": {
      "text/plain": [
       "'X'"
      ]
     },
     "execution_count": 92,
     "metadata": {},
     "output_type": "execute_result"
    }
   ],
   "source": [
    "print(first('william'))\n",
    "Z = first(['X', [0,1], ('a','b')])\n",
    "Z"
   ]
  },
  {
   "cell_type": "code",
   "execution_count": null,
   "metadata": {
    "id": "nMKJgxQvRj-K",
    "outputId": "8ae4763b-990e-4c56-bc0e-a71ebc5a4ad9"
   },
   "outputs": [
    {
     "name": "stdout",
     "output_type": "stream",
     "text": [
      "X\n"
     ]
    }
   ],
   "source": [
    "Z = first(['X', [0,1], ('a','b')])\n",
    "Z"
   ]
  },
  {
   "cell_type": "code",
   "execution_count": null,
   "metadata": {
    "id": "WnvoLQJlRj-K",
    "outputId": "92702aaa-d8a1-4f59-d8ee-f25dc371ea3b"
   },
   "outputs": [
    {
     "name": "stdout",
     "output_type": "stream",
     "text": [
      "None\n"
     ]
    }
   ],
   "source": [
    "print(Z)"
   ]
  },
  {
   "cell_type": "code",
   "execution_count": null,
   "metadata": {
    "id": "OtMgQHltRj-K"
   },
   "outputs": [],
   "source": []
  },
  {
   "cell_type": "code",
   "execution_count": null,
   "metadata": {
    "id": "69xViH8XRj-K"
   },
   "outputs": [],
   "source": []
  },
  {
   "cell_type": "code",
   "execution_count": null,
   "metadata": {
    "id": "6BvqUgN-Rj-K"
   },
   "outputs": [],
   "source": []
  },
  {
   "cell_type": "code",
   "execution_count": null,
   "metadata": {
    "id": "692uksS_Rj-K"
   },
   "outputs": [],
   "source": []
  },
  {
   "cell_type": "code",
   "execution_count": null,
   "metadata": {
    "id": "kfeXcmgqRj-K"
   },
   "outputs": [],
   "source": []
  },
  {
   "cell_type": "code",
   "execution_count": null,
   "metadata": {
    "id": "DI7FlpDiRj-K"
   },
   "outputs": [],
   "source": []
  },
  {
   "cell_type": "code",
   "execution_count": null,
   "metadata": {
    "id": "V7aIb2QtRj-K"
   },
   "outputs": [],
   "source": [
    "def first(seq):\n",
    "  return seq[0]"
   ]
  },
  {
   "cell_type": "markdown",
   "metadata": {
    "id": "LayGEODFRj-K"
   },
   "source": [
    "Note the following answer is **wrong**."
   ]
  },
  {
   "cell_type": "code",
   "execution_count": null,
   "metadata": {
    "id": "qbj-q909Rj-K"
   },
   "outputs": [],
   "source": [
    "def bad_first(seq):\n",
    "  print(seq[0])"
   ]
  },
  {
   "cell_type": "markdown",
   "metadata": {
    "id": "z2OOqcJORj-K"
   },
   "source": [
    "This can be seen using one of our tests."
   ]
  },
  {
   "cell_type": "code",
   "execution_count": null,
   "metadata": {
    "id": "FErsjTRZRj-K",
    "outputId": "a1f26135-dbcc-4aa0-fed5-0a93895e0e7e"
   },
   "outputs": [
    {
     "name": "stdout",
     "output_type": "stream",
     "text": [
      "X\n"
     ]
    },
    {
     "data": {
      "text/plain": [
       "False"
      ]
     },
     "execution_count": 10,
     "metadata": {},
     "output_type": "execute_result"
    }
   ],
   "source": [
    "Z = bad_first(['X', [0,1], ('a','b')])\n",
    "Z == 'X'"
   ]
  },
  {
   "cell_type": "markdown",
   "metadata": {
    "id": "XkHQLPjDRj-K"
   },
   "source": [
    "You were asked to write a function that returns the first element of a sequence\n",
    "and this test checks to see that you did by setting a variable\n",
    "to the value of executing the function.\n",
    "In fact, this version of `first` doesn't return anything  (technically it returns `None`).\n",
    "\n",
    "The first issue is that this function lacks a `return`\n",
    "statement, so when the value of executing the function is used it will always be `None`,\n",
    "the special Python object that generally stands for \"no value of interest\".\n",
    "\n",
    "You might think the following edit fixes the problem."
   ]
  },
  {
   "cell_type": "code",
   "execution_count": null,
   "metadata": {
    "id": "tzXSAutsRj-K",
    "outputId": "e004da77-0820-4319-f181-489ff21bb7cd"
   },
   "outputs": [
    {
     "name": "stdout",
     "output_type": "stream",
     "text": [
      "X\n"
     ]
    },
    {
     "data": {
      "text/plain": [
       "False"
      ]
     },
     "execution_count": 16,
     "metadata": {},
     "output_type": "execute_result"
    }
   ],
   "source": [
    "def first(seq):\n",
    "  return print(seq[0])\n",
    "\n",
    "Z = first(['X', [0,1], ('a','b')])\n",
    "Z == 'X'"
   ]
  },
  {
   "cell_type": "markdown",
   "metadata": {
    "id": "0TVQopnuRj-K"
   },
   "source": [
    "But it doesn't.  Why not?\n",
    "\n",
    "While `print` is a function, it doesnt return what it prints. It returns nothing, technically `None`\n",
    "again.\n",
    "\n",
    "What `print` does is print something (by default, to standard output, which is why `X` appears\n",
    "in the output above), and then it returns `None`."
   ]
  },
  {
   "cell_type": "code",
   "execution_count": null,
   "metadata": {
    "id": "uN4KuOCVRj-K",
    "outputId": "4b9d5e30-4880-450b-dae2-b3f1aab9d9d6"
   },
   "outputs": [
    {
     "name": "stdout",
     "output_type": "stream",
     "text": [
      "X\n"
     ]
    },
    {
     "data": {
      "text/plain": [
       "True"
      ]
     },
     "execution_count": 17,
     "metadata": {},
     "output_type": "execute_result"
    }
   ],
   "source": [
    "Z = first(['X', [0,1], ('a','b')])\n",
    "Z == None"
   ]
  },
  {
   "cell_type": "markdown",
   "metadata": {
    "id": "6xT3vqLvRj-K"
   },
   "source": [
    "So be sure to be clear on the fact that returning a value and printing a value are two different things.\n",
    "In fact, nothing in the problem statement asked for you to print a value and so your solution\n",
    "should not include a call to the `print` function.\n",
    "\n",
    ">Write a function that returns the first element of any sequence.  Consider the function\n",
    "to work as advertised if it raises an `Exception` of givem a `dictionary` or a `set`.  \n",
    "\n",
    "If you are asked to write a function that prints something, the directions\n",
    "will specifically say that."
   ]
  },
  {
   "cell_type": "markdown",
   "metadata": {
    "id": "Ie8ReEYtSzx7"
   },
   "source": [
    "### Exercise 13:  Warning messages and returning a value in a corner case\n",
    "\n",
    "Your most likely solution to the previous problem behaves like this:\n",
    "\n",
    "```\n",
    ">>> Z = first('')\n",
    "IndexError                                Traceback (most recent call last)\n",
    "...\n",
    "IndexError: string index out of range\n",
    ">>> Z\n",
    "---------------------------------------------------------------------------\n",
    "NameError                                 Traceback (most recent call last)\n",
    "<ipython-input-3-b4379bcb7951> in <module>\n",
    "----> 1 Z\n",
    "\n",
    "NameError: name 'Z' is not defined\n",
    "\n",
    "```\n",
    "The call to `first` on an empty sequence raises an `IndexError` and the variable\n",
    "`Z` never gets assigned a value, so attempting to use it causes a\n",
    "`NameError`.  This is standard.  Any exception raised during execution interrupts\n",
    "execution so the function never returns, not even with the value `None`),\n",
    "so no value gets assigned to `Z` and `Z`  behaves like any i=unknown name (`NameError`).\n",
    "\n",
    "Fix your function so that it behaves likes this (you will have to write the\n",
    "`print` command issuing the warning yourself)\n",
    "\n",
    "```\n",
    ">>> Z = first('')\n",
    "***Warning***: Empty sequence passed to first!\n",
    ">>> Z == None\n",
    "True\n",
    "''\n",
    "```\n",
    "\n",
    "Note:  Your fixed function should continue to return the first element of a sequence\n",
    "whenever possible:\n",
    "\n",
    "```\n",
    "In[0]: Z = first(['X', [0,1], ('a','b')])\n",
    "        Z == 'X'\n",
    "Out[0]:  True\n",
    "```\n"
   ]
  },
  {
   "cell_type": "code",
   "execution_count": null,
   "metadata": {
    "id": "12eBESwUSzx7"
   },
   "outputs": [],
   "source": [
    "## Put code here\n"
   ]
  },
  {
   "cell_type": "code",
   "execution_count": null,
   "metadata": {
    "id": "Y5i8BblfRj-L"
   },
   "outputs": [],
   "source": []
  },
  {
   "cell_type": "code",
   "execution_count": null,
   "metadata": {
    "id": "JSvsxZtJRj-L"
   },
   "outputs": [],
   "source": []
  },
  {
   "cell_type": "code",
   "execution_count": null,
   "metadata": {
    "id": "vlHxJw6aRj-L"
   },
   "outputs": [],
   "source": []
  },
  {
   "cell_type": "code",
   "execution_count": null,
   "metadata": {
    "id": "wu_VlCUcRj-L"
   },
   "outputs": [],
   "source": []
  },
  {
   "cell_type": "code",
   "execution_count": null,
   "metadata": {
    "id": "Zp1UrxHVRj-L"
   },
   "outputs": [],
   "source": []
  },
  {
   "cell_type": "code",
   "execution_count": null,
   "metadata": {
    "id": "zpjlou63Rj-L"
   },
   "outputs": [],
   "source": []
  },
  {
   "cell_type": "code",
   "execution_count": null,
   "metadata": {
    "id": "TA2xzUZ3Rj-L"
   },
   "outputs": [],
   "source": []
  },
  {
   "cell_type": "code",
   "execution_count": null,
   "metadata": {
    "id": "XzxsBaxoRj-L"
   },
   "outputs": [],
   "source": [
    "#soln 1\n",
    "def first(seq):\n",
    "  if len(seq) == 0:\n",
    "    print(\"***Warning***: Empty sequence passed to first!\")\n",
    "    # This return prevents the next return statement from raising an exception.\n",
    "    return\n",
    "  return seq[0]\n",
    "\n",
    "## soln 2\n",
    "def first2(seq):\n",
    "  if len(seq) == 0:\n",
    "    print(\"***Warning***: Empty sequence passed to first!\")\n",
    "  else:\n",
    "    return seq[0]\n",
    "\n",
    "# soln 3  Use python Exception handling construction try/except:.\n",
    "# Python principle:  It is better to ask forgiveness than to ask permission\n",
    "def first3 (seq):\n",
    "    try:\n",
    "        return seq[0]\n",
    "    except IndexError:\n",
    "        print(\"***Warning***: Empty sequence passed to first!\")"
   ]
  },
  {
   "cell_type": "code",
   "execution_count": null,
   "metadata": {
    "id": "CHw-q0TYRj-L",
    "outputId": "c698d671-88c0-4d71-b7ec-30b1c7a9fbd3"
   },
   "outputs": [
    {
     "name": "stdout",
     "output_type": "stream",
     "text": [
      "***Warning***: Empty sequence passed to first!\n"
     ]
    },
    {
     "data": {
      "text/plain": [
       "True"
      ]
     },
     "execution_count": 54,
     "metadata": {},
     "output_type": "execute_result"
    }
   ],
   "source": [
    "Z = first('')\n",
    "Z == None"
   ]
  },
  {
   "cell_type": "code",
   "execution_count": null,
   "metadata": {
    "id": "LD1YXllgRj-L",
    "outputId": "2a3cc5be-0bbb-4ea7-b0ef-1fc63b35a0e8"
   },
   "outputs": [
    {
     "name": "stdout",
     "output_type": "stream",
     "text": [
      "***Warning***: Empty sequence passed to first!\n"
     ]
    },
    {
     "data": {
      "text/plain": [
       "True"
      ]
     },
     "execution_count": 55,
     "metadata": {},
     "output_type": "execute_result"
    }
   ],
   "source": [
    "Z = first3('')\n",
    "Z == None"
   ]
  },
  {
   "cell_type": "markdown",
   "metadata": {
    "id": "eTm2-Q8OxAIe"
   },
   "source": [
    "### Exercise 14:  A palindrome function, reversing sequences"
   ]
  },
  {
   "cell_type": "markdown",
   "metadata": {
    "id": "m0QzizbcxAIe"
   },
   "source": [
    "Write a function that creates a palindrome from any sequence, mutable\n",
    "or immutable.  Here is how it should  work:\n",
    "\n",
    "```\n",
    "    In [ ]: x = palindrome('abcd')\n",
    "    Out [ ]:\n",
    "    In [ ] x\n",
    "    'abcddcba'\n",
    "```\n",
    "\n",
    "Hint:  You can reverse any sequence `Seq` (mutable or immutable) with `Seq[::-1]`."
   ]
  },
  {
   "cell_type": "code",
   "execution_count": 10,
   "metadata": {
    "id": "vR09xCJ-xAIe"
   },
   "outputs": [],
   "source": [
    "\n",
    "# Your code here\n",
    "#'abcd'[::-1]\n",
    "\n",
    "def palindrome(W):\n",
    "    # Your code here replacing pass\n",
    "    pass"
   ]
  },
  {
   "cell_type": "markdown",
   "metadata": {},
   "source": [
    "Test one:"
   ]
  },
  {
   "cell_type": "code",
   "execution_count": 96,
   "metadata": {},
   "outputs": [
    {
     "data": {
      "text/plain": [
       "'abcddcba'"
      ]
     },
     "execution_count": 96,
     "metadata": {},
     "output_type": "execute_result"
    }
   ],
   "source": [
    "x = palindrome('abcd')\n",
    "x"
   ]
  },
  {
   "cell_type": "code",
   "execution_count": null,
   "metadata": {},
   "outputs": [],
   "source": []
  },
  {
   "cell_type": "code",
   "execution_count": null,
   "metadata": {},
   "outputs": [],
   "source": []
  },
  {
   "cell_type": "code",
   "execution_count": null,
   "metadata": {},
   "outputs": [],
   "source": []
  },
  {
   "cell_type": "code",
   "execution_count": null,
   "metadata": {},
   "outputs": [],
   "source": []
  },
  {
   "cell_type": "code",
   "execution_count": null,
   "metadata": {},
   "outputs": [],
   "source": []
  },
  {
   "cell_type": "code",
   "execution_count": null,
   "metadata": {},
   "outputs": [],
   "source": []
  },
  {
   "cell_type": "code",
   "execution_count": null,
   "metadata": {},
   "outputs": [],
   "source": []
  },
  {
   "cell_type": "code",
   "execution_count": null,
   "metadata": {},
   "outputs": [],
   "source": []
  },
  {
   "cell_type": "code",
   "execution_count": 64,
   "metadata": {},
   "outputs": [],
   "source": [
    "\n",
    "# Your code here\n",
    "#'abcd'[::-1]\n",
    "\n",
    "def palindrome(W):\n",
    "    # Your code here replacing pass\n",
    "    return W + W[::-1]"
   ]
  },
  {
   "cell_type": "markdown",
   "metadata": {
    "id": "b46KOqoaxAIf"
   },
   "source": []
  },
  {
   "cell_type": "code",
   "execution_count": 65,
   "metadata": {
    "id": "FRUUPuu6Rj-L",
    "outputId": "35e989b9-9fc2-4d5b-cfec-88130d99542e"
   },
   "outputs": [
    {
     "data": {
      "text/plain": [
       "'abcddcba'"
      ]
     },
     "execution_count": 65,
     "metadata": {},
     "output_type": "execute_result"
    }
   ],
   "source": [
    "x = palindrome('abcd')\n",
    "x"
   ]
  },
  {
   "cell_type": "code",
   "execution_count": null,
   "metadata": {
    "id": "RNfn_Zw1Rj-L"
   },
   "outputs": [],
   "source": []
  },
  {
   "cell_type": "code",
   "execution_count": null,
   "metadata": {
    "id": "FF1YMw3yRj-L"
   },
   "outputs": [],
   "source": []
  },
  {
   "cell_type": "code",
   "execution_count": null,
   "metadata": {
    "id": "vkK2r_AzRj-L"
   },
   "outputs": [],
   "source": []
  },
  {
   "cell_type": "code",
   "execution_count": null,
   "metadata": {
    "id": "KwGfsHogRj-L"
   },
   "outputs": [],
   "source": []
  },
  {
   "cell_type": "code",
   "execution_count": null,
   "metadata": {
    "id": "4yYUerCJRj-L"
   },
   "outputs": [],
   "source": []
  },
  {
   "cell_type": "code",
   "execution_count": null,
   "metadata": {},
   "outputs": [],
   "source": []
  },
  {
   "cell_type": "code",
   "execution_count": null,
   "metadata": {},
   "outputs": [],
   "source": []
  },
  {
   "cell_type": "code",
   "execution_count": null,
   "metadata": {},
   "outputs": [],
   "source": []
  },
  {
   "cell_type": "code",
   "execution_count": null,
   "metadata": {},
   "outputs": [],
   "source": []
  },
  {
   "cell_type": "code",
   "execution_count": null,
   "metadata": {},
   "outputs": [],
   "source": []
  },
  {
   "cell_type": "code",
   "execution_count": null,
   "metadata": {},
   "outputs": [],
   "source": []
  },
  {
   "cell_type": "code",
   "execution_count": null,
   "metadata": {
    "id": "bGuVkKTMRj-L",
    "outputId": "041875c6-d1fe-4149-feb3-ccb34756dc8f"
   },
   "outputs": [
    {
     "data": {
      "text/plain": [
       "'abcddcba'"
      ]
     },
     "execution_count": 31,
     "metadata": {},
     "output_type": "execute_result"
    }
   ],
   "source": [
    "def palindrome(Seq):\n",
    "    return Seq + Seq[::-1]\n",
    "\n",
    "palindrome('abcd')"
   ]
  },
  {
   "cell_type": "markdown",
   "metadata": {
    "id": "LkreXXW1SzyD"
   },
   "source": [
    "### Exercise 15: Using an optional argument"
   ]
  },
  {
   "cell_type": "code",
   "execution_count": 108,
   "metadata": {},
   "outputs": [],
   "source": [
    "def add (x,y=3,z=4):\n",
    "    return x + y - z"
   ]
  },
  {
   "cell_type": "code",
   "execution_count": 110,
   "metadata": {},
   "outputs": [
    {
     "data": {
      "text/plain": [
       "2"
      ]
     },
     "execution_count": 110,
     "metadata": {},
     "output_type": "execute_result"
    }
   ],
   "source": [
    "add(3,z=4)"
   ]
  },
  {
   "cell_type": "code",
   "execution_count": 107,
   "metadata": {},
   "outputs": [
    {
     "data": {
      "text/plain": [
       "3"
      ]
     },
     "execution_count": 107,
     "metadata": {},
     "output_type": "execute_result"
    }
   ],
   "source": [
    "add(3)"
   ]
  },
  {
   "cell_type": "code",
   "execution_count": 102,
   "metadata": {},
   "outputs": [
    {
     "ename": "TypeError",
     "evalue": "add() missing 1 required positional argument: 'x'",
     "output_type": "error",
     "traceback": [
      "\u001b[0;31m---------------------------------------------------------------------------\u001b[0m",
      "\u001b[0;31mTypeError\u001b[0m                                 Traceback (most recent call last)",
      "Cell \u001b[0;32mIn[102], line 1\u001b[0m\n\u001b[0;32m----> 1\u001b[0m add(y\u001b[38;5;241m=\u001b[39m\u001b[38;5;241m4\u001b[39m)\n",
      "\u001b[0;31mTypeError\u001b[0m: add() missing 1 required positional argument: 'x'"
     ]
    }
   ],
   "source": [
    "add(y=4)"
   ]
  },
  {
   "cell_type": "markdown",
   "metadata": {
    "id": "0_xxM_tZSzyD"
   },
   "source": [
    "Modify the palindrome function of Exercise 11 so that it has an optional middle string which\n",
    "is used as the center of the palindrome. Here are examples of how it should behave:\n",
    "\n",
    "```\n",
    "# Same as before, but we are checking for the optionality of the new arg\n",
    "In [ ]: palindrome('ohno')     \n",
    "Out [ ]: 'ohnoonho'\n",
    "\n",
    "In [ ]: palindrome('madam', 'i')\n",
    "Out [ ]: 'madamimadam'\n",
    "\n",
    "In [ ]: palindrome('mada', 'mim')     \n",
    "Out [ ]: 'madamimadam'\n",
    "\n",
    "In [ ]: palindrome(L0 ='mada', center ='mim')     \n",
    "Out [ ]: 'madamimadam'\n",
    "\n",
    "In [ ]: palindrome(center ='mim', L0 ='mada')     \n",
    "Out [ ]: 'madamimadam'\n",
    "```\n",
    "\n",
    "Hint:  For help with optional arguments and default values (which is what you need to worry about here), see [VanderPlas Whirlwind Tour of Python, Chap 8.](https://github.com/jakevdp/WhirlwindTourOfPython/blob/master/Index.ipynb)\n",
    "\n",
    "Hint:  this problem can be solved by writing the function\n",
    "with a conditional branch (check to see\n",
    "if `center` has been supplied and do one thing if it has,\n",
    "and another if it hasn't), but you actually don't need a conditional\n",
    "branch, if you use the right default value for `center`.\n",
    "\n",
    "Optional bell & whistle:  Have `palindrome` check to see if the `center` argument is a palindrome.\n",
    "If it isn't, turn it into a palindrome by calling `palindrome` on just the center argument.\n",
    "For example:\n",
    "\n",
    "```\n",
    "In[0]: palindrome('abcde','fgh')\n",
    "Out[0]: 'abcdefghhgfedcba'\n",
    "```"
   ]
  },
  {
   "cell_type": "code",
   "execution_count": 53,
   "metadata": {},
   "outputs": [],
   "source": [
    "# Change to 2 parameters, second is optional\n",
    "def palindrome(L0, center=\"\"):\n",
    "    #your cocde here\n",
    "    pass"
   ]
  },
  {
   "cell_type": "markdown",
   "metadata": {},
   "source": [
    "SOME tests (not all):"
   ]
  },
  {
   "cell_type": "code",
   "execution_count": 54,
   "metadata": {
    "scrolled": true
   },
   "outputs": [
    {
     "data": {
      "text/plain": [
       "'madaminadam'"
      ]
     },
     "execution_count": 54,
     "metadata": {},
     "output_type": "execute_result"
    }
   ],
   "source": [
    "palindrome(\"mada\",\"min\")"
   ]
  },
  {
   "cell_type": "code",
   "execution_count": 55,
   "metadata": {},
   "outputs": [
    {
     "data": {
      "text/plain": [
       "'ohnoonho'"
      ]
     },
     "execution_count": 55,
     "metadata": {},
     "output_type": "execute_result"
    }
   ],
   "source": [
    "palindrome(\"ohno\")"
   ]
  },
  {
   "cell_type": "code",
   "execution_count": null,
   "metadata": {},
   "outputs": [],
   "source": []
  },
  {
   "cell_type": "code",
   "execution_count": null,
   "metadata": {},
   "outputs": [],
   "source": []
  },
  {
   "cell_type": "code",
   "execution_count": null,
   "metadata": {},
   "outputs": [],
   "source": []
  },
  {
   "cell_type": "code",
   "execution_count": null,
   "metadata": {},
   "outputs": [],
   "source": []
  },
  {
   "cell_type": "code",
   "execution_count": null,
   "metadata": {},
   "outputs": [],
   "source": []
  },
  {
   "cell_type": "code",
   "execution_count": null,
   "metadata": {},
   "outputs": [],
   "source": []
  },
  {
   "cell_type": "code",
   "execution_count": null,
   "metadata": {},
   "outputs": [],
   "source": []
  },
  {
   "cell_type": "code",
   "execution_count": null,
   "metadata": {},
   "outputs": [],
   "source": []
  },
  {
   "cell_type": "code",
   "execution_count": null,
   "metadata": {},
   "outputs": [],
   "source": []
  },
  {
   "cell_type": "code",
   "execution_count": null,
   "metadata": {},
   "outputs": [],
   "source": []
  },
  {
   "cell_type": "code",
   "execution_count": null,
   "metadata": {},
   "outputs": [],
   "source": []
  },
  {
   "cell_type": "code",
   "execution_count": null,
   "metadata": {},
   "outputs": [],
   "source": []
  },
  {
   "cell_type": "code",
   "execution_count": 111,
   "metadata": {},
   "outputs": [],
   "source": [
    "def palindrome (L0,center=None):\n",
    "    if center is None:\n",
    "        return L0 + L0[::-1]\n",
    "    else:\n",
    "        return L0 + center +  L0[::-1] \n",
    "    "
   ]
  },
  {
   "cell_type": "code",
   "execution_count": null,
   "metadata": {},
   "outputs": [],
   "source": []
  },
  {
   "cell_type": "code",
   "execution_count": null,
   "metadata": {},
   "outputs": [],
   "source": []
  },
  {
   "cell_type": "code",
   "execution_count": null,
   "metadata": {},
   "outputs": [],
   "source": []
  },
  {
   "cell_type": "code",
   "execution_count": null,
   "metadata": {},
   "outputs": [],
   "source": []
  },
  {
   "cell_type": "code",
   "execution_count": null,
   "metadata": {},
   "outputs": [],
   "source": []
  },
  {
   "cell_type": "code",
   "execution_count": null,
   "metadata": {},
   "outputs": [],
   "source": []
  },
  {
   "cell_type": "code",
   "execution_count": 72,
   "metadata": {
    "id": "neeS9cv8SzyD"
   },
   "outputs": [],
   "source": [
    "# Your code here\n",
    "def palindrome(L0,center=\"\"):\n",
    "    return L0 + center + L0[::-1]"
   ]
  },
  {
   "cell_type": "markdown",
   "metadata": {
    "id": "slVJcb_kRj-M"
   },
   "source": [
    "Test your function using the following test suite.\n",
    "\n",
    "The desired outputs have been been given in the cell below.  In order not\n",
    "to lose sight of those outputs when testing, you can use the cell following\n",
    "for testing."
   ]
  },
  {
   "cell_type": "code",
   "execution_count": null,
   "metadata": {
    "id": "u8bkvmpQRj-M",
    "outputId": "37e9d541-9285-4b1b-90a3-838e372ec454"
   },
   "outputs": [
    {
     "name": "stdout",
     "output_type": "stream",
     "text": [
      "madamimadam\n",
      "ohnoonho\n",
      "madamimadam\n",
      "madamimadam\n",
      "madamimadam\n",
      "madamimadam\n"
     ]
    }
   ],
   "source": [
    "print(palindrome('madam','i'))\n",
    "print(palindrome('ohno'))\n",
    "print(palindrome('madam', 'i'))\n",
    "print(palindrome('mada', 'mim'))\n",
    "print(palindrome(L0 ='mada', center ='mim'))\n",
    "print(palindrome(center ='mim', L0 ='mada'))"
   ]
  },
  {
   "cell_type": "code",
   "execution_count": 56,
   "metadata": {},
   "outputs": [
    {
     "name": "stdout",
     "output_type": "stream",
     "text": [
      "madamimadam\n",
      "ohnoonho\n",
      "madamimadam\n",
      "madamimadam\n",
      "madamimadam\n",
      "madamimadam\n"
     ]
    }
   ],
   "source": [
    "print(palindrome('madam','i'))\n",
    "print(palindrome('ohno'))\n",
    "print(palindrome('madam', 'i' ))\n",
    "print(palindrome('mada', 'mim'))\n",
    "print(palindrome(L0 ='mada', center ='mim'))\n",
    "print(palindrome(center ='mim', L0 ='mada'))"
   ]
  },
  {
   "cell_type": "code",
   "execution_count": null,
   "metadata": {
    "id": "O6pR6CCTRj-M",
    "outputId": "1436ca1f-b757-4bf4-d1bb-dc4341942ba2"
   },
   "outputs": [
    {
     "name": "stdout",
     "output_type": "stream",
     "text": [
      "('madam', 'i') madamimadam\n",
      "('ohno',) ohnoonho\n",
      "('madam', 'i') madamimadam\n",
      "('mada', 'mim') madamimadam\n",
      "{'L0': 'mada', 'center': 'mim'} madamimadam\n",
      "{'center': 'mim', 'L0': 'mada'} madamimadam\n"
     ]
    }
   ],
   "source": [
    "arglist = [('madam','i'),\n",
    "           ('ohno',),\n",
    "           ('madam', 'i'),\n",
    "           ('mada', 'mim'),\n",
    "           dict(L0 ='mada', center ='mim'),\n",
    "           dict(center ='mim', L0 ='mada') ]\n",
    "\n",
    "for args in arglist:\n",
    "    if isinstance(args,dict):\n",
    "        print(f\"{args}  {palindrome(**args)}\")\n",
    "    else:\n",
    "        print(args, palindrome(*args))\n"
   ]
  },
  {
   "cell_type": "code",
   "execution_count": null,
   "metadata": {
    "id": "J9Nh6bFyRj-M"
   },
   "outputs": [],
   "source": []
  },
  {
   "cell_type": "code",
   "execution_count": null,
   "metadata": {
    "id": "MPMh6hz0Rj-M"
   },
   "outputs": [],
   "source": []
  },
  {
   "cell_type": "code",
   "execution_count": null,
   "metadata": {
    "id": "GJUtcwveRj-M"
   },
   "outputs": [],
   "source": []
  },
  {
   "cell_type": "code",
   "execution_count": null,
   "metadata": {
    "id": "R2of5wh8Rj-M"
   },
   "outputs": [],
   "source": []
  },
  {
   "cell_type": "code",
   "execution_count": null,
   "metadata": {
    "id": "sQzp_S9SRj-M"
   },
   "outputs": [],
   "source": []
  },
  {
   "cell_type": "code",
   "execution_count": null,
   "metadata": {
    "id": "4SKavUfJRj-M"
   },
   "outputs": [],
   "source": []
  },
  {
   "cell_type": "code",
   "execution_count": null,
   "metadata": {
    "id": "vzCUFmStRj-M"
   },
   "outputs": [],
   "source": []
  },
  {
   "cell_type": "code",
   "execution_count": null,
   "metadata": {
    "id": "qKI2nzO5Rj-M"
   },
   "outputs": [],
   "source": []
  },
  {
   "cell_type": "code",
   "execution_count": null,
   "metadata": {
    "id": "q7AullQeRj-M"
   },
   "outputs": [],
   "source": [
    "def palindrome (L0,center=''):\n",
    "    if center != center[::-1]:\n",
    "       center = palindrome(center)\n",
    "    return L0 + center + L0[::-1]"
   ]
  },
  {
   "cell_type": "code",
   "execution_count": null,
   "metadata": {
    "id": "xEkOy85sRj-M",
    "outputId": "c0310d71-73a6-48a6-bda0-f80a6c7edb86"
   },
   "outputs": [
    {
     "name": "stdout",
     "output_type": "stream",
     "text": [
      "madamimadam\n",
      "ohnoonho\n",
      "madamimadam\n",
      "madamimadam\n",
      "madamimadam\n",
      "madamimadam\n"
     ]
    }
   ],
   "source": [
    "print(palindrome('madam','i'))\n",
    "print(palindrome('ohno'))\n",
    "print(palindrome('madam', 'i'))\n",
    "print(palindrome('mada', 'mim'))\n",
    "print(palindrome(L0 ='mada', center ='mim'))\n",
    "print(palindrome(center ='mim', L0 ='mada'))"
   ]
  },
  {
   "cell_type": "code",
   "execution_count": null,
   "metadata": {
    "id": "UfJSCk0LRj-M",
    "outputId": "17eb78e8-b4fc-4c3f-c912-a8de21776fce",
    "scrolled": false
   },
   "outputs": [
    {
     "data": {
      "text/plain": [
       "'abcdefghhgfedcba'"
      ]
     },
     "execution_count": 49,
     "metadata": {},
     "output_type": "execute_result"
    }
   ],
   "source": [
    "palindrome('abcde','fgh')"
   ]
  },
  {
   "cell_type": "code",
   "execution_count": 113,
   "metadata": {},
   "outputs": [
    {
     "name": "stdout",
     "output_type": "stream",
     "text": [
      "at\n",
      "au\n",
      "av\n",
      "aw\n",
      "ax\n",
      "bt\n",
      "bu\n",
      "bv\n",
      "bw\n",
      "bx\n",
      "ct\n",
      "cu\n",
      "cv\n",
      "cw\n",
      "cx\n",
      "dt\n",
      "du\n",
      "dv\n",
      "dw\n",
      "dx\n",
      "et\n",
      "eu\n",
      "ev\n",
      "ew\n",
      "ex\n"
     ]
    }
   ],
   "source": [
    "for x in \"abcde\":\n",
    "    for y in \"tuvwx\":\n",
    "        print(x+y)"
   ]
  },
  {
   "cell_type": "markdown",
   "metadata": {
    "id": "bNCVTf1fRj-M"
   },
   "source": [
    "Notice that this version of `palindrome`  appears to have a circular definition.  It includes\n",
    "a call to `palindrome` inside of it.\n",
    "\n",
    "This is called recursion and it is perfectly fine as long as the inner call\n",
    "to `palindrome` is on a simpler case (the inner call needs to find\n",
    "a palindrome for just  `center`, not both `L0` and `center`)."
   ]
  },
  {
   "cell_type": "markdown",
   "metadata": {
    "id": "nV0348huRj-M"
   },
   "source": [
    "### Exercise 16: Computing with coordinated sequences"
   ]
  },
  {
   "cell_type": "markdown",
   "metadata": {
    "id": "KkufDpfcRj-M"
   },
   "source": [
    "The problem here is to coordinate the information from two coordinated lists.  Suppose we have coordinated lists of books and authors such that `authors[4]` is the author of `books[4]` and in fact for any appropriate index `i`,  `authors[i]` is the author of `books[i]`.\n",
    "\n",
    "We will write a function which, given an item located at position `i` in list A produces the corresponding item located at position `i` in list B.  There is a way of computing this which avoids writing a loop; and that is to compute\n",
    "a dictionary.  Set that idea aside for now.  We'll look at it later.  For now assume you will\n",
    "need to loop through one of the sequences, needing to keep track of where you are to retrieve\n",
    "the approrpiate information at position `i` in the other sequence,.\n",
    "\n",
    "There are two ways of doing this.  You should do **both**.\n",
    "\n",
    "1.  Using Python's `enumerate` iterator to keep track of the current index, loop through `books` to find the `War and Peace`, then use the index of `War and Peace` to find\n",
    "the corresponding author in `authors`.  Note: although you could do this with the `.index()` method on lists, the point here is to illustrate `enumerate`.  Here is how `enumerate` works:\n",
    "\n",
    "```\n",
    ">>> for x in 'abcdefg':\n",
    "       print(x)\n",
    "a\n",
    "b\n",
    "c\n",
    "d\n",
    "e\n",
    "f\n",
    "g\n",
    "\n",
    ">>> for (i, x) in enumerate('abcdefg'):\n",
    "        print(i, x)\n",
    "0 a\n",
    "1 b\n",
    "2 c\n",
    "3 d\n",
    "4 e\n",
    "5 f\n",
    "6 g\n",
    "# Keeps track of the index of the current value of loop var.\n",
    "```\n",
    "\n",
    "2. Zip the two lists together to make a list a of pairs, turn that into a dictionary, and look up the author of `War and Peace` in the new dictionary.  The cells following this one demonstrates how `zip` works.\n",
    "\n",
    "For either solution, your function should work as follows::\n",
    "\n",
    "```\n",
    ">>> authors = ['William Faulkner', 'Charles Dickens', 'Leo Tolstoy', 'William Golding']\n",
    ">>> books = ['The Sound and the Fury', 'Our Mutual Friend', 'War and Peace',\n",
    "              'Lord of the Flies']\n",
    ">>> find_related_item_soln_one('Leo Tolstoy', authors, books)\n",
    "'War and Peace'\n",
    ">>> find_related_item_soln_two('Leo Tolstoy', authors, books)\n",
    "'War and Peace'\n",
    "```"
   ]
  },
  {
   "cell_type": "markdown",
   "metadata": {
    "id": "gvZA7yZPRj-M"
   },
   "source": [
    "Example code to help with solution one:"
   ]
  },
  {
   "cell_type": "code",
   "execution_count": null,
   "metadata": {
    "id": "_ASqCE_2Rj-M",
    "outputId": "7184cfae-e6e2-4212-8e12-96524f24ead1"
   },
   "outputs": [
    {
     "name": "stdout",
     "output_type": "stream",
     "text": [
      "a 9\n",
      "b 8\n",
      "c 7\n",
      "d 0\n",
      "e 2\n",
      "f 3\n",
      "g 4\n"
     ]
    }
   ],
   "source": [
    "lets = 'abcdefg'\n",
    "codes = '9870234'\n",
    "# Loop through lets, print code corresponding to let\n",
    "for (i, x) in enumerate(lets):\n",
    "        print(x, codes[i])"
   ]
  },
  {
   "cell_type": "markdown",
   "metadata": {
    "id": "XkIxqPUcRj-M"
   },
   "source": [
    "Example code to help with solution two."
   ]
  },
  {
   "cell_type": "code",
   "execution_count": 1,
   "metadata": {
    "id": "75kvzCI7Rj-M",
    "outputId": "f4a378d0-3ee0-494b-b571-aef2ca0d602a"
   },
   "outputs": [
    {
     "name": "stdout",
     "output_type": "stream",
     "text": [
      "Zip object <zip object at 0x7f953895a540>\n",
      "Zip object => list [('a', '9'), ('b', '8'), ('c', '7'), ('d', '0'), ('e', '2'), ('f', '3'), ('g', '4')]\n",
      "a 9\n",
      "b 8\n",
      "c 7\n",
      "d 0\n",
      "e 2\n",
      "f 3\n",
      "g 4\n"
     ]
    }
   ],
   "source": [
    "# We start by defining two sequences with linked information\n",
    "# The second contains the code numbers for the first.\n",
    "lets = 'abcdefg'\n",
    "codes = '9870234'\n",
    "Z = zip(lets, codes)\n",
    "##  Let's look at zip objects to help understand them\n",
    "##  Not a part of the necessary code for the loop below.\n",
    "#  Plain zip object: Not much to look at\n",
    "print('Zip object', Z)\n",
    "# Cast it into a list, to print it out\n",
    "print('Zip object => list', list(Z))\n",
    "# Make a fresh zip object to iterate through (each zip object, like a stream, can\n",
    "# be iterated through only once)\n",
    "Z = zip(lets, codes)\n",
    "for (x,y) in Z:\n",
    "    print(x,y)"
   ]
  },
  {
   "cell_type": "markdown",
   "metadata": {
    "id": "WLcn_RJHRj-N"
   },
   "source": [
    "**Put your two solutions in the two cells below!**"
   ]
  },
  {
   "cell_type": "code",
   "execution_count": 6,
   "metadata": {
    "id": "dnHNj75KRj-N"
   },
   "outputs": [],
   "source": [
    "\n",
    "authors = ['William Faulkner', 'Charles Dickens', 'Leo Tolstoy', 'William Golding']\n",
    "books = ['The Sound and the Fury', 'Our Mutual Friend', 'War and Peace', 'Lord of the Flies']\n",
    "# Soln #1\n",
    "def find_related_item_soln_one(item, seq1, seq2):\n",
    "    #  your code here replacinf pass\n",
    "    pass"
   ]
  },
  {
   "cell_type": "code",
   "execution_count": null,
   "metadata": {
    "id": "t9jq58yaRj-N"
   },
   "outputs": [],
   "source": [
    "# Soln #2\n",
    "# Soln #1\n",
    "def find_related_item_soln_two(item, seq1, seq2):\n",
    "    #  your code here replacinf pass\n",
    "    pass"
   ]
  },
  {
   "cell_type": "code",
   "execution_count": null,
   "metadata": {
    "id": "tOYP9RlWRj-N"
   },
   "outputs": [],
   "source": []
  },
  {
   "cell_type": "code",
   "execution_count": null,
   "metadata": {
    "id": "Ksve7QP5Rj-N"
   },
   "outputs": [],
   "source": []
  },
  {
   "cell_type": "code",
   "execution_count": null,
   "metadata": {
    "id": "HwQPjhSVRj-N"
   },
   "outputs": [],
   "source": []
  },
  {
   "cell_type": "code",
   "execution_count": null,
   "metadata": {
    "id": "dhD1Fj05Rj-N"
   },
   "outputs": [],
   "source": []
  },
  {
   "cell_type": "code",
   "execution_count": null,
   "metadata": {
    "id": "drxyzOZ2Rj-N"
   },
   "outputs": [],
   "source": []
  },
  {
   "cell_type": "code",
   "execution_count": null,
   "metadata": {
    "id": "vpUaRRkxRj-N"
   },
   "outputs": [],
   "source": []
  },
  {
   "cell_type": "code",
   "execution_count": null,
   "metadata": {
    "id": "rboRHK8-Rj-N"
   },
   "outputs": [],
   "source": []
  },
  {
   "cell_type": "code",
   "execution_count": null,
   "metadata": {
    "id": "eCh_A3kqRj-N"
   },
   "outputs": [],
   "source": []
  },
  {
   "cell_type": "code",
   "execution_count": 7,
   "metadata": {
    "id": "tSHtWBfTRj-N"
   },
   "outputs": [],
   "source": [
    "def find_related_item_soln_one(item, seq1, seq2):\n",
    "    for (x,y) in zip(seq1,seq2):\n",
    "        if x == item:\n",
    "            return y"
   ]
  },
  {
   "cell_type": "code",
   "execution_count": 8,
   "metadata": {
    "id": "n1LDfIMdRj-N"
   },
   "outputs": [],
   "source": [
    "def find_related_item_soln_two(item, seq1, seq2):\n",
    "    for (i,x) in enumerate(seq1):\n",
    "        if x == item:\n",
    "            return seq2[i]"
   ]
  },
  {
   "cell_type": "code",
   "execution_count": 9,
   "metadata": {},
   "outputs": [
    {
     "data": {
      "text/plain": [
       "'War and Peace'"
      ]
     },
     "execution_count": 9,
     "metadata": {},
     "output_type": "execute_result"
    }
   ],
   "source": [
    "find_related_item_soln_one('Leo Tolstoy', authors, books)"
   ]
  },
  {
   "cell_type": "markdown",
   "metadata": {},
   "source": [
    "The dictionary solution:"
   ]
  },
  {
   "cell_type": "code",
   "execution_count": 11,
   "metadata": {},
   "outputs": [],
   "source": [
    "def find_related_item_soln_three (item, seq1,seq2):\n",
    "    dd = dict(zip(seq1,seq2))\n",
    "    return dd[item]"
   ]
  },
  {
   "cell_type": "code",
   "execution_count": 76,
   "metadata": {},
   "outputs": [
    {
     "data": {
      "text/plain": [
       "['au',\n",
       " 'av',\n",
       " 'aw',\n",
       " 'ax',\n",
       " 'ay',\n",
       " 'bu',\n",
       " 'bv',\n",
       " 'bw',\n",
       " 'bx',\n",
       " 'by',\n",
       " 'cu',\n",
       " 'cv',\n",
       " 'cw',\n",
       " 'cx',\n",
       " 'cy',\n",
       " 'du',\n",
       " 'dv',\n",
       " 'dw',\n",
       " 'dx',\n",
       " 'dy',\n",
       " 'eu',\n",
       " 'ev',\n",
       " 'ew',\n",
       " 'ex',\n",
       " 'ey']"
      ]
     },
     "execution_count": 76,
     "metadata": {},
     "output_type": "execute_result"
    }
   ],
   "source": [
    "result = []\n",
    "for x in \"abcde\":\n",
    "    for y in \"uvwxy\":\n",
    "        result.append(x+y)\n",
    "result"
   ]
  },
  {
   "cell_type": "code",
   "execution_count": 12,
   "metadata": {
    "scrolled": true
   },
   "outputs": [
    {
     "data": {
      "text/plain": [
       "'War and Peace'"
      ]
     },
     "execution_count": 12,
     "metadata": {},
     "output_type": "execute_result"
    }
   ],
   "source": [
    "find_related_item_soln_three('Leo Tolstoy', authors, books)"
   ]
  },
  {
   "cell_type": "markdown",
   "metadata": {},
   "source": [
    "Discuss how these solutions behave differently."
   ]
  },
  {
   "cell_type": "markdown",
   "metadata": {
    "id": "Q2DVQo5hRj-N"
   },
   "source": [
    "### Exercise 17:  Indexing and double loops"
   ]
  },
  {
   "cell_type": "code",
   "execution_count": null,
   "metadata": {},
   "outputs": [],
   "source": []
  },
  {
   "cell_type": "markdown",
   "metadata": {
    "id": "PMC2z5V3Rj-N"
   },
   "source": [
    "The next cell defines a sequence called `dwarves`.\n",
    "\n",
    "In the next square write a list comprehension that constructs a list of\n",
    "all possible dwarf partnerships. In  partnerships,\n",
    "order does not matter.  So `('Grumpy','Sneezy')` is\n",
    "the same partnership as `('Sneezy','Grumpy')`.\n",
    "There are 7 dwarves, so there are (7*6)/2 or 21 partnerships.\n",
    "\n",
    "So you need a piece of code\n",
    "which pairs every dwarf with every other dwarf\n",
    "but does not duplicate partnerships.  The way to\n",
    "do this is to pair every dwarf with every dwarf that\n",
    "follows him in the sequence.  You pair\n",
    "`Sneezy` with the 6 dwarves following in the\n",
    "sequence, then pair `Doc` with 5 dwarves following him.\n",
    "\n",
    "Assign your list of pairs the name `result`.\n",
    "\n",
    "Your code should look either like this.\n",
    "\n",
    "```\n",
    "result = [(dwarf1, dwarf2)  for ... in ... ]\n",
    "```\n",
    "\n",
    "or like this\n",
    "\n",
    "```\n",
    "result = [(dwarves[i], dwarves[j]) for ... in ... ]\n",
    "```\n",
    "\n",
    "Your code will involve a double loop through `dwarves` If your code is correct, `result` will be a list of length 21.  \n",
    "\n",
    "Hint: One way to do this is to use `enumerate` and a double loop. By keeping track of what the index of the current dwarf is; then you know what part of the sequence of dwarves you need to pair this one with.   Another way is to loop through position indices using `range(len(dwarves))`.\n",
    "\n",
    "If you print out the length and contents of `result`, it should look like  something this:\n",
    "\n",
    "```\n",
    ">>> len(result)\n",
    "21\n",
    ">>> result\n",
    "[('Sneezy', 'Doc'),\n",
    " ('Sneezy', 'Sleepy'),\n",
    " ('Sneezy', 'Happy'),\n",
    " ('Sneezy', 'Dopey'),\n",
    " ('Sneezy', 'Grumpy'),\n",
    " ('Sneezy', 'Bashful'),\n",
    " ('Doc', 'Sleepy'),\n",
    " ('Doc', 'Happy'),\n",
    " ('Doc', 'Dopey'),\n",
    " ('Doc', 'Grumpy'),\n",
    " ('Doc', 'Bashful'),\n",
    " ('Sleepy', 'Happy'),\n",
    " ('Sleepy', 'Dopey'),\n",
    " ('Sleepy', 'Grumpy'),\n",
    " ('Sleepy', 'Bashful'),\n",
    " ('Happy', 'Dopey'),\n",
    " ('Happy', 'Grumpy'),\n",
    " ('Happy', 'Bashful'),\n",
    " ('Dopey', 'Grumpy'),\n",
    " ('Dopey', 'Bashful'),\n",
    " ('Grumpy', 'Bashful')]\n",
    " ```"
   ]
  },
  {
   "cell_type": "code",
   "execution_count": 59,
   "metadata": {},
   "outputs": [
    {
     "data": {
      "text/plain": [
       "('Sneezy', 'Doc', 'Sleepy', 'Happy', 'Dopey', 'Grumpy', 'Bashful')"
      ]
     },
     "execution_count": 59,
     "metadata": {},
     "output_type": "execute_result"
    }
   ],
   "source": [
    "dwarves"
   ]
  },
  {
   "cell_type": "code",
   "execution_count": null,
   "metadata": {},
   "outputs": [],
   "source": []
  },
  {
   "cell_type": "code",
   "execution_count": null,
   "metadata": {},
   "outputs": [],
   "source": []
  },
  {
   "cell_type": "code",
   "execution_count": null,
   "metadata": {},
   "outputs": [],
   "source": []
  },
  {
   "cell_type": "code",
   "execution_count": null,
   "metadata": {},
   "outputs": [],
   "source": []
  },
  {
   "cell_type": "code",
   "execution_count": null,
   "metadata": {},
   "outputs": [],
   "source": []
  },
  {
   "cell_type": "code",
   "execution_count": null,
   "metadata": {},
   "outputs": [],
   "source": []
  },
  {
   "cell_type": "code",
   "execution_count": null,
   "metadata": {},
   "outputs": [],
   "source": []
  },
  {
   "cell_type": "code",
   "execution_count": null,
   "metadata": {},
   "outputs": [],
   "source": []
  },
  {
   "cell_type": "code",
   "execution_count": null,
   "metadata": {},
   "outputs": [],
   "source": []
  },
  {
   "cell_type": "code",
   "execution_count": null,
   "metadata": {},
   "outputs": [],
   "source": []
  },
  {
   "cell_type": "code",
   "execution_count": null,
   "metadata": {},
   "outputs": [],
   "source": []
  },
  {
   "cell_type": "code",
   "execution_count": null,
   "metadata": {},
   "outputs": [],
   "source": []
  },
  {
   "cell_type": "code",
   "execution_count": null,
   "metadata": {},
   "outputs": [],
   "source": []
  },
  {
   "cell_type": "code",
   "execution_count": null,
   "metadata": {},
   "outputs": [],
   "source": []
  },
  {
   "cell_type": "code",
   "execution_count": 60,
   "metadata": {},
   "outputs": [
    {
     "name": "stdout",
     "output_type": "stream",
     "text": [
      "1 Sneezy Doc\n",
      "2 Sneezy Sleepy\n",
      "3 Sneezy Happy\n",
      "4 Sneezy Dopey\n",
      "5 Sneezy Grumpy\n",
      "6 Sneezy Bashful\n",
      "7 Doc Sleepy\n",
      "8 Doc Happy\n",
      "9 Doc Dopey\n",
      "10 Doc Grumpy\n",
      "11 Doc Bashful\n",
      "12 Sleepy Happy\n",
      "13 Sleepy Dopey\n",
      "14 Sleepy Grumpy\n",
      "15 Sleepy Bashful\n",
      "16 Happy Dopey\n",
      "17 Happy Grumpy\n",
      "18 Happy Bashful\n",
      "19 Dopey Grumpy\n",
      "20 Dopey Bashful\n",
      "21 Grumpy Bashful\n"
     ]
    }
   ],
   "source": [
    "ctr=0\n",
    "for (i,d1) in enumerate(dwarves):\n",
    "    for d2 in dwarves[i+1:]:\n",
    "        ctr+=1\n",
    "        print(ctr, d1,d2)"
   ]
  },
  {
   "cell_type": "code",
   "execution_count": 57,
   "metadata": {
    "id": "UrEJrNGtRj-N"
   },
   "outputs": [],
   "source": [
    "dwarves = ('Sneezy', 'Doc', 'Sleepy','Happy','Dopey','Grumpy', 'Bashful')\n",
    "## Your code here"
   ]
  },
  {
   "cell_type": "code",
   "execution_count": 118,
   "metadata": {},
   "outputs": [
    {
     "name": "stdout",
     "output_type": "stream",
     "text": [
      "Happy\n"
     ]
    },
    {
     "data": {
      "text/plain": [
       "('Dopey', 'Grumpy', 'Bashful')"
      ]
     },
     "execution_count": 118,
     "metadata": {},
     "output_type": "execute_result"
    }
   ],
   "source": [
    "i =3\n",
    "print(dwarves[i])\n",
    "dwarves[i+1:]"
   ]
  },
  {
   "cell_type": "code",
   "execution_count": 135,
   "metadata": {},
   "outputs": [
    {
     "data": {
      "text/plain": [
       "21"
      ]
     },
     "execution_count": 135,
     "metadata": {},
     "output_type": "execute_result"
    }
   ],
   "source": [
    "len({ frozenset([x,y]) for x in dwarves for y in dwarves if x != y})"
   ]
  },
  {
   "cell_type": "code",
   "execution_count": 123,
   "metadata": {},
   "outputs": [
    {
     "name": "stdout",
     "output_type": "stream",
     "text": [
      "1 Sneezy Doc\n",
      "2 Sneezy Sleepy\n",
      "3 Sneezy Happy\n",
      "4 Sneezy Dopey\n",
      "5 Sneezy Grumpy\n",
      "6 Sneezy Bashful\n",
      "7 Doc Sleepy\n",
      "8 Doc Happy\n",
      "9 Doc Dopey\n",
      "10 Doc Grumpy\n",
      "11 Doc Bashful\n",
      "12 Sleepy Happy\n",
      "13 Sleepy Dopey\n",
      "14 Sleepy Grumpy\n",
      "15 Sleepy Bashful\n",
      "16 Happy Dopey\n",
      "17 Happy Grumpy\n",
      "18 Happy Bashful\n",
      "19 Dopey Grumpy\n",
      "20 Dopey Bashful\n",
      "21 Grumpy Bashful\n"
     ]
    }
   ],
   "source": [
    "ctr = 0\n",
    "for (i, x) in enumerate(dwarves):\n",
    "    for y in dwarves[i+1:]:\n",
    "        ctr += 1\n",
    "        print(ctr, x + \" \"+ y)\n",
    "        "
   ]
  },
  {
   "cell_type": "code",
   "execution_count": 121,
   "metadata": {
    "id": "6zvNuPsYRj-N"
   },
   "outputs": [
    {
     "name": "stdout",
     "output_type": "stream",
     "text": [
      "Sneezy Sneezy\n",
      "Sneezy Doc\n",
      "Sneezy Sleepy\n",
      "Sneezy Happy\n",
      "Sneezy Dopey\n",
      "Sneezy Grumpy\n",
      "Sneezy Bashful\n",
      "Doc Sneezy\n",
      "Doc Doc\n",
      "Doc Sleepy\n",
      "Doc Happy\n",
      "Doc Dopey\n",
      "Doc Grumpy\n",
      "Doc Bashful\n",
      "Sleepy Sneezy\n",
      "Sleepy Doc\n",
      "Sleepy Sleepy\n",
      "Sleepy Happy\n",
      "Sleepy Dopey\n",
      "Sleepy Grumpy\n",
      "Sleepy Bashful\n",
      "Happy Sneezy\n",
      "Happy Doc\n",
      "Happy Sleepy\n",
      "Happy Happy\n",
      "Happy Dopey\n",
      "Happy Grumpy\n",
      "Happy Bashful\n",
      "Dopey Sneezy\n",
      "Dopey Doc\n",
      "Dopey Sleepy\n",
      "Dopey Happy\n",
      "Dopey Dopey\n",
      "Dopey Grumpy\n",
      "Dopey Bashful\n",
      "Grumpy Sneezy\n",
      "Grumpy Doc\n",
      "Grumpy Sleepy\n",
      "Grumpy Happy\n",
      "Grumpy Dopey\n",
      "Grumpy Grumpy\n",
      "Grumpy Bashful\n",
      "Bashful Sneezy\n",
      "Bashful Doc\n",
      "Bashful Sleepy\n",
      "Bashful Happy\n",
      "Bashful Dopey\n",
      "Bashful Grumpy\n",
      "Bashful Bashful\n"
     ]
    }
   ],
   "source": [
    "for x in dwarves:\n",
    "    for y in dwarves:\n",
    "        print (x + \" \" + y)"
   ]
  },
  {
   "cell_type": "code",
   "execution_count": null,
   "metadata": {
    "id": "lJCO2j9gRj-N"
   },
   "outputs": [],
   "source": []
  },
  {
   "cell_type": "code",
   "execution_count": null,
   "metadata": {
    "id": "t2VEgiy4Rj-N"
   },
   "outputs": [],
   "source": []
  },
  {
   "cell_type": "code",
   "execution_count": null,
   "metadata": {
    "id": "C0cBYoF3Rj-N"
   },
   "outputs": [],
   "source": []
  },
  {
   "cell_type": "code",
   "execution_count": null,
   "metadata": {
    "id": "h1RNmQhuRj-N"
   },
   "outputs": [],
   "source": []
  },
  {
   "cell_type": "code",
   "execution_count": null,
   "metadata": {
    "id": "brKKLNTuRj-N"
   },
   "outputs": [],
   "source": []
  },
  {
   "cell_type": "code",
   "execution_count": null,
   "metadata": {
    "id": "b_wbTMItRj-N"
   },
   "outputs": [],
   "source": []
  },
  {
   "cell_type": "code",
   "execution_count": null,
   "metadata": {
    "id": "bAy8m8x6Rj-O"
   },
   "outputs": [],
   "source": []
  },
  {
   "cell_type": "code",
   "execution_count": null,
   "metadata": {
    "id": "8Uh7t3v-Rj-O"
   },
   "outputs": [],
   "source": []
  },
  {
   "cell_type": "code",
   "execution_count": 13,
   "metadata": {
    "id": "VbZkK99CRj-O",
    "outputId": "96331944-833b-4f26-ee8d-7e67af2ce553"
   },
   "outputs": [
    {
     "name": "stdout",
     "output_type": "stream",
     "text": [
      "21\n"
     ]
    },
    {
     "data": {
      "text/plain": [
       "[('Sneezy', 'Doc'),\n",
       " ('Sneezy', 'Sleepy'),\n",
       " ('Sneezy', 'Happy'),\n",
       " ('Sneezy', 'Dopey'),\n",
       " ('Sneezy', 'Grumpy'),\n",
       " ('Sneezy', 'Bashful'),\n",
       " ('Doc', 'Sleepy'),\n",
       " ('Doc', 'Happy'),\n",
       " ('Doc', 'Dopey'),\n",
       " ('Doc', 'Grumpy'),\n",
       " ('Doc', 'Bashful'),\n",
       " ('Sleepy', 'Happy'),\n",
       " ('Sleepy', 'Dopey'),\n",
       " ('Sleepy', 'Grumpy'),\n",
       " ('Sleepy', 'Bashful'),\n",
       " ('Happy', 'Dopey'),\n",
       " ('Happy', 'Grumpy'),\n",
       " ('Happy', 'Bashful'),\n",
       " ('Dopey', 'Grumpy'),\n",
       " ('Dopey', 'Bashful'),\n",
       " ('Grumpy', 'Bashful')]"
      ]
     },
     "execution_count": 13,
     "metadata": {},
     "output_type": "execute_result"
    }
   ],
   "source": [
    "dwarves = ('Sneezy', 'Doc', 'Sleepy','Happy','Dopey','Grumpy', 'Bashful')\n",
    "result = [(dw1,dw2) for (i,dw1) in enumerate(dwarves) for dw2 in dwarves[i+1:]]\n",
    "print(len(result))\n",
    "result"
   ]
  },
  {
   "cell_type": "markdown",
   "metadata": {},
   "source": [
    "Another way of computing this is to do the following.  Thinkl about why this gets the right number\n",
    "of partnerships."
   ]
  },
  {
   "cell_type": "code",
   "execution_count": 14,
   "metadata": {},
   "outputs": [
    {
     "data": {
      "text/plain": [
       "21"
      ]
     },
     "execution_count": 14,
     "metadata": {},
     "output_type": "execute_result"
    }
   ],
   "source": [
    "dwarves = ('Sneezy', 'Doc', 'Sleepy','Happy','Dopey','Grumpy', 'Bashful')\n",
    "result = [(dw1,dw2) for dw1 in dwarves for dw2 in dwarves if dw1 < dw2]\n",
    "len(result)"
   ]
  },
  {
   "cell_type": "markdown",
   "metadata": {},
   "source": [
    "Which way is more efficient?"
   ]
  },
  {
   "cell_type": "markdown",
   "metadata": {},
   "source": [
    "### Exercise  18 (Practice exercise)\n",
    "\n",
    "Implement the following trigonmetric function with no imported f\"}unctions except `np.sqrt`:\n",
    "\n",
    "**Given  $\\sin(\\theta)$ return $\\tan(\\theta)$**\n",
    "\n",
    "Look up formula:\n",
    "\n",
    "$$\n",
    "\\tan \\theta = \\frac{\\sin \\theta}{\\cos \\theta} = \n",
    "     \\frac{\\sin \\theta}{\\sqrt{1 - \\sin^{2}\\theta}}\n",
    "$$"
   ]
  },
  {
   "cell_type": "code",
   "execution_count": 11,
   "metadata": {},
   "outputs": [],
   "source": [
    "import numpy as np\n",
    "\n",
    "def sin2tan(sin_theta):\n",
    "    ## Your code here\n",
    "    pass"
   ]
  },
  {
   "cell_type": "markdown",
   "metadata": {},
   "source": [
    "Test, look up sin and tanegent for some angle."
   ]
  },
  {
   "cell_type": "code",
   "execution_count": 64,
   "metadata": {},
   "outputs": [
    {
     "data": {
      "text/plain": [
       "(0.7071067811865475, 0.9999999999999999)"
      ]
     },
     "execution_count": 64,
     "metadata": {},
     "output_type": "execute_result"
    }
   ],
   "source": [
    "np.sin(np.pi/4),np.tan(np.pi/4)"
   ]
  },
  {
   "cell_type": "markdown",
   "metadata": {},
   "source": [
    "Check your function returns the right tangent for that sin."
   ]
  },
  {
   "cell_type": "code",
   "execution_count": 67,
   "metadata": {},
   "outputs": [
    {
     "data": {
      "text/plain": [
       "0.9999999999999999"
      ]
     },
     "execution_count": 67,
     "metadata": {},
     "output_type": "execute_result"
    }
   ],
   "source": [
    "sin_theta= np.sin(np.pi/4)\n",
    "sin2tan(sin_theta)"
   ]
  },
  {
   "cell_type": "code",
   "execution_count": null,
   "metadata": {},
   "outputs": [],
   "source": []
  },
  {
   "cell_type": "code",
   "execution_count": null,
   "metadata": {},
   "outputs": [],
   "source": []
  },
  {
   "cell_type": "code",
   "execution_count": null,
   "metadata": {},
   "outputs": [],
   "source": []
  },
  {
   "cell_type": "code",
   "execution_count": null,
   "metadata": {},
   "outputs": [],
   "source": []
  },
  {
   "cell_type": "code",
   "execution_count": null,
   "metadata": {},
   "outputs": [],
   "source": []
  },
  {
   "cell_type": "code",
   "execution_count": null,
   "metadata": {},
   "outputs": [],
   "source": []
  },
  {
   "cell_type": "code",
   "execution_count": 9,
   "metadata": {},
   "outputs": [],
   "source": [
    "import math\n",
    "\n",
    "def sin2tan(sin_theta):\n",
    "    return sin_theta/(math.sqrt(1-sin_theta**2))\n",
    "\n",
    "def sin2tan(sin_theta,cos_theta=None):\n",
    "    if cos_theta is None:\n",
    "        cos_theta = math.sqrt(1-sin_theta**2)\n",
    "    return sin_theta/cos_theta"
   ]
  },
  {
   "cell_type": "markdown",
   "metadata": {},
   "source": [
    "Checking (now I will use imports)."
   ]
  },
  {
   "cell_type": "code",
   "execution_count": 19,
   "metadata": {},
   "outputs": [
    {
     "data": {
      "text/plain": [
       "(0.7071067811865475, 0.9999999999999999)"
      ]
     },
     "execution_count": 19,
     "metadata": {},
     "output_type": "execute_result"
    }
   ],
   "source": [
    "import numpy as np\n",
    "theta = np.pi/4\n",
    "# np.sqrt(2)/2 = .707\n",
    "sin_theta = np.sin(theta)\n",
    "tan_theta = np.tan(theta)\n",
    "sin_theta, tan_theta"
   ]
  },
  {
   "cell_type": "code",
   "execution_count": 16,
   "metadata": {},
   "outputs": [
    {
     "data": {
      "text/plain": [
       "0.9999999999999999"
      ]
     },
     "execution_count": 16,
     "metadata": {},
     "output_type": "execute_result"
    }
   ],
   "source": [
    "sin2tan(sin_theta)"
   ]
  },
  {
   "cell_type": "code",
   "execution_count": null,
   "metadata": {},
   "outputs": [],
   "source": []
  },
  {
   "cell_type": "code",
   "execution_count": null,
   "metadata": {},
   "outputs": [],
   "source": []
  },
  {
   "cell_type": "code",
   "execution_count": null,
   "metadata": {},
   "outputs": [],
   "source": []
  },
  {
   "cell_type": "code",
   "execution_count": null,
   "metadata": {},
   "outputs": [],
   "source": []
  },
  {
   "cell_type": "code",
   "execution_count": null,
   "metadata": {},
   "outputs": [],
   "source": []
  },
  {
   "cell_type": "code",
   "execution_count": null,
   "metadata": {},
   "outputs": [],
   "source": []
  },
  {
   "cell_type": "code",
   "execution_count": null,
   "metadata": {},
   "outputs": [],
   "source": [
    "import math\n",
    "\n",
    "def get_tan (sin_theta):\n",
    "    return sin_theta/(math.sqrt(1 - sin_theta**2))"
   ]
  },
  {
   "cell_type": "markdown",
   "metadata": {
    "id": "UI5_26ntxAIg"
   },
   "source": [
    "## Optional Sudoku problem: A small programming challenge"
   ]
  },
  {
   "cell_type": "markdown",
   "metadata": {
    "id": "Nw85SCefRj-O"
   },
   "source": [
    "This problem is **optional**.  Nevertheless it is good idea to tackle this\n",
    "problem at some time during the class.\n",
    "\n",
    "One idea is to leave until after we have done the programming nitebook in class,\n",
    "which includes some programs of intermediate difficulty."
   ]
  },
  {
   "cell_type": "markdown",
   "metadata": {
    "id": "hiOUWXf_xAIg"
   },
   "source": [
    "Just execute the code cell below.  We need it for the discussion and exercises that follow.  This code is an extract from a larger program for solving Sudoku puzzles and was written by Peter Norvig (Google \"Norvig Sudoku\"), who currently works for  Google."
   ]
  },
  {
   "cell_type": "code",
   "execution_count": null,
   "metadata": {
    "id": "1gwCfCEcxAIg"
   },
   "outputs": [],
   "source": [
    "def cross(A, B):\n",
    "    \"Cross product of elements in A and elements in B.\"\n",
    "    return [a+b for a in A for b in B]\n",
    "\n",
    "\n",
    "digits   = '123456789'\n",
    "rows     = 'ABCDEFGHI'\n",
    "cols     = digits\n",
    "squares  = cross(rows, cols)\n",
    "unitlist = ([cross(rows, c) for c in cols] +\n",
    "            [cross(r, cols) for r in rows] +\n",
    "            [cross(rs, cs) for rs in ('ABC','DEF','GHI') for cs in ('123','456','789')])\n",
    "\n",
    "# Assign to each square s A set of sets of squares\n",
    "units = dict((s, [u for u in unitlist if s in u])\n",
    "             for s in squares)\n",
    "## Assign to each square s a set of squares, namely those that cant have the same value as s.\n",
    "peers = dict((s, set(sum(units[s],[]))-set([s]))\n",
    "             for s in squares)\n",
    "\n",
    "# Turn a puzzle string into a dictionary.\n",
    "def grid_values(grid):\n",
    "    \"Convert grid into a dict of {square: char} with '0' or '.' for empties.\"\n",
    "    chars = [c for c in grid if c in digits or c in '0.']\n",
    "    assert len(chars) == 81\n",
    "    return dict(list(zip(squares, chars)))\n",
    "\n",
    "def simple_grid_values (grid):\n",
    "    \"Convert grid into a dict of {square: char} with no restriction on contents\"\n",
    "    assert len(grid) == 81\n",
    "    return dict(list(zip(squares, grid)))\n",
    "\n",
    "################ Display as 2-D grid ################\n",
    "\n",
    "def display(values):\n",
    "    \"Display these values as a 2-D grid.\"\n",
    "    for s in squares:\n",
    "        if values[s] == '0':\n",
    "            values[s] = '.'\n",
    "    width = 1+max(len(values[s]) for s in squares)\n",
    "    line = '+'.join(['-'*(width*3)]*3)\n",
    "    for r in rows:\n",
    "        print(''.join(values[r+c].center(width)+('|' if c in '36' else '')\n",
    "                      for c in cols))\n",
    "        if r in 'CF': print(line)\n",
    "    print()\n",
    "\n",
    "\n",
    "grid1  = '003020600900305001001806400008102900700000008006708200002609500800203009005010300'\n",
    "grid1_soln = '483921657967345821251876493548132976729564138136798245372689514814253769695417382'\n",
    "grid2  = '003020600900305001001806400008102900700000008006708200002689500800203009005010300'\n",
    "# Some illegal grids.\n",
    "grid3  = '003020600900305001001806400008102900700000008006708200002609500800203089005010300'\n",
    "grid4  = '003020609900305001001806400008102900700000008006708200002609500800203009005010300'\n",
    "grid5  = '003020600900305061001806400008102900700000008006708200002609500800203009005010300'\n",
    "g5_peers = peers['G5']\n",
    "sgv = simple_grid_values(squares)\n",
    "for s in g5_peers:\n",
    "    sgv[s] = '__'"
   ]
  },
  {
   "cell_type": "markdown",
   "metadata": {
    "id": "6F3_Wap-Rj-O"
   },
   "source": [
    "First some preliminaries, introducing the idea of a sudoku puzzle, for those who've never tried one.  According to Norvig:\n",
    "\n",
    "A Sudoku puzzle is a grid of 81 squares; the majority of enthusiasts label the columns 1-9, the rows A-I [as in the grid below].\n",
    "\n",
    "The grid below introduces **names** for the 81 squares in a grid."
   ]
  },
  {
   "cell_type": "code",
   "execution_count": null,
   "metadata": {
    "id": "lbjVfcJKRj-O"
   },
   "outputs": [],
   "source": []
  },
  {
   "cell_type": "code",
   "execution_count": null,
   "metadata": {
    "id": "G4e8icGpRj-O",
    "outputId": "94b9e008-201b-4543-8150-ade588a8c742"
   },
   "outputs": [
    {
     "name": "stdout",
     "output_type": "stream",
     "text": [
      " A1 A2 A3| A4 A5 A6| A7 A8 A9\n",
      " B1 B2 B3| B4 B5 B6| B7 B8 B9\n",
      " C1 C2 C3| C4 C5 C6| C7 C8 C9\n",
      "---------+---------+---------\n",
      " D1 D2 D3| D4 D5 D6| D7 D8 D9\n",
      " E1 E2 E3| E4 E5 E6| E7 E8 E9\n",
      " F1 F2 F3| F4 F5 F6| F7 F8 F9\n",
      "---------+---------+---------\n",
      " G1 G2 G3| G4 G5 G6| G7 G8 G9\n",
      " H1 H2 H3| H4 H5 H6| H7 H8 H9\n",
      " I1 I2 I3| I4 I5 I6| I7 I8 I9\n",
      "\n"
     ]
    }
   ],
   "source": [
    "display(simple_grid_values(squares))"
   ]
  },
  {
   "cell_type": "markdown",
   "metadata": {
    "id": "fwTruUpxRj-O"
   },
   "source": [
    "Next have a look at the 81 members of the list `squares`, which is noithing but a flat list if the 81 square names.   We will think about the code (above)\n",
    "that constructs it."
   ]
  },
  {
   "cell_type": "code",
   "execution_count": null,
   "metadata": {
    "colab": {
     "base_uri": "https://localhost:8080/",
     "height": 1000
    },
    "id": "LTmS_wLZeyEw",
    "outputId": "0a478ed0-0853-41a5-97ff-b91a087fd466"
   },
   "outputs": [
    {
     "data": {
      "text/plain": [
       "['A1',\n",
       " 'A2',\n",
       " 'A3',\n",
       " 'A4',\n",
       " 'A5',\n",
       " 'A6',\n",
       " 'A7',\n",
       " 'A8',\n",
       " 'A9',\n",
       " 'B1',\n",
       " 'B2',\n",
       " 'B3',\n",
       " 'B4',\n",
       " 'B5',\n",
       " 'B6',\n",
       " 'B7',\n",
       " 'B8',\n",
       " 'B9',\n",
       " 'C1',\n",
       " 'C2',\n",
       " 'C3',\n",
       " 'C4',\n",
       " 'C5',\n",
       " 'C6',\n",
       " 'C7',\n",
       " 'C8',\n",
       " 'C9',\n",
       " 'D1',\n",
       " 'D2',\n",
       " 'D3',\n",
       " 'D4',\n",
       " 'D5',\n",
       " 'D6',\n",
       " 'D7',\n",
       " 'D8',\n",
       " 'D9',\n",
       " 'E1',\n",
       " 'E2',\n",
       " 'E3',\n",
       " 'E4',\n",
       " 'E5',\n",
       " 'E6',\n",
       " 'E7',\n",
       " 'E8',\n",
       " 'E9',\n",
       " 'F1',\n",
       " 'F2',\n",
       " 'F3',\n",
       " 'F4',\n",
       " 'F5',\n",
       " 'F6',\n",
       " 'F7',\n",
       " 'F8',\n",
       " 'F9',\n",
       " 'G1',\n",
       " 'G2',\n",
       " 'G3',\n",
       " 'G4',\n",
       " 'G5',\n",
       " 'G6',\n",
       " 'G7',\n",
       " 'G8',\n",
       " 'G9',\n",
       " 'H1',\n",
       " 'H2',\n",
       " 'H3',\n",
       " 'H4',\n",
       " 'H5',\n",
       " 'H6',\n",
       " 'H7',\n",
       " 'H8',\n",
       " 'H9',\n",
       " 'I1',\n",
       " 'I2',\n",
       " 'I3',\n",
       " 'I4',\n",
       " 'I5',\n",
       " 'I6',\n",
       " 'I7',\n",
       " 'I8',\n",
       " 'I9']"
      ]
     },
     "execution_count": 41,
     "metadata": {
      "tags": []
     },
     "output_type": "execute_result"
    }
   ],
   "source": [
    "squares"
   ]
  },
  {
   "cell_type": "markdown",
   "metadata": {
    "id": "FaidE6odxAIi"
   },
   "source": [
    "Let's take a step by step approach to understanding Norvig's code\n",
    "for constructing this list.\n",
    "\n",
    "The code above defines the row labels in a Sudoku puzzle  in a variable `rows`. Write a `for`-loop that prints out the row labels in a Sudoku puzzle, one to a line."
   ]
  },
  {
   "cell_type": "code",
   "execution_count": null,
   "metadata": {
    "id": "hE6AuTYNRj-O"
   },
   "outputs": [],
   "source": [
    "#[your code here]"
   ]
  },
  {
   "cell_type": "code",
   "execution_count": null,
   "metadata": {
    "id": "JwzB-PpiRj-O"
   },
   "outputs": [],
   "source": []
  },
  {
   "cell_type": "code",
   "execution_count": null,
   "metadata": {
    "id": "dPOCU1QGRj-O"
   },
   "outputs": [],
   "source": []
  },
  {
   "cell_type": "code",
   "execution_count": null,
   "metadata": {
    "id": "Ur6-05LuRj-O"
   },
   "outputs": [],
   "source": []
  },
  {
   "cell_type": "code",
   "execution_count": null,
   "metadata": {
    "id": "HlSSUruKRj-O"
   },
   "outputs": [],
   "source": []
  },
  {
   "cell_type": "code",
   "execution_count": null,
   "metadata": {
    "id": "Of1OOb34Rj-O"
   },
   "outputs": [],
   "source": []
  },
  {
   "cell_type": "code",
   "execution_count": null,
   "metadata": {
    "id": "uyJQWNMgRj-O"
   },
   "outputs": [],
   "source": []
  },
  {
   "cell_type": "code",
   "execution_count": null,
   "metadata": {
    "id": "kSzv_EQyxAIj",
    "outputId": "a5776d07-e5b6-4a29-c1e7-252591587b10"
   },
   "outputs": [
    {
     "name": "stdout",
     "output_type": "stream",
     "text": [
      "A\n",
      "B\n",
      "C\n",
      "D\n",
      "E\n",
      "F\n",
      "G\n",
      "H\n",
      "I\n"
     ]
    }
   ],
   "source": [
    "for r in rows:\n",
    "    print(r)"
   ]
  },
  {
   "cell_type": "markdown",
   "metadata": {
    "id": "q6nD1YgCxAIm"
   },
   "source": [
    "The code above defines the columns labels in a Sudoku puzzle  in a variable `cols`. Write a `for`-loop that prints out the column labels in a Sudoku puzzle."
   ]
  },
  {
   "cell_type": "code",
   "execution_count": null,
   "metadata": {
    "id": "Pvt3XqC3Rj-O"
   },
   "outputs": [],
   "source": [
    "#[your code here]"
   ]
  },
  {
   "cell_type": "code",
   "execution_count": null,
   "metadata": {
    "id": "hr3OyyPRRj-P"
   },
   "outputs": [],
   "source": []
  },
  {
   "cell_type": "code",
   "execution_count": null,
   "metadata": {
    "id": "s7rQsiWORj-P"
   },
   "outputs": [],
   "source": []
  },
  {
   "cell_type": "code",
   "execution_count": null,
   "metadata": {
    "id": "lkX8DXtyRj-P"
   },
   "outputs": [],
   "source": []
  },
  {
   "cell_type": "code",
   "execution_count": null,
   "metadata": {
    "id": "PHv2NVzNRj-P"
   },
   "outputs": [],
   "source": []
  },
  {
   "cell_type": "code",
   "execution_count": null,
   "metadata": {
    "id": "dyuonNV7Rj-P"
   },
   "outputs": [],
   "source": []
  },
  {
   "cell_type": "code",
   "execution_count": null,
   "metadata": {
    "id": "rxh_PTmNRj-P"
   },
   "outputs": [],
   "source": []
  },
  {
   "cell_type": "code",
   "execution_count": null,
   "metadata": {
    "id": "yn-Rf4btRj-P"
   },
   "outputs": [],
   "source": []
  },
  {
   "cell_type": "code",
   "execution_count": null,
   "metadata": {
    "id": "LkciZqAqxAIm",
    "outputId": "bd3c0129-4c80-4c58-ff77-03011c89c7ff"
   },
   "outputs": [
    {
     "name": "stdout",
     "output_type": "stream",
     "text": [
      "1\n",
      "2\n",
      "3\n",
      "4\n",
      "5\n",
      "6\n",
      "7\n",
      "8\n",
      "9\n"
     ]
    }
   ],
   "source": [
    "for c in cols:\n",
    "    print(c)"
   ]
  },
  {
   "cell_type": "markdown",
   "metadata": {
    "id": "nGOWTcnsRj-P"
   },
   "source": [
    "Here is  a loop that pairs `A` with every row number"
   ]
  },
  {
   "cell_type": "code",
   "execution_count": null,
   "metadata": {
    "id": "I6wR0kgbRj-P"
   },
   "outputs": [],
   "source": [
    "#Your code here"
   ]
  },
  {
   "cell_type": "code",
   "execution_count": null,
   "metadata": {
    "id": "-XgwNG_-Rj-P"
   },
   "outputs": [],
   "source": []
  },
  {
   "cell_type": "code",
   "execution_count": null,
   "metadata": {
    "id": "xGhSf73WRj-P"
   },
   "outputs": [],
   "source": []
  },
  {
   "cell_type": "code",
   "execution_count": null,
   "metadata": {
    "id": "kWYKhkG2Rj-P"
   },
   "outputs": [],
   "source": []
  },
  {
   "cell_type": "code",
   "execution_count": null,
   "metadata": {
    "id": "sfXsM1-6Rj-P"
   },
   "outputs": [],
   "source": []
  },
  {
   "cell_type": "code",
   "execution_count": null,
   "metadata": {
    "id": "3POgHjOERj-P"
   },
   "outputs": [],
   "source": []
  },
  {
   "cell_type": "code",
   "execution_count": null,
   "metadata": {
    "id": "Zb7Xm-mpRj-P"
   },
   "outputs": [],
   "source": []
  },
  {
   "cell_type": "code",
   "execution_count": null,
   "metadata": {
    "id": "fBEYyl3xRj-P"
   },
   "outputs": [],
   "source": []
  },
  {
   "cell_type": "code",
   "execution_count": null,
   "metadata": {
    "id": "8pbH_OfURj-P"
   },
   "outputs": [],
   "source": []
  },
  {
   "cell_type": "code",
   "execution_count": null,
   "metadata": {
    "id": "oyMcFuDJRj-P"
   },
   "outputs": [],
   "source": []
  },
  {
   "cell_type": "code",
   "execution_count": null,
   "metadata": {
    "id": "9AYzv3OtRj-P"
   },
   "outputs": [],
   "source": []
  },
  {
   "cell_type": "code",
   "execution_count": null,
   "metadata": {
    "id": "8Sk9MlhTRj-P"
   },
   "outputs": [],
   "source": []
  },
  {
   "cell_type": "code",
   "execution_count": null,
   "metadata": {
    "id": "7puuh1F1Rj-P",
    "outputId": "92967143-7557-4c33-c000-c547bddb6ddb"
   },
   "outputs": [
    {
     "data": {
      "text/plain": [
       "['A1', 'A2', 'A3', 'A4', 'A5', 'A6', 'A7', 'A8', 'A9']"
      ]
     },
     "execution_count": 40,
     "metadata": {},
     "output_type": "execute_result"
    }
   ],
   "source": [
    "r = 'A'\n",
    "[r + c for c in cols]"
   ]
  },
  {
   "cell_type": "markdown",
   "metadata": {
    "id": "pW09BoFZRj-P"
   },
   "source": [
    "It's easy enough to embed the code above in a list comprehension to get a list\n",
    "of the rows:"
   ]
  },
  {
   "cell_type": "code",
   "execution_count": null,
   "metadata": {
    "id": "rUVfHWVcRj-P"
   },
   "outputs": [],
   "source": []
  },
  {
   "cell_type": "code",
   "execution_count": null,
   "metadata": {
    "id": "6OCl-3j8Rj-P"
   },
   "outputs": [],
   "source": []
  },
  {
   "cell_type": "code",
   "execution_count": null,
   "metadata": {
    "id": "qXejdN8DRj-P"
   },
   "outputs": [],
   "source": []
  },
  {
   "cell_type": "code",
   "execution_count": null,
   "metadata": {
    "id": "uq_y7_JURj-P"
   },
   "outputs": [],
   "source": []
  },
  {
   "cell_type": "code",
   "execution_count": null,
   "metadata": {
    "id": "1mvZtO2cRj-Q"
   },
   "outputs": [],
   "source": []
  },
  {
   "cell_type": "code",
   "execution_count": null,
   "metadata": {
    "id": "zxpDPobZRj-Q"
   },
   "outputs": [],
   "source": []
  },
  {
   "cell_type": "code",
   "execution_count": null,
   "metadata": {
    "id": "0GoYZ0wrRj-Q"
   },
   "outputs": [],
   "source": []
  },
  {
   "cell_type": "code",
   "execution_count": null,
   "metadata": {
    "id": "lEZVEe-pRj-Q",
    "outputId": "4e2e3f9d-08ee-49ef-cb9f-4491dc6831b6"
   },
   "outputs": [
    {
     "data": {
      "text/plain": [
       "[['11', '12', '13', '14', '15', '16', '17', '18', '19'],\n",
       " ['21', '22', '23', '24', '25', '26', '27', '28', '29'],\n",
       " ['31', '32', '33', '34', '35', '36', '37', '38', '39'],\n",
       " ['41', '42', '43', '44', '45', '46', '47', '48', '49'],\n",
       " ['51', '52', '53', '54', '55', '56', '57', '58', '59'],\n",
       " ['61', '62', '63', '64', '65', '66', '67', '68', '69'],\n",
       " ['71', '72', '73', '74', '75', '76', '77', '78', '79'],\n",
       " ['81', '82', '83', '84', '85', '86', '87', '88', '89'],\n",
       " ['91', '92', '93', '94', '95', '96', '97', '98', '99']]"
      ]
     },
     "execution_count": 41,
     "metadata": {},
     "output_type": "execute_result"
    }
   ],
   "source": [
    "[[r + c for c in cols] for r in cols]"
   ]
  },
  {
   "cell_type": "markdown",
   "metadata": {
    "id": "8r2AV_P7Rj-Q"
   },
   "source": [
    "But this isn't what we want in order to construct squares.  We want a list comprehension that returns a flat list of the 81 square names. Therfore, we want a list comprehension\n",
    "that starts\n",
    "\n",
    "```\n",
    "[r + c for ....]\n",
    "```\n",
    "\n",
    "Try to think through how to produce a list\n",
    "of squares. If you get stuck, you may want to try modifying the code\n",
    "in the cell above that produces a list of rows. Or you may want to look back at Norvig's code to see how he produces the list `squares`.  In any case you will need a double loop.\n",
    "Write one double loop that produces the list of squares without calling\n",
    "a function to help."
   ]
  },
  {
   "cell_type": "code",
   "execution_count": null,
   "metadata": {
    "id": "wzw3nfvrRj-Q"
   },
   "outputs": [],
   "source": []
  },
  {
   "cell_type": "code",
   "execution_count": null,
   "metadata": {
    "id": "ArU8dusbRj-Q"
   },
   "outputs": [],
   "source": []
  },
  {
   "cell_type": "code",
   "execution_count": null,
   "metadata": {
    "id": "cM6cUaOnRj-Q"
   },
   "outputs": [],
   "source": []
  },
  {
   "cell_type": "code",
   "execution_count": null,
   "metadata": {
    "id": "1izjKR4rRj-Q"
   },
   "outputs": [],
   "source": []
  },
  {
   "cell_type": "code",
   "execution_count": null,
   "metadata": {
    "id": "gII8JtFHRj-Q"
   },
   "outputs": [],
   "source": []
  },
  {
   "cell_type": "code",
   "execution_count": null,
   "metadata": {
    "id": "oDpsy-eTRj-Q"
   },
   "outputs": [],
   "source": []
  },
  {
   "cell_type": "code",
   "execution_count": null,
   "metadata": {
    "id": "TdT0yrGaRj-Q"
   },
   "outputs": [],
   "source": []
  },
  {
   "cell_type": "code",
   "execution_count": null,
   "metadata": {
    "id": "oSQ5BRN6Rj-Q"
   },
   "outputs": [],
   "source": []
  },
  {
   "cell_type": "code",
   "execution_count": null,
   "metadata": {
    "id": "oJvz5yY9Rj-Q"
   },
   "outputs": [],
   "source": []
  },
  {
   "cell_type": "code",
   "execution_count": null,
   "metadata": {
    "id": "2jOTGhRWRj-Q"
   },
   "outputs": [],
   "source": []
  },
  {
   "cell_type": "markdown",
   "metadata": {
    "id": "gE_1xnqtRj-Q"
   },
   "source": [
    "Just remove the square brackets from the last example:"
   ]
  },
  {
   "cell_type": "code",
   "execution_count": null,
   "metadata": {
    "id": "MHWq3-MDRj-Q",
    "outputId": "a25cce37-ef1b-4338-f874-f54a041a4690"
   },
   "outputs": [
    {
     "data": {
      "text/plain": [
       "['A1',\n",
       " 'B1',\n",
       " 'C1',\n",
       " 'D1',\n",
       " 'E1',\n",
       " 'F1',\n",
       " 'G1',\n",
       " 'H1',\n",
       " 'I1',\n",
       " 'A2',\n",
       " 'B2',\n",
       " 'C2',\n",
       " 'D2',\n",
       " 'E2',\n",
       " 'F2',\n",
       " 'G2',\n",
       " 'H2',\n",
       " 'I2',\n",
       " 'A3',\n",
       " 'B3',\n",
       " 'C3',\n",
       " 'D3',\n",
       " 'E3',\n",
       " 'F3',\n",
       " 'G3',\n",
       " 'H3',\n",
       " 'I3',\n",
       " 'A4',\n",
       " 'B4',\n",
       " 'C4',\n",
       " 'D4',\n",
       " 'E4',\n",
       " 'F4',\n",
       " 'G4',\n",
       " 'H4',\n",
       " 'I4',\n",
       " 'A5',\n",
       " 'B5',\n",
       " 'C5',\n",
       " 'D5',\n",
       " 'E5',\n",
       " 'F5',\n",
       " 'G5',\n",
       " 'H5',\n",
       " 'I5',\n",
       " 'A6',\n",
       " 'B6',\n",
       " 'C6',\n",
       " 'D6',\n",
       " 'E6',\n",
       " 'F6',\n",
       " 'G6',\n",
       " 'H6',\n",
       " 'I6',\n",
       " 'A7',\n",
       " 'B7',\n",
       " 'C7',\n",
       " 'D7',\n",
       " 'E7',\n",
       " 'F7',\n",
       " 'G7',\n",
       " 'H7',\n",
       " 'I7',\n",
       " 'A8',\n",
       " 'B8',\n",
       " 'C8',\n",
       " 'D8',\n",
       " 'E8',\n",
       " 'F8',\n",
       " 'G8',\n",
       " 'H8',\n",
       " 'I8',\n",
       " 'A9',\n",
       " 'B9',\n",
       " 'C9',\n",
       " 'D9',\n",
       " 'E9',\n",
       " 'F9',\n",
       " 'G9',\n",
       " 'H9',\n",
       " 'I9']"
      ]
     },
     "execution_count": 12,
     "metadata": {},
     "output_type": "execute_result"
    }
   ],
   "source": [
    "sqs2 = [r+c  for c in cols for r in rows]\n",
    "sqs2"
   ]
  },
  {
   "cell_type": "markdown",
   "metadata": {
    "id": "8ormMCtBRj-Q"
   },
   "source": [
    "Notice this isn't == to `squares` as computed by Norvig in the code above."
   ]
  },
  {
   "cell_type": "code",
   "execution_count": null,
   "metadata": {
    "id": "8da9LPAtRj-Q",
    "outputId": "0a770a62-3dd1-469d-d5f6-9122d03f34cc"
   },
   "outputs": [
    {
     "data": {
      "text/plain": [
       "False"
      ]
     },
     "execution_count": 13,
     "metadata": {},
     "output_type": "execute_result"
    }
   ],
   "source": [
    "sqs2 == squares"
   ]
  },
  {
   "cell_type": "markdown",
   "metadata": {
    "id": "J4oEfqnyRj-Q"
   },
   "source": [
    "But the length is the same:"
   ]
  },
  {
   "cell_type": "code",
   "execution_count": null,
   "metadata": {
    "id": "faUDRCXXRj-Q",
    "outputId": "01d3fbad-126f-4e98-a071-0964e94452c6",
    "scrolled": true
   },
   "outputs": [
    {
     "data": {
      "text/plain": [
       "81"
      ]
     },
     "execution_count": 15,
     "metadata": {},
     "output_type": "execute_result"
    }
   ],
   "source": [
    "len(sqs2)"
   ]
  },
  {
   "cell_type": "markdown",
   "metadata": {
    "id": "horXe35yRj-Q"
   },
   "source": [
    "And we defined the same set of squares!"
   ]
  },
  {
   "cell_type": "code",
   "execution_count": null,
   "metadata": {
    "id": "Hoyg-eVARj-Q",
    "outputId": "1f87263b-421d-44b1-917b-11d1b7771915"
   },
   "outputs": [
    {
     "data": {
      "text/plain": [
       "True"
      ]
     },
     "execution_count": 17,
     "metadata": {},
     "output_type": "execute_result"
    }
   ],
   "source": [
    "set(sqs2) == set(squares)"
   ]
  },
  {
   "cell_type": "markdown",
   "metadata": {
    "id": "UdYRcjDLRj-Q"
   },
   "source": [
    "Modify the code above so that `sqs2` is == to `squares`."
   ]
  },
  {
   "cell_type": "code",
   "execution_count": null,
   "metadata": {
    "id": "onvP0lpVRj-Q"
   },
   "outputs": [],
   "source": []
  },
  {
   "cell_type": "code",
   "execution_count": null,
   "metadata": {
    "id": "9QIprkdiRj-Q"
   },
   "outputs": [],
   "source": []
  },
  {
   "cell_type": "code",
   "execution_count": null,
   "metadata": {
    "id": "t_7KCqnXRj-Q"
   },
   "outputs": [],
   "source": []
  },
  {
   "cell_type": "code",
   "execution_count": null,
   "metadata": {
    "id": "N4YFsx3ORj-R"
   },
   "outputs": [],
   "source": []
  },
  {
   "cell_type": "code",
   "execution_count": null,
   "metadata": {
    "id": "MG4qR1jQRj-R"
   },
   "outputs": [],
   "source": []
  },
  {
   "cell_type": "code",
   "execution_count": null,
   "metadata": {
    "id": "WmOUw5MhRj-R"
   },
   "outputs": [],
   "source": []
  },
  {
   "cell_type": "code",
   "execution_count": null,
   "metadata": {
    "id": "3mft8yEBRj-R"
   },
   "outputs": [],
   "source": []
  },
  {
   "cell_type": "code",
   "execution_count": null,
   "metadata": {
    "id": "utcH1ldGRj-R"
   },
   "outputs": [],
   "source": []
  },
  {
   "cell_type": "code",
   "execution_count": null,
   "metadata": {
    "id": "QP8PUkQlRj-R",
    "outputId": "5f5dbade-68a6-49f3-dcc0-c024f575826e"
   },
   "outputs": [
    {
     "data": {
      "text/plain": [
       "True"
      ]
     },
     "execution_count": 18,
     "metadata": {},
     "output_type": "execute_result"
    }
   ],
   "source": [
    "#old version:  sqs2 = [r+c  for c in cols for r in rows]\n",
    "sqs2 = [r+c  for r in rows for c in cols]\n",
    "sqs2 == squares"
   ]
  },
  {
   "cell_type": "markdown",
   "metadata": {
    "id": "MO4K_XWVRj-R"
   },
   "source": [
    "Now let's think about what a puzzle is.  Also according to Norvig\n",
    "\n",
    ">A collection of nine squares (column, row, or box) is called a **unit** and the squares that share a unit the **peers**. A puzzle leaves some squares blank and fills others with digits, and the whole idea is: A puzzle is solved if the squares in each unit are filled with a permutation of the digits 1 to 9.\n",
    "\n",
    "Thus in each unit of a solved puzzle, all the\n",
    "digits must appear, and no duplications are allowed.\n",
    "The next square shows `grid1` a puzzle for which we were given both the  partially filled grid and its unique solution.\n"
   ]
  },
  {
   "cell_type": "code",
   "execution_count": null,
   "metadata": {
    "id": "xYW2zvn9xAIs",
    "outputId": "d4daeeb2-2870-47dd-a8a1-3a01ef7b45c1"
   },
   "outputs": [
    {
     "name": "stdout",
     "output_type": "stream",
     "text": [
      ". . 3 |. 2 . |6 . . \n",
      "9 . . |3 . 5 |. . 1 \n",
      ". . 1 |8 . 6 |4 . . \n",
      "------+------+------\n",
      ". . 8 |1 . 2 |9 . . \n",
      "7 . . |. . . |. . 8 \n",
      ". . 6 |7 . 8 |2 . . \n",
      "------+------+------\n",
      ". . 2 |6 . 9 |5 . . \n",
      "8 . . |2 . 3 |. . 9 \n",
      ". . 5 |. 1 . |3 . . \n",
      "\n",
      "     ... => ...\n",
      "\n",
      "4 8 3 |9 2 1 |6 5 7 \n",
      "9 6 7 |3 4 5 |8 2 1 \n",
      "2 5 1 |8 7 6 |4 9 3 \n",
      "------+------+------\n",
      "5 4 8 |1 3 2 |9 7 6 \n",
      "7 2 9 |5 6 4 |1 3 8 \n",
      "1 3 6 |7 9 8 |2 4 5 \n",
      "------+------+------\n",
      "3 7 2 |6 8 9 |5 1 4 \n",
      "8 1 4 |2 5 3 |7 6 9 \n",
      "6 9 5 |4 1 7 |3 8 2 \n",
      "\n"
     ]
    }
   ],
   "source": [
    "display(grid_values(grid1))\n",
    "print('     ... => ...')\n",
    "print()\n",
    "display(grid_values(grid1_soln))"
   ]
  },
  {
   "cell_type": "markdown",
   "metadata": {
    "id": "piXAjuE8Rj-R"
   },
   "source": [
    "Let's illustrate the idea of a peer.  Every cell belongs to three units, its\n",
    "row, its column, and its box.  The cells in those units are its peers."
   ]
  },
  {
   "cell_type": "code",
   "execution_count": null,
   "metadata": {
    "id": "dOsmJXq6xAIt",
    "outputId": "7a011077-a51a-4f71-cc46-1a63e75d28cf"
   },
   "outputs": [
    {
     "name": "stdout",
     "output_type": "stream",
     "text": [
      " A1 A2 A3| A4 __ A6| A7 A8 A9\n",
      " B1 B2 B3| B4 __ B6| B7 B8 B9\n",
      " C1 C2 C3| C4 __ C6| C7 C8 C9\n",
      "---------+---------+---------\n",
      " D1 D2 D3| D4 __ D6| D7 D8 D9\n",
      " E1 E2 E3| E4 __ E6| E7 E8 E9\n",
      " F1 F2 F3| F4 __ F6| F7 F8 F9\n",
      "---------+---------+---------\n",
      " __ __ __| __ G5 __| __ __ __\n",
      " H1 H2 H3| __ __ __| H7 H8 H9\n",
      " I1 I2 I3| __ __ __| I7 I8 I9\n",
      "\n"
     ]
    }
   ],
   "source": [
    "display(sgv)"
   ]
  },
  {
   "cell_type": "markdown",
   "metadata": {
    "id": "l8wFG-W9xAIv"
   },
   "source": [
    "The peers of any cell are the squares which cannot have the same value as the cell.  The peers of `G5` are shown above.  There are 20 distinct peers.  The cells in row 'G', the cells in column '5' and the cells in the same box\n",
    "as 'G5'."
   ]
  },
  {
   "cell_type": "markdown",
   "metadata": {
    "id": "-l0WkQgUxAIv"
   },
   "source": [
    "The `peers` dictionary has been defined so that the key is a square and the value is the set of the 20 peers of that square."
   ]
  },
  {
   "cell_type": "code",
   "execution_count": null,
   "metadata": {
    "id": "DuMzt4-9xAIv",
    "outputId": "1428d64d-2f4d-48b3-a0d7-9b28b6ddbed6"
   },
   "outputs": [
    {
     "name": "stdout",
     "output_type": "stream",
     "text": [
      "{'G9', 'G3', 'A5', 'G1', 'H6', 'I6', 'I4', 'C5', 'E5', 'B5', 'D5', 'H4', 'F5', 'G7', 'G4', 'I5', 'H5', 'G2', 'G8', 'G6'}\n"
     ]
    }
   ],
   "source": [
    "print(peers['G5'])"
   ]
  },
  {
   "cell_type": "markdown",
   "metadata": {
    "id": "fSZjbtIZxAIx"
   },
   "source": [
    "Let's return to the sudoku puzzle grid we called `grid1`; `grid1` is a legal grid, as we can check visually by redisplaying it."
   ]
  },
  {
   "cell_type": "code",
   "execution_count": null,
   "metadata": {
    "id": "FQJt2blQxAIx",
    "outputId": "2c3fdfa5-7921-46ef-b376-8cf331f2c78f"
   },
   "outputs": [
    {
     "name": "stdout",
     "output_type": "stream",
     "text": [
      ". . 3 |. 2 . |6 . . \n",
      "9 . . |3 . 5 |. . 1 \n",
      ". . 1 |8 . 6 |4 . . \n",
      "------+------+------\n",
      ". . 8 |1 . 2 |9 . . \n",
      "7 . . |. . . |. . 8 \n",
      ". . 6 |7 . 8 |2 . . \n",
      "------+------+------\n",
      ". . 2 |6 . 9 |5 . . \n",
      "8 . . |2 . 3 |. . 9 \n",
      ". . 5 |. 1 . |3 . . \n",
      "\n"
     ]
    }
   ],
   "source": [
    "display(grid_values(grid1))"
   ]
  },
  {
   "cell_type": "markdown",
   "metadata": {
    "id": "lcrizKRExAIz"
   },
   "source": [
    "Here are some more grids displayed."
   ]
  },
  {
   "cell_type": "code",
   "execution_count": null,
   "metadata": {
    "id": "fAuqq30axAIz",
    "outputId": "b4c3ffed-e6f6-4cba-af61-a17987ecd7ca"
   },
   "outputs": [
    {
     "name": "stdout",
     "output_type": "stream",
     "text": [
      ". . 3 |. 2 . |6 . . \n",
      "9 . . |3 . 5 |. . 1 \n",
      ". . 1 |8 . 6 |4 . . \n",
      "------+------+------\n",
      ". . 8 |1 . 2 |9 . . \n",
      "7 . . |. . . |. . 8 \n",
      ". . 6 |7 . 8 |2 . . \n",
      "------+------+------\n",
      ". . 2 |6 . 9 |5 . . \n",
      "8 . . |2 . 3 |. 8 9 \n",
      ". . 5 |. 1 . |3 . . \n",
      "\n"
     ]
    }
   ],
   "source": [
    "display(grid_values(grid3))"
   ]
  },
  {
   "cell_type": "code",
   "execution_count": null,
   "metadata": {
    "id": "ws-oHw6GxAI1",
    "outputId": "054a8579-a1bb-42c1-b826-485ce36cb8ab"
   },
   "outputs": [
    {
     "name": "stdout",
     "output_type": "stream",
     "text": [
      ". . 3 |. 2 . |6 . 9 \n",
      "9 . . |3 . 5 |. . 1 \n",
      ". . 1 |8 . 6 |4 . . \n",
      "------+------+------\n",
      ". . 8 |1 . 2 |9 . . \n",
      "7 . . |. . . |. . 8 \n",
      ". . 6 |7 . 8 |2 . . \n",
      "------+------+------\n",
      ". . 2 |6 . 9 |5 . . \n",
      "8 . . |2 . 3 |. . 9 \n",
      ". . 5 |. 1 . |3 . . \n",
      "\n"
     ]
    }
   ],
   "source": [
    "display(grid_values(grid4))"
   ]
  },
  {
   "cell_type": "markdown",
   "metadata": {
    "id": "2zzQYI6yxAI2"
   },
   "source": [
    "If you look carefully at `grid5` you will see it differs from `grid1` in an important way."
   ]
  },
  {
   "cell_type": "code",
   "execution_count": null,
   "metadata": {
    "id": "O4varlHYxAI2",
    "outputId": "948b9604-c530-42ae-fe52-1399af08c070"
   },
   "outputs": [
    {
     "name": "stdout",
     "output_type": "stream",
     "text": [
      ". . 3 |. 2 . |6 . . \n",
      "9 . . |3 . 5 |. 6 1 \n",
      ". . 1 |8 . 6 |4 . . \n",
      "------+------+------\n",
      ". . 8 |1 . 2 |9 . . \n",
      "7 . . |. . . |. . 8 \n",
      ". . 6 |7 . 8 |2 . . \n",
      "------+------+------\n",
      ". . 2 |6 . 9 |5 . . \n",
      "8 . . |2 . 3 |. . 9 \n",
      ". . 5 |. 1 . |3 . . \n",
      "\n"
     ]
    }
   ],
   "source": [
    "display(grid_values(grid5))"
   ]
  },
  {
   "cell_type": "markdown",
   "metadata": {
    "id": "rV3KYrrCxAI3"
   },
   "source": [
    "The grid `grid5` is not a legal Sudoku grid.  Can you see the problem?    There are two cells in the same box with same value."
   ]
  },
  {
   "cell_type": "markdown",
   "metadata": {
    "id": "DS1GG0NpRj-S"
   },
   "source": [
    "To make this easy to get at in code, we will represent the grid in a dictionary so we can easily look up the values of particular squares in `grid5`.\n",
    "\n",
    "`grid5` is a string.\n",
    "\n",
    "```\n",
    "003020600900305061001806400008102900700000008006708200002609500800203009005010300\n",
    "```\n",
    "Norvig's code provides us with a function `grid_values` which turns that string into a dictionary; the dictionary will be a lot\n",
    "more convenient to work with for this problem.\n",
    "\n",
    "```\n",
    ">>> grid_dict5 = grid_values(grid5)\n",
    "```\n",
    "\n",
    "We demonstrate in the next cell"
   ]
  },
  {
   "cell_type": "code",
   "execution_count": null,
   "metadata": {
    "colab": {
     "base_uri": "https://localhost:8080/",
     "height": 88
    },
    "id": "unx6y5V2xAI5",
    "outputId": "165061ef-e742-413d-beb9-7ed655162c5a"
   },
   "outputs": [
    {
     "name": "stdout",
     "output_type": "stream",
     "text": [
      "003020600900305061001806400008102900700000008006708200002609500800203009005010300\n",
      "{'A1': '0', 'A2': '0', 'A3': '3', 'A4': '0', 'A5': '2', 'A6': '0', 'A7': '6', 'A8': '0', 'A9': '0', 'B1': '9', 'B2': '0', 'B3': '0', 'B4': '3', 'B5': '0', 'B6': '5', 'B7': '0', 'B8': '6', 'B9': '1', 'C1': '0', 'C2': '0', 'C3': '1', 'C4': '8', 'C5': '0', 'C6': '6', 'C7': '4', 'C8': '0', 'C9': '0', 'D1': '0', 'D2': '0', 'D3': '8', 'D4': '1', 'D5': '0', 'D6': '2', 'D7': '9', 'D8': '0', 'D9': '0', 'E1': '7', 'E2': '0', 'E3': '0', 'E4': '0', 'E5': '0', 'E6': '0', 'E7': '0', 'E8': '0', 'E9': '8', 'F1': '0', 'F2': '0', 'F3': '6', 'F4': '7', 'F5': '0', 'F6': '8', 'F7': '2', 'F8': '0', 'F9': '0', 'G1': '0', 'G2': '0', 'G3': '2', 'G4': '6', 'G5': '0', 'G6': '9', 'G7': '5', 'G8': '0', 'G9': '0', 'H1': '8', 'H2': '0', 'H3': '0', 'H4': '2', 'H5': '0', 'H6': '3', 'H7': '0', 'H8': '0', 'H9': '9', 'I1': '0', 'I2': '0', 'I3': '5', 'I4': '0', 'I5': '1', 'I6': '0', 'I7': '3', 'I8': '0', 'I9': '0'}\n",
      "6\n"
     ]
    }
   ],
   "source": [
    "grid_dict5 = grid_values(grid5)  #. Change the string `grid5` into a dictionary\n",
    "print(grid5)\n",
    "print(grid_dict5)\n",
    "print(grid_dict5['A7'])"
   ]
  },
  {
   "cell_type": "markdown",
   "metadata": {
    "id": "btDqi-gX_Uwp"
   },
   "source": [
    "So here are  the facts that make `grid5` illegal."
   ]
  },
  {
   "cell_type": "code",
   "execution_count": null,
   "metadata": {
    "colab": {
     "base_uri": "https://localhost:8080/",
     "height": 51
    },
    "id": "Xhz7XOB8xAI6",
    "outputId": "2bf90115-a785-4ba2-ebf1-712cfda08702"
   },
   "outputs": [
    {
     "name": "stdout",
     "output_type": "stream",
     "text": [
      "{'I7', 'B8', 'A5', 'B9', 'E7', 'C7', 'B7', 'A8', 'A9', 'A6', 'H7', 'A4', 'A3', 'C8', 'F7', 'D7', 'A2', 'G7', 'A1', 'C9'}\n",
      "B8 is a a peer of A7: True\n",
      "grid_dict5['A7']='6'   grid_dict5['B8']='6'   Equal? True\n"
     ]
    }
   ],
   "source": [
    "print(peers['A7'])\n",
    "print(f\"B8 is a a peer of A7: {'B8' in peers['A7']}\")\n",
    "print(f\"{grid_dict5['A7']=}   {grid_dict5['B8']=}\"\\\n",
    "       f\"   Equal? {grid_dict5['A7'] == grid_dict5['B8']}\")\n",
    "\n"
   ]
  },
  {
   "cell_type": "markdown",
   "metadata": {
    "id": "6gqZbOLLRj-S"
   },
   "source": [
    "Now look at `grid2` and `grid3`.  Are they legal?"
   ]
  },
  {
   "cell_type": "markdown",
   "metadata": {
    "id": "aSHmyl_TxAJB"
   },
   "source": [
    "Your assignment is to write a function that will print out `Invalid` if the grid_dict that is\n",
    "passed in as an argument is illegal and will print out `Valid` if the grid_dict is legal.  Your function, named `test`, should take a grid_dict (the dictionary representation of a grid) as an argument\n",
    "and it  should work as follows:\n",
    "\n",
    "```\n",
    "def test(grid):\n",
    "     Your code goes here\n",
    "\n",
    "test(grid_values(grid1))\n",
    "test(grid_values(grid2))\n",
    "test(grid_values(grid3))\n",
    "test(grid_values(grid4))\n",
    "test(grid_values(grid5))\n",
    "```\n",
    "\n",
    "When you finish your code and execute the lines above, the following should print out:\n",
    "\n",
    "```\n",
    "   Valid!\n",
    "   Valid!\n",
    "   Invalid!\n",
    "   Invalid!\n",
    "   Invalid!\n",
    "```"
   ]
  },
  {
   "cell_type": "markdown",
   "metadata": {
    "id": "KNOQQMfhxAJC"
   },
   "source": [
    "One thing to think about is what test you will use to find out that a square is valid/invalid. Another thing to think about is\n",
    "where in your code the two distinct `print` statements will go. You can't print 'Valid!' when you've seen one valid square.  You have to wait until all the squares have been proven valid.  Does it work exactly the same for 'Invalid!'? You can't print 'Invalid!'  when you've only seen one invalid square?"
   ]
  },
  {
   "cell_type": "markdown",
   "metadata": {
    "id": "afD9Lg7LxAJC"
   },
   "source": [
    "**Warning One**. It follows from the definition of invalidity that for any grid if squares B8 and A7 have the same value, then the grid is invalid.  Yet the following bit of Python is not a test for invalidity:\n",
    "\n",
    "```\n",
    "'B8'  == 'A7'\n",
    "```\n",
    "\n",
    "Can you see why not?"
   ]
  },
  {
   "cell_type": "markdown",
   "metadata": {
    "id": "9hm3A1OXSzyv"
   },
   "source": [
    "We want:"
   ]
  },
  {
   "cell_type": "code",
   "execution_count": null,
   "metadata": {
    "id": "XmyFN9DaSzyw",
    "outputId": "94f24c71-8f9c-4996-fdaa-e5e1806315de"
   },
   "outputs": [
    {
     "data": {
      "text/plain": [
       "True"
      ]
     },
     "execution_count": 2,
     "metadata": {},
     "output_type": "execute_result"
    }
   ],
   "source": [
    "grid_dict5 = grid_values(grid5)\n",
    "grid_dict5['B8']  == grid_dict5['A7']  #Dictionary rep provides easy lookup of grid values!\n"
   ]
  },
  {
   "cell_type": "markdown",
   "metadata": {
    "id": "bs4YMTH6AbIO"
   },
   "source": [
    "So we want in effect to check all the pairs of squares that aren't allowed to contain the same value.   How can we do that?\n",
    "\n",
    "Well you've been givien a very convenient data structure in the code above.\n",
    "It's called `unitlist`.  It is a list of lists.  Each inner list contains the squares in what Norvig calls a \"unit\", a row, or a column, or a box.\n",
    "\n"
   ]
  },
  {
   "cell_type": "code",
   "execution_count": null,
   "metadata": {
    "colab": {
     "base_uri": "https://localhost:8080/",
     "height": 68
    },
    "id": "iUhHvcjCBATV",
    "outputId": "230db95a-e8ef-45af-b450-1a4fe585ce69",
    "scrolled": true
   },
   "outputs": [
    {
     "name": "stdout",
     "output_type": "stream",
     "text": [
      "27\n",
      "['A1', 'B1', 'C1', 'D1', 'E1', 'F1', 'G1', 'H1', 'I1']\n",
      "['A7', 'A8', 'A9', 'B7', 'B8', 'B9', 'C7', 'C8', 'C9']\n"
     ]
    }
   ],
   "source": [
    "print(len(unitlist))\n",
    "print(unitlist[0])   # Row 1\n",
    "print(unitlist[20])  # THe box in the Upper Righthand Corner"
   ]
  },
  {
   "cell_type": "markdown",
   "metadata": {
    "id": "Za9bkS-oRj-U"
   },
   "source": [
    "Now look at the squares corresponding unitlist[20] in `grid5`"
   ]
  },
  {
   "cell_type": "code",
   "execution_count": null,
   "metadata": {
    "id": "57g3NQarRj-U",
    "outputId": "63813d56-e634-4a49-9d03-62a86ea649d1",
    "scrolled": true
   },
   "outputs": [
    {
     "name": "stdout",
     "output_type": "stream",
     "text": [
      ". . 3 |. 2 . |6 . . \n",
      "9 . . |3 . 5 |. 6 1 \n",
      ". . 1 |8 . 6 |4 . . \n",
      "------+------+------\n",
      ". . 8 |1 . 2 |9 . . \n",
      "7 . . |. . . |. . 8 \n",
      ". . 6 |7 . 8 |2 . . \n",
      "------+------+------\n",
      ". . 2 |6 . 9 |5 . . \n",
      "8 . . |2 . 3 |. . 9 \n",
      ". . 5 |. 1 . |3 . . \n",
      "\n"
     ]
    }
   ],
   "source": [
    "grid_dict5 = grid_values(grid5)\n",
    "display(grid_dict5)"
   ]
  },
  {
   "cell_type": "markdown",
   "metadata": {
    "id": "i-muwfzcRj-U"
   },
   "source": [
    "So we see it's the `unitlist[20]` unit, the upper right corner box,\n",
    "that makes this puzzle invalid."
   ]
  },
  {
   "cell_type": "markdown",
   "metadata": {
    "id": "wq3_1wtgBa9H"
   },
   "source": [
    "So the path grows clearer.  Check each unit to see if any squares in that unit have duplicate values."
   ]
  },
  {
   "cell_type": "markdown",
   "metadata": {
    "id": "-_prLlBz_sZX"
   },
   "source": [
    "The basic sketch for the `test` function is:\n",
    "\n",
    "1.  Word on a `grid_dict gd` (the dictionary representation of a sudoku puzzle)\n",
    "2.  Look at all the units.  \n",
    "3.  For each unit `u` check whether the squares in `u` have any duplicate values in `gd`.\n",
    "4.  If you find a duplicate, print 'Invalid!' and return\n",
    "5.  If you don't find any duplicates.  Print 'Valid!' and return."
   ]
  },
  {
   "cell_type": "markdown",
   "metadata": {
    "id": "VszgL-EFBqCj"
   },
   "source": [
    "Let's assemble code that implements some of\n",
    "the recipe above.\n",
    "\n",
    "***Problem A***\n",
    "\n",
    "In the next square write an expression that finds all the values in the ***filled*** squares of `unitlist[20]` in grid5.  Your code will use `grid_dict5`, the dictionary representation of `grid5`, and `unitlist[20]`."
   ]
  },
  {
   "cell_type": "code",
   "execution_count": null,
   "metadata": {
    "id": "nl_j68xTRj-U",
    "scrolled": true
   },
   "outputs": [],
   "source": [
    "grid_dict5 = grid_values(grid5)\n",
    "\n",
    "#Do something with grid_dict5 and unitlist[20]\n"
   ]
  },
  {
   "cell_type": "code",
   "execution_count": null,
   "metadata": {
    "id": "_4j0_x0URj-U",
    "outputId": "800382d1-f753-4d92-c580-42beba02da53"
   },
   "outputs": [
    {
     "data": {
      "text/plain": [
       "['6', '6', '1', '4']"
      ]
     },
     "execution_count": 35,
     "metadata": {},
     "output_type": "execute_result"
    }
   ],
   "source": [
    "# Here's what should be returned by the cell above when you add your code"
   ]
  },
  {
   "cell_type": "code",
   "execution_count": null,
   "metadata": {
    "id": "otexION8Rj-U"
   },
   "outputs": [],
   "source": []
  },
  {
   "cell_type": "code",
   "execution_count": null,
   "metadata": {
    "id": "jnKNgYusRj-U"
   },
   "outputs": [],
   "source": []
  },
  {
   "cell_type": "code",
   "execution_count": null,
   "metadata": {
    "id": "gTFHiJnURj-U"
   },
   "outputs": [],
   "source": []
  },
  {
   "cell_type": "code",
   "execution_count": null,
   "metadata": {
    "id": "jdlBSqVZRj-V"
   },
   "outputs": [],
   "source": []
  },
  {
   "cell_type": "code",
   "execution_count": null,
   "metadata": {
    "id": "HxrA0Dd8Rj-V"
   },
   "outputs": [],
   "source": []
  },
  {
   "cell_type": "code",
   "execution_count": null,
   "metadata": {
    "id": "AdMsZtChRj-V"
   },
   "outputs": [],
   "source": []
  },
  {
   "cell_type": "code",
   "execution_count": null,
   "metadata": {
    "id": "K5KdB2sTRj-V"
   },
   "outputs": [],
   "source": []
  },
  {
   "cell_type": "markdown",
   "metadata": {
    "id": "vFGCD9HVRj-V"
   },
   "source": [
    "Failed solution"
   ]
  },
  {
   "cell_type": "code",
   "execution_count": null,
   "metadata": {
    "id": "5-gWTEx2Rj-V",
    "outputId": "54b77f76-3247-42fc-fded-fbdf269673d6",
    "scrolled": true
   },
   "outputs": [
    {
     "data": {
      "text/plain": [
       "['6', '0', '0', '0', '6', '1', '4', '0', '0']"
      ]
     },
     "execution_count": 4,
     "metadata": {},
     "output_type": "execute_result"
    }
   ],
   "source": [
    "[grid_dict5[sq]  for sq in unitlist[20]]"
   ]
  },
  {
   "cell_type": "markdown",
   "metadata": {
    "id": "PoTcmn6IRj-V"
   },
   "source": [
    "does not exclude the squares with the value `'0'`.  Fix this."
   ]
  },
  {
   "cell_type": "code",
   "execution_count": null,
   "metadata": {
    "id": "WeygenWjRj-V"
   },
   "outputs": [],
   "source": []
  },
  {
   "cell_type": "code",
   "execution_count": null,
   "metadata": {
    "id": "mreADVBfRj-V"
   },
   "outputs": [],
   "source": []
  },
  {
   "cell_type": "code",
   "execution_count": null,
   "metadata": {
    "id": "vH-yQ2GcRj-V"
   },
   "outputs": [],
   "source": []
  },
  {
   "cell_type": "code",
   "execution_count": null,
   "metadata": {
    "id": "MgCGhgg5Rj-V"
   },
   "outputs": [],
   "source": []
  },
  {
   "cell_type": "code",
   "execution_count": null,
   "metadata": {
    "id": "NWC2bKePRj-V"
   },
   "outputs": [],
   "source": []
  },
  {
   "cell_type": "code",
   "execution_count": null,
   "metadata": {
    "id": "m1Aw8lhmRj-V"
   },
   "outputs": [],
   "source": []
  },
  {
   "cell_type": "code",
   "execution_count": null,
   "metadata": {
    "id": "vm6foLIxRj-V"
   },
   "outputs": [],
   "source": []
  },
  {
   "cell_type": "code",
   "execution_count": null,
   "metadata": {
    "id": "ZHRQiLDbRj-V"
   },
   "outputs": [],
   "source": []
  },
  {
   "cell_type": "code",
   "execution_count": null,
   "metadata": {
    "id": "eT0uJjRzRj-V"
   },
   "outputs": [],
   "source": []
  },
  {
   "cell_type": "code",
   "execution_count": null,
   "metadata": {
    "id": "qswV_SZ-Rj-V"
   },
   "outputs": [],
   "source": []
  },
  {
   "cell_type": "code",
   "execution_count": null,
   "metadata": {
    "id": "ohcsOL0sRj-V",
    "outputId": "319c7f84-e7e5-420e-86a6-922e3961954a"
   },
   "outputs": [
    {
     "data": {
      "text/plain": [
       "['6', '6', '1', '4']"
      ]
     },
     "execution_count": 20,
     "metadata": {},
     "output_type": "execute_result"
    }
   ],
   "source": [
    "#Equivalent: fillers= [grid_dict5[sq]  for sq in unitlist[20] if not(grid_dict5[sq] == '0')]\n",
    "fillers= [grid_dict5[sq]  for sq in unitlist[20] if grid_dict5[sq] != '0']\n",
    "fillers"
   ]
  },
  {
   "cell_type": "markdown",
   "metadata": {
    "id": "Cg6YVrUhRj-V"
   },
   "source": [
    "***Problem B***\n",
    "\n",
    "Next goal:  Write a piece of code that detects if there is a duplicate\n",
    "in `fillers`.  There are, of course, but we'd like to write a piece of code that will check any container `fillers` to see if there are duplicate values in it.\n",
    "\n",
    "There are many ways to do this, but here are some hints for finding one\n",
    "way that uses only constructions you know.\n",
    "\n",
    "1.  Loop through the list while maintaining a set (I mean use the Python type `set`!) containing things you've already seen (call it `seen`).  When you come upon an element that you've seen before, print \"Duplicate!\".\n",
    "2.  When you come upon an element you haven't seen, add it to the `seen` set (do `seen.add(element)`)."
   ]
  },
  {
   "cell_type": "code",
   "execution_count": null,
   "metadata": {
    "id": "omvWOj1bRj-V"
   },
   "outputs": [],
   "source": []
  },
  {
   "cell_type": "code",
   "execution_count": null,
   "metadata": {
    "id": "ebXVVVqQRj-V"
   },
   "outputs": [],
   "source": []
  },
  {
   "cell_type": "code",
   "execution_count": null,
   "metadata": {
    "id": "_vMAkjpORj-V"
   },
   "outputs": [],
   "source": []
  },
  {
   "cell_type": "code",
   "execution_count": null,
   "metadata": {
    "id": "-3EFHGm3Rj-V"
   },
   "outputs": [],
   "source": []
  },
  {
   "cell_type": "code",
   "execution_count": null,
   "metadata": {
    "id": "x5STzOnARj-V"
   },
   "outputs": [],
   "source": []
  },
  {
   "cell_type": "code",
   "execution_count": null,
   "metadata": {
    "id": "Pc3giXDPRj-V"
   },
   "outputs": [],
   "source": []
  },
  {
   "cell_type": "code",
   "execution_count": null,
   "metadata": {
    "id": "zZRqLVOyRj-W"
   },
   "outputs": [],
   "source": []
  },
  {
   "cell_type": "code",
   "execution_count": null,
   "metadata": {
    "id": "PCMd4e7yRj-W"
   },
   "outputs": [],
   "source": []
  },
  {
   "cell_type": "code",
   "execution_count": null,
   "metadata": {
    "id": "E7G_Ij0cRj-W"
   },
   "outputs": [],
   "source": []
  },
  {
   "cell_type": "markdown",
   "metadata": {
    "id": "EiqUvIviRj-W"
   },
   "source": [
    "Here's an implementation of the basic idea:"
   ]
  },
  {
   "cell_type": "code",
   "execution_count": null,
   "metadata": {
    "id": "RdGk0rvHRj-W",
    "outputId": "f94bcee9-7428-45e7-b2f4-32d36606e7cb"
   },
   "outputs": [
    {
     "name": "stdout",
     "output_type": "stream",
     "text": [
      "Duplicate!\n"
     ]
    }
   ],
   "source": [
    "seen = set()\n",
    "for val in fillers:\n",
    "    if val in seen:\n",
    "        # Duplicate! Do something!\n",
    "        print(\"Duplicate!\")\n",
    "    else:\n",
    "        seen.add(val)"
   ]
  },
  {
   "cell_type": "markdown",
   "metadata": {
    "id": "uULQITXsRj-W"
   },
   "source": [
    "Look at the value of `seen`."
   ]
  },
  {
   "cell_type": "code",
   "execution_count": null,
   "metadata": {
    "id": "-kkQI1PhRj-W",
    "outputId": "1b19eebc-74b6-41c4-9e14-91b259ee2130"
   },
   "outputs": [
    {
     "data": {
      "text/plain": [
       "{'1', '4', '6'}"
      ]
     },
     "execution_count": 51,
     "metadata": {},
     "output_type": "execute_result"
    }
   ],
   "source": [
    "seen"
   ]
  },
  {
   "cell_type": "markdown",
   "metadata": {
    "id": "nngBTxGpRj-W"
   },
   "source": [
    "It has the same elements as `fillers`, with the duplicates removed.\n",
    "\n",
    "This is fine.  But the duplicates in this case are the\n",
    "first two elements we look at. Once we've seen that thre is a duplicate,\n",
    "we could print out \"Duplicate!\" and stop computing.\n",
    "\n",
    "That could be done as in the following code using the Python\n",
    "`break` statement.  We can check that the `break` statement\n",
    "performed as advertised by looking at the value `seen` after we\n",
    "exit the loop.\n"
   ]
  },
  {
   "cell_type": "code",
   "execution_count": null,
   "metadata": {
    "id": "p2HOvg7fRj-W",
    "outputId": "01dd56e2-0262-4258-e2ea-6318c135f895"
   },
   "outputs": [
    {
     "name": "stdout",
     "output_type": "stream",
     "text": [
      "Duplicate!\n"
     ]
    }
   ],
   "source": [
    "seen = set()\n",
    "for val in fillers:\n",
    "    if val in seen:\n",
    "        # Duplicate! Do something!\n",
    "        print(\"Duplicate!\")\n",
    "        break\n",
    "    else:\n",
    "        seen.add(val)"
   ]
  },
  {
   "cell_type": "code",
   "execution_count": null,
   "metadata": {
    "id": "4SkFsq0uRj-W",
    "outputId": "096d36d6-d5e4-49cd-ae7e-2fa2388840d4"
   },
   "outputs": [
    {
     "data": {
      "text/plain": [
       "{'6'}"
      ]
     },
     "execution_count": 55,
     "metadata": {},
     "output_type": "execute_result"
    }
   ],
   "source": [
    "seen"
   ]
  },
  {
   "cell_type": "markdown",
   "metadata": {
    "id": "o47NFsHyRj-W"
   },
   "source": [
    "So we didn't continue looking at elements after we saw the second '6'."
   ]
  },
  {
   "cell_type": "markdown",
   "metadata": {
    "id": "6_wqdoc6Rj-W"
   },
   "source": [
    "Now this unit clearly belongs to an invalid puzzle because of the\n",
    "duplicate '6'. So if we could write code that detects the fact that there was a duplicate in `fillers` we would have written the code to see if a unit is valid!\n",
    "\n",
    "In fact, we could pretty much just copy and paste the code (and change\n",
    "what's printed out to \"Invalid!\")\n",
    "\n",
    "Low-hanging fruit:  Use `return` in place of `break`.  We are putting\n",
    "this loop in a function definition. When we detect a duplicate\n",
    "we can just `return` and stop executing the function, necause\n",
    "we now know the puzzle is irredeemably invalid.\n",
    "\n",
    "Less low-hanging fruit: If we exhaust all ways in which puzzle-invalidating duplicates could occur, and we have found no duplicates, we can print\n",
    "`Valid!`."
   ]
  },
  {
   "cell_type": "markdown",
   "metadata": {
    "id": "ZsI7VcHbRj-W"
   },
   "source": [
    "***Problem C***\n",
    "\n",
    "In the next square loop through all units in unitlist and for **each** unit, set the variable `fillers` to the values of the filled squares in the unit, and then print the unit (the 9 square names in the current unit) and the value of `fillers`."
   ]
  },
  {
   "cell_type": "code",
   "execution_count": null,
   "metadata": {
    "id": "5KViTD7HRj-W"
   },
   "outputs": [],
   "source": []
  },
  {
   "cell_type": "code",
   "execution_count": null,
   "metadata": {
    "id": "YLhNg22PRj-W"
   },
   "outputs": [],
   "source": []
  },
  {
   "cell_type": "code",
   "execution_count": null,
   "metadata": {
    "id": "dutxciPTRj-W"
   },
   "outputs": [],
   "source": []
  },
  {
   "cell_type": "code",
   "execution_count": null,
   "metadata": {
    "id": "Ad5exkJYRj-W"
   },
   "outputs": [],
   "source": []
  },
  {
   "cell_type": "code",
   "execution_count": null,
   "metadata": {
    "id": "1D4EwJXvRj-W"
   },
   "outputs": [],
   "source": []
  },
  {
   "cell_type": "code",
   "execution_count": null,
   "metadata": {
    "id": "s3wXT9HFRj-W"
   },
   "outputs": [],
   "source": []
  },
  {
   "cell_type": "code",
   "execution_count": null,
   "metadata": {
    "id": "uZlnG9-yRj-W",
    "outputId": "c87545b2-b628-482a-ec71-15a96b3473ff"
   },
   "outputs": [
    {
     "name": "stdout",
     "output_type": "stream",
     "text": [
      "['A1', 'B1', 'C1', 'D1', 'E1', 'F1', 'G1', 'H1', 'I1']\n",
      "['9', '7', '8']\n",
      "\n",
      "['A2', 'B2', 'C2', 'D2', 'E2', 'F2', 'G2', 'H2', 'I2']\n",
      "[]\n",
      "\n",
      "['A3', 'B3', 'C3', 'D3', 'E3', 'F3', 'G3', 'H3', 'I3']\n",
      "['3', '1', '8', '6', '2', '5']\n",
      "\n",
      "['A4', 'B4', 'C4', 'D4', 'E4', 'F4', 'G4', 'H4', 'I4']\n",
      "['3', '8', '1', '7', '6', '2']\n",
      "\n",
      "['A5', 'B5', 'C5', 'D5', 'E5', 'F5', 'G5', 'H5', 'I5']\n",
      "['2', '1']\n",
      "\n",
      "['A6', 'B6', 'C6', 'D6', 'E6', 'F6', 'G6', 'H6', 'I6']\n",
      "['5', '6', '2', '8', '9', '3']\n",
      "\n",
      "['A7', 'B7', 'C7', 'D7', 'E7', 'F7', 'G7', 'H7', 'I7']\n",
      "['6', '4', '9', '2', '5', '3']\n",
      "\n",
      "['A8', 'B8', 'C8', 'D8', 'E8', 'F8', 'G8', 'H8', 'I8']\n",
      "['6']\n",
      "\n",
      "['A9', 'B9', 'C9', 'D9', 'E9', 'F9', 'G9', 'H9', 'I9']\n",
      "['1', '8', '9']\n",
      "\n",
      "['A1', 'A2', 'A3', 'A4', 'A5', 'A6', 'A7', 'A8', 'A9']\n",
      "['3', '2', '6']\n",
      "\n",
      "['B1', 'B2', 'B3', 'B4', 'B5', 'B6', 'B7', 'B8', 'B9']\n",
      "['9', '3', '5', '6', '1']\n",
      "\n",
      "['C1', 'C2', 'C3', 'C4', 'C5', 'C6', 'C7', 'C8', 'C9']\n",
      "['1', '8', '6', '4']\n",
      "\n",
      "['D1', 'D2', 'D3', 'D4', 'D5', 'D6', 'D7', 'D8', 'D9']\n",
      "['8', '1', '2', '9']\n",
      "\n",
      "['E1', 'E2', 'E3', 'E4', 'E5', 'E6', 'E7', 'E8', 'E9']\n",
      "['7', '8']\n",
      "\n",
      "['F1', 'F2', 'F3', 'F4', 'F5', 'F6', 'F7', 'F8', 'F9']\n",
      "['6', '7', '8', '2']\n",
      "\n",
      "['G1', 'G2', 'G3', 'G4', 'G5', 'G6', 'G7', 'G8', 'G9']\n",
      "['2', '6', '9', '5']\n",
      "\n",
      "['H1', 'H2', 'H3', 'H4', 'H5', 'H6', 'H7', 'H8', 'H9']\n",
      "['8', '2', '3', '9']\n",
      "\n",
      "['I1', 'I2', 'I3', 'I4', 'I5', 'I6', 'I7', 'I8', 'I9']\n",
      "['5', '1', '3']\n",
      "\n",
      "['A1', 'A2', 'A3', 'B1', 'B2', 'B3', 'C1', 'C2', 'C3']\n",
      "['3', '9', '1']\n",
      "\n",
      "['A4', 'A5', 'A6', 'B4', 'B5', 'B6', 'C4', 'C5', 'C6']\n",
      "['2', '3', '5', '8', '6']\n",
      "\n",
      "['A7', 'A8', 'A9', 'B7', 'B8', 'B9', 'C7', 'C8', 'C9']\n",
      "['6', '6', '1', '4']\n",
      "\n",
      "['D1', 'D2', 'D3', 'E1', 'E2', 'E3', 'F1', 'F2', 'F3']\n",
      "['8', '7', '6']\n",
      "\n",
      "['D4', 'D5', 'D6', 'E4', 'E5', 'E6', 'F4', 'F5', 'F6']\n",
      "['1', '2', '7', '8']\n",
      "\n",
      "['D7', 'D8', 'D9', 'E7', 'E8', 'E9', 'F7', 'F8', 'F9']\n",
      "['9', '8', '2']\n",
      "\n",
      "['G1', 'G2', 'G3', 'H1', 'H2', 'H3', 'I1', 'I2', 'I3']\n",
      "['2', '8', '5']\n",
      "\n",
      "['G4', 'G5', 'G6', 'H4', 'H5', 'H6', 'I4', 'I5', 'I6']\n",
      "['6', '9', '2', '3', '1']\n",
      "\n",
      "['G7', 'G8', 'G9', 'H7', 'H8', 'H9', 'I7', 'I8', 'I9']\n",
      "['5', '9', '3']\n",
      "\n"
     ]
    }
   ],
   "source": [
    "for unit in unitlist:\n",
    "    print(unit)\n",
    "    # Copying the code from above\n",
    "    fillers= [grid_dict5[sq]  for sq in unit if grid_dict5[sq] != '0']\n",
    "    print(fillers)\n",
    "    print()"
   ]
  },
  {
   "cell_type": "markdown",
   "metadata": {
    "id": "JUI_sz3lRj-W"
   },
   "source": [
    "Now of course the code above does not belong in your `test` function.  Ther's no reason to be printing all this nonsense out.  But a modified version\n",
    "of it does beloing in your `test`."
   ]
  },
  {
   "cell_type": "markdown",
   "metadata": {
    "id": "Uy8myt7sRj-W"
   },
   "source": [
    "You now have all the ingredients to write your `test` function.  \n",
    "Let's review the idea to verify that.\n",
    "\n",
    "\n",
    "1.  Work on a `grid_dict gd` (the dictionary representation of a sudoku puzzle) ***Problem A showed us how to use the `grid_dict gd`***\n",
    "2.  Look at all the units.  ***Problem C*** showed us how to loop throuigh all the units.***\n",
    "3.  For each unit `u` check whether the squares in `u` have any duplicate values in `gd`. ***Problem B implemented duplicate checking.****\n",
    "4.  If you find a duplicate, print 'Invalid!' and return.  ***Problem B did something very close to this.***\n",
    "5.  If you don't find any duplicates.  Print 'Valid!' and return. This should now be clear.   After checking every unit, if no dupes are found, it's okay to print 'Valid!'.\n",
    "\n"
   ]
  },
  {
   "cell_type": "code",
   "execution_count": null,
   "metadata": {
    "id": "0dQcq_e-Rj-W"
   },
   "outputs": [],
   "source": []
  }
 ],
 "metadata": {
  "colab": {
   "name": "functions_nb.ipynb",
   "provenance": []
  },
  "kernelspec": {
   "display_name": "Python 3 (ipykernel)",
   "language": "python",
   "name": "python3"
  },
  "language_info": {
   "codemirror_mode": {
    "name": "ipython",
    "version": 3
   },
   "file_extension": ".py",
   "mimetype": "text/x-python",
   "name": "python",
   "nbconvert_exporter": "python",
   "pygments_lexer": "ipython3",
   "version": "3.12.5"
  },
  "toc": {
   "base_numbering": 1,
   "nav_menu": {
    "height": "294px",
    "width": "252px"
   },
   "number_sections": true,
   "sideBar": true,
   "skip_h1_title": false,
   "title_cell": "Table of Contents",
   "title_sidebar": "Contents",
   "toc_cell": false,
   "toc_position": {},
   "toc_section_display": "block",
   "toc_window_display": false
  }
 },
 "nbformat": 4,
 "nbformat_minor": 1
}
