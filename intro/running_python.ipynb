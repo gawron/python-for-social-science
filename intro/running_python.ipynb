{
 "cells": [
  {
   "cell_type": "markdown",
   "metadata": {
    "id": "PUfy-08dE3Az"
   },
   "source": [
    "## Opening remarks (how to submit)"
   ]
  },
  {
   "cell_type": "markdown",
   "metadata": {
    "id": "GcIWAbA5aVXU"
   },
   "source": [
    "Name/RedID:  "
   ]
  },
  {
   "cell_type": "markdown",
   "metadata": {
    "id": "vnYrFKdwE3A0"
   },
   "source": [
    "Welcome to your first notebook."
   ]
  },
  {
   "cell_type": "markdown",
   "metadata": {
    "id": "cVBfwQlxUZcm"
   },
   "source": [
    "This is your introduction to Jupyter and Colab notebooks. It is not an official assignment itself (your first assignment is in another notebook), but it provides you with some technical help that should help you complete the first assignment. Although this is not an assignment, your are being asked to submit it to confirm\n",
    "you can access and run Python.\n",
    "\n",
    "We accomplish three things with this notebook.\n",
    "\n",
    "1. We will make sure you can run Python, either because you have installed it correctly on your home machine or because you are running this notebook through a browser that can talk to Google Colab.\n",
    "2. We will try to get you comfortable working with a Jupyter Notebook or in Colab. You need to be able to execute the code in it, observe the results, and write responses to what you see.  \n",
    "3. We will cover the details of how to submit an assignment, and what you should save for verification\n",
    "purposes and future use when you submit."
   ]
  },
  {
   "cell_type": "markdown",
   "metadata": {
    "id": "9xojqFUZaVXV"
   },
   "source": [
    "### Completing and submitting (full) assignments"
   ]
  },
  {
   "cell_type": "markdown",
   "metadata": {
    "id": "uQ5xuV2WaVXV"
   },
   "source": [
    "**General Directions**:  First double click on the cell above labeled `Name/RedID` and enter that information.  Then complete the assignment below in the **Student Confirmation** section of this notebook, answering any questions you are asked by writing Python expressions in the code cells provided.  (In this assignment the questions are all near that one section). In all cases, check your answers by executing the code cell to verify that the output is appropriate.  In some cases you may have to create code or text (**markup**) cells of your own to provide an answer.  Please be sure you've successfully completed all these basics (read the [Jupyter Notebook](https://www.dataquest.io/blog/jupyter-notebook-tutorial/) or [Google Colab](https://colab.research.google.com/notebooks/basic_features_overview.ipynb) docs if you need more help) as it will be a regular part of assignments and exams.\n",
    "\n",
    "After you have completed the assignment to your satisfaction, you should download the notebook to your machine as a Notebook file (extension `.ipynb`).   This notebook file is what you will submit on Canvas to receive credit for this assignment.  If you find a problem and you want to change something, restart your notebook and  edit that and re-execute any relevant code cells and re-save the notebook file.  Submit **only** the notebook file (.ipynb) on Canvas unless specifically requested otherwise.  \n",
    "\n",
    "When running Google Colab, an alternative to downloading your notebook (.ipynb) file to your local machine is to\n",
    "save it to your Google Drive (Menu path: `File > Save a Copy in Drive`).  You can then run it directly\n",
    "from your Google Drive.  My notebook files all appear in a folder on my Google Drive named `Colab Notebooks`.\n",
    "Note that Google executes the `Save a Copy` command by creating a copy with a name containing the prefix `Copy of` (for example,`Copy of python_types_assignment_2023`).  From now on, when you save the notebook, just use the `File > Save`  command, or your Google Drive will contain a chain of copies with ever-lengthening names like `Copy of Copy of ....`.\n",
    "\n",
    "It is **highly recommended** that you install [an Anaconda Python distribution](https://www.anaconda.com/distribution/) on your home machine (the latest\n",
    "version is 688 MB and provides Python 3.9), since it has all the basics for the this course and since it allows\n",
    "you to run assignment notebooks on your own machine as Jupyter notebooks (even if you first completed\n",
    "the assignment in Google Colab).  The directions for install\n",
    "Even if you do not install Python, you can run a locally-saved Notebook in \n",
    "Google Colab as follows:\n",
    "\n",
    ">Go to [https://colab.research.google.com/](https://colab.research.google.com/) and login with your google account. You can choose to import your notebook either from Google drive, a local file, or Github. After you have the notebook open go to the top right and click connect. (Thanks to [Jessica Green at medium.com](https://medium.com/@jessica0greene/running-your-notebooks-in-the-cloud-with-google-colab-4387529bfad4#:~:text=Go%20to%20https%3A%2F%2Fcolab,top%20right%20and%20click%20connect.) for this.\n",
    "\n",
    "**An important tip**:  Studying for this course will always work better if you can check your understanding\n",
    "by executing Python snippets.  You should make a practice of doing all your work (including reading the online textbook) with an open notebook to use as your \"scratch paper\" or \"notepad\", so that you can cut and paste code into a code cell and try it out.\n",
    "\n",
    "Note that both Google Colab and Jupyter Notebook provide easy ways of creating new notebooks when you open them.\n",
    "You can also use any of your old notebooks as notepads simply by creating new code cells to execute code in."
   ]
  },
  {
   "cell_type": "markdown",
   "metadata": {
    "id": "S_6EIZ66E3A1"
   },
   "source": [
    "#### Working with this notebook\n",
    "\n",
    "Before we do anything else, let's try a few very simple things.  The next cell contains an arithmetic expression `3+4`.\n",
    "\n",
    "The cell has been **evaluated** so the the value of that expression appears as **output** below the cell.  Cells that contain Python code that can be evaluated so as to produce \n",
    "some output are called **code cells**.  Cells that contain text (like this one!) are called **markup cells**.\n",
    "\n",
    "In Jupyter notebook,  code cells have an **In[ ]** to their left, In Google Colab they have a circle containing a rightward pointing triangle (like the triangle on the **Play** button in many music/video apps). \n",
    "\n",
    "You should edit the cell so that it contains a different arithmetic expression with a different value.  Then you should **evaluate** so as to produce new output.\n",
    "\n",
    "To evaluate, in Jupyter Notebook, press the `Return` key (or `Enter`) while holding down the Shift-key. The Return key is also used to start a new line, so you will need to press `Shift` **before** you press `Enter`.  In Google Colab, click the cell's Play button (usually called a Run button)."
   ]
  },
  {
   "cell_type": "code",
   "execution_count": 3,
   "metadata": {
    "id": "IisR9wwHE3A1",
    "outputId": "14a1770e-c6f3-4367-c13e-27fa3651db60"
   },
   "outputs": [
    {
     "data": {
      "text/plain": [
       "7"
      ]
     },
     "execution_count": 3,
     "metadata": {},
     "output_type": "execute_result"
    }
   ],
   "source": [
    "#@ title A code cell\n",
    "3+4\n"
   ]
  },
  {
   "cell_type": "markdown",
   "metadata": {
    "id": "PhvDViHbE3A3"
   },
   "source": [
    "Next exercise:  the next cell contains the words \"Markup Cell\" in Bold.\n",
    "\n",
    "Double-click on the next cell so that you can edit it. The cell will change color and the text in it will display in typewriter font.  Type in a new sentence.  It will appear in typewriter font.\n",
    "\n",
    "After you are done with your sentence, hold down shift and press `return` to see your handiwork displayed in nice notebook font."
   ]
  },
  {
   "cell_type": "markdown",
   "metadata": {
    "id": "MJ_uGgpRE3A3"
   },
   "source": [
    "**Markup cell**\n"
   ]
  },
  {
   "cell_type": "markdown",
   "metadata": {
    "id": "4I-8hJyyE3A4"
   },
   "source": [
    "### Learn a little about working  with the notebook"
   ]
  },
  {
   "cell_type": "markdown",
   "metadata": {
    "id": "J7l5WK0YUZcn"
   },
   "source": [
    " Before going on with this notebook, I recommend you take in a brief tutorial on notebook interaction.  \n",
    " \n",
    "1. If you are using Jupyter notebook, I recommend that you pull down the `Help` Menu from the Notebook Menubar above and select `User Interface Tour`.  This will give you a quick review of the terminology used for the various parts of the IPython screen, which we will be referring to below. Pay particular attention to where the Notebook Menu Bar is.\n",
    "2. If you are using `Google Colab`, have a look at [\"Getting started with Google Colab.\"](https://towardsdatascience.com/getting-started-with-google-colab-f2fff97f594c)"
   ]
  },
  {
   "cell_type": "markdown",
   "metadata": {},
   "source": [
    "0.2 Learning about Jupyter\n",
    "\n",
    "If you don't use Google Colab, you will be using Jupyter.\n",
    "\n",
    "Jupyter is a collection of software tools centered around the task of running **notebooks**, where by a notebook we mean a document that combines executable code, visualization tools, and sophisticated text markup that lets you create, edit, and interact with all of the above. To learn  about the Jupyter project and to get a broad overview of the computational framework look at [the Project Jupyter Docs.](https://docs.jupyter.org/en/latest/)\n",
    "\n",
    "The first decision you need to make if you decide to use Jupyter is whether you want to use **Juputer Lab** or **Jupyter Notebook**.\n",
    "The former is a multi panel, multi tab software interaction application that gives you access to notebooks as well as editors and\n",
    "visualization hooks.  The latter is stripped down to exactly what you need to run a notebook; Jupyter Notebook will work\n",
    "just fine for this course.   The advantage of using Jupyter Lab is that will get a lot more, which may be of particular use if you intend\n",
    "to use Jupyter for other purposes than Python notebooks, for example, running R notebooks or creating Python modules intended for use by others.\n",
    "\n",
    "The disadvantage of using Jupyter Lab is that you will get a lot more, and therefore have to learn a lot more to use it\n",
    "productively.  Nothing in this course will assume Jupyter Lab; all instructional materials target the case where you have a\n",
    "notebook running Python, and whether that notebook is running on Jupter Notebook or Jupyter Lab (or indeed Google Colab)\n",
    "will not matter.\n",
    "\n",
    "Many people, however, do find it worth the added investment to use Jupyter Lab.  One reason is that you will at some point want to be able to extract code from your notebook and structure it into functions, modules, and packages.  Jupyter Lab gives you a serviceable easy-to-use IDE (Interactive Developer's Environment) with an editor with features like syntax highlighting and automatic indentation (highly important in  Python).  There is plenty of competition in this area, though, so the tools in Jupyter  Lab may not end up being your favorites.\n",
    "\n",
    "0.2  The Jupyter architecture\n",
    "\n",
    "The core of Jupyter is Jupyter Notebook process which begins when you start up a Jupyter Server. The server reads  a notebook file, and writes a version of it to a web socket on your computer which\n",
    "can be rendered by your favorite browser (when the browser visits the websocket the server is using).\n",
    "The server also starts up a Python kernel or connects to a running kernel.  So we have the\n",
    "three running programs in the figure below, which you the user interact with through your browser."
   ]
  },
  {
   "cell_type": "code",
   "execution_count": 4,
   "metadata": {},
   "outputs": [
    {
     "data": {
      "image/png": "[encoded data removed]",
      "text/plain": [
       "<IPython.core.display.Image object>"
      ]
     },
     "execution_count": 4,
     "metadata": {},
     "output_type": "execute_result"
    }
   ],
   "source": [
    "from IPython.display import Image\n",
    "img_url = \"https://raw.githubusercontent.com/gawron/python-for-social-science/master/intro/notebook_components.png\"\n",
    "Image(img_url)"
   ]
  },
  {
   "cell_type": "markdown",
   "metadata": {},
   "source": [
    "For our purposes, the key thing is that the notebook file contains\n",
    "Python code and the kernel is running a Python interpreter,\n",
    "so that it can execute code upon request;\n",
    "the kernel remembers the names and objects\n",
    "the executed code defines, and returns values which can then be passed by\n",
    "the server to the appropriate web socket to be displayed by your browser.\n",
    "In real time you can see the effects of executing the code, including\n",
    "code you may have written to complete an assignment.\n",
    "You can also edit and interact with other things in the notebook, such\n",
    "as images and text markup."
   ]
  },
  {
   "cell_type": "code",
   "execution_count": 7,
   "metadata": {},
   "outputs": [],
   "source": [
    "#from PIL import Image\n",
    "#im = PIL.Image.open(\"notebook_components.webp\")\n",
    "#im.save(\"notebook_components.png\")"
   ]
  },
  {
   "cell_type": "markdown",
   "metadata": {
    "id": "ZyBw7AMzUZcv"
   },
   "source": [
    "# Work Flow"
   ]
  },
  {
   "cell_type": "markdown",
   "metadata": {
    "id": "oHm_O1M6UZcw"
   },
   "source": [
    "#### Copy, rename and save your notebook file\n",
    "\n",
    "\n",
    "**Save the notebook**:  As advised above, you need to save your work. If you are running Jupyter notebook, you should pull down the `File` menu that appears on the Notebook Menu Bar and choose `Save as`.  If you don't see that option, it's probably because you are using the wrong menu bar.  You need the Notebook menubar, not your browser's menu bar.\n",
    "If you are on Google Colab you want `File > Download` or `File > Save a Copy in Drive`.\n",
    "\n",
    "The notebook Menu Bar is just below the line containing the title of the notebook (**running_python**). The actual title of thie notebook is **running_python**; Google Colab may have a title beginning \"Copy of\" followed by a modified version of the the title. "
   ]
  },
  {
   "cell_type": "markdown",
   "metadata": {
    "id": "BR0lhP4uUZcw"
   },
   "source": [
    "**Rename your copy**:  In Jupyter notebook, while working on the copy you should be able to click above the menu bar in the notebook name area.  You will be able to type a new name.  Alternatively, pull down the `File` menu again and choose `Rename`.  Rename the notebook to be `<yourname>_python_types_nb`.  For example I would rename my assignment to be `mark_gawron_python_types_nb`.  \n",
    "\n",
    "In Google Colab the only way to rename is to choose a new name  when saving.  You should copy and rename as soon as you can in your notebook session.  Following these steps will not change the original notebook file you downloaded to do this assignment.  "
   ]
  },
  {
   "cell_type": "markdown",
   "metadata": {
    "id": "LR-adqzhUZcw"
   },
   "source": [
    "**Save your work**. After you have renamed the file, you can save your further work just by pulling down the same file menu and choosing `Save and Checkpoint` in Jupyter Notebook or `Download .ipynb` in Google Colab. The key point is to save the notebook when you are finished working (though you should certainly save earlier as well!).  \n",
    "\n",
    "Takeaway: When doing an assignment, save your work.  Save it often. "
   ]
  },
  {
   "cell_type": "markdown",
   "metadata": {
    "id": "BpGd5qUpUZcx"
   },
   "source": [
    "**Terminating Python and restarting**.  If Python does not seem to be responding to you when you execute commands that should have a response (like asking for the value of a variable by just typing the variable name), you can restart Python by pulling down the `Kernel` menu  in Jupyter Notebook and choosing `Interrupt`.  Or at any time, whether it's after an `Interrupt` or not, you can choose `Kernel > Restart`.  In Google Colab the equivalent items are under `Runtime`.  **Caution**: This will have the effect of wiping Python's memory clean.  So none of the definitions you have already executed will be in effect.  That means if you want to work with an expression that depends on something previously defined, you will have to re-execute all the definitions it depends on.  See the section on interacting with your notebook."
   ]
  },
  {
   "cell_type": "markdown",
   "metadata": {
    "id": "iGblIaIwUZcx"
   },
   "source": [
    "**Ending your Jupyter or Colab session**.  In Jupyter Notebook, select `Close and halt` from the `File` menu.  This kills the Python process running behind your notebook.  But it does not kill the program that is interacting with you through your web browser, called the `Notebook Server`.  This is still running back in the window you originally started the notebook from.  To  kill this program, go back to the directory listing that showed up when you started jupyter notebook and select `Quit`.  Or just ignore it.  It's not hurting anyone and will terminate when your browser does.\n",
    "\n",
    "There is nothing equivalent to `Close and Halt` for Google Colab.  Just kill the Browser Tab or Browser Window your notebook is running in.  It is a good idea to do this since if you don't Google will eventually do it for you.  \n",
    "\n",
    "This brings up a special caution for Google Colab users.  Another time to save your work is if you are going away for a while.  If you leave the tab open and, say, go away for the night, your Python process will very likely be terminated by Google.  Your notebook window will generally still  be there in the morning, but you will need to start up a new Python process (under Runtime > Restart Runtime) and re-execute all your definitions.\n",
    "\n",
    "**Restarting your Jupyter or Colab session from a saved notebook**.  You have saved \n",
    "a notebook to your Google Drive or to your local machine.  You want to resume work on that version of the notebook.  The scenarios are different with Jupyter notebook and Google Colab.\n",
    "\n",
    ">**Google Colab**:   Visit [https://colab.research.google.com/](https://colab.research.google.com/)  Then do `File > Upload Notebook`.  You will be required to sign in to your Google account.  Or if you have saved the notebook to your Google Drive, you should be able to start it from there.\n",
    "\n",
    ">**Jupyter Notebook**:  Open a Terminal/Command window.  Type \n",
    ">> jupyter notebook\n",
    "\n",
    "> The browser will open a jupyter file manager window displaying the files in the directory where you started Jupyter (usually your home folder).  Navigate to the directory containing your notebook and click on it.  You can also use Anaconda `Navigator` (a clickable application installed with Anaconda) to start notebooks, if typing commands gives you the heebie jeebies."
   ]
  },
  {
   "cell_type": "markdown",
   "metadata": {
    "id": "el9hKoyGE3A7"
   },
   "source": [
    "**Submitting an assignment on Canvas.** For this you will need a Python file saved on your local machine.\n",
    "\n",
    "The assignment  page in Canvas will provide an easy way of uploading a file from your local\n",
    "machine to Canvas."
   ]
  },
  {
   "cell_type": "markdown",
   "metadata": {
    "id": "e5ihd81-UZcy"
   },
   "source": [
    "# Interacting with Jupyter Notebook or Google Colab"
   ]
  },
  {
   "cell_type": "markdown",
   "metadata": {
    "id": "15CkXOhvUZcy"
   },
   "source": [
    "1. **Basic concept**.  As we saw above, an interactive notebook is a kind of spreadsheet consisting of a sequence of **cells** of two types, code cells and Markdown cells. These two types of cells let you evaluate expressions of Python or enter text.  Any time you wish, you can double click on a code cell and edit it, adding or deleting material.  Evaluate the cell when you're done editing, as shown earlier in this notebook.  Keep in mind that Python will evaluate every line in the cell in a code cell, but it will display output only for the **last** line. Also bear in mind that some lines of Python don't have outputs because they don't return values.  For example, if you type `2+3` in a code cell and hit `[Shift]`-`[Enter]`, Python will respond `5`, But if you type `X=2+3`, Python says nothing.  It merely changes its state so that the variable `X` is now defined and now has the value `5`.\n",
    "2. **Code cell dependencies**.  Is everything defined?   When you load up a Python notebook, Python doesn't automatically execute all the code in code cells. It waits for you to tell it to. Frequently a code cell will have expressions that will depend on other expressions being defined or on some Python module being loaded, and those things will have happened in cells above the one you're editing.  In that case, executing the cell you're editing **before** executing the cells above will cause a Python error, often a `NameError`.  \n",
    "\n",
    "Remember that type of error: `Name Error`.  As a beginner, it is probably going to be the most common type of error you have.  As an experienced old hand, it will probably still rank way up there.\n",
    "\n",
    "There are two ways to fix a Name Error.  One is to execute the cell with the needed definition and then re-execute the cell you were editing.  This is the scalpel solution.  The hammer solution is to pull down the `Cell` menu and select `Run all above`.  As time goes on and our notebooks become more and more complicated, the hammer solution will work less and less often, or you will become impatient with waiting for unnecessary pieces of code to finish executing.  At that point it will be a good idea to understand the dependencies among code cells and just execute the cells you need for your current editing purposes. Often this will be as simple as just executing the cells in the section of the notebook you're working on.\n",
    "3.  **Help**.  Of course the way to get help is to pull down the `Help` menu, but it is worth pointing out that most of the items there are not for beginners.  The two most important items are\n",
    "    1. Notebook Help (Jupyter only).  This takes you to some web pages that are basically a Tutorials. Highly recommended.\n",
    "    2. Keyboard shortcuts (under `Tools` in Google Colab.) This includes all the ways to get things done with keyboard commands, which are often more efficient than menu shuffling.  Most of the commands begin with `Ctrl-m`.  As with `[Shift]`-`[Enter]`, this means holding down the first key while pressing the second.  So `Ctrl-m` means *hold down the `Control` key while pressing the `m` key.*  If there is a third key, release the first two before hitting the third.  So `Ctrl-m-H` (show keyboard shortcuts) means *hold down the `Control` key while pressing the `m` key. then press H.*\n",
    "4.  **Creating new cells**.  Eventually you will be doing assignments in which you create new code cells and new markdown cells.  For now cells of both types have been provided below for you to put your answers in.  When you want to start creating cells, in Jupyter notebook you can use keyboard commands shown in the Keyboard shortcut help that will put new cells above and below the cell your cursor is in.  By default a new cell is a code cell.  There is also a keyboard shortcut for turning a code cell into a markdown cell.  In Google Colab, if you hover your cursor over the top or bottom center of a cell, buttons for adding new code or text cells will appear."
   ]
  },
  {
   "cell_type": "markdown",
   "metadata": {
    "id": "UZw4IFWVvTwQ"
   },
   "source": [
    "**Note**:  If you are looking at this notebook on GitHub and wondering how on earth to run it have a look [at this section of the online book](https://gawron.sdsu.edu/python_for_ss/course_core/book_draft/Introduction/starting_up_python.html).  Bear in mind you'll not only need to download the \"Open in colab\" extension of your Chrome browser.  You'll also need to be logged in to your Google account."
   ]
  },
  {
   "cell_type": "markdown",
   "metadata": {
    "id": "x9s5jJ4klqDx"
   },
   "source": [
    "# Running python"
   ]
  },
  {
   "cell_type": "markdown",
   "metadata": {
    "id": "teAxBAjhlqDy"
   },
   "source": [
    "The first command in the cell below will start off many notebooks.  It loads matplotlib (graphing) tools and numpy (extended math) tools into Python.  It also guarantees your plots will appear in the notebook rather than in a separate window."
   ]
  },
  {
   "cell_type": "code",
   "execution_count": null,
   "metadata": {
    "colab": {
     "base_uri": "https://localhost:8080/",
     "height": 85
    },
    "id": "SKB31DKrlqD1",
    "outputId": "cbee5d00-2a8b-47b9-94e7-83ad5aef8618"
   },
   "outputs": [
    {
     "name": "stdout",
     "output_type": "stream",
     "text": [
      "Populating the interactive namespace from numpy and matplotlib\n"
     ]
    },
    {
     "name": "stderr",
     "output_type": "stream",
     "text": [
      "/Users/gawron/opt/anaconda3/lib/python3.7/site-packages/IPython/core/magics/pylab.py:160: UserWarning: pylab import has clobbered these variables: ['e', 'pi']\n",
      "`%matplotlib` prevents importing * from pylab and numpy\n",
      "  \"\\n`%matplotlib` prevents importing * from pylab and numpy\"\n"
     ]
    }
   ],
   "source": [
    "%pylab inline"
   ]
  },
  {
   "cell_type": "markdown",
   "metadata": {
    "id": "4c4Z36iqE3A9"
   },
   "source": [
    "If you've just loaded this notebook, you might want to run the commands in the cell above.  This is done by placing your cursor in the cell and hitting the enter key **while** holding down shift, which we will henceforth write as `[Shift]`-`[Enter]`.  After you do that the 5 variables will have the values they were assigned in the cell. "
   ]
  },
  {
   "cell_type": "markdown",
   "metadata": {
    "id": "-z86imZUlqD_"
   },
   "source": [
    "Now try running the commands in the cell below\n",
    ".  This is done by placing your cursor in the cell and hitting the enter key **while** holding down shift, which we will henceforth write as `[Shift]`-`[Enter]`.  After you do that the 5 variables will have the values they were assigned in the cell. "
   ]
  },
  {
   "cell_type": "code",
   "execution_count": null,
   "metadata": {
    "id": "2a4Ebz5AlqD8"
   },
   "outputs": [],
   "source": [
    "total_secs = 7684\n",
    "hours = total_secs // 3600\n",
    "secs_still_remaining = total_secs % 3600\n",
    "minutes =  secs_still_remaining // 60\n",
    "secs_finally_remaining = secs_still_remaining  % 60"
   ]
  },
  {
   "cell_type": "code",
   "execution_count": null,
   "metadata": {
    "id": "HeDbeOsZlqEA",
    "outputId": "8029e9d3-f190-4b64-d876-1c6163343128"
   },
   "outputs": [
    {
     "data": {
      "text/plain": [
       "7685"
      ]
     },
     "execution_count": 4,
     "metadata": {},
     "output_type": "execute_result"
    }
   ],
   "source": [
    "total_secs  + 1"
   ]
  },
  {
   "cell_type": "code",
   "execution_count": null,
   "metadata": {
    "id": "JS6Hr6xxlqED",
    "outputId": "a89999bd-9c59-4da3-ff6e-3ede6f0a02ce"
   },
   "outputs": [
    {
     "data": {
      "text/plain": [
       "2"
      ]
     },
     "execution_count": 5,
     "metadata": {},
     "output_type": "execute_result"
    }
   ],
   "source": [
    "hours"
   ]
  },
  {
   "cell_type": "code",
   "execution_count": null,
   "metadata": {
    "id": "87nSqyjklqEG",
    "outputId": "e12767b1-3e36-4829-caaa-b3ab765e5364"
   },
   "outputs": [
    {
     "data": {
      "text/plain": [
       "8"
      ]
     },
     "execution_count": 6,
     "metadata": {},
     "output_type": "execute_result"
    }
   ],
   "source": [
    "minutes"
   ]
  },
  {
   "cell_type": "code",
   "execution_count": null,
   "metadata": {
    "id": "g35ld2tUlqEK",
    "outputId": "7fe86f9b-b5a6-4ec1-afda-26ce6f5a5c50"
   },
   "outputs": [
    {
     "data": {
      "text/plain": [
       "484"
      ]
     },
     "execution_count": 7,
     "metadata": {},
     "output_type": "execute_result"
    }
   ],
   "source": [
    "secs_still_remaining"
   ]
  },
  {
   "cell_type": "code",
   "execution_count": null,
   "metadata": {
    "id": "QpbHNDK_lqEN",
    "outputId": "2c1f6cba-0da9-4418-ddff-13912155a176"
   },
   "outputs": [
    {
     "data": {
      "text/plain": [
       "4"
      ]
     },
     "execution_count": 8,
     "metadata": {},
     "output_type": "execute_result"
    }
   ],
   "source": [
    "secs_finally_remaining"
   ]
  },
  {
   "cell_type": "markdown",
   "metadata": {
    "id": "C5Ulk3VslqEQ"
   },
   "source": [
    "To look at the values of a set of variables you can do what we just did, typing each variable to Python, but there are some other options.  One is to type a tuple to Python, to look at several variables at once."
   ]
  },
  {
   "cell_type": "code",
   "execution_count": null,
   "metadata": {
    "id": "54WkydbllqER",
    "outputId": "6d712cee-a64b-4544-f2e0-a758d9897b62"
   },
   "outputs": [
    {
     "data": {
      "text/plain": [
       "(7684, 2, 8, 484, 4)"
      ]
     },
     "execution_count": 9,
     "metadata": {},
     "output_type": "execute_result"
    }
   ],
   "source": [
    "(total_secs, hours, minutes, secs_still_remaining,secs_finally_remaining)"
   ]
  },
  {
   "cell_type": "markdown",
   "metadata": {
    "id": "q7br_VDjlqEU"
   },
   "source": [
    "Another is to use Python's `print` functiopn.  Notice the parens are needed in `print` commands,\n",
    "as  of Python 3.  It takes any number of arguments, which can be strings or names with values\n",
    "like those we used in the previous cell)."
   ]
  },
  {
   "cell_type": "code",
   "execution_count": null,
   "metadata": {
    "id": "F9lgEGXglqEU",
    "outputId": "2132f435-fe00-4fa6-b6d2-47c3ff72d61d",
    "scrolled": true
   },
   "outputs": [
    {
     "name": "stdout",
     "output_type": "stream",
     "text": [
      "Hrs = 2 mins = 8 secs = 4\n"
     ]
    }
   ],
   "source": [
    "print(\"Hrs =\", hours, \"mins =\", minutes, \"secs =\", secs_finally_remaining)"
   ]
  },
  {
   "cell_type": "markdown",
   "metadata": {
    "id": "pbEN7xcaE3A_"
   },
   "source": [
    "Or equivalently and slightly more conveniently we can use one **f-string** (note the `f`-prefix to\n",
    "the quotation mark) and insert names with avlues into the string in curly braces:"
   ]
  },
  {
   "cell_type": "code",
   "execution_count": null,
   "metadata": {
    "id": "SWLUkgRXE3A_",
    "outputId": "5b2780c7-d9b8-4fbf-9baf-b8e1de721e7f"
   },
   "outputs": [
    {
     "name": "stdout",
     "output_type": "stream",
     "text": [
      "Hrs = 2 mins = 8 secs = 4\n"
     ]
    }
   ],
   "source": [
    "print(f\"Hrs = {hours} mins = {minutes} secs = {secs_finally_remaining}\")"
   ]
  },
  {
   "cell_type": "markdown",
   "metadata": {
    "id": "HsbKOmW4E3A_"
   },
   "source": [
    "Notice the curly braces are important."
   ]
  },
  {
   "cell_type": "code",
   "execution_count": null,
   "metadata": {
    "id": "7B3BjP76E3A_",
    "outputId": "e991d917-48c1-4243-b98b-4d3d790ed165"
   },
   "outputs": [
    {
     "name": "stdout",
     "output_type": "stream",
     "text": [
      "Hrs = hours mins = minutes secs = secs_finally_remaining\n"
     ]
    }
   ],
   "source": [
    "print(f\"Hrs = hours mins = minutes secs = secs_finally_remaining\")"
   ]
  },
  {
   "cell_type": "markdown",
   "metadata": {
    "id": "v9Xmmm--lqEX"
   },
   "source": [
    "Some important features of the `print` statement are illustrated. In the first example we see `print` takes any number of arguments, separated by commas.  The commas are interpreted as spaces.  The final argument is not followed by a comma so print adds a newline character (\"\\n\").  The syntax of `print`, which used to  like nothing else in Python (no parens), has been changed in Python 3.0.  The new syntax is what's illustrated here."
   ]
  },
  {
   "cell_type": "markdown",
   "metadata": {
    "id": "TdfbhwySlqEY"
   },
   "source": [
    "# Python arithmetic "
   ]
  },
  {
   "cell_type": "markdown",
   "metadata": {
    "id": "LUmgRRRWlqEZ"
   },
   "source": [
    "Lets look at each of the lines in the code and see what it computes.  Python has two division operators, '//' and '/'. These are illustrated in the next cells."
   ]
  },
  {
   "cell_type": "code",
   "execution_count": null,
   "metadata": {
    "id": "m6fl1vcnlqEa",
    "outputId": "0fd2cc60-3c33-4c8c-8585-f8f0cd52415a"
   },
   "outputs": [
    {
     "data": {
      "text/plain": [
       "2"
      ]
     },
     "execution_count": 10,
     "metadata": {},
     "output_type": "execute_result"
    }
   ],
   "source": [
    "total_secs // 3600"
   ]
  },
  {
   "cell_type": "markdown",
   "metadata": {
    "id": "MINJMHqTaVXa"
   },
   "source": [
    "Contrast:"
   ]
  },
  {
   "cell_type": "code",
   "execution_count": null,
   "metadata": {
    "id": "0Ne7mjmLaVXa",
    "outputId": "c1a95d84-cecf-455e-8512-5a5cbcc68c4d"
   },
   "outputs": [
    {
     "data": {
      "text/plain": [
       "2.1344444444444446"
      ]
     },
     "execution_count": 11,
     "metadata": {},
     "output_type": "execute_result"
    }
   ],
   "source": [
    "total_secs / 3600"
   ]
  },
  {
   "cell_type": "markdown",
   "metadata": {
    "id": "GecQMaQ1lqEd"
   },
   "source": [
    "Note that  the '//' operator rounds off to the nearest integer, while `/`\n",
    "does ordinary division."
   ]
  },
  {
   "cell_type": "markdown",
   "metadata": {
    "id": "VEpDsT9RlqEh"
   },
   "source": [
    "The '%' operator (also called the **modulus** operator) computes the *remainder* in a division."
   ]
  },
  {
   "cell_type": "code",
   "execution_count": null,
   "metadata": {
    "id": "JFjIFROIlqEh",
    "outputId": "6ffa936f-a022-4676-c7af-77fa56350af5"
   },
   "outputs": [
    {
     "data": {
      "text/plain": [
       "484"
      ]
     },
     "execution_count": 18,
     "metadata": {},
     "output_type": "execute_result"
    }
   ],
   "source": [
    "total_secs % 3600"
   ]
  },
  {
   "cell_type": "code",
   "execution_count": null,
   "metadata": {
    "id": "CdUWppz2lqEk",
    "outputId": "3fd7fec1-d0d1-4c17-e830-4b8b9a6a03c5"
   },
   "outputs": [
    {
     "data": {
      "text/plain": [
       "0.30000000000001137"
      ]
     },
     "execution_count": 19,
     "metadata": {},
     "output_type": "execute_result"
    }
   ],
   "source": [
    "345.3 % 3"
   ]
  },
  {
   "cell_type": "markdown",
   "metadata": {
    "id": "whOazm8UlqEn"
   },
   "source": [
    "## Basic arithmetic"
   ]
  },
  {
   "cell_type": "markdown",
   "metadata": {
    "id": "g68FE0_blqEn"
   },
   "source": [
    "Multiplication"
   ]
  },
  {
   "cell_type": "code",
   "execution_count": null,
   "metadata": {
    "id": "lnZDltEYlqEp",
    "outputId": "cd4857e9-aac1-4553-a167-8bd98fce826c"
   },
   "outputs": [
    {
     "data": {
      "text/plain": [
       "6"
      ]
     },
     "execution_count": 20,
     "metadata": {},
     "output_type": "execute_result"
    }
   ],
   "source": [
    "3 * 2"
   ]
  },
  {
   "cell_type": "markdown",
   "metadata": {
    "id": "-z2LnvEjlqEt"
   },
   "source": [
    "Addition"
   ]
  },
  {
   "cell_type": "code",
   "execution_count": null,
   "metadata": {
    "id": "nYm0jGY2lqEu",
    "outputId": "51b900d8-84f9-4a40-ee2a-ec2f1445fb03"
   },
   "outputs": [
    {
     "data": {
      "text/plain": [
       "5"
      ]
     },
     "execution_count": 21,
     "metadata": {},
     "output_type": "execute_result"
    }
   ],
   "source": [
    "3 + 2"
   ]
  },
  {
   "cell_type": "markdown",
   "metadata": {
    "id": "KX_F9O2BlqEy"
   },
   "source": [
    "Subtraction"
   ]
  },
  {
   "cell_type": "code",
   "execution_count": null,
   "metadata": {
    "id": "tQmvhITolqEz",
    "outputId": "7ed11841-c802-46ef-ef6a-598afefa0d4b"
   },
   "outputs": [
    {
     "data": {
      "text/plain": [
       "1"
      ]
     },
     "execution_count": 22,
     "metadata": {},
     "output_type": "execute_result"
    }
   ],
   "source": [
    "3 - 2"
   ]
  },
  {
   "cell_type": "markdown",
   "metadata": {
    "id": "PaqeCq0qlqE2"
   },
   "source": [
    "Raising to a power"
   ]
  },
  {
   "cell_type": "code",
   "execution_count": null,
   "metadata": {
    "id": "HuunR6ZblqE3",
    "outputId": "fb64faa3-c620-43a1-9017-e69554af1e51"
   },
   "outputs": [
    {
     "data": {
      "text/plain": [
       "9"
      ]
     },
     "execution_count": 23,
     "metadata": {},
     "output_type": "execute_result"
    }
   ],
   "source": [
    "3 ** 2"
   ]
  },
  {
   "cell_type": "markdown",
   "metadata": {
    "id": "M7uODFS0lqE6"
   },
   "source": [
    "Taking the log.  The next line is log of 3."
   ]
  },
  {
   "cell_type": "code",
   "execution_count": null,
   "metadata": {
    "id": "F7-uXHiHlqE6",
    "outputId": "d02aba77-b040-44ae-c405-d2e53e006bc6"
   },
   "outputs": [
    {
     "data": {
      "text/plain": [
       "1.0986122886681098"
      ]
     },
     "execution_count": 2,
     "metadata": {},
     "output_type": "execute_result"
    }
   ],
   "source": [
    "log(3)"
   ]
  },
  {
   "cell_type": "markdown",
   "metadata": {
    "id": "St96VgO5lqE9"
   },
   "source": [
    "In regular Python, this would be a `NameError` because the *log function* is not one of the builtin Python math functions.  But because we executed `%pylab` when we started up this notebook, all the extended math functions defined in the `numpy` module are defined.  One of those is `log`.  As an example of some possible pitfalls, we'll compare this `log` with the more vanilla version from the standard Python `math` module.  `math.log` does give the same answers for real numbers."
   ]
  },
  {
   "cell_type": "code",
   "execution_count": null,
   "metadata": {
    "colab": {
     "base_uri": "https://localhost:8080/",
     "height": 34
    },
    "id": "xWuzczGalqE_",
    "outputId": "1f558e21-fb2e-4cf2-e40a-f0cdbdcd51d9"
   },
   "outputs": [
    {
     "data": {
      "text/plain": [
       "1.0986122886681098"
      ]
     },
     "execution_count": 7,
     "metadata": {},
     "output_type": "execute_result"
    }
   ],
   "source": [
    "import math\n",
    "math.log(3)"
   ]
  },
  {
   "cell_type": "markdown",
   "metadata": {
    "id": "tSZ8J3EylqFB"
   },
   "source": [
    "By default, math.log does natural logarithms, as does `numpy.log`, so if you dont specify the base, it is **e**.  But unlike the numpy implementation, `math.log` lets you choose other bases."
   ]
  },
  {
   "cell_type": "code",
   "execution_count": null,
   "metadata": {
    "id": "N3W2eCvRlqFC",
    "outputId": "9f000653-331a-446c-e16c-d196840b0b35"
   },
   "outputs": [
    {
     "data": {
      "text/plain": [
       "(1.5849625007211563, 1.0)"
      ]
     },
     "execution_count": 3,
     "metadata": {},
     "output_type": "execute_result"
    }
   ],
   "source": [
    "math.log(3,2),math.log(3,3)"
   ]
  },
  {
   "cell_type": "markdown",
   "metadata": {
    "id": "vNxr1jGKlqFE"
   },
   "source": [
    "Trying this with the `numpy.log` raises an exception.  `numpy.log` does allow a second argument but it's used for purposes we won't delve into right now."
   ]
  },
  {
   "cell_type": "code",
   "execution_count": null,
   "metadata": {
    "id": "L-EcWtrXlqFF",
    "outputId": "4f93078e-996c-477b-8662-0289f911b457"
   },
   "outputs": [
    {
     "ename": "TypeError",
     "evalue": "return arrays must be of ArrayType",
     "output_type": "error",
     "traceback": [
      "\u001b[0;31m---------------------------------------------------------------------------\u001b[0m",
      "\u001b[0;31mTypeError\u001b[0m                                 Traceback (most recent call last)",
      "\u001b[0;32m<ipython-input-9-e5ab6086b242>\u001b[0m in \u001b[0;36m<module>\u001b[0;34m\u001b[0m\n\u001b[0;32m----> 1\u001b[0;31m \u001b[0mlog\u001b[0m\u001b[0;34m(\u001b[0m\u001b[0;36m3\u001b[0m\u001b[0;34m,\u001b[0m\u001b[0;36m2\u001b[0m\u001b[0;34m)\u001b[0m\u001b[0;34m\u001b[0m\u001b[0;34m\u001b[0m\u001b[0m\n\u001b[0m",
      "\u001b[0;31mTypeError\u001b[0m: return arrays must be of ArrayType"
     ]
    }
   ],
   "source": [
    "log(3,2)"
   ]
  },
  {
   "cell_type": "markdown",
   "metadata": {
    "id": "mDRb79hNaVXb"
   },
   "source": [
    "The moral of all this is that different modules may supply functions with teh same name but\n",
    "with different behavior.  Thus it's a very good idea to have your code explicitly state whcih\n",
    "functions are being supplied by which modules.  When we executed `%pylab inline` a lot of things\n",
    "happened behind the scenes that weren't explicit.  THis is fine when you know exactly\n",
    "what you;re doing, but it's a pitfall for beginners.\n",
    "\n",
    "In addition to functions, mmported modules (like `numpy` above) can alos supply names.  For example."
   ]
  },
  {
   "cell_type": "code",
   "execution_count": null,
   "metadata": {
    "colab": {
     "base_uri": "https://localhost:8080/",
     "height": 34
    },
    "id": "xrFNJwLLlqFH",
    "outputId": "c566d1fe-9309-4ba0-9809-deb29d36b0a7"
   },
   "outputs": [
    {
     "data": {
      "text/plain": [
       "1.0"
      ]
     },
     "execution_count": 5,
     "metadata": {},
     "output_type": "execute_result"
    }
   ],
   "source": [
    "#Explicitly import this one name from a big module\n",
    "from math import e\n",
    "math.log(e)"
   ]
  },
  {
   "cell_type": "code",
   "execution_count": null,
   "metadata": {
    "colab": {
     "base_uri": "https://localhost:8080/",
     "height": 34
    },
    "id": "-j7o52Z9lqFK",
    "outputId": "35a234d4-50f9-4c5a-be58-8871e964eaea"
   },
   "outputs": [
    {
     "data": {
      "text/plain": [
       "2.718281828459045"
      ]
     },
     "execution_count": 6,
     "metadata": {},
     "output_type": "execute_result"
    }
   ],
   "source": [
    "e"
   ]
  },
  {
   "cell_type": "code",
   "execution_count": null,
   "metadata": {
    "id": "uSGh1_GclqFN",
    "outputId": "af5324b4-e9cd-4fcb-e1f4-a74845540180"
   },
   "outputs": [
    {
     "data": {
      "text/plain": [
       "1.3862943611198906"
      ]
     },
     "execution_count": 7,
     "metadata": {},
     "output_type": "execute_result"
    }
   ],
   "source": [
    "math.log(4)"
   ]
  },
  {
   "cell_type": "code",
   "execution_count": null,
   "metadata": {
    "id": "_xbdw0VMlqFP",
    "outputId": "a3db9daa-31ee-4602-bdf5-70f826696b34"
   },
   "outputs": [
    {
     "data": {
      "text/plain": [
       "2.0"
      ]
     },
     "execution_count": 8,
     "metadata": {},
     "output_type": "execute_result"
    }
   ],
   "source": [
    "math.log(4,2)"
   ]
  },
  {
   "cell_type": "markdown",
   "metadata": {
    "id": "XnRmiiO8lqFS"
   },
   "source": [
    "The numpy version of log is pretty geeky. For example, it's defined for complex numbers."
   ]
  },
  {
   "cell_type": "code",
   "execution_count": null,
   "metadata": {
    "id": "2JfHfmJSlqFT",
    "outputId": "6ddfff7d-09e7-4dc6-b8e9-63017efaf646"
   },
   "outputs": [
    {
     "data": {
      "text/plain": [
       "(1.2824746787307684+0.5880026035475675j)"
      ]
     },
     "execution_count": 9,
     "metadata": {},
     "output_type": "execute_result"
    }
   ],
   "source": [
    "log(3+2j)"
   ]
  },
  {
   "cell_type": "markdown",
   "metadata": {
    "id": "guzlhKbYlqFW"
   },
   "source": [
    "The regular Python version of log is not."
   ]
  },
  {
   "cell_type": "code",
   "execution_count": null,
   "metadata": {
    "id": "iCFtOO3olqFW",
    "outputId": "02b03836-6dd0-4071-d93b-bcf201dfbd9d"
   },
   "outputs": [
    {
     "ename": "TypeError",
     "evalue": "must be real number, not complex",
     "output_type": "error",
     "traceback": [
      "\u001b[0;31m---------------------------------------------------------------------------\u001b[0m",
      "\u001b[0;31mTypeError\u001b[0m                                 Traceback (most recent call last)",
      "Cell \u001b[0;32mIn[10], line 1\u001b[0m\n\u001b[0;32m----> 1\u001b[0m \u001b[43mmath\u001b[49m\u001b[38;5;241;43m.\u001b[39;49m\u001b[43mlog\u001b[49m\u001b[43m(\u001b[49m\u001b[38;5;241;43m3\u001b[39;49m\u001b[38;5;241;43m+\u001b[39;49m\u001b[38;5;241;43m2\u001b[39;49m\u001b[43mj\u001b[49m\u001b[43m)\u001b[49m\n",
      "\u001b[0;31mTypeError\u001b[0m: must be real number, not complex"
     ]
    }
   ],
   "source": [
    "math.log(3+2j)"
   ]
  },
  {
   "cell_type": "markdown",
   "metadata": {
    "id": "qCPY3vLUlqFb"
   },
   "source": [
    "The Python *math* module is very spare and lacks a number of important mathematical tools of interest to data scientists.  Later on in this course we will be introduced to the more complete set of tools available in the *numpy* module."
   ]
  },
  {
   "cell_type": "markdown",
   "metadata": {
    "id": "fCyujxkLlqFc"
   },
   "source": [
    "## Student confirmation section"
   ]
  },
  {
   "cell_type": "markdown",
   "metadata": {
    "id": "f5LzpcwYlqFc"
   },
   "source": [
    "Evaluate the cells below, to find out the value of the expressions.\n",
    "\n",
    "Note that you may get some errors, which we'll talk about.  They have to do when\n",
    "complex numbers are required and how to write them when they are.\n",
    "\n",
    "After evaluating all four cells, save the notebook and submit it on\n",
    "Canvas as your version of the first assignment.  Do not submit\n",
    "the notebook without evaluating the cells, or you won't get credit."
   ]
  },
  {
   "cell_type": "code",
   "execution_count": null,
   "metadata": {
    "colab": {
     "base_uri": "https://localhost:8080/",
     "height": 34
    },
    "id": "uYavvgpslqFd",
    "outputId": "7be21211-e61c-4746-cbb7-d3e17facb4b8"
   },
   "outputs": [
    {
     "ename": "NameError",
     "evalue": "name 'j' is not defined",
     "output_type": "error",
     "traceback": [
      "\u001b[0;31m---------------------------------------------------------------------------\u001b[0m",
      "\u001b[0;31mNameError\u001b[0m                                 Traceback (most recent call last)",
      "\u001b[0;32m/var/folders/w9/bx4mylnd27g_kqqgn5hrn2x40000gr/T/ipykernel_42819/23100060.py\u001b[0m in \u001b[0;36m<module>\u001b[0;34m\u001b[0m\n\u001b[1;32m      1\u001b[0m \u001b[0;32mfrom\u001b[0m \u001b[0mmath\u001b[0m \u001b[0;32mimport\u001b[0m \u001b[0mpi\u001b[0m\u001b[0;34m,\u001b[0m\u001b[0me\u001b[0m\u001b[0;34m\u001b[0m\u001b[0m\n\u001b[0;32m----> 2\u001b[0;31m \u001b[0mpow\u001b[0m\u001b[0;34m(\u001b[0m\u001b[0me\u001b[0m\u001b[0;34m,\u001b[0m\u001b[0;36m0\u001b[0m\u001b[0;34m+\u001b[0m\u001b[0;34m(\u001b[0m\u001b[0mpi\u001b[0m\u001b[0;34m*\u001b[0m\u001b[0mj\u001b[0m\u001b[0;34m)\u001b[0m\u001b[0;34m)\u001b[0m\u001b[0;34m\u001b[0m\u001b[0m\n\u001b[0m",
      "\u001b[0;31mNameError\u001b[0m: name 'j' is not defined"
     ]
    }
   ],
   "source": [
    "from math import pi,e\n",
    "pow(e,0+(pi*j))"
   ]
  },
  {
   "cell_type": "code",
   "execution_count": null,
   "metadata": {
    "colab": {
     "base_uri": "https://localhost:8080/",
     "height": 34
    },
    "id": "VZvDdThJCIuq",
    "outputId": "4988ff92-89af-47dd-fbb8-98678d39f567"
   },
   "outputs": [
    {
     "data": {
      "text/plain": [
       "(-1+1.2246467991473532e-16j)"
      ]
     },
     "execution_count": 2,
     "metadata": {},
     "output_type": "execute_result"
    }
   ],
   "source": [
    "pow(e,(1j*pi))"
   ]
  },
  {
   "cell_type": "code",
   "execution_count": null,
   "metadata": {
    "id": "sDGQvMLAE3BE",
    "outputId": "d52d022c-eaf8-4a3f-a4d9-51fa7f2aed3e"
   },
   "outputs": [
    {
     "data": {
      "text/plain": [
       "(-1+1.2246467991473532e-16j)"
      ]
     },
     "execution_count": 3,
     "metadata": {},
     "output_type": "execute_result"
    }
   ],
   "source": [
    "pow(e,(0 + 1j*pi))"
   ]
  },
  {
   "cell_type": "code",
   "execution_count": null,
   "metadata": {
    "id": "BfKS6WVJE3BF",
    "outputId": "eaadb420-865d-4a2a-c3fb-ff9373b34493"
   },
   "outputs": [
    {
     "name": "stderr",
     "output_type": "stream",
     "text": [
      "/Users/gawron/opt/anaconda3/lib/python3.7/site-packages/ipykernel_launcher.py:1: RuntimeWarning: invalid value encountered in log\n",
      "  \"\"\"Entry point for launching an IPython kernel.\n"
     ]
    },
    {
     "data": {
      "text/plain": [
       "nan"
      ]
     },
     "execution_count": 6,
     "metadata": {},
     "output_type": "execute_result"
    }
   ],
   "source": [
    "log(-1)"
   ]
  },
  {
   "cell_type": "code",
   "execution_count": null,
   "metadata": {
    "id": "BFt69_yllqFg",
    "outputId": "a5f345c2-de4d-40a6-a4bb-177615efeeeb"
   },
   "outputs": [
    {
     "data": {
      "text/plain": [
       "3.141592653589793j"
      ]
     },
     "execution_count": 7,
     "metadata": {},
     "output_type": "execute_result"
    }
   ],
   "source": [
    "log(-1+0j)"
   ]
  },
  {
   "cell_type": "markdown",
   "metadata": {
    "id": "8GtKWyXzD83X"
   },
   "source": []
  },
  {
   "cell_type": "markdown",
   "metadata": {
    "id": "vyQgJo2slqFi"
   },
   "source": [
    "# Textbook problems (optional)\n",
    "\n",
    "Do this section if you want a get a head start on Oython programming.  This shows\n",
    "a few nice tricks, but nothing done here will be relied on in Module 1."
   ]
  },
  {
   "cell_type": "markdown",
   "metadata": {
    "id": "B_uZD7hulqFj"
   },
   "source": [
    "Recall the first cell in this notebook."
   ]
  },
  {
   "cell_type": "code",
   "execution_count": null,
   "metadata": {
    "id": "Ppj7a-qalqFj"
   },
   "outputs": [],
   "source": [
    "total_secs = 7684\n",
    "hours = total_secs // 3600\n",
    "secs_still_remaining = total_secs % 3600\n",
    "minutes =  secs_still_remaining // 60\n",
    "secs_finally_remaining = secs_still_remaining  % 60"
   ]
  },
  {
   "cell_type": "markdown",
   "metadata": {
    "id": "0TqVexkglqFm"
   },
   "source": [
    "Each of these 5 lines involves assigning a value to a **name** or **variable**.  Pythonistas use both terms (there is a slight technical difference that needn't worry us now).  For example, the first line assigns the value 7684 to the **name** `total_secs`.  The second line assigns whatever you get by dividing `total_secs` by 3600 to the name `hours`. And so on."
   ]
  },
  {
   "cell_type": "markdown",
   "metadata": {
    "id": "uP9b_MwhlqFn"
   },
   "source": [
    "Above, we printed out information about all the above computations as follows:"
   ]
  },
  {
   "cell_type": "code",
   "execution_count": null,
   "metadata": {
    "id": "lw3OCwBelqFn",
    "outputId": "72503512-a449-4b80-e058-7c87ed202741"
   },
   "outputs": [
    {
     "name": "stdout",
     "output_type": "stream",
     "text": [
      "Hrs = 2 mins = 8 secs = 4\n"
     ]
    }
   ],
   "source": [
    "print(\"Hrs =\", hours, \"mins =\", minutes, \"secs =\", secs_finally_remaining)"
   ]
  },
  {
   "cell_type": "markdown",
   "metadata": {
    "id": "X0ZtKIkylqFq"
   },
   "source": [
    "There was another way to do the same thing that we illustrated:"
   ]
  },
  {
   "cell_type": "code",
   "execution_count": null,
   "metadata": {
    "id": "fzTKL2CllqFq",
    "outputId": "2578d067-d79a-4c1b-84c7-b76621be7195"
   },
   "outputs": [
    {
     "name": "stdout",
     "output_type": "stream",
     "text": [
      "Hrs = 2 mins = 8 secs = 4\n"
     ]
    }
   ],
   "source": [
    "print(f\"Hrs = {hours} mins = {minutes} secs = {secs_finally_remaining}\")"
   ]
  },
  {
   "cell_type": "markdown",
   "metadata": {
    "id": "39ROOwnzlqFt"
   },
   "source": [
    "When we print the string, the bracketed names `{hours}`, `{minutes}` and `{secs_finally_remaining}` are all replaced with the values of the names. For this to work, the names have to have been given values beforehand (as we did above), and we have to tell Python that this is a special kind of string that has variable slots by prefixing the string with \"f\".  Not surprisingly, these kind of strings are called **f-strings**."
   ]
  },
  {
   "cell_type": "markdown",
   "metadata": {
    "id": "YkL8e4sllqFu"
   },
   "source": [
    "**Exercise 1**. For your first exercise, use the cell below. Use a variable to represent a person's name, and print a message to the person using an f-string.  For example the name might be Bozo and the message might be \"Hey Bozo, you're pants are on fire!\""
   ]
  },
  {
   "cell_type": "code",
   "execution_count": null,
   "metadata": {
    "id": "T9zWvHK2lqFu",
    "outputId": "e645698f-a27a-4ae7-ed79-1bfe441047c1"
   },
   "outputs": [
    {
     "name": "stdout",
     "output_type": "stream",
     "text": [
      "Hey Bozo, your pants are on fire!\n"
     ]
    }
   ],
   "source": [
    "name = \"Bozo\"\n",
    "print(f\"Hey {name}, your pants are on fire!\")"
   ]
  },
  {
   "cell_type": "code",
   "execution_count": null,
   "metadata": {
    "id": "90VxY7CVlqFz"
   },
   "outputs": [],
   "source": []
  },
  {
   "cell_type": "markdown",
   "metadata": {
    "id": "lo_pYBj9lqF6"
   },
   "source": [
    "Your second exercise will make use of the string methods `title`, `upper` and `lower`, illustrated below:"
   ]
  },
  {
   "cell_type": "code",
   "execution_count": null,
   "metadata": {
    "id": "MLzyyLj0lqF6",
    "outputId": "43e6bfdc-3e64-404a-fa08-fe588e1e3a80"
   },
   "outputs": [
    {
     "name": "stdout",
     "output_type": "stream",
     "text": [
      "abcdefghijklmopqrstuvwxyz\n",
      "Abcdefghijklmopqrstuvwxyz\n",
      "abcdefghijklmopqrstuvwxyz\n",
      "ABCDEFGHIJKLMOPQRSTUVWXYZ\n",
      "\n",
      "The quick brown fox jumped over the lazy yellow dog.\n",
      "The Quick Brown Fox Jumped Over The Lazy Yellow Dog.\n",
      "the quick brown fox jumped over the lazy yellow dog.\n",
      "THE QUICK BROWN FOX JUMPED OVER THE LAZY YELLOW DOG.\n"
     ]
    }
   ],
   "source": [
    "alphabet = 'abcdefghijklmopqrstuvwxyz'\n",
    "sentence = 'The quick brown fox jumped over the lazy yellow dog.'\n",
    "\n",
    "print(alphabet)\n",
    "print (alphabet.title())\n",
    "print(alphabet.lower())\n",
    "print(alphabet.upper())\n",
    "print()\n",
    "print(sentence)\n",
    "print (sentence.title())\n",
    "print(sentence.lower())\n",
    "print(sentence.upper())"
   ]
  },
  {
   "cell_type": "markdown",
   "metadata": {
    "id": "nkbOUQAFlqF9"
   },
   "source": [
    "**Exercise 2**.\n",
    "In the next cell, use a variable to represent a person's name and print that name in lower case, upper case, and title case.  Be sure to use f-strings."
   ]
  },
  {
   "cell_type": "code",
   "execution_count": null,
   "metadata": {
    "id": "5fvdK047lqF-"
   },
   "outputs": [],
   "source": []
  },
  {
   "cell_type": "markdown",
   "metadata": {
    "id": "E-eiqq1OlqGI"
   },
   "source": [
    "**Exercise 3**.  Find a quote whose source you know and print the quote and the name of its author.  For example, as a particularly challenging example, you might want to print out\n",
    "\n",
    "```\n",
    "\"There's a sucker born every minute,\" P. T. Barnum once said.\n",
    "```\n",
    "Your answer should go in the next cell.  To understand how to create a string with quotes inside it, you might need to look at [the introduction to strings in the online textbook.](https://gawron.sdsu.edu/python_for_ss/course_core/book_draft/Python_introduction/python_types_first_pass.html#strings)"
   ]
  },
  {
   "cell_type": "code",
   "execution_count": null,
   "metadata": {
    "id": "uX2zwapplqGI"
   },
   "outputs": [],
   "source": []
  },
  {
   "cell_type": "markdown",
   "metadata": {
    "id": "MPH4R-5VlqGL"
   },
   "source": [
    "For your next exercise, you'll make use of some Python methods that trim white space (space, tab, newline) off strings.  These are illustrated below.  First `rstrip`:"
   ]
  },
  {
   "cell_type": "code",
   "execution_count": null,
   "metadata": {
    "id": "lAOD9wPwlqGM",
    "outputId": "6590e6d7-97d0-44a6-c0ac-9296fd3fa412"
   },
   "outputs": [
    {
     "name": "stdout",
     "output_type": "stream",
     "text": [
      "fred\n",
      "fred \n",
      "X == Y:  False  len X: 4 len Y: 5\n",
      "X == Z:  True  len X: 4 len Z: 4\n"
     ]
    }
   ],
   "source": [
    "X = \"fred\"\n",
    "print(X)\n",
    "Y = \"fred \"  # add an extra space at the end ...\n",
    "print(Y)  # Looks deceptively just like printing X, BUT\n",
    "print(\"X == Y: \", X == Y, \" len X:\",len(X), \"len Y:\", len(Y))\n",
    "Z = Y.rstrip()  # Now strip away white space on the right.\n",
    "print(\"X == Z: \", X == Z, \" len X:\",len(X), \"len Z:\", len(Z))"
   ]
  },
  {
   "cell_type": "markdown",
   "metadata": {
    "id": "eHgyH3wClqGP"
   },
   "source": [
    "Now the mirror image method, `lstrip`:"
   ]
  },
  {
   "cell_type": "code",
   "execution_count": null,
   "metadata": {
    "id": "ASeNPvy8lqGP"
   },
   "outputs": [],
   "source": [
    "X = \"fred\"\n",
    "print(X)\n",
    "Y = \" fred\"  # add an extra space at the beginning ...\n",
    "print(Y)  # This time X and Y print out differently\n",
    "print(\"X == Y: \", X == Y, \" len X:\",len(X), \"len Y:\", len(Y))\n",
    "Z = Y.lstrip()  # Now strip away white space on the left.\n",
    "print(\"X == Z: \", X == Z, \" len X:\",len(X), \"len Z:\", len(Z))"
   ]
  },
  {
   "cell_type": "markdown",
   "metadata": {
    "id": "E972_yhIlqGT"
   },
   "source": [
    "Now a convenient variant that strips white space on both the right and left sides, a very frequently used method in text preocessing."
   ]
  },
  {
   "cell_type": "code",
   "execution_count": null,
   "metadata": {
    "id": "WJv8aA8plqGT"
   },
   "outputs": [],
   "source": [
    "X = \"fred\"\n",
    "print(X)\n",
    "Y = \" fred \"  # add an extra space at the beginning and at the end...\n",
    "print(Y)  # X and Y print out differently\n",
    "print(\"X == Y: \", X == Y, \" len X:\",len(X), \"len Y:\", len(Y))\n",
    "Z = Y.strip()  # Now strip away white space on both sides.\n",
    "print(\"X == Z: \", X == Z, \" len X:\",len(X), \"len Z:\", len(Z))"
   ]
  },
  {
   "cell_type": "code",
   "execution_count": null,
   "metadata": {
    "id": "ardnSazClqGV"
   },
   "outputs": [],
   "source": [
    "len(Z)"
   ]
  },
  {
   "cell_type": "markdown",
   "metadata": {
    "id": "Wd7r7lUTlqGa"
   },
   "source": [
    "**Exercise 4**.  In the next cell, use a variable to represent a person's name and include some white space both before and after the name.  Print the name once so the white space around the name is displayed.  Then print the name using each of the three stripping functions `lstrip`, `rstrip`, and `strip`."
   ]
  },
  {
   "cell_type": "code",
   "execution_count": null,
   "metadata": {
    "id": "ExH1MQgWlqGa"
   },
   "outputs": [],
   "source": []
  },
  {
   "cell_type": "markdown",
   "metadata": {
    "id": "3lewnMHmE3A4"
   },
   "source": [
    "## Appendix (Optional):  Importing data from the World-Wide World"
   ]
  },
  {
   "cell_type": "markdown",
   "metadata": {
    "id": "GarzNavBo7Ui"
   },
   "source": [
    "The next two cells shows two methods for importing external data into a notebook, both very useful.  \n",
    "\n",
    "1. Method  One will work in any notebook.  It uses the `Ipython.display.Image` function to load a URL known to contain an image file.  The `Ipython.display.Image` function can be used to download any image from the web.  More generally, there are various Python resource-loading functions in various Python toolkits that have the capacity to load resources that are either on your local machine.\n",
    "2. Method Two will only work when you are working in the Google tool suite.  You need to be using the notebook as a Google Colab notebook, and you need to be logged in to your Google account.  Finally the file referenced after `'/content/drive'`  needs to have been uploaded to your Google Drive.  I previously saved a copy of the Python Logo in the top level folder of my personal Google Drive as \"python-logo.png\", so when I tried method 2, it worked for me.  \n",
    "\n",
    "   To try out Method Two, first upload the image at the following URL onto your Google Drive:\n",
    "   \n",
    "         https://gawron.sdsu.edu/python_for_ss/course_core/book_draft/_static/python-logo.png    \n",
    "         \n",
    "    Then execute the code in the Method Two cell below. In line 1 the Google Drive module is imported (this will probably only work if you are using the notebook as a Google Colab notebook; most python distributions will not have this module). In line 3 we \"mount\" Google Drive (make it behave as if it is just another folder/directory on your local machine).  In line 4 we load the image into this notebook.  Since it was saved in the toplevel folder of my Google Drive, the folder is `/content/gdrive/My Drive`.\n"
   ]
  },
  {
   "cell_type": "markdown",
   "metadata": {
    "id": "2xjYm1ILE3A5"
   },
   "source": [
    "#### Method One:"
   ]
  },
  {
   "cell_type": "code",
   "execution_count": 1,
   "metadata": {
    "colab": {
     "base_uri": "https://localhost:8080/",
     "height": 228
    },
    "id": "eYU2tVJEUZcs",
    "outputId": "e58ff2ac-b0d1-4766-d104-af7ffcc68ef9"
   },
   "outputs": [
    {
     "data": {
      "text/html": [
       "<img src=\"https://gawron.sdsu.edu/python_for_ss/course_core/book_draft/_static/python-logo.png\" width=\"500\"/>"
      ],
      "text/plain": [
       "<IPython.core.display.Image object>"
      ]
     },
     "execution_count": 1,
     "metadata": {},
     "output_type": "execute_result"
    }
   ],
   "source": [
    "import IPython\n",
    "IPython.display.Image(url=\"https://gawron.sdsu.edu/python_for_ss/course_core/book_draft/\"\\\n",
    "          \"_static/python-logo.png\", width=500)"
   ]
  },
  {
   "cell_type": "markdown",
   "metadata": {
    "id": "xgnV8cvhE3A6"
   },
   "source": [
    "#### Method Two:\n",
    "\n",
    "(most likely wont work in Jupyter notebook)"
   ]
  },
  {
   "cell_type": "code",
   "execution_count": null,
   "metadata": {
    "colab": {
     "base_uri": "https://localhost:8080/",
     "height": 106
    },
    "id": "XQEvJlXgE3A6",
    "outputId": "cb86bac1-dee0-4741-8448-b2553fe55d7e"
   },
   "outputs": [
    {
     "name": "stdout",
     "output_type": "stream",
     "text": [
      "Drive already mounted at /content/drive; to attempt to forcibly remount, call drive.mount(\"/content/drive\", force_remount=True).\n"
     ]
    },
    {
     "data": {
      "image/png": "[encoded data removed]",
      "text/plain": [
       "<IPython.core.display.Image object>"
      ]
     },
     "execution_count": 4,
     "metadata": {
      "image/png": {
       "width": 250
      }
     },
     "output_type": "execute_result"
    }
   ],
   "source": [
    "from google.colab import drive\n",
    "import IPython\n",
    "drive.mount('/content/drive') \n",
    "IPython.display.Image(filename='/content/drive/My Drive/python-logo.png', width=250)"
   ]
  },
  {
   "cell_type": "markdown",
   "metadata": {
    "id": "F8PQx7aM2NpY"
   },
   "source": []
  },
  {
   "cell_type": "markdown",
   "metadata": {},
   "source": [
    "#### Review of Method One\n",
    "\n",
    "You use method one to illustrate your notebook with your favorite Internet images (please stay workplace friendly).\n",
    "\n",
    "We demonstrate."
   ]
  },
  {
   "cell_type": "code",
   "execution_count": 1,
   "metadata": {
    "id": "ocpwxle4lqGc"
   },
   "outputs": [],
   "source": [
    "import IPython\n",
    "xkcd_url = \"https://imgs.xkcd.com/comics/path_minimization.png\""
   ]
  },
  {
   "cell_type": "markdown",
   "metadata": {},
   "source": [
    "#### Review of Snell's Law  and Fermat's Principle\n",
    "\n",
    "Snell's Law is a Law of Optics predicting the angle of refraction when light moves from\n",
    "a faster medium like air to a slower medium like water or glass.\n",
    "\n",
    "[Snell's Law](http://hyperphysics.phy-astr.gsu.edu/hbase/geoopt/refr.html#c3)\n",
    "\n",
    "Snell's Law can be derived by assuming that light will travel so as to minimize the time\n",
    "it takes to get from point A (say, in the faster medium) to point B (say, in the slower medium).\n",
    "This idea is due to Fermat and is hence called Fermat's Principle.\n",
    "\n",
    "[Deriving Snell's law from Fermat's Principle.](http://hyperphysics.phy-astr.gsu.edu/hbase/phyopt/Fermat.html#:~:text=Principle%20and%20Refraction-,Fermat's%20Principle%3A%20Light%20follows%20the%20path%20of%20least%20time.,as%20n%3Dc%2Fv.)\n",
    "\n",
    "Here is a panel from XKCD illustrating the idea, which shows that the path\n",
    "chosen will depend on what quantity is being minimized (and also on whether you're minimizing or maximizing)."
   ]
  },
  {
   "cell_type": "code",
   "execution_count": 2,
   "metadata": {
    "id": "ocpwxle4lqGc"
   },
   "outputs": [
    {
     "data": {
      "text/html": [
       "<img src=\"https://imgs.xkcd.com/comics/path_minimization.png\"/>"
      ],
      "text/plain": [
       "<IPython.core.display.Image object>"
      ]
     },
     "execution_count": 2,
     "metadata": {},
     "output_type": "execute_result"
    }
   ],
   "source": [
    "import IPython\n",
    "xkcd_url = \"https://imgs.xkcd.com/comics/path_minimization.png\"\n",
    "IPython.display.Image(url=xkcd_url)"
   ]
  },
  {
   "cell_type": "code",
   "execution_count": null,
   "metadata": {},
   "outputs": [],
   "source": []
  }
 ],
 "metadata": {
  "colab": {
   "name": "running_python.ipynb",
   "provenance": []
  },
  "kernelspec": {
   "display_name": "Python 3 (ipykernel)",
   "language": "python",
   "name": "python3"
  },
  "language_info": {
   "codemirror_mode": {
    "name": "ipython",
    "version": 3
   },
   "file_extension": ".py",
   "mimetype": "text/x-python",
   "name": "python",
   "nbconvert_exporter": "python",
   "pygments_lexer": "ipython3",
   "version": "3.12.5"
  },
  "toc": {
   "base_numbering": 1,
   "nav_menu": {
    "height": "85px",
    "width": "252px"
   },
   "number_sections": true,
   "sideBar": true,
   "skip_h1_title": false,
   "title_cell": "Table of Contents",
   "title_sidebar": "Contents",
   "toc_cell": false,
   "toc_position": {},
   "toc_section_display": "block",
   "toc_window_display": false
  }
 },
 "nbformat": 4,
 "nbformat_minor": 4
}
