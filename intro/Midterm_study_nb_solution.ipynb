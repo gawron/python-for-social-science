{
 "cells": [
  {
   "cell_type": "markdown",
   "metadata": {},
   "source": [
    "# Midterm study Notebook"
   ]
  },
  {
   "cell_type": "markdown",
   "metadata": {},
   "source": [
    "The problems in Part One are taken from a previous quiz.  Write the value of each expression in the space provided. A helpful reminder.  When applied to strings, '<' checks alphabetical order.  So\n",
    "\n",
    "```\n",
    ">>> 'a' < 'b'\n",
    "True\n",
    ">>> 'b' < 'a'\n",
    "False\n",
    ">>> 'a' < 'a'\n",
    "False\n",
    "```\n",
    "\n",
    "When applied to strings '+' does concatenation:\n",
    "\n",
    "```\n",
    ">>> 'a' + 'x'\n",
    "'ax'\n",
    "```\n"
   ]
  },
  {
   "cell_type": "markdown",
   "metadata": {},
   "source": [
    "## Part One"
   ]
  },
  {
   "cell_type": "code",
   "execution_count": 2,
   "metadata": {},
   "outputs": [],
   "source": [
    "lender_rates = {'Fannie Mae': .05, 'Bank of America': .065, 'Quicken Loans': .045}\n",
    "prime_interest_rate = .04\n",
    "amount_above_prime = [lender_rates[x] - prime_interest_rate for x in lender_rates.keys()]\n",
    "loan_amounts = [100000, 150000, 200000, 500000]\n",
    "interest_due = [x * prime_interest_rate for x in loan_amounts]\n",
    "prime_mortgages = [x <= 200000 and x > 100000 for x in loan_amounts]\n",
    "prime_mortgages2 = [x for x in loan_amounts if x <= 200000 and x > 100000]\n",
    "shoe_string = 'adidas_ultra_boost'"
   ]
  },
  {
   "cell_type": "code",
   "execution_count": 3,
   "metadata": {},
   "outputs": [
    {
     "data": {
      "text/plain": [
       "({'Fannie Mae': 0.05, 'Bank of America': 0.065, 'Quicken Loans': 0.045},\n",
       " 0.04,\n",
       " [0.010000000000000002, 0.025, 0.0049999999999999975],\n",
       " [100000, 150000, 200000, 500000],\n",
       " [4000.0, 6000.0, 8000.0, 20000.0],\n",
       " [False, True, True, False])"
      ]
     },
     "execution_count": 3,
     "metadata": {},
     "output_type": "execute_result"
    }
   ],
   "source": [
    "(lender_rates, prime_interest_rate, amount_above_prime, \n",
    " loan_amounts, interest_due, prime_mortgages)"
   ]
  },
  {
   "cell_type": "code",
   "execution_count": 4,
   "metadata": {},
   "outputs": [],
   "source": [
    "letters = 'abcdefghijklmnopqrstuvwxyz'\n",
    "vowels = 'aeiou'\n",
    "word = 'facetious'\n",
    "X = [l for l in letters if l not in vowels]\n",
    "Y = [x for x in letters if x > 'd' and x < 'j']\n",
    "W = [x for x in letters if x == 'd' or x == 'j' or x < 'q']\n",
    "Z = [x > 'd' and x < 'j' for x in letters]\n",
    "R = [x for x in word if x in vowels]\n",
    "consonants = [l for l in letters if l not in vowels]\n",
    "#. This is a dictionary comprehension.  Look at how it works\n",
    "consonant2vowel = {consonants[i]:v for (i, v) in enumerate(vowels)}\n",
    "vowel2consonant = {v:k for (k,v) in consonant2vowel.items()}"
   ]
  },
  {
   "cell_type": "markdown",
   "metadata": {},
   "source": [
    "# Exercises"
   ]
  },
  {
   "cell_type": "markdown",
   "metadata": {},
   "source": [
    "# A\n",
    "\n",
    "Write some code to turn `X` into a string. Remember `X` was created by a list comprehension, so it is initially defined to be a list.  The string you should get is:\n",
    "\n",
    "```\n",
    "'bcdfghjklmnpqrstvwxyz'\n",
    "```"
   ]
  },
  {
   "cell_type": "code",
   "execution_count": 5,
   "metadata": {},
   "outputs": [
    {
     "data": {
      "text/plain": [
       "'bcdfghjklmnpqrstvwxyz'"
      ]
     },
     "execution_count": 5,
     "metadata": {},
     "output_type": "execute_result"
    }
   ],
   "source": [
    "''.join(X)"
   ]
  },
  {
   "cell_type": "markdown",
   "metadata": {},
   "source": [
    "# B\n",
    "\n",
    "Write some code to produce a list of letters that are in `letters` but are not in `Y`.  Your code should use the current values of `letters` and `Y` and it should be a list comprehension using a filter.  Your result should look like this:\n",
    "\n",
    "```\n",
    "['a', 'b', 'c', 'd', 'j', 'k', 'l', 'm', 'n', 'o', 'p', 'q', 'r', 's', 't', 'u', 'v', 'w', 'x', 'y', 'z']\n",
    "```"
   ]
  },
  {
   "cell_type": "code",
   "execution_count": 6,
   "metadata": {},
   "outputs": [
    {
     "data": {
      "text/plain": [
       "['a',\n",
       " 'b',\n",
       " 'c',\n",
       " 'd',\n",
       " 'j',\n",
       " 'k',\n",
       " 'l',\n",
       " 'm',\n",
       " 'n',\n",
       " 'o',\n",
       " 'p',\n",
       " 'q',\n",
       " 'r',\n",
       " 's',\n",
       " 't',\n",
       " 'u',\n",
       " 'v',\n",
       " 'w',\n",
       " 'x',\n",
       " 'y',\n",
       " 'z']"
      ]
     },
     "execution_count": 6,
     "metadata": {},
     "output_type": "execute_result"
    }
   ],
   "source": [
    "[l for l in letters if l not in Y]"
   ]
  },
  {
   "cell_type": "markdown",
   "metadata": {},
   "source": [
    " "
   ]
  },
  {
   "cell_type": "markdown",
   "metadata": {},
   "source": [
    "# C\n",
    "\n",
    "Write some code that returns a string consisting of the letters that are both in `W` and in `Y`.  "
   ]
  },
  {
   "cell_type": "code",
   "execution_count": 7,
   "metadata": {},
   "outputs": [
    {
     "data": {
      "text/plain": [
       "['e', 'f', 'g', 'h', 'i']"
      ]
     },
     "execution_count": 7,
     "metadata": {},
     "output_type": "execute_result"
    }
   ],
   "source": [
    "[l for l in W if l in Y]"
   ]
  },
  {
   "cell_type": "markdown",
   "metadata": {},
   "source": [
    "# D\n",
    "\n",
    "Write a function called `find_vowels` that will take any string and return a **string** containing the vowels in that string.  For the vowels use  `vowels` (defined above)  After writing the function, apply it to `word` (as defined above).  The answer should be\n",
    "\n",
    "```\n",
    "'aeiou'\n",
    "```\n",
    "\n",
    "Then apply the function to `word` again and test whether the function returns a value `==` to `vowels`.\n",
    "The result you get should be:\n",
    "\n",
    "```\n",
    ">>> find_vowels(word) == vowels\n",
    "True\n",
    "```\n",
    "\n",
    "Then apply the function to `'radish'`.  The answer should be:\n",
    "\n",
    "```\n",
    "'ai'\n",
    "```\n",
    "\n"
   ]
  },
  {
   "cell_type": "code",
   "execution_count": 8,
   "metadata": {},
   "outputs": [],
   "source": [
    "def find_vowels (inp = vowels):\n",
    "    return ''.join([l for l in inp if l in vowels])"
   ]
  },
  {
   "cell_type": "code",
   "execution_count": 12,
   "metadata": {},
   "outputs": [
    {
     "data": {
      "text/plain": [
       "'aeiou'"
      ]
     },
     "execution_count": 12,
     "metadata": {},
     "output_type": "execute_result"
    }
   ],
   "source": [
    "find_vowels(word)"
   ]
  },
  {
   "cell_type": "code",
   "execution_count": 11,
   "metadata": {},
   "outputs": [
    {
     "data": {
      "text/plain": [
       "'ai'"
      ]
     },
     "execution_count": 11,
     "metadata": {},
     "output_type": "execute_result"
    }
   ],
   "source": [
    "find_vowels ('radish')"
   ]
  },
  {
   "cell_type": "code",
   "execution_count": 10,
   "metadata": {},
   "outputs": [
    {
     "data": {
      "text/plain": [
       "True"
      ]
     },
     "execution_count": 10,
     "metadata": {},
     "output_type": "execute_result"
    }
   ],
   "source": [
    "find_vowels(word) == vowels"
   ]
  },
  {
   "cell_type": "markdown",
   "metadata": {},
   "source": [
    "# E\n",
    "\n",
    "Modify `find_vowels` as defined in problem  **D** so that its argument is optional and it behaves as follows:\n",
    "\n",
    "```\n",
    ">>> find_vowels() == vowels\n",
    "True\n",
    "```\n",
    "\n",
    "Note:  All the previously discussed examples using `find_vowels` should continue to behave as before."
   ]
  },
  {
   "cell_type": "code",
   "execution_count": 13,
   "metadata": {},
   "outputs": [
    {
     "data": {
      "text/plain": [
       "True"
      ]
     },
     "execution_count": 13,
     "metadata": {},
     "output_type": "execute_result"
    }
   ],
   "source": [
    "find_vowels() == vowels"
   ]
  },
  {
   "cell_type": "markdown",
   "metadata": {},
   "source": [
    "# F \n",
    "\n",
    "Now write a function `same_chars` that\n",
    "determines if two strings have exactly the same\n",
    "set of characters.  It should behave as follows:\n",
    "\n",
    "```\n",
    ">>> same_chars(vowels, 'aeiou')\n",
    "True\n",
    ">>> same_chars(vowels, 'eioua')\n",
    "True\n",
    ">>> same_chars(vowels, 'uoiea')\n",
    "True\n",
    ">>> same_chars(vowels, 'eiou')\n",
    "False\n",
    ">>> same_chars('bcd','dcb')\n",
    "True\n",
    ">>> if same_chars('xyz','zyx'):\n",
    "...     print('Same!`)\n",
    "... else:\n",
    "        print('Different')\n",
    "Same!\n",
    "```\n",
    "\n",
    "Hint: Use sets. Remember how easy it is in Python to turn one type into another:\n",
    "\n",
    "```\n",
    ">>> list('abc')\n",
    "['a', 'b', 'c']\n",
    "```\n"
   ]
  },
  {
   "cell_type": "code",
   "execution_count": 14,
   "metadata": {},
   "outputs": [],
   "source": [
    "def same_chars (word1,word2):\n",
    "    return set(word1)  == set(word2)"
   ]
  },
  {
   "cell_type": "code",
   "execution_count": 15,
   "metadata": {},
   "outputs": [
    {
     "data": {
      "text/plain": [
       "True"
      ]
     },
     "execution_count": 15,
     "metadata": {},
     "output_type": "execute_result"
    }
   ],
   "source": [
    "same_chars('bcd','dcb')"
   ]
  },
  {
   "cell_type": "code",
   "execution_count": 17,
   "metadata": {},
   "outputs": [
    {
     "data": {
      "text/plain": [
       "True"
      ]
     },
     "execution_count": 17,
     "metadata": {},
     "output_type": "execute_result"
    }
   ],
   "source": [
    "same_chars(vowels, 'uoiea')"
   ]
  },
  {
   "cell_type": "code",
   "execution_count": 18,
   "metadata": {},
   "outputs": [
    {
     "data": {
      "text/plain": [
       "False"
      ]
     },
     "execution_count": 18,
     "metadata": {},
     "output_type": "execute_result"
    }
   ],
   "source": [
    "same_chars(vowels, 'uoie')"
   ]
  },
  {
   "cell_type": "code",
   "execution_count": 21,
   "metadata": {},
   "outputs": [
    {
     "name": "stdout",
     "output_type": "stream",
     "text": [
      "Same!\n"
     ]
    }
   ],
   "source": [
    "if same_chars('xyz','zyx'):\n",
    "    print('Same!')\n",
    "else:\n",
    "    print('Different!')"
   ]
  },
  {
   "cell_type": "markdown",
   "metadata": {},
   "source": [
    " "
   ]
  },
  {
   "cell_type": "markdown",
   "metadata": {},
   "source": [
    "# G\n",
    "\n",
    "Consider `R`. Remember `R` filters the elements of `word` with the condition `x in vowels`.\n",
    "\n",
    "Write some code that performs a test to show that `vowels` (a string) contains the same \n",
    "characters as `R` (a list)."
   ]
  },
  {
   "cell_type": "code",
   "execution_count": 22,
   "metadata": {},
   "outputs": [
    {
     "data": {
      "text/plain": [
       "True"
      ]
     },
     "execution_count": 22,
     "metadata": {},
     "output_type": "execute_result"
    }
   ],
   "source": [
    "same_chars(vowels,R)"
   ]
  },
  {
   "cell_type": "markdown",
   "metadata": {},
   "source": [
    " "
   ]
  },
  {
   "cell_type": "markdown",
   "metadata": {},
   "source": [
    "# H\n",
    "\n",
    "Consider `consonant2vowel`.  It is a mapping from consonants to vowels.  Write some code that returns the vowel associated with `\"b\"` in `consonant2vowel`.  Note:  This question has a **very** simple answer.  It is about\n",
    "whether you understand what type of dsata structure `consonant2vowel` is, and holw you use it."
   ]
  },
  {
   "cell_type": "code",
   "execution_count": 23,
   "metadata": {},
   "outputs": [
    {
     "data": {
      "text/plain": [
       "'a'"
      ]
     },
     "execution_count": 23,
     "metadata": {},
     "output_type": "execute_result"
    }
   ],
   "source": [
    "consonant2vowel['b']"
   ]
  },
  {
   "cell_type": "markdown",
   "metadata": {},
   "source": [
    " "
   ]
  },
  {
   "cell_type": "markdown",
   "metadata": {
    "collapsed": true
   },
   "source": [
    "# I\n",
    "\n",
    "Write a simple one-line Python expression that operates on `vowels` and returns \n",
    "\n",
    "```\n",
    "['ba', 'be','bi', 'bo','bu']\n",
    "```"
   ]
  },
  {
   "cell_type": "code",
   "execution_count": 24,
   "metadata": {},
   "outputs": [
    {
     "data": {
      "text/plain": [
       "['ba', 'be', 'bi', 'bo', 'bu']"
      ]
     },
     "execution_count": 24,
     "metadata": {},
     "output_type": "execute_result"
    }
   ],
   "source": [
    "['b' + x for x in vowels]"
   ]
  },
  {
   "cell_type": "markdown",
   "metadata": {},
   "source": [
    " "
   ]
  },
  {
   "cell_type": "markdown",
   "metadata": {
    "collapsed": true
   },
   "source": [
    "# J\n",
    "\n",
    "Look at `interest_due`.  Using that as a model, write a simple expression that returns a list containing\n",
    "the result of dividing every loan amount in `loan_amounts` by 100,000.\n"
   ]
  },
  {
   "cell_type": "code",
   "execution_count": 27,
   "metadata": {},
   "outputs": [
    {
     "data": {
      "text/plain": [
       "[0.1, 0.15, 0.2, 0.5]"
      ]
     },
     "execution_count": 27,
     "metadata": {},
     "output_type": "execute_result"
    }
   ],
   "source": [
    "[x/10**6 for x in loan_amounts]\n",
    "\n",
    "# OK to write it out\n",
    "#[x/100000 for x in loan_amounts]"
   ]
  },
  {
   "cell_type": "markdown",
   "metadata": {},
   "source": [
    " "
   ]
  },
  {
   "cell_type": "markdown",
   "metadata": {
    "collapsed": true
   },
   "source": [
    "# K\n",
    "\n",
    "Write a simple one line Python expression that operates on X and returns\n",
    "\n",
    "```\n",
    "['b', 'c']\n",
    "```\n"
   ]
  },
  {
   "cell_type": "code",
   "execution_count": 28,
   "metadata": {},
   "outputs": [
    {
     "data": {
      "text/plain": [
       "['b', 'c']"
      ]
     },
     "execution_count": 28,
     "metadata": {},
     "output_type": "execute_result"
    }
   ],
   "source": [
    "X[:2]"
   ]
  },
  {
   "cell_type": "markdown",
   "metadata": {},
   "source": [
    " "
   ]
  },
  {
   "cell_type": "markdown",
   "metadata": {
    "collapsed": true
   },
   "source": [
    "# L\n",
    "\n",
    "\n",
    "Write a Python expression which operates on `letters` and returns the following value\n",
    "\n",
    "```\n",
    "'ghi'\n",
    "```"
   ]
  },
  {
   "cell_type": "code",
   "execution_count": 31,
   "metadata": {},
   "outputs": [
    {
     "data": {
      "text/plain": [
       "'ghi'"
      ]
     },
     "execution_count": 31,
     "metadata": {},
     "output_type": "execute_result"
    }
   ],
   "source": [
    " letters[6:9]"
   ]
  },
  {
   "cell_type": "markdown",
   "metadata": {},
   "source": [
    " "
   ]
  },
  {
   "cell_type": "markdown",
   "metadata": {},
   "source": [
    "# M\n",
    "\n",
    "Write a Python expression which operates on `Z` and returns the following value\n",
    "\n",
    "```\n",
    "[False, False, False]\n",
    "```"
   ]
  },
  {
   "cell_type": "code",
   "execution_count": 33,
   "metadata": {},
   "outputs": [
    {
     "data": {
      "text/plain": [
       "[False, False, False]"
      ]
     },
     "execution_count": 33,
     "metadata": {},
     "output_type": "execute_result"
    }
   ],
   "source": [
    "Z[:3]"
   ]
  },
  {
   "cell_type": "markdown",
   "metadata": {},
   "source": [
    " "
   ]
  },
  {
   "cell_type": "markdown",
   "metadata": {
    "collapsed": true
   },
   "source": [
    "# N\n",
    "\n",
    "Write a Python expression which operates on `Y` and returns the following value:\n",
    "\n",
    "```\n",
    "['e','i']\n",
    "```"
   ]
  },
  {
   "cell_type": "code",
   "execution_count": 35,
   "metadata": {},
   "outputs": [
    {
     "data": {
      "text/plain": [
       "['e', 'i']"
      ]
     },
     "execution_count": 35,
     "metadata": {},
     "output_type": "execute_result"
    }
   ],
   "source": [
    "[l for l in Y if l in vowels]"
   ]
  },
  {
   "cell_type": "markdown",
   "metadata": {},
   "source": [
    " "
   ]
  },
  {
   "cell_type": "markdown",
   "metadata": {},
   "source": [
    "# O\n",
    "\n",
    "Write a line of code which operates on `Y` and returns `False`."
   ]
  },
  {
   "cell_type": "markdown",
   "metadata": {},
   "source": [
    " "
   ]
  },
  {
   "cell_type": "markdown",
   "metadata": {},
   "source": [
    "# P\n",
    "\n",
    "Write a line of code which returns the following value when applied to `vowels`:\n",
    "\n",
    "```\n",
    "[True, True, False, False, False]\n",
    "```"
   ]
  },
  {
   "cell_type": "markdown",
   "metadata": {},
   "source": [
    " "
   ]
  },
  {
   "cell_type": "markdown",
   "metadata": {},
   "source": [
    "# Q\n",
    "\n",
    "Write a line of code which operates on `consonant2vowel` and returns the following value.\n",
    "\n",
    "```\n",
    "'e'\n",
    "```"
   ]
  },
  {
   "cell_type": "markdown",
   "metadata": {},
   "source": [
    " "
   ]
  },
  {
   "cell_type": "markdown",
   "metadata": {},
   "source": [
    " "
   ]
  },
  {
   "cell_type": "markdown",
   "metadata": {},
   "source": [
    "\n",
    "\n",
    "Write a line of code which operates on `vowel2consonant` and returns the following value.\n",
    "\n",
    "```\n",
    "'g'\n",
    "```"
   ]
  },
  {
   "cell_type": "markdown",
   "metadata": {},
   "source": [
    "##       Part Two"
   ]
  },
  {
   "cell_type": "markdown",
   "metadata": {},
   "source": [
    "Write functions that behave according to the descriptions given."
   ]
  },
  {
   "cell_type": "markdown",
   "metadata": {},
   "source": [
    "# 1\n",
    "\n",
    "Write a function that takes two numbers as arguments and multiplies them together and adds 1 to the result.  Call your function `product_successor`.  Then:\n",
    "\n",
    "```\n",
    ">>> product_successor(3,2)\n",
    "7.0\n",
    ">>> product_successor(5,9)\n",
    "46.0\n",
    "```"
   ]
  },
  {
   "cell_type": "markdown",
   "metadata": {},
   "source": [
    " "
   ]
  },
  {
   "cell_type": "markdown",
   "metadata": {},
   "source": [
    "# 2\n",
    "\n",
    "Write a function called `product_successor_ratios`\n",
    "which takes four numbers as arguments.   Call them `a`,`b`,`c`' and `d`;\n",
    "`product_successor_ratios` should first find the product succesor of `a` and `b`.\n",
    "\n",
    "That is, it should multiply `a` and `b` together\n",
    "and add one to the result.  It should call the function `product_successor` (defined in the last problem))\n",
    "to do this.  Note: **No credit for a solution that ignores this instruction**.   \n",
    "\n",
    "`product_successor_ratios` should\n",
    "also call `product_successor` on `c` and `d` (multiplying `c` and `d` together and adding 1 to the result).\n",
    "It should return the ratio obtained by dividing the product successor of `a` and `b` \n",
    "by the product successor of `c` and `d`.\n",
    "\n",
    "Note: It took a lot of English to say this but the body of the `product_successor_ratios`\n",
    "function is essentially one line of code.  Here are some examples illustratinmg its behavior:\n",
    "\n",
    "```\n",
    ">>> product_successor_ratios(3,2,5,9)\n",
    "0.15217391304347827\n",
    ">>> product_successor_ratios(5,9,3,2)\n",
    "6.571428571428571\n",
    ">>> product_successor_ratios(3,2,5,9) + product_successor_ratios(5,9,3,2)\n",
    "6.72360248447205\n",
    ">>> product_successor_ratios(5,9,3,0)\n",
    "46.0\n",
    ">>> product_successor_ratios(5,9,0,0)\n",
    "46.0\n",
    "\n",
    "```\n",
    "\n",
    "\n",
    "Finally,  the last two arguments of `product_successor_ratio` should be\n",
    "optional.  Here are the results when they are omitted.\n",
    "\n",
    "```\n",
    ">>> print(product_successor_ratio(5,9,1))\n",
    "23.0\n",
    ">>> print(product_successor_ratio(5,9))\n",
    "23.0\n",
    "```"
   ]
  },
  {
   "cell_type": "markdown",
   "metadata": {},
   "source": [
    " "
   ]
  },
  {
   "cell_type": "markdown",
   "metadata": {},
   "source": [
    "## Part 3"
   ]
  },
  {
   "cell_type": "markdown",
   "metadata": {},
   "source": [
    "Reminders: `range(n)` returns a list of the integers from 0 up to but not including `n`.\n",
    "\n",
    "```\n",
    ">>> range(10)\n",
    "[0,1,2,3,4,5,6,7,8,9]\n",
    "```\n",
    "\n",
    "`'str0'.join(str_seq)`  returns a string gotten by joining together the elements of `str_seq` with `str0`. It is the opposite of `split`.  It is an error if the elements of `str_seq` are not all strings:\n",
    "\n",
    "```\n",
    ">>> ''.join(['a','b','c'])\n",
    "'abc'\n",
    ">>> 'x'.join(['a','b','c'])\n",
    "'axbxc'\n",
    ">>> 'x'.join([1,2,3])\n",
    "TypeError      \n",
    "...\n",
    "TypeError: sequence item 0: expected string, int found\n",
    ">>> 'i'.join(['m','ss','ss','pp',''])\n",
    "'mississippi'\n",
    ">>> 'i'.join(['m','ss','ss','pp'])\n",
    "'mississipp'\n",
    "```\n",
    "\n",
    "\n"
   ]
  },
  {
   "cell_type": "code",
   "execution_count": 72,
   "metadata": {},
   "outputs": [],
   "source": [
    "letters = ('a', 'b', 'c', 'd', 'e', 'f', 'g', \n",
    "           'h', 'i', 'j', 'k', 'l', 'm', 'n', \n",
    "           'o', 'p', 'q', 'r', 's', 't', 'u', \n",
    "           'v', 'w', 'x', 'y', 'z')\n",
    "vowels = 'aeiou'\n",
    "digits = list(range(4))\n",
    "word_list = ['beap','pine', 'bake', 'isle']\n",
    "weird_list = [word_list[x][x] for x in digits]\n",
    "word3 = ''.join([x[1] for x in word_list])\n",
    "word4 = 'x'.join(['o','o','o',''])\n",
    "char_list = [x for x in word4 if x in vowels]\n",
    "word1 = 'rambunctious'\n",
    "word2 = 'mellifluous'\n",
    "WW = word1 + word2\n",
    "Z = [x for x in WW if x in 'lmn']\n",
    "favorite_words = {'Noam Chomsky': word2, 'Leonard Bloomfield': word1, 'John Rupert Firth': word3}"
   ]
  },
  {
   "cell_type": "markdown",
   "metadata": {},
   "source": [
    "# a\n",
    "\n",
    "Write out an expression which applies to `word3` and returns\n",
    "\n",
    "```\n",
    "'rambunctious'\n",
    "```"
   ]
  },
  {
   "cell_type": "markdown",
   "metadata": {},
   "source": [
    " "
   ]
  },
  {
   "cell_type": "markdown",
   "metadata": {},
   "source": [
    "# b\n",
    "\n",
    "Find a value for `L` (a list)  for which the following piece of code produces the result shown.  There are some helpful examples above.\n",
    "\n",
    "```\n",
    ">>> 'i'.join(L)\n",
    "'mississippi'\n",
    "```"
   ]
  },
  {
   "cell_type": "markdown",
   "metadata": {},
   "source": [
    " "
   ]
  },
  {
   "cell_type": "markdown",
   "metadata": {},
   "source": [
    "# c\n",
    "\n",
    "What is the Python type of `digits` (as defined above)?"
   ]
  },
  {
   "cell_type": "markdown",
   "metadata": {},
   "source": [
    "# d\n",
    "\n",
    "What is the Python type of `digits[0]`?"
   ]
  },
  {
   "cell_type": "markdown",
   "metadata": {},
   "source": [
    "# e\n",
    "\n",
    "Find a value for `word_list2` (a list) which makes the code below have the given value\n",
    "(see the example using `weird_list` and `word_list` above).\n",
    "\n",
    "```\n",
    ">>> [word_list2[x][x] for x in digits]\n",
    "['v ','o','t','e']\n",
    "```\n"
   ]
  },
  {
   "cell_type": "markdown",
   "metadata": {},
   "source": [
    " "
   ]
  },
  {
   "cell_type": "markdown",
   "metadata": {},
   "source": [
    " "
   ]
  },
  {
   "cell_type": "markdown",
   "metadata": {},
   "source": [
    "# f\n",
    "\n",
    "Write an expression which returns the **set** of vowels in  `char_list`."
   ]
  },
  {
   "cell_type": "markdown",
   "metadata": {},
   "source": [
    " "
   ]
  },
  {
   "cell_type": "markdown",
   "metadata": {
    "collapsed": true
   },
   "source": [
    " "
   ]
  },
  {
   "cell_type": "markdown",
   "metadata": {},
   "source": [
    "# g \n",
    "\n",
    "Write an expression which operates on `favorite_word` and returns:\n",
    "\n",
    "```\n",
    "'ias'\n",
    "```"
   ]
  },
  {
   "cell_type": "markdown",
   "metadata": {},
   "source": [
    " "
   ]
  },
  {
   "cell_type": "markdown",
   "metadata": {},
   "source": [
    "# h\n",
    "\n",
    "Write an expression which operates on `favorite_word` and returns:\n",
    "\n",
    "```\n",
    "'bun'\n",
    "```\n",
    "\n",
    "Hint: Use a splice.  Remember that `favorite_word` is a dictionary. Values are retrieved from a dictionary by keys, and therefore it makes no sense to use numerical indices (or splices) directly on a dictionary.  But you might be able to use a splice on something inside the dictionary."
   ]
  },
  {
   "cell_type": "markdown",
   "metadata": {},
   "source": [
    " "
   ]
  },
  {
   "cell_type": "markdown",
   "metadata": {},
   "source": [
    "# i\n",
    "\n",
    "Write an expression which retrieves\n",
    "\n",
    "```\n",
    "['a','b','c','x','y''z']\n",
    "```\n",
    "\n",
    "from `letters`.  Hint: use a list comprehension with a filtering condition."
   ]
  },
  {
   "cell_type": "markdown",
   "metadata": {},
   "source": [
    "## Part 4"
   ]
  },
  {
   "cell_type": "code",
   "execution_count": null,
   "metadata": {},
   "outputs": [],
   "source": []
  },
  {
   "cell_type": "code",
   "execution_count": 73,
   "metadata": {},
   "outputs": [],
   "source": [
    "employees = ['happy', 'sleepy', 'dopey', 'bashful', 'grumpy', 'doc', 'sneezy']\n",
    "employeeEmail = {'happy': ['sleepy','dopey'], 'dopey':['dopey'],'doc': employees,\n",
    "                 'sleepy': ['bashful','doc', 'happy'],'grumpy':[],\n",
    "                 'bashful': ['dopey']}\n",
    "#employeeEmail[1] = ['norman']\n",
    "secret_word = 'utilitarian'\n",
    "flip = {'0':'1', '1':'0'}\n",
    "bit_string = '001110'\n",
    "flipped = [flip[x] for x in bit_string]"
   ]
  },
  {
   "cell_type": "markdown",
   "metadata": {},
   "source": [
    "# 1\n",
    "\n",
    "Write an expression which operates on `employees` and returns\n",
    "\n",
    "```\n",
    "['dopey', 'bashful', 'grumpy']\n",
    "```"
   ]
  },
  {
   "cell_type": "markdown",
   "metadata": {},
   "source": [
    "# 2\n",
    "\n",
    "Write an expression which operates on `employees` and returns\n",
    "\n",
    "```\n",
    "y\n",
    "```"
   ]
  },
  {
   "cell_type": "markdown",
   "metadata": {},
   "source": [
    "employeeEmail['happy'][1][-1]"
   ]
  },
  {
   "cell_type": "markdown",
   "metadata": {},
   "source": [
    "# 3\n",
    "\n",
    "Write an expression which operates on `employeeEmail` and returns\n",
    "\n",
    "```\n",
    "\"rump\"\n",
    "```"
   ]
  },
  {
   "cell_type": "markdown",
   "metadata": {},
   "source": [
    "# 4\n",
    "\n",
    "Write an expression which operates on `secret_word` and returns\n",
    "\n",
    "```\n",
    "'arian'\n",
    "```"
   ]
  },
  {
   "cell_type": "markdown",
   "metadata": {},
   "source": [
    "# 5\n",
    "\n",
    "Write an expression which operates on `secret_word` and returns\n",
    "\n",
    "```\n",
    "[False, False, True, False, True, False, True, False, True, True, False]\n",
    "```"
   ]
  },
  {
   "cell_type": "markdown",
   "metadata": {},
   "source": [
    "# 6\n",
    "\n",
    "`flipped` is defined above as\n",
    "\n",
    "```\n",
    "flipped = [flip[x] for x in bit_string]\n",
    "```\n",
    "\n",
    "The current value of `flipped` is\n",
    "\n",
    "```\n",
    "['1', '1', '0', '0', '0', '1']\n",
    "```\n",
    "\n",
    "Redefine `flip` so that the value of `flipped` becomes\n",
    "\n",
    "```\n",
    "[0, 0, 1, 1, 1, 0].\n",
    "```\n"
   ]
  },
  {
   "cell_type": "markdown",
   "metadata": {},
   "source": [
    "Part 5"
   ]
  },
  {
   "cell_type": "code",
   "execution_count": 14,
   "metadata": {
    "collapsed": true
   },
   "outputs": [],
   "source": [
    "import numpy as np\n",
    "x = np.array([5,13,23,47,9])\n",
    "y = np.ones((5,))\n",
    "z = np.ones((5,2))"
   ]
  },
  {
   "cell_type": "markdown",
   "metadata": {},
   "source": [
    "# a\n",
    "\n",
    "Write out an expression which return the shape of `x`,"
   ]
  },
  {
   "cell_type": "code",
   "execution_count": null,
   "metadata": {},
   "outputs": [],
   "source": []
  },
  {
   "cell_type": "markdown",
   "metadata": {},
   "source": [
    "# b\n",
    "\n",
    "Write out an expression which operates on and returns\n",
    "\n",
    "```\n",
    "array([10, 26, 46, 94, 18])\n",
    "```"
   ]
  },
  {
   "cell_type": "code",
   "execution_count": null,
   "metadata": {},
   "outputs": [],
   "source": []
  },
  {
   "cell_type": "markdown",
   "metadata": {},
   "source": [
    "# c\n",
    "\n",
    "Write out an expression that returns an array containing the elementwise sum of the elements in `x` and `y`."
   ]
  },
  {
   "cell_type": "code",
   "execution_count": null,
   "metadata": {},
   "outputs": [],
   "source": []
  },
  {
   "cell_type": "markdown",
   "metadata": {},
   "source": [
    "# d\n",
    "\n",
    "Consider:"
   ]
  },
  {
   "cell_type": "code",
   "execution_count": null,
   "metadata": {
    "collapsed": true
   },
   "outputs": [],
   "source": [
    "x + z"
   ]
  },
  {
   "cell_type": "markdown",
   "metadata": {},
   "source": [
    "Explain why you get the result that you get for `x + z`. "
   ]
  },
  {
   "cell_type": "markdown",
   "metadata": {},
   "source": []
  },
  {
   "cell_type": "markdown",
   "metadata": {},
   "source": [
    "# e\n",
    "\n",
    "Note the following:"
   ]
  },
  {
   "cell_type": "code",
   "execution_count": 31,
   "metadata": {
    "scrolled": true
   },
   "outputs": [
    {
     "data": {
      "text/plain": [
       "array([ True,  True, False, False,  True], dtype=bool)"
      ]
     },
     "execution_count": 31,
     "metadata": {},
     "output_type": "execute_result"
    }
   ],
   "source": [
    "x < 20"
   ]
  },
  {
   "cell_type": "markdown",
   "metadata": {},
   "source": [
    "The result above is called a **Boolean array** because it only contains instances of the\n",
    "type `bool` (`True` and `False`). Such Boolean arrays can be used to index arrays (basically\n",
    "if they are of the same length).  Using a Boolean array this way is called using a **Boolean mask**."
   ]
  },
  {
   "cell_type": "markdown",
   "metadata": {},
   "source": [
    "# e (ctd.)\n",
    "\n",
    "Using a Boolean mask, write an expression that returns an array containing the members of `x` that\n",
    "are less than `20`."
   ]
  },
  {
   "cell_type": "markdown",
   "metadata": {},
   "source": [
    "# f\n",
    "\n",
    "Now consider"
   ]
  },
  {
   "cell_type": "code",
   "execution_count": 34,
   "metadata": {},
   "outputs": [
    {
     "data": {
      "text/plain": [
       "array([[1, 2],\n",
       "       [2, 1],\n",
       "       [5, 5],\n",
       "       [9, 4]])"
      ]
     },
     "execution_count": 34,
     "metadata": {},
     "output_type": "execute_result"
    }
   ],
   "source": [
    "two_d_array = np.array([[1,2],[2,1],[5,5],[9,4]])\n",
    "two_d_array"
   ]
  },
  {
   "cell_type": "markdown",
   "metadata": {},
   "source": [
    "Write an expression that returns the second row of `two_d_array`."
   ]
  },
  {
   "cell_type": "code",
   "execution_count": null,
   "metadata": {},
   "outputs": [],
   "source": []
  },
  {
   "cell_type": "markdown",
   "metadata": {},
   "source": [
    "Write an expression that returns `two_d_array` omitting the first row."
   ]
  },
  {
   "cell_type": "code",
   "execution_count": null,
   "metadata": {},
   "outputs": [],
   "source": [
    " "
   ]
  },
  {
   "cell_type": "markdown",
   "metadata": {},
   "source": [
    "Write an expression that returns the following subarray of `two_d_array`.\n",
    "\n",
    "```\n",
    "array([[2, 1],\n",
    "       [5, 5]])\n",
    "```"
   ]
  },
  {
   "cell_type": "code",
   "execution_count": null,
   "metadata": {},
   "outputs": [],
   "source": []
  }
 ],
 "metadata": {
  "kernelspec": {
   "display_name": "Python 3",
   "language": "python",
   "name": "python3"
  },
  "language_info": {
   "codemirror_mode": {
    "name": "ipython",
    "version": 3
   },
   "file_extension": ".py",
   "mimetype": "text/x-python",
   "name": "python",
   "nbconvert_exporter": "python",
   "pygments_lexer": "ipython3",
   "version": "3.8.5"
  },
  "toc": {
   "base_numbering": 1,
   "nav_menu": {
    "height": "103px",
    "width": "252px"
   },
   "number_sections": true,
   "sideBar": true,
   "skip_h1_title": false,
   "title_cell": "Table of Contents",
   "title_sidebar": "Contents",
   "toc_cell": false,
   "toc_position": {},
   "toc_section_display": "block",
   "toc_window_display": false
  }
 },
 "nbformat": 4,
 "nbformat_minor": 1
}
