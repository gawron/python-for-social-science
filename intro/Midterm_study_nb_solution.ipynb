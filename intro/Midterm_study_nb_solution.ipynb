{
 "cells": [
  {
   "cell_type": "markdown",
   "metadata": {},
   "source": [
    "# Midterm study Notebook"
   ]
  },
  {
   "cell_type": "markdown",
   "metadata": {},
   "source": [
    "The problems in Part One are taken from a previous quiz.  Write the value of each expression in the space provided. A helpful reminder.  When applied to strings, '<' checks alphabetical order.  So\n",
    "\n",
    "```\n",
    ">>> 'a' < 'b'\n",
    "True\n",
    ">>> 'b' < 'a'\n",
    "False\n",
    ">>> 'a' < 'a'\n",
    "False\n",
    "```\n",
    "\n",
    "When applied to strings '+' does concatenation:\n",
    "\n",
    "```\n",
    ">>> 'a' + 'x'\n",
    "'ax'\n",
    "```\n"
   ]
  },
  {
   "cell_type": "markdown",
   "metadata": {},
   "source": [
    "## Part One"
   ]
  },
  {
   "cell_type": "code",
   "execution_count": 3,
   "metadata": {},
   "outputs": [],
   "source": [
    "lender_rates = {'Fannie Mae': .05, 'Bank of America': .065, 'Quicken Loans': .045}\n",
    "prime_interest_rate = .04\n",
    "amount_above_prime = [lender_rates[x] - prime_interest_rate for x in lender_rates.keys()]\n",
    "loan_amounts = [100000, 150000, 200000, 500000]\n",
    "interest_due = [x * prime_interest_rate for x in loan_amounts]\n",
    "prime_mortgages = [x <= 200000 and x > 100000 for x in loan_amounts]\n",
    "prime_mortgages2 = [x for x in loan_amounts if x <= 200000 and x > 100000]\n",
    "shoe_string = 'adidas_ultra_boost'"
   ]
  },
  {
   "cell_type": "code",
   "execution_count": 4,
   "metadata": {},
   "outputs": [
    {
     "data": {
      "text/plain": [
       "({'Fannie Mae': 0.05, 'Bank of America': 0.065, 'Quicken Loans': 0.045},\n",
       " 0.04,\n",
       " [0.010000000000000002, 0.025, 0.0049999999999999975],\n",
       " [100000, 150000, 200000, 500000],\n",
       " [4000.0, 6000.0, 8000.0, 20000.0],\n",
       " [False, True, True, False])"
      ]
     },
     "execution_count": 4,
     "metadata": {},
     "output_type": "execute_result"
    }
   ],
   "source": [
    "(lender_rates, prime_interest_rate, amount_above_prime, \n",
    " loan_amounts, interest_due, prime_mortgages)"
   ]
  },
  {
   "cell_type": "code",
   "execution_count": 5,
   "metadata": {},
   "outputs": [],
   "source": [
    "letters = 'abcdefghijklmnopqrstuvwxyz'\n",
    "vowels = 'aeiou'\n",
    "word = 'facetious'\n",
    "X = [l for l in letters if l not in vowels]\n",
    "Y = [x for x in letters if x > 'd' and x < 'j']\n",
    "W = [x for x in letters if x == 'd' or x == 'j' or x < 'q']\n",
    "Z = [x > 'd' and x < 'j' for x in letters]\n",
    "R = [x for x in word if x in vowels]\n",
    "consonants = [l for l in letters if l not in vowels]\n",
    "#. This is a dictionary comprehension.  It creates a dictionary\n",
    "consonant2vowel = {consonants[i]:v for (i, v) in enumerate(vowels)}\n",
    "vowel2consonant = {v:k for (k,v) in consonant2vowel.items()}"
   ]
  },
  {
   "cell_type": "markdown",
   "metadata": {},
   "source": [
    "# Exercises"
   ]
  },
  {
   "cell_type": "markdown",
   "metadata": {},
   "source": [
    "# A\n",
    "\n",
    "Write some code to turn `X` into a string. Remember `X` was created by a list comprehension, so it is initially defined to be a list.  The string you should get is:\n",
    "\n",
    "```\n",
    "'bcdfghjklmnpqrstvwxyz'\n",
    "```"
   ]
  },
  {
   "cell_type": "markdown",
   "metadata": {},
   "source": [
    "Solution:"
   ]
  },
  {
   "cell_type": "code",
   "execution_count": 5,
   "metadata": {},
   "outputs": [
    {
     "data": {
      "text/plain": [
       "'bcdfghjklmnpqrstvwxyz'"
      ]
     },
     "execution_count": 5,
     "metadata": {},
     "output_type": "execute_result"
    }
   ],
   "source": [
    "''.join(X)"
   ]
  },
  {
   "cell_type": "markdown",
   "metadata": {},
   "source": [
    "# B\n",
    "\n",
    "Write some code to produce a list of letters that are in `letters` but are not in `Y`.  Your code should use the current values of `letters` and `Y` and it should be a list comprehension using a filter.  Your result should look like this:\n",
    "\n",
    "```\n",
    "['a', 'b', 'c', 'd', 'j', 'k', 'l', 'm', 'n', 'o', 'p', 'q', 'r', 's', 't', 'u', 'v', 'w', 'x', 'y', 'z']\n",
    "```"
   ]
  },
  {
   "cell_type": "markdown",
   "metadata": {},
   "source": [
    "Solution:"
   ]
  },
  {
   "cell_type": "code",
   "execution_count": 6,
   "metadata": {},
   "outputs": [
    {
     "data": {
      "text/plain": [
       "['a',\n",
       " 'b',\n",
       " 'c',\n",
       " 'd',\n",
       " 'j',\n",
       " 'k',\n",
       " 'l',\n",
       " 'm',\n",
       " 'n',\n",
       " 'o',\n",
       " 'p',\n",
       " 'q',\n",
       " 'r',\n",
       " 's',\n",
       " 't',\n",
       " 'u',\n",
       " 'v',\n",
       " 'w',\n",
       " 'x',\n",
       " 'y',\n",
       " 'z']"
      ]
     },
     "execution_count": 6,
     "metadata": {},
     "output_type": "execute_result"
    }
   ],
   "source": [
    "[l for l in letters if l not in Y]"
   ]
  },
  {
   "cell_type": "markdown",
   "metadata": {},
   "source": [
    " "
   ]
  },
  {
   "cell_type": "markdown",
   "metadata": {},
   "source": [
    "# C\n",
    "\n",
    "Write some code that returns a string consisting of the letters that are both in `W` and in `Y`.  "
   ]
  },
  {
   "cell_type": "markdown",
   "metadata": {},
   "source": [
    "Solution:"
   ]
  },
  {
   "cell_type": "code",
   "execution_count": 7,
   "metadata": {},
   "outputs": [
    {
     "data": {
      "text/plain": [
       "['e', 'f', 'g', 'h', 'i']"
      ]
     },
     "execution_count": 7,
     "metadata": {},
     "output_type": "execute_result"
    }
   ],
   "source": [
    "[l for l in W if l in Y]"
   ]
  },
  {
   "cell_type": "markdown",
   "metadata": {},
   "source": [
    "# D\n",
    "\n",
    "Write a function called `find_vowels` that will take any string and return a **string** containing the vowels in that string.  For the vowels use  `vowels` (defined above)  After writing the function, you should\n",
    "be able to apply it to `word` (as defined above).  The answer would be\n",
    "\n",
    "```\n",
    ">>> find_vowels(word)\n",
    "'aeiou'\n",
    "```\n",
    "\n",
    "Then you should be able to\n",
    "apply the function to `word` again and see whether the function returns a value `==` to `vowels`.\n",
    "The result you should get is:\n",
    "\n",
    "```\n",
    ">>> find_vowels(word) == vowels\n",
    "True\n",
    "```\n",
    "\n",
    "Notice that this last test also verifies that your function\n",
    "returns a string, because only a string can be == to\n",
    "a string.\n",
    "\n",
    "You should be able to apply the function to `'radish'`.  The answer should be:\n",
    "\n",
    "```\n",
    ">>> find_vowels(\"radish\")\n",
    "'ai'\n",
    "```\n",
    "\n",
    "You should able to concatenate the answer the last question with\n",
    "'x' as follows:\n",
    "\n",
    "```\n",
    ">>> find_vowels(\"radish\") + 'x'\n",
    "'aix'\n",
    "```\n",
    "\n",
    "Notice that this last test is a second way of verifying that your function\n",
    "returns a string, because only a string can be concatenated with\n",
    "a string."
   ]
  },
  {
   "cell_type": "markdown",
   "metadata": {},
   "source": [
    "Solution:"
   ]
  },
  {
   "cell_type": "code",
   "execution_count": 6,
   "metadata": {},
   "outputs": [],
   "source": [
    "def find_vowels (inp = vowels):\n",
    "    return ''.join([l for l in inp if l in vowels])"
   ]
  },
  {
   "cell_type": "markdown",
   "metadata": {},
   "source": [
    "Comment:\n",
    "\n",
    "\n",
    "On an in class midterm you won't be testing your code.  You'll just be writing your\n",
    "code so that it handles all the test cases.  In the next three cells we demonstrate that the\n",
    "code above does that."
   ]
  },
  {
   "cell_type": "code",
   "execution_count": 7,
   "metadata": {},
   "outputs": [
    {
     "data": {
      "text/plain": [
       "'aeiou'"
      ]
     },
     "execution_count": 7,
     "metadata": {},
     "output_type": "execute_result"
    }
   ],
   "source": [
    "find_vowels(word)"
   ]
  },
  {
   "cell_type": "code",
   "execution_count": 8,
   "metadata": {},
   "outputs": [
    {
     "data": {
      "text/plain": [
       "'ai'"
      ]
     },
     "execution_count": 8,
     "metadata": {},
     "output_type": "execute_result"
    }
   ],
   "source": [
    "find_vowels ('radish')"
   ]
  },
  {
   "cell_type": "code",
   "execution_count": 9,
   "metadata": {},
   "outputs": [
    {
     "data": {
      "text/plain": [
       "True"
      ]
     },
     "execution_count": 9,
     "metadata": {},
     "output_type": "execute_result"
    }
   ],
   "source": [
    "find_vowels(word) == vowels"
   ]
  },
  {
   "cell_type": "code",
   "execution_count": 10,
   "metadata": {},
   "outputs": [
    {
     "data": {
      "text/plain": [
       "'aix'"
      ]
     },
     "execution_count": 10,
     "metadata": {},
     "output_type": "execute_result"
    }
   ],
   "source": [
    "find_vowels(\"radish\") + 'x'"
   ]
  },
  {
   "cell_type": "markdown",
   "metadata": {},
   "source": [
    "Comments:  you lose points if you wrote a function that printed something but has no\n",
    "`return` statement.   You lose points if your code handles two test cases instead of all\n",
    "three, and even more points if it handles one out of three, and still more if it handles\n",
    "none.\n",
    "\n",
    "You lose points if you return the wrong type of Python object.  The directions above clearly \n",
    "asked for a string.  If you put square brackets around your string, you are returning\n",
    "a list of strings, not a string.  If you put curly braces around your string you are returning\n",
    "a set of strings, not a string.  And so on.  Some of the above tests were devised so as to make you\n",
    "think about this.  For example, consider the following bad function definition `find_vowels_bad`."
   ]
  },
  {
   "cell_type": "code",
   "execution_count": 59,
   "metadata": {},
   "outputs": [],
   "source": [
    "def find_vowels_bad (inp):\n",
    "    return [''.join([l for l in inp if l in vowels])]\n",
    "\n",
    "def find_vowels_bad2 (inp):\n",
    "    print (''.join([l for l in inp if l in vowels]))"
   ]
  },
  {
   "cell_type": "code",
   "execution_count": 60,
   "metadata": {},
   "outputs": [
    {
     "data": {
      "text/plain": [
       "['ai']"
      ]
     },
     "execution_count": 60,
     "metadata": {},
     "output_type": "execute_result"
    }
   ],
   "source": [
    "# Returns list of strings.  Bad.\n",
    "find_vowels_bad ('radish')"
   ]
  },
  {
   "cell_type": "markdown",
   "metadata": {},
   "source": [
    "Fails this test since the output is a list, which cant == the string `vowels`.  Bad."
   ]
  },
  {
   "cell_type": "code",
   "execution_count": 61,
   "metadata": {},
   "outputs": [
    {
     "data": {
      "text/plain": [
       "False"
      ]
     },
     "execution_count": 61,
     "metadata": {},
     "output_type": "execute_result"
    }
   ],
   "source": [
    "find_vowels_bad(word) == vowels"
   ]
  },
  {
   "cell_type": "code",
   "execution_count": 62,
   "metadata": {},
   "outputs": [
    {
     "ename": "TypeError",
     "evalue": "can only concatenate list (not \"str\") to list",
     "output_type": "error",
     "traceback": [
      "\u001b[0;31m---------------------------------------------------------------------------\u001b[0m",
      "\u001b[0;31mTypeError\u001b[0m                                 Traceback (most recent call last)",
      "\u001b[0;32m/var/folders/w9/bx4mylnd27g_kqqgn5hrn2x40000gr/T/ipykernel_28043/1721276282.py\u001b[0m in \u001b[0;36m<module>\u001b[0;34m\u001b[0m\n\u001b[1;32m      1\u001b[0m \u001b[0;31m# Output cant be concatenated with string.  Bad.\u001b[0m\u001b[0;34m\u001b[0m\u001b[0;34m\u001b[0m\u001b[0m\n\u001b[0;32m----> 2\u001b[0;31m \u001b[0mfind_vowels_bad\u001b[0m \u001b[0;34m(\u001b[0m\u001b[0;34m'radish'\u001b[0m\u001b[0;34m)\u001b[0m \u001b[0;34m+\u001b[0m \u001b[0;34m'x'\u001b[0m\u001b[0;34m\u001b[0m\u001b[0;34m\u001b[0m\u001b[0m\n\u001b[0m",
      "\u001b[0;31mTypeError\u001b[0m: can only concatenate list (not \"str\") to list"
     ]
    }
   ],
   "source": [
    "# Output cant be concatenated with string.  Bad.\n",
    "find_vowels_bad ('radish') + 'x'"
   ]
  },
  {
   "cell_type": "markdown",
   "metadata": {},
   "source": [
    "The function that prints its results fails two of the tests, as\n",
    "predicted.  Its value is not == to `vowels` and its value\n",
    "cannot be concatenated to `'x'`."
   ]
  },
  {
   "cell_type": "code",
   "execution_count": 25,
   "metadata": {},
   "outputs": [
    {
     "name": "stdout",
     "output_type": "stream",
     "text": [
      "ai\n",
      "None\n",
      "\n",
      "aeiou\n",
      "False\n",
      "\n",
      "ai\n"
     ]
    },
    {
     "ename": "TypeError",
     "evalue": "unsupported operand type(s) for +: 'NoneType' and 'str'",
     "output_type": "error",
     "traceback": [
      "\u001b[0;31m---------------------------------------------------------------------------\u001b[0m",
      "\u001b[0;31mTypeError\u001b[0m                                 Traceback (most recent call last)",
      "\u001b[0;32m/var/folders/w9/bx4mylnd27g_kqqgn5hrn2x40000gr/T/ipykernel_28043/239978991.py\u001b[0m in \u001b[0;36m<module>\u001b[0;34m\u001b[0m\n\u001b[1;32m      3\u001b[0m \u001b[0mprint\u001b[0m\u001b[0;34m(\u001b[0m\u001b[0mfind_vowels_bad2\u001b[0m\u001b[0;34m(\u001b[0m\u001b[0mword\u001b[0m\u001b[0;34m)\u001b[0m\u001b[0;34m==\u001b[0m\u001b[0mvowels\u001b[0m\u001b[0;34m)\u001b[0m\u001b[0;34m\u001b[0m\u001b[0;34m\u001b[0m\u001b[0m\n\u001b[1;32m      4\u001b[0m \u001b[0mprint\u001b[0m\u001b[0;34m(\u001b[0m\u001b[0;34m)\u001b[0m\u001b[0;34m\u001b[0m\u001b[0;34m\u001b[0m\u001b[0m\n\u001b[0;32m----> 5\u001b[0;31m \u001b[0mprint\u001b[0m\u001b[0;34m(\u001b[0m\u001b[0mfind_vowels_bad2\u001b[0m\u001b[0;34m(\u001b[0m\u001b[0;34m'radish'\u001b[0m\u001b[0;34m)\u001b[0m\u001b[0;34m+\u001b[0m\u001b[0;34m'x'\u001b[0m\u001b[0;34m)\u001b[0m\u001b[0;34m\u001b[0m\u001b[0;34m\u001b[0m\u001b[0m\n\u001b[0m",
      "\u001b[0;31mTypeError\u001b[0m: unsupported operand type(s) for +: 'NoneType' and 'str'"
     ]
    }
   ],
   "source": [
    "print(find_vowels_bad2('radish'))\n",
    "print()\n",
    "print(find_vowels_bad2(word)==vowels)\n",
    "print()\n",
    "print(find_vowels_bad2('radish')+'x')"
   ]
  },
  {
   "cell_type": "markdown",
   "metadata": {},
   "source": [
    "# E\n",
    "\n",
    "Modify `find_vowels` as defined in problem  **D** so that its argument is optional and it behaves as follows:\n",
    "\n",
    "```\n",
    ">>> find_vowels() == vowels\n",
    "True\n",
    "```\n",
    "\n",
    "Note:  All the previously discussed examples using `find_vowels` should continue to behave as before."
   ]
  },
  {
   "cell_type": "markdown",
   "metadata": {},
   "source": [
    "Solution:"
   ]
  },
  {
   "cell_type": "code",
   "execution_count": 22,
   "metadata": {},
   "outputs": [],
   "source": [
    "def find_vowels (inp = vowels):\n",
    "    return ''.join([l for l in inp if l in vowels])"
   ]
  },
  {
   "cell_type": "markdown",
   "metadata": {},
   "source": [
    "Comment:"
   ]
  },
  {
   "cell_type": "code",
   "execution_count": 19,
   "metadata": {},
   "outputs": [
    {
     "data": {
      "text/plain": [
       "True"
      ]
     },
     "execution_count": 19,
     "metadata": {},
     "output_type": "execute_result"
    }
   ],
   "source": [
    "find_vowels() == vowels"
   ]
  },
  {
   "cell_type": "markdown",
   "metadata": {},
   "source": [
    "# F \n",
    "\n",
    "Now write a function `same_chars` that\n",
    "determines if two sequences have exactly the same\n",
    "set of characters.  It should behave as follows:\n",
    "\n",
    "```\n",
    ">>> same_chars(vowels, 'aeiou')\n",
    "True\n",
    ">>> same_chars(vowels, 'eioua')\n",
    "True\n",
    ">>> same_chars(vowels, 'uoiea')\n",
    "True\n",
    ">>> same_chars(vowels, 'eiou')\n",
    "False\n",
    ">>> same_chars('bcd','dcb')\n",
    "True\n",
    ">>> same_chars('bcd','dcb') == True\n",
    "True\n",
    ">>> if same_chars('xyz','zyx'):\n",
    "...     print('Same!`)\n",
    "... else:\n",
    "        print('Different')\n",
    "Same!\n",
    "```\n",
    "\n",
    "The last two tests verify that you are returning `True` or `False`, not justy printing them.\n",
    "If you don't know what this means, study the functions nb and the functions assignment\n",
    "solution.\n",
    "\n",
    "Hint: Use sets. Remember how easy it is in Python to turn one type into another.  For example:\n",
    "\n",
    "```\n",
    ">>> list('abc')\n",
    "['a', 'b', 'c']\n",
    "```\n"
   ]
  },
  {
   "cell_type": "markdown",
   "metadata": {},
   "source": [
    "Solution:"
   ]
  },
  {
   "cell_type": "code",
   "execution_count": 14,
   "metadata": {},
   "outputs": [],
   "source": [
    "def same_chars (word1,word2):\n",
    "    return set(word1)  == set(word2)"
   ]
  },
  {
   "cell_type": "markdown",
   "metadata": {},
   "source": [
    "Comment:"
   ]
  },
  {
   "cell_type": "code",
   "execution_count": 15,
   "metadata": {
    "scrolled": true
   },
   "outputs": [
    {
     "data": {
      "text/plain": [
       "True"
      ]
     },
     "execution_count": 15,
     "metadata": {},
     "output_type": "execute_result"
    }
   ],
   "source": [
    "same_chars('bcd','dcb')"
   ]
  },
  {
   "cell_type": "code",
   "execution_count": 17,
   "metadata": {},
   "outputs": [
    {
     "data": {
      "text/plain": [
       "True"
      ]
     },
     "execution_count": 17,
     "metadata": {},
     "output_type": "execute_result"
    }
   ],
   "source": [
    "same_chars(vowels, 'uoiea')"
   ]
  },
  {
   "cell_type": "code",
   "execution_count": 18,
   "metadata": {},
   "outputs": [
    {
     "data": {
      "text/plain": [
       "False"
      ]
     },
     "execution_count": 18,
     "metadata": {},
     "output_type": "execute_result"
    }
   ],
   "source": [
    "same_chars(vowels, 'uoie')"
   ]
  },
  {
   "cell_type": "code",
   "execution_count": 21,
   "metadata": {},
   "outputs": [
    {
     "name": "stdout",
     "output_type": "stream",
     "text": [
      "Same!\n"
     ]
    }
   ],
   "source": [
    "if same_chars('xyz','zyx'):\n",
    "    print('Same!')\n",
    "else:\n",
    "    print('Different!')"
   ]
  },
  {
   "cell_type": "markdown",
   "metadata": {},
   "source": [
    " "
   ]
  },
  {
   "cell_type": "markdown",
   "metadata": {},
   "source": [
    "# G\n",
    "\n",
    "Consider `R` as defined above. Remember `R` filters the elements of `word` with the condition `x in vowels`.\n",
    "\n",
    "Write some code that performs a test to show that `vowels` (a string) contains the same \n",
    "characters as `R` (a list)."
   ]
  },
  {
   "cell_type": "markdown",
   "metadata": {},
   "source": [
    "Solution:"
   ]
  },
  {
   "cell_type": "code",
   "execution_count": 22,
   "metadata": {},
   "outputs": [
    {
     "data": {
      "text/plain": [
       "True"
      ]
     },
     "execution_count": 22,
     "metadata": {},
     "output_type": "execute_result"
    }
   ],
   "source": [
    "# Solution. The above definition of `same_chars` already does that.\n",
    "\n",
    "same_chars(vowels,R)"
   ]
  },
  {
   "cell_type": "markdown",
   "metadata": {},
   "source": [
    " "
   ]
  },
  {
   "cell_type": "markdown",
   "metadata": {},
   "source": [
    "# H\n",
    "\n",
    "Consider `consonant2vowel`.  It is a mapping from consonants to vowels.  Write some code that returns the vowel associated with `\"b\"` in `consonant2vowel`.  Note:  This question has a **very** simple answer.  It is about\n",
    "whether you understand what type of data structure `consonant2vowel` is, and how you use it."
   ]
  },
  {
   "cell_type": "markdown",
   "metadata": {},
   "source": [
    "Solution:"
   ]
  },
  {
   "cell_type": "code",
   "execution_count": 23,
   "metadata": {},
   "outputs": [
    {
     "data": {
      "text/plain": [
       "'a'"
      ]
     },
     "execution_count": 23,
     "metadata": {},
     "output_type": "execute_result"
    }
   ],
   "source": [
    "consonant2vowel['b']"
   ]
  },
  {
   "cell_type": "markdown",
   "metadata": {},
   "source": [
    " "
   ]
  },
  {
   "cell_type": "markdown",
   "metadata": {
    "collapsed": true
   },
   "source": [
    "# I\n",
    "\n",
    "Write a simple one-line Python expression that operates on `vowels` and returns \n",
    "\n",
    "```\n",
    "['ba', 'be','bi', 'bo','bu']\n",
    "```"
   ]
  },
  {
   "cell_type": "markdown",
   "metadata": {},
   "source": [
    "Solution:"
   ]
  },
  {
   "cell_type": "code",
   "execution_count": 24,
   "metadata": {},
   "outputs": [
    {
     "data": {
      "text/plain": [
       "['ba', 'be', 'bi', 'bo', 'bu']"
      ]
     },
     "execution_count": 24,
     "metadata": {},
     "output_type": "execute_result"
    }
   ],
   "source": [
    "['b' + x for x in vowels]"
   ]
  },
  {
   "cell_type": "markdown",
   "metadata": {},
   "source": [
    " "
   ]
  },
  {
   "cell_type": "markdown",
   "metadata": {
    "collapsed": true
   },
   "source": [
    "# J\n",
    "\n",
    "Look at `interest_due`.  Using that as a model, write a simple expression that returns a list containing\n",
    "the result of dividing every loan amount in `loan_amounts` by 100,000.\n"
   ]
  },
  {
   "cell_type": "markdown",
   "metadata": {},
   "source": [
    "Solution:"
   ]
  },
  {
   "cell_type": "code",
   "execution_count": 27,
   "metadata": {},
   "outputs": [
    {
     "data": {
      "text/plain": [
       "[0.1, 0.15, 0.2, 0.5]"
      ]
     },
     "execution_count": 27,
     "metadata": {},
     "output_type": "execute_result"
    }
   ],
   "source": [
    "[x/10**6 for x in loan_amounts]\n",
    "\n",
    "# OK to write it out\n",
    "#[x/100000 for x in loan_amounts]"
   ]
  },
  {
   "cell_type": "markdown",
   "metadata": {},
   "source": [
    " "
   ]
  },
  {
   "cell_type": "markdown",
   "metadata": {
    "collapsed": true
   },
   "source": [
    "# K\n",
    "\n",
    "Write a simple one line Python expression that operates on X and returns\n",
    "\n",
    "```\n",
    "['b', 'c']\n",
    "```\n",
    "\n",
    "Use slices."
   ]
  },
  {
   "cell_type": "markdown",
   "metadata": {},
   "source": [
    "Solution:"
   ]
  },
  {
   "cell_type": "code",
   "execution_count": 28,
   "metadata": {},
   "outputs": [
    {
     "data": {
      "text/plain": [
       "['b', 'c']"
      ]
     },
     "execution_count": 28,
     "metadata": {},
     "output_type": "execute_result"
    }
   ],
   "source": [
    "X[:2]"
   ]
  },
  {
   "cell_type": "markdown",
   "metadata": {},
   "source": [
    " "
   ]
  },
  {
   "cell_type": "markdown",
   "metadata": {
    "collapsed": true
   },
   "source": [
    "# L\n",
    "\n",
    "\n",
    "Write a Python expression which operates on `letters` and returns the following value. \n",
    "\n",
    "```\n",
    "'ghi'\n",
    "```\n",
    "\n",
    "Use slices."
   ]
  },
  {
   "cell_type": "markdown",
   "metadata": {},
   "source": [
    "Solution:"
   ]
  },
  {
   "cell_type": "code",
   "execution_count": 31,
   "metadata": {},
   "outputs": [
    {
     "data": {
      "text/plain": [
       "'ghi'"
      ]
     },
     "execution_count": 31,
     "metadata": {},
     "output_type": "execute_result"
    }
   ],
   "source": [
    " letters[6:9]"
   ]
  },
  {
   "cell_type": "markdown",
   "metadata": {},
   "source": [
    " "
   ]
  },
  {
   "cell_type": "markdown",
   "metadata": {},
   "source": [
    "# M\n",
    "\n",
    "Write a Python expression which operates on `Z` and returns the following value\n",
    "\n",
    "```\n",
    "[False, False, False]\n",
    "```"
   ]
  },
  {
   "cell_type": "markdown",
   "metadata": {},
   "source": [
    "Solution:"
   ]
  },
  {
   "cell_type": "code",
   "execution_count": 33,
   "metadata": {},
   "outputs": [
    {
     "data": {
      "text/plain": [
       "[False, False, False]"
      ]
     },
     "execution_count": 33,
     "metadata": {},
     "output_type": "execute_result"
    }
   ],
   "source": [
    "Z[:3]"
   ]
  },
  {
   "cell_type": "markdown",
   "metadata": {},
   "source": [
    " "
   ]
  },
  {
   "cell_type": "markdown",
   "metadata": {
    "collapsed": true
   },
   "source": [
    "# N\n",
    "\n",
    "Write a Python expression which operates on `Y` and returns the following value:\n",
    "\n",
    "```\n",
    "['e','i']\n",
    "```"
   ]
  },
  {
   "cell_type": "markdown",
   "metadata": {},
   "source": [
    "Solution:"
   ]
  },
  {
   "cell_type": "code",
   "execution_count": 35,
   "metadata": {},
   "outputs": [
    {
     "data": {
      "text/plain": [
       "['e', 'i']"
      ]
     },
     "execution_count": 35,
     "metadata": {},
     "output_type": "execute_result"
    }
   ],
   "source": [
    "[l for l in Y if l in vowels]"
   ]
  },
  {
   "cell_type": "markdown",
   "metadata": {},
   "source": [
    "Comment:\n",
    "\n",
    "Note `find_vowels` doesn't work because we defined it to return a string (as instructed)."
   ]
  },
  {
   "cell_type": "code",
   "execution_count": 26,
   "metadata": {},
   "outputs": [
    {
     "data": {
      "text/plain": [
       "'ei'"
      ]
     },
     "execution_count": 26,
     "metadata": {},
     "output_type": "execute_result"
    }
   ],
   "source": [
    "find_vowels(Y)"
   ]
  },
  {
   "cell_type": "markdown",
   "metadata": {},
   "source": [
    " "
   ]
  },
  {
   "cell_type": "markdown",
   "metadata": {},
   "source": [
    "# O\n",
    "\n",
    "Write a line of code which operates on `Y` and returns `False`."
   ]
  },
  {
   "cell_type": "markdown",
   "metadata": {},
   "source": [
    "Solution:"
   ]
  },
  {
   "cell_type": "code",
   "execution_count": 29,
   "metadata": {
    "scrolled": true
   },
   "outputs": [
    {
     "data": {
      "text/plain": [
       "False"
      ]
     },
     "execution_count": 29,
     "metadata": {},
     "output_type": "execute_result"
    }
   ],
   "source": [
    " len(Y)  == 6"
   ]
  },
  {
   "cell_type": "markdown",
   "metadata": {},
   "source": [
    "# P\n",
    "\n",
    "Write a line of code which accesses `vowels` and returns the following value:\n",
    "\n",
    "```\n",
    "[True, True, False, False, False]\n",
    "```"
   ]
  },
  {
   "cell_type": "markdown",
   "metadata": {},
   "source": [
    "Two of many solutions:"
   ]
  },
  {
   "cell_type": "code",
   "execution_count": 30,
   "metadata": {},
   "outputs": [
    {
     "data": {
      "text/plain": [
       "[True, True, False, False, False]"
      ]
     },
     "execution_count": 30,
     "metadata": {},
     "output_type": "execute_result"
    }
   ],
   "source": [
    "[x in 'ae' for x in vowels]"
   ]
  },
  {
   "cell_type": "code",
   "execution_count": 31,
   "metadata": {},
   "outputs": [
    {
     "data": {
      "text/plain": [
       "[True, True, False, False, False]"
      ]
     },
     "execution_count": 31,
     "metadata": {},
     "output_type": "execute_result"
    }
   ],
   "source": [
    "[x < 'i' for x in vowels]"
   ]
  },
  {
   "cell_type": "markdown",
   "metadata": {},
   "source": [
    " "
   ]
  },
  {
   "cell_type": "markdown",
   "metadata": {},
   "source": [
    "# Q\n",
    "\n",
    "Write a line of code which operates on `consonant2vowel` and returns the following value.\n",
    "\n",
    "```\n",
    "'e'\n",
    "```"
   ]
  },
  {
   "cell_type": "markdown",
   "metadata": {},
   "source": [
    "Solution:\n",
    "\n",
    "`consonant2vowel` maps the first four consonants to the first four vowels:"
   ]
  },
  {
   "cell_type": "code",
   "execution_count": 44,
   "metadata": {},
   "outputs": [
    {
     "data": {
      "text/plain": [
       "'e'"
      ]
     },
     "execution_count": 44,
     "metadata": {},
     "output_type": "execute_result"
    }
   ],
   "source": [
    "consonant2vowel['c']"
   ]
  },
  {
   "cell_type": "markdown",
   "metadata": {},
   "source": [
    " "
   ]
  },
  {
   "cell_type": "markdown",
   "metadata": {},
   "source": [
    " "
   ]
  },
  {
   "cell_type": "markdown",
   "metadata": {},
   "source": [
    "\n",
    "\n",
    "Write a line of code which operates on `vowel2consonant` and returns the following value.\n",
    "\n",
    "```\n",
    "'g'\n",
    "```"
   ]
  },
  {
   "cell_type": "markdown",
   "metadata": {},
   "source": [
    "Solution:"
   ]
  },
  {
   "cell_type": "code",
   "execution_count": 37,
   "metadata": {},
   "outputs": [
    {
     "data": {
      "text/plain": [
       "'g'"
      ]
     },
     "execution_count": 37,
     "metadata": {},
     "output_type": "execute_result"
    }
   ],
   "source": [
    "vowel2consonant['u']"
   ]
  },
  {
   "cell_type": "markdown",
   "metadata": {},
   "source": [
    "##       Part Two"
   ]
  },
  {
   "cell_type": "markdown",
   "metadata": {},
   "source": [
    "Write functions that behave according to the descriptions given."
   ]
  },
  {
   "cell_type": "markdown",
   "metadata": {},
   "source": [
    "# 1\n",
    "\n",
    "Write a function that takes two numbers as arguments and multiplies them together and adds 1 to the result.  Call your function `product_successor`.  Then:\n",
    "\n",
    "```\n",
    ">>> product_successor(3,2)\n",
    "7\n",
    ">>> product_successor(5,9)\n",
    "46\n",
    ">>> product_successor(5,9) == 46\n",
    "True\n",
    "```\n",
    "\n",
    "Last test verifies that the functioin is returning the value, not just printing it."
   ]
  },
  {
   "cell_type": "markdown",
   "metadata": {},
   "source": [
    "Solution:"
   ]
  },
  {
   "cell_type": "code",
   "execution_count": 41,
   "metadata": {},
   "outputs": [],
   "source": [
    "def product_successor(x,y):\n",
    "    return (x*y)+1"
   ]
  },
  {
   "cell_type": "markdown",
   "metadata": {},
   "source": [
    "Comment:"
   ]
  },
  {
   "cell_type": "code",
   "execution_count": 42,
   "metadata": {},
   "outputs": [
    {
     "data": {
      "text/plain": [
       "7"
      ]
     },
     "execution_count": 42,
     "metadata": {},
     "output_type": "execute_result"
    }
   ],
   "source": [
    "product_successor(3,2)"
   ]
  },
  {
   "cell_type": "code",
   "execution_count": 43,
   "metadata": {},
   "outputs": [
    {
     "data": {
      "text/plain": [
       "46"
      ]
     },
     "execution_count": 43,
     "metadata": {},
     "output_type": "execute_result"
    }
   ],
   "source": [
    "product_successor(5,9)"
   ]
  },
  {
   "cell_type": "code",
   "execution_count": 107,
   "metadata": {},
   "outputs": [
    {
     "data": {
      "text/plain": [
       "True"
      ]
     },
     "execution_count": 107,
     "metadata": {},
     "output_type": "execute_result"
    }
   ],
   "source": [
    "product_successor(5,9) == 46"
   ]
  },
  {
   "cell_type": "markdown",
   "metadata": {},
   "source": [
    " "
   ]
  },
  {
   "cell_type": "markdown",
   "metadata": {},
   "source": [
    "# 2\n",
    "\n",
    "Write a function called `product_successor_ratios`\n",
    "which takes four numbers as arguments.   Call them `a`,`b`,`c`' and `d`;\n",
    "`product_successor_ratios` should first find the product successor of `a` and `b`.\n",
    "\n",
    "That is, it should multiply `a` and `b` together\n",
    "and add one to the result.  It should call the function `product_successor` (defined in the last problem))\n",
    "to do this.  Note: **No credit for a solution that ignores this instruction**.   \n",
    "\n",
    "`product_successor_ratio` should\n",
    "also call `product_successor` on `c` and `d` (multiplying `c` and `d` together and adding 1 to the result).\n",
    "It should return the ratio obtained by dividing the product successor of `a` and `b` \n",
    "by the product successor of `c` and `d`.\n",
    "\n",
    "Note: It took a lot of English to say this but the body of the `product_successor_ratios`\n",
    "function is essentially one line of code.  Here are some examples illustratinmg its behavior:\n",
    "\n",
    "```\n",
    ">>> product_successor_ratio(3,2,5,9)   # Test One\n",
    "0.15217391304347827\n",
    ">>> product_successor_ratio(5,9,3,2)   # Test Two\n",
    "6.571428571428571\n",
    ">>> product_successor_ratio(3,2,5,9) + product_successor_ratio(5,9,3,2)   # Test Three\n",
    "6.72360248447205\n",
    ">>> product_successor_ratio(5,9,3,0)    # Test Four\n",
    "46.0\n",
    ">>> product_successor_ratio(5,9,0,0)    # Test Five\n",
    "46.0\n",
    ">>> product_successor_ratio(5,9,0,0) == 46.0    # Test Five\n",
    "True\n",
    "```\n",
    "\n",
    "\n",
    "Finally,  the last two arguments of `product_successor_ratio` should be\n",
    "optional.  Here are the results when they are omitted.\n",
    "\n",
    "```\n",
    ">>> product_successor_ratio(5,9,1)\n",
    "23.0\n",
    ">>> product_successor_ratio(5,9)\n",
    "23.0\n",
    "```\n"
   ]
  },
  {
   "cell_type": "markdown",
   "metadata": {},
   "source": [
    "Solution:"
   ]
  },
  {
   "cell_type": "code",
   "execution_count": 97,
   "metadata": {},
   "outputs": [],
   "source": [
    "def product_successor_ratio (a,b,c=1,d=1):\n",
    "    return product_successor(a,b)/product_successor(c,d)"
   ]
  },
  {
   "cell_type": "markdown",
   "metadata": {},
   "source": [
    "Comments:"
   ]
  },
  {
   "cell_type": "code",
   "execution_count": 109,
   "metadata": {},
   "outputs": [],
   "source": [
    "# Function from previous problem not called\n",
    "def product_successor_ratio_no_credit (a,b,c=1,d=1):\n",
    "    return ((a*b) + 1)/((c*d) + 1)"
   ]
  },
  {
   "cell_type": "markdown",
   "metadata": {},
   "source": [
    "Tests"
   ]
  },
  {
   "cell_type": "code",
   "execution_count": 70,
   "metadata": {},
   "outputs": [
    {
     "data": {
      "text/plain": [
       "0.15217391304347827"
      ]
     },
     "execution_count": 70,
     "metadata": {},
     "output_type": "execute_result"
    }
   ],
   "source": [
    " product_successor_ratio(3,2,5,9) "
   ]
  },
  {
   "cell_type": "code",
   "execution_count": 111,
   "metadata": {},
   "outputs": [
    {
     "data": {
      "text/plain": [
       "6.571428571428571"
      ]
     },
     "execution_count": 111,
     "metadata": {},
     "output_type": "execute_result"
    }
   ],
   "source": [
    "product_successor_ratio(5,9,3,2) "
   ]
  },
  {
   "cell_type": "code",
   "execution_count": 72,
   "metadata": {},
   "outputs": [
    {
     "data": {
      "text/plain": [
       "6.72360248447205"
      ]
     },
     "execution_count": 72,
     "metadata": {},
     "output_type": "execute_result"
    }
   ],
   "source": [
    "product_successor_ratio(3,2,5,9) + product_successor_ratio(5,9,3,2) "
   ]
  },
  {
   "cell_type": "code",
   "execution_count": 73,
   "metadata": {},
   "outputs": [
    {
     "data": {
      "text/plain": [
       "46.0"
      ]
     },
     "execution_count": 73,
     "metadata": {},
     "output_type": "execute_result"
    }
   ],
   "source": [
    "product_successor_ratio(5,9,3,0)"
   ]
  },
  {
   "cell_type": "code",
   "execution_count": 74,
   "metadata": {},
   "outputs": [
    {
     "data": {
      "text/plain": [
       "46.0"
      ]
     },
     "execution_count": 74,
     "metadata": {},
     "output_type": "execute_result"
    }
   ],
   "source": [
    "product_successor_ratio(5,9,0,0)"
   ]
  },
  {
   "cell_type": "code",
   "execution_count": 113,
   "metadata": {},
   "outputs": [
    {
     "data": {
      "text/plain": [
       "True"
      ]
     },
     "execution_count": 113,
     "metadata": {},
     "output_type": "execute_result"
    }
   ],
   "source": [
    "#Also True \n",
    "#product_successor_ratio(5,9,0,0) == 46\n",
    "product_successor_ratio(5,9,0,0) == 46.0"
   ]
  },
  {
   "cell_type": "code",
   "execution_count": 98,
   "metadata": {},
   "outputs": [
    {
     "name": "stdout",
     "output_type": "stream",
     "text": [
      "23.0\n"
     ]
    }
   ],
   "source": [
    "print(product_successor_ratio(5,9,1))"
   ]
  },
  {
   "cell_type": "code",
   "execution_count": 99,
   "metadata": {},
   "outputs": [
    {
     "name": "stdout",
     "output_type": "stream",
     "text": [
      "23.0\n"
     ]
    }
   ],
   "source": [
    "print(product_successor_ratio(5,9))"
   ]
  },
  {
   "cell_type": "markdown",
   "metadata": {},
   "source": [
    " "
   ]
  },
  {
   "cell_type": "markdown",
   "metadata": {},
   "source": [
    "## Part 3"
   ]
  },
  {
   "cell_type": "markdown",
   "metadata": {},
   "source": [
    "Reminders: `range(n)` returns a list of the integers from 0 up to but not including `n`.\n",
    "\n",
    "```\n",
    ">>> list(range(10))\n",
    "[0,1,2,3,4,5,6,7,8,9]\n",
    "```\n",
    "\n",
    "`'str0'.join(str_seq)`  returns a string gotten by joining together the elements of `str_seq` with `str0`. It is the opposite of `split`.  It is an error if the elements of `str_seq` are not all strings:\n",
    "\n",
    "```\n",
    ">>> ''.join(['a','b','c'])\n",
    "'abc'\n",
    ">>> 'x'.join(['a','b','c'])\n",
    "'axbxc'\n",
    ">>> 'x'.join([1,2,3])\n",
    "TypeError      \n",
    "...\n",
    "TypeError: sequence item 0: expected string, int found\n",
    ">>> 'i'.join(['m','ss','ss','pp',''])\n",
    "'mississippi'\n",
    ">>> 'i'.join(['m','ss','ss','pp'])\n",
    "'mississipp'\n",
    "```\n",
    "\n",
    "\n"
   ]
  },
  {
   "cell_type": "code",
   "execution_count": 1,
   "metadata": {},
   "outputs": [],
   "source": [
    "letters = ('a', 'b', 'c', 'd', 'e', 'f', 'g', \n",
    "           'h', 'i', 'j', 'k', 'l', 'm', 'n', \n",
    "           'o', 'p', 'q', 'r', 's', 't', 'u', \n",
    "           'v', 'w', 'x', 'y', 'z')\n",
    "vowels = 'aeiou'\n",
    "digits = list(range(4))\n",
    "word_list = ['bbop','pine', 'bake', 'isle']\n",
    "weird_list = [word_list[x][x] for x in digits]\n",
    "word3 = ''.join([x[1] for x in word_list])\n",
    "word4 = 'x'.join(['o','o','o',''])\n",
    "char_list = [x for x in word4 if x in vowels]\n",
    "word1 = 'rambunctious'\n",
    "word2 = 'mellifluous'\n",
    "WW = word1 + word2\n",
    "Z = [x for x in WW if x in 'lmn']\n",
    "favorite_words = {'Noam Chomsky': word2, 'Leonard Bloomfield': word1, 'John Rupert Firth': weird_list,\n",
    "                 'Ferdinand de Saussure': word3}"
   ]
  },
  {
   "cell_type": "markdown",
   "metadata": {},
   "source": [
    "# a\n",
    "\n",
    "Write out an expression which applies to `word3` and returns\n",
    "\n",
    "```\n",
    "'bs'\n",
    "```"
   ]
  },
  {
   "cell_type": "markdown",
   "metadata": {},
   "source": [
    "Solution 1:"
   ]
  },
  {
   "cell_type": "code",
   "execution_count": 116,
   "metadata": {},
   "outputs": [
    {
     "data": {
      "text/plain": [
       "'bs'"
      ]
     },
     "execution_count": 116,
     "metadata": {},
     "output_type": "execute_result"
    }
   ],
   "source": [
    "''.join([x for x in word3 if x not in vowels])"
   ]
  },
  {
   "cell_type": "markdown",
   "metadata": {},
   "source": [
    "Solution 2:"
   ]
  },
  {
   "cell_type": "code",
   "execution_count": 119,
   "metadata": {},
   "outputs": [
    {
     "data": {
      "text/plain": [
       "'bs'"
      ]
     },
     "execution_count": 119,
     "metadata": {},
     "output_type": "execute_result"
    }
   ],
   "source": [
    "word3[::3]"
   ]
  },
  {
   "cell_type": "markdown",
   "metadata": {},
   "source": [
    "Comment:"
   ]
  },
  {
   "cell_type": "code",
   "execution_count": 120,
   "metadata": {},
   "outputs": [
    {
     "data": {
      "text/plain": [
       "'bias'"
      ]
     },
     "execution_count": 120,
     "metadata": {},
     "output_type": "execute_result"
    }
   ],
   "source": [
    " word3"
   ]
  },
  {
   "cell_type": "markdown",
   "metadata": {},
   "source": [
    "# b\n",
    "\n",
    "Find a value for `LL` (a list)  for which the following piece of code produces the result shown.  There are some helpful examples above.\n",
    "\n",
    "```\n",
    ">>> 'a'.join(LL)\n",
    "'abracadabra'\n",
    "```"
   ]
  },
  {
   "cell_type": "markdown",
   "metadata": {},
   "source": [
    "Solution:"
   ]
  },
  {
   "cell_type": "code",
   "execution_count": 100,
   "metadata": {},
   "outputs": [
    {
     "data": {
      "text/plain": [
       "'abracadabra'"
      ]
     },
     "execution_count": 100,
     "metadata": {},
     "output_type": "execute_result"
    }
   ],
   "source": [
    "LL=['','br','c','d','br','']\n",
    "'a'.join(LL)"
   ]
  },
  {
   "cell_type": "markdown",
   "metadata": {},
   "source": [
    " "
   ]
  },
  {
   "cell_type": "markdown",
   "metadata": {},
   "source": [
    "# c\n",
    "\n",
    "What is the Python type of `digits` (as defined above)?"
   ]
  },
  {
   "cell_type": "markdown",
   "metadata": {},
   "source": [
    "Solution\n",
    "\n",
    "`list`."
   ]
  },
  {
   "cell_type": "markdown",
   "metadata": {},
   "source": [
    "# d\n",
    "\n",
    "What is the Python type of `digits[0]`?"
   ]
  },
  {
   "cell_type": "markdown",
   "metadata": {},
   "source": [
    "Solution:"
   ]
  },
  {
   "cell_type": "markdown",
   "metadata": {},
   "source": [
    "`int`"
   ]
  },
  {
   "cell_type": "markdown",
   "metadata": {},
   "source": [
    "Comment:"
   ]
  },
  {
   "cell_type": "code",
   "execution_count": 121,
   "metadata": {},
   "outputs": [
    {
     "data": {
      "text/plain": [
       "int"
      ]
     },
     "execution_count": 121,
     "metadata": {},
     "output_type": "execute_result"
    }
   ],
   "source": [
    "type(digits[0])"
   ]
  },
  {
   "cell_type": "markdown",
   "metadata": {},
   "source": [
    "# e\n",
    "\n",
    "Find a value for `word_list2` (a list) which makes the expression below have the given value\n",
    "(see the example using `weird_list` above).\n",
    "\n",
    "```\n",
    ">>> [word_list2[x][x] for x in digits]\n",
    "['v ','o','t','e']\n",
    "```\n"
   ]
  },
  {
   "cell_type": "markdown",
   "metadata": {},
   "source": [
    "Solution:"
   ]
  },
  {
   "cell_type": "code",
   "execution_count": 101,
   "metadata": {},
   "outputs": [
    {
     "data": {
      "text/plain": [
       "['v', 'o', 't', 'e']"
      ]
     },
     "execution_count": 101,
     "metadata": {},
     "output_type": "execute_result"
    }
   ],
   "source": [
    "word_list2 = ['vixen','bot','bet','race']\n",
    "[word_list2[x][x] for x in digits]"
   ]
  },
  {
   "cell_type": "markdown",
   "metadata": {},
   "source": [
    "Comment:"
   ]
  },
  {
   "cell_type": "markdown",
   "metadata": {},
   "source": [
    "The hint says to look at `weird_list` so let's do that.\n",
    "\n",
    "If we look at the value of `weird_list` (just evaluate it), it's"
   ]
  },
  {
   "cell_type": "code",
   "execution_count": 2,
   "metadata": {},
   "outputs": [
    {
     "data": {
      "text/plain": [
       "['b', 'i', 'k', 'e']"
      ]
     },
     "execution_count": 2,
     "metadata": {},
     "output_type": "execute_result"
    }
   ],
   "source": [
    "weird_list"
   ]
  },
  {
   "cell_type": "markdown",
   "metadata": {},
   "source": [
    "Weird_list was created by"
   ]
  },
  {
   "cell_type": "code",
   "execution_count": 3,
   "metadata": {},
   "outputs": [],
   "source": [
    "word_list = ['bbop','pine', 'bake', 'isle']\n",
    "digits = list(range(4))\n",
    "weird_list = [word_list[x][x] for x in digits]"
   ]
  },
  {
   "cell_type": "markdown",
   "metadata": {},
   "source": [
    "Looking at digits we have"
   ]
  },
  {
   "cell_type": "code",
   "execution_count": 4,
   "metadata": {},
   "outputs": [
    {
     "data": {
      "text/plain": [
       "[0, 1, 2, 3]"
      ]
     },
     "execution_count": 4,
     "metadata": {},
     "output_type": "execute_result"
    }
   ],
   "source": [
    "digits"
   ]
  },
  {
   "cell_type": "markdown",
   "metadata": {},
   "source": [
    "That means: to create `weird_list` with\n",
    "\n",
    "```\n",
    "weird_list = [word_list[x][x] for x in digits]\n",
    "```\n",
    "\n",
    "we collected the result of successively executing\n",
    "\n",
    "```\n",
    "word_list[0][0]  => 'bbop'[0] =>  'b'\n",
    "word_list[1][1]  => 'pine[1] => 'i'\n",
    "word_list[2][2]  => 'bake'[2] => 'k' \n",
    "word_list[3][3] =>  'isle'[3] =>  'e'\n",
    "```\n",
    "\n",
    "So to find word_list2 we need a similar list of 4 words  such  that \n",
    "\n",
    "```\n",
    "word_list2[0][0]  => ??[0] =>  'v'\n",
    "word_list2[1][1]  => ??[1] => 'o'\n",
    "word_list2[1][0]  => ??[2] => 't' \n",
    "word_list[21][1] =>  ??[3] =>  'e'\n",
    "```\n",
    "\n",
    "There are lots of such word lists.  One\n",
    "is given in the solution above."
   ]
  },
  {
   "cell_type": "markdown",
   "metadata": {},
   "source": [
    "# f\n",
    "\n",
    "Write an expression which returns the **set** of vowels in  `char_list`."
   ]
  },
  {
   "cell_type": "markdown",
   "metadata": {},
   "source": [
    "Solution One:  use a **set comprehension**:"
   ]
  },
  {
   "cell_type": "code",
   "execution_count": 51,
   "metadata": {},
   "outputs": [
    {
     "data": {
      "text/plain": [
       "{'o'}"
      ]
     },
     "execution_count": 51,
     "metadata": {},
     "output_type": "execute_result"
    }
   ],
   "source": [
    "{x for x in char_list if x in vowels}"
   ]
  },
  {
   "cell_type": "markdown",
   "metadata": {},
   "source": [
    "Solution Two:"
   ]
  },
  {
   "cell_type": "code",
   "execution_count": 52,
   "metadata": {},
   "outputs": [
    {
     "data": {
      "text/plain": [
       "{'o'}"
      ]
     },
     "execution_count": 52,
     "metadata": {},
     "output_type": "execute_result"
    }
   ],
   "source": [
    "set([x for x in char_list if x in vowels])"
   ]
  },
  {
   "cell_type": "markdown",
   "metadata": {},
   "source": [
    "Solution Three"
   ]
  },
  {
   "cell_type": "markdown",
   "metadata": {},
   "source": [
    "Since char_list consists **entirely** of vowels (by construction)"
   ]
  },
  {
   "cell_type": "code",
   "execution_count": 50,
   "metadata": {
    "scrolled": true
   },
   "outputs": [
    {
     "data": {
      "text/plain": [
       "['o', 'o', 'o']"
      ]
     },
     "execution_count": 50,
     "metadata": {},
     "output_type": "execute_result"
    }
   ],
   "source": [
    "char_list"
   ]
  },
  {
   "cell_type": "code",
   "execution_count": 53,
   "metadata": {},
   "outputs": [
    {
     "data": {
      "text/plain": [
       "{'o'}"
      ]
     },
     "execution_count": 53,
     "metadata": {},
     "output_type": "execute_result"
    }
   ],
   "source": [
    "set(char_list)"
   ]
  },
  {
   "cell_type": "markdown",
   "metadata": {},
   "source": [
    "also works."
   ]
  },
  {
   "cell_type": "markdown",
   "metadata": {},
   "source": [
    " "
   ]
  },
  {
   "cell_type": "markdown",
   "metadata": {
    "collapsed": true
   },
   "source": [
    " "
   ]
  },
  {
   "cell_type": "markdown",
   "metadata": {},
   "source": [
    "# g \n",
    "\n",
    "Write an expression which operates on `favorite_words` and returns:\n",
    "\n",
    "```\n",
    "'ias'\n",
    "```\n",
    "\n",
    "Hint: Use a slice.  Remember that `favorite_word` is a dictionary. Values are retrieved from a dictionary by keys, and therefore it makes no sense to use numerical indices (or slices) directly on a dictionary. "
   ]
  },
  {
   "cell_type": "markdown",
   "metadata": {},
   "source": [
    "Solution:"
   ]
  },
  {
   "cell_type": "code",
   "execution_count": 129,
   "metadata": {},
   "outputs": [
    {
     "data": {
      "text/plain": [
       "'ias'"
      ]
     },
     "execution_count": 129,
     "metadata": {},
     "output_type": "execute_result"
    }
   ],
   "source": [
    "favorite_words['Ferdinand de Saussure'][1:]"
   ]
  },
  {
   "cell_type": "markdown",
   "metadata": {},
   "source": [
    " "
   ]
  },
  {
   "cell_type": "markdown",
   "metadata": {},
   "source": [
    "# h\n",
    "\n",
    "Write an expression which operates on `favorite_words` and returns:\n",
    "\n",
    "```\n",
    "'bun'\n",
    "```\n"
   ]
  },
  {
   "cell_type": "markdown",
   "metadata": {},
   "source": [
    " Solution:"
   ]
  },
  {
   "cell_type": "code",
   "execution_count": 130,
   "metadata": {},
   "outputs": [
    {
     "data": {
      "text/plain": [
       "'bun'"
      ]
     },
     "execution_count": 130,
     "metadata": {},
     "output_type": "execute_result"
    }
   ],
   "source": [
    "favorite_words['Leonard Bloomfield'][3:6]"
   ]
  },
  {
   "cell_type": "markdown",
   "metadata": {},
   "source": [
    "# i\n",
    "\n",
    "Write an expression which retrieves\n",
    "\n",
    "```\n",
    "['a','b','c','x','y''z']\n",
    "```\n",
    "\n",
    "from `letters`.  Hint: use a list comprehension with a filtering condition.  This is not slice territory."
   ]
  },
  {
   "cell_type": "markdown",
   "metadata": {},
   "source": [
    "Solution"
   ]
  },
  {
   "cell_type": "code",
   "execution_count": 131,
   "metadata": {},
   "outputs": [
    {
     "data": {
      "text/plain": [
       "['a', 'b', 'c', 'x', 'y', 'z']"
      ]
     },
     "execution_count": 131,
     "metadata": {},
     "output_type": "execute_result"
    }
   ],
   "source": [
    "[x for x in letters if x < 'd' or x > 'w' ]"
   ]
  },
  {
   "cell_type": "markdown",
   "metadata": {},
   "source": [
    "# j\n",
    "\n",
    "What is the effect of or the value returned by the following code?  Explain\n",
    "by referring to the type of `letters`."
   ]
  },
  {
   "cell_type": "code",
   "execution_count": 48,
   "metadata": {},
   "outputs": [],
   "source": [
    "letters[1]  = '0'"
   ]
  },
  {
   "cell_type": "markdown",
   "metadata": {},
   "source": [
    "Solution"
   ]
  },
  {
   "cell_type": "markdown",
   "metadata": {},
   "source": [
    "This is a `TypeError` because `letters` is a `tuple` and  a `tuple` is immutable and cannot have\n",
    "a value assigned to it."
   ]
  },
  {
   "cell_type": "markdown",
   "metadata": {},
   "source": [
    "Comment:"
   ]
  },
  {
   "cell_type": "code",
   "execution_count": 132,
   "metadata": {},
   "outputs": [
    {
     "ename": "TypeError",
     "evalue": "'tuple' object does not support item assignment",
     "output_type": "error",
     "traceback": [
      "\u001b[0;31m---------------------------------------------------------------------------\u001b[0m",
      "\u001b[0;31mTypeError\u001b[0m                                 Traceback (most recent call last)",
      "\u001b[0;32m/var/folders/w9/bx4mylnd27g_kqqgn5hrn2x40000gr/T/ipykernel_28043/240644179.py\u001b[0m in \u001b[0;36m<module>\u001b[0;34m\u001b[0m\n\u001b[0;32m----> 1\u001b[0;31m \u001b[0mletters\u001b[0m\u001b[0;34m[\u001b[0m\u001b[0;36m1\u001b[0m\u001b[0;34m]\u001b[0m  \u001b[0;34m=\u001b[0m \u001b[0;34m'0'\u001b[0m\u001b[0;34m\u001b[0m\u001b[0;34m\u001b[0m\u001b[0m\n\u001b[0m",
      "\u001b[0;31mTypeError\u001b[0m: 'tuple' object does not support item assignment"
     ]
    }
   ],
   "source": [
    "letters[1]  = '0'"
   ]
  },
  {
   "cell_type": "markdown",
   "metadata": {},
   "source": [
    "# k"
   ]
  },
  {
   "cell_type": "markdown",
   "metadata": {},
   "source": [
    "\n",
    "What is the effect of or the value returned by the following code?  Explain\n",
    "by referring to the type of `favorite_words`."
   ]
  },
  {
   "cell_type": "code",
   "execution_count": null,
   "metadata": {},
   "outputs": [],
   "source": [
    "favorite_words[0]  = 'Capitalism'"
   ]
  },
  {
   "cell_type": "markdown",
   "metadata": {},
   "source": [
    "Solution:"
   ]
  },
  {
   "cell_type": "markdown",
   "metadata": {},
   "source": [
    "This is a sucessful update which adds `0` as a new key to the `dict` `favorite_words`,\n",
    "with the value `'Capitalism'`."
   ]
  },
  {
   "cell_type": "markdown",
   "metadata": {},
   "source": [
    "Comment:"
   ]
  },
  {
   "cell_type": "markdown",
   "metadata": {},
   "source": [
    "Yes this is a bit of sneaky misdirection.  Dictionary updates will always work if the key is a legal\n",
    "key for a dictionary (meaning the key is immutable), and `0` is a legal key (integers are immutable,\n",
    "like strings).\n",
    "\n",
    "Of course integers aren't usually used as keys for dictionaries beause if you really wanted to\n",
    "access data by integer keys, your first thought would be to use a list.   But it might make sense\n",
    "to use a dictionary in some cases, for example, if there are missing integers in the data, or\n",
    "if the integer values will be supplied in some unpredicatble order."
   ]
  },
  {
   "cell_type": "code",
   "execution_count": 133,
   "metadata": {},
   "outputs": [],
   "source": [
    "favorite_words[0]  = 'Capitalism'"
   ]
  },
  {
   "cell_type": "code",
   "execution_count": 135,
   "metadata": {
    "scrolled": false
   },
   "outputs": [
    {
     "data": {
      "text/plain": [
       "{'Noam Chomsky': 'mellifluous',\n",
       " 'Leonard Bloomfield': 'rambunctious',\n",
       " 'John Rupert Firth': ['b', 'i', 'k', 'e'],\n",
       " 'Ferdinand de Saussure': 'bias',\n",
       " 0: 'Capitalism'}"
      ]
     },
     "execution_count": 135,
     "metadata": {},
     "output_type": "execute_result"
    }
   ],
   "source": [
    "favorite_words"
   ]
  },
  {
   "cell_type": "markdown",
   "metadata": {},
   "source": [
    "# l"
   ]
  },
  {
   "cell_type": "markdown",
   "metadata": {},
   "source": [
    "\n",
    "What is the effect of or the value returned by the following code?  Explain\n",
    "by referring to the type of `favorite_words`."
   ]
  },
  {
   "cell_type": "code",
   "execution_count": null,
   "metadata": {},
   "outputs": [],
   "source": [
    "favorite_words[2]"
   ]
  },
  {
   "cell_type": "markdown",
   "metadata": {},
   "source": [
    "Solution:"
   ]
  },
  {
   "cell_type": "markdown",
   "metadata": {},
   "source": [
    "This a `KeyError` since `2` is not a key in the `favorite_words` dictionary we have defined,\n",
    "even if you count the successful update from the previous problem."
   ]
  },
  {
   "cell_type": "markdown",
   "metadata": {},
   "source": [
    "Comment:"
   ]
  },
  {
   "cell_type": "code",
   "execution_count": 136,
   "metadata": {},
   "outputs": [
    {
     "ename": "KeyError",
     "evalue": "2",
     "output_type": "error",
     "traceback": [
      "\u001b[0;31m---------------------------------------------------------------------------\u001b[0m",
      "\u001b[0;31mKeyError\u001b[0m                                  Traceback (most recent call last)",
      "\u001b[0;32m/var/folders/w9/bx4mylnd27g_kqqgn5hrn2x40000gr/T/ipykernel_28043/1923498128.py\u001b[0m in \u001b[0;36m<module>\u001b[0;34m\u001b[0m\n\u001b[0;32m----> 1\u001b[0;31m \u001b[0mfavorite_words\u001b[0m\u001b[0;34m[\u001b[0m\u001b[0;36m2\u001b[0m\u001b[0;34m]\u001b[0m\u001b[0;34m\u001b[0m\u001b[0;34m\u001b[0m\u001b[0m\n\u001b[0m",
      "\u001b[0;31mKeyError\u001b[0m: 2"
     ]
    }
   ],
   "source": [
    "favorite_words[2]"
   ]
  },
  {
   "cell_type": "markdown",
   "metadata": {},
   "source": [
    "## Part 4"
   ]
  },
  {
   "cell_type": "code",
   "execution_count": null,
   "metadata": {},
   "outputs": [],
   "source": []
  },
  {
   "cell_type": "code",
   "execution_count": 153,
   "metadata": {},
   "outputs": [],
   "source": [
    "employees = ['happy', 'sleepy', 'dopey', 'bashful', 'grumpy', 'doc', 'sneezy']\n",
    "employeeEmail = {'happy': ['sleepy','dopey'], 'dopey':['dopey'],'doc': employees,\n",
    "                 'sleepy': ['bashful','doc', 'happy'],\n",
    "                 'bashful': ['dopey']}\n",
    "#employeeEmail[1] = ['norman']\n",
    "secret_word = 'utilitarian'\n",
    "flip = {'0':'1', '1':'0'}\n",
    "bit_string = '001110'\n",
    "flipped = [flip[x] for x in bit_string]"
   ]
  },
  {
   "cell_type": "markdown",
   "metadata": {},
   "source": [
    "# 1\n",
    "\n",
    "Write an expression which operates on `employees` and returns\n",
    "\n",
    "```\n",
    "['dopey', 'bashful', 'grumpy']\n",
    "```"
   ]
  },
  {
   "cell_type": "markdown",
   "metadata": {},
   "source": [
    "Solution"
   ]
  },
  {
   "cell_type": "code",
   "execution_count": 140,
   "metadata": {},
   "outputs": [
    {
     "data": {
      "text/plain": [
       "['dopey', 'bashful', 'grumpy']"
      ]
     },
     "execution_count": 140,
     "metadata": {},
     "output_type": "execute_result"
    }
   ],
   "source": [
    "employees[2:5]"
   ]
  },
  {
   "cell_type": "markdown",
   "metadata": {},
   "source": [
    "# 2\n",
    "\n",
    "Write an expression which operates on `employees` and returns\n",
    "\n",
    "```\n",
    "'y'\n",
    "```"
   ]
  },
  {
   "cell_type": "markdown",
   "metadata": {},
   "source": [
    "Solution:"
   ]
  },
  {
   "cell_type": "code",
   "execution_count": 143,
   "metadata": {},
   "outputs": [
    {
     "data": {
      "text/plain": [
       "'y'"
      ]
     },
     "execution_count": 143,
     "metadata": {},
     "output_type": "execute_result"
    }
   ],
   "source": [
    "employees[2][-1]"
   ]
  },
  {
   "cell_type": "markdown",
   "metadata": {},
   "source": [
    "employeeEmail['happy'][1][-1]"
   ]
  },
  {
   "cell_type": "markdown",
   "metadata": {},
   "source": [
    "# 3\n",
    "\n",
    "Write an expression which operates on `employeeEmail` and returns\n",
    "\n",
    "```\n",
    "\"rump\"\n",
    "```"
   ]
  },
  {
   "cell_type": "markdown",
   "metadata": {},
   "source": [
    "Solution:"
   ]
  },
  {
   "cell_type": "code",
   "execution_count": 149,
   "metadata": {},
   "outputs": [
    {
     "data": {
      "text/plain": [
       "'rump'"
      ]
     },
     "execution_count": 149,
     "metadata": {},
     "output_type": "execute_result"
    }
   ],
   "source": [
    "employeeEmail['doc'][4][1:5]"
   ]
  },
  {
   "cell_type": "markdown",
   "metadata": {},
   "source": [
    "The key here is the value assigned to the key `'doc'`, which\n",
    "is the entire employees list. So \n",
    "\n",
    "```\n",
    "employeeEmail = {'happy': ['sleepy','dopey'], 'dopey':['dopey'],'doc': employees,\n",
    "                 'sleepy': ['bashful','doc', 'happy'],'grumpy':[],\n",
    "                 'bashful': ['dopey']}\n",
    "```\n",
    "is in fact"
   ]
  },
  {
   "cell_type": "code",
   "execution_count": 146,
   "metadata": {},
   "outputs": [
    {
     "data": {
      "text/plain": [
       "{'happy': ['sleepy', 'dopey'],\n",
       " 'dopey': ['dopey'],\n",
       " 'doc': ['happy', 'sleepy', 'dopey', 'bashful', 'grumpy', 'doc', 'sneezy'],\n",
       " 'sleepy': ['bashful', 'doc', 'happy'],\n",
       " 'grumpy': [],\n",
       " 'bashful': ['dopey']}"
      ]
     },
     "execution_count": 146,
     "metadata": {},
     "output_type": "execute_result"
    }
   ],
   "source": [
    "employeeEmail"
   ]
  },
  {
   "cell_type": "code",
   "execution_count": null,
   "metadata": {},
   "outputs": [],
   "source": []
  },
  {
   "cell_type": "markdown",
   "metadata": {},
   "source": [
    "# 4\n",
    "\n",
    "Write an expression which operates on `secret_word` and returns\n",
    "\n",
    "```\n",
    "'arian'\n",
    "```"
   ]
  },
  {
   "cell_type": "markdown",
   "metadata": {},
   "source": [
    "Solution:"
   ]
  },
  {
   "cell_type": "code",
   "execution_count": 157,
   "metadata": {
    "scrolled": true
   },
   "outputs": [
    {
     "data": {
      "text/plain": [
       "'arian'"
      ]
     },
     "execution_count": 157,
     "metadata": {},
     "output_type": "execute_result"
    }
   ],
   "source": [
    "secret_word[-5:]"
   ]
  },
  {
   "cell_type": "markdown",
   "metadata": {},
   "source": [
    "# 5\n",
    "\n",
    "Write an expression which operates on `secret_word` and returns\n",
    "\n",
    "```\n",
    "[False, False, True, False, True, False, True, False, True, True, False]\n",
    "```"
   ]
  },
  {
   "cell_type": "markdown",
   "metadata": {},
   "source": [
    "Solution  One:"
   ]
  },
  {
   "cell_type": "code",
   "execution_count": 162,
   "metadata": {},
   "outputs": [
    {
     "data": {
      "text/plain": [
       "[False, False, True, False, True, False, True, False, True, True, False]"
      ]
     },
     "execution_count": 162,
     "metadata": {},
     "output_type": "execute_result"
    }
   ],
   "source": [
    "[x in vowels[:-1] for x in secret_word]"
   ]
  },
  {
   "cell_type": "markdown",
   "metadata": {},
   "source": [
    "Solution Two:"
   ]
  },
  {
   "cell_type": "code",
   "execution_count": 168,
   "metadata": {},
   "outputs": [
    {
     "data": {
      "text/plain": [
       "[False, False, True, False, True, False, True, False, True, True, False]"
      ]
     },
     "execution_count": 168,
     "metadata": {},
     "output_type": "execute_result"
    }
   ],
   "source": [
    "[x < 'l' for x in secret_word]"
   ]
  },
  {
   "cell_type": "markdown",
   "metadata": {},
   "source": [
    "Comment:"
   ]
  },
  {
   "cell_type": "markdown",
   "metadata": {},
   "source": [
    "The form of the solution is suggested by the fact the list of Booleans has\n",
    "the same length as `secret_word`."
   ]
  },
  {
   "cell_type": "code",
   "execution_count": 164,
   "metadata": {},
   "outputs": [
    {
     "data": {
      "text/plain": [
       "11"
      ]
     },
     "execution_count": 164,
     "metadata": {},
     "output_type": "execute_result"
    }
   ],
   "source": [
    "len([False, False, True, False, True, False, True, False, True, True, False])"
   ]
  },
  {
   "cell_type": "code",
   "execution_count": 165,
   "metadata": {},
   "outputs": [
    {
     "data": {
      "text/plain": [
       "11"
      ]
     },
     "execution_count": 165,
     "metadata": {},
     "output_type": "execute_result"
    }
   ],
   "source": [
    "len(secret_word)"
   ]
  },
  {
   "cell_type": "markdown",
   "metadata": {},
   "source": [
    "# 6\n",
    "\n",
    "`flipped` is defined above as\n",
    "\n",
    "```\n",
    "flipped = [flip[x] for x in bit_string]\n",
    "```\n",
    "\n",
    "The current value of `flipped` is\n",
    "\n",
    "```\n",
    "['1', '1', '0', '0', '0', '1']\n",
    "```\n",
    "\n",
    "Redefine `flip` so that the value of `flipped` becomes\n",
    "\n",
    "```\n",
    "[0, 0, 1, 1, 1, 0].\n",
    "```\n"
   ]
  },
  {
   "cell_type": "markdown",
   "metadata": {},
   "source": [
    "Solution One:"
   ]
  },
  {
   "cell_type": "code",
   "execution_count": 179,
   "metadata": {},
   "outputs": [
    {
     "data": {
      "text/plain": [
       "[0, 0, 1, 1, 1, 0]"
      ]
     },
     "execution_count": 179,
     "metadata": {},
     "output_type": "execute_result"
    }
   ],
   "source": [
    "flipped = [int(flip[x]) for x in flipped]\n",
    "flipped"
   ]
  },
  {
   "cell_type": "markdown",
   "metadata": {},
   "source": [
    "Solution Two:"
   ]
  },
  {
   "cell_type": "code",
   "execution_count": 176,
   "metadata": {},
   "outputs": [
    {
     "data": {
      "text/plain": [
       "[0, 0, 1, 1, 1, 0]"
      ]
     },
     "execution_count": 176,
     "metadata": {},
     "output_type": "execute_result"
    }
   ],
   "source": [
    "flipped = [int(x) for x in bit_string]"
   ]
  },
  {
   "cell_type": "markdown",
   "metadata": {},
   "source": [
    "Solution Three:"
   ]
  },
  {
   "cell_type": "code",
   "execution_count": 174,
   "metadata": {},
   "outputs": [
    {
     "data": {
      "text/plain": [
       "[0, 0, 1, 1, 1, 0]"
      ]
     },
     "execution_count": 174,
     "metadata": {},
     "output_type": "execute_result"
    }
   ],
   "source": [
    "[(int(x)+1)%2 for x in flipped]"
   ]
  },
  {
   "cell_type": "markdown",
   "metadata": {},
   "source": [
    "Part 5"
   ]
  },
  {
   "cell_type": "code",
   "execution_count": 205,
   "metadata": {},
   "outputs": [],
   "source": [
    "import numpy as np\n",
    "x = np.array([5,13,23,47,9])\n",
    "y = np.ones((5,))\n",
    "z = np.ones((5,2))\n",
    "w = np.arange(15).reshape((3,5))"
   ]
  },
  {
   "cell_type": "code",
   "execution_count": 206,
   "metadata": {},
   "outputs": [
    {
     "data": {
      "text/plain": [
       "array([[ 0,  1,  2,  3,  4],\n",
       "       [ 5,  6,  7,  8,  9],\n",
       "       [10, 11, 12, 13, 14]])"
      ]
     },
     "execution_count": 206,
     "metadata": {},
     "output_type": "execute_result"
    }
   ],
   "source": [
    "w"
   ]
  },
  {
   "cell_type": "markdown",
   "metadata": {},
   "source": [
    "# a\n",
    "\n",
    "Write out an expression which return the shape of `x`,"
   ]
  },
  {
   "cell_type": "markdown",
   "metadata": {},
   "source": [
    "Solution"
   ]
  },
  {
   "cell_type": "code",
   "execution_count": 181,
   "metadata": {},
   "outputs": [
    {
     "data": {
      "text/plain": [
       "(5,)"
      ]
     },
     "execution_count": 181,
     "metadata": {},
     "output_type": "execute_result"
    }
   ],
   "source": [
    "x.shape"
   ]
  },
  {
   "cell_type": "markdown",
   "metadata": {},
   "source": [
    "# b\n",
    "\n",
    "Write out an expression which operates on `x` and returns\n",
    "\n",
    "```\n",
    "array([10, 26, 46, 94, 18])\n",
    "```\n",
    "\n",
    "Note: A solution using a `for`-loop or a list comprehension will receive no credit."
   ]
  },
  {
   "cell_type": "markdown",
   "metadata": {},
   "source": [
    "Solution One:"
   ]
  },
  {
   "cell_type": "code",
   "execution_count": 182,
   "metadata": {},
   "outputs": [
    {
     "data": {
      "text/plain": [
       "array([10, 26, 46, 94, 18])"
      ]
     },
     "execution_count": 182,
     "metadata": {},
     "output_type": "execute_result"
    }
   ],
   "source": [
    "2*x"
   ]
  },
  {
   "cell_type": "markdown",
   "metadata": {},
   "source": [
    "# c\n",
    "\n",
    "Write out an expression that returns an array containing the elementwise sum of the elements in `x` and `y`."
   ]
  },
  {
   "cell_type": "markdown",
   "metadata": {},
   "source": [
    "Solution:"
   ]
  },
  {
   "cell_type": "code",
   "execution_count": 188,
   "metadata": {},
   "outputs": [
    {
     "data": {
      "text/plain": [
       "array([ 6., 14., 24., 48., 10.])"
      ]
     },
     "execution_count": 188,
     "metadata": {},
     "output_type": "execute_result"
    }
   ],
   "source": [
    "x + y"
   ]
  },
  {
   "cell_type": "markdown",
   "metadata": {},
   "source": [
    "# d\n",
    "\n",
    "Consider:"
   ]
  },
  {
   "cell_type": "markdown",
   "metadata": {},
   "source": [
    "Explain why you get a `ValueError` for `x + z`. "
   ]
  },
  {
   "cell_type": "markdown",
   "metadata": {},
   "source": [
    "Solution:"
   ]
  },
  {
   "cell_type": "markdown",
   "metadata": {},
   "source": [
    "This is a ValueError because `x` and `z` have incompatible shapes for elementwise\n",
    "arithmetic.  Nor can they  be broadcast into compatible shapes."
   ]
  },
  {
   "cell_type": "markdown",
   "metadata": {},
   "source": [
    "Comment:"
   ]
  },
  {
   "cell_type": "code",
   "execution_count": 185,
   "metadata": {
    "scrolled": true
   },
   "outputs": [
    {
     "data": {
      "text/plain": [
       "array([ 5, 13, 23, 47,  9])"
      ]
     },
     "execution_count": 185,
     "metadata": {},
     "output_type": "execute_result"
    }
   ],
   "source": [
    "x"
   ]
  },
  {
   "cell_type": "code",
   "execution_count": 186,
   "metadata": {},
   "outputs": [
    {
     "data": {
      "text/plain": [
       "array([[1., 1.],\n",
       "       [1., 1.],\n",
       "       [1., 1.],\n",
       "       [1., 1.],\n",
       "       [1., 1.]])"
      ]
     },
     "execution_count": 186,
     "metadata": {},
     "output_type": "execute_result"
    }
   ],
   "source": [
    "z"
   ]
  },
  {
   "cell_type": "code",
   "execution_count": 190,
   "metadata": {},
   "outputs": [
    {
     "ename": "ValueError",
     "evalue": "operands could not be broadcast together with shapes (5,) (5,2) ",
     "output_type": "error",
     "traceback": [
      "\u001b[0;31m---------------------------------------------------------------------------\u001b[0m",
      "\u001b[0;31mValueError\u001b[0m                                Traceback (most recent call last)",
      "\u001b[0;32m/var/folders/w9/bx4mylnd27g_kqqgn5hrn2x40000gr/T/ipykernel_28043/1166324091.py\u001b[0m in \u001b[0;36m<module>\u001b[0;34m\u001b[0m\n\u001b[0;32m----> 1\u001b[0;31m \u001b[0mx\u001b[0m \u001b[0;34m+\u001b[0m \u001b[0mz\u001b[0m\u001b[0;34m\u001b[0m\u001b[0;34m\u001b[0m\u001b[0m\n\u001b[0m",
      "\u001b[0;31mValueError\u001b[0m: operands could not be broadcast together with shapes (5,) (5,2) "
     ]
    }
   ],
   "source": [
    "x + z"
   ]
  },
  {
   "cell_type": "markdown",
   "metadata": {},
   "source": [
    "This is one that **can** be fixed by reshaping."
   ]
  },
  {
   "cell_type": "code",
   "execution_count": 189,
   "metadata": {
    "scrolled": true
   },
   "outputs": [
    {
     "data": {
      "text/plain": [
       "array([[ 6.,  6.],\n",
       "       [14., 14.],\n",
       "       [24., 24.],\n",
       "       [48., 48.],\n",
       "       [10., 10.]])"
      ]
     },
     "execution_count": 189,
     "metadata": {},
     "output_type": "execute_result"
    }
   ],
   "source": [
    "x.reshape((5,1)) + z"
   ]
  },
  {
   "cell_type": "code",
   "execution_count": 192,
   "metadata": {},
   "outputs": [
    {
     "data": {
      "text/plain": [
       "array([[ 6.,  6.],\n",
       "       [14., 14.],\n",
       "       [24., 24.],\n",
       "       [48., 48.],\n",
       "       [10., 10.]])"
      ]
     },
     "execution_count": 192,
     "metadata": {},
     "output_type": "execute_result"
    }
   ],
   "source": [
    "x[:,np.newaxis] + z"
   ]
  },
  {
   "cell_type": "markdown",
   "metadata": {},
   "source": [
    "# e\n",
    "\n",
    "Note the following:"
   ]
  },
  {
   "cell_type": "code",
   "execution_count": 31,
   "metadata": {
    "scrolled": true
   },
   "outputs": [
    {
     "data": {
      "text/plain": [
       "array([ True,  True, False, False,  True], dtype=bool)"
      ]
     },
     "execution_count": 31,
     "metadata": {},
     "output_type": "execute_result"
    }
   ],
   "source": [
    "x < 20"
   ]
  },
  {
   "cell_type": "markdown",
   "metadata": {},
   "source": [
    "The result above is called a **Boolean array** because it only contains instances of the\n",
    "type `bool` (`True` and `False`). Such Boolean arrays can be used to index arrays (basically\n",
    "if they are of the same length).  Using a Boolean array this way is called using a **Boolean mask**."
   ]
  },
  {
   "cell_type": "markdown",
   "metadata": {},
   "source": [
    "# e (ctd.)\n",
    "\n",
    "Using a Boolean mask, write an expression that returns an array containing the members of `x` that\n",
    "are less than `20`."
   ]
  },
  {
   "cell_type": "markdown",
   "metadata": {},
   "source": [
    "Solution"
   ]
  },
  {
   "cell_type": "code",
   "execution_count": 193,
   "metadata": {},
   "outputs": [
    {
     "data": {
      "text/plain": [
       "array([ 5, 13,  9])"
      ]
     },
     "execution_count": 193,
     "metadata": {},
     "output_type": "execute_result"
    }
   ],
   "source": [
    "x[x < 20]"
   ]
  },
  {
   "cell_type": "markdown",
   "metadata": {},
   "source": [
    "Comment:"
   ]
  },
  {
   "cell_type": "code",
   "execution_count": 194,
   "metadata": {},
   "outputs": [
    {
     "data": {
      "text/plain": [
       "array([ 5, 13, 23, 47,  9])"
      ]
     },
     "execution_count": 194,
     "metadata": {},
     "output_type": "execute_result"
    }
   ],
   "source": [
    "x"
   ]
  },
  {
   "cell_type": "markdown",
   "metadata": {},
   "source": [
    "# f\n",
    "\n",
    "Now consider"
   ]
  },
  {
   "cell_type": "code",
   "execution_count": 196,
   "metadata": {},
   "outputs": [
    {
     "data": {
      "text/plain": [
       "array([[1, 2],\n",
       "       [2, 1],\n",
       "       [5, 5],\n",
       "       [9, 4]])"
      ]
     },
     "execution_count": 196,
     "metadata": {},
     "output_type": "execute_result"
    }
   ],
   "source": [
    "two_d_array = np.array([[1,2],[2,1],[5,5],[9,4]])\n",
    "two_d_array"
   ]
  },
  {
   "cell_type": "markdown",
   "metadata": {},
   "source": [
    "Write an expression that returns the second row of `two_d_array`."
   ]
  },
  {
   "cell_type": "markdown",
   "metadata": {},
   "source": [
    "Solution:"
   ]
  },
  {
   "cell_type": "code",
   "execution_count": 199,
   "metadata": {},
   "outputs": [
    {
     "data": {
      "text/plain": [
       "array([2, 1])"
      ]
     },
     "execution_count": 199,
     "metadata": {},
     "output_type": "execute_result"
    }
   ],
   "source": [
    "two_d_array[1,:]"
   ]
  },
  {
   "cell_type": "markdown",
   "metadata": {},
   "source": [
    "Write an expression that returns `two_d_array` omitting the first row."
   ]
  },
  {
   "cell_type": "markdown",
   "metadata": {},
   "source": [
    "Solution:"
   ]
  },
  {
   "cell_type": "code",
   "execution_count": 200,
   "metadata": {},
   "outputs": [
    {
     "data": {
      "text/plain": [
       "array([[2, 1],\n",
       "       [5, 5],\n",
       "       [9, 4]])"
      ]
     },
     "execution_count": 200,
     "metadata": {},
     "output_type": "execute_result"
    }
   ],
   "source": [
    " two_d_array[1:,:]"
   ]
  },
  {
   "cell_type": "markdown",
   "metadata": {},
   "source": [
    "Write an expression that returns the following subarray of `two_d_array`.\n",
    "\n",
    "```\n",
    "array([[2, 1],\n",
    "       [5, 5]])\n",
    "```"
   ]
  },
  {
   "cell_type": "markdown",
   "metadata": {},
   "source": [
    "Solution:"
   ]
  },
  {
   "cell_type": "code",
   "execution_count": 202,
   "metadata": {
    "scrolled": true
   },
   "outputs": [
    {
     "data": {
      "text/plain": [
       "array([[2, 1],\n",
       "       [5, 5]])"
      ]
     },
     "execution_count": 202,
     "metadata": {},
     "output_type": "execute_result"
    }
   ],
   "source": [
    "two_d_array[1:3,:]"
   ]
  },
  {
   "cell_type": "code",
   "execution_count": 204,
   "metadata": {},
   "outputs": [
    {
     "data": {
      "text/plain": [
       "array([ 5, 13, 23, 47,  9])"
      ]
     },
     "execution_count": 204,
     "metadata": {},
     "output_type": "execute_result"
    }
   ],
   "source": [
    "x"
   ]
  },
  {
   "cell_type": "markdown",
   "metadata": {},
   "source": [
    "# g\n",
    "\n",
    "Here is `w` again as a reminder. \n",
    "\n",
    "```\n",
    "array([[ 0,  1,  2,  3,  4],\n",
    "       [ 5,  6,  7,  8,  9],\n",
    "       [10, 11, 12, 13, 14]])\n",
    "```\n",
    "\n",
    "Use fancy indexing to retrieve the following array from `w`\n",
    "\n",
    "```\n",
    "array([ 2,  6, 13])\n",
    "```\n",
    "\n",
    "Note:   You answer should be one Python expression, and it should use fancy indexing. not Boolean\n",
    "indexing."
   ]
  },
  {
   "cell_type": "markdown",
   "metadata": {},
   "source": [
    "Solution"
   ]
  },
  {
   "cell_type": "code",
   "execution_count": 208,
   "metadata": {
    "scrolled": true
   },
   "outputs": [
    {
     "data": {
      "text/plain": [
       "array([ 2,  6, 13])"
      ]
     },
     "execution_count": 208,
     "metadata": {},
     "output_type": "execute_result"
    }
   ],
   "source": [
    "w[[0,1,2],[2,1,3]]"
   ]
  },
  {
   "cell_type": "markdown",
   "metadata": {},
   "source": [
    "Comment"
   ]
  },
  {
   "cell_type": "code",
   "execution_count": 207,
   "metadata": {
    "scrolled": true
   },
   "outputs": [
    {
     "data": {
      "text/plain": [
       "array([[ 0,  1,  2,  3,  4],\n",
       "       [ 5,  6,  7,  8,  9],\n",
       "       [10, 11, 12, 13, 14]])"
      ]
     },
     "execution_count": 207,
     "metadata": {},
     "output_type": "execute_result"
    }
   ],
   "source": [
    "w"
   ]
  },
  {
   "cell_type": "markdown",
   "metadata": {},
   "source": [
    "The values you want have the following indices in the 2D array:\n",
    "\n",
    "```\n",
    "[0, 2]\n",
    "[1, 1]\n",
    "[2, 3]\n",
    "```\n",
    "\n",
    "The row indices `[0`,`1`, `2]`, go on the left hand side of the comma.\n",
    "The column indices `[2`,`1`, `3]`, go on the right hand side of the comma,\n",
    "giving us\n"
   ]
  },
  {
   "cell_type": "code",
   "execution_count": 209,
   "metadata": {},
   "outputs": [
    {
     "data": {
      "text/plain": [
       "array([ 2,  6, 13])"
      ]
     },
     "execution_count": 209,
     "metadata": {},
     "output_type": "execute_result"
    }
   ],
   "source": [
    "w[[0,1,2],[2,1,3]]"
   ]
  },
  {
   "cell_type": "markdown",
   "metadata": {},
   "source": [
    "# h\n",
    "\n",
    "Below we load the `iris` data discussed in lecture and review some features:"
   ]
  },
  {
   "cell_type": "code",
   "execution_count": 211,
   "metadata": {},
   "outputs": [],
   "source": [
    "from sklearn.datasets import load_iris\n",
    "data = load_iris()\n",
    "features = data['data']\n",
    "target = data['target']"
   ]
  },
  {
   "cell_type": "code",
   "execution_count": 212,
   "metadata": {},
   "outputs": [
    {
     "data": {
      "text/plain": [
       "(150, 4)"
      ]
     },
     "execution_count": 212,
     "metadata": {},
     "output_type": "execute_result"
    }
   ],
   "source": [
    "features.shape"
   ]
  },
  {
   "cell_type": "markdown",
   "metadata": {},
   "source": [
    "Each row represents 4 measurements taken of an individual iris."
   ]
  },
  {
   "cell_type": "code",
   "execution_count": 213,
   "metadata": {},
   "outputs": [
    {
     "data": {
      "text/plain": [
       "array([[5.1, 3.5, 1.4, 0.2],\n",
       "       [4.9, 3. , 1.4, 0.2],\n",
       "       [4.7, 3.2, 1.3, 0.2],\n",
       "       [4.6, 3.1, 1.5, 0.2],\n",
       "       [5. , 3.6, 1.4, 0.2],\n",
       "       [5.4, 3.9, 1.7, 0.4],\n",
       "       [4.6, 3.4, 1.4, 0.3],\n",
       "       [5. , 3.4, 1.5, 0.2],\n",
       "       [4.4, 2.9, 1.4, 0.2],\n",
       "       [4.9, 3.1, 1.5, 0.1]])"
      ]
     },
     "execution_count": 213,
     "metadata": {},
     "output_type": "execute_result"
    }
   ],
   "source": [
    "features[:10]"
   ]
  },
  {
   "cell_type": "markdown",
   "metadata": {},
   "source": [
    "Various kinds of infromation anbout the dataset are included in `data`, a dictionary-like object."
   ]
  },
  {
   "cell_type": "code",
   "execution_count": 214,
   "metadata": {},
   "outputs": [
    {
     "data": {
      "text/plain": [
       "dict_keys(['data', 'target', 'frame', 'target_names', 'DESCR', 'feature_names', 'filename', 'data_module'])"
      ]
     },
     "execution_count": 214,
     "metadata": {},
     "output_type": "execute_result"
    }
   ],
   "source": [
    "data.keys()"
   ]
  },
  {
   "cell_type": "markdown",
   "metadata": {},
   "source": [
    "The measurements represented in the 4 columns are: "
   ]
  },
  {
   "cell_type": "code",
   "execution_count": 215,
   "metadata": {
    "scrolled": true
   },
   "outputs": [
    {
     "data": {
      "text/plain": [
       "['sepal length (cm)',\n",
       " 'sepal width (cm)',\n",
       " 'petal length (cm)',\n",
       " 'petal width (cm)']"
      ]
     },
     "execution_count": 215,
     "metadata": {},
     "output_type": "execute_result"
    }
   ],
   "source": [
    "data['feature_names']"
   ]
  },
  {
   "cell_type": "markdown",
   "metadata": {},
   "source": [
    "So for example the petal length of the first iris (row 0 printed above) is 1.4."
   ]
  },
  {
   "cell_type": "markdown",
   "metadata": {},
   "source": [
    "The three species we are trying to classify are named in target names."
   ]
  },
  {
   "cell_type": "code",
   "execution_count": 216,
   "metadata": {},
   "outputs": [
    {
     "data": {
      "text/plain": [
       "array(['setosa', 'versicolor', 'virginica'], dtype='<U10')"
      ]
     },
     "execution_count": 216,
     "metadata": {},
     "output_type": "execute_result"
    }
   ],
   "source": [
    "data['target_names']"
   ]
  },
  {
   "cell_type": "markdown",
   "metadata": {},
   "source": [
    "The array `target` (length 150) has the species for each iris in the data,\n",
    "but represented as an integer."
   ]
  },
  {
   "cell_type": "code",
   "execution_count": 217,
   "metadata": {},
   "outputs": [
    {
     "data": {
      "text/plain": [
       "{0, 1, 2}"
      ]
     },
     "execution_count": 217,
     "metadata": {},
     "output_type": "execute_result"
    }
   ],
   "source": [
    "set(target)"
   ]
  },
  {
   "cell_type": "markdown",
   "metadata": {},
   "source": [
    "# f.1 \n",
    "\n",
    "Your first task is to define a single Boolean array that is `True` for those rows of `features` that are not of target species `1`,\n",
    "have sepal length greater than 4.7, and have petal width greater than 2.  Name your Boolean array `BC`.\n",
    "\n",
    "Say what you think the length of  `BC` will be."
   ]
  },
  {
   "cell_type": "markdown",
   "metadata": {},
   "source": [
    "Solution:"
   ]
  },
  {
   "cell_type": "code",
   "execution_count": 232,
   "metadata": {},
   "outputs": [],
   "source": [
    "BC = ((~ (target==1)) & (features[:,0] > 4.7) & (features[:,3] > 2))"
   ]
  },
  {
   "cell_type": "markdown",
   "metadata": {},
   "source": [
    "The length of the `Boolean array` `BC` will be 150."
   ]
  },
  {
   "cell_type": "markdown",
   "metadata": {},
   "source": [
    "Comment:"
   ]
  },
  {
   "cell_type": "code",
   "execution_count": 237,
   "metadata": {},
   "outputs": [
    {
     "data": {
      "text/plain": [
       "150"
      ]
     },
     "execution_count": 237,
     "metadata": {},
     "output_type": "execute_result"
    }
   ],
   "source": [
    "len(BC)"
   ]
  },
  {
   "cell_type": "markdown",
   "metadata": {},
   "source": [
    "The length of a Boolean array defined by some Boolean constraint on the columns of `features`,\n",
    "or on an array of the same length as the columns (like `target`)  will always be the same length as the columns\n",
    "of `features`.  In this case, since `features` has the shape `(150,4)`, that length is 150."
   ]
  },
  {
   "cell_type": "markdown",
   "metadata": {},
   "source": [
    "# f.2\n",
    "\n",
    "Your next task is to write an expression that computes how many rows there are\n",
    "that are not of target species `1`,\n",
    "have sepal length greater than 4.7, and have petal width greater than 2.\n",
    "\n",
    "Your expression should use `BC`. In fact, there are 23 such rows, so the value of your expression\n",
    "should be 23."
   ]
  },
  {
   "cell_type": "markdown",
   "metadata": {},
   "source": [
    "Solution:"
   ]
  },
  {
   "cell_type": "code",
   "execution_count": 234,
   "metadata": {},
   "outputs": [],
   "source": [
    "BC.sum()"
   ]
  },
  {
   "cell_type": "markdown",
   "metadata": {},
   "source": [
    "Comment:"
   ]
  },
  {
   "cell_type": "code",
   "execution_count": 235,
   "metadata": {},
   "outputs": [
    {
     "data": {
      "text/plain": [
       "23"
      ]
     },
     "execution_count": 235,
     "metadata": {},
     "output_type": "execute_result"
    }
   ],
   "source": [
    "BC.sum()"
   ]
  },
  {
   "cell_type": "markdown",
   "metadata": {},
   "source": [
    "\n",
    "Again a solution using `print(..)` has been ruled out.  The value of\n",
    "\n",
    "```\n",
    "print(BC.sum())\n",
    "```\n",
    "\n",
    "is `None`."
   ]
  },
  {
   "cell_type": "markdown",
   "metadata": {},
   "source": [
    "# f.3\n",
    "\n",
    "Your final task is to write an expression that returns the rows of `features` that are not of target species 1, have sepal length greater than 4.7, and have petal width greater than 2.  It should use `BC`."
   ]
  },
  {
   "cell_type": "markdown",
   "metadata": {},
   "source": [
    "Solution:"
   ]
  },
  {
   "cell_type": "code",
   "execution_count": 225,
   "metadata": {},
   "outputs": [
    {
     "data": {
      "text/plain": [
       "array([[6.3, 3.3, 6. , 2.5],\n",
       "       [7.1, 3. , 5.9, 2.1],\n",
       "       [6.5, 3. , 5.8, 2.2],\n",
       "       [7.6, 3. , 6.6, 2.1],\n",
       "       [7.2, 3.6, 6.1, 2.5],\n",
       "       [6.8, 3. , 5.5, 2.1],\n",
       "       [5.8, 2.8, 5.1, 2.4],\n",
       "       [6.4, 3.2, 5.3, 2.3],\n",
       "       [7.7, 3.8, 6.7, 2.2],\n",
       "       [7.7, 2.6, 6.9, 2.3],\n",
       "       [6.9, 3.2, 5.7, 2.3],\n",
       "       [6.7, 3.3, 5.7, 2.1],\n",
       "       [6.4, 2.8, 5.6, 2.1],\n",
       "       [6.4, 2.8, 5.6, 2.2],\n",
       "       [7.7, 3. , 6.1, 2.3],\n",
       "       [6.3, 3.4, 5.6, 2.4],\n",
       "       [6.9, 3.1, 5.4, 2.1],\n",
       "       [6.7, 3.1, 5.6, 2.4],\n",
       "       [6.9, 3.1, 5.1, 2.3],\n",
       "       [6.8, 3.2, 5.9, 2.3],\n",
       "       [6.7, 3.3, 5.7, 2.5],\n",
       "       [6.7, 3. , 5.2, 2.3],\n",
       "       [6.2, 3.4, 5.4, 2.3]])"
      ]
     },
     "execution_count": 225,
     "metadata": {},
     "output_type": "execute_result"
    }
   ],
   "source": [
    "features[BC]"
   ]
  },
  {
   "cell_type": "markdown",
   "metadata": {},
   "source": [
    "Comment:\n",
    "\n",
    "As expected."
   ]
  },
  {
   "cell_type": "code",
   "execution_count": 236,
   "metadata": {},
   "outputs": [
    {
     "data": {
      "text/plain": [
       "23"
      ]
     },
     "execution_count": 236,
     "metadata": {},
     "output_type": "execute_result"
    }
   ],
   "source": [
    "len(features[BC])"
   ]
  },
  {
   "cell_type": "markdown",
   "metadata": {},
   "source": [
    "# f 4\n",
    "\n",
    "Write an expression that computes how many of the rows computed in `f3` have target species `0`. (In fact it's `0`,\n",
    "so your expression will have `0` as its value)."
   ]
  },
  {
   "cell_type": "markdown",
   "metadata": {},
   "source": [
    "Solution:"
   ]
  },
  {
   "cell_type": "code",
   "execution_count": null,
   "metadata": {},
   "outputs": [],
   "source": [
    "BC2 = ((features[:,0] > 4.7) & (target==0) & (features[:,3] > 2))\n",
    "BC2.sum()"
   ]
  },
  {
   "cell_type": "markdown",
   "metadata": {},
   "source": [
    "Comment:\n",
    "\n",
    "There are three classes so the rows that don't belong to species 1 are either species 0 or species 2.\n",
    "Apparently the sepal length and petal width measurements above rule out all irises of\n",
    "species 0."
   ]
  },
  {
   "cell_type": "code",
   "execution_count": 229,
   "metadata": {},
   "outputs": [
    {
     "data": {
      "text/plain": [
       "0"
      ]
     },
     "execution_count": 229,
     "metadata": {},
     "output_type": "execute_result"
    }
   ],
   "source": [
    "BC2.sum()"
   ]
  },
  {
   "cell_type": "markdown",
   "metadata": {},
   "source": [
    "# f 5\n"
   ]
  },
  {
   "cell_type": "markdown",
   "metadata": {},
   "source": [
    "Write another  expression that computes how many of the rows computed in `f3` have target value `2`. (In fact it's 23,\n",
    "so your expression will have `23` as its value)."
   ]
  },
  {
   "cell_type": "markdown",
   "metadata": {},
   "source": [
    "Solution:"
   ]
  },
  {
   "cell_type": "code",
   "execution_count": 230,
   "metadata": {},
   "outputs": [],
   "source": [
    "BC3 = ((features[:,0] > 4.7) & (target==2) & (features[:,3] > 2))\n",
    "BC3.sum()"
   ]
  },
  {
   "cell_type": "markdown",
   "metadata": {},
   "source": [
    "Comment:"
   ]
  },
  {
   "cell_type": "code",
   "execution_count": 231,
   "metadata": {},
   "outputs": [
    {
     "data": {
      "text/plain": [
       "23"
      ]
     },
     "execution_count": 231,
     "metadata": {},
     "output_type": "execute_result"
    }
   ],
   "source": [
    "BC3.sum()"
   ]
  },
  {
   "cell_type": "markdown",
   "metadata": {},
   "source": [
    "As expected, the sum of the species 0 and species 2 numbers equal the number we got when asked\n",
    "for all irises not of species 1."
   ]
  },
  {
   "cell_type": "code",
   "execution_count": null,
   "metadata": {},
   "outputs": [],
   "source": []
  }
 ],
 "metadata": {
  "kernelspec": {
   "display_name": "Python 3 (ipykernel)",
   "language": "python",
   "name": "python3"
  },
  "language_info": {
   "codemirror_mode": {
    "name": "ipython",
    "version": 3
   },
   "file_extension": ".py",
   "mimetype": "text/x-python",
   "name": "python",
   "nbconvert_exporter": "python",
   "pygments_lexer": "ipython3",
   "version": "3.10.6"
  },
  "toc": {
   "base_numbering": 1,
   "nav_menu": {
    "height": "103px",
    "width": "252px"
   },
   "number_sections": true,
   "sideBar": true,
   "skip_h1_title": false,
   "title_cell": "Table of Contents",
   "title_sidebar": "Contents",
   "toc_cell": false,
   "toc_position": {},
   "toc_section_display": "block",
   "toc_window_display": false
  }
 },
 "nbformat": 4,
 "nbformat_minor": 1
}
