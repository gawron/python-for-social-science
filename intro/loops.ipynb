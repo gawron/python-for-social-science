{
 "cells": [
  {
   "cell_type": "markdown",
   "metadata": {},
   "source": [
    "# Loops"
   ]
  },
  {
   "cell_type": "markdown",
   "metadata": {},
   "source": [
    "Albert Einstein is supposed to have once said:\n",
    "\"The definition of insanity is doing the same thing over \n",
    "and over again and expecting different results\".\n",
    "\n",
    "But a very important kind of computation works like this:  To\n",
    "compute `x`, do the same\n",
    "thing many times,  each time expecting\n",
    "a slightly different result. \n",
    "The last time, the result is `x`.\n",
    "This important -- in fact, indispensable  -- kind\n",
    "of computation is called **looping**. \n",
    "More formally, since it involves executing the same\n",
    "statements over and over again, it's called **iteration**\n",
    "or just iterating. \n",
    "Thus,  if Einstein has the definition right (and who's going to\n",
    "argue with Albert Einstein?), then computation \n",
    "is the height of insanity. (well, at least looping is, \n",
    "and looping is an indispensable part of computing many things)\n",
    "\n",
    "Now how does this work, if it does?  \n",
    "The answer is that in looping what we do\n",
    "has the effect of changing the computational context.  As a result, each time,\n",
    "the same action  has a different result,\n",
    "\n",
    "An example:  Consider adding together a sum of numbers. Let's call \n",
    "the first step *Step 0*.  Here's Step 0::\n",
    " "
   ]
  },
  {
   "cell_type": "code",
   "execution_count": 38,
   "metadata": {},
   "outputs": [],
   "source": [
    "x = 0\n",
    "L = [1,2,3,4]"
   ]
  },
  {
   "cell_type": "markdown",
   "metadata": {},
   "source": [
    "After Step 0, each step in the computation will look like this:"
   ]
  },
  {
   "cell_type": "code",
   "execution_count": 37,
   "metadata": {
    "collapsed": true
   },
   "outputs": [
    {
     "name": "stdout",
     "output_type": "stream",
     "text": [
      "10 []\n"
     ]
    },
    {
     "ename": "IndexError",
     "evalue": "list index out of range",
     "output_type": "error",
     "traceback": [
      "\u001b[0;31m---------------------------------------------------------------------------\u001b[0m",
      "\u001b[0;31mIndexError\u001b[0m                                Traceback (most recent call last)",
      "\u001b[0;32m<ipython-input-37-ab267d428f14>\u001b[0m in \u001b[0;36m<module>\u001b[0;34m()\u001b[0m\n\u001b[1;32m      1\u001b[0m \u001b[0mprint\u001b[0m\u001b[0;34m(\u001b[0m\u001b[0mx\u001b[0m\u001b[0;34m,\u001b[0m \u001b[0mL\u001b[0m\u001b[0;34m)\u001b[0m\u001b[0;34m\u001b[0m\u001b[0m\n\u001b[0;32m----> 2\u001b[0;31m \u001b[0mx\u001b[0m \u001b[0;34m=\u001b[0m \u001b[0mx\u001b[0m \u001b[0;34m+\u001b[0m \u001b[0mL\u001b[0m\u001b[0;34m[\u001b[0m\u001b[0;36m0\u001b[0m\u001b[0;34m]\u001b[0m\u001b[0;34m\u001b[0m\u001b[0m\n\u001b[0m\u001b[1;32m      3\u001b[0m \u001b[0mL\u001b[0m \u001b[0;34m=\u001b[0m \u001b[0mL\u001b[0m\u001b[0;34m[\u001b[0m\u001b[0;36m1\u001b[0m\u001b[0;34m:\u001b[0m\u001b[0;34m]\u001b[0m\u001b[0;34m\u001b[0m\u001b[0m\n",
      "\u001b[0;31mIndexError\u001b[0m: list index out of range"
     ]
    }
   ],
   "source": [
    "print(x, L)\n",
    "x = x + L[0]\n",
    "L = L[1:]"
   ]
  },
  {
   "cell_type": "markdown",
   "metadata": {},
   "source": [
    "The key idea is that each time we do this we change \n",
    "the value of `x` and `L`;  each\n",
    "time we add a number to `x` , the value of`x`\n",
    "changes.  Ultimately, the value of `x` will be the sum we\n",
    "want to compute.   We could write this as follows::"
   ]
  },
  {
   "cell_type": "markdown",
   "metadata": {},
   "source": [
    "```\n",
    "repeat:\n",
    "   x = x + L[0]\n",
    "   L = L[1:]\n",
    "```"
   ]
  },
  {
   "cell_type": "markdown",
   "metadata": {},
   "source": [
    "## While loops\n",
    "\n",
    "The example above used a block of code\n",
    "we could call a `repeat` block.  \n",
    "Python doesn't actually have a `repeat` block.  \n",
    "\n",
    "What Python has is a construction that implements repeating, but includes\n",
    "a condition telling us when to **stop**.  This is the idea\n",
    "of a `while` loop.  One way to write the computation\n",
    "above in standard Python is::"
   ]
  },
  {
   "cell_type": "code",
   "execution_count": 2,
   "metadata": {},
   "outputs": [],
   "source": [
    "x = 0\n",
    "L = [1,2,3,4]\n",
    "while len(L) > 0:\n",
    "      x = x + L[0]\n",
    "      L = L[1:]"
   ]
  },
  {
   "cell_type": "markdown",
   "metadata": {},
   "source": [
    "What follows the Python keyword `while` is\n",
    "a **test** (as in an `if` clause).  \n",
    "As long as that test succeeds, we keep\n",
    "looping. On each iteration, `L` necessarily\n",
    "gets smaller.  When `L` is empty, its length is 0,\n",
    "the test for re-entering the loop fails, and we stop.\n",
    "At that point, :samp:`x` has the value we want::"
   ]
  },
  {
   "cell_type": "code",
   "execution_count": 3,
   "metadata": {},
   "outputs": [
    {
     "data": {
      "text/plain": [
       "10"
      ]
     },
     "execution_count": 3,
     "metadata": {},
     "output_type": "execute_result"
    }
   ],
   "source": [
    "x    "
   ]
  },
  {
   "cell_type": "markdown",
   "metadata": {},
   "source": [
    "## For loops\n",
    "\n",
    "Next we introduce the kind of loop we will use most often:\n",
    "looping through a container using a `for` loop.\n",
    "\n",
    "Note that in order for the `while` loop used above to work,\n",
    "we had to keep re-setting the value of `L` to make\n",
    "`L` shorter.  But all  we were trying to do was to loop\n",
    "through the contents of a container, doing the same thing\n",
    "to each element.  Python provides a much more natural\n",
    "idiom for this, the `for` loop.  Using a `for`\n",
    "loop the example above becomes:"
   ]
  },
  {
   "cell_type": "code",
   "execution_count": null,
   "metadata": {},
   "outputs": [],
   "source": [
    "x = 0\n",
    "L = [1,2,3,4]\n",
    "for y in L:\n",
    "    x = x + y"
   ]
  },
  {
   "cell_type": "markdown",
   "metadata": {},
   "source": [
    "Here is another example that shows each step:"
   ]
  },
  {
   "cell_type": "code",
   "execution_count": null,
   "metadata": {},
   "outputs": [],
   "source": [
    "L = [3,2,1,4]\n",
    "for x in L:\n",
    "    print(x)"
   ]
  },
  {
   "cell_type": "markdown",
   "metadata": {},
   "source": [
    "So `x` is successively set to each member of the list, in the\n",
    "order in which they occur in the list, and each time its value is\n",
    "printed.  We call `x` the **loop variable**.   The rules for what can be a loop variable are the same\n",
    "as they are for variables in general.  All the names that\n",
    "can be variables can be loop variables.  And just\n",
    "as pairs of variables can occur on the left hand side of an\n",
    "assignment:"
   ]
  },
  {
   "cell_type": "code",
   "execution_count": null,
   "metadata": {},
   "outputs": [],
   "source": [
    "(x,y) = (2,3)"
   ]
  },
  {
   "cell_type": "markdown",
   "metadata": {},
   "source": [
    "So pairs of variables can be loop vars:"
   ]
  },
  {
   "cell_type": "code",
   "execution_count": null,
   "metadata": {},
   "outputs": [],
   "source": [
    "L = [('a',3),('b',2),('c',1),('d',4)]\n",
    "for (let,num) in L:\n",
    "    print(let, num)"
   ]
  },
  {
   "cell_type": "code",
   "execution_count": null,
   "metadata": {},
   "outputs": [],
   "source": [
    "The same principles works\n",
    "for all containers, lists, tuples, strings, sets.  For example:"
   ]
  },
  {
   "cell_type": "code",
   "execution_count": 5,
   "metadata": {
    "collapsed": true
   },
   "outputs": [
    {
     "name": "stdout",
     "output_type": "stream",
     "text": [
      "1\n",
      "2\n",
      "3\n",
      "4\n"
     ]
    }
   ],
   "source": [
    "S = set([3,2,1,4])\n",
    "for x in S:\n",
    "    print(x)"
   ]
  },
  {
   "cell_type": "markdown",
   "metadata": {},
   "source": [
    "Note that the order of the elements in the list used to construct\n",
    "`S` has no effect on how `S` is printed out.  In general, the order\n",
    "in which the elements of a set will be iterated through is\n",
    "unpredictable, and should not be relied on.       \n",
    "\n",
    "A `for` loop will also work with a dictionary, but in this\n",
    "case, the loop variable will be set to the keys of the dictionary.\n",
    "Again, this happens in no particular order:"
   ]
  },
  {
   "cell_type": "code",
   "execution_count": 8,
   "metadata": {
    "collapsed": true
   },
   "outputs": [
    {
     "name": "stdout",
     "output_type": "stream",
     "text": [
      "b\n",
      "a\n",
      "d\n",
      "c\n"
     ]
    }
   ],
   "source": [
    "dd = dict(b=0,a=1,d=2,c=3)\n",
    "for x in dd:\n",
    "    print(x)"
   ]
  },
  {
   "cell_type": "markdown",
   "metadata": {},
   "source": [
    "Note that this is consistent with how we use `in`\n",
    "as an operator in dictionaries:"
   ]
  },
  {
   "cell_type": "code",
   "execution_count": 10,
   "metadata": {
    "collapsed": true
   },
   "outputs": [
    {
     "data": {
      "text/plain": [
       "True"
      ]
     },
     "execution_count": 10,
     "metadata": {},
     "output_type": "execute_result"
    }
   ],
   "source": [
    "x in dd"
   ]
  },
  {
   "cell_type": "markdown",
   "metadata": {},
   "source": [
    "tests whether `x` is a key of `dd`."
   ]
  },
  {
   "cell_type": "markdown",
   "metadata": {},
   "source": [
    "## Filtering with for loops\n",
    "\n",
    "\n",
    "One of the basic uses of loops is to collect the elements of a list\n",
    "that satisfy some condition.  So we combine a Boolean test with a\n",
    "`for` loop.\n",
    "\n",
    "For example let's collect the positive numbers from a list of numbers::"
   ]
  },
  {
   "cell_type": "code",
   "execution_count": null,
   "metadata": {},
   "outputs": [],
   "source": [
    "nums = [0.3, -.15, 18, -7, 212.1, 0]\n",
    "result = []\n",
    "for x in nums:\n",
    "    if x > 0:\n",
    "       result.append(x)\n",
    "result"
   ]
  },
  {
   "cell_type": "markdown",
   "metadata": {},
   "source": [
    "## Nested loops\n",
    "\n",
    "One of the most important uses of loops is to consider\n",
    "all possible pairings of different sequences.\n",
    "\n",
    "Consider the following example, taken from\n",
    "[Peter Norvig's sudoku page.](<http://norvig.com/sudoku.html)\n",
    "The idea is to represent some facts about sudoku puzzles.\n",
    "These are Norvig's naming conventions for the\n",
    "81 squares in a sudoku puzzle"
   ]
  },
  {
   "cell_type": "code",
   "execution_count": 13,
   "metadata": {},
   "outputs": [],
   "source": [
    "rows     = 'ABCDEFGHI'  # top to bottom\n",
    "cols     = '123456789'  # left to right"
   ]
  },
  {
   "cell_type": "markdown",
   "metadata": {},
   "source": [
    "He names squares as follows::\n",
    "\n",
    "```\n",
    "   A1 A2 A3| A4 A5 A6| A7 A8 A9    \n",
    "   B1 B2 B3| B4 B5 B6| B7 B8 B9   \n",
    "   C1 C2 C3| C4 C5 C6| C7 C8 C9   \n",
    "  ---------+---------+---------   \n",
    "   D1 D2 D3| D4 D5 D6| D7 D8 D9   \n",
    "   E1 E2 E3| E4 E5 E6| E7 E8 E9   \n",
    "   F1 F2 F3| F4 F5 F6| F7 F8 F9   \n",
    "  ---------+---------+---------   \n",
    "   G1 G2 G3| G4 G5 G6| G7 G8 G9   \n",
    "   H1 H2 H3| H4 H5 H6| H7 H8 H9   \n",
    "   I1 I2 I3| I4 I5 I6| I7 I8 I9\n",
    "```\n",
    "\n",
    "Given these conventions, the set of possible\n",
    "squares is computed simply by pairing each\n",
    "of the rows with each of the columns.  This can \n",
    "be done with a double loop:"
   ]
  },
  {
   "cell_type": "code",
   "execution_count": null,
   "metadata": {},
   "outputs": [],
   "source": [
    "rows     = 'ABCDEFGHI'\n",
    "cols     = '123456789'\n",
    "squares = []\n",
    "for row in rows:\n",
    "    for col in cols:\n",
    "        squares.append( row + col)\n",
    "squares"
   ]
  },
  {
   "cell_type": "markdown",
   "metadata": {},
   "source": [
    "We return to Norvig's Sudoku code in future examples."
   ]
  },
  {
   "cell_type": "markdown",
   "metadata": {},
   "source": [
    "A better example of a while loop\n",
    "================================\n",
    "\n",
    "As we saw when we got to `for` loops, \n",
    "if what we're doing involves iterating through\n",
    "the contents of a container, a `for` loop\n",
    "is the right way to go.  But `while`\n",
    "loops remain indispensable.  They are the right\n",
    "tool when the number of times we have to iterate\n",
    "is governed by some logical condition.  Suppose we have\n",
    "a game in which the user picks a number between 0 and 100\n",
    "and the computer has to guess it. For each guess, the user\n",
    "must respond in one of three ways: either \"correct\"\n",
    "or \"higher\" or \"lower\".  The game ends only \n",
    "after a correct answer. Here is the code:"
   ]
  },
  {
   "cell_type": "code",
   "execution_count": 18,
   "metadata": {},
   "outputs": [
    {
     "data": {
      "text/plain": [
       "62"
      ]
     },
     "execution_count": 18,
     "metadata": {},
     "output_type": "execute_result"
    }
   ],
   "source": [
    "round(62.5)"
   ]
  },
  {
   "cell_type": "code",
   "execution_count": 20,
   "metadata": {
    "collapsed": true
   },
   "outputs": [
    {
     "name": "stdout",
     "output_type": "stream",
     "text": [
      "Is it 50?\n",
      "higher\n",
      "Is it 75?\n",
      "lower\n",
      "Is it 62?\n",
      "higher\n",
      "Is it 68?\n",
      "lower\n",
      "Is it 65?\n",
      "lower\n",
      "Is it 64?\n",
      "lower\n",
      "Is it 63?\n",
      "correct\n",
      "I won!\n"
     ]
    }
   ],
   "source": [
    "# Try 63 for a long game!\n",
    "correct = False\n",
    "low,high = (0,100)\n",
    "while not correct:\n",
    "       guess = round(low + (high - low)/2)\n",
    "       msg = f'Is it {guess}?\\n'\n",
    "       response = input(msg).lower()\n",
    "       if response.startswith('correct'):\n",
    "          print('I won!')\n",
    "          correct = True\n",
    "       elif response.startswith('lower'):\n",
    "          high = guess\n",
    "       elif response.startswith('higher'):\n",
    "          low = guess\n",
    "       else:\n",
    "          print('I dont understand your response. Let me try again.')"
   ]
  },
  {
   "cell_type": "markdown",
   "metadata": {},
   "source": [
    "Let's take this line by line:\n",
    "\n",
    "1) Set the `correct` variable to `False`, the value\n",
    "   that keeps the game going.  We will flip it to `True`\n",
    "   when the game is over.\n",
    "2) We keep track of the highest lower bound and the lowest upper bound\n",
    "   to keep the narrowing the range of possible guesses.  We start\n",
    "   with the initial conditions of the game: `low=0`, `high=100`.\n",
    "3) Enter the `while` if `correct` is `False`.\n",
    "4) Line 4 computes a guess that is half way between the\n",
    "   currently known low and high.\n",
    "5) Line 5 sets the variable :samp:`msg` to the string we print out to the user\n",
    "   announcing our guess.  \n",
    "6) The Python builtin `raw_input` prints out a message to the user\n",
    "   and returns the user's response, which is considered to\n",
    "   have ended when the user types :samp:`[Enter]`.\n",
    "7) The branches in the :samp:`if`-clause beginning on this line, check\n",
    "   that the response is valid and reset the low/high \n",
    "   boundaries appropriately.\n",
    "8) Crucially, in the case where the guess is correct, the\n",
    "   name :samp:`correct` is set to `True`, so that\n",
    "   the test for re-entering the loop fails; as desired since the game\n",
    "   is now over, the `while`-loop will be exited."
   ]
  },
  {
   "cell_type": "markdown",
   "metadata": {},
   "source": [
    "## Loop keywords: `continue` and `break`\n",
    "\n",
    "A common occurrence in looping through the contents of a container\n",
    "is that you only want to process a subset of the contents.  For\n",
    "example, you are searching for an element with a particular  property\n",
    "and you want to stop when you find it.  Or you want to skip\n",
    "elements with certain properties.  For cases like these,\n",
    "you :samp:`break` and :samp:`continue`, two Python keywords\n",
    "that are only useful inside loops.\n",
    "\n",
    "For example, suppose you have the following word list:"
   ]
  },
  {
   "cell_type": "code",
   "execution_count": 24,
   "metadata": {},
   "outputs": [],
   "source": [
    "word_list = ['flow','repent','arch','singing','applesauce', 'ring']"
   ]
  },
  {
   "cell_type": "markdown",
   "metadata": {},
   "source": [
    "and suppose you want to search through the list to find \n",
    "the first word that ends in \"ing\" and set the variable :samp:`result`\n",
    "to be that word.  The following code does the job::"
   ]
  },
  {
   "cell_type": "code",
   "execution_count": 25,
   "metadata": {
    "collapsed": true
   },
   "outputs": [
    {
     "data": {
      "text/plain": [
       "'singing'"
      ]
     },
     "execution_count": 25,
     "metadata": {},
     "output_type": "execute_result"
    }
   ],
   "source": [
    "for word in word_list:\n",
    "    if word.endswith(\"ing\"):\n",
    "       result = word\n",
    "       break\n",
    "result"
   ]
  },
  {
   "cell_type": "markdown",
   "metadata": {},
   "source": [
    "The assignment statement `result = word` sets the variable\n",
    "`result` to the word you want, so that you can access\n",
    "it outside the loop, and the `break` statement terminates\n",
    "the loop:"
   ]
  },
  {
   "cell_type": "markdown",
   "metadata": {},
   "source": [
    "If we omitted the `break` statement, how would\n",
    "this piece of code differ? Would the value\n",
    "of :samp:`result` necessarily be the same?:"
   ]
  },
  {
   "cell_type": "code",
   "execution_count": 26,
   "metadata": {
    "collapsed": true
   },
   "outputs": [
    {
     "data": {
      "text/plain": [
       "'ring'"
      ]
     },
     "execution_count": 26,
     "metadata": {},
     "output_type": "execute_result"
    }
   ],
   "source": [
    "for word in word_list:\n",
    "    if word.endswith(\"ing\"):\n",
    "       result = word\n",
    "result"
   ]
  },
  {
   "cell_type": "markdown",
   "metadata": {},
   "source": [
    "The answer is that the word stored in :samp:`result` would\n",
    "now be the **last** word in the list ending in \n",
    "\"ing\":\n",
    "\n",
    "Even if there is only one\n",
    "word ending in \"ing\", the second loop (lines 8-10)\n",
    "does unnecessary work, since all the words in\n",
    "the list are examined, even after a suitable word is found.\n",
    "\n",
    "The `continue` keyword is used for skipping elements in a container,\n",
    "while continuing the loop.  This key word is most useful\n",
    "when the conditions for skipping something are simple\n",
    "and the conditions for processing are complicated.\n",
    "Then use of a `continue` can make the code more\n",
    "readable.  For example, suppose we want to split\n",
    "a list into words beginning with letters in the first half of the alphabet\n",
    "and those beginning with letters in the second half,\n",
    "omitting capitalized words.  We're building two lists, then:"
   ]
  },
  {
   "cell_type": "code",
   "execution_count": null,
   "metadata": {},
   "outputs": [],
   "source": [
    "word_list = ['box','ring','Smith','fighting']\n",
    "first_half,second_half = ([],[])\n",
    "for word in word_list:\n",
    "    if word.istitle():\n",
    "       continue\n",
    "    if word[0] < 'm':\n",
    "       first_half.append(word)\n",
    "    else:\n",
    "       second_half.append(word)\n",
    "print(first_half)\n",
    "print(second_half)"
   ]
  },
  {
   "cell_type": "markdown",
   "metadata": {},
   "source": [
    "Notice the `<` operator is used here to implement\n",
    "alphabetizing.  Used on strings it refers to the most \n",
    "common way to order strings; used on numbers, it refers to\n",
    "the natural ordering of number.\n",
    "\n",
    "Note that both `continue` and `break` raise\n",
    "syntax errors if used outside a loop:"
   ]
  },
  {
   "cell_type": "code",
   "execution_count": 28,
   "metadata": {
    "collapsed": true
   },
   "outputs": [
    {
     "ename": "SyntaxError",
     "evalue": "'continue' not properly in loop (<ipython-input-28-6ca52a340915>, line 1)",
     "output_type": "error",
     "traceback": [
      "\u001b[0;36m  File \u001b[0;32m\"<ipython-input-28-6ca52a340915>\"\u001b[0;36m, line \u001b[0;32m1\u001b[0m\n\u001b[0;31m    continue\u001b[0m\n\u001b[0m            ^\u001b[0m\n\u001b[0;31mSyntaxError\u001b[0m\u001b[0;31m:\u001b[0m 'continue' not properly in loop\n"
     ]
    }
   ],
   "source": [
    "continue"
   ]
  }
 ],
 "metadata": {
  "kernelspec": {
   "display_name": "Python 3 (ipykernel)",
   "language": "python",
   "name": "python3"
  },
  "language_info": {
   "codemirror_mode": {
    "name": "ipython",
    "version": 3
   },
   "file_extension": ".py",
   "mimetype": "text/x-python",
   "name": "python",
   "nbconvert_exporter": "python",
   "pygments_lexer": "ipython3",
   "version": "3.10.6"
  },
  "toc": {
   "base_numbering": 1,
   "nav_menu": {},
   "number_sections": true,
   "sideBar": true,
   "skip_h1_title": false,
   "title_cell": "Table of Contents",
   "title_sidebar": "Contents",
   "toc_cell": false,
   "toc_position": {},
   "toc_section_display": true,
   "toc_window_display": false
  }
 },
 "nbformat": 4,
 "nbformat_minor": 2
}
