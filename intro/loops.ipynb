{
  "cells": [
    {
      "cell_type": "markdown",
      "metadata": {
        "id": "X8YEOZRvvidI"
      },
      "source": [
        "# Loops"
      ]
    },
    {
      "cell_type": "markdown",
      "metadata": {
        "id": "vWr_8a0QvidJ"
      },
      "source": [
        "Albert Einstein is supposed to have once said:\n",
        "\"The definition of insanity is doing the same thing over \n",
        "and over again and expecting different results\".\n",
        "\n",
        "But a very important kind of computation works like this:  To\n",
        "compute `x`, do the same\n",
        "thing many times,  each time expecting\n",
        "a slightly different result. \n",
        "The last time, the result is `x`.\n",
        "This important -- in fact, indispensable  -- kind\n",
        "of computation is called **looping**. \n",
        "More formally, since it involves executing the same\n",
        "statements over and over again, it's called **iteration**\n",
        "or just iterating. \n",
        "Thus,  if Einstein has the definition right (and who's going to\n",
        "argue with Albert Einstein?), then computation \n",
        "is the height of insanity. (well, at least looping is, \n",
        "and looping is an indispensable part of computing many things)\n",
        "\n",
        "Now how does this work, if it does?  \n",
        "The answer is that in looping what we do\n",
        "has the effect of changing the computational context.  As a result, each time,\n",
        "the same action  has a different result,\n",
        "\n",
        "An example:  Consider adding together a sum of numbers. Let's call \n",
        "the first step *Step 0*.  Here's Step 0::\n",
        " "
      ]
    },
    {
      "cell_type": "code",
      "execution_count": 1,
      "metadata": {
        "id": "sr-WJ49PvidK"
      },
      "outputs": [],
      "source": [
        "x = 0\n",
        "L = [1,2,3,4]"
      ]
    },
    {
      "cell_type": "markdown",
      "metadata": {
        "id": "EplbTHHzvidL"
      },
      "source": [
        "After Step 0, each step in the computation will look like this:"
      ]
    },
    {
      "cell_type": "code",
      "execution_count": 2,
      "metadata": {
        "collapsed": true,
        "id": "0-9VlXwSvidL",
        "outputId": "7ab0e00d-b3da-45ed-f987-aaee34eb00dd",
        "colab": {
          "base_uri": "https://localhost:8080/"
        }
      },
      "outputs": [
        {
          "output_type": "stream",
          "name": "stdout",
          "text": [
            "0 [1, 2, 3, 4]\n"
          ]
        }
      ],
      "source": [
        "print(x, L)\n",
        "x = x + L[0]\n",
        "L = L[1:]"
      ]
    },
    {
      "cell_type": "code",
      "source": [
        "print(x, L)\n",
        "x = x + L[0]\n",
        "L = L[1:]"
      ],
      "metadata": {
        "id": "6RpdgMCPvqaq",
        "outputId": "cdf54838-ffda-4343-d397-b9842e770128",
        "colab": {
          "base_uri": "https://localhost:8080/"
        }
      },
      "execution_count": 3,
      "outputs": [
        {
          "output_type": "stream",
          "name": "stdout",
          "text": [
            "1 [2, 3, 4]\n"
          ]
        }
      ]
    },
    {
      "cell_type": "code",
      "source": [
        "print(x, L)\n",
        "x = x + L[0]\n",
        "L = L[1:]"
      ],
      "metadata": {
        "id": "WMMF78pqvqTF",
        "outputId": "f361de70-10da-4bf3-aa40-bd6b7bfc41b7",
        "colab": {
          "base_uri": "https://localhost:8080/"
        }
      },
      "execution_count": 4,
      "outputs": [
        {
          "output_type": "stream",
          "name": "stdout",
          "text": [
            "3 [3, 4]\n"
          ]
        }
      ]
    },
    {
      "cell_type": "code",
      "source": [
        "print(x, L)\n",
        "x = x + L[0]\n",
        "L = L[1:]"
      ],
      "metadata": {
        "id": "tU3C3PnlvqK9",
        "outputId": "1057b03d-9707-43cc-9e04-7d683bc6ebeb",
        "colab": {
          "base_uri": "https://localhost:8080/"
        }
      },
      "execution_count": 5,
      "outputs": [
        {
          "output_type": "stream",
          "name": "stdout",
          "text": [
            "6 [4]\n"
          ]
        }
      ]
    },
    {
      "cell_type": "code",
      "source": [
        "print(x, L)\n",
        "x = x + L[0]\n",
        "L = L[1:]"
      ],
      "metadata": {
        "id": "eHzATsaEv6mR",
        "outputId": "a920b3aa-53c9-40c2-e402-fc13575aa377",
        "colab": {
          "base_uri": "https://localhost:8080/",
          "height": 222
        }
      },
      "execution_count": 6,
      "outputs": [
        {
          "output_type": "stream",
          "name": "stdout",
          "text": [
            "10 []\n"
          ]
        },
        {
          "output_type": "error",
          "ename": "IndexError",
          "evalue": "ignored",
          "traceback": [
            "\u001b[0;31m---------------------------------------------------------------------------\u001b[0m",
            "\u001b[0;31mIndexError\u001b[0m                                Traceback (most recent call last)",
            "\u001b[0;32m<ipython-input-6-ab267d428f14>\u001b[0m in \u001b[0;36m<module>\u001b[0;34m\u001b[0m\n\u001b[1;32m      1\u001b[0m \u001b[0mprint\u001b[0m\u001b[0;34m(\u001b[0m\u001b[0mx\u001b[0m\u001b[0;34m,\u001b[0m \u001b[0mL\u001b[0m\u001b[0;34m)\u001b[0m\u001b[0;34m\u001b[0m\u001b[0;34m\u001b[0m\u001b[0m\n\u001b[0;32m----> 2\u001b[0;31m \u001b[0mx\u001b[0m \u001b[0;34m=\u001b[0m \u001b[0mx\u001b[0m \u001b[0;34m+\u001b[0m \u001b[0mL\u001b[0m\u001b[0;34m[\u001b[0m\u001b[0;36m0\u001b[0m\u001b[0;34m]\u001b[0m\u001b[0;34m\u001b[0m\u001b[0;34m\u001b[0m\u001b[0m\n\u001b[0m\u001b[1;32m      3\u001b[0m \u001b[0mL\u001b[0m \u001b[0;34m=\u001b[0m \u001b[0mL\u001b[0m\u001b[0;34m[\u001b[0m\u001b[0;36m1\u001b[0m\u001b[0;34m:\u001b[0m\u001b[0;34m]\u001b[0m\u001b[0;34m\u001b[0m\u001b[0;34m\u001b[0m\u001b[0m\n",
            "\u001b[0;31mIndexError\u001b[0m: list index out of range"
          ]
        }
      ]
    },
    {
      "cell_type": "markdown",
      "metadata": {
        "id": "dS0oNHj0vidL"
      },
      "source": [
        "The key idea is that each time we do this we change \n",
        "the value of `x` and `L`;  each\n",
        "time we add a number to `x` , the value of`x`\n",
        "changes.  Ultimately, the value of `x` will be the sum we\n",
        "want to compute.   We could write this as follows::"
      ]
    },
    {
      "cell_type": "markdown",
      "metadata": {
        "id": "IoUrQJZIvidM"
      },
      "source": [
        "```\n",
        "repeat:\n",
        "   x = x + L[0]\n",
        "   L = L[1:]\n",
        "```"
      ]
    },
    {
      "cell_type": "markdown",
      "metadata": {
        "id": "kgEmrfnmvidM"
      },
      "source": [
        "## While loops\n",
        "\n",
        "The example above used a block of code\n",
        "we could call a `repeat` block.  \n",
        "Python doesn't actually have a `repeat` block.  \n",
        "\n",
        "What Python has is a construction that implements repeating, but includes\n",
        "a condition telling us when to **stop**.  This is the idea\n",
        "of a `while` loop.  One way to write the computation\n",
        "above in standard Python is::"
      ]
    },
    {
      "cell_type": "code",
      "execution_count": null,
      "metadata": {
        "id": "a_zZKFmAvidM"
      },
      "outputs": [],
      "source": [
        "x = 0\n",
        "L = [1,2,3,4]\n",
        "while len(L) > 0:\n",
        "      x = x + L[0]\n",
        "      L = L[1:]"
      ]
    },
    {
      "cell_type": "markdown",
      "metadata": {
        "id": "0Snyn694vidM"
      },
      "source": [
        "What follows the Python keyword `while` is\n",
        "a **test** (as in an `if` clause).  \n",
        "As long as that test succeeds, we keep\n",
        "looping. On each iteration, `L` necessarily\n",
        "gets smaller.  When `L` is empty, its length is 0,\n",
        "the test for re-entering the loop fails, and we stop.\n",
        "At that point, :samp:`x` has the value we want::"
      ]
    },
    {
      "cell_type": "code",
      "execution_count": null,
      "metadata": {
        "id": "bAE3zw14vidM",
        "outputId": "af30e7fe-591d-49f5-8618-3249f70dc29e"
      },
      "outputs": [
        {
          "data": {
            "text/plain": [
              "10"
            ]
          },
          "execution_count": 3,
          "metadata": {},
          "output_type": "execute_result"
        }
      ],
      "source": [
        "x    "
      ]
    },
    {
      "cell_type": "markdown",
      "metadata": {
        "id": "aLDrzWfpvidM"
      },
      "source": [
        "## For loops\n",
        "\n",
        "Next we introduce the kind of loop we will use most often:\n",
        "looping through a container using a `for` loop.\n",
        "\n",
        "Note that in order for the `while` loop used above to work,\n",
        "we had to keep re-setting the value of `L` to make\n",
        "`L` shorter.  But all  we were trying to do was to loop\n",
        "through the contents of a container, doing the same thing\n",
        "to each element.  Python provides a much more natural\n",
        "idiom for this, the `for` loop.  Using a `for`\n",
        "loop the example above becomes:"
      ]
    },
    {
      "cell_type": "code",
      "execution_count": null,
      "metadata": {
        "id": "PT1xYH0dvidN"
      },
      "outputs": [],
      "source": [
        "x = 0\n",
        "L = [1,2,3,4]\n",
        "for y in L:\n",
        "    x = x + y"
      ]
    },
    {
      "cell_type": "markdown",
      "metadata": {
        "id": "_HAzmWchvidN"
      },
      "source": [
        "Here is another example that shows each step:"
      ]
    },
    {
      "cell_type": "code",
      "execution_count": null,
      "metadata": {
        "id": "BwmaFXq5vidN"
      },
      "outputs": [],
      "source": [
        "L = [3,2,1,4]\n",
        "for x in L:\n",
        "    print(x)"
      ]
    },
    {
      "cell_type": "markdown",
      "metadata": {
        "id": "JkqEHJOMvidN"
      },
      "source": [
        "So `x` is successively set to each member of the list, in the\n",
        "order in which they occur in the list, and each time its value is\n",
        "printed.  We call `x` the **loop variable**.   The rules for what can be a loop variable are the same\n",
        "as they are for variables in general.  All the names that\n",
        "can be variables can be loop variables.  And just\n",
        "as pairs of variables can occur on the left hand side of an\n",
        "assignment:"
      ]
    },
    {
      "cell_type": "code",
      "execution_count": null,
      "metadata": {
        "id": "YarghwetvidN"
      },
      "outputs": [],
      "source": [
        "(x,y) = (2,3)"
      ]
    },
    {
      "cell_type": "markdown",
      "metadata": {
        "id": "bINc1NeKvidN"
      },
      "source": [
        "So pairs of variables can be loop vars:"
      ]
    },
    {
      "cell_type": "code",
      "execution_count": null,
      "metadata": {
        "id": "Vai0naUnvidN"
      },
      "outputs": [],
      "source": [
        "L = [('a',3),('b',2),('c',1),('d',4)]\n",
        "for (let,num) in L:\n",
        "    print(let, num)"
      ]
    },
    {
      "cell_type": "markdown",
      "source": [
        "The same principles works\n",
        "for all containers, lists, tuples, strings, sets.  For example:"
      ],
      "metadata": {
        "id": "J075K62FxAe6"
      }
    },
    {
      "cell_type": "code",
      "execution_count": null,
      "metadata": {
        "collapsed": true,
        "id": "dh3SAHkCvidN",
        "outputId": "b93dc489-ecb6-43a7-e3de-5d226a10f8ab"
      },
      "outputs": [
        {
          "name": "stdout",
          "output_type": "stream",
          "text": [
            "1\n",
            "2\n",
            "3\n",
            "4\n"
          ]
        }
      ],
      "source": [
        "S = set([3,2,1,4])\n",
        "for x in S:\n",
        "    print(x)"
      ]
    },
    {
      "cell_type": "markdown",
      "metadata": {
        "id": "-nmJ8WyTvidN"
      },
      "source": [
        "Note that the order of the elements in the list used to construct\n",
        "`S` has no effect on how `S` is printed out.  In general, the order\n",
        "in which the elements of a set will be iterated through is\n",
        "unpredictable, and should not be relied on.       \n",
        "\n",
        "A `for` loop will also work with a dictionary, but in this\n",
        "case, the loop variable will be set to the keys of the dictionary.\n",
        "Again, this happens in no particular order:"
      ]
    },
    {
      "cell_type": "code",
      "execution_count": null,
      "metadata": {
        "id": "I8FzAbc5vidN",
        "outputId": "d51b2e92-0b08-476e-a223-e68a1e787ff2"
      },
      "outputs": [
        {
          "name": "stdout",
          "output_type": "stream",
          "text": [
            "b\n",
            "a\n",
            "d\n",
            "c\n"
          ]
        }
      ],
      "source": [
        "dd = dict(b=0,a=1,d=2,c=3)\n",
        "for x in dd:\n",
        "    print(x)"
      ]
    },
    {
      "cell_type": "markdown",
      "metadata": {
        "id": "Rgp3TJBCvidN"
      },
      "source": [
        "Note that this is consistent with how we use `in`\n",
        "as an operator in dictionaries:"
      ]
    },
    {
      "cell_type": "code",
      "execution_count": null,
      "metadata": {
        "id": "LOSapoMividO",
        "outputId": "404faa36-d348-4ce9-99b2-07f9a205853c"
      },
      "outputs": [
        {
          "data": {
            "text/plain": [
              "True"
            ]
          },
          "execution_count": 10,
          "metadata": {},
          "output_type": "execute_result"
        }
      ],
      "source": [
        "x in dd"
      ]
    },
    {
      "cell_type": "markdown",
      "metadata": {
        "id": "5HRul229vidO"
      },
      "source": [
        "tests whether `x` is a key of `dd`."
      ]
    },
    {
      "cell_type": "markdown",
      "source": [
        "#### List comprehensions"
      ],
      "metadata": {
        "id": "NLqrm60exfoU"
      }
    },
    {
      "cell_type": "markdown",
      "source": [
        "Sometimes we loop top create a list of results.  For example we might want to loop through a container to build up another container."
      ],
      "metadata": {
        "id": "tMvWH_s8xiiK"
      }
    },
    {
      "cell_type": "code",
      "source": [
        "L = [1,2,3,4]\n",
        "L2 = []\n",
        "for x in L:\n",
        "  L2.append(2*x)\n",
        "L2"
      ],
      "metadata": {
        "id": "n4kbA42bxu7u",
        "outputId": "2a9b5c19-0535-48e8-ee56-e2c34db65954",
        "colab": {
          "base_uri": "https://localhost:8080/"
        }
      },
      "execution_count": 7,
      "outputs": [
        {
          "output_type": "execute_result",
          "data": {
            "text/plain": [
              "[2, 4, 6, 8]"
            ]
          },
          "metadata": {},
          "execution_count": 7
        }
      ]
    },
    {
      "cell_type": "markdown",
      "source": [
        "This kind of operation is so frequent and so important that\n",
        "Python has created a special idiom for it\n",
        "called a **list comprehension**."
      ],
      "metadata": {
        "id": "CvSsfMo9yB8J"
      }
    },
    {
      "cell_type": "code",
      "source": [
        "# Doubling every element in a list using a list comprehension\n",
        "L2 = [2*x for x in L]\n",
        "L2"
      ],
      "metadata": {
        "id": "52jOJBLnx7uJ"
      },
      "execution_count": null,
      "outputs": []
    },
    {
      "cell_type": "markdown",
      "source": [
        "What do you think the following cell will produce"
      ],
      "metadata": {
        "id": "qBA3JynaygFA"
      }
    },
    {
      "cell_type": "code",
      "source": [
        "L = ['a','b','c','d']\n",
        "L2 = [x.upper() for x in L]\n",
        "L2"
      ],
      "metadata": {
        "id": "MHHlcQvlyWIG"
      },
      "execution_count": null,
      "outputs": []
    },
    {
      "cell_type": "markdown",
      "source": [
        "What about the following?\n",
        "\n",
        "If you think 2*'b' is an error, try it first."
      ],
      "metadata": {
        "id": "fZjKvkHxyxXz"
      }
    },
    {
      "cell_type": "code",
      "source": [
        "L = ['a','b','c','d']\n",
        "L2 = [2*x for x in L]\n",
        "L2\n"
      ],
      "metadata": {
        "id": "imFLubJAyrFA",
        "outputId": "dd634012-4ffd-44bd-9c08-3a4398659f5f",
        "colab": {
          "base_uri": "https://localhost:8080/"
        }
      },
      "execution_count": 8,
      "outputs": [
        {
          "output_type": "execute_result",
          "data": {
            "text/plain": [
              "['aa', 'bb', 'cc', 'dd']"
            ]
          },
          "metadata": {},
          "execution_count": 8
        }
      ]
    },
    {
      "cell_type": "markdown",
      "metadata": {
        "id": "PKSfcozdvidO"
      },
      "source": [
        "#### Counting/Indexing operations\n",
        "\n",
        "While looping it can be useful to keep count of how many times you've looped. This can be done in several ways.  You can\n",
        "\n",
        "1.  Keep a counter variable and update it appropriately in the code.\n",
        "2.  Loop through a numerical range using `range`.  This is useful when you know the number of iterations in advance, such as when you're looping through the elements of a container.\n",
        "3.  You can use `enumerate`; this explicitly returns a pair of an index and the iterator value on this iteration."
      ]
    },
    {
      "cell_type": "code",
      "execution_count": null,
      "metadata": {
        "id": "wh9ktWT_vidO",
        "outputId": "4337e305-ff52-4220-f5de-df33c8891dbc"
      },
      "outputs": [
        {
          "name": "stdout",
          "output_type": "stream",
          "text": [
            "abcdefghij\n",
            "\n",
            "0 a\n",
            "1 b\n",
            "2 c\n",
            "3 d\n",
            "4 e\n",
            "5 f\n",
            "6 g\n",
            "7 h\n",
            "8 i\n",
            "9 j\n",
            "\n",
            " xxxxxxxxxxxxxxxxxxxxxxxxx\n",
            "\n",
            "0 a\n",
            "1 b\n",
            "2 c\n",
            "3 d\n",
            "4 e\n",
            "5 f\n",
            "6 g\n",
            "7 h\n",
            "8 i\n",
            "9 j\n",
            "\n",
            " xxxxxxxxxxxxxxxxxxxxxxxxx\n",
            "\n",
            "0 a\n",
            "1 b\n",
            "2 c\n",
            "3 d\n",
            "4 e\n",
            "5 f\n",
            "6 g\n",
            "7 h\n",
            "8 i\n",
            "9 j\n"
          ]
        }
      ],
      "source": [
        "alph= 'abcdefghij'\n",
        "print(alph,end=\"\\n\\n\")\n",
        "\n",
        "###Version 1\n",
        "i=0            #Keep a Counter\n",
        "for x in alph:\n",
        "    print(i,x)\n",
        "    i+=1\n",
        "    \n",
        "print('\\n','x'*25,end=\"\\n\\n\")\n",
        "\n",
        "## Version 2\n",
        "for i in range(len(alph)):   ## Loop through a range\n",
        "    print(i,L[i])\n",
        "    \n",
        "print('\\n','x'*25,end=\"\\n\\n\")\n",
        "\n",
        "## Version 3\n",
        "for (i,x) in enumerate(alph):    ## Use enumerate\n",
        "    print(i,x)\n",
        "    \n"
      ]
    },
    {
      "cell_type": "markdown",
      "metadata": {
        "id": "1hrMEft9vidO"
      },
      "source": [
        "## Filtering with for loops\n",
        "\n",
        "\n",
        "One of the basic uses of loops is to collect the elements of a list\n",
        "that satisfy some condition.  So we combine a Boolean test with a\n",
        "`for` loop.\n",
        "\n",
        "For example let's collect the positive numbers from a list of numbers::"
      ]
    },
    {
      "cell_type": "code",
      "execution_count": null,
      "metadata": {
        "id": "pDQvTE98vidO"
      },
      "outputs": [],
      "source": [
        "nums = [0.3, -.15, 18, -7, 212.1, 0]\n",
        "result = []\n",
        "for x in nums:\n",
        "    if x > 0:\n",
        "       result.append(x)\n",
        "result"
      ]
    },
    {
      "cell_type": "markdown",
      "metadata": {
        "id": "jHzKEkPAvidO"
      },
      "source": [
        "## Nested loops\n",
        "\n",
        "One of the most important uses of loops is to consider\n",
        "all possible pairings of different sequences.\n",
        "\n",
        "Consider the following example, taken from\n",
        "[Peter Norvig's sudoku page.](<http://norvig.com/sudoku.html)\n",
        "The idea is to represent some facts about sudoku puzzles.\n",
        "These are Norvig's naming conventions for the\n",
        "81 squares in a sudoku puzzle"
      ]
    },
    {
      "cell_type": "code",
      "execution_count": null,
      "metadata": {
        "id": "uCu1CVYAvidO"
      },
      "outputs": [],
      "source": [
        "rows     = 'ABCDEFGHI'  # top to bottom\n",
        "cols     = '123456789'  # left to right"
      ]
    },
    {
      "cell_type": "markdown",
      "metadata": {
        "id": "Gs9LVDMRvidO"
      },
      "source": [
        "He names squares as follows::\n",
        "\n",
        "```\n",
        "   A1 A2 A3| A4 A5 A6| A7 A8 A9    \n",
        "   B1 B2 B3| B4 B5 B6| B7 B8 B9   \n",
        "   C1 C2 C3| C4 C5 C6| C7 C8 C9   \n",
        "  ---------+---------+---------   \n",
        "   D1 D2 D3| D4 D5 D6| D7 D8 D9   \n",
        "   E1 E2 E3| E4 E5 E6| E7 E8 E9   \n",
        "   F1 F2 F3| F4 F5 F6| F7 F8 F9   \n",
        "  ---------+---------+---------   \n",
        "   G1 G2 G3| G4 G5 G6| G7 G8 G9   \n",
        "   H1 H2 H3| H4 H5 H6| H7 H8 H9   \n",
        "   I1 I2 I3| I4 I5 I6| I7 I8 I9\n",
        "```\n",
        "\n",
        "Given these conventions, the set of possible\n",
        "squares is computed simply by pairing each\n",
        "of the rows with each of the columns.  This can \n",
        "be done with a double loop:"
      ]
    },
    {
      "cell_type": "code",
      "execution_count": null,
      "metadata": {
        "id": "L-1FJRuavidO"
      },
      "outputs": [],
      "source": [
        "rows     = 'ABCDEFGHI'\n",
        "cols     = '123456789'\n",
        "squares = []\n",
        "for row in rows:\n",
        "    for col in cols:\n",
        "        squares.append( row + col)\n",
        "squares"
      ]
    },
    {
      "cell_type": "markdown",
      "metadata": {
        "id": "tMz1aT-bvidO"
      },
      "source": [
        "We return to Norvig's Sudoku code in future examples."
      ]
    },
    {
      "cell_type": "markdown",
      "metadata": {
        "id": "zk6WyW48vidO"
      },
      "source": [
        "A better example of a while loop\n",
        "================================\n",
        "\n",
        "As we saw when we got to `for` loops, \n",
        "if what we're doing involves iterating through\n",
        "the contents of a container, a `for` loop\n",
        "is the right way to go.  But `while`\n",
        "loops remain indispensable.  They are the right\n",
        "tool when the number of times we have to iterate\n",
        "is governed by some logical condition.  Suppose we have\n",
        "a game in which the user picks a number between 0 and 100\n",
        "and the computer has to guess it. For each guess, the user\n",
        "must respond in one of three ways: either \"correct\"\n",
        "or \"higher\" or \"lower\".  The game ends only \n",
        "after a correct answer. Here is the code:"
      ]
    },
    {
      "cell_type": "code",
      "execution_count": null,
      "metadata": {
        "id": "Hb-PhsqTvidO",
        "outputId": "64629f7c-9080-4413-afc4-9d1bed955a3a"
      },
      "outputs": [
        {
          "data": {
            "text/plain": [
              "62"
            ]
          },
          "execution_count": 18,
          "metadata": {},
          "output_type": "execute_result"
        }
      ],
      "source": [
        "round(62.5)"
      ]
    },
    {
      "cell_type": "code",
      "execution_count": null,
      "metadata": {
        "collapsed": true,
        "id": "SfGmjd9SvidO",
        "outputId": "61b7a8e8-5897-4260-eeb1-e3867b11d58c"
      },
      "outputs": [
        {
          "name": "stdout",
          "output_type": "stream",
          "text": [
            "Is it 50?\n",
            "higher\n",
            "Is it 75?\n",
            "lower\n",
            "Is it 62?\n",
            "higher\n",
            "Is it 68?\n",
            "lower\n",
            "Is it 65?\n",
            "lower\n",
            "Is it 64?\n",
            "lower\n",
            "Is it 63?\n",
            "correct\n",
            "I won!\n"
          ]
        }
      ],
      "source": [
        "# Try 63 for a long game!\n",
        "correct = False\n",
        "low,high = (0,100)\n",
        "while not correct:\n",
        "       guess = round(low + (high - low)/2)\n",
        "       msg = f'Is it {guess}?\\n'\n",
        "       response = input(msg).lower()\n",
        "       if response.startswith('correct'):\n",
        "          print('I won!')\n",
        "          correct = True\n",
        "       elif response.startswith('lower'):\n",
        "          high = guess\n",
        "       elif response.startswith('higher'):\n",
        "          low = guess\n",
        "       else:\n",
        "          print('I dont understand your response. Let me try again.')"
      ]
    },
    {
      "cell_type": "markdown",
      "metadata": {
        "id": "7nYKuXWvvidO"
      },
      "source": [
        "Let's take this line by line:\n",
        "\n",
        "1) Set the `correct` variable to `False`, the value\n",
        "   that keeps the game going.  We will flip it to `True`\n",
        "   when the game is over.\n",
        "2) We keep track of the highest lower bound and the lowest upper bound\n",
        "   to keep the narrowing the range of possible guesses.  We start\n",
        "   with the initial conditions of the game: `low=0`, `high=100`.\n",
        "3) Enter the `while` if `correct` is `False`.\n",
        "4) Line 4 computes a guess that is half way between the\n",
        "   currently known low and high.\n",
        "5) Line 5 sets the variable :samp:`msg` to the string we print out to the user\n",
        "   announcing our guess.  \n",
        "6) The Python builtin `raw_input` prints out a message to the user\n",
        "   and returns the user's response, which is considered to\n",
        "   have ended when the user types :samp:`[Enter]`.\n",
        "7) The branches in the :samp:`if`-clause beginning on this line, check\n",
        "   that the response is valid and reset the low/high \n",
        "   boundaries appropriately.\n",
        "8) Crucially, in the case where the guess is correct, the\n",
        "   name :samp:`correct` is set to `True`, so that\n",
        "   the test for re-entering the loop fails; as desired since the game\n",
        "   is now over, the `while`-loop will be exited."
      ]
    },
    {
      "cell_type": "markdown",
      "metadata": {
        "id": "elNAkpGwvidP"
      },
      "source": [
        "## Loop keywords: `continue` and `break`\n",
        "\n",
        "A common occurrence in looping through the contents of a container\n",
        "is that you only want to process a subset of the contents.  For\n",
        "example, you are searching for an element with a particular  property\n",
        "and you want to stop when you find it.  Or you want to skip\n",
        "elements with certain properties.  For cases like these,\n",
        "you :samp:`break` and :samp:`continue`, two Python keywords\n",
        "that are only useful inside loops.\n",
        "\n",
        "For example, suppose you have the following word list:"
      ]
    },
    {
      "cell_type": "code",
      "execution_count": null,
      "metadata": {
        "id": "1vf_hQBtvidP"
      },
      "outputs": [],
      "source": [
        "word_list = ['flow','repent','arch','singing','applesauce', 'ring']"
      ]
    },
    {
      "cell_type": "markdown",
      "metadata": {
        "id": "Qb3qZSx3vidP"
      },
      "source": [
        "and suppose you want to search through the list to find \n",
        "the first word that ends in \"ing\" and set the variable :samp:`result`\n",
        "to be that word.  The following code does the job::"
      ]
    },
    {
      "cell_type": "code",
      "execution_count": null,
      "metadata": {
        "collapsed": true,
        "id": "VODC4IxYvidP",
        "outputId": "98612bb4-7df0-435b-bbb6-e3094a559103"
      },
      "outputs": [
        {
          "data": {
            "text/plain": [
              "'singing'"
            ]
          },
          "execution_count": 25,
          "metadata": {},
          "output_type": "execute_result"
        }
      ],
      "source": [
        "for word in word_list:\n",
        "    if word.endswith(\"ing\"):\n",
        "       result = word\n",
        "       break\n",
        "result"
      ]
    },
    {
      "cell_type": "markdown",
      "metadata": {
        "id": "kk4Ghnw1vidP"
      },
      "source": [
        "The assignment statement `result = word` sets the variable\n",
        "`result` to the word you want, so that you can access\n",
        "it outside the loop, and the `break` statement terminates\n",
        "the loop:"
      ]
    },
    {
      "cell_type": "markdown",
      "metadata": {
        "id": "mQGUwV-BvidP"
      },
      "source": [
        "If we omitted the `break` statement, how would\n",
        "this piece of code differ? Would the value\n",
        "of :samp:`result` necessarily be the same?:"
      ]
    },
    {
      "cell_type": "code",
      "execution_count": null,
      "metadata": {
        "collapsed": true,
        "id": "5vZ73R0svidP",
        "outputId": "a61bc2d3-5ea1-4c79-a269-5a1dc05163a0"
      },
      "outputs": [
        {
          "data": {
            "text/plain": [
              "'ring'"
            ]
          },
          "execution_count": 26,
          "metadata": {},
          "output_type": "execute_result"
        }
      ],
      "source": [
        "for word in word_list:\n",
        "    if word.endswith(\"ing\"):\n",
        "       result = word\n",
        "result"
      ]
    },
    {
      "cell_type": "markdown",
      "metadata": {
        "id": "MYGnX4VhvidP"
      },
      "source": [
        "The answer is that the word stored in :samp:`result` would\n",
        "now be the **last** word in the list ending in \n",
        "\"ing\":\n",
        "\n",
        "Even if there is only one\n",
        "word ending in \"ing\", the second loop (lines 8-10)\n",
        "does unnecessary work, since all the words in\n",
        "the list are examined, even after a suitable word is found.\n",
        "\n",
        "The `continue` keyword is used for skipping elements in a container,\n",
        "while continuing the loop.  This key word is most useful\n",
        "when the conditions for skipping something are simple\n",
        "and the conditions for processing are complicated.\n",
        "Then use of a `continue` can make the code more\n",
        "readable.  For example, suppose we want to split\n",
        "a list into words beginning with letters in the first half of the alphabet\n",
        "and those beginning with letters in the second half,\n",
        "omitting capitalized words.  We're building two lists, then:"
      ]
    },
    {
      "cell_type": "code",
      "execution_count": null,
      "metadata": {
        "id": "sYZqTKkEvidP"
      },
      "outputs": [],
      "source": [
        "word_list = ['box','ring','Smith','fighting']\n",
        "first_half,second_half = ([],[])\n",
        "for word in word_list:\n",
        "    if word.istitle():\n",
        "       continue\n",
        "    if word[0] < 'm':\n",
        "       first_half.append(word)\n",
        "    else:\n",
        "       second_half.append(word)\n",
        "print(first_half)\n",
        "print(second_half)"
      ]
    },
    {
      "cell_type": "markdown",
      "metadata": {
        "id": "yjljBrbBvidP"
      },
      "source": [
        "Notice the `<` operator is used here to implement\n",
        "alphabetizing.  Used on strings it refers to the most \n",
        "common way to order strings; used on numbers, it refers to\n",
        "the natural ordering of number.\n",
        "\n",
        "Note that both `continue` and `break` raise\n",
        "syntax errors if used outside a loop:"
      ]
    },
    {
      "cell_type": "code",
      "execution_count": null,
      "metadata": {
        "collapsed": true,
        "id": "-tlFR2RividP",
        "outputId": "c230d3a4-20e4-4f85-ec6d-b620f58c4598"
      },
      "outputs": [
        {
          "ename": "SyntaxError",
          "evalue": "'continue' not properly in loop (<ipython-input-28-6ca52a340915>, line 1)",
          "output_type": "error",
          "traceback": [
            "\u001b[0;36m  File \u001b[0;32m\"<ipython-input-28-6ca52a340915>\"\u001b[0;36m, line \u001b[0;32m1\u001b[0m\n\u001b[0;31m    continue\u001b[0m\n\u001b[0m            ^\u001b[0m\n\u001b[0;31mSyntaxError\u001b[0m\u001b[0;31m:\u001b[0m 'continue' not properly in loop\n"
          ]
        }
      ],
      "source": [
        "continue"
      ]
    }
  ],
  "metadata": {
    "kernelspec": {
      "display_name": "Python 3 (ipykernel)",
      "language": "python",
      "name": "python3"
    },
    "language_info": {
      "codemirror_mode": {
        "name": "ipython",
        "version": 3
      },
      "file_extension": ".py",
      "mimetype": "text/x-python",
      "name": "python",
      "nbconvert_exporter": "python",
      "pygments_lexer": "ipython3",
      "version": "3.10.6"
    },
    "toc": {
      "base_numbering": 1,
      "nav_menu": {},
      "number_sections": true,
      "sideBar": true,
      "skip_h1_title": false,
      "title_cell": "Table of Contents",
      "title_sidebar": "Contents",
      "toc_cell": false,
      "toc_position": {},
      "toc_section_display": true,
      "toc_window_display": false
    },
    "colab": {
      "provenance": []
    }
  },
  "nbformat": 4,
  "nbformat_minor": 0
}