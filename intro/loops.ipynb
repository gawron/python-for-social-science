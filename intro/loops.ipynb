{
  "cells": [
    {
      "cell_type": "markdown",
      "metadata": {
        "id": "X8YEOZRvvidI"
      },
      "source": [
        "# Loops"
      ]
    },
    {
      "cell_type": "markdown",
      "metadata": {
        "id": "vWr_8a0QvidJ"
      },
      "source": [
        "Albert Einstein is supposed to have once said:\n",
        "\"The definition of insanity is doing the same thing over \n",
        "and over again and expecting different results\".\n",
        "\n",
        "But a very important kind of computation works like this:  To\n",
        "compute `x`, do the same\n",
        "thing many times,  each time expecting\n",
        "a slightly different result. \n",
        "The last time, the result is `x`.\n",
        "This important -- in fact, indispensable  -- kind\n",
        "of computation is called **looping**. \n",
        "More formally, since it involves executing the same\n",
        "statements over and over again, it's called **iteration**\n",
        "or just iterating. \n",
        "Thus,  if Einstein has the definition right (and who's going to\n",
        "argue with Albert Einstein?), then computation \n",
        "is the height of insanity. (well, at least looping is, \n",
        "and looping is an indispensable part of computing many things)\n",
        "\n",
        "Now how does this work, if it does?  \n",
        "The answer is that in looping what we do\n",
        "has the effect of changing the computational context.  As a result, each time,\n",
        "the same action  has a different result,\n",
        "\n",
        "An example:  Consider adding together a sum of numbers. Let's call \n",
        "the first step *Step 0*.  Here's Step 0::\n",
        " "
      ]
    },
    {
      "cell_type": "code",
      "execution_count": null,
      "metadata": {
        "id": "sr-WJ49PvidK"
      },
      "outputs": [],
      "source": [
        "x = 0\n",
        "L = [1,2,3,4]"
      ]
    },
    {
      "cell_type": "markdown",
      "metadata": {
        "id": "EplbTHHzvidL"
      },
      "source": [
        "After Step 0, each step in the computation will look like this:"
      ]
    },
    {
      "cell_type": "code",
      "execution_count": null,
      "metadata": {
        "colab": {
          "base_uri": "https://localhost:8080/"
        },
        "id": "0-9VlXwSvidL",
        "outputId": "7ab0e00d-b3da-45ed-f987-aaee34eb00dd"
      },
      "outputs": [
        {
          "name": "stdout",
          "output_type": "stream",
          "text": [
            "0 [1, 2, 3, 4]\n"
          ]
        }
      ],
      "source": [
        "print(x, L)\n",
        "x = x + L[0]\n",
        "L = L[1:]"
      ]
    },
    {
      "cell_type": "code",
      "execution_count": null,
      "metadata": {
        "colab": {
          "base_uri": "https://localhost:8080/"
        },
        "id": "6RpdgMCPvqaq",
        "outputId": "cdf54838-ffda-4343-d397-b9842e770128"
      },
      "outputs": [
        {
          "name": "stdout",
          "output_type": "stream",
          "text": [
            "1 [2, 3, 4]\n"
          ]
        }
      ],
      "source": [
        "print(x, L)\n",
        "x = x + L[0]\n",
        "L = L[1:]"
      ]
    },
    {
      "cell_type": "code",
      "execution_count": null,
      "metadata": {
        "colab": {
          "base_uri": "https://localhost:8080/"
        },
        "id": "WMMF78pqvqTF",
        "outputId": "f361de70-10da-4bf3-aa40-bd6b7bfc41b7"
      },
      "outputs": [
        {
          "name": "stdout",
          "output_type": "stream",
          "text": [
            "3 [3, 4]\n"
          ]
        }
      ],
      "source": [
        "print(x, L)\n",
        "x = x + L[0]\n",
        "L = L[1:]"
      ]
    },
    {
      "cell_type": "code",
      "execution_count": null,
      "metadata": {
        "colab": {
          "base_uri": "https://localhost:8080/"
        },
        "id": "tU3C3PnlvqK9",
        "outputId": "1057b03d-9707-43cc-9e04-7d683bc6ebeb"
      },
      "outputs": [
        {
          "name": "stdout",
          "output_type": "stream",
          "text": [
            "6 [4]\n"
          ]
        }
      ],
      "source": [
        "print(x, L)\n",
        "x = x + L[0]\n",
        "L = L[1:]"
      ]
    },
    {
      "cell_type": "code",
      "execution_count": null,
      "metadata": {
        "colab": {
          "base_uri": "https://localhost:8080/",
          "height": 222
        },
        "id": "eHzATsaEv6mR",
        "outputId": "a920b3aa-53c9-40c2-e402-fc13575aa377"
      },
      "outputs": [
        {
          "name": "stdout",
          "output_type": "stream",
          "text": [
            "10 []\n"
          ]
        },
        {
          "ename": "IndexError",
          "evalue": "list index out of range",
          "output_type": "error",
          "traceback": [
            "\u001b[0;31m---------------------------------------------------------------------------\u001b[0m",
            "\u001b[0;31mIndexError\u001b[0m                                Traceback (most recent call last)",
            "\u001b[0;32m/var/folders/w9/bx4mylnd27g_kqqgn5hrn2x40000gr/T/ipykernel_37154/3369864690.py\u001b[0m in \u001b[0;36m<module>\u001b[0;34m\u001b[0m\n\u001b[1;32m      1\u001b[0m \u001b[0mprint\u001b[0m\u001b[0;34m(\u001b[0m\u001b[0mx\u001b[0m\u001b[0;34m,\u001b[0m \u001b[0mL\u001b[0m\u001b[0;34m)\u001b[0m\u001b[0;34m\u001b[0m\u001b[0;34m\u001b[0m\u001b[0m\n\u001b[0;32m----> 2\u001b[0;31m \u001b[0mx\u001b[0m \u001b[0;34m=\u001b[0m \u001b[0mx\u001b[0m \u001b[0;34m+\u001b[0m \u001b[0mL\u001b[0m\u001b[0;34m[\u001b[0m\u001b[0;36m0\u001b[0m\u001b[0;34m]\u001b[0m\u001b[0;34m\u001b[0m\u001b[0;34m\u001b[0m\u001b[0m\n\u001b[0m\u001b[1;32m      3\u001b[0m \u001b[0mL\u001b[0m \u001b[0;34m=\u001b[0m \u001b[0mL\u001b[0m\u001b[0;34m[\u001b[0m\u001b[0;36m1\u001b[0m\u001b[0;34m:\u001b[0m\u001b[0;34m]\u001b[0m\u001b[0;34m\u001b[0m\u001b[0;34m\u001b[0m\u001b[0m\n",
            "\u001b[0;31mIndexError\u001b[0m: list index out of range"
          ]
        }
      ],
      "source": [
        "print(x, L)\n",
        "x = x + L[0]\n",
        "L = L[1:]"
      ]
    },
    {
      "cell_type": "markdown",
      "metadata": {
        "id": "dS0oNHj0vidL"
      },
      "source": [
        "The key idea is that each time we do this we change \n",
        "the value of `x` and `L`;  each\n",
        "time we add a number to `x` , the value of`x`\n",
        "changes.  Ultimately, the value of `x` will be the sum we\n",
        "want to compute.   We could write this as follows::"
      ]
    },
    {
      "cell_type": "markdown",
      "metadata": {
        "id": "IoUrQJZIvidM"
      },
      "source": [
        "```\n",
        "repeat:\n",
        "   x = x + L[0]\n",
        "   L = L[1:]\n",
        "```"
      ]
    },
    {
      "cell_type": "markdown",
      "metadata": {
        "id": "kgEmrfnmvidM"
      },
      "source": [
        "## While loops\n",
        "\n",
        "The example above used a block of code\n",
        "we could call a `repeat` block.  \n",
        "Python doesn't actually have a `repeat` block.  \n",
        "\n",
        "What Python has is a construction that implements repeating, but includes\n",
        "a condition telling us when to **stop**.  This is the idea\n",
        "of a `while` loop.  One way to write the computation\n",
        "above in standard Python is::"
      ]
    },
    {
      "cell_type": "code",
      "execution_count": null,
      "metadata": {
        "id": "a_zZKFmAvidM"
      },
      "outputs": [],
      "source": [
        "x = 0\n",
        "L = [1,2,3,4]\n",
        "while len(L) > 0:\n",
        "      x = x + L[0]\n",
        "      L = L[1:]"
      ]
    },
    {
      "cell_type": "markdown",
      "metadata": {
        "id": "0Snyn694vidM"
      },
      "source": [
        "What follows the Python keyword `while` is\n",
        "a **test** (as in an `if` clause).  \n",
        "As long as that test succeeds, we keep\n",
        "looping. On each iteration, `L` necessarily\n",
        "gets smaller.  When `L` is empty, its length is 0,\n",
        "the test for re-entering the loop fails, and we stop.\n",
        "At that point, :samp:`x` has the value we want::"
      ]
    },
    {
      "cell_type": "code",
      "execution_count": null,
      "metadata": {
        "id": "bAE3zw14vidM",
        "outputId": "af30e7fe-591d-49f5-8618-3249f70dc29e"
      },
      "outputs": [
        {
          "data": {
            "text/plain": [
              "10"
            ]
          },
          "execution_count": 9,
          "metadata": {},
          "output_type": "execute_result"
        }
      ],
      "source": [
        "x    "
      ]
    },
    {
      "cell_type": "markdown",
      "metadata": {
        "id": "aLDrzWfpvidM"
      },
      "source": [
        "## For loops\n",
        "\n",
        "Next we introduce the kind of loop we will use most often:\n",
        "looping through a container using a `for` loop.\n",
        "\n",
        "Note that in order for the `while` loop used above to work,\n",
        "we had to keep re-setting the value of `L` to make\n",
        "`L` shorter.  But all  we were trying to do was to loop\n",
        "through the contents of a container, doing the same thing\n",
        "to each element.  Python provides a much more natural\n",
        "idiom for this, the `for` loop.  Using a `for`\n",
        "loop the example above becomes:"
      ]
    },
    {
      "cell_type": "code",
      "execution_count": null,
      "metadata": {
        "id": "PT1xYH0dvidN",
        "outputId": "ff8107f8-691d-4ef1-8788-0a987c5f05cc"
      },
      "outputs": [
        {
          "data": {
            "text/plain": [
              "10"
            ]
          },
          "execution_count": 11,
          "metadata": {},
          "output_type": "execute_result"
        }
      ],
      "source": [
        "x = 0\n",
        "L = [1,2,3,4]\n",
        "for y in L:\n",
        "    x = x + y\n",
        "x"
      ]
    },
    {
      "cell_type": "markdown",
      "metadata": {
        "id": "_HAzmWchvidN"
      },
      "source": [
        "Here is another example that shows each step:"
      ]
    },
    {
      "cell_type": "code",
      "execution_count": null,
      "metadata": {
        "id": "BwmaFXq5vidN",
        "scrolled": true,
        "outputId": "9de1072d-7a04-47ad-e259-64ab3bbe01ef"
      },
      "outputs": [
        {
          "name": "stdout",
          "output_type": "stream",
          "text": [
            "3\n",
            "2\n",
            "1\n",
            "4\n"
          ]
        }
      ],
      "source": [
        "L = [3,2,1,4]\n",
        "for x in L:\n",
        "    print(x)"
      ]
    },
    {
      "cell_type": "code",
      "execution_count": null,
      "metadata": {
        "id": "7SLYmb0MJrnU",
        "outputId": "9d67079f-0d3c-411e-f21d-a09d0cab4eb6"
      },
      "outputs": [
        {
          "name": "stdout",
          "output_type": "stream",
          "text": [
            "1\n",
            "2\n",
            "3\n",
            "4\n"
          ]
        }
      ],
      "source": [
        "L = {3,2,1,4}\n",
        "for x in L:\n",
        "    print(x)"
      ]
    },
    {
      "cell_type": "markdown",
      "metadata": {
        "id": "JkqEHJOMvidN"
      },
      "source": [
        "So `x` is successively set to each member of the list, in the\n",
        "order in which they occur in the list, and each time its value is\n",
        "printed.  We call `x` the **loop variable**.   The rules for what can be a loop variable are the same\n",
        "as they are for variables in general.  All the names that\n",
        "can be variables can be loop variables.  And just\n",
        "as pairs of variables can occur on the left hand side of an\n",
        "assignment:"
      ]
    },
    {
      "cell_type": "code",
      "execution_count": null,
      "metadata": {
        "id": "YarghwetvidN"
      },
      "outputs": [],
      "source": [
        "(x,y) = (2,3)"
      ]
    },
    {
      "cell_type": "markdown",
      "metadata": {
        "id": "bINc1NeKvidN"
      },
      "source": [
        "So pairs of variables can be loop vars:"
      ]
    },
    {
      "cell_type": "code",
      "execution_count": null,
      "metadata": {
        "id": "Vai0naUnvidN",
        "outputId": "6f24eb1e-d39d-4b67-94ce-2dfd188b773b"
      },
      "outputs": [
        {
          "name": "stdout",
          "output_type": "stream",
          "text": [
            "a 3\n",
            "b 2\n",
            "c 1\n",
            "d 4\n"
          ]
        }
      ],
      "source": [
        "L = [('a',3),('b',2),('c',1),('d',4)]\n",
        "for (let,num) in L:\n",
        "    print(let, num)"
      ]
    },
    {
      "cell_type": "markdown",
      "metadata": {
        "id": "J075K62FxAe6"
      },
      "source": [
        "The same principles works\n",
        "for all containers, lists, tuples, strings, sets.  For example:"
      ]
    },
    {
      "cell_type": "code",
      "execution_count": null,
      "metadata": {
        "collapsed": true,
        "id": "dh3SAHkCvidN",
        "outputId": "b93dc489-ecb6-43a7-e3de-5d226a10f8ab"
      },
      "outputs": [
        {
          "name": "stdout",
          "output_type": "stream",
          "text": [
            "1\n",
            "2\n",
            "3\n",
            "4\n"
          ]
        }
      ],
      "source": [
        "S = set([3,2,1,4])\n",
        "for x in S:\n",
        "    print(x)"
      ]
    },
    {
      "cell_type": "markdown",
      "metadata": {
        "id": "-nmJ8WyTvidN"
      },
      "source": [
        "Note that the order of the elements in the list used to construct\n",
        "`S` has no effect on how `S` is printed out.  In general, the order\n",
        "in which the elements of a set will be iterated through is\n",
        "unpredictable, and should not be relied on.       \n",
        "\n",
        "A `for` loop will also work with a dictionary, but in this\n",
        "case, the loop variable will be set to the keys of the dictionary.\n",
        "Again, this happens in no particular order:"
      ]
    },
    {
      "cell_type": "code",
      "execution_count": null,
      "metadata": {
        "id": "I8FzAbc5vidN",
        "outputId": "d51b2e92-0b08-476e-a223-e68a1e787ff2"
      },
      "outputs": [
        {
          "name": "stdout",
          "output_type": "stream",
          "text": [
            "b\n",
            "a\n",
            "d\n",
            "c\n"
          ]
        }
      ],
      "source": [
        "dd = dict(b=0,a=1,d=2,c=3)\n",
        "for x in dd:\n",
        "    print(x)"
      ]
    },
    {
      "cell_type": "markdown",
      "metadata": {
        "id": "Rgp3TJBCvidN"
      },
      "source": [
        "Note that this is consistent with how we use `in`\n",
        "as an operator in dictionaries:"
      ]
    },
    {
      "cell_type": "code",
      "execution_count": null,
      "metadata": {
        "id": "r0YsA84fJrnV",
        "outputId": "e5563f35-aacd-458b-f362-52cb3453c0b0"
      },
      "outputs": [
        {
          "data": {
            "text/plain": [
              "'c'"
            ]
          },
          "execution_count": 17,
          "metadata": {},
          "output_type": "execute_result"
        }
      ],
      "source": [
        "x"
      ]
    },
    {
      "cell_type": "code",
      "execution_count": null,
      "metadata": {
        "id": "LOSapoMividO",
        "outputId": "404faa36-d348-4ce9-99b2-07f9a205853c"
      },
      "outputs": [
        {
          "data": {
            "text/plain": [
              "True"
            ]
          },
          "execution_count": 18,
          "metadata": {},
          "output_type": "execute_result"
        }
      ],
      "source": [
        "x in dd"
      ]
    },
    {
      "cell_type": "markdown",
      "metadata": {
        "id": "5HRul229vidO"
      },
      "source": [
        "tests whether `x` is a key of `dd`."
      ]
    },
    {
      "cell_type": "markdown",
      "metadata": {
        "id": "NLqrm60exfoU"
      },
      "source": [
        "#### List comprehensions"
      ]
    },
    {
      "cell_type": "markdown",
      "metadata": {
        "id": "tMvWH_s8xiiK"
      },
      "source": [
        "Sometimes we loop top create a list of results.  For example we might want to loop through a container to build up another container."
      ]
    },
    {
      "cell_type": "code",
      "execution_count": null,
      "metadata": {
        "colab": {
          "base_uri": "https://localhost:8080/"
        },
        "id": "n4kbA42bxu7u",
        "outputId": "2a9b5c19-0535-48e8-ee56-e2c34db65954"
      },
      "outputs": [
        {
          "data": {
            "text/plain": [
              "[2, 4, 6, 8]"
            ]
          },
          "execution_count": 20,
          "metadata": {},
          "output_type": "execute_result"
        }
      ],
      "source": [
        "L = [1,2,3,4]\n",
        "L2 = []\n",
        "for x in L:\n",
        "  L2.append(2*x)\n",
        "L2"
      ]
    },
    {
      "cell_type": "markdown",
      "metadata": {
        "id": "CvSsfMo9yB8J"
      },
      "source": [
        "This kind of operation is so frequent and so important that\n",
        "Python has created a special idiom for it\n",
        "called a **list comprehension**."
      ]
    },
    {
      "cell_type": "code",
      "execution_count": null,
      "metadata": {
        "id": "52jOJBLnx7uJ",
        "outputId": "9b7cdbd9-37b0-4c3e-dd77-3b7a5a519202"
      },
      "outputs": [
        {
          "data": {
            "text/plain": [
              "[2, 4, 6, 8]"
            ]
          },
          "execution_count": 21,
          "metadata": {},
          "output_type": "execute_result"
        }
      ],
      "source": [
        "# Doubling every element in a list using a list comprehension\n",
        "L2 = [2*x for x in L]\n",
        "L2"
      ]
    },
    {
      "cell_type": "markdown",
      "metadata": {
        "id": "qBA3JynaygFA"
      },
      "source": [
        "What do you think the following cell will produce"
      ]
    },
    {
      "cell_type": "code",
      "execution_count": null,
      "metadata": {
        "id": "MHHlcQvlyWIG",
        "outputId": "aaea79d8-57ab-4d79-a2d7-919ee20e8e32"
      },
      "outputs": [
        {
          "data": {
            "text/plain": [
              "['A', 'B', 'C', 'D']"
            ]
          },
          "execution_count": 22,
          "metadata": {},
          "output_type": "execute_result"
        }
      ],
      "source": [
        "L = ['a','b','c','d']\n",
        "L2 = [x.upper() for x in L]\n",
        "L2"
      ]
    },
    {
      "cell_type": "markdown",
      "metadata": {
        "id": "fZjKvkHxyxXz"
      },
      "source": [
        "What about the following?\n",
        "\n",
        "If you think 2*'b' is an error, try it first."
      ]
    },
    {
      "cell_type": "code",
      "execution_count": null,
      "metadata": {
        "id": "imFLubJAyrFA",
        "outputId": "086a8e98-3871-405d-8843-94e01a32f62e"
      },
      "outputs": [
        {
          "data": {
            "text/plain": [
              "['aa', 'bb', 'cc', 'dd']"
            ]
          },
          "execution_count": 23,
          "metadata": {},
          "output_type": "execute_result"
        }
      ],
      "source": [
        "L = ['a','b','c','d']\n",
        "L2 = [2*x for x in L]\n",
        "L2"
      ]
    },
    {
      "cell_type": "markdown",
      "metadata": {
        "id": "PKSfcozdvidO"
      },
      "source": [
        "#### Counting/Indexing operations\n",
        "\n",
        "While looping it can be useful to keep count of how many times you've looped. This can be done in several ways.  You can\n",
        "\n",
        "1.  Keep a counter variable and update it appropriately in the code.\n",
        "2.  Loop through a numerical range using `range`.  This is useful when you know the number of iterations in advance, such as when you're looping through the elements of a container.\n",
        "3.  You can use `enumerate`; this explicitly returns a pair of an index and the iterator value on this iteration."
      ]
    },
    {
      "cell_type": "code",
      "execution_count": null,
      "metadata": {
        "id": "wh9ktWT_vidO",
        "outputId": "4337e305-ff52-4220-f5de-df33c8891dbc"
      },
      "outputs": [
        {
          "name": "stdout",
          "output_type": "stream",
          "text": [
            "abcdefghij\n",
            "\n",
            "0 a\n",
            "1 b\n",
            "2 c\n",
            "3 d\n",
            "4 e\n",
            "5 f\n",
            "6 g\n",
            "7 h\n",
            "8 i\n",
            "9 j\n",
            "\n",
            " xxxxxxxxxxxxxxxxxxxxxxxxx\n",
            "\n",
            "0 a\n",
            "1 b\n",
            "2 c\n",
            "3 d\n",
            "4 e\n",
            "5 f\n",
            "6 g\n",
            "7 h\n",
            "8 i\n",
            "9 j\n",
            "\n",
            " xxxxxxxxxxxxxxxxxxxxxxxxx\n",
            "\n",
            "0 a\n",
            "1 b\n",
            "2 c\n",
            "3 d\n",
            "4 e\n",
            "5 f\n",
            "6 g\n",
            "7 h\n",
            "8 i\n",
            "9 j\n"
          ]
        }
      ],
      "source": [
        "alph= 'abcdefghij'\n",
        "print(alph,end=\"\\n\\n\")\n",
        "\n",
        "###Version 1\n",
        "i=0            #Keep a Counter\n",
        "for x in alph:\n",
        "    print(i,x)\n",
        "    i+=1\n",
        "    \n",
        "print('\\n','x'*25,end=\"\\n\\n\")\n",
        "\n",
        "## Version 2\n",
        "for i in range(len(alph)):   ## Loop through a range\n",
        "    print(i,L[i])\n",
        "    \n",
        "print('\\n','x'*25,end=\"\\n\\n\")\n",
        "\n",
        "## Version 3\n",
        "for (i,x) in enumerate(alph):    ## Use enumerate\n",
        "    print(i,x)\n",
        "    \n"
      ]
    },
    {
      "cell_type": "markdown",
      "metadata": {
        "id": "1hrMEft9vidO"
      },
      "source": [
        "## Filtering with for loops\n",
        "\n",
        "\n",
        "One of the basic uses of loops is to collect the elements of a list\n",
        "that satisfy some condition.  So we combine a Boolean test with a\n",
        "`for` loop.\n",
        "\n",
        "For example let's collect the positive numbers from a list of numbers::"
      ]
    },
    {
      "cell_type": "code",
      "execution_count": null,
      "metadata": {
        "id": "pDQvTE98vidO",
        "outputId": "ea7ec112-67f7-4387-be3f-7de35e013a64"
      },
      "outputs": [
        {
          "data": {
            "text/plain": [
              "[0.3, 18, 212.1]"
            ]
          },
          "execution_count": 40,
          "metadata": {},
          "output_type": "execute_result"
        }
      ],
      "source": [
        "nums = [0.3, -.15, 18, -7, 212.1, 0]\n",
        "result = []\n",
        "for x in nums:\n",
        "    if x > 0:\n",
        "       result.append(x)\n",
        "result"
      ]
    },
    {
      "cell_type": "markdown",
      "metadata": {
        "id": "NMPsg4SYJrnW"
      },
      "source": [
        "Same task with a list comprhension:"
      ]
    },
    {
      "cell_type": "code",
      "execution_count": null,
      "metadata": {
        "id": "aqbjlGQXJrnW",
        "outputId": "cc53ad97-e8d0-4b51-b22f-f1cbc1d5aee2"
      },
      "outputs": [
        {
          "data": {
            "text/plain": [
              "[0.3, 18, 212.1]"
            ]
          },
          "execution_count": 41,
          "metadata": {},
          "output_type": "execute_result"
        }
      ],
      "source": [
        "nums = [0.3, -.15, 18, -7, 212.1, 0]\n",
        "result = [x for x in nums if x > 0]\n",
        "result"
      ]
    },
    {
      "cell_type": "markdown",
      "metadata": {
        "id": "jHzKEkPAvidO"
      },
      "source": [
        "## Nested loops\n",
        "\n",
        "One of the most important uses of loops is to consider\n",
        "all possible pairings of different sequences.\n",
        "\n",
        "Consider the following example, taken from\n",
        "[Peter Norvig's sudoku page.](<http://norvig.com/sudoku.html)\n",
        "The idea is to represent some facts about sudoku puzzles.\n",
        "These are Norvig's naming conventions for the\n",
        "81 squares in a sudoku puzzle"
      ]
    },
    {
      "cell_type": "code",
      "execution_count": null,
      "metadata": {
        "id": "uCu1CVYAvidO"
      },
      "outputs": [],
      "source": [
        "rows     = 'ABCDEFGHI'  # top to bottom\n",
        "cols     = '123456789'  # left to right"
      ]
    },
    {
      "cell_type": "markdown",
      "metadata": {
        "id": "Gs9LVDMRvidO"
      },
      "source": [
        "He names squares as follows::\n",
        "\n",
        "```\n",
        "   A1 A2 A3| A4 A5 A6| A7 A8 A9    \n",
        "   B1 B2 B3| B4 B5 B6| B7 B8 B9   \n",
        "   C1 C2 C3| C4 C5 C6| C7 C8 C9   \n",
        "  ---------+---------+---------   \n",
        "   D1 D2 D3| D4 D5 D6| D7 D8 D9   \n",
        "   E1 E2 E3| E4 E5 E6| E7 E8 E9   \n",
        "   F1 F2 F3| F4 F5 F6| F7 F8 F9   \n",
        "  ---------+---------+---------   \n",
        "   G1 G2 G3| G4 G5 G6| G7 G8 G9   \n",
        "   H1 H2 H3| H4 H5 H6| H7 H8 H9   \n",
        "   I1 I2 I3| I4 I5 I6| I7 I8 I9\n",
        "```\n",
        "\n",
        "Given these conventions, the set of possible\n",
        "squares is computed simply by pairing each\n",
        "of the rows with each of the columns.  This can \n",
        "be done with a double loop:"
      ]
    },
    {
      "cell_type": "code",
      "execution_count": null,
      "metadata": {
        "id": "L-1FJRuavidO",
        "outputId": "18618d6f-3908-4bc3-df43-08079a1407b0"
      },
      "outputs": [
        {
          "data": {
            "text/plain": [
              "['A1',\n",
              " 'A2',\n",
              " 'A3',\n",
              " 'A4',\n",
              " 'A5',\n",
              " 'A6',\n",
              " 'A7',\n",
              " 'A8',\n",
              " 'A9',\n",
              " 'B1',\n",
              " 'B2',\n",
              " 'B3',\n",
              " 'B4',\n",
              " 'B5',\n",
              " 'B6',\n",
              " 'B7',\n",
              " 'B8',\n",
              " 'B9',\n",
              " 'C1',\n",
              " 'C2',\n",
              " 'C3',\n",
              " 'C4',\n",
              " 'C5',\n",
              " 'C6',\n",
              " 'C7',\n",
              " 'C8',\n",
              " 'C9',\n",
              " 'D1',\n",
              " 'D2',\n",
              " 'D3',\n",
              " 'D4',\n",
              " 'D5',\n",
              " 'D6',\n",
              " 'D7',\n",
              " 'D8',\n",
              " 'D9',\n",
              " 'E1',\n",
              " 'E2',\n",
              " 'E3',\n",
              " 'E4',\n",
              " 'E5',\n",
              " 'E6',\n",
              " 'E7',\n",
              " 'E8',\n",
              " 'E9',\n",
              " 'F1',\n",
              " 'F2',\n",
              " 'F3',\n",
              " 'F4',\n",
              " 'F5',\n",
              " 'F6',\n",
              " 'F7',\n",
              " 'F8',\n",
              " 'F9',\n",
              " 'G1',\n",
              " 'G2',\n",
              " 'G3',\n",
              " 'G4',\n",
              " 'G5',\n",
              " 'G6',\n",
              " 'G7',\n",
              " 'G8',\n",
              " 'G9',\n",
              " 'H1',\n",
              " 'H2',\n",
              " 'H3',\n",
              " 'H4',\n",
              " 'H5',\n",
              " 'H6',\n",
              " 'H7',\n",
              " 'H8',\n",
              " 'H9',\n",
              " 'I1',\n",
              " 'I2',\n",
              " 'I3',\n",
              " 'I4',\n",
              " 'I5',\n",
              " 'I6',\n",
              " 'I7',\n",
              " 'I8',\n",
              " 'I9']"
            ]
          },
          "execution_count": 42,
          "metadata": {},
          "output_type": "execute_result"
        }
      ],
      "source": [
        "rows     = 'ABCDEFGHI'\n",
        "cols     = '123456789'\n",
        "squares = []\n",
        "for row in rows:\n",
        "    for col in cols:\n",
        "        squares.append( row + col)\n",
        "squares"
      ]
    },
    {
      "cell_type": "markdown",
      "metadata": {
        "id": "tMz1aT-bvidO"
      },
      "source": [
        "We return to Norvig's Sudoku code in future examples.\n",
        "\n",
        "Same task with a list comprehension"
      ]
    },
    {
      "cell_type": "code",
      "execution_count": null,
      "metadata": {
        "id": "spbd16L3JrnX",
        "outputId": "f3714538-bc46-4309-b386-01d016174e55"
      },
      "outputs": [
        {
          "data": {
            "text/plain": [
              "['A1',\n",
              " 'A2',\n",
              " 'A3',\n",
              " 'A4',\n",
              " 'A5',\n",
              " 'A6',\n",
              " 'A7',\n",
              " 'A8',\n",
              " 'A9',\n",
              " 'B1',\n",
              " 'B2',\n",
              " 'B3',\n",
              " 'B4',\n",
              " 'B5',\n",
              " 'B6',\n",
              " 'B7',\n",
              " 'B8',\n",
              " 'B9',\n",
              " 'C1',\n",
              " 'C2',\n",
              " 'C3',\n",
              " 'C4',\n",
              " 'C5',\n",
              " 'C6',\n",
              " 'C7',\n",
              " 'C8',\n",
              " 'C9',\n",
              " 'D1',\n",
              " 'D2',\n",
              " 'D3',\n",
              " 'D4',\n",
              " 'D5',\n",
              " 'D6',\n",
              " 'D7',\n",
              " 'D8',\n",
              " 'D9',\n",
              " 'E1',\n",
              " 'E2',\n",
              " 'E3',\n",
              " 'E4',\n",
              " 'E5',\n",
              " 'E6',\n",
              " 'E7',\n",
              " 'E8',\n",
              " 'E9',\n",
              " 'F1',\n",
              " 'F2',\n",
              " 'F3',\n",
              " 'F4',\n",
              " 'F5',\n",
              " 'F6',\n",
              " 'F7',\n",
              " 'F8',\n",
              " 'F9',\n",
              " 'G1',\n",
              " 'G2',\n",
              " 'G3',\n",
              " 'G4',\n",
              " 'G5',\n",
              " 'G6',\n",
              " 'G7',\n",
              " 'G8',\n",
              " 'G9',\n",
              " 'H1',\n",
              " 'H2',\n",
              " 'H3',\n",
              " 'H4',\n",
              " 'H5',\n",
              " 'H6',\n",
              " 'H7',\n",
              " 'H8',\n",
              " 'H9',\n",
              " 'I1',\n",
              " 'I2',\n",
              " 'I3',\n",
              " 'I4',\n",
              " 'I5',\n",
              " 'I6',\n",
              " 'I7',\n",
              " 'I8',\n",
              " 'I9']"
            ]
          },
          "execution_count": 43,
          "metadata": {},
          "output_type": "execute_result"
        }
      ],
      "source": [
        "rows     = 'ABCDEFGHI'\n",
        "cols     = '123456789'\n",
        "squares = [row + col for row in rows for col in cols]\n",
        "squares"
      ]
    },
    {
      "cell_type": "markdown",
      "metadata": {
        "id": "zk6WyW48vidO"
      },
      "source": [
        "A better example of a while loop\n",
        "================================\n",
        "\n",
        "As we saw when we got to `for` loops, \n",
        "if what we're doing involves iterating through\n",
        "the contents of a container, a `for` loop\n",
        "is the right way to go.  But `while`\n",
        "loops remain indispensable.  They are the right\n",
        "tool when the number of times we have to iterate\n",
        "is governed by some logical condition.  Suppose we have\n",
        "a game in which the user picks a number between 0 and 100\n",
        "and the computer has to guess it. For each guess, the user\n",
        "must respond in one of three ways: either \"correct\"\n",
        "or \"higher\" or \"lower\".  The game ends only \n",
        "after a correct answer. Here is the code:"
      ]
    },
    {
      "cell_type": "code",
      "execution_count": null,
      "metadata": {
        "id": "Hb-PhsqTvidO",
        "outputId": "64629f7c-9080-4413-afc4-9d1bed955a3a"
      },
      "outputs": [
        {
          "data": {
            "text/plain": [
              "62"
            ]
          },
          "execution_count": 18,
          "metadata": {},
          "output_type": "execute_result"
        }
      ],
      "source": [
        "round(62.5)"
      ]
    },
    {
      "cell_type": "code",
      "execution_count": null,
      "metadata": {
        "collapsed": true,
        "id": "SfGmjd9SvidO",
        "outputId": "61b7a8e8-5897-4260-eeb1-e3867b11d58c"
      },
      "outputs": [
        {
          "name": "stdout",
          "output_type": "stream",
          "text": [
            "Is it 50?\n",
            "higher\n",
            "Is it 75?\n",
            "lower\n",
            "Is it 62?\n",
            "higher\n",
            "Is it 68?\n",
            "lower\n",
            "Is it 65?\n",
            "lower\n",
            "Is it 64?\n",
            "lower\n",
            "Is it 63?\n",
            "correct\n",
            "I won!\n"
          ]
        }
      ],
      "source": [
        "# Try 63 for a long game!\n",
        "correct = False\n",
        "low,high = (0,100)\n",
        "while not correct:\n",
        "       guess = round(low + (high - low)/2)\n",
        "       msg = f'Is it {guess}?\\n'\n",
        "       response = input(msg).lower()\n",
        "       if response.startswith('correct'):\n",
        "          print('I won!')\n",
        "          correct = True\n",
        "       elif response.startswith('lower'):\n",
        "          high = guess\n",
        "       elif response.startswith('higher'):\n",
        "          low = guess\n",
        "       else:\n",
        "          print('I dont understand your response. Let me try again.')"
      ]
    },
    {
      "cell_type": "markdown",
      "metadata": {
        "id": "7nYKuXWvvidO"
      },
      "source": [
        "Let's take this line by line:\n",
        "\n",
        "1) Set the `correct` variable to `False`, the value\n",
        "   that keeps the game going.  We will flip it to `True`\n",
        "   when the game is over.\n",
        "2) We keep track of the highest lower bound and the lowest upper bound\n",
        "   to keep the narrowing the range of possible guesses.  We start\n",
        "   with the initial conditions of the game: `low=0`, `high=100`.\n",
        "3) Enter the `while` if `correct` is `False`.\n",
        "4) Line 4 computes a guess that is half way between the\n",
        "   currently known low and high.\n",
        "5) Line 5 sets the variable :samp:`msg` to the string we print out to the user\n",
        "   announcing our guess.  \n",
        "6) The Python builtin `raw_input` prints out a message to the user\n",
        "   and returns the user's response, which is considered to\n",
        "   have ended when the user types :samp:`[Enter]`.\n",
        "7) The branches in the :samp:`if`-clause beginning on this line, check\n",
        "   that the response is valid and reset the low/high \n",
        "   boundaries appropriately.\n",
        "8) Crucially, in the case where the guess is correct, the\n",
        "   name :samp:`correct` is set to `True`, so that\n",
        "   the test for re-entering the loop fails; as desired since the game\n",
        "   is now over, the `while`-loop will be exited."
      ]
    },
    {
      "cell_type": "markdown",
      "metadata": {
        "id": "elNAkpGwvidP"
      },
      "source": [
        "## Loop keywords: `continue` and `break`\n",
        "\n",
        "A common occurrence in looping through the contents of a container\n",
        "is that you only want to process a subset of the contents.  For\n",
        "example, you are searching for an element with a particular  property\n",
        "and you want to stop when you find it.  Or you want to skip\n",
        "elements with certain properties.  For cases like these,\n",
        "you :samp:`break` and :samp:`continue`, two Python keywords\n",
        "that are only useful inside loops.\n",
        "\n",
        "For example, suppose you have the following word list:"
      ]
    },
    {
      "cell_type": "code",
      "execution_count": null,
      "metadata": {
        "id": "1vf_hQBtvidP"
      },
      "outputs": [],
      "source": [
        "word_list = ['flow','repent','arch','singing','applesauce', 'ring']"
      ]
    },
    {
      "cell_type": "markdown",
      "metadata": {
        "id": "Qb3qZSx3vidP"
      },
      "source": [
        "and suppose you want to search through the list to find \n",
        "the first word that ends in \"ing\" and set the variable :samp:`result`\n",
        "to be that word.  The following code does the job::"
      ]
    },
    {
      "cell_type": "code",
      "execution_count": null,
      "metadata": {
        "id": "VODC4IxYvidP",
        "outputId": "98612bb4-7df0-435b-bbb6-e3094a559103"
      },
      "outputs": [
        {
          "data": {
            "text/plain": [
              "'singing'"
            ]
          },
          "execution_count": 52,
          "metadata": {},
          "output_type": "execute_result"
        }
      ],
      "source": [
        "result = None\n",
        "for word in word_list:\n",
        "    if word.endswith(\"ing\"):\n",
        "       result = word\n",
        "       break\n",
        "result"
      ]
    },
    {
      "cell_type": "markdown",
      "metadata": {
        "id": "kk4Ghnw1vidP"
      },
      "source": [
        "The assignment statement `result = word` sets the variable\n",
        "`result` to the word you want, and the `break` statement terminates\n",
        "the loop."
      ]
    },
    {
      "cell_type": "markdown",
      "metadata": {
        "id": "mQGUwV-BvidP"
      },
      "source": [
        "If we omitted the `break` statement, how would\n",
        "this piece of code differ? Would the value\n",
        "of `result` necessarily be the same?"
      ]
    },
    {
      "cell_type": "code",
      "execution_count": null,
      "metadata": {
        "id": "5vZ73R0svidP",
        "outputId": "a61bc2d3-5ea1-4c79-a269-5a1dc05163a0"
      },
      "outputs": [
        {
          "data": {
            "text/plain": [
              "'ring'"
            ]
          },
          "execution_count": 53,
          "metadata": {},
          "output_type": "execute_result"
        }
      ],
      "source": [
        "for word in word_list:\n",
        "    if word.endswith(\"ing\"):\n",
        "       result = word\n",
        "result"
      ]
    },
    {
      "cell_type": "markdown",
      "metadata": {
        "id": "MYGnX4VhvidP"
      },
      "source": [
        "The answer is that the word stored in `result` would\n",
        "now be the **last** word in the list ending in \n",
        "\"ing\"\n",
        "\n",
        "Even if there is only one\n",
        "word ending in \"ing\", the second version\n",
        "does unnecessary work, since all the words in\n",
        "the list are examined, even after a suitable word is found.\n",
        "\n",
        "The `continue` keyword is used for skipping elements in a container,\n",
        "while continuing the loop.  This key word is most useful\n",
        "when the conditions for skipping something are simple\n",
        "and the conditions for processing are complicated.\n",
        "Then use of a `continue` can make the code more\n",
        "readable.  For example, suppose we want to split\n",
        "a list into words beginning with letters in the first half of the alphabet\n",
        "and those beginning with letters in the second half,\n",
        "omitting capitalized words.  We're building two lists, then:"
      ]
    },
    {
      "cell_type": "code",
      "execution_count": null,
      "metadata": {
        "id": "sYZqTKkEvidP",
        "outputId": "a8844435-d579-4253-8f0e-fb474c52cc11"
      },
      "outputs": [
        {
          "name": "stdout",
          "output_type": "stream",
          "text": [
            "['box', 'fighting']\n",
            "['ring']\n"
          ]
        }
      ],
      "source": [
        "word_list = ['box','ring','Smith','fighting']\n",
        "first_half,second_half = ([],[])\n",
        "for word in word_list:\n",
        "    if word.istitle():\n",
        "       continue\n",
        "    if word[0] < 'm':\n",
        "       first_half.append(word)\n",
        "    else:\n",
        "       second_half.append(word)\n",
        "print(first_half)\n",
        "print(second_half)"
      ]
    },
    {
      "cell_type": "markdown",
      "metadata": {
        "id": "yjljBrbBvidP"
      },
      "source": [
        "Notice the `<` operator is used here to implement\n",
        "alphabetizing.  Used on strings it refers to the most \n",
        "common way to order strings; used on numbers, it refers to\n",
        "the natural ordering of number.\n",
        "\n",
        "Note that both `continue` and `break` raise\n",
        "syntax errors if used outside a loop:"
      ]
    },
    {
      "cell_type": "code",
      "execution_count": null,
      "metadata": {
        "collapsed": true,
        "id": "-tlFR2RividP",
        "outputId": "c230d3a4-20e4-4f85-ec6d-b620f58c4598"
      },
      "outputs": [
        {
          "ename": "SyntaxError",
          "evalue": "'continue' not properly in loop (<ipython-input-28-6ca52a340915>, line 1)",
          "output_type": "error",
          "traceback": [
            "\u001b[0;36m  File \u001b[0;32m\"<ipython-input-28-6ca52a340915>\"\u001b[0;36m, line \u001b[0;32m1\u001b[0m\n\u001b[0;31m    continue\u001b[0m\n\u001b[0m            ^\u001b[0m\n\u001b[0;31mSyntaxError\u001b[0m\u001b[0;31m:\u001b[0m 'continue' not properly in loop\n"
          ]
        }
      ],
      "source": [
        "continue"
      ]
    },
    {
      "cell_type": "markdown",
      "metadata": {
        "id": "ta5h_leOJrnX"
      },
      "source": [
        "#### Variable scope"
      ]
    },
    {
      "cell_type": "markdown",
      "metadata": {
        "id": "vzW74bdzJrnY"
      },
      "source": [
        "One very natural question is why can't we write the loop looking for\n",
        "\"-ing\" word as follows:"
      ]
    },
    {
      "cell_type": "code",
      "execution_count": null,
      "metadata": {
        "id": "XA22qAcdJrnY",
        "outputId": "636b93b7-f98b-4c0a-c179-46f673a53607"
      },
      "outputs": [
        {
          "data": {
            "text/plain": [
              "'ring'"
            ]
          },
          "execution_count": 48,
          "metadata": {},
          "output_type": "execute_result"
        }
      ],
      "source": [
        "word_list = ['box','ring','Smith','fighting','clan']\n",
        "for word in word_list:\n",
        "    if word.endswith(\"ing\"):\n",
        "       break\n",
        "word"
      ]
    },
    {
      "cell_type": "markdown",
      "metadata": {
        "id": "sVaKw9HwJrnY"
      },
      "source": [
        "This appears to work because in virtue of the way we wrote the loop, the last assigned value for `word` in the loop is the word we're looking for.  And also, because that value persists **outside the loop**.\n",
        "\n",
        "We say the scope of variables in the loop is **global** (in contrast to **local**).  That means values assigned in the loop, including values\n",
        "assigned to the loop variable affect the \"global namespace\", the\n",
        "names  which are accessible everywhere in the code.\n",
        "\n",
        "Contrast the behavior of the loop variable in a list comprehension (which\n",
        "differs in numerous ways from `for`-loops, including not supporting `continue` or ` break`).  "
      ]
    },
    {
      "cell_type": "code",
      "execution_count": null,
      "metadata": {
        "id": "td255riVJrnY",
        "outputId": "b861c96b-26cc-46e0-8899-cde50add4cde"
      },
      "outputs": [
        {
          "data": {
            "text/plain": [
              "['ring', 'fighting']"
            ]
          },
          "execution_count": 49,
          "metadata": {},
          "output_type": "execute_result"
        }
      ],
      "source": [
        "[wd for wd in word_list if wd.endswith(\"ing\")]"
      ]
    },
    {
      "cell_type": "markdown",
      "metadata": {
        "id": "yklUMAJSJrnY"
      },
      "source": [
        "After exiting this list comprehension the loop variable `wd` is undefined,\n",
        "if it was undefined before entering it."
      ]
    },
    {
      "cell_type": "code",
      "execution_count": null,
      "metadata": {
        "id": "JQRaxgLqJrnY",
        "outputId": "16ed2b86-6523-4453-b52c-6b9d6dca10a5"
      },
      "outputs": [
        {
          "ename": "NameError",
          "evalue": "name 'wd' is not defined",
          "output_type": "error",
          "traceback": [
            "\u001b[0;31m---------------------------------------------------------------------------\u001b[0m",
            "\u001b[0;31mNameError\u001b[0m                                 Traceback (most recent call last)",
            "\u001b[0;32m/var/folders/w9/bx4mylnd27g_kqqgn5hrn2x40000gr/T/ipykernel_37154/1419614900.py\u001b[0m in \u001b[0;36m<module>\u001b[0;34m\u001b[0m\n\u001b[0;32m----> 1\u001b[0;31m \u001b[0mwd\u001b[0m\u001b[0;34m\u001b[0m\u001b[0;34m\u001b[0m\u001b[0m\n\u001b[0m",
            "\u001b[0;31mNameError\u001b[0m: name 'wd' is not defined"
          ]
        }
      ],
      "source": [
        "wd"
      ]
    },
    {
      "cell_type": "markdown",
      "metadata": {
        "id": "SFXScAyEJrnY"
      },
      "source": [
        "There is an issue with the above \"simplest\" version\n",
        "of the loop. What if `word_list` doesn't contain a word ending in \"-ing\"?\n",
        "Then as the code is currently\n",
        "written, `word` will be set to the last word in the list\n",
        "whatever it is.  So the problem with this simplest\n",
        "version is that it gives us no indication of whether\n",
        "the search for an \"-ing\" word succeeded or failed, \n",
        "unless we check the ending of `word` once again.\n",
        "\n",
        "The way variables work in `for`-loops works is likely to remain unchanged, so it is fine to write the loop so as to access the loop\n",
        "var `word` outside the loop, especially if you are used to using loops\n",
        "that way.  But if you are not used to it, you can avoid using loop\n",
        "variables outside the loop by writing the loop the way we\n",
        "first wrote it, storing the word we want in a global variable `result`, defined before entering the loop.  This has the virtue of treating\n",
        "variables in loops and list comprehensions alike, and in\n",
        "treating the  code block in a loop the same way the code\n",
        "blocks in function definitions are treated.\n",
        "\n",
        "A more detailed discussion of variable scope is a topic for another notebook.\n",
        "Look [here.](https://colab.research.google.com/github/gawron/python-for-social-science/blob/master/intro/variable_scope_and_block_structure.ipynb)"
      ]
    },
    {
      "cell_type": "code",
      "execution_count": null,
      "metadata": {
        "id": "WnDyR6ZoJrnY"
      },
      "outputs": [],
      "source": []
    }
  ],
  "metadata": {
    "colab": {
      "provenance": []
    },
    "kernelspec": {
      "display_name": "Python 3 (ipykernel)",
      "language": "python",
      "name": "python3"
    },
    "language_info": {
      "codemirror_mode": {
        "name": "ipython",
        "version": 3
      },
      "file_extension": ".py",
      "mimetype": "text/x-python",
      "name": "python",
      "nbconvert_exporter": "python",
      "pygments_lexer": "ipython3",
      "version": "3.10.6"
    },
    "toc": {
      "base_numbering": 1,
      "nav_menu": {},
      "number_sections": true,
      "sideBar": true,
      "skip_h1_title": false,
      "title_cell": "Table of Contents",
      "title_sidebar": "Contents",
      "toc_cell": false,
      "toc_position": {},
      "toc_section_display": true,
      "toc_window_display": false
    }
  },
  "nbformat": 4,
  "nbformat_minor": 0
}