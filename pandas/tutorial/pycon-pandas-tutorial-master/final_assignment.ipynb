{
 "cells": [
  {
   "cell_type": "markdown",
   "metadata": {},
   "source": [
    "## Final Assignment"
   ]
  },
  {
   "cell_type": "code",
   "execution_count": 59,
   "metadata": {},
   "outputs": [],
   "source": [
    "# The Python modules you need for thisn assignment.\n",
    "import pandas as pd\n",
    "import os.path\n",
    "import urllib.request \n",
    "import os.path\n",
    "from matplotlib import pyplot as plt\n",
    "\n",
    "url_dir = 'https://gawron.sdsu.edu/python_for_ss/course_core/data'"
   ]
  },
  {
   "cell_type": "markdown",
   "metadata": {},
   "source": [
    "Loading and applying the style sheets in the next two cells customizes the styles of your notebook output,\n",
    "in particular for how pandas `DataFrame`s are printed.\n",
    "\n",
    "This is optional,  but it's interesting if you know anything about css files."
   ]
  },
  {
   "cell_type": "code",
   "execution_count": 60,
   "metadata": {},
   "outputs": [],
   "source": [
    "target_url1 = os.path.join(url_dir,'style-notebook.css')\n",
    "target_url2 = os.path.join(url_dir,'style-table.css')\n",
    "\n",
    "with urllib.request.urlopen(target_url1) as fh1:\n",
    "    css1 = fh1.read().decode('utf8')\n",
    "with urllib.request.urlopen(target_url2) as fh2:\n",
    "    css2 = fh2.read().decode('utf8')\n",
    "css = css1 + css2"
   ]
  },
  {
   "cell_type": "code",
   "execution_count": 61,
   "metadata": {},
   "outputs": [
    {
     "data": {
      "text/html": [
       "<style>h3 {\n",
       "    color: white;\n",
       "    background-color: black;\n",
       "    padding: 0.5em;\n",
       "}\n",
       "body {\n",
       "    margin: 0;\n",
       "    font-family: Helvetica;\n",
       "}\n",
       "table.dataframe {\n",
       "    border-collapse: collapse;\n",
       "    border: none;\n",
       "}\n",
       "table.dataframe tr {\n",
       "    border: none;\n",
       "}\n",
       "table.dataframe td, table.dataframe th {\n",
       "    margin: 0;\n",
       "    border: 1px solid white;\n",
       "    padding-left: 0.25em;\n",
       "    padding-right: 0.25em;\n",
       "}\n",
       "table.dataframe th:not(:empty) {\n",
       "    background-color: #fec;\n",
       "    text-align: left;\n",
       "    font-weight: normal;\n",
       "}\n",
       "table.dataframe tr:nth-child(2) th:empty {\n",
       "    border-left: none;\n",
       "    border-right: 1px dashed #888;\n",
       "}\n",
       "table.dataframe td {\n",
       "    border: 2px solid #ccf;\n",
       "    background-color: #f4f4ff;\n",
       "}\n",
       "</style>"
      ],
      "text/plain": [
       "<IPython.core.display.HTML object>"
      ]
     },
     "execution_count": 61,
     "metadata": {},
     "output_type": "execute_result"
    }
   ],
   "source": [
    "from IPython.core.display import HTML\n",
    "#css = open('style-table.css').read() + open('style-notebook.css').read()\n",
    "HTML('<style>{}</style>'.format(css))"
   ]
  },
  {
   "cell_type": "markdown",
   "metadata": {},
   "source": [
    "The next cell loads the `titles` DataFrame, the first of two used in this assignment.  There are only\n",
    "two columns, `'title'`  and `'year'`."
   ]
  },
  {
   "cell_type": "code",
   "execution_count": 4,
   "metadata": {},
   "outputs": [
    {
     "data": {
      "text/html": [
       "<div>\n",
       "<style scoped>\n",
       "    .dataframe tbody tr th:only-of-type {\n",
       "        vertical-align: middle;\n",
       "    }\n",
       "\n",
       "    .dataframe tbody tr th {\n",
       "        vertical-align: top;\n",
       "    }\n",
       "\n",
       "    .dataframe thead th {\n",
       "        text-align: right;\n",
       "    }\n",
       "</style>\n",
       "<table border=\"1\" class=\"dataframe\">\n",
       "  <thead>\n",
       "    <tr style=\"text-align: right;\">\n",
       "      <th></th>\n",
       "      <th>title</th>\n",
       "      <th>year</th>\n",
       "    </tr>\n",
       "  </thead>\n",
       "  <tbody>\n",
       "    <tr>\n",
       "      <th>0</th>\n",
       "      <td>The Patriarchs</td>\n",
       "      <td>2009</td>\n",
       "    </tr>\n",
       "    <tr>\n",
       "      <th>1</th>\n",
       "      <td>Angels in the Attic</td>\n",
       "      <td>1998</td>\n",
       "    </tr>\n",
       "    <tr>\n",
       "      <th>2</th>\n",
       "      <td>The Rapture</td>\n",
       "      <td>1991</td>\n",
       "    </tr>\n",
       "    <tr>\n",
       "      <th>3</th>\n",
       "      <td>Star na si Van Damme Stallone</td>\n",
       "      <td>2016</td>\n",
       "    </tr>\n",
       "    <tr>\n",
       "      <th>4</th>\n",
       "      <td>Sweet Talk</td>\n",
       "      <td>2004</td>\n",
       "    </tr>\n",
       "  </tbody>\n",
       "</table>\n",
       "</div>"
      ],
      "text/plain": [
       "                           title  year\n",
       "0                 The Patriarchs  2009\n",
       "1            Angels in the Attic  1998\n",
       "2                    The Rapture  1991\n",
       "3  Star na si Van Damme Stallone  2016\n",
       "4                     Sweet Talk  2004"
      ]
     },
     "execution_count": 4,
     "metadata": {},
     "output_type": "execute_result"
    }
   ],
   "source": [
    "titles = pd.read_csv(os.path.join(url_dir,'titles.csv'))\n",
    "titles.head()"
   ]
  },
  {
   "cell_type": "markdown",
   "metadata": {},
   "source": [
    "The next cell loads the `cast` DataFrame, the second of two used in this assignment.  This is\n",
    "large and will take a while."
   ]
  },
  {
   "cell_type": "code",
   "execution_count": 70,
   "metadata": {},
   "outputs": [
    {
     "data": {
      "text/html": [
       "<div>\n",
       "<style scoped>\n",
       "    .dataframe tbody tr th:only-of-type {\n",
       "        vertical-align: middle;\n",
       "    }\n",
       "\n",
       "    .dataframe tbody tr th {\n",
       "        vertical-align: top;\n",
       "    }\n",
       "\n",
       "    .dataframe thead th {\n",
       "        text-align: right;\n",
       "    }\n",
       "</style>\n",
       "<table border=\"1\" class=\"dataframe\">\n",
       "  <thead>\n",
       "    <tr style=\"text-align: right;\">\n",
       "      <th></th>\n",
       "      <th>title</th>\n",
       "      <th>year</th>\n",
       "      <th>name</th>\n",
       "      <th>type</th>\n",
       "      <th>character</th>\n",
       "      <th>n</th>\n",
       "    </tr>\n",
       "  </thead>\n",
       "  <tbody>\n",
       "    <tr>\n",
       "      <th>0</th>\n",
       "      <td>In the Land of the Head Hunters</td>\n",
       "      <td>1914</td>\n",
       "      <td>Paddy 'Malid</td>\n",
       "      <td>actor</td>\n",
       "      <td>Kenada</td>\n",
       "      <td>5.0</td>\n",
       "    </tr>\n",
       "    <tr>\n",
       "      <th>1</th>\n",
       "      <td>The Colour of Darkness</td>\n",
       "      <td>2016</td>\n",
       "      <td>Ketan Daraji -Gohel</td>\n",
       "      <td>actor</td>\n",
       "      <td>Chhagan</td>\n",
       "      <td>NaN</td>\n",
       "    </tr>\n",
       "    <tr>\n",
       "      <th>2</th>\n",
       "      <td>London Betty</td>\n",
       "      <td>2009</td>\n",
       "      <td>Isaiah Entsua -Mensah</td>\n",
       "      <td>actor</td>\n",
       "      <td>Camera Man</td>\n",
       "      <td>NaN</td>\n",
       "    </tr>\n",
       "    <tr>\n",
       "      <th>3</th>\n",
       "      <td>Candelabra</td>\n",
       "      <td>2014</td>\n",
       "      <td>Groovin .</td>\n",
       "      <td>actor</td>\n",
       "      <td>Lt. Dick Sims</td>\n",
       "      <td>5.0</td>\n",
       "    </tr>\n",
       "    <tr>\n",
       "      <th>4</th>\n",
       "      <td>Bad Ideas</td>\n",
       "      <td>2012</td>\n",
       "      <td>Hamid .</td>\n",
       "      <td>actor</td>\n",
       "      <td>The Diner</td>\n",
       "      <td>NaN</td>\n",
       "    </tr>\n",
       "  </tbody>\n",
       "</table>\n",
       "</div>"
      ],
      "text/plain": [
       "                             title  year                   name   type  \\\n",
       "0  In the Land of the Head Hunters  1914           Paddy 'Malid  actor   \n",
       "1           The Colour of Darkness  2016    Ketan Daraji -Gohel  actor   \n",
       "2                     London Betty  2009  Isaiah Entsua -Mensah  actor   \n",
       "3                       Candelabra  2014              Groovin .  actor   \n",
       "4                        Bad Ideas  2012                Hamid .  actor   \n",
       "\n",
       "       character    n  \n",
       "0         Kenada  5.0  \n",
       "1        Chhagan  NaN  \n",
       "2     Camera Man  NaN  \n",
       "3  Lt. Dick Sims  5.0  \n",
       "4      The Diner  NaN  "
      ]
     },
     "execution_count": 70,
     "metadata": {},
     "output_type": "execute_result"
    }
   ],
   "source": [
    "# This is much larger and wont work in google colab at the moment\n",
    "#cast = pd.read_csv(os.path.join(url_dir,'cast.csv'),index_col=0)\n",
    "cast = pd.read_csv(os.path.join(url_dir,'truncated_cast.csv'),index_col=0)\n",
    "cast.head()"
   ]
  },
  {
   "cell_type": "code",
   "execution_count": null,
   "metadata": {},
   "outputs": [],
   "source": []
  },
  {
   "cell_type": "markdown",
   "metadata": {},
   "source": [
    "## Creating the actor graph"
   ]
  },
  {
   "cell_type": "markdown",
   "metadata": {},
   "source": [
    "Steps\n",
    "\n",
    "0.  Create a subDataFrame of `cast` (call it `cast0`) with only the rows whose value in the `n` column is less than 10 (we are going to restrict our attention to the most important roles in each film).\n",
    "\n",
    "   ```\n",
    "   Cast: 422,837      Cast0: 192,307\n",
    "   Cast: 422,837      Cast0: 192,307\n",
    "   ```\n",
    "\n",
    "1.  Group the rows of `cast0` so that each group is a film, where a film is a pair of title and a year (remember that movies like *Ben Hur* have been made more than once).\n",
    "\n",
    "   ```\n",
    "   Number of groups = Number of films = 43,853\n",
    "   ```\n",
    "2.  Create a `networkx` graph (Call it `G`) using the `groupby` object from step 1, where each node is an actor/actress and there is an edge between two nodes if and only if the two actors were cast in the same film (according to `cast0`). \n",
    "\n",
    "   ```\n",
    "   len(G) = 36,774 len(G.edges) = 511,762\n",
    "   ```\n",
    "   \n",
    "   Hint: Start with an empty non directed `Graph` instance `G = nx.Graph()`.  You can build a graph\n",
    "   entirely by adding edges. (the corresponding nodes will automatically be added).\n",
    "   \n",
    "   Hint:  You really only care about the `name` column in each group, so convert your `GroupBy` instance\n",
    "   `gb` into a `SeriesGroupBy` instance by doing `gb[\"name\"]`.  You can loop through a `SeriesGroupBy` instance \n",
    "     \n",
    "     ```\n",
    "     for xx in gb[\"name\"]:\n",
    "     ```\n",
    "     \n",
    "   and each `xx` will correspond to a group (a film). See exampe below. You should be able to use `xx` to find all the actors in that film and an add edges to `G` for each pair of actors in the film.  You will probably fiond the `G.add_edges_from(...)` method useful."
   ]
  },
  {
   "cell_type": "markdown",
   "metadata": {},
   "source": [
    "#### Step 0"
   ]
  },
  {
   "cell_type": "code",
   "execution_count": 63,
   "metadata": {},
   "outputs": [
    {
     "data": {
      "text/plain": [
       "422837"
      ]
     },
     "execution_count": 63,
     "metadata": {},
     "output_type": "execute_result"
    }
   ],
   "source": [
    "len(cast)"
   ]
  },
  {
   "cell_type": "code",
   "execution_count": 64,
   "metadata": {},
   "outputs": [
    {
     "name": "stdout",
     "output_type": "stream",
     "text": [
      "Cast: 422,837      Cast0: 192,307\n"
     ]
    }
   ],
   "source": [
    "## Your code in the line below.  Let's just use top 9 roles.\n",
    "cast0 =  cast[cast['n'] < 10]  ## Add a value  cast[cast['n'] < 10]\n",
    "print(f\"Cast: {len(cast):,}      Cast0: {len(cast0):,}\")"
   ]
  },
  {
   "cell_type": "markdown",
   "metadata": {},
   "source": [
    "####  Step 1"
   ]
  },
  {
   "cell_type": "code",
   "execution_count": 71,
   "metadata": {},
   "outputs": [],
   "source": [
    "# Create the Series groupby object using cast0.  Remember: A film is a pair of a title and a year.\n",
    "# You can convert a groupby instance `gb` into a `SeriesGroupBy` instance by doing `gb[\"name\"]`\n",
    "# Then the group members of each group will be the cast of a film.\n",
    "cg =   cast0.groupby(['title','year'])['name']    "
   ]
  },
  {
   "cell_type": "code",
   "execution_count": 72,
   "metadata": {},
   "outputs": [
    {
     "data": {
      "text/plain": [
       "43853"
      ]
     },
     "execution_count": 72,
     "metadata": {},
     "output_type": "execute_result"
    }
   ],
   "source": [
    "len(cg)"
   ]
  },
  {
   "cell_type": "code",
   "execution_count": 73,
   "metadata": {},
   "outputs": [
    {
     "data": {
      "text/plain": [
       "pandas.core.groupby.generic.SeriesGroupBy"
      ]
     },
     "execution_count": 73,
     "metadata": {},
     "output_type": "execute_result"
    }
   ],
   "source": [
    "type(cg)"
   ]
  },
  {
   "cell_type": "markdown",
   "metadata": {},
   "source": [
    "#### Getting a group/Looping through the groups"
   ]
  },
  {
   "cell_type": "markdown",
   "metadata": {},
   "source": [
    "We illustrate what the groupby object looks like/does. In the following cells `cg` is a `SeriesGroupBy` instance created by the code you wrote above, where each group in `cg` corresponds to a film (a title, year pair).\n",
    "\n",
    "For example,"
   ]
  },
  {
   "cell_type": "code",
   "execution_count": 44,
   "metadata": {},
   "outputs": [],
   "source": [
    "cg1_ser = cg.get_group(('Bringing Up Baby', 1938))"
   ]
  },
  {
   "cell_type": "code",
   "execution_count": 56,
   "metadata": {},
   "outputs": [
    {
     "data": {
      "text/plain": [
       "pandas.core.series.Series"
      ]
     },
     "execution_count": 56,
     "metadata": {},
     "output_type": "execute_result"
    }
   ],
   "source": [
    "type(cg1_ser)"
   ]
  },
  {
   "cell_type": "markdown",
   "metadata": {},
   "source": [
    "The `Seriess` `cg1_ser` contains the 9 most important members of the cast of \"Bringing Up Baby\" (in no particular order)."
   ]
  },
  {
   "cell_type": "code",
   "execution_count": 45,
   "metadata": {},
   "outputs": [
    {
     "data": {
      "text/plain": [
       "339187        Walter Catlett\n",
       "650147            Fritz Feld\n",
       "670773      Barry Fitzgerald\n",
       "797118            Cary Grant\n",
       "978604         George Irving\n",
       "1810038      Charles Ruggles\n",
       "2751791    Katharine Hepburn\n",
       "3172772        Leona Roberts\n",
       "3175356           May Robson\n",
       "Name: name, dtype: object"
      ]
     },
     "execution_count": 45,
     "metadata": {},
     "output_type": "execute_result"
    }
   ],
   "source": [
    "cg1_ser"
   ]
  },
  {
   "cell_type": "markdown",
   "metadata": {},
   "source": [
    "So this film licenses 9 nodes and 36 edges in the graph, because\n",
    "there are 9 actors, and since there are 36 actor pairs: (9*8)/2,\n",
    "we draw 36 edges  among the 9 actors.\n",
    "\n",
    "So this subpart of the actors graph looks like this (with the 9 actors\n",
    "represented as the integers 1-9)."
   ]
  },
  {
   "cell_type": "code",
   "execution_count": 46,
   "metadata": {
    "scrolled": true
   },
   "outputs": [
    {
     "data": {
      "text/plain": [
       "36.0"
      ]
     },
     "execution_count": 46,
     "metadata": {},
     "output_type": "execute_result"
    }
   ],
   "source": [
    "(9*8)/2"
   ]
  },
  {
   "cell_type": "code",
   "execution_count": 80,
   "metadata": {},
   "outputs": [
    {
     "data": {
      "image/png": "[encoded data removed]",
      "text/plain": [
       "<Figure size 640x480 with 1 Axes>"
      ]
     },
     "metadata": {},
     "output_type": "display_data"
    }
   ],
   "source": [
    "import networkx as nx\n",
    "\n",
    "nx.draw_networkx(nx.complete_graph(9))"
   ]
  },
  {
   "cell_type": "markdown",
   "metadata": {},
   "source": [
    "The number of egdes (36) comes from the formula for computing the number of pairs in a set of size n:  (n * (n-1))/2.\n",
    "\n",
    "A more useful way of looking at it for writing the code is to pair each actor with all the actors below them in the cast list above.  Walter Catlett\n",
    "gets paired with 8 other actors.  Fritz Feld gets paired with 7 others\n",
    "(he's already paired with Walter Catlett). Barry Fitzgerald gets paired\n",
    "with 6 others, and so on until Lenoa Roberts gets paired with May Robson. So the number of pairs is:"
   ]
  },
  {
   "cell_type": "code",
   "execution_count": 47,
   "metadata": {},
   "outputs": [
    {
     "data": {
      "text/plain": [
       "36"
      ]
     },
     "execution_count": 47,
     "metadata": {},
     "output_type": "execute_result"
    }
   ],
   "source": [
    "8 + 7 + 6 + 5 + 4 + 3 + 2 + 1"
   ]
  },
  {
   "cell_type": "markdown",
   "metadata": {},
   "source": [
    "Looping through the `SeriesGroupBy` instance `cg`;  `cg` is an iterable of pairs of the form `((title,year), Ser)`, where `Ser` is a `pandas Series` containing the cast of the movie with title `title` made in year `year`. Since it's the cast you need to construct the graph, it's `Ser` you care about."
   ]
  },
  {
   "cell_type": "code",
   "execution_count": 57,
   "metadata": {},
   "outputs": [
    {
     "name": "stdout",
     "output_type": "stream",
     "text": [
      "2\n",
      "('#REALITYHIGH', 2017)\n",
      "<class 'pandas.core.series.Series'>\n",
      "3211354    Alicia Sanz\n",
      "Name: name, dtype: object\n"
     ]
    }
   ],
   "source": [
    "for g in  cg:\n",
    "    print(len(g))\n",
    "    print(g[0])\n",
    "    print(type(g[1]))\n",
    "    print(g[1])\n",
    "    # Example stopped after looking at just one group (film) This film has only one cast member!\n",
    "    break"
   ]
  },
  {
   "cell_type": "markdown",
   "metadata": {},
   "source": [
    "#### Step 2 Making the actor graph"
   ]
  },
  {
   "cell_type": "code",
   "execution_count": 49,
   "metadata": {},
   "outputs": [],
   "source": [
    "import networkx as nx\n",
    "G = nx.Graph()\n",
    "# for g in cg:\n",
    "for (film, g_ser) in cg:\n",
    "    for (i,name) in enumerate(g_ser):\n",
    "        G.add_edges_from([(name,name2) for name2 in g_ser.iloc[i+1:]])"
   ]
  },
  {
   "cell_type": "markdown",
   "metadata": {},
   "source": [
    "###  Answer the following questions about G\n",
    "\n",
    "Be sure to verify each answer with a code snippet.  You won't get credit\n",
    "for your answers unless you provide the coe snippet that answers the question."
   ]
  },
  {
   "cell_type": "markdown",
   "metadata": {},
   "source": [
    "###  How many actors are there in G?"
   ]
  },
  {
   "cell_type": "code",
   "execution_count": 50,
   "metadata": {},
   "outputs": [
    {
     "data": {
      "text/plain": [
       "36774"
      ]
     },
     "execution_count": 50,
     "metadata": {},
     "output_type": "execute_result"
    }
   ],
   "source": [
    "len(G)"
   ]
  },
  {
   "cell_type": "markdown",
   "metadata": {},
   "source": [
    "### How many edges does G have?"
   ]
  },
  {
   "cell_type": "code",
   "execution_count": 51,
   "metadata": {},
   "outputs": [
    {
     "data": {
      "text/plain": [
       "511762"
      ]
     },
     "execution_count": 51,
     "metadata": {},
     "output_type": "execute_result"
    }
   ],
   "source": [
    "len(G.edges)"
   ]
  },
  {
   "cell_type": "markdown",
   "metadata": {},
   "source": [
    "### How many actors is Barry Fitzgerald connected to in `G`?  How many actors is Cary Grant connected to?"
   ]
  },
  {
   "cell_type": "code",
   "execution_count": 52,
   "metadata": {},
   "outputs": [
    {
     "data": {
      "text/plain": [
       "(62, 239)"
      ]
     },
     "execution_count": 52,
     "metadata": {},
     "output_type": "execute_result"
    }
   ],
   "source": [
    "G.degree('Barry Fitzgerald'),G.degree('Cary Grant')"
   ]
  },
  {
   "cell_type": "markdown",
   "metadata": {},
   "source": [
    "###  What are the degree centrality values for Barry Fitzgerald and Cary Grant?"
   ]
  },
  {
   "cell_type": "code",
   "execution_count": 53,
   "metadata": {},
   "outputs": [],
   "source": [
    "dc = nx.degree_centrality(G)"
   ]
  },
  {
   "cell_type": "code",
   "execution_count": 54,
   "metadata": {
    "scrolled": true
   },
   "outputs": [
    {
     "data": {
      "text/plain": [
       "(0.0016860196339705763, 0.0064993337503059315)"
      ]
     },
     "execution_count": 54,
     "metadata": {},
     "output_type": "execute_result"
    }
   ],
   "source": [
    "dc['Barry Fitzgerald'],dc['Cary Grant']"
   ]
  },
  {
   "cell_type": "markdown",
   "metadata": {},
   "source": [
    "### Have Christopher Walken and Cyndi Lauper ever appeared in a film together (according to `G`)?"
   ]
  },
  {
   "cell_type": "markdown",
   "metadata": {},
   "source": [
    "Again if you are a film buff and you happen to know whether Cyndi Lauper and Barry Fitzgerald ever appeared in a movie together that is of no use\n",
    "to you here.  You need the code snippet that looks up that fact in G."
   ]
  },
  {
   "cell_type": "code",
   "execution_count": 55,
   "metadata": {},
   "outputs": [
    {
     "data": {
      "text/plain": [
       "False"
      ]
     },
     "execution_count": 55,
     "metadata": {},
     "output_type": "execute_result"
    }
   ],
   "source": [
    "('Cyndi Lauper','Barry Fitzgerald') in G.edges()"
   ]
  },
  {
   "cell_type": "markdown",
   "metadata": {},
   "source": [
    "### Have Josephine Hutchinson and Cary Grant ever occured in a film together (according to `G`)?"
   ]
  },
  {
   "cell_type": "code",
   "execution_count": 17,
   "metadata": {},
   "outputs": [
    {
     "data": {
      "text/plain": [
       "True"
      ]
     },
     "execution_count": 17,
     "metadata": {},
     "output_type": "execute_result"
    }
   ],
   "source": [
    "('Josephine Hutchinson','Cary Grant' ) in G.edges()"
   ]
  },
  {
   "cell_type": "markdown",
   "metadata": {},
   "source": [
    "### List the actors with the top 100 degree centralities\n",
    "\n",
    "More specifically, construct a list with just the top 100 actors in the order\n",
    "of their degree centrality in G from highest to lowest.  To be clear, the list should\n",
    "**not** include the centrality values."
   ]
  },
  {
   "cell_type": "code",
   "execution_count": 18,
   "metadata": {},
   "outputs": [
    {
     "data": {
      "text/plain": [
       "['J. Farrell MacDonald',\n",
       " 'Raymond Hatton',\n",
       " 'Noah Beery',\n",
       " 'Richard Tucker',\n",
       " 'Tully Marshall',\n",
       " 'Zasu Pitts',\n",
       " 'Lucien Littlefield',\n",
       " 'Alec B. Francis',\n",
       " 'Jack Mulhall',\n",
       " 'Joseph W. Girard',\n",
       " 'Montagu Love',\n",
       " 'George Fawcett',\n",
       " 'Alan Hale',\n",
       " 'Eugene Pallette',\n",
       " 'Arthur Hoyt',\n",
       " 'Jack Holt',\n",
       " 'Hedda Hopper',\n",
       " 'John Miljan',\n",
       " 'Robert Frazer',\n",
       " 'Lafe McKee',\n",
       " 'Adolphe Menjou',\n",
       " 'Wade Boteler',\n",
       " 'Lewis Stone',\n",
       " 'Hobart Bosworth',\n",
       " 'Charles K. French',\n",
       " 'Crauford Kent',\n",
       " 'Henry B. Walthall',\n",
       " 'Lois Wilson',\n",
       " 'Philo McCullough',\n",
       " 'Wheeler Oakman',\n",
       " 'Fred Kohler',\n",
       " 'Holmes Herbert',\n",
       " 'Jean Hersholt',\n",
       " 'Monte Blue',\n",
       " 'Henry Kolker',\n",
       " 'Buck Jones',\n",
       " 'Harry Carey',\n",
       " \"Guinn 'Big Boy' Williams\",\n",
       " 'Betty Compson',\n",
       " 'William V. Mong',\n",
       " 'Kenneth Harlan',\n",
       " 'Walter McGrail',\n",
       " 'Josef Swickard',\n",
       " 'Wallace Beery',\n",
       " 'Bryant Washburn',\n",
       " 'William B. Davidson',\n",
       " 'Russell Simpson',\n",
       " 'Theodore von Eltz',\n",
       " 'Gertrude Astor',\n",
       " 'Walter Miller',\n",
       " 'Conrad Nagel',\n",
       " 'Edmund Lowe',\n",
       " 'Huntley Gordon',\n",
       " 'DeWitt Jennings',\n",
       " 'Louise Fazenda',\n",
       " 'Reginald Denny',\n",
       " 'Tom London',\n",
       " 'Walter Long',\n",
       " 'Edward Everett Horton',\n",
       " 'Herbert Rawlinson',\n",
       " 'H.B. Warner',\n",
       " 'Evelyn Brent',\n",
       " 'Neil Hamilton',\n",
       " 'George Irving',\n",
       " 'Conway Tearle',\n",
       " 'Warner Oland',\n",
       " 'Lloyd Hughes',\n",
       " 'Otis Harlan',\n",
       " 'Harvey Clark',\n",
       " 'Robert Ellis',\n",
       " 'Lionel Belmore',\n",
       " 'Charles Clary',\n",
       " 'Warner Baxter',\n",
       " 'Edward Peil Sr.',\n",
       " 'Frankie Darro',\n",
       " 'John St. Polis',\n",
       " 'Ricardo Cortez',\n",
       " 'Mary Carr',\n",
       " 'Claire McDowell',\n",
       " 'Francis McDonald',\n",
       " 'Richard Dix',\n",
       " 'Frank Currier',\n",
       " 'George Cooper',\n",
       " 'William Desmond',\n",
       " 'Roscoe Karns',\n",
       " 'Paul Hurst',\n",
       " 'Berton Churchill',\n",
       " 'Lionel Barrymore',\n",
       " 'Edward Hearn',\n",
       " 'Mary Astor',\n",
       " 'Wallace MacDonald',\n",
       " 'Lila Lee',\n",
       " 'Stuart Holmes',\n",
       " 'Robert Warwick',\n",
       " 'Edmund Breese',\n",
       " 'Irene Rich',\n",
       " \"Pat O'Malley\",\n",
       " 'Lee Shumway',\n",
       " 'Thurston Hall',\n",
       " 'Wilfred Lucas']"
      ]
     },
     "execution_count": 18,
     "metadata": {},
     "output_type": "execute_result"
    }
   ],
   "source": [
    "dc_il = sorted(dc.items(),key=lambda x:x[1],reverse=True)\n",
    "dc_rankings = [act for (act, cc) in dc_il]\n",
    "cc_rankings[:100]"
   ]
  },
  {
   "cell_type": "markdown",
   "metadata": {},
   "source": [
    "### Compute the clustering coefficient for G"
   ]
  },
  {
   "cell_type": "markdown",
   "metadata": {},
   "source": [
    "The question you are going to answer is:  Is the clustering coefficient for G higher or lower than\n",
    "that of most social networks?  You will estimate a rough answer fpor this question\n",
    "buy comparing the clutering coefficient of the Karate Graph and the Florentine Familes graph,\n",
    "both available in `networkx`.  In a sentence or twom, explain why you would expect the clustering coefficient to be higher/lower that it is for most social networks.  Then do the computations to validate your guess.\n"
   ]
  },
  {
   "cell_type": "markdown",
   "metadata": {},
   "source": [
    "### List the actors with top 100 Closness Centralities (in the same way as in the previous question)"
   ]
  },
  {
   "cell_type": "markdown",
   "metadata": {},
   "source": [
    "Note:  If you do this right, it should take quite a bit longer than the previous question.\n",
    "Look at the times printed out below, which are for a Mac laptop."
   ]
  },
  {
   "cell_type": "code",
   "execution_count": 20,
   "metadata": {},
   "outputs": [
    {
     "name": "stdout",
     "output_type": "stream",
     "text": [
      "Wed Jan 18 10:29:50 2023\n",
      "Wed Jan 18 11:25:35 2023\n"
     ]
    }
   ],
   "source": [
    "import time\n",
    "print(time.asctime( time.localtime(time.time()) ))\n",
    "cc = nx.closeness_centrality(G)\n",
    "print(time.asctime( time.localtime(time.time()) ))"
   ]
  },
  {
   "cell_type": "markdown",
   "metadata": {},
   "source": [
    "Many differences in the rankings.  For instance the number 1 ranking actor by degree centrality is ranked 8 by closeness centrality."
   ]
  },
  {
   "cell_type": "code",
   "execution_count": 30,
   "metadata": {},
   "outputs": [
    {
     "data": {
      "text/plain": [
       "7"
      ]
     },
     "execution_count": 30,
     "metadata": {},
     "output_type": "execute_result"
    }
   ],
   "source": [
    "cc_rankings.index('Raymond Hatton')"
   ]
  },
  {
   "cell_type": "code",
   "execution_count": 29,
   "metadata": {},
   "outputs": [
    {
     "data": {
      "text/plain": [
       "['Noah Beery',\n",
       " 'Adolphe Menjou',\n",
       " 'Zasu Pitts',\n",
       " 'C. Aubrey Smith',\n",
       " 'Eugene Pallette',\n",
       " 'H.B. Warner',\n",
       " 'Clive Brook',\n",
       " 'Raymond Hatton',\n",
       " 'Neil Hamilton',\n",
       " 'J. Farrell MacDonald',\n",
       " 'Edward Everett Horton',\n",
       " 'Warner Oland',\n",
       " 'John Miljan',\n",
       " 'Lionel Barrymore',\n",
       " 'Hedda Hopper',\n",
       " 'Richard Tucker',\n",
       " 'Edmund Lowe',\n",
       " 'Montagu Love',\n",
       " 'Victor McLaglen',\n",
       " 'Arthur Hoyt',\n",
       " 'Lucien Littlefield',\n",
       " 'Jean Hersholt',\n",
       " 'Wallace Beery',\n",
       " 'Holmes Herbert',\n",
       " 'Alan Hale',\n",
       " 'George Fawcett',\n",
       " 'Evelyn Brent',\n",
       " 'Gustav von Seyffertitz',\n",
       " 'Emily Fitzroy',\n",
       " 'Reginald Denny',\n",
       " 'Conrad Nagel',\n",
       " 'Henry Kolker',\n",
       " 'Warner Baxter',\n",
       " 'Reginald Owen',\n",
       " 'Jack Holt',\n",
       " 'Tully Marshall',\n",
       " 'Lewis Stone',\n",
       " 'Pola Negri',\n",
       " 'Ricardo Cortez',\n",
       " 'Alec B. Francis',\n",
       " 'Boris Karloff',\n",
       " 'Conway Tearle',\n",
       " 'Henry B. Walthall',\n",
       " 'Esther Ralston',\n",
       " 'Mary Carr',\n",
       " 'Hobart Bosworth',\n",
       " 'Betty Compson',\n",
       " 'Anna May Wong',\n",
       " 'Jameson Thomas',\n",
       " 'Winter Hall',\n",
       " 'Lawrence Grant',\n",
       " 'Jack Mulhall',\n",
       " 'Huntley Gordon',\n",
       " 'Fred Kohler',\n",
       " 'Lois Wilson',\n",
       " 'Josef Swickard',\n",
       " 'Albert Conti',\n",
       " 'Gary Cooper',\n",
       " 'Claude Gillingwater',\n",
       " 'Ben Lyon',\n",
       " 'Claude King',\n",
       " 'Warwick Ward',\n",
       " 'Crauford Kent',\n",
       " 'David Torrence',\n",
       " 'Robert Frazer',\n",
       " 'Mary Brian',\n",
       " 'Mischa Auer',\n",
       " 'Sidney Blackmer',\n",
       " 'Edmund Breese',\n",
       " 'Roscoe Karns',\n",
       " 'Paul Lukas',\n",
       " 'Rod La Rocque',\n",
       " 'John St. Polis',\n",
       " 'Myrna Loy',\n",
       " 'Irene Rich',\n",
       " 'Helen Jerome Eddy',\n",
       " 'Walter Byron',\n",
       " 'Robert Edeson',\n",
       " 'Louise Fazenda',\n",
       " 'Matthew Betz',\n",
       " 'Anders Randolf',\n",
       " 'Percy Marmont',\n",
       " 'John Gilbert',\n",
       " 'Betty Blythe',\n",
       " 'Victor Varconi',\n",
       " 'Fay Wray',\n",
       " 'Walter Long',\n",
       " 'William Powell',\n",
       " 'Dorothy Revier',\n",
       " 'Douglas Fairbanks Jr.',\n",
       " 'Lionel Belmore',\n",
       " 'Gibson Gowland',\n",
       " 'Gertrude Astor',\n",
       " 'Theodore von Eltz',\n",
       " 'Nils Asther',\n",
       " 'George E. Stone',\n",
       " 'Alan Mowbray',\n",
       " 'Nigel Barrie',\n",
       " 'Bryant Washburn',\n",
       " 'Henry Stephenson']"
      ]
     },
     "execution_count": 29,
     "metadata": {},
     "output_type": "execute_result"
    }
   ],
   "source": [
    "#cc_il = sorted(kc.items(),key=lambda x:x[1],reverse=True)\n",
    "cc_il = sorted(cc.items(),key=lambda x:x[1],reverse=True)\n",
    "cc_rankings = [act for (act, cc) in kc_il]\n",
    "cc_rankings[:100]"
   ]
  },
  {
   "cell_type": "markdown",
   "metadata": {
    "collapsed": true
   },
   "source": [
    "### Using groupby(), plot the number of films that have been released each decade using all films made in or before 2022"
   ]
  },
  {
   "cell_type": "markdown",
   "metadata": {},
   "source": [
    "You should use your plot to answer the following ancillary question.  In what decade did the number of films\n",
    "made go down?  Can you come up with an explanation as to why?"
   ]
  },
  {
   "cell_type": "code",
   "execution_count": 235,
   "metadata": {},
   "outputs": [
    {
     "data": {
      "text/plain": [
       "<AxesSubplot:xlabel='decade'>"
      ]
     },
     "execution_count": 235,
     "metadata": {},
     "output_type": "execute_result"
    },
    {
     "data": {
      "image/png": "[encoded data removed]",
      "text/plain": [
       "<Figure size 640x480 with 1 Axes>"
      ]
     },
     "metadata": {},
     "output_type": "display_data"
    }
   ],
   "source": [
    "titles['decade'] = 10*(titles['year']//10)\n",
    "tg=titles[titles['year']<2022].groupby('decade').count()\n",
    "tg['title'].plot(kind='bar')"
   ]
  },
  {
   "cell_type": "markdown",
   "metadata": {},
   "source": [
    "[Your answer to the ancillary question goes here]"
   ]
  },
  {
   "cell_type": "markdown",
   "metadata": {
    "collapsed": true
   },
   "source": [
    "### Use groupby() to plot the number of \"Hamlet\" films made each decade."
   ]
  },
  {
   "cell_type": "markdown",
   "metadata": {},
   "source": [
    "Solution without adding another column.  Use a groupby function."
   ]
  },
  {
   "cell_type": "code",
   "execution_count": 236,
   "metadata": {},
   "outputs": [],
   "source": [
    "#hamlet_by_decades = titles[titles['title']=='Hamlet'].groupby(lambda i: 10*(titles.loc[i].year//10))\n",
    "hamlet_by_decades = titles[titles['title']=='Hamlet'].groupby(10*(titles.year//10)).count()"
   ]
  },
  {
   "cell_type": "code",
   "execution_count": 172,
   "metadata": {},
   "outputs": [],
   "source": [
    "titles['decade'] = 10*(titles.year//10)\n",
    "hamlet_by_decades2 = titles[titles['title']=='Hamlet'].groupby('decade').count()"
   ]
  },
  {
   "cell_type": "code",
   "execution_count": 209,
   "metadata": {},
   "outputs": [
    {
     "data": {
      "text/html": [
       "<div>\n",
       "<style scoped>\n",
       "    .dataframe tbody tr th:only-of-type {\n",
       "        vertical-align: middle;\n",
       "    }\n",
       "\n",
       "    .dataframe tbody tr th {\n",
       "        vertical-align: top;\n",
       "    }\n",
       "\n",
       "    .dataframe thead th {\n",
       "        text-align: right;\n",
       "    }\n",
       "</style>\n",
       "<table border=\"1\" class=\"dataframe\">\n",
       "  <thead>\n",
       "    <tr style=\"text-align: right;\">\n",
       "      <th></th>\n",
       "      <th>title</th>\n",
       "      <th>year</th>\n",
       "    </tr>\n",
       "    <tr>\n",
       "      <th>year</th>\n",
       "      <th></th>\n",
       "      <th></th>\n",
       "    </tr>\n",
       "  </thead>\n",
       "  <tbody>\n",
       "    <tr>\n",
       "      <th>1910</th>\n",
       "      <td>3</td>\n",
       "      <td>3</td>\n",
       "    </tr>\n",
       "    <tr>\n",
       "      <th>1920</th>\n",
       "      <td>1</td>\n",
       "      <td>1</td>\n",
       "    </tr>\n",
       "    <tr>\n",
       "      <th>1940</th>\n",
       "      <td>1</td>\n",
       "      <td>1</td>\n",
       "    </tr>\n",
       "    <tr>\n",
       "      <th>1950</th>\n",
       "      <td>1</td>\n",
       "      <td>1</td>\n",
       "    </tr>\n",
       "    <tr>\n",
       "      <th>1960</th>\n",
       "      <td>2</td>\n",
       "      <td>2</td>\n",
       "    </tr>\n",
       "    <tr>\n",
       "      <th>1970</th>\n",
       "      <td>2</td>\n",
       "      <td>2</td>\n",
       "    </tr>\n",
       "    <tr>\n",
       "      <th>1980</th>\n",
       "      <td>1</td>\n",
       "      <td>1</td>\n",
       "    </tr>\n",
       "    <tr>\n",
       "      <th>1990</th>\n",
       "      <td>2</td>\n",
       "      <td>2</td>\n",
       "    </tr>\n",
       "    <tr>\n",
       "      <th>2000</th>\n",
       "      <td>2</td>\n",
       "      <td>2</td>\n",
       "    </tr>\n",
       "    <tr>\n",
       "      <th>2010</th>\n",
       "      <td>5</td>\n",
       "      <td>5</td>\n",
       "    </tr>\n",
       "  </tbody>\n",
       "</table>\n",
       "</div>"
      ],
      "text/plain": [
       "      title  year\n",
       "year             \n",
       "1910      3     3\n",
       "1920      1     1\n",
       "1940      1     1\n",
       "1950      1     1\n",
       "1960      2     2\n",
       "1970      2     2\n",
       "1980      1     1\n",
       "1990      2     2\n",
       "2000      2     2\n",
       "2010      5     5"
      ]
     },
     "execution_count": 209,
     "metadata": {},
     "output_type": "execute_result"
    }
   ],
   "source": [
    "hamlet_by_decades"
   ]
  },
  {
   "cell_type": "code",
   "execution_count": 237,
   "metadata": {},
   "outputs": [
    {
     "data": {
      "text/plain": [
       "<AxesSubplot:xlabel='year'>"
      ]
     },
     "execution_count": 237,
     "metadata": {},
     "output_type": "execute_result"
    },
    {
     "data": {
      "image/png": "[encoded data removed]",
      "text/plain": [
       "<Figure size 640x480 with 1 Axes>"
      ]
     },
     "metadata": {},
     "output_type": "display_data"
    }
   ],
   "source": [
    "hamlet_by_decades['year'].plot(kind='bar')"
   ]
  },
  {
   "cell_type": "markdown",
   "metadata": {
    "collapsed": true
   },
   "source": [
    "### How many leading (n=1) roles were available to actors, and how many to actresses, in each year of the 1950s?"
   ]
  },
  {
   "cell_type": "code",
   "execution_count": null,
   "metadata": {
    "collapsed": true
   },
   "outputs": [],
   "source": []
  },
  {
   "cell_type": "code",
   "execution_count": null,
   "metadata": {
    "collapsed": true
   },
   "outputs": [],
   "source": []
  },
  {
   "cell_type": "markdown",
   "metadata": {
    "collapsed": true
   },
   "source": [
    "### In the 1950s decade taken as a whole, how many total roles were available to actors, and how many to actresses, for each \"n\" number 1 through 5?"
   ]
  },
  {
   "cell_type": "markdown",
   "metadata": {},
   "source": [
    "First get a `DataFrame` restricted to the right rows."
   ]
  },
  {
   "cell_type": "code",
   "execution_count": 90,
   "metadata": {},
   "outputs": [],
   "source": [
    "c = cast\n",
    "c['decade'] = 10*(cast['year']//10)\n",
    "c = c[(c['decade'] == 1950)&(c['n']<=5)]"
   ]
  },
  {
   "cell_type": "markdown",
   "metadata": {},
   "source": [
    "followed by one of two ways of grouping, which get equivalent results."
   ]
  },
  {
   "cell_type": "code",
   "execution_count": 104,
   "metadata": {},
   "outputs": [
    {
     "data": {
      "text/plain": [
       "n    type   \n",
       "1.0  actor      216\n",
       "     actress     78\n",
       "2.0  actor      145\n",
       "     actress    137\n",
       "3.0  actor      174\n",
       "     actress     95\n",
       "4.0  actor      165\n",
       "     actress     67\n",
       "5.0  actor      148\n",
       "     actress     65\n",
       "Name: type, dtype: int64"
      ]
     },
     "execution_count": 104,
     "metadata": {},
     "output_type": "execute_result"
    }
   ],
   "source": [
    "cg = c.groupby(['n'])\n",
    "vc = cg['type'].value_counts()\n",
    "vc"
   ]
  },
  {
   "cell_type": "code",
   "execution_count": 106,
   "metadata": {
    "scrolled": true
   },
   "outputs": [
    {
     "data": {
      "text/plain": [
       "n    type   \n",
       "1.0  actor      216\n",
       "     actress     78\n",
       "2.0  actor      145\n",
       "     actress    137\n",
       "3.0  actor      174\n",
       "     actress     95\n",
       "4.0  actor      165\n",
       "     actress     67\n",
       "5.0  actor      148\n",
       "     actress     65\n",
       "dtype: int64"
      ]
     },
     "execution_count": 106,
     "metadata": {},
     "output_type": "execute_result"
    }
   ],
   "source": [
    "cg = c.groupby(['n','type'])\n",
    "sz = cg.size()\n",
    "sz"
   ]
  },
  {
   "cell_type": "markdown",
   "metadata": {
    "collapsed": true
   },
   "source": [
    "### List each of the movies (year/title pairs) in which Peter Sellers has played at least two roles"
   ]
  },
  {
   "cell_type": "code",
   "execution_count": 74,
   "metadata": {},
   "outputs": [
    {
     "data": {
      "text/plain": [
       "year  title                                                               \n",
       "1951  Penny Points to Paradise                                                2\n",
       "1959  I'm All Right Jack                                                      2\n",
       "      The Mouse That Roared                                                   3\n",
       "1964  Dr. Strangelove or: How I Learned to Stop Worrying and Love the Bomb    3\n",
       "1974  Soft Beds, Hard Battles                                                 6\n",
       "1979  The Prisoner of Zenda                                                   3\n",
       "1980  The Fiendish Plot of Dr. Fu Manchu                                      2\n",
       "dtype: int64"
      ]
     },
     "execution_count": 74,
     "metadata": {},
     "output_type": "execute_result"
    }
   ],
   "source": [
    "#### List each of the movies (year/title pairs) in which Peter Sellers has played at least two roles\n",
    "\n",
    "c = cast\n",
    "c = c[c.name == 'Peter Sellers']\n",
    "# A series whose values contain the answer\n",
    "g = c.groupby(['year', 'title']).size()\n",
    "# constrain to the right rows\n",
    "g[g > 1]"
   ]
  },
  {
   "cell_type": "code",
   "execution_count": null,
   "metadata": {},
   "outputs": [],
   "source": []
  },
  {
   "cell_type": "markdown",
   "metadata": {},
   "source": [
    "### List the actor who has played the most roles in a single film together with the year and title of the film and the number of roles played. For extra credit (in a separate computation) list the roles that actor played in that film."
   ]
  },
  {
   "cell_type": "code",
   "execution_count": 78,
   "metadata": {},
   "outputs": [
    {
     "data": {
      "text/plain": [
       "name              year  title             \n",
       "Dan Castellaneta  2007  The Simpsons Movie    21\n",
       "dtype: int64"
      ]
     },
     "execution_count": 78,
     "metadata": {},
     "output_type": "execute_result"
    }
   ],
   "source": [
    "c=cast\n",
    "# Each group is one actor's roles in a single film.\n",
    "g_by = c.groupby(['name','year', 'title'])\n",
    "ser = g_by.size()\n",
    "ser.sort_values()[-1:]"
   ]
  },
  {
   "cell_type": "markdown",
   "metadata": {},
   "source": [
    "And here are the 21 roles.  Who can forget Castellaneta's performance as Multi-Eyed Squirrel?"
   ]
  },
  {
   "cell_type": "code",
   "execution_count": 77,
   "metadata": {},
   "outputs": [
    {
     "data": {
      "text/html": [
       "<div>\n",
       "<style scoped>\n",
       "    .dataframe tbody tr th:only-of-type {\n",
       "        vertical-align: middle;\n",
       "    }\n",
       "\n",
       "    .dataframe tbody tr th {\n",
       "        vertical-align: top;\n",
       "    }\n",
       "\n",
       "    .dataframe thead th {\n",
       "        text-align: right;\n",
       "    }\n",
       "</style>\n",
       "<table border=\"1\" class=\"dataframe\">\n",
       "  <thead>\n",
       "    <tr style=\"text-align: right;\">\n",
       "      <th></th>\n",
       "      <th>title</th>\n",
       "      <th>year</th>\n",
       "      <th>name</th>\n",
       "      <th>type</th>\n",
       "      <th>character</th>\n",
       "      <th>n</th>\n",
       "    </tr>\n",
       "  </thead>\n",
       "  <tbody>\n",
       "    <tr>\n",
       "      <th>335731</th>\n",
       "      <td>The Simpsons Movie</td>\n",
       "      <td>2007</td>\n",
       "      <td>Dan Castellaneta</td>\n",
       "      <td>actor</td>\n",
       "      <td>Homer Simpson</td>\n",
       "      <td>1.0</td>\n",
       "    </tr>\n",
       "    <tr>\n",
       "      <th>335732</th>\n",
       "      <td>The Simpsons Movie</td>\n",
       "      <td>2007</td>\n",
       "      <td>Dan Castellaneta</td>\n",
       "      <td>actor</td>\n",
       "      <td>Itchy</td>\n",
       "      <td>1.0</td>\n",
       "    </tr>\n",
       "    <tr>\n",
       "      <th>335733</th>\n",
       "      <td>The Simpsons Movie</td>\n",
       "      <td>2007</td>\n",
       "      <td>Dan Castellaneta</td>\n",
       "      <td>actor</td>\n",
       "      <td>Barney</td>\n",
       "      <td>1.0</td>\n",
       "    </tr>\n",
       "    <tr>\n",
       "      <th>335734</th>\n",
       "      <td>The Simpsons Movie</td>\n",
       "      <td>2007</td>\n",
       "      <td>Dan Castellaneta</td>\n",
       "      <td>actor</td>\n",
       "      <td>Grampa</td>\n",
       "      <td>1.0</td>\n",
       "    </tr>\n",
       "    <tr>\n",
       "      <th>335735</th>\n",
       "      <td>The Simpsons Movie</td>\n",
       "      <td>2007</td>\n",
       "      <td>Dan Castellaneta</td>\n",
       "      <td>actor</td>\n",
       "      <td>Stage Manager</td>\n",
       "      <td>1.0</td>\n",
       "    </tr>\n",
       "    <tr>\n",
       "      <th>335736</th>\n",
       "      <td>The Simpsons Movie</td>\n",
       "      <td>2007</td>\n",
       "      <td>Dan Castellaneta</td>\n",
       "      <td>actor</td>\n",
       "      <td>Krusty the Clown</td>\n",
       "      <td>1.0</td>\n",
       "    </tr>\n",
       "    <tr>\n",
       "      <th>335737</th>\n",
       "      <td>The Simpsons Movie</td>\n",
       "      <td>2007</td>\n",
       "      <td>Dan Castellaneta</td>\n",
       "      <td>actor</td>\n",
       "      <td>Mayor Quimby</td>\n",
       "      <td>1.0</td>\n",
       "    </tr>\n",
       "    <tr>\n",
       "      <th>335738</th>\n",
       "      <td>The Simpsons Movie</td>\n",
       "      <td>2007</td>\n",
       "      <td>Dan Castellaneta</td>\n",
       "      <td>actor</td>\n",
       "      <td>Mayor's Aide</td>\n",
       "      <td>1.0</td>\n",
       "    </tr>\n",
       "    <tr>\n",
       "      <th>335739</th>\n",
       "      <td>The Simpsons Movie</td>\n",
       "      <td>2007</td>\n",
       "      <td>Dan Castellaneta</td>\n",
       "      <td>actor</td>\n",
       "      <td>Multi-Eyed Squirrel</td>\n",
       "      <td>1.0</td>\n",
       "    </tr>\n",
       "    <tr>\n",
       "      <th>335740</th>\n",
       "      <td>The Simpsons Movie</td>\n",
       "      <td>2007</td>\n",
       "      <td>Dan Castellaneta</td>\n",
       "      <td>actor</td>\n",
       "      <td>Panicky Man</td>\n",
       "      <td>1.0</td>\n",
       "    </tr>\n",
       "    <tr>\n",
       "      <th>335741</th>\n",
       "      <td>The Simpsons Movie</td>\n",
       "      <td>2007</td>\n",
       "      <td>Dan Castellaneta</td>\n",
       "      <td>actor</td>\n",
       "      <td>Sideshow Mel</td>\n",
       "      <td>1.0</td>\n",
       "    </tr>\n",
       "    <tr>\n",
       "      <th>335742</th>\n",
       "      <td>The Simpsons Movie</td>\n",
       "      <td>2007</td>\n",
       "      <td>Dan Castellaneta</td>\n",
       "      <td>actor</td>\n",
       "      <td>Mr. Teeny</td>\n",
       "      <td>1.0</td>\n",
       "    </tr>\n",
       "    <tr>\n",
       "      <th>335743</th>\n",
       "      <td>The Simpsons Movie</td>\n",
       "      <td>2007</td>\n",
       "      <td>Dan Castellaneta</td>\n",
       "      <td>actor</td>\n",
       "      <td>EPA Official</td>\n",
       "      <td>1.0</td>\n",
       "    </tr>\n",
       "    <tr>\n",
       "      <th>335744</th>\n",
       "      <td>The Simpsons Movie</td>\n",
       "      <td>2007</td>\n",
       "      <td>Dan Castellaneta</td>\n",
       "      <td>actor</td>\n",
       "      <td>Kissing Cop</td>\n",
       "      <td>1.0</td>\n",
       "    </tr>\n",
       "    <tr>\n",
       "      <th>335745</th>\n",
       "      <td>The Simpsons Movie</td>\n",
       "      <td>2007</td>\n",
       "      <td>Dan Castellaneta</td>\n",
       "      <td>actor</td>\n",
       "      <td>Bear</td>\n",
       "      <td>1.0</td>\n",
       "    </tr>\n",
       "    <tr>\n",
       "      <th>335746</th>\n",
       "      <td>The Simpsons Movie</td>\n",
       "      <td>2007</td>\n",
       "      <td>Dan Castellaneta</td>\n",
       "      <td>actor</td>\n",
       "      <td>Boy on Phone</td>\n",
       "      <td>1.0</td>\n",
       "    </tr>\n",
       "    <tr>\n",
       "      <th>335747</th>\n",
       "      <td>The Simpsons Movie</td>\n",
       "      <td>2007</td>\n",
       "      <td>Dan Castellaneta</td>\n",
       "      <td>actor</td>\n",
       "      <td>NSA Worker</td>\n",
       "      <td>1.0</td>\n",
       "    </tr>\n",
       "    <tr>\n",
       "      <th>335748</th>\n",
       "      <td>The Simpsons Movie</td>\n",
       "      <td>2007</td>\n",
       "      <td>Dan Castellaneta</td>\n",
       "      <td>actor</td>\n",
       "      <td>Officer</td>\n",
       "      <td>1.0</td>\n",
       "    </tr>\n",
       "    <tr>\n",
       "      <th>335749</th>\n",
       "      <td>The Simpsons Movie</td>\n",
       "      <td>2007</td>\n",
       "      <td>Dan Castellaneta</td>\n",
       "      <td>actor</td>\n",
       "      <td>Santa's Little Helper</td>\n",
       "      <td>1.0</td>\n",
       "    </tr>\n",
       "    <tr>\n",
       "      <th>335750</th>\n",
       "      <td>The Simpsons Movie</td>\n",
       "      <td>2007</td>\n",
       "      <td>Dan Castellaneta</td>\n",
       "      <td>actor</td>\n",
       "      <td>Squeaky-Voiced Teen</td>\n",
       "      <td>1.0</td>\n",
       "    </tr>\n",
       "    <tr>\n",
       "      <th>335751</th>\n",
       "      <td>The Simpsons Movie</td>\n",
       "      <td>2007</td>\n",
       "      <td>Dan Castellaneta</td>\n",
       "      <td>actor</td>\n",
       "      <td>Groundskeeper Willie</td>\n",
       "      <td>1.0</td>\n",
       "    </tr>\n",
       "  </tbody>\n",
       "</table>\n",
       "</div>"
      ],
      "text/plain": [
       "                     title  year              name   type  \\\n",
       "335731  The Simpsons Movie  2007  Dan Castellaneta  actor   \n",
       "335732  The Simpsons Movie  2007  Dan Castellaneta  actor   \n",
       "335733  The Simpsons Movie  2007  Dan Castellaneta  actor   \n",
       "335734  The Simpsons Movie  2007  Dan Castellaneta  actor   \n",
       "335735  The Simpsons Movie  2007  Dan Castellaneta  actor   \n",
       "335736  The Simpsons Movie  2007  Dan Castellaneta  actor   \n",
       "335737  The Simpsons Movie  2007  Dan Castellaneta  actor   \n",
       "335738  The Simpsons Movie  2007  Dan Castellaneta  actor   \n",
       "335739  The Simpsons Movie  2007  Dan Castellaneta  actor   \n",
       "335740  The Simpsons Movie  2007  Dan Castellaneta  actor   \n",
       "335741  The Simpsons Movie  2007  Dan Castellaneta  actor   \n",
       "335742  The Simpsons Movie  2007  Dan Castellaneta  actor   \n",
       "335743  The Simpsons Movie  2007  Dan Castellaneta  actor   \n",
       "335744  The Simpsons Movie  2007  Dan Castellaneta  actor   \n",
       "335745  The Simpsons Movie  2007  Dan Castellaneta  actor   \n",
       "335746  The Simpsons Movie  2007  Dan Castellaneta  actor   \n",
       "335747  The Simpsons Movie  2007  Dan Castellaneta  actor   \n",
       "335748  The Simpsons Movie  2007  Dan Castellaneta  actor   \n",
       "335749  The Simpsons Movie  2007  Dan Castellaneta  actor   \n",
       "335750  The Simpsons Movie  2007  Dan Castellaneta  actor   \n",
       "335751  The Simpsons Movie  2007  Dan Castellaneta  actor   \n",
       "\n",
       "                    character    n  \n",
       "335731          Homer Simpson  1.0  \n",
       "335732                  Itchy  1.0  \n",
       "335733                 Barney  1.0  \n",
       "335734                 Grampa  1.0  \n",
       "335735          Stage Manager  1.0  \n",
       "335736       Krusty the Clown  1.0  \n",
       "335737           Mayor Quimby  1.0  \n",
       "335738           Mayor's Aide  1.0  \n",
       "335739    Multi-Eyed Squirrel  1.0  \n",
       "335740            Panicky Man  1.0  \n",
       "335741           Sideshow Mel  1.0  \n",
       "335742              Mr. Teeny  1.0  \n",
       "335743           EPA Official  1.0  \n",
       "335744            Kissing Cop  1.0  \n",
       "335745                   Bear  1.0  \n",
       "335746           Boy on Phone  1.0  \n",
       "335747             NSA Worker  1.0  \n",
       "335748                Officer  1.0  \n",
       "335749  Santa's Little Helper  1.0  \n",
       "335750    Squeaky-Voiced Teen  1.0  \n",
       "335751   Groundskeeper Willie  1.0  "
      ]
     },
     "execution_count": 77,
     "metadata": {},
     "output_type": "execute_result"
    }
   ],
   "source": [
    "g21 = g_by.get_group(('Dan Castellaneta',2007,'The Simpsons Movie'))\n",
    "g21"
   ]
  },
  {
   "cell_type": "markdown",
   "metadata": {
    "collapsed": true
   },
   "source": [
    "### List each of the characters that Frank Oz has portrayed at least twice."
   ]
  },
  {
   "cell_type": "code",
   "execution_count": null,
   "metadata": {
    "collapsed": true
   },
   "outputs": [],
   "source": []
  },
  {
   "cell_type": "code",
   "execution_count": null,
   "metadata": {
    "collapsed": true
   },
   "outputs": [],
   "source": []
  }
 ],
 "metadata": {
  "kernelspec": {
   "display_name": "Python 3 (ipykernel)",
   "language": "python",
   "name": "python3"
  },
  "language_info": {
   "codemirror_mode": {
    "name": "ipython",
    "version": 3
   },
   "file_extension": ".py",
   "mimetype": "text/x-python",
   "name": "python",
   "nbconvert_exporter": "python",
   "pygments_lexer": "ipython3",
   "version": "3.10.6"
  }
 },
 "nbformat": 4,
 "nbformat_minor": 1
}
