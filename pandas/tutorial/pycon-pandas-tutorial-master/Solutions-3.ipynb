{
 "cells": [
  {
   "cell_type": "code",
   "execution_count": 2,
   "metadata": {},
   "outputs": [],
   "source": [
    "%matplotlib inline\n",
    "import pandas as pd"
   ]
  },
  {
   "cell_type": "code",
   "execution_count": 42,
   "metadata": {},
   "outputs": [
    {
     "data": {
      "text/html": [
       "<style>body {\n",
       "    margin: 0;\n",
       "    font-family: Helvetica;\n",
       "}\n",
       "table.dataframe {\n",
       "    border-collapse: collapse;\n",
       "    border: none;\n",
       "}\n",
       "table.dataframe tr {\n",
       "    border: none;\n",
       "}\n",
       "table.dataframe td, table.dataframe th {\n",
       "    margin: 0;\n",
       "    border: 1px solid white;\n",
       "    padding-left: 0.25em;\n",
       "    padding-right: 0.25em;\n",
       "}\n",
       "table.dataframe th:not(:empty) {\n",
       "    background-color: #fec;\n",
       "    text-align: left;\n",
       "    font-weight: normal;\n",
       "}\n",
       "table.dataframe tr:nth-child(2) th:empty {\n",
       "    border-left: none;\n",
       "    border-right: 1px dashed #888;\n",
       "}\n",
       "table.dataframe td {\n",
       "    border: 2px solid #ccf;\n",
       "    background-color: #f4f4ff;\n",
       "}\n",
       "h3 {\n",
       "    color: white;\n",
       "    background-color: black;\n",
       "    padding: 0.5em;\n",
       "}\n",
       "</style>"
      ],
      "text/plain": [
       "<IPython.core.display.HTML object>"
      ]
     },
     "execution_count": 42,
     "metadata": {},
     "output_type": "execute_result"
    }
   ],
   "source": [
    "from IPython.core.display import HTML\n",
    "css = open('style-table.css').read() + open('style-notebook.css').read()\n",
    "HTML('<style>{}</style>'.format(css))"
   ]
  },
  {
   "cell_type": "code",
   "execution_count": 58,
   "metadata": {},
   "outputs": [
    {
     "data": {
      "text/html": [
       "<div>\n",
       "<style scoped>\n",
       "    .dataframe tbody tr th:only-of-type {\n",
       "        vertical-align: middle;\n",
       "    }\n",
       "\n",
       "    .dataframe tbody tr th {\n",
       "        vertical-align: top;\n",
       "    }\n",
       "\n",
       "    .dataframe thead th {\n",
       "        text-align: right;\n",
       "    }\n",
       "</style>\n",
       "<table border=\"1\" class=\"dataframe\">\n",
       "  <thead>\n",
       "    <tr style=\"text-align: right;\">\n",
       "      <th></th>\n",
       "      <th>Unnamed: 0</th>\n",
       "      <th>title</th>\n",
       "      <th>year</th>\n",
       "      <th>name</th>\n",
       "      <th>type</th>\n",
       "      <th>character</th>\n",
       "      <th>n</th>\n",
       "    </tr>\n",
       "  </thead>\n",
       "  <tbody>\n",
       "    <tr>\n",
       "      <th>0</th>\n",
       "      <td>0</td>\n",
       "      <td>In the Land of the Head Hunters</td>\n",
       "      <td>1914</td>\n",
       "      <td>Paddy 'Malid</td>\n",
       "      <td>actor</td>\n",
       "      <td>Kenada</td>\n",
       "      <td>5.0</td>\n",
       "    </tr>\n",
       "    <tr>\n",
       "      <th>1</th>\n",
       "      <td>1</td>\n",
       "      <td>The Colour of Darkness</td>\n",
       "      <td>2016</td>\n",
       "      <td>Ketan Daraji -Gohel</td>\n",
       "      <td>actor</td>\n",
       "      <td>Chhagan</td>\n",
       "      <td>NaN</td>\n",
       "    </tr>\n",
       "    <tr>\n",
       "      <th>2</th>\n",
       "      <td>2</td>\n",
       "      <td>London Betty</td>\n",
       "      <td>2009</td>\n",
       "      <td>Isaiah Entsua -Mensah</td>\n",
       "      <td>actor</td>\n",
       "      <td>Camera Man</td>\n",
       "      <td>NaN</td>\n",
       "    </tr>\n",
       "    <tr>\n",
       "      <th>3</th>\n",
       "      <td>3</td>\n",
       "      <td>Candelabra</td>\n",
       "      <td>2014</td>\n",
       "      <td>Groovin .</td>\n",
       "      <td>actor</td>\n",
       "      <td>Lt. Dick Sims</td>\n",
       "      <td>5.0</td>\n",
       "    </tr>\n",
       "    <tr>\n",
       "      <th>4</th>\n",
       "      <td>4</td>\n",
       "      <td>Bad Ideas</td>\n",
       "      <td>2012</td>\n",
       "      <td>Hamid .</td>\n",
       "      <td>actor</td>\n",
       "      <td>The Diner</td>\n",
       "      <td>NaN</td>\n",
       "    </tr>\n",
       "    <tr>\n",
       "      <th>...</th>\n",
       "      <td>...</td>\n",
       "      <td>...</td>\n",
       "      <td>...</td>\n",
       "      <td>...</td>\n",
       "      <td>...</td>\n",
       "      <td>...</td>\n",
       "      <td>...</td>\n",
       "    </tr>\n",
       "    <tr>\n",
       "      <th>422955</th>\n",
       "      <td>1884292</td>\n",
       "      <td>Two Way Stretch</td>\n",
       "      <td>1960</td>\n",
       "      <td>Peter Sellers</td>\n",
       "      <td>actor</td>\n",
       "      <td>Dodger Lane</td>\n",
       "      <td>1.0</td>\n",
       "    </tr>\n",
       "    <tr>\n",
       "      <th>422956</th>\n",
       "      <td>1884293</td>\n",
       "      <td>Up the Creek</td>\n",
       "      <td>1958</td>\n",
       "      <td>Peter Sellers</td>\n",
       "      <td>actor</td>\n",
       "      <td>CPO Doherty</td>\n",
       "      <td>2.0</td>\n",
       "    </tr>\n",
       "    <tr>\n",
       "      <th>422957</th>\n",
       "      <td>1884294</td>\n",
       "      <td>Waltz of the Toreadors</td>\n",
       "      <td>1962</td>\n",
       "      <td>Peter Sellers</td>\n",
       "      <td>actor</td>\n",
       "      <td>Gen. Leo Fitzjohn</td>\n",
       "      <td>1.0</td>\n",
       "    </tr>\n",
       "    <tr>\n",
       "      <th>422958</th>\n",
       "      <td>1884295</td>\n",
       "      <td>What's New Pussycat</td>\n",
       "      <td>1965</td>\n",
       "      <td>Peter Sellers</td>\n",
       "      <td>actor</td>\n",
       "      <td>Dr. Fritz Fassbender</td>\n",
       "      <td>1.0</td>\n",
       "    </tr>\n",
       "    <tr>\n",
       "      <th>422959</th>\n",
       "      <td>1884296</td>\n",
       "      <td>Where Does It Hurt?</td>\n",
       "      <td>1972</td>\n",
       "      <td>Peter Sellers</td>\n",
       "      <td>actor</td>\n",
       "      <td>Dr. Albert T. Hopfnagel</td>\n",
       "      <td>1.0</td>\n",
       "    </tr>\n",
       "  </tbody>\n",
       "</table>\n",
       "<p>422960 rows × 7 columns</p>\n",
       "</div>"
      ],
      "text/plain": [
       "        Unnamed: 0                            title  year  \\\n",
       "0                0  In the Land of the Head Hunters  1914   \n",
       "1                1           The Colour of Darkness  2016   \n",
       "2                2                     London Betty  2009   \n",
       "3                3                       Candelabra  2014   \n",
       "4                4                        Bad Ideas  2012   \n",
       "...            ...                              ...   ...   \n",
       "422955     1884292                  Two Way Stretch  1960   \n",
       "422956     1884293                     Up the Creek  1958   \n",
       "422957     1884294           Waltz of the Toreadors  1962   \n",
       "422958     1884295              What's New Pussycat  1965   \n",
       "422959     1884296              Where Does It Hurt?  1972   \n",
       "\n",
       "                         name   type                character    n  \n",
       "0                Paddy 'Malid  actor                   Kenada  5.0  \n",
       "1         Ketan Daraji -Gohel  actor                  Chhagan  NaN  \n",
       "2       Isaiah Entsua -Mensah  actor               Camera Man  NaN  \n",
       "3                   Groovin .  actor            Lt. Dick Sims  5.0  \n",
       "4                     Hamid .  actor                The Diner  NaN  \n",
       "...                       ...    ...                      ...  ...  \n",
       "422955          Peter Sellers  actor              Dodger Lane  1.0  \n",
       "422956          Peter Sellers  actor              CPO Doherty  2.0  \n",
       "422957          Peter Sellers  actor        Gen. Leo Fitzjohn  1.0  \n",
       "422958          Peter Sellers  actor     Dr. Fritz Fassbender  1.0  \n",
       "422959          Peter Sellers  actor  Dr. Albert T. Hopfnagel  1.0  \n",
       "\n",
       "[422960 rows x 7 columns]"
      ]
     },
     "execution_count": 58,
     "metadata": {},
     "output_type": "execute_result"
    }
   ],
   "source": [
    "#cast = pd.read_csv('data/cast.csv')\n",
    "#cast.head()\n",
    "cast = pd.read_csv('data/truncated_cast.csv')\n",
    "cast"
   ]
  },
  {
   "cell_type": "code",
   "execution_count": 44,
   "metadata": {},
   "outputs": [
    {
     "data": {
      "text/html": [
       "<div>\n",
       "<style scoped>\n",
       "    .dataframe tbody tr th:only-of-type {\n",
       "        vertical-align: middle;\n",
       "    }\n",
       "\n",
       "    .dataframe tbody tr th {\n",
       "        vertical-align: top;\n",
       "    }\n",
       "\n",
       "    .dataframe thead th {\n",
       "        text-align: right;\n",
       "    }\n",
       "</style>\n",
       "<table border=\"1\" class=\"dataframe\">\n",
       "  <thead>\n",
       "    <tr style=\"text-align: right;\">\n",
       "      <th></th>\n",
       "      <th>title</th>\n",
       "      <th>year</th>\n",
       "    </tr>\n",
       "  </thead>\n",
       "  <tbody>\n",
       "    <tr>\n",
       "      <th>0</th>\n",
       "      <td>The Patriarchs</td>\n",
       "      <td>2009</td>\n",
       "    </tr>\n",
       "    <tr>\n",
       "      <th>1</th>\n",
       "      <td>Angels in the Attic</td>\n",
       "      <td>1998</td>\n",
       "    </tr>\n",
       "    <tr>\n",
       "      <th>2</th>\n",
       "      <td>The Rapture</td>\n",
       "      <td>1991</td>\n",
       "    </tr>\n",
       "    <tr>\n",
       "      <th>3</th>\n",
       "      <td>Star na si Van Damme Stallone</td>\n",
       "      <td>2016</td>\n",
       "    </tr>\n",
       "    <tr>\n",
       "      <th>4</th>\n",
       "      <td>Sweet Talk</td>\n",
       "      <td>2004</td>\n",
       "    </tr>\n",
       "  </tbody>\n",
       "</table>\n",
       "</div>"
      ],
      "text/plain": [
       "                           title  year\n",
       "0                 The Patriarchs  2009\n",
       "1            Angels in the Attic  1998\n",
       "2                    The Rapture  1991\n",
       "3  Star na si Van Damme Stallone  2016\n",
       "4                     Sweet Talk  2004"
      ]
     },
     "execution_count": 44,
     "metadata": {},
     "output_type": "execute_result"
    }
   ],
   "source": [
    "titles = pd.read_csv('data/titles.csv')\n",
    "titles.head()"
   ]
  },
  {
   "cell_type": "code",
   "execution_count": 45,
   "metadata": {},
   "outputs": [
    {
     "data": {
      "text/plain": [
       "<AxesSubplot:xlabel='year'>"
      ]
     },
     "execution_count": 45,
     "metadata": {},
     "output_type": "execute_result"
    },
    {
     "data": {
      "image/png": "[encoded data removed]",
      "text/plain": [
       "<Figure size 640x480 with 1 Axes>"
      ]
     },
     "metadata": {},
     "output_type": "display_data"
    }
   ],
   "source": [
    "# Using groupby(), plot the number of films\n",
    "# that have been released each decade in the history of cinema.\n",
    "\n",
    "t = titles\n",
    "t.groupby(t.year // 10 * 10).size().plot(kind='bar')"
   ]
  },
  {
   "cell_type": "code",
   "execution_count": 40,
   "metadata": {},
   "outputs": [
    {
     "data": {
      "text/plain": [
       "<AxesSubplot:xlabel='year'>"
      ]
     },
     "execution_count": 40,
     "metadata": {},
     "output_type": "execute_result"
    },
    {
     "data": {
      "image/png": "[encoded data removed]",
      "text/plain": [
       "<Figure size 640x480 with 1 Axes>"
      ]
     },
     "metadata": {},
     "output_type": "display_data"
    }
   ],
   "source": [
    "# Use groupby() to plot the number of \"Hamlet\" films made each decade.\n",
    "\n",
    "t = titles\n",
    "t = t[t.title == 'Hamlet']\n",
    "t.groupby(t.year // 10 * 10).size().plot(kind='bar')"
   ]
  },
  {
   "cell_type": "code",
   "execution_count": 46,
   "metadata": {},
   "outputs": [
    {
     "data": {
      "text/plain": [
       "year  type   \n",
       "1950  actor      17\n",
       "      actress     7\n",
       "1951  actor      23\n",
       "      actress     9\n",
       "1952  actor      20\n",
       "      actress    10\n",
       "1953  actor      18\n",
       "      actress     9\n",
       "1954  actor      23\n",
       "      actress     9\n",
       "1955  actor      25\n",
       "      actress     7\n",
       "1956  actor      19\n",
       "      actress     4\n",
       "1957  actor      27\n",
       "      actress    10\n",
       "1958  actor      18\n",
       "      actress     6\n",
       "1959  actor      26\n",
       "      actress     7\n",
       "dtype: int64"
      ]
     },
     "execution_count": 46,
     "metadata": {},
     "output_type": "execute_result"
    }
   ],
   "source": [
    "# How many leading (n=1) roles were available to actors,\n",
    "# and how many to actresses, in each year of the 1950s?\n",
    "\n",
    "c = cast\n",
    "c = c[c.year // 10 == 195]\n",
    "c = c[c.n == 1]\n",
    "c.groupby(['year', 'type']).size()"
   ]
  },
  {
   "cell_type": "code",
   "execution_count": 47,
   "metadata": {},
   "outputs": [
    {
     "data": {
      "text/plain": [
       "n    type   \n",
       "1.0  actor      216\n",
       "     actress     78\n",
       "2.0  actor      145\n",
       "     actress    137\n",
       "3.0  actor      174\n",
       "     actress     95\n",
       "4.0  actor      165\n",
       "     actress     67\n",
       "5.0  actor      148\n",
       "     actress     65\n",
       "dtype: int64"
      ]
     },
     "execution_count": 47,
     "metadata": {},
     "output_type": "execute_result"
    }
   ],
   "source": [
    "# In the 1950s decade taken as a whole,\n",
    "# how many total roles were available to actors,\n",
    "# and how many to actresses, for each \"n\" number 1 through 5?\n",
    "\n",
    "c = cast\n",
    "c = c[c.year // 10 * 10 == 1950]\n",
    "c = c[c.n < 6]\n",
    "c.groupby(['n', 'type']).size()"
   ]
  },
  {
   "cell_type": "code",
   "execution_count": 85,
   "metadata": {},
   "outputs": [
    {
     "data": {
      "text/html": [
       "<div>\n",
       "<style scoped>\n",
       "    .dataframe tbody tr th:only-of-type {\n",
       "        vertical-align: middle;\n",
       "    }\n",
       "\n",
       "    .dataframe tbody tr th {\n",
       "        vertical-align: top;\n",
       "    }\n",
       "\n",
       "    .dataframe thead th {\n",
       "        text-align: right;\n",
       "    }\n",
       "</style>\n",
       "<table border=\"1\" class=\"dataframe\">\n",
       "  <thead>\n",
       "    <tr style=\"text-align: right;\">\n",
       "      <th></th>\n",
       "      <th>n</th>\n",
       "    </tr>\n",
       "    <tr>\n",
       "      <th>year</th>\n",
       "      <th></th>\n",
       "    </tr>\n",
       "  </thead>\n",
       "  <tbody>\n",
       "    <tr>\n",
       "      <th>1963</th>\n",
       "      <td>2.0</td>\n",
       "    </tr>\n",
       "    <tr>\n",
       "      <th>2006</th>\n",
       "      <td>10.0</td>\n",
       "    </tr>\n",
       "  </tbody>\n",
       "</table>\n",
       "</div>"
      ],
      "text/plain": [
       "         n\n",
       "year      \n",
       "1963   2.0\n",
       "2006  10.0"
      ]
     },
     "execution_count": 85,
     "metadata": {},
     "output_type": "execute_result"
    }
   ],
   "source": [
    "# Use groupby() to determine how many roles are listed\n",
    "# for each of the Pink Panther movies.\n",
    "\n",
    "c = cast\n",
    "c = c[c.title == 'The Pink Panther']\n",
    "c = c.sort_values('n').groupby(['year'])[['n']].max()\n",
    "c"
   ]
  },
  {
   "cell_type": "markdown",
   "metadata": {},
   "source": [
    "A look at the data reveals a potential issue with this solution; there are `NaN`s in the `n` column; do these not count as listed roles?"
   ]
  },
  {
   "cell_type": "code",
   "execution_count": 49,
   "metadata": {},
   "outputs": [
    {
     "name": "stdout",
     "output_type": "stream",
     "text": [
      "1 1\n"
     ]
    },
    {
     "data": {
      "text/html": [
       "<div>\n",
       "<style scoped>\n",
       "    .dataframe tbody tr th:only-of-type {\n",
       "        vertical-align: middle;\n",
       "    }\n",
       "\n",
       "    .dataframe tbody tr th {\n",
       "        vertical-align: top;\n",
       "    }\n",
       "\n",
       "    .dataframe thead th {\n",
       "        text-align: right;\n",
       "    }\n",
       "</style>\n",
       "<table border=\"1\" class=\"dataframe\">\n",
       "  <thead>\n",
       "    <tr style=\"text-align: right;\">\n",
       "      <th></th>\n",
       "      <th>Unnamed: 0</th>\n",
       "      <th>title</th>\n",
       "      <th>year</th>\n",
       "      <th>name</th>\n",
       "      <th>type</th>\n",
       "      <th>character</th>\n",
       "      <th>n</th>\n",
       "    </tr>\n",
       "  </thead>\n",
       "  <tbody>\n",
       "    <tr>\n",
       "      <th>422942</th>\n",
       "      <td>1884278</td>\n",
       "      <td>The Pink Panther</td>\n",
       "      <td>1963</td>\n",
       "      <td>Peter Sellers</td>\n",
       "      <td>actor</td>\n",
       "      <td>Insp. Jacques Clouseau</td>\n",
       "      <td>2.0</td>\n",
       "    </tr>\n",
       "  </tbody>\n",
       "</table>\n",
       "</div>"
      ],
      "text/plain": [
       "        Unnamed: 0             title  year           name   type  \\\n",
       "422942     1884278  The Pink Panther  1963  Peter Sellers  actor   \n",
       "\n",
       "                     character    n  \n",
       "422942  Insp. Jacques Clouseau  2.0  "
      ]
     },
     "execution_count": 49,
     "metadata": {},
     "output_type": "execute_result"
    }
   ],
   "source": [
    "c = cast\n",
    "c = c[(c.title == 'The Pink Panther')&(c['year']==1963)]\n",
    "print(len(c['n']),len(c['n'].dropna()))\n",
    "c[:10]"
   ]
  },
  {
   "cell_type": "markdown",
   "metadata": {},
   "source": [
    "A second issue with just taking the max of the `n` values for a year/title\n",
    "group is that there are cases  of two different roles sharing the same `n`-value  in one film.\n",
    "\n",
    "For example in in the 2006 version of *Pink Panther* one\n",
    "actress is credited for two roles of rank 16."
   ]
  },
  {
   "cell_type": "code",
   "execution_count": 50,
   "metadata": {},
   "outputs": [
    {
     "data": {
      "text/html": [
       "<div>\n",
       "<style scoped>\n",
       "    .dataframe tbody tr th:only-of-type {\n",
       "        vertical-align: middle;\n",
       "    }\n",
       "\n",
       "    .dataframe tbody tr th {\n",
       "        vertical-align: top;\n",
       "    }\n",
       "\n",
       "    .dataframe thead th {\n",
       "        text-align: right;\n",
       "    }\n",
       "</style>\n",
       "<table border=\"1\" class=\"dataframe\">\n",
       "  <thead>\n",
       "    <tr style=\"text-align: right;\">\n",
       "      <th></th>\n",
       "      <th>Unnamed: 0</th>\n",
       "      <th>title</th>\n",
       "      <th>year</th>\n",
       "      <th>name</th>\n",
       "      <th>type</th>\n",
       "      <th>character</th>\n",
       "      <th>n</th>\n",
       "    </tr>\n",
       "  </thead>\n",
       "  <tbody>\n",
       "  </tbody>\n",
       "</table>\n",
       "</div>"
      ],
      "text/plain": [
       "Empty DataFrame\n",
       "Columns: [Unnamed: 0, title, year, name, type, character, n]\n",
       "Index: []"
      ]
     },
     "execution_count": 50,
     "metadata": {},
     "output_type": "execute_result"
    }
   ],
   "source": [
    "c = cast\n",
    "c = c[(c.title == 'The Pink Panther')&(c['year']==2006)]\n",
    "# n==16 occurs twice because of one actress credited for two roles of rank 16. Find such cases by doing\n",
    "#c.groupby('n').size().sort_values()\n",
    "c[c['n']==16]"
   ]
  },
  {
   "cell_type": "markdown",
   "metadata": {},
   "source": [
    "To count the `n==NaN` roles as well as roles sharing `n`-values, we could alternatively do:"
   ]
  },
  {
   "cell_type": "code",
   "execution_count": 30,
   "metadata": {},
   "outputs": [
    {
     "data": {
      "text/plain": [
       "year\n",
       "1963    21\n",
       "2006    90\n",
       "dtype: int64"
      ]
     },
     "execution_count": 30,
     "metadata": {},
     "output_type": "execute_result"
    }
   ],
   "source": [
    "c = cast\n",
    "c = c[c.title == 'The Pink Panther']\n",
    "c = c.sort_values('n').groupby(['year']).size()\n",
    "c"
   ]
  },
  {
   "cell_type": "code",
   "execution_count": 10,
   "metadata": {},
   "outputs": [
    {
     "data": {
      "text/plain": [
       "year  title                                   \n",
       "1979  The Muppet Movie                            8\n",
       "1981  An American Werewolf in London              2\n",
       "      The Great Muppet Caper                      6\n",
       "1982  The Dark Crystal                            2\n",
       "1984  The Muppets Take Manhattan                  7\n",
       "1985  Sesame Street Presents: Follow that Bird    3\n",
       "1992  The Muppet Christmas Carol                  7\n",
       "1996  Muppet Treasure Island                      4\n",
       "1999  Muppets from Space                          4\n",
       "      The Adventures of Elmo in Grouchland        3\n",
       "dtype: int64"
      ]
     },
     "execution_count": 10,
     "metadata": {},
     "output_type": "execute_result"
    }
   ],
   "source": [
    "# List, in order by year, each of the films\n",
    "# in which Frank Oz has played more than 1 role.\n",
    "\n",
    "c = cast\n",
    "c = c[c.name == 'Frank Oz']\n",
    "g = c.groupby(['year', 'title']).size()\n",
    "g[g > 1]"
   ]
  },
  {
   "cell_type": "code",
   "execution_count": 11,
   "metadata": {},
   "outputs": [
    {
     "data": {
      "text/plain": [
       "character\n",
       "Grover            2\n",
       "Bert              3\n",
       "Cookie Monster    3\n",
       "Fozzie Bear       4\n",
       "Sam the Eagle     5\n",
       "Yoda              5\n",
       "Animal            6\n",
       "Miss Piggy        6\n",
       "dtype: int64"
      ]
     },
     "execution_count": 11,
     "metadata": {},
     "output_type": "execute_result"
    }
   ],
   "source": [
    "# List each of the characters that Frank Oz\n",
    "# has portrayed at least twice.\n",
    "\n",
    "c = cast\n",
    "c = c[c.name == 'Frank Oz']\n",
    "g = c.groupby(['character']).size()\n",
    "g[g > 1].sort_values()"
   ]
  },
  {
   "cell_type": "markdown",
   "metadata": {},
   "source": [
    "An interesting variant on the above question."
   ]
  },
  {
   "cell_type": "code",
   "execution_count": 59,
   "metadata": {},
   "outputs": [
    {
     "data": {
      "text/plain": [
       "year  title                                                               \n",
       "1951  Penny Points to Paradise                                                2\n",
       "1959  I'm All Right Jack                                                      2\n",
       "      The Mouse That Roared                                                   3\n",
       "1964  Dr. Strangelove or: How I Learned to Stop Worrying and Love the Bomb    3\n",
       "1974  Soft Beds, Hard Battles                                                 6\n",
       "1979  The Prisoner of Zenda                                                   3\n",
       "1980  The Fiendish Plot of Dr. Fu Manchu                                      2\n",
       "dtype: int64"
      ]
     },
     "execution_count": 59,
     "metadata": {},
     "output_type": "execute_result"
    }
   ],
   "source": [
    "# List each of the movies (year/title pairs) in which Peter Sellers\n",
    "# has played at least two roles\n",
    "\n",
    "c = cast\n",
    "c = c[c.name == 'Peter Sellers']\n",
    "# A series whose values contain the answer\n",
    "num_roles = c.groupby(['year', 'title']).size()\n",
    "# constrain to the right rows\n",
    "num_roles[num_roles > 1]"
   ]
  },
  {
   "cell_type": "markdown",
   "metadata": {},
   "source": []
  },
  {
   "cell_type": "code",
   "execution_count": 82,
   "metadata": {},
   "outputs": [
    {
     "data": {
      "text/plain": [
       "name              year  title             \n",
       "Dan Castellaneta  2007  The Simpsons Movie    21\n",
       "dtype: int64"
      ]
     },
     "execution_count": 82,
     "metadata": {},
     "output_type": "execute_result"
    }
   ],
   "source": [
    "# List the actor who has played the most roles in a single film\n",
    "# together with the year and title of the film and the number of roles played.\n",
    "# For extra credit (in a separate computation) list the roles.\n",
    "\n",
    "c=cast\n",
    "g_by = c.groupby(['name','year', 'title'])\n",
    "ser = g_by.size()\n",
    "# Use a splice to return a series (idx included), not a value, for largest group\n",
    "ser_max = ser.sort_values(ascending=False)[0:1]\n",
    "ser_max"
   ]
  },
  {
   "cell_type": "markdown",
   "metadata": {},
   "source": [
    "And here are the 21 roles.  Who can forget Castellaneta's performance as Multi-Eyed Squirrel?"
   ]
  },
  {
   "cell_type": "code",
   "execution_count": 83,
   "metadata": {},
   "outputs": [
    {
     "data": {
      "text/html": [
       "<div>\n",
       "<style scoped>\n",
       "    .dataframe tbody tr th:only-of-type {\n",
       "        vertical-align: middle;\n",
       "    }\n",
       "\n",
       "    .dataframe tbody tr th {\n",
       "        vertical-align: top;\n",
       "    }\n",
       "\n",
       "    .dataframe thead th {\n",
       "        text-align: right;\n",
       "    }\n",
       "</style>\n",
       "<table border=\"1\" class=\"dataframe\">\n",
       "  <thead>\n",
       "    <tr style=\"text-align: right;\">\n",
       "      <th></th>\n",
       "      <th>Unnamed: 0</th>\n",
       "      <th>title</th>\n",
       "      <th>year</th>\n",
       "      <th>name</th>\n",
       "      <th>type</th>\n",
       "      <th>character</th>\n",
       "      <th>n</th>\n",
       "    </tr>\n",
       "  </thead>\n",
       "  <tbody>\n",
       "    <tr>\n",
       "      <th>422867</th>\n",
       "      <td>335731</td>\n",
       "      <td>The Simpsons Movie</td>\n",
       "      <td>2007</td>\n",
       "      <td>Dan Castellaneta</td>\n",
       "      <td>actor</td>\n",
       "      <td>Homer Simpson</td>\n",
       "      <td>1.0</td>\n",
       "    </tr>\n",
       "    <tr>\n",
       "      <th>422868</th>\n",
       "      <td>335732</td>\n",
       "      <td>The Simpsons Movie</td>\n",
       "      <td>2007</td>\n",
       "      <td>Dan Castellaneta</td>\n",
       "      <td>actor</td>\n",
       "      <td>Itchy</td>\n",
       "      <td>1.0</td>\n",
       "    </tr>\n",
       "    <tr>\n",
       "      <th>422869</th>\n",
       "      <td>335733</td>\n",
       "      <td>The Simpsons Movie</td>\n",
       "      <td>2007</td>\n",
       "      <td>Dan Castellaneta</td>\n",
       "      <td>actor</td>\n",
       "      <td>Barney</td>\n",
       "      <td>1.0</td>\n",
       "    </tr>\n",
       "    <tr>\n",
       "      <th>422870</th>\n",
       "      <td>335734</td>\n",
       "      <td>The Simpsons Movie</td>\n",
       "      <td>2007</td>\n",
       "      <td>Dan Castellaneta</td>\n",
       "      <td>actor</td>\n",
       "      <td>Grampa</td>\n",
       "      <td>1.0</td>\n",
       "    </tr>\n",
       "    <tr>\n",
       "      <th>422871</th>\n",
       "      <td>335735</td>\n",
       "      <td>The Simpsons Movie</td>\n",
       "      <td>2007</td>\n",
       "      <td>Dan Castellaneta</td>\n",
       "      <td>actor</td>\n",
       "      <td>Stage Manager</td>\n",
       "      <td>1.0</td>\n",
       "    </tr>\n",
       "    <tr>\n",
       "      <th>422872</th>\n",
       "      <td>335736</td>\n",
       "      <td>The Simpsons Movie</td>\n",
       "      <td>2007</td>\n",
       "      <td>Dan Castellaneta</td>\n",
       "      <td>actor</td>\n",
       "      <td>Krusty the Clown</td>\n",
       "      <td>1.0</td>\n",
       "    </tr>\n",
       "    <tr>\n",
       "      <th>422873</th>\n",
       "      <td>335737</td>\n",
       "      <td>The Simpsons Movie</td>\n",
       "      <td>2007</td>\n",
       "      <td>Dan Castellaneta</td>\n",
       "      <td>actor</td>\n",
       "      <td>Mayor Quimby</td>\n",
       "      <td>1.0</td>\n",
       "    </tr>\n",
       "    <tr>\n",
       "      <th>422874</th>\n",
       "      <td>335738</td>\n",
       "      <td>The Simpsons Movie</td>\n",
       "      <td>2007</td>\n",
       "      <td>Dan Castellaneta</td>\n",
       "      <td>actor</td>\n",
       "      <td>Mayor's Aide</td>\n",
       "      <td>1.0</td>\n",
       "    </tr>\n",
       "    <tr>\n",
       "      <th>422875</th>\n",
       "      <td>335739</td>\n",
       "      <td>The Simpsons Movie</td>\n",
       "      <td>2007</td>\n",
       "      <td>Dan Castellaneta</td>\n",
       "      <td>actor</td>\n",
       "      <td>Multi-Eyed Squirrel</td>\n",
       "      <td>1.0</td>\n",
       "    </tr>\n",
       "    <tr>\n",
       "      <th>422876</th>\n",
       "      <td>335740</td>\n",
       "      <td>The Simpsons Movie</td>\n",
       "      <td>2007</td>\n",
       "      <td>Dan Castellaneta</td>\n",
       "      <td>actor</td>\n",
       "      <td>Panicky Man</td>\n",
       "      <td>1.0</td>\n",
       "    </tr>\n",
       "    <tr>\n",
       "      <th>422877</th>\n",
       "      <td>335741</td>\n",
       "      <td>The Simpsons Movie</td>\n",
       "      <td>2007</td>\n",
       "      <td>Dan Castellaneta</td>\n",
       "      <td>actor</td>\n",
       "      <td>Sideshow Mel</td>\n",
       "      <td>1.0</td>\n",
       "    </tr>\n",
       "    <tr>\n",
       "      <th>422878</th>\n",
       "      <td>335742</td>\n",
       "      <td>The Simpsons Movie</td>\n",
       "      <td>2007</td>\n",
       "      <td>Dan Castellaneta</td>\n",
       "      <td>actor</td>\n",
       "      <td>Mr. Teeny</td>\n",
       "      <td>1.0</td>\n",
       "    </tr>\n",
       "    <tr>\n",
       "      <th>422879</th>\n",
       "      <td>335743</td>\n",
       "      <td>The Simpsons Movie</td>\n",
       "      <td>2007</td>\n",
       "      <td>Dan Castellaneta</td>\n",
       "      <td>actor</td>\n",
       "      <td>EPA Official</td>\n",
       "      <td>1.0</td>\n",
       "    </tr>\n",
       "    <tr>\n",
       "      <th>422880</th>\n",
       "      <td>335744</td>\n",
       "      <td>The Simpsons Movie</td>\n",
       "      <td>2007</td>\n",
       "      <td>Dan Castellaneta</td>\n",
       "      <td>actor</td>\n",
       "      <td>Kissing Cop</td>\n",
       "      <td>1.0</td>\n",
       "    </tr>\n",
       "    <tr>\n",
       "      <th>422881</th>\n",
       "      <td>335745</td>\n",
       "      <td>The Simpsons Movie</td>\n",
       "      <td>2007</td>\n",
       "      <td>Dan Castellaneta</td>\n",
       "      <td>actor</td>\n",
       "      <td>Bear</td>\n",
       "      <td>1.0</td>\n",
       "    </tr>\n",
       "    <tr>\n",
       "      <th>422882</th>\n",
       "      <td>335746</td>\n",
       "      <td>The Simpsons Movie</td>\n",
       "      <td>2007</td>\n",
       "      <td>Dan Castellaneta</td>\n",
       "      <td>actor</td>\n",
       "      <td>Boy on Phone</td>\n",
       "      <td>1.0</td>\n",
       "    </tr>\n",
       "    <tr>\n",
       "      <th>422883</th>\n",
       "      <td>335747</td>\n",
       "      <td>The Simpsons Movie</td>\n",
       "      <td>2007</td>\n",
       "      <td>Dan Castellaneta</td>\n",
       "      <td>actor</td>\n",
       "      <td>NSA Worker</td>\n",
       "      <td>1.0</td>\n",
       "    </tr>\n",
       "    <tr>\n",
       "      <th>422884</th>\n",
       "      <td>335748</td>\n",
       "      <td>The Simpsons Movie</td>\n",
       "      <td>2007</td>\n",
       "      <td>Dan Castellaneta</td>\n",
       "      <td>actor</td>\n",
       "      <td>Officer</td>\n",
       "      <td>1.0</td>\n",
       "    </tr>\n",
       "    <tr>\n",
       "      <th>422885</th>\n",
       "      <td>335749</td>\n",
       "      <td>The Simpsons Movie</td>\n",
       "      <td>2007</td>\n",
       "      <td>Dan Castellaneta</td>\n",
       "      <td>actor</td>\n",
       "      <td>Santa's Little Helper</td>\n",
       "      <td>1.0</td>\n",
       "    </tr>\n",
       "    <tr>\n",
       "      <th>422886</th>\n",
       "      <td>335750</td>\n",
       "      <td>The Simpsons Movie</td>\n",
       "      <td>2007</td>\n",
       "      <td>Dan Castellaneta</td>\n",
       "      <td>actor</td>\n",
       "      <td>Squeaky-Voiced Teen</td>\n",
       "      <td>1.0</td>\n",
       "    </tr>\n",
       "    <tr>\n",
       "      <th>422887</th>\n",
       "      <td>335751</td>\n",
       "      <td>The Simpsons Movie</td>\n",
       "      <td>2007</td>\n",
       "      <td>Dan Castellaneta</td>\n",
       "      <td>actor</td>\n",
       "      <td>Groundskeeper Willie</td>\n",
       "      <td>1.0</td>\n",
       "    </tr>\n",
       "  </tbody>\n",
       "</table>\n",
       "</div>"
      ],
      "text/plain": [
       "        Unnamed: 0               title  year              name   type  \\\n",
       "422867      335731  The Simpsons Movie  2007  Dan Castellaneta  actor   \n",
       "422868      335732  The Simpsons Movie  2007  Dan Castellaneta  actor   \n",
       "422869      335733  The Simpsons Movie  2007  Dan Castellaneta  actor   \n",
       "422870      335734  The Simpsons Movie  2007  Dan Castellaneta  actor   \n",
       "422871      335735  The Simpsons Movie  2007  Dan Castellaneta  actor   \n",
       "422872      335736  The Simpsons Movie  2007  Dan Castellaneta  actor   \n",
       "422873      335737  The Simpsons Movie  2007  Dan Castellaneta  actor   \n",
       "422874      335738  The Simpsons Movie  2007  Dan Castellaneta  actor   \n",
       "422875      335739  The Simpsons Movie  2007  Dan Castellaneta  actor   \n",
       "422876      335740  The Simpsons Movie  2007  Dan Castellaneta  actor   \n",
       "422877      335741  The Simpsons Movie  2007  Dan Castellaneta  actor   \n",
       "422878      335742  The Simpsons Movie  2007  Dan Castellaneta  actor   \n",
       "422879      335743  The Simpsons Movie  2007  Dan Castellaneta  actor   \n",
       "422880      335744  The Simpsons Movie  2007  Dan Castellaneta  actor   \n",
       "422881      335745  The Simpsons Movie  2007  Dan Castellaneta  actor   \n",
       "422882      335746  The Simpsons Movie  2007  Dan Castellaneta  actor   \n",
       "422883      335747  The Simpsons Movie  2007  Dan Castellaneta  actor   \n",
       "422884      335748  The Simpsons Movie  2007  Dan Castellaneta  actor   \n",
       "422885      335749  The Simpsons Movie  2007  Dan Castellaneta  actor   \n",
       "422886      335750  The Simpsons Movie  2007  Dan Castellaneta  actor   \n",
       "422887      335751  The Simpsons Movie  2007  Dan Castellaneta  actor   \n",
       "\n",
       "                    character    n  \n",
       "422867          Homer Simpson  1.0  \n",
       "422868                  Itchy  1.0  \n",
       "422869                 Barney  1.0  \n",
       "422870                 Grampa  1.0  \n",
       "422871          Stage Manager  1.0  \n",
       "422872       Krusty the Clown  1.0  \n",
       "422873           Mayor Quimby  1.0  \n",
       "422874           Mayor's Aide  1.0  \n",
       "422875    Multi-Eyed Squirrel  1.0  \n",
       "422876            Panicky Man  1.0  \n",
       "422877           Sideshow Mel  1.0  \n",
       "422878              Mr. Teeny  1.0  \n",
       "422879           EPA Official  1.0  \n",
       "422880            Kissing Cop  1.0  \n",
       "422881                   Bear  1.0  \n",
       "422882           Boy on Phone  1.0  \n",
       "422883             NSA Worker  1.0  \n",
       "422884                Officer  1.0  \n",
       "422885  Santa's Little Helper  1.0  \n",
       "422886    Squeaky-Voiced Teen  1.0  \n",
       "422887   Groundskeeper Willie  1.0  "
      ]
     },
     "execution_count": 83,
     "metadata": {},
     "output_type": "execute_result"
    }
   ],
   "source": [
    "g21 = g_by.get_group(ser_max.index[0])\n",
    "g21"
   ]
  },
  {
   "cell_type": "markdown",
   "metadata": {},
   "source": [
    "Sanity check"
   ]
  },
  {
   "cell_type": "code",
   "execution_count": 84,
   "metadata": {},
   "outputs": [
    {
     "data": {
      "text/plain": [
       "21"
      ]
     },
     "execution_count": 84,
     "metadata": {},
     "output_type": "execute_result"
    }
   ],
   "source": [
    "len(g21)"
   ]
  },
  {
   "cell_type": "code",
   "execution_count": null,
   "metadata": {
    "collapsed": true
   },
   "outputs": [],
   "source": []
  },
  {
   "cell_type": "code",
   "execution_count": null,
   "metadata": {
    "collapsed": true
   },
   "outputs": [],
   "source": []
  },
  {
   "cell_type": "code",
   "execution_count": null,
   "metadata": {
    "collapsed": true
   },
   "outputs": [],
   "source": []
  },
  {
   "cell_type": "code",
   "execution_count": null,
   "metadata": {
    "collapsed": true
   },
   "outputs": [],
   "source": []
  },
  {
   "cell_type": "code",
   "execution_count": null,
   "metadata": {
    "collapsed": true
   },
   "outputs": [],
   "source": []
  },
  {
   "cell_type": "code",
   "execution_count": null,
   "metadata": {
    "collapsed": true
   },
   "outputs": [],
   "source": []
  },
  {
   "cell_type": "code",
   "execution_count": null,
   "metadata": {
    "collapsed": true
   },
   "outputs": [],
   "source": []
  },
  {
   "cell_type": "code",
   "execution_count": null,
   "metadata": {
    "collapsed": true
   },
   "outputs": [],
   "source": []
  },
  {
   "cell_type": "code",
   "execution_count": null,
   "metadata": {
    "collapsed": true
   },
   "outputs": [],
   "source": []
  },
  {
   "cell_type": "code",
   "execution_count": null,
   "metadata": {
    "collapsed": true
   },
   "outputs": [],
   "source": []
  }
 ],
 "metadata": {
  "kernelspec": {
   "display_name": "Python 3 (ipykernel)",
   "language": "python",
   "name": "python3"
  },
  "language_info": {
   "codemirror_mode": {
    "name": "ipython",
    "version": 3
   },
   "file_extension": ".py",
   "mimetype": "text/x-python",
   "name": "python",
   "nbconvert_exporter": "python",
   "pygments_lexer": "ipython3",
   "version": "3.7.0"
  }
 },
 "nbformat": 4,
 "nbformat_minor": 1
}
