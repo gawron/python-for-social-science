{
 "cells": [
  {
   "cell_type": "markdown",
   "id": "aa6860e9",
   "metadata": {},
   "source": [
    "### Practical examples with broadcasting"
   ]
  },
  {
   "cell_type": "markdown",
   "id": "70307a71",
   "metadata": {},
   "source": [
    "We'll start with a stock prices example, which shows how broadcasting and elementwise arithmetic\n",
    "combine to make standard statistical scaling quite simple."
   ]
  },
  {
   "cell_type": "markdown",
   "id": "c39468b1",
   "metadata": {},
   "source": [
    "### Centering & scaling data: What stock ended up with the best value as compared with its mean value over the sample period?\n",
    "\n",
    "To answer this question we essentially want to perform a **delta calculation**: subtract the mean value of the stock from the value on the last day.  The issue is what measure of value should we use when stock share prices differ significantly in scale  (compare IBM\n",
    "and Microsoft in Feb 1990 in the output below).  We need some way of scaling the price differences so\n",
    "as to make them comparable.\n",
    "\n",
    "We will present one way of doing this without a great deal of discussion because this question is essentially a pretext for showing you how to **center** and **scale** data.\n",
    "\n",
    "Strategy:  Center and scale each stock column to show stock price in standard deviation units.\n",
    "(Plot the three resulting stock price lines, for fun).  **Delta calculation**:  For each stock, compute the difference between the mean value and the last day prices in the data in  standard deviation units.\n",
    "\n",
    "What does matter is the choice of the units we use to represent stock values.  We choose\n",
    "`standard deviation units` to scale because that is a reasonable way to standardize stockprices.\n",
    "The combination of centering and scaling used here is called **z score** in statistics."
   ]
  },
  {
   "cell_type": "code",
   "execution_count": 10,
   "id": "fdfcbcfe",
   "metadata": {
    "scrolled": true
   },
   "outputs": [],
   "source": [
    "import pandas as pd\n",
    "import os.path\n",
    "import urllib.request \n",
    "import os.path\n",
    "from matplotlib import pyplot as plt\n",
    "\n",
    "# Load and preprocess the data\n",
    "\n",
    "url_dir = 'https://gawron.sdsu.edu/python_for_ss/course_core/data'\n",
    "time2 = pd.read_csv(os.path.join(url_dir,'stocks.csv'),index_col=0,converters={\"date\":pd.Timestamp})\n",
    "time2 = time2.set_index('date')\n",
    "month_groups=time2.resample('M')\n",
    "mean_by_months = month_groups.mean()\n",
    "df = mean_by_months[['AA','GE','IBM','MSFT']]"
   ]
  },
  {
   "cell_type": "code",
   "execution_count": 5,
   "id": "1cfcbc96",
   "metadata": {},
   "outputs": [
    {
     "data": {
      "text/html": [
       "<div>\n",
       "<style scoped>\n",
       "    .dataframe tbody tr th:only-of-type {\n",
       "        vertical-align: middle;\n",
       "    }\n",
       "\n",
       "    .dataframe tbody tr th {\n",
       "        vertical-align: top;\n",
       "    }\n",
       "\n",
       "    .dataframe thead th {\n",
       "        text-align: right;\n",
       "    }\n",
       "</style>\n",
       "<table border=\"1\" class=\"dataframe\">\n",
       "  <thead>\n",
       "    <tr style=\"text-align: right;\">\n",
       "      <th></th>\n",
       "      <th>AA</th>\n",
       "      <th>GE</th>\n",
       "      <th>IBM</th>\n",
       "      <th>MSFT</th>\n",
       "    </tr>\n",
       "    <tr>\n",
       "      <th>date</th>\n",
       "      <th></th>\n",
       "      <th></th>\n",
       "      <th></th>\n",
       "      <th></th>\n",
       "    </tr>\n",
       "  </thead>\n",
       "  <tbody>\n",
       "    <tr>\n",
       "      <th>1990-02-28</th>\n",
       "      <td>5.043684</td>\n",
       "      <td>2.873158</td>\n",
       "      <td>17.781579</td>\n",
       "      <td>0.523158</td>\n",
       "    </tr>\n",
       "    <tr>\n",
       "      <th>1990-03-31</th>\n",
       "      <td>5.362273</td>\n",
       "      <td>2.963636</td>\n",
       "      <td>18.466818</td>\n",
       "      <td>0.595000</td>\n",
       "    </tr>\n",
       "    <tr>\n",
       "      <th>1990-04-30</th>\n",
       "      <td>5.141000</td>\n",
       "      <td>3.037500</td>\n",
       "      <td>18.767500</td>\n",
       "      <td>0.638500</td>\n",
       "    </tr>\n",
       "    <tr>\n",
       "      <th>1990-05-31</th>\n",
       "      <td>5.278182</td>\n",
       "      <td>3.160000</td>\n",
       "      <td>20.121818</td>\n",
       "      <td>0.731364</td>\n",
       "    </tr>\n",
       "    <tr>\n",
       "      <th>1990-06-30</th>\n",
       "      <td>5.399048</td>\n",
       "      <td>3.275714</td>\n",
       "      <td>20.933810</td>\n",
       "      <td>0.821429</td>\n",
       "    </tr>\n",
       "  </tbody>\n",
       "</table>\n",
       "</div>"
      ],
      "text/plain": [
       "                  AA        GE        IBM      MSFT\n",
       "date                                               \n",
       "1990-02-28  5.043684  2.873158  17.781579  0.523158\n",
       "1990-03-31  5.362273  2.963636  18.466818  0.595000\n",
       "1990-04-30  5.141000  3.037500  18.767500  0.638500\n",
       "1990-05-31  5.278182  3.160000  20.121818  0.731364\n",
       "1990-06-30  5.399048  3.275714  20.933810  0.821429"
      ]
     },
     "execution_count": 5,
     "metadata": {},
     "output_type": "execute_result"
    }
   ],
   "source": [
    "df[:5]"
   ]
  },
  {
   "cell_type": "markdown",
   "id": "487706ef",
   "metadata": {},
   "source": [
    "The next cell actually centers and scales each column.  "
   ]
  },
  {
   "cell_type": "code",
   "execution_count": 4,
   "id": "1e4e4323",
   "metadata": {},
   "outputs": [
    {
     "data": {
      "text/html": [
       "<div>\n",
       "<style scoped>\n",
       "    .dataframe tbody tr th:only-of-type {\n",
       "        vertical-align: middle;\n",
       "    }\n",
       "\n",
       "    .dataframe tbody tr th {\n",
       "        vertical-align: top;\n",
       "    }\n",
       "\n",
       "    .dataframe thead th {\n",
       "        text-align: right;\n",
       "    }\n",
       "</style>\n",
       "<table border=\"1\" class=\"dataframe\">\n",
       "  <thead>\n",
       "    <tr style=\"text-align: right;\">\n",
       "      <th></th>\n",
       "      <th>AA</th>\n",
       "      <th>GE</th>\n",
       "      <th>IBM</th>\n",
       "      <th>MSFT</th>\n",
       "    </tr>\n",
       "    <tr>\n",
       "      <th>date</th>\n",
       "      <th></th>\n",
       "      <th></th>\n",
       "      <th></th>\n",
       "      <th></th>\n",
       "    </tr>\n",
       "  </thead>\n",
       "  <tbody>\n",
       "    <tr>\n",
       "      <th>1990-02-28</th>\n",
       "      <td>-1.288710</td>\n",
       "      <td>-1.418216</td>\n",
       "      <td>-1.172091</td>\n",
       "      <td>-1.508003</td>\n",
       "    </tr>\n",
       "    <tr>\n",
       "      <th>1990-03-31</th>\n",
       "      <td>-1.255604</td>\n",
       "      <td>-1.409703</td>\n",
       "      <td>-1.155745</td>\n",
       "      <td>-1.501460</td>\n",
       "    </tr>\n",
       "    <tr>\n",
       "      <th>1990-04-30</th>\n",
       "      <td>-1.278598</td>\n",
       "      <td>-1.402754</td>\n",
       "      <td>-1.148573</td>\n",
       "      <td>-1.497498</td>\n",
       "    </tr>\n",
       "    <tr>\n",
       "      <th>1990-05-31</th>\n",
       "      <td>-1.264343</td>\n",
       "      <td>-1.391229</td>\n",
       "      <td>-1.116268</td>\n",
       "      <td>-1.489040</td>\n",
       "    </tr>\n",
       "    <tr>\n",
       "      <th>1990-06-30</th>\n",
       "      <td>-1.251783</td>\n",
       "      <td>-1.380342</td>\n",
       "      <td>-1.096900</td>\n",
       "      <td>-1.480837</td>\n",
       "    </tr>\n",
       "    <tr>\n",
       "      <th>...</th>\n",
       "      <td>...</td>\n",
       "      <td>...</td>\n",
       "      <td>...</td>\n",
       "      <td>...</td>\n",
       "    </tr>\n",
       "    <tr>\n",
       "      <th>2011-06-30</th>\n",
       "      <td>-0.213580</td>\n",
       "      <td>0.032714</td>\n",
       "      <td>2.336573</td>\n",
       "      <td>0.657461</td>\n",
       "    </tr>\n",
       "    <tr>\n",
       "      <th>2011-07-31</th>\n",
       "      <td>-0.186770</td>\n",
       "      <td>0.052048</td>\n",
       "      <td>2.654514</td>\n",
       "      <td>0.885148</td>\n",
       "    </tr>\n",
       "    <tr>\n",
       "      <th>2011-08-31</th>\n",
       "      <td>-0.529118</td>\n",
       "      <td>-0.194660</td>\n",
       "      <td>2.439593</td>\n",
       "      <td>0.750245</td>\n",
       "    </tr>\n",
       "    <tr>\n",
       "      <th>2011-09-30</th>\n",
       "      <td>-0.647991</td>\n",
       "      <td>-0.224871</td>\n",
       "      <td>2.464671</td>\n",
       "      <td>0.809557</td>\n",
       "    </tr>\n",
       "    <tr>\n",
       "      <th>2011-10-31</th>\n",
       "      <td>-0.796747</td>\n",
       "      <td>-0.208138</td>\n",
       "      <td>2.754710</td>\n",
       "      <td>0.846075</td>\n",
       "    </tr>\n",
       "  </tbody>\n",
       "</table>\n",
       "<p>261 rows × 4 columns</p>\n",
       "</div>"
      ],
      "text/plain": [
       "                  AA        GE       IBM      MSFT\n",
       "date                                              \n",
       "1990-02-28 -1.288710 -1.418216 -1.172091 -1.508003\n",
       "1990-03-31 -1.255604 -1.409703 -1.155745 -1.501460\n",
       "1990-04-30 -1.278598 -1.402754 -1.148573 -1.497498\n",
       "1990-05-31 -1.264343 -1.391229 -1.116268 -1.489040\n",
       "1990-06-30 -1.251783 -1.380342 -1.096900 -1.480837\n",
       "...              ...       ...       ...       ...\n",
       "2011-06-30 -0.213580  0.032714  2.336573  0.657461\n",
       "2011-07-31 -0.186770  0.052048  2.654514  0.885148\n",
       "2011-08-31 -0.529118 -0.194660  2.439593  0.750245\n",
       "2011-09-30 -0.647991 -0.224871  2.464671  0.809557\n",
       "2011-10-31 -0.796747 -0.208138  2.754710  0.846075\n",
       "\n",
       "[261 rows x 4 columns]"
      ]
     },
     "execution_count": 4,
     "metadata": {},
     "output_type": "execute_result"
    }
   ],
   "source": [
    "(df - df.mean())/df.std()"
   ]
  },
  {
   "cell_type": "markdown",
   "id": "e34a82a6",
   "metadata": {},
   "source": []
  },
  {
   "cell_type": "code",
   "execution_count": 7,
   "id": "21a68fca",
   "metadata": {},
   "outputs": [],
   "source": [
    "mn,std = df.mean(),df.std()\n",
    "# centering (the numerator)  & scaling (the denominator)\n",
    "new_df=(df-mn)/std"
   ]
  },
  {
   "cell_type": "markdown",
   "id": "4b0baf53",
   "metadata": {},
   "source": [
    "How did **that** work?  Well, `pandas` sensibly decides\n",
    "that in a normally structured DataFrame, it doesn't make sense to take\n",
    "the mean or standard deviation of a row  (each column is potentially a different kind of thing),\n",
    "so mean and standard deviation calculations are automatically applied to columns,\n",
    "returning series instances indexed by column names."
   ]
  },
  {
   "cell_type": "code",
   "execution_count": 363,
   "id": "b67472b8",
   "metadata": {
    "scrolled": true
   },
   "outputs": [
    {
     "data": {
      "text/plain": [
       "AA       9.623\n",
       "GE      10.629\n",
       "IBM     41.923\n",
       "MSFT    10.980\n",
       "dtype: float64"
      ]
     },
     "execution_count": 363,
     "metadata": {},
     "output_type": "execute_result"
    }
   ],
   "source": [
    "std"
   ]
  },
  {
   "cell_type": "code",
   "execution_count": 364,
   "id": "b5b87a38",
   "metadata": {
    "scrolled": true
   },
   "outputs": [
    {
     "data": {
      "text/plain": [
       "AA      17.445\n",
       "GE      17.947\n",
       "IBM     66.919\n",
       "MSFT    17.080\n",
       "dtype: float64"
      ]
     },
     "execution_count": 364,
     "metadata": {},
     "output_type": "execute_result"
    }
   ],
   "source": [
    "mn"
   ]
  },
  {
   "cell_type": "markdown",
   "id": "b83815bd",
   "metadata": {},
   "source": [
    "Since `mn` has the column handles of `df`, \n",
    "the means are broadcast columnwise when\n",
    "they combine with `df`, so, for example, a value in \n",
    "the `AA` column of the DataFrame `(df - mn)`, say\n",
    "\n",
    "```\n",
    "(df - mn)[\"AA\"][\"1990-10-31\"]\n",
    "```\n",
    "\n",
    "is the result of subtracting `mn['AA']` (the column mean) from \n",
    "`df[\"AA\"][\"1990-10-31\"]`."
   ]
  },
  {
   "cell_type": "code",
   "execution_count": 498,
   "id": "df39198b",
   "metadata": {},
   "outputs": [
    {
     "data": {
      "text/plain": [
       "-12.761433276602373"
      ]
     },
     "execution_count": 498,
     "metadata": {},
     "output_type": "execute_result"
    }
   ],
   "source": [
    "df[\"AA\"][\"1990-10-31\"] - mn[\"AA\"]"
   ]
  },
  {
   "cell_type": "code",
   "execution_count": 497,
   "id": "a2ef5b18",
   "metadata": {},
   "outputs": [
    {
     "data": {
      "text/plain": [
       "-12.761433276602373"
      ]
     },
     "execution_count": 497,
     "metadata": {},
     "output_type": "execute_result"
    }
   ],
   "source": [
    "(df - mn)[\"AA\"][\"1990-10-31\"]"
   ]
  },
  {
   "cell_type": "code",
   "execution_count": 367,
   "id": "6e5e9c8d",
   "metadata": {},
   "outputs": [
    {
     "data": {
      "text/html": [
       "<div>\n",
       "<style scoped>\n",
       "    .dataframe tbody tr th:only-of-type {\n",
       "        vertical-align: middle;\n",
       "    }\n",
       "\n",
       "    .dataframe tbody tr th {\n",
       "        vertical-align: top;\n",
       "    }\n",
       "\n",
       "    .dataframe thead th {\n",
       "        text-align: right;\n",
       "    }\n",
       "</style>\n",
       "<table border=\"1\" class=\"dataframe\">\n",
       "  <thead>\n",
       "    <tr style=\"text-align: right;\">\n",
       "      <th></th>\n",
       "      <th>AA</th>\n",
       "      <th>GE</th>\n",
       "      <th>IBM</th>\n",
       "      <th>MSFT</th>\n",
       "    </tr>\n",
       "    <tr>\n",
       "      <th>date</th>\n",
       "      <th></th>\n",
       "      <th></th>\n",
       "      <th></th>\n",
       "      <th></th>\n",
       "    </tr>\n",
       "  </thead>\n",
       "  <tbody>\n",
       "    <tr>\n",
       "      <th>1990-02-28</th>\n",
       "      <td>-12.402</td>\n",
       "      <td>-15.074</td>\n",
       "      <td>-49.138</td>\n",
       "      <td>-16.557</td>\n",
       "    </tr>\n",
       "    <tr>\n",
       "      <th>1990-03-31</th>\n",
       "      <td>-12.083</td>\n",
       "      <td>-14.984</td>\n",
       "      <td>-48.452</td>\n",
       "      <td>-16.485</td>\n",
       "    </tr>\n",
       "    <tr>\n",
       "      <th>1990-04-30</th>\n",
       "      <td>-12.304</td>\n",
       "      <td>-14.910</td>\n",
       "      <td>-48.152</td>\n",
       "      <td>-16.442</td>\n",
       "    </tr>\n",
       "    <tr>\n",
       "      <th>1990-05-31</th>\n",
       "      <td>-12.167</td>\n",
       "      <td>-14.787</td>\n",
       "      <td>-46.797</td>\n",
       "      <td>-16.349</td>\n",
       "    </tr>\n",
       "    <tr>\n",
       "      <th>1990-06-30</th>\n",
       "      <td>-12.046</td>\n",
       "      <td>-14.672</td>\n",
       "      <td>-45.985</td>\n",
       "      <td>-16.259</td>\n",
       "    </tr>\n",
       "  </tbody>\n",
       "</table>\n",
       "</div>"
      ],
      "text/plain": [
       "                AA      GE     IBM    MSFT\n",
       "date                                      \n",
       "1990-02-28 -12.402 -15.074 -49.138 -16.557\n",
       "1990-03-31 -12.083 -14.984 -48.452 -16.485\n",
       "1990-04-30 -12.304 -14.910 -48.152 -16.442\n",
       "1990-05-31 -12.167 -14.787 -46.797 -16.349\n",
       "1990-06-30 -12.046 -14.672 -45.985 -16.259"
      ]
     },
     "execution_count": 367,
     "metadata": {},
     "output_type": "execute_result"
    }
   ],
   "source": [
    "(df-mn)[:5]"
   ]
  },
  {
   "cell_type": "markdown",
   "id": "426dce6b",
   "metadata": {},
   "source": [
    "The division by `std` (scaling to standard deviation units) works analogously; each value in `(df-mn)` is\n",
    "divided by the standard deviation of its column."
   ]
  },
  {
   "cell_type": "markdown",
   "id": "ba2fd38b",
   "metadata": {},
   "source": [
    "Note: You can also use Scikit Learn's standard scaler for this task.  This produces a numpy array,\n",
    "so you have to convert the output into a DataFrame."
   ]
  },
  {
   "cell_type": "code",
   "execution_count": 499,
   "id": "cc27cfe1",
   "metadata": {},
   "outputs": [
    {
     "data": {
      "text/html": [
       "<div>\n",
       "<style scoped>\n",
       "    .dataframe tbody tr th:only-of-type {\n",
       "        vertical-align: middle;\n",
       "    }\n",
       "\n",
       "    .dataframe tbody tr th {\n",
       "        vertical-align: top;\n",
       "    }\n",
       "\n",
       "    .dataframe thead th {\n",
       "        text-align: right;\n",
       "    }\n",
       "</style>\n",
       "<table border=\"1\" class=\"dataframe\">\n",
       "  <thead>\n",
       "    <tr style=\"text-align: right;\">\n",
       "      <th></th>\n",
       "      <th>AA</th>\n",
       "      <th>GE</th>\n",
       "      <th>IBM</th>\n",
       "      <th>MSFT</th>\n",
       "    </tr>\n",
       "    <tr>\n",
       "      <th>date</th>\n",
       "      <th></th>\n",
       "      <th></th>\n",
       "      <th></th>\n",
       "      <th></th>\n",
       "    </tr>\n",
       "  </thead>\n",
       "  <tbody>\n",
       "    <tr>\n",
       "      <th>1990-02-28</th>\n",
       "      <td>-1.291</td>\n",
       "      <td>-1.421</td>\n",
       "      <td>-1.174</td>\n",
       "      <td>-1.511</td>\n",
       "    </tr>\n",
       "    <tr>\n",
       "      <th>1990-03-31</th>\n",
       "      <td>-1.258</td>\n",
       "      <td>-1.412</td>\n",
       "      <td>-1.158</td>\n",
       "      <td>-1.504</td>\n",
       "    </tr>\n",
       "    <tr>\n",
       "      <th>1990-04-30</th>\n",
       "      <td>-1.281</td>\n",
       "      <td>-1.405</td>\n",
       "      <td>-1.151</td>\n",
       "      <td>-1.500</td>\n",
       "    </tr>\n",
       "    <tr>\n",
       "      <th>1990-05-31</th>\n",
       "      <td>-1.267</td>\n",
       "      <td>-1.394</td>\n",
       "      <td>-1.118</td>\n",
       "      <td>-1.492</td>\n",
       "    </tr>\n",
       "    <tr>\n",
       "      <th>1990-06-30</th>\n",
       "      <td>-1.254</td>\n",
       "      <td>-1.383</td>\n",
       "      <td>-1.099</td>\n",
       "      <td>-1.484</td>\n",
       "    </tr>\n",
       "    <tr>\n",
       "      <th>...</th>\n",
       "      <td>...</td>\n",
       "      <td>...</td>\n",
       "      <td>...</td>\n",
       "      <td>...</td>\n",
       "    </tr>\n",
       "    <tr>\n",
       "      <th>2011-06-30</th>\n",
       "      <td>-0.214</td>\n",
       "      <td>0.033</td>\n",
       "      <td>2.341</td>\n",
       "      <td>0.659</td>\n",
       "    </tr>\n",
       "    <tr>\n",
       "      <th>2011-07-31</th>\n",
       "      <td>-0.187</td>\n",
       "      <td>0.052</td>\n",
       "      <td>2.660</td>\n",
       "      <td>0.887</td>\n",
       "    </tr>\n",
       "    <tr>\n",
       "      <th>2011-08-31</th>\n",
       "      <td>-0.530</td>\n",
       "      <td>-0.195</td>\n",
       "      <td>2.444</td>\n",
       "      <td>0.752</td>\n",
       "    </tr>\n",
       "    <tr>\n",
       "      <th>2011-09-30</th>\n",
       "      <td>-0.649</td>\n",
       "      <td>-0.225</td>\n",
       "      <td>2.469</td>\n",
       "      <td>0.811</td>\n",
       "    </tr>\n",
       "    <tr>\n",
       "      <th>2011-10-31</th>\n",
       "      <td>-0.798</td>\n",
       "      <td>-0.209</td>\n",
       "      <td>2.760</td>\n",
       "      <td>0.848</td>\n",
       "    </tr>\n",
       "  </tbody>\n",
       "</table>\n",
       "<p>261 rows × 4 columns</p>\n",
       "</div>"
      ],
      "text/plain": [
       "               AA     GE    IBM   MSFT\n",
       "date                                  \n",
       "1990-02-28 -1.291 -1.421 -1.174 -1.511\n",
       "1990-03-31 -1.258 -1.412 -1.158 -1.504\n",
       "1990-04-30 -1.281 -1.405 -1.151 -1.500\n",
       "1990-05-31 -1.267 -1.394 -1.118 -1.492\n",
       "1990-06-30 -1.254 -1.383 -1.099 -1.484\n",
       "...           ...    ...    ...    ...\n",
       "2011-06-30 -0.214  0.033  2.341  0.659\n",
       "2011-07-31 -0.187  0.052  2.660  0.887\n",
       "2011-08-31 -0.530 -0.195  2.444  0.752\n",
       "2011-09-30 -0.649 -0.225  2.469  0.811\n",
       "2011-10-31 -0.798 -0.209  2.760  0.848\n",
       "\n",
       "[261 rows x 4 columns]"
      ]
     },
     "execution_count": 499,
     "metadata": {},
     "output_type": "execute_result"
    }
   ],
   "source": [
    "from sklearn.preprocessing import StandardScaler\n",
    "scaler = StandardScaler()\n",
    "scaled = pd.DataFrame(scaler.fit_transform(df),\n",
    "                      index=df.index,\n",
    "                      columns=df.columns)\n",
    "scaled"
   ]
  },
  {
   "cell_type": "markdown",
   "id": "fd962c50",
   "metadata": {},
   "source": [
    "Now for fun we can plot the value changes in the stocks across time with each line representing comparable\n",
    "units.  The 0-line represents the mean value over the sample period for each stock.  "
   ]
  },
  {
   "cell_type": "code",
   "execution_count": 393,
   "id": "dd7f8220",
   "metadata": {},
   "outputs": [
    {
     "data": {
      "image/png": "[encoded data removed]",
      "text/plain": [
       "<Figure size 640x480 with 1 Axes>"
      ]
     },
     "metadata": {},
     "output_type": "display_data"
    }
   ],
   "source": [
    "with mpl.style.context(['ggplot']):\n",
    "    new_df.plot()\n",
    "    plt.show()"
   ]
  },
  {
   "cell_type": "markdown",
   "id": "639c630f",
   "metadata": {},
   "source": [
    "**Delta calculation**: The winner, as the picture suggests, is IBM."
   ]
  },
  {
   "cell_type": "code",
   "execution_count": 8,
   "id": "9aad60cd",
   "metadata": {},
   "outputs": [
    {
     "data": {
      "text/plain": [
       "AA     -2.609568\n",
       "GE     -1.896668\n",
       "IBM     1.158471\n",
       "MSFT   -0.709576\n",
       "dtype: float64"
      ]
     },
     "execution_count": 8,
     "metadata": {},
     "output_type": "execute_result"
    }
   ],
   "source": [
    "# (Values on last day) - (Mean value in std units)\n",
    "stock_gains_over_mns = (new_df.iloc[-1] - (mn/std))\n",
    "stock_gains_over_mns "
   ]
  },
  {
   "cell_type": "markdown",
   "id": "e86254a3",
   "metadata": {},
   "source": [
    "Notice why this works.  `new_df.iloc[-1]`  is the last row, which has column handles, and\n",
    "`mn` and `std` have column handles, which means `mn/std` has column handles,\n",
    "which makes the subtraction above well-defined.  \n",
    "\n",
    "In particular, the means for each column, expressed in std-units, are subtracted the last-day values for each column."
   ]
  },
  {
   "cell_type": "code",
   "execution_count": 9,
   "id": "34947126",
   "metadata": {},
   "outputs": [
    {
     "data": {
      "text/plain": [
       "IBM    1.158471\n",
       "dtype: float64"
      ]
     },
     "execution_count": 9,
     "metadata": {},
     "output_type": "execute_result"
    }
   ],
   "source": [
    "stock_gains_over_mns .sort_values(ascending=False).iloc[0:1]"
   ]
  },
  {
   "cell_type": "markdown",
   "id": "7835fe73",
   "metadata": {},
   "source": [
    "#### Exercise\n",
    "\n",
    "A much more standard way to evaluate a stcok's performance over a sample period is to compute the percentage gain between first day and\n",
    "last day over the interval.  Using `pandas` elementwise operations, choose the\n",
    "winner over the interval of the entire data set according to the  percentage gain in value:\n",
    "\n",
    "```\n",
    "(value on last day - value on first day)/value on first day\n",
    "```\n",
    "\n",
    "Start from `df`.  Don't do centering or scaling."
   ]
  },
  {
   "cell_type": "code",
   "execution_count": null,
   "id": "3fbada75",
   "metadata": {},
   "outputs": [],
   "source": []
  },
  {
   "cell_type": "code",
   "execution_count": null,
   "id": "c9b37323",
   "metadata": {},
   "outputs": [],
   "source": []
  },
  {
   "cell_type": "code",
   "execution_count": null,
   "id": "d00c8275",
   "metadata": {},
   "outputs": [],
   "source": []
  },
  {
   "cell_type": "code",
   "execution_count": null,
   "id": "dc787497",
   "metadata": {},
   "outputs": [],
   "source": []
  },
  {
   "cell_type": "code",
   "execution_count": null,
   "id": "f57422d1",
   "metadata": {},
   "outputs": [],
   "source": []
  },
  {
   "cell_type": "code",
   "execution_count": null,
   "id": "63a5abcf",
   "metadata": {},
   "outputs": [],
   "source": []
  },
  {
   "cell_type": "code",
   "execution_count": null,
   "id": "ca3f5e49",
   "metadata": {},
   "outputs": [],
   "source": []
  },
  {
   "cell_type": "code",
   "execution_count": null,
   "id": "38e20b45",
   "metadata": {},
   "outputs": [],
   "source": []
  },
  {
   "cell_type": "code",
   "execution_count": 383,
   "id": "823a5aac",
   "metadata": {},
   "outputs": [
    {
     "data": {
      "text/plain": [
       "AA       0.939\n",
       "GE       4.477\n",
       "IBM      9.258\n",
       "MSFT    49.405\n",
       "dtype: float64"
      ]
     },
     "execution_count": 383,
     "metadata": {},
     "output_type": "execute_result"
    }
   ],
   "source": [
    "stock_increases = (df.iloc[-1] - df.iloc[0])/df.iloc[0]\n",
    "stock_increases"
   ]
  },
  {
   "cell_type": "code",
   "execution_count": null,
   "id": "e1118c9b",
   "metadata": {},
   "outputs": [],
   "source": []
  }
 ],
 "metadata": {
  "kernelspec": {
   "display_name": "Python 3 (ipykernel)",
   "language": "python",
   "name": "python3"
  },
  "language_info": {
   "codemirror_mode": {
    "name": "ipython",
    "version": 3
   },
   "file_extension": ".py",
   "mimetype": "text/x-python",
   "name": "python",
   "nbconvert_exporter": "python",
   "pygments_lexer": "ipython3",
   "version": "3.10.6"
  }
 },
 "nbformat": 4,
 "nbformat_minor": 5
}
