{
 "cells": [
  {
   "cell_type": "markdown",
   "metadata": {},
   "source": [
    "## 1  Preliminaries"
   ]
  },
  {
   "cell_type": "code",
   "execution_count": 2,
   "metadata": {},
   "outputs": [],
   "source": [
    "# The usual preamble\n",
    "import pandas as pd\n",
    "from matplotlib import pyplot as plt\n",
    "# Make the graphs a bit prettier, and bigger\n",
    "#pd.set_option('display.mpl_style', 'default') \n",
    "#pd.set_option('display.line_width', 5000) \n",
    "pd.set_option('display.max_columns', 60) \n",
    "\n",
    "#figsize(15, 5)"
   ]
  },
  {
   "cell_type": "markdown",
   "metadata": {},
   "source": [
    "We're going to use a new dataset here, to demonstrate how to deal with larger datasets. This is a subset of the of 311 service requests from [NYC Open Data](https://nycopendata.socrata.com/Social-Services/311-Service-Requests-from-2010-to-Present/erm2-nwe9). "
   ]
  },
  {
   "cell_type": "code",
   "execution_count": 3,
   "metadata": {},
   "outputs": [],
   "source": [
    "import pandas as pd\n",
    "names2000 = pd.read_csv('names/yob2000.txt',names=['name','sex','births'])"
   ]
  },
  {
   "cell_type": "markdown",
   "metadata": {},
   "source": [
    "## 2.1 Selecting columns and rows"
   ]
  },
  {
   "cell_type": "markdown",
   "metadata": {},
   "source": [
    "In next cell, write an expression that returns a `pandas` `Series` with just the names in the `name` column."
   ]
  },
  {
   "cell_type": "code",
   "execution_count": null,
   "metadata": {
    "scrolled": true
   },
   "outputs": [],
   "source": [
    "names2000['name']"
   ]
  },
  {
   "cell_type": "markdown",
   "metadata": {},
   "source": [
    "In the next cell, write an expression that returns the first 25 rows of the `names2000` dataframe,"
   ]
  },
  {
   "cell_type": "code",
   "execution_count": null,
   "metadata": {
    "scrolled": true
   },
   "outputs": [],
   "source": [
    "names2000[:25]"
   ]
  },
  {
   "cell_type": "markdown",
   "metadata": {},
   "source": [
    "In the next cell write an expression that returns the first 25 row of the `name` column."
   ]
  },
  {
   "cell_type": "code",
   "execution_count": null,
   "metadata": {},
   "outputs": [],
   "source": [
    "names2000['name'][:25]"
   ]
  },
  {
   "cell_type": "markdown",
   "metadata": {},
   "source": [
    "## 2.2 Selecting multiple columns"
   ]
  },
  {
   "cell_type": "markdown",
   "metadata": {},
   "source": [
    "What if we just want to know the gender and the birth counts, but not the name? Pandas makes it really easy to select a subset of the columns: just index with list of columns you want.  Write an expression that that returns a data frame with just the `name` and `sex` columns of the `names2000` dataframe."
   ]
  },
  {
   "cell_type": "code",
   "execution_count": null,
   "metadata": {
    "scrolled": true
   },
   "outputs": [],
   "source": [
    "names2000[['name','sex']]"
   ]
  },
  {
   "cell_type": "markdown",
   "metadata": {},
   "source": [
    "Now write an expression that returns just the first ten rows of the dataframe you returned in the cell above. "
   ]
  },
  {
   "cell_type": "code",
   "execution_count": null,
   "metadata": {
    "scrolled": true
   },
   "outputs": [],
   "source": [
    "names2000[['name','sex']][:10]"
   ]
  },
  {
   "cell_type": "markdown",
   "metadata": {},
   "source": [
    "## Plotting"
   ]
  },
  {
   "cell_type": "markdown",
   "metadata": {},
   "source": [
    "Write some lines of code that do a barplot of the first fifteen rows of the `names2000` dataframe.  Make sure the `x`-axis shows the name associated with each bar (and not just an arbitrary integer)."
   ]
  },
  {
   "cell_type": "code",
   "execution_count": 4,
   "metadata": {},
   "outputs": [
    {
     "data": {
      "text/plain": [
       "<matplotlib.axes._subplots.AxesSubplot at 0x108642518>"
      ]
     },
     "execution_count": 4,
     "metadata": {},
     "output_type": "execute_result"
    },
    {
     "data": {
      "image/png": "[encoded data removed]",
      "text/plain": [
       "<Figure size 432x288 with 1 Axes>"
      ]
     },
     "metadata": {},
     "output_type": "display_data"
    }
   ],
   "source": [
    "from matplotlib import pyplot as plt\n",
    "import pandas as pd\n",
    "names2000 = pd.read_csv('names/yob2000.txt',names=['name','sex','births'],index_col=['name'])\n",
    "names2000[:15].plot(kind='bar')"
   ]
  },
  {
   "cell_type": "code",
   "execution_count": 4,
   "metadata": {},
   "outputs": [
    {
     "data": {
      "text/plain": [
       "True"
      ]
     },
     "execution_count": 4,
     "metadata": {},
     "output_type": "execute_result"
    }
   ],
   "source": [
    "True"
   ]
  },
  {
   "cell_type": "markdown",
   "metadata": {
    "collapsed": true
   },
   "source": [
    "# Aggregation"
   ]
  },
  {
   "cell_type": "markdown",
   "metadata": {},
   "source": [
    "The following code loads the service requests data used in one of your pandas notebooks, and creates \n",
    "a subtable consisting of the data for just three agencies.  It then adds a **new** column called `Count`,\n",
    "which we're going to use for counting complaints.  Since each row represents exactly one complain,\n",
    "the value in the `Count` column is always 1."
   ]
  },
  {
   "cell_type": "code",
   "execution_count": 1,
   "metadata": {},
   "outputs": [],
   "source": [
    "import pandas as pd\n",
    "complaints = pd.read_csv('311-service-requests.csv',low_memory=False)\n",
    "complaints['Count'] = 1"
   ]
  },
  {
   "cell_type": "markdown",
   "metadata": {},
   "source": [
    "Looking at the `Count` column:"
   ]
  },
  {
   "cell_type": "code",
   "execution_count": 2,
   "metadata": {},
   "outputs": [
    {
     "data": {
      "text/plain": [
       "0    1\n",
       "1    1\n",
       "2    1\n",
       "3    1\n",
       "4    1\n",
       "5    1\n",
       "6    1\n",
       "7    1\n",
       "8    1\n",
       "9    1\n",
       "Name: Count, dtype: int64"
      ]
     },
     "execution_count": 2,
     "metadata": {},
     "output_type": "execute_result"
    }
   ],
   "source": [
    "complaints['Count'][:10]"
   ]
  },
  {
   "cell_type": "markdown",
   "metadata": {},
   "source": [
    "The following code creates a subtable with just the complaints for the following three\n",
    "agencies: `DOT`, `DOP`, and `NYPD`."
   ]
  },
  {
   "cell_type": "code",
   "execution_count": 4,
   "metadata": {},
   "outputs": [],
   "source": [
    "pt00 = complaints[complaints.Agency.isin(['DOT', \"DOP\", 'NYPD'])]"
   ]
  },
  {
   "cell_type": "markdown",
   "metadata": {},
   "source": [
    "Your mission should you decide to accept it is to create pivot table whose rows are the three agencies,\n",
    "and whose columns are the complaint types.  Each cell in the table thus contains the total number of complaints\n",
    "of that complaint type for that agency.  For example, in the NYPD row, the Animal Abuse column should\n",
    "have the number 164, meaning that 164 animal abuse complaints were made to NYPD."
   ]
  },
  {
   "cell_type": "code",
   "execution_count": 5,
   "metadata": {},
   "outputs": [],
   "source": [
    "pt0 = pt00.pivot_table('Count', 'Agency' , columns = 'Complaint Type',\n",
    "                       aggfunc=sum)"
   ]
  },
  {
   "cell_type": "code",
   "execution_count": 6,
   "metadata": {},
   "outputs": [
    {
     "data": {
      "text/html": [
       "<div>\n",
       "<style scoped>\n",
       "    .dataframe tbody tr th:only-of-type {\n",
       "        vertical-align: middle;\n",
       "    }\n",
       "\n",
       "    .dataframe tbody tr th {\n",
       "        vertical-align: top;\n",
       "    }\n",
       "\n",
       "    .dataframe thead th {\n",
       "        text-align: right;\n",
       "    }\n",
       "</style>\n",
       "<table border=\"1\" class=\"dataframe\">\n",
       "  <thead>\n",
       "    <tr style=\"text-align: right;\">\n",
       "      <th>Complaint Type</th>\n",
       "      <th>Agency Issues</th>\n",
       "      <th>Animal Abuse</th>\n",
       "      <th>Bike Rack Condition</th>\n",
       "      <th>Bike/Roller/Skate Chronic</th>\n",
       "      <th>Blocked Driveway</th>\n",
       "      <th>Bridge Condition</th>\n",
       "      <th>Broken Muni Meter</th>\n",
       "      <th>Bus Stop Shelter Placement</th>\n",
       "      <th>Compliment</th>\n",
       "      <th>Curb Condition</th>\n",
       "      <th>...</th>\n",
       "      <th>Street Condition</th>\n",
       "      <th>Street Light Condition</th>\n",
       "      <th>Street Sign - Damaged</th>\n",
       "      <th>Street Sign - Dangling</th>\n",
       "      <th>Street Sign - Missing</th>\n",
       "      <th>Traffic</th>\n",
       "      <th>Traffic Signal Condition</th>\n",
       "      <th>Tunnel Condition</th>\n",
       "      <th>Urinating in Public</th>\n",
       "      <th>Vending</th>\n",
       "    </tr>\n",
       "    <tr>\n",
       "      <th>Agency</th>\n",
       "      <th></th>\n",
       "      <th></th>\n",
       "      <th></th>\n",
       "      <th></th>\n",
       "      <th></th>\n",
       "      <th></th>\n",
       "      <th></th>\n",
       "      <th></th>\n",
       "      <th></th>\n",
       "      <th></th>\n",
       "      <th></th>\n",
       "      <th></th>\n",
       "      <th></th>\n",
       "      <th></th>\n",
       "      <th></th>\n",
       "      <th></th>\n",
       "      <th></th>\n",
       "      <th></th>\n",
       "      <th></th>\n",
       "      <th></th>\n",
       "      <th></th>\n",
       "    </tr>\n",
       "  </thead>\n",
       "  <tbody>\n",
       "    <tr>\n",
       "      <th>DOP</th>\n",
       "      <td>NaN</td>\n",
       "      <td>NaN</td>\n",
       "      <td>NaN</td>\n",
       "      <td>NaN</td>\n",
       "      <td>NaN</td>\n",
       "      <td>NaN</td>\n",
       "      <td>NaN</td>\n",
       "      <td>NaN</td>\n",
       "      <td>NaN</td>\n",
       "      <td>NaN</td>\n",
       "      <td>...</td>\n",
       "      <td>NaN</td>\n",
       "      <td>NaN</td>\n",
       "      <td>NaN</td>\n",
       "      <td>NaN</td>\n",
       "      <td>NaN</td>\n",
       "      <td>NaN</td>\n",
       "      <td>NaN</td>\n",
       "      <td>NaN</td>\n",
       "      <td>NaN</td>\n",
       "      <td>NaN</td>\n",
       "    </tr>\n",
       "    <tr>\n",
       "      <th>DOT</th>\n",
       "      <td>20.0</td>\n",
       "      <td>NaN</td>\n",
       "      <td>7.0</td>\n",
       "      <td>NaN</td>\n",
       "      <td>NaN</td>\n",
       "      <td>20.0</td>\n",
       "      <td>2070.0</td>\n",
       "      <td>14.0</td>\n",
       "      <td>1.0</td>\n",
       "      <td>66.0</td>\n",
       "      <td>...</td>\n",
       "      <td>3473.0</td>\n",
       "      <td>7117.0</td>\n",
       "      <td>691.0</td>\n",
       "      <td>110.0</td>\n",
       "      <td>327.0</td>\n",
       "      <td>NaN</td>\n",
       "      <td>3145.0</td>\n",
       "      <td>1.0</td>\n",
       "      <td>NaN</td>\n",
       "      <td>NaN</td>\n",
       "    </tr>\n",
       "    <tr>\n",
       "      <th>NYPD</th>\n",
       "      <td>NaN</td>\n",
       "      <td>164.0</td>\n",
       "      <td>NaN</td>\n",
       "      <td>32.0</td>\n",
       "      <td>4590.0</td>\n",
       "      <td>NaN</td>\n",
       "      <td>NaN</td>\n",
       "      <td>NaN</td>\n",
       "      <td>NaN</td>\n",
       "      <td>NaN</td>\n",
       "      <td>...</td>\n",
       "      <td>NaN</td>\n",
       "      <td>NaN</td>\n",
       "      <td>NaN</td>\n",
       "      <td>NaN</td>\n",
       "      <td>NaN</td>\n",
       "      <td>168.0</td>\n",
       "      <td>NaN</td>\n",
       "      <td>NaN</td>\n",
       "      <td>30.0</td>\n",
       "      <td>229.0</td>\n",
       "    </tr>\n",
       "  </tbody>\n",
       "</table>\n",
       "<p>3 rows × 46 columns</p>\n",
       "</div>"
      ],
      "text/plain": [
       "Complaint Type  Agency Issues  Animal Abuse  Bike Rack Condition  \\\n",
       "Agency                                                             \n",
       "DOP                       NaN           NaN                  NaN   \n",
       "DOT                      20.0           NaN                  7.0   \n",
       "NYPD                      NaN         164.0                  NaN   \n",
       "\n",
       "Complaint Type  Bike/Roller/Skate Chronic  Blocked Driveway  Bridge Condition  \\\n",
       "Agency                                                                          \n",
       "DOP                                   NaN               NaN               NaN   \n",
       "DOT                                   NaN               NaN              20.0   \n",
       "NYPD                                 32.0            4590.0               NaN   \n",
       "\n",
       "Complaint Type  Broken Muni Meter  Bus Stop Shelter Placement  Compliment  \\\n",
       "Agency                                                                      \n",
       "DOP                           NaN                         NaN         NaN   \n",
       "DOT                        2070.0                        14.0         1.0   \n",
       "NYPD                          NaN                         NaN         NaN   \n",
       "\n",
       "Complaint Type  Curb Condition   ...     Street Condition  \\\n",
       "Agency                           ...                        \n",
       "DOP                        NaN   ...                  NaN   \n",
       "DOT                       66.0   ...               3473.0   \n",
       "NYPD                       NaN   ...                  NaN   \n",
       "\n",
       "Complaint Type  Street Light Condition  Street Sign - Damaged  \\\n",
       "Agency                                                          \n",
       "DOP                                NaN                    NaN   \n",
       "DOT                             7117.0                  691.0   \n",
       "NYPD                               NaN                    NaN   \n",
       "\n",
       "Complaint Type  Street Sign - Dangling  Street Sign - Missing  Traffic  \\\n",
       "Agency                                                                   \n",
       "DOP                                NaN                    NaN      NaN   \n",
       "DOT                              110.0                  327.0      NaN   \n",
       "NYPD                               NaN                    NaN    168.0   \n",
       "\n",
       "Complaint Type  Traffic Signal Condition  Tunnel Condition  \\\n",
       "Agency                                                       \n",
       "DOP                                  NaN               NaN   \n",
       "DOT                               3145.0               1.0   \n",
       "NYPD                                 NaN               NaN   \n",
       "\n",
       "Complaint Type  Urinating in Public  Vending  \n",
       "Agency                                        \n",
       "DOP                             NaN      NaN  \n",
       "DOT                             NaN      NaN  \n",
       "NYPD                           30.0    229.0  \n",
       "\n",
       "[3 rows x 46 columns]"
      ]
     },
     "execution_count": 6,
     "metadata": {},
     "output_type": "execute_result"
    }
   ],
   "source": [
    "pt0"
   ]
  },
  {
   "cell_type": "code",
   "execution_count": 1,
   "metadata": {},
   "outputs": [
    {
     "name": "stdout",
     "output_type": "stream",
     "text": [
      "Object `pd.pivot` not found.\n"
     ]
    }
   ],
   "source": [
    "pd.pivot??"
   ]
  },
  {
   "cell_type": "markdown",
   "metadata": {},
   "source": [
    "# 4.  Baby names questions"
   ]
  },
  {
   "cell_type": "code",
   "execution_count": 1,
   "metadata": {},
   "outputs": [
    {
     "ename": "ModuleNotFoundError",
     "evalue": "No module named 'google'",
     "output_type": "error",
     "traceback": [
      "\u001b[0;31m---------------------------------------------------------------------------\u001b[0m",
      "\u001b[0;31mModuleNotFoundError\u001b[0m                       Traceback (most recent call last)",
      "\u001b[0;32m<ipython-input-1-9f60292aa265>\u001b[0m in \u001b[0;36m<module>\u001b[0;34m\u001b[0m\n\u001b[0;32m----> 1\u001b[0;31m \u001b[0;32mfrom\u001b[0m \u001b[0mgoogle\u001b[0m\u001b[0;34m.\u001b[0m\u001b[0mcolab\u001b[0m \u001b[0;32mimport\u001b[0m \u001b[0mdrive\u001b[0m\u001b[0;34m\u001b[0m\u001b[0m\n\u001b[0m\u001b[1;32m      2\u001b[0m \u001b[0;32mimport\u001b[0m \u001b[0mos\u001b[0m\u001b[0;34m.\u001b[0m\u001b[0mpath\u001b[0m\u001b[0;34m\u001b[0m\u001b[0m\n\u001b[1;32m      3\u001b[0m \u001b[0;32mimport\u001b[0m \u001b[0mpandas\u001b[0m \u001b[0;32mas\u001b[0m \u001b[0mpd\u001b[0m\u001b[0;34m\u001b[0m\u001b[0m\n\u001b[1;32m      4\u001b[0m \u001b[0;34m\u001b[0m\u001b[0m\n\u001b[1;32m      5\u001b[0m \u001b[0;31m# Mount google drive to create a filesystem the notebook can use\u001b[0m\u001b[0;34m\u001b[0m\u001b[0;34m\u001b[0m\u001b[0m\n",
      "\u001b[0;31mModuleNotFoundError\u001b[0m: No module named 'google'"
     ]
    }
   ],
   "source": [
    "from google.colab import drive\n",
    "import os.path\n",
    "import pandas as pd\n",
    "\n",
    "# Mount google drive to create a filesystem the notebook can use\n",
    "drive.mount('/content/gdrive') \n",
    "# Specify the code dir in the new filesystem.\n",
    "data_dir ='/content/gdrive/My Drive/'\n",
    "#file_path = os.path.join(data_dir, 'births_example.csv')\n",
    "#df.to_csv(file_path,index=False,header=False)\n",
    "\n",
    "years = list(range(1880,2011))\n",
    "pieces = []\n",
    "columns = ['name','sex','births']\n",
    "    \n",
    "for year in years:\n",
    "    path = f'names/yob{year:d}.txt'\n",
    "    frame = pd.read_csv(path,names=columns)\n",
    "    frame['year'] = year\n",
    "    pieces.append(frame)    \n",
    "    \n",
    "names = pd.concat(pieces, ignore_index=True)"
   ]
  },
  {
   "cell_type": "code",
   "execution_count": null,
   "metadata": {},
   "outputs": [],
   "source": []
  }
 ],
 "metadata": {
  "kernelspec": {
   "display_name": "Python 3",
   "language": "python",
   "name": "python3"
  },
  "language_info": {
   "codemirror_mode": {
    "name": "ipython",
    "version": 3
   },
   "file_extension": ".py",
   "mimetype": "text/x-python",
   "name": "python",
   "nbconvert_exporter": "python",
   "pygments_lexer": "ipython3",
   "version": "3.7.0"
  },
  "toc": {
   "base_numbering": 1,
   "nav_menu": {},
   "number_sections": true,
   "sideBar": true,
   "skip_h1_title": false,
   "title_cell": "Table of Contents",
   "title_sidebar": "Contents",
   "toc_cell": false,
   "toc_position": {},
   "toc_section_display": true,
   "toc_window_display": false
  }
 },
 "nbformat": 4,
 "nbformat_minor": 1
}
