{
  "cells": [
    {
      "cell_type": "markdown",
      "metadata": {
        "id": "pfTKFnh1LXl6"
      },
      "source": [
        "## 1  Preliminaries"
      ]
    },
    {
      "cell_type": "code",
      "execution_count": null,
      "metadata": {
        "colab": {
          "base_uri": "https://localhost:8080/"
        },
        "id": "oZJ2epPOLXl-",
        "outputId": "c69ccba0-58bb-4678-8a3f-8496ee444520"
      },
      "outputs": [
        {
          "name": "stdout",
          "output_type": "stream",
          "text": [
            "Mounted at /content/gdrive\n"
          ]
        }
      ],
      "source": [
        "# The usual preamble\n",
        "import pandas as pd\n",
        "from matplotlib import pyplot as plt\n",
        "# Make the graphs a bit prettier, and bigger\n",
        "#pd.set_option('display.mpl_style', 'default') \n",
        "#pd.set_option('display.line_width', 5000) \n",
        "pd.set_option('display.max_columns', 60) \n",
        "from google.colab import drive\n",
        "import os.path\n",
        "import pandas as pd\n",
        "\n",
        "# Mount google drive to create a filesystem the notebook can use\n",
        "drive.mount('/content/gdrive') \n",
        "# Specify the code dir in the new filesystem.\n",
        "data_dir ='/content/gdrive/My Drive/data'\n",
        "os.chdir(data_dir)\n",
        "#figsize(15, 5)"
      ]
    },
    {
      "cell_type": "markdown",
      "metadata": {
        "id": "fatuqZoLLXl_"
      },
      "source": [
        "We're going to use a new dataset here, to demonstrate how to deal with larger datasets. This is a subset of the of 311 service requests from [NYC Open Data](https://nycopendata.socrata.com/Social-Services/311-Service-Requests-from-2010-to-Present/erm2-nwe9). "
      ]
    },
    {
      "cell_type": "markdown",
      "metadata": {
        "id": "61dhOArV0soT"
      },
      "source": [
        "os.chdir(data_dir)\n",
        "\n",
        "years = list(range(1880,2011))\n",
        "pieces = []\n",
        "columns = ['name','sex','births']\n",
        "\n",
        "for year in years:\n",
        "    path = f'names/yob{year:d}.txt'\n",
        "    frame = pd.read_csv(path,names=columns)\n",
        "    frame['year'] = year\n",
        "    pieces.append(frame)    \n",
        "    \n",
        "names = pd.concat(pieces, ignore_index=True)"
      ]
    },
    {
      "cell_type": "code",
      "execution_count": null,
      "metadata": {
        "id": "N66SRMC1LXmA"
      },
      "outputs": [],
      "source": [
        "import pandas as pd\n",
        "import pandas as pd\n",
        "url = 'https://gawron.sdsu.edu/python_for_ss/course_core/book_draft/_static/names/yob2000.txt'\n",
        "names2000 = pd.read_csv(url,names=['name','sex','births'])"
      ]
    },
    {
      "cell_type": "markdown",
      "metadata": {
        "id": "xbeTs3k6LXmA"
      },
      "source": [
        "## 2.1 Selecting columns and rows"
      ]
    },
    {
      "cell_type": "markdown",
      "metadata": {
        "id": "it6yzsOjLXmA"
      },
      "source": [
        "In next cell, write an expression that returns a `pandas` `Series` with just the names in the `name` column."
      ]
    },
    {
      "cell_type": "code",
      "execution_count": null,
      "metadata": {
        "colab": {
          "base_uri": "https://localhost:8080/"
        },
        "id": "avRlrTyRLXmB",
        "outputId": "408d7da3-4ae6-48fa-86fa-040a34192ce6",
        "scrolled": true
      },
      "outputs": [
        {
          "data": {
            "text/plain": [
              "0          Emily\n",
              "1         Hannah\n",
              "2        Madison\n",
              "3         Ashley\n",
              "4          Sarah\n",
              "          ...   \n",
              "29753       Zeph\n",
              "29754      Zeven\n",
              "29755      Ziggy\n",
              "29756         Zo\n",
              "29757      Zyier\n",
              "Name: name, Length: 29758, dtype: object"
            ]
          },
          "execution_count": 18,
          "metadata": {},
          "output_type": "execute_result"
        }
      ],
      "source": [
        "names2000['name']"
      ]
    },
    {
      "cell_type": "markdown",
      "metadata": {
        "id": "8HIyXfsLLXmB"
      },
      "source": [
        "In the next cell, write an expression that returns the first 25 rows of the `names2000` dataframe,"
      ]
    },
    {
      "cell_type": "code",
      "execution_count": null,
      "metadata": {
        "colab": {
          "base_uri": "https://localhost:8080/",
          "height": 833
        },
        "id": "tokmepb7LXmC",
        "outputId": "ed5b6cdd-5b78-4814-d5b0-4b6aecf82dbb",
        "scrolled": true
      },
      "outputs": [
        {
          "data": {
            "text/html": [
              "<div>\n",
              "<style scoped>\n",
              "    .dataframe tbody tr th:only-of-type {\n",
              "        vertical-align: middle;\n",
              "    }\n",
              "\n",
              "    .dataframe tbody tr th {\n",
              "        vertical-align: top;\n",
              "    }\n",
              "\n",
              "    .dataframe thead th {\n",
              "        text-align: right;\n",
              "    }\n",
              "</style>\n",
              "<table border=\"1\" class=\"dataframe\">\n",
              "  <thead>\n",
              "    <tr style=\"text-align: right;\">\n",
              "      <th></th>\n",
              "      <th>name</th>\n",
              "      <th>sex</th>\n",
              "      <th>births</th>\n",
              "    </tr>\n",
              "  </thead>\n",
              "  <tbody>\n",
              "    <tr>\n",
              "      <th>0</th>\n",
              "      <td>Emily</td>\n",
              "      <td>F</td>\n",
              "      <td>25949</td>\n",
              "    </tr>\n",
              "    <tr>\n",
              "      <th>1</th>\n",
              "      <td>Hannah</td>\n",
              "      <td>F</td>\n",
              "      <td>23066</td>\n",
              "    </tr>\n",
              "    <tr>\n",
              "      <th>2</th>\n",
              "      <td>Madison</td>\n",
              "      <td>F</td>\n",
              "      <td>19965</td>\n",
              "    </tr>\n",
              "    <tr>\n",
              "      <th>3</th>\n",
              "      <td>Ashley</td>\n",
              "      <td>F</td>\n",
              "      <td>17991</td>\n",
              "    </tr>\n",
              "    <tr>\n",
              "      <th>4</th>\n",
              "      <td>Sarah</td>\n",
              "      <td>F</td>\n",
              "      <td>17677</td>\n",
              "    </tr>\n",
              "    <tr>\n",
              "      <th>5</th>\n",
              "      <td>Alexis</td>\n",
              "      <td>F</td>\n",
              "      <td>17622</td>\n",
              "    </tr>\n",
              "    <tr>\n",
              "      <th>6</th>\n",
              "      <td>Samantha</td>\n",
              "      <td>F</td>\n",
              "      <td>17262</td>\n",
              "    </tr>\n",
              "    <tr>\n",
              "      <th>7</th>\n",
              "      <td>Jessica</td>\n",
              "      <td>F</td>\n",
              "      <td>15698</td>\n",
              "    </tr>\n",
              "    <tr>\n",
              "      <th>8</th>\n",
              "      <td>Elizabeth</td>\n",
              "      <td>F</td>\n",
              "      <td>15077</td>\n",
              "    </tr>\n",
              "    <tr>\n",
              "      <th>9</th>\n",
              "      <td>Taylor</td>\n",
              "      <td>F</td>\n",
              "      <td>15076</td>\n",
              "    </tr>\n",
              "    <tr>\n",
              "      <th>10</th>\n",
              "      <td>Lauren</td>\n",
              "      <td>F</td>\n",
              "      <td>14171</td>\n",
              "    </tr>\n",
              "    <tr>\n",
              "      <th>11</th>\n",
              "      <td>Alyssa</td>\n",
              "      <td>F</td>\n",
              "      <td>13551</td>\n",
              "    </tr>\n",
              "    <tr>\n",
              "      <th>12</th>\n",
              "      <td>Kayla</td>\n",
              "      <td>F</td>\n",
              "      <td>13309</td>\n",
              "    </tr>\n",
              "    <tr>\n",
              "      <th>13</th>\n",
              "      <td>Abigail</td>\n",
              "      <td>F</td>\n",
              "      <td>13085</td>\n",
              "    </tr>\n",
              "    <tr>\n",
              "      <th>14</th>\n",
              "      <td>Brianna</td>\n",
              "      <td>F</td>\n",
              "      <td>12873</td>\n",
              "    </tr>\n",
              "    <tr>\n",
              "      <th>15</th>\n",
              "      <td>Olivia</td>\n",
              "      <td>F</td>\n",
              "      <td>12849</td>\n",
              "    </tr>\n",
              "    <tr>\n",
              "      <th>16</th>\n",
              "      <td>Emma</td>\n",
              "      <td>F</td>\n",
              "      <td>12533</td>\n",
              "    </tr>\n",
              "    <tr>\n",
              "      <th>17</th>\n",
              "      <td>Megan</td>\n",
              "      <td>F</td>\n",
              "      <td>11433</td>\n",
              "    </tr>\n",
              "    <tr>\n",
              "      <th>18</th>\n",
              "      <td>Grace</td>\n",
              "      <td>F</td>\n",
              "      <td>11281</td>\n",
              "    </tr>\n",
              "    <tr>\n",
              "      <th>19</th>\n",
              "      <td>Victoria</td>\n",
              "      <td>F</td>\n",
              "      <td>10920</td>\n",
              "    </tr>\n",
              "    <tr>\n",
              "      <th>20</th>\n",
              "      <td>Rachel</td>\n",
              "      <td>F</td>\n",
              "      <td>10655</td>\n",
              "    </tr>\n",
              "    <tr>\n",
              "      <th>21</th>\n",
              "      <td>Anna</td>\n",
              "      <td>F</td>\n",
              "      <td>10569</td>\n",
              "    </tr>\n",
              "    <tr>\n",
              "      <th>22</th>\n",
              "      <td>Sydney</td>\n",
              "      <td>F</td>\n",
              "      <td>10241</td>\n",
              "    </tr>\n",
              "    <tr>\n",
              "      <th>23</th>\n",
              "      <td>Destiny</td>\n",
              "      <td>F</td>\n",
              "      <td>9842</td>\n",
              "    </tr>\n",
              "    <tr>\n",
              "      <th>24</th>\n",
              "      <td>Morgan</td>\n",
              "      <td>F</td>\n",
              "      <td>9502</td>\n",
              "    </tr>\n",
              "  </tbody>\n",
              "</table>\n",
              "</div>"
            ],
            "text/plain": [
              "         name sex  births\n",
              "0       Emily   F   25949\n",
              "1      Hannah   F   23066\n",
              "2     Madison   F   19965\n",
              "3      Ashley   F   17991\n",
              "4       Sarah   F   17677\n",
              "5      Alexis   F   17622\n",
              "6    Samantha   F   17262\n",
              "7     Jessica   F   15698\n",
              "8   Elizabeth   F   15077\n",
              "9      Taylor   F   15076\n",
              "10     Lauren   F   14171\n",
              "11     Alyssa   F   13551\n",
              "12      Kayla   F   13309\n",
              "13    Abigail   F   13085\n",
              "14    Brianna   F   12873\n",
              "15     Olivia   F   12849\n",
              "16       Emma   F   12533\n",
              "17      Megan   F   11433\n",
              "18      Grace   F   11281\n",
              "19   Victoria   F   10920\n",
              "20     Rachel   F   10655\n",
              "21       Anna   F   10569\n",
              "22     Sydney   F   10241\n",
              "23    Destiny   F    9842\n",
              "24     Morgan   F    9502"
            ]
          },
          "execution_count": 19,
          "metadata": {},
          "output_type": "execute_result"
        }
      ],
      "source": [
        "names2000[:25]"
      ]
    },
    {
      "cell_type": "markdown",
      "metadata": {
        "id": "HqcuwwDXLXmC"
      },
      "source": [
        "In the next cell write an expression that returns the first 25 row of the `name` column."
      ]
    },
    {
      "cell_type": "code",
      "execution_count": null,
      "metadata": {
        "colab": {
          "base_uri": "https://localhost:8080/"
        },
        "id": "X5ctwgekLXmD",
        "outputId": "eb4dbe9b-ddd4-4c2c-ceea-e6ed9adc808d"
      },
      "outputs": [
        {
          "data": {
            "text/plain": [
              "0         Emily\n",
              "1        Hannah\n",
              "2       Madison\n",
              "3        Ashley\n",
              "4         Sarah\n",
              "5        Alexis\n",
              "6      Samantha\n",
              "7       Jessica\n",
              "8     Elizabeth\n",
              "9        Taylor\n",
              "10       Lauren\n",
              "11       Alyssa\n",
              "12        Kayla\n",
              "13      Abigail\n",
              "14      Brianna\n",
              "15       Olivia\n",
              "16         Emma\n",
              "17        Megan\n",
              "18        Grace\n",
              "19     Victoria\n",
              "20       Rachel\n",
              "21         Anna\n",
              "22       Sydney\n",
              "23      Destiny\n",
              "24       Morgan\n",
              "Name: name, dtype: object"
            ]
          },
          "execution_count": 20,
          "metadata": {},
          "output_type": "execute_result"
        }
      ],
      "source": [
        "names2000['name'][:25]"
      ]
    },
    {
      "cell_type": "markdown",
      "metadata": {
        "id": "2tid8pyZLXmD"
      },
      "source": [
        "## 2.2 Selecting multiple columns"
      ]
    },
    {
      "cell_type": "markdown",
      "metadata": {
        "id": "UUEeWumhLXmD"
      },
      "source": [
        "What if we just want to know the gender and the birth counts, but not the name? Pandas makes it really easy to select a subset of the columns: just index with list of columns you want.  Write an expression that that returns a data frame with just the `births` and `sex` columns of the `names2000` dataframe."
      ]
    },
    {
      "cell_type": "code",
      "execution_count": null,
      "metadata": {
        "colab": {
          "base_uri": "https://localhost:8080/",
          "height": 423
        },
        "id": "akpUbIDlLXmD",
        "outputId": "7d28e0aa-de69-423f-b08c-656251d1c439",
        "scrolled": true
      },
      "outputs": [
        {
          "data": {
            "text/html": [
              "<div>\n",
              "<style scoped>\n",
              "    .dataframe tbody tr th:only-of-type {\n",
              "        vertical-align: middle;\n",
              "    }\n",
              "\n",
              "    .dataframe tbody tr th {\n",
              "        vertical-align: top;\n",
              "    }\n",
              "\n",
              "    .dataframe thead th {\n",
              "        text-align: right;\n",
              "    }\n",
              "</style>\n",
              "<table border=\"1\" class=\"dataframe\">\n",
              "  <thead>\n",
              "    <tr style=\"text-align: right;\">\n",
              "      <th></th>\n",
              "      <th>births</th>\n",
              "      <th>sex</th>\n",
              "    </tr>\n",
              "  </thead>\n",
              "  <tbody>\n",
              "    <tr>\n",
              "      <th>0</th>\n",
              "      <td>25949</td>\n",
              "      <td>F</td>\n",
              "    </tr>\n",
              "    <tr>\n",
              "      <th>1</th>\n",
              "      <td>23066</td>\n",
              "      <td>F</td>\n",
              "    </tr>\n",
              "    <tr>\n",
              "      <th>2</th>\n",
              "      <td>19965</td>\n",
              "      <td>F</td>\n",
              "    </tr>\n",
              "    <tr>\n",
              "      <th>3</th>\n",
              "      <td>17991</td>\n",
              "      <td>F</td>\n",
              "    </tr>\n",
              "    <tr>\n",
              "      <th>4</th>\n",
              "      <td>17677</td>\n",
              "      <td>F</td>\n",
              "    </tr>\n",
              "    <tr>\n",
              "      <th>...</th>\n",
              "      <td>...</td>\n",
              "      <td>...</td>\n",
              "    </tr>\n",
              "    <tr>\n",
              "      <th>29753</th>\n",
              "      <td>5</td>\n",
              "      <td>M</td>\n",
              "    </tr>\n",
              "    <tr>\n",
              "      <th>29754</th>\n",
              "      <td>5</td>\n",
              "      <td>M</td>\n",
              "    </tr>\n",
              "    <tr>\n",
              "      <th>29755</th>\n",
              "      <td>5</td>\n",
              "      <td>M</td>\n",
              "    </tr>\n",
              "    <tr>\n",
              "      <th>29756</th>\n",
              "      <td>5</td>\n",
              "      <td>M</td>\n",
              "    </tr>\n",
              "    <tr>\n",
              "      <th>29757</th>\n",
              "      <td>5</td>\n",
              "      <td>M</td>\n",
              "    </tr>\n",
              "  </tbody>\n",
              "</table>\n",
              "<p>29758 rows × 2 columns</p>\n",
              "</div>"
            ],
            "text/plain": [
              "       births sex\n",
              "0       25949   F\n",
              "1       23066   F\n",
              "2       19965   F\n",
              "3       17991   F\n",
              "4       17677   F\n",
              "...       ...  ..\n",
              "29753       5   M\n",
              "29754       5   M\n",
              "29755       5   M\n",
              "29756       5   M\n",
              "29757       5   M\n",
              "\n",
              "[29758 rows x 2 columns]"
            ]
          },
          "execution_count": 4,
          "metadata": {},
          "output_type": "execute_result"
        }
      ],
      "source": [
        "names2000[['births','sex']]"
      ]
    },
    {
      "cell_type": "markdown",
      "metadata": {
        "id": "B_Ws4J-bdt_M"
      },
      "source": [
        ""
      ]
    },
    {
      "cell_type": "markdown",
      "metadata": {
        "id": "5oCVuaDXLXmE"
      },
      "source": [
        "Now write an expression that returns just the first ten rows of the dataframe you returned in the cell above. "
      ]
    },
    {
      "cell_type": "code",
      "execution_count": null,
      "metadata": {
        "colab": {
          "base_uri": "https://localhost:8080/",
          "height": 362
        },
        "id": "meg2hiXceI6r",
        "outputId": "a2398a87-8a49-4cd3-ec34-249757c95da9"
      },
      "outputs": [
        {
          "data": {
            "text/html": [
              "<div>\n",
              "<style scoped>\n",
              "    .dataframe tbody tr th:only-of-type {\n",
              "        vertical-align: middle;\n",
              "    }\n",
              "\n",
              "    .dataframe tbody tr th {\n",
              "        vertical-align: top;\n",
              "    }\n",
              "\n",
              "    .dataframe thead th {\n",
              "        text-align: right;\n",
              "    }\n",
              "</style>\n",
              "<table border=\"1\" class=\"dataframe\">\n",
              "  <thead>\n",
              "    <tr style=\"text-align: right;\">\n",
              "      <th></th>\n",
              "      <th>births</th>\n",
              "      <th>sex</th>\n",
              "    </tr>\n",
              "  </thead>\n",
              "  <tbody>\n",
              "    <tr>\n",
              "      <th>0</th>\n",
              "      <td>25949</td>\n",
              "      <td>F</td>\n",
              "    </tr>\n",
              "    <tr>\n",
              "      <th>1</th>\n",
              "      <td>23066</td>\n",
              "      <td>F</td>\n",
              "    </tr>\n",
              "    <tr>\n",
              "      <th>2</th>\n",
              "      <td>19965</td>\n",
              "      <td>F</td>\n",
              "    </tr>\n",
              "    <tr>\n",
              "      <th>3</th>\n",
              "      <td>17991</td>\n",
              "      <td>F</td>\n",
              "    </tr>\n",
              "    <tr>\n",
              "      <th>4</th>\n",
              "      <td>17677</td>\n",
              "      <td>F</td>\n",
              "    </tr>\n",
              "    <tr>\n",
              "      <th>5</th>\n",
              "      <td>17622</td>\n",
              "      <td>F</td>\n",
              "    </tr>\n",
              "    <tr>\n",
              "      <th>6</th>\n",
              "      <td>17262</td>\n",
              "      <td>F</td>\n",
              "    </tr>\n",
              "    <tr>\n",
              "      <th>7</th>\n",
              "      <td>15698</td>\n",
              "      <td>F</td>\n",
              "    </tr>\n",
              "    <tr>\n",
              "      <th>8</th>\n",
              "      <td>15077</td>\n",
              "      <td>F</td>\n",
              "    </tr>\n",
              "    <tr>\n",
              "      <th>9</th>\n",
              "      <td>15076</td>\n",
              "      <td>F</td>\n",
              "    </tr>\n",
              "  </tbody>\n",
              "</table>\n",
              "</div>"
            ],
            "text/plain": [
              "   births sex\n",
              "0   25949   F\n",
              "1   23066   F\n",
              "2   19965   F\n",
              "3   17991   F\n",
              "4   17677   F\n",
              "5   17622   F\n",
              "6   17262   F\n",
              "7   15698   F\n",
              "8   15077   F\n",
              "9   15076   F"
            ]
          },
          "execution_count": 5,
          "metadata": {},
          "output_type": "execute_result"
        }
      ],
      "source": [
        "names2000[['births','sex']][:10]"
      ]
    },
    {
      "cell_type": "markdown",
      "metadata": {
        "id": "p8DL_5TbLXmE"
      },
      "source": [
        "## Plotting"
      ]
    },
    {
      "cell_type": "markdown",
      "metadata": {
        "id": "wsu8vnl-LXmE"
      },
      "source": [
        "Write some lines of code that do a barplot of the first fifteen rows of the `names2000` dataframe.  Make sure the `x`-axis shows the name associated with each bar (and not just an arbitrary integer)."
      ]
    },
    {
      "cell_type": "markdown",
      "metadata": {
        "id": "wDGsQttD2E1T"
      },
      "source": [
        "Note the index used in `names2000` is the default index."
      ]
    },
    {
      "cell_type": "code",
      "execution_count": null,
      "metadata": {
        "colab": {
          "base_uri": "https://localhost:8080/",
          "height": 423
        },
        "id": "WNzTZ-wL2CXK",
        "outputId": "8f6834b4-dd83-4823-a79b-b49e130883a6"
      },
      "outputs": [
        {
          "data": {
            "text/html": [
              "<div>\n",
              "<style scoped>\n",
              "    .dataframe tbody tr th:only-of-type {\n",
              "        vertical-align: middle;\n",
              "    }\n",
              "\n",
              "    .dataframe tbody tr th {\n",
              "        vertical-align: top;\n",
              "    }\n",
              "\n",
              "    .dataframe thead th {\n",
              "        text-align: right;\n",
              "    }\n",
              "</style>\n",
              "<table border=\"1\" class=\"dataframe\">\n",
              "  <thead>\n",
              "    <tr style=\"text-align: right;\">\n",
              "      <th></th>\n",
              "      <th>name</th>\n",
              "      <th>sex</th>\n",
              "      <th>births</th>\n",
              "    </tr>\n",
              "  </thead>\n",
              "  <tbody>\n",
              "    <tr>\n",
              "      <th>0</th>\n",
              "      <td>Emily</td>\n",
              "      <td>F</td>\n",
              "      <td>25949</td>\n",
              "    </tr>\n",
              "    <tr>\n",
              "      <th>1</th>\n",
              "      <td>Hannah</td>\n",
              "      <td>F</td>\n",
              "      <td>23066</td>\n",
              "    </tr>\n",
              "    <tr>\n",
              "      <th>2</th>\n",
              "      <td>Madison</td>\n",
              "      <td>F</td>\n",
              "      <td>19965</td>\n",
              "    </tr>\n",
              "    <tr>\n",
              "      <th>3</th>\n",
              "      <td>Ashley</td>\n",
              "      <td>F</td>\n",
              "      <td>17991</td>\n",
              "    </tr>\n",
              "    <tr>\n",
              "      <th>4</th>\n",
              "      <td>Sarah</td>\n",
              "      <td>F</td>\n",
              "      <td>17677</td>\n",
              "    </tr>\n",
              "    <tr>\n",
              "      <th>...</th>\n",
              "      <td>...</td>\n",
              "      <td>...</td>\n",
              "      <td>...</td>\n",
              "    </tr>\n",
              "    <tr>\n",
              "      <th>29753</th>\n",
              "      <td>Zeph</td>\n",
              "      <td>M</td>\n",
              "      <td>5</td>\n",
              "    </tr>\n",
              "    <tr>\n",
              "      <th>29754</th>\n",
              "      <td>Zeven</td>\n",
              "      <td>M</td>\n",
              "      <td>5</td>\n",
              "    </tr>\n",
              "    <tr>\n",
              "      <th>29755</th>\n",
              "      <td>Ziggy</td>\n",
              "      <td>M</td>\n",
              "      <td>5</td>\n",
              "    </tr>\n",
              "    <tr>\n",
              "      <th>29756</th>\n",
              "      <td>Zo</td>\n",
              "      <td>M</td>\n",
              "      <td>5</td>\n",
              "    </tr>\n",
              "    <tr>\n",
              "      <th>29757</th>\n",
              "      <td>Zyier</td>\n",
              "      <td>M</td>\n",
              "      <td>5</td>\n",
              "    </tr>\n",
              "  </tbody>\n",
              "</table>\n",
              "<p>29758 rows × 3 columns</p>\n",
              "</div>"
            ],
            "text/plain": [
              "          name sex  births\n",
              "0        Emily   F   25949\n",
              "1       Hannah   F   23066\n",
              "2      Madison   F   19965\n",
              "3       Ashley   F   17991\n",
              "4        Sarah   F   17677\n",
              "...        ...  ..     ...\n",
              "29753     Zeph   M       5\n",
              "29754    Zeven   M       5\n",
              "29755    Ziggy   M       5\n",
              "29756       Zo   M       5\n",
              "29757    Zyier   M       5\n",
              "\n",
              "[29758 rows x 3 columns]"
            ]
          },
          "execution_count": 21,
          "metadata": {},
          "output_type": "execute_result"
        }
      ],
      "source": [
        "names2000"
      ]
    },
    {
      "cell_type": "code",
      "execution_count": null,
      "metadata": {
        "colab": {
          "base_uri": "https://localhost:8080/",
          "height": 286
        },
        "id": "Ss1GVyIu2RUQ",
        "outputId": "01e2d033-b0af-4e0f-918a-d7cfc3bc4899"
      },
      "outputs": [
        {
          "data": {
            "text/plain": [
              "<AxesSubplot:>"
            ]
          },
          "execution_count": 22,
          "metadata": {},
          "output_type": "execute_result"
        },
        {
          "data": {
            "image/png": "[encoded data removed]",
            "text/plain": [
              "<Figure size 432x288 with 1 Axes>"
            ]
          },
          "metadata": {
            "needs_background": "light"
          },
          "output_type": "display_data"
        }
      ],
      "source": [
        "names2000[:15].plot(kind='bar')"
      ]
    },
    {
      "cell_type": "markdown",
      "metadata": {
        "id": "le3DQB-j2UB2"
      },
      "source": [
        "The default behavior for a `pd.DataFrame` plot is to use the index as the axis and plot a numerical column.  This yields:"
      ]
    },
    {
      "cell_type": "code",
      "execution_count": null,
      "metadata": {
        "id": "q-84BhWkLXmE",
        "outputId": "8a3189b7-7392-407e-d204-d6a3494ac67b"
      },
      "outputs": [
        {
          "data": {
            "text/plain": [
              "<AxesSubplot:xlabel='name'>"
            ]
          },
          "execution_count": 23,
          "metadata": {},
          "output_type": "execute_result"
        },
        {
          "data": {
            "image/png": "[encoded data removed]",
            "text/plain": [
              "<Figure size 432x288 with 1 Axes>"
            ]
          },
          "metadata": {
            "needs_background": "light"
          },
          "output_type": "display_data"
        }
      ],
      "source": [
        "from matplotlib import pyplot as plt\n",
        "import pandas as pd\n",
        "names2000 = pd.read_csv('names/yob2000.txt',names=['name','sex','births'],index_col=['name'])\n",
        "names2000[:15].plot(kind='bar')"
      ]
    },
    {
      "cell_type": "markdown",
      "metadata": {
        "id": "Ih2EqvgI2i2r"
      },
      "source": [
        "So the x-axis does not show the names.\n",
        "\n",
        "Let's fix that by reloading and making the `names`\n",
        "columnd also serve as the index."
      ]
    },
    {
      "cell_type": "markdown",
      "metadata": {
        "collapsed": true,
        "id": "Lwh9Y7C8LXmG"
      },
      "source": [
        "# Aggregation"
      ]
    },
    {
      "cell_type": "markdown",
      "metadata": {
        "id": "vFKX0dN4LXmG"
      },
      "source": [
        "The following code loads the service requests data used in one of your pandas notebooks, and creates \n",
        "a subtable consisting of the data for just three agencies.  It then adds a **new** column called `Count`,\n",
        "which we're going to use for counting complaints.  Since each row represents exactly one complain,\n",
        "the value in the `Count` column is always 1."
      ]
    },
    {
      "cell_type": "code",
      "execution_count": null,
      "metadata": {
        "colab": {
          "base_uri": "https://localhost:8080/"
        },
        "id": "D9G6YMMZLXmH",
        "outputId": "d1d50372-bdb8-4995-b2a7-9a1f8c3d58e8"
      },
      "outputs": [
        {
          "name": "stderr",
          "output_type": "stream",
          "text": [
            "/Users/gawron/opt/anaconda3/lib/python3.7/site-packages/IPython/core/interactiveshell.py:3166: DtypeWarning: Columns (8) have mixed types.Specify dtype option on import or set low_memory=False.\n",
            "  interactivity=interactivity, compiler=compiler, result=result)\n"
          ]
        }
      ],
      "source": [
        "import pandas as pd\n",
        "fn = '311-service-requests.csv'\n",
        "base_url = 'https://github.com/gawron/pandas-cookbook/master/data'\n",
        "path = f'{base_url}/{fn}'\n",
        "raw_path = path.replace('github.com','raw.githubusercontent.com')\n",
        "complaints = pd.read_csv(raw_path)\n",
        "complaints['Count'] = 1"
      ]
    },
    {
      "cell_type": "markdown",
      "metadata": {
        "id": "8vEnrWLzLXmH"
      },
      "source": [
        "Looking at the `Count` column:"
      ]
    },
    {
      "cell_type": "code",
      "execution_count": null,
      "metadata": {
        "colab": {
          "base_uri": "https://localhost:8080/"
        },
        "id": "g6WU8mvyLXmH",
        "outputId": "341bfbde-4679-465e-9715-da6558bb41ef"
      },
      "outputs": [
        {
          "data": {
            "text/plain": [
              "0    1\n",
              "1    1\n",
              "2    1\n",
              "3    1\n",
              "4    1\n",
              "5    1\n",
              "6    1\n",
              "7    1\n",
              "8    1\n",
              "9    1\n",
              "Name: Count, dtype: int64"
            ]
          },
          "execution_count": 21,
          "metadata": {},
          "output_type": "execute_result"
        }
      ],
      "source": [
        "complaints['Count'][:10]"
      ]
    },
    {
      "cell_type": "markdown",
      "metadata": {
        "id": "aV1gE9aOLXmI"
      },
      "source": [
        "The following code creates a subtable with just the complaints for the following three\n",
        "agencies: `DOT`, `DOP`, and `NYPD`."
      ]
    },
    {
      "cell_type": "code",
      "execution_count": null,
      "metadata": {
        "id": "H6hhteSJLXmI"
      },
      "outputs": [],
      "source": [
        "pt00 = complaints[complaints.Agency.isin(['DOT', \"DOP\", 'NYPD'])]"
      ]
    },
    {
      "cell_type": "markdown",
      "metadata": {
        "id": "hC80APwTLXmI"
      },
      "source": [
        "Your mission should you decide to accept it is to create pivot table whose rows are the three agencies,\n",
        "and whose columns are the complaint types.  Each cell in the table thus contains the total number of complaints\n",
        "of that complaint type for that agency.  For example, in the NYPD row, the Animal Abuse column should\n",
        "have the number 164, meaning that 164 animal abuse complaints were made to NYPD."
      ]
    },
    {
      "cell_type": "code",
      "execution_count": null,
      "metadata": {
        "id": "fcil-WJGLXmI"
      },
      "outputs": [],
      "source": [
        "pt0 = pt00.pivot_table('Count', 'Agency' , columns = 'Complaint Type',\n",
        "                       aggfunc=sum)"
      ]
    },
    {
      "cell_type": "code",
      "execution_count": null,
      "metadata": {
        "colab": {
          "base_uri": "https://localhost:8080/",
          "height": 291
        },
        "id": "my2E91RGLXmI",
        "outputId": "2936f990-bf50-4bf2-ae1b-3ed50ce76621"
      },
      "outputs": [
        {
          "data": {
            "text/html": [
              "\n",
              "  <div id=\"df-4290b85d-649b-4965-a96e-800c33b6a05a\">\n",
              "    <div class=\"colab-df-container\">\n",
              "      <div>\n",
              "<style scoped>\n",
              "    .dataframe tbody tr th:only-of-type {\n",
              "        vertical-align: middle;\n",
              "    }\n",
              "\n",
              "    .dataframe tbody tr th {\n",
              "        vertical-align: top;\n",
              "    }\n",
              "\n",
              "    .dataframe thead th {\n",
              "        text-align: right;\n",
              "    }\n",
              "</style>\n",
              "<table border=\"1\" class=\"dataframe\">\n",
              "  <thead>\n",
              "    <tr style=\"text-align: right;\">\n",
              "      <th>Complaint Type</th>\n",
              "      <th>Agency Issues</th>\n",
              "      <th>Animal Abuse</th>\n",
              "      <th>Bike Rack Condition</th>\n",
              "      <th>Bike/Roller/Skate Chronic</th>\n",
              "      <th>Blocked Driveway</th>\n",
              "      <th>Bridge Condition</th>\n",
              "      <th>Broken Muni Meter</th>\n",
              "      <th>Bus Stop Shelter Placement</th>\n",
              "      <th>Compliment</th>\n",
              "      <th>Curb Condition</th>\n",
              "      <th>DOT Literature Request</th>\n",
              "      <th>Derelict Vehicle</th>\n",
              "      <th>Disorderly Youth</th>\n",
              "      <th>Drinking</th>\n",
              "      <th>Ferry Complaint</th>\n",
              "      <th>Ferry Inquiry</th>\n",
              "      <th>Ferry Permit</th>\n",
              "      <th>Graffiti</th>\n",
              "      <th>Highway Condition</th>\n",
              "      <th>Highway Sign - Damaged</th>\n",
              "      <th>Homeless Encampment</th>\n",
              "      <th>Illegal Fireworks</th>\n",
              "      <th>Illegal Parking</th>\n",
              "      <th>Invitation</th>\n",
              "      <th>Municipal Parking Facility</th>\n",
              "      <th>Noise - Commercial</th>\n",
              "      <th>Noise - House of Worship</th>\n",
              "      <th>Noise - Park</th>\n",
              "      <th>Noise - Street/Sidewalk</th>\n",
              "      <th>Noise - Vehicle</th>\n",
              "      <th>Panhandling</th>\n",
              "      <th>Parking Card</th>\n",
              "      <th>Posting Advertisement</th>\n",
              "      <th>Public Toilet</th>\n",
              "      <th>Request for Information</th>\n",
              "      <th>Sidewalk Condition</th>\n",
              "      <th>Street Condition</th>\n",
              "      <th>Street Light Condition</th>\n",
              "      <th>Street Sign - Damaged</th>\n",
              "      <th>Street Sign - Dangling</th>\n",
              "      <th>Street Sign - Missing</th>\n",
              "      <th>Traffic</th>\n",
              "      <th>Traffic Signal Condition</th>\n",
              "      <th>Tunnel Condition</th>\n",
              "      <th>Urinating in Public</th>\n",
              "      <th>Vending</th>\n",
              "    </tr>\n",
              "    <tr>\n",
              "      <th>Agency</th>\n",
              "      <th></th>\n",
              "      <th></th>\n",
              "      <th></th>\n",
              "      <th></th>\n",
              "      <th></th>\n",
              "      <th></th>\n",
              "      <th></th>\n",
              "      <th></th>\n",
              "      <th></th>\n",
              "      <th></th>\n",
              "      <th></th>\n",
              "      <th></th>\n",
              "      <th></th>\n",
              "      <th></th>\n",
              "      <th></th>\n",
              "      <th></th>\n",
              "      <th></th>\n",
              "      <th></th>\n",
              "      <th></th>\n",
              "      <th></th>\n",
              "      <th></th>\n",
              "      <th></th>\n",
              "      <th></th>\n",
              "      <th></th>\n",
              "      <th></th>\n",
              "      <th></th>\n",
              "      <th></th>\n",
              "      <th></th>\n",
              "      <th></th>\n",
              "      <th></th>\n",
              "      <th></th>\n",
              "      <th></th>\n",
              "      <th></th>\n",
              "      <th></th>\n",
              "      <th></th>\n",
              "      <th></th>\n",
              "      <th></th>\n",
              "      <th></th>\n",
              "      <th></th>\n",
              "      <th></th>\n",
              "      <th></th>\n",
              "      <th></th>\n",
              "      <th></th>\n",
              "      <th></th>\n",
              "      <th></th>\n",
              "      <th></th>\n",
              "    </tr>\n",
              "  </thead>\n",
              "  <tbody>\n",
              "    <tr>\n",
              "      <th>DOP</th>\n",
              "      <td>NaN</td>\n",
              "      <td>NaN</td>\n",
              "      <td>NaN</td>\n",
              "      <td>NaN</td>\n",
              "      <td>NaN</td>\n",
              "      <td>NaN</td>\n",
              "      <td>NaN</td>\n",
              "      <td>NaN</td>\n",
              "      <td>NaN</td>\n",
              "      <td>NaN</td>\n",
              "      <td>NaN</td>\n",
              "      <td>NaN</td>\n",
              "      <td>NaN</td>\n",
              "      <td>NaN</td>\n",
              "      <td>NaN</td>\n",
              "      <td>NaN</td>\n",
              "      <td>NaN</td>\n",
              "      <td>NaN</td>\n",
              "      <td>NaN</td>\n",
              "      <td>NaN</td>\n",
              "      <td>NaN</td>\n",
              "      <td>NaN</td>\n",
              "      <td>NaN</td>\n",
              "      <td>1.0</td>\n",
              "      <td>NaN</td>\n",
              "      <td>NaN</td>\n",
              "      <td>NaN</td>\n",
              "      <td>NaN</td>\n",
              "      <td>NaN</td>\n",
              "      <td>NaN</td>\n",
              "      <td>NaN</td>\n",
              "      <td>NaN</td>\n",
              "      <td>NaN</td>\n",
              "      <td>NaN</td>\n",
              "      <td>1.0</td>\n",
              "      <td>NaN</td>\n",
              "      <td>NaN</td>\n",
              "      <td>NaN</td>\n",
              "      <td>NaN</td>\n",
              "      <td>NaN</td>\n",
              "      <td>NaN</td>\n",
              "      <td>NaN</td>\n",
              "      <td>NaN</td>\n",
              "      <td>NaN</td>\n",
              "      <td>NaN</td>\n",
              "      <td>NaN</td>\n",
              "    </tr>\n",
              "    <tr>\n",
              "      <th>DOT</th>\n",
              "      <td>20.0</td>\n",
              "      <td>NaN</td>\n",
              "      <td>7.0</td>\n",
              "      <td>NaN</td>\n",
              "      <td>NaN</td>\n",
              "      <td>20.0</td>\n",
              "      <td>2070.0</td>\n",
              "      <td>14.0</td>\n",
              "      <td>1.0</td>\n",
              "      <td>66.0</td>\n",
              "      <td>123.0</td>\n",
              "      <td>NaN</td>\n",
              "      <td>NaN</td>\n",
              "      <td>NaN</td>\n",
              "      <td>4.0</td>\n",
              "      <td>32.0</td>\n",
              "      <td>1.0</td>\n",
              "      <td>NaN</td>\n",
              "      <td>130.0</td>\n",
              "      <td>1.0</td>\n",
              "      <td>NaN</td>\n",
              "      <td>NaN</td>\n",
              "      <td>NaN</td>\n",
              "      <td>NaN</td>\n",
              "      <td>1.0</td>\n",
              "      <td>NaN</td>\n",
              "      <td>NaN</td>\n",
              "      <td>NaN</td>\n",
              "      <td>NaN</td>\n",
              "      <td>NaN</td>\n",
              "      <td>NaN</td>\n",
              "      <td>8.0</td>\n",
              "      <td>NaN</td>\n",
              "      <td>6.0</td>\n",
              "      <td>NaN</td>\n",
              "      <td>339.0</td>\n",
              "      <td>3473.0</td>\n",
              "      <td>7117.0</td>\n",
              "      <td>691.0</td>\n",
              "      <td>110.0</td>\n",
              "      <td>327.0</td>\n",
              "      <td>NaN</td>\n",
              "      <td>3145.0</td>\n",
              "      <td>1.0</td>\n",
              "      <td>NaN</td>\n",
              "      <td>NaN</td>\n",
              "    </tr>\n",
              "    <tr>\n",
              "      <th>NYPD</th>\n",
              "      <td>NaN</td>\n",
              "      <td>164.0</td>\n",
              "      <td>NaN</td>\n",
              "      <td>32.0</td>\n",
              "      <td>4590.0</td>\n",
              "      <td>NaN</td>\n",
              "      <td>NaN</td>\n",
              "      <td>NaN</td>\n",
              "      <td>NaN</td>\n",
              "      <td>NaN</td>\n",
              "      <td>NaN</td>\n",
              "      <td>803.0</td>\n",
              "      <td>26.0</td>\n",
              "      <td>83.0</td>\n",
              "      <td>NaN</td>\n",
              "      <td>NaN</td>\n",
              "      <td>NaN</td>\n",
              "      <td>13.0</td>\n",
              "      <td>NaN</td>\n",
              "      <td>NaN</td>\n",
              "      <td>269.0</td>\n",
              "      <td>3.0</td>\n",
              "      <td>3343.0</td>\n",
              "      <td>NaN</td>\n",
              "      <td>NaN</td>\n",
              "      <td>2578.0</td>\n",
              "      <td>67.0</td>\n",
              "      <td>191.0</td>\n",
              "      <td>1928.0</td>\n",
              "      <td>750.0</td>\n",
              "      <td>23.0</td>\n",
              "      <td>NaN</td>\n",
              "      <td>5.0</td>\n",
              "      <td>NaN</td>\n",
              "      <td>NaN</td>\n",
              "      <td>NaN</td>\n",
              "      <td>NaN</td>\n",
              "      <td>NaN</td>\n",
              "      <td>NaN</td>\n",
              "      <td>NaN</td>\n",
              "      <td>NaN</td>\n",
              "      <td>168.0</td>\n",
              "      <td>NaN</td>\n",
              "      <td>NaN</td>\n",
              "      <td>30.0</td>\n",
              "      <td>229.0</td>\n",
              "    </tr>\n",
              "  </tbody>\n",
              "</table>\n",
              "</div>\n",
              "      <button class=\"colab-df-convert\" onclick=\"convertToInteractive('df-4290b85d-649b-4965-a96e-800c33b6a05a')\"\n",
              "              title=\"Convert this dataframe to an interactive table.\"\n",
              "              style=\"display:none;\">\n",
              "        \n",
              "  <svg xmlns=\"http://www.w3.org/2000/svg\" height=\"24px\"viewBox=\"0 0 24 24\"\n",
              "       width=\"24px\">\n",
              "    <path d=\"M0 0h24v24H0V0z\" fill=\"none\"/>\n",
              "    <path d=\"M18.56 5.44l.94 2.06.94-2.06 2.06-.94-2.06-.94-.94-2.06-.94 2.06-2.06.94zm-11 1L8.5 8.5l.94-2.06 2.06-.94-2.06-.94L8.5 2.5l-.94 2.06-2.06.94zm10 10l.94 2.06.94-2.06 2.06-.94-2.06-.94-.94-2.06-.94 2.06-2.06.94z\"/><path d=\"M17.41 7.96l-1.37-1.37c-.4-.4-.92-.59-1.43-.59-.52 0-1.04.2-1.43.59L10.3 9.45l-7.72 7.72c-.78.78-.78 2.05 0 2.83L4 21.41c.39.39.9.59 1.41.59.51 0 1.02-.2 1.41-.59l7.78-7.78 2.81-2.81c.8-.78.8-2.07 0-2.86zM5.41 20L4 18.59l7.72-7.72 1.47 1.35L5.41 20z\"/>\n",
              "  </svg>\n",
              "      </button>\n",
              "      \n",
              "  <style>\n",
              "    .colab-df-container {\n",
              "      display:flex;\n",
              "      flex-wrap:wrap;\n",
              "      gap: 12px;\n",
              "    }\n",
              "\n",
              "    .colab-df-convert {\n",
              "      background-color: #E8F0FE;\n",
              "      border: none;\n",
              "      border-radius: 50%;\n",
              "      cursor: pointer;\n",
              "      display: none;\n",
              "      fill: #1967D2;\n",
              "      height: 32px;\n",
              "      padding: 0 0 0 0;\n",
              "      width: 32px;\n",
              "    }\n",
              "\n",
              "    .colab-df-convert:hover {\n",
              "      background-color: #E2EBFA;\n",
              "      box-shadow: 0px 1px 2px rgba(60, 64, 67, 0.3), 0px 1px 3px 1px rgba(60, 64, 67, 0.15);\n",
              "      fill: #174EA6;\n",
              "    }\n",
              "\n",
              "    [theme=dark] .colab-df-convert {\n",
              "      background-color: #3B4455;\n",
              "      fill: #D2E3FC;\n",
              "    }\n",
              "\n",
              "    [theme=dark] .colab-df-convert:hover {\n",
              "      background-color: #434B5C;\n",
              "      box-shadow: 0px 1px 3px 1px rgba(0, 0, 0, 0.15);\n",
              "      filter: drop-shadow(0px 1px 2px rgba(0, 0, 0, 0.3));\n",
              "      fill: #FFFFFF;\n",
              "    }\n",
              "  </style>\n",
              "\n",
              "      <script>\n",
              "        const buttonEl =\n",
              "          document.querySelector('#df-4290b85d-649b-4965-a96e-800c33b6a05a button.colab-df-convert');\n",
              "        buttonEl.style.display =\n",
              "          google.colab.kernel.accessAllowed ? 'block' : 'none';\n",
              "\n",
              "        async function convertToInteractive(key) {\n",
              "          const element = document.querySelector('#df-4290b85d-649b-4965-a96e-800c33b6a05a');\n",
              "          const dataTable =\n",
              "            await google.colab.kernel.invokeFunction('convertToInteractive',\n",
              "                                                     [key], {});\n",
              "          if (!dataTable) return;\n",
              "\n",
              "          const docLinkHtml = 'Like what you see? Visit the ' +\n",
              "            '<a target=\"_blank\" href=https://colab.research.google.com/notebooks/data_table.ipynb>data table notebook</a>'\n",
              "            + ' to learn more about interactive tables.';\n",
              "          element.innerHTML = '';\n",
              "          dataTable['output_type'] = 'display_data';\n",
              "          await google.colab.output.renderOutput(dataTable, element);\n",
              "          const docLink = document.createElement('div');\n",
              "          docLink.innerHTML = docLinkHtml;\n",
              "          element.appendChild(docLink);\n",
              "        }\n",
              "      </script>\n",
              "    </div>\n",
              "  </div>\n",
              "  "
            ],
            "text/plain": [
              "Complaint Type  Agency Issues  Animal Abuse  Bike Rack Condition  \\\n",
              "Agency                                                             \n",
              "DOP                       NaN           NaN                  NaN   \n",
              "DOT                      20.0           NaN                  7.0   \n",
              "NYPD                      NaN         164.0                  NaN   \n",
              "\n",
              "Complaint Type  Bike/Roller/Skate Chronic  Blocked Driveway  Bridge Condition  \\\n",
              "Agency                                                                          \n",
              "DOP                                   NaN               NaN               NaN   \n",
              "DOT                                   NaN               NaN              20.0   \n",
              "NYPD                                 32.0            4590.0               NaN   \n",
              "\n",
              "Complaint Type  Broken Muni Meter  Bus Stop Shelter Placement  Compliment  \\\n",
              "Agency                                                                      \n",
              "DOP                           NaN                         NaN         NaN   \n",
              "DOT                        2070.0                        14.0         1.0   \n",
              "NYPD                          NaN                         NaN         NaN   \n",
              "\n",
              "Complaint Type  Curb Condition  DOT Literature Request  Derelict Vehicle  \\\n",
              "Agency                                                                     \n",
              "DOP                        NaN                     NaN               NaN   \n",
              "DOT                       66.0                   123.0               NaN   \n",
              "NYPD                       NaN                     NaN             803.0   \n",
              "\n",
              "Complaint Type  Disorderly Youth  Drinking  Ferry Complaint  Ferry Inquiry  \\\n",
              "Agency                                                                       \n",
              "DOP                          NaN       NaN              NaN            NaN   \n",
              "DOT                          NaN       NaN              4.0           32.0   \n",
              "NYPD                        26.0      83.0              NaN            NaN   \n",
              "\n",
              "Complaint Type  Ferry Permit  Graffiti  Highway Condition  \\\n",
              "Agency                                                      \n",
              "DOP                      NaN       NaN                NaN   \n",
              "DOT                      1.0       NaN              130.0   \n",
              "NYPD                     NaN      13.0                NaN   \n",
              "\n",
              "Complaint Type  Highway Sign - Damaged  Homeless Encampment  \\\n",
              "Agency                                                        \n",
              "DOP                                NaN                  NaN   \n",
              "DOT                                1.0                  NaN   \n",
              "NYPD                               NaN                269.0   \n",
              "\n",
              "Complaint Type  Illegal Fireworks  Illegal Parking  Invitation  \\\n",
              "Agency                                                           \n",
              "DOP                           NaN              NaN         1.0   \n",
              "DOT                           NaN              NaN         NaN   \n",
              "NYPD                          3.0           3343.0         NaN   \n",
              "\n",
              "Complaint Type  Municipal Parking Facility  Noise - Commercial  \\\n",
              "Agency                                                           \n",
              "DOP                                    NaN                 NaN   \n",
              "DOT                                    1.0                 NaN   \n",
              "NYPD                                   NaN              2578.0   \n",
              "\n",
              "Complaint Type  Noise - House of Worship  Noise - Park  \\\n",
              "Agency                                                   \n",
              "DOP                                  NaN           NaN   \n",
              "DOT                                  NaN           NaN   \n",
              "NYPD                                67.0         191.0   \n",
              "\n",
              "Complaint Type  Noise - Street/Sidewalk  Noise - Vehicle  Panhandling  \\\n",
              "Agency                                                                  \n",
              "DOP                                 NaN              NaN          NaN   \n",
              "DOT                                 NaN              NaN          NaN   \n",
              "NYPD                             1928.0            750.0         23.0   \n",
              "\n",
              "Complaint Type  Parking Card  Posting Advertisement  Public Toilet  \\\n",
              "Agency                                                               \n",
              "DOP                      NaN                    NaN            NaN   \n",
              "DOT                      8.0                    NaN            6.0   \n",
              "NYPD                     NaN                    5.0            NaN   \n",
              "\n",
              "Complaint Type  Request for Information  Sidewalk Condition  Street Condition  \\\n",
              "Agency                                                                          \n",
              "DOP                                 1.0                 NaN               NaN   \n",
              "DOT                                 NaN               339.0            3473.0   \n",
              "NYPD                                NaN                 NaN               NaN   \n",
              "\n",
              "Complaint Type  Street Light Condition  Street Sign - Damaged  \\\n",
              "Agency                                                          \n",
              "DOP                                NaN                    NaN   \n",
              "DOT                             7117.0                  691.0   \n",
              "NYPD                               NaN                    NaN   \n",
              "\n",
              "Complaint Type  Street Sign - Dangling  Street Sign - Missing  Traffic  \\\n",
              "Agency                                                                   \n",
              "DOP                                NaN                    NaN      NaN   \n",
              "DOT                              110.0                  327.0      NaN   \n",
              "NYPD                               NaN                    NaN    168.0   \n",
              "\n",
              "Complaint Type  Traffic Signal Condition  Tunnel Condition  \\\n",
              "Agency                                                       \n",
              "DOP                                  NaN               NaN   \n",
              "DOT                               3145.0               1.0   \n",
              "NYPD                                 NaN               NaN   \n",
              "\n",
              "Complaint Type  Urinating in Public  Vending  \n",
              "Agency                                        \n",
              "DOP                             NaN      NaN  \n",
              "DOT                             NaN      NaN  \n",
              "NYPD                           30.0    229.0  "
            ]
          },
          "execution_count": 25,
          "metadata": {},
          "output_type": "execute_result"
        }
      ],
      "source": [
        "pt0"
      ]
    },
    {
      "cell_type": "code",
      "execution_count": null,
      "metadata": {
        "id": "NqViIORSLXmJ"
      },
      "outputs": [],
      "source": [
        "pd.pivot??"
      ]
    },
    {
      "cell_type": "markdown",
      "metadata": {
        "id": "ZMpBWX5MLXmJ"
      },
      "source": [
        "# 4.  Baby names questions"
      ]
    },
    {
      "cell_type": "markdown",
      "metadata": {
        "id": "iDVZoXDI1S4a"
      },
      "source": [
        "Niote You may have mounted your Google Drive above.  In that case, skip this cell but make sure the variable `data_dir` is set to the value used in the next cell. "
      ]
    },
    {
      "cell_type": "markdown",
      "source": [
        "### 4.1 Get all the babynames data for all the years\n",
        "\n",
        "... in the data and plot make and female births in the same plot."
      ],
      "metadata": {
        "id": "bhOLGSSKg0d8"
      }
    },
    {
      "cell_type": "code",
      "execution_count": 1,
      "metadata": {
        "colab": {
          "base_uri": "https://localhost:8080/"
        },
        "id": "s8rE-xpJLXmJ",
        "outputId": "e094c9e4-5a4d-444d-86c2-b6baed311f42"
      },
      "outputs": [
        {
          "output_type": "stream",
          "name": "stdout",
          "text": [
            "Mounted at /content/gdrive\n"
          ]
        }
      ],
      "source": [
        "from google.colab import drive\n",
        "import os.path\n",
        "import pandas as pd\n",
        "\n",
        "# Mount google drive to create a filesystem the notebook can use\n",
        "drive.mount('/content/gdrive') \n",
        "# Specify the code dir in the new filesystem.\n",
        "data_dir ='/content/gdrive/My Drive/data'"
      ]
    },
    {
      "cell_type": "code",
      "execution_count": 3,
      "metadata": {
        "id": "nWrcJHmULoW3"
      },
      "outputs": [],
      "source": [
        "os.chdir(data_dir)"
      ]
    },
    {
      "cell_type": "code",
      "execution_count": 4,
      "metadata": {
        "colab": {
          "base_uri": "https://localhost:8080/",
          "height": 35
        },
        "id": "uyVURhWSL5tr",
        "outputId": "6234a767-b11f-4610-e9d6-9a1785c7635f"
      },
      "outputs": [
        {
          "output_type": "execute_result",
          "data": {
            "text/plain": [
              "'/content/gdrive/My Drive/data'"
            ],
            "application/vnd.google.colaboratory.intrinsic+json": {
              "type": "string"
            }
          },
          "metadata": {},
          "execution_count": 4
        }
      ],
      "source": [
        "os.getcwd()"
      ]
    },
    {
      "cell_type": "markdown",
      "metadata": {
        "id": "ABB8WD-51t2N"
      },
      "source": [
        "Note the backslash which is needed because of the space in `My Drive`."
      ]
    },
    {
      "cell_type": "markdown",
      "source": [
        "Use the next cell to list the files in the top level dir of your Googkle Drive."
      ],
      "metadata": {
        "id": "rz5uwSSKdWCx"
      }
    },
    {
      "cell_type": "code",
      "execution_count": 19,
      "metadata": {
        "id": "Vp2sZrv1MHNt"
      },
      "outputs": [],
      "source": [
        "!ls /content/gdrive/My\\ Drive/"
      ]
    },
    {
      "cell_type": "markdown",
      "source": [
        "The next cell collects the babynames files extracted onto your Google drive from a previous pandas notebook into a single dataframe.\n"
      ],
      "metadata": {
        "id": "M4JbU4InddM1"
      }
    },
    {
      "cell_type": "code",
      "execution_count": 6,
      "metadata": {
        "id": "RhTi_dt7Lmf2"
      },
      "outputs": [],
      "source": [
        "\n",
        "years = list(range(1880,2011))\n",
        "pieces = []\n",
        "columns = ['name','sex','births']\n",
        "\n",
        "for year in years:\n",
        "    path = f'names/yob{year:d}.txt'\n",
        "    frame = pd.read_csv(path,names=columns)\n",
        "    frame['year'] = year\n",
        "    pieces.append(frame)    \n",
        "    \n",
        "names = pd.concat(pieces, ignore_index=True)"
      ]
    },
    {
      "cell_type": "code",
      "execution_count": 7,
      "metadata": {
        "colab": {
          "base_uri": "https://localhost:8080/",
          "height": 423
        },
        "id": "xIaME-XXLXmJ",
        "outputId": "792cbbc4-ff9b-4995-9665-5a6e676acc98"
      },
      "outputs": [
        {
          "output_type": "execute_result",
          "data": {
            "text/plain": [
              "              name sex  births  year\n",
              "0             Mary   F    7065  1880\n",
              "1             Anna   F    2604  1880\n",
              "2             Emma   F    2003  1880\n",
              "3        Elizabeth   F    1939  1880\n",
              "4           Minnie   F    1746  1880\n",
              "...            ...  ..     ...   ...\n",
              "1690779    Zymaire   M       5  2010\n",
              "1690780     Zyonne   M       5  2010\n",
              "1690781  Zyquarius   M       5  2010\n",
              "1690782      Zyran   M       5  2010\n",
              "1690783      Zzyzx   M       5  2010\n",
              "\n",
              "[1690784 rows x 4 columns]"
            ],
            "text/html": [
              "\n",
              "  <div id=\"df-21b0c3db-6828-4aaa-a78d-3a4c0d9aace3\">\n",
              "    <div class=\"colab-df-container\">\n",
              "      <div>\n",
              "<style scoped>\n",
              "    .dataframe tbody tr th:only-of-type {\n",
              "        vertical-align: middle;\n",
              "    }\n",
              "\n",
              "    .dataframe tbody tr th {\n",
              "        vertical-align: top;\n",
              "    }\n",
              "\n",
              "    .dataframe thead th {\n",
              "        text-align: right;\n",
              "    }\n",
              "</style>\n",
              "<table border=\"1\" class=\"dataframe\">\n",
              "  <thead>\n",
              "    <tr style=\"text-align: right;\">\n",
              "      <th></th>\n",
              "      <th>name</th>\n",
              "      <th>sex</th>\n",
              "      <th>births</th>\n",
              "      <th>year</th>\n",
              "    </tr>\n",
              "  </thead>\n",
              "  <tbody>\n",
              "    <tr>\n",
              "      <th>0</th>\n",
              "      <td>Mary</td>\n",
              "      <td>F</td>\n",
              "      <td>7065</td>\n",
              "      <td>1880</td>\n",
              "    </tr>\n",
              "    <tr>\n",
              "      <th>1</th>\n",
              "      <td>Anna</td>\n",
              "      <td>F</td>\n",
              "      <td>2604</td>\n",
              "      <td>1880</td>\n",
              "    </tr>\n",
              "    <tr>\n",
              "      <th>2</th>\n",
              "      <td>Emma</td>\n",
              "      <td>F</td>\n",
              "      <td>2003</td>\n",
              "      <td>1880</td>\n",
              "    </tr>\n",
              "    <tr>\n",
              "      <th>3</th>\n",
              "      <td>Elizabeth</td>\n",
              "      <td>F</td>\n",
              "      <td>1939</td>\n",
              "      <td>1880</td>\n",
              "    </tr>\n",
              "    <tr>\n",
              "      <th>4</th>\n",
              "      <td>Minnie</td>\n",
              "      <td>F</td>\n",
              "      <td>1746</td>\n",
              "      <td>1880</td>\n",
              "    </tr>\n",
              "    <tr>\n",
              "      <th>...</th>\n",
              "      <td>...</td>\n",
              "      <td>...</td>\n",
              "      <td>...</td>\n",
              "      <td>...</td>\n",
              "    </tr>\n",
              "    <tr>\n",
              "      <th>1690779</th>\n",
              "      <td>Zymaire</td>\n",
              "      <td>M</td>\n",
              "      <td>5</td>\n",
              "      <td>2010</td>\n",
              "    </tr>\n",
              "    <tr>\n",
              "      <th>1690780</th>\n",
              "      <td>Zyonne</td>\n",
              "      <td>M</td>\n",
              "      <td>5</td>\n",
              "      <td>2010</td>\n",
              "    </tr>\n",
              "    <tr>\n",
              "      <th>1690781</th>\n",
              "      <td>Zyquarius</td>\n",
              "      <td>M</td>\n",
              "      <td>5</td>\n",
              "      <td>2010</td>\n",
              "    </tr>\n",
              "    <tr>\n",
              "      <th>1690782</th>\n",
              "      <td>Zyran</td>\n",
              "      <td>M</td>\n",
              "      <td>5</td>\n",
              "      <td>2010</td>\n",
              "    </tr>\n",
              "    <tr>\n",
              "      <th>1690783</th>\n",
              "      <td>Zzyzx</td>\n",
              "      <td>M</td>\n",
              "      <td>5</td>\n",
              "      <td>2010</td>\n",
              "    </tr>\n",
              "  </tbody>\n",
              "</table>\n",
              "<p>1690784 rows × 4 columns</p>\n",
              "</div>\n",
              "      <button class=\"colab-df-convert\" onclick=\"convertToInteractive('df-21b0c3db-6828-4aaa-a78d-3a4c0d9aace3')\"\n",
              "              title=\"Convert this dataframe to an interactive table.\"\n",
              "              style=\"display:none;\">\n",
              "        \n",
              "  <svg xmlns=\"http://www.w3.org/2000/svg\" height=\"24px\"viewBox=\"0 0 24 24\"\n",
              "       width=\"24px\">\n",
              "    <path d=\"M0 0h24v24H0V0z\" fill=\"none\"/>\n",
              "    <path d=\"M18.56 5.44l.94 2.06.94-2.06 2.06-.94-2.06-.94-.94-2.06-.94 2.06-2.06.94zm-11 1L8.5 8.5l.94-2.06 2.06-.94-2.06-.94L8.5 2.5l-.94 2.06-2.06.94zm10 10l.94 2.06.94-2.06 2.06-.94-2.06-.94-.94-2.06-.94 2.06-2.06.94z\"/><path d=\"M17.41 7.96l-1.37-1.37c-.4-.4-.92-.59-1.43-.59-.52 0-1.04.2-1.43.59L10.3 9.45l-7.72 7.72c-.78.78-.78 2.05 0 2.83L4 21.41c.39.39.9.59 1.41.59.51 0 1.02-.2 1.41-.59l7.78-7.78 2.81-2.81c.8-.78.8-2.07 0-2.86zM5.41 20L4 18.59l7.72-7.72 1.47 1.35L5.41 20z\"/>\n",
              "  </svg>\n",
              "      </button>\n",
              "      \n",
              "  <style>\n",
              "    .colab-df-container {\n",
              "      display:flex;\n",
              "      flex-wrap:wrap;\n",
              "      gap: 12px;\n",
              "    }\n",
              "\n",
              "    .colab-df-convert {\n",
              "      background-color: #E8F0FE;\n",
              "      border: none;\n",
              "      border-radius: 50%;\n",
              "      cursor: pointer;\n",
              "      display: none;\n",
              "      fill: #1967D2;\n",
              "      height: 32px;\n",
              "      padding: 0 0 0 0;\n",
              "      width: 32px;\n",
              "    }\n",
              "\n",
              "    .colab-df-convert:hover {\n",
              "      background-color: #E2EBFA;\n",
              "      box-shadow: 0px 1px 2px rgba(60, 64, 67, 0.3), 0px 1px 3px 1px rgba(60, 64, 67, 0.15);\n",
              "      fill: #174EA6;\n",
              "    }\n",
              "\n",
              "    [theme=dark] .colab-df-convert {\n",
              "      background-color: #3B4455;\n",
              "      fill: #D2E3FC;\n",
              "    }\n",
              "\n",
              "    [theme=dark] .colab-df-convert:hover {\n",
              "      background-color: #434B5C;\n",
              "      box-shadow: 0px 1px 3px 1px rgba(0, 0, 0, 0.15);\n",
              "      filter: drop-shadow(0px 1px 2px rgba(0, 0, 0, 0.3));\n",
              "      fill: #FFFFFF;\n",
              "    }\n",
              "  </style>\n",
              "\n",
              "      <script>\n",
              "        const buttonEl =\n",
              "          document.querySelector('#df-21b0c3db-6828-4aaa-a78d-3a4c0d9aace3 button.colab-df-convert');\n",
              "        buttonEl.style.display =\n",
              "          google.colab.kernel.accessAllowed ? 'block' : 'none';\n",
              "\n",
              "        async function convertToInteractive(key) {\n",
              "          const element = document.querySelector('#df-21b0c3db-6828-4aaa-a78d-3a4c0d9aace3');\n",
              "          const dataTable =\n",
              "            await google.colab.kernel.invokeFunction('convertToInteractive',\n",
              "                                                     [key], {});\n",
              "          if (!dataTable) return;\n",
              "\n",
              "          const docLinkHtml = 'Like what you see? Visit the ' +\n",
              "            '<a target=\"_blank\" href=https://colab.research.google.com/notebooks/data_table.ipynb>data table notebook</a>'\n",
              "            + ' to learn more about interactive tables.';\n",
              "          element.innerHTML = '';\n",
              "          dataTable['output_type'] = 'display_data';\n",
              "          await google.colab.output.renderOutput(dataTable, element);\n",
              "          const docLink = document.createElement('div');\n",
              "          docLink.innerHTML = docLinkHtml;\n",
              "          element.appendChild(docLink);\n",
              "        }\n",
              "      </script>\n",
              "    </div>\n",
              "  </div>\n",
              "  "
            ]
          },
          "metadata": {},
          "execution_count": 7
        }
      ],
      "source": [
        "names"
      ]
    },
    {
      "cell_type": "markdown",
      "source": [
        "#### Plot births for all the years in the data"
      ],
      "metadata": {
        "id": "lVqcpxkSg9Ur"
      }
    },
    {
      "cell_type": "markdown",
      "source": [
        "### 4.1 (ctd.) Plotting male vs female births in each year"
      ],
      "metadata": {
        "id": "3g7FXyRAil0N"
      }
    },
    {
      "cell_type": "code",
      "source": [
        "female = names[names['sex'] == 'F']\n",
        "male = names[names['sex'] == 'M']\n",
        "f_births = pd.pivot_table(female, 'births', index = 'year',aggfunc='sum')\n",
        "m_births = pd.pivot_table(male, 'births', index = 'year',aggfunc='sum')\n",
        "f_births.head()"
      ],
      "metadata": {
        "id": "luRwoXzWhDco",
        "outputId": "63f7bdd0-8f50-427c-8eea-c1bdf9c447ff",
        "colab": {
          "base_uri": "https://localhost:8080/",
          "height": 237
        }
      },
      "execution_count": 28,
      "outputs": [
        {
          "output_type": "execute_result",
          "data": {
            "text/plain": [
              "      births\n",
              "year        \n",
              "1880   90993\n",
              "1881   91955\n",
              "1882  107851\n",
              "1883  112322\n",
              "1884  129021"
            ],
            "text/html": [
              "\n",
              "  <div id=\"df-5a890907-700d-43ca-9314-d33de0fcf264\">\n",
              "    <div class=\"colab-df-container\">\n",
              "      <div>\n",
              "<style scoped>\n",
              "    .dataframe tbody tr th:only-of-type {\n",
              "        vertical-align: middle;\n",
              "    }\n",
              "\n",
              "    .dataframe tbody tr th {\n",
              "        vertical-align: top;\n",
              "    }\n",
              "\n",
              "    .dataframe thead th {\n",
              "        text-align: right;\n",
              "    }\n",
              "</style>\n",
              "<table border=\"1\" class=\"dataframe\">\n",
              "  <thead>\n",
              "    <tr style=\"text-align: right;\">\n",
              "      <th></th>\n",
              "      <th>births</th>\n",
              "    </tr>\n",
              "    <tr>\n",
              "      <th>year</th>\n",
              "      <th></th>\n",
              "    </tr>\n",
              "  </thead>\n",
              "  <tbody>\n",
              "    <tr>\n",
              "      <th>1880</th>\n",
              "      <td>90993</td>\n",
              "    </tr>\n",
              "    <tr>\n",
              "      <th>1881</th>\n",
              "      <td>91955</td>\n",
              "    </tr>\n",
              "    <tr>\n",
              "      <th>1882</th>\n",
              "      <td>107851</td>\n",
              "    </tr>\n",
              "    <tr>\n",
              "      <th>1883</th>\n",
              "      <td>112322</td>\n",
              "    </tr>\n",
              "    <tr>\n",
              "      <th>1884</th>\n",
              "      <td>129021</td>\n",
              "    </tr>\n",
              "  </tbody>\n",
              "</table>\n",
              "</div>\n",
              "      <button class=\"colab-df-convert\" onclick=\"convertToInteractive('df-5a890907-700d-43ca-9314-d33de0fcf264')\"\n",
              "              title=\"Convert this dataframe to an interactive table.\"\n",
              "              style=\"display:none;\">\n",
              "        \n",
              "  <svg xmlns=\"http://www.w3.org/2000/svg\" height=\"24px\"viewBox=\"0 0 24 24\"\n",
              "       width=\"24px\">\n",
              "    <path d=\"M0 0h24v24H0V0z\" fill=\"none\"/>\n",
              "    <path d=\"M18.56 5.44l.94 2.06.94-2.06 2.06-.94-2.06-.94-.94-2.06-.94 2.06-2.06.94zm-11 1L8.5 8.5l.94-2.06 2.06-.94-2.06-.94L8.5 2.5l-.94 2.06-2.06.94zm10 10l.94 2.06.94-2.06 2.06-.94-2.06-.94-.94-2.06-.94 2.06-2.06.94z\"/><path d=\"M17.41 7.96l-1.37-1.37c-.4-.4-.92-.59-1.43-.59-.52 0-1.04.2-1.43.59L10.3 9.45l-7.72 7.72c-.78.78-.78 2.05 0 2.83L4 21.41c.39.39.9.59 1.41.59.51 0 1.02-.2 1.41-.59l7.78-7.78 2.81-2.81c.8-.78.8-2.07 0-2.86zM5.41 20L4 18.59l7.72-7.72 1.47 1.35L5.41 20z\"/>\n",
              "  </svg>\n",
              "      </button>\n",
              "      \n",
              "  <style>\n",
              "    .colab-df-container {\n",
              "      display:flex;\n",
              "      flex-wrap:wrap;\n",
              "      gap: 12px;\n",
              "    }\n",
              "\n",
              "    .colab-df-convert {\n",
              "      background-color: #E8F0FE;\n",
              "      border: none;\n",
              "      border-radius: 50%;\n",
              "      cursor: pointer;\n",
              "      display: none;\n",
              "      fill: #1967D2;\n",
              "      height: 32px;\n",
              "      padding: 0 0 0 0;\n",
              "      width: 32px;\n",
              "    }\n",
              "\n",
              "    .colab-df-convert:hover {\n",
              "      background-color: #E2EBFA;\n",
              "      box-shadow: 0px 1px 2px rgba(60, 64, 67, 0.3), 0px 1px 3px 1px rgba(60, 64, 67, 0.15);\n",
              "      fill: #174EA6;\n",
              "    }\n",
              "\n",
              "    [theme=dark] .colab-df-convert {\n",
              "      background-color: #3B4455;\n",
              "      fill: #D2E3FC;\n",
              "    }\n",
              "\n",
              "    [theme=dark] .colab-df-convert:hover {\n",
              "      background-color: #434B5C;\n",
              "      box-shadow: 0px 1px 3px 1px rgba(0, 0, 0, 0.15);\n",
              "      filter: drop-shadow(0px 1px 2px rgba(0, 0, 0, 0.3));\n",
              "      fill: #FFFFFF;\n",
              "    }\n",
              "  </style>\n",
              "\n",
              "      <script>\n",
              "        const buttonEl =\n",
              "          document.querySelector('#df-5a890907-700d-43ca-9314-d33de0fcf264 button.colab-df-convert');\n",
              "        buttonEl.style.display =\n",
              "          google.colab.kernel.accessAllowed ? 'block' : 'none';\n",
              "\n",
              "        async function convertToInteractive(key) {\n",
              "          const element = document.querySelector('#df-5a890907-700d-43ca-9314-d33de0fcf264');\n",
              "          const dataTable =\n",
              "            await google.colab.kernel.invokeFunction('convertToInteractive',\n",
              "                                                     [key], {});\n",
              "          if (!dataTable) return;\n",
              "\n",
              "          const docLinkHtml = 'Like what you see? Visit the ' +\n",
              "            '<a target=\"_blank\" href=https://colab.research.google.com/notebooks/data_table.ipynb>data table notebook</a>'\n",
              "            + ' to learn more about interactive tables.';\n",
              "          element.innerHTML = '';\n",
              "          dataTable['output_type'] = 'display_data';\n",
              "          await google.colab.output.renderOutput(dataTable, element);\n",
              "          const docLink = document.createElement('div');\n",
              "          docLink.innerHTML = docLinkHtml;\n",
              "          element.appendChild(docLink);\n",
              "        }\n",
              "      </script>\n",
              "    </div>\n",
              "  </div>\n",
              "  "
            ]
          },
          "metadata": {},
          "execution_count": 28
        }
      ]
    },
    {
      "cell_type": "code",
      "source": [
        "from matplotlib import pyplot as plt\n",
        "import numpy as np\n",
        "from string import ascii_lowercase\n",
        "\n",
        "fig, ax = plt.subplots(1,1, figsize = (12,8))\n",
        "ax.plot(f_births.index,f_births['births'],label=\"female\",color='pink')\n",
        "ax.plot(m_births.index,m_births['births'],label=\"male\",color='blue')\n",
        "ax.legend()"
      ],
      "metadata": {
        "id": "CPcDI7I4iGMp",
        "outputId": "7850902f-3221-4879-8bad-e907727d871b",
        "colab": {
          "base_uri": "https://localhost:8080/",
          "height": 512
        }
      },
      "execution_count": 27,
      "outputs": [
        {
          "output_type": "execute_result",
          "data": {
            "text/plain": [
              "<matplotlib.legend.Legend at 0x7fe1c05c2b90>"
            ]
          },
          "metadata": {},
          "execution_count": 27
        },
        {
          "output_type": "display_data",
          "data": {
            "text/plain": [
              "<Figure size 864x576 with 1 Axes>"
            ],
            "image/png": "[encoded data removed]"
          },
          "metadata": {
            "needs_background": "light"
          }
        }
      ]
    },
    {
      "cell_type": "markdown",
      "source": [
        "### 4.2  Plotting last letter freqs (male and female names)"
      ],
      "metadata": {
        "id": "b8HxRziTd2-F"
      }
    },
    {
      "cell_type": "code",
      "execution_count": 8,
      "metadata": {
        "id": "aP_x3OVLMouy"
      },
      "outputs": [],
      "source": [
        "def get_names_by_gender (gender):\n",
        "    return set(names[names['sex']==gender]['name'].values)\n",
        "\n",
        "female_names = get_names_by_gender ('F')\n",
        "male_names = get_names_by_gender ('M')"
      ]
    },
    {
      "cell_type": "markdown",
      "source": [
        "Fact: There are lots more female names than male names."
      ],
      "metadata": {
        "id": "pdRXGr-meGQr"
      }
    },
    {
      "cell_type": "code",
      "execution_count": 9,
      "metadata": {
        "colab": {
          "base_uri": "https://localhost:8080/"
        },
        "id": "HMu2GJYaCtwP",
        "outputId": "05f28632-9908-4417-a7c3-eff6fd505699"
      },
      "outputs": [
        {
          "output_type": "execute_result",
          "data": {
            "text/plain": [
              "(61406, 36742)"
            ]
          },
          "metadata": {},
          "execution_count": 9
        }
      ],
      "source": [
        "len(female_names),len(male_names)"
      ]
    },
    {
      "cell_type": "markdown",
      "source": [
        "Now collect the last letters from the members of the sets;\n",
        "`llf` and `llm` are sequences of length 61,406 and 36,742 respectively, the last letters of each name from the two sets.  Next we count the letter frequencies in these\n",
        "two sequences."
      ],
      "metadata": {
        "id": "Zd3qfAIueMs0"
      }
    },
    {
      "cell_type": "code",
      "execution_count": 10,
      "metadata": {
        "id": "_dAKKv7eCvcF"
      },
      "outputs": [],
      "source": [
        "llf = [nm[-1] for nm in female_names]\n",
        "llm = [nm[-1] for nm in male_names]"
      ]
    },
    {
      "cell_type": "code",
      "execution_count": 11,
      "metadata": {
        "id": "YIpi4PAwbqYi"
      },
      "outputs": [],
      "source": [
        "from nltk import FreqDist\n",
        "\n",
        "female_name_lldist = FreqDist(llf)\n",
        "male_name_lldist = FreqDist(llm)"
      ]
    },
    {
      "cell_type": "markdown",
      "source": [
        "We see \"a\" is the most frequent last letter in female names,\n",
        "which makes female names different both from male names and from English words in general."
      ],
      "metadata": {
        "id": "YWe0k9vPexDq"
      }
    },
    {
      "cell_type": "code",
      "execution_count": 20,
      "metadata": {
        "colab": {
          "base_uri": "https://localhost:8080/"
        },
        "id": "bweAHvTMbqYi",
        "outputId": "90aeb796-ec23-45e4-ea07-aa19718d0488"
      },
      "outputs": [
        {
          "output_type": "execute_result",
          "data": {
            "text/plain": [
              "[('a', 26199),\n",
              " ('e', 11501),\n",
              " ('n', 6351),\n",
              " ('h', 3921),\n",
              " ('y', 3501),\n",
              " ('i', 3357),\n",
              " ('l', 2043),\n",
              " ('s', 1124),\n",
              " ('r', 854),\n",
              " ('t', 618),\n",
              " ('o', 569),\n",
              " ('d', 301),\n",
              " ('m', 224),\n",
              " ('u', 185),\n",
              " ('z', 170),\n",
              " ('g', 135),\n",
              " ('k', 93),\n",
              " ('x', 54),\n",
              " ('c', 53),\n",
              " ('b', 38),\n",
              " ('w', 29),\n",
              " ('p', 25),\n",
              " ('j', 25),\n",
              " ('v', 14),\n",
              " ('f', 12),\n",
              " ('q', 10)]"
            ]
          },
          "metadata": {},
          "execution_count": 20
        }
      ],
      "source": [
        "female_name_lldist.most_common()"
      ]
    },
    {
      "cell_type": "markdown",
      "source": [
        "We see \"n\" is the most frequent last letter for male names."
      ],
      "metadata": {
        "id": "NfYSIbbVfIU5"
      }
    },
    {
      "cell_type": "code",
      "execution_count": 21,
      "metadata": {
        "colab": {
          "base_uri": "https://localhost:8080/"
        },
        "id": "lLR9lHd-bqYi",
        "outputId": "cc8a7057-45ea-4fa1-b110-95be46438539"
      },
      "outputs": [
        {
          "output_type": "execute_result",
          "data": {
            "text/plain": [
              "[('n', 9679),\n",
              " ('e', 4451),\n",
              " ('l', 2938),\n",
              " ('s', 2727),\n",
              " ('r', 2254),\n",
              " ('y', 2137),\n",
              " ('o', 2073),\n",
              " ('a', 1758),\n",
              " ('i', 1587),\n",
              " ('d', 1473),\n",
              " ('h', 1168),\n",
              " ('t', 844),\n",
              " ('k', 812),\n",
              " ('m', 803),\n",
              " ('z', 319),\n",
              " ('g', 279),\n",
              " ('u', 237),\n",
              " ('c', 237),\n",
              " ('b', 231),\n",
              " ('f', 154),\n",
              " ('w', 110),\n",
              " ('v', 109),\n",
              " ('p', 108),\n",
              " ('x', 106),\n",
              " ('j', 94),\n",
              " ('q', 54)]"
            ]
          },
          "metadata": {},
          "execution_count": 21
        }
      ],
      "source": [
        "male_name_lldist.most_common()"
      ]
    },
    {
      "cell_type": "code",
      "execution_count": 18,
      "metadata": {
        "colab": {
          "base_uri": "https://localhost:8080/",
          "height": 556
        },
        "id": "U73K-W7YbqYi",
        "outputId": "7a127720-05a9-4c53-ecd7-3f7b037b934d"
      },
      "outputs": [
        {
          "output_type": "stream",
          "name": "stderr",
          "text": [
            "/usr/local/lib/python3.7/dist-packages/ipykernel_launcher.py:9: MatplotlibDeprecationWarning: Passing the minor parameter of set_xticks() positionally is deprecated since Matplotlib 3.2; the parameter will become keyword-only two minor releases later.\n",
            "  if __name__ == '__main__':\n"
          ]
        },
        {
          "output_type": "execute_result",
          "data": {
            "text/plain": [
              "<matplotlib.legend.Legend at 0x7fe1c2be0d90>"
            ]
          },
          "metadata": {},
          "execution_count": 18
        },
        {
          "output_type": "display_data",
          "data": {
            "text/plain": [
              "<Figure size 864x576 with 1 Axes>"
            ],
            "image/png": "[encoded data removed]"
          },
          "metadata": {
            "needs_background": "light"
          }
        }
      ],
      "source": [
        "from matplotlib import pyplot as plt\n",
        "import numpy as np\n",
        "from string import ascii_lowercase\n",
        "\n",
        "fig, ax = plt.subplots(1,1, figsize = (12,8))\n",
        "m_lets, m_counts = zip(*sorted(list(male_name_lldist.items())))\n",
        "f_lets, f_counts = zip(*sorted(list(female_name_lldist.items())))\n",
        "# A sanity check.  Raise an error if the two letter sets\n",
        "# arent the same. if this did happen we would add a letter\n",
        "# with 0 count to make the plot lines align properly\n",
        "assert m_lets==f_lets, \"Missing letters in distribution\"\n",
        "# Label the x-axis with letters placed where the first 26 integers are.\n",
        "ax.set_xticks(np.arange(26),ascii_lowercase)\n",
        "ax.plot(m_lets,m_counts,label=\"male\")\n",
        "ax.plot(m_lets,f_counts,label=\"female\")\n",
        "ax.legend()"
      ]
    },
    {
      "cell_type": "code",
      "source": [
        "names['decade']  = names['year'].apply(lambda x: 10 * (x//10))\n"
      ],
      "metadata": {
        "id": "J3ttyyavjc3j",
        "outputId": "0b7bfdde-9fd3-47b3-f0cf-d8abdd6c8258",
        "colab": {
          "base_uri": "https://localhost:8080/",
          "height": 206
        }
      },
      "execution_count": 31,
      "outputs": [
        {
          "output_type": "execute_result",
          "data": {
            "text/plain": [
              "              name sex  births  year  decade\n",
              "1690779    Zymaire   M       5  2010    2010\n",
              "1690780     Zyonne   M       5  2010    2010\n",
              "1690781  Zyquarius   M       5  2010    2010\n",
              "1690782      Zyran   M       5  2010    2010\n",
              "1690783      Zzyzx   M       5  2010    2010"
            ],
            "text/html": [
              "\n",
              "  <div id=\"df-8fba3316-c7b0-431e-a23c-0bbed93be330\">\n",
              "    <div class=\"colab-df-container\">\n",
              "      <div>\n",
              "<style scoped>\n",
              "    .dataframe tbody tr th:only-of-type {\n",
              "        vertical-align: middle;\n",
              "    }\n",
              "\n",
              "    .dataframe tbody tr th {\n",
              "        vertical-align: top;\n",
              "    }\n",
              "\n",
              "    .dataframe thead th {\n",
              "        text-align: right;\n",
              "    }\n",
              "</style>\n",
              "<table border=\"1\" class=\"dataframe\">\n",
              "  <thead>\n",
              "    <tr style=\"text-align: right;\">\n",
              "      <th></th>\n",
              "      <th>name</th>\n",
              "      <th>sex</th>\n",
              "      <th>births</th>\n",
              "      <th>year</th>\n",
              "      <th>decade</th>\n",
              "    </tr>\n",
              "  </thead>\n",
              "  <tbody>\n",
              "    <tr>\n",
              "      <th>1690779</th>\n",
              "      <td>Zymaire</td>\n",
              "      <td>M</td>\n",
              "      <td>5</td>\n",
              "      <td>2010</td>\n",
              "      <td>2010</td>\n",
              "    </tr>\n",
              "    <tr>\n",
              "      <th>1690780</th>\n",
              "      <td>Zyonne</td>\n",
              "      <td>M</td>\n",
              "      <td>5</td>\n",
              "      <td>2010</td>\n",
              "      <td>2010</td>\n",
              "    </tr>\n",
              "    <tr>\n",
              "      <th>1690781</th>\n",
              "      <td>Zyquarius</td>\n",
              "      <td>M</td>\n",
              "      <td>5</td>\n",
              "      <td>2010</td>\n",
              "      <td>2010</td>\n",
              "    </tr>\n",
              "    <tr>\n",
              "      <th>1690782</th>\n",
              "      <td>Zyran</td>\n",
              "      <td>M</td>\n",
              "      <td>5</td>\n",
              "      <td>2010</td>\n",
              "      <td>2010</td>\n",
              "    </tr>\n",
              "    <tr>\n",
              "      <th>1690783</th>\n",
              "      <td>Zzyzx</td>\n",
              "      <td>M</td>\n",
              "      <td>5</td>\n",
              "      <td>2010</td>\n",
              "      <td>2010</td>\n",
              "    </tr>\n",
              "  </tbody>\n",
              "</table>\n",
              "</div>\n",
              "      <button class=\"colab-df-convert\" onclick=\"convertToInteractive('df-8fba3316-c7b0-431e-a23c-0bbed93be330')\"\n",
              "              title=\"Convert this dataframe to an interactive table.\"\n",
              "              style=\"display:none;\">\n",
              "        \n",
              "  <svg xmlns=\"http://www.w3.org/2000/svg\" height=\"24px\"viewBox=\"0 0 24 24\"\n",
              "       width=\"24px\">\n",
              "    <path d=\"M0 0h24v24H0V0z\" fill=\"none\"/>\n",
              "    <path d=\"M18.56 5.44l.94 2.06.94-2.06 2.06-.94-2.06-.94-.94-2.06-.94 2.06-2.06.94zm-11 1L8.5 8.5l.94-2.06 2.06-.94-2.06-.94L8.5 2.5l-.94 2.06-2.06.94zm10 10l.94 2.06.94-2.06 2.06-.94-2.06-.94-.94-2.06-.94 2.06-2.06.94z\"/><path d=\"M17.41 7.96l-1.37-1.37c-.4-.4-.92-.59-1.43-.59-.52 0-1.04.2-1.43.59L10.3 9.45l-7.72 7.72c-.78.78-.78 2.05 0 2.83L4 21.41c.39.39.9.59 1.41.59.51 0 1.02-.2 1.41-.59l7.78-7.78 2.81-2.81c.8-.78.8-2.07 0-2.86zM5.41 20L4 18.59l7.72-7.72 1.47 1.35L5.41 20z\"/>\n",
              "  </svg>\n",
              "      </button>\n",
              "      \n",
              "  <style>\n",
              "    .colab-df-container {\n",
              "      display:flex;\n",
              "      flex-wrap:wrap;\n",
              "      gap: 12px;\n",
              "    }\n",
              "\n",
              "    .colab-df-convert {\n",
              "      background-color: #E8F0FE;\n",
              "      border: none;\n",
              "      border-radius: 50%;\n",
              "      cursor: pointer;\n",
              "      display: none;\n",
              "      fill: #1967D2;\n",
              "      height: 32px;\n",
              "      padding: 0 0 0 0;\n",
              "      width: 32px;\n",
              "    }\n",
              "\n",
              "    .colab-df-convert:hover {\n",
              "      background-color: #E2EBFA;\n",
              "      box-shadow: 0px 1px 2px rgba(60, 64, 67, 0.3), 0px 1px 3px 1px rgba(60, 64, 67, 0.15);\n",
              "      fill: #174EA6;\n",
              "    }\n",
              "\n",
              "    [theme=dark] .colab-df-convert {\n",
              "      background-color: #3B4455;\n",
              "      fill: #D2E3FC;\n",
              "    }\n",
              "\n",
              "    [theme=dark] .colab-df-convert:hover {\n",
              "      background-color: #434B5C;\n",
              "      box-shadow: 0px 1px 3px 1px rgba(0, 0, 0, 0.15);\n",
              "      filter: drop-shadow(0px 1px 2px rgba(0, 0, 0, 0.3));\n",
              "      fill: #FFFFFF;\n",
              "    }\n",
              "  </style>\n",
              "\n",
              "      <script>\n",
              "        const buttonEl =\n",
              "          document.querySelector('#df-8fba3316-c7b0-431e-a23c-0bbed93be330 button.colab-df-convert');\n",
              "        buttonEl.style.display =\n",
              "          google.colab.kernel.accessAllowed ? 'block' : 'none';\n",
              "\n",
              "        async function convertToInteractive(key) {\n",
              "          const element = document.querySelector('#df-8fba3316-c7b0-431e-a23c-0bbed93be330');\n",
              "          const dataTable =\n",
              "            await google.colab.kernel.invokeFunction('convertToInteractive',\n",
              "                                                     [key], {});\n",
              "          if (!dataTable) return;\n",
              "\n",
              "          const docLinkHtml = 'Like what you see? Visit the ' +\n",
              "            '<a target=\"_blank\" href=https://colab.research.google.com/notebooks/data_table.ipynb>data table notebook</a>'\n",
              "            + ' to learn more about interactive tables.';\n",
              "          element.innerHTML = '';\n",
              "          dataTable['output_type'] = 'display_data';\n",
              "          await google.colab.output.renderOutput(dataTable, element);\n",
              "          const docLink = document.createElement('div');\n",
              "          docLink.innerHTML = docLinkHtml;\n",
              "          element.appendChild(docLink);\n",
              "        }\n",
              "      </script>\n",
              "    </div>\n",
              "  </div>\n",
              "  "
            ]
          },
          "metadata": {},
          "execution_count": 31
        }
      ]
    },
    {
      "cell_type": "code",
      "source": [
        "names[names['year']==2009]"
      ],
      "metadata": {
        "id": "WoWyB6xBj1we",
        "outputId": "bd75d1af-99e7-4905-a585-04d74847620a",
        "colab": {
          "base_uri": "https://localhost:8080/",
          "height": 423
        }
      },
      "execution_count": 33,
      "outputs": [
        {
          "output_type": "execute_result",
          "data": {
            "text/plain": [
              "              name sex  births  year  decade\n",
              "1622344   Isabella   F   22222  2009    2000\n",
              "1622345       Emma   F   17830  2009    2000\n",
              "1622346     Olivia   F   17374  2009    2000\n",
              "1622347     Sophia   F   16869  2009    2000\n",
              "1622348        Ava   F   15826  2009    2000\n",
              "...            ...  ..     ...   ...     ...\n",
              "1656941  Zyquarius   M       5  2009    2000\n",
              "1656942      Zyran   M       5  2009    2000\n",
              "1656943    Zyreion   M       5  2009    2000\n",
              "1656944     Zyrian   M       5  2009    2000\n",
              "1656945     Zyvion   M       5  2009    2000\n",
              "\n",
              "[34602 rows x 5 columns]"
            ],
            "text/html": [
              "\n",
              "  <div id=\"df-b385cc53-3340-45d1-b834-cd03cd40dd33\">\n",
              "    <div class=\"colab-df-container\">\n",
              "      <div>\n",
              "<style scoped>\n",
              "    .dataframe tbody tr th:only-of-type {\n",
              "        vertical-align: middle;\n",
              "    }\n",
              "\n",
              "    .dataframe tbody tr th {\n",
              "        vertical-align: top;\n",
              "    }\n",
              "\n",
              "    .dataframe thead th {\n",
              "        text-align: right;\n",
              "    }\n",
              "</style>\n",
              "<table border=\"1\" class=\"dataframe\">\n",
              "  <thead>\n",
              "    <tr style=\"text-align: right;\">\n",
              "      <th></th>\n",
              "      <th>name</th>\n",
              "      <th>sex</th>\n",
              "      <th>births</th>\n",
              "      <th>year</th>\n",
              "      <th>decade</th>\n",
              "    </tr>\n",
              "  </thead>\n",
              "  <tbody>\n",
              "    <tr>\n",
              "      <th>1622344</th>\n",
              "      <td>Isabella</td>\n",
              "      <td>F</td>\n",
              "      <td>22222</td>\n",
              "      <td>2009</td>\n",
              "      <td>2000</td>\n",
              "    </tr>\n",
              "    <tr>\n",
              "      <th>1622345</th>\n",
              "      <td>Emma</td>\n",
              "      <td>F</td>\n",
              "      <td>17830</td>\n",
              "      <td>2009</td>\n",
              "      <td>2000</td>\n",
              "    </tr>\n",
              "    <tr>\n",
              "      <th>1622346</th>\n",
              "      <td>Olivia</td>\n",
              "      <td>F</td>\n",
              "      <td>17374</td>\n",
              "      <td>2009</td>\n",
              "      <td>2000</td>\n",
              "    </tr>\n",
              "    <tr>\n",
              "      <th>1622347</th>\n",
              "      <td>Sophia</td>\n",
              "      <td>F</td>\n",
              "      <td>16869</td>\n",
              "      <td>2009</td>\n",
              "      <td>2000</td>\n",
              "    </tr>\n",
              "    <tr>\n",
              "      <th>1622348</th>\n",
              "      <td>Ava</td>\n",
              "      <td>F</td>\n",
              "      <td>15826</td>\n",
              "      <td>2009</td>\n",
              "      <td>2000</td>\n",
              "    </tr>\n",
              "    <tr>\n",
              "      <th>...</th>\n",
              "      <td>...</td>\n",
              "      <td>...</td>\n",
              "      <td>...</td>\n",
              "      <td>...</td>\n",
              "      <td>...</td>\n",
              "    </tr>\n",
              "    <tr>\n",
              "      <th>1656941</th>\n",
              "      <td>Zyquarius</td>\n",
              "      <td>M</td>\n",
              "      <td>5</td>\n",
              "      <td>2009</td>\n",
              "      <td>2000</td>\n",
              "    </tr>\n",
              "    <tr>\n",
              "      <th>1656942</th>\n",
              "      <td>Zyran</td>\n",
              "      <td>M</td>\n",
              "      <td>5</td>\n",
              "      <td>2009</td>\n",
              "      <td>2000</td>\n",
              "    </tr>\n",
              "    <tr>\n",
              "      <th>1656943</th>\n",
              "      <td>Zyreion</td>\n",
              "      <td>M</td>\n",
              "      <td>5</td>\n",
              "      <td>2009</td>\n",
              "      <td>2000</td>\n",
              "    </tr>\n",
              "    <tr>\n",
              "      <th>1656944</th>\n",
              "      <td>Zyrian</td>\n",
              "      <td>M</td>\n",
              "      <td>5</td>\n",
              "      <td>2009</td>\n",
              "      <td>2000</td>\n",
              "    </tr>\n",
              "    <tr>\n",
              "      <th>1656945</th>\n",
              "      <td>Zyvion</td>\n",
              "      <td>M</td>\n",
              "      <td>5</td>\n",
              "      <td>2009</td>\n",
              "      <td>2000</td>\n",
              "    </tr>\n",
              "  </tbody>\n",
              "</table>\n",
              "<p>34602 rows × 5 columns</p>\n",
              "</div>\n",
              "      <button class=\"colab-df-convert\" onclick=\"convertToInteractive('df-b385cc53-3340-45d1-b834-cd03cd40dd33')\"\n",
              "              title=\"Convert this dataframe to an interactive table.\"\n",
              "              style=\"display:none;\">\n",
              "        \n",
              "  <svg xmlns=\"http://www.w3.org/2000/svg\" height=\"24px\"viewBox=\"0 0 24 24\"\n",
              "       width=\"24px\">\n",
              "    <path d=\"M0 0h24v24H0V0z\" fill=\"none\"/>\n",
              "    <path d=\"M18.56 5.44l.94 2.06.94-2.06 2.06-.94-2.06-.94-.94-2.06-.94 2.06-2.06.94zm-11 1L8.5 8.5l.94-2.06 2.06-.94-2.06-.94L8.5 2.5l-.94 2.06-2.06.94zm10 10l.94 2.06.94-2.06 2.06-.94-2.06-.94-.94-2.06-.94 2.06-2.06.94z\"/><path d=\"M17.41 7.96l-1.37-1.37c-.4-.4-.92-.59-1.43-.59-.52 0-1.04.2-1.43.59L10.3 9.45l-7.72 7.72c-.78.78-.78 2.05 0 2.83L4 21.41c.39.39.9.59 1.41.59.51 0 1.02-.2 1.41-.59l7.78-7.78 2.81-2.81c.8-.78.8-2.07 0-2.86zM5.41 20L4 18.59l7.72-7.72 1.47 1.35L5.41 20z\"/>\n",
              "  </svg>\n",
              "      </button>\n",
              "      \n",
              "  <style>\n",
              "    .colab-df-container {\n",
              "      display:flex;\n",
              "      flex-wrap:wrap;\n",
              "      gap: 12px;\n",
              "    }\n",
              "\n",
              "    .colab-df-convert {\n",
              "      background-color: #E8F0FE;\n",
              "      border: none;\n",
              "      border-radius: 50%;\n",
              "      cursor: pointer;\n",
              "      display: none;\n",
              "      fill: #1967D2;\n",
              "      height: 32px;\n",
              "      padding: 0 0 0 0;\n",
              "      width: 32px;\n",
              "    }\n",
              "\n",
              "    .colab-df-convert:hover {\n",
              "      background-color: #E2EBFA;\n",
              "      box-shadow: 0px 1px 2px rgba(60, 64, 67, 0.3), 0px 1px 3px 1px rgba(60, 64, 67, 0.15);\n",
              "      fill: #174EA6;\n",
              "    }\n",
              "\n",
              "    [theme=dark] .colab-df-convert {\n",
              "      background-color: #3B4455;\n",
              "      fill: #D2E3FC;\n",
              "    }\n",
              "\n",
              "    [theme=dark] .colab-df-convert:hover {\n",
              "      background-color: #434B5C;\n",
              "      box-shadow: 0px 1px 3px 1px rgba(0, 0, 0, 0.15);\n",
              "      filter: drop-shadow(0px 1px 2px rgba(0, 0, 0, 0.3));\n",
              "      fill: #FFFFFF;\n",
              "    }\n",
              "  </style>\n",
              "\n",
              "      <script>\n",
              "        const buttonEl =\n",
              "          document.querySelector('#df-b385cc53-3340-45d1-b834-cd03cd40dd33 button.colab-df-convert');\n",
              "        buttonEl.style.display =\n",
              "          google.colab.kernel.accessAllowed ? 'block' : 'none';\n",
              "\n",
              "        async function convertToInteractive(key) {\n",
              "          const element = document.querySelector('#df-b385cc53-3340-45d1-b834-cd03cd40dd33');\n",
              "          const dataTable =\n",
              "            await google.colab.kernel.invokeFunction('convertToInteractive',\n",
              "                                                     [key], {});\n",
              "          if (!dataTable) return;\n",
              "\n",
              "          const docLinkHtml = 'Like what you see? Visit the ' +\n",
              "            '<a target=\"_blank\" href=https://colab.research.google.com/notebooks/data_table.ipynb>data table notebook</a>'\n",
              "            + ' to learn more about interactive tables.';\n",
              "          element.innerHTML = '';\n",
              "          dataTable['output_type'] = 'display_data';\n",
              "          await google.colab.output.renderOutput(dataTable, element);\n",
              "          const docLink = document.createElement('div');\n",
              "          docLink.innerHTML = docLinkHtml;\n",
              "          element.appendChild(docLink);\n",
              "        }\n",
              "      </script>\n",
              "    </div>\n",
              "  </div>\n",
              "  "
            ]
          },
          "metadata": {},
          "execution_count": 33
        }
      ]
    },
    {
      "cell_type": "code",
      "execution_count": 44,
      "metadata": {
        "id": "B8rQWGE4bqYi"
      },
      "outputs": [],
      "source": [
        "f_names = names[names['sex']=='F']\n",
        "f_names_1880s = f_names[f_names['decade']  == 1880]\n",
        "f_names_1940s = f_names[f_names['decade']  == 1940]\n",
        "f_names_1990s = f_names[f_names['decade']  == 1990]"
      ]
    },
    {
      "cell_type": "code",
      "source": [
        "import numpy as np\n",
        "\n",
        "name_list = sorted(['Mary','Emma',\"Georgia\",\"Kim\",\"Marilyn\",\"Alice\",\"Ann\",\"Susan\",\"Suzanne\",\"Louise\"])\n",
        "decades = [f_names_1880s,f_names_1940s,f_names_1990s]\n",
        "decade_names = [1880,1940,1990]\n",
        "data = np.zeros((len(decades),len(name_list)))\n",
        "\n",
        "for (i,dec_df) in enumerate(decades):\n",
        "  for (j,name) in enumerate(name_list):\n",
        "    data[i,j] = dec_df[dec_df['name'] == name]['births'].sum()\n",
        "\n"
      ],
      "metadata": {
        "id": "5myoxCgMkUnN"
      },
      "execution_count": 48,
      "outputs": []
    },
    {
      "cell_type": "code",
      "source": [
        "from matplotlib import pyplot as plt\n",
        "import numpy as np\n",
        "\n",
        "fig, ax = plt.subplots(1,1, figsize = (15,8))\n",
        "#m_lets, m_counts = zip(*sorted(list(male_name_lldist.items())))\n",
        "#f_lets, f_counts = zip(*sorted(list(female_name_lldist.items())))\n",
        "# A sanity check.  Raise an error if the two letter sets\n",
        "# arent the same. if this did happen we would add a letter\n",
        "# with 0 count to make the plot lines align properly\n",
        "#assert m_lets==f_lets, \"Missing letters in distribution\"\n",
        "# Label the x-axis with letters placed where the first 26 integers are.\n",
        "x = np.arange(len(name_list))\n",
        "plt.xticks(x,name_list)\n",
        "for i in range(len(decades)):\n",
        "  ax.plot(x,data[i,:],label=decade_names[i])\n",
        "ax.legend()"
      ],
      "metadata": {
        "id": "KgpHTyhfkc-r",
        "outputId": "769bae3d-b657-428e-9510-b2aca83ca997",
        "colab": {
          "base_uri": "https://localhost:8080/",
          "height": 501
        }
      },
      "execution_count": 52,
      "outputs": [
        {
          "output_type": "execute_result",
          "data": {
            "text/plain": [
              "<matplotlib.legend.Legend at 0x7fe1c013aa10>"
            ]
          },
          "metadata": {},
          "execution_count": 52
        },
        {
          "output_type": "display_data",
          "data": {
            "text/plain": [
              "<Figure size 1080x576 with 1 Axes>"
            ],
            "image/png": "[encoded data removed]"
          },
          "metadata": {
            "needs_background": "light"
          }
        }
      ]
    },
    {
      "cell_type": "code",
      "source": [
        ""
      ],
      "metadata": {
        "id": "n-FFURbTo5XA"
      },
      "execution_count": null,
      "outputs": []
    }
  ],
  "metadata": {
    "colab": {
      "name": "pandas_assignment_solution.ipynb",
      "provenance": []
    },
    "kernelspec": {
      "display_name": "Python 3",
      "language": "python",
      "name": "python3"
    },
    "language_info": {
      "codemirror_mode": {
        "name": "ipython",
        "version": 3
      },
      "file_extension": ".py",
      "mimetype": "text/x-python",
      "name": "python",
      "nbconvert_exporter": "python",
      "pygments_lexer": "ipython3",
      "version": "3.7.0"
    },
    "toc": {
      "base_numbering": 1,
      "nav_menu": {},
      "number_sections": true,
      "sideBar": true,
      "skip_h1_title": false,
      "title_cell": "Table of Contents",
      "title_sidebar": "Contents",
      "toc_cell": false,
      "toc_position": {},
      "toc_section_display": true,
      "toc_window_display": false
    }
  },
  "nbformat": 4,
  "nbformat_minor": 0
}