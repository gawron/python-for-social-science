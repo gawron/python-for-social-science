{
 "cells": [
  {
   "cell_type": "markdown",
   "metadata": {},
   "source": [
    "## See Part Two (thisnotebook needs some editing)"
   ]
  },
  {
   "cell_type": "code",
   "execution_count": 34,
   "metadata": {
    "colab": {
     "base_uri": "https://localhost:8080/"
    },
    "id": "IRi3Ccm7f96h",
    "outputId": "0b4e2413-d72a-444d-f339-db3514d3d925"
   },
   "outputs": [
    {
     "data": {
      "text/plain": [
       "(0.0, 254.0, 0.0, 254.0)"
      ]
     },
     "execution_count": 34,
     "metadata": {},
     "output_type": "execute_result"
    }
   ],
   "source": [
    "# Hillshade index values [0,255]  1 byte\n",
    "hillshade_9AM = data['feature_names'].index('Hillshade_9am')\n",
    "hillshade_3PM = data['feature_names'].index('Hillshade_3pm')\n",
    "col1 = data.data[:,hillshade_9AM]\n",
    "col2 = data.data[:,hillshade_3PM]\n",
    "col1.min(),col1.max(),col2.min(),col2.max()"
   ]
  },
  {
   "cell_type": "code",
   "execution_count": null,
   "metadata": {
    "id": "rfe-qK0disLj"
   },
   "outputs": [],
   "source": []
  },
  {
   "cell_type": "markdown",
   "metadata": {
    "id": "bXZsBxT6Br8C"
   },
   "source": [
    "Example:  `data.data`  is a `numpy` array containing the attributes for the 581,012 samples.  \n"
   ]
  },
  {
   "cell_type": "code",
   "execution_count": null,
   "metadata": {
    "colab": {
     "base_uri": "https://localhost:8080/",
     "height": 51
    },
    "id": "utXMUvh53Aqm",
    "outputId": "6194eecb-1f5c-4dea-d167-0d88c2c059f2"
   },
   "outputs": [
    {
     "name": "stdout",
     "output_type": "stream",
     "text": [
      "<class 'numpy.ndarray'>\n",
      "(581012, 54)\n"
     ]
    }
   ],
   "source": [
    "print(type(data.data))\n",
    "print(data.data.shape)"
   ]
  },
  {
   "cell_type": "markdown",
   "metadata": {
    "id": "N2AaON1X25i1"
   },
   "source": [
    "\n",
    "To compute the Boolean array  that identifies the rows in which attribute 0 is greater than 3000 you do"
   ]
  },
  {
   "cell_type": "code",
   "execution_count": null,
   "metadata": {
    "colab": {
     "base_uri": "https://localhost:8080/",
     "height": 51
    },
    "id": "dVZgDsBLLtxN",
    "outputId": "e5343a78-2d88-46f8-89f9-ea3f603c3199"
   },
   "outputs": [
    {
     "name": "stdout",
     "output_type": "stream",
     "text": [
      "[False False False ... False False False]\n",
      "(581012,) (581012, 54)\n"
     ]
    }
   ],
   "source": [
    "WW = data.data[:,0] > 3000\n",
    "print(WW)\n",
    "print(WW.shape, data.data.shape)"
   ]
  },
  {
   "cell_type": "code",
   "execution_count": null,
   "metadata": {
    "id": "Jekpdcnt_msy",
    "outputId": "8d950206-8b22-4252-e05a-a63fb2319de5"
   },
   "outputs": [
    {
     "data": {
      "text/plain": [
       "286266"
      ]
     },
     "execution_count": 3,
     "metadata": {},
     "output_type": "execute_result"
    }
   ],
   "source": [
    "WW.sum()"
   ]
  },
  {
   "cell_type": "markdown",
   "metadata": {
    "id": "KB4rsLeqjITw"
   },
   "source": [
    "Note the Boolean array has the same number of rows as the entire dataset.  To find the rows that satisfy this condition, you use this Boolean array as a \n",
    "**mask**. That is, you do:"
   ]
  },
  {
   "cell_type": "code",
   "execution_count": null,
   "metadata": {
    "colab": {
     "base_uri": "https://localhost:8080/",
     "height": 153
    },
    "id": "9oDraH9zjNAk",
    "outputId": "7047f46b-0111-4749-fb4e-f0652b72d367"
   },
   "outputs": [
    {
     "name": "stdout",
     "output_type": "stream",
     "text": [
      "[[3008.   45.   14. ...    0.    0.    0.]\n",
      " [3073.  173.   12. ...    0.    0.    0.]\n",
      " [3067.  164.   11. ...    0.    0.    0.]\n",
      " ...\n",
      " [3125.  127.    5. ...    0.    0.    0.]\n",
      " [3126.  120.    4. ...    0.    0.    0.]\n",
      " [3124.  115.    5. ...    0.    0.    0.]]\n"
     ]
    },
    {
     "data": {
      "text/plain": [
       "(286266, 54)"
      ]
     },
     "execution_count": 3,
     "metadata": {},
     "output_type": "execute_result"
    }
   ],
   "source": [
    "print(data.data[WW,:])\n",
    "data.data[WW,:].shape"
   ]
  },
  {
   "cell_type": "markdown",
   "metadata": {
    "id": "ZboNOhxhuXo0"
   },
   "source": [
    "Note the new array contains just the rows that satisfies condition `WW` , so it is smaller.\n",
    "\n",
    "The covertypes (or dominant tree) for each forest plot are in `data.target`.  The `target` attribute is often the attribute used to store the classes in an `sklearn` clasification dataset. There are seven classes."
   ]
  },
  {
   "cell_type": "code",
   "execution_count": null,
   "metadata": {
    "colab": {
     "base_uri": "https://localhost:8080/",
     "height": 51
    },
    "id": "uVjutdGL7KPL",
    "outputId": "7965b8ca-efd9-47e6-fe0b-d51431008d2e"
   },
   "outputs": [
    {
     "name": "stdout",
     "output_type": "stream",
     "text": [
      "(581012,)\n",
      "{1, 2, 3, 4, 5, 6, 7}\n"
     ]
    }
   ],
   "source": [
    "print(data.target.shape)\n",
    "print(set(data.target))"
   ]
  },
  {
   "cell_type": "markdown",
   "metadata": {
    "id": "67sLRncK3VE3"
   },
   "source": [
    "Place your answer to questions 1a and 1b in the next cell."
   ]
  },
  {
   "cell_type": "code",
   "execution_count": 27,
   "metadata": {
    "colab": {
     "base_uri": "https://localhost:8080/"
    },
    "id": "7g9X2_Pb3cLq",
    "outputId": "3c947b96-5946-4c83-9f6a-0107bb3246d2"
   },
   "outputs": [
    {
     "name": "stdout",
     "output_type": "stream",
     "text": [
      "102696\n"
     ]
    },
    {
     "data": {
      "text/plain": [
       "array([[2.686e+03, 3.540e+02, 1.200e+01, ..., 0.000e+00, 0.000e+00,\n",
       "        0.000e+00],\n",
       "       [2.699e+03, 3.470e+02, 3.000e+00, ..., 0.000e+00, 0.000e+00,\n",
       "        0.000e+00],\n",
       "       [2.570e+03, 3.460e+02, 2.000e+00, ..., 0.000e+00, 0.000e+00,\n",
       "        0.000e+00],\n",
       "       ...,\n",
       "       [2.619e+03, 3.360e+02, 1.300e+01, ..., 0.000e+00, 0.000e+00,\n",
       "        0.000e+00],\n",
       "       [2.630e+03, 3.170e+02, 1.200e+01, ..., 0.000e+00, 0.000e+00,\n",
       "        0.000e+00],\n",
       "       [2.633e+03, 3.090e+02, 9.000e+00, ..., 0.000e+00, 0.000e+00,\n",
       "        0.000e+00]])"
      ]
     },
     "execution_count": 27,
     "metadata": {},
     "output_type": "execute_result"
    }
   ],
   "source": [
    "#The rows in the covertype dataset which have a value greater than 300 for attribute 1.\n",
    "# The col indexed 1\n",
    "data.data[:,1] \n",
    "# Boolean array for condition\n",
    "B1 = data.data[:,1] > 300\n",
    "# Question a. How many?\n",
    "print(B1.sum())\n",
    "# Question b. Which rows?\n",
    "data.data[(data.data[:,1] > 300)]"
   ]
  },
  {
   "cell_type": "markdown",
   "metadata": {
    "id": "u3-uU0iL35WX"
   },
   "source": [
    "Place your answer to questions 2a and 2b in the next cell."
   ]
  },
  {
   "cell_type": "code",
   "execution_count": 22,
   "metadata": {
    "colab": {
     "base_uri": "https://localhost:8080/"
    },
    "id": "YvAWgjUs35WY",
    "outputId": "ce1b24cd-2ebf-44e6-957e-97502820e8f8"
   },
   "outputs": [
    {
     "data": {
      "text/plain": [
       "253364"
      ]
     },
     "execution_count": 22,
     "metadata": {},
     "output_type": "execute_result"
    }
   ],
   "source": [
    "#The rows which have attribute 12 (Note: this is a qualitative soil attribute).\n",
    "#B12 = data.data[:,12]  == True\n",
    "B12 = data.data[:,12]  == 1\n",
    "B12.sum()"
   ]
  },
  {
   "cell_type": "code",
   "execution_count": 19,
   "metadata": {
    "colab": {
     "base_uri": "https://localhost:8080/"
    },
    "id": "94qGfsmYFK66",
    "outputId": "33a7aeeb-3724-40fd-f04d-47094ecce33a"
   },
   "outputs": [
    {
     "data": {
      "text/plain": [
       "array([[2621.,  162.,   13., ...,    0.,    0.,    0.],\n",
       "       [2664.,  112.,    5., ...,    0.,    0.,    0.],\n",
       "       [2633.,   68.,    8., ...,    0.,    0.,    0.],\n",
       "       ...,\n",
       "       [2386.,  159.,   17., ...,    0.,    0.,    0.],\n",
       "       [2384.,  170.,   15., ...,    0.,    0.,    0.],\n",
       "       [2383.,  165.,   13., ...,    0.,    0.,    0.]])"
      ]
     },
     "execution_count": 19,
     "metadata": {},
     "output_type": "execute_result"
    }
   ],
   "source": [
    "data.data[B12]"
   ]
  },
  {
   "cell_type": "code",
   "execution_count": 11,
   "metadata": {
    "colab": {
     "base_uri": "https://localhost:8080/"
    },
    "id": "2Jy6lMRJEKsj",
    "outputId": "f4d6a698-975d-4b24-ebbe-40ea14a1127f"
   },
   "outputs": [
    {
     "data": {
      "text/plain": [
       "{0.0, 1.0}"
      ]
     },
     "execution_count": 11,
     "metadata": {},
     "output_type": "execute_result"
    }
   ],
   "source": [
    "set(data.data[:,12])"
   ]
  },
  {
   "cell_type": "code",
   "execution_count": 12,
   "metadata": {
    "colab": {
     "base_uri": "https://localhost:8080/"
    },
    "id": "atcYvTOFEZeZ",
    "outputId": "8187a324-9778-4965-ec88-b7233348d194"
   },
   "outputs": [
    {
     "data": {
      "text/plain": [
       "True"
      ]
     },
     "execution_count": 12,
     "metadata": {},
     "output_type": "execute_result"
    }
   ],
   "source": [
    "True == 1"
   ]
  },
  {
   "cell_type": "code",
   "execution_count": 13,
   "metadata": {
    "colab": {
     "base_uri": "https://localhost:8080/"
    },
    "id": "AWGvwWVMEdQS",
    "outputId": "e713d8af-c824-46c3-d077-efe67075e538"
   },
   "outputs": [
    {
     "data": {
      "text/plain": [
       "True"
      ]
     },
     "execution_count": 13,
     "metadata": {},
     "output_type": "execute_result"
    }
   ],
   "source": [
    "True == 1.0"
   ]
  },
  {
   "cell_type": "code",
   "execution_count": 14,
   "metadata": {
    "colab": {
     "base_uri": "https://localhost:8080/"
    },
    "id": "woMkTOzhEg6K",
    "outputId": "e3b983f1-1bb8-48f3-8fcb-c6275edae7d3"
   },
   "outputs": [
    {
     "data": {
      "text/plain": [
       "True"
      ]
     },
     "execution_count": 14,
     "metadata": {},
     "output_type": "execute_result"
    }
   ],
   "source": [
    "isinstance(True, int)"
   ]
  },
  {
   "cell_type": "code",
   "execution_count": 15,
   "metadata": {
    "colab": {
     "base_uri": "https://localhost:8080/"
    },
    "id": "UMQz8uCkEmAu",
    "outputId": "c669ef7b-09e9-4e12-acb8-c193aff9c8eb"
   },
   "outputs": [
    {
     "data": {
      "text/plain": [
       "4"
      ]
     },
     "execution_count": 15,
     "metadata": {},
     "output_type": "execute_result"
    }
   ],
   "source": [
    "True + 3"
   ]
  },
  {
   "cell_type": "code",
   "execution_count": 16,
   "metadata": {
    "colab": {
     "base_uri": "https://localhost:8080/"
    },
    "id": "MgjE-sIvEwQg",
    "outputId": "3afc4ee7-285b-4f51-9f03-8a54c484189a"
   },
   "outputs": [
    {
     "data": {
      "text/plain": [
       "1.0"
      ]
     },
     "execution_count": 16,
     "metadata": {},
     "output_type": "execute_result"
    }
   ],
   "source": [
    "import math\n",
    "math.sqrt(True)"
   ]
  },
  {
   "cell_type": "markdown",
   "metadata": {
    "id": "ECin676y3wYE"
   },
   "source": [
    "Place your answer to questions 3a and 3b in the next cell."
   ]
  },
  {
   "cell_type": "code",
   "execution_count": 23,
   "metadata": {
    "colab": {
     "base_uri": "https://localhost:8080/"
    },
    "id": "-iSR4qye3wYF",
    "outputId": "682170c7-b03a-4176-9875-a1090f7e9818"
   },
   "outputs": [
    {
     "data": {
      "text/plain": [
       "535765"
      ]
     },
     "execution_count": 23,
     "metadata": {},
     "output_type": "execute_result"
    }
   ],
   "source": [
    "# The entire covertypes dataset excluding rows which belong either to covertype 3 or covertype 5. \n",
    "# (Note: you will have to use two arrays data.data and data.target).\n",
    "B3 = ~((data.target == 3)|(data.target == 5))\n",
    "B3.sum()"
   ]
  },
  {
   "cell_type": "code",
   "execution_count": 26,
   "metadata": {
    "colab": {
     "base_uri": "https://localhost:8080/"
    },
    "id": "WOA8fw67G-zC",
    "outputId": "305ba770-a98d-4be3-8a3c-adf15b586406"
   },
   "outputs": [
    {
     "data": {
      "text/plain": [
       "array([[2804.,  139.,    9., ...,    0.,    0.,    0.],\n",
       "       [2785.,  155.,   18., ...,    0.,    0.,    0.],\n",
       "       [2579.,  132.,    6., ...,    0.,    0.,    0.],\n",
       "       ...,\n",
       "       [2579.,   48.,   21., ...,    0.,    0.,    0.],\n",
       "       [2571.,   55.,   21., ...,    0.,    0.,    0.],\n",
       "       [2638.,  147.,   13., ...,    0.,    0.,    0.]])"
      ]
     },
     "execution_count": 26,
     "metadata": {},
     "output_type": "execute_result"
    }
   ],
   "source": [
    "data.data[B3]"
   ]
  },
  {
   "cell_type": "code",
   "execution_count": 10,
   "metadata": {
    "colab": {
     "base_uri": "https://localhost:8080/"
    },
    "id": "Y6DRpFPHDJYn",
    "outputId": "f57c2052-845a-4e5a-d6ce-951259740445"
   },
   "outputs": [
    {
     "data": {
      "text/plain": [
       "{1, 2, 3, 4, 5, 6, 7}"
      ]
     },
     "execution_count": 10,
     "metadata": {},
     "output_type": "execute_result"
    }
   ],
   "source": [
    "set(data.target)"
   ]
  },
  {
   "cell_type": "markdown",
   "metadata": {
    "id": "gs_sNgos3xvO"
   },
   "source": [
    "Place your answer to questions 4a and 4b in the next cell."
   ]
  },
  {
   "cell_type": "code",
   "execution_count": null,
   "metadata": {
    "id": "UKjXD0Of3xvP"
   },
   "outputs": [],
   "source": [
    "# The rows which have attribute 12 but do not have either covertype 3 or covertype 5."
   ]
  },
  {
   "cell_type": "markdown",
   "metadata": {
    "id": "6wMP2yu736c-"
   },
   "source": [
    "Place your answer to questions 5a and 5b in the next cell."
   ]
  },
  {
   "cell_type": "code",
   "execution_count": null,
   "metadata": {
    "id": "DPvT_qzq36c_"
   },
   "outputs": [],
   "source": [
    "# The rows which are not in covertype 3 or 5, \n",
    "# have a value greater than 300 for attribute 1, and have attribute 12."
   ]
  },
  {
   "cell_type": "markdown",
   "metadata": {},
   "source": [
    "### Part Two\n",
    "\n",
    "Using pandas"
   ]
  },
  {
   "cell_type": "code",
   "execution_count": 1,
   "metadata": {},
   "outputs": [],
   "source": [
    "from sklearn.datasets import fetch_covtype\n",
    "import pandas as pd\n",
    "\n",
    "# Fatch data.data as a pandas DataFrame\n",
    "data = fetch_covtype(as_frame=True)\n",
    "cover_df = data.data"
   ]
  },
  {
   "cell_type": "code",
   "execution_count": 158,
   "metadata": {},
   "outputs": [
    {
     "name": "stdout",
     "output_type": "stream",
     "text": [
      ".. _covtype_dataset:\n",
      "\n",
      "Forest covertypes\n",
      "-----------------\n",
      "\n",
      "The samples in this dataset correspond to 30×30m patches of forest in the US,\n",
      "collected for the task of predicting each patch's cover type,\n",
      "i.e. the dominant species of tree.\n",
      "There are seven covertypes, making this a multiclass classification problem.\n",
      "Each sample has 54 features, described on the\n",
      "`dataset's homepage <https://archive.ics.uci.edu/ml/datasets/Covertype>`__.\n",
      "Some of the features are boolean indicators,\n",
      "while others are discrete or continuous measurements.\n",
      "\n",
      "**Data Set Characteristics:**\n",
      "\n",
      "    =================   ============\n",
      "    Classes                        7\n",
      "    Samples total             581012\n",
      "    Dimensionality                54\n",
      "    Features                     int\n",
      "    =================   ============\n",
      "\n",
      ":func:`sklearn.datasets.fetch_covtype` will load the covertype dataset;\n",
      "it returns a dictionary-like 'Bunch' object\n",
      "with the feature matrix in the ``data`` member\n",
      "and the target values in ``target``. If optional argument 'as_frame' is\n",
      "set to 'True', it will return ``data`` and ``target`` as pandas\n",
      "data frame, and there will be an additional member ``frame`` as well.\n",
      "The dataset will be downloaded from the web if necessary.\n",
      "\n"
     ]
    }
   ],
   "source": [
    "print(data.DESCR)"
   ]
  },
  {
   "cell_type": "markdown",
   "metadata": {},
   "source": [
    "```\n",
    "Attribute Information:\n",
    "\n",
    "Given is the attribute name, attribute type, the measurement unit and a brief description. The forest cover type is the classification problem. The order of this listing corresponds to the order of numerals along the rows of the database.\n",
    "\n",
    "Name / Data Type / Measurement / Description\n",
    "\n",
    "Elevation / quantitative /meters / Elevation in meters\n",
    "Aspect / quantitative / azimuth / Aspect in degrees azimuth\n",
    "Slope / quantitative / degrees / Slope in degrees\n",
    "Horizontal_Distance_To_Hydrology / quantitative / meters / Horz Dist to nearest surface water features\n",
    "Vertical_Distance_To_Hydrology / quantitative / meters / Vert Dist to nearest surface water features\n",
    "Horizontal_Distance_To_Roadways / quantitative / meters / Horz Dist to nearest roadway\n",
    "Hillshade_9am / quantitative / 0 to 255 index / Hillshade index at 9am, summer solstice\n",
    "Hillshade_Noon / quantitative / 0 to 255 index / Hillshade index at noon, summer soltice\n",
    "Hillshade_3pm / quantitative / 0 to 255 index / Hillshade index at 3pm, summer solstice\n",
    "Horizontal_Distance_To_Fire_Points / quantitative / meters / Horz Dist to nearest wildfire ignition points\n",
    "Wilderness_Area (4 binary columns) / qualitative / 0 (absence) or 1 (presence) / Wilderness area designation\n",
    "Soil_Type (40 binary columns) / qualitative / 0 (absence) or 1 (presence) / Soil Type designation\n",
    "Cover_Type (7 types) / integer / 1 to 7 / Forest Cover Type designation\n",
    "```"
   ]
  },
  {
   "cell_type": "code",
   "execution_count": 3,
   "metadata": {},
   "outputs": [
    {
     "data": {
      "text/plain": [
       "pandas.core.frame.DataFrame"
      ]
     },
     "execution_count": 3,
     "metadata": {},
     "output_type": "execute_result"
    }
   ],
   "source": [
    "type(cover_df)"
   ]
  },
  {
   "cell_type": "code",
   "execution_count": 4,
   "metadata": {},
   "outputs": [
    {
     "data": {
      "text/plain": [
       "pandas.core.series.Series"
      ]
     },
     "execution_count": 4,
     "metadata": {},
     "output_type": "execute_result"
    }
   ],
   "source": [
    "type(data.target)"
   ]
  },
  {
   "cell_type": "code",
   "execution_count": 5,
   "metadata": {},
   "outputs": [
    {
     "data": {
      "text/html": [
       "<div>\n",
       "<style scoped>\n",
       "    .dataframe tbody tr th:only-of-type {\n",
       "        vertical-align: middle;\n",
       "    }\n",
       "\n",
       "    .dataframe tbody tr th {\n",
       "        vertical-align: top;\n",
       "    }\n",
       "\n",
       "    .dataframe thead th {\n",
       "        text-align: right;\n",
       "    }\n",
       "</style>\n",
       "<table border=\"1\" class=\"dataframe\">\n",
       "  <thead>\n",
       "    <tr style=\"text-align: right;\">\n",
       "      <th></th>\n",
       "      <th>Elevation</th>\n",
       "      <th>Aspect</th>\n",
       "      <th>Slope</th>\n",
       "      <th>Horizontal_Distance_To_Hydrology</th>\n",
       "      <th>Vertical_Distance_To_Hydrology</th>\n",
       "      <th>Horizontal_Distance_To_Roadways</th>\n",
       "      <th>Hillshade_9am</th>\n",
       "      <th>Hillshade_Noon</th>\n",
       "      <th>Hillshade_3pm</th>\n",
       "      <th>Horizontal_Distance_To_Fire_Points</th>\n",
       "      <th>...</th>\n",
       "      <th>Soil_Type_30</th>\n",
       "      <th>Soil_Type_31</th>\n",
       "      <th>Soil_Type_32</th>\n",
       "      <th>Soil_Type_33</th>\n",
       "      <th>Soil_Type_34</th>\n",
       "      <th>Soil_Type_35</th>\n",
       "      <th>Soil_Type_36</th>\n",
       "      <th>Soil_Type_37</th>\n",
       "      <th>Soil_Type_38</th>\n",
       "      <th>Soil_Type_39</th>\n",
       "    </tr>\n",
       "  </thead>\n",
       "  <tbody>\n",
       "    <tr>\n",
       "      <th>0</th>\n",
       "      <td>2596.0</td>\n",
       "      <td>51.0</td>\n",
       "      <td>3.0</td>\n",
       "      <td>258.0</td>\n",
       "      <td>0.0</td>\n",
       "      <td>510.0</td>\n",
       "      <td>221.0</td>\n",
       "      <td>232.0</td>\n",
       "      <td>148.0</td>\n",
       "      <td>6279.0</td>\n",
       "      <td>...</td>\n",
       "      <td>0.0</td>\n",
       "      <td>0.0</td>\n",
       "      <td>0.0</td>\n",
       "      <td>0.0</td>\n",
       "      <td>0.0</td>\n",
       "      <td>0.0</td>\n",
       "      <td>0.0</td>\n",
       "      <td>0.0</td>\n",
       "      <td>0.0</td>\n",
       "      <td>0.0</td>\n",
       "    </tr>\n",
       "    <tr>\n",
       "      <th>1</th>\n",
       "      <td>2590.0</td>\n",
       "      <td>56.0</td>\n",
       "      <td>2.0</td>\n",
       "      <td>212.0</td>\n",
       "      <td>-6.0</td>\n",
       "      <td>390.0</td>\n",
       "      <td>220.0</td>\n",
       "      <td>235.0</td>\n",
       "      <td>151.0</td>\n",
       "      <td>6225.0</td>\n",
       "      <td>...</td>\n",
       "      <td>0.0</td>\n",
       "      <td>0.0</td>\n",
       "      <td>0.0</td>\n",
       "      <td>0.0</td>\n",
       "      <td>0.0</td>\n",
       "      <td>0.0</td>\n",
       "      <td>0.0</td>\n",
       "      <td>0.0</td>\n",
       "      <td>0.0</td>\n",
       "      <td>0.0</td>\n",
       "    </tr>\n",
       "    <tr>\n",
       "      <th>2</th>\n",
       "      <td>2804.0</td>\n",
       "      <td>139.0</td>\n",
       "      <td>9.0</td>\n",
       "      <td>268.0</td>\n",
       "      <td>65.0</td>\n",
       "      <td>3180.0</td>\n",
       "      <td>234.0</td>\n",
       "      <td>238.0</td>\n",
       "      <td>135.0</td>\n",
       "      <td>6121.0</td>\n",
       "      <td>...</td>\n",
       "      <td>0.0</td>\n",
       "      <td>0.0</td>\n",
       "      <td>0.0</td>\n",
       "      <td>0.0</td>\n",
       "      <td>0.0</td>\n",
       "      <td>0.0</td>\n",
       "      <td>0.0</td>\n",
       "      <td>0.0</td>\n",
       "      <td>0.0</td>\n",
       "      <td>0.0</td>\n",
       "    </tr>\n",
       "    <tr>\n",
       "      <th>3</th>\n",
       "      <td>2785.0</td>\n",
       "      <td>155.0</td>\n",
       "      <td>18.0</td>\n",
       "      <td>242.0</td>\n",
       "      <td>118.0</td>\n",
       "      <td>3090.0</td>\n",
       "      <td>238.0</td>\n",
       "      <td>238.0</td>\n",
       "      <td>122.0</td>\n",
       "      <td>6211.0</td>\n",
       "      <td>...</td>\n",
       "      <td>0.0</td>\n",
       "      <td>0.0</td>\n",
       "      <td>0.0</td>\n",
       "      <td>0.0</td>\n",
       "      <td>0.0</td>\n",
       "      <td>0.0</td>\n",
       "      <td>0.0</td>\n",
       "      <td>0.0</td>\n",
       "      <td>0.0</td>\n",
       "      <td>0.0</td>\n",
       "    </tr>\n",
       "    <tr>\n",
       "      <th>4</th>\n",
       "      <td>2595.0</td>\n",
       "      <td>45.0</td>\n",
       "      <td>2.0</td>\n",
       "      <td>153.0</td>\n",
       "      <td>-1.0</td>\n",
       "      <td>391.0</td>\n",
       "      <td>220.0</td>\n",
       "      <td>234.0</td>\n",
       "      <td>150.0</td>\n",
       "      <td>6172.0</td>\n",
       "      <td>...</td>\n",
       "      <td>0.0</td>\n",
       "      <td>0.0</td>\n",
       "      <td>0.0</td>\n",
       "      <td>0.0</td>\n",
       "      <td>0.0</td>\n",
       "      <td>0.0</td>\n",
       "      <td>0.0</td>\n",
       "      <td>0.0</td>\n",
       "      <td>0.0</td>\n",
       "      <td>0.0</td>\n",
       "    </tr>\n",
       "    <tr>\n",
       "      <th>...</th>\n",
       "      <td>...</td>\n",
       "      <td>...</td>\n",
       "      <td>...</td>\n",
       "      <td>...</td>\n",
       "      <td>...</td>\n",
       "      <td>...</td>\n",
       "      <td>...</td>\n",
       "      <td>...</td>\n",
       "      <td>...</td>\n",
       "      <td>...</td>\n",
       "      <td>...</td>\n",
       "      <td>...</td>\n",
       "      <td>...</td>\n",
       "      <td>...</td>\n",
       "      <td>...</td>\n",
       "      <td>...</td>\n",
       "      <td>...</td>\n",
       "      <td>...</td>\n",
       "      <td>...</td>\n",
       "      <td>...</td>\n",
       "      <td>...</td>\n",
       "    </tr>\n",
       "    <tr>\n",
       "      <th>581007</th>\n",
       "      <td>2396.0</td>\n",
       "      <td>153.0</td>\n",
       "      <td>20.0</td>\n",
       "      <td>85.0</td>\n",
       "      <td>17.0</td>\n",
       "      <td>108.0</td>\n",
       "      <td>240.0</td>\n",
       "      <td>237.0</td>\n",
       "      <td>118.0</td>\n",
       "      <td>837.0</td>\n",
       "      <td>...</td>\n",
       "      <td>0.0</td>\n",
       "      <td>0.0</td>\n",
       "      <td>0.0</td>\n",
       "      <td>0.0</td>\n",
       "      <td>0.0</td>\n",
       "      <td>0.0</td>\n",
       "      <td>0.0</td>\n",
       "      <td>0.0</td>\n",
       "      <td>0.0</td>\n",
       "      <td>0.0</td>\n",
       "    </tr>\n",
       "    <tr>\n",
       "      <th>581008</th>\n",
       "      <td>2391.0</td>\n",
       "      <td>152.0</td>\n",
       "      <td>19.0</td>\n",
       "      <td>67.0</td>\n",
       "      <td>12.0</td>\n",
       "      <td>95.0</td>\n",
       "      <td>240.0</td>\n",
       "      <td>237.0</td>\n",
       "      <td>119.0</td>\n",
       "      <td>845.0</td>\n",
       "      <td>...</td>\n",
       "      <td>0.0</td>\n",
       "      <td>0.0</td>\n",
       "      <td>0.0</td>\n",
       "      <td>0.0</td>\n",
       "      <td>0.0</td>\n",
       "      <td>0.0</td>\n",
       "      <td>0.0</td>\n",
       "      <td>0.0</td>\n",
       "      <td>0.0</td>\n",
       "      <td>0.0</td>\n",
       "    </tr>\n",
       "    <tr>\n",
       "      <th>581009</th>\n",
       "      <td>2386.0</td>\n",
       "      <td>159.0</td>\n",
       "      <td>17.0</td>\n",
       "      <td>60.0</td>\n",
       "      <td>7.0</td>\n",
       "      <td>90.0</td>\n",
       "      <td>236.0</td>\n",
       "      <td>241.0</td>\n",
       "      <td>130.0</td>\n",
       "      <td>854.0</td>\n",
       "      <td>...</td>\n",
       "      <td>0.0</td>\n",
       "      <td>0.0</td>\n",
       "      <td>0.0</td>\n",
       "      <td>0.0</td>\n",
       "      <td>0.0</td>\n",
       "      <td>0.0</td>\n",
       "      <td>0.0</td>\n",
       "      <td>0.0</td>\n",
       "      <td>0.0</td>\n",
       "      <td>0.0</td>\n",
       "    </tr>\n",
       "    <tr>\n",
       "      <th>581010</th>\n",
       "      <td>2384.0</td>\n",
       "      <td>170.0</td>\n",
       "      <td>15.0</td>\n",
       "      <td>60.0</td>\n",
       "      <td>5.0</td>\n",
       "      <td>90.0</td>\n",
       "      <td>230.0</td>\n",
       "      <td>245.0</td>\n",
       "      <td>143.0</td>\n",
       "      <td>864.0</td>\n",
       "      <td>...</td>\n",
       "      <td>0.0</td>\n",
       "      <td>0.0</td>\n",
       "      <td>0.0</td>\n",
       "      <td>0.0</td>\n",
       "      <td>0.0</td>\n",
       "      <td>0.0</td>\n",
       "      <td>0.0</td>\n",
       "      <td>0.0</td>\n",
       "      <td>0.0</td>\n",
       "      <td>0.0</td>\n",
       "    </tr>\n",
       "    <tr>\n",
       "      <th>581011</th>\n",
       "      <td>2383.0</td>\n",
       "      <td>165.0</td>\n",
       "      <td>13.0</td>\n",
       "      <td>60.0</td>\n",
       "      <td>4.0</td>\n",
       "      <td>67.0</td>\n",
       "      <td>231.0</td>\n",
       "      <td>244.0</td>\n",
       "      <td>141.0</td>\n",
       "      <td>875.0</td>\n",
       "      <td>...</td>\n",
       "      <td>0.0</td>\n",
       "      <td>0.0</td>\n",
       "      <td>0.0</td>\n",
       "      <td>0.0</td>\n",
       "      <td>0.0</td>\n",
       "      <td>0.0</td>\n",
       "      <td>0.0</td>\n",
       "      <td>0.0</td>\n",
       "      <td>0.0</td>\n",
       "      <td>0.0</td>\n",
       "    </tr>\n",
       "  </tbody>\n",
       "</table>\n",
       "<p>581012 rows × 54 columns</p>\n",
       "</div>"
      ],
      "text/plain": [
       "        Elevation  Aspect  Slope  Horizontal_Distance_To_Hydrology  \\\n",
       "0          2596.0    51.0    3.0                             258.0   \n",
       "1          2590.0    56.0    2.0                             212.0   \n",
       "2          2804.0   139.0    9.0                             268.0   \n",
       "3          2785.0   155.0   18.0                             242.0   \n",
       "4          2595.0    45.0    2.0                             153.0   \n",
       "...           ...     ...    ...                               ...   \n",
       "581007     2396.0   153.0   20.0                              85.0   \n",
       "581008     2391.0   152.0   19.0                              67.0   \n",
       "581009     2386.0   159.0   17.0                              60.0   \n",
       "581010     2384.0   170.0   15.0                              60.0   \n",
       "581011     2383.0   165.0   13.0                              60.0   \n",
       "\n",
       "        Vertical_Distance_To_Hydrology  Horizontal_Distance_To_Roadways  \\\n",
       "0                                  0.0                            510.0   \n",
       "1                                 -6.0                            390.0   \n",
       "2                                 65.0                           3180.0   \n",
       "3                                118.0                           3090.0   \n",
       "4                                 -1.0                            391.0   \n",
       "...                                ...                              ...   \n",
       "581007                            17.0                            108.0   \n",
       "581008                            12.0                             95.0   \n",
       "581009                             7.0                             90.0   \n",
       "581010                             5.0                             90.0   \n",
       "581011                             4.0                             67.0   \n",
       "\n",
       "        Hillshade_9am  Hillshade_Noon  Hillshade_3pm  \\\n",
       "0               221.0           232.0          148.0   \n",
       "1               220.0           235.0          151.0   \n",
       "2               234.0           238.0          135.0   \n",
       "3               238.0           238.0          122.0   \n",
       "4               220.0           234.0          150.0   \n",
       "...               ...             ...            ...   \n",
       "581007          240.0           237.0          118.0   \n",
       "581008          240.0           237.0          119.0   \n",
       "581009          236.0           241.0          130.0   \n",
       "581010          230.0           245.0          143.0   \n",
       "581011          231.0           244.0          141.0   \n",
       "\n",
       "        Horizontal_Distance_To_Fire_Points  ...  Soil_Type_30  Soil_Type_31  \\\n",
       "0                                   6279.0  ...           0.0           0.0   \n",
       "1                                   6225.0  ...           0.0           0.0   \n",
       "2                                   6121.0  ...           0.0           0.0   \n",
       "3                                   6211.0  ...           0.0           0.0   \n",
       "4                                   6172.0  ...           0.0           0.0   \n",
       "...                                    ...  ...           ...           ...   \n",
       "581007                               837.0  ...           0.0           0.0   \n",
       "581008                               845.0  ...           0.0           0.0   \n",
       "581009                               854.0  ...           0.0           0.0   \n",
       "581010                               864.0  ...           0.0           0.0   \n",
       "581011                               875.0  ...           0.0           0.0   \n",
       "\n",
       "        Soil_Type_32  Soil_Type_33  Soil_Type_34  Soil_Type_35  Soil_Type_36  \\\n",
       "0                0.0           0.0           0.0           0.0           0.0   \n",
       "1                0.0           0.0           0.0           0.0           0.0   \n",
       "2                0.0           0.0           0.0           0.0           0.0   \n",
       "3                0.0           0.0           0.0           0.0           0.0   \n",
       "4                0.0           0.0           0.0           0.0           0.0   \n",
       "...              ...           ...           ...           ...           ...   \n",
       "581007           0.0           0.0           0.0           0.0           0.0   \n",
       "581008           0.0           0.0           0.0           0.0           0.0   \n",
       "581009           0.0           0.0           0.0           0.0           0.0   \n",
       "581010           0.0           0.0           0.0           0.0           0.0   \n",
       "581011           0.0           0.0           0.0           0.0           0.0   \n",
       "\n",
       "        Soil_Type_37  Soil_Type_38  Soil_Type_39  \n",
       "0                0.0           0.0           0.0  \n",
       "1                0.0           0.0           0.0  \n",
       "2                0.0           0.0           0.0  \n",
       "3                0.0           0.0           0.0  \n",
       "4                0.0           0.0           0.0  \n",
       "...              ...           ...           ...  \n",
       "581007           0.0           0.0           0.0  \n",
       "581008           0.0           0.0           0.0  \n",
       "581009           0.0           0.0           0.0  \n",
       "581010           0.0           0.0           0.0  \n",
       "581011           0.0           0.0           0.0  \n",
       "\n",
       "[581012 rows x 54 columns]"
      ]
     },
     "execution_count": 5,
     "metadata": {},
     "output_type": "execute_result"
    }
   ],
   "source": [
    "cover_df"
   ]
  },
  {
   "cell_type": "markdown",
   "metadata": {
    "id": "LXs4hfRjwmqL"
   },
   "source": [
    "What is meant by saying we have 4 binary columns giving the wilderness area?"
   ]
  },
  {
   "cell_type": "code",
   "execution_count": 25,
   "metadata": {
    "colab": {
     "base_uri": "https://localhost:8080/"
    },
    "id": "JU-gAOc3YxQ6",
    "outputId": "b208daca-cfee-49c7-edbb-26b3bec026e0"
   },
   "outputs": [
    {
     "data": {
      "text/plain": [
       "0         1.0\n",
       "1         1.0\n",
       "2         1.0\n",
       "3         1.0\n",
       "4         1.0\n",
       "         ... \n",
       "581007    0.0\n",
       "581008    0.0\n",
       "581009    0.0\n",
       "581010    0.0\n",
       "581011    0.0\n",
       "Name: Wilderness_Area_0, Length: 581012, dtype: float64"
      ]
     },
     "execution_count": 25,
     "metadata": {},
     "output_type": "execute_result"
    }
   ],
   "source": [
    "cover_df['Wilderness_Area_0']"
   ]
  },
  {
   "cell_type": "markdown",
   "metadata": {},
   "source": [
    "`Wilderness_0` is a binary column containing only the values 0 and 1. \n",
    "Similarly for `Wilderness_1`,  `Wilderness_2`, and  `Wilderness_3`."
   ]
  },
  {
   "cell_type": "markdown",
   "metadata": {},
   "source": [
    "Do any rows belong to more than one wilderness type?  "
   ]
  },
  {
   "cell_type": "code",
   "execution_count": 13,
   "metadata": {
    "colab": {
     "base_uri": "https://localhost:8080/"
    },
    "id": "uhuUgm57bHPS",
    "outputId": "6137e54a-54a7-48b8-f7d5-557475f31a7f"
   },
   "outputs": [
    {
     "data": {
      "text/plain": [
       "(False, False, False, False, False, False)"
      ]
     },
     "execution_count": 13,
     "metadata": {},
     "output_type": "execute_result"
    }
   ],
   "source": [
    "\n",
    "Bwilderness10 = (cover_df['Wilderness_Area_0'] == 1.0) & (cover_df['Wilderness_Area_1'] == 1.0)\n",
    "Bwilderness20 = (cover_df['Wilderness_Area_0'] == 1.0) & (cover_df['Wilderness_Area_2'] == 1.0)\n",
    "Bwilderness30 = (cover_df['Wilderness_Area_0'] == 1.0) & (cover_df['Wilderness_Area_3'] == 1.0)\n",
    "Bwilderness21 = (cover_df['Wilderness_Area_2'] == 1.0) & (cover_df['Wilderness_Area_1'] == 1.0)\n",
    "Bwilderness31 = (cover_df['Wilderness_Area_3'] == 1.0) & (cover_df['Wilderness_Area_1'] == 1.0)\n",
    "Bwilderness33 = (cover_df['Wilderness_Area_3'] == 1.0) & (cover_df['Wilderness_Area_2'] == 1.0)\n",
    "Bwilderness10.any(),Bwilderness20.any(),Bwilderness30.any(),Bwilderness21.any(),\\\n",
    "     Bwilderness31.any(),Bwilderness33.any(),"
   ]
  },
  {
   "cell_type": "markdown",
   "metadata": {},
   "source": [
    "No."
   ]
  },
  {
   "cell_type": "markdown",
   "metadata": {},
   "source": [
    "Let's collapse these four columns into one categorical column.  This will make it easier  to do grouping\n",
    "defined by wilderness area.\n",
    "\n",
    "`df.idxmax(axis=1)` returns a `Series` containing the column name of the column with the max value\n",
    "for each row of `df` (it is the analog of `a.argmax(axis=1)` in `numpy`, which the returns \n",
    "a 1D array containing the index of the max value for each row in `a`).  We apply `.idxmax(axis=1)` to \n",
    "a `DataFrame` containing just the wilderness columns."
   ]
  },
  {
   "cell_type": "code",
   "execution_count": 21,
   "metadata": {},
   "outputs": [],
   "source": [
    "#df.idxmax(axis=1)\n",
    "wa_col = cover_df.loc[:,'Wilderness_Area_0':'Wilderness_Area_3'].idxmax(axis=1)"
   ]
  },
  {
   "cell_type": "code",
   "execution_count": 15,
   "metadata": {},
   "outputs": [
    {
     "data": {
      "text/plain": [
       "0         Wilderness_Area_0\n",
       "1         Wilderness_Area_0\n",
       "2         Wilderness_Area_0\n",
       "3         Wilderness_Area_0\n",
       "4         Wilderness_Area_0\n",
       "                ...        \n",
       "581007    Wilderness_Area_2\n",
       "581008    Wilderness_Area_2\n",
       "581009    Wilderness_Area_2\n",
       "581010    Wilderness_Area_2\n",
       "581011    Wilderness_Area_2\n",
       "Length: 581012, dtype: object"
      ]
     },
     "execution_count": 15,
     "metadata": {},
     "output_type": "execute_result"
    }
   ],
   "source": [
    "wa_col"
   ]
  },
  {
   "cell_type": "markdown",
   "metadata": {},
   "source": [
    "Let's do a sanity check.  Did we lose any information?\n",
    "\n",
    "First, get the value counts for our new column."
   ]
  },
  {
   "cell_type": "code",
   "execution_count": 19,
   "metadata": {
    "scrolled": false
   },
   "outputs": [
    {
     "data": {
      "text/plain": [
       "Wilderness_Area_0    260796\n",
       "Wilderness_Area_2    253364\n",
       "Wilderness_Area_3     36968\n",
       "Wilderness_Area_1     29884\n",
       "dtype: int64"
      ]
     },
     "execution_count": 19,
     "metadata": {},
     "output_type": "execute_result"
    }
   ],
   "source": [
    "wa_col.value_counts()"
   ]
  },
  {
   "cell_type": "markdown",
   "metadata": {},
   "source": [
    "Now the value counts in `cover_df`, which is of course a little more awkward.  We need to sum \n",
    "each of the 4 columns."
   ]
  },
  {
   "cell_type": "code",
   "execution_count": 18,
   "metadata": {},
   "outputs": [
    {
     "data": {
      "text/plain": [
       "Wilderness_Area_0    260796.0\n",
       "Wilderness_Area_1     29884.0\n",
       "Wilderness_Area_2    253364.0\n",
       "Wilderness_Area_3     36968.0\n",
       "dtype: float64"
      ]
     },
     "execution_count": 18,
     "metadata": {},
     "output_type": "execute_result"
    }
   ],
   "source": [
    "\n",
    "col_counts = cover_df.loc[:,'Wilderness_Area_0':'Wilderness_Area_3'].sum()\n",
    "## A series labeled by the col names\n",
    "col_counts"
   ]
  },
  {
   "cell_type": "markdown",
   "metadata": {},
   "source": [
    "They look the same, but let's make it official\n",
    "and do a programmatic check.  We sort the index of `wa_col.value_counts()` to line\n",
    "up the two indices, and do `==`."
   ]
  },
  {
   "cell_type": "code",
   "execution_count": 31,
   "metadata": {
    "scrolled": false
   },
   "outputs": [
    {
     "data": {
      "text/plain": [
       "Wilderness_Area_0    True\n",
       "Wilderness_Area_1    True\n",
       "Wilderness_Area_2    True\n",
       "Wilderness_Area_3    True\n",
       "dtype: bool"
      ]
     },
     "execution_count": 31,
     "metadata": {},
     "output_type": "execute_result"
    }
   ],
   "source": [
    "(wa_col.value_counts().sort_index() == col_counts)"
   ]
  },
  {
   "cell_type": "markdown",
   "metadata": {},
   "source": [
    "Ok.  So it's a valid conversion.  No information has been lost.  \n",
    "\n",
    "Maybe it'll be useful for the problems below.  "
   ]
  },
  {
   "cell_type": "markdown",
   "metadata": {},
   "source": [
    "### Exercises"
   ]
  },
  {
   "cell_type": "markdown",
   "metadata": {},
   "source": [
    "Q1: What are the mean horizontal distances to hydrology for each cover type,\n",
    "from highest to lowest?\n",
    "\n",
    "Step One: Produce a `panda Series` whose index is the cover types and whose values\n",
    "are the mean horizontal distance to hydrology. (Use groupby)\n",
    "\n",
    "Step Two: Sort it from highest to lowest."
   ]
  },
  {
   "cell_type": "code",
   "execution_count": 157,
   "metadata": {},
   "outputs": [
    {
     "data": {
      "text/plain": [
       "Cover_Type\n",
       "7    356.994686\n",
       "2    279.916442\n",
       "1    270.555245\n",
       "5    212.354893\n",
       "3    210.276473\n",
       "6    159.853458\n",
       "4    106.934838\n",
       "Name: Horizontal_Distance_To_Hydrology, dtype: float64"
      ]
     },
     "execution_count": 157,
     "metadata": {},
     "output_type": "execute_result"
    }
   ],
   "source": [
    "target_groups = data.data.groupby(data.target)\n",
    "water_means = target_groups['Horizontal_Distance_To_Hydrology'].mean()\n",
    "sorted_water = water_means.sort_values(ascending=False)\n",
    "# A series indexed by cover type\n",
    "sorted_water"
   ]
  },
  {
   "cell_type": "markdown",
   "metadata": {},
   "source": [
    "Q2:  Which kind of wilderness area has the highest mean slope?\n",
    "\n",
    "Produce a Series indexed by wilderness types. You can do this with\n",
    "`groupby` but you need to either write a function that applies to `data.data` rows (actually\n",
    "to row indices) and computes the wilderness type (see the groupby docs for using a function for grouping) or produce a sequence that assigns  the right wilderness type to each row."
   ]
  },
  {
   "cell_type": "code",
   "execution_count": 1,
   "metadata": {},
   "outputs": [
    {
     "ename": "NameError",
     "evalue": "name 'data' is not defined",
     "output_type": "error",
     "traceback": [
      "\u001b[0;31m---------------------------------------------------------------------------\u001b[0m",
      "\u001b[0;31mNameError\u001b[0m                                 Traceback (most recent call last)",
      "\u001b[0;32m/var/folders/w9/bx4mylnd27g_kqqgn5hrn2x40000gr/T/ipykernel_11950/2084860130.py\u001b[0m in \u001b[0;36m<module>\u001b[0;34m\u001b[0m\n\u001b[1;32m      1\u001b[0m \u001b[0;31m# Idea:  take the sequence-that-assigns-wilderness-type route. Use wa_col (computed above).\u001b[0m\u001b[0;34m\u001b[0m\u001b[0;34m\u001b[0m\u001b[0m\n\u001b[0;32m----> 2\u001b[0;31m \u001b[0mdata\u001b[0m\u001b[0;34m.\u001b[0m\u001b[0mdata\u001b[0m\u001b[0;34m.\u001b[0m\u001b[0mgroupby\u001b[0m\u001b[0;34m(\u001b[0m\u001b[0mwa_col\u001b[0m\u001b[0;34m)\u001b[0m\u001b[0;34m[\u001b[0m\u001b[0;34m'Slope'\u001b[0m\u001b[0;34m]\u001b[0m\u001b[0;34m.\u001b[0m\u001b[0mmean\u001b[0m\u001b[0;34m(\u001b[0m\u001b[0;34m)\u001b[0m\u001b[0;34m\u001b[0m\u001b[0;34m\u001b[0m\u001b[0m\n\u001b[0m",
      "\u001b[0;31mNameError\u001b[0m: name 'data' is not defined"
     ]
    }
   ],
   "source": [
    "# Idea:  take the sequence-that-assigns-wilderness-type route. Use wa_col (computed above).  \n",
    "data.data.groupby(wa_col)['Slope'].mean()"
   ]
  },
  {
   "cell_type": "markdown",
   "metadata": {},
   "source": [
    "Solution two:\n",
    "\n",
    "Use a function on rows with groupby to find the same grouping.\n",
    "\n",
    "Note that the grouping operation with a function is significantly slower\n",
    "than it is using a pre-computed column"
   ]
  },
  {
   "cell_type": "code",
   "execution_count": 190,
   "metadata": {},
   "outputs": [
    {
     "data": {
      "text/plain": [
       "0    12.157292\n",
       "1    12.937893\n",
       "2    15.173786\n",
       "3    21.443438\n",
       "Name: Slope, dtype: float64"
      ]
     },
     "execution_count": 190,
     "metadata": {},
     "output_type": "execute_result"
    }
   ],
   "source": [
    "def get_wild_type(row):\n",
    "    # return the index of the selected column that has a 1 in it\n",
    "    # row[col_i:col_j].argmax() -> the index 0-(n-1) of the n selected cols that has a 1 in it.\n",
    "    # assuming row[col_i:col_j] is a sequence of binary cols with a unique 1 in each row.\n",
    "    return data.data.loc[:,'Wilderness_Area_0':'Wilderness_Area_3'].iloc[row].argmax()\n",
    "\n",
    "gg = data.data.groupby(get_wild_type)\n",
    "gg['Slope'].mean()"
   ]
  },
  {
   "cell_type": "markdown",
   "metadata": {},
   "source": [
    "Q3:  What are the mean elevations for each wilderness area type?\n",
    "\n",
    "Produce a Series indexed by wilderness area types. You can do this with\n",
    "`groupby` but you need to either write a function that applies to rows\n",
    "and computes the wilderness type (see the groupby docs for using a function for grouping)\n",
    "or produce a sequence that assigns  the right wilderness type to each row."
   ]
  },
  {
   "cell_type": "code",
   "execution_count": 129,
   "metadata": {},
   "outputs": [
    {
     "data": {
      "text/plain": [
       "Wilderness_Area_0    3000.267286\n",
       "Wilderness_Area_1    3245.727814\n",
       "Wilderness_Area_2    2980.554471\n",
       "Wilderness_Area_3    2294.106038\n",
       "Name: Elevation, dtype: float64"
      ]
     },
     "execution_count": 129,
     "metadata": {},
     "output_type": "execute_result"
    }
   ],
   "source": [
    "\n",
    "elevation_means = data.data.groupby(wa_col)['Elevation'].mean()\n",
    "elevation_means"
   ]
  },
  {
   "cell_type": "markdown",
   "metadata": {},
   "source": [
    "Solution two:\n",
    "\n",
    "Use a function on rows to find the same grouping."
   ]
  },
  {
   "cell_type": "code",
   "execution_count": 155,
   "metadata": {},
   "outputs": [
    {
     "data": {
      "text/plain": [
       "0    3000.267286\n",
       "1    3245.727814\n",
       "2    2980.554471\n",
       "3    2294.106038\n",
       "Name: Elevation, dtype: float64"
      ]
     },
     "execution_count": 155,
     "metadata": {},
     "output_type": "execute_result"
    }
   ],
   "source": [
    "# Commented out because it's a costly computation\n",
    "# and it's the same gg we computed for the last problem\n",
    "# gg = data.data.groupby(get_wild_type)\n",
    "gg['Elevation'].mean()"
   ]
  },
  {
   "cell_type": "markdown",
   "metadata": {},
   "source": [
    "Note we can also produce a `DataFrame` for the\n",
    "combined results from last two \n",
    "problems by just doing:"
   ]
  },
  {
   "cell_type": "code",
   "execution_count": 156,
   "metadata": {
    "scrolled": true
   },
   "outputs": [
    {
     "data": {
      "text/html": [
       "<div>\n",
       "<style scoped>\n",
       "    .dataframe tbody tr th:only-of-type {\n",
       "        vertical-align: middle;\n",
       "    }\n",
       "\n",
       "    .dataframe tbody tr th {\n",
       "        vertical-align: top;\n",
       "    }\n",
       "\n",
       "    .dataframe thead th {\n",
       "        text-align: right;\n",
       "    }\n",
       "</style>\n",
       "<table border=\"1\" class=\"dataframe\">\n",
       "  <thead>\n",
       "    <tr style=\"text-align: right;\">\n",
       "      <th></th>\n",
       "      <th>Slope</th>\n",
       "      <th>Elevation</th>\n",
       "    </tr>\n",
       "  </thead>\n",
       "  <tbody>\n",
       "    <tr>\n",
       "      <th>0</th>\n",
       "      <td>12.157292</td>\n",
       "      <td>3000.267286</td>\n",
       "    </tr>\n",
       "    <tr>\n",
       "      <th>1</th>\n",
       "      <td>12.937893</td>\n",
       "      <td>3245.727814</td>\n",
       "    </tr>\n",
       "    <tr>\n",
       "      <th>2</th>\n",
       "      <td>15.173786</td>\n",
       "      <td>2980.554471</td>\n",
       "    </tr>\n",
       "    <tr>\n",
       "      <th>3</th>\n",
       "      <td>21.443438</td>\n",
       "      <td>2294.106038</td>\n",
       "    </tr>\n",
       "  </tbody>\n",
       "</table>\n",
       "</div>"
      ],
      "text/plain": [
       "       Slope    Elevation\n",
       "0  12.157292  3000.267286\n",
       "1  12.937893  3245.727814\n",
       "2  15.173786  2980.554471\n",
       "3  21.443438  2294.106038"
      ]
     },
     "execution_count": 156,
     "metadata": {},
     "output_type": "execute_result"
    }
   ],
   "source": [
    "gg[['Slope','Elevation']].mean()"
   ]
  },
  {
   "cell_type": "markdown",
   "metadata": {},
   "source": [
    "### Q4\n",
    "\n",
    "a.  Construct a DataFrame `cts` which for each cover type  c and each soil type s gives the percentage\n",
    "of plots of type c with soil of type s. Hint One: Start by constructing a `Series` that gives the soil type \n",
    "of each row of `data.data`. Hint Two: Read the docs for `pd.crosstab()`.\n",
    "\n",
    "b. Use `cts` to find the dominant soil type for each cover type. (Hint: Use `.idxmax()`)\n",
    "\n",
    "c. Write an expression that selects the cover types that have one soil type in over 50% of the sampled plots.\n",
    "\n",
    "d.  Construct a DataFrame `cts_r` which for each cover type  c and each soil type s gives the percentage\n",
    "of plots with soil type s that are of cover type c.\n",
    "\n",
    "e. Use `cts_r` to find the dominant cover type for each soil type.\n",
    "\n",
    "f. Write an expression that selects the soil types that can only be found with a single cover type."
   ]
  },
  {
   "cell_type": "markdown",
   "metadata": {},
   "source": [
    "### Solutions (Q4 a. - f.)"
   ]
  },
  {
   "cell_type": "markdown",
   "metadata": {},
   "source": [
    "Q4a.  Construct a DataFrame `cts` which for each cover type  c and each soil type s gives the percentage\n",
    "of plots of type c with soil of type s."
   ]
  },
  {
   "cell_type": "code",
   "execution_count": 308,
   "metadata": {},
   "outputs": [
    {
     "data": {
      "text/html": [
       "<table border=\"1\" class=\"dataframe\">\n",
       "  <thead>\n",
       "    <tr style=\"text-align: right;\">\n",
       "      <th>Cover_Type</th>\n",
       "      <th>1</th>\n",
       "      <th>2</th>\n",
       "      <th>3</th>\n",
       "      <th>4</th>\n",
       "      <th>5</th>\n",
       "      <th>6</th>\n",
       "      <th>7</th>\n",
       "    </tr>\n",
       "    <tr>\n",
       "      <th>Soil</th>\n",
       "      <th></th>\n",
       "      <th></th>\n",
       "      <th></th>\n",
       "      <th></th>\n",
       "      <th></th>\n",
       "      <th></th>\n",
       "      <th></th>\n",
       "    </tr>\n",
       "  </thead>\n",
       "  <tbody>\n",
       "    <tr>\n",
       "      <th>Soil_Type_0</th>\n",
       "      <td>0.000</td>\n",
       "      <td>0.000</td>\n",
       "      <td>0.059</td>\n",
       "      <td>0.065</td>\n",
       "      <td>0.000</td>\n",
       "      <td>0.043</td>\n",
       "      <td>0.000</td>\n",
       "    </tr>\n",
       "    <tr>\n",
       "      <th>Soil_Type_1</th>\n",
       "      <td>0.000</td>\n",
       "      <td>0.003</td>\n",
       "      <td>0.140</td>\n",
       "      <td>0.042</td>\n",
       "      <td>0.028</td>\n",
       "      <td>0.075</td>\n",
       "      <td>0.000</td>\n",
       "    </tr>\n",
       "    <tr>\n",
       "      <th>Soil_Type_2</th>\n",
       "      <td>0.000</td>\n",
       "      <td>0.004</td>\n",
       "      <td>0.067</td>\n",
       "      <td>0.371</td>\n",
       "      <td>0.000</td>\n",
       "      <td>0.012</td>\n",
       "      <td>0.000</td>\n",
       "    </tr>\n",
       "    <tr>\n",
       "      <th>Soil_Type_3</th>\n",
       "      <td>0.001</td>\n",
       "      <td>0.011</td>\n",
       "      <td>0.210</td>\n",
       "      <td>0.061</td>\n",
       "      <td>0.062</td>\n",
       "      <td>0.036</td>\n",
       "      <td>0.004</td>\n",
       "    </tr>\n",
       "    <tr>\n",
       "      <th>Soil_Type_4</th>\n",
       "      <td>0.000</td>\n",
       "      <td>0.000</td>\n",
       "      <td>0.027</td>\n",
       "      <td>0.017</td>\n",
       "      <td>0.000</td>\n",
       "      <td>0.034</td>\n",
       "      <td>0.000</td>\n",
       "    </tr>\n",
       "    <tr>\n",
       "      <th>Soil_Type_5</th>\n",
       "      <td>0.000</td>\n",
       "      <td>0.003</td>\n",
       "      <td>0.112</td>\n",
       "      <td>0.116</td>\n",
       "      <td>0.000</td>\n",
       "      <td>0.078</td>\n",
       "      <td>0.000</td>\n",
       "    </tr>\n",
       "    <tr>\n",
       "      <th>Soil_Type_6</th>\n",
       "      <td>0.000</td>\n",
       "      <td>0.000</td>\n",
       "      <td>0.000</td>\n",
       "      <td>0.000</td>\n",
       "      <td>0.000</td>\n",
       "      <td>0.000</td>\n",
       "      <td>0.000</td>\n",
       "    </tr>\n",
       "    <tr>\n",
       "      <th>Soil_Type_7</th>\n",
       "      <td>0.000</td>\n",
       "      <td>0.000</td>\n",
       "      <td>0.000</td>\n",
       "      <td>0.000</td>\n",
       "      <td>0.000</td>\n",
       "      <td>0.000</td>\n",
       "      <td>0.000</td>\n",
       "    </tr>\n",
       "    <tr>\n",
       "      <th>Soil_Type_8</th>\n",
       "      <td>0.001</td>\n",
       "      <td>0.003</td>\n",
       "      <td>0.000</td>\n",
       "      <td>0.000</td>\n",
       "      <td>0.000</td>\n",
       "      <td>0.000</td>\n",
       "      <td>0.000</td>\n",
       "    </tr>\n",
       "    <tr>\n",
       "      <th>Soil_Type_9</th>\n",
       "      <td>0.005</td>\n",
       "      <td>0.038</td>\n",
       "      <td>0.323</td>\n",
       "      <td>0.082</td>\n",
       "      <td>0.027</td>\n",
       "      <td>0.510</td>\n",
       "      <td>0.000</td>\n",
       "    </tr>\n",
       "    <tr>\n",
       "      <th>Soil_Type_10</th>\n",
       "      <td>0.004</td>\n",
       "      <td>0.032</td>\n",
       "      <td>0.038</td>\n",
       "      <td>0.012</td>\n",
       "      <td>0.072</td>\n",
       "      <td>0.030</td>\n",
       "      <td>0.000</td>\n",
       "    </tr>\n",
       "    <tr>\n",
       "      <th>Soil_Type_11</th>\n",
       "      <td>0.013</td>\n",
       "      <td>0.096</td>\n",
       "      <td>0.000</td>\n",
       "      <td>0.000</td>\n",
       "      <td>0.000</td>\n",
       "      <td>0.000</td>\n",
       "      <td>0.000</td>\n",
       "    </tr>\n",
       "    <tr>\n",
       "      <th>Soil_Type_12</th>\n",
       "      <td>0.010</td>\n",
       "      <td>0.047</td>\n",
       "      <td>0.001</td>\n",
       "      <td>0.000</td>\n",
       "      <td>0.139</td>\n",
       "      <td>0.035</td>\n",
       "      <td>0.000</td>\n",
       "    </tr>\n",
       "    <tr>\n",
       "      <th>Soil_Type_13</th>\n",
       "      <td>0.000</td>\n",
       "      <td>0.000</td>\n",
       "      <td>0.003</td>\n",
       "      <td>0.056</td>\n",
       "      <td>0.000</td>\n",
       "      <td>0.019</td>\n",
       "      <td>0.000</td>\n",
       "    </tr>\n",
       "    <tr>\n",
       "      <th>Soil_Type_14</th>\n",
       "      <td>0.000</td>\n",
       "      <td>0.000</td>\n",
       "      <td>0.000</td>\n",
       "      <td>0.000</td>\n",
       "      <td>0.000</td>\n",
       "      <td>0.000</td>\n",
       "      <td>0.000</td>\n",
       "    </tr>\n",
       "    <tr>\n",
       "      <th>Soil_Type_15</th>\n",
       "      <td>0.003</td>\n",
       "      <td>0.006</td>\n",
       "      <td>0.004</td>\n",
       "      <td>0.019</td>\n",
       "      <td>0.004</td>\n",
       "      <td>0.014</td>\n",
       "      <td>0.000</td>\n",
       "    </tr>\n",
       "    <tr>\n",
       "      <th>Soil_Type_16</th>\n",
       "      <td>0.001</td>\n",
       "      <td>0.003</td>\n",
       "      <td>0.014</td>\n",
       "      <td>0.159</td>\n",
       "      <td>0.063</td>\n",
       "      <td>0.041</td>\n",
       "      <td>0.000</td>\n",
       "    </tr>\n",
       "    <tr>\n",
       "      <th>Soil_Type_17</th>\n",
       "      <td>0.000</td>\n",
       "      <td>0.006</td>\n",
       "      <td>0.000</td>\n",
       "      <td>0.000</td>\n",
       "      <td>0.018</td>\n",
       "      <td>0.000</td>\n",
       "      <td>0.000</td>\n",
       "    </tr>\n",
       "    <tr>\n",
       "      <th>Soil_Type_18</th>\n",
       "      <td>0.012</td>\n",
       "      <td>0.005</td>\n",
       "      <td>0.000</td>\n",
       "      <td>0.000</td>\n",
       "      <td>0.007</td>\n",
       "      <td>0.000</td>\n",
       "      <td>0.000</td>\n",
       "    </tr>\n",
       "    <tr>\n",
       "      <th>Soil_Type_19</th>\n",
       "      <td>0.018</td>\n",
       "      <td>0.018</td>\n",
       "      <td>0.000</td>\n",
       "      <td>0.000</td>\n",
       "      <td>0.006</td>\n",
       "      <td>0.016</td>\n",
       "      <td>0.000</td>\n",
       "    </tr>\n",
       "    <tr>\n",
       "      <th>Soil_Type_20</th>\n",
       "      <td>0.004</td>\n",
       "      <td>0.000</td>\n",
       "      <td>0.000</td>\n",
       "      <td>0.000</td>\n",
       "      <td>0.000</td>\n",
       "      <td>0.000</td>\n",
       "      <td>0.001</td>\n",
       "    </tr>\n",
       "    <tr>\n",
       "      <th>Soil_Type_21</th>\n",
       "      <td>0.122</td>\n",
       "      <td>0.026</td>\n",
       "      <td>0.000</td>\n",
       "      <td>0.000</td>\n",
       "      <td>0.000</td>\n",
       "      <td>0.000</td>\n",
       "      <td>0.007</td>\n",
       "    </tr>\n",
       "    <tr>\n",
       "      <th>Soil_Type_22</th>\n",
       "      <td>0.168</td>\n",
       "      <td>0.073</td>\n",
       "      <td>0.000</td>\n",
       "      <td>0.000</td>\n",
       "      <td>0.074</td>\n",
       "      <td>0.002</td>\n",
       "      <td>0.034</td>\n",
       "    </tr>\n",
       "    <tr>\n",
       "      <th>Soil_Type_23</th>\n",
       "      <td>0.053</td>\n",
       "      <td>0.034</td>\n",
       "      <td>0.000</td>\n",
       "      <td>0.000</td>\n",
       "      <td>0.007</td>\n",
       "      <td>0.008</td>\n",
       "      <td>0.010</td>\n",
       "    </tr>\n",
       "    <tr>\n",
       "      <th>Soil_Type_24</th>\n",
       "      <td>0.001</td>\n",
       "      <td>0.001</td>\n",
       "      <td>0.000</td>\n",
       "      <td>0.000</td>\n",
       "      <td>0.000</td>\n",
       "      <td>0.000</td>\n",
       "      <td>0.000</td>\n",
       "    </tr>\n",
       "    <tr>\n",
       "      <th>Soil_Type_25</th>\n",
       "      <td>0.001</td>\n",
       "      <td>0.008</td>\n",
       "      <td>0.000</td>\n",
       "      <td>0.000</td>\n",
       "      <td>0.014</td>\n",
       "      <td>0.000</td>\n",
       "      <td>0.000</td>\n",
       "    </tr>\n",
       "    <tr>\n",
       "      <th>Soil_Type_26</th>\n",
       "      <td>0.003</td>\n",
       "      <td>0.002</td>\n",
       "      <td>0.000</td>\n",
       "      <td>0.000</td>\n",
       "      <td>0.000</td>\n",
       "      <td>0.000</td>\n",
       "      <td>0.002</td>\n",
       "    </tr>\n",
       "    <tr>\n",
       "      <th>Soil_Type_27</th>\n",
       "      <td>0.000</td>\n",
       "      <td>0.003</td>\n",
       "      <td>0.000</td>\n",
       "      <td>0.000</td>\n",
       "      <td>0.001</td>\n",
       "      <td>0.000</td>\n",
       "      <td>0.000</td>\n",
       "    </tr>\n",
       "    <tr>\n",
       "      <th>Soil_Type_28</th>\n",
       "      <td>0.198</td>\n",
       "      <td>0.252</td>\n",
       "      <td>0.000</td>\n",
       "      <td>0.000</td>\n",
       "      <td>0.119</td>\n",
       "      <td>0.000</td>\n",
       "      <td>0.039</td>\n",
       "    </tr>\n",
       "    <tr>\n",
       "      <th>Soil_Type_29</th>\n",
       "      <td>0.036</td>\n",
       "      <td>0.071</td>\n",
       "      <td>0.000</td>\n",
       "      <td>0.000</td>\n",
       "      <td>0.222</td>\n",
       "      <td>0.000</td>\n",
       "      <td>0.010</td>\n",
       "    </tr>\n",
       "    <tr>\n",
       "      <th>Soil_Type_30</th>\n",
       "      <td>0.056</td>\n",
       "      <td>0.047</td>\n",
       "      <td>0.000</td>\n",
       "      <td>0.000</td>\n",
       "      <td>0.033</td>\n",
       "      <td>0.004</td>\n",
       "      <td>0.011</td>\n",
       "    </tr>\n",
       "    <tr>\n",
       "      <th>Soil_Type_31</th>\n",
       "      <td>0.101</td>\n",
       "      <td>0.104</td>\n",
       "      <td>0.003</td>\n",
       "      <td>0.000</td>\n",
       "      <td>0.048</td>\n",
       "      <td>0.012</td>\n",
       "      <td>0.041</td>\n",
       "    </tr>\n",
       "    <tr>\n",
       "      <th>Soil_Type_32</th>\n",
       "      <td>0.086</td>\n",
       "      <td>0.089</td>\n",
       "      <td>0.000</td>\n",
       "      <td>0.000</td>\n",
       "      <td>0.055</td>\n",
       "      <td>0.031</td>\n",
       "      <td>0.031</td>\n",
       "    </tr>\n",
       "    <tr>\n",
       "      <th>Soil_Type_33</th>\n",
       "      <td>0.000</td>\n",
       "      <td>0.005</td>\n",
       "      <td>0.000</td>\n",
       "      <td>0.000</td>\n",
       "      <td>0.002</td>\n",
       "      <td>0.001</td>\n",
       "      <td>0.002</td>\n",
       "    </tr>\n",
       "    <tr>\n",
       "      <th>Soil_Type_34</th>\n",
       "      <td>0.004</td>\n",
       "      <td>0.000</td>\n",
       "      <td>0.000</td>\n",
       "      <td>0.000</td>\n",
       "      <td>0.000</td>\n",
       "      <td>0.000</td>\n",
       "      <td>0.046</td>\n",
       "    </tr>\n",
       "    <tr>\n",
       "      <th>Soil_Type_35</th>\n",
       "      <td>0.000</td>\n",
       "      <td>0.000</td>\n",
       "      <td>0.000</td>\n",
       "      <td>0.000</td>\n",
       "      <td>0.000</td>\n",
       "      <td>0.000</td>\n",
       "      <td>0.003</td>\n",
       "    </tr>\n",
       "    <tr>\n",
       "      <th>Soil_Type_36</th>\n",
       "      <td>0.000</td>\n",
       "      <td>0.000</td>\n",
       "      <td>0.000</td>\n",
       "      <td>0.000</td>\n",
       "      <td>0.000</td>\n",
       "      <td>0.000</td>\n",
       "      <td>0.015</td>\n",
       "    </tr>\n",
       "    <tr>\n",
       "      <th>Soil_Type_37</th>\n",
       "      <td>0.041</td>\n",
       "      <td>0.003</td>\n",
       "      <td>0.000</td>\n",
       "      <td>0.000</td>\n",
       "      <td>0.000</td>\n",
       "      <td>0.000</td>\n",
       "      <td>0.298</td>\n",
       "    </tr>\n",
       "    <tr>\n",
       "      <th>Soil_Type_38</th>\n",
       "      <td>0.037</td>\n",
       "      <td>0.001</td>\n",
       "      <td>0.000</td>\n",
       "      <td>0.000</td>\n",
       "      <td>0.000</td>\n",
       "      <td>0.000</td>\n",
       "      <td>0.271</td>\n",
       "    </tr>\n",
       "    <tr>\n",
       "      <th>Soil_Type_39</th>\n",
       "      <td>0.023</td>\n",
       "      <td>0.001</td>\n",
       "      <td>0.000</td>\n",
       "      <td>0.000</td>\n",
       "      <td>0.000</td>\n",
       "      <td>0.000</td>\n",
       "      <td>0.175</td>\n",
       "    </tr>\n",
       "  </tbody>\n",
       "</table>"
      ],
      "text/plain": [
       "<IPython.core.display.HTML object>"
      ]
     },
     "metadata": {},
     "output_type": "display_data"
    }
   ],
   "source": [
    "\n",
    "\n",
    "# a.\n",
    "\n",
    "from IPython.core.display import display, HTML\n",
    "\n",
    "# Making the categorical column\n",
    "st_col = data.data.loc[:,'Soil_Type_0':'Soil_Type_39'].idxmax(axis=1)\n",
    "st_col.name = \"Soil\"\n",
    "cts0 = pd.crosstab(st_col, data.target,normalize='columns')\n",
    "#  Sort undex for aesthetics\n",
    "cts = cts0.sort_index(key=lambda idx: pd.Index(int(x[10:]) for x in idx))\n",
    "#  Suppress some decimal places in printout\n",
    "with pd.option_context('display.float_format', lambda x: f\"{x:.3f}\"): \n",
    "    # To get standard HTML rendering of DF + display context\n",
    "    display(HTML(cts.to_html()))\n",
    "    # This works but omits HTML rendering (e.g. no boldface)\n",
    "    # print(cts)"
   ]
  },
  {
   "cell_type": "markdown",
   "metadata": {},
   "source": [
    "Checking the percentages are columnwise:"
   ]
  },
  {
   "cell_type": "code",
   "execution_count": 255,
   "metadata": {
    "scrolled": true
   },
   "outputs": [
    {
     "data": {
      "text/plain": [
       "Cover_Type\n",
       "1    1.0\n",
       "2    1.0\n",
       "3    1.0\n",
       "4    1.0\n",
       "5    1.0\n",
       "6    1.0\n",
       "7    1.0\n",
       "dtype: float64"
      ]
     },
     "execution_count": 255,
     "metadata": {},
     "output_type": "execute_result"
    }
   ],
   "source": [
    "cts.sum(axis=0)"
   ]
  },
  {
   "cell_type": "markdown",
   "metadata": {},
   "source": [
    "Q4b. What is the dominant soil type for each cover type?"
   ]
  },
  {
   "cell_type": "code",
   "execution_count": 276,
   "metadata": {
    "scrolled": true
   },
   "outputs": [
    {
     "data": {
      "text/html": [
       "<div>\n",
       "<style scoped>\n",
       "    .dataframe tbody tr th:only-of-type {\n",
       "        vertical-align: middle;\n",
       "    }\n",
       "\n",
       "    .dataframe tbody tr th {\n",
       "        vertical-align: top;\n",
       "    }\n",
       "\n",
       "    .dataframe thead th {\n",
       "        text-align: right;\n",
       "    }\n",
       "</style>\n",
       "<table border=\"1\" class=\"dataframe\">\n",
       "  <thead>\n",
       "    <tr style=\"text-align: right;\">\n",
       "      <th></th>\n",
       "      <th>type</th>\n",
       "      <th>pct</th>\n",
       "    </tr>\n",
       "    <tr>\n",
       "      <th>Cover_Type</th>\n",
       "      <th></th>\n",
       "      <th></th>\n",
       "    </tr>\n",
       "  </thead>\n",
       "  <tbody>\n",
       "    <tr>\n",
       "      <th>1</th>\n",
       "      <td>Soil_Type_28</td>\n",
       "      <td>0.197843</td>\n",
       "    </tr>\n",
       "    <tr>\n",
       "      <th>2</th>\n",
       "      <td>Soil_Type_28</td>\n",
       "      <td>0.252025</td>\n",
       "    </tr>\n",
       "    <tr>\n",
       "      <th>3</th>\n",
       "      <td>Soil_Type_9</td>\n",
       "      <td>0.322537</td>\n",
       "    </tr>\n",
       "    <tr>\n",
       "      <th>4</th>\n",
       "      <td>Soil_Type_2</td>\n",
       "      <td>0.370586</td>\n",
       "    </tr>\n",
       "    <tr>\n",
       "      <th>5</th>\n",
       "      <td>Soil_Type_29</td>\n",
       "      <td>0.222374</td>\n",
       "    </tr>\n",
       "    <tr>\n",
       "      <th>6</th>\n",
       "      <td>Soil_Type_9</td>\n",
       "      <td>0.510105</td>\n",
       "    </tr>\n",
       "    <tr>\n",
       "      <th>7</th>\n",
       "      <td>Soil_Type_37</td>\n",
       "      <td>0.297611</td>\n",
       "    </tr>\n",
       "  </tbody>\n",
       "</table>\n",
       "</div>"
      ],
      "text/plain": [
       "                    type       pct\n",
       "Cover_Type                        \n",
       "1           Soil_Type_28  0.197843\n",
       "2           Soil_Type_28  0.252025\n",
       "3            Soil_Type_9  0.322537\n",
       "4            Soil_Type_2  0.370586\n",
       "5           Soil_Type_29  0.222374\n",
       "6            Soil_Type_9  0.510105\n",
       "7           Soil_Type_37  0.297611"
      ]
     },
     "execution_count": 276,
     "metadata": {},
     "output_type": "execute_result"
    }
   ],
   "source": [
    "dominant_soil_types = pd.DataFrame({\"type\":cts.idxmax(),\"pct\":cts.max()})\n",
    "dominant_soil_types"
   ]
  },
  {
   "cell_type": "markdown",
   "metadata": {},
   "source": [
    "Q4c. What cover types have one soil type in over 50% of the sampled plots?"
   ]
  },
  {
   "cell_type": "code",
   "execution_count": 277,
   "metadata": {},
   "outputs": [
    {
     "data": {
      "text/html": [
       "<div>\n",
       "<style scoped>\n",
       "    .dataframe tbody tr th:only-of-type {\n",
       "        vertical-align: middle;\n",
       "    }\n",
       "\n",
       "    .dataframe tbody tr th {\n",
       "        vertical-align: top;\n",
       "    }\n",
       "\n",
       "    .dataframe thead th {\n",
       "        text-align: right;\n",
       "    }\n",
       "</style>\n",
       "<table border=\"1\" class=\"dataframe\">\n",
       "  <thead>\n",
       "    <tr style=\"text-align: right;\">\n",
       "      <th></th>\n",
       "      <th>type</th>\n",
       "      <th>pct</th>\n",
       "    </tr>\n",
       "    <tr>\n",
       "      <th>Cover_Type</th>\n",
       "      <th></th>\n",
       "      <th></th>\n",
       "    </tr>\n",
       "  </thead>\n",
       "  <tbody>\n",
       "    <tr>\n",
       "      <th>6</th>\n",
       "      <td>Soil_Type_9</td>\n",
       "      <td>0.510105</td>\n",
       "    </tr>\n",
       "  </tbody>\n",
       "</table>\n",
       "</div>"
      ],
      "text/plain": [
       "                   type       pct\n",
       "Cover_Type                       \n",
       "6           Soil_Type_9  0.510105"
      ]
     },
     "execution_count": 277,
     "metadata": {},
     "output_type": "execute_result"
    }
   ],
   "source": [
    "dominant_soil_types[dominant_soil_types['pct']>.5]"
   ]
  },
  {
   "cell_type": "markdown",
   "metadata": {},
   "source": [
    "Q4d.  Construct a DataFrame `cts_r` which for each cover type  c and each soil type s gives the percentage\n",
    "of plots with soil type s that are of cover type c."
   ]
  },
  {
   "cell_type": "code",
   "execution_count": 310,
   "metadata": {},
   "outputs": [
    {
     "data": {
      "text/html": [
       "<table border=\"1\" class=\"dataframe\">\n",
       "  <thead>\n",
       "    <tr style=\"text-align: right;\">\n",
       "      <th>Cover_Type</th>\n",
       "      <th>1</th>\n",
       "      <th>2</th>\n",
       "      <th>3</th>\n",
       "      <th>4</th>\n",
       "      <th>5</th>\n",
       "      <th>6</th>\n",
       "      <th>7</th>\n",
       "    </tr>\n",
       "    <tr>\n",
       "      <th>Soil</th>\n",
       "      <th></th>\n",
       "      <th></th>\n",
       "      <th></th>\n",
       "      <th></th>\n",
       "      <th></th>\n",
       "      <th></th>\n",
       "      <th></th>\n",
       "    </tr>\n",
       "  </thead>\n",
       "  <tbody>\n",
       "    <tr>\n",
       "      <th>Soil_Type_0</th>\n",
       "      <td>0.000</td>\n",
       "      <td>0.000</td>\n",
       "      <td>0.693</td>\n",
       "      <td>0.059</td>\n",
       "      <td>0.000</td>\n",
       "      <td>0.248</td>\n",
       "      <td>0.000</td>\n",
       "    </tr>\n",
       "    <tr>\n",
       "      <th>Soil_Type_1</th>\n",
       "      <td>0.000</td>\n",
       "      <td>0.113</td>\n",
       "      <td>0.663</td>\n",
       "      <td>0.015</td>\n",
       "      <td>0.035</td>\n",
       "      <td>0.173</td>\n",
       "      <td>0.000</td>\n",
       "    </tr>\n",
       "    <tr>\n",
       "      <th>Soil_Type_2</th>\n",
       "      <td>0.000</td>\n",
       "      <td>0.247</td>\n",
       "      <td>0.500</td>\n",
       "      <td>0.211</td>\n",
       "      <td>0.000</td>\n",
       "      <td>0.042</td>\n",
       "      <td>0.000</td>\n",
       "    </tr>\n",
       "    <tr>\n",
       "      <th>Soil_Type_3</th>\n",
       "      <td>0.015</td>\n",
       "      <td>0.262</td>\n",
       "      <td>0.605</td>\n",
       "      <td>0.014</td>\n",
       "      <td>0.047</td>\n",
       "      <td>0.051</td>\n",
       "      <td>0.006</td>\n",
       "    </tr>\n",
       "    <tr>\n",
       "      <th>Soil_Type_4</th>\n",
       "      <td>0.000</td>\n",
       "      <td>0.000</td>\n",
       "      <td>0.606</td>\n",
       "      <td>0.030</td>\n",
       "      <td>0.000</td>\n",
       "      <td>0.364</td>\n",
       "      <td>0.000</td>\n",
       "    </tr>\n",
       "    <tr>\n",
       "      <th>Soil_Type_5</th>\n",
       "      <td>0.000</td>\n",
       "      <td>0.139</td>\n",
       "      <td>0.607</td>\n",
       "      <td>0.049</td>\n",
       "      <td>0.000</td>\n",
       "      <td>0.205</td>\n",
       "      <td>0.000</td>\n",
       "    </tr>\n",
       "    <tr>\n",
       "      <th>Soil_Type_6</th>\n",
       "      <td>0.000</td>\n",
       "      <td>1.000</td>\n",
       "      <td>0.000</td>\n",
       "      <td>0.000</td>\n",
       "      <td>0.000</td>\n",
       "      <td>0.000</td>\n",
       "      <td>0.000</td>\n",
       "    </tr>\n",
       "    <tr>\n",
       "      <th>Soil_Type_7</th>\n",
       "      <td>0.240</td>\n",
       "      <td>0.760</td>\n",
       "      <td>0.000</td>\n",
       "      <td>0.000</td>\n",
       "      <td>0.000</td>\n",
       "      <td>0.000</td>\n",
       "      <td>0.000</td>\n",
       "    </tr>\n",
       "    <tr>\n",
       "      <th>Soil_Type_8</th>\n",
       "      <td>0.140</td>\n",
       "      <td>0.860</td>\n",
       "      <td>0.000</td>\n",
       "      <td>0.000</td>\n",
       "      <td>0.000</td>\n",
       "      <td>0.000</td>\n",
       "      <td>0.000</td>\n",
       "    </tr>\n",
       "    <tr>\n",
       "      <th>Soil_Type_9</th>\n",
       "      <td>0.029</td>\n",
       "      <td>0.331</td>\n",
       "      <td>0.353</td>\n",
       "      <td>0.007</td>\n",
       "      <td>0.008</td>\n",
       "      <td>0.271</td>\n",
       "      <td>0.000</td>\n",
       "    </tr>\n",
       "    <tr>\n",
       "      <th>Soil_Type_10</th>\n",
       "      <td>0.060</td>\n",
       "      <td>0.731</td>\n",
       "      <td>0.109</td>\n",
       "      <td>0.003</td>\n",
       "      <td>0.055</td>\n",
       "      <td>0.042</td>\n",
       "      <td>0.000</td>\n",
       "    </tr>\n",
       "    <tr>\n",
       "      <th>Soil_Type_11</th>\n",
       "      <td>0.090</td>\n",
       "      <td>0.910</td>\n",
       "      <td>0.000</td>\n",
       "      <td>0.000</td>\n",
       "      <td>0.000</td>\n",
       "      <td>0.000</td>\n",
       "      <td>0.000</td>\n",
       "    </tr>\n",
       "    <tr>\n",
       "      <th>Soil_Type_12</th>\n",
       "      <td>0.126</td>\n",
       "      <td>0.761</td>\n",
       "      <td>0.002</td>\n",
       "      <td>0.000</td>\n",
       "      <td>0.075</td>\n",
       "      <td>0.035</td>\n",
       "      <td>0.000</td>\n",
       "    </tr>\n",
       "    <tr>\n",
       "      <th>Soil_Type_13</th>\n",
       "      <td>0.000</td>\n",
       "      <td>0.000</td>\n",
       "      <td>0.194</td>\n",
       "      <td>0.259</td>\n",
       "      <td>0.000</td>\n",
       "      <td>0.548</td>\n",
       "      <td>0.000</td>\n",
       "    </tr>\n",
       "    <tr>\n",
       "      <th>Soil_Type_14</th>\n",
       "      <td>0.000</td>\n",
       "      <td>0.000</td>\n",
       "      <td>0.000</td>\n",
       "      <td>0.000</td>\n",
       "      <td>0.000</td>\n",
       "      <td>1.000</td>\n",
       "      <td>0.000</td>\n",
       "    </tr>\n",
       "    <tr>\n",
       "      <th>Soil_Type_15</th>\n",
       "      <td>0.224</td>\n",
       "      <td>0.613</td>\n",
       "      <td>0.045</td>\n",
       "      <td>0.018</td>\n",
       "      <td>0.012</td>\n",
       "      <td>0.088</td>\n",
       "      <td>0.000</td>\n",
       "    </tr>\n",
       "    <tr>\n",
       "      <th>Soil_Type_16</th>\n",
       "      <td>0.063</td>\n",
       "      <td>0.280</td>\n",
       "      <td>0.148</td>\n",
       "      <td>0.127</td>\n",
       "      <td>0.175</td>\n",
       "      <td>0.207</td>\n",
       "      <td>0.000</td>\n",
       "    </tr>\n",
       "    <tr>\n",
       "      <th>Soil_Type_17</th>\n",
       "      <td>0.037</td>\n",
       "      <td>0.874</td>\n",
       "      <td>0.000</td>\n",
       "      <td>0.000</td>\n",
       "      <td>0.090</td>\n",
       "      <td>0.000</td>\n",
       "      <td>0.000</td>\n",
       "    </tr>\n",
       "    <tr>\n",
       "      <th>Soil_Type_18</th>\n",
       "      <td>0.612</td>\n",
       "      <td>0.371</td>\n",
       "      <td>0.000</td>\n",
       "      <td>0.000</td>\n",
       "      <td>0.017</td>\n",
       "      <td>0.000</td>\n",
       "      <td>0.001</td>\n",
       "    </tr>\n",
       "    <tr>\n",
       "      <th>Soil_Type_19</th>\n",
       "      <td>0.401</td>\n",
       "      <td>0.562</td>\n",
       "      <td>0.000</td>\n",
       "      <td>0.000</td>\n",
       "      <td>0.006</td>\n",
       "      <td>0.030</td>\n",
       "      <td>0.000</td>\n",
       "    </tr>\n",
       "    <tr>\n",
       "      <th>Soil_Type_20</th>\n",
       "      <td>0.959</td>\n",
       "      <td>0.025</td>\n",
       "      <td>0.000</td>\n",
       "      <td>0.000</td>\n",
       "      <td>0.000</td>\n",
       "      <td>0.000</td>\n",
       "      <td>0.016</td>\n",
       "    </tr>\n",
       "    <tr>\n",
       "      <th>Soil_Type_21</th>\n",
       "      <td>0.773</td>\n",
       "      <td>0.223</td>\n",
       "      <td>0.000</td>\n",
       "      <td>0.000</td>\n",
       "      <td>0.000</td>\n",
       "      <td>0.000</td>\n",
       "      <td>0.004</td>\n",
       "    </tr>\n",
       "    <tr>\n",
       "      <th>Soil_Type_22</th>\n",
       "      <td>0.616</td>\n",
       "      <td>0.359</td>\n",
       "      <td>0.000</td>\n",
       "      <td>0.000</td>\n",
       "      <td>0.012</td>\n",
       "      <td>0.001</td>\n",
       "      <td>0.012</td>\n",
       "    </tr>\n",
       "    <tr>\n",
       "      <th>Soil_Type_23</th>\n",
       "      <td>0.525</td>\n",
       "      <td>0.456</td>\n",
       "      <td>0.000</td>\n",
       "      <td>0.000</td>\n",
       "      <td>0.003</td>\n",
       "      <td>0.006</td>\n",
       "      <td>0.010</td>\n",
       "    </tr>\n",
       "    <tr>\n",
       "      <th>Soil_Type_24</th>\n",
       "      <td>0.264</td>\n",
       "      <td>0.736</td>\n",
       "      <td>0.000</td>\n",
       "      <td>0.000</td>\n",
       "      <td>0.000</td>\n",
       "      <td>0.000</td>\n",
       "      <td>0.000</td>\n",
       "    </tr>\n",
       "    <tr>\n",
       "      <th>Soil_Type_25</th>\n",
       "      <td>0.109</td>\n",
       "      <td>0.840</td>\n",
       "      <td>0.000</td>\n",
       "      <td>0.000</td>\n",
       "      <td>0.051</td>\n",
       "      <td>0.000</td>\n",
       "      <td>0.000</td>\n",
       "    </tr>\n",
       "    <tr>\n",
       "      <th>Soil_Type_26</th>\n",
       "      <td>0.556</td>\n",
       "      <td>0.415</td>\n",
       "      <td>0.000</td>\n",
       "      <td>0.000</td>\n",
       "      <td>0.000</td>\n",
       "      <td>0.000</td>\n",
       "      <td>0.029</td>\n",
       "    </tr>\n",
       "    <tr>\n",
       "      <th>Soil_Type_27</th>\n",
       "      <td>0.045</td>\n",
       "      <td>0.942</td>\n",
       "      <td>0.000</td>\n",
       "      <td>0.000</td>\n",
       "      <td>0.013</td>\n",
       "      <td>0.000</td>\n",
       "      <td>0.000</td>\n",
       "    </tr>\n",
       "    <tr>\n",
       "      <th>Soil_Type_28</th>\n",
       "      <td>0.364</td>\n",
       "      <td>0.620</td>\n",
       "      <td>0.000</td>\n",
       "      <td>0.000</td>\n",
       "      <td>0.010</td>\n",
       "      <td>0.000</td>\n",
       "      <td>0.007</td>\n",
       "    </tr>\n",
       "    <tr>\n",
       "      <th>Soil_Type_29</th>\n",
       "      <td>0.253</td>\n",
       "      <td>0.670</td>\n",
       "      <td>0.000</td>\n",
       "      <td>0.000</td>\n",
       "      <td>0.070</td>\n",
       "      <td>0.000</td>\n",
       "      <td>0.007</td>\n",
       "    </tr>\n",
       "    <tr>\n",
       "      <th>Soil_Type_30</th>\n",
       "      <td>0.462</td>\n",
       "      <td>0.515</td>\n",
       "      <td>0.000</td>\n",
       "      <td>0.000</td>\n",
       "      <td>0.012</td>\n",
       "      <td>0.002</td>\n",
       "      <td>0.009</td>\n",
       "    </tr>\n",
       "    <tr>\n",
       "      <th>Soil_Type_31</th>\n",
       "      <td>0.407</td>\n",
       "      <td>0.563</td>\n",
       "      <td>0.002</td>\n",
       "      <td>0.000</td>\n",
       "      <td>0.009</td>\n",
       "      <td>0.004</td>\n",
       "      <td>0.016</td>\n",
       "    </tr>\n",
       "    <tr>\n",
       "      <th>Soil_Type_32</th>\n",
       "      <td>0.402</td>\n",
       "      <td>0.560</td>\n",
       "      <td>0.000</td>\n",
       "      <td>0.000</td>\n",
       "      <td>0.011</td>\n",
       "      <td>0.012</td>\n",
       "      <td>0.014</td>\n",
       "    </tr>\n",
       "    <tr>\n",
       "      <th>Soil_Type_33</th>\n",
       "      <td>0.058</td>\n",
       "      <td>0.888</td>\n",
       "      <td>0.000</td>\n",
       "      <td>0.000</td>\n",
       "      <td>0.012</td>\n",
       "      <td>0.009</td>\n",
       "      <td>0.032</td>\n",
       "    </tr>\n",
       "    <tr>\n",
       "      <th>Soil_Type_34</th>\n",
       "      <td>0.492</td>\n",
       "      <td>0.006</td>\n",
       "      <td>0.000</td>\n",
       "      <td>0.000</td>\n",
       "      <td>0.000</td>\n",
       "      <td>0.000</td>\n",
       "      <td>0.501</td>\n",
       "    </tr>\n",
       "    <tr>\n",
       "      <th>Soil_Type_35</th>\n",
       "      <td>0.118</td>\n",
       "      <td>0.353</td>\n",
       "      <td>0.000</td>\n",
       "      <td>0.000</td>\n",
       "      <td>0.000</td>\n",
       "      <td>0.000</td>\n",
       "      <td>0.529</td>\n",
       "    </tr>\n",
       "    <tr>\n",
       "      <th>Soil_Type_36</th>\n",
       "      <td>0.000</td>\n",
       "      <td>0.000</td>\n",
       "      <td>0.000</td>\n",
       "      <td>0.000</td>\n",
       "      <td>0.000</td>\n",
       "      <td>0.000</td>\n",
       "      <td>1.000</td>\n",
       "    </tr>\n",
       "    <tr>\n",
       "      <th>Soil_Type_37</th>\n",
       "      <td>0.561</td>\n",
       "      <td>0.048</td>\n",
       "      <td>0.000</td>\n",
       "      <td>0.000</td>\n",
       "      <td>0.000</td>\n",
       "      <td>0.000</td>\n",
       "      <td>0.392</td>\n",
       "    </tr>\n",
       "    <tr>\n",
       "      <th>Soil_Type_38</th>\n",
       "      <td>0.571</td>\n",
       "      <td>0.026</td>\n",
       "      <td>0.000</td>\n",
       "      <td>0.000</td>\n",
       "      <td>0.000</td>\n",
       "      <td>0.000</td>\n",
       "      <td>0.403</td>\n",
       "    </tr>\n",
       "    <tr>\n",
       "      <th>Soil_Type_39</th>\n",
       "      <td>0.552</td>\n",
       "      <td>0.038</td>\n",
       "      <td>0.000</td>\n",
       "      <td>0.000</td>\n",
       "      <td>0.000</td>\n",
       "      <td>0.000</td>\n",
       "      <td>0.411</td>\n",
       "    </tr>\n",
       "  </tbody>\n",
       "</table>"
      ],
      "text/plain": [
       "<IPython.core.display.HTML object>"
      ]
     },
     "metadata": {},
     "output_type": "display_data"
    }
   ],
   "source": [
    "# d. Now need to normalize the ROWS. The next line is the essential soln.  The rest is about display.\n",
    "cts1 = pd.crosstab(st_col, data.target, normalize='index')\n",
    "cts_r = cts1.sort_index(key=lambda idx: pd.Index(int(x[10:]) for x in idx))\n",
    "with pd.option_context('display.float_format', lambda x: f\"{x:.3f}\"): \n",
    "    display(HTML(cts_r.to_html()))"
   ]
  },
  {
   "cell_type": "code",
   "execution_count": 289,
   "metadata": {},
   "outputs": [
    {
     "data": {
      "text/plain": [
       "Soil\n",
       "Soil_Type_0     1.0\n",
       "Soil_Type_1     1.0\n",
       "Soil_Type_2     1.0\n",
       "Soil_Type_3     1.0\n",
       "Soil_Type_4     1.0\n",
       "Soil_Type_5     1.0\n",
       "Soil_Type_6     1.0\n",
       "Soil_Type_7     1.0\n",
       "Soil_Type_8     1.0\n",
       "Soil_Type_9     1.0\n",
       "Soil_Type_10    1.0\n",
       "Soil_Type_11    1.0\n",
       "Soil_Type_12    1.0\n",
       "Soil_Type_13    1.0\n",
       "Soil_Type_14    1.0\n",
       "Soil_Type_15    1.0\n",
       "Soil_Type_16    1.0\n",
       "Soil_Type_17    1.0\n",
       "Soil_Type_18    1.0\n",
       "Soil_Type_19    1.0\n",
       "Soil_Type_20    1.0\n",
       "Soil_Type_21    1.0\n",
       "Soil_Type_22    1.0\n",
       "Soil_Type_23    1.0\n",
       "Soil_Type_24    1.0\n",
       "Soil_Type_25    1.0\n",
       "Soil_Type_26    1.0\n",
       "Soil_Type_27    1.0\n",
       "Soil_Type_28    1.0\n",
       "Soil_Type_29    1.0\n",
       "Soil_Type_30    1.0\n",
       "Soil_Type_31    1.0\n",
       "Soil_Type_32    1.0\n",
       "Soil_Type_33    1.0\n",
       "Soil_Type_34    1.0\n",
       "Soil_Type_35    1.0\n",
       "Soil_Type_36    1.0\n",
       "Soil_Type_37    1.0\n",
       "Soil_Type_38    1.0\n",
       "Soil_Type_39    1.0\n",
       "dtype: float64"
      ]
     },
     "execution_count": 289,
     "metadata": {},
     "output_type": "execute_result"
    }
   ],
   "source": [
    "cts_r.sum(axis=1)"
   ]
  },
  {
   "cell_type": "markdown",
   "metadata": {},
   "source": [
    "Q4e. What is the dominant cover type for each soil type?"
   ]
  },
  {
   "cell_type": "code",
   "execution_count": 282,
   "metadata": {},
   "outputs": [
    {
     "data": {
      "text/html": [
       "<div>\n",
       "<style scoped>\n",
       "    .dataframe tbody tr th:only-of-type {\n",
       "        vertical-align: middle;\n",
       "    }\n",
       "\n",
       "    .dataframe tbody tr th {\n",
       "        vertical-align: top;\n",
       "    }\n",
       "\n",
       "    .dataframe thead th {\n",
       "        text-align: right;\n",
       "    }\n",
       "</style>\n",
       "<table border=\"1\" class=\"dataframe\">\n",
       "  <thead>\n",
       "    <tr style=\"text-align: right;\">\n",
       "      <th></th>\n",
       "      <th>type</th>\n",
       "      <th>pct</th>\n",
       "    </tr>\n",
       "    <tr>\n",
       "      <th>Soil</th>\n",
       "      <th></th>\n",
       "      <th></th>\n",
       "    </tr>\n",
       "  </thead>\n",
       "  <tbody>\n",
       "    <tr>\n",
       "      <th>Soil_Type_36</th>\n",
       "      <td>7</td>\n",
       "      <td>1.000000</td>\n",
       "    </tr>\n",
       "    <tr>\n",
       "      <th>Soil_Type_6</th>\n",
       "      <td>2</td>\n",
       "      <td>1.000000</td>\n",
       "    </tr>\n",
       "    <tr>\n",
       "      <th>Soil_Type_14</th>\n",
       "      <td>6</td>\n",
       "      <td>1.000000</td>\n",
       "    </tr>\n",
       "    <tr>\n",
       "      <th>Soil_Type_20</th>\n",
       "      <td>1</td>\n",
       "      <td>0.959427</td>\n",
       "    </tr>\n",
       "    <tr>\n",
       "      <th>Soil_Type_27</th>\n",
       "      <td>2</td>\n",
       "      <td>0.941860</td>\n",
       "    </tr>\n",
       "    <tr>\n",
       "      <th>Soil_Type_11</th>\n",
       "      <td>2</td>\n",
       "      <td>0.910146</td>\n",
       "    </tr>\n",
       "    <tr>\n",
       "      <th>Soil_Type_33</th>\n",
       "      <td>2</td>\n",
       "      <td>0.888268</td>\n",
       "    </tr>\n",
       "    <tr>\n",
       "      <th>Soil_Type_17</th>\n",
       "      <td>2</td>\n",
       "      <td>0.873618</td>\n",
       "    </tr>\n",
       "    <tr>\n",
       "      <th>Soil_Type_8</th>\n",
       "      <td>2</td>\n",
       "      <td>0.859634</td>\n",
       "    </tr>\n",
       "    <tr>\n",
       "      <th>Soil_Type_25</th>\n",
       "      <td>2</td>\n",
       "      <td>0.839706</td>\n",
       "    </tr>\n",
       "    <tr>\n",
       "      <th>Soil_Type_21</th>\n",
       "      <td>1</td>\n",
       "      <td>0.772571</td>\n",
       "    </tr>\n",
       "    <tr>\n",
       "      <th>Soil_Type_12</th>\n",
       "      <td>2</td>\n",
       "      <td>0.760599</td>\n",
       "    </tr>\n",
       "    <tr>\n",
       "      <th>Soil_Type_7</th>\n",
       "      <td>2</td>\n",
       "      <td>0.759777</td>\n",
       "    </tr>\n",
       "    <tr>\n",
       "      <th>Soil_Type_24</th>\n",
       "      <td>2</td>\n",
       "      <td>0.736287</td>\n",
       "    </tr>\n",
       "    <tr>\n",
       "      <th>Soil_Type_10</th>\n",
       "      <td>2</td>\n",
       "      <td>0.731426</td>\n",
       "    </tr>\n",
       "    <tr>\n",
       "      <th>Soil_Type_0</th>\n",
       "      <td>3</td>\n",
       "      <td>0.693171</td>\n",
       "    </tr>\n",
       "    <tr>\n",
       "      <th>Soil_Type_29</th>\n",
       "      <td>2</td>\n",
       "      <td>0.670136</td>\n",
       "    </tr>\n",
       "    <tr>\n",
       "      <th>Soil_Type_1</th>\n",
       "      <td>3</td>\n",
       "      <td>0.663256</td>\n",
       "    </tr>\n",
       "    <tr>\n",
       "      <th>Soil_Type_28</th>\n",
       "      <td>2</td>\n",
       "      <td>0.619530</td>\n",
       "    </tr>\n",
       "    <tr>\n",
       "      <th>Soil_Type_22</th>\n",
       "      <td>1</td>\n",
       "      <td>0.615684</td>\n",
       "    </tr>\n",
       "    <tr>\n",
       "      <th>Soil_Type_15</th>\n",
       "      <td>2</td>\n",
       "      <td>0.612654</td>\n",
       "    </tr>\n",
       "    <tr>\n",
       "      <th>Soil_Type_18</th>\n",
       "      <td>1</td>\n",
       "      <td>0.612037</td>\n",
       "    </tr>\n",
       "    <tr>\n",
       "      <th>Soil_Type_5</th>\n",
       "      <td>3</td>\n",
       "      <td>0.607300</td>\n",
       "    </tr>\n",
       "    <tr>\n",
       "      <th>Soil_Type_4</th>\n",
       "      <td>3</td>\n",
       "      <td>0.605510</td>\n",
       "    </tr>\n",
       "    <tr>\n",
       "      <th>Soil_Type_3</th>\n",
       "      <td>3</td>\n",
       "      <td>0.605115</td>\n",
       "    </tr>\n",
       "    <tr>\n",
       "      <th>Soil_Type_38</th>\n",
       "      <td>1</td>\n",
       "      <td>0.570911</td>\n",
       "    </tr>\n",
       "    <tr>\n",
       "      <th>Soil_Type_31</th>\n",
       "      <td>2</td>\n",
       "      <td>0.562768</td>\n",
       "    </tr>\n",
       "    <tr>\n",
       "      <th>Soil_Type_19</th>\n",
       "      <td>2</td>\n",
       "      <td>0.562372</td>\n",
       "    </tr>\n",
       "    <tr>\n",
       "      <th>Soil_Type_37</th>\n",
       "      <td>1</td>\n",
       "      <td>0.560521</td>\n",
       "    </tr>\n",
       "    <tr>\n",
       "      <th>Soil_Type_32</th>\n",
       "      <td>2</td>\n",
       "      <td>0.560482</td>\n",
       "    </tr>\n",
       "    <tr>\n",
       "      <th>Soil_Type_26</th>\n",
       "      <td>1</td>\n",
       "      <td>0.556169</td>\n",
       "    </tr>\n",
       "    <tr>\n",
       "      <th>Soil_Type_39</th>\n",
       "      <td>1</td>\n",
       "      <td>0.551543</td>\n",
       "    </tr>\n",
       "    <tr>\n",
       "      <th>Soil_Type_13</th>\n",
       "      <td>6</td>\n",
       "      <td>0.547579</td>\n",
       "    </tr>\n",
       "    <tr>\n",
       "      <th>Soil_Type_35</th>\n",
       "      <td>7</td>\n",
       "      <td>0.529412</td>\n",
       "    </tr>\n",
       "    <tr>\n",
       "      <th>Soil_Type_23</th>\n",
       "      <td>1</td>\n",
       "      <td>0.524673</td>\n",
       "    </tr>\n",
       "    <tr>\n",
       "      <th>Soil_Type_30</th>\n",
       "      <td>2</td>\n",
       "      <td>0.514650</td>\n",
       "    </tr>\n",
       "    <tr>\n",
       "      <th>Soil_Type_34</th>\n",
       "      <td>7</td>\n",
       "      <td>0.501322</td>\n",
       "    </tr>\n",
       "    <tr>\n",
       "      <th>Soil_Type_2</th>\n",
       "      <td>3</td>\n",
       "      <td>0.499896</td>\n",
       "    </tr>\n",
       "    <tr>\n",
       "      <th>Soil_Type_9</th>\n",
       "      <td>3</td>\n",
       "      <td>0.353374</td>\n",
       "    </tr>\n",
       "    <tr>\n",
       "      <th>Soil_Type_16</th>\n",
       "      <td>2</td>\n",
       "      <td>0.279661</td>\n",
       "    </tr>\n",
       "  </tbody>\n",
       "</table>\n",
       "</div>"
      ],
      "text/plain": [
       "              type       pct\n",
       "Soil                        \n",
       "Soil_Type_36     7  1.000000\n",
       "Soil_Type_6      2  1.000000\n",
       "Soil_Type_14     6  1.000000\n",
       "Soil_Type_20     1  0.959427\n",
       "Soil_Type_27     2  0.941860\n",
       "Soil_Type_11     2  0.910146\n",
       "Soil_Type_33     2  0.888268\n",
       "Soil_Type_17     2  0.873618\n",
       "Soil_Type_8      2  0.859634\n",
       "Soil_Type_25     2  0.839706\n",
       "Soil_Type_21     1  0.772571\n",
       "Soil_Type_12     2  0.760599\n",
       "Soil_Type_7      2  0.759777\n",
       "Soil_Type_24     2  0.736287\n",
       "Soil_Type_10     2  0.731426\n",
       "Soil_Type_0      3  0.693171\n",
       "Soil_Type_29     2  0.670136\n",
       "Soil_Type_1      3  0.663256\n",
       "Soil_Type_28     2  0.619530\n",
       "Soil_Type_22     1  0.615684\n",
       "Soil_Type_15     2  0.612654\n",
       "Soil_Type_18     1  0.612037\n",
       "Soil_Type_5      3  0.607300\n",
       "Soil_Type_4      3  0.605510\n",
       "Soil_Type_3      3  0.605115\n",
       "Soil_Type_38     1  0.570911\n",
       "Soil_Type_31     2  0.562768\n",
       "Soil_Type_19     2  0.562372\n",
       "Soil_Type_37     1  0.560521\n",
       "Soil_Type_32     2  0.560482\n",
       "Soil_Type_26     1  0.556169\n",
       "Soil_Type_39     1  0.551543\n",
       "Soil_Type_13     6  0.547579\n",
       "Soil_Type_35     7  0.529412\n",
       "Soil_Type_23     1  0.524673\n",
       "Soil_Type_30     2  0.514650\n",
       "Soil_Type_34     7  0.501322\n",
       "Soil_Type_2      3  0.499896\n",
       "Soil_Type_9      3  0.353374\n",
       "Soil_Type_16     2  0.279661"
      ]
     },
     "execution_count": 282,
     "metadata": {},
     "output_type": "execute_result"
    }
   ],
   "source": [
    "dominant_covers = pd.DataFrame({\"type\":cts_r.idxmax(axis=1),\n",
    "                                \"pct\": cts_r.max(axis=1)})\n",
    "dominant_covers.sort_values(\"pct\",ascending=False)"
   ]
  },
  {
   "cell_type": "markdown",
   "metadata": {},
   "source": [
    "Q4f. What soil types can only be found with a single cover type?"
   ]
  },
  {
   "cell_type": "code",
   "execution_count": 275,
   "metadata": {},
   "outputs": [
    {
     "data": {
      "text/html": [
       "<div>\n",
       "<style scoped>\n",
       "    .dataframe tbody tr th:only-of-type {\n",
       "        vertical-align: middle;\n",
       "    }\n",
       "\n",
       "    .dataframe tbody tr th {\n",
       "        vertical-align: top;\n",
       "    }\n",
       "\n",
       "    .dataframe thead th {\n",
       "        text-align: right;\n",
       "    }\n",
       "</style>\n",
       "<table border=\"1\" class=\"dataframe\">\n",
       "  <thead>\n",
       "    <tr style=\"text-align: right;\">\n",
       "      <th></th>\n",
       "      <th>type</th>\n",
       "      <th>pct</th>\n",
       "    </tr>\n",
       "    <tr>\n",
       "      <th>Soil</th>\n",
       "      <th></th>\n",
       "      <th></th>\n",
       "    </tr>\n",
       "  </thead>\n",
       "  <tbody>\n",
       "    <tr>\n",
       "      <th>Soil_Type_6</th>\n",
       "      <td>2</td>\n",
       "      <td>1.0</td>\n",
       "    </tr>\n",
       "    <tr>\n",
       "      <th>Soil_Type_14</th>\n",
       "      <td>6</td>\n",
       "      <td>1.0</td>\n",
       "    </tr>\n",
       "    <tr>\n",
       "      <th>Soil_Type_36</th>\n",
       "      <td>7</td>\n",
       "      <td>1.0</td>\n",
       "    </tr>\n",
       "  </tbody>\n",
       "</table>\n",
       "</div>"
      ],
      "text/plain": [
       "              type  pct\n",
       "Soil                   \n",
       "Soil_Type_6      2  1.0\n",
       "Soil_Type_14     6  1.0\n",
       "Soil_Type_36     7  1.0"
      ]
     },
     "execution_count": 275,
     "metadata": {},
     "output_type": "execute_result"
    }
   ],
   "source": [
    "dominant_covers[dominant_covers['pct'] == 1.0]"
   ]
  },
  {
   "cell_type": "code",
   "execution_count": null,
   "metadata": {},
   "outputs": [],
   "source": []
  }
 ],
 "metadata": {
  "colab": {
   "name": "Boolean_exercises_in_numpy.ipynb",
   "provenance": []
  },
  "kernelspec": {
   "display_name": "Python 3 (ipykernel)",
   "language": "python",
   "name": "python3"
  },
  "language_info": {
   "codemirror_mode": {
    "name": "ipython",
    "version": 3
   },
   "file_extension": ".py",
   "mimetype": "text/x-python",
   "name": "python",
   "nbconvert_exporter": "python",
   "pygments_lexer": "ipython3",
   "version": "3.10.6"
  }
 },
 "nbformat": 4,
 "nbformat_minor": 1
}
