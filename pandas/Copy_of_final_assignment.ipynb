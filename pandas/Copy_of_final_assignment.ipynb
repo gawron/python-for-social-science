{
 "cells": [
  {
   "cell_type": "code",
   "execution_count": null,
   "metadata": {
    "id": "FuyBcbsJsOJG"
   },
   "outputs": [],
   "source": [
    "# The Python modules you need for thisn assignment.\n",
    "import pandas as pd\n",
    "import os.path\n",
    "import urllib.request \n",
    "import os.path\n",
    "from matplotlib import pyplot as plt\n",
    "import networkx as nx\n",
    "from sklearn import linear_model\n",
    "from sklearn.metrics import mean_squared_error, r2_score\n",
    "\n",
    "\n",
    "\n",
    "url_dir = 'https://gawron.sdsu.edu/python_for_ss/course_core/data'"
   ]
  },
  {
   "cell_type": "markdown",
   "metadata": {
    "id": "w65GFjy5sOJE"
   },
   "source": [
    "## Final Assignment"
   ]
  },
  {
   "cell_type": "markdown",
   "metadata": {
    "id": "5kTBI8aosOJG"
   },
   "source": [
    "Loading and applying the style sheets in the next two cells customizes the styles of your notebook output,\n",
    "in particular for how pandas `DataFrame`s are printed.\n",
    "\n",
    "This is optional,  but it's interesting if you know anything about css files."
   ]
  },
  {
   "cell_type": "code",
   "execution_count": null,
   "metadata": {
    "id": "N2O8rDkisOJH"
   },
   "outputs": [],
   "source": [
    "target_url1 = os.path.join(url_dir,'style-notebook.css')\n",
    "target_url2 = os.path.join(url_dir,'style-table.css')\n",
    "\n",
    "with urllib.request.urlopen(target_url1) as fh1:\n",
    "    css1 = fh1.read().decode('utf8')\n",
    "with urllib.request.urlopen(target_url2) as fh2:\n",
    "    css2 = fh2.read().decode('utf8')\n",
    "css = css1 + css2"
   ]
  },
  {
   "cell_type": "code",
   "execution_count": null,
   "metadata": {
    "id": "b0Ww0lVjsOJH",
    "outputId": "1bbc6fb1-0d9b-455a-fb7d-485029b8aa23"
   },
   "outputs": [
    {
     "data": {
      "text/html": [
       "<style>h3 {\n",
       "    color: white;\n",
       "    background-color: black;\n",
       "    padding: 0.5em;\n",
       "}\n",
       "body {\n",
       "    margin: 0;\n",
       "    font-family: Helvetica;\n",
       "}\n",
       "table.dataframe {\n",
       "    border-collapse: collapse;\n",
       "    border: none;\n",
       "}\n",
       "table.dataframe tr {\n",
       "    border: none;\n",
       "}\n",
       "table.dataframe td, table.dataframe th {\n",
       "    margin: 0;\n",
       "    border: 1px solid white;\n",
       "    padding-left: 0.25em;\n",
       "    padding-right: 0.25em;\n",
       "}\n",
       "table.dataframe th:not(:empty) {\n",
       "    background-color: #fec;\n",
       "    text-align: left;\n",
       "    font-weight: normal;\n",
       "}\n",
       "table.dataframe tr:nth-child(2) th:empty {\n",
       "    border-left: none;\n",
       "    border-right: 1px dashed #888;\n",
       "}\n",
       "table.dataframe td {\n",
       "    border: 2px solid #ccf;\n",
       "    background-color: #f4f4ff;\n",
       "}\n",
       "</style>"
      ],
      "text/plain": [
       "<IPython.core.display.HTML object>"
      ]
     },
     "execution_count": 3,
     "metadata": {},
     "output_type": "execute_result"
    }
   ],
   "source": [
    "from IPython.core.display import HTML\n",
    "#css = open('style-table.css').read() + open('style-notebook.css').read()\n",
    "HTML('<style>{}</style>'.format(css))"
   ]
  },
  {
   "cell_type": "markdown",
   "metadata": {
    "id": "P1DsOvIKsOJH"
   },
   "source": [
    "The next cell loads the `titles` DataFrame, the first of two used in this assignment.  There are only\n",
    "two columns, `'title'`  and `'year'`."
   ]
  },
  {
   "cell_type": "code",
   "execution_count": null,
   "metadata": {
    "id": "X_MVx934sOJI",
    "outputId": "5172a89a-2a14-47ee-fda8-ac3c19ce5737"
   },
   "outputs": [
    {
     "data": {
      "text/html": [
       "<div>\n",
       "<style scoped>\n",
       "    .dataframe tbody tr th:only-of-type {\n",
       "        vertical-align: middle;\n",
       "    }\n",
       "\n",
       "    .dataframe tbody tr th {\n",
       "        vertical-align: top;\n",
       "    }\n",
       "\n",
       "    .dataframe thead th {\n",
       "        text-align: right;\n",
       "    }\n",
       "</style>\n",
       "<table border=\"1\" class=\"dataframe\">\n",
       "  <thead>\n",
       "    <tr style=\"text-align: right;\">\n",
       "      <th></th>\n",
       "      <th>title</th>\n",
       "      <th>year</th>\n",
       "    </tr>\n",
       "  </thead>\n",
       "  <tbody>\n",
       "    <tr>\n",
       "      <th>0</th>\n",
       "      <td>The Patriarchs</td>\n",
       "      <td>2009</td>\n",
       "    </tr>\n",
       "    <tr>\n",
       "      <th>1</th>\n",
       "      <td>Angels in the Attic</td>\n",
       "      <td>1998</td>\n",
       "    </tr>\n",
       "    <tr>\n",
       "      <th>2</th>\n",
       "      <td>The Rapture</td>\n",
       "      <td>1991</td>\n",
       "    </tr>\n",
       "    <tr>\n",
       "      <th>3</th>\n",
       "      <td>Star na si Van Damme Stallone</td>\n",
       "      <td>2016</td>\n",
       "    </tr>\n",
       "    <tr>\n",
       "      <th>4</th>\n",
       "      <td>Sweet Talk</td>\n",
       "      <td>2004</td>\n",
       "    </tr>\n",
       "  </tbody>\n",
       "</table>\n",
       "</div>"
      ],
      "text/plain": [
       "                           title  year\n",
       "0                 The Patriarchs  2009\n",
       "1            Angels in the Attic  1998\n",
       "2                    The Rapture  1991\n",
       "3  Star na si Van Damme Stallone  2016\n",
       "4                     Sweet Talk  2004"
      ]
     },
     "execution_count": 4,
     "metadata": {},
     "output_type": "execute_result"
    }
   ],
   "source": [
    "titles = pd.read_csv(os.path.join(url_dir,'titles.csv'))\n",
    "titles.head()"
   ]
  },
  {
   "cell_type": "markdown",
   "metadata": {
    "id": "QnyulRY2sOJI"
   },
   "source": [
    "The next cell loads the `cast` DataFrame, the second of two used in this assignment.  This is\n",
    "large and will take a while."
   ]
  },
  {
   "cell_type": "code",
   "execution_count": null,
   "metadata": {
    "id": "_Csl8AkWsOJI",
    "outputId": "ce4d35a2-f6a5-428c-d63a-962979fd2747"
   },
   "outputs": [
    {
     "data": {
      "text/html": [
       "<div>\n",
       "<style scoped>\n",
       "    .dataframe tbody tr th:only-of-type {\n",
       "        vertical-align: middle;\n",
       "    }\n",
       "\n",
       "    .dataframe tbody tr th {\n",
       "        vertical-align: top;\n",
       "    }\n",
       "\n",
       "    .dataframe thead th {\n",
       "        text-align: right;\n",
       "    }\n",
       "</style>\n",
       "<table border=\"1\" class=\"dataframe\">\n",
       "  <thead>\n",
       "    <tr style=\"text-align: right;\">\n",
       "      <th></th>\n",
       "      <th>title</th>\n",
       "      <th>year</th>\n",
       "      <th>name</th>\n",
       "      <th>type</th>\n",
       "      <th>character</th>\n",
       "      <th>n</th>\n",
       "    </tr>\n",
       "  </thead>\n",
       "  <tbody>\n",
       "    <tr>\n",
       "      <th>0</th>\n",
       "      <td>In the Land of the Head Hunters</td>\n",
       "      <td>1914</td>\n",
       "      <td>Paddy 'Malid</td>\n",
       "      <td>actor</td>\n",
       "      <td>Kenada</td>\n",
       "      <td>5.0</td>\n",
       "    </tr>\n",
       "    <tr>\n",
       "      <th>1</th>\n",
       "      <td>The Colour of Darkness</td>\n",
       "      <td>2016</td>\n",
       "      <td>Ketan Daraji -Gohel</td>\n",
       "      <td>actor</td>\n",
       "      <td>Chhagan</td>\n",
       "      <td>NaN</td>\n",
       "    </tr>\n",
       "    <tr>\n",
       "      <th>2</th>\n",
       "      <td>London Betty</td>\n",
       "      <td>2009</td>\n",
       "      <td>Isaiah Entsua -Mensah</td>\n",
       "      <td>actor</td>\n",
       "      <td>Camera Man</td>\n",
       "      <td>NaN</td>\n",
       "    </tr>\n",
       "    <tr>\n",
       "      <th>3</th>\n",
       "      <td>Candelabra</td>\n",
       "      <td>2014</td>\n",
       "      <td>Groovin .</td>\n",
       "      <td>actor</td>\n",
       "      <td>Lt. Dick Sims</td>\n",
       "      <td>5.0</td>\n",
       "    </tr>\n",
       "    <tr>\n",
       "      <th>4</th>\n",
       "      <td>Bad Ideas</td>\n",
       "      <td>2012</td>\n",
       "      <td>Hamid .</td>\n",
       "      <td>actor</td>\n",
       "      <td>The Diner</td>\n",
       "      <td>NaN</td>\n",
       "    </tr>\n",
       "  </tbody>\n",
       "</table>\n",
       "</div>"
      ],
      "text/plain": [
       "                             title  year                   name   type  \\\n",
       "0  In the Land of the Head Hunters  1914           Paddy 'Malid  actor   \n",
       "1           The Colour of Darkness  2016    Ketan Daraji -Gohel  actor   \n",
       "2                     London Betty  2009  Isaiah Entsua -Mensah  actor   \n",
       "3                       Candelabra  2014              Groovin .  actor   \n",
       "4                        Bad Ideas  2012                Hamid .  actor   \n",
       "\n",
       "       character    n  \n",
       "0         Kenada  5.0  \n",
       "1        Chhagan  NaN  \n",
       "2     Camera Man  NaN  \n",
       "3  Lt. Dick Sims  5.0  \n",
       "4      The Diner  NaN  "
      ]
     },
     "execution_count": 5,
     "metadata": {},
     "output_type": "execute_result"
    }
   ],
   "source": [
    "# This is much larger and wont work in google colab at the moment\n",
    "#cast = pd.read_csv(os.path.join('data','cast.csv'))\n",
    "cast = pd.read_csv(os.path.join(url_dir,'truncated_cast.csv'),index_col=0)\n",
    "cast.head()"
   ]
  },
  {
   "cell_type": "markdown",
   "metadata": {
    "id": "-6di_0egsOJJ"
   },
   "source": [
    "### 1.  Create the actor graph  (10 Points)"
   ]
  },
  {
   "cell_type": "markdown",
   "metadata": {
    "id": "RJf0So37sOJJ"
   },
   "source": [
    "For this problem we will work on a subset of the rows of cast that have non-trivial\n",
    "casts: casts with more than one actor in them.  The DataFrames created in the cell below\n",
    "are used in Step 0 of this problem."
   ]
  },
  {
   "cell_type": "code",
   "execution_count": null,
   "metadata": {
    "id": "sqajaQOHsOJJ",
    "outputId": "f4a33443-712f-4eed-9309-43b0c0a9e9cf"
   },
   "outputs": [
    {
     "name": "stdout",
     "output_type": "stream",
     "text": [
      "len(cast)=422,960     len(cast00)=192,403\n"
     ]
    },
    {
     "data": {
      "text/plain": [
       "(422960, 192403)"
      ]
     },
     "execution_count": 152,
     "metadata": {},
     "output_type": "execute_result"
    }
   ],
   "source": [
    "cast00 =  cast[cast['n'] < 10]  ## Add a value  cast[cast['n'] < 10]\n",
    "print(f\"{len(cast)=:,}     {len(cast00)=:,}\")\n",
    "cast_non_triv_cts = cast00.groupby(['title','year']).size()\n",
    "# This gives the index of films we want\n",
    "cast_non_triv0 = cast_non_triv_cts[cast_non_triv_cts > 1]\n",
    "len(cast),len(cast00)"
   ]
  },
  {
   "cell_type": "markdown",
   "metadata": {
    "id": "-HIYPb21sOJJ"
   },
   "source": [
    "Steps\n",
    "\n",
    "0.  Create a subDataFrame of `cast` (call it `cast0`) with roles from films with cast sizes greater than 1 and only the roles whose value in the `n` column is less than 10 (This is to restrict attention to the most important roles in each film and it has been done for you in the cell labeled Step 0).\n",
    "\n",
    "   ```\n",
    "   cast: 422, 960     cast0: 172,716\n",
    "   ```\n",
    "\n",
    "1.  Group the rows of `cast0` so that each group is a film, where a film is a pair of title and a year (remember that movies like *Ben Hur* have been made more than once).\n",
    "\n",
    "   ```\n",
    "   Number of groups = Number of films = 24,214\n",
    "   ```\n",
    "   \n",
    "   You really only care about the `name` column in each group, so convert your `GroupBy` instance\n",
    "   `gb` into a `SeriesGroupBy` instance by doing `gb[\"name\"]`. \n",
    "   \n",
    "   This has been done for you in the cell labeled Step 1).\n",
    "   \n",
    "2.  Create a `networkx` graph (Call it `G`) using the `groupby` object from step 1, where each node is an actor/actress and there is an edge between two nodes if and only if the two actors were cast in the same film (according to `cast0`). \n",
    "\n",
    "   ```\n",
    "   len(G) = 36,776 \n",
    "   len(G.edges) = 511,778\n",
    "   ```\n",
    "   \n",
    "   **This has not been done for you.  Providing the code for creating the graph is worth 10 points on this takehome final.** \n",
    "   \n",
    "   Hint: Review the graph construction (word graph) problem on the Social Networks assignment.  \n",
    "     \n",
    "   Hint: Loop through the group Series object created in step 1.\n",
    "   \n",
    "   ```\n",
    "   for xx in gb['name']:\n",
    "   ```\n",
    "   \n",
    "   Each `xx` will correspond to a group (a film). See example below. You should be able to use `xx` to find all the actors in that film and an add edges to `G` for each pair of actors in the film.  You will probably find the `G.add_edges_from(...)` method useful as hinted at below."
   ]
  },
  {
   "cell_type": "markdown",
   "metadata": {
    "id": "tL2ipWPHsOJJ"
   },
   "source": [
    "#### Step 0 (Done for you)"
   ]
  },
  {
   "cell_type": "code",
   "execution_count": null,
   "metadata": {
    "id": "Lw2NvAOFsOJJ",
    "outputId": "32c85f9f-78db-4e56-b6b1-9eb373532fbf"
   },
   "outputs": [
    {
     "name": "stdout",
     "output_type": "stream",
     "text": [
      "# Films with cast sizes greater than 1: 24,214   Total number of roles: 172,716\n"
     ]
    }
   ],
   "source": [
    "#cast0 =  cast_non_triv[cast_non_triv['n'] < 10]  ## Add a value  cast[cast['n'] < 10]\n",
    "cast0 = cast00[cast00.set_index(['title','year']).index.isin(cast_non_triv0.index)]\n",
    "print(f\"# Films with cast sizes greater than 1: {len(cast_non_triv0):,}   Total number of roles: {len(cast0):,}\")"
   ]
  },
  {
   "cell_type": "markdown",
   "metadata": {
    "id": "dFtE2D0-sOJK"
   },
   "source": [
    "####  Step 1 (Done for you)"
   ]
  },
  {
   "cell_type": "code",
   "execution_count": null,
   "metadata": {
    "id": "jj-49fF4sOJK"
   },
   "outputs": [],
   "source": [
    "# Create the Series groupby object using cast0.  Remember: A film is a pair of a title and a year.\n",
    "# You can convert a groupby instance `gb` into a `SeriesGroupBy` instance by doing `gb[\"name\"]`\n",
    "# Then the group members of each group will be the cast of a film.\n",
    "cg =   cast0.groupby(['title','year'])['name']    "
   ]
  },
  {
   "cell_type": "code",
   "execution_count": null,
   "metadata": {
    "id": "xeYnAQ9AsOJK",
    "outputId": "fbb72c11-fe2e-4ccd-a12a-02f5f7574ae1"
   },
   "outputs": [
    {
     "data": {
      "text/plain": [
       "24214"
      ]
     },
     "execution_count": 81,
     "metadata": {},
     "output_type": "execute_result"
    }
   ],
   "source": [
    "len(cg)"
   ]
  },
  {
   "cell_type": "markdown",
   "metadata": {
    "id": "qdiCgDMTsOJK"
   },
   "source": [
    "#### Getting a group/Looping through the groups"
   ]
  },
  {
   "cell_type": "markdown",
   "metadata": {
    "id": "1l12YkGksOJK"
   },
   "source": [
    "We illustrate what the groupby object looks like/does. In the following cells `cg` is a `SeriesGroupBy` instance created by the code above, where each group in `cg` corresponds to a film (a title, year pair).\n",
    "\n",
    "For example,"
   ]
  },
  {
   "cell_type": "code",
   "execution_count": null,
   "metadata": {
    "id": "hdZ9tVKTsOJK"
   },
   "outputs": [],
   "source": [
    "cg1_ser = cg.get_group(('Bringing Up Baby', 1938))"
   ]
  },
  {
   "cell_type": "code",
   "execution_count": null,
   "metadata": {
    "id": "XPtPZc-MsOJK",
    "outputId": "440d9b0d-85bd-4e76-8069-d9a7453c3ec6"
   },
   "outputs": [
    {
     "data": {
      "text/plain": [
       "pandas.core.series.Series"
      ]
     },
     "execution_count": 30,
     "metadata": {},
     "output_type": "execute_result"
    }
   ],
   "source": [
    "type(cg1_ser)"
   ]
  },
  {
   "cell_type": "markdown",
   "metadata": {
    "id": "Tv22TjyIsOJK"
   },
   "source": [
    "The `Series` `cg1_ser` contains the 9 most important members of the cast of \"Bringing Up Baby\" (in no particular order)."
   ]
  },
  {
   "cell_type": "code",
   "execution_count": null,
   "metadata": {
    "id": "xiU8w4VzsOJK",
    "outputId": "15bfe4be-c706-4bee-852c-2a42f044920e"
   },
   "outputs": [
    {
     "data": {
      "text/plain": [
       "39546        Walter Catlett\n",
       "76841            Fritz Feld\n",
       "79186      Barry Fitzgerald\n",
       "93632            Cary Grant\n",
       "119042        George Irving\n",
       "212805      Charles Ruggles\n",
       "314206    Katharine Hepburn\n",
       "354474        Leona Roberts\n",
       "354719           May Robson\n",
       "Name: name, dtype: object"
      ]
     },
     "execution_count": 31,
     "metadata": {},
     "output_type": "execute_result"
    }
   ],
   "source": [
    "cg1_ser"
   ]
  },
  {
   "cell_type": "markdown",
   "metadata": {
    "id": "TSI-x1TGsOJK"
   },
   "source": [
    "So this film licenses 9 nodes and 36 edges in the graph, because\n",
    "there are 9 actors, and since there are 36 actor pairs: (9*8)/2,\n",
    "we draw 36 edges  among the 9 actors.\n",
    "\n",
    "So this subpart of the actors graph looks like this (with the 9 actors\n",
    "represented as the integers 0-8 and 36 edges)."
   ]
  },
  {
   "cell_type": "code",
   "execution_count": null,
   "metadata": {
    "id": "gwSfL3vLsOJK",
    "outputId": "5f3e230e-71df-4ca8-e531-5b449257b885"
   },
   "outputs": [
    {
     "name": "stdout",
     "output_type": "stream",
     "text": [
      "complete_graph(9) Num nodes: 9 Num edges: 36\n"
     ]
    },
    {
     "data": {
      "image/png": "[encoded data removed]",
      "text/plain": [
       "<Figure size 400x400 with 1 Axes>"
      ]
     },
     "metadata": {},
     "output_type": "display_data"
    }
   ],
   "source": [
    "import networkx as nx\n",
    "(fig,ax) = plt.subplots(1,1, figsize=(4,4))\n",
    "\n",
    "nonad = nx.complete_graph(9)\n",
    "print(f\"complete_graph(9) Num nodes: {len(nonad)} Num edges: {nonad.number_of_edges()}\")\n",
    "nx.draw_networkx(nonad,ax=ax,node_color='c',font_size=9)"
   ]
  },
  {
   "cell_type": "markdown",
   "metadata": {
    "id": "giYj7UT5sOJK"
   },
   "source": [
    "The number of edges (36) can be computed by using the number of pairs in a set of size n:  (n * (n-1))/2."
   ]
  },
  {
   "cell_type": "code",
   "execution_count": null,
   "metadata": {
    "id": "rmTj4CbgsOJK",
    "outputId": "0f0b0b54-0eb1-4b03-8f76-5a2d414dcfa3",
    "scrolled": false
   },
   "outputs": [
    {
     "data": {
      "text/plain": [
       "36.0"
      ]
     },
     "execution_count": 55,
     "metadata": {},
     "output_type": "execute_result"
    }
   ],
   "source": [
    "(9*8)/2"
   ]
  },
  {
   "cell_type": "markdown",
   "metadata": {
    "id": "PBUmYyDAsOJK"
   },
   "source": [
    "A more useful way of looking at it for writing the code is to pair each actor with all the actors below them in the cast list above.  Walter Catlett\n",
    "gets paired with 8 other actors.  Fritz Feld gets paired with 7 others\n",
    "(he's already paired with Walter Catlett). Barry Fitzgerald gets paired\n",
    "with 6 others, and so on until Lenoa Roberts gets paired with May Robson. So the number of pairs is:"
   ]
  },
  {
   "cell_type": "code",
   "execution_count": null,
   "metadata": {
    "id": "7btczkwvsOJL",
    "outputId": "c5a48506-b729-4833-c1a4-13ae6c4ed877"
   },
   "outputs": [
    {
     "data": {
      "text/plain": [
       "36"
      ]
     },
     "execution_count": 47,
     "metadata": {},
     "output_type": "execute_result"
    }
   ],
   "source": [
    "8 + 7 + 6 + 5 + 4 + 3 + 2 + 1"
   ]
  },
  {
   "cell_type": "markdown",
   "metadata": {
    "id": "LEJxPMiWsOJL"
   },
   "source": [
    "The key computational point is that it works to pair\n",
    "each actor with the actors below them on the cast list, and\n",
    "add an edge for each pair. This works because\n",
    "when you add the edge \n",
    "\n",
    "```\n",
    "(`Walter Catlett`, `Fritz Feld`)\n",
    "```\n",
    "\n",
    "there is no longer any point in adding the edge\n",
    "\n",
    "```\n",
    "(`Fritz Feld`, `Walter Catlett`).\n",
    "```\n",
    "\n",
    "It's an undirected Graph (no arrows on the edges), so\n",
    "these are the same edge; `networkx` enforces this,\n",
    "as is demonstrated in the next cell."
   ]
  },
  {
   "cell_type": "markdown",
   "metadata": {
    "id": "8cHVc6tTsOJL"
   },
   "source": [
    "Looping through the `SeriesGroupBy` instance `cg`;  `cg` is an iterable of pairs of the form `((title,year), Ser)`, where  the tuple `(title,year)` indexes a particular movie and `Ser` is a `pandas Series` containing the cast of that movie. Since it's the cast sequence you will use to construct the graph, it's `Ser` you care about."
   ]
  },
  {
   "cell_type": "code",
   "execution_count": null,
   "metadata": {
    "id": "IiqjTzllsOJL",
    "outputId": "9c90e5a8-9128-4bb4-edd3-b4d583c0ad39"
   },
   "outputs": [
    {
     "name": "stdout",
     "output_type": "stream",
     "text": [
      "2\n",
      "('$10 Raise', 1935)\n",
      "<class 'pandas.core.series.Series'> 9\n",
      "17624     William 'Billy' Benedict\n",
      "23194                   Glen Boles\n",
      "43962             Berton Churchill\n",
      "64623                Alan Dinehart\n",
      "114116       Edward Everett Horton\n",
      "165593                Frank Melton\n",
      "251236                  Ray Walker\n",
      "326709             Rosina Lawrence\n",
      "340578                Karen Morley\n",
      "Name: name, dtype: object\n"
     ]
    }
   ],
   "source": [
    "j = 0\n",
    "for (i,g) in  enumerate(cg):\n",
    "    print(len(g))\n",
    "    # Movie tuple\n",
    "    print(g[0])\n",
    "    print(type(g[1]),len(g[1]))\n",
    "    # the entire cast. This film has 9 cast members.\n",
    "    print(g[1])\n",
    "    # Example stopped after looking at just one group (film) \n",
    "    if i == j:\n",
    "        break"
   ]
  },
  {
   "cell_type": "markdown",
   "metadata": {
    "id": "XPJUxb6qsOJM"
   },
   "source": [
    "#### Step 2 Making the actor graph (not done for you)\n",
    "\n",
    "**Note:  Writing the code to finish the cell below is how you get youir\n",
    "10 points for this problem.**"
   ]
  },
  {
   "cell_type": "code",
   "execution_count": null,
   "metadata": {
    "id": "tXwxRQPcsOJM"
   },
   "outputs": [],
   "source": [
    "import networkx as nx\n",
    "G = nx.Graph()\n",
    "\n",
    "##  Your code here  "
   ]
  },
  {
   "cell_type": "code",
   "execution_count": null,
   "metadata": {
    "id": "eyw1clgZsOJM",
    "outputId": "cc3d0ec8-41aa-4d87-a441-36be2d0e389c"
   },
   "outputs": [
    {
     "data": {
      "text/plain": [
       "(36776, 511778)"
      ]
     },
     "execution_count": 83,
     "metadata": {},
     "output_type": "execute_result"
    }
   ],
   "source": [
    "len(G),len(G.edges)"
   ]
  },
  {
   "cell_type": "code",
   "execution_count": null,
   "metadata": {
    "id": "F6TflB_esOJM",
    "outputId": "57592bc5-f5de-4881-db1b-17ea3c8b48ce"
   },
   "outputs": [
    {
     "data": {
      "text/plain": [
       "(36776, 511778)"
      ]
     },
     "execution_count": 22,
     "metadata": {},
     "output_type": "execute_result"
    }
   ],
   "source": [
    "len(G),len(G.edges)"
   ]
  },
  {
   "cell_type": "markdown",
   "metadata": {
    "id": "WOgob-1ysOJM"
   },
   "source": [
    "####  Backup actor graph for thos who couldn't get their graph-building code to work"
   ]
  },
  {
   "cell_type": "code",
   "execution_count": null,
   "metadata": {
    "id": "fN2Y_wg0sOJM"
   },
   "outputs": [],
   "source": [
    "# import networkx as nx\n",
    "import urllib.request\n",
    "import os.path\n",
    "\n",
    "def url_fetch_networkx_graph (url):\n",
    "    with urllib.request.urlopen(url) as filehandle:\n",
    "         G = nx.read_gml(filehandle)\n",
    "    return G\n",
    "\n",
    "github_networks_data = 'https://raw.githubusercontent.com/gawron/python-for-social-science/master/networks/'\n",
    "actor_graph_url = os.path.join(github_networks_data, 'final_assignment_actor_graph.gml')\n",
    "\n",
    "G3 = url_fetch_networkx_graph (actor_graph_url)"
   ]
  },
  {
   "cell_type": "markdown",
   "metadata": {
    "id": "stv74r74sOJN"
   },
   "source": [
    "###  Answer the following questions about G\n",
    "\n",
    "Be sure to verify each answer with a code snippet.  You won't get credit\n",
    "for your answers unless you provide the code snippet that answers the question."
   ]
  },
  {
   "cell_type": "markdown",
   "metadata": {
    "id": "XqIkiuFrsOJN"
   },
   "source": [
    "###  2.  How many actors are there in G? (2 points)"
   ]
  },
  {
   "cell_type": "code",
   "execution_count": null,
   "metadata": {
    "id": "oLayYlfwsOJN",
    "outputId": "5d942f2f-54bd-424b-9667-b25cbc311211"
   },
   "outputs": [
    {
     "data": {
      "text/plain": [
       "36776"
      ]
     },
     "execution_count": 105,
     "metadata": {},
     "output_type": "execute_result"
    }
   ],
   "source": [
    "## Your code here"
   ]
  },
  {
   "cell_type": "markdown",
   "metadata": {
    "id": "m8age1XWsOJN"
   },
   "source": [
    "### 3.  How many edges does G have?  (2 points)"
   ]
  },
  {
   "cell_type": "markdown",
   "metadata": {
    "id": "5DtNiBpUsOJN"
   },
   "source": [
    "Attention:  This would only be `(len(G)*(len(G)-1))/2` if\n",
    "all actor pairs had appeared in films together.  They haven't."
   ]
  },
  {
   "cell_type": "code",
   "execution_count": null,
   "metadata": {
    "id": "4-7kLfknsOJN",
    "outputId": "24104fd6-3fe5-4a4b-daff-d19012db34d9"
   },
   "outputs": [
    {
     "name": "stdout",
     "output_type": "stream",
     "text": [
      "511,778\n"
     ]
    }
   ],
   "source": [
    "# Your code here"
   ]
  },
  {
   "cell_type": "markdown",
   "metadata": {
    "id": "aQSEd7OmsOJN"
   },
   "source": [
    "Not the answer:"
   ]
  },
  {
   "cell_type": "code",
   "execution_count": null,
   "metadata": {
    "id": "i48OWTFpsOJN",
    "outputId": "a2660419-2cfb-47ed-8872-0ded9fef3f87"
   },
   "outputs": [
    {
     "name": "stdout",
     "output_type": "stream",
     "text": [
      "676,218,700.0\n"
     ]
    }
   ],
   "source": [
    "print(f\"{(len(G)*(len(G)-1))/2:,}\")"
   ]
  },
  {
   "cell_type": "markdown",
   "metadata": {
    "id": "9cOvY0uEsOJN"
   },
   "source": [
    "### 4.  How many actors is Barry Fitzgerald connected to in `G`?  How many actors is Cary Grant connected to?  (2 points)"
   ]
  },
  {
   "cell_type": "code",
   "execution_count": null,
   "metadata": {
    "id": "isPn4MO3sOJN"
   },
   "outputs": [],
   "source": []
  },
  {
   "cell_type": "markdown",
   "metadata": {
    "id": "MYqFt4hWsOJN"
   },
   "source": [
    "###  5.  What are the degree centrality values for Barry Fitzgerald and Cary Grant? (3 points)"
   ]
  },
  {
   "cell_type": "code",
   "execution_count": null,
   "metadata": {
    "id": "CEQYD2SEsOJN"
   },
   "outputs": [],
   "source": []
  },
  {
   "cell_type": "code",
   "execution_count": null,
   "metadata": {
    "id": "lePv0XsisOJN",
    "scrolled": true
   },
   "outputs": [],
   "source": []
  },
  {
   "cell_type": "markdown",
   "metadata": {
    "id": "AA0ep4gAsOJN"
   },
   "source": [
    "### 6.  Have Josephine Hutchinson and Cary Grant ever appeared in a film together (according to `G`)?  (3 points)\n",
    "\n",
    "Again if you are a film buff and happen to know whether Josephine Hutchinson and Cary Grant ever appeared in a movie together, that is of no use to you here.  You need the code snippet that looks up that fact in G."
   ]
  },
  {
   "cell_type": "code",
   "execution_count": null,
   "metadata": {
    "id": "TbcsRKpbsOJN"
   },
   "outputs": [],
   "source": []
  },
  {
   "cell_type": "markdown",
   "metadata": {
    "id": "WdFgLa5qsOJN"
   },
   "source": [
    "### 7.  List the actors with the top 10 degree centralities  (5 points)\n",
    "\n",
    "More specifically, construct a list with just the top 10 actors in the order\n",
    "of their degree centrality in G from highest to lowest.  To be clear, the list should\n",
    "**not** include the centrality values."
   ]
  },
  {
   "cell_type": "code",
   "execution_count": null,
   "metadata": {
    "id": "JH_Ga_rcsOJN"
   },
   "outputs": [],
   "source": []
  },
  {
   "cell_type": "markdown",
   "metadata": {
    "id": "db1NRCaZsOJN"
   },
   "source": [
    "### 8. Find the actor who has appeared in the most films in the cast data set  (5 points)"
   ]
  },
  {
   "cell_type": "code",
   "execution_count": null,
   "metadata": {
    "id": "mH0LOVBBsOJN"
   },
   "outputs": [],
   "source": []
  },
  {
   "cell_type": "markdown",
   "metadata": {
    "id": "QpjgJWq0sOJN"
   },
   "source": [
    "### 9.  Compute the average clustering coefficient for G (5 points)"
   ]
  },
  {
   "cell_type": "markdown",
   "metadata": {
    "id": "530TyfNTsOJN"
   },
   "source": [
    "Discussion question.  You will get a major deduction if you don't have any discussion.\n",
    "\n",
    "The question you are going to answer is:  Is the clustering coefficient for G higher or lower than\n",
    "that of most social networks?  You will estimate a rough answer for this question\n",
    "by comparing the average clustering coefficient of the Karate Graph and the Florentine Familes graph, both available in `networkx`.  In a sentence or two, explain why you would expect the clustering coefficient to be higher/lower than it is for most social networks. You may find your explanation facilitated by also computing the **density**\n",
    "of G (see the new networkx notebook discussion on clustering coefficient for random graphs, the Zachary's karate club graph, and Florentine Families).\n",
    "\n",
    "You may or may not want to cite a source. If you do, \"I googled it,\" is not a valid citation. Then do the computations to validate your guess.  The intended way to answer this question is to think about what property the clustering measures and then think about some specific features of the actor's network might increase/decrease the measure of that property."
   ]
  },
  {
   "cell_type": "code",
   "execution_count": null,
   "metadata": {
    "id": "B5fXAI_MsOJN"
   },
   "outputs": [],
   "source": [
    "# Your code here"
   ]
  },
  {
   "cell_type": "markdown",
   "metadata": {
    "id": "vAHwuV57sOJO"
   },
   "source": [
    "Your discussion here"
   ]
  },
  {
   "cell_type": "markdown",
   "metadata": {
    "collapsed": true,
    "id": "xFEMXmFDsOJO"
   },
   "source": [
    "### 10. Make a barplot showing the number of films that have been released each decade using all films made in or before 2022  (4 points)\n",
    "\n",
    "Helpful hint.   You may use `titles`."
   ]
  },
  {
   "cell_type": "markdown",
   "metadata": {
    "id": "rHDLShO4sOJO"
   },
   "source": [
    "You should use your plot to answer the following ancillary question.  Excluding the 2020 decade (which has incomplete data), in what decade did the number of films\n",
    "made go down?  Can you come up with an explanation as to why?"
   ]
  },
  {
   "cell_type": "code",
   "execution_count": null,
   "metadata": {
    "id": "fXGN-t_CsOJO"
   },
   "outputs": [],
   "source": []
  },
  {
   "cell_type": "markdown",
   "metadata": {
    "id": "z-pw2hZ0sOJO"
   },
   "source": [
    "[Your answer to the ancillary question goes here]"
   ]
  },
  {
   "cell_type": "markdown",
   "metadata": {
    "collapsed": true,
    "id": "LTQ1dsgpsOJO"
   },
   "source": [
    "### 11. Plot the number of \"Hamlet\" films made each decade.  (4 points)"
   ]
  },
  {
   "cell_type": "code",
   "execution_count": null,
   "metadata": {
    "id": "sRXW8AcrsOJO"
   },
   "outputs": [],
   "source": [
    "# Your code here"
   ]
  },
  {
   "cell_type": "markdown",
   "metadata": {
    "collapsed": true,
    "id": "InHqNA4zsOJO"
   },
   "source": [
    "### 12.  In the 1950s decade taken as a whole, how many total roles were available to actors, and how many to actresses, for each \"n\" number 1 through 5?  Which value of n shows the least gender disparity?  Can you think of a reason why?  (5 points)"
   ]
  },
  {
   "cell_type": "code",
   "execution_count": null,
   "metadata": {
    "id": "OWcAgZ0DsOJO"
   },
   "outputs": [],
   "source": [
    "# Your code here"
   ]
  },
  {
   "cell_type": "markdown",
   "metadata": {
    "collapsed": true,
    "id": "61rludfGsOJO"
   },
   "source": [
    "### 13.  List each of the movies (year/title pairs) in which Peter Sellers has played at least two roles (there are 7) (5 points)\n",
    "\n",
    "Use cast0."
   ]
  },
  {
   "cell_type": "code",
   "execution_count": null,
   "metadata": {
    "id": "jwDP6s5qsOJO"
   },
   "outputs": [],
   "source": [
    "#### List each of the movies (year/title pairs) in which Peter Sellers has played at least two roles\n"
   ]
  },
  {
   "cell_type": "markdown",
   "metadata": {
    "id": "Mz92_WCOsOJO"
   },
   "source": [
    "### 14.  How many films has Peter Sellers appeared in?  Use cast0 data.   (5 points)\n",
    "\n",
    "Note: This is mildly tricky because as we saw above, there are a number\n",
    "of cases in which he has played multiple roles in the same film.\n",
    "Helpful hint: Therefore 32, the number of rows in which \"Peter Sellers\"\n",
    "appears in the `\"name\"` column in cast0 data, is the wrong answer."
   ]
  },
  {
   "cell_type": "code",
   "execution_count": null,
   "metadata": {
    "id": "fJKYB2D2sOJO"
   },
   "outputs": [],
   "source": [
    "# Your code here"
   ]
  },
  {
   "cell_type": "markdown",
   "metadata": {
    "id": "mQ9U_ZN6sOJO"
   },
   "source": [
    "### 15.  Create a Series which is indexed by Actor/Actress names and contains the number of films each actor has appeared in.  Your answer should account for the fact that a single actor can play multiple roles in a single film.   Use cast0 data.  (5 points)\n",
    "\n",
    "Hint One:  Use Peter Sellers as a test case and call your answer `num_films`.\n",
    "Then `num_films['Peter Sellers']` should give the answer you gave above for the number of films Peter Sellers has appeared in, and it should not be 32.\n",
    "\n",
    "Other tests to replicate:\n",
    "\n",
    "```\n",
    ">>> num_films['Cary Grant']\n",
    "42\n",
    ">>> len(num_films)  \n",
    "36776\n",
    "```\n",
    "\n",
    "Where the last number is of course the number of actors in\n",
    "the cast0 data.\n",
    "\n",
    "Hint Two:  For a `Series`, the method `.nunique()` returns the number of unique values in the `Series` (an integer). For a `SeriesGroupBy` instance it gives the number of unique values by group. "
   ]
  },
  {
   "cell_type": "code",
   "execution_count": null,
   "metadata": {
    "id": "uWK03sU_sOJO"
   },
   "outputs": [],
   "source": [
    "# Your code here"
   ]
  },
  {
   "cell_type": "markdown",
   "metadata": {
    "id": "-2heOAMjsOJO"
   },
   "source": [
    "### 16.  What actor has appeared in the most films? Use cast0 data.  (5 points)"
   ]
  },
  {
   "cell_type": "code",
   "execution_count": null,
   "metadata": {
    "id": "khEjxVzOsOJO"
   },
   "outputs": [],
   "source": [
    "# Your code here"
   ]
  },
  {
   "cell_type": "markdown",
   "metadata": {
    "id": "yGh9yI5nsOJO"
   },
   "source": [
    "### 17.  List the actor who has played the most roles in a single film together with the year and title of the film and the number of roles played. Optionally (for no extra credit, in a separate computation), list the roles that actor played in that film. (5 points)"
   ]
  },
  {
   "cell_type": "code",
   "execution_count": null,
   "metadata": {
    "id": "BHS3OhKAsOJO"
   },
   "outputs": [],
   "source": [
    "# Your code here"
   ]
  },
  {
   "cell_type": "markdown",
   "metadata": {
    "id": "yDiFf8qcsOJO"
   },
   "source": [
    "And here are the  roles.  Who can forget X's performance as Y?"
   ]
  },
  {
   "cell_type": "code",
   "execution_count": null,
   "metadata": {
    "id": "szAfsjCfsOJO"
   },
   "outputs": [],
   "source": [
    "# Youe code here"
   ]
  },
  {
   "cell_type": "markdown",
   "metadata": {
    "id": "bd3fR6SysOJO"
   },
   "source": [
    "### 18.  Define the actress surplus of a film as the number of actress roles minus the number of actor roles.  What film had the greatest actress surplus alltime? Note:  Use cast as defined above, not cast0 as defined above. (5 points)\n",
    "\n",
    "Hint: Begin by creating\n",
    "a DataFrame indexed by films with actor and actress columns giving the number of actresses\n",
    "and actors in each film.  "
   ]
  },
  {
   "cell_type": "markdown",
   "metadata": {
    "id": "6ziOr7bcsOJP"
   },
   "source": [
    "### 19.  Build a classifier which assigns classes to wine data (10 points)\n",
    "\n",
    "You must fill in the code cell below per the instructions.,\n",
    "and you must answer the discussion questions that follow."
   ]
  },
  {
   "cell_type": "markdown",
   "metadata": {
    "id": "wChf1-OLsOJP"
   },
   "source": [
    "In this problem you will load some data from scikit_learn, in particular [the wine recognition data set from scikit learn](https://scikit-learn.org/stable/datasets/toy_dataset.html),\n",
    "which tries to discriminate 3 wine classes based on  13 features. You can read about this dataset by \n",
    "following the link.  Your problem will be to discriminate `class_0` from the other two.\n",
    "Make sure you update your `target` as we did with a similar problem in the regression\n",
    "and classification assignment.\n",
    "\n",
    "Try using at least five classifiers on the data (at least one SVM, as well as the Bernoulli Naive Bayes model). See the regression and classification notebook, as well as the solution to the text classification assignment, for help on where to get these and other classifiers.\n",
    "\n",
    "Be sure to get the average of at runs least 10 runs for all classifiers.\n",
    "Be sure to get accuracy, precision, and recall for all\n",
    "classifiers on those multiple runs.\n",
    "\n",
    "\n",
    "There  are some guidelines on the discussion part of this question below the code cell."
   ]
  },
  {
   "cell_type": "code",
   "execution_count": null,
   "metadata": {
    "id": "8dy2WV9KsOJP"
   },
   "outputs": [],
   "source": [
    "## Your code goes here.  You will need to add more imports to those given\n",
    "def split_vectorize_and_fit(T,L,clf,pos_label='pos'):\n",
    "    \"\"\"\n",
    "    Added default value for pos label\n",
    "    Added classifier argument.  \n",
    "    \"\"\"\n",
    "    T_train,T_test, y_train,y_test = train_test_split(T,L)\n",
    "    tf = text.TfidfVectorizer()\n",
    "    X_train = tf.fit_transform(T_train)\n",
    "    clf.fit(X_train, y_train)\n",
    "    X_test = tf.transform(T_test)\n",
    "    predictions = clf.predict(X_test)\n",
    "    return precision_score(y_test,predictions,pos_label=pos_label), \\\n",
    "           recall_score(y_test, predictions,pos_label=pos_label), \\\n",
    "           accuracy_score(y_test,predictions)\n",
    "\n",
    "from sklearn.datasets import load_wine\n",
    "data = load_wine()\n"
   ]
  },
  {
   "cell_type": "markdown",
   "metadata": {
    "id": "T1O2L573sOJP"
   },
   "source": [
    "#### Evaluation report \n",
    "\n",
    "In this section discuss your results. Which classifier did best on precision?  \n",
    "Which classifier did best on accuracy? \n",
    "Which classifier did best on recall?  \n",
    "Which classifier did best overall?  How did you deciode that?\n",
    "\n",
    "Which is each classifier most likely to do\n",
    "\n",
    "> a. Call what actually a class_0 wine a non class_0 wine; or\n",
    "\n",
    "> b. Call what is non class_0 wine and clas_o wine.\n",
    "\n",
    "For 5 points midterm score extra credit, train your classifier on three classes, \n",
    "Rather than report precision and recall numbers, give the confusion\n",
    "matrix for the three classes in the format used at the end of the regression/classification notebook\n",
    "for the iris data, using just one of your training/split/eval runs.\n"
   ]
  },
  {
   "cell_type": "markdown",
   "metadata": {
    "id": "e2ePs4HfsOJP"
   },
   "source": [
    "### 20. Using cast0 as defined above to provide your statistics, train and test a linear regression model that  predicts the degree_centrality of an actor/actress from the number of films they have appeared in and their average n-value.  Your testing should evaluate the model's performance using mean squared error.  (10 points)\n",
    "\n",
    "Hint one:  You will have an easier time using the code from the simple_regression\n",
    "notebook for a model if you create a DataFrame with columns \n",
    "for the two variables you are using as predictors (1. the number\n",
    "of films an actor has appeared in and 2. the average n-value of their\n",
    "roles) and another column for the variable you're predicting (the actor's degree\n",
    "centrality in G, the actors network you built above). Call this `DataFrame` `regression_df`.  The index of `regression_df` should be actor names. There are 36,776 unique `\"name\"` values in the `cast0` data, so  `regression_df` should have 36,776 rows.  \n",
    "\n",
    "Hint Two: If you're lucky, you created each predictor column \n",
    "as a `Series` indexed by actor names in a previous problem, and you created the\n",
    "predicted column (degree centrality) as a dictionary with actor name keys\n",
    "in a previous problem.\n",
    "\n",
    "In that case, you \n",
    "may be able to adapt the following code snippet to create your `regression_df`:\n",
    "\n",
    "```\n",
    "regression_df = pd.DataFrame({'num_films': num_films,\n",
    "                             'mean_n': mn_n,\n",
    "                             'centrality': dc\n",
    "                             })\n",
    "```\n",
    "\n",
    "For full credit you must test your model.  This means you must separate your data into training and test sets.   Reserve about 10% of your data for testing.  The following\n",
    "code snippet may be of use or you may find using the model given in the classification problems\n",
    "easier.\n",
    "\n",
    "```\n",
    "import random\n",
    "\n",
    "sample_size = len(regression_df)\n",
    "test_sample_size = sample_size//10\n",
    "\n",
    "remove_indices = random.sample(list(regression_df.index),k=test_sample_size)\n",
    "keep_indices = list(set(regression_df.index) - set(remove_indices))\n",
    "\n",
    "training_data= regression_df.loc[keep_indices]\n",
    "test_data= regression_df.loc[remove_indices]\n",
    "```\n"
   ]
  },
  {
   "cell_type": "code",
   "execution_count": null,
   "metadata": {
    "id": "2rJUfJygsOJP"
   },
   "outputs": [],
   "source": [
    "# Your train/test split and training code here"
   ]
  },
  {
   "cell_type": "code",
   "execution_count": null,
   "metadata": {
    "id": "4AtVEdREsOJP"
   },
   "outputs": [],
   "source": [
    "# Your evaluation code here (mean squared error)"
   ]
  }
 ],
 "metadata": {
  "colab": {
   "provenance": []
  },
  "kernelspec": {
   "display_name": "Python 3 (ipykernel)",
   "language": "python",
   "name": "python3"
  },
  "language_info": {
   "codemirror_mode": {
    "name": "ipython",
    "version": 3
   },
   "file_extension": ".py",
   "mimetype": "text/x-python",
   "name": "python",
   "nbconvert_exporter": "python",
   "pygments_lexer": "ipython3",
   "version": "3.10.6"
  }
 },
 "nbformat": 4,
 "nbformat_minor": 1
}
