{
 "cells": [
  {
   "cell_type": "markdown",
   "id": "7b75cd79",
   "metadata": {
    "id": "IETx-a2DorhR"
   },
   "source": [
    "## Example: Recipe Database\n",
    "\n",
    "These vectorized string operations become most useful in the process of cleaning up messy, real-world data.\n",
    "Here I'll walk through an example of that, using an open recipe database compiled from various sources on the Web.\n",
    "Our goal will be to parse the recipe data into ingredient lists, so we can quickly find a recipe based on some ingredients we have on hand.\n",
    "\n",
    "The scripts used to compile this can be found at https://github.com/fictivekin/openrecipes, and the link to the current version of the database is found there as well.\n",
    "\n",
    "As of Spring 2016, this database is about 30 MB, and can be downloaded and unzipped with these commands:"
   ]
  },
  {
   "cell_type": "code",
   "execution_count": null,
   "id": "7c489de6",
   "metadata": {
    "id": "as6dmrcXorhR"
   },
   "outputs": [],
   "source": [
    "# !curl https://s3.amazonaws.com/openrecipes/20170107-061401-recipeitems.json.gz --output 20170107-061401-recipeitems.json.gz\n",
    "# !gunzip 20170107-061401-recipeitems.json.gz"
   ]
  },
  {
   "cell_type": "markdown",
   "id": "80d44d7e",
   "metadata": {
    "id": "zDsJpnjJorhR"
   },
   "source": [
    "We assume you have used the cell above to get it n your home machine (or your Google Drive if you are working\n",
    "in Google Colab, and we further assume you know how to read files from your Goioigle Drive if]you're on Google Colab). \n",
    "\n",
    "The database is in JSON format, so we will try ``pd.read_json`` to read it in as a `pandas` `DataFrame`."
   ]
  },
  {
   "cell_type": "code",
   "execution_count": 3,
   "id": "48031ee2",
   "metadata": {
    "id": "t4GOgaxqorhR",
    "outputId": "38efe235-35a7-4bd2-fb33-703e2253ba41"
   },
   "outputs": [
    {
     "name": "stdout",
     "output_type": "stream",
     "text": [
      "ValueError: Trailing data\n"
     ]
    }
   ],
   "source": [
    "import pandas as pd\n",
    "path = '/Users/gawron/Desktop/src/sphinx/python_for_ss_extras/colab_notebooks/'\\\n",
    "     'python-for-social-science/pandas/datasets/20170107-061401-recipeitems.json'\n",
    "try:\n",
    "    recipes = pd.read_json(path)\n",
    "except ValueError as e:\n",
    "    print(\"ValueError:\", e)"
   ]
  },
  {
   "cell_type": "markdown",
   "id": "f7961883",
   "metadata": {
    "id": "uu5hu-TBorhS"
   },
   "source": [
    "Oops! We get a ``ValueError`` mentioning that there is \"trailing data.\"\n",
    "Searching for the text of this error on the Internet, it seems that it's due to using a file in which *each line* is itself a valid JSON, but the full file is not.\n",
    "Let's check if this interpretation is true:"
   ]
  },
  {
   "cell_type": "markdown",
   "id": "7d9ccb2e",
   "metadata": {},
   "source": [
    "JMG The underlying problem comes into focus if we try\n",
    "to json process a single line.\n",
    "What we discovered is that a single json line does not produce the partial DataFrame\n",
    "you want:"
   ]
  },
  {
   "cell_type": "code",
   "execution_count": 2,
   "id": "7ad170a4",
   "metadata": {},
   "outputs": [],
   "source": [
    "import json\n",
    "with open(path,'r') as fh:\n",
    "    line = fh.readline().strip()\n",
    "json_dict = json.loads(line)"
   ]
  },
  {
   "cell_type": "code",
   "execution_count": 3,
   "id": "0d4eae91",
   "metadata": {},
   "outputs": [
    {
     "data": {
      "text/plain": [
       "{'_id': {'$oid': '5160756b96cc62079cc2db15'},\n",
       " 'name': 'Drop Biscuits and Sausage Gravy',\n",
       " 'ingredients': 'Biscuits\\n3 cups All-purpose Flour\\n2 Tablespoons Baking Powder\\n1/2 teaspoon Salt\\n1-1/2 stick (3/4 Cup) Cold Butter, Cut Into Pieces\\n1-1/4 cup Butermilk\\n SAUSAGE GRAVY\\n1 pound Breakfast Sausage, Hot Or Mild\\n1/3 cup All-purpose Flour\\n4 cups Whole Milk\\n1/2 teaspoon Seasoned Salt\\n2 teaspoons Black Pepper, More To Taste',\n",
       " 'url': 'http://thepioneerwoman.com/cooking/2013/03/drop-biscuits-and-sausage-gravy/',\n",
       " 'image': 'http://static.thepioneerwoman.com/cooking/files/2013/03/bisgrav.jpg',\n",
       " 'ts': {'$date': 1365276011104},\n",
       " 'cookTime': 'PT30M',\n",
       " 'source': 'thepioneerwoman',\n",
       " 'recipeYield': '12',\n",
       " 'datePublished': '2013-03-11',\n",
       " 'prepTime': 'PT10M',\n",
       " 'description': 'Late Saturday afternoon, after Marlboro Man had returned home with the soccer-playing girls, and I had returned home with the...'}"
      ]
     },
     "execution_count": 3,
     "metadata": {},
     "output_type": "execute_result"
    }
   ],
   "source": [
    "json_dict"
   ]
  },
  {
   "cell_type": "code",
   "execution_count": 68,
   "id": "75547b4c",
   "metadata": {},
   "outputs": [
    {
     "data": {
      "text/html": [
       "<div>\n",
       "<style scoped>\n",
       "    .dataframe tbody tr th:only-of-type {\n",
       "        vertical-align: middle;\n",
       "    }\n",
       "\n",
       "    .dataframe tbody tr th {\n",
       "        vertical-align: top;\n",
       "    }\n",
       "\n",
       "    .dataframe thead th {\n",
       "        text-align: right;\n",
       "    }\n",
       "</style>\n",
       "<table border=\"1\" class=\"dataframe\">\n",
       "  <thead>\n",
       "    <tr style=\"text-align: right;\">\n",
       "      <th></th>\n",
       "      <th>_id</th>\n",
       "      <th>name</th>\n",
       "      <th>ingredients</th>\n",
       "      <th>url</th>\n",
       "      <th>image</th>\n",
       "      <th>ts</th>\n",
       "      <th>cookTime</th>\n",
       "      <th>source</th>\n",
       "      <th>recipeYield</th>\n",
       "      <th>datePublished</th>\n",
       "      <th>prepTime</th>\n",
       "      <th>description</th>\n",
       "    </tr>\n",
       "  </thead>\n",
       "  <tbody>\n",
       "    <tr>\n",
       "      <th>$oid</th>\n",
       "      <td>5160756b96cc62079cc2db15</td>\n",
       "      <td>Drop Biscuits and Sausage Gravy</td>\n",
       "      <td>Biscuits\\n3 cups All-purpose Flour\\n2 Tablespo...</td>\n",
       "      <td>http://thepioneerwoman.com/cooking/2013/03/dro...</td>\n",
       "      <td>http://static.thepioneerwoman.com/cooking/file...</td>\n",
       "      <td>NaN</td>\n",
       "      <td>PT30M</td>\n",
       "      <td>thepioneerwoman</td>\n",
       "      <td>12</td>\n",
       "      <td>2013-03-11</td>\n",
       "      <td>PT10M</td>\n",
       "      <td>Late Saturday afternoon, after Marlboro Man ha...</td>\n",
       "    </tr>\n",
       "    <tr>\n",
       "      <th>$date</th>\n",
       "      <td>NaN</td>\n",
       "      <td>Drop Biscuits and Sausage Gravy</td>\n",
       "      <td>Biscuits\\n3 cups All-purpose Flour\\n2 Tablespo...</td>\n",
       "      <td>http://thepioneerwoman.com/cooking/2013/03/dro...</td>\n",
       "      <td>http://static.thepioneerwoman.com/cooking/file...</td>\n",
       "      <td>1.365276e+12</td>\n",
       "      <td>PT30M</td>\n",
       "      <td>thepioneerwoman</td>\n",
       "      <td>12</td>\n",
       "      <td>2013-03-11</td>\n",
       "      <td>PT10M</td>\n",
       "      <td>Late Saturday afternoon, after Marlboro Man ha...</td>\n",
       "    </tr>\n",
       "  </tbody>\n",
       "</table>\n",
       "</div>"
      ],
      "text/plain": [
       "                            _id                             name  \\\n",
       "$oid   5160756b96cc62079cc2db15  Drop Biscuits and Sausage Gravy   \n",
       "$date                       NaN  Drop Biscuits and Sausage Gravy   \n",
       "\n",
       "                                             ingredients  \\\n",
       "$oid   Biscuits\\n3 cups All-purpose Flour\\n2 Tablespo...   \n",
       "$date  Biscuits\\n3 cups All-purpose Flour\\n2 Tablespo...   \n",
       "\n",
       "                                                     url  \\\n",
       "$oid   http://thepioneerwoman.com/cooking/2013/03/dro...   \n",
       "$date  http://thepioneerwoman.com/cooking/2013/03/dro...   \n",
       "\n",
       "                                                   image            ts  \\\n",
       "$oid   http://static.thepioneerwoman.com/cooking/file...           NaN   \n",
       "$date  http://static.thepioneerwoman.com/cooking/file...  1.365276e+12   \n",
       "\n",
       "      cookTime           source recipeYield datePublished prepTime  \\\n",
       "$oid     PT30M  thepioneerwoman          12    2013-03-11    PT10M   \n",
       "$date    PT30M  thepioneerwoman          12    2013-03-11    PT10M   \n",
       "\n",
       "                                             description  \n",
       "$oid   Late Saturday afternoon, after Marlboro Man ha...  \n",
       "$date  Late Saturday afternoon, after Marlboro Man ha...  "
      ]
     },
     "execution_count": 68,
     "metadata": {},
     "output_type": "execute_result"
    }
   ],
   "source": [
    "pd.DataFrame(json_dict)"
   ]
  },
  {
   "cell_type": "markdown",
   "id": "6e0aaa97",
   "metadata": {},
   "source": [
    "JMG: Note the DataFrame resulting from this json dictionary has two rows, and the index is garbled:\n",
    "\n",
    "This is due to a `pandas`\n",
    "convention. Basically the \"row\" `A B {a: C} {b:D}` is read as an abbreviation for two rows,\n",
    "differing only in their third and fourth column values  and \n",
    "also in their index entries. So in particular `A B {a: C} {b:D}`  becomes\n",
    "\n",
    "```\n",
    "a  A B C  NaN\n",
    "b  A B Nan D\n",
    "```"
   ]
  },
  {
   "cell_type": "markdown",
   "id": "7d8b4f25",
   "metadata": {},
   "source": [
    "The rather awful solution\n",
    "that worked was to read the file in line by line as raw json, and throw away the dictionary wrappers, which were intended to provide typing information."
   ]
  },
  {
   "cell_type": "code",
   "execution_count": 4,
   "id": "8c92bdde",
   "metadata": {
    "id": "fb1QWKGaorhS",
    "outputId": "ce78ad39-c415-4c8e-ed81-6ce22fbead28"
   },
   "outputs": [],
   "source": [
    "import json\n",
    "def fix_dd (dd):\n",
    "    to_do = []\n",
    "    for (key,val) in dd.items():\n",
    "        if isinstance(val,dict) and len(val) == 1:\n",
    "            to_do.append((key, val[list(val.keys())[0]]))\n",
    "        elif isinstance(val,dict)and len(val) == 0:\n",
    "            print('***Zero-keyed value found***')\n",
    "        elif isinstance(val,dict):\n",
    "            print('***Multi-keyed value found***')\n",
    "    for (key,new_val) in to_do:\n",
    "        # overwrite key -> {k:v} to be key ->v\n",
    "        dd[key] = new_val\n",
    "    return dd\n",
    "\n",
    "with open(path) as f:        \n",
    "    recipes = pd.DataFrame(fix_dd(json.loads(line.strip())) for line in f)"
   ]
  },
  {
   "cell_type": "code",
   "execution_count": 5,
   "id": "ac256c1b",
   "metadata": {},
   "outputs": [
    {
     "data": {
      "text/plain": [
       "(173278, 17)"
      ]
     },
     "execution_count": 5,
     "metadata": {},
     "output_type": "execute_result"
    }
   ],
   "source": [
    "recipes.shape"
   ]
  },
  {
   "cell_type": "markdown",
   "id": "875651e8",
   "metadata": {
    "id": "XjxajuLJorhT"
   },
   "source": [
    "We see there are nearly 200,000 recipes, and 17 columns.\n",
    "Let's take a look at one row to see what we have:"
   ]
  },
  {
   "cell_type": "code",
   "execution_count": 12,
   "id": "0415a6c1",
   "metadata": {},
   "outputs": [
    {
     "data": {
      "text/plain": [
       "_id                                            5160756b96cc62079cc2db15\n",
       "name                                    Drop Biscuits and Sausage Gravy\n",
       "ingredients           Biscuits\\n3 cups All-purpose Flour\\n2 Tablespo...\n",
       "url                   http://thepioneerwoman.com/cooking/2013/03/dro...\n",
       "image                 http://static.thepioneerwoman.com/cooking/file...\n",
       "ts                                                        1365276011104\n",
       "cookTime                                                          PT30M\n",
       "source                                                  thepioneerwoman\n",
       "recipeYield                                                          12\n",
       "datePublished                                                2013-03-11\n",
       "prepTime                                                          PT10M\n",
       "description           Late Saturday afternoon, after Marlboro Man ha...\n",
       "totalTime                                                           NaN\n",
       "creator                                                             NaN\n",
       "recipeCategory                                                      NaN\n",
       "dateModified                                                        NaN\n",
       "recipeInstructions                                                  NaN\n",
       "Name: 0, dtype: object"
      ]
     },
     "execution_count": 12,
     "metadata": {},
     "output_type": "execute_result"
    }
   ],
   "source": [
    "# JMG modified output\n",
    "recipes.iloc[0]"
   ]
  },
  {
   "cell_type": "markdown",
   "id": "c2590fa3",
   "metadata": {
    "id": "ROssJc0VorhT"
   },
   "source": [
    "There is a lot of information there, but much of it is in a very messy form, as is typical of data scraped from the Web.\n",
    "In particular, the ingredient list is in string format; we're going to have to carefully extract the information we're interested in.\n",
    "Let's start by taking a closer look at the ingredients:"
   ]
  },
  {
   "cell_type": "code",
   "execution_count": 125,
   "id": "5cef9b34",
   "metadata": {
    "id": "Q_0rfcnNorhU",
    "outputId": "42a96185-f6ec-404d-ca8b-f11b3b2a4f45"
   },
   "outputs": [
    {
     "data": {
      "text/plain": [
       "count    173278.000000\n",
       "mean        244.617926\n",
       "std         146.705285\n",
       "min           0.000000\n",
       "25%         147.000000\n",
       "50%         221.000000\n",
       "75%         314.000000\n",
       "max        9067.000000\n",
       "Name: ingredients, dtype: float64"
      ]
     },
     "execution_count": 125,
     "metadata": {},
     "output_type": "execute_result"
    }
   ],
   "source": [
    "recipes.ingredients.str.len().describe()"
   ]
  },
  {
   "cell_type": "markdown",
   "id": "238860a6",
   "metadata": {
    "id": "NOIviKw1orhU"
   },
   "source": [
    "The ingredient lists average 250 characters long, with a minimum of 0 and a maximum of nearly 10,000 characters!\n",
    "\n",
    "Just out of curiousity, let's see which recipe has the longest ingredient list:"
   ]
  },
  {
   "cell_type": "code",
   "execution_count": 6,
   "id": "d7230ed6",
   "metadata": {
    "id": "wu65FdZDorhU",
    "outputId": "7b6af0dd-d817-4fff-ca95-4a8001918928"
   },
   "outputs": [
    {
     "data": {
      "text/plain": [
       "'Carrot Pineapple Spice &amp; Brownie Layer Cake with Whipped Cream &amp; Cream Cheese Frosting and Marzipan Carrots'"
      ]
     },
     "execution_count": 6,
     "metadata": {},
     "output_type": "execute_result"
    }
   ],
   "source": [
    "import numpy as np\n",
    "test = np.argmax(recipes.ingredients.str.len())\n",
    "testname = recipes.name[test]\n",
    "testname"
   ]
  },
  {
   "cell_type": "markdown",
   "id": "83ab0a1e",
   "metadata": {
    "id": "3OOXo8l1orhU"
   },
   "source": [
    "That certainly looks like an involved recipe."
   ]
  },
  {
   "cell_type": "markdown",
   "id": "f8dc61c9",
   "metadata": {},
   "source": [
    "#### Cleaning up the ingredients list"
   ]
  },
  {
   "cell_type": "markdown",
   "id": "c26d3fd1",
   "metadata": {},
   "source": [
    "There is a problem with with the longest ingredients list.\n",
    "\n",
    "Here's what the first two lines of the longest ingredients list looks like:"
   ]
  },
  {
   "cell_type": "code",
   "execution_count": 9,
   "id": "1e8fa476",
   "metadata": {},
   "outputs": [
    {
     "name": "stdout",
     "output_type": "stream",
     "text": [
      "1 cup carrot juice2 cups (280 g) all purpose flour1/2 cup (65 g) almond meal or almond flour1 tablespoon baking powder1 teaspoon baking soda3/4 teaspoon fine sea salt1 teaspoon ground cinnamon1/2 teaspoon ground ginger1/2 teaspoon ground nutmeg1/4 teaspoon ground allspice1/4 teaspoon ground cloves1/4 teaspoon ground cardamom1/4 teaspoon fresh ground black pepper2 cups (400 g) white granulated sugar3/4 cup (175 mL) neutral flavored cooking oil (like sunflower)1 lbs (450 g) carrots, finely freshly grated1 cup (160 g) finely chopped fresh pineapple3 large eggs2 teaspoon vanilla extract1/2 teaspoon almond extract\n",
      "\n",
      "2 cups (280 g) all purpose flour1/2 cup (65 g) almond meal or almond flour1 tablespoon baking powder1 teaspoon baking soda3/4 teaspoon fine sea salt1 teaspoon ground cinnamon1/2 teaspoon ground ginger1/2 teaspoon ground nutmeg1/4 teaspoon ground allspice1/4 teaspoon ground cloves1/4 teaspoon ground cardamom1/4 teaspoon fresh ground black pepper2 cups (400 g) white granulated sugar3/4 cup (175 mL) neutral flavored cooking oil (like sunflower)1 lbs (450 g) carrots, finely freshly grated1 cup (160 g) finely chopped fresh pineapple3 large eggs2 teaspoon vanilla extract1/2 teaspoon almond extract\n"
     ]
    }
   ],
   "source": [
    "print(*recipes.ingredients[test].split('\\n')[:2],sep='\\n\\n')"
   ]
  },
  {
   "cell_type": "markdown",
   "id": "852043f8",
   "metadata": {},
   "source": [
    "Note the second line is a **partial** repeat of the first.  That is, it's the same the same as the first after the first ingredient (\"1 cup carrot juice\") has been stripped away.\n",
    "\n",
    "Similarly. the third line is the same as the second after the first ingredient in the second line has been stripped\n",
    "away.  And so on.  This is probably due to a bug in some code that was supposed to parse the ingredients.\n",
    "\n",
    "The problem is pretty weird; the fix is pretty ad hoc."
   ]
  },
  {
   "cell_type": "code",
   "execution_count": 18,
   "id": "df572acb",
   "metadata": {},
   "outputs": [
    {
     "name": "stdout",
     "output_type": "stream",
     "text": [
      "1 cup carrot juice2 cups (280 g) all purpose flour1/2 cup (65 g) almond meal or almond flour1 tablespoon baking powder1 teaspoon baking soda3/4 teaspoon fine sea salt1 teaspoon ground cinnamon1/2 teaspoon ground ginger1/2 teaspoon ground nutmeg1/4 teaspoon ground allspice1/4 teaspoon ground cloves1/4 teaspoon ground cardamom1/4 teaspoon fresh ground black pepper2 cups (400 g) white granulated sugar3/4 cup (175 mL) neutral flavored cooking oil (like sunflower)1 lbs (450 g) carrots, finely freshly grated1 cup (160 g) finely chopped fresh pineapple3 large eggs2 teaspoon vanilla extract1/2 teaspoon almond extract\n",
      "2 cups (280 g) all purpose flour1/2 cup (65 g) almond meal or almond flour1 tablespoon baking powder1 teaspoon baking soda3/4 teaspoon fine sea salt1 teaspoon ground cinnamon1/2 teaspoon ground ginger1/2 teaspoon ground nutmeg1/4 teaspoon ground allspice1/4 teaspoon ground cloves1/4 teaspoon ground cardamom1/4 teaspoon fresh ground black pepper2 cups (400 g) white granulated sugar3/4 cup (175 mL) neutral flavored cooking oil (like sunflower)1 lbs (450 g) carrots, finely freshly grated1 cup (160 g) finely chopped fresh pineapple3 large eggs2 teaspoon vanilla extract1/2 teaspoon almond extract\n",
      "1/2 cup (65 g) almond meal or almond flour1 tablespoon baking powder1 teaspoon baking soda3/4 teaspoon fine sea salt1 teaspoon ground cinnamon1/2 teaspoon ground ginger1/2 teaspoon ground nutmeg1/4 teaspoon ground allspice1/4 teaspoon ground cloves1/4 teaspoon ground cardamom1/4 teaspoon fresh ground black pepper2 cups (400 g) white granulated sugar3/4 cup (175 mL) neutral flavored cooking oil (like sunflower)1 lbs (450 g) carrots, finely freshly grated1 cup (160 g) finely chopped fresh pineapple3 large eggs2 teaspoon vanilla extract1/2 teaspoon almond extract\n",
      "1 tablespoon baking powder1 teaspoon baking soda3/4 teaspoon fine sea salt1 teaspoon ground cinnamon1/2 teaspoon ground ginger1/2 teaspoon ground nutmeg1/4 teaspoon ground allspice1/4 teaspoon ground cloves1/4 teaspoon ground cardamom1/4 teaspoon fresh ground black pepper2 cups (400 g) white granulated sugar3/4 cup (175 mL) neutral flavored cooking oil (like sunflower)1 lbs (450 g) carrots, finely freshly grated1 cup (160 g) finely chopped fresh pineapple3 large eggs2 teaspoon vanilla extract1/2 teaspoon almond extract\n",
      "1 teaspoon baking soda3/4 teaspoon fine sea salt1 teaspoon ground cinnamon1/2 teaspoon ground ginger1/2 teaspoon ground nutmeg1/4 teaspoon ground allspice1/4 teaspoon ground cloves1/4 teaspoon ground cardamom1/4 teaspoon fresh ground black pepper2 cups (400 g) white granulated sugar3/4 cup (175 mL) neutral flavored cooking oil (like sunflower)1 lbs (450 g) carrots, finely freshly grated1 cup (160 g) finely chopped fresh pineapple3 large eggs2 teaspoon vanilla extract1/2 teaspoon almond extract\n",
      "3/4 teaspoon fine sea salt1 teaspoon ground cinnamon1/2 teaspoon ground ginger1/2 teaspoon ground nutmeg1/4 teaspoon ground allspice1/4 teaspoon ground cloves1/4 teaspoon ground cardamom1/4 teaspoon fresh ground black pepper2 cups (400 g) white granulated sugar3/4 cup (175 mL) neutral flavored cooking oil (like sunflower)1 lbs (450 g) carrots, finely freshly grated1 cup (160 g) finely chopped fresh pineapple3 large eggs2 teaspoon vanilla extract1/2 teaspoon almond extract\n",
      "1 teaspoon ground cinnamon1/2 teaspoon ground ginger1/2 teaspoon ground nutmeg1/4 teaspoon ground allspice1/4 teaspoon ground cloves1/4 teaspoon ground cardamom1/4 teaspoon fresh ground black pepper2 cups (400 g) white granulated sugar3/4 cup (175 mL) neutral flavored cooking oil (like sunflower)1 lbs (450 g) carrots, finely freshly grated1 cup (160 g) finely chopped fresh pineapple3 large eggs2 teaspoon vanilla extract1/2 teaspoon almond extract\n",
      "1/2 teaspoon ground ginger1/2 teaspoon ground nutmeg1/4 teaspoon ground allspice1/4 teaspoon ground cloves1/4 teaspoon ground cardamom1/4 teaspoon fresh ground black pepper2 cups (400 g) white granulated sugar3/4 cup (175 mL) neutral flavored cooking oil (like sunflower)1 lbs (450 g) carrots, finely freshly grated1 cup (160 g) finely chopped fresh pineapple3 large eggs2 teaspoon vanilla extract1/2 teaspoon almond extract\n",
      "1/2 teaspoon ground nutmeg1/4 teaspoon ground allspice1/4 teaspoon ground cloves1/4 teaspoon ground cardamom1/4 teaspoon fresh ground black pepper2 cups (400 g) white granulated sugar3/4 cup (175 mL) neutral flavored cooking oil (like sunflower)1 lbs (450 g) carrots, finely freshly grated1 cup (160 g) finely chopped fresh pineapple3 large eggs2 teaspoon vanilla extract1/2 teaspoon almond extract\n",
      "1/4 teaspoon ground allspice1/4 teaspoon ground cloves1/4 teaspoon ground cardamom1/4 teaspoon fresh ground black pepper2 cups (400 g) white granulated sugar3/4 cup (175 mL) neutral flavored cooking oil (like sunflower)1 lbs (450 g) carrots, finely freshly grated1 cup (160 g) finely chopped fresh pineapple3 large eggs2 teaspoon vanilla extract1/2 teaspoon almond extract\n",
      "1/4 teaspoon ground cloves1/4 teaspoon ground cardamom1/4 teaspoon fresh ground black pepper2 cups (400 g) white granulated sugar3/4 cup (175 mL) neutral flavored cooking oil (like sunflower)1 lbs (450 g) carrots, finely freshly grated1 cup (160 g) finely chopped fresh pineapple3 large eggs2 teaspoon vanilla extract1/2 teaspoon almond extract\n",
      "1/4 teaspoon ground cardamom1/4 teaspoon fresh ground black pepper2 cups (400 g) white granulated sugar3/4 cup (175 mL) neutral flavored cooking oil (like sunflower)1 lbs (450 g) carrots, finely freshly grated1 cup (160 g) finely chopped fresh pineapple3 large eggs2 teaspoon vanilla extract1/2 teaspoon almond extract\n",
      "1/4 teaspoon fresh ground black pepper2 cups (400 g) white granulated sugar3/4 cup (175 mL) neutral flavored cooking oil (like sunflower)1 lbs (450 g) carrots, finely freshly grated1 cup (160 g) finely chopped fresh pineapple3 large eggs2 teaspoon vanilla extract1/2 teaspoon almond extract\n",
      "2 cups (400 g) white granulated sugar3/4 cup (175 mL) neutral flavored cooking oil (like sunflower)1 lbs (450 g) carrots, finely freshly grated1 cup (160 g) finely chopped fresh pineapple3 large eggs2 teaspoon vanilla extract1/2 teaspoon almond extract\n",
      "3/4 cup (175 mL) neutral flavored cooking oil (like sunflower)1 lbs (450 g) carrots, finely freshly grated1 cup (160 g) finely chopped fresh pineapple3 large eggs2 teaspoon vanilla extract1/2 teaspoon almond extract\n",
      "1 lbs (450 g) carrots, finely freshly grated1 cup (160 g) finely chopped fresh pineapple3 large eggs2 teaspoon vanilla extract1/2 teaspoon almond extract\n",
      "1 cup (160 g) finely chopped fresh pineapple3 large eggs2 teaspoon vanilla extract1/2 teaspoon almond extract\n",
      "3 large eggs2 teaspoon vanilla extract1/2 teaspoon almond extract\n",
      "2 teaspoon vanilla extract1/2 teaspoon almond extract\n",
      "1/2 teaspoon almond extract\n",
      "2 oz (57 g) unsweetened chocolate4 oz (115 g) semisweet chocolate1/2 cup (113 g or 1 stick) unsalted butter3/4 cup (105 g) all purpose flour1/2 teaspoon baking powder1/4 teaspoon sea salt3/4 cup (150 g) granulated white sugar3 large eggs2 teaspoon vanilla extract\n",
      "4 oz (115 g) semisweet chocolate1/2 cup (113 g or 1 stick) unsalted butter3/4 cup (105 g) all purpose flour1/2 teaspoon baking powder1/4 teaspoon sea salt3/4 cup (150 g) granulated white sugar3 large eggs2 teaspoon vanilla extract\n",
      "1/2 cup (113 g or 1 stick) unsalted butter3/4 cup (105 g) all purpose flour1/2 teaspoon baking powder1/4 teaspoon sea salt3/4 cup (150 g) granulated white sugar3 large eggs2 teaspoon vanilla extract\n",
      "3/4 cup (105 g) all purpose flour1/2 teaspoon baking powder1/4 teaspoon sea salt3/4 cup (150 g) granulated white sugar3 large eggs2 teaspoon vanilla extract\n",
      "1/2 teaspoon baking powder1/4 teaspoon sea salt3/4 cup (150 g) granulated white sugar3 large eggs2 teaspoon vanilla extract\n",
      "1/4 teaspoon sea salt3/4 cup (150 g) granulated white sugar3 large eggs2 teaspoon vanilla extract\n",
      "3/4 cup (150 g) granulated white sugar3 large eggs2 teaspoon vanilla extract\n",
      "3 large eggs2 teaspoon vanilla extract\n",
      "2 teaspoon vanilla extract\n",
      "2 cups (475 mL) heavy whipping cream, cold24 oz (3 bricks) full fat cream cheese1 teaspoon vanilla extract1 vanilla bean1 1/2 cup (175 g) confectioners’ sugar (powdered sugar)\n",
      "24 oz (3 bricks) full fat cream cheese1 teaspoon vanilla extract1 vanilla bean1 1/2 cup (175 g) confectioners’ sugar (powdered sugar)\n",
      "1 teaspoon vanilla extract1 vanilla bean1 1/2 cup (175 g) confectioners’ sugar (powdered sugar)\n",
      "1 vanilla bean1 1/2 cup (175 g) confectioners’ sugar (powdered sugar)\n",
      "1 1/2 cup (175 g) confectioners’ sugar (powdered sugar)\n",
      "57 g (2 oz) almond paste1 tablespoon light corn syrup85 g to 115 g (3/4 to 1 cup) confectioners’ sugar (powdered sugar)red, yellow and green gel food colorinh\n",
      "1 tablespoon light corn syrup85 g to 115 g (3/4 to 1 cup) confectioners’ sugar (powdered sugar)red, yellow and green gel food colorinh\n",
      "85 g to 115 g (3/4 to 1 cup) confectioners’ sugar (powdered sugar)red, yellow and green gel food colorinh\n",
      "red, yellow and green gel food colorinh\n",
      "1/2 cup unsweetened shredded coconutgreen and yellow liquid food coloring\n",
      "green and yellow liquid food coloring\n",
      "\n",
      "1 cup carrot juice\n",
      "2 cups (280 g) all purpose flour\n",
      "1/2 cup (65 g) almond meal or almond flour\n",
      "1 tablespoon baking powder\n",
      "1 teaspoon baking soda\n",
      "3/4 teaspoon fine sea salt\n",
      "1 teaspoon ground cinnamon\n",
      "1/2 teaspoon ground ginger\n",
      "1/2 teaspoon ground nutmeg\n",
      "1/4 teaspoon ground allspice\n",
      "1/4 teaspoon ground cloves\n",
      "1/4 teaspoon ground cardamom\n",
      "1/4 teaspoon fresh ground black pepper\n",
      "2 cups (400 g) white granulated sugar\n",
      "3/4 cup (175 mL) neutral flavored cooking oil (like sunflower)\n",
      "1 lbs (450 g) carrots, finely freshly grated\n",
      "1 cup (160 g) finely chopped fresh pineapple\n",
      "3 large eggs\n",
      "2 teaspoon vanilla extract\n",
      "1/2 teaspoon almond extract\n",
      "2 oz (57 g) unsweetened chocolate\n",
      "4 oz (115 g) semisweet chocolate\n",
      "1/2 cup (113 g or 1 stick) unsalted butter\n",
      "3/4 cup (105 g) all purpose flour\n",
      "1/2 teaspoon baking powder\n",
      "1/4 teaspoon sea salt\n",
      "3/4 cup (150 g) granulated white sugar\n",
      "2 cups (475 mL) heavy whipping cream, cold\n",
      "24 oz (3 bricks) full fat cream cheese\n",
      "1 teaspoon vanilla extract\n",
      "1 vanilla bean\n",
      "1 1/2 cup (175 g) confectioners’ sugar (powdered sugar)\n",
      "57 g (2 oz) almond paste\n",
      "1 tablespoon light corn syrup\n",
      "85 g to 115 g (3/4 to 1 cup) confectioners’ sugar (powdered sugar)\n",
      "red, yellow and green gel food colorinh\n",
      "1/2 cup unsweetened shredded coconut\n",
      "green and yellow liquid food coloring\n"
     ]
    }
   ],
   "source": [
    "test33 = recipes.ingredients[test]\n",
    "\n",
    "def check_index (i,ingreds_list):\n",
    "    l_1,l_2 = ingreds_list[i],ingreds_list[i+1]\n",
    "    len1, len2 = len(l_1), len(l_2)\n",
    "    # if the following line is a partial copy of this one\n",
    "    if (len1 > len2) and (l_1[-len2:] == l_2):\n",
    "        # return the unduplicated part of this line.\n",
    "        return l_1[:len1-len2]\n",
    "    else:\n",
    "        return l_1\n",
    "    \n",
    "def remove_dupes (container):\n",
    "    # There are some duplicates in the recipes lists even after the trailing line problem is fixed.\n",
    "    # We cant use `set` for duplicate removal because the order of well-formed\n",
    "    # ingredient lists often reflects internal structure (e.g., ingredients listed\n",
    "    # in order of usage or all spices go together)\n",
    "    # After splitting rejoin with newlines\n",
    "    seen,res = set(), []\n",
    "    for elem in container:\n",
    "        if elem not in seen:\n",
    "            res.append(elem)\n",
    "            seen.add(elem)\n",
    "    return res\n",
    "\n",
    "def remove_line_trailing_dupes (ingreds):\n",
    "    ingreds_list = ingreds.split('\\n')\n",
    "    n= len(ingreds_list) -1\n",
    "    pre = [check_index(i,ingreds_list) for i in range(n)] + ingreds_list[-1:]\n",
    "    return '\\n'.join(remove_dupes(pre))\n",
    "  \n",
    "print(test33)\n",
    "print()\n",
    "new_test33 = remove_line_trailing_dupes(test33)\n",
    "print(new_test33)"
   ]
  },
  {
   "cell_type": "markdown",
   "id": "5e632067",
   "metadata": {},
   "source": [
    "This trims down the size considerably."
   ]
  },
  {
   "cell_type": "code",
   "execution_count": 19,
   "id": "78a4156d",
   "metadata": {},
   "outputs": [
    {
     "name": "stdout",
     "output_type": "stream",
     "text": [
      "9067\n",
      "1284\n"
     ]
    }
   ],
   "source": [
    "print(len(test33))\n",
    "print(len(new_test33))"
   ]
  },
  {
   "cell_type": "markdown",
   "id": "1b74f8de",
   "metadata": {},
   "source": [
    "Applied to the whole column, the cleanup strips off about 2 million characters."
   ]
  },
  {
   "cell_type": "code",
   "execution_count": null,
   "id": "066b18d0",
   "metadata": {},
   "outputs": [],
   "source": [
    "new_col = recipes.ingredients.apply(remove_line_trailing_dupes)"
   ]
  },
  {
   "cell_type": "code",
   "execution_count": 20,
   "id": "57476fcf",
   "metadata": {},
   "outputs": [
    {
     "name": "stdout",
     "output_type": "stream",
     "text": [
      "42,386,905\n",
      "40,114,633\n"
     ]
    }
   ],
   "source": [
    "print(f'{recipes.ingredients.str.len().sum():,}')\n",
    "print(f'{new_col.str.len().sum():,}')"
   ]
  },
  {
   "cell_type": "markdown",
   "id": "76f83fe7",
   "metadata": {},
   "source": [
    "#### End cleaning up ingredients"
   ]
  },
  {
   "cell_type": "markdown",
   "id": "3882d39a",
   "metadata": {},
   "source": [
    "We can also search for particular kinds of recipes, such as which recipes have the \"breakfast\" in them."
   ]
  },
  {
   "cell_type": "code",
   "execution_count": 115,
   "id": "dc4d0775",
   "metadata": {
    "id": "swM_JiKOorhV",
    "outputId": "9ff27f85-99f6-45aa-95a5-ab630f3ee8b8",
    "scrolled": true
   },
   "outputs": [
    {
     "data": {
      "text/plain": [
       "3524"
      ]
     },
     "execution_count": 115,
     "metadata": {},
     "output_type": "execute_result"
    }
   ],
   "source": [
    "recipes.description.str.contains('[Bb]reakfast').sum()"
   ]
  },
  {
   "cell_type": "markdown",
   "id": "5603eeb6",
   "metadata": {
    "id": "E_qT1H9JorhV"
   },
   "source": [
    "Or how many of the recipes list cinnamon as an ingredient:"
   ]
  },
  {
   "cell_type": "code",
   "execution_count": 36,
   "id": "acfebd5d",
   "metadata": {},
   "outputs": [
    {
     "data": {
      "text/plain": [
       "10537"
      ]
     },
     "execution_count": 36,
     "metadata": {},
     "output_type": "execute_result"
    }
   ],
   "source": [
    "recipes.ingredients.str.contains('[Cc]innamon').sum()"
   ]
  },
  {
   "cell_type": "markdown",
   "id": "31e6e340",
   "metadata": {
    "id": "3PltVAL-orhV"
   },
   "source": [
    "We could even look to see whether any recipes misspell the ingredient as \"cinamon\":"
   ]
  },
  {
   "cell_type": "code",
   "execution_count": 117,
   "id": "01a4946a",
   "metadata": {
    "id": "Y6kslzI6orhV",
    "outputId": "c790393b-48a6-479a-b419-ca38fbb1c367"
   },
   "outputs": [
    {
     "data": {
      "text/plain": [
       "11"
      ]
     },
     "execution_count": 117,
     "metadata": {},
     "output_type": "execute_result"
    }
   ],
   "source": [
    "recipes.ingredients.str.contains('[Cc]inamon').sum()"
   ]
  },
  {
   "cell_type": "markdown",
   "id": "c0bfe509",
   "metadata": {
    "id": "2dE3vVCNorhW"
   },
   "source": [
    "This is the type of essential data exploration that is possible with Pandas string tools.\n",
    "It is data munging like this that Python really excels at."
   ]
  },
  {
   "cell_type": "markdown",
   "id": "b3d5b0a6",
   "metadata": {
    "id": "nHd1LPwborhW"
   },
   "source": [
    "### A simple recipe recommender\n",
    "\n",
    "Let's go a bit further, and start working on a simple recipe recommendation system: given a list of ingredients, find a recipe that uses all those ingredients.\n",
    "While conceptually straightforward, the task is complicated by the heterogeneity of the data: there is no easy operation, for example, to extract a clean list of ingredients from each row.\n",
    "So we will cheat a bit: we'll start with a list of common ingredients, and simply search to see whether they are in each recipe's ingredient list.\n",
    "For simplicity, let's just stick with herbs and spices for the time being:"
   ]
  },
  {
   "cell_type": "code",
   "execution_count": 39,
   "id": "0ebcc11f",
   "metadata": {
    "id": "yDA4hzugorhW"
   },
   "outputs": [],
   "source": [
    "spice_list = ['salt', 'pepper', 'oregano', 'sage', 'parsley',\n",
    "              'rosemary', 'tarragon', 'thyme', 'paprika', 'cumin']"
   ]
  },
  {
   "cell_type": "markdown",
   "id": "c9622c3b",
   "metadata": {
    "id": "uiDbLaMYorhW"
   },
   "source": [
    "We can then build a Boolean ``DataFrame`` consisting of True and False values, indicating whether this ingredient appears in the list:"
   ]
  },
  {
   "cell_type": "code",
   "execution_count": 40,
   "id": "76618417",
   "metadata": {
    "id": "H9cL4UTqorhW",
    "outputId": "afccea49-b96e-485b-91a8-1ce503c9467c"
   },
   "outputs": [
    {
     "data": {
      "text/html": [
       "<div>\n",
       "<style scoped>\n",
       "    .dataframe tbody tr th:only-of-type {\n",
       "        vertical-align: middle;\n",
       "    }\n",
       "\n",
       "    .dataframe tbody tr th {\n",
       "        vertical-align: top;\n",
       "    }\n",
       "\n",
       "    .dataframe thead th {\n",
       "        text-align: right;\n",
       "    }\n",
       "</style>\n",
       "<table border=\"1\" class=\"dataframe\">\n",
       "  <thead>\n",
       "    <tr style=\"text-align: right;\">\n",
       "      <th></th>\n",
       "      <th>salt</th>\n",
       "      <th>pepper</th>\n",
       "      <th>oregano</th>\n",
       "      <th>sage</th>\n",
       "      <th>parsley</th>\n",
       "      <th>rosemary</th>\n",
       "      <th>tarragon</th>\n",
       "      <th>thyme</th>\n",
       "      <th>paprika</th>\n",
       "      <th>cumin</th>\n",
       "    </tr>\n",
       "  </thead>\n",
       "  <tbody>\n",
       "    <tr>\n",
       "      <th>0</th>\n",
       "      <td>False</td>\n",
       "      <td>False</td>\n",
       "      <td>False</td>\n",
       "      <td>True</td>\n",
       "      <td>False</td>\n",
       "      <td>False</td>\n",
       "      <td>False</td>\n",
       "      <td>False</td>\n",
       "      <td>False</td>\n",
       "      <td>False</td>\n",
       "    </tr>\n",
       "    <tr>\n",
       "      <th>1</th>\n",
       "      <td>False</td>\n",
       "      <td>False</td>\n",
       "      <td>False</td>\n",
       "      <td>False</td>\n",
       "      <td>False</td>\n",
       "      <td>False</td>\n",
       "      <td>False</td>\n",
       "      <td>False</td>\n",
       "      <td>False</td>\n",
       "      <td>False</td>\n",
       "    </tr>\n",
       "    <tr>\n",
       "      <th>2</th>\n",
       "      <td>True</td>\n",
       "      <td>True</td>\n",
       "      <td>False</td>\n",
       "      <td>False</td>\n",
       "      <td>False</td>\n",
       "      <td>False</td>\n",
       "      <td>False</td>\n",
       "      <td>False</td>\n",
       "      <td>False</td>\n",
       "      <td>True</td>\n",
       "    </tr>\n",
       "    <tr>\n",
       "      <th>3</th>\n",
       "      <td>False</td>\n",
       "      <td>False</td>\n",
       "      <td>False</td>\n",
       "      <td>False</td>\n",
       "      <td>False</td>\n",
       "      <td>False</td>\n",
       "      <td>False</td>\n",
       "      <td>False</td>\n",
       "      <td>False</td>\n",
       "      <td>False</td>\n",
       "    </tr>\n",
       "    <tr>\n",
       "      <th>4</th>\n",
       "      <td>False</td>\n",
       "      <td>False</td>\n",
       "      <td>False</td>\n",
       "      <td>False</td>\n",
       "      <td>False</td>\n",
       "      <td>False</td>\n",
       "      <td>False</td>\n",
       "      <td>False</td>\n",
       "      <td>False</td>\n",
       "      <td>False</td>\n",
       "    </tr>\n",
       "  </tbody>\n",
       "</table>\n",
       "</div>"
      ],
      "text/plain": [
       "    salt  pepper  oregano   sage  parsley  rosemary  tarragon  thyme  paprika  \\\n",
       "0  False   False    False   True    False     False     False  False    False   \n",
       "1  False   False    False  False    False     False     False  False    False   \n",
       "2   True    True    False  False    False     False     False  False    False   \n",
       "3  False   False    False  False    False     False     False  False    False   \n",
       "4  False   False    False  False    False     False     False  False    False   \n",
       "\n",
       "   cumin  \n",
       "0  False  \n",
       "1  False  \n",
       "2   True  \n",
       "3  False  \n",
       "4  False  "
      ]
     },
     "execution_count": 40,
     "metadata": {},
     "output_type": "execute_result"
    }
   ],
   "source": [
    "import re\n",
    "spice_df = pd.DataFrame(dict((spice, recipes.ingredients.str.contains(spice, re.IGNORECASE))\n",
    "                             for spice in spice_list))\n",
    "spice_df.head()"
   ]
  },
  {
   "cell_type": "markdown",
   "id": "10d08a53",
   "metadata": {
    "id": "wK7VDEW1orhX"
   },
   "source": [
    "Now, as an example, let's say we'd like to find a recipe that uses parsley, paprika, and tarragon.\n",
    "We can compute this very quickly using the ``query()`` method of ``DataFrame``s, discussed in [High-Performance Pandas: ``eval()`` and ``query()``](03.12-Performance-Eval-and-Query.ipynb):"
   ]
  },
  {
   "cell_type": "code",
   "execution_count": 41,
   "id": "91283a23",
   "metadata": {
    "id": "_r33QiDGorhX",
    "outputId": "f5e6546c-ed7c-4d10-8b65-f642c9891010"
   },
   "outputs": [
    {
     "data": {
      "text/plain": [
       "10"
      ]
     },
     "execution_count": 41,
     "metadata": {},
     "output_type": "execute_result"
    }
   ],
   "source": [
    "selection = spice_df.query('parsley & paprika & tarragon')\n",
    "len(selection)"
   ]
  },
  {
   "cell_type": "code",
   "execution_count": 42,
   "id": "f250eb47",
   "metadata": {},
   "outputs": [
    {
     "data": {
      "text/html": [
       "<div>\n",
       "<style scoped>\n",
       "    .dataframe tbody tr th:only-of-type {\n",
       "        vertical-align: middle;\n",
       "    }\n",
       "\n",
       "    .dataframe tbody tr th {\n",
       "        vertical-align: top;\n",
       "    }\n",
       "\n",
       "    .dataframe thead th {\n",
       "        text-align: right;\n",
       "    }\n",
       "</style>\n",
       "<table border=\"1\" class=\"dataframe\">\n",
       "  <thead>\n",
       "    <tr style=\"text-align: right;\">\n",
       "      <th></th>\n",
       "      <th>salt</th>\n",
       "      <th>pepper</th>\n",
       "      <th>oregano</th>\n",
       "      <th>sage</th>\n",
       "      <th>parsley</th>\n",
       "      <th>rosemary</th>\n",
       "      <th>tarragon</th>\n",
       "      <th>thyme</th>\n",
       "      <th>paprika</th>\n",
       "      <th>cumin</th>\n",
       "    </tr>\n",
       "  </thead>\n",
       "  <tbody>\n",
       "    <tr>\n",
       "      <th>2069</th>\n",
       "      <td>False</td>\n",
       "      <td>True</td>\n",
       "      <td>False</td>\n",
       "      <td>False</td>\n",
       "      <td>True</td>\n",
       "      <td>False</td>\n",
       "      <td>True</td>\n",
       "      <td>False</td>\n",
       "      <td>True</td>\n",
       "      <td>False</td>\n",
       "    </tr>\n",
       "    <tr>\n",
       "      <th>74964</th>\n",
       "      <td>False</td>\n",
       "      <td>False</td>\n",
       "      <td>False</td>\n",
       "      <td>False</td>\n",
       "      <td>True</td>\n",
       "      <td>False</td>\n",
       "      <td>True</td>\n",
       "      <td>False</td>\n",
       "      <td>True</td>\n",
       "      <td>False</td>\n",
       "    </tr>\n",
       "    <tr>\n",
       "      <th>93768</th>\n",
       "      <td>True</td>\n",
       "      <td>True</td>\n",
       "      <td>False</td>\n",
       "      <td>True</td>\n",
       "      <td>True</td>\n",
       "      <td>False</td>\n",
       "      <td>True</td>\n",
       "      <td>False</td>\n",
       "      <td>True</td>\n",
       "      <td>False</td>\n",
       "    </tr>\n",
       "    <tr>\n",
       "      <th>113926</th>\n",
       "      <td>True</td>\n",
       "      <td>True</td>\n",
       "      <td>False</td>\n",
       "      <td>False</td>\n",
       "      <td>True</td>\n",
       "      <td>False</td>\n",
       "      <td>True</td>\n",
       "      <td>False</td>\n",
       "      <td>True</td>\n",
       "      <td>False</td>\n",
       "    </tr>\n",
       "    <tr>\n",
       "      <th>137686</th>\n",
       "      <td>True</td>\n",
       "      <td>True</td>\n",
       "      <td>False</td>\n",
       "      <td>False</td>\n",
       "      <td>True</td>\n",
       "      <td>False</td>\n",
       "      <td>True</td>\n",
       "      <td>False</td>\n",
       "      <td>True</td>\n",
       "      <td>False</td>\n",
       "    </tr>\n",
       "    <tr>\n",
       "      <th>140530</th>\n",
       "      <td>True</td>\n",
       "      <td>True</td>\n",
       "      <td>False</td>\n",
       "      <td>False</td>\n",
       "      <td>True</td>\n",
       "      <td>False</td>\n",
       "      <td>True</td>\n",
       "      <td>True</td>\n",
       "      <td>True</td>\n",
       "      <td>False</td>\n",
       "    </tr>\n",
       "    <tr>\n",
       "      <th>158475</th>\n",
       "      <td>True</td>\n",
       "      <td>True</td>\n",
       "      <td>False</td>\n",
       "      <td>False</td>\n",
       "      <td>True</td>\n",
       "      <td>False</td>\n",
       "      <td>True</td>\n",
       "      <td>False</td>\n",
       "      <td>True</td>\n",
       "      <td>True</td>\n",
       "    </tr>\n",
       "    <tr>\n",
       "      <th>158486</th>\n",
       "      <td>True</td>\n",
       "      <td>True</td>\n",
       "      <td>False</td>\n",
       "      <td>False</td>\n",
       "      <td>True</td>\n",
       "      <td>False</td>\n",
       "      <td>True</td>\n",
       "      <td>False</td>\n",
       "      <td>True</td>\n",
       "      <td>False</td>\n",
       "    </tr>\n",
       "    <tr>\n",
       "      <th>163175</th>\n",
       "      <td>True</td>\n",
       "      <td>True</td>\n",
       "      <td>True</td>\n",
       "      <td>False</td>\n",
       "      <td>True</td>\n",
       "      <td>False</td>\n",
       "      <td>True</td>\n",
       "      <td>False</td>\n",
       "      <td>True</td>\n",
       "      <td>False</td>\n",
       "    </tr>\n",
       "    <tr>\n",
       "      <th>165243</th>\n",
       "      <td>True</td>\n",
       "      <td>True</td>\n",
       "      <td>False</td>\n",
       "      <td>False</td>\n",
       "      <td>True</td>\n",
       "      <td>False</td>\n",
       "      <td>True</td>\n",
       "      <td>False</td>\n",
       "      <td>True</td>\n",
       "      <td>False</td>\n",
       "    </tr>\n",
       "  </tbody>\n",
       "</table>\n",
       "</div>"
      ],
      "text/plain": [
       "         salt  pepper  oregano   sage  parsley  rosemary  tarragon  thyme  \\\n",
       "2069    False    True    False  False     True     False      True  False   \n",
       "74964   False   False    False  False     True     False      True  False   \n",
       "93768    True    True    False   True     True     False      True  False   \n",
       "113926   True    True    False  False     True     False      True  False   \n",
       "137686   True    True    False  False     True     False      True  False   \n",
       "140530   True    True    False  False     True     False      True   True   \n",
       "158475   True    True    False  False     True     False      True  False   \n",
       "158486   True    True    False  False     True     False      True  False   \n",
       "163175   True    True     True  False     True     False      True  False   \n",
       "165243   True    True    False  False     True     False      True  False   \n",
       "\n",
       "        paprika  cumin  \n",
       "2069       True  False  \n",
       "74964      True  False  \n",
       "93768      True  False  \n",
       "113926     True  False  \n",
       "137686     True  False  \n",
       "140530     True  False  \n",
       "158475     True   True  \n",
       "158486     True  False  \n",
       "163175     True  False  \n",
       "165243     True  False  "
      ]
     },
     "execution_count": 42,
     "metadata": {},
     "output_type": "execute_result"
    }
   ],
   "source": [
    "selection"
   ]
  },
  {
   "cell_type": "markdown",
   "id": "a9619313",
   "metadata": {
    "id": "YrQMLWwBorhX"
   },
   "source": [
    "We find only 10 recipes with this combination; let's use the index returned by this selection to discover the names of the recipes that have this combination:"
   ]
  },
  {
   "cell_type": "code",
   "execution_count": null,
   "id": "65a21729",
   "metadata": {
    "id": "PA1iU2bQorhX",
    "outputId": "cc9989a7-1a99-496c-8b7e-d7873603a47c"
   },
   "outputs": [
    {
     "data": {
      "text/plain": [
       "2069      All cremat with a Little Gem, dandelion and wa...\n",
       "74964                         Lobster with Thermidor butter\n",
       "93768      Burton's Southern Fried Chicken with White Gravy\n",
       "113926                     Mijo's Slow Cooker Shredded Beef\n",
       "137686                     Asparagus Soup with Poached Eggs\n",
       "140530                                 Fried Oyster Po’boys\n",
       "158475                Lamb shank tagine with herb tabbouleh\n",
       "158486                 Southern fried chicken in buttermilk\n",
       "163175            Fried Chicken Sliders with Pickles + Slaw\n",
       "165243                        Bar Tartine Cauliflower Salad\n",
       "Name: name, dtype: object"
      ]
     },
     "execution_count": 31,
     "metadata": {},
     "output_type": "execute_result"
    }
   ],
   "source": [
    "recipes.name[selection.index]"
   ]
  },
  {
   "cell_type": "markdown",
   "id": "897a09aa",
   "metadata": {
    "id": "Og-HjgmYorhY"
   },
   "source": [
    "Now that we have narrowed down our recipe selection by a factor of almost 20,000, we are in a position to make a more informed decision about what we'd like to cook for dinner."
   ]
  },
  {
   "cell_type": "markdown",
   "id": "c573a4c1",
   "metadata": {
    "id": "sMbqj38jorhY"
   },
   "source": [
    "### Going further with recipes\n",
    "\n",
    "Hopefully this example has given you a bit of a flavor (ba-dum!) for the types of data cleaning operations that are efficiently enabled by Pandas string methods.\n",
    "Of course, building a very robust recipe recommendation system would require a *lot* more work!\n",
    "Extracting full ingredient lists from each recipe would be an important piece of the task; unfortunately, the wide variety of formats used makes this a relatively time-consuming process.\n",
    "This points to the truism that in data science, cleaning and munging of real-world data often comprises the majority of the work, and Pandas provides the tools that can help you do this efficiently."
   ]
  },
  {
   "cell_type": "code",
   "execution_count": null,
   "id": "be4ac701",
   "metadata": {},
   "outputs": [],
   "source": []
  }
 ],
 "metadata": {
  "kernelspec": {
   "display_name": "Python 3 (ipykernel)",
   "language": "python",
   "name": "python3"
  },
  "language_info": {
   "codemirror_mode": {
    "name": "ipython",
    "version": 3
   },
   "file_extension": ".py",
   "mimetype": "text/x-python",
   "name": "python",
   "nbconvert_exporter": "python",
   "pygments_lexer": "ipython3",
   "version": "3.7.0"
  }
 },
 "nbformat": 4,
 "nbformat_minor": 5
}
