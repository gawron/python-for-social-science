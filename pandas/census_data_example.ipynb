{
 "cells": [
  {
   "cell_type": "markdown",
   "metadata": {
    "id": "odcPPsq4GRjp"
   },
   "source": [
    "# Introduction to PUMS Notebook\n",
    "\n",
    "[![Open In Colab](https://colab.research.google.com/assets/colab-badge.svg)](https://colab.research.google.com/github/gawron/python-for-social-science/blob/master/pandas/census_data_example.ipynb)"
   ]
  },
  {
   "cell_type": "markdown",
   "metadata": {
    "id": "z0tvSsB2GRjp"
   },
   "source": [
    "The U.S. Census website  contains numerous kinds of demographic  data about the United States.  In this section we focus on data collected in surveys conducted during the decennial  census, which is distinct from the more frequently collected American Community Survey data.  More especifically, we will  confine our attention to the [Census 2000 PUMS data](https://www.census.gov/data/datasets/2000/dec/microdata.html#:~:text=PUMS%205%2DPercent-,PUMS%20files%20have%20state%2Dlevel%20Census%202000%20data%20containing%20individual,Use%20Microdata%20Areas%20(PUMAs).). PUMS  stands for **Public Use Microdata Samples**.  It is called *Microdata* because the the records contain information about one person or one household.\n",
    "\n",
    "The discussion below assumes you have visited the PUMS ages on the Census Bureau site and downloaded at least two files, `revisedpums1_alabama.txt` and the data dictionary available in the Excel workbooks, `5%_PUMS_record_layout.xls`.  For more details see the book draft chapter on data, especially the section on PUMS data.  You also need the Python module `read_in_census_data`, which can also be downloaded from a link in the PUMS data section of the book draft."
   ]
  },
  {
   "cell_type": "markdown",
   "metadata": {
    "id": "XhprMqMXGRjp"
   },
   "source": [
    "## Getting and Situating the data"
   ]
  },
  {
   "cell_type": "markdown",
   "metadata": {
    "id": "gnRH9BGzGRjp"
   },
   "source": [
    "This notebook presents only solution for loading the census data, for code and data you have uploaded on google drive.  For the alternative code for using files on your local machine,\n",
    "see the `importing_and_loading_files_in_colab`. notebook (intro module).\n",
    "\n",
    "In this example we will assume you have placed the following three files in a folder named  `census` on your Google Drive.\n",
    "\n",
    "1. [read_in_census_data.py](https://gawron.sdsu.edu/python_for_ss/course_core/book_draft/_static/read_in_census_data.py)\n",
    "2. [5%_PUMS_record_layout.xls](https://gawron.sdsu.edu/python_for_ss/course_core/book_draft/_static/5_PUMS_record_layout.xls)\n",
    "3. [PUMS data for Alabam 1% 2010](https://gawron.sdsu.edu/python_for_ss/course_core/book_draft/_static/revisedpums1_alabama_01.txt)\n",
    "\n",
    "This link to [pums_example.zip](https://gawron.sdsu.edu/python_for_ss/course_core/book_draft/_static/pums_example.zip) leads to a zipfile containing all three of these files.\n"
   ]
  },
  {
   "cell_type": "markdown",
   "metadata": {
    "id": "Sgci-pLGGRjp"
   },
   "source": [
    "## Reading in the data dictionary"
   ]
  },
  {
   "cell_type": "markdown",
   "metadata": {
    "id": "W4YoHyFDGRjp"
   },
   "source": [
    "First you need to import the `read_in_census_data` module and read in the data dictionary in\n",
    "the Census web site Excel sheet."
   ]
  },
  {
   "cell_type": "markdown",
   "metadata": {
    "id": "tdjS07PpGRjp"
   },
   "source": [
    "**Attention!**:  This notebook as is will only work on google colab, and for someone who has downloaded the data and code files onto a folder name \"census\" on their Google Drive."
   ]
  },
  {
   "cell_type": "code",
   "execution_count": 1,
   "metadata": {
    "colab": {
     "base_uri": "https://localhost:8080/"
    },
    "id": "pehk1IJSGRjp",
    "outputId": "6987d8e3-d68d-4d11-d7ca-373f87f446e9"
   },
   "outputs": [
    {
     "name": "stdout",
     "output_type": "stream",
     "text": [
      "Mounted at /content/gdrive\n",
      "Processing 'Housing Unit Record' Sheet\n",
      "\n",
      "Processing 'Person Record' Sheet\n",
      "\n"
     ]
    }
   ],
   "source": [
    "import importlib.util\n",
    "import os.path\n",
    "from google.colab import drive\n",
    "\n",
    "# Mount google drive to create a filesystem the notebook can use\n",
    "drive.mount('/content/gdrive') \n",
    "# Specify the code dir in the new filesystem.\n",
    "code_dir ='/content/gdrive/My Drive/census/'\n",
    "\n",
    "#from read_in_census_data import CensusInfo, DataFrameWrapper\n",
    "\n",
    "filename = os.path.join(code_dir, 'read_in_census_data.py')\n",
    "spec = importlib.util.spec_from_file_location(\"census\", filename)\n",
    "# Name for imported module will be census\n",
    "census = importlib.util.module_from_spec(spec)\n",
    "spec.loader.exec_module(census)\n",
    "data_dir = code_dir\n",
    "one_percent_data_file = os.path.join(data_dir,\n",
    "                                     'revisedpums1_alabama_01.txt')\n",
    "data_dictionary = os.path.join(data_dir,\n",
    "                               '5_PUMS_record_layout.xls')\n",
    "ci = census.CensusInfo (data_dictionary)\n",
    "df = census.DataFrameWrapper(ci)"
   ]
  },
  {
   "cell_type": "code",
   "execution_count": 2,
   "metadata": {
    "colab": {
     "base_uri": "https://localhost:8080/"
    },
    "id": "biJkMmluGRjq",
    "outputId": "e9fd76be-5d18-41e3-aed8-671945b50b5d"
   },
   "outputs": [
    {
     "name": "stdout",
     "output_type": "stream",
     "text": [
      "Housing Unit Record MSACMSA1 1% file {'RT': 'H', 'BEG': 32, 'LEN': 4, 'DESCRIPTION': 'Metropolitan Area: MSA/CMSA for SuperPUMA'}\n",
      "\n",
      "     Metropolitan Area: MSA/CMSA for SuperPUMA\n",
      "     =========================================\n",
      "     ('0040', '9360')  FIPS MSA/CMSA Code\n",
      "     9997  Mixed MSA/CMSA and nonmetropolitan territory\n",
      "     9998  2 or more partial and/or entire MSAs/PMSAs\n",
      "     9999  Not in metropolitan area\n",
      "\n"
     ]
    }
   ],
   "source": [
    "ci.print_var_info('MSACMSA1',ci.record_types[0],ci.file_types[1])"
   ]
  },
  {
   "cell_type": "markdown",
   "metadata": {
    "id": "jLPc5nLyGRjq"
   },
   "source": [
    "You can now access information about various variable in the Census data.  You need to supply the variable name (or a legal synonym), the record type (person or household) and the file type (15 or 5%).   Below we look at information for the 'RELATE'\n",
    "variable, which defines the relationship of a parson to the head of the household.  This is a person record variable (`ci.record_types[1]`) in a 1% file (`ci.file_types[1]`)."
   ]
  },
  {
   "cell_type": "code",
   "execution_count": 3,
   "metadata": {
    "colab": {
     "base_uri": "https://localhost:8080/"
    },
    "id": "hgLuXCWOGRjq",
    "outputId": "3d8ad260-3347-41cb-af56-cd416ff914f3"
   },
   "outputs": [
    {
     "name": "stdout",
     "output_type": "stream",
     "text": [
      "Person Record RELATE 1% file {'RT': 'P', 'BEG': 17, 'LEN': 2, 'DESCRIPTION': 'Relationship'}\n",
      "\n",
      "     Relationship\n",
      "     ============\n",
      "     01  Householder\n",
      "     02  Husband/wife\n",
      "     03  Natural born son/daughter\n",
      "     04  Adopted son/daughter\n",
      "     05  Stepson/Stepdaughter\n",
      "     06  Brother/sister\n",
      "     07  Father/mother\n",
      "     08  Grandchild\n",
      "     09  Parent-in-law\n",
      "     10  Son-in-law/daughter-in-law\n",
      "     11  Other relative\n",
      "     12  Brother-in-law/sister-in-law\n",
      "     13  Nephew/niece\n",
      "     14  Grandparent\n",
      "     15  Uncle/aunt\n",
      "     16  Cousin\n",
      "     17  Roomer/boarder\n",
      "     18  Housemate/roommate\n",
      "     19  Unmarried partner\n",
      "     20  Foster child\n",
      "     21  Other nonrelative\n",
      "     22  Institutionalized GQ person\n",
      "     23  Noninstitutionalized GQ person\n",
      "\n"
     ]
    }
   ],
   "source": [
    "ci.print_var_info('RELATE',ci.record_types[1],ci.file_types[1])"
   ]
  },
  {
   "cell_type": "markdown",
   "metadata": {
    "id": "Nn-9brsCGRjq"
   },
   "source": [
    "In the next code snippet, we get a sample line from the alabama file:"
   ]
  },
  {
   "cell_type": "code",
   "execution_count": null,
   "metadata": {
    "id": "YZXM0HQDGRjq",
    "outputId": "a53628e0-3efb-46bd-c92d-424802592337"
   },
   "outputs": [
    {
     "name": "stdout",
     "output_type": "stream",
     "text": [
      "Opening revisedpums1_alabama_01.txt\n",
      "P00001170100014001000010310010110000010147010100100012099999904200000 000101000000300010     01400  70    9997    9997202020202020220000020011000000020031000010     01400  70    9997    9997010100370010000000108190622     313029-1111201052045004730000000000-01500000000000000000000000000000000000004580000047300501\n"
     ]
    }
   ],
   "source": [
    "line = ci.get_sample_record_from_db (one_percent_data_file)"
   ]
  },
  {
   "cell_type": "markdown",
   "metadata": {
    "id": "EInCO3XDGRjq"
   },
   "source": [
    "The next code snippets print info about various variables:"
   ]
  },
  {
   "cell_type": "code",
   "execution_count": null,
   "metadata": {
    "id": "yzoOTWCxGRjq",
    "outputId": "83fa769c-df31-4d6b-f048-097efbe05ef8"
   },
   "outputs": [
    {
     "name": "stdout",
     "output_type": "stream",
     "text": [
      "RELATE Person Record 01 Householder\n",
      "Person Record education => EDUC 5% file {'RT': 'P', 'BEG': 53, 'LEN': 2, 'DESCRIPTION': 'Educational Attainment'}\n",
      "\n",
      "     Educational Attainment\n",
      "     ======================\n",
      "     00  Not in universe (Under 3 years)\n",
      "     01  No schooling completed\n",
      "     02  Nursery school to 4th grade\n",
      "     03  5th grade or 6th grade\n",
      "     04  7th grade or 8th grade\n",
      "     05  9th grade\n",
      "     06  10th grade\n",
      "     07  11th grade\n",
      "     08  12th grade, no diploma\n",
      "     09  High school graduate\n",
      "     10  Some college, but less than 1 year\n",
      "     11  One or more years of college, no degree\n",
      "     12  Associate degree\n",
      "     13  Bachelor's degree\n",
      "     14  Master's degree\n",
      "     15  Professional degree\n",
      "     16  Doctorate degree\n",
      "\n",
      "Person Record race => RACE3 5% file {'RT': 'P', 'BEG': 41, 'LEN': 2, 'DESCRIPTION': 'Race Recode 3'}\n",
      "\n",
      "     Race Recode 3\n",
      "     =============\n",
      "     01  Some other race alone\n",
      "     02  Other Pacific Islander alone\n",
      "     03  Other Pacific Islander; Some other race\n",
      "     04  Samoan alone\n",
      "     05  Guamanian or Chamorro alone\n",
      "     06  Native Hawaiian alone\n",
      "     07  Other Asian alone\n",
      "     08  Other Asian; Some other race\n",
      "     09  Other Asian; Other Pacific Islander\n",
      "     10  Vietnamese alone\n",
      "     11  Korean alone\n",
      "     12  Japanese alone\n",
      "     13  Not used\n",
      "     14  Not used\n",
      "     15  Filipino alone\n",
      "     16  Filipino; Some other race\n",
      "     17  Filipino; Other Pacific Islander\n",
      "     18  Filipino; Native Hawaiian\n",
      "     19  Filipino; Japanese\n",
      "     20  Chinese alone\n",
      "     21  Chinese; Some other race\n",
      "     22  Chinese; Native Hawaiian\n",
      "     23  Chinese; Other Asian\n",
      "     24  Chinese; Vietamese\n",
      "     25  Chinese; Japanese\n",
      "     26  Chinese; Filipino\n",
      "     27  Not used\n",
      "     28  Asian Indian alone\n",
      "     29  Asian Indian; Some other race\n",
      "     30  Not used\n",
      "     31  Asian Indian; Other Asian\n",
      "     32  American Indian and Alaska Native alone\n",
      "     33  American Indian and Alaska Native; Some other race\n",
      "     34  Not used\n",
      "     35  Not used\n",
      "     36  American Indian and Alaska Native; Asian Indian\n",
      "     37  Black or African American alone\n",
      "     38  Black or African American; Some other race\n",
      "     39  Black or African American; Other Pacific Islander\n",
      "     40  Black or African American; Other Asian\n",
      "     41  Black or African American; Korean\n",
      "     42  Black or African American; Japanese\n",
      "     43  Black or African American; Filipino\n",
      "     44  Black or African American; Chinese\n",
      "     45  Black or African American; Asian Indian\n",
      "     46  Black or African American; American Indian and Alaska Native\n",
      "     47  White alone\n",
      "     48  White; Some other race\n",
      "     49  White; Other Pacific Islander\n",
      "     50  White; Samoan\n",
      "     51  White; Guamanian or Chamorro\n",
      "     52  White; Natve Hawaiian\n",
      "     53  White; Other Asian\n",
      "     54  Not used\n",
      "     55  White; Vietnamese\n",
      "     56  White; Korean\n",
      "     57  White; Japanese\n",
      "     58  Not used\n",
      "     59  White; Filipino\n",
      "     60  Not used\n",
      "     61  White; Filipino; Native Hawaiian\n",
      "     62  White; Chinese\n",
      "     63  White; Chinese; Native Hawaiian\n",
      "     64  Not used\n",
      "     65  White; Asian Indian\n",
      "     66  White; American Indian and Alaska Native\n",
      "     67  White; American Indian and Alaska Native; Some other race\n",
      "     68  White; Black or African American\n",
      "     69  White; Black or African American; Some other race\n",
      "     70  White; Black or African American; American Indian and Alaska Native\n",
      "     71  All other race combinations\n",
      "\n",
      "Person Record income => INCWS 5% file {'RT': 'P', 'BEG': 244, 'LEN': 6, 'DESCRIPTION': 'Wage/Salary Income in 1999'}\n",
      "\n",
      "     Wage/Salary Income in 1999\n",
      "     ==========================\n",
      "     ('000000', ' ')  No/none\n",
      "     ('000001', '174999')  $1 to $174,999\n",
      "     175000  Topcode\n",
      "     175000+  State mean of topcoded values\n",
      "      blank  Not in universe (Under 15 years)\n",
      "\n",
      "Housing Unit Record serial_no => SERIALNO 5% file {'RT': 'H', 'BEG': 2, 'LEN': 7, 'DESCRIPTION': 'Housing/Group Quarters (GQ) Unit Serial Number'}\n",
      "\n",
      "     Housing/Group Quarters (GQ) Unit Serial Number\n",
      "     ==============================================\n",
      "     ('0000001', 9999999.0)  Unique identifier assigned within state\n",
      "\n",
      "Person Record serial_no => SERIALNO 5% file {'RT': 'P', 'BEG': 2, 'LEN': 7, 'DESCRIPTION': 'Housing/Group Quarters (GQ) Unit Serial Number'}\n",
      "\n",
      "     Housing/Group Quarters (GQ) Unit Serial Number\n",
      "     ==============================================\n",
      "     ('0000001', 9999999.0)  Unique identifier assigned within state\n",
      "\n",
      "Housing Unit Record num_persons => PERSONS 5% file {'RT': 'H', 'BEG': 106, 'LEN': 2, 'DESCRIPTION': 'Number of person records following this housing record'}\n",
      "\n",
      "     Number of person records following this housing record\n",
      "     ======================================================\n",
      "      0  Vacant unit\n",
      "      1  Householder living alone or any person in group quarters\n",
      "     ('2', '97')  Number of persons in household\n",
      "\n"
     ]
    },
    {
     "ename": "AttributeError",
     "evalue": "'AssertionError' object has no attribute 'message'",
     "output_type": "error",
     "traceback": [
      "\u001b[0;31m---------------------------------------------------------------------------\u001b[0m",
      "\u001b[0;31mAssertionError\u001b[0m                            Traceback (most recent call last)",
      "\u001b[0;32m~/ext/src/sphinx/python_for_ss/ipython_notebooks/pandas/read_in_census_data.py\u001b[0m in \u001b[0;36mcheck_record_type_field\u001b[0;34m(self, record_type, field)\u001b[0m\n\u001b[1;32m    504\u001b[0m         \u001b[0;32mtry\u001b[0m\u001b[0;34m:\u001b[0m\u001b[0;34m\u001b[0m\u001b[0;34m\u001b[0m\u001b[0m\n\u001b[0;32m--> 505\u001b[0;31m             \u001b[0;32massert\u001b[0m \u001b[0;34m(\u001b[0m\u001b[0mrecord_type\u001b[0m\u001b[0;34m,\u001b[0m\u001b[0mfield\u001b[0m\u001b[0;34m)\u001b[0m \u001b[0;32min\u001b[0m \u001b[0mself\u001b[0m\u001b[0;34m.\u001b[0m\u001b[0mlegal_vars\u001b[0m\u001b[0;34m,\u001b[0m \u001b[0;34m'%s is not a known variable for a %s'\u001b[0m \u001b[0;34m%\u001b[0m \u001b[0;34m(\u001b[0m\u001b[0mfield\u001b[0m\u001b[0;34m,\u001b[0m \u001b[0mrecord_type\u001b[0m\u001b[0;34m)\u001b[0m\u001b[0;34m\u001b[0m\u001b[0;34m\u001b[0m\u001b[0m\n\u001b[0m\u001b[1;32m    506\u001b[0m         \u001b[0;32mexcept\u001b[0m \u001b[0mAssertionError\u001b[0m \u001b[0;32mas\u001b[0m \u001b[0me\u001b[0m\u001b[0;34m:\u001b[0m\u001b[0;34m\u001b[0m\u001b[0;34m\u001b[0m\u001b[0m\n",
      "\u001b[0;31mAssertionError\u001b[0m: num_persons is not a known variable for a Person Record",
      "\nDuring handling of the above exception, another exception occurred:\n",
      "\u001b[0;31mAssertionError\u001b[0m                            Traceback (most recent call last)",
      "\u001b[0;32m<ipython-input-4-a5840bc66a6c>\u001b[0m in \u001b[0;36m<module>\u001b[0;34m\u001b[0m\n\u001b[1;32m     25\u001b[0m \u001b[0;32mtry\u001b[0m\u001b[0;34m:\u001b[0m\u001b[0;34m\u001b[0m\u001b[0;34m\u001b[0m\u001b[0m\n\u001b[0;32m---> 26\u001b[0;31m   \u001b[0mci\u001b[0m\u001b[0;34m.\u001b[0m\u001b[0mprint_var_info\u001b[0m\u001b[0;34m(\u001b[0m\u001b[0;34m'num_persons'\u001b[0m\u001b[0;34m,\u001b[0m\u001b[0mci\u001b[0m\u001b[0;34m.\u001b[0m\u001b[0mperson_record\u001b[0m\u001b[0;34m)\u001b[0m\u001b[0;34m\u001b[0m\u001b[0;34m\u001b[0m\u001b[0m\n\u001b[0m\u001b[1;32m     27\u001b[0m \u001b[0;32mexcept\u001b[0m \u001b[0mException\u001b[0m \u001b[0;32mas\u001b[0m \u001b[0me\u001b[0m\u001b[0;34m:\u001b[0m\u001b[0;34m\u001b[0m\u001b[0;34m\u001b[0m\u001b[0m\n",
      "\u001b[0;32m~/ext/src/sphinx/python_for_ss/ipython_notebooks/pandas/read_in_census_data.py\u001b[0m in \u001b[0;36mprint_var_info\u001b[0;34m(self, var0, record_type, file_type)\u001b[0m\n\u001b[1;32m    458\u001b[0m \u001b[0;34m\u001b[0m\u001b[0m\n\u001b[0;32m--> 459\u001b[0;31m         \u001b[0mnew_var0\u001b[0m \u001b[0;34m=\u001b[0m \u001b[0mself\u001b[0m\u001b[0;34m.\u001b[0m\u001b[0mcheck_record_type_field\u001b[0m\u001b[0;34m(\u001b[0m\u001b[0mrecord_type\u001b[0m\u001b[0;34m,\u001b[0m\u001b[0mvar0\u001b[0m\u001b[0;34m)\u001b[0m\u001b[0;34m\u001b[0m\u001b[0;34m\u001b[0m\u001b[0m\n\u001b[0m\u001b[1;32m    460\u001b[0m \u001b[0;34m\u001b[0m\u001b[0m\n",
      "\u001b[0;32m~/ext/src/sphinx/python_for_ss/ipython_notebooks/pandas/read_in_census_data.py\u001b[0m in \u001b[0;36mcheck_record_type_field\u001b[0;34m(self, record_type, field)\u001b[0m\n\u001b[1;32m    509\u001b[0m                \u001b[0;32massert\u001b[0m \u001b[0;34m(\u001b[0m\u001b[0mrecord_type\u001b[0m\u001b[0;34m,\u001b[0m\u001b[0mnew_field\u001b[0m\u001b[0;34m)\u001b[0m \u001b[0;32min\u001b[0m \u001b[0mself\u001b[0m\u001b[0;34m.\u001b[0m\u001b[0mlegal_vars\u001b[0m\u001b[0;34m,\u001b[0m\u001b[0;31m \u001b[0m\u001b[0;31m\\\u001b[0m\u001b[0;34m\u001b[0m\u001b[0;34m\u001b[0m\u001b[0m\n\u001b[0;32m--> 510\u001b[0;31m                       \u001b[0;34m'%s=>%s is not a known variable for a %s'\u001b[0m \u001b[0;34m%\u001b[0m \u001b[0;34m(\u001b[0m\u001b[0mfield\u001b[0m\u001b[0;34m,\u001b[0m \u001b[0mnew_field\u001b[0m\u001b[0;34m,\u001b[0m \u001b[0mrecord_type\u001b[0m\u001b[0;34m)\u001b[0m\u001b[0;34m\u001b[0m\u001b[0;34m\u001b[0m\u001b[0m\n\u001b[0m\u001b[1;32m    511\u001b[0m             \u001b[0;32mexcept\u001b[0m \u001b[0mKeyError\u001b[0m\u001b[0;34m:\u001b[0m\u001b[0;34m\u001b[0m\u001b[0;34m\u001b[0m\u001b[0m\n",
      "\u001b[0;31mAssertionError\u001b[0m: num_persons=>PERSONS is not a known variable for a Person Record",
      "\nDuring handling of the above exception, another exception occurred:\n",
      "\u001b[0;31mAttributeError\u001b[0m                            Traceback (most recent call last)",
      "\u001b[0;32m<ipython-input-4-a5840bc66a6c>\u001b[0m in \u001b[0;36m<module>\u001b[0;34m\u001b[0m\n\u001b[1;32m     26\u001b[0m   \u001b[0mci\u001b[0m\u001b[0;34m.\u001b[0m\u001b[0mprint_var_info\u001b[0m\u001b[0;34m(\u001b[0m\u001b[0;34m'num_persons'\u001b[0m\u001b[0;34m,\u001b[0m\u001b[0mci\u001b[0m\u001b[0;34m.\u001b[0m\u001b[0mperson_record\u001b[0m\u001b[0;34m)\u001b[0m\u001b[0;34m\u001b[0m\u001b[0;34m\u001b[0m\u001b[0m\n\u001b[1;32m     27\u001b[0m \u001b[0;32mexcept\u001b[0m \u001b[0mException\u001b[0m \u001b[0;32mas\u001b[0m \u001b[0me\u001b[0m\u001b[0;34m:\u001b[0m\u001b[0;34m\u001b[0m\u001b[0;34m\u001b[0m\u001b[0m\n\u001b[0;32m---> 28\u001b[0;31m   \u001b[0mprint\u001b[0m\u001b[0;34m(\u001b[0m\u001b[0me\u001b[0m\u001b[0;34m.\u001b[0m\u001b[0mmessage\u001b[0m\u001b[0;34m)\u001b[0m\u001b[0;34m\u001b[0m\u001b[0;34m\u001b[0m\u001b[0m\n\u001b[0m",
      "\u001b[0;31mAttributeError\u001b[0m: 'AssertionError' object has no attribute 'message'"
     ]
    }
   ],
   "source": [
    "#To get info about a DB variable, 3 things must be specfied\n",
    "# file type (1 per cent or 5 per cent), record type (person or household)\n",
    "# and the variable name (column name)\n",
    "(var0,record_type, file_type) = ('RELATE',ci.record_types[1],ci.file_types[1])\n",
    "# To get avilable info about the VALUE of a variable (usually an opaque code)\n",
    "# Get the val of this variable for this line\n",
    "val = ci.get_db_val(line, var0, record_type)\n",
    "var_values_info = ci.variable_values_dictionary[record_type][(var0,file_type)]\n",
    "    \n",
    "# Print some of the info just retrieved.\n",
    "print (var0,  record_type, val, var_values_info[val])\n",
    "\n",
    "#ci.print_var_info ('EDUC', ci.person_record)\n",
    "ci.print_var_info ('education', ci.person_record)\n",
    "#ci.print_var_info ('RACE3', ci.person_record)\n",
    "ci.print_var_info ('race', ci.person_record)\n",
    "ci.print_var_info ('income', ci.person_record)\n",
    "\n",
    "# Common to both household and person records, links them\n",
    "ci.print_var_info('serial_no',ci.household_record)\n",
    "\n",
    "ci.print_var_info('serial_no',ci.person_record)\n",
    "ci.print_var_info('num_persons',ci.household_record)\n",
    "\n",
    "try:\n",
    "  ci.print_var_info('num_persons',ci.person_record)\n",
    "except Exception as e:\n",
    "  print(e.message)"
   ]
  },
  {
   "cell_type": "markdown",
   "metadata": {
    "id": "u-ZaTU2HGRjq"
   },
   "source": [
    "## Use the following code to pick out some variables of interest."
   ]
  },
  {
   "cell_type": "code",
   "execution_count": null,
   "metadata": {
    "id": "PYSqs52PGRjq",
    "outputId": "4dadbe6f-ba30-4d30-bf4f-bafed9878dfc"
   },
   "outputs": [
    {
     "name": "stdout",
     "output_type": "stream",
     "text": [
      "Housing Unit Record\n",
      "===================\n",
      "\n",
      "Var          Synonym  Description\n",
      "=================================\n",
      "\n",
      "ACRES                 Acreage\n",
      "ACRESA                Acreage Allocation Flag\n",
      "AGSALES               Sales of Agricultural Products in 1999\n",
      "AGSALESA              Sales of Agricultural Products in 1999 Allocation Flag\n",
      "AREATYP1              Metropolitan Area: SuperPUMA Relationship to MA\n",
      "AREATYP5              Metropolitan Area: PUMA Relationship to MA\n",
      "BEDRMS                Number of Bedrooms\n",
      "BEDRMSA               Number of Bedrooms Allocation Flag\n",
      "BLDGSZ                Size of Building\n",
      "BLDGSZA               Size of Building Allocation Flag\n",
      "BUSINES               Commercial Business on Property\n",
      "BUSINESA              Commercial Business on Property Allocation Flag\n",
      "CKITCH                Complete Kitchen Facilities\n",
      "CKITCHA               Complete Kitchen Facilities Allocation Flag\n",
      "CONDFEE               Condominium Fee (monthly)\n",
      "CONDFEEA              Condominium Fee (monthly) Allocation Flag\n",
      "CPLUMB                Complete Plumbing Facilities\n",
      "CPLUMBA               Complete Plumbing Facilities Allocation Flag\n",
      "DIVISION              Division Code\n",
      "ELEC                  Cost of Electricity (annual)\n",
      "ELECA                 Cost of Electricity (annual) Allocation Flag\n",
      "EMPSTAT               Family Type and Employment Status\n",
      "FINC                  Family Total Income in 1999\n",
      "FINC                  Family Total Income in 1999\n",
      "FNF                   Farm/Nonfarm Recode\n",
      "FUEL                  Heating Fuel\n",
      "FUELA                 Heating Fuel Allocation Flag\n",
      "GAS                   Cost of Gas (annual)\n",
      "GASA                  Cost of Gas (annual) Allocation Flag\n",
      "GRAPI                 Gross Rent as a Percentage of Household Income\n",
      "GRENT                 Gross Rent\n",
      "HAUG                  Augmentation Flag\n",
      "HHL                   Household Language\n",
      "HHT                   Household/Family Type\n",
      "HINC                  Household Total Income in 1999\n",
      "HINC                  Household Total Income in 1999\n",
      "HSUB                  Substitution Flag\n",
      "HWEIGHT               Housing unit weight\n",
      "INSAMT                Property Insurance Amount (annual)\n",
      "INSAMTA               Property Insurance Amount (annual) Allocation Flag\n",
      "INSINCL               Property Insurance Status\n",
      "INSINCLA              Property Insurance Status Allocation Flag\n",
      "LNDPUMA1              Land Area of SuperPUMA\n",
      "LNDPUMA5              Land Area of PUMA\n",
      "LNGI                  Linguistic Isolation\n",
      "MEALS                 Meals Included in Rent\n",
      "MEALSA                Meals Included in Rent Allocation Flag\n",
      "MHCOST                Mobile Home Costs\n",
      "MHCOSTA               Mobile Home Costs Allocation Flag\n",
      "MHLOAN                Mobile Home Loan Status\n",
      "MHLOANA               Mobile Home Loan Status Allocation Flag\n",
      "MORTG1                Mortgage Status\n",
      "MORTG1A               Mortgage Status Allocation Flag\n",
      "MORTG2                Second Mortgage Status\n",
      "MORTG2A               Second Mortgage Status Allocation Flag\n",
      "MRT1AMT               Mortgage Payment (monthly amount)\n",
      "MRT1AMTA              Mortgage Payment (monthly amount) Allocation Flag\n",
      "MRT2AMT               Second Mortgage Payment (monthly amount)\n",
      "MRT2AMTA              Second Mortgage Payment (monthly amount) Allocation Flag\n",
      "MSACMSA1              Metropolitan Area: MSA/CMSA for SuperPUMA\n",
      "MSACMSA5              Metropolitan Area (MA): MSA/CMSA for PUMA\n",
      "MSAPMSA1              Metropolitan Area: MSA/PMSA for SuperPUMA\n",
      "MSAPMSA5              Metropolitan Area: MSA/PMSA for PUMA\n",
      "NOC                   Number of own children under 18 years in household\n",
      "NPF                   Number of people in family\n",
      "NRC                   Number of related children under 18 years in household\n",
      "OIL                   Cost of Oil, Kerosene, or Wood (annual)\n",
      "OILA                  Cost of Oil, Kerosene, or Wood (annual) Allocation Flag\n",
      "P18                   Number of people under 18 years in household\n",
      "P65                   Number of people 65 years and over in household\n",
      "PAOC                  Presence and Age of Own Children under 18 years\n",
      "PARC                  Presence and Age of Related Children under 18 years\n",
      "PERSONS   num_persons  Number of person records following this housing record\n",
      "PHONE                 Telephone Availability\n",
      "PHONEA                Telephone Availability Allocation Flag\n",
      "PSF                   Presence of Subfamily in Household\n",
      "PUMA1                 Super Public Use Microdata Area Code (SuperPUMA)\n",
      "PUMA5                 Public Use Microdata Area Code (PUMA)\n",
      "RECTYPE               Record Type\n",
      "REGION                Region  Code\n",
      "RENT                  Monthly Rent\n",
      "RENTA                 Monthly Rent Allocation Flag\n",
      "ROOMS                 Number of Rooms\n",
      "ROOMSA                Number of Rooms Allocation Flag\n",
      "SAMPLE                Sample Identifier\n",
      "SERIALNO   serial_no  Housing/Group Quarters (GQ) Unit Serial Number\n",
      "SMOC                  Selected Monthly Owner Costs\n",
      "SMOC                  Selected Monthly Owner Costs\n",
      "SMOCAPI               Selected Monthly Owner Costs as a Percentage of Household Income\n",
      "SRNT                  Specified Rent Indicator\n",
      "STATE                 State Code\n",
      "SUBSAMPL              Subsample number\n",
      "SVAL                  Specified Value Indicator\n",
      "TAXAMT                Property Tax Amount (annual)\n",
      "TAXAMTA               Property Tax Amount (annual) Allocation Flag\n",
      "TAXINCL               Property Tax Status\n",
      "TAXINCLA              Property Tax Status Allocation Flag\n",
      "TENURE                Home Ownership\n",
      "TENUREA               Home Ownership Allocation Flag\n",
      "TOTPUMA1              Total Area of SuperPUMA\n",
      "TOTPUMA5              Total Area of PUMA\n",
      "UNITTYPE              Type of unit\n",
      "VACSTAT               Vacancy Status\n",
      "VACSTATA              Vacancy Status Allocation Flag\n",
      "VALUE                 Property Value\n",
      "VALUEA                Property Value Allocation Flag\n",
      "VEHICL                Number of Vehicles Available\n",
      "VEHICLA               Number of Vehicles Available Allocation Flag\n",
      "WATER                 Cost of Water and Sewer (annual)\n",
      "WATERA                Cost of Water and Sewer (annual) Allocation Flag\n",
      "WIF                   Number of workers in family\n",
      "WORKEXP               Family Type and Work Experience of Householder\n",
      "YRBUILT               Year Building Built\n",
      "YRBUILTA              Year Building Built Allocation Flag\n",
      "YRMOVED               Year Moved In\n",
      "YRMOVEDA              Year Moved In Allocation Flag\n",
      "\n",
      "Person Record\n",
      "=============\n",
      "\n",
      "Var          Synonym  Description\n",
      "=================================\n",
      "\n",
      "ABGO                  Able to Go Out Disability\n",
      "ABGOA                 Able to Go Out Disability Allocation Flag\n",
      "ABSENT                Absent from Work\n",
      "ABWORK                Employment Disability\n",
      "ABWORKA               Employment Disability Allocation Flag\n",
      "AGE              age  Age\n",
      "AGEA                  Age Allocation Flag\n",
      "AIAN                  American Indian and Alaska Native recode\n",
      "ANCA                  Ancestry Allocation Flag\n",
      "ANCFRST1              Ancestry Code 1 for 1% file\n",
      "ANCFRST5              Ancestry Code 1 for 5% file\n",
      "ANCR                  Ancestry Recode\n",
      "ANCSCND1              Ancestry Code 2 for 1% file\n",
      "ANCSCND5              Ancestry Code 2 for 5% file\n",
      "ASIAN          asian  Asian recode\n",
      "BACKWRK               Back to Work\n",
      "BLACK          black  Black or African American recode\n",
      "CARPOOL               Vehicle Occupancy\n",
      "CARPOOLA              Vehicle Occupancy Allocation Flag\n",
      "CITIZEN      citizen  Citizenship Status \n",
      "CITIZENA              Citizenship Status Allocation Flag\n",
      "CLWKR                 Class of Worker\n",
      "CLWKRA                Class of Worker Allocation Flag\n",
      "DDP                   Data-defined Person Flag\n",
      "DISABLE               Disability Recode\n",
      "EARNS                 Person's Total Earnings in 1999\n",
      "EDUC       education  Educational Attainment\n",
      "EDUCA                 Educational Attainment Allocation Flag\n",
      "ENGABIL   nonnative_speaker  English Ability \n",
      "ENGABILA              English Ability Allocation Flag\n",
      "ENROLL                School Enrollment; Attended since February 1, 2000\n",
      "ENROLLA               School Enrollment: Attended since February 1, 2000 Allocation Flag\n",
      "ESP                   Employment Status of Parent(s)\n",
      "ESR                   Employment Status Recode\n",
      "ESRA                  Employment Status Allocation Flag\n",
      "FILLER                \n",
      "GRADE                 School Enrollment: Grade Level Attending\n",
      "GRADEA                School Enrollment: Grade Level Attending Allocation Flag\n",
      "GRANDC                Presence of Grandchildren under 18 years\n",
      "GRANDCA               Presence of Grandchildren under 18 years Allocation Flag\n",
      "HISPAN                Hispanic or Latino Origin\n",
      "HISPANA               Hispanic or Latino Origin Allocation Flag\n",
      "HOURS                 Hours per Week in 1999\n",
      "HOURSA                Hours per Week in 1999 Allocation Flag\n",
      "HOWLONG               Length of Responsibility for Grandchildren\n",
      "HOWLONGA              Length of Responsibility for Grandchildren Allocation Flag\n",
      "INCINT                Interest Income in 1999\n",
      "INCINTA               Interest Income in 1999 Allocation Flag\n",
      "INCOTH                Other Income in 1999\n",
      "INCOTHA               Other Income in 1999 Allocation Flag\n",
      "INCPA                 Public Assistance Income in 1999\n",
      "INCPAA                Public Assistance Income in 1999 Allocation Flag\n",
      "INCRET                Retirement Income in 1999\n",
      "INCRETA               Retirement Income in 1999 Allocation Flag\n",
      "INCSE                 Self-Employment Income in 1999\n",
      "INCSEA                Self-Employment Income in 1999 Allocation Flag\n",
      "INCSS                 Social Security Income in 1999\n",
      "INCSSA                Social Security Income in 1999 Allocation Flag\n",
      "INCSSI                Supplemental Security Income in 1999\n",
      "INCSSIA               Supplemental Security Income in 1999 Allocation Flag\n",
      "INCTOT                Person's Total Income in 1999\n",
      "INCTOTA               Person's Total Income in 1999 Allocation Flag\n",
      "INCWS         income  Wage/Salary Income in 1999\n",
      "INCWSA                Wage/Salary Income in 1999 Allocation Flag\n",
      "INDCEN                Industry (Census)\n",
      "INDCENA               Industry (Census) Allocation Flag\n",
      "INDNAICS              Industry (NAICS)\n",
      "LANG1      language1  Language Spoken for 1% file\n",
      "LANG5      language5  Language Spoken for 5% file\n",
      "LANGA                 Language Spoken Allocation Flag\n",
      "LASTWRK               Year Last Worked\n",
      "LASTWRKA              Year Last Worked Allocation Flag\n",
      "LAYOFF                Layoff from Job\n",
      "LOOKWRK               Looking for Work\n",
      "LVTIME                Time Leaving for Work\n",
      "LVTIMEA               Time Leaving for Work Allocation Flag\n",
      "MARSTAT      married  Marital Status\n",
      "MARSTATA              Marital Status Allocation Flag\n",
      "MENTAL                Mental Disability\n",
      "MENTALA               Mental Disability Allocation Flag\n",
      "MIGAREA1              Migration SuperPUMA Relationship to MA\n",
      "MIGAREA5              Migration PUMA Relationship to MA\n",
      "MIGCMA1               Migration MA: MSA/CMSA for Migration SuperPUMA\n",
      "MIGCMA5               Migration MA: MSA/CMSA for Migration PUMA\n",
      "MIGPMA1               Migration MA: MSA/PMSA for Migration SuperPUMA\n",
      "MIGPMA5               Migration MA: MSA/PMSA for Migration PUMA\n",
      "MIGPUMA1              Migration SuperPUMA\n",
      "MIGPUMA5              Migration PUMA\n",
      "MIGST1                Migration State or Foreign Country Code for 1% file\n",
      "MIGST5                Migration State or Foreign Country Code for 5% file\n",
      "MIGSTA                Migration State or Foreign County Code Allocation Flag\n",
      "MILTARY               Military Service \n",
      "MILTARYA              Military Service Allocation Flag\n",
      "MILYRS                Years of Military Service\n",
      "MILYRSA               Years of Military Service Allocation Flag\n",
      "MOB                   Residence 5 Years Ago\n",
      "MOBA                  Residence 5 Years Ago Allocation Flag\n",
      "MSP                   Married, Spouse Present Recode\n",
      "NHPI                  Native and Other Pacific Islander recode\n",
      "NUMRACE               Number of Major Race Groups Marked\n",
      "OC                    Own Child Indicator\n",
      "OCCCEN1               Occupation (Census) for 1% file\n",
      "OCCCEN5               Occupation (Census) for 5% file\n",
      "OCCCENA               Occupation (Census) Allocation Flag\n",
      "OCCSOC1               Occupation (SOC) for 1% file\n",
      "OCCSOC5               Occupation (SOC) for 5% file\n",
      "OTHER                 Some other race recode\n",
      "PAOCF                 Presence and Age of Own Children, Females\n",
      "PAUG                  Augmented Person Flag\n",
      "PHYSCL                Physical Disability\n",
      "PHYSCLA               Physical Disability Allocation Flag\n",
      "PNUM                  Person Sequence Number\n",
      "POB1                  Place of Birth for 1% file\n",
      "POB5                  Place of Birth for 5% file\n",
      "POBA                  Place of Birth Allocation Flag\n",
      "POVERTY               Person's Poverty Status\n",
      "POWAREA1              Place of Work SuperPUMA Relationship to MA\n",
      "POWAREA5              Place of Work PUMA Relationship to MA\n",
      "POWCMA1               Place of Work MA: MSA/CMSA for Place of Work SuperPUMA\n",
      "POWCMA5               Place of Work MA: MSA/CMSA for Place of Work PUMA\n",
      "POWPMA1               Place of Work MA: MSA/PMSA for Place of Work SuperPUMA\n",
      "POWPMA5               Place of Work MA: MSA/PMSA for Place of Work PUMA\n",
      "POWPUMA1              Place of Work SuperPUMA\n",
      "POWPUMA5              Place of Work PUMA\n",
      "POWST1                Place of Work State or Foreign Country Code for 1% file\n",
      "POWST5                Place of Work State or Foreign Country Code for 5% file\n",
      "POWSTA                Place of Work State or Foreign Country Code Allocation Flag\n",
      "PWEIGHT               Person Weight\n",
      "RACE1                 Race Recode 1\n",
      "RACE2                 Race Recode 2\n",
      "RACE3           race  Race Recode 3\n",
      "RACEA                 Race Allocation Flag\n",
      "RC                    Related Child Indicator\n",
      "RECALL                Return-to-Work Recall\n",
      "RECTYPE               Record Type\n",
      "RELATE    relationship  Relationship\n",
      "RELATEA               Relationship Allocation Flag\n",
      "RSPNSBL               Responsible for Grandchildren\n",
      "RSPNSBLA              Responsible for Grandchildren Allocation Flag\n",
      "SENSORY               Sensory Disability\n",
      "SENSORYA              Sensory Disability Allocation Flag\n",
      "SERIALNO   serial_no  Housing/Group Quarters (GQ) Unit Serial Number\n",
      "SEX           gender  Sex\n",
      "SEXA                  Sex Allocation Flag\n",
      "SFN                   Subfamily Number for this person\n",
      "SFREL                 Subfamily Relationship\n",
      "SLFCARE               Self-Care Disability\n",
      "SLFCAREA              Self-Care Disability Allocation Flag\n",
      "SPEAK                 Non-English Language\n",
      "SPEAKA                Non-English Language Allocation Flag\n",
      "TRVMNS                Means of Transportation to Work\n",
      "TRVMNSA               Means of Transportation to Work Allocation Flag\n",
      "TRVTIME               Travel Time to Work\n",
      "TRVTIMEA              Travel Time to Work Allocation Flag\n",
      "VPS1                  Veteran's Period of Service 1:  On active duty April 1995 or later\n",
      "VPS2                  Veteran's Period of Service 2:  On active duty August 1990 to March 1995 (including Persian Gulf War)\n",
      "VPS3                  Veteran's Period of Service 3:  On active duty September 1980 to July 1990\n",
      "VPS4                  Veteran's Period of Service 4:  On active duty May 1975 to August 1980\n",
      "VPS5                  Veteran's Period of Service 5: On active duty during the Vietnam Era (August 1964 to April 1975)\n",
      "VPS6                  Veteran's Period of Service 6:  On active duty February 1955 to July 1964\n",
      "VPS7                  Veteran's Period of Service 7:  On active duty during the Korean War (June 1950 to January 1955)\n",
      "VPS8                  Veteran's Period of Service 8:  On active duty during World War II (September 1940 to July 1947)\n",
      "VPS9                  Veteran's Period of Service 9: On active duty any other time\n",
      "VPSA                  Veteran's Period of Service Allocation Flag\n",
      "VPSR                  Veteran's Period of Service Recode\n",
      "WEEKS                 Weeks Worked in 1999\n",
      "WEEKSA                Weeks Worked in 1999 Allocation Flag\n",
      "WHITE          white  White recode\n",
      "WRKLYR                Worked in 1999\n",
      "WRKLYRA               Worked in 1999 Allocation Flag\n",
      "YR2US                 Year of Entry to United States\n",
      "YR2USA                Year of Entry to United States Allocation Flag\n",
      "\n"
     ]
    }
   ],
   "source": [
    "for rt in ci.record_types:\n",
    "    print(rt)\n",
    "    print('=' * len(rt))\n",
    "    print()\n",
    "    rt_dict = ci.data_dictionary[rt]\n",
    "    banner = '%-5s %14s  %s' % ('Var', 'Synonym', 'Description')\n",
    "    print(banner)\n",
    "    print('=' * len(banner))\n",
    "    print()\n",
    "    for var in sorted(rt_dict.keys()):\n",
    "        syns = ', '.join(ci.backward_syns[var])\n",
    "        print('%-9s %10s  %s' % (var, syns, rt_dict[var]['DESCRIPTION']))\n",
    "    print()"
   ]
  },
  {
   "cell_type": "markdown",
   "metadata": {
    "id": "QCofjnKTGRjq"
   },
   "source": [
    "## Learn more about the values of variable of interest with the following code."
   ]
  },
  {
   "cell_type": "markdown",
   "metadata": {
    "id": "Oh0KbMXCGRjq"
   },
   "source": [
    "But remember you have to get the record type right.  The following fails because \"INCWS\" (Wage/salaray income) is not\n",
    "a variable for HOUSHOLD records.\n",
    "\n",
    "```\n",
    "ci.print_var_info('INCWS',ci.household_record)\n",
    "```"
   ]
  },
  {
   "cell_type": "code",
   "execution_count": null,
   "metadata": {
    "id": "JQ4cs5mwGRjq",
    "outputId": "0d13dd7f-c677-4aeb-999c-1a81bf272304"
   },
   "outputs": [
    {
     "name": "stdout",
     "output_type": "stream",
     "text": [
      "Housing Unit Record HINC 5% file {'RT': 'H', 'BEG': 251, 'LEN': 8, 'DESCRIPTION': 'Household Total Income in 1999'}\n",
      "\n",
      "     Household Total Income in 1999\n",
      "     ==============================\n",
      "     ('-0000001', '-0059998')  Loss of $1 to $59,998\n",
      "     00000000  Not in universe (vacant, GQ, no income)\n",
      "     ('00000001', ' ')  $1 or break even\n",
      "     ('00000002', '99999998')  $2 to $99,999,998\n",
      "     ('99999999', ' ')  $99,999,999 or more\n",
      "\n"
     ]
    }
   ],
   "source": [
    "ci.print_var_info('HINC',ci.household_record)"
   ]
  },
  {
   "cell_type": "code",
   "execution_count": 4,
   "metadata": {
    "colab": {
     "base_uri": "https://localhost:8080/"
    },
    "id": "K7BwfhwnGRjq",
    "outputId": "fc0ffcfa-3e1b-4ce0-d0c9-d2aade9c00bc"
   },
   "outputs": [
    {
     "name": "stdout",
     "output_type": "stream",
     "text": [
      "Person Record INCWS 5% file {'RT': 'P', 'BEG': 244, 'LEN': 6, 'DESCRIPTION': 'Wage/Salary Income in 1999'}\n",
      "\n",
      "     Wage/Salary Income in 1999\n",
      "     ==========================\n",
      "     ('000000', ' ')  No/none\n",
      "     ('000001', '174999')  $1 to $174,999\n",
      "     175000  Topcode\n",
      "     175000+  State mean of topcoded values\n",
      "      blank  Not in universe (Under 15 years)\n",
      "\n"
     ]
    }
   ],
   "source": [
    "ci.print_var_info('INCWS',ci.person_record)"
   ]
  },
  {
   "cell_type": "markdown",
   "metadata": {
    "id": "0azNFoG_GRjq"
   },
   "source": [
    "Values at or above topcode are not directly represented.  Instead the mean for values above topcode (for that particular state) are substituted.  You can find out what these means are for topcoded housing and person records [here](http://webapp1.dlib.indiana.edu/virtual_disk_library/index.cgi/5688252/FID3502/Document/Appendix%20H.txt).  In addition, each variable has a **universe**, a set of entities for which it is supposed to represent information.  For the Wage salary income variable INCWS, that universe is persons 15 years of age or over.  Persons under 15 years of age have a blank in that column.  That represents different information than a 0 (which means a person 15 or older earning no salary income).  What is the right thing to do with such records  when computing average salaries?"
   ]
  },
  {
   "cell_type": "markdown",
   "metadata": {
    "id": "T0Ggh5NsGRjq"
   },
   "source": [
    "Let's do gender next."
   ]
  },
  {
   "cell_type": "code",
   "execution_count": 5,
   "metadata": {
    "colab": {
     "base_uri": "https://localhost:8080/"
    },
    "id": "CDWdxid1GRjr",
    "outputId": "68e412fb-813a-4b06-bab5-5dedf035ff27"
   },
   "outputs": [
    {
     "name": "stdout",
     "output_type": "stream",
     "text": [
      "Person Record gender => SEX 5% file {'RT': 'P', 'BEG': 23, 'LEN': 1, 'DESCRIPTION': 'Sex'}\n",
      "\n",
      "     Sex\n",
      "     ===\n",
      "     1  Male\n",
      "     2  Female\n",
      "\n"
     ]
    }
   ],
   "source": [
    "ci.print_var_info('gender',ci.person_record)"
   ]
  },
  {
   "cell_type": "markdown",
   "metadata": {
    "id": "QSS1HSC4GRjr"
   },
   "source": [
    "Many variable are just BOOLEAN variables.  They represent whether or not the person or household falls in some category with a 1 or a 2.  The MENTAL (mental disability) variable shown next is an example.  Variables are sometimes accompanied by **allocation** variables, which give information about how the value of that variable for that particular record was arrived at.  For example the MENTAL variable has an accompanying MENTALA allocation variable, which can have the value 1 or 0, with a 1 indicating that the value of the MENTAL variable was missing in the raw data and was inferred by one of a number of allocation methods outlined [here](https://usa.ipums.org/usa/flags.shtml).  Whether or not allocated data should be excluded is a complicated subject having to do with the methods used for allocation and whether a bias may have been introduced."
   ]
  },
  {
   "cell_type": "code",
   "execution_count": 6,
   "metadata": {
    "colab": {
     "base_uri": "https://localhost:8080/"
    },
    "id": "7vyt1eUhGRjr",
    "outputId": "0417dc65-6480-45a6-9223-fba04b6cb0b6"
   },
   "outputs": [
    {
     "name": "stdout",
     "output_type": "stream",
     "text": [
      "Person Record MENTAL 5% file {'RT': 'P', 'BEG': 123, 'LEN': 1, 'DESCRIPTION': 'Mental Disability'}\n",
      "\n",
      "     Mental Disability\n",
      "     =================\n",
      "     1  Yes\n",
      "     2  No \n",
      "     blank  Not in universe (Under 5 years)\n",
      "\n"
     ]
    }
   ],
   "source": [
    "ci.print_var_info('MENTAL',ci.person_record)"
   ]
  },
  {
   "cell_type": "code",
   "execution_count": null,
   "metadata": {
    "id": "aHS1NskWGRjr",
    "outputId": "9518fac4-2e57-43c4-aa07-fc34a569f546"
   },
   "outputs": [
    {
     "name": "stdout",
     "output_type": "stream",
     "text": [
      "Person Record MENTALA 5% file {'RT': 'P', 'BEG': 124, 'LEN': 1, 'DESCRIPTION': 'Mental Disability Allocation Flag'}\n",
      "\n",
      "     Mental Disability Allocation Flag\n",
      "     =================================\n",
      "     0  Not allocated\n",
      "     1  Allocated\n",
      "\n"
     ]
    }
   ],
   "source": [
    "ci.print_var_info('MENTALA',ci.person_record)"
   ]
  },
  {
   "cell_type": "code",
   "execution_count": null,
   "metadata": {
    "id": "tT3w7EsBGRjr",
    "outputId": "649e29c1-bd43-44a9-8b5a-9fd399ec7093"
   },
   "outputs": [
    {
     "name": "stdout",
     "output_type": "stream",
     "text": [
      "Person Record PHYSCL 5% file {'RT': 'P', 'BEG': 121, 'LEN': 1, 'DESCRIPTION': 'Physical Disability'}\n",
      "\n",
      "     Physical Disability\n",
      "     ===================\n",
      "     1  Yes\n",
      "     2  No \n",
      "     blank  Not in universe (Under 5 years)\n",
      "\n"
     ]
    }
   ],
   "source": [
    "ci.print_var_info('PHYSCL',ci.person_record)"
   ]
  },
  {
   "cell_type": "code",
   "execution_count": null,
   "metadata": {
    "id": "pi_ZmU5vGRjr",
    "outputId": "e0b951fb-3de6-492e-d5e4-20ffb0bd03ee"
   },
   "outputs": [
    {
     "name": "stdout",
     "output_type": "stream",
     "text": [
      "Person Record PHYSCLA 5% file {'RT': 'P', 'BEG': 122, 'LEN': 1, 'DESCRIPTION': 'Physical Disability Allocation Flag'}\n",
      "\n",
      "     Physical Disability Allocation Flag\n",
      "     ===================================\n",
      "     0  Not allocated\n",
      "     1  Allocated\n",
      "\n"
     ]
    }
   ],
   "source": [
    "ci.print_var_info('PHYSCLA',ci.person_record)"
   ]
  },
  {
   "cell_type": "markdown",
   "metadata": {
    "id": "od3h2UtKGRjr"
   },
   "source": [
    "More verbose data is printed out for a variable that has a complex value set."
   ]
  },
  {
   "cell_type": "code",
   "execution_count": 7,
   "metadata": {
    "colab": {
     "base_uri": "https://localhost:8080/"
    },
    "id": "MuS97OpIGRjr",
    "outputId": "9bf086aa-72f2-46d5-d479-3acafb521f85"
   },
   "outputs": [
    {
     "name": "stdout",
     "output_type": "stream",
     "text": [
      "Person Record education => EDUC 5% file {'RT': 'P', 'BEG': 53, 'LEN': 2, 'DESCRIPTION': 'Educational Attainment'}\n",
      "\n",
      "     Educational Attainment\n",
      "     ======================\n",
      "     00  Not in universe (Under 3 years)\n",
      "     01  No schooling completed\n",
      "     02  Nursery school to 4th grade\n",
      "     03  5th grade or 6th grade\n",
      "     04  7th grade or 8th grade\n",
      "     05  9th grade\n",
      "     06  10th grade\n",
      "     07  11th grade\n",
      "     08  12th grade, no diploma\n",
      "     09  High school graduate\n",
      "     10  Some college, but less than 1 year\n",
      "     11  One or more years of college, no degree\n",
      "     12  Associate degree\n",
      "     13  Bachelor's degree\n",
      "     14  Master's degree\n",
      "     15  Professional degree\n",
      "     16  Doctorate degree\n",
      "\n"
     ]
    }
   ],
   "source": [
    "ci.print_var_info('education',ci.person_record)"
   ]
  },
  {
   "cell_type": "markdown",
   "metadata": {
    "id": "YiC9A-IFGRjr"
   },
   "source": [
    "In some cases information about a code value must be gotten by going back to [the Census 2000 PUMS data](http://www2.census.gov/census_2000/datasets/PUMS/)  and downloading some further documentation.  This is true of two very important types of information, occupation and location.  For example, information about the metropolitan area of a household is coded using FIPS MSA/CMSA codes.  The coding explanations are stored in documents available state by state and named according to a standard convention. The name template is \"PUMEQ[filetype]-[StateCode].TXT\", where filetype is 1 (for 1%) or 5 (for 5%), and \"StateCode\" is a standard two-letter state code.\n",
    "\n",
    "So, for example, the file giving all the location code info for the 1% file for Alabmama is named \"PUMEQ1-AL.TXT\".  So the geographical meaning of code '0040-9360', the MSA/CMSA codes shown below, will be found there.  "
   ]
  },
  {
   "cell_type": "code",
   "execution_count": null,
   "metadata": {
    "id": "YOeZLCQHGRjr",
    "outputId": "656a7a03-fde5-462a-883a-38b43d86b105"
   },
   "outputs": [
    {
     "name": "stdout",
     "output_type": "stream",
     "text": [
      "Housing Unit Record MSACMSA1 5% file {'RT': 'H', 'BEG': 32, 'LEN': 4, 'DESCRIPTION': 'Metropolitan Area: MSA/CMSA for SuperPUMA'}\n",
      "\n",
      "     Metropolitan Area: MSA/CMSA for SuperPUMA\n",
      "     =========================================\n",
      "     ('0040', '9360')  FIPS MSA/CMSA Code\n",
      "     9997  Mixed MSA/CMSA and nonmetropolitan territory\n",
      "     9998  2 or more partial and/or entire MSAs/PMSAs\n",
      "     9999  Not in metropolitan area\n",
      "\n"
     ]
    }
   ],
   "source": [
    "ci.print_var_info('MSACMSA1',ci.household_record)"
   ]
  },
  {
   "cell_type": "markdown",
   "metadata": {
    "id": "oinjO_7jGRjr"
   },
   "source": [
    "On the other hand, although the record below suggests we look in something called Appendix G for the language codes, they actually appear to be stored in a file called 5%_PUMS_language.xls.  The codes are the same for 1% and 5% data, and so a lot of this auxiliaryu documentation is stored only in the 5% portion of the website."
   ]
  },
  {
   "cell_type": "code",
   "execution_count": null,
   "metadata": {
    "id": "3OYHJi64GRjr",
    "outputId": "1ce0d9cd-f1dd-4e7e-e838-b16fdec34f3a"
   },
   "outputs": [
    {
     "name": "stdout",
     "output_type": "stream",
     "text": [
      "Person Record LANG1 5% file {'RT': 'P', 'BEG': 66, 'LEN': 3, 'DESCRIPTION': 'Language Spoken for 1% file'}\n",
      "\n",
      "     Language Spoken for 1% file\n",
      "     ===========================\n",
      "          \n",
      "           \n",
      "\n"
     ]
    }
   ],
   "source": [
    "ci.print_var_info('LANG1',ci.person_record)"
   ]
  },
  {
   "cell_type": "markdown",
   "metadata": {
    "id": "xXzuqkW8GRjr"
   },
   "source": [
    "## Selecting a subset of the data"
   ]
  },
  {
   "cell_type": "code",
   "execution_count": 8,
   "metadata": {
    "colab": {
     "base_uri": "https://localhost:8080/"
    },
    "id": "yjTa2oRJGRjr",
    "outputId": "552b503a-e5c5-4e7b-bbdd-17f40dab9de7"
   },
   "outputs": [
    {
     "data": {
      "text/plain": [
       "[['0000117', '47', '12', '047300', '1', '31', '01'],\n",
       " ['0000117', '47', '12', '024300', '2', '25', '02'],\n",
       " ['0000117', '47', '00', '      ', '1', '00', '03'],\n",
       " ['0000127', '47', '05', '000000', '1', '22', '01'],\n",
       " ['0000127', '47', '10', '022000', '2', '35', '02']]"
      ]
     },
     "execution_count": 8,
     "metadata": {
      "tags": []
     },
     "output_type": "execute_result"
    }
   ],
   "source": [
    "df = census.DataFrameWrapper(ci)\n",
    "# we select a subset of the columns.\n",
    "df.fill_frame ([], ci.person_record, one_percent_data_file, ci.one_percent_file, \\\n",
    "                'race','education','income','gender','age','relationship')\n",
    "df.rows[:5]"
   ]
  },
  {
   "cell_type": "markdown",
   "metadata": {
    "id": "SLZQ_LDHGRjr"
   },
   "source": [
    "Note that the household serial_no field is included automatically, because this is the column\n",
    "that let us link this to other records (to other persons in the same household, so that\n",
    "we can aggregate information about households."
   ]
  },
  {
   "cell_type": "code",
   "execution_count": 17,
   "metadata": {
    "colab": {
     "base_uri": "https://localhost:8080/"
    },
    "id": "hGHkqJhXGRjr",
    "outputId": "3360da92-72a5-4da2-fbd8-991ebeae03d5"
   },
   "outputs": [
    {
     "data": {
      "text/plain": [
       "['serial_no', 'race', 'education', 'income', 'gender', 'age', 'relationship']"
      ]
     },
     "execution_count": 17,
     "metadata": {
      "tags": []
     },
     "output_type": "execute_result"
    }
   ],
   "source": [
    "df.header"
   ]
  },
  {
   "cell_type": "markdown",
   "metadata": {
    "id": "bGGulKioGRjr"
   },
   "source": [
    "Order of the original rows is preserved so the first two person records are about two people in the\n",
    "same household."
   ]
  },
  {
   "cell_type": "code",
   "execution_count": 18,
   "metadata": {
    "colab": {
     "base_uri": "https://localhost:8080/"
    },
    "id": "8l8AAbejGRjr",
    "outputId": "4bc41a1a-ae44-47a5-89c8-6ce40816d791"
   },
   "outputs": [
    {
     "data": {
      "text/plain": [
       "[['0000117', '47', '12', '047300', '1', '31', '01'],\n",
       " ['0000117', '47', '12', '024300', '2', '25', '02'],\n",
       " ['0000117', '47', '00', '      ', '1', '00', '03'],\n",
       " ['0000127', '47', '05', '000000', '1', '22', '01'],\n",
       " ['0000127', '47', '10', '022000', '2', '35', '02']]"
      ]
     },
     "execution_count": 18,
     "metadata": {
      "tags": []
     },
     "output_type": "execute_result"
    }
   ],
   "source": [
    "df.rows[:5]"
   ]
  },
  {
   "cell_type": "code",
   "execution_count": 19,
   "metadata": {
    "id": "4gbnySmvGRjr"
   },
   "outputs": [],
   "source": [
    "df.save_frame(os.path.join(data_dir,'alabama_pums_extract.csv'),header=True)"
   ]
  },
  {
   "cell_type": "code",
   "execution_count": 20,
   "metadata": {
    "id": "MxdkWBbgGRjr"
   },
   "outputs": [],
   "source": [
    "import pandas as pd\n",
    "import numpy as np\n",
    "## Note default is to use header line to name cols.\n",
    "## header argument is for selecting cols or renaming cols\n",
    "## Specify dat types for all the codes that arent really intended to be treated as numbers\n",
    "## Let pandas try to figure out income,education, and age.\n",
    "dt_dict ={'serial_no':object,'race':object,'gender':object,'relationship':object}\n",
    "p_df = pd.read_csv(os.path.join(data_dir,'alabama_pums_extract.csv'),\n",
    "                   dtype=dt_dict)"
   ]
  },
  {
   "cell_type": "code",
   "execution_count": 21,
   "metadata": {
    "colab": {
     "base_uri": "https://localhost:8080/",
     "height": 407
    },
    "id": "6HNLGmr_Gwly",
    "outputId": "6a4bc1e5-45cd-415e-a89e-3956a6a22f21"
   },
   "outputs": [
    {
     "data": {
      "text/html": [
       "<div>\n",
       "<style scoped>\n",
       "    .dataframe tbody tr th:only-of-type {\n",
       "        vertical-align: middle;\n",
       "    }\n",
       "\n",
       "    .dataframe tbody tr th {\n",
       "        vertical-align: top;\n",
       "    }\n",
       "\n",
       "    .dataframe thead th {\n",
       "        text-align: right;\n",
       "    }\n",
       "</style>\n",
       "<table border=\"1\" class=\"dataframe\">\n",
       "  <thead>\n",
       "    <tr style=\"text-align: right;\">\n",
       "      <th></th>\n",
       "      <th>serial_no</th>\n",
       "      <th>race</th>\n",
       "      <th>education</th>\n",
       "      <th>income</th>\n",
       "      <th>gender</th>\n",
       "      <th>age</th>\n",
       "      <th>relationship</th>\n",
       "    </tr>\n",
       "  </thead>\n",
       "  <tbody>\n",
       "    <tr>\n",
       "      <th>0</th>\n",
       "      <td>0000117</td>\n",
       "      <td>47</td>\n",
       "      <td>12</td>\n",
       "      <td>47300.0</td>\n",
       "      <td>1</td>\n",
       "      <td>31</td>\n",
       "      <td>01</td>\n",
       "    </tr>\n",
       "    <tr>\n",
       "      <th>1</th>\n",
       "      <td>0000117</td>\n",
       "      <td>47</td>\n",
       "      <td>12</td>\n",
       "      <td>24300.0</td>\n",
       "      <td>2</td>\n",
       "      <td>25</td>\n",
       "      <td>02</td>\n",
       "    </tr>\n",
       "    <tr>\n",
       "      <th>2</th>\n",
       "      <td>0000117</td>\n",
       "      <td>47</td>\n",
       "      <td>0</td>\n",
       "      <td>NaN</td>\n",
       "      <td>1</td>\n",
       "      <td>0</td>\n",
       "      <td>03</td>\n",
       "    </tr>\n",
       "    <tr>\n",
       "      <th>3</th>\n",
       "      <td>0000127</td>\n",
       "      <td>47</td>\n",
       "      <td>5</td>\n",
       "      <td>0.0</td>\n",
       "      <td>1</td>\n",
       "      <td>22</td>\n",
       "      <td>01</td>\n",
       "    </tr>\n",
       "    <tr>\n",
       "      <th>4</th>\n",
       "      <td>0000127</td>\n",
       "      <td>47</td>\n",
       "      <td>10</td>\n",
       "      <td>22000.0</td>\n",
       "      <td>2</td>\n",
       "      <td>35</td>\n",
       "      <td>02</td>\n",
       "    </tr>\n",
       "    <tr>\n",
       "      <th>...</th>\n",
       "      <td>...</td>\n",
       "      <td>...</td>\n",
       "      <td>...</td>\n",
       "      <td>...</td>\n",
       "      <td>...</td>\n",
       "      <td>...</td>\n",
       "      <td>...</td>\n",
       "    </tr>\n",
       "    <tr>\n",
       "      <th>44482</th>\n",
       "      <td>0999820</td>\n",
       "      <td>37</td>\n",
       "      <td>1</td>\n",
       "      <td>NaN</td>\n",
       "      <td>1</td>\n",
       "      <td>5</td>\n",
       "      <td>08</td>\n",
       "    </tr>\n",
       "    <tr>\n",
       "      <th>44483</th>\n",
       "      <td>0999820</td>\n",
       "      <td>37</td>\n",
       "      <td>7</td>\n",
       "      <td>0.0</td>\n",
       "      <td>1</td>\n",
       "      <td>42</td>\n",
       "      <td>13</td>\n",
       "    </tr>\n",
       "    <tr>\n",
       "      <th>44484</th>\n",
       "      <td>0999826</td>\n",
       "      <td>37</td>\n",
       "      <td>8</td>\n",
       "      <td>0.0</td>\n",
       "      <td>2</td>\n",
       "      <td>29</td>\n",
       "      <td>01</td>\n",
       "    </tr>\n",
       "    <tr>\n",
       "      <th>44485</th>\n",
       "      <td>0999826</td>\n",
       "      <td>37</td>\n",
       "      <td>5</td>\n",
       "      <td>NaN</td>\n",
       "      <td>1</td>\n",
       "      <td>14</td>\n",
       "      <td>03</td>\n",
       "    </tr>\n",
       "    <tr>\n",
       "      <th>44486</th>\n",
       "      <td>0999826</td>\n",
       "      <td>37</td>\n",
       "      <td>1</td>\n",
       "      <td>NaN</td>\n",
       "      <td>1</td>\n",
       "      <td>8</td>\n",
       "      <td>03</td>\n",
       "    </tr>\n",
       "  </tbody>\n",
       "</table>\n",
       "<p>44487 rows × 7 columns</p>\n",
       "</div>"
      ],
      "text/plain": [
       "      serial_no race  education   income gender  age relationship\n",
       "0       0000117   47         12  47300.0      1   31           01\n",
       "1       0000117   47         12  24300.0      2   25           02\n",
       "2       0000117   47          0      NaN      1    0           03\n",
       "3       0000127   47          5      0.0      1   22           01\n",
       "4       0000127   47         10  22000.0      2   35           02\n",
       "...         ...  ...        ...      ...    ...  ...          ...\n",
       "44482   0999820   37          1      NaN      1    5           08\n",
       "44483   0999820   37          7      0.0      1   42           13\n",
       "44484   0999826   37          8      0.0      2   29           01\n",
       "44485   0999826   37          5      NaN      1   14           03\n",
       "44486   0999826   37          1      NaN      1    8           03\n",
       "\n",
       "[44487 rows x 7 columns]"
      ]
     },
     "execution_count": 21,
     "metadata": {
      "tags": []
     },
     "output_type": "execute_result"
    }
   ],
   "source": [
    "p_df"
   ]
  },
  {
   "cell_type": "markdown",
   "metadata": {
    "id": "rZV97xaTGRjr"
   },
   "source": [
    "Just for practice, save this file.  The version we're saving is identical\n",
    "to the one we just read in."
   ]
  },
  {
   "cell_type": "code",
   "execution_count": 14,
   "metadata": {
    "id": "XyCmmBU5GRjr"
   },
   "outputs": [],
   "source": [
    "p_df.to_csv('alabama_pums_extract3.csv',index=False)"
   ]
  },
  {
   "cell_type": "code",
   "execution_count": 15,
   "metadata": {
    "colab": {
     "base_uri": "https://localhost:8080/",
     "height": 407
    },
    "id": "kIBJzKUqGRjr",
    "outputId": "294f8fd2-ed1d-4c85-974d-247869fc4898",
    "scrolled": true
   },
   "outputs": [
    {
     "data": {
      "text/html": [
       "<div>\n",
       "<style scoped>\n",
       "    .dataframe tbody tr th:only-of-type {\n",
       "        vertical-align: middle;\n",
       "    }\n",
       "\n",
       "    .dataframe tbody tr th {\n",
       "        vertical-align: top;\n",
       "    }\n",
       "\n",
       "    .dataframe thead th {\n",
       "        text-align: right;\n",
       "    }\n",
       "</style>\n",
       "<table border=\"1\" class=\"dataframe\">\n",
       "  <thead>\n",
       "    <tr style=\"text-align: right;\">\n",
       "      <th></th>\n",
       "      <th>serial_no</th>\n",
       "      <th>race</th>\n",
       "      <th>education</th>\n",
       "      <th>income</th>\n",
       "      <th>gender</th>\n",
       "      <th>age</th>\n",
       "      <th>relationship</th>\n",
       "    </tr>\n",
       "  </thead>\n",
       "  <tbody>\n",
       "    <tr>\n",
       "      <th>0</th>\n",
       "      <td>0000117</td>\n",
       "      <td>47</td>\n",
       "      <td>12</td>\n",
       "      <td>47300.0</td>\n",
       "      <td>1</td>\n",
       "      <td>31</td>\n",
       "      <td>01</td>\n",
       "    </tr>\n",
       "    <tr>\n",
       "      <th>1</th>\n",
       "      <td>0000117</td>\n",
       "      <td>47</td>\n",
       "      <td>12</td>\n",
       "      <td>24300.0</td>\n",
       "      <td>2</td>\n",
       "      <td>25</td>\n",
       "      <td>02</td>\n",
       "    </tr>\n",
       "    <tr>\n",
       "      <th>2</th>\n",
       "      <td>0000117</td>\n",
       "      <td>47</td>\n",
       "      <td>0</td>\n",
       "      <td>NaN</td>\n",
       "      <td>1</td>\n",
       "      <td>0</td>\n",
       "      <td>03</td>\n",
       "    </tr>\n",
       "    <tr>\n",
       "      <th>3</th>\n",
       "      <td>0000127</td>\n",
       "      <td>47</td>\n",
       "      <td>5</td>\n",
       "      <td>0.0</td>\n",
       "      <td>1</td>\n",
       "      <td>22</td>\n",
       "      <td>01</td>\n",
       "    </tr>\n",
       "    <tr>\n",
       "      <th>4</th>\n",
       "      <td>0000127</td>\n",
       "      <td>47</td>\n",
       "      <td>10</td>\n",
       "      <td>22000.0</td>\n",
       "      <td>2</td>\n",
       "      <td>35</td>\n",
       "      <td>02</td>\n",
       "    </tr>\n",
       "    <tr>\n",
       "      <th>...</th>\n",
       "      <td>...</td>\n",
       "      <td>...</td>\n",
       "      <td>...</td>\n",
       "      <td>...</td>\n",
       "      <td>...</td>\n",
       "      <td>...</td>\n",
       "      <td>...</td>\n",
       "    </tr>\n",
       "    <tr>\n",
       "      <th>44482</th>\n",
       "      <td>0999820</td>\n",
       "      <td>37</td>\n",
       "      <td>1</td>\n",
       "      <td>NaN</td>\n",
       "      <td>1</td>\n",
       "      <td>5</td>\n",
       "      <td>08</td>\n",
       "    </tr>\n",
       "    <tr>\n",
       "      <th>44483</th>\n",
       "      <td>0999820</td>\n",
       "      <td>37</td>\n",
       "      <td>7</td>\n",
       "      <td>0.0</td>\n",
       "      <td>1</td>\n",
       "      <td>42</td>\n",
       "      <td>13</td>\n",
       "    </tr>\n",
       "    <tr>\n",
       "      <th>44484</th>\n",
       "      <td>0999826</td>\n",
       "      <td>37</td>\n",
       "      <td>8</td>\n",
       "      <td>0.0</td>\n",
       "      <td>2</td>\n",
       "      <td>29</td>\n",
       "      <td>01</td>\n",
       "    </tr>\n",
       "    <tr>\n",
       "      <th>44485</th>\n",
       "      <td>0999826</td>\n",
       "      <td>37</td>\n",
       "      <td>5</td>\n",
       "      <td>NaN</td>\n",
       "      <td>1</td>\n",
       "      <td>14</td>\n",
       "      <td>03</td>\n",
       "    </tr>\n",
       "    <tr>\n",
       "      <th>44486</th>\n",
       "      <td>0999826</td>\n",
       "      <td>37</td>\n",
       "      <td>1</td>\n",
       "      <td>NaN</td>\n",
       "      <td>1</td>\n",
       "      <td>8</td>\n",
       "      <td>03</td>\n",
       "    </tr>\n",
       "  </tbody>\n",
       "</table>\n",
       "<p>44487 rows × 7 columns</p>\n",
       "</div>"
      ],
      "text/plain": [
       "      serial_no race  education   income gender  age relationship\n",
       "0       0000117   47         12  47300.0      1   31           01\n",
       "1       0000117   47         12  24300.0      2   25           02\n",
       "2       0000117   47          0      NaN      1    0           03\n",
       "3       0000127   47          5      0.0      1   22           01\n",
       "4       0000127   47         10  22000.0      2   35           02\n",
       "...         ...  ...        ...      ...    ...  ...          ...\n",
       "44482   0999820   37          1      NaN      1    5           08\n",
       "44483   0999820   37          7      0.0      1   42           13\n",
       "44484   0999826   37          8      0.0      2   29           01\n",
       "44485   0999826   37          5      NaN      1   14           03\n",
       "44486   0999826   37          1      NaN      1    8           03\n",
       "\n",
       "[44487 rows x 7 columns]"
      ]
     },
     "execution_count": 15,
     "metadata": {
      "tags": []
     },
     "output_type": "execute_result"
    }
   ],
   "source": [
    "p_df"
   ]
  },
  {
   "cell_type": "markdown",
   "metadata": {
    "id": "V2pXqafMGRjr"
   },
   "source": [
    "Let's look at a sample record.  Note the use of `iloc`.  Along with `loc`, this is one of\n",
    "Panda's two most important indexing methods.  It allows both numerical and name based indexing.\n",
    "Here we just use a number to look at the 279th row:"
   ]
  },
  {
   "cell_type": "code",
   "execution_count": 16,
   "metadata": {
    "colab": {
     "base_uri": "https://localhost:8080/"
    },
    "id": "Is2MyjSsGRjr",
    "outputId": "fbf37e7d-a52a-4308-836c-4bb830691529"
   },
   "outputs": [
    {
     "data": {
      "text/plain": [
       "serial_no       0006874\n",
       "race                 47\n",
       "education            11\n",
       "income            18600\n",
       "gender                2\n",
       "age                  31\n",
       "relationship         01\n",
       "Name: 278, dtype: object"
      ]
     },
     "execution_count": 16,
     "metadata": {
      "tags": []
     },
     "output_type": "execute_result"
    }
   ],
   "source": [
    "p_df.iloc[278]"
   ]
  },
  {
   "cell_type": "markdown",
   "metadata": {
    "id": "YNTswdOoGRjr"
   },
   "source": [
    "So this is a 31 year old white male head of household (race code 47 =   white alone, gender 1 = male,\n",
    "relationship 1 = head of household, with an income of $18,600, who completed\n",
    "one or more years of college but did not receive a degree."
   ]
  },
  {
   "cell_type": "markdown",
   "metadata": {
    "id": "wV_zLuEcGRjr"
   },
   "source": [
    "## Appendix: Data types"
   ]
  },
  {
   "cell_type": "code",
   "execution_count": 22,
   "metadata": {
    "colab": {
     "base_uri": "https://localhost:8080/"
    },
    "id": "Sl3o5EU6GRjr",
    "outputId": "5bd47ab3-395b-4969-cd1a-ace5382c898e"
   },
   "outputs": [
    {
     "data": {
      "text/plain": [
       "serial_no        object\n",
       "race             object\n",
       "education         int64\n",
       "income          float64\n",
       "gender           object\n",
       "age               int64\n",
       "relationship     object\n",
       "dtype: object"
      ]
     },
     "execution_count": 22,
     "metadata": {
      "tags": []
     },
     "output_type": "execute_result"
    }
   ],
   "source": [
    "p_df.dtypes"
   ]
  },
  {
   "cell_type": "markdown",
   "metadata": {
    "id": "TrqpCLGvGRjs"
   },
   "source": [
    "Notice income,education, and age are integers and floats respectively,  That's good because we're going to want to do aggregation operations like mean and sum on income.  We're going to use the numerical values in education to bin education levels.\n",
    "Below we single out the class of folks with high school diplomas or above (`EDUCATION` >= 9).\n",
    "\n",
    "Let's look at how to change data types, which we'll need to do below.  First we cook up a\n",
    "simple example."
   ]
  },
  {
   "cell_type": "code",
   "execution_count": 23,
   "metadata": {
    "colab": {
     "base_uri": "https://localhost:8080/"
    },
    "id": "zBhepHEUGRjs",
    "outputId": "4c3f7af0-e819-4ea7-efa4-77e08afed90e"
   },
   "outputs": [
    {
     "data": {
      "text/plain": [
       "h    object\n",
       "t    object\n",
       "dtype: object"
      ]
     },
     "execution_count": 23,
     "metadata": {
      "tags": []
     },
     "output_type": "execute_result"
    }
   ],
   "source": [
    "df2 = pd.DataFrame([['1','2'],['34','56']],columns= ['h','t'])\n",
    "              \n",
    "\n",
    "df2.dtypes"
   ]
  },
  {
   "cell_type": "code",
   "execution_count": 24,
   "metadata": {
    "colab": {
     "base_uri": "https://localhost:8080/"
    },
    "id": "PGResqtZGRjs",
    "outputId": "ac2d5571-00c6-423b-cd6f-97aacf010f96"
   },
   "outputs": [
    {
     "data": {
      "text/plain": [
       "0     1\n",
       "1    34\n",
       "Name: h, dtype: int64"
      ]
     },
     "execution_count": 24,
     "metadata": {
      "tags": []
     },
     "output_type": "execute_result"
    }
   ],
   "source": [
    "df2['h'].astype(int)"
   ]
  },
  {
   "cell_type": "code",
   "execution_count": null,
   "metadata": {
    "id": "Ba6GWEJKGRjs"
   },
   "outputs": [],
   "source": [
    "df2['h'] = df2['h'].astype(int)"
   ]
  },
  {
   "cell_type": "code",
   "execution_count": null,
   "metadata": {
    "id": "MSIStVvQGRjs",
    "outputId": "6c95e0e1-bea7-460a-9de7-adb68d2a6d06"
   },
   "outputs": [
    {
     "data": {
      "text/plain": [
       "h     int64\n",
       "t    object\n",
       "dtype: object"
      ]
     },
     "execution_count": 54,
     "metadata": {
      "tags": []
     },
     "output_type": "execute_result"
    }
   ],
   "source": [
    "df2.dtypes"
   ]
  },
  {
   "cell_type": "markdown",
   "metadata": {
    "id": "I2On7jdSGRjs"
   },
   "source": [
    "## Aggregation"
   ]
  },
  {
   "cell_type": "code",
   "execution_count": null,
   "metadata": {
    "id": "vG3NdoHSGRjs",
    "outputId": "204cd215-44b4-4a08-df86-244640d2e9a7"
   },
   "outputs": [
    {
     "data": {
      "text/html": [
       "<div>\n",
       "<style scoped>\n",
       "    .dataframe tbody tr th:only-of-type {\n",
       "        vertical-align: middle;\n",
       "    }\n",
       "\n",
       "    .dataframe tbody tr th {\n",
       "        vertical-align: top;\n",
       "    }\n",
       "\n",
       "    .dataframe thead th {\n",
       "        text-align: right;\n",
       "    }\n",
       "</style>\n",
       "<table border=\"1\" class=\"dataframe\">\n",
       "  <thead>\n",
       "    <tr style=\"text-align: right;\">\n",
       "      <th></th>\n",
       "      <th>serial_no</th>\n",
       "      <th>race</th>\n",
       "      <th>education</th>\n",
       "      <th>income</th>\n",
       "      <th>gender</th>\n",
       "      <th>age</th>\n",
       "      <th>relationship</th>\n",
       "    </tr>\n",
       "  </thead>\n",
       "  <tbody>\n",
       "    <tr>\n",
       "      <th>0</th>\n",
       "      <td>0000117</td>\n",
       "      <td>47</td>\n",
       "      <td>12</td>\n",
       "      <td>47300.0</td>\n",
       "      <td>1</td>\n",
       "      <td>31</td>\n",
       "      <td>01</td>\n",
       "    </tr>\n",
       "    <tr>\n",
       "      <th>1</th>\n",
       "      <td>0000117</td>\n",
       "      <td>47</td>\n",
       "      <td>12</td>\n",
       "      <td>24300.0</td>\n",
       "      <td>2</td>\n",
       "      <td>25</td>\n",
       "      <td>02</td>\n",
       "    </tr>\n",
       "    <tr>\n",
       "      <th>2</th>\n",
       "      <td>0000117</td>\n",
       "      <td>47</td>\n",
       "      <td>0</td>\n",
       "      <td>NaN</td>\n",
       "      <td>1</td>\n",
       "      <td>0</td>\n",
       "      <td>03</td>\n",
       "    </tr>\n",
       "    <tr>\n",
       "      <th>3</th>\n",
       "      <td>0000127</td>\n",
       "      <td>47</td>\n",
       "      <td>5</td>\n",
       "      <td>0.0</td>\n",
       "      <td>1</td>\n",
       "      <td>22</td>\n",
       "      <td>01</td>\n",
       "    </tr>\n",
       "    <tr>\n",
       "      <th>4</th>\n",
       "      <td>0000127</td>\n",
       "      <td>47</td>\n",
       "      <td>10</td>\n",
       "      <td>22000.0</td>\n",
       "      <td>2</td>\n",
       "      <td>35</td>\n",
       "      <td>02</td>\n",
       "    </tr>\n",
       "    <tr>\n",
       "      <th>...</th>\n",
       "      <td>...</td>\n",
       "      <td>...</td>\n",
       "      <td>...</td>\n",
       "      <td>...</td>\n",
       "      <td>...</td>\n",
       "      <td>...</td>\n",
       "      <td>...</td>\n",
       "    </tr>\n",
       "    <tr>\n",
       "      <th>44482</th>\n",
       "      <td>0999820</td>\n",
       "      <td>37</td>\n",
       "      <td>1</td>\n",
       "      <td>NaN</td>\n",
       "      <td>1</td>\n",
       "      <td>5</td>\n",
       "      <td>08</td>\n",
       "    </tr>\n",
       "    <tr>\n",
       "      <th>44483</th>\n",
       "      <td>0999820</td>\n",
       "      <td>37</td>\n",
       "      <td>7</td>\n",
       "      <td>0.0</td>\n",
       "      <td>1</td>\n",
       "      <td>42</td>\n",
       "      <td>13</td>\n",
       "    </tr>\n",
       "    <tr>\n",
       "      <th>44484</th>\n",
       "      <td>0999826</td>\n",
       "      <td>37</td>\n",
       "      <td>8</td>\n",
       "      <td>0.0</td>\n",
       "      <td>2</td>\n",
       "      <td>29</td>\n",
       "      <td>01</td>\n",
       "    </tr>\n",
       "    <tr>\n",
       "      <th>44485</th>\n",
       "      <td>0999826</td>\n",
       "      <td>37</td>\n",
       "      <td>5</td>\n",
       "      <td>NaN</td>\n",
       "      <td>1</td>\n",
       "      <td>14</td>\n",
       "      <td>03</td>\n",
       "    </tr>\n",
       "    <tr>\n",
       "      <th>44486</th>\n",
       "      <td>0999826</td>\n",
       "      <td>37</td>\n",
       "      <td>1</td>\n",
       "      <td>NaN</td>\n",
       "      <td>1</td>\n",
       "      <td>8</td>\n",
       "      <td>03</td>\n",
       "    </tr>\n",
       "  </tbody>\n",
       "</table>\n",
       "<p>44487 rows × 7 columns</p>\n",
       "</div>"
      ],
      "text/plain": [
       "      serial_no race  education   income gender  age relationship\n",
       "0       0000117   47         12  47300.0      1   31           01\n",
       "1       0000117   47         12  24300.0      2   25           02\n",
       "2       0000117   47          0      NaN      1    0           03\n",
       "3       0000127   47          5      0.0      1   22           01\n",
       "4       0000127   47         10  22000.0      2   35           02\n",
       "...         ...  ...        ...      ...    ...  ...          ...\n",
       "44482   0999820   37          1      NaN      1    5           08\n",
       "44483   0999820   37          7      0.0      1   42           13\n",
       "44484   0999826   37          8      0.0      2   29           01\n",
       "44485   0999826   37          5      NaN      1   14           03\n",
       "44486   0999826   37          1      NaN      1    8           03\n",
       "\n",
       "[44487 rows x 7 columns]"
      ]
     },
     "execution_count": 28,
     "metadata": {
      "tags": []
     },
     "output_type": "execute_result"
    }
   ],
   "source": [
    "p_df"
   ]
  },
  {
   "cell_type": "code",
   "execution_count": null,
   "metadata": {
    "id": "Yd0OhU5GGRjs",
    "outputId": "3557bd03-0320-4fd5-e92a-ba2f5acedb80"
   },
   "outputs": [
    {
     "data": {
      "text/plain": [
       "Index(['serial_no', 'race', 'education', 'income', 'gender', 'age',\n",
       "       'relationship'],\n",
       "      dtype='object')"
      ]
     },
     "execution_count": 31,
     "metadata": {
      "tags": []
     },
     "output_type": "execute_result"
    }
   ],
   "source": [
    "p_df.columns"
   ]
  },
  {
   "cell_type": "code",
   "execution_count": null,
   "metadata": {
    "id": "zePqwgi1GRjs",
    "outputId": "f50001cf-e83d-4cc9-aba9-8a478d7bb38c"
   },
   "outputs": [
    {
     "data": {
      "text/html": [
       "<div>\n",
       "<style scoped>\n",
       "    .dataframe tbody tr th:only-of-type {\n",
       "        vertical-align: middle;\n",
       "    }\n",
       "\n",
       "    .dataframe tbody tr th {\n",
       "        vertical-align: top;\n",
       "    }\n",
       "\n",
       "    .dataframe thead th {\n",
       "        text-align: right;\n",
       "    }\n",
       "</style>\n",
       "<table border=\"1\" class=\"dataframe\">\n",
       "  <thead>\n",
       "    <tr style=\"text-align: right;\">\n",
       "      <th></th>\n",
       "      <th>serial_no</th>\n",
       "      <th>race</th>\n",
       "      <th>education</th>\n",
       "      <th>income</th>\n",
       "      <th>gender</th>\n",
       "      <th>age</th>\n",
       "      <th>relationship</th>\n",
       "    </tr>\n",
       "  </thead>\n",
       "  <tbody>\n",
       "    <tr>\n",
       "      <th>0</th>\n",
       "      <td>0000117</td>\n",
       "      <td>47</td>\n",
       "      <td>12</td>\n",
       "      <td>47300.0</td>\n",
       "      <td>1</td>\n",
       "      <td>31</td>\n",
       "      <td>01</td>\n",
       "    </tr>\n",
       "    <tr>\n",
       "      <th>1</th>\n",
       "      <td>0000117</td>\n",
       "      <td>47</td>\n",
       "      <td>12</td>\n",
       "      <td>24300.0</td>\n",
       "      <td>2</td>\n",
       "      <td>25</td>\n",
       "      <td>02</td>\n",
       "    </tr>\n",
       "    <tr>\n",
       "      <th>2</th>\n",
       "      <td>0000117</td>\n",
       "      <td>47</td>\n",
       "      <td>0</td>\n",
       "      <td>NaN</td>\n",
       "      <td>1</td>\n",
       "      <td>0</td>\n",
       "      <td>03</td>\n",
       "    </tr>\n",
       "    <tr>\n",
       "      <th>3</th>\n",
       "      <td>0000127</td>\n",
       "      <td>47</td>\n",
       "      <td>5</td>\n",
       "      <td>0.0</td>\n",
       "      <td>1</td>\n",
       "      <td>22</td>\n",
       "      <td>01</td>\n",
       "    </tr>\n",
       "    <tr>\n",
       "      <th>4</th>\n",
       "      <td>0000127</td>\n",
       "      <td>47</td>\n",
       "      <td>10</td>\n",
       "      <td>22000.0</td>\n",
       "      <td>2</td>\n",
       "      <td>35</td>\n",
       "      <td>02</td>\n",
       "    </tr>\n",
       "    <tr>\n",
       "      <th>...</th>\n",
       "      <td>...</td>\n",
       "      <td>...</td>\n",
       "      <td>...</td>\n",
       "      <td>...</td>\n",
       "      <td>...</td>\n",
       "      <td>...</td>\n",
       "      <td>...</td>\n",
       "    </tr>\n",
       "    <tr>\n",
       "      <th>44473</th>\n",
       "      <td>0999627</td>\n",
       "      <td>47</td>\n",
       "      <td>5</td>\n",
       "      <td>500.0</td>\n",
       "      <td>1</td>\n",
       "      <td>25</td>\n",
       "      <td>05</td>\n",
       "    </tr>\n",
       "    <tr>\n",
       "      <th>44474</th>\n",
       "      <td>0999627</td>\n",
       "      <td>47</td>\n",
       "      <td>0</td>\n",
       "      <td>NaN</td>\n",
       "      <td>1</td>\n",
       "      <td>0</td>\n",
       "      <td>08</td>\n",
       "    </tr>\n",
       "    <tr>\n",
       "      <th>44475</th>\n",
       "      <td>0999627</td>\n",
       "      <td>47</td>\n",
       "      <td>10</td>\n",
       "      <td>0.0</td>\n",
       "      <td>2</td>\n",
       "      <td>21</td>\n",
       "      <td>10</td>\n",
       "    </tr>\n",
       "    <tr>\n",
       "      <th>44479</th>\n",
       "      <td>0999753</td>\n",
       "      <td>47</td>\n",
       "      <td>10</td>\n",
       "      <td>0.0</td>\n",
       "      <td>2</td>\n",
       "      <td>58</td>\n",
       "      <td>01</td>\n",
       "    </tr>\n",
       "    <tr>\n",
       "      <th>44480</th>\n",
       "      <td>0999765</td>\n",
       "      <td>47</td>\n",
       "      <td>9</td>\n",
       "      <td>30000.0</td>\n",
       "      <td>2</td>\n",
       "      <td>46</td>\n",
       "      <td>01</td>\n",
       "    </tr>\n",
       "  </tbody>\n",
       "</table>\n",
       "<p>31798 rows × 7 columns</p>\n",
       "</div>"
      ],
      "text/plain": [
       "      serial_no race  education   income gender  age relationship\n",
       "0       0000117   47         12  47300.0      1   31           01\n",
       "1       0000117   47         12  24300.0      2   25           02\n",
       "2       0000117   47          0      NaN      1    0           03\n",
       "3       0000127   47          5      0.0      1   22           01\n",
       "4       0000127   47         10  22000.0      2   35           02\n",
       "...         ...  ...        ...      ...    ...  ...          ...\n",
       "44473   0999627   47          5    500.0      1   25           05\n",
       "44474   0999627   47          0      NaN      1    0           08\n",
       "44475   0999627   47         10      0.0      2   21           10\n",
       "44479   0999753   47         10      0.0      2   58           01\n",
       "44480   0999765   47          9  30000.0      2   46           01\n",
       "\n",
       "[31798 rows x 7 columns]"
      ]
     },
     "execution_count": 29,
     "metadata": {
      "tags": []
     },
     "output_type": "execute_result"
    }
   ],
   "source": [
    "p_df[p_df['race'] == '47']"
   ]
  },
  {
   "cell_type": "markdown",
   "metadata": {
    "id": "Eb8OJLpoGRjs"
   },
   "source": [
    "We map the values in the `race` column to Booleans using a Boolean test.  We will use resulting Pandas `Series` to create a white/non-white column."
   ]
  },
  {
   "cell_type": "code",
   "execution_count": null,
   "metadata": {
    "id": "-0pUWnSOGRjs",
    "outputId": "79e3d6e3-134f-4d18-b2a1-24edc6e765d8"
   },
   "outputs": [
    {
     "data": {
      "text/plain": [
       "0         True\n",
       "1         True\n",
       "2         True\n",
       "3         True\n",
       "4         True\n",
       "5         True\n",
       "6         True\n",
       "7         True\n",
       "8         True\n",
       "9         True\n",
       "10        True\n",
       "11       False\n",
       "12        True\n",
       "13        True\n",
       "14        True\n",
       "15        True\n",
       "16        True\n",
       "17        True\n",
       "18       False\n",
       "19       False\n",
       "20       False\n",
       "21        True\n",
       "22        True\n",
       "23        True\n",
       "24        True\n",
       "25        True\n",
       "26       False\n",
       "27       False\n",
       "28       False\n",
       "29       False\n",
       "         ...  \n",
       "44457    False\n",
       "44458     True\n",
       "44459    False\n",
       "44460    False\n",
       "44461    False\n",
       "44462    False\n",
       "44463     True\n",
       "44464     True\n",
       "44465     True\n",
       "44466     True\n",
       "44467     True\n",
       "44468     True\n",
       "44469     True\n",
       "44470     True\n",
       "44471     True\n",
       "44472     True\n",
       "44473     True\n",
       "44474     True\n",
       "44475     True\n",
       "44476    False\n",
       "44477    False\n",
       "44478    False\n",
       "44479     True\n",
       "44480     True\n",
       "44481    False\n",
       "44482    False\n",
       "44483    False\n",
       "44484    False\n",
       "44485    False\n",
       "44486    False\n",
       "Name: race, Length: 44487, dtype: bool"
      ]
     },
     "execution_count": 33,
     "metadata": {
      "tags": []
     },
     "output_type": "execute_result"
    }
   ],
   "source": [
    "p_df['race'].map(lambda x: x == '47')"
   ]
  },
  {
   "cell_type": "code",
   "execution_count": 26,
   "metadata": {
    "id": "gtCUu9isGRjs"
   },
   "outputs": [],
   "source": [
    "p_df['white_only'] = p_df['race'].map(lambda x: x == '47')"
   ]
  },
  {
   "cell_type": "code",
   "execution_count": null,
   "metadata": {
    "id": "kRnkCx9uGRjs",
    "outputId": "ffba2697-243e-45cb-fe6f-a2a14fe4dead",
    "scrolled": true
   },
   "outputs": [
    {
     "data": {
      "text/html": [
       "<div>\n",
       "<table border=\"1\" class=\"dataframe\">\n",
       "  <thead>\n",
       "    <tr style=\"text-align: right;\">\n",
       "      <th></th>\n",
       "      <th>serial_no</th>\n",
       "      <th>race</th>\n",
       "      <th>education</th>\n",
       "      <th>income</th>\n",
       "      <th>gender</th>\n",
       "      <th>age</th>\n",
       "      <th>relationship</th>\n",
       "      <th>white_only</th>\n",
       "    </tr>\n",
       "  </thead>\n",
       "  <tbody>\n",
       "    <tr>\n",
       "      <th>0</th>\n",
       "      <td>0000117</td>\n",
       "      <td>47</td>\n",
       "      <td>12</td>\n",
       "      <td>47300</td>\n",
       "      <td>1</td>\n",
       "      <td>31</td>\n",
       "      <td>01</td>\n",
       "      <td>True</td>\n",
       "    </tr>\n",
       "    <tr>\n",
       "      <th>1</th>\n",
       "      <td>0000117</td>\n",
       "      <td>47</td>\n",
       "      <td>12</td>\n",
       "      <td>24300</td>\n",
       "      <td>2</td>\n",
       "      <td>25</td>\n",
       "      <td>02</td>\n",
       "      <td>True</td>\n",
       "    </tr>\n",
       "    <tr>\n",
       "      <th>2</th>\n",
       "      <td>0000117</td>\n",
       "      <td>47</td>\n",
       "      <td>0</td>\n",
       "      <td>NaN</td>\n",
       "      <td>1</td>\n",
       "      <td>0</td>\n",
       "      <td>03</td>\n",
       "      <td>True</td>\n",
       "    </tr>\n",
       "    <tr>\n",
       "      <th>3</th>\n",
       "      <td>0000127</td>\n",
       "      <td>47</td>\n",
       "      <td>5</td>\n",
       "      <td>0</td>\n",
       "      <td>1</td>\n",
       "      <td>22</td>\n",
       "      <td>01</td>\n",
       "      <td>True</td>\n",
       "    </tr>\n",
       "    <tr>\n",
       "      <th>4</th>\n",
       "      <td>0000127</td>\n",
       "      <td>47</td>\n",
       "      <td>10</td>\n",
       "      <td>22000</td>\n",
       "      <td>2</td>\n",
       "      <td>35</td>\n",
       "      <td>02</td>\n",
       "      <td>True</td>\n",
       "    </tr>\n",
       "    <tr>\n",
       "      <th>5</th>\n",
       "      <td>0000127</td>\n",
       "      <td>47</td>\n",
       "      <td>5</td>\n",
       "      <td>0</td>\n",
       "      <td>1</td>\n",
       "      <td>19</td>\n",
       "      <td>05</td>\n",
       "      <td>True</td>\n",
       "    </tr>\n",
       "    <tr>\n",
       "      <th>6</th>\n",
       "      <td>0000127</td>\n",
       "      <td>47</td>\n",
       "      <td>7</td>\n",
       "      <td>5000</td>\n",
       "      <td>1</td>\n",
       "      <td>18</td>\n",
       "      <td>17</td>\n",
       "      <td>True</td>\n",
       "    </tr>\n",
       "    <tr>\n",
       "      <th>7</th>\n",
       "      <td>0000134</td>\n",
       "      <td>47</td>\n",
       "      <td>13</td>\n",
       "      <td>13000</td>\n",
       "      <td>2</td>\n",
       "      <td>23</td>\n",
       "      <td>01</td>\n",
       "      <td>True</td>\n",
       "    </tr>\n",
       "    <tr>\n",
       "      <th>8</th>\n",
       "      <td>0000195</td>\n",
       "      <td>47</td>\n",
       "      <td>10</td>\n",
       "      <td>0</td>\n",
       "      <td>1</td>\n",
       "      <td>56</td>\n",
       "      <td>01</td>\n",
       "      <td>True</td>\n",
       "    </tr>\n",
       "    <tr>\n",
       "      <th>9</th>\n",
       "      <td>0000195</td>\n",
       "      <td>47</td>\n",
       "      <td>9</td>\n",
       "      <td>0</td>\n",
       "      <td>2</td>\n",
       "      <td>56</td>\n",
       "      <td>02</td>\n",
       "      <td>True</td>\n",
       "    </tr>\n",
       "    <tr>\n",
       "      <th>10</th>\n",
       "      <td>0000218</td>\n",
       "      <td>47</td>\n",
       "      <td>9</td>\n",
       "      <td>21800</td>\n",
       "      <td>1</td>\n",
       "      <td>20</td>\n",
       "      <td>01</td>\n",
       "      <td>True</td>\n",
       "    </tr>\n",
       "    <tr>\n",
       "      <th>11</th>\n",
       "      <td>0000246</td>\n",
       "      <td>37</td>\n",
       "      <td>14</td>\n",
       "      <td>32000</td>\n",
       "      <td>2</td>\n",
       "      <td>26</td>\n",
       "      <td>01</td>\n",
       "      <td>False</td>\n",
       "    </tr>\n",
       "    <tr>\n",
       "      <th>12</th>\n",
       "      <td>0000410</td>\n",
       "      <td>47</td>\n",
       "      <td>13</td>\n",
       "      <td>56000</td>\n",
       "      <td>1</td>\n",
       "      <td>34</td>\n",
       "      <td>01</td>\n",
       "      <td>True</td>\n",
       "    </tr>\n",
       "    <tr>\n",
       "      <th>13</th>\n",
       "      <td>0000436</td>\n",
       "      <td>47</td>\n",
       "      <td>13</td>\n",
       "      <td>42000</td>\n",
       "      <td>1</td>\n",
       "      <td>46</td>\n",
       "      <td>01</td>\n",
       "      <td>True</td>\n",
       "    </tr>\n",
       "    <tr>\n",
       "      <th>14</th>\n",
       "      <td>0000436</td>\n",
       "      <td>47</td>\n",
       "      <td>14</td>\n",
       "      <td>70000</td>\n",
       "      <td>2</td>\n",
       "      <td>45</td>\n",
       "      <td>02</td>\n",
       "      <td>True</td>\n",
       "    </tr>\n",
       "    <tr>\n",
       "      <th>15</th>\n",
       "      <td>0000436</td>\n",
       "      <td>47</td>\n",
       "      <td>2</td>\n",
       "      <td>NaN</td>\n",
       "      <td>1</td>\n",
       "      <td>10</td>\n",
       "      <td>03</td>\n",
       "      <td>True</td>\n",
       "    </tr>\n",
       "    <tr>\n",
       "      <th>16</th>\n",
       "      <td>0000483</td>\n",
       "      <td>47</td>\n",
       "      <td>9</td>\n",
       "      <td>0</td>\n",
       "      <td>1</td>\n",
       "      <td>72</td>\n",
       "      <td>01</td>\n",
       "      <td>True</td>\n",
       "    </tr>\n",
       "    <tr>\n",
       "      <th>17</th>\n",
       "      <td>0000483</td>\n",
       "      <td>47</td>\n",
       "      <td>9</td>\n",
       "      <td>0</td>\n",
       "      <td>2</td>\n",
       "      <td>73</td>\n",
       "      <td>02</td>\n",
       "      <td>True</td>\n",
       "    </tr>\n",
       "    <tr>\n",
       "      <th>18</th>\n",
       "      <td>0000574</td>\n",
       "      <td>37</td>\n",
       "      <td>13</td>\n",
       "      <td>24000</td>\n",
       "      <td>1</td>\n",
       "      <td>48</td>\n",
       "      <td>01</td>\n",
       "      <td>False</td>\n",
       "    </tr>\n",
       "    <tr>\n",
       "      <th>19</th>\n",
       "      <td>0000574</td>\n",
       "      <td>37</td>\n",
       "      <td>6</td>\n",
       "      <td>0</td>\n",
       "      <td>2</td>\n",
       "      <td>16</td>\n",
       "      <td>03</td>\n",
       "      <td>False</td>\n",
       "    </tr>\n",
       "    <tr>\n",
       "      <th>20</th>\n",
       "      <td>0000574</td>\n",
       "      <td>37</td>\n",
       "      <td>6</td>\n",
       "      <td>0</td>\n",
       "      <td>2</td>\n",
       "      <td>69</td>\n",
       "      <td>07</td>\n",
       "      <td>False</td>\n",
       "    </tr>\n",
       "    <tr>\n",
       "      <th>21</th>\n",
       "      <td>0000584</td>\n",
       "      <td>47</td>\n",
       "      <td>9</td>\n",
       "      <td>17000</td>\n",
       "      <td>2</td>\n",
       "      <td>40</td>\n",
       "      <td>01</td>\n",
       "      <td>True</td>\n",
       "    </tr>\n",
       "    <tr>\n",
       "      <th>22</th>\n",
       "      <td>0000584</td>\n",
       "      <td>47</td>\n",
       "      <td>8</td>\n",
       "      <td>7000</td>\n",
       "      <td>1</td>\n",
       "      <td>22</td>\n",
       "      <td>03</td>\n",
       "      <td>True</td>\n",
       "    </tr>\n",
       "    <tr>\n",
       "      <th>23</th>\n",
       "      <td>0000584</td>\n",
       "      <td>47</td>\n",
       "      <td>6</td>\n",
       "      <td>0</td>\n",
       "      <td>2</td>\n",
       "      <td>17</td>\n",
       "      <td>03</td>\n",
       "      <td>True</td>\n",
       "    </tr>\n",
       "    <tr>\n",
       "      <th>24</th>\n",
       "      <td>0000584</td>\n",
       "      <td>47</td>\n",
       "      <td>4</td>\n",
       "      <td>0</td>\n",
       "      <td>1</td>\n",
       "      <td>15</td>\n",
       "      <td>03</td>\n",
       "      <td>True</td>\n",
       "    </tr>\n",
       "    <tr>\n",
       "      <th>25</th>\n",
       "      <td>0000584</td>\n",
       "      <td>47</td>\n",
       "      <td>4</td>\n",
       "      <td>NaN</td>\n",
       "      <td>2</td>\n",
       "      <td>14</td>\n",
       "      <td>03</td>\n",
       "      <td>True</td>\n",
       "    </tr>\n",
       "    <tr>\n",
       "      <th>26</th>\n",
       "      <td>0000591</td>\n",
       "      <td>37</td>\n",
       "      <td>9</td>\n",
       "      <td>0</td>\n",
       "      <td>1</td>\n",
       "      <td>60</td>\n",
       "      <td>01</td>\n",
       "      <td>False</td>\n",
       "    </tr>\n",
       "    <tr>\n",
       "      <th>27</th>\n",
       "      <td>0000591</td>\n",
       "      <td>37</td>\n",
       "      <td>9</td>\n",
       "      <td>0</td>\n",
       "      <td>2</td>\n",
       "      <td>58</td>\n",
       "      <td>02</td>\n",
       "      <td>False</td>\n",
       "    </tr>\n",
       "    <tr>\n",
       "      <th>28</th>\n",
       "      <td>0000591</td>\n",
       "      <td>37</td>\n",
       "      <td>9</td>\n",
       "      <td>750</td>\n",
       "      <td>1</td>\n",
       "      <td>22</td>\n",
       "      <td>08</td>\n",
       "      <td>False</td>\n",
       "    </tr>\n",
       "    <tr>\n",
       "      <th>29</th>\n",
       "      <td>0000591</td>\n",
       "      <td>37</td>\n",
       "      <td>2</td>\n",
       "      <td>NaN</td>\n",
       "      <td>2</td>\n",
       "      <td>10</td>\n",
       "      <td>08</td>\n",
       "      <td>False</td>\n",
       "    </tr>\n",
       "    <tr>\n",
       "      <th>...</th>\n",
       "      <td>...</td>\n",
       "      <td>...</td>\n",
       "      <td>...</td>\n",
       "      <td>...</td>\n",
       "      <td>...</td>\n",
       "      <td>...</td>\n",
       "      <td>...</td>\n",
       "      <td>...</td>\n",
       "    </tr>\n",
       "    <tr>\n",
       "      <th>44457</th>\n",
       "      <td>0999245</td>\n",
       "      <td>32</td>\n",
       "      <td>13</td>\n",
       "      <td>14000</td>\n",
       "      <td>1</td>\n",
       "      <td>43</td>\n",
       "      <td>01</td>\n",
       "      <td>False</td>\n",
       "    </tr>\n",
       "    <tr>\n",
       "      <th>44458</th>\n",
       "      <td>0999379</td>\n",
       "      <td>47</td>\n",
       "      <td>11</td>\n",
       "      <td>45000</td>\n",
       "      <td>1</td>\n",
       "      <td>44</td>\n",
       "      <td>01</td>\n",
       "      <td>True</td>\n",
       "    </tr>\n",
       "    <tr>\n",
       "      <th>44459</th>\n",
       "      <td>0999449</td>\n",
       "      <td>37</td>\n",
       "      <td>9</td>\n",
       "      <td>33000</td>\n",
       "      <td>1</td>\n",
       "      <td>40</td>\n",
       "      <td>01</td>\n",
       "      <td>False</td>\n",
       "    </tr>\n",
       "    <tr>\n",
       "      <th>44460</th>\n",
       "      <td>0999449</td>\n",
       "      <td>37</td>\n",
       "      <td>9</td>\n",
       "      <td>0</td>\n",
       "      <td>2</td>\n",
       "      <td>34</td>\n",
       "      <td>02</td>\n",
       "      <td>False</td>\n",
       "    </tr>\n",
       "    <tr>\n",
       "      <th>44461</th>\n",
       "      <td>0999449</td>\n",
       "      <td>37</td>\n",
       "      <td>4</td>\n",
       "      <td>NaN</td>\n",
       "      <td>2</td>\n",
       "      <td>14</td>\n",
       "      <td>03</td>\n",
       "      <td>False</td>\n",
       "    </tr>\n",
       "    <tr>\n",
       "      <th>44462</th>\n",
       "      <td>0999449</td>\n",
       "      <td>37</td>\n",
       "      <td>3</td>\n",
       "      <td>NaN</td>\n",
       "      <td>1</td>\n",
       "      <td>12</td>\n",
       "      <td>03</td>\n",
       "      <td>False</td>\n",
       "    </tr>\n",
       "    <tr>\n",
       "      <th>44463</th>\n",
       "      <td>0999498</td>\n",
       "      <td>47</td>\n",
       "      <td>9</td>\n",
       "      <td>0</td>\n",
       "      <td>1</td>\n",
       "      <td>76</td>\n",
       "      <td>01</td>\n",
       "      <td>True</td>\n",
       "    </tr>\n",
       "    <tr>\n",
       "      <th>44464</th>\n",
       "      <td>0999498</td>\n",
       "      <td>47</td>\n",
       "      <td>6</td>\n",
       "      <td>0</td>\n",
       "      <td>2</td>\n",
       "      <td>51</td>\n",
       "      <td>02</td>\n",
       "      <td>True</td>\n",
       "    </tr>\n",
       "    <tr>\n",
       "      <th>44465</th>\n",
       "      <td>0999498</td>\n",
       "      <td>47</td>\n",
       "      <td>6</td>\n",
       "      <td>0</td>\n",
       "      <td>2</td>\n",
       "      <td>16</td>\n",
       "      <td>03</td>\n",
       "      <td>True</td>\n",
       "    </tr>\n",
       "    <tr>\n",
       "      <th>44466</th>\n",
       "      <td>0999581</td>\n",
       "      <td>47</td>\n",
       "      <td>11</td>\n",
       "      <td>30000</td>\n",
       "      <td>1</td>\n",
       "      <td>28</td>\n",
       "      <td>01</td>\n",
       "      <td>True</td>\n",
       "    </tr>\n",
       "    <tr>\n",
       "      <th>44467</th>\n",
       "      <td>0999581</td>\n",
       "      <td>47</td>\n",
       "      <td>11</td>\n",
       "      <td>15900</td>\n",
       "      <td>2</td>\n",
       "      <td>25</td>\n",
       "      <td>02</td>\n",
       "      <td>True</td>\n",
       "    </tr>\n",
       "    <tr>\n",
       "      <th>44468</th>\n",
       "      <td>0999581</td>\n",
       "      <td>47</td>\n",
       "      <td>0</td>\n",
       "      <td>NaN</td>\n",
       "      <td>1</td>\n",
       "      <td>0</td>\n",
       "      <td>03</td>\n",
       "      <td>True</td>\n",
       "    </tr>\n",
       "    <tr>\n",
       "      <th>44469</th>\n",
       "      <td>0999625</td>\n",
       "      <td>47</td>\n",
       "      <td>8</td>\n",
       "      <td>12000</td>\n",
       "      <td>1</td>\n",
       "      <td>44</td>\n",
       "      <td>01</td>\n",
       "      <td>True</td>\n",
       "    </tr>\n",
       "    <tr>\n",
       "      <th>44470</th>\n",
       "      <td>0999625</td>\n",
       "      <td>47</td>\n",
       "      <td>3</td>\n",
       "      <td>1400</td>\n",
       "      <td>2</td>\n",
       "      <td>34</td>\n",
       "      <td>02</td>\n",
       "      <td>True</td>\n",
       "    </tr>\n",
       "    <tr>\n",
       "      <th>44471</th>\n",
       "      <td>0999627</td>\n",
       "      <td>47</td>\n",
       "      <td>6</td>\n",
       "      <td>0</td>\n",
       "      <td>1</td>\n",
       "      <td>51</td>\n",
       "      <td>01</td>\n",
       "      <td>True</td>\n",
       "    </tr>\n",
       "    <tr>\n",
       "      <th>44472</th>\n",
       "      <td>0999627</td>\n",
       "      <td>47</td>\n",
       "      <td>6</td>\n",
       "      <td>0</td>\n",
       "      <td>2</td>\n",
       "      <td>47</td>\n",
       "      <td>02</td>\n",
       "      <td>True</td>\n",
       "    </tr>\n",
       "    <tr>\n",
       "      <th>44473</th>\n",
       "      <td>0999627</td>\n",
       "      <td>47</td>\n",
       "      <td>5</td>\n",
       "      <td>500</td>\n",
       "      <td>1</td>\n",
       "      <td>25</td>\n",
       "      <td>05</td>\n",
       "      <td>True</td>\n",
       "    </tr>\n",
       "    <tr>\n",
       "      <th>44474</th>\n",
       "      <td>0999627</td>\n",
       "      <td>47</td>\n",
       "      <td>0</td>\n",
       "      <td>NaN</td>\n",
       "      <td>1</td>\n",
       "      <td>0</td>\n",
       "      <td>08</td>\n",
       "      <td>True</td>\n",
       "    </tr>\n",
       "    <tr>\n",
       "      <th>44475</th>\n",
       "      <td>0999627</td>\n",
       "      <td>47</td>\n",
       "      <td>10</td>\n",
       "      <td>0</td>\n",
       "      <td>2</td>\n",
       "      <td>21</td>\n",
       "      <td>10</td>\n",
       "      <td>True</td>\n",
       "    </tr>\n",
       "    <tr>\n",
       "      <th>44476</th>\n",
       "      <td>0999636</td>\n",
       "      <td>37</td>\n",
       "      <td>10</td>\n",
       "      <td>2000</td>\n",
       "      <td>1</td>\n",
       "      <td>26</td>\n",
       "      <td>01</td>\n",
       "      <td>False</td>\n",
       "    </tr>\n",
       "    <tr>\n",
       "      <th>44477</th>\n",
       "      <td>0999657</td>\n",
       "      <td>37</td>\n",
       "      <td>9</td>\n",
       "      <td>12000</td>\n",
       "      <td>2</td>\n",
       "      <td>30</td>\n",
       "      <td>01</td>\n",
       "      <td>False</td>\n",
       "    </tr>\n",
       "    <tr>\n",
       "      <th>44478</th>\n",
       "      <td>0999657</td>\n",
       "      <td>37</td>\n",
       "      <td>3</td>\n",
       "      <td>NaN</td>\n",
       "      <td>2</td>\n",
       "      <td>11</td>\n",
       "      <td>03</td>\n",
       "      <td>False</td>\n",
       "    </tr>\n",
       "    <tr>\n",
       "      <th>44479</th>\n",
       "      <td>0999753</td>\n",
       "      <td>47</td>\n",
       "      <td>10</td>\n",
       "      <td>0</td>\n",
       "      <td>2</td>\n",
       "      <td>58</td>\n",
       "      <td>01</td>\n",
       "      <td>True</td>\n",
       "    </tr>\n",
       "    <tr>\n",
       "      <th>44480</th>\n",
       "      <td>0999765</td>\n",
       "      <td>47</td>\n",
       "      <td>9</td>\n",
       "      <td>30000</td>\n",
       "      <td>2</td>\n",
       "      <td>46</td>\n",
       "      <td>01</td>\n",
       "      <td>True</td>\n",
       "    </tr>\n",
       "    <tr>\n",
       "      <th>44481</th>\n",
       "      <td>0999820</td>\n",
       "      <td>37</td>\n",
       "      <td>7</td>\n",
       "      <td>300</td>\n",
       "      <td>2</td>\n",
       "      <td>44</td>\n",
       "      <td>01</td>\n",
       "      <td>False</td>\n",
       "    </tr>\n",
       "    <tr>\n",
       "      <th>44482</th>\n",
       "      <td>0999820</td>\n",
       "      <td>37</td>\n",
       "      <td>1</td>\n",
       "      <td>NaN</td>\n",
       "      <td>1</td>\n",
       "      <td>5</td>\n",
       "      <td>08</td>\n",
       "      <td>False</td>\n",
       "    </tr>\n",
       "    <tr>\n",
       "      <th>44483</th>\n",
       "      <td>0999820</td>\n",
       "      <td>37</td>\n",
       "      <td>7</td>\n",
       "      <td>0</td>\n",
       "      <td>1</td>\n",
       "      <td>42</td>\n",
       "      <td>13</td>\n",
       "      <td>False</td>\n",
       "    </tr>\n",
       "    <tr>\n",
       "      <th>44484</th>\n",
       "      <td>0999826</td>\n",
       "      <td>37</td>\n",
       "      <td>8</td>\n",
       "      <td>0</td>\n",
       "      <td>2</td>\n",
       "      <td>29</td>\n",
       "      <td>01</td>\n",
       "      <td>False</td>\n",
       "    </tr>\n",
       "    <tr>\n",
       "      <th>44485</th>\n",
       "      <td>0999826</td>\n",
       "      <td>37</td>\n",
       "      <td>5</td>\n",
       "      <td>NaN</td>\n",
       "      <td>1</td>\n",
       "      <td>14</td>\n",
       "      <td>03</td>\n",
       "      <td>False</td>\n",
       "    </tr>\n",
       "    <tr>\n",
       "      <th>44486</th>\n",
       "      <td>0999826</td>\n",
       "      <td>37</td>\n",
       "      <td>1</td>\n",
       "      <td>NaN</td>\n",
       "      <td>1</td>\n",
       "      <td>8</td>\n",
       "      <td>03</td>\n",
       "      <td>False</td>\n",
       "    </tr>\n",
       "  </tbody>\n",
       "</table>\n",
       "<p>44487 rows × 8 columns</p>\n",
       "</div>"
      ],
      "text/plain": [
       "      serial_no race  education  income gender  age relationship white_only\n",
       "0       0000117   47         12   47300      1   31           01       True\n",
       "1       0000117   47         12   24300      2   25           02       True\n",
       "2       0000117   47          0     NaN      1    0           03       True\n",
       "3       0000127   47          5       0      1   22           01       True\n",
       "4       0000127   47         10   22000      2   35           02       True\n",
       "5       0000127   47          5       0      1   19           05       True\n",
       "6       0000127   47          7    5000      1   18           17       True\n",
       "7       0000134   47         13   13000      2   23           01       True\n",
       "8       0000195   47         10       0      1   56           01       True\n",
       "9       0000195   47          9       0      2   56           02       True\n",
       "10      0000218   47          9   21800      1   20           01       True\n",
       "11      0000246   37         14   32000      2   26           01      False\n",
       "12      0000410   47         13   56000      1   34           01       True\n",
       "13      0000436   47         13   42000      1   46           01       True\n",
       "14      0000436   47         14   70000      2   45           02       True\n",
       "15      0000436   47          2     NaN      1   10           03       True\n",
       "16      0000483   47          9       0      1   72           01       True\n",
       "17      0000483   47          9       0      2   73           02       True\n",
       "18      0000574   37         13   24000      1   48           01      False\n",
       "19      0000574   37          6       0      2   16           03      False\n",
       "20      0000574   37          6       0      2   69           07      False\n",
       "21      0000584   47          9   17000      2   40           01       True\n",
       "22      0000584   47          8    7000      1   22           03       True\n",
       "23      0000584   47          6       0      2   17           03       True\n",
       "24      0000584   47          4       0      1   15           03       True\n",
       "25      0000584   47          4     NaN      2   14           03       True\n",
       "26      0000591   37          9       0      1   60           01      False\n",
       "27      0000591   37          9       0      2   58           02      False\n",
       "28      0000591   37          9     750      1   22           08      False\n",
       "29      0000591   37          2     NaN      2   10           08      False\n",
       "...         ...  ...        ...     ...    ...  ...          ...        ...\n",
       "44457   0999245   32         13   14000      1   43           01      False\n",
       "44458   0999379   47         11   45000      1   44           01       True\n",
       "44459   0999449   37          9   33000      1   40           01      False\n",
       "44460   0999449   37          9       0      2   34           02      False\n",
       "44461   0999449   37          4     NaN      2   14           03      False\n",
       "44462   0999449   37          3     NaN      1   12           03      False\n",
       "44463   0999498   47          9       0      1   76           01       True\n",
       "44464   0999498   47          6       0      2   51           02       True\n",
       "44465   0999498   47          6       0      2   16           03       True\n",
       "44466   0999581   47         11   30000      1   28           01       True\n",
       "44467   0999581   47         11   15900      2   25           02       True\n",
       "44468   0999581   47          0     NaN      1    0           03       True\n",
       "44469   0999625   47          8   12000      1   44           01       True\n",
       "44470   0999625   47          3    1400      2   34           02       True\n",
       "44471   0999627   47          6       0      1   51           01       True\n",
       "44472   0999627   47          6       0      2   47           02       True\n",
       "44473   0999627   47          5     500      1   25           05       True\n",
       "44474   0999627   47          0     NaN      1    0           08       True\n",
       "44475   0999627   47         10       0      2   21           10       True\n",
       "44476   0999636   37         10    2000      1   26           01      False\n",
       "44477   0999657   37          9   12000      2   30           01      False\n",
       "44478   0999657   37          3     NaN      2   11           03      False\n",
       "44479   0999753   47         10       0      2   58           01       True\n",
       "44480   0999765   47          9   30000      2   46           01       True\n",
       "44481   0999820   37          7     300      2   44           01      False\n",
       "44482   0999820   37          1     NaN      1    5           08      False\n",
       "44483   0999820   37          7       0      1   42           13      False\n",
       "44484   0999826   37          8       0      2   29           01      False\n",
       "44485   0999826   37          5     NaN      1   14           03      False\n",
       "44486   0999826   37          1     NaN      1    8           03      False\n",
       "\n",
       "[44487 rows x 8 columns]"
      ]
     },
     "execution_count": 9,
     "metadata": {
      "tags": []
     },
     "output_type": "execute_result"
    }
   ],
   "source": [
    "p_df"
   ]
  },
  {
   "cell_type": "markdown",
   "metadata": {
    "id": "DMpnb9H1GRjs"
   },
   "source": [
    "We can now do grouping operations to create a `groupby` series that separates white from non-white households."
   ]
  },
  {
   "cell_type": "code",
   "execution_count": 27,
   "metadata": {
    "id": "D_mePQVPGRjs"
   },
   "outputs": [],
   "source": [
    "grouped0 = p_df['income'].groupby(p_df['white_only'])"
   ]
  },
  {
   "cell_type": "code",
   "execution_count": 28,
   "metadata": {
    "colab": {
     "base_uri": "https://localhost:8080/"
    },
    "id": "dSLE7UM6GRjs",
    "outputId": "b1503dfe-2d02-4758-f16b-85423a088c2d"
   },
   "outputs": [
    {
     "data": {
      "text/plain": [
       "<pandas.core.groupby.generic.SeriesGroupBy object at 0x7f3d4ce140f0>"
      ]
     },
     "execution_count": 28,
     "metadata": {
      "tags": []
     },
     "output_type": "execute_result"
    }
   ],
   "source": [
    "grouped0"
   ]
  },
  {
   "cell_type": "code",
   "execution_count": null,
   "metadata": {
    "id": "0JNQ9hX6GRjs"
   },
   "outputs": [],
   "source": []
  },
  {
   "cell_type": "code",
   "execution_count": 29,
   "metadata": {
    "colab": {
     "base_uri": "https://localhost:8080/"
    },
    "id": "_L1-hT0-GRjs",
    "outputId": "4ac7db03-4188-40d9-da41-ba45154e6d3b"
   },
   "outputs": [
    {
     "data": {
      "text/plain": [
       "white_only\n",
       "False    11294.922766\n",
       "True     17556.744213\n",
       "Name: income, dtype: float64"
      ]
     },
     "execution_count": 29,
     "metadata": {
      "tags": []
     },
     "output_type": "execute_result"
    }
   ],
   "source": [
    "grouped0.mean()"
   ]
  },
  {
   "cell_type": "markdown",
   "metadata": {
    "id": "9aXHDwYRGRjs"
   },
   "source": [
    "This number seems rather low.  One reason is we're including those people outside the universe\n",
    "in the calculation (5 year old children, for example), giving them income 0.\n",
    "We fix this as follows:"
   ]
  },
  {
   "cell_type": "code",
   "execution_count": 30,
   "metadata": {
    "id": "-NbYWRgmGRjs"
   },
   "outputs": [],
   "source": [
    "grouped2 = p_df[p_df['income']>0]['income'].groupby(p_df['white_only'])"
   ]
  },
  {
   "cell_type": "markdown",
   "metadata": {
    "id": "SrhMkul6GRjs"
   },
   "source": [
    "Let's break this apart into pieces."
   ]
  },
  {
   "cell_type": "code",
   "execution_count": null,
   "metadata": {
    "id": "zymBcg82GRjs",
    "outputId": "f8faf8b0-ccf0-40b4-b626-3da0dbd80328"
   },
   "outputs": [
    {
     "data": {
      "text/html": [
       "<div>\n",
       "<style scoped>\n",
       "    .dataframe tbody tr th:only-of-type {\n",
       "        vertical-align: middle;\n",
       "    }\n",
       "\n",
       "    .dataframe tbody tr th {\n",
       "        vertical-align: top;\n",
       "    }\n",
       "\n",
       "    .dataframe thead th {\n",
       "        text-align: right;\n",
       "    }\n",
       "</style>\n",
       "<table border=\"1\" class=\"dataframe\">\n",
       "  <thead>\n",
       "    <tr style=\"text-align: right;\">\n",
       "      <th></th>\n",
       "      <th>serial_no</th>\n",
       "      <th>race</th>\n",
       "      <th>education</th>\n",
       "      <th>income</th>\n",
       "      <th>gender</th>\n",
       "      <th>age</th>\n",
       "      <th>relationship</th>\n",
       "      <th>white_only</th>\n",
       "    </tr>\n",
       "  </thead>\n",
       "  <tbody>\n",
       "    <tr>\n",
       "      <th>0</th>\n",
       "      <td>0000117</td>\n",
       "      <td>47</td>\n",
       "      <td>12</td>\n",
       "      <td>47300.0</td>\n",
       "      <td>1</td>\n",
       "      <td>31</td>\n",
       "      <td>01</td>\n",
       "      <td>True</td>\n",
       "    </tr>\n",
       "    <tr>\n",
       "      <th>1</th>\n",
       "      <td>0000117</td>\n",
       "      <td>47</td>\n",
       "      <td>12</td>\n",
       "      <td>24300.0</td>\n",
       "      <td>2</td>\n",
       "      <td>25</td>\n",
       "      <td>02</td>\n",
       "      <td>True</td>\n",
       "    </tr>\n",
       "    <tr>\n",
       "      <th>4</th>\n",
       "      <td>0000127</td>\n",
       "      <td>47</td>\n",
       "      <td>10</td>\n",
       "      <td>22000.0</td>\n",
       "      <td>2</td>\n",
       "      <td>35</td>\n",
       "      <td>02</td>\n",
       "      <td>True</td>\n",
       "    </tr>\n",
       "    <tr>\n",
       "      <th>6</th>\n",
       "      <td>0000127</td>\n",
       "      <td>47</td>\n",
       "      <td>7</td>\n",
       "      <td>5000.0</td>\n",
       "      <td>1</td>\n",
       "      <td>18</td>\n",
       "      <td>17</td>\n",
       "      <td>True</td>\n",
       "    </tr>\n",
       "    <tr>\n",
       "      <th>7</th>\n",
       "      <td>0000134</td>\n",
       "      <td>47</td>\n",
       "      <td>13</td>\n",
       "      <td>13000.0</td>\n",
       "      <td>2</td>\n",
       "      <td>23</td>\n",
       "      <td>01</td>\n",
       "      <td>True</td>\n",
       "    </tr>\n",
       "    <tr>\n",
       "      <th>10</th>\n",
       "      <td>0000218</td>\n",
       "      <td>47</td>\n",
       "      <td>9</td>\n",
       "      <td>21800.0</td>\n",
       "      <td>1</td>\n",
       "      <td>20</td>\n",
       "      <td>01</td>\n",
       "      <td>True</td>\n",
       "    </tr>\n",
       "    <tr>\n",
       "      <th>11</th>\n",
       "      <td>0000246</td>\n",
       "      <td>37</td>\n",
       "      <td>14</td>\n",
       "      <td>32000.0</td>\n",
       "      <td>2</td>\n",
       "      <td>26</td>\n",
       "      <td>01</td>\n",
       "      <td>False</td>\n",
       "    </tr>\n",
       "    <tr>\n",
       "      <th>12</th>\n",
       "      <td>0000410</td>\n",
       "      <td>47</td>\n",
       "      <td>13</td>\n",
       "      <td>56000.0</td>\n",
       "      <td>1</td>\n",
       "      <td>34</td>\n",
       "      <td>01</td>\n",
       "      <td>True</td>\n",
       "    </tr>\n",
       "    <tr>\n",
       "      <th>13</th>\n",
       "      <td>0000436</td>\n",
       "      <td>47</td>\n",
       "      <td>13</td>\n",
       "      <td>42000.0</td>\n",
       "      <td>1</td>\n",
       "      <td>46</td>\n",
       "      <td>01</td>\n",
       "      <td>True</td>\n",
       "    </tr>\n",
       "    <tr>\n",
       "      <th>14</th>\n",
       "      <td>0000436</td>\n",
       "      <td>47</td>\n",
       "      <td>14</td>\n",
       "      <td>70000.0</td>\n",
       "      <td>2</td>\n",
       "      <td>45</td>\n",
       "      <td>02</td>\n",
       "      <td>True</td>\n",
       "    </tr>\n",
       "    <tr>\n",
       "      <th>18</th>\n",
       "      <td>0000574</td>\n",
       "      <td>37</td>\n",
       "      <td>13</td>\n",
       "      <td>24000.0</td>\n",
       "      <td>1</td>\n",
       "      <td>48</td>\n",
       "      <td>01</td>\n",
       "      <td>False</td>\n",
       "    </tr>\n",
       "    <tr>\n",
       "      <th>21</th>\n",
       "      <td>0000584</td>\n",
       "      <td>47</td>\n",
       "      <td>9</td>\n",
       "      <td>17000.0</td>\n",
       "      <td>2</td>\n",
       "      <td>40</td>\n",
       "      <td>01</td>\n",
       "      <td>True</td>\n",
       "    </tr>\n",
       "    <tr>\n",
       "      <th>22</th>\n",
       "      <td>0000584</td>\n",
       "      <td>47</td>\n",
       "      <td>8</td>\n",
       "      <td>7000.0</td>\n",
       "      <td>1</td>\n",
       "      <td>22</td>\n",
       "      <td>03</td>\n",
       "      <td>True</td>\n",
       "    </tr>\n",
       "    <tr>\n",
       "      <th>28</th>\n",
       "      <td>0000591</td>\n",
       "      <td>37</td>\n",
       "      <td>9</td>\n",
       "      <td>750.0</td>\n",
       "      <td>1</td>\n",
       "      <td>22</td>\n",
       "      <td>08</td>\n",
       "      <td>False</td>\n",
       "    </tr>\n",
       "    <tr>\n",
       "      <th>30</th>\n",
       "      <td>0000609</td>\n",
       "      <td>47</td>\n",
       "      <td>12</td>\n",
       "      <td>148000.0</td>\n",
       "      <td>1</td>\n",
       "      <td>49</td>\n",
       "      <td>01</td>\n",
       "      <td>True</td>\n",
       "    </tr>\n",
       "    <tr>\n",
       "      <th>32</th>\n",
       "      <td>0000609</td>\n",
       "      <td>47</td>\n",
       "      <td>9</td>\n",
       "      <td>1400.0</td>\n",
       "      <td>1</td>\n",
       "      <td>18</td>\n",
       "      <td>03</td>\n",
       "      <td>True</td>\n",
       "    </tr>\n",
       "    <tr>\n",
       "      <th>35</th>\n",
       "      <td>0000786</td>\n",
       "      <td>47</td>\n",
       "      <td>11</td>\n",
       "      <td>42000.0</td>\n",
       "      <td>1</td>\n",
       "      <td>52</td>\n",
       "      <td>01</td>\n",
       "      <td>True</td>\n",
       "    </tr>\n",
       "    <tr>\n",
       "      <th>36</th>\n",
       "      <td>0000786</td>\n",
       "      <td>47</td>\n",
       "      <td>9</td>\n",
       "      <td>26700.0</td>\n",
       "      <td>2</td>\n",
       "      <td>49</td>\n",
       "      <td>02</td>\n",
       "      <td>True</td>\n",
       "    </tr>\n",
       "    <tr>\n",
       "      <th>40</th>\n",
       "      <td>0001033</td>\n",
       "      <td>47</td>\n",
       "      <td>9</td>\n",
       "      <td>31200.0</td>\n",
       "      <td>1</td>\n",
       "      <td>55</td>\n",
       "      <td>01</td>\n",
       "      <td>True</td>\n",
       "    </tr>\n",
       "    <tr>\n",
       "      <th>41</th>\n",
       "      <td>0001033</td>\n",
       "      <td>47</td>\n",
       "      <td>9</td>\n",
       "      <td>12400.0</td>\n",
       "      <td>2</td>\n",
       "      <td>56</td>\n",
       "      <td>02</td>\n",
       "      <td>True</td>\n",
       "    </tr>\n",
       "    <tr>\n",
       "      <th>44</th>\n",
       "      <td>0001102</td>\n",
       "      <td>47</td>\n",
       "      <td>13</td>\n",
       "      <td>24000.0</td>\n",
       "      <td>2</td>\n",
       "      <td>53</td>\n",
       "      <td>02</td>\n",
       "      <td>True</td>\n",
       "    </tr>\n",
       "    <tr>\n",
       "      <th>45</th>\n",
       "      <td>0001102</td>\n",
       "      <td>47</td>\n",
       "      <td>5</td>\n",
       "      <td>17000.0</td>\n",
       "      <td>1</td>\n",
       "      <td>23</td>\n",
       "      <td>03</td>\n",
       "      <td>True</td>\n",
       "    </tr>\n",
       "    <tr>\n",
       "      <th>46</th>\n",
       "      <td>0001193</td>\n",
       "      <td>37</td>\n",
       "      <td>8</td>\n",
       "      <td>1200.0</td>\n",
       "      <td>1</td>\n",
       "      <td>35</td>\n",
       "      <td>01</td>\n",
       "      <td>False</td>\n",
       "    </tr>\n",
       "    <tr>\n",
       "      <th>47</th>\n",
       "      <td>0001208</td>\n",
       "      <td>37</td>\n",
       "      <td>13</td>\n",
       "      <td>30000.0</td>\n",
       "      <td>2</td>\n",
       "      <td>49</td>\n",
       "      <td>01</td>\n",
       "      <td>False</td>\n",
       "    </tr>\n",
       "    <tr>\n",
       "      <th>48</th>\n",
       "      <td>0001208</td>\n",
       "      <td>37</td>\n",
       "      <td>9</td>\n",
       "      <td>6000.0</td>\n",
       "      <td>2</td>\n",
       "      <td>18</td>\n",
       "      <td>03</td>\n",
       "      <td>False</td>\n",
       "    </tr>\n",
       "    <tr>\n",
       "      <th>49</th>\n",
       "      <td>0001281</td>\n",
       "      <td>37</td>\n",
       "      <td>6</td>\n",
       "      <td>24000.0</td>\n",
       "      <td>1</td>\n",
       "      <td>44</td>\n",
       "      <td>01</td>\n",
       "      <td>False</td>\n",
       "    </tr>\n",
       "    <tr>\n",
       "      <th>50</th>\n",
       "      <td>0001281</td>\n",
       "      <td>37</td>\n",
       "      <td>9</td>\n",
       "      <td>23000.0</td>\n",
       "      <td>2</td>\n",
       "      <td>43</td>\n",
       "      <td>02</td>\n",
       "      <td>False</td>\n",
       "    </tr>\n",
       "    <tr>\n",
       "      <th>51</th>\n",
       "      <td>0001281</td>\n",
       "      <td>37</td>\n",
       "      <td>9</td>\n",
       "      <td>1800.0</td>\n",
       "      <td>1</td>\n",
       "      <td>20</td>\n",
       "      <td>03</td>\n",
       "      <td>False</td>\n",
       "    </tr>\n",
       "    <tr>\n",
       "      <th>54</th>\n",
       "      <td>0001350</td>\n",
       "      <td>47</td>\n",
       "      <td>9</td>\n",
       "      <td>14000.0</td>\n",
       "      <td>1</td>\n",
       "      <td>65</td>\n",
       "      <td>01</td>\n",
       "      <td>True</td>\n",
       "    </tr>\n",
       "    <tr>\n",
       "      <th>56</th>\n",
       "      <td>0001427</td>\n",
       "      <td>47</td>\n",
       "      <td>2</td>\n",
       "      <td>9800.0</td>\n",
       "      <td>1</td>\n",
       "      <td>68</td>\n",
       "      <td>01</td>\n",
       "      <td>True</td>\n",
       "    </tr>\n",
       "    <tr>\n",
       "      <th>...</th>\n",
       "      <td>...</td>\n",
       "      <td>...</td>\n",
       "      <td>...</td>\n",
       "      <td>...</td>\n",
       "      <td>...</td>\n",
       "      <td>...</td>\n",
       "      <td>...</td>\n",
       "      <td>...</td>\n",
       "    </tr>\n",
       "    <tr>\n",
       "      <th>44419</th>\n",
       "      <td>0998525</td>\n",
       "      <td>47</td>\n",
       "      <td>11</td>\n",
       "      <td>28500.0</td>\n",
       "      <td>1</td>\n",
       "      <td>28</td>\n",
       "      <td>01</td>\n",
       "      <td>True</td>\n",
       "    </tr>\n",
       "    <tr>\n",
       "      <th>44420</th>\n",
       "      <td>0998525</td>\n",
       "      <td>47</td>\n",
       "      <td>13</td>\n",
       "      <td>65000.0</td>\n",
       "      <td>2</td>\n",
       "      <td>26</td>\n",
       "      <td>02</td>\n",
       "      <td>True</td>\n",
       "    </tr>\n",
       "    <tr>\n",
       "      <th>44421</th>\n",
       "      <td>0998553</td>\n",
       "      <td>47</td>\n",
       "      <td>16</td>\n",
       "      <td>21900.0</td>\n",
       "      <td>2</td>\n",
       "      <td>43</td>\n",
       "      <td>01</td>\n",
       "      <td>True</td>\n",
       "    </tr>\n",
       "    <tr>\n",
       "      <th>44422</th>\n",
       "      <td>0998553</td>\n",
       "      <td>47</td>\n",
       "      <td>7</td>\n",
       "      <td>3800.0</td>\n",
       "      <td>2</td>\n",
       "      <td>18</td>\n",
       "      <td>03</td>\n",
       "      <td>True</td>\n",
       "    </tr>\n",
       "    <tr>\n",
       "      <th>44423</th>\n",
       "      <td>0998553</td>\n",
       "      <td>47</td>\n",
       "      <td>12</td>\n",
       "      <td>8000.0</td>\n",
       "      <td>1</td>\n",
       "      <td>31</td>\n",
       "      <td>19</td>\n",
       "      <td>True</td>\n",
       "    </tr>\n",
       "    <tr>\n",
       "      <th>44434</th>\n",
       "      <td>0998736</td>\n",
       "      <td>47</td>\n",
       "      <td>13</td>\n",
       "      <td>50000.0</td>\n",
       "      <td>1</td>\n",
       "      <td>60</td>\n",
       "      <td>01</td>\n",
       "      <td>True</td>\n",
       "    </tr>\n",
       "    <tr>\n",
       "      <th>44435</th>\n",
       "      <td>0998736</td>\n",
       "      <td>47</td>\n",
       "      <td>13</td>\n",
       "      <td>27900.0</td>\n",
       "      <td>2</td>\n",
       "      <td>53</td>\n",
       "      <td>02</td>\n",
       "      <td>True</td>\n",
       "    </tr>\n",
       "    <tr>\n",
       "      <th>44439</th>\n",
       "      <td>0998803</td>\n",
       "      <td>37</td>\n",
       "      <td>9</td>\n",
       "      <td>15000.0</td>\n",
       "      <td>1</td>\n",
       "      <td>55</td>\n",
       "      <td>01</td>\n",
       "      <td>False</td>\n",
       "    </tr>\n",
       "    <tr>\n",
       "      <th>44441</th>\n",
       "      <td>0998803</td>\n",
       "      <td>37</td>\n",
       "      <td>9</td>\n",
       "      <td>23000.0</td>\n",
       "      <td>2</td>\n",
       "      <td>39</td>\n",
       "      <td>06</td>\n",
       "      <td>False</td>\n",
       "    </tr>\n",
       "    <tr>\n",
       "      <th>44442</th>\n",
       "      <td>0998803</td>\n",
       "      <td>37</td>\n",
       "      <td>6</td>\n",
       "      <td>3000.0</td>\n",
       "      <td>2</td>\n",
       "      <td>16</td>\n",
       "      <td>13</td>\n",
       "      <td>False</td>\n",
       "    </tr>\n",
       "    <tr>\n",
       "      <th>44445</th>\n",
       "      <td>0998844</td>\n",
       "      <td>37</td>\n",
       "      <td>9</td>\n",
       "      <td>23500.0</td>\n",
       "      <td>1</td>\n",
       "      <td>48</td>\n",
       "      <td>01</td>\n",
       "      <td>False</td>\n",
       "    </tr>\n",
       "    <tr>\n",
       "      <th>44447</th>\n",
       "      <td>0999036</td>\n",
       "      <td>37</td>\n",
       "      <td>9</td>\n",
       "      <td>21300.0</td>\n",
       "      <td>2</td>\n",
       "      <td>33</td>\n",
       "      <td>01</td>\n",
       "      <td>False</td>\n",
       "    </tr>\n",
       "    <tr>\n",
       "      <th>44448</th>\n",
       "      <td>0999036</td>\n",
       "      <td>37</td>\n",
       "      <td>7</td>\n",
       "      <td>1400.0</td>\n",
       "      <td>2</td>\n",
       "      <td>17</td>\n",
       "      <td>03</td>\n",
       "      <td>False</td>\n",
       "    </tr>\n",
       "    <tr>\n",
       "      <th>44451</th>\n",
       "      <td>0999036</td>\n",
       "      <td>37</td>\n",
       "      <td>3</td>\n",
       "      <td>24000.0</td>\n",
       "      <td>1</td>\n",
       "      <td>61</td>\n",
       "      <td>07</td>\n",
       "      <td>False</td>\n",
       "    </tr>\n",
       "    <tr>\n",
       "      <th>44453</th>\n",
       "      <td>0999232</td>\n",
       "      <td>32</td>\n",
       "      <td>9</td>\n",
       "      <td>41000.0</td>\n",
       "      <td>1</td>\n",
       "      <td>54</td>\n",
       "      <td>01</td>\n",
       "      <td>False</td>\n",
       "    </tr>\n",
       "    <tr>\n",
       "      <th>44454</th>\n",
       "      <td>0999232</td>\n",
       "      <td>47</td>\n",
       "      <td>11</td>\n",
       "      <td>7500.0</td>\n",
       "      <td>2</td>\n",
       "      <td>51</td>\n",
       "      <td>02</td>\n",
       "      <td>True</td>\n",
       "    </tr>\n",
       "    <tr>\n",
       "      <th>44455</th>\n",
       "      <td>0999243</td>\n",
       "      <td>47</td>\n",
       "      <td>9</td>\n",
       "      <td>29000.0</td>\n",
       "      <td>1</td>\n",
       "      <td>38</td>\n",
       "      <td>01</td>\n",
       "      <td>True</td>\n",
       "    </tr>\n",
       "    <tr>\n",
       "      <th>44456</th>\n",
       "      <td>0999243</td>\n",
       "      <td>47</td>\n",
       "      <td>9</td>\n",
       "      <td>6000.0</td>\n",
       "      <td>2</td>\n",
       "      <td>39</td>\n",
       "      <td>02</td>\n",
       "      <td>True</td>\n",
       "    </tr>\n",
       "    <tr>\n",
       "      <th>44457</th>\n",
       "      <td>0999245</td>\n",
       "      <td>32</td>\n",
       "      <td>13</td>\n",
       "      <td>14000.0</td>\n",
       "      <td>1</td>\n",
       "      <td>43</td>\n",
       "      <td>01</td>\n",
       "      <td>False</td>\n",
       "    </tr>\n",
       "    <tr>\n",
       "      <th>44458</th>\n",
       "      <td>0999379</td>\n",
       "      <td>47</td>\n",
       "      <td>11</td>\n",
       "      <td>45000.0</td>\n",
       "      <td>1</td>\n",
       "      <td>44</td>\n",
       "      <td>01</td>\n",
       "      <td>True</td>\n",
       "    </tr>\n",
       "    <tr>\n",
       "      <th>44459</th>\n",
       "      <td>0999449</td>\n",
       "      <td>37</td>\n",
       "      <td>9</td>\n",
       "      <td>33000.0</td>\n",
       "      <td>1</td>\n",
       "      <td>40</td>\n",
       "      <td>01</td>\n",
       "      <td>False</td>\n",
       "    </tr>\n",
       "    <tr>\n",
       "      <th>44466</th>\n",
       "      <td>0999581</td>\n",
       "      <td>47</td>\n",
       "      <td>11</td>\n",
       "      <td>30000.0</td>\n",
       "      <td>1</td>\n",
       "      <td>28</td>\n",
       "      <td>01</td>\n",
       "      <td>True</td>\n",
       "    </tr>\n",
       "    <tr>\n",
       "      <th>44467</th>\n",
       "      <td>0999581</td>\n",
       "      <td>47</td>\n",
       "      <td>11</td>\n",
       "      <td>15900.0</td>\n",
       "      <td>2</td>\n",
       "      <td>25</td>\n",
       "      <td>02</td>\n",
       "      <td>True</td>\n",
       "    </tr>\n",
       "    <tr>\n",
       "      <th>44469</th>\n",
       "      <td>0999625</td>\n",
       "      <td>47</td>\n",
       "      <td>8</td>\n",
       "      <td>12000.0</td>\n",
       "      <td>1</td>\n",
       "      <td>44</td>\n",
       "      <td>01</td>\n",
       "      <td>True</td>\n",
       "    </tr>\n",
       "    <tr>\n",
       "      <th>44470</th>\n",
       "      <td>0999625</td>\n",
       "      <td>47</td>\n",
       "      <td>3</td>\n",
       "      <td>1400.0</td>\n",
       "      <td>2</td>\n",
       "      <td>34</td>\n",
       "      <td>02</td>\n",
       "      <td>True</td>\n",
       "    </tr>\n",
       "    <tr>\n",
       "      <th>44473</th>\n",
       "      <td>0999627</td>\n",
       "      <td>47</td>\n",
       "      <td>5</td>\n",
       "      <td>500.0</td>\n",
       "      <td>1</td>\n",
       "      <td>25</td>\n",
       "      <td>05</td>\n",
       "      <td>True</td>\n",
       "    </tr>\n",
       "    <tr>\n",
       "      <th>44476</th>\n",
       "      <td>0999636</td>\n",
       "      <td>37</td>\n",
       "      <td>10</td>\n",
       "      <td>2000.0</td>\n",
       "      <td>1</td>\n",
       "      <td>26</td>\n",
       "      <td>01</td>\n",
       "      <td>False</td>\n",
       "    </tr>\n",
       "    <tr>\n",
       "      <th>44477</th>\n",
       "      <td>0999657</td>\n",
       "      <td>37</td>\n",
       "      <td>9</td>\n",
       "      <td>12000.0</td>\n",
       "      <td>2</td>\n",
       "      <td>30</td>\n",
       "      <td>01</td>\n",
       "      <td>False</td>\n",
       "    </tr>\n",
       "    <tr>\n",
       "      <th>44480</th>\n",
       "      <td>0999765</td>\n",
       "      <td>47</td>\n",
       "      <td>9</td>\n",
       "      <td>30000.0</td>\n",
       "      <td>2</td>\n",
       "      <td>46</td>\n",
       "      <td>01</td>\n",
       "      <td>True</td>\n",
       "    </tr>\n",
       "    <tr>\n",
       "      <th>44481</th>\n",
       "      <td>0999820</td>\n",
       "      <td>37</td>\n",
       "      <td>7</td>\n",
       "      <td>300.0</td>\n",
       "      <td>2</td>\n",
       "      <td>44</td>\n",
       "      <td>01</td>\n",
       "      <td>False</td>\n",
       "    </tr>\n",
       "  </tbody>\n",
       "</table>\n",
       "<p>20712 rows × 8 columns</p>\n",
       "</div>"
      ],
      "text/plain": [
       "      serial_no race  education    income gender  age relationship  white_only\n",
       "0       0000117   47         12   47300.0      1   31           01        True\n",
       "1       0000117   47         12   24300.0      2   25           02        True\n",
       "4       0000127   47         10   22000.0      2   35           02        True\n",
       "6       0000127   47          7    5000.0      1   18           17        True\n",
       "7       0000134   47         13   13000.0      2   23           01        True\n",
       "10      0000218   47          9   21800.0      1   20           01        True\n",
       "11      0000246   37         14   32000.0      2   26           01       False\n",
       "12      0000410   47         13   56000.0      1   34           01        True\n",
       "13      0000436   47         13   42000.0      1   46           01        True\n",
       "14      0000436   47         14   70000.0      2   45           02        True\n",
       "18      0000574   37         13   24000.0      1   48           01       False\n",
       "21      0000584   47          9   17000.0      2   40           01        True\n",
       "22      0000584   47          8    7000.0      1   22           03        True\n",
       "28      0000591   37          9     750.0      1   22           08       False\n",
       "30      0000609   47         12  148000.0      1   49           01        True\n",
       "32      0000609   47          9    1400.0      1   18           03        True\n",
       "35      0000786   47         11   42000.0      1   52           01        True\n",
       "36      0000786   47          9   26700.0      2   49           02        True\n",
       "40      0001033   47          9   31200.0      1   55           01        True\n",
       "41      0001033   47          9   12400.0      2   56           02        True\n",
       "44      0001102   47         13   24000.0      2   53           02        True\n",
       "45      0001102   47          5   17000.0      1   23           03        True\n",
       "46      0001193   37          8    1200.0      1   35           01       False\n",
       "47      0001208   37         13   30000.0      2   49           01       False\n",
       "48      0001208   37          9    6000.0      2   18           03       False\n",
       "49      0001281   37          6   24000.0      1   44           01       False\n",
       "50      0001281   37          9   23000.0      2   43           02       False\n",
       "51      0001281   37          9    1800.0      1   20           03       False\n",
       "54      0001350   47          9   14000.0      1   65           01        True\n",
       "56      0001427   47          2    9800.0      1   68           01        True\n",
       "...         ...  ...        ...       ...    ...  ...          ...         ...\n",
       "44419   0998525   47         11   28500.0      1   28           01        True\n",
       "44420   0998525   47         13   65000.0      2   26           02        True\n",
       "44421   0998553   47         16   21900.0      2   43           01        True\n",
       "44422   0998553   47          7    3800.0      2   18           03        True\n",
       "44423   0998553   47         12    8000.0      1   31           19        True\n",
       "44434   0998736   47         13   50000.0      1   60           01        True\n",
       "44435   0998736   47         13   27900.0      2   53           02        True\n",
       "44439   0998803   37          9   15000.0      1   55           01       False\n",
       "44441   0998803   37          9   23000.0      2   39           06       False\n",
       "44442   0998803   37          6    3000.0      2   16           13       False\n",
       "44445   0998844   37          9   23500.0      1   48           01       False\n",
       "44447   0999036   37          9   21300.0      2   33           01       False\n",
       "44448   0999036   37          7    1400.0      2   17           03       False\n",
       "44451   0999036   37          3   24000.0      1   61           07       False\n",
       "44453   0999232   32          9   41000.0      1   54           01       False\n",
       "44454   0999232   47         11    7500.0      2   51           02        True\n",
       "44455   0999243   47          9   29000.0      1   38           01        True\n",
       "44456   0999243   47          9    6000.0      2   39           02        True\n",
       "44457   0999245   32         13   14000.0      1   43           01       False\n",
       "44458   0999379   47         11   45000.0      1   44           01        True\n",
       "44459   0999449   37          9   33000.0      1   40           01       False\n",
       "44466   0999581   47         11   30000.0      1   28           01        True\n",
       "44467   0999581   47         11   15900.0      2   25           02        True\n",
       "44469   0999625   47          8   12000.0      1   44           01        True\n",
       "44470   0999625   47          3    1400.0      2   34           02        True\n",
       "44473   0999627   47          5     500.0      1   25           05        True\n",
       "44476   0999636   37         10    2000.0      1   26           01       False\n",
       "44477   0999657   37          9   12000.0      2   30           01       False\n",
       "44480   0999765   47          9   30000.0      2   46           01        True\n",
       "44481   0999820   37          7     300.0      2   44           01       False\n",
       "\n",
       "[20712 rows x 8 columns]"
      ]
     },
     "execution_count": 36,
     "metadata": {
      "tags": []
     },
     "output_type": "execute_result"
    }
   ],
   "source": [
    "p_df[p_df['income']>0]"
   ]
  },
  {
   "cell_type": "markdown",
   "metadata": {
    "id": "rR9xz_I9GRjs"
   },
   "source": [
    "This gives the same 8-column table with records that have no income filtered out, so it's a much shorter table."
   ]
  },
  {
   "cell_type": "code",
   "execution_count": 31,
   "metadata": {
    "colab": {
     "base_uri": "https://localhost:8080/"
    },
    "id": "VNIfTg7DGRjs",
    "outputId": "9f1fbff3-d7ee-4004-b682-c1030e37fedf"
   },
   "outputs": [
    {
     "data": {
      "text/plain": [
       "0        47300.0\n",
       "1        24300.0\n",
       "4        22000.0\n",
       "6         5000.0\n",
       "7        13000.0\n",
       "          ...   \n",
       "44473      500.0\n",
       "44476     2000.0\n",
       "44477    12000.0\n",
       "44480    30000.0\n",
       "44481      300.0\n",
       "Name: income, Length: 20712, dtype: float64"
      ]
     },
     "execution_count": 31,
     "metadata": {
      "tags": []
     },
     "output_type": "execute_result"
    }
   ],
   "source": [
    "p_df[p_df['income']>0]['income']"
   ]
  },
  {
   "cell_type": "markdown",
   "metadata": {
    "id": "-pFgmNGRGRjs"
   },
   "source": [
    "Now we've got just the income column of that table.  Now we do a `split` step.  For one group 'white_only' = True and for the other,'white_only = False'."
   ]
  },
  {
   "cell_type": "code",
   "execution_count": 32,
   "metadata": {
    "id": "A586N4G-GRjs"
   },
   "outputs": [],
   "source": [
    "grouped2 = p_df[p_df['income']>0]['income'].groupby(p_df['white_only'])"
   ]
  },
  {
   "cell_type": "code",
   "execution_count": 33,
   "metadata": {
    "colab": {
     "base_uri": "https://localhost:8080/",
     "height": 138
    },
    "id": "rXZoNN9uGRjs",
    "outputId": "a6084f73-1207-47dd-f4f8-93a26d9697d0"
   },
   "outputs": [
    {
     "data": {
      "text/html": [
       "<div>\n",
       "<style scoped>\n",
       "    .dataframe tbody tr th:only-of-type {\n",
       "        vertical-align: middle;\n",
       "    }\n",
       "\n",
       "    .dataframe tbody tr th {\n",
       "        vertical-align: top;\n",
       "    }\n",
       "\n",
       "    .dataframe thead th {\n",
       "        text-align: right;\n",
       "    }\n",
       "</style>\n",
       "<table border=\"1\" class=\"dataframe\">\n",
       "  <thead>\n",
       "    <tr style=\"text-align: right;\">\n",
       "      <th></th>\n",
       "      <th>count</th>\n",
       "      <th>mean</th>\n",
       "      <th>std</th>\n",
       "      <th>min</th>\n",
       "      <th>25%</th>\n",
       "      <th>50%</th>\n",
       "      <th>75%</th>\n",
       "      <th>max</th>\n",
       "    </tr>\n",
       "    <tr>\n",
       "      <th>white_only</th>\n",
       "      <th></th>\n",
       "      <th></th>\n",
       "      <th></th>\n",
       "      <th></th>\n",
       "      <th></th>\n",
       "      <th></th>\n",
       "      <th></th>\n",
       "      <th></th>\n",
       "    </tr>\n",
       "  </thead>\n",
       "  <tbody>\n",
       "    <tr>\n",
       "      <th>False</th>\n",
       "      <td>5229.0</td>\n",
       "      <td>20276.427615</td>\n",
       "      <td>24170.550141</td>\n",
       "      <td>20.0</td>\n",
       "      <td>8000.0</td>\n",
       "      <td>16000.0</td>\n",
       "      <td>26000.0</td>\n",
       "      <td>344000.0</td>\n",
       "    </tr>\n",
       "    <tr>\n",
       "      <th>True</th>\n",
       "      <td>15483.0</td>\n",
       "      <td>29245.365239</td>\n",
       "      <td>34740.942975</td>\n",
       "      <td>20.0</td>\n",
       "      <td>11100.0</td>\n",
       "      <td>22400.0</td>\n",
       "      <td>36400.0</td>\n",
       "      <td>344000.0</td>\n",
       "    </tr>\n",
       "  </tbody>\n",
       "</table>\n",
       "</div>"
      ],
      "text/plain": [
       "              count          mean           std  ...      50%      75%       max\n",
       "white_only                                       ...                            \n",
       "False        5229.0  20276.427615  24170.550141  ...  16000.0  26000.0  344000.0\n",
       "True        15483.0  29245.365239  34740.942975  ...  22400.0  36400.0  344000.0\n",
       "\n",
       "[2 rows x 8 columns]"
      ]
     },
     "execution_count": 33,
     "metadata": {
      "tags": []
     },
     "output_type": "execute_result"
    }
   ],
   "source": [
    "grouped2.describe()"
   ]
  },
  {
   "cell_type": "markdown",
   "metadata": {
    "id": "Kgq3dr_vGRjs"
   },
   "source": [
    "The grouping operation is separated from the step where we apply some operation to the groups to get numbers.  For example, let's take mean."
   ]
  },
  {
   "cell_type": "code",
   "execution_count": 34,
   "metadata": {
    "colab": {
     "base_uri": "https://localhost:8080/"
    },
    "id": "Gp0GuJTLGRjt",
    "outputId": "c39626f5-c52f-4a0d-9133-475137426d87"
   },
   "outputs": [
    {
     "data": {
      "text/plain": [
       "white_only\n",
       "False    20276.427615\n",
       "True     29245.365239\n",
       "Name: income, dtype: float64"
      ]
     },
     "execution_count": 34,
     "metadata": {
      "tags": []
     },
     "output_type": "execute_result"
    }
   ],
   "source": [
    "grouped2.mean()"
   ]
  },
  {
   "cell_type": "markdown",
   "metadata": {
    "id": "OF07cpIrGRjt"
   },
   "source": []
  },
  {
   "cell_type": "markdown",
   "metadata": {
    "id": "-kAT1CDyGRjt"
   },
   "source": [
    "And one more time: This time let's sum the incomes in the groups."
   ]
  },
  {
   "cell_type": "code",
   "execution_count": null,
   "metadata": {
    "id": "9yLSOGZxGRjt"
   },
   "outputs": [],
   "source": [
    "grouped3 = p_df.groupby(['white_only'])"
   ]
  },
  {
   "cell_type": "code",
   "execution_count": null,
   "metadata": {
    "id": "SmazKdrAGRjt"
   },
   "outputs": [],
   "source": [
    "totals3 = grouped3.income.sum().fillna(0)"
   ]
  },
  {
   "cell_type": "code",
   "execution_count": null,
   "metadata": {
    "id": "AfSHF_HvGRjt",
    "outputId": "1ef1726f-1c41-46fa-c781-3f6d7d893010"
   },
   "outputs": [
    {
     "data": {
      "text/plain": [
       "white_only\n",
       "False    106025440.0\n",
       "True     452805990.0\n",
       "Name: income, dtype: float64"
      ]
     },
     "execution_count": 48,
     "metadata": {
      "tags": []
     },
     "output_type": "execute_result"
    }
   ],
   "source": [
    "totals3"
   ]
  },
  {
   "cell_type": "markdown",
   "metadata": {
    "id": "-qD2WWCxGRjt"
   },
   "source": [
    "When we created the `groupby` object, we didn't specify a column.  In fact, it contains all the columns, and since all the columns are numerical, we can take the means for all of them:"
   ]
  },
  {
   "cell_type": "code",
   "execution_count": null,
   "metadata": {
    "id": "mKpJUUGeGRjt"
   },
   "outputs": [],
   "source": [
    "totals3 = grouped3.mean().fillna(0)"
   ]
  },
  {
   "cell_type": "code",
   "execution_count": null,
   "metadata": {
    "id": "8A42s0DOGRjt",
    "outputId": "c766af42-f510-4815-b77b-b247c73b3f6a"
   },
   "outputs": [
    {
     "data": {
      "text/html": [
       "<div>\n",
       "<style scoped>\n",
       "    .dataframe tbody tr th:only-of-type {\n",
       "        vertical-align: middle;\n",
       "    }\n",
       "\n",
       "    .dataframe tbody tr th {\n",
       "        vertical-align: top;\n",
       "    }\n",
       "\n",
       "    .dataframe thead th {\n",
       "        text-align: right;\n",
       "    }\n",
       "</style>\n",
       "<table border=\"1\" class=\"dataframe\">\n",
       "  <thead>\n",
       "    <tr style=\"text-align: right;\">\n",
       "      <th></th>\n",
       "      <th>education</th>\n",
       "      <th>income</th>\n",
       "      <th>age</th>\n",
       "    </tr>\n",
       "    <tr>\n",
       "      <th>white_only</th>\n",
       "      <th></th>\n",
       "      <th></th>\n",
       "      <th></th>\n",
       "    </tr>\n",
       "  </thead>\n",
       "  <tbody>\n",
       "    <tr>\n",
       "      <th>False</th>\n",
       "      <td>6.739302</td>\n",
       "      <td>11294.922766</td>\n",
       "      <td>32.321223</td>\n",
       "    </tr>\n",
       "    <tr>\n",
       "      <th>True</th>\n",
       "      <td>7.884836</td>\n",
       "      <td>17556.744213</td>\n",
       "      <td>38.566922</td>\n",
       "    </tr>\n",
       "  </tbody>\n",
       "</table>\n",
       "</div>"
      ],
      "text/plain": [
       "            education        income        age\n",
       "white_only                                    \n",
       "False        6.739302  11294.922766  32.321223\n",
       "True         7.884836  17556.744213  38.566922"
      ]
     },
     "execution_count": 52,
     "metadata": {
      "tags": []
     },
     "output_type": "execute_result"
    }
   ],
   "source": [
    "totals3"
   ]
  },
  {
   "cell_type": "markdown",
   "metadata": {
    "id": "FcwvDqX4GRjt"
   },
   "source": [
    "A particularly interesting result is that the mean age is higher for the white population.   This might be for a variety of reasons, but it might be worth looking into."
   ]
  },
  {
   "cell_type": "markdown",
   "metadata": {
    "id": "cEmA59SDGRjt"
   },
   "source": [
    "The keys of a `groupby` object are the possible values for the column we grouped by."
   ]
  },
  {
   "cell_type": "code",
   "execution_count": null,
   "metadata": {
    "id": "QKMxMiOBGRjt",
    "outputId": "396b4f6e-a8e2-4ece-9435-cb02d1dfe301"
   },
   "outputs": [
    {
     "data": {
      "text/plain": [
       "Index([False, True], dtype=object)"
      ]
     },
     "execution_count": 59,
     "metadata": {
      "tags": []
     },
     "output_type": "execute_result"
    }
   ],
   "source": [
    "list(totals.keys())"
   ]
  },
  {
   "cell_type": "code",
   "execution_count": 35,
   "metadata": {
    "id": "LrXVSWO1GRjt"
   },
   "outputs": [],
   "source": [
    "grouped2 = p_df[p_df['income']>0]['income'].groupby(p_df['gender'])"
   ]
  },
  {
   "cell_type": "code",
   "execution_count": 36,
   "metadata": {
    "colab": {
     "base_uri": "https://localhost:8080/"
    },
    "id": "HckKpAcfGRjt",
    "outputId": "63bbec33-22b2-4d32-ade0-1f4f9e485b99"
   },
   "outputs": [
    {
     "data": {
      "text/plain": [
       "gender\n",
       "1    33706.836926\n",
       "2    19834.642501\n",
       "Name: income, dtype: float64"
      ]
     },
     "execution_count": 36,
     "metadata": {
      "tags": []
     },
     "output_type": "execute_result"
    }
   ],
   "source": [
    "grouped2.mean().fillna(0)"
   ]
  },
  {
   "cell_type": "markdown",
   "metadata": {
    "id": "Ta3JUUsAGRjt"
   },
   "source": [
    "## A more complex example (education)"
   ]
  },
  {
   "cell_type": "code",
   "execution_count": 37,
   "metadata": {
    "id": "DwcEGtstGRjt"
   },
   "outputs": [],
   "source": [
    "p_df['white_only'] = p_df['race'].map(lambda x: x == '47')\n",
    "p_df['high_school'] = p_df['education'].map(lambda x: x >= 9)\n",
    "p_df2 = p_df.loc[:,['high_school','white_only']]"
   ]
  },
  {
   "cell_type": "markdown",
   "metadata": {
    "id": "2r50ZrwkGRjt"
   },
   "source": [
    "We make a data frame consisting of just the columns we're interested in using `loc`."
   ]
  },
  {
   "cell_type": "code",
   "execution_count": 38,
   "metadata": {
    "colab": {
     "base_uri": "https://localhost:8080/",
     "height": 407
    },
    "id": "U7s97O2hGRjt",
    "outputId": "f6c57200-b3af-4cdc-ca92-df89611b99d3"
   },
   "outputs": [
    {
     "data": {
      "text/html": [
       "<div>\n",
       "<style scoped>\n",
       "    .dataframe tbody tr th:only-of-type {\n",
       "        vertical-align: middle;\n",
       "    }\n",
       "\n",
       "    .dataframe tbody tr th {\n",
       "        vertical-align: top;\n",
       "    }\n",
       "\n",
       "    .dataframe thead th {\n",
       "        text-align: right;\n",
       "    }\n",
       "</style>\n",
       "<table border=\"1\" class=\"dataframe\">\n",
       "  <thead>\n",
       "    <tr style=\"text-align: right;\">\n",
       "      <th></th>\n",
       "      <th>high_school</th>\n",
       "      <th>white_only</th>\n",
       "    </tr>\n",
       "  </thead>\n",
       "  <tbody>\n",
       "    <tr>\n",
       "      <th>0</th>\n",
       "      <td>True</td>\n",
       "      <td>True</td>\n",
       "    </tr>\n",
       "    <tr>\n",
       "      <th>1</th>\n",
       "      <td>True</td>\n",
       "      <td>True</td>\n",
       "    </tr>\n",
       "    <tr>\n",
       "      <th>2</th>\n",
       "      <td>False</td>\n",
       "      <td>True</td>\n",
       "    </tr>\n",
       "    <tr>\n",
       "      <th>3</th>\n",
       "      <td>False</td>\n",
       "      <td>True</td>\n",
       "    </tr>\n",
       "    <tr>\n",
       "      <th>4</th>\n",
       "      <td>True</td>\n",
       "      <td>True</td>\n",
       "    </tr>\n",
       "    <tr>\n",
       "      <th>...</th>\n",
       "      <td>...</td>\n",
       "      <td>...</td>\n",
       "    </tr>\n",
       "    <tr>\n",
       "      <th>44482</th>\n",
       "      <td>False</td>\n",
       "      <td>False</td>\n",
       "    </tr>\n",
       "    <tr>\n",
       "      <th>44483</th>\n",
       "      <td>False</td>\n",
       "      <td>False</td>\n",
       "    </tr>\n",
       "    <tr>\n",
       "      <th>44484</th>\n",
       "      <td>False</td>\n",
       "      <td>False</td>\n",
       "    </tr>\n",
       "    <tr>\n",
       "      <th>44485</th>\n",
       "      <td>False</td>\n",
       "      <td>False</td>\n",
       "    </tr>\n",
       "    <tr>\n",
       "      <th>44486</th>\n",
       "      <td>False</td>\n",
       "      <td>False</td>\n",
       "    </tr>\n",
       "  </tbody>\n",
       "</table>\n",
       "<p>44487 rows × 2 columns</p>\n",
       "</div>"
      ],
      "text/plain": [
       "       high_school  white_only\n",
       "0             True        True\n",
       "1             True        True\n",
       "2            False        True\n",
       "3            False        True\n",
       "4             True        True\n",
       "...            ...         ...\n",
       "44482        False       False\n",
       "44483        False       False\n",
       "44484        False       False\n",
       "44485        False       False\n",
       "44486        False       False\n",
       "\n",
       "[44487 rows x 2 columns]"
      ]
     },
     "execution_count": 38,
     "metadata": {
      "tags": []
     },
     "output_type": "execute_result"
    }
   ],
   "source": [
    "p_df2"
   ]
  },
  {
   "cell_type": "markdown",
   "metadata": {
    "id": "RsA8-7VVGRjt"
   },
   "source": [
    "We now want counts for the entire data set of each pairing of the high_school diploma\n",
    "variable with the white_only variable.  This is done with `crosstab`."
   ]
  },
  {
   "cell_type": "code",
   "execution_count": 64,
   "metadata": {
    "colab": {
     "base_uri": "https://localhost:8080/",
     "height": 168
    },
    "id": "wT7buN3NGRjt",
    "outputId": "2b0a7d72-007b-473c-a6fc-1d16fd532abf"
   },
   "outputs": [
    {
     "data": {
      "text/html": [
       "<div>\n",
       "<style scoped>\n",
       "    .dataframe tbody tr th:only-of-type {\n",
       "        vertical-align: middle;\n",
       "    }\n",
       "\n",
       "    .dataframe tbody tr th {\n",
       "        vertical-align: top;\n",
       "    }\n",
       "\n",
       "    .dataframe thead th {\n",
       "        text-align: right;\n",
       "    }\n",
       "</style>\n",
       "<table border=\"1\" class=\"dataframe\">\n",
       "  <thead>\n",
       "    <tr style=\"text-align: right;\">\n",
       "      <th>high_school</th>\n",
       "      <th>False</th>\n",
       "      <th>True</th>\n",
       "      <th>All</th>\n",
       "    </tr>\n",
       "    <tr>\n",
       "      <th>white_only</th>\n",
       "      <th></th>\n",
       "      <th></th>\n",
       "      <th></th>\n",
       "    </tr>\n",
       "  </thead>\n",
       "  <tbody>\n",
       "    <tr>\n",
       "      <th>False</th>\n",
       "      <td>7059</td>\n",
       "      <td>5630</td>\n",
       "      <td>12689</td>\n",
       "    </tr>\n",
       "    <tr>\n",
       "      <th>True</th>\n",
       "      <td>12956</td>\n",
       "      <td>18842</td>\n",
       "      <td>31798</td>\n",
       "    </tr>\n",
       "    <tr>\n",
       "      <th>All</th>\n",
       "      <td>20015</td>\n",
       "      <td>24472</td>\n",
       "      <td>44487</td>\n",
       "    </tr>\n",
       "  </tbody>\n",
       "</table>\n",
       "</div>"
      ],
      "text/plain": [
       "high_school  False   True    All\n",
       "white_only                      \n",
       "False         7059   5630  12689\n",
       "True         12956  18842  31798\n",
       "All          20015  24472  44487"
      ]
     },
     "execution_count": 64,
     "metadata": {
      "tags": []
     },
     "output_type": "execute_result"
    }
   ],
   "source": [
    "xtab = pd.crosstab(p_df2.white_only,p_df2.high_school,margins=True)\n",
    "xtab"
   ]
  },
  {
   "cell_type": "markdown",
   "metadata": {
    "id": "tOsW-uxbGRjt"
   },
   "source": [
    "Next we'll just divide all the columns of `xtab` by the last:"
   ]
  },
  {
   "cell_type": "code",
   "execution_count": 66,
   "metadata": {
    "colab": {
     "base_uri": "https://localhost:8080/",
     "height": 168
    },
    "id": "ngi2oUZjGRjt",
    "outputId": "00b00cbd-0925-4dad-cd5a-c733b020ee96"
   },
   "outputs": [
    {
     "data": {
      "text/html": [
       "<div>\n",
       "<style scoped>\n",
       "    .dataframe tbody tr th:only-of-type {\n",
       "        vertical-align: middle;\n",
       "    }\n",
       "\n",
       "    .dataframe tbody tr th {\n",
       "        vertical-align: top;\n",
       "    }\n",
       "\n",
       "    .dataframe thead th {\n",
       "        text-align: right;\n",
       "    }\n",
       "</style>\n",
       "<table border=\"1\" class=\"dataframe\">\n",
       "  <thead>\n",
       "    <tr style=\"text-align: right;\">\n",
       "      <th>high_school</th>\n",
       "      <th>False</th>\n",
       "      <th>True</th>\n",
       "      <th>All</th>\n",
       "    </tr>\n",
       "    <tr>\n",
       "      <th>white_only</th>\n",
       "      <th></th>\n",
       "      <th></th>\n",
       "      <th></th>\n",
       "    </tr>\n",
       "  </thead>\n",
       "  <tbody>\n",
       "    <tr>\n",
       "      <th>False</th>\n",
       "      <td>0.556309</td>\n",
       "      <td>0.443691</td>\n",
       "      <td>1.0</td>\n",
       "    </tr>\n",
       "    <tr>\n",
       "      <th>True</th>\n",
       "      <td>0.407447</td>\n",
       "      <td>0.592553</td>\n",
       "      <td>1.0</td>\n",
       "    </tr>\n",
       "    <tr>\n",
       "      <th>All</th>\n",
       "      <td>0.449907</td>\n",
       "      <td>0.550093</td>\n",
       "      <td>1.0</td>\n",
       "    </tr>\n",
       "  </tbody>\n",
       "</table>\n",
       "</div>"
      ],
      "text/plain": [
       "high_school     False      True  All\n",
       "white_only                          \n",
       "False        0.556309  0.443691  1.0\n",
       "True         0.407447  0.592553  1.0\n",
       "All          0.449907  0.550093  1.0"
      ]
     },
     "execution_count": 66,
     "metadata": {
      "tags": []
     },
     "output_type": "execute_result"
    }
   ],
   "source": [
    "xtab = xtab.div(xtab['All'],axis=0)\n",
    "xtab"
   ]
  },
  {
   "cell_type": "markdown",
   "metadata": {
    "id": "QwFFOCJbGRjt"
   },
   "source": [
    "## Levels of education"
   ]
  },
  {
   "cell_type": "markdown",
   "metadata": {
    "id": "BV6HWiblGRjt"
   },
   "source": [
    "The next example is very important.  We make a new column defined via a function that computes something based on the value of  one of the existing columns.  The function is called `education`. It sorts education levels into various bins we will use to define a new column called `degrees`."
   ]
  },
  {
   "cell_type": "code",
   "execution_count": 67,
   "metadata": {
    "colab": {
     "base_uri": "https://localhost:8080/"
    },
    "id": "-a7gyriEGRjt",
    "outputId": "a98a1aca-4bd2-4e96-adc4-5688fc0d469a"
   },
   "outputs": [
    {
     "name": "stderr",
     "output_type": "stream",
     "text": [
      "/usr/local/lib/python3.6/dist-packages/ipykernel_launcher.py:16: SettingWithCopyWarning: \n",
      "A value is trying to be set on a copy of a slice from a DataFrame.\n",
      "Try using .loc[row_indexer,col_indexer] = value instead\n",
      "\n",
      "See the caveats in the documentation: https://pandas.pydata.org/pandas-docs/stable/user_guide/indexing.html#returning-a-view-versus-a-copy\n",
      "  app.launch_new_instance()\n"
     ]
    }
   ],
   "source": [
    "def education (x):\n",
    "    \n",
    "    if 9 <= x <= 11:\n",
    "        return 'HS'\n",
    "    elif x == 12:\n",
    "        return 'AA'\n",
    "    elif x == 13:\n",
    "        return 'BA'\n",
    "    elif x == 14:\n",
    "        return 'MA'\n",
    "    elif x > 14:\n",
    "        return 'HD'\n",
    "    else:\n",
    "        return 'ND'\n",
    "p_df_inc = p_df[p_df['income']>0]\n",
    "p_df_inc['degrees'] = p_df_inc['education'].map(education)\n",
    "p_df_inc2 = p_df_inc.loc[:,['degrees','income']]"
   ]
  },
  {
   "cell_type": "code",
   "execution_count": 69,
   "metadata": {
    "colab": {
     "base_uri": "https://localhost:8080/",
     "height": 407
    },
    "id": "MSwDHkVkGRjt",
    "outputId": "faee5d66-5c72-4e18-f513-7c24ca2c7fe7"
   },
   "outputs": [
    {
     "data": {
      "text/html": [
       "<div>\n",
       "<style scoped>\n",
       "    .dataframe tbody tr th:only-of-type {\n",
       "        vertical-align: middle;\n",
       "    }\n",
       "\n",
       "    .dataframe tbody tr th {\n",
       "        vertical-align: top;\n",
       "    }\n",
       "\n",
       "    .dataframe thead th {\n",
       "        text-align: right;\n",
       "    }\n",
       "</style>\n",
       "<table border=\"1\" class=\"dataframe\">\n",
       "  <thead>\n",
       "    <tr style=\"text-align: right;\">\n",
       "      <th></th>\n",
       "      <th>degrees</th>\n",
       "      <th>income</th>\n",
       "    </tr>\n",
       "  </thead>\n",
       "  <tbody>\n",
       "    <tr>\n",
       "      <th>0</th>\n",
       "      <td>AA</td>\n",
       "      <td>47300.0</td>\n",
       "    </tr>\n",
       "    <tr>\n",
       "      <th>1</th>\n",
       "      <td>AA</td>\n",
       "      <td>24300.0</td>\n",
       "    </tr>\n",
       "    <tr>\n",
       "      <th>4</th>\n",
       "      <td>HS</td>\n",
       "      <td>22000.0</td>\n",
       "    </tr>\n",
       "    <tr>\n",
       "      <th>6</th>\n",
       "      <td>ND</td>\n",
       "      <td>5000.0</td>\n",
       "    </tr>\n",
       "    <tr>\n",
       "      <th>7</th>\n",
       "      <td>BA</td>\n",
       "      <td>13000.0</td>\n",
       "    </tr>\n",
       "    <tr>\n",
       "      <th>...</th>\n",
       "      <td>...</td>\n",
       "      <td>...</td>\n",
       "    </tr>\n",
       "    <tr>\n",
       "      <th>44473</th>\n",
       "      <td>ND</td>\n",
       "      <td>500.0</td>\n",
       "    </tr>\n",
       "    <tr>\n",
       "      <th>44476</th>\n",
       "      <td>HS</td>\n",
       "      <td>2000.0</td>\n",
       "    </tr>\n",
       "    <tr>\n",
       "      <th>44477</th>\n",
       "      <td>HS</td>\n",
       "      <td>12000.0</td>\n",
       "    </tr>\n",
       "    <tr>\n",
       "      <th>44480</th>\n",
       "      <td>HS</td>\n",
       "      <td>30000.0</td>\n",
       "    </tr>\n",
       "    <tr>\n",
       "      <th>44481</th>\n",
       "      <td>ND</td>\n",
       "      <td>300.0</td>\n",
       "    </tr>\n",
       "  </tbody>\n",
       "</table>\n",
       "<p>20712 rows × 2 columns</p>\n",
       "</div>"
      ],
      "text/plain": [
       "      degrees   income\n",
       "0          AA  47300.0\n",
       "1          AA  24300.0\n",
       "4          HS  22000.0\n",
       "6          ND   5000.0\n",
       "7          BA  13000.0\n",
       "...       ...      ...\n",
       "44473      ND    500.0\n",
       "44476      HS   2000.0\n",
       "44477      HS  12000.0\n",
       "44480      HS  30000.0\n",
       "44481      ND    300.0\n",
       "\n",
       "[20712 rows x 2 columns]"
      ]
     },
     "execution_count": 69,
     "metadata": {
      "tags": []
     },
     "output_type": "execute_result"
    }
   ],
   "source": [
    "p_df_inc2"
   ]
  },
  {
   "cell_type": "code",
   "execution_count": 70,
   "metadata": {
    "colab": {
     "base_uri": "https://localhost:8080/"
    },
    "id": "bERlRjanGRjt",
    "outputId": "eee4c504-08d9-40ce-cb95-28f8749b3295"
   },
   "outputs": [
    {
     "data": {
      "text/plain": [
       "degrees       HS\n",
       "income     18600\n",
       "Name: 278, dtype: object"
      ]
     },
     "execution_count": 70,
     "metadata": {
      "tags": []
     },
     "output_type": "execute_result"
    }
   ],
   "source": [
    "p_df_inc2.loc[278]"
   ]
  },
  {
   "cell_type": "code",
   "execution_count": 71,
   "metadata": {
    "id": "4dmJl8CLGRjt"
   },
   "outputs": [],
   "source": [
    "grouped3 = p_df_inc2.groupby(['degrees'])"
   ]
  },
  {
   "cell_type": "code",
   "execution_count": 72,
   "metadata": {
    "colab": {
     "base_uri": "https://localhost:8080/",
     "height": 258
    },
    "id": "jAP5aQOHGRjt",
    "outputId": "f5e5d812-2a32-4d1e-942e-0358711a6b4e"
   },
   "outputs": [
    {
     "data": {
      "text/html": [
       "<div>\n",
       "<style scoped>\n",
       "    .dataframe tbody tr th:only-of-type {\n",
       "        vertical-align: middle;\n",
       "    }\n",
       "\n",
       "    .dataframe tbody tr th {\n",
       "        vertical-align: top;\n",
       "    }\n",
       "\n",
       "    .dataframe thead th {\n",
       "        text-align: right;\n",
       "    }\n",
       "</style>\n",
       "<table border=\"1\" class=\"dataframe\">\n",
       "  <thead>\n",
       "    <tr style=\"text-align: right;\">\n",
       "      <th></th>\n",
       "      <th>income</th>\n",
       "    </tr>\n",
       "    <tr>\n",
       "      <th>degrees</th>\n",
       "      <th></th>\n",
       "    </tr>\n",
       "  </thead>\n",
       "  <tbody>\n",
       "    <tr>\n",
       "      <th>AA</th>\n",
       "      <td>29264.865269</td>\n",
       "    </tr>\n",
       "    <tr>\n",
       "      <th>BA</th>\n",
       "      <td>42062.469136</td>\n",
       "    </tr>\n",
       "    <tr>\n",
       "      <th>HD</th>\n",
       "      <td>84993.113456</td>\n",
       "    </tr>\n",
       "    <tr>\n",
       "      <th>HS</th>\n",
       "      <td>23209.507226</td>\n",
       "    </tr>\n",
       "    <tr>\n",
       "      <th>MA</th>\n",
       "      <td>44152.826718</td>\n",
       "    </tr>\n",
       "    <tr>\n",
       "      <th>ND</th>\n",
       "      <td>17061.500257</td>\n",
       "    </tr>\n",
       "  </tbody>\n",
       "</table>\n",
       "</div>"
      ],
      "text/plain": [
       "               income\n",
       "degrees              \n",
       "AA       29264.865269\n",
       "BA       42062.469136\n",
       "HD       84993.113456\n",
       "HS       23209.507226\n",
       "MA       44152.826718\n",
       "ND       17061.500257"
      ]
     },
     "execution_count": 72,
     "metadata": {
      "tags": []
     },
     "output_type": "execute_result"
    }
   ],
   "source": [
    "grouped3.mean()"
   ]
  },
  {
   "cell_type": "markdown",
   "metadata": {
    "id": "cNUWyoHwGRjt"
   },
   "source": [
    "What degree adds the least value?"
   ]
  },
  {
   "cell_type": "markdown",
   "metadata": {
    "id": "z1IucwKcGRjt"
   },
   "source": [
    "## Assignment"
   ]
  },
  {
   "cell_type": "markdown",
   "metadata": {
    "id": "uC0vcj7aGRjt"
   },
   "source": [
    "### Find the mean income by gender."
   ]
  },
  {
   "cell_type": "markdown",
   "metadata": {
    "id": "-nC4cn1NGRjt"
   },
   "source": [
    "### Using section 1.7 (\"A more complex example (education)\" as a model, construct a table showing the percentages of those receiving a high school education or better for males and females."
   ]
  },
  {
   "cell_type": "markdown",
   "metadata": {
    "id": "CaxVNQKrGRju"
   },
   "source": [
    "## Potential projects"
   ]
  },
  {
   "cell_type": "markdown",
   "metadata": {
    "id": "9LI7cMmdGRju"
   },
   "source": [
    "Here are some ideas for potential projects using the PUMS data.\n",
    "\n",
    "1) Compare income levels for a variety of levels of education state by state. This can be done\n",
    "   by creating bins for education level as in the example above.  You may wish to explore different\n",
    "   bins than the ones used in that example.  For this project you must do at least 10 states, and you must\n",
    "   choose states that represent some variety in population and urbanization.  You will need to turn in the Python\n",
    "   notebook, some prose and explaining and justifying what you did (2 pages), and you need to produce some graphs\n",
    "   plotting education level (x axis) and income levels (y axis).  Make sure you can get the data for\n",
    "   several states on one plot.  Use different colored lines.  Your intellectual goal is  to decide if differences in\n",
    "   education level explain the differences in income state by state, or whether there are other major factors. An\n",
    "   alternative visualization is to use maps like the maps we use for the campaign contribution to represent (state by state)\n",
    "   percentages of residents with a particular level of education reaching a certain income level. \n",
    "   \n",
    "2) Compare income levels for a variety of levels of education for whites and non-whites.  You can do this in\n",
    "   several states, optionally but you must do at least one.  You will need to turn in the Python\n",
    "   notebook, some prose and explaining and justifying what you did (2 pages), and you need to produce some graphs\n",
    "   plotting education level (x axis) and income levels (y axis).  Make sure you can get the data for\n",
    "   whites and non-whites on one plot.  Use different colored lines.  Your intellectual goal is  to decide if differences in\n",
    "   education level explain the differences in income for whites and non whites, or whether there are other major factors.\n",
    "   \n",
    "   "
   ]
  },
  {
   "cell_type": "code",
   "execution_count": null,
   "metadata": {
    "id": "bZYdsbJZGRju"
   },
   "outputs": [],
   "source": []
  }
 ],
 "metadata": {
  "colab": {
   "name": "census_data_example.ipynb",
   "provenance": []
  },
  "kernelspec": {
   "display_name": "Python 3",
   "language": "python",
   "name": "python3"
  },
  "language_info": {
   "codemirror_mode": {
    "name": "ipython",
    "version": 3
   },
   "file_extension": ".py",
   "mimetype": "text/x-python",
   "name": "python",
   "nbconvert_exporter": "python",
   "pygments_lexer": "ipython3",
   "version": "3.8.5"
  },
  "toc": {
   "base_numbering": 1,
   "nav_menu": {
    "height": "208px",
    "width": "252px"
   },
   "number_sections": true,
   "sideBar": true,
   "skip_h1_title": false,
   "title_cell": "Table of Contents",
   "title_sidebar": "Contents",
   "toc_cell": false,
   "toc_position": {},
   "toc_section_display": "block",
   "toc_window_display": false
  }
 },
 "nbformat": 4,
 "nbformat_minor": 1
}
