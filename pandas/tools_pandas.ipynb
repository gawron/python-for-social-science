{
  "cells": [
    {
      "cell_type": "markdown",
      "metadata": {
        "id": "iIMT1tojYqU9"
      },
      "source": [
        "**Tools - pandas**\n",
        "\n",
        "From the **Handson Machine Learning**  Book.  A Gueron.  (O'Reilly)\n",
        "\n",
        "*The `pandas` library provides high-performance, easy-to-use data structures and data analysis tools. The main data structure is the `DataFrame`, which you can think of as an in-memory 2D table (like a spreadsheet, with column names and row labels). Many features available in Excel are available programmatically, such as creating pivot tables, computing columns based on other columns, plotting graphs, etc. You can also group rows by column value, or join tables much like in SQL. Pandas is also great at handling time series.*\n",
        "\n",
        "Prerequisites:\n",
        "* NumPy – if you are not familiar with NumPy, we recommend that you go through the [NumPy tutorial](tools_numpy.ipynb) now."
      ]
    },
    {
      "cell_type": "markdown",
      "metadata": {
        "id": "pzBIoM5EYqVB"
      },
      "source": [
        "# Setup\n",
        "First, let's make sure this notebook works well in both python 2 and 3:"
      ]
    },
    {
      "cell_type": "markdown",
      "metadata": {
        "id": "Frm_Tgv6YqVC"
      },
      "source": [
        "Now let's import `pandas`. People usually import it as `pd`:"
      ]
    },
    {
      "cell_type": "code",
      "execution_count": null,
      "metadata": {
        "id": "vV6k4G6kYqVC"
      },
      "outputs": [],
      "source": [
        "import pandas as pd"
      ]
    },
    {
      "cell_type": "markdown",
      "metadata": {
        "id": "DaVggBUTYqVD"
      },
      "source": [
        "# `Series` objects\n",
        "The `pandas` library contains these useful data structures:\n",
        "* `Series` objects, that we will discuss now. A `Series` object is 1D array, similar to a column in a spreadsheet (with a column name and row labels).\n",
        "* `DataFrame` objects. This is a 2D table, similar to a spreadsheet (with column names and row labels).\n",
        "* `Panel` objects. You can see a `Panel` as a dictionary of `DataFrame`s. These are less used, so we will not discuss them here."
      ]
    },
    {
      "cell_type": "markdown",
      "metadata": {
        "id": "qDz8pyMCYqVE"
      },
      "source": [
        "## Creating a `Series`\n",
        "Let's start by creating our first `Series` object!"
      ]
    },
    {
      "cell_type": "code",
      "execution_count": null,
      "metadata": {
        "id": "g2YGpSzBYqVE",
        "outputId": "acd4c536-6421-487b-ace1-3480f70191ed",
        "colab": {
          "base_uri": "https://localhost:8080/"
        }
      },
      "outputs": [
        {
          "output_type": "execute_result",
          "data": {
            "text/plain": [
              "0    2\n",
              "1   -1\n",
              "2    3\n",
              "3    5\n",
              "dtype: int64"
            ]
          },
          "metadata": {},
          "execution_count": 2
        }
      ],
      "source": [
        "s = pd.Series([2,-1,3,5])\n",
        "s"
      ]
    },
    {
      "cell_type": "markdown",
      "metadata": {
        "id": "5nH9r7CMYqVF"
      },
      "source": [
        "## Similar to a 1D `ndarray`\n",
        "`Series` objects behave much like one-dimensional NumPy `ndarray`s, and you can often pass them as parameters to NumPy functions:"
      ]
    },
    {
      "cell_type": "code",
      "execution_count": null,
      "metadata": {
        "id": "g9EOi0-lYqVG",
        "outputId": "042854ad-42aa-4903-975e-708b2cc57f1f",
        "colab": {
          "base_uri": "https://localhost:8080/"
        }
      },
      "outputs": [
        {
          "output_type": "execute_result",
          "data": {
            "text/plain": [
              "0      7.389056\n",
              "1      0.367879\n",
              "2     20.085537\n",
              "3    148.413159\n",
              "dtype: float64"
            ]
          },
          "metadata": {},
          "execution_count": 26
        }
      ],
      "source": [
        "import numpy as np\n",
        "np.exp(s)"
      ]
    },
    {
      "cell_type": "markdown",
      "metadata": {
        "id": "LKZbYrKkYqVG"
      },
      "source": [
        "Arithmetic operations on `Series` are also possible, and they apply *elementwise*, just like for `ndarray`s:"
      ]
    },
    {
      "cell_type": "code",
      "execution_count": null,
      "metadata": {
        "id": "X39MSVeIYqVH",
        "outputId": "1de52101-45d2-4186-9290-00671800bab7",
        "colab": {
          "base_uri": "https://localhost:8080/"
        }
      },
      "outputs": [
        {
          "output_type": "stream",
          "name": "stdout",
          "text": [
            "0    2\n",
            "1   -1\n",
            "2    3\n",
            "3    5\n",
            "dtype: int64\n"
          ]
        },
        {
          "output_type": "execute_result",
          "data": {
            "text/plain": [
              "0    1002\n",
              "1    1999\n",
              "2    3003\n",
              "3    4005\n",
              "dtype: int64"
            ]
          },
          "metadata": {},
          "execution_count": 27
        }
      ],
      "source": [
        "print(s)\n",
        "s + [1000,2000,3000,4000]"
      ]
    },
    {
      "cell_type": "markdown",
      "metadata": {
        "id": "8wrhvO4eYqVH"
      },
      "source": [
        "Similar to NumPy, if you add a single number to a `Series`, that number is added to all items in the `Series`. This is called * broadcasting*:"
      ]
    },
    {
      "cell_type": "code",
      "execution_count": null,
      "metadata": {
        "id": "-DKhEa4JYqVI",
        "outputId": "9236f22f-e3b9-4717-de1a-3162215525f6",
        "colab": {
          "base_uri": "https://localhost:8080/"
        }
      },
      "outputs": [
        {
          "output_type": "execute_result",
          "data": {
            "text/plain": [
              "0    1002\n",
              "1     999\n",
              "2    1003\n",
              "3    1005\n",
              "dtype: int64"
            ]
          },
          "metadata": {},
          "execution_count": 6
        }
      ],
      "source": [
        "s + 1000"
      ]
    },
    {
      "cell_type": "markdown",
      "metadata": {
        "id": "bxt6JNc1YqVI"
      },
      "source": [
        "The same is true for all binary operations such as `*` or `/`, and even conditional operations:"
      ]
    },
    {
      "cell_type": "code",
      "execution_count": null,
      "metadata": {
        "id": "K8SPZY_GYqVI",
        "outputId": "02a7ebba-bcb8-4250-b047-bd4bb880a5d6",
        "colab": {
          "base_uri": "https://localhost:8080/"
        }
      },
      "outputs": [
        {
          "output_type": "execute_result",
          "data": {
            "text/plain": [
              "0    False\n",
              "1     True\n",
              "2    False\n",
              "3    False\n",
              "dtype: bool"
            ]
          },
          "metadata": {},
          "execution_count": 7
        }
      ],
      "source": [
        "s < 0"
      ]
    },
    {
      "cell_type": "markdown",
      "metadata": {
        "id": "SUjroNVaYqVI"
      },
      "source": [
        "## Index labels\n",
        "Each item in a `Series` object has a unique identifier called the *index label*. By default, it is simply the rank of the item in the `Series` (starting at `0`) but you can also set the index labels manually:"
      ]
    },
    {
      "cell_type": "code",
      "execution_count": null,
      "metadata": {
        "id": "m5UhSr-3YqVJ",
        "outputId": "d99d8f52-a930-4f86-d131-797b272921a5",
        "colab": {
          "base_uri": "https://localhost:8080/"
        }
      },
      "outputs": [
        {
          "output_type": "execute_result",
          "data": {
            "text/plain": [
              "alice       76\n",
              "bob         83\n",
              "charles    112\n",
              "darwin      68\n",
              "dtype: int64"
            ]
          },
          "metadata": {},
          "execution_count": 9
        }
      ],
      "source": [
        "s2 = pd.Series([76, 83, 112, 68], index=[\"alice\", \"bob\", \"charles\", \"darwin\"])\n",
        "s2"
      ]
    },
    {
      "cell_type": "markdown",
      "metadata": {
        "id": "2ZTwJu_tYqVJ"
      },
      "source": [
        "You can then use the `Series` just like a `dict`:"
      ]
    },
    {
      "cell_type": "code",
      "execution_count": null,
      "metadata": {
        "id": "IdGs0rMQYqVJ",
        "outputId": "dd6066d1-feef-4377-8487-45c6691d5536",
        "colab": {
          "base_uri": "https://localhost:8080/"
        }
      },
      "outputs": [
        {
          "output_type": "execute_result",
          "data": {
            "text/plain": [
              "83"
            ]
          },
          "metadata": {},
          "execution_count": 10
        }
      ],
      "source": [
        "s2['bob']"
      ]
    },
    {
      "cell_type": "code",
      "execution_count": null,
      "metadata": {
        "id": "mofPBC0rYqVK"
      },
      "outputs": [],
      "source": [
        ""
      ]
    },
    {
      "cell_type": "code",
      "execution_count": null,
      "metadata": {
        "id": "W7C5WQ2_YqVK",
        "outputId": "5c981ade-5467-4222-e8d5-4af5114cc04e",
        "colab": {
          "base_uri": "https://localhost:8080/"
        }
      },
      "outputs": [
        {
          "output_type": "stream",
          "name": "stdout",
          "text": [
            "alice       76\n",
            "bob         83\n",
            "charles    112\n",
            "darwin      68\n",
            "dtype: int64\n",
            "bob         83\n",
            "charles    112\n",
            "darwin      68\n",
            "dtype: int64\n",
            "bob         83\n",
            "charles    112\n",
            "dtype: int64\n"
          ]
        }
      ],
      "source": [
        "print(s2)\n",
        "print(s2[\"bob\":\"darwin\"])\n",
        "print(s2[1:3])"
      ]
    },
    {
      "cell_type": "code",
      "execution_count": null,
      "metadata": {
        "id": "5hSrbjD6YqVK",
        "outputId": "073f18d6-3ab7-40a5-c30c-5248d110bcfa",
        "colab": {
          "base_uri": "https://localhost:8080/"
        }
      },
      "outputs": [
        {
          "output_type": "execute_result",
          "data": {
            "text/plain": [
              "bob         83\n",
              "charles    112\n",
              "darwin      68\n",
              "dtype: int64"
            ]
          },
          "metadata": {},
          "execution_count": 12
        }
      ],
      "source": [
        "s2[\"bob\":\"darwin\"]"
      ]
    },
    {
      "cell_type": "markdown",
      "metadata": {
        "id": "4eiWc37gYqVK"
      },
      "source": [
        "You can still access the items by integer location, like in a regular array:"
      ]
    },
    {
      "cell_type": "code",
      "execution_count": null,
      "metadata": {
        "id": "-CTJzeT3YqVL",
        "outputId": "13383e80-7fa9-4e1d-e529-1a51ba83d63e",
        "colab": {
          "base_uri": "https://localhost:8080/"
        }
      },
      "outputs": [
        {
          "output_type": "stream",
          "name": "stdout",
          "text": [
            "alice       76\n",
            "bob         83\n",
            "charles    112\n",
            "darwin      68\n",
            "dtype: int64\n"
          ]
        },
        {
          "output_type": "execute_result",
          "data": {
            "text/plain": [
              "83"
            ]
          },
          "metadata": {},
          "execution_count": 13
        }
      ],
      "source": [
        "print(s2)\n",
        "s2[1]"
      ]
    },
    {
      "cell_type": "markdown",
      "metadata": {
        "id": "TQpju0IOYqVL"
      },
      "source": [
        "To make it clear when you are accessing by label or by integer location, it is recommended to always use the `loc` attribute when accessing by label, and the `iloc` attribute when accessing by integer location:"
      ]
    },
    {
      "cell_type": "code",
      "execution_count": null,
      "metadata": {
        "id": "rFJ2Q9cCYqVL",
        "outputId": "f37f5bc4-8bba-45e9-faaf-bb8dac1d957b",
        "colab": {
          "base_uri": "https://localhost:8080/"
        }
      },
      "outputs": [
        {
          "output_type": "execute_result",
          "data": {
            "text/plain": [
              "83"
            ]
          },
          "metadata": {},
          "execution_count": 15
        }
      ],
      "source": [
        "s2.loc[\"bob\"]"
      ]
    },
    {
      "cell_type": "code",
      "execution_count": null,
      "metadata": {
        "id": "ChdSfytqYqVL",
        "outputId": "88176ca4-1f1f-4b81-e3e4-c8906f4c6e5b",
        "colab": {
          "base_uri": "https://localhost:8080/"
        }
      },
      "outputs": [
        {
          "output_type": "execute_result",
          "data": {
            "text/plain": [
              "83"
            ]
          },
          "metadata": {},
          "execution_count": 16
        }
      ],
      "source": [
        "s2.iloc[1]"
      ]
    },
    {
      "cell_type": "markdown",
      "metadata": {
        "id": "OheBkEmPYqVL"
      },
      "source": [
        "Slicing a `Series` also slices the index labels:"
      ]
    },
    {
      "cell_type": "code",
      "execution_count": null,
      "metadata": {
        "id": "pDIDcBepYqVM",
        "outputId": "f596d5fc-2752-4a82-9955-909d72a7a745",
        "colab": {
          "base_uri": "https://localhost:8080/"
        }
      },
      "outputs": [
        {
          "output_type": "execute_result",
          "data": {
            "text/plain": [
              "bob         83\n",
              "charles    112\n",
              "dtype: int64"
            ]
          },
          "metadata": {},
          "execution_count": 29
        }
      ],
      "source": [
        "s2.iloc[1:3]"
      ]
    },
    {
      "cell_type": "markdown",
      "metadata": {
        "id": "pcvOjC7NYqVM"
      },
      "source": [
        "This can lead to unexpected results when using the default numeric labels, so be careful:"
      ]
    },
    {
      "cell_type": "code",
      "execution_count": null,
      "metadata": {
        "id": "389bSf-5YqVM",
        "outputId": "fcb52562-5d8e-4e89-a49e-eb4f3598fa79",
        "colab": {
          "base_uri": "https://localhost:8080/"
        }
      },
      "outputs": [
        {
          "output_type": "execute_result",
          "data": {
            "text/plain": [
              "0    1000\n",
              "1    1001\n",
              "2    1002\n",
              "3    1003\n",
              "dtype: int64"
            ]
          },
          "metadata": {},
          "execution_count": 18
        }
      ],
      "source": [
        "surprise = pd.Series([1000, 1001, 1002, 1003])\n",
        "surprise"
      ]
    },
    {
      "cell_type": "code",
      "execution_count": null,
      "metadata": {
        "id": "hSwo5Kl6YqVM",
        "outputId": "dd4dca7c-4c35-49c1-e454-d2149b2843a2"
      },
      "outputs": [
        {
          "data": {
            "text/plain": [
              "2    1002\n",
              "3    1003\n",
              "dtype: int64"
            ]
          },
          "execution_count": 23,
          "metadata": {},
          "output_type": "execute_result"
        }
      ],
      "source": [
        "surprise_slice = surprise[2:]\n",
        "surprise_slice"
      ]
    },
    {
      "cell_type": "markdown",
      "metadata": {
        "id": "RD1nIJgDYqVM"
      },
      "source": [
        "Oh look! The first element has index label `2`. The element with index label `0` is absent from the slice:"
      ]
    },
    {
      "cell_type": "code",
      "execution_count": null,
      "metadata": {
        "id": "lu9AiznIYqVM",
        "outputId": "f5fddc9c-1195-41f8-e711-52bbe8741e7e"
      },
      "outputs": [
        {
          "ename": "KeyError",
          "evalue": "0",
          "output_type": "error",
          "traceback": [
            "\u001b[0;31m---------------------------------------------------------------------------\u001b[0m",
            "\u001b[0;31mKeyError\u001b[0m                                  Traceback (most recent call last)",
            "\u001b[0;32m<ipython-input-24-98ede5246e59>\u001b[0m in \u001b[0;36m<module>\u001b[0;34m()\u001b[0m\n\u001b[0;32m----> 1\u001b[0;31m \u001b[0msurprise_slice\u001b[0m\u001b[0;34m[\u001b[0m\u001b[0;36m0\u001b[0m\u001b[0;34m]\u001b[0m\u001b[0;34m\u001b[0m\u001b[0m\n\u001b[0m",
            "\u001b[0;32m~/anaconda3/lib/python3.6/site-packages/pandas/core/series.py\u001b[0m in \u001b[0;36m__getitem__\u001b[0;34m(self, key)\u001b[0m\n\u001b[1;32m    764\u001b[0m         \u001b[0mkey\u001b[0m \u001b[0;34m=\u001b[0m \u001b[0mcom\u001b[0m\u001b[0;34m.\u001b[0m\u001b[0m_apply_if_callable\u001b[0m\u001b[0;34m(\u001b[0m\u001b[0mkey\u001b[0m\u001b[0;34m,\u001b[0m \u001b[0mself\u001b[0m\u001b[0;34m)\u001b[0m\u001b[0;34m\u001b[0m\u001b[0m\n\u001b[1;32m    765\u001b[0m         \u001b[0;32mtry\u001b[0m\u001b[0;34m:\u001b[0m\u001b[0;34m\u001b[0m\u001b[0m\n\u001b[0;32m--> 766\u001b[0;31m             \u001b[0mresult\u001b[0m \u001b[0;34m=\u001b[0m \u001b[0mself\u001b[0m\u001b[0;34m.\u001b[0m\u001b[0mindex\u001b[0m\u001b[0;34m.\u001b[0m\u001b[0mget_value\u001b[0m\u001b[0;34m(\u001b[0m\u001b[0mself\u001b[0m\u001b[0;34m,\u001b[0m \u001b[0mkey\u001b[0m\u001b[0;34m)\u001b[0m\u001b[0;34m\u001b[0m\u001b[0m\n\u001b[0m\u001b[1;32m    767\u001b[0m \u001b[0;34m\u001b[0m\u001b[0m\n\u001b[1;32m    768\u001b[0m             \u001b[0;32mif\u001b[0m \u001b[0;32mnot\u001b[0m \u001b[0mis_scalar\u001b[0m\u001b[0;34m(\u001b[0m\u001b[0mresult\u001b[0m\u001b[0;34m)\u001b[0m\u001b[0;34m:\u001b[0m\u001b[0;34m\u001b[0m\u001b[0m\n",
            "\u001b[0;32m~/anaconda3/lib/python3.6/site-packages/pandas/core/indexes/base.py\u001b[0m in \u001b[0;36mget_value\u001b[0;34m(self, series, key)\u001b[0m\n\u001b[1;32m   3101\u001b[0m         \u001b[0;32mtry\u001b[0m\u001b[0;34m:\u001b[0m\u001b[0;34m\u001b[0m\u001b[0m\n\u001b[1;32m   3102\u001b[0m             return self._engine.get_value(s, k,\n\u001b[0;32m-> 3103\u001b[0;31m                                           tz=getattr(series.dtype, 'tz', None))\n\u001b[0m\u001b[1;32m   3104\u001b[0m         \u001b[0;32mexcept\u001b[0m \u001b[0mKeyError\u001b[0m \u001b[0;32mas\u001b[0m \u001b[0me1\u001b[0m\u001b[0;34m:\u001b[0m\u001b[0;34m\u001b[0m\u001b[0m\n\u001b[1;32m   3105\u001b[0m             \u001b[0;32mif\u001b[0m \u001b[0mlen\u001b[0m\u001b[0;34m(\u001b[0m\u001b[0mself\u001b[0m\u001b[0;34m)\u001b[0m \u001b[0;34m>\u001b[0m \u001b[0;36m0\u001b[0m \u001b[0;32mand\u001b[0m \u001b[0mself\u001b[0m\u001b[0;34m.\u001b[0m\u001b[0minferred_type\u001b[0m \u001b[0;32min\u001b[0m \u001b[0;34m[\u001b[0m\u001b[0;34m'integer'\u001b[0m\u001b[0;34m,\u001b[0m \u001b[0;34m'boolean'\u001b[0m\u001b[0;34m]\u001b[0m\u001b[0;34m:\u001b[0m\u001b[0;34m\u001b[0m\u001b[0m\n",
            "\u001b[0;32mpandas/_libs/index.pyx\u001b[0m in \u001b[0;36mpandas._libs.index.IndexEngine.get_value\u001b[0;34m()\u001b[0m\n",
            "\u001b[0;32mpandas/_libs/index.pyx\u001b[0m in \u001b[0;36mpandas._libs.index.IndexEngine.get_value\u001b[0;34m()\u001b[0m\n",
            "\u001b[0;32mpandas/_libs/index.pyx\u001b[0m in \u001b[0;36mpandas._libs.index.IndexEngine.get_loc\u001b[0;34m()\u001b[0m\n",
            "\u001b[0;32mpandas/_libs/hashtable_class_helper.pxi\u001b[0m in \u001b[0;36mpandas._libs.hashtable.Int64HashTable.get_item\u001b[0;34m()\u001b[0m\n",
            "\u001b[0;32mpandas/_libs/hashtable_class_helper.pxi\u001b[0m in \u001b[0;36mpandas._libs.hashtable.Int64HashTable.get_item\u001b[0;34m()\u001b[0m\n",
            "\u001b[0;31mKeyError\u001b[0m: 0"
          ]
        }
      ],
      "source": [
        "surprise_slice[0]"
      ]
    },
    {
      "cell_type": "code",
      "execution_count": null,
      "metadata": {
        "id": "XWckmzFEYqVN",
        "outputId": "ca6daeb0-0c04-41da-c9c2-8bc388024adf"
      },
      "outputs": [
        {
          "name": "stdout",
          "output_type": "stream",
          "text": [
            "Key error: 0\n"
          ]
        }
      ],
      "source": [
        "try:\n",
        "    surprise_slice[0]\n",
        "except KeyError as e:\n",
        "    print(\"Key error:\", e)"
      ]
    },
    {
      "cell_type": "markdown",
      "metadata": {
        "id": "o1KFyOUBYqVN"
      },
      "source": [
        "But remember that you can access elements by integer location using the `iloc` attribute. This illustrates another reason why it's always better to use `loc` and `iloc` to access `Series` objects:"
      ]
    },
    {
      "cell_type": "code",
      "execution_count": null,
      "metadata": {
        "id": "14rkcwg_YqVN",
        "outputId": "25fa998f-9dc6-452d-ae34-c71c24a1187b"
      },
      "outputs": [
        {
          "data": {
            "text/plain": [
              "1002"
            ]
          },
          "execution_count": 25,
          "metadata": {},
          "output_type": "execute_result"
        }
      ],
      "source": [
        "surprise_slice.iloc[0]"
      ]
    },
    {
      "cell_type": "markdown",
      "metadata": {
        "id": "xBXwpjTfYqVN"
      },
      "source": [
        "## Init from `dict`\n",
        "You can create a `Series` object from a `dict`. The keys will be used as index labels:"
      ]
    },
    {
      "cell_type": "code",
      "execution_count": null,
      "metadata": {
        "id": "H0apq1BMYqVN",
        "outputId": "d5b9d2b6-fbaf-4bf7-c511-bed57b37528c",
        "colab": {
          "base_uri": "https://localhost:8080/"
        }
      },
      "outputs": [
        {
          "output_type": "execute_result",
          "data": {
            "text/plain": [
              "alice     68\n",
              "bob       83\n",
              "colin     86\n",
              "darwin    68\n",
              "dtype: int64"
            ]
          },
          "metadata": {},
          "execution_count": 20
        }
      ],
      "source": [
        "weights = {\"alice\": 68, \"bob\": 83, \"colin\": 86, \"darwin\": 68}\n",
        "s3 = pd.Series(weights)\n",
        "s3"
      ]
    },
    {
      "cell_type": "markdown",
      "metadata": {
        "id": "6s2y1cCGYqVO"
      },
      "source": [
        "You can control which elements you want to include in the `Series` and in what order by explicitly specifying the desired `index`:"
      ]
    },
    {
      "cell_type": "code",
      "execution_count": null,
      "metadata": {
        "id": "gP2ZRbV3YqVO",
        "outputId": "638f18cb-be3c-4326-efb5-61ce7b101fb0",
        "colab": {
          "base_uri": "https://localhost:8080/"
        }
      },
      "outputs": [
        {
          "output_type": "execute_result",
          "data": {
            "text/plain": [
              "colin    86\n",
              "alice    68\n",
              "dtype: int64"
            ]
          },
          "metadata": {},
          "execution_count": 21
        }
      ],
      "source": [
        "s4 = pd.Series(weights, index = [\"colin\", \"alice\"])\n",
        "s4"
      ]
    },
    {
      "cell_type": "markdown",
      "metadata": {
        "id": "0DqmEIVxYqVO"
      },
      "source": [
        "## Automatic alignment\n",
        "When an operation involves multiple `Series` objects, `pandas` automatically aligns items by matching index labels."
      ]
    },
    {
      "cell_type": "code",
      "execution_count": null,
      "metadata": {
        "id": "M1AaXlttYqVO",
        "outputId": "800ae317-1493-4a90-afbe-26ba5b2bb77a"
      },
      "outputs": [
        {
          "ename": "ZeroDivisionError",
          "evalue": "division by zero",
          "output_type": "error",
          "traceback": [
            "\u001b[0;31m---------------------------------------------------------------------------\u001b[0m",
            "\u001b[0;31mZeroDivisionError\u001b[0m                         Traceback (most recent call last)",
            "\u001b[0;32m<ipython-input-25-a0641230c7a8>\u001b[0m in \u001b[0;36m<module>\u001b[0;34m()\u001b[0m\n\u001b[0;32m----> 1\u001b[0;31m \u001b[0;36m3\u001b[0m\u001b[0;34m/\u001b[0m\u001b[0;36m0\u001b[0m\u001b[0;34m\u001b[0m\u001b[0m\n\u001b[0m",
            "\u001b[0;31mZeroDivisionError\u001b[0m: division by zero"
          ]
        }
      ],
      "source": [
        "3/0"
      ]
    },
    {
      "cell_type": "code",
      "execution_count": null,
      "metadata": {
        "scrolled": true,
        "id": "2rhdZcaBYqVO",
        "outputId": "85a8ab25-5119-4a79-d435-5b57105cdc05",
        "colab": {
          "base_uri": "https://localhost:8080/"
        }
      },
      "outputs": [
        {
          "output_type": "stream",
          "name": "stdout",
          "text": [
            "alice       76\n",
            "bob         83\n",
            "charles    112\n",
            "darwin      68\n",
            "dtype: int64\n",
            "\n",
            "alice     68\n",
            "bob       83\n",
            "colin     86\n",
            "darwin    68\n",
            "dtype: int64\n",
            "\n",
            "Index(['alice', 'bob', 'charles', 'darwin'], dtype='object')\n",
            "Index(['alice', 'bob', 'colin', 'darwin'], dtype='object')\n"
          ]
        },
        {
          "output_type": "execute_result",
          "data": {
            "text/plain": [
              "alice      144.0\n",
              "bob        166.0\n",
              "charles      NaN\n",
              "colin        NaN\n",
              "darwin     136.0\n",
              "dtype: float64"
            ]
          },
          "metadata": {},
          "execution_count": 30
        }
      ],
      "source": [
        "print(s2)\n",
        "print()\n",
        "print(s3)\n",
        "print()\n",
        "print(s2.keys())\n",
        "print(s3.keys())\n",
        "\n",
        "s2 + s3"
      ]
    },
    {
      "cell_type": "markdown",
      "metadata": {
        "id": "r_NvrhmpYqVO"
      },
      "source": [
        "The resulting `Series` contains the union of index labels from `s2` and `s3`. Since `\"colin\"` is missing from `s2` and `\"charles\"` is missing from `s3`, these items have a `NaN` result value. (ie. Not-a-Number means *missing*).\n",
        "\n",
        "Automatic alignment is very handy when working with data that may come from various sources with varying structure and missing items. But if you forget to set the right index labels, you can have surprising results:"
      ]
    },
    {
      "cell_type": "code",
      "execution_count": null,
      "metadata": {
        "id": "MvVCQNPRYqVP",
        "outputId": "30e6dec3-f605-4f12-a421-43766c4c5c38"
      },
      "outputs": [
        {
          "name": "stdout",
          "output_type": "stream",
          "text": [
            "s2 = [ 68  83 112  68]\n",
            "s5 = [1000 1000 1000 1000]\n"
          ]
        },
        {
          "data": {
            "text/plain": [
              "0         NaN\n",
              "1         NaN\n",
              "2         NaN\n",
              "3         NaN\n",
              "alice     NaN\n",
              "bob       NaN\n",
              "charles   NaN\n",
              "darwin    NaN\n",
              "dtype: float64"
            ]
          },
          "execution_count": 26,
          "metadata": {},
          "output_type": "execute_result"
        }
      ],
      "source": [
        "s5 = pd.Series([1000,1000,1000,1000])\n",
        "print(\"s2 =\", s2.values)\n",
        "print(\"s5 =\", s5.values)\n",
        "\n",
        "s2 + s5"
      ]
    },
    {
      "cell_type": "markdown",
      "metadata": {
        "id": "HH2lE1-rYqVP"
      },
      "source": [
        "Pandas could not align the `Series`, since their labels do not match at all, hence the full `NaN` result."
      ]
    },
    {
      "cell_type": "markdown",
      "metadata": {
        "id": "LpSArSuVYqVP"
      },
      "source": [
        "## Init with a scalar\n",
        "You can also initialize a `Series` object using a scalar and a list of index labels: all items will be set to the scalar."
      ]
    },
    {
      "cell_type": "code",
      "execution_count": null,
      "metadata": {
        "id": "VNtxGZLUYqVP",
        "outputId": "8c182280-8230-4a2a-8fa0-76d79215eba0"
      },
      "outputs": [
        {
          "data": {
            "text/plain": [
              "life          42\n",
              "universe      42\n",
              "everything    42\n",
              "dtype: int64"
            ]
          },
          "execution_count": 35,
          "metadata": {},
          "output_type": "execute_result"
        }
      ],
      "source": [
        "meaning = pd.Series(42, [\"life\", \"universe\", \"everything\"])\n",
        "meaning"
      ]
    },
    {
      "cell_type": "markdown",
      "metadata": {
        "id": "Jpdp1XETYqVP"
      },
      "source": [
        "## `Series` name\n",
        "A `Series` can have a `name`:"
      ]
    },
    {
      "cell_type": "code",
      "execution_count": null,
      "metadata": {
        "id": "UqTanK3EYqVP",
        "outputId": "5ccb62d5-b309-46f8-b3a7-081be89a6e21"
      },
      "outputs": [
        {
          "data": {
            "text/plain": [
              "bob      83\n",
              "alice    68\n",
              "Name: weights, dtype: int64"
            ]
          },
          "execution_count": 36,
          "metadata": {},
          "output_type": "execute_result"
        }
      ],
      "source": [
        "s6 = pd.Series([83, 68], index=[\"bob\", \"alice\"], name=\"weights\")\n",
        "s6"
      ]
    },
    {
      "cell_type": "markdown",
      "metadata": {
        "id": "4NQYLjUHYqVQ"
      },
      "source": [
        "## Plotting a `Series`\n",
        "Pandas makes it easy to plot `Series` data using matplotlib (for more details on matplotlib, check out the [matplotlib tutorial](tools_matplotlib.ipynb)). Just import matplotlib and call the `plot` method:"
      ]
    },
    {
      "cell_type": "code",
      "execution_count": null,
      "metadata": {
        "id": "jomM7w5lYqVQ",
        "outputId": "d96e6497-ecaa-4c47-dcd3-34da3d3cd19d"
      },
      "outputs": [
        {
          "data": {
            "text/plain": [
              "12"
            ]
          },
          "execution_count": 39,
          "metadata": {},
          "output_type": "execute_result"
        }
      ],
      "source": [
        "len(temperatures)"
      ]
    },
    {
      "cell_type": "code",
      "execution_count": null,
      "metadata": {
        "scrolled": true,
        "id": "o5V-mKzLYqVR",
        "outputId": "e68d8bd8-a175-4bcf-be9c-779a9c309409",
        "colab": {
          "base_uri": "https://localhost:8080/",
          "height": 265
        }
      },
      "outputs": [
        {
          "output_type": "display_data",
          "data": {
            "image/png": "[encoded data removed]",
            "text/plain": [
              "<Figure size 432x288 with 1 Axes>"
            ]
          },
          "metadata": {
            "needs_background": "light"
          }
        }
      ],
      "source": [
        "%matplotlib inline\n",
        "import matplotlib.pyplot as plt\n",
        "temperatures = [4.4,5.1,6.1,6.2,6.1,6.1,5.7,5.2,4.7,4.1,3.9,3.5]\n",
        "ind = ['Jan','Feb','Mar', 'Apr','May','Jun','Jul','Aug', 'Sep', 'Oct', 'Nov', 'Dec']\n",
        "s7 = pd.Series(temperatures, name=\"Temperature\", index =ind )\n",
        "s7.plot()\n",
        "plt.show()"
      ]
    },
    {
      "cell_type": "markdown",
      "metadata": {
        "id": "KnSyz5ITYqVR"
      },
      "source": [
        "There are *many* options for plotting your data. It is not necessary to list them all here: if you need a particular type of plot (histograms, pie charts, etc.), just look for it in the excellent [Visualization](http://pandas.pydata.org/pandas-docs/stable/visualization.html) section of pandas' documentation, and look at the example code."
      ]
    },
    {
      "cell_type": "markdown",
      "metadata": {
        "id": "l0movVyxYqVS"
      },
      "source": [
        "# Handling time\n",
        "Many datasets have timestamps, and pandas is awesome at manipulating such data:\n",
        "* it can represent periods (such as 2016Q3) and frequencies (such as \"monthly\"),\n",
        "* it can convert periods to actual timestamps, and *vice versa*,\n",
        "* it can resample data and aggregate values any way you like,\n",
        "* it can handle timezones.\n",
        "\n",
        "## Time range\n",
        "Let's start by creating a time series using `timerange`. This returns a `DatetimeIndex` containing one datetime per hour for 12 hours starting on October 29th 2016 at 5:30pm."
      ]
    },
    {
      "cell_type": "code",
      "execution_count": null,
      "metadata": {
        "id": "XhoJ_8IDYqVS",
        "outputId": "dc732a30-a737-4f25-e4eb-2538a3e3ceb4"
      },
      "outputs": [
        {
          "data": {
            "text/plain": [
              "[3, 5, 7, 9, 11, 13, 15, 17, 19]"
            ]
          },
          "execution_count": 44,
          "metadata": {},
          "output_type": "execute_result"
        }
      ],
      "source": [
        "list(range(3,20,2))"
      ]
    },
    {
      "cell_type": "code",
      "execution_count": null,
      "metadata": {
        "id": "2DmBE4BUYqVS",
        "outputId": "6625a5ea-b9e9-4e8b-a8bd-a51c7fb29001",
        "colab": {
          "base_uri": "https://localhost:8080/"
        }
      },
      "outputs": [
        {
          "output_type": "execute_result",
          "data": {
            "text/plain": [
              "DatetimeIndex(['2016-10-29 17:30:00', '2016-10-29 18:30:00',\n",
              "               '2016-10-29 19:30:00', '2016-10-29 20:30:00',\n",
              "               '2016-10-29 21:30:00', '2016-10-29 22:30:00',\n",
              "               '2016-10-29 23:30:00', '2016-10-30 00:30:00',\n",
              "               '2016-10-30 01:30:00', '2016-10-30 02:30:00',\n",
              "               '2016-10-30 03:30:00', '2016-10-30 04:30:00'],\n",
              "              dtype='datetime64[ns]', freq='H')"
            ]
          },
          "metadata": {},
          "execution_count": 32
        }
      ],
      "source": [
        "dates = pd.date_range('2016/10/29 5:30pm', periods=12, freq='H')\n",
        "dates"
      ]
    },
    {
      "cell_type": "markdown",
      "metadata": {
        "id": "byexBMIwYqVS"
      },
      "source": [
        "This `DatetimeIndex` may be used as an index in a `Series`:"
      ]
    },
    {
      "cell_type": "code",
      "execution_count": null,
      "metadata": {
        "id": "8OTs7xPGYqVS",
        "outputId": "53cbc5ce-70bd-4e8d-ba7a-b782077bb559",
        "colab": {
          "base_uri": "https://localhost:8080/"
        }
      },
      "outputs": [
        {
          "output_type": "execute_result",
          "data": {
            "text/plain": [
              "2016-10-29 17:30:00    4.4\n",
              "2016-10-29 18:30:00    5.1\n",
              "2016-10-29 19:30:00    6.1\n",
              "2016-10-29 20:30:00    6.2\n",
              "2016-10-29 21:30:00    6.1\n",
              "2016-10-29 22:30:00    6.1\n",
              "2016-10-29 23:30:00    5.7\n",
              "2016-10-30 00:30:00    5.2\n",
              "2016-10-30 01:30:00    4.7\n",
              "2016-10-30 02:30:00    4.1\n",
              "2016-10-30 03:30:00    3.9\n",
              "2016-10-30 04:30:00    3.5\n",
              "Freq: H, dtype: float64"
            ]
          },
          "metadata": {},
          "execution_count": 51
        }
      ],
      "source": [
        "temp_series = pd.Series(temperatures, dates)\n",
        "temp_series"
      ]
    },
    {
      "cell_type": "markdown",
      "metadata": {
        "id": "vaAjLd10YqVS"
      },
      "source": [
        "Let's plot this series:"
      ]
    },
    {
      "cell_type": "code",
      "execution_count": null,
      "metadata": {
        "id": "gy8HC-OmYqVS",
        "outputId": "32f75055-8dc3-4cd2-ddb5-2b9fed4a96ad",
        "colab": {
          "base_uri": "https://localhost:8080/",
          "height": 361
        }
      },
      "outputs": [
        {
          "output_type": "display_data",
          "data": {
            "image/png": "[encoded data removed]",
            "text/plain": [
              "<Figure size 432x288 with 1 Axes>"
            ]
          },
          "metadata": {
            "needs_background": "light"
          }
        }
      ],
      "source": [
        "temp_series.plot(kind=\"bar\")\n",
        "\n",
        "#plt.grid(True)\n",
        "plt.show()"
      ]
    },
    {
      "cell_type": "markdown",
      "metadata": {
        "id": "bC44NGT3YqVT"
      },
      "source": [
        "## Resampling\n",
        "Pandas let's us resample a time series very simply. Just call the `resample` method and specify a new frequency:"
      ]
    },
    {
      "cell_type": "code",
      "execution_count": null,
      "metadata": {
        "id": "FlNb4fbAYqVT",
        "outputId": "e090e3fc-1b47-4b82-dbb6-911856f14cb8",
        "colab": {
          "base_uri": "https://localhost:8080/"
        }
      },
      "outputs": [
        {
          "output_type": "execute_result",
          "data": {
            "text/plain": [
              "2016-10-29 16:00:00    4.40\n",
              "2016-10-29 18:00:00    5.60\n",
              "2016-10-29 20:00:00    6.15\n",
              "2016-10-29 22:00:00    5.90\n",
              "2016-10-30 00:00:00    4.95\n",
              "2016-10-30 02:00:00    4.00\n",
              "2016-10-30 04:00:00    3.50\n",
              "Freq: 2H, dtype: float64"
            ]
          },
          "metadata": {},
          "execution_count": 54
        }
      ],
      "source": [
        "temp_series_freq_2H = temp_series.resample(\"2H\").mean()\n",
        "temp_series_freq_2H"
      ]
    },
    {
      "cell_type": "markdown",
      "metadata": {
        "id": "URerBvjgYqVT"
      },
      "source": [
        "Let's take a look at the result:"
      ]
    },
    {
      "cell_type": "code",
      "execution_count": null,
      "metadata": {
        "id": "a8bMymFzYqVT",
        "outputId": "354f280f-9f48-452e-9193-6ecfeb84672a",
        "colab": {
          "base_uri": "https://localhost:8080/",
          "height": 361
        }
      },
      "outputs": [
        {
          "output_type": "display_data",
          "data": {
            "image/png": "[encoded data removed]",
            "text/plain": [
              "<Figure size 432x288 with 1 Axes>"
            ]
          },
          "metadata": {
            "needs_background": "light"
          }
        }
      ],
      "source": [
        "temp_series_freq_2H.plot(kind=\"bar\")\n",
        "plt.show()"
      ]
    },
    {
      "cell_type": "markdown",
      "metadata": {
        "id": "M8bVlHCrYqVT"
      },
      "source": [
        "Note how the values have automatically been aggregated into 2-hour periods. If we look at the 6-8pm period, for example, we had a value of `5.1` at 6:30pm, and `6.1` at 7:30pm. After resampling, we just have one value of `5.6`, which is the mean of `5.1` and `6.1`. Computing the mean is the default behavior, but it is also possible to use a different aggregation function, for example we can decide to keep the minimum value of each period:"
      ]
    },
    {
      "cell_type": "code",
      "execution_count": null,
      "metadata": {
        "id": "q_ZPmAYBYqVT",
        "outputId": "a05a6c07-e737-4205-f0b9-a7f492580ef1",
        "colab": {
          "base_uri": "https://localhost:8080/"
        }
      },
      "outputs": [
        {
          "output_type": "execute_result",
          "data": {
            "text/plain": [
              "2016-10-29 16:00:00    4.4\n",
              "2016-10-29 18:00:00    5.1\n",
              "2016-10-29 20:00:00    6.1\n",
              "2016-10-29 22:00:00    5.7\n",
              "2016-10-30 00:00:00    4.7\n",
              "2016-10-30 02:00:00    3.9\n",
              "2016-10-30 04:00:00    3.5\n",
              "Freq: 2H, dtype: float64"
            ]
          },
          "metadata": {},
          "execution_count": 56
        }
      ],
      "source": [
        "temp_series_freq_2H = temp_series.resample(\"2H\").min()\n",
        "temp_series_freq_2H"
      ]
    },
    {
      "cell_type": "markdown",
      "metadata": {
        "id": "vujKNH4KYqVT"
      },
      "source": [
        "## Upsampling and interpolation\n",
        "This was an example of downsampling. We can also upsample (ie. increase the frequency), but this creates holes in our data:"
      ]
    },
    {
      "cell_type": "code",
      "execution_count": null,
      "metadata": {
        "id": "_3aQIjm2YqVT",
        "outputId": "53a2cdb8-a0b5-483d-c7a1-7b687fab0ba6"
      },
      "outputs": [
        {
          "data": {
            "text/plain": [
              "2016-10-29 17:30:00    4.4\n",
              "2016-10-29 17:45:00    NaN\n",
              "2016-10-29 18:00:00    NaN\n",
              "2016-10-29 18:15:00    NaN\n",
              "2016-10-29 18:30:00    5.1\n",
              "2016-10-29 18:45:00    NaN\n",
              "2016-10-29 19:00:00    NaN\n",
              "2016-10-29 19:15:00    NaN\n",
              "2016-10-29 19:30:00    6.1\n",
              "2016-10-29 19:45:00    NaN\n",
              "Freq: 15T, dtype: float64"
            ]
          },
          "execution_count": 31,
          "metadata": {},
          "output_type": "execute_result"
        }
      ],
      "source": [
        "temp_series_freq_15min = temp_series.resample(\"15Min\")\n",
        "temp_series_freq_15min.head(n=10) # `head` displays the top n values"
      ]
    },
    {
      "cell_type": "markdown",
      "metadata": {
        "id": "OHHBiyGPYqVU"
      },
      "source": [
        "One solution is to fill the gaps by interpolating. We just call the `interpolate` method. The default is to use linear interpolation, but we can also select another method, such as cubic interpolation:"
      ]
    },
    {
      "cell_type": "code",
      "execution_count": null,
      "metadata": {
        "scrolled": true,
        "id": "iOp9l0s6YqVU",
        "outputId": "99bdf4d1-e9f9-429e-b396-785af8787065"
      },
      "outputs": [
        {
          "data": {
            "text/plain": [
              "2016-10-29 17:30:00    4.400000\n",
              "2016-10-29 17:45:00    4.430644\n",
              "2016-10-29 18:00:00    4.582074\n",
              "2016-10-29 18:15:00    4.817467\n",
              "2016-10-29 18:30:00    5.100000\n",
              "2016-10-29 18:45:00    5.394958\n",
              "2016-10-29 19:00:00    5.676060\n",
              "2016-10-29 19:15:00    5.919132\n",
              "2016-10-29 19:30:00    6.100000\n",
              "2016-10-29 19:45:00    6.202023\n",
              "Freq: 15T, dtype: float64"
            ]
          },
          "execution_count": 32,
          "metadata": {},
          "output_type": "execute_result"
        }
      ],
      "source": [
        "temp_series_freq_15min = temp_series.resample(\"15Min\").interpolate(method=\"cubic\")\n",
        "temp_series_freq_15min.head(n=10)"
      ]
    },
    {
      "cell_type": "code",
      "execution_count": null,
      "metadata": {
        "id": "lPrFIdU7YqVU",
        "outputId": "a450ae50-d00e-4619-e891-e4aa3a890feb"
      },
      "outputs": [
        {
          "data": {
            "image/png": "[encoded data removed]",
            "text/plain": [
              "<matplotlib.figure.Figure at 0x10aef3ed0>"
            ]
          },
          "metadata": {},
          "output_type": "display_data"
        }
      ],
      "source": [
        "temp_series.plot(label=\"Period: 1 hour\")\n",
        "temp_series_freq_15min.plot(label=\"Period: 15 minutes\")\n",
        "plt.legend()\n",
        "plt.show()"
      ]
    },
    {
      "cell_type": "markdown",
      "metadata": {
        "id": "fc0uE5PBYqVU"
      },
      "source": [
        "## Timezones\n",
        "By default datetimes are *naive*: they are not aware of timezones, so 2016-10-30 02:30 might mean October 30th 2016 at 2:30am in Paris or in New York. We can make datetimes timezone *aware* by calling the `tz_localize` method:"
      ]
    },
    {
      "cell_type": "code",
      "source": [
        "temp_series"
      ],
      "metadata": {
        "id": "1IaacvaAzrG0",
        "outputId": "b7bfbffb-bee7-4d01-8ed2-3b37f4987523",
        "colab": {
          "base_uri": "https://localhost:8080/"
        }
      },
      "execution_count": null,
      "outputs": [
        {
          "output_type": "execute_result",
          "data": {
            "text/plain": [
              "2016-10-29 17:30:00    4.4\n",
              "2016-10-29 18:30:00    5.1\n",
              "2016-10-29 19:30:00    6.1\n",
              "2016-10-29 20:30:00    6.2\n",
              "2016-10-29 21:30:00    6.1\n",
              "2016-10-29 22:30:00    6.1\n",
              "2016-10-29 23:30:00    5.7\n",
              "2016-10-30 00:30:00    5.2\n",
              "2016-10-30 01:30:00    4.7\n",
              "2016-10-30 02:30:00    4.1\n",
              "2016-10-30 03:30:00    3.9\n",
              "2016-10-30 04:30:00    3.5\n",
              "Freq: H, dtype: float64"
            ]
          },
          "metadata": {},
          "execution_count": 42
        }
      ]
    },
    {
      "cell_type": "code",
      "execution_count": null,
      "metadata": {
        "id": "TCZyYAz5YqVU",
        "outputId": "3a87b2df-c3c9-4644-eb0c-40afae7ffb83",
        "colab": {
          "base_uri": "https://localhost:8080/"
        }
      },
      "outputs": [
        {
          "output_type": "execute_result",
          "data": {
            "text/plain": [
              "2016-10-29 17:30:00-04:00    4.4\n",
              "2016-10-29 18:30:00-04:00    5.1\n",
              "2016-10-29 19:30:00-04:00    6.1\n",
              "2016-10-29 20:30:00-04:00    6.2\n",
              "2016-10-29 21:30:00-04:00    6.1\n",
              "2016-10-29 22:30:00-04:00    6.1\n",
              "2016-10-29 23:30:00-04:00    5.7\n",
              "2016-10-30 00:30:00-04:00    5.2\n",
              "2016-10-30 01:30:00-04:00    4.7\n",
              "2016-10-30 02:30:00-04:00    4.1\n",
              "2016-10-30 03:30:00-04:00    3.9\n",
              "2016-10-30 04:30:00-04:00    3.5\n",
              "dtype: float64"
            ]
          },
          "metadata": {},
          "execution_count": 44
        }
      ],
      "source": [
        "temp_series_ny = temp_series.tz_localize(\"America/New_York\")\n",
        "temp_series_ny"
      ]
    },
    {
      "cell_type": "markdown",
      "metadata": {
        "id": "-E9w8fBwYqVU"
      },
      "source": [
        "Note that `-04:00` is now appended to all the datetimes. This means that these datetimes refer to [UTC](https://en.wikipedia.org/wiki/Coordinated_Universal_Time) - 4 hours.\n",
        "\n",
        "We can convert these datetimes to Paris time like this:"
      ]
    },
    {
      "cell_type": "code",
      "execution_count": null,
      "metadata": {
        "id": "83hy-jXDYqVU",
        "outputId": "f216430a-ffb2-4ce5-b246-9b3f59f40a86",
        "colab": {
          "base_uri": "https://localhost:8080/"
        }
      },
      "outputs": [
        {
          "output_type": "execute_result",
          "data": {
            "text/plain": [
              "2016-10-29 23:30:00+02:00    4.4\n",
              "2016-10-30 00:30:00+02:00    5.1\n",
              "2016-10-30 01:30:00+02:00    6.1\n",
              "2016-10-30 02:30:00+02:00    6.2\n",
              "2016-10-30 02:30:00+01:00    6.1\n",
              "2016-10-30 03:30:00+01:00    6.1\n",
              "2016-10-30 04:30:00+01:00    5.7\n",
              "2016-10-30 05:30:00+01:00    5.2\n",
              "2016-10-30 06:30:00+01:00    4.7\n",
              "2016-10-30 07:30:00+01:00    4.1\n",
              "2016-10-30 08:30:00+01:00    3.9\n",
              "2016-10-30 09:30:00+01:00    3.5\n",
              "dtype: float64"
            ]
          },
          "metadata": {},
          "execution_count": 45
        }
      ],
      "source": [
        "temp_series_paris = temp_series_ny.tz_convert(\"Europe/Paris\")\n",
        "temp_series_paris"
      ]
    },
    {
      "cell_type": "markdown",
      "metadata": {
        "id": "jLIS_GtyYqVU"
      },
      "source": [
        "You may have noticed that the UTC offset changes from `+02:00` to `+01:00`: this is because France switches to winter time at 3am that particular night (time goes back to 2am). Notice that 2:30am occurs twice! Let's go back to a naive representation (if you log some data hourly using local time, without storing the timezone, you might get something like this):"
      ]
    },
    {
      "cell_type": "code",
      "execution_count": null,
      "metadata": {
        "id": "aiRBzastYqVV",
        "outputId": "e86ac2c6-03f9-4736-ca3c-124e673fc0b8"
      },
      "outputs": [
        {
          "data": {
            "text/plain": [
              "2016-10-29 23:30:00    4.4\n",
              "2016-10-30 00:30:00    5.1\n",
              "2016-10-30 01:30:00    6.1\n",
              "2016-10-30 02:30:00    6.2\n",
              "2016-10-30 02:30:00    6.1\n",
              "2016-10-30 03:30:00    6.1\n",
              "2016-10-30 04:30:00    5.7\n",
              "2016-10-30 05:30:00    5.2\n",
              "2016-10-30 06:30:00    4.7\n",
              "2016-10-30 07:30:00    4.1\n",
              "2016-10-30 08:30:00    3.9\n",
              "2016-10-30 09:30:00    3.5\n",
              "Freq: H, dtype: float64"
            ]
          },
          "execution_count": 36,
          "metadata": {},
          "output_type": "execute_result"
        }
      ],
      "source": [
        "temp_series_paris_naive = temp_series_paris.tz_localize(None)\n",
        "temp_series_paris_naive"
      ]
    },
    {
      "cell_type": "markdown",
      "metadata": {
        "id": "jCTSVbVXYqVV"
      },
      "source": [
        "Now `02:30` is really ambiguous. If we try to localize these naive datetimes to the Paris timezone, we get an error:"
      ]
    },
    {
      "cell_type": "code",
      "execution_count": null,
      "metadata": {
        "id": "71qb5lUvYqVV",
        "outputId": "1fdae1e6-8df3-414b-c8b0-f5f2a40be3ed"
      },
      "outputs": [
        {
          "name": "stdout",
          "output_type": "stream",
          "text": [
            "<class 'pytz.exceptions.AmbiguousTimeError'>\n",
            "Cannot infer dst time from Timestamp('2016-10-30 02:30:00'), try using the 'ambiguous' argument\n"
          ]
        }
      ],
      "source": [
        "try:\n",
        "    temp_series_paris_naive.tz_localize(\"Europe/Paris\")\n",
        "except Exception as e:\n",
        "    print(type(e))\n",
        "    print(e)"
      ]
    },
    {
      "cell_type": "markdown",
      "metadata": {
        "id": "VkOLKMZsYqVV"
      },
      "source": [
        "Fortunately using the `ambiguous` argument we can tell pandas to infer the right DST (Daylight Saving Time) based on the order of the ambiguous timestamps:"
      ]
    },
    {
      "cell_type": "code",
      "execution_count": null,
      "metadata": {
        "id": "BFV70ekgYqVV",
        "outputId": "ae66a8d6-a1ee-48fc-b886-8c9c963bab3e"
      },
      "outputs": [
        {
          "data": {
            "text/plain": [
              "2016-10-29 23:30:00+02:00    4.4\n",
              "2016-10-30 00:30:00+02:00    5.1\n",
              "2016-10-30 01:30:00+02:00    6.1\n",
              "2016-10-30 02:30:00+02:00    6.2\n",
              "2016-10-30 02:30:00+01:00    6.1\n",
              "2016-10-30 03:30:00+01:00    6.1\n",
              "2016-10-30 04:30:00+01:00    5.7\n",
              "2016-10-30 05:30:00+01:00    5.2\n",
              "2016-10-30 06:30:00+01:00    4.7\n",
              "2016-10-30 07:30:00+01:00    4.1\n",
              "2016-10-30 08:30:00+01:00    3.9\n",
              "2016-10-30 09:30:00+01:00    3.5\n",
              "Freq: H, dtype: float64"
            ]
          },
          "execution_count": 38,
          "metadata": {},
          "output_type": "execute_result"
        }
      ],
      "source": [
        "temp_series_paris_naive.tz_localize(\"Europe/Paris\", ambiguous=\"infer\")"
      ]
    },
    {
      "cell_type": "markdown",
      "metadata": {
        "id": "DtNHS4SmYqVV"
      },
      "source": [
        "## Periods\n",
        "The `period_range` function returns a `PeriodIndex` instead of a `DatetimeIndex`. For example, let's get all quarters in 2016 and 2017:"
      ]
    },
    {
      "cell_type": "code",
      "execution_count": null,
      "metadata": {
        "id": "qlKr1Qn4YqVV",
        "outputId": "818c13d2-7d7d-472f-b6cf-0b3abb48ffe4"
      },
      "outputs": [
        {
          "data": {
            "text/plain": [
              "PeriodIndex(['2016Q1', '2016Q2', '2016Q3', '2016Q4', '2017Q1', '2017Q2',\n",
              "             '2017Q3', '2017Q4'],\n",
              "            dtype='int64', freq='Q-DEC')"
            ]
          },
          "execution_count": 39,
          "metadata": {},
          "output_type": "execute_result"
        }
      ],
      "source": [
        "quarters = pd.period_range('2016Q1', periods=8, freq='Q')\n",
        "quarters"
      ]
    },
    {
      "cell_type": "markdown",
      "metadata": {
        "id": "SUykki0EYqVV"
      },
      "source": [
        "Adding a number `N` to a `PeriodIndex` shifts the periods by `N` times the `PeriodIndex`'s frequency:"
      ]
    },
    {
      "cell_type": "code",
      "execution_count": null,
      "metadata": {
        "id": "BrbpC7OgYqVW",
        "outputId": "09a6d832-5307-4c2d-baa5-9d2ac9c39e38"
      },
      "outputs": [
        {
          "data": {
            "text/plain": [
              "PeriodIndex(['2016Q4', '2017Q1', '2017Q2', '2017Q3', '2017Q4', '2018Q1',\n",
              "             '2018Q2', '2018Q3'],\n",
              "            dtype='int64', freq='Q-DEC')"
            ]
          },
          "execution_count": 40,
          "metadata": {},
          "output_type": "execute_result"
        }
      ],
      "source": [
        "quarters + 3"
      ]
    },
    {
      "cell_type": "markdown",
      "metadata": {
        "id": "fse-9SdzYqVW"
      },
      "source": [
        "The `asfreq` method lets us change the frequency of the `PeriodIndex`. All periods are lengthened or shortened accordingly. For example, let's convert all the quarterly periods to monthly periods (zooming in):"
      ]
    },
    {
      "cell_type": "code",
      "execution_count": null,
      "metadata": {
        "id": "p00AOpCqYqVW",
        "outputId": "5c446260-568c-4143-a9fe-d5ebb450433f"
      },
      "outputs": [
        {
          "data": {
            "text/plain": [
              "PeriodIndex(['2016-03', '2016-06', '2016-09', '2016-12', '2017-03', '2017-06',\n",
              "             '2017-09', '2017-12'],\n",
              "            dtype='int64', freq='M')"
            ]
          },
          "execution_count": 41,
          "metadata": {},
          "output_type": "execute_result"
        }
      ],
      "source": [
        "quarters.asfreq(\"M\")"
      ]
    },
    {
      "cell_type": "markdown",
      "metadata": {
        "id": "OWXmxSI4YqVW"
      },
      "source": [
        "By default, the `asfreq` zooms on the end of each period. We can tell it to zoom on the start of each period instead:"
      ]
    },
    {
      "cell_type": "code",
      "execution_count": null,
      "metadata": {
        "id": "dDJJ9WD8YqVW",
        "outputId": "3c7c0802-1855-43ca-9b9f-cd601507b92b"
      },
      "outputs": [
        {
          "data": {
            "text/plain": [
              "PeriodIndex(['2016-01', '2016-04', '2016-07', '2016-10', '2017-01', '2017-04',\n",
              "             '2017-07', '2017-10'],\n",
              "            dtype='int64', freq='M')"
            ]
          },
          "execution_count": 42,
          "metadata": {},
          "output_type": "execute_result"
        }
      ],
      "source": [
        "quarters.asfreq(\"M\", how=\"start\")"
      ]
    },
    {
      "cell_type": "markdown",
      "metadata": {
        "id": "tm6ipFBJYqVW"
      },
      "source": [
        "And we can zoom out:"
      ]
    },
    {
      "cell_type": "code",
      "execution_count": null,
      "metadata": {
        "id": "TEKerYBrYqVW",
        "outputId": "5d8c9fca-ab50-468a-df54-48ac7c17bb52"
      },
      "outputs": [
        {
          "data": {
            "text/plain": [
              "PeriodIndex(['2016', '2016', '2016', '2016', '2017', '2017', '2017', '2017'], dtype='int64', freq='A-DEC')"
            ]
          },
          "execution_count": 43,
          "metadata": {},
          "output_type": "execute_result"
        }
      ],
      "source": [
        "quarters.asfreq(\"A\")"
      ]
    },
    {
      "cell_type": "markdown",
      "metadata": {
        "id": "rqrXSLYsYqVW"
      },
      "source": [
        "Of course we can create a `Series` with a `PeriodIndex`:"
      ]
    },
    {
      "cell_type": "code",
      "execution_count": null,
      "metadata": {
        "id": "-Eqr1ygZYqVX",
        "outputId": "7aa69bc1-b7c4-432f-eb90-bd68217e1bea"
      },
      "outputs": [
        {
          "data": {
            "text/plain": [
              "2016Q1    300\n",
              "2016Q2    320\n",
              "2016Q3    290\n",
              "2016Q4    390\n",
              "2017Q1    320\n",
              "2017Q2    360\n",
              "2017Q3    310\n",
              "2017Q4    410\n",
              "Freq: Q-DEC, dtype: int64"
            ]
          },
          "execution_count": 44,
          "metadata": {},
          "output_type": "execute_result"
        }
      ],
      "source": [
        "quarterly_revenue = pd.Series([300, 320, 290, 390, 320, 360, 310, 410], index = quarters)\n",
        "quarterly_revenue"
      ]
    },
    {
      "cell_type": "code",
      "execution_count": null,
      "metadata": {
        "id": "93CnjP3WYqVX",
        "outputId": "131c1ee5-94cb-4dc0-c07b-104ac00ca9f1"
      },
      "outputs": [
        {
          "data": {
            "image/png": "[encoded data removed]",
            "text/plain": [
              "<matplotlib.figure.Figure at 0x10c056650>"
            ]
          },
          "metadata": {},
          "output_type": "display_data"
        }
      ],
      "source": [
        "quarterly_revenue.plot(kind=\"line\")\n",
        "plt.show()"
      ]
    },
    {
      "cell_type": "markdown",
      "metadata": {
        "id": "4feuLmsYYqVX"
      },
      "source": [
        "We can convert periods to timestamps by calling `to_timestamp`. By default this will give us the first day of each period, but by setting `how` and `freq`, we can get the last hour of each period:"
      ]
    },
    {
      "cell_type": "code",
      "execution_count": null,
      "metadata": {
        "id": "Y6Qg1w-HYqVX",
        "outputId": "c69003f6-0156-4c91-afc1-b1f84ea2b1a5"
      },
      "outputs": [
        {
          "data": {
            "text/plain": [
              "2016-03-31 23:00:00    300\n",
              "2016-06-30 23:00:00    320\n",
              "2016-09-30 23:00:00    290\n",
              "2016-12-31 23:00:00    390\n",
              "2017-03-31 23:00:00    320\n",
              "2017-06-30 23:00:00    360\n",
              "2017-09-30 23:00:00    310\n",
              "2017-12-31 23:00:00    410\n",
              "Freq: Q-DEC, dtype: int64"
            ]
          },
          "execution_count": 46,
          "metadata": {},
          "output_type": "execute_result"
        }
      ],
      "source": [
        "last_hours = quarterly_revenue.to_timestamp(how=\"end\", freq=\"H\")\n",
        "last_hours"
      ]
    },
    {
      "cell_type": "markdown",
      "metadata": {
        "id": "__fwStW8YqVX"
      },
      "source": [
        "And back to periods by calling `to_period`:"
      ]
    },
    {
      "cell_type": "code",
      "execution_count": null,
      "metadata": {
        "id": "fXjCc_53YqVX",
        "outputId": "6b97b48c-7e4d-4290-9631-7c1361bdfae7"
      },
      "outputs": [
        {
          "data": {
            "text/plain": [
              "2016Q1    300\n",
              "2016Q2    320\n",
              "2016Q3    290\n",
              "2016Q4    390\n",
              "2017Q1    320\n",
              "2017Q2    360\n",
              "2017Q3    310\n",
              "2017Q4    410\n",
              "Freq: Q-DEC, dtype: int64"
            ]
          },
          "execution_count": 47,
          "metadata": {},
          "output_type": "execute_result"
        }
      ],
      "source": [
        "last_hours.to_period()"
      ]
    },
    {
      "cell_type": "markdown",
      "metadata": {
        "id": "SpV8N6mjYqVX"
      },
      "source": [
        "Pandas also provides many other time-related functions that we recommend you check out in the [documentation](http://pandas.pydata.org/pandas-docs/stable/timeseries.html). To whet your appetite, here is one way to get the last business day of each month in 2016, at 9am:"
      ]
    },
    {
      "cell_type": "code",
      "execution_count": null,
      "metadata": {
        "id": "_DjmO6IBYqVX",
        "outputId": "ead5e48d-a404-4ec8-a191-08ce957fc24d"
      },
      "outputs": [
        {
          "data": {
            "text/plain": [
              "PeriodIndex(['2016-01-29 09:00', '2016-02-29 09:00', '2016-03-31 09:00',\n",
              "             '2016-04-29 09:00', '2016-05-31 09:00', '2016-06-30 09:00',\n",
              "             '2016-07-29 09:00', '2016-08-31 09:00', '2016-09-30 09:00',\n",
              "             '2016-10-31 09:00', '2016-11-30 09:00', '2016-12-30 09:00'],\n",
              "            dtype='int64', freq='H')"
            ]
          },
          "execution_count": 48,
          "metadata": {},
          "output_type": "execute_result"
        }
      ],
      "source": [
        "months_2016 = pd.period_range(\"2016\", periods=12, freq=\"M\")\n",
        "one_day_after_last_days = months_2016.asfreq(\"D\") + 1\n",
        "last_bdays = one_day_after_last_days.to_timestamp() - pd.tseries.offsets.BDay()\n",
        "last_bdays.to_period(\"H\") + 9"
      ]
    },
    {
      "cell_type": "markdown",
      "metadata": {
        "id": "XNjF5OUwYqVY"
      },
      "source": [
        "# `DataFrame` objects\n",
        "A DataFrame object represents a spreadsheet, with cell values, column names and row index labels. You can define expressions to compute columns based on other columns, create pivot-tables, group rows, draw graphs, etc. You can see `DataFrame`s as dictionaries of `Series`.\n",
        "\n",
        "## Creating a `DataFrame`\n",
        "You can create a DataFrame by passing a dictionary of `Series` objects:"
      ]
    },
    {
      "cell_type": "code",
      "execution_count": null,
      "metadata": {
        "id": "2wYMrJ-jYqVY",
        "outputId": "78d0bce0-3393-4aad-ceb7-a0c198205b84"
      },
      "outputs": [
        {
          "data": {
            "text/html": [
              "<div>\n",
              "<style scoped>\n",
              "    .dataframe tbody tr th:only-of-type {\n",
              "        vertical-align: middle;\n",
              "    }\n",
              "\n",
              "    .dataframe tbody tr th {\n",
              "        vertical-align: top;\n",
              "    }\n",
              "\n",
              "    .dataframe thead th {\n",
              "        text-align: right;\n",
              "    }\n",
              "</style>\n",
              "<table border=\"1\" class=\"dataframe\">\n",
              "  <thead>\n",
              "    <tr style=\"text-align: right;\">\n",
              "      <th></th>\n",
              "      <th>weight</th>\n",
              "      <th>birthyear</th>\n",
              "      <th>children</th>\n",
              "      <th>hobby</th>\n",
              "    </tr>\n",
              "  </thead>\n",
              "  <tbody>\n",
              "    <tr>\n",
              "      <th>alice</th>\n",
              "      <td>68</td>\n",
              "      <td>1985</td>\n",
              "      <td>NaN</td>\n",
              "      <td>Biking</td>\n",
              "    </tr>\n",
              "    <tr>\n",
              "      <th>bob</th>\n",
              "      <td>83</td>\n",
              "      <td>1984</td>\n",
              "      <td>3.0</td>\n",
              "      <td>Dancing</td>\n",
              "    </tr>\n",
              "    <tr>\n",
              "      <th>charles</th>\n",
              "      <td>112</td>\n",
              "      <td>1992</td>\n",
              "      <td>0.0</td>\n",
              "      <td>NaN</td>\n",
              "    </tr>\n",
              "  </tbody>\n",
              "</table>\n",
              "</div>"
            ],
            "text/plain": [
              "         weight  birthyear  children    hobby\n",
              "alice        68       1985       NaN   Biking\n",
              "bob          83       1984       3.0  Dancing\n",
              "charles     112       1992       0.0      NaN"
            ]
          },
          "execution_count": 49,
          "metadata": {},
          "output_type": "execute_result"
        }
      ],
      "source": [
        "people_dict = {\n",
        "    \"weight\": pd.Series([68, 83, 112], index=[\"alice\", \"bob\", \"charles\"]),\n",
        "    \"birthyear\": pd.Series([1984, 1985, 1992], index=[\"bob\", \"alice\", \"charles\"], name=\"year\"),\n",
        "    \"children\": pd.Series([0, 3], index=[\"charles\", \"bob\"]),\n",
        "    \"hobby\": pd.Series([\"Biking\", \"Dancing\"], index=[\"alice\", \"bob\"]),\n",
        "}\n",
        "people = pd.DataFrame(people_dict)\n",
        "people"
      ]
    },
    {
      "cell_type": "markdown",
      "metadata": {
        "id": "J48m2CjQYqVY"
      },
      "source": [
        "A few things to note:\n",
        "* the `Series` were automatically aligned based on their index,\n",
        "* missing values are represented as `NaN`,\n",
        "* `Series` names are ignored (the name `\"year\"` was dropped),\n",
        "* `DataFrame`s are displayed nicely in Jupyter notebooks, woohoo!"
      ]
    },
    {
      "cell_type": "markdown",
      "metadata": {
        "id": "4oJVkbT4YqVY"
      },
      "source": [
        "You can access columns pretty much as you would expect. They are returned as `Series` objects:"
      ]
    },
    {
      "cell_type": "code",
      "execution_count": null,
      "metadata": {
        "id": "9dlTGUlsYqVY",
        "outputId": "c520f029-b761-43cc-ed0f-7c949f8e09b6"
      },
      "outputs": [
        {
          "data": {
            "text/plain": [
              "alice      1985\n",
              "bob        1984\n",
              "charles    1992\n",
              "Name: birthyear, dtype: int64"
            ]
          },
          "execution_count": 50,
          "metadata": {},
          "output_type": "execute_result"
        }
      ],
      "source": [
        "people[\"birthyear\"]"
      ]
    },
    {
      "cell_type": "markdown",
      "metadata": {
        "id": "_fRgx_T2YqVZ"
      },
      "source": [
        "You can also get multiple columns at once:"
      ]
    },
    {
      "cell_type": "code",
      "execution_count": null,
      "metadata": {
        "id": "VueLSuggYqVZ",
        "outputId": "fbf67c50-3795-4799-e1ee-dc1f8c3993ef"
      },
      "outputs": [
        {
          "data": {
            "text/html": [
              "<div>\n",
              "<style scoped>\n",
              "    .dataframe tbody tr th:only-of-type {\n",
              "        vertical-align: middle;\n",
              "    }\n",
              "\n",
              "    .dataframe tbody tr th {\n",
              "        vertical-align: top;\n",
              "    }\n",
              "\n",
              "    .dataframe thead th {\n",
              "        text-align: right;\n",
              "    }\n",
              "</style>\n",
              "<table border=\"1\" class=\"dataframe\">\n",
              "  <thead>\n",
              "    <tr style=\"text-align: right;\">\n",
              "      <th></th>\n",
              "      <th>birthyear</th>\n",
              "      <th>hobby</th>\n",
              "    </tr>\n",
              "  </thead>\n",
              "  <tbody>\n",
              "    <tr>\n",
              "      <th>alice</th>\n",
              "      <td>1985</td>\n",
              "      <td>Biking</td>\n",
              "    </tr>\n",
              "    <tr>\n",
              "      <th>bob</th>\n",
              "      <td>1984</td>\n",
              "      <td>Dancing</td>\n",
              "    </tr>\n",
              "    <tr>\n",
              "      <th>charles</th>\n",
              "      <td>1992</td>\n",
              "      <td>NaN</td>\n",
              "    </tr>\n",
              "  </tbody>\n",
              "</table>\n",
              "</div>"
            ],
            "text/plain": [
              "         birthyear    hobby\n",
              "alice         1985   Biking\n",
              "bob           1984  Dancing\n",
              "charles       1992      NaN"
            ]
          },
          "execution_count": 52,
          "metadata": {},
          "output_type": "execute_result"
        }
      ],
      "source": [
        "people[[\"birthyear\", \"hobby\"]]"
      ]
    },
    {
      "cell_type": "markdown",
      "metadata": {
        "id": "XehuUS86YqVZ"
      },
      "source": [
        "If you pass a list of columns and/or index row labels to the `DataFrame` constructor, it will guarantee that these columns and/or rows will exist, in that order, and no other column/row will exist. For example:"
      ]
    },
    {
      "cell_type": "code",
      "execution_count": null,
      "metadata": {
        "id": "Eg2TTrpUYqVZ",
        "outputId": "055e1d0e-3d14-4c21-ab77-198d63045c92"
      },
      "outputs": [
        {
          "data": {
            "text/plain": [
              "{'weight': alice       68\n",
              " bob         83\n",
              " charles    112\n",
              " dtype: int64, 'birthyear': bob        1984\n",
              " alice      1985\n",
              " charles    1992\n",
              " Name: year, dtype: int64, 'children': charles    0\n",
              " bob        3\n",
              " dtype: int64, 'hobby': alice     Biking\n",
              " bob      Dancing\n",
              " dtype: object}"
            ]
          },
          "execution_count": 53,
          "metadata": {},
          "output_type": "execute_result"
        }
      ],
      "source": [
        "people_dict"
      ]
    },
    {
      "cell_type": "code",
      "execution_count": null,
      "metadata": {
        "id": "-1bgbRnLYqVZ",
        "outputId": "6c064ec6-e436-48e2-fefc-e2a680c275c4"
      },
      "outputs": [
        {
          "data": {
            "text/html": [
              "<div>\n",
              "<style scoped>\n",
              "    .dataframe tbody tr th:only-of-type {\n",
              "        vertical-align: middle;\n",
              "    }\n",
              "\n",
              "    .dataframe tbody tr th {\n",
              "        vertical-align: top;\n",
              "    }\n",
              "\n",
              "    .dataframe thead th {\n",
              "        text-align: right;\n",
              "    }\n",
              "</style>\n",
              "<table border=\"1\" class=\"dataframe\">\n",
              "  <thead>\n",
              "    <tr style=\"text-align: right;\">\n",
              "      <th></th>\n",
              "      <th>birthyear</th>\n",
              "      <th>weight</th>\n",
              "      <th>height</th>\n",
              "    </tr>\n",
              "  </thead>\n",
              "  <tbody>\n",
              "    <tr>\n",
              "      <th>bob</th>\n",
              "      <td>1984.0</td>\n",
              "      <td>83.0</td>\n",
              "      <td>NaN</td>\n",
              "    </tr>\n",
              "    <tr>\n",
              "      <th>alice</th>\n",
              "      <td>1985.0</td>\n",
              "      <td>68.0</td>\n",
              "      <td>NaN</td>\n",
              "    </tr>\n",
              "    <tr>\n",
              "      <th>eugene</th>\n",
              "      <td>NaN</td>\n",
              "      <td>NaN</td>\n",
              "      <td>NaN</td>\n",
              "    </tr>\n",
              "  </tbody>\n",
              "</table>\n",
              "</div>"
            ],
            "text/plain": [
              "        birthyear  weight height\n",
              "bob        1984.0    83.0    NaN\n",
              "alice      1985.0    68.0    NaN\n",
              "eugene        NaN     NaN    NaN"
            ]
          },
          "execution_count": 54,
          "metadata": {},
          "output_type": "execute_result"
        }
      ],
      "source": [
        "d2 = pd.DataFrame(\n",
        "        people_dict,\n",
        "        columns=[\"birthyear\", \"weight\", \"height\"],\n",
        "        index=[\"bob\", \"alice\", \"eugene\"]\n",
        "     )\n",
        "d2"
      ]
    },
    {
      "cell_type": "markdown",
      "metadata": {
        "id": "5I1mgMZkYqVZ"
      },
      "source": [
        "Another convenient way to create a `DataFrame` is to pass all the values to the constructor as an `ndarray`, or a list of lists, and specify the column names and row index labels separately:"
      ]
    },
    {
      "cell_type": "code",
      "execution_count": null,
      "metadata": {
        "id": "QMDrtAciYqVZ",
        "outputId": "ef309323-b369-4f48-d5ae-c89bf0e900a4"
      },
      "outputs": [
        {
          "data": {
            "text/html": [
              "<div>\n",
              "<table border=\"1\" class=\"dataframe\">\n",
              "  <thead>\n",
              "    <tr style=\"text-align: right;\">\n",
              "      <th></th>\n",
              "      <th>birthyear</th>\n",
              "      <th>children</th>\n",
              "      <th>hobby</th>\n",
              "      <th>weight</th>\n",
              "    </tr>\n",
              "  </thead>\n",
              "  <tbody>\n",
              "    <tr>\n",
              "      <th>alice</th>\n",
              "      <td>1985</td>\n",
              "      <td>NaN</td>\n",
              "      <td>Biking</td>\n",
              "      <td>68</td>\n",
              "    </tr>\n",
              "    <tr>\n",
              "      <th>bob</th>\n",
              "      <td>1984</td>\n",
              "      <td>3</td>\n",
              "      <td>Dancing</td>\n",
              "      <td>83</td>\n",
              "    </tr>\n",
              "    <tr>\n",
              "      <th>charles</th>\n",
              "      <td>1992</td>\n",
              "      <td>0</td>\n",
              "      <td>NaN</td>\n",
              "      <td>112</td>\n",
              "    </tr>\n",
              "  </tbody>\n",
              "</table>\n",
              "</div>"
            ],
            "text/plain": [
              "         birthyear  children    hobby  weight\n",
              "alice         1985       NaN   Biking      68\n",
              "bob           1984         3  Dancing      83\n",
              "charles       1992         0      NaN     112"
            ]
          },
          "execution_count": 53,
          "metadata": {},
          "output_type": "execute_result"
        }
      ],
      "source": [
        "values = [\n",
        "            [1985, np.nan, \"Biking\",   68],\n",
        "            [1984, 3,      \"Dancing\",  83],\n",
        "            [1992, 0,      np.nan,    112]\n",
        "         ]\n",
        "d3 = pd.DataFrame(\n",
        "        values,\n",
        "        columns=[\"birthyear\", \"children\", \"hobby\", \"weight\"],\n",
        "        index=[\"alice\", \"bob\", \"charles\"]\n",
        "     )\n",
        "d3"
      ]
    },
    {
      "cell_type": "markdown",
      "metadata": {
        "id": "jXjv2uBBYqVZ"
      },
      "source": [
        "To specify missing values, you can either use `np.nan` or NumPy's masked arrays:"
      ]
    },
    {
      "cell_type": "code",
      "execution_count": null,
      "metadata": {
        "id": "7VG_5HkEYqVa",
        "outputId": "d8c4cdaf-ad2e-4e67-86e6-365dc992e881"
      },
      "outputs": [
        {
          "data": {
            "text/html": [
              "<div>\n",
              "<table border=\"1\" class=\"dataframe\">\n",
              "  <thead>\n",
              "    <tr style=\"text-align: right;\">\n",
              "      <th></th>\n",
              "      <th>birthyear</th>\n",
              "      <th>children</th>\n",
              "      <th>hobby</th>\n",
              "      <th>weight</th>\n",
              "    </tr>\n",
              "  </thead>\n",
              "  <tbody>\n",
              "    <tr>\n",
              "      <th>alice</th>\n",
              "      <td>1985</td>\n",
              "      <td>NaN</td>\n",
              "      <td>Biking</td>\n",
              "      <td>68</td>\n",
              "    </tr>\n",
              "    <tr>\n",
              "      <th>bob</th>\n",
              "      <td>1984</td>\n",
              "      <td>3</td>\n",
              "      <td>Dancing</td>\n",
              "      <td>83</td>\n",
              "    </tr>\n",
              "    <tr>\n",
              "      <th>charles</th>\n",
              "      <td>1992</td>\n",
              "      <td>0</td>\n",
              "      <td>NaN</td>\n",
              "      <td>112</td>\n",
              "    </tr>\n",
              "  </tbody>\n",
              "</table>\n",
              "</div>"
            ],
            "text/plain": [
              "         birthyear  children    hobby  weight\n",
              "alice         1985       NaN   Biking      68\n",
              "bob           1984         3  Dancing      83\n",
              "charles       1992         0      NaN     112"
            ]
          },
          "execution_count": 54,
          "metadata": {},
          "output_type": "execute_result"
        }
      ],
      "source": [
        "masked_array = np.ma.asarray(values, dtype=np.object)\n",
        "masked_array[(0, 2), (1, 2)] = np.ma.masked\n",
        "d3 = pd.DataFrame(\n",
        "        values,\n",
        "        columns=[\"birthyear\", \"children\", \"hobby\", \"weight\"],\n",
        "        index=[\"alice\", \"bob\", \"charles\"]\n",
        "     )\n",
        "d3"
      ]
    },
    {
      "cell_type": "markdown",
      "metadata": {
        "id": "V_EBdPO7YqVa"
      },
      "source": [
        "Instead of an `ndarray`, you can also pass a `DataFrame` object:"
      ]
    },
    {
      "cell_type": "code",
      "execution_count": null,
      "metadata": {
        "id": "3ShFfGrNYqVa",
        "outputId": "5deab9ff-fecf-4ea6-82ff-9dd819df95e5"
      },
      "outputs": [
        {
          "data": {
            "text/html": [
              "<div>\n",
              "<table border=\"1\" class=\"dataframe\">\n",
              "  <thead>\n",
              "    <tr style=\"text-align: right;\">\n",
              "      <th></th>\n",
              "      <th>hobby</th>\n",
              "      <th>children</th>\n",
              "    </tr>\n",
              "  </thead>\n",
              "  <tbody>\n",
              "    <tr>\n",
              "      <th>alice</th>\n",
              "      <td>Biking</td>\n",
              "      <td>NaN</td>\n",
              "    </tr>\n",
              "    <tr>\n",
              "      <th>bob</th>\n",
              "      <td>Dancing</td>\n",
              "      <td>3</td>\n",
              "    </tr>\n",
              "  </tbody>\n",
              "</table>\n",
              "</div>"
            ],
            "text/plain": [
              "         hobby  children\n",
              "alice   Biking       NaN\n",
              "bob    Dancing         3"
            ]
          },
          "execution_count": 55,
          "metadata": {},
          "output_type": "execute_result"
        }
      ],
      "source": [
        "d4 = pd.DataFrame(\n",
        "         d3,\n",
        "         columns=[\"hobby\", \"children\"],\n",
        "         index=[\"alice\", \"bob\"]\n",
        "     )\n",
        "d4"
      ]
    },
    {
      "cell_type": "markdown",
      "metadata": {
        "id": "tg6CyUwLYqVa"
      },
      "source": [
        "It is also possible to create a `DataFrame` with a dictionary (or list) of dictionaries (or list):"
      ]
    },
    {
      "cell_type": "code",
      "execution_count": null,
      "metadata": {
        "id": "98uvFlULYqVa",
        "outputId": "43b7eee8-367d-4110-fdfb-2b6bd61339f0"
      },
      "outputs": [
        {
          "data": {
            "text/html": [
              "<div>\n",
              "<table border=\"1\" class=\"dataframe\">\n",
              "  <thead>\n",
              "    <tr style=\"text-align: right;\">\n",
              "      <th></th>\n",
              "      <th>birthyear</th>\n",
              "      <th>children</th>\n",
              "      <th>hobby</th>\n",
              "      <th>weight</th>\n",
              "    </tr>\n",
              "  </thead>\n",
              "  <tbody>\n",
              "    <tr>\n",
              "      <th>alice</th>\n",
              "      <td>1985</td>\n",
              "      <td>NaN</td>\n",
              "      <td>Biking</td>\n",
              "      <td>68</td>\n",
              "    </tr>\n",
              "    <tr>\n",
              "      <th>bob</th>\n",
              "      <td>1984</td>\n",
              "      <td>3</td>\n",
              "      <td>Dancing</td>\n",
              "      <td>83</td>\n",
              "    </tr>\n",
              "    <tr>\n",
              "      <th>charles</th>\n",
              "      <td>1992</td>\n",
              "      <td>0</td>\n",
              "      <td>NaN</td>\n",
              "      <td>112</td>\n",
              "    </tr>\n",
              "  </tbody>\n",
              "</table>\n",
              "</div>"
            ],
            "text/plain": [
              "         birthyear  children    hobby  weight\n",
              "alice         1985       NaN   Biking      68\n",
              "bob           1984         3  Dancing      83\n",
              "charles       1992         0      NaN     112"
            ]
          },
          "execution_count": 56,
          "metadata": {},
          "output_type": "execute_result"
        }
      ],
      "source": [
        "people = pd.DataFrame({\n",
        "    \"birthyear\": {\"alice\":1985, \"bob\": 1984, \"charles\": 1992},\n",
        "    \"hobby\": {\"alice\":\"Biking\", \"bob\": \"Dancing\"},\n",
        "    \"weight\": {\"alice\":68, \"bob\": 83, \"charles\": 112},\n",
        "    \"children\": {\"bob\": 3, \"charles\": 0}\n",
        "})\n",
        "people"
      ]
    },
    {
      "cell_type": "markdown",
      "metadata": {
        "id": "P1SCK2HkYqVa"
      },
      "source": [
        "## Multi-indexing\n",
        "If all columns are tuples of the same size, then they are understood as a multi-index. The same goes for row index labels. For example:"
      ]
    },
    {
      "cell_type": "code",
      "execution_count": null,
      "metadata": {
        "id": "YoH1WilMYqVa",
        "outputId": "3ab21635-c5ea-4014-b24e-bb191fe10f5c"
      },
      "outputs": [
        {
          "data": {
            "text/html": [
              "<div>\n",
              "<table border=\"1\" class=\"dataframe\">\n",
              "  <thead>\n",
              "    <tr>\n",
              "      <th></th>\n",
              "      <th></th>\n",
              "      <th colspan=\"2\" halign=\"left\">private</th>\n",
              "      <th colspan=\"2\" halign=\"left\">public</th>\n",
              "    </tr>\n",
              "    <tr>\n",
              "      <th></th>\n",
              "      <th></th>\n",
              "      <th>children</th>\n",
              "      <th>weight</th>\n",
              "      <th>birthyear</th>\n",
              "      <th>hobby</th>\n",
              "    </tr>\n",
              "  </thead>\n",
              "  <tbody>\n",
              "    <tr>\n",
              "      <th>London</th>\n",
              "      <th>charles</th>\n",
              "      <td>0</td>\n",
              "      <td>112</td>\n",
              "      <td>1992</td>\n",
              "      <td>NaN</td>\n",
              "    </tr>\n",
              "    <tr>\n",
              "      <th rowspan=\"2\" valign=\"top\">Paris</th>\n",
              "      <th>alice</th>\n",
              "      <td>NaN</td>\n",
              "      <td>68</td>\n",
              "      <td>1985</td>\n",
              "      <td>Biking</td>\n",
              "    </tr>\n",
              "    <tr>\n",
              "      <th>bob</th>\n",
              "      <td>3</td>\n",
              "      <td>83</td>\n",
              "      <td>1984</td>\n",
              "      <td>Dancing</td>\n",
              "    </tr>\n",
              "  </tbody>\n",
              "</table>\n",
              "</div>"
            ],
            "text/plain": [
              "                private           public         \n",
              "               children weight birthyear    hobby\n",
              "London charles        0    112      1992      NaN\n",
              "Paris  alice        NaN     68      1985   Biking\n",
              "       bob            3     83      1984  Dancing"
            ]
          },
          "execution_count": 57,
          "metadata": {},
          "output_type": "execute_result"
        }
      ],
      "source": [
        "d5 = pd.DataFrame(\n",
        "  {\n",
        "    (\"public\", \"birthyear\"):\n",
        "        {(\"Paris\",\"alice\"):1985, (\"Paris\",\"bob\"): 1984, (\"London\",\"charles\"): 1992},\n",
        "    (\"public\", \"hobby\"):\n",
        "        {(\"Paris\",\"alice\"):\"Biking\", (\"Paris\",\"bob\"): \"Dancing\"},\n",
        "    (\"private\", \"weight\"):\n",
        "        {(\"Paris\",\"alice\"):68, (\"Paris\",\"bob\"): 83, (\"London\",\"charles\"): 112},\n",
        "    (\"private\", \"children\"):\n",
        "        {(\"Paris\", \"alice\"):np.nan, (\"Paris\",\"bob\"): 3, (\"London\",\"charles\"): 0}\n",
        "  }\n",
        ")\n",
        "d5"
      ]
    },
    {
      "cell_type": "markdown",
      "metadata": {
        "id": "gXnKPo_hYqVb"
      },
      "source": [
        "You can now get a `DataFrame` containing all the `\"public\"` columns very simply:"
      ]
    },
    {
      "cell_type": "code",
      "execution_count": null,
      "metadata": {
        "id": "KObciHpSYqVb",
        "outputId": "49216dae-58c2-430d-9cbc-17864e588138"
      },
      "outputs": [
        {
          "data": {
            "text/html": [
              "<div>\n",
              "<table border=\"1\" class=\"dataframe\">\n",
              "  <thead>\n",
              "    <tr style=\"text-align: right;\">\n",
              "      <th></th>\n",
              "      <th></th>\n",
              "      <th>birthyear</th>\n",
              "      <th>hobby</th>\n",
              "    </tr>\n",
              "  </thead>\n",
              "  <tbody>\n",
              "    <tr>\n",
              "      <th>London</th>\n",
              "      <th>charles</th>\n",
              "      <td>1992</td>\n",
              "      <td>NaN</td>\n",
              "    </tr>\n",
              "    <tr>\n",
              "      <th rowspan=\"2\" valign=\"top\">Paris</th>\n",
              "      <th>alice</th>\n",
              "      <td>1985</td>\n",
              "      <td>Biking</td>\n",
              "    </tr>\n",
              "    <tr>\n",
              "      <th>bob</th>\n",
              "      <td>1984</td>\n",
              "      <td>Dancing</td>\n",
              "    </tr>\n",
              "  </tbody>\n",
              "</table>\n",
              "</div>"
            ],
            "text/plain": [
              "                birthyear    hobby\n",
              "London charles       1992      NaN\n",
              "Paris  alice         1985   Biking\n",
              "       bob           1984  Dancing"
            ]
          },
          "execution_count": 58,
          "metadata": {},
          "output_type": "execute_result"
        }
      ],
      "source": [
        "d5[\"public\"]"
      ]
    },
    {
      "cell_type": "code",
      "execution_count": null,
      "metadata": {
        "id": "xW8ZXnrjYqVb",
        "outputId": "25749f1a-e0c3-4e39-f49e-41a82508c570"
      },
      "outputs": [
        {
          "data": {
            "text/plain": [
              "London  charles        NaN\n",
              "Paris   alice       Biking\n",
              "        bob        Dancing\n",
              "Name: (public, hobby), dtype: object"
            ]
          },
          "execution_count": 59,
          "metadata": {},
          "output_type": "execute_result"
        }
      ],
      "source": [
        "d5[\"public\", \"hobby\"]  # Same result as d4[\"public\"][\"hobby\"]"
      ]
    },
    {
      "cell_type": "markdown",
      "metadata": {
        "id": "CfXcDEJ3YqVb"
      },
      "source": [
        "## Dropping a level\n",
        "Let's look at `d5` again:"
      ]
    },
    {
      "cell_type": "code",
      "execution_count": null,
      "metadata": {
        "id": "AmAz-tGYYqVb",
        "outputId": "ca8d5ebc-1b9d-4f7f-a3cd-a7a03f369f36"
      },
      "outputs": [
        {
          "data": {
            "text/html": [
              "<div>\n",
              "<table border=\"1\" class=\"dataframe\">\n",
              "  <thead>\n",
              "    <tr>\n",
              "      <th></th>\n",
              "      <th></th>\n",
              "      <th colspan=\"2\" halign=\"left\">private</th>\n",
              "      <th colspan=\"2\" halign=\"left\">public</th>\n",
              "    </tr>\n",
              "    <tr>\n",
              "      <th></th>\n",
              "      <th></th>\n",
              "      <th>children</th>\n",
              "      <th>weight</th>\n",
              "      <th>birthyear</th>\n",
              "      <th>hobby</th>\n",
              "    </tr>\n",
              "  </thead>\n",
              "  <tbody>\n",
              "    <tr>\n",
              "      <th>London</th>\n",
              "      <th>charles</th>\n",
              "      <td>0</td>\n",
              "      <td>112</td>\n",
              "      <td>1992</td>\n",
              "      <td>NaN</td>\n",
              "    </tr>\n",
              "    <tr>\n",
              "      <th rowspan=\"2\" valign=\"top\">Paris</th>\n",
              "      <th>alice</th>\n",
              "      <td>NaN</td>\n",
              "      <td>68</td>\n",
              "      <td>1985</td>\n",
              "      <td>Biking</td>\n",
              "    </tr>\n",
              "    <tr>\n",
              "      <th>bob</th>\n",
              "      <td>3</td>\n",
              "      <td>83</td>\n",
              "      <td>1984</td>\n",
              "      <td>Dancing</td>\n",
              "    </tr>\n",
              "  </tbody>\n",
              "</table>\n",
              "</div>"
            ],
            "text/plain": [
              "                private           public         \n",
              "               children weight birthyear    hobby\n",
              "London charles        0    112      1992      NaN\n",
              "Paris  alice        NaN     68      1985   Biking\n",
              "       bob            3     83      1984  Dancing"
            ]
          },
          "execution_count": 60,
          "metadata": {},
          "output_type": "execute_result"
        }
      ],
      "source": [
        "d5"
      ]
    },
    {
      "cell_type": "markdown",
      "metadata": {
        "id": "KHyAKDxcYqVb"
      },
      "source": [
        "There are two levels of columns, and two levels of indices. We can drop a column level by calling `droplevel` (the same goes for indices):"
      ]
    },
    {
      "cell_type": "code",
      "execution_count": null,
      "metadata": {
        "id": "kmS8g-7yYqVb",
        "outputId": "a0c45940-976b-4654-a892-41778bb7f89b"
      },
      "outputs": [
        {
          "data": {
            "text/html": [
              "<div>\n",
              "<table border=\"1\" class=\"dataframe\">\n",
              "  <thead>\n",
              "    <tr style=\"text-align: right;\">\n",
              "      <th></th>\n",
              "      <th></th>\n",
              "      <th>children</th>\n",
              "      <th>weight</th>\n",
              "      <th>birthyear</th>\n",
              "      <th>hobby</th>\n",
              "    </tr>\n",
              "  </thead>\n",
              "  <tbody>\n",
              "    <tr>\n",
              "      <th>London</th>\n",
              "      <th>charles</th>\n",
              "      <td>0</td>\n",
              "      <td>112</td>\n",
              "      <td>1992</td>\n",
              "      <td>NaN</td>\n",
              "    </tr>\n",
              "    <tr>\n",
              "      <th rowspan=\"2\" valign=\"top\">Paris</th>\n",
              "      <th>alice</th>\n",
              "      <td>NaN</td>\n",
              "      <td>68</td>\n",
              "      <td>1985</td>\n",
              "      <td>Biking</td>\n",
              "    </tr>\n",
              "    <tr>\n",
              "      <th>bob</th>\n",
              "      <td>3</td>\n",
              "      <td>83</td>\n",
              "      <td>1984</td>\n",
              "      <td>Dancing</td>\n",
              "    </tr>\n",
              "  </tbody>\n",
              "</table>\n",
              "</div>"
            ],
            "text/plain": [
              "                children  weight  birthyear    hobby\n",
              "London charles         0     112       1992      NaN\n",
              "Paris  alice         NaN      68       1985   Biking\n",
              "       bob             3      83       1984  Dancing"
            ]
          },
          "execution_count": 61,
          "metadata": {},
          "output_type": "execute_result"
        }
      ],
      "source": [
        "d5.columns = d5.columns.droplevel(level = 0)\n",
        "d5"
      ]
    },
    {
      "cell_type": "markdown",
      "metadata": {
        "id": "4B40m8qWYqVb"
      },
      "source": [
        "## Transposing\n",
        "You can swap columns and indices using the `T` attribute:"
      ]
    },
    {
      "cell_type": "code",
      "execution_count": null,
      "metadata": {
        "id": "mjL6u6ztYqVc",
        "outputId": "491d834b-65d9-45e8-8824-64e1589c5ba9"
      },
      "outputs": [
        {
          "data": {
            "text/html": [
              "<div>\n",
              "<table border=\"1\" class=\"dataframe\">\n",
              "  <thead>\n",
              "    <tr>\n",
              "      <th></th>\n",
              "      <th>London</th>\n",
              "      <th colspan=\"2\" halign=\"left\">Paris</th>\n",
              "    </tr>\n",
              "    <tr>\n",
              "      <th></th>\n",
              "      <th>charles</th>\n",
              "      <th>alice</th>\n",
              "      <th>bob</th>\n",
              "    </tr>\n",
              "  </thead>\n",
              "  <tbody>\n",
              "    <tr>\n",
              "      <th>children</th>\n",
              "      <td>0</td>\n",
              "      <td>NaN</td>\n",
              "      <td>3</td>\n",
              "    </tr>\n",
              "    <tr>\n",
              "      <th>weight</th>\n",
              "      <td>112</td>\n",
              "      <td>68</td>\n",
              "      <td>83</td>\n",
              "    </tr>\n",
              "    <tr>\n",
              "      <th>birthyear</th>\n",
              "      <td>1992</td>\n",
              "      <td>1985</td>\n",
              "      <td>1984</td>\n",
              "    </tr>\n",
              "    <tr>\n",
              "      <th>hobby</th>\n",
              "      <td>NaN</td>\n",
              "      <td>Biking</td>\n",
              "      <td>Dancing</td>\n",
              "    </tr>\n",
              "  </tbody>\n",
              "</table>\n",
              "</div>"
            ],
            "text/plain": [
              "           London   Paris         \n",
              "          charles   alice      bob\n",
              "children        0     NaN        3\n",
              "weight        112      68       83\n",
              "birthyear    1992    1985     1984\n",
              "hobby         NaN  Biking  Dancing"
            ]
          },
          "execution_count": 62,
          "metadata": {},
          "output_type": "execute_result"
        }
      ],
      "source": [
        "d6 = d5.T\n",
        "d6"
      ]
    },
    {
      "cell_type": "markdown",
      "metadata": {
        "id": "nVENBgbFYqVc"
      },
      "source": [
        "## Stacking and unstacking levels\n",
        "Calling the `stack` method will push the lowest column level after the lowest index:"
      ]
    },
    {
      "cell_type": "code",
      "execution_count": null,
      "metadata": {
        "id": "l88KnaJIYqVc",
        "outputId": "a4fdc70e-dee6-4549-aefa-b4426b60b0d8"
      },
      "outputs": [
        {
          "data": {
            "text/html": [
              "<div>\n",
              "<table border=\"1\" class=\"dataframe\">\n",
              "  <thead>\n",
              "    <tr style=\"text-align: right;\">\n",
              "      <th></th>\n",
              "      <th></th>\n",
              "      <th>London</th>\n",
              "      <th>Paris</th>\n",
              "    </tr>\n",
              "  </thead>\n",
              "  <tbody>\n",
              "    <tr>\n",
              "      <th rowspan=\"2\" valign=\"top\">children</th>\n",
              "      <th>bob</th>\n",
              "      <td>NaN</td>\n",
              "      <td>3</td>\n",
              "    </tr>\n",
              "    <tr>\n",
              "      <th>charles</th>\n",
              "      <td>0</td>\n",
              "      <td>NaN</td>\n",
              "    </tr>\n",
              "    <tr>\n",
              "      <th rowspan=\"3\" valign=\"top\">weight</th>\n",
              "      <th>alice</th>\n",
              "      <td>NaN</td>\n",
              "      <td>68</td>\n",
              "    </tr>\n",
              "    <tr>\n",
              "      <th>bob</th>\n",
              "      <td>NaN</td>\n",
              "      <td>83</td>\n",
              "    </tr>\n",
              "    <tr>\n",
              "      <th>charles</th>\n",
              "      <td>112</td>\n",
              "      <td>NaN</td>\n",
              "    </tr>\n",
              "    <tr>\n",
              "      <th rowspan=\"3\" valign=\"top\">birthyear</th>\n",
              "      <th>alice</th>\n",
              "      <td>NaN</td>\n",
              "      <td>1985</td>\n",
              "    </tr>\n",
              "    <tr>\n",
              "      <th>bob</th>\n",
              "      <td>NaN</td>\n",
              "      <td>1984</td>\n",
              "    </tr>\n",
              "    <tr>\n",
              "      <th>charles</th>\n",
              "      <td>1992</td>\n",
              "      <td>NaN</td>\n",
              "    </tr>\n",
              "    <tr>\n",
              "      <th rowspan=\"2\" valign=\"top\">hobby</th>\n",
              "      <th>alice</th>\n",
              "      <td>NaN</td>\n",
              "      <td>Biking</td>\n",
              "    </tr>\n",
              "    <tr>\n",
              "      <th>bob</th>\n",
              "      <td>NaN</td>\n",
              "      <td>Dancing</td>\n",
              "    </tr>\n",
              "  </tbody>\n",
              "</table>\n",
              "</div>"
            ],
            "text/plain": [
              "                  London    Paris\n",
              "children  bob        NaN        3\n",
              "          charles      0      NaN\n",
              "weight    alice      NaN       68\n",
              "          bob        NaN       83\n",
              "          charles    112      NaN\n",
              "birthyear alice      NaN     1985\n",
              "          bob        NaN     1984\n",
              "          charles   1992      NaN\n",
              "hobby     alice      NaN   Biking\n",
              "          bob        NaN  Dancing"
            ]
          },
          "execution_count": 63,
          "metadata": {},
          "output_type": "execute_result"
        }
      ],
      "source": [
        "d7 = d6.stack()\n",
        "d7"
      ]
    },
    {
      "cell_type": "markdown",
      "metadata": {
        "id": "3H9zNPTDYqVc"
      },
      "source": [
        "Note that many `NaN` values appeared. This makes sense because many new combinations did not exist before (eg. there was no `bob` in `London`).\n",
        "\n",
        "Calling `unstack` will do the reverse, once again creating many `NaN` values."
      ]
    },
    {
      "cell_type": "code",
      "execution_count": null,
      "metadata": {
        "id": "x8lssGe8YqVc",
        "outputId": "78b7da5d-2122-4a6b-d157-d4c083b950b7"
      },
      "outputs": [
        {
          "data": {
            "text/html": [
              "<div>\n",
              "<table border=\"1\" class=\"dataframe\">\n",
              "  <thead>\n",
              "    <tr>\n",
              "      <th></th>\n",
              "      <th colspan=\"3\" halign=\"left\">London</th>\n",
              "      <th colspan=\"3\" halign=\"left\">Paris</th>\n",
              "    </tr>\n",
              "    <tr>\n",
              "      <th></th>\n",
              "      <th>alice</th>\n",
              "      <th>bob</th>\n",
              "      <th>charles</th>\n",
              "      <th>alice</th>\n",
              "      <th>bob</th>\n",
              "      <th>charles</th>\n",
              "    </tr>\n",
              "  </thead>\n",
              "  <tbody>\n",
              "    <tr>\n",
              "      <th>children</th>\n",
              "      <td>NaN</td>\n",
              "      <td>NaN</td>\n",
              "      <td>0</td>\n",
              "      <td>NaN</td>\n",
              "      <td>3</td>\n",
              "      <td>NaN</td>\n",
              "    </tr>\n",
              "    <tr>\n",
              "      <th>weight</th>\n",
              "      <td>NaN</td>\n",
              "      <td>NaN</td>\n",
              "      <td>112</td>\n",
              "      <td>68</td>\n",
              "      <td>83</td>\n",
              "      <td>NaN</td>\n",
              "    </tr>\n",
              "    <tr>\n",
              "      <th>birthyear</th>\n",
              "      <td>NaN</td>\n",
              "      <td>NaN</td>\n",
              "      <td>1992</td>\n",
              "      <td>1985</td>\n",
              "      <td>1984</td>\n",
              "      <td>NaN</td>\n",
              "    </tr>\n",
              "    <tr>\n",
              "      <th>hobby</th>\n",
              "      <td>NaN</td>\n",
              "      <td>NaN</td>\n",
              "      <td>NaN</td>\n",
              "      <td>Biking</td>\n",
              "      <td>Dancing</td>\n",
              "      <td>NaN</td>\n",
              "    </tr>\n",
              "  </tbody>\n",
              "</table>\n",
              "</div>"
            ],
            "text/plain": [
              "          London                Paris                 \n",
              "           alice  bob charles   alice      bob charles\n",
              "children     NaN  NaN       0     NaN        3     NaN\n",
              "weight       NaN  NaN     112      68       83     NaN\n",
              "birthyear    NaN  NaN    1992    1985     1984     NaN\n",
              "hobby        NaN  NaN     NaN  Biking  Dancing     NaN"
            ]
          },
          "execution_count": 64,
          "metadata": {},
          "output_type": "execute_result"
        }
      ],
      "source": [
        "d8 = d7.unstack()\n",
        "d8"
      ]
    },
    {
      "cell_type": "markdown",
      "metadata": {
        "id": "7wkQb6smYqVc"
      },
      "source": [
        "If we call `unstack` again, we end up with a `Series` object:"
      ]
    },
    {
      "cell_type": "code",
      "execution_count": null,
      "metadata": {
        "id": "c86mASUYYqVc",
        "outputId": "9026c8d1-f30b-4929-e71c-298f319c3320"
      },
      "outputs": [
        {
          "data": {
            "text/plain": [
              "London  alice    children         NaN\n",
              "                 weight           NaN\n",
              "                 birthyear        NaN\n",
              "                 hobby            NaN\n",
              "        bob      children         NaN\n",
              "                 weight           NaN\n",
              "                 birthyear        NaN\n",
              "                 hobby            NaN\n",
              "        charles  children           0\n",
              "                 weight           112\n",
              "                 birthyear       1992\n",
              "                 hobby            NaN\n",
              "Paris   alice    children         NaN\n",
              "                 weight            68\n",
              "                 birthyear       1985\n",
              "                 hobby         Biking\n",
              "        bob      children           3\n",
              "                 weight            83\n",
              "                 birthyear       1984\n",
              "                 hobby        Dancing\n",
              "        charles  children         NaN\n",
              "                 weight           NaN\n",
              "                 birthyear        NaN\n",
              "                 hobby            NaN\n",
              "dtype: object"
            ]
          },
          "execution_count": 65,
          "metadata": {},
          "output_type": "execute_result"
        }
      ],
      "source": [
        "d9 = d8.unstack()\n",
        "d9"
      ]
    },
    {
      "cell_type": "markdown",
      "metadata": {
        "id": "hvuCFziDYqVd"
      },
      "source": [
        "The `stack` and `unstack` methods let you select the `level` to stack/unstack. You can even stack/unstack multiple levels at once:"
      ]
    },
    {
      "cell_type": "code",
      "execution_count": null,
      "metadata": {
        "scrolled": true,
        "id": "13S9wazXYqVd",
        "outputId": "e093139f-ef2f-4934-bac0-6c823d715fc5"
      },
      "outputs": [
        {
          "data": {
            "text/html": [
              "<div>\n",
              "<table border=\"1\" class=\"dataframe\">\n",
              "  <thead>\n",
              "    <tr>\n",
              "      <th></th>\n",
              "      <th colspan=\"3\" halign=\"left\">London</th>\n",
              "      <th colspan=\"3\" halign=\"left\">Paris</th>\n",
              "    </tr>\n",
              "    <tr>\n",
              "      <th></th>\n",
              "      <th>alice</th>\n",
              "      <th>bob</th>\n",
              "      <th>charles</th>\n",
              "      <th>alice</th>\n",
              "      <th>bob</th>\n",
              "      <th>charles</th>\n",
              "    </tr>\n",
              "  </thead>\n",
              "  <tbody>\n",
              "    <tr>\n",
              "      <th>children</th>\n",
              "      <td>NaN</td>\n",
              "      <td>NaN</td>\n",
              "      <td>0</td>\n",
              "      <td>NaN</td>\n",
              "      <td>3</td>\n",
              "      <td>NaN</td>\n",
              "    </tr>\n",
              "    <tr>\n",
              "      <th>weight</th>\n",
              "      <td>NaN</td>\n",
              "      <td>NaN</td>\n",
              "      <td>112</td>\n",
              "      <td>68</td>\n",
              "      <td>83</td>\n",
              "      <td>NaN</td>\n",
              "    </tr>\n",
              "    <tr>\n",
              "      <th>birthyear</th>\n",
              "      <td>NaN</td>\n",
              "      <td>NaN</td>\n",
              "      <td>1992</td>\n",
              "      <td>1985</td>\n",
              "      <td>1984</td>\n",
              "      <td>NaN</td>\n",
              "    </tr>\n",
              "    <tr>\n",
              "      <th>hobby</th>\n",
              "      <td>NaN</td>\n",
              "      <td>NaN</td>\n",
              "      <td>NaN</td>\n",
              "      <td>Biking</td>\n",
              "      <td>Dancing</td>\n",
              "      <td>NaN</td>\n",
              "    </tr>\n",
              "  </tbody>\n",
              "</table>\n",
              "</div>"
            ],
            "text/plain": [
              "          London                Paris                 \n",
              "           alice  bob charles   alice      bob charles\n",
              "children     NaN  NaN       0     NaN        3     NaN\n",
              "weight       NaN  NaN     112      68       83     NaN\n",
              "birthyear    NaN  NaN    1992    1985     1984     NaN\n",
              "hobby        NaN  NaN     NaN  Biking  Dancing     NaN"
            ]
          },
          "execution_count": 66,
          "metadata": {},
          "output_type": "execute_result"
        }
      ],
      "source": [
        "d10 = d9.unstack(level = (0,1))\n",
        "d10"
      ]
    },
    {
      "cell_type": "markdown",
      "metadata": {
        "id": "16FDE2gSYqVd"
      },
      "source": [
        "## Most methods return modified copies\n",
        "As you may have noticed, the `stack` and `unstack` methods do not modify the object they apply to. Instead, they work on a copy and return that copy. This is true of most methods in pandas."
      ]
    },
    {
      "cell_type": "markdown",
      "metadata": {
        "id": "HkakBGBuYqVd"
      },
      "source": [
        "## Accessing rows\n",
        "Let's go back to the `people` `DataFrame`:"
      ]
    },
    {
      "cell_type": "code",
      "execution_count": null,
      "metadata": {
        "id": "7XplE4VaYqVd",
        "outputId": "c8bdee91-fd35-4228-af73-f89b58bf0852"
      },
      "outputs": [
        {
          "data": {
            "text/html": [
              "<div>\n",
              "<table border=\"1\" class=\"dataframe\">\n",
              "  <thead>\n",
              "    <tr style=\"text-align: right;\">\n",
              "      <th></th>\n",
              "      <th>birthyear</th>\n",
              "      <th>children</th>\n",
              "      <th>hobby</th>\n",
              "      <th>weight</th>\n",
              "    </tr>\n",
              "  </thead>\n",
              "  <tbody>\n",
              "    <tr>\n",
              "      <th>alice</th>\n",
              "      <td>1985</td>\n",
              "      <td>NaN</td>\n",
              "      <td>Biking</td>\n",
              "      <td>68</td>\n",
              "    </tr>\n",
              "    <tr>\n",
              "      <th>bob</th>\n",
              "      <td>1984</td>\n",
              "      <td>3</td>\n",
              "      <td>Dancing</td>\n",
              "      <td>83</td>\n",
              "    </tr>\n",
              "    <tr>\n",
              "      <th>charles</th>\n",
              "      <td>1992</td>\n",
              "      <td>0</td>\n",
              "      <td>NaN</td>\n",
              "      <td>112</td>\n",
              "    </tr>\n",
              "  </tbody>\n",
              "</table>\n",
              "</div>"
            ],
            "text/plain": [
              "         birthyear  children    hobby  weight\n",
              "alice         1985       NaN   Biking      68\n",
              "bob           1984         3  Dancing      83\n",
              "charles       1992         0      NaN     112"
            ]
          },
          "execution_count": 67,
          "metadata": {},
          "output_type": "execute_result"
        }
      ],
      "source": [
        "people"
      ]
    },
    {
      "cell_type": "markdown",
      "metadata": {
        "id": "movn6XrwYqVd"
      },
      "source": [
        "The `loc` attribute lets you access rows instead of columns. The result is `Series` object in which the `DataFrame`'s column names are mapped to row index labels:"
      ]
    },
    {
      "cell_type": "code",
      "execution_count": null,
      "metadata": {
        "id": "8Da1ERnIYqVd",
        "outputId": "d0bf933e-abab-432a-bbdb-3e2045d18b09"
      },
      "outputs": [
        {
          "data": {
            "text/plain": [
              "birthyear    1992\n",
              "children        0\n",
              "hobby         NaN\n",
              "weight        112\n",
              "Name: charles, dtype: object"
            ]
          },
          "execution_count": 68,
          "metadata": {},
          "output_type": "execute_result"
        }
      ],
      "source": [
        "people.loc[\"charles\"]"
      ]
    },
    {
      "cell_type": "markdown",
      "metadata": {
        "id": "qiEkNRoGYqVd"
      },
      "source": [
        "You can also access rows by integer location using the `iloc` attribute:"
      ]
    },
    {
      "cell_type": "code",
      "execution_count": null,
      "metadata": {
        "id": "LqjaE7XhYqVe",
        "outputId": "1e535930-4b5a-45bb-f553-42f985c2166c"
      },
      "outputs": [
        {
          "data": {
            "text/plain": [
              "birthyear    1992\n",
              "children        0\n",
              "hobby         NaN\n",
              "weight        112\n",
              "Name: charles, dtype: object"
            ]
          },
          "execution_count": 69,
          "metadata": {},
          "output_type": "execute_result"
        }
      ],
      "source": [
        "people.iloc[2]"
      ]
    },
    {
      "cell_type": "markdown",
      "metadata": {
        "id": "a1StKPaTYqVe"
      },
      "source": [
        "You can also get a slice of rows, and this returns a `DataFrame` object:"
      ]
    },
    {
      "cell_type": "code",
      "execution_count": null,
      "metadata": {
        "id": "HV1Do54eYqVe",
        "outputId": "c5f22ee7-f111-4a98-d2d4-ed3674654d5e"
      },
      "outputs": [
        {
          "data": {
            "text/html": [
              "<div>\n",
              "<table border=\"1\" class=\"dataframe\">\n",
              "  <thead>\n",
              "    <tr style=\"text-align: right;\">\n",
              "      <th></th>\n",
              "      <th>birthyear</th>\n",
              "      <th>children</th>\n",
              "      <th>hobby</th>\n",
              "      <th>weight</th>\n",
              "    </tr>\n",
              "  </thead>\n",
              "  <tbody>\n",
              "    <tr>\n",
              "      <th>bob</th>\n",
              "      <td>1984</td>\n",
              "      <td>3</td>\n",
              "      <td>Dancing</td>\n",
              "      <td>83</td>\n",
              "    </tr>\n",
              "    <tr>\n",
              "      <th>charles</th>\n",
              "      <td>1992</td>\n",
              "      <td>0</td>\n",
              "      <td>NaN</td>\n",
              "      <td>112</td>\n",
              "    </tr>\n",
              "  </tbody>\n",
              "</table>\n",
              "</div>"
            ],
            "text/plain": [
              "         birthyear  children    hobby  weight\n",
              "bob           1984         3  Dancing      83\n",
              "charles       1992         0      NaN     112"
            ]
          },
          "execution_count": 70,
          "metadata": {},
          "output_type": "execute_result"
        }
      ],
      "source": [
        "people.iloc[1:3]"
      ]
    },
    {
      "cell_type": "markdown",
      "metadata": {
        "id": "Fwxhiu0lYqVe"
      },
      "source": [
        "Finally, you can pass a boolean array to get the matching rows:"
      ]
    },
    {
      "cell_type": "code",
      "execution_count": null,
      "metadata": {
        "id": "KUACq4rpYqVe",
        "outputId": "d3f5e737-f72a-4ccc-d0b3-362bf3fdf4ec"
      },
      "outputs": [
        {
          "data": {
            "text/html": [
              "<div>\n",
              "<table border=\"1\" class=\"dataframe\">\n",
              "  <thead>\n",
              "    <tr style=\"text-align: right;\">\n",
              "      <th></th>\n",
              "      <th>birthyear</th>\n",
              "      <th>children</th>\n",
              "      <th>hobby</th>\n",
              "      <th>weight</th>\n",
              "    </tr>\n",
              "  </thead>\n",
              "  <tbody>\n",
              "    <tr>\n",
              "      <th>alice</th>\n",
              "      <td>1985</td>\n",
              "      <td>NaN</td>\n",
              "      <td>Biking</td>\n",
              "      <td>68</td>\n",
              "    </tr>\n",
              "    <tr>\n",
              "      <th>charles</th>\n",
              "      <td>1992</td>\n",
              "      <td>0</td>\n",
              "      <td>NaN</td>\n",
              "      <td>112</td>\n",
              "    </tr>\n",
              "  </tbody>\n",
              "</table>\n",
              "</div>"
            ],
            "text/plain": [
              "         birthyear  children   hobby  weight\n",
              "alice         1985       NaN  Biking      68\n",
              "charles       1992         0     NaN     112"
            ]
          },
          "execution_count": 71,
          "metadata": {},
          "output_type": "execute_result"
        }
      ],
      "source": [
        "people[np.array([True, False, True])]"
      ]
    },
    {
      "cell_type": "markdown",
      "metadata": {
        "id": "QqZuXM2SYqVe"
      },
      "source": [
        "This is most useful when combined with boolean expressions:"
      ]
    },
    {
      "cell_type": "code",
      "execution_count": null,
      "metadata": {
        "id": "f2L7EbHpYqVe",
        "outputId": "51b14073-d6c4-40cb-b5a6-ab1b8f689575"
      },
      "outputs": [
        {
          "data": {
            "text/html": [
              "<div>\n",
              "<table border=\"1\" class=\"dataframe\">\n",
              "  <thead>\n",
              "    <tr style=\"text-align: right;\">\n",
              "      <th></th>\n",
              "      <th>birthyear</th>\n",
              "      <th>children</th>\n",
              "      <th>hobby</th>\n",
              "      <th>weight</th>\n",
              "    </tr>\n",
              "  </thead>\n",
              "  <tbody>\n",
              "    <tr>\n",
              "      <th>alice</th>\n",
              "      <td>1985</td>\n",
              "      <td>NaN</td>\n",
              "      <td>Biking</td>\n",
              "      <td>68</td>\n",
              "    </tr>\n",
              "    <tr>\n",
              "      <th>bob</th>\n",
              "      <td>1984</td>\n",
              "      <td>3</td>\n",
              "      <td>Dancing</td>\n",
              "      <td>83</td>\n",
              "    </tr>\n",
              "  </tbody>\n",
              "</table>\n",
              "</div>"
            ],
            "text/plain": [
              "       birthyear  children    hobby  weight\n",
              "alice       1985       NaN   Biking      68\n",
              "bob         1984         3  Dancing      83"
            ]
          },
          "execution_count": 72,
          "metadata": {},
          "output_type": "execute_result"
        }
      ],
      "source": [
        "people[people[\"birthyear\"] < 1990]"
      ]
    },
    {
      "cell_type": "markdown",
      "metadata": {
        "id": "HYoU4UyyYqVf"
      },
      "source": [
        "## Adding and removing columns\n",
        "You can generally treat `DataFrame` objects like dictionaries of `Series`, so the following work fine:"
      ]
    },
    {
      "cell_type": "code",
      "execution_count": null,
      "metadata": {
        "id": "EYgv-SIaYqVf",
        "outputId": "667b9784-6cb3-4819-a6dd-bac4ea1fa583"
      },
      "outputs": [
        {
          "data": {
            "text/html": [
              "<div>\n",
              "<table border=\"1\" class=\"dataframe\">\n",
              "  <thead>\n",
              "    <tr style=\"text-align: right;\">\n",
              "      <th></th>\n",
              "      <th>birthyear</th>\n",
              "      <th>children</th>\n",
              "      <th>hobby</th>\n",
              "      <th>weight</th>\n",
              "    </tr>\n",
              "  </thead>\n",
              "  <tbody>\n",
              "    <tr>\n",
              "      <th>alice</th>\n",
              "      <td>1985</td>\n",
              "      <td>NaN</td>\n",
              "      <td>Biking</td>\n",
              "      <td>68</td>\n",
              "    </tr>\n",
              "    <tr>\n",
              "      <th>bob</th>\n",
              "      <td>1984</td>\n",
              "      <td>3</td>\n",
              "      <td>Dancing</td>\n",
              "      <td>83</td>\n",
              "    </tr>\n",
              "    <tr>\n",
              "      <th>charles</th>\n",
              "      <td>1992</td>\n",
              "      <td>0</td>\n",
              "      <td>NaN</td>\n",
              "      <td>112</td>\n",
              "    </tr>\n",
              "  </tbody>\n",
              "</table>\n",
              "</div>"
            ],
            "text/plain": [
              "         birthyear  children    hobby  weight\n",
              "alice         1985       NaN   Biking      68\n",
              "bob           1984         3  Dancing      83\n",
              "charles       1992         0      NaN     112"
            ]
          },
          "execution_count": 73,
          "metadata": {},
          "output_type": "execute_result"
        }
      ],
      "source": [
        "people"
      ]
    },
    {
      "cell_type": "code",
      "execution_count": null,
      "metadata": {
        "id": "YiSLYIjWYqVf",
        "outputId": "8a5a85cc-ca20-4234-9963-f31552be464e"
      },
      "outputs": [
        {
          "data": {
            "text/html": [
              "<div>\n",
              "<table border=\"1\" class=\"dataframe\">\n",
              "  <thead>\n",
              "    <tr style=\"text-align: right;\">\n",
              "      <th></th>\n",
              "      <th>hobby</th>\n",
              "      <th>weight</th>\n",
              "      <th>age</th>\n",
              "      <th>over 30</th>\n",
              "    </tr>\n",
              "  </thead>\n",
              "  <tbody>\n",
              "    <tr>\n",
              "      <th>alice</th>\n",
              "      <td>Biking</td>\n",
              "      <td>68</td>\n",
              "      <td>31</td>\n",
              "      <td>True</td>\n",
              "    </tr>\n",
              "    <tr>\n",
              "      <th>bob</th>\n",
              "      <td>Dancing</td>\n",
              "      <td>83</td>\n",
              "      <td>32</td>\n",
              "      <td>True</td>\n",
              "    </tr>\n",
              "    <tr>\n",
              "      <th>charles</th>\n",
              "      <td>NaN</td>\n",
              "      <td>112</td>\n",
              "      <td>24</td>\n",
              "      <td>False</td>\n",
              "    </tr>\n",
              "  </tbody>\n",
              "</table>\n",
              "</div>"
            ],
            "text/plain": [
              "           hobby  weight  age over 30\n",
              "alice     Biking      68   31    True\n",
              "bob      Dancing      83   32    True\n",
              "charles      NaN     112   24   False"
            ]
          },
          "execution_count": 74,
          "metadata": {},
          "output_type": "execute_result"
        }
      ],
      "source": [
        "people[\"age\"] = 2016 - people[\"birthyear\"]  # adds a new column \"age\"\n",
        "people[\"over 30\"] = people[\"age\"] > 30      # adds another column \"over 30\"\n",
        "birthyears = people.pop(\"birthyear\")\n",
        "del people[\"children\"]\n",
        "\n",
        "people"
      ]
    },
    {
      "cell_type": "code",
      "execution_count": null,
      "metadata": {
        "id": "8Tufp80kYqVf",
        "outputId": "185a6e8f-723e-462e-98c0-d973ad8d4790"
      },
      "outputs": [
        {
          "data": {
            "text/plain": [
              "alice      1985\n",
              "bob        1984\n",
              "charles    1992\n",
              "Name: birthyear, dtype: int64"
            ]
          },
          "execution_count": 75,
          "metadata": {},
          "output_type": "execute_result"
        }
      ],
      "source": [
        "birthyears"
      ]
    },
    {
      "cell_type": "markdown",
      "metadata": {
        "id": "H0_V5WRRYqVf"
      },
      "source": [
        "When you add a new colum, it must have the same number of rows. Missing rows are filled with NaN, and extra rows are ignored:"
      ]
    },
    {
      "cell_type": "code",
      "execution_count": null,
      "metadata": {
        "id": "ynRyL2l9YqVf",
        "outputId": "3f2233f2-f1fe-4ee0-e281-ddeb5505b790"
      },
      "outputs": [
        {
          "data": {
            "text/html": [
              "<div>\n",
              "<table border=\"1\" class=\"dataframe\">\n",
              "  <thead>\n",
              "    <tr style=\"text-align: right;\">\n",
              "      <th></th>\n",
              "      <th>hobby</th>\n",
              "      <th>weight</th>\n",
              "      <th>age</th>\n",
              "      <th>over 30</th>\n",
              "      <th>pets</th>\n",
              "    </tr>\n",
              "  </thead>\n",
              "  <tbody>\n",
              "    <tr>\n",
              "      <th>alice</th>\n",
              "      <td>Biking</td>\n",
              "      <td>68</td>\n",
              "      <td>31</td>\n",
              "      <td>True</td>\n",
              "      <td>NaN</td>\n",
              "    </tr>\n",
              "    <tr>\n",
              "      <th>bob</th>\n",
              "      <td>Dancing</td>\n",
              "      <td>83</td>\n",
              "      <td>32</td>\n",
              "      <td>True</td>\n",
              "      <td>0</td>\n",
              "    </tr>\n",
              "    <tr>\n",
              "      <th>charles</th>\n",
              "      <td>NaN</td>\n",
              "      <td>112</td>\n",
              "      <td>24</td>\n",
              "      <td>False</td>\n",
              "      <td>5</td>\n",
              "    </tr>\n",
              "  </tbody>\n",
              "</table>\n",
              "</div>"
            ],
            "text/plain": [
              "           hobby  weight  age over 30  pets\n",
              "alice     Biking      68   31    True   NaN\n",
              "bob      Dancing      83   32    True     0\n",
              "charles      NaN     112   24   False     5"
            ]
          },
          "execution_count": 76,
          "metadata": {},
          "output_type": "execute_result"
        }
      ],
      "source": [
        "people[\"pets\"] = pd.Series({\"bob\": 0, \"charles\": 5, \"eugene\":1})  # alice is missing, eugene is ignored\n",
        "people"
      ]
    },
    {
      "cell_type": "markdown",
      "metadata": {
        "id": "2Sg2mKVEYqVf"
      },
      "source": [
        "When adding a new column, it is added at the end (on the right) by default. You can also insert a column anywhere else using the `insert` method:"
      ]
    },
    {
      "cell_type": "code",
      "execution_count": null,
      "metadata": {
        "id": "W_sT2KJOYqVf",
        "outputId": "c2bfc3d2-99a3-4cf3-8995-fffa7271a482"
      },
      "outputs": [
        {
          "data": {
            "text/html": [
              "<div>\n",
              "<table border=\"1\" class=\"dataframe\">\n",
              "  <thead>\n",
              "    <tr style=\"text-align: right;\">\n",
              "      <th></th>\n",
              "      <th>hobby</th>\n",
              "      <th>height</th>\n",
              "      <th>weight</th>\n",
              "      <th>age</th>\n",
              "      <th>over 30</th>\n",
              "      <th>pets</th>\n",
              "    </tr>\n",
              "  </thead>\n",
              "  <tbody>\n",
              "    <tr>\n",
              "      <th>alice</th>\n",
              "      <td>Biking</td>\n",
              "      <td>172</td>\n",
              "      <td>68</td>\n",
              "      <td>31</td>\n",
              "      <td>True</td>\n",
              "      <td>NaN</td>\n",
              "    </tr>\n",
              "    <tr>\n",
              "      <th>bob</th>\n",
              "      <td>Dancing</td>\n",
              "      <td>181</td>\n",
              "      <td>83</td>\n",
              "      <td>32</td>\n",
              "      <td>True</td>\n",
              "      <td>0</td>\n",
              "    </tr>\n",
              "    <tr>\n",
              "      <th>charles</th>\n",
              "      <td>NaN</td>\n",
              "      <td>185</td>\n",
              "      <td>112</td>\n",
              "      <td>24</td>\n",
              "      <td>False</td>\n",
              "      <td>5</td>\n",
              "    </tr>\n",
              "  </tbody>\n",
              "</table>\n",
              "</div>"
            ],
            "text/plain": [
              "           hobby  height  weight  age over 30  pets\n",
              "alice     Biking     172      68   31    True   NaN\n",
              "bob      Dancing     181      83   32    True     0\n",
              "charles      NaN     185     112   24   False     5"
            ]
          },
          "execution_count": 77,
          "metadata": {},
          "output_type": "execute_result"
        }
      ],
      "source": [
        "people.insert(1, \"height\", [172, 181, 185])\n",
        "people"
      ]
    },
    {
      "cell_type": "markdown",
      "metadata": {
        "id": "c0DX9RwnYqVg"
      },
      "source": [
        "## Assigning new columns\n",
        "You can also create new columns by calling the `assign` method. Note that this returns a new `DataFrame` object, the original is not modified:"
      ]
    },
    {
      "cell_type": "code",
      "execution_count": null,
      "metadata": {
        "id": "FDkyIckcYqVg",
        "outputId": "c0cebe04-0718-4c52-981f-6352ea848076"
      },
      "outputs": [
        {
          "data": {
            "text/html": [
              "<div>\n",
              "<table border=\"1\" class=\"dataframe\">\n",
              "  <thead>\n",
              "    <tr style=\"text-align: right;\">\n",
              "      <th></th>\n",
              "      <th>hobby</th>\n",
              "      <th>height</th>\n",
              "      <th>weight</th>\n",
              "      <th>age</th>\n",
              "      <th>over 30</th>\n",
              "      <th>pets</th>\n",
              "      <th>body_mass_index</th>\n",
              "      <th>has_pets</th>\n",
              "    </tr>\n",
              "  </thead>\n",
              "  <tbody>\n",
              "    <tr>\n",
              "      <th>alice</th>\n",
              "      <td>Biking</td>\n",
              "      <td>172</td>\n",
              "      <td>68</td>\n",
              "      <td>31</td>\n",
              "      <td>True</td>\n",
              "      <td>NaN</td>\n",
              "      <td>22.985398</td>\n",
              "      <td>False</td>\n",
              "    </tr>\n",
              "    <tr>\n",
              "      <th>bob</th>\n",
              "      <td>Dancing</td>\n",
              "      <td>181</td>\n",
              "      <td>83</td>\n",
              "      <td>32</td>\n",
              "      <td>True</td>\n",
              "      <td>0</td>\n",
              "      <td>25.335002</td>\n",
              "      <td>False</td>\n",
              "    </tr>\n",
              "    <tr>\n",
              "      <th>charles</th>\n",
              "      <td>NaN</td>\n",
              "      <td>185</td>\n",
              "      <td>112</td>\n",
              "      <td>24</td>\n",
              "      <td>False</td>\n",
              "      <td>5</td>\n",
              "      <td>32.724617</td>\n",
              "      <td>True</td>\n",
              "    </tr>\n",
              "  </tbody>\n",
              "</table>\n",
              "</div>"
            ],
            "text/plain": [
              "           hobby  height  weight  age over 30  pets  body_mass_index has_pets\n",
              "alice     Biking     172      68   31    True   NaN        22.985398    False\n",
              "bob      Dancing     181      83   32    True     0        25.335002    False\n",
              "charles      NaN     185     112   24   False     5        32.724617     True"
            ]
          },
          "execution_count": 78,
          "metadata": {},
          "output_type": "execute_result"
        }
      ],
      "source": [
        "people.assign(\n",
        "    body_mass_index = people[\"weight\"] / (people[\"height\"] / 100) ** 2,\n",
        "    has_pets = people[\"pets\"] > 0\n",
        ")"
      ]
    },
    {
      "cell_type": "markdown",
      "metadata": {
        "id": "K-CtLhsSYqVg"
      },
      "source": [
        "Note that you cannot access columns created within the same assignment:"
      ]
    },
    {
      "cell_type": "code",
      "execution_count": null,
      "metadata": {
        "id": "iguDvwH6YqVg",
        "outputId": "8b0ef075-f8ec-4ddd-9f86-6bcef5a2e7cc"
      },
      "outputs": [
        {
          "name": "stdout",
          "output_type": "stream",
          "text": [
            "Key error: u'body_mass_index'\n"
          ]
        }
      ],
      "source": [
        "try:\n",
        "    people.assign(\n",
        "        body_mass_index = people[\"weight\"] / (people[\"height\"] / 100) ** 2,\n",
        "        overweight = people[\"body_mass_index\"] > 25\n",
        "    )\n",
        "except KeyError as e:\n",
        "    print(\"Key error:\", e)"
      ]
    },
    {
      "cell_type": "markdown",
      "metadata": {
        "id": "AFX9OCneYqVh"
      },
      "source": [
        "The solution is to split this assignment in two consecutive assignments:"
      ]
    },
    {
      "cell_type": "code",
      "execution_count": null,
      "metadata": {
        "id": "u0iIQesLYqVh",
        "outputId": "af5f05a1-675a-477b-9bd0-47ab9759dfd4"
      },
      "outputs": [
        {
          "data": {
            "text/html": [
              "<div>\n",
              "<table border=\"1\" class=\"dataframe\">\n",
              "  <thead>\n",
              "    <tr style=\"text-align: right;\">\n",
              "      <th></th>\n",
              "      <th>hobby</th>\n",
              "      <th>height</th>\n",
              "      <th>weight</th>\n",
              "      <th>age</th>\n",
              "      <th>over 30</th>\n",
              "      <th>pets</th>\n",
              "      <th>body_mass_index</th>\n",
              "      <th>overweight</th>\n",
              "    </tr>\n",
              "  </thead>\n",
              "  <tbody>\n",
              "    <tr>\n",
              "      <th>alice</th>\n",
              "      <td>Biking</td>\n",
              "      <td>172</td>\n",
              "      <td>68</td>\n",
              "      <td>31</td>\n",
              "      <td>True</td>\n",
              "      <td>NaN</td>\n",
              "      <td>22.985398</td>\n",
              "      <td>False</td>\n",
              "    </tr>\n",
              "    <tr>\n",
              "      <th>bob</th>\n",
              "      <td>Dancing</td>\n",
              "      <td>181</td>\n",
              "      <td>83</td>\n",
              "      <td>32</td>\n",
              "      <td>True</td>\n",
              "      <td>0</td>\n",
              "      <td>25.335002</td>\n",
              "      <td>True</td>\n",
              "    </tr>\n",
              "    <tr>\n",
              "      <th>charles</th>\n",
              "      <td>NaN</td>\n",
              "      <td>185</td>\n",
              "      <td>112</td>\n",
              "      <td>24</td>\n",
              "      <td>False</td>\n",
              "      <td>5</td>\n",
              "      <td>32.724617</td>\n",
              "      <td>True</td>\n",
              "    </tr>\n",
              "  </tbody>\n",
              "</table>\n",
              "</div>"
            ],
            "text/plain": [
              "           hobby  height  weight  age over 30  pets  body_mass_index  \\\n",
              "alice     Biking     172      68   31    True   NaN        22.985398   \n",
              "bob      Dancing     181      83   32    True     0        25.335002   \n",
              "charles      NaN     185     112   24   False     5        32.724617   \n",
              "\n",
              "        overweight  \n",
              "alice        False  \n",
              "bob           True  \n",
              "charles       True  "
            ]
          },
          "execution_count": 80,
          "metadata": {},
          "output_type": "execute_result"
        }
      ],
      "source": [
        "d6 = people.assign(body_mass_index = people[\"weight\"] / (people[\"height\"] / 100) ** 2)\n",
        "d6.assign(overweight = d6[\"body_mass_index\"] > 25)"
      ]
    },
    {
      "cell_type": "markdown",
      "metadata": {
        "id": "QlmwM-NGYqVh"
      },
      "source": [
        "Having to create a temporary variable `d6` is not very convenient. You may want to just chain the assigment calls, but it does not work because the `people` object is not actually modified by the first assignment:"
      ]
    },
    {
      "cell_type": "code",
      "execution_count": null,
      "metadata": {
        "id": "c8tHOjFbYqVh",
        "outputId": "e41443eb-26a6-4966-c538-c281733fe138"
      },
      "outputs": [
        {
          "name": "stdout",
          "output_type": "stream",
          "text": [
            "Key error: u'body_mass_index'\n"
          ]
        }
      ],
      "source": [
        "try:\n",
        "    (people\n",
        "         .assign(body_mass_index = people[\"weight\"] / (people[\"height\"] / 100) ** 2)\n",
        "         .assign(overweight = people[\"body_mass_index\"] > 25)\n",
        "    )\n",
        "except KeyError as e:\n",
        "    print(\"Key error:\", e)"
      ]
    },
    {
      "cell_type": "markdown",
      "metadata": {
        "id": "4rg8nyCRYqVh"
      },
      "source": [
        "But fear not, there is a simple solution. You can pass a function to the `assign` method (typically a `lambda` function), and this function will be called with the `DataFrame` as a parameter:"
      ]
    },
    {
      "cell_type": "code",
      "execution_count": null,
      "metadata": {
        "id": "lPhLww9NYqVh",
        "outputId": "1814a58f-8f2a-478d-b9c5-a9bf459975d1"
      },
      "outputs": [
        {
          "data": {
            "text/html": [
              "<div>\n",
              "<table border=\"1\" class=\"dataframe\">\n",
              "  <thead>\n",
              "    <tr style=\"text-align: right;\">\n",
              "      <th></th>\n",
              "      <th>hobby</th>\n",
              "      <th>height</th>\n",
              "      <th>weight</th>\n",
              "      <th>age</th>\n",
              "      <th>over 30</th>\n",
              "      <th>pets</th>\n",
              "      <th>body_mass_index</th>\n",
              "      <th>overweight</th>\n",
              "    </tr>\n",
              "  </thead>\n",
              "  <tbody>\n",
              "    <tr>\n",
              "      <th>alice</th>\n",
              "      <td>Biking</td>\n",
              "      <td>172</td>\n",
              "      <td>68</td>\n",
              "      <td>31</td>\n",
              "      <td>True</td>\n",
              "      <td>NaN</td>\n",
              "      <td>22.985398</td>\n",
              "      <td>False</td>\n",
              "    </tr>\n",
              "    <tr>\n",
              "      <th>bob</th>\n",
              "      <td>Dancing</td>\n",
              "      <td>181</td>\n",
              "      <td>83</td>\n",
              "      <td>32</td>\n",
              "      <td>True</td>\n",
              "      <td>0</td>\n",
              "      <td>25.335002</td>\n",
              "      <td>True</td>\n",
              "    </tr>\n",
              "    <tr>\n",
              "      <th>charles</th>\n",
              "      <td>NaN</td>\n",
              "      <td>185</td>\n",
              "      <td>112</td>\n",
              "      <td>24</td>\n",
              "      <td>False</td>\n",
              "      <td>5</td>\n",
              "      <td>32.724617</td>\n",
              "      <td>True</td>\n",
              "    </tr>\n",
              "  </tbody>\n",
              "</table>\n",
              "</div>"
            ],
            "text/plain": [
              "           hobby  height  weight  age over 30  pets  body_mass_index  \\\n",
              "alice     Biking     172      68   31    True   NaN        22.985398   \n",
              "bob      Dancing     181      83   32    True     0        25.335002   \n",
              "charles      NaN     185     112   24   False     5        32.724617   \n",
              "\n",
              "        overweight  \n",
              "alice        False  \n",
              "bob           True  \n",
              "charles       True  "
            ]
          },
          "execution_count": 82,
          "metadata": {},
          "output_type": "execute_result"
        }
      ],
      "source": [
        "(people\n",
        "     .assign(body_mass_index = lambda df: df[\"weight\"] / (df[\"height\"] / 100) ** 2)\n",
        "     .assign(overweight = lambda df: df[\"body_mass_index\"] > 25)\n",
        ")"
      ]
    },
    {
      "cell_type": "markdown",
      "metadata": {
        "id": "xHzogaJ4YqVh"
      },
      "source": [
        "Problem solved!"
      ]
    },
    {
      "cell_type": "markdown",
      "metadata": {
        "id": "XWBsccRzYqVi"
      },
      "source": [
        "## Evaluating an expression\n",
        "A great feature supported by pandas is expression evaluation. This relies on the `numexpr` library which must be installed."
      ]
    },
    {
      "cell_type": "code",
      "execution_count": null,
      "metadata": {
        "id": "C3RgST_mYqVi",
        "outputId": "1f548a35-58a2-4070-94a9-68e3abd57bc4"
      },
      "outputs": [
        {
          "data": {
            "text/plain": [
              "alice      False\n",
              "bob         True\n",
              "charles     True\n",
              "dtype: bool"
            ]
          },
          "execution_count": 83,
          "metadata": {},
          "output_type": "execute_result"
        }
      ],
      "source": [
        "people.eval(\"weight / (height/100) ** 2 > 25\")"
      ]
    },
    {
      "cell_type": "markdown",
      "metadata": {
        "id": "xVDL4jg1YqVi"
      },
      "source": [
        "Assignment expressions are also supported, and contrary to the `assign` method, this does not create a copy of the `DataFrame`, instead it directly modifies it:"
      ]
    },
    {
      "cell_type": "code",
      "execution_count": null,
      "metadata": {
        "id": "1rFlxhBxYqVi",
        "outputId": "59d48f69-6904-4390-c292-165a9959540a"
      },
      "outputs": [
        {
          "data": {
            "text/html": [
              "<div>\n",
              "<table border=\"1\" class=\"dataframe\">\n",
              "  <thead>\n",
              "    <tr style=\"text-align: right;\">\n",
              "      <th></th>\n",
              "      <th>hobby</th>\n",
              "      <th>height</th>\n",
              "      <th>weight</th>\n",
              "      <th>age</th>\n",
              "      <th>over 30</th>\n",
              "      <th>pets</th>\n",
              "      <th>body_mass_index</th>\n",
              "    </tr>\n",
              "  </thead>\n",
              "  <tbody>\n",
              "    <tr>\n",
              "      <th>alice</th>\n",
              "      <td>Biking</td>\n",
              "      <td>172</td>\n",
              "      <td>68</td>\n",
              "      <td>31</td>\n",
              "      <td>True</td>\n",
              "      <td>NaN</td>\n",
              "      <td>22.985398</td>\n",
              "    </tr>\n",
              "    <tr>\n",
              "      <th>bob</th>\n",
              "      <td>Dancing</td>\n",
              "      <td>181</td>\n",
              "      <td>83</td>\n",
              "      <td>32</td>\n",
              "      <td>True</td>\n",
              "      <td>0</td>\n",
              "      <td>25.335002</td>\n",
              "    </tr>\n",
              "    <tr>\n",
              "      <th>charles</th>\n",
              "      <td>NaN</td>\n",
              "      <td>185</td>\n",
              "      <td>112</td>\n",
              "      <td>24</td>\n",
              "      <td>False</td>\n",
              "      <td>5</td>\n",
              "      <td>32.724617</td>\n",
              "    </tr>\n",
              "  </tbody>\n",
              "</table>\n",
              "</div>"
            ],
            "text/plain": [
              "           hobby  height  weight  age over 30  pets  body_mass_index\n",
              "alice     Biking     172      68   31    True   NaN        22.985398\n",
              "bob      Dancing     181      83   32    True     0        25.335002\n",
              "charles      NaN     185     112   24   False     5        32.724617"
            ]
          },
          "execution_count": 84,
          "metadata": {},
          "output_type": "execute_result"
        }
      ],
      "source": [
        "people.eval(\"body_mass_index = weight / (height/100) ** 2\")\n",
        "people"
      ]
    },
    {
      "cell_type": "markdown",
      "metadata": {
        "id": "D6lPYQepYqVi"
      },
      "source": [
        "You can use a local or global variable in an expression by prefixing it with `'@'`:"
      ]
    },
    {
      "cell_type": "code",
      "execution_count": null,
      "metadata": {
        "id": "ljW7UY2UYqVi",
        "outputId": "abaa9523-46fe-4cd6-f1e6-05806928c1c8"
      },
      "outputs": [
        {
          "data": {
            "text/html": [
              "<div>\n",
              "<table border=\"1\" class=\"dataframe\">\n",
              "  <thead>\n",
              "    <tr style=\"text-align: right;\">\n",
              "      <th></th>\n",
              "      <th>hobby</th>\n",
              "      <th>height</th>\n",
              "      <th>weight</th>\n",
              "      <th>age</th>\n",
              "      <th>over 30</th>\n",
              "      <th>pets</th>\n",
              "      <th>body_mass_index</th>\n",
              "      <th>overweight</th>\n",
              "    </tr>\n",
              "  </thead>\n",
              "  <tbody>\n",
              "    <tr>\n",
              "      <th>alice</th>\n",
              "      <td>Biking</td>\n",
              "      <td>172</td>\n",
              "      <td>68</td>\n",
              "      <td>31</td>\n",
              "      <td>True</td>\n",
              "      <td>NaN</td>\n",
              "      <td>22.985398</td>\n",
              "      <td>False</td>\n",
              "    </tr>\n",
              "    <tr>\n",
              "      <th>bob</th>\n",
              "      <td>Dancing</td>\n",
              "      <td>181</td>\n",
              "      <td>83</td>\n",
              "      <td>32</td>\n",
              "      <td>True</td>\n",
              "      <td>0</td>\n",
              "      <td>25.335002</td>\n",
              "      <td>False</td>\n",
              "    </tr>\n",
              "    <tr>\n",
              "      <th>charles</th>\n",
              "      <td>NaN</td>\n",
              "      <td>185</td>\n",
              "      <td>112</td>\n",
              "      <td>24</td>\n",
              "      <td>False</td>\n",
              "      <td>5</td>\n",
              "      <td>32.724617</td>\n",
              "      <td>True</td>\n",
              "    </tr>\n",
              "  </tbody>\n",
              "</table>\n",
              "</div>"
            ],
            "text/plain": [
              "           hobby  height  weight  age over 30  pets  body_mass_index  \\\n",
              "alice     Biking     172      68   31    True   NaN        22.985398   \n",
              "bob      Dancing     181      83   32    True     0        25.335002   \n",
              "charles      NaN     185     112   24   False     5        32.724617   \n",
              "\n",
              "        overweight  \n",
              "alice        False  \n",
              "bob          False  \n",
              "charles       True  "
            ]
          },
          "execution_count": 85,
          "metadata": {},
          "output_type": "execute_result"
        }
      ],
      "source": [
        "overweight_threshold = 30\n",
        "people.eval(\"overweight = body_mass_index > @overweight_threshold\")\n",
        "people"
      ]
    },
    {
      "cell_type": "markdown",
      "metadata": {
        "id": "KYVDHiZAYqVi"
      },
      "source": [
        "## Querying a `DataFrame`\n",
        "The `query` method lets you filter a `DataFrame` based on a query expression:"
      ]
    },
    {
      "cell_type": "code",
      "execution_count": null,
      "metadata": {
        "id": "BvemGHANYqVi",
        "outputId": "d17b0161-1afb-4ec7-9932-5a938866beb9"
      },
      "outputs": [
        {
          "data": {
            "text/html": [
              "<div>\n",
              "<table border=\"1\" class=\"dataframe\">\n",
              "  <thead>\n",
              "    <tr style=\"text-align: right;\">\n",
              "      <th></th>\n",
              "      <th>hobby</th>\n",
              "      <th>height</th>\n",
              "      <th>weight</th>\n",
              "      <th>age</th>\n",
              "      <th>over 30</th>\n",
              "      <th>pets</th>\n",
              "      <th>body_mass_index</th>\n",
              "      <th>overweight</th>\n",
              "    </tr>\n",
              "  </thead>\n",
              "  <tbody>\n",
              "    <tr>\n",
              "      <th>bob</th>\n",
              "      <td>Dancing</td>\n",
              "      <td>181</td>\n",
              "      <td>83</td>\n",
              "      <td>32</td>\n",
              "      <td>True</td>\n",
              "      <td>0</td>\n",
              "      <td>25.335002</td>\n",
              "      <td>False</td>\n",
              "    </tr>\n",
              "  </tbody>\n",
              "</table>\n",
              "</div>"
            ],
            "text/plain": [
              "       hobby  height  weight  age over 30  pets  body_mass_index overweight\n",
              "bob  Dancing     181      83   32    True     0        25.335002      False"
            ]
          },
          "execution_count": 86,
          "metadata": {},
          "output_type": "execute_result"
        }
      ],
      "source": [
        "people.query(\"age > 30 and pets == 0\")"
      ]
    },
    {
      "cell_type": "markdown",
      "metadata": {
        "id": "oLPPHqNxYqVj"
      },
      "source": [
        "## Sorting a `DataFrame`\n",
        "You can sort a `DataFrame` by calling its `sort_index` method. By default it sorts the rows by their index label, in ascending order, but let's reverse the order:"
      ]
    },
    {
      "cell_type": "code",
      "execution_count": null,
      "metadata": {
        "id": "IFTgXw2DYqVj",
        "outputId": "68140876-5b1a-466f-cb03-0b1ce1a50e53"
      },
      "outputs": [
        {
          "data": {
            "text/html": [
              "<div>\n",
              "<table border=\"1\" class=\"dataframe\">\n",
              "  <thead>\n",
              "    <tr style=\"text-align: right;\">\n",
              "      <th></th>\n",
              "      <th>hobby</th>\n",
              "      <th>height</th>\n",
              "      <th>weight</th>\n",
              "      <th>age</th>\n",
              "      <th>over 30</th>\n",
              "      <th>pets</th>\n",
              "      <th>body_mass_index</th>\n",
              "      <th>overweight</th>\n",
              "    </tr>\n",
              "  </thead>\n",
              "  <tbody>\n",
              "    <tr>\n",
              "      <th>charles</th>\n",
              "      <td>NaN</td>\n",
              "      <td>185</td>\n",
              "      <td>112</td>\n",
              "      <td>24</td>\n",
              "      <td>False</td>\n",
              "      <td>5</td>\n",
              "      <td>32.724617</td>\n",
              "      <td>True</td>\n",
              "    </tr>\n",
              "    <tr>\n",
              "      <th>bob</th>\n",
              "      <td>Dancing</td>\n",
              "      <td>181</td>\n",
              "      <td>83</td>\n",
              "      <td>32</td>\n",
              "      <td>True</td>\n",
              "      <td>0</td>\n",
              "      <td>25.335002</td>\n",
              "      <td>False</td>\n",
              "    </tr>\n",
              "    <tr>\n",
              "      <th>alice</th>\n",
              "      <td>Biking</td>\n",
              "      <td>172</td>\n",
              "      <td>68</td>\n",
              "      <td>31</td>\n",
              "      <td>True</td>\n",
              "      <td>NaN</td>\n",
              "      <td>22.985398</td>\n",
              "      <td>False</td>\n",
              "    </tr>\n",
              "  </tbody>\n",
              "</table>\n",
              "</div>"
            ],
            "text/plain": [
              "           hobby  height  weight  age over 30  pets  body_mass_index  \\\n",
              "charles      NaN     185     112   24   False     5        32.724617   \n",
              "bob      Dancing     181      83   32    True     0        25.335002   \n",
              "alice     Biking     172      68   31    True   NaN        22.985398   \n",
              "\n",
              "        overweight  \n",
              "charles       True  \n",
              "bob          False  \n",
              "alice        False  "
            ]
          },
          "execution_count": 87,
          "metadata": {},
          "output_type": "execute_result"
        }
      ],
      "source": [
        "people.sort_index(ascending=False)"
      ]
    },
    {
      "cell_type": "markdown",
      "metadata": {
        "id": "2so41a6UYqVj"
      },
      "source": [
        "Note that `sort_index` returned a sorted *copy* of the `DataFrame`. To modify `people` directly, we can set the `inplace` argument to `True`. Also, we can sort the columns instead of the rows by setting `axis=1`:"
      ]
    },
    {
      "cell_type": "code",
      "execution_count": null,
      "metadata": {
        "id": "MIvp2u8AYqVj",
        "outputId": "7c831ca4-378e-492e-b6c9-c43105e5b18b"
      },
      "outputs": [
        {
          "data": {
            "text/html": [
              "<div>\n",
              "<table border=\"1\" class=\"dataframe\">\n",
              "  <thead>\n",
              "    <tr style=\"text-align: right;\">\n",
              "      <th></th>\n",
              "      <th>age</th>\n",
              "      <th>body_mass_index</th>\n",
              "      <th>height</th>\n",
              "      <th>hobby</th>\n",
              "      <th>over 30</th>\n",
              "      <th>overweight</th>\n",
              "      <th>pets</th>\n",
              "      <th>weight</th>\n",
              "    </tr>\n",
              "  </thead>\n",
              "  <tbody>\n",
              "    <tr>\n",
              "      <th>alice</th>\n",
              "      <td>31</td>\n",
              "      <td>22.985398</td>\n",
              "      <td>172</td>\n",
              "      <td>Biking</td>\n",
              "      <td>True</td>\n",
              "      <td>False</td>\n",
              "      <td>NaN</td>\n",
              "      <td>68</td>\n",
              "    </tr>\n",
              "    <tr>\n",
              "      <th>bob</th>\n",
              "      <td>32</td>\n",
              "      <td>25.335002</td>\n",
              "      <td>181</td>\n",
              "      <td>Dancing</td>\n",
              "      <td>True</td>\n",
              "      <td>False</td>\n",
              "      <td>0</td>\n",
              "      <td>83</td>\n",
              "    </tr>\n",
              "    <tr>\n",
              "      <th>charles</th>\n",
              "      <td>24</td>\n",
              "      <td>32.724617</td>\n",
              "      <td>185</td>\n",
              "      <td>NaN</td>\n",
              "      <td>False</td>\n",
              "      <td>True</td>\n",
              "      <td>5</td>\n",
              "      <td>112</td>\n",
              "    </tr>\n",
              "  </tbody>\n",
              "</table>\n",
              "</div>"
            ],
            "text/plain": [
              "         age  body_mass_index  height    hobby over 30 overweight  pets  \\\n",
              "alice     31        22.985398     172   Biking    True      False   NaN   \n",
              "bob       32        25.335002     181  Dancing    True      False     0   \n",
              "charles   24        32.724617     185      NaN   False       True     5   \n",
              "\n",
              "         weight  \n",
              "alice        68  \n",
              "bob          83  \n",
              "charles     112  "
            ]
          },
          "execution_count": 88,
          "metadata": {},
          "output_type": "execute_result"
        }
      ],
      "source": [
        "people.sort_index(axis=1, inplace=True)\n",
        "people"
      ]
    },
    {
      "cell_type": "markdown",
      "metadata": {
        "id": "UOREenz4YqVj"
      },
      "source": [
        "To sort the `DataFrame` by the values instead of the labels, we can use `sort_values` and specify the column to sort by:"
      ]
    },
    {
      "cell_type": "code",
      "execution_count": null,
      "metadata": {
        "id": "OTNBMRTgYqVj",
        "outputId": "de76a117-7066-43c7-a974-5a12ae346355"
      },
      "outputs": [
        {
          "data": {
            "text/html": [
              "<div>\n",
              "<table border=\"1\" class=\"dataframe\">\n",
              "  <thead>\n",
              "    <tr style=\"text-align: right;\">\n",
              "      <th></th>\n",
              "      <th>age</th>\n",
              "      <th>body_mass_index</th>\n",
              "      <th>height</th>\n",
              "      <th>hobby</th>\n",
              "      <th>over 30</th>\n",
              "      <th>overweight</th>\n",
              "      <th>pets</th>\n",
              "      <th>weight</th>\n",
              "    </tr>\n",
              "  </thead>\n",
              "  <tbody>\n",
              "    <tr>\n",
              "      <th>charles</th>\n",
              "      <td>24</td>\n",
              "      <td>32.724617</td>\n",
              "      <td>185</td>\n",
              "      <td>NaN</td>\n",
              "      <td>False</td>\n",
              "      <td>True</td>\n",
              "      <td>5</td>\n",
              "      <td>112</td>\n",
              "    </tr>\n",
              "    <tr>\n",
              "      <th>alice</th>\n",
              "      <td>31</td>\n",
              "      <td>22.985398</td>\n",
              "      <td>172</td>\n",
              "      <td>Biking</td>\n",
              "      <td>True</td>\n",
              "      <td>False</td>\n",
              "      <td>NaN</td>\n",
              "      <td>68</td>\n",
              "    </tr>\n",
              "    <tr>\n",
              "      <th>bob</th>\n",
              "      <td>32</td>\n",
              "      <td>25.335002</td>\n",
              "      <td>181</td>\n",
              "      <td>Dancing</td>\n",
              "      <td>True</td>\n",
              "      <td>False</td>\n",
              "      <td>0</td>\n",
              "      <td>83</td>\n",
              "    </tr>\n",
              "  </tbody>\n",
              "</table>\n",
              "</div>"
            ],
            "text/plain": [
              "         age  body_mass_index  height    hobby over 30 overweight  pets  \\\n",
              "charles   24        32.724617     185      NaN   False       True     5   \n",
              "alice     31        22.985398     172   Biking    True      False   NaN   \n",
              "bob       32        25.335002     181  Dancing    True      False     0   \n",
              "\n",
              "         weight  \n",
              "charles     112  \n",
              "alice        68  \n",
              "bob          83  "
            ]
          },
          "execution_count": 89,
          "metadata": {},
          "output_type": "execute_result"
        }
      ],
      "source": [
        "people.sort_values(by=\"age\", inplace=True)\n",
        "people"
      ]
    },
    {
      "cell_type": "markdown",
      "metadata": {
        "id": "-OhEkUoyYqVj"
      },
      "source": [
        "## Plotting a `DataFrame`\n",
        "Just like for `Series`, pandas makes it easy to draw nice graphs based on a `DataFrame`.\n",
        "\n",
        "For example, it is trivial to create a line plot from a `DataFrame`'s data by calling its `plot` method:"
      ]
    },
    {
      "cell_type": "code",
      "execution_count": null,
      "metadata": {
        "id": "VxgtLTwoYqVk",
        "outputId": "8775ee25-43c2-4dcd-a6fa-d86be5f02535"
      },
      "outputs": [
        {
          "data": {
            "image/png": "[encoded data removed]",
            "text/plain": [
              "<matplotlib.figure.Figure at 0x10c1b49d0>"
            ]
          },
          "metadata": {},
          "output_type": "display_data"
        }
      ],
      "source": [
        "people.plot(kind = \"line\", x = \"body_mass_index\", y = [\"height\", \"weight\"])\n",
        "plt.show()"
      ]
    },
    {
      "cell_type": "markdown",
      "metadata": {
        "id": "-nsSzfZOYqVk"
      },
      "source": [
        "You can pass extra arguments supported by matplotlib's functions. For example, we can create scatterplot and pass it a list of sizes using the `s` argument of matplotlib's `scatter` function:"
      ]
    },
    {
      "cell_type": "code",
      "execution_count": null,
      "metadata": {
        "scrolled": true,
        "id": "XTGB93HLYqVk",
        "outputId": "6437a166-ee3f-48db-8c02-ff1ac2529a15"
      },
      "outputs": [
        {
          "data": {
            "image/png": "[encoded data removed]",
            "text/plain": [
              "<matplotlib.figure.Figure at 0x10c277850>"
            ]
          },
          "metadata": {},
          "output_type": "display_data"
        }
      ],
      "source": [
        "people.plot(kind = \"scatter\", x = \"height\", y = \"weight\", s=[40, 120, 200])\n",
        "plt.show()"
      ]
    },
    {
      "cell_type": "markdown",
      "metadata": {
        "id": "5o8ox4b3YqVk"
      },
      "source": [
        "Again, there are way too many options to list here: the best option is to scroll through the [Visualization](http://pandas.pydata.org/pandas-docs/stable/visualization.html) page in pandas' documentation, find the plot you are interested in and look at the example code."
      ]
    },
    {
      "cell_type": "markdown",
      "metadata": {
        "id": "9l0fan-1YqVk"
      },
      "source": [
        "## Operations on `DataFrame`s\n",
        "Although `DataFrame`s do not try to mimick NumPy arrays, there are a few similarities. Let's create a `DataFrame` to demonstrate this:"
      ]
    },
    {
      "cell_type": "code",
      "execution_count": null,
      "metadata": {
        "id": "yRY9oKl0YqVk",
        "outputId": "f308cc9e-3cf8-4b71-a7a9-aa8dad090a73"
      },
      "outputs": [
        {
          "data": {
            "text/html": [
              "<div>\n",
              "<table border=\"1\" class=\"dataframe\">\n",
              "  <thead>\n",
              "    <tr style=\"text-align: right;\">\n",
              "      <th></th>\n",
              "      <th>sep</th>\n",
              "      <th>oct</th>\n",
              "      <th>nov</th>\n",
              "    </tr>\n",
              "  </thead>\n",
              "  <tbody>\n",
              "    <tr>\n",
              "      <th>alice</th>\n",
              "      <td>8</td>\n",
              "      <td>8</td>\n",
              "      <td>9</td>\n",
              "    </tr>\n",
              "    <tr>\n",
              "      <th>bob</th>\n",
              "      <td>10</td>\n",
              "      <td>9</td>\n",
              "      <td>9</td>\n",
              "    </tr>\n",
              "    <tr>\n",
              "      <th>charles</th>\n",
              "      <td>4</td>\n",
              "      <td>8</td>\n",
              "      <td>2</td>\n",
              "    </tr>\n",
              "    <tr>\n",
              "      <th>darwin</th>\n",
              "      <td>9</td>\n",
              "      <td>10</td>\n",
              "      <td>10</td>\n",
              "    </tr>\n",
              "  </tbody>\n",
              "</table>\n",
              "</div>"
            ],
            "text/plain": [
              "         sep  oct  nov\n",
              "alice      8    8    9\n",
              "bob       10    9    9\n",
              "charles    4    8    2\n",
              "darwin     9   10   10"
            ]
          },
          "execution_count": 92,
          "metadata": {},
          "output_type": "execute_result"
        }
      ],
      "source": [
        "grades_array = np.array([[8,8,9],[10,9,9],[4, 8, 2], [9, 10, 10]])\n",
        "grades = pd.DataFrame(grades_array, columns=[\"sep\", \"oct\", \"nov\"], index=[\"alice\",\"bob\",\"charles\",\"darwin\"])\n",
        "grades"
      ]
    },
    {
      "cell_type": "markdown",
      "metadata": {
        "id": "v952U9y1YqVk"
      },
      "source": [
        "You can apply NumPy mathematical functions on a `DataFrame`: the function is applied to all values:"
      ]
    },
    {
      "cell_type": "code",
      "execution_count": null,
      "metadata": {
        "id": "LAGFo9UbYqVk",
        "outputId": "1d1bb4d4-58a5-4de3-b856-554326d58c8b"
      },
      "outputs": [
        {
          "data": {
            "text/html": [
              "<div>\n",
              "<table border=\"1\" class=\"dataframe\">\n",
              "  <thead>\n",
              "    <tr style=\"text-align: right;\">\n",
              "      <th></th>\n",
              "      <th>sep</th>\n",
              "      <th>oct</th>\n",
              "      <th>nov</th>\n",
              "    </tr>\n",
              "  </thead>\n",
              "  <tbody>\n",
              "    <tr>\n",
              "      <th>alice</th>\n",
              "      <td>2.828427</td>\n",
              "      <td>2.828427</td>\n",
              "      <td>3.000000</td>\n",
              "    </tr>\n",
              "    <tr>\n",
              "      <th>bob</th>\n",
              "      <td>3.162278</td>\n",
              "      <td>3.000000</td>\n",
              "      <td>3.000000</td>\n",
              "    </tr>\n",
              "    <tr>\n",
              "      <th>charles</th>\n",
              "      <td>2.000000</td>\n",
              "      <td>2.828427</td>\n",
              "      <td>1.414214</td>\n",
              "    </tr>\n",
              "    <tr>\n",
              "      <th>darwin</th>\n",
              "      <td>3.000000</td>\n",
              "      <td>3.162278</td>\n",
              "      <td>3.162278</td>\n",
              "    </tr>\n",
              "  </tbody>\n",
              "</table>\n",
              "</div>"
            ],
            "text/plain": [
              "              sep       oct       nov\n",
              "alice    2.828427  2.828427  3.000000\n",
              "bob      3.162278  3.000000  3.000000\n",
              "charles  2.000000  2.828427  1.414214\n",
              "darwin   3.000000  3.162278  3.162278"
            ]
          },
          "execution_count": 93,
          "metadata": {},
          "output_type": "execute_result"
        }
      ],
      "source": [
        "np.sqrt(grades)"
      ]
    },
    {
      "cell_type": "markdown",
      "metadata": {
        "id": "OSpRI8BhYqVk"
      },
      "source": [
        "Similarly, adding a single value to a `DataFrame` will add that value to all elements in the `DataFrame`. This is called *broadcasting*:"
      ]
    },
    {
      "cell_type": "code",
      "execution_count": null,
      "metadata": {
        "id": "VDWJ1L9PYqVl",
        "outputId": "57e05091-49cd-44b4-c26b-fd7755dbc6d6"
      },
      "outputs": [
        {
          "data": {
            "text/html": [
              "<div>\n",
              "<table border=\"1\" class=\"dataframe\">\n",
              "  <thead>\n",
              "    <tr style=\"text-align: right;\">\n",
              "      <th></th>\n",
              "      <th>sep</th>\n",
              "      <th>oct</th>\n",
              "      <th>nov</th>\n",
              "    </tr>\n",
              "  </thead>\n",
              "  <tbody>\n",
              "    <tr>\n",
              "      <th>alice</th>\n",
              "      <td>9</td>\n",
              "      <td>9</td>\n",
              "      <td>10</td>\n",
              "    </tr>\n",
              "    <tr>\n",
              "      <th>bob</th>\n",
              "      <td>11</td>\n",
              "      <td>10</td>\n",
              "      <td>10</td>\n",
              "    </tr>\n",
              "    <tr>\n",
              "      <th>charles</th>\n",
              "      <td>5</td>\n",
              "      <td>9</td>\n",
              "      <td>3</td>\n",
              "    </tr>\n",
              "    <tr>\n",
              "      <th>darwin</th>\n",
              "      <td>10</td>\n",
              "      <td>11</td>\n",
              "      <td>11</td>\n",
              "    </tr>\n",
              "  </tbody>\n",
              "</table>\n",
              "</div>"
            ],
            "text/plain": [
              "         sep  oct  nov\n",
              "alice      9    9   10\n",
              "bob       11   10   10\n",
              "charles    5    9    3\n",
              "darwin    10   11   11"
            ]
          },
          "execution_count": 94,
          "metadata": {},
          "output_type": "execute_result"
        }
      ],
      "source": [
        "grades + 1"
      ]
    },
    {
      "cell_type": "markdown",
      "metadata": {
        "id": "CPf_9CnOYqVl"
      },
      "source": [
        "Of course, the same is true for all other binary operations, including arithmetic (`*`,`/`,`**`...) and conditional (`>`, `==`...) operations:"
      ]
    },
    {
      "cell_type": "code",
      "execution_count": null,
      "metadata": {
        "scrolled": false,
        "id": "UyC9TjJNYqVl",
        "outputId": "d788151d-e650-475d-f54f-cf00a7df0a8e"
      },
      "outputs": [
        {
          "data": {
            "text/html": [
              "<div>\n",
              "<table border=\"1\" class=\"dataframe\">\n",
              "  <thead>\n",
              "    <tr style=\"text-align: right;\">\n",
              "      <th></th>\n",
              "      <th>sep</th>\n",
              "      <th>oct</th>\n",
              "      <th>nov</th>\n",
              "    </tr>\n",
              "  </thead>\n",
              "  <tbody>\n",
              "    <tr>\n",
              "      <th>alice</th>\n",
              "      <td>True</td>\n",
              "      <td>True</td>\n",
              "      <td>True</td>\n",
              "    </tr>\n",
              "    <tr>\n",
              "      <th>bob</th>\n",
              "      <td>True</td>\n",
              "      <td>True</td>\n",
              "      <td>True</td>\n",
              "    </tr>\n",
              "    <tr>\n",
              "      <th>charles</th>\n",
              "      <td>False</td>\n",
              "      <td>True</td>\n",
              "      <td>False</td>\n",
              "    </tr>\n",
              "    <tr>\n",
              "      <th>darwin</th>\n",
              "      <td>True</td>\n",
              "      <td>True</td>\n",
              "      <td>True</td>\n",
              "    </tr>\n",
              "  </tbody>\n",
              "</table>\n",
              "</div>"
            ],
            "text/plain": [
              "           sep   oct    nov\n",
              "alice     True  True   True\n",
              "bob       True  True   True\n",
              "charles  False  True  False\n",
              "darwin    True  True   True"
            ]
          },
          "execution_count": 95,
          "metadata": {},
          "output_type": "execute_result"
        }
      ],
      "source": [
        "grades >= 5"
      ]
    },
    {
      "cell_type": "markdown",
      "metadata": {
        "id": "Z8IoLWG5YqVl"
      },
      "source": [
        "Aggregation operations, such as computing the `max`, the `sum` or the `mean` of a `DataFrame`, apply to each column, and you get back a `Series` object:"
      ]
    },
    {
      "cell_type": "code",
      "execution_count": null,
      "metadata": {
        "id": "PB0L5H0tYqVl",
        "outputId": "3e69f5cf-a10a-41e6-9822-794a70e90994"
      },
      "outputs": [
        {
          "data": {
            "text/plain": [
              "sep    7.75\n",
              "oct    8.75\n",
              "nov    7.50\n",
              "dtype: float64"
            ]
          },
          "execution_count": 96,
          "metadata": {},
          "output_type": "execute_result"
        }
      ],
      "source": [
        "grades.mean()"
      ]
    },
    {
      "cell_type": "markdown",
      "metadata": {
        "id": "rnMLG-zuYqVl"
      },
      "source": [
        "The `all` method is also an aggregation operation: it checks whether all values are `True` or not. Let's see during which months all students got a grade greater than `5`:"
      ]
    },
    {
      "cell_type": "code",
      "execution_count": null,
      "metadata": {
        "id": "B9G2y30cYqVl",
        "outputId": "7a866be3-6805-4f5b-c827-b95b3a7eb0e8"
      },
      "outputs": [
        {
          "data": {
            "text/plain": [
              "sep    False\n",
              "oct     True\n",
              "nov    False\n",
              "dtype: bool"
            ]
          },
          "execution_count": 97,
          "metadata": {},
          "output_type": "execute_result"
        }
      ],
      "source": [
        "(grades > 5).all()"
      ]
    },
    {
      "cell_type": "markdown",
      "metadata": {
        "id": "1ogQhh4GYqVl"
      },
      "source": [
        "Most of these functions take an optional `axis` parameter which lets you specify along which axis of the `DataFrame` you want the operation executed. The default is `axis=0`, meaning that the operation is executed vertically (on each column). You can set `axis=1` to execute the operation horizontally (on each row). For example, let's find out which students had all grades greater than `5`:"
      ]
    },
    {
      "cell_type": "code",
      "execution_count": null,
      "metadata": {
        "id": "MgfLCFcGYqVl",
        "outputId": "7b40a22a-a978-4770-d808-f448f13c3689"
      },
      "outputs": [
        {
          "data": {
            "text/plain": [
              "alice       True\n",
              "bob         True\n",
              "charles    False\n",
              "darwin      True\n",
              "dtype: bool"
            ]
          },
          "execution_count": 98,
          "metadata": {},
          "output_type": "execute_result"
        }
      ],
      "source": [
        "(grades > 5).all(axis = 1)"
      ]
    },
    {
      "cell_type": "markdown",
      "metadata": {
        "id": "e1hNjBHJYqVm"
      },
      "source": [
        "The `any` method returns `True` if any value is True. Let's see who got at least one grade 10:"
      ]
    },
    {
      "cell_type": "code",
      "execution_count": null,
      "metadata": {
        "id": "K-rFnnR4YqVm",
        "outputId": "bd83bc0e-d2e3-4277-f588-ad7e6c2aa3aa"
      },
      "outputs": [
        {
          "data": {
            "text/plain": [
              "alice      False\n",
              "bob         True\n",
              "charles    False\n",
              "darwin      True\n",
              "dtype: bool"
            ]
          },
          "execution_count": 99,
          "metadata": {},
          "output_type": "execute_result"
        }
      ],
      "source": [
        "(grades == 10).any(axis = 1)"
      ]
    },
    {
      "cell_type": "markdown",
      "metadata": {
        "id": "XgMJAq5jYqVp"
      },
      "source": [
        "If you add a `Series` object to a `DataFrame` (or execute any other binary operation), pandas attempts to broadcast the operation to all *rows* in the `DataFrame`. This only works if the `Series` has the same size as the `DataFrame`s rows. For example, let's substract the `mean` of the `DataFrame` (a `Series` object) from the `DataFrame`:"
      ]
    },
    {
      "cell_type": "code",
      "execution_count": null,
      "metadata": {
        "id": "uHI9796KYqVp",
        "outputId": "8917605b-442e-4ed3-de09-0764f26bd6c4"
      },
      "outputs": [
        {
          "data": {
            "text/html": [
              "<div>\n",
              "<table border=\"1\" class=\"dataframe\">\n",
              "  <thead>\n",
              "    <tr style=\"text-align: right;\">\n",
              "      <th></th>\n",
              "      <th>sep</th>\n",
              "      <th>oct</th>\n",
              "      <th>nov</th>\n",
              "    </tr>\n",
              "  </thead>\n",
              "  <tbody>\n",
              "    <tr>\n",
              "      <th>alice</th>\n",
              "      <td>0.25</td>\n",
              "      <td>-0.75</td>\n",
              "      <td>1.5</td>\n",
              "    </tr>\n",
              "    <tr>\n",
              "      <th>bob</th>\n",
              "      <td>2.25</td>\n",
              "      <td>0.25</td>\n",
              "      <td>1.5</td>\n",
              "    </tr>\n",
              "    <tr>\n",
              "      <th>charles</th>\n",
              "      <td>-3.75</td>\n",
              "      <td>-0.75</td>\n",
              "      <td>-5.5</td>\n",
              "    </tr>\n",
              "    <tr>\n",
              "      <th>darwin</th>\n",
              "      <td>1.25</td>\n",
              "      <td>1.25</td>\n",
              "      <td>2.5</td>\n",
              "    </tr>\n",
              "  </tbody>\n",
              "</table>\n",
              "</div>"
            ],
            "text/plain": [
              "          sep   oct  nov\n",
              "alice    0.25 -0.75  1.5\n",
              "bob      2.25  0.25  1.5\n",
              "charles -3.75 -0.75 -5.5\n",
              "darwin   1.25  1.25  2.5"
            ]
          },
          "execution_count": 100,
          "metadata": {},
          "output_type": "execute_result"
        }
      ],
      "source": [
        "grades - grades.mean()  # equivalent to: grades - [7.75, 8.75, 7.50]"
      ]
    },
    {
      "cell_type": "markdown",
      "metadata": {
        "id": "sD_0sVU6YqVq"
      },
      "source": [
        "We substracted `7.75` from all September grades, `8.75` from October grades and `7.50` from November grades. It is equivalent to substracting this `DataFrame`:"
      ]
    },
    {
      "cell_type": "code",
      "execution_count": null,
      "metadata": {
        "id": "PznocLkSYqVq",
        "outputId": "a5bfafb5-28c7-414c-86bb-a97cd690a604"
      },
      "outputs": [
        {
          "data": {
            "text/html": [
              "<div>\n",
              "<table border=\"1\" class=\"dataframe\">\n",
              "  <thead>\n",
              "    <tr style=\"text-align: right;\">\n",
              "      <th></th>\n",
              "      <th>sep</th>\n",
              "      <th>oct</th>\n",
              "      <th>nov</th>\n",
              "    </tr>\n",
              "  </thead>\n",
              "  <tbody>\n",
              "    <tr>\n",
              "      <th>alice</th>\n",
              "      <td>7.75</td>\n",
              "      <td>8.75</td>\n",
              "      <td>7.5</td>\n",
              "    </tr>\n",
              "    <tr>\n",
              "      <th>bob</th>\n",
              "      <td>7.75</td>\n",
              "      <td>8.75</td>\n",
              "      <td>7.5</td>\n",
              "    </tr>\n",
              "    <tr>\n",
              "      <th>charles</th>\n",
              "      <td>7.75</td>\n",
              "      <td>8.75</td>\n",
              "      <td>7.5</td>\n",
              "    </tr>\n",
              "    <tr>\n",
              "      <th>darwin</th>\n",
              "      <td>7.75</td>\n",
              "      <td>8.75</td>\n",
              "      <td>7.5</td>\n",
              "    </tr>\n",
              "  </tbody>\n",
              "</table>\n",
              "</div>"
            ],
            "text/plain": [
              "          sep   oct  nov\n",
              "alice    7.75  8.75  7.5\n",
              "bob      7.75  8.75  7.5\n",
              "charles  7.75  8.75  7.5\n",
              "darwin   7.75  8.75  7.5"
            ]
          },
          "execution_count": 101,
          "metadata": {},
          "output_type": "execute_result"
        }
      ],
      "source": [
        "pd.DataFrame([[7.75, 8.75, 7.50]]*4, index=grades.index, columns=grades.columns)"
      ]
    },
    {
      "cell_type": "markdown",
      "metadata": {
        "id": "tS1CKH_fYqVq"
      },
      "source": [
        "If you want to substract the global mean from every grade, here is one way to do it:"
      ]
    },
    {
      "cell_type": "code",
      "execution_count": null,
      "metadata": {
        "scrolled": true,
        "id": "UJxfseN_YqVq",
        "outputId": "d7e7ff33-0498-4fd4-ea8e-948446007311"
      },
      "outputs": [
        {
          "data": {
            "text/html": [
              "<div>\n",
              "<table border=\"1\" class=\"dataframe\">\n",
              "  <thead>\n",
              "    <tr style=\"text-align: right;\">\n",
              "      <th></th>\n",
              "      <th>sep</th>\n",
              "      <th>oct</th>\n",
              "      <th>nov</th>\n",
              "    </tr>\n",
              "  </thead>\n",
              "  <tbody>\n",
              "    <tr>\n",
              "      <th>alice</th>\n",
              "      <td>0</td>\n",
              "      <td>0</td>\n",
              "      <td>1</td>\n",
              "    </tr>\n",
              "    <tr>\n",
              "      <th>bob</th>\n",
              "      <td>2</td>\n",
              "      <td>1</td>\n",
              "      <td>1</td>\n",
              "    </tr>\n",
              "    <tr>\n",
              "      <th>charles</th>\n",
              "      <td>-4</td>\n",
              "      <td>0</td>\n",
              "      <td>-6</td>\n",
              "    </tr>\n",
              "    <tr>\n",
              "      <th>darwin</th>\n",
              "      <td>1</td>\n",
              "      <td>2</td>\n",
              "      <td>2</td>\n",
              "    </tr>\n",
              "  </tbody>\n",
              "</table>\n",
              "</div>"
            ],
            "text/plain": [
              "         sep  oct  nov\n",
              "alice      0    0    1\n",
              "bob        2    1    1\n",
              "charles   -4    0   -6\n",
              "darwin     1    2    2"
            ]
          },
          "execution_count": 102,
          "metadata": {},
          "output_type": "execute_result"
        }
      ],
      "source": [
        "grades - grades.values.mean() # substracts the global mean (8.00) from all grades"
      ]
    },
    {
      "cell_type": "markdown",
      "metadata": {
        "id": "E71rwjE6YqVq"
      },
      "source": [
        "## Automatic alignment\n",
        "Similar to `Series`, when operating on multiple `DataFrame`s, pandas automatically aligns them by row index label, but also by column names. Let's create a `DataFrame` with bonus points for each person from October to December:"
      ]
    },
    {
      "cell_type": "code",
      "execution_count": null,
      "metadata": {
        "id": "murz1xOMYqVq",
        "outputId": "30eb78ab-9313-4fbf-fd4d-4fbdc2962fb6"
      },
      "outputs": [
        {
          "data": {
            "text/html": [
              "<div>\n",
              "<table border=\"1\" class=\"dataframe\">\n",
              "  <thead>\n",
              "    <tr style=\"text-align: right;\">\n",
              "      <th></th>\n",
              "      <th>oct</th>\n",
              "      <th>nov</th>\n",
              "      <th>dec</th>\n",
              "    </tr>\n",
              "  </thead>\n",
              "  <tbody>\n",
              "    <tr>\n",
              "      <th>bob</th>\n",
              "      <td>0</td>\n",
              "      <td>NaN</td>\n",
              "      <td>2</td>\n",
              "    </tr>\n",
              "    <tr>\n",
              "      <th>colin</th>\n",
              "      <td>NaN</td>\n",
              "      <td>1</td>\n",
              "      <td>0</td>\n",
              "    </tr>\n",
              "    <tr>\n",
              "      <th>darwin</th>\n",
              "      <td>0</td>\n",
              "      <td>1</td>\n",
              "      <td>0</td>\n",
              "    </tr>\n",
              "    <tr>\n",
              "      <th>charles</th>\n",
              "      <td>3</td>\n",
              "      <td>3</td>\n",
              "      <td>0</td>\n",
              "    </tr>\n",
              "  </tbody>\n",
              "</table>\n",
              "</div>"
            ],
            "text/plain": [
              "         oct  nov  dec\n",
              "bob        0  NaN    2\n",
              "colin    NaN    1    0\n",
              "darwin     0    1    0\n",
              "charles    3    3    0"
            ]
          },
          "execution_count": 103,
          "metadata": {},
          "output_type": "execute_result"
        }
      ],
      "source": [
        "bonus_array = np.array([[0,np.nan,2],[np.nan,1,0],[0, 1, 0], [3, 3, 0]])\n",
        "bonus_points = pd.DataFrame(bonus_array, columns=[\"oct\", \"nov\", \"dec\"], index=[\"bob\",\"colin\", \"darwin\", \"charles\"])\n",
        "bonus_points"
      ]
    },
    {
      "cell_type": "code",
      "execution_count": null,
      "metadata": {
        "scrolled": true,
        "id": "wr71aw8uYqVq",
        "outputId": "17b883e1-faa0-48e4-9f96-514eab7a4159"
      },
      "outputs": [
        {
          "data": {
            "text/html": [
              "<div>\n",
              "<table border=\"1\" class=\"dataframe\">\n",
              "  <thead>\n",
              "    <tr style=\"text-align: right;\">\n",
              "      <th></th>\n",
              "      <th>dec</th>\n",
              "      <th>nov</th>\n",
              "      <th>oct</th>\n",
              "      <th>sep</th>\n",
              "    </tr>\n",
              "  </thead>\n",
              "  <tbody>\n",
              "    <tr>\n",
              "      <th>alice</th>\n",
              "      <td>NaN</td>\n",
              "      <td>NaN</td>\n",
              "      <td>NaN</td>\n",
              "      <td>NaN</td>\n",
              "    </tr>\n",
              "    <tr>\n",
              "      <th>bob</th>\n",
              "      <td>NaN</td>\n",
              "      <td>NaN</td>\n",
              "      <td>9</td>\n",
              "      <td>NaN</td>\n",
              "    </tr>\n",
              "    <tr>\n",
              "      <th>charles</th>\n",
              "      <td>NaN</td>\n",
              "      <td>5</td>\n",
              "      <td>11</td>\n",
              "      <td>NaN</td>\n",
              "    </tr>\n",
              "    <tr>\n",
              "      <th>colin</th>\n",
              "      <td>NaN</td>\n",
              "      <td>NaN</td>\n",
              "      <td>NaN</td>\n",
              "      <td>NaN</td>\n",
              "    </tr>\n",
              "    <tr>\n",
              "      <th>darwin</th>\n",
              "      <td>NaN</td>\n",
              "      <td>11</td>\n",
              "      <td>10</td>\n",
              "      <td>NaN</td>\n",
              "    </tr>\n",
              "  </tbody>\n",
              "</table>\n",
              "</div>"
            ],
            "text/plain": [
              "         dec  nov  oct  sep\n",
              "alice    NaN  NaN  NaN  NaN\n",
              "bob      NaN  NaN    9  NaN\n",
              "charles  NaN    5   11  NaN\n",
              "colin    NaN  NaN  NaN  NaN\n",
              "darwin   NaN   11   10  NaN"
            ]
          },
          "execution_count": 104,
          "metadata": {},
          "output_type": "execute_result"
        }
      ],
      "source": [
        "grades + bonus_points"
      ]
    },
    {
      "cell_type": "markdown",
      "metadata": {
        "id": "w0E2bkXdYqVq"
      },
      "source": [
        "Looks like the addition worked in some cases but way too many elements are now empty. That's because when aligning the `DataFrame`s, some columns and rows were only present on one side, and thus they were considered missing on the other side (`NaN`). Then adding `NaN` to a number results in `NaN`, hence the result.\n",
        "\n",
        "## Handling missing data\n",
        "Dealing with missing data is a frequent task when working with real life data. Pandas offers a few tools to handle missing data.\n",
        " \n",
        "Let's try to fix the problem above. For example, we can decide that missing data should result in a zero, instead of `NaN`. We can replace all `NaN` values by a any value using the `fillna` method:"
      ]
    },
    {
      "cell_type": "code",
      "execution_count": null,
      "metadata": {
        "scrolled": true,
        "id": "m63W9t_2YqVq",
        "outputId": "f1e6c7b5-9610-4fb2-bff3-026cd2f2ffb3"
      },
      "outputs": [
        {
          "data": {
            "text/html": [
              "<div>\n",
              "<table border=\"1\" class=\"dataframe\">\n",
              "  <thead>\n",
              "    <tr style=\"text-align: right;\">\n",
              "      <th></th>\n",
              "      <th>dec</th>\n",
              "      <th>nov</th>\n",
              "      <th>oct</th>\n",
              "      <th>sep</th>\n",
              "    </tr>\n",
              "  </thead>\n",
              "  <tbody>\n",
              "    <tr>\n",
              "      <th>alice</th>\n",
              "      <td>0</td>\n",
              "      <td>0</td>\n",
              "      <td>0</td>\n",
              "      <td>0</td>\n",
              "    </tr>\n",
              "    <tr>\n",
              "      <th>bob</th>\n",
              "      <td>0</td>\n",
              "      <td>0</td>\n",
              "      <td>9</td>\n",
              "      <td>0</td>\n",
              "    </tr>\n",
              "    <tr>\n",
              "      <th>charles</th>\n",
              "      <td>0</td>\n",
              "      <td>5</td>\n",
              "      <td>11</td>\n",
              "      <td>0</td>\n",
              "    </tr>\n",
              "    <tr>\n",
              "      <th>colin</th>\n",
              "      <td>0</td>\n",
              "      <td>0</td>\n",
              "      <td>0</td>\n",
              "      <td>0</td>\n",
              "    </tr>\n",
              "    <tr>\n",
              "      <th>darwin</th>\n",
              "      <td>0</td>\n",
              "      <td>11</td>\n",
              "      <td>10</td>\n",
              "      <td>0</td>\n",
              "    </tr>\n",
              "  </tbody>\n",
              "</table>\n",
              "</div>"
            ],
            "text/plain": [
              "         dec  nov  oct  sep\n",
              "alice      0    0    0    0\n",
              "bob        0    0    9    0\n",
              "charles    0    5   11    0\n",
              "colin      0    0    0    0\n",
              "darwin     0   11   10    0"
            ]
          },
          "execution_count": 105,
          "metadata": {},
          "output_type": "execute_result"
        }
      ],
      "source": [
        "(grades + bonus_points).fillna(0)"
      ]
    },
    {
      "cell_type": "markdown",
      "metadata": {
        "id": "wdm9AO_TYqVr"
      },
      "source": [
        "It's a bit unfair that we're setting grades to zero in September, though. Perhaps we should decide that missing grades are missing grades, but missing bonus points should be replaced by zeros:"
      ]
    },
    {
      "cell_type": "code",
      "execution_count": null,
      "metadata": {
        "id": "iFBVpX3nYqVr",
        "outputId": "5daa1f32-5c1a-4b43-cfed-4304f56d1286"
      },
      "outputs": [
        {
          "data": {
            "text/html": [
              "<div>\n",
              "<table border=\"1\" class=\"dataframe\">\n",
              "  <thead>\n",
              "    <tr style=\"text-align: right;\">\n",
              "      <th></th>\n",
              "      <th>dec</th>\n",
              "      <th>nov</th>\n",
              "      <th>oct</th>\n",
              "      <th>sep</th>\n",
              "    </tr>\n",
              "  </thead>\n",
              "  <tbody>\n",
              "    <tr>\n",
              "      <th>alice</th>\n",
              "      <td>NaN</td>\n",
              "      <td>9</td>\n",
              "      <td>8</td>\n",
              "      <td>8</td>\n",
              "    </tr>\n",
              "    <tr>\n",
              "      <th>bob</th>\n",
              "      <td>NaN</td>\n",
              "      <td>9</td>\n",
              "      <td>9</td>\n",
              "      <td>10</td>\n",
              "    </tr>\n",
              "    <tr>\n",
              "      <th>charles</th>\n",
              "      <td>NaN</td>\n",
              "      <td>5</td>\n",
              "      <td>11</td>\n",
              "      <td>4</td>\n",
              "    </tr>\n",
              "    <tr>\n",
              "      <th>colin</th>\n",
              "      <td>NaN</td>\n",
              "      <td>NaN</td>\n",
              "      <td>NaN</td>\n",
              "      <td>NaN</td>\n",
              "    </tr>\n",
              "    <tr>\n",
              "      <th>darwin</th>\n",
              "      <td>NaN</td>\n",
              "      <td>11</td>\n",
              "      <td>10</td>\n",
              "      <td>9</td>\n",
              "    </tr>\n",
              "  </tbody>\n",
              "</table>\n",
              "</div>"
            ],
            "text/plain": [
              "         dec  nov  oct  sep\n",
              "alice    NaN    9    8    8\n",
              "bob      NaN    9    9   10\n",
              "charles  NaN    5   11    4\n",
              "colin    NaN  NaN  NaN  NaN\n",
              "darwin   NaN   11   10    9"
            ]
          },
          "execution_count": 106,
          "metadata": {},
          "output_type": "execute_result"
        }
      ],
      "source": [
        "fixed_bonus_points = bonus_points.fillna(0)\n",
        "fixed_bonus_points.insert(0, \"sep\", 0)\n",
        "fixed_bonus_points.loc[\"alice\"] = 0\n",
        "grades + fixed_bonus_points"
      ]
    },
    {
      "cell_type": "markdown",
      "metadata": {
        "id": "53KLmGbIYqVr"
      },
      "source": [
        "That's much better: although we made up some data, we have not been too unfair.\n",
        "\n",
        "Another way to handle missing data is to interpolate. Let's look at the `bonus_points` `DataFrame` again:"
      ]
    },
    {
      "cell_type": "code",
      "execution_count": null,
      "metadata": {
        "id": "mp2Syi7yYqVr",
        "outputId": "59e74542-e094-4ca5-933e-3898a1a1ff85"
      },
      "outputs": [
        {
          "data": {
            "text/html": [
              "<div>\n",
              "<table border=\"1\" class=\"dataframe\">\n",
              "  <thead>\n",
              "    <tr style=\"text-align: right;\">\n",
              "      <th></th>\n",
              "      <th>oct</th>\n",
              "      <th>nov</th>\n",
              "      <th>dec</th>\n",
              "    </tr>\n",
              "  </thead>\n",
              "  <tbody>\n",
              "    <tr>\n",
              "      <th>bob</th>\n",
              "      <td>0</td>\n",
              "      <td>NaN</td>\n",
              "      <td>2</td>\n",
              "    </tr>\n",
              "    <tr>\n",
              "      <th>colin</th>\n",
              "      <td>NaN</td>\n",
              "      <td>1</td>\n",
              "      <td>0</td>\n",
              "    </tr>\n",
              "    <tr>\n",
              "      <th>darwin</th>\n",
              "      <td>0</td>\n",
              "      <td>1</td>\n",
              "      <td>0</td>\n",
              "    </tr>\n",
              "    <tr>\n",
              "      <th>charles</th>\n",
              "      <td>3</td>\n",
              "      <td>3</td>\n",
              "      <td>0</td>\n",
              "    </tr>\n",
              "  </tbody>\n",
              "</table>\n",
              "</div>"
            ],
            "text/plain": [
              "         oct  nov  dec\n",
              "bob        0  NaN    2\n",
              "colin    NaN    1    0\n",
              "darwin     0    1    0\n",
              "charles    3    3    0"
            ]
          },
          "execution_count": 107,
          "metadata": {},
          "output_type": "execute_result"
        }
      ],
      "source": [
        "bonus_points"
      ]
    },
    {
      "cell_type": "markdown",
      "metadata": {
        "id": "83sF5ko2YqVr"
      },
      "source": [
        "Now let's call the `interpolate` method. By default, it interpolates vertically (`axis=0`), so let's tell it to interpolate horizontally (`axis=1`)."
      ]
    },
    {
      "cell_type": "code",
      "execution_count": null,
      "metadata": {
        "scrolled": false,
        "id": "-_ldl0BNYqVr",
        "outputId": "900c8dff-23c3-42e5-dbe8-003d4ae6c886"
      },
      "outputs": [
        {
          "data": {
            "text/html": [
              "<div>\n",
              "<table border=\"1\" class=\"dataframe\">\n",
              "  <thead>\n",
              "    <tr style=\"text-align: right;\">\n",
              "      <th></th>\n",
              "      <th>oct</th>\n",
              "      <th>nov</th>\n",
              "      <th>dec</th>\n",
              "    </tr>\n",
              "  </thead>\n",
              "  <tbody>\n",
              "    <tr>\n",
              "      <th>bob</th>\n",
              "      <td>0</td>\n",
              "      <td>1</td>\n",
              "      <td>2</td>\n",
              "    </tr>\n",
              "    <tr>\n",
              "      <th>colin</th>\n",
              "      <td>NaN</td>\n",
              "      <td>1</td>\n",
              "      <td>0</td>\n",
              "    </tr>\n",
              "    <tr>\n",
              "      <th>darwin</th>\n",
              "      <td>0</td>\n",
              "      <td>1</td>\n",
              "      <td>0</td>\n",
              "    </tr>\n",
              "    <tr>\n",
              "      <th>charles</th>\n",
              "      <td>3</td>\n",
              "      <td>3</td>\n",
              "      <td>0</td>\n",
              "    </tr>\n",
              "  </tbody>\n",
              "</table>\n",
              "</div>"
            ],
            "text/plain": [
              "         oct  nov  dec\n",
              "bob        0    1    2\n",
              "colin    NaN    1    0\n",
              "darwin     0    1    0\n",
              "charles    3    3    0"
            ]
          },
          "execution_count": 108,
          "metadata": {},
          "output_type": "execute_result"
        }
      ],
      "source": [
        "bonus_points.interpolate(axis=1)"
      ]
    },
    {
      "cell_type": "markdown",
      "metadata": {
        "id": "7sUqgimOYqVr"
      },
      "source": [
        "Bob had 0 bonus points in October, and 2 in December. When we interpolate for November, we get the mean: 1 bonus point. Colin had 1 bonus point in November, but we do not know how many bonus points he had in September, so we cannot interpolate, this is why there is still a missing value in October after interpolation. To fix this, we can set the September bonus points to 0 before interpolation."
      ]
    },
    {
      "cell_type": "code",
      "execution_count": null,
      "metadata": {
        "id": "5sLyUWQfYqVr",
        "outputId": "0d870a29-796e-4c02-9776-9969a9434ac9"
      },
      "outputs": [
        {
          "data": {
            "text/html": [
              "<div>\n",
              "<table border=\"1\" class=\"dataframe\">\n",
              "  <thead>\n",
              "    <tr style=\"text-align: right;\">\n",
              "      <th></th>\n",
              "      <th>sep</th>\n",
              "      <th>oct</th>\n",
              "      <th>nov</th>\n",
              "      <th>dec</th>\n",
              "    </tr>\n",
              "  </thead>\n",
              "  <tbody>\n",
              "    <tr>\n",
              "      <th>bob</th>\n",
              "      <td>0</td>\n",
              "      <td>0.0</td>\n",
              "      <td>1</td>\n",
              "      <td>2</td>\n",
              "    </tr>\n",
              "    <tr>\n",
              "      <th>colin</th>\n",
              "      <td>0</td>\n",
              "      <td>0.5</td>\n",
              "      <td>1</td>\n",
              "      <td>0</td>\n",
              "    </tr>\n",
              "    <tr>\n",
              "      <th>darwin</th>\n",
              "      <td>0</td>\n",
              "      <td>0.0</td>\n",
              "      <td>1</td>\n",
              "      <td>0</td>\n",
              "    </tr>\n",
              "    <tr>\n",
              "      <th>charles</th>\n",
              "      <td>0</td>\n",
              "      <td>3.0</td>\n",
              "      <td>3</td>\n",
              "      <td>0</td>\n",
              "    </tr>\n",
              "    <tr>\n",
              "      <th>alice</th>\n",
              "      <td>0</td>\n",
              "      <td>0.0</td>\n",
              "      <td>0</td>\n",
              "      <td>0</td>\n",
              "    </tr>\n",
              "  </tbody>\n",
              "</table>\n",
              "</div>"
            ],
            "text/plain": [
              "         sep  oct  nov  dec\n",
              "bob        0  0.0    1    2\n",
              "colin      0  0.5    1    0\n",
              "darwin     0  0.0    1    0\n",
              "charles    0  3.0    3    0\n",
              "alice      0  0.0    0    0"
            ]
          },
          "execution_count": 109,
          "metadata": {},
          "output_type": "execute_result"
        }
      ],
      "source": [
        "better_bonus_points = bonus_points.copy()\n",
        "better_bonus_points.insert(0, \"sep\", 0)\n",
        "better_bonus_points.loc[\"alice\"] = 0\n",
        "better_bonus_points = better_bonus_points.interpolate(axis=1)\n",
        "better_bonus_points"
      ]
    },
    {
      "cell_type": "markdown",
      "metadata": {
        "id": "Ta-gaHUvYqVs"
      },
      "source": [
        "Great, now we have reasonable bonus points everywhere. Let's find out the final grades:"
      ]
    },
    {
      "cell_type": "code",
      "execution_count": null,
      "metadata": {
        "id": "by7BOJdNYqVs",
        "outputId": "c8708fe3-7739-4f09-a042-5e4baed73084"
      },
      "outputs": [
        {
          "data": {
            "text/html": [
              "<div>\n",
              "<table border=\"1\" class=\"dataframe\">\n",
              "  <thead>\n",
              "    <tr style=\"text-align: right;\">\n",
              "      <th></th>\n",
              "      <th>dec</th>\n",
              "      <th>nov</th>\n",
              "      <th>oct</th>\n",
              "      <th>sep</th>\n",
              "    </tr>\n",
              "  </thead>\n",
              "  <tbody>\n",
              "    <tr>\n",
              "      <th>alice</th>\n",
              "      <td>NaN</td>\n",
              "      <td>9</td>\n",
              "      <td>8</td>\n",
              "      <td>8</td>\n",
              "    </tr>\n",
              "    <tr>\n",
              "      <th>bob</th>\n",
              "      <td>NaN</td>\n",
              "      <td>10</td>\n",
              "      <td>9</td>\n",
              "      <td>10</td>\n",
              "    </tr>\n",
              "    <tr>\n",
              "      <th>charles</th>\n",
              "      <td>NaN</td>\n",
              "      <td>5</td>\n",
              "      <td>11</td>\n",
              "      <td>4</td>\n",
              "    </tr>\n",
              "    <tr>\n",
              "      <th>colin</th>\n",
              "      <td>NaN</td>\n",
              "      <td>NaN</td>\n",
              "      <td>NaN</td>\n",
              "      <td>NaN</td>\n",
              "    </tr>\n",
              "    <tr>\n",
              "      <th>darwin</th>\n",
              "      <td>NaN</td>\n",
              "      <td>11</td>\n",
              "      <td>10</td>\n",
              "      <td>9</td>\n",
              "    </tr>\n",
              "  </tbody>\n",
              "</table>\n",
              "</div>"
            ],
            "text/plain": [
              "         dec  nov  oct  sep\n",
              "alice    NaN    9    8    8\n",
              "bob      NaN   10    9   10\n",
              "charles  NaN    5   11    4\n",
              "colin    NaN  NaN  NaN  NaN\n",
              "darwin   NaN   11   10    9"
            ]
          },
          "execution_count": 110,
          "metadata": {},
          "output_type": "execute_result"
        }
      ],
      "source": [
        "grades + better_bonus_points"
      ]
    },
    {
      "cell_type": "markdown",
      "metadata": {
        "id": "TDqGdGCIYqVs"
      },
      "source": [
        "It is slightly annoying that the September column ends up on the right. This is because the `DataFrame`s we are adding do not have the exact same columns (the `grades` `DataFrame` is missing the `\"dec\"` column), so to make things predictable, pandas orders the final columns alphabetically. To fix this, we can simply add the missing column before adding:"
      ]
    },
    {
      "cell_type": "code",
      "execution_count": null,
      "metadata": {
        "scrolled": true,
        "id": "wLmnCigzYqVs",
        "outputId": "46b58494-8d2c-463b-f5f5-a09ecc153e00"
      },
      "outputs": [
        {
          "data": {
            "text/html": [
              "<div>\n",
              "<table border=\"1\" class=\"dataframe\">\n",
              "  <thead>\n",
              "    <tr style=\"text-align: right;\">\n",
              "      <th></th>\n",
              "      <th>sep</th>\n",
              "      <th>oct</th>\n",
              "      <th>nov</th>\n",
              "      <th>dec</th>\n",
              "    </tr>\n",
              "  </thead>\n",
              "  <tbody>\n",
              "    <tr>\n",
              "      <th>alice</th>\n",
              "      <td>8</td>\n",
              "      <td>8</td>\n",
              "      <td>9</td>\n",
              "      <td>NaN</td>\n",
              "    </tr>\n",
              "    <tr>\n",
              "      <th>bob</th>\n",
              "      <td>10</td>\n",
              "      <td>9</td>\n",
              "      <td>10</td>\n",
              "      <td>NaN</td>\n",
              "    </tr>\n",
              "    <tr>\n",
              "      <th>charles</th>\n",
              "      <td>4</td>\n",
              "      <td>11</td>\n",
              "      <td>5</td>\n",
              "      <td>NaN</td>\n",
              "    </tr>\n",
              "    <tr>\n",
              "      <th>colin</th>\n",
              "      <td>NaN</td>\n",
              "      <td>NaN</td>\n",
              "      <td>NaN</td>\n",
              "      <td>NaN</td>\n",
              "    </tr>\n",
              "    <tr>\n",
              "      <th>darwin</th>\n",
              "      <td>9</td>\n",
              "      <td>10</td>\n",
              "      <td>11</td>\n",
              "      <td>NaN</td>\n",
              "    </tr>\n",
              "  </tbody>\n",
              "</table>\n",
              "</div>"
            ],
            "text/plain": [
              "         sep  oct  nov  dec\n",
              "alice      8    8    9  NaN\n",
              "bob       10    9   10  NaN\n",
              "charles    4   11    5  NaN\n",
              "colin    NaN  NaN  NaN  NaN\n",
              "darwin     9   10   11  NaN"
            ]
          },
          "execution_count": 111,
          "metadata": {},
          "output_type": "execute_result"
        }
      ],
      "source": [
        "grades[\"dec\"] = np.nan\n",
        "final_grades = grades + better_bonus_points\n",
        "final_grades"
      ]
    },
    {
      "cell_type": "markdown",
      "metadata": {
        "id": "JXmPfxjsYqVs"
      },
      "source": [
        "There's not much we can do about December and Colin: it's bad enough that we are making up bonus points, but we can't reasonably make up grades (well I guess some teachers probably do). So let's call the `dropna` method to get rid of rows that are full of `NaN`s:"
      ]
    },
    {
      "cell_type": "code",
      "execution_count": null,
      "metadata": {
        "id": "-5HstiA2YqVs",
        "outputId": "b64257c5-e5c8-4adb-a252-1374e259f9ea"
      },
      "outputs": [
        {
          "data": {
            "text/html": [
              "<div>\n",
              "<table border=\"1\" class=\"dataframe\">\n",
              "  <thead>\n",
              "    <tr style=\"text-align: right;\">\n",
              "      <th></th>\n",
              "      <th>sep</th>\n",
              "      <th>oct</th>\n",
              "      <th>nov</th>\n",
              "      <th>dec</th>\n",
              "    </tr>\n",
              "  </thead>\n",
              "  <tbody>\n",
              "    <tr>\n",
              "      <th>alice</th>\n",
              "      <td>8</td>\n",
              "      <td>8</td>\n",
              "      <td>9</td>\n",
              "      <td>NaN</td>\n",
              "    </tr>\n",
              "    <tr>\n",
              "      <th>bob</th>\n",
              "      <td>10</td>\n",
              "      <td>9</td>\n",
              "      <td>10</td>\n",
              "      <td>NaN</td>\n",
              "    </tr>\n",
              "    <tr>\n",
              "      <th>charles</th>\n",
              "      <td>4</td>\n",
              "      <td>11</td>\n",
              "      <td>5</td>\n",
              "      <td>NaN</td>\n",
              "    </tr>\n",
              "    <tr>\n",
              "      <th>darwin</th>\n",
              "      <td>9</td>\n",
              "      <td>10</td>\n",
              "      <td>11</td>\n",
              "      <td>NaN</td>\n",
              "    </tr>\n",
              "  </tbody>\n",
              "</table>\n",
              "</div>"
            ],
            "text/plain": [
              "         sep  oct  nov  dec\n",
              "alice      8    8    9  NaN\n",
              "bob       10    9   10  NaN\n",
              "charles    4   11    5  NaN\n",
              "darwin     9   10   11  NaN"
            ]
          },
          "execution_count": 112,
          "metadata": {},
          "output_type": "execute_result"
        }
      ],
      "source": [
        "final_grades_clean = final_grades.dropna(how=\"all\")\n",
        "final_grades_clean"
      ]
    },
    {
      "cell_type": "markdown",
      "metadata": {
        "id": "TAqJAJz-YqVs"
      },
      "source": [
        "Now let's remove columns that are full of `NaN`s by setting the `axis` argument to `1`:"
      ]
    },
    {
      "cell_type": "code",
      "execution_count": null,
      "metadata": {
        "id": "NOhJkpfHYqVs",
        "outputId": "8c168073-9cc4-44f9-b038-9b1a023b0e1f"
      },
      "outputs": [
        {
          "data": {
            "text/html": [
              "<div>\n",
              "<table border=\"1\" class=\"dataframe\">\n",
              "  <thead>\n",
              "    <tr style=\"text-align: right;\">\n",
              "      <th></th>\n",
              "      <th>sep</th>\n",
              "      <th>oct</th>\n",
              "      <th>nov</th>\n",
              "    </tr>\n",
              "  </thead>\n",
              "  <tbody>\n",
              "    <tr>\n",
              "      <th>alice</th>\n",
              "      <td>8</td>\n",
              "      <td>8</td>\n",
              "      <td>9</td>\n",
              "    </tr>\n",
              "    <tr>\n",
              "      <th>bob</th>\n",
              "      <td>10</td>\n",
              "      <td>9</td>\n",
              "      <td>10</td>\n",
              "    </tr>\n",
              "    <tr>\n",
              "      <th>charles</th>\n",
              "      <td>4</td>\n",
              "      <td>11</td>\n",
              "      <td>5</td>\n",
              "    </tr>\n",
              "    <tr>\n",
              "      <th>darwin</th>\n",
              "      <td>9</td>\n",
              "      <td>10</td>\n",
              "      <td>11</td>\n",
              "    </tr>\n",
              "  </tbody>\n",
              "</table>\n",
              "</div>"
            ],
            "text/plain": [
              "         sep  oct  nov\n",
              "alice      8    8    9\n",
              "bob       10    9   10\n",
              "charles    4   11    5\n",
              "darwin     9   10   11"
            ]
          },
          "execution_count": 113,
          "metadata": {},
          "output_type": "execute_result"
        }
      ],
      "source": [
        "final_grades_clean = final_grades_clean.dropna(axis=1, how=\"all\")\n",
        "final_grades_clean"
      ]
    },
    {
      "cell_type": "markdown",
      "metadata": {
        "id": "9c7fgON8YqVs"
      },
      "source": [
        "## Aggregating with `groupby`\n",
        "Similar to the SQL language, pandas allows grouping your data into groups to run calculations over each group.\n",
        "\n",
        "First, let's add some extra data about each person so we can group them, and let's go back to the `final_grades` `DataFrame` so we can see how `NaN` values are handled:"
      ]
    },
    {
      "cell_type": "code",
      "execution_count": null,
      "metadata": {
        "scrolled": true,
        "id": "LygUDsXyYqVs",
        "outputId": "b0e09237-9cd5-4fd3-fb0a-9767c63e2cf9"
      },
      "outputs": [
        {
          "data": {
            "text/html": [
              "<div>\n",
              "<table border=\"1\" class=\"dataframe\">\n",
              "  <thead>\n",
              "    <tr style=\"text-align: right;\">\n",
              "      <th></th>\n",
              "      <th>sep</th>\n",
              "      <th>oct</th>\n",
              "      <th>nov</th>\n",
              "      <th>dec</th>\n",
              "      <th>hobby</th>\n",
              "    </tr>\n",
              "  </thead>\n",
              "  <tbody>\n",
              "    <tr>\n",
              "      <th>alice</th>\n",
              "      <td>8</td>\n",
              "      <td>8</td>\n",
              "      <td>9</td>\n",
              "      <td>NaN</td>\n",
              "      <td>Biking</td>\n",
              "    </tr>\n",
              "    <tr>\n",
              "      <th>bob</th>\n",
              "      <td>10</td>\n",
              "      <td>9</td>\n",
              "      <td>10</td>\n",
              "      <td>NaN</td>\n",
              "      <td>Dancing</td>\n",
              "    </tr>\n",
              "    <tr>\n",
              "      <th>charles</th>\n",
              "      <td>4</td>\n",
              "      <td>11</td>\n",
              "      <td>5</td>\n",
              "      <td>NaN</td>\n",
              "      <td>NaN</td>\n",
              "    </tr>\n",
              "    <tr>\n",
              "      <th>colin</th>\n",
              "      <td>NaN</td>\n",
              "      <td>NaN</td>\n",
              "      <td>NaN</td>\n",
              "      <td>NaN</td>\n",
              "      <td>Dancing</td>\n",
              "    </tr>\n",
              "    <tr>\n",
              "      <th>darwin</th>\n",
              "      <td>9</td>\n",
              "      <td>10</td>\n",
              "      <td>11</td>\n",
              "      <td>NaN</td>\n",
              "      <td>Biking</td>\n",
              "    </tr>\n",
              "  </tbody>\n",
              "</table>\n",
              "</div>"
            ],
            "text/plain": [
              "         sep  oct  nov  dec    hobby\n",
              "alice      8    8    9  NaN   Biking\n",
              "bob       10    9   10  NaN  Dancing\n",
              "charles    4   11    5  NaN      NaN\n",
              "colin    NaN  NaN  NaN  NaN  Dancing\n",
              "darwin     9   10   11  NaN   Biking"
            ]
          },
          "execution_count": 114,
          "metadata": {},
          "output_type": "execute_result"
        }
      ],
      "source": [
        "final_grades[\"hobby\"] = [\"Biking\", \"Dancing\", np.nan, \"Dancing\", \"Biking\"]\n",
        "final_grades"
      ]
    },
    {
      "cell_type": "markdown",
      "metadata": {
        "id": "Q7JuvUJiYqVt"
      },
      "source": [
        "Now let's group data in this `DataFrame` by hobby:"
      ]
    },
    {
      "cell_type": "code",
      "execution_count": null,
      "metadata": {
        "id": "Jd6_ZxQaYqVt",
        "outputId": "563e7669-b7e8-4704-fb67-ac471ae93415"
      },
      "outputs": [
        {
          "data": {
            "text/plain": [
              "<pandas.core.groupby.DataFrameGroupBy object at 0x10c3ab410>"
            ]
          },
          "execution_count": 115,
          "metadata": {},
          "output_type": "execute_result"
        }
      ],
      "source": [
        "grouped_grades = final_grades.groupby(\"hobby\")\n",
        "grouped_grades"
      ]
    },
    {
      "cell_type": "markdown",
      "metadata": {
        "id": "yCc188_JYqVt"
      },
      "source": [
        "We are ready to compute the average grade per hobby:"
      ]
    },
    {
      "cell_type": "code",
      "execution_count": null,
      "metadata": {
        "id": "05KAMAB6YqVt",
        "outputId": "ee6c23c8-9da6-46e9-a476-5df4de15c27f"
      },
      "outputs": [
        {
          "data": {
            "text/html": [
              "<div>\n",
              "<table border=\"1\" class=\"dataframe\">\n",
              "  <thead>\n",
              "    <tr style=\"text-align: right;\">\n",
              "      <th></th>\n",
              "      <th>sep</th>\n",
              "      <th>oct</th>\n",
              "      <th>nov</th>\n",
              "      <th>dec</th>\n",
              "    </tr>\n",
              "    <tr>\n",
              "      <th>hobby</th>\n",
              "      <th></th>\n",
              "      <th></th>\n",
              "      <th></th>\n",
              "      <th></th>\n",
              "    </tr>\n",
              "  </thead>\n",
              "  <tbody>\n",
              "    <tr>\n",
              "      <th>Biking</th>\n",
              "      <td>8.5</td>\n",
              "      <td>9</td>\n",
              "      <td>10</td>\n",
              "      <td>NaN</td>\n",
              "    </tr>\n",
              "    <tr>\n",
              "      <th>Dancing</th>\n",
              "      <td>10.0</td>\n",
              "      <td>9</td>\n",
              "      <td>10</td>\n",
              "      <td>NaN</td>\n",
              "    </tr>\n",
              "  </tbody>\n",
              "</table>\n",
              "</div>"
            ],
            "text/plain": [
              "          sep  oct  nov  dec\n",
              "hobby                       \n",
              "Biking    8.5    9   10  NaN\n",
              "Dancing  10.0    9   10  NaN"
            ]
          },
          "execution_count": 116,
          "metadata": {},
          "output_type": "execute_result"
        }
      ],
      "source": [
        "grouped_grades.mean()"
      ]
    },
    {
      "cell_type": "markdown",
      "metadata": {
        "id": "nx-BvpomYqVt"
      },
      "source": [
        "That was easy! Note that the `NaN` values have simply been skipped when computing the means."
      ]
    },
    {
      "cell_type": "markdown",
      "metadata": {
        "id": "R6WUnfULYqVt"
      },
      "source": [
        "## Pivot tables\n",
        "Pandas supports spreadsheet-like [pivot tables](https://en.wikipedia.org/wiki/Pivot_table) that allow quick data summarization. To illustrate this, let's create a simple `DataFrame`:"
      ]
    },
    {
      "cell_type": "code",
      "execution_count": null,
      "metadata": {
        "id": "45tH-SNYYqVt",
        "outputId": "1f0d6d5e-9a8c-402a-ca53-1fe30be0c363"
      },
      "outputs": [
        {
          "data": {
            "text/html": [
              "<div>\n",
              "<table border=\"1\" class=\"dataframe\">\n",
              "  <thead>\n",
              "    <tr style=\"text-align: right;\">\n",
              "      <th></th>\n",
              "      <th>oct</th>\n",
              "      <th>nov</th>\n",
              "      <th>dec</th>\n",
              "    </tr>\n",
              "  </thead>\n",
              "  <tbody>\n",
              "    <tr>\n",
              "      <th>bob</th>\n",
              "      <td>0</td>\n",
              "      <td>NaN</td>\n",
              "      <td>2</td>\n",
              "    </tr>\n",
              "    <tr>\n",
              "      <th>colin</th>\n",
              "      <td>NaN</td>\n",
              "      <td>1</td>\n",
              "      <td>0</td>\n",
              "    </tr>\n",
              "    <tr>\n",
              "      <th>darwin</th>\n",
              "      <td>0</td>\n",
              "      <td>1</td>\n",
              "      <td>0</td>\n",
              "    </tr>\n",
              "    <tr>\n",
              "      <th>charles</th>\n",
              "      <td>3</td>\n",
              "      <td>3</td>\n",
              "      <td>0</td>\n",
              "    </tr>\n",
              "  </tbody>\n",
              "</table>\n",
              "</div>"
            ],
            "text/plain": [
              "         oct  nov  dec\n",
              "bob        0  NaN    2\n",
              "colin    NaN    1    0\n",
              "darwin     0    1    0\n",
              "charles    3    3    0"
            ]
          },
          "execution_count": 117,
          "metadata": {},
          "output_type": "execute_result"
        }
      ],
      "source": [
        "bonus_points"
      ]
    },
    {
      "cell_type": "code",
      "execution_count": null,
      "metadata": {
        "id": "1PjIMkWhYqVt",
        "outputId": "5f0636fb-8965-4330-d2e3-8d7da77d012c"
      },
      "outputs": [
        {
          "data": {
            "text/html": [
              "<div>\n",
              "<table border=\"1\" class=\"dataframe\">\n",
              "  <thead>\n",
              "    <tr style=\"text-align: right;\">\n",
              "      <th></th>\n",
              "      <th>name</th>\n",
              "      <th>month</th>\n",
              "      <th>grade</th>\n",
              "      <th>bonus</th>\n",
              "    </tr>\n",
              "  </thead>\n",
              "  <tbody>\n",
              "    <tr>\n",
              "      <th>0</th>\n",
              "      <td>alice</td>\n",
              "      <td>sep</td>\n",
              "      <td>8</td>\n",
              "      <td>NaN</td>\n",
              "    </tr>\n",
              "    <tr>\n",
              "      <th>1</th>\n",
              "      <td>alice</td>\n",
              "      <td>oct</td>\n",
              "      <td>8</td>\n",
              "      <td>NaN</td>\n",
              "    </tr>\n",
              "    <tr>\n",
              "      <th>2</th>\n",
              "      <td>alice</td>\n",
              "      <td>nov</td>\n",
              "      <td>9</td>\n",
              "      <td>NaN</td>\n",
              "    </tr>\n",
              "    <tr>\n",
              "      <th>3</th>\n",
              "      <td>bob</td>\n",
              "      <td>sep</td>\n",
              "      <td>10</td>\n",
              "      <td>0</td>\n",
              "    </tr>\n",
              "    <tr>\n",
              "      <th>4</th>\n",
              "      <td>bob</td>\n",
              "      <td>oct</td>\n",
              "      <td>9</td>\n",
              "      <td>NaN</td>\n",
              "    </tr>\n",
              "    <tr>\n",
              "      <th>5</th>\n",
              "      <td>bob</td>\n",
              "      <td>nov</td>\n",
              "      <td>10</td>\n",
              "      <td>2</td>\n",
              "    </tr>\n",
              "    <tr>\n",
              "      <th>6</th>\n",
              "      <td>charles</td>\n",
              "      <td>sep</td>\n",
              "      <td>4</td>\n",
              "      <td>3</td>\n",
              "    </tr>\n",
              "    <tr>\n",
              "      <th>7</th>\n",
              "      <td>charles</td>\n",
              "      <td>oct</td>\n",
              "      <td>11</td>\n",
              "      <td>3</td>\n",
              "    </tr>\n",
              "    <tr>\n",
              "      <th>8</th>\n",
              "      <td>charles</td>\n",
              "      <td>nov</td>\n",
              "      <td>5</td>\n",
              "      <td>0</td>\n",
              "    </tr>\n",
              "    <tr>\n",
              "      <th>9</th>\n",
              "      <td>darwin</td>\n",
              "      <td>sep</td>\n",
              "      <td>9</td>\n",
              "      <td>0</td>\n",
              "    </tr>\n",
              "    <tr>\n",
              "      <th>10</th>\n",
              "      <td>darwin</td>\n",
              "      <td>oct</td>\n",
              "      <td>10</td>\n",
              "      <td>1</td>\n",
              "    </tr>\n",
              "    <tr>\n",
              "      <th>11</th>\n",
              "      <td>darwin</td>\n",
              "      <td>nov</td>\n",
              "      <td>11</td>\n",
              "      <td>0</td>\n",
              "    </tr>\n",
              "  </tbody>\n",
              "</table>\n",
              "</div>"
            ],
            "text/plain": [
              "       name month  grade  bonus\n",
              "0     alice   sep      8    NaN\n",
              "1     alice   oct      8    NaN\n",
              "2     alice   nov      9    NaN\n",
              "3       bob   sep     10      0\n",
              "4       bob   oct      9    NaN\n",
              "5       bob   nov     10      2\n",
              "6   charles   sep      4      3\n",
              "7   charles   oct     11      3\n",
              "8   charles   nov      5      0\n",
              "9    darwin   sep      9      0\n",
              "10   darwin   oct     10      1\n",
              "11   darwin   nov     11      0"
            ]
          },
          "execution_count": 118,
          "metadata": {},
          "output_type": "execute_result"
        }
      ],
      "source": [
        "more_grades = final_grades_clean.stack().reset_index()\n",
        "more_grades.columns = [\"name\", \"month\", \"grade\"]\n",
        "more_grades[\"bonus\"] = [np.nan, np.nan, np.nan, 0, np.nan, 2, 3, 3, 0, 0, 1, 0]\n",
        "more_grades"
      ]
    },
    {
      "cell_type": "markdown",
      "metadata": {
        "id": "xNjtU04xYqVu"
      },
      "source": [
        "Now we can call the `pivot_table` function for this `DataFrame`, asking to group by the `name` column. By default, `pivot_table` computes the `mean` of each numeric column:"
      ]
    },
    {
      "cell_type": "code",
      "execution_count": null,
      "metadata": {
        "id": "bawTDKLBYqVu",
        "outputId": "9fb03aa2-0d9e-4684-c6ae-0979f91565cc"
      },
      "outputs": [
        {
          "data": {
            "text/html": [
              "<div>\n",
              "<table border=\"1\" class=\"dataframe\">\n",
              "  <thead>\n",
              "    <tr style=\"text-align: right;\">\n",
              "      <th></th>\n",
              "      <th>bonus</th>\n",
              "      <th>grade</th>\n",
              "    </tr>\n",
              "    <tr>\n",
              "      <th>name</th>\n",
              "      <th></th>\n",
              "      <th></th>\n",
              "    </tr>\n",
              "  </thead>\n",
              "  <tbody>\n",
              "    <tr>\n",
              "      <th>alice</th>\n",
              "      <td>NaN</td>\n",
              "      <td>8.333333</td>\n",
              "    </tr>\n",
              "    <tr>\n",
              "      <th>bob</th>\n",
              "      <td>1.000000</td>\n",
              "      <td>9.666667</td>\n",
              "    </tr>\n",
              "    <tr>\n",
              "      <th>charles</th>\n",
              "      <td>2.000000</td>\n",
              "      <td>6.666667</td>\n",
              "    </tr>\n",
              "    <tr>\n",
              "      <th>darwin</th>\n",
              "      <td>0.333333</td>\n",
              "      <td>10.000000</td>\n",
              "    </tr>\n",
              "  </tbody>\n",
              "</table>\n",
              "</div>"
            ],
            "text/plain": [
              "            bonus      grade\n",
              "name                        \n",
              "alice         NaN   8.333333\n",
              "bob      1.000000   9.666667\n",
              "charles  2.000000   6.666667\n",
              "darwin   0.333333  10.000000"
            ]
          },
          "execution_count": 119,
          "metadata": {},
          "output_type": "execute_result"
        }
      ],
      "source": [
        "pd.pivot_table(more_grades, index=\"name\")"
      ]
    },
    {
      "cell_type": "markdown",
      "metadata": {
        "id": "qz7_ZjVxYqVu"
      },
      "source": [
        "We can change the aggregation function by setting the `aggfunc` attribute, and we can also specify the list of columns whose values will be aggregated:"
      ]
    },
    {
      "cell_type": "code",
      "execution_count": null,
      "metadata": {
        "id": "BNGHklRLYqVu",
        "outputId": "0883e874-f445-4c65-b978-bc801ff7d83e"
      },
      "outputs": [
        {
          "data": {
            "text/html": [
              "<div>\n",
              "<table border=\"1\" class=\"dataframe\">\n",
              "  <thead>\n",
              "    <tr style=\"text-align: right;\">\n",
              "      <th></th>\n",
              "      <th>bonus</th>\n",
              "      <th>grade</th>\n",
              "    </tr>\n",
              "    <tr>\n",
              "      <th>name</th>\n",
              "      <th></th>\n",
              "      <th></th>\n",
              "    </tr>\n",
              "  </thead>\n",
              "  <tbody>\n",
              "    <tr>\n",
              "      <th>alice</th>\n",
              "      <td>NaN</td>\n",
              "      <td>9</td>\n",
              "    </tr>\n",
              "    <tr>\n",
              "      <th>bob</th>\n",
              "      <td>2</td>\n",
              "      <td>10</td>\n",
              "    </tr>\n",
              "    <tr>\n",
              "      <th>charles</th>\n",
              "      <td>3</td>\n",
              "      <td>11</td>\n",
              "    </tr>\n",
              "    <tr>\n",
              "      <th>darwin</th>\n",
              "      <td>1</td>\n",
              "      <td>11</td>\n",
              "    </tr>\n",
              "  </tbody>\n",
              "</table>\n",
              "</div>"
            ],
            "text/plain": [
              "         bonus  grade\n",
              "name                 \n",
              "alice      NaN      9\n",
              "bob          2     10\n",
              "charles      3     11\n",
              "darwin       1     11"
            ]
          },
          "execution_count": 120,
          "metadata": {},
          "output_type": "execute_result"
        }
      ],
      "source": [
        "pd.pivot_table(more_grades, index=\"name\", values=[\"grade\",\"bonus\"], aggfunc=np.max)"
      ]
    },
    {
      "cell_type": "markdown",
      "metadata": {
        "id": "AumlZTSaYqVu"
      },
      "source": [
        "We can also specify the `columns` to aggregate over horizontally, and request the grand totals for each row and column by setting `margins=True`:"
      ]
    },
    {
      "cell_type": "code",
      "execution_count": null,
      "metadata": {
        "id": "2v0BQs_iYqVu",
        "outputId": "5feb3efb-b8ab-4be9-d47b-afe53ea6ebc9"
      },
      "outputs": [
        {
          "data": {
            "text/html": [
              "<div>\n",
              "<table border=\"1\" class=\"dataframe\">\n",
              "  <thead>\n",
              "    <tr style=\"text-align: right;\">\n",
              "      <th>month</th>\n",
              "      <th>nov</th>\n",
              "      <th>oct</th>\n",
              "      <th>sep</th>\n",
              "      <th>All</th>\n",
              "    </tr>\n",
              "    <tr>\n",
              "      <th>name</th>\n",
              "      <th></th>\n",
              "      <th></th>\n",
              "      <th></th>\n",
              "      <th></th>\n",
              "    </tr>\n",
              "  </thead>\n",
              "  <tbody>\n",
              "    <tr>\n",
              "      <th>alice</th>\n",
              "      <td>9.00</td>\n",
              "      <td>8.0</td>\n",
              "      <td>8.00</td>\n",
              "      <td>8.333333</td>\n",
              "    </tr>\n",
              "    <tr>\n",
              "      <th>bob</th>\n",
              "      <td>10.00</td>\n",
              "      <td>9.0</td>\n",
              "      <td>10.00</td>\n",
              "      <td>9.666667</td>\n",
              "    </tr>\n",
              "    <tr>\n",
              "      <th>charles</th>\n",
              "      <td>5.00</td>\n",
              "      <td>11.0</td>\n",
              "      <td>4.00</td>\n",
              "      <td>6.666667</td>\n",
              "    </tr>\n",
              "    <tr>\n",
              "      <th>darwin</th>\n",
              "      <td>11.00</td>\n",
              "      <td>10.0</td>\n",
              "      <td>9.00</td>\n",
              "      <td>10.000000</td>\n",
              "    </tr>\n",
              "    <tr>\n",
              "      <th>All</th>\n",
              "      <td>8.75</td>\n",
              "      <td>9.5</td>\n",
              "      <td>7.75</td>\n",
              "      <td>8.666667</td>\n",
              "    </tr>\n",
              "  </tbody>\n",
              "</table>\n",
              "</div>"
            ],
            "text/plain": [
              "month      nov   oct    sep        All\n",
              "name                                  \n",
              "alice     9.00   8.0   8.00   8.333333\n",
              "bob      10.00   9.0  10.00   9.666667\n",
              "charles   5.00  11.0   4.00   6.666667\n",
              "darwin   11.00  10.0   9.00  10.000000\n",
              "All       8.75   9.5   7.75   8.666667"
            ]
          },
          "execution_count": 121,
          "metadata": {},
          "output_type": "execute_result"
        }
      ],
      "source": [
        "pd.pivot_table(more_grades, index=\"name\", values=\"grade\", columns=\"month\", margins=True)"
      ]
    },
    {
      "cell_type": "markdown",
      "metadata": {
        "id": "w-Tj3HlXYqVu"
      },
      "source": [
        "Finally, we can specify multiple index or column names, and pandas will create multi-level indices:"
      ]
    },
    {
      "cell_type": "code",
      "execution_count": null,
      "metadata": {
        "id": "luLANYqKYqVu",
        "outputId": "0117c65b-9454-46ff-e384-655ef5198135"
      },
      "outputs": [
        {
          "data": {
            "text/html": [
              "<div>\n",
              "<table border=\"1\" class=\"dataframe\">\n",
              "  <thead>\n",
              "    <tr style=\"text-align: right;\">\n",
              "      <th></th>\n",
              "      <th></th>\n",
              "      <th>bonus</th>\n",
              "      <th>grade</th>\n",
              "    </tr>\n",
              "    <tr>\n",
              "      <th>name</th>\n",
              "      <th>month</th>\n",
              "      <th></th>\n",
              "      <th></th>\n",
              "    </tr>\n",
              "  </thead>\n",
              "  <tbody>\n",
              "    <tr>\n",
              "      <th rowspan=\"3\" valign=\"top\">alice</th>\n",
              "      <th>nov</th>\n",
              "      <td>NaN</td>\n",
              "      <td>9.000000</td>\n",
              "    </tr>\n",
              "    <tr>\n",
              "      <th>oct</th>\n",
              "      <td>NaN</td>\n",
              "      <td>8.000000</td>\n",
              "    </tr>\n",
              "    <tr>\n",
              "      <th>sep</th>\n",
              "      <td>NaN</td>\n",
              "      <td>8.000000</td>\n",
              "    </tr>\n",
              "    <tr>\n",
              "      <th rowspan=\"3\" valign=\"top\">bob</th>\n",
              "      <th>nov</th>\n",
              "      <td>2.000</td>\n",
              "      <td>10.000000</td>\n",
              "    </tr>\n",
              "    <tr>\n",
              "      <th>oct</th>\n",
              "      <td>NaN</td>\n",
              "      <td>9.000000</td>\n",
              "    </tr>\n",
              "    <tr>\n",
              "      <th>sep</th>\n",
              "      <td>0.000</td>\n",
              "      <td>10.000000</td>\n",
              "    </tr>\n",
              "    <tr>\n",
              "      <th rowspan=\"3\" valign=\"top\">charles</th>\n",
              "      <th>nov</th>\n",
              "      <td>0.000</td>\n",
              "      <td>5.000000</td>\n",
              "    </tr>\n",
              "    <tr>\n",
              "      <th>oct</th>\n",
              "      <td>3.000</td>\n",
              "      <td>11.000000</td>\n",
              "    </tr>\n",
              "    <tr>\n",
              "      <th>sep</th>\n",
              "      <td>3.000</td>\n",
              "      <td>4.000000</td>\n",
              "    </tr>\n",
              "    <tr>\n",
              "      <th rowspan=\"3\" valign=\"top\">darwin</th>\n",
              "      <th>nov</th>\n",
              "      <td>0.000</td>\n",
              "      <td>11.000000</td>\n",
              "    </tr>\n",
              "    <tr>\n",
              "      <th>oct</th>\n",
              "      <td>1.000</td>\n",
              "      <td>10.000000</td>\n",
              "    </tr>\n",
              "    <tr>\n",
              "      <th>sep</th>\n",
              "      <td>0.000</td>\n",
              "      <td>9.000000</td>\n",
              "    </tr>\n",
              "    <tr>\n",
              "      <th>All</th>\n",
              "      <th></th>\n",
              "      <td>1.125</td>\n",
              "      <td>8.666667</td>\n",
              "    </tr>\n",
              "  </tbody>\n",
              "</table>\n",
              "</div>"
            ],
            "text/plain": [
              "               bonus      grade\n",
              "name    month                  \n",
              "alice   nov      NaN   9.000000\n",
              "        oct      NaN   8.000000\n",
              "        sep      NaN   8.000000\n",
              "bob     nov    2.000  10.000000\n",
              "        oct      NaN   9.000000\n",
              "        sep    0.000  10.000000\n",
              "charles nov    0.000   5.000000\n",
              "        oct    3.000  11.000000\n",
              "        sep    3.000   4.000000\n",
              "darwin  nov    0.000  11.000000\n",
              "        oct    1.000  10.000000\n",
              "        sep    0.000   9.000000\n",
              "All            1.125   8.666667"
            ]
          },
          "execution_count": 122,
          "metadata": {},
          "output_type": "execute_result"
        }
      ],
      "source": [
        "pd.pivot_table(more_grades, index=(\"name\", \"month\"), margins=True)"
      ]
    },
    {
      "cell_type": "markdown",
      "metadata": {
        "id": "pWZVqmD_YqVu"
      },
      "source": [
        "## Overview functions\n",
        "When dealing with large `DataFrames`, it is useful to get a quick overview of its content. Pandas offers a few functions for this. First, let's create a large `DataFrame` with a mix of numeric values, missing values and text values. Notice how Jupyter displays only the corners of the `DataFrame`:"
      ]
    },
    {
      "cell_type": "code",
      "execution_count": null,
      "metadata": {
        "scrolled": false,
        "id": "skXROA-3YqVu",
        "outputId": "d91ac0e5-8518-49f2-87ed-0941bbdc01bc"
      },
      "outputs": [
        {
          "data": {
            "text/html": [
              "<div>\n",
              "<table border=\"1\" class=\"dataframe\">\n",
              "  <thead>\n",
              "    <tr style=\"text-align: right;\">\n",
              "      <th></th>\n",
              "      <th>A</th>\n",
              "      <th>B</th>\n",
              "      <th>C</th>\n",
              "      <th>some_text</th>\n",
              "      <th>D</th>\n",
              "      <th>E</th>\n",
              "      <th>F</th>\n",
              "      <th>G</th>\n",
              "      <th>H</th>\n",
              "      <th>I</th>\n",
              "      <th>...</th>\n",
              "      <th>Q</th>\n",
              "      <th>R</th>\n",
              "      <th>S</th>\n",
              "      <th>T</th>\n",
              "      <th>U</th>\n",
              "      <th>V</th>\n",
              "      <th>W</th>\n",
              "      <th>X</th>\n",
              "      <th>Y</th>\n",
              "      <th>Z</th>\n",
              "    </tr>\n",
              "  </thead>\n",
              "  <tbody>\n",
              "    <tr>\n",
              "      <th>0</th>\n",
              "      <td>NaN</td>\n",
              "      <td>11</td>\n",
              "      <td>44</td>\n",
              "      <td>Blabla</td>\n",
              "      <td>99</td>\n",
              "      <td>NaN</td>\n",
              "      <td>88</td>\n",
              "      <td>22</td>\n",
              "      <td>165</td>\n",
              "      <td>143</td>\n",
              "      <td>...</td>\n",
              "      <td>11</td>\n",
              "      <td>NaN</td>\n",
              "      <td>11</td>\n",
              "      <td>44</td>\n",
              "      <td>99</td>\n",
              "      <td>NaN</td>\n",
              "      <td>88</td>\n",
              "      <td>22</td>\n",
              "      <td>165</td>\n",
              "      <td>143</td>\n",
              "    </tr>\n",
              "    <tr>\n",
              "      <th>1</th>\n",
              "      <td>11</td>\n",
              "      <td>22</td>\n",
              "      <td>55</td>\n",
              "      <td>Blabla</td>\n",
              "      <td>110</td>\n",
              "      <td>NaN</td>\n",
              "      <td>99</td>\n",
              "      <td>33</td>\n",
              "      <td>NaN</td>\n",
              "      <td>154</td>\n",
              "      <td>...</td>\n",
              "      <td>22</td>\n",
              "      <td>11</td>\n",
              "      <td>22</td>\n",
              "      <td>55</td>\n",
              "      <td>110</td>\n",
              "      <td>NaN</td>\n",
              "      <td>99</td>\n",
              "      <td>33</td>\n",
              "      <td>NaN</td>\n",
              "      <td>154</td>\n",
              "    </tr>\n",
              "    <tr>\n",
              "      <th>2</th>\n",
              "      <td>22</td>\n",
              "      <td>33</td>\n",
              "      <td>66</td>\n",
              "      <td>Blabla</td>\n",
              "      <td>121</td>\n",
              "      <td>11</td>\n",
              "      <td>110</td>\n",
              "      <td>44</td>\n",
              "      <td>NaN</td>\n",
              "      <td>165</td>\n",
              "      <td>...</td>\n",
              "      <td>33</td>\n",
              "      <td>22</td>\n",
              "      <td>33</td>\n",
              "      <td>66</td>\n",
              "      <td>121</td>\n",
              "      <td>11</td>\n",
              "      <td>110</td>\n",
              "      <td>44</td>\n",
              "      <td>NaN</td>\n",
              "      <td>165</td>\n",
              "    </tr>\n",
              "    <tr>\n",
              "      <th>3</th>\n",
              "      <td>33</td>\n",
              "      <td>44</td>\n",
              "      <td>77</td>\n",
              "      <td>Blabla</td>\n",
              "      <td>132</td>\n",
              "      <td>22</td>\n",
              "      <td>121</td>\n",
              "      <td>55</td>\n",
              "      <td>11</td>\n",
              "      <td>NaN</td>\n",
              "      <td>...</td>\n",
              "      <td>44</td>\n",
              "      <td>33</td>\n",
              "      <td>44</td>\n",
              "      <td>77</td>\n",
              "      <td>132</td>\n",
              "      <td>22</td>\n",
              "      <td>121</td>\n",
              "      <td>55</td>\n",
              "      <td>11</td>\n",
              "      <td>NaN</td>\n",
              "    </tr>\n",
              "    <tr>\n",
              "      <th>4</th>\n",
              "      <td>44</td>\n",
              "      <td>55</td>\n",
              "      <td>88</td>\n",
              "      <td>Blabla</td>\n",
              "      <td>143</td>\n",
              "      <td>33</td>\n",
              "      <td>132</td>\n",
              "      <td>66</td>\n",
              "      <td>22</td>\n",
              "      <td>NaN</td>\n",
              "      <td>...</td>\n",
              "      <td>55</td>\n",
              "      <td>44</td>\n",
              "      <td>55</td>\n",
              "      <td>88</td>\n",
              "      <td>143</td>\n",
              "      <td>33</td>\n",
              "      <td>132</td>\n",
              "      <td>66</td>\n",
              "      <td>22</td>\n",
              "      <td>NaN</td>\n",
              "    </tr>\n",
              "    <tr>\n",
              "      <th>5</th>\n",
              "      <td>55</td>\n",
              "      <td>66</td>\n",
              "      <td>99</td>\n",
              "      <td>Blabla</td>\n",
              "      <td>154</td>\n",
              "      <td>44</td>\n",
              "      <td>143</td>\n",
              "      <td>77</td>\n",
              "      <td>33</td>\n",
              "      <td>11</td>\n",
              "      <td>...</td>\n",
              "      <td>66</td>\n",
              "      <td>55</td>\n",
              "      <td>66</td>\n",
              "      <td>99</td>\n",
              "      <td>154</td>\n",
              "      <td>44</td>\n",
              "      <td>143</td>\n",
              "      <td>77</td>\n",
              "      <td>33</td>\n",
              "      <td>11</td>\n",
              "    </tr>\n",
              "    <tr>\n",
              "      <th>6</th>\n",
              "      <td>66</td>\n",
              "      <td>77</td>\n",
              "      <td>110</td>\n",
              "      <td>Blabla</td>\n",
              "      <td>165</td>\n",
              "      <td>55</td>\n",
              "      <td>154</td>\n",
              "      <td>88</td>\n",
              "      <td>44</td>\n",
              "      <td>22</td>\n",
              "      <td>...</td>\n",
              "      <td>77</td>\n",
              "      <td>66</td>\n",
              "      <td>77</td>\n",
              "      <td>110</td>\n",
              "      <td>165</td>\n",
              "      <td>55</td>\n",
              "      <td>154</td>\n",
              "      <td>88</td>\n",
              "      <td>44</td>\n",
              "      <td>22</td>\n",
              "    </tr>\n",
              "    <tr>\n",
              "      <th>7</th>\n",
              "      <td>77</td>\n",
              "      <td>88</td>\n",
              "      <td>121</td>\n",
              "      <td>Blabla</td>\n",
              "      <td>NaN</td>\n",
              "      <td>66</td>\n",
              "      <td>165</td>\n",
              "      <td>99</td>\n",
              "      <td>55</td>\n",
              "      <td>33</td>\n",
              "      <td>...</td>\n",
              "      <td>88</td>\n",
              "      <td>77</td>\n",
              "      <td>88</td>\n",
              "      <td>121</td>\n",
              "      <td>NaN</td>\n",
              "      <td>66</td>\n",
              "      <td>165</td>\n",
              "      <td>99</td>\n",
              "      <td>55</td>\n",
              "      <td>33</td>\n",
              "    </tr>\n",
              "    <tr>\n",
              "      <th>8</th>\n",
              "      <td>88</td>\n",
              "      <td>99</td>\n",
              "      <td>132</td>\n",
              "      <td>Blabla</td>\n",
              "      <td>NaN</td>\n",
              "      <td>77</td>\n",
              "      <td>NaN</td>\n",
              "      <td>110</td>\n",
              "      <td>66</td>\n",
              "      <td>44</td>\n",
              "      <td>...</td>\n",
              "      <td>99</td>\n",
              "      <td>88</td>\n",
              "      <td>99</td>\n",
              "      <td>132</td>\n",
              "      <td>NaN</td>\n",
              "      <td>77</td>\n",
              "      <td>NaN</td>\n",
              "      <td>110</td>\n",
              "      <td>66</td>\n",
              "      <td>44</td>\n",
              "    </tr>\n",
              "    <tr>\n",
              "      <th>9</th>\n",
              "      <td>99</td>\n",
              "      <td>110</td>\n",
              "      <td>143</td>\n",
              "      <td>Blabla</td>\n",
              "      <td>11</td>\n",
              "      <td>88</td>\n",
              "      <td>NaN</td>\n",
              "      <td>121</td>\n",
              "      <td>77</td>\n",
              "      <td>55</td>\n",
              "      <td>...</td>\n",
              "      <td>110</td>\n",
              "      <td>99</td>\n",
              "      <td>110</td>\n",
              "      <td>143</td>\n",
              "      <td>11</td>\n",
              "      <td>88</td>\n",
              "      <td>NaN</td>\n",
              "      <td>121</td>\n",
              "      <td>77</td>\n",
              "      <td>55</td>\n",
              "    </tr>\n",
              "    <tr>\n",
              "      <th>10</th>\n",
              "      <td>110</td>\n",
              "      <td>121</td>\n",
              "      <td>154</td>\n",
              "      <td>Blabla</td>\n",
              "      <td>22</td>\n",
              "      <td>99</td>\n",
              "      <td>11</td>\n",
              "      <td>132</td>\n",
              "      <td>88</td>\n",
              "      <td>66</td>\n",
              "      <td>...</td>\n",
              "      <td>121</td>\n",
              "      <td>110</td>\n",
              "      <td>121</td>\n",
              "      <td>154</td>\n",
              "      <td>22</td>\n",
              "      <td>99</td>\n",
              "      <td>11</td>\n",
              "      <td>132</td>\n",
              "      <td>88</td>\n",
              "      <td>66</td>\n",
              "    </tr>\n",
              "    <tr>\n",
              "      <th>11</th>\n",
              "      <td>121</td>\n",
              "      <td>132</td>\n",
              "      <td>165</td>\n",
              "      <td>Blabla</td>\n",
              "      <td>33</td>\n",
              "      <td>110</td>\n",
              "      <td>22</td>\n",
              "      <td>143</td>\n",
              "      <td>99</td>\n",
              "      <td>77</td>\n",
              "      <td>...</td>\n",
              "      <td>132</td>\n",
              "      <td>121</td>\n",
              "      <td>132</td>\n",
              "      <td>165</td>\n",
              "      <td>33</td>\n",
              "      <td>110</td>\n",
              "      <td>22</td>\n",
              "      <td>143</td>\n",
              "      <td>99</td>\n",
              "      <td>77</td>\n",
              "    </tr>\n",
              "    <tr>\n",
              "      <th>12</th>\n",
              "      <td>132</td>\n",
              "      <td>143</td>\n",
              "      <td>NaN</td>\n",
              "      <td>Blabla</td>\n",
              "      <td>44</td>\n",
              "      <td>121</td>\n",
              "      <td>33</td>\n",
              "      <td>154</td>\n",
              "      <td>110</td>\n",
              "      <td>88</td>\n",
              "      <td>...</td>\n",
              "      <td>143</td>\n",
              "      <td>132</td>\n",
              "      <td>143</td>\n",
              "      <td>NaN</td>\n",
              "      <td>44</td>\n",
              "      <td>121</td>\n",
              "      <td>33</td>\n",
              "      <td>154</td>\n",
              "      <td>110</td>\n",
              "      <td>88</td>\n",
              "    </tr>\n",
              "    <tr>\n",
              "      <th>13</th>\n",
              "      <td>143</td>\n",
              "      <td>154</td>\n",
              "      <td>NaN</td>\n",
              "      <td>Blabla</td>\n",
              "      <td>55</td>\n",
              "      <td>132</td>\n",
              "      <td>44</td>\n",
              "      <td>165</td>\n",
              "      <td>121</td>\n",
              "      <td>99</td>\n",
              "      <td>...</td>\n",
              "      <td>154</td>\n",
              "      <td>143</td>\n",
              "      <td>154</td>\n",
              "      <td>NaN</td>\n",
              "      <td>55</td>\n",
              "      <td>132</td>\n",
              "      <td>44</td>\n",
              "      <td>165</td>\n",
              "      <td>121</td>\n",
              "      <td>99</td>\n",
              "    </tr>\n",
              "    <tr>\n",
              "      <th>14</th>\n",
              "      <td>154</td>\n",
              "      <td>165</td>\n",
              "      <td>11</td>\n",
              "      <td>Blabla</td>\n",
              "      <td>66</td>\n",
              "      <td>143</td>\n",
              "      <td>55</td>\n",
              "      <td>NaN</td>\n",
              "      <td>132</td>\n",
              "      <td>110</td>\n",
              "      <td>...</td>\n",
              "      <td>165</td>\n",
              "      <td>154</td>\n",
              "      <td>165</td>\n",
              "      <td>11</td>\n",
              "      <td>66</td>\n",
              "      <td>143</td>\n",
              "      <td>55</td>\n",
              "      <td>NaN</td>\n",
              "      <td>132</td>\n",
              "      <td>110</td>\n",
              "    </tr>\n",
              "    <tr>\n",
              "      <th>15</th>\n",
              "      <td>165</td>\n",
              "      <td>NaN</td>\n",
              "      <td>22</td>\n",
              "      <td>Blabla</td>\n",
              "      <td>77</td>\n",
              "      <td>154</td>\n",
              "      <td>66</td>\n",
              "      <td>NaN</td>\n",
              "      <td>143</td>\n",
              "      <td>121</td>\n",
              "      <td>...</td>\n",
              "      <td>NaN</td>\n",
              "      <td>165</td>\n",
              "      <td>NaN</td>\n",
              "      <td>22</td>\n",
              "      <td>77</td>\n",
              "      <td>154</td>\n",
              "      <td>66</td>\n",
              "      <td>NaN</td>\n",
              "      <td>143</td>\n",
              "      <td>121</td>\n",
              "    </tr>\n",
              "    <tr>\n",
              "      <th>16</th>\n",
              "      <td>NaN</td>\n",
              "      <td>NaN</td>\n",
              "      <td>33</td>\n",
              "      <td>Blabla</td>\n",
              "      <td>88</td>\n",
              "      <td>165</td>\n",
              "      <td>77</td>\n",
              "      <td>11</td>\n",
              "      <td>154</td>\n",
              "      <td>132</td>\n",
              "      <td>...</td>\n",
              "      <td>NaN</td>\n",
              "      <td>NaN</td>\n",
              "      <td>NaN</td>\n",
              "      <td>33</td>\n",
              "      <td>88</td>\n",
              "      <td>165</td>\n",
              "      <td>77</td>\n",
              "      <td>11</td>\n",
              "      <td>154</td>\n",
              "      <td>132</td>\n",
              "    </tr>\n",
              "    <tr>\n",
              "      <th>17</th>\n",
              "      <td>NaN</td>\n",
              "      <td>11</td>\n",
              "      <td>44</td>\n",
              "      <td>Blabla</td>\n",
              "      <td>99</td>\n",
              "      <td>NaN</td>\n",
              "      <td>88</td>\n",
              "      <td>22</td>\n",
              "      <td>165</td>\n",
              "      <td>143</td>\n",
              "      <td>...</td>\n",
              "      <td>11</td>\n",
              "      <td>NaN</td>\n",
              "      <td>11</td>\n",
              "      <td>44</td>\n",
              "      <td>99</td>\n",
              "      <td>NaN</td>\n",
              "      <td>88</td>\n",
              "      <td>22</td>\n",
              "      <td>165</td>\n",
              "      <td>143</td>\n",
              "    </tr>\n",
              "    <tr>\n",
              "      <th>18</th>\n",
              "      <td>11</td>\n",
              "      <td>22</td>\n",
              "      <td>55</td>\n",
              "      <td>Blabla</td>\n",
              "      <td>110</td>\n",
              "      <td>NaN</td>\n",
              "      <td>99</td>\n",
              "      <td>33</td>\n",
              "      <td>NaN</td>\n",
              "      <td>154</td>\n",
              "      <td>...</td>\n",
              "      <td>22</td>\n",
              "      <td>11</td>\n",
              "      <td>22</td>\n",
              "      <td>55</td>\n",
              "      <td>110</td>\n",
              "      <td>NaN</td>\n",
              "      <td>99</td>\n",
              "      <td>33</td>\n",
              "      <td>NaN</td>\n",
              "      <td>154</td>\n",
              "    </tr>\n",
              "    <tr>\n",
              "      <th>19</th>\n",
              "      <td>22</td>\n",
              "      <td>33</td>\n",
              "      <td>66</td>\n",
              "      <td>Blabla</td>\n",
              "      <td>121</td>\n",
              "      <td>11</td>\n",
              "      <td>110</td>\n",
              "      <td>44</td>\n",
              "      <td>NaN</td>\n",
              "      <td>165</td>\n",
              "      <td>...</td>\n",
              "      <td>33</td>\n",
              "      <td>22</td>\n",
              "      <td>33</td>\n",
              "      <td>66</td>\n",
              "      <td>121</td>\n",
              "      <td>11</td>\n",
              "      <td>110</td>\n",
              "      <td>44</td>\n",
              "      <td>NaN</td>\n",
              "      <td>165</td>\n",
              "    </tr>\n",
              "    <tr>\n",
              "      <th>20</th>\n",
              "      <td>33</td>\n",
              "      <td>44</td>\n",
              "      <td>77</td>\n",
              "      <td>Blabla</td>\n",
              "      <td>132</td>\n",
              "      <td>22</td>\n",
              "      <td>121</td>\n",
              "      <td>55</td>\n",
              "      <td>11</td>\n",
              "      <td>NaN</td>\n",
              "      <td>...</td>\n",
              "      <td>44</td>\n",
              "      <td>33</td>\n",
              "      <td>44</td>\n",
              "      <td>77</td>\n",
              "      <td>132</td>\n",
              "      <td>22</td>\n",
              "      <td>121</td>\n",
              "      <td>55</td>\n",
              "      <td>11</td>\n",
              "      <td>NaN</td>\n",
              "    </tr>\n",
              "    <tr>\n",
              "      <th>21</th>\n",
              "      <td>44</td>\n",
              "      <td>55</td>\n",
              "      <td>88</td>\n",
              "      <td>Blabla</td>\n",
              "      <td>143</td>\n",
              "      <td>33</td>\n",
              "      <td>132</td>\n",
              "      <td>66</td>\n",
              "      <td>22</td>\n",
              "      <td>NaN</td>\n",
              "      <td>...</td>\n",
              "      <td>55</td>\n",
              "      <td>44</td>\n",
              "      <td>55</td>\n",
              "      <td>88</td>\n",
              "      <td>143</td>\n",
              "      <td>33</td>\n",
              "      <td>132</td>\n",
              "      <td>66</td>\n",
              "      <td>22</td>\n",
              "      <td>NaN</td>\n",
              "    </tr>\n",
              "    <tr>\n",
              "      <th>22</th>\n",
              "      <td>55</td>\n",
              "      <td>66</td>\n",
              "      <td>99</td>\n",
              "      <td>Blabla</td>\n",
              "      <td>154</td>\n",
              "      <td>44</td>\n",
              "      <td>143</td>\n",
              "      <td>77</td>\n",
              "      <td>33</td>\n",
              "      <td>11</td>\n",
              "      <td>...</td>\n",
              "      <td>66</td>\n",
              "      <td>55</td>\n",
              "      <td>66</td>\n",
              "      <td>99</td>\n",
              "      <td>154</td>\n",
              "      <td>44</td>\n",
              "      <td>143</td>\n",
              "      <td>77</td>\n",
              "      <td>33</td>\n",
              "      <td>11</td>\n",
              "    </tr>\n",
              "    <tr>\n",
              "      <th>23</th>\n",
              "      <td>66</td>\n",
              "      <td>77</td>\n",
              "      <td>110</td>\n",
              "      <td>Blabla</td>\n",
              "      <td>165</td>\n",
              "      <td>55</td>\n",
              "      <td>154</td>\n",
              "      <td>88</td>\n",
              "      <td>44</td>\n",
              "      <td>22</td>\n",
              "      <td>...</td>\n",
              "      <td>77</td>\n",
              "      <td>66</td>\n",
              "      <td>77</td>\n",
              "      <td>110</td>\n",
              "      <td>165</td>\n",
              "      <td>55</td>\n",
              "      <td>154</td>\n",
              "      <td>88</td>\n",
              "      <td>44</td>\n",
              "      <td>22</td>\n",
              "    </tr>\n",
              "    <tr>\n",
              "      <th>24</th>\n",
              "      <td>77</td>\n",
              "      <td>88</td>\n",
              "      <td>121</td>\n",
              "      <td>Blabla</td>\n",
              "      <td>NaN</td>\n",
              "      <td>66</td>\n",
              "      <td>165</td>\n",
              "      <td>99</td>\n",
              "      <td>55</td>\n",
              "      <td>33</td>\n",
              "      <td>...</td>\n",
              "      <td>88</td>\n",
              "      <td>77</td>\n",
              "      <td>88</td>\n",
              "      <td>121</td>\n",
              "      <td>NaN</td>\n",
              "      <td>66</td>\n",
              "      <td>165</td>\n",
              "      <td>99</td>\n",
              "      <td>55</td>\n",
              "      <td>33</td>\n",
              "    </tr>\n",
              "    <tr>\n",
              "      <th>25</th>\n",
              "      <td>88</td>\n",
              "      <td>99</td>\n",
              "      <td>132</td>\n",
              "      <td>Blabla</td>\n",
              "      <td>NaN</td>\n",
              "      <td>77</td>\n",
              "      <td>NaN</td>\n",
              "      <td>110</td>\n",
              "      <td>66</td>\n",
              "      <td>44</td>\n",
              "      <td>...</td>\n",
              "      <td>99</td>\n",
              "      <td>88</td>\n",
              "      <td>99</td>\n",
              "      <td>132</td>\n",
              "      <td>NaN</td>\n",
              "      <td>77</td>\n",
              "      <td>NaN</td>\n",
              "      <td>110</td>\n",
              "      <td>66</td>\n",
              "      <td>44</td>\n",
              "    </tr>\n",
              "    <tr>\n",
              "      <th>26</th>\n",
              "      <td>99</td>\n",
              "      <td>110</td>\n",
              "      <td>143</td>\n",
              "      <td>Blabla</td>\n",
              "      <td>11</td>\n",
              "      <td>88</td>\n",
              "      <td>NaN</td>\n",
              "      <td>121</td>\n",
              "      <td>77</td>\n",
              "      <td>55</td>\n",
              "      <td>...</td>\n",
              "      <td>110</td>\n",
              "      <td>99</td>\n",
              "      <td>110</td>\n",
              "      <td>143</td>\n",
              "      <td>11</td>\n",
              "      <td>88</td>\n",
              "      <td>NaN</td>\n",
              "      <td>121</td>\n",
              "      <td>77</td>\n",
              "      <td>55</td>\n",
              "    </tr>\n",
              "    <tr>\n",
              "      <th>27</th>\n",
              "      <td>110</td>\n",
              "      <td>121</td>\n",
              "      <td>154</td>\n",
              "      <td>Blabla</td>\n",
              "      <td>22</td>\n",
              "      <td>99</td>\n",
              "      <td>11</td>\n",
              "      <td>132</td>\n",
              "      <td>88</td>\n",
              "      <td>66</td>\n",
              "      <td>...</td>\n",
              "      <td>121</td>\n",
              "      <td>110</td>\n",
              "      <td>121</td>\n",
              "      <td>154</td>\n",
              "      <td>22</td>\n",
              "      <td>99</td>\n",
              "      <td>11</td>\n",
              "      <td>132</td>\n",
              "      <td>88</td>\n",
              "      <td>66</td>\n",
              "    </tr>\n",
              "    <tr>\n",
              "      <th>28</th>\n",
              "      <td>121</td>\n",
              "      <td>132</td>\n",
              "      <td>165</td>\n",
              "      <td>Blabla</td>\n",
              "      <td>33</td>\n",
              "      <td>110</td>\n",
              "      <td>22</td>\n",
              "      <td>143</td>\n",
              "      <td>99</td>\n",
              "      <td>77</td>\n",
              "      <td>...</td>\n",
              "      <td>132</td>\n",
              "      <td>121</td>\n",
              "      <td>132</td>\n",
              "      <td>165</td>\n",
              "      <td>33</td>\n",
              "      <td>110</td>\n",
              "      <td>22</td>\n",
              "      <td>143</td>\n",
              "      <td>99</td>\n",
              "      <td>77</td>\n",
              "    </tr>\n",
              "    <tr>\n",
              "      <th>29</th>\n",
              "      <td>132</td>\n",
              "      <td>143</td>\n",
              "      <td>NaN</td>\n",
              "      <td>Blabla</td>\n",
              "      <td>44</td>\n",
              "      <td>121</td>\n",
              "      <td>33</td>\n",
              "      <td>154</td>\n",
              "      <td>110</td>\n",
              "      <td>88</td>\n",
              "      <td>...</td>\n",
              "      <td>143</td>\n",
              "      <td>132</td>\n",
              "      <td>143</td>\n",
              "      <td>NaN</td>\n",
              "      <td>44</td>\n",
              "      <td>121</td>\n",
              "      <td>33</td>\n",
              "      <td>154</td>\n",
              "      <td>110</td>\n",
              "      <td>88</td>\n",
              "    </tr>\n",
              "    <tr>\n",
              "      <th>...</th>\n",
              "      <td>...</td>\n",
              "      <td>...</td>\n",
              "      <td>...</td>\n",
              "      <td>...</td>\n",
              "      <td>...</td>\n",
              "      <td>...</td>\n",
              "      <td>...</td>\n",
              "      <td>...</td>\n",
              "      <td>...</td>\n",
              "      <td>...</td>\n",
              "      <td>...</td>\n",
              "      <td>...</td>\n",
              "      <td>...</td>\n",
              "      <td>...</td>\n",
              "      <td>...</td>\n",
              "      <td>...</td>\n",
              "      <td>...</td>\n",
              "      <td>...</td>\n",
              "      <td>...</td>\n",
              "      <td>...</td>\n",
              "      <td>...</td>\n",
              "    </tr>\n",
              "    <tr>\n",
              "      <th>9970</th>\n",
              "      <td>88</td>\n",
              "      <td>99</td>\n",
              "      <td>132</td>\n",
              "      <td>Blabla</td>\n",
              "      <td>NaN</td>\n",
              "      <td>77</td>\n",
              "      <td>NaN</td>\n",
              "      <td>110</td>\n",
              "      <td>66</td>\n",
              "      <td>44</td>\n",
              "      <td>...</td>\n",
              "      <td>99</td>\n",
              "      <td>88</td>\n",
              "      <td>99</td>\n",
              "      <td>132</td>\n",
              "      <td>NaN</td>\n",
              "      <td>77</td>\n",
              "      <td>NaN</td>\n",
              "      <td>110</td>\n",
              "      <td>66</td>\n",
              "      <td>44</td>\n",
              "    </tr>\n",
              "    <tr>\n",
              "      <th>9971</th>\n",
              "      <td>99</td>\n",
              "      <td>110</td>\n",
              "      <td>143</td>\n",
              "      <td>Blabla</td>\n",
              "      <td>11</td>\n",
              "      <td>88</td>\n",
              "      <td>NaN</td>\n",
              "      <td>121</td>\n",
              "      <td>77</td>\n",
              "      <td>55</td>\n",
              "      <td>...</td>\n",
              "      <td>110</td>\n",
              "      <td>99</td>\n",
              "      <td>110</td>\n",
              "      <td>143</td>\n",
              "      <td>11</td>\n",
              "      <td>88</td>\n",
              "      <td>NaN</td>\n",
              "      <td>121</td>\n",
              "      <td>77</td>\n",
              "      <td>55</td>\n",
              "    </tr>\n",
              "    <tr>\n",
              "      <th>9972</th>\n",
              "      <td>110</td>\n",
              "      <td>121</td>\n",
              "      <td>154</td>\n",
              "      <td>Blabla</td>\n",
              "      <td>22</td>\n",
              "      <td>99</td>\n",
              "      <td>11</td>\n",
              "      <td>132</td>\n",
              "      <td>88</td>\n",
              "      <td>66</td>\n",
              "      <td>...</td>\n",
              "      <td>121</td>\n",
              "      <td>110</td>\n",
              "      <td>121</td>\n",
              "      <td>154</td>\n",
              "      <td>22</td>\n",
              "      <td>99</td>\n",
              "      <td>11</td>\n",
              "      <td>132</td>\n",
              "      <td>88</td>\n",
              "      <td>66</td>\n",
              "    </tr>\n",
              "    <tr>\n",
              "      <th>9973</th>\n",
              "      <td>121</td>\n",
              "      <td>132</td>\n",
              "      <td>165</td>\n",
              "      <td>Blabla</td>\n",
              "      <td>33</td>\n",
              "      <td>110</td>\n",
              "      <td>22</td>\n",
              "      <td>143</td>\n",
              "      <td>99</td>\n",
              "      <td>77</td>\n",
              "      <td>...</td>\n",
              "      <td>132</td>\n",
              "      <td>121</td>\n",
              "      <td>132</td>\n",
              "      <td>165</td>\n",
              "      <td>33</td>\n",
              "      <td>110</td>\n",
              "      <td>22</td>\n",
              "      <td>143</td>\n",
              "      <td>99</td>\n",
              "      <td>77</td>\n",
              "    </tr>\n",
              "    <tr>\n",
              "      <th>9974</th>\n",
              "      <td>132</td>\n",
              "      <td>143</td>\n",
              "      <td>NaN</td>\n",
              "      <td>Blabla</td>\n",
              "      <td>44</td>\n",
              "      <td>121</td>\n",
              "      <td>33</td>\n",
              "      <td>154</td>\n",
              "      <td>110</td>\n",
              "      <td>88</td>\n",
              "      <td>...</td>\n",
              "      <td>143</td>\n",
              "      <td>132</td>\n",
              "      <td>143</td>\n",
              "      <td>NaN</td>\n",
              "      <td>44</td>\n",
              "      <td>121</td>\n",
              "      <td>33</td>\n",
              "      <td>154</td>\n",
              "      <td>110</td>\n",
              "      <td>88</td>\n",
              "    </tr>\n",
              "    <tr>\n",
              "      <th>9975</th>\n",
              "      <td>143</td>\n",
              "      <td>154</td>\n",
              "      <td>NaN</td>\n",
              "      <td>Blabla</td>\n",
              "      <td>55</td>\n",
              "      <td>132</td>\n",
              "      <td>44</td>\n",
              "      <td>165</td>\n",
              "      <td>121</td>\n",
              "      <td>99</td>\n",
              "      <td>...</td>\n",
              "      <td>154</td>\n",
              "      <td>143</td>\n",
              "      <td>154</td>\n",
              "      <td>NaN</td>\n",
              "      <td>55</td>\n",
              "      <td>132</td>\n",
              "      <td>44</td>\n",
              "      <td>165</td>\n",
              "      <td>121</td>\n",
              "      <td>99</td>\n",
              "    </tr>\n",
              "    <tr>\n",
              "      <th>9976</th>\n",
              "      <td>154</td>\n",
              "      <td>165</td>\n",
              "      <td>11</td>\n",
              "      <td>Blabla</td>\n",
              "      <td>66</td>\n",
              "      <td>143</td>\n",
              "      <td>55</td>\n",
              "      <td>NaN</td>\n",
              "      <td>132</td>\n",
              "      <td>110</td>\n",
              "      <td>...</td>\n",
              "      <td>165</td>\n",
              "      <td>154</td>\n",
              "      <td>165</td>\n",
              "      <td>11</td>\n",
              "      <td>66</td>\n",
              "      <td>143</td>\n",
              "      <td>55</td>\n",
              "      <td>NaN</td>\n",
              "      <td>132</td>\n",
              "      <td>110</td>\n",
              "    </tr>\n",
              "    <tr>\n",
              "      <th>9977</th>\n",
              "      <td>165</td>\n",
              "      <td>NaN</td>\n",
              "      <td>22</td>\n",
              "      <td>Blabla</td>\n",
              "      <td>77</td>\n",
              "      <td>154</td>\n",
              "      <td>66</td>\n",
              "      <td>NaN</td>\n",
              "      <td>143</td>\n",
              "      <td>121</td>\n",
              "      <td>...</td>\n",
              "      <td>NaN</td>\n",
              "      <td>165</td>\n",
              "      <td>NaN</td>\n",
              "      <td>22</td>\n",
              "      <td>77</td>\n",
              "      <td>154</td>\n",
              "      <td>66</td>\n",
              "      <td>NaN</td>\n",
              "      <td>143</td>\n",
              "      <td>121</td>\n",
              "    </tr>\n",
              "    <tr>\n",
              "      <th>9978</th>\n",
              "      <td>NaN</td>\n",
              "      <td>NaN</td>\n",
              "      <td>33</td>\n",
              "      <td>Blabla</td>\n",
              "      <td>88</td>\n",
              "      <td>165</td>\n",
              "      <td>77</td>\n",
              "      <td>11</td>\n",
              "      <td>154</td>\n",
              "      <td>132</td>\n",
              "      <td>...</td>\n",
              "      <td>NaN</td>\n",
              "      <td>NaN</td>\n",
              "      <td>NaN</td>\n",
              "      <td>33</td>\n",
              "      <td>88</td>\n",
              "      <td>165</td>\n",
              "      <td>77</td>\n",
              "      <td>11</td>\n",
              "      <td>154</td>\n",
              "      <td>132</td>\n",
              "    </tr>\n",
              "    <tr>\n",
              "      <th>9979</th>\n",
              "      <td>NaN</td>\n",
              "      <td>11</td>\n",
              "      <td>44</td>\n",
              "      <td>Blabla</td>\n",
              "      <td>99</td>\n",
              "      <td>NaN</td>\n",
              "      <td>88</td>\n",
              "      <td>22</td>\n",
              "      <td>165</td>\n",
              "      <td>143</td>\n",
              "      <td>...</td>\n",
              "      <td>11</td>\n",
              "      <td>NaN</td>\n",
              "      <td>11</td>\n",
              "      <td>44</td>\n",
              "      <td>99</td>\n",
              "      <td>NaN</td>\n",
              "      <td>88</td>\n",
              "      <td>22</td>\n",
              "      <td>165</td>\n",
              "      <td>143</td>\n",
              "    </tr>\n",
              "    <tr>\n",
              "      <th>9980</th>\n",
              "      <td>11</td>\n",
              "      <td>22</td>\n",
              "      <td>55</td>\n",
              "      <td>Blabla</td>\n",
              "      <td>110</td>\n",
              "      <td>NaN</td>\n",
              "      <td>99</td>\n",
              "      <td>33</td>\n",
              "      <td>NaN</td>\n",
              "      <td>154</td>\n",
              "      <td>...</td>\n",
              "      <td>22</td>\n",
              "      <td>11</td>\n",
              "      <td>22</td>\n",
              "      <td>55</td>\n",
              "      <td>110</td>\n",
              "      <td>NaN</td>\n",
              "      <td>99</td>\n",
              "      <td>33</td>\n",
              "      <td>NaN</td>\n",
              "      <td>154</td>\n",
              "    </tr>\n",
              "    <tr>\n",
              "      <th>9981</th>\n",
              "      <td>22</td>\n",
              "      <td>33</td>\n",
              "      <td>66</td>\n",
              "      <td>Blabla</td>\n",
              "      <td>121</td>\n",
              "      <td>11</td>\n",
              "      <td>110</td>\n",
              "      <td>44</td>\n",
              "      <td>NaN</td>\n",
              "      <td>165</td>\n",
              "      <td>...</td>\n",
              "      <td>33</td>\n",
              "      <td>22</td>\n",
              "      <td>33</td>\n",
              "      <td>66</td>\n",
              "      <td>121</td>\n",
              "      <td>11</td>\n",
              "      <td>110</td>\n",
              "      <td>44</td>\n",
              "      <td>NaN</td>\n",
              "      <td>165</td>\n",
              "    </tr>\n",
              "    <tr>\n",
              "      <th>9982</th>\n",
              "      <td>33</td>\n",
              "      <td>44</td>\n",
              "      <td>77</td>\n",
              "      <td>Blabla</td>\n",
              "      <td>132</td>\n",
              "      <td>22</td>\n",
              "      <td>121</td>\n",
              "      <td>55</td>\n",
              "      <td>11</td>\n",
              "      <td>NaN</td>\n",
              "      <td>...</td>\n",
              "      <td>44</td>\n",
              "      <td>33</td>\n",
              "      <td>44</td>\n",
              "      <td>77</td>\n",
              "      <td>132</td>\n",
              "      <td>22</td>\n",
              "      <td>121</td>\n",
              "      <td>55</td>\n",
              "      <td>11</td>\n",
              "      <td>NaN</td>\n",
              "    </tr>\n",
              "    <tr>\n",
              "      <th>9983</th>\n",
              "      <td>44</td>\n",
              "      <td>55</td>\n",
              "      <td>88</td>\n",
              "      <td>Blabla</td>\n",
              "      <td>143</td>\n",
              "      <td>33</td>\n",
              "      <td>132</td>\n",
              "      <td>66</td>\n",
              "      <td>22</td>\n",
              "      <td>NaN</td>\n",
              "      <td>...</td>\n",
              "      <td>55</td>\n",
              "      <td>44</td>\n",
              "      <td>55</td>\n",
              "      <td>88</td>\n",
              "      <td>143</td>\n",
              "      <td>33</td>\n",
              "      <td>132</td>\n",
              "      <td>66</td>\n",
              "      <td>22</td>\n",
              "      <td>NaN</td>\n",
              "    </tr>\n",
              "    <tr>\n",
              "      <th>9984</th>\n",
              "      <td>55</td>\n",
              "      <td>66</td>\n",
              "      <td>99</td>\n",
              "      <td>Blabla</td>\n",
              "      <td>154</td>\n",
              "      <td>44</td>\n",
              "      <td>143</td>\n",
              "      <td>77</td>\n",
              "      <td>33</td>\n",
              "      <td>11</td>\n",
              "      <td>...</td>\n",
              "      <td>66</td>\n",
              "      <td>55</td>\n",
              "      <td>66</td>\n",
              "      <td>99</td>\n",
              "      <td>154</td>\n",
              "      <td>44</td>\n",
              "      <td>143</td>\n",
              "      <td>77</td>\n",
              "      <td>33</td>\n",
              "      <td>11</td>\n",
              "    </tr>\n",
              "    <tr>\n",
              "      <th>9985</th>\n",
              "      <td>66</td>\n",
              "      <td>77</td>\n",
              "      <td>110</td>\n",
              "      <td>Blabla</td>\n",
              "      <td>165</td>\n",
              "      <td>55</td>\n",
              "      <td>154</td>\n",
              "      <td>88</td>\n",
              "      <td>44</td>\n",
              "      <td>22</td>\n",
              "      <td>...</td>\n",
              "      <td>77</td>\n",
              "      <td>66</td>\n",
              "      <td>77</td>\n",
              "      <td>110</td>\n",
              "      <td>165</td>\n",
              "      <td>55</td>\n",
              "      <td>154</td>\n",
              "      <td>88</td>\n",
              "      <td>44</td>\n",
              "      <td>22</td>\n",
              "    </tr>\n",
              "    <tr>\n",
              "      <th>9986</th>\n",
              "      <td>77</td>\n",
              "      <td>88</td>\n",
              "      <td>121</td>\n",
              "      <td>Blabla</td>\n",
              "      <td>NaN</td>\n",
              "      <td>66</td>\n",
              "      <td>165</td>\n",
              "      <td>99</td>\n",
              "      <td>55</td>\n",
              "      <td>33</td>\n",
              "      <td>...</td>\n",
              "      <td>88</td>\n",
              "      <td>77</td>\n",
              "      <td>88</td>\n",
              "      <td>121</td>\n",
              "      <td>NaN</td>\n",
              "      <td>66</td>\n",
              "      <td>165</td>\n",
              "      <td>99</td>\n",
              "      <td>55</td>\n",
              "      <td>33</td>\n",
              "    </tr>\n",
              "    <tr>\n",
              "      <th>9987</th>\n",
              "      <td>88</td>\n",
              "      <td>99</td>\n",
              "      <td>132</td>\n",
              "      <td>Blabla</td>\n",
              "      <td>NaN</td>\n",
              "      <td>77</td>\n",
              "      <td>NaN</td>\n",
              "      <td>110</td>\n",
              "      <td>66</td>\n",
              "      <td>44</td>\n",
              "      <td>...</td>\n",
              "      <td>99</td>\n",
              "      <td>88</td>\n",
              "      <td>99</td>\n",
              "      <td>132</td>\n",
              "      <td>NaN</td>\n",
              "      <td>77</td>\n",
              "      <td>NaN</td>\n",
              "      <td>110</td>\n",
              "      <td>66</td>\n",
              "      <td>44</td>\n",
              "    </tr>\n",
              "    <tr>\n",
              "      <th>9988</th>\n",
              "      <td>99</td>\n",
              "      <td>110</td>\n",
              "      <td>143</td>\n",
              "      <td>Blabla</td>\n",
              "      <td>11</td>\n",
              "      <td>88</td>\n",
              "      <td>NaN</td>\n",
              "      <td>121</td>\n",
              "      <td>77</td>\n",
              "      <td>55</td>\n",
              "      <td>...</td>\n",
              "      <td>110</td>\n",
              "      <td>99</td>\n",
              "      <td>110</td>\n",
              "      <td>143</td>\n",
              "      <td>11</td>\n",
              "      <td>88</td>\n",
              "      <td>NaN</td>\n",
              "      <td>121</td>\n",
              "      <td>77</td>\n",
              "      <td>55</td>\n",
              "    </tr>\n",
              "    <tr>\n",
              "      <th>9989</th>\n",
              "      <td>110</td>\n",
              "      <td>121</td>\n",
              "      <td>154</td>\n",
              "      <td>Blabla</td>\n",
              "      <td>22</td>\n",
              "      <td>99</td>\n",
              "      <td>11</td>\n",
              "      <td>132</td>\n",
              "      <td>88</td>\n",
              "      <td>66</td>\n",
              "      <td>...</td>\n",
              "      <td>121</td>\n",
              "      <td>110</td>\n",
              "      <td>121</td>\n",
              "      <td>154</td>\n",
              "      <td>22</td>\n",
              "      <td>99</td>\n",
              "      <td>11</td>\n",
              "      <td>132</td>\n",
              "      <td>88</td>\n",
              "      <td>66</td>\n",
              "    </tr>\n",
              "    <tr>\n",
              "      <th>9990</th>\n",
              "      <td>121</td>\n",
              "      <td>132</td>\n",
              "      <td>165</td>\n",
              "      <td>Blabla</td>\n",
              "      <td>33</td>\n",
              "      <td>110</td>\n",
              "      <td>22</td>\n",
              "      <td>143</td>\n",
              "      <td>99</td>\n",
              "      <td>77</td>\n",
              "      <td>...</td>\n",
              "      <td>132</td>\n",
              "      <td>121</td>\n",
              "      <td>132</td>\n",
              "      <td>165</td>\n",
              "      <td>33</td>\n",
              "      <td>110</td>\n",
              "      <td>22</td>\n",
              "      <td>143</td>\n",
              "      <td>99</td>\n",
              "      <td>77</td>\n",
              "    </tr>\n",
              "    <tr>\n",
              "      <th>9991</th>\n",
              "      <td>132</td>\n",
              "      <td>143</td>\n",
              "      <td>NaN</td>\n",
              "      <td>Blabla</td>\n",
              "      <td>44</td>\n",
              "      <td>121</td>\n",
              "      <td>33</td>\n",
              "      <td>154</td>\n",
              "      <td>110</td>\n",
              "      <td>88</td>\n",
              "      <td>...</td>\n",
              "      <td>143</td>\n",
              "      <td>132</td>\n",
              "      <td>143</td>\n",
              "      <td>NaN</td>\n",
              "      <td>44</td>\n",
              "      <td>121</td>\n",
              "      <td>33</td>\n",
              "      <td>154</td>\n",
              "      <td>110</td>\n",
              "      <td>88</td>\n",
              "    </tr>\n",
              "    <tr>\n",
              "      <th>9992</th>\n",
              "      <td>143</td>\n",
              "      <td>154</td>\n",
              "      <td>NaN</td>\n",
              "      <td>Blabla</td>\n",
              "      <td>55</td>\n",
              "      <td>132</td>\n",
              "      <td>44</td>\n",
              "      <td>165</td>\n",
              "      <td>121</td>\n",
              "      <td>99</td>\n",
              "      <td>...</td>\n",
              "      <td>154</td>\n",
              "      <td>143</td>\n",
              "      <td>154</td>\n",
              "      <td>NaN</td>\n",
              "      <td>55</td>\n",
              "      <td>132</td>\n",
              "      <td>44</td>\n",
              "      <td>165</td>\n",
              "      <td>121</td>\n",
              "      <td>99</td>\n",
              "    </tr>\n",
              "    <tr>\n",
              "      <th>9993</th>\n",
              "      <td>154</td>\n",
              "      <td>165</td>\n",
              "      <td>11</td>\n",
              "      <td>Blabla</td>\n",
              "      <td>66</td>\n",
              "      <td>143</td>\n",
              "      <td>55</td>\n",
              "      <td>NaN</td>\n",
              "      <td>132</td>\n",
              "      <td>110</td>\n",
              "      <td>...</td>\n",
              "      <td>165</td>\n",
              "      <td>154</td>\n",
              "      <td>165</td>\n",
              "      <td>11</td>\n",
              "      <td>66</td>\n",
              "      <td>143</td>\n",
              "      <td>55</td>\n",
              "      <td>NaN</td>\n",
              "      <td>132</td>\n",
              "      <td>110</td>\n",
              "    </tr>\n",
              "    <tr>\n",
              "      <th>9994</th>\n",
              "      <td>165</td>\n",
              "      <td>NaN</td>\n",
              "      <td>22</td>\n",
              "      <td>Blabla</td>\n",
              "      <td>77</td>\n",
              "      <td>154</td>\n",
              "      <td>66</td>\n",
              "      <td>NaN</td>\n",
              "      <td>143</td>\n",
              "      <td>121</td>\n",
              "      <td>...</td>\n",
              "      <td>NaN</td>\n",
              "      <td>165</td>\n",
              "      <td>NaN</td>\n",
              "      <td>22</td>\n",
              "      <td>77</td>\n",
              "      <td>154</td>\n",
              "      <td>66</td>\n",
              "      <td>NaN</td>\n",
              "      <td>143</td>\n",
              "      <td>121</td>\n",
              "    </tr>\n",
              "    <tr>\n",
              "      <th>9995</th>\n",
              "      <td>NaN</td>\n",
              "      <td>NaN</td>\n",
              "      <td>33</td>\n",
              "      <td>Blabla</td>\n",
              "      <td>88</td>\n",
              "      <td>165</td>\n",
              "      <td>77</td>\n",
              "      <td>11</td>\n",
              "      <td>154</td>\n",
              "      <td>132</td>\n",
              "      <td>...</td>\n",
              "      <td>NaN</td>\n",
              "      <td>NaN</td>\n",
              "      <td>NaN</td>\n",
              "      <td>33</td>\n",
              "      <td>88</td>\n",
              "      <td>165</td>\n",
              "      <td>77</td>\n",
              "      <td>11</td>\n",
              "      <td>154</td>\n",
              "      <td>132</td>\n",
              "    </tr>\n",
              "    <tr>\n",
              "      <th>9996</th>\n",
              "      <td>NaN</td>\n",
              "      <td>11</td>\n",
              "      <td>44</td>\n",
              "      <td>Blabla</td>\n",
              "      <td>99</td>\n",
              "      <td>NaN</td>\n",
              "      <td>88</td>\n",
              "      <td>22</td>\n",
              "      <td>165</td>\n",
              "      <td>143</td>\n",
              "      <td>...</td>\n",
              "      <td>11</td>\n",
              "      <td>NaN</td>\n",
              "      <td>11</td>\n",
              "      <td>44</td>\n",
              "      <td>99</td>\n",
              "      <td>NaN</td>\n",
              "      <td>88</td>\n",
              "      <td>22</td>\n",
              "      <td>165</td>\n",
              "      <td>143</td>\n",
              "    </tr>\n",
              "    <tr>\n",
              "      <th>9997</th>\n",
              "      <td>11</td>\n",
              "      <td>22</td>\n",
              "      <td>55</td>\n",
              "      <td>Blabla</td>\n",
              "      <td>110</td>\n",
              "      <td>NaN</td>\n",
              "      <td>99</td>\n",
              "      <td>33</td>\n",
              "      <td>NaN</td>\n",
              "      <td>154</td>\n",
              "      <td>...</td>\n",
              "      <td>22</td>\n",
              "      <td>11</td>\n",
              "      <td>22</td>\n",
              "      <td>55</td>\n",
              "      <td>110</td>\n",
              "      <td>NaN</td>\n",
              "      <td>99</td>\n",
              "      <td>33</td>\n",
              "      <td>NaN</td>\n",
              "      <td>154</td>\n",
              "    </tr>\n",
              "    <tr>\n",
              "      <th>9998</th>\n",
              "      <td>22</td>\n",
              "      <td>33</td>\n",
              "      <td>66</td>\n",
              "      <td>Blabla</td>\n",
              "      <td>121</td>\n",
              "      <td>11</td>\n",
              "      <td>110</td>\n",
              "      <td>44</td>\n",
              "      <td>NaN</td>\n",
              "      <td>165</td>\n",
              "      <td>...</td>\n",
              "      <td>33</td>\n",
              "      <td>22</td>\n",
              "      <td>33</td>\n",
              "      <td>66</td>\n",
              "      <td>121</td>\n",
              "      <td>11</td>\n",
              "      <td>110</td>\n",
              "      <td>44</td>\n",
              "      <td>NaN</td>\n",
              "      <td>165</td>\n",
              "    </tr>\n",
              "    <tr>\n",
              "      <th>9999</th>\n",
              "      <td>33</td>\n",
              "      <td>44</td>\n",
              "      <td>77</td>\n",
              "      <td>Blabla</td>\n",
              "      <td>132</td>\n",
              "      <td>22</td>\n",
              "      <td>121</td>\n",
              "      <td>55</td>\n",
              "      <td>11</td>\n",
              "      <td>NaN</td>\n",
              "      <td>...</td>\n",
              "      <td>44</td>\n",
              "      <td>33</td>\n",
              "      <td>44</td>\n",
              "      <td>77</td>\n",
              "      <td>132</td>\n",
              "      <td>22</td>\n",
              "      <td>121</td>\n",
              "      <td>55</td>\n",
              "      <td>11</td>\n",
              "      <td>NaN</td>\n",
              "    </tr>\n",
              "  </tbody>\n",
              "</table>\n",
              "<p>10000 rows × 27 columns</p>\n",
              "</div>"
            ],
            "text/plain": [
              "        A    B    C some_text    D    E    F    G    H    I ...     Q    R  \\\n",
              "0     NaN   11   44    Blabla   99  NaN   88   22  165  143 ...    11  NaN   \n",
              "1      11   22   55    Blabla  110  NaN   99   33  NaN  154 ...    22   11   \n",
              "2      22   33   66    Blabla  121   11  110   44  NaN  165 ...    33   22   \n",
              "3      33   44   77    Blabla  132   22  121   55   11  NaN ...    44   33   \n",
              "4      44   55   88    Blabla  143   33  132   66   22  NaN ...    55   44   \n",
              "5      55   66   99    Blabla  154   44  143   77   33   11 ...    66   55   \n",
              "6      66   77  110    Blabla  165   55  154   88   44   22 ...    77   66   \n",
              "7      77   88  121    Blabla  NaN   66  165   99   55   33 ...    88   77   \n",
              "8      88   99  132    Blabla  NaN   77  NaN  110   66   44 ...    99   88   \n",
              "9      99  110  143    Blabla   11   88  NaN  121   77   55 ...   110   99   \n",
              "10    110  121  154    Blabla   22   99   11  132   88   66 ...   121  110   \n",
              "11    121  132  165    Blabla   33  110   22  143   99   77 ...   132  121   \n",
              "12    132  143  NaN    Blabla   44  121   33  154  110   88 ...   143  132   \n",
              "13    143  154  NaN    Blabla   55  132   44  165  121   99 ...   154  143   \n",
              "14    154  165   11    Blabla   66  143   55  NaN  132  110 ...   165  154   \n",
              "15    165  NaN   22    Blabla   77  154   66  NaN  143  121 ...   NaN  165   \n",
              "16    NaN  NaN   33    Blabla   88  165   77   11  154  132 ...   NaN  NaN   \n",
              "17    NaN   11   44    Blabla   99  NaN   88   22  165  143 ...    11  NaN   \n",
              "18     11   22   55    Blabla  110  NaN   99   33  NaN  154 ...    22   11   \n",
              "19     22   33   66    Blabla  121   11  110   44  NaN  165 ...    33   22   \n",
              "20     33   44   77    Blabla  132   22  121   55   11  NaN ...    44   33   \n",
              "21     44   55   88    Blabla  143   33  132   66   22  NaN ...    55   44   \n",
              "22     55   66   99    Blabla  154   44  143   77   33   11 ...    66   55   \n",
              "23     66   77  110    Blabla  165   55  154   88   44   22 ...    77   66   \n",
              "24     77   88  121    Blabla  NaN   66  165   99   55   33 ...    88   77   \n",
              "25     88   99  132    Blabla  NaN   77  NaN  110   66   44 ...    99   88   \n",
              "26     99  110  143    Blabla   11   88  NaN  121   77   55 ...   110   99   \n",
              "27    110  121  154    Blabla   22   99   11  132   88   66 ...   121  110   \n",
              "28    121  132  165    Blabla   33  110   22  143   99   77 ...   132  121   \n",
              "29    132  143  NaN    Blabla   44  121   33  154  110   88 ...   143  132   \n",
              "...   ...  ...  ...       ...  ...  ...  ...  ...  ...  ... ...   ...  ...   \n",
              "9970   88   99  132    Blabla  NaN   77  NaN  110   66   44 ...    99   88   \n",
              "9971   99  110  143    Blabla   11   88  NaN  121   77   55 ...   110   99   \n",
              "9972  110  121  154    Blabla   22   99   11  132   88   66 ...   121  110   \n",
              "9973  121  132  165    Blabla   33  110   22  143   99   77 ...   132  121   \n",
              "9974  132  143  NaN    Blabla   44  121   33  154  110   88 ...   143  132   \n",
              "9975  143  154  NaN    Blabla   55  132   44  165  121   99 ...   154  143   \n",
              "9976  154  165   11    Blabla   66  143   55  NaN  132  110 ...   165  154   \n",
              "9977  165  NaN   22    Blabla   77  154   66  NaN  143  121 ...   NaN  165   \n",
              "9978  NaN  NaN   33    Blabla   88  165   77   11  154  132 ...   NaN  NaN   \n",
              "9979  NaN   11   44    Blabla   99  NaN   88   22  165  143 ...    11  NaN   \n",
              "9980   11   22   55    Blabla  110  NaN   99   33  NaN  154 ...    22   11   \n",
              "9981   22   33   66    Blabla  121   11  110   44  NaN  165 ...    33   22   \n",
              "9982   33   44   77    Blabla  132   22  121   55   11  NaN ...    44   33   \n",
              "9983   44   55   88    Blabla  143   33  132   66   22  NaN ...    55   44   \n",
              "9984   55   66   99    Blabla  154   44  143   77   33   11 ...    66   55   \n",
              "9985   66   77  110    Blabla  165   55  154   88   44   22 ...    77   66   \n",
              "9986   77   88  121    Blabla  NaN   66  165   99   55   33 ...    88   77   \n",
              "9987   88   99  132    Blabla  NaN   77  NaN  110   66   44 ...    99   88   \n",
              "9988   99  110  143    Blabla   11   88  NaN  121   77   55 ...   110   99   \n",
              "9989  110  121  154    Blabla   22   99   11  132   88   66 ...   121  110   \n",
              "9990  121  132  165    Blabla   33  110   22  143   99   77 ...   132  121   \n",
              "9991  132  143  NaN    Blabla   44  121   33  154  110   88 ...   143  132   \n",
              "9992  143  154  NaN    Blabla   55  132   44  165  121   99 ...   154  143   \n",
              "9993  154  165   11    Blabla   66  143   55  NaN  132  110 ...   165  154   \n",
              "9994  165  NaN   22    Blabla   77  154   66  NaN  143  121 ...   NaN  165   \n",
              "9995  NaN  NaN   33    Blabla   88  165   77   11  154  132 ...   NaN  NaN   \n",
              "9996  NaN   11   44    Blabla   99  NaN   88   22  165  143 ...    11  NaN   \n",
              "9997   11   22   55    Blabla  110  NaN   99   33  NaN  154 ...    22   11   \n",
              "9998   22   33   66    Blabla  121   11  110   44  NaN  165 ...    33   22   \n",
              "9999   33   44   77    Blabla  132   22  121   55   11  NaN ...    44   33   \n",
              "\n",
              "        S    T    U    V    W    X    Y    Z  \n",
              "0      11   44   99  NaN   88   22  165  143  \n",
              "1      22   55  110  NaN   99   33  NaN  154  \n",
              "2      33   66  121   11  110   44  NaN  165  \n",
              "3      44   77  132   22  121   55   11  NaN  \n",
              "4      55   88  143   33  132   66   22  NaN  \n",
              "5      66   99  154   44  143   77   33   11  \n",
              "6      77  110  165   55  154   88   44   22  \n",
              "7      88  121  NaN   66  165   99   55   33  \n",
              "8      99  132  NaN   77  NaN  110   66   44  \n",
              "9     110  143   11   88  NaN  121   77   55  \n",
              "10    121  154   22   99   11  132   88   66  \n",
              "11    132  165   33  110   22  143   99   77  \n",
              "12    143  NaN   44  121   33  154  110   88  \n",
              "13    154  NaN   55  132   44  165  121   99  \n",
              "14    165   11   66  143   55  NaN  132  110  \n",
              "15    NaN   22   77  154   66  NaN  143  121  \n",
              "16    NaN   33   88  165   77   11  154  132  \n",
              "17     11   44   99  NaN   88   22  165  143  \n",
              "18     22   55  110  NaN   99   33  NaN  154  \n",
              "19     33   66  121   11  110   44  NaN  165  \n",
              "20     44   77  132   22  121   55   11  NaN  \n",
              "21     55   88  143   33  132   66   22  NaN  \n",
              "22     66   99  154   44  143   77   33   11  \n",
              "23     77  110  165   55  154   88   44   22  \n",
              "24     88  121  NaN   66  165   99   55   33  \n",
              "25     99  132  NaN   77  NaN  110   66   44  \n",
              "26    110  143   11   88  NaN  121   77   55  \n",
              "27    121  154   22   99   11  132   88   66  \n",
              "28    132  165   33  110   22  143   99   77  \n",
              "29    143  NaN   44  121   33  154  110   88  \n",
              "...   ...  ...  ...  ...  ...  ...  ...  ...  \n",
              "9970   99  132  NaN   77  NaN  110   66   44  \n",
              "9971  110  143   11   88  NaN  121   77   55  \n",
              "9972  121  154   22   99   11  132   88   66  \n",
              "9973  132  165   33  110   22  143   99   77  \n",
              "9974  143  NaN   44  121   33  154  110   88  \n",
              "9975  154  NaN   55  132   44  165  121   99  \n",
              "9976  165   11   66  143   55  NaN  132  110  \n",
              "9977  NaN   22   77  154   66  NaN  143  121  \n",
              "9978  NaN   33   88  165   77   11  154  132  \n",
              "9979   11   44   99  NaN   88   22  165  143  \n",
              "9980   22   55  110  NaN   99   33  NaN  154  \n",
              "9981   33   66  121   11  110   44  NaN  165  \n",
              "9982   44   77  132   22  121   55   11  NaN  \n",
              "9983   55   88  143   33  132   66   22  NaN  \n",
              "9984   66   99  154   44  143   77   33   11  \n",
              "9985   77  110  165   55  154   88   44   22  \n",
              "9986   88  121  NaN   66  165   99   55   33  \n",
              "9987   99  132  NaN   77  NaN  110   66   44  \n",
              "9988  110  143   11   88  NaN  121   77   55  \n",
              "9989  121  154   22   99   11  132   88   66  \n",
              "9990  132  165   33  110   22  143   99   77  \n",
              "9991  143  NaN   44  121   33  154  110   88  \n",
              "9992  154  NaN   55  132   44  165  121   99  \n",
              "9993  165   11   66  143   55  NaN  132  110  \n",
              "9994  NaN   22   77  154   66  NaN  143  121  \n",
              "9995  NaN   33   88  165   77   11  154  132  \n",
              "9996   11   44   99  NaN   88   22  165  143  \n",
              "9997   22   55  110  NaN   99   33  NaN  154  \n",
              "9998   33   66  121   11  110   44  NaN  165  \n",
              "9999   44   77  132   22  121   55   11  NaN  \n",
              "\n",
              "[10000 rows x 27 columns]"
            ]
          },
          "execution_count": 123,
          "metadata": {},
          "output_type": "execute_result"
        }
      ],
      "source": [
        "much_data = np.fromfunction(lambda x,y: (x+y*y)%17*11, (10000, 26))\n",
        "large_df = pd.DataFrame(much_data, columns=list(\"ABCDEFGHIJKLMNOPQRSTUVWXYZ\"))\n",
        "large_df[large_df % 16 == 0] = np.nan\n",
        "large_df.insert(3,\"some_text\", \"Blabla\")\n",
        "large_df"
      ]
    },
    {
      "cell_type": "markdown",
      "metadata": {
        "id": "4VPdDbmSYqVv"
      },
      "source": [
        "The `head` method returns the top 5 rows:"
      ]
    },
    {
      "cell_type": "code",
      "execution_count": null,
      "metadata": {
        "scrolled": false,
        "id": "3QkLloZ4YqVv",
        "outputId": "64ac649b-01de-40f0-c22d-9238a2e97d1e"
      },
      "outputs": [
        {
          "data": {
            "text/html": [
              "<div>\n",
              "<table border=\"1\" class=\"dataframe\">\n",
              "  <thead>\n",
              "    <tr style=\"text-align: right;\">\n",
              "      <th></th>\n",
              "      <th>A</th>\n",
              "      <th>B</th>\n",
              "      <th>C</th>\n",
              "      <th>some_text</th>\n",
              "      <th>D</th>\n",
              "      <th>E</th>\n",
              "      <th>F</th>\n",
              "      <th>G</th>\n",
              "      <th>H</th>\n",
              "      <th>I</th>\n",
              "      <th>...</th>\n",
              "      <th>Q</th>\n",
              "      <th>R</th>\n",
              "      <th>S</th>\n",
              "      <th>T</th>\n",
              "      <th>U</th>\n",
              "      <th>V</th>\n",
              "      <th>W</th>\n",
              "      <th>X</th>\n",
              "      <th>Y</th>\n",
              "      <th>Z</th>\n",
              "    </tr>\n",
              "  </thead>\n",
              "  <tbody>\n",
              "    <tr>\n",
              "      <th>0</th>\n",
              "      <td>NaN</td>\n",
              "      <td>11</td>\n",
              "      <td>44</td>\n",
              "      <td>Blabla</td>\n",
              "      <td>99</td>\n",
              "      <td>NaN</td>\n",
              "      <td>88</td>\n",
              "      <td>22</td>\n",
              "      <td>165</td>\n",
              "      <td>143</td>\n",
              "      <td>...</td>\n",
              "      <td>11</td>\n",
              "      <td>NaN</td>\n",
              "      <td>11</td>\n",
              "      <td>44</td>\n",
              "      <td>99</td>\n",
              "      <td>NaN</td>\n",
              "      <td>88</td>\n",
              "      <td>22</td>\n",
              "      <td>165</td>\n",
              "      <td>143</td>\n",
              "    </tr>\n",
              "    <tr>\n",
              "      <th>1</th>\n",
              "      <td>11</td>\n",
              "      <td>22</td>\n",
              "      <td>55</td>\n",
              "      <td>Blabla</td>\n",
              "      <td>110</td>\n",
              "      <td>NaN</td>\n",
              "      <td>99</td>\n",
              "      <td>33</td>\n",
              "      <td>NaN</td>\n",
              "      <td>154</td>\n",
              "      <td>...</td>\n",
              "      <td>22</td>\n",
              "      <td>11</td>\n",
              "      <td>22</td>\n",
              "      <td>55</td>\n",
              "      <td>110</td>\n",
              "      <td>NaN</td>\n",
              "      <td>99</td>\n",
              "      <td>33</td>\n",
              "      <td>NaN</td>\n",
              "      <td>154</td>\n",
              "    </tr>\n",
              "    <tr>\n",
              "      <th>2</th>\n",
              "      <td>22</td>\n",
              "      <td>33</td>\n",
              "      <td>66</td>\n",
              "      <td>Blabla</td>\n",
              "      <td>121</td>\n",
              "      <td>11</td>\n",
              "      <td>110</td>\n",
              "      <td>44</td>\n",
              "      <td>NaN</td>\n",
              "      <td>165</td>\n",
              "      <td>...</td>\n",
              "      <td>33</td>\n",
              "      <td>22</td>\n",
              "      <td>33</td>\n",
              "      <td>66</td>\n",
              "      <td>121</td>\n",
              "      <td>11</td>\n",
              "      <td>110</td>\n",
              "      <td>44</td>\n",
              "      <td>NaN</td>\n",
              "      <td>165</td>\n",
              "    </tr>\n",
              "    <tr>\n",
              "      <th>3</th>\n",
              "      <td>33</td>\n",
              "      <td>44</td>\n",
              "      <td>77</td>\n",
              "      <td>Blabla</td>\n",
              "      <td>132</td>\n",
              "      <td>22</td>\n",
              "      <td>121</td>\n",
              "      <td>55</td>\n",
              "      <td>11</td>\n",
              "      <td>NaN</td>\n",
              "      <td>...</td>\n",
              "      <td>44</td>\n",
              "      <td>33</td>\n",
              "      <td>44</td>\n",
              "      <td>77</td>\n",
              "      <td>132</td>\n",
              "      <td>22</td>\n",
              "      <td>121</td>\n",
              "      <td>55</td>\n",
              "      <td>11</td>\n",
              "      <td>NaN</td>\n",
              "    </tr>\n",
              "    <tr>\n",
              "      <th>4</th>\n",
              "      <td>44</td>\n",
              "      <td>55</td>\n",
              "      <td>88</td>\n",
              "      <td>Blabla</td>\n",
              "      <td>143</td>\n",
              "      <td>33</td>\n",
              "      <td>132</td>\n",
              "      <td>66</td>\n",
              "      <td>22</td>\n",
              "      <td>NaN</td>\n",
              "      <td>...</td>\n",
              "      <td>55</td>\n",
              "      <td>44</td>\n",
              "      <td>55</td>\n",
              "      <td>88</td>\n",
              "      <td>143</td>\n",
              "      <td>33</td>\n",
              "      <td>132</td>\n",
              "      <td>66</td>\n",
              "      <td>22</td>\n",
              "      <td>NaN</td>\n",
              "    </tr>\n",
              "  </tbody>\n",
              "</table>\n",
              "<p>5 rows × 27 columns</p>\n",
              "</div>"
            ],
            "text/plain": [
              "    A   B   C some_text    D   E    F   G    H    I ...    Q   R   S   T    U  \\\n",
              "0 NaN  11  44    Blabla   99 NaN   88  22  165  143 ...   11 NaN  11  44   99   \n",
              "1  11  22  55    Blabla  110 NaN   99  33  NaN  154 ...   22  11  22  55  110   \n",
              "2  22  33  66    Blabla  121  11  110  44  NaN  165 ...   33  22  33  66  121   \n",
              "3  33  44  77    Blabla  132  22  121  55   11  NaN ...   44  33  44  77  132   \n",
              "4  44  55  88    Blabla  143  33  132  66   22  NaN ...   55  44  55  88  143   \n",
              "\n",
              "    V    W   X    Y    Z  \n",
              "0 NaN   88  22  165  143  \n",
              "1 NaN   99  33  NaN  154  \n",
              "2  11  110  44  NaN  165  \n",
              "3  22  121  55   11  NaN  \n",
              "4  33  132  66   22  NaN  \n",
              "\n",
              "[5 rows x 27 columns]"
            ]
          },
          "execution_count": 124,
          "metadata": {},
          "output_type": "execute_result"
        }
      ],
      "source": [
        "large_df.head()"
      ]
    },
    {
      "cell_type": "markdown",
      "metadata": {
        "id": "p2SNPFdGYqVv"
      },
      "source": [
        "Of course there's also a `tail` function to view the bottom 5 rows. You can pass the number of rows you want:"
      ]
    },
    {
      "cell_type": "code",
      "execution_count": null,
      "metadata": {
        "id": "UoiZN4S9YqVv",
        "outputId": "d7ae4009-2c98-40cf-a3b8-9657d3b03fea"
      },
      "outputs": [
        {
          "data": {
            "text/html": [
              "<div>\n",
              "<table border=\"1\" class=\"dataframe\">\n",
              "  <thead>\n",
              "    <tr style=\"text-align: right;\">\n",
              "      <th></th>\n",
              "      <th>A</th>\n",
              "      <th>B</th>\n",
              "      <th>C</th>\n",
              "      <th>some_text</th>\n",
              "      <th>D</th>\n",
              "      <th>E</th>\n",
              "      <th>F</th>\n",
              "      <th>G</th>\n",
              "      <th>H</th>\n",
              "      <th>I</th>\n",
              "      <th>...</th>\n",
              "      <th>Q</th>\n",
              "      <th>R</th>\n",
              "      <th>S</th>\n",
              "      <th>T</th>\n",
              "      <th>U</th>\n",
              "      <th>V</th>\n",
              "      <th>W</th>\n",
              "      <th>X</th>\n",
              "      <th>Y</th>\n",
              "      <th>Z</th>\n",
              "    </tr>\n",
              "  </thead>\n",
              "  <tbody>\n",
              "    <tr>\n",
              "      <th>9998</th>\n",
              "      <td>22</td>\n",
              "      <td>33</td>\n",
              "      <td>66</td>\n",
              "      <td>Blabla</td>\n",
              "      <td>121</td>\n",
              "      <td>11</td>\n",
              "      <td>110</td>\n",
              "      <td>44</td>\n",
              "      <td>NaN</td>\n",
              "      <td>165</td>\n",
              "      <td>...</td>\n",
              "      <td>33</td>\n",
              "      <td>22</td>\n",
              "      <td>33</td>\n",
              "      <td>66</td>\n",
              "      <td>121</td>\n",
              "      <td>11</td>\n",
              "      <td>110</td>\n",
              "      <td>44</td>\n",
              "      <td>NaN</td>\n",
              "      <td>165</td>\n",
              "    </tr>\n",
              "    <tr>\n",
              "      <th>9999</th>\n",
              "      <td>33</td>\n",
              "      <td>44</td>\n",
              "      <td>77</td>\n",
              "      <td>Blabla</td>\n",
              "      <td>132</td>\n",
              "      <td>22</td>\n",
              "      <td>121</td>\n",
              "      <td>55</td>\n",
              "      <td>11</td>\n",
              "      <td>NaN</td>\n",
              "      <td>...</td>\n",
              "      <td>44</td>\n",
              "      <td>33</td>\n",
              "      <td>44</td>\n",
              "      <td>77</td>\n",
              "      <td>132</td>\n",
              "      <td>22</td>\n",
              "      <td>121</td>\n",
              "      <td>55</td>\n",
              "      <td>11</td>\n",
              "      <td>NaN</td>\n",
              "    </tr>\n",
              "  </tbody>\n",
              "</table>\n",
              "<p>2 rows × 27 columns</p>\n",
              "</div>"
            ],
            "text/plain": [
              "       A   B   C some_text    D   E    F   G   H    I ...    Q   R   S   T  \\\n",
              "9998  22  33  66    Blabla  121  11  110  44 NaN  165 ...   33  22  33  66   \n",
              "9999  33  44  77    Blabla  132  22  121  55  11  NaN ...   44  33  44  77   \n",
              "\n",
              "        U   V    W   X   Y    Z  \n",
              "9998  121  11  110  44 NaN  165  \n",
              "9999  132  22  121  55  11  NaN  \n",
              "\n",
              "[2 rows x 27 columns]"
            ]
          },
          "execution_count": 125,
          "metadata": {},
          "output_type": "execute_result"
        }
      ],
      "source": [
        "large_df.tail(n=2)"
      ]
    },
    {
      "cell_type": "markdown",
      "metadata": {
        "id": "tBbCliIUYqVv"
      },
      "source": [
        "The `info` method prints out a summary of each columns contents:"
      ]
    },
    {
      "cell_type": "code",
      "execution_count": null,
      "metadata": {
        "scrolled": false,
        "id": "0b1egS3-YqVv",
        "outputId": "e967b774-9744-40d5-c032-b90b6351dcfe"
      },
      "outputs": [
        {
          "name": "stdout",
          "output_type": "stream",
          "text": [
            "<class 'pandas.core.frame.DataFrame'>\n",
            "Int64Index: 10000 entries, 0 to 9999\n",
            "Data columns (total 27 columns):\n",
            "A            8823 non-null float64\n",
            "B            8824 non-null float64\n",
            "C            8824 non-null float64\n",
            "some_text    10000 non-null object\n",
            "D            8824 non-null float64\n",
            "E            8822 non-null float64\n",
            "F            8824 non-null float64\n",
            "G            8824 non-null float64\n",
            "H            8822 non-null float64\n",
            "I            8823 non-null float64\n",
            "J            8823 non-null float64\n",
            "K            8822 non-null float64\n",
            "L            8824 non-null float64\n",
            "M            8824 non-null float64\n",
            "N            8822 non-null float64\n",
            "O            8824 non-null float64\n",
            "P            8824 non-null float64\n",
            "Q            8824 non-null float64\n",
            "R            8823 non-null float64\n",
            "S            8824 non-null float64\n",
            "T            8824 non-null float64\n",
            "U            8824 non-null float64\n",
            "V            8822 non-null float64\n",
            "W            8824 non-null float64\n",
            "X            8824 non-null float64\n",
            "Y            8822 non-null float64\n",
            "Z            8823 non-null float64\n",
            "dtypes: float64(26), object(1)\n",
            "memory usage: 2.1+ MB\n"
          ]
        }
      ],
      "source": [
        "large_df.info()"
      ]
    },
    {
      "cell_type": "markdown",
      "metadata": {
        "id": "Q292VPugYqVv"
      },
      "source": [
        "Finally, the `describe` method gives a nice overview of the main aggregated values over each column:\n",
        "* `count`: number of non-null (not NaN) values\n",
        "* `mean`: mean of non-null values\n",
        "* `std`: [standard deviation](https://en.wikipedia.org/wiki/Standard_deviation) of non-null values\n",
        "* `min`: minimum of non-null values\n",
        "* `25%`, `50%`, `75%`: 25th, 50th and 75th [percentile](https://en.wikipedia.org/wiki/Percentile) of non-null values\n",
        "* `max`: maximum of non-null values"
      ]
    },
    {
      "cell_type": "code",
      "execution_count": null,
      "metadata": {
        "scrolled": false,
        "id": "3Gj80mieYqVv",
        "outputId": "de0ec733-ab56-4815-e5c7-9ce269184ff7"
      },
      "outputs": [
        {
          "data": {
            "text/html": [
              "<div>\n",
              "<table border=\"1\" class=\"dataframe\">\n",
              "  <thead>\n",
              "    <tr style=\"text-align: right;\">\n",
              "      <th></th>\n",
              "      <th>A</th>\n",
              "      <th>B</th>\n",
              "      <th>C</th>\n",
              "      <th>D</th>\n",
              "      <th>E</th>\n",
              "      <th>F</th>\n",
              "      <th>G</th>\n",
              "      <th>H</th>\n",
              "      <th>I</th>\n",
              "      <th>J</th>\n",
              "      <th>...</th>\n",
              "      <th>Q</th>\n",
              "      <th>R</th>\n",
              "      <th>S</th>\n",
              "      <th>T</th>\n",
              "      <th>U</th>\n",
              "      <th>V</th>\n",
              "      <th>W</th>\n",
              "      <th>X</th>\n",
              "      <th>Y</th>\n",
              "      <th>Z</th>\n",
              "    </tr>\n",
              "  </thead>\n",
              "  <tbody>\n",
              "    <tr>\n",
              "      <th>count</th>\n",
              "      <td>8823.000000</td>\n",
              "      <td>8824.000000</td>\n",
              "      <td>8824.000000</td>\n",
              "      <td>8824.000000</td>\n",
              "      <td>8822.000000</td>\n",
              "      <td>8824.000000</td>\n",
              "      <td>8824.000000</td>\n",
              "      <td>8822.000000</td>\n",
              "      <td>8823.000000</td>\n",
              "      <td>8823.000000</td>\n",
              "      <td>...</td>\n",
              "      <td>8824.000000</td>\n",
              "      <td>8823.000000</td>\n",
              "      <td>8824.000000</td>\n",
              "      <td>8824.000000</td>\n",
              "      <td>8824.000000</td>\n",
              "      <td>8822.000000</td>\n",
              "      <td>8824.000000</td>\n",
              "      <td>8824.000000</td>\n",
              "      <td>8822.000000</td>\n",
              "      <td>8823.000000</td>\n",
              "    </tr>\n",
              "    <tr>\n",
              "      <th>mean</th>\n",
              "      <td>87.977559</td>\n",
              "      <td>87.972575</td>\n",
              "      <td>87.987534</td>\n",
              "      <td>88.012466</td>\n",
              "      <td>87.983791</td>\n",
              "      <td>88.007480</td>\n",
              "      <td>87.977561</td>\n",
              "      <td>88.000000</td>\n",
              "      <td>88.022441</td>\n",
              "      <td>88.022441</td>\n",
              "      <td>...</td>\n",
              "      <td>87.972575</td>\n",
              "      <td>87.977559</td>\n",
              "      <td>87.972575</td>\n",
              "      <td>87.987534</td>\n",
              "      <td>88.012466</td>\n",
              "      <td>87.983791</td>\n",
              "      <td>88.007480</td>\n",
              "      <td>87.977561</td>\n",
              "      <td>88.000000</td>\n",
              "      <td>88.022441</td>\n",
              "    </tr>\n",
              "    <tr>\n",
              "      <th>std</th>\n",
              "      <td>47.535911</td>\n",
              "      <td>47.535523</td>\n",
              "      <td>47.521679</td>\n",
              "      <td>47.521679</td>\n",
              "      <td>47.535001</td>\n",
              "      <td>47.519371</td>\n",
              "      <td>47.529755</td>\n",
              "      <td>47.536879</td>\n",
              "      <td>47.535911</td>\n",
              "      <td>47.535911</td>\n",
              "      <td>...</td>\n",
              "      <td>47.535523</td>\n",
              "      <td>47.535911</td>\n",
              "      <td>47.535523</td>\n",
              "      <td>47.521679</td>\n",
              "      <td>47.521679</td>\n",
              "      <td>47.535001</td>\n",
              "      <td>47.519371</td>\n",
              "      <td>47.529755</td>\n",
              "      <td>47.536879</td>\n",
              "      <td>47.535911</td>\n",
              "    </tr>\n",
              "    <tr>\n",
              "      <th>min</th>\n",
              "      <td>11.000000</td>\n",
              "      <td>11.000000</td>\n",
              "      <td>11.000000</td>\n",
              "      <td>11.000000</td>\n",
              "      <td>11.000000</td>\n",
              "      <td>11.000000</td>\n",
              "      <td>11.000000</td>\n",
              "      <td>11.000000</td>\n",
              "      <td>11.000000</td>\n",
              "      <td>11.000000</td>\n",
              "      <td>...</td>\n",
              "      <td>11.000000</td>\n",
              "      <td>11.000000</td>\n",
              "      <td>11.000000</td>\n",
              "      <td>11.000000</td>\n",
              "      <td>11.000000</td>\n",
              "      <td>11.000000</td>\n",
              "      <td>11.000000</td>\n",
              "      <td>11.000000</td>\n",
              "      <td>11.000000</td>\n",
              "      <td>11.000000</td>\n",
              "    </tr>\n",
              "    <tr>\n",
              "      <th>25%</th>\n",
              "      <td>44.000000</td>\n",
              "      <td>44.000000</td>\n",
              "      <td>44.000000</td>\n",
              "      <td>44.000000</td>\n",
              "      <td>44.000000</td>\n",
              "      <td>44.000000</td>\n",
              "      <td>44.000000</td>\n",
              "      <td>44.000000</td>\n",
              "      <td>44.000000</td>\n",
              "      <td>44.000000</td>\n",
              "      <td>...</td>\n",
              "      <td>44.000000</td>\n",
              "      <td>44.000000</td>\n",
              "      <td>44.000000</td>\n",
              "      <td>44.000000</td>\n",
              "      <td>44.000000</td>\n",
              "      <td>44.000000</td>\n",
              "      <td>44.000000</td>\n",
              "      <td>44.000000</td>\n",
              "      <td>44.000000</td>\n",
              "      <td>44.000000</td>\n",
              "    </tr>\n",
              "    <tr>\n",
              "      <th>50%</th>\n",
              "      <td>88.000000</td>\n",
              "      <td>88.000000</td>\n",
              "      <td>88.000000</td>\n",
              "      <td>88.000000</td>\n",
              "      <td>88.000000</td>\n",
              "      <td>88.000000</td>\n",
              "      <td>88.000000</td>\n",
              "      <td>88.000000</td>\n",
              "      <td>88.000000</td>\n",
              "      <td>88.000000</td>\n",
              "      <td>...</td>\n",
              "      <td>88.000000</td>\n",
              "      <td>88.000000</td>\n",
              "      <td>88.000000</td>\n",
              "      <td>88.000000</td>\n",
              "      <td>88.000000</td>\n",
              "      <td>88.000000</td>\n",
              "      <td>88.000000</td>\n",
              "      <td>88.000000</td>\n",
              "      <td>88.000000</td>\n",
              "      <td>88.000000</td>\n",
              "    </tr>\n",
              "    <tr>\n",
              "      <th>75%</th>\n",
              "      <td>132.000000</td>\n",
              "      <td>132.000000</td>\n",
              "      <td>132.000000</td>\n",
              "      <td>132.000000</td>\n",
              "      <td>132.000000</td>\n",
              "      <td>132.000000</td>\n",
              "      <td>132.000000</td>\n",
              "      <td>132.000000</td>\n",
              "      <td>132.000000</td>\n",
              "      <td>132.000000</td>\n",
              "      <td>...</td>\n",
              "      <td>132.000000</td>\n",
              "      <td>132.000000</td>\n",
              "      <td>132.000000</td>\n",
              "      <td>132.000000</td>\n",
              "      <td>132.000000</td>\n",
              "      <td>132.000000</td>\n",
              "      <td>132.000000</td>\n",
              "      <td>132.000000</td>\n",
              "      <td>132.000000</td>\n",
              "      <td>132.000000</td>\n",
              "    </tr>\n",
              "    <tr>\n",
              "      <th>max</th>\n",
              "      <td>165.000000</td>\n",
              "      <td>165.000000</td>\n",
              "      <td>165.000000</td>\n",
              "      <td>165.000000</td>\n",
              "      <td>165.000000</td>\n",
              "      <td>165.000000</td>\n",
              "      <td>165.000000</td>\n",
              "      <td>165.000000</td>\n",
              "      <td>165.000000</td>\n",
              "      <td>165.000000</td>\n",
              "      <td>...</td>\n",
              "      <td>165.000000</td>\n",
              "      <td>165.000000</td>\n",
              "      <td>165.000000</td>\n",
              "      <td>165.000000</td>\n",
              "      <td>165.000000</td>\n",
              "      <td>165.000000</td>\n",
              "      <td>165.000000</td>\n",
              "      <td>165.000000</td>\n",
              "      <td>165.000000</td>\n",
              "      <td>165.000000</td>\n",
              "    </tr>\n",
              "  </tbody>\n",
              "</table>\n",
              "<p>8 rows × 26 columns</p>\n",
              "</div>"
            ],
            "text/plain": [
              "                 A            B            C            D            E  \\\n",
              "count  8823.000000  8824.000000  8824.000000  8824.000000  8822.000000   \n",
              "mean     87.977559    87.972575    87.987534    88.012466    87.983791   \n",
              "std      47.535911    47.535523    47.521679    47.521679    47.535001   \n",
              "min      11.000000    11.000000    11.000000    11.000000    11.000000   \n",
              "25%      44.000000    44.000000    44.000000    44.000000    44.000000   \n",
              "50%      88.000000    88.000000    88.000000    88.000000    88.000000   \n",
              "75%     132.000000   132.000000   132.000000   132.000000   132.000000   \n",
              "max     165.000000   165.000000   165.000000   165.000000   165.000000   \n",
              "\n",
              "                 F            G            H            I            J  \\\n",
              "count  8824.000000  8824.000000  8822.000000  8823.000000  8823.000000   \n",
              "mean     88.007480    87.977561    88.000000    88.022441    88.022441   \n",
              "std      47.519371    47.529755    47.536879    47.535911    47.535911   \n",
              "min      11.000000    11.000000    11.000000    11.000000    11.000000   \n",
              "25%      44.000000    44.000000    44.000000    44.000000    44.000000   \n",
              "50%      88.000000    88.000000    88.000000    88.000000    88.000000   \n",
              "75%     132.000000   132.000000   132.000000   132.000000   132.000000   \n",
              "max     165.000000   165.000000   165.000000   165.000000   165.000000   \n",
              "\n",
              "          ...                 Q            R            S            T  \\\n",
              "count     ...       8824.000000  8823.000000  8824.000000  8824.000000   \n",
              "mean      ...         87.972575    87.977559    87.972575    87.987534   \n",
              "std       ...         47.535523    47.535911    47.535523    47.521679   \n",
              "min       ...         11.000000    11.000000    11.000000    11.000000   \n",
              "25%       ...         44.000000    44.000000    44.000000    44.000000   \n",
              "50%       ...         88.000000    88.000000    88.000000    88.000000   \n",
              "75%       ...        132.000000   132.000000   132.000000   132.000000   \n",
              "max       ...        165.000000   165.000000   165.000000   165.000000   \n",
              "\n",
              "                 U            V            W            X            Y  \\\n",
              "count  8824.000000  8822.000000  8824.000000  8824.000000  8822.000000   \n",
              "mean     88.012466    87.983791    88.007480    87.977561    88.000000   \n",
              "std      47.521679    47.535001    47.519371    47.529755    47.536879   \n",
              "min      11.000000    11.000000    11.000000    11.000000    11.000000   \n",
              "25%      44.000000    44.000000    44.000000    44.000000    44.000000   \n",
              "50%      88.000000    88.000000    88.000000    88.000000    88.000000   \n",
              "75%     132.000000   132.000000   132.000000   132.000000   132.000000   \n",
              "max     165.000000   165.000000   165.000000   165.000000   165.000000   \n",
              "\n",
              "                 Z  \n",
              "count  8823.000000  \n",
              "mean     88.022441  \n",
              "std      47.535911  \n",
              "min      11.000000  \n",
              "25%      44.000000  \n",
              "50%      88.000000  \n",
              "75%     132.000000  \n",
              "max     165.000000  \n",
              "\n",
              "[8 rows x 26 columns]"
            ]
          },
          "execution_count": 127,
          "metadata": {},
          "output_type": "execute_result"
        }
      ],
      "source": [
        "large_df.describe()"
      ]
    },
    {
      "cell_type": "markdown",
      "metadata": {
        "id": "bOqIR3RNYqVv"
      },
      "source": [
        "# Saving & loading\n",
        "Pandas can save `DataFrame`s to various backends, including file formats such as CSV, Excel, JSON, HTML and HDF5, or to a SQL database. Let's create a `DataFrame` to demonstrate this:"
      ]
    },
    {
      "cell_type": "code",
      "execution_count": null,
      "metadata": {
        "id": "curwTcgkYqVv",
        "outputId": "7c1bffd2-d97e-4b7e-ebd5-45853029f678"
      },
      "outputs": [
        {
          "data": {
            "text/html": [
              "<div>\n",
              "<table border=\"1\" class=\"dataframe\">\n",
              "  <thead>\n",
              "    <tr style=\"text-align: right;\">\n",
              "      <th></th>\n",
              "      <th>hobby</th>\n",
              "      <th>weight</th>\n",
              "      <th>birthyear</th>\n",
              "      <th>children</th>\n",
              "    </tr>\n",
              "  </thead>\n",
              "  <tbody>\n",
              "    <tr>\n",
              "      <th>alice</th>\n",
              "      <td>Biking</td>\n",
              "      <td>68.5</td>\n",
              "      <td>1985</td>\n",
              "      <td>NaN</td>\n",
              "    </tr>\n",
              "    <tr>\n",
              "      <th>bob</th>\n",
              "      <td>Dancing</td>\n",
              "      <td>83.1</td>\n",
              "      <td>1984</td>\n",
              "      <td>3</td>\n",
              "    </tr>\n",
              "  </tbody>\n",
              "</table>\n",
              "</div>"
            ],
            "text/plain": [
              "         hobby  weight  birthyear  children\n",
              "alice   Biking    68.5       1985       NaN\n",
              "bob    Dancing    83.1       1984         3"
            ]
          },
          "execution_count": 128,
          "metadata": {},
          "output_type": "execute_result"
        }
      ],
      "source": [
        "my_df = pd.DataFrame(\n",
        "    [[\"Biking\", 68.5, 1985, np.nan], [\"Dancing\", 83.1, 1984, 3]], \n",
        "    columns=[\"hobby\",\"weight\",\"birthyear\",\"children\"],\n",
        "    index=[\"alice\", \"bob\"]\n",
        ")\n",
        "my_df"
      ]
    },
    {
      "cell_type": "markdown",
      "metadata": {
        "id": "6ksaDcDEYqVw"
      },
      "source": [
        "## Saving\n",
        "Let's save it to CSV, HTML and JSON:"
      ]
    },
    {
      "cell_type": "code",
      "execution_count": null,
      "metadata": {
        "collapsed": true,
        "id": "W52oWpt2YqVw"
      },
      "outputs": [],
      "source": [
        "my_df.to_csv(\"my_df.csv\")\n",
        "my_df.to_html(\"my_df.html\")\n",
        "my_df.to_json(\"my_df.json\")"
      ]
    },
    {
      "cell_type": "markdown",
      "metadata": {
        "id": "qINZ32N5YqVw"
      },
      "source": [
        "Done! Let's take a peek at what was saved:"
      ]
    },
    {
      "cell_type": "code",
      "execution_count": null,
      "metadata": {
        "id": "0bmA3-C2YqVw",
        "outputId": "d92c1963-10fa-414f-8bc8-4b764b548a0b"
      },
      "outputs": [
        {
          "name": "stdout",
          "output_type": "stream",
          "text": [
            "# my_df.csv\n",
            ",hobby,weight,birthyear,children\n",
            "alice,Biking,68.5,1985,\n",
            "bob,Dancing,83.1,1984,3.0\n",
            "\n",
            "\n",
            "# my_df.html\n",
            "<table border=\"1\" class=\"dataframe\">\n",
            "  <thead>\n",
            "    <tr style=\"text-align: right;\">\n",
            "      <th></th>\n",
            "      <th>hobby</th>\n",
            "      <th>weight</th>\n",
            "      <th>birthyear</th>\n",
            "      <th>children</th>\n",
            "    </tr>\n",
            "  </thead>\n",
            "  <tbody>\n",
            "    <tr>\n",
            "      <th>alice</th>\n",
            "      <td>Biking</td>\n",
            "      <td>68.5</td>\n",
            "      <td>1985</td>\n",
            "      <td>NaN</td>\n",
            "    </tr>\n",
            "    <tr>\n",
            "      <th>bob</th>\n",
            "      <td>Dancing</td>\n",
            "      <td>83.1</td>\n",
            "      <td>1984</td>\n",
            "      <td>3</td>\n",
            "    </tr>\n",
            "  </tbody>\n",
            "</table>\n",
            "\n",
            "# my_df.json\n",
            "{\"hobby\":{\"alice\":\"Biking\",\"bob\":\"Dancing\"},\"weight\":{\"alice\":68.5,\"bob\":83.1},\"birthyear\":{\"alice\":1985,\"bob\":1984},\"children\":{\"alice\":null,\"bob\":3.0}}\n",
            "\n"
          ]
        }
      ],
      "source": [
        "for filename in (\"my_df.csv\", \"my_df.html\", \"my_df.json\"):\n",
        "    print(\"#\", filename)\n",
        "    with open(filename, \"rt\") as f:\n",
        "        print(f.read())\n",
        "        print()\n"
      ]
    },
    {
      "cell_type": "markdown",
      "metadata": {
        "id": "N09IKfesYqVw"
      },
      "source": [
        "Note that the index is saved as the first column (with no name) in a CSV file, as `<th>` tags in HTML and as keys in JSON.\n",
        "\n",
        "Saving to other formats works very similarly, but some formats require extra libraries to be installed. For example, saving to Excel requires the openpyxl library:"
      ]
    },
    {
      "cell_type": "code",
      "execution_count": null,
      "metadata": {
        "id": "h5dUIjvBYqVw",
        "outputId": "5845ee0d-b92d-4e2a-d445-888258d9d52d"
      },
      "outputs": [
        {
          "name": "stdout",
          "output_type": "stream",
          "text": [
            "No module named openpyxl\n"
          ]
        }
      ],
      "source": [
        "try:\n",
        "    my_df.to_excel(\"my_df.xlsx\", sheet_name='People')\n",
        "except ImportError as e:\n",
        "    print(e)"
      ]
    },
    {
      "cell_type": "markdown",
      "metadata": {
        "id": "aHfmTqthYqVw"
      },
      "source": [
        "## Loading\n",
        "Now let's load our CSV file back into a `DataFrame`:"
      ]
    },
    {
      "cell_type": "code",
      "execution_count": null,
      "metadata": {
        "id": "8qXhSOt5YqVw",
        "outputId": "43f8f4c5-314b-4754-a9ba-cc1b85995c16"
      },
      "outputs": [
        {
          "data": {
            "text/html": [
              "<div>\n",
              "<table border=\"1\" class=\"dataframe\">\n",
              "  <thead>\n",
              "    <tr style=\"text-align: right;\">\n",
              "      <th></th>\n",
              "      <th>hobby</th>\n",
              "      <th>weight</th>\n",
              "      <th>birthyear</th>\n",
              "      <th>children</th>\n",
              "    </tr>\n",
              "  </thead>\n",
              "  <tbody>\n",
              "    <tr>\n",
              "      <th>alice</th>\n",
              "      <td>Biking</td>\n",
              "      <td>68.5</td>\n",
              "      <td>1985</td>\n",
              "      <td>NaN</td>\n",
              "    </tr>\n",
              "    <tr>\n",
              "      <th>bob</th>\n",
              "      <td>Dancing</td>\n",
              "      <td>83.1</td>\n",
              "      <td>1984</td>\n",
              "      <td>3</td>\n",
              "    </tr>\n",
              "  </tbody>\n",
              "</table>\n",
              "</div>"
            ],
            "text/plain": [
              "         hobby  weight  birthyear  children\n",
              "alice   Biking    68.5       1985       NaN\n",
              "bob    Dancing    83.1       1984         3"
            ]
          },
          "execution_count": 132,
          "metadata": {},
          "output_type": "execute_result"
        }
      ],
      "source": [
        "my_df_loaded = pd.read_csv(\"my_df.csv\", index_col=0)\n",
        "my_df_loaded"
      ]
    },
    {
      "cell_type": "markdown",
      "metadata": {
        "id": "yov_29MMYqVx"
      },
      "source": [
        "As you might guess, there are similar `read_json`, `read_html`, `read_excel` functions as well.  We can also read data straight from the Internet. For example, let's load all U.S. cities from [simplemaps.com](http://simplemaps.com/):"
      ]
    },
    {
      "cell_type": "code",
      "execution_count": null,
      "metadata": {
        "id": "4O-b9i0yYqVx",
        "outputId": "e4123e7b-008e-4d8e-850e-cdf113467a5b"
      },
      "outputs": [
        {
          "data": {
            "text/html": [
              "<div>\n",
              "<table border=\"1\" class=\"dataframe\">\n",
              "  <thead>\n",
              "    <tr style=\"text-align: right;\">\n",
              "      <th></th>\n",
              "      <th>state</th>\n",
              "      <th>city</th>\n",
              "      <th>lat</th>\n",
              "      <th>lng</th>\n",
              "    </tr>\n",
              "    <tr>\n",
              "      <th>zip</th>\n",
              "      <th></th>\n",
              "      <th></th>\n",
              "      <th></th>\n",
              "      <th></th>\n",
              "    </tr>\n",
              "  </thead>\n",
              "  <tbody>\n",
              "    <tr>\n",
              "      <th>35004</th>\n",
              "      <td>AL</td>\n",
              "      <td>Acmar</td>\n",
              "      <td>33.584132</td>\n",
              "      <td>-86.515570</td>\n",
              "    </tr>\n",
              "    <tr>\n",
              "      <th>35005</th>\n",
              "      <td>AL</td>\n",
              "      <td>Adamsville</td>\n",
              "      <td>33.588437</td>\n",
              "      <td>-86.959727</td>\n",
              "    </tr>\n",
              "    <tr>\n",
              "      <th>35006</th>\n",
              "      <td>AL</td>\n",
              "      <td>Adger</td>\n",
              "      <td>33.434277</td>\n",
              "      <td>-87.167455</td>\n",
              "    </tr>\n",
              "    <tr>\n",
              "      <th>35007</th>\n",
              "      <td>AL</td>\n",
              "      <td>Keystone</td>\n",
              "      <td>33.236868</td>\n",
              "      <td>-86.812861</td>\n",
              "    </tr>\n",
              "    <tr>\n",
              "      <th>35010</th>\n",
              "      <td>AL</td>\n",
              "      <td>New Site</td>\n",
              "      <td>32.941445</td>\n",
              "      <td>-85.951086</td>\n",
              "    </tr>\n",
              "  </tbody>\n",
              "</table>\n",
              "</div>"
            ],
            "text/plain": [
              "      state        city        lat        lng\n",
              "zip                                          \n",
              "35004    AL       Acmar  33.584132 -86.515570\n",
              "35005    AL  Adamsville  33.588437 -86.959727\n",
              "35006    AL       Adger  33.434277 -87.167455\n",
              "35007    AL    Keystone  33.236868 -86.812861\n",
              "35010    AL    New Site  32.941445 -85.951086"
            ]
          },
          "execution_count": 133,
          "metadata": {},
          "output_type": "execute_result"
        }
      ],
      "source": [
        "us_cities = None\n",
        "try:\n",
        "    csv_url = \"http://simplemaps.com/files/cities.csv\"\n",
        "    us_cities = pd.read_csv(csv_url, index_col=0)\n",
        "    us_cities = us_cities.head()\n",
        "except IOError as e:\n",
        "    print(e)\n",
        "us_cities"
      ]
    },
    {
      "cell_type": "markdown",
      "metadata": {
        "id": "ic9HS5R2YqVx"
      },
      "source": [
        "There are more options available, in particular regarding datetime format. Check out the [documentation](http://pandas.pydata.org/pandas-docs/stable/io.html) for more details."
      ]
    },
    {
      "cell_type": "markdown",
      "metadata": {
        "id": "9Urm_IuTYqVx"
      },
      "source": [
        "# Combining `DataFrame`s\n",
        "\n",
        "## SQL-like joins\n",
        "One powerful feature of pandas is it's ability to perform SQL-like joins on `DataFrame`s. Various types of joins are supported: inner joins, left/right outer joins and full joins. To illustrate this, let's start by creating a couple simple `DataFrame`s:"
      ]
    },
    {
      "cell_type": "code",
      "execution_count": null,
      "metadata": {
        "id": "BlMjSfKVYqVx",
        "outputId": "5f4ec4f1-4114-46d7-d9ed-aa41aa8fcc39"
      },
      "outputs": [
        {
          "data": {
            "text/html": [
              "<div>\n",
              "<table border=\"1\" class=\"dataframe\">\n",
              "  <thead>\n",
              "    <tr style=\"text-align: right;\">\n",
              "      <th></th>\n",
              "      <th>state</th>\n",
              "      <th>city</th>\n",
              "      <th>lat</th>\n",
              "      <th>lng</th>\n",
              "    </tr>\n",
              "  </thead>\n",
              "  <tbody>\n",
              "    <tr>\n",
              "      <th>0</th>\n",
              "      <td>CA</td>\n",
              "      <td>San Francisco</td>\n",
              "      <td>37.781334</td>\n",
              "      <td>-122.416728</td>\n",
              "    </tr>\n",
              "    <tr>\n",
              "      <th>1</th>\n",
              "      <td>NY</td>\n",
              "      <td>New York</td>\n",
              "      <td>40.705649</td>\n",
              "      <td>-74.008344</td>\n",
              "    </tr>\n",
              "    <tr>\n",
              "      <th>2</th>\n",
              "      <td>FL</td>\n",
              "      <td>Miami</td>\n",
              "      <td>25.791100</td>\n",
              "      <td>-80.320733</td>\n",
              "    </tr>\n",
              "    <tr>\n",
              "      <th>3</th>\n",
              "      <td>OH</td>\n",
              "      <td>Cleveland</td>\n",
              "      <td>41.473508</td>\n",
              "      <td>-81.739791</td>\n",
              "    </tr>\n",
              "    <tr>\n",
              "      <th>4</th>\n",
              "      <td>UT</td>\n",
              "      <td>Salt Lake City</td>\n",
              "      <td>40.755851</td>\n",
              "      <td>-111.896657</td>\n",
              "    </tr>\n",
              "  </tbody>\n",
              "</table>\n",
              "</div>"
            ],
            "text/plain": [
              "  state            city        lat         lng\n",
              "0    CA   San Francisco  37.781334 -122.416728\n",
              "1    NY        New York  40.705649  -74.008344\n",
              "2    FL           Miami  25.791100  -80.320733\n",
              "3    OH       Cleveland  41.473508  -81.739791\n",
              "4    UT  Salt Lake City  40.755851 -111.896657"
            ]
          },
          "execution_count": 134,
          "metadata": {},
          "output_type": "execute_result"
        }
      ],
      "source": [
        "city_loc = pd.DataFrame(\n",
        "    [\n",
        "        [\"CA\", \"San Francisco\", 37.781334, -122.416728],\n",
        "        [\"NY\", \"New York\", 40.705649, -74.008344],\n",
        "        [\"FL\", \"Miami\", 25.791100, -80.320733],\n",
        "        [\"OH\", \"Cleveland\", 41.473508, -81.739791],\n",
        "        [\"UT\", \"Salt Lake City\", 40.755851, -111.896657]\n",
        "    ], columns=[\"state\", \"city\", \"lat\", \"lng\"])\n",
        "city_loc"
      ]
    },
    {
      "cell_type": "code",
      "execution_count": null,
      "metadata": {
        "id": "0CvO5YUcYqVx",
        "outputId": "f16ad01f-0548-40cd-8e90-c31baaa17c5e"
      },
      "outputs": [
        {
          "data": {
            "text/html": [
              "<div>\n",
              "<table border=\"1\" class=\"dataframe\">\n",
              "  <thead>\n",
              "    <tr style=\"text-align: right;\">\n",
              "      <th></th>\n",
              "      <th>population</th>\n",
              "      <th>city</th>\n",
              "      <th>state</th>\n",
              "    </tr>\n",
              "  </thead>\n",
              "  <tbody>\n",
              "    <tr>\n",
              "      <th>3</th>\n",
              "      <td>808976</td>\n",
              "      <td>San Francisco</td>\n",
              "      <td>California</td>\n",
              "    </tr>\n",
              "    <tr>\n",
              "      <th>4</th>\n",
              "      <td>8363710</td>\n",
              "      <td>New York</td>\n",
              "      <td>New-York</td>\n",
              "    </tr>\n",
              "    <tr>\n",
              "      <th>5</th>\n",
              "      <td>413201</td>\n",
              "      <td>Miami</td>\n",
              "      <td>Florida</td>\n",
              "    </tr>\n",
              "    <tr>\n",
              "      <th>6</th>\n",
              "      <td>2242193</td>\n",
              "      <td>Houston</td>\n",
              "      <td>Texas</td>\n",
              "    </tr>\n",
              "  </tbody>\n",
              "</table>\n",
              "</div>"
            ],
            "text/plain": [
              "   population           city       state\n",
              "3      808976  San Francisco  California\n",
              "4     8363710       New York    New-York\n",
              "5      413201          Miami     Florida\n",
              "6     2242193        Houston       Texas"
            ]
          },
          "execution_count": 135,
          "metadata": {},
          "output_type": "execute_result"
        }
      ],
      "source": [
        "city_pop = pd.DataFrame(\n",
        "    [\n",
        "        [808976, \"San Francisco\", \"California\"],\n",
        "        [8363710, \"New York\", \"New-York\"],\n",
        "        [413201, \"Miami\", \"Florida\"],\n",
        "        [2242193, \"Houston\", \"Texas\"]\n",
        "    ], index=[3,4,5,6], columns=[\"population\", \"city\", \"state\"])\n",
        "city_pop"
      ]
    },
    {
      "cell_type": "markdown",
      "metadata": {
        "id": "mfwC78nsYqVx"
      },
      "source": [
        "Now let's join these `DataFrame`s using the `merge` function:"
      ]
    },
    {
      "cell_type": "code",
      "execution_count": null,
      "metadata": {
        "id": "aLmGoUfpYqVx",
        "outputId": "2b59c061-7fb4-4cc2-e4ca-5217723c1f41"
      },
      "outputs": [
        {
          "data": {
            "text/html": [
              "<div>\n",
              "<table border=\"1\" class=\"dataframe\">\n",
              "  <thead>\n",
              "    <tr style=\"text-align: right;\">\n",
              "      <th></th>\n",
              "      <th>state_x</th>\n",
              "      <th>city</th>\n",
              "      <th>lat</th>\n",
              "      <th>lng</th>\n",
              "      <th>population</th>\n",
              "      <th>state_y</th>\n",
              "    </tr>\n",
              "  </thead>\n",
              "  <tbody>\n",
              "    <tr>\n",
              "      <th>0</th>\n",
              "      <td>CA</td>\n",
              "      <td>San Francisco</td>\n",
              "      <td>37.781334</td>\n",
              "      <td>-122.416728</td>\n",
              "      <td>808976</td>\n",
              "      <td>California</td>\n",
              "    </tr>\n",
              "    <tr>\n",
              "      <th>1</th>\n",
              "      <td>NY</td>\n",
              "      <td>New York</td>\n",
              "      <td>40.705649</td>\n",
              "      <td>-74.008344</td>\n",
              "      <td>8363710</td>\n",
              "      <td>New-York</td>\n",
              "    </tr>\n",
              "    <tr>\n",
              "      <th>2</th>\n",
              "      <td>FL</td>\n",
              "      <td>Miami</td>\n",
              "      <td>25.791100</td>\n",
              "      <td>-80.320733</td>\n",
              "      <td>413201</td>\n",
              "      <td>Florida</td>\n",
              "    </tr>\n",
              "  </tbody>\n",
              "</table>\n",
              "</div>"
            ],
            "text/plain": [
              "  state_x           city        lat         lng  population     state_y\n",
              "0      CA  San Francisco  37.781334 -122.416728      808976  California\n",
              "1      NY       New York  40.705649  -74.008344     8363710    New-York\n",
              "2      FL          Miami  25.791100  -80.320733      413201     Florida"
            ]
          },
          "execution_count": 136,
          "metadata": {},
          "output_type": "execute_result"
        }
      ],
      "source": [
        "pd.merge(left=city_loc, right=city_pop, on=\"city\")"
      ]
    },
    {
      "cell_type": "markdown",
      "metadata": {
        "id": "7YnPZNryYqVx"
      },
      "source": [
        "Note that both `DataFrame`s have a column named `state`, so in the result they got renamed to `state_x` and `state_y`.\n",
        "\n",
        "Also, note that Cleveland, Salt Lake City and Houston were dropped because they don't exist in *both* `DataFrame`s. This is the equivalent of a SQL `INNER JOIN`. If you want a `FULL OUTER JOIN`, where no city gets dropped and `NaN` values are added, you must specify `how=\"outer\"`:"
      ]
    },
    {
      "cell_type": "code",
      "execution_count": null,
      "metadata": {
        "id": "AkrK23f7YqVy",
        "outputId": "05b242d0-cbbe-4452-815b-d8007b60c14d"
      },
      "outputs": [
        {
          "data": {
            "text/html": [
              "<div>\n",
              "<table border=\"1\" class=\"dataframe\">\n",
              "  <thead>\n",
              "    <tr style=\"text-align: right;\">\n",
              "      <th></th>\n",
              "      <th>state_x</th>\n",
              "      <th>city</th>\n",
              "      <th>lat</th>\n",
              "      <th>lng</th>\n",
              "      <th>population</th>\n",
              "      <th>state_y</th>\n",
              "    </tr>\n",
              "  </thead>\n",
              "  <tbody>\n",
              "    <tr>\n",
              "      <th>0</th>\n",
              "      <td>CA</td>\n",
              "      <td>San Francisco</td>\n",
              "      <td>37.781334</td>\n",
              "      <td>-122.416728</td>\n",
              "      <td>808976</td>\n",
              "      <td>California</td>\n",
              "    </tr>\n",
              "    <tr>\n",
              "      <th>1</th>\n",
              "      <td>NY</td>\n",
              "      <td>New York</td>\n",
              "      <td>40.705649</td>\n",
              "      <td>-74.008344</td>\n",
              "      <td>8363710</td>\n",
              "      <td>New-York</td>\n",
              "    </tr>\n",
              "    <tr>\n",
              "      <th>2</th>\n",
              "      <td>FL</td>\n",
              "      <td>Miami</td>\n",
              "      <td>25.791100</td>\n",
              "      <td>-80.320733</td>\n",
              "      <td>413201</td>\n",
              "      <td>Florida</td>\n",
              "    </tr>\n",
              "    <tr>\n",
              "      <th>3</th>\n",
              "      <td>OH</td>\n",
              "      <td>Cleveland</td>\n",
              "      <td>41.473508</td>\n",
              "      <td>-81.739791</td>\n",
              "      <td>NaN</td>\n",
              "      <td>NaN</td>\n",
              "    </tr>\n",
              "    <tr>\n",
              "      <th>4</th>\n",
              "      <td>UT</td>\n",
              "      <td>Salt Lake City</td>\n",
              "      <td>40.755851</td>\n",
              "      <td>-111.896657</td>\n",
              "      <td>NaN</td>\n",
              "      <td>NaN</td>\n",
              "    </tr>\n",
              "    <tr>\n",
              "      <th>5</th>\n",
              "      <td>NaN</td>\n",
              "      <td>Houston</td>\n",
              "      <td>NaN</td>\n",
              "      <td>NaN</td>\n",
              "      <td>2242193</td>\n",
              "      <td>Texas</td>\n",
              "    </tr>\n",
              "  </tbody>\n",
              "</table>\n",
              "</div>"
            ],
            "text/plain": [
              "  state_x            city        lat         lng  population     state_y\n",
              "0      CA   San Francisco  37.781334 -122.416728      808976  California\n",
              "1      NY        New York  40.705649  -74.008344     8363710    New-York\n",
              "2      FL           Miami  25.791100  -80.320733      413201     Florida\n",
              "3      OH       Cleveland  41.473508  -81.739791         NaN         NaN\n",
              "4      UT  Salt Lake City  40.755851 -111.896657         NaN         NaN\n",
              "5     NaN         Houston        NaN         NaN     2242193       Texas"
            ]
          },
          "execution_count": 137,
          "metadata": {},
          "output_type": "execute_result"
        }
      ],
      "source": [
        "all_cities = pd.merge(left=city_loc, right=city_pop, on=\"city\", how=\"outer\")\n",
        "all_cities"
      ]
    },
    {
      "cell_type": "markdown",
      "metadata": {
        "id": "z9KNt-GKYqVy"
      },
      "source": [
        "Of course `LEFT OUTER JOIN` is also available by setting `how=\"left\"`: only the cities present in the left `DataFrame` end up in the result. Similarly, with `how=\"right\"` only cities in the right `DataFrame` appear in the result. For example:"
      ]
    },
    {
      "cell_type": "code",
      "execution_count": null,
      "metadata": {
        "id": "R8ZglrewYqVy",
        "outputId": "cbbcbe15-d5a7-42fe-9d92-ad7a0994b5c5"
      },
      "outputs": [
        {
          "data": {
            "text/html": [
              "<div>\n",
              "<table border=\"1\" class=\"dataframe\">\n",
              "  <thead>\n",
              "    <tr style=\"text-align: right;\">\n",
              "      <th></th>\n",
              "      <th>state_x</th>\n",
              "      <th>city</th>\n",
              "      <th>lat</th>\n",
              "      <th>lng</th>\n",
              "      <th>population</th>\n",
              "      <th>state_y</th>\n",
              "    </tr>\n",
              "  </thead>\n",
              "  <tbody>\n",
              "    <tr>\n",
              "      <th>0</th>\n",
              "      <td>CA</td>\n",
              "      <td>San Francisco</td>\n",
              "      <td>37.781334</td>\n",
              "      <td>-122.416728</td>\n",
              "      <td>808976</td>\n",
              "      <td>California</td>\n",
              "    </tr>\n",
              "    <tr>\n",
              "      <th>1</th>\n",
              "      <td>NY</td>\n",
              "      <td>New York</td>\n",
              "      <td>40.705649</td>\n",
              "      <td>-74.008344</td>\n",
              "      <td>8363710</td>\n",
              "      <td>New-York</td>\n",
              "    </tr>\n",
              "    <tr>\n",
              "      <th>2</th>\n",
              "      <td>FL</td>\n",
              "      <td>Miami</td>\n",
              "      <td>25.791100</td>\n",
              "      <td>-80.320733</td>\n",
              "      <td>413201</td>\n",
              "      <td>Florida</td>\n",
              "    </tr>\n",
              "    <tr>\n",
              "      <th>3</th>\n",
              "      <td>NaN</td>\n",
              "      <td>Houston</td>\n",
              "      <td>NaN</td>\n",
              "      <td>NaN</td>\n",
              "      <td>2242193</td>\n",
              "      <td>Texas</td>\n",
              "    </tr>\n",
              "  </tbody>\n",
              "</table>\n",
              "</div>"
            ],
            "text/plain": [
              "  state_x           city        lat         lng  population     state_y\n",
              "0      CA  San Francisco  37.781334 -122.416728      808976  California\n",
              "1      NY       New York  40.705649  -74.008344     8363710    New-York\n",
              "2      FL          Miami  25.791100  -80.320733      413201     Florida\n",
              "3     NaN        Houston        NaN         NaN     2242193       Texas"
            ]
          },
          "execution_count": 138,
          "metadata": {},
          "output_type": "execute_result"
        }
      ],
      "source": [
        "pd.merge(left=city_loc, right=city_pop, on=\"city\", how=\"right\")"
      ]
    },
    {
      "cell_type": "markdown",
      "metadata": {
        "id": "oaEyoIcVYqVy"
      },
      "source": [
        "If the key to join on is actually in one (or both) `DataFrame`'s index, you must use `left_index=True` and/or `right_index=True`. If the key column names differ, you must use `left_on` and `right_on`. For example:"
      ]
    },
    {
      "cell_type": "code",
      "execution_count": null,
      "metadata": {
        "id": "LAq_e_bbYqVy",
        "outputId": "5118aeed-c482-465b-a8a4-f19359aaa83c"
      },
      "outputs": [
        {
          "data": {
            "text/html": [
              "<div>\n",
              "<table border=\"1\" class=\"dataframe\">\n",
              "  <thead>\n",
              "    <tr style=\"text-align: right;\">\n",
              "      <th></th>\n",
              "      <th>state_x</th>\n",
              "      <th>city</th>\n",
              "      <th>lat</th>\n",
              "      <th>lng</th>\n",
              "      <th>population</th>\n",
              "      <th>name</th>\n",
              "      <th>state_y</th>\n",
              "    </tr>\n",
              "  </thead>\n",
              "  <tbody>\n",
              "    <tr>\n",
              "      <th>0</th>\n",
              "      <td>CA</td>\n",
              "      <td>San Francisco</td>\n",
              "      <td>37.781334</td>\n",
              "      <td>-122.416728</td>\n",
              "      <td>808976</td>\n",
              "      <td>San Francisco</td>\n",
              "      <td>California</td>\n",
              "    </tr>\n",
              "    <tr>\n",
              "      <th>1</th>\n",
              "      <td>NY</td>\n",
              "      <td>New York</td>\n",
              "      <td>40.705649</td>\n",
              "      <td>-74.008344</td>\n",
              "      <td>8363710</td>\n",
              "      <td>New York</td>\n",
              "      <td>New-York</td>\n",
              "    </tr>\n",
              "    <tr>\n",
              "      <th>2</th>\n",
              "      <td>FL</td>\n",
              "      <td>Miami</td>\n",
              "      <td>25.791100</td>\n",
              "      <td>-80.320733</td>\n",
              "      <td>413201</td>\n",
              "      <td>Miami</td>\n",
              "      <td>Florida</td>\n",
              "    </tr>\n",
              "  </tbody>\n",
              "</table>\n",
              "</div>"
            ],
            "text/plain": [
              "  state_x           city        lat         lng  population           name  \\\n",
              "0      CA  San Francisco  37.781334 -122.416728      808976  San Francisco   \n",
              "1      NY       New York  40.705649  -74.008344     8363710       New York   \n",
              "2      FL          Miami  25.791100  -80.320733      413201          Miami   \n",
              "\n",
              "      state_y  \n",
              "0  California  \n",
              "1    New-York  \n",
              "2     Florida  "
            ]
          },
          "execution_count": 139,
          "metadata": {},
          "output_type": "execute_result"
        }
      ],
      "source": [
        "city_pop2 = city_pop.copy()\n",
        "city_pop2.columns = [\"population\", \"name\", \"state\"]\n",
        "pd.merge(left=city_loc, right=city_pop2, left_on=\"city\", right_on=\"name\")"
      ]
    },
    {
      "cell_type": "markdown",
      "metadata": {
        "id": "Hs7YTuYiYqVy"
      },
      "source": [
        "## Concatenation\n",
        "Rather than joining `DataFrame`s, we may just want to concatenate them. That's what `concat` is for:"
      ]
    },
    {
      "cell_type": "code",
      "execution_count": null,
      "metadata": {
        "id": "FMeHOwlHYqVy",
        "outputId": "6637e4ba-51bc-47b0-97f6-df0ef047abda"
      },
      "outputs": [
        {
          "data": {
            "text/html": [
              "<div>\n",
              "<table border=\"1\" class=\"dataframe\">\n",
              "  <thead>\n",
              "    <tr style=\"text-align: right;\">\n",
              "      <th></th>\n",
              "      <th>city</th>\n",
              "      <th>lat</th>\n",
              "      <th>lng</th>\n",
              "      <th>population</th>\n",
              "      <th>state</th>\n",
              "    </tr>\n",
              "  </thead>\n",
              "  <tbody>\n",
              "    <tr>\n",
              "      <th>0</th>\n",
              "      <td>San Francisco</td>\n",
              "      <td>37.781334</td>\n",
              "      <td>-122.416728</td>\n",
              "      <td>NaN</td>\n",
              "      <td>CA</td>\n",
              "    </tr>\n",
              "    <tr>\n",
              "      <th>1</th>\n",
              "      <td>New York</td>\n",
              "      <td>40.705649</td>\n",
              "      <td>-74.008344</td>\n",
              "      <td>NaN</td>\n",
              "      <td>NY</td>\n",
              "    </tr>\n",
              "    <tr>\n",
              "      <th>2</th>\n",
              "      <td>Miami</td>\n",
              "      <td>25.791100</td>\n",
              "      <td>-80.320733</td>\n",
              "      <td>NaN</td>\n",
              "      <td>FL</td>\n",
              "    </tr>\n",
              "    <tr>\n",
              "      <th>3</th>\n",
              "      <td>Cleveland</td>\n",
              "      <td>41.473508</td>\n",
              "      <td>-81.739791</td>\n",
              "      <td>NaN</td>\n",
              "      <td>OH</td>\n",
              "    </tr>\n",
              "    <tr>\n",
              "      <th>4</th>\n",
              "      <td>Salt Lake City</td>\n",
              "      <td>40.755851</td>\n",
              "      <td>-111.896657</td>\n",
              "      <td>NaN</td>\n",
              "      <td>UT</td>\n",
              "    </tr>\n",
              "    <tr>\n",
              "      <th>3</th>\n",
              "      <td>San Francisco</td>\n",
              "      <td>NaN</td>\n",
              "      <td>NaN</td>\n",
              "      <td>808976</td>\n",
              "      <td>California</td>\n",
              "    </tr>\n",
              "    <tr>\n",
              "      <th>4</th>\n",
              "      <td>New York</td>\n",
              "      <td>NaN</td>\n",
              "      <td>NaN</td>\n",
              "      <td>8363710</td>\n",
              "      <td>New-York</td>\n",
              "    </tr>\n",
              "    <tr>\n",
              "      <th>5</th>\n",
              "      <td>Miami</td>\n",
              "      <td>NaN</td>\n",
              "      <td>NaN</td>\n",
              "      <td>413201</td>\n",
              "      <td>Florida</td>\n",
              "    </tr>\n",
              "    <tr>\n",
              "      <th>6</th>\n",
              "      <td>Houston</td>\n",
              "      <td>NaN</td>\n",
              "      <td>NaN</td>\n",
              "      <td>2242193</td>\n",
              "      <td>Texas</td>\n",
              "    </tr>\n",
              "  </tbody>\n",
              "</table>\n",
              "</div>"
            ],
            "text/plain": [
              "             city        lat         lng  population       state\n",
              "0   San Francisco  37.781334 -122.416728         NaN          CA\n",
              "1        New York  40.705649  -74.008344         NaN          NY\n",
              "2           Miami  25.791100  -80.320733         NaN          FL\n",
              "3       Cleveland  41.473508  -81.739791         NaN          OH\n",
              "4  Salt Lake City  40.755851 -111.896657         NaN          UT\n",
              "3   San Francisco        NaN         NaN      808976  California\n",
              "4        New York        NaN         NaN     8363710    New-York\n",
              "5           Miami        NaN         NaN      413201     Florida\n",
              "6         Houston        NaN         NaN     2242193       Texas"
            ]
          },
          "execution_count": 140,
          "metadata": {},
          "output_type": "execute_result"
        }
      ],
      "source": [
        "result_concat = pd.concat([city_loc, city_pop])\n",
        "result_concat"
      ]
    },
    {
      "cell_type": "markdown",
      "metadata": {
        "id": "f7h4gkdBYqVy"
      },
      "source": [
        "Note that this operation aligned the data horizontally (by columns) but not vertically (by rows). In this example, we end up with multiple rows having the same index (eg. 3). Pandas handles this rather gracefully:"
      ]
    },
    {
      "cell_type": "code",
      "execution_count": null,
      "metadata": {
        "id": "58MF5bJ-YqVy",
        "outputId": "697a678c-b1fd-4ee6-c996-5c4e699a4399"
      },
      "outputs": [
        {
          "data": {
            "text/html": [
              "<div>\n",
              "<table border=\"1\" class=\"dataframe\">\n",
              "  <thead>\n",
              "    <tr style=\"text-align: right;\">\n",
              "      <th></th>\n",
              "      <th>city</th>\n",
              "      <th>lat</th>\n",
              "      <th>lng</th>\n",
              "      <th>population</th>\n",
              "      <th>state</th>\n",
              "    </tr>\n",
              "  </thead>\n",
              "  <tbody>\n",
              "    <tr>\n",
              "      <th>3</th>\n",
              "      <td>Cleveland</td>\n",
              "      <td>41.473508</td>\n",
              "      <td>-81.739791</td>\n",
              "      <td>NaN</td>\n",
              "      <td>OH</td>\n",
              "    </tr>\n",
              "    <tr>\n",
              "      <th>3</th>\n",
              "      <td>San Francisco</td>\n",
              "      <td>NaN</td>\n",
              "      <td>NaN</td>\n",
              "      <td>808976</td>\n",
              "      <td>California</td>\n",
              "    </tr>\n",
              "  </tbody>\n",
              "</table>\n",
              "</div>"
            ],
            "text/plain": [
              "            city        lat        lng  population       state\n",
              "3      Cleveland  41.473508 -81.739791         NaN          OH\n",
              "3  San Francisco        NaN        NaN      808976  California"
            ]
          },
          "execution_count": 141,
          "metadata": {},
          "output_type": "execute_result"
        }
      ],
      "source": [
        "result_concat.loc[3]"
      ]
    },
    {
      "cell_type": "markdown",
      "metadata": {
        "id": "imt1J3yOYqVz"
      },
      "source": [
        "Or you can tell pandas to just ignore the index:"
      ]
    },
    {
      "cell_type": "code",
      "execution_count": null,
      "metadata": {
        "id": "KMOvEYYhYqVz",
        "outputId": "395c30ef-d8d5-4676-a74c-ad0181fce282"
      },
      "outputs": [
        {
          "data": {
            "text/html": [
              "<div>\n",
              "<table border=\"1\" class=\"dataframe\">\n",
              "  <thead>\n",
              "    <tr style=\"text-align: right;\">\n",
              "      <th></th>\n",
              "      <th>city</th>\n",
              "      <th>lat</th>\n",
              "      <th>lng</th>\n",
              "      <th>population</th>\n",
              "      <th>state</th>\n",
              "    </tr>\n",
              "  </thead>\n",
              "  <tbody>\n",
              "    <tr>\n",
              "      <th>0</th>\n",
              "      <td>San Francisco</td>\n",
              "      <td>37.781334</td>\n",
              "      <td>-122.416728</td>\n",
              "      <td>NaN</td>\n",
              "      <td>CA</td>\n",
              "    </tr>\n",
              "    <tr>\n",
              "      <th>1</th>\n",
              "      <td>New York</td>\n",
              "      <td>40.705649</td>\n",
              "      <td>-74.008344</td>\n",
              "      <td>NaN</td>\n",
              "      <td>NY</td>\n",
              "    </tr>\n",
              "    <tr>\n",
              "      <th>2</th>\n",
              "      <td>Miami</td>\n",
              "      <td>25.791100</td>\n",
              "      <td>-80.320733</td>\n",
              "      <td>NaN</td>\n",
              "      <td>FL</td>\n",
              "    </tr>\n",
              "    <tr>\n",
              "      <th>3</th>\n",
              "      <td>Cleveland</td>\n",
              "      <td>41.473508</td>\n",
              "      <td>-81.739791</td>\n",
              "      <td>NaN</td>\n",
              "      <td>OH</td>\n",
              "    </tr>\n",
              "    <tr>\n",
              "      <th>4</th>\n",
              "      <td>Salt Lake City</td>\n",
              "      <td>40.755851</td>\n",
              "      <td>-111.896657</td>\n",
              "      <td>NaN</td>\n",
              "      <td>UT</td>\n",
              "    </tr>\n",
              "    <tr>\n",
              "      <th>5</th>\n",
              "      <td>San Francisco</td>\n",
              "      <td>NaN</td>\n",
              "      <td>NaN</td>\n",
              "      <td>808976</td>\n",
              "      <td>California</td>\n",
              "    </tr>\n",
              "    <tr>\n",
              "      <th>6</th>\n",
              "      <td>New York</td>\n",
              "      <td>NaN</td>\n",
              "      <td>NaN</td>\n",
              "      <td>8363710</td>\n",
              "      <td>New-York</td>\n",
              "    </tr>\n",
              "    <tr>\n",
              "      <th>7</th>\n",
              "      <td>Miami</td>\n",
              "      <td>NaN</td>\n",
              "      <td>NaN</td>\n",
              "      <td>413201</td>\n",
              "      <td>Florida</td>\n",
              "    </tr>\n",
              "    <tr>\n",
              "      <th>8</th>\n",
              "      <td>Houston</td>\n",
              "      <td>NaN</td>\n",
              "      <td>NaN</td>\n",
              "      <td>2242193</td>\n",
              "      <td>Texas</td>\n",
              "    </tr>\n",
              "  </tbody>\n",
              "</table>\n",
              "</div>"
            ],
            "text/plain": [
              "             city        lat         lng  population       state\n",
              "0   San Francisco  37.781334 -122.416728         NaN          CA\n",
              "1        New York  40.705649  -74.008344         NaN          NY\n",
              "2           Miami  25.791100  -80.320733         NaN          FL\n",
              "3       Cleveland  41.473508  -81.739791         NaN          OH\n",
              "4  Salt Lake City  40.755851 -111.896657         NaN          UT\n",
              "5   San Francisco        NaN         NaN      808976  California\n",
              "6        New York        NaN         NaN     8363710    New-York\n",
              "7           Miami        NaN         NaN      413201     Florida\n",
              "8         Houston        NaN         NaN     2242193       Texas"
            ]
          },
          "execution_count": 142,
          "metadata": {},
          "output_type": "execute_result"
        }
      ],
      "source": [
        "pd.concat([city_loc, city_pop], ignore_index=True)"
      ]
    },
    {
      "cell_type": "markdown",
      "metadata": {
        "id": "UbSI6e3MYqVz"
      },
      "source": [
        "Notice that when a column does not exist in a `DataFrame`, it acts as if it was filled with `NaN` values. If we set `join=\"inner\"`, then only columns that exist in *both* `DataFrame`s are returned:"
      ]
    },
    {
      "cell_type": "code",
      "execution_count": null,
      "metadata": {
        "id": "DzMrjo4LYqVz",
        "outputId": "689bc11f-b726-4860-a366-30ef49101f62"
      },
      "outputs": [
        {
          "data": {
            "text/html": [
              "<div>\n",
              "<table border=\"1\" class=\"dataframe\">\n",
              "  <thead>\n",
              "    <tr style=\"text-align: right;\">\n",
              "      <th></th>\n",
              "      <th>city</th>\n",
              "      <th>state</th>\n",
              "    </tr>\n",
              "  </thead>\n",
              "  <tbody>\n",
              "    <tr>\n",
              "      <th>0</th>\n",
              "      <td>San Francisco</td>\n",
              "      <td>CA</td>\n",
              "    </tr>\n",
              "    <tr>\n",
              "      <th>1</th>\n",
              "      <td>New York</td>\n",
              "      <td>NY</td>\n",
              "    </tr>\n",
              "    <tr>\n",
              "      <th>2</th>\n",
              "      <td>Miami</td>\n",
              "      <td>FL</td>\n",
              "    </tr>\n",
              "    <tr>\n",
              "      <th>3</th>\n",
              "      <td>Cleveland</td>\n",
              "      <td>OH</td>\n",
              "    </tr>\n",
              "    <tr>\n",
              "      <th>4</th>\n",
              "      <td>Salt Lake City</td>\n",
              "      <td>UT</td>\n",
              "    </tr>\n",
              "    <tr>\n",
              "      <th>3</th>\n",
              "      <td>San Francisco</td>\n",
              "      <td>California</td>\n",
              "    </tr>\n",
              "    <tr>\n",
              "      <th>4</th>\n",
              "      <td>New York</td>\n",
              "      <td>New-York</td>\n",
              "    </tr>\n",
              "    <tr>\n",
              "      <th>5</th>\n",
              "      <td>Miami</td>\n",
              "      <td>Florida</td>\n",
              "    </tr>\n",
              "    <tr>\n",
              "      <th>6</th>\n",
              "      <td>Houston</td>\n",
              "      <td>Texas</td>\n",
              "    </tr>\n",
              "  </tbody>\n",
              "</table>\n",
              "</div>"
            ],
            "text/plain": [
              "             city       state\n",
              "0   San Francisco          CA\n",
              "1        New York          NY\n",
              "2           Miami          FL\n",
              "3       Cleveland          OH\n",
              "4  Salt Lake City          UT\n",
              "3   San Francisco  California\n",
              "4        New York    New-York\n",
              "5           Miami     Florida\n",
              "6         Houston       Texas"
            ]
          },
          "execution_count": 143,
          "metadata": {},
          "output_type": "execute_result"
        }
      ],
      "source": [
        "pd.concat([city_loc, city_pop], join=\"inner\")"
      ]
    },
    {
      "cell_type": "markdown",
      "metadata": {
        "id": "9PJc6zNnYqVz"
      },
      "source": [
        "You can concatenate `DataFrame`s horizontally instead of vertically by setting `axis=1`:"
      ]
    },
    {
      "cell_type": "code",
      "execution_count": null,
      "metadata": {
        "scrolled": true,
        "id": "MGDVKexQYqVz",
        "outputId": "fc4161c0-18b8-45dd-ddda-fa5ffafff596"
      },
      "outputs": [
        {
          "data": {
            "text/html": [
              "<div>\n",
              "<table border=\"1\" class=\"dataframe\">\n",
              "  <thead>\n",
              "    <tr style=\"text-align: right;\">\n",
              "      <th></th>\n",
              "      <th>state</th>\n",
              "      <th>city</th>\n",
              "      <th>lat</th>\n",
              "      <th>lng</th>\n",
              "      <th>population</th>\n",
              "      <th>city</th>\n",
              "      <th>state</th>\n",
              "    </tr>\n",
              "  </thead>\n",
              "  <tbody>\n",
              "    <tr>\n",
              "      <th>0</th>\n",
              "      <td>CA</td>\n",
              "      <td>San Francisco</td>\n",
              "      <td>37.781334</td>\n",
              "      <td>-122.416728</td>\n",
              "      <td>NaN</td>\n",
              "      <td>NaN</td>\n",
              "      <td>NaN</td>\n",
              "    </tr>\n",
              "    <tr>\n",
              "      <th>1</th>\n",
              "      <td>NY</td>\n",
              "      <td>New York</td>\n",
              "      <td>40.705649</td>\n",
              "      <td>-74.008344</td>\n",
              "      <td>NaN</td>\n",
              "      <td>NaN</td>\n",
              "      <td>NaN</td>\n",
              "    </tr>\n",
              "    <tr>\n",
              "      <th>2</th>\n",
              "      <td>FL</td>\n",
              "      <td>Miami</td>\n",
              "      <td>25.791100</td>\n",
              "      <td>-80.320733</td>\n",
              "      <td>NaN</td>\n",
              "      <td>NaN</td>\n",
              "      <td>NaN</td>\n",
              "    </tr>\n",
              "    <tr>\n",
              "      <th>3</th>\n",
              "      <td>OH</td>\n",
              "      <td>Cleveland</td>\n",
              "      <td>41.473508</td>\n",
              "      <td>-81.739791</td>\n",
              "      <td>808976</td>\n",
              "      <td>San Francisco</td>\n",
              "      <td>California</td>\n",
              "    </tr>\n",
              "    <tr>\n",
              "      <th>4</th>\n",
              "      <td>UT</td>\n",
              "      <td>Salt Lake City</td>\n",
              "      <td>40.755851</td>\n",
              "      <td>-111.896657</td>\n",
              "      <td>8363710</td>\n",
              "      <td>New York</td>\n",
              "      <td>New-York</td>\n",
              "    </tr>\n",
              "    <tr>\n",
              "      <th>5</th>\n",
              "      <td>NaN</td>\n",
              "      <td>NaN</td>\n",
              "      <td>NaN</td>\n",
              "      <td>NaN</td>\n",
              "      <td>413201</td>\n",
              "      <td>Miami</td>\n",
              "      <td>Florida</td>\n",
              "    </tr>\n",
              "    <tr>\n",
              "      <th>6</th>\n",
              "      <td>NaN</td>\n",
              "      <td>NaN</td>\n",
              "      <td>NaN</td>\n",
              "      <td>NaN</td>\n",
              "      <td>2242193</td>\n",
              "      <td>Houston</td>\n",
              "      <td>Texas</td>\n",
              "    </tr>\n",
              "  </tbody>\n",
              "</table>\n",
              "</div>"
            ],
            "text/plain": [
              "  state            city        lat         lng  population           city  \\\n",
              "0    CA   San Francisco  37.781334 -122.416728         NaN            NaN   \n",
              "1    NY        New York  40.705649  -74.008344         NaN            NaN   \n",
              "2    FL           Miami  25.791100  -80.320733         NaN            NaN   \n",
              "3    OH       Cleveland  41.473508  -81.739791      808976  San Francisco   \n",
              "4    UT  Salt Lake City  40.755851 -111.896657     8363710       New York   \n",
              "5   NaN             NaN        NaN         NaN      413201          Miami   \n",
              "6   NaN             NaN        NaN         NaN     2242193        Houston   \n",
              "\n",
              "        state  \n",
              "0         NaN  \n",
              "1         NaN  \n",
              "2         NaN  \n",
              "3  California  \n",
              "4    New-York  \n",
              "5     Florida  \n",
              "6       Texas  "
            ]
          },
          "execution_count": 144,
          "metadata": {},
          "output_type": "execute_result"
        }
      ],
      "source": [
        "pd.concat([city_loc, city_pop], axis=1)"
      ]
    },
    {
      "cell_type": "markdown",
      "metadata": {
        "id": "xPVqLBNrYqVz"
      },
      "source": [
        "In this case it really does not make much sense because the indices do not align well (eg. Cleveland and San Francisco end up on the same row, because they shared the index label `3`). So let's reindex the `DataFrame`s by city name before concatenating:"
      ]
    },
    {
      "cell_type": "code",
      "execution_count": null,
      "metadata": {
        "scrolled": true,
        "id": "oRaCvNQiYqVz",
        "outputId": "c71095dc-c480-4d53-f488-29d1a2c1ffb0"
      },
      "outputs": [
        {
          "data": {
            "text/html": [
              "<div>\n",
              "<table border=\"1\" class=\"dataframe\">\n",
              "  <thead>\n",
              "    <tr style=\"text-align: right;\">\n",
              "      <th></th>\n",
              "      <th>state</th>\n",
              "      <th>lat</th>\n",
              "      <th>lng</th>\n",
              "      <th>population</th>\n",
              "      <th>state</th>\n",
              "    </tr>\n",
              "  </thead>\n",
              "  <tbody>\n",
              "    <tr>\n",
              "      <th>Cleveland</th>\n",
              "      <td>OH</td>\n",
              "      <td>41.473508</td>\n",
              "      <td>-81.739791</td>\n",
              "      <td>NaN</td>\n",
              "      <td>NaN</td>\n",
              "    </tr>\n",
              "    <tr>\n",
              "      <th>Houston</th>\n",
              "      <td>NaN</td>\n",
              "      <td>NaN</td>\n",
              "      <td>NaN</td>\n",
              "      <td>2242193</td>\n",
              "      <td>Texas</td>\n",
              "    </tr>\n",
              "    <tr>\n",
              "      <th>Miami</th>\n",
              "      <td>FL</td>\n",
              "      <td>25.791100</td>\n",
              "      <td>-80.320733</td>\n",
              "      <td>413201</td>\n",
              "      <td>Florida</td>\n",
              "    </tr>\n",
              "    <tr>\n",
              "      <th>New York</th>\n",
              "      <td>NY</td>\n",
              "      <td>40.705649</td>\n",
              "      <td>-74.008344</td>\n",
              "      <td>8363710</td>\n",
              "      <td>New-York</td>\n",
              "    </tr>\n",
              "    <tr>\n",
              "      <th>Salt Lake City</th>\n",
              "      <td>UT</td>\n",
              "      <td>40.755851</td>\n",
              "      <td>-111.896657</td>\n",
              "      <td>NaN</td>\n",
              "      <td>NaN</td>\n",
              "    </tr>\n",
              "    <tr>\n",
              "      <th>San Francisco</th>\n",
              "      <td>CA</td>\n",
              "      <td>37.781334</td>\n",
              "      <td>-122.416728</td>\n",
              "      <td>808976</td>\n",
              "      <td>California</td>\n",
              "    </tr>\n",
              "  </tbody>\n",
              "</table>\n",
              "</div>"
            ],
            "text/plain": [
              "               state        lat         lng  population       state\n",
              "Cleveland         OH  41.473508  -81.739791         NaN         NaN\n",
              "Houston          NaN        NaN         NaN     2242193       Texas\n",
              "Miami             FL  25.791100  -80.320733      413201     Florida\n",
              "New York          NY  40.705649  -74.008344     8363710    New-York\n",
              "Salt Lake City    UT  40.755851 -111.896657         NaN         NaN\n",
              "San Francisco     CA  37.781334 -122.416728      808976  California"
            ]
          },
          "execution_count": 145,
          "metadata": {},
          "output_type": "execute_result"
        }
      ],
      "source": [
        "pd.concat([city_loc.set_index(\"city\"), city_pop.set_index(\"city\")], axis=1)"
      ]
    },
    {
      "cell_type": "markdown",
      "metadata": {
        "id": "0myimI30YqVz"
      },
      "source": [
        "This looks a lot like a `FULL OUTER JOIN`, except that the `state` columns were not renamed to `state_x` and `state_y`, and the `city` column is now the index."
      ]
    },
    {
      "cell_type": "markdown",
      "metadata": {
        "id": "z-q7v0dwYqV0"
      },
      "source": [
        "The `append` method is a useful shorthand for concatenating `DataFrame`s vertically:"
      ]
    },
    {
      "cell_type": "code",
      "execution_count": null,
      "metadata": {
        "id": "vgSwPMC-YqV0",
        "outputId": "f1d01d17-557e-43ef-adb7-2236d8a772f4"
      },
      "outputs": [
        {
          "data": {
            "text/html": [
              "<div>\n",
              "<table border=\"1\" class=\"dataframe\">\n",
              "  <thead>\n",
              "    <tr style=\"text-align: right;\">\n",
              "      <th></th>\n",
              "      <th>city</th>\n",
              "      <th>lat</th>\n",
              "      <th>lng</th>\n",
              "      <th>population</th>\n",
              "      <th>state</th>\n",
              "    </tr>\n",
              "  </thead>\n",
              "  <tbody>\n",
              "    <tr>\n",
              "      <th>0</th>\n",
              "      <td>San Francisco</td>\n",
              "      <td>37.781334</td>\n",
              "      <td>-122.416728</td>\n",
              "      <td>NaN</td>\n",
              "      <td>CA</td>\n",
              "    </tr>\n",
              "    <tr>\n",
              "      <th>1</th>\n",
              "      <td>New York</td>\n",
              "      <td>40.705649</td>\n",
              "      <td>-74.008344</td>\n",
              "      <td>NaN</td>\n",
              "      <td>NY</td>\n",
              "    </tr>\n",
              "    <tr>\n",
              "      <th>2</th>\n",
              "      <td>Miami</td>\n",
              "      <td>25.791100</td>\n",
              "      <td>-80.320733</td>\n",
              "      <td>NaN</td>\n",
              "      <td>FL</td>\n",
              "    </tr>\n",
              "    <tr>\n",
              "      <th>3</th>\n",
              "      <td>Cleveland</td>\n",
              "      <td>41.473508</td>\n",
              "      <td>-81.739791</td>\n",
              "      <td>NaN</td>\n",
              "      <td>OH</td>\n",
              "    </tr>\n",
              "    <tr>\n",
              "      <th>4</th>\n",
              "      <td>Salt Lake City</td>\n",
              "      <td>40.755851</td>\n",
              "      <td>-111.896657</td>\n",
              "      <td>NaN</td>\n",
              "      <td>UT</td>\n",
              "    </tr>\n",
              "    <tr>\n",
              "      <th>3</th>\n",
              "      <td>San Francisco</td>\n",
              "      <td>NaN</td>\n",
              "      <td>NaN</td>\n",
              "      <td>808976</td>\n",
              "      <td>California</td>\n",
              "    </tr>\n",
              "    <tr>\n",
              "      <th>4</th>\n",
              "      <td>New York</td>\n",
              "      <td>NaN</td>\n",
              "      <td>NaN</td>\n",
              "      <td>8363710</td>\n",
              "      <td>New-York</td>\n",
              "    </tr>\n",
              "    <tr>\n",
              "      <th>5</th>\n",
              "      <td>Miami</td>\n",
              "      <td>NaN</td>\n",
              "      <td>NaN</td>\n",
              "      <td>413201</td>\n",
              "      <td>Florida</td>\n",
              "    </tr>\n",
              "    <tr>\n",
              "      <th>6</th>\n",
              "      <td>Houston</td>\n",
              "      <td>NaN</td>\n",
              "      <td>NaN</td>\n",
              "      <td>2242193</td>\n",
              "      <td>Texas</td>\n",
              "    </tr>\n",
              "  </tbody>\n",
              "</table>\n",
              "</div>"
            ],
            "text/plain": [
              "             city        lat         lng  population       state\n",
              "0   San Francisco  37.781334 -122.416728         NaN          CA\n",
              "1        New York  40.705649  -74.008344         NaN          NY\n",
              "2           Miami  25.791100  -80.320733         NaN          FL\n",
              "3       Cleveland  41.473508  -81.739791         NaN          OH\n",
              "4  Salt Lake City  40.755851 -111.896657         NaN          UT\n",
              "3   San Francisco        NaN         NaN      808976  California\n",
              "4        New York        NaN         NaN     8363710    New-York\n",
              "5           Miami        NaN         NaN      413201     Florida\n",
              "6         Houston        NaN         NaN     2242193       Texas"
            ]
          },
          "execution_count": 146,
          "metadata": {},
          "output_type": "execute_result"
        }
      ],
      "source": [
        "city_loc.append(city_pop)"
      ]
    },
    {
      "cell_type": "markdown",
      "metadata": {
        "id": "thdPQ7UEYqV0"
      },
      "source": [
        "As always in pandas, the `append` method does *not* actually modify `city_loc`: it works on a copy and returns the modified copy."
      ]
    },
    {
      "cell_type": "markdown",
      "metadata": {
        "id": "tfI4t2ErYqV0"
      },
      "source": [
        "# Categories\n",
        "It is quite frequent to have values that represent categories, for example `1` for female and `2` for male, or `\"A\"` for Good, `\"B\"` for Average, `\"C\"` for Bad. These categorical values can be hard to read and cumbersome to handle, but fortunately pandas makes it easy. To illustrate this, let's take the `city_pop` `DataFrame` we created earlier, and add a column that represents a category:"
      ]
    },
    {
      "cell_type": "code",
      "execution_count": null,
      "metadata": {
        "id": "7Ga15mDRYqV0",
        "outputId": "d7cbef84-9358-4feb-ee65-a6449739f2b2"
      },
      "outputs": [
        {
          "data": {
            "text/html": [
              "<div>\n",
              "<table border=\"1\" class=\"dataframe\">\n",
              "  <thead>\n",
              "    <tr style=\"text-align: right;\">\n",
              "      <th></th>\n",
              "      <th>population</th>\n",
              "      <th>city</th>\n",
              "      <th>state</th>\n",
              "      <th>eco_code</th>\n",
              "    </tr>\n",
              "  </thead>\n",
              "  <tbody>\n",
              "    <tr>\n",
              "      <th>3</th>\n",
              "      <td>808976</td>\n",
              "      <td>San Francisco</td>\n",
              "      <td>California</td>\n",
              "      <td>17</td>\n",
              "    </tr>\n",
              "    <tr>\n",
              "      <th>4</th>\n",
              "      <td>8363710</td>\n",
              "      <td>New York</td>\n",
              "      <td>New-York</td>\n",
              "      <td>17</td>\n",
              "    </tr>\n",
              "    <tr>\n",
              "      <th>5</th>\n",
              "      <td>413201</td>\n",
              "      <td>Miami</td>\n",
              "      <td>Florida</td>\n",
              "      <td>34</td>\n",
              "    </tr>\n",
              "    <tr>\n",
              "      <th>6</th>\n",
              "      <td>2242193</td>\n",
              "      <td>Houston</td>\n",
              "      <td>Texas</td>\n",
              "      <td>20</td>\n",
              "    </tr>\n",
              "  </tbody>\n",
              "</table>\n",
              "</div>"
            ],
            "text/plain": [
              "   population           city       state  eco_code\n",
              "3      808976  San Francisco  California        17\n",
              "4     8363710       New York    New-York        17\n",
              "5      413201          Miami     Florida        34\n",
              "6     2242193        Houston       Texas        20"
            ]
          },
          "execution_count": 147,
          "metadata": {},
          "output_type": "execute_result"
        }
      ],
      "source": [
        "city_eco = city_pop.copy()\n",
        "city_eco[\"eco_code\"] = [17, 17, 34, 20]\n",
        "city_eco"
      ]
    },
    {
      "cell_type": "markdown",
      "metadata": {
        "id": "FNo-FG-EYqV0"
      },
      "source": [
        "Right now the `eco_code` column is full of apparently meaningless codes. Let's fix that. First, we will create a new categorical column based on the `eco_code`s:"
      ]
    },
    {
      "cell_type": "code",
      "execution_count": null,
      "metadata": {
        "id": "CU1jaK48YqV0",
        "outputId": "c8786fe3-30a6-4378-b7e4-760cf93a711e"
      },
      "outputs": [
        {
          "data": {
            "text/plain": [
              "Int64Index([17, 20, 34], dtype='int64')"
            ]
          },
          "execution_count": 148,
          "metadata": {},
          "output_type": "execute_result"
        }
      ],
      "source": [
        "city_eco[\"economy\"] = city_eco[\"eco_code\"].astype('category')\n",
        "city_eco[\"economy\"].cat.categories"
      ]
    },
    {
      "cell_type": "markdown",
      "metadata": {
        "id": "iM46YMIhYqV0"
      },
      "source": [
        "Now we can give each category a meaningful name:"
      ]
    },
    {
      "cell_type": "code",
      "execution_count": null,
      "metadata": {
        "id": "O15rkD6TYqV0",
        "outputId": "a4f9377e-5243-4bcf-b71f-03f9713e2ee7"
      },
      "outputs": [
        {
          "data": {
            "text/html": [
              "<div>\n",
              "<table border=\"1\" class=\"dataframe\">\n",
              "  <thead>\n",
              "    <tr style=\"text-align: right;\">\n",
              "      <th></th>\n",
              "      <th>population</th>\n",
              "      <th>city</th>\n",
              "      <th>state</th>\n",
              "      <th>eco_code</th>\n",
              "      <th>economy</th>\n",
              "    </tr>\n",
              "  </thead>\n",
              "  <tbody>\n",
              "    <tr>\n",
              "      <th>3</th>\n",
              "      <td>808976</td>\n",
              "      <td>San Francisco</td>\n",
              "      <td>California</td>\n",
              "      <td>17</td>\n",
              "      <td>Finance</td>\n",
              "    </tr>\n",
              "    <tr>\n",
              "      <th>4</th>\n",
              "      <td>8363710</td>\n",
              "      <td>New York</td>\n",
              "      <td>New-York</td>\n",
              "      <td>17</td>\n",
              "      <td>Finance</td>\n",
              "    </tr>\n",
              "    <tr>\n",
              "      <th>5</th>\n",
              "      <td>413201</td>\n",
              "      <td>Miami</td>\n",
              "      <td>Florida</td>\n",
              "      <td>34</td>\n",
              "      <td>Tourism</td>\n",
              "    </tr>\n",
              "    <tr>\n",
              "      <th>6</th>\n",
              "      <td>2242193</td>\n",
              "      <td>Houston</td>\n",
              "      <td>Texas</td>\n",
              "      <td>20</td>\n",
              "      <td>Energy</td>\n",
              "    </tr>\n",
              "  </tbody>\n",
              "</table>\n",
              "</div>"
            ],
            "text/plain": [
              "   population           city       state  eco_code  economy\n",
              "3      808976  San Francisco  California        17  Finance\n",
              "4     8363710       New York    New-York        17  Finance\n",
              "5      413201          Miami     Florida        34  Tourism\n",
              "6     2242193        Houston       Texas        20   Energy"
            ]
          },
          "execution_count": 149,
          "metadata": {},
          "output_type": "execute_result"
        }
      ],
      "source": [
        "city_eco[\"economy\"].cat.categories = [\"Finance\", \"Energy\", \"Tourism\"]\n",
        "city_eco"
      ]
    },
    {
      "cell_type": "markdown",
      "metadata": {
        "id": "yJz2rEm_YqV0"
      },
      "source": [
        "Note that categorical values are sorted according to their categorical order, *not* their alphabetical order:"
      ]
    },
    {
      "cell_type": "code",
      "execution_count": null,
      "metadata": {
        "id": "C05Ux4-kYqV1",
        "outputId": "3a7e661e-2288-4d68-c18f-961b6da66262"
      },
      "outputs": [
        {
          "data": {
            "text/html": [
              "<div>\n",
              "<table border=\"1\" class=\"dataframe\">\n",
              "  <thead>\n",
              "    <tr style=\"text-align: right;\">\n",
              "      <th></th>\n",
              "      <th>population</th>\n",
              "      <th>city</th>\n",
              "      <th>state</th>\n",
              "      <th>eco_code</th>\n",
              "      <th>economy</th>\n",
              "    </tr>\n",
              "  </thead>\n",
              "  <tbody>\n",
              "    <tr>\n",
              "      <th>5</th>\n",
              "      <td>413201</td>\n",
              "      <td>Miami</td>\n",
              "      <td>Florida</td>\n",
              "      <td>34</td>\n",
              "      <td>Tourism</td>\n",
              "    </tr>\n",
              "    <tr>\n",
              "      <th>6</th>\n",
              "      <td>2242193</td>\n",
              "      <td>Houston</td>\n",
              "      <td>Texas</td>\n",
              "      <td>20</td>\n",
              "      <td>Energy</td>\n",
              "    </tr>\n",
              "    <tr>\n",
              "      <th>4</th>\n",
              "      <td>8363710</td>\n",
              "      <td>New York</td>\n",
              "      <td>New-York</td>\n",
              "      <td>17</td>\n",
              "      <td>Finance</td>\n",
              "    </tr>\n",
              "    <tr>\n",
              "      <th>3</th>\n",
              "      <td>808976</td>\n",
              "      <td>San Francisco</td>\n",
              "      <td>California</td>\n",
              "      <td>17</td>\n",
              "      <td>Finance</td>\n",
              "    </tr>\n",
              "  </tbody>\n",
              "</table>\n",
              "</div>"
            ],
            "text/plain": [
              "   population           city       state  eco_code  economy\n",
              "5      413201          Miami     Florida        34  Tourism\n",
              "6     2242193        Houston       Texas        20   Energy\n",
              "4     8363710       New York    New-York        17  Finance\n",
              "3      808976  San Francisco  California        17  Finance"
            ]
          },
          "execution_count": 150,
          "metadata": {},
          "output_type": "execute_result"
        }
      ],
      "source": [
        "city_eco.sort_values(by=\"economy\", ascending=False)"
      ]
    },
    {
      "cell_type": "markdown",
      "metadata": {
        "collapsed": true,
        "id": "CAz-llqZYqV1"
      },
      "source": [
        "# What next?\n",
        "As you probably noticed by now, pandas is quite a large library with *many* features. Although we went through the most important features, there is still a lot to discover. Probably the best way to learn more is to get your hands dirty with some real-life data. It is also a good idea to go through pandas' excellent [documentation](http://pandas.pydata.org/pandas-docs/stable/index.html), in particular the [Cookbook](http://pandas.pydata.org/pandas-docs/stable/cookbook.html)."
      ]
    }
  ],
  "metadata": {
    "kernelspec": {
      "display_name": "Python 3",
      "language": "python",
      "name": "python3"
    },
    "language_info": {
      "codemirror_mode": {
        "name": "ipython",
        "version": 3
      },
      "file_extension": ".py",
      "mimetype": "text/x-python",
      "name": "python",
      "nbconvert_exporter": "python",
      "pygments_lexer": "ipython3",
      "version": "3.8.5"
    },
    "toc": {
      "base_numbering": 1,
      "nav_menu": {
        "height": "513px",
        "width": "253px"
      },
      "number_sections": true,
      "sideBar": true,
      "skip_h1_title": false,
      "title_cell": "Table of Contents",
      "title_sidebar": "Contents",
      "toc_cell": false,
      "toc_position": {},
      "toc_section_display": false,
      "toc_window_display": true
    },
    "colab": {
      "name": "Copy of tools_pandas.ipynb",
      "provenance": [],
      "collapsed_sections": [
        "SUjroNVaYqVI",
        "xBXwpjTfYqVN",
        "0DqmEIVxYqVO",
        "LpSArSuVYqVP",
        "Jpdp1XETYqVP",
        "4NQYLjUHYqVQ",
        "l0movVyxYqVS",
        "bC44NGT3YqVT",
        "vujKNH4KYqVT",
        "fc0uE5PBYqVU",
        "DtNHS4SmYqVV",
        "XNjF5OUwYqVY",
        "P1SCK2HkYqVa",
        "CfXcDEJ3YqVb",
        "4B40m8qWYqVb",
        "nVENBgbFYqVc",
        "16FDE2gSYqVd",
        "HkakBGBuYqVd",
        "HYoU4UyyYqVf",
        "c0DX9RwnYqVg",
        "XWBsccRzYqVi",
        "KYVDHiZAYqVi",
        "oLPPHqNxYqVj",
        "-OhEkUoyYqVj",
        "9l0fan-1YqVk",
        "E71rwjE6YqVq",
        "w0E2bkXdYqVq",
        "9c7fgON8YqVs",
        "R6WUnfULYqVt",
        "pWZVqmD_YqVu",
        "bOqIR3RNYqVv",
        "6ksaDcDEYqVw",
        "aHfmTqthYqVw",
        "9Urm_IuTYqVx",
        "Hs7YTuYiYqVy",
        "tfI4t2ErYqV0",
        "CAz-llqZYqV1"
      ]
    }
  },
  "nbformat": 4,
  "nbformat_minor": 0
}