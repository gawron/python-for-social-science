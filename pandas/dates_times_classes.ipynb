{
 "cells": [
  {
   "cell_type": "markdown",
   "metadata": {},
   "source": [
    "# Dates, Times, Classes"
   ]
  },
  {
   "cell_type": "markdown",
   "metadata": {},
   "source": [
    "## Python datetime objects"
   ]
  },
  {
   "cell_type": "code",
   "execution_count": 26,
   "metadata": {
    "scrolled": true
   },
   "outputs": [
    {
     "data": {
      "text/plain": [
       "datetime.datetime(2015, 8, 21, 6, 59, 35)"
      ]
     },
     "execution_count": 26,
     "metadata": {},
     "output_type": "execute_result"
    }
   ],
   "source": [
    "import datetime\n",
    "# Example: u'2015-08-21 06:59:35'\n",
    "twitter_datetime_format = '%Y-%m-%d %H:%M:%S'\n",
    "# Twitter API time string (from the CREATED_AT field)\n",
    "twitter_example = u'2015-08-21 06:59:35'\n",
    "datetime_inst = datetime.datetime.strptime(twitter_example,twitter_datetime_format)\n",
    "datetime_inst\n"
   ]
  },
  {
   "cell_type": "markdown",
   "metadata": {},
   "source": [
    "`datetime_inst` is a special kind of object, which specifices a particular moment of time, independently of the format it was written in."
   ]
  },
  {
   "cell_type": "code",
   "execution_count": 27,
   "metadata": {},
   "outputs": [
    {
     "data": {
      "text/plain": [
       "datetime.datetime"
      ]
     },
     "execution_count": 27,
     "metadata": {},
     "output_type": "execute_result"
    }
   ],
   "source": [
    "type(datetime_inst)"
   ]
  },
  {
   "cell_type": "markdown",
   "metadata": {},
   "source": [
    "A `datetime` instance has 6 obligatorily specified attributes, which together define an instant in time."
   ]
  },
  {
   "cell_type": "code",
   "execution_count": 53,
   "metadata": {
    "scrolled": true
   },
   "outputs": [
    {
     "name": "stdout",
     "output_type": "stream",
     "text": [
      "2015\n",
      "8\n",
      "21\n",
      "6\n",
      "59\n",
      "35\n"
     ]
    }
   ],
   "source": [
    "#datetime.datetime(2015, 8, 21, 6, 59, 35)\n",
    "print datetime_inst.year\n",
    "print datetime_inst.month\n",
    "print datetime_inst.day\n",
    "print datetime_inst.hour\n",
    "print datetime_inst.minute\n",
    "print datetime_inst.second"
   ]
  },
  {
   "cell_type": "markdown",
   "metadata": {},
   "source": [
    "You can think of a datetime instance as a sort of `tuple` whose 6 elements (year,  month, day, hour, minute, second) are accessed by keywords rather than integer indexes."
   ]
  },
  {
   "cell_type": "markdown",
   "metadata": {},
   "source": [
    "In addition other calendar properties are computable, for example, the day of week as an `int`, with Monday represented as day 0. August 21, 2015 was a Friday:"
   ]
  },
  {
   "cell_type": "code",
   "execution_count": 55,
   "metadata": {
    "scrolled": true
   },
   "outputs": [
    {
     "name": "stdout",
     "output_type": "stream",
     "text": [
      "4\n"
     ]
    }
   ],
   "source": [
    "print datetime_inst.weekday()"
   ]
  },
  {
   "cell_type": "markdown",
   "metadata": {},
   "source": [
    "The idea of a `datetimeobj` is that it is independent of any string format in which an instant of time might be represented.  From a `datetime` instance, you can generate a string from the datetime in any format you like, or representing any portion of the information.  First portions:"
   ]
  },
  {
   "cell_type": "code",
   "execution_count": 57,
   "metadata": {},
   "outputs": [
    {
     "name": "stdout",
     "output_type": "stream",
     "text": [
      "06:59:35\n",
      "2015-08-21\n"
     ]
    }
   ],
   "source": [
    "# the time  of day\n",
    "print datetime_inst.time()\n",
    "# the date\n",
    "print datetime_inst.date()"
   ]
  },
  {
   "cell_type": "markdown",
   "metadata": {},
   "source": [
    "Now formats:"
   ]
  },
  {
   "cell_type": "code",
   "execution_count": 58,
   "metadata": {},
   "outputs": [
    {
     "name": "stdout",
     "output_type": "stream",
     "text": [
      "2015-08-21 06:59:35\n",
      "21/08/2015 06:59\n",
      "Aug 21, 2015\n"
     ]
    }
   ],
   "source": [
    "print datetime_obj.strftime(twitter_datetime_format)\n",
    "european_datetime_format = '%d/%m/%Y %H:%M'\n",
    "print datetime_obj.strftime(european_datetime_format)\n",
    "american_date_format = '%b %d, %Y'\n",
    "print datetime_obj.strftime(american_date_format)"
   ]
  },
  {
   "cell_type": "markdown",
   "metadata": {},
   "source": [
    "You can also print a `datetime` obj with a default format."
   ]
  },
  {
   "cell_type": "code",
   "execution_count": 42,
   "metadata": {},
   "outputs": [
    {
     "name": "stdout",
     "output_type": "stream",
     "text": [
      "2015-08-21 06:59:35\n"
     ]
    }
   ],
   "source": [
    "print datetime_obj"
   ]
  },
  {
   "cell_type": "markdown",
   "metadata": {},
   "source": [
    "Notice this is different than what you get if you just evaluate an expression in Python and let Python print back the value for you:"
   ]
  },
  {
   "cell_type": "code",
   "execution_count": 43,
   "metadata": {},
   "outputs": [
    {
     "data": {
      "text/plain": [
       "datetime.datetime(2015, 8, 21, 6, 59, 35)"
      ]
     },
     "execution_count": 43,
     "metadata": {},
     "output_type": "execute_result"
    }
   ],
   "source": [
    "datetime_obj"
   ]
  },
  {
   "cell_type": "markdown",
   "metadata": {},
   "source": [
    "This is due to a standard feature of Python objects. They have more than one string representation associated with them, returned by two different methods, `__repr__` and `__str__`. "
   ]
  },
  {
   "cell_type": "code",
   "execution_count": 45,
   "metadata": {
    "scrolled": true
   },
   "outputs": [
    {
     "data": {
      "text/plain": [
       "'datetime.datetime(2015, 8, 21, 6, 59, 35)'"
      ]
     },
     "execution_count": 45,
     "metadata": {},
     "output_type": "execute_result"
    }
   ],
   "source": [
    "datetime_obj.__repr__()"
   ]
  },
  {
   "cell_type": "markdown",
   "metadata": {},
   "source": [
    "Note the quotes.  Both `__repr__` and `__str__` return strings,  but the strings serve a different function."
   ]
  },
  {
   "cell_type": "code",
   "execution_count": 46,
   "metadata": {},
   "outputs": [
    {
     "data": {
      "text/plain": [
       "'2015-08-21 06:59:35'"
      ]
     },
     "execution_count": 46,
     "metadata": {},
     "output_type": "execute_result"
    }
   ],
   "source": [
    "datetime_obj.__str__()"
   ]
  },
  {
   "cell_type": "markdown",
   "metadata": {},
   "source": [
    "The `__repr__` method returns a string that contains a piece of code that you can execute to create another `datetime` instance just like this one.  The `__str__` method returns a \"pretty\" string designed to be readable and easily comprehended when printed to a screen.  Often there is no need for the two strings to be different, but the difference sometimes comes in handy.  One place where the difference makes a difference is when using the Python interpreter.  It always prints the `__repr__` string of the object returned.  Another is the `print` function.  It always prints the `__str__` string of the object it is printing."
   ]
  },
  {
   "cell_type": "markdown",
   "metadata": {},
   "source": [
    "## Pandas Timestamp objects"
   ]
  },
  {
   "cell_type": "code",
   "execution_count": 1,
   "metadata": {
    "collapsed": true
   },
   "outputs": [],
   "source": [
    "import pandas as pd\n",
    "import numpy as np\n",
    "import random"
   ]
  },
  {
   "cell_type": "code",
   "execution_count": 2,
   "metadata": {
    "collapsed": true
   },
   "outputs": [],
   "source": [
    "# Let's cookup some data sampled hourly over a 72 hour period\n",
    "num_periods,freq = 72,'H'\n",
    "rng = pd.date_range('1/1/2011', periods=num_periods, freq=freq)\n",
    "# Well think of it as widgets sold in each hour, and we'll cook up numbers between 0 and 10000.\n",
    "# So, 72 different sales figures, one for each hour, ranging from 0 to 10000 incluive.\n",
    "S = random.sample(range(10000), 72)"
   ]
  },
  {
   "cell_type": "markdown",
   "metadata": {},
   "source": [
    "The time range `rng` is just a sequence of time stamps, actually a fairly complex kind of `pandas` internal object."
   ]
  },
  {
   "cell_type": "code",
   "execution_count": 6,
   "metadata": {},
   "outputs": [
    {
     "data": {
      "text/plain": [
       "DatetimeIndex(['2011-01-01 00:00:00', '2011-01-01 01:00:00',\n",
       "               '2011-01-01 02:00:00', '2011-01-01 03:00:00',\n",
       "               '2011-01-01 04:00:00', '2011-01-01 05:00:00',\n",
       "               '2011-01-01 06:00:00', '2011-01-01 07:00:00',\n",
       "               '2011-01-01 08:00:00', '2011-01-01 09:00:00',\n",
       "               '2011-01-01 10:00:00', '2011-01-01 11:00:00',\n",
       "               '2011-01-01 12:00:00', '2011-01-01 13:00:00',\n",
       "               '2011-01-01 14:00:00', '2011-01-01 15:00:00',\n",
       "               '2011-01-01 16:00:00', '2011-01-01 17:00:00',\n",
       "               '2011-01-01 18:00:00', '2011-01-01 19:00:00',\n",
       "               '2011-01-01 20:00:00', '2011-01-01 21:00:00',\n",
       "               '2011-01-01 22:00:00', '2011-01-01 23:00:00',\n",
       "               '2011-01-02 00:00:00', '2011-01-02 01:00:00',\n",
       "               '2011-01-02 02:00:00', '2011-01-02 03:00:00',\n",
       "               '2011-01-02 04:00:00', '2011-01-02 05:00:00',\n",
       "               '2011-01-02 06:00:00', '2011-01-02 07:00:00',\n",
       "               '2011-01-02 08:00:00', '2011-01-02 09:00:00',\n",
       "               '2011-01-02 10:00:00', '2011-01-02 11:00:00',\n",
       "               '2011-01-02 12:00:00', '2011-01-02 13:00:00',\n",
       "               '2011-01-02 14:00:00', '2011-01-02 15:00:00',\n",
       "               '2011-01-02 16:00:00', '2011-01-02 17:00:00',\n",
       "               '2011-01-02 18:00:00', '2011-01-02 19:00:00',\n",
       "               '2011-01-02 20:00:00', '2011-01-02 21:00:00',\n",
       "               '2011-01-02 22:00:00', '2011-01-02 23:00:00',\n",
       "               '2011-01-03 00:00:00', '2011-01-03 01:00:00',\n",
       "               '2011-01-03 02:00:00', '2011-01-03 03:00:00',\n",
       "               '2011-01-03 04:00:00', '2011-01-03 05:00:00',\n",
       "               '2011-01-03 06:00:00', '2011-01-03 07:00:00',\n",
       "               '2011-01-03 08:00:00', '2011-01-03 09:00:00',\n",
       "               '2011-01-03 10:00:00', '2011-01-03 11:00:00',\n",
       "               '2011-01-03 12:00:00', '2011-01-03 13:00:00',\n",
       "               '2011-01-03 14:00:00', '2011-01-03 15:00:00',\n",
       "               '2011-01-03 16:00:00', '2011-01-03 17:00:00',\n",
       "               '2011-01-03 18:00:00', '2011-01-03 19:00:00',\n",
       "               '2011-01-03 20:00:00', '2011-01-03 21:00:00',\n",
       "               '2011-01-03 22:00:00', '2011-01-03 23:00:00'],\n",
       "              dtype='datetime64[ns]', freq='H', tz=None)"
      ]
     },
     "execution_count": 6,
     "metadata": {},
     "output_type": "execute_result"
    }
   ],
   "source": [
    "rng"
   ]
  },
  {
   "cell_type": "markdown",
   "metadata": {},
   "source": [
    "Our sample `S` is just a sequence of 72 different integers."
   ]
  },
  {
   "cell_type": "code",
   "execution_count": 3,
   "metadata": {},
   "outputs": [
    {
     "data": {
      "text/plain": [
       "72"
      ]
     },
     "execution_count": 3,
     "metadata": {},
     "output_type": "execute_result"
    }
   ],
   "source": [
    "len(S)"
   ]
  },
  {
   "cell_type": "code",
   "execution_count": 4,
   "metadata": {},
   "outputs": [
    {
     "data": {
      "text/plain": [
       "[8270, 8003, 3324, 2953, 1565, 4877, 4234, 320, 2448, 3902]"
      ]
     },
     "execution_count": 4,
     "metadata": {},
     "output_type": "execute_result"
    }
   ],
   "source": [
    "S[:10]"
   ]
  },
  {
   "cell_type": "markdown",
   "metadata": {},
   "source": [
    "Now put the data together into a time stamped sales column, associating each number with a particular sale figure."
   ]
  },
  {
   "cell_type": "code",
   "execution_count": 5,
   "metadata": {
    "scrolled": true
   },
   "outputs": [
    {
     "data": {
      "text/plain": [
       "2011-01-01 00:00:00    8270\n",
       "2011-01-01 01:00:00    8003\n",
       "2011-01-01 02:00:00    3324\n",
       "2011-01-01 03:00:00    2953\n",
       "2011-01-01 04:00:00    1565\n",
       "2011-01-01 05:00:00    4877\n",
       "2011-01-01 06:00:00    4234\n",
       "2011-01-01 07:00:00     320\n",
       "2011-01-01 08:00:00    2448\n",
       "2011-01-01 09:00:00    3902\n",
       "2011-01-01 10:00:00     881\n",
       "2011-01-01 11:00:00    3686\n",
       "2011-01-01 12:00:00    2135\n",
       "2011-01-01 13:00:00    1250\n",
       "2011-01-01 14:00:00    3387\n",
       "2011-01-01 15:00:00    7923\n",
       "2011-01-01 16:00:00    3519\n",
       "2011-01-01 17:00:00     954\n",
       "2011-01-01 18:00:00    4779\n",
       "2011-01-01 19:00:00     622\n",
       "2011-01-01 20:00:00     685\n",
       "2011-01-01 21:00:00    5503\n",
       "2011-01-01 22:00:00    2486\n",
       "2011-01-01 23:00:00    7287\n",
       "2011-01-02 00:00:00    3795\n",
       "2011-01-02 01:00:00    1272\n",
       "2011-01-02 02:00:00    5529\n",
       "2011-01-02 03:00:00     230\n",
       "2011-01-02 04:00:00    2106\n",
       "2011-01-02 05:00:00     854\n",
       "                       ... \n",
       "2011-01-02 18:00:00    7031\n",
       "2011-01-02 19:00:00    3594\n",
       "2011-01-02 20:00:00    1583\n",
       "2011-01-02 21:00:00    2848\n",
       "2011-01-02 22:00:00    8459\n",
       "2011-01-02 23:00:00    5200\n",
       "2011-01-03 00:00:00    5689\n",
       "2011-01-03 01:00:00    5124\n",
       "2011-01-03 02:00:00    1977\n",
       "2011-01-03 03:00:00    6325\n",
       "2011-01-03 04:00:00    4908\n",
       "2011-01-03 05:00:00    5536\n",
       "2011-01-03 06:00:00     218\n",
       "2011-01-03 07:00:00    3897\n",
       "2011-01-03 08:00:00    1763\n",
       "2011-01-03 09:00:00    1477\n",
       "2011-01-03 10:00:00    8945\n",
       "2011-01-03 11:00:00    4506\n",
       "2011-01-03 12:00:00    9713\n",
       "2011-01-03 13:00:00    4916\n",
       "2011-01-03 14:00:00    2998\n",
       "2011-01-03 15:00:00     310\n",
       "2011-01-03 16:00:00    8563\n",
       "2011-01-03 17:00:00    9095\n",
       "2011-01-03 18:00:00    9150\n",
       "2011-01-03 19:00:00    7386\n",
       "2011-01-03 20:00:00    8900\n",
       "2011-01-03 21:00:00     711\n",
       "2011-01-03 22:00:00    1506\n",
       "2011-01-03 23:00:00     963\n",
       "Freq: H, dtype: int64"
      ]
     },
     "execution_count": 5,
     "metadata": {},
     "output_type": "execute_result"
    }
   ],
   "source": [
    "ts = pd.Series(S, index=rng)\n",
    "ts\n",
    "# Not necessary in this case, but if you're reading in raw time series data with independent\n",
    "# time stamps (say, Tweets) it's often good practice to ensure it's in earliest->latest order.\n",
    "# using the `sort_index` method.\n",
    "# ts.sort_index()"
   ]
  },
  {
   "cell_type": "markdown",
   "metadata": {},
   "source": [
    "One thing you can do with a `pandas` `timestamp` object is turn it into a Python `datetime` object.  They store very similar kinds of information.  The `pandas` object has some extra capabilities and extra information. Going from the `pandas` object to a `datetime` object is always possible:"
   ]
  },
  {
   "cell_type": "code",
   "execution_count": 11,
   "metadata": {},
   "outputs": [
    {
     "data": {
      "text/plain": [
       "Timestamp('2011-01-01 00:00:00', offset='H')"
      ]
     },
     "execution_count": 11,
     "metadata": {},
     "output_type": "execute_result"
    }
   ],
   "source": [
    "ts.index[0]"
   ]
  },
  {
   "cell_type": "code",
   "execution_count": 10,
   "metadata": {},
   "outputs": [
    {
     "data": {
      "text/plain": [
       "datetime.datetime(2011, 1, 1, 0, 0)"
      ]
     },
     "execution_count": 10,
     "metadata": {},
     "output_type": "execute_result"
    }
   ],
   "source": [
    "ts.index[0].to_datetime()"
   ]
  },
  {
   "cell_type": "code",
   "execution_count": null,
   "metadata": {
    "collapsed": true
   },
   "outputs": [],
   "source": []
  }
 ],
 "metadata": {
  "kernelspec": {
   "display_name": "Python 3 (ipykernel)",
   "language": "python",
   "name": "python3"
  },
  "language_info": {
   "codemirror_mode": {
    "name": "ipython",
    "version": 3
   },
   "file_extension": ".py",
   "mimetype": "text/x-python",
   "name": "python",
   "nbconvert_exporter": "python",
   "pygments_lexer": "ipython3",
   "version": "3.10.6"
  }
 },
 "nbformat": 4,
 "nbformat_minor": 1
}
