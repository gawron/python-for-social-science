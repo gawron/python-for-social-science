{
 "cells": [
  {
   "cell_type": "markdown",
   "metadata": {},
   "source": [
    "# Dates, Times, Classes"
   ]
  },
  {
   "cell_type": "markdown",
   "metadata": {},
   "source": [
    "## Python datetime objects"
   ]
  },
  {
   "cell_type": "code",
   "execution_count": 9,
   "metadata": {
    "scrolled": true
   },
   "outputs": [
    {
     "data": {
      "text/plain": [
       "datetime.datetime(2015, 8, 21, 6, 59, 35)"
      ]
     },
     "execution_count": 9,
     "metadata": {},
     "output_type": "execute_result"
    }
   ],
   "source": [
    "import datetime\n",
    "# Example: u'2015-08-21 06:59:35'\n",
    "twitter_datetime_format = '%Y-%m-%d %H:%M:%S'\n",
    "# Twitter API time string (from the CREATED_AT field)\n",
    "twitter_example = u'2015-08-21 06:59:35'\n",
    "datetime_inst = datetime.datetime.strptime(twitter_example,twitter_datetime_format)\n",
    "datetime_inst\n"
   ]
  },
  {
   "cell_type": "markdown",
   "metadata": {},
   "source": [
    "`datetime_inst` is a special kind of object, which specifices a particular moment of time, independently of the format it was written in."
   ]
  },
  {
   "cell_type": "code",
   "execution_count": 10,
   "metadata": {},
   "outputs": [
    {
     "data": {
      "text/plain": [
       "datetime.datetime"
      ]
     },
     "execution_count": 10,
     "metadata": {},
     "output_type": "execute_result"
    }
   ],
   "source": [
    "type(datetime_inst)"
   ]
  },
  {
   "cell_type": "markdown",
   "metadata": {},
   "source": [
    "A `datetime` instance has 6 obligatorily specified attributes, which together define an instant in time."
   ]
  },
  {
   "cell_type": "code",
   "execution_count": 11,
   "metadata": {
    "scrolled": true
   },
   "outputs": [
    {
     "name": "stdout",
     "output_type": "stream",
     "text": [
      "2015\n",
      "8\n",
      "21\n",
      "6\n",
      "59\n",
      "35\n"
     ]
    }
   ],
   "source": [
    "#datetime.datetime(2015, 8, 21, 6, 59, 35)\n",
    "print(datetime_inst.year)\n",
    "print(datetime_inst.month)\n",
    "print(datetime_inst.day)\n",
    "print(datetime_inst.hour)\n",
    "print(datetime_inst.minute)\n",
    "print(datetime_inst.second)"
   ]
  },
  {
   "cell_type": "markdown",
   "metadata": {},
   "source": [
    "You can think of a datetime instance as a sort of `tuple` whose 6 elements (year,  month, day, hour, minute, second) are accessed by keywords rather than integer indexes."
   ]
  },
  {
   "cell_type": "markdown",
   "metadata": {},
   "source": [
    "In addition other calendar properties are computable, for example, the day of week as an `int`, with Monday represented as day 0. August 21, 2015 was a Friday:"
   ]
  },
  {
   "cell_type": "code",
   "execution_count": 12,
   "metadata": {
    "scrolled": true
   },
   "outputs": [
    {
     "name": "stdout",
     "output_type": "stream",
     "text": [
      "4\n"
     ]
    }
   ],
   "source": [
    "print(datetime_inst.weekday())"
   ]
  },
  {
   "cell_type": "markdown",
   "metadata": {},
   "source": [
    "The idea of a `datetimeobj` is that it is independent of any string format in which an instant of time might be represented.  From a `datetime` instance, you can generate a string from the datetime in any format you like, or representing any portion of the information.  First portions:"
   ]
  },
  {
   "cell_type": "code",
   "execution_count": 13,
   "metadata": {},
   "outputs": [
    {
     "name": "stdout",
     "output_type": "stream",
     "text": [
      "06:59:35\n",
      "2015-08-21\n"
     ]
    }
   ],
   "source": [
    "# the time  of day\n",
    "print(datetime_inst.time())\n",
    "# the date\n",
    "print(datetime_inst.date())"
   ]
  },
  {
   "cell_type": "markdown",
   "metadata": {},
   "source": [
    "Now formats:"
   ]
  },
  {
   "cell_type": "code",
   "execution_count": 14,
   "metadata": {},
   "outputs": [
    {
     "name": "stdout",
     "output_type": "stream",
     "text": [
      "2015-08-21 06:59:35\n",
      "21/08/2015 06:59\n",
      "Aug 21, 2015\n"
     ]
    }
   ],
   "source": [
    "print(datetime_inst.strftime(twitter_datetime_format))\n",
    "european_datetime_format = '%d/%m/%Y %H:%M'\n",
    "print(datetime_inst.strftime(european_datetime_format))\n",
    "american_date_format = '%b %d, %Y'\n",
    "print(datetime_inst.strftime(american_date_format))"
   ]
  },
  {
   "cell_type": "markdown",
   "metadata": {},
   "source": [
    "You can also print a `datetime` obj with a default format."
   ]
  },
  {
   "cell_type": "code",
   "execution_count": 15,
   "metadata": {},
   "outputs": [
    {
     "name": "stdout",
     "output_type": "stream",
     "text": [
      "2015-08-21 06:59:35\n"
     ]
    }
   ],
   "source": [
    "print(datetime_inst)"
   ]
  },
  {
   "cell_type": "markdown",
   "metadata": {},
   "source": [
    "Notice this is different than what you get if you just evaluate an expression in Python and let Python print back the value for you:"
   ]
  },
  {
   "cell_type": "code",
   "execution_count": 16,
   "metadata": {},
   "outputs": [
    {
     "data": {
      "text/plain": [
       "datetime.datetime(2015, 8, 21, 6, 59, 35)"
      ]
     },
     "execution_count": 16,
     "metadata": {},
     "output_type": "execute_result"
    }
   ],
   "source": [
    "datetime_inst"
   ]
  },
  {
   "cell_type": "markdown",
   "metadata": {},
   "source": [
    "This is due to a standard feature of Python objects. They have more than one string representation associated with them, returned by two different methods, `__repr__` and `__str__`. "
   ]
  },
  {
   "cell_type": "code",
   "execution_count": 17,
   "metadata": {
    "scrolled": true
   },
   "outputs": [
    {
     "data": {
      "text/plain": [
       "'datetime.datetime(2015, 8, 21, 6, 59, 35)'"
      ]
     },
     "execution_count": 17,
     "metadata": {},
     "output_type": "execute_result"
    }
   ],
   "source": [
    "datetime_inst.__repr__()"
   ]
  },
  {
   "cell_type": "markdown",
   "metadata": {},
   "source": [
    "Note the quotes.  Both `__repr__` and `__str__` return strings,  but the strings serve a different function."
   ]
  },
  {
   "cell_type": "code",
   "execution_count": 18,
   "metadata": {},
   "outputs": [
    {
     "data": {
      "text/plain": [
       "'2015-08-21 06:59:35'"
      ]
     },
     "execution_count": 18,
     "metadata": {},
     "output_type": "execute_result"
    }
   ],
   "source": [
    "datetime_inst.__str__()"
   ]
  },
  {
   "cell_type": "markdown",
   "metadata": {},
   "source": [
    "The `__repr__` method returns a string that contains a piece of code that you can execute to create another `datetime` instance just like this one.  The `__str__` method returns a \"pretty\" string designed to be readable and easily comprehended when printed to a screen.  Often there is no need for the two strings to be different, but the difference sometimes comes in handy.  One place where the difference makes a difference is when using the Python interpreter.  It always prints the `__repr__` string of the object returned.  Another is the `print` function.  It always prints the `__str__` string of the object it is printing."
   ]
  },
  {
   "cell_type": "markdown",
   "metadata": {},
   "source": [
    "Another thing you can do with `datetime`s is arithmetic.  You just have to remember that a time\n",
    "intervals are a different type from time instances (`datetime`s).  Time intervals can be added to each other\n",
    "and to `datetime`s, but `datetime`s cannot be added to each other."
   ]
  },
  {
   "cell_type": "code",
   "execution_count": 19,
   "metadata": {},
   "outputs": [],
   "source": [
    "# The time interval class\n",
    "from datetime import timedelta"
   ]
  },
  {
   "cell_type": "code",
   "execution_count": 20,
   "metadata": {},
   "outputs": [],
   "source": [
    "one_hour = timedelta(hours=1)"
   ]
  },
  {
   "cell_type": "code",
   "execution_count": 21,
   "metadata": {},
   "outputs": [
    {
     "name": "stdout",
     "output_type": "stream",
     "text": [
      "2015-08-21 06:59:35\n",
      "2015-08-21 07:59:35\n"
     ]
    }
   ],
   "source": [
    "print(datetime_inst)\n",
    "print(datetime_inst + one_hour)"
   ]
  },
  {
   "cell_type": "code",
   "execution_count": 22,
   "metadata": {},
   "outputs": [
    {
     "name": "stdout",
     "output_type": "stream",
     "text": [
      "2015-08-21 08:59:35\n"
     ]
    }
   ],
   "source": [
    "print(datetime_inst + 2 * one_hour)"
   ]
  },
  {
   "cell_type": "code",
   "execution_count": 24,
   "metadata": {},
   "outputs": [
    {
     "name": "stdout",
     "output_type": "stream",
     "text": [
      "2015-08-21 09:29:35\n"
     ]
    }
   ],
   "source": [
    "print(datetime_inst + (5 * one_hour)/2)"
   ]
  },
  {
   "cell_type": "code",
   "execution_count": 23,
   "metadata": {},
   "outputs": [],
   "source": [
    "#TypeError: unsupported operand type(s) for +: 'datetime.datetime' and 'datetime.datetime'\n",
    "#datetime_inst + datetime_inst"
   ]
  },
  {
   "cell_type": "markdown",
   "metadata": {},
   "source": [
    "## Pandas Timestamp objects"
   ]
  },
  {
   "cell_type": "code",
   "execution_count": 148,
   "metadata": {},
   "outputs": [],
   "source": [
    "import pandas as pd\n",
    "import numpy as np\n",
    "import random"
   ]
  },
  {
   "cell_type": "code",
   "execution_count": 149,
   "metadata": {},
   "outputs": [],
   "source": [
    "# Let's cookup some data sampled hourly over a 120 day period\n",
    "num_periods = 120*24\n",
    "freq = 'H'\n",
    "rng = pd.date_range('1/1/2024', periods=num_periods, freq=freq)\n",
    "# Well think of it as widgets sold in each hour, and we'll cook up numbers between 0 and 10000.\n",
    "# So, 72 different sales figures, one for each hour, ranging from 0 to 10000 incluive.\n",
    "S = [np.random.normal() for i in range(num_periods)]"
   ]
  },
  {
   "cell_type": "markdown",
   "metadata": {},
   "source": [
    "Our sample `S` is just a sequence of values with mean 0 (STD = 1)."
   ]
  },
  {
   "cell_type": "code",
   "execution_count": 150,
   "metadata": {},
   "outputs": [
    {
     "data": {
      "text/plain": [
       "[1.422630569914767,\n",
       " 0.5773597261191238,\n",
       " 0.8918447148869114,\n",
       " 0.14568549068802922,\n",
       " -1.1777192854766498,\n",
       " -0.5505724919707763,\n",
       " -0.07589472478032998,\n",
       " -0.6940048112327263,\n",
       " -0.5906729855174389,\n",
       " 0.6464778580219521]"
      ]
     },
     "execution_count": 150,
     "metadata": {},
     "output_type": "execute_result"
    }
   ],
   "source": [
    "S[:10]"
   ]
  },
  {
   "cell_type": "code",
   "execution_count": 151,
   "metadata": {
    "scrolled": true
   },
   "outputs": [
    {
     "data": {
      "text/plain": [
       "2880"
      ]
     },
     "execution_count": 151,
     "metadata": {},
     "output_type": "execute_result"
    }
   ],
   "source": [
    "len(S)"
   ]
  },
  {
   "cell_type": "markdown",
   "metadata": {},
   "source": [
    "The time range `rng` is a sequence of time stamps, actually a fairly complex kind of `pandas` internal object."
   ]
  },
  {
   "cell_type": "code",
   "execution_count": 152,
   "metadata": {},
   "outputs": [
    {
     "data": {
      "text/plain": [
       "DatetimeIndex(['2024-01-01 00:00:00', '2024-01-01 01:00:00',\n",
       "               '2024-01-01 02:00:00', '2024-01-01 03:00:00',\n",
       "               '2024-01-01 04:00:00', '2024-01-01 05:00:00',\n",
       "               '2024-01-01 06:00:00', '2024-01-01 07:00:00',\n",
       "               '2024-01-01 08:00:00', '2024-01-01 09:00:00',\n",
       "               ...\n",
       "               '2024-04-29 14:00:00', '2024-04-29 15:00:00',\n",
       "               '2024-04-29 16:00:00', '2024-04-29 17:00:00',\n",
       "               '2024-04-29 18:00:00', '2024-04-29 19:00:00',\n",
       "               '2024-04-29 20:00:00', '2024-04-29 21:00:00',\n",
       "               '2024-04-29 22:00:00', '2024-04-29 23:00:00'],\n",
       "              dtype='datetime64[ns]', length=2880, freq='H')"
      ]
     },
     "execution_count": 152,
     "metadata": {},
     "output_type": "execute_result"
    }
   ],
   "source": [
    "rng"
   ]
  },
  {
   "cell_type": "code",
   "execution_count": 153,
   "metadata": {},
   "outputs": [
    {
     "data": {
      "text/plain": [
       "[1.422630569914767,\n",
       " 0.5773597261191238,\n",
       " 0.8918447148869114,\n",
       " 0.14568549068802922,\n",
       " -1.1777192854766498,\n",
       " -0.5505724919707763,\n",
       " -0.07589472478032998,\n",
       " -0.6940048112327263,\n",
       " -0.5906729855174389,\n",
       " 0.6464778580219521]"
      ]
     },
     "execution_count": 153,
     "metadata": {},
     "output_type": "execute_result"
    }
   ],
   "source": [
    "S[:10]"
   ]
  },
  {
   "cell_type": "markdown",
   "metadata": {},
   "source": [
    "Now put the data together into a time stamped sales column, associating each number with a particular sale figure."
   ]
  },
  {
   "cell_type": "code",
   "execution_count": 154,
   "metadata": {
    "scrolled": true
   },
   "outputs": [
    {
     "data": {
      "text/plain": [
       "2024-01-01 00:00:00    1.422631\n",
       "2024-01-01 01:00:00    0.577360\n",
       "2024-01-01 02:00:00    0.891845\n",
       "2024-01-01 03:00:00    0.145685\n",
       "2024-01-01 04:00:00   -1.177719\n",
       "                         ...   \n",
       "2024-04-29 19:00:00   -1.017564\n",
       "2024-04-29 20:00:00    1.452105\n",
       "2024-04-29 21:00:00    0.410665\n",
       "2024-04-29 22:00:00   -0.791640\n",
       "2024-04-29 23:00:00   -0.530406\n",
       "Freq: H, Length: 2880, dtype: float64"
      ]
     },
     "execution_count": 154,
     "metadata": {},
     "output_type": "execute_result"
    }
   ],
   "source": [
    "ts = pd.Series(S, index=rng)\n",
    "ts\n",
    "# Not necessary in this case, but if you're reading in raw time series data with independent\n",
    "# time stamps (say, Tweets) it's often good practice to ensure it's in earliest->latest order.\n",
    "# using the `sort_index` method.\n",
    "# ts.sort_index()"
   ]
  },
  {
   "cell_type": "markdown",
   "metadata": {},
   "source": [
    "One thing you can do with a `pandas` `timestamp` object is turn it into a Python `datetime` object.  They store very similar kinds of information.  The `pandas` object has some extra capabilities and extra information. Going from the `pandas` object to a `datetime` object is always possible:"
   ]
  },
  {
   "cell_type": "code",
   "execution_count": 155,
   "metadata": {},
   "outputs": [
    {
     "data": {
      "text/plain": [
       "Timestamp('2024-01-01 00:00:00', freq='H')"
      ]
     },
     "execution_count": 155,
     "metadata": {},
     "output_type": "execute_result"
    }
   ],
   "source": [
    "ts.index[0]"
   ]
  },
  {
   "cell_type": "code",
   "execution_count": 156,
   "metadata": {},
   "outputs": [
    {
     "data": {
      "text/plain": [
       "datetime.datetime(2024, 1, 1, 0, 0)"
      ]
     },
     "execution_count": 156,
     "metadata": {},
     "output_type": "execute_result"
    }
   ],
   "source": [
    "ts.index[0].to_pydatetime()"
   ]
  },
  {
   "cell_type": "markdown",
   "metadata": {},
   "source": [
    "You can run the same method on the entire index to produce a `numpy` array of Python `datetime` instances:"
   ]
  },
  {
   "cell_type": "code",
   "execution_count": 170,
   "metadata": {},
   "outputs": [
    {
     "data": {
      "text/plain": [
       "array([datetime.datetime(2024, 1, 1, 0, 0),\n",
       "       datetime.datetime(2024, 1, 1, 1, 0),\n",
       "       datetime.datetime(2024, 1, 1, 2, 0),\n",
       "       datetime.datetime(2024, 1, 1, 3, 0),\n",
       "       datetime.datetime(2024, 1, 1, 4, 0),\n",
       "       datetime.datetime(2024, 1, 1, 5, 0),\n",
       "       datetime.datetime(2024, 1, 1, 6, 0),\n",
       "       datetime.datetime(2024, 1, 1, 7, 0),\n",
       "       datetime.datetime(2024, 1, 1, 8, 0),\n",
       "       datetime.datetime(2024, 1, 1, 9, 0)], dtype=object)"
      ]
     },
     "execution_count": 170,
     "metadata": {},
     "output_type": "execute_result"
    }
   ],
   "source": [
    "date_array = ts.index.to_pydatetime()\n",
    "date_array[:10]"
   ]
  },
  {
   "cell_type": "markdown",
   "metadata": {},
   "source": [
    "You can do time arithmetic with the numpy array version"
   ]
  },
  {
   "cell_type": "code",
   "execution_count": 158,
   "metadata": {},
   "outputs": [
    {
     "data": {
      "text/plain": [
       "array([datetime.datetime(2024, 1, 1, 1, 0),\n",
       "       datetime.datetime(2024, 1, 1, 2, 0),\n",
       "       datetime.datetime(2024, 1, 1, 3, 0),\n",
       "       datetime.datetime(2024, 1, 1, 4, 0),\n",
       "       datetime.datetime(2024, 1, 1, 5, 0),\n",
       "       datetime.datetime(2024, 1, 1, 6, 0),\n",
       "       datetime.datetime(2024, 1, 1, 7, 0),\n",
       "       datetime.datetime(2024, 1, 1, 8, 0),\n",
       "       datetime.datetime(2024, 1, 1, 9, 0),\n",
       "       datetime.datetime(2024, 1, 1, 10, 0)], dtype=object)"
      ]
     },
     "execution_count": 158,
     "metadata": {},
     "output_type": "execute_result"
    }
   ],
   "source": [
    "date_array[:10] + one_hour"
   ]
  },
  {
   "cell_type": "markdown",
   "metadata": {},
   "source": [
    "As well as with the original index object"
   ]
  },
  {
   "cell_type": "code",
   "execution_count": 159,
   "metadata": {},
   "outputs": [
    {
     "data": {
      "text/plain": [
       "DatetimeIndex(['2024-01-01 01:00:00', '2024-01-01 02:00:00',\n",
       "               '2024-01-01 03:00:00', '2024-01-01 04:00:00',\n",
       "               '2024-01-01 05:00:00', '2024-01-01 06:00:00',\n",
       "               '2024-01-01 07:00:00', '2024-01-01 08:00:00',\n",
       "               '2024-01-01 09:00:00', '2024-01-01 10:00:00'],\n",
       "              dtype='datetime64[ns]', freq='H')"
      ]
     },
     "execution_count": 159,
     "metadata": {},
     "output_type": "execute_result"
    }
   ],
   "source": [
    "ts.index[:10] + one_hour"
   ]
  },
  {
   "cell_type": "markdown",
   "metadata": {},
   "source": [
    "To sum up:  `ts` is a Pandas `Series`; the sequence of Pandas `Timestamp`s we've been working with\n",
    "is its index (Hence, `ts.index` prints out as a `DateTimeIndex`).  So we've shown\n",
    "that time arithmetic is very simple with a `DateTimeIndex`.\n",
    "\n",
    "Time computations work very much the same if the Pandas `Timestamp` sequence is a\n",
    "column in a `DataFrame` (a Pandas `Series`).  Let's promote our index to be a column:"
   ]
  },
  {
   "cell_type": "code",
   "execution_count": 160,
   "metadata": {},
   "outputs": [
    {
     "data": {
      "text/html": [
       "<div>\n",
       "<style scoped>\n",
       "    .dataframe tbody tr th:only-of-type {\n",
       "        vertical-align: middle;\n",
       "    }\n",
       "\n",
       "    .dataframe tbody tr th {\n",
       "        vertical-align: top;\n",
       "    }\n",
       "\n",
       "    .dataframe thead th {\n",
       "        text-align: right;\n",
       "    }\n",
       "</style>\n",
       "<table border=\"1\" class=\"dataframe\">\n",
       "  <thead>\n",
       "    <tr style=\"text-align: right;\">\n",
       "      <th></th>\n",
       "      <th>Dates</th>\n",
       "      <th>P-Level</th>\n",
       "    </tr>\n",
       "  </thead>\n",
       "  <tbody>\n",
       "    <tr>\n",
       "      <th>0</th>\n",
       "      <td>2024-01-01 00:00:00</td>\n",
       "      <td>1.422631</td>\n",
       "    </tr>\n",
       "    <tr>\n",
       "      <th>1</th>\n",
       "      <td>2024-01-01 01:00:00</td>\n",
       "      <td>0.577360</td>\n",
       "    </tr>\n",
       "    <tr>\n",
       "      <th>2</th>\n",
       "      <td>2024-01-01 02:00:00</td>\n",
       "      <td>0.891845</td>\n",
       "    </tr>\n",
       "    <tr>\n",
       "      <th>3</th>\n",
       "      <td>2024-01-01 03:00:00</td>\n",
       "      <td>0.145685</td>\n",
       "    </tr>\n",
       "    <tr>\n",
       "      <th>4</th>\n",
       "      <td>2024-01-01 04:00:00</td>\n",
       "      <td>-1.177719</td>\n",
       "    </tr>\n",
       "  </tbody>\n",
       "</table>\n",
       "</div>"
      ],
      "text/plain": [
       "                Dates   P-Level\n",
       "0 2024-01-01 00:00:00  1.422631\n",
       "1 2024-01-01 01:00:00  0.577360\n",
       "2 2024-01-01 02:00:00  0.891845\n",
       "3 2024-01-01 03:00:00  0.145685\n",
       "4 2024-01-01 04:00:00 -1.177719"
      ]
     },
     "execution_count": 160,
     "metadata": {},
     "output_type": "execute_result"
    }
   ],
   "source": [
    "ts_df = pd.DataFrame(ts,columns=[\"P-Level\"])\n",
    "\n",
    "ts_df2= ts_df.reset_index(names='Dates')\n",
    "ts_df2[:5]"
   ]
  },
  {
   "cell_type": "code",
   "execution_count": 161,
   "metadata": {},
   "outputs": [
    {
     "data": {
      "text/plain": [
       "0      2024-01-01 01:00:00\n",
       "1      2024-01-01 02:00:00\n",
       "2      2024-01-01 03:00:00\n",
       "3      2024-01-01 04:00:00\n",
       "4      2024-01-01 05:00:00\n",
       "               ...        \n",
       "2875   2024-04-29 20:00:00\n",
       "2876   2024-04-29 21:00:00\n",
       "2877   2024-04-29 22:00:00\n",
       "2878   2024-04-29 23:00:00\n",
       "2879   2024-04-30 00:00:00\n",
       "Name: Dates, Length: 2880, dtype: datetime64[ns]"
      ]
     },
     "execution_count": 161,
     "metadata": {},
     "output_type": "execute_result"
    }
   ],
   "source": [
    "ts_df2[\"Dates\"] + one_hour"
   ]
  },
  {
   "cell_type": "markdown",
   "metadata": {},
   "source": [
    "Let's get all the Tuesday data"
   ]
  },
  {
   "cell_type": "code",
   "execution_count": 162,
   "metadata": {},
   "outputs": [
    {
     "data": {
      "text/plain": [
       "408"
      ]
     },
     "execution_count": 162,
     "metadata": {},
     "output_type": "execute_result"
    }
   ],
   "source": [
    "tuesday_data = ts_df[ts_df.index.weekday == 1]\n",
    "len(tuesday_data)"
   ]
  },
  {
   "cell_type": "code",
   "execution_count": 163,
   "metadata": {},
   "outputs": [
    {
     "data": {
      "text/plain": [
       "408.0"
      ]
     },
     "execution_count": 163,
     "metadata": {},
     "output_type": "execute_result"
    }
   ],
   "source": [
    "#  len(ts_df)%7 == 1 because the data starts and ends on a Monday\n",
    "#  Subtract a day's worth of samples to strip off the extra Monday data\n",
    "(len(ts_df) - 24)/7"
   ]
  },
  {
   "cell_type": "code",
   "execution_count": 164,
   "metadata": {},
   "outputs": [
    {
     "data": {
      "text/plain": [
       "29.0"
      ]
     },
     "execution_count": 164,
     "metadata": {},
     "output_type": "execute_result"
    }
   ],
   "source": [
    "## Let's get all the Frebruary data (we dont use 0-based indexing for months)\n",
    "february_data = ts_df[ts_df.index.month == 2]\n",
    "len(february_data)/24"
   ]
  },
  {
   "cell_type": "code",
   "execution_count": 165,
   "metadata": {
    "scrolled": true
   },
   "outputs": [
    {
     "data": {
      "text/plain": [
       "(                      P-Level\n",
       " 2024-02-01 00:00:00 -0.706495\n",
       " 2024-02-01 01:00:00  0.810058,\n",
       "                       P-Level\n",
       " 2024-02-29 22:00:00 -0.808593\n",
       " 2024-02-29 23:00:00 -1.487924)"
      ]
     },
     "execution_count": 165,
     "metadata": {},
     "output_type": "execute_result"
    }
   ],
   "source": [
    "february_data.iloc[:2], february_data.iloc[-2:],"
   ]
  },
  {
   "cell_type": "markdown",
   "metadata": {},
   "source": [
    "How do we the same with `ts_df2` (where the TimeStamp info is a column)?"
   ]
  },
  {
   "cell_type": "code",
   "execution_count": 166,
   "metadata": {},
   "outputs": [],
   "source": [
    "# This is an Attribute Error: 'Series' object has no attribute 'month'\n",
    "#ts_df2[\"Dates\"].month == 2"
   ]
  },
  {
   "cell_type": "markdown",
   "metadata": {},
   "source": [
    "This doesn't work.  We don't have a special type for a TimeStamp typ3 `Series`.  What we do instead is use\n",
    "a special TimeStamp method accessor (paralleling the `.str` accessor for string columns):"
   ]
  },
  {
   "cell_type": "code",
   "execution_count": 167,
   "metadata": {},
   "outputs": [],
   "source": [
    "february_data2 = ts_df2[ts_df2[\"Dates\"].dt.month == 2]"
   ]
  },
  {
   "cell_type": "markdown",
   "metadata": {},
   "source": [
    "We get hold of the same price sequence whichever way we represented the data"
   ]
  },
  {
   "cell_type": "code",
   "execution_count": 169,
   "metadata": {},
   "outputs": [
    {
     "data": {
      "text/plain": [
       "True"
      ]
     },
     "execution_count": 169,
     "metadata": {},
     "output_type": "execute_result"
    }
   ],
   "source": [
    "(february_data[\"P-Level\"].values == february_data2[\"P-Level\"].values).all()"
   ]
  },
  {
   "cell_type": "markdown",
   "metadata": {},
   "source": [
    "Consider the case of strings in an index for a moment."
   ]
  },
  {
   "cell_type": "code",
   "execution_count": 140,
   "metadata": {},
   "outputs": [
    {
     "data": {
      "text/html": [
       "<div>\n",
       "<style scoped>\n",
       "    .dataframe tbody tr th:only-of-type {\n",
       "        vertical-align: middle;\n",
       "    }\n",
       "\n",
       "    .dataframe tbody tr th {\n",
       "        vertical-align: top;\n",
       "    }\n",
       "\n",
       "    .dataframe thead th {\n",
       "        text-align: right;\n",
       "    }\n",
       "</style>\n",
       "<table border=\"1\" class=\"dataframe\">\n",
       "  <thead>\n",
       "    <tr style=\"text-align: right;\">\n",
       "      <th></th>\n",
       "      <th>births</th>\n",
       "    </tr>\n",
       "  </thead>\n",
       "  <tbody>\n",
       "    <tr>\n",
       "      <th>Bob</th>\n",
       "      <td>27</td>\n",
       "    </tr>\n",
       "    <tr>\n",
       "      <th>Dave</th>\n",
       "      <td>137</td>\n",
       "    </tr>\n",
       "    <tr>\n",
       "      <th>Bill</th>\n",
       "      <td>513</td>\n",
       "    </tr>\n",
       "  </tbody>\n",
       "</table>\n",
       "</div>"
      ],
      "text/plain": [
       "      births\n",
       "Bob       27\n",
       "Dave     137\n",
       "Bill     513"
      ]
     },
     "execution_count": 140,
     "metadata": {},
     "output_type": "execute_result"
    }
   ],
   "source": [
    "xdf = pd.DataFrame({\n",
    "           \"births\":[27,137,513]},index=\"Bob Dave Bill\".split())\n",
    "xdf"
   ]
  },
  {
   "cell_type": "markdown",
   "metadata": {},
   "source": [
    "String Indexes can use the `.str` accessor too:"
   ]
  },
  {
   "cell_type": "code",
   "execution_count": 143,
   "metadata": {},
   "outputs": [
    {
     "data": {
      "text/html": [
       "<div>\n",
       "<style scoped>\n",
       "    .dataframe tbody tr th:only-of-type {\n",
       "        vertical-align: middle;\n",
       "    }\n",
       "\n",
       "    .dataframe tbody tr th {\n",
       "        vertical-align: top;\n",
       "    }\n",
       "\n",
       "    .dataframe thead th {\n",
       "        text-align: right;\n",
       "    }\n",
       "</style>\n",
       "<table border=\"1\" class=\"dataframe\">\n",
       "  <thead>\n",
       "    <tr style=\"text-align: right;\">\n",
       "      <th></th>\n",
       "      <th>births</th>\n",
       "    </tr>\n",
       "  </thead>\n",
       "  <tbody>\n",
       "    <tr>\n",
       "      <th>Bob</th>\n",
       "      <td>27</td>\n",
       "    </tr>\n",
       "    <tr>\n",
       "      <th>Bill</th>\n",
       "      <td>513</td>\n",
       "    </tr>\n",
       "  </tbody>\n",
       "</table>\n",
       "</div>"
      ],
      "text/plain": [
       "      births\n",
       "Bob       27\n",
       "Bill     513"
      ]
     },
     "execution_count": 143,
     "metadata": {},
     "output_type": "execute_result"
    }
   ],
   "source": [
    "xdf[xdf.index.str[0]  == \"B\"]"
   ]
  },
  {
   "cell_type": "markdown",
   "metadata": {},
   "source": [
    "But there is no `.dt` accessor for a `DatetimeIndex`:"
   ]
  },
  {
   "cell_type": "code",
   "execution_count": 147,
   "metadata": {},
   "outputs": [],
   "source": [
    "#Attribute Error:  'DatetimeIndex' object has no attribute 'dt'\n",
    "# ts_df.index.dt.month == 2"
   ]
  },
  {
   "cell_type": "markdown",
   "metadata": {},
   "source": [
    "because `DateTimeIndex` is a type specialized for Time Series data: so TimeStamp methods\n",
    "will all automatically work and all automatically be \"vectorized\".\n",
    "To illustrate with one more example: the following gets the mean reading for  midnight samples:"
   ]
  },
  {
   "cell_type": "code",
   "execution_count": 184,
   "metadata": {},
   "outputs": [
    {
     "data": {
      "text/plain": [
       "P-Level    0.10471\n",
       "dtype: float64"
      ]
     },
     "execution_count": 184,
     "metadata": {},
     "output_type": "execute_result"
    }
   ],
   "source": [
    "ts_df[ts_df.index.hour == 0].mean()"
   ]
  },
  {
   "cell_type": "code",
   "execution_count": null,
   "metadata": {},
   "outputs": [],
   "source": []
  }
 ],
 "metadata": {
  "kernelspec": {
   "display_name": "Python 3 (ipykernel)",
   "language": "python",
   "name": "python3"
  },
  "language_info": {
   "codemirror_mode": {
    "name": "ipython",
    "version": 3
   },
   "file_extension": ".py",
   "mimetype": "text/x-python",
   "name": "python",
   "nbconvert_exporter": "python",
   "pygments_lexer": "ipython3",
   "version": "3.10.13"
  }
 },
 "nbformat": 4,
 "nbformat_minor": 1
}
