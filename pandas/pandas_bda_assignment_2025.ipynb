{
 "cells": [
  {
   "cell_type": "markdown",
   "metadata": {},
   "source": [
    "# Pandas assignment"
   ]
  },
  {
   "cell_type": "markdown",
   "metadata": {},
   "source": [
    "The problems in this notebook are adapted from Brandon Rhodes's Pycon `pandas` tutorial.\n",
    "\n",
    "The first few problems are identical.  Others are complete fabrications.\n",
    "\n",
    "Problems that have an asterisk (`*`) are worth twice as  much.  They are more difficult.\n",
    "\n",
    "Each of part A and Part B is handed in  as a separate assignment.  Each part is worth 20 points.\n",
    "The point values for each question (out of a tital of 20) are as follows:\n",
    "\n",
    "$$\n",
    "\\begin{array}{ll}\n",
    "\\text{Unstarred} & 1.428 \\\\\n",
    " \\text{Starred} & 2.856\\\\\n",
    "\\end{array}\n",
    "$$"
   ]
  },
  {
   "cell_type": "markdown",
   "metadata": {},
   "source": [
    "## Loading the data"
   ]
  },
  {
   "cell_type": "markdown",
   "metadata": {},
   "source": [
    "This notebook loads two datasets `titles` and ` cast`.  Both are are loaded frim the course website and contain extracts of the IMDB movie data. The second is a fragment of a much larger DataFrame.  \n",
    "\n",
    "Everything\n",
    "you need to complete this assignment is included in the **fragment loaded in this section**\n",
    "in the cells below. \n",
    "\n",
    "For those who want to have the entire IMDB-derived dataset, here are some pointers.\n",
    "\n",
    "Loading the entire IMDB data set used for these tutorial exercises is best done by \n",
    "visiting [Brandon Rhodes' github repo](https://github.com/brandon-rhodes/pycon-pandas-tutorial)\n",
    "and following the instructions.  You can either download a big zip file or, if you have `git` (the main\n",
    "github API function) installed on your machine, do a `git clone` command. \n",
    "In addition to that, \n",
    "you will need to download 4 compressed files by ftp that Rhodes\n",
    "provides links to.  You can then run code\n",
    "from Rhodes' cloned repo to create the non-truncated version CSV files used in these exercises.\n",
    "If you do that, you may use the complete dataset to complete these exercises.  Some but not\n",
    "all of your answers will be dufferent.\n",
    "\n",
    "The statistics\n",
    "in the Part B answers will not be correct until you load the complete dataset.  But\n",
    "you can complete the assignment on the fragment, since I will be evaluating your code,\n",
    "not the accuracy of your statistics."
   ]
  },
  {
   "cell_type": "markdown",
   "metadata": {},
   "source": [
    "#### Context Cell (Parameter-setting and Notebook-wide imports)"
   ]
  },
  {
   "cell_type": "code",
   "execution_count": 14,
   "metadata": {},
   "outputs": [],
   "source": [
    "# The Python modules you need for this assignment.\n",
    "import pandas as pd\n",
    "import os.path\n",
    "import urllib.request\n",
    "import urllib.error\n",
    "from matplotlib import pyplot as plt\n",
    "\n",
    "\n",
    "pd.options.plotting.backend = 'matplotlib'\n",
    "\n",
    "\n",
    "# Switch to True if loading the data below yields a 404 Not Found Error\n",
    "#data_load_has_failed = False\n",
    "\n",
    "github_url ='https://raw.githubusercontent.com/gawron/python-for-social-science/master/'\n",
    "data_path = 'pandas/tutorial/pycon-pandas-tutorial-master/truncated_data/'\n",
    "titles_file = 'titles.csv'\n",
    "cast_file = 'cast.csv'\n",
    "truncated_cast_file = 'truncated_cast.csv'\n",
    "url_dir = github_url + data_path\n",
    "#url_dir = 'https://gawron.sdsu.edu/python_for_ss/course_core/data/'"
   ]
  },
  {
   "cell_type": "code",
   "execution_count": 15,
   "metadata": {},
   "outputs": [
    {
     "data": {
      "text/plain": [
       "'https://raw.githubusercontent.com/gawron/python-for-social-science/master/pandas/tutorial/pycon-pandas-tutorial-master/truncated_data/'"
      ]
     },
     "execution_count": 15,
     "metadata": {},
     "output_type": "execute_result"
    }
   ],
   "source": [
    "# Data is on github.  Must be connected to the internet to get the data.\n",
    "url_dir"
   ]
  },
  {
   "cell_type": "markdown",
   "metadata": {},
   "source": [
    "The next cell adds styles to the notebook. Helps make the assignment questions easier to find.\n",
    "\n",
    "Please execute:"
   ]
  },
  {
   "cell_type": "code",
   "execution_count": 3,
   "metadata": {},
   "outputs": [
    {
     "data": {
      "text/html": [
       "<style>\n",
       "h3 {\n",
       "    color: white;\n",
       "    background-color: black;\n",
       "    padding: 0.5em;\n",
       "}\n",
       "body {\n",
       "    margin: 0;\n",
       "    font-family: Helvetica;\n",
       "}\n",
       "table.dataframe {\n",
       "    border-collapse: collapse;\n",
       "    border: none;\n",
       "}\n",
       "table.dataframe tr {\n",
       "    border: none;\n",
       "}\n",
       "table.dataframe td, table.dataframe th {\n",
       "    margin: 0;\n",
       "    border: 1px solid white;\n",
       "    padding-left: 0.25em;\n",
       "    padding-right: 0.25em;\n",
       "}\n",
       "table.dataframe th:not(:empty) {\n",
       "    background-color: #fec;\n",
       "    text-align: left;\n",
       "    font-weight: normal;\n",
       "}\n",
       "table.dataframe tr:nth-child(2) th:empty {\n",
       "    border-left: none;\n",
       "    border-right: 1px dashed #888;\n",
       "}\n",
       "table.dataframe td {\n",
       "    border: 2px solid #ccf;\n",
       "    background-color: #f4f4ff;\n",
       "}\n",
       "</style>"
      ],
      "text/plain": [
       "<IPython.core.display.HTML object>"
      ]
     },
     "execution_count": 3,
     "metadata": {},
     "output_type": "execute_result"
    }
   ],
   "source": [
    "from IPython.display import HTML\n",
    "import urllib\n",
    "import os.path\n",
    "\n",
    "style_dir = 'https://gawron.sdsu.edu/python_for_ss/course_core/data/'\n",
    "target_url1 = os.path.join(style_dir,'style-notebook.css')\n",
    "target_url2 = os.path.join(style_dir,'style-table.css')\n",
    "\n",
    "# There are issues with doing it this way on Windows\n",
    "#target_url1 = style_dir + '/style-notebook.css'\n",
    "#target_url2 = style_dir + '/style-table.css'\n",
    "\n",
    "with urllib.request.urlopen(target_url1) as fh1:\n",
    "    css1 = fh1.read().decode('utf8')\n",
    "with urllib.request.urlopen(target_url2) as fh2:\n",
    "    css2 = fh2.read().decode('utf8')\n",
    "css = css1 + css2\n",
    "# This attaches the style sheet to the current notebook\n",
    "HTML(f'<style>\\n{css}</style>')\n",
    "# print(\"Hi\")\n",
    "# Note that the HTML function-call above returns an uprintable html-object.\n",
    "# It must be the last expression executed in the cell in an unembedded block of code.\n",
    "# It does not have the intended effect on the styling of  the notebook\n",
    "# if the print statement above is un-(commented out)\n",
    "# or if it is embedded in an if-statement as below.  It must be the value \n",
    "# returned by the cell (what is printed out, if printable, )\n",
    "# if True:\n",
    "#    HTML(f'<style>\\n{css}</style>')"
   ]
  },
  {
   "cell_type": "markdown",
   "metadata": {},
   "source": [
    "The next cell loads the `titles` DataFrame, the first of two used in this assignment.  There are only\n",
    "two columns, `'title'`  and `'year'`."
   ]
  },
  {
   "cell_type": "code",
   "execution_count": 16,
   "metadata": {},
   "outputs": [
    {
     "data": {
      "text/html": [
       "<div>\n",
       "<style scoped>\n",
       "    .dataframe tbody tr th:only-of-type {\n",
       "        vertical-align: middle;\n",
       "    }\n",
       "\n",
       "    .dataframe tbody tr th {\n",
       "        vertical-align: top;\n",
       "    }\n",
       "\n",
       "    .dataframe thead th {\n",
       "        text-align: right;\n",
       "    }\n",
       "</style>\n",
       "<table border=\"1\" class=\"dataframe\">\n",
       "  <thead>\n",
       "    <tr style=\"text-align: right;\">\n",
       "      <th></th>\n",
       "      <th>title</th>\n",
       "      <th>year</th>\n",
       "    </tr>\n",
       "  </thead>\n",
       "  <tbody>\n",
       "    <tr>\n",
       "      <th>0</th>\n",
       "      <td>The Patriarchs</td>\n",
       "      <td>2009</td>\n",
       "    </tr>\n",
       "    <tr>\n",
       "      <th>1</th>\n",
       "      <td>Angels in the Attic</td>\n",
       "      <td>1998</td>\n",
       "    </tr>\n",
       "    <tr>\n",
       "      <th>2</th>\n",
       "      <td>The Rapture</td>\n",
       "      <td>1991</td>\n",
       "    </tr>\n",
       "    <tr>\n",
       "      <th>3</th>\n",
       "      <td>Star na si Van Damme Stallone</td>\n",
       "      <td>2016</td>\n",
       "    </tr>\n",
       "    <tr>\n",
       "      <th>4</th>\n",
       "      <td>Sweet Talk</td>\n",
       "      <td>2004</td>\n",
       "    </tr>\n",
       "  </tbody>\n",
       "</table>\n",
       "</div>"
      ],
      "text/plain": [
       "                           title  year\n",
       "0                 The Patriarchs  2009\n",
       "1            Angels in the Attic  1998\n",
       "2                    The Rapture  1991\n",
       "3  Star na si Van Damme Stallone  2016\n",
       "4                     Sweet Talk  2004"
      ]
     },
     "execution_count": 16,
     "metadata": {},
     "output_type": "execute_result"
    }
   ],
   "source": [
    "titles = pd.read_csv(url_dir + titles_file)\n",
    "titles.head()"
   ]
  },
  {
   "cell_type": "markdown",
   "metadata": {},
   "source": [
    "This is a simple `DataFrame` with two columns, containing the title and year of a film.\n",
    "\n",
    "If a film is remade and given the same title, the title shows up twice:"
   ]
  },
  {
   "cell_type": "code",
   "execution_count": 17,
   "metadata": {},
   "outputs": [
    {
     "data": {
      "text/html": [
       "<div>\n",
       "<style scoped>\n",
       "    .dataframe tbody tr th:only-of-type {\n",
       "        vertical-align: middle;\n",
       "    }\n",
       "\n",
       "    .dataframe tbody tr th {\n",
       "        vertical-align: top;\n",
       "    }\n",
       "\n",
       "    .dataframe thead th {\n",
       "        text-align: right;\n",
       "    }\n",
       "</style>\n",
       "<table border=\"1\" class=\"dataframe\">\n",
       "  <thead>\n",
       "    <tr style=\"text-align: right;\">\n",
       "      <th></th>\n",
       "      <th>title</th>\n",
       "      <th>year</th>\n",
       "    </tr>\n",
       "  </thead>\n",
       "  <tbody>\n",
       "    <tr>\n",
       "      <th>91875</th>\n",
       "      <td>Around the World in 80 Days</td>\n",
       "      <td>2004</td>\n",
       "    </tr>\n",
       "    <tr>\n",
       "      <th>121800</th>\n",
       "      <td>Around the World in 80 Days</td>\n",
       "      <td>1956</td>\n",
       "    </tr>\n",
       "  </tbody>\n",
       "</table>\n",
       "</div>"
      ],
      "text/plain": [
       "                              title  year\n",
       "91875   Around the World in 80 Days  2004\n",
       "121800  Around the World in 80 Days  1956"
      ]
     },
     "execution_count": 17,
     "metadata": {},
     "output_type": "execute_result"
    }
   ],
   "source": [
    "titles[titles['title']  == 'Around the World in 80 Days']"
   ]
  },
  {
   "cell_type": "code",
   "execution_count": 18,
   "metadata": {},
   "outputs": [
    {
     "data": {
      "text/plain": [
       "226013"
      ]
     },
     "execution_count": 18,
     "metadata": {},
     "output_type": "execute_result"
    }
   ],
   "source": [
    "len(titles)"
   ]
  },
  {
   "cell_type": "markdown",
   "metadata": {},
   "source": [
    "The next cell loads the `cast` DataFrame, the second of two used in this assignment.  This is\n",
    "large and will take a while."
   ]
  },
  {
   "cell_type": "code",
   "execution_count": 19,
   "metadata": {},
   "outputs": [],
   "source": [
    "#full_cast = pd.read_csv('tutorial/pycon-pandas-tutorial-master/data/cast.csv')\n",
    "#cast = pd.read_csv('tutorial/pycon-pandas-tutorial-master/data/truncated_cast.csv',\n",
    "#                   index_col=0)\n",
    "cast = pd.read_csv(url_dir + truncated_cast_file)"
   ]
  },
  {
   "cell_type": "code",
   "execution_count": 20,
   "metadata": {},
   "outputs": [
    {
     "data": {
      "text/plain": [
       "423121"
      ]
     },
     "execution_count": 20,
     "metadata": {},
     "output_type": "execute_result"
    }
   ],
   "source": [
    "len(cast)"
   ]
  },
  {
   "cell_type": "code",
   "execution_count": 155,
   "metadata": {
    "scrolled": true
   },
   "outputs": [
    {
     "data": {
      "text/html": [
       "<div>\n",
       "<style scoped>\n",
       "    .dataframe tbody tr th:only-of-type {\n",
       "        vertical-align: middle;\n",
       "    }\n",
       "\n",
       "    .dataframe tbody tr th {\n",
       "        vertical-align: top;\n",
       "    }\n",
       "\n",
       "    .dataframe thead th {\n",
       "        text-align: right;\n",
       "    }\n",
       "</style>\n",
       "<table border=\"1\" class=\"dataframe\">\n",
       "  <thead>\n",
       "    <tr style=\"text-align: right;\">\n",
       "      <th></th>\n",
       "      <th>title</th>\n",
       "      <th>year</th>\n",
       "      <th>name</th>\n",
       "      <th>type</th>\n",
       "      <th>character</th>\n",
       "      <th>n</th>\n",
       "    </tr>\n",
       "  </thead>\n",
       "  <tbody>\n",
       "    <tr>\n",
       "      <th>0</th>\n",
       "      <td>In the Land of the Head Hunters</td>\n",
       "      <td>1914</td>\n",
       "      <td>Paddy 'Malid</td>\n",
       "      <td>actor</td>\n",
       "      <td>Kenada</td>\n",
       "      <td>5.0</td>\n",
       "    </tr>\n",
       "    <tr>\n",
       "      <th>1</th>\n",
       "      <td>The Colour of Darkness</td>\n",
       "      <td>2016</td>\n",
       "      <td>Ketan Daraji -Gohel</td>\n",
       "      <td>actor</td>\n",
       "      <td>Chhagan</td>\n",
       "      <td>NaN</td>\n",
       "    </tr>\n",
       "    <tr>\n",
       "      <th>2</th>\n",
       "      <td>London Betty</td>\n",
       "      <td>2009</td>\n",
       "      <td>Isaiah Entsua -Mensah</td>\n",
       "      <td>actor</td>\n",
       "      <td>Camera Man</td>\n",
       "      <td>NaN</td>\n",
       "    </tr>\n",
       "    <tr>\n",
       "      <th>3</th>\n",
       "      <td>Candelabra</td>\n",
       "      <td>2014</td>\n",
       "      <td>Groovin .</td>\n",
       "      <td>actor</td>\n",
       "      <td>Lt. Dick Sims</td>\n",
       "      <td>5.0</td>\n",
       "    </tr>\n",
       "    <tr>\n",
       "      <th>4</th>\n",
       "      <td>Bad Ideas</td>\n",
       "      <td>2012</td>\n",
       "      <td>Hamid .</td>\n",
       "      <td>actor</td>\n",
       "      <td>The Diner</td>\n",
       "      <td>NaN</td>\n",
       "    </tr>\n",
       "  </tbody>\n",
       "</table>\n",
       "</div>"
      ],
      "text/plain": [
       "                             title  year                   name   type  \\\n",
       "0  In the Land of the Head Hunters  1914           Paddy 'Malid  actor   \n",
       "1           The Colour of Darkness  2016    Ketan Daraji -Gohel  actor   \n",
       "2                     London Betty  2009  Isaiah Entsua -Mensah  actor   \n",
       "3                       Candelabra  2014              Groovin .  actor   \n",
       "4                        Bad Ideas  2012                Hamid .  actor   \n",
       "\n",
       "       character    n  \n",
       "0         Kenada  5.0  \n",
       "1        Chhagan  NaN  \n",
       "2     Camera Man  NaN  \n",
       "3  Lt. Dick Sims  5.0  \n",
       "4      The Diner  NaN  "
      ]
     },
     "execution_count": 155,
     "metadata": {},
     "output_type": "execute_result"
    }
   ],
   "source": [
    "cast.head()"
   ]
  },
  {
   "cell_type": "code",
   "execution_count": 6,
   "metadata": {},
   "outputs": [
    {
     "data": {
      "text/plain": [
       "0         In the Land of the Head Hunters\n",
       "1                  The Colour of Darkness\n",
       "2                            London Betty\n",
       "3                              Candelabra\n",
       "4                               Bad Ideas\n",
       "                       ...               \n",
       "422955                    Two Way Stretch\n",
       "422956                       Up the Creek\n",
       "422957             Waltz of the Toreadors\n",
       "422958                What's New Pussycat\n",
       "422959                Where Does It Hurt?\n",
       "Name: title, Length: 422960, dtype: object"
      ]
     },
     "execution_count": 6,
     "metadata": {},
     "output_type": "execute_result"
    }
   ],
   "source": [
    "cast[\"title\"]"
   ]
  },
  {
   "cell_type": "markdown",
   "metadata": {},
   "source": [
    "Please have a look at the columns of the `cast` `DataFrame`and make sure you understand what information it contains. A row uniquely identifies a role in a film; it contains the film title, the year the file was made, the name of the actor or actress playing the role, and the name of the character they played.  The number in the `'n'` column represents the importance of the part, with the lead role receiving a 1 and all less important roles receiving higher numbers. \n",
    "\n",
    "Sometimes extras are included; with extras included, a big Hollywood production can easily  cast over 1000 actors and will therefore populate over 1000 rows of `cast`.  The character name for the extras will be \"Extra\"."
   ]
  },
  {
   "cell_type": "code",
   "execution_count": 21,
   "metadata": {},
   "outputs": [
    {
     "data": {
      "text/plain": [
       "1299"
      ]
     },
     "execution_count": 21,
     "metadata": {},
     "output_type": "execute_result"
    }
   ],
   "source": [
    "len(cast[(cast['title']  == 'Around the World in 80 Days')&(cast['year']  == 1956)])"
   ]
  },
  {
   "cell_type": "code",
   "execution_count": 22,
   "metadata": {},
   "outputs": [
    {
     "data": {
      "text/html": [
       "<div>\n",
       "<style scoped>\n",
       "    .dataframe tbody tr th:only-of-type {\n",
       "        vertical-align: middle;\n",
       "    }\n",
       "\n",
       "    .dataframe tbody tr th {\n",
       "        vertical-align: top;\n",
       "    }\n",
       "\n",
       "    .dataframe thead th {\n",
       "        text-align: right;\n",
       "    }\n",
       "</style>\n",
       "<table border=\"1\" class=\"dataframe\">\n",
       "  <thead>\n",
       "    <tr style=\"text-align: right;\">\n",
       "      <th></th>\n",
       "      <th>title</th>\n",
       "      <th>year</th>\n",
       "      <th>name</th>\n",
       "      <th>type</th>\n",
       "      <th>character</th>\n",
       "      <th>n</th>\n",
       "    </tr>\n",
       "  </thead>\n",
       "  <tbody>\n",
       "    <tr>\n",
       "      <th>784</th>\n",
       "      <td>Around the World in 80 Days</td>\n",
       "      <td>1956</td>\n",
       "      <td>Ronald Adam</td>\n",
       "      <td>actor</td>\n",
       "      <td>Club Steward</td>\n",
       "      <td>47.0</td>\n",
       "    </tr>\n",
       "    <tr>\n",
       "      <th>7147</th>\n",
       "      <td>Around the World in 80 Days</td>\n",
       "      <td>1956</td>\n",
       "      <td>Ray Arnett</td>\n",
       "      <td>actor</td>\n",
       "      <td>Extra</td>\n",
       "      <td>NaN</td>\n",
       "    </tr>\n",
       "    <tr>\n",
       "      <th>25665</th>\n",
       "      <td>Around the World in 80 Days</td>\n",
       "      <td>1956</td>\n",
       "      <td>Charles Boyer</td>\n",
       "      <td>actor</td>\n",
       "      <td>Monsieur Gasse - Thomas Cook Paris Clerk</td>\n",
       "      <td>5.0</td>\n",
       "    </tr>\n",
       "    <tr>\n",
       "      <th>40928</th>\n",
       "      <td>Around the World in 80 Days</td>\n",
       "      <td>1956</td>\n",
       "      <td>Suey Chan</td>\n",
       "      <td>actor</td>\n",
       "      <td>Extra</td>\n",
       "      <td>NaN</td>\n",
       "    </tr>\n",
       "    <tr>\n",
       "      <th>44164</th>\n",
       "      <td>Around the World in 80 Days</td>\n",
       "      <td>1956</td>\n",
       "      <td>Martin Cichy</td>\n",
       "      <td>actor</td>\n",
       "      <td>Bartender</td>\n",
       "      <td>NaN</td>\n",
       "    </tr>\n",
       "  </tbody>\n",
       "</table>\n",
       "</div>"
      ],
      "text/plain": [
       "                             title  year           name   type  \\\n",
       "784    Around the World in 80 Days  1956    Ronald Adam  actor   \n",
       "7147   Around the World in 80 Days  1956     Ray Arnett  actor   \n",
       "25665  Around the World in 80 Days  1956  Charles Boyer  actor   \n",
       "40928  Around the World in 80 Days  1956      Suey Chan  actor   \n",
       "44164  Around the World in 80 Days  1956   Martin Cichy  actor   \n",
       "\n",
       "                                      character     n  \n",
       "784                                Club Steward  47.0  \n",
       "7147                                      Extra   NaN  \n",
       "25665  Monsieur Gasse - Thomas Cook Paris Clerk   5.0  \n",
       "40928                                     Extra   NaN  \n",
       "44164                                 Bartender   NaN  "
      ]
     },
     "execution_count": 22,
     "metadata": {},
     "output_type": "execute_result"
    }
   ],
   "source": [
    "cast[(cast['title']  == 'Around the World in 80 Days')&(cast['year']  == 1956)].head()"
   ]
  },
  {
   "cell_type": "markdown",
   "metadata": {},
   "source": [
    "As shown in the next cell, there are a number of null or `Nan` values in the `'n'` column,\n",
    "roles for which no ``n`-value is available."
   ]
  },
  {
   "cell_type": "code",
   "execution_count": 23,
   "metadata": {
    "scrolled": true
   },
   "outputs": [
    {
     "data": {
      "text/plain": [
       "154710"
      ]
     },
     "execution_count": 23,
     "metadata": {},
     "output_type": "execute_result"
    }
   ],
   "source": [
    "len(cast[cast['n'].isnull()])"
   ]
  },
  {
   "cell_type": "markdown",
   "metadata": {},
   "source": [
    "There are also some very\n",
    "high numbers in the `'n'` column, but not very many of them."
   ]
  },
  {
   "cell_type": "code",
   "execution_count": 24,
   "metadata": {},
   "outputs": [
    {
     "data": {
      "text/plain": [
       "9"
      ]
     },
     "execution_count": 24,
     "metadata": {},
     "output_type": "execute_result"
    }
   ],
   "source": [
    "len(cast[cast['n']>500])"
   ]
  },
  {
   "cell_type": "markdown",
   "metadata": {},
   "source": [
    "Note:  A single actor may play more than one role in a film.  In the example below, both roles are the starring role.  I guess Jackie Chan doesn't take a back seat to anyone."
   ]
  },
  {
   "cell_type": "code",
   "execution_count": 206,
   "metadata": {
    "scrolled": false
   },
   "outputs": [
    {
     "data": {
      "text/html": [
       "<div>\n",
       "<style scoped>\n",
       "    .dataframe tbody tr th:only-of-type {\n",
       "        vertical-align: middle;\n",
       "    }\n",
       "\n",
       "    .dataframe tbody tr th {\n",
       "        vertical-align: top;\n",
       "    }\n",
       "\n",
       "    .dataframe thead th {\n",
       "        text-align: right;\n",
       "    }\n",
       "</style>\n",
       "<table border=\"1\" class=\"dataframe\">\n",
       "  <thead>\n",
       "    <tr style=\"text-align: right;\">\n",
       "      <th></th>\n",
       "      <th>title</th>\n",
       "      <th>year</th>\n",
       "      <th>name</th>\n",
       "      <th>type</th>\n",
       "      <th>character</th>\n",
       "      <th>n</th>\n",
       "    </tr>\n",
       "  </thead>\n",
       "  <tbody>\n",
       "    <tr>\n",
       "      <th>351948</th>\n",
       "      <td>Around the World in 80 Days</td>\n",
       "      <td>2004</td>\n",
       "      <td>Jackie Chan</td>\n",
       "      <td>actor</td>\n",
       "      <td>Passepartout</td>\n",
       "      <td>1.0</td>\n",
       "    </tr>\n",
       "    <tr>\n",
       "      <th>351949</th>\n",
       "      <td>Around the World in 80 Days</td>\n",
       "      <td>2004</td>\n",
       "      <td>Jackie Chan</td>\n",
       "      <td>actor</td>\n",
       "      <td>Lau Xing</td>\n",
       "      <td>1.0</td>\n",
       "    </tr>\n",
       "  </tbody>\n",
       "</table>\n",
       "</div>"
      ],
      "text/plain": [
       "                              title  year         name   type     character  \\\n",
       "351948  Around the World in 80 Days  2004  Jackie Chan  actor  Passepartout   \n",
       "351949  Around the World in 80 Days  2004  Jackie Chan  actor      Lau Xing   \n",
       "\n",
       "          n  \n",
       "351948  1.0  \n",
       "351949  1.0  "
      ]
     },
     "execution_count": 206,
     "metadata": {},
     "output_type": "execute_result"
    }
   ],
   "source": [
    "cast[(cast['title']=='Around the World in 80 Days')&(cast['year']==2004)&(cast['n']==1)]"
   ]
  },
  {
   "cell_type": "code",
   "execution_count": null,
   "metadata": {},
   "outputs": [],
   "source": [
    "pd.crosstab(cast.name,cast.character).sum(axis=1)"
   ]
  },
  {
   "cell_type": "code",
   "execution_count": 56,
   "metadata": {},
   "outputs": [
    {
     "data": {
      "text/plain": [
       "name                 character\n",
       "Herman Hack          Henchman     58\n",
       "Tex Palmer           Henchman     57\n",
       "George Morrell       Townsman     46\n",
       "Blackjack Ward       Henchman     45\n",
       "Jim Corey            Henchman     44\n",
       "Horace B. Carpenter  Townsman     42\n",
       "Tarzan               Tarzan       42\n",
       "Art Dillard          Henchman     41\n",
       "Al Taylor            Henchman     38\n",
       "Don Brodie           Reporter     38\n",
       "Name: count, dtype: int64"
      ]
     },
     "execution_count": 56,
     "metadata": {},
     "output_type": "execute_result"
    }
   ],
   "source": [
    "cast.groupby(\"name\")[\"character\"].value_counts().sort_values(ascending=False)[:10]"
   ]
  },
  {
   "cell_type": "code",
   "execution_count": 50,
   "metadata": {},
   "outputs": [
    {
     "data": {
      "text/plain": [
       "name             character             \n",
       "Herman Hack      Henchman                  58\n",
       "Tex Palmer       Henchman                  57\n",
       "George Morrell   Townsman                  46\n",
       "Blackjack Ward   Henchman                  45\n",
       "Jim Corey        Henchman                  44\n",
       "                                           ..\n",
       "Gay Goodwin      Waitress                   1\n",
       "Gay DeLys        Chorine                    1\n",
       "Gay Christie     Mary Steinweg, Tochter     1\n",
       "Gavril Vitanov   Conductor                  1\n",
       "Þór Jóhannesson  Police Detective 2         1\n",
       "Name: type, Length: 404393, dtype: int64"
      ]
     },
     "execution_count": 50,
     "metadata": {},
     "output_type": "execute_result"
    }
   ],
   "source": [
    "pd.pivot_table(cast,index= (\"name\",\"character\"),\n",
    "               aggfunc=\"count\")[\"type\"].sort_values(ascending=False)"
   ]
  },
  {
   "cell_type": "code",
   "execution_count": 70,
   "metadata": {},
   "outputs": [
    {
     "data": {
      "text/plain": [
       "19.991999999999997"
      ]
     },
     "execution_count": 70,
     "metadata": {},
     "output_type": "execute_result"
    }
   ],
   "source": []
  },
  {
   "cell_type": "markdown",
   "metadata": {},
   "source": [
    "## Part A Questions involving selecting and sorting subsets of the rows in the Dataset"
   ]
  },
  {
   "cell_type": "markdown",
   "metadata": {
    "collapsed": true
   },
   "source": [
    "### A.1 How many movies are listed in the titles dataframe?"
   ]
  },
  {
   "cell_type": "markdown",
   "metadata": {},
   "source": [
    "As an example, we have put the answer in the next cell.  Be sure to execute the cell containing your solution, so that the answer to the question is displayed in the output as it is in this example.\n",
    "\n",
    "For each question, first give some thought to which of the two DataFrames loaded in the section entitled \"Loading the Data\" is best suited to provide an answer."
   ]
  },
  {
   "cell_type": "code",
   "execution_count": 14,
   "metadata": {},
   "outputs": [
    {
     "data": {
      "text/plain": [
       "226013"
      ]
     },
     "execution_count": 14,
     "metadata": {},
     "output_type": "execute_result"
    }
   ],
   "source": [
    "len(titles)"
   ]
  },
  {
   "cell_type": "code",
   "execution_count": null,
   "metadata": {},
   "outputs": [],
   "source": []
  },
  {
   "cell_type": "markdown",
   "metadata": {
    "collapsed": true
   },
   "source": [
    "### A.2 How many movies have the title \"Hamlet\"?"
   ]
  },
  {
   "cell_type": "markdown",
   "metadata": {},
   "source": [
    "Hint: one approach is to use a Boolean mask"
   ]
  },
  {
   "cell_type": "code",
   "execution_count": null,
   "metadata": {},
   "outputs": [],
   "source": []
  },
  {
   "cell_type": "markdown",
   "metadata": {
    "collapsed": true
   },
   "source": [
    "### A.3  When was the first movie titled \"Hamlet\" made?"
   ]
  },
  {
   "cell_type": "code",
   "execution_count": null,
   "metadata": {},
   "outputs": [],
   "source": []
  },
  {
   "cell_type": "markdown",
   "metadata": {
    "collapsed": true
   },
   "source": [
    "### A.4 How many movies were made from 1950 through 1959?"
   ]
  },
  {
   "cell_type": "code",
   "execution_count": null,
   "metadata": {},
   "outputs": [],
   "source": []
  },
  {
   "cell_type": "markdown",
   "metadata": {
    "collapsed": true
   },
   "source": [
    "### A.5 In what years has a movie titled \"Batman\" been released?"
   ]
  },
  {
   "cell_type": "code",
   "execution_count": null,
   "metadata": {
    "scrolled": true
   },
   "outputs": [],
   "source": []
  },
  {
   "cell_type": "markdown",
   "metadata": {
    "collapsed": true
   },
   "source": [
    "###  A.6 How many credited roles are there in the movie \"Inception\"?  We'll interpret  this to mean we should not count roles that have no `n`-value."
   ]
  },
  {
   "cell_type": "markdown",
   "metadata": {},
   "source": [
    "The idea is that some of the rows have `NaN` in the `'n'` column.  These are not\n",
    "values.  To eliminate such rows use the `.notnull()` method."
   ]
  },
  {
   "cell_type": "code",
   "execution_count": null,
   "metadata": {},
   "outputs": [],
   "source": []
  },
  {
   "cell_type": "markdown",
   "metadata": {
    "collapsed": true
   },
   "source": [
    "###  A.7 * How many roles were credited in the version of Hamlet in which Kenneth Branagh plays Hamlet?\n"
   ]
  },
  {
   "cell_type": "code",
   "execution_count": null,
   "metadata": {},
   "outputs": [],
   "source": []
  },
  {
   "cell_type": "markdown",
   "metadata": {
    "collapsed": true
   },
   "source": [
    "### A.8  How many roles for a character named \"Hamlet\" have there been in films not entitled \"Hamlet\"?  "
   ]
  },
  {
   "cell_type": "code",
   "execution_count": null,
   "metadata": {},
   "outputs": [],
   "source": []
  },
  {
   "cell_type": "markdown",
   "metadata": {
    "collapsed": true
   },
   "source": [
    "###  A.8  * How many people have played \"James Bond\" as a leading role?\n",
    "\n",
    "Yes, I'm thinking of the Ian Fleming character that has given rise to a whole film franchise,\n",
    "but I'm going to allow for a little noise.  It\n",
    "turns out that characters named \"James Bond\" have come up many times in film history.  Adding\n",
    "the qualification \"as a leading role\" helps with that.\n",
    "This will still leave in a couple of non-Ian Fleming Bonds, but don't worry.\n",
    "If you just answer the question literally, your\n",
    "answer should be very close to a list of the actors who've played the\n",
    "Ian Fleming character.  By the way,  David Niven will be missing from\n",
    "that list, because the name of the character\n",
    "listed in the credits of his 1967 parody is not \"James Bond\" but \"Sir James Bond\".\n",
    "It's okay to leave out David Niven.  It was a parody, not a real Bond film.\n",
    "\n",
    "Note: Relative to this DB (which is dated), the historically correct answer to the question how many actors played the Ian Fleming character is 6. The literal answer to the question in this DB is \n",
    "greater than 6 because of a few superfluous Bonds, but if your answer is a lot more than 6\n",
    "(greater than 10), then there's an issue with your code.  There is a technical challenge in this question;\n",
    "it is tricky to get exactly the right list of actors.  Pay attention to the English.  It's how many peoples, not how many roles."
   ]
  },
  {
   "cell_type": "markdown",
   "metadata": {
    "collapsed": true
   },
   "source": [
    "###  A.9  *  List the films and the characters in which Paul Newman played a role he had played before.\n",
    "\n",
    "Hint: The `.duplicated()`  method may be of help. \n",
    "\n",
    "Sad note. If you are any kind of Paul Newman fan you will see there is a\n",
    "very important role being left out if you compute this answer in a logical\n",
    "way.  This is because the name of the character\n",
    "has been slightly altered in the second movie.  Don't try to fix this.  Let's\n",
    "just call this data corruption."
   ]
  },
  {
   "cell_type": "code",
   "execution_count": 142,
   "metadata": {},
   "outputs": [],
   "source": []
  },
  {
   "cell_type": "markdown",
   "metadata": {
    "scrolled": true
   },
   "source": [
    "###  A.10  * List all characters whose name contains the string \"Butterfly\" \n",
    "\n",
    "Ignore case.  Your answer should include characters whose name is \"Butterfly\"\n",
    "or \"Monarch the butterfly\", as well as those whose last name is \"Butterfly\" (such as \"Madame Butterfly\"), as well as those whose last name is \"Butterfield\" or \"Butterworth\", and so on.\n",
    "\n",
    "Note:  Try using  a string method on the appropriate column using `.str`."
   ]
  },
  {
   "cell_type": "markdown",
   "metadata": {},
   "source": [
    "## Part B:  Questions needing value_counts, pivot_tables, or cross tabulation\n",
    "\n",
    "There are two series of questions in Part B, questions involving the cast and title\n",
    "data used in Part A, and questions involing a new data set you will load below.   Completing Part B involves answering both series of questions."
   ]
  },
  {
   "cell_type": "markdown",
   "metadata": {
    "collapsed": true
   },
   "source": [
    "Brief discussion of an important issue for the data below.\n",
    "\n",
    "Some of the numbers in the following table are going\n",
    "to be misleading:"
   ]
  },
  {
   "cell_type": "code",
   "execution_count": 19,
   "metadata": {},
   "outputs": [],
   "source": [
    "pt000 = cast.pivot_table(index='title',aggfunc='size').sort_values(ascending=False)"
   ]
  },
  {
   "cell_type": "markdown",
   "metadata": {},
   "source": [
    "It looks as if this might give us film cast sizes (`.size()` tells how many rows in each group, and rows are roles)."
   ]
  },
  {
   "cell_type": "code",
   "execution_count": 24,
   "metadata": {},
   "outputs": [
    {
     "data": {
      "text/plain": [
       "title\n",
       "Around the World in 80 Days     1364\n",
       "Hamlet                           342\n",
       "Mr. Smith Goes to Washington     217\n",
       "Wells Fargo                      193\n",
       "Union Pacific                    183\n",
       "dtype: int64"
      ]
     },
     "execution_count": 24,
     "metadata": {},
     "output_type": "execute_result"
    }
   ],
   "source": [
    "pt000[:5]"
   ]
  },
  {
   "cell_type": "markdown",
   "metadata": {},
   "source": [
    "But that's not quite right: And here's why:"
   ]
  },
  {
   "cell_type": "code",
   "execution_count": 25,
   "metadata": {},
   "outputs": [
    {
     "data": {
      "text/plain": [
       "1364"
      ]
     },
     "execution_count": 25,
     "metadata": {},
     "output_type": "execute_result"
    }
   ],
   "source": [
    "len(cast[cast['title']=='Around the World in 80 Days'])"
   ]
  },
  {
   "cell_type": "code",
   "execution_count": 23,
   "metadata": {
    "scrolled": true
   },
   "outputs": [
    {
     "data": {
      "text/plain": [
       "784       1956\n",
       "7147      1956\n",
       "25665     1956\n",
       "40851     2004\n",
       "40852     2004\n",
       "          ... \n",
       "422807    1956\n",
       "422808    1956\n",
       "422809    2004\n",
       "422810    1956\n",
       "422811    1956\n",
       "Name: year, Length: 1364, dtype: int64"
      ]
     },
     "execution_count": 23,
     "metadata": {},
     "output_type": "execute_result"
    }
   ],
   "source": [
    "cast[cast['title']=='Around the World in 80 Days']['year']"
   ]
  },
  {
   "cell_type": "markdown",
   "metadata": {},
   "source": [
    "So 1364 is actually the size of the combined cast of two films, one made in 1956 and the other in 2004.  Not whjat we thought we were getting.  Let's call this the **remake** issue.  Bear it in mind as you answer the questions below."
   ]
  },
  {
   "cell_type": "markdown",
   "metadata": {},
   "source": [
    "### Discussion question: Of the films made before 1939, which had the largest cast?\n",
    "\n",
    "After you've made a DataFrame containing the set of rows in `cast` that you're interested in,\n",
    "you need to do a computation involving counting.  The question to think about\n",
    "is what you want to count.  You **don't** want to do this:\n",
    "\n",
    "```\n",
    "pd.crosstab(cast_pre_1939['title'],cast_pre_1939['name'])\n",
    "```\n",
    "\n",
    "since after a **very** long computation, this will end up telling you\n",
    "the number of characters each actor/actress played in each film\n",
    "(which is usually 1).\n",
    "\n",
    "So think about the structure of the data.  This is actually pretty simple.\n"
   ]
  },
  {
   "cell_type": "markdown",
   "metadata": {},
   "source": [
    "Films made before 1939:"
   ]
  },
  {
   "cell_type": "code",
   "execution_count": 60,
   "metadata": {},
   "outputs": [],
   "source": [
    "cast_pre_1939 = cast[cast['year'] < 1939]"
   ]
  },
  {
   "cell_type": "markdown",
   "metadata": {},
   "source": [
    "The simplest answer is **wrong**, because of the remake issue."
   ]
  },
  {
   "cell_type": "code",
   "execution_count": 61,
   "metadata": {},
   "outputs": [
    {
     "data": {
      "text/plain": [
       "title\n",
       "Wells Fargo                   193\n",
       "Mr. Deeds Goes to Town        177\n",
       "The Buccaneer                 172\n",
       "The Merry Widow               164\n",
       "You Can't Take It with You    161\n",
       "Name: count, dtype: int64"
      ]
     },
     "execution_count": 61,
     "metadata": {},
     "output_type": "execute_result"
    }
   ],
   "source": [
    "title_counts_pre_1939 = cast_pre_1939['title'].value_counts()\n",
    "title_counts_pre_1939.head()"
   ]
  },
  {
   "cell_type": "markdown",
   "metadata": {},
   "source": [
    "Consider:"
   ]
  },
  {
   "cell_type": "code",
   "execution_count": 62,
   "metadata": {},
   "outputs": [
    {
     "data": {
      "text/plain": [
       "37"
      ]
     },
     "execution_count": 62,
     "metadata": {},
     "output_type": "execute_result"
    }
   ],
   "source": [
    "title_counts_pre_1939[\"Hamlet\"]"
   ]
  },
  {
   "cell_type": "markdown",
   "metadata": {},
   "source": [
    "It's wrong because a film title like  \"Hamlet\" has had  many remakes and\n",
    "`title_counts_pre_1939` conflates these films:"
   ]
  },
  {
   "cell_type": "code",
   "execution_count": 63,
   "metadata": {},
   "outputs": [
    {
     "data": {
      "text/plain": [
       "array([1921, 1913, 1911, 1910])"
      ]
     },
     "execution_count": 63,
     "metadata": {},
     "output_type": "execute_result"
    }
   ],
   "source": [
    "cast_pre_1939[cast_pre_1939['title'] == 'Hamlet']['year'].unique()"
   ]
  },
  {
   "cell_type": "markdown",
   "metadata": {},
   "source": [
    "Any solution that groups by year and title will avoid this probem.  For example:"
   ]
  },
  {
   "cell_type": "code",
   "execution_count": 64,
   "metadata": {},
   "outputs": [
    {
     "data": {
      "text/plain": [
       "year\n",
       "1910     1\n",
       "1911     6\n",
       "1913    21\n",
       "1921     9\n",
       "Name: character, dtype: int64"
      ]
     },
     "execution_count": 64,
     "metadata": {},
     "output_type": "execute_result"
    }
   ],
   "source": [
    "cgp1939= cast_pre_1939.groupby(['title','year'])['character'].count()\n",
    "cgp1939.loc[\"Hamlet\"]"
   ]
  },
  {
   "cell_type": "markdown",
   "metadata": {},
   "source": [
    "These are the correct cast counts for versiuonbs of \"Hamlet\" made before 1939:"
   ]
  },
  {
   "cell_type": "markdown",
   "metadata": {
    "collapsed": true
   },
   "source": [
    "### B.1 Of the films made in either 1939 or 1966, what films had a cast size of 90 or more but fewer than 100?\n",
    "\n",
    "\n",
    "After you've made a DataFrame containing the set of rows in `cast` that you're interested in,\n",
    "you again need to do a computation that's counts cast members on films.   There is a simple computation  that seems to give you the cast sizes of all films.\n",
    "\n",
    "But to answer this question correctly,  you will need to\n",
    "come up with a slightly more complicated answer. The issue to\n",
    "think about is remakes.  In fact in 1966 there were some remakes of\n",
    "great 1939 films.  How should that affect your answer to this\n",
    "problem?\n"
   ]
  },
  {
   "cell_type": "code",
   "execution_count": 168,
   "metadata": {},
   "outputs": [],
   "source": []
  },
  {
   "cell_type": "markdown",
   "metadata": {},
   "source": [
    "###  B.2 * What character has been played the most times by a single actor in a starring role?"
   ]
  },
  {
   "cell_type": "code",
   "execution_count": null,
   "metadata": {},
   "outputs": [],
   "source": []
  },
  {
   "cell_type": "markdown",
   "metadata": {},
   "source": [
    "### B.3 Produce a pie  chart showing what percentages of all roles go to actors and actresses respectively (so, a two color pie chart)\n",
    "\n",
    "Note:  This can be done with a `.plot()` method called on a pandas `DataFrame` or `Series`.  See if you can figure out how to make that happen.   No pivot table or any grouping operation required."
   ]
  },
  {
   "cell_type": "code",
   "execution_count": null,
   "metadata": {},
   "outputs": [],
   "source": []
  },
  {
   "cell_type": "markdown",
   "metadata": {},
   "source": [
    "### B.4 * Plot the percentages of all roles that are female year by year for the century from 1917 through 2017\n",
    "\n",
    "You are continuing your study of the imbalance of male and female roles.  Years on the x-axis, one line tracking the percentage of female roles.\n",
    "\n",
    "This is Time Series data. Do a second plot that smooths this jiggly plot and **highlights the trend** by plotting the rolling  mean of the percentage of actress roles, using a 10 year window. Hint: Look at the `.rolling()` method.   Or even better, for extra glory, get both plots in the same subplot (the matplotlib term is \"the same axis\"). So you will have one pair of x,y axes and two lines in the plot, one a smoother version of the other."
   ]
  },
  {
   "cell_type": "markdown",
   "metadata": {},
   "source": [
    "###   B.5  * Among actresses who have roles in more than 3 decades, what actress has the largest average number of roles per decade?  What is that average number of roles?\n",
    "\n",
    "\n",
    "Here is an important wrinkle in computing averages.  We have data for 14 decades (1890s through 2020s).  For each actress, compute her average roles per decade by averaging only over decades in which she had roles. Consider, for example, the actress Grace Hayle, who had 104 roles in the 1930s and no roles in any other decade. Her average roles per decade should be 104, not 104/14.  Of course that average isn't a candidate for the answer to this question, since she didn't have roles in more than 3 decades.\n",
    "\n"
   ]
  },
  {
   "cell_type": "markdown",
   "metadata": {},
   "source": [
    "\n",
    "### C.1 A new dataset.  Load the word frequency data from the following URL.\n",
    "\n",
    "\n",
    "```python\n",
    "\"https://www.kilgarriff.co.uk/BNClists/lemma.num\"\n",
    "```\n",
    "\n",
    "This is frequency data compiled from the **British National Corpus**\n",
    "a balanced data set of English texts of\n",
    "about 100 million words. You should use the pandas function `read_csv` to read the\n",
    "tabular data from the above URL.  The DataFrame should have the following format,\n",
    "\n",
    "```\n",
    "\n",
    "   Word     Rank    Freq\t Pos\n",
    "\t\t\t\n",
    " 0  the\t      1\t   6187267\tdet\n",
    " 1  be\t      2\t   4239632\tv\n",
    "...\n",
    "```\n",
    "\n",
    "In other words, there should be four columns named \"Word\", \"Rank\", Freq\" and \"Pos\"\n",
    "(the order doesn't matter).  The display above shows the first two rows.  Make sure you\n",
    "don't lose any rows of data. This will take a small bit of tweaking of the\n",
    "arguments of `read_csv`.\n",
    "\n",
    "The counts in this data are **lemma** counts. The lemma of a word is\n",
    "the form used in its dictionary entry.  When we refer to\n",
    "lemma properties we are referring to properties that apply \n",
    "equally to all forms of a word, such as its meaning.   What that means for this\n",
    "data set is that the counts in the\n",
    "`\"Freq\"` column combine the counts of all forms of the word in the `\"Word\"` column.\n",
    "For example, the count for *be* in the second row combines\n",
    "the counts for all forms the verb *be*, including *is*, *are*, *was*, *were*, and\n",
    "*being*.\n",
    "\n",
    "\n",
    "**Answer the following question**.  Does the index provide a complete vocabulary list for\n",
    "all the  words in the BNC corpus, or has it been truncated in some way?  Why\n",
    "or why not?\n",
    "\n",
    "**Important note**:  If you have trouble getting this data loaded in the proper format, please ask for\n",
    "help.  The answers to all the following questions depend on getting this one right.  And you can;t even get partial credit for nthose questions without getting this one right."
   ]
  },
  {
   "cell_type": "code",
   "execution_count": null,
   "metadata": {},
   "outputs": [],
   "source": []
  },
  {
   "cell_type": "markdown",
   "metadata": {},
   "source": [
    "### C.2 Use the word frequency data just loaded to get the total word counts by part of speech (Pos)\n",
    "\n",
    "Note:  the numbers should mostly be in the millions.\n",
    "\n",
    "**Answer the following question**:  What part of speech occurs  the least number of times?"
   ]
  },
  {
   "cell_type": "code",
   "execution_count": null,
   "metadata": {},
   "outputs": [],
   "source": []
  },
  {
   "cell_type": "markdown",
   "metadata": {},
   "source": [
    "### C.3 Using the word frequency data again, plot the rank versus the frequency\n",
    "\n",
    "Demonstrate something called **Zipf's Law** by using a log scale for both\n",
    "your x- and your y- axes.  Note:   This plot is pretty uninteresting\n",
    "if you don't do this."
   ]
  },
  {
   "cell_type": "code",
   "execution_count": null,
   "metadata": {},
   "outputs": [],
   "source": []
  },
  {
   "cell_type": "markdown",
   "metadata": {},
   "source": [
    "### C.4 * Using the BNC word frequency data again, find the word with the most parts of speech.  What are those parts of speech?"
   ]
  },
  {
   "cell_type": "code",
   "execution_count": null,
   "metadata": {},
   "outputs": [],
   "source": []
  },
  {
   "cell_type": "markdown",
   "metadata": {},
   "source": [
    "### C.5  Using the BNC word frequency data again, find all words that can be both verbs and nouns and count them.  What percentage of nouns can also be verbs?"
   ]
  },
  {
   "cell_type": "code",
   "execution_count": null,
   "metadata": {},
   "outputs": [],
   "source": []
  }
 ],
 "metadata": {
  "kernelspec": {
   "display_name": "Python 3 (ipykernel)",
   "language": "python",
   "name": "python3"
  },
  "language_info": {
   "codemirror_mode": {
    "name": "ipython",
    "version": 3
   },
   "file_extension": ".py",
   "mimetype": "text/x-python",
   "name": "python",
   "nbconvert_exporter": "python",
   "pygments_lexer": "ipython3",
   "version": "3.12.5"
  }
 },
 "nbformat": 4,
 "nbformat_minor": 1
}
