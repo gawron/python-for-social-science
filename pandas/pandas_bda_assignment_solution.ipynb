{
 "cells": [
  {
   "cell_type": "markdown",
   "metadata": {},
   "source": [
    "The problems in this notebook are adapted from Brandon Rhodes's Pycon `pandas` tutorial."
   ]
  },
  {
   "cell_type": "markdown",
   "metadata": {},
   "source": [
    "# Pandas assignment"
   ]
  },
  {
   "cell_type": "markdown",
   "metadata": {},
   "source": [
    "## Loading the data"
   ]
  },
  {
   "cell_type": "markdown",
   "metadata": {},
   "source": [
    "This notebook loads a fragment of a larger dataset from the course website.  Everything\n",
    "you need to complete this assignment is included in the **fragment loaded in this section**\n",
    "in the cells below. \n",
    "\n",
    "For those who want to have the entire IMDB-derived dataset, here are some pointers.\n",
    "\n",
    "Loading the entire IMDB data set used for these tutorial exercises is best done by \n",
    "visiting [Brandon Rhodes' github repo](https://github.com/brandon-rhodes/pycon-pandas-tutorial)\n",
    "and following the instructions.  You can either download a big zip file or, if you have `git` (the main\n",
    "github API function) installed on your machine, do a `git clone` command. \n",
    "In addition to that, \n",
    "you will need to download 4 compressed files by ftp that Rhodes\n",
    "provides links to.  You can then run code\n",
    "from Rhodes' cloned repo to create the non-truncated version CSV files used in these exercises.\n",
    "\n",
    "The statistics\n",
    "in the Part B answers will not be correct until you load the complete dataset.  But\n",
    "you can complete the assignment on the fragment, since I will be evaluating your code,\n",
    "not the accuracy of your statistics."
   ]
  },
  {
   "cell_type": "code",
   "execution_count": 1,
   "metadata": {},
   "outputs": [],
   "source": [
    "import pandas as pd\n",
    "import os.path\n",
    "import urllib.request \n",
    "import os.path\n",
    "from matplotlib import pyplot as plt\n",
    "\n",
    "url_dir = 'https://gawron.sdsu.edu/python_for_ss/course_core/data'"
   ]
  },
  {
   "cell_type": "markdown",
   "metadata": {},
   "source": [
    "Loading and applying the style sheets in the next two cells customizes the styles of your notebook output,\n",
    "in particular for how pandas `DataFrame`s are printed.\n",
    "\n",
    "This is optional,  but it's interesting if you know anything about css files."
   ]
  },
  {
   "cell_type": "code",
   "execution_count": 2,
   "metadata": {},
   "outputs": [],
   "source": [
    "target_url1 = os.path.join(url_dir,'style-notebook.css')\n",
    "target_url2 = os.path.join(url_dir,'style-table.css')\n",
    "\n",
    "with urllib.request.urlopen(target_url1) as fh1:\n",
    "    css1 = fh1.read().decode('utf8')\n",
    "with urllib.request.urlopen(target_url2) as fh2:\n",
    "    css2 = fh2.read().decode('utf8')\n",
    "css = css1 + css2"
   ]
  },
  {
   "cell_type": "code",
   "execution_count": 3,
   "metadata": {},
   "outputs": [
    {
     "data": {
      "text/html": [
       "<style>h3 {\n",
       "    color: white;\n",
       "    background-color: black;\n",
       "    padding: 0.5em;\n",
       "}\n",
       "body {\n",
       "    margin: 0;\n",
       "    font-family: Helvetica;\n",
       "}\n",
       "table.dataframe {\n",
       "    border-collapse: collapse;\n",
       "    border: none;\n",
       "}\n",
       "table.dataframe tr {\n",
       "    border: none;\n",
       "}\n",
       "table.dataframe td, table.dataframe th {\n",
       "    margin: 0;\n",
       "    border: 1px solid white;\n",
       "    padding-left: 0.25em;\n",
       "    padding-right: 0.25em;\n",
       "}\n",
       "table.dataframe th:not(:empty) {\n",
       "    background-color: #fec;\n",
       "    text-align: left;\n",
       "    font-weight: normal;\n",
       "}\n",
       "table.dataframe tr:nth-child(2) th:empty {\n",
       "    border-left: none;\n",
       "    border-right: 1px dashed #888;\n",
       "}\n",
       "table.dataframe td {\n",
       "    border: 2px solid #ccf;\n",
       "    background-color: #f4f4ff;\n",
       "}\n",
       "</style>"
      ],
      "text/plain": [
       "<IPython.core.display.HTML object>"
      ]
     },
     "execution_count": 3,
     "metadata": {},
     "output_type": "execute_result"
    }
   ],
   "source": [
    "from IPython.core.display import HTML\n",
    "#css = open('style-table.css').read() + open('style-notebook.css').read()\n",
    "HTML('<style>{}</style>'.format(css))"
   ]
  },
  {
   "cell_type": "markdown",
   "metadata": {},
   "source": [
    "The next cell loads the `titles` DataFrame, the first of two used in this assignment."
   ]
  },
  {
   "cell_type": "code",
   "execution_count": 218,
   "metadata": {},
   "outputs": [
    {
     "data": {
      "text/html": [
       "<div>\n",
       "<style scoped>\n",
       "    .dataframe tbody tr th:only-of-type {\n",
       "        vertical-align: middle;\n",
       "    }\n",
       "\n",
       "    .dataframe tbody tr th {\n",
       "        vertical-align: top;\n",
       "    }\n",
       "\n",
       "    .dataframe thead th {\n",
       "        text-align: right;\n",
       "    }\n",
       "</style>\n",
       "<table border=\"1\" class=\"dataframe\">\n",
       "  <thead>\n",
       "    <tr style=\"text-align: right;\">\n",
       "      <th></th>\n",
       "      <th>title</th>\n",
       "      <th>year</th>\n",
       "    </tr>\n",
       "  </thead>\n",
       "  <tbody>\n",
       "    <tr>\n",
       "      <th>0</th>\n",
       "      <td>The Patriarchs</td>\n",
       "      <td>2009</td>\n",
       "    </tr>\n",
       "    <tr>\n",
       "      <th>1</th>\n",
       "      <td>Angels in the Attic</td>\n",
       "      <td>1998</td>\n",
       "    </tr>\n",
       "    <tr>\n",
       "      <th>2</th>\n",
       "      <td>The Rapture</td>\n",
       "      <td>1991</td>\n",
       "    </tr>\n",
       "    <tr>\n",
       "      <th>3</th>\n",
       "      <td>Star na si Van Damme Stallone</td>\n",
       "      <td>2016</td>\n",
       "    </tr>\n",
       "    <tr>\n",
       "      <th>4</th>\n",
       "      <td>Sweet Talk</td>\n",
       "      <td>2004</td>\n",
       "    </tr>\n",
       "  </tbody>\n",
       "</table>\n",
       "</div>"
      ],
      "text/plain": [
       "                           title  year\n",
       "0                 The Patriarchs  2009\n",
       "1            Angels in the Attic  1998\n",
       "2                    The Rapture  1991\n",
       "3  Star na si Van Damme Stallone  2016\n",
       "4                     Sweet Talk  2004"
      ]
     },
     "execution_count": 218,
     "metadata": {},
     "output_type": "execute_result"
    }
   ],
   "source": [
    "titles = pd.read_csv(os.path.join(url_dir,'titles.csv'))\n",
    "titles.head()"
   ]
  },
  {
   "cell_type": "markdown",
   "metadata": {},
   "source": [
    "The next cell loads the `cast` DataFrame, the second of two used in this assignment."
   ]
  },
  {
   "cell_type": "code",
   "execution_count": 373,
   "metadata": {},
   "outputs": [
    {
     "data": {
      "text/html": [
       "<div>\n",
       "<style scoped>\n",
       "    .dataframe tbody tr th:only-of-type {\n",
       "        vertical-align: middle;\n",
       "    }\n",
       "\n",
       "    .dataframe tbody tr th {\n",
       "        vertical-align: top;\n",
       "    }\n",
       "\n",
       "    .dataframe thead th {\n",
       "        text-align: right;\n",
       "    }\n",
       "</style>\n",
       "<table border=\"1\" class=\"dataframe\">\n",
       "  <thead>\n",
       "    <tr style=\"text-align: right;\">\n",
       "      <th></th>\n",
       "      <th>title</th>\n",
       "      <th>year</th>\n",
       "      <th>name</th>\n",
       "      <th>type</th>\n",
       "      <th>character</th>\n",
       "      <th>n</th>\n",
       "    </tr>\n",
       "  </thead>\n",
       "  <tbody>\n",
       "    <tr>\n",
       "      <th>0</th>\n",
       "      <td>In the Land of the Head Hunters</td>\n",
       "      <td>1914</td>\n",
       "      <td>Paddy 'Malid</td>\n",
       "      <td>actor</td>\n",
       "      <td>Kenada</td>\n",
       "      <td>5.0</td>\n",
       "    </tr>\n",
       "    <tr>\n",
       "      <th>1</th>\n",
       "      <td>The Colour of Darkness</td>\n",
       "      <td>2016</td>\n",
       "      <td>Ketan Daraji -Gohel</td>\n",
       "      <td>actor</td>\n",
       "      <td>Chhagan</td>\n",
       "      <td>NaN</td>\n",
       "    </tr>\n",
       "    <tr>\n",
       "      <th>2</th>\n",
       "      <td>London Betty</td>\n",
       "      <td>2009</td>\n",
       "      <td>Isaiah Entsua -Mensah</td>\n",
       "      <td>actor</td>\n",
       "      <td>Camera Man</td>\n",
       "      <td>NaN</td>\n",
       "    </tr>\n",
       "    <tr>\n",
       "      <th>3</th>\n",
       "      <td>Candelabra</td>\n",
       "      <td>2014</td>\n",
       "      <td>Groovin .</td>\n",
       "      <td>actor</td>\n",
       "      <td>Lt. Dick Sims</td>\n",
       "      <td>5.0</td>\n",
       "    </tr>\n",
       "    <tr>\n",
       "      <th>4</th>\n",
       "      <td>Bad Ideas</td>\n",
       "      <td>2012</td>\n",
       "      <td>Hamid .</td>\n",
       "      <td>actor</td>\n",
       "      <td>The Diner</td>\n",
       "      <td>NaN</td>\n",
       "    </tr>\n",
       "  </tbody>\n",
       "</table>\n",
       "</div>"
      ],
      "text/plain": [
       "                             title  year                   name   type  \\\n",
       "0  In the Land of the Head Hunters  1914           Paddy 'Malid  actor   \n",
       "1           The Colour of Darkness  2016    Ketan Daraji -Gohel  actor   \n",
       "2                     London Betty  2009  Isaiah Entsua -Mensah  actor   \n",
       "3                       Candelabra  2014              Groovin .  actor   \n",
       "4                        Bad Ideas  2012                Hamid .  actor   \n",
       "\n",
       "       character    n  \n",
       "0         Kenada  5.0  \n",
       "1        Chhagan  NaN  \n",
       "2     Camera Man  NaN  \n",
       "3  Lt. Dick Sims  5.0  \n",
       "4      The Diner  NaN  "
      ]
     },
     "execution_count": 373,
     "metadata": {},
     "output_type": "execute_result"
    }
   ],
   "source": [
    "cast = pd.read_csv(os.path.join(url_dir,'truncated_cast.csv'),index_col=0)\n",
    "#rel_data_dir = \"../python-for-social-science-solutions/final_assignment_2023/data\" \n",
    "#cast = pd.read_csv(os.path.join(rel_data_dir,'cast.csv'))\n",
    "cast.head()"
   ]
  },
  {
   "cell_type": "markdown",
   "metadata": {},
   "source": [
    "Please have a look at the columns and make sure you understand the DataFrame. A row uniquely identifies\n",
    "a role in a film.  It gives the film title, the year, the actor or actress name, and the name of the\n",
    "character they played.  The number in the `'n'` column gives the importance of the part, with\n",
    "the lead role receiving a 1 and all less important roles receiving higher numbers. "
   ]
  },
  {
   "cell_type": "code",
   "execution_count": 7,
   "metadata": {},
   "outputs": [
    {
     "data": {
      "text/html": [
       "<div>\n",
       "<style scoped>\n",
       "    .dataframe tbody tr th:only-of-type {\n",
       "        vertical-align: middle;\n",
       "    }\n",
       "\n",
       "    .dataframe tbody tr th {\n",
       "        vertical-align: top;\n",
       "    }\n",
       "\n",
       "    .dataframe thead th {\n",
       "        text-align: right;\n",
       "    }\n",
       "</style>\n",
       "<table border=\"1\" class=\"dataframe\">\n",
       "  <thead>\n",
       "    <tr style=\"text-align: right;\">\n",
       "      <th></th>\n",
       "      <th>title</th>\n",
       "      <th>year</th>\n",
       "      <th>name</th>\n",
       "      <th>type</th>\n",
       "      <th>character</th>\n",
       "      <th>n</th>\n",
       "    </tr>\n",
       "  </thead>\n",
       "  <tbody>\n",
       "    <tr>\n",
       "      <th>93654</th>\n",
       "      <td>Kiss Them for Me</td>\n",
       "      <td>1957</td>\n",
       "      <td>Cary Grant</td>\n",
       "      <td>actor</td>\n",
       "      <td>Cmdr. Andy Crewson</td>\n",
       "      <td>1.0</td>\n",
       "    </tr>\n",
       "    <tr>\n",
       "      <th>93689</th>\n",
       "      <td>The Pride and the Passion</td>\n",
       "      <td>1957</td>\n",
       "      <td>Cary Grant</td>\n",
       "      <td>actor</td>\n",
       "      <td>Anthony</td>\n",
       "      <td>1.0</td>\n",
       "    </tr>\n",
       "    <tr>\n",
       "      <th>95607</th>\n",
       "      <td>Guns Don't Argue</td>\n",
       "      <td>1957</td>\n",
       "      <td>Billy Griffith</td>\n",
       "      <td>actor</td>\n",
       "      <td>Bucher</td>\n",
       "      <td>NaN</td>\n",
       "    </tr>\n",
       "    <tr>\n",
       "      <th>95610</th>\n",
       "      <td>Les Girls</td>\n",
       "      <td>1957</td>\n",
       "      <td>Billy Griffith</td>\n",
       "      <td>actor</td>\n",
       "      <td>Pedestrian</td>\n",
       "      <td>NaN</td>\n",
       "    </tr>\n",
       "    <tr>\n",
       "      <th>95930</th>\n",
       "      <td>Comme un cheveu sur la soupe</td>\n",
       "      <td>1957</td>\n",
       "      <td>Gib Grossac</td>\n",
       "      <td>actor</td>\n",
       "      <td>Le nouveau fiancé de Wanda</td>\n",
       "      <td>NaN</td>\n",
       "    </tr>\n",
       "    <tr>\n",
       "      <th>96443</th>\n",
       "      <td>Les violents</td>\n",
       "      <td>1957</td>\n",
       "      <td>Paul Guers</td>\n",
       "      <td>actor</td>\n",
       "      <td>Philippe de Coppet</td>\n",
       "      <td>7.0</td>\n",
       "    </tr>\n",
       "    <tr>\n",
       "      <th>97362</th>\n",
       "      <td>Wer die Heimat liebt</td>\n",
       "      <td>1957</td>\n",
       "      <td>Peter Göller</td>\n",
       "      <td>actor</td>\n",
       "      <td>Lenz Hochegger</td>\n",
       "      <td>8.0</td>\n",
       "    </tr>\n",
       "    <tr>\n",
       "      <th>97532</th>\n",
       "      <td>Hit and Run</td>\n",
       "      <td>1957</td>\n",
       "      <td>Hugo Haas</td>\n",
       "      <td>actor</td>\n",
       "      <td>Twin Brother</td>\n",
       "      <td>2.0</td>\n",
       "    </tr>\n",
       "    <tr>\n",
       "      <th>97536</th>\n",
       "      <td>Lizzie</td>\n",
       "      <td>1957</td>\n",
       "      <td>Hugo Haas</td>\n",
       "      <td>actor</td>\n",
       "      <td>Walter Brenner</td>\n",
       "      <td>4.0</td>\n",
       "    </tr>\n",
       "    <tr>\n",
       "      <th>97747</th>\n",
       "      <td>The Buckskin Lady</td>\n",
       "      <td>1957</td>\n",
       "      <td>Herman Hack</td>\n",
       "      <td>actor</td>\n",
       "      <td>Trager</td>\n",
       "      <td>NaN</td>\n",
       "    </tr>\n",
       "    <tr>\n",
       "      <th>98099</th>\n",
       "      <td>Operation Mad Ball</td>\n",
       "      <td>1957</td>\n",
       "      <td>Michael Hagan</td>\n",
       "      <td>actor</td>\n",
       "      <td>Jarvis</td>\n",
       "      <td>NaN</td>\n",
       "    </tr>\n",
       "    <tr>\n",
       "      <th>98306</th>\n",
       "      <td>The Guns of Fort Petticoat</td>\n",
       "      <td>1957</td>\n",
       "      <td>Frank Hagney</td>\n",
       "      <td>actor</td>\n",
       "      <td>Blacksmith</td>\n",
       "      <td>NaN</td>\n",
       "    </tr>\n",
       "    <tr>\n",
       "      <th>100455</th>\n",
       "      <td>Guns Don't Argue</td>\n",
       "      <td>1957</td>\n",
       "      <td>Frank Hamer</td>\n",
       "      <td>actor</td>\n",
       "      <td>Himself (Texas Ranger)</td>\n",
       "      <td>NaN</td>\n",
       "    </tr>\n",
       "    <tr>\n",
       "      <th>101226</th>\n",
       "      <td>Escapade</td>\n",
       "      <td>1957</td>\n",
       "      <td>Roger Hanin</td>\n",
       "      <td>actor</td>\n",
       "      <td>Olivier</td>\n",
       "      <td>3.0</td>\n",
       "    </tr>\n",
       "    <tr>\n",
       "      <th>101396</th>\n",
       "      <td>Ride Out for Revenge</td>\n",
       "      <td>1957</td>\n",
       "      <td>Chick Hannan</td>\n",
       "      <td>actor</td>\n",
       "      <td>Townsman</td>\n",
       "      <td>NaN</td>\n",
       "    </tr>\n",
       "  </tbody>\n",
       "</table>\n",
       "</div>"
      ],
      "text/plain": [
       "                               title  year            name   type  \\\n",
       "93654               Kiss Them for Me  1957      Cary Grant  actor   \n",
       "93689      The Pride and the Passion  1957      Cary Grant  actor   \n",
       "95607               Guns Don't Argue  1957  Billy Griffith  actor   \n",
       "95610                      Les Girls  1957  Billy Griffith  actor   \n",
       "95930   Comme un cheveu sur la soupe  1957     Gib Grossac  actor   \n",
       "96443                   Les violents  1957      Paul Guers  actor   \n",
       "97362           Wer die Heimat liebt  1957    Peter Göller  actor   \n",
       "97532                    Hit and Run  1957       Hugo Haas  actor   \n",
       "97536                         Lizzie  1957       Hugo Haas  actor   \n",
       "97747              The Buckskin Lady  1957     Herman Hack  actor   \n",
       "98099             Operation Mad Ball  1957   Michael Hagan  actor   \n",
       "98306     The Guns of Fort Petticoat  1957    Frank Hagney  actor   \n",
       "100455              Guns Don't Argue  1957     Frank Hamer  actor   \n",
       "101226                      Escapade  1957     Roger Hanin  actor   \n",
       "101396          Ride Out for Revenge  1957    Chick Hannan  actor   \n",
       "\n",
       "                         character    n  \n",
       "93654           Cmdr. Andy Crewson  1.0  \n",
       "93689                      Anthony  1.0  \n",
       "95607                       Bucher  NaN  \n",
       "95610                   Pedestrian  NaN  \n",
       "95930   Le nouveau fiancé de Wanda  NaN  \n",
       "96443           Philippe de Coppet  7.0  \n",
       "97362               Lenz Hochegger  8.0  \n",
       "97532                 Twin Brother  2.0  \n",
       "97536               Walter Brenner  4.0  \n",
       "97747                       Trager  NaN  \n",
       "98099                       Jarvis  NaN  \n",
       "98306                   Blacksmith  NaN  \n",
       "100455      Himself (Texas Ranger)  NaN  \n",
       "101226                     Olivier  3.0  \n",
       "101396                    Townsman  NaN  "
      ]
     },
     "execution_count": 7,
     "metadata": {},
     "output_type": "execute_result"
    }
   ],
   "source": [
    "cast[cast['year'] == 1957].iloc[135:150]"
   ]
  },
  {
   "cell_type": "markdown",
   "metadata": {},
   "source": [
    "As shown above, there are a number of null or `Nan` values in the `'n'` column.  There are also some very\n",
    "high numbers in the `'n'` column, but not very many of them."
   ]
  },
  {
   "cell_type": "code",
   "execution_count": 8,
   "metadata": {},
   "outputs": [
    {
     "data": {
      "text/plain": [
       "9"
      ]
     },
     "execution_count": 8,
     "metadata": {},
     "output_type": "execute_result"
    }
   ],
   "source": [
    "len(cast[cast['n']>500])"
   ]
  },
  {
   "cell_type": "markdown",
   "metadata": {},
   "source": [
    "A single actor may play more than one role in a film, and both those roles can be the starring role."
   ]
  },
  {
   "cell_type": "code",
   "execution_count": 9,
   "metadata": {
    "scrolled": false
   },
   "outputs": [
    {
     "data": {
      "text/html": [
       "<div>\n",
       "<style scoped>\n",
       "    .dataframe tbody tr th:only-of-type {\n",
       "        vertical-align: middle;\n",
       "    }\n",
       "\n",
       "    .dataframe tbody tr th {\n",
       "        vertical-align: top;\n",
       "    }\n",
       "\n",
       "    .dataframe thead th {\n",
       "        text-align: right;\n",
       "    }\n",
       "</style>\n",
       "<table border=\"1\" class=\"dataframe\">\n",
       "  <thead>\n",
       "    <tr style=\"text-align: right;\">\n",
       "      <th></th>\n",
       "      <th>title</th>\n",
       "      <th>year</th>\n",
       "      <th>name</th>\n",
       "      <th>type</th>\n",
       "      <th>character</th>\n",
       "      <th>n</th>\n",
       "    </tr>\n",
       "  </thead>\n",
       "  <tbody>\n",
       "    <tr>\n",
       "      <th>351948</th>\n",
       "      <td>Around the World in 80 Days</td>\n",
       "      <td>2004</td>\n",
       "      <td>Jackie Chan</td>\n",
       "      <td>actor</td>\n",
       "      <td>Passepartout</td>\n",
       "      <td>1.0</td>\n",
       "    </tr>\n",
       "    <tr>\n",
       "      <th>351949</th>\n",
       "      <td>Around the World in 80 Days</td>\n",
       "      <td>2004</td>\n",
       "      <td>Jackie Chan</td>\n",
       "      <td>actor</td>\n",
       "      <td>Lau Xing</td>\n",
       "      <td>1.0</td>\n",
       "    </tr>\n",
       "  </tbody>\n",
       "</table>\n",
       "</div>"
      ],
      "text/plain": [
       "                              title  year         name   type     character  \\\n",
       "351948  Around the World in 80 Days  2004  Jackie Chan  actor  Passepartout   \n",
       "351949  Around the World in 80 Days  2004  Jackie Chan  actor      Lau Xing   \n",
       "\n",
       "          n  \n",
       "351948  1.0  \n",
       "351949  1.0  "
      ]
     },
     "execution_count": 9,
     "metadata": {},
     "output_type": "execute_result"
    }
   ],
   "source": [
    "cast[(cast['title']=='Around the World in 80 Days')&(cast['year']==2004)&(cast['n']==1)]"
   ]
  },
  {
   "cell_type": "code",
   "execution_count": 254,
   "metadata": {},
   "outputs": [
    {
     "data": {
      "text/html": [
       "<div>\n",
       "<style scoped>\n",
       "    .dataframe tbody tr th:only-of-type {\n",
       "        vertical-align: middle;\n",
       "    }\n",
       "\n",
       "    .dataframe tbody tr th {\n",
       "        vertical-align: top;\n",
       "    }\n",
       "\n",
       "    .dataframe thead th {\n",
       "        text-align: right;\n",
       "    }\n",
       "</style>\n",
       "<table border=\"1\" class=\"dataframe\">\n",
       "  <thead>\n",
       "    <tr style=\"text-align: right;\">\n",
       "      <th></th>\n",
       "      <th>title</th>\n",
       "      <th>year</th>\n",
       "    </tr>\n",
       "  </thead>\n",
       "  <tbody>\n",
       "    <tr>\n",
       "      <th>9506</th>\n",
       "      <td>Hamlet</td>\n",
       "      <td>1910</td>\n",
       "    </tr>\n",
       "    <tr>\n",
       "      <th>21920</th>\n",
       "      <td>Hamlet</td>\n",
       "      <td>1973</td>\n",
       "    </tr>\n",
       "    <tr>\n",
       "      <th>21930</th>\n",
       "      <td>Hamlet</td>\n",
       "      <td>1948</td>\n",
       "    </tr>\n",
       "    <tr>\n",
       "      <th>30008</th>\n",
       "      <td>Hamlet</td>\n",
       "      <td>2009</td>\n",
       "    </tr>\n",
       "    <tr>\n",
       "      <th>32188</th>\n",
       "      <td>Hamlet</td>\n",
       "      <td>2015</td>\n",
       "    </tr>\n",
       "    <tr>\n",
       "      <th>32413</th>\n",
       "      <td>Hamlet</td>\n",
       "      <td>1921</td>\n",
       "    </tr>\n",
       "    <tr>\n",
       "      <th>33695</th>\n",
       "      <td>Hamlet</td>\n",
       "      <td>1976</td>\n",
       "    </tr>\n",
       "    <tr>\n",
       "      <th>52535</th>\n",
       "      <td>Hamlet</td>\n",
       "      <td>2011</td>\n",
       "    </tr>\n",
       "    <tr>\n",
       "      <th>55920</th>\n",
       "      <td>Hamlet</td>\n",
       "      <td>1987</td>\n",
       "    </tr>\n",
       "    <tr>\n",
       "      <th>69511</th>\n",
       "      <td>Hamlet</td>\n",
       "      <td>2017</td>\n",
       "    </tr>\n",
       "    <tr>\n",
       "      <th>70186</th>\n",
       "      <td>Hamlet</td>\n",
       "      <td>1954</td>\n",
       "    </tr>\n",
       "    <tr>\n",
       "      <th>72294</th>\n",
       "      <td>Hamlet</td>\n",
       "      <td>1964</td>\n",
       "    </tr>\n",
       "    <tr>\n",
       "      <th>93662</th>\n",
       "      <td>Hamlet</td>\n",
       "      <td>2014</td>\n",
       "    </tr>\n",
       "    <tr>\n",
       "      <th>115812</th>\n",
       "      <td>Hamlet</td>\n",
       "      <td>1911</td>\n",
       "    </tr>\n",
       "    <tr>\n",
       "      <th>118274</th>\n",
       "      <td>Hamlet</td>\n",
       "      <td>1969</td>\n",
       "    </tr>\n",
       "    <tr>\n",
       "      <th>143387</th>\n",
       "      <td>Hamlet</td>\n",
       "      <td>2016</td>\n",
       "    </tr>\n",
       "    <tr>\n",
       "      <th>150138</th>\n",
       "      <td>Hamlet</td>\n",
       "      <td>1990</td>\n",
       "    </tr>\n",
       "    <tr>\n",
       "      <th>154504</th>\n",
       "      <td>Hamlet</td>\n",
       "      <td>1996</td>\n",
       "    </tr>\n",
       "    <tr>\n",
       "      <th>205676</th>\n",
       "      <td>Hamlet</td>\n",
       "      <td>2000</td>\n",
       "    </tr>\n",
       "    <tr>\n",
       "      <th>215712</th>\n",
       "      <td>Hamlet</td>\n",
       "      <td>1913</td>\n",
       "    </tr>\n",
       "  </tbody>\n",
       "</table>\n",
       "</div>"
      ],
      "text/plain": [
       "         title  year\n",
       "9506    Hamlet  1910\n",
       "21920   Hamlet  1973\n",
       "21930   Hamlet  1948\n",
       "30008   Hamlet  2009\n",
       "32188   Hamlet  2015\n",
       "32413   Hamlet  1921\n",
       "33695   Hamlet  1976\n",
       "52535   Hamlet  2011\n",
       "55920   Hamlet  1987\n",
       "69511   Hamlet  2017\n",
       "70186   Hamlet  1954\n",
       "72294   Hamlet  1964\n",
       "93662   Hamlet  2014\n",
       "115812  Hamlet  1911\n",
       "118274  Hamlet  1969\n",
       "143387  Hamlet  2016\n",
       "150138  Hamlet  1990\n",
       "154504  Hamlet  1996\n",
       "205676  Hamlet  2000\n",
       "215712  Hamlet  1913"
      ]
     },
     "execution_count": 254,
     "metadata": {},
     "output_type": "execute_result"
    }
   ],
   "source": [
    "titles[(titles['title']=='Hamlet')]"
   ]
  },
  {
   "cell_type": "markdown",
   "metadata": {},
   "source": [
    "## Part A Questions involving selecting and sorting subsets of the rows in the Dataset"
   ]
  },
  {
   "cell_type": "markdown",
   "metadata": {
    "collapsed": true
   },
   "source": [
    "### How many movies are listed in the titles dataframe?"
   ]
  },
  {
   "cell_type": "code",
   "execution_count": 10,
   "metadata": {},
   "outputs": [
    {
     "data": {
      "text/plain": [
       "226013"
      ]
     },
     "execution_count": 10,
     "metadata": {},
     "output_type": "execute_result"
    }
   ],
   "source": [
    "len(titles)"
   ]
  },
  {
   "cell_type": "markdown",
   "metadata": {
    "collapsed": true
   },
   "source": [
    "### What are the earliest two films listed in the titles dataframe?"
   ]
  },
  {
   "cell_type": "markdown",
   "metadata": {},
   "source": [
    "Here are three equivalent solutions."
   ]
  },
  {
   "cell_type": "code",
   "execution_count": 12,
   "metadata": {},
   "outputs": [
    {
     "data": {
      "text/html": [
       "<div>\n",
       "<style scoped>\n",
       "    .dataframe tbody tr th:only-of-type {\n",
       "        vertical-align: middle;\n",
       "    }\n",
       "\n",
       "    .dataframe tbody tr th {\n",
       "        vertical-align: top;\n",
       "    }\n",
       "\n",
       "    .dataframe thead th {\n",
       "        text-align: right;\n",
       "    }\n",
       "</style>\n",
       "<table border=\"1\" class=\"dataframe\">\n",
       "  <thead>\n",
       "    <tr style=\"text-align: right;\">\n",
       "      <th></th>\n",
       "      <th>title</th>\n",
       "      <th>year</th>\n",
       "    </tr>\n",
       "  </thead>\n",
       "  <tbody>\n",
       "    <tr>\n",
       "      <th>82467</th>\n",
       "      <td>Miss Jerry</td>\n",
       "      <td>1894</td>\n",
       "    </tr>\n",
       "    <tr>\n",
       "      <th>31347</th>\n",
       "      <td>The Startled Lover</td>\n",
       "      <td>1898</td>\n",
       "    </tr>\n",
       "  </tbody>\n",
       "</table>\n",
       "</div>"
      ],
      "text/plain": [
       "                    title  year\n",
       "82467          Miss Jerry  1894\n",
       "31347  The Startled Lover  1898"
      ]
     },
     "execution_count": 12,
     "metadata": {},
     "output_type": "execute_result"
    }
   ],
   "source": [
    "titles.sort_values(by='year').iloc[:2]"
   ]
  },
  {
   "cell_type": "code",
   "execution_count": 13,
   "metadata": {},
   "outputs": [
    {
     "data": {
      "text/html": [
       "<div>\n",
       "<style scoped>\n",
       "    .dataframe tbody tr th:only-of-type {\n",
       "        vertical-align: middle;\n",
       "    }\n",
       "\n",
       "    .dataframe tbody tr th {\n",
       "        vertical-align: top;\n",
       "    }\n",
       "\n",
       "    .dataframe thead th {\n",
       "        text-align: right;\n",
       "    }\n",
       "</style>\n",
       "<table border=\"1\" class=\"dataframe\">\n",
       "  <thead>\n",
       "    <tr style=\"text-align: right;\">\n",
       "      <th></th>\n",
       "      <th>title</th>\n",
       "      <th>year</th>\n",
       "    </tr>\n",
       "  </thead>\n",
       "  <tbody>\n",
       "    <tr>\n",
       "      <th>82467</th>\n",
       "      <td>Miss Jerry</td>\n",
       "      <td>1894</td>\n",
       "    </tr>\n",
       "    <tr>\n",
       "      <th>31347</th>\n",
       "      <td>The Startled Lover</td>\n",
       "      <td>1898</td>\n",
       "    </tr>\n",
       "  </tbody>\n",
       "</table>\n",
       "</div>"
      ],
      "text/plain": [
       "                    title  year\n",
       "82467          Miss Jerry  1894\n",
       "31347  The Startled Lover  1898"
      ]
     },
     "execution_count": 13,
     "metadata": {},
     "output_type": "execute_result"
    }
   ],
   "source": [
    "titles.sort_values(by='year').head(2)"
   ]
  },
  {
   "cell_type": "markdown",
   "metadata": {},
   "source": [
    "The following is equivalent to the solutions above, but it is not recommended:"
   ]
  },
  {
   "cell_type": "code",
   "execution_count": 23,
   "metadata": {},
   "outputs": [
    {
     "data": {
      "text/html": [
       "<div>\n",
       "<style scoped>\n",
       "    .dataframe tbody tr th:only-of-type {\n",
       "        vertical-align: middle;\n",
       "    }\n",
       "\n",
       "    .dataframe tbody tr th {\n",
       "        vertical-align: top;\n",
       "    }\n",
       "\n",
       "    .dataframe thead th {\n",
       "        text-align: right;\n",
       "    }\n",
       "</style>\n",
       "<table border=\"1\" class=\"dataframe\">\n",
       "  <thead>\n",
       "    <tr style=\"text-align: right;\">\n",
       "      <th></th>\n",
       "      <th>title</th>\n",
       "      <th>year</th>\n",
       "    </tr>\n",
       "  </thead>\n",
       "  <tbody>\n",
       "    <tr>\n",
       "      <th>82467</th>\n",
       "      <td>Miss Jerry</td>\n",
       "      <td>1894</td>\n",
       "    </tr>\n",
       "    <tr>\n",
       "      <th>31347</th>\n",
       "      <td>The Startled Lover</td>\n",
       "      <td>1898</td>\n",
       "    </tr>\n",
       "  </tbody>\n",
       "</table>\n",
       "</div>"
      ],
      "text/plain": [
       "                    title  year\n",
       "82467          Miss Jerry  1894\n",
       "31347  The Startled Lover  1898"
      ]
     },
     "execution_count": 23,
     "metadata": {},
     "output_type": "execute_result"
    }
   ],
   "source": [
    "titles.sort_values(by='year')[:2]"
   ]
  },
  {
   "cell_type": "markdown",
   "metadata": {},
   "source": [
    "Note the solution above does not use `.iloc` and yet it directly accesses the DataFrame by positional indexing.\n",
    "\n",
    "But this is only possible when slicing; normal positional indexing does not work:"
   ]
  },
  {
   "cell_type": "code",
   "execution_count": 9,
   "metadata": {},
   "outputs": [],
   "source": [
    "# This is a Key Error\n",
    "#titles.sort_values(by='year')[2]"
   ]
  },
  {
   "cell_type": "markdown",
   "metadata": {
    "collapsed": true
   },
   "source": [
    "### How many movies have the title \"Hamlet\"?"
   ]
  },
  {
   "cell_type": "markdown",
   "metadata": {},
   "source": [
    "Solution One:  Use a Boolean mask"
   ]
  },
  {
   "cell_type": "code",
   "execution_count": 10,
   "metadata": {},
   "outputs": [
    {
     "data": {
      "text/plain": [
       "20"
      ]
     },
     "execution_count": 10,
     "metadata": {},
     "output_type": "execute_result"
    }
   ],
   "source": [
    "len(titles[titles['title'] == 'Hamlet'])"
   ]
  },
  {
   "cell_type": "markdown",
   "metadata": {},
   "source": [
    "Solution Two:  Sum the `True`s in the Boolean Series"
   ]
  },
  {
   "cell_type": "code",
   "execution_count": 26,
   "metadata": {},
   "outputs": [
    {
     "data": {
      "text/plain": [
       "20"
      ]
     },
     "execution_count": 26,
     "metadata": {},
     "output_type": "execute_result"
    }
   ],
   "source": [
    "(titles['title'] == 'Hamlet').sum()"
   ]
  },
  {
   "cell_type": "markdown",
   "metadata": {},
   "source": [
    "Solution Three:  A little more computationally expensive.  For each title, get the count\n",
    "of the number of movies by that title.  Look up the count for *Hamlet*."
   ]
  },
  {
   "cell_type": "code",
   "execution_count": 27,
   "metadata": {},
   "outputs": [
    {
     "data": {
      "text/plain": [
       "20"
      ]
     },
     "execution_count": 27,
     "metadata": {},
     "output_type": "execute_result"
    }
   ],
   "source": [
    "titles['title'].value_counts()['Hamlet']"
   ]
  },
  {
   "cell_type": "markdown",
   "metadata": {
    "collapsed": true
   },
   "source": [
    "### How many movies are titled \"North by Northwest\"?"
   ]
  },
  {
   "cell_type": "code",
   "execution_count": 28,
   "metadata": {},
   "outputs": [
    {
     "data": {
      "text/plain": [
       "1"
      ]
     },
     "execution_count": 28,
     "metadata": {},
     "output_type": "execute_result"
    }
   ],
   "source": [
    "len(titles[titles['title'] == 'North by Northwest'])"
   ]
  },
  {
   "cell_type": "code",
   "execution_count": null,
   "metadata": {},
   "outputs": [],
   "source": []
  },
  {
   "cell_type": "markdown",
   "metadata": {
    "collapsed": true
   },
   "source": [
    "### When was the first movie titled \"Hamlet\" made?"
   ]
  },
  {
   "cell_type": "code",
   "execution_count": 29,
   "metadata": {},
   "outputs": [
    {
     "data": {
      "text/plain": [
       "1910"
      ]
     },
     "execution_count": 29,
     "metadata": {},
     "output_type": "execute_result"
    }
   ],
   "source": [
    "titles[titles['title'] == 'Hamlet'].sort_values(by='year').iloc[0]['year']"
   ]
  },
  {
   "cell_type": "code",
   "execution_count": null,
   "metadata": {},
   "outputs": [],
   "source": []
  },
  {
   "cell_type": "markdown",
   "metadata": {
    "collapsed": true
   },
   "source": [
    "### List all of the \"Treasure Island\" movies from earliest to most recent."
   ]
  },
  {
   "cell_type": "code",
   "execution_count": 30,
   "metadata": {},
   "outputs": [
    {
     "data": {
      "text/html": [
       "<div>\n",
       "<style scoped>\n",
       "    .dataframe tbody tr th:only-of-type {\n",
       "        vertical-align: middle;\n",
       "    }\n",
       "\n",
       "    .dataframe tbody tr th {\n",
       "        vertical-align: top;\n",
       "    }\n",
       "\n",
       "    .dataframe thead th {\n",
       "        text-align: right;\n",
       "    }\n",
       "</style>\n",
       "<table border=\"1\" class=\"dataframe\">\n",
       "  <thead>\n",
       "    <tr style=\"text-align: right;\">\n",
       "      <th></th>\n",
       "      <th>title</th>\n",
       "      <th>year</th>\n",
       "    </tr>\n",
       "  </thead>\n",
       "  <tbody>\n",
       "    <tr>\n",
       "      <th>96793</th>\n",
       "      <td>Treasure Island</td>\n",
       "      <td>1918</td>\n",
       "    </tr>\n",
       "    <tr>\n",
       "      <th>122654</th>\n",
       "      <td>Treasure Island</td>\n",
       "      <td>1920</td>\n",
       "    </tr>\n",
       "    <tr>\n",
       "      <th>127163</th>\n",
       "      <td>Treasure Island</td>\n",
       "      <td>1934</td>\n",
       "    </tr>\n",
       "    <tr>\n",
       "      <th>169035</th>\n",
       "      <td>Treasure Island</td>\n",
       "      <td>1950</td>\n",
       "    </tr>\n",
       "    <tr>\n",
       "      <th>99795</th>\n",
       "      <td>Treasure Island</td>\n",
       "      <td>1972</td>\n",
       "    </tr>\n",
       "    <tr>\n",
       "      <th>191251</th>\n",
       "      <td>Treasure Island</td>\n",
       "      <td>1973</td>\n",
       "    </tr>\n",
       "    <tr>\n",
       "      <th>135165</th>\n",
       "      <td>Treasure Island</td>\n",
       "      <td>1985</td>\n",
       "    </tr>\n",
       "    <tr>\n",
       "      <th>146471</th>\n",
       "      <td>Treasure Island</td>\n",
       "      <td>1999</td>\n",
       "    </tr>\n",
       "  </tbody>\n",
       "</table>\n",
       "</div>"
      ],
      "text/plain": [
       "                  title  year\n",
       "96793   Treasure Island  1918\n",
       "122654  Treasure Island  1920\n",
       "127163  Treasure Island  1934\n",
       "169035  Treasure Island  1950\n",
       "99795   Treasure Island  1972\n",
       "191251  Treasure Island  1973\n",
       "135165  Treasure Island  1985\n",
       "146471  Treasure Island  1999"
      ]
     },
     "execution_count": 30,
     "metadata": {},
     "output_type": "execute_result"
    }
   ],
   "source": [
    "titles[titles['title'] == 'Treasure Island'].sort_values('year')"
   ]
  },
  {
   "cell_type": "markdown",
   "metadata": {
    "collapsed": true
   },
   "source": [
    "### How many movies were made in the year 1950?"
   ]
  },
  {
   "cell_type": "markdown",
   "metadata": {},
   "source": [
    "Most efficient."
   ]
  },
  {
   "cell_type": "code",
   "execution_count": 92,
   "metadata": {},
   "outputs": [
    {
     "data": {
      "text/plain": [
       "1109"
      ]
     },
     "execution_count": 92,
     "metadata": {},
     "output_type": "execute_result"
    }
   ],
   "source": [
    "(titles['year'] == 1950).sum()"
   ]
  },
  {
   "cell_type": "code",
   "execution_count": 31,
   "metadata": {},
   "outputs": [
    {
     "data": {
      "text/plain": [
       "1109"
      ]
     },
     "execution_count": 31,
     "metadata": {},
     "output_type": "execute_result"
    }
   ],
   "source": [
    "len(titles[titles['year'] == 1950])"
   ]
  },
  {
   "cell_type": "code",
   "execution_count": 95,
   "metadata": {},
   "outputs": [
    {
     "data": {
      "text/plain": [
       "1109"
      ]
     },
     "execution_count": 95,
     "metadata": {},
     "output_type": "execute_result"
    }
   ],
   "source": [
    "titles.loc[titles['year'] == 1950,'title'].count()"
   ]
  },
  {
   "cell_type": "markdown",
   "metadata": {},
   "source": [
    "Computationally most expensive (all value counts in the `'year'` column are computed), but still correct."
   ]
  },
  {
   "cell_type": "code",
   "execution_count": 96,
   "metadata": {},
   "outputs": [
    {
     "data": {
      "text/plain": [
       "1109"
      ]
     },
     "execution_count": 96,
     "metadata": {},
     "output_type": "execute_result"
    }
   ],
   "source": [
    "titles.value_counts('year')[1950]"
   ]
  },
  {
   "cell_type": "markdown",
   "metadata": {
    "collapsed": true
   },
   "source": [
    "### How many movies were made in the year 1960?"
   ]
  },
  {
   "cell_type": "code",
   "execution_count": 82,
   "metadata": {},
   "outputs": [
    {
     "data": {
      "text/plain": [
       "1496"
      ]
     },
     "execution_count": 82,
     "metadata": {},
     "output_type": "execute_result"
    }
   ],
   "source": [
    "len(titles[titles['year'] == 1960])"
   ]
  },
  {
   "cell_type": "markdown",
   "metadata": {
    "collapsed": true
   },
   "source": [
    "### How many movies were made from 1950 through 1959?"
   ]
  },
  {
   "cell_type": "code",
   "execution_count": 97,
   "metadata": {
    "scrolled": true
   },
   "outputs": [
    {
     "data": {
      "text/plain": [
       "12664"
      ]
     },
     "execution_count": 97,
     "metadata": {},
     "output_type": "execute_result"
    }
   ],
   "source": [
    "len(titles[(1950 <= titles['year'])& (titles['year'] <= 1959)])"
   ]
  },
  {
   "cell_type": "code",
   "execution_count": 300,
   "metadata": {},
   "outputs": [
    {
     "data": {
      "text/plain": [
       "12664"
      ]
     },
     "execution_count": 300,
     "metadata": {},
     "output_type": "execute_result"
    }
   ],
   "source": [
    "((titles['year'] >= 1950) & (titles['year'] <= 1959)).sum()"
   ]
  },
  {
   "cell_type": "code",
   "execution_count": 301,
   "metadata": {},
   "outputs": [
    {
     "data": {
      "text/plain": [
       "12664"
      ]
     },
     "execution_count": 301,
     "metadata": {},
     "output_type": "execute_result"
    }
   ],
   "source": [
    "(titles['year'].between(1950,1959)).sum()"
   ]
  },
  {
   "cell_type": "markdown",
   "metadata": {
    "collapsed": true
   },
   "source": [
    "### In what years has a movie titled \"Batman\" been released?"
   ]
  },
  {
   "cell_type": "code",
   "execution_count": 98,
   "metadata": {
    "scrolled": true
   },
   "outputs": [
    {
     "data": {
      "text/html": [
       "<div>\n",
       "<style scoped>\n",
       "    .dataframe tbody tr th:only-of-type {\n",
       "        vertical-align: middle;\n",
       "    }\n",
       "\n",
       "    .dataframe tbody tr th {\n",
       "        vertical-align: top;\n",
       "    }\n",
       "\n",
       "    .dataframe thead th {\n",
       "        text-align: right;\n",
       "    }\n",
       "</style>\n",
       "<table border=\"1\" class=\"dataframe\">\n",
       "  <thead>\n",
       "    <tr style=\"text-align: right;\">\n",
       "      <th></th>\n",
       "      <th>title</th>\n",
       "      <th>year</th>\n",
       "    </tr>\n",
       "  </thead>\n",
       "  <tbody>\n",
       "    <tr>\n",
       "      <th>59853</th>\n",
       "      <td>Batman</td>\n",
       "      <td>1943</td>\n",
       "    </tr>\n",
       "    <tr>\n",
       "      <th>79855</th>\n",
       "      <td>Batman</td>\n",
       "      <td>1989</td>\n",
       "    </tr>\n",
       "  </tbody>\n",
       "</table>\n",
       "</div>"
      ],
      "text/plain": [
       "        title  year\n",
       "59853  Batman  1943\n",
       "79855  Batman  1989"
      ]
     },
     "execution_count": 98,
     "metadata": {},
     "output_type": "execute_result"
    }
   ],
   "source": [
    "batman = titles[titles['title']=='Batman']\n",
    "batman"
   ]
  },
  {
   "cell_type": "code",
   "execution_count": 16,
   "metadata": {},
   "outputs": [
    {
     "data": {
      "text/plain": [
       "array([1943, 1989])"
      ]
     },
     "execution_count": 16,
     "metadata": {},
     "output_type": "execute_result"
    }
   ],
   "source": [
    "batman['year'].values"
   ]
  },
  {
   "cell_type": "markdown",
   "metadata": {
    "collapsed": true
   },
   "source": [
    "### How many roles were there in the movie \"Inception\"?"
   ]
  },
  {
   "cell_type": "code",
   "execution_count": 18,
   "metadata": {},
   "outputs": [
    {
     "data": {
      "text/plain": [
       "78"
      ]
     },
     "execution_count": 18,
     "metadata": {},
     "output_type": "execute_result"
    }
   ],
   "source": [
    "inception_roles  = cast[cast['title']=='Inception']\n",
    "len(inception_roles)"
   ]
  },
  {
   "cell_type": "markdown",
   "metadata": {
    "collapsed": true
   },
   "source": [
    "### How many roles in the movie \"Inception\" are NOT ranked by an \"n\" value?"
   ]
  },
  {
   "cell_type": "code",
   "execution_count": 99,
   "metadata": {},
   "outputs": [
    {
     "data": {
      "text/plain": [
       "27"
      ]
     },
     "execution_count": 99,
     "metadata": {},
     "output_type": "execute_result"
    }
   ],
   "source": [
    "len(inception_roles[inception_roles['n'].isnull()])"
   ]
  },
  {
   "cell_type": "markdown",
   "metadata": {
    "collapsed": true
   },
   "source": [
    "### But how many roles in the movie \"Inception\" did receive an \"n\" value?"
   ]
  },
  {
   "cell_type": "code",
   "execution_count": 100,
   "metadata": {},
   "outputs": [
    {
     "data": {
      "text/plain": [
       "51"
      ]
     },
     "execution_count": 100,
     "metadata": {},
     "output_type": "execute_result"
    }
   ],
   "source": [
    "len(inception_roles[inception_roles['n'].notnull()])"
   ]
  },
  {
   "cell_type": "markdown",
   "metadata": {},
   "source": [
    "Note this is slightly simpler, because you skip the step of creating a Boolean array."
   ]
  },
  {
   "cell_type": "code",
   "execution_count": 75,
   "metadata": {},
   "outputs": [
    {
     "data": {
      "text/plain": [
       "51"
      ]
     },
     "execution_count": 75,
     "metadata": {},
     "output_type": "execute_result"
    }
   ],
   "source": [
    "len(inception_roles['n'].dropna())"
   ]
  },
  {
   "cell_type": "markdown",
   "metadata": {},
   "source": [
    "Be careful not to make this mistake"
   ]
  },
  {
   "cell_type": "code",
   "execution_count": 76,
   "metadata": {},
   "outputs": [
    {
     "data": {
      "text/plain": [
       "78"
      ]
     },
     "execution_count": 76,
     "metadata": {},
     "output_type": "execute_result"
    }
   ],
   "source": [
    "len(inception_roles['n'].notnull())"
   ]
  },
  {
   "cell_type": "markdown",
   "metadata": {},
   "source": [
    "`inception_roles['n'].notnull()` is a Boolean array that has the same length as the \n",
    "`DataFrame inception_roles`.  To get the\n",
    "rows that satisfy the Boolean constraint, the Boolean array must be used as a mask."
   ]
  },
  {
   "cell_type": "markdown",
   "metadata": {
    "collapsed": true
   },
   "source": [
    "### Display the cast of \"North by Northwest\" in their correct \"n\"-value order, ignoring roles that did not earn a numeric \"n\" value."
   ]
  },
  {
   "cell_type": "code",
   "execution_count": 91,
   "metadata": {},
   "outputs": [],
   "source": [
    "nnw_roles = cast[cast['title']=='North by Northwest']"
   ]
  },
  {
   "cell_type": "markdown",
   "metadata": {},
   "source": [
    "The total cast size is 116"
   ]
  },
  {
   "cell_type": "code",
   "execution_count": 105,
   "metadata": {},
   "outputs": [
    {
     "data": {
      "text/plain": [
       "116"
      ]
     },
     "execution_count": 105,
     "metadata": {},
     "output_type": "execute_result"
    }
   ],
   "source": [
    "len(nnw_roles)"
   ]
  },
  {
   "cell_type": "markdown",
   "metadata": {},
   "source": [
    "One way to eliminate non-n-value roles is with an inequality:"
   ]
  },
  {
   "cell_type": "code",
   "execution_count": 110,
   "metadata": {},
   "outputs": [
    {
     "data": {
      "text/html": [
       "<div>\n",
       "<style scoped>\n",
       "    .dataframe tbody tr th:only-of-type {\n",
       "        vertical-align: middle;\n",
       "    }\n",
       "\n",
       "    .dataframe tbody tr th {\n",
       "        vertical-align: top;\n",
       "    }\n",
       "\n",
       "    .dataframe thead th {\n",
       "        text-align: right;\n",
       "    }\n",
       "</style>\n",
       "<table border=\"1\" class=\"dataframe\">\n",
       "  <thead>\n",
       "    <tr style=\"text-align: right;\">\n",
       "      <th></th>\n",
       "      <th>title</th>\n",
       "      <th>year</th>\n",
       "      <th>name</th>\n",
       "      <th>type</th>\n",
       "      <th>character</th>\n",
       "      <th>n</th>\n",
       "    </tr>\n",
       "  </thead>\n",
       "  <tbody>\n",
       "    <tr>\n",
       "      <th>93664</th>\n",
       "      <td>North by Northwest</td>\n",
       "      <td>1959</td>\n",
       "      <td>Cary Grant</td>\n",
       "      <td>actor</td>\n",
       "      <td>Roger O. Thornhill</td>\n",
       "      <td>1.0</td>\n",
       "    </tr>\n",
       "    <tr>\n",
       "      <th>356895</th>\n",
       "      <td>North by Northwest</td>\n",
       "      <td>1959</td>\n",
       "      <td>Eva Marie Saint</td>\n",
       "      <td>actress</td>\n",
       "      <td>Eve Kendall</td>\n",
       "      <td>2.0</td>\n",
       "    </tr>\n",
       "    <tr>\n",
       "      <th>157014</th>\n",
       "      <td>North by Northwest</td>\n",
       "      <td>1959</td>\n",
       "      <td>James Mason</td>\n",
       "      <td>actor</td>\n",
       "      <td>Phillip Vandamm</td>\n",
       "      <td>3.0</td>\n",
       "    </tr>\n",
       "    <tr>\n",
       "      <th>325773</th>\n",
       "      <td>North by Northwest</td>\n",
       "      <td>1959</td>\n",
       "      <td>Jessie Royce Landis</td>\n",
       "      <td>actress</td>\n",
       "      <td>Clara Thornhill</td>\n",
       "      <td>4.0</td>\n",
       "    </tr>\n",
       "    <tr>\n",
       "      <th>38422</th>\n",
       "      <td>North by Northwest</td>\n",
       "      <td>1959</td>\n",
       "      <td>Leo G. Carroll</td>\n",
       "      <td>actor</td>\n",
       "      <td>The Professor</td>\n",
       "      <td>5.0</td>\n",
       "    </tr>\n",
       "    <tr>\n",
       "      <th>317316</th>\n",
       "      <td>North by Northwest</td>\n",
       "      <td>1959</td>\n",
       "      <td>Josephine Hutchinson</td>\n",
       "      <td>actress</td>\n",
       "      <td>Mrs. Townsend</td>\n",
       "      <td>6.0</td>\n",
       "    </tr>\n",
       "    <tr>\n",
       "      <th>184818</th>\n",
       "      <td>North by Northwest</td>\n",
       "      <td>1959</td>\n",
       "      <td>Philip Ober</td>\n",
       "      <td>actor</td>\n",
       "      <td>Lester Townsend</td>\n",
       "      <td>7.0</td>\n",
       "    </tr>\n",
       "    <tr>\n",
       "      <th>137716</th>\n",
       "      <td>North by Northwest</td>\n",
       "      <td>1959</td>\n",
       "      <td>Martin Landau</td>\n",
       "      <td>actor</td>\n",
       "      <td>Leonard</td>\n",
       "      <td>8.0</td>\n",
       "    </tr>\n",
       "    <tr>\n",
       "      <th>259201</th>\n",
       "      <td>North by Northwest</td>\n",
       "      <td>1959</td>\n",
       "      <td>Adam Williams</td>\n",
       "      <td>actor</td>\n",
       "      <td>Valerian</td>\n",
       "      <td>9.0</td>\n",
       "    </tr>\n",
       "    <tr>\n",
       "      <th>196223</th>\n",
       "      <td>North by Northwest</td>\n",
       "      <td>1959</td>\n",
       "      <td>Edward Platt</td>\n",
       "      <td>actor</td>\n",
       "      <td>Victor Larrabee</td>\n",
       "      <td>10.0</td>\n",
       "    </tr>\n",
       "    <tr>\n",
       "      <th>71519</th>\n",
       "      <td>North by Northwest</td>\n",
       "      <td>1959</td>\n",
       "      <td>Robert Ellenstein</td>\n",
       "      <td>actor</td>\n",
       "      <td>Licht</td>\n",
       "      <td>11.0</td>\n",
       "    </tr>\n",
       "    <tr>\n",
       "      <th>242488</th>\n",
       "      <td>North by Northwest</td>\n",
       "      <td>1959</td>\n",
       "      <td>Les Tremayne</td>\n",
       "      <td>actor</td>\n",
       "      <td>Auctioneer</td>\n",
       "      <td>12.0</td>\n",
       "    </tr>\n",
       "    <tr>\n",
       "      <th>50015</th>\n",
       "      <td>North by Northwest</td>\n",
       "      <td>1959</td>\n",
       "      <td>Philip Coolidge</td>\n",
       "      <td>actor</td>\n",
       "      <td>Dr. Cross</td>\n",
       "      <td>13.0</td>\n",
       "    </tr>\n",
       "    <tr>\n",
       "      <th>164343</th>\n",
       "      <td>North by Northwest</td>\n",
       "      <td>1959</td>\n",
       "      <td>Patrick McVey</td>\n",
       "      <td>actor</td>\n",
       "      <td>Sergeant Flamm</td>\n",
       "      <td>14.0</td>\n",
       "    </tr>\n",
       "    <tr>\n",
       "      <th>20785</th>\n",
       "      <td>North by Northwest</td>\n",
       "      <td>1959</td>\n",
       "      <td>Edward Binns</td>\n",
       "      <td>actor</td>\n",
       "      <td>Captain Junket</td>\n",
       "      <td>15.0</td>\n",
       "    </tr>\n",
       "    <tr>\n",
       "      <th>149074</th>\n",
       "      <td>North by Northwest</td>\n",
       "      <td>1959</td>\n",
       "      <td>Ken Lynch</td>\n",
       "      <td>actor</td>\n",
       "      <td>Charley - Chicago Policeman</td>\n",
       "      <td>16.0</td>\n",
       "    </tr>\n",
       "  </tbody>\n",
       "</table>\n",
       "</div>"
      ],
      "text/plain": [
       "                     title  year                  name     type  \\\n",
       "93664   North by Northwest  1959            Cary Grant    actor   \n",
       "356895  North by Northwest  1959       Eva Marie Saint  actress   \n",
       "157014  North by Northwest  1959           James Mason    actor   \n",
       "325773  North by Northwest  1959   Jessie Royce Landis  actress   \n",
       "38422   North by Northwest  1959        Leo G. Carroll    actor   \n",
       "317316  North by Northwest  1959  Josephine Hutchinson  actress   \n",
       "184818  North by Northwest  1959           Philip Ober    actor   \n",
       "137716  North by Northwest  1959         Martin Landau    actor   \n",
       "259201  North by Northwest  1959         Adam Williams    actor   \n",
       "196223  North by Northwest  1959          Edward Platt    actor   \n",
       "71519   North by Northwest  1959     Robert Ellenstein    actor   \n",
       "242488  North by Northwest  1959          Les Tremayne    actor   \n",
       "50015   North by Northwest  1959       Philip Coolidge    actor   \n",
       "164343  North by Northwest  1959         Patrick McVey    actor   \n",
       "20785   North by Northwest  1959          Edward Binns    actor   \n",
       "149074  North by Northwest  1959             Ken Lynch    actor   \n",
       "\n",
       "                          character     n  \n",
       "93664            Roger O. Thornhill   1.0  \n",
       "356895                  Eve Kendall   2.0  \n",
       "157014              Phillip Vandamm   3.0  \n",
       "325773              Clara Thornhill   4.0  \n",
       "38422                 The Professor   5.0  \n",
       "317316                Mrs. Townsend   6.0  \n",
       "184818              Lester Townsend   7.0  \n",
       "137716                      Leonard   8.0  \n",
       "259201                     Valerian   9.0  \n",
       "196223              Victor Larrabee  10.0  \n",
       "71519                         Licht  11.0  \n",
       "242488                   Auctioneer  12.0  \n",
       "50015                     Dr. Cross  13.0  \n",
       "164343               Sergeant Flamm  14.0  \n",
       "20785                Captain Junket  15.0  \n",
       "149074  Charley - Chicago Policeman  16.0  "
      ]
     },
     "execution_count": 110,
     "metadata": {},
     "output_type": "execute_result"
    }
   ],
   "source": [
    "# True is the default value for the ascending parameter of .sort_values()\n",
    "cast[(cast['title']== 'North by Northwest') &\n",
    "     (cast['n'] > 0)].sort_values( 'n')"
   ]
  },
  {
   "cell_type": "markdown",
   "metadata": {},
   "source": [
    "An equivalent, more explicit answer:"
   ]
  },
  {
   "cell_type": "code",
   "execution_count": 108,
   "metadata": {},
   "outputs": [
    {
     "name": "stdout",
     "output_type": "stream",
     "text": [
      "16\n"
     ]
    },
    {
     "data": {
      "text/html": [
       "<div>\n",
       "<style scoped>\n",
       "    .dataframe tbody tr th:only-of-type {\n",
       "        vertical-align: middle;\n",
       "    }\n",
       "\n",
       "    .dataframe tbody tr th {\n",
       "        vertical-align: top;\n",
       "    }\n",
       "\n",
       "    .dataframe thead th {\n",
       "        text-align: right;\n",
       "    }\n",
       "</style>\n",
       "<table border=\"1\" class=\"dataframe\">\n",
       "  <thead>\n",
       "    <tr style=\"text-align: right;\">\n",
       "      <th></th>\n",
       "      <th>title</th>\n",
       "      <th>year</th>\n",
       "      <th>name</th>\n",
       "      <th>type</th>\n",
       "      <th>character</th>\n",
       "      <th>n</th>\n",
       "    </tr>\n",
       "  </thead>\n",
       "  <tbody>\n",
       "    <tr>\n",
       "      <th>93664</th>\n",
       "      <td>North by Northwest</td>\n",
       "      <td>1959</td>\n",
       "      <td>Cary Grant</td>\n",
       "      <td>actor</td>\n",
       "      <td>Roger O. Thornhill</td>\n",
       "      <td>1.0</td>\n",
       "    </tr>\n",
       "    <tr>\n",
       "      <th>356895</th>\n",
       "      <td>North by Northwest</td>\n",
       "      <td>1959</td>\n",
       "      <td>Eva Marie Saint</td>\n",
       "      <td>actress</td>\n",
       "      <td>Eve Kendall</td>\n",
       "      <td>2.0</td>\n",
       "    </tr>\n",
       "    <tr>\n",
       "      <th>157014</th>\n",
       "      <td>North by Northwest</td>\n",
       "      <td>1959</td>\n",
       "      <td>James Mason</td>\n",
       "      <td>actor</td>\n",
       "      <td>Phillip Vandamm</td>\n",
       "      <td>3.0</td>\n",
       "    </tr>\n",
       "    <tr>\n",
       "      <th>325773</th>\n",
       "      <td>North by Northwest</td>\n",
       "      <td>1959</td>\n",
       "      <td>Jessie Royce Landis</td>\n",
       "      <td>actress</td>\n",
       "      <td>Clara Thornhill</td>\n",
       "      <td>4.0</td>\n",
       "    </tr>\n",
       "    <tr>\n",
       "      <th>38422</th>\n",
       "      <td>North by Northwest</td>\n",
       "      <td>1959</td>\n",
       "      <td>Leo G. Carroll</td>\n",
       "      <td>actor</td>\n",
       "      <td>The Professor</td>\n",
       "      <td>5.0</td>\n",
       "    </tr>\n",
       "    <tr>\n",
       "      <th>317316</th>\n",
       "      <td>North by Northwest</td>\n",
       "      <td>1959</td>\n",
       "      <td>Josephine Hutchinson</td>\n",
       "      <td>actress</td>\n",
       "      <td>Mrs. Townsend</td>\n",
       "      <td>6.0</td>\n",
       "    </tr>\n",
       "    <tr>\n",
       "      <th>184818</th>\n",
       "      <td>North by Northwest</td>\n",
       "      <td>1959</td>\n",
       "      <td>Philip Ober</td>\n",
       "      <td>actor</td>\n",
       "      <td>Lester Townsend</td>\n",
       "      <td>7.0</td>\n",
       "    </tr>\n",
       "    <tr>\n",
       "      <th>137716</th>\n",
       "      <td>North by Northwest</td>\n",
       "      <td>1959</td>\n",
       "      <td>Martin Landau</td>\n",
       "      <td>actor</td>\n",
       "      <td>Leonard</td>\n",
       "      <td>8.0</td>\n",
       "    </tr>\n",
       "    <tr>\n",
       "      <th>259201</th>\n",
       "      <td>North by Northwest</td>\n",
       "      <td>1959</td>\n",
       "      <td>Adam Williams</td>\n",
       "      <td>actor</td>\n",
       "      <td>Valerian</td>\n",
       "      <td>9.0</td>\n",
       "    </tr>\n",
       "    <tr>\n",
       "      <th>196223</th>\n",
       "      <td>North by Northwest</td>\n",
       "      <td>1959</td>\n",
       "      <td>Edward Platt</td>\n",
       "      <td>actor</td>\n",
       "      <td>Victor Larrabee</td>\n",
       "      <td>10.0</td>\n",
       "    </tr>\n",
       "    <tr>\n",
       "      <th>71519</th>\n",
       "      <td>North by Northwest</td>\n",
       "      <td>1959</td>\n",
       "      <td>Robert Ellenstein</td>\n",
       "      <td>actor</td>\n",
       "      <td>Licht</td>\n",
       "      <td>11.0</td>\n",
       "    </tr>\n",
       "    <tr>\n",
       "      <th>242488</th>\n",
       "      <td>North by Northwest</td>\n",
       "      <td>1959</td>\n",
       "      <td>Les Tremayne</td>\n",
       "      <td>actor</td>\n",
       "      <td>Auctioneer</td>\n",
       "      <td>12.0</td>\n",
       "    </tr>\n",
       "    <tr>\n",
       "      <th>50015</th>\n",
       "      <td>North by Northwest</td>\n",
       "      <td>1959</td>\n",
       "      <td>Philip Coolidge</td>\n",
       "      <td>actor</td>\n",
       "      <td>Dr. Cross</td>\n",
       "      <td>13.0</td>\n",
       "    </tr>\n",
       "    <tr>\n",
       "      <th>164343</th>\n",
       "      <td>North by Northwest</td>\n",
       "      <td>1959</td>\n",
       "      <td>Patrick McVey</td>\n",
       "      <td>actor</td>\n",
       "      <td>Sergeant Flamm</td>\n",
       "      <td>14.0</td>\n",
       "    </tr>\n",
       "    <tr>\n",
       "      <th>20785</th>\n",
       "      <td>North by Northwest</td>\n",
       "      <td>1959</td>\n",
       "      <td>Edward Binns</td>\n",
       "      <td>actor</td>\n",
       "      <td>Captain Junket</td>\n",
       "      <td>15.0</td>\n",
       "    </tr>\n",
       "    <tr>\n",
       "      <th>149074</th>\n",
       "      <td>North by Northwest</td>\n",
       "      <td>1959</td>\n",
       "      <td>Ken Lynch</td>\n",
       "      <td>actor</td>\n",
       "      <td>Charley - Chicago Policeman</td>\n",
       "      <td>16.0</td>\n",
       "    </tr>\n",
       "  </tbody>\n",
       "</table>\n",
       "</div>"
      ],
      "text/plain": [
       "                     title  year                  name     type  \\\n",
       "93664   North by Northwest  1959            Cary Grant    actor   \n",
       "356895  North by Northwest  1959       Eva Marie Saint  actress   \n",
       "157014  North by Northwest  1959           James Mason    actor   \n",
       "325773  North by Northwest  1959   Jessie Royce Landis  actress   \n",
       "38422   North by Northwest  1959        Leo G. Carroll    actor   \n",
       "317316  North by Northwest  1959  Josephine Hutchinson  actress   \n",
       "184818  North by Northwest  1959           Philip Ober    actor   \n",
       "137716  North by Northwest  1959         Martin Landau    actor   \n",
       "259201  North by Northwest  1959         Adam Williams    actor   \n",
       "196223  North by Northwest  1959          Edward Platt    actor   \n",
       "71519   North by Northwest  1959     Robert Ellenstein    actor   \n",
       "242488  North by Northwest  1959          Les Tremayne    actor   \n",
       "50015   North by Northwest  1959       Philip Coolidge    actor   \n",
       "164343  North by Northwest  1959         Patrick McVey    actor   \n",
       "20785   North by Northwest  1959          Edward Binns    actor   \n",
       "149074  North by Northwest  1959             Ken Lynch    actor   \n",
       "\n",
       "                          character     n  \n",
       "93664            Roger O. Thornhill   1.0  \n",
       "356895                  Eve Kendall   2.0  \n",
       "157014              Phillip Vandamm   3.0  \n",
       "325773              Clara Thornhill   4.0  \n",
       "38422                 The Professor   5.0  \n",
       "317316                Mrs. Townsend   6.0  \n",
       "184818              Lester Townsend   7.0  \n",
       "137716                      Leonard   8.0  \n",
       "259201                     Valerian   9.0  \n",
       "196223              Victor Larrabee  10.0  \n",
       "71519                         Licht  11.0  \n",
       "242488                   Auctioneer  12.0  \n",
       "50015                     Dr. Cross  13.0  \n",
       "164343               Sergeant Flamm  14.0  \n",
       "20785                Captain Junket  15.0  \n",
       "149074  Charley - Chicago Policeman  16.0  "
      ]
     },
     "execution_count": 108,
     "metadata": {},
     "output_type": "execute_result"
    }
   ],
   "source": [
    "# Drop rows with null values in the 'n' column before sorting.\n",
    "nnw_role_n_value = nnw_roles.dropna(subset=['n'])\n",
    "print(len(nnw_role_n_value))\n",
    "nnw_role_n_value.sort_values('n')"
   ]
  },
  {
   "cell_type": "markdown",
   "metadata": {
    "collapsed": true
   },
   "source": [
    "### Display the entire cast, in \"n\"-order, of the 1972 film \"Sleuth\"."
   ]
  },
  {
   "cell_type": "code",
   "execution_count": 67,
   "metadata": {},
   "outputs": [
    {
     "data": {
      "text/html": [
       "<div>\n",
       "<style scoped>\n",
       "    .dataframe tbody tr th:only-of-type {\n",
       "        vertical-align: middle;\n",
       "    }\n",
       "\n",
       "    .dataframe tbody tr th {\n",
       "        vertical-align: top;\n",
       "    }\n",
       "\n",
       "    .dataframe thead th {\n",
       "        text-align: right;\n",
       "    }\n",
       "</style>\n",
       "<table border=\"1\" class=\"dataframe\">\n",
       "  <thead>\n",
       "    <tr style=\"text-align: right;\">\n",
       "      <th></th>\n",
       "      <th>title</th>\n",
       "      <th>year</th>\n",
       "      <th>name</th>\n",
       "      <th>type</th>\n",
       "      <th>character</th>\n",
       "      <th>n</th>\n",
       "    </tr>\n",
       "  </thead>\n",
       "  <tbody>\n",
       "    <tr>\n",
       "      <th>1560814</th>\n",
       "      <td>Sleuth</td>\n",
       "      <td>1972</td>\n",
       "      <td>Laurence Olivier</td>\n",
       "      <td>actor</td>\n",
       "      <td>Andrew Wyke</td>\n",
       "      <td>1.0</td>\n",
       "    </tr>\n",
       "    <tr>\n",
       "      <th>299291</th>\n",
       "      <td>Sleuth</td>\n",
       "      <td>1972</td>\n",
       "      <td>Michael Caine</td>\n",
       "      <td>actor</td>\n",
       "      <td>Milo Tindle</td>\n",
       "      <td>2.0</td>\n",
       "    </tr>\n",
       "    <tr>\n",
       "      <th>342151</th>\n",
       "      <td>Sleuth</td>\n",
       "      <td>1972</td>\n",
       "      <td>Alec Cawthorne</td>\n",
       "      <td>actor</td>\n",
       "      <td>Inspector Doppler</td>\n",
       "      <td>3.0</td>\n",
       "    </tr>\n",
       "    <tr>\n",
       "      <th>1341313</th>\n",
       "      <td>Sleuth</td>\n",
       "      <td>1972</td>\n",
       "      <td>John (II) Matthews</td>\n",
       "      <td>actor</td>\n",
       "      <td>Detective Sergeant Tarrant</td>\n",
       "      <td>4.0</td>\n",
       "    </tr>\n",
       "    <tr>\n",
       "      <th>2490141</th>\n",
       "      <td>Sleuth</td>\n",
       "      <td>1972</td>\n",
       "      <td>Eve (III) Channing</td>\n",
       "      <td>actress</td>\n",
       "      <td>Marguerite Wyke</td>\n",
       "      <td>5.0</td>\n",
       "    </tr>\n",
       "    <tr>\n",
       "      <th>1325945</th>\n",
       "      <td>Sleuth</td>\n",
       "      <td>1972</td>\n",
       "      <td>Teddy Martin</td>\n",
       "      <td>actor</td>\n",
       "      <td>Police Constable Higgs</td>\n",
       "      <td>6.0</td>\n",
       "    </tr>\n",
       "  </tbody>\n",
       "</table>\n",
       "</div>"
      ],
      "text/plain": [
       "          title  year                name     type  \\\n",
       "1560814  Sleuth  1972    Laurence Olivier    actor   \n",
       "299291   Sleuth  1972       Michael Caine    actor   \n",
       "342151   Sleuth  1972      Alec Cawthorne    actor   \n",
       "1341313  Sleuth  1972  John (II) Matthews    actor   \n",
       "2490141  Sleuth  1972  Eve (III) Channing  actress   \n",
       "1325945  Sleuth  1972        Teddy Martin    actor   \n",
       "\n",
       "                          character    n  \n",
       "1560814                 Andrew Wyke  1.0  \n",
       "299291                  Milo Tindle  2.0  \n",
       "342151            Inspector Doppler  3.0  \n",
       "1341313  Detective Sergeant Tarrant  4.0  \n",
       "2490141             Marguerite Wyke  5.0  \n",
       "1325945      Police Constable Higgs  6.0  "
      ]
     },
     "execution_count": 67,
     "metadata": {},
     "output_type": "execute_result"
    }
   ],
   "source": [
    "sleuth_roles = cast[cast['title']=='Sleuth']\n",
    "sleuth_roles[sleuth_roles['year']==1972].dropna().sort_values('n')"
   ]
  },
  {
   "cell_type": "markdown",
   "metadata": {},
   "source": [
    "Or just do it in one line:"
   ]
  },
  {
   "cell_type": "code",
   "execution_count": 68,
   "metadata": {},
   "outputs": [
    {
     "data": {
      "text/html": [
       "<div>\n",
       "<style scoped>\n",
       "    .dataframe tbody tr th:only-of-type {\n",
       "        vertical-align: middle;\n",
       "    }\n",
       "\n",
       "    .dataframe tbody tr th {\n",
       "        vertical-align: top;\n",
       "    }\n",
       "\n",
       "    .dataframe thead th {\n",
       "        text-align: right;\n",
       "    }\n",
       "</style>\n",
       "<table border=\"1\" class=\"dataframe\">\n",
       "  <thead>\n",
       "    <tr style=\"text-align: right;\">\n",
       "      <th></th>\n",
       "      <th>title</th>\n",
       "      <th>year</th>\n",
       "      <th>name</th>\n",
       "      <th>type</th>\n",
       "      <th>character</th>\n",
       "      <th>n</th>\n",
       "    </tr>\n",
       "  </thead>\n",
       "  <tbody>\n",
       "    <tr>\n",
       "      <th>1560814</th>\n",
       "      <td>Sleuth</td>\n",
       "      <td>1972</td>\n",
       "      <td>Laurence Olivier</td>\n",
       "      <td>actor</td>\n",
       "      <td>Andrew Wyke</td>\n",
       "      <td>1.0</td>\n",
       "    </tr>\n",
       "    <tr>\n",
       "      <th>299291</th>\n",
       "      <td>Sleuth</td>\n",
       "      <td>1972</td>\n",
       "      <td>Michael Caine</td>\n",
       "      <td>actor</td>\n",
       "      <td>Milo Tindle</td>\n",
       "      <td>2.0</td>\n",
       "    </tr>\n",
       "    <tr>\n",
       "      <th>342151</th>\n",
       "      <td>Sleuth</td>\n",
       "      <td>1972</td>\n",
       "      <td>Alec Cawthorne</td>\n",
       "      <td>actor</td>\n",
       "      <td>Inspector Doppler</td>\n",
       "      <td>3.0</td>\n",
       "    </tr>\n",
       "    <tr>\n",
       "      <th>1341313</th>\n",
       "      <td>Sleuth</td>\n",
       "      <td>1972</td>\n",
       "      <td>John (II) Matthews</td>\n",
       "      <td>actor</td>\n",
       "      <td>Detective Sergeant Tarrant</td>\n",
       "      <td>4.0</td>\n",
       "    </tr>\n",
       "    <tr>\n",
       "      <th>2490141</th>\n",
       "      <td>Sleuth</td>\n",
       "      <td>1972</td>\n",
       "      <td>Eve (III) Channing</td>\n",
       "      <td>actress</td>\n",
       "      <td>Marguerite Wyke</td>\n",
       "      <td>5.0</td>\n",
       "    </tr>\n",
       "    <tr>\n",
       "      <th>1325945</th>\n",
       "      <td>Sleuth</td>\n",
       "      <td>1972</td>\n",
       "      <td>Teddy Martin</td>\n",
       "      <td>actor</td>\n",
       "      <td>Police Constable Higgs</td>\n",
       "      <td>6.0</td>\n",
       "    </tr>\n",
       "  </tbody>\n",
       "</table>\n",
       "</div>"
      ],
      "text/plain": [
       "          title  year                name     type  \\\n",
       "1560814  Sleuth  1972    Laurence Olivier    actor   \n",
       "299291   Sleuth  1972       Michael Caine    actor   \n",
       "342151   Sleuth  1972      Alec Cawthorne    actor   \n",
       "1341313  Sleuth  1972  John (II) Matthews    actor   \n",
       "2490141  Sleuth  1972  Eve (III) Channing  actress   \n",
       "1325945  Sleuth  1972        Teddy Martin    actor   \n",
       "\n",
       "                          character    n  \n",
       "1560814                 Andrew Wyke  1.0  \n",
       "299291                  Milo Tindle  2.0  \n",
       "342151            Inspector Doppler  3.0  \n",
       "1341313  Detective Sergeant Tarrant  4.0  \n",
       "2490141             Marguerite Wyke  5.0  \n",
       "1325945      Police Constable Higgs  6.0  "
      ]
     },
     "execution_count": 68,
     "metadata": {},
     "output_type": "execute_result"
    }
   ],
   "source": [
    "cast[(cast['title']=='Sleuth')&(cast['year']==1972)].dropna().sort_values('n')"
   ]
  },
  {
   "cell_type": "markdown",
   "metadata": {
    "collapsed": true
   },
   "source": [
    "### Now display the entire cast, in \"n\"-order, of the 2007 version of \"Sleuth\"."
   ]
  },
  {
   "cell_type": "code",
   "execution_count": 66,
   "metadata": {},
   "outputs": [
    {
     "data": {
      "text/html": [
       "<div>\n",
       "<style scoped>\n",
       "    .dataframe tbody tr th:only-of-type {\n",
       "        vertical-align: middle;\n",
       "    }\n",
       "\n",
       "    .dataframe tbody tr th {\n",
       "        vertical-align: top;\n",
       "    }\n",
       "\n",
       "    .dataframe thead th {\n",
       "        text-align: right;\n",
       "    }\n",
       "</style>\n",
       "<table border=\"1\" class=\"dataframe\">\n",
       "  <thead>\n",
       "    <tr style=\"text-align: right;\">\n",
       "      <th></th>\n",
       "      <th>title</th>\n",
       "      <th>year</th>\n",
       "      <th>name</th>\n",
       "      <th>type</th>\n",
       "      <th>character</th>\n",
       "      <th>n</th>\n",
       "    </tr>\n",
       "  </thead>\n",
       "  <tbody>\n",
       "    <tr>\n",
       "      <th>299292</th>\n",
       "      <td>Sleuth</td>\n",
       "      <td>2007</td>\n",
       "      <td>Michael Caine</td>\n",
       "      <td>actor</td>\n",
       "      <td>Andrew</td>\n",
       "      <td>1.0</td>\n",
       "    </tr>\n",
       "    <tr>\n",
       "      <th>1183659</th>\n",
       "      <td>Sleuth</td>\n",
       "      <td>2007</td>\n",
       "      <td>Jude Law</td>\n",
       "      <td>actor</td>\n",
       "      <td>Milo</td>\n",
       "      <td>2.0</td>\n",
       "    </tr>\n",
       "    <tr>\n",
       "      <th>1652936</th>\n",
       "      <td>Sleuth</td>\n",
       "      <td>2007</td>\n",
       "      <td>Harold Pinter</td>\n",
       "      <td>actor</td>\n",
       "      <td>Man on T.V.</td>\n",
       "      <td>3.0</td>\n",
       "    </tr>\n",
       "  </tbody>\n",
       "</table>\n",
       "</div>"
      ],
      "text/plain": [
       "          title  year           name   type    character    n\n",
       "299292   Sleuth  2007  Michael Caine  actor       Andrew  1.0\n",
       "1183659  Sleuth  2007       Jude Law  actor         Milo  2.0\n",
       "1652936  Sleuth  2007  Harold Pinter  actor  Man on T.V.  3.0"
      ]
     },
     "execution_count": 66,
     "metadata": {},
     "output_type": "execute_result"
    }
   ],
   "source": [
    "cast[(cast['title']=='Sleuth')&(cast['year']==2007)].dropna().sort_values('n')"
   ]
  },
  {
   "cell_type": "markdown",
   "metadata": {
    "collapsed": true
   },
   "source": [
    "### How many roles were credited in the silent 1921 version of Hamlet?"
   ]
  },
  {
   "cell_type": "code",
   "execution_count": 63,
   "metadata": {},
   "outputs": [],
   "source": [
    "hamlet_roles = cast[cast['title']=='Hamlet']"
   ]
  },
  {
   "cell_type": "code",
   "execution_count": 64,
   "metadata": {},
   "outputs": [
    {
     "data": {
      "text/html": [
       "<div>\n",
       "<style scoped>\n",
       "    .dataframe tbody tr th:only-of-type {\n",
       "        vertical-align: middle;\n",
       "    }\n",
       "\n",
       "    .dataframe tbody tr th {\n",
       "        vertical-align: top;\n",
       "    }\n",
       "\n",
       "    .dataframe thead th {\n",
       "        text-align: right;\n",
       "    }\n",
       "</style>\n",
       "<table border=\"1\" class=\"dataframe\">\n",
       "  <thead>\n",
       "    <tr style=\"text-align: right;\">\n",
       "      <th></th>\n",
       "      <th>title</th>\n",
       "      <th>year</th>\n",
       "      <th>name</th>\n",
       "      <th>type</th>\n",
       "      <th>character</th>\n",
       "      <th>n</th>\n",
       "    </tr>\n",
       "  </thead>\n",
       "  <tbody>\n",
       "    <tr>\n",
       "      <th>7145</th>\n",
       "      <td>Hamlet</td>\n",
       "      <td>1921</td>\n",
       "      <td>Fritz Achterberg</td>\n",
       "      <td>actor</td>\n",
       "      <td>Fortinbras,</td>\n",
       "      <td>9.0</td>\n",
       "    </tr>\n",
       "    <tr>\n",
       "      <th>420339</th>\n",
       "      <td>Hamlet</td>\n",
       "      <td>1921</td>\n",
       "      <td>Paul Conradi</td>\n",
       "      <td>actor</td>\n",
       "      <td>König Hamlet</td>\n",
       "      <td>2.0</td>\n",
       "    </tr>\n",
       "    <tr>\n",
       "      <th>508015</th>\n",
       "      <td>Hamlet</td>\n",
       "      <td>1921</td>\n",
       "      <td>Anton De Verdier</td>\n",
       "      <td>actor</td>\n",
       "      <td>Laertes</td>\n",
       "      <td>7.0</td>\n",
       "    </tr>\n",
       "    <tr>\n",
       "      <th>1037693</th>\n",
       "      <td>Hamlet</td>\n",
       "      <td>1921</td>\n",
       "      <td>Hans Junkermann</td>\n",
       "      <td>actor</td>\n",
       "      <td>Polonius</td>\n",
       "      <td>6.0</td>\n",
       "    </tr>\n",
       "    <tr>\n",
       "      <th>1999878</th>\n",
       "      <td>Hamlet</td>\n",
       "      <td>1921</td>\n",
       "      <td>Heinz Stieda</td>\n",
       "      <td>actor</td>\n",
       "      <td>Horatio</td>\n",
       "      <td>5.0</td>\n",
       "    </tr>\n",
       "    <tr>\n",
       "      <th>2174614</th>\n",
       "      <td>Hamlet</td>\n",
       "      <td>1921</td>\n",
       "      <td>Eduard von Winterstein</td>\n",
       "      <td>actor</td>\n",
       "      <td>Claudius</td>\n",
       "      <td>4.0</td>\n",
       "    </tr>\n",
       "    <tr>\n",
       "      <th>2436424</th>\n",
       "      <td>Hamlet</td>\n",
       "      <td>1921</td>\n",
       "      <td>Mathilde Brandt</td>\n",
       "      <td>actress</td>\n",
       "      <td>Königin Gertrude</td>\n",
       "      <td>3.0</td>\n",
       "    </tr>\n",
       "    <tr>\n",
       "      <th>2792679</th>\n",
       "      <td>Hamlet</td>\n",
       "      <td>1921</td>\n",
       "      <td>Lilly Jacobson</td>\n",
       "      <td>actress</td>\n",
       "      <td>Ophelia</td>\n",
       "      <td>8.0</td>\n",
       "    </tr>\n",
       "    <tr>\n",
       "      <th>3055691</th>\n",
       "      <td>Hamlet</td>\n",
       "      <td>1921</td>\n",
       "      <td>Asta Nielsen</td>\n",
       "      <td>actress</td>\n",
       "      <td>Hamlet</td>\n",
       "      <td>1.0</td>\n",
       "    </tr>\n",
       "  </tbody>\n",
       "</table>\n",
       "</div>"
      ],
      "text/plain": [
       "          title  year                    name     type         character    n\n",
       "7145     Hamlet  1921        Fritz Achterberg    actor       Fortinbras,  9.0\n",
       "420339   Hamlet  1921            Paul Conradi    actor      König Hamlet  2.0\n",
       "508015   Hamlet  1921        Anton De Verdier    actor           Laertes  7.0\n",
       "1037693  Hamlet  1921         Hans Junkermann    actor          Polonius  6.0\n",
       "1999878  Hamlet  1921            Heinz Stieda    actor           Horatio  5.0\n",
       "2174614  Hamlet  1921  Eduard von Winterstein    actor          Claudius  4.0\n",
       "2436424  Hamlet  1921         Mathilde Brandt  actress  Königin Gertrude  3.0\n",
       "2792679  Hamlet  1921          Lilly Jacobson  actress           Ophelia  8.0\n",
       "3055691  Hamlet  1921            Asta Nielsen  actress            Hamlet  1.0"
      ]
     },
     "execution_count": 64,
     "metadata": {},
     "output_type": "execute_result"
    }
   ],
   "source": [
    "hamlet1921 = cast[(cast['title'] == 'Hamlet')& (cast['year']==1921)]\n",
    "hamlet1921"
   ]
  },
  {
   "cell_type": "markdown",
   "metadata": {},
   "source": [
    "`.dropna()` made no difference this time."
   ]
  },
  {
   "cell_type": "code",
   "execution_count": 303,
   "metadata": {
    "scrolled": true
   },
   "outputs": [
    {
     "data": {
      "text/plain": [
       "9"
      ]
     },
     "execution_count": 303,
     "metadata": {},
     "output_type": "execute_result"
    }
   ],
   "source": [
    "len(cast[(cast['year'] == 1921) & (cast['title'] == 'Hamlet')]['n'].dropna())"
   ]
  },
  {
   "cell_type": "code",
   "execution_count": 65,
   "metadata": {},
   "outputs": [
    {
     "data": {
      "text/plain": [
       "9"
      ]
     },
     "execution_count": 65,
     "metadata": {},
     "output_type": "execute_result"
    }
   ],
   "source": [
    "len(hamlet1921)"
   ]
  },
  {
   "cell_type": "markdown",
   "metadata": {
    "collapsed": true
   },
   "source": [
    "### How many roles were credited in Branagh’s 1996 Hamlet?"
   ]
  },
  {
   "cell_type": "code",
   "execution_count": 20,
   "metadata": {},
   "outputs": [
    {
     "data": {
      "text/plain": [
       "54"
      ]
     },
     "execution_count": 20,
     "metadata": {},
     "output_type": "execute_result"
    }
   ],
   "source": [
    "hamlet1996 = cast[(cast['title'] == 'Hamlet')& (cast['year']==1996)]\n",
    "len(hamlet1996)"
   ]
  },
  {
   "cell_type": "markdown",
   "metadata": {},
   "source": [
    "Note there is something wrong with the n-values for this movie."
   ]
  },
  {
   "cell_type": "code",
   "execution_count": 21,
   "metadata": {
    "scrolled": true
   },
   "outputs": [
    {
     "data": {
      "text/html": [
       "<div>\n",
       "<style scoped>\n",
       "    .dataframe tbody tr th:only-of-type {\n",
       "        vertical-align: middle;\n",
       "    }\n",
       "\n",
       "    .dataframe tbody tr th {\n",
       "        vertical-align: top;\n",
       "    }\n",
       "\n",
       "    .dataframe thead th {\n",
       "        text-align: right;\n",
       "    }\n",
       "</style>\n",
       "<table border=\"1\" class=\"dataframe\">\n",
       "  <thead>\n",
       "    <tr style=\"text-align: right;\">\n",
       "      <th></th>\n",
       "      <th>title</th>\n",
       "      <th>year</th>\n",
       "      <th>name</th>\n",
       "      <th>type</th>\n",
       "      <th>character</th>\n",
       "      <th>n</th>\n",
       "    </tr>\n",
       "  </thead>\n",
       "  <tbody>\n",
       "    <tr>\n",
       "      <th>97</th>\n",
       "      <td>Hamlet</td>\n",
       "      <td>1996</td>\n",
       "      <td>Riz Abbasi</td>\n",
       "      <td>actor</td>\n",
       "      <td>Attendant to Claudius</td>\n",
       "      <td>1.0</td>\n",
       "    </tr>\n",
       "    <tr>\n",
       "      <th>8597</th>\n",
       "      <td>Hamlet</td>\n",
       "      <td>1996</td>\n",
       "      <td>Richard Attenborough</td>\n",
       "      <td>actor</td>\n",
       "      <td>English Ambassador</td>\n",
       "      <td>2.0</td>\n",
       "    </tr>\n",
       "    <tr>\n",
       "      <th>21533</th>\n",
       "      <td>Hamlet</td>\n",
       "      <td>1996</td>\n",
       "      <td>David (V) Blair</td>\n",
       "      <td>actor</td>\n",
       "      <td>Attendant to Claudius</td>\n",
       "      <td>3.0</td>\n",
       "    </tr>\n",
       "    <tr>\n",
       "      <th>21928</th>\n",
       "      <td>Hamlet</td>\n",
       "      <td>1996</td>\n",
       "      <td>Brian Blessed</td>\n",
       "      <td>actor</td>\n",
       "      <td>Ghost of Hamlet's Father</td>\n",
       "      <td>4.0</td>\n",
       "    </tr>\n",
       "    <tr>\n",
       "      <th>26740</th>\n",
       "      <td>Hamlet</td>\n",
       "      <td>1996</td>\n",
       "      <td>Kenneth Branagh</td>\n",
       "      <td>actor</td>\n",
       "      <td>Hamlet</td>\n",
       "      <td>5.0</td>\n",
       "    </tr>\n",
       "    <tr>\n",
       "      <th>28128</th>\n",
       "      <td>Hamlet</td>\n",
       "      <td>1996</td>\n",
       "      <td>Richard Briers</td>\n",
       "      <td>actor</td>\n",
       "      <td>Polonius</td>\n",
       "      <td>6.0</td>\n",
       "    </tr>\n",
       "    <tr>\n",
       "      <th>30667</th>\n",
       "      <td>Hamlet</td>\n",
       "      <td>1996</td>\n",
       "      <td>Michael Bryant</td>\n",
       "      <td>actor</td>\n",
       "      <td>Priest</td>\n",
       "      <td>7.0</td>\n",
       "    </tr>\n",
       "    <tr>\n",
       "      <th>34321</th>\n",
       "      <td>Hamlet</td>\n",
       "      <td>1996</td>\n",
       "      <td>Peter Bygott</td>\n",
       "      <td>actor</td>\n",
       "      <td>Attendant to Claudius</td>\n",
       "      <td>8.0</td>\n",
       "    </tr>\n",
       "    <tr>\n",
       "      <th>285344</th>\n",
       "      <td>Hamlet</td>\n",
       "      <td>1996</td>\n",
       "      <td>Julie Christie</td>\n",
       "      <td>actress</td>\n",
       "      <td>Gertrude</td>\n",
       "      <td>9.0</td>\n",
       "    </tr>\n",
       "    <tr>\n",
       "      <th>54736</th>\n",
       "      <td>Hamlet</td>\n",
       "      <td>1996</td>\n",
       "      <td>Billy Crystal</td>\n",
       "      <td>actor</td>\n",
       "      <td>First Gravedigger</td>\n",
       "      <td>10.0</td>\n",
       "    </tr>\n",
       "    <tr>\n",
       "      <th>56498</th>\n",
       "      <td>Hamlet</td>\n",
       "      <td>1996</td>\n",
       "      <td>Charles Daish</td>\n",
       "      <td>actor</td>\n",
       "      <td>Stage Manager</td>\n",
       "      <td>11.0</td>\n",
       "    </tr>\n",
       "    <tr>\n",
       "      <th>293769</th>\n",
       "      <td>Hamlet</td>\n",
       "      <td>1996</td>\n",
       "      <td>Judi Dench</td>\n",
       "      <td>actress</td>\n",
       "      <td>Hecuba</td>\n",
       "      <td>12.0</td>\n",
       "    </tr>\n",
       "    <tr>\n",
       "      <th>62621</th>\n",
       "      <td>Hamlet</td>\n",
       "      <td>1996</td>\n",
       "      <td>Gérard Depardieu</td>\n",
       "      <td>actor</td>\n",
       "      <td>Reynaldo</td>\n",
       "      <td>13.0</td>\n",
       "    </tr>\n",
       "    <tr>\n",
       "      <th>64724</th>\n",
       "      <td>Hamlet</td>\n",
       "      <td>1996</td>\n",
       "      <td>Reece Dinsdale</td>\n",
       "      <td>actor</td>\n",
       "      <td>Guildenstern</td>\n",
       "      <td>14.0</td>\n",
       "    </tr>\n",
       "    <tr>\n",
       "      <th>65029</th>\n",
       "      <td>Hamlet</td>\n",
       "      <td>1996</td>\n",
       "      <td>Ken Dodd</td>\n",
       "      <td>actor</td>\n",
       "      <td>Yorick</td>\n",
       "      <td>15.0</td>\n",
       "    </tr>\n",
       "    <tr>\n",
       "      <th>295680</th>\n",
       "      <td>Hamlet</td>\n",
       "      <td>1996</td>\n",
       "      <td>Angela Douglas</td>\n",
       "      <td>actress</td>\n",
       "      <td>Attendant to Gertrude</td>\n",
       "      <td>16.0</td>\n",
       "    </tr>\n",
       "    <tr>\n",
       "      <th>70874</th>\n",
       "      <td>Hamlet</td>\n",
       "      <td>1996</td>\n",
       "      <td>Rob Edwards</td>\n",
       "      <td>actor</td>\n",
       "      <td>Lucianus</td>\n",
       "      <td>17.0</td>\n",
       "    </tr>\n",
       "    <tr>\n",
       "      <th>76229</th>\n",
       "      <td>Hamlet</td>\n",
       "      <td>1996</td>\n",
       "      <td>Nicholas Farrell</td>\n",
       "      <td>actor</td>\n",
       "      <td>Horatio</td>\n",
       "      <td>18.0</td>\n",
       "    </tr>\n",
       "    <tr>\n",
       "      <th>76699</th>\n",
       "      <td>Hamlet</td>\n",
       "      <td>1996</td>\n",
       "      <td>Ray Fearon</td>\n",
       "      <td>actor</td>\n",
       "      <td>Francisco</td>\n",
       "      <td>19.0</td>\n",
       "    </tr>\n",
       "    <tr>\n",
       "      <th>306498</th>\n",
       "      <td>Hamlet</td>\n",
       "      <td>1996</td>\n",
       "      <td>Yvonne Gidden</td>\n",
       "      <td>actress</td>\n",
       "      <td>Doctor</td>\n",
       "      <td>20.0</td>\n",
       "    </tr>\n",
       "    <tr>\n",
       "      <th>89026</th>\n",
       "      <td>Hamlet</td>\n",
       "      <td>1996</td>\n",
       "      <td>John Gielgud</td>\n",
       "      <td>actor</td>\n",
       "      <td>Priam</td>\n",
       "      <td>21.0</td>\n",
       "    </tr>\n",
       "    <tr>\n",
       "      <th>312538</th>\n",
       "      <td>Hamlet</td>\n",
       "      <td>1996</td>\n",
       "      <td>Rosemary Harris</td>\n",
       "      <td>actress</td>\n",
       "      <td>Player Queen</td>\n",
       "      <td>22.0</td>\n",
       "    </tr>\n",
       "    <tr>\n",
       "      <th>108758</th>\n",
       "      <td>Hamlet</td>\n",
       "      <td>1996</td>\n",
       "      <td>Charlton Heston</td>\n",
       "      <td>actor</td>\n",
       "      <td>Player King</td>\n",
       "      <td>23.0</td>\n",
       "    </tr>\n",
       "    <tr>\n",
       "      <th>119605</th>\n",
       "      <td>Hamlet</td>\n",
       "      <td>1996</td>\n",
       "      <td>Ravil Isyanov</td>\n",
       "      <td>actor</td>\n",
       "      <td>Cornelius</td>\n",
       "      <td>24.0</td>\n",
       "    </tr>\n",
       "    <tr>\n",
       "      <th>120257</th>\n",
       "      <td>Hamlet</td>\n",
       "      <td>1996</td>\n",
       "      <td>Derek Jacobi</td>\n",
       "      <td>actor</td>\n",
       "      <td>Claudius</td>\n",
       "      <td>25.0</td>\n",
       "    </tr>\n",
       "    <tr>\n",
       "      <th>322745</th>\n",
       "      <td>Hamlet</td>\n",
       "      <td>1996</td>\n",
       "      <td>Rowena King</td>\n",
       "      <td>actress</td>\n",
       "      <td>Attendant to Gertrude</td>\n",
       "      <td>26.0</td>\n",
       "    </tr>\n",
       "    <tr>\n",
       "      <th>132647</th>\n",
       "      <td>Hamlet</td>\n",
       "      <td>1996</td>\n",
       "      <td>Jeffery Kissoon</td>\n",
       "      <td>actor</td>\n",
       "      <td>Fortinbras's Captain</td>\n",
       "      <td>27.0</td>\n",
       "    </tr>\n",
       "    <tr>\n",
       "      <th>325462</th>\n",
       "      <td>Hamlet</td>\n",
       "      <td>1996</td>\n",
       "      <td>Sarah Lam</td>\n",
       "      <td>actress</td>\n",
       "      <td>Attendant to Gertrude</td>\n",
       "      <td>28.0</td>\n",
       "    </tr>\n",
       "    <tr>\n",
       "      <th>141480</th>\n",
       "      <td>Hamlet</td>\n",
       "      <td>1996</td>\n",
       "      <td>Jack Lemmon</td>\n",
       "      <td>actor</td>\n",
       "      <td>Marcellus</td>\n",
       "      <td>29.0</td>\n",
       "    </tr>\n",
       "    <tr>\n",
       "      <th>161310</th>\n",
       "      <td>Hamlet</td>\n",
       "      <td>1996</td>\n",
       "      <td>Ian McElhinney</td>\n",
       "      <td>actor</td>\n",
       "      <td>Barnardo</td>\n",
       "      <td>30.0</td>\n",
       "    </tr>\n",
       "    <tr>\n",
       "      <th>153254</th>\n",
       "      <td>Hamlet</td>\n",
       "      <td>1996</td>\n",
       "      <td>Michael Maloney</td>\n",
       "      <td>actor</td>\n",
       "      <td>Laertes</td>\n",
       "      <td>31.0</td>\n",
       "    </tr>\n",
       "    <tr>\n",
       "      <th>227803</th>\n",
       "      <td>Hamlet</td>\n",
       "      <td>1996</td>\n",
       "      <td>John Spencer-Churchill</td>\n",
       "      <td>actor</td>\n",
       "      <td>Fortinbras's Captain</td>\n",
       "      <td>32.0</td>\n",
       "    </tr>\n",
       "    <tr>\n",
       "      <th>168917</th>\n",
       "      <td>Hamlet</td>\n",
       "      <td>1996</td>\n",
       "      <td>John Mills</td>\n",
       "      <td>actor</td>\n",
       "      <td>Old Norway</td>\n",
       "      <td>33.0</td>\n",
       "    </tr>\n",
       "    <tr>\n",
       "      <th>169396</th>\n",
       "      <td>Hamlet</td>\n",
       "      <td>1996</td>\n",
       "      <td>Jimi Mistry</td>\n",
       "      <td>actor</td>\n",
       "      <td>Sailor Two</td>\n",
       "      <td>34.0</td>\n",
       "    </tr>\n",
       "    <tr>\n",
       "      <th>351167</th>\n",
       "      <td>Hamlet</td>\n",
       "      <td>1996</td>\n",
       "      <td>Sian Radinger</td>\n",
       "      <td>actress</td>\n",
       "      <td>Prologue</td>\n",
       "      <td>35.0</td>\n",
       "    </tr>\n",
       "    <tr>\n",
       "      <th>15254</th>\n",
       "      <td>Hamlet</td>\n",
       "      <td>1996</td>\n",
       "      <td>Simon Russell Beale</td>\n",
       "      <td>actor</td>\n",
       "      <td>Second Gravedigger</td>\n",
       "      <td>37.0</td>\n",
       "    </tr>\n",
       "    <tr>\n",
       "      <th>217556</th>\n",
       "      <td>Hamlet</td>\n",
       "      <td>1996</td>\n",
       "      <td>Andrew Schofield</td>\n",
       "      <td>actor</td>\n",
       "      <td>Young Lord</td>\n",
       "      <td>38.0</td>\n",
       "    </tr>\n",
       "    <tr>\n",
       "      <th>220271</th>\n",
       "      <td>Hamlet</td>\n",
       "      <td>1996</td>\n",
       "      <td>Rufus Sewell</td>\n",
       "      <td>actor</td>\n",
       "      <td>Fortinbras</td>\n",
       "      <td>39.0</td>\n",
       "    </tr>\n",
       "    <tr>\n",
       "      <th>227511</th>\n",
       "      <td>Hamlet</td>\n",
       "      <td>1996</td>\n",
       "      <td>Timothy Spall</td>\n",
       "      <td>actor</td>\n",
       "      <td>Rosencrantz</td>\n",
       "      <td>40.0</td>\n",
       "    </tr>\n",
       "    <tr>\n",
       "      <th>235870</th>\n",
       "      <td>Hamlet</td>\n",
       "      <td>1996</td>\n",
       "      <td>Thomas Szekeres</td>\n",
       "      <td>actor</td>\n",
       "      <td>Young Hamlet</td>\n",
       "      <td>41.0</td>\n",
       "    </tr>\n",
       "    <tr>\n",
       "      <th>239210</th>\n",
       "      <td>Hamlet</td>\n",
       "      <td>1996</td>\n",
       "      <td>Ben Thom</td>\n",
       "      <td>actor</td>\n",
       "      <td>First Player</td>\n",
       "      <td>42.0</td>\n",
       "    </tr>\n",
       "    <tr>\n",
       "      <th>253636</th>\n",
       "      <td>Hamlet</td>\n",
       "      <td>1996</td>\n",
       "      <td>Don Warrington</td>\n",
       "      <td>actor</td>\n",
       "      <td>Voltimand</td>\n",
       "      <td>43.0</td>\n",
       "    </tr>\n",
       "    <tr>\n",
       "      <th>374483</th>\n",
       "      <td>Hamlet</td>\n",
       "      <td>1996</td>\n",
       "      <td>Perdita Weeks</td>\n",
       "      <td>actress</td>\n",
       "      <td>Second Player</td>\n",
       "      <td>44.0</td>\n",
       "    </tr>\n",
       "    <tr>\n",
       "      <th>259937</th>\n",
       "      <td>Hamlet</td>\n",
       "      <td>1996</td>\n",
       "      <td>Robin Williams</td>\n",
       "      <td>actor</td>\n",
       "      <td>Osric</td>\n",
       "      <td>45.0</td>\n",
       "    </tr>\n",
       "    <tr>\n",
       "      <th>376974</th>\n",
       "      <td>Hamlet</td>\n",
       "      <td>1996</td>\n",
       "      <td>Kate Winslet</td>\n",
       "      <td>actress</td>\n",
       "      <td>Ophelia</td>\n",
       "      <td>46.0</td>\n",
       "    </tr>\n",
       "    <tr>\n",
       "      <th>264779</th>\n",
       "      <td>Hamlet</td>\n",
       "      <td>1996</td>\n",
       "      <td>David Yip</td>\n",
       "      <td>actor</td>\n",
       "      <td>Sailor One</td>\n",
       "      <td>47.0</td>\n",
       "    </tr>\n",
       "  </tbody>\n",
       "</table>\n",
       "</div>"
      ],
      "text/plain": [
       "         title  year                    name     type  \\\n",
       "97      Hamlet  1996              Riz Abbasi    actor   \n",
       "8597    Hamlet  1996    Richard Attenborough    actor   \n",
       "21533   Hamlet  1996         David (V) Blair    actor   \n",
       "21928   Hamlet  1996           Brian Blessed    actor   \n",
       "26740   Hamlet  1996         Kenneth Branagh    actor   \n",
       "28128   Hamlet  1996          Richard Briers    actor   \n",
       "30667   Hamlet  1996          Michael Bryant    actor   \n",
       "34321   Hamlet  1996            Peter Bygott    actor   \n",
       "285344  Hamlet  1996          Julie Christie  actress   \n",
       "54736   Hamlet  1996           Billy Crystal    actor   \n",
       "56498   Hamlet  1996           Charles Daish    actor   \n",
       "293769  Hamlet  1996              Judi Dench  actress   \n",
       "62621   Hamlet  1996        Gérard Depardieu    actor   \n",
       "64724   Hamlet  1996          Reece Dinsdale    actor   \n",
       "65029   Hamlet  1996                Ken Dodd    actor   \n",
       "295680  Hamlet  1996          Angela Douglas  actress   \n",
       "70874   Hamlet  1996             Rob Edwards    actor   \n",
       "76229   Hamlet  1996        Nicholas Farrell    actor   \n",
       "76699   Hamlet  1996              Ray Fearon    actor   \n",
       "306498  Hamlet  1996           Yvonne Gidden  actress   \n",
       "89026   Hamlet  1996            John Gielgud    actor   \n",
       "312538  Hamlet  1996         Rosemary Harris  actress   \n",
       "108758  Hamlet  1996         Charlton Heston    actor   \n",
       "119605  Hamlet  1996           Ravil Isyanov    actor   \n",
       "120257  Hamlet  1996            Derek Jacobi    actor   \n",
       "322745  Hamlet  1996             Rowena King  actress   \n",
       "132647  Hamlet  1996         Jeffery Kissoon    actor   \n",
       "325462  Hamlet  1996               Sarah Lam  actress   \n",
       "141480  Hamlet  1996             Jack Lemmon    actor   \n",
       "161310  Hamlet  1996          Ian McElhinney    actor   \n",
       "153254  Hamlet  1996         Michael Maloney    actor   \n",
       "227803  Hamlet  1996  John Spencer-Churchill    actor   \n",
       "168917  Hamlet  1996              John Mills    actor   \n",
       "169396  Hamlet  1996             Jimi Mistry    actor   \n",
       "351167  Hamlet  1996           Sian Radinger  actress   \n",
       "15254   Hamlet  1996     Simon Russell Beale    actor   \n",
       "217556  Hamlet  1996        Andrew Schofield    actor   \n",
       "220271  Hamlet  1996            Rufus Sewell    actor   \n",
       "227511  Hamlet  1996           Timothy Spall    actor   \n",
       "235870  Hamlet  1996         Thomas Szekeres    actor   \n",
       "239210  Hamlet  1996                Ben Thom    actor   \n",
       "253636  Hamlet  1996          Don Warrington    actor   \n",
       "374483  Hamlet  1996           Perdita Weeks  actress   \n",
       "259937  Hamlet  1996          Robin Williams    actor   \n",
       "376974  Hamlet  1996            Kate Winslet  actress   \n",
       "264779  Hamlet  1996               David Yip    actor   \n",
       "\n",
       "                       character     n  \n",
       "97         Attendant to Claudius   1.0  \n",
       "8597          English Ambassador   2.0  \n",
       "21533      Attendant to Claudius   3.0  \n",
       "21928   Ghost of Hamlet's Father   4.0  \n",
       "26740                     Hamlet   5.0  \n",
       "28128                   Polonius   6.0  \n",
       "30667                     Priest   7.0  \n",
       "34321      Attendant to Claudius   8.0  \n",
       "285344                  Gertrude   9.0  \n",
       "54736          First Gravedigger  10.0  \n",
       "56498              Stage Manager  11.0  \n",
       "293769                    Hecuba  12.0  \n",
       "62621                   Reynaldo  13.0  \n",
       "64724               Guildenstern  14.0  \n",
       "65029                     Yorick  15.0  \n",
       "295680     Attendant to Gertrude  16.0  \n",
       "70874                   Lucianus  17.0  \n",
       "76229                    Horatio  18.0  \n",
       "76699                  Francisco  19.0  \n",
       "306498                    Doctor  20.0  \n",
       "89026                      Priam  21.0  \n",
       "312538              Player Queen  22.0  \n",
       "108758               Player King  23.0  \n",
       "119605                 Cornelius  24.0  \n",
       "120257                  Claudius  25.0  \n",
       "322745     Attendant to Gertrude  26.0  \n",
       "132647      Fortinbras's Captain  27.0  \n",
       "325462     Attendant to Gertrude  28.0  \n",
       "141480                 Marcellus  29.0  \n",
       "161310                  Barnardo  30.0  \n",
       "153254                   Laertes  31.0  \n",
       "227803      Fortinbras's Captain  32.0  \n",
       "168917                Old Norway  33.0  \n",
       "169396                Sailor Two  34.0  \n",
       "351167                  Prologue  35.0  \n",
       "15254         Second Gravedigger  37.0  \n",
       "217556                Young Lord  38.0  \n",
       "220271                Fortinbras  39.0  \n",
       "227511               Rosencrantz  40.0  \n",
       "235870              Young Hamlet  41.0  \n",
       "239210              First Player  42.0  \n",
       "253636                 Voltimand  43.0  \n",
       "374483             Second Player  44.0  \n",
       "259937                     Osric  45.0  \n",
       "376974                   Ophelia  46.0  \n",
       "264779                Sailor One  47.0  "
      ]
     },
     "execution_count": 21,
     "metadata": {},
     "output_type": "execute_result"
    }
   ],
   "source": [
    "hamlet1996.dropna().sort_values('n')"
   ]
  },
  {
   "cell_type": "markdown",
   "metadata": {},
   "source": [
    "One explanation for what's going on is that the n-values represent not importance of role but order of appearance.  \n",
    "\n",
    "Also, how is Yorick a credited role?  Shouldn't he be a skull?"
   ]
  },
  {
   "cell_type": "markdown",
   "metadata": {
    "collapsed": true
   },
   "source": [
    "### How many \"Hamlet\" roles have been listed in all film credits through history?"
   ]
  },
  {
   "cell_type": "code",
   "execution_count": 92,
   "metadata": {},
   "outputs": [
    {
     "data": {
      "text/plain": [
       "342"
      ]
     },
     "execution_count": 92,
     "metadata": {},
     "output_type": "execute_result"
    }
   ],
   "source": [
    "len(cast[(cast['title'] == 'Hamlet')])"
   ]
  },
  {
   "cell_type": "markdown",
   "metadata": {
    "collapsed": true
   },
   "source": [
    "### How many people have played  \"James Bond\"?\n",
    "\n",
    "Note:  Yes, I do mean the Ian Fleming character that has given rise to a whole film franchise,\n",
    "but I'm going to allow for a little noise.  It\n",
    "turns out that characters named \"James Bond\" have come up many times in film history.  So\n",
    "it will help to add in to the constraints \"n=1\".  That is, we want a \"James Bond' character\n",
    "that is a lead role.  This will still leave in a couple of non-Ian Fleming Bonds, but don't worry, your\n",
    "answer should be very close to right.  By the way,  David Niven will be missing from\n",
    "the list of actors who've portrayed Bond; this is correct, because the name of the character\n",
    "listed in the credits is not \"James Bond\" but \"Sir James Bond\".\n",
    "\n",
    "Note: The correct answer (excluding Niven) is 6.  If your answer is far more than this\n",
    "(greater than 10) there's an issue with your code."
   ]
  },
  {
   "cell_type": "markdown",
   "metadata": {},
   "source": [
    "This is not quite right. "
   ]
  },
  {
   "cell_type": "code",
   "execution_count": 378,
   "metadata": {},
   "outputs": [],
   "source": [
    "bond_roles = cast[((cast['character'] == 'James Bond')&(cast['n']==1))]"
   ]
  },
  {
   "cell_type": "code",
   "execution_count": 379,
   "metadata": {},
   "outputs": [
    {
     "data": {
      "text/plain": [
       "26"
      ]
     },
     "execution_count": 379,
     "metadata": {},
     "output_type": "execute_result"
    }
   ],
   "source": [
    "len(bond_roles)"
   ]
  },
  {
   "cell_type": "markdown",
   "metadata": {},
   "source": [
    "That's way too many!"
   ]
  },
  {
   "cell_type": "markdown",
   "metadata": {},
   "source": [
    "Rhodes points out this is a more accurate answer."
   ]
  },
  {
   "cell_type": "code",
   "execution_count": 382,
   "metadata": {},
   "outputs": [
    {
     "data": {
      "text/plain": [
       "8"
      ]
     },
     "execution_count": 382,
     "metadata": {},
     "output_type": "execute_result"
    }
   ],
   "source": [
    "# That was [Rhodes'] original answer:\n",
    "# \"But 9peppe on GitHub points out I am wrong!\"\" Instead:\n",
    "\n",
    "#equiv to len(bond_roles['name'].unique())\n",
    "bond_roles['name'].nunique()"
   ]
  },
  {
   "cell_type": "code",
   "execution_count": 384,
   "metadata": {},
   "outputs": [
    {
     "data": {
      "text/plain": [
       "array(['Timothy Dalton', 'Pierce Brosnan', 'Sean Connery', 'Daniel Craig',\n",
       "       'Kristoffer Hatlestad', 'George Lazenby', 'Roger Moore',\n",
       "       'Tom (LXXIII) Smith'], dtype=object)"
      ]
     },
     "execution_count": 384,
     "metadata": {},
     "output_type": "execute_result"
    }
   ],
   "source": [
    "bond_roles['name'].unique()"
   ]
  },
  {
   "cell_type": "code",
   "execution_count": 255,
   "metadata": {},
   "outputs": [
    {
     "data": {
      "text/plain": [
       "1"
      ]
     },
     "execution_count": 255,
     "metadata": {},
     "output_type": "execute_result"
    }
   ],
   "source": [
    "bond_roles['character'].nunique()"
   ]
  },
  {
   "cell_type": "code",
   "execution_count": 306,
   "metadata": {},
   "outputs": [
    {
     "data": {
      "text/html": [
       "<div>\n",
       "<style scoped>\n",
       "    .dataframe tbody tr th:only-of-type {\n",
       "        vertical-align: middle;\n",
       "    }\n",
       "\n",
       "    .dataframe tbody tr th {\n",
       "        vertical-align: top;\n",
       "    }\n",
       "\n",
       "    .dataframe thead th {\n",
       "        text-align: right;\n",
       "    }\n",
       "</style>\n",
       "<table border=\"1\" class=\"dataframe\">\n",
       "  <thead>\n",
       "    <tr style=\"text-align: right;\">\n",
       "      <th></th>\n",
       "      <th>title</th>\n",
       "      <th>year</th>\n",
       "      <th>name</th>\n",
       "      <th>type</th>\n",
       "      <th>character</th>\n",
       "      <th>n</th>\n",
       "    </tr>\n",
       "  </thead>\n",
       "  <tbody>\n",
       "    <tr>\n",
       "      <th>422817</th>\n",
       "      <td>Dr. No</td>\n",
       "      <td>1962</td>\n",
       "      <td>Sean Connery</td>\n",
       "      <td>actor</td>\n",
       "      <td>James Bond</td>\n",
       "      <td>1.0</td>\n",
       "    </tr>\n",
       "    <tr>\n",
       "      <th>422818</th>\n",
       "      <td>From Russia with Love</td>\n",
       "      <td>1963</td>\n",
       "      <td>Sean Connery</td>\n",
       "      <td>actor</td>\n",
       "      <td>James Bond</td>\n",
       "      <td>1.0</td>\n",
       "    </tr>\n",
       "    <tr>\n",
       "      <th>422819</th>\n",
       "      <td>Goldfinger</td>\n",
       "      <td>1964</td>\n",
       "      <td>Sean Connery</td>\n",
       "      <td>actor</td>\n",
       "      <td>James Bond</td>\n",
       "      <td>1.0</td>\n",
       "    </tr>\n",
       "    <tr>\n",
       "      <th>422821</th>\n",
       "      <td>Thunderball</td>\n",
       "      <td>1965</td>\n",
       "      <td>Sean Connery</td>\n",
       "      <td>actor</td>\n",
       "      <td>James Bond</td>\n",
       "      <td>1.0</td>\n",
       "    </tr>\n",
       "    <tr>\n",
       "      <th>422822</th>\n",
       "      <td>You Only Live Twice</td>\n",
       "      <td>1967</td>\n",
       "      <td>Sean Connery</td>\n",
       "      <td>actor</td>\n",
       "      <td>James Bond</td>\n",
       "      <td>1.0</td>\n",
       "    </tr>\n",
       "    <tr>\n",
       "      <th>422828</th>\n",
       "      <td>On Her Majesty's Secret Service</td>\n",
       "      <td>1969</td>\n",
       "      <td>George Lazenby</td>\n",
       "      <td>actor</td>\n",
       "      <td>James Bond</td>\n",
       "      <td>1.0</td>\n",
       "    </tr>\n",
       "  </tbody>\n",
       "</table>\n",
       "</div>"
      ],
      "text/plain": [
       "                                  title  year            name   type  \\\n",
       "422817                           Dr. No  1962    Sean Connery  actor   \n",
       "422818            From Russia with Love  1963    Sean Connery  actor   \n",
       "422819                       Goldfinger  1964    Sean Connery  actor   \n",
       "422821                      Thunderball  1965    Sean Connery  actor   \n",
       "422822              You Only Live Twice  1967    Sean Connery  actor   \n",
       "422828  On Her Majesty's Secret Service  1969  George Lazenby  actor   \n",
       "\n",
       "         character    n  \n",
       "422817  James Bond  1.0  \n",
       "422818  James Bond  1.0  \n",
       "422819  James Bond  1.0  \n",
       "422821  James Bond  1.0  \n",
       "422822  James Bond  1.0  \n",
       "422828  James Bond  1.0  "
      ]
     },
     "execution_count": 306,
     "metadata": {},
     "output_type": "execute_result"
    }
   ],
   "source": [
    "cast[(cast['character'] == 'James Bond') & (cast['n'] == 1) & (cast['year'] <=\n",
    "1969)]"
   ]
  },
  {
   "cell_type": "markdown",
   "metadata": {},
   "source": [
    "Can you work out why the two answers are different?\n",
    "\n",
    "A strong hint to the answer is given below."
   ]
  },
  {
   "cell_type": "code",
   "execution_count": null,
   "metadata": {},
   "outputs": [],
   "source": []
  },
  {
   "cell_type": "code",
   "execution_count": null,
   "metadata": {},
   "outputs": [],
   "source": []
  },
  {
   "cell_type": "code",
   "execution_count": null,
   "metadata": {},
   "outputs": [],
   "source": []
  },
  {
   "cell_type": "code",
   "execution_count": null,
   "metadata": {},
   "outputs": [],
   "source": []
  },
  {
   "cell_type": "code",
   "execution_count": null,
   "metadata": {},
   "outputs": [],
   "source": []
  },
  {
   "cell_type": "code",
   "execution_count": null,
   "metadata": {},
   "outputs": [],
   "source": []
  },
  {
   "cell_type": "code",
   "execution_count": null,
   "metadata": {},
   "outputs": [],
   "source": []
  },
  {
   "cell_type": "code",
   "execution_count": null,
   "metadata": {},
   "outputs": [],
   "source": []
  },
  {
   "cell_type": "markdown",
   "metadata": {},
   "source": [
    "This demonstrates the issue as clearly as anything.  Most of the actors who\n",
    "have played the Ian Fleming chracetr have played the role more than once."
   ]
  },
  {
   "cell_type": "code",
   "execution_count": 27,
   "metadata": {},
   "outputs": [
    {
     "data": {
      "text/plain": [
       "Sean Connery            7\n",
       "Roger Moore             6\n",
       "Pierce Brosnan          4\n",
       "Daniel Craig            3\n",
       "Timothy Dalton          2\n",
       "Tom (LXXIII) Smith      2\n",
       "Kristoffer Hatlestad    1\n",
       "George Lazenby          1\n",
       "Name: name, dtype: int64"
      ]
     },
     "execution_count": 27,
     "metadata": {},
     "output_type": "execute_result"
    }
   ],
   "source": [
    "bond_roles['name'].value_counts().sort_values(ascending=False)"
   ]
  },
  {
   "cell_type": "markdown",
   "metadata": {
    "collapsed": true
   },
   "source": [
    "### How many people have played a role called \"The Dude\"?"
   ]
  },
  {
   "cell_type": "code",
   "execution_count": 99,
   "metadata": {},
   "outputs": [],
   "source": [
    "dude_roles = cast[cast['character'] == 'The Dude']"
   ]
  },
  {
   "cell_type": "code",
   "execution_count": 102,
   "metadata": {},
   "outputs": [
    {
     "data": {
      "text/plain": [
       "17"
      ]
     },
     "execution_count": 102,
     "metadata": {},
     "output_type": "execute_result"
    }
   ],
   "source": [
    "len(dude_roles['name'])"
   ]
  },
  {
   "cell_type": "code",
   "execution_count": 101,
   "metadata": {},
   "outputs": [
    {
     "data": {
      "text/plain": [
       "17"
      ]
     },
     "execution_count": 101,
     "metadata": {},
     "output_type": "execute_result"
    }
   ],
   "source": [
    "len(dude_roles['name'].unique())"
   ]
  },
  {
   "cell_type": "markdown",
   "metadata": {
    "collapsed": true
   },
   "source": [
    "### How many people have played a role called \"The Stranger\"?"
   ]
  },
  {
   "cell_type": "markdown",
   "metadata": {},
   "source": [
    "Clearly we want to be thinking about this set of rows:"
   ]
  },
  {
   "cell_type": "code",
   "execution_count": 37,
   "metadata": {},
   "outputs": [],
   "source": [
    "stranger_roles = cast[cast['character'] == 'The Stranger']"
   ]
  },
  {
   "cell_type": "markdown",
   "metadata": {},
   "source": [
    "This answer is close."
   ]
  },
  {
   "cell_type": "code",
   "execution_count": 6,
   "metadata": {},
   "outputs": [
    {
     "data": {
      "text/plain": [
       "170"
      ]
     },
     "execution_count": 6,
     "metadata": {},
     "output_type": "execute_result"
    }
   ],
   "source": [
    "len(stranger_roles)"
   ]
  },
  {
   "cell_type": "markdown",
   "metadata": {},
   "source": [
    "These answers are more accurate (the first is the most efficient)."
   ]
  },
  {
   "cell_type": "code",
   "execution_count": 9,
   "metadata": {},
   "outputs": [
    {
     "data": {
      "text/plain": [
       "160"
      ]
     },
     "execution_count": 9,
     "metadata": {},
     "output_type": "execute_result"
    }
   ],
   "source": [
    "len(stranger_roles['name'].unique())"
   ]
  },
  {
   "cell_type": "code",
   "execution_count": 39,
   "metadata": {},
   "outputs": [
    {
     "data": {
      "text/plain": [
       "160"
      ]
     },
     "execution_count": 39,
     "metadata": {},
     "output_type": "execute_result"
    }
   ],
   "source": [
    "len(stranger_roles.value_counts(\"name\"))"
   ]
  },
  {
   "cell_type": "code",
   "execution_count": 40,
   "metadata": {},
   "outputs": [
    {
     "data": {
      "text/plain": [
       "160"
      ]
     },
     "execution_count": 40,
     "metadata": {},
     "output_type": "execute_result"
    }
   ],
   "source": [
    "len(stranger_roles['name'].value_counts())"
   ]
  },
  {
   "cell_type": "markdown",
   "metadata": {
    "collapsed": true
   },
   "source": [
    "### How many roles has Sidney Poitier played throughout his career?"
   ]
  },
  {
   "cell_type": "code",
   "execution_count": 282,
   "metadata": {},
   "outputs": [],
   "source": [
    "poitier_roles = cast[cast['name'] == 'Sidney Poitier']"
   ]
  },
  {
   "cell_type": "markdown",
   "metadata": {},
   "source": [
    "This is a pretty good answer.  It's arguably right."
   ]
  },
  {
   "cell_type": "code",
   "execution_count": 385,
   "metadata": {
    "scrolled": true
   },
   "outputs": [
    {
     "data": {
      "text/plain": [
       "43"
      ]
     },
     "execution_count": 385,
     "metadata": {},
     "output_type": "execute_result"
    }
   ],
   "source": [
    "len(poitier_roles)"
   ]
  },
  {
   "cell_type": "markdown",
   "metadata": {},
   "source": [
    "But this answer is more accurate on a pretty reasonable definition of **role**."
   ]
  },
  {
   "cell_type": "code",
   "execution_count": 284,
   "metadata": {
    "scrolled": true
   },
   "outputs": [
    {
     "data": {
      "text/plain": [
       "41"
      ]
     },
     "execution_count": 284,
     "metadata": {},
     "output_type": "execute_result"
    }
   ],
   "source": [
    "len(poitier_roles['character'].unique())"
   ]
  },
  {
   "cell_type": "markdown",
   "metadata": {},
   "source": [
    "There were three movies in which Poitier played the role of Detective Virgil Tibbs.\n",
    "Isn't that the same role in 3 different movies?  For the first answer to be right you have\n",
    "to argue that even though it's the same character, it's 3 different roles, because\n",
    "it's 3 different movies.  "
   ]
  },
  {
   "cell_type": "code",
   "execution_count": 386,
   "metadata": {},
   "outputs": [
    {
     "data": {
      "text/plain": [
       "Virgil Tibbs    3\n",
       "Gordon Ralfe    1\n",
       "Noah Cullen     1\n",
       "Doctor          1\n",
       "Robertson       1\n",
       "Name: character, dtype: int64"
      ]
     },
     "execution_count": 386,
     "metadata": {},
     "output_type": "execute_result"
    }
   ],
   "source": [
    "poitier_roles['character'].value_counts()[:5]"
   ]
  },
  {
   "cell_type": "code",
   "execution_count": 288,
   "metadata": {},
   "outputs": [
    {
     "name": "stdout",
     "output_type": "stream",
     "text": [
      "Incorrect (by me) 43\n",
      "Correct (by me) 41\n"
     ]
    }
   ],
   "source": [
    "print(\"Incorrect (by me)\",poitier_roles['character'].value_counts().sum())\n",
    "print('Correct (by me)', len(poitier_roles['character'].value_counts()))"
   ]
  },
  {
   "cell_type": "markdown",
   "metadata": {},
   "source": [
    "The sum of the value counts is 43.  The length of the value counts series is the\n",
    "correct answer"
   ]
  },
  {
   "cell_type": "markdown",
   "metadata": {},
   "source": [
    "The definition of role presupposed by the first answer\n",
    "is not a totally crazy definition.  It is the definition a Hollywood\n",
    "agent might use, when arguing that her client is very experienced, even though his only credited role is that of Jack McGum, who was a character in 3 movies about Al Capone."
   ]
  },
  {
   "cell_type": "markdown",
   "metadata": {
    "collapsed": true
   },
   "source": [
    "### How many roles has Judi Dench played?"
   ]
  },
  {
   "cell_type": "code",
   "execution_count": 387,
   "metadata": {},
   "outputs": [],
   "source": [
    "dench_roles = cast[cast['name'] == 'Judi Dench']"
   ]
  },
  {
   "cell_type": "code",
   "execution_count": 388,
   "metadata": {},
   "outputs": [
    {
     "data": {
      "text/plain": [
       "55"
      ]
     },
     "execution_count": 388,
     "metadata": {},
     "output_type": "execute_result"
    }
   ],
   "source": [
    "len(dench_roles)"
   ]
  },
  {
   "cell_type": "markdown",
   "metadata": {},
   "source": [
    "Same issue with some new subtleties."
   ]
  },
  {
   "cell_type": "code",
   "execution_count": 389,
   "metadata": {
    "scrolled": true
   },
   "outputs": [
    {
     "data": {
      "text/plain": [
       "46"
      ]
     },
     "execution_count": 389,
     "metadata": {},
     "output_type": "execute_result"
    }
   ],
   "source": [
    "len(dench_roles['character'].unique())"
   ]
  },
  {
   "cell_type": "markdown",
   "metadata": {},
   "source": [
    "There are several roles Dench has played in multiple movies. The\n",
    "character \"M\" in multiple James Bond movies is undoubtedly the same\n",
    "character, probably subjected to the consistency demands of\n",
    "a long-running franchise.\n",
    "\n",
    "The two Queen Victorias are more interesting, since they are\n",
    "written by different screenplay writers,\n",
    "deal with the queen at different ages, and focus on\n",
    "very different aspects of her.\n",
    "From the actor's point of view they are arguably not the same role,\n",
    "since different characterizations must be  created."
   ]
  },
  {
   "cell_type": "code",
   "execution_count": 106,
   "metadata": {},
   "outputs": [
    {
     "data": {
      "text/plain": [
       "5"
      ]
     },
     "execution_count": 106,
     "metadata": {},
     "output_type": "execute_result"
    }
   ],
   "source": [
    "#Here's why you need to add .unique()\n",
    "sr_vc=stranger_roles['name'].value_counts()\n",
    "# Five actors have played the role in multiple films.  Who knew?\n",
    "(sr_vc>1).sum()"
   ]
  },
  {
   "cell_type": "code",
   "execution_count": 390,
   "metadata": {},
   "outputs": [
    {
     "data": {
      "text/plain": [
       "M                       8\n",
       "Queen Victoria          2\n",
       "Evelyn Greenslade       2\n",
       "Bag Lady                1\n",
       "Dame Sybil Thorndike    1\n",
       "Name: character, dtype: int64"
      ]
     },
     "execution_count": 390,
     "metadata": {},
     "output_type": "execute_result"
    }
   ],
   "source": [
    "dench_roles['character'].value_counts()[:5]"
   ]
  },
  {
   "cell_type": "code",
   "execution_count": 391,
   "metadata": {},
   "outputs": [
    {
     "data": {
      "text/html": [
       "<div>\n",
       "<style scoped>\n",
       "    .dataframe tbody tr th:only-of-type {\n",
       "        vertical-align: middle;\n",
       "    }\n",
       "\n",
       "    .dataframe tbody tr th {\n",
       "        vertical-align: top;\n",
       "    }\n",
       "\n",
       "    .dataframe thead th {\n",
       "        text-align: right;\n",
       "    }\n",
       "</style>\n",
       "<table border=\"1\" class=\"dataframe\">\n",
       "  <thead>\n",
       "    <tr style=\"text-align: right;\">\n",
       "      <th></th>\n",
       "      <th>title</th>\n",
       "      <th>year</th>\n",
       "      <th>name</th>\n",
       "      <th>type</th>\n",
       "      <th>character</th>\n",
       "      <th>n</th>\n",
       "    </tr>\n",
       "  </thead>\n",
       "  <tbody>\n",
       "    <tr>\n",
       "      <th>293780</th>\n",
       "      <td>Mrs Brown</td>\n",
       "      <td>1997</td>\n",
       "      <td>Judi Dench</td>\n",
       "      <td>actress</td>\n",
       "      <td>Queen Victoria</td>\n",
       "      <td>1.0</td>\n",
       "    </tr>\n",
       "    <tr>\n",
       "      <th>293808</th>\n",
       "      <td>Victoria &amp; Abdul</td>\n",
       "      <td>2017</td>\n",
       "      <td>Judi Dench</td>\n",
       "      <td>actress</td>\n",
       "      <td>Queen Victoria</td>\n",
       "      <td>1.0</td>\n",
       "    </tr>\n",
       "  </tbody>\n",
       "</table>\n",
       "</div>"
      ],
      "text/plain": [
       "                   title  year        name     type       character    n\n",
       "293780         Mrs Brown  1997  Judi Dench  actress  Queen Victoria  1.0\n",
       "293808  Victoria & Abdul  2017  Judi Dench  actress  Queen Victoria  1.0"
      ]
     },
     "execution_count": 391,
     "metadata": {},
     "output_type": "execute_result"
    }
   ],
   "source": [
    "dench_roles[dench_roles['character']=='Queen Victoria']"
   ]
  },
  {
   "cell_type": "markdown",
   "metadata": {
    "collapsed": true
   },
   "source": [
    "### List the supporting roles (having n=2) played by Cary Grant in the 1940s, in order by year."
   ]
  },
  {
   "cell_type": "code",
   "execution_count": 30,
   "metadata": {},
   "outputs": [
    {
     "name": "stdout",
     "output_type": "stream",
     "text": [
      "2\n"
     ]
    },
    {
     "data": {
      "text/html": [
       "<div>\n",
       "<style scoped>\n",
       "    .dataframe tbody tr th:only-of-type {\n",
       "        vertical-align: middle;\n",
       "    }\n",
       "\n",
       "    .dataframe tbody tr th {\n",
       "        vertical-align: top;\n",
       "    }\n",
       "\n",
       "    .dataframe thead th {\n",
       "        text-align: right;\n",
       "    }\n",
       "</style>\n",
       "<table border=\"1\" class=\"dataframe\">\n",
       "  <thead>\n",
       "    <tr style=\"text-align: right;\">\n",
       "      <th></th>\n",
       "      <th>title</th>\n",
       "      <th>year</th>\n",
       "      <th>name</th>\n",
       "      <th>type</th>\n",
       "      <th>character</th>\n",
       "      <th>n</th>\n",
       "    </tr>\n",
       "  </thead>\n",
       "  <tbody>\n",
       "    <tr>\n",
       "      <th>93661</th>\n",
       "      <td>My Favorite Wife</td>\n",
       "      <td>1940</td>\n",
       "      <td>Cary Grant</td>\n",
       "      <td>actor</td>\n",
       "      <td>Nick Arden</td>\n",
       "      <td>2.0</td>\n",
       "    </tr>\n",
       "    <tr>\n",
       "      <th>93671</th>\n",
       "      <td>Penny Serenade</td>\n",
       "      <td>1941</td>\n",
       "      <td>Cary Grant</td>\n",
       "      <td>actor</td>\n",
       "      <td>Roger Adams</td>\n",
       "      <td>2.0</td>\n",
       "    </tr>\n",
       "  </tbody>\n",
       "</table>\n",
       "</div>"
      ],
      "text/plain": [
       "                  title  year        name   type    character    n\n",
       "93661  My Favorite Wife  1940  Cary Grant  actor   Nick Arden  2.0\n",
       "93671    Penny Serenade  1941  Cary Grant  actor  Roger Adams  2.0"
      ]
     },
     "execution_count": 30,
     "metadata": {},
     "output_type": "execute_result"
    }
   ],
   "source": [
    "cg_n2 = cast[(cast['name'] == 'Cary Grant')& (cast['year']//10==194) &(cast['n'] == 2)]\n",
    "print(len(cg_n2))\n",
    "cg_n2.sort_values('year')"
   ]
  },
  {
   "cell_type": "code",
   "execution_count": null,
   "metadata": {},
   "outputs": [],
   "source": []
  },
  {
   "cell_type": "markdown",
   "metadata": {
    "collapsed": true
   },
   "source": [
    "### List the leading roles that Cary Grant played in the 1940s in order by year."
   ]
  },
  {
   "cell_type": "code",
   "execution_count": 42,
   "metadata": {},
   "outputs": [
    {
     "data": {
      "text/html": [
       "<div>\n",
       "<style scoped>\n",
       "    .dataframe tbody tr th:only-of-type {\n",
       "        vertical-align: middle;\n",
       "    }\n",
       "\n",
       "    .dataframe tbody tr th {\n",
       "        vertical-align: top;\n",
       "    }\n",
       "\n",
       "    .dataframe thead th {\n",
       "        text-align: right;\n",
       "    }\n",
       "</style>\n",
       "<table border=\"1\" class=\"dataframe\">\n",
       "  <thead>\n",
       "    <tr style=\"text-align: right;\">\n",
       "      <th></th>\n",
       "      <th>title</th>\n",
       "      <th>year</th>\n",
       "      <th>name</th>\n",
       "      <th>type</th>\n",
       "      <th>character</th>\n",
       "      <th>n</th>\n",
       "    </tr>\n",
       "  </thead>\n",
       "  <tbody>\n",
       "    <tr>\n",
       "      <th>93686</th>\n",
       "      <td>The Howards of Virginia</td>\n",
       "      <td>1940</td>\n",
       "      <td>Cary Grant</td>\n",
       "      <td>actor</td>\n",
       "      <td>Matt Howard</td>\n",
       "      <td>1.0</td>\n",
       "    </tr>\n",
       "    <tr>\n",
       "      <th>93645</th>\n",
       "      <td>His Girl Friday</td>\n",
       "      <td>1940</td>\n",
       "      <td>Cary Grant</td>\n",
       "      <td>actor</td>\n",
       "      <td>Walter Burns</td>\n",
       "      <td>1.0</td>\n",
       "    </tr>\n",
       "    <tr>\n",
       "      <th>93688</th>\n",
       "      <td>The Philadelphia Story</td>\n",
       "      <td>1940</td>\n",
       "      <td>Cary Grant</td>\n",
       "      <td>actor</td>\n",
       "      <td>C. K. Dexter Haven</td>\n",
       "      <td>1.0</td>\n",
       "    </tr>\n",
       "    <tr>\n",
       "      <th>93676</th>\n",
       "      <td>Suspicion</td>\n",
       "      <td>1941</td>\n",
       "      <td>Cary Grant</td>\n",
       "      <td>actor</td>\n",
       "      <td>Johnnie Aysgarth</td>\n",
       "      <td>1.0</td>\n",
       "    </tr>\n",
       "    <tr>\n",
       "      <th>93690</th>\n",
       "      <td>The Talk of the Town</td>\n",
       "      <td>1942</td>\n",
       "      <td>Cary Grant</td>\n",
       "      <td>actor</td>\n",
       "      <td>Leopold Dilg</td>\n",
       "      <td>1.0</td>\n",
       "    </tr>\n",
       "    <tr>\n",
       "      <th>93667</th>\n",
       "      <td>Once Upon a Honeymoon</td>\n",
       "      <td>1942</td>\n",
       "      <td>Cary Grant</td>\n",
       "      <td>actor</td>\n",
       "      <td>Patrick 'Pat' O'Toole</td>\n",
       "      <td>1.0</td>\n",
       "    </tr>\n",
       "    <tr>\n",
       "      <th>93636</th>\n",
       "      <td>Destination Tokyo</td>\n",
       "      <td>1943</td>\n",
       "      <td>Cary Grant</td>\n",
       "      <td>actor</td>\n",
       "      <td>Capt. Cassidy</td>\n",
       "      <td>1.0</td>\n",
       "    </tr>\n",
       "    <tr>\n",
       "      <th>93660</th>\n",
       "      <td>Mr. Lucky</td>\n",
       "      <td>1943</td>\n",
       "      <td>Cary Grant</td>\n",
       "      <td>actor</td>\n",
       "      <td>Joe Adams -posing as Joe Bascopolous</td>\n",
       "      <td>1.0</td>\n",
       "    </tr>\n",
       "    <tr>\n",
       "      <th>93668</th>\n",
       "      <td>Once Upon a Time</td>\n",
       "      <td>1944</td>\n",
       "      <td>Cary Grant</td>\n",
       "      <td>actor</td>\n",
       "      <td>Jerry Flynn</td>\n",
       "      <td>1.0</td>\n",
       "    </tr>\n",
       "    <tr>\n",
       "      <th>93628</th>\n",
       "      <td>Arsenic and Old Lace</td>\n",
       "      <td>1944</td>\n",
       "      <td>Cary Grant</td>\n",
       "      <td>actor</td>\n",
       "      <td>Mortimer Brewster</td>\n",
       "      <td>1.0</td>\n",
       "    </tr>\n",
       "    <tr>\n",
       "      <th>93663</th>\n",
       "      <td>None But the Lonely Heart</td>\n",
       "      <td>1944</td>\n",
       "      <td>Cary Grant</td>\n",
       "      <td>actor</td>\n",
       "      <td>Ernie Mott</td>\n",
       "      <td>1.0</td>\n",
       "    </tr>\n",
       "    <tr>\n",
       "      <th>93662</th>\n",
       "      <td>Night and Day</td>\n",
       "      <td>1946</td>\n",
       "      <td>Cary Grant</td>\n",
       "      <td>actor</td>\n",
       "      <td>Cole Porter</td>\n",
       "      <td>1.0</td>\n",
       "    </tr>\n",
       "    <tr>\n",
       "      <th>93665</th>\n",
       "      <td>Notorious</td>\n",
       "      <td>1946</td>\n",
       "      <td>Cary Grant</td>\n",
       "      <td>actor</td>\n",
       "      <td>Devlin</td>\n",
       "      <td>1.0</td>\n",
       "    </tr>\n",
       "    <tr>\n",
       "      <th>93682</th>\n",
       "      <td>The Bachelor and the Bobby-Soxer</td>\n",
       "      <td>1947</td>\n",
       "      <td>Cary Grant</td>\n",
       "      <td>actor</td>\n",
       "      <td>Dick Nugent</td>\n",
       "      <td>1.0</td>\n",
       "    </tr>\n",
       "    <tr>\n",
       "      <th>93683</th>\n",
       "      <td>The Bishop's Wife</td>\n",
       "      <td>1947</td>\n",
       "      <td>Cary Grant</td>\n",
       "      <td>actor</td>\n",
       "      <td>Dudley</td>\n",
       "      <td>1.0</td>\n",
       "    </tr>\n",
       "    <tr>\n",
       "      <th>93659</th>\n",
       "      <td>Mr. Blandings Builds His Dream House</td>\n",
       "      <td>1948</td>\n",
       "      <td>Cary Grant</td>\n",
       "      <td>actor</td>\n",
       "      <td>Jim Blandings</td>\n",
       "      <td>1.0</td>\n",
       "    </tr>\n",
       "    <tr>\n",
       "      <th>93640</th>\n",
       "      <td>Every Girl Should Be Married</td>\n",
       "      <td>1948</td>\n",
       "      <td>Cary Grant</td>\n",
       "      <td>actor</td>\n",
       "      <td>Dr. Madison Brown</td>\n",
       "      <td>1.0</td>\n",
       "    </tr>\n",
       "    <tr>\n",
       "      <th>93649</th>\n",
       "      <td>I Was a Male War Bride</td>\n",
       "      <td>1949</td>\n",
       "      <td>Cary Grant</td>\n",
       "      <td>actor</td>\n",
       "      <td>Captain Henri Rochard</td>\n",
       "      <td>1.0</td>\n",
       "    </tr>\n",
       "  </tbody>\n",
       "</table>\n",
       "</div>"
      ],
      "text/plain": [
       "                                      title  year        name   type  \\\n",
       "93686               The Howards of Virginia  1940  Cary Grant  actor   \n",
       "93645                       His Girl Friday  1940  Cary Grant  actor   \n",
       "93688                The Philadelphia Story  1940  Cary Grant  actor   \n",
       "93676                             Suspicion  1941  Cary Grant  actor   \n",
       "93690                  The Talk of the Town  1942  Cary Grant  actor   \n",
       "93667                 Once Upon a Honeymoon  1942  Cary Grant  actor   \n",
       "93636                     Destination Tokyo  1943  Cary Grant  actor   \n",
       "93660                             Mr. Lucky  1943  Cary Grant  actor   \n",
       "93668                      Once Upon a Time  1944  Cary Grant  actor   \n",
       "93628                  Arsenic and Old Lace  1944  Cary Grant  actor   \n",
       "93663             None But the Lonely Heart  1944  Cary Grant  actor   \n",
       "93662                         Night and Day  1946  Cary Grant  actor   \n",
       "93665                             Notorious  1946  Cary Grant  actor   \n",
       "93682      The Bachelor and the Bobby-Soxer  1947  Cary Grant  actor   \n",
       "93683                     The Bishop's Wife  1947  Cary Grant  actor   \n",
       "93659  Mr. Blandings Builds His Dream House  1948  Cary Grant  actor   \n",
       "93640          Every Girl Should Be Married  1948  Cary Grant  actor   \n",
       "93649                I Was a Male War Bride  1949  Cary Grant  actor   \n",
       "\n",
       "                                  character    n  \n",
       "93686                           Matt Howard  1.0  \n",
       "93645                          Walter Burns  1.0  \n",
       "93688                    C. K. Dexter Haven  1.0  \n",
       "93676                      Johnnie Aysgarth  1.0  \n",
       "93690                          Leopold Dilg  1.0  \n",
       "93667                 Patrick 'Pat' O'Toole  1.0  \n",
       "93636                         Capt. Cassidy  1.0  \n",
       "93660  Joe Adams -posing as Joe Bascopolous  1.0  \n",
       "93668                           Jerry Flynn  1.0  \n",
       "93628                     Mortimer Brewster  1.0  \n",
       "93663                            Ernie Mott  1.0  \n",
       "93662                           Cole Porter  1.0  \n",
       "93665                                Devlin  1.0  \n",
       "93682                           Dick Nugent  1.0  \n",
       "93683                                Dudley  1.0  \n",
       "93659                         Jim Blandings  1.0  \n",
       "93640                     Dr. Madison Brown  1.0  \n",
       "93649                 Captain Henri Rochard  1.0  "
      ]
     },
     "execution_count": 42,
     "metadata": {},
     "output_type": "execute_result"
    }
   ],
   "source": [
    "# A differnt way to compute 1940s\n",
    "cg_1940s = cast[(cast['name'] == 'Cary Grant')&(1950 > cast['year'])& \n",
    "                (cast['year'] > 1939) &(cast['n']==1)].sort_values('year')\n",
    "cg_1940s"
   ]
  },
  {
   "cell_type": "markdown",
   "metadata": {},
   "source": [
    "If you're wondering where your favorite Cary Grant film went, it might be one of\n",
    "these.  Quite astonishing that in one film the role of George Kerby is a `NaN`."
   ]
  },
  {
   "cell_type": "code",
   "execution_count": 49,
   "metadata": {},
   "outputs": [
    {
     "data": {
      "text/html": [
       "<div>\n",
       "<style scoped>\n",
       "    .dataframe tbody tr th:only-of-type {\n",
       "        vertical-align: middle;\n",
       "    }\n",
       "\n",
       "    .dataframe tbody tr th {\n",
       "        vertical-align: top;\n",
       "    }\n",
       "\n",
       "    .dataframe thead th {\n",
       "        text-align: right;\n",
       "    }\n",
       "</style>\n",
       "<table border=\"1\" class=\"dataframe\">\n",
       "  <thead>\n",
       "    <tr style=\"text-align: right;\">\n",
       "      <th></th>\n",
       "      <th>title</th>\n",
       "      <th>year</th>\n",
       "      <th>name</th>\n",
       "      <th>type</th>\n",
       "      <th>character</th>\n",
       "      <th>n</th>\n",
       "    </tr>\n",
       "  </thead>\n",
       "  <tbody>\n",
       "    <tr>\n",
       "      <th>93681</th>\n",
       "      <td>The Awful Truth</td>\n",
       "      <td>1937</td>\n",
       "      <td>Cary Grant</td>\n",
       "      <td>actor</td>\n",
       "      <td>Jerry Warriner</td>\n",
       "      <td>2.0</td>\n",
       "    </tr>\n",
       "    <tr>\n",
       "      <th>93691</th>\n",
       "      <td>The Toast of New York</td>\n",
       "      <td>1937</td>\n",
       "      <td>Cary Grant</td>\n",
       "      <td>actor</td>\n",
       "      <td>Nick Boyd</td>\n",
       "      <td>2.0</td>\n",
       "    </tr>\n",
       "    <tr>\n",
       "      <th>93697</th>\n",
       "      <td>Topper</td>\n",
       "      <td>1937</td>\n",
       "      <td>Cary Grant</td>\n",
       "      <td>actor</td>\n",
       "      <td>George Kerby</td>\n",
       "      <td>2.0</td>\n",
       "    </tr>\n",
       "    <tr>\n",
       "      <th>93702</th>\n",
       "      <td>When You're in Love</td>\n",
       "      <td>1937</td>\n",
       "      <td>Cary Grant</td>\n",
       "      <td>actor</td>\n",
       "      <td>Jimmy Hudson</td>\n",
       "      <td>2.0</td>\n",
       "    </tr>\n",
       "    <tr>\n",
       "      <th>93632</th>\n",
       "      <td>Bringing Up Baby</td>\n",
       "      <td>1938</td>\n",
       "      <td>Cary Grant</td>\n",
       "      <td>actor</td>\n",
       "      <td>David</td>\n",
       "      <td>2.0</td>\n",
       "    </tr>\n",
       "    <tr>\n",
       "      <th>93646</th>\n",
       "      <td>Holiday</td>\n",
       "      <td>1938</td>\n",
       "      <td>Cary Grant</td>\n",
       "      <td>actor</td>\n",
       "      <td>Johnny Case</td>\n",
       "      <td>2.0</td>\n",
       "    </tr>\n",
       "    <tr>\n",
       "      <th>93698</th>\n",
       "      <td>Topper Takes a Trip</td>\n",
       "      <td>1938</td>\n",
       "      <td>Cary Grant</td>\n",
       "      <td>actor</td>\n",
       "      <td>George Kerby</td>\n",
       "      <td>NaN</td>\n",
       "    </tr>\n",
       "  </tbody>\n",
       "</table>\n",
       "</div>"
      ],
      "text/plain": [
       "                       title  year        name   type       character    n\n",
       "93681        The Awful Truth  1937  Cary Grant  actor  Jerry Warriner  2.0\n",
       "93691  The Toast of New York  1937  Cary Grant  actor       Nick Boyd  2.0\n",
       "93697                 Topper  1937  Cary Grant  actor    George Kerby  2.0\n",
       "93702    When You're in Love  1937  Cary Grant  actor    Jimmy Hudson  2.0\n",
       "93632       Bringing Up Baby  1938  Cary Grant  actor           David  2.0\n",
       "93646                Holiday  1938  Cary Grant  actor     Johnny Case  2.0\n",
       "93698    Topper Takes a Trip  1938  Cary Grant  actor    George Kerby  NaN"
      ]
     },
     "execution_count": 49,
     "metadata": {},
     "output_type": "execute_result"
    }
   ],
   "source": [
    "cg_1938 = cast[(cast['name'] == 'Cary Grant')&(1939 > cast['year'])& \n",
    "                (cast['year'] > 1936)].sort_values('year')\n",
    "cg_1938"
   ]
  },
  {
   "cell_type": "markdown",
   "metadata": {
    "collapsed": true
   },
   "source": [
    "### How many roles were available for actors in the 1920s?"
   ]
  },
  {
   "cell_type": "code",
   "execution_count": 392,
   "metadata": {},
   "outputs": [
    {
     "data": {
      "text/plain": [
       "194"
      ]
     },
     "execution_count": 392,
     "metadata": {},
     "output_type": "execute_result"
    }
   ],
   "source": [
    "1943//10"
   ]
  },
  {
   "cell_type": "code",
   "execution_count": 307,
   "metadata": {},
   "outputs": [],
   "source": [
    "nineteen_twenties_roles = cast[cast['year']//10 == 192]"
   ]
  },
  {
   "cell_type": "markdown",
   "metadata": {},
   "source": [
    "Wrong answers"
   ]
  },
  {
   "cell_type": "code",
   "execution_count": 314,
   "metadata": {},
   "outputs": [
    {
     "data": {
      "text/plain": [
       "71937"
      ]
     },
     "execution_count": 314,
     "metadata": {},
     "output_type": "execute_result"
    }
   ],
   "source": [
    "actor_mask = nineteen_twenties_roles['type']=='actor'\n",
    "len(actor_mask)"
   ]
  },
  {
   "cell_type": "code",
   "execution_count": 315,
   "metadata": {},
   "outputs": [
    {
     "data": {
      "text/plain": [
       "71937"
      ]
     },
     "execution_count": 315,
     "metadata": {},
     "output_type": "execute_result"
    }
   ],
   "source": [
    "actor_mask.count()"
   ]
  },
  {
   "cell_type": "markdown",
   "metadata": {},
   "source": [
    "This one is different and also wrong."
   ]
  },
  {
   "cell_type": "code",
   "execution_count": 320,
   "metadata": {
    "scrolled": true
   },
   "outputs": [
    {
     "data": {
      "text/plain": [
       "38024"
      ]
     },
     "execution_count": 320,
     "metadata": {},
     "output_type": "execute_result"
    }
   ],
   "source": [
    "(nineteen_twenties_roles[actor_mask]['character']).nunique()"
   ]
  },
  {
   "cell_type": "markdown",
   "metadata": {},
   "source": [
    "Here's why:"
   ]
  },
  {
   "cell_type": "code",
   "execution_count": 324,
   "metadata": {},
   "outputs": [
    {
     "data": {
      "text/plain": [
       "Minor Role                     181\n",
       "Undetermined Role              170\n",
       "Himself                        169\n",
       "Sheriff                        144\n",
       "Butler                         115\n",
       "Henchman                        99\n",
       "Detective                       98\n",
       "Undetermined Secondary Role     77\n",
       "Man in Dance Hall               77\n",
       "Bit Role                        70\n",
       "Doctor                          67\n",
       "Little Boy                      65\n",
       "Bit Part                        59\n",
       "Extra                           58\n",
       "Joe                             46\n",
       "Boy                             45\n",
       "Crook                           45\n",
       "Name: character, dtype: int64"
      ]
     },
     "execution_count": 324,
     "metadata": {},
     "output_type": "execute_result"
    }
   ],
   "source": [
    "(nineteen_twenties_roles[actor_mask]['character']).value_counts()[:17]"
   ]
  },
  {
   "cell_type": "markdown",
   "metadata": {},
   "source": [
    "Right answers:"
   ]
  },
  {
   "cell_type": "code",
   "execution_count": 316,
   "metadata": {},
   "outputs": [
    {
     "data": {
      "text/plain": [
       "48111"
      ]
     },
     "execution_count": 316,
     "metadata": {},
     "output_type": "execute_result"
    }
   ],
   "source": [
    "len(nineteen_twenties_roles[actor_mask])"
   ]
  },
  {
   "cell_type": "code",
   "execution_count": 317,
   "metadata": {},
   "outputs": [
    {
     "data": {
      "text/plain": [
       "48111"
      ]
     },
     "execution_count": 317,
     "metadata": {},
     "output_type": "execute_result"
    }
   ],
   "source": [
    "(actor_mask).sum()"
   ]
  },
  {
   "cell_type": "code",
   "execution_count": 319,
   "metadata": {},
   "outputs": [
    {
     "data": {
      "text/plain": [
       "48111"
      ]
     },
     "execution_count": 319,
     "metadata": {},
     "output_type": "execute_result"
    }
   ],
   "source": [
    "(nineteen_twenties_roles[actor_mask]['character']).count()"
   ]
  },
  {
   "cell_type": "markdown",
   "metadata": {
    "collapsed": true
   },
   "source": [
    "### How many roles were available for actresses in the 1920s?"
   ]
  },
  {
   "cell_type": "code",
   "execution_count": 325,
   "metadata": {},
   "outputs": [
    {
     "data": {
      "text/plain": [
       "23826"
      ]
     },
     "execution_count": 325,
     "metadata": {},
     "output_type": "execute_result"
    }
   ],
   "source": [
    "actress_mask = nineteen_twenties_roles['type']=='actress'\n",
    "len(nineteen_twenties_roles[actress_mask])"
   ]
  },
  {
   "cell_type": "markdown",
   "metadata": {},
   "source": [
    "The last two answers add up to the number of roles in the 1920s"
   ]
  },
  {
   "cell_type": "code",
   "execution_count": 115,
   "metadata": {
    "scrolled": true
   },
   "outputs": [
    {
     "data": {
      "text/plain": [
       "71938"
      ]
     },
     "execution_count": 115,
     "metadata": {},
     "output_type": "execute_result"
    }
   ],
   "source": [
    "48112+23826"
   ]
  },
  {
   "cell_type": "markdown",
   "metadata": {},
   "source": [
    "Comment: More than twice as many actor roles."
   ]
  },
  {
   "cell_type": "code",
   "execution_count": 326,
   "metadata": {},
   "outputs": [
    {
     "data": {
      "text/plain": [
       "2.0192646688491562"
      ]
     },
     "execution_count": 326,
     "metadata": {},
     "output_type": "execute_result"
    }
   ],
   "source": [
    "(actor_mask).sum()/actress_mask.sum()"
   ]
  },
  {
   "cell_type": "markdown",
   "metadata": {},
   "source": [
    "## Part B:  Questions needing value_counts, pivot_tables, or cross tabulation"
   ]
  },
  {
   "cell_type": "markdown",
   "metadata": {},
   "source": [
    "### Of the films made before 1939, which had the largest cast?\n",
    "\n",
    "After you've made a DataFrame containing the set of rows in `cast` that you're interested in,\n",
    "you need to do a computation involving counting.  The question to think about\n",
    "is what you want to count.  You **don't** want to do this:\n",
    "\n",
    "```\n",
    "pd.crosstab(cast_pre_1939['title'],cast_pre_1939['name'])\n",
    "```\n",
    "\n",
    "since after a **very** long computation, this will end up telling you\n",
    "the number of characters each actor/actress played in each film\n",
    "(which is usually 1).\n",
    "\n",
    "So think about the structure of the data.  This is actually pretty simple.\n"
   ]
  },
  {
   "cell_type": "markdown",
   "metadata": {},
   "source": [
    "Films made before 1939:"
   ]
  },
  {
   "cell_type": "code",
   "execution_count": 50,
   "metadata": {},
   "outputs": [],
   "source": [
    "cast_pre_1939 = cast[cast['year'] < 1939]"
   ]
  },
  {
   "cell_type": "markdown",
   "metadata": {},
   "source": [
    "Simplest answer.  The number of rows a film appears in in the `cast` DataFrame is the number of actors and actresses it has\n",
    "in it."
   ]
  },
  {
   "cell_type": "code",
   "execution_count": 51,
   "metadata": {},
   "outputs": [
    {
     "data": {
      "text/plain": [
       "Wells Fargo                                        193\n",
       "Mr. Deeds Goes to Town                             177\n",
       "The Buccaneer                                      172\n",
       "The Merry Widow                                    164\n",
       "You Can't Take It with You                         161\n",
       "                                                  ... \n",
       "Maciste und die chinesische Truhe                    1\n",
       "Kapellmeister Pflegekind                             1\n",
       "Frate Francesco                                      1\n",
       "A Romance of Burke and Wills Expedition of 1860      1\n",
       "I proika tis Annoulas                                1\n",
       "Name: title, Length: 20177, dtype: int64"
      ]
     },
     "execution_count": 51,
     "metadata": {},
     "output_type": "execute_result"
    }
   ],
   "source": [
    "title_counts_pre_1939 = cast_pre_1939['title'].value_counts()\n",
    "title_counts_pre_1939"
   ]
  },
  {
   "cell_type": "markdown",
   "metadata": {},
   "source": [
    "An issue with this answer is remakes. A film like  \"Hamlet\" has had  many remakes and\n",
    "`title_counts_pre_1930` conflates these films:"
   ]
  },
  {
   "cell_type": "code",
   "execution_count": 52,
   "metadata": {},
   "outputs": [
    {
     "data": {
      "text/plain": [
       "37"
      ]
     },
     "execution_count": 52,
     "metadata": {},
     "output_type": "execute_result"
    }
   ],
   "source": [
    "title_counts_pre_1939[\"Hamlet\"]"
   ]
  },
  {
   "cell_type": "markdown",
   "metadata": {},
   "source": [
    "We see that this correctly counts the number of Hamlet rows:"
   ]
  },
  {
   "cell_type": "code",
   "execution_count": 26,
   "metadata": {},
   "outputs": [
    {
     "data": {
      "text/plain": [
       "37"
      ]
     },
     "execution_count": 26,
     "metadata": {},
     "output_type": "execute_result"
    }
   ],
   "source": [
    "len(cast_pre_1939[cast_pre_1939['title'] == 'Hamlet'])"
   ]
  },
  {
   "cell_type": "markdown",
   "metadata": {},
   "source": [
    "But those rows combine the casts of 4 different films."
   ]
  },
  {
   "cell_type": "code",
   "execution_count": 393,
   "metadata": {},
   "outputs": [
    {
     "data": {
      "text/plain": [
       "array([1921, 1913, 1911, 1910])"
      ]
     },
     "execution_count": 393,
     "metadata": {},
     "output_type": "execute_result"
    }
   ],
   "source": [
    "cast_pre_1939[cast_pre_1939['title'] == 'Hamlet']['year'].unique()"
   ]
  },
  {
   "cell_type": "markdown",
   "metadata": {},
   "source": [
    "This means the counts in `title_counts_pre_1939` are not accurately capturing the cast sizes of films with remakes. A solution to the remake problem is to group by year and title.\n",
    "\n",
    "This can be done with a pivot table that just counts its group sizes.\n",
    "In this case no quantity count needs to be supplied."
   ]
  },
  {
   "cell_type": "code",
   "execution_count": 54,
   "metadata": {},
   "outputs": [],
   "source": [
    "pt0 = pd.pivot_table(cast_pre_1939,index=['title','year'],aggfunc='count')"
   ]
  },
  {
   "cell_type": "code",
   "execution_count": 55,
   "metadata": {},
   "outputs": [
    {
     "data": {
      "text/html": [
       "<div>\n",
       "<style scoped>\n",
       "    .dataframe tbody tr th:only-of-type {\n",
       "        vertical-align: middle;\n",
       "    }\n",
       "\n",
       "    .dataframe tbody tr th {\n",
       "        vertical-align: top;\n",
       "    }\n",
       "\n",
       "    .dataframe thead th {\n",
       "        text-align: right;\n",
       "    }\n",
       "</style>\n",
       "<table border=\"1\" class=\"dataframe\">\n",
       "  <thead>\n",
       "    <tr style=\"text-align: right;\">\n",
       "      <th></th>\n",
       "      <th></th>\n",
       "      <th>character</th>\n",
       "      <th>n</th>\n",
       "      <th>name</th>\n",
       "      <th>type</th>\n",
       "    </tr>\n",
       "    <tr>\n",
       "      <th>title</th>\n",
       "      <th>year</th>\n",
       "      <th></th>\n",
       "      <th></th>\n",
       "      <th></th>\n",
       "      <th></th>\n",
       "    </tr>\n",
       "  </thead>\n",
       "  <tbody>\n",
       "    <tr>\n",
       "      <th>$10 Raise</th>\n",
       "      <th>1935</th>\n",
       "      <td>31</td>\n",
       "      <td>9</td>\n",
       "      <td>31</td>\n",
       "      <td>31</td>\n",
       "    </tr>\n",
       "    <tr>\n",
       "      <th>$5,000 Reward</th>\n",
       "      <th>1918</th>\n",
       "      <td>9</td>\n",
       "      <td>9</td>\n",
       "      <td>9</td>\n",
       "      <td>9</td>\n",
       "    </tr>\n",
       "    <tr>\n",
       "      <th>$50,000 Reward</th>\n",
       "      <th>1924</th>\n",
       "      <td>16</td>\n",
       "      <td>16</td>\n",
       "      <td>16</td>\n",
       "      <td>16</td>\n",
       "    </tr>\n",
       "    <tr>\n",
       "      <th>'49-'17</th>\n",
       "      <th>1917</th>\n",
       "      <td>13</td>\n",
       "      <td>7</td>\n",
       "      <td>13</td>\n",
       "      <td>13</td>\n",
       "    </tr>\n",
       "    <tr>\n",
       "      <th>'Blue Blazes' Rawden</th>\n",
       "      <th>1918</th>\n",
       "      <td>6</td>\n",
       "      <td>6</td>\n",
       "      <td>6</td>\n",
       "      <td>6</td>\n",
       "    </tr>\n",
       "    <tr>\n",
       "      <th>...</th>\n",
       "      <th>...</th>\n",
       "      <td>...</td>\n",
       "      <td>...</td>\n",
       "      <td>...</td>\n",
       "      <td>...</td>\n",
       "    </tr>\n",
       "    <tr>\n",
       "      <th>Zwischen Nacht und Morgen</th>\n",
       "      <th>1931</th>\n",
       "      <td>15</td>\n",
       "      <td>15</td>\n",
       "      <td>15</td>\n",
       "      <td>15</td>\n",
       "    </tr>\n",
       "    <tr>\n",
       "      <th>Zwischen den Eltern</th>\n",
       "      <th>1938</th>\n",
       "      <td>22</td>\n",
       "      <td>19</td>\n",
       "      <td>22</td>\n",
       "      <td>22</td>\n",
       "    </tr>\n",
       "    <tr>\n",
       "      <th>Zwischen halb 11 und 11</th>\n",
       "      <th>1916</th>\n",
       "      <td>2</td>\n",
       "      <td>0</td>\n",
       "      <td>2</td>\n",
       "      <td>2</td>\n",
       "    </tr>\n",
       "    <tr>\n",
       "      <th>Zwischen vierzehn und siebzehn - Sexualnot der Jugend</th>\n",
       "      <th>1929</th>\n",
       "      <td>6</td>\n",
       "      <td>6</td>\n",
       "      <td>6</td>\n",
       "      <td>6</td>\n",
       "    </tr>\n",
       "    <tr>\n",
       "      <th>Zwischen zwei Welten</th>\n",
       "      <th>1919</th>\n",
       "      <td>2</td>\n",
       "      <td>0</td>\n",
       "      <td>2</td>\n",
       "      <td>2</td>\n",
       "    </tr>\n",
       "  </tbody>\n",
       "</table>\n",
       "<p>21842 rows × 4 columns</p>\n",
       "</div>"
      ],
      "text/plain": [
       "                                                         character   n  name  \\\n",
       "title                                              year                        \n",
       "$10 Raise                                          1935         31   9    31   \n",
       "$5,000 Reward                                      1918          9   9     9   \n",
       "$50,000 Reward                                     1924         16  16    16   \n",
       "'49-'17                                            1917         13   7    13   \n",
       "'Blue Blazes' Rawden                               1918          6   6     6   \n",
       "...                                                            ...  ..   ...   \n",
       "Zwischen Nacht und Morgen                          1931         15  15    15   \n",
       "Zwischen den Eltern                                1938         22  19    22   \n",
       "Zwischen halb 11 und 11                            1916          2   0     2   \n",
       "Zwischen vierzehn und siebzehn - Sexualnot der ... 1929          6   6     6   \n",
       "Zwischen zwei Welten                               1919          2   0     2   \n",
       "\n",
       "                                                         type  \n",
       "title                                              year        \n",
       "$10 Raise                                          1935    31  \n",
       "$5,000 Reward                                      1918     9  \n",
       "$50,000 Reward                                     1924    16  \n",
       "'49-'17                                            1917    13  \n",
       "'Blue Blazes' Rawden                               1918     6  \n",
       "...                                                       ...  \n",
       "Zwischen Nacht und Morgen                          1931    15  \n",
       "Zwischen den Eltern                                1938    22  \n",
       "Zwischen halb 11 und 11                            1916     2  \n",
       "Zwischen vierzehn und siebzehn - Sexualnot der ... 1929     6  \n",
       "Zwischen zwei Welten                               1919     2  \n",
       "\n",
       "[21842 rows x 4 columns]"
      ]
     },
     "execution_count": 55,
     "metadata": {},
     "output_type": "execute_result"
    }
   ],
   "source": [
    "pt0"
   ]
  },
  {
   "cell_type": "code",
   "execution_count": null,
   "metadata": {},
   "outputs": [],
   "source": []
  },
  {
   "cell_type": "markdown",
   "metadata": {},
   "source": [
    "All we want is the counts in the \"name\" column."
   ]
  },
  {
   "cell_type": "code",
   "execution_count": 61,
   "metadata": {},
   "outputs": [
    {
     "data": {
      "text/plain": [
       "title                          year\n",
       "Wells Fargo                    1937    193\n",
       "Mr. Deeds Goes to Town         1936    177\n",
       "The Buccaneer                  1938    172\n",
       "You Can't Take It with You     1938    161\n",
       "Love Me Forever                1935    156\n",
       "                                      ... \n",
       "Plus fort que Sherlock Holmes  1913      1\n",
       "Jack O'Hearts                  1926      1\n",
       "Der Raub der Sabinerinnen      1919      1\n",
       "Der Optimist                   1938      1\n",
       "Das Doppelgesicht              1920      1\n",
       "Name: name, Length: 21842, dtype: int64"
      ]
     },
     "execution_count": 61,
     "metadata": {},
     "output_type": "execute_result"
    }
   ],
   "source": [
    "cast_counts = pt0['name']\n",
    "cast_counts.sort_values(ascending=False)"
   ]
  },
  {
   "cell_type": "markdown",
   "metadata": {},
   "source": [
    "The all time winner is still the same but \"Hamlet\" is now  split\n",
    "into 4 cases so the counts are correct."
   ]
  },
  {
   "cell_type": "code",
   "execution_count": 394,
   "metadata": {},
   "outputs": [
    {
     "data": {
      "text/plain": [
       "year\n",
       "1910     1\n",
       "1911     6\n",
       "1913    21\n",
       "1921     9\n",
       "Name: name, dtype: int64"
      ]
     },
     "execution_count": 394,
     "metadata": {},
     "output_type": "execute_result"
    }
   ],
   "source": [
    "(cast_counts.loc['Hamlet'])"
   ]
  },
  {
   "cell_type": "markdown",
   "metadata": {},
   "source": [
    "And here's where our previous figure of 37 came from."
   ]
  },
  {
   "cell_type": "code",
   "execution_count": 63,
   "metadata": {},
   "outputs": [
    {
     "data": {
      "text/plain": [
       "37"
      ]
     },
     "execution_count": 63,
     "metadata": {},
     "output_type": "execute_result"
    }
   ],
   "source": [
    "(cast_counts.loc['Hamlet']).sum()"
   ]
  },
  {
   "cell_type": "markdown",
   "metadata": {},
   "source": [
    "The same numbers for cast sizes can also be arrived at as follows."
   ]
  },
  {
   "cell_type": "code",
   "execution_count": 276,
   "metadata": {
    "scrolled": true
   },
   "outputs": [
    {
     "data": {
      "text/plain": [
       "title                                                  year\n",
       "$10 Raise                                              1935    31\n",
       "$5,000 Reward                                          1918     9\n",
       "$50,000 Reward                                         1924    16\n",
       "'49-'17                                                1917    13\n",
       "'Blue Blazes' Rawden                                   1918     6\n",
       "                                                               ..\n",
       "Zwischen Nacht und Morgen                              1931    15\n",
       "Zwischen den Eltern                                    1938    22\n",
       "Zwischen halb 11 und 11                                1916     2\n",
       "Zwischen vierzehn und siebzehn - Sexualnot der Jugend  1929     6\n",
       "Zwischen zwei Welten                                   1919     2\n",
       "Name: character, Length: 21842, dtype: int64"
      ]
     },
     "execution_count": 276,
     "metadata": {},
     "output_type": "execute_result"
    }
   ],
   "source": [
    "cgp1939= cast_pre_1939.groupby(['title','year'])['character'].count()\n",
    "cgp1939"
   ]
  },
  {
   "cell_type": "code",
   "execution_count": 277,
   "metadata": {},
   "outputs": [
    {
     "data": {
      "text/plain": [
       "year\n",
       "1910     1\n",
       "1911     6\n",
       "1913    21\n",
       "1921     9\n",
       "Name: character, dtype: int64"
      ]
     },
     "execution_count": 277,
     "metadata": {},
     "output_type": "execute_result"
    }
   ],
   "source": [
    "cgp1939.loc['Hamlet']"
   ]
  },
  {
   "cell_type": "markdown",
   "metadata": {},
   "source": [
    "Finally, the numbers for cast sizes can also be arrived at using a cross-tabulation.\n",
    "Do a cross tabulation, using film-year pairs to define the index,\n",
    "and choose the values in the `type` column to define the tabulation columns.\n",
    "So for each film-year pair we count the number of actresses and the number of actors."
   ]
  },
  {
   "cell_type": "code",
   "execution_count": 65,
   "metadata": {},
   "outputs": [
    {
     "data": {
      "text/html": [
       "<div>\n",
       "<style scoped>\n",
       "    .dataframe tbody tr th:only-of-type {\n",
       "        vertical-align: middle;\n",
       "    }\n",
       "\n",
       "    .dataframe tbody tr th {\n",
       "        vertical-align: top;\n",
       "    }\n",
       "\n",
       "    .dataframe thead th {\n",
       "        text-align: right;\n",
       "    }\n",
       "</style>\n",
       "<table border=\"1\" class=\"dataframe\">\n",
       "  <thead>\n",
       "    <tr style=\"text-align: right;\">\n",
       "      <th></th>\n",
       "      <th>type</th>\n",
       "      <th>actor</th>\n",
       "      <th>actress</th>\n",
       "      <th>All</th>\n",
       "    </tr>\n",
       "    <tr>\n",
       "      <th>title</th>\n",
       "      <th>year</th>\n",
       "      <th></th>\n",
       "      <th></th>\n",
       "      <th></th>\n",
       "    </tr>\n",
       "  </thead>\n",
       "  <tbody>\n",
       "    <tr>\n",
       "      <th>All</th>\n",
       "      <th></th>\n",
       "      <td>205715</td>\n",
       "      <td>83344</td>\n",
       "      <td>289059</td>\n",
       "    </tr>\n",
       "    <tr>\n",
       "      <th>Wells Fargo</th>\n",
       "      <th>1937</th>\n",
       "      <td>151</td>\n",
       "      <td>42</td>\n",
       "      <td>193</td>\n",
       "    </tr>\n",
       "    <tr>\n",
       "      <th>Mr. Deeds Goes to Town</th>\n",
       "      <th>1936</th>\n",
       "      <td>129</td>\n",
       "      <td>48</td>\n",
       "      <td>177</td>\n",
       "    </tr>\n",
       "    <tr>\n",
       "      <th>The Buccaneer</th>\n",
       "      <th>1938</th>\n",
       "      <td>132</td>\n",
       "      <td>40</td>\n",
       "      <td>172</td>\n",
       "    </tr>\n",
       "    <tr>\n",
       "      <th>You Can't Take It with You</th>\n",
       "      <th>1938</th>\n",
       "      <td>117</td>\n",
       "      <td>44</td>\n",
       "      <td>161</td>\n",
       "    </tr>\n",
       "    <tr>\n",
       "      <th>...</th>\n",
       "      <th>...</th>\n",
       "      <td>...</td>\n",
       "      <td>...</td>\n",
       "      <td>...</td>\n",
       "    </tr>\n",
       "    <tr>\n",
       "      <th>El merendero de los duendes</th>\n",
       "      <th>1931</th>\n",
       "      <td>0</td>\n",
       "      <td>1</td>\n",
       "      <td>1</td>\n",
       "    </tr>\n",
       "    <tr>\n",
       "      <th>El izz bahdala</th>\n",
       "      <th>1937</th>\n",
       "      <td>0</td>\n",
       "      <td>1</td>\n",
       "      <td>1</td>\n",
       "    </tr>\n",
       "    <tr>\n",
       "      <th>Robinson Crusoe</th>\n",
       "      <th>1916</th>\n",
       "      <td>1</td>\n",
       "      <td>0</td>\n",
       "      <td>1</td>\n",
       "    </tr>\n",
       "    <tr>\n",
       "      <th>Rocambole</th>\n",
       "      <th>1914</th>\n",
       "      <td>1</td>\n",
       "      <td>0</td>\n",
       "      <td>1</td>\n",
       "    </tr>\n",
       "    <tr>\n",
       "      <th>Lure of the Mine</th>\n",
       "      <th>1929</th>\n",
       "      <td>1</td>\n",
       "      <td>0</td>\n",
       "      <td>1</td>\n",
       "    </tr>\n",
       "  </tbody>\n",
       "</table>\n",
       "<p>21843 rows × 3 columns</p>\n",
       "</div>"
      ],
      "text/plain": [
       "type                               actor  actress     All\n",
       "title                       year                         \n",
       "All                               205715    83344  289059\n",
       "Wells Fargo                 1937     151       42     193\n",
       "Mr. Deeds Goes to Town      1936     129       48     177\n",
       "The Buccaneer               1938     132       40     172\n",
       "You Can't Take It with You  1938     117       44     161\n",
       "...                                  ...      ...     ...\n",
       "El merendero de los duendes 1931       0        1       1\n",
       "El izz bahdala              1937       0        1       1\n",
       "Robinson Crusoe             1916       1        0       1\n",
       "Rocambole                   1914       1        0       1\n",
       "Lure of the Mine            1929       1        0       1\n",
       "\n",
       "[21843 rows x 3 columns]"
      ]
     },
     "execution_count": 65,
     "metadata": {},
     "output_type": "execute_result"
    }
   ],
   "source": [
    "ct0 = pd.crosstab(index=[cast_pre_1939['title'],cast_pre_1939['year']], \n",
    "                  columns=cast_pre_1939['type'],\n",
    "                  margins=True)\n",
    "ct0.sort_values('All',ascending=False)"
   ]
  },
  {
   "cell_type": "markdown",
   "metadata": {},
   "source": [
    "The `All` column, which appears because we did a cross tabulation with `margins=True`,\n",
    "sums the the number of actors and actresses in each film, which in the binary pre-1939\n",
    "world, must be the entire cast.\n",
    "\n",
    "Checking our Hamlet counts, they are the same."
   ]
  },
  {
   "cell_type": "code",
   "execution_count": 66,
   "metadata": {
    "scrolled": true
   },
   "outputs": [
    {
     "data": {
      "text/plain": [
       "year\n",
       "1910     1\n",
       "1911     6\n",
       "1913    21\n",
       "1921     9\n",
       "Name: All, dtype: int64"
      ]
     },
     "execution_count": 66,
     "metadata": {},
     "output_type": "execute_result"
    }
   ],
   "source": [
    "ct0.loc['Hamlet']['All']"
   ]
  },
  {
   "cell_type": "markdown",
   "metadata": {
    "collapsed": true
   },
   "source": [
    "### Of the films made in either 1939 or 1966, what films had a cast size of 90 or more but fewer than 100?\n",
    "\n",
    "This is a follow-up to the previous question which requires taking remakes into\n",
    "account to get the right answer.\n",
    "\n",
    "After you've made a DataFrame containing the set of rows in `cast` that you're interested in,\n",
    "you again need to do a computation that's counts cast members on films.   As noted\n",
    "above there is a simple computation  that seems to give you the cast sizes of all films\n",
    "in a cast DataFrame.\n",
    "\n",
    "But to answer this question correctly,  you will need to\n",
    "come up with a slightly more complicated answer. The issue to\n",
    "think about is remakes.  In fact in 1966 there were some remakes of\n",
    "great 1939 films.  How should that affect your answ\n",
    "er to this\n",
    "problem?"
   ]
  },
  {
   "cell_type": "code",
   "execution_count": 68,
   "metadata": {},
   "outputs": [],
   "source": [
    "\n",
    "cast_39_66 = cast[(cast['year'] == 1939)|((cast['year'] == 1966))]"
   ]
  },
  {
   "cell_type": "markdown",
   "metadata": {},
   "source": [
    "Simplest answer.  The number of rows a film appears in in the `cast` DataFrame is the number of actors and actresses it has\n",
    "in it."
   ]
  },
  {
   "cell_type": "code",
   "execution_count": 44,
   "metadata": {
    "scrolled": true
   },
   "outputs": [
    {
     "data": {
      "text/plain": [
       "Mr. Smith Goes to Washington     217\n",
       "Union Pacific                    183\n",
       "Second Fiddle                    173\n",
       "Gone with the Wind               148\n",
       "The Wizard of Oz                 130\n",
       "                                ... \n",
       "David Marel: Pleyboy-Ditektib      1\n",
       "Efkarliyim abiler                  1\n",
       "Sergeant .45                       1\n",
       "Le club des fadas                  1\n",
       "Allahaismarladik                   1\n",
       "Name: title, Length: 2181, dtype: int64"
      ]
     },
     "execution_count": 44,
     "metadata": {},
     "output_type": "execute_result"
    }
   ],
   "source": [
    "title_counts_39_66 = cast_39_66['title'].value_counts(ascending=False)\n",
    "title_counts_39_66"
   ]
  },
  {
   "cell_type": "markdown",
   "metadata": {},
   "source": [
    "And we have an answer."
   ]
  },
  {
   "cell_type": "code",
   "execution_count": 259,
   "metadata": {},
   "outputs": [
    {
     "data": {
      "text/plain": [
       "Beau Geste          97\n",
       "Another Thin Man    94\n",
       "Torn Curtain        93\n",
       "Sergeant Madden     92\n",
       "Stagecoach          90\n",
       "Name: title, dtype: int64"
      ]
     },
     "execution_count": 259,
     "metadata": {},
     "output_type": "execute_result"
    }
   ],
   "source": [
    "title_counts_39_66[(title_counts_39_66 >= 90)&(title_counts_39_66 < 100)]a"
   ]
  },
  {
   "cell_type": "markdown",
   "metadata": {},
   "source": [
    "As on the last question, we can also calculate \n",
    "cast sizes with a crosstab on `'title'` and `'type'`,\n",
    "with margins set to True."
   ]
  },
  {
   "cell_type": "code",
   "execution_count": 45,
   "metadata": {
    "scrolled": true
   },
   "outputs": [
    {
     "data": {
      "text/html": [
       "<div>\n",
       "<style scoped>\n",
       "    .dataframe tbody tr th:only-of-type {\n",
       "        vertical-align: middle;\n",
       "    }\n",
       "\n",
       "    .dataframe tbody tr th {\n",
       "        vertical-align: top;\n",
       "    }\n",
       "\n",
       "    .dataframe thead th {\n",
       "        text-align: right;\n",
       "    }\n",
       "</style>\n",
       "<table border=\"1\" class=\"dataframe\">\n",
       "  <thead>\n",
       "    <tr style=\"text-align: right;\">\n",
       "      <th>type</th>\n",
       "      <th>actor</th>\n",
       "      <th>actress</th>\n",
       "      <th>All</th>\n",
       "    </tr>\n",
       "    <tr>\n",
       "      <th>title</th>\n",
       "      <th></th>\n",
       "      <th></th>\n",
       "      <th></th>\n",
       "    </tr>\n",
       "  </thead>\n",
       "  <tbody>\n",
       "    <tr>\n",
       "      <th>All</th>\n",
       "      <td>31911</td>\n",
       "      <td>10906</td>\n",
       "      <td>42817</td>\n",
       "    </tr>\n",
       "    <tr>\n",
       "      <th>Mr. Smith Goes to Washington</th>\n",
       "      <td>184</td>\n",
       "      <td>33</td>\n",
       "      <td>217</td>\n",
       "    </tr>\n",
       "    <tr>\n",
       "      <th>Union Pacific</th>\n",
       "      <td>162</td>\n",
       "      <td>21</td>\n",
       "      <td>183</td>\n",
       "    </tr>\n",
       "    <tr>\n",
       "      <th>Second Fiddle</th>\n",
       "      <td>104</td>\n",
       "      <td>69</td>\n",
       "      <td>173</td>\n",
       "    </tr>\n",
       "    <tr>\n",
       "      <th>Gone with the Wind</th>\n",
       "      <td>92</td>\n",
       "      <td>56</td>\n",
       "      <td>148</td>\n",
       "    </tr>\n",
       "    <tr>\n",
       "      <th>...</th>\n",
       "      <td>...</td>\n",
       "      <td>...</td>\n",
       "      <td>...</td>\n",
       "    </tr>\n",
       "    <tr>\n",
       "      <th>Mr Walastik Laging May Atik</th>\n",
       "      <td>1</td>\n",
       "      <td>0</td>\n",
       "      <td>1</td>\n",
       "    </tr>\n",
       "    <tr>\n",
       "      <th>Target: Sexy Rose</th>\n",
       "      <td>1</td>\n",
       "      <td>0</td>\n",
       "      <td>1</td>\n",
       "    </tr>\n",
       "    <tr>\n",
       "      <th>Mr. Humble Boy (Ang Dating Kampeon)</th>\n",
       "      <td>1</td>\n",
       "      <td>0</td>\n",
       "      <td>1</td>\n",
       "    </tr>\n",
       "    <tr>\n",
       "      <th>Ferhat ile Sirin</th>\n",
       "      <td>1</td>\n",
       "      <td>0</td>\n",
       "      <td>1</td>\n",
       "    </tr>\n",
       "    <tr>\n",
       "      <th>Satsujinsha</th>\n",
       "      <td>0</td>\n",
       "      <td>1</td>\n",
       "      <td>1</td>\n",
       "    </tr>\n",
       "  </tbody>\n",
       "</table>\n",
       "<p>2182 rows × 3 columns</p>\n",
       "</div>"
      ],
      "text/plain": [
       "type                                 actor  actress    All\n",
       "title                                                     \n",
       "All                                  31911    10906  42817\n",
       "Mr. Smith Goes to Washington           184       33    217\n",
       "Union Pacific                          162       21    183\n",
       "Second Fiddle                          104       69    173\n",
       "Gone with the Wind                      92       56    148\n",
       "...                                    ...      ...    ...\n",
       "Mr Walastik Laging May Atik              1        0      1\n",
       "Target: Sexy Rose                        1        0      1\n",
       "Mr. Humble Boy (Ang Dating Kampeon)      1        0      1\n",
       "Ferhat ile Sirin                         1        0      1\n",
       "Satsujinsha                              0        1      1\n",
       "\n",
       "[2182 rows x 3 columns]"
      ]
     },
     "execution_count": 45,
     "metadata": {},
     "output_type": "execute_result"
    }
   ],
   "source": [
    "ct_film_casts_39_66 = pd.crosstab(cast_39_66['title'],cast_39_66['type'],margins=True)\n",
    "ct_film_casts_39_66.sort_values('All',ascending=False)"
   ]
  },
  {
   "cell_type": "markdown",
   "metadata": {},
   "source": [
    "As before we look for films with cast size of 90 or more and less than 100.  Same five films as the simple\n",
    "solution.  So far."
   ]
  },
  {
   "cell_type": "code",
   "execution_count": 46,
   "metadata": {},
   "outputs": [
    {
     "data": {
      "text/html": [
       "<div>\n",
       "<style scoped>\n",
       "    .dataframe tbody tr th:only-of-type {\n",
       "        vertical-align: middle;\n",
       "    }\n",
       "\n",
       "    .dataframe tbody tr th {\n",
       "        vertical-align: top;\n",
       "    }\n",
       "\n",
       "    .dataframe thead th {\n",
       "        text-align: right;\n",
       "    }\n",
       "</style>\n",
       "<table border=\"1\" class=\"dataframe\">\n",
       "  <thead>\n",
       "    <tr style=\"text-align: right;\">\n",
       "      <th>type</th>\n",
       "      <th>actor</th>\n",
       "      <th>actress</th>\n",
       "      <th>All</th>\n",
       "    </tr>\n",
       "    <tr>\n",
       "      <th>title</th>\n",
       "      <th></th>\n",
       "      <th></th>\n",
       "      <th></th>\n",
       "    </tr>\n",
       "  </thead>\n",
       "  <tbody>\n",
       "    <tr>\n",
       "      <th>Another Thin Man</th>\n",
       "      <td>78</td>\n",
       "      <td>16</td>\n",
       "      <td>94</td>\n",
       "    </tr>\n",
       "    <tr>\n",
       "      <th>Beau Geste</th>\n",
       "      <td>92</td>\n",
       "      <td>5</td>\n",
       "      <td>97</td>\n",
       "    </tr>\n",
       "    <tr>\n",
       "      <th>Sergeant Madden</th>\n",
       "      <td>72</td>\n",
       "      <td>20</td>\n",
       "      <td>92</td>\n",
       "    </tr>\n",
       "    <tr>\n",
       "      <th>Stagecoach</th>\n",
       "      <td>72</td>\n",
       "      <td>18</td>\n",
       "      <td>90</td>\n",
       "    </tr>\n",
       "    <tr>\n",
       "      <th>Torn Curtain</th>\n",
       "      <td>69</td>\n",
       "      <td>24</td>\n",
       "      <td>93</td>\n",
       "    </tr>\n",
       "  </tbody>\n",
       "</table>\n",
       "</div>"
      ],
      "text/plain": [
       "type              actor  actress  All\n",
       "title                                \n",
       "Another Thin Man     78       16   94\n",
       "Beau Geste           92        5   97\n",
       "Sergeant Madden      72       20   92\n",
       "Stagecoach           72       18   90\n",
       "Torn Curtain         69       24   93"
      ]
     },
     "execution_count": 46,
     "metadata": {},
     "output_type": "execute_result"
    }
   ],
   "source": [
    "ct_film_casts_39_66[(ct_film_casts_39_66['All']>=90)&(ct_film_casts_39_66['All'] < 100)]"
   ]
  },
  {
   "cell_type": "markdown",
   "metadata": {},
   "source": [
    "#### Issues\n",
    "\n",
    "One potential \"Gotcha!\" for both the above answers is that films have remakes, and if, say, *Stagecoach* did, both\n",
    "our proposed answers would sum the cast numbers for both versions.\n"
   ]
  },
  {
   "cell_type": "code",
   "execution_count": 47,
   "metadata": {},
   "outputs": [
    {
     "data": {
      "text/plain": [
       "array([1939, 1966])"
      ]
     },
     "execution_count": 47,
     "metadata": {},
     "output_type": "execute_result"
    }
   ],
   "source": [
    "cast_39_66[cast_39_66['title']=='Stagecoach']['year'].unique()"
   ]
  },
  {
   "cell_type": "markdown",
   "metadata": {},
   "source": [
    "Uh oh,  It does."
   ]
  },
  {
   "cell_type": "markdown",
   "metadata": {},
   "source": [
    "What happened in our original solution was that the casts of two different films were lumped together:"
   ]
  },
  {
   "cell_type": "code",
   "execution_count": 48,
   "metadata": {},
   "outputs": [
    {
     "data": {
      "text/plain": [
       "62"
      ]
     },
     "execution_count": 48,
     "metadata": {},
     "output_type": "execute_result"
    }
   ],
   "source": [
    "len(cast_39_66[(cast_39_66['title']=='Stagecoach')&(cast_39_66['year']==1939)])"
   ]
  },
  {
   "cell_type": "code",
   "execution_count": 49,
   "metadata": {},
   "outputs": [
    {
     "data": {
      "text/plain": [
       "28"
      ]
     },
     "execution_count": 49,
     "metadata": {},
     "output_type": "execute_result"
    }
   ],
   "source": [
    "len(cast_39_66[(cast_39_66['title']=='Stagecoach')&(cast_39_66['year']==1966)])"
   ]
  },
  {
   "cell_type": "code",
   "execution_count": 50,
   "metadata": {},
   "outputs": [
    {
     "data": {
      "text/html": [
       "<div>\n",
       "<style scoped>\n",
       "    .dataframe tbody tr th:only-of-type {\n",
       "        vertical-align: middle;\n",
       "    }\n",
       "\n",
       "    .dataframe tbody tr th {\n",
       "        vertical-align: top;\n",
       "    }\n",
       "\n",
       "    .dataframe thead th {\n",
       "        text-align: right;\n",
       "    }\n",
       "</style>\n",
       "<table border=\"1\" class=\"dataframe\">\n",
       "  <thead>\n",
       "    <tr style=\"text-align: right;\">\n",
       "      <th>type</th>\n",
       "      <th>actor</th>\n",
       "      <th>actress</th>\n",
       "      <th>All</th>\n",
       "    </tr>\n",
       "    <tr>\n",
       "      <th>title</th>\n",
       "      <th></th>\n",
       "      <th></th>\n",
       "      <th></th>\n",
       "    </tr>\n",
       "  </thead>\n",
       "  <tbody>\n",
       "    <tr>\n",
       "      <th>Stagecoach</th>\n",
       "      <td>72</td>\n",
       "      <td>18</td>\n",
       "      <td>90</td>\n",
       "    </tr>\n",
       "  </tbody>\n",
       "</table>\n",
       "</div>"
      ],
      "text/plain": [
       "type        actor  actress  All\n",
       "title                          \n",
       "Stagecoach     72       18   90"
      ]
     },
     "execution_count": 50,
     "metadata": {},
     "output_type": "execute_result"
    }
   ],
   "source": [
    "ct_film_casts_39_66[ct_film_casts_39_66['All']==90]"
   ]
  },
  {
   "cell_type": "markdown",
   "metadata": {},
   "source": [
    "So the fix is not to count how many times a film title occurs, but to count how many times a pairing\n",
    "of a film title and a year occurs, hoping that a film is not made twice in the same year.\n",
    "So we need a grouping operation, that is, a pandas function which separates the rows\n",
    "of a `DataFrame` into groups.   Then we need to find the sizes of each group. Summing up: Group by title and year and find the size of each group.  That's\n",
    "all. \n",
    "\n",
    "We know three pandas functions that do grouping operations: `crosstab`, `pivot_table`,\n",
    "and `groupby`.  Actually, all three will work. Let's work our way up\n",
    "from least natural to most natural. \n",
    "\n",
    "First, we can do this directly by cross-tabulation.  The most obvious cross tabulation\n",
    "actually works.  Cross tabulating title with year actually means finding the year-title\n",
    "groups and computing their size:"
   ]
  },
  {
   "cell_type": "code",
   "execution_count": 184,
   "metadata": {},
   "outputs": [
    {
     "name": "stdout",
     "output_type": "stream",
     "text": [
      "title\n",
      "Another Thin Man    94\n",
      "Sergeant Madden     92\n",
      "Name: 1939, dtype: int64\n",
      "\n",
      "title\n",
      "Torn Curtain    93\n",
      "Name: 1966, dtype: int64\n",
      "\n"
     ]
    }
   ],
   "source": [
    "film_casts = pd.crosstab(cast_39_66['title'],cast_39_66['year'])\n",
    "for year in [1939,1966]:\n",
    "    print(film_casts[(film_casts[year]>=90)&(film_casts[year]<100)][year])\n",
    "    print()"
   ]
  },
  {
   "cell_type": "markdown",
   "metadata": {},
   "source": [
    "This is the right answer.  The code works because\n",
    "`film_casts` is a `DataFrame` with an index consisting of titles,\n",
    "and columns consisting of the two years in `cast_39_66`.\n",
    "It's a little awkward because\n",
    "the answers we want are in different columns of `film_casts`:"
   ]
  },
  {
   "cell_type": "code",
   "execution_count": 185,
   "metadata": {},
   "outputs": [
    {
     "data": {
      "text/html": [
       "<div>\n",
       "<style scoped>\n",
       "    .dataframe tbody tr th:only-of-type {\n",
       "        vertical-align: middle;\n",
       "    }\n",
       "\n",
       "    .dataframe tbody tr th {\n",
       "        vertical-align: top;\n",
       "    }\n",
       "\n",
       "    .dataframe thead th {\n",
       "        text-align: right;\n",
       "    }\n",
       "</style>\n",
       "<table border=\"1\" class=\"dataframe\">\n",
       "  <thead>\n",
       "    <tr style=\"text-align: right;\">\n",
       "      <th>year</th>\n",
       "      <th>1939</th>\n",
       "      <th>1966</th>\n",
       "    </tr>\n",
       "    <tr>\n",
       "      <th>title</th>\n",
       "      <th></th>\n",
       "      <th></th>\n",
       "    </tr>\n",
       "  </thead>\n",
       "  <tbody>\n",
       "    <tr>\n",
       "      <th>$1000 a Touchdown</th>\n",
       "      <td>51</td>\n",
       "      <td>0</td>\n",
       "    </tr>\n",
       "    <tr>\n",
       "      <th>'El rata'</th>\n",
       "      <td>0</td>\n",
       "      <td>4</td>\n",
       "    </tr>\n",
       "    <tr>\n",
       "      <th>'Gatillo Veloz' en 'Los Malditos'</th>\n",
       "      <td>0</td>\n",
       "      <td>1</td>\n",
       "    </tr>\n",
       "    <tr>\n",
       "      <th>...One Third of a Nation...</th>\n",
       "      <td>25</td>\n",
       "      <td>0</td>\n",
       "    </tr>\n",
       "    <tr>\n",
       "      <th>007 1/2 no Carnaval</th>\n",
       "      <td>0</td>\n",
       "      <td>4</td>\n",
       "    </tr>\n",
       "  </tbody>\n",
       "</table>\n",
       "</div>"
      ],
      "text/plain": [
       "year                               1939  1966\n",
       "title                                        \n",
       "$1000 a Touchdown                    51     0\n",
       "'El rata'                             0     4\n",
       "'Gatillo Veloz' en 'Los Malditos'     0     1\n",
       "...One Third of a Nation...          25     0\n",
       "007 1/2 no Carnaval                   0     4"
      ]
     },
     "execution_count": 185,
     "metadata": {},
     "output_type": "execute_result"
    }
   ],
   "source": [
    "film_casts[:5]"
   ]
  },
  {
   "cell_type": "markdown",
   "metadata": {},
   "source": [
    "Most rows will have a 0 in\n",
    "one of the two columns, but here is how the \"Stagecoach\" row looks:"
   ]
  },
  {
   "cell_type": "code",
   "execution_count": 188,
   "metadata": {},
   "outputs": [
    {
     "data": {
      "text/plain": [
       "year\n",
       "1939    62\n",
       "1966    28\n",
       "Name: Stagecoach, dtype: int64"
      ]
     },
     "execution_count": 188,
     "metadata": {},
     "output_type": "execute_result"
    }
   ],
   "source": [
    "film_casts.loc['Stagecoach']"
   ]
  },
  {
   "cell_type": "markdown",
   "metadata": {},
   "source": [
    "This is a fine answer but it's not going to generalize well to\n",
    "the entire dataset (many many years, resulting in many many columns).\n",
    "\n",
    "Another idea is to create a cross-tabulation `DataFrame` \n",
    "in which the index consists of film-year pairs. \n",
    "\n",
    "Then we just cross-tabulate film-year pairs with -- what?  A convenient answer\n",
    "is `type`.  There are only two types of roles, actor and actress. The sum of\n",
    "the counts for these types will give the film cast size."
   ]
  },
  {
   "cell_type": "code",
   "execution_count": 173,
   "metadata": {},
   "outputs": [],
   "source": [
    "ct_film_casts_39_66_correct = \\\n",
    "   pd.crosstab([cast_39_66['title'],cast_39_66['year']],cast_39_66['type'],margins=True)"
   ]
  },
  {
   "cell_type": "markdown",
   "metadata": {},
   "source": [
    "Now we have DataFrame with a multi-index consisting of **pairs** of films and years,\n",
    "which give counts for the actors and actresses in each film."
   ]
  },
  {
   "cell_type": "code",
   "execution_count": 186,
   "metadata": {},
   "outputs": [
    {
     "data": {
      "text/html": [
       "<div>\n",
       "<style scoped>\n",
       "    .dataframe tbody tr th:only-of-type {\n",
       "        vertical-align: middle;\n",
       "    }\n",
       "\n",
       "    .dataframe tbody tr th {\n",
       "        vertical-align: top;\n",
       "    }\n",
       "\n",
       "    .dataframe thead th {\n",
       "        text-align: right;\n",
       "    }\n",
       "</style>\n",
       "<table border=\"1\" class=\"dataframe\">\n",
       "  <thead>\n",
       "    <tr style=\"text-align: right;\">\n",
       "      <th></th>\n",
       "      <th>type</th>\n",
       "      <th>actor</th>\n",
       "      <th>actress</th>\n",
       "      <th>All</th>\n",
       "    </tr>\n",
       "    <tr>\n",
       "      <th>title</th>\n",
       "      <th>year</th>\n",
       "      <th></th>\n",
       "      <th></th>\n",
       "      <th></th>\n",
       "    </tr>\n",
       "  </thead>\n",
       "  <tbody>\n",
       "    <tr>\n",
       "      <th>All</th>\n",
       "      <th></th>\n",
       "      <td>31911</td>\n",
       "      <td>10906</td>\n",
       "      <td>42817</td>\n",
       "    </tr>\n",
       "    <tr>\n",
       "      <th>Mr. Smith Goes to Washington</th>\n",
       "      <th>1939</th>\n",
       "      <td>184</td>\n",
       "      <td>33</td>\n",
       "      <td>217</td>\n",
       "    </tr>\n",
       "    <tr>\n",
       "      <th>Union Pacific</th>\n",
       "      <th>1939</th>\n",
       "      <td>162</td>\n",
       "      <td>21</td>\n",
       "      <td>183</td>\n",
       "    </tr>\n",
       "    <tr>\n",
       "      <th>Second Fiddle</th>\n",
       "      <th>1939</th>\n",
       "      <td>104</td>\n",
       "      <td>69</td>\n",
       "      <td>173</td>\n",
       "    </tr>\n",
       "    <tr>\n",
       "      <th>Gone with the Wind</th>\n",
       "      <th>1939</th>\n",
       "      <td>92</td>\n",
       "      <td>56</td>\n",
       "      <td>148</td>\n",
       "    </tr>\n",
       "    <tr>\n",
       "      <th>The Wizard of Oz</th>\n",
       "      <th>1939</th>\n",
       "      <td>80</td>\n",
       "      <td>50</td>\n",
       "      <td>130</td>\n",
       "    </tr>\n",
       "    <tr>\n",
       "      <th>The Oscar</th>\n",
       "      <th>1966</th>\n",
       "      <td>68</td>\n",
       "      <td>55</td>\n",
       "      <td>123</td>\n",
       "    </tr>\n",
       "    <tr>\n",
       "      <th>The Women</th>\n",
       "      <th>1939</th>\n",
       "      <td>0</td>\n",
       "      <td>123</td>\n",
       "      <td>123</td>\n",
       "    </tr>\n",
       "    <tr>\n",
       "      <th>The Roaring Twenties</th>\n",
       "      <th>1939</th>\n",
       "      <td>110</td>\n",
       "      <td>9</td>\n",
       "      <td>119</td>\n",
       "    </tr>\n",
       "    <tr>\n",
       "      <th>The Hunchback of Notre Dame</th>\n",
       "      <th>1939</th>\n",
       "      <td>87</td>\n",
       "      <td>26</td>\n",
       "      <td>113</td>\n",
       "    </tr>\n",
       "  </tbody>\n",
       "</table>\n",
       "</div>"
      ],
      "text/plain": [
       "type                               actor  actress    All\n",
       "title                        year                       \n",
       "All                                31911    10906  42817\n",
       "Mr. Smith Goes to Washington 1939    184       33    217\n",
       "Union Pacific                1939    162       21    183\n",
       "Second Fiddle                1939    104       69    173\n",
       "Gone with the Wind           1939     92       56    148\n",
       "The Wizard of Oz             1939     80       50    130\n",
       "The Oscar                    1966     68       55    123\n",
       "The Women                    1939      0      123    123\n",
       "The Roaring Twenties         1939    110        9    119\n",
       "The Hunchback of Notre Dame  1939     87       26    113"
      ]
     },
     "execution_count": 186,
     "metadata": {},
     "output_type": "execute_result"
    }
   ],
   "source": [
    "ct_film_casts_39_66_correct.sort_values('All',ascending=False)[:10]"
   ]
  },
  {
   "cell_type": "markdown",
   "metadata": {},
   "source": [
    "*Stagecoach* has been split into two cases:"
   ]
  },
  {
   "cell_type": "code",
   "execution_count": 141,
   "metadata": {},
   "outputs": [
    {
     "data": {
      "text/html": [
       "<div>\n",
       "<style scoped>\n",
       "    .dataframe tbody tr th:only-of-type {\n",
       "        vertical-align: middle;\n",
       "    }\n",
       "\n",
       "    .dataframe tbody tr th {\n",
       "        vertical-align: top;\n",
       "    }\n",
       "\n",
       "    .dataframe thead th {\n",
       "        text-align: right;\n",
       "    }\n",
       "</style>\n",
       "<table border=\"1\" class=\"dataframe\">\n",
       "  <thead>\n",
       "    <tr style=\"text-align: right;\">\n",
       "      <th>type</th>\n",
       "      <th>actor</th>\n",
       "      <th>actress</th>\n",
       "      <th>All</th>\n",
       "    </tr>\n",
       "    <tr>\n",
       "      <th>year</th>\n",
       "      <th></th>\n",
       "      <th></th>\n",
       "      <th></th>\n",
       "    </tr>\n",
       "  </thead>\n",
       "  <tbody>\n",
       "    <tr>\n",
       "      <th>1939</th>\n",
       "      <td>48</td>\n",
       "      <td>14</td>\n",
       "      <td>62</td>\n",
       "    </tr>\n",
       "    <tr>\n",
       "      <th>1966</th>\n",
       "      <td>24</td>\n",
       "      <td>4</td>\n",
       "      <td>28</td>\n",
       "    </tr>\n",
       "  </tbody>\n",
       "</table>\n",
       "</div>"
      ],
      "text/plain": [
       "type  actor  actress  All\n",
       "year                     \n",
       "1939     48       14   62\n",
       "1966     24        4   28"
      ]
     },
     "execution_count": 141,
     "metadata": {},
     "output_type": "execute_result"
    }
   ],
   "source": [
    "ct_film_casts_39_66_correct.loc['Stagecoach']"
   ]
  },
  {
   "cell_type": "markdown",
   "metadata": {},
   "source": [
    "To find the correct answer on this scenario, we use the `All` column:"
   ]
  },
  {
   "cell_type": "code",
   "execution_count": 187,
   "metadata": {},
   "outputs": [
    {
     "data": {
      "text/html": [
       "<div>\n",
       "<style scoped>\n",
       "    .dataframe tbody tr th:only-of-type {\n",
       "        vertical-align: middle;\n",
       "    }\n",
       "\n",
       "    .dataframe tbody tr th {\n",
       "        vertical-align: top;\n",
       "    }\n",
       "\n",
       "    .dataframe thead th {\n",
       "        text-align: right;\n",
       "    }\n",
       "</style>\n",
       "<table border=\"1\" class=\"dataframe\">\n",
       "  <thead>\n",
       "    <tr style=\"text-align: right;\">\n",
       "      <th></th>\n",
       "      <th>type</th>\n",
       "      <th>actor</th>\n",
       "      <th>actress</th>\n",
       "      <th>All</th>\n",
       "    </tr>\n",
       "    <tr>\n",
       "      <th>title</th>\n",
       "      <th>year</th>\n",
       "      <th></th>\n",
       "      <th></th>\n",
       "      <th></th>\n",
       "    </tr>\n",
       "  </thead>\n",
       "  <tbody>\n",
       "    <tr>\n",
       "      <th>Another Thin Man</th>\n",
       "      <th>1939</th>\n",
       "      <td>78</td>\n",
       "      <td>16</td>\n",
       "      <td>94</td>\n",
       "    </tr>\n",
       "    <tr>\n",
       "      <th>Sergeant Madden</th>\n",
       "      <th>1939</th>\n",
       "      <td>72</td>\n",
       "      <td>20</td>\n",
       "      <td>92</td>\n",
       "    </tr>\n",
       "    <tr>\n",
       "      <th>Torn Curtain</th>\n",
       "      <th>1966</th>\n",
       "      <td>69</td>\n",
       "      <td>24</td>\n",
       "      <td>93</td>\n",
       "    </tr>\n",
       "  </tbody>\n",
       "</table>\n",
       "</div>"
      ],
      "text/plain": [
       "type                   actor  actress  All\n",
       "title            year                     \n",
       "Another Thin Man 1939     78       16   94\n",
       "Sergeant Madden  1939     72       20   92\n",
       "Torn Curtain     1966     69       24   93"
      ]
     },
     "execution_count": 187,
     "metadata": {},
     "output_type": "execute_result"
    }
   ],
   "source": [
    "ct_film_casts_39_66_correct[(ct_film_casts_39_66_correct['All'] >=90) & \n",
    "                            (ct_film_casts_39_66_correct['All'] < 100)]"
   ]
  },
  {
   "cell_type": "markdown",
   "metadata": {},
   "source": [
    "Or we can do it with a pivot table, avoiding the need for a margin column,\n",
    "and for thinking up something to cross-tabulate with, when all we really care\n",
    "about is the margin column (`All`).\n",
    "\n",
    "Here we group by title-year and just find the size of each group.  Because\n",
    "we're using the aggfunc `size`, we don't need a values column\n",
    "to apply the aggregation function to. That is, instead of doing something like\n",
    "taking the mean of the `'weight'` column for the rows in each group (like we did with\n",
    "nba data), we're just counting the number of rows in each group."
   ]
  },
  {
   "cell_type": "code",
   "execution_count": 197,
   "metadata": {},
   "outputs": [
    {
     "data": {
      "text/plain": [
       "title                         year\n",
       "Mr. Smith Goes to Washington  1939    217\n",
       "Union Pacific                 1939    183\n",
       "Second Fiddle                 1939    173\n",
       "Gone with the Wind            1939    148\n",
       "The Wizard of Oz              1939    130\n",
       "The Oscar                     1966    123\n",
       "The Women                     1939    123\n",
       "The Roaring Twenties          1939    119\n",
       "The Hunchback of Notre Dame   1939    113\n",
       "Dick Tracy's G-Men            1939    104\n",
       "dtype: int64"
      ]
     },
     "execution_count": 197,
     "metadata": {},
     "output_type": "execute_result"
    }
   ],
   "source": [
    "castpt = pd.pivot_table(cast_39_66,index=['title','year'],aggfunc='size')\n",
    "castpt.sort_values(ascending=False)[:10]"
   ]
  },
  {
   "cell_type": "markdown",
   "metadata": {},
   "source": [
    "*Stagecoach* has again been split into two cases."
   ]
  },
  {
   "cell_type": "code",
   "execution_count": 150,
   "metadata": {},
   "outputs": [
    {
     "data": {
      "text/plain": [
       "year\n",
       "1939    62\n",
       "1966    28\n",
       "dtype: int64"
      ]
     },
     "execution_count": 150,
     "metadata": {},
     "output_type": "execute_result"
    }
   ],
   "source": [
    "castpt['Stagecoach']"
   ]
  },
  {
   "cell_type": "markdown",
   "metadata": {},
   "source": [
    "`castpt` is a `Series` with a multiindex. "
   ]
  },
  {
   "cell_type": "code",
   "execution_count": 196,
   "metadata": {},
   "outputs": [
    {
     "data": {
      "text/plain": [
       "pandas.core.series.Series"
      ]
     },
     "execution_count": 196,
     "metadata": {},
     "output_type": "execute_result"
    }
   ],
   "source": [
    "type(castpt)"
   ]
  },
  {
   "cell_type": "markdown",
   "metadata": {},
   "source": [
    "The correct answer on this scenario:"
   ]
  },
  {
   "cell_type": "code",
   "execution_count": 195,
   "metadata": {},
   "outputs": [
    {
     "data": {
      "text/plain": [
       "title             year\n",
       "Another Thin Man  1939    94\n",
       "Sergeant Madden   1939    92\n",
       "Torn Curtain      1966    93\n",
       "dtype: int64"
      ]
     },
     "execution_count": 195,
     "metadata": {},
     "output_type": "execute_result"
    }
   ],
   "source": [
    "castpt[(castpt >90)&(castpt<100)]"
   ]
  },
  {
   "cell_type": "markdown",
   "metadata": {},
   "source": [
    "Or equivalently, and perhaps more transparently, just use `.groupby()` and `.size()`.\n",
    "This path, too, constructs a `pandas Series`."
   ]
  },
  {
   "cell_type": "code",
   "execution_count": 198,
   "metadata": {},
   "outputs": [
    {
     "data": {
      "text/plain": [
       "title                         year\n",
       "Mr. Smith Goes to Washington  1939    217\n",
       "Union Pacific                 1939    183\n",
       "Second Fiddle                 1939    173\n",
       "Gone with the Wind            1939    148\n",
       "The Wizard of Oz              1939    130\n",
       "The Oscar                     1966    123\n",
       "The Women                     1939    123\n",
       "The Roaring Twenties          1939    119\n",
       "The Hunchback of Notre Dame   1939    113\n",
       "Dick Tracy's G-Men            1939    104\n",
       "dtype: int64"
      ]
     },
     "execution_count": 198,
     "metadata": {},
     "output_type": "execute_result"
    }
   ],
   "source": [
    "gpt = cast_39_66.groupby(['title','year']).size()\n",
    "gpt.sort_values(ascending=False)[:10]"
   ]
  },
  {
   "cell_type": "code",
   "execution_count": 152,
   "metadata": {},
   "outputs": [
    {
     "data": {
      "text/plain": [
       "year\n",
       "1939    62\n",
       "1966    28\n",
       "dtype: int64"
      ]
     },
     "execution_count": 152,
     "metadata": {},
     "output_type": "execute_result"
    }
   ],
   "source": [
    "gpt['Stagecoach']"
   ]
  },
  {
   "cell_type": "markdown",
   "metadata": {},
   "source": [
    "And here's the correct answer again:"
   ]
  },
  {
   "cell_type": "code",
   "execution_count": 177,
   "metadata": {},
   "outputs": [
    {
     "data": {
      "text/plain": [
       "title             year\n",
       "Another Thin Man  1939    94\n",
       "Sergeant Madden   1939    92\n",
       "Torn Curtain      1966    93\n",
       "dtype: int64"
      ]
     },
     "execution_count": 177,
     "metadata": {},
     "output_type": "execute_result"
    }
   ],
   "source": [
    "gpt[(gpt>=90)&(gpt<100)]"
   ]
  },
  {
   "cell_type": "markdown",
   "metadata": {},
   "source": [
    "**Comments:**"
   ]
  },
  {
   "cell_type": "markdown",
   "metadata": {},
   "source": [
    "It turns out there was also a remake of *Around the World in 80 Days*, the film we thought had the largest cast of all time."
   ]
  },
  {
   "cell_type": "code",
   "execution_count": 59,
   "metadata": {},
   "outputs": [
    {
     "data": {
      "text/plain": [
       "array([1956, 2004])"
      ]
     },
     "execution_count": 59,
     "metadata": {},
     "output_type": "execute_result"
    }
   ],
   "source": [
    "cast[cast[\"title\"]==\"Around the World in 80 Days\"]['year'].unique()"
   ]
  },
  {
   "cell_type": "markdown",
   "metadata": {},
   "source": [
    "That means the cast size of 1364, which we compute based on title groups,\n",
    "actually combines the casts of two films:"
   ]
  },
  {
   "cell_type": "code",
   "execution_count": 251,
   "metadata": {},
   "outputs": [
    {
     "data": {
      "text/plain": [
       "title\n",
       "Around the World in 80 Days    1364\n",
       "dtype: int64"
      ]
     },
     "execution_count": 251,
     "metadata": {},
     "output_type": "execute_result"
    }
   ],
   "source": [
    "gpt_all = cast.groupby(['title']).size()\n",
    "gpt_all.sort_values(ascending=False)[:1]"
   ]
  },
  {
   "cell_type": "markdown",
   "metadata": {},
   "source": [
    "Does *Around the World in 80 Days* actually have the largest cast alltime?\n",
    "To find out, we have to group by title and year, using one\n",
    "of the methods illustrated in the correct solution above.  For example,"
   ]
  },
  {
   "cell_type": "code",
   "execution_count": 252,
   "metadata": {},
   "outputs": [
    {
     "data": {
      "text/plain": [
       "title                        year\n",
       "Around the World in 80 Days  1956    1299\n",
       "dtype: int64"
      ]
     },
     "execution_count": 252,
     "metadata": {},
     "output_type": "execute_result"
    }
   ],
   "source": [
    "gpt_all = cast.groupby(['title','year']).size()\n",
    "gpt_all.sort_values(ascending=False)[:1]"
   ]
  },
  {
   "cell_type": "markdown",
   "metadata": {},
   "source": [
    "So the 2004 Jackie Chan remake did not change the all time winner,\n",
    "because its own cast size was tiny compared to the 1956 blockbuster."
   ]
  },
  {
   "cell_type": "code",
   "execution_count": 253,
   "metadata": {},
   "outputs": [
    {
     "data": {
      "text/plain": [
       "65"
      ]
     },
     "execution_count": 253,
     "metadata": {},
     "output_type": "execute_result"
    }
   ],
   "source": [
    "gpt_all.loc[(\"Around the World in 80 Days\",2004)]"
   ]
  },
  {
   "cell_type": "markdown",
   "metadata": {
    "collapsed": true
   },
   "source": [
    "### How many films made before 1939 have a cast of size 1."
   ]
  },
  {
   "cell_type": "markdown",
   "metadata": {},
   "source": [
    "Surprisingly many films with a cast of size 1. Perhaps because that ensured less hanky panky on the set."
   ]
  },
  {
   "cell_type": "code",
   "execution_count": 141,
   "metadata": {},
   "outputs": [],
   "source": [
    "cast_sizes = cast_pre_1939['title'].value_counts()"
   ]
  },
  {
   "cell_type": "markdown",
   "metadata": {},
   "source": [
    "Simple answer.  This is a `Series` so we can just directly apply a Boolean condition."
   ]
  },
  {
   "cell_type": "code",
   "execution_count": 142,
   "metadata": {},
   "outputs": [
    {
     "data": {
      "text/plain": [
       "551"
      ]
     },
     "execution_count": 142,
     "metadata": {},
     "output_type": "execute_result"
    }
   ],
   "source": [
    "(cast_sizes==1).sum()"
   ]
  },
  {
   "cell_type": "markdown",
   "metadata": {},
   "source": [
    "Quite a few pre-1939 films with cast size 1."
   ]
  },
  {
   "cell_type": "markdown",
   "metadata": {},
   "source": [
    "There is also a slightly trickier answer: `cast_sizes` is a `Series`. The values are the cast counts for each film.\n",
    "\n",
    "So if we  run `.value_counts()` **again** on `cast_sizes`, we will generate a new `Series` \n",
    "counting how many times each cast size occured, and \n",
    "we can use that to look up the count for cast of size 1."
   ]
  },
  {
   "cell_type": "code",
   "execution_count": 140,
   "metadata": {},
   "outputs": [
    {
     "data": {
      "text/plain": [
       "551"
      ]
     },
     "execution_count": 140,
     "metadata": {},
     "output_type": "execute_result"
    }
   ],
   "source": [
    "cast_sizes.value_counts()[1]"
   ]
  },
  {
   "cell_type": "markdown",
   "metadata": {},
   "source": [
    "My guess is this is less efficient. But notable for its cuteness."
   ]
  },
  {
   "cell_type": "markdown",
   "metadata": {
    "collapsed": true
   },
   "source": [
    "### How many movies have had remakes?\n",
    "\n",
    "Film buffs will know this is much harder than it might seem.  To make this\n",
    "doable, let's look only at remakes that have the same title, and let's assume (falsely)\n",
    "that when two movies have the same title, the later one is a remake of the earlier one.\n",
    "\n",
    "We will investigate below how \"leaky\" our definition of remakes is."
   ]
  },
  {
   "cell_type": "code",
   "execution_count": null,
   "metadata": {},
   "outputs": [],
   "source": []
  },
  {
   "cell_type": "code",
   "execution_count": 41,
   "metadata": {},
   "outputs": [
    {
     "name": "stdout",
     "output_type": "stream",
     "text": [
      "12,645 out of 226,013 films have had remakes\n"
     ]
    }
   ],
   "source": [
    "make_counts = titles['title'].value_counts() \n",
    "#print(f'{len(make_counts[make_counts > 1]):,} out of {len(titles):,} films have had remakes')\n",
    "print(f'{(make_counts > 1).sum():,} out of {len(titles):,} films have had remakes')"
   ]
  },
  {
   "cell_type": "markdown",
   "metadata": {},
   "source": [
    "If you computed this using `cast` you got a different smaller answer, because `cast` contains truncated data, and `titles` does not."
   ]
  },
  {
   "cell_type": "markdown",
   "metadata": {},
   "source": [
    "Using `cast` you could do."
   ]
  },
  {
   "cell_type": "code",
   "execution_count": 248,
   "metadata": {},
   "outputs": [],
   "source": [
    "# One group per film, year pair, take a sample cast member from each\n",
    "sample_cast_members = cast.groupby(by=['title', 'year'], as_index=False).first()\n",
    "# group by titles to look for groups with more than one member\n",
    "scm_cts = sample_cast_members.groupby('title')['character'].count()"
   ]
  },
  {
   "cell_type": "code",
   "execution_count": 246,
   "metadata": {},
   "outputs": [
    {
     "data": {
      "text/plain": [
       "4017"
      ]
     },
     "execution_count": 246,
     "metadata": {},
     "output_type": "execute_result"
    }
   ],
   "source": [
    "remakes = scm_cts[scm_cts>1]\n",
    "remakes.count()"
   ]
  },
  {
   "cell_type": "markdown",
   "metadata": {},
   "source": [
    "The most remade movies:"
   ]
  },
  {
   "cell_type": "code",
   "execution_count": 249,
   "metadata": {},
   "outputs": [
    {
     "data": {
      "text/plain": [
       "title\n",
       "Hamlet                  20\n",
       "The Outsider             9\n",
       "Carmen                   8\n",
       "Anna Karenina            8\n",
       "Treasure Island          7\n",
       "Kismet                   7\n",
       "Blackmail                7\n",
       "The Three Musketeers     7\n",
       "Macbeth                  7\n",
       "Forbidden                7\n",
       "Oliver Twist             7\n",
       "Body and Soul            7\n",
       "The Stranger             6\n",
       "Surrender                6\n",
       "Taxi                     6\n",
       "Devotion                 6\n",
       "Easy Money               6\n",
       "Temptation               6\n",
       "Gold                     6\n",
       "She                      6\n",
       "Name: character, dtype: int64"
      ]
     },
     "execution_count": 249,
     "metadata": {},
     "output_type": "execute_result"
    }
   ],
   "source": [
    "remakes = scm_cts[scm_cts>1]\n",
    "remakes.sort_values(ascending=False)[:20]"
   ]
  },
  {
   "cell_type": "markdown",
   "metadata": {},
   "source": [
    "And the top 20 most remade films of all time:"
   ]
  },
  {
   "cell_type": "markdown",
   "metadata": {},
   "source": [
    "The numbers from the untruncated data are slightly larger"
   ]
  },
  {
   "cell_type": "code",
   "execution_count": 67,
   "metadata": {
    "scrolled": true
   },
   "outputs": [
    {
     "data": {
      "text/plain": [
       "Hamlet                  20\n",
       "Carmen                  17\n",
       "Macbeth                 16\n",
       "The Outsider            12\n",
       "Temptation              11\n",
       "Maya                    11\n",
       "The Three Musketeers    11\n",
       "Othello                 11\n",
       "Freedom                 11\n",
       "Love                    10\n",
       "Anna Karenina           10\n",
       "Anna                    10\n",
       "Honeymoon               10\n",
       "Kismet                  10\n",
       "Underground              9\n",
       "Hero                     9\n",
       "Paradise                 9\n",
       "Mercy                    9\n",
       "Gold                     9\n",
       "Vengeance                9\n",
       "Name: title, dtype: int64"
      ]
     },
     "execution_count": 67,
     "metadata": {},
     "output_type": "execute_result"
    }
   ],
   "source": [
    "make_counts[:20]"
   ]
  },
  {
   "cell_type": "markdown",
   "metadata": {},
   "source": [
    "Either of the above answers is valid.  The issues with them have to do witrh flaws in this way of defining remakes. The question of how to define remakes better is  difficult."
   ]
  },
  {
   "cell_type": "markdown",
   "metadata": {},
   "source": [
    "**Comment:  The Difficulty of defining remake**\n",
    "\n",
    "Consider that the list above seems a little suspect.  \"Hamlet\", \"Othello\", and \"Macbeth\" are okay (these are not names likely to be found among your school chums), but after those there are a lot of one-word titles like \"Kismet\", \"Honeymoon\", \"Gold\", and \"Vengeance\".  Is it possible that two utterly unrelated films  have been given the title \"Vengeance\"?\n",
    "\n",
    "It is.  Even in our truncated data, there are 6 films entitled *Vengeance*. Note the variety in the names of the lead characters. "
   ]
  },
  {
   "cell_type": "code",
   "execution_count": 123,
   "metadata": {
    "scrolled": true
   },
   "outputs": [
    {
     "data": {
      "text/html": [
       "<div>\n",
       "<style scoped>\n",
       "    .dataframe tbody tr th:only-of-type {\n",
       "        vertical-align: middle;\n",
       "    }\n",
       "\n",
       "    .dataframe tbody tr th {\n",
       "        vertical-align: top;\n",
       "    }\n",
       "\n",
       "    .dataframe thead th {\n",
       "        text-align: right;\n",
       "    }\n",
       "</style>\n",
       "<table border=\"1\" class=\"dataframe\">\n",
       "  <thead>\n",
       "    <tr style=\"text-align: right;\">\n",
       "      <th></th>\n",
       "      <th>title</th>\n",
       "      <th>year</th>\n",
       "      <th>name</th>\n",
       "      <th>type</th>\n",
       "      <th>character</th>\n",
       "      <th>n</th>\n",
       "    </tr>\n",
       "  </thead>\n",
       "  <tbody>\n",
       "    <tr>\n",
       "      <th>303140</th>\n",
       "      <td>Vengeance</td>\n",
       "      <td>2001</td>\n",
       "      <td>Jim Calloway</td>\n",
       "      <td>actor</td>\n",
       "      <td>Patient</td>\n",
       "      <td>1.0</td>\n",
       "    </tr>\n",
       "    <tr>\n",
       "      <th>512835</th>\n",
       "      <td>Vengeance</td>\n",
       "      <td>2013</td>\n",
       "      <td>Matt DeCoster</td>\n",
       "      <td>actor</td>\n",
       "      <td>Alex</td>\n",
       "      <td>1.0</td>\n",
       "    </tr>\n",
       "    <tr>\n",
       "      <th>932185</th>\n",
       "      <td>Vengeance</td>\n",
       "      <td>1930</td>\n",
       "      <td>Jack Holt</td>\n",
       "      <td>actor</td>\n",
       "      <td>John Meadham</td>\n",
       "      <td>1.0</td>\n",
       "    </tr>\n",
       "    <tr>\n",
       "      <th>1252396</th>\n",
       "      <td>Vengeance</td>\n",
       "      <td>1918</td>\n",
       "      <td>Montagu Love</td>\n",
       "      <td>actor</td>\n",
       "      <td>Lorin Cuddlestone</td>\n",
       "      <td>1.0</td>\n",
       "    </tr>\n",
       "    <tr>\n",
       "      <th>1252397</th>\n",
       "      <td>Vengeance</td>\n",
       "      <td>1918</td>\n",
       "      <td>Montagu Love</td>\n",
       "      <td>actor</td>\n",
       "      <td>John Cuddlestone</td>\n",
       "      <td>1.0</td>\n",
       "    </tr>\n",
       "    <tr>\n",
       "      <th>2075812</th>\n",
       "      <td>Vengeance</td>\n",
       "      <td>1964</td>\n",
       "      <td>William Thourlby</td>\n",
       "      <td>actor</td>\n",
       "      <td>Capt. Lafe Todd</td>\n",
       "      <td>1.0</td>\n",
       "    </tr>\n",
       "  </tbody>\n",
       "</table>\n",
       "</div>"
      ],
      "text/plain": [
       "             title  year              name   type          character    n\n",
       "303140   Vengeance  2001      Jim Calloway  actor            Patient  1.0\n",
       "512835   Vengeance  2013     Matt DeCoster  actor               Alex  1.0\n",
       "932185   Vengeance  1930         Jack Holt  actor       John Meadham  1.0\n",
       "1252396  Vengeance  1918      Montagu Love  actor  Lorin Cuddlestone  1.0\n",
       "1252397  Vengeance  1918      Montagu Love  actor   John Cuddlestone  1.0\n",
       "2075812  Vengeance  1964  William Thourlby  actor    Capt. Lafe Todd  1.0"
      ]
     },
     "execution_count": 123,
     "metadata": {},
     "output_type": "execute_result"
    }
   ],
   "source": [
    "cast[(cast['title'] == 'Vengeance')&(cast['n']==1)]"
   ]
  },
  {
   "cell_type": "markdown",
   "metadata": {},
   "source": [
    "So, as we suspected, the idea of calling any two films with the same title remakes\n",
    "seems to be leaky.\n",
    "\n",
    "But the list above leads to the following idea.  Let's try calling two movies remakes if the title and\n",
    "the name of the leading character agree.\n",
    "\n",
    "This promising idea turns out to still leak."
   ]
  },
  {
   "cell_type": "code",
   "execution_count": 125,
   "metadata": {},
   "outputs": [
    {
     "data": {
      "text/plain": [
       "title            character      \n",
       "Up in the Club   Comic              11\n",
       "Carmen           Carmen             10\n",
       "Hamlet           Hamlet              9\n",
       "Anna Karenina    Anna Karenina       8\n",
       "Macbeth          Macbeth             7\n",
       "Robinson Crusoe  Robinson Crusoe     6\n",
       "Oliver Twist     Oliver Twist        6\n",
       "Don Quixote      Don Quixote         6\n",
       "Cinderella       Cinderella          5\n",
       "Sherlock Holmes  Sherlock Holmes     5\n",
       "Name: year, dtype: int64"
      ]
     },
     "execution_count": 125,
     "metadata": {},
     "output_type": "execute_result"
    }
   ],
   "source": [
    "lead = cast[cast[\"n\"]==1]\n",
    "gts = lead.groupby(['title','character'])\n",
    "remake_cts = gts['year'].count()\n",
    "remake_cts.sort_values(ascending=False)[:10]"
   ]
  },
  {
   "cell_type": "markdown",
   "metadata": {},
   "source": [
    "Let's look at look some cases of missed remakes.  Consider \"Othello\"."
   ]
  },
  {
   "cell_type": "code",
   "execution_count": 143,
   "metadata": {},
   "outputs": [
    {
     "data": {
      "text/plain": [
       "character\n",
       "Othello     4\n",
       "Roderigo    1\n",
       "Name: year, dtype: int64"
      ]
     },
     "execution_count": 143,
     "metadata": {},
     "output_type": "execute_result"
    }
   ],
   "source": [
    "remake_cts['Othello']"
   ]
  },
  {
   "cell_type": "markdown",
   "metadata": {},
   "source": [
    "There is a character named \"Roderigo\" in \"Othello\"\n",
    "and he has the first line in Act I, Scene 1, so the version with a main\n",
    "character by that name seems\n",
    "to be a case of listing the cast in order of appearance.\n",
    "\n",
    "Our definition doesn't capture it as a remake, but clearly it is.  So this\n",
    "definition is too strict.  It rules out valid remakes."
   ]
  },
  {
   "cell_type": "markdown",
   "metadata": {},
   "source": [
    "As an example of some of the remaining issues, consider *The Three Musketeers*:"
   ]
  },
  {
   "cell_type": "code",
   "execution_count": 127,
   "metadata": {
    "scrolled": true
   },
   "outputs": [
    {
     "data": {
      "text/plain": [
       "character\n",
       "Aramis            1\n",
       "Athos             2\n",
       "Clancy            1\n",
       "D'Artagnan        2\n",
       "Lady de Winter    1\n",
       "Louis XIII        1\n",
       "d'Artagnan        1\n",
       "Name: year, dtype: int64"
      ]
     },
     "execution_count": 127,
     "metadata": {},
     "output_type": "execute_result"
    }
   ],
   "source": [
    "remake_cts['The Three Musketeers']"
   ]
  },
  {
   "cell_type": "markdown",
   "metadata": {},
   "source": [
    "We see the issue of spelling (let's just ignore that one), and we see \n",
    "a number of different actual characters from the book being listed\n",
    "as the n=1 character.\n",
    "\n",
    "If we look at the Wikipedia entry \"The Three Musketeers\" made in  1921,\n",
    "we see the film does indeed list King Louis XIII as the first listed member in the credits (according to Wikipedia); perhaps this is another case of \n",
    "casts listed by\n",
    "order of appearance.  Having confirmed that this happens more than once,\n",
    "we have to admit that this practice raises an issue\n",
    "for our way of finding remakes.\n",
    "The silent 1921 version of \"The Three Musketeers\"  clearly belongs in\n",
    "our set of remakes but has not been counted as one.\n",
    "This may explain some of the other n=1 characters as well.\n",
    "\n",
    "The version whose lead is named \"Clancy\"  raises a different issue.   This is an \"updated\" version made in 1933 in which the three musketeers have been recast as French Legionnaires.  Is this a remake?  Well, many of the features of the book have been retained and Alexander Dumas is listed as one of the writers.  Is that enough?  Perhaps not.  \n",
    "\n",
    "The complete list of films titled 'The Three Musketeers' and their stars \n",
    "shows that the idea of requiring identity of n=1 role is just leaky.  Only two pairs among\n",
    "the 9 films,  are counted\n",
    "as remakes, in part because different musketeers have been chosen\n",
    "as the star (poor Porthos is always left out). But at least 8 of the 9 films listed below are arguably remakes."
   ]
  },
  {
   "cell_type": "code",
   "execution_count": 128,
   "metadata": {
    "scrolled": true
   },
   "outputs": [
    {
     "data": {
      "text/html": [
       "<div>\n",
       "<style scoped>\n",
       "    .dataframe tbody tr th:only-of-type {\n",
       "        vertical-align: middle;\n",
       "    }\n",
       "\n",
       "    .dataframe tbody tr th {\n",
       "        vertical-align: top;\n",
       "    }\n",
       "\n",
       "    .dataframe thead th {\n",
       "        text-align: right;\n",
       "    }\n",
       "</style>\n",
       "<table border=\"1\" class=\"dataframe\">\n",
       "  <thead>\n",
       "    <tr style=\"text-align: right;\">\n",
       "      <th></th>\n",
       "      <th>title</th>\n",
       "      <th>year</th>\n",
       "      <th>name</th>\n",
       "      <th>type</th>\n",
       "      <th>character</th>\n",
       "      <th>n</th>\n",
       "    </tr>\n",
       "  </thead>\n",
       "  <tbody>\n",
       "    <tr>\n",
       "      <th>3554</th>\n",
       "      <td>The Three Musketeers</td>\n",
       "      <td>1935</td>\n",
       "      <td>Walter Abel</td>\n",
       "      <td>actor</td>\n",
       "      <td>d'Artagnan</td>\n",
       "      <td>1.0</td>\n",
       "    </tr>\n",
       "    <tr>\n",
       "      <th>46346</th>\n",
       "      <td>The Three Musketeers</td>\n",
       "      <td>1939</td>\n",
       "      <td>Don Ameche</td>\n",
       "      <td>actor</td>\n",
       "      <td>D'Artagnan</td>\n",
       "      <td>1.0</td>\n",
       "    </tr>\n",
       "    <tr>\n",
       "      <th>1020227</th>\n",
       "      <td>The Three Musketeers</td>\n",
       "      <td>1916</td>\n",
       "      <td>Orrin (II) Johnson</td>\n",
       "      <td>actor</td>\n",
       "      <td>D'Artagnan</td>\n",
       "      <td>1.0</td>\n",
       "    </tr>\n",
       "    <tr>\n",
       "      <th>1275681</th>\n",
       "      <td>The Three Musketeers</td>\n",
       "      <td>2011</td>\n",
       "      <td>Matthew Macfadyen</td>\n",
       "      <td>actor</td>\n",
       "      <td>Athos</td>\n",
       "      <td>1.0</td>\n",
       "    </tr>\n",
       "    <tr>\n",
       "      <th>1392145</th>\n",
       "      <td>The Three Musketeers</td>\n",
       "      <td>1921</td>\n",
       "      <td>Adolphe Menjou</td>\n",
       "      <td>actor</td>\n",
       "      <td>Louis XIII</td>\n",
       "      <td>1.0</td>\n",
       "    </tr>\n",
       "    <tr>\n",
       "      <th>1472161</th>\n",
       "      <td>The Three Musketeers</td>\n",
       "      <td>1933</td>\n",
       "      <td>Jack Mulhall</td>\n",
       "      <td>actor</td>\n",
       "      <td>Clancy</td>\n",
       "      <td>1.0</td>\n",
       "    </tr>\n",
       "    <tr>\n",
       "      <th>1730475</th>\n",
       "      <td>The Three Musketeers</td>\n",
       "      <td>1973</td>\n",
       "      <td>Oliver Reed</td>\n",
       "      <td>actor</td>\n",
       "      <td>Athos</td>\n",
       "      <td>1.0</td>\n",
       "    </tr>\n",
       "    <tr>\n",
       "      <th>1904646</th>\n",
       "      <td>The Three Musketeers</td>\n",
       "      <td>1993</td>\n",
       "      <td>Charlie Sheen</td>\n",
       "      <td>actor</td>\n",
       "      <td>Aramis</td>\n",
       "      <td>1.0</td>\n",
       "    </tr>\n",
       "    <tr>\n",
       "      <th>3343233</th>\n",
       "      <td>The Three Musketeers</td>\n",
       "      <td>1948</td>\n",
       "      <td>Lana Turner</td>\n",
       "      <td>actress</td>\n",
       "      <td>Lady de Winter</td>\n",
       "      <td>1.0</td>\n",
       "    </tr>\n",
       "  </tbody>\n",
       "</table>\n",
       "</div>"
      ],
      "text/plain": [
       "                        title  year                name     type  \\\n",
       "3554     The Three Musketeers  1935         Walter Abel    actor   \n",
       "46346    The Three Musketeers  1939          Don Ameche    actor   \n",
       "1020227  The Three Musketeers  1916  Orrin (II) Johnson    actor   \n",
       "1275681  The Three Musketeers  2011   Matthew Macfadyen    actor   \n",
       "1392145  The Three Musketeers  1921      Adolphe Menjou    actor   \n",
       "1472161  The Three Musketeers  1933        Jack Mulhall    actor   \n",
       "1730475  The Three Musketeers  1973         Oliver Reed    actor   \n",
       "1904646  The Three Musketeers  1993       Charlie Sheen    actor   \n",
       "3343233  The Three Musketeers  1948         Lana Turner  actress   \n",
       "\n",
       "              character    n  \n",
       "3554         d'Artagnan  1.0  \n",
       "46346        D'Artagnan  1.0  \n",
       "1020227      D'Artagnan  1.0  \n",
       "1275681           Athos  1.0  \n",
       "1392145      Louis XIII  1.0  \n",
       "1472161          Clancy  1.0  \n",
       "1730475           Athos  1.0  \n",
       "1904646          Aramis  1.0  \n",
       "3343233  Lady de Winter  1.0  "
      ]
     },
     "execution_count": 128,
     "metadata": {},
     "output_type": "execute_result"
    }
   ],
   "source": [
    "cast[(cast['title']=='The Three Musketeers')&(cast['n']==1)]"
   ]
  },
  {
   "cell_type": "markdown",
   "metadata": {},
   "source": [
    "We leave the issue of finding a satisfactory definition of *remake*\n",
    "unresolved, but with a growing suspicion that the concept is\n",
    "inherently ill-defined."
   ]
  },
  {
   "cell_type": "markdown",
   "metadata": {
    "collapsed": true
   },
   "source": [
    "### Plot the number of male and female roles year by year (up through 2017)\n",
    "\n",
    "So you want years on the x-axis and two lines, one\n",
    "tracking the number of male roles and another tracking the number of female roles."
   ]
  },
  {
   "cell_type": "code",
   "execution_count": 144,
   "metadata": {},
   "outputs": [],
   "source": [
    "cast_past = cast[cast['year']<=2017]\n",
    "ct_film_genders = pd.crosstab(cast_past['year'],cast_past['type'])"
   ]
  },
  {
   "cell_type": "code",
   "execution_count": 145,
   "metadata": {},
   "outputs": [
    {
     "data": {
      "text/html": [
       "<div>\n",
       "<style scoped>\n",
       "    .dataframe tbody tr th:only-of-type {\n",
       "        vertical-align: middle;\n",
       "    }\n",
       "\n",
       "    .dataframe tbody tr th {\n",
       "        vertical-align: top;\n",
       "    }\n",
       "\n",
       "    .dataframe thead th {\n",
       "        text-align: right;\n",
       "    }\n",
       "</style>\n",
       "<table border=\"1\" class=\"dataframe\">\n",
       "  <thead>\n",
       "    <tr style=\"text-align: right;\">\n",
       "      <th>type</th>\n",
       "      <th>actor</th>\n",
       "      <th>actress</th>\n",
       "    </tr>\n",
       "    <tr>\n",
       "      <th>year</th>\n",
       "      <th></th>\n",
       "      <th></th>\n",
       "    </tr>\n",
       "  </thead>\n",
       "  <tbody>\n",
       "    <tr>\n",
       "      <th>1894</th>\n",
       "      <td>2</td>\n",
       "      <td>1</td>\n",
       "    </tr>\n",
       "    <tr>\n",
       "      <th>1900</th>\n",
       "      <td>2</td>\n",
       "      <td>0</td>\n",
       "    </tr>\n",
       "    <tr>\n",
       "      <th>1905</th>\n",
       "      <td>1</td>\n",
       "      <td>0</td>\n",
       "    </tr>\n",
       "    <tr>\n",
       "      <th>1906</th>\n",
       "      <td>14</td>\n",
       "      <td>3</td>\n",
       "    </tr>\n",
       "    <tr>\n",
       "      <th>1907</th>\n",
       "      <td>5</td>\n",
       "      <td>0</td>\n",
       "    </tr>\n",
       "    <tr>\n",
       "      <th>...</th>\n",
       "      <td>...</td>\n",
       "      <td>...</td>\n",
       "    </tr>\n",
       "    <tr>\n",
       "      <th>2013</th>\n",
       "      <td>79780</td>\n",
       "      <td>42964</td>\n",
       "    </tr>\n",
       "    <tr>\n",
       "      <th>2014</th>\n",
       "      <td>82876</td>\n",
       "      <td>46177</td>\n",
       "    </tr>\n",
       "    <tr>\n",
       "      <th>2015</th>\n",
       "      <td>83390</td>\n",
       "      <td>47947</td>\n",
       "    </tr>\n",
       "    <tr>\n",
       "      <th>2016</th>\n",
       "      <td>85722</td>\n",
       "      <td>50549</td>\n",
       "    </tr>\n",
       "    <tr>\n",
       "      <th>2017</th>\n",
       "      <td>81784</td>\n",
       "      <td>54874</td>\n",
       "    </tr>\n",
       "  </tbody>\n",
       "</table>\n",
       "<p>115 rows × 2 columns</p>\n",
       "</div>"
      ],
      "text/plain": [
       "type  actor  actress\n",
       "year                \n",
       "1894      2        1\n",
       "1900      2        0\n",
       "1905      1        0\n",
       "1906     14        3\n",
       "1907      5        0\n",
       "...     ...      ...\n",
       "2013  79780    42964\n",
       "2014  82876    46177\n",
       "2015  83390    47947\n",
       "2016  85722    50549\n",
       "2017  81784    54874\n",
       "\n",
       "[115 rows x 2 columns]"
      ]
     },
     "execution_count": 145,
     "metadata": {},
     "output_type": "execute_result"
    }
   ],
   "source": [
    "ct_film_genders"
   ]
  },
  {
   "cell_type": "markdown",
   "metadata": {},
   "source": [
    "Note this is not how the plot looks on the full data set.\n",
    "\n",
    "The truncated data set you used for this assignment  hid some of the facts, and that's okay, as long as your code is right."
   ]
  },
  {
   "cell_type": "code",
   "execution_count": 334,
   "metadata": {},
   "outputs": [
    {
     "data": {
      "text/plain": [
       "<AxesSubplot:xlabel='year'>"
      ]
     },
     "execution_count": 334,
     "metadata": {},
     "output_type": "execute_result"
    },
    {
     "data": {
      "image/png": "[encoded data removed]",
      "text/plain": [
       "<Figure size 640x480 with 1 Axes>"
      ]
     },
     "metadata": {},
     "output_type": "display_data"
    }
   ],
   "source": [
    "cast_past = cast[cast['year']<=2017]\n",
    "ct_film_genders = pd.crosstab(cast_past['year'],cast_past['type'])\n",
    "ct_film_genders.plot()"
   ]
  },
  {
   "cell_type": "markdown",
   "metadata": {},
   "source": [
    "Here's the full data plot."
   ]
  },
  {
   "cell_type": "code",
   "execution_count": 146,
   "metadata": {
    "scrolled": false
   },
   "outputs": [
    {
     "data": {
      "text/plain": [
       "<AxesSubplot:xlabel='year'>"
      ]
     },
     "execution_count": 146,
     "metadata": {},
     "output_type": "execute_result"
    },
    {
     "data": {
      "image/png": "[encoded data removed]",
      "text/plain": [
       "<Figure size 640x480 with 1 Axes>"
      ]
     },
     "metadata": {},
     "output_type": "display_data"
    }
   ],
   "source": [
    "ct_film_genders.plot()"
   ]
  },
  {
   "cell_type": "markdown",
   "metadata": {},
   "source": [
    "Alternative solution using groupby:"
   ]
  },
  {
   "cell_type": "code",
   "execution_count": 377,
   "metadata": {},
   "outputs": [
    {
     "data": {
      "text/html": [
       "<div>\n",
       "<style scoped>\n",
       "    .dataframe tbody tr th:only-of-type {\n",
       "        vertical-align: middle;\n",
       "    }\n",
       "\n",
       "    .dataframe tbody tr th {\n",
       "        vertical-align: top;\n",
       "    }\n",
       "\n",
       "    .dataframe thead th {\n",
       "        text-align: right;\n",
       "    }\n",
       "</style>\n",
       "<table border=\"1\" class=\"dataframe\">\n",
       "  <thead>\n",
       "    <tr style=\"text-align: right;\">\n",
       "      <th>type</th>\n",
       "      <th>actor</th>\n",
       "      <th>actress</th>\n",
       "    </tr>\n",
       "    <tr>\n",
       "      <th>year</th>\n",
       "      <th></th>\n",
       "      <th></th>\n",
       "    </tr>\n",
       "  </thead>\n",
       "  <tbody>\n",
       "    <tr>\n",
       "      <th>1894</th>\n",
       "      <td>2.0</td>\n",
       "      <td>1.0</td>\n",
       "    </tr>\n",
       "    <tr>\n",
       "      <th>1900</th>\n",
       "      <td>2.0</td>\n",
       "      <td>NaN</td>\n",
       "    </tr>\n",
       "    <tr>\n",
       "      <th>1905</th>\n",
       "      <td>1.0</td>\n",
       "      <td>NaN</td>\n",
       "    </tr>\n",
       "    <tr>\n",
       "      <th>1906</th>\n",
       "      <td>14.0</td>\n",
       "      <td>3.0</td>\n",
       "    </tr>\n",
       "    <tr>\n",
       "      <th>1907</th>\n",
       "      <td>5.0</td>\n",
       "      <td>NaN</td>\n",
       "    </tr>\n",
       "    <tr>\n",
       "      <th>...</th>\n",
       "      <td>...</td>\n",
       "      <td>...</td>\n",
       "    </tr>\n",
       "    <tr>\n",
       "      <th>2017</th>\n",
       "      <td>2372.0</td>\n",
       "      <td>1572.0</td>\n",
       "    </tr>\n",
       "    <tr>\n",
       "      <th>2018</th>\n",
       "      <td>549.0</td>\n",
       "      <td>701.0</td>\n",
       "    </tr>\n",
       "    <tr>\n",
       "      <th>2019</th>\n",
       "      <td>23.0</td>\n",
       "      <td>24.0</td>\n",
       "    </tr>\n",
       "    <tr>\n",
       "      <th>2020</th>\n",
       "      <td>2.0</td>\n",
       "      <td>6.0</td>\n",
       "    </tr>\n",
       "    <tr>\n",
       "      <th>2022</th>\n",
       "      <td>2.0</td>\n",
       "      <td>NaN</td>\n",
       "    </tr>\n",
       "  </tbody>\n",
       "</table>\n",
       "<p>119 rows × 2 columns</p>\n",
       "</div>"
      ],
      "text/plain": [
       "type   actor  actress\n",
       "year                 \n",
       "1894     2.0      1.0\n",
       "1900     2.0      NaN\n",
       "1905     1.0      NaN\n",
       "1906    14.0      3.0\n",
       "1907     5.0      NaN\n",
       "...      ...      ...\n",
       "2017  2372.0   1572.0\n",
       "2018   549.0    701.0\n",
       "2019    23.0     24.0\n",
       "2020     2.0      6.0\n",
       "2022     2.0      NaN\n",
       "\n",
       "[119 rows x 2 columns]"
      ]
     },
     "execution_count": 377,
     "metadata": {},
     "output_type": "execute_result"
    }
   ],
   "source": [
    "roles_by_year "
   ]
  },
  {
   "cell_type": "code",
   "execution_count": 278,
   "metadata": {},
   "outputs": [
    {
     "data": {
      "text/plain": [
       "<AxesSubplot:title={'center':'the number of male'}, xlabel='year'>"
      ]
     },
     "execution_count": 278,
     "metadata": {},
     "output_type": "execute_result"
    },
    {
     "data": {
      "image/png": "[encoded data removed]",
      "text/plain": [
       "<Figure size 640x480 with 1 Axes>"
      ]
     },
     "metadata": {},
     "output_type": "display_data"
    }
   ],
   "source": [
    "# Count year/type group sizes.\n",
    "# .unstack()  promotes types from second index component to columns.\n",
    "# leaving year in index to serve as x-axis for plots\n",
    "# roles_by_year is exactly the same DF as ct_film_genders.\n",
    "roles_by_year = cast.groupby(['year', 'type']).size().unstack()\n",
    "roles_by_year.plot(kind='line', y=['actor', 'actress'], title='the number of male')\n"
   ]
  },
  {
   "cell_type": "markdown",
   "metadata": {},
   "source": [
    "### Plot the percentages of all roles that are female year by year for the century from 1917 through 2017\n",
    "\n",
    "You are continuing your study of the imbalance of male and female roles.  Years on the x-axis,\n",
    "one line tracking the percentage of female roles.\n",
    "\n",
    "Comment:  This is  a very interesting plot, which is begging for a story to explain it.  The  truncated\n",
    "data is making this plot slight inaccurate but the basic trend you're seeing is correct."
   ]
  },
  {
   "cell_type": "code",
   "execution_count": 329,
   "metadata": {},
   "outputs": [],
   "source": [
    "cast_past = cast[(cast['year']<=2017)&(cast['year']>=1917)]\n",
    "ct_film_genders = pd.crosstab(cast_past['year'],cast_past['type'],normalize='index')"
   ]
  },
  {
   "cell_type": "code",
   "execution_count": 330,
   "metadata": {},
   "outputs": [
    {
     "data": {
      "text/html": [
       "<div>\n",
       "<style scoped>\n",
       "    .dataframe tbody tr th:only-of-type {\n",
       "        vertical-align: middle;\n",
       "    }\n",
       "\n",
       "    .dataframe tbody tr th {\n",
       "        vertical-align: top;\n",
       "    }\n",
       "\n",
       "    .dataframe thead th {\n",
       "        text-align: right;\n",
       "    }\n",
       "</style>\n",
       "<table border=\"1\" class=\"dataframe\">\n",
       "  <thead>\n",
       "    <tr style=\"text-align: right;\">\n",
       "      <th>type</th>\n",
       "      <th>actor</th>\n",
       "      <th>actress</th>\n",
       "    </tr>\n",
       "    <tr>\n",
       "      <th>year</th>\n",
       "      <th></th>\n",
       "      <th></th>\n",
       "    </tr>\n",
       "  </thead>\n",
       "  <tbody>\n",
       "    <tr>\n",
       "      <th>1917</th>\n",
       "      <td>0.629408</td>\n",
       "      <td>0.370592</td>\n",
       "    </tr>\n",
       "    <tr>\n",
       "      <th>1918</th>\n",
       "      <td>0.636911</td>\n",
       "      <td>0.363089</td>\n",
       "    </tr>\n",
       "    <tr>\n",
       "      <th>1919</th>\n",
       "      <td>0.635904</td>\n",
       "      <td>0.364096</td>\n",
       "    </tr>\n",
       "    <tr>\n",
       "      <th>1920</th>\n",
       "      <td>0.645449</td>\n",
       "      <td>0.354551</td>\n",
       "    </tr>\n",
       "    <tr>\n",
       "      <th>1921</th>\n",
       "      <td>0.640543</td>\n",
       "      <td>0.359457</td>\n",
       "    </tr>\n",
       "    <tr>\n",
       "      <th>...</th>\n",
       "      <td>...</td>\n",
       "      <td>...</td>\n",
       "    </tr>\n",
       "    <tr>\n",
       "      <th>2013</th>\n",
       "      <td>0.638248</td>\n",
       "      <td>0.361752</td>\n",
       "    </tr>\n",
       "    <tr>\n",
       "      <th>2014</th>\n",
       "      <td>0.634590</td>\n",
       "      <td>0.365410</td>\n",
       "    </tr>\n",
       "    <tr>\n",
       "      <th>2015</th>\n",
       "      <td>0.633192</td>\n",
       "      <td>0.366808</td>\n",
       "    </tr>\n",
       "    <tr>\n",
       "      <th>2016</th>\n",
       "      <td>0.627366</td>\n",
       "      <td>0.372634</td>\n",
       "    </tr>\n",
       "    <tr>\n",
       "      <th>2017</th>\n",
       "      <td>0.601420</td>\n",
       "      <td>0.398580</td>\n",
       "    </tr>\n",
       "  </tbody>\n",
       "</table>\n",
       "<p>101 rows × 2 columns</p>\n",
       "</div>"
      ],
      "text/plain": [
       "type     actor   actress\n",
       "year                    \n",
       "1917  0.629408  0.370592\n",
       "1918  0.636911  0.363089\n",
       "1919  0.635904  0.364096\n",
       "1920  0.645449  0.354551\n",
       "1921  0.640543  0.359457\n",
       "...        ...       ...\n",
       "2013  0.638248  0.361752\n",
       "2014  0.634590  0.365410\n",
       "2015  0.633192  0.366808\n",
       "2016  0.627366  0.372634\n",
       "2017  0.601420  0.398580\n",
       "\n",
       "[101 rows x 2 columns]"
      ]
     },
     "execution_count": 330,
     "metadata": {},
     "output_type": "execute_result"
    }
   ],
   "source": [
    "ct_film_genders"
   ]
  },
  {
   "cell_type": "markdown",
   "metadata": {},
   "source": [
    "#### Truncated data"
   ]
  },
  {
   "cell_type": "code",
   "execution_count": 369,
   "metadata": {},
   "outputs": [
    {
     "data": {
      "text/plain": [
       "<AxesSubplot:xlabel='year'>"
      ]
     },
     "execution_count": 369,
     "metadata": {},
     "output_type": "execute_result"
    },
    {
     "data": {
      "image/png": "[encoded data removed]",
      "text/plain": [
       "<Figure size 640x480 with 1 Axes>"
      ]
     },
     "metadata": {},
     "output_type": "display_data"
    }
   ],
   "source": [
    "cast_past = cast[(cast['year']<=2017)&(cast['year']>=1917)]\n",
    "ct_film_genders = pd.crosstab(cast_past['year'],cast_past['type'],normalize='index')\n",
    "ct_film_genders['actress'].plot()"
   ]
  },
  {
   "cell_type": "markdown",
   "metadata": {},
   "source": [
    "#### The real picture"
   ]
  },
  {
   "cell_type": "code",
   "execution_count": 372,
   "metadata": {},
   "outputs": [
    {
     "data": {
      "image/png": "[encoded data removed]",
      "text/plain": [
       "<Figure size 640x480 with 2 Axes>"
      ]
     },
     "metadata": {},
     "output_type": "display_data"
    }
   ],
   "source": [
    "import numpy as np\n",
    "import matplotlib.pyplot as plt\n",
    "\n",
    "#cast_past = cast[cast['year'].between(1917,2017)]\n",
    "cast_past = cast[cast['year'].between(1917,2000)]\n",
    "\n",
    "ct_film_genders = pd.crosstab(cast_past['year'],cast_past['type'],normalize='index')\n",
    "film_growth = pd.pivot_table(cast_past,index = 'year',values='title',aggfunc='count')\n",
    "\n",
    "fig, ax0 = plt.subplots()\n",
    "\n",
    "##############   R e d      L i n e   ################################\n",
    "color = 'tab:red'\n",
    "\n",
    "ct_film_genders['actress'].plot(ax=ax0,color=color)\n",
    "ax0.set_ylabel('Female Roles (%)', color=color)\n",
    "ax0.tick_params(axis='y', labelcolor=color)\n",
    "ax0.legend(loc='upper left')\n",
    "\n",
    "##############   B l u e     L i n e   ################################\n",
    "color = 'tab:blue'\n",
    "\n",
    "ax1 = ax0.twinx()  # instantiate a second axes that shares the same x-axis\n",
    "\n",
    "ax1.set_ylabel(\"Num Films\", color=color)  \n",
    "film_growth.plot(ax=ax1)\n",
    "ax1.tick_params(axis='y', labelcolor=color)\n",
    "\n",
    "ax1.legend(loc='upper right')\n",
    "\n",
    "fig.tight_layout()  # otherwise the right y-label is slightly clipped\n",
    "plt.show()"
   ]
  },
  {
   "cell_type": "code",
   "execution_count": null,
   "metadata": {},
   "outputs": [],
   "source": []
  }
 ],
 "metadata": {
  "kernelspec": {
   "display_name": "Python 3 (ipykernel)",
   "language": "python",
   "name": "python3"
  },
  "language_info": {
   "codemirror_mode": {
    "name": "ipython",
    "version": 3
   },
   "file_extension": ".py",
   "mimetype": "text/x-python",
   "name": "python",
   "nbconvert_exporter": "python",
   "pygments_lexer": "ipython3",
   "version": "3.10.6"
  }
 },
 "nbformat": 4,
 "nbformat_minor": 1
}
