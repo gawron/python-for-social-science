{
 "cells": [
  {
   "cell_type": "markdown",
   "id": "52723c24",
   "metadata": {},
   "source": [
    "## **Summary: Selection & Indexing**"
   ]
  },
  {
   "cell_type": "markdown",
   "id": "15abe6db",
   "metadata": {},
   "source": [
    "Example df for the summary below, lower-case for the index, upper-case for the column names"
   ]
  },
  {
   "cell_type": "code",
   "execution_count": 2,
   "id": "9abd8aa7",
   "metadata": {},
   "outputs": [
    {
     "data": {
      "text/html": [
       "<div>\n",
       "<style scoped>\n",
       "    .dataframe tbody tr th:only-of-type {\n",
       "        vertical-align: middle;\n",
       "    }\n",
       "\n",
       "    .dataframe tbody tr th {\n",
       "        vertical-align: top;\n",
       "    }\n",
       "\n",
       "    .dataframe thead th {\n",
       "        text-align: right;\n",
       "    }\n",
       "</style>\n",
       "<table border=\"1\" class=\"dataframe\">\n",
       "  <thead>\n",
       "    <tr style=\"text-align: right;\">\n",
       "      <th></th>\n",
       "      <th>A</th>\n",
       "      <th>B</th>\n",
       "      <th>C</th>\n",
       "    </tr>\n",
       "  </thead>\n",
       "  <tbody>\n",
       "    <tr>\n",
       "      <th>a</th>\n",
       "      <td>1</td>\n",
       "      <td>11</td>\n",
       "      <td>111</td>\n",
       "    </tr>\n",
       "    <tr>\n",
       "      <th>b</th>\n",
       "      <td>2</td>\n",
       "      <td>22</td>\n",
       "      <td>222</td>\n",
       "    </tr>\n",
       "    <tr>\n",
       "      <th>c</th>\n",
       "      <td>3</td>\n",
       "      <td>33</td>\n",
       "      <td>333</td>\n",
       "    </tr>\n",
       "    <tr>\n",
       "      <th>aa</th>\n",
       "      <td>1</td>\n",
       "      <td>11</td>\n",
       "      <td>111</td>\n",
       "    </tr>\n",
       "    <tr>\n",
       "      <th>bb</th>\n",
       "      <td>2</td>\n",
       "      <td>22</td>\n",
       "      <td>222</td>\n",
       "    </tr>\n",
       "    <tr>\n",
       "      <th>cc</th>\n",
       "      <td>3</td>\n",
       "      <td>33</td>\n",
       "      <td>333</td>\n",
       "    </tr>\n",
       "  </tbody>\n",
       "</table>\n",
       "</div>"
      ],
      "text/plain": [
       "    A   B    C\n",
       "a   1  11  111\n",
       "b   2  22  222\n",
       "c   3  33  333\n",
       "aa  1  11  111\n",
       "bb  2  22  222\n",
       "cc  3  33  333"
      ]
     },
     "execution_count": 2,
     "metadata": {},
     "output_type": "execute_result"
    }
   ],
   "source": [
    "import pandas as pd\n",
    "\n",
    "df = pd.DataFrame.from_dict(dict(a=[1,11,111],\n",
    "                                 b=[2,22,222],\n",
    "                                 c=[3,33,333],\n",
    "                                 aa=[1,11,111],\n",
    "                                 bb=[2,22,222],\n",
    "                                 cc=[3,33,333]),\n",
    "                             orient='index',\n",
    "                             columns=['A',\"B\",\"C\"])\n",
    "df\n",
    "                            "
   ]
  },
  {
   "cell_type": "markdown",
   "id": "23e020ba",
   "metadata": {},
   "source": [
    "## **The Main Idea**\n",
    "\n",
    "The selection conventions of `pandas` sequences fairly consistently follow\n",
    "those of `numpy` sequences.   A `pandas` `DataFrame` is an\n",
    "analogue of a `numpy` **2D array**, except that it uses keyword indexing\n",
    "in place of positional indexing.  The analogue of a `numpy` 1D array\n",
    "is a `pandas` `Series`. Both the rows and columns of `pandas` arrays\n",
    "are `Series` instances. The thing to remember about  a `pandas` `Series`\n",
    "is that it still still has an index and still uses keyword indexing."
   ]
  },
  {
   "cell_type": "markdown",
   "id": "8742b8bc",
   "metadata": {},
   "source": [
    "### **(1) Keyword Indexing**\n",
    "\n",
    "Unlike `numpy` which uses positional indexing, `pandas` uses keyword indexing.  The simplest case is the form `df[col][row]`."
   ]
  },
  {
   "cell_type": "code",
   "execution_count": 2,
   "id": "55a81a47",
   "metadata": {},
   "outputs": [
    {
     "data": {
      "text/plain": [
       "a     1\n",
       "b     2\n",
       "c     3\n",
       "aa    1\n",
       "bb    2\n",
       "cc    3\n",
       "Name: A, dtype: int64"
      ]
     },
     "execution_count": 2,
     "metadata": {},
     "output_type": "execute_result"
    }
   ],
   "source": [
    "df['A']"
   ]
  },
  {
   "cell_type": "markdown",
   "id": "44d50e84",
   "metadata": {},
   "source": [
    "is column `'A'` of `df`.  This is a `Series` instance.  The index is the same as the index of the `DataFrame`. For any `Series` object the index can be used to access values."
   ]
  },
  {
   "cell_type": "code",
   "execution_count": 3,
   "id": "fc22b500",
   "metadata": {},
   "outputs": [
    {
     "data": {
      "text/plain": [
       "1"
      ]
     },
     "execution_count": 3,
     "metadata": {},
     "output_type": "execute_result"
    }
   ],
   "source": [
    "df['A']['a']"
   ]
  },
  {
   "cell_type": "markdown",
   "id": "41e0804d",
   "metadata": {},
   "source": [
    "is a value in the `DataFrame`. Or, from `pandas` point of view, a 0-d\n",
    "object (no rows, no columns).  No index."
   ]
  },
  {
   "cell_type": "markdown",
   "id": "0e65324d",
   "metadata": {},
   "source": [
    "### **(2) Numpy style indexing .loc[ . . . ]**\n",
    "\n",
    "To access an indexed object (whether a `DataFrame` or a `Series`) using the index, `pandas` provides the `.loc[...]` method. The conventions follow the axis ordering of `numpy` in that  rows come first, then columns.  Both single indices and slices work."
   ]
  },
  {
   "cell_type": "code",
   "execution_count": 21,
   "id": "f204355c",
   "metadata": {
    "scrolled": true
   },
   "outputs": [
    {
     "data": {
      "text/plain": [
       "A      1\n",
       "B     11\n",
       "C    111\n",
       "Name: a, dtype: int64"
      ]
     },
     "execution_count": 21,
     "metadata": {},
     "output_type": "execute_result"
    }
   ],
   "source": [
    "df.loc['a']"
   ]
  },
  {
   "cell_type": "markdown",
   "id": "a4611e86",
   "metadata": {},
   "source": [
    "is a row and therefore a `Series` instance.  The index of\n",
    "this `Series` is the column names."
   ]
  },
  {
   "cell_type": "code",
   "execution_count": 22,
   "id": "bb5ef54d",
   "metadata": {
    "scrolled": true
   },
   "outputs": [
    {
     "data": {
      "text/html": [
       "<div>\n",
       "<style scoped>\n",
       "    .dataframe tbody tr th:only-of-type {\n",
       "        vertical-align: middle;\n",
       "    }\n",
       "\n",
       "    .dataframe tbody tr th {\n",
       "        vertical-align: top;\n",
       "    }\n",
       "\n",
       "    .dataframe thead th {\n",
       "        text-align: right;\n",
       "    }\n",
       "</style>\n",
       "<table border=\"1\" class=\"dataframe\">\n",
       "  <thead>\n",
       "    <tr style=\"text-align: right;\">\n",
       "      <th></th>\n",
       "      <th>A</th>\n",
       "      <th>B</th>\n",
       "      <th>C</th>\n",
       "    </tr>\n",
       "  </thead>\n",
       "  <tbody>\n",
       "    <tr>\n",
       "      <th>a</th>\n",
       "      <td>1</td>\n",
       "      <td>11</td>\n",
       "      <td>111</td>\n",
       "    </tr>\n",
       "    <tr>\n",
       "      <th>b</th>\n",
       "      <td>2</td>\n",
       "      <td>22</td>\n",
       "      <td>222</td>\n",
       "    </tr>\n",
       "    <tr>\n",
       "      <th>c</th>\n",
       "      <td>3</td>\n",
       "      <td>33</td>\n",
       "      <td>333</td>\n",
       "    </tr>\n",
       "    <tr>\n",
       "      <th>aa</th>\n",
       "      <td>1</td>\n",
       "      <td>11</td>\n",
       "      <td>111</td>\n",
       "    </tr>\n",
       "  </tbody>\n",
       "</table>\n",
       "</div>"
      ],
      "text/plain": [
       "    A   B    C\n",
       "a   1  11  111\n",
       "b   2  22  222\n",
       "c   3  33  333\n",
       "aa  1  11  111"
      ]
     },
     "execution_count": 22,
     "metadata": {},
     "output_type": "execute_result"
    }
   ],
   "source": [
    "df.loc['a':'aa']"
   ]
  },
  {
   "cell_type": "markdown",
   "id": "58df7e2f",
   "metadata": {},
   "source": [
    "is a `DataFrame`.  Using `.loc[..]` first with a `DataFrame` and then with a `Series`:"
   ]
  },
  {
   "cell_type": "code",
   "execution_count": 40,
   "id": "c9b584f9",
   "metadata": {},
   "outputs": [
    {
     "data": {
      "text/plain": [
       "11"
      ]
     },
     "execution_count": 40,
     "metadata": {},
     "output_type": "execute_result"
    }
   ],
   "source": [
    "df.loc['a'].loc['B']"
   ]
  },
  {
   "cell_type": "markdown",
   "id": "2fbe470c",
   "metadata": {},
   "source": [
    "Note that `df.loc['a']` is a `Series` whose index is the column names\n",
    "of `df`, so that using `.loc[..]` again means indexing by column."
   ]
  },
  {
   "cell_type": "markdown",
   "id": "2f9e19e4",
   "metadata": {},
   "source": [
    "### **(3) Boolean Indexing**\n",
    "\n",
    "`pandas` also follows `numpy` in allowing Boolean indexing."
   ]
  },
  {
   "cell_type": "code",
   "execution_count": 23,
   "id": "b1641526",
   "metadata": {
    "scrolled": true
   },
   "outputs": [
    {
     "data": {
      "text/plain": [
       "a      True\n",
       "b     False\n",
       "c     False\n",
       "aa     True\n",
       "bb    False\n",
       "cc    False\n",
       "Name: A, dtype: bool"
      ]
     },
     "execution_count": 23,
     "metadata": {},
     "output_type": "execute_result"
    }
   ],
   "source": [
    "df['A'] == 1"
   ]
  },
  {
   "cell_type": "markdown",
   "id": "9ef1d425",
   "metadata": {},
   "source": [
    "is a Boolean `Series`."
   ]
  },
  {
   "cell_type": "code",
   "execution_count": 24,
   "id": "5f971b95",
   "metadata": {},
   "outputs": [
    {
     "data": {
      "text/html": [
       "<div>\n",
       "<style scoped>\n",
       "    .dataframe tbody tr th:only-of-type {\n",
       "        vertical-align: middle;\n",
       "    }\n",
       "\n",
       "    .dataframe tbody tr th {\n",
       "        vertical-align: top;\n",
       "    }\n",
       "\n",
       "    .dataframe thead th {\n",
       "        text-align: right;\n",
       "    }\n",
       "</style>\n",
       "<table border=\"1\" class=\"dataframe\">\n",
       "  <thead>\n",
       "    <tr style=\"text-align: right;\">\n",
       "      <th></th>\n",
       "      <th>A</th>\n",
       "      <th>B</th>\n",
       "      <th>C</th>\n",
       "    </tr>\n",
       "  </thead>\n",
       "  <tbody>\n",
       "    <tr>\n",
       "      <th>a</th>\n",
       "      <td>1</td>\n",
       "      <td>11</td>\n",
       "      <td>111</td>\n",
       "    </tr>\n",
       "    <tr>\n",
       "      <th>aa</th>\n",
       "      <td>1</td>\n",
       "      <td>11</td>\n",
       "      <td>111</td>\n",
       "    </tr>\n",
       "  </tbody>\n",
       "</table>\n",
       "</div>"
      ],
      "text/plain": [
       "    A   B    C\n",
       "a   1  11  111\n",
       "aa  1  11  111"
      ]
     },
     "execution_count": 24,
     "metadata": {},
     "output_type": "execute_result"
    }
   ],
   "source": [
    "df[df['A'] == 1]"
   ]
  },
  {
   "cell_type": "markdown",
   "id": "eee106e2",
   "metadata": {},
   "source": [
    "is a `DataFrame` containing a subset of the rows of `df`.  In this case\n",
    "we have used a Boolean `Series` as a Boolean mask to select rows of the `DataFrame`, also an idea borrowed from `numpy`."
   ]
  },
  {
   "cell_type": "markdown",
   "id": "3931843c",
   "metadata": {},
   "source": [
    "### **(4) Fancy indexing**\n",
    "\n",
    "`pandas` also allows an analogue of \"fancy indexing\" (`numpy`'s term for selecting\n",
    "a sequence of values with a sequence of indices)."
   ]
  },
  {
   "cell_type": "code",
   "execution_count": 25,
   "id": "352a6a03",
   "metadata": {},
   "outputs": [
    {
     "data": {
      "text/html": [
       "<div>\n",
       "<style scoped>\n",
       "    .dataframe tbody tr th:only-of-type {\n",
       "        vertical-align: middle;\n",
       "    }\n",
       "\n",
       "    .dataframe tbody tr th {\n",
       "        vertical-align: top;\n",
       "    }\n",
       "\n",
       "    .dataframe thead th {\n",
       "        text-align: right;\n",
       "    }\n",
       "</style>\n",
       "<table border=\"1\" class=\"dataframe\">\n",
       "  <thead>\n",
       "    <tr style=\"text-align: right;\">\n",
       "      <th></th>\n",
       "      <th>A</th>\n",
       "      <th>B</th>\n",
       "    </tr>\n",
       "  </thead>\n",
       "  <tbody>\n",
       "    <tr>\n",
       "      <th>a</th>\n",
       "      <td>1</td>\n",
       "      <td>11</td>\n",
       "    </tr>\n",
       "    <tr>\n",
       "      <th>b</th>\n",
       "      <td>2</td>\n",
       "      <td>22</td>\n",
       "    </tr>\n",
       "    <tr>\n",
       "      <th>c</th>\n",
       "      <td>3</td>\n",
       "      <td>33</td>\n",
       "    </tr>\n",
       "    <tr>\n",
       "      <th>aa</th>\n",
       "      <td>1</td>\n",
       "      <td>11</td>\n",
       "    </tr>\n",
       "    <tr>\n",
       "      <th>bb</th>\n",
       "      <td>2</td>\n",
       "      <td>22</td>\n",
       "    </tr>\n",
       "    <tr>\n",
       "      <th>cc</th>\n",
       "      <td>3</td>\n",
       "      <td>33</td>\n",
       "    </tr>\n",
       "  </tbody>\n",
       "</table>\n",
       "</div>"
      ],
      "text/plain": [
       "    A   B\n",
       "a   1  11\n",
       "b   2  22\n",
       "c   3  33\n",
       "aa  1  11\n",
       "bb  2  22\n",
       "cc  3  33"
      ]
     },
     "execution_count": 25,
     "metadata": {},
     "output_type": "execute_result"
    }
   ],
   "source": [
    "df[['A','B']]"
   ]
  },
  {
   "cell_type": "markdown",
   "id": "a1c5534b",
   "metadata": {},
   "source": [
    "is a `DataFrame` containing columns `A` and `B`  of `df`."
   ]
  },
  {
   "cell_type": "code",
   "execution_count": 26,
   "id": "36155f79",
   "metadata": {},
   "outputs": [
    {
     "data": {
      "text/html": [
       "<div>\n",
       "<style scoped>\n",
       "    .dataframe tbody tr th:only-of-type {\n",
       "        vertical-align: middle;\n",
       "    }\n",
       "\n",
       "    .dataframe tbody tr th {\n",
       "        vertical-align: top;\n",
       "    }\n",
       "\n",
       "    .dataframe thead th {\n",
       "        text-align: right;\n",
       "    }\n",
       "</style>\n",
       "<table border=\"1\" class=\"dataframe\">\n",
       "  <thead>\n",
       "    <tr style=\"text-align: right;\">\n",
       "      <th></th>\n",
       "      <th>A</th>\n",
       "      <th>B</th>\n",
       "      <th>C</th>\n",
       "    </tr>\n",
       "  </thead>\n",
       "  <tbody>\n",
       "    <tr>\n",
       "      <th>a</th>\n",
       "      <td>1</td>\n",
       "      <td>11</td>\n",
       "      <td>111</td>\n",
       "    </tr>\n",
       "    <tr>\n",
       "      <th>bb</th>\n",
       "      <td>2</td>\n",
       "      <td>22</td>\n",
       "      <td>222</td>\n",
       "    </tr>\n",
       "  </tbody>\n",
       "</table>\n",
       "</div>"
      ],
      "text/plain": [
       "    A   B    C\n",
       "a   1  11  111\n",
       "bb  2  22  222"
      ]
     },
     "execution_count": 26,
     "metadata": {},
     "output_type": "execute_result"
    }
   ],
   "source": [
    "df.loc[['a','bb']]"
   ]
  },
  {
   "cell_type": "markdown",
   "id": "c3e12c10",
   "metadata": {},
   "source": [
    "is a `DataFrame` containing rows `a` and `bb` of `df`.\n",
    "\n",
    "We can also restrict the columns:"
   ]
  },
  {
   "cell_type": "code",
   "execution_count": 9,
   "id": "c1ef55b0",
   "metadata": {},
   "outputs": [
    {
     "data": {
      "text/html": [
       "<div>\n",
       "<style scoped>\n",
       "    .dataframe tbody tr th:only-of-type {\n",
       "        vertical-align: middle;\n",
       "    }\n",
       "\n",
       "    .dataframe tbody tr th {\n",
       "        vertical-align: top;\n",
       "    }\n",
       "\n",
       "    .dataframe thead th {\n",
       "        text-align: right;\n",
       "    }\n",
       "</style>\n",
       "<table border=\"1\" class=\"dataframe\">\n",
       "  <thead>\n",
       "    <tr style=\"text-align: right;\">\n",
       "      <th></th>\n",
       "      <th>A</th>\n",
       "      <th>C</th>\n",
       "    </tr>\n",
       "  </thead>\n",
       "  <tbody>\n",
       "    <tr>\n",
       "      <th>a</th>\n",
       "      <td>1</td>\n",
       "      <td>111</td>\n",
       "    </tr>\n",
       "    <tr>\n",
       "      <th>b</th>\n",
       "      <td>2</td>\n",
       "      <td>222</td>\n",
       "    </tr>\n",
       "    <tr>\n",
       "      <th>c</th>\n",
       "      <td>3</td>\n",
       "      <td>333</td>\n",
       "    </tr>\n",
       "    <tr>\n",
       "      <th>aa</th>\n",
       "      <td>1</td>\n",
       "      <td>111</td>\n",
       "    </tr>\n",
       "    <tr>\n",
       "      <th>bb</th>\n",
       "      <td>2</td>\n",
       "      <td>222</td>\n",
       "    </tr>\n",
       "    <tr>\n",
       "      <th>cc</th>\n",
       "      <td>3</td>\n",
       "      <td>333</td>\n",
       "    </tr>\n",
       "  </tbody>\n",
       "</table>\n",
       "</div>"
      ],
      "text/plain": [
       "    A    C\n",
       "a   1  111\n",
       "b   2  222\n",
       "c   3  333\n",
       "aa  1  111\n",
       "bb  2  222\n",
       "cc  3  333"
      ]
     },
     "execution_count": 9,
     "metadata": {},
     "output_type": "execute_result"
    }
   ],
   "source": [
    "df.loc[:,['A','C']]"
   ]
  },
  {
   "cell_type": "markdown",
   "id": "e16803fe",
   "metadata": {},
   "source": [
    "The following example illustrates a difference with `numpy`.  In numpy\n",
    "\n",
    "```\n",
    "a[[r1,r2],[c1,c2]]\n",
    "```\n",
    "\n",
    "retrieves a sequence of two points from a 2D array, \n",
    "the points at `a[r1,c1]` and `a[r2,c2]`.\n",
    "\n",
    "This is illustrated in the next cell."
   ]
  },
  {
   "cell_type": "code",
   "execution_count": 8,
   "id": "2bfc214e",
   "metadata": {},
   "outputs": [
    {
     "name": "stdout",
     "output_type": "stream",
     "text": [
      "a=array([[0, 1],\n",
      "       [2, 3]])\n",
      "\n",
      "a[[0,1],[0,1]]=array([0, 3])\n"
     ]
    }
   ],
   "source": [
    "import numpy as np\n",
    "a = np.arange(4).reshape((2,2))\n",
    "\n",
    "print(f\"{a=}\")\n",
    "print()\n",
    "print(f\"{a[[0,1],[0,1]]=}\")"
   ]
  },
  {
   "cell_type": "markdown",
   "id": "9d4805d3",
   "metadata": {},
   "source": [
    "An apparently analogous expression for a `pandas DataFrame` is given in the next cell:"
   ]
  },
  {
   "cell_type": "code",
   "execution_count": 3,
   "id": "2084dc5e",
   "metadata": {
    "scrolled": true
   },
   "outputs": [
    {
     "data": {
      "text/html": [
       "<div>\n",
       "<style scoped>\n",
       "    .dataframe tbody tr th:only-of-type {\n",
       "        vertical-align: middle;\n",
       "    }\n",
       "\n",
       "    .dataframe tbody tr th {\n",
       "        vertical-align: top;\n",
       "    }\n",
       "\n",
       "    .dataframe thead th {\n",
       "        text-align: right;\n",
       "    }\n",
       "</style>\n",
       "<table border=\"1\" class=\"dataframe\">\n",
       "  <thead>\n",
       "    <tr style=\"text-align: right;\">\n",
       "      <th></th>\n",
       "      <th>A</th>\n",
       "      <th>C</th>\n",
       "    </tr>\n",
       "  </thead>\n",
       "  <tbody>\n",
       "    <tr>\n",
       "      <th>a</th>\n",
       "      <td>1</td>\n",
       "      <td>111</td>\n",
       "    </tr>\n",
       "    <tr>\n",
       "      <th>bb</th>\n",
       "      <td>2</td>\n",
       "      <td>222</td>\n",
       "    </tr>\n",
       "  </tbody>\n",
       "</table>\n",
       "</div>"
      ],
      "text/plain": [
       "    A    C\n",
       "a   1  111\n",
       "bb  2  222"
      ]
     },
     "execution_count": 3,
     "metadata": {},
     "output_type": "execute_result"
    }
   ],
   "source": [
    "df.loc[['a','bb'],['A','C']]"
   ]
  },
  {
   "cell_type": "markdown",
   "id": "dee7bd30",
   "metadata": {},
   "source": [
    "It turns out this is just a synonym for "
   ]
  },
  {
   "cell_type": "code",
   "execution_count": 10,
   "id": "a8497bd6",
   "metadata": {},
   "outputs": [
    {
     "data": {
      "text/html": [
       "<div>\n",
       "<style scoped>\n",
       "    .dataframe tbody tr th:only-of-type {\n",
       "        vertical-align: middle;\n",
       "    }\n",
       "\n",
       "    .dataframe tbody tr th {\n",
       "        vertical-align: top;\n",
       "    }\n",
       "\n",
       "    .dataframe thead th {\n",
       "        text-align: right;\n",
       "    }\n",
       "</style>\n",
       "<table border=\"1\" class=\"dataframe\">\n",
       "  <thead>\n",
       "    <tr style=\"text-align: right;\">\n",
       "      <th></th>\n",
       "      <th>A</th>\n",
       "      <th>C</th>\n",
       "    </tr>\n",
       "  </thead>\n",
       "  <tbody>\n",
       "    <tr>\n",
       "      <th>a</th>\n",
       "      <td>1</td>\n",
       "      <td>111</td>\n",
       "    </tr>\n",
       "    <tr>\n",
       "      <th>bb</th>\n",
       "      <td>2</td>\n",
       "      <td>222</td>\n",
       "    </tr>\n",
       "  </tbody>\n",
       "</table>\n",
       "</div>"
      ],
      "text/plain": [
       "    A    C\n",
       "a   1  111\n",
       "bb  2  222"
      ]
     },
     "execution_count": 10,
     "metadata": {},
     "output_type": "execute_result"
    }
   ],
   "source": [
    "df.loc[['a','bb']][['A','C']]"
   ]
  },
  {
   "cell_type": "markdown",
   "id": "e19f4e53",
   "metadata": {},
   "source": [
    "It doesn't select two data values;\n",
    "it restricts the columns to `['A','C']` and the rows \n",
    "to `['a','bb']`."
   ]
  },
  {
   "cell_type": "markdown",
   "id": "2db2e201",
   "metadata": {},
   "source": [
    "### **(5) .iloc[ . . . ] Positional indexing**\n",
    "\n",
    "Although `pandas` selection is almost always done through keyword indexing, `pandas` does provide a way to use positional indexing with\n",
    "any indexed object through the `.iloc[...]` attribute.  Consider `df`\n",
    "repeated here."
   ]
  },
  {
   "cell_type": "code",
   "execution_count": 4,
   "id": "6d88e384",
   "metadata": {
    "scrolled": true
   },
   "outputs": [
    {
     "data": {
      "text/html": [
       "<div>\n",
       "<style scoped>\n",
       "    .dataframe tbody tr th:only-of-type {\n",
       "        vertical-align: middle;\n",
       "    }\n",
       "\n",
       "    .dataframe tbody tr th {\n",
       "        vertical-align: top;\n",
       "    }\n",
       "\n",
       "    .dataframe thead th {\n",
       "        text-align: right;\n",
       "    }\n",
       "</style>\n",
       "<table border=\"1\" class=\"dataframe\">\n",
       "  <thead>\n",
       "    <tr style=\"text-align: right;\">\n",
       "      <th></th>\n",
       "      <th>A</th>\n",
       "      <th>B</th>\n",
       "      <th>C</th>\n",
       "    </tr>\n",
       "  </thead>\n",
       "  <tbody>\n",
       "    <tr>\n",
       "      <th>a</th>\n",
       "      <td>1</td>\n",
       "      <td>11</td>\n",
       "      <td>111</td>\n",
       "    </tr>\n",
       "    <tr>\n",
       "      <th>b</th>\n",
       "      <td>2</td>\n",
       "      <td>22</td>\n",
       "      <td>222</td>\n",
       "    </tr>\n",
       "    <tr>\n",
       "      <th>c</th>\n",
       "      <td>3</td>\n",
       "      <td>33</td>\n",
       "      <td>333</td>\n",
       "    </tr>\n",
       "    <tr>\n",
       "      <th>aa</th>\n",
       "      <td>1</td>\n",
       "      <td>11</td>\n",
       "      <td>111</td>\n",
       "    </tr>\n",
       "    <tr>\n",
       "      <th>bb</th>\n",
       "      <td>2</td>\n",
       "      <td>22</td>\n",
       "      <td>222</td>\n",
       "    </tr>\n",
       "    <tr>\n",
       "      <th>cc</th>\n",
       "      <td>3</td>\n",
       "      <td>33</td>\n",
       "      <td>333</td>\n",
       "    </tr>\n",
       "  </tbody>\n",
       "</table>\n",
       "</div>"
      ],
      "text/plain": [
       "    A   B    C\n",
       "a   1  11  111\n",
       "b   2  22  222\n",
       "c   3  33  333\n",
       "aa  1  11  111\n",
       "bb  2  22  222\n",
       "cc  3  33  333"
      ]
     },
     "execution_count": 4,
     "metadata": {},
     "output_type": "execute_result"
    }
   ],
   "source": [
    "df"
   ]
  },
  {
   "cell_type": "markdown",
   "id": "03bf704d",
   "metadata": {},
   "source": [
    "Both simple positional indices and slices work:"
   ]
  },
  {
   "cell_type": "code",
   "execution_count": 10,
   "id": "8770a4b9",
   "metadata": {
    "scrolled": true
   },
   "outputs": [
    {
     "data": {
      "text/plain": [
       "A      3\n",
       "B     33\n",
       "C    333\n",
       "Name: c, dtype: int64"
      ]
     },
     "execution_count": 10,
     "metadata": {},
     "output_type": "execute_result"
    }
   ],
   "source": [
    "df.iloc[2]"
   ]
  },
  {
   "cell_type": "markdown",
   "id": "b4bf8466",
   "metadata": {},
   "source": [
    "is the third row of `df`, a `Series` instance."
   ]
  },
  {
   "cell_type": "code",
   "execution_count": 5,
   "id": "4a4e2fb3",
   "metadata": {},
   "outputs": [
    {
     "data": {
      "text/html": [
       "<div>\n",
       "<style scoped>\n",
       "    .dataframe tbody tr th:only-of-type {\n",
       "        vertical-align: middle;\n",
       "    }\n",
       "\n",
       "    .dataframe tbody tr th {\n",
       "        vertical-align: top;\n",
       "    }\n",
       "\n",
       "    .dataframe thead th {\n",
       "        text-align: right;\n",
       "    }\n",
       "</style>\n",
       "<table border=\"1\" class=\"dataframe\">\n",
       "  <thead>\n",
       "    <tr style=\"text-align: right;\">\n",
       "      <th></th>\n",
       "      <th>A</th>\n",
       "      <th>B</th>\n",
       "      <th>C</th>\n",
       "    </tr>\n",
       "  </thead>\n",
       "  <tbody>\n",
       "    <tr>\n",
       "      <th>c</th>\n",
       "      <td>3</td>\n",
       "      <td>33</td>\n",
       "      <td>333</td>\n",
       "    </tr>\n",
       "    <tr>\n",
       "      <th>aa</th>\n",
       "      <td>1</td>\n",
       "      <td>11</td>\n",
       "      <td>111</td>\n",
       "    </tr>\n",
       "  </tbody>\n",
       "</table>\n",
       "</div>"
      ],
      "text/plain": [
       "    A   B    C\n",
       "c   3  33  333\n",
       "aa  1  11  111"
      ]
     },
     "execution_count": 5,
     "metadata": {},
     "output_type": "execute_result"
    }
   ],
   "source": [
    "df.iloc[2:4]"
   ]
  },
  {
   "cell_type": "markdown",
   "id": "005d4e5d",
   "metadata": {},
   "source": [
    "is a `DataFrame` with the third and fourth rows of `df`,"
   ]
  },
  {
   "cell_type": "markdown",
   "id": "e9992471",
   "metadata": {},
   "source": [
    "An example using `.iloc[...]` on a row of `df`."
   ]
  },
  {
   "cell_type": "code",
   "execution_count": 6,
   "id": "9c5a7b00",
   "metadata": {},
   "outputs": [
    {
     "data": {
      "text/plain": [
       "B     22\n",
       "C    222\n",
       "Name: bb, dtype: int64"
      ]
     },
     "execution_count": 6,
     "metadata": {},
     "output_type": "execute_result"
    }
   ],
   "source": [
    "df.loc['bb'].iloc[1:3]"
   ]
  },
  {
   "cell_type": "markdown",
   "id": "2a5d0d04",
   "metadata": {},
   "source": [
    "Using positional indexing on `df.loc['bb']`, a Series indexed by\n",
    "column names, to get a sub-`Series` containing only the second and third columns."
   ]
  },
  {
   "cell_type": "markdown",
   "id": "a9eeb4cb",
   "metadata": {},
   "source": [
    "Reviewing and summarizing the discussion  above using this example\n",
    "\n",
    " \n",
    "| Selection | Native Pandas  |  Numpy-like     |\n",
    "| :-- | :-: | :-: |\n",
    "|  row      | NA | df.loc['c'] |\n",
    "| row slice |  NA           |df.loc['c': 'bb'] |\n",
    "|  col | df['A'] | df.loc[:,'A'] |\n",
    "| row, col | df['A']['c'] | df.loc['c','A'] |\n",
    "|          |               | df.loc['c']['A'] |\n",
    "| bool series | df['A'] == 2 | Not used |\n",
    "| bool selection | df[df['A'] == 2] | df.loc[df['A'] == 2] |\n",
    "| row (position) |   NA             | df.iloc[2]  |\n",
    "| col (position)      |   NA             | df.iloc[:,2] |\n",
    "| fancy (cols)    |  df[['A','C']]   | df.loc[:,['A','C']] \n",
    "| fancy (rows)    |  NA   | df.loc[['b','bb']] "
   ]
  },
  {
   "cell_type": "code",
   "execution_count": null,
   "id": "72cf955a",
   "metadata": {},
   "outputs": [],
   "source": []
  }
 ],
 "metadata": {
  "kernelspec": {
   "display_name": "Python 3 (ipykernel)",
   "language": "python",
   "name": "python3"
  },
  "language_info": {
   "codemirror_mode": {
    "name": "ipython",
    "version": 3
   },
   "file_extension": ".py",
   "mimetype": "text/x-python",
   "name": "python",
   "nbconvert_exporter": "python",
   "pygments_lexer": "ipython3",
   "version": "3.10.6"
  }
 },
 "nbformat": 4,
 "nbformat_minor": 5
}
