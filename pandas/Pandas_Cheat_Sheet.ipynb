{
 "cells": [
  {
   "cell_type": "markdown",
   "id": "8427177b",
   "metadata": {},
   "source": [
    "# Pandas\n",
    "\n",
    "Example DataFrame assumed by cheat sheet commands below:"
   ]
  },
  {
   "cell_type": "code",
   "execution_count": 3,
   "id": "a3d16678",
   "metadata": {
    "scrolled": true
   },
   "outputs": [
    {
     "data": {
      "text/html": [
       "<div>\n",
       "<style scoped>\n",
       "    .dataframe tbody tr th:only-of-type {\n",
       "        vertical-align: middle;\n",
       "    }\n",
       "\n",
       "    .dataframe tbody tr th {\n",
       "        vertical-align: top;\n",
       "    }\n",
       "\n",
       "    .dataframe thead th {\n",
       "        text-align: right;\n",
       "    }\n",
       "</style>\n",
       "<table border=\"1\" class=\"dataframe\">\n",
       "  <thead>\n",
       "    <tr style=\"text-align: right;\">\n",
       "      <th></th>\n",
       "      <th>A</th>\n",
       "      <th>B</th>\n",
       "      <th>C</th>\n",
       "    </tr>\n",
       "  </thead>\n",
       "  <tbody>\n",
       "    <tr>\n",
       "      <th>a</th>\n",
       "      <td>1</td>\n",
       "      <td>11</td>\n",
       "      <td>111</td>\n",
       "    </tr>\n",
       "    <tr>\n",
       "      <th>b</th>\n",
       "      <td>2</td>\n",
       "      <td>22</td>\n",
       "      <td>222</td>\n",
       "    </tr>\n",
       "    <tr>\n",
       "      <th>c</th>\n",
       "      <td>3</td>\n",
       "      <td>33</td>\n",
       "      <td>333</td>\n",
       "    </tr>\n",
       "    <tr>\n",
       "      <th>aa</th>\n",
       "      <td>1</td>\n",
       "      <td>11</td>\n",
       "      <td>111</td>\n",
       "    </tr>\n",
       "    <tr>\n",
       "      <th>bb</th>\n",
       "      <td>2</td>\n",
       "      <td>22</td>\n",
       "      <td>222</td>\n",
       "    </tr>\n",
       "    <tr>\n",
       "      <th>cc</th>\n",
       "      <td>3</td>\n",
       "      <td>33</td>\n",
       "      <td>333</td>\n",
       "    </tr>\n",
       "  </tbody>\n",
       "</table>\n",
       "</div>"
      ],
      "text/plain": [
       "    A   B    C\n",
       "a   1  11  111\n",
       "b   2  22  222\n",
       "c   3  33  333\n",
       "aa  1  11  111\n",
       "bb  2  22  222\n",
       "cc  3  33  333"
      ]
     },
     "execution_count": 3,
     "metadata": {},
     "output_type": "execute_result"
    }
   ],
   "source": [
    "import pandas as pd\n",
    "df = pd.DataFrame.from_dict(dict(a=[1,11,111],\n",
    "                                 b=[2,22,222],\n",
    "                                 c=[3,33,333],\n",
    "                                 aa=[1,11,111],\n",
    "                                 bb=[2,22,222],\n",
    "                                 cc=[3,33,333]),\n",
    "                                 orient='index',  # the keyword labeled items are rows\n",
    "                                 columns=['A',\"B\",\"C\"]  # need to label the columns independently\n",
    "                           )\n",
    "df"
   ]
  },
  {
   "cell_type": "markdown",
   "id": "55e093a6",
   "metadata": {},
   "source": [
    "### Selecting DataFrame rows and columns\n",
    "\n",
    "Pandas provides two parallel ways of indexing data, called **Native Pandas** and **Numpy-like** in the table below.\n",
    "\n",
    "Native Pandas indexing largely works as if the DataFrame is a dictionary of dictionaries: The outer keys are\n",
    "the column names and the inner keys are the row handles (or index elements).\n",
    "\n",
    "Numpy-like indexing always uses `.loc` and always  follows the `numpy` pattern for\n",
    "indexing 2D data; the accessor is in the form `.loc[row,col]`. \n",
    "\n",
    "The third way of indexing data is by positional indexing: Retrieve the $i$th item regardless\n",
    "of index handle.  This can always be done via `.iloc`. Pandas also provides a shortcut\n",
    "for positional slicing of rows, shown below:"
   ]
  },
  {
   "cell_type": "markdown",
   "id": "c1ced8b3",
   "metadata": {},
   "source": [
    "Summary:\n",
    "\n",
    "| Selection | Native Pandas  |  Numpy-like     |\n",
    "| :-- | :- | :- |\n",
    "|  row      | NA | df.loc['c'] |\n",
    "| row slice |  NA           |df.loc['c': 'bb'] |\n",
    "|  col | df['A'] | df.loc[:,'A'] |\n",
    "| row, col | df['A']['c'] | df.loc['c', 'A'] |\n",
    "|          |               | df.loc['c']['A'] |\n",
    "| bool series | df['A'] == 2 | df.loc[:,\"A\"] == 2 |\n",
    "| bool selection | df[df['A'] == 2] | df.loc[df['A'] == 2] |\n",
    "| row (position) |   NA             | df.iloc[2]  |\n",
    "| col (position)      |   NA             | df.iloc[:,2] |\n",
    "| row slice (position)    |                  | df[:5] |\n",
    "| col slice (position)    |                  | df.iloc[:,:2] |\n",
    "| fancy indexing (cols)    |  df[['A', 'C']]   | df.loc[:,['A', 'C']] \n",
    "| fancy indexing (rows)    |  NA   | df.loc[['b', 'bb']] \n",
    "| first rows      |  df.head(n)  | NA\n",
    "| last rows       |  df.tail(n)  | NA\n"
   ]
  },
  {
   "cell_type": "markdown",
   "id": "fb621421",
   "metadata": {},
   "source": [
    "The above commands with results:"
   ]
  },
  {
   "cell_type": "code",
   "execution_count": 2,
   "id": "18d602ab",
   "metadata": {
    "scrolled": false
   },
   "outputs": [
    {
     "name": "stdout",
     "output_type": "stream",
     "text": [
      "\n",
      "DataFrame\n",
      "    A   B    C\n",
      "a   1  11  111\n",
      "b   2  22  222\n",
      "c   3  33  333\n",
      "aa  1  11  111\n",
      "bb  2  22  222\n",
      "cc  3  33  333\n",
      "\n",
      "row selection numpylike df.loc['c'] pd.Series\n",
      "A      3\n",
      "B     33\n",
      "C    333\n",
      "Name: c, dtype: int64\n",
      "\n",
      "row slice numpylike df.loc['c': 'bb'] pd.DataFrame\n",
      "    A   B    C\n",
      "c   3  33  333\n",
      "aa  1  11  111\n",
      "bb  2  22  222\n",
      "\n",
      "row col native pandas df['A']['c'] Data Type(int)\n",
      "3\n",
      "\n",
      "row col numpylike df.loc['c','A'] Data Type(int)\n",
      "3\n",
      "\n",
      "bool series native pandas df['A'] == 2 Pd.Series (Boolean)\n",
      "a     False\n",
      "b      True\n",
      "c     False\n",
      "aa    False\n",
      "bb     True\n",
      "cc    False\n",
      "Name: A, dtype: bool\n",
      "\n",
      "bool series numpylike df.loc[:,'A'] == 2 Pd.Series (Boolean)\n",
      "a     False\n",
      "b      True\n",
      "c     False\n",
      "aa    False\n",
      "bb     True\n",
      "cc    False\n",
      "Name: A, dtype: bool\n",
      "\n",
      "bool selection native pandas df[df['A'] == 2] pd.DataFrame\n",
      "    A   B    C\n",
      "b   2  22  222\n",
      "bb  2  22  222\n",
      "\n",
      "bool selection numpy like df.loc[df.loc[:,'A'] == 2] pd.DataFrame\n",
      "    A   B    C\n",
      "b   2  22  222\n",
      "bb  2  22  222\n",
      "\n",
      "row (position) df.iloc[2] pd.Series\n",
      "A      3\n",
      "B     33\n",
      "C    333\n",
      "Name: c, dtype: int64\n",
      "\n",
      "col (position) df.iloc[:,2] pd.Series\n",
      "a     111\n",
      "b     222\n",
      "c     333\n",
      "aa    111\n",
      "bb    222\n",
      "cc    333\n",
      "Name: C, dtype: int64\n",
      "\n",
      "row slice position df[2:5] \n",
      "    A   B    C\n",
      "c   3  33  333\n",
      "aa  1  11  111\n",
      "bb  2  22  222\n",
      "\n",
      "column slice position df.iloc[:,:2] \n",
      "    A   B\n",
      "a   1  11\n",
      "b   2  22\n",
      "c   3  33\n",
      "aa  1  11\n",
      "bb  2  22\n",
      "cc  3  33\n",
      "\n",
      "fancy indexing cols native pandas df[['A','C']] pd.DataFrame\n",
      "    A    C\n",
      "a   1  111\n",
      "b   2  222\n",
      "c   3  333\n",
      "aa  1  111\n",
      "bb  2  222\n",
      "cc  3  333\n",
      "\n",
      "fancy indexing cols numpylike df.loc[:,['A','C']] pd.DataFrame\n",
      "    A    C\n",
      "a   1  111\n",
      "b   2  222\n",
      "c   3  333\n",
      "aa  1  111\n",
      "bb  2  222\n",
      "cc  3  333\n",
      "\n",
      "fancy indexing rows df.loc[['b','bb']] pd.DataFrame\n",
      "    A   B    C\n",
      "b   2  22  222\n",
      "bb  2  22  222\n",
      "\n",
      "first 5 rows of df df.head(5)\n",
      "    A   B    C\n",
      "a   1  11  111\n",
      "b   2  22  222\n",
      "c   3  33  333\n",
      "aa  1  11  111\n",
      "bb  2  22  222\n",
      "\n",
      "last 5 rows of df df.tail(5)\n",
      "    A   B    C\n",
      "b   2  22  222\n",
      "c   3  33  333\n",
      "aa  1  11  111\n",
      "bb  2  22  222\n",
      "cc  3  33  333\n"
     ]
    }
   ],
   "source": [
    "print(\"\\nDataFrame\")\n",
    "print(df)\n",
    "print(\"\\nrow selection numpylike df.loc['c'] pd.Series\")\n",
    "print(df.loc['c'])\n",
    "print(\"\\nrow slice numpylike df.loc['c': 'bb'] pd.DataFrame\")\n",
    "print(df.loc['c': 'bb'])\n",
    "print(\"\\nrow col native pandas df['A']['c'] Data Type(int)\")\n",
    "print(df['A']['c'])\n",
    "print(\"\\nrow col numpylike df.loc['c','A'] Data Type(int)\")\n",
    "print(df.loc['c']['A'])\n",
    "print(\"\\nbool series native pandas df['A'] == 2 Pd.Series (Boolean)\")\n",
    "print(df['A'] == 2)\n",
    "print(\"\\nbool series numpylike df.loc[:,'A'] == 2 Pd.Series (Boolean)\")\n",
    "print(df.loc[:,\"A\"] == 2)\n",
    "print(\"\\nbool selection native pandas df[df['A'] == 2] pd.DataFrame\")\n",
    "print(df[df['A'] == 2])\n",
    "print(\"\\nbool selection numpy like df.loc[df.loc[:,'A'] == 2] pd.DataFrame\")\n",
    "print(df.loc[df.loc[:,'A'] == 2])\n",
    "print(\"\\nrow (position) df.iloc[2] pd.Series\")\n",
    "print(df.iloc[2] )\n",
    "print(\"\\ncol (position) df.iloc[:,2] pd.Series\")\n",
    "print(df.iloc[:,2])\n",
    "print(\"\\nrow slice position df[2:5] \")\n",
    "print(df[2:5])\n",
    "print(\"\\ncolumn slice position df.iloc[:,:2] \")\n",
    "print(df.iloc[:,:2])\n",
    "print(\"\\nfancy indexing cols native pandas df[['A','C']] pd.DataFrame\")\n",
    "print(df[['A','C']])\n",
    "print(\"\\nfancy indexing cols numpylike df.loc[:,['A','C']] pd.DataFrame\")\n",
    "print(df.loc[:,['A','C']])\n",
    "print(\"\\nfancy indexing rows df.loc[['b','bb']] pd.DataFrame\")\n",
    "print(df.loc[['b','bb']])\n",
    "print(\"\\nfirst 5 rows of df df.head(5)\")\n",
    "print(df.head(5) )\n",
    "print(\"\\nlast 5 rows of df df.tail(5)\")\n",
    "print(df.tail(5))"
   ]
  },
  {
   "cell_type": "markdown",
   "id": "1dfd1973",
   "metadata": {},
   "source": [
    "### Pandas delete data"
   ]
  },
  {
   "cell_type": "markdown",
   "id": "3377573b",
   "metadata": {},
   "source": [
    "Begin with `df`:"
   ]
  },
  {
   "cell_type": "code",
   "execution_count": 195,
   "id": "053368a8",
   "metadata": {},
   "outputs": [
    {
     "data": {
      "text/html": [
       "<div>\n",
       "<style scoped>\n",
       "    .dataframe tbody tr th:only-of-type {\n",
       "        vertical-align: middle;\n",
       "    }\n",
       "\n",
       "    .dataframe tbody tr th {\n",
       "        vertical-align: top;\n",
       "    }\n",
       "\n",
       "    .dataframe thead th {\n",
       "        text-align: right;\n",
       "    }\n",
       "</style>\n",
       "<table border=\"1\" class=\"dataframe\">\n",
       "  <thead>\n",
       "    <tr style=\"text-align: right;\">\n",
       "      <th></th>\n",
       "      <th>A</th>\n",
       "      <th>B</th>\n",
       "      <th>C</th>\n",
       "    </tr>\n",
       "  </thead>\n",
       "  <tbody>\n",
       "    <tr>\n",
       "      <th>a</th>\n",
       "      <td>1</td>\n",
       "      <td>11</td>\n",
       "      <td>111</td>\n",
       "    </tr>\n",
       "    <tr>\n",
       "      <th>b</th>\n",
       "      <td>2</td>\n",
       "      <td>22</td>\n",
       "      <td>222</td>\n",
       "    </tr>\n",
       "    <tr>\n",
       "      <th>c</th>\n",
       "      <td>3</td>\n",
       "      <td>33</td>\n",
       "      <td>333</td>\n",
       "    </tr>\n",
       "    <tr>\n",
       "      <th>aa</th>\n",
       "      <td>1</td>\n",
       "      <td>11</td>\n",
       "      <td>111</td>\n",
       "    </tr>\n",
       "    <tr>\n",
       "      <th>bb</th>\n",
       "      <td>2</td>\n",
       "      <td>22</td>\n",
       "      <td>222</td>\n",
       "    </tr>\n",
       "    <tr>\n",
       "      <th>cc</th>\n",
       "      <td>3</td>\n",
       "      <td>33</td>\n",
       "      <td>333</td>\n",
       "    </tr>\n",
       "  </tbody>\n",
       "</table>\n",
       "</div>"
      ],
      "text/plain": [
       "    A   B    C\n",
       "a   1  11  111\n",
       "b   2  22  222\n",
       "c   3  33  333\n",
       "aa  1  11  111\n",
       "bb  2  22  222\n",
       "cc  3  33  333"
      ]
     },
     "execution_count": 195,
     "metadata": {},
     "output_type": "execute_result"
    }
   ],
   "source": [
    "df"
   ]
  },
  {
   "cell_type": "markdown",
   "id": "599d0362",
   "metadata": {},
   "source": [
    "Delete some rows from `df`:"
   ]
  },
  {
   "cell_type": "code",
   "execution_count": 193,
   "id": "f481709d",
   "metadata": {},
   "outputs": [
    {
     "data": {
      "text/html": [
       "<div>\n",
       "<style scoped>\n",
       "    .dataframe tbody tr th:only-of-type {\n",
       "        vertical-align: middle;\n",
       "    }\n",
       "\n",
       "    .dataframe tbody tr th {\n",
       "        vertical-align: top;\n",
       "    }\n",
       "\n",
       "    .dataframe thead th {\n",
       "        text-align: right;\n",
       "    }\n",
       "</style>\n",
       "<table border=\"1\" class=\"dataframe\">\n",
       "  <thead>\n",
       "    <tr style=\"text-align: right;\">\n",
       "      <th></th>\n",
       "      <th>A</th>\n",
       "      <th>B</th>\n",
       "      <th>C</th>\n",
       "    </tr>\n",
       "  </thead>\n",
       "  <tbody>\n",
       "    <tr>\n",
       "      <th>a</th>\n",
       "      <td>1</td>\n",
       "      <td>11</td>\n",
       "      <td>111</td>\n",
       "    </tr>\n",
       "    <tr>\n",
       "      <th>b</th>\n",
       "      <td>2</td>\n",
       "      <td>22</td>\n",
       "      <td>222</td>\n",
       "    </tr>\n",
       "    <tr>\n",
       "      <th>c</th>\n",
       "      <td>3</td>\n",
       "      <td>33</td>\n",
       "      <td>333</td>\n",
       "    </tr>\n",
       "  </tbody>\n",
       "</table>\n",
       "</div>"
      ],
      "text/plain": [
       "   A   B    C\n",
       "a  1  11  111\n",
       "b  2  22  222\n",
       "c  3  33  333"
      ]
     },
     "execution_count": 193,
     "metadata": {},
     "output_type": "execute_result"
    }
   ],
   "source": [
    "df.drop([\"b\",\"aa\",\"cc\"])"
   ]
  },
  {
   "cell_type": "markdown",
   "id": "1ee3778d",
   "metadata": {},
   "source": [
    "Or just drop rows for one column:"
   ]
  },
  {
   "cell_type": "code",
   "execution_count": 196,
   "id": "41680c46",
   "metadata": {},
   "outputs": [
    {
     "data": {
      "text/plain": [
       "a     11\n",
       "c     33\n",
       "bb    22\n",
       "Name: B, dtype: int64"
      ]
     },
     "execution_count": 196,
     "metadata": {},
     "output_type": "execute_result"
    }
   ],
   "source": [
    "df[\"B\"].drop([\"b\",\"aa\",\"cc\"])"
   ]
  },
  {
   "cell_type": "markdown",
   "id": "847df3a9",
   "metadata": {},
   "source": [
    "Or drop entire columns:"
   ]
  },
  {
   "cell_type": "code",
   "execution_count": 198,
   "id": "79ed3701",
   "metadata": {},
   "outputs": [
    {
     "data": {
      "text/html": [
       "<div>\n",
       "<style scoped>\n",
       "    .dataframe tbody tr th:only-of-type {\n",
       "        vertical-align: middle;\n",
       "    }\n",
       "\n",
       "    .dataframe tbody tr th {\n",
       "        vertical-align: top;\n",
       "    }\n",
       "\n",
       "    .dataframe thead th {\n",
       "        text-align: right;\n",
       "    }\n",
       "</style>\n",
       "<table border=\"1\" class=\"dataframe\">\n",
       "  <thead>\n",
       "    <tr style=\"text-align: right;\">\n",
       "      <th></th>\n",
       "      <th>A</th>\n",
       "      <th>C</th>\n",
       "    </tr>\n",
       "  </thead>\n",
       "  <tbody>\n",
       "    <tr>\n",
       "      <th>a</th>\n",
       "      <td>1</td>\n",
       "      <td>111</td>\n",
       "    </tr>\n",
       "    <tr>\n",
       "      <th>b</th>\n",
       "      <td>2</td>\n",
       "      <td>222</td>\n",
       "    </tr>\n",
       "    <tr>\n",
       "      <th>c</th>\n",
       "      <td>3</td>\n",
       "      <td>333</td>\n",
       "    </tr>\n",
       "    <tr>\n",
       "      <th>aa</th>\n",
       "      <td>1</td>\n",
       "      <td>111</td>\n",
       "    </tr>\n",
       "    <tr>\n",
       "      <th>bb</th>\n",
       "      <td>2</td>\n",
       "      <td>222</td>\n",
       "    </tr>\n",
       "    <tr>\n",
       "      <th>cc</th>\n",
       "      <td>3</td>\n",
       "      <td>333</td>\n",
       "    </tr>\n",
       "  </tbody>\n",
       "</table>\n",
       "</div>"
      ],
      "text/plain": [
       "    A    C\n",
       "a   1  111\n",
       "b   2  222\n",
       "c   3  333\n",
       "aa  1  111\n",
       "bb  2  222\n",
       "cc  3  333"
      ]
     },
     "execution_count": 198,
     "metadata": {},
     "output_type": "execute_result"
    }
   ],
   "source": [
    "df.drop(columns=[\"B\"])"
   ]
  },
  {
   "cell_type": "markdown",
   "id": "a1dfc700",
   "metadata": {},
   "source": [
    "### Pandas missing data cleanup"
   ]
  },
  {
   "cell_type": "markdown",
   "id": "359f227c",
   "metadata": {},
   "source": [
    "Create a DataFrame with some missing values by executing elementwise arithmetic with \n",
    "a DF that has only a partial index match."
   ]
  },
  {
   "cell_type": "code",
   "execution_count": 199,
   "id": "d46c3d9d",
   "metadata": {},
   "outputs": [
    {
     "data": {
      "text/html": [
       "<div>\n",
       "<style scoped>\n",
       "    .dataframe tbody tr th:only-of-type {\n",
       "        vertical-align: middle;\n",
       "    }\n",
       "\n",
       "    .dataframe tbody tr th {\n",
       "        vertical-align: top;\n",
       "    }\n",
       "\n",
       "    .dataframe thead th {\n",
       "        text-align: right;\n",
       "    }\n",
       "</style>\n",
       "<table border=\"1\" class=\"dataframe\">\n",
       "  <thead>\n",
       "    <tr style=\"text-align: right;\">\n",
       "      <th></th>\n",
       "      <th>A</th>\n",
       "      <th>B</th>\n",
       "      <th>C</th>\n",
       "    </tr>\n",
       "  </thead>\n",
       "  <tbody>\n",
       "    <tr>\n",
       "      <th>a</th>\n",
       "      <td>2.0</td>\n",
       "      <td>22.0</td>\n",
       "      <td>222.0</td>\n",
       "    </tr>\n",
       "    <tr>\n",
       "      <th>aa</th>\n",
       "      <td>NaN</td>\n",
       "      <td>NaN</td>\n",
       "      <td>NaN</td>\n",
       "    </tr>\n",
       "    <tr>\n",
       "      <th>b</th>\n",
       "      <td>4.0</td>\n",
       "      <td>44.0</td>\n",
       "      <td>444.0</td>\n",
       "    </tr>\n",
       "    <tr>\n",
       "      <th>bb</th>\n",
       "      <td>NaN</td>\n",
       "      <td>NaN</td>\n",
       "      <td>NaN</td>\n",
       "    </tr>\n",
       "    <tr>\n",
       "      <th>c</th>\n",
       "      <td>6.0</td>\n",
       "      <td>66.0</td>\n",
       "      <td>666.0</td>\n",
       "    </tr>\n",
       "    <tr>\n",
       "      <th>cc</th>\n",
       "      <td>NaN</td>\n",
       "      <td>NaN</td>\n",
       "      <td>NaN</td>\n",
       "    </tr>\n",
       "  </tbody>\n",
       "</table>\n",
       "</div>"
      ],
      "text/plain": [
       "      A     B      C\n",
       "a   2.0  22.0  222.0\n",
       "aa  NaN   NaN    NaN\n",
       "b   4.0  44.0  444.0\n",
       "bb  NaN   NaN    NaN\n",
       "c   6.0  66.0  666.0\n",
       "cc  NaN   NaN    NaN"
      ]
     },
     "execution_count": 199,
     "metadata": {},
     "output_type": "execute_result"
    }
   ],
   "source": [
    "df_with_missing = df + df.loc[\"a\":\"c\"]\n",
    "df_with_missing"
   ]
  },
  {
   "cell_type": "markdown",
   "id": "5a133e95",
   "metadata": {},
   "source": [
    "Drop all rows with undefined values from the DataFrame"
   ]
  },
  {
   "cell_type": "code",
   "execution_count": 8,
   "id": "907c878e",
   "metadata": {},
   "outputs": [
    {
     "data": {
      "text/html": [
       "<div>\n",
       "<style scoped>\n",
       "    .dataframe tbody tr th:only-of-type {\n",
       "        vertical-align: middle;\n",
       "    }\n",
       "\n",
       "    .dataframe tbody tr th {\n",
       "        vertical-align: top;\n",
       "    }\n",
       "\n",
       "    .dataframe thead th {\n",
       "        text-align: right;\n",
       "    }\n",
       "</style>\n",
       "<table border=\"1\" class=\"dataframe\">\n",
       "  <thead>\n",
       "    <tr style=\"text-align: right;\">\n",
       "      <th></th>\n",
       "      <th>A</th>\n",
       "      <th>B</th>\n",
       "      <th>C</th>\n",
       "    </tr>\n",
       "  </thead>\n",
       "  <tbody>\n",
       "    <tr>\n",
       "      <th>a</th>\n",
       "      <td>2.0</td>\n",
       "      <td>22.0</td>\n",
       "      <td>222.0</td>\n",
       "    </tr>\n",
       "    <tr>\n",
       "      <th>b</th>\n",
       "      <td>4.0</td>\n",
       "      <td>44.0</td>\n",
       "      <td>444.0</td>\n",
       "    </tr>\n",
       "    <tr>\n",
       "      <th>c</th>\n",
       "      <td>6.0</td>\n",
       "      <td>66.0</td>\n",
       "      <td>666.0</td>\n",
       "    </tr>\n",
       "  </tbody>\n",
       "</table>\n",
       "</div>"
      ],
      "text/plain": [
       "     A     B      C\n",
       "a  2.0  22.0  222.0\n",
       "b  4.0  44.0  444.0\n",
       "c  6.0  66.0  666.0"
      ]
     },
     "execution_count": 8,
     "metadata": {},
     "output_type": "execute_result"
    }
   ],
   "source": [
    "df_with_missing.dropna()"
   ]
  },
  {
   "cell_type": "markdown",
   "id": "f2fd6696",
   "metadata": {},
   "source": [
    "Or just do one column:"
   ]
  },
  {
   "cell_type": "code",
   "execution_count": 14,
   "id": "708046ad",
   "metadata": {
    "scrolled": true
   },
   "outputs": [
    {
     "data": {
      "text/plain": [
       "a    22.0\n",
       "b    44.0\n",
       "c    66.0\n",
       "Name: B, dtype: float64"
      ]
     },
     "execution_count": 14,
     "metadata": {},
     "output_type": "execute_result"
    }
   ],
   "source": [
    "df_with_missing[\"B\"].dropna()"
   ]
  },
  {
   "cell_type": "markdown",
   "id": "7339924d",
   "metadata": {},
   "source": [
    "Fill undefined values with carefully thought about filler (0 is not always the right choice)."
   ]
  },
  {
   "cell_type": "code",
   "execution_count": 22,
   "id": "76662dc7",
   "metadata": {
    "scrolled": true
   },
   "outputs": [
    {
     "data": {
      "text/html": [
       "<div>\n",
       "<style scoped>\n",
       "    .dataframe tbody tr th:only-of-type {\n",
       "        vertical-align: middle;\n",
       "    }\n",
       "\n",
       "    .dataframe tbody tr th {\n",
       "        vertical-align: top;\n",
       "    }\n",
       "\n",
       "    .dataframe thead th {\n",
       "        text-align: right;\n",
       "    }\n",
       "</style>\n",
       "<table border=\"1\" class=\"dataframe\">\n",
       "  <thead>\n",
       "    <tr style=\"text-align: right;\">\n",
       "      <th></th>\n",
       "      <th>A</th>\n",
       "      <th>B</th>\n",
       "      <th>C</th>\n",
       "    </tr>\n",
       "  </thead>\n",
       "  <tbody>\n",
       "    <tr>\n",
       "      <th>a</th>\n",
       "      <td>2.0</td>\n",
       "      <td>22.0</td>\n",
       "      <td>222.0</td>\n",
       "    </tr>\n",
       "    <tr>\n",
       "      <th>aa</th>\n",
       "      <td>0.0</td>\n",
       "      <td>0.0</td>\n",
       "      <td>0.0</td>\n",
       "    </tr>\n",
       "    <tr>\n",
       "      <th>b</th>\n",
       "      <td>4.0</td>\n",
       "      <td>44.0</td>\n",
       "      <td>444.0</td>\n",
       "    </tr>\n",
       "    <tr>\n",
       "      <th>bb</th>\n",
       "      <td>0.0</td>\n",
       "      <td>0.0</td>\n",
       "      <td>0.0</td>\n",
       "    </tr>\n",
       "    <tr>\n",
       "      <th>c</th>\n",
       "      <td>6.0</td>\n",
       "      <td>66.0</td>\n",
       "      <td>666.0</td>\n",
       "    </tr>\n",
       "    <tr>\n",
       "      <th>cc</th>\n",
       "      <td>0.0</td>\n",
       "      <td>0.0</td>\n",
       "      <td>0.0</td>\n",
       "    </tr>\n",
       "  </tbody>\n",
       "</table>\n",
       "</div>"
      ],
      "text/plain": [
       "      A     B      C\n",
       "a   2.0  22.0  222.0\n",
       "aa  0.0   0.0    0.0\n",
       "b   4.0  44.0  444.0\n",
       "bb  0.0   0.0    0.0\n",
       "c   6.0  66.0  666.0\n",
       "cc  0.0   0.0    0.0"
      ]
     },
     "execution_count": 22,
     "metadata": {},
     "output_type": "execute_result"
    }
   ],
   "source": [
    "df_with_missing.fillna(0)"
   ]
  },
  {
   "cell_type": "markdown",
   "id": "0c5dee89",
   "metadata": {},
   "source": [
    "### (Re)Indexing"
   ]
  },
  {
   "cell_type": "markdown",
   "id": "1ce0c3a0",
   "metadata": {},
   "source": [
    "Basic accessor function:"
   ]
  },
  {
   "cell_type": "code",
   "execution_count": 38,
   "id": "81d58987",
   "metadata": {},
   "outputs": [
    {
     "name": "stdout",
     "output_type": "stream",
     "text": [
      "    A   B    C\n",
      "a   1  11  111\n",
      "b   2  22  222\n",
      "c   3  33  333\n",
      "aa  1  11  111\n",
      "bb  2  22  222\n",
      "cc  3  33  333\n",
      "Index(['a', 'b', 'c', 'aa', 'bb', 'cc'], dtype='object')\n"
     ]
    }
   ],
   "source": [
    "print(df)\n",
    "print(df.index)"
   ]
  },
  {
   "cell_type": "markdown",
   "id": "e2a274a2",
   "metadata": {},
   "source": [
    "Note that the object returned is of a new type, a `pandas Index`."
   ]
  },
  {
   "cell_type": "markdown",
   "id": "5b168052",
   "metadata": {},
   "source": [
    "Reindex to new index discarding and adding rows as needed:\n",
    "\n",
    "Specifically: Drop all rows in `df` that are not in `new_index`. Add all\n",
    "elements of `new_index` not already in `df` and fill the new rows with `NaN`."
   ]
  },
  {
   "cell_type": "code",
   "execution_count": 47,
   "id": "74f44036",
   "metadata": {},
   "outputs": [
    {
     "name": "stdout",
     "output_type": "stream",
     "text": [
      "df:\n",
      "     A   B    C\n",
      "a   1  11  111\n",
      "b   2  22  222\n",
      "c   3  33  333\n",
      "aa  1  11  111\n",
      "bb  2  22  222\n",
      "cc  3  33  333\n",
      "\n",
      "new_index:\n",
      "  ['a', 'aa', 'c', 'bb', 'xx']\n",
      "\n",
      "df.reindex(new_index):\n",
      "       A     B      C\n",
      "a   1.0  11.0  111.0\n",
      "aa  1.0  11.0  111.0\n",
      "c   3.0  33.0  333.0\n",
      "bb  2.0  22.0  222.0\n",
      "xx  NaN   NaN    NaN\n"
     ]
    }
   ],
   "source": [
    "print(\"df:\\n\",df)\n",
    "print()\n",
    "new_index=[\"a\",\"aa\",\"c\", \"bb\",\"xx\"]\n",
    "print(\"new_index:\\n \", new_index)\n",
    "print(\"\\ndf.reindex(new_index):\\n\",df.reindex(new_index))"
   ]
  },
  {
   "cell_type": "markdown",
   "id": "d7e31618",
   "metadata": {},
   "source": [
    "Same reindexing operation, but use the index of another DataFrame"
   ]
  },
  {
   "cell_type": "code",
   "execution_count": 4,
   "id": "0b84a117",
   "metadata": {},
   "outputs": [
    {
     "name": "stdout",
     "output_type": "stream",
     "text": [
      "df:\n",
      "     A   B    C\n",
      "a   1  11  111\n",
      "b   2  22  222\n",
      "c   3  33  333\n",
      "aa  1  11  111\n",
      "bb  2  22  222\n",
      "cc  3  33  333\n",
      "\n",
      "df2:\n",
      "    A    B    C\n",
      "x  4  444   44\n",
      "y  5   55  555\n",
      "z  6  666   66\n",
      "a  7   77  777\n",
      "b  8  888   88\n",
      "c  9   99  999\n"
     ]
    }
   ],
   "source": [
    "df2 = pd.DataFrame.from_dict(dict(x=[4,444,44],\n",
    "                                 y=[5,55,555],\n",
    "                                 z=[6,666,66],\n",
    "                                 a=[7,77,777],\n",
    "                                 b=[8,888,88],\n",
    "                                 c=[9,99,999]),\n",
    "                                 orient='index',  # the keyword labeled items are rows\n",
    "                                 columns=['A',\"B\",\"C\"]  # need to label the columns independently\n",
    "                           )\n",
    "print(\"df:\\n\",df)\n",
    "print()\n",
    "print(\"df2:\\n\",df2  )"
   ]
  },
  {
   "cell_type": "markdown",
   "id": "82e6d33a",
   "metadata": {},
   "source": [
    "Reindex df with index of df2."
   ]
  },
  {
   "cell_type": "code",
   "execution_count": 60,
   "id": "9d97f0ed",
   "metadata": {},
   "outputs": [
    {
     "data": {
      "text/html": [
       "<div>\n",
       "<style scoped>\n",
       "    .dataframe tbody tr th:only-of-type {\n",
       "        vertical-align: middle;\n",
       "    }\n",
       "\n",
       "    .dataframe tbody tr th {\n",
       "        vertical-align: top;\n",
       "    }\n",
       "\n",
       "    .dataframe thead th {\n",
       "        text-align: right;\n",
       "    }\n",
       "</style>\n",
       "<table border=\"1\" class=\"dataframe\">\n",
       "  <thead>\n",
       "    <tr style=\"text-align: right;\">\n",
       "      <th></th>\n",
       "      <th>A</th>\n",
       "      <th>B</th>\n",
       "      <th>C</th>\n",
       "    </tr>\n",
       "  </thead>\n",
       "  <tbody>\n",
       "    <tr>\n",
       "      <th>x</th>\n",
       "      <td>NaN</td>\n",
       "      <td>NaN</td>\n",
       "      <td>NaN</td>\n",
       "    </tr>\n",
       "    <tr>\n",
       "      <th>y</th>\n",
       "      <td>NaN</td>\n",
       "      <td>NaN</td>\n",
       "      <td>NaN</td>\n",
       "    </tr>\n",
       "    <tr>\n",
       "      <th>z</th>\n",
       "      <td>NaN</td>\n",
       "      <td>NaN</td>\n",
       "      <td>NaN</td>\n",
       "    </tr>\n",
       "    <tr>\n",
       "      <th>a</th>\n",
       "      <td>1.0</td>\n",
       "      <td>11.0</td>\n",
       "      <td>111.0</td>\n",
       "    </tr>\n",
       "    <tr>\n",
       "      <th>b</th>\n",
       "      <td>2.0</td>\n",
       "      <td>22.0</td>\n",
       "      <td>222.0</td>\n",
       "    </tr>\n",
       "    <tr>\n",
       "      <th>c</th>\n",
       "      <td>3.0</td>\n",
       "      <td>33.0</td>\n",
       "      <td>333.0</td>\n",
       "    </tr>\n",
       "  </tbody>\n",
       "</table>\n",
       "</div>"
      ],
      "text/plain": [
       "     A     B      C\n",
       "x  NaN   NaN    NaN\n",
       "y  NaN   NaN    NaN\n",
       "z  NaN   NaN    NaN\n",
       "a  1.0  11.0  111.0\n",
       "b  2.0  22.0  222.0\n",
       "c  3.0  33.0  333.0"
      ]
     },
     "execution_count": 60,
     "metadata": {},
     "output_type": "execute_result"
    }
   ],
   "source": [
    "df.reindex_like(df2)"
   ]
  },
  {
   "cell_type": "markdown",
   "id": "154cd271",
   "metadata": {},
   "source": [
    "Set one of the columns to be an index."
   ]
  },
  {
   "cell_type": "code",
   "execution_count": 5,
   "id": "17596700",
   "metadata": {},
   "outputs": [
    {
     "data": {
      "text/html": [
       "<div>\n",
       "<style scoped>\n",
       "    .dataframe tbody tr th:only-of-type {\n",
       "        vertical-align: middle;\n",
       "    }\n",
       "\n",
       "    .dataframe tbody tr th {\n",
       "        vertical-align: top;\n",
       "    }\n",
       "\n",
       "    .dataframe thead th {\n",
       "        text-align: right;\n",
       "    }\n",
       "</style>\n",
       "<table border=\"1\" class=\"dataframe\">\n",
       "  <thead>\n",
       "    <tr style=\"text-align: right;\">\n",
       "      <th></th>\n",
       "      <th>A</th>\n",
       "      <th>C</th>\n",
       "    </tr>\n",
       "    <tr>\n",
       "      <th>B</th>\n",
       "      <th></th>\n",
       "      <th></th>\n",
       "    </tr>\n",
       "  </thead>\n",
       "  <tbody>\n",
       "    <tr>\n",
       "      <th>11</th>\n",
       "      <td>1</td>\n",
       "      <td>111</td>\n",
       "    </tr>\n",
       "    <tr>\n",
       "      <th>22</th>\n",
       "      <td>2</td>\n",
       "      <td>222</td>\n",
       "    </tr>\n",
       "    <tr>\n",
       "      <th>33</th>\n",
       "      <td>3</td>\n",
       "      <td>333</td>\n",
       "    </tr>\n",
       "    <tr>\n",
       "      <th>11</th>\n",
       "      <td>1</td>\n",
       "      <td>111</td>\n",
       "    </tr>\n",
       "    <tr>\n",
       "      <th>22</th>\n",
       "      <td>2</td>\n",
       "      <td>222</td>\n",
       "    </tr>\n",
       "    <tr>\n",
       "      <th>33</th>\n",
       "      <td>3</td>\n",
       "      <td>333</td>\n",
       "    </tr>\n",
       "  </tbody>\n",
       "</table>\n",
       "</div>"
      ],
      "text/plain": [
       "    A    C\n",
       "B         \n",
       "11  1  111\n",
       "22  2  222\n",
       "33  3  333\n",
       "11  1  111\n",
       "22  2  222\n",
       "33  3  333"
      ]
     },
     "execution_count": 5,
     "metadata": {},
     "output_type": "execute_result"
    }
   ],
   "source": [
    "df.set_index(\"B\")"
   ]
  },
  {
   "cell_type": "markdown",
   "id": "c2e9a872",
   "metadata": {},
   "source": [
    "### Columnwise (re)indexing\n",
    "\n",
    "Another way of think of a Pandas DataFrame is as a 2D array that is indexed \n",
    "in two dimensions.  One dimension is the one we have been\n",
    "calling the index dimension all along.  The other is the column\n",
    "dimension.  That too can be thought of as an index.\n",
    "\n",
    "To access that \"index\" do:"
   ]
  },
  {
   "cell_type": "code",
   "execution_count": 61,
   "id": "72506c3f",
   "metadata": {
    "scrolled": true
   },
   "outputs": [
    {
     "data": {
      "text/plain": [
       "Index(['A', 'B', 'C'], dtype='object')"
      ]
     },
     "execution_count": 61,
     "metadata": {},
     "output_type": "execute_result"
    }
   ],
   "source": [
    "df.columns"
   ]
  },
  {
   "cell_type": "markdown",
   "id": "a93b5759",
   "metadata": {},
   "source": [
    "Note that the type of the object returned is a `pandas Index`."
   ]
  },
  {
   "cell_type": "markdown",
   "id": "52cb3a39",
   "metadata": {},
   "source": [
    "To reindex in that dimension use `df.reindex(columns=[...])\"."
   ]
  },
  {
   "cell_type": "code",
   "execution_count": 62,
   "id": "8816f966",
   "metadata": {},
   "outputs": [
    {
     "data": {
      "text/html": [
       "<div>\n",
       "<style scoped>\n",
       "    .dataframe tbody tr th:only-of-type {\n",
       "        vertical-align: middle;\n",
       "    }\n",
       "\n",
       "    .dataframe tbody tr th {\n",
       "        vertical-align: top;\n",
       "    }\n",
       "\n",
       "    .dataframe thead th {\n",
       "        text-align: right;\n",
       "    }\n",
       "</style>\n",
       "<table border=\"1\" class=\"dataframe\">\n",
       "  <thead>\n",
       "    <tr style=\"text-align: right;\">\n",
       "      <th></th>\n",
       "      <th>B</th>\n",
       "      <th>C</th>\n",
       "      <th>A</th>\n",
       "      <th>X</th>\n",
       "    </tr>\n",
       "  </thead>\n",
       "  <tbody>\n",
       "    <tr>\n",
       "      <th>a</th>\n",
       "      <td>11</td>\n",
       "      <td>111</td>\n",
       "      <td>1</td>\n",
       "      <td>NaN</td>\n",
       "    </tr>\n",
       "    <tr>\n",
       "      <th>b</th>\n",
       "      <td>22</td>\n",
       "      <td>222</td>\n",
       "      <td>2</td>\n",
       "      <td>NaN</td>\n",
       "    </tr>\n",
       "    <tr>\n",
       "      <th>c</th>\n",
       "      <td>33</td>\n",
       "      <td>333</td>\n",
       "      <td>3</td>\n",
       "      <td>NaN</td>\n",
       "    </tr>\n",
       "    <tr>\n",
       "      <th>aa</th>\n",
       "      <td>11</td>\n",
       "      <td>111</td>\n",
       "      <td>1</td>\n",
       "      <td>NaN</td>\n",
       "    </tr>\n",
       "    <tr>\n",
       "      <th>bb</th>\n",
       "      <td>22</td>\n",
       "      <td>222</td>\n",
       "      <td>2</td>\n",
       "      <td>NaN</td>\n",
       "    </tr>\n",
       "    <tr>\n",
       "      <th>cc</th>\n",
       "      <td>33</td>\n",
       "      <td>333</td>\n",
       "      <td>3</td>\n",
       "      <td>NaN</td>\n",
       "    </tr>\n",
       "  </tbody>\n",
       "</table>\n",
       "</div>"
      ],
      "text/plain": [
       "     B    C  A   X\n",
       "a   11  111  1 NaN\n",
       "b   22  222  2 NaN\n",
       "c   33  333  3 NaN\n",
       "aa  11  111  1 NaN\n",
       "bb  22  222  2 NaN\n",
       "cc  33  333  3 NaN"
      ]
     },
     "execution_count": 62,
     "metadata": {},
     "output_type": "execute_result"
    }
   ],
   "source": [
    "df.reindex(columns=[\"B\",\"C\",\"A\",\"X\"])"
   ]
  },
  {
   "cell_type": "markdown",
   "id": "87353d8d",
   "metadata": {},
   "source": [
    "### Sorting"
   ]
  },
  {
   "cell_type": "markdown",
   "id": "a7b51e44",
   "metadata": {},
   "source": [
    "Sort the index:"
   ]
  },
  {
   "cell_type": "code",
   "execution_count": 64,
   "id": "e860b67c",
   "metadata": {},
   "outputs": [
    {
     "name": "stdout",
     "output_type": "stream",
     "text": [
      "   A    B    C\n",
      "x  4  444   44\n",
      "y  5   55  555\n",
      "z  6  666   66\n",
      "a  7   77  777\n",
      "b  8  888   88\n",
      "c  9   99  999\n",
      "\n",
      "   A    B    C\n",
      "a  7   77  777\n",
      "b  8  888   88\n",
      "c  9   99  999\n",
      "x  4  444   44\n",
      "y  5   55  555\n",
      "z  6  666   66\n"
     ]
    }
   ],
   "source": [
    "print(df2)\n",
    "print()\n",
    "print(df2.sort_index())"
   ]
  },
  {
   "cell_type": "markdown",
   "id": "1b1e57b7",
   "metadata": {},
   "source": [
    "Sort the rows in the DataFrame by the values in one column:"
   ]
  },
  {
   "cell_type": "code",
   "execution_count": 65,
   "id": "eadd5405",
   "metadata": {},
   "outputs": [
    {
     "name": "stdout",
     "output_type": "stream",
     "text": [
      "   A    B    C\n",
      "x  4  444   44\n",
      "y  5   55  555\n",
      "z  6  666   66\n",
      "a  7   77  777\n",
      "b  8  888   88\n",
      "c  9   99  999\n",
      "\n",
      "   A    B    C\n",
      "y  5   55  555\n",
      "a  7   77  777\n",
      "c  9   99  999\n",
      "x  4  444   44\n",
      "z  6  666   66\n",
      "b  8  888   88\n"
     ]
    }
   ],
   "source": [
    "print(df2)\n",
    "print()\n",
    "print(df2.sort_values(by=\"B\"))"
   ]
  },
  {
   "cell_type": "markdown",
   "id": "01a7c105",
   "metadata": {},
   "source": [
    "### Transpose DataFrame\n",
    "\n",
    "Transpose DataFrame\n"
   ]
  },
  {
   "cell_type": "code",
   "execution_count": 205,
   "id": "cffdf488",
   "metadata": {},
   "outputs": [
    {
     "data": {
      "text/html": [
       "<div>\n",
       "<style scoped>\n",
       "    .dataframe tbody tr th:only-of-type {\n",
       "        vertical-align: middle;\n",
       "    }\n",
       "\n",
       "    .dataframe tbody tr th {\n",
       "        vertical-align: top;\n",
       "    }\n",
       "\n",
       "    .dataframe thead th {\n",
       "        text-align: right;\n",
       "    }\n",
       "</style>\n",
       "<table border=\"1\" class=\"dataframe\">\n",
       "  <thead>\n",
       "    <tr style=\"text-align: right;\">\n",
       "      <th></th>\n",
       "      <th>a</th>\n",
       "      <th>b</th>\n",
       "      <th>c</th>\n",
       "      <th>aa</th>\n",
       "      <th>bb</th>\n",
       "      <th>cc</th>\n",
       "    </tr>\n",
       "  </thead>\n",
       "  <tbody>\n",
       "    <tr>\n",
       "      <th>A</th>\n",
       "      <td>1</td>\n",
       "      <td>2</td>\n",
       "      <td>3</td>\n",
       "      <td>1</td>\n",
       "      <td>2</td>\n",
       "      <td>3</td>\n",
       "    </tr>\n",
       "    <tr>\n",
       "      <th>B</th>\n",
       "      <td>11</td>\n",
       "      <td>22</td>\n",
       "      <td>33</td>\n",
       "      <td>11</td>\n",
       "      <td>22</td>\n",
       "      <td>33</td>\n",
       "    </tr>\n",
       "    <tr>\n",
       "      <th>C</th>\n",
       "      <td>111</td>\n",
       "      <td>222</td>\n",
       "      <td>333</td>\n",
       "      <td>111</td>\n",
       "      <td>222</td>\n",
       "      <td>333</td>\n",
       "    </tr>\n",
       "  </tbody>\n",
       "</table>\n",
       "</div>"
      ],
      "text/plain": [
       "     a    b    c   aa   bb   cc\n",
       "A    1    2    3    1    2    3\n",
       "B   11   22   33   11   22   33\n",
       "C  111  222  333  111  222  333"
      ]
     },
     "execution_count": 205,
     "metadata": {},
     "output_type": "execute_result"
    }
   ],
   "source": [
    "df.T"
   ]
  },
  {
   "cell_type": "markdown",
   "id": "a51b8212",
   "metadata": {},
   "source": [
    "### Pandas I/O\n",
    "\n",
    "Output:"
   ]
  },
  {
   "cell_type": "markdown",
   "id": "85e9b250",
   "metadata": {},
   "source": [
    "```python\n",
    "df.to_csv(\"foo.csv\")\n",
    "to_excel(\"foo.xlsx\", sheet_name)\n",
    "```"
   ]
  },
  {
   "cell_type": "markdown",
   "id": "1d27ca89",
   "metadata": {},
   "source": [
    "Input:"
   ]
  },
  {
   "cell_type": "markdown",
   "id": "04cb3313",
   "metadata": {},
   "source": [
    "```python\n",
    "read_csv(\"foo.csv\")\n",
    "read_excel(\"foo.xlsx\",\"sheet1\", index_col = None, na_values = [\"NA\"])\n",
    "```\n",
    " \n",
    " "
   ]
  },
  {
   "cell_type": "markdown",
   "id": "807896bc",
   "metadata": {},
   "source": [
    "### Pandas Time Series\n",
    "\n",
    "Create a datetime index with 184 days\n",
    "\n",
    "```python\n",
    "pd.date_range(\"1992-01-03\", \"1992-07-04\", freq=\"D\")\n",
    "```\n",
    "\n",
    "The `freq` parameter options include:\n",
    "\n",
    "```python\n",
    "\"B\" Business Day \n",
    "\"D\" Calender day \n",
    "\"W\" Weekly\n",
    "\"M\" Monthly\n",
    "\"Q\" Quarterly\n",
    "\"A\" Annual\n",
    "\"H\" Hourly\n",
    "```"
   ]
  },
  {
   "cell_type": "code",
   "execution_count": 44,
   "id": "d11f8953",
   "metadata": {},
   "outputs": [],
   "source": [
    "import pandas as pd\n",
    "import numpy as np"
   ]
  },
  {
   "cell_type": "markdown",
   "id": "d9856940",
   "metadata": {},
   "source": [
    "Let's suppose the data in `df` is datable, and let's add the date information to `df`"
   ]
  },
  {
   "cell_type": "code",
   "execution_count": 24,
   "id": "cde98e6d",
   "metadata": {},
   "outputs": [
    {
     "data": {
      "text/html": [
       "<div>\n",
       "<style scoped>\n",
       "    .dataframe tbody tr th:only-of-type {\n",
       "        vertical-align: middle;\n",
       "    }\n",
       "\n",
       "    .dataframe tbody tr th {\n",
       "        vertical-align: top;\n",
       "    }\n",
       "\n",
       "    .dataframe thead th {\n",
       "        text-align: right;\n",
       "    }\n",
       "</style>\n",
       "<table border=\"1\" class=\"dataframe\">\n",
       "  <thead>\n",
       "    <tr style=\"text-align: right;\">\n",
       "      <th></th>\n",
       "      <th>A</th>\n",
       "      <th>B</th>\n",
       "      <th>C</th>\n",
       "      <th>Date</th>\n",
       "    </tr>\n",
       "  </thead>\n",
       "  <tbody>\n",
       "    <tr>\n",
       "      <th>a</th>\n",
       "      <td>1</td>\n",
       "      <td>11</td>\n",
       "      <td>111</td>\n",
       "      <td>1992-02-01</td>\n",
       "    </tr>\n",
       "    <tr>\n",
       "      <th>b</th>\n",
       "      <td>2</td>\n",
       "      <td>22</td>\n",
       "      <td>222</td>\n",
       "      <td>1992-02-02</td>\n",
       "    </tr>\n",
       "    <tr>\n",
       "      <th>c</th>\n",
       "      <td>3</td>\n",
       "      <td>33</td>\n",
       "      <td>333</td>\n",
       "      <td>1992-02-03</td>\n",
       "    </tr>\n",
       "    <tr>\n",
       "      <th>aa</th>\n",
       "      <td>1</td>\n",
       "      <td>11</td>\n",
       "      <td>111</td>\n",
       "      <td>1992-02-04</td>\n",
       "    </tr>\n",
       "    <tr>\n",
       "      <th>bb</th>\n",
       "      <td>2</td>\n",
       "      <td>22</td>\n",
       "      <td>222</td>\n",
       "      <td>1992-02-05</td>\n",
       "    </tr>\n",
       "    <tr>\n",
       "      <th>cc</th>\n",
       "      <td>3</td>\n",
       "      <td>33</td>\n",
       "      <td>333</td>\n",
       "      <td>1992-02-06</td>\n",
       "    </tr>\n",
       "  </tbody>\n",
       "</table>\n",
       "</div>"
      ],
      "text/plain": [
       "    A   B    C       Date\n",
       "a   1  11  111 1992-02-01\n",
       "b   2  22  222 1992-02-02\n",
       "c   3  33  333 1992-02-03\n",
       "aa  1  11  111 1992-02-04\n",
       "bb  2  22  222 1992-02-05\n",
       "cc  3  33  333 1992-02-06"
      ]
     },
     "execution_count": 24,
     "metadata": {},
     "output_type": "execute_result"
    }
   ],
   "source": [
    "dti2 = pd.date_range(\"1992-02-01\", \"1992-02-06\",freq=\"D\")\n",
    "df[\"Date\"] = dti2\n",
    "df"
   ]
  },
  {
   "cell_type": "markdown",
   "id": "8e105b8a",
   "metadata": {},
   "source": [
    "We now have what is called Time Series data.\n",
    "\n",
    "We can query various temporal properties like day of the week:"
   ]
  },
  {
   "cell_type": "code",
   "execution_count": 37,
   "id": "4855fd48",
   "metadata": {},
   "outputs": [
    {
     "data": {
      "text/html": [
       "<div>\n",
       "<style scoped>\n",
       "    .dataframe tbody tr th:only-of-type {\n",
       "        vertical-align: middle;\n",
       "    }\n",
       "\n",
       "    .dataframe tbody tr th {\n",
       "        vertical-align: top;\n",
       "    }\n",
       "\n",
       "    .dataframe thead th {\n",
       "        text-align: right;\n",
       "    }\n",
       "</style>\n",
       "<table border=\"1\" class=\"dataframe\">\n",
       "  <thead>\n",
       "    <tr style=\"text-align: right;\">\n",
       "      <th></th>\n",
       "      <th>A</th>\n",
       "      <th>B</th>\n",
       "      <th>C</th>\n",
       "      <th>Date</th>\n",
       "    </tr>\n",
       "  </thead>\n",
       "  <tbody>\n",
       "    <tr>\n",
       "      <th>bb</th>\n",
       "      <td>2</td>\n",
       "      <td>22</td>\n",
       "      <td>222</td>\n",
       "      <td>1992-02-05</td>\n",
       "    </tr>\n",
       "  </tbody>\n",
       "</table>\n",
       "</div>"
      ],
      "text/plain": [
       "    A   B    C       Date\n",
       "bb  2  22  222 1992-02-05"
      ]
     },
     "execution_count": 37,
     "metadata": {},
     "output_type": "execute_result"
    }
   ],
   "source": [
    "df[df[\"Date\"].dt.day_name() == \"Wednesday\"]"
   ]
  },
  {
   "cell_type": "markdown",
   "id": "0afa0a9c",
   "metadata": {},
   "source": [
    "To better see how this works, and to demonstrate some of the richness afforded\n",
    "by temporal structure, let's cook up some data that gives us more to work with:"
   ]
  },
  {
   "cell_type": "code",
   "execution_count": 26,
   "id": "86195f57",
   "metadata": {},
   "outputs": [
    {
     "name": "stdout",
     "output_type": "stream",
     "text": [
      "184\n"
     ]
    },
    {
     "data": {
      "text/plain": [
       "DatetimeIndex(['1992-01-03', '1992-01-04', '1992-01-05', '1992-01-06',\n",
       "               '1992-01-07', '1992-01-08', '1992-01-09', '1992-01-10',\n",
       "               '1992-01-11', '1992-01-12',\n",
       "               ...\n",
       "               '1992-06-25', '1992-06-26', '1992-06-27', '1992-06-28',\n",
       "               '1992-06-29', '1992-06-30', '1992-07-01', '1992-07-02',\n",
       "               '1992-07-03', '1992-07-04'],\n",
       "              dtype='datetime64[ns]', length=184, freq='D')"
      ]
     },
     "execution_count": 26,
     "metadata": {},
     "output_type": "execute_result"
    }
   ],
   "source": [
    "dti = pd.date_range(\"1992-01-03\", \"1992-07-04\",freq=\"D\")\n",
    "print(len(dti))\n",
    "dti"
   ]
  },
  {
   "cell_type": "markdown",
   "id": "482a4457",
   "metadata": {},
   "source": [
    "The sequence returned by `date_range` is a  `DatetimeIndex` instance.\n",
    "\n",
    "The sequence is indexable and objects in the `DatetimeIndex` are `pandas` `Timestamp` indices."
   ]
  },
  {
   "cell_type": "code",
   "execution_count": 27,
   "id": "e3526793",
   "metadata": {},
   "outputs": [
    {
     "data": {
      "text/plain": [
       "Timestamp('1992-01-03 00:00:00', freq='D')"
      ]
     },
     "execution_count": 27,
     "metadata": {},
     "output_type": "execute_result"
    }
   ],
   "source": [
    "ts0 = dti[0]\n",
    "ts0"
   ]
  },
  {
   "cell_type": "markdown",
   "id": "c0645816",
   "metadata": {},
   "source": [
    "which have various attributes and methods:"
   ]
  },
  {
   "cell_type": "code",
   "execution_count": 38,
   "id": "0a0a4e30",
   "metadata": {},
   "outputs": [
    {
     "data": {
      "text/plain": [
       "(1992, 1, 'January', 3, 'Friday', 0, 0, 0)"
      ]
     },
     "execution_count": 38,
     "metadata": {},
     "output_type": "execute_result"
    }
   ],
   "source": [
    "(ts0.year,ts0.month,ts0.month_name(),ts0.day,ts0.day_name(),ts0.hour,ts0.minute,ts0.second)"
   ]
  },
  {
   "cell_type": "markdown",
   "id": "67812c27",
   "metadata": {},
   "source": [
    "The index provides vectorized access to these attributes:"
   ]
  },
  {
   "cell_type": "markdown",
   "id": "30d7e797",
   "metadata": {},
   "source": [
    "The `DatetimeIndex` can  be converted into a Series (which is implicitly what we did when we made `dti2`\n",
    "a column of `df`):"
   ]
  },
  {
   "cell_type": "code",
   "execution_count": 40,
   "id": "d2de6782",
   "metadata": {},
   "outputs": [
    {
     "data": {
      "text/plain": [
       "0     1992-01-03\n",
       "1     1992-01-04\n",
       "2     1992-01-05\n",
       "3     1992-01-06\n",
       "4     1992-01-07\n",
       "         ...    \n",
       "179   1992-06-30\n",
       "180   1992-07-01\n",
       "181   1992-07-02\n",
       "182   1992-07-03\n",
       "183   1992-07-04\n",
       "Length: 184, dtype: datetime64[ns]"
      ]
     },
     "execution_count": 40,
     "metadata": {},
     "output_type": "execute_result"
    }
   ],
   "source": [
    "dts = pd.Series(dti)\n",
    "dts"
   ]
  },
  {
   "cell_type": "markdown",
   "id": "a503ac17",
   "metadata": {},
   "source": [
    "As a Series, vectorized access to the temporal attributes is available only through the `.dt` (so `.dt`\n",
    "works on a datetime Series much like `.str` works on columns of data type `str`)."
   ]
  },
  {
   "cell_type": "code",
   "execution_count": 41,
   "id": "136f7c1d",
   "metadata": {},
   "outputs": [
    {
     "data": {
      "text/plain": [
       "0         Friday\n",
       "1       Saturday\n",
       "2         Sunday\n",
       "3         Monday\n",
       "4        Tuesday\n",
       "         ...    \n",
       "179      Tuesday\n",
       "180    Wednesday\n",
       "181     Thursday\n",
       "182       Friday\n",
       "183     Saturday\n",
       "Length: 184, dtype: object"
      ]
     },
     "execution_count": 41,
     "metadata": {},
     "output_type": "execute_result"
    }
   ],
   "source": [
    "dts.dt.day_name()"
   ]
  },
  {
   "cell_type": "markdown",
   "id": "be9266fd",
   "metadata": {},
   "source": [
    "This is why we needed to use `.dt` when we acessed the `\"Date\"` column in `df` above."
   ]
  },
  {
   "cell_type": "markdown",
   "id": "0f8249bd",
   "metadata": {},
   "source": [
    "Create some data for which our `TimeIndex` `dti`  is a suitable index\n",
    "and wrap it all in a `DataFrame`."
   ]
  },
  {
   "cell_type": "code",
   "execution_count": 45,
   "id": "13bb1955",
   "metadata": {},
   "outputs": [
    {
     "data": {
      "text/html": [
       "<div>\n",
       "<style scoped>\n",
       "    .dataframe tbody tr th:only-of-type {\n",
       "        vertical-align: middle;\n",
       "    }\n",
       "\n",
       "    .dataframe tbody tr th {\n",
       "        vertical-align: top;\n",
       "    }\n",
       "\n",
       "    .dataframe thead th {\n",
       "        text-align: right;\n",
       "    }\n",
       "</style>\n",
       "<table border=\"1\" class=\"dataframe\">\n",
       "  <thead>\n",
       "    <tr style=\"text-align: right;\">\n",
       "      <th></th>\n",
       "      <th>A</th>\n",
       "      <th>B</th>\n",
       "    </tr>\n",
       "  </thead>\n",
       "  <tbody>\n",
       "    <tr>\n",
       "      <th>1992-01-03</th>\n",
       "      <td>-0.193739</td>\n",
       "      <td>-0.528823</td>\n",
       "    </tr>\n",
       "    <tr>\n",
       "      <th>1992-01-04</th>\n",
       "      <td>0.462737</td>\n",
       "      <td>0.555263</td>\n",
       "    </tr>\n",
       "    <tr>\n",
       "      <th>1992-01-05</th>\n",
       "      <td>-0.564091</td>\n",
       "      <td>0.639840</td>\n",
       "    </tr>\n",
       "    <tr>\n",
       "      <th>1992-01-06</th>\n",
       "      <td>1.822215</td>\n",
       "      <td>0.499665</td>\n",
       "    </tr>\n",
       "    <tr>\n",
       "      <th>1992-01-07</th>\n",
       "      <td>-0.882803</td>\n",
       "      <td>-1.350034</td>\n",
       "    </tr>\n",
       "    <tr>\n",
       "      <th>...</th>\n",
       "      <td>...</td>\n",
       "      <td>...</td>\n",
       "    </tr>\n",
       "    <tr>\n",
       "      <th>1992-06-30</th>\n",
       "      <td>1.682460</td>\n",
       "      <td>0.324128</td>\n",
       "    </tr>\n",
       "    <tr>\n",
       "      <th>1992-07-01</th>\n",
       "      <td>-1.202654</td>\n",
       "      <td>-0.391517</td>\n",
       "    </tr>\n",
       "    <tr>\n",
       "      <th>1992-07-02</th>\n",
       "      <td>0.415325</td>\n",
       "      <td>0.178731</td>\n",
       "    </tr>\n",
       "    <tr>\n",
       "      <th>1992-07-03</th>\n",
       "      <td>0.126647</td>\n",
       "      <td>1.134403</td>\n",
       "    </tr>\n",
       "    <tr>\n",
       "      <th>1992-07-04</th>\n",
       "      <td>-0.977053</td>\n",
       "      <td>-1.259775</td>\n",
       "    </tr>\n",
       "  </tbody>\n",
       "</table>\n",
       "<p>184 rows × 2 columns</p>\n",
       "</div>"
      ],
      "text/plain": [
       "                   A         B\n",
       "1992-01-03 -0.193739 -0.528823\n",
       "1992-01-04  0.462737  0.555263\n",
       "1992-01-05 -0.564091  0.639840\n",
       "1992-01-06  1.822215  0.499665\n",
       "1992-01-07 -0.882803 -1.350034\n",
       "...              ...       ...\n",
       "1992-06-30  1.682460  0.324128\n",
       "1992-07-01 -1.202654 -0.391517\n",
       "1992-07-02  0.415325  0.178731\n",
       "1992-07-03  0.126647  1.134403\n",
       "1992-07-04 -0.977053 -1.259775\n",
       "\n",
       "[184 rows x 2 columns]"
      ]
     },
     "execution_count": 45,
     "metadata": {},
     "output_type": "execute_result"
    }
   ],
   "source": [
    "time_data = pd.DataFrame(np.random.randn(len(dti),2),index=dti,columns=[\"A\",\"B\"])\n",
    "time_data"
   ]
  },
  {
   "cell_type": "markdown",
   "id": "51d7898b",
   "metadata": {},
   "source": [
    "Note that this time the temporal data has been used as the index, so `.dt` is unncessary."
   ]
  },
  {
   "cell_type": "code",
   "execution_count": 30,
   "id": "d39b6ccc",
   "metadata": {
    "scrolled": true
   },
   "outputs": [
    {
     "data": {
      "text/html": [
       "<div>\n",
       "<style scoped>\n",
       "    .dataframe tbody tr th:only-of-type {\n",
       "        vertical-align: middle;\n",
       "    }\n",
       "\n",
       "    .dataframe tbody tr th {\n",
       "        vertical-align: top;\n",
       "    }\n",
       "\n",
       "    .dataframe thead th {\n",
       "        text-align: right;\n",
       "    }\n",
       "</style>\n",
       "<table border=\"1\" class=\"dataframe\">\n",
       "  <thead>\n",
       "    <tr style=\"text-align: right;\">\n",
       "      <th></th>\n",
       "      <th>A</th>\n",
       "      <th>B</th>\n",
       "    </tr>\n",
       "  </thead>\n",
       "  <tbody>\n",
       "    <tr>\n",
       "      <th>1992-07-01</th>\n",
       "      <td>1.102884</td>\n",
       "      <td>3.085568</td>\n",
       "    </tr>\n",
       "    <tr>\n",
       "      <th>1992-07-02</th>\n",
       "      <td>-1.218488</td>\n",
       "      <td>1.078562</td>\n",
       "    </tr>\n",
       "    <tr>\n",
       "      <th>1992-07-03</th>\n",
       "      <td>0.703275</td>\n",
       "      <td>-0.017331</td>\n",
       "    </tr>\n",
       "    <tr>\n",
       "      <th>1992-07-04</th>\n",
       "      <td>-1.367606</td>\n",
       "      <td>1.688156</td>\n",
       "    </tr>\n",
       "  </tbody>\n",
       "</table>\n",
       "</div>"
      ],
      "text/plain": [
       "                   A         B\n",
       "1992-07-01  1.102884  3.085568\n",
       "1992-07-02 -1.218488  1.078562\n",
       "1992-07-03  0.703275 -0.017331\n",
       "1992-07-04 -1.367606  1.688156"
      ]
     },
     "execution_count": 30,
     "metadata": {},
     "output_type": "execute_result"
    }
   ],
   "source": [
    "time_data.loc[time_data.index.month==7]"
   ]
  },
  {
   "cell_type": "markdown",
   "id": "3efc33dd",
   "metadata": {},
   "source": [
    "As a convenience, datetime strings can also be used"
   ]
  },
  {
   "cell_type": "code",
   "execution_count": 45,
   "id": "ba16b5e5",
   "metadata": {},
   "outputs": [
    {
     "data": {
      "text/plain": [
       "A    1.102884\n",
       "B    3.085568\n",
       "Name: 1992-07-01 00:00:00, dtype: float64"
      ]
     },
     "execution_count": 45,
     "metadata": {},
     "output_type": "execute_result"
    }
   ],
   "source": [
    "time_data.loc['1992-07-01']"
   ]
  },
  {
   "cell_type": "code",
   "execution_count": 31,
   "id": "1b41bf6e",
   "metadata": {},
   "outputs": [
    {
     "data": {
      "text/html": [
       "<div>\n",
       "<style scoped>\n",
       "    .dataframe tbody tr th:only-of-type {\n",
       "        vertical-align: middle;\n",
       "    }\n",
       "\n",
       "    .dataframe tbody tr th {\n",
       "        vertical-align: top;\n",
       "    }\n",
       "\n",
       "    .dataframe thead th {\n",
       "        text-align: right;\n",
       "    }\n",
       "</style>\n",
       "<table border=\"1\" class=\"dataframe\">\n",
       "  <thead>\n",
       "    <tr style=\"text-align: right;\">\n",
       "      <th></th>\n",
       "      <th>A</th>\n",
       "      <th>B</th>\n",
       "    </tr>\n",
       "  </thead>\n",
       "  <tbody>\n",
       "    <tr>\n",
       "      <th>1992-07-01</th>\n",
       "      <td>1.102884</td>\n",
       "      <td>3.085568</td>\n",
       "    </tr>\n",
       "    <tr>\n",
       "      <th>1992-07-02</th>\n",
       "      <td>-1.218488</td>\n",
       "      <td>1.078562</td>\n",
       "    </tr>\n",
       "    <tr>\n",
       "      <th>1992-07-03</th>\n",
       "      <td>0.703275</td>\n",
       "      <td>-0.017331</td>\n",
       "    </tr>\n",
       "    <tr>\n",
       "      <th>1992-07-04</th>\n",
       "      <td>-1.367606</td>\n",
       "      <td>1.688156</td>\n",
       "    </tr>\n",
       "  </tbody>\n",
       "</table>\n",
       "</div>"
      ],
      "text/plain": [
       "                   A         B\n",
       "1992-07-01  1.102884  3.085568\n",
       "1992-07-02 -1.218488  1.078562\n",
       "1992-07-03  0.703275 -0.017331\n",
       "1992-07-04 -1.367606  1.688156"
      ]
     },
     "execution_count": 31,
     "metadata": {},
     "output_type": "execute_result"
    }
   ],
   "source": [
    "time_data.loc['1992-07']"
   ]
  },
  {
   "cell_type": "markdown",
   "id": "c98c6818",
   "metadata": {},
   "source": [
    "### Resample time data\n",
    "\n",
    "Resample the data in a new DataFrame indexed by weeks instead of days; this requires choosing an\n",
    "operation (`.mean()`) to aggregate the values for the 7 days of each week:"
   ]
  },
  {
   "cell_type": "code",
   "execution_count": 46,
   "id": "38395bf1",
   "metadata": {
    "scrolled": true
   },
   "outputs": [
    {
     "name": "stdout",
     "output_type": "stream",
     "text": [
      "27\n"
     ]
    },
    {
     "data": {
      "text/html": [
       "<div>\n",
       "<style scoped>\n",
       "    .dataframe tbody tr th:only-of-type {\n",
       "        vertical-align: middle;\n",
       "    }\n",
       "\n",
       "    .dataframe tbody tr th {\n",
       "        vertical-align: top;\n",
       "    }\n",
       "\n",
       "    .dataframe thead th {\n",
       "        text-align: right;\n",
       "    }\n",
       "</style>\n",
       "<table border=\"1\" class=\"dataframe\">\n",
       "  <thead>\n",
       "    <tr style=\"text-align: right;\">\n",
       "      <th></th>\n",
       "      <th>A</th>\n",
       "      <th>B</th>\n",
       "    </tr>\n",
       "  </thead>\n",
       "  <tbody>\n",
       "    <tr>\n",
       "      <th>1992-05-24</th>\n",
       "      <td>0.073463</td>\n",
       "      <td>0.254713</td>\n",
       "    </tr>\n",
       "    <tr>\n",
       "      <th>1992-05-31</th>\n",
       "      <td>0.299242</td>\n",
       "      <td>0.339419</td>\n",
       "    </tr>\n",
       "    <tr>\n",
       "      <th>1992-06-07</th>\n",
       "      <td>0.182525</td>\n",
       "      <td>-0.049025</td>\n",
       "    </tr>\n",
       "    <tr>\n",
       "      <th>1992-06-14</th>\n",
       "      <td>0.614016</td>\n",
       "      <td>0.511351</td>\n",
       "    </tr>\n",
       "    <tr>\n",
       "      <th>1992-06-21</th>\n",
       "      <td>0.015241</td>\n",
       "      <td>-0.406397</td>\n",
       "    </tr>\n",
       "    <tr>\n",
       "      <th>1992-06-28</th>\n",
       "      <td>-0.253471</td>\n",
       "      <td>0.166774</td>\n",
       "    </tr>\n",
       "    <tr>\n",
       "      <th>1992-07-05</th>\n",
       "      <td>0.269418</td>\n",
       "      <td>-0.175477</td>\n",
       "    </tr>\n",
       "  </tbody>\n",
       "</table>\n",
       "</div>"
      ],
      "text/plain": [
       "                   A         B\n",
       "1992-05-24  0.073463  0.254713\n",
       "1992-05-31  0.299242  0.339419\n",
       "1992-06-07  0.182525 -0.049025\n",
       "1992-06-14  0.614016  0.511351\n",
       "1992-06-21  0.015241 -0.406397\n",
       "1992-06-28 -0.253471  0.166774\n",
       "1992-07-05  0.269418 -0.175477"
      ]
     },
     "execution_count": 46,
     "metadata": {},
     "output_type": "execute_result"
    }
   ],
   "source": [
    "time_data_r = time_data.resample(\"W\")[\"A\",\"B\"].mean()\n",
    "print(len(time_data_r))\n",
    "time_data_r[-7:]"
   ]
  },
  {
   "cell_type": "markdown",
   "id": "b3a4fdea",
   "metadata": {},
   "source": [
    "The weeks in the new index are named after the last day in each week."
   ]
  },
  {
   "cell_type": "markdown",
   "id": "69962ab9",
   "metadata": {},
   "source": [
    "Note that temporally resampling the data follows a familiar script: \n",
    "\n",
    "1. The rows of the daily data are grouped into\n",
    "calender weeks of data; \n",
    "2. The mean of each group is taken for a particular column; and \n",
    "3. The results are assembled into a `DataFrame`.  \n",
    "\n",
    "This is the split/apply/combine strategy all over again. The result of the resampling step is an\n",
    "object which indexes groups of rows very much as the `GroupBy` objects we looked in `bda_pandras_intro`\n",
    "did:"
   ]
  },
  {
   "cell_type": "code",
   "execution_count": 190,
   "id": "698b1fab",
   "metadata": {},
   "outputs": [
    {
     "data": {
      "text/plain": [
       "<pandas.core.resample.DatetimeIndexResampler object at 0x7fc21876aef0>"
      ]
     },
     "execution_count": 190,
     "metadata": {},
     "output_type": "execute_result"
    }
   ],
   "source": [
    "time_data.resample(\"W\")"
   ]
  },
  {
   "cell_type": "markdown",
   "id": "5067a8eb",
   "metadata": {},
   "source": [
    "This is explored more fully in the `bda_pandas_intro_part_2` notebook, using stocks data."
   ]
  },
  {
   "cell_type": "markdown",
   "id": "40cad00c",
   "metadata": {},
   "source": [
    "### Multi-index Commands\n",
    "\n",
    "Taken from the Pandas multi-index tutorial."
   ]
  },
  {
   "cell_type": "code",
   "execution_count": 46,
   "id": "589e9012",
   "metadata": {},
   "outputs": [
    {
     "data": {
      "text/html": [
       "<div>\n",
       "<style scoped>\n",
       "    .dataframe tbody tr th:only-of-type {\n",
       "        vertical-align: middle;\n",
       "    }\n",
       "\n",
       "    .dataframe tbody tr th {\n",
       "        vertical-align: top;\n",
       "    }\n",
       "\n",
       "    .dataframe thead th {\n",
       "        text-align: right;\n",
       "    }\n",
       "</style>\n",
       "<table border=\"1\" class=\"dataframe\">\n",
       "  <thead>\n",
       "    <tr style=\"text-align: right;\">\n",
       "      <th></th>\n",
       "      <th></th>\n",
       "      <th>A</th>\n",
       "      <th>B</th>\n",
       "      <th>C</th>\n",
       "      <th>D</th>\n",
       "    </tr>\n",
       "  </thead>\n",
       "  <tbody>\n",
       "    <tr>\n",
       "      <th rowspan=\"2\" valign=\"top\">bar</th>\n",
       "      <th>one</th>\n",
       "      <td>-0.340123</td>\n",
       "      <td>-0.140130</td>\n",
       "      <td>0.338231</td>\n",
       "      <td>-0.922284</td>\n",
       "    </tr>\n",
       "    <tr>\n",
       "      <th>two</th>\n",
       "      <td>-0.671930</td>\n",
       "      <td>-1.079205</td>\n",
       "      <td>2.123702</td>\n",
       "      <td>-1.411511</td>\n",
       "    </tr>\n",
       "    <tr>\n",
       "      <th rowspan=\"2\" valign=\"top\">baz</th>\n",
       "      <th>one</th>\n",
       "      <td>-0.586698</td>\n",
       "      <td>0.151475</td>\n",
       "      <td>1.223816</td>\n",
       "      <td>-0.003500</td>\n",
       "    </tr>\n",
       "    <tr>\n",
       "      <th>two</th>\n",
       "      <td>-0.251808</td>\n",
       "      <td>-0.987930</td>\n",
       "      <td>0.145054</td>\n",
       "      <td>1.447666</td>\n",
       "    </tr>\n",
       "    <tr>\n",
       "      <th rowspan=\"2\" valign=\"top\">foo</th>\n",
       "      <th>one</th>\n",
       "      <td>0.763745</td>\n",
       "      <td>-0.231831</td>\n",
       "      <td>1.096466</td>\n",
       "      <td>1.175345</td>\n",
       "    </tr>\n",
       "    <tr>\n",
       "      <th>two</th>\n",
       "      <td>0.424787</td>\n",
       "      <td>-0.433366</td>\n",
       "      <td>0.391762</td>\n",
       "      <td>0.205134</td>\n",
       "    </tr>\n",
       "    <tr>\n",
       "      <th rowspan=\"2\" valign=\"top\">qux</th>\n",
       "      <th>one</th>\n",
       "      <td>-3.067451</td>\n",
       "      <td>-1.350756</td>\n",
       "      <td>0.438804</td>\n",
       "      <td>1.850020</td>\n",
       "    </tr>\n",
       "    <tr>\n",
       "      <th>two</th>\n",
       "      <td>-0.678922</td>\n",
       "      <td>1.158885</td>\n",
       "      <td>-0.577477</td>\n",
       "      <td>-0.250459</td>\n",
       "    </tr>\n",
       "  </tbody>\n",
       "</table>\n",
       "</div>"
      ],
      "text/plain": [
       "                A         B         C         D\n",
       "bar one -0.340123 -0.140130  0.338231 -0.922284\n",
       "    two -0.671930 -1.079205  2.123702 -1.411511\n",
       "baz one -0.586698  0.151475  1.223816 -0.003500\n",
       "    two -0.251808 -0.987930  0.145054  1.447666\n",
       "foo one  0.763745 -0.231831  1.096466  1.175345\n",
       "    two  0.424787 -0.433366  0.391762  0.205134\n",
       "qux one -3.067451 -1.350756  0.438804  1.850020\n",
       "    two -0.678922  1.158885 -0.577477 -0.250459"
      ]
     },
     "execution_count": 46,
     "metadata": {},
     "output_type": "execute_result"
    }
   ],
   "source": [
    "arrays = [\n",
    "    np.array([\"bar\", \"bar\", \"baz\", \"baz\", \"foo\", \"foo\", \"qux\", \"qux\"]),   #Outer level (level=0)\n",
    "    np.array([\"one\", \"two\", \"one\", \"two\", \"one\", \"two\", \"one\", \"two\"]),   #Inner level (level=1)\n",
    "]\n",
    "\n",
    "df3 = pd.DataFrame(np.random.randn(8, 4), index=arrays,columns=[\"A\",\"B\",\"C\",\"D\"])\n",
    "df3"
   ]
  },
  {
   "cell_type": "markdown",
   "id": "bce31bde",
   "metadata": {},
   "source": [
    "Convert inner index into columns, resulting in multilevel columns\n",
    "\n",
    "From pandas tutorial: \"Change innermost row index into lowest level of column labels.\""
   ]
  },
  {
   "cell_type": "code",
   "execution_count": 210,
   "id": "c060cc8e",
   "metadata": {
    "scrolled": true
   },
   "outputs": [
    {
     "data": {
      "text/html": [
       "<div>\n",
       "<style scoped>\n",
       "    .dataframe tbody tr th:only-of-type {\n",
       "        vertical-align: middle;\n",
       "    }\n",
       "\n",
       "    .dataframe tbody tr th {\n",
       "        vertical-align: top;\n",
       "    }\n",
       "\n",
       "    .dataframe thead tr th {\n",
       "        text-align: left;\n",
       "    }\n",
       "</style>\n",
       "<table border=\"1\" class=\"dataframe\">\n",
       "  <thead>\n",
       "    <tr>\n",
       "      <th></th>\n",
       "      <th colspan=\"2\" halign=\"left\">A</th>\n",
       "      <th colspan=\"2\" halign=\"left\">B</th>\n",
       "      <th colspan=\"2\" halign=\"left\">C</th>\n",
       "      <th colspan=\"2\" halign=\"left\">D</th>\n",
       "    </tr>\n",
       "    <tr>\n",
       "      <th></th>\n",
       "      <th>one</th>\n",
       "      <th>two</th>\n",
       "      <th>one</th>\n",
       "      <th>two</th>\n",
       "      <th>one</th>\n",
       "      <th>two</th>\n",
       "      <th>one</th>\n",
       "      <th>two</th>\n",
       "    </tr>\n",
       "  </thead>\n",
       "  <tbody>\n",
       "    <tr>\n",
       "      <th>bar</th>\n",
       "      <td>0.199489</td>\n",
       "      <td>-2.340291</td>\n",
       "      <td>0.925925</td>\n",
       "      <td>0.345419</td>\n",
       "      <td>-1.250594</td>\n",
       "      <td>-0.649030</td>\n",
       "      <td>-0.715851</td>\n",
       "      <td>0.863499</td>\n",
       "    </tr>\n",
       "    <tr>\n",
       "      <th>baz</th>\n",
       "      <td>0.333647</td>\n",
       "      <td>-0.343160</td>\n",
       "      <td>0.337047</td>\n",
       "      <td>-1.295761</td>\n",
       "      <td>-0.835772</td>\n",
       "      <td>-1.362783</td>\n",
       "      <td>-0.299229</td>\n",
       "      <td>2.079374</td>\n",
       "    </tr>\n",
       "    <tr>\n",
       "      <th>foo</th>\n",
       "      <td>-1.092304</td>\n",
       "      <td>3.217491</td>\n",
       "      <td>0.090385</td>\n",
       "      <td>-2.257533</td>\n",
       "      <td>1.545141</td>\n",
       "      <td>-0.151800</td>\n",
       "      <td>-0.222063</td>\n",
       "      <td>-1.965173</td>\n",
       "    </tr>\n",
       "    <tr>\n",
       "      <th>qux</th>\n",
       "      <td>0.417225</td>\n",
       "      <td>-0.160177</td>\n",
       "      <td>1.696412</td>\n",
       "      <td>-1.300267</td>\n",
       "      <td>-0.264894</td>\n",
       "      <td>0.389970</td>\n",
       "      <td>-1.226665</td>\n",
       "      <td>-0.822512</td>\n",
       "    </tr>\n",
       "  </tbody>\n",
       "</table>\n",
       "</div>"
      ],
      "text/plain": [
       "            A                   B                   C                   D  \\\n",
       "          one       two       one       two       one       two       one   \n",
       "bar  0.199489 -2.340291  0.925925  0.345419 -1.250594 -0.649030 -0.715851   \n",
       "baz  0.333647 -0.343160  0.337047 -1.295761 -0.835772 -1.362783 -0.299229   \n",
       "foo -1.092304  3.217491  0.090385 -2.257533  1.545141 -0.151800 -0.222063   \n",
       "qux  0.417225 -0.160177  1.696412 -1.300267 -0.264894  0.389970 -1.226665   \n",
       "\n",
       "               \n",
       "          two  \n",
       "bar  0.863499  \n",
       "baz  2.079374  \n",
       "foo -1.965173  \n",
       "qux -0.822512  "
      ]
     },
     "execution_count": 210,
     "metadata": {},
     "output_type": "execute_result"
    }
   ],
   "source": [
    "df4 = df3.unstack()\n",
    "df4"
   ]
  },
  {
   "cell_type": "markdown",
   "id": "f2e804fb",
   "metadata": {},
   "source": [
    "From pandas tutorial: \"[.stack()] change[s] lowest level of column labels into innermost row index.\" \n",
    "\n",
    "In this case that reverses what we just did:"
   ]
  },
  {
   "cell_type": "code",
   "execution_count": 211,
   "id": "97a82eae",
   "metadata": {},
   "outputs": [
    {
     "data": {
      "text/html": [
       "<div>\n",
       "<style scoped>\n",
       "    .dataframe tbody tr th:only-of-type {\n",
       "        vertical-align: middle;\n",
       "    }\n",
       "\n",
       "    .dataframe tbody tr th {\n",
       "        vertical-align: top;\n",
       "    }\n",
       "\n",
       "    .dataframe thead th {\n",
       "        text-align: right;\n",
       "    }\n",
       "</style>\n",
       "<table border=\"1\" class=\"dataframe\">\n",
       "  <thead>\n",
       "    <tr style=\"text-align: right;\">\n",
       "      <th></th>\n",
       "      <th></th>\n",
       "      <th>A</th>\n",
       "      <th>B</th>\n",
       "      <th>C</th>\n",
       "      <th>D</th>\n",
       "    </tr>\n",
       "  </thead>\n",
       "  <tbody>\n",
       "    <tr>\n",
       "      <th rowspan=\"2\" valign=\"top\">bar</th>\n",
       "      <th>one</th>\n",
       "      <td>0.199489</td>\n",
       "      <td>0.925925</td>\n",
       "      <td>-1.250594</td>\n",
       "      <td>-0.715851</td>\n",
       "    </tr>\n",
       "    <tr>\n",
       "      <th>two</th>\n",
       "      <td>-2.340291</td>\n",
       "      <td>0.345419</td>\n",
       "      <td>-0.649030</td>\n",
       "      <td>0.863499</td>\n",
       "    </tr>\n",
       "    <tr>\n",
       "      <th rowspan=\"2\" valign=\"top\">baz</th>\n",
       "      <th>one</th>\n",
       "      <td>0.333647</td>\n",
       "      <td>0.337047</td>\n",
       "      <td>-0.835772</td>\n",
       "      <td>-0.299229</td>\n",
       "    </tr>\n",
       "    <tr>\n",
       "      <th>two</th>\n",
       "      <td>-0.343160</td>\n",
       "      <td>-1.295761</td>\n",
       "      <td>-1.362783</td>\n",
       "      <td>2.079374</td>\n",
       "    </tr>\n",
       "    <tr>\n",
       "      <th rowspan=\"2\" valign=\"top\">foo</th>\n",
       "      <th>one</th>\n",
       "      <td>-1.092304</td>\n",
       "      <td>0.090385</td>\n",
       "      <td>1.545141</td>\n",
       "      <td>-0.222063</td>\n",
       "    </tr>\n",
       "    <tr>\n",
       "      <th>two</th>\n",
       "      <td>3.217491</td>\n",
       "      <td>-2.257533</td>\n",
       "      <td>-0.151800</td>\n",
       "      <td>-1.965173</td>\n",
       "    </tr>\n",
       "    <tr>\n",
       "      <th rowspan=\"2\" valign=\"top\">qux</th>\n",
       "      <th>one</th>\n",
       "      <td>0.417225</td>\n",
       "      <td>1.696412</td>\n",
       "      <td>-0.264894</td>\n",
       "      <td>-1.226665</td>\n",
       "    </tr>\n",
       "    <tr>\n",
       "      <th>two</th>\n",
       "      <td>-0.160177</td>\n",
       "      <td>-1.300267</td>\n",
       "      <td>0.389970</td>\n",
       "      <td>-0.822512</td>\n",
       "    </tr>\n",
       "  </tbody>\n",
       "</table>\n",
       "</div>"
      ],
      "text/plain": [
       "                A         B         C         D\n",
       "bar one  0.199489  0.925925 -1.250594 -0.715851\n",
       "    two -2.340291  0.345419 -0.649030  0.863499\n",
       "baz one  0.333647  0.337047 -0.835772 -0.299229\n",
       "    two -0.343160 -1.295761 -1.362783  2.079374\n",
       "foo one -1.092304  0.090385  1.545141 -0.222063\n",
       "    two  3.217491 -2.257533 -0.151800 -1.965173\n",
       "qux one  0.417225  1.696412 -0.264894 -1.226665\n",
       "    two -0.160177 -1.300267  0.389970 -0.822512"
      ]
     },
     "execution_count": 211,
     "metadata": {},
     "output_type": "execute_result"
    }
   ],
   "source": [
    "df4.stack()"
   ]
  },
  {
   "cell_type": "markdown",
   "id": "0e3336c9",
   "metadata": {},
   "source": [
    "Note that when there is only one level of columns, `.stack()`  will use that to add one level\n",
    "to the index, producing a `Series`:"
   ]
  },
  {
   "cell_type": "code",
   "execution_count": 12,
   "id": "02f55065",
   "metadata": {},
   "outputs": [
    {
     "name": "stdout",
     "output_type": "stream",
     "text": [
      "    A   B    C\n",
      "a   1  11  111\n",
      "b   2  22  222\n",
      "c   3  33  333\n",
      "aa  1  11  111\n",
      "bb  2  22  222\n",
      "cc  3  33  333\n",
      "\n",
      "<class 'pandas.core.series.Series'>\n",
      "a   A      1\n",
      "    B     11\n",
      "    C    111\n",
      "b   A      2\n",
      "    B     22\n",
      "    C    222\n",
      "c   A      3\n",
      "    B     33\n",
      "    C    333\n",
      "aa  A      1\n",
      "    B     11\n",
      "    C    111\n",
      "bb  A      2\n",
      "    B     22\n",
      "    C    222\n",
      "cc  A      3\n",
      "    B     33\n",
      "    C    333\n",
      "dtype: int64\n"
     ]
    }
   ],
   "source": [
    "print(df,end=\"\\n\\n\")\n",
    "print(type(df.stack()))\n",
    "print(df.stack())"
   ]
  },
  {
   "cell_type": "code",
   "execution_count": null,
   "id": "f1f4d1d9",
   "metadata": {},
   "outputs": [],
   "source": []
  }
 ],
 "metadata": {
  "kernelspec": {
   "display_name": "Python 3 (ipykernel)",
   "language": "python",
   "name": "python3"
  },
  "language_info": {
   "codemirror_mode": {
    "name": "ipython",
    "version": 3
   },
   "file_extension": ".py",
   "mimetype": "text/x-python",
   "name": "python",
   "nbconvert_exporter": "python",
   "pygments_lexer": "ipython3",
   "version": "3.10.6"
  }
 },
 "nbformat": 4,
 "nbformat_minor": 5
}
