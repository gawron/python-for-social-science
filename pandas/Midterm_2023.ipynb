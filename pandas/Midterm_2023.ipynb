{
 "cells": [
  {
   "cell_type": "markdown",
   "id": "f21b38e4",
   "metadata": {},
   "source": [
    "## Midterm 2023"
   ]
  },
  {
   "cell_type": "markdown",
   "id": "6ae411fb",
   "metadata": {},
   "source": [
    "This midterm has not yet been completed."
   ]
  },
  {
   "cell_type": "code",
   "execution_count": null,
   "id": "ba9fc8c6",
   "metadata": {},
   "outputs": [],
   "source": []
  }
 ],
 "metadata": {
  "kernelspec": {
   "display_name": "Python 3 (ipykernel)",
   "language": "python",
   "name": "python3"
  },
  "language_info": {
   "codemirror_mode": {
    "name": "ipython",
    "version": 3
   },
   "file_extension": ".py",
   "mimetype": "text/x-python",
   "name": "python",
   "nbconvert_exporter": "python",
   "pygments_lexer": "ipython3",
   "version": "3.10.6"
  }
 },
 "nbformat": 4,
 "nbformat_minor": 5
}
