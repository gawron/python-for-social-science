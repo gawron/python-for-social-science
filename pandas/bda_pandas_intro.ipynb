{
 "cells": [
  {
   "cell_type": "markdown",
   "metadata": {
    "id": "6f3pb4n-FgQ3"
   },
   "source": [
    "[![Open In Colab](https://colab.research.google.com/assets/colab-badge.svg)](https://colab.research.google.com/github/gawron/python-for-social-science/blob/master/pandas/general_pandas_intro.ipynb)"
   ]
  },
  {
   "cell_type": "markdown",
   "metadata": {
    "id": "AcDb1ccxACXT"
   },
   "source": [
    "The goal of this notebook is to introduce the two main `pandas` data types, `DataFrame`  and `Series`, and to introduce to some basic\n",
    "analytical tools, pivot tables, cross tabulations, and grouping. For much more detailed background on Pandas data structures, see http://pandas.pydata.org/pandas-docs/dev/dsintro.html."
   ]
  },
  {
   "cell_type": "code",
   "execution_count": 1,
   "metadata": {
    "id": "POLAnAWXACXY"
   },
   "outputs": [],
   "source": [
    "# Import all libraries needed for the tutorial\n",
    "\n",
    "##import (library) as (give the library a nickname/alias)\n",
    "import numpy as np\n",
    "import pandas as pd  \n",
    "# General syntax to import specific functions in a library: \n",
    "##from (library) import (specific library function)\n",
    "from pandas import DataFrame, read_csv\n",
    "\n",
    "# The usual preamble when using matplotlib. \n",
    "# Most of the code we call is in pyplot.\n",
    "import matplotlib.pyplot as plt\n",
    "\n",
    "# Make the graphs a bit prettier, and bigger\n",
    "#pd.set_option('display.mpl_style', 'default') \n",
    "pd.set_option('display.width', 5000) \n",
    "pd.set_option('display.max_columns', 60)"
   ]
  },
  {
   "cell_type": "markdown",
   "metadata": {},
   "source": [
    "This notebook was prepared with the following version\n",
    "of `pandas`.   The sort of basic functionality illustrated here\n",
    "shouldn;'t change much from version, but if do have issues reproducing\n",
    "what's in this notebook, re-execute the next cell and see\n",
    "if there's a change.  Report the version of pandas you used when reporting\n",
    "an issue."
   ]
  },
  {
   "cell_type": "code",
   "execution_count": 2,
   "metadata": {
    "colab": {
     "base_uri": "https://localhost:8080/"
    },
    "id": "g8JSDj_uACXl",
    "outputId": "9481ca22-02b3-490d-e336-a9352c059ab5"
   },
   "outputs": [
    {
     "name": "stdout",
     "output_type": "stream",
     "text": [
      "Pandas version 1.5.0\n"
     ]
    }
   ],
   "source": [
    "print(f'Pandas version {pd.__version__}')"
   ]
  },
  {
   "cell_type": "markdown",
   "metadata": {
    "id": "x0gSogHFACXn"
   },
   "source": [
    "# Create Toy Data  \n",
    "\n",
    "Let's start with a toy dataset, then we'll ramp up.\n",
    "\n",
    "The data set will consist of 5 baby names and the number of births recorded for a particular year (1880, as it happens)."
   ]
  },
  {
   "cell_type": "markdown",
   "metadata": {},
   "source": [
    "**Continuity note**: *This NB combines elements of general_pandas_intro.ipynb with pandas.ipynb and supercedes both of them.**"
   ]
  },
  {
   "cell_type": "code",
   "execution_count": 3,
   "metadata": {
    "id": "MVLGI1XOACXo"
   },
   "outputs": [],
   "source": [
    "# The initial set of baby names and birth rates\n",
    "names = ['Bob','Jessica','Mary','John','Mel','Mel']\n",
    "gender = ['M','F','F','M','M','F']\n",
    "births = [968, 155, 77, 578, 973,45]"
   ]
  },
  {
   "cell_type": "markdown",
   "metadata": {
    "id": "NwPr3i1YACXq"
   },
   "source": [
    "To merge these two lists together we will use the ***zip*** function."
   ]
  },
  {
   "cell_type": "code",
   "execution_count": 4,
   "metadata": {
    "colab": {
     "base_uri": "https://localhost:8080/"
    },
    "id": "u5GEqd1xACXq",
    "outputId": "3199bdc8-9626-4e5a-a91a-02bcdd26a96d"
   },
   "outputs": [
    {
     "name": "stdout",
     "output_type": "stream",
     "text": [
      "[('Bob', 'M', 968), ('Jessica', 'F', 155), ('Mary', 'F', 77), ('John', 'M', 578), ('Mel', 'M', 973), ('Mel', 'F', 45)]\n"
     ]
    }
   ],
   "source": [
    "BabyDataSet = list(zip(names,gender,births))\n",
    "print(BabyDataSet)"
   ]
  },
  {
   "cell_type": "markdown",
   "metadata": {
    "id": "jFBtfhT7ACXs"
   },
   "source": [
    "We next create a DataFrame.\n",
    "\n",
    "***df*** will be a ***DataFrame*** object. You can think of this object holding the contents of the BabyDataSet in a format similar to a sql table or an excel spreadsheet. Lets take a look below at the contents inside ***df***."
   ]
  },
  {
   "cell_type": "code",
   "execution_count": 5,
   "metadata": {
    "colab": {
     "base_uri": "https://localhost:8080/",
     "height": 206
    },
    "id": "Q9g9ybq5ACXt",
    "outputId": "e8b56c07-f172-444e-a24f-e347956079aa",
    "scrolled": true
   },
   "outputs": [
    {
     "data": {
      "text/html": [
       "<div>\n",
       "<style scoped>\n",
       "    .dataframe tbody tr th:only-of-type {\n",
       "        vertical-align: middle;\n",
       "    }\n",
       "\n",
       "    .dataframe tbody tr th {\n",
       "        vertical-align: top;\n",
       "    }\n",
       "\n",
       "    .dataframe thead th {\n",
       "        text-align: right;\n",
       "    }\n",
       "</style>\n",
       "<table border=\"1\" class=\"dataframe\">\n",
       "  <thead>\n",
       "    <tr style=\"text-align: right;\">\n",
       "      <th></th>\n",
       "      <th>Names</th>\n",
       "      <th>Gender</th>\n",
       "      <th>Births</th>\n",
       "    </tr>\n",
       "  </thead>\n",
       "  <tbody>\n",
       "    <tr>\n",
       "      <th>b</th>\n",
       "      <td>Bob</td>\n",
       "      <td>M</td>\n",
       "      <td>968</td>\n",
       "    </tr>\n",
       "    <tr>\n",
       "      <th>c</th>\n",
       "      <td>Jessica</td>\n",
       "      <td>F</td>\n",
       "      <td>155</td>\n",
       "    </tr>\n",
       "    <tr>\n",
       "      <th>e</th>\n",
       "      <td>Mary</td>\n",
       "      <td>F</td>\n",
       "      <td>77</td>\n",
       "    </tr>\n",
       "    <tr>\n",
       "      <th>a</th>\n",
       "      <td>John</td>\n",
       "      <td>M</td>\n",
       "      <td>578</td>\n",
       "    </tr>\n",
       "    <tr>\n",
       "      <th>d</th>\n",
       "      <td>Mel</td>\n",
       "      <td>M</td>\n",
       "      <td>973</td>\n",
       "    </tr>\n",
       "    <tr>\n",
       "      <th>f</th>\n",
       "      <td>Mel</td>\n",
       "      <td>F</td>\n",
       "      <td>45</td>\n",
       "    </tr>\n",
       "  </tbody>\n",
       "</table>\n",
       "</div>"
      ],
      "text/plain": [
       "     Names Gender  Births\n",
       "b      Bob      M     968\n",
       "c  Jessica      F     155\n",
       "e     Mary      F      77\n",
       "a     John      M     578\n",
       "d      Mel      M     973\n",
       "f      Mel      F      45"
      ]
     },
     "execution_count": 5,
     "metadata": {},
     "output_type": "execute_result"
    }
   ],
   "source": [
    "df = DataFrame(data = BabyDataSet, columns=['Names', 'Gender', 'Births'],index = ['b','c','e','a','d','f'])\n",
    "df"
   ]
  },
  {
   "cell_type": "markdown",
   "metadata": {},
   "source": [
    "This `pandas` `DataFrame`\n",
    "consists of 6 rows and 3 columns.  The letters along the left edge are the **index**.  The index provides names or **handles** for the rows.  The column names provide handles for the columns."
   ]
  },
  {
   "cell_type": "markdown",
   "metadata": {},
   "source": [
    "One way to think of a `DataFrame` is as something like a `numpy` 2D array which uses keyword indexing\n",
    "instead of positional indexing.  Thus instead of thinking of the item `Mary` as being in the  row\n",
    "indexed by 2 and the column indexed by 0, we think of it as being in the row indexed by `e` and the column\n",
    "indexed by `Names`.  \n",
    "\n",
    "The row handles (or index) of a `DataFrame` are both sequences to which\n",
    "users can have access.  Both contain strings in our example, though\n",
    "indexes can have more complicated objects (such as time instances)."
   ]
  },
  {
   "cell_type": "code",
   "execution_count": 6,
   "metadata": {},
   "outputs": [
    {
     "data": {
      "text/plain": [
       "Index(['b', 'c', 'e', 'a', 'd', 'f'], dtype='object')"
      ]
     },
     "execution_count": 6,
     "metadata": {},
     "output_type": "execute_result"
    }
   ],
   "source": [
    "df.index"
   ]
  },
  {
   "cell_type": "code",
   "execution_count": 7,
   "metadata": {},
   "outputs": [
    {
     "data": {
      "text/plain": [
       "Index(['Names', 'Gender', 'Births'], dtype='object')"
      ]
     },
     "execution_count": 7,
     "metadata": {},
     "output_type": "execute_result"
    }
   ],
   "source": [
    "df.columns"
   ]
  },
  {
   "cell_type": "markdown",
   "metadata": {},
   "source": [
    "# A Column is a Series"
   ]
  },
  {
   "cell_type": "markdown",
   "metadata": {},
   "source": [
    "To explore the idea of  a `DataFrame` as a keyword-indexed 2D array, let's first look at a 1D object\n",
    "in `pandas`, a single column.\n",
    "\n",
    "Columns in a pandas `DataFrame` are indexed by the column name:"
   ]
  },
  {
   "cell_type": "code",
   "execution_count": 8,
   "metadata": {},
   "outputs": [
    {
     "data": {
      "text/plain": [
       "b        Bob\n",
       "c    Jessica\n",
       "e       Mary\n",
       "a       John\n",
       "d        Mel\n",
       "f        Mel\n",
       "Name: Names, dtype: object"
      ]
     },
     "execution_count": 8,
     "metadata": {},
     "output_type": "execute_result"
    }
   ],
   "source": [
    "names_col = df['Names']\n",
    "names_col"
   ]
  },
  {
   "cell_type": "markdown",
   "metadata": {},
   "source": [
    "As the output shows, the row handles are part of the column object.\n",
    "so the element  `Mary` can be accessed by handle  `e`."
   ]
  },
  {
   "cell_type": "code",
   "execution_count": 9,
   "metadata": {},
   "outputs": [
    {
     "data": {
      "text/plain": [
       "'Mary'"
      ]
     },
     "execution_count": 9,
     "metadata": {},
     "output_type": "execute_result"
    }
   ],
   "source": [
    "names_col['e']"
   ]
  },
  {
   "cell_type": "markdown",
   "metadata": {},
   "source": [
    "So a column is an object like a `numpy` 1D array, but indexed by handles like `b` and `e`."
   ]
  },
  {
   "cell_type": "markdown",
   "metadata": {},
   "source": [
    "The data type of a column in `pandas` is `Series`. "
   ]
  },
  {
   "cell_type": "markdown",
   "metadata": {
    "id": "v2q_VpQ-ACXR"
   },
   "source": [
    "# Pandas Introduction"
   ]
  },
  {
   "cell_type": "code",
   "execution_count": 10,
   "metadata": {
    "scrolled": true
   },
   "outputs": [
    {
     "data": {
      "text/plain": [
       "pandas.core.series.Series"
      ]
     },
     "execution_count": 10,
     "metadata": {},
     "output_type": "execute_result"
    }
   ],
   "source": [
    "type(df['Names'])"
   ]
  },
  {
   "cell_type": "markdown",
   "metadata": {},
   "source": [
    "The natural question to ask next is: Are rows also 1D objects in `pandas`?  And the answer is yes.\n",
    "\n",
    "We demonstrate that next."
   ]
  },
  {
   "cell_type": "markdown",
   "metadata": {},
   "source": [
    "# Selecting rows"
   ]
  },
  {
   "cell_type": "markdown",
   "metadata": {},
   "source": [
    "The simplest way of selecting a `pandas` row is via the `.loc` attribute:"
   ]
  },
  {
   "cell_type": "markdown",
   "metadata": {},
   "source": [
    "Given a Dataframe and a row handle, `df.loc[RowName]` returns the row:"
   ]
  },
  {
   "cell_type": "code",
   "execution_count": 11,
   "metadata": {
    "scrolled": true
   },
   "outputs": [
    {
     "data": {
      "text/plain": [
       "Names     Mary\n",
       "Gender       F\n",
       "Births      77\n",
       "Name: e, dtype: object"
      ]
     },
     "execution_count": 11,
     "metadata": {},
     "output_type": "execute_result"
    }
   ],
   "source": [
    "e_row = df.loc['e']\n",
    "e_row"
   ]
  },
  {
   "cell_type": "markdown",
   "metadata": {},
   "source": [
    "As promised, this too is a `Series`."
   ]
  },
  {
   "cell_type": "code",
   "execution_count": 12,
   "metadata": {},
   "outputs": [
    {
     "data": {
      "text/plain": [
       "pandas.core.series.Series"
      ]
     },
     "execution_count": 12,
     "metadata": {},
     "output_type": "execute_result"
    }
   ],
   "source": [
    "type(e_row)"
   ]
  },
  {
   "cell_type": "markdown",
   "metadata": {},
   "source": [
    "Again it comes with handles for its elements.  In this case those handles are column\n",
    "names:"
   ]
  },
  {
   "cell_type": "code",
   "execution_count": 13,
   "metadata": {},
   "outputs": [
    {
     "data": {
      "text/plain": [
       "'Mary'"
      ]
     },
     "execution_count": 13,
     "metadata": {},
     "output_type": "execute_result"
    }
   ],
   "source": [
    "e_row['Names']"
   ]
  },
  {
   "cell_type": "markdown",
   "metadata": {},
   "source": [
    "The `.loc` method was needed to define `e_row` because the `df[keyword]` syntax is reserved for the case\n",
    "where `keyword` is a column name.  Thus"
   ]
  },
  {
   "cell_type": "code",
   "execution_count": 24,
   "metadata": {},
   "outputs": [],
   "source": [
    "# This produces a KeyError because 'e' is not a column name.\n",
    "# df['e']"
   ]
  },
  {
   "cell_type": "markdown",
   "metadata": {},
   "source": [
    "We've now seen two different ways to access the same `DataFrame` element `Mary`:"
   ]
  },
  {
   "cell_type": "code",
   "execution_count": 14,
   "metadata": {
    "scrolled": true
   },
   "outputs": [
    {
     "data": {
      "text/plain": [
       "'Mary'"
      ]
     },
     "execution_count": 14,
     "metadata": {},
     "output_type": "execute_result"
    }
   ],
   "source": [
    "df['Names']['e']"
   ]
  },
  {
   "cell_type": "markdown",
   "metadata": {},
   "source": [
    "Call the notation in the previous cell -- Column handle first, then row handle -- **native pandas\n",
    "notation**.  In this notation,\n",
    "the DataFrame is like a dictionary whose keys are column handles, the columns are dictionaries\n",
    "whose keys are row handles.\n",
    "\n",
    "We then introduced `.loc`."
   ]
  },
  {
   "cell_type": "code",
   "execution_count": 15,
   "metadata": {
    "scrolled": true
   },
   "outputs": [
    {
     "data": {
      "text/plain": [
       "'Mary'"
      ]
     },
     "execution_count": 15,
     "metadata": {},
     "output_type": "execute_result"
    }
   ],
   "source": [
    "df.loc['e']['Names']"
   ]
  },
  {
   "cell_type": "markdown",
   "metadata": {},
   "source": [
    "Call the notation with `.loc[]`  **numpy-like notation**.  The idea is that expressions with  `.loc[]` work like numpy with keyword indexing instead of positional indexing. First row, then column. So the numpy analogue of the syntax in the last cell is"
   ]
  },
  {
   "cell_type": "code",
   "execution_count": 18,
   "metadata": {},
   "outputs": [
    {
     "name": "stdout",
     "output_type": "stream",
     "text": [
      "a:\n",
      " [[ 0  1  2  3]\n",
      " [ 4  5  6  7]\n",
      " [ 8  9 10 11]]\n",
      "r=2, c=3 val=11\n",
      "a[r][c]= 11\n"
     ]
    }
   ],
   "source": [
    "a = np.arange(12).reshape((3,4))\n",
    "print(\"a:\\n\",a)\n",
    "\n",
    "r,c,val=2,3,11\n",
    "print(f'{r=}, {c=} {val=}')\n",
    "\n",
    "print(f'{a[r][c]=: 3d}')"
   ]
  },
  {
   "cell_type": "markdown",
   "metadata": {},
   "source": [
    "The analogy can be pushed much further.  Numpy also allows:"
   ]
  },
  {
   "cell_type": "code",
   "execution_count": 19,
   "metadata": {},
   "outputs": [
    {
     "data": {
      "text/plain": [
       "11"
      ]
     },
     "execution_count": 19,
     "metadata": {},
     "output_type": "execute_result"
    }
   ],
   "source": [
    "a[r,c]"
   ]
  },
  {
   "cell_type": "markdown",
   "metadata": {},
   "source": [
    "Paralleling that in `pandas`, using `.loc[]`, we have:"
   ]
  },
  {
   "cell_type": "code",
   "execution_count": 20,
   "metadata": {},
   "outputs": [
    {
     "data": {
      "text/plain": [
       "'Mary'"
      ]
     },
     "execution_count": 20,
     "metadata": {},
     "output_type": "execute_result"
    }
   ],
   "source": [
    "df.loc['e','Names']"
   ]
  },
  {
   "cell_type": "markdown",
   "metadata": {},
   "source": [
    "Another similarity  with `numpy` when we use `.loc` is that we can do slicing.\n",
    "\n",
    "Repeating `df`:"
   ]
  },
  {
   "cell_type": "code",
   "execution_count": 21,
   "metadata": {
    "scrolled": true
   },
   "outputs": [
    {
     "data": {
      "text/html": [
       "<div>\n",
       "<style scoped>\n",
       "    .dataframe tbody tr th:only-of-type {\n",
       "        vertical-align: middle;\n",
       "    }\n",
       "\n",
       "    .dataframe tbody tr th {\n",
       "        vertical-align: top;\n",
       "    }\n",
       "\n",
       "    .dataframe thead th {\n",
       "        text-align: right;\n",
       "    }\n",
       "</style>\n",
       "<table border=\"1\" class=\"dataframe\">\n",
       "  <thead>\n",
       "    <tr style=\"text-align: right;\">\n",
       "      <th></th>\n",
       "      <th>Names</th>\n",
       "      <th>Gender</th>\n",
       "      <th>Births</th>\n",
       "    </tr>\n",
       "  </thead>\n",
       "  <tbody>\n",
       "    <tr>\n",
       "      <th>b</th>\n",
       "      <td>Bob</td>\n",
       "      <td>M</td>\n",
       "      <td>968</td>\n",
       "    </tr>\n",
       "    <tr>\n",
       "      <th>c</th>\n",
       "      <td>Jessica</td>\n",
       "      <td>F</td>\n",
       "      <td>155</td>\n",
       "    </tr>\n",
       "    <tr>\n",
       "      <th>e</th>\n",
       "      <td>Mary</td>\n",
       "      <td>F</td>\n",
       "      <td>77</td>\n",
       "    </tr>\n",
       "    <tr>\n",
       "      <th>a</th>\n",
       "      <td>John</td>\n",
       "      <td>M</td>\n",
       "      <td>578</td>\n",
       "    </tr>\n",
       "    <tr>\n",
       "      <th>d</th>\n",
       "      <td>Mel</td>\n",
       "      <td>M</td>\n",
       "      <td>973</td>\n",
       "    </tr>\n",
       "    <tr>\n",
       "      <th>f</th>\n",
       "      <td>Mel</td>\n",
       "      <td>F</td>\n",
       "      <td>45</td>\n",
       "    </tr>\n",
       "  </tbody>\n",
       "</table>\n",
       "</div>"
      ],
      "text/plain": [
       "     Names Gender  Births\n",
       "b      Bob      M     968\n",
       "c  Jessica      F     155\n",
       "e     Mary      F      77\n",
       "a     John      M     578\n",
       "d      Mel      M     973\n",
       "f      Mel      F      45"
      ]
     },
     "execution_count": 21,
     "metadata": {},
     "output_type": "execute_result"
    }
   ],
   "source": [
    "df"
   ]
  },
  {
   "cell_type": "markdown",
   "metadata": {},
   "source": [
    "we take a row slice:"
   ]
  },
  {
   "cell_type": "code",
   "execution_count": 22,
   "metadata": {
    "scrolled": true
   },
   "outputs": [
    {
     "name": "stdout",
     "output_type": "stream",
     "text": [
      "     Names Gender  Births\n",
      "c  Jessica      F     155\n",
      "e     Mary      F      77\n",
      "a     John      M     578\n"
     ]
    },
    {
     "data": {
      "text/plain": [
       "pandas.core.frame.DataFrame"
      ]
     },
     "execution_count": 22,
     "metadata": {},
     "output_type": "execute_result"
    }
   ],
   "source": [
    "print(df.loc['c':'a'])\n",
    "type(df.loc['c':'a'])"
   ]
  },
  {
   "cell_type": "markdown",
   "metadata": {},
   "source": [
    "We get a sub-`DataFrame` starting up at row `c`, going up to and including row `e`.\n",
    "\n",
    "What's a little surprising here is that we got 3 rows, where from all our experience\n",
    "with normal Python slices, we would expect 2.  This is not a bug; the motivation\n",
    "is that we are not indexing by position, but by the names of elements\n",
    "in the index.  When you want to get a slice that goes from row `c` to row `a`,\n",
    "all you have to know is those two names; if we had to use the same convention\n",
    "used with slicing by position, we would also have to know the name of the\n",
    "row following `a`, which isn't in general preductable."
   ]
  },
  {
   "cell_type": "markdown",
   "metadata": {},
   "source": [
    "As with `numpy` we can also slice along the column-axis."
   ]
  },
  {
   "cell_type": "code",
   "execution_count": 15,
   "metadata": {},
   "outputs": [
    {
     "data": {
      "text/html": [
       "<div>\n",
       "<style scoped>\n",
       "    .dataframe tbody tr th:only-of-type {\n",
       "        vertical-align: middle;\n",
       "    }\n",
       "\n",
       "    .dataframe tbody tr th {\n",
       "        vertical-align: top;\n",
       "    }\n",
       "\n",
       "    .dataframe thead th {\n",
       "        text-align: right;\n",
       "    }\n",
       "</style>\n",
       "<table border=\"1\" class=\"dataframe\">\n",
       "  <thead>\n",
       "    <tr style=\"text-align: right;\">\n",
       "      <th></th>\n",
       "      <th>Gender</th>\n",
       "      <th>Births</th>\n",
       "    </tr>\n",
       "  </thead>\n",
       "  <tbody>\n",
       "    <tr>\n",
       "      <th>b</th>\n",
       "      <td>M</td>\n",
       "      <td>968</td>\n",
       "    </tr>\n",
       "    <tr>\n",
       "      <th>c</th>\n",
       "      <td>F</td>\n",
       "      <td>155</td>\n",
       "    </tr>\n",
       "    <tr>\n",
       "      <th>e</th>\n",
       "      <td>F</td>\n",
       "      <td>77</td>\n",
       "    </tr>\n",
       "    <tr>\n",
       "      <th>a</th>\n",
       "      <td>M</td>\n",
       "      <td>578</td>\n",
       "    </tr>\n",
       "    <tr>\n",
       "      <th>d</th>\n",
       "      <td>M</td>\n",
       "      <td>973</td>\n",
       "    </tr>\n",
       "    <tr>\n",
       "      <th>f</th>\n",
       "      <td>F</td>\n",
       "      <td>45</td>\n",
       "    </tr>\n",
       "  </tbody>\n",
       "</table>\n",
       "</div>"
      ],
      "text/plain": [
       "  Gender  Births\n",
       "b      M     968\n",
       "c      F     155\n",
       "e      F      77\n",
       "a      M     578\n",
       "d      M     973\n",
       "f      F      45"
      ]
     },
     "execution_count": 15,
     "metadata": {},
     "output_type": "execute_result"
    }
   ],
   "source": [
    "df.loc[:,'Gender':'Births']"
   ]
  },
  {
   "cell_type": "markdown",
   "metadata": {},
   "source": [
    "We can also do the `pandas` equivalent equivalent of fancy indexing in `numpy`:  Pass\n",
    "in a sequence or row handles to get a subset of the rows:"
   ]
  },
  {
   "cell_type": "code",
   "execution_count": 23,
   "metadata": {},
   "outputs": [
    {
     "data": {
      "text/html": [
       "<div>\n",
       "<style scoped>\n",
       "    .dataframe tbody tr th:only-of-type {\n",
       "        vertical-align: middle;\n",
       "    }\n",
       "\n",
       "    .dataframe tbody tr th {\n",
       "        vertical-align: top;\n",
       "    }\n",
       "\n",
       "    .dataframe thead th {\n",
       "        text-align: right;\n",
       "    }\n",
       "</style>\n",
       "<table border=\"1\" class=\"dataframe\">\n",
       "  <thead>\n",
       "    <tr style=\"text-align: right;\">\n",
       "      <th></th>\n",
       "      <th>Names</th>\n",
       "      <th>Gender</th>\n",
       "      <th>Births</th>\n",
       "    </tr>\n",
       "  </thead>\n",
       "  <tbody>\n",
       "    <tr>\n",
       "      <th>b</th>\n",
       "      <td>Bob</td>\n",
       "      <td>M</td>\n",
       "      <td>968</td>\n",
       "    </tr>\n",
       "    <tr>\n",
       "      <th>c</th>\n",
       "      <td>Jessica</td>\n",
       "      <td>F</td>\n",
       "      <td>155</td>\n",
       "    </tr>\n",
       "    <tr>\n",
       "      <th>f</th>\n",
       "      <td>Mel</td>\n",
       "      <td>F</td>\n",
       "      <td>45</td>\n",
       "    </tr>\n",
       "  </tbody>\n",
       "</table>\n",
       "</div>"
      ],
      "text/plain": [
       "     Names Gender  Births\n",
       "b      Bob      M     968\n",
       "c  Jessica      F     155\n",
       "f      Mel      F      45"
      ]
     },
     "execution_count": 23,
     "metadata": {},
     "output_type": "execute_result"
    }
   ],
   "source": [
    "df.loc[['b','c','f']]"
   ]
  },
  {
   "cell_type": "markdown",
   "metadata": {},
   "source": [
    "As with `numpy` the extra set of square brackets is required.\n",
    "\n",
    "And of course we can do fancy-indexing with columns as well.    The following command creates a new DataFrame\n",
    "omitting the gender column:"
   ]
  },
  {
   "cell_type": "code",
   "execution_count": 24,
   "metadata": {},
   "outputs": [
    {
     "data": {
      "text/html": [
       "<div>\n",
       "<style scoped>\n",
       "    .dataframe tbody tr th:only-of-type {\n",
       "        vertical-align: middle;\n",
       "    }\n",
       "\n",
       "    .dataframe tbody tr th {\n",
       "        vertical-align: top;\n",
       "    }\n",
       "\n",
       "    .dataframe thead th {\n",
       "        text-align: right;\n",
       "    }\n",
       "</style>\n",
       "<table border=\"1\" class=\"dataframe\">\n",
       "  <thead>\n",
       "    <tr style=\"text-align: right;\">\n",
       "      <th></th>\n",
       "      <th>Names</th>\n",
       "      <th>Births</th>\n",
       "    </tr>\n",
       "  </thead>\n",
       "  <tbody>\n",
       "    <tr>\n",
       "      <th>b</th>\n",
       "      <td>Bob</td>\n",
       "      <td>968</td>\n",
       "    </tr>\n",
       "    <tr>\n",
       "      <th>c</th>\n",
       "      <td>Jessica</td>\n",
       "      <td>155</td>\n",
       "    </tr>\n",
       "    <tr>\n",
       "      <th>e</th>\n",
       "      <td>Mary</td>\n",
       "      <td>77</td>\n",
       "    </tr>\n",
       "    <tr>\n",
       "      <th>a</th>\n",
       "      <td>John</td>\n",
       "      <td>578</td>\n",
       "    </tr>\n",
       "    <tr>\n",
       "      <th>d</th>\n",
       "      <td>Mel</td>\n",
       "      <td>973</td>\n",
       "    </tr>\n",
       "    <tr>\n",
       "      <th>f</th>\n",
       "      <td>Mel</td>\n",
       "      <td>45</td>\n",
       "    </tr>\n",
       "  </tbody>\n",
       "</table>\n",
       "</div>"
      ],
      "text/plain": [
       "     Names  Births\n",
       "b      Bob     968\n",
       "c  Jessica     155\n",
       "e     Mary      77\n",
       "a     John     578\n",
       "d      Mel     973\n",
       "f      Mel      45"
      ]
     },
     "execution_count": 24,
     "metadata": {},
     "output_type": "execute_result"
    }
   ],
   "source": [
    "df.loc[:,['Names','Births']]"
   ]
  },
  {
   "cell_type": "markdown",
   "metadata": {},
   "source": []
  },
  {
   "cell_type": "markdown",
   "metadata": {},
   "source": [
    "So we have indexing by keyword and two \n",
    "different ways of specifying it,\n",
    "native-Pandas natation and numpy-like notation using `.loc[]`.\n",
    "Does all this mean positional indexing is completely abandoned in `pandas`?\n",
    "\n",
    "No, as we will see, it's possible, and it's sometimes essential."
   ]
  },
  {
   "cell_type": "markdown",
   "metadata": {},
   "source": [
    "# Boolean conditions"
   ]
  },
  {
   "cell_type": "markdown",
   "metadata": {},
   "source": [
    "The most comon way of selecting rows is with a Boolean sequence."
   ]
  },
  {
   "cell_type": "markdown",
   "metadata": {},
   "source": [
    "For example, we can select the first, second and fifth rows directly as follows."
   ]
  },
  {
   "cell_type": "code",
   "execution_count": 30,
   "metadata": {},
   "outputs": [
    {
     "data": {
      "text/html": [
       "<div>\n",
       "<style scoped>\n",
       "    .dataframe tbody tr th:only-of-type {\n",
       "        vertical-align: middle;\n",
       "    }\n",
       "\n",
       "    .dataframe tbody tr th {\n",
       "        vertical-align: top;\n",
       "    }\n",
       "\n",
       "    .dataframe thead th {\n",
       "        text-align: right;\n",
       "    }\n",
       "</style>\n",
       "<table border=\"1\" class=\"dataframe\">\n",
       "  <thead>\n",
       "    <tr style=\"text-align: right;\">\n",
       "      <th></th>\n",
       "      <th>Names</th>\n",
       "      <th>Gender</th>\n",
       "      <th>Births</th>\n",
       "    </tr>\n",
       "  </thead>\n",
       "  <tbody>\n",
       "    <tr>\n",
       "      <th>b</th>\n",
       "      <td>Bob</td>\n",
       "      <td>M</td>\n",
       "      <td>968</td>\n",
       "    </tr>\n",
       "    <tr>\n",
       "      <th>c</th>\n",
       "      <td>Jessica</td>\n",
       "      <td>F</td>\n",
       "      <td>155</td>\n",
       "    </tr>\n",
       "    <tr>\n",
       "      <th>d</th>\n",
       "      <td>Mel</td>\n",
       "      <td>M</td>\n",
       "      <td>973</td>\n",
       "    </tr>\n",
       "  </tbody>\n",
       "</table>\n",
       "</div>"
      ],
      "text/plain": [
       "     Names Gender  Births\n",
       "b      Bob      M     968\n",
       "c  Jessica      F     155\n",
       "d      Mel      M     973"
      ]
     },
     "execution_count": 30,
     "metadata": {},
     "output_type": "execute_result"
    }
   ],
   "source": [
    "df[[True,True,False,False,True,False]]"
   ]
  },
  {
   "cell_type": "markdown",
   "metadata": {},
   "source": [
    "Or we can use a Boolean Series constructed from a Boolean condition on column values."
   ]
  },
  {
   "cell_type": "code",
   "execution_count": 31,
   "metadata": {
    "scrolled": false
   },
   "outputs": [
    {
     "data": {
      "text/html": [
       "<div>\n",
       "<style scoped>\n",
       "    .dataframe tbody tr th:only-of-type {\n",
       "        vertical-align: middle;\n",
       "    }\n",
       "\n",
       "    .dataframe tbody tr th {\n",
       "        vertical-align: top;\n",
       "    }\n",
       "\n",
       "    .dataframe thead th {\n",
       "        text-align: right;\n",
       "    }\n",
       "</style>\n",
       "<table border=\"1\" class=\"dataframe\">\n",
       "  <thead>\n",
       "    <tr style=\"text-align: right;\">\n",
       "      <th></th>\n",
       "      <th>Names</th>\n",
       "      <th>Gender</th>\n",
       "      <th>Births</th>\n",
       "    </tr>\n",
       "  </thead>\n",
       "  <tbody>\n",
       "    <tr>\n",
       "      <th>d</th>\n",
       "      <td>Mel</td>\n",
       "      <td>M</td>\n",
       "      <td>973</td>\n",
       "    </tr>\n",
       "    <tr>\n",
       "      <th>f</th>\n",
       "      <td>Mel</td>\n",
       "      <td>F</td>\n",
       "      <td>45</td>\n",
       "    </tr>\n",
       "  </tbody>\n",
       "</table>\n",
       "</div>"
      ],
      "text/plain": [
       "  Names Gender  Births\n",
       "d   Mel      M     973\n",
       "f   Mel      F      45"
      ]
     },
     "execution_count": 31,
     "metadata": {},
     "output_type": "execute_result"
    }
   ],
   "source": [
    "df[df['Names']=='Mel']"
   ]
  },
  {
   "cell_type": "markdown",
   "metadata": {},
   "source": [
    "This can also be written"
   ]
  },
  {
   "cell_type": "code",
   "execution_count": 32,
   "metadata": {},
   "outputs": [
    {
     "data": {
      "text/html": [
       "<div>\n",
       "<style scoped>\n",
       "    .dataframe tbody tr th:only-of-type {\n",
       "        vertical-align: middle;\n",
       "    }\n",
       "\n",
       "    .dataframe tbody tr th {\n",
       "        vertical-align: top;\n",
       "    }\n",
       "\n",
       "    .dataframe thead th {\n",
       "        text-align: right;\n",
       "    }\n",
       "</style>\n",
       "<table border=\"1\" class=\"dataframe\">\n",
       "  <thead>\n",
       "    <tr style=\"text-align: right;\">\n",
       "      <th></th>\n",
       "      <th>Names</th>\n",
       "      <th>Gender</th>\n",
       "      <th>Births</th>\n",
       "    </tr>\n",
       "  </thead>\n",
       "  <tbody>\n",
       "    <tr>\n",
       "      <th>d</th>\n",
       "      <td>Mel</td>\n",
       "      <td>M</td>\n",
       "      <td>973</td>\n",
       "    </tr>\n",
       "    <tr>\n",
       "      <th>f</th>\n",
       "      <td>Mel</td>\n",
       "      <td>F</td>\n",
       "      <td>45</td>\n",
       "    </tr>\n",
       "  </tbody>\n",
       "</table>\n",
       "</div>"
      ],
      "text/plain": [
       "  Names Gender  Births\n",
       "d   Mel      M     973\n",
       "f   Mel      F      45"
      ]
     },
     "execution_count": 32,
     "metadata": {},
     "output_type": "execute_result"
    }
   ],
   "source": [
    "df.loc[df['Names']=='Mel']"
   ]
  },
  {
   "cell_type": "markdown",
   "metadata": {},
   "source": [
    "We illustrate these constructions in the next few examples."
   ]
  },
  {
   "cell_type": "markdown",
   "metadata": {},
   "source": [
    "## Selecting Rows with Boolean Conditions"
   ]
  },
  {
   "cell_type": "markdown",
   "metadata": {
    "id": "DoG48MyOACYF"
   },
   "source": [
    "Overview: The process of selecting rows by values involves two steps\n",
    "1. We use a Boolean conditions on a column (a 1D `pandas` Series object) much as we did on `numpy` 1D arrays. The result is a `Boolean Series`.\n",
    "2. We use the Boolean Series as a mask to select a set of rows, just as we did with arrays."
   ]
  },
  {
   "cell_type": "markdown",
   "metadata": {},
   "source": [
    "Placing a Boolean condition on a column works just as\n",
    "it did in numpy,  The condition is applied elementwise to the elements in the colomn:"
   ]
  },
  {
   "cell_type": "code",
   "execution_count": 33,
   "metadata": {
    "colab": {
     "base_uri": "https://localhost:8080/"
    },
    "id": "-9divaVyACYG",
    "outputId": "03c0de98-ae1c-4916-b54c-20bb0acabe5e"
   },
   "outputs": [
    {
     "name": "stdout",
     "output_type": "stream",
     "text": [
      "b    968\n",
      "c    155\n",
      "e     77\n",
      "a    578\n",
      "d    973\n",
      "f     45\n",
      "Name: Births, dtype: int64\n",
      "\n",
      "b     True\n",
      "c    False\n",
      "e    False\n",
      "a     True\n",
      "d     True\n",
      "f    False\n",
      "Name: Births, dtype: bool\n"
     ]
    }
   ],
   "source": [
    "print(df['Births'])\n",
    "print()\n",
    "print(df['Births'] > 500)"
   ]
  },
  {
   "cell_type": "markdown",
   "metadata": {},
   "source": [
    "The result is also a `Series`  containing Boolean values. "
   ]
  },
  {
   "cell_type": "code",
   "execution_count": 34,
   "metadata": {
    "scrolled": true
   },
   "outputs": [
    {
     "data": {
      "text/plain": [
       "pandas.core.series.Series"
      ]
     },
     "execution_count": 34,
     "metadata": {},
     "output_type": "execute_result"
    }
   ],
   "source": [
    "type(df['Births'] > 500)"
   ]
  },
  {
   "cell_type": "markdown",
   "metadata": {},
   "source": [
    "Continuing the analogy with `numpy`: Just as we could use a 1D Boolean array \n",
    "as Boolean mask to index a\n",
    "numpy 2D array, so we can use a pandas Boolean Series to mask a pandas DataFrame."
   ]
  },
  {
   "cell_type": "code",
   "execution_count": 35,
   "metadata": {
    "colab": {
     "base_uri": "https://localhost:8080/",
     "height": 142
    },
    "id": "VRouJ54DACYI",
    "outputId": "8ef5d723-c65a-4d2f-db5f-9ebe554ca124",
    "scrolled": false
   },
   "outputs": [
    {
     "data": {
      "text/html": [
       "<div>\n",
       "<style scoped>\n",
       "    .dataframe tbody tr th:only-of-type {\n",
       "        vertical-align: middle;\n",
       "    }\n",
       "\n",
       "    .dataframe tbody tr th {\n",
       "        vertical-align: top;\n",
       "    }\n",
       "\n",
       "    .dataframe thead th {\n",
       "        text-align: right;\n",
       "    }\n",
       "</style>\n",
       "<table border=\"1\" class=\"dataframe\">\n",
       "  <thead>\n",
       "    <tr style=\"text-align: right;\">\n",
       "      <th></th>\n",
       "      <th>Names</th>\n",
       "      <th>Gender</th>\n",
       "      <th>Births</th>\n",
       "    </tr>\n",
       "  </thead>\n",
       "  <tbody>\n",
       "    <tr>\n",
       "      <th>b</th>\n",
       "      <td>Bob</td>\n",
       "      <td>M</td>\n",
       "      <td>968</td>\n",
       "    </tr>\n",
       "    <tr>\n",
       "      <th>a</th>\n",
       "      <td>John</td>\n",
       "      <td>M</td>\n",
       "      <td>578</td>\n",
       "    </tr>\n",
       "    <tr>\n",
       "      <th>d</th>\n",
       "      <td>Mel</td>\n",
       "      <td>M</td>\n",
       "      <td>973</td>\n",
       "    </tr>\n",
       "  </tbody>\n",
       "</table>\n",
       "</div>"
      ],
      "text/plain": [
       "  Names Gender  Births\n",
       "b   Bob      M     968\n",
       "a  John      M     578\n",
       "d   Mel      M     973"
      ]
     },
     "execution_count": 35,
     "metadata": {},
     "output_type": "execute_result"
    }
   ],
   "source": [
    "df[df['Births'] > 500]"
   ]
  },
  {
   "cell_type": "markdown",
   "metadata": {},
   "source": [
    "Given `df[BS]`,  where `BS` is a `Boolean Series`,\n",
    "`pandas` will always try to align `BS`'s index with `df`'s index\n",
    "to do row selection.  That means\n",
    "`BS` must have the same index (row handles) as `df`; a mismatch raises an `IndexingError`.\n",
    "\n",
    "For example, if we tried to use only the first 4 rows of the `Boolean Series`\n",
    "is the last example, we would get an `IndexingError`:\n",
    "\n",
    "```\n",
    ">>> df[(df['Births'] > 500)[:4]]\n",
    "IndexingError                             Traceback (most recent call last)\n",
    "/var/folders/w9/bx4mylnd27g_kqqgn5hrn2x40000gr/T/ipykernel_4727/2043702469.py in <module>\n",
    "----> 1 df[(df['Births'] > 500)[:4]]\n",
    "\n",
    "....\n",
    "\n",
    "IndexingError: Unalignable boolean Series provided as indexer (index of the boolean Series and of the indexed object do not match).\n",
    "```\n"
   ]
  },
  {
   "cell_type": "markdown",
   "metadata": {},
   "source": [
    "`df[BooleanSeries]` is a synonym of `df.loc[BooleanSeries]`.  Hence, the expression in the next cell selects\n",
    "the same rows as the row selection in the last example."
   ]
  },
  {
   "cell_type": "code",
   "execution_count": 18,
   "metadata": {
    "colab": {
     "base_uri": "https://localhost:8080/",
     "height": 142
    },
    "id": "NMBeQvagACYK",
    "outputId": "b9dc04e4-ee50-4365-f551-0c7b5c00ca0c",
    "scrolled": true
   },
   "outputs": [
    {
     "data": {
      "text/html": [
       "<div>\n",
       "<style scoped>\n",
       "    .dataframe tbody tr th:only-of-type {\n",
       "        vertical-align: middle;\n",
       "    }\n",
       "\n",
       "    .dataframe tbody tr th {\n",
       "        vertical-align: top;\n",
       "    }\n",
       "\n",
       "    .dataframe thead th {\n",
       "        text-align: right;\n",
       "    }\n",
       "</style>\n",
       "<table border=\"1\" class=\"dataframe\">\n",
       "  <thead>\n",
       "    <tr style=\"text-align: right;\">\n",
       "      <th></th>\n",
       "      <th>Names</th>\n",
       "      <th>Gender</th>\n",
       "      <th>Births</th>\n",
       "    </tr>\n",
       "  </thead>\n",
       "  <tbody>\n",
       "    <tr>\n",
       "      <th>b</th>\n",
       "      <td>Bob</td>\n",
       "      <td>M</td>\n",
       "      <td>968</td>\n",
       "    </tr>\n",
       "    <tr>\n",
       "      <th>a</th>\n",
       "      <td>John</td>\n",
       "      <td>M</td>\n",
       "      <td>578</td>\n",
       "    </tr>\n",
       "    <tr>\n",
       "      <th>d</th>\n",
       "      <td>Mel</td>\n",
       "      <td>M</td>\n",
       "      <td>973</td>\n",
       "    </tr>\n",
       "  </tbody>\n",
       "</table>\n",
       "</div>"
      ],
      "text/plain": [
       "  Names Gender  Births\n",
       "b   Bob      M     968\n",
       "a  John      M     578\n",
       "d   Mel      M     973"
      ]
     },
     "execution_count": 18,
     "metadata": {},
     "output_type": "execute_result"
    }
   ],
   "source": [
    "df.loc[df['Births'] > 500]"
   ]
  },
  {
   "cell_type": "markdown",
   "metadata": {},
   "source": [
    "Notice that this expression has two indexing operations, one with\n",
    "`df.loc` and one without.  The inner one uses what we've \n",
    "been calling native pandas like syntax, with a column\n",
    "specification in the square brackets.  \n",
    "\n",
    "\n",
    "It's possible to write this entirely in numpy-like \n",
    "syntax, but it gets awkward. "
   ]
  },
  {
   "cell_type": "code",
   "execution_count": 19,
   "metadata": {},
   "outputs": [
    {
     "data": {
      "text/html": [
       "<div>\n",
       "<style scoped>\n",
       "    .dataframe tbody tr th:only-of-type {\n",
       "        vertical-align: middle;\n",
       "    }\n",
       "\n",
       "    .dataframe tbody tr th {\n",
       "        vertical-align: top;\n",
       "    }\n",
       "\n",
       "    .dataframe thead th {\n",
       "        text-align: right;\n",
       "    }\n",
       "</style>\n",
       "<table border=\"1\" class=\"dataframe\">\n",
       "  <thead>\n",
       "    <tr style=\"text-align: right;\">\n",
       "      <th></th>\n",
       "      <th>Names</th>\n",
       "      <th>Gender</th>\n",
       "      <th>Births</th>\n",
       "    </tr>\n",
       "  </thead>\n",
       "  <tbody>\n",
       "    <tr>\n",
       "      <th>b</th>\n",
       "      <td>Bob</td>\n",
       "      <td>M</td>\n",
       "      <td>968</td>\n",
       "    </tr>\n",
       "    <tr>\n",
       "      <th>a</th>\n",
       "      <td>John</td>\n",
       "      <td>M</td>\n",
       "      <td>578</td>\n",
       "    </tr>\n",
       "    <tr>\n",
       "      <th>d</th>\n",
       "      <td>Mel</td>\n",
       "      <td>M</td>\n",
       "      <td>973</td>\n",
       "    </tr>\n",
       "  </tbody>\n",
       "</table>\n",
       "</div>"
      ],
      "text/plain": [
       "  Names Gender  Births\n",
       "b   Bob      M     968\n",
       "a  John      M     578\n",
       "d   Mel      M     973"
      ]
     },
     "execution_count": 19,
     "metadata": {},
     "output_type": "execute_result"
    }
   ],
   "source": [
    "df.loc[df.loc[:,'Births'] > 500]"
   ]
  },
  {
   "cell_type": "markdown",
   "metadata": {},
   "source": [
    "This awkwardness is merely a consequence of having the `.loc[]` syntax work \n",
    "like `numpy`: in each case, it has to be made clear whether rows or columns are being selected.\n",
    "\n",
    "That fussiness brings with it some flexibility.  We saw above that the `.loc[]` operator\n",
    "can be used to select columns with fancy-indexing. It can also\n",
    "select them with a Boolean condition. To omit the `Gender` column, we can do:"
   ]
  },
  {
   "cell_type": "code",
   "execution_count": 20,
   "metadata": {},
   "outputs": [
    {
     "data": {
      "text/html": [
       "<div>\n",
       "<style scoped>\n",
       "    .dataframe tbody tr th:only-of-type {\n",
       "        vertical-align: middle;\n",
       "    }\n",
       "\n",
       "    .dataframe tbody tr th {\n",
       "        vertical-align: top;\n",
       "    }\n",
       "\n",
       "    .dataframe thead th {\n",
       "        text-align: right;\n",
       "    }\n",
       "</style>\n",
       "<table border=\"1\" class=\"dataframe\">\n",
       "  <thead>\n",
       "    <tr style=\"text-align: right;\">\n",
       "      <th></th>\n",
       "      <th>Names</th>\n",
       "      <th>Births</th>\n",
       "    </tr>\n",
       "  </thead>\n",
       "  <tbody>\n",
       "    <tr>\n",
       "      <th>b</th>\n",
       "      <td>Bob</td>\n",
       "      <td>968</td>\n",
       "    </tr>\n",
       "    <tr>\n",
       "      <th>c</th>\n",
       "      <td>Jessica</td>\n",
       "      <td>155</td>\n",
       "    </tr>\n",
       "    <tr>\n",
       "      <th>e</th>\n",
       "      <td>Mary</td>\n",
       "      <td>77</td>\n",
       "    </tr>\n",
       "    <tr>\n",
       "      <th>a</th>\n",
       "      <td>John</td>\n",
       "      <td>578</td>\n",
       "    </tr>\n",
       "    <tr>\n",
       "      <th>d</th>\n",
       "      <td>Mel</td>\n",
       "      <td>973</td>\n",
       "    </tr>\n",
       "    <tr>\n",
       "      <th>f</th>\n",
       "      <td>Mel</td>\n",
       "      <td>45</td>\n",
       "    </tr>\n",
       "  </tbody>\n",
       "</table>\n",
       "</div>"
      ],
      "text/plain": [
       "     Names  Births\n",
       "b      Bob     968\n",
       "c  Jessica     155\n",
       "e     Mary      77\n",
       "a     John     578\n",
       "d      Mel     973\n",
       "f      Mel      45"
      ]
     },
     "execution_count": 20,
     "metadata": {},
     "output_type": "execute_result"
    }
   ],
   "source": [
    "df.loc[:,[True,False,True]]"
   ]
  },
  {
   "cell_type": "markdown",
   "metadata": {},
   "source": [
    "## Combining Conditions with Boolean operators"
   ]
  },
  {
   "cell_type": "markdown",
   "metadata": {},
   "source": [
    "In `numpy` `&` is an operator that performs an elementwise `and` on two Boolean arrays,\n",
    "producing a Boolean array that only has `True` wherever both the input arrays have `True`. "
   ]
  },
  {
   "cell_type": "code",
   "execution_count": 39,
   "metadata": {},
   "outputs": [
    {
     "name": "stdout",
     "output_type": "stream",
     "text": [
      "a [ True False  True]\n",
      "b [False  True  True]\n",
      "a & b [False False  True]\n"
     ]
    }
   ],
   "source": [
    "import numpy as np\n",
    "a = np.array([True,False,True])\n",
    "b= np.array([False,True,True])\n",
    "print('a', a)\n",
    "print('b', b)\n",
    "print('a & b', a&b)"
   ]
  },
  {
   "cell_type": "markdown",
   "metadata": {
    "id": "wT1wqwa2ACYM"
   },
   "source": [
    "Let B1 and B2 be two Boolean Series.\n",
    "\n",
    "The  `&` operator can also be used to combine two\n",
    "Boolean Series instances.  The result is a single Boolean Series that finds the rows that satisfy **both** conditions."
   ]
  },
  {
   "cell_type": "code",
   "execution_count": 40,
   "metadata": {},
   "outputs": [
    {
     "data": {
      "text/html": [
       "<div>\n",
       "<style scoped>\n",
       "    .dataframe tbody tr th:only-of-type {\n",
       "        vertical-align: middle;\n",
       "    }\n",
       "\n",
       "    .dataframe tbody tr th {\n",
       "        vertical-align: top;\n",
       "    }\n",
       "\n",
       "    .dataframe thead th {\n",
       "        text-align: right;\n",
       "    }\n",
       "</style>\n",
       "<table border=\"1\" class=\"dataframe\">\n",
       "  <thead>\n",
       "    <tr style=\"text-align: right;\">\n",
       "      <th></th>\n",
       "      <th>Names</th>\n",
       "      <th>Gender</th>\n",
       "      <th>Births</th>\n",
       "    </tr>\n",
       "  </thead>\n",
       "  <tbody>\n",
       "    <tr>\n",
       "      <th>b</th>\n",
       "      <td>Bob</td>\n",
       "      <td>M</td>\n",
       "      <td>968</td>\n",
       "    </tr>\n",
       "    <tr>\n",
       "      <th>c</th>\n",
       "      <td>Jessica</td>\n",
       "      <td>F</td>\n",
       "      <td>155</td>\n",
       "    </tr>\n",
       "    <tr>\n",
       "      <th>e</th>\n",
       "      <td>Mary</td>\n",
       "      <td>F</td>\n",
       "      <td>77</td>\n",
       "    </tr>\n",
       "    <tr>\n",
       "      <th>a</th>\n",
       "      <td>John</td>\n",
       "      <td>M</td>\n",
       "      <td>578</td>\n",
       "    </tr>\n",
       "    <tr>\n",
       "      <th>d</th>\n",
       "      <td>Mel</td>\n",
       "      <td>M</td>\n",
       "      <td>973</td>\n",
       "    </tr>\n",
       "    <tr>\n",
       "      <th>f</th>\n",
       "      <td>Mel</td>\n",
       "      <td>F</td>\n",
       "      <td>45</td>\n",
       "    </tr>\n",
       "  </tbody>\n",
       "</table>\n",
       "</div>"
      ],
      "text/plain": [
       "     Names Gender  Births\n",
       "b      Bob      M     968\n",
       "c  Jessica      F     155\n",
       "e     Mary      F      77\n",
       "a     John      M     578\n",
       "d      Mel      M     973\n",
       "f      Mel      F      45"
      ]
     },
     "execution_count": 40,
     "metadata": {},
     "output_type": "execute_result"
    }
   ],
   "source": [
    "df"
   ]
  },
  {
   "cell_type": "code",
   "execution_count": 41,
   "metadata": {
    "colab": {
     "base_uri": "https://localhost:8080/",
     "height": 80
    },
    "id": "1wKM76FuACYM",
    "outputId": "d9a7b6fb-143f-4a5a-9967-eedad9d446f3",
    "scrolled": true
   },
   "outputs": [
    {
     "data": {
      "text/html": [
       "<div>\n",
       "<style scoped>\n",
       "    .dataframe tbody tr th:only-of-type {\n",
       "        vertical-align: middle;\n",
       "    }\n",
       "\n",
       "    .dataframe tbody tr th {\n",
       "        vertical-align: top;\n",
       "    }\n",
       "\n",
       "    .dataframe thead th {\n",
       "        text-align: right;\n",
       "    }\n",
       "</style>\n",
       "<table border=\"1\" class=\"dataframe\">\n",
       "  <thead>\n",
       "    <tr style=\"text-align: right;\">\n",
       "      <th></th>\n",
       "      <th>Names</th>\n",
       "      <th>Gender</th>\n",
       "      <th>Births</th>\n",
       "    </tr>\n",
       "  </thead>\n",
       "  <tbody>\n",
       "    <tr>\n",
       "      <th>a</th>\n",
       "      <td>John</td>\n",
       "      <td>M</td>\n",
       "      <td>578</td>\n",
       "    </tr>\n",
       "  </tbody>\n",
       "</table>\n",
       "</div>"
      ],
      "text/plain": [
       "  Names Gender  Births\n",
       "a  John      M     578"
      ]
     },
     "execution_count": 41,
     "metadata": {},
     "output_type": "execute_result"
    }
   ],
   "source": [
    "df[(df['Births'] > 500) & (df['Births'] < 900)]"
   ]
  },
  {
   "cell_type": "markdown",
   "metadata": {},
   "source": [
    "Note that the parentheses are  **needed** here."
   ]
  },
  {
   "cell_type": "markdown",
   "metadata": {},
   "source": [
    "As with `numpy` arrays, Series may also be combined with \"bitwise not\" (`~`) and \"bitwise or\" (`|`)."
   ]
  },
  {
   "cell_type": "markdown",
   "metadata": {},
   "source": [
    "The names which were used over 500 times but not 578 times:"
   ]
  },
  {
   "cell_type": "code",
   "execution_count": 42,
   "metadata": {},
   "outputs": [
    {
     "data": {
      "text/html": [
       "<div>\n",
       "<style scoped>\n",
       "    .dataframe tbody tr th:only-of-type {\n",
       "        vertical-align: middle;\n",
       "    }\n",
       "\n",
       "    .dataframe tbody tr th {\n",
       "        vertical-align: top;\n",
       "    }\n",
       "\n",
       "    .dataframe thead th {\n",
       "        text-align: right;\n",
       "    }\n",
       "</style>\n",
       "<table border=\"1\" class=\"dataframe\">\n",
       "  <thead>\n",
       "    <tr style=\"text-align: right;\">\n",
       "      <th></th>\n",
       "      <th>Names</th>\n",
       "      <th>Gender</th>\n",
       "      <th>Births</th>\n",
       "    </tr>\n",
       "  </thead>\n",
       "  <tbody>\n",
       "    <tr>\n",
       "      <th>b</th>\n",
       "      <td>Bob</td>\n",
       "      <td>M</td>\n",
       "      <td>968</td>\n",
       "    </tr>\n",
       "    <tr>\n",
       "      <th>d</th>\n",
       "      <td>Mel</td>\n",
       "      <td>M</td>\n",
       "      <td>973</td>\n",
       "    </tr>\n",
       "  </tbody>\n",
       "</table>\n",
       "</div>"
      ],
      "text/plain": [
       "  Names Gender  Births\n",
       "b   Bob      M     968\n",
       "d   Mel      M     973"
      ]
     },
     "execution_count": 42,
     "metadata": {},
     "output_type": "execute_result"
    }
   ],
   "source": [
    "df[(df['Births'] > 500) & ~(df['Births'] == 578)]"
   ]
  },
  {
   "cell_type": "markdown",
   "metadata": {},
   "source": [
    "Applying the condition that the value in the `Births` column does not fall between 500 and 900,\n",
    "we exclude the `\"John\"` row."
   ]
  },
  {
   "cell_type": "code",
   "execution_count": 43,
   "metadata": {
    "scrolled": true
   },
   "outputs": [
    {
     "data": {
      "text/html": [
       "<div>\n",
       "<style scoped>\n",
       "    .dataframe tbody tr th:only-of-type {\n",
       "        vertical-align: middle;\n",
       "    }\n",
       "\n",
       "    .dataframe tbody tr th {\n",
       "        vertical-align: top;\n",
       "    }\n",
       "\n",
       "    .dataframe thead th {\n",
       "        text-align: right;\n",
       "    }\n",
       "</style>\n",
       "<table border=\"1\" class=\"dataframe\">\n",
       "  <thead>\n",
       "    <tr style=\"text-align: right;\">\n",
       "      <th></th>\n",
       "      <th>Names</th>\n",
       "      <th>Gender</th>\n",
       "      <th>Births</th>\n",
       "    </tr>\n",
       "  </thead>\n",
       "  <tbody>\n",
       "    <tr>\n",
       "      <th>b</th>\n",
       "      <td>Bob</td>\n",
       "      <td>M</td>\n",
       "      <td>968</td>\n",
       "    </tr>\n",
       "    <tr>\n",
       "      <th>c</th>\n",
       "      <td>Jessica</td>\n",
       "      <td>F</td>\n",
       "      <td>155</td>\n",
       "    </tr>\n",
       "    <tr>\n",
       "      <th>e</th>\n",
       "      <td>Mary</td>\n",
       "      <td>F</td>\n",
       "      <td>77</td>\n",
       "    </tr>\n",
       "    <tr>\n",
       "      <th>d</th>\n",
       "      <td>Mel</td>\n",
       "      <td>M</td>\n",
       "      <td>973</td>\n",
       "    </tr>\n",
       "    <tr>\n",
       "      <th>f</th>\n",
       "      <td>Mel</td>\n",
       "      <td>F</td>\n",
       "      <td>45</td>\n",
       "    </tr>\n",
       "  </tbody>\n",
       "</table>\n",
       "</div>"
      ],
      "text/plain": [
       "     Names Gender  Births\n",
       "b      Bob      M     968\n",
       "c  Jessica      F     155\n",
       "e     Mary      F      77\n",
       "d      Mel      M     973\n",
       "f      Mel      F      45"
      ]
     },
     "execution_count": 43,
     "metadata": {},
     "output_type": "execute_result"
    }
   ],
   "source": [
    "df[(df['Births'] < 500) | (df['Births'] > 900)]"
   ]
  },
  {
   "cell_type": "markdown",
   "metadata": {
    "id": "Wlemw0p3ACYR"
   },
   "source": [
    "## Sorting and positional indexing"
   ]
  },
  {
   "cell_type": "markdown",
   "metadata": {
    "id": "eJWjBcBxACYR"
   },
   "source": [
    "To find the largest value in a given column, we need to `.sort_values()`\n",
    "and then use positional indexing (`.iloc[ ]`).\n",
    "\n",
    "We illustrate by finding\n",
    "the most popular name (or rather, the baby name with the highest birth rate)."
   ]
  },
  {
   "cell_type": "markdown",
   "metadata": {
    "id": "GtvZoKZUACYT"
   },
   "source": [
    "We start by sorting the rows in the baby names `DataFrame df` \n",
    "using `.sort_values()`.  We need to sort the rows\n",
    "**according to values in a particular column**.\n",
    "This column is called by **by** argument of the `.sort_values()` method."
   ]
  },
  {
   "cell_type": "code",
   "execution_count": 69,
   "metadata": {},
   "outputs": [
    {
     "data": {
      "text/html": [
       "<div>\n",
       "<style scoped>\n",
       "    .dataframe tbody tr th:only-of-type {\n",
       "        vertical-align: middle;\n",
       "    }\n",
       "\n",
       "    .dataframe tbody tr th {\n",
       "        vertical-align: top;\n",
       "    }\n",
       "\n",
       "    .dataframe thead th {\n",
       "        text-align: right;\n",
       "    }\n",
       "</style>\n",
       "<table border=\"1\" class=\"dataframe\">\n",
       "  <thead>\n",
       "    <tr style=\"text-align: right;\">\n",
       "      <th></th>\n",
       "      <th>Names</th>\n",
       "      <th>Gender</th>\n",
       "      <th>Births</th>\n",
       "    </tr>\n",
       "  </thead>\n",
       "  <tbody>\n",
       "    <tr>\n",
       "      <th>b</th>\n",
       "      <td>Bob</td>\n",
       "      <td>M</td>\n",
       "      <td>968</td>\n",
       "    </tr>\n",
       "    <tr>\n",
       "      <th>c</th>\n",
       "      <td>Jessica</td>\n",
       "      <td>F</td>\n",
       "      <td>155</td>\n",
       "    </tr>\n",
       "    <tr>\n",
       "      <th>e</th>\n",
       "      <td>Mary</td>\n",
       "      <td>F</td>\n",
       "      <td>77</td>\n",
       "    </tr>\n",
       "    <tr>\n",
       "      <th>a</th>\n",
       "      <td>John</td>\n",
       "      <td>M</td>\n",
       "      <td>578</td>\n",
       "    </tr>\n",
       "    <tr>\n",
       "      <th>d</th>\n",
       "      <td>Mel</td>\n",
       "      <td>M</td>\n",
       "      <td>973</td>\n",
       "    </tr>\n",
       "    <tr>\n",
       "      <th>f</th>\n",
       "      <td>Mel</td>\n",
       "      <td>F</td>\n",
       "      <td>45</td>\n",
       "    </tr>\n",
       "  </tbody>\n",
       "</table>\n",
       "</div>"
      ],
      "text/plain": [
       "     Names Gender  Births\n",
       "b      Bob      M     968\n",
       "c  Jessica      F     155\n",
       "e     Mary      F      77\n",
       "a     John      M     578\n",
       "d      Mel      M     973\n",
       "f      Mel      F      45"
      ]
     },
     "execution_count": 69,
     "metadata": {},
     "output_type": "execute_result"
    }
   ],
   "source": [
    "df"
   ]
  },
  {
   "cell_type": "code",
   "execution_count": 21,
   "metadata": {
    "colab": {
     "base_uri": "https://localhost:8080/"
    },
    "id": "mZ4UMclyACYT",
    "outputId": "866e749f-0b57-4b70-afe6-594652cd4f8e"
   },
   "outputs": [
    {
     "data": {
      "text/html": [
       "<div>\n",
       "<style scoped>\n",
       "    .dataframe tbody tr th:only-of-type {\n",
       "        vertical-align: middle;\n",
       "    }\n",
       "\n",
       "    .dataframe tbody tr th {\n",
       "        vertical-align: top;\n",
       "    }\n",
       "\n",
       "    .dataframe thead th {\n",
       "        text-align: right;\n",
       "    }\n",
       "</style>\n",
       "<table border=\"1\" class=\"dataframe\">\n",
       "  <thead>\n",
       "    <tr style=\"text-align: right;\">\n",
       "      <th></th>\n",
       "      <th>Names</th>\n",
       "      <th>Gender</th>\n",
       "      <th>Births</th>\n",
       "    </tr>\n",
       "  </thead>\n",
       "  <tbody>\n",
       "    <tr>\n",
       "      <th>d</th>\n",
       "      <td>Mel</td>\n",
       "      <td>M</td>\n",
       "      <td>973</td>\n",
       "    </tr>\n",
       "    <tr>\n",
       "      <th>b</th>\n",
       "      <td>Bob</td>\n",
       "      <td>M</td>\n",
       "      <td>968</td>\n",
       "    </tr>\n",
       "    <tr>\n",
       "      <th>a</th>\n",
       "      <td>John</td>\n",
       "      <td>M</td>\n",
       "      <td>578</td>\n",
       "    </tr>\n",
       "    <tr>\n",
       "      <th>c</th>\n",
       "      <td>Jessica</td>\n",
       "      <td>F</td>\n",
       "      <td>155</td>\n",
       "    </tr>\n",
       "    <tr>\n",
       "      <th>e</th>\n",
       "      <td>Mary</td>\n",
       "      <td>F</td>\n",
       "      <td>77</td>\n",
       "    </tr>\n",
       "    <tr>\n",
       "      <th>f</th>\n",
       "      <td>Mel</td>\n",
       "      <td>F</td>\n",
       "      <td>45</td>\n",
       "    </tr>\n",
       "  </tbody>\n",
       "</table>\n",
       "</div>"
      ],
      "text/plain": [
       "     Names Gender  Births\n",
       "d      Mel      M     973\n",
       "b      Bob      M     968\n",
       "a     John      M     578\n",
       "c  Jessica      F     155\n",
       "e     Mary      F      77\n",
       "f      Mel      F      45"
      ]
     },
     "execution_count": 21,
     "metadata": {},
     "output_type": "execute_result"
    }
   ],
   "source": [
    "# Method 1 \n",
    "Sorted_df = df.sort_values(by='Births', ascending= False)\n",
    "Sorted_df"
   ]
  },
  {
   "cell_type": "markdown",
   "metadata": {},
   "source": [
    "We now want the **first row** of `Sorted_df`;\n",
    "so we are in a situation where keyword-indexing is of no help\n",
    "(of course, we can see in the output\n",
    "that the handle of the row we want is `d`, but in general \n",
    "we won't know what the top ranked handle is after a sort).\n",
    "\n",
    "So here's the perfect use-case for positional indexing\n",
    "for which `pandas` provides the `.iloc[]` method,\n",
    "which has a syntax very similar to `.loc[]`."
   ]
  },
  {
   "cell_type": "code",
   "execution_count": 104,
   "metadata": {},
   "outputs": [
    {
     "data": {
      "text/plain": [
       "Names     Mel\n",
       "Gender      M\n",
       "Births    973\n",
       "Name: d, dtype: object"
      ]
     },
     "execution_count": 104,
     "metadata": {},
     "output_type": "execute_result"
    }
   ],
   "source": [
    "# Get the first row after the sort\n",
    "Sorted_df.iloc[0]"
   ]
  },
  {
   "cell_type": "markdown",
   "metadata": {},
   "source": [
    "The name `iloc` can be thought of as short for `index location`.\n",
    "\n",
    "The index of a `DataFrame` is itself a sequence,\n",
    "and that sequence can only be indexed by position.\n",
    "Therefore, the `.iloc` expression above is equivalent to:"
   ]
  },
  {
   "cell_type": "code",
   "execution_count": 106,
   "metadata": {},
   "outputs": [
    {
     "data": {
      "text/plain": [
       "Names     Mel\n",
       "Gender      M\n",
       "Births    973\n",
       "Name: d, dtype: object"
      ]
     },
     "execution_count": 106,
     "metadata": {},
     "output_type": "execute_result"
    }
   ],
   "source": [
    "Sorted_df.loc[Sorted_df.index[0]]"
   ]
  },
  {
   "cell_type": "markdown",
   "metadata": {},
   "source": [
    "We summarize what we just by writing it all in one line.\n",
    "\n",
    "Here's how to find the most popular name (by births)."
   ]
  },
  {
   "cell_type": "code",
   "execution_count": 107,
   "metadata": {},
   "outputs": [
    {
     "data": {
      "text/plain": [
       "Names     Mel\n",
       "Births    973\n",
       "Name: 4, dtype: object"
      ]
     },
     "execution_count": 107,
     "metadata": {},
     "output_type": "execute_result"
    }
   ],
   "source": [
    "df.sort_values('Births', ascending= False).iloc[0]"
   ]
  },
  {
   "cell_type": "markdown",
   "metadata": {
    "id": "eJWjBcBxACYR"
   },
   "source": [
    "Note that although we can just as easily sort a column (Series) as a DataFrame,\n",
    "it will be more work to find the associated value in another column.\n",
    "\n",
    "Illustrating:"
   ]
  },
  {
   "cell_type": "code",
   "execution_count": 28,
   "metadata": {
    "colab": {
     "base_uri": "https://localhost:8080/"
    },
    "id": "m0IKACpMACYR",
    "outputId": "87f65724-ff2a-474b-9e4b-8e7b24317486"
   },
   "outputs": [
    {
     "name": "stdout",
     "output_type": "stream",
     "text": [
      "b    968\n",
      "c    155\n",
      "e     77\n",
      "a    578\n",
      "d    973\n",
      "f     45\n",
      "Name: Births, dtype: int64\n",
      "d    973\n",
      "b    968\n",
      "a    578\n",
      "c    155\n",
      "e     77\n",
      "f     45\n",
      "Name: Births, dtype: int64\n"
     ]
    }
   ],
   "source": [
    "print(df['Births'])\n",
    "SortedBirths = df['Births'].sort_values(ascending=False)\n",
    "print(SortedBirths)"
   ]
  },
  {
   "cell_type": "markdown",
   "metadata": {},
   "source": [
    "Now `SortedBirths.iloc[0]`is 973; to get the most popular name, we have do:"
   ]
  },
  {
   "cell_type": "code",
   "execution_count": 33,
   "metadata": {},
   "outputs": [
    {
     "data": {
      "text/plain": [
       "'Mel'"
      ]
     },
     "execution_count": 33,
     "metadata": {},
     "output_type": "execute_result"
    }
   ],
   "source": [
    "df.loc[SortedBirths.index[0]]['Names']"
   ]
  },
  {
   "cell_type": "markdown",
   "metadata": {},
   "source": [
    "## Loading the entire BabyNames dataset"
   ]
  },
  {
   "cell_type": "markdown",
   "metadata": {},
   "source": [
    "The next cell loads data from the github site and will take some time to execute.  \n",
    "It is slow because\n",
    "it is retrieving a number of large uncompressed files.  \n",
    "Each file represents a different year of \n",
    "comma-separated (hence .csv format) babynames data. For example, the start of `yob1881.txt` looks like this:\n",
    "\n",
    "```\n",
    "Mary,F,7065\n",
    "Anna,F,2604\n",
    "Emma,F,2003\n",
    "Elizabeth,F,1939\n",
    "Minnie,F,1746\n",
    "```\n",
    "\n",
    "The code cell below  will build a `names` DataFrame similar\n",
    "to that of our toy example, but much larger and with two new columns, `\"sex\"` and `\"year\"`."
   ]
  },
  {
   "cell_type": "code",
   "execution_count": 22,
   "metadata": {
    "id": "ZKLaLZ1IBcER"
   },
   "outputs": [],
   "source": [
    "import pandas as pd\n",
    "years = list(range(1880,2011))\n",
    "pieces = []\n",
    "columns = ['name','sex','births']\n",
    "\n",
    "url = 'https://raw.githubusercontent.com/gawron/'\\\n",
    "       'python-for-social-science/master/pandas/names/'\n",
    "for year in years:\n",
    "    path = f'{url}yob{year:d}.txt'\n",
    "    frame = pd.read_csv(path,names=columns)\n",
    "    frame['year'] = year\n",
    "    pieces.append(frame)    \n",
    "    \n",
    "names = pd.concat(pieces, ignore_index=True)"
   ]
  },
  {
   "cell_type": "markdown",
   "metadata": {
    "id": "oRKl68h_BcES"
   },
   "source": [
    "We first build the list `pieces` in the `for`-loop; `pieces` is a list of DataFrames. \n",
    "As we process each data file, we keep track of the year \n",
    "by adding a `'year'` column to the DataFrame.\n",
    "We then concatenate that list into a single large frame called `names`, ignoring the indexes in the old frames.  We ignore the indexes because they will all be number ranges starting with 0, and rather than have a large number of rows indexed `1` (1 from each year), we renumber them all.\n",
    "\n",
    "Think about why it's hard to build the list `pieces` with a list comprehension instead of  the way it's done in the above cell.\n",
    "Notice the following doesn't work.  Python requires an expression\n",
    "as the first component of a list comprehension.  One reason for this is that list comprehensions are supposed to improve readability.  Complex sequences of commands don't do that, and the `for`-loop above is much more understandable.\n",
    "\n",
    "```\n",
    "pieces = [f=pd.read_csv('names/yob{0:d}.txt'.format(year),names=columns);\n",
    "          f['year']=year; f\n",
    "          for year in years]\n",
    "```"
   ]
  },
  {
   "cell_type": "markdown",
   "metadata": {},
   "source": [
    "If you were successful the next cell should evaluate to `True`.  Please re-evaluate the next cell to check."
   ]
  },
  {
   "cell_type": "code",
   "execution_count": 72,
   "metadata": {},
   "outputs": [
    {
     "data": {
      "text/plain": [
       "True"
      ]
     },
     "execution_count": 72,
     "metadata": {},
     "output_type": "execute_result"
    }
   ],
   "source": [
    "len(names)  == 1_690_784"
   ]
  },
  {
   "cell_type": "markdown",
   "metadata": {},
   "source": [
    "We now have a large `DataFrame` of approximately 1.7 million rows, with a default (numerical) index:"
   ]
  },
  {
   "cell_type": "code",
   "execution_count": 48,
   "metadata": {},
   "outputs": [
    {
     "data": {
      "text/html": [
       "<div>\n",
       "<style scoped>\n",
       "    .dataframe tbody tr th:only-of-type {\n",
       "        vertical-align: middle;\n",
       "    }\n",
       "\n",
       "    .dataframe tbody tr th {\n",
       "        vertical-align: top;\n",
       "    }\n",
       "\n",
       "    .dataframe thead th {\n",
       "        text-align: right;\n",
       "    }\n",
       "</style>\n",
       "<table border=\"1\" class=\"dataframe\">\n",
       "  <thead>\n",
       "    <tr style=\"text-align: right;\">\n",
       "      <th></th>\n",
       "      <th>name</th>\n",
       "      <th>sex</th>\n",
       "      <th>births</th>\n",
       "      <th>year</th>\n",
       "    </tr>\n",
       "  </thead>\n",
       "  <tbody>\n",
       "    <tr>\n",
       "      <th>0</th>\n",
       "      <td>Mary</td>\n",
       "      <td>F</td>\n",
       "      <td>7065</td>\n",
       "      <td>1880</td>\n",
       "    </tr>\n",
       "    <tr>\n",
       "      <th>1</th>\n",
       "      <td>Anna</td>\n",
       "      <td>F</td>\n",
       "      <td>2604</td>\n",
       "      <td>1880</td>\n",
       "    </tr>\n",
       "    <tr>\n",
       "      <th>2</th>\n",
       "      <td>Emma</td>\n",
       "      <td>F</td>\n",
       "      <td>2003</td>\n",
       "      <td>1880</td>\n",
       "    </tr>\n",
       "    <tr>\n",
       "      <th>3</th>\n",
       "      <td>Elizabeth</td>\n",
       "      <td>F</td>\n",
       "      <td>1939</td>\n",
       "      <td>1880</td>\n",
       "    </tr>\n",
       "    <tr>\n",
       "      <th>4</th>\n",
       "      <td>Minnie</td>\n",
       "      <td>F</td>\n",
       "      <td>1746</td>\n",
       "      <td>1880</td>\n",
       "    </tr>\n",
       "    <tr>\n",
       "      <th>...</th>\n",
       "      <td>...</td>\n",
       "      <td>...</td>\n",
       "      <td>...</td>\n",
       "      <td>...</td>\n",
       "    </tr>\n",
       "    <tr>\n",
       "      <th>1690779</th>\n",
       "      <td>Zymaire</td>\n",
       "      <td>M</td>\n",
       "      <td>5</td>\n",
       "      <td>2010</td>\n",
       "    </tr>\n",
       "    <tr>\n",
       "      <th>1690780</th>\n",
       "      <td>Zyonne</td>\n",
       "      <td>M</td>\n",
       "      <td>5</td>\n",
       "      <td>2010</td>\n",
       "    </tr>\n",
       "    <tr>\n",
       "      <th>1690781</th>\n",
       "      <td>Zyquarius</td>\n",
       "      <td>M</td>\n",
       "      <td>5</td>\n",
       "      <td>2010</td>\n",
       "    </tr>\n",
       "    <tr>\n",
       "      <th>1690782</th>\n",
       "      <td>Zyran</td>\n",
       "      <td>M</td>\n",
       "      <td>5</td>\n",
       "      <td>2010</td>\n",
       "    </tr>\n",
       "    <tr>\n",
       "      <th>1690783</th>\n",
       "      <td>Zzyzx</td>\n",
       "      <td>M</td>\n",
       "      <td>5</td>\n",
       "      <td>2010</td>\n",
       "    </tr>\n",
       "  </tbody>\n",
       "</table>\n",
       "<p>1690784 rows × 4 columns</p>\n",
       "</div>"
      ],
      "text/plain": [
       "              name sex  births  year\n",
       "0             Mary   F    7065  1880\n",
       "1             Anna   F    2604  1880\n",
       "2             Emma   F    2003  1880\n",
       "3        Elizabeth   F    1939  1880\n",
       "4           Minnie   F    1746  1880\n",
       "...            ...  ..     ...   ...\n",
       "1690779    Zymaire   M       5  2010\n",
       "1690780     Zyonne   M       5  2010\n",
       "1690781  Zyquarius   M       5  2010\n",
       "1690782      Zyran   M       5  2010\n",
       "1690783      Zzyzx   M       5  2010\n",
       "\n",
       "[1690784 rows x 4 columns]"
      ]
     },
     "execution_count": 48,
     "metadata": {},
     "output_type": "execute_result"
    }
   ],
   "source": [
    "names"
   ]
  },
  {
   "cell_type": "code",
   "execution_count": null,
   "metadata": {},
   "outputs": [],
   "source": []
  },
  {
   "cell_type": "markdown",
   "metadata": {},
   "source": [
    "The new DataFrame has 1,690,784 rows and 4 columns."
   ]
  },
  {
   "cell_type": "code",
   "execution_count": 73,
   "metadata": {},
   "outputs": [
    {
     "name": "stdout",
     "output_type": "stream",
     "text": [
      "<class 'pandas.core.frame.DataFrame'>\n",
      "RangeIndex: 1690784 entries, 0 to 1690783\n",
      "Data columns (total 4 columns):\n",
      " #   Column  Non-Null Count    Dtype \n",
      "---  ------  --------------    ----- \n",
      " 0   name    1690784 non-null  object\n",
      " 1   sex     1690784 non-null  object\n",
      " 2   births  1690784 non-null  int64 \n",
      " 3   year    1690784 non-null  int64 \n",
      "dtypes: int64(2), object(2)\n",
      "memory usage: 51.6+ MB\n"
     ]
    }
   ],
   "source": [
    "names.info()"
   ]
  },
  {
   "cell_type": "markdown",
   "metadata": {
    "id": "arF5qywwACYh"
   },
   "source": [
    "## Selection Examples: Selecting parts of data frames (baby names data)"
   ]
  },
  {
   "cell_type": "markdown",
   "metadata": {
    "id": "-u6hcYqxACYi"
   },
   "source": [
    "Having created a much larger Pandas DataFrame with babynames data,  \n",
    "we now use that data return to give more examples of selecting data.   "
   ]
  },
  {
   "cell_type": "markdown",
   "metadata": {
    "id": "M47E2yMbDLsk"
   },
   "source": []
  },
  {
   "cell_type": "markdown",
   "metadata": {},
   "source": [
    "We have data for the years 1880 through 2010.  Let's select one year."
   ]
  },
  {
   "cell_type": "code",
   "execution_count": 23,
   "metadata": {},
   "outputs": [],
   "source": [
    "names1881 = names[names['year'] == 1881]"
   ]
  },
  {
   "cell_type": "code",
   "execution_count": 24,
   "metadata": {},
   "outputs": [
    {
     "data": {
      "text/html": [
       "<div>\n",
       "<style scoped>\n",
       "    .dataframe tbody tr th:only-of-type {\n",
       "        vertical-align: middle;\n",
       "    }\n",
       "\n",
       "    .dataframe tbody tr th {\n",
       "        vertical-align: top;\n",
       "    }\n",
       "\n",
       "    .dataframe thead th {\n",
       "        text-align: right;\n",
       "    }\n",
       "</style>\n",
       "<table border=\"1\" class=\"dataframe\">\n",
       "  <thead>\n",
       "    <tr style=\"text-align: right;\">\n",
       "      <th></th>\n",
       "      <th>name</th>\n",
       "      <th>sex</th>\n",
       "      <th>births</th>\n",
       "      <th>year</th>\n",
       "    </tr>\n",
       "  </thead>\n",
       "  <tbody>\n",
       "    <tr>\n",
       "      <th>2000</th>\n",
       "      <td>Mary</td>\n",
       "      <td>F</td>\n",
       "      <td>6919</td>\n",
       "      <td>1881</td>\n",
       "    </tr>\n",
       "    <tr>\n",
       "      <th>2001</th>\n",
       "      <td>Anna</td>\n",
       "      <td>F</td>\n",
       "      <td>2698</td>\n",
       "      <td>1881</td>\n",
       "    </tr>\n",
       "    <tr>\n",
       "      <th>2002</th>\n",
       "      <td>Emma</td>\n",
       "      <td>F</td>\n",
       "      <td>2034</td>\n",
       "      <td>1881</td>\n",
       "    </tr>\n",
       "    <tr>\n",
       "      <th>2003</th>\n",
       "      <td>Elizabeth</td>\n",
       "      <td>F</td>\n",
       "      <td>1852</td>\n",
       "      <td>1881</td>\n",
       "    </tr>\n",
       "    <tr>\n",
       "      <th>2004</th>\n",
       "      <td>Margaret</td>\n",
       "      <td>F</td>\n",
       "      <td>1658</td>\n",
       "      <td>1881</td>\n",
       "    </tr>\n",
       "    <tr>\n",
       "      <th>...</th>\n",
       "      <td>...</td>\n",
       "      <td>...</td>\n",
       "      <td>...</td>\n",
       "      <td>...</td>\n",
       "    </tr>\n",
       "    <tr>\n",
       "      <th>3930</th>\n",
       "      <td>Wiliam</td>\n",
       "      <td>M</td>\n",
       "      <td>5</td>\n",
       "      <td>1881</td>\n",
       "    </tr>\n",
       "    <tr>\n",
       "      <th>3931</th>\n",
       "      <td>Wilton</td>\n",
       "      <td>M</td>\n",
       "      <td>5</td>\n",
       "      <td>1881</td>\n",
       "    </tr>\n",
       "    <tr>\n",
       "      <th>3932</th>\n",
       "      <td>Wing</td>\n",
       "      <td>M</td>\n",
       "      <td>5</td>\n",
       "      <td>1881</td>\n",
       "    </tr>\n",
       "    <tr>\n",
       "      <th>3933</th>\n",
       "      <td>Wood</td>\n",
       "      <td>M</td>\n",
       "      <td>5</td>\n",
       "      <td>1881</td>\n",
       "    </tr>\n",
       "    <tr>\n",
       "      <th>3934</th>\n",
       "      <td>Wright</td>\n",
       "      <td>M</td>\n",
       "      <td>5</td>\n",
       "      <td>1881</td>\n",
       "    </tr>\n",
       "  </tbody>\n",
       "</table>\n",
       "<p>1935 rows × 4 columns</p>\n",
       "</div>"
      ],
      "text/plain": [
       "           name sex  births  year\n",
       "2000       Mary   F    6919  1881\n",
       "2001       Anna   F    2698  1881\n",
       "2002       Emma   F    2034  1881\n",
       "2003  Elizabeth   F    1852  1881\n",
       "2004   Margaret   F    1658  1881\n",
       "...         ...  ..     ...   ...\n",
       "3930     Wiliam   M       5  1881\n",
       "3931     Wilton   M       5  1881\n",
       "3932       Wing   M       5  1881\n",
       "3933       Wood   M       5  1881\n",
       "3934     Wright   M       5  1881\n",
       "\n",
       "[1935 rows x 4 columns]"
      ]
     },
     "execution_count": 24,
     "metadata": {},
     "output_type": "execute_result"
    }
   ],
   "source": [
    "names1881"
   ]
  },
  {
   "cell_type": "markdown",
   "metadata": {
    "id": "mawJaiUYACYv"
   },
   "source": [
    "Note that index starts with 2000 because we have retrieved a subset of\n",
    "the rows in the `names` data, preserving the indexing.\n",
    "\n",
    "Retrieve the gender column, and display the last part."
   ]
  },
  {
   "cell_type": "code",
   "execution_count": 14,
   "metadata": {
    "colab": {
     "base_uri": "https://localhost:8080/"
    },
    "id": "xTF4eNYWACYv",
    "outputId": "55777006-e113-4c40-c85d-12613190bc5b"
   },
   "outputs": [
    {
     "data": {
      "text/plain": [
       "3930    M\n",
       "3931    M\n",
       "3932    M\n",
       "3933    M\n",
       "3934    M\n",
       "Name: sex, dtype: object"
      ]
     },
     "execution_count": 14,
     "metadata": {},
     "output_type": "execute_result"
    }
   ],
   "source": [
    "names1881['sex'].tail()"
   ]
  },
  {
   "cell_type": "markdown",
   "metadata": {
    "id": "oomp8YkIACYy"
   },
   "source": [
    "If we apply a Boolean test to the `'sex'` column, we see evidence that the 1881 names  are gender sorted, with the female names occupying approximately the last half of the data. This is in fact true of ever year."
   ]
  },
  {
   "cell_type": "code",
   "execution_count": 50,
   "metadata": {
    "colab": {
     "base_uri": "https://localhost:8080/"
    },
    "id": "L8PCGojoACYy",
    "outputId": "b9c89da6-4750-4a5c-9ad5-1cd256b43f7f"
   },
   "outputs": [
    {
     "name": "stdout",
     "output_type": "stream",
     "text": [
      "<class 'pandas.core.series.Series'>\n"
     ]
    },
    {
     "data": {
      "text/plain": [
       "2000     True\n",
       "2001     True\n",
       "2002     True\n",
       "2003     True\n",
       "2004     True\n",
       "        ...  \n",
       "3930    False\n",
       "3931    False\n",
       "3932    False\n",
       "3933    False\n",
       "3934    False\n",
       "Name: sex, Length: 1935, dtype: bool"
      ]
     },
     "execution_count": 50,
     "metadata": {},
     "output_type": "execute_result"
    }
   ],
   "source": [
    "print(type(names1881['sex']=='F'))\n",
    "names1881['sex']=='F'"
   ]
  },
  {
   "cell_type": "markdown",
   "metadata": {
    "id": "jty9sSqTACY0"
   },
   "source": [
    "Using the analogue of fancy-indexing in\n",
    "numpy arrays (a list of indices selects a list of rows), you can pick out a subdata frame with a subset of columns, using a list of column names:"
   ]
  },
  {
   "cell_type": "code",
   "execution_count": 24,
   "metadata": {
    "colab": {
     "base_uri": "https://localhost:8080/",
     "height": 436
    },
    "id": "eolw90L5ACY2",
    "outputId": "760c7d28-57a3-4ff2-de03-78e09b953379"
   },
   "outputs": [
    {
     "name": "stdout",
     "output_type": "stream",
     "text": [
      "<class 'pandas.core.frame.DataFrame'>\n"
     ]
    },
    {
     "data": {
      "text/html": [
       "<div>\n",
       "<style scoped>\n",
       "    .dataframe tbody tr th:only-of-type {\n",
       "        vertical-align: middle;\n",
       "    }\n",
       "\n",
       "    .dataframe tbody tr th {\n",
       "        vertical-align: top;\n",
       "    }\n",
       "\n",
       "    .dataframe thead th {\n",
       "        text-align: right;\n",
       "    }\n",
       "</style>\n",
       "<table border=\"1\" class=\"dataframe\">\n",
       "  <thead>\n",
       "    <tr style=\"text-align: right;\">\n",
       "      <th></th>\n",
       "      <th>sex</th>\n",
       "      <th>births</th>\n",
       "    </tr>\n",
       "  </thead>\n",
       "  <tbody>\n",
       "    <tr>\n",
       "      <th>2000</th>\n",
       "      <td>F</td>\n",
       "      <td>6919</td>\n",
       "    </tr>\n",
       "    <tr>\n",
       "      <th>2001</th>\n",
       "      <td>F</td>\n",
       "      <td>2698</td>\n",
       "    </tr>\n",
       "    <tr>\n",
       "      <th>2002</th>\n",
       "      <td>F</td>\n",
       "      <td>2034</td>\n",
       "    </tr>\n",
       "    <tr>\n",
       "      <th>2003</th>\n",
       "      <td>F</td>\n",
       "      <td>1852</td>\n",
       "    </tr>\n",
       "    <tr>\n",
       "      <th>2004</th>\n",
       "      <td>F</td>\n",
       "      <td>1658</td>\n",
       "    </tr>\n",
       "    <tr>\n",
       "      <th>...</th>\n",
       "      <td>...</td>\n",
       "      <td>...</td>\n",
       "    </tr>\n",
       "    <tr>\n",
       "      <th>3930</th>\n",
       "      <td>M</td>\n",
       "      <td>5</td>\n",
       "    </tr>\n",
       "    <tr>\n",
       "      <th>3931</th>\n",
       "      <td>M</td>\n",
       "      <td>5</td>\n",
       "    </tr>\n",
       "    <tr>\n",
       "      <th>3932</th>\n",
       "      <td>M</td>\n",
       "      <td>5</td>\n",
       "    </tr>\n",
       "    <tr>\n",
       "      <th>3933</th>\n",
       "      <td>M</td>\n",
       "      <td>5</td>\n",
       "    </tr>\n",
       "    <tr>\n",
       "      <th>3934</th>\n",
       "      <td>M</td>\n",
       "      <td>5</td>\n",
       "    </tr>\n",
       "  </tbody>\n",
       "</table>\n",
       "<p>1935 rows × 2 columns</p>\n",
       "</div>"
      ],
      "text/plain": [
       "     sex  births\n",
       "2000   F    6919\n",
       "2001   F    2698\n",
       "2002   F    2034\n",
       "2003   F    1852\n",
       "2004   F    1658\n",
       "...   ..     ...\n",
       "3930   M       5\n",
       "3931   M       5\n",
       "3932   M       5\n",
       "3933   M       5\n",
       "3934   M       5\n",
       "\n",
       "[1935 rows x 2 columns]"
      ]
     },
     "execution_count": 24,
     "metadata": {},
     "output_type": "execute_result"
    }
   ],
   "source": [
    "print(type(names1881[['sex','births']]))\n",
    "names1881[['sex','births']]"
   ]
  },
  {
   "cell_type": "markdown",
   "metadata": {},
   "source": [
    "The indexing conventions we observed in the toy example work here.\n",
    "\n",
    "indexing a series with a valid index member yields the value at that\n",
    "position in the series:"
   ]
  },
  {
   "cell_type": "code",
   "execution_count": 51,
   "metadata": {
    "colab": {
     "base_uri": "https://localhost:8080/",
     "height": 35
    },
    "id": "puN5oDccACY9",
    "outputId": "4f3b5d35-a51b-4639-f5a0-c5eacf6ac839"
   },
   "outputs": [
    {
     "data": {
      "text/plain": [
       "'F'"
      ]
     },
     "execution_count": 51,
     "metadata": {},
     "output_type": "execute_result"
    }
   ],
   "source": [
    "names1881['sex'][2000]"
   ]
  },
  {
   "cell_type": "code",
   "execution_count": 52,
   "metadata": {},
   "outputs": [
    {
     "data": {
      "text/plain": [
       "'F'"
      ]
     },
     "execution_count": 52,
     "metadata": {},
     "output_type": "execute_result"
    }
   ],
   "source": [
    "names1881['sex'].iloc[0]"
   ]
  },
  {
   "cell_type": "markdown",
   "metadata": {
    "id": "cRNX6MRVACY_"
   },
   "source": [
    "That's why a Series is referred to as an *ordered set* in the Pandas documentation.  There are usually no duplicate names, as with dictionary keys, but there is also ordering."
   ]
  },
  {
   "cell_type": "markdown",
   "metadata": {
    "id": "HzdCjEtoACZA"
   },
   "source": [
    "As we saw with teh toy data, you can use that series as a mask to create to create a sub-`Data Frame` of the original `DataFrame` that has only the rows with name `\"Lee\"`."
   ]
  },
  {
   "cell_type": "code",
   "execution_count": 25,
   "metadata": {
    "colab": {
     "base_uri": "https://localhost:8080/",
     "height": 146
    },
    "id": "CzHG0PhrACZB",
    "outputId": "acfd404a-74a4-45e6-e7b5-abdfe5d57ac2"
   },
   "outputs": [
    {
     "name": "stdout",
     "output_type": "stream",
     "text": [
      "<class 'pandas.core.series.Series'>\n",
      "<class 'pandas.core.frame.DataFrame'>\n"
     ]
    },
    {
     "data": {
      "text/html": [
       "<div>\n",
       "<style scoped>\n",
       "    .dataframe tbody tr th:only-of-type {\n",
       "        vertical-align: middle;\n",
       "    }\n",
       "\n",
       "    .dataframe tbody tr th {\n",
       "        vertical-align: top;\n",
       "    }\n",
       "\n",
       "    .dataframe thead th {\n",
       "        text-align: right;\n",
       "    }\n",
       "</style>\n",
       "<table border=\"1\" class=\"dataframe\">\n",
       "  <thead>\n",
       "    <tr style=\"text-align: right;\">\n",
       "      <th></th>\n",
       "      <th>name</th>\n",
       "      <th>sex</th>\n",
       "      <th>births</th>\n",
       "      <th>year</th>\n",
       "    </tr>\n",
       "  </thead>\n",
       "  <tbody>\n",
       "    <tr>\n",
       "      <th>2258</th>\n",
       "      <td>Lee</td>\n",
       "      <td>F</td>\n",
       "      <td>39</td>\n",
       "      <td>1881</td>\n",
       "    </tr>\n",
       "    <tr>\n",
       "      <th>2981</th>\n",
       "      <td>Lee</td>\n",
       "      <td>M</td>\n",
       "      <td>342</td>\n",
       "      <td>1881</td>\n",
       "    </tr>\n",
       "  </tbody>\n",
       "</table>\n",
       "</div>"
      ],
      "text/plain": [
       "     name sex  births  year\n",
       "2258  Lee   F      39  1881\n",
       "2981  Lee   M     342  1881"
      ]
     },
     "execution_count": 25,
     "metadata": {},
     "output_type": "execute_result"
    }
   ],
   "source": [
    "print(type(names1881['name']=='Lee'))\n",
    "lee_rows = names1881[names1881['name']=='Lee']\n",
    "print(type(lee_rows))\n",
    "lee_rows"
   ]
  },
  {
   "cell_type": "markdown",
   "metadata": {
    "id": "lVl1ghjIACZD"
   },
   "source": [
    "So `lee_rows` is a `DataFrame` containing only the rows for people named \"Lee\".  \n",
    "\n",
    "This example also shows why we shouldn't use the `name` column to index the data.  There are names that occur in two rows, because they are both male and female names."
   ]
  },
  {
   "cell_type": "markdown",
   "metadata": {
    "id": "ia8mVtPkACZE"
   },
   "source": [
    "You can also pick out a sub data frame with just the female names. We do that and query the \"sex\" column to show we've got a `female_rows` `DataFrame` "
   ]
  },
  {
   "cell_type": "code",
   "execution_count": 26,
   "metadata": {
    "colab": {
     "base_uri": "https://localhost:8080/",
     "height": 241
    },
    "id": "VFJZlWg6ACZE",
    "outputId": "8e0dc6aa-b03f-4558-97b2-da23e054a7bc"
   },
   "outputs": [
    {
     "name": "stdout",
     "output_type": "stream",
     "text": [
      "<class 'pandas.core.frame.DataFrame'>\n"
     ]
    },
    {
     "data": {
      "text/html": [
       "<div>\n",
       "<style scoped>\n",
       "    .dataframe tbody tr th:only-of-type {\n",
       "        vertical-align: middle;\n",
       "    }\n",
       "\n",
       "    .dataframe tbody tr th {\n",
       "        vertical-align: top;\n",
       "    }\n",
       "\n",
       "    .dataframe thead th {\n",
       "        text-align: right;\n",
       "    }\n",
       "</style>\n",
       "<table border=\"1\" class=\"dataframe\">\n",
       "  <thead>\n",
       "    <tr style=\"text-align: right;\">\n",
       "      <th></th>\n",
       "      <th>name</th>\n",
       "      <th>sex</th>\n",
       "      <th>births</th>\n",
       "      <th>year</th>\n",
       "    </tr>\n",
       "  </thead>\n",
       "  <tbody>\n",
       "    <tr>\n",
       "      <th>2933</th>\n",
       "      <td>Tinie</td>\n",
       "      <td>F</td>\n",
       "      <td>5</td>\n",
       "      <td>1881</td>\n",
       "    </tr>\n",
       "    <tr>\n",
       "      <th>2934</th>\n",
       "      <td>Tiny</td>\n",
       "      <td>F</td>\n",
       "      <td>5</td>\n",
       "      <td>1881</td>\n",
       "    </tr>\n",
       "    <tr>\n",
       "      <th>2935</th>\n",
       "      <td>Vernon</td>\n",
       "      <td>F</td>\n",
       "      <td>5</td>\n",
       "      <td>1881</td>\n",
       "    </tr>\n",
       "    <tr>\n",
       "      <th>2936</th>\n",
       "      <td>Verona</td>\n",
       "      <td>F</td>\n",
       "      <td>5</td>\n",
       "      <td>1881</td>\n",
       "    </tr>\n",
       "    <tr>\n",
       "      <th>2937</th>\n",
       "      <td>Viney</td>\n",
       "      <td>F</td>\n",
       "      <td>5</td>\n",
       "      <td>1881</td>\n",
       "    </tr>\n",
       "  </tbody>\n",
       "</table>\n",
       "</div>"
      ],
      "text/plain": [
       "        name sex  births  year\n",
       "2933   Tinie   F       5  1881\n",
       "2934    Tiny   F       5  1881\n",
       "2935  Vernon   F       5  1881\n",
       "2936  Verona   F       5  1881\n",
       "2937   Viney   F       5  1881"
      ]
     },
     "execution_count": 26,
     "metadata": {},
     "output_type": "execute_result"
    }
   ],
   "source": [
    "female_rows1881 = names1881[names1881['sex']=='F']\n",
    "print(type(female_rows1881))\n",
    "female_rows1881.tail()"
   ]
  },
  {
   "cell_type": "markdown",
   "metadata": {},
   "source": [
    "Since there are no male rows in `female_rows1881`, this is an empty DataFrame:"
   ]
  },
  {
   "cell_type": "code",
   "execution_count": 55,
   "metadata": {
    "colab": {
     "base_uri": "https://localhost:8080/",
     "height": 206
    },
    "id": "elDsM1VYACZG",
    "outputId": "7ad3908e-3c8f-4336-87bc-fc7fd3914d35"
   },
   "outputs": [
    {
     "data": {
      "text/html": [
       "<div>\n",
       "<style scoped>\n",
       "    .dataframe tbody tr th:only-of-type {\n",
       "        vertical-align: middle;\n",
       "    }\n",
       "\n",
       "    .dataframe tbody tr th {\n",
       "        vertical-align: top;\n",
       "    }\n",
       "\n",
       "    .dataframe thead th {\n",
       "        text-align: right;\n",
       "    }\n",
       "</style>\n",
       "<table border=\"1\" class=\"dataframe\">\n",
       "  <thead>\n",
       "    <tr style=\"text-align: right;\">\n",
       "      <th></th>\n",
       "      <th>name</th>\n",
       "      <th>sex</th>\n",
       "      <th>births</th>\n",
       "      <th>year</th>\n",
       "    </tr>\n",
       "  </thead>\n",
       "  <tbody>\n",
       "  </tbody>\n",
       "</table>\n",
       "</div>"
      ],
      "text/plain": [
       "Empty DataFrame\n",
       "Columns: [name, sex, births, year]\n",
       "Index: []"
      ]
     },
     "execution_count": 55,
     "metadata": {},
     "output_type": "execute_result"
    }
   ],
   "source": [
    "female_rows1881[female_rows1881['sex'] == 'M']"
   ]
  },
  {
   "cell_type": "markdown",
   "metadata": {},
   "source": [
    "We see that the female 1881 rows comprise about half the 1881 data."
   ]
  },
  {
   "cell_type": "code",
   "execution_count": 57,
   "metadata": {
    "colab": {
     "base_uri": "https://localhost:8080/"
    },
    "id": "YK6e-17fACZJ",
    "outputId": "2630f962-5025-4625-a503-38c4aa08f029"
   },
   "outputs": [
    {
     "data": {
      "text/plain": [
       "938"
      ]
     },
     "execution_count": 57,
     "metadata": {},
     "output_type": "execute_result"
    }
   ],
   "source": [
    "len(female_rows1881)"
   ]
  },
  {
   "cell_type": "code",
   "execution_count": 58,
   "metadata": {
    "colab": {
     "base_uri": "https://localhost:8080/"
    },
    "id": "76S0Z-yNACZK",
    "outputId": "c83a9cc2-59c5-4c92-82dd-114b7f531cf2"
   },
   "outputs": [
    {
     "data": {
      "text/plain": [
       "1935"
      ]
     },
     "execution_count": 58,
     "metadata": {},
     "output_type": "execute_result"
    }
   ],
   "source": [
    "len(names1881)"
   ]
  },
  {
   "cell_type": "markdown",
   "metadata": {},
   "source": [
    "### Summary/Review:  Selection & Indexing"
   ]
  },
  {
   "cell_type": "code",
   "execution_count": 2,
   "metadata": {},
   "outputs": [
    {
     "data": {
      "text/html": [
       "<div>\n",
       "<style scoped>\n",
       "    .dataframe tbody tr th:only-of-type {\n",
       "        vertical-align: middle;\n",
       "    }\n",
       "\n",
       "    .dataframe tbody tr th {\n",
       "        vertical-align: top;\n",
       "    }\n",
       "\n",
       "    .dataframe thead th {\n",
       "        text-align: right;\n",
       "    }\n",
       "</style>\n",
       "<table border=\"1\" class=\"dataframe\">\n",
       "  <thead>\n",
       "    <tr style=\"text-align: right;\">\n",
       "      <th></th>\n",
       "      <th>A</th>\n",
       "      <th>B</th>\n",
       "      <th>C</th>\n",
       "    </tr>\n",
       "  </thead>\n",
       "  <tbody>\n",
       "    <tr>\n",
       "      <th>a</th>\n",
       "      <td>1</td>\n",
       "      <td>11</td>\n",
       "      <td>111</td>\n",
       "    </tr>\n",
       "    <tr>\n",
       "      <th>b</th>\n",
       "      <td>2</td>\n",
       "      <td>22</td>\n",
       "      <td>222</td>\n",
       "    </tr>\n",
       "    <tr>\n",
       "      <th>c</th>\n",
       "      <td>3</td>\n",
       "      <td>33</td>\n",
       "      <td>333</td>\n",
       "    </tr>\n",
       "    <tr>\n",
       "      <th>aa</th>\n",
       "      <td>1</td>\n",
       "      <td>11</td>\n",
       "      <td>111</td>\n",
       "    </tr>\n",
       "    <tr>\n",
       "      <th>bb</th>\n",
       "      <td>2</td>\n",
       "      <td>22</td>\n",
       "      <td>222</td>\n",
       "    </tr>\n",
       "    <tr>\n",
       "      <th>cc</th>\n",
       "      <td>3</td>\n",
       "      <td>33</td>\n",
       "      <td>333</td>\n",
       "    </tr>\n",
       "  </tbody>\n",
       "</table>\n",
       "</div>"
      ],
      "text/plain": [
       "    A   B    C\n",
       "a   1  11  111\n",
       "b   2  22  222\n",
       "c   3  33  333\n",
       "aa  1  11  111\n",
       "bb  2  22  222\n",
       "cc  3  33  333"
      ]
     },
     "execution_count": 2,
     "metadata": {},
     "output_type": "execute_result"
    }
   ],
   "source": [
    "# Example df for the summary below, lower-case for the index, upper-case for the col names\n",
    "import pandas as pd\n",
    "df = pd.DataFrame.from_dict(dict(a=[1,11,111],\n",
    "                                 b=[2,22,222],\n",
    "                                 c=[3,33,333],\n",
    "                                 aa=[1,11,111],\n",
    "                                 bb=[2,22,222],\n",
    "                                 cc=[3,33,333]),\n",
    "                                 orient='index',  # the keyword labeled items are rows\n",
    "                                 columns=['A',\"B\",\"C\"]  # need to label the columns independently\n",
    "                           )\n",
    "df\n",
    "                            "
   ]
  },
  {
   "cell_type": "markdown",
   "metadata": {},
   "source": [
    "Here is a series of examples using the toy example above, summarizing what we've learned so far\n",
    "about selecting `pandas DataFrame` rows and columns.  In each case the type of `pandas` object retutned by the selection expression is given.  `Data Type` refers to the type of data being stored in a particular cell of the `DataFrame` (in our example that's always `int`)."
   ]
  },
  {
   "cell_type": "code",
   "execution_count": 3,
   "metadata": {},
   "outputs": [
    {
     "name": "stdout",
     "output_type": "stream",
     "text": [
      "\n",
      "DataFrame\n",
      "    A   B    C\n",
      "a   1  11  111\n",
      "b   2  22  222\n",
      "c   3  33  333\n",
      "aa  1  11  111\n",
      "bb  2  22  222\n",
      "cc  3  33  333\n",
      "\n",
      "row selection numpylike df.loc['c'] pd.Series\n",
      "A      3\n",
      "B     33\n",
      "C    333\n",
      "Name: c, dtype: int64\n",
      "\n",
      "row slice numpylike df.loc['c': 'bb'] pd.DataFrame\n",
      "    A   B    C\n",
      "c   3  33  333\n",
      "aa  1  11  111\n",
      "bb  2  22  222\n",
      "\n",
      "row col native pandas df['A']['c'] Data Type(int)\n",
      "3\n",
      "\n",
      "row col numpylike df.loc['c','A'] Data Type(int)\n",
      "3\n",
      "\n",
      "bool series native pandas df['A'] == 2 Pd.Series (Boolean)\n",
      "a     False\n",
      "b      True\n",
      "c     False\n",
      "aa    False\n",
      "bb     True\n",
      "cc    False\n",
      "Name: A, dtype: bool\n",
      "\n",
      "bool selection native pandas df[df['A'] == 2] pd.DataFrame\n",
      "    A   B    C\n",
      "b   2  22  222\n",
      "bb  2  22  222\n",
      "\n",
      "bool selection numpy like df.loc[df['A'] == 2] pd.DataFrame\n",
      "    A   B    C\n",
      "b   2  22  222\n",
      "bb  2  22  222\n",
      "\n",
      "row (position) df.iloc[2] pd.Series\n",
      "A      3\n",
      "B     33\n",
      "C    333\n",
      "Name: c, dtype: int64\n",
      "\n",
      "col (position) df.iloc[:,2] pd.Series\n",
      "a     111\n",
      "b     222\n",
      "c     333\n",
      "aa    111\n",
      "bb    222\n",
      "cc    333\n",
      "Name: C, dtype: int64\n",
      "\n",
      " fancy indexing cols native pandas df[['A','C']] pd.DataFrame\n",
      "    A    C\n",
      "a   1  111\n",
      "b   2  222\n",
      "c   3  333\n",
      "aa  1  111\n",
      "bb  2  222\n",
      "cc  3  333\n",
      "\n",
      " fancy indexing cols numpylike df.loc[:,['A','C']] pd.DataFrame\n",
      "    A    C\n",
      "a   1  111\n",
      "b   2  222\n",
      "c   3  333\n",
      "aa  1  111\n",
      "bb  2  222\n",
      "cc  3  333\n",
      "\n",
      " fancy indexing rows df.loc[['b','bb'] pd.DataFrame\n",
      "    A   B    C\n",
      "b   2  22  222\n",
      "bb  2  22  222\n"
     ]
    }
   ],
   "source": [
    "print(\"\\nDataFrame\")\n",
    "print(df)\n",
    "print(\"\\nrow selection numpylike df.loc['c'] pd.Series\")\n",
    "print(df.loc['c'])\n",
    "print(\"\\nrow slice numpylike df.loc['c': 'bb'] pd.DataFrame\")\n",
    "print(df.loc['c': 'bb'])\n",
    "print(\"\\nrow col native pandas df['A']['c'] Data Type(int)\")\n",
    "print(df['A']['c'])\n",
    "print(\"\\nrow col numpylike df.loc['c','A'] Data Type(int)\")\n",
    "print(df.loc['c']['A'])\n",
    "print(\"\\nbool series native pandas df['A'] == 2 Pd.Series (Boolean)\")\n",
    "print(df['A'] == 2)\n",
    "print(\"\\nbool selection native pandas df[df['A'] == 2] pd.DataFrame\")\n",
    "print(df[df['A'] == 2])\n",
    "print(\"\\nbool selection numpy like df.loc[df['A'] == 2] pd.DataFrame\")\n",
    "print(df.loc[df['A'] == 2])\n",
    "print(\"\\nrow (position) df.iloc[2] pd.Series\")\n",
    "print(df.iloc[2] )\n",
    "print(\"\\ncol (position) df.iloc[:,2] pd.Series\")\n",
    "print(df.iloc[:,2])\n",
    "print(\"\\n fancy indexing cols native pandas df[['A','C']] pd.DataFrame\")\n",
    "print(df[['A','C']])\n",
    "print(\"\\n fancy indexing cols numpylike df.loc[:,['A','C']] pd.DataFrame\")\n",
    "print(df.loc[:,['A','C']])\n",
    "print(\"\\n fancy indexing rows df.loc[['b','bb'] pd.DataFrame\")\n",
    "print(df.loc[['b','bb']])"
   ]
  },
  {
   "cell_type": "markdown",
   "metadata": {},
   "source": [
    "Reviewing and summarizing the discussion  above using this example\n",
    "\n",
    " \n",
    "| Selection | Native Pandas  |  Numpy-like     |\n",
    "| :-- | :-: | :-: |\n",
    "|  row      | NA | df.loc['c'] |\n",
    "| row slice |  NA           |df.loc['c': 'bb'] |\n",
    "|  col | df['A'] | df.loc[:,'A'] |\n",
    "| row, col | df['A']['c'] | df.loc['c','A'] |\n",
    "|          |               | df.loc['c']['A'] |\n",
    "| bool series | df['A'] == 2 | Not used |\n",
    "| bool selection | df[df['A'] == 2] | df.loc[df['A'] == 2] |\n",
    "| row (position) |   NA             | df.iloc[2]  |\n",
    "| col (position)      |   NA             | df.iloc[:,2] |\n",
    "| fancy (cols)    |  df[['A','C']]   | df.loc[:,['A','C']] \n",
    "| fancy (rows)    |  NA   | df.loc[['b','bb']] \n"
   ]
  },
  {
   "cell_type": "markdown",
   "metadata": {},
   "source": [
    "### The .value_counts( ) method"
   ]
  },
  {
   "cell_type": "markdown",
   "metadata": {},
   "source": [
    "Suppose we want to learn the number of distinct male and female names. \n",
    "\n",
    "\n",
    "The easiest way to get that information is by using the Series method\n",
    "`S.value_counts()`, where `S` is `Series`. This method creates a new Series `vc` indexed by the distinct values of `S`: the value for each index element of `vc` is the count of how many times that index element occurred in `S`."
   ]
  },
  {
   "cell_type": "code",
   "execution_count": 30,
   "metadata": {},
   "outputs": [
    {
     "data": {
      "text/plain": [
       "M    997\n",
       "F    938\n",
       "Name: sex, dtype: int64"
      ]
     },
     "execution_count": 30,
     "metadata": {},
     "output_type": "execute_result"
    }
   ],
   "source": [
    "names1881 = names[names['year']==1881]\n",
    "\n",
    "\n",
    "names1881['sex'].value_counts()"
   ]
  },
  {
   "cell_type": "markdown",
   "metadata": {},
   "source": [
    "The sum of the value counts equals the number of rows in `names1881`:"
   ]
  },
  {
   "cell_type": "code",
   "execution_count": 31,
   "metadata": {},
   "outputs": [
    {
     "data": {
      "text/plain": [
       "1935"
      ]
     },
     "execution_count": 31,
     "metadata": {},
     "output_type": "execute_result"
    }
   ],
   "source": [
    "len(names1881)"
   ]
  },
  {
   "cell_type": "code",
   "execution_count": 38,
   "metadata": {},
   "outputs": [
    {
     "data": {
      "text/plain": [
       "1935"
      ]
     },
     "execution_count": 38,
     "metadata": {},
     "output_type": "execute_result"
    }
   ],
   "source": [
    "names1881['sex'].value_counts().sum()"
   ]
  },
  {
   "cell_type": "markdown",
   "metadata": {},
   "source": [
    "It turns out Series have a plot method; applying that method to the value_counts  Series, we get:"
   ]
  },
  {
   "cell_type": "code",
   "execution_count": 32,
   "metadata": {},
   "outputs": [
    {
     "data": {
      "text/plain": [
       "<AxesSubplot:title={'center':'1881: Number of Names by Gender'}>"
      ]
     },
     "execution_count": 32,
     "metadata": {},
     "output_type": "execute_result"
    },
    {
     "data": {
      "image/png": "[encoded data removed]",
      "text/plain": [
       "<Figure size 640x480 with 1 Axes>"
      ]
     },
     "metadata": {},
     "output_type": "display_data"
    }
   ],
   "source": [
    "names1881['sex'].value_counts().plot(kind='bar',\n",
    "                                     width=.3,\n",
    "                                     title='1881: Number of Names by Gender')"
   ]
  },
  {
   "cell_type": "markdown",
   "metadata": {},
   "source": [
    "This is our first very simple example of analytical strategy we will use often with `pandas`:\n",
    "\n",
    "1. Use one of `pandas` analytical tools to transform the data into a new DataFrame or Series.\n",
    "2. Exploit the fact that the transformed data has restructured the index and the columns to make a plot summarizing our analysis."
   ]
  },
  {
   "cell_type": "markdown",
   "metadata": {},
   "source": [
    "The plot above shows there were fewer female names than male names in 1881.  In fact,"
   ]
  },
  {
   "cell_type": "code",
   "execution_count": 33,
   "metadata": {},
   "outputs": [
    {
     "data": {
      "text/plain": [
       "0.4847545219638243"
      ]
     },
     "execution_count": 33,
     "metadata": {},
     "output_type": "execute_result"
    }
   ],
   "source": [
    "female_names1881 = names1881[names1881['sex']=='F']\n",
    "len(female_names1881)/len(names1881)"
   ]
  },
  {
   "cell_type": "markdown",
   "metadata": {},
   "source": [
    "only about 48.5% of the names in use were female."
   ]
  },
  {
   "cell_type": "markdown",
   "metadata": {},
   "source": [
    "Translating this code to the entire `names` data set (1881-2010), we see an interesting change."
   ]
  },
  {
   "cell_type": "code",
   "execution_count": 33,
   "metadata": {},
   "outputs": [
    {
     "name": "stdout",
     "output_type": "stream",
     "text": [
      "<class 'pandas.core.series.Series'>\n"
     ]
    },
    {
     "data": {
      "text/plain": [
       "0.5937984982114806"
      ]
     },
     "execution_count": 33,
     "metadata": {},
     "output_type": "execute_result"
    }
   ],
   "source": [
    "print(type(names['sex']=='F'))\n",
    "female_names = names[names['sex']=='F']\n",
    "len(female_names)/len(names)"
   ]
  },
  {
   "cell_type": "code",
   "execution_count": 34,
   "metadata": {},
   "outputs": [
    {
     "data": {
      "text/plain": [
       "<AxesSubplot:title={'center':'1881--2007: Number of Names by Gender'}>"
      ]
     },
     "execution_count": 34,
     "metadata": {},
     "output_type": "execute_result"
    },
    {
     "data": {
      "image/png": "[encoded data removed]",
      "text/plain": [
       "<Figure size 640x480 with 1 Axes>"
      ]
     },
     "metadata": {},
     "output_type": "display_data"
    }
   ],
   "source": [
    "names['sex'].value_counts().plot(kind='bar',width=.3, \n",
    "                                 title='1881--2007: Number of Names by Gender')"
   ]
  },
  {
   "cell_type": "markdown",
   "metadata": {},
   "source": [
    "We see the female rows occupy nearly 60% of the data, meaning that some time\n",
    "after 1881 the diversity of female names overtook and greatly surpassed\n",
    "that of male names."
   ]
  },
  {
   "cell_type": "markdown",
   "metadata": {},
   "source": [
    "#### Cross-tabulation\n",
    "\n",
    "To introduce cross-tabulation we will explore the fact we just discovered, that\n",
    "the proportion of female names increases over time.\n",
    "\n",
    "Let's first create a table that tracks the number of female names and male names\n",
    "year by year.  To do this we want to count the number of times `M` occurs\n",
    "in the `Sex` column with each year and compare it to the number of times `F` \n",
    "occurs in the `Sex ` column with each year.  \n",
    "\n",
    "That's cross tabulation.  We've got 2 columns with categorical value sets\n",
    "(`Sex` and `year`). In those two columns, an\n",
    "individual row gives us a pair like ('M', 1881)\n",
    "or ('F', 1881).  "
   ]
  },
  {
   "cell_type": "code",
   "execution_count": 56,
   "metadata": {},
   "outputs": [
    {
     "data": {
      "text/html": [
       "<div>\n",
       "<style scoped>\n",
       "    .dataframe tbody tr th:only-of-type {\n",
       "        vertical-align: middle;\n",
       "    }\n",
       "\n",
       "    .dataframe tbody tr th {\n",
       "        vertical-align: top;\n",
       "    }\n",
       "\n",
       "    .dataframe thead th {\n",
       "        text-align: right;\n",
       "    }\n",
       "</style>\n",
       "<table border=\"1\" class=\"dataframe\">\n",
       "  <thead>\n",
       "    <tr style=\"text-align: right;\">\n",
       "      <th></th>\n",
       "      <th>sex</th>\n",
       "      <th>year</th>\n",
       "    </tr>\n",
       "  </thead>\n",
       "  <tbody>\n",
       "    <tr>\n",
       "      <th>2000</th>\n",
       "      <td>F</td>\n",
       "      <td>1881</td>\n",
       "    </tr>\n",
       "  </tbody>\n",
       "</table>\n",
       "</div>"
      ],
      "text/plain": [
       "     sex  year\n",
       "2000   F  1881"
      ]
     },
     "execution_count": 56,
     "metadata": {},
     "output_type": "execute_result"
    }
   ],
   "source": [
    "names[(names['year'] == 1881)&(names['sex'] == 'F')][['sex','year']][:1]"
   ]
  },
  {
   "cell_type": "code",
   "execution_count": 55,
   "metadata": {},
   "outputs": [
    {
     "data": {
      "text/html": [
       "<div>\n",
       "<style scoped>\n",
       "    .dataframe tbody tr th:only-of-type {\n",
       "        vertical-align: middle;\n",
       "    }\n",
       "\n",
       "    .dataframe tbody tr th {\n",
       "        vertical-align: top;\n",
       "    }\n",
       "\n",
       "    .dataframe thead th {\n",
       "        text-align: right;\n",
       "    }\n",
       "</style>\n",
       "<table border=\"1\" class=\"dataframe\">\n",
       "  <thead>\n",
       "    <tr style=\"text-align: right;\">\n",
       "      <th></th>\n",
       "      <th>sex</th>\n",
       "      <th>year</th>\n",
       "    </tr>\n",
       "  </thead>\n",
       "  <tbody>\n",
       "    <tr>\n",
       "      <th>2938</th>\n",
       "      <td>M</td>\n",
       "      <td>1881</td>\n",
       "    </tr>\n",
       "  </tbody>\n",
       "</table>\n",
       "</div>"
      ],
      "text/plain": [
       "     sex  year\n",
       "2938   M  1881"
      ]
     },
     "execution_count": 55,
     "metadata": {},
     "output_type": "execute_result"
    }
   ],
   "source": [
    "names[(names['year'] == 1881)&(names['sex'] == 'M')][['sex','year']][:1]"
   ]
  },
  {
   "cell_type": "markdown",
   "metadata": {},
   "source": [
    "We want to count how many times each pair occurs."
   ]
  },
  {
   "cell_type": "code",
   "execution_count": 44,
   "metadata": {},
   "outputs": [],
   "source": [
    "cts = pd.crosstab(names['year'],names['sex'],margins=True)"
   ]
  },
  {
   "cell_type": "code",
   "execution_count": 45,
   "metadata": {},
   "outputs": [
    {
     "data": {
      "text/html": [
       "<div>\n",
       "<style scoped>\n",
       "    .dataframe tbody tr th:only-of-type {\n",
       "        vertical-align: middle;\n",
       "    }\n",
       "\n",
       "    .dataframe tbody tr th {\n",
       "        vertical-align: top;\n",
       "    }\n",
       "\n",
       "    .dataframe thead th {\n",
       "        text-align: right;\n",
       "    }\n",
       "</style>\n",
       "<table border=\"1\" class=\"dataframe\">\n",
       "  <thead>\n",
       "    <tr style=\"text-align: right;\">\n",
       "      <th>sex</th>\n",
       "      <th>F</th>\n",
       "      <th>M</th>\n",
       "      <th>All</th>\n",
       "    </tr>\n",
       "    <tr>\n",
       "      <th>year</th>\n",
       "      <th></th>\n",
       "      <th></th>\n",
       "      <th></th>\n",
       "    </tr>\n",
       "  </thead>\n",
       "  <tbody>\n",
       "    <tr>\n",
       "      <th>1880</th>\n",
       "      <td>942</td>\n",
       "      <td>1058</td>\n",
       "      <td>2000</td>\n",
       "    </tr>\n",
       "    <tr>\n",
       "      <th>1881</th>\n",
       "      <td>938</td>\n",
       "      <td>997</td>\n",
       "      <td>1935</td>\n",
       "    </tr>\n",
       "    <tr>\n",
       "      <th>1882</th>\n",
       "      <td>1028</td>\n",
       "      <td>1099</td>\n",
       "      <td>2127</td>\n",
       "    </tr>\n",
       "    <tr>\n",
       "      <th>1883</th>\n",
       "      <td>1054</td>\n",
       "      <td>1030</td>\n",
       "      <td>2084</td>\n",
       "    </tr>\n",
       "    <tr>\n",
       "      <th>1884</th>\n",
       "      <td>1172</td>\n",
       "      <td>1125</td>\n",
       "      <td>2297</td>\n",
       "    </tr>\n",
       "    <tr>\n",
       "      <th>...</th>\n",
       "      <td>...</td>\n",
       "      <td>...</td>\n",
       "      <td>...</td>\n",
       "    </tr>\n",
       "    <tr>\n",
       "      <th>2007</th>\n",
       "      <td>20520</td>\n",
       "      <td>14363</td>\n",
       "      <td>34883</td>\n",
       "    </tr>\n",
       "    <tr>\n",
       "      <th>2008</th>\n",
       "      <td>20416</td>\n",
       "      <td>14590</td>\n",
       "      <td>35006</td>\n",
       "    </tr>\n",
       "    <tr>\n",
       "      <th>2009</th>\n",
       "      <td>20123</td>\n",
       "      <td>14479</td>\n",
       "      <td>34602</td>\n",
       "    </tr>\n",
       "    <tr>\n",
       "      <th>2010</th>\n",
       "      <td>19698</td>\n",
       "      <td>14140</td>\n",
       "      <td>33838</td>\n",
       "    </tr>\n",
       "    <tr>\n",
       "      <th>All</th>\n",
       "      <td>1003985</td>\n",
       "      <td>686799</td>\n",
       "      <td>1690784</td>\n",
       "    </tr>\n",
       "  </tbody>\n",
       "</table>\n",
       "<p>132 rows × 3 columns</p>\n",
       "</div>"
      ],
      "text/plain": [
       "sex         F       M      All\n",
       "year                          \n",
       "1880      942    1058     2000\n",
       "1881      938     997     1935\n",
       "1882     1028    1099     2127\n",
       "1883     1054    1030     2084\n",
       "1884     1172    1125     2297\n",
       "...       ...     ...      ...\n",
       "2007    20520   14363    34883\n",
       "2008    20416   14590    35006\n",
       "2009    20123   14479    34602\n",
       "2010    19698   14140    33838\n",
       "All   1003985  686799  1690784\n",
       "\n",
       "[132 rows x 3 columns]"
      ]
     },
     "execution_count": 45,
     "metadata": {},
     "output_type": "execute_result"
    }
   ],
   "source": [
    "cts"
   ]
  },
  {
   "cell_type": "markdown",
   "metadata": {},
   "source": [
    "And now we can look at how female name diversity tracks with male name diversity across the\n",
    "years of our dataset."
   ]
  },
  {
   "cell_type": "code",
   "execution_count": 43,
   "metadata": {},
   "outputs": [
    {
     "data": {
      "text/plain": [
       "<AxesSubplot:xlabel='year'>"
      ]
     },
     "execution_count": 43,
     "metadata": {},
     "output_type": "execute_result"
    },
    {
     "data": {
      "image/png": "[encoded data removed]",
      "text/plain": [
       "<Figure size 640x480 with 1 Axes>"
      ]
     },
     "metadata": {},
     "output_type": "display_data"
    }
   ],
   "source": [
    "cts.plot()"
   ]
  },
  {
   "cell_type": "markdown",
   "metadata": {},
   "source": [
    "If we want to look at proportion of female names versus proportion of male names, we could do this:"
   ]
  },
  {
   "cell_type": "code",
   "execution_count": 36,
   "metadata": {},
   "outputs": [],
   "source": [
    "# Turn the counts int0 proportions (rows add up to 1)\n",
    "cts2 = pd.crosstab(names['year'],names['sex'],normalize='index')"
   ]
  },
  {
   "cell_type": "code",
   "execution_count": 48,
   "metadata": {},
   "outputs": [
    {
     "data": {
      "text/html": [
       "<div>\n",
       "<style scoped>\n",
       "    .dataframe tbody tr th:only-of-type {\n",
       "        vertical-align: middle;\n",
       "    }\n",
       "\n",
       "    .dataframe tbody tr th {\n",
       "        vertical-align: top;\n",
       "    }\n",
       "\n",
       "    .dataframe thead th {\n",
       "        text-align: right;\n",
       "    }\n",
       "</style>\n",
       "<table border=\"1\" class=\"dataframe\">\n",
       "  <thead>\n",
       "    <tr style=\"text-align: right;\">\n",
       "      <th>sex</th>\n",
       "      <th>F</th>\n",
       "      <th>M</th>\n",
       "    </tr>\n",
       "    <tr>\n",
       "      <th>year</th>\n",
       "      <th></th>\n",
       "      <th></th>\n",
       "    </tr>\n",
       "  </thead>\n",
       "  <tbody>\n",
       "    <tr>\n",
       "      <th>1880</th>\n",
       "      <td>0.471000</td>\n",
       "      <td>0.529000</td>\n",
       "    </tr>\n",
       "    <tr>\n",
       "      <th>1881</th>\n",
       "      <td>0.484755</td>\n",
       "      <td>0.515245</td>\n",
       "    </tr>\n",
       "    <tr>\n",
       "      <th>1882</th>\n",
       "      <td>0.483310</td>\n",
       "      <td>0.516690</td>\n",
       "    </tr>\n",
       "    <tr>\n",
       "      <th>1883</th>\n",
       "      <td>0.505758</td>\n",
       "      <td>0.494242</td>\n",
       "    </tr>\n",
       "    <tr>\n",
       "      <th>1884</th>\n",
       "      <td>0.510231</td>\n",
       "      <td>0.489769</td>\n",
       "    </tr>\n",
       "    <tr>\n",
       "      <th>...</th>\n",
       "      <td>...</td>\n",
       "      <td>...</td>\n",
       "    </tr>\n",
       "    <tr>\n",
       "      <th>2006</th>\n",
       "      <td>0.588384</td>\n",
       "      <td>0.411616</td>\n",
       "    </tr>\n",
       "    <tr>\n",
       "      <th>2007</th>\n",
       "      <td>0.588252</td>\n",
       "      <td>0.411748</td>\n",
       "    </tr>\n",
       "    <tr>\n",
       "      <th>2008</th>\n",
       "      <td>0.583214</td>\n",
       "      <td>0.416786</td>\n",
       "    </tr>\n",
       "    <tr>\n",
       "      <th>2009</th>\n",
       "      <td>0.581556</td>\n",
       "      <td>0.418444</td>\n",
       "    </tr>\n",
       "    <tr>\n",
       "      <th>2010</th>\n",
       "      <td>0.582127</td>\n",
       "      <td>0.417873</td>\n",
       "    </tr>\n",
       "  </tbody>\n",
       "</table>\n",
       "<p>131 rows × 2 columns</p>\n",
       "</div>"
      ],
      "text/plain": [
       "sex          F         M\n",
       "year                    \n",
       "1880  0.471000  0.529000\n",
       "1881  0.484755  0.515245\n",
       "1882  0.483310  0.516690\n",
       "1883  0.505758  0.494242\n",
       "1884  0.510231  0.489769\n",
       "...        ...       ...\n",
       "2006  0.588384  0.411616\n",
       "2007  0.588252  0.411748\n",
       "2008  0.583214  0.416786\n",
       "2009  0.581556  0.418444\n",
       "2010  0.582127  0.417873\n",
       "\n",
       "[131 rows x 2 columns]"
      ]
     },
     "execution_count": 48,
     "metadata": {},
     "output_type": "execute_result"
    }
   ],
   "source": [
    "cts2"
   ]
  },
  {
   "cell_type": "code",
   "execution_count": 49,
   "metadata": {},
   "outputs": [
    {
     "data": {
      "text/plain": [
       "<AxesSubplot:xlabel='year'>"
      ]
     },
     "execution_count": 49,
     "metadata": {},
     "output_type": "execute_result"
    },
    {
     "data": {
      "image/png": "[encoded data removed]",
      "text/plain": [
       "<Figure size 640x480 with 1 Axes>"
      ]
     },
     "metadata": {},
     "output_type": "display_data"
    }
   ],
   "source": [
    "cts2.plot()"
   ]
  },
  {
   "cell_type": "markdown",
   "metadata": {},
   "source": [
    "This gets a strange plot, because each blue line value and each orange-line value add \n",
    "up to 1 (so when blue rises, orange must go down).  Put another way,\n",
    "when we're visualizing proportions, one of the two lines\n",
    "is redundant.\n",
    "\n",
    "So we plot just one line, by running plot on the `F` column:"
   ]
  },
  {
   "cell_type": "code",
   "execution_count": 60,
   "metadata": {},
   "outputs": [
    {
     "data": {
      "text/plain": [
       "<AxesSubplot:xlabel='year'>"
      ]
     },
     "execution_count": 60,
     "metadata": {},
     "output_type": "execute_result"
    },
    {
     "data": {
      "image/png": "[encoded data removed]",
      "text/plain": [
       "<Figure size 640x480 with 1 Axes>"
      ]
     },
     "metadata": {},
     "output_type": "display_data"
    }
   ],
   "source": [
    "cts2['F'].plot()"
   ]
  },
  {
   "cell_type": "markdown",
   "metadata": {},
   "source": [
    "The answer is surprising.  Female name diversity is not as simple as a continuously rising \n",
    "trend."
   ]
  },
  {
   "cell_type": "markdown",
   "metadata": {},
   "source": [
    "To augment this picture with a 50% line to show the years where female\n",
    "names are in the majority, we can \n",
    "add a new column to `cts2` for the 50% line, and plot the `F`\n",
    "column and the new column."
   ]
  },
  {
   "cell_type": "code",
   "execution_count": 37,
   "metadata": {},
   "outputs": [
    {
     "data": {
      "text/plain": [
       "<AxesSubplot:title={'center':'Percent Female Names by Year'}, xlabel='Year', ylabel='Percent Female Names'>"
      ]
     },
     "execution_count": 37,
     "metadata": {},
     "output_type": "execute_result"
    },
    {
     "data": {
      "image/png": "[encoded data removed]",
      "text/plain": [
       "<Figure size 800x600 with 1 Axes>"
      ]
     },
     "metadata": {},
     "output_type": "display_data"
    }
   ],
   "source": [
    "#df2 = pd.DataFrame(f_row)\n",
    "cts2['50%'] = .5\n",
    "gender_cts_by_year = cts2[['F','50%']]\n",
    "gender_cts_by_year.plot(ylabel='Percent Female Names',xlabel='Year',\n",
    "         title='Percent Female Names by Year', figsize=(8,6))"
   ]
  },
  {
   "cell_type": "markdown",
   "metadata": {},
   "source": [
    "If what you're doing is a pretty standard piece of\n",
    "data analysis, chances are good that `pandas` includes a simple way\n",
    "of doing it.\n",
    "\n",
    "Read some documentation to find potential tools.  Consult stackoverflow for code\n",
    "snippets and pointers on where to look in the doumentation."
   ]
  },
  {
   "cell_type": "markdown",
   "metadata": {
    "id": "X20Rq_OmACZi"
   },
   "source": [
    "# Complaints: a new dataset"
   ]
  },
  {
   "cell_type": "markdown",
   "metadata": {
    "id": "fpkhTFHxACZj"
   },
   "source": [
    "We're going to use a new dataset here, to demonstrate how to deal with datasets with few numerical attributes,\n",
    "or, to put it another way, a large variety of categorical attributes.\n",
    "\n",
    "The next cell provides a URL for a subset of the of 311 service requests from [NYC Open Data](https://nycopendata.socrata.com/Social-Services/311-Service-Requests-from-2010-to-Present/erm2-nwe9). "
   ]
  },
  {
   "cell_type": "code",
   "execution_count": 2,
   "metadata": {
    "id": "rx4BT-FWACZj",
    "outputId": "8a38defc-01f9-48a0-db86-bb4e2bf6baf9"
   },
   "outputs": [],
   "source": [
    "import os.path\n",
    "#How to break up long strings into multiline segments\n",
    "#Note the use of \"line continued\" character \\\n",
    "data_url = 'https://raw.githubusercontent.com/gawron/python-for-social-science/master/'\\\n",
    "'pandas/datasets/311-service-requests.csv'"
   ]
  },
  {
   "cell_type": "code",
   "execution_count": 3,
   "metadata": {
    "id": "9yl3hg44ACZl"
   },
   "outputs": [],
   "source": [
    "import pandas as pd\n",
    "# Some columns are of mixed types.  This is OK.  But we have to set \n",
    "# low_memory=False\n",
    "complaints = pd.read_csv(data_url,low_memory=False)"
   ]
  },
  {
   "cell_type": "code",
   "execution_count": 4,
   "metadata": {},
   "outputs": [
    {
     "name": "stdout",
     "output_type": "stream",
     "text": [
      "<class 'pandas.core.frame.DataFrame'>\n",
      "RangeIndex: 111069 entries, 0 to 111068\n",
      "Data columns (total 52 columns):\n",
      " #   Column                          Non-Null Count   Dtype  \n",
      "---  ------                          --------------   -----  \n",
      " 0   Unique Key                      111069 non-null  int64  \n",
      " 1   Created Date                    111069 non-null  object \n",
      " 2   Closed Date                     60270 non-null   object \n",
      " 3   Agency                          111069 non-null  object \n",
      " 4   Agency Name                     111069 non-null  object \n",
      " 5   Complaint Type                  111069 non-null  object \n",
      " 6   Descriptor                      110613 non-null  object \n",
      " 7   Location Type                   79022 non-null   object \n",
      " 8   Incident Zip                    98807 non-null   object \n",
      " 9   Incident Address                84441 non-null   object \n",
      " 10  Street Name                     84432 non-null   object \n",
      " 11  Cross Street 1                  84728 non-null   object \n",
      " 12  Cross Street 2                  84005 non-null   object \n",
      " 13  Intersection Street 1           19364 non-null   object \n",
      " 14  Intersection Street 2           19366 non-null   object \n",
      " 15  Address Type                    102247 non-null  object \n",
      " 16  City                            98854 non-null   object \n",
      " 17  Landmark                        95 non-null      object \n",
      " 18  Facility Type                   19104 non-null   object \n",
      " 19  Status                          111069 non-null  object \n",
      " 20  Due Date                        39239 non-null   object \n",
      " 21  Resolution Action Updated Date  96507 non-null   object \n",
      " 22  Community Board                 111069 non-null  object \n",
      " 23  Borough                         111069 non-null  object \n",
      " 24  X Coordinate (State Plane)      98143 non-null   float64\n",
      " 25  Y Coordinate (State Plane)      98143 non-null   float64\n",
      " 26  Park Facility Name              111069 non-null  object \n",
      " 27  Park Borough                    111069 non-null  object \n",
      " 28  School Name                     111069 non-null  object \n",
      " 29  School Number                   111048 non-null  object \n",
      " 30  School Region                   110524 non-null  object \n",
      " 31  School Code                     110524 non-null  object \n",
      " 32  School Phone Number             111069 non-null  object \n",
      " 33  School Address                  111069 non-null  object \n",
      " 34  School City                     111069 non-null  object \n",
      " 35  School State                    111069 non-null  object \n",
      " 36  School Zip                      111069 non-null  object \n",
      " 37  School Not Found                38984 non-null   object \n",
      " 38  School or Citywide Complaint    0 non-null       float64\n",
      " 39  Vehicle Type                    99 non-null      object \n",
      " 40  Taxi Company Borough            117 non-null     object \n",
      " 41  Taxi Pick Up Location           1059 non-null    object \n",
      " 42  Bridge Highway Name             185 non-null     object \n",
      " 43  Bridge Highway Direction        185 non-null     object \n",
      " 44  Road Ramp                       180 non-null     object \n",
      " 45  Bridge Highway Segment          219 non-null     object \n",
      " 46  Garage Lot Name                 49 non-null      object \n",
      " 47  Ferry Direction                 24 non-null      object \n",
      " 48  Ferry Terminal Name             70 non-null      object \n",
      " 49  Latitude                        98143 non-null   float64\n",
      " 50  Longitude                       98143 non-null   float64\n",
      " 51  Location                        98143 non-null   object \n",
      "dtypes: float64(5), int64(1), object(46)\n",
      "memory usage: 44.1+ MB\n"
     ]
    }
   ],
   "source": [
    "complaints.info()"
   ]
  },
  {
   "cell_type": "markdown",
   "metadata": {
    "id": "5pH0fWj-ACZn"
   },
   "source": [
    "Note that the `df.info()` summary shows how many non-null values there are in each column,\n",
    "so that you can see there are some columns with very few meaningful entries."
   ]
  },
  {
   "cell_type": "markdown",
   "metadata": {},
   "source": [
    "You can see null-entries in the first 5 rows: They are the entries printed out as `NaN`.\n",
    "\n",
    "`NaN` is short for \"Not a Number\".  It is the standard representation of an undefined result for a numerical calculation.  Here it is being used to mean \"No data entered here\";\n",
    "`NaN` is very commonly used with this meaning in pandas, even in columns that do not have a numerical type; we could, alternatively,  use Python `None` for this purpose."
   ]
  },
  {
   "cell_type": "code",
   "execution_count": 41,
   "metadata": {
    "id": "A_Vy_ZdEACZo",
    "outputId": "c80f7f8b-e6c0-4c86-c9fb-fd4cb090ef6c",
    "scrolled": false
   },
   "outputs": [
    {
     "data": {
      "text/html": [
       "<div>\n",
       "<style scoped>\n",
       "    .dataframe tbody tr th:only-of-type {\n",
       "        vertical-align: middle;\n",
       "    }\n",
       "\n",
       "    .dataframe tbody tr th {\n",
       "        vertical-align: top;\n",
       "    }\n",
       "\n",
       "    .dataframe thead th {\n",
       "        text-align: right;\n",
       "    }\n",
       "</style>\n",
       "<table border=\"1\" class=\"dataframe\">\n",
       "  <thead>\n",
       "    <tr style=\"text-align: right;\">\n",
       "      <th></th>\n",
       "      <th>Unique Key</th>\n",
       "      <th>Created Date</th>\n",
       "      <th>Closed Date</th>\n",
       "      <th>Agency</th>\n",
       "      <th>Agency Name</th>\n",
       "      <th>Complaint Type</th>\n",
       "      <th>Descriptor</th>\n",
       "      <th>Location Type</th>\n",
       "      <th>Incident Zip</th>\n",
       "      <th>Incident Address</th>\n",
       "      <th>Street Name</th>\n",
       "      <th>Cross Street 1</th>\n",
       "      <th>Cross Street 2</th>\n",
       "      <th>Intersection Street 1</th>\n",
       "      <th>Intersection Street 2</th>\n",
       "      <th>Address Type</th>\n",
       "      <th>City</th>\n",
       "      <th>Landmark</th>\n",
       "      <th>Facility Type</th>\n",
       "      <th>Status</th>\n",
       "      <th>Due Date</th>\n",
       "      <th>Resolution Action Updated Date</th>\n",
       "      <th>Community Board</th>\n",
       "      <th>Borough</th>\n",
       "      <th>X Coordinate (State Plane)</th>\n",
       "      <th>Y Coordinate (State Plane)</th>\n",
       "      <th>Park Facility Name</th>\n",
       "      <th>Park Borough</th>\n",
       "      <th>School Name</th>\n",
       "      <th>School Number</th>\n",
       "      <th>School Region</th>\n",
       "      <th>School Code</th>\n",
       "      <th>School Phone Number</th>\n",
       "      <th>School Address</th>\n",
       "      <th>School City</th>\n",
       "      <th>School State</th>\n",
       "      <th>School Zip</th>\n",
       "      <th>School Not Found</th>\n",
       "      <th>School or Citywide Complaint</th>\n",
       "      <th>Vehicle Type</th>\n",
       "      <th>Taxi Company Borough</th>\n",
       "      <th>Taxi Pick Up Location</th>\n",
       "      <th>Bridge Highway Name</th>\n",
       "      <th>Bridge Highway Direction</th>\n",
       "      <th>Road Ramp</th>\n",
       "      <th>Bridge Highway Segment</th>\n",
       "      <th>Garage Lot Name</th>\n",
       "      <th>Ferry Direction</th>\n",
       "      <th>Ferry Terminal Name</th>\n",
       "      <th>Latitude</th>\n",
       "      <th>Longitude</th>\n",
       "      <th>Location</th>\n",
       "    </tr>\n",
       "  </thead>\n",
       "  <tbody>\n",
       "    <tr>\n",
       "      <th>0</th>\n",
       "      <td>26589651</td>\n",
       "      <td>10/31/2013 02:08:41 AM</td>\n",
       "      <td>NaN</td>\n",
       "      <td>NYPD</td>\n",
       "      <td>New York City Police Department</td>\n",
       "      <td>Noise - Street/Sidewalk</td>\n",
       "      <td>Loud Talking</td>\n",
       "      <td>Street/Sidewalk</td>\n",
       "      <td>11432</td>\n",
       "      <td>90-03 169 STREET</td>\n",
       "      <td>169 STREET</td>\n",
       "      <td>90 AVENUE</td>\n",
       "      <td>91 AVENUE</td>\n",
       "      <td>NaN</td>\n",
       "      <td>NaN</td>\n",
       "      <td>ADDRESS</td>\n",
       "      <td>JAMAICA</td>\n",
       "      <td>NaN</td>\n",
       "      <td>Precinct</td>\n",
       "      <td>Assigned</td>\n",
       "      <td>10/31/2013 10:08:41 AM</td>\n",
       "      <td>10/31/2013 02:35:17 AM</td>\n",
       "      <td>12 QUEENS</td>\n",
       "      <td>QUEENS</td>\n",
       "      <td>1042027.0</td>\n",
       "      <td>197389.0</td>\n",
       "      <td>Unspecified</td>\n",
       "      <td>QUEENS</td>\n",
       "      <td>Unspecified</td>\n",
       "      <td>Unspecified</td>\n",
       "      <td>Unspecified</td>\n",
       "      <td>Unspecified</td>\n",
       "      <td>Unspecified</td>\n",
       "      <td>Unspecified</td>\n",
       "      <td>Unspecified</td>\n",
       "      <td>Unspecified</td>\n",
       "      <td>Unspecified</td>\n",
       "      <td>N</td>\n",
       "      <td>NaN</td>\n",
       "      <td>NaN</td>\n",
       "      <td>NaN</td>\n",
       "      <td>NaN</td>\n",
       "      <td>NaN</td>\n",
       "      <td>NaN</td>\n",
       "      <td>NaN</td>\n",
       "      <td>NaN</td>\n",
       "      <td>NaN</td>\n",
       "      <td>NaN</td>\n",
       "      <td>NaN</td>\n",
       "      <td>40.708275</td>\n",
       "      <td>-73.791604</td>\n",
       "      <td>(40.70827532593202, -73.79160395779721)</td>\n",
       "    </tr>\n",
       "    <tr>\n",
       "      <th>1</th>\n",
       "      <td>26593698</td>\n",
       "      <td>10/31/2013 02:01:04 AM</td>\n",
       "      <td>NaN</td>\n",
       "      <td>NYPD</td>\n",
       "      <td>New York City Police Department</td>\n",
       "      <td>Illegal Parking</td>\n",
       "      <td>Commercial Overnight Parking</td>\n",
       "      <td>Street/Sidewalk</td>\n",
       "      <td>11378</td>\n",
       "      <td>58 AVENUE</td>\n",
       "      <td>58 AVENUE</td>\n",
       "      <td>58 PLACE</td>\n",
       "      <td>59 STREET</td>\n",
       "      <td>NaN</td>\n",
       "      <td>NaN</td>\n",
       "      <td>BLOCKFACE</td>\n",
       "      <td>MASPETH</td>\n",
       "      <td>NaN</td>\n",
       "      <td>Precinct</td>\n",
       "      <td>Open</td>\n",
       "      <td>10/31/2013 10:01:04 AM</td>\n",
       "      <td>NaN</td>\n",
       "      <td>05 QUEENS</td>\n",
       "      <td>QUEENS</td>\n",
       "      <td>1009349.0</td>\n",
       "      <td>201984.0</td>\n",
       "      <td>Unspecified</td>\n",
       "      <td>QUEENS</td>\n",
       "      <td>Unspecified</td>\n",
       "      <td>Unspecified</td>\n",
       "      <td>Unspecified</td>\n",
       "      <td>Unspecified</td>\n",
       "      <td>Unspecified</td>\n",
       "      <td>Unspecified</td>\n",
       "      <td>Unspecified</td>\n",
       "      <td>Unspecified</td>\n",
       "      <td>Unspecified</td>\n",
       "      <td>N</td>\n",
       "      <td>NaN</td>\n",
       "      <td>NaN</td>\n",
       "      <td>NaN</td>\n",
       "      <td>NaN</td>\n",
       "      <td>NaN</td>\n",
       "      <td>NaN</td>\n",
       "      <td>NaN</td>\n",
       "      <td>NaN</td>\n",
       "      <td>NaN</td>\n",
       "      <td>NaN</td>\n",
       "      <td>NaN</td>\n",
       "      <td>40.721041</td>\n",
       "      <td>-73.909453</td>\n",
       "      <td>(40.721040535628305, -73.90945306791765)</td>\n",
       "    </tr>\n",
       "    <tr>\n",
       "      <th>2</th>\n",
       "      <td>26594139</td>\n",
       "      <td>10/31/2013 02:00:24 AM</td>\n",
       "      <td>10/31/2013 02:40:32 AM</td>\n",
       "      <td>NYPD</td>\n",
       "      <td>New York City Police Department</td>\n",
       "      <td>Noise - Commercial</td>\n",
       "      <td>Loud Music/Party</td>\n",
       "      <td>Club/Bar/Restaurant</td>\n",
       "      <td>10032</td>\n",
       "      <td>4060 BROADWAY</td>\n",
       "      <td>BROADWAY</td>\n",
       "      <td>WEST 171 STREET</td>\n",
       "      <td>WEST 172 STREET</td>\n",
       "      <td>NaN</td>\n",
       "      <td>NaN</td>\n",
       "      <td>ADDRESS</td>\n",
       "      <td>NEW YORK</td>\n",
       "      <td>NaN</td>\n",
       "      <td>Precinct</td>\n",
       "      <td>Closed</td>\n",
       "      <td>10/31/2013 10:00:24 AM</td>\n",
       "      <td>10/31/2013 02:39:42 AM</td>\n",
       "      <td>12 MANHATTAN</td>\n",
       "      <td>MANHATTAN</td>\n",
       "      <td>1001088.0</td>\n",
       "      <td>246531.0</td>\n",
       "      <td>Unspecified</td>\n",
       "      <td>MANHATTAN</td>\n",
       "      <td>Unspecified</td>\n",
       "      <td>Unspecified</td>\n",
       "      <td>Unspecified</td>\n",
       "      <td>Unspecified</td>\n",
       "      <td>Unspecified</td>\n",
       "      <td>Unspecified</td>\n",
       "      <td>Unspecified</td>\n",
       "      <td>Unspecified</td>\n",
       "      <td>Unspecified</td>\n",
       "      <td>N</td>\n",
       "      <td>NaN</td>\n",
       "      <td>NaN</td>\n",
       "      <td>NaN</td>\n",
       "      <td>NaN</td>\n",
       "      <td>NaN</td>\n",
       "      <td>NaN</td>\n",
       "      <td>NaN</td>\n",
       "      <td>NaN</td>\n",
       "      <td>NaN</td>\n",
       "      <td>NaN</td>\n",
       "      <td>NaN</td>\n",
       "      <td>40.843330</td>\n",
       "      <td>-73.939144</td>\n",
       "      <td>(40.84332975466513, -73.93914371913482)</td>\n",
       "    </tr>\n",
       "    <tr>\n",
       "      <th>3</th>\n",
       "      <td>26595721</td>\n",
       "      <td>10/31/2013 01:56:23 AM</td>\n",
       "      <td>10/31/2013 02:21:48 AM</td>\n",
       "      <td>NYPD</td>\n",
       "      <td>New York City Police Department</td>\n",
       "      <td>Noise - Vehicle</td>\n",
       "      <td>Car/Truck Horn</td>\n",
       "      <td>Street/Sidewalk</td>\n",
       "      <td>10023</td>\n",
       "      <td>WEST 72 STREET</td>\n",
       "      <td>WEST 72 STREET</td>\n",
       "      <td>COLUMBUS AVENUE</td>\n",
       "      <td>AMSTERDAM AVENUE</td>\n",
       "      <td>NaN</td>\n",
       "      <td>NaN</td>\n",
       "      <td>BLOCKFACE</td>\n",
       "      <td>NEW YORK</td>\n",
       "      <td>NaN</td>\n",
       "      <td>Precinct</td>\n",
       "      <td>Closed</td>\n",
       "      <td>10/31/2013 09:56:23 AM</td>\n",
       "      <td>10/31/2013 02:21:10 AM</td>\n",
       "      <td>07 MANHATTAN</td>\n",
       "      <td>MANHATTAN</td>\n",
       "      <td>989730.0</td>\n",
       "      <td>222727.0</td>\n",
       "      <td>Unspecified</td>\n",
       "      <td>MANHATTAN</td>\n",
       "      <td>Unspecified</td>\n",
       "      <td>Unspecified</td>\n",
       "      <td>Unspecified</td>\n",
       "      <td>Unspecified</td>\n",
       "      <td>Unspecified</td>\n",
       "      <td>Unspecified</td>\n",
       "      <td>Unspecified</td>\n",
       "      <td>Unspecified</td>\n",
       "      <td>Unspecified</td>\n",
       "      <td>N</td>\n",
       "      <td>NaN</td>\n",
       "      <td>NaN</td>\n",
       "      <td>NaN</td>\n",
       "      <td>NaN</td>\n",
       "      <td>NaN</td>\n",
       "      <td>NaN</td>\n",
       "      <td>NaN</td>\n",
       "      <td>NaN</td>\n",
       "      <td>NaN</td>\n",
       "      <td>NaN</td>\n",
       "      <td>NaN</td>\n",
       "      <td>40.778009</td>\n",
       "      <td>-73.980213</td>\n",
       "      <td>(40.7780087446372, -73.98021349023975)</td>\n",
       "    </tr>\n",
       "    <tr>\n",
       "      <th>4</th>\n",
       "      <td>26590930</td>\n",
       "      <td>10/31/2013 01:53:44 AM</td>\n",
       "      <td>NaN</td>\n",
       "      <td>DOHMH</td>\n",
       "      <td>Department of Health and Mental Hygiene</td>\n",
       "      <td>Rodent</td>\n",
       "      <td>Condition Attracting Rodents</td>\n",
       "      <td>Vacant Lot</td>\n",
       "      <td>10027</td>\n",
       "      <td>WEST 124 STREET</td>\n",
       "      <td>WEST 124 STREET</td>\n",
       "      <td>LENOX AVENUE</td>\n",
       "      <td>ADAM CLAYTON POWELL JR BOULEVARD</td>\n",
       "      <td>NaN</td>\n",
       "      <td>NaN</td>\n",
       "      <td>BLOCKFACE</td>\n",
       "      <td>NEW YORK</td>\n",
       "      <td>NaN</td>\n",
       "      <td>NaN</td>\n",
       "      <td>Pending</td>\n",
       "      <td>11/30/2013 01:53:44 AM</td>\n",
       "      <td>10/31/2013 01:59:54 AM</td>\n",
       "      <td>10 MANHATTAN</td>\n",
       "      <td>MANHATTAN</td>\n",
       "      <td>998815.0</td>\n",
       "      <td>233545.0</td>\n",
       "      <td>Unspecified</td>\n",
       "      <td>MANHATTAN</td>\n",
       "      <td>Unspecified</td>\n",
       "      <td>Unspecified</td>\n",
       "      <td>Unspecified</td>\n",
       "      <td>Unspecified</td>\n",
       "      <td>Unspecified</td>\n",
       "      <td>Unspecified</td>\n",
       "      <td>Unspecified</td>\n",
       "      <td>Unspecified</td>\n",
       "      <td>Unspecified</td>\n",
       "      <td>N</td>\n",
       "      <td>NaN</td>\n",
       "      <td>NaN</td>\n",
       "      <td>NaN</td>\n",
       "      <td>NaN</td>\n",
       "      <td>NaN</td>\n",
       "      <td>NaN</td>\n",
       "      <td>NaN</td>\n",
       "      <td>NaN</td>\n",
       "      <td>NaN</td>\n",
       "      <td>NaN</td>\n",
       "      <td>NaN</td>\n",
       "      <td>40.807691</td>\n",
       "      <td>-73.947387</td>\n",
       "      <td>(40.80769092704951, -73.94738703491433)</td>\n",
       "    </tr>\n",
       "  </tbody>\n",
       "</table>\n",
       "</div>"
      ],
      "text/plain": [
       "   Unique Key            Created Date             Closed Date Agency                              Agency Name           Complaint Type                    Descriptor        Location Type Incident Zip  Incident Address      Street Name   Cross Street 1                    Cross Street 2 Intersection Street 1 Intersection Street 2 Address Type      City Landmark Facility Type    Status                Due Date Resolution Action Updated Date Community Board    Borough  X Coordinate (State Plane)  Y Coordinate (State Plane) Park Facility Name Park Borough  School Name School Number School Region  School Code School Phone Number School Address  School City School State   School Zip School Not Found  School or Citywide Complaint Vehicle Type Taxi Company Borough Taxi Pick Up Location Bridge Highway Name Bridge Highway Direction Road Ramp Bridge Highway Segment Garage Lot Name Ferry Direction Ferry Terminal Name   Latitude  Longitude                                  Location\n",
       "0    26589651  10/31/2013 02:08:41 AM                     NaN   NYPD          New York City Police Department  Noise - Street/Sidewalk                  Loud Talking      Street/Sidewalk        11432  90-03 169 STREET       169 STREET        90 AVENUE                         91 AVENUE                   NaN                   NaN      ADDRESS   JAMAICA      NaN      Precinct  Assigned  10/31/2013 10:08:41 AM         10/31/2013 02:35:17 AM       12 QUEENS     QUEENS                   1042027.0                    197389.0        Unspecified       QUEENS  Unspecified   Unspecified   Unspecified  Unspecified         Unspecified    Unspecified  Unspecified  Unspecified  Unspecified                N                           NaN          NaN                  NaN                   NaN                 NaN                      NaN       NaN                    NaN             NaN             NaN                 NaN  40.708275 -73.791604   (40.70827532593202, -73.79160395779721)\n",
       "1    26593698  10/31/2013 02:01:04 AM                     NaN   NYPD          New York City Police Department          Illegal Parking  Commercial Overnight Parking      Street/Sidewalk        11378         58 AVENUE        58 AVENUE         58 PLACE                         59 STREET                   NaN                   NaN    BLOCKFACE   MASPETH      NaN      Precinct      Open  10/31/2013 10:01:04 AM                            NaN       05 QUEENS     QUEENS                   1009349.0                    201984.0        Unspecified       QUEENS  Unspecified   Unspecified   Unspecified  Unspecified         Unspecified    Unspecified  Unspecified  Unspecified  Unspecified                N                           NaN          NaN                  NaN                   NaN                 NaN                      NaN       NaN                    NaN             NaN             NaN                 NaN  40.721041 -73.909453  (40.721040535628305, -73.90945306791765)\n",
       "2    26594139  10/31/2013 02:00:24 AM  10/31/2013 02:40:32 AM   NYPD          New York City Police Department       Noise - Commercial              Loud Music/Party  Club/Bar/Restaurant        10032     4060 BROADWAY         BROADWAY  WEST 171 STREET                   WEST 172 STREET                   NaN                   NaN      ADDRESS  NEW YORK      NaN      Precinct    Closed  10/31/2013 10:00:24 AM         10/31/2013 02:39:42 AM    12 MANHATTAN  MANHATTAN                   1001088.0                    246531.0        Unspecified    MANHATTAN  Unspecified   Unspecified   Unspecified  Unspecified         Unspecified    Unspecified  Unspecified  Unspecified  Unspecified                N                           NaN          NaN                  NaN                   NaN                 NaN                      NaN       NaN                    NaN             NaN             NaN                 NaN  40.843330 -73.939144   (40.84332975466513, -73.93914371913482)\n",
       "3    26595721  10/31/2013 01:56:23 AM  10/31/2013 02:21:48 AM   NYPD          New York City Police Department          Noise - Vehicle                Car/Truck Horn      Street/Sidewalk        10023    WEST 72 STREET   WEST 72 STREET  COLUMBUS AVENUE                  AMSTERDAM AVENUE                   NaN                   NaN    BLOCKFACE  NEW YORK      NaN      Precinct    Closed  10/31/2013 09:56:23 AM         10/31/2013 02:21:10 AM    07 MANHATTAN  MANHATTAN                    989730.0                    222727.0        Unspecified    MANHATTAN  Unspecified   Unspecified   Unspecified  Unspecified         Unspecified    Unspecified  Unspecified  Unspecified  Unspecified                N                           NaN          NaN                  NaN                   NaN                 NaN                      NaN       NaN                    NaN             NaN             NaN                 NaN  40.778009 -73.980213    (40.7780087446372, -73.98021349023975)\n",
       "4    26590930  10/31/2013 01:53:44 AM                     NaN  DOHMH  Department of Health and Mental Hygiene                   Rodent  Condition Attracting Rodents           Vacant Lot        10027   WEST 124 STREET  WEST 124 STREET     LENOX AVENUE  ADAM CLAYTON POWELL JR BOULEVARD                   NaN                   NaN    BLOCKFACE  NEW YORK      NaN           NaN   Pending  11/30/2013 01:53:44 AM         10/31/2013 01:59:54 AM    10 MANHATTAN  MANHATTAN                    998815.0                    233545.0        Unspecified    MANHATTAN  Unspecified   Unspecified   Unspecified  Unspecified         Unspecified    Unspecified  Unspecified  Unspecified  Unspecified                N                           NaN          NaN                  NaN                   NaN                 NaN                      NaN       NaN                    NaN             NaN             NaN                 NaN  40.807691 -73.947387   (40.80769092704951, -73.94738703491433)"
      ]
     },
     "execution_count": 41,
     "metadata": {},
     "output_type": "execute_result"
    }
   ],
   "source": [
    "complaints[:5]"
   ]
  },
  {
   "cell_type": "markdown",
   "metadata": {
    "id": "K-4cvYzaACZp"
   },
   "source": [
    "# 2.2 Selecting columns and rows"
   ]
  },
  {
   "cell_type": "markdown",
   "metadata": {
    "id": "F59rDdYJACZp"
   },
   "source": [
    "As before we can select a column, by indexing with the name of the column:"
   ]
  },
  {
   "cell_type": "code",
   "execution_count": 42,
   "metadata": {
    "id": "CFPHNkwKACZq",
    "outputId": "87c8a741-11d7-4be5-ff0a-bd0358ebc82d"
   },
   "outputs": [
    {
     "data": {
      "text/plain": [
       "0         Noise - Street/Sidewalk\n",
       "1                 Illegal Parking\n",
       "2              Noise - Commercial\n",
       "3                 Noise - Vehicle\n",
       "4                          Rodent\n",
       "                   ...           \n",
       "111064    Maintenance or Facility\n",
       "111065            Illegal Parking\n",
       "111066    Noise - Street/Sidewalk\n",
       "111067         Noise - Commercial\n",
       "111068           Blocked Driveway\n",
       "Name: Complaint Type, Length: 111069, dtype: object"
      ]
     },
     "execution_count": 42,
     "metadata": {},
     "output_type": "execute_result"
    }
   ],
   "source": [
    "complaints['Complaint Type']"
   ]
  },
  {
   "cell_type": "markdown",
   "metadata": {
    "id": "pwhzRhCrACZr"
   },
   "source": [
    "As above we select rows by constructing Boolean Series:"
   ]
  },
  {
   "cell_type": "code",
   "execution_count": 43,
   "metadata": {
    "id": "e31qGYaYACZr",
    "outputId": "325dd6b3-db16-44c2-cd67-a317c4431b85"
   },
   "outputs": [
    {
     "data": {
      "text/plain": [
       "0     True\n",
       "1     True\n",
       "2     True\n",
       "3     True\n",
       "4    False\n",
       "5     True\n",
       "6     True\n",
       "7     True\n",
       "8     True\n",
       "9     True\n",
       "Name: Agency, dtype: bool"
      ]
     },
     "execution_count": 43,
     "metadata": {},
     "output_type": "execute_result"
    }
   ],
   "source": [
    "nypd_bool = (complaints['Agency'] == 'NYPD')\n",
    "nypd_bool[:10]"
   ]
  },
  {
   "cell_type": "markdown",
   "metadata": {},
   "source": [
    "We construct a sub frame that has only Police Department complaints."
   ]
  },
  {
   "cell_type": "code",
   "execution_count": 44,
   "metadata": {
    "id": "2mlBGkRQACZu"
   },
   "outputs": [],
   "source": [
    "nypd_df = complaints[nypd_bool]"
   ]
  },
  {
   "cell_type": "markdown",
   "metadata": {},
   "source": [
    "But there are 20 kinds of PD complaints in this data."
   ]
  },
  {
   "cell_type": "code",
   "execution_count": 45,
   "metadata": {},
   "outputs": [
    {
     "data": {
      "text/plain": [
       "array(['Noise - Street/Sidewalk', 'Illegal Parking', 'Noise - Commercial',\n",
       "       'Noise - Vehicle', 'Blocked Driveway', 'Noise - House of Worship',\n",
       "       'Homeless Encampment', 'Noise - Park', 'Drinking', 'Panhandling',\n",
       "       'Derelict Vehicle', 'Bike/Roller/Skate Chronic', 'Animal Abuse',\n",
       "       'Traffic', 'Vending', 'Graffiti', 'Posting Advertisement',\n",
       "       'Urinating in Public', 'Disorderly Youth', 'Illegal Fireworks'],\n",
       "      dtype=object)"
      ]
     },
     "execution_count": 45,
     "metadata": {},
     "output_type": "execute_result"
    }
   ],
   "source": [
    "complaint_set = nypd_df['Complaint Type'].unique()\n",
    "complaint_set"
   ]
  },
  {
   "cell_type": "markdown",
   "metadata": {},
   "source": [
    "So we limit it further:"
   ]
  },
  {
   "cell_type": "code",
   "execution_count": 46,
   "metadata": {
    "id": "WJedEo4iACZy"
   },
   "outputs": [],
   "source": [
    "il_df = nypd_df[nypd_df['Complaint Type'] == 'Illegal Parking']"
   ]
  },
  {
   "cell_type": "markdown",
   "metadata": {},
   "source": [
    "More constraints means progressively smaller DataFrames:"
   ]
  },
  {
   "cell_type": "code",
   "execution_count": 47,
   "metadata": {
    "id": "83DWkwynACZz",
    "outputId": "ea4b0c19-ddf1-40c1-a8b4-88b0803ceb02"
   },
   "outputs": [
    {
     "data": {
      "text/plain": [
       "(111069, 15295, 3343)"
      ]
     },
     "execution_count": 47,
     "metadata": {},
     "output_type": "execute_result"
    }
   ],
   "source": [
    "(len(complaints), len(nypd_df), len(il_df))"
   ]
  },
  {
   "cell_type": "markdown",
   "metadata": {},
   "source": [
    "The indexing syntax is also the one that extends to accommodate\n",
    "selection of multiple columns, using the fancy-indexing convention from `numpy`\n",
    "(index via an arbitrary sequence of indices)."
   ]
  },
  {
   "cell_type": "code",
   "execution_count": null,
   "metadata": {
    "id": "wsd7Qtm9ACaA",
    "outputId": "b76c5859-facc-41cc-80a1-8f91098048a3"
   },
   "outputs": [
    {
     "data": {
      "text/html": [
       "<div>\n",
       "<style scoped>\n",
       "    .dataframe tbody tr th:only-of-type {\n",
       "        vertical-align: middle;\n",
       "    }\n",
       "\n",
       "    .dataframe tbody tr th {\n",
       "        vertical-align: top;\n",
       "    }\n",
       "\n",
       "    .dataframe thead th {\n",
       "        text-align: right;\n",
       "    }\n",
       "</style>\n",
       "<table border=\"1\" class=\"dataframe\">\n",
       "  <thead>\n",
       "    <tr style=\"text-align: right;\">\n",
       "      <th></th>\n",
       "      <th>Complaint Type</th>\n",
       "      <th>Borough</th>\n",
       "    </tr>\n",
       "  </thead>\n",
       "  <tbody>\n",
       "    <tr>\n",
       "      <th>0</th>\n",
       "      <td>Noise - Street/Sidewalk</td>\n",
       "      <td>QUEENS</td>\n",
       "    </tr>\n",
       "    <tr>\n",
       "      <th>1</th>\n",
       "      <td>Illegal Parking</td>\n",
       "      <td>QUEENS</td>\n",
       "    </tr>\n",
       "    <tr>\n",
       "      <th>2</th>\n",
       "      <td>Noise - Commercial</td>\n",
       "      <td>MANHATTAN</td>\n",
       "    </tr>\n",
       "    <tr>\n",
       "      <th>3</th>\n",
       "      <td>Noise - Vehicle</td>\n",
       "      <td>MANHATTAN</td>\n",
       "    </tr>\n",
       "    <tr>\n",
       "      <th>4</th>\n",
       "      <td>Rodent</td>\n",
       "      <td>MANHATTAN</td>\n",
       "    </tr>\n",
       "    <tr>\n",
       "      <th>5</th>\n",
       "      <td>Noise - Commercial</td>\n",
       "      <td>QUEENS</td>\n",
       "    </tr>\n",
       "    <tr>\n",
       "      <th>6</th>\n",
       "      <td>Blocked Driveway</td>\n",
       "      <td>QUEENS</td>\n",
       "    </tr>\n",
       "    <tr>\n",
       "      <th>7</th>\n",
       "      <td>Noise - Commercial</td>\n",
       "      <td>QUEENS</td>\n",
       "    </tr>\n",
       "    <tr>\n",
       "      <th>8</th>\n",
       "      <td>Noise - Commercial</td>\n",
       "      <td>MANHATTAN</td>\n",
       "    </tr>\n",
       "    <tr>\n",
       "      <th>9</th>\n",
       "      <td>Noise - Commercial</td>\n",
       "      <td>BROOKLYN</td>\n",
       "    </tr>\n",
       "  </tbody>\n",
       "</table>\n",
       "</div>"
      ],
      "text/plain": [
       "            Complaint Type    Borough\n",
       "0  Noise - Street/Sidewalk     QUEENS\n",
       "1          Illegal Parking     QUEENS\n",
       "2       Noise - Commercial  MANHATTAN\n",
       "3          Noise - Vehicle  MANHATTAN\n",
       "4                   Rodent  MANHATTAN\n",
       "5       Noise - Commercial     QUEENS\n",
       "6         Blocked Driveway     QUEENS\n",
       "7       Noise - Commercial     QUEENS\n",
       "8       Noise - Commercial  MANHATTAN\n",
       "9       Noise - Commercial   BROOKLYN"
      ]
     },
     "execution_count": 64,
     "metadata": {
      "tags": []
     },
     "output_type": "execute_result"
    }
   ],
   "source": [
    "complaints[['Complaint Type', 'Borough']][:10]"
   ]
  },
  {
   "cell_type": "markdown",
   "metadata": {},
   "source": [
    "Narrowing down the set of columns is a common step, especially important\n",
    "when performing further analytical caulculations like pivot tables."
   ]
  },
  {
   "cell_type": "markdown",
   "metadata": {},
   "source": [
    "### Using crosstab with the complaints data "
   ]
  },
  {
   "cell_type": "markdown",
   "metadata": {},
   "source": [
    "**Complaints Problem A**: For each agency, find its frequency in each borough.\n",
    "\n",
    "This is a cross-tabulation question: We use `crosstab` to get the joint distribution counts for  two attributes.  "
   ]
  },
  {
   "cell_type": "code",
   "execution_count": 290,
   "metadata": {
    "scrolled": false
   },
   "outputs": [
    {
     "data": {
      "text/html": [
       "<div>\n",
       "<style scoped>\n",
       "    .dataframe tbody tr th:only-of-type {\n",
       "        vertical-align: middle;\n",
       "    }\n",
       "\n",
       "    .dataframe tbody tr th {\n",
       "        vertical-align: top;\n",
       "    }\n",
       "\n",
       "    .dataframe thead th {\n",
       "        text-align: right;\n",
       "    }\n",
       "</style>\n",
       "<table border=\"1\" class=\"dataframe\">\n",
       "  <thead>\n",
       "    <tr style=\"text-align: right;\">\n",
       "      <th>Borough</th>\n",
       "      <th>BRONX</th>\n",
       "      <th>BROOKLYN</th>\n",
       "      <th>MANHATTAN</th>\n",
       "      <th>QUEENS</th>\n",
       "      <th>STATEN ISLAND</th>\n",
       "      <th>Unspecified</th>\n",
       "    </tr>\n",
       "    <tr>\n",
       "      <th>Agency</th>\n",
       "      <th></th>\n",
       "      <th></th>\n",
       "      <th></th>\n",
       "      <th></th>\n",
       "      <th></th>\n",
       "      <th></th>\n",
       "    </tr>\n",
       "  </thead>\n",
       "  <tbody>\n",
       "    <tr>\n",
       "      <th>3-1-1</th>\n",
       "      <td>0</td>\n",
       "      <td>8</td>\n",
       "      <td>11</td>\n",
       "      <td>12</td>\n",
       "      <td>1</td>\n",
       "      <td>60</td>\n",
       "    </tr>\n",
       "    <tr>\n",
       "      <th>CHALL</th>\n",
       "      <td>0</td>\n",
       "      <td>0</td>\n",
       "      <td>0</td>\n",
       "      <td>0</td>\n",
       "      <td>0</td>\n",
       "      <td>77</td>\n",
       "    </tr>\n",
       "    <tr>\n",
       "      <th>COIB</th>\n",
       "      <td>0</td>\n",
       "      <td>0</td>\n",
       "      <td>0</td>\n",
       "      <td>0</td>\n",
       "      <td>0</td>\n",
       "      <td>1</td>\n",
       "    </tr>\n",
       "    <tr>\n",
       "      <th>DCA</th>\n",
       "      <td>155</td>\n",
       "      <td>357</td>\n",
       "      <td>358</td>\n",
       "      <td>284</td>\n",
       "      <td>36</td>\n",
       "      <td>215</td>\n",
       "    </tr>\n",
       "    <tr>\n",
       "      <th>DEP</th>\n",
       "      <td>791</td>\n",
       "      <td>2069</td>\n",
       "      <td>3419</td>\n",
       "      <td>1916</td>\n",
       "      <td>690</td>\n",
       "      <td>12</td>\n",
       "    </tr>\n",
       "    <tr>\n",
       "      <th>DFTA</th>\n",
       "      <td>4</td>\n",
       "      <td>5</td>\n",
       "      <td>3</td>\n",
       "      <td>3</td>\n",
       "      <td>0</td>\n",
       "      <td>7</td>\n",
       "    </tr>\n",
       "    <tr>\n",
       "      <th>DHS</th>\n",
       "      <td>6</td>\n",
       "      <td>31</td>\n",
       "      <td>54</td>\n",
       "      <td>8</td>\n",
       "      <td>0</td>\n",
       "      <td>2</td>\n",
       "    </tr>\n",
       "    <tr>\n",
       "      <th>DOB</th>\n",
       "      <td>358</td>\n",
       "      <td>775</td>\n",
       "      <td>477</td>\n",
       "      <td>1257</td>\n",
       "      <td>147</td>\n",
       "      <td>0</td>\n",
       "    </tr>\n",
       "    <tr>\n",
       "      <th>DOE</th>\n",
       "      <td>17</td>\n",
       "      <td>26</td>\n",
       "      <td>24</td>\n",
       "      <td>15</td>\n",
       "      <td>7</td>\n",
       "      <td>8</td>\n",
       "    </tr>\n",
       "    <tr>\n",
       "      <th>DOF</th>\n",
       "      <td>78</td>\n",
       "      <td>149</td>\n",
       "      <td>215</td>\n",
       "      <td>116</td>\n",
       "      <td>6</td>\n",
       "      <td>5806</td>\n",
       "    </tr>\n",
       "    <tr>\n",
       "      <th>DOHMH</th>\n",
       "      <td>657</td>\n",
       "      <td>891</td>\n",
       "      <td>913</td>\n",
       "      <td>602</td>\n",
       "      <td>174</td>\n",
       "      <td>0</td>\n",
       "    </tr>\n",
       "    <tr>\n",
       "      <th>DOITT</th>\n",
       "      <td>3</td>\n",
       "      <td>8</td>\n",
       "      <td>15</td>\n",
       "      <td>2</td>\n",
       "      <td>3</td>\n",
       "      <td>0</td>\n",
       "    </tr>\n",
       "    <tr>\n",
       "      <th>DOP</th>\n",
       "      <td>0</td>\n",
       "      <td>0</td>\n",
       "      <td>0</td>\n",
       "      <td>0</td>\n",
       "      <td>0</td>\n",
       "      <td>2</td>\n",
       "    </tr>\n",
       "    <tr>\n",
       "      <th>DOT</th>\n",
       "      <td>2605</td>\n",
       "      <td>5313</td>\n",
       "      <td>4182</td>\n",
       "      <td>4164</td>\n",
       "      <td>1123</td>\n",
       "      <td>320</td>\n",
       "    </tr>\n",
       "    <tr>\n",
       "      <th>DPR</th>\n",
       "      <td>438</td>\n",
       "      <td>1292</td>\n",
       "      <td>407</td>\n",
       "      <td>1934</td>\n",
       "      <td>532</td>\n",
       "      <td>11</td>\n",
       "    </tr>\n",
       "    <tr>\n",
       "      <th>DSNY</th>\n",
       "      <td>1094</td>\n",
       "      <td>2966</td>\n",
       "      <td>1167</td>\n",
       "      <td>2579</td>\n",
       "      <td>563</td>\n",
       "      <td>16</td>\n",
       "    </tr>\n",
       "    <tr>\n",
       "      <th>EDC</th>\n",
       "      <td>1</td>\n",
       "      <td>23</td>\n",
       "      <td>66</td>\n",
       "      <td>9</td>\n",
       "      <td>0</td>\n",
       "      <td>0</td>\n",
       "    </tr>\n",
       "    <tr>\n",
       "      <th>FDNY</th>\n",
       "      <td>6</td>\n",
       "      <td>17</td>\n",
       "      <td>517</td>\n",
       "      <td>52</td>\n",
       "      <td>10</td>\n",
       "      <td>29</td>\n",
       "    </tr>\n",
       "    <tr>\n",
       "      <th>HPD</th>\n",
       "      <td>11493</td>\n",
       "      <td>13871</td>\n",
       "      <td>7866</td>\n",
       "      <td>4986</td>\n",
       "      <td>851</td>\n",
       "      <td>0</td>\n",
       "    </tr>\n",
       "    <tr>\n",
       "      <th>HRA</th>\n",
       "      <td>0</td>\n",
       "      <td>0</td>\n",
       "      <td>0</td>\n",
       "      <td>0</td>\n",
       "      <td>0</td>\n",
       "      <td>392</td>\n",
       "    </tr>\n",
       "    <tr>\n",
       "      <th>NYPD</th>\n",
       "      <td>1933</td>\n",
       "      <td>4886</td>\n",
       "      <td>3657</td>\n",
       "      <td>4154</td>\n",
       "      <td>663</td>\n",
       "      <td>2</td>\n",
       "    </tr>\n",
       "    <tr>\n",
       "      <th>OATH</th>\n",
       "      <td>0</td>\n",
       "      <td>0</td>\n",
       "      <td>0</td>\n",
       "      <td>0</td>\n",
       "      <td>0</td>\n",
       "      <td>4</td>\n",
       "    </tr>\n",
       "    <tr>\n",
       "      <th>OEM</th>\n",
       "      <td>0</td>\n",
       "      <td>0</td>\n",
       "      <td>0</td>\n",
       "      <td>0</td>\n",
       "      <td>0</td>\n",
       "      <td>29</td>\n",
       "    </tr>\n",
       "    <tr>\n",
       "      <th>OMB</th>\n",
       "      <td>0</td>\n",
       "      <td>0</td>\n",
       "      <td>0</td>\n",
       "      <td>0</td>\n",
       "      <td>0</td>\n",
       "      <td>1</td>\n",
       "    </tr>\n",
       "    <tr>\n",
       "      <th>OPS</th>\n",
       "      <td>0</td>\n",
       "      <td>0</td>\n",
       "      <td>0</td>\n",
       "      <td>0</td>\n",
       "      <td>0</td>\n",
       "      <td>8</td>\n",
       "    </tr>\n",
       "    <tr>\n",
       "      <th>TLC</th>\n",
       "      <td>47</td>\n",
       "      <td>203</td>\n",
       "      <td>937</td>\n",
       "      <td>188</td>\n",
       "      <td>11</td>\n",
       "      <td>105</td>\n",
       "    </tr>\n",
       "  </tbody>\n",
       "</table>\n",
       "</div>"
      ],
      "text/plain": [
       "Borough  BRONX  BROOKLYN  MANHATTAN  QUEENS  STATEN ISLAND  Unspecified\n",
       "Agency                                                                 \n",
       "3-1-1        0         8         11      12              1           60\n",
       "CHALL        0         0          0       0              0           77\n",
       "COIB         0         0          0       0              0            1\n",
       "DCA        155       357        358     284             36          215\n",
       "DEP        791      2069       3419    1916            690           12\n",
       "DFTA         4         5          3       3              0            7\n",
       "DHS          6        31         54       8              0            2\n",
       "DOB        358       775        477    1257            147            0\n",
       "DOE         17        26         24      15              7            8\n",
       "DOF         78       149        215     116              6         5806\n",
       "DOHMH      657       891        913     602            174            0\n",
       "DOITT        3         8         15       2              3            0\n",
       "DOP          0         0          0       0              0            2\n",
       "DOT       2605      5313       4182    4164           1123          320\n",
       "DPR        438      1292        407    1934            532           11\n",
       "DSNY      1094      2966       1167    2579            563           16\n",
       "EDC          1        23         66       9              0            0\n",
       "FDNY         6        17        517      52             10           29\n",
       "HPD      11493     13871       7866    4986            851            0\n",
       "HRA          0         0          0       0              0          392\n",
       "NYPD      1933      4886       3657    4154            663            2\n",
       "OATH         0         0          0       0              0            4\n",
       "OEM          0         0          0       0              0           29\n",
       "OMB          0         0          0       0              0            1\n",
       "OPS          0         0          0       0              0            8\n",
       "TLC         47       203        937     188             11          105"
      ]
     },
     "execution_count": 290,
     "metadata": {},
     "output_type": "execute_result"
    }
   ],
   "source": [
    "pd.crosstab(complaints['Agency'],complaints['Borough'])"
   ]
  },
  {
   "cell_type": "markdown",
   "metadata": {},
   "source": [
    "**Elaboration of Complaints Problem A**:  For each agency, find its frequency in each borough. \n",
    "Also give the total number of complaints by borough and by complaint type."
   ]
  },
  {
   "cell_type": "code",
   "execution_count": 48,
   "metadata": {
    "scrolled": true
   },
   "outputs": [
    {
     "data": {
      "text/html": [
       "<div>\n",
       "<style scoped>\n",
       "    .dataframe tbody tr th:only-of-type {\n",
       "        vertical-align: middle;\n",
       "    }\n",
       "\n",
       "    .dataframe tbody tr th {\n",
       "        vertical-align: top;\n",
       "    }\n",
       "\n",
       "    .dataframe thead th {\n",
       "        text-align: right;\n",
       "    }\n",
       "</style>\n",
       "<table border=\"1\" class=\"dataframe\">\n",
       "  <thead>\n",
       "    <tr style=\"text-align: right;\">\n",
       "      <th>Borough</th>\n",
       "      <th>BRONX</th>\n",
       "      <th>BROOKLYN</th>\n",
       "      <th>MANHATTAN</th>\n",
       "      <th>QUEENS</th>\n",
       "      <th>STATEN ISLAND</th>\n",
       "      <th>Unspecified</th>\n",
       "      <th>All</th>\n",
       "    </tr>\n",
       "    <tr>\n",
       "      <th>Agency</th>\n",
       "      <th></th>\n",
       "      <th></th>\n",
       "      <th></th>\n",
       "      <th></th>\n",
       "      <th></th>\n",
       "      <th></th>\n",
       "      <th></th>\n",
       "    </tr>\n",
       "  </thead>\n",
       "  <tbody>\n",
       "    <tr>\n",
       "      <th>3-1-1</th>\n",
       "      <td>0</td>\n",
       "      <td>8</td>\n",
       "      <td>11</td>\n",
       "      <td>12</td>\n",
       "      <td>1</td>\n",
       "      <td>60</td>\n",
       "      <td>92</td>\n",
       "    </tr>\n",
       "    <tr>\n",
       "      <th>CHALL</th>\n",
       "      <td>0</td>\n",
       "      <td>0</td>\n",
       "      <td>0</td>\n",
       "      <td>0</td>\n",
       "      <td>0</td>\n",
       "      <td>77</td>\n",
       "      <td>77</td>\n",
       "    </tr>\n",
       "    <tr>\n",
       "      <th>COIB</th>\n",
       "      <td>0</td>\n",
       "      <td>0</td>\n",
       "      <td>0</td>\n",
       "      <td>0</td>\n",
       "      <td>0</td>\n",
       "      <td>1</td>\n",
       "      <td>1</td>\n",
       "    </tr>\n",
       "    <tr>\n",
       "      <th>DCA</th>\n",
       "      <td>155</td>\n",
       "      <td>357</td>\n",
       "      <td>358</td>\n",
       "      <td>284</td>\n",
       "      <td>36</td>\n",
       "      <td>215</td>\n",
       "      <td>1405</td>\n",
       "    </tr>\n",
       "    <tr>\n",
       "      <th>DEP</th>\n",
       "      <td>791</td>\n",
       "      <td>2069</td>\n",
       "      <td>3419</td>\n",
       "      <td>1916</td>\n",
       "      <td>690</td>\n",
       "      <td>12</td>\n",
       "      <td>8897</td>\n",
       "    </tr>\n",
       "    <tr>\n",
       "      <th>DFTA</th>\n",
       "      <td>4</td>\n",
       "      <td>5</td>\n",
       "      <td>3</td>\n",
       "      <td>3</td>\n",
       "      <td>0</td>\n",
       "      <td>7</td>\n",
       "      <td>22</td>\n",
       "    </tr>\n",
       "    <tr>\n",
       "      <th>DHS</th>\n",
       "      <td>6</td>\n",
       "      <td>31</td>\n",
       "      <td>54</td>\n",
       "      <td>8</td>\n",
       "      <td>0</td>\n",
       "      <td>2</td>\n",
       "      <td>101</td>\n",
       "    </tr>\n",
       "    <tr>\n",
       "      <th>DOB</th>\n",
       "      <td>358</td>\n",
       "      <td>775</td>\n",
       "      <td>477</td>\n",
       "      <td>1257</td>\n",
       "      <td>147</td>\n",
       "      <td>0</td>\n",
       "      <td>3014</td>\n",
       "    </tr>\n",
       "    <tr>\n",
       "      <th>DOE</th>\n",
       "      <td>17</td>\n",
       "      <td>26</td>\n",
       "      <td>24</td>\n",
       "      <td>15</td>\n",
       "      <td>7</td>\n",
       "      <td>8</td>\n",
       "      <td>97</td>\n",
       "    </tr>\n",
       "    <tr>\n",
       "      <th>DOF</th>\n",
       "      <td>78</td>\n",
       "      <td>149</td>\n",
       "      <td>215</td>\n",
       "      <td>116</td>\n",
       "      <td>6</td>\n",
       "      <td>5806</td>\n",
       "      <td>6370</td>\n",
       "    </tr>\n",
       "    <tr>\n",
       "      <th>DOHMH</th>\n",
       "      <td>657</td>\n",
       "      <td>891</td>\n",
       "      <td>913</td>\n",
       "      <td>602</td>\n",
       "      <td>174</td>\n",
       "      <td>0</td>\n",
       "      <td>3237</td>\n",
       "    </tr>\n",
       "    <tr>\n",
       "      <th>DOITT</th>\n",
       "      <td>3</td>\n",
       "      <td>8</td>\n",
       "      <td>15</td>\n",
       "      <td>2</td>\n",
       "      <td>3</td>\n",
       "      <td>0</td>\n",
       "      <td>31</td>\n",
       "    </tr>\n",
       "    <tr>\n",
       "      <th>DOP</th>\n",
       "      <td>0</td>\n",
       "      <td>0</td>\n",
       "      <td>0</td>\n",
       "      <td>0</td>\n",
       "      <td>0</td>\n",
       "      <td>2</td>\n",
       "      <td>2</td>\n",
       "    </tr>\n",
       "    <tr>\n",
       "      <th>DOT</th>\n",
       "      <td>2605</td>\n",
       "      <td>5313</td>\n",
       "      <td>4182</td>\n",
       "      <td>4164</td>\n",
       "      <td>1123</td>\n",
       "      <td>320</td>\n",
       "      <td>17707</td>\n",
       "    </tr>\n",
       "    <tr>\n",
       "      <th>DPR</th>\n",
       "      <td>438</td>\n",
       "      <td>1292</td>\n",
       "      <td>407</td>\n",
       "      <td>1934</td>\n",
       "      <td>532</td>\n",
       "      <td>11</td>\n",
       "      <td>4614</td>\n",
       "    </tr>\n",
       "    <tr>\n",
       "      <th>DSNY</th>\n",
       "      <td>1094</td>\n",
       "      <td>2966</td>\n",
       "      <td>1167</td>\n",
       "      <td>2579</td>\n",
       "      <td>563</td>\n",
       "      <td>16</td>\n",
       "      <td>8385</td>\n",
       "    </tr>\n",
       "    <tr>\n",
       "      <th>EDC</th>\n",
       "      <td>1</td>\n",
       "      <td>23</td>\n",
       "      <td>66</td>\n",
       "      <td>9</td>\n",
       "      <td>0</td>\n",
       "      <td>0</td>\n",
       "      <td>99</td>\n",
       "    </tr>\n",
       "    <tr>\n",
       "      <th>FDNY</th>\n",
       "      <td>6</td>\n",
       "      <td>17</td>\n",
       "      <td>517</td>\n",
       "      <td>52</td>\n",
       "      <td>10</td>\n",
       "      <td>29</td>\n",
       "      <td>631</td>\n",
       "    </tr>\n",
       "    <tr>\n",
       "      <th>HPD</th>\n",
       "      <td>11493</td>\n",
       "      <td>13871</td>\n",
       "      <td>7866</td>\n",
       "      <td>4986</td>\n",
       "      <td>851</td>\n",
       "      <td>0</td>\n",
       "      <td>39067</td>\n",
       "    </tr>\n",
       "    <tr>\n",
       "      <th>HRA</th>\n",
       "      <td>0</td>\n",
       "      <td>0</td>\n",
       "      <td>0</td>\n",
       "      <td>0</td>\n",
       "      <td>0</td>\n",
       "      <td>392</td>\n",
       "      <td>392</td>\n",
       "    </tr>\n",
       "    <tr>\n",
       "      <th>NYPD</th>\n",
       "      <td>1933</td>\n",
       "      <td>4886</td>\n",
       "      <td>3657</td>\n",
       "      <td>4154</td>\n",
       "      <td>663</td>\n",
       "      <td>2</td>\n",
       "      <td>15295</td>\n",
       "    </tr>\n",
       "    <tr>\n",
       "      <th>OATH</th>\n",
       "      <td>0</td>\n",
       "      <td>0</td>\n",
       "      <td>0</td>\n",
       "      <td>0</td>\n",
       "      <td>0</td>\n",
       "      <td>4</td>\n",
       "      <td>4</td>\n",
       "    </tr>\n",
       "    <tr>\n",
       "      <th>OEM</th>\n",
       "      <td>0</td>\n",
       "      <td>0</td>\n",
       "      <td>0</td>\n",
       "      <td>0</td>\n",
       "      <td>0</td>\n",
       "      <td>29</td>\n",
       "      <td>29</td>\n",
       "    </tr>\n",
       "    <tr>\n",
       "      <th>OMB</th>\n",
       "      <td>0</td>\n",
       "      <td>0</td>\n",
       "      <td>0</td>\n",
       "      <td>0</td>\n",
       "      <td>0</td>\n",
       "      <td>1</td>\n",
       "      <td>1</td>\n",
       "    </tr>\n",
       "    <tr>\n",
       "      <th>OPS</th>\n",
       "      <td>0</td>\n",
       "      <td>0</td>\n",
       "      <td>0</td>\n",
       "      <td>0</td>\n",
       "      <td>0</td>\n",
       "      <td>8</td>\n",
       "      <td>8</td>\n",
       "    </tr>\n",
       "    <tr>\n",
       "      <th>TLC</th>\n",
       "      <td>47</td>\n",
       "      <td>203</td>\n",
       "      <td>937</td>\n",
       "      <td>188</td>\n",
       "      <td>11</td>\n",
       "      <td>105</td>\n",
       "      <td>1491</td>\n",
       "    </tr>\n",
       "    <tr>\n",
       "      <th>All</th>\n",
       "      <td>19686</td>\n",
       "      <td>32890</td>\n",
       "      <td>24288</td>\n",
       "      <td>22281</td>\n",
       "      <td>4817</td>\n",
       "      <td>7107</td>\n",
       "      <td>111069</td>\n",
       "    </tr>\n",
       "  </tbody>\n",
       "</table>\n",
       "</div>"
      ],
      "text/plain": [
       "Borough  BRONX  BROOKLYN  MANHATTAN  QUEENS  STATEN ISLAND  Unspecified     All\n",
       "Agency                                                                         \n",
       "3-1-1        0         8         11      12              1           60      92\n",
       "CHALL        0         0          0       0              0           77      77\n",
       "COIB         0         0          0       0              0            1       1\n",
       "DCA        155       357        358     284             36          215    1405\n",
       "DEP        791      2069       3419    1916            690           12    8897\n",
       "DFTA         4         5          3       3              0            7      22\n",
       "DHS          6        31         54       8              0            2     101\n",
       "DOB        358       775        477    1257            147            0    3014\n",
       "DOE         17        26         24      15              7            8      97\n",
       "DOF         78       149        215     116              6         5806    6370\n",
       "DOHMH      657       891        913     602            174            0    3237\n",
       "DOITT        3         8         15       2              3            0      31\n",
       "DOP          0         0          0       0              0            2       2\n",
       "DOT       2605      5313       4182    4164           1123          320   17707\n",
       "DPR        438      1292        407    1934            532           11    4614\n",
       "DSNY      1094      2966       1167    2579            563           16    8385\n",
       "EDC          1        23         66       9              0            0      99\n",
       "FDNY         6        17        517      52             10           29     631\n",
       "HPD      11493     13871       7866    4986            851            0   39067\n",
       "HRA          0         0          0       0              0          392     392\n",
       "NYPD      1933      4886       3657    4154            663            2   15295\n",
       "OATH         0         0          0       0              0            4       4\n",
       "OEM          0         0          0       0              0           29      29\n",
       "OMB          0         0          0       0              0            1       1\n",
       "OPS          0         0          0       0              0            8       8\n",
       "TLC         47       203        937     188             11          105    1491\n",
       "All      19686     32890      24288   22281           4817         7107  111069"
      ]
     },
     "execution_count": 48,
     "metadata": {},
     "output_type": "execute_result"
    }
   ],
   "source": [
    "ct_agency_borough = pd.crosstab(complaints['Agency'],complaints['Borough'],margins=True)\n",
    "ct_agency_borough"
   ]
  },
  {
   "cell_type": "markdown",
   "metadata": {},
   "source": [
    "Now `ct_agency_borough` contains both an `'All'` column (containing the\n",
    "sum of the values in each row) and an `'All'` row (containing the sum of\n",
    "the values for each column).\n",
    "\n",
    "Note that as long as there are no rows missing an `'Agency'` or `'Borough'` (there aren't), or complaintgs with more than one type or more than one borough, then `ct_agency_borough['All']['All']` is the total number of rows in the original `complaints` DF."
   ]
  },
  {
   "cell_type": "code",
   "execution_count": 60,
   "metadata": {},
   "outputs": [
    {
     "name": "stdout",
     "output_type": "stream",
     "text": [
      "111069\n",
      "111069\n"
     ]
    }
   ],
   "source": [
    "print(len(complaints))\n",
    "print(ct_agency_borough['All']['All'])"
   ]
  },
  {
   "cell_type": "markdown",
   "metadata": {},
   "source": [
    "Here is the transpose of the above DataFrame.  \n",
    "In other words, the answer to the query: For each borough, find the frequency of its complaints for each complaint type."
   ]
  },
  {
   "cell_type": "code",
   "execution_count": 291,
   "metadata": {},
   "outputs": [
    {
     "data": {
      "text/html": [
       "<div>\n",
       "<style scoped>\n",
       "    .dataframe tbody tr th:only-of-type {\n",
       "        vertical-align: middle;\n",
       "    }\n",
       "\n",
       "    .dataframe tbody tr th {\n",
       "        vertical-align: top;\n",
       "    }\n",
       "\n",
       "    .dataframe thead th {\n",
       "        text-align: right;\n",
       "    }\n",
       "</style>\n",
       "<table border=\"1\" class=\"dataframe\">\n",
       "  <thead>\n",
       "    <tr style=\"text-align: right;\">\n",
       "      <th>Complaint Type</th>\n",
       "      <th>APPLIANCE</th>\n",
       "      <th>Adopt-A-Basket</th>\n",
       "      <th>Agency Issues</th>\n",
       "      <th>Air Quality</th>\n",
       "      <th>Animal Abuse</th>\n",
       "      <th>Animal Facility - No Permit</th>\n",
       "      <th>Animal in a Park</th>\n",
       "      <th>Asbestos</th>\n",
       "      <th>BEST/Site Safety</th>\n",
       "      <th>Beach/Pool/Sauna Complaint</th>\n",
       "      <th>...</th>\n",
       "      <th>Unsanitary Pigeon Condition</th>\n",
       "      <th>Urinating in Public</th>\n",
       "      <th>Vacant Lot</th>\n",
       "      <th>Vending</th>\n",
       "      <th>Violation of Park Rules</th>\n",
       "      <th>Water Conservation</th>\n",
       "      <th>Water Quality</th>\n",
       "      <th>Water System</th>\n",
       "      <th>Window Guard</th>\n",
       "      <th>X-Ray Machine/Equipment</th>\n",
       "    </tr>\n",
       "    <tr>\n",
       "      <th>Borough</th>\n",
       "      <th></th>\n",
       "      <th></th>\n",
       "      <th></th>\n",
       "      <th></th>\n",
       "      <th></th>\n",
       "      <th></th>\n",
       "      <th></th>\n",
       "      <th></th>\n",
       "      <th></th>\n",
       "      <th></th>\n",
       "      <th></th>\n",
       "      <th></th>\n",
       "      <th></th>\n",
       "      <th></th>\n",
       "      <th></th>\n",
       "      <th></th>\n",
       "      <th></th>\n",
       "      <th></th>\n",
       "      <th></th>\n",
       "      <th></th>\n",
       "      <th></th>\n",
       "    </tr>\n",
       "  </thead>\n",
       "  <tbody>\n",
       "    <tr>\n",
       "      <th>BRONX</th>\n",
       "      <td>108</td>\n",
       "      <td>0</td>\n",
       "      <td>0</td>\n",
       "      <td>40</td>\n",
       "      <td>162</td>\n",
       "      <td>0</td>\n",
       "      <td>17</td>\n",
       "      <td>17</td>\n",
       "      <td>12</td>\n",
       "      <td>0</td>\n",
       "      <td>...</td>\n",
       "      <td>8</td>\n",
       "      <td>2</td>\n",
       "      <td>20</td>\n",
       "      <td>23</td>\n",
       "      <td>17</td>\n",
       "      <td>15</td>\n",
       "      <td>13</td>\n",
       "      <td>278</td>\n",
       "      <td>0</td>\n",
       "      <td>0</td>\n",
       "    </tr>\n",
       "    <tr>\n",
       "      <th>BROOKLYN</th>\n",
       "      <td>175</td>\n",
       "      <td>0</td>\n",
       "      <td>0</td>\n",
       "      <td>125</td>\n",
       "      <td>0</td>\n",
       "      <td>4</td>\n",
       "      <td>15</td>\n",
       "      <td>29</td>\n",
       "      <td>16</td>\n",
       "      <td>6</td>\n",
       "      <td>...</td>\n",
       "      <td>10</td>\n",
       "      <td>12</td>\n",
       "      <td>61</td>\n",
       "      <td>35</td>\n",
       "      <td>8</td>\n",
       "      <td>31</td>\n",
       "      <td>28</td>\n",
       "      <td>517</td>\n",
       "      <td>1</td>\n",
       "      <td>0</td>\n",
       "    </tr>\n",
       "    <tr>\n",
       "      <th>MANHATTAN</th>\n",
       "      <td>89</td>\n",
       "      <td>3</td>\n",
       "      <td>0</td>\n",
       "      <td>203</td>\n",
       "      <td>2</td>\n",
       "      <td>2</td>\n",
       "      <td>23</td>\n",
       "      <td>60</td>\n",
       "      <td>18</td>\n",
       "      <td>0</td>\n",
       "      <td>...</td>\n",
       "      <td>11</td>\n",
       "      <td>10</td>\n",
       "      <td>8</td>\n",
       "      <td>119</td>\n",
       "      <td>46</td>\n",
       "      <td>21</td>\n",
       "      <td>26</td>\n",
       "      <td>961</td>\n",
       "      <td>1</td>\n",
       "      <td>0</td>\n",
       "    </tr>\n",
       "    <tr>\n",
       "      <th>QUEENS</th>\n",
       "      <td>67</td>\n",
       "      <td>0</td>\n",
       "      <td>0</td>\n",
       "      <td>76</td>\n",
       "      <td>0</td>\n",
       "      <td>0</td>\n",
       "      <td>16</td>\n",
       "      <td>30</td>\n",
       "      <td>5</td>\n",
       "      <td>1</td>\n",
       "      <td>...</td>\n",
       "      <td>12</td>\n",
       "      <td>6</td>\n",
       "      <td>29</td>\n",
       "      <td>49</td>\n",
       "      <td>13</td>\n",
       "      <td>53</td>\n",
       "      <td>12</td>\n",
       "      <td>552</td>\n",
       "      <td>0</td>\n",
       "      <td>1</td>\n",
       "    </tr>\n",
       "    <tr>\n",
       "      <th>STATEN ISLAND</th>\n",
       "      <td>6</td>\n",
       "      <td>0</td>\n",
       "      <td>0</td>\n",
       "      <td>15</td>\n",
       "      <td>0</td>\n",
       "      <td>2</td>\n",
       "      <td>13</td>\n",
       "      <td>7</td>\n",
       "      <td>1</td>\n",
       "      <td>0</td>\n",
       "      <td>...</td>\n",
       "      <td>0</td>\n",
       "      <td>0</td>\n",
       "      <td>25</td>\n",
       "      <td>3</td>\n",
       "      <td>6</td>\n",
       "      <td>10</td>\n",
       "      <td>10</td>\n",
       "      <td>326</td>\n",
       "      <td>0</td>\n",
       "      <td>0</td>\n",
       "    </tr>\n",
       "    <tr>\n",
       "      <th>Unspecified</th>\n",
       "      <td>0</td>\n",
       "      <td>0</td>\n",
       "      <td>174</td>\n",
       "      <td>0</td>\n",
       "      <td>0</td>\n",
       "      <td>0</td>\n",
       "      <td>0</td>\n",
       "      <td>0</td>\n",
       "      <td>0</td>\n",
       "      <td>0</td>\n",
       "      <td>...</td>\n",
       "      <td>0</td>\n",
       "      <td>0</td>\n",
       "      <td>3</td>\n",
       "      <td>0</td>\n",
       "      <td>0</td>\n",
       "      <td>0</td>\n",
       "      <td>0</td>\n",
       "      <td>2</td>\n",
       "      <td>0</td>\n",
       "      <td>0</td>\n",
       "    </tr>\n",
       "  </tbody>\n",
       "</table>\n",
       "<p>6 rows × 165 columns</p>\n",
       "</div>"
      ],
      "text/plain": [
       "Complaint Type  APPLIANCE  Adopt-A-Basket  Agency Issues  Air Quality  \\\n",
       "Borough                                                                 \n",
       "BRONX                 108               0              0           40   \n",
       "BROOKLYN              175               0              0          125   \n",
       "MANHATTAN              89               3              0          203   \n",
       "QUEENS                 67               0              0           76   \n",
       "STATEN ISLAND           6               0              0           15   \n",
       "Unspecified             0               0            174            0   \n",
       "\n",
       "Complaint Type  Animal Abuse  Animal Facility - No Permit  Animal in a Park  \\\n",
       "Borough                                                                       \n",
       "BRONX                    162                            0                17   \n",
       "BROOKLYN                   0                            4                15   \n",
       "MANHATTAN                  2                            2                23   \n",
       "QUEENS                     0                            0                16   \n",
       "STATEN ISLAND              0                            2                13   \n",
       "Unspecified                0                            0                 0   \n",
       "\n",
       "Complaint Type  Asbestos  BEST/Site Safety  Beach/Pool/Sauna Complaint  ...  \\\n",
       "Borough                                                                 ...   \n",
       "BRONX                 17                12                           0  ...   \n",
       "BROOKLYN              29                16                           6  ...   \n",
       "MANHATTAN             60                18                           0  ...   \n",
       "QUEENS                30                 5                           1  ...   \n",
       "STATEN ISLAND          7                 1                           0  ...   \n",
       "Unspecified            0                 0                           0  ...   \n",
       "\n",
       "Complaint Type  Unsanitary Pigeon Condition  Urinating in Public  Vacant Lot  \\\n",
       "Borough                                                                        \n",
       "BRONX                                     8                    2          20   \n",
       "BROOKLYN                                 10                   12          61   \n",
       "MANHATTAN                                11                   10           8   \n",
       "QUEENS                                   12                    6          29   \n",
       "STATEN ISLAND                             0                    0          25   \n",
       "Unspecified                               0                    0           3   \n",
       "\n",
       "Complaint Type  Vending  Violation of Park Rules  Water Conservation  \\\n",
       "Borough                                                                \n",
       "BRONX                23                       17                  15   \n",
       "BROOKLYN             35                        8                  31   \n",
       "MANHATTAN           119                       46                  21   \n",
       "QUEENS               49                       13                  53   \n",
       "STATEN ISLAND         3                        6                  10   \n",
       "Unspecified           0                        0                   0   \n",
       "\n",
       "Complaint Type  Water Quality  Water System  Window Guard  \\\n",
       "Borough                                                     \n",
       "BRONX                      13           278             0   \n",
       "BROOKLYN                   28           517             1   \n",
       "MANHATTAN                  26           961             1   \n",
       "QUEENS                     12           552             0   \n",
       "STATEN ISLAND              10           326             0   \n",
       "Unspecified                 0             2             0   \n",
       "\n",
       "Complaint Type  X-Ray Machine/Equipment  \n",
       "Borough                                  \n",
       "BRONX                                 0  \n",
       "BROOKLYN                              0  \n",
       "MANHATTAN                             0  \n",
       "QUEENS                                1  \n",
       "STATEN ISLAND                         0  \n",
       "Unspecified                           0  \n",
       "\n",
       "[6 rows x 165 columns]"
      ]
     },
     "execution_count": 291,
     "metadata": {},
     "output_type": "execute_result"
    }
   ],
   "source": [
    "pd.crosstab(complaints['Borough'],\n",
    "            complaints['Complaint Type'])"
   ]
  },
  {
   "cell_type": "markdown",
   "metadata": {},
   "source": [
    "**Complaints Problem B**:  What's the noisiest borough? A little preprocessing is required.  Then we\n",
    "can turn this into a cross tabulation of a restricted set of complaint types and borough."
   ]
  },
  {
   "cell_type": "code",
   "execution_count": 5,
   "metadata": {},
   "outputs": [
    {
     "data": {
      "text/html": [
       "<div>\n",
       "<style scoped>\n",
       "    .dataframe tbody tr th:only-of-type {\n",
       "        vertical-align: middle;\n",
       "    }\n",
       "\n",
       "    .dataframe tbody tr th {\n",
       "        vertical-align: top;\n",
       "    }\n",
       "\n",
       "    .dataframe thead th {\n",
       "        text-align: right;\n",
       "    }\n",
       "</style>\n",
       "<table border=\"1\" class=\"dataframe\">\n",
       "  <thead>\n",
       "    <tr style=\"text-align: right;\">\n",
       "      <th></th>\n",
       "      <th>Unique Key</th>\n",
       "      <th>Created Date</th>\n",
       "      <th>Closed Date</th>\n",
       "      <th>Agency</th>\n",
       "      <th>Agency Name</th>\n",
       "      <th>Complaint Type</th>\n",
       "      <th>Descriptor</th>\n",
       "      <th>Location Type</th>\n",
       "      <th>Incident Zip</th>\n",
       "      <th>Incident Address</th>\n",
       "      <th>...</th>\n",
       "      <th>Bridge Highway Name</th>\n",
       "      <th>Bridge Highway Direction</th>\n",
       "      <th>Road Ramp</th>\n",
       "      <th>Bridge Highway Segment</th>\n",
       "      <th>Garage Lot Name</th>\n",
       "      <th>Ferry Direction</th>\n",
       "      <th>Ferry Terminal Name</th>\n",
       "      <th>Latitude</th>\n",
       "      <th>Longitude</th>\n",
       "      <th>Location</th>\n",
       "    </tr>\n",
       "  </thead>\n",
       "  <tbody>\n",
       "    <tr>\n",
       "      <th>0</th>\n",
       "      <td>26589651</td>\n",
       "      <td>10/31/2013 02:08:41 AM</td>\n",
       "      <td>NaN</td>\n",
       "      <td>NYPD</td>\n",
       "      <td>New York City Police Department</td>\n",
       "      <td>Noise - Street/Sidewalk</td>\n",
       "      <td>Loud Talking</td>\n",
       "      <td>Street/Sidewalk</td>\n",
       "      <td>11432</td>\n",
       "      <td>90-03 169 STREET</td>\n",
       "      <td>...</td>\n",
       "      <td>NaN</td>\n",
       "      <td>NaN</td>\n",
       "      <td>NaN</td>\n",
       "      <td>NaN</td>\n",
       "      <td>NaN</td>\n",
       "      <td>NaN</td>\n",
       "      <td>NaN</td>\n",
       "      <td>40.708275</td>\n",
       "      <td>-73.791604</td>\n",
       "      <td>(40.70827532593202, -73.79160395779721)</td>\n",
       "    </tr>\n",
       "    <tr>\n",
       "      <th>2</th>\n",
       "      <td>26594139</td>\n",
       "      <td>10/31/2013 02:00:24 AM</td>\n",
       "      <td>10/31/2013 02:40:32 AM</td>\n",
       "      <td>NYPD</td>\n",
       "      <td>New York City Police Department</td>\n",
       "      <td>Noise - Commercial</td>\n",
       "      <td>Loud Music/Party</td>\n",
       "      <td>Club/Bar/Restaurant</td>\n",
       "      <td>10032</td>\n",
       "      <td>4060 BROADWAY</td>\n",
       "      <td>...</td>\n",
       "      <td>NaN</td>\n",
       "      <td>NaN</td>\n",
       "      <td>NaN</td>\n",
       "      <td>NaN</td>\n",
       "      <td>NaN</td>\n",
       "      <td>NaN</td>\n",
       "      <td>NaN</td>\n",
       "      <td>40.843330</td>\n",
       "      <td>-73.939144</td>\n",
       "      <td>(40.84332975466513, -73.93914371913482)</td>\n",
       "    </tr>\n",
       "    <tr>\n",
       "      <th>3</th>\n",
       "      <td>26595721</td>\n",
       "      <td>10/31/2013 01:56:23 AM</td>\n",
       "      <td>10/31/2013 02:21:48 AM</td>\n",
       "      <td>NYPD</td>\n",
       "      <td>New York City Police Department</td>\n",
       "      <td>Noise - Vehicle</td>\n",
       "      <td>Car/Truck Horn</td>\n",
       "      <td>Street/Sidewalk</td>\n",
       "      <td>10023</td>\n",
       "      <td>WEST 72 STREET</td>\n",
       "      <td>...</td>\n",
       "      <td>NaN</td>\n",
       "      <td>NaN</td>\n",
       "      <td>NaN</td>\n",
       "      <td>NaN</td>\n",
       "      <td>NaN</td>\n",
       "      <td>NaN</td>\n",
       "      <td>NaN</td>\n",
       "      <td>40.778009</td>\n",
       "      <td>-73.980213</td>\n",
       "      <td>(40.7780087446372, -73.98021349023975)</td>\n",
       "    </tr>\n",
       "    <tr>\n",
       "      <th>5</th>\n",
       "      <td>26592370</td>\n",
       "      <td>10/31/2013 01:46:52 AM</td>\n",
       "      <td>NaN</td>\n",
       "      <td>NYPD</td>\n",
       "      <td>New York City Police Department</td>\n",
       "      <td>Noise - Commercial</td>\n",
       "      <td>Banging/Pounding</td>\n",
       "      <td>Club/Bar/Restaurant</td>\n",
       "      <td>11372</td>\n",
       "      <td>37 AVENUE</td>\n",
       "      <td>...</td>\n",
       "      <td>NaN</td>\n",
       "      <td>NaN</td>\n",
       "      <td>NaN</td>\n",
       "      <td>NaN</td>\n",
       "      <td>NaN</td>\n",
       "      <td>NaN</td>\n",
       "      <td>NaN</td>\n",
       "      <td>40.749989</td>\n",
       "      <td>-73.881988</td>\n",
       "      <td>(40.7499893014072, -73.88198770727831)</td>\n",
       "    </tr>\n",
       "    <tr>\n",
       "      <th>7</th>\n",
       "      <td>26595195</td>\n",
       "      <td>10/31/2013 01:44:19 AM</td>\n",
       "      <td>10/31/2013 01:58:49 AM</td>\n",
       "      <td>NYPD</td>\n",
       "      <td>New York City Police Department</td>\n",
       "      <td>Noise - Commercial</td>\n",
       "      <td>Loud Music/Party</td>\n",
       "      <td>Club/Bar/Restaurant</td>\n",
       "      <td>11417</td>\n",
       "      <td>137-09 CROSSBAY BOULEVARD</td>\n",
       "      <td>...</td>\n",
       "      <td>NaN</td>\n",
       "      <td>NaN</td>\n",
       "      <td>NaN</td>\n",
       "      <td>NaN</td>\n",
       "      <td>NaN</td>\n",
       "      <td>NaN</td>\n",
       "      <td>NaN</td>\n",
       "      <td>40.671816</td>\n",
       "      <td>-73.843092</td>\n",
       "      <td>(40.67181584567338, -73.84309181950769)</td>\n",
       "    </tr>\n",
       "  </tbody>\n",
       "</table>\n",
       "<p>5 rows × 52 columns</p>\n",
       "</div>"
      ],
      "text/plain": [
       "   Unique Key            Created Date             Closed Date Agency  \\\n",
       "0    26589651  10/31/2013 02:08:41 AM                     NaN   NYPD   \n",
       "2    26594139  10/31/2013 02:00:24 AM  10/31/2013 02:40:32 AM   NYPD   \n",
       "3    26595721  10/31/2013 01:56:23 AM  10/31/2013 02:21:48 AM   NYPD   \n",
       "5    26592370  10/31/2013 01:46:52 AM                     NaN   NYPD   \n",
       "7    26595195  10/31/2013 01:44:19 AM  10/31/2013 01:58:49 AM   NYPD   \n",
       "\n",
       "                       Agency Name           Complaint Type        Descriptor  \\\n",
       "0  New York City Police Department  Noise - Street/Sidewalk      Loud Talking   \n",
       "2  New York City Police Department       Noise - Commercial  Loud Music/Party   \n",
       "3  New York City Police Department          Noise - Vehicle    Car/Truck Horn   \n",
       "5  New York City Police Department       Noise - Commercial  Banging/Pounding   \n",
       "7  New York City Police Department       Noise - Commercial  Loud Music/Party   \n",
       "\n",
       "         Location Type Incident Zip           Incident Address  ...  \\\n",
       "0      Street/Sidewalk        11432           90-03 169 STREET  ...   \n",
       "2  Club/Bar/Restaurant        10032              4060 BROADWAY  ...   \n",
       "3      Street/Sidewalk        10023             WEST 72 STREET  ...   \n",
       "5  Club/Bar/Restaurant        11372                  37 AVENUE  ...   \n",
       "7  Club/Bar/Restaurant        11417  137-09 CROSSBAY BOULEVARD  ...   \n",
       "\n",
       "  Bridge Highway Name Bridge Highway Direction Road Ramp  \\\n",
       "0                 NaN                      NaN       NaN   \n",
       "2                 NaN                      NaN       NaN   \n",
       "3                 NaN                      NaN       NaN   \n",
       "5                 NaN                      NaN       NaN   \n",
       "7                 NaN                      NaN       NaN   \n",
       "\n",
       "  Bridge Highway Segment Garage Lot Name Ferry Direction Ferry Terminal Name  \\\n",
       "0                    NaN             NaN             NaN                 NaN   \n",
       "2                    NaN             NaN             NaN                 NaN   \n",
       "3                    NaN             NaN             NaN                 NaN   \n",
       "5                    NaN             NaN             NaN                 NaN   \n",
       "7                    NaN             NaN             NaN                 NaN   \n",
       "\n",
       "    Latitude  Longitude                                 Location  \n",
       "0  40.708275 -73.791604  (40.70827532593202, -73.79160395779721)  \n",
       "2  40.843330 -73.939144  (40.84332975466513, -73.93914371913482)  \n",
       "3  40.778009 -73.980213   (40.7780087446372, -73.98021349023975)  \n",
       "5  40.749989 -73.881988   (40.7499893014072, -73.88198770727831)  \n",
       "7  40.671816 -73.843092  (40.67181584567338, -73.84309181950769)  \n",
       "\n",
       "[5 rows x 52 columns]"
      ]
     },
     "execution_count": 5,
     "metadata": {},
     "output_type": "execute_result"
    }
   ],
   "source": [
    "boolean_series = complaints['Complaint Type'].str.startswith('Noise')\n",
    "complaints_noise = complaints[boolean_series]\n",
    "complaints_noise[:5]"
   ]
  },
  {
   "cell_type": "markdown",
   "metadata": {},
   "source": [
    "Now see if you can turn this into a cross tabulation that tells us\n",
    "the noise complaint counts for each type of noise complaint \n",
    "for each borough, but also contains the answer to question \"What's\n",
    "the noisest borough?\""
   ]
  },
  {
   "cell_type": "code",
   "execution_count": null,
   "metadata": {},
   "outputs": [],
   "source": []
  },
  {
   "cell_type": "code",
   "execution_count": null,
   "metadata": {},
   "outputs": [],
   "source": []
  },
  {
   "cell_type": "code",
   "execution_count": null,
   "metadata": {},
   "outputs": [],
   "source": []
  },
  {
   "cell_type": "code",
   "execution_count": null,
   "metadata": {},
   "outputs": [],
   "source": []
  },
  {
   "cell_type": "code",
   "execution_count": null,
   "metadata": {},
   "outputs": [],
   "source": []
  },
  {
   "cell_type": "code",
   "execution_count": null,
   "metadata": {},
   "outputs": [],
   "source": []
  },
  {
   "cell_type": "code",
   "execution_count": null,
   "metadata": {},
   "outputs": [],
   "source": []
  },
  {
   "cell_type": "code",
   "execution_count": null,
   "metadata": {},
   "outputs": [],
   "source": []
  },
  {
   "cell_type": "code",
   "execution_count": null,
   "metadata": {},
   "outputs": [],
   "source": []
  },
  {
   "cell_type": "code",
   "execution_count": null,
   "metadata": {},
   "outputs": [],
   "source": []
  },
  {
   "cell_type": "code",
   "execution_count": 6,
   "metadata": {},
   "outputs": [],
   "source": [
    "# oomplaints_noise\n",
    "# pd.crosstab\n",
    "# 'Complaints Type',  'Borough'\n",
    "ct0 = pd.crosstab(complaints_noise['Borough'], complaints_noise['Complaint Type'],margins=True)"
   ]
  },
  {
   "cell_type": "code",
   "execution_count": 55,
   "metadata": {},
   "outputs": [
    {
     "data": {
      "text/html": [
       "<div>\n",
       "<style scoped>\n",
       "    .dataframe tbody tr th:only-of-type {\n",
       "        vertical-align: middle;\n",
       "    }\n",
       "\n",
       "    .dataframe tbody tr th {\n",
       "        vertical-align: top;\n",
       "    }\n",
       "\n",
       "    .dataframe thead th {\n",
       "        text-align: right;\n",
       "    }\n",
       "</style>\n",
       "<table border=\"1\" class=\"dataframe\">\n",
       "  <thead>\n",
       "    <tr style=\"text-align: right;\">\n",
       "      <th>Complaint Type</th>\n",
       "      <th>Noise</th>\n",
       "      <th>Noise - Commercial</th>\n",
       "      <th>Noise - Helicopter</th>\n",
       "      <th>Noise - House of Worship</th>\n",
       "      <th>Noise - Park</th>\n",
       "      <th>Noise - Street/Sidewalk</th>\n",
       "      <th>Noise - Vehicle</th>\n",
       "      <th>All</th>\n",
       "    </tr>\n",
       "    <tr>\n",
       "      <th>Borough</th>\n",
       "      <th></th>\n",
       "      <th></th>\n",
       "      <th></th>\n",
       "      <th></th>\n",
       "      <th></th>\n",
       "      <th></th>\n",
       "      <th></th>\n",
       "      <th></th>\n",
       "    </tr>\n",
       "  </thead>\n",
       "  <tbody>\n",
       "    <tr>\n",
       "      <th>BRONX</th>\n",
       "      <td>168</td>\n",
       "      <td>136</td>\n",
       "      <td>1</td>\n",
       "      <td>11</td>\n",
       "      <td>9</td>\n",
       "      <td>292</td>\n",
       "      <td>102</td>\n",
       "      <td>719</td>\n",
       "    </tr>\n",
       "    <tr>\n",
       "      <th>BROOKLYN</th>\n",
       "      <td>767</td>\n",
       "      <td>775</td>\n",
       "      <td>23</td>\n",
       "      <td>23</td>\n",
       "      <td>60</td>\n",
       "      <td>456</td>\n",
       "      <td>237</td>\n",
       "      <td>2341</td>\n",
       "    </tr>\n",
       "    <tr>\n",
       "      <th>MANHATTAN</th>\n",
       "      <td>1848</td>\n",
       "      <td>1140</td>\n",
       "      <td>66</td>\n",
       "      <td>16</td>\n",
       "      <td>91</td>\n",
       "      <td>917</td>\n",
       "      <td>255</td>\n",
       "      <td>4333</td>\n",
       "    </tr>\n",
       "    <tr>\n",
       "      <th>QUEENS</th>\n",
       "      <td>418</td>\n",
       "      <td>451</td>\n",
       "      <td>9</td>\n",
       "      <td>15</td>\n",
       "      <td>27</td>\n",
       "      <td>226</td>\n",
       "      <td>130</td>\n",
       "      <td>1276</td>\n",
       "    </tr>\n",
       "    <tr>\n",
       "      <th>STATEN ISLAND</th>\n",
       "      <td>115</td>\n",
       "      <td>76</td>\n",
       "      <td>0</td>\n",
       "      <td>2</td>\n",
       "      <td>4</td>\n",
       "      <td>36</td>\n",
       "      <td>25</td>\n",
       "      <td>258</td>\n",
       "    </tr>\n",
       "    <tr>\n",
       "      <th>Unspecified</th>\n",
       "      <td>5</td>\n",
       "      <td>0</td>\n",
       "      <td>0</td>\n",
       "      <td>0</td>\n",
       "      <td>0</td>\n",
       "      <td>1</td>\n",
       "      <td>1</td>\n",
       "      <td>7</td>\n",
       "    </tr>\n",
       "    <tr>\n",
       "      <th>All</th>\n",
       "      <td>3321</td>\n",
       "      <td>2578</td>\n",
       "      <td>99</td>\n",
       "      <td>67</td>\n",
       "      <td>191</td>\n",
       "      <td>1928</td>\n",
       "      <td>750</td>\n",
       "      <td>8934</td>\n",
       "    </tr>\n",
       "  </tbody>\n",
       "</table>\n",
       "</div>"
      ],
      "text/plain": [
       "Complaint Type  Noise  Noise - Commercial  Noise - Helicopter  Noise - House of Worship  Noise - Park  Noise - Street/Sidewalk  Noise - Vehicle   All\n",
       "Borough                                                                                                                                              \n",
       "BRONX             168                 136                   1                        11             9                      292              102   719\n",
       "BROOKLYN          767                 775                  23                        23            60                      456              237  2341\n",
       "MANHATTAN        1848                1140                  66                        16            91                      917              255  4333\n",
       "QUEENS            418                 451                   9                        15            27                      226              130  1276\n",
       "STATEN ISLAND     115                  76                   0                         2             4                       36               25   258\n",
       "Unspecified         5                   0                   0                         0             0                        1                1     7\n",
       "All              3321                2578                  99                        67           191                     1928              750  8934"
      ]
     },
     "execution_count": 55,
     "metadata": {},
     "output_type": "execute_result"
    }
   ],
   "source": [
    "ct0"
   ]
  },
  {
   "cell_type": "markdown",
   "metadata": {},
   "source": [
    "So what's the noisiest borough?  The answer is no surprise to those who've been in NYC."
   ]
  },
  {
   "cell_type": "code",
   "execution_count": 56,
   "metadata": {},
   "outputs": [
    {
     "data": {
      "text/plain": [
       "'MANHATTAN'"
      ]
     },
     "execution_count": 56,
     "metadata": {},
     "output_type": "execute_result"
    }
   ],
   "source": [
    "ct0.sort_values('All',ascending=False).index[1]"
   ]
  },
  {
   "cell_type": "markdown",
   "metadata": {},
   "source": [
    "Or we can do the do the cross-tabulating and sorting in one step:"
   ]
  },
  {
   "cell_type": "code",
   "execution_count": 7,
   "metadata": {},
   "outputs": [
    {
     "data": {
      "text/html": [
       "<div>\n",
       "<style scoped>\n",
       "    .dataframe tbody tr th:only-of-type {\n",
       "        vertical-align: middle;\n",
       "    }\n",
       "\n",
       "    .dataframe tbody tr th {\n",
       "        vertical-align: top;\n",
       "    }\n",
       "\n",
       "    .dataframe thead th {\n",
       "        text-align: right;\n",
       "    }\n",
       "</style>\n",
       "<table border=\"1\" class=\"dataframe\">\n",
       "  <thead>\n",
       "    <tr style=\"text-align: right;\">\n",
       "      <th>Complaint Type</th>\n",
       "      <th>Noise</th>\n",
       "      <th>Noise - Commercial</th>\n",
       "      <th>Noise - Helicopter</th>\n",
       "      <th>Noise - House of Worship</th>\n",
       "      <th>Noise - Park</th>\n",
       "      <th>Noise - Street/Sidewalk</th>\n",
       "      <th>Noise - Vehicle</th>\n",
       "      <th>All</th>\n",
       "    </tr>\n",
       "    <tr>\n",
       "      <th>Borough</th>\n",
       "      <th></th>\n",
       "      <th></th>\n",
       "      <th></th>\n",
       "      <th></th>\n",
       "      <th></th>\n",
       "      <th></th>\n",
       "      <th></th>\n",
       "      <th></th>\n",
       "    </tr>\n",
       "  </thead>\n",
       "  <tbody>\n",
       "    <tr>\n",
       "      <th>All</th>\n",
       "      <td>3321</td>\n",
       "      <td>2578</td>\n",
       "      <td>99</td>\n",
       "      <td>67</td>\n",
       "      <td>191</td>\n",
       "      <td>1928</td>\n",
       "      <td>750</td>\n",
       "      <td>8934</td>\n",
       "    </tr>\n",
       "    <tr>\n",
       "      <th>MANHATTAN</th>\n",
       "      <td>1848</td>\n",
       "      <td>1140</td>\n",
       "      <td>66</td>\n",
       "      <td>16</td>\n",
       "      <td>91</td>\n",
       "      <td>917</td>\n",
       "      <td>255</td>\n",
       "      <td>4333</td>\n",
       "    </tr>\n",
       "    <tr>\n",
       "      <th>BROOKLYN</th>\n",
       "      <td>767</td>\n",
       "      <td>775</td>\n",
       "      <td>23</td>\n",
       "      <td>23</td>\n",
       "      <td>60</td>\n",
       "      <td>456</td>\n",
       "      <td>237</td>\n",
       "      <td>2341</td>\n",
       "    </tr>\n",
       "    <tr>\n",
       "      <th>QUEENS</th>\n",
       "      <td>418</td>\n",
       "      <td>451</td>\n",
       "      <td>9</td>\n",
       "      <td>15</td>\n",
       "      <td>27</td>\n",
       "      <td>226</td>\n",
       "      <td>130</td>\n",
       "      <td>1276</td>\n",
       "    </tr>\n",
       "    <tr>\n",
       "      <th>BRONX</th>\n",
       "      <td>168</td>\n",
       "      <td>136</td>\n",
       "      <td>1</td>\n",
       "      <td>11</td>\n",
       "      <td>9</td>\n",
       "      <td>292</td>\n",
       "      <td>102</td>\n",
       "      <td>719</td>\n",
       "    </tr>\n",
       "    <tr>\n",
       "      <th>STATEN ISLAND</th>\n",
       "      <td>115</td>\n",
       "      <td>76</td>\n",
       "      <td>0</td>\n",
       "      <td>2</td>\n",
       "      <td>4</td>\n",
       "      <td>36</td>\n",
       "      <td>25</td>\n",
       "      <td>258</td>\n",
       "    </tr>\n",
       "    <tr>\n",
       "      <th>Unspecified</th>\n",
       "      <td>5</td>\n",
       "      <td>0</td>\n",
       "      <td>0</td>\n",
       "      <td>0</td>\n",
       "      <td>0</td>\n",
       "      <td>1</td>\n",
       "      <td>1</td>\n",
       "      <td>7</td>\n",
       "    </tr>\n",
       "  </tbody>\n",
       "</table>\n",
       "</div>"
      ],
      "text/plain": [
       "Complaint Type  Noise  Noise - Commercial  Noise - Helicopter  \\\n",
       "Borough                                                         \n",
       "All              3321                2578                  99   \n",
       "MANHATTAN        1848                1140                  66   \n",
       "BROOKLYN          767                 775                  23   \n",
       "QUEENS            418                 451                   9   \n",
       "BRONX             168                 136                   1   \n",
       "STATEN ISLAND     115                  76                   0   \n",
       "Unspecified         5                   0                   0   \n",
       "\n",
       "Complaint Type  Noise - House of Worship  Noise - Park  \\\n",
       "Borough                                                  \n",
       "All                                   67           191   \n",
       "MANHATTAN                             16            91   \n",
       "BROOKLYN                              23            60   \n",
       "QUEENS                                15            27   \n",
       "BRONX                                 11             9   \n",
       "STATEN ISLAND                          2             4   \n",
       "Unspecified                            0             0   \n",
       "\n",
       "Complaint Type  Noise - Street/Sidewalk  Noise - Vehicle   All  \n",
       "Borough                                                         \n",
       "All                                1928              750  8934  \n",
       "MANHATTAN                           917              255  4333  \n",
       "BROOKLYN                            456              237  2341  \n",
       "QUEENS                              226              130  1276  \n",
       "BRONX                               292              102   719  \n",
       "STATEN ISLAND                        36               25   258  \n",
       "Unspecified                           1                1     7  "
      ]
     },
     "execution_count": 7,
     "metadata": {},
     "output_type": "execute_result"
    }
   ],
   "source": [
    "sct = pd.crosstab(complaints_noise['Borough'], complaints_noise['Complaint Type'],\n",
    "            margins=True).sort_values('All',ascending=False)\n",
    "sct"
   ]
  },
  {
   "cell_type": "code",
   "execution_count": 77,
   "metadata": {},
   "outputs": [
    {
     "data": {
      "text/plain": [
       "'MANHATTAN'"
      ]
     },
     "execution_count": 77,
     "metadata": {},
     "output_type": "execute_result"
    }
   ],
   "source": [
    "sct.index[1]"
   ]
  },
  {
   "cell_type": "markdown",
   "metadata": {},
   "source": [
    "Addendum (data-type specific):\n",
    "\n",
    "For better understanding of what consitutes a noise complaint we can look\n",
    "at the descriptions in the `Descriptor` column of the DataFrame that\n",
    "has been restricted to noise complaints."
   ]
  },
  {
   "cell_type": "code",
   "execution_count": 8,
   "metadata": {},
   "outputs": [],
   "source": [
    "# Collect the distinct descriptors for noise complaints (using the rows for which\n",
    "# the Descriptor column is non-null)\n",
    "noi_d = complaints_noise[complaints_noise['Descriptor'].notnull()]['Descriptor'].unique()"
   ]
  },
  {
   "cell_type": "code",
   "execution_count": 161,
   "metadata": {},
   "outputs": [
    {
     "data": {
      "text/plain": [
       "array(['Loud Talking', 'Loud Music/Party', 'Car/Truck Horn',\n",
       "       'Banging/Pounding', 'Engine Idling', 'Car/Truck Music',\n",
       "       'Noise: Construction Before/After Hours (NM1)',\n",
       "       'Noise, Barking Dog (NR5)', 'Other', 'Noise: Jack Hammering (NC2)',\n",
       "       'Noise: Alarms (NR3)', 'Noise: Boat(Engine,Music,Etc) (NR10)',\n",
       "       'Noise: air condition/ventilation equipment (NV1)',\n",
       "       'Noise: Construction Equipment (NC1)',\n",
       "       'Noise: Private Carting Noise (NQ1)',\n",
       "       'Noise:  lawn care equipment (NCL)', 'NYPD',\n",
       "       'Noise: Manufacturing Noise (NK1)',\n",
       "       'Noise: Other Noise Sources (Use Comments) (NZZ)',\n",
       "       'Horn Honking Sign Requested (NR9)',\n",
       "       'Noise, Ice Cream Truck (NR4)', 'News Gathering',\n",
       "       'Noise: Loud Music/Daytime (Mark Date And Time) (NN1)',\n",
       "       'Noise, Other Animals (NR6)', 'Loud Television'], dtype=object)"
      ]
     },
     "execution_count": 161,
     "metadata": {},
     "output_type": "execute_result"
    }
   ],
   "source": [
    "noi_d"
   ]
  },
  {
   "cell_type": "markdown",
   "metadata": {},
   "source": [
    "**Complaints problem C**\n",
    "\n",
    "Find the complaint counts for three agences ('DOT', \"DOP\", 'NYPD')."
   ]
  },
  {
   "cell_type": "code",
   "execution_count": null,
   "metadata": {},
   "outputs": [],
   "source": []
  },
  {
   "cell_type": "code",
   "execution_count": null,
   "metadata": {},
   "outputs": [],
   "source": []
  },
  {
   "cell_type": "code",
   "execution_count": null,
   "metadata": {},
   "outputs": [],
   "source": []
  },
  {
   "cell_type": "code",
   "execution_count": null,
   "metadata": {},
   "outputs": [],
   "source": []
  },
  {
   "cell_type": "code",
   "execution_count": null,
   "metadata": {},
   "outputs": [],
   "source": []
  },
  {
   "cell_type": "code",
   "execution_count": null,
   "metadata": {},
   "outputs": [],
   "source": []
  },
  {
   "cell_type": "code",
   "execution_count": null,
   "metadata": {},
   "outputs": [],
   "source": []
  },
  {
   "cell_type": "code",
   "execution_count": null,
   "metadata": {},
   "outputs": [],
   "source": []
  },
  {
   "cell_type": "code",
   "execution_count": null,
   "metadata": {},
   "outputs": [],
   "source": []
  },
  {
   "cell_type": "markdown",
   "metadata": {},
   "source": [
    "Steps:"
   ]
  },
  {
   "cell_type": "markdown",
   "metadata": {},
   "source": [
    "First Produce a DataFrame containing only the three agencies DT, DOP and NYPD.  This part is easy."
   ]
  },
  {
   "cell_type": "code",
   "execution_count": 78,
   "metadata": {},
   "outputs": [
    {
     "data": {
      "text/html": [
       "<div>\n",
       "<style scoped>\n",
       "    .dataframe tbody tr th:only-of-type {\n",
       "        vertical-align: middle;\n",
       "    }\n",
       "\n",
       "    .dataframe tbody tr th {\n",
       "        vertical-align: top;\n",
       "    }\n",
       "\n",
       "    .dataframe thead th {\n",
       "        text-align: right;\n",
       "    }\n",
       "</style>\n",
       "<table border=\"1\" class=\"dataframe\">\n",
       "  <thead>\n",
       "    <tr style=\"text-align: right;\">\n",
       "      <th></th>\n",
       "      <th>Unique Key</th>\n",
       "      <th>Created Date</th>\n",
       "      <th>Closed Date</th>\n",
       "      <th>Agency</th>\n",
       "      <th>Agency Name</th>\n",
       "      <th>Complaint Type</th>\n",
       "      <th>Descriptor</th>\n",
       "      <th>Location Type</th>\n",
       "      <th>Incident Zip</th>\n",
       "      <th>Incident Address</th>\n",
       "      <th>Street Name</th>\n",
       "      <th>Cross Street 1</th>\n",
       "      <th>Cross Street 2</th>\n",
       "      <th>Intersection Street 1</th>\n",
       "      <th>Intersection Street 2</th>\n",
       "      <th>Address Type</th>\n",
       "      <th>City</th>\n",
       "      <th>Landmark</th>\n",
       "      <th>Facility Type</th>\n",
       "      <th>Status</th>\n",
       "      <th>Due Date</th>\n",
       "      <th>Resolution Action Updated Date</th>\n",
       "      <th>Community Board</th>\n",
       "      <th>Borough</th>\n",
       "      <th>X Coordinate (State Plane)</th>\n",
       "      <th>Y Coordinate (State Plane)</th>\n",
       "      <th>Park Facility Name</th>\n",
       "      <th>Park Borough</th>\n",
       "      <th>School Name</th>\n",
       "      <th>School Number</th>\n",
       "      <th>School Region</th>\n",
       "      <th>School Code</th>\n",
       "      <th>School Phone Number</th>\n",
       "      <th>School Address</th>\n",
       "      <th>School City</th>\n",
       "      <th>School State</th>\n",
       "      <th>School Zip</th>\n",
       "      <th>School Not Found</th>\n",
       "      <th>School or Citywide Complaint</th>\n",
       "      <th>Vehicle Type</th>\n",
       "      <th>Taxi Company Borough</th>\n",
       "      <th>Taxi Pick Up Location</th>\n",
       "      <th>Bridge Highway Name</th>\n",
       "      <th>Bridge Highway Direction</th>\n",
       "      <th>Road Ramp</th>\n",
       "      <th>Bridge Highway Segment</th>\n",
       "      <th>Garage Lot Name</th>\n",
       "      <th>Ferry Direction</th>\n",
       "      <th>Ferry Terminal Name</th>\n",
       "      <th>Latitude</th>\n",
       "      <th>Longitude</th>\n",
       "      <th>Location</th>\n",
       "    </tr>\n",
       "  </thead>\n",
       "  <tbody>\n",
       "    <tr>\n",
       "      <th>0</th>\n",
       "      <td>26589651</td>\n",
       "      <td>10/31/2013 02:08:41 AM</td>\n",
       "      <td>NaN</td>\n",
       "      <td>NYPD</td>\n",
       "      <td>New York City Police Department</td>\n",
       "      <td>Noise - Street/Sidewalk</td>\n",
       "      <td>Loud Talking</td>\n",
       "      <td>Street/Sidewalk</td>\n",
       "      <td>11432</td>\n",
       "      <td>90-03 169 STREET</td>\n",
       "      <td>169 STREET</td>\n",
       "      <td>90 AVENUE</td>\n",
       "      <td>91 AVENUE</td>\n",
       "      <td>NaN</td>\n",
       "      <td>NaN</td>\n",
       "      <td>ADDRESS</td>\n",
       "      <td>JAMAICA</td>\n",
       "      <td>NaN</td>\n",
       "      <td>Precinct</td>\n",
       "      <td>Assigned</td>\n",
       "      <td>10/31/2013 10:08:41 AM</td>\n",
       "      <td>10/31/2013 02:35:17 AM</td>\n",
       "      <td>12 QUEENS</td>\n",
       "      <td>QUEENS</td>\n",
       "      <td>1042027.0</td>\n",
       "      <td>197389.0</td>\n",
       "      <td>Unspecified</td>\n",
       "      <td>QUEENS</td>\n",
       "      <td>Unspecified</td>\n",
       "      <td>Unspecified</td>\n",
       "      <td>Unspecified</td>\n",
       "      <td>Unspecified</td>\n",
       "      <td>Unspecified</td>\n",
       "      <td>Unspecified</td>\n",
       "      <td>Unspecified</td>\n",
       "      <td>Unspecified</td>\n",
       "      <td>Unspecified</td>\n",
       "      <td>N</td>\n",
       "      <td>NaN</td>\n",
       "      <td>NaN</td>\n",
       "      <td>NaN</td>\n",
       "      <td>NaN</td>\n",
       "      <td>NaN</td>\n",
       "      <td>NaN</td>\n",
       "      <td>NaN</td>\n",
       "      <td>NaN</td>\n",
       "      <td>NaN</td>\n",
       "      <td>NaN</td>\n",
       "      <td>NaN</td>\n",
       "      <td>40.708275</td>\n",
       "      <td>-73.791604</td>\n",
       "      <td>(40.70827532593202, -73.79160395779721)</td>\n",
       "    </tr>\n",
       "    <tr>\n",
       "      <th>1</th>\n",
       "      <td>26593698</td>\n",
       "      <td>10/31/2013 02:01:04 AM</td>\n",
       "      <td>NaN</td>\n",
       "      <td>NYPD</td>\n",
       "      <td>New York City Police Department</td>\n",
       "      <td>Illegal Parking</td>\n",
       "      <td>Commercial Overnight Parking</td>\n",
       "      <td>Street/Sidewalk</td>\n",
       "      <td>11378</td>\n",
       "      <td>58 AVENUE</td>\n",
       "      <td>58 AVENUE</td>\n",
       "      <td>58 PLACE</td>\n",
       "      <td>59 STREET</td>\n",
       "      <td>NaN</td>\n",
       "      <td>NaN</td>\n",
       "      <td>BLOCKFACE</td>\n",
       "      <td>MASPETH</td>\n",
       "      <td>NaN</td>\n",
       "      <td>Precinct</td>\n",
       "      <td>Open</td>\n",
       "      <td>10/31/2013 10:01:04 AM</td>\n",
       "      <td>NaN</td>\n",
       "      <td>05 QUEENS</td>\n",
       "      <td>QUEENS</td>\n",
       "      <td>1009349.0</td>\n",
       "      <td>201984.0</td>\n",
       "      <td>Unspecified</td>\n",
       "      <td>QUEENS</td>\n",
       "      <td>Unspecified</td>\n",
       "      <td>Unspecified</td>\n",
       "      <td>Unspecified</td>\n",
       "      <td>Unspecified</td>\n",
       "      <td>Unspecified</td>\n",
       "      <td>Unspecified</td>\n",
       "      <td>Unspecified</td>\n",
       "      <td>Unspecified</td>\n",
       "      <td>Unspecified</td>\n",
       "      <td>N</td>\n",
       "      <td>NaN</td>\n",
       "      <td>NaN</td>\n",
       "      <td>NaN</td>\n",
       "      <td>NaN</td>\n",
       "      <td>NaN</td>\n",
       "      <td>NaN</td>\n",
       "      <td>NaN</td>\n",
       "      <td>NaN</td>\n",
       "      <td>NaN</td>\n",
       "      <td>NaN</td>\n",
       "      <td>NaN</td>\n",
       "      <td>40.721041</td>\n",
       "      <td>-73.909453</td>\n",
       "      <td>(40.721040535628305, -73.90945306791765)</td>\n",
       "    </tr>\n",
       "    <tr>\n",
       "      <th>2</th>\n",
       "      <td>26594139</td>\n",
       "      <td>10/31/2013 02:00:24 AM</td>\n",
       "      <td>10/31/2013 02:40:32 AM</td>\n",
       "      <td>NYPD</td>\n",
       "      <td>New York City Police Department</td>\n",
       "      <td>Noise - Commercial</td>\n",
       "      <td>Loud Music/Party</td>\n",
       "      <td>Club/Bar/Restaurant</td>\n",
       "      <td>10032</td>\n",
       "      <td>4060 BROADWAY</td>\n",
       "      <td>BROADWAY</td>\n",
       "      <td>WEST 171 STREET</td>\n",
       "      <td>WEST 172 STREET</td>\n",
       "      <td>NaN</td>\n",
       "      <td>NaN</td>\n",
       "      <td>ADDRESS</td>\n",
       "      <td>NEW YORK</td>\n",
       "      <td>NaN</td>\n",
       "      <td>Precinct</td>\n",
       "      <td>Closed</td>\n",
       "      <td>10/31/2013 10:00:24 AM</td>\n",
       "      <td>10/31/2013 02:39:42 AM</td>\n",
       "      <td>12 MANHATTAN</td>\n",
       "      <td>MANHATTAN</td>\n",
       "      <td>1001088.0</td>\n",
       "      <td>246531.0</td>\n",
       "      <td>Unspecified</td>\n",
       "      <td>MANHATTAN</td>\n",
       "      <td>Unspecified</td>\n",
       "      <td>Unspecified</td>\n",
       "      <td>Unspecified</td>\n",
       "      <td>Unspecified</td>\n",
       "      <td>Unspecified</td>\n",
       "      <td>Unspecified</td>\n",
       "      <td>Unspecified</td>\n",
       "      <td>Unspecified</td>\n",
       "      <td>Unspecified</td>\n",
       "      <td>N</td>\n",
       "      <td>NaN</td>\n",
       "      <td>NaN</td>\n",
       "      <td>NaN</td>\n",
       "      <td>NaN</td>\n",
       "      <td>NaN</td>\n",
       "      <td>NaN</td>\n",
       "      <td>NaN</td>\n",
       "      <td>NaN</td>\n",
       "      <td>NaN</td>\n",
       "      <td>NaN</td>\n",
       "      <td>NaN</td>\n",
       "      <td>40.843330</td>\n",
       "      <td>-73.939144</td>\n",
       "      <td>(40.84332975466513, -73.93914371913482)</td>\n",
       "    </tr>\n",
       "    <tr>\n",
       "      <th>3</th>\n",
       "      <td>26595721</td>\n",
       "      <td>10/31/2013 01:56:23 AM</td>\n",
       "      <td>10/31/2013 02:21:48 AM</td>\n",
       "      <td>NYPD</td>\n",
       "      <td>New York City Police Department</td>\n",
       "      <td>Noise - Vehicle</td>\n",
       "      <td>Car/Truck Horn</td>\n",
       "      <td>Street/Sidewalk</td>\n",
       "      <td>10023</td>\n",
       "      <td>WEST 72 STREET</td>\n",
       "      <td>WEST 72 STREET</td>\n",
       "      <td>COLUMBUS AVENUE</td>\n",
       "      <td>AMSTERDAM AVENUE</td>\n",
       "      <td>NaN</td>\n",
       "      <td>NaN</td>\n",
       "      <td>BLOCKFACE</td>\n",
       "      <td>NEW YORK</td>\n",
       "      <td>NaN</td>\n",
       "      <td>Precinct</td>\n",
       "      <td>Closed</td>\n",
       "      <td>10/31/2013 09:56:23 AM</td>\n",
       "      <td>10/31/2013 02:21:10 AM</td>\n",
       "      <td>07 MANHATTAN</td>\n",
       "      <td>MANHATTAN</td>\n",
       "      <td>989730.0</td>\n",
       "      <td>222727.0</td>\n",
       "      <td>Unspecified</td>\n",
       "      <td>MANHATTAN</td>\n",
       "      <td>Unspecified</td>\n",
       "      <td>Unspecified</td>\n",
       "      <td>Unspecified</td>\n",
       "      <td>Unspecified</td>\n",
       "      <td>Unspecified</td>\n",
       "      <td>Unspecified</td>\n",
       "      <td>Unspecified</td>\n",
       "      <td>Unspecified</td>\n",
       "      <td>Unspecified</td>\n",
       "      <td>N</td>\n",
       "      <td>NaN</td>\n",
       "      <td>NaN</td>\n",
       "      <td>NaN</td>\n",
       "      <td>NaN</td>\n",
       "      <td>NaN</td>\n",
       "      <td>NaN</td>\n",
       "      <td>NaN</td>\n",
       "      <td>NaN</td>\n",
       "      <td>NaN</td>\n",
       "      <td>NaN</td>\n",
       "      <td>NaN</td>\n",
       "      <td>40.778009</td>\n",
       "      <td>-73.980213</td>\n",
       "      <td>(40.7780087446372, -73.98021349023975)</td>\n",
       "    </tr>\n",
       "    <tr>\n",
       "      <th>5</th>\n",
       "      <td>26592370</td>\n",
       "      <td>10/31/2013 01:46:52 AM</td>\n",
       "      <td>NaN</td>\n",
       "      <td>NYPD</td>\n",
       "      <td>New York City Police Department</td>\n",
       "      <td>Noise - Commercial</td>\n",
       "      <td>Banging/Pounding</td>\n",
       "      <td>Club/Bar/Restaurant</td>\n",
       "      <td>11372</td>\n",
       "      <td>37 AVENUE</td>\n",
       "      <td>37 AVENUE</td>\n",
       "      <td>84 STREET</td>\n",
       "      <td>85 STREET</td>\n",
       "      <td>NaN</td>\n",
       "      <td>NaN</td>\n",
       "      <td>BLOCKFACE</td>\n",
       "      <td>JACKSON HEIGHTS</td>\n",
       "      <td>NaN</td>\n",
       "      <td>Precinct</td>\n",
       "      <td>Open</td>\n",
       "      <td>10/31/2013 09:46:52 AM</td>\n",
       "      <td>NaN</td>\n",
       "      <td>03 QUEENS</td>\n",
       "      <td>QUEENS</td>\n",
       "      <td>1016948.0</td>\n",
       "      <td>212540.0</td>\n",
       "      <td>Unspecified</td>\n",
       "      <td>QUEENS</td>\n",
       "      <td>Unspecified</td>\n",
       "      <td>Unspecified</td>\n",
       "      <td>Unspecified</td>\n",
       "      <td>Unspecified</td>\n",
       "      <td>Unspecified</td>\n",
       "      <td>Unspecified</td>\n",
       "      <td>Unspecified</td>\n",
       "      <td>Unspecified</td>\n",
       "      <td>Unspecified</td>\n",
       "      <td>N</td>\n",
       "      <td>NaN</td>\n",
       "      <td>NaN</td>\n",
       "      <td>NaN</td>\n",
       "      <td>NaN</td>\n",
       "      <td>NaN</td>\n",
       "      <td>NaN</td>\n",
       "      <td>NaN</td>\n",
       "      <td>NaN</td>\n",
       "      <td>NaN</td>\n",
       "      <td>NaN</td>\n",
       "      <td>NaN</td>\n",
       "      <td>40.749989</td>\n",
       "      <td>-73.881988</td>\n",
       "      <td>(40.7499893014072, -73.88198770727831)</td>\n",
       "    </tr>\n",
       "    <tr>\n",
       "      <th>...</th>\n",
       "      <td>...</td>\n",
       "      <td>...</td>\n",
       "      <td>...</td>\n",
       "      <td>...</td>\n",
       "      <td>...</td>\n",
       "      <td>...</td>\n",
       "      <td>...</td>\n",
       "      <td>...</td>\n",
       "      <td>...</td>\n",
       "      <td>...</td>\n",
       "      <td>...</td>\n",
       "      <td>...</td>\n",
       "      <td>...</td>\n",
       "      <td>...</td>\n",
       "      <td>...</td>\n",
       "      <td>...</td>\n",
       "      <td>...</td>\n",
       "      <td>...</td>\n",
       "      <td>...</td>\n",
       "      <td>...</td>\n",
       "      <td>...</td>\n",
       "      <td>...</td>\n",
       "      <td>...</td>\n",
       "      <td>...</td>\n",
       "      <td>...</td>\n",
       "      <td>...</td>\n",
       "      <td>...</td>\n",
       "      <td>...</td>\n",
       "      <td>...</td>\n",
       "      <td>...</td>\n",
       "      <td>...</td>\n",
       "      <td>...</td>\n",
       "      <td>...</td>\n",
       "      <td>...</td>\n",
       "      <td>...</td>\n",
       "      <td>...</td>\n",
       "      <td>...</td>\n",
       "      <td>...</td>\n",
       "      <td>...</td>\n",
       "      <td>...</td>\n",
       "      <td>...</td>\n",
       "      <td>...</td>\n",
       "      <td>...</td>\n",
       "      <td>...</td>\n",
       "      <td>...</td>\n",
       "      <td>...</td>\n",
       "      <td>...</td>\n",
       "      <td>...</td>\n",
       "      <td>...</td>\n",
       "      <td>...</td>\n",
       "      <td>...</td>\n",
       "      <td>...</td>\n",
       "    </tr>\n",
       "    <tr>\n",
       "      <th>111061</th>\n",
       "      <td>26426164</td>\n",
       "      <td>10/04/2013 12:03:00 AM</td>\n",
       "      <td>10/04/2013 02:14:57 AM</td>\n",
       "      <td>NYPD</td>\n",
       "      <td>New York City Police Department</td>\n",
       "      <td>Noise - Commercial</td>\n",
       "      <td>Loud Music/Party</td>\n",
       "      <td>Club/Bar/Restaurant</td>\n",
       "      <td>11106</td>\n",
       "      <td>30-09 BROADWAY</td>\n",
       "      <td>BROADWAY</td>\n",
       "      <td>30 STREET</td>\n",
       "      <td>31 STREET</td>\n",
       "      <td>NaN</td>\n",
       "      <td>NaN</td>\n",
       "      <td>ADDRESS</td>\n",
       "      <td>ASTORIA</td>\n",
       "      <td>NaN</td>\n",
       "      <td>Precinct</td>\n",
       "      <td>Closed</td>\n",
       "      <td>10/04/2013 08:03:00 AM</td>\n",
       "      <td>10/04/2013 02:14:57 AM</td>\n",
       "      <td>01 QUEENS</td>\n",
       "      <td>QUEENS</td>\n",
       "      <td>1004746.0</td>\n",
       "      <td>217004.0</td>\n",
       "      <td>Unspecified</td>\n",
       "      <td>QUEENS</td>\n",
       "      <td>Unspecified</td>\n",
       "      <td>Unspecified</td>\n",
       "      <td>Unspecified</td>\n",
       "      <td>Unspecified</td>\n",
       "      <td>Unspecified</td>\n",
       "      <td>Unspecified</td>\n",
       "      <td>Unspecified</td>\n",
       "      <td>Unspecified</td>\n",
       "      <td>Unspecified</td>\n",
       "      <td>N</td>\n",
       "      <td>NaN</td>\n",
       "      <td>NaN</td>\n",
       "      <td>NaN</td>\n",
       "      <td>NaN</td>\n",
       "      <td>NaN</td>\n",
       "      <td>NaN</td>\n",
       "      <td>NaN</td>\n",
       "      <td>NaN</td>\n",
       "      <td>NaN</td>\n",
       "      <td>NaN</td>\n",
       "      <td>NaN</td>\n",
       "      <td>40.762279</td>\n",
       "      <td>-73.926013</td>\n",
       "      <td>(40.762278541098084, -73.92601303458156)</td>\n",
       "    </tr>\n",
       "    <tr>\n",
       "      <th>111065</th>\n",
       "      <td>26428083</td>\n",
       "      <td>10/04/2013 12:01:05 AM</td>\n",
       "      <td>10/04/2013 02:13:50 AM</td>\n",
       "      <td>NYPD</td>\n",
       "      <td>New York City Police Department</td>\n",
       "      <td>Illegal Parking</td>\n",
       "      <td>Posted Parking Sign Violation</td>\n",
       "      <td>Street/Sidewalk</td>\n",
       "      <td>11434</td>\n",
       "      <td>NaN</td>\n",
       "      <td>NaN</td>\n",
       "      <td>NaN</td>\n",
       "      <td>NaN</td>\n",
       "      <td>GUY R BREWER BOULEVARD</td>\n",
       "      <td>ROCKAWAY BOULEVARD</td>\n",
       "      <td>INTERSECTION</td>\n",
       "      <td>JAMAICA</td>\n",
       "      <td>NaN</td>\n",
       "      <td>Precinct</td>\n",
       "      <td>Closed</td>\n",
       "      <td>10/04/2013 08:01:05 AM</td>\n",
       "      <td>10/04/2013 02:13:50 AM</td>\n",
       "      <td>13 QUEENS</td>\n",
       "      <td>QUEENS</td>\n",
       "      <td>1048801.0</td>\n",
       "      <td>178419.0</td>\n",
       "      <td>Unspecified</td>\n",
       "      <td>QUEENS</td>\n",
       "      <td>Unspecified</td>\n",
       "      <td>Unspecified</td>\n",
       "      <td>Unspecified</td>\n",
       "      <td>Unspecified</td>\n",
       "      <td>Unspecified</td>\n",
       "      <td>Unspecified</td>\n",
       "      <td>Unspecified</td>\n",
       "      <td>Unspecified</td>\n",
       "      <td>Unspecified</td>\n",
       "      <td>N</td>\n",
       "      <td>NaN</td>\n",
       "      <td>NaN</td>\n",
       "      <td>NaN</td>\n",
       "      <td>NaN</td>\n",
       "      <td>NaN</td>\n",
       "      <td>NaN</td>\n",
       "      <td>NaN</td>\n",
       "      <td>NaN</td>\n",
       "      <td>NaN</td>\n",
       "      <td>NaN</td>\n",
       "      <td>NaN</td>\n",
       "      <td>40.656160</td>\n",
       "      <td>-73.767353</td>\n",
       "      <td>(40.656160351546845, -73.76735262738222)</td>\n",
       "    </tr>\n",
       "    <tr>\n",
       "      <th>111066</th>\n",
       "      <td>26428987</td>\n",
       "      <td>10/04/2013 12:00:45 AM</td>\n",
       "      <td>10/04/2013 01:25:01 AM</td>\n",
       "      <td>NYPD</td>\n",
       "      <td>New York City Police Department</td>\n",
       "      <td>Noise - Street/Sidewalk</td>\n",
       "      <td>Loud Talking</td>\n",
       "      <td>Street/Sidewalk</td>\n",
       "      <td>10016</td>\n",
       "      <td>344 EAST 28 STREET</td>\n",
       "      <td>EAST 28 STREET</td>\n",
       "      <td>MOUNT CARMEL PLACE</td>\n",
       "      <td>1 AVENUE</td>\n",
       "      <td>NaN</td>\n",
       "      <td>NaN</td>\n",
       "      <td>ADDRESS</td>\n",
       "      <td>NEW YORK</td>\n",
       "      <td>NaN</td>\n",
       "      <td>Precinct</td>\n",
       "      <td>Closed</td>\n",
       "      <td>10/04/2013 08:00:45 AM</td>\n",
       "      <td>10/04/2013 01:25:01 AM</td>\n",
       "      <td>06 MANHATTAN</td>\n",
       "      <td>MANHATTAN</td>\n",
       "      <td>990637.0</td>\n",
       "      <td>208987.0</td>\n",
       "      <td>Unspecified</td>\n",
       "      <td>MANHATTAN</td>\n",
       "      <td>Unspecified</td>\n",
       "      <td>Unspecified</td>\n",
       "      <td>Unspecified</td>\n",
       "      <td>Unspecified</td>\n",
       "      <td>Unspecified</td>\n",
       "      <td>Unspecified</td>\n",
       "      <td>Unspecified</td>\n",
       "      <td>Unspecified</td>\n",
       "      <td>Unspecified</td>\n",
       "      <td>N</td>\n",
       "      <td>NaN</td>\n",
       "      <td>NaN</td>\n",
       "      <td>NaN</td>\n",
       "      <td>NaN</td>\n",
       "      <td>NaN</td>\n",
       "      <td>NaN</td>\n",
       "      <td>NaN</td>\n",
       "      <td>NaN</td>\n",
       "      <td>NaN</td>\n",
       "      <td>NaN</td>\n",
       "      <td>NaN</td>\n",
       "      <td>40.740295</td>\n",
       "      <td>-73.976952</td>\n",
       "      <td>(40.740295354643706, -73.97695165980414)</td>\n",
       "    </tr>\n",
       "    <tr>\n",
       "      <th>111067</th>\n",
       "      <td>26426115</td>\n",
       "      <td>10/04/2013 12:00:28 AM</td>\n",
       "      <td>10/04/2013 04:17:32 AM</td>\n",
       "      <td>NYPD</td>\n",
       "      <td>New York City Police Department</td>\n",
       "      <td>Noise - Commercial</td>\n",
       "      <td>Loud Talking</td>\n",
       "      <td>Club/Bar/Restaurant</td>\n",
       "      <td>11226</td>\n",
       "      <td>1233 FLATBUSH AVENUE</td>\n",
       "      <td>FLATBUSH AVENUE</td>\n",
       "      <td>AVENUE D</td>\n",
       "      <td>NEWKIRK AVENUE</td>\n",
       "      <td>NaN</td>\n",
       "      <td>NaN</td>\n",
       "      <td>ADDRESS</td>\n",
       "      <td>BROOKLYN</td>\n",
       "      <td>NaN</td>\n",
       "      <td>Precinct</td>\n",
       "      <td>Closed</td>\n",
       "      <td>10/04/2013 08:00:28 AM</td>\n",
       "      <td>10/04/2013 04:17:32 AM</td>\n",
       "      <td>14 BROOKLYN</td>\n",
       "      <td>BROOKLYN</td>\n",
       "      <td>996654.0</td>\n",
       "      <td>172515.0</td>\n",
       "      <td>Unspecified</td>\n",
       "      <td>BROOKLYN</td>\n",
       "      <td>Unspecified</td>\n",
       "      <td>Unspecified</td>\n",
       "      <td>Unspecified</td>\n",
       "      <td>Unspecified</td>\n",
       "      <td>Unspecified</td>\n",
       "      <td>Unspecified</td>\n",
       "      <td>Unspecified</td>\n",
       "      <td>Unspecified</td>\n",
       "      <td>Unspecified</td>\n",
       "      <td>N</td>\n",
       "      <td>NaN</td>\n",
       "      <td>NaN</td>\n",
       "      <td>NaN</td>\n",
       "      <td>NaN</td>\n",
       "      <td>NaN</td>\n",
       "      <td>NaN</td>\n",
       "      <td>NaN</td>\n",
       "      <td>NaN</td>\n",
       "      <td>NaN</td>\n",
       "      <td>NaN</td>\n",
       "      <td>NaN</td>\n",
       "      <td>40.640182</td>\n",
       "      <td>-73.955306</td>\n",
       "      <td>(40.64018174662485, -73.95530566958138)</td>\n",
       "    </tr>\n",
       "    <tr>\n",
       "      <th>111068</th>\n",
       "      <td>26428033</td>\n",
       "      <td>10/04/2013 12:00:10 AM</td>\n",
       "      <td>10/04/2013 01:20:52 AM</td>\n",
       "      <td>NYPD</td>\n",
       "      <td>New York City Police Department</td>\n",
       "      <td>Blocked Driveway</td>\n",
       "      <td>Partial Access</td>\n",
       "      <td>Street/Sidewalk</td>\n",
       "      <td>11236</td>\n",
       "      <td>1259 EAST 94 STREET</td>\n",
       "      <td>EAST 94 STREET</td>\n",
       "      <td>AVENUE J</td>\n",
       "      <td>AVENUE K</td>\n",
       "      <td>NaN</td>\n",
       "      <td>NaN</td>\n",
       "      <td>ADDRESS</td>\n",
       "      <td>BROOKLYN</td>\n",
       "      <td>NaN</td>\n",
       "      <td>Precinct</td>\n",
       "      <td>Closed</td>\n",
       "      <td>10/04/2013 08:00:10 AM</td>\n",
       "      <td>10/04/2013 01:20:52 AM</td>\n",
       "      <td>18 BROOKLYN</td>\n",
       "      <td>BROOKLYN</td>\n",
       "      <td>1011804.0</td>\n",
       "      <td>172470.0</td>\n",
       "      <td>Unspecified</td>\n",
       "      <td>BROOKLYN</td>\n",
       "      <td>Unspecified</td>\n",
       "      <td>Unspecified</td>\n",
       "      <td>Unspecified</td>\n",
       "      <td>Unspecified</td>\n",
       "      <td>Unspecified</td>\n",
       "      <td>Unspecified</td>\n",
       "      <td>Unspecified</td>\n",
       "      <td>Unspecified</td>\n",
       "      <td>Unspecified</td>\n",
       "      <td>N</td>\n",
       "      <td>NaN</td>\n",
       "      <td>NaN</td>\n",
       "      <td>NaN</td>\n",
       "      <td>NaN</td>\n",
       "      <td>NaN</td>\n",
       "      <td>NaN</td>\n",
       "      <td>NaN</td>\n",
       "      <td>NaN</td>\n",
       "      <td>NaN</td>\n",
       "      <td>NaN</td>\n",
       "      <td>NaN</td>\n",
       "      <td>40.640024</td>\n",
       "      <td>-73.900717</td>\n",
       "      <td>(40.640024057399216, -73.90071711703163)</td>\n",
       "    </tr>\n",
       "  </tbody>\n",
       "</table>\n",
       "<p>33004 rows × 52 columns</p>\n",
       "</div>"
      ],
      "text/plain": [
       "        Unique Key            Created Date             Closed Date Agency                      Agency Name           Complaint Type                     Descriptor        Location Type Incident Zip      Incident Address      Street Name      Cross Street 1    Cross Street 2   Intersection Street 1 Intersection Street 2  Address Type             City Landmark Facility Type    Status                Due Date Resolution Action Updated Date Community Board    Borough  X Coordinate (State Plane)  Y Coordinate (State Plane) Park Facility Name Park Borough  School Name School Number School Region  School Code School Phone Number School Address  School City School State   School Zip School Not Found  School or Citywide Complaint Vehicle Type Taxi Company Borough Taxi Pick Up Location Bridge Highway Name Bridge Highway Direction Road Ramp Bridge Highway Segment Garage Lot Name Ferry Direction Ferry Terminal Name   Latitude  Longitude                                  Location\n",
       "0         26589651  10/31/2013 02:08:41 AM                     NaN   NYPD  New York City Police Department  Noise - Street/Sidewalk                   Loud Talking      Street/Sidewalk        11432      90-03 169 STREET       169 STREET           90 AVENUE         91 AVENUE                     NaN                   NaN       ADDRESS          JAMAICA      NaN      Precinct  Assigned  10/31/2013 10:08:41 AM         10/31/2013 02:35:17 AM       12 QUEENS     QUEENS                   1042027.0                    197389.0        Unspecified       QUEENS  Unspecified   Unspecified   Unspecified  Unspecified         Unspecified    Unspecified  Unspecified  Unspecified  Unspecified                N                           NaN          NaN                  NaN                   NaN                 NaN                      NaN       NaN                    NaN             NaN             NaN                 NaN  40.708275 -73.791604   (40.70827532593202, -73.79160395779721)\n",
       "1         26593698  10/31/2013 02:01:04 AM                     NaN   NYPD  New York City Police Department          Illegal Parking   Commercial Overnight Parking      Street/Sidewalk        11378             58 AVENUE        58 AVENUE            58 PLACE         59 STREET                     NaN                   NaN     BLOCKFACE          MASPETH      NaN      Precinct      Open  10/31/2013 10:01:04 AM                            NaN       05 QUEENS     QUEENS                   1009349.0                    201984.0        Unspecified       QUEENS  Unspecified   Unspecified   Unspecified  Unspecified         Unspecified    Unspecified  Unspecified  Unspecified  Unspecified                N                           NaN          NaN                  NaN                   NaN                 NaN                      NaN       NaN                    NaN             NaN             NaN                 NaN  40.721041 -73.909453  (40.721040535628305, -73.90945306791765)\n",
       "2         26594139  10/31/2013 02:00:24 AM  10/31/2013 02:40:32 AM   NYPD  New York City Police Department       Noise - Commercial               Loud Music/Party  Club/Bar/Restaurant        10032         4060 BROADWAY         BROADWAY     WEST 171 STREET   WEST 172 STREET                     NaN                   NaN       ADDRESS         NEW YORK      NaN      Precinct    Closed  10/31/2013 10:00:24 AM         10/31/2013 02:39:42 AM    12 MANHATTAN  MANHATTAN                   1001088.0                    246531.0        Unspecified    MANHATTAN  Unspecified   Unspecified   Unspecified  Unspecified         Unspecified    Unspecified  Unspecified  Unspecified  Unspecified                N                           NaN          NaN                  NaN                   NaN                 NaN                      NaN       NaN                    NaN             NaN             NaN                 NaN  40.843330 -73.939144   (40.84332975466513, -73.93914371913482)\n",
       "3         26595721  10/31/2013 01:56:23 AM  10/31/2013 02:21:48 AM   NYPD  New York City Police Department          Noise - Vehicle                 Car/Truck Horn      Street/Sidewalk        10023        WEST 72 STREET   WEST 72 STREET     COLUMBUS AVENUE  AMSTERDAM AVENUE                     NaN                   NaN     BLOCKFACE         NEW YORK      NaN      Precinct    Closed  10/31/2013 09:56:23 AM         10/31/2013 02:21:10 AM    07 MANHATTAN  MANHATTAN                    989730.0                    222727.0        Unspecified    MANHATTAN  Unspecified   Unspecified   Unspecified  Unspecified         Unspecified    Unspecified  Unspecified  Unspecified  Unspecified                N                           NaN          NaN                  NaN                   NaN                 NaN                      NaN       NaN                    NaN             NaN             NaN                 NaN  40.778009 -73.980213    (40.7780087446372, -73.98021349023975)\n",
       "5         26592370  10/31/2013 01:46:52 AM                     NaN   NYPD  New York City Police Department       Noise - Commercial               Banging/Pounding  Club/Bar/Restaurant        11372             37 AVENUE        37 AVENUE           84 STREET         85 STREET                     NaN                   NaN     BLOCKFACE  JACKSON HEIGHTS      NaN      Precinct      Open  10/31/2013 09:46:52 AM                            NaN       03 QUEENS     QUEENS                   1016948.0                    212540.0        Unspecified       QUEENS  Unspecified   Unspecified   Unspecified  Unspecified         Unspecified    Unspecified  Unspecified  Unspecified  Unspecified                N                           NaN          NaN                  NaN                   NaN                 NaN                      NaN       NaN                    NaN             NaN             NaN                 NaN  40.749989 -73.881988    (40.7499893014072, -73.88198770727831)\n",
       "...            ...                     ...                     ...    ...                              ...                      ...                            ...                  ...          ...                   ...              ...                 ...               ...                     ...                   ...           ...              ...      ...           ...       ...                     ...                            ...             ...        ...                         ...                         ...                ...          ...          ...           ...           ...          ...                 ...            ...          ...          ...          ...              ...                           ...          ...                  ...                   ...                 ...                      ...       ...                    ...             ...             ...                 ...        ...        ...                                       ...\n",
       "111061    26426164  10/04/2013 12:03:00 AM  10/04/2013 02:14:57 AM   NYPD  New York City Police Department       Noise - Commercial               Loud Music/Party  Club/Bar/Restaurant        11106        30-09 BROADWAY         BROADWAY           30 STREET         31 STREET                     NaN                   NaN       ADDRESS          ASTORIA      NaN      Precinct    Closed  10/04/2013 08:03:00 AM         10/04/2013 02:14:57 AM       01 QUEENS     QUEENS                   1004746.0                    217004.0        Unspecified       QUEENS  Unspecified   Unspecified   Unspecified  Unspecified         Unspecified    Unspecified  Unspecified  Unspecified  Unspecified                N                           NaN          NaN                  NaN                   NaN                 NaN                      NaN       NaN                    NaN             NaN             NaN                 NaN  40.762279 -73.926013  (40.762278541098084, -73.92601303458156)\n",
       "111065    26428083  10/04/2013 12:01:05 AM  10/04/2013 02:13:50 AM   NYPD  New York City Police Department          Illegal Parking  Posted Parking Sign Violation      Street/Sidewalk        11434                   NaN              NaN                 NaN               NaN  GUY R BREWER BOULEVARD    ROCKAWAY BOULEVARD  INTERSECTION          JAMAICA      NaN      Precinct    Closed  10/04/2013 08:01:05 AM         10/04/2013 02:13:50 AM       13 QUEENS     QUEENS                   1048801.0                    178419.0        Unspecified       QUEENS  Unspecified   Unspecified   Unspecified  Unspecified         Unspecified    Unspecified  Unspecified  Unspecified  Unspecified                N                           NaN          NaN                  NaN                   NaN                 NaN                      NaN       NaN                    NaN             NaN             NaN                 NaN  40.656160 -73.767353  (40.656160351546845, -73.76735262738222)\n",
       "111066    26428987  10/04/2013 12:00:45 AM  10/04/2013 01:25:01 AM   NYPD  New York City Police Department  Noise - Street/Sidewalk                   Loud Talking      Street/Sidewalk        10016    344 EAST 28 STREET   EAST 28 STREET  MOUNT CARMEL PLACE          1 AVENUE                     NaN                   NaN       ADDRESS         NEW YORK      NaN      Precinct    Closed  10/04/2013 08:00:45 AM         10/04/2013 01:25:01 AM    06 MANHATTAN  MANHATTAN                    990637.0                    208987.0        Unspecified    MANHATTAN  Unspecified   Unspecified   Unspecified  Unspecified         Unspecified    Unspecified  Unspecified  Unspecified  Unspecified                N                           NaN          NaN                  NaN                   NaN                 NaN                      NaN       NaN                    NaN             NaN             NaN                 NaN  40.740295 -73.976952  (40.740295354643706, -73.97695165980414)\n",
       "111067    26426115  10/04/2013 12:00:28 AM  10/04/2013 04:17:32 AM   NYPD  New York City Police Department       Noise - Commercial                   Loud Talking  Club/Bar/Restaurant        11226  1233 FLATBUSH AVENUE  FLATBUSH AVENUE            AVENUE D    NEWKIRK AVENUE                     NaN                   NaN       ADDRESS         BROOKLYN      NaN      Precinct    Closed  10/04/2013 08:00:28 AM         10/04/2013 04:17:32 AM     14 BROOKLYN   BROOKLYN                    996654.0                    172515.0        Unspecified     BROOKLYN  Unspecified   Unspecified   Unspecified  Unspecified         Unspecified    Unspecified  Unspecified  Unspecified  Unspecified                N                           NaN          NaN                  NaN                   NaN                 NaN                      NaN       NaN                    NaN             NaN             NaN                 NaN  40.640182 -73.955306   (40.64018174662485, -73.95530566958138)\n",
       "111068    26428033  10/04/2013 12:00:10 AM  10/04/2013 01:20:52 AM   NYPD  New York City Police Department         Blocked Driveway                 Partial Access      Street/Sidewalk        11236   1259 EAST 94 STREET   EAST 94 STREET            AVENUE J          AVENUE K                     NaN                   NaN       ADDRESS         BROOKLYN      NaN      Precinct    Closed  10/04/2013 08:00:10 AM         10/04/2013 01:20:52 AM     18 BROOKLYN   BROOKLYN                   1011804.0                    172470.0        Unspecified     BROOKLYN  Unspecified   Unspecified   Unspecified  Unspecified         Unspecified    Unspecified  Unspecified  Unspecified  Unspecified                N                           NaN          NaN                  NaN                   NaN                 NaN                      NaN       NaN                    NaN             NaN             NaN                 NaN  40.640024 -73.900717  (40.640024057399216, -73.90071711703163)\n",
       "\n",
       "[33004 rows x 52 columns]"
      ]
     },
     "execution_count": 78,
     "metadata": {},
     "output_type": "execute_result"
    }
   ],
   "source": [
    "#BS = ??  # .isin(('DOT', \"DOP\", 'NYPD'))\n",
    "BS = complaints['Agency'].isin(('DOT', \"DOP\", 'NYPD'))\n",
    "sub_complaints = complaints[BS]\n",
    "sub_complaints"
   ]
  },
  {
   "cell_type": "markdown",
   "metadata": {},
   "source": [
    "The frame `pt00` now restricts us to three agencies.\n",
    "\n",
    "Second, use `pt00` to create a DataFrame or Series\n",
    "whose index is the complaint types\n",
    "and whose three columns are the Three Agencies.\n",
    "Each  cell should contain the count of the complaint\n",
    "type of that row and the agency of that column.\n",
    "For example, the number in the `'Animal Abuse'` row in\n",
    "the `'NYPD'` column should be the number of NYPD complaints  about\n",
    "animal abuse (which happens to be 164)."
   ]
  },
  {
   "cell_type": "markdown",
   "metadata": {},
   "source": [
    "A pause to think about this."
   ]
  },
  {
   "cell_type": "code",
   "execution_count": null,
   "metadata": {},
   "outputs": [],
   "source": []
  },
  {
   "cell_type": "code",
   "execution_count": null,
   "metadata": {},
   "outputs": [],
   "source": []
  },
  {
   "cell_type": "code",
   "execution_count": null,
   "metadata": {},
   "outputs": [],
   "source": []
  },
  {
   "cell_type": "code",
   "execution_count": null,
   "metadata": {},
   "outputs": [],
   "source": []
  },
  {
   "cell_type": "code",
   "execution_count": null,
   "metadata": {},
   "outputs": [],
   "source": []
  },
  {
   "cell_type": "code",
   "execution_count": null,
   "metadata": {},
   "outputs": [],
   "source": []
  },
  {
   "cell_type": "code",
   "execution_count": null,
   "metadata": {},
   "outputs": [],
   "source": []
  },
  {
   "cell_type": "code",
   "execution_count": null,
   "metadata": {},
   "outputs": [],
   "source": []
  },
  {
   "cell_type": "code",
   "execution_count": 9,
   "metadata": {},
   "outputs": [
    {
     "data": {
      "text/html": [
       "<div>\n",
       "<style scoped>\n",
       "    .dataframe tbody tr th:only-of-type {\n",
       "        vertical-align: middle;\n",
       "    }\n",
       "\n",
       "    .dataframe tbody tr th {\n",
       "        vertical-align: top;\n",
       "    }\n",
       "\n",
       "    .dataframe thead th {\n",
       "        text-align: right;\n",
       "    }\n",
       "</style>\n",
       "<table border=\"1\" class=\"dataframe\">\n",
       "  <thead>\n",
       "    <tr style=\"text-align: right;\">\n",
       "      <th>Agency</th>\n",
       "      <th>DOP</th>\n",
       "      <th>DOT</th>\n",
       "      <th>NYPD</th>\n",
       "    </tr>\n",
       "    <tr>\n",
       "      <th>Complaint Type</th>\n",
       "      <th></th>\n",
       "      <th></th>\n",
       "      <th></th>\n",
       "    </tr>\n",
       "  </thead>\n",
       "  <tbody>\n",
       "    <tr>\n",
       "      <th>Agency Issues</th>\n",
       "      <td>0</td>\n",
       "      <td>20</td>\n",
       "      <td>0</td>\n",
       "    </tr>\n",
       "    <tr>\n",
       "      <th>Animal Abuse</th>\n",
       "      <td>0</td>\n",
       "      <td>0</td>\n",
       "      <td>164</td>\n",
       "    </tr>\n",
       "    <tr>\n",
       "      <th>Bike Rack Condition</th>\n",
       "      <td>0</td>\n",
       "      <td>7</td>\n",
       "      <td>0</td>\n",
       "    </tr>\n",
       "    <tr>\n",
       "      <th>Bike/Roller/Skate Chronic</th>\n",
       "      <td>0</td>\n",
       "      <td>0</td>\n",
       "      <td>32</td>\n",
       "    </tr>\n",
       "    <tr>\n",
       "      <th>Blocked Driveway</th>\n",
       "      <td>0</td>\n",
       "      <td>0</td>\n",
       "      <td>4590</td>\n",
       "    </tr>\n",
       "    <tr>\n",
       "      <th>Bridge Condition</th>\n",
       "      <td>0</td>\n",
       "      <td>20</td>\n",
       "      <td>0</td>\n",
       "    </tr>\n",
       "    <tr>\n",
       "      <th>Broken Muni Meter</th>\n",
       "      <td>0</td>\n",
       "      <td>2070</td>\n",
       "      <td>0</td>\n",
       "    </tr>\n",
       "    <tr>\n",
       "      <th>Bus Stop Shelter Placement</th>\n",
       "      <td>0</td>\n",
       "      <td>14</td>\n",
       "      <td>0</td>\n",
       "    </tr>\n",
       "    <tr>\n",
       "      <th>Compliment</th>\n",
       "      <td>0</td>\n",
       "      <td>1</td>\n",
       "      <td>0</td>\n",
       "    </tr>\n",
       "    <tr>\n",
       "      <th>Curb Condition</th>\n",
       "      <td>0</td>\n",
       "      <td>66</td>\n",
       "      <td>0</td>\n",
       "    </tr>\n",
       "    <tr>\n",
       "      <th>DOT Literature Request</th>\n",
       "      <td>0</td>\n",
       "      <td>123</td>\n",
       "      <td>0</td>\n",
       "    </tr>\n",
       "    <tr>\n",
       "      <th>Derelict Vehicle</th>\n",
       "      <td>0</td>\n",
       "      <td>0</td>\n",
       "      <td>803</td>\n",
       "    </tr>\n",
       "    <tr>\n",
       "      <th>Disorderly Youth</th>\n",
       "      <td>0</td>\n",
       "      <td>0</td>\n",
       "      <td>26</td>\n",
       "    </tr>\n",
       "    <tr>\n",
       "      <th>Drinking</th>\n",
       "      <td>0</td>\n",
       "      <td>0</td>\n",
       "      <td>83</td>\n",
       "    </tr>\n",
       "    <tr>\n",
       "      <th>Ferry Complaint</th>\n",
       "      <td>0</td>\n",
       "      <td>4</td>\n",
       "      <td>0</td>\n",
       "    </tr>\n",
       "    <tr>\n",
       "      <th>Ferry Inquiry</th>\n",
       "      <td>0</td>\n",
       "      <td>32</td>\n",
       "      <td>0</td>\n",
       "    </tr>\n",
       "    <tr>\n",
       "      <th>Ferry Permit</th>\n",
       "      <td>0</td>\n",
       "      <td>1</td>\n",
       "      <td>0</td>\n",
       "    </tr>\n",
       "    <tr>\n",
       "      <th>Graffiti</th>\n",
       "      <td>0</td>\n",
       "      <td>0</td>\n",
       "      <td>13</td>\n",
       "    </tr>\n",
       "    <tr>\n",
       "      <th>Highway Condition</th>\n",
       "      <td>0</td>\n",
       "      <td>130</td>\n",
       "      <td>0</td>\n",
       "    </tr>\n",
       "    <tr>\n",
       "      <th>Highway Sign - Damaged</th>\n",
       "      <td>0</td>\n",
       "      <td>1</td>\n",
       "      <td>0</td>\n",
       "    </tr>\n",
       "    <tr>\n",
       "      <th>Homeless Encampment</th>\n",
       "      <td>0</td>\n",
       "      <td>0</td>\n",
       "      <td>269</td>\n",
       "    </tr>\n",
       "    <tr>\n",
       "      <th>Illegal Fireworks</th>\n",
       "      <td>0</td>\n",
       "      <td>0</td>\n",
       "      <td>3</td>\n",
       "    </tr>\n",
       "    <tr>\n",
       "      <th>Illegal Parking</th>\n",
       "      <td>0</td>\n",
       "      <td>0</td>\n",
       "      <td>3343</td>\n",
       "    </tr>\n",
       "    <tr>\n",
       "      <th>Invitation</th>\n",
       "      <td>1</td>\n",
       "      <td>0</td>\n",
       "      <td>0</td>\n",
       "    </tr>\n",
       "    <tr>\n",
       "      <th>Municipal Parking Facility</th>\n",
       "      <td>0</td>\n",
       "      <td>1</td>\n",
       "      <td>0</td>\n",
       "    </tr>\n",
       "    <tr>\n",
       "      <th>Noise - Commercial</th>\n",
       "      <td>0</td>\n",
       "      <td>0</td>\n",
       "      <td>2578</td>\n",
       "    </tr>\n",
       "    <tr>\n",
       "      <th>Noise - House of Worship</th>\n",
       "      <td>0</td>\n",
       "      <td>0</td>\n",
       "      <td>67</td>\n",
       "    </tr>\n",
       "    <tr>\n",
       "      <th>Noise - Park</th>\n",
       "      <td>0</td>\n",
       "      <td>0</td>\n",
       "      <td>191</td>\n",
       "    </tr>\n",
       "    <tr>\n",
       "      <th>Noise - Street/Sidewalk</th>\n",
       "      <td>0</td>\n",
       "      <td>0</td>\n",
       "      <td>1928</td>\n",
       "    </tr>\n",
       "    <tr>\n",
       "      <th>Noise - Vehicle</th>\n",
       "      <td>0</td>\n",
       "      <td>0</td>\n",
       "      <td>750</td>\n",
       "    </tr>\n",
       "    <tr>\n",
       "      <th>Panhandling</th>\n",
       "      <td>0</td>\n",
       "      <td>0</td>\n",
       "      <td>23</td>\n",
       "    </tr>\n",
       "    <tr>\n",
       "      <th>Parking Card</th>\n",
       "      <td>0</td>\n",
       "      <td>8</td>\n",
       "      <td>0</td>\n",
       "    </tr>\n",
       "    <tr>\n",
       "      <th>Posting Advertisement</th>\n",
       "      <td>0</td>\n",
       "      <td>0</td>\n",
       "      <td>5</td>\n",
       "    </tr>\n",
       "    <tr>\n",
       "      <th>Public Toilet</th>\n",
       "      <td>0</td>\n",
       "      <td>6</td>\n",
       "      <td>0</td>\n",
       "    </tr>\n",
       "    <tr>\n",
       "      <th>Request for Information</th>\n",
       "      <td>1</td>\n",
       "      <td>0</td>\n",
       "      <td>0</td>\n",
       "    </tr>\n",
       "    <tr>\n",
       "      <th>Sidewalk Condition</th>\n",
       "      <td>0</td>\n",
       "      <td>339</td>\n",
       "      <td>0</td>\n",
       "    </tr>\n",
       "    <tr>\n",
       "      <th>Street Condition</th>\n",
       "      <td>0</td>\n",
       "      <td>3473</td>\n",
       "      <td>0</td>\n",
       "    </tr>\n",
       "    <tr>\n",
       "      <th>Street Light Condition</th>\n",
       "      <td>0</td>\n",
       "      <td>7117</td>\n",
       "      <td>0</td>\n",
       "    </tr>\n",
       "    <tr>\n",
       "      <th>Street Sign - Damaged</th>\n",
       "      <td>0</td>\n",
       "      <td>691</td>\n",
       "      <td>0</td>\n",
       "    </tr>\n",
       "    <tr>\n",
       "      <th>Street Sign - Dangling</th>\n",
       "      <td>0</td>\n",
       "      <td>110</td>\n",
       "      <td>0</td>\n",
       "    </tr>\n",
       "    <tr>\n",
       "      <th>Street Sign - Missing</th>\n",
       "      <td>0</td>\n",
       "      <td>327</td>\n",
       "      <td>0</td>\n",
       "    </tr>\n",
       "    <tr>\n",
       "      <th>Traffic</th>\n",
       "      <td>0</td>\n",
       "      <td>0</td>\n",
       "      <td>168</td>\n",
       "    </tr>\n",
       "    <tr>\n",
       "      <th>Traffic Signal Condition</th>\n",
       "      <td>0</td>\n",
       "      <td>3145</td>\n",
       "      <td>0</td>\n",
       "    </tr>\n",
       "    <tr>\n",
       "      <th>Tunnel Condition</th>\n",
       "      <td>0</td>\n",
       "      <td>1</td>\n",
       "      <td>0</td>\n",
       "    </tr>\n",
       "    <tr>\n",
       "      <th>Urinating in Public</th>\n",
       "      <td>0</td>\n",
       "      <td>0</td>\n",
       "      <td>30</td>\n",
       "    </tr>\n",
       "    <tr>\n",
       "      <th>Vending</th>\n",
       "      <td>0</td>\n",
       "      <td>0</td>\n",
       "      <td>229</td>\n",
       "    </tr>\n",
       "  </tbody>\n",
       "</table>\n",
       "</div>"
      ],
      "text/plain": [
       "Agency                      DOP   DOT  NYPD\n",
       "Complaint Type                             \n",
       "Agency Issues                 0    20     0\n",
       "Animal Abuse                  0     0   164\n",
       "Bike Rack Condition           0     7     0\n",
       "Bike/Roller/Skate Chronic     0     0    32\n",
       "Blocked Driveway              0     0  4590\n",
       "Bridge Condition              0    20     0\n",
       "Broken Muni Meter             0  2070     0\n",
       "Bus Stop Shelter Placement    0    14     0\n",
       "Compliment                    0     1     0\n",
       "Curb Condition                0    66     0\n",
       "DOT Literature Request        0   123     0\n",
       "Derelict Vehicle              0     0   803\n",
       "Disorderly Youth              0     0    26\n",
       "Drinking                      0     0    83\n",
       "Ferry Complaint               0     4     0\n",
       "Ferry Inquiry                 0    32     0\n",
       "Ferry Permit                  0     1     0\n",
       "Graffiti                      0     0    13\n",
       "Highway Condition             0   130     0\n",
       "Highway Sign - Damaged        0     1     0\n",
       "Homeless Encampment           0     0   269\n",
       "Illegal Fireworks             0     0     3\n",
       "Illegal Parking               0     0  3343\n",
       "Invitation                    1     0     0\n",
       "Municipal Parking Facility    0     1     0\n",
       "Noise - Commercial            0     0  2578\n",
       "Noise - House of Worship      0     0    67\n",
       "Noise - Park                  0     0   191\n",
       "Noise - Street/Sidewalk       0     0  1928\n",
       "Noise - Vehicle               0     0   750\n",
       "Panhandling                   0     0    23\n",
       "Parking Card                  0     8     0\n",
       "Posting Advertisement         0     0     5\n",
       "Public Toilet                 0     6     0\n",
       "Request for Information       1     0     0\n",
       "Sidewalk Condition            0   339     0\n",
       "Street Condition              0  3473     0\n",
       "Street Light Condition        0  7117     0\n",
       "Street Sign - Damaged         0   691     0\n",
       "Street Sign - Dangling        0   110     0\n",
       "Street Sign - Missing         0   327     0\n",
       "Traffic                       0     0   168\n",
       "Traffic Signal Condition      0  3145     0\n",
       "Tunnel Condition              0     1     0\n",
       "Urinating in Public           0     0    30\n",
       "Vending                       0     0   229"
      ]
     },
     "execution_count": 9,
     "metadata": {},
     "output_type": "execute_result"
    }
   ],
   "source": [
    "three = ['DOT', \"DOP\", 'NYPD']\n",
    "pt00 = complaints[complaints.Agency.isin(three)]\n",
    "pd.crosstab(pt00['Complaint Type'], pt00['Agency'])"
   ]
  },
  {
   "cell_type": "markdown",
   "metadata": {},
   "source": [
    "##  Display:  Styling the DataFrames"
   ]
  },
  {
   "cell_type": "markdown",
   "metadata": {},
   "source": [
    "Huge subject.  For a few quick illustrations, let's trim down the data and throw away the \"other\" row:"
   ]
  },
  {
   "cell_type": "code",
   "execution_count": 10,
   "metadata": {
    "scrolled": false
   },
   "outputs": [
    {
     "data": {
      "text/html": [
       "<div>\n",
       "<style scoped>\n",
       "    .dataframe tbody tr th:only-of-type {\n",
       "        vertical-align: middle;\n",
       "    }\n",
       "\n",
       "    .dataframe tbody tr th {\n",
       "        vertical-align: top;\n",
       "    }\n",
       "\n",
       "    .dataframe thead th {\n",
       "        text-align: right;\n",
       "    }\n",
       "</style>\n",
       "<table border=\"1\" class=\"dataframe\">\n",
       "  <thead>\n",
       "    <tr style=\"text-align: right;\">\n",
       "      <th>Agency</th>\n",
       "      <th>3-1-1</th>\n",
       "      <th>CHALL</th>\n",
       "      <th>COIB</th>\n",
       "      <th>DCA</th>\n",
       "      <th>DEP</th>\n",
       "      <th>DFTA</th>\n",
       "      <th>DHS</th>\n",
       "      <th>DOB</th>\n",
       "      <th>DOE</th>\n",
       "      <th>DOF</th>\n",
       "      <th>...</th>\n",
       "      <th>EDC</th>\n",
       "      <th>FDNY</th>\n",
       "      <th>HPD</th>\n",
       "      <th>HRA</th>\n",
       "      <th>NYPD</th>\n",
       "      <th>OATH</th>\n",
       "      <th>OEM</th>\n",
       "      <th>OMB</th>\n",
       "      <th>OPS</th>\n",
       "      <th>TLC</th>\n",
       "    </tr>\n",
       "    <tr>\n",
       "      <th>Borough</th>\n",
       "      <th></th>\n",
       "      <th></th>\n",
       "      <th></th>\n",
       "      <th></th>\n",
       "      <th></th>\n",
       "      <th></th>\n",
       "      <th></th>\n",
       "      <th></th>\n",
       "      <th></th>\n",
       "      <th></th>\n",
       "      <th></th>\n",
       "      <th></th>\n",
       "      <th></th>\n",
       "      <th></th>\n",
       "      <th></th>\n",
       "      <th></th>\n",
       "      <th></th>\n",
       "      <th></th>\n",
       "      <th></th>\n",
       "      <th></th>\n",
       "      <th></th>\n",
       "    </tr>\n",
       "  </thead>\n",
       "  <tbody>\n",
       "    <tr>\n",
       "      <th>BRONX</th>\n",
       "      <td>0</td>\n",
       "      <td>0</td>\n",
       "      <td>0</td>\n",
       "      <td>155</td>\n",
       "      <td>791</td>\n",
       "      <td>4</td>\n",
       "      <td>6</td>\n",
       "      <td>358</td>\n",
       "      <td>17</td>\n",
       "      <td>78</td>\n",
       "      <td>...</td>\n",
       "      <td>1</td>\n",
       "      <td>6</td>\n",
       "      <td>11493</td>\n",
       "      <td>0</td>\n",
       "      <td>1933</td>\n",
       "      <td>0</td>\n",
       "      <td>0</td>\n",
       "      <td>0</td>\n",
       "      <td>0</td>\n",
       "      <td>47</td>\n",
       "    </tr>\n",
       "    <tr>\n",
       "      <th>BROOKLYN</th>\n",
       "      <td>8</td>\n",
       "      <td>0</td>\n",
       "      <td>0</td>\n",
       "      <td>357</td>\n",
       "      <td>2069</td>\n",
       "      <td>5</td>\n",
       "      <td>31</td>\n",
       "      <td>775</td>\n",
       "      <td>26</td>\n",
       "      <td>149</td>\n",
       "      <td>...</td>\n",
       "      <td>23</td>\n",
       "      <td>17</td>\n",
       "      <td>13871</td>\n",
       "      <td>0</td>\n",
       "      <td>4886</td>\n",
       "      <td>0</td>\n",
       "      <td>0</td>\n",
       "      <td>0</td>\n",
       "      <td>0</td>\n",
       "      <td>203</td>\n",
       "    </tr>\n",
       "    <tr>\n",
       "      <th>MANHATTAN</th>\n",
       "      <td>11</td>\n",
       "      <td>0</td>\n",
       "      <td>0</td>\n",
       "      <td>358</td>\n",
       "      <td>3419</td>\n",
       "      <td>3</td>\n",
       "      <td>54</td>\n",
       "      <td>477</td>\n",
       "      <td>24</td>\n",
       "      <td>215</td>\n",
       "      <td>...</td>\n",
       "      <td>66</td>\n",
       "      <td>517</td>\n",
       "      <td>7866</td>\n",
       "      <td>0</td>\n",
       "      <td>3657</td>\n",
       "      <td>0</td>\n",
       "      <td>0</td>\n",
       "      <td>0</td>\n",
       "      <td>0</td>\n",
       "      <td>937</td>\n",
       "    </tr>\n",
       "    <tr>\n",
       "      <th>QUEENS</th>\n",
       "      <td>12</td>\n",
       "      <td>0</td>\n",
       "      <td>0</td>\n",
       "      <td>284</td>\n",
       "      <td>1916</td>\n",
       "      <td>3</td>\n",
       "      <td>8</td>\n",
       "      <td>1257</td>\n",
       "      <td>15</td>\n",
       "      <td>116</td>\n",
       "      <td>...</td>\n",
       "      <td>9</td>\n",
       "      <td>52</td>\n",
       "      <td>4986</td>\n",
       "      <td>0</td>\n",
       "      <td>4154</td>\n",
       "      <td>0</td>\n",
       "      <td>0</td>\n",
       "      <td>0</td>\n",
       "      <td>0</td>\n",
       "      <td>188</td>\n",
       "    </tr>\n",
       "    <tr>\n",
       "      <th>STATEN ISLAND</th>\n",
       "      <td>1</td>\n",
       "      <td>0</td>\n",
       "      <td>0</td>\n",
       "      <td>36</td>\n",
       "      <td>690</td>\n",
       "      <td>0</td>\n",
       "      <td>0</td>\n",
       "      <td>147</td>\n",
       "      <td>7</td>\n",
       "      <td>6</td>\n",
       "      <td>...</td>\n",
       "      <td>0</td>\n",
       "      <td>10</td>\n",
       "      <td>851</td>\n",
       "      <td>0</td>\n",
       "      <td>663</td>\n",
       "      <td>0</td>\n",
       "      <td>0</td>\n",
       "      <td>0</td>\n",
       "      <td>0</td>\n",
       "      <td>11</td>\n",
       "    </tr>\n",
       "  </tbody>\n",
       "</table>\n",
       "<p>5 rows × 26 columns</p>\n",
       "</div>"
      ],
      "text/plain": [
       "Agency         3-1-1  CHALL  COIB  DCA   DEP  DFTA  DHS   DOB  DOE  DOF  ...  \\\n",
       "Borough                                                                  ...   \n",
       "BRONX              0      0     0  155   791     4    6   358   17   78  ...   \n",
       "BROOKLYN           8      0     0  357  2069     5   31   775   26  149  ...   \n",
       "MANHATTAN         11      0     0  358  3419     3   54   477   24  215  ...   \n",
       "QUEENS            12      0     0  284  1916     3    8  1257   15  116  ...   \n",
       "STATEN ISLAND      1      0     0   36   690     0    0   147    7    6  ...   \n",
       "\n",
       "Agency         EDC  FDNY    HPD  HRA  NYPD  OATH  OEM  OMB  OPS  TLC  \n",
       "Borough                                                               \n",
       "BRONX            1     6  11493    0  1933     0    0    0    0   47  \n",
       "BROOKLYN        23    17  13871    0  4886     0    0    0    0  203  \n",
       "MANHATTAN       66   517   7866    0  3657     0    0    0    0  937  \n",
       "QUEENS           9    52   4986    0  4154     0    0    0    0  188  \n",
       "STATEN ISLAND    0    10    851    0   663     0    0    0    0   11  \n",
       "\n",
       "[5 rows x 26 columns]"
      ]
     },
     "execution_count": 10,
     "metadata": {},
     "output_type": "execute_result"
    }
   ],
   "source": [
    "ct_agency_borough = pd.crosstab(complaints['Agency'],complaints['Borough'],margins=False).T.iloc[:-1,:]\n",
    "ct_agency_borough"
   ]
  },
  {
   "cell_type": "markdown",
   "metadata": {},
   "source": [
    "Displaying the data with background gradients, using a color map (HPD is\n",
    "Housing Preservation and Development)"
   ]
  },
  {
   "cell_type": "code",
   "execution_count": 11,
   "metadata": {
    "scrolled": true
   },
   "outputs": [
    {
     "data": {
      "text/html": [
       "<style type=\"text/css\">\n",
       "#T_796ee_row0_col0 {\n",
       "  background-color: #9ebeff;\n",
       "  color: #000000;\n",
       "}\n",
       "#T_796ee_row0_col1 {\n",
       "  background-color: #fc997a;\n",
       "  color: #000000;\n",
       "}\n",
       "#T_796ee_row0_col2 {\n",
       "  background-color: #e78c00;\n",
       "  color: #f1f1f1;\n",
       "}\n",
       "#T_796ee_row1_col0 {\n",
       "  background-color: #b40426;\n",
       "  color: #f1f1f1;\n",
       "}\n",
       "#T_796ee_row1_col1 {\n",
       "  background-color: #67000d;\n",
       "  color: #f1f1f1;\n",
       "}\n",
       "#T_796ee_row1_col2 {\n",
       "  background-color: #ffff00;\n",
       "  color: #000000;\n",
       "}\n",
       "#T_796ee_row2_col0 {\n",
       "  background-color: #f7a98b;\n",
       "  color: #000000;\n",
       "}\n",
       "#T_796ee_row2_col1 {\n",
       "  background-color: #d11e1f;\n",
       "  color: #f1f1f1;\n",
       "}\n",
       "#T_796ee_row2_col2 {\n",
       "  background-color: #bb2800;\n",
       "  color: #f1f1f1;\n",
       "}\n",
       "#T_796ee_row3_col0 {\n",
       "  background-color: #e9785d;\n",
       "  color: #f1f1f1;\n",
       "}\n",
       "#T_796ee_row3_col1 {\n",
       "  background-color: #d21f20;\n",
       "  color: #f1f1f1;\n",
       "}\n",
       "#T_796ee_row3_col2 {\n",
       "  background-color: #9008e8;\n",
       "  color: #f1f1f1;\n",
       "}\n",
       "#T_796ee_row4_col0 {\n",
       "  background-color: #3b4cc0;\n",
       "  color: #f1f1f1;\n",
       "}\n",
       "#T_796ee_row4_col1 {\n",
       "  background-color: #fff5f0;\n",
       "  color: #000000;\n",
       "}\n",
       "#T_796ee_row4_col2 {\n",
       "  background-color: #000000;\n",
       "  color: #f1f1f1;\n",
       "}\n",
       "</style>\n",
       "<table id=\"T_796ee\">\n",
       "  <thead>\n",
       "    <tr>\n",
       "      <th class=\"index_name level0\" >Agency</th>\n",
       "      <th id=\"T_796ee_level0_col0\" class=\"col_heading level0 col0\" >NYPD</th>\n",
       "      <th id=\"T_796ee_level0_col1\" class=\"col_heading level0 col1\" >DOT</th>\n",
       "      <th id=\"T_796ee_level0_col2\" class=\"col_heading level0 col2\" >HPD</th>\n",
       "    </tr>\n",
       "    <tr>\n",
       "      <th class=\"index_name level0\" >Borough</th>\n",
       "      <th class=\"blank col0\" >&nbsp;</th>\n",
       "      <th class=\"blank col1\" >&nbsp;</th>\n",
       "      <th class=\"blank col2\" >&nbsp;</th>\n",
       "    </tr>\n",
       "  </thead>\n",
       "  <tbody>\n",
       "    <tr>\n",
       "      <th id=\"T_796ee_level0_row0\" class=\"row_heading level0 row0\" >BRONX</th>\n",
       "      <td id=\"T_796ee_row0_col0\" class=\"data row0 col0\" >1933</td>\n",
       "      <td id=\"T_796ee_row0_col1\" class=\"data row0 col1\" >2605</td>\n",
       "      <td id=\"T_796ee_row0_col2\" class=\"data row0 col2\" >11493</td>\n",
       "    </tr>\n",
       "    <tr>\n",
       "      <th id=\"T_796ee_level0_row1\" class=\"row_heading level0 row1\" >BROOKLYN</th>\n",
       "      <td id=\"T_796ee_row1_col0\" class=\"data row1 col0\" >4886</td>\n",
       "      <td id=\"T_796ee_row1_col1\" class=\"data row1 col1\" >5313</td>\n",
       "      <td id=\"T_796ee_row1_col2\" class=\"data row1 col2\" >13871</td>\n",
       "    </tr>\n",
       "    <tr>\n",
       "      <th id=\"T_796ee_level0_row2\" class=\"row_heading level0 row2\" >MANHATTAN</th>\n",
       "      <td id=\"T_796ee_row2_col0\" class=\"data row2 col0\" >3657</td>\n",
       "      <td id=\"T_796ee_row2_col1\" class=\"data row2 col1\" >4182</td>\n",
       "      <td id=\"T_796ee_row2_col2\" class=\"data row2 col2\" >7866</td>\n",
       "    </tr>\n",
       "    <tr>\n",
       "      <th id=\"T_796ee_level0_row3\" class=\"row_heading level0 row3\" >QUEENS</th>\n",
       "      <td id=\"T_796ee_row3_col0\" class=\"data row3 col0\" >4154</td>\n",
       "      <td id=\"T_796ee_row3_col1\" class=\"data row3 col1\" >4164</td>\n",
       "      <td id=\"T_796ee_row3_col2\" class=\"data row3 col2\" >4986</td>\n",
       "    </tr>\n",
       "    <tr>\n",
       "      <th id=\"T_796ee_level0_row4\" class=\"row_heading level0 row4\" >STATEN ISLAND</th>\n",
       "      <td id=\"T_796ee_row4_col0\" class=\"data row4 col0\" >663</td>\n",
       "      <td id=\"T_796ee_row4_col1\" class=\"data row4 col1\" >1123</td>\n",
       "      <td id=\"T_796ee_row4_col2\" class=\"data row4 col2\" >851</td>\n",
       "    </tr>\n",
       "  </tbody>\n",
       "</table>\n"
      ],
      "text/plain": [
       "<pandas.io.formats.style.Styler at 0x7fe2a941b3a0>"
      ]
     },
     "execution_count": 11,
     "metadata": {},
     "output_type": "execute_result"
    }
   ],
   "source": [
    "ct_agency_borough[[\"NYPD\",\"DOT\",\"HPD\"]].style.background_gradient(\n",
    "    subset=[\"DOT\"], cmap=\"Reds\"\n",
    ").background_gradient(\n",
    "    subset=[\"NYPD\"], cmap=\"coolwarm\"\n",
    ").background_gradient(\n",
    "    subset=[\"HPD\"], cmap=\"gnuplot\"\n",
    ")"
   ]
  },
  {
   "cell_type": "markdown",
   "metadata": {},
   "source": [
    "The gnuplot colormap applied to the range of values in the HPD column:"
   ]
  },
  {
   "cell_type": "code",
   "execution_count": 12,
   "metadata": {},
   "outputs": [
    {
     "data": {
      "text/plain": [
       "<matplotlib.colorbar.Colorbar at 0x7fe2d915b010>"
      ]
     },
     "execution_count": 12,
     "metadata": {},
     "output_type": "execute_result"
    },
    {
     "data": {
      "image/png": "[encoded data removed]",
      "text/plain": [
       "<Figure size 600x100 with 1 Axes>"
      ]
     },
     "metadata": {},
     "output_type": "display_data"
    }
   ],
   "source": [
    "import matplotlib.pyplot as plt\n",
    "import matplotlib as mpl\n",
    "\n",
    "fig, ax = plt.subplots(figsize=(6, 1))\n",
    "fig.subplots_adjust(bottom=0.5)\n",
    "\n",
    "#cmap = mpl.cm.cool\n",
    "cmap=mpl.cm.gnuplot\n",
    "norm = mpl.colors.Normalize(vmin=800, vmax=1400)\n",
    "\n",
    "fig.colorbar(mpl.cm.ScalarMappable(norm=norm, cmap=cmap),\n",
    "             cax=ax, orientation='horizontal', label='Some Units')\n",
    "\n",
    "#Dark-Violet-Magenta-DarkOrange-Golden-Yellow"
   ]
  },
  {
   "cell_type": "markdown",
   "metadata": {},
   "source": [
    "Of course it makes much more sense to use one colormap with\n",
    "a uniform quantitative meaning, and that may well\n",
    "tell an important cross-attribute story:"
   ]
  },
  {
   "cell_type": "code",
   "execution_count": 13,
   "metadata": {},
   "outputs": [
    {
     "data": {
      "text/html": [
       "<style type=\"text/css\">\n",
       "#T_70fc1_row0_col0 {\n",
       "  background-color: #9ebeff;\n",
       "  color: #000000;\n",
       "}\n",
       "#T_70fc1_row0_col1 {\n",
       "  background-color: #b1cbfc;\n",
       "  color: #000000;\n",
       "}\n",
       "#T_70fc1_row0_col2 {\n",
       "  background-color: #ea7b60;\n",
       "  color: #f1f1f1;\n",
       "}\n",
       "#T_70fc1_row1_col0, #T_70fc1_row1_col1, #T_70fc1_row1_col2 {\n",
       "  background-color: #b40426;\n",
       "  color: #f1f1f1;\n",
       "}\n",
       "#T_70fc1_row2_col0 {\n",
       "  background-color: #f7a98b;\n",
       "  color: #000000;\n",
       "}\n",
       "#T_70fc1_row2_col1 {\n",
       "  background-color: #f6a283;\n",
       "  color: #000000;\n",
       "}\n",
       "#T_70fc1_row2_col2 {\n",
       "  background-color: #e6d7cf;\n",
       "  color: #000000;\n",
       "}\n",
       "#T_70fc1_row3_col0 {\n",
       "  background-color: #e9785d;\n",
       "  color: #f1f1f1;\n",
       "}\n",
       "#T_70fc1_row3_col1 {\n",
       "  background-color: #f6a385;\n",
       "  color: #000000;\n",
       "}\n",
       "#T_70fc1_row3_col2 {\n",
       "  background-color: #a5c3fe;\n",
       "  color: #000000;\n",
       "}\n",
       "#T_70fc1_row4_col0, #T_70fc1_row4_col1, #T_70fc1_row4_col2 {\n",
       "  background-color: #3b4cc0;\n",
       "  color: #f1f1f1;\n",
       "}\n",
       "</style>\n",
       "<table id=\"T_70fc1\">\n",
       "  <thead>\n",
       "    <tr>\n",
       "      <th class=\"index_name level0\" >Agency</th>\n",
       "      <th id=\"T_70fc1_level0_col0\" class=\"col_heading level0 col0\" >NYPD</th>\n",
       "      <th id=\"T_70fc1_level0_col1\" class=\"col_heading level0 col1\" >DOT</th>\n",
       "      <th id=\"T_70fc1_level0_col2\" class=\"col_heading level0 col2\" >HPD</th>\n",
       "    </tr>\n",
       "    <tr>\n",
       "      <th class=\"index_name level0\" >Borough</th>\n",
       "      <th class=\"blank col0\" >&nbsp;</th>\n",
       "      <th class=\"blank col1\" >&nbsp;</th>\n",
       "      <th class=\"blank col2\" >&nbsp;</th>\n",
       "    </tr>\n",
       "  </thead>\n",
       "  <tbody>\n",
       "    <tr>\n",
       "      <th id=\"T_70fc1_level0_row0\" class=\"row_heading level0 row0\" >BRONX</th>\n",
       "      <td id=\"T_70fc1_row0_col0\" class=\"data row0 col0\" >1933</td>\n",
       "      <td id=\"T_70fc1_row0_col1\" class=\"data row0 col1\" >2605</td>\n",
       "      <td id=\"T_70fc1_row0_col2\" class=\"data row0 col2\" >11493</td>\n",
       "    </tr>\n",
       "    <tr>\n",
       "      <th id=\"T_70fc1_level0_row1\" class=\"row_heading level0 row1\" >BROOKLYN</th>\n",
       "      <td id=\"T_70fc1_row1_col0\" class=\"data row1 col0\" >4886</td>\n",
       "      <td id=\"T_70fc1_row1_col1\" class=\"data row1 col1\" >5313</td>\n",
       "      <td id=\"T_70fc1_row1_col2\" class=\"data row1 col2\" >13871</td>\n",
       "    </tr>\n",
       "    <tr>\n",
       "      <th id=\"T_70fc1_level0_row2\" class=\"row_heading level0 row2\" >MANHATTAN</th>\n",
       "      <td id=\"T_70fc1_row2_col0\" class=\"data row2 col0\" >3657</td>\n",
       "      <td id=\"T_70fc1_row2_col1\" class=\"data row2 col1\" >4182</td>\n",
       "      <td id=\"T_70fc1_row2_col2\" class=\"data row2 col2\" >7866</td>\n",
       "    </tr>\n",
       "    <tr>\n",
       "      <th id=\"T_70fc1_level0_row3\" class=\"row_heading level0 row3\" >QUEENS</th>\n",
       "      <td id=\"T_70fc1_row3_col0\" class=\"data row3 col0\" >4154</td>\n",
       "      <td id=\"T_70fc1_row3_col1\" class=\"data row3 col1\" >4164</td>\n",
       "      <td id=\"T_70fc1_row3_col2\" class=\"data row3 col2\" >4986</td>\n",
       "    </tr>\n",
       "    <tr>\n",
       "      <th id=\"T_70fc1_level0_row4\" class=\"row_heading level0 row4\" >STATEN ISLAND</th>\n",
       "      <td id=\"T_70fc1_row4_col0\" class=\"data row4 col0\" >663</td>\n",
       "      <td id=\"T_70fc1_row4_col1\" class=\"data row4 col1\" >1123</td>\n",
       "      <td id=\"T_70fc1_row4_col2\" class=\"data row4 col2\" >851</td>\n",
       "    </tr>\n",
       "  </tbody>\n",
       "</table>\n"
      ],
      "text/plain": [
       "<pandas.io.formats.style.Styler at 0x7fe2d91c1a50>"
      ]
     },
     "execution_count": 13,
     "metadata": {},
     "output_type": "execute_result"
    }
   ],
   "source": [
    "ct_agency_borough[[\"NYPD\",\"DOT\",\"HPD\"]].style.background_gradient(\n",
    "    subset=[\"NYPD\",\"DOT\",\"HPD\"], cmap=\"coolwarm\")"
   ]
  },
  {
   "cell_type": "markdown",
   "metadata": {},
   "source": [
    "Expanding the view by one column:"
   ]
  },
  {
   "cell_type": "code",
   "execution_count": 14,
   "metadata": {},
   "outputs": [
    {
     "data": {
      "text/html": [
       "<style type=\"text/css\">\n",
       "#T_53b92_row0_col0 {\n",
       "  background-color: #9ebeff;\n",
       "  color: #000000;\n",
       "}\n",
       "#T_53b92_row0_col1 {\n",
       "  background-color: #b1cbfc;\n",
       "  color: #000000;\n",
       "}\n",
       "#T_53b92_row0_col2 {\n",
       "  background-color: #ea7b60;\n",
       "  color: #f1f1f1;\n",
       "}\n",
       "#T_53b92_row0_col3 {\n",
       "  background-color: #aec9fc;\n",
       "  color: #000000;\n",
       "}\n",
       "#T_53b92_row1_col0, #T_53b92_row1_col1, #T_53b92_row1_col2, #T_53b92_row2_col3 {\n",
       "  background-color: #b40426;\n",
       "  color: #f1f1f1;\n",
       "}\n",
       "#T_53b92_row1_col3 {\n",
       "  background-color: #f7b194;\n",
       "  color: #000000;\n",
       "}\n",
       "#T_53b92_row2_col0 {\n",
       "  background-color: #f7a98b;\n",
       "  color: #000000;\n",
       "}\n",
       "#T_53b92_row2_col1 {\n",
       "  background-color: #f6a283;\n",
       "  color: #000000;\n",
       "}\n",
       "#T_53b92_row2_col2 {\n",
       "  background-color: #e6d7cf;\n",
       "  color: #000000;\n",
       "}\n",
       "#T_53b92_row3_col0 {\n",
       "  background-color: #e9785d;\n",
       "  color: #f1f1f1;\n",
       "}\n",
       "#T_53b92_row3_col1 {\n",
       "  background-color: #f6a385;\n",
       "  color: #000000;\n",
       "}\n",
       "#T_53b92_row3_col2 {\n",
       "  background-color: #a5c3fe;\n",
       "  color: #000000;\n",
       "}\n",
       "#T_53b92_row3_col3 {\n",
       "  background-color: #e3d9d3;\n",
       "  color: #000000;\n",
       "}\n",
       "#T_53b92_row4_col0, #T_53b92_row4_col1, #T_53b92_row4_col2, #T_53b92_row4_col3 {\n",
       "  background-color: #3b4cc0;\n",
       "  color: #f1f1f1;\n",
       "}\n",
       "</style>\n",
       "<table id=\"T_53b92\">\n",
       "  <thead>\n",
       "    <tr>\n",
       "      <th class=\"index_name level0\" >Agency</th>\n",
       "      <th id=\"T_53b92_level0_col0\" class=\"col_heading level0 col0\" >NYPD</th>\n",
       "      <th id=\"T_53b92_level0_col1\" class=\"col_heading level0 col1\" >DOT</th>\n",
       "      <th id=\"T_53b92_level0_col2\" class=\"col_heading level0 col2\" >HPD</th>\n",
       "      <th id=\"T_53b92_level0_col3\" class=\"col_heading level0 col3\" >DOF</th>\n",
       "    </tr>\n",
       "    <tr>\n",
       "      <th class=\"index_name level0\" >Borough</th>\n",
       "      <th class=\"blank col0\" >&nbsp;</th>\n",
       "      <th class=\"blank col1\" >&nbsp;</th>\n",
       "      <th class=\"blank col2\" >&nbsp;</th>\n",
       "      <th class=\"blank col3\" >&nbsp;</th>\n",
       "    </tr>\n",
       "  </thead>\n",
       "  <tbody>\n",
       "    <tr>\n",
       "      <th id=\"T_53b92_level0_row0\" class=\"row_heading level0 row0\" >BRONX</th>\n",
       "      <td id=\"T_53b92_row0_col0\" class=\"data row0 col0\" >1933</td>\n",
       "      <td id=\"T_53b92_row0_col1\" class=\"data row0 col1\" >2605</td>\n",
       "      <td id=\"T_53b92_row0_col2\" class=\"data row0 col2\" >11493</td>\n",
       "      <td id=\"T_53b92_row0_col3\" class=\"data row0 col3\" >78</td>\n",
       "    </tr>\n",
       "    <tr>\n",
       "      <th id=\"T_53b92_level0_row1\" class=\"row_heading level0 row1\" >BROOKLYN</th>\n",
       "      <td id=\"T_53b92_row1_col0\" class=\"data row1 col0\" >4886</td>\n",
       "      <td id=\"T_53b92_row1_col1\" class=\"data row1 col1\" >5313</td>\n",
       "      <td id=\"T_53b92_row1_col2\" class=\"data row1 col2\" >13871</td>\n",
       "      <td id=\"T_53b92_row1_col3\" class=\"data row1 col3\" >149</td>\n",
       "    </tr>\n",
       "    <tr>\n",
       "      <th id=\"T_53b92_level0_row2\" class=\"row_heading level0 row2\" >MANHATTAN</th>\n",
       "      <td id=\"T_53b92_row2_col0\" class=\"data row2 col0\" >3657</td>\n",
       "      <td id=\"T_53b92_row2_col1\" class=\"data row2 col1\" >4182</td>\n",
       "      <td id=\"T_53b92_row2_col2\" class=\"data row2 col2\" >7866</td>\n",
       "      <td id=\"T_53b92_row2_col3\" class=\"data row2 col3\" >215</td>\n",
       "    </tr>\n",
       "    <tr>\n",
       "      <th id=\"T_53b92_level0_row3\" class=\"row_heading level0 row3\" >QUEENS</th>\n",
       "      <td id=\"T_53b92_row3_col0\" class=\"data row3 col0\" >4154</td>\n",
       "      <td id=\"T_53b92_row3_col1\" class=\"data row3 col1\" >4164</td>\n",
       "      <td id=\"T_53b92_row3_col2\" class=\"data row3 col2\" >4986</td>\n",
       "      <td id=\"T_53b92_row3_col3\" class=\"data row3 col3\" >116</td>\n",
       "    </tr>\n",
       "    <tr>\n",
       "      <th id=\"T_53b92_level0_row4\" class=\"row_heading level0 row4\" >STATEN ISLAND</th>\n",
       "      <td id=\"T_53b92_row4_col0\" class=\"data row4 col0\" >663</td>\n",
       "      <td id=\"T_53b92_row4_col1\" class=\"data row4 col1\" >1123</td>\n",
       "      <td id=\"T_53b92_row4_col2\" class=\"data row4 col2\" >851</td>\n",
       "      <td id=\"T_53b92_row4_col3\" class=\"data row4 col3\" >6</td>\n",
       "    </tr>\n",
       "  </tbody>\n",
       "</table>\n"
      ],
      "text/plain": [
       "<pandas.io.formats.style.Styler at 0x7fe2d9238850>"
      ]
     },
     "execution_count": 14,
     "metadata": {},
     "output_type": "execute_result"
    }
   ],
   "source": [
    "ct_agency_borough[[\"NYPD\",\"DOT\",\"HPD\",\"DOF\"]].style.background_gradient(\n",
    "    subset=[\"DOT\",\"NYPD\",\"HPD\",\"DOF\"], cmap=\"coolwarm\"\n",
    ")"
   ]
  },
  {
   "cell_type": "markdown",
   "metadata": {},
   "source": [
    "Displaying a histogram of a column."
   ]
  },
  {
   "cell_type": "code",
   "execution_count": 15,
   "metadata": {},
   "outputs": [
    {
     "data": {
      "text/html": [
       "<style type=\"text/css\">\n",
       "#T_75917_row0_col0 {\n",
       "  width: 10em;\n",
       "  background: linear-gradient(90deg, dodgerblue 36.3%, transparent 36.3%);\n",
       "}\n",
       "#T_75917_row1_col0 {\n",
       "  width: 10em;\n",
       "  background: linear-gradient(90deg, dodgerblue 69.3%, transparent 69.3%);\n",
       "}\n",
       "#T_75917_row2_col0 {\n",
       "  width: 10em;\n",
       "  background: linear-gradient(90deg, dodgerblue 100.0%, transparent 100.0%);\n",
       "}\n",
       "#T_75917_row3_col0 {\n",
       "  width: 10em;\n",
       "  background: linear-gradient(90deg, dodgerblue 54.0%, transparent 54.0%);\n",
       "}\n",
       "#T_75917_row4_col0 {\n",
       "  width: 10em;\n",
       "  background: linear-gradient(90deg, dodgerblue 2.8%, transparent 2.8%);\n",
       "}\n",
       "</style>\n",
       "<table id=\"T_75917\">\n",
       "  <thead>\n",
       "    <tr>\n",
       "      <th class=\"index_name level0\" >Agency</th>\n",
       "      <th id=\"T_75917_level0_col0\" class=\"col_heading level0 col0\" >DOF</th>\n",
       "    </tr>\n",
       "    <tr>\n",
       "      <th class=\"index_name level0\" >Borough</th>\n",
       "      <th class=\"blank col0\" >&nbsp;</th>\n",
       "    </tr>\n",
       "  </thead>\n",
       "  <tbody>\n",
       "    <tr>\n",
       "      <th id=\"T_75917_level0_row0\" class=\"row_heading level0 row0\" >BRONX</th>\n",
       "      <td id=\"T_75917_row0_col0\" class=\"data row0 col0\" >78</td>\n",
       "    </tr>\n",
       "    <tr>\n",
       "      <th id=\"T_75917_level0_row1\" class=\"row_heading level0 row1\" >BROOKLYN</th>\n",
       "      <td id=\"T_75917_row1_col0\" class=\"data row1 col0\" >149</td>\n",
       "    </tr>\n",
       "    <tr>\n",
       "      <th id=\"T_75917_level0_row2\" class=\"row_heading level0 row2\" >MANHATTAN</th>\n",
       "      <td id=\"T_75917_row2_col0\" class=\"data row2 col0\" >215</td>\n",
       "    </tr>\n",
       "    <tr>\n",
       "      <th id=\"T_75917_level0_row3\" class=\"row_heading level0 row3\" >QUEENS</th>\n",
       "      <td id=\"T_75917_row3_col0\" class=\"data row3 col0\" >116</td>\n",
       "    </tr>\n",
       "    <tr>\n",
       "      <th id=\"T_75917_level0_row4\" class=\"row_heading level0 row4\" >STATEN ISLAND</th>\n",
       "      <td id=\"T_75917_row4_col0\" class=\"data row4 col0\" >6</td>\n",
       "    </tr>\n",
       "  </tbody>\n",
       "</table>\n"
      ],
      "text/plain": [
       "<pandas.io.formats.style.Styler at 0x7fe2d92390f0>"
      ]
     },
     "execution_count": 15,
     "metadata": {},
     "output_type": "execute_result"
    }
   ],
   "source": [
    "ct_agency_borough[[\"DOF\"]].style.bar(\n",
    "    subset=[\"DOF\"], color=\"dodgerblue\")"
   ]
  },
  {
   "cell_type": "markdown",
   "metadata": {
    "id": "Q4kaHDAAACaB"
   },
   "source": [
    "## Analysis: What's the most common complaint type?"
   ]
  },
  {
   "cell_type": "markdown",
   "metadata": {
    "id": "Pw1bqz4cACaB"
   },
   "source": [
    "First of all, this is a really easy question to answer! There's a `.value_counts()` method that we can use:"
   ]
  },
  {
   "cell_type": "code",
   "execution_count": 16,
   "metadata": {
    "id": "VPf8UXAHACaH",
    "outputId": "a82b60a1-bcfd-44b9-ea2d-673e8146b9d8"
   },
   "outputs": [
    {
     "data": {
      "text/plain": [
       "HEATING                           14200\n",
       "GENERAL CONSTRUCTION               7471\n",
       "Street Light Condition             7117\n",
       "DOF Literature Request             5797\n",
       "PLUMBING                           5373\n",
       "                                  ...  \n",
       "Municipal Parking Facility            1\n",
       "Tunnel Condition                      1\n",
       "DHS Income Savings Requirement        1\n",
       "Stalled Sites                         1\n",
       "X-Ray Machine/Equipment               1\n",
       "Name: Complaint Type, Length: 165, dtype: int64"
      ]
     },
     "execution_count": 16,
     "metadata": {},
     "output_type": "execute_result"
    }
   ],
   "source": [
    "complaint_counts = complaints['Complaint Type'].value_counts()\n",
    "complaint_counts"
   ]
  },
  {
   "cell_type": "code",
   "execution_count": 14,
   "metadata": {},
   "outputs": [
    {
     "data": {
      "text/plain": [
       "pandas.core.series.Series"
      ]
     },
     "execution_count": 14,
     "metadata": {},
     "output_type": "execute_result"
    }
   ],
   "source": [
    "type(complaint_counts)"
   ]
  },
  {
   "cell_type": "markdown",
   "metadata": {
    "id": "73M1SeetACaK"
   },
   "source": [
    "Since `complaints_counts` is a  Series (the complaint types are the index) ordered by number of complaints,  we can plot the numbers for the top complaint types, demonstrating visually what an outlier `Heating` is (Oh those NYC winters!)."
   ]
  },
  {
   "cell_type": "code",
   "execution_count": 24,
   "metadata": {
    "id": "ZkXSe7cbACaK",
    "outputId": "0ca28ef6-b3ab-4119-93a0-656e3b81c1c5"
   },
   "outputs": [
    {
     "data": {
      "text/plain": [
       "<AxesSubplot:>"
      ]
     },
     "execution_count": 24,
     "metadata": {},
     "output_type": "execute_result"
    },
    {
     "data": {
      "image/png": "[encoded data removed]",
      "text/plain": [
       "<Figure size 640x480 with 1 Axes>"
      ]
     },
     "metadata": {},
     "output_type": "display_data"
    }
   ],
   "source": [
    "complaint_counts[:10].plot(kind='bar')"
   ]
  },
  {
   "cell_type": "markdown",
   "metadata": {},
   "source": [
    "### Counting exercise"
   ]
  },
  {
   "cell_type": "markdown",
   "metadata": {},
   "source": [
    "Find the distribution of complaint Statuses.  That is, write\n",
    "an expression that produces a DataFrame or Series whose index\n",
    "is the seven possible complaint Statuses  and whose\n",
    "values are the number of complaints with each Status.\n",
    "\n",
    "The solution is given a few cells down.  \n",
    "\n",
    "To help you check your solution, here are the seven complaint statuses."
   ]
  },
  {
   "cell_type": "code",
   "execution_count": 161,
   "metadata": {},
   "outputs": [
    {
     "data": {
      "text/plain": [
       "{'Assigned',\n",
       " 'Closed',\n",
       " 'Email Sent',\n",
       " 'Open',\n",
       " 'Pending',\n",
       " 'Started',\n",
       " 'Unassigned'}"
      ]
     },
     "execution_count": 161,
     "metadata": {},
     "output_type": "execute_result"
    }
   ],
   "source": [
    "set(complaints['Status'])"
   ]
  },
  {
   "cell_type": "code",
   "execution_count": 15,
   "metadata": {},
   "outputs": [
    {
     "data": {
      "text/plain": [
       "array(['Assigned', 'Open', 'Closed', 'Pending', 'Email Sent',\n",
       "       'Unassigned', 'Started'], dtype=object)"
      ]
     },
     "execution_count": 15,
     "metadata": {},
     "output_type": "execute_result"
    }
   ],
   "source": [
    "complaints['Status'].unique()"
   ]
  },
  {
   "cell_type": "code",
   "execution_count": null,
   "metadata": {},
   "outputs": [],
   "source": []
  },
  {
   "cell_type": "code",
   "execution_count": null,
   "metadata": {},
   "outputs": [],
   "source": []
  },
  {
   "cell_type": "code",
   "execution_count": null,
   "metadata": {},
   "outputs": [],
   "source": []
  },
  {
   "cell_type": "code",
   "execution_count": null,
   "metadata": {},
   "outputs": [],
   "source": []
  },
  {
   "cell_type": "code",
   "execution_count": null,
   "metadata": {},
   "outputs": [],
   "source": []
  },
  {
   "cell_type": "code",
   "execution_count": null,
   "metadata": {},
   "outputs": [],
   "source": []
  },
  {
   "cell_type": "code",
   "execution_count": null,
   "metadata": {},
   "outputs": [],
   "source": []
  },
  {
   "cell_type": "code",
   "execution_count": null,
   "metadata": {},
   "outputs": [],
   "source": []
  },
  {
   "cell_type": "code",
   "execution_count": null,
   "metadata": {},
   "outputs": [],
   "source": []
  },
  {
   "cell_type": "code",
   "execution_count": null,
   "metadata": {},
   "outputs": [],
   "source": []
  },
  {
   "cell_type": "code",
   "execution_count": null,
   "metadata": {},
   "outputs": [],
   "source": []
  },
  {
   "cell_type": "code",
   "execution_count": 108,
   "metadata": {},
   "outputs": [
    {
     "data": {
      "text/plain": [
       "Closed        57165\n",
       "Open          43972\n",
       "Assigned       6189\n",
       "Pending        3165\n",
       "Started         447\n",
       "Email Sent      129\n",
       "Unassigned        2\n",
       "Name: Status, dtype: int64"
      ]
     },
     "execution_count": 108,
     "metadata": {},
     "output_type": "execute_result"
    }
   ],
   "source": [
    "sc = complaints['Status'].value_counts()\n",
    "sc"
   ]
  },
  {
   "cell_type": "markdown",
   "metadata": {},
   "source": [
    "## Keyword indexing, Alignment, and Elementwise Operations"
   ]
  },
  {
   "cell_type": "markdown",
   "metadata": {},
   "source": [
    "We have been at pains to emphasize that DataFrames are like 2D arrays but with\n",
    "keyword indexing instead of position based indexing.\n",
    "\n",
    "One of the consequences of this is that shape is not the decisive factor in\n",
    "determining when two dataFrames can be combined by an operation."
   ]
  },
  {
   "cell_type": "markdown",
   "metadata": {},
   "source": [
    "When two `numpy` arrays  of incompatible shapes are combined, the\n",
    "result is an error:"
   ]
  },
  {
   "cell_type": "code",
   "execution_count": 55,
   "metadata": {},
   "outputs": [],
   "source": [
    "A = np.ones((2,2))\n",
    "B = np.zeros((3,3))\n",
    "\n",
    "#ValueError: operands could not be broadcast together with shapes (2,2) (3,3) \n",
    "#A + B"
   ]
  },
  {
   "cell_type": "markdown",
   "metadata": {},
   "source": [
    "We use an example of Jake Van der Plas's to show the same is not true of \n",
    "`pandas` DataFrames:"
   ]
  },
  {
   "cell_type": "code",
   "execution_count": 64,
   "metadata": {
    "scrolled": true
   },
   "outputs": [
    {
     "data": {
      "text/html": [
       "<div>\n",
       "<style scoped>\n",
       "    .dataframe tbody tr th:only-of-type {\n",
       "        vertical-align: middle;\n",
       "    }\n",
       "\n",
       "    .dataframe tbody tr th {\n",
       "        vertical-align: top;\n",
       "    }\n",
       "\n",
       "    .dataframe thead th {\n",
       "        text-align: right;\n",
       "    }\n",
       "</style>\n",
       "<table border=\"1\" class=\"dataframe\">\n",
       "  <thead>\n",
       "    <tr style=\"text-align: right;\">\n",
       "      <th></th>\n",
       "      <th>A</th>\n",
       "      <th>B</th>\n",
       "    </tr>\n",
       "  </thead>\n",
       "  <tbody>\n",
       "    <tr>\n",
       "      <th>0</th>\n",
       "      <td>2</td>\n",
       "      <td>2</td>\n",
       "    </tr>\n",
       "    <tr>\n",
       "      <th>1</th>\n",
       "      <td>6</td>\n",
       "      <td>8</td>\n",
       "    </tr>\n",
       "  </tbody>\n",
       "</table>\n",
       "</div>"
      ],
      "text/plain": [
       "   A  B\n",
       "0  2  2\n",
       "1  6  8"
      ]
     },
     "execution_count": 64,
     "metadata": {},
     "output_type": "execute_result"
    }
   ],
   "source": [
    "M = np.random.randint(0, 20, (2, 2))\n",
    "A = pd.DataFrame(M,\n",
    "                 columns=list('AB'))\n",
    "A"
   ]
  },
  {
   "cell_type": "markdown",
   "metadata": {},
   "source": [
    "DataFrame A is 2x2."
   ]
  },
  {
   "cell_type": "code",
   "execution_count": 65,
   "metadata": {},
   "outputs": [
    {
     "data": {
      "text/html": [
       "<div>\n",
       "<style scoped>\n",
       "    .dataframe tbody tr th:only-of-type {\n",
       "        vertical-align: middle;\n",
       "    }\n",
       "\n",
       "    .dataframe tbody tr th {\n",
       "        vertical-align: top;\n",
       "    }\n",
       "\n",
       "    .dataframe thead th {\n",
       "        text-align: right;\n",
       "    }\n",
       "</style>\n",
       "<table border=\"1\" class=\"dataframe\">\n",
       "  <thead>\n",
       "    <tr style=\"text-align: right;\">\n",
       "      <th></th>\n",
       "      <th>A</th>\n",
       "      <th>B</th>\n",
       "      <th>C</th>\n",
       "    </tr>\n",
       "  </thead>\n",
       "  <tbody>\n",
       "    <tr>\n",
       "      <th>0</th>\n",
       "      <td>3</td>\n",
       "      <td>2</td>\n",
       "      <td>1</td>\n",
       "    </tr>\n",
       "    <tr>\n",
       "      <th>1</th>\n",
       "      <td>5</td>\n",
       "      <td>2</td>\n",
       "      <td>0</td>\n",
       "    </tr>\n",
       "    <tr>\n",
       "      <th>2</th>\n",
       "      <td>3</td>\n",
       "      <td>9</td>\n",
       "      <td>5</td>\n",
       "    </tr>\n",
       "  </tbody>\n",
       "</table>\n",
       "</div>"
      ],
      "text/plain": [
       "   A  B  C\n",
       "0  3  2  1\n",
       "1  5  2  0\n",
       "2  3  9  5"
      ]
     },
     "execution_count": 65,
     "metadata": {},
     "output_type": "execute_result"
    }
   ],
   "source": [
    "M = np.random.randint(0, 10, (3, 3))\n",
    "B = pd.DataFrame(M,\n",
    "                 columns=list('ABC'))\n",
    "B"
   ]
  },
  {
   "cell_type": "markdown",
   "metadata": {},
   "source": [
    "DataFrame B is 3x3."
   ]
  },
  {
   "cell_type": "markdown",
   "metadata": {},
   "source": [
    "Now we combine these seemingly incompatible matrices, A and B:"
   ]
  },
  {
   "cell_type": "code",
   "execution_count": 66,
   "metadata": {},
   "outputs": [
    {
     "data": {
      "text/html": [
       "<div>\n",
       "<style scoped>\n",
       "    .dataframe tbody tr th:only-of-type {\n",
       "        vertical-align: middle;\n",
       "    }\n",
       "\n",
       "    .dataframe tbody tr th {\n",
       "        vertical-align: top;\n",
       "    }\n",
       "\n",
       "    .dataframe thead th {\n",
       "        text-align: right;\n",
       "    }\n",
       "</style>\n",
       "<table border=\"1\" class=\"dataframe\">\n",
       "  <thead>\n",
       "    <tr style=\"text-align: right;\">\n",
       "      <th></th>\n",
       "      <th>A</th>\n",
       "      <th>B</th>\n",
       "      <th>C</th>\n",
       "    </tr>\n",
       "  </thead>\n",
       "  <tbody>\n",
       "    <tr>\n",
       "      <th>0</th>\n",
       "      <td>5.0</td>\n",
       "      <td>4.0</td>\n",
       "      <td>NaN</td>\n",
       "    </tr>\n",
       "    <tr>\n",
       "      <th>1</th>\n",
       "      <td>11.0</td>\n",
       "      <td>10.0</td>\n",
       "      <td>NaN</td>\n",
       "    </tr>\n",
       "    <tr>\n",
       "      <th>2</th>\n",
       "      <td>NaN</td>\n",
       "      <td>NaN</td>\n",
       "      <td>NaN</td>\n",
       "    </tr>\n",
       "  </tbody>\n",
       "</table>\n",
       "</div>"
      ],
      "text/plain": [
       "      A     B   C\n",
       "0   5.0   4.0 NaN\n",
       "1  11.0  10.0 NaN\n",
       "2   NaN   NaN NaN"
      ]
     },
     "execution_count": 66,
     "metadata": {},
     "output_type": "execute_result"
    }
   ],
   "source": [
    "A+B"
   ]
  },
  {
   "cell_type": "markdown",
   "metadata": {},
   "source": [
    "Whereever one of the DataFrames was undefined for a column/row name,\n",
    "we got a `NaN`.  More importantly, wherever we had positions that\n",
    "were defined in both DataFrames, we performed addition.\n",
    "\n",
    "The usefulness of this emerges when we we try to merge data\n",
    "from two different sources, each of which may have gaps.\n",
    "if we have our row and index labeling aligned, we may still be able to partially\n",
    "unify the information."
   ]
  },
  {
   "cell_type": "markdown",
   "metadata": {},
   "source": [
    "What applies to operations on numbers applies equally well to operations on\n",
    "strings.  Consider `df` an `df2`."
   ]
  },
  {
   "cell_type": "code",
   "execution_count": 28,
   "metadata": {
    "scrolled": true
   },
   "outputs": [
    {
     "data": {
      "text/html": [
       "<div>\n",
       "<style scoped>\n",
       "    .dataframe tbody tr th:only-of-type {\n",
       "        vertical-align: middle;\n",
       "    }\n",
       "\n",
       "    .dataframe tbody tr th {\n",
       "        vertical-align: top;\n",
       "    }\n",
       "\n",
       "    .dataframe thead th {\n",
       "        text-align: right;\n",
       "    }\n",
       "</style>\n",
       "<table border=\"1\" class=\"dataframe\">\n",
       "  <thead>\n",
       "    <tr style=\"text-align: right;\">\n",
       "      <th></th>\n",
       "      <th>Names</th>\n",
       "      <th>Gender</th>\n",
       "      <th>Births</th>\n",
       "    </tr>\n",
       "  </thead>\n",
       "  <tbody>\n",
       "    <tr>\n",
       "      <th>0</th>\n",
       "      <td>Bob</td>\n",
       "      <td>M</td>\n",
       "      <td>968</td>\n",
       "    </tr>\n",
       "    <tr>\n",
       "      <th>1</th>\n",
       "      <td>Jessica</td>\n",
       "      <td>F</td>\n",
       "      <td>155</td>\n",
       "    </tr>\n",
       "    <tr>\n",
       "      <th>2</th>\n",
       "      <td>Mary</td>\n",
       "      <td>F</td>\n",
       "      <td>77</td>\n",
       "    </tr>\n",
       "    <tr>\n",
       "      <th>3</th>\n",
       "      <td>John</td>\n",
       "      <td>M</td>\n",
       "      <td>578</td>\n",
       "    </tr>\n",
       "    <tr>\n",
       "      <th>4</th>\n",
       "      <td>Mel</td>\n",
       "      <td>M</td>\n",
       "      <td>973</td>\n",
       "    </tr>\n",
       "    <tr>\n",
       "      <th>5</th>\n",
       "      <td>Mel</td>\n",
       "      <td>F</td>\n",
       "      <td>45</td>\n",
       "    </tr>\n",
       "  </tbody>\n",
       "</table>\n",
       "</div>"
      ],
      "text/plain": [
       "     Names Gender  Births\n",
       "0      Bob      M     968\n",
       "1  Jessica      F     155\n",
       "2     Mary      F      77\n",
       "3     John      M     578\n",
       "4      Mel      M     973\n",
       "5      Mel      F      45"
      ]
     },
     "execution_count": 28,
     "metadata": {},
     "output_type": "execute_result"
    }
   ],
   "source": [
    "from pandas import DataFrame\n",
    "df = DataFrame(data = BabyDataSet, columns=['Names', 'Gender', 'Births'])\n",
    "df"
   ]
  },
  {
   "cell_type": "code",
   "execution_count": 29,
   "metadata": {},
   "outputs": [
    {
     "data": {
      "text/html": [
       "<div>\n",
       "<style scoped>\n",
       "    .dataframe tbody tr th:only-of-type {\n",
       "        vertical-align: middle;\n",
       "    }\n",
       "\n",
       "    .dataframe tbody tr th {\n",
       "        vertical-align: top;\n",
       "    }\n",
       "\n",
       "    .dataframe thead th {\n",
       "        text-align: right;\n",
       "    }\n",
       "</style>\n",
       "<table border=\"1\" class=\"dataframe\">\n",
       "  <thead>\n",
       "    <tr style=\"text-align: right;\">\n",
       "      <th></th>\n",
       "      <th>Names</th>\n",
       "      <th>Gender</th>\n",
       "      <th>Births</th>\n",
       "    </tr>\n",
       "  </thead>\n",
       "  <tbody>\n",
       "    <tr>\n",
       "      <th>0</th>\n",
       "      <td>Bob</td>\n",
       "      <td>M</td>\n",
       "      <td>968</td>\n",
       "    </tr>\n",
       "    <tr>\n",
       "      <th>3</th>\n",
       "      <td>John</td>\n",
       "      <td>M</td>\n",
       "      <td>578</td>\n",
       "    </tr>\n",
       "    <tr>\n",
       "      <th>4</th>\n",
       "      <td>Mel</td>\n",
       "      <td>M</td>\n",
       "      <td>973</td>\n",
       "    </tr>\n",
       "  </tbody>\n",
       "</table>\n",
       "</div>"
      ],
      "text/plain": [
       "  Names Gender  Births\n",
       "0   Bob      M     968\n",
       "3  John      M     578\n",
       "4   Mel      M     973"
      ]
     },
     "execution_count": 29,
     "metadata": {},
     "output_type": "execute_result"
    }
   ],
   "source": [
    "df2 = df.loc[[0,3,4]]\n",
    "df2"
   ]
  },
  {
   "cell_type": "markdown",
   "metadata": {},
   "source": [
    "The two DataFrames share column names and some index names; one column contains numbers, the\n",
    "other strings.\n",
    "\n",
    "The + operation --- call it addition --- is defined on both strings and numbers and will apply to any columns\n",
    "that can be aligned; so examine the 0, 3, 4 rows in the output of the next cell.  Note that both \n",
    "columns undergo addition in those rows, while the unshared rows are NaN'ed."
   ]
  },
  {
   "cell_type": "code",
   "execution_count": 71,
   "metadata": {},
   "outputs": [
    {
     "data": {
      "text/html": [
       "<div>\n",
       "<style scoped>\n",
       "    .dataframe tbody tr th:only-of-type {\n",
       "        vertical-align: middle;\n",
       "    }\n",
       "\n",
       "    .dataframe tbody tr th {\n",
       "        vertical-align: top;\n",
       "    }\n",
       "\n",
       "    .dataframe thead th {\n",
       "        text-align: right;\n",
       "    }\n",
       "</style>\n",
       "<table border=\"1\" class=\"dataframe\">\n",
       "  <thead>\n",
       "    <tr style=\"text-align: right;\">\n",
       "      <th></th>\n",
       "      <th>Names</th>\n",
       "      <th>Gender</th>\n",
       "      <th>Births</th>\n",
       "    </tr>\n",
       "  </thead>\n",
       "  <tbody>\n",
       "    <tr>\n",
       "      <th>0</th>\n",
       "      <td>BobBob</td>\n",
       "      <td>MM</td>\n",
       "      <td>1936.0</td>\n",
       "    </tr>\n",
       "    <tr>\n",
       "      <th>1</th>\n",
       "      <td>NaN</td>\n",
       "      <td>NaN</td>\n",
       "      <td>NaN</td>\n",
       "    </tr>\n",
       "    <tr>\n",
       "      <th>2</th>\n",
       "      <td>NaN</td>\n",
       "      <td>NaN</td>\n",
       "      <td>NaN</td>\n",
       "    </tr>\n",
       "    <tr>\n",
       "      <th>3</th>\n",
       "      <td>JohnJohn</td>\n",
       "      <td>MM</td>\n",
       "      <td>1156.0</td>\n",
       "    </tr>\n",
       "    <tr>\n",
       "      <th>4</th>\n",
       "      <td>MelMel</td>\n",
       "      <td>MM</td>\n",
       "      <td>1946.0</td>\n",
       "    </tr>\n",
       "    <tr>\n",
       "      <th>5</th>\n",
       "      <td>NaN</td>\n",
       "      <td>NaN</td>\n",
       "      <td>NaN</td>\n",
       "    </tr>\n",
       "  </tbody>\n",
       "</table>\n",
       "</div>"
      ],
      "text/plain": [
       "      Names Gender  Births\n",
       "0    BobBob     MM  1936.0\n",
       "1       NaN    NaN     NaN\n",
       "2       NaN    NaN     NaN\n",
       "3  JohnJohn     MM  1156.0\n",
       "4    MelMel     MM  1946.0\n",
       "5       NaN    NaN     NaN"
      ]
     },
     "execution_count": 71,
     "metadata": {},
     "output_type": "execute_result"
    }
   ],
   "source": [
    "df2 + df"
   ]
  },
  {
   "cell_type": "markdown",
   "metadata": {},
   "source": [
    "This kind of behavior follows from being consistent about keyword indexing and from allowing\n",
    "elementwise operations wherever possible, where teh definition of \"possible\" is expanded through the use of broadcasting:"
   ]
  },
  {
   "cell_type": "code",
   "execution_count": 72,
   "metadata": {},
   "outputs": [
    {
     "data": {
      "text/plain": [
       "0        Bobx\n",
       "1    Jessicax\n",
       "2       Maryx\n",
       "3       Johnx\n",
       "4        Melx\n",
       "5        Melx\n",
       "Name: Names, dtype: object"
      ]
     },
     "execution_count": 72,
     "metadata": {},
     "output_type": "execute_result"
    }
   ],
   "source": [
    "df['Names'] + 'x'"
   ]
  },
  {
   "cell_type": "markdown",
   "metadata": {},
   "source": [
    "### Vectorized operations with string `Series`"
   ]
  },
  {
   "cell_type": "markdown",
   "metadata": {},
   "source": [
    "It is worth pointing out that pandas also tries to allow the string analogue of vectorized functions (functions\n",
    "that can be applied elementwise to arrays) whenever possible.\n",
    "Typically, this requires invoking a \"StringMethod\" accessor on the Series instance.\n",
    "\n",
    "For example, although `df['Names'].lower()` is an error,\n",
    "we can acomplish what we're after here, lowercasing every element in the column, \n",
    "by first calling the `.str` method,\n",
    "then `.lower()`.\n",
    "\n",
    "The `.str()` method provides an accessor to string methods which will apply in a vectorized fashion:"
   ]
  },
  {
   "cell_type": "code",
   "execution_count": 30,
   "metadata": {},
   "outputs": [
    {
     "data": {
      "text/plain": [
       "<pandas.core.strings.accessor.StringMethods at 0x7fafb9a53100>"
      ]
     },
     "execution_count": 30,
     "metadata": {},
     "output_type": "execute_result"
    }
   ],
   "source": [
    "df['Names'].str"
   ]
  },
  {
   "cell_type": "code",
   "execution_count": 31,
   "metadata": {},
   "outputs": [
    {
     "data": {
      "text/plain": [
       "0        bob\n",
       "1    jessica\n",
       "2       mary\n",
       "3       john\n",
       "4        mel\n",
       "5        mel\n",
       "Name: Names, dtype: object"
      ]
     },
     "execution_count": 31,
     "metadata": {},
     "output_type": "execute_result"
    }
   ],
   "source": [
    "df['Names'].str.lower()"
   ]
  },
  {
   "cell_type": "markdown",
   "metadata": {},
   "source": [
    "We can also use Boolean conditions on strings elementwise to select rows:"
   ]
  },
  {
   "cell_type": "code",
   "execution_count": 32,
   "metadata": {},
   "outputs": [
    {
     "data": {
      "text/html": [
       "<div>\n",
       "<style scoped>\n",
       "    .dataframe tbody tr th:only-of-type {\n",
       "        vertical-align: middle;\n",
       "    }\n",
       "\n",
       "    .dataframe tbody tr th {\n",
       "        vertical-align: top;\n",
       "    }\n",
       "\n",
       "    .dataframe thead th {\n",
       "        text-align: right;\n",
       "    }\n",
       "</style>\n",
       "<table border=\"1\" class=\"dataframe\">\n",
       "  <thead>\n",
       "    <tr style=\"text-align: right;\">\n",
       "      <th></th>\n",
       "      <th>Names</th>\n",
       "      <th>Gender</th>\n",
       "      <th>Births</th>\n",
       "    </tr>\n",
       "  </thead>\n",
       "  <tbody>\n",
       "    <tr>\n",
       "      <th>2</th>\n",
       "      <td>Mary</td>\n",
       "      <td>F</td>\n",
       "      <td>77</td>\n",
       "    </tr>\n",
       "    <tr>\n",
       "      <th>4</th>\n",
       "      <td>Mel</td>\n",
       "      <td>M</td>\n",
       "      <td>973</td>\n",
       "    </tr>\n",
       "    <tr>\n",
       "      <th>5</th>\n",
       "      <td>Mel</td>\n",
       "      <td>F</td>\n",
       "      <td>45</td>\n",
       "    </tr>\n",
       "  </tbody>\n",
       "</table>\n",
       "</div>"
      ],
      "text/plain": [
       "  Names Gender  Births\n",
       "2  Mary      F      77\n",
       "4   Mel      M     973\n",
       "5   Mel      F      45"
      ]
     },
     "execution_count": 32,
     "metadata": {},
     "output_type": "execute_result"
    }
   ],
   "source": [
    "df[df['Names'].str.startswith('M')]"
   ]
  },
  {
   "cell_type": "markdown",
   "metadata": {},
   "source": [
    "The following expression returns a Series of first elements, preserving the \n",
    "original indexing."
   ]
  },
  {
   "cell_type": "code",
   "execution_count": 33,
   "metadata": {},
   "outputs": [
    {
     "data": {
      "text/plain": [
       "0    B\n",
       "1    J\n",
       "2    M\n",
       "3    J\n",
       "4    M\n",
       "5    M\n",
       "Name: Names, dtype: object"
      ]
     },
     "execution_count": 33,
     "metadata": {},
     "output_type": "execute_result"
    }
   ],
   "source": [
    "df['Names'].str[0]"
   ]
  },
  {
   "cell_type": "markdown",
   "metadata": {},
   "source": [
    "Note the contrasting behavior if `[0]` isn't vectorized through `.str`:"
   ]
  },
  {
   "cell_type": "code",
   "execution_count": 78,
   "metadata": {},
   "outputs": [
    {
     "data": {
      "text/plain": [
       "'Bob'"
      ]
     },
     "execution_count": 78,
     "metadata": {},
     "output_type": "execute_result"
    }
   ],
   "source": [
    "df['Names'][0]"
   ]
  },
  {
   "cell_type": "markdown",
   "metadata": {},
   "source": [
    "NaNs will as usual give rise to more NaNs, so .str methods will be robust to data gaps."
   ]
  },
  {
   "cell_type": "code",
   "execution_count": 79,
   "metadata": {},
   "outputs": [
    {
     "data": {
      "text/plain": [
       "0      B\n",
       "1    NaN\n",
       "2    NaN\n",
       "3      J\n",
       "4      M\n",
       "5    NaN\n",
       "Name: Names, dtype: object"
      ]
     },
     "execution_count": 79,
     "metadata": {},
     "output_type": "execute_result"
    }
   ],
   "source": [
    "(df + df2)['Names'].str[0]"
   ]
  },
  {
   "cell_type": "markdown",
   "metadata": {},
   "source": [
    "So if we want to collect data on correlations between name gender and name lastt letters, we can do:"
   ]
  },
  {
   "cell_type": "code",
   "execution_count": 119,
   "metadata": {},
   "outputs": [
    {
     "data": {
      "text/plain": [
       "array(['M', 'F'], dtype=object)"
      ]
     },
     "execution_count": 119,
     "metadata": {},
     "output_type": "execute_result"
    }
   ],
   "source": [
    "df['Gender'].unique()"
   ]
  },
  {
   "cell_type": "code",
   "execution_count": 34,
   "metadata": {},
   "outputs": [
    {
     "name": "stdout",
     "output_type": "stream",
     "text": [
      "M\n",
      "0    b\n",
      "3    n\n",
      "4    l\n",
      "Name: Names, dtype: object\n",
      "\n",
      "F\n",
      "1    a\n",
      "2    y\n",
      "5    l\n",
      "Name: Names, dtype: object\n",
      "\n"
     ]
    }
   ],
   "source": [
    "for g in df['Gender'].unique():\n",
    "    print(g)\n",
    "    print(df[df['Gender']==g]['Names'].str[-1])\n",
    "    print()"
   ]
  },
  {
   "cell_type": "markdown",
   "metadata": {},
   "source": [
    "## Using groupby"
   ]
  },
  {
   "cell_type": "markdown",
   "metadata": {},
   "source": [
    "Grouping is an operation that partitions the rows of a DataFrame into disjoint sets; it is a fundamental step in data analysis, often a first step.  For example, it is the first step in doing a cross-tabulation.  We will also see that it us the first step in creating a pivot table.  \n",
    "\n",
    "As these examples suggest, we're mostly interested in grouping as one step in larger analytical task, but it is\n",
    "useful to look at in isolation first, using the basic\n",
    "`groupby` function that `pandas` provides.\n",
    "\n",
    "Let's use a new dataset to illustrate, because it has some very natural\n",
    "groupings."
   ]
  },
  {
   "cell_type": "code",
   "execution_count": 58,
   "metadata": {},
   "outputs": [
    {
     "name": "stdout",
     "output_type": "stream",
     "text": [
      "Reading https://gawron.sdsu.edu/python_for_ss/course_core/data/nba1.csv\n",
      "HTTPError Handled!\n",
      "Reading https://raw.githubusercontent.com/gawron/python-for-social-science/master/pandas/datasets/nba.csv\n"
     ]
    }
   ],
   "source": [
    "import pandas as pd\n",
    "import urllib.error\n",
    "\n",
    "url_path  = 'https://gawron.sdsu.edu/python_for_ss/course_core/'\n",
    "data_dir = 'data/'\n",
    "\n",
    "github_url_path ='https://raw.githubusercontent.com/gawron/python-for-social-science/master/pandas/'\n",
    "github_data_dir = 'datasets/'\n",
    "\n",
    "nba_file = \"nba.csv\"\n",
    "nba_file1 = \"nba1.csv\"\n",
    "nba_file_url = url_path + data_dir + nba_file1\n",
    "\n",
    "\n",
    "try:\n",
    "    print(f\"Reading {nba_file_url}\")\n",
    "    nba_df = pd.read_csv(nba_file_url)\n",
    "except urllib.error.HTTPError:\n",
    "    print(\"HTTPError Handled!\")\n",
    "    nba_file_url = github_url_path + github_data_dir + nba_file\n",
    "    print(f\"Reading {nba_file_url}\")\n",
    "    nba_df = pd.read_csv(nba_file_url)"
   ]
  },
  {
   "cell_type": "markdown",
   "metadata": {},
   "source": [
    "Each row contains information about one current player. The team rosters are listed in alphabetical order of team name, with the players in alphabetical order by name\n",
    "within the teams."
   ]
  },
  {
   "cell_type": "code",
   "execution_count": 57,
   "metadata": {},
   "outputs": [
    {
     "data": {
      "text/html": [
       "<div>\n",
       "<style scoped>\n",
       "    .dataframe tbody tr th:only-of-type {\n",
       "        vertical-align: middle;\n",
       "    }\n",
       "\n",
       "    .dataframe tbody tr th {\n",
       "        vertical-align: top;\n",
       "    }\n",
       "\n",
       "    .dataframe thead th {\n",
       "        text-align: right;\n",
       "    }\n",
       "</style>\n",
       "<table border=\"1\" class=\"dataframe\">\n",
       "  <thead>\n",
       "    <tr style=\"text-align: right;\">\n",
       "      <th></th>\n",
       "      <th>Name</th>\n",
       "      <th>Team</th>\n",
       "      <th>Number</th>\n",
       "      <th>Position</th>\n",
       "      <th>Age</th>\n",
       "      <th>Height</th>\n",
       "      <th>Weight</th>\n",
       "      <th>College</th>\n",
       "      <th>Salary</th>\n",
       "    </tr>\n",
       "  </thead>\n",
       "  <tbody>\n",
       "    <tr>\n",
       "      <th>0</th>\n",
       "      <td>Avery Bradley</td>\n",
       "      <td>Boston Celtics</td>\n",
       "      <td>0.0</td>\n",
       "      <td>PG</td>\n",
       "      <td>25.0</td>\n",
       "      <td>6-2</td>\n",
       "      <td>180.0</td>\n",
       "      <td>Texas</td>\n",
       "      <td>7730337.0</td>\n",
       "    </tr>\n",
       "    <tr>\n",
       "      <th>1</th>\n",
       "      <td>Jae Crowder</td>\n",
       "      <td>Boston Celtics</td>\n",
       "      <td>99.0</td>\n",
       "      <td>SF</td>\n",
       "      <td>25.0</td>\n",
       "      <td>6-6</td>\n",
       "      <td>235.0</td>\n",
       "      <td>Marquette</td>\n",
       "      <td>6796117.0</td>\n",
       "    </tr>\n",
       "    <tr>\n",
       "      <th>2</th>\n",
       "      <td>John Holland</td>\n",
       "      <td>Boston Celtics</td>\n",
       "      <td>30.0</td>\n",
       "      <td>SG</td>\n",
       "      <td>27.0</td>\n",
       "      <td>6-5</td>\n",
       "      <td>205.0</td>\n",
       "      <td>Boston University</td>\n",
       "      <td>NaN</td>\n",
       "    </tr>\n",
       "    <tr>\n",
       "      <th>3</th>\n",
       "      <td>R.J. Hunter</td>\n",
       "      <td>Boston Celtics</td>\n",
       "      <td>28.0</td>\n",
       "      <td>SG</td>\n",
       "      <td>22.0</td>\n",
       "      <td>6-5</td>\n",
       "      <td>185.0</td>\n",
       "      <td>Georgia State</td>\n",
       "      <td>1148640.0</td>\n",
       "    </tr>\n",
       "    <tr>\n",
       "      <th>4</th>\n",
       "      <td>Jonas Jerebko</td>\n",
       "      <td>Boston Celtics</td>\n",
       "      <td>8.0</td>\n",
       "      <td>PF</td>\n",
       "      <td>29.0</td>\n",
       "      <td>6-10</td>\n",
       "      <td>231.0</td>\n",
       "      <td>NaN</td>\n",
       "      <td>5000000.0</td>\n",
       "    </tr>\n",
       "  </tbody>\n",
       "</table>\n",
       "</div>"
      ],
      "text/plain": [
       "            Name            Team  Number Position   Age Height  Weight  \\\n",
       "0  Avery Bradley  Boston Celtics     0.0       PG  25.0    6-2   180.0   \n",
       "1    Jae Crowder  Boston Celtics    99.0       SF  25.0    6-6   235.0   \n",
       "2   John Holland  Boston Celtics    30.0       SG  27.0    6-5   205.0   \n",
       "3    R.J. Hunter  Boston Celtics    28.0       SG  22.0    6-5   185.0   \n",
       "4  Jonas Jerebko  Boston Celtics     8.0       PF  29.0   6-10   231.0   \n",
       "\n",
       "             College     Salary  \n",
       "0              Texas  7730337.0  \n",
       "1          Marquette  6796117.0  \n",
       "2  Boston University        NaN  \n",
       "3      Georgia State  1148640.0  \n",
       "4                NaN  5000000.0  "
      ]
     },
     "execution_count": 57,
     "metadata": {},
     "output_type": "execute_result"
    }
   ],
   "source": [
    "nba_df[:5]"
   ]
  },
  {
   "cell_type": "markdown",
   "metadata": {},
   "source": [
    "We are going to use it to find out about team salaries by position, height by position\n",
    "and weight by position.\n",
    "\n",
    "We group the rows by team and then show the alphabetically first player in each team."
   ]
  },
  {
   "cell_type": "code",
   "execution_count": 2,
   "metadata": {
    "scrolled": true
   },
   "outputs": [
    {
     "data": {
      "text/html": [
       "<div>\n",
       "<style scoped>\n",
       "    .dataframe tbody tr th:only-of-type {\n",
       "        vertical-align: middle;\n",
       "    }\n",
       "\n",
       "    .dataframe tbody tr th {\n",
       "        vertical-align: top;\n",
       "    }\n",
       "\n",
       "    .dataframe thead th {\n",
       "        text-align: right;\n",
       "    }\n",
       "</style>\n",
       "<table border=\"1\" class=\"dataframe\">\n",
       "  <thead>\n",
       "    <tr style=\"text-align: right;\">\n",
       "      <th></th>\n",
       "      <th>Name</th>\n",
       "      <th>Number</th>\n",
       "      <th>Position</th>\n",
       "      <th>Age</th>\n",
       "      <th>Height</th>\n",
       "      <th>Weight</th>\n",
       "      <th>College</th>\n",
       "      <th>Salary</th>\n",
       "    </tr>\n",
       "    <tr>\n",
       "      <th>Team</th>\n",
       "      <th></th>\n",
       "      <th></th>\n",
       "      <th></th>\n",
       "      <th></th>\n",
       "      <th></th>\n",
       "      <th></th>\n",
       "      <th></th>\n",
       "      <th></th>\n",
       "    </tr>\n",
       "  </thead>\n",
       "  <tbody>\n",
       "    <tr>\n",
       "      <th>Atlanta Hawks</th>\n",
       "      <td>Kent Bazemore</td>\n",
       "      <td>24.0</td>\n",
       "      <td>SF</td>\n",
       "      <td>26.0</td>\n",
       "      <td>6-5</td>\n",
       "      <td>201.0</td>\n",
       "      <td>Old Dominion</td>\n",
       "      <td>2000000.0</td>\n",
       "    </tr>\n",
       "    <tr>\n",
       "      <th>Boston Celtics</th>\n",
       "      <td>Avery Bradley</td>\n",
       "      <td>0.0</td>\n",
       "      <td>PG</td>\n",
       "      <td>25.0</td>\n",
       "      <td>6-2</td>\n",
       "      <td>180.0</td>\n",
       "      <td>Texas</td>\n",
       "      <td>7730337.0</td>\n",
       "    </tr>\n",
       "    <tr>\n",
       "      <th>Brooklyn Nets</th>\n",
       "      <td>Bojan Bogdanovic</td>\n",
       "      <td>44.0</td>\n",
       "      <td>SG</td>\n",
       "      <td>27.0</td>\n",
       "      <td>6-8</td>\n",
       "      <td>216.0</td>\n",
       "      <td>Oklahoma State</td>\n",
       "      <td>3425510.0</td>\n",
       "    </tr>\n",
       "    <tr>\n",
       "      <th>Charlotte Hornets</th>\n",
       "      <td>Nicolas Batum</td>\n",
       "      <td>5.0</td>\n",
       "      <td>SG</td>\n",
       "      <td>27.0</td>\n",
       "      <td>6-8</td>\n",
       "      <td>200.0</td>\n",
       "      <td>Virginia Commonwealth</td>\n",
       "      <td>13125306.0</td>\n",
       "    </tr>\n",
       "    <tr>\n",
       "      <th>Chicago Bulls</th>\n",
       "      <td>Cameron Bairstow</td>\n",
       "      <td>41.0</td>\n",
       "      <td>PF</td>\n",
       "      <td>25.0</td>\n",
       "      <td>6-9</td>\n",
       "      <td>250.0</td>\n",
       "      <td>New Mexico</td>\n",
       "      <td>845059.0</td>\n",
       "    </tr>\n",
       "  </tbody>\n",
       "</table>\n",
       "</div>"
      ],
      "text/plain": [
       "                               Name  Number Position   Age Height  Weight  \\\n",
       "Team                                                                        \n",
       "Atlanta Hawks         Kent Bazemore    24.0       SF  26.0    6-5   201.0   \n",
       "Boston Celtics        Avery Bradley     0.0       PG  25.0    6-2   180.0   \n",
       "Brooklyn Nets      Bojan Bogdanovic    44.0       SG  27.0    6-8   216.0   \n",
       "Charlotte Hornets     Nicolas Batum     5.0       SG  27.0    6-8   200.0   \n",
       "Chicago Bulls      Cameron Bairstow    41.0       PF  25.0    6-9   250.0   \n",
       "\n",
       "                                 College      Salary  \n",
       "Team                                                  \n",
       "Atlanta Hawks               Old Dominion   2000000.0  \n",
       "Boston Celtics                     Texas   7730337.0  \n",
       "Brooklyn Nets             Oklahoma State   3425510.0  \n",
       "Charlotte Hornets  Virginia Commonwealth  13125306.0  \n",
       "Chicago Bulls                 New Mexico    845059.0  "
      ]
     },
     "execution_count": 2,
     "metadata": {},
     "output_type": "execute_result"
    }
   ],
   "source": [
    "gt = nba_df.groupby('Team')\n",
    "# First member of each team grouop for first 5 teams\n",
    "gt.first()[:5]"
   ]
  },
  {
   "cell_type": "markdown",
   "metadata": {},
   "source": [
    "Now a `DataFrameGroupBy` instance is **not** a DataFrame or a Series, making `groupby`\n",
    "one of the few commonly used `pandas` analysis methods that doesn't return either:"
   ]
  },
  {
   "cell_type": "code",
   "execution_count": 15,
   "metadata": {},
   "outputs": [
    {
     "data": {
      "text/plain": [
       "pandas.core.groupby.generic.DataFrameGroupBy"
      ]
     },
     "execution_count": 15,
     "metadata": {},
     "output_type": "execute_result"
    }
   ],
   "source": [
    "type(gt)"
   ]
  },
  {
   "cell_type": "markdown",
   "metadata": {},
   "source": [
    "This `DataFrameGroupBy`instance splits the player rows into subgroups, the players belonging to each team."
   ]
  },
  {
   "cell_type": "markdown",
   "metadata": {},
   "source": [
    "We can display one of those groups as follows:"
   ]
  },
  {
   "cell_type": "code",
   "execution_count": 16,
   "metadata": {
    "scrolled": false
   },
   "outputs": [
    {
     "data": {
      "text/html": [
       "<div>\n",
       "<style scoped>\n",
       "    .dataframe tbody tr th:only-of-type {\n",
       "        vertical-align: middle;\n",
       "    }\n",
       "\n",
       "    .dataframe tbody tr th {\n",
       "        vertical-align: top;\n",
       "    }\n",
       "\n",
       "    .dataframe thead th {\n",
       "        text-align: right;\n",
       "    }\n",
       "</style>\n",
       "<table border=\"1\" class=\"dataframe\">\n",
       "  <thead>\n",
       "    <tr style=\"text-align: right;\">\n",
       "      <th></th>\n",
       "      <th>Name</th>\n",
       "      <th>Team</th>\n",
       "      <th>Number</th>\n",
       "      <th>Position</th>\n",
       "      <th>Age</th>\n",
       "      <th>Height</th>\n",
       "      <th>Weight</th>\n",
       "      <th>College</th>\n",
       "      <th>Salary</th>\n",
       "    </tr>\n",
       "  </thead>\n",
       "  <tbody>\n",
       "    <tr>\n",
       "      <th>442</th>\n",
       "      <td>Trevor Booker</td>\n",
       "      <td>Utah Jazz</td>\n",
       "      <td>33.0</td>\n",
       "      <td>PF</td>\n",
       "      <td>28.0</td>\n",
       "      <td>6-8</td>\n",
       "      <td>228.0</td>\n",
       "      <td>Clemson</td>\n",
       "      <td>4775000.0</td>\n",
       "    </tr>\n",
       "    <tr>\n",
       "      <th>443</th>\n",
       "      <td>Trey Burke</td>\n",
       "      <td>Utah Jazz</td>\n",
       "      <td>3.0</td>\n",
       "      <td>PG</td>\n",
       "      <td>23.0</td>\n",
       "      <td>6-1</td>\n",
       "      <td>191.0</td>\n",
       "      <td>Michigan</td>\n",
       "      <td>2658240.0</td>\n",
       "    </tr>\n",
       "    <tr>\n",
       "      <th>444</th>\n",
       "      <td>Alec Burks</td>\n",
       "      <td>Utah Jazz</td>\n",
       "      <td>10.0</td>\n",
       "      <td>SG</td>\n",
       "      <td>24.0</td>\n",
       "      <td>6-6</td>\n",
       "      <td>214.0</td>\n",
       "      <td>Colorado</td>\n",
       "      <td>9463484.0</td>\n",
       "    </tr>\n",
       "    <tr>\n",
       "      <th>445</th>\n",
       "      <td>Dante Exum</td>\n",
       "      <td>Utah Jazz</td>\n",
       "      <td>11.0</td>\n",
       "      <td>PG</td>\n",
       "      <td>20.0</td>\n",
       "      <td>6-6</td>\n",
       "      <td>190.0</td>\n",
       "      <td>NaN</td>\n",
       "      <td>3777720.0</td>\n",
       "    </tr>\n",
       "    <tr>\n",
       "      <th>446</th>\n",
       "      <td>Derrick Favors</td>\n",
       "      <td>Utah Jazz</td>\n",
       "      <td>15.0</td>\n",
       "      <td>PF</td>\n",
       "      <td>24.0</td>\n",
       "      <td>6-10</td>\n",
       "      <td>265.0</td>\n",
       "      <td>Georgia Tech</td>\n",
       "      <td>12000000.0</td>\n",
       "    </tr>\n",
       "  </tbody>\n",
       "</table>\n",
       "</div>"
      ],
      "text/plain": [
       "               Name       Team  Number Position   Age Height  Weight  \\\n",
       "442   Trevor Booker  Utah Jazz    33.0       PF  28.0    6-8   228.0   \n",
       "443      Trey Burke  Utah Jazz     3.0       PG  23.0    6-1   191.0   \n",
       "444      Alec Burks  Utah Jazz    10.0       SG  24.0    6-6   214.0   \n",
       "445      Dante Exum  Utah Jazz    11.0       PG  20.0    6-6   190.0   \n",
       "446  Derrick Favors  Utah Jazz    15.0       PF  24.0   6-10   265.0   \n",
       "\n",
       "          College      Salary  \n",
       "442       Clemson   4775000.0  \n",
       "443      Michigan   2658240.0  \n",
       "444      Colorado   9463484.0  \n",
       "445           NaN   3777720.0  \n",
       "446  Georgia Tech  12000000.0  "
      ]
     },
     "execution_count": 16,
     "metadata": {},
     "output_type": "execute_result"
    }
   ],
   "source": [
    "# A particular group\n",
    "gt.get_group('Utah Jazz')[:5]"
   ]
  },
  {
   "cell_type": "markdown",
   "metadata": {},
   "source": [
    "This, however, is an odd use of a `grouping` object. \n",
    "If all we were interested in was constructing a DataFrame limited to one team, we could accomplished that much more easily with:"
   ]
  },
  {
   "cell_type": "code",
   "execution_count": 17,
   "metadata": {
    "scrolled": true
   },
   "outputs": [
    {
     "data": {
      "text/html": [
       "<div>\n",
       "<style scoped>\n",
       "    .dataframe tbody tr th:only-of-type {\n",
       "        vertical-align: middle;\n",
       "    }\n",
       "\n",
       "    .dataframe tbody tr th {\n",
       "        vertical-align: top;\n",
       "    }\n",
       "\n",
       "    .dataframe thead th {\n",
       "        text-align: right;\n",
       "    }\n",
       "</style>\n",
       "<table border=\"1\" class=\"dataframe\">\n",
       "  <thead>\n",
       "    <tr style=\"text-align: right;\">\n",
       "      <th></th>\n",
       "      <th>Name</th>\n",
       "      <th>Team</th>\n",
       "      <th>Number</th>\n",
       "      <th>Position</th>\n",
       "      <th>Age</th>\n",
       "      <th>Height</th>\n",
       "      <th>Weight</th>\n",
       "      <th>College</th>\n",
       "      <th>Salary</th>\n",
       "    </tr>\n",
       "  </thead>\n",
       "  <tbody>\n",
       "    <tr>\n",
       "      <th>442</th>\n",
       "      <td>Trevor Booker</td>\n",
       "      <td>Utah Jazz</td>\n",
       "      <td>33.0</td>\n",
       "      <td>PF</td>\n",
       "      <td>28.0</td>\n",
       "      <td>6-8</td>\n",
       "      <td>228.0</td>\n",
       "      <td>Clemson</td>\n",
       "      <td>4775000.0</td>\n",
       "    </tr>\n",
       "    <tr>\n",
       "      <th>443</th>\n",
       "      <td>Trey Burke</td>\n",
       "      <td>Utah Jazz</td>\n",
       "      <td>3.0</td>\n",
       "      <td>PG</td>\n",
       "      <td>23.0</td>\n",
       "      <td>6-1</td>\n",
       "      <td>191.0</td>\n",
       "      <td>Michigan</td>\n",
       "      <td>2658240.0</td>\n",
       "    </tr>\n",
       "    <tr>\n",
       "      <th>444</th>\n",
       "      <td>Alec Burks</td>\n",
       "      <td>Utah Jazz</td>\n",
       "      <td>10.0</td>\n",
       "      <td>SG</td>\n",
       "      <td>24.0</td>\n",
       "      <td>6-6</td>\n",
       "      <td>214.0</td>\n",
       "      <td>Colorado</td>\n",
       "      <td>9463484.0</td>\n",
       "    </tr>\n",
       "    <tr>\n",
       "      <th>445</th>\n",
       "      <td>Dante Exum</td>\n",
       "      <td>Utah Jazz</td>\n",
       "      <td>11.0</td>\n",
       "      <td>PG</td>\n",
       "      <td>20.0</td>\n",
       "      <td>6-6</td>\n",
       "      <td>190.0</td>\n",
       "      <td>NaN</td>\n",
       "      <td>3777720.0</td>\n",
       "    </tr>\n",
       "    <tr>\n",
       "      <th>446</th>\n",
       "      <td>Derrick Favors</td>\n",
       "      <td>Utah Jazz</td>\n",
       "      <td>15.0</td>\n",
       "      <td>PF</td>\n",
       "      <td>24.0</td>\n",
       "      <td>6-10</td>\n",
       "      <td>265.0</td>\n",
       "      <td>Georgia Tech</td>\n",
       "      <td>12000000.0</td>\n",
       "    </tr>\n",
       "  </tbody>\n",
       "</table>\n",
       "</div>"
      ],
      "text/plain": [
       "               Name       Team  Number Position   Age Height  Weight  \\\n",
       "442   Trevor Booker  Utah Jazz    33.0       PF  28.0    6-8   228.0   \n",
       "443      Trey Burke  Utah Jazz     3.0       PG  23.0    6-1   191.0   \n",
       "444      Alec Burks  Utah Jazz    10.0       SG  24.0    6-6   214.0   \n",
       "445      Dante Exum  Utah Jazz    11.0       PG  20.0    6-6   190.0   \n",
       "446  Derrick Favors  Utah Jazz    15.0       PF  24.0   6-10   265.0   \n",
       "\n",
       "          College      Salary  \n",
       "442       Clemson   4775000.0  \n",
       "443      Michigan   2658240.0  \n",
       "444      Colorado   9463484.0  \n",
       "445           NaN   3777720.0  \n",
       "446  Georgia Tech  12000000.0  "
      ]
     },
     "execution_count": 17,
     "metadata": {},
     "output_type": "execute_result"
    }
   ],
   "source": [
    "nba_df[nba_df['Team'] == 'Utah Jazz'][:5]"
   ]
  },
  {
   "cell_type": "markdown",
   "metadata": {},
   "source": [
    "The benefit of the grouping object is that it makes various  comparisons based on the same grouping easier.\n",
    "Suppose, for example, that  we were interested in comparing\n",
    "average team ages and average team salary.  To make this more\n",
    "interesting, let's say we're interested in looking at the\n",
    "degree of correlation of age with salary team by team,\n",
    "expecting that it will vary (some teams reward longevity\n",
    "moire consistently than others).\n",
    "\n",
    "Then we use our team grouping instance `gt` to look\n",
    "at both variables (while throwing in something we're pretty sure is\n",
    "unrelated as a kind of control)."
   ]
  },
  {
   "cell_type": "code",
   "execution_count": 34,
   "metadata": {},
   "outputs": [
    {
     "data": {
      "text/html": [
       "<div>\n",
       "<style scoped>\n",
       "    .dataframe tbody tr th:only-of-type {\n",
       "        vertical-align: middle;\n",
       "    }\n",
       "\n",
       "    .dataframe tbody tr th {\n",
       "        vertical-align: top;\n",
       "    }\n",
       "\n",
       "    .dataframe thead th {\n",
       "        text-align: right;\n",
       "    }\n",
       "</style>\n",
       "<table border=\"1\" class=\"dataframe\">\n",
       "  <thead>\n",
       "    <tr style=\"text-align: right;\">\n",
       "      <th></th>\n",
       "      <th>Age</th>\n",
       "      <th>Salary</th>\n",
       "      <th>Weight</th>\n",
       "    </tr>\n",
       "    <tr>\n",
       "      <th>Team</th>\n",
       "      <th></th>\n",
       "      <th></th>\n",
       "      <th></th>\n",
       "    </tr>\n",
       "  </thead>\n",
       "  <tbody>\n",
       "    <tr>\n",
       "      <th>Atlanta Hawks</th>\n",
       "      <td>28.200000</td>\n",
       "      <td>4.860197e+06</td>\n",
       "      <td>221.266667</td>\n",
       "    </tr>\n",
       "    <tr>\n",
       "      <th>Boston Celtics</th>\n",
       "      <td>24.733333</td>\n",
       "      <td>4.181505e+06</td>\n",
       "      <td>219.466667</td>\n",
       "    </tr>\n",
       "    <tr>\n",
       "      <th>Brooklyn Nets</th>\n",
       "      <td>25.600000</td>\n",
       "      <td>3.501898e+06</td>\n",
       "      <td>215.600000</td>\n",
       "    </tr>\n",
       "    <tr>\n",
       "      <th>Charlotte Hornets</th>\n",
       "      <td>26.133333</td>\n",
       "      <td>5.222728e+06</td>\n",
       "      <td>220.400000</td>\n",
       "    </tr>\n",
       "    <tr>\n",
       "      <th>Chicago Bulls</th>\n",
       "      <td>27.400000</td>\n",
       "      <td>5.785559e+06</td>\n",
       "      <td>218.933333</td>\n",
       "    </tr>\n",
       "  </tbody>\n",
       "</table>\n",
       "</div>"
      ],
      "text/plain": [
       "                         Age        Salary      Weight\n",
       "Team                                                  \n",
       "Atlanta Hawks      28.200000  4.860197e+06  221.266667\n",
       "Boston Celtics     24.733333  4.181505e+06  219.466667\n",
       "Brooklyn Nets      25.600000  3.501898e+06  215.600000\n",
       "Charlotte Hornets  26.133333  5.222728e+06  220.400000\n",
       "Chicago Bulls      27.400000  5.785559e+06  218.933333"
      ]
     },
     "execution_count": 34,
     "metadata": {},
     "output_type": "execute_result"
    }
   ],
   "source": [
    "mean_age_by_team = gt['Age'].mean()\n",
    "mean_salary_by_team = gt['Salary'].mean()\n",
    "mean_weight_by_team = gt['Weight'].mean()\n",
    "comp = pd.DataFrame(dict(Age=mean_age_by_team,\n",
    "                         Salary=mean_salary_by_team,\n",
    "                         Weight=mean_weight_by_team))\n",
    "comp[:5]"
   ]
  },
  {
   "cell_type": "markdown",
   "metadata": {},
   "source": [
    "And now it's quite easy to compute the correlations\n",
    "among mean Team Age,  mean Team Salary, and Mean Team Weight:"
   ]
  },
  {
   "cell_type": "code",
   "execution_count": 35,
   "metadata": {},
   "outputs": [
    {
     "data": {
      "text/html": [
       "<style type=\"text/css\">\n",
       "#T_a3485_row0_col0, #T_a3485_row1_col1, #T_a3485_row2_col2 {\n",
       "  background-color: #b40426;\n",
       "  color: #f1f1f1;\n",
       "}\n",
       "#T_a3485_row0_col1 {\n",
       "  background-color: #eed0c0;\n",
       "  color: #000000;\n",
       "}\n",
       "#T_a3485_row0_col2, #T_a3485_row1_col2, #T_a3485_row2_col0, #T_a3485_row2_col1 {\n",
       "  background-color: #3b4cc0;\n",
       "  color: #f1f1f1;\n",
       "}\n",
       "#T_a3485_row1_col0 {\n",
       "  background-color: #efcfbf;\n",
       "  color: #000000;\n",
       "}\n",
       "</style>\n",
       "<table id=\"T_a3485\">\n",
       "  <thead>\n",
       "    <tr>\n",
       "      <th class=\"blank level0\" >&nbsp;</th>\n",
       "      <th id=\"T_a3485_level0_col0\" class=\"col_heading level0 col0\" >Age</th>\n",
       "      <th id=\"T_a3485_level0_col1\" class=\"col_heading level0 col1\" >Salary</th>\n",
       "      <th id=\"T_a3485_level0_col2\" class=\"col_heading level0 col2\" >Weight</th>\n",
       "    </tr>\n",
       "  </thead>\n",
       "  <tbody>\n",
       "    <tr>\n",
       "      <th id=\"T_a3485_level0_row0\" class=\"row_heading level0 row0\" >Age</th>\n",
       "      <td id=\"T_a3485_row0_col0\" class=\"data row0 col0\" >1.000000</td>\n",
       "      <td id=\"T_a3485_row0_col1\" class=\"data row0 col1\" >0.716125</td>\n",
       "      <td id=\"T_a3485_row0_col2\" class=\"data row0 col2\" >0.326419</td>\n",
       "    </tr>\n",
       "    <tr>\n",
       "      <th id=\"T_a3485_level0_row1\" class=\"row_heading level0 row1\" >Salary</th>\n",
       "      <td id=\"T_a3485_row1_col0\" class=\"data row1 col0\" >0.716125</td>\n",
       "      <td id=\"T_a3485_row1_col1\" class=\"data row1 col1\" >1.000000</td>\n",
       "      <td id=\"T_a3485_row1_col2\" class=\"data row1 col2\" >0.327370</td>\n",
       "    </tr>\n",
       "    <tr>\n",
       "      <th id=\"T_a3485_level0_row2\" class=\"row_heading level0 row2\" >Weight</th>\n",
       "      <td id=\"T_a3485_row2_col0\" class=\"data row2 col0\" >0.326419</td>\n",
       "      <td id=\"T_a3485_row2_col1\" class=\"data row2 col1\" >0.327370</td>\n",
       "      <td id=\"T_a3485_row2_col2\" class=\"data row2 col2\" >1.000000</td>\n",
       "    </tr>\n",
       "  </tbody>\n",
       "</table>\n"
      ],
      "text/plain": [
       "<pandas.io.formats.style.Styler at 0x7ff09199bfa0>"
      ]
     },
     "execution_count": 35,
     "metadata": {},
     "output_type": "execute_result"
    }
   ],
   "source": [
    "#Uses pearsonr correlation\n",
    "comp_corr = comp.corr()\n",
    "#Add some color coding to highlight the strong correlations.\n",
    "comp_corr.style.background_gradient(cmap='coolwarm')"
   ]
  },
  {
   "cell_type": "markdown",
   "metadata": {},
   "source": [
    "The `DataFrame.corr()` method always produces a square NxN `DataFrame`.\n",
    "When there are more than two columns, all pairwise correlations are computed. \n",
    "\n",
    "If we were only interested in two variables (columns), it would be more use `Series.corr`\n",
    "and just compute a single scalar:"
   ]
  },
  {
   "cell_type": "code",
   "execution_count": 10,
   "metadata": {},
   "outputs": [
    {
     "data": {
      "text/plain": [
       "0.6398163039514194"
      ]
     },
     "execution_count": 10,
     "metadata": {},
     "output_type": "execute_result"
    }
   ],
   "source": [
    "comp['Age'].corr(comp['Salary'], method='kendall')"
   ]
  },
  {
   "cell_type": "markdown",
   "metadata": {},
   "source": [
    "Let's focus on the creation of the DataFrame `comp`, the last step before we computed\n",
    "the correlations.  In the present scenario, creating `comp` was just a means to an end.\n",
    "But the steps we took to create it illustrate a recurring pattern in Data Analysis."
   ]
  },
  {
   "cell_type": "markdown",
   "metadata": {},
   "source": [
    "Creating the `DataFrame` `comp` was step three of a three-step process:\n",
    "\n",
    "1.  Grouping by team (sometimes called **splitting**) \n",
    "\n",
    "    ```python\n",
    "    gt = nba_df.groupby('Team')\n",
    "    ```\n",
    "   \n",
    "2.  **Applying** a statistical aggregation function (`.mean(...)`)\n",
    "    \n",
    "    ```python\n",
    "    a.\n",
    "    mean_age_by_team = gt['Age'].mean()\n",
    "    ```\n",
    "    \n",
    "    ```python\n",
    "    b.\n",
    "    mean_salary_by_team = gt['Salary'].mean()\n",
    "    ```\n",
    "    \n",
    "    ```python\n",
    "    c.\n",
    "    mean_weight_by_team = gt['Weight'].mean()\n",
    "    ```\n",
    "    \n",
    "3.  **Combining** the results into a `DataFrame`\n",
    "\n",
    "    ```python\n",
    "    pd.DataFrame(dict(Age=mean_age_by_team,\n",
    "                      Salary=mean_salary_by_team,\n",
    "                      Weight=mean_weight_by_team))\n",
    "    ```\n",
    "    \n",
    "These three steps constitute what is called the **Split/Apply/Combine** strategy.  They arise often enough in Statistical Data Analysis to deserve\n",
    "packaging into a single function called ``pivot_table``. For example,\n",
    "to get the mean ages and salaries team by team, we do:"
   ]
  },
  {
   "cell_type": "code",
   "execution_count": 36,
   "metadata": {},
   "outputs": [
    {
     "data": {
      "text/html": [
       "<div>\n",
       "<style scoped>\n",
       "    .dataframe tbody tr th:only-of-type {\n",
       "        vertical-align: middle;\n",
       "    }\n",
       "\n",
       "    .dataframe tbody tr th {\n",
       "        vertical-align: top;\n",
       "    }\n",
       "\n",
       "    .dataframe thead th {\n",
       "        text-align: right;\n",
       "    }\n",
       "</style>\n",
       "<table border=\"1\" class=\"dataframe\">\n",
       "  <thead>\n",
       "    <tr style=\"text-align: right;\">\n",
       "      <th></th>\n",
       "      <th>Age</th>\n",
       "      <th>Salary</th>\n",
       "      <th>Weight</th>\n",
       "    </tr>\n",
       "    <tr>\n",
       "      <th>Team</th>\n",
       "      <th></th>\n",
       "      <th></th>\n",
       "      <th></th>\n",
       "    </tr>\n",
       "  </thead>\n",
       "  <tbody>\n",
       "    <tr>\n",
       "      <th>Atlanta Hawks</th>\n",
       "      <td>28.200000</td>\n",
       "      <td>4.860197e+06</td>\n",
       "      <td>221.266667</td>\n",
       "    </tr>\n",
       "    <tr>\n",
       "      <th>Boston Celtics</th>\n",
       "      <td>24.733333</td>\n",
       "      <td>4.181505e+06</td>\n",
       "      <td>219.466667</td>\n",
       "    </tr>\n",
       "    <tr>\n",
       "      <th>Brooklyn Nets</th>\n",
       "      <td>25.600000</td>\n",
       "      <td>3.501898e+06</td>\n",
       "      <td>215.600000</td>\n",
       "    </tr>\n",
       "    <tr>\n",
       "      <th>Charlotte Hornets</th>\n",
       "      <td>26.133333</td>\n",
       "      <td>5.222728e+06</td>\n",
       "      <td>220.400000</td>\n",
       "    </tr>\n",
       "    <tr>\n",
       "      <th>Chicago Bulls</th>\n",
       "      <td>27.400000</td>\n",
       "      <td>5.785559e+06</td>\n",
       "      <td>218.933333</td>\n",
       "    </tr>\n",
       "  </tbody>\n",
       "</table>\n",
       "</div>"
      ],
      "text/plain": [
       "                         Age        Salary      Weight\n",
       "Team                                                  \n",
       "Atlanta Hawks      28.200000  4.860197e+06  221.266667\n",
       "Boston Celtics     24.733333  4.181505e+06  219.466667\n",
       "Brooklyn Nets      25.600000  3.501898e+06  215.600000\n",
       "Charlotte Hornets  26.133333  5.222728e+06  220.400000\n",
       "Chicago Bulls      27.400000  5.785559e+06  218.933333"
      ]
     },
     "execution_count": 36,
     "metadata": {},
     "output_type": "execute_result"
    }
   ],
   "source": [
    "# Group the players into teams, take the mean age and salary for each time, \n",
    "# make a dataframe\n",
    "pt = pd.pivot_table(nba_df,index='Team', values=[\"Salary\",\"Age\",\"Weight\"],aggfunc='mean')\n",
    "pt[:5]"
   ]
  },
  {
   "cell_type": "markdown",
   "metadata": {},
   "source": [
    "Tnis **pivot table** `pt` is equivalent to `comp` and can equally\n",
    "well be used to compute the age/salary correlations:"
   ]
  },
  {
   "cell_type": "code",
   "execution_count": 37,
   "metadata": {},
   "outputs": [
    {
     "data": {
      "text/html": [
       "<style type=\"text/css\">\n",
       "#T_05f42_row0_col0, #T_05f42_row1_col1, #T_05f42_row2_col2 {\n",
       "  background-color: #b40426;\n",
       "  color: #f1f1f1;\n",
       "}\n",
       "#T_05f42_row0_col1 {\n",
       "  background-color: #eed0c0;\n",
       "  color: #000000;\n",
       "}\n",
       "#T_05f42_row0_col2, #T_05f42_row1_col2, #T_05f42_row2_col0, #T_05f42_row2_col1 {\n",
       "  background-color: #3b4cc0;\n",
       "  color: #f1f1f1;\n",
       "}\n",
       "#T_05f42_row1_col0 {\n",
       "  background-color: #efcfbf;\n",
       "  color: #000000;\n",
       "}\n",
       "</style>\n",
       "<table id=\"T_05f42\">\n",
       "  <thead>\n",
       "    <tr>\n",
       "      <th class=\"blank level0\" >&nbsp;</th>\n",
       "      <th id=\"T_05f42_level0_col0\" class=\"col_heading level0 col0\" >Age</th>\n",
       "      <th id=\"T_05f42_level0_col1\" class=\"col_heading level0 col1\" >Salary</th>\n",
       "      <th id=\"T_05f42_level0_col2\" class=\"col_heading level0 col2\" >Weight</th>\n",
       "    </tr>\n",
       "  </thead>\n",
       "  <tbody>\n",
       "    <tr>\n",
       "      <th id=\"T_05f42_level0_row0\" class=\"row_heading level0 row0\" >Age</th>\n",
       "      <td id=\"T_05f42_row0_col0\" class=\"data row0 col0\" >1.000000</td>\n",
       "      <td id=\"T_05f42_row0_col1\" class=\"data row0 col1\" >0.716125</td>\n",
       "      <td id=\"T_05f42_row0_col2\" class=\"data row0 col2\" >0.326419</td>\n",
       "    </tr>\n",
       "    <tr>\n",
       "      <th id=\"T_05f42_level0_row1\" class=\"row_heading level0 row1\" >Salary</th>\n",
       "      <td id=\"T_05f42_row1_col0\" class=\"data row1 col0\" >0.716125</td>\n",
       "      <td id=\"T_05f42_row1_col1\" class=\"data row1 col1\" >1.000000</td>\n",
       "      <td id=\"T_05f42_row1_col2\" class=\"data row1 col2\" >0.327370</td>\n",
       "    </tr>\n",
       "    <tr>\n",
       "      <th id=\"T_05f42_level0_row2\" class=\"row_heading level0 row2\" >Weight</th>\n",
       "      <td id=\"T_05f42_row2_col0\" class=\"data row2 col0\" >0.326419</td>\n",
       "      <td id=\"T_05f42_row2_col1\" class=\"data row2 col1\" >0.327370</td>\n",
       "      <td id=\"T_05f42_row2_col2\" class=\"data row2 col2\" >1.000000</td>\n",
       "    </tr>\n",
       "  </tbody>\n",
       "</table>\n"
      ],
      "text/plain": [
       "<pandas.io.formats.style.Styler at 0x7ff0b0a11360>"
      ]
     },
     "execution_count": 37,
     "metadata": {},
     "output_type": "execute_result"
    }
   ],
   "source": [
    "pt.corr().style.background_gradient(cmap='coolwarm')"
   ]
  },
  {
   "cell_type": "markdown",
   "metadata": {},
   "source": [
    "Ths is exactly the same `DataFrame` we saw before created in fewer steps."
   ]
  },
  {
   "cell_type": "markdown",
   "metadata": {},
   "source": [
    "We'll have quite a bit more to say about pivot tables in the\n",
    "second `pandas` notebook.  For now let's continue exploring\n",
    "the uses of grouping.\n",
    "\n",
    "There are two  motivations for `pandas` to provide users with \n",
    "direct acces to `groupby` instances.\n",
    "\n",
    "1.  A single `groupby` instance can support the analysis of multiple\n",
    "variables, possibly with different aggregation functions  (in our\n",
    "salart and age example we used mean twice).\n",
    "2.  Grouping can also be done using more than one variable.  When combined with\n",
    "aggregation functions, this naturally leads to what's called a **multi-level** index.\n",
    "3. A Group instance can be used for custo aggregation operations that go beyond the \n",
    "operations packaged by pandas."
   ]
  },
  {
   "cell_type": "markdown",
   "metadata": {},
   "source": [
    "We have already illustrated point 1. We will illustrate point 3 below.\n",
    "\n",
    "We now illustrate point 2 by grouping simultaneously by team and position:"
   ]
  },
  {
   "cell_type": "code",
   "execution_count": 3,
   "metadata": {},
   "outputs": [],
   "source": [
    "gtp = nba_df.groupby(['Team','Position'])"
   ]
  },
  {
   "cell_type": "code",
   "execution_count": 22,
   "metadata": {},
   "outputs": [
    {
     "data": {
      "text/plain": [
       "<pandas.core.groupby.generic.DataFrameGroupBy object at 0x7ff0a01faef0>"
      ]
     },
     "execution_count": 22,
     "metadata": {},
     "output_type": "execute_result"
    }
   ],
   "source": [
    "gtp"
   ]
  },
  {
   "cell_type": "markdown",
   "metadata": {},
   "source": [
    "All the things we did when grouping by one column we can do when grouping by two.\n",
    "For example, select a value column and apply an aggregation function:"
   ]
  },
  {
   "cell_type": "code",
   "execution_count": 4,
   "metadata": {},
   "outputs": [],
   "source": [
    "salary_ser  = gtp['Salary'].mean()"
   ]
  },
  {
   "cell_type": "markdown",
   "metadata": {},
   "source": [
    "This gets us a new Series, with a multi-level index (indexing by team and position):"
   ]
  },
  {
   "cell_type": "code",
   "execution_count": 28,
   "metadata": {},
   "outputs": [
    {
     "data": {
      "text/plain": [
       "pandas.core.series.Series"
      ]
     },
     "execution_count": 28,
     "metadata": {},
     "output_type": "execute_result"
    }
   ],
   "source": [
    "type(salary_ser)"
   ]
  },
  {
   "cell_type": "code",
   "execution_count": 29,
   "metadata": {},
   "outputs": [
    {
     "data": {
      "text/plain": [
       "Team                 Position\n",
       "Atlanta Hawks        C           7.585417e+06\n",
       "                     PF          5.988067e+06\n",
       "                     PG          4.881700e+06\n",
       "                     SF          3.000000e+06\n",
       "                     SG          2.607758e+06\n",
       "Boston Celtics       C           2.450465e+06\n",
       "                     PF          6.056987e+06\n",
       "                     PG          4.974652e+06\n",
       "                     SF          6.796117e+06\n",
       "                     SG          2.107997e+06\n",
       "Brooklyn Nets        C           1.031814e+07\n",
       "                     PF          3.576205e+06\n",
       "                     PG          2.915759e+06\n",
       "                     SG          1.473351e+06\n",
       "Charlotte Hornets    C           6.772240e+06\n",
       "                     PF          4.685770e+06\n",
       "                     PG          4.776152e+06\n",
       "                     SF          6.331404e+06\n",
       "                     SG          4.661406e+06\n",
       "Chicago Bulls        C           1.042438e+07\n",
       "                     PF          3.361007e+06\n",
       "                     PG          1.117153e+07\n",
       "                     SF          1.958160e+06\n",
       "                     SG          5.717549e+06\n",
       "Cleveland Cavaliers  C           6.828957e+06\n",
       "                     PF          1.394101e+07\n",
       "                     PG          6.551592e+06\n",
       "                     SF          1.195889e+07\n",
       "                     SG          3.761809e+06\n",
       "Name: Salary, dtype: float64"
      ]
     },
     "execution_count": 29,
     "metadata": {},
     "output_type": "execute_result"
    }
   ],
   "source": [
    "salary_ser.iloc[:29]"
   ]
  },
  {
   "cell_type": "markdown",
   "metadata": {},
   "source": [
    "Choosing a team gets us a `Series` with a single level index:"
   ]
  },
  {
   "cell_type": "code",
   "execution_count": 96,
   "metadata": {},
   "outputs": [
    {
     "data": {
      "text/plain": [
       "Position\n",
       "C     7.585417e+06\n",
       "PF    5.988067e+06\n",
       "PG    4.881700e+06\n",
       "SF    3.000000e+06\n",
       "SG    2.607758e+06\n",
       "Name: Salary, dtype: float64"
      ]
     },
     "execution_count": 96,
     "metadata": {},
     "output_type": "execute_result"
    }
   ],
   "source": [
    "salary_ser['Atlanta Hawks']"
   ]
  },
  {
   "cell_type": "markdown",
   "metadata": {},
   "source": [
    "To get one value, we do (parens optional but included for clarity)."
   ]
  },
  {
   "cell_type": "code",
   "execution_count": 97,
   "metadata": {},
   "outputs": [
    {
     "data": {
      "text/plain": [
       "7585416.666666667"
      ]
     },
     "execution_count": 97,
     "metadata": {},
     "output_type": "execute_result"
    }
   ],
   "source": [
    "salary_ser[('Atlanta Hawks','C')]"
   ]
  },
  {
   "cell_type": "markdown",
   "metadata": {},
   "source": [
    "Summarizing:  We grouped the `nba_df` rows by team and position \n",
    "and selected one **value column** from the grouping to apply a \n",
    "statistical **aggregation function** (`.mean()`) to, resulting in a `Series`\n",
    "indexed by two levels \n",
    "that gave us the mean values in the value column for each group.\n",
    "\n",
    "That is:"
   ]
  },
  {
   "cell_type": "code",
   "execution_count": 98,
   "metadata": {},
   "outputs": [
    {
     "data": {
      "text/plain": [
       "Team            Position\n",
       "Atlanta Hawks   C           7.585417e+06\n",
       "                PF          5.988067e+06\n",
       "                PG          4.881700e+06\n",
       "                SF          3.000000e+06\n",
       "                SG          2.607758e+06\n",
       "Boston Celtics  C           2.450465e+06\n",
       "Name: Salary, dtype: float64"
      ]
     },
     "execution_count": 98,
     "metadata": {},
     "output_type": "execute_result"
    }
   ],
   "source": [
    "nba_df.groupby(['Team','Position'])['Salary'].mean()[:6]"
   ]
  },
  {
   "cell_type": "markdown",
   "metadata": {},
   "source": [
    "And of course all of the above steps can be combined into one pivot table\n",
    "operation, the main difference being that we get\n",
    "a `DataFrame` with one column rather than a `Series`."
   ]
  },
  {
   "cell_type": "code",
   "execution_count": 8,
   "metadata": {},
   "outputs": [
    {
     "data": {
      "text/html": [
       "<div>\n",
       "<style scoped>\n",
       "    .dataframe tbody tr th:only-of-type {\n",
       "        vertical-align: middle;\n",
       "    }\n",
       "\n",
       "    .dataframe tbody tr th {\n",
       "        vertical-align: top;\n",
       "    }\n",
       "\n",
       "    .dataframe thead th {\n",
       "        text-align: right;\n",
       "    }\n",
       "</style>\n",
       "<table border=\"1\" class=\"dataframe\">\n",
       "  <thead>\n",
       "    <tr style=\"text-align: right;\">\n",
       "      <th></th>\n",
       "      <th></th>\n",
       "      <th>Salary</th>\n",
       "    </tr>\n",
       "    <tr>\n",
       "      <th>Team</th>\n",
       "      <th>Position</th>\n",
       "      <th></th>\n",
       "    </tr>\n",
       "  </thead>\n",
       "  <tbody>\n",
       "    <tr>\n",
       "      <th rowspan=\"5\" valign=\"top\">Atlanta Hawks</th>\n",
       "      <th>C</th>\n",
       "      <td>7.585417e+06</td>\n",
       "    </tr>\n",
       "    <tr>\n",
       "      <th>PF</th>\n",
       "      <td>5.988067e+06</td>\n",
       "    </tr>\n",
       "    <tr>\n",
       "      <th>PG</th>\n",
       "      <td>4.881700e+06</td>\n",
       "    </tr>\n",
       "    <tr>\n",
       "      <th>SF</th>\n",
       "      <td>3.000000e+06</td>\n",
       "    </tr>\n",
       "    <tr>\n",
       "      <th>SG</th>\n",
       "      <td>2.607758e+06</td>\n",
       "    </tr>\n",
       "    <tr>\n",
       "      <th>...</th>\n",
       "      <th>...</th>\n",
       "      <td>...</td>\n",
       "    </tr>\n",
       "    <tr>\n",
       "      <th rowspan=\"5\" valign=\"top\">Washington Wizards</th>\n",
       "      <th>C</th>\n",
       "      <td>8.163476e+06</td>\n",
       "    </tr>\n",
       "    <tr>\n",
       "      <th>PF</th>\n",
       "      <td>5.650000e+06</td>\n",
       "    </tr>\n",
       "    <tr>\n",
       "      <th>PG</th>\n",
       "      <td>9.011208e+06</td>\n",
       "    </tr>\n",
       "    <tr>\n",
       "      <th>SF</th>\n",
       "      <td>2.789700e+06</td>\n",
       "    </tr>\n",
       "    <tr>\n",
       "      <th>SG</th>\n",
       "      <td>2.839248e+06</td>\n",
       "    </tr>\n",
       "  </tbody>\n",
       "</table>\n",
       "<p>149 rows × 1 columns</p>\n",
       "</div>"
      ],
      "text/plain": [
       "                                   Salary\n",
       "Team               Position              \n",
       "Atlanta Hawks      C         7.585417e+06\n",
       "                   PF        5.988067e+06\n",
       "                   PG        4.881700e+06\n",
       "                   SF        3.000000e+06\n",
       "                   SG        2.607758e+06\n",
       "...                                   ...\n",
       "Washington Wizards C         8.163476e+06\n",
       "                   PF        5.650000e+06\n",
       "                   PG        9.011208e+06\n",
       "                   SF        2.789700e+06\n",
       "                   SG        2.839248e+06\n",
       "\n",
       "[149 rows x 1 columns]"
      ]
     },
     "execution_count": 8,
     "metadata": {},
     "output_type": "execute_result"
    }
   ],
   "source": [
    "salary_df = nba_df.pivot_table(values='Salary', index=['Team','Position'],aggfunc='mean')\n",
    "salary_df"
   ]
  },
  {
   "cell_type": "code",
   "execution_count": 52,
   "metadata": {},
   "outputs": [
    {
     "data": {
      "text/html": [
       "<div>\n",
       "<style scoped>\n",
       "    .dataframe tbody tr th:only-of-type {\n",
       "        vertical-align: middle;\n",
       "    }\n",
       "\n",
       "    .dataframe tbody tr th {\n",
       "        vertical-align: top;\n",
       "    }\n",
       "\n",
       "    .dataframe thead th {\n",
       "        text-align: right;\n",
       "    }\n",
       "</style>\n",
       "<table border=\"1\" class=\"dataframe\">\n",
       "  <thead>\n",
       "    <tr style=\"text-align: right;\">\n",
       "      <th></th>\n",
       "      <th>Salary</th>\n",
       "    </tr>\n",
       "    <tr>\n",
       "      <th>Position</th>\n",
       "      <th></th>\n",
       "    </tr>\n",
       "  </thead>\n",
       "  <tbody>\n",
       "    <tr>\n",
       "      <th>C</th>\n",
       "      <td>2.450465e+06</td>\n",
       "    </tr>\n",
       "    <tr>\n",
       "      <th>PF</th>\n",
       "      <td>6.056987e+06</td>\n",
       "    </tr>\n",
       "    <tr>\n",
       "      <th>PG</th>\n",
       "      <td>4.974652e+06</td>\n",
       "    </tr>\n",
       "    <tr>\n",
       "      <th>SF</th>\n",
       "      <td>6.796117e+06</td>\n",
       "    </tr>\n",
       "    <tr>\n",
       "      <th>SG</th>\n",
       "      <td>2.107997e+06</td>\n",
       "    </tr>\n",
       "  </tbody>\n",
       "</table>\n",
       "</div>"
      ],
      "text/plain": [
       "                Salary\n",
       "Position              \n",
       "C         2.450465e+06\n",
       "PF        6.056987e+06\n",
       "PG        4.974652e+06\n",
       "SF        6.796117e+06\n",
       "SG        2.107997e+06"
      ]
     },
     "execution_count": 52,
     "metadata": {},
     "output_type": "execute_result"
    }
   ],
   "source": [
    "salary_df.loc['Boston Celtics']"
   ]
  },
  {
   "cell_type": "code",
   "execution_count": 72,
   "metadata": {},
   "outputs": [
    {
     "data": {
      "text/plain": [
       "2450465.0"
      ]
     },
     "execution_count": 72,
     "metadata": {},
     "output_type": "execute_result"
    }
   ],
   "source": [
    "salary_df.loc['Boston Celtics','C']"
   ]
  },
  {
   "cell_type": "markdown",
   "metadata": {},
   "source": [
    "Sample Interpretation: The Celtics pay their centers an average of 2.4 Million."
   ]
  },
  {
   "cell_type": "markdown",
   "metadata": {},
   "source": [
    "Now we can do things like the following.\n",
    "\n",
    "Compare Golden State salaries  with Boston salaries position by position."
   ]
  },
  {
   "cell_type": "code",
   "execution_count": 100,
   "metadata": {
    "scrolled": true
   },
   "outputs": [
    {
     "data": {
      "text/html": [
       "<div>\n",
       "<style scoped>\n",
       "    .dataframe tbody tr th:only-of-type {\n",
       "        vertical-align: middle;\n",
       "    }\n",
       "\n",
       "    .dataframe tbody tr th {\n",
       "        vertical-align: top;\n",
       "    }\n",
       "\n",
       "    .dataframe thead th {\n",
       "        text-align: right;\n",
       "    }\n",
       "</style>\n",
       "<table border=\"1\" class=\"dataframe\">\n",
       "  <thead>\n",
       "    <tr style=\"text-align: right;\">\n",
       "      <th></th>\n",
       "      <th>Salary</th>\n",
       "    </tr>\n",
       "    <tr>\n",
       "      <th>Position</th>\n",
       "      <th></th>\n",
       "    </tr>\n",
       "  </thead>\n",
       "  <tbody>\n",
       "    <tr>\n",
       "      <th>C</th>\n",
       "      <td>2.450465e+06</td>\n",
       "    </tr>\n",
       "    <tr>\n",
       "      <th>PF</th>\n",
       "      <td>6.056987e+06</td>\n",
       "    </tr>\n",
       "    <tr>\n",
       "      <th>PG</th>\n",
       "      <td>4.974652e+06</td>\n",
       "    </tr>\n",
       "    <tr>\n",
       "      <th>SF</th>\n",
       "      <td>6.796117e+06</td>\n",
       "    </tr>\n",
       "    <tr>\n",
       "      <th>SG</th>\n",
       "      <td>2.107997e+06</td>\n",
       "    </tr>\n",
       "  </tbody>\n",
       "</table>\n",
       "</div>"
      ],
      "text/plain": [
       "                Salary\n",
       "Position              \n",
       "C         2.450465e+06\n",
       "PF        6.056987e+06\n",
       "PG        4.974652e+06\n",
       "SF        6.796117e+06\n",
       "SG        2.107997e+06"
      ]
     },
     "execution_count": 100,
     "metadata": {},
     "output_type": "execute_result"
    }
   ],
   "source": [
    "salary_df.loc['Boston Celtics']"
   ]
  },
  {
   "cell_type": "code",
   "execution_count": 101,
   "metadata": {
    "scrolled": false
   },
   "outputs": [
    {
     "data": {
      "text/html": [
       "<div>\n",
       "<style scoped>\n",
       "    .dataframe tbody tr th:only-of-type {\n",
       "        vertical-align: middle;\n",
       "    }\n",
       "\n",
       "    .dataframe tbody tr th {\n",
       "        vertical-align: top;\n",
       "    }\n",
       "\n",
       "    .dataframe thead th {\n",
       "        text-align: right;\n",
       "    }\n",
       "</style>\n",
       "<table border=\"1\" class=\"dataframe\">\n",
       "  <thead>\n",
       "    <tr style=\"text-align: right;\">\n",
       "      <th></th>\n",
       "      <th>Salary</th>\n",
       "    </tr>\n",
       "    <tr>\n",
       "      <th>Position</th>\n",
       "      <th></th>\n",
       "    </tr>\n",
       "  </thead>\n",
       "  <tbody>\n",
       "    <tr>\n",
       "      <th>C</th>\n",
       "      <td>6.541249e+06</td>\n",
       "    </tr>\n",
       "    <tr>\n",
       "      <th>PF</th>\n",
       "      <td>7.275312e+06</td>\n",
       "    </tr>\n",
       "    <tr>\n",
       "      <th>PG</th>\n",
       "      <td>8.457256e+06</td>\n",
       "    </tr>\n",
       "    <tr>\n",
       "      <th>SF</th>\n",
       "      <td>3.766367e+06</td>\n",
       "    </tr>\n",
       "    <tr>\n",
       "      <th>SG</th>\n",
       "      <td>6.316092e+06</td>\n",
       "    </tr>\n",
       "  </tbody>\n",
       "</table>\n",
       "</div>"
      ],
      "text/plain": [
       "                Salary\n",
       "Position              \n",
       "C         6.541249e+06\n",
       "PF        7.275312e+06\n",
       "PG        8.457256e+06\n",
       "SF        3.766367e+06\n",
       "SG        6.316092e+06"
      ]
     },
     "execution_count": 101,
     "metadata": {},
     "output_type": "execute_result"
    }
   ],
   "source": [
    "salary_df.loc['Golden State Warriors']"
   ]
  },
  {
   "cell_type": "code",
   "execution_count": 102,
   "metadata": {},
   "outputs": [
    {
     "data": {
      "text/html": [
       "<div>\n",
       "<style scoped>\n",
       "    .dataframe tbody tr th:only-of-type {\n",
       "        vertical-align: middle;\n",
       "    }\n",
       "\n",
       "    .dataframe tbody tr th {\n",
       "        vertical-align: top;\n",
       "    }\n",
       "\n",
       "    .dataframe thead th {\n",
       "        text-align: right;\n",
       "    }\n",
       "</style>\n",
       "<table border=\"1\" class=\"dataframe\">\n",
       "  <thead>\n",
       "    <tr style=\"text-align: right;\">\n",
       "      <th></th>\n",
       "      <th>Salary</th>\n",
       "    </tr>\n",
       "    <tr>\n",
       "      <th>Position</th>\n",
       "      <th></th>\n",
       "    </tr>\n",
       "  </thead>\n",
       "  <tbody>\n",
       "    <tr>\n",
       "      <th>C</th>\n",
       "      <td>True</td>\n",
       "    </tr>\n",
       "    <tr>\n",
       "      <th>PF</th>\n",
       "      <td>True</td>\n",
       "    </tr>\n",
       "    <tr>\n",
       "      <th>PG</th>\n",
       "      <td>True</td>\n",
       "    </tr>\n",
       "    <tr>\n",
       "      <th>SF</th>\n",
       "      <td>False</td>\n",
       "    </tr>\n",
       "    <tr>\n",
       "      <th>SG</th>\n",
       "      <td>True</td>\n",
       "    </tr>\n",
       "  </tbody>\n",
       "</table>\n",
       "</div>"
      ],
      "text/plain": [
       "          Salary\n",
       "Position        \n",
       "C           True\n",
       "PF          True\n",
       "PG          True\n",
       "SF         False\n",
       "SG          True"
      ]
     },
     "execution_count": 102,
     "metadata": {},
     "output_type": "execute_result"
    }
   ],
   "source": [
    "salary_df.loc['Golden State Warriors'] > salary_df.loc['Boston Celtics']"
   ]
  },
  {
   "cell_type": "markdown",
   "metadata": {},
   "source": [
    "The Warriors pay more at every position but small forward (SF)."
   ]
  },
  {
   "cell_type": "markdown",
   "metadata": {},
   "source": [
    "Each of these is a Series so in theory we can take the mean again:"
   ]
  },
  {
   "cell_type": "code",
   "execution_count": 6,
   "metadata": {},
   "outputs": [
    {
     "name": "stdout",
     "output_type": "stream",
     "text": [
      "4,477,243.37\n",
      "6,471,255.35\n"
     ]
    }
   ],
   "source": [
    "salary_df = gtp['Salary'].mean()\n",
    "print(f'{salary_df.loc[\"Boston Celtics\"].mean():6,.2f}')\n",
    "print(f'{salary_df.loc[\"Golden State Warriors\"].mean():6,.2f}')"
   ]
  },
  {
   "cell_type": "markdown",
   "metadata": {},
   "source": [
    "But these numbers have a somewhat strange interpretation.\n",
    "\n",
    "In order to get the right interpretation of the above numbers,\n",
    "think about why the following numbers aren't the same."
   ]
  },
  {
   "cell_type": "code",
   "execution_count": 72,
   "metadata": {},
   "outputs": [
    {
     "name": "stdout",
     "output_type": "stream",
     "text": [
      "4,181,504.86\n",
      "5,924,599.80\n"
     ]
    }
   ],
   "source": [
    "salary_means = gt['Salary'].mean()\n",
    "print(f'{salary_means.loc[\"Boston Celtics\"].mean():6,.2f}')\n",
    "print(f'{salary_means.loc[\"Golden State Warriors\"].mean():6,.2f}')"
   ]
  },
  {
   "cell_type": "markdown",
   "metadata": {},
   "source": [
    "#### Working with multi-indexing (.xs(...), .unstack(...),  .stack(...))"
   ]
  },
  {
   "cell_type": "markdown",
   "metadata": {},
   "source": [
    "We review what multi-indexing does."
   ]
  },
  {
   "cell_type": "code",
   "execution_count": 16,
   "metadata": {},
   "outputs": [
    {
     "data": {
      "text/html": [
       "<div>\n",
       "<style scoped>\n",
       "    .dataframe tbody tr th:only-of-type {\n",
       "        vertical-align: middle;\n",
       "    }\n",
       "\n",
       "    .dataframe tbody tr th {\n",
       "        vertical-align: top;\n",
       "    }\n",
       "\n",
       "    .dataframe thead th {\n",
       "        text-align: right;\n",
       "    }\n",
       "</style>\n",
       "<table border=\"1\" class=\"dataframe\">\n",
       "  <thead>\n",
       "    <tr style=\"text-align: right;\">\n",
       "      <th></th>\n",
       "      <th></th>\n",
       "      <th>Salary</th>\n",
       "    </tr>\n",
       "    <tr>\n",
       "      <th>Team</th>\n",
       "      <th>Position</th>\n",
       "      <th></th>\n",
       "    </tr>\n",
       "  </thead>\n",
       "  <tbody>\n",
       "    <tr>\n",
       "      <th rowspan=\"5\" valign=\"top\">Atlanta Hawks</th>\n",
       "      <th>C</th>\n",
       "      <td>7.585417e+06</td>\n",
       "    </tr>\n",
       "    <tr>\n",
       "      <th>PF</th>\n",
       "      <td>5.988067e+06</td>\n",
       "    </tr>\n",
       "    <tr>\n",
       "      <th>PG</th>\n",
       "      <td>4.881700e+06</td>\n",
       "    </tr>\n",
       "    <tr>\n",
       "      <th>SF</th>\n",
       "      <td>3.000000e+06</td>\n",
       "    </tr>\n",
       "    <tr>\n",
       "      <th>SG</th>\n",
       "      <td>2.607758e+06</td>\n",
       "    </tr>\n",
       "    <tr>\n",
       "      <th>...</th>\n",
       "      <th>...</th>\n",
       "      <td>...</td>\n",
       "    </tr>\n",
       "    <tr>\n",
       "      <th rowspan=\"5\" valign=\"top\">Washington Wizards</th>\n",
       "      <th>C</th>\n",
       "      <td>8.163476e+06</td>\n",
       "    </tr>\n",
       "    <tr>\n",
       "      <th>PF</th>\n",
       "      <td>5.650000e+06</td>\n",
       "    </tr>\n",
       "    <tr>\n",
       "      <th>PG</th>\n",
       "      <td>9.011208e+06</td>\n",
       "    </tr>\n",
       "    <tr>\n",
       "      <th>SF</th>\n",
       "      <td>2.789700e+06</td>\n",
       "    </tr>\n",
       "    <tr>\n",
       "      <th>SG</th>\n",
       "      <td>2.839248e+06</td>\n",
       "    </tr>\n",
       "  </tbody>\n",
       "</table>\n",
       "<p>149 rows × 1 columns</p>\n",
       "</div>"
      ],
      "text/plain": [
       "                                   Salary\n",
       "Team               Position              \n",
       "Atlanta Hawks      C         7.585417e+06\n",
       "                   PF        5.988067e+06\n",
       "                   PG        4.881700e+06\n",
       "                   SF        3.000000e+06\n",
       "                   SG        2.607758e+06\n",
       "...                                   ...\n",
       "Washington Wizards C         8.163476e+06\n",
       "                   PF        5.650000e+06\n",
       "                   PG        9.011208e+06\n",
       "                   SF        2.789700e+06\n",
       "                   SG        2.839248e+06\n",
       "\n",
       "[149 rows x 1 columns]"
      ]
     },
     "execution_count": 16,
     "metadata": {},
     "output_type": "execute_result"
    }
   ],
   "source": [
    "salary_df"
   ]
  },
  {
   "cell_type": "markdown",
   "metadata": {},
   "source": [
    "This way of organizing the data makes it easy to look at the mean salaries for\n",
    "any given team:"
   ]
  },
  {
   "cell_type": "code",
   "execution_count": 17,
   "metadata": {},
   "outputs": [
    {
     "data": {
      "text/html": [
       "<div>\n",
       "<style scoped>\n",
       "    .dataframe tbody tr th:only-of-type {\n",
       "        vertical-align: middle;\n",
       "    }\n",
       "\n",
       "    .dataframe tbody tr th {\n",
       "        vertical-align: top;\n",
       "    }\n",
       "\n",
       "    .dataframe thead th {\n",
       "        text-align: right;\n",
       "    }\n",
       "</style>\n",
       "<table border=\"1\" class=\"dataframe\">\n",
       "  <thead>\n",
       "    <tr style=\"text-align: right;\">\n",
       "      <th></th>\n",
       "      <th>Salary</th>\n",
       "    </tr>\n",
       "    <tr>\n",
       "      <th>Position</th>\n",
       "      <th></th>\n",
       "    </tr>\n",
       "  </thead>\n",
       "  <tbody>\n",
       "    <tr>\n",
       "      <th>C</th>\n",
       "      <td>7.585417e+06</td>\n",
       "    </tr>\n",
       "    <tr>\n",
       "      <th>PF</th>\n",
       "      <td>5.988067e+06</td>\n",
       "    </tr>\n",
       "    <tr>\n",
       "      <th>PG</th>\n",
       "      <td>4.881700e+06</td>\n",
       "    </tr>\n",
       "    <tr>\n",
       "      <th>SF</th>\n",
       "      <td>3.000000e+06</td>\n",
       "    </tr>\n",
       "    <tr>\n",
       "      <th>SG</th>\n",
       "      <td>2.607758e+06</td>\n",
       "    </tr>\n",
       "  </tbody>\n",
       "</table>\n",
       "</div>"
      ],
      "text/plain": [
       "                Salary\n",
       "Position              \n",
       "C         7.585417e+06\n",
       "PF        5.988067e+06\n",
       "PG        4.881700e+06\n",
       "SF        3.000000e+06\n",
       "SG        2.607758e+06"
      ]
     },
     "execution_count": 17,
     "metadata": {},
     "output_type": "execute_result"
    }
   ],
   "source": [
    "salary_df.loc['Atlanta Hawks']"
   ]
  },
  {
   "cell_type": "markdown",
   "metadata": {},
   "source": [
    "Doing the analagous selection with a player position is more complicated, because player positions\n",
    "are at the lwoer level (level 1) of the multilevel index.  "
   ]
  },
  {
   "cell_type": "code",
   "execution_count": null,
   "metadata": {},
   "outputs": [],
   "source": [
    "#KeyErrors (inner index level cant be accessed first)\n",
    "#salary_df.loc['C']"
   ]
  },
  {
   "cell_type": "markdown",
   "metadata": {},
   "source": [
    "However pandas does provide a way to do cross-sections defined by lower levels in a multilevel\n",
    "index.  Here are the team-by-team mean salaries for Centers.  Note that levels have names,\n",
    "in this case inherited from the columns used to create the levels, and the level being used\n",
    "for the cross-section is being specified by its name `level=\"Position\"`; `level=1` is equivalent.\n"
   ]
  },
  {
   "cell_type": "code",
   "execution_count": 16,
   "metadata": {},
   "outputs": [
    {
     "data": {
      "text/plain": [
       "Team\n",
       "Atlanta Hawks        7.585417e+06\n",
       "Boston Celtics       2.450465e+06\n",
       "Brooklyn Nets        1.031814e+07\n",
       "Charlotte Hornets    6.772240e+06\n",
       "Chicago Bulls        1.042438e+07\n",
       "Name: Salary, dtype: float64"
      ]
     },
     "execution_count": 16,
     "metadata": {},
     "output_type": "execute_result"
    }
   ],
   "source": [
    "# salary_df.xs(\"C\", level=1)[:5] is equivalent\n",
    "salary_df.xs(\"C\", level=\"Position\")[:5]"
   ]
  },
  {
   "cell_type": "markdown",
   "metadata": {},
   "source": [
    "An alternative to using `.xs()` is to swap the outer and inner levels:"
   ]
  },
  {
   "cell_type": "code",
   "execution_count": 17,
   "metadata": {},
   "outputs": [
    {
     "data": {
      "text/plain": [
       "Team\n",
       "Atlanta Hawks        7.585417e+06\n",
       "Boston Celtics       2.450465e+06\n",
       "Brooklyn Nets        1.031814e+07\n",
       "Charlotte Hornets    6.772240e+06\n",
       "Chicago Bulls        1.042438e+07\n",
       "Name: Salary, dtype: float64"
      ]
     },
     "execution_count": 17,
     "metadata": {},
     "output_type": "execute_result"
    }
   ],
   "source": [
    "# salary_df.swaplevel(0, 1).loc['C'][:5] is equivalent\n",
    "salary_df.swaplevel(\"Team\", \"Position\").loc['C'][:5]"
   ]
  },
  {
   "cell_type": "markdown",
   "metadata": {},
   "source": [
    "Now we can also, if we desire, change our minds about having a multi-index.\n",
    "\n",
    "The relevant method is `unstack`.  Here, we specify -1 (innermost level).  The change is not earthshaking.  Now, instead\n",
    "of multi-level index, we have multi level columns.  No information\n",
    "has been gained or lost."
   ]
  },
  {
   "cell_type": "code",
   "execution_count": 21,
   "metadata": {},
   "outputs": [
    {
     "data": {
      "text/html": [
       "<div>\n",
       "<style scoped>\n",
       "    .dataframe tbody tr th:only-of-type {\n",
       "        vertical-align: middle;\n",
       "    }\n",
       "\n",
       "    .dataframe tbody tr th {\n",
       "        vertical-align: top;\n",
       "    }\n",
       "\n",
       "    .dataframe thead th {\n",
       "        text-align: right;\n",
       "    }\n",
       "</style>\n",
       "<table border=\"1\" class=\"dataframe\">\n",
       "  <thead>\n",
       "    <tr style=\"text-align: right;\">\n",
       "      <th>Position</th>\n",
       "      <th>C</th>\n",
       "      <th>PF</th>\n",
       "      <th>PG</th>\n",
       "      <th>SF</th>\n",
       "      <th>SG</th>\n",
       "    </tr>\n",
       "    <tr>\n",
       "      <th>Team</th>\n",
       "      <th></th>\n",
       "      <th></th>\n",
       "      <th></th>\n",
       "      <th></th>\n",
       "      <th></th>\n",
       "    </tr>\n",
       "  </thead>\n",
       "  <tbody>\n",
       "    <tr>\n",
       "      <th>Atlanta Hawks</th>\n",
       "      <td>7.585417e+06</td>\n",
       "      <td>5.988067e+06</td>\n",
       "      <td>4.881700e+06</td>\n",
       "      <td>3000000.0</td>\n",
       "      <td>2.607758e+06</td>\n",
       "    </tr>\n",
       "    <tr>\n",
       "      <th>Boston Celtics</th>\n",
       "      <td>2.450465e+06</td>\n",
       "      <td>6.056987e+06</td>\n",
       "      <td>4.974652e+06</td>\n",
       "      <td>6796117.0</td>\n",
       "      <td>2.107997e+06</td>\n",
       "    </tr>\n",
       "    <tr>\n",
       "      <th>Brooklyn Nets</th>\n",
       "      <td>1.031814e+07</td>\n",
       "      <td>3.576205e+06</td>\n",
       "      <td>2.915759e+06</td>\n",
       "      <td>NaN</td>\n",
       "      <td>1.473351e+06</td>\n",
       "    </tr>\n",
       "    <tr>\n",
       "      <th>Charlotte Hornets</th>\n",
       "      <td>6.772240e+06</td>\n",
       "      <td>4.685770e+06</td>\n",
       "      <td>4.776152e+06</td>\n",
       "      <td>6331404.0</td>\n",
       "      <td>4.661406e+06</td>\n",
       "    </tr>\n",
       "    <tr>\n",
       "      <th>Chicago Bulls</th>\n",
       "      <td>1.042438e+07</td>\n",
       "      <td>3.361007e+06</td>\n",
       "      <td>1.117153e+07</td>\n",
       "      <td>1958160.0</td>\n",
       "      <td>5.717549e+06</td>\n",
       "    </tr>\n",
       "    <tr>\n",
       "      <th>Cleveland Cavaliers</th>\n",
       "      <td>6.828957e+06</td>\n",
       "      <td>1.394101e+07</td>\n",
       "      <td>6.551592e+06</td>\n",
       "      <td>11958888.0</td>\n",
       "      <td>3.761809e+06</td>\n",
       "    </tr>\n",
       "  </tbody>\n",
       "</table>\n",
       "</div>"
      ],
      "text/plain": [
       "Position                        C            PF            PG          SF  \\\n",
       "Team                                                                        \n",
       "Atlanta Hawks        7.585417e+06  5.988067e+06  4.881700e+06   3000000.0   \n",
       "Boston Celtics       2.450465e+06  6.056987e+06  4.974652e+06   6796117.0   \n",
       "Brooklyn Nets        1.031814e+07  3.576205e+06  2.915759e+06         NaN   \n",
       "Charlotte Hornets    6.772240e+06  4.685770e+06  4.776152e+06   6331404.0   \n",
       "Chicago Bulls        1.042438e+07  3.361007e+06  1.117153e+07   1958160.0   \n",
       "Cleveland Cavaliers  6.828957e+06  1.394101e+07  6.551592e+06  11958888.0   \n",
       "\n",
       "Position                       SG  \n",
       "Team                               \n",
       "Atlanta Hawks        2.607758e+06  \n",
       "Boston Celtics       2.107997e+06  \n",
       "Brooklyn Nets        1.473351e+06  \n",
       "Charlotte Hornets    4.661406e+06  \n",
       "Chicago Bulls        5.717549e+06  \n",
       "Cleveland Cavaliers  3.761809e+06  "
      ]
     },
     "execution_count": 21,
     "metadata": {},
     "output_type": "execute_result"
    }
   ],
   "source": [
    "salary_df.unstack(level=\"Position\")[:6]"
   ]
  },
  {
   "cell_type": "code",
   "execution_count": 64,
   "metadata": {},
   "outputs": [
    {
     "data": {
      "text/html": [
       "<div>\n",
       "<style scoped>\n",
       "    .dataframe tbody tr th:only-of-type {\n",
       "        vertical-align: middle;\n",
       "    }\n",
       "\n",
       "    .dataframe tbody tr th {\n",
       "        vertical-align: top;\n",
       "    }\n",
       "\n",
       "    .dataframe thead tr th {\n",
       "        text-align: left;\n",
       "    }\n",
       "\n",
       "    .dataframe thead tr:last-of-type th {\n",
       "        text-align: right;\n",
       "    }\n",
       "</style>\n",
       "<table border=\"1\" class=\"dataframe\">\n",
       "  <thead>\n",
       "    <tr>\n",
       "      <th></th>\n",
       "      <th colspan=\"5\" halign=\"left\">Salary</th>\n",
       "    </tr>\n",
       "    <tr>\n",
       "      <th>Position</th>\n",
       "      <th>C</th>\n",
       "      <th>PF</th>\n",
       "      <th>PG</th>\n",
       "      <th>SF</th>\n",
       "      <th>SG</th>\n",
       "    </tr>\n",
       "    <tr>\n",
       "      <th>Team</th>\n",
       "      <th></th>\n",
       "      <th></th>\n",
       "      <th></th>\n",
       "      <th></th>\n",
       "      <th></th>\n",
       "    </tr>\n",
       "  </thead>\n",
       "  <tbody>\n",
       "    <tr>\n",
       "      <th>Atlanta Hawks</th>\n",
       "      <td>7.585417e+06</td>\n",
       "      <td>5.988067e+06</td>\n",
       "      <td>4.881700e+06</td>\n",
       "      <td>3000000.0</td>\n",
       "      <td>2.607758e+06</td>\n",
       "    </tr>\n",
       "    <tr>\n",
       "      <th>Boston Celtics</th>\n",
       "      <td>2.450465e+06</td>\n",
       "      <td>6.056987e+06</td>\n",
       "      <td>4.974652e+06</td>\n",
       "      <td>6796117.0</td>\n",
       "      <td>2.107997e+06</td>\n",
       "    </tr>\n",
       "    <tr>\n",
       "      <th>Brooklyn Nets</th>\n",
       "      <td>1.031814e+07</td>\n",
       "      <td>3.576205e+06</td>\n",
       "      <td>2.915759e+06</td>\n",
       "      <td>NaN</td>\n",
       "      <td>1.473351e+06</td>\n",
       "    </tr>\n",
       "    <tr>\n",
       "      <th>Charlotte Hornets</th>\n",
       "      <td>6.772240e+06</td>\n",
       "      <td>4.685770e+06</td>\n",
       "      <td>4.776152e+06</td>\n",
       "      <td>6331404.0</td>\n",
       "      <td>4.661406e+06</td>\n",
       "    </tr>\n",
       "    <tr>\n",
       "      <th>Chicago Bulls</th>\n",
       "      <td>1.042438e+07</td>\n",
       "      <td>3.361007e+06</td>\n",
       "      <td>1.117153e+07</td>\n",
       "      <td>1958160.0</td>\n",
       "      <td>5.717549e+06</td>\n",
       "    </tr>\n",
       "    <tr>\n",
       "      <th>Cleveland Cavaliers</th>\n",
       "      <td>6.828957e+06</td>\n",
       "      <td>1.394101e+07</td>\n",
       "      <td>6.551592e+06</td>\n",
       "      <td>11958888.0</td>\n",
       "      <td>3.761809e+06</td>\n",
       "    </tr>\n",
       "  </tbody>\n",
       "</table>\n",
       "</div>"
      ],
      "text/plain": [
       "                           Salary                                          \\\n",
       "Position                        C            PF            PG          SF   \n",
       "Team                                                                        \n",
       "Atlanta Hawks        7.585417e+06  5.988067e+06  4.881700e+06   3000000.0   \n",
       "Boston Celtics       2.450465e+06  6.056987e+06  4.974652e+06   6796117.0   \n",
       "Brooklyn Nets        1.031814e+07  3.576205e+06  2.915759e+06         NaN   \n",
       "Charlotte Hornets    6.772240e+06  4.685770e+06  4.776152e+06   6331404.0   \n",
       "Chicago Bulls        1.042438e+07  3.361007e+06  1.117153e+07   1958160.0   \n",
       "Cleveland Cavaliers  6.828957e+06  1.394101e+07  6.551592e+06  11958888.0   \n",
       "\n",
       "                                   \n",
       "Position                       SG  \n",
       "Team                               \n",
       "Atlanta Hawks        2.607758e+06  \n",
       "Boston Celtics       2.107997e+06  \n",
       "Brooklyn Nets        1.473351e+06  \n",
       "Charlotte Hornets    4.661406e+06  \n",
       "Chicago Bulls        5.717549e+06  \n",
       "Cleveland Cavaliers  3.761809e+06  "
      ]
     },
     "execution_count": 64,
     "metadata": {},
     "output_type": "execute_result"
    }
   ],
   "source": [
    "#salary_df.unstack(level=\"Position\") is equivalent\n",
    "sdfu = salary_df.unstack(level=-1)\n",
    "sdfu[:6]"
   ]
  },
  {
   "cell_type": "markdown",
   "metadata": {},
   "source": [
    "To look at Center salaries, we do:"
   ]
  },
  {
   "cell_type": "code",
   "execution_count": 65,
   "metadata": {
    "scrolled": true
   },
   "outputs": [
    {
     "data": {
      "text/plain": [
       "Team\n",
       "Atlanta Hawks          7.585417e+06\n",
       "Boston Celtics         2.450465e+06\n",
       "Brooklyn Nets          1.031814e+07\n",
       "Charlotte Hornets      6.772240e+06\n",
       "Chicago Bulls          1.042438e+07\n",
       "Cleveland Cavaliers    6.828957e+06\n",
       "Name: (Salary, C), dtype: float64"
      ]
     },
     "execution_count": 65,
     "metadata": {},
     "output_type": "execute_result"
    }
   ],
   "source": [
    "#The following line is an error because we need to access the first column level first.\n",
    "#sdfu['C']\n",
    "sdfu['Salary', 'C'][:6]"
   ]
  },
  {
   "cell_type": "markdown",
   "metadata": {},
   "source": [
    "Unstacking from a multiindex is not limited to the inner most level (`level=-1`).\n",
    "We can also unstack  the first (outer) level (`level=0`), which gives us `team` columns,\n",
    "leaving the positions as the index."
   ]
  },
  {
   "cell_type": "code",
   "execution_count": 29,
   "metadata": {},
   "outputs": [
    {
     "data": {
      "text/html": [
       "<div>\n",
       "<style scoped>\n",
       "    .dataframe tbody tr th:only-of-type {\n",
       "        vertical-align: middle;\n",
       "    }\n",
       "\n",
       "    .dataframe tbody tr th {\n",
       "        vertical-align: top;\n",
       "    }\n",
       "\n",
       "    .dataframe thead tr th {\n",
       "        text-align: left;\n",
       "    }\n",
       "\n",
       "    .dataframe thead tr:last-of-type th {\n",
       "        text-align: right;\n",
       "    }\n",
       "</style>\n",
       "<table border=\"1\" class=\"dataframe\">\n",
       "  <thead>\n",
       "    <tr>\n",
       "      <th></th>\n",
       "      <th colspan=\"21\" halign=\"left\">Salary</th>\n",
       "    </tr>\n",
       "    <tr>\n",
       "      <th>Team</th>\n",
       "      <th>Atlanta Hawks</th>\n",
       "      <th>Boston Celtics</th>\n",
       "      <th>Brooklyn Nets</th>\n",
       "      <th>Charlotte Hornets</th>\n",
       "      <th>Chicago Bulls</th>\n",
       "      <th>Cleveland Cavaliers</th>\n",
       "      <th>Dallas Mavericks</th>\n",
       "      <th>Denver Nuggets</th>\n",
       "      <th>Detroit Pistons</th>\n",
       "      <th>Golden State Warriors</th>\n",
       "      <th>...</th>\n",
       "      <th>Oklahoma City Thunder</th>\n",
       "      <th>Orlando Magic</th>\n",
       "      <th>Philadelphia 76ers</th>\n",
       "      <th>Phoenix Suns</th>\n",
       "      <th>Portland Trail Blazers</th>\n",
       "      <th>Sacramento Kings</th>\n",
       "      <th>San Antonio Spurs</th>\n",
       "      <th>Toronto Raptors</th>\n",
       "      <th>Utah Jazz</th>\n",
       "      <th>Washington Wizards</th>\n",
       "    </tr>\n",
       "    <tr>\n",
       "      <th>Position</th>\n",
       "      <th></th>\n",
       "      <th></th>\n",
       "      <th></th>\n",
       "      <th></th>\n",
       "      <th></th>\n",
       "      <th></th>\n",
       "      <th></th>\n",
       "      <th></th>\n",
       "      <th></th>\n",
       "      <th></th>\n",
       "      <th></th>\n",
       "      <th></th>\n",
       "      <th></th>\n",
       "      <th></th>\n",
       "      <th></th>\n",
       "      <th></th>\n",
       "      <th></th>\n",
       "      <th></th>\n",
       "      <th></th>\n",
       "      <th></th>\n",
       "      <th></th>\n",
       "    </tr>\n",
       "  </thead>\n",
       "  <tbody>\n",
       "    <tr>\n",
       "      <th>C</th>\n",
       "      <td>7.585417e+06</td>\n",
       "      <td>2.450465e+06</td>\n",
       "      <td>1.031814e+07</td>\n",
       "      <td>6.772240e+06</td>\n",
       "      <td>10424380.00</td>\n",
       "      <td>6.828957e+06</td>\n",
       "      <td>2332019.00</td>\n",
       "      <td>1.617240e+06</td>\n",
       "      <td>4090697.0</td>\n",
       "      <td>6.541249e+06</td>\n",
       "      <td>...</td>\n",
       "      <td>6.303143e+06</td>\n",
       "      <td>6098638.00</td>\n",
       "      <td>4604820.00</td>\n",
       "      <td>5.630172e+06</td>\n",
       "      <td>4.470774e+06</td>\n",
       "      <td>8983410.00</td>\n",
       "      <td>3.724319e+06</td>\n",
       "      <td>3.105494e+06</td>\n",
       "      <td>1.674385e+06</td>\n",
       "      <td>8.163476e+06</td>\n",
       "    </tr>\n",
       "    <tr>\n",
       "      <th>PF</th>\n",
       "      <td>5.988067e+06</td>\n",
       "      <td>6.056987e+06</td>\n",
       "      <td>3.576205e+06</td>\n",
       "      <td>4.685770e+06</td>\n",
       "      <td>3361007.40</td>\n",
       "      <td>1.394101e+07</td>\n",
       "      <td>3052835.00</td>\n",
       "      <td>7.024978e+06</td>\n",
       "      <td>4000000.0</td>\n",
       "      <td>7.275312e+06</td>\n",
       "      <td>...</td>\n",
       "      <td>5.821013e+06</td>\n",
       "      <td>4688068.25</td>\n",
       "      <td>2889265.50</td>\n",
       "      <td>3.267500e+06</td>\n",
       "      <td>2.079564e+06</td>\n",
       "      <td>685076.00</td>\n",
       "      <td>1.059409e+07</td>\n",
       "      <td>2.978463e+06</td>\n",
       "      <td>6.338267e+06</td>\n",
       "      <td>5.650000e+06</td>\n",
       "    </tr>\n",
       "    <tr>\n",
       "      <th>PG</th>\n",
       "      <td>4.881700e+06</td>\n",
       "      <td>4.974652e+06</td>\n",
       "      <td>2.915759e+06</td>\n",
       "      <td>4.776152e+06</td>\n",
       "      <td>11171532.00</td>\n",
       "      <td>6.551592e+06</td>\n",
       "      <td>4418183.25</td>\n",
       "      <td>3.482413e+06</td>\n",
       "      <td>4260003.0</td>\n",
       "      <td>8.457256e+06</td>\n",
       "      <td>...</td>\n",
       "      <td>9.382869e+06</td>\n",
       "      <td>4286164.25</td>\n",
       "      <td>1141104.25</td>\n",
       "      <td>7.000750e+06</td>\n",
       "      <td>3.545614e+06</td>\n",
       "      <td>7256779.50</td>\n",
       "      <td>5.755732e+06</td>\n",
       "      <td>6.836453e+06</td>\n",
       "      <td>2.442323e+06</td>\n",
       "      <td>9.011208e+06</td>\n",
       "    </tr>\n",
       "    <tr>\n",
       "      <th>SF</th>\n",
       "      <td>3.000000e+06</td>\n",
       "      <td>6.796117e+06</td>\n",
       "      <td>NaN</td>\n",
       "      <td>6.331404e+06</td>\n",
       "      <td>1958160.00</td>\n",
       "      <td>1.195889e+07</td>\n",
       "      <td>8231051.00</td>\n",
       "      <td>9.327590e+06</td>\n",
       "      <td>5173600.0</td>\n",
       "      <td>3.766367e+06</td>\n",
       "      <td>...</td>\n",
       "      <td>8.599621e+06</td>\n",
       "      <td>845059.00</td>\n",
       "      <td>922529.50</td>\n",
       "      <td>2.582424e+06</td>\n",
       "      <td>5.468477e+06</td>\n",
       "      <td>4417455.50</td>\n",
       "      <td>8.775190e+06</td>\n",
       "      <td>6.225972e+06</td>\n",
       "      <td>6.146973e+06</td>\n",
       "      <td>2.789700e+06</td>\n",
       "    </tr>\n",
       "    <tr>\n",
       "      <th>SG</th>\n",
       "      <td>2.607758e+06</td>\n",
       "      <td>2.107997e+06</td>\n",
       "      <td>1.473351e+06</td>\n",
       "      <td>4.661406e+06</td>\n",
       "      <td>5717549.25</td>\n",
       "      <td>3.761809e+06</td>\n",
       "      <td>8928250.00</td>\n",
       "      <td>9.300817e+05</td>\n",
       "      <td>4580880.0</td>\n",
       "      <td>6.316092e+06</td>\n",
       "      <td>...</td>\n",
       "      <td>3.207058e+06</td>\n",
       "      <td>3740735.00</td>\n",
       "      <td>1908358.00</td>\n",
       "      <td>1.423116e+06</td>\n",
       "      <td>2.124524e+06</td>\n",
       "      <td>2794975.75</td>\n",
       "      <td>3.384923e+06</td>\n",
       "      <td>5.350000e+06</td>\n",
       "      <td>5.405962e+06</td>\n",
       "      <td>2.839248e+06</td>\n",
       "    </tr>\n",
       "  </tbody>\n",
       "</table>\n",
       "<p>5 rows × 30 columns</p>\n",
       "</div>"
      ],
      "text/plain": [
       "                Salary                                                 \\\n",
       "Team     Atlanta Hawks Boston Celtics Brooklyn Nets Charlotte Hornets   \n",
       "Position                                                                \n",
       "C         7.585417e+06   2.450465e+06  1.031814e+07      6.772240e+06   \n",
       "PF        5.988067e+06   6.056987e+06  3.576205e+06      4.685770e+06   \n",
       "PG        4.881700e+06   4.974652e+06  2.915759e+06      4.776152e+06   \n",
       "SF        3.000000e+06   6.796117e+06           NaN      6.331404e+06   \n",
       "SG        2.607758e+06   2.107997e+06  1.473351e+06      4.661406e+06   \n",
       "\n",
       "                                                                            \\\n",
       "Team     Chicago Bulls Cleveland Cavaliers Dallas Mavericks Denver Nuggets   \n",
       "Position                                                                     \n",
       "C          10424380.00        6.828957e+06       2332019.00   1.617240e+06   \n",
       "PF          3361007.40        1.394101e+07       3052835.00   7.024978e+06   \n",
       "PG         11171532.00        6.551592e+06       4418183.25   3.482413e+06   \n",
       "SF          1958160.00        1.195889e+07       8231051.00   9.327590e+06   \n",
       "SG          5717549.25        3.761809e+06       8928250.00   9.300817e+05   \n",
       "\n",
       "                                                ...                        \\\n",
       "Team     Detroit Pistons Golden State Warriors  ... Oklahoma City Thunder   \n",
       "Position                                        ...                         \n",
       "C              4090697.0          6.541249e+06  ...          6.303143e+06   \n",
       "PF             4000000.0          7.275312e+06  ...          5.821013e+06   \n",
       "PG             4260003.0          8.457256e+06  ...          9.382869e+06   \n",
       "SF             5173600.0          3.766367e+06  ...          8.599621e+06   \n",
       "SG             4580880.0          6.316092e+06  ...          3.207058e+06   \n",
       "\n",
       "                                                         \\\n",
       "Team     Orlando Magic Philadelphia 76ers  Phoenix Suns   \n",
       "Position                                                  \n",
       "C           6098638.00         4604820.00  5.630172e+06   \n",
       "PF          4688068.25         2889265.50  3.267500e+06   \n",
       "PG          4286164.25         1141104.25  7.000750e+06   \n",
       "SF           845059.00          922529.50  2.582424e+06   \n",
       "SG          3740735.00         1908358.00  1.423116e+06   \n",
       "\n",
       "                                                                    \\\n",
       "Team     Portland Trail Blazers Sacramento Kings San Antonio Spurs   \n",
       "Position                                                             \n",
       "C                  4.470774e+06       8983410.00      3.724319e+06   \n",
       "PF                 2.079564e+06        685076.00      1.059409e+07   \n",
       "PG                 3.545614e+06       7256779.50      5.755732e+06   \n",
       "SF                 5.468477e+06       4417455.50      8.775190e+06   \n",
       "SG                 2.124524e+06       2794975.75      3.384923e+06   \n",
       "\n",
       "                                                           \n",
       "Team     Toronto Raptors     Utah Jazz Washington Wizards  \n",
       "Position                                                   \n",
       "C           3.105494e+06  1.674385e+06       8.163476e+06  \n",
       "PF          2.978463e+06  6.338267e+06       5.650000e+06  \n",
       "PG          6.836453e+06  2.442323e+06       9.011208e+06  \n",
       "SF          6.225972e+06  6.146973e+06       2.789700e+06  \n",
       "SG          5.350000e+06  5.405962e+06       2.839248e+06  \n",
       "\n",
       "[5 rows x 30 columns]"
      ]
     },
     "execution_count": 29,
     "metadata": {},
     "output_type": "execute_result"
    }
   ],
   "source": [
    "#salary_df.unstack(level=\"Team\") is equivalent\n",
    "sdfu2 = salary_df.unstack(level=0)\n",
    "sdfu2"
   ]
  },
  {
   "cell_type": "markdown",
   "metadata": {},
   "source": [
    "And we can swing back to a multi level index with `stack`:"
   ]
  },
  {
   "cell_type": "code",
   "execution_count": 51,
   "metadata": {},
   "outputs": [
    {
     "data": {
      "text/html": [
       "<div>\n",
       "<style scoped>\n",
       "    .dataframe tbody tr th:only-of-type {\n",
       "        vertical-align: middle;\n",
       "    }\n",
       "\n",
       "    .dataframe tbody tr th {\n",
       "        vertical-align: top;\n",
       "    }\n",
       "\n",
       "    .dataframe thead th {\n",
       "        text-align: right;\n",
       "    }\n",
       "</style>\n",
       "<table border=\"1\" class=\"dataframe\">\n",
       "  <thead>\n",
       "    <tr style=\"text-align: right;\">\n",
       "      <th></th>\n",
       "      <th></th>\n",
       "      <th>Salary</th>\n",
       "    </tr>\n",
       "    <tr>\n",
       "      <th>Position</th>\n",
       "      <th>Team</th>\n",
       "      <th></th>\n",
       "    </tr>\n",
       "  </thead>\n",
       "  <tbody>\n",
       "    <tr>\n",
       "      <th rowspan=\"5\" valign=\"top\">C</th>\n",
       "      <th>Atlanta Hawks</th>\n",
       "      <td>7.585417e+06</td>\n",
       "    </tr>\n",
       "    <tr>\n",
       "      <th>Boston Celtics</th>\n",
       "      <td>2.450465e+06</td>\n",
       "    </tr>\n",
       "    <tr>\n",
       "      <th>Brooklyn Nets</th>\n",
       "      <td>1.031814e+07</td>\n",
       "    </tr>\n",
       "    <tr>\n",
       "      <th>Charlotte Hornets</th>\n",
       "      <td>6.772240e+06</td>\n",
       "    </tr>\n",
       "    <tr>\n",
       "      <th>Chicago Bulls</th>\n",
       "      <td>1.042438e+07</td>\n",
       "    </tr>\n",
       "    <tr>\n",
       "      <th>...</th>\n",
       "      <th>...</th>\n",
       "      <td>...</td>\n",
       "    </tr>\n",
       "    <tr>\n",
       "      <th rowspan=\"5\" valign=\"top\">SG</th>\n",
       "      <th>Sacramento Kings</th>\n",
       "      <td>2.794976e+06</td>\n",
       "    </tr>\n",
       "    <tr>\n",
       "      <th>San Antonio Spurs</th>\n",
       "      <td>3.384923e+06</td>\n",
       "    </tr>\n",
       "    <tr>\n",
       "      <th>Toronto Raptors</th>\n",
       "      <td>5.350000e+06</td>\n",
       "    </tr>\n",
       "    <tr>\n",
       "      <th>Utah Jazz</th>\n",
       "      <td>5.405962e+06</td>\n",
       "    </tr>\n",
       "    <tr>\n",
       "      <th>Washington Wizards</th>\n",
       "      <td>2.839248e+06</td>\n",
       "    </tr>\n",
       "  </tbody>\n",
       "</table>\n",
       "<p>149 rows × 1 columns</p>\n",
       "</div>"
      ],
      "text/plain": [
       "                                   Salary\n",
       "Position Team                            \n",
       "C        Atlanta Hawks       7.585417e+06\n",
       "         Boston Celtics      2.450465e+06\n",
       "         Brooklyn Nets       1.031814e+07\n",
       "         Charlotte Hornets   6.772240e+06\n",
       "         Chicago Bulls       1.042438e+07\n",
       "...                                   ...\n",
       "SG       Sacramento Kings    2.794976e+06\n",
       "         San Antonio Spurs   3.384923e+06\n",
       "         Toronto Raptors     5.350000e+06\n",
       "         Utah Jazz           5.405962e+06\n",
       "         Washington Wizards  2.839248e+06\n",
       "\n",
       "[149 rows x 1 columns]"
      ]
     },
     "execution_count": 51,
     "metadata": {},
     "output_type": "execute_result"
    }
   ],
   "source": [
    "sdfu2.stack()"
   ]
  },
  {
   "cell_type": "markdown",
   "metadata": {},
   "source": [
    "Let's consider a use case, trimming some rows via the inner index.  \n",
    "\n",
    "Let's say we want the same index levels as in `salary_df`, but with only guards (SG and PG).\n",
    "\n",
    "We start with:"
   ]
  },
  {
   "cell_type": "code",
   "execution_count": 42,
   "metadata": {},
   "outputs": [
    {
     "data": {
      "text/html": [
       "<div>\n",
       "<style scoped>\n",
       "    .dataframe tbody tr th:only-of-type {\n",
       "        vertical-align: middle;\n",
       "    }\n",
       "\n",
       "    .dataframe tbody tr th {\n",
       "        vertical-align: top;\n",
       "    }\n",
       "\n",
       "    .dataframe thead th {\n",
       "        text-align: right;\n",
       "    }\n",
       "</style>\n",
       "<table border=\"1\" class=\"dataframe\">\n",
       "  <thead>\n",
       "    <tr style=\"text-align: right;\">\n",
       "      <th></th>\n",
       "      <th></th>\n",
       "      <th>Salary</th>\n",
       "    </tr>\n",
       "    <tr>\n",
       "      <th>Team</th>\n",
       "      <th>Position</th>\n",
       "      <th></th>\n",
       "    </tr>\n",
       "  </thead>\n",
       "  <tbody>\n",
       "    <tr>\n",
       "      <th rowspan=\"5\" valign=\"top\">Atlanta Hawks</th>\n",
       "      <th>C</th>\n",
       "      <td>7.585417e+06</td>\n",
       "    </tr>\n",
       "    <tr>\n",
       "      <th>PF</th>\n",
       "      <td>5.988067e+06</td>\n",
       "    </tr>\n",
       "    <tr>\n",
       "      <th>PG</th>\n",
       "      <td>4.881700e+06</td>\n",
       "    </tr>\n",
       "    <tr>\n",
       "      <th>SF</th>\n",
       "      <td>3.000000e+06</td>\n",
       "    </tr>\n",
       "    <tr>\n",
       "      <th>SG</th>\n",
       "      <td>2.607758e+06</td>\n",
       "    </tr>\n",
       "    <tr>\n",
       "      <th>...</th>\n",
       "      <th>...</th>\n",
       "      <td>...</td>\n",
       "    </tr>\n",
       "    <tr>\n",
       "      <th rowspan=\"5\" valign=\"top\">Washington Wizards</th>\n",
       "      <th>C</th>\n",
       "      <td>8.163476e+06</td>\n",
       "    </tr>\n",
       "    <tr>\n",
       "      <th>PF</th>\n",
       "      <td>5.650000e+06</td>\n",
       "    </tr>\n",
       "    <tr>\n",
       "      <th>PG</th>\n",
       "      <td>9.011208e+06</td>\n",
       "    </tr>\n",
       "    <tr>\n",
       "      <th>SF</th>\n",
       "      <td>2.789700e+06</td>\n",
       "    </tr>\n",
       "    <tr>\n",
       "      <th>SG</th>\n",
       "      <td>2.839248e+06</td>\n",
       "    </tr>\n",
       "  </tbody>\n",
       "</table>\n",
       "<p>149 rows × 1 columns</p>\n",
       "</div>"
      ],
      "text/plain": [
       "                                   Salary\n",
       "Team               Position              \n",
       "Atlanta Hawks      C         7.585417e+06\n",
       "                   PF        5.988067e+06\n",
       "                   PG        4.881700e+06\n",
       "                   SF        3.000000e+06\n",
       "                   SG        2.607758e+06\n",
       "...                                   ...\n",
       "Washington Wizards C         8.163476e+06\n",
       "                   PF        5.650000e+06\n",
       "                   PG        9.011208e+06\n",
       "                   SF        2.789700e+06\n",
       "                   SG        2.839248e+06\n",
       "\n",
       "[149 rows x 1 columns]"
      ]
     },
     "execution_count": 42,
     "metadata": {},
     "output_type": "execute_result"
    }
   ],
   "source": [
    "salary_df"
   ]
  },
  {
   "cell_type": "markdown",
   "metadata": {},
   "source": [
    "We unstack, choose the columns we want to keep, and restack."
   ]
  },
  {
   "cell_type": "code",
   "execution_count": 63,
   "metadata": {},
   "outputs": [
    {
     "data": {
      "text/html": [
       "<div>\n",
       "<style scoped>\n",
       "    .dataframe tbody tr th:only-of-type {\n",
       "        vertical-align: middle;\n",
       "    }\n",
       "\n",
       "    .dataframe tbody tr th {\n",
       "        vertical-align: top;\n",
       "    }\n",
       "\n",
       "    .dataframe thead th {\n",
       "        text-align: right;\n",
       "    }\n",
       "</style>\n",
       "<table border=\"1\" class=\"dataframe\">\n",
       "  <thead>\n",
       "    <tr style=\"text-align: right;\">\n",
       "      <th></th>\n",
       "      <th></th>\n",
       "      <th>Salary</th>\n",
       "    </tr>\n",
       "    <tr>\n",
       "      <th>Team</th>\n",
       "      <th>Position</th>\n",
       "      <th></th>\n",
       "    </tr>\n",
       "  </thead>\n",
       "  <tbody>\n",
       "    <tr>\n",
       "      <th rowspan=\"2\" valign=\"top\">Atlanta Hawks</th>\n",
       "      <th>PG</th>\n",
       "      <td>4.881700e+06</td>\n",
       "    </tr>\n",
       "    <tr>\n",
       "      <th>SG</th>\n",
       "      <td>2.607758e+06</td>\n",
       "    </tr>\n",
       "    <tr>\n",
       "      <th rowspan=\"2\" valign=\"top\">Boston Celtics</th>\n",
       "      <th>PG</th>\n",
       "      <td>4.974652e+06</td>\n",
       "    </tr>\n",
       "    <tr>\n",
       "      <th>SG</th>\n",
       "      <td>2.107997e+06</td>\n",
       "    </tr>\n",
       "    <tr>\n",
       "      <th rowspan=\"2\" valign=\"top\">Brooklyn Nets</th>\n",
       "      <th>PG</th>\n",
       "      <td>2.915759e+06</td>\n",
       "    </tr>\n",
       "    <tr>\n",
       "      <th>SG</th>\n",
       "      <td>1.473351e+06</td>\n",
       "    </tr>\n",
       "  </tbody>\n",
       "</table>\n",
       "</div>"
      ],
      "text/plain": [
       "                               Salary\n",
       "Team           Position              \n",
       "Atlanta Hawks  PG        4.881700e+06\n",
       "               SG        2.607758e+06\n",
       "Boston Celtics PG        4.974652e+06\n",
       "               SG        2.107997e+06\n",
       "Brooklyn Nets  PG        2.915759e+06\n",
       "               SG        1.473351e+06"
      ]
     },
     "execution_count": 63,
     "metadata": {},
     "output_type": "execute_result"
    }
   ],
   "source": [
    "sdfu = salary_df.unstack(level=1)\n",
    "sdfu[[(\"Salary\",\"PG\"),(\"Salary\",\"SG\")]].stack()[:6]\n"
   ]
  },
  {
   "cell_type": "markdown",
   "metadata": {},
   "source": [
    "#### Using multilevel indexing to represent 3D Data "
   ]
  },
  {
   "cell_type": "markdown",
   "metadata": {},
   "source": [
    "Pandas used to feature something called a Panel which was a 3D version of a DataFrame.\n",
    "That has been removed.  The newer (and better) idea is to handle 3D data using\n",
    "the kind of multi-level indexing we just encountered by grouping\n",
    "with multiple variables. \n",
    "\n",
    "The nba data isn't very appropriate for this\n",
    "brief digression, so let's cook up some 3D data to demonstrate that idea."
   ]
  },
  {
   "cell_type": "code",
   "execution_count": 24,
   "metadata": {},
   "outputs": [
    {
     "data": {
      "text/plain": [
       "(2, 4, 3)"
      ]
     },
     "execution_count": 24,
     "metadata": {},
     "output_type": "execute_result"
    }
   ],
   "source": [
    "import numpy as np\n",
    "a = np.arange(24).reshape((2, 4,3))\n",
    "a.shape"
   ]
  },
  {
   "cell_type": "code",
   "execution_count": 4,
   "metadata": {},
   "outputs": [
    {
     "data": {
      "text/plain": [
       "array([[[ 0,  1,  2],\n",
       "        [ 3,  4,  5],\n",
       "        [ 6,  7,  8],\n",
       "        [ 9, 10, 11]],\n",
       "\n",
       "       [[12, 13, 14],\n",
       "        [15, 16, 17],\n",
       "        [18, 19, 20],\n",
       "        [21, 22, 23]]])"
      ]
     },
     "execution_count": 4,
     "metadata": {},
     "output_type": "execute_result"
    }
   ],
   "source": [
    "a"
   ]
  },
  {
   "cell_type": "markdown",
   "metadata": {},
   "source": [
    "The array `a` has three dimensions, rows, columns, and layers.\n",
    "\n",
    "Think of `a` as two 2D arrays, one laid on top of the other.\n",
    "This is the top layer of `a`."
   ]
  },
  {
   "cell_type": "code",
   "execution_count": 5,
   "metadata": {},
   "outputs": [
    {
     "data": {
      "text/plain": [
       "array([[ 0,  1,  2],\n",
       "       [ 3,  4,  5],\n",
       "       [ 6,  7,  8],\n",
       "       [ 9, 10, 11]])"
      ]
     },
     "execution_count": 5,
     "metadata": {},
     "output_type": "execute_result"
    }
   ],
   "source": [
    "# a is a 3D numpy array.  Accessing 1 index returns a 2D array\n",
    "a[0]"
   ]
  },
  {
   "cell_type": "markdown",
   "metadata": {},
   "source": [
    "What we're going to do is flatten `a`, creating 6 columns,\n",
    "to turn it into a 2D DataFrame, and then recapture the 3D structure\n",
    "by introducing multilevel columns."
   ]
  },
  {
   "cell_type": "markdown",
   "metadata": {},
   "source": [
    "Here's how we get 6 columns of data: Concatenate the two layers of `a` in the axis 1 direction.\n",
    "\n",
    "Recall from the `numpy_array_concatenation` notebook that `np.concatenate` takes the sequence of arrays to be concatenated as its first argument; also recall that `a` is a sequence of 2 2D arrays."
   ]
  },
  {
   "cell_type": "code",
   "execution_count": 9,
   "metadata": {},
   "outputs": [
    {
     "data": {
      "text/plain": [
       "array([[ 0,  1,  2, 12, 13, 14],\n",
       "       [ 3,  4,  5, 15, 16, 17],\n",
       "       [ 6,  7,  8, 18, 19, 20],\n",
       "       [ 9, 10, 11, 21, 22, 23]])"
      ]
     },
     "execution_count": 9,
     "metadata": {},
     "output_type": "execute_result"
    }
   ],
   "source": [
    "np.concatenate(a,axis=1)"
   ]
  },
  {
   "cell_type": "markdown",
   "metadata": {},
   "source": [
    "We're going to transpose the data to facilitate more general indexing.\n",
    "\n",
    "We'll choose leveled names for our 6 rows: The idea is to assign all the layer\n",
    "one data to the `A` rows and all the layer 2 data to the \"B\" rows."
   ]
  },
  {
   "cell_type": "code",
   "execution_count": 44,
   "metadata": {},
   "outputs": [
    {
     "data": {
      "text/plain": [
       "[('A', 'a'), ('A', 'b'), ('A', 'c'), ('B', 'a'), ('B', 'b'), ('B', 'c')]"
      ]
     },
     "execution_count": 44,
     "metadata": {},
     "output_type": "execute_result"
    }
   ],
   "source": [
    "Ls = [(l1,l2) for l1 in \"AB\" for l2 in \"abc\"]\n",
    "Ls"
   ]
  },
  {
   "cell_type": "markdown",
   "metadata": {},
   "source": [
    "Here is how to create the DataFrame."
   ]
  },
  {
   "cell_type": "code",
   "execution_count": 28,
   "metadata": {},
   "outputs": [
    {
     "data": {
      "text/html": [
       "<div>\n",
       "<style scoped>\n",
       "    .dataframe tbody tr th:only-of-type {\n",
       "        vertical-align: middle;\n",
       "    }\n",
       "\n",
       "    .dataframe tbody tr th {\n",
       "        vertical-align: top;\n",
       "    }\n",
       "\n",
       "    .dataframe thead th {\n",
       "        text-align: right;\n",
       "    }\n",
       "</style>\n",
       "<table border=\"1\" class=\"dataframe\">\n",
       "  <thead>\n",
       "    <tr style=\"text-align: right;\">\n",
       "      <th></th>\n",
       "      <th></th>\n",
       "      <th>0</th>\n",
       "      <th>1</th>\n",
       "      <th>2</th>\n",
       "      <th>3</th>\n",
       "    </tr>\n",
       "  </thead>\n",
       "  <tbody>\n",
       "    <tr>\n",
       "      <th rowspan=\"3\" valign=\"top\">A</th>\n",
       "      <th>a</th>\n",
       "      <td>0</td>\n",
       "      <td>3</td>\n",
       "      <td>6</td>\n",
       "      <td>9</td>\n",
       "    </tr>\n",
       "    <tr>\n",
       "      <th>b</th>\n",
       "      <td>1</td>\n",
       "      <td>4</td>\n",
       "      <td>7</td>\n",
       "      <td>10</td>\n",
       "    </tr>\n",
       "    <tr>\n",
       "      <th>c</th>\n",
       "      <td>2</td>\n",
       "      <td>5</td>\n",
       "      <td>8</td>\n",
       "      <td>11</td>\n",
       "    </tr>\n",
       "    <tr>\n",
       "      <th rowspan=\"3\" valign=\"top\">B</th>\n",
       "      <th>a</th>\n",
       "      <td>12</td>\n",
       "      <td>15</td>\n",
       "      <td>18</td>\n",
       "      <td>21</td>\n",
       "    </tr>\n",
       "    <tr>\n",
       "      <th>b</th>\n",
       "      <td>13</td>\n",
       "      <td>16</td>\n",
       "      <td>19</td>\n",
       "      <td>22</td>\n",
       "    </tr>\n",
       "    <tr>\n",
       "      <th>c</th>\n",
       "      <td>14</td>\n",
       "      <td>17</td>\n",
       "      <td>20</td>\n",
       "      <td>23</td>\n",
       "    </tr>\n",
       "  </tbody>\n",
       "</table>\n",
       "</div>"
      ],
      "text/plain": [
       "      0   1   2   3\n",
       "A a   0   3   6   9\n",
       "  b   1   4   7  10\n",
       "  c   2   5   8  11\n",
       "B a  12  15  18  21\n",
       "  b  13  16  19  22\n",
       "  c  14  17  20  23"
      ]
     },
     "execution_count": 28,
     "metadata": {},
     "output_type": "execute_result"
    }
   ],
   "source": [
    "import pandas as pd\n",
    "Ls = [(l1,l2) for l1 in \"AB\" for l2 in \"abc\"]\n",
    "new_index= pd.MultiIndex.from_tuples(Ls)\n",
    "flattened_a = np.concatenate(a,axis=1)\n",
    "df22 = pd.DataFrame(flattened_a.T,index=new_index)\n",
    "df22"
   ]
  },
  {
   "cell_type": "markdown",
   "metadata": {},
   "source": [
    "And as desired we get the layer-one information under \"A\":"
   ]
  },
  {
   "cell_type": "code",
   "execution_count": 29,
   "metadata": {},
   "outputs": [
    {
     "data": {
      "text/html": [
       "<div>\n",
       "<style scoped>\n",
       "    .dataframe tbody tr th:only-of-type {\n",
       "        vertical-align: middle;\n",
       "    }\n",
       "\n",
       "    .dataframe tbody tr th {\n",
       "        vertical-align: top;\n",
       "    }\n",
       "\n",
       "    .dataframe thead th {\n",
       "        text-align: right;\n",
       "    }\n",
       "</style>\n",
       "<table border=\"1\" class=\"dataframe\">\n",
       "  <thead>\n",
       "    <tr style=\"text-align: right;\">\n",
       "      <th></th>\n",
       "      <th>0</th>\n",
       "      <th>1</th>\n",
       "      <th>2</th>\n",
       "      <th>3</th>\n",
       "    </tr>\n",
       "  </thead>\n",
       "  <tbody>\n",
       "    <tr>\n",
       "      <th>a</th>\n",
       "      <td>0</td>\n",
       "      <td>3</td>\n",
       "      <td>6</td>\n",
       "      <td>9</td>\n",
       "    </tr>\n",
       "    <tr>\n",
       "      <th>b</th>\n",
       "      <td>1</td>\n",
       "      <td>4</td>\n",
       "      <td>7</td>\n",
       "      <td>10</td>\n",
       "    </tr>\n",
       "    <tr>\n",
       "      <th>c</th>\n",
       "      <td>2</td>\n",
       "      <td>5</td>\n",
       "      <td>8</td>\n",
       "      <td>11</td>\n",
       "    </tr>\n",
       "  </tbody>\n",
       "</table>\n",
       "</div>"
      ],
      "text/plain": [
       "   0  1  2   3\n",
       "a  0  3  6   9\n",
       "b  1  4  7  10\n",
       "c  2  5  8  11"
      ]
     },
     "execution_count": 29,
     "metadata": {},
     "output_type": "execute_result"
    }
   ],
   "source": [
    "df22.loc[\"A\"]"
   ]
  },
  {
   "cell_type": "code",
   "execution_count": 30,
   "metadata": {
    "scrolled": false
   },
   "outputs": [
    {
     "data": {
      "text/plain": [
       "array([[ 0,  3,  6,  9],\n",
       "       [ 1,  4,  7, 10],\n",
       "       [ 2,  5,  8, 11]])"
      ]
     },
     "execution_count": 30,
     "metadata": {},
     "output_type": "execute_result"
    }
   ],
   "source": [
    "a[0].T"
   ]
  },
  {
   "cell_type": "markdown",
   "metadata": {},
   "source": [
    "Getting cross-sections from other dimensions of the original data can be done by using\n",
    "columns or using `.xs()`:"
   ]
  },
  {
   "cell_type": "code",
   "execution_count": 57,
   "metadata": {
    "scrolled": true
   },
   "outputs": [
    {
     "data": {
      "text/plain": [
       "A  a     0\n",
       "   b     1\n",
       "   c     2\n",
       "B  a    12\n",
       "   b    13\n",
       "   c    14\n",
       "Name: 0, dtype: int64"
      ]
     },
     "execution_count": 57,
     "metadata": {},
     "output_type": "execute_result"
    }
   ],
   "source": [
    "df22[0]"
   ]
  },
  {
   "cell_type": "markdown",
   "metadata": {},
   "source": [
    "Although a Series, this is 2D information because of the MultiIndex: 0,12 is the first row (`df22[0].xs('a',level=1)`) and 0,1,2 is the first column `df22[0][\"A\"]`).\n",
    "\n",
    "It corresponds to the first 2D array in the row direction of `a`:"
   ]
  },
  {
   "cell_type": "code",
   "execution_count": 59,
   "metadata": {},
   "outputs": [
    {
     "data": {
      "text/plain": [
       "array([[ 0, 12],\n",
       "       [ 1, 13],\n",
       "       [ 2, 14]])"
      ]
     },
     "execution_count": 59,
     "metadata": {},
     "output_type": "execute_result"
    }
   ],
   "source": [
    "a[:,0,:].T"
   ]
  },
  {
   "cell_type": "markdown",
   "metadata": {},
   "source": [
    "While a level 1 cross section captures the column dimension of `a`."
   ]
  },
  {
   "cell_type": "code",
   "execution_count": 51,
   "metadata": {
    "scrolled": true
   },
   "outputs": [
    {
     "data": {
      "text/html": [
       "<div>\n",
       "<style scoped>\n",
       "    .dataframe tbody tr th:only-of-type {\n",
       "        vertical-align: middle;\n",
       "    }\n",
       "\n",
       "    .dataframe tbody tr th {\n",
       "        vertical-align: top;\n",
       "    }\n",
       "\n",
       "    .dataframe thead th {\n",
       "        text-align: right;\n",
       "    }\n",
       "</style>\n",
       "<table border=\"1\" class=\"dataframe\">\n",
       "  <thead>\n",
       "    <tr style=\"text-align: right;\">\n",
       "      <th></th>\n",
       "      <th>0</th>\n",
       "      <th>1</th>\n",
       "      <th>2</th>\n",
       "      <th>3</th>\n",
       "    </tr>\n",
       "  </thead>\n",
       "  <tbody>\n",
       "    <tr>\n",
       "      <th>A</th>\n",
       "      <td>0</td>\n",
       "      <td>3</td>\n",
       "      <td>6</td>\n",
       "      <td>9</td>\n",
       "    </tr>\n",
       "    <tr>\n",
       "      <th>B</th>\n",
       "      <td>12</td>\n",
       "      <td>15</td>\n",
       "      <td>18</td>\n",
       "      <td>21</td>\n",
       "    </tr>\n",
       "  </tbody>\n",
       "</table>\n",
       "</div>"
      ],
      "text/plain": [
       "    0   1   2   3\n",
       "A   0   3   6   9\n",
       "B  12  15  18  21"
      ]
     },
     "execution_count": 51,
     "metadata": {},
     "output_type": "execute_result"
    }
   ],
   "source": [
    "df22.xs('a',level=1)"
   ]
  },
  {
   "cell_type": "code",
   "execution_count": 61,
   "metadata": {},
   "outputs": [
    {
     "data": {
      "text/plain": [
       "array([[ 0,  3,  6,  9],\n",
       "       [12, 15, 18, 21]])"
      ]
     },
     "execution_count": 61,
     "metadata": {},
     "output_type": "execute_result"
    }
   ],
   "source": [
    "a[:,:,0]"
   ]
  },
  {
   "cell_type": "markdown",
   "metadata": {},
   "source": [
    "So all of the 3D structure of `a` has been captured."
   ]
  },
  {
   "cell_type": "markdown",
   "metadata": {},
   "source": [
    "##### Custom aggregation operations"
   ]
  },
  {
   "cell_type": "markdown",
   "metadata": {},
   "source": [
    "Point 3 in motivating `groupby` was that that group objects could be used to implement\n",
    "custom aggregation operations.  We illustrate that with `GroupBy.transform(..)`.\n",
    "\n",
    "The operation used is  **z_score**, otherwise referred to as\n",
    "centering and scaling.  \n",
    "\n",
    "```python\n",
    "(x - x.mean())/x.std()\n",
    "```\n",
    "\n",
    "Below we group by team and then use z_score to  compute each player's age in standard deviation\n",
    "units relative to his group.  A player whose age is above\n",
    "the mean age of his team will have a positive Team Age;\n",
    "a player below that mean in age will have a negative Team Age."
   ]
  },
  {
   "cell_type": "code",
   "execution_count": null,
   "metadata": {},
   "outputs": [],
   "source": [
    "f = lambda x: (x - x.mean())/x.std()\n",
    "# Apply transform to team groups, creating a Seroes\n",
    "new_col = gt[[\"Age\"]].transform(f)\n",
    "# Make it a column in the data\n",
    "nba_df[\"Team Age\"] = new_col"
   ]
  },
  {
   "cell_type": "markdown",
   "metadata": {},
   "source": [
    "Show a few Celtics player with the new column:"
   ]
  },
  {
   "cell_type": "code",
   "execution_count": 52,
   "metadata": {},
   "outputs": [
    {
     "data": {
      "text/html": [
       "<div>\n",
       "<style scoped>\n",
       "    .dataframe tbody tr th:only-of-type {\n",
       "        vertical-align: middle;\n",
       "    }\n",
       "\n",
       "    .dataframe tbody tr th {\n",
       "        vertical-align: top;\n",
       "    }\n",
       "\n",
       "    .dataframe thead th {\n",
       "        text-align: right;\n",
       "    }\n",
       "</style>\n",
       "<table border=\"1\" class=\"dataframe\">\n",
       "  <thead>\n",
       "    <tr style=\"text-align: right;\">\n",
       "      <th></th>\n",
       "      <th>Name</th>\n",
       "      <th>Team</th>\n",
       "      <th>Number</th>\n",
       "      <th>Position</th>\n",
       "      <th>Age</th>\n",
       "      <th>Height</th>\n",
       "      <th>Weight</th>\n",
       "      <th>College</th>\n",
       "      <th>Salary</th>\n",
       "      <th>Team Age</th>\n",
       "    </tr>\n",
       "  </thead>\n",
       "  <tbody>\n",
       "    <tr>\n",
       "      <th>0</th>\n",
       "      <td>Avery Bradley</td>\n",
       "      <td>Boston Celtics</td>\n",
       "      <td>0.0</td>\n",
       "      <td>PG</td>\n",
       "      <td>25.0</td>\n",
       "      <td>6-2</td>\n",
       "      <td>180.0</td>\n",
       "      <td>Texas</td>\n",
       "      <td>7730337.0</td>\n",
       "      <td>0.093891</td>\n",
       "    </tr>\n",
       "    <tr>\n",
       "      <th>1</th>\n",
       "      <td>Jae Crowder</td>\n",
       "      <td>Boston Celtics</td>\n",
       "      <td>99.0</td>\n",
       "      <td>SF</td>\n",
       "      <td>25.0</td>\n",
       "      <td>6-6</td>\n",
       "      <td>235.0</td>\n",
       "      <td>Marquette</td>\n",
       "      <td>6796117.0</td>\n",
       "      <td>0.093891</td>\n",
       "    </tr>\n",
       "    <tr>\n",
       "      <th>2</th>\n",
       "      <td>John Holland</td>\n",
       "      <td>Boston Celtics</td>\n",
       "      <td>30.0</td>\n",
       "      <td>SG</td>\n",
       "      <td>27.0</td>\n",
       "      <td>6-5</td>\n",
       "      <td>205.0</td>\n",
       "      <td>Boston University</td>\n",
       "      <td>NaN</td>\n",
       "      <td>0.798069</td>\n",
       "    </tr>\n",
       "    <tr>\n",
       "      <th>3</th>\n",
       "      <td>R.J. Hunter</td>\n",
       "      <td>Boston Celtics</td>\n",
       "      <td>28.0</td>\n",
       "      <td>SG</td>\n",
       "      <td>22.0</td>\n",
       "      <td>6-5</td>\n",
       "      <td>185.0</td>\n",
       "      <td>Georgia State</td>\n",
       "      <td>1148640.0</td>\n",
       "      <td>-0.962378</td>\n",
       "    </tr>\n",
       "  </tbody>\n",
       "</table>\n",
       "</div>"
      ],
      "text/plain": [
       "            Name            Team  Number Position   Age Height  Weight  \\\n",
       "0  Avery Bradley  Boston Celtics     0.0       PG  25.0    6-2   180.0   \n",
       "1    Jae Crowder  Boston Celtics    99.0       SF  25.0    6-6   235.0   \n",
       "2   John Holland  Boston Celtics    30.0       SG  27.0    6-5   205.0   \n",
       "3    R.J. Hunter  Boston Celtics    28.0       SG  22.0    6-5   185.0   \n",
       "\n",
       "             College     Salary  Team Age  \n",
       "0              Texas  7730337.0  0.093891  \n",
       "1          Marquette  6796117.0  0.093891  \n",
       "2  Boston University        NaN  0.798069  \n",
       "3      Georgia State  1148640.0 -0.962378  "
      ]
     },
     "execution_count": 52,
     "metadata": {},
     "output_type": "execute_result"
    }
   ],
   "source": [
    "nba_df[nba_df[\"Team\"]==\"Boston Celtics\"][:4]"
   ]
  },
  {
   "cell_type": "markdown",
   "metadata": {},
   "source": [
    "Show a few Warriors players with the new column:"
   ]
  },
  {
   "cell_type": "code",
   "execution_count": 53,
   "metadata": {
    "scrolled": true
   },
   "outputs": [
    {
     "data": {
      "text/html": [
       "<div>\n",
       "<style scoped>\n",
       "    .dataframe tbody tr th:only-of-type {\n",
       "        vertical-align: middle;\n",
       "    }\n",
       "\n",
       "    .dataframe tbody tr th {\n",
       "        vertical-align: top;\n",
       "    }\n",
       "\n",
       "    .dataframe thead th {\n",
       "        text-align: right;\n",
       "    }\n",
       "</style>\n",
       "<table border=\"1\" class=\"dataframe\">\n",
       "  <thead>\n",
       "    <tr style=\"text-align: right;\">\n",
       "      <th></th>\n",
       "      <th>Name</th>\n",
       "      <th>Team</th>\n",
       "      <th>Number</th>\n",
       "      <th>Position</th>\n",
       "      <th>Age</th>\n",
       "      <th>Height</th>\n",
       "      <th>Weight</th>\n",
       "      <th>College</th>\n",
       "      <th>Salary</th>\n",
       "      <th>Team Age</th>\n",
       "    </tr>\n",
       "  </thead>\n",
       "  <tbody>\n",
       "    <tr>\n",
       "      <th>76</th>\n",
       "      <td>Leandro Barbosa</td>\n",
       "      <td>Golden State Warriors</td>\n",
       "      <td>19.0</td>\n",
       "      <td>SG</td>\n",
       "      <td>33.0</td>\n",
       "      <td>6-3</td>\n",
       "      <td>194.0</td>\n",
       "      <td>NaN</td>\n",
       "      <td>2500000.0</td>\n",
       "      <td>1.385888</td>\n",
       "    </tr>\n",
       "    <tr>\n",
       "      <th>77</th>\n",
       "      <td>Harrison Barnes</td>\n",
       "      <td>Golden State Warriors</td>\n",
       "      <td>40.0</td>\n",
       "      <td>SF</td>\n",
       "      <td>24.0</td>\n",
       "      <td>6-8</td>\n",
       "      <td>225.0</td>\n",
       "      <td>North Carolina</td>\n",
       "      <td>3873398.0</td>\n",
       "      <td>-0.952798</td>\n",
       "    </tr>\n",
       "    <tr>\n",
       "      <th>78</th>\n",
       "      <td>Andrew Bogut</td>\n",
       "      <td>Golden State Warriors</td>\n",
       "      <td>12.0</td>\n",
       "      <td>C</td>\n",
       "      <td>31.0</td>\n",
       "      <td>7-0</td>\n",
       "      <td>260.0</td>\n",
       "      <td>Utah</td>\n",
       "      <td>13800000.0</td>\n",
       "      <td>0.866180</td>\n",
       "    </tr>\n",
       "    <tr>\n",
       "      <th>79</th>\n",
       "      <td>Ian Clark</td>\n",
       "      <td>Golden State Warriors</td>\n",
       "      <td>21.0</td>\n",
       "      <td>SG</td>\n",
       "      <td>25.0</td>\n",
       "      <td>6-3</td>\n",
       "      <td>175.0</td>\n",
       "      <td>Belmont</td>\n",
       "      <td>947276.0</td>\n",
       "      <td>-0.692944</td>\n",
       "    </tr>\n",
       "  </tbody>\n",
       "</table>\n",
       "</div>"
      ],
      "text/plain": [
       "               Name                   Team  Number Position   Age Height  \\\n",
       "76  Leandro Barbosa  Golden State Warriors    19.0       SG  33.0    6-3   \n",
       "77  Harrison Barnes  Golden State Warriors    40.0       SF  24.0    6-8   \n",
       "78     Andrew Bogut  Golden State Warriors    12.0        C  31.0    7-0   \n",
       "79        Ian Clark  Golden State Warriors    21.0       SG  25.0    6-3   \n",
       "\n",
       "    Weight         College      Salary  Team Age  \n",
       "76   194.0             NaN   2500000.0  1.385888  \n",
       "77   225.0  North Carolina   3873398.0 -0.952798  \n",
       "78   260.0            Utah  13800000.0  0.866180  \n",
       "79   175.0         Belmont    947276.0 -0.692944  "
      ]
     },
     "execution_count": 53,
     "metadata": {},
     "output_type": "execute_result"
    }
   ],
   "source": [
    "nba_df[nba_df[\"Team\"]==\"Golden State Warriors\"][:4]"
   ]
  },
  {
   "cell_type": "markdown",
   "metadata": {},
   "source": [
    "Compare 25-year old Avery Bradley playing for the Celtics with 25-year old Ian Clark\n",
    "playing with the Warriors.  \n",
    "\n",
    "Clark's Team Age is -.69, while Bradley's .09.  This indicates Bradley at 25\n",
    "is very near his team's mean in Age, but slightly above it;\n",
    "while Clark at 25 is well below it.  The Warriors\n",
    "are an older team."
   ]
  },
  {
   "cell_type": "markdown",
   "metadata": {},
   "source": [
    "##### Understanding cross-tabulation"
   ]
  },
  {
   "cell_type": "code",
   "execution_count": 58,
   "metadata": {},
   "outputs": [
    {
     "name": "stdout",
     "output_type": "stream",
     "text": [
      "4,181,504.86\n",
      "5,924,599.80\n"
     ]
    }
   ],
   "source": [
    "salary_df2 = gt['Salary'].mean()\n",
    "print(f'{salary_df2.loc[\"Boston Celtics\"]:6,.2f}')\n",
    "print(f'{salary_df2.loc[\"Golden State Warriors\"]:6,.2f}')"
   ]
  },
  {
   "cell_type": "markdown",
   "metadata": {},
   "source": [
    "With the help of the grouping operation we're now in a position to be able\n",
    "to characterize cross-tabulation a little more generally.\n",
    "\n",
    "Grouping is the first step in cross-tabulation (which actually uses all\n",
    "three steps of the split/apply/combine strategy).\n",
    "\n",
    "Let's take our group-by-team-and-position object and compute the size of each group.\n",
    "\n",
    "The result is a doubly indexed Series containing group sizes:"
   ]
  },
  {
   "cell_type": "code",
   "execution_count": 104,
   "metadata": {},
   "outputs": [
    {
     "name": "stdout",
     "output_type": "stream",
     "text": [
      "<class 'pandas.core.series.Series'>\n",
      "Team               Position\n",
      "Atlanta Hawks      C           3\n",
      "                   PF          4\n",
      "                   PG          2\n",
      "                   SF          2\n",
      "                   SG          4\n",
      "Boston Celtics     C           3\n",
      "                   PF          3\n",
      "                   PG          4\n",
      "                   SF          1\n",
      "                   SG          4\n",
      "Brooklyn Nets      C           2\n",
      "                   PF          4\n",
      "                   PG          3\n",
      "                   SG          6\n",
      "Charlotte Hornets  C           3\n",
      "                   PF          3\n",
      "                   PG          3\n",
      "                   SF          1\n",
      "                   SG          5\n",
      "Name: Name, dtype: int64\n"
     ]
    }
   ],
   "source": [
    "#  This with-construction executes code in a CONTEXT\n",
    "#  which then goes away after the code block is exited.\n",
    "#  Here we ask pandas to (just this once) print more than the default number of rows\n",
    "with pd.option_context('display.max_rows', None):\n",
    "    print(type(gtp['Name'].count()))\n",
    "    print(gtp['Name'].count()[:19])"
   ]
  },
  {
   "cell_type": "markdown",
   "metadata": {},
   "source": [
    "This is exactly the same information we would get with a cross-tabulation, except that the\n",
    "result is packaged in a singly indexed DataFrame with multiple columns:"
   ]
  },
  {
   "cell_type": "code",
   "execution_count": 69,
   "metadata": {
    "scrolled": true
   },
   "outputs": [
    {
     "name": "stdout",
     "output_type": "stream",
     "text": [
      "<class 'pandas.core.frame.DataFrame'>\n"
     ]
    },
    {
     "data": {
      "text/html": [
       "<div>\n",
       "<style scoped>\n",
       "    .dataframe tbody tr th:only-of-type {\n",
       "        vertical-align: middle;\n",
       "    }\n",
       "\n",
       "    .dataframe tbody tr th {\n",
       "        vertical-align: top;\n",
       "    }\n",
       "\n",
       "    .dataframe thead th {\n",
       "        text-align: right;\n",
       "    }\n",
       "</style>\n",
       "<table border=\"1\" class=\"dataframe\">\n",
       "  <thead>\n",
       "    <tr style=\"text-align: right;\">\n",
       "      <th>Position</th>\n",
       "      <th>C</th>\n",
       "      <th>PF</th>\n",
       "      <th>PG</th>\n",
       "      <th>SF</th>\n",
       "      <th>SG</th>\n",
       "      <th>All</th>\n",
       "    </tr>\n",
       "    <tr>\n",
       "      <th>Team</th>\n",
       "      <th></th>\n",
       "      <th></th>\n",
       "      <th></th>\n",
       "      <th></th>\n",
       "      <th></th>\n",
       "      <th></th>\n",
       "    </tr>\n",
       "  </thead>\n",
       "  <tbody>\n",
       "    <tr>\n",
       "      <th>Atlanta Hawks</th>\n",
       "      <td>3</td>\n",
       "      <td>4</td>\n",
       "      <td>2</td>\n",
       "      <td>2</td>\n",
       "      <td>4</td>\n",
       "      <td>15</td>\n",
       "    </tr>\n",
       "    <tr>\n",
       "      <th>Boston Celtics</th>\n",
       "      <td>3</td>\n",
       "      <td>3</td>\n",
       "      <td>4</td>\n",
       "      <td>1</td>\n",
       "      <td>4</td>\n",
       "      <td>15</td>\n",
       "    </tr>\n",
       "    <tr>\n",
       "      <th>Brooklyn Nets</th>\n",
       "      <td>2</td>\n",
       "      <td>4</td>\n",
       "      <td>3</td>\n",
       "      <td>0</td>\n",
       "      <td>6</td>\n",
       "      <td>15</td>\n",
       "    </tr>\n",
       "    <tr>\n",
       "      <th>Charlotte Hornets</th>\n",
       "      <td>3</td>\n",
       "      <td>3</td>\n",
       "      <td>3</td>\n",
       "      <td>1</td>\n",
       "      <td>5</td>\n",
       "      <td>15</td>\n",
       "    </tr>\n",
       "    <tr>\n",
       "      <th>Chicago Bulls</th>\n",
       "      <td>2</td>\n",
       "      <td>5</td>\n",
       "      <td>2</td>\n",
       "      <td>2</td>\n",
       "      <td>4</td>\n",
       "      <td>15</td>\n",
       "    </tr>\n",
       "    <tr>\n",
       "      <th>Cleveland Cavaliers</th>\n",
       "      <td>3</td>\n",
       "      <td>2</td>\n",
       "      <td>3</td>\n",
       "      <td>2</td>\n",
       "      <td>5</td>\n",
       "      <td>15</td>\n",
       "    </tr>\n",
       "  </tbody>\n",
       "</table>\n",
       "</div>"
      ],
      "text/plain": [
       "Position             C  PF  PG  SF  SG  All\n",
       "Team                                       \n",
       "Atlanta Hawks        3   4   2   2   4   15\n",
       "Boston Celtics       3   3   4   1   4   15\n",
       "Brooklyn Nets        2   4   3   0   6   15\n",
       "Charlotte Hornets    3   3   3   1   5   15\n",
       "Chicago Bulls        2   5   2   2   4   15\n",
       "Cleveland Cavaliers  3   2   3   2   5   15"
      ]
     },
     "execution_count": 69,
     "metadata": {},
     "output_type": "execute_result"
    }
   ],
   "source": [
    "tp_ct = pd.crosstab(nba_df['Team'], nba_df['Position'],margins=True)\n",
    "print(type(tp_ct))\n",
    "tp_ct[:6]"
   ]
  },
  {
   "cell_type": "markdown",
   "metadata": {},
   "source": [
    "In fact, we can get from the `Series` created by `groupby().count()` to (very nearly) the \n",
    "`DataFrame` created by `crosstab`  by doing an unstack:"
   ]
  },
  {
   "cell_type": "code",
   "execution_count": 70,
   "metadata": {},
   "outputs": [
    {
     "name": "stdout",
     "output_type": "stream",
     "text": [
      "<class 'pandas.core.frame.DataFrame'>\n"
     ]
    },
    {
     "data": {
      "text/html": [
       "<div>\n",
       "<style scoped>\n",
       "    .dataframe tbody tr th:only-of-type {\n",
       "        vertical-align: middle;\n",
       "    }\n",
       "\n",
       "    .dataframe tbody tr th {\n",
       "        vertical-align: top;\n",
       "    }\n",
       "\n",
       "    .dataframe thead th {\n",
       "        text-align: right;\n",
       "    }\n",
       "</style>\n",
       "<table border=\"1\" class=\"dataframe\">\n",
       "  <thead>\n",
       "    <tr style=\"text-align: right;\">\n",
       "      <th>Position</th>\n",
       "      <th>C</th>\n",
       "      <th>PF</th>\n",
       "      <th>PG</th>\n",
       "      <th>SF</th>\n",
       "      <th>SG</th>\n",
       "    </tr>\n",
       "    <tr>\n",
       "      <th>Team</th>\n",
       "      <th></th>\n",
       "      <th></th>\n",
       "      <th></th>\n",
       "      <th></th>\n",
       "      <th></th>\n",
       "    </tr>\n",
       "  </thead>\n",
       "  <tbody>\n",
       "    <tr>\n",
       "      <th>Atlanta Hawks</th>\n",
       "      <td>3.0</td>\n",
       "      <td>4.0</td>\n",
       "      <td>2.0</td>\n",
       "      <td>2.0</td>\n",
       "      <td>4.0</td>\n",
       "    </tr>\n",
       "    <tr>\n",
       "      <th>Boston Celtics</th>\n",
       "      <td>3.0</td>\n",
       "      <td>3.0</td>\n",
       "      <td>4.0</td>\n",
       "      <td>1.0</td>\n",
       "      <td>4.0</td>\n",
       "    </tr>\n",
       "    <tr>\n",
       "      <th>Brooklyn Nets</th>\n",
       "      <td>2.0</td>\n",
       "      <td>4.0</td>\n",
       "      <td>3.0</td>\n",
       "      <td>NaN</td>\n",
       "      <td>6.0</td>\n",
       "    </tr>\n",
       "    <tr>\n",
       "      <th>Charlotte Hornets</th>\n",
       "      <td>3.0</td>\n",
       "      <td>3.0</td>\n",
       "      <td>3.0</td>\n",
       "      <td>1.0</td>\n",
       "      <td>5.0</td>\n",
       "    </tr>\n",
       "    <tr>\n",
       "      <th>Chicago Bulls</th>\n",
       "      <td>2.0</td>\n",
       "      <td>5.0</td>\n",
       "      <td>2.0</td>\n",
       "      <td>2.0</td>\n",
       "      <td>4.0</td>\n",
       "    </tr>\n",
       "    <tr>\n",
       "      <th>Cleveland Cavaliers</th>\n",
       "      <td>3.0</td>\n",
       "      <td>2.0</td>\n",
       "      <td>3.0</td>\n",
       "      <td>2.0</td>\n",
       "      <td>5.0</td>\n",
       "    </tr>\n",
       "  </tbody>\n",
       "</table>\n",
       "</div>"
      ],
      "text/plain": [
       "Position               C   PF   PG   SF   SG\n",
       "Team                                        \n",
       "Atlanta Hawks        3.0  4.0  2.0  2.0  4.0\n",
       "Boston Celtics       3.0  3.0  4.0  1.0  4.0\n",
       "Brooklyn Nets        2.0  4.0  3.0  NaN  6.0\n",
       "Charlotte Hornets    3.0  3.0  3.0  1.0  5.0\n",
       "Chicago Bulls        2.0  5.0  2.0  2.0  4.0\n",
       "Cleveland Cavaliers  3.0  2.0  3.0  2.0  5.0"
      ]
     },
     "execution_count": 70,
     "metadata": {},
     "output_type": "execute_result"
    }
   ],
   "source": [
    "print(type(gtp['Name'].count().unstack()))\n",
    "gtp['Name'].count().unstack()[:6]"
   ]
  },
  {
   "cell_type": "markdown",
   "metadata": {},
   "source": [
    "Pandas data can easily and cheaply be manipulated into different forms. Along\n",
    "with that capability comes the possibility of accomplishing the same thing\n",
    "in different ways, as we did with the cross-tabulation example. In many cases,\n",
    "there is no right way; it doesn't matter which way we choose to get things done.\n",
    "We want to think of Pandas as a tool set for providing different views on data.\n",
    "To get to those views we may need to pass through different Pandas types, as we did\n",
    "in these last few examples, moving between DataFrames, Groupby instances, Series instances,\n",
    "and back to DataFrames.  We choose whatever representation works for the data analysis \n",
    "task at hand, whether it's tabular display, aggregation functions, or plotting.\n",
    "\n",
    "Turning specifically to cross-tabulation,\n",
    "it's always useful to think of cross-tabulation in terms of the split/apply/combine strategy,\n",
    "which we've emphasized in this part of the notebook by using `groupby`. \n",
    "\n",
    "1.  **Splitting** the data into the groups defined by the input sequences.\n",
    "2.  **Applying** the operation of counting to the groups.\n",
    "3.  **Combining** the results into a DataFrame.\n",
    "\n",
    "We will return to the split/apply/combine strategy in part two of the\n",
    "pandas introduction.\n",
    "\n"
   ]
  },
  {
   "cell_type": "markdown",
   "metadata": {},
   "source": [
    "## Exercises combining everything we've learned in Part One."
   ]
  },
  {
   "cell_type": "markdown",
   "metadata": {},
   "source": [
    "Try answering the following questions.  Note.  You may or may not have to use `groupby` method in your answers.  Even if you know how to use \n",
    "pandas `pivot_table` function, try to avoid using that.\n",
    "Answers follow a few cells down.\n",
    "\n",
    "1.  How many NBA players weigh under 220?\n",
    "1.  By position, how many players weigh under 220?  How many do not?   In other words, create a DataFrame whose index is position with two columns, False and True, which contain the counts of the players under and not under 220.\n",
    "1.  What is the average weight of Centers in the league? Which position is heavier on average, Center or Power Forward?\n",
    "1.  What is the average height of Centers in the league? Which position is taller on average, Center or Power Forward?  Note: This is not just a boring minor variation on the previous question.  There is a complication.\n",
    "3.  What position earns the highest salary on average?\n",
    "4.  What colleges have supplied the most current NBA players?  How many colleges\n",
    "have supplied only one NBA player?"
   ]
  },
  {
   "cell_type": "markdown",
   "metadata": {},
   "source": [
    "#### Q1 How many NBA players weigh under 220?"
   ]
  },
  {
   "cell_type": "code",
   "execution_count": 96,
   "metadata": {},
   "outputs": [
    {
     "data": {
      "text/plain": [
       "205"
      ]
     },
     "execution_count": 96,
     "metadata": {},
     "output_type": "execute_result"
    }
   ],
   "source": [
    "len(nba_df[nba_df['Weight']<220])"
   ]
  },
  {
   "cell_type": "markdown",
   "metadata": {},
   "source": [
    "#### Q2 By position, how many NBA players weigh under 220?"
   ]
  },
  {
   "cell_type": "markdown",
   "metadata": {},
   "source": [
    "Can we make this a cross tabulation question?\n",
    "\n",
    "Just cross tab the position column with the \"weighs under 220\" column.\n",
    "Whoops, we don't have one.\n",
    "\n",
    "Se we make one, \n",
    "using a Boolean constraint to create one (we don't need to make it an official column). \n",
    "Then we do a cross-tabulation."
   ]
  },
  {
   "cell_type": "code",
   "execution_count": 106,
   "metadata": {},
   "outputs": [
    {
     "data": {
      "text/html": [
       "<div>\n",
       "<style scoped>\n",
       "    .dataframe tbody tr th:only-of-type {\n",
       "        vertical-align: middle;\n",
       "    }\n",
       "\n",
       "    .dataframe tbody tr th {\n",
       "        vertical-align: top;\n",
       "    }\n",
       "\n",
       "    .dataframe thead th {\n",
       "        text-align: right;\n",
       "    }\n",
       "</style>\n",
       "<table border=\"1\" class=\"dataframe\">\n",
       "  <thead>\n",
       "    <tr style=\"text-align: right;\">\n",
       "      <th>Weight</th>\n",
       "      <th>False</th>\n",
       "      <th>True</th>\n",
       "    </tr>\n",
       "    <tr>\n",
       "      <th>Position</th>\n",
       "      <th></th>\n",
       "      <th></th>\n",
       "    </tr>\n",
       "  </thead>\n",
       "  <tbody>\n",
       "    <tr>\n",
       "      <th>C</th>\n",
       "      <td>78</td>\n",
       "      <td>0</td>\n",
       "    </tr>\n",
       "    <tr>\n",
       "      <th>PF</th>\n",
       "      <td>98</td>\n",
       "      <td>2</td>\n",
       "    </tr>\n",
       "    <tr>\n",
       "      <th>PG</th>\n",
       "      <td>1</td>\n",
       "      <td>91</td>\n",
       "    </tr>\n",
       "    <tr>\n",
       "      <th>SF</th>\n",
       "      <td>54</td>\n",
       "      <td>31</td>\n",
       "    </tr>\n",
       "    <tr>\n",
       "      <th>SG</th>\n",
       "      <td>21</td>\n",
       "      <td>81</td>\n",
       "    </tr>\n",
       "  </tbody>\n",
       "</table>\n",
       "</div>"
      ],
      "text/plain": [
       "Weight    False  True \n",
       "Position              \n",
       "C            78      0\n",
       "PF           98      2\n",
       "PG            1     91\n",
       "SF           54     31\n",
       "SG           21     81"
      ]
     },
     "execution_count": 106,
     "metadata": {},
     "output_type": "execute_result"
    }
   ],
   "source": [
    "# a virtual new column containing Booleans\n",
    "under_220 = nba_df['Weight']<220\n",
    "wt_pos_ct = pd.crosstab(nba_df['Position'],under_220)\n",
    "wt_pos_ct"
   ]
  },
  {
   "cell_type": "code",
   "execution_count": 107,
   "metadata": {},
   "outputs": [
    {
     "data": {
      "text/html": [
       "<div>\n",
       "<style scoped>\n",
       "    .dataframe tbody tr th:only-of-type {\n",
       "        vertical-align: middle;\n",
       "    }\n",
       "\n",
       "    .dataframe tbody tr th {\n",
       "        vertical-align: top;\n",
       "    }\n",
       "\n",
       "    .dataframe thead th {\n",
       "        text-align: right;\n",
       "    }\n",
       "</style>\n",
       "<table border=\"1\" class=\"dataframe\">\n",
       "  <thead>\n",
       "    <tr style=\"text-align: right;\">\n",
       "      <th>Under 220</th>\n",
       "      <th>False</th>\n",
       "      <th>True</th>\n",
       "    </tr>\n",
       "    <tr>\n",
       "      <th>Position</th>\n",
       "      <th></th>\n",
       "      <th></th>\n",
       "    </tr>\n",
       "  </thead>\n",
       "  <tbody>\n",
       "    <tr>\n",
       "      <th>C</th>\n",
       "      <td>78</td>\n",
       "      <td>0</td>\n",
       "    </tr>\n",
       "    <tr>\n",
       "      <th>PF</th>\n",
       "      <td>98</td>\n",
       "      <td>2</td>\n",
       "    </tr>\n",
       "    <tr>\n",
       "      <th>PG</th>\n",
       "      <td>1</td>\n",
       "      <td>91</td>\n",
       "    </tr>\n",
       "    <tr>\n",
       "      <th>SF</th>\n",
       "      <td>54</td>\n",
       "      <td>31</td>\n",
       "    </tr>\n",
       "    <tr>\n",
       "      <th>SG</th>\n",
       "      <td>21</td>\n",
       "      <td>81</td>\n",
       "    </tr>\n",
       "  </tbody>\n",
       "</table>\n",
       "</div>"
      ],
      "text/plain": [
       "Under 220  False  True \n",
       "Position               \n",
       "C             78      0\n",
       "PF            98      2\n",
       "PG             1     91\n",
       "SF            54     31\n",
       "SG            21     81"
      ]
     },
     "execution_count": 107,
     "metadata": {},
     "output_type": "execute_result"
    }
   ],
   "source": [
    "# Note the above answer is fine. But it's nice to supply a column name for our bogus column\n",
    "# to clarify what's being shown\n",
    "wt_pos_ct = pd.crosstab(nba_df['Position'],under_220,colnames=['Under 220'])\n",
    "wt_pos_ct"
   ]
  },
  {
   "cell_type": "markdown",
   "metadata": {},
   "source": [
    "#### Q3 What is the average weight of Centers in the league? Which position is heavier on average, Center or Power Forward?"
   ]
  },
  {
   "cell_type": "markdown",
   "metadata": {},
   "source": [
    "This can be answered as follows:"
   ]
  },
  {
   "cell_type": "code",
   "execution_count": 108,
   "metadata": {},
   "outputs": [
    {
     "data": {
      "text/plain": [
       "254.2051282051282"
      ]
     },
     "execution_count": 108,
     "metadata": {},
     "output_type": "execute_result"
    }
   ],
   "source": [
    "# create a group of rows\n",
    "centers = nba_df[nba_df['Position'] == 'C']\n",
    "# Do your statistical operation\n",
    "c_mean= centers['Weight'].mean()\n",
    "c_mean"
   ]
  },
  {
   "cell_type": "code",
   "execution_count": 109,
   "metadata": {},
   "outputs": [
    {
     "data": {
      "text/plain": [
       "240.43"
      ]
     },
     "execution_count": 109,
     "metadata": {},
     "output_type": "execute_result"
    }
   ],
   "source": [
    "# create a group of rows\n",
    "pfs = nba_df[nba_df['Position'] == 'PF']\n",
    "# Do your statistical operation\n",
    "pf_mean = pfs['Weight'].mean()\n",
    "pf_mean"
   ]
  },
  {
   "cell_type": "code",
   "execution_count": 110,
   "metadata": {},
   "outputs": [
    {
     "data": {
      "text/plain": [
       "True"
      ]
     },
     "execution_count": 110,
     "metadata": {},
     "output_type": "execute_result"
    }
   ],
   "source": [
    "c_mean>pf_mean"
   ]
  },
  {
   "cell_type": "markdown",
   "metadata": {},
   "source": [
    "But since we have to the same\n",
    "mean operation on more than one position,\n",
    "let's look at some answers that work for all positions simultaneously,"
   ]
  },
  {
   "cell_type": "code",
   "execution_count": 112,
   "metadata": {},
   "outputs": [
    {
     "data": {
      "text/plain": [
       "Position\n",
       "C     254.205128\n",
       "PF    240.430000\n",
       "PG    189.478261\n",
       "SF    221.776471\n",
       "SG    206.686275\n",
       "Name: Weight, dtype: float64"
      ]
     },
     "execution_count": 112,
     "metadata": {},
     "output_type": "execute_result"
    }
   ],
   "source": [
    "gp = nba_df.groupby('Position')\n",
    "weight_by_position = gp['Weight'].mean()\n",
    "# This is a Series\n",
    "weight_by_position                  "
   ]
  },
  {
   "cell_type": "code",
   "execution_count": 113,
   "metadata": {},
   "outputs": [
    {
     "name": "stdout",
     "output_type": "stream",
     "text": [
      "254.2051282051282\n",
      "True\n"
     ]
    }
   ],
   "source": [
    "#Q1\n",
    "print(weight_by_position['C'])\n",
    "#Q2\n",
    "print(weight_by_position['C'] > weight_by_position['SF'])"
   ]
  },
  {
   "cell_type": "code",
   "execution_count": 52,
   "metadata": {},
   "outputs": [
    {
     "data": {
      "text/html": [
       "<div>\n",
       "<style scoped>\n",
       "    .dataframe tbody tr th:only-of-type {\n",
       "        vertical-align: middle;\n",
       "    }\n",
       "\n",
       "    .dataframe tbody tr th {\n",
       "        vertical-align: top;\n",
       "    }\n",
       "\n",
       "    .dataframe thead th {\n",
       "        text-align: right;\n",
       "    }\n",
       "</style>\n",
       "<table border=\"1\" class=\"dataframe\">\n",
       "  <thead>\n",
       "    <tr style=\"text-align: right;\">\n",
       "      <th></th>\n",
       "      <th>Weight</th>\n",
       "    </tr>\n",
       "    <tr>\n",
       "      <th>Position</th>\n",
       "      <th></th>\n",
       "    </tr>\n",
       "  </thead>\n",
       "  <tbody>\n",
       "    <tr>\n",
       "      <th>C</th>\n",
       "      <td>254.205128</td>\n",
       "    </tr>\n",
       "    <tr>\n",
       "      <th>PF</th>\n",
       "      <td>240.430000</td>\n",
       "    </tr>\n",
       "    <tr>\n",
       "      <th>PG</th>\n",
       "      <td>189.478261</td>\n",
       "    </tr>\n",
       "    <tr>\n",
       "      <th>SF</th>\n",
       "      <td>221.776471</td>\n",
       "    </tr>\n",
       "    <tr>\n",
       "      <th>SG</th>\n",
       "      <td>206.686275</td>\n",
       "    </tr>\n",
       "  </tbody>\n",
       "</table>\n",
       "</div>"
      ],
      "text/plain": [
       "              Weight\n",
       "Position            \n",
       "C         254.205128\n",
       "PF        240.430000\n",
       "PG        189.478261\n",
       "SF        221.776471\n",
       "SG        206.686275"
      ]
     },
     "execution_count": 52,
     "metadata": {},
     "output_type": "execute_result"
    }
   ],
   "source": [
    "# Note also: This one is a natural pivot table question, \n",
    "# with `weight_by_position` a DataFrame, not a Series\n",
    "\n",
    "weight_by_position_df  = pd.pivot_table(nba_df,index='Position',\n",
    "                                        values='Weight',aggfunc='mean')\n",
    "weight_by_position_df"
   ]
  },
  {
   "cell_type": "markdown",
   "metadata": {},
   "source": [
    "Visually:"
   ]
  },
  {
   "cell_type": "code",
   "execution_count": 53,
   "metadata": {
    "scrolled": true
   },
   "outputs": [
    {
     "data": {
      "text/plain": [
       "<AxesSubplot:xlabel='Position'>"
      ]
     },
     "execution_count": 53,
     "metadata": {},
     "output_type": "execute_result"
    },
    {
     "data": {
      "image/png": "[encoded data removed]",
      "text/plain": [
       "<Figure size 640x480 with 1 Axes>"
      ]
     },
     "metadata": {},
     "output_type": "display_data"
    }
   ],
   "source": [
    "weight_by_position_df.plot(kind=\"bar\")"
   ]
  },
  {
   "cell_type": "markdown",
   "metadata": {},
   "source": [
    "Note:  This is a bad visualization because all the positions have means over 160, but we\n",
    "are cluttering most of the visual real estate with the range between 0 and 160 pounds, shrinking the region where th real contrasts lie.  This is easily fixed:"
   ]
  },
  {
   "cell_type": "code",
   "execution_count": 54,
   "metadata": {},
   "outputs": [
    {
     "data": {
      "text/plain": [
       "<AxesSubplot:xlabel='Position'>"
      ]
     },
     "execution_count": 54,
     "metadata": {},
     "output_type": "execute_result"
    },
    {
     "data": {
      "image/png": "[encoded data removed]",
      "text/plain": [
       "<Figure size 640x480 with 1 Axes>"
      ]
     },
     "metadata": {},
     "output_type": "display_data"
    }
   ],
   "source": [
    "weight_by_position_df.plot(kind=\"bar\",ylim=[160,270])"
   ]
  },
  {
   "cell_type": "code",
   "execution_count": 115,
   "metadata": {},
   "outputs": [
    {
     "name": "stdout",
     "output_type": "stream",
     "text": [
      "254.2051282051282\n",
      "\n",
      "Weight    True\n",
      "dtype: bool\n"
     ]
    }
   ],
   "source": [
    "print(weight_by_position_df.loc['C','Weight'])\n",
    "print()\n",
    "print(weight_by_position_df.loc['C'] > weight_by_position_df.loc['SF'])"
   ]
  },
  {
   "cell_type": "markdown",
   "metadata": {},
   "source": [
    "#### Q4 What is the average height of Centers in the league?"
   ]
  },
  {
   "cell_type": "markdown",
   "metadata": {},
   "source": [
    "It is a more challenging task to answer these same questions about heights.\n",
    "\n",
    "This is because the entries in the height column are strings \n",
    "that need to be converted to numbers before a mean can be taken."
   ]
  },
  {
   "cell_type": "code",
   "execution_count": 20,
   "metadata": {},
   "outputs": [
    {
     "data": {
      "text/plain": [
       "'6-2'"
      ]
     },
     "execution_count": 20,
     "metadata": {},
     "output_type": "execute_result"
    }
   ],
   "source": [
    "sample_height = nba_df['Height'].iloc[0]\n",
    "sample_height"
   ]
  },
  {
   "cell_type": "code",
   "execution_count": 21,
   "metadata": {},
   "outputs": [
    {
     "data": {
      "text/plain": [
       "6.166666666666667"
      ]
     },
     "execution_count": 21,
     "metadata": {},
     "output_type": "execute_result"
    }
   ],
   "source": [
    "def str_height_to_float_height(str_height):\n",
    "    if not isinstance(str_height,str):\n",
    "        # If, for example, it's already a float (especially a NaN), leave it\n",
    "        return str_height\n",
    "    (ft, inch) = [int(s) for s in str_height.split('-')]\n",
    "    return ft + inch/12\n",
    "\n",
    "sample_height_float = str_height_to_float_height(sample_height)\n",
    "sample_height_float"
   ]
  },
  {
   "cell_type": "markdown",
   "metadata": {},
   "source": [
    "So we want to apply this function to every element of the Height Column.  Of course this were a vectorized `numpy` function we could just apply it to the `Series` and the right thing would happen, but it isn't; and it isn't a string method either, so we can't use `.str.str_height_to_float_height()`.  "
   ]
  },
  {
   "cell_type": "markdown",
   "metadata": {},
   "source": [
    "The `pandas` DataFrame and Series method `apply` applies a function to each\n",
    "row of `self` and returns the results as an instance\n",
    "of the same class as `self` with the same index.\n",
    "\n",
    "In the next cell we apply `str_height_to_float_height` \n",
    "to the Series `nba_df['Height']` and get back another Series.\n",
    "We use it to make a new column."
   ]
  },
  {
   "cell_type": "code",
   "execution_count": 22,
   "metadata": {},
   "outputs": [
    {
     "data": {
      "text/plain": [
       "0      6.166667\n",
       "1      6.500000\n",
       "2      6.416667\n",
       "3      6.416667\n",
       "4      6.833333\n",
       "         ...   \n",
       "453    6.250000\n",
       "454    6.083333\n",
       "455    7.250000\n",
       "456    7.000000\n",
       "457         NaN\n",
       "Name: HeightFloats, Length: 458, dtype: float64"
      ]
     },
     "execution_count": 22,
     "metadata": {},
     "output_type": "execute_result"
    }
   ],
   "source": [
    "nba_df['HeightFloats'] = nba_df['Height'].apply(str_height_to_float_height)\n",
    "nba_df['HeightFloats']"
   ]
  },
  {
   "cell_type": "markdown",
   "metadata": {},
   "source": [
    "Now we do with this new column what we did with Weights."
   ]
  },
  {
   "cell_type": "code",
   "execution_count": 23,
   "metadata": {},
   "outputs": [
    {
     "data": {
      "text/plain": [
       "Position\n",
       "C     6.941239\n",
       "PF    6.809167\n",
       "PG    6.202899\n",
       "SF    6.632353\n",
       "SG    6.461601\n",
       "Name: HeightFloats, dtype: float64"
      ]
     },
     "execution_count": 23,
     "metadata": {},
     "output_type": "execute_result"
    }
   ],
   "source": [
    "height_by_position = gp['HeightFloats'].mean()\n",
    "height_by_position"
   ]
  },
  {
   "cell_type": "markdown",
   "metadata": {},
   "source": [
    "Visually:"
   ]
  },
  {
   "cell_type": "code",
   "execution_count": 34,
   "metadata": {},
   "outputs": [
    {
     "data": {
      "text/plain": [
       "<AxesSubplot:xlabel='Position'>"
      ]
     },
     "execution_count": 34,
     "metadata": {},
     "output_type": "execute_result"
    },
    {
     "data": {
      "image/png": "[encoded data removed]",
      "text/plain": [
       "<Figure size 640x480 with 1 Axes>"
      ]
     },
     "metadata": {},
     "output_type": "display_data"
    }
   ],
   "source": [
    "height_by_position.plot(kind=\"bar\",ylim=[6,7])"
   ]
  },
  {
   "cell_type": "code",
   "execution_count": 121,
   "metadata": {},
   "outputs": [
    {
     "name": "stdout",
     "output_type": "stream",
     "text": [
      "6.941239316239316\n",
      "True\n"
     ]
    }
   ],
   "source": [
    "#Height of centers\n",
    "print(height_by_position['C'])\n",
    "# Who's taller, centers or power forwards?\n",
    "print(height_by_position['C'] > height_by_position['SF'])"
   ]
  },
  {
   "cell_type": "markdown",
   "metadata": {},
   "source": [
    "The following might be a nice thing to do.  Turn the mean heights\n",
    "back into normal-looking height strings."
   ]
  },
  {
   "cell_type": "code",
   "execution_count": 122,
   "metadata": {},
   "outputs": [
    {
     "data": {
      "text/plain": [
       "Position\n",
       "C     6-11\n",
       "PF    6-10\n",
       "PG     6-2\n",
       "SF     6-8\n",
       "SG     6-6\n",
       "Name: HeightFloats, dtype: object"
      ]
     },
     "execution_count": 122,
     "metadata": {},
     "output_type": "execute_result"
    }
   ],
   "source": [
    "def float_height_to_str(ft_height):\n",
    "    if isinstance(ft_height,float) and np.isnan(ft_height):\n",
    "        # If it's  a NaN, leave it alone\n",
    "        return ft_height\n",
    "    # np.floor returns an int (mathematically) but its type is still float\n",
    "    (ft_int, inch_fl) = np.floor(ft_height), ft_height%1\n",
    "    return str(round(ft_int)) + '-' + str(round(inch_fl * 12))\n",
    "\n",
    "height_by_position.apply(float_height_to_str)"
   ]
  },
  {
   "cell_type": "markdown",
   "metadata": {},
   "source": [
    "#### Q5 What position earns the highest salary on average?"
   ]
  },
  {
   "cell_type": "markdown",
   "metadata": {},
   "source": [
    "Going back to groups and statistical aggregation functions."
   ]
  },
  {
   "cell_type": "code",
   "execution_count": 14,
   "metadata": {},
   "outputs": [
    {
     "data": {
      "text/plain": [
       "Position\n",
       "C     5.967052e+06\n",
       "PG    5.077829e+06\n",
       "SF    4.857393e+06\n",
       "PF    4.562483e+06\n",
       "SG    4.009861e+06\n",
       "Name: Salary, dtype: float64"
      ]
     },
     "execution_count": 14,
     "metadata": {},
     "output_type": "execute_result"
    }
   ],
   "source": [
    "gp = nba_df.groupby('Position')\n",
    "gp_salary_means = gp['Salary'].mean().sort_values(ascending=False)\n",
    "gp_salary_means"
   ]
  },
  {
   "cell_type": "markdown",
   "metadata": {},
   "source": [
    "Which position is it?  Well it's in the index, so:"
   ]
  },
  {
   "cell_type": "code",
   "execution_count": 124,
   "metadata": {},
   "outputs": [
    {
     "data": {
      "text/plain": [
       "'C'"
      ]
     },
     "execution_count": 124,
     "metadata": {},
     "output_type": "execute_result"
    }
   ],
   "source": [
    "gp_salary_means.index[0]"
   ]
  },
  {
   "cell_type": "markdown",
   "metadata": {},
   "source": [
    "And of course taking the means from a value column,\n",
    "for row groups defined by some other column can also\n",
    "be accomplished with `df.pivot_table()`."
   ]
  },
  {
   "cell_type": "code",
   "execution_count": 16,
   "metadata": {},
   "outputs": [
    {
     "data": {
      "text/html": [
       "<div>\n",
       "<style scoped>\n",
       "    .dataframe tbody tr th:only-of-type {\n",
       "        vertical-align: middle;\n",
       "    }\n",
       "\n",
       "    .dataframe tbody tr th {\n",
       "        vertical-align: top;\n",
       "    }\n",
       "\n",
       "    .dataframe thead th {\n",
       "        text-align: right;\n",
       "    }\n",
       "</style>\n",
       "<table border=\"1\" class=\"dataframe\">\n",
       "  <thead>\n",
       "    <tr style=\"text-align: right;\">\n",
       "      <th></th>\n",
       "      <th>Salary</th>\n",
       "    </tr>\n",
       "    <tr>\n",
       "      <th>Position</th>\n",
       "      <th></th>\n",
       "    </tr>\n",
       "  </thead>\n",
       "  <tbody>\n",
       "    <tr>\n",
       "      <th>C</th>\n",
       "      <td>5.967052e+06</td>\n",
       "    </tr>\n",
       "    <tr>\n",
       "      <th>PG</th>\n",
       "      <td>5.077829e+06</td>\n",
       "    </tr>\n",
       "    <tr>\n",
       "      <th>SF</th>\n",
       "      <td>4.857393e+06</td>\n",
       "    </tr>\n",
       "    <tr>\n",
       "      <th>PF</th>\n",
       "      <td>4.562483e+06</td>\n",
       "    </tr>\n",
       "    <tr>\n",
       "      <th>SG</th>\n",
       "      <td>4.009861e+06</td>\n",
       "    </tr>\n",
       "  </tbody>\n",
       "</table>\n",
       "</div>"
      ],
      "text/plain": [
       "                Salary\n",
       "Position              \n",
       "C         5.967052e+06\n",
       "PG        5.077829e+06\n",
       "SF        4.857393e+06\n",
       "PF        4.562483e+06\n",
       "SG        4.009861e+06"
      ]
     },
     "execution_count": 16,
     "metadata": {},
     "output_type": "execute_result"
    }
   ],
   "source": [
    "# mean salary by position pivot table.\n",
    "nba_ppt = pd.pivot_table(nba_df,index='Position', values='Salary',aggfunc='mean')\n",
    "nba_ppt_std = nba_ppt.sort_values('Salary',ascending=False)\n",
    "nba_ppt_std"
   ]
  },
  {
   "cell_type": "markdown",
   "metadata": {},
   "source": [
    "Visually:"
   ]
  },
  {
   "cell_type": "code",
   "execution_count": 33,
   "metadata": {},
   "outputs": [
    {
     "data": {
      "text/plain": [
       "<AxesSubplot:xlabel='Position'>"
      ]
     },
     "execution_count": 33,
     "metadata": {},
     "output_type": "execute_result"
    },
    {
     "data": {
      "image/png": "[encoded data removed]",
      "text/plain": [
       "<Figure size 640x480 with 1 Axes>"
      ]
     },
     "metadata": {},
     "output_type": "display_data"
    }
   ],
   "source": [
    "nba_ppt_std.plot(kind=\"bar\",ylim=[3.9e6,6.1e6])"
   ]
  },
  {
   "cell_type": "code",
   "execution_count": 23,
   "metadata": {},
   "outputs": [
    {
     "data": {
      "text/plain": [
       "'C'"
      ]
     },
     "execution_count": 23,
     "metadata": {},
     "output_type": "execute_result"
    }
   ],
   "source": [
    "nba_ppt_std.index[0]"
   ]
  },
  {
   "cell_type": "markdown",
   "metadata": {},
   "source": [
    "#### Q6 What colleges have supplied the most current NBA players?"
   ]
  },
  {
   "cell_type": "markdown",
   "metadata": {},
   "source": [
    "Since there's no cross tabulation of multiple columns here, and the question\n",
    "involves counting values that are  onfined to one column (`'College'`), this\n",
    "question does not require either grouping or a pivot table.\n",
    "\n",
    "The `'.value_counts()'` method does everything we need."
   ]
  },
  {
   "cell_type": "code",
   "execution_count": 4,
   "metadata": {},
   "outputs": [
    {
     "data": {
      "text/plain": [
       "Kentucky          22\n",
       "Duke              20\n",
       "Kansas            18\n",
       "North Carolina    16\n",
       "UCLA              15\n",
       "Name: College, dtype: int64"
      ]
     },
     "execution_count": 4,
     "metadata": {},
     "output_type": "execute_result"
    }
   ],
   "source": [
    "college_cts = nba_df['College'].value_counts()\n",
    "college_cts[:5]"
   ]
  },
  {
   "cell_type": "markdown",
   "metadata": {},
   "source": [
    "**Q4 (ctd.) How many colleges have supplied only one NBA player?**"
   ]
  },
  {
   "cell_type": "code",
   "execution_count": null,
   "metadata": {},
   "outputs": [],
   "source": []
  },
  {
   "cell_type": "markdown",
   "metadata": {},
   "source": [
    "We need to create a Series that contains the frequency of each count in `college_counts`.\n",
    "\n",
    "Then we can retrieve the frequency for 1 NBA player.  That means using the\n",
    "`.value_counts()` method on `college_cts`.  Since the values in the `college_ counts` Series are NBA player counts, applying `.value_counts()` again will produce a Series whose index is NBA player counts and whose values are the number of times each player count has occurred; in this case that means the number of colleges that have supplied that many NBA players.\n",
    "\n",
    "The resulting Series is value-sorted by default:"
   ]
  },
  {
   "cell_type": "code",
   "execution_count": 36,
   "metadata": {
    "scrolled": true
   },
   "outputs": [
    {
     "data": {
      "text/plain": [
       "1     52\n",
       "2     24\n",
       "3     15\n",
       "6      6\n",
       "4      5\n",
       "5      4\n",
       "7      3\n",
       "22     1\n",
       "20     1\n",
       "18     1\n",
       "16     1\n",
       "15     1\n",
       "13     1\n",
       "10     1\n",
       "9      1\n",
       "8      1\n",
       "Name: College, dtype: int64"
      ]
     },
     "execution_count": 36,
     "metadata": {},
     "output_type": "execute_result"
    }
   ],
   "source": [
    "college_cts.value_counts()"
   ]
  },
  {
   "cell_type": "markdown",
   "metadata": {},
   "source": [
    "So 52 colleges have supplied exactly one NBA player; 24 have supplied 2; 15 have\n",
    "supplied 3; and so on.  This is exactly the information visualized by a histogram of counts, so when we do a bar plot (`kind = \"bar\"`) of `college_cts.value_counts()`, we will get a histogram.  We sort the index to get a visually more sensible display:"
   ]
  },
  {
   "cell_type": "code",
   "execution_count": 51,
   "metadata": {},
   "outputs": [
    {
     "data": {
      "text/plain": [
       "<AxesSubplot:>"
      ]
     },
     "execution_count": 51,
     "metadata": {},
     "output_type": "execute_result"
    },
    {
     "data": {
      "image/png": "[encoded data removed]",
      "text/plain": [
       "<Figure size 640x480 with 1 Axes>"
      ]
     },
     "metadata": {},
     "output_type": "display_data"
    }
   ],
   "source": [
    "college_cts.value_counts().sort_index().plot(kind=\"bar\",rot=0)"
   ]
  },
  {
   "cell_type": "markdown",
   "metadata": {},
   "source": [
    "The expression for exactly the value we want is:"
   ]
  },
  {
   "cell_type": "code",
   "execution_count": 128,
   "metadata": {},
   "outputs": [
    {
     "data": {
      "text/plain": [
       "52"
      ]
     },
     "execution_count": 128,
     "metadata": {},
     "output_type": "execute_result"
    }
   ],
   "source": [
    "college_cts.value_counts().loc[1]"
   ]
  },
  {
   "cell_type": "markdown",
   "metadata": {},
   "source": [
    "Note that this is not the same as:"
   ]
  },
  {
   "cell_type": "code",
   "execution_count": 55,
   "metadata": {},
   "outputs": [
    {
     "data": {
      "text/plain": [
       "24"
      ]
     },
     "execution_count": 55,
     "metadata": {},
     "output_type": "execute_result"
    }
   ],
   "source": [
    "college_cts.value_counts().iloc[1]"
   ]
  },
  {
   "cell_type": "markdown",
   "metadata": {},
   "source": [
    "Be sure you understand why."
   ]
  },
  {
   "cell_type": "markdown",
   "metadata": {},
   "source": []
  },
  {
   "cell_type": "markdown",
   "metadata": {
    "id": "SDyW3lWuACaL"
   },
   "source": [
    "<style>\n",
    "    @font-face {\n",
    "        font-family: \"Computer Modern\";\n",
    "        src: url('http://mirrors.ctan.org/fonts/cm-unicode/fonts/otf/cmunss.otf');\n",
    "    }\n",
    "    div.cell{\n",
    "        width:800px;\n",
    "        margin-left:16% !important;\n",
    "        margin-right:auto;\n",
    "    }\n",
    "    h1 {\n",
    "        font-family: Helvetica, serif;\n",
    "    }\n",
    "    h4{\n",
    "        margin-top:12px;\n",
    "        margin-bottom: 3px;\n",
    "       }\n",
    "    div.text_cell_render{\n",
    "        font-family: Computer Modern, \"Helvetica Neue\", Arial, Helvetica, Geneva, sans-serif;\n",
    "        line-height: 145%;\n",
    "        font-size: 130%;\n",
    "        width:800px;\n",
    "        margin-left:auto;\n",
    "        margin-right:auto;\n",
    "    }\n",
    "    .CodeMirror{\n",
    "            font-family: \"Source Code Pro\", source-code-pro,Consolas, monospace;\n",
    "    }\n",
    "    .text_cell_render h5 {\n",
    "        font-weight: 300;\n",
    "        font-size: 22pt;\n",
    "        color: #4057A1;\n",
    "        font-style: italic;\n",
    "        margin-bottom: .5em;\n",
    "        margin-top: 0.5em;\n",
    "        display: block;\n",
    "    }\n",
    "    \n",
    "    .warning{\n",
    "        color: rgb( 240, 20, 20 )\n",
    "        }  "
   ]
  }
 ],
 "metadata": {
  "colab": {
   "collapsed_sections": [
    "H0Fm26upACZa",
    "A5qu31VgACZd",
    "X20Rq_OmACZi",
    "K-4cvYzaACZp",
    "XQpmQCFTACZ7",
    "btRQesIMACZ8",
    "Q4kaHDAAACaB"
   ],
   "name": "Copy of general_pandas_intro.ipynb",
   "provenance": []
  },
  "kernelspec": {
   "display_name": "Python 3 (ipykernel)",
   "language": "python",
   "name": "python3"
  },
  "language_info": {
   "codemirror_mode": {
    "name": "ipython",
    "version": 3
   },
   "file_extension": ".py",
   "mimetype": "text/x-python",
   "name": "python",
   "nbconvert_exporter": "python",
   "pygments_lexer": "ipython3",
   "version": "3.10.6"
  },
  "name": "_merged",
  "toc": {
   "base_numbering": 1,
   "nav_menu": {
    "height": "318px",
    "width": "252px"
   },
   "number_sections": true,
   "sideBar": true,
   "skip_h1_title": false,
   "title_cell": "Table of Contents",
   "title_sidebar": "Contents",
   "toc_cell": false,
   "toc_position": {},
   "toc_section_display": "block",
   "toc_window_display": false
  }
 },
 "nbformat": 4,
 "nbformat_minor": 1
}
