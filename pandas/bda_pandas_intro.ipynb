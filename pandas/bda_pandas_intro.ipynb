{
 "cells": [
  {
   "cell_type": "markdown",
   "metadata": {
    "id": "v2q_VpQ-ACXR"
   },
   "source": [
    "# **General Pandas Introduction**"
   ]
  },
  {
   "cell_type": "markdown",
   "metadata": {
    "id": "6f3pb4n-FgQ3"
   },
   "source": [
    "[![Open In Colab](https://colab.research.google.com/assets/colab-badge.svg)](https://colab.research.google.com/github/gawron/python-for-social-science/blob/master/pandas/general_pandas_intro.ipynb)"
   ]
  },
  {
   "cell_type": "markdown",
   "metadata": {},
   "source": [
    "**Continuity note**: *This NB combines elements of general_pandas_intro.ipynb with pandas.ipynb and supercedes both of them.**"
   ]
  },
  {
   "cell_type": "markdown",
   "metadata": {
    "id": "KHwmdZkHACXS"
   },
   "source": [
    "## **Lesson 1**  \n",
    "\n",
    "**Create Data** - We begin by creating our own data set for analysis. This gives us a toy example to illustrate some basic operations with.   \n",
    "\n",
    "**Get Data** - We will learn how to read in data from the web.  The first dataset consist of baby names and the number of babies with those names in multiple years.  Flexibility \n",
    "at inputting  data in various formats is one of `pandas` strengths, though we won't\n",
    "explore that much today.\n",
    "\n",
    "**Analyze Data** - We step though some simple analytical tasks with the baby names data\n",
    "and extend what we know with some other data sets.\n",
    "\n",
    "**Present Data** - We plot some data in graphs, mostly via the very helpful plotting facilities `pandas` offers, and peek under the hood a bit at the default pandas backend\n",
    "for plotting, `matplotlib`.\n",
    "    "
   ]
  },
  {
   "cell_type": "markdown",
   "metadata": {
    "id": "AcDb1ccxACXT"
   },
   "source": [
    "The goal of this notebook is to introduce the two main `pandas` data types, `DataFrame`  and `Series`, and to introduce to some basic\n",
    "analytical tools, pivot tables, cross tabulations, and grouping. For much more detailed background on Pandas data structures, see http://pandas.pydata.org/pandas-docs/dev/dsintro.html.\n",
    "\n",
    "The `matplotlib` library will only be needed for the data presentation (plotting) exercises. "
   ]
  },
  {
   "cell_type": "code",
   "execution_count": 9,
   "metadata": {
    "id": "POLAnAWXACXY"
   },
   "outputs": [],
   "source": [
    "# Import all libraries needed for the tutorial\n",
    "\n",
    "##import (library) as (give the library a nickname/alias)\n",
    "import numpy as np\n",
    "import pandas as pd  \n",
    "# General syntax to import specific functions in a library: \n",
    "##from (library) import (specific library function)\n",
    "from pandas import DataFrame, read_csv\n",
    "\n",
    "# The usual preamble when using matplotlib. \n",
    "# Most of the code we call is in pyplot.\n",
    "import matplotlib.pyplot as plt\n",
    "\n",
    "# Make the graphs a bit prettier, and bigger\n",
    "#pd.set_option('display.mpl_style', 'default') \n",
    "pd.set_option('display.width', 5000) \n",
    "pd.set_option('display.max_columns', 60)"
   ]
  },
  {
   "cell_type": "markdown",
   "metadata": {},
   "source": [
    "This notebook was prepared with the following version\n",
    "of `pandas`.   The sort of basic functionality illustrated here\n",
    "shouldn;'t change much from version, but if do have issues reproducing\n",
    "what's in this notebook, re-execute the next cell and see\n",
    "if there's a change.  Report the version of pandas you used when reporting\n",
    "an issue.\n",
    "\n",
    "```\n",
    "pandas version used 1.3.5\n",
    "```"
   ]
  },
  {
   "cell_type": "code",
   "execution_count": 2,
   "metadata": {
    "colab": {
     "base_uri": "https://localhost:8080/"
    },
    "id": "g8JSDj_uACXl",
    "outputId": "9481ca22-02b3-490d-e336-a9352c059ab5"
   },
   "outputs": [
    {
     "name": "stdout",
     "output_type": "stream",
     "text": [
      "Pandas version 1.3.5\n"
     ]
    }
   ],
   "source": [
    "print(f'Pandas version {pd.__version__}')"
   ]
  },
  {
   "cell_type": "markdown",
   "metadata": {
    "id": "x0gSogHFACXn"
   },
   "source": [
    "# Create Data  \n",
    "\n",
    "Let's start with a toy dataset, then we'll ramp up.\n",
    "\n",
    "The data set will consist of 5 baby names and the number of births recorded for a particular year (1880, as it happens)."
   ]
  },
  {
   "cell_type": "code",
   "execution_count": 4,
   "metadata": {
    "id": "MVLGI1XOACXo"
   },
   "outputs": [],
   "source": [
    "# The initial set of baby names and birth rates\n",
    "names = ['Bob','Jessica','Mary','John','Mel']\n",
    "births = [968, 155, 77, 578, 973]"
   ]
  },
  {
   "cell_type": "markdown",
   "metadata": {
    "id": "NwPr3i1YACXq"
   },
   "source": [
    "To merge these two lists together we will use the ***zip*** function."
   ]
  },
  {
   "cell_type": "code",
   "execution_count": 5,
   "metadata": {
    "colab": {
     "base_uri": "https://localhost:8080/"
    },
    "id": "u5GEqd1xACXq",
    "outputId": "3199bdc8-9626-4e5a-a91a-02bcdd26a96d"
   },
   "outputs": [
    {
     "name": "stdout",
     "output_type": "stream",
     "text": [
      "[('Bob', 968), ('Jessica', 155), ('Mary', 77), ('John', 578), ('Mel', 973)]\n"
     ]
    }
   ],
   "source": [
    "BabyDataSet = list(zip(names,births))\n",
    "print(BabyDataSet)"
   ]
  },
  {
   "cell_type": "markdown",
   "metadata": {
    "id": "jFBtfhT7ACXs"
   },
   "source": [
    "We next create a DataFrame.\n",
    "\n",
    "***df*** will be a ***DataFrame*** object. You can think of this object holding the contents of the BabyDataSet in a format similar to a sql table or an excel spreadsheet. Lets take a look below at the contents inside ***df***."
   ]
  },
  {
   "cell_type": "code",
   "execution_count": 426,
   "metadata": {
    "colab": {
     "base_uri": "https://localhost:8080/",
     "height": 206
    },
    "id": "Q9g9ybq5ACXt",
    "outputId": "e8b56c07-f172-444e-a24f-e347956079aa",
    "scrolled": true
   },
   "outputs": [
    {
     "data": {
      "text/html": [
       "<div>\n",
       "<style scoped>\n",
       "    .dataframe tbody tr th:only-of-type {\n",
       "        vertical-align: middle;\n",
       "    }\n",
       "\n",
       "    .dataframe tbody tr th {\n",
       "        vertical-align: top;\n",
       "    }\n",
       "\n",
       "    .dataframe thead th {\n",
       "        text-align: right;\n",
       "    }\n",
       "</style>\n",
       "<table border=\"1\" class=\"dataframe\">\n",
       "  <thead>\n",
       "    <tr style=\"text-align: right;\">\n",
       "      <th></th>\n",
       "      <th>Names</th>\n",
       "      <th>Births</th>\n",
       "    </tr>\n",
       "  </thead>\n",
       "  <tbody>\n",
       "    <tr>\n",
       "      <th>0</th>\n",
       "      <td>Bob</td>\n",
       "      <td>968</td>\n",
       "    </tr>\n",
       "    <tr>\n",
       "      <th>1</th>\n",
       "      <td>Jessica</td>\n",
       "      <td>155</td>\n",
       "    </tr>\n",
       "    <tr>\n",
       "      <th>2</th>\n",
       "      <td>Mary</td>\n",
       "      <td>77</td>\n",
       "    </tr>\n",
       "    <tr>\n",
       "      <th>3</th>\n",
       "      <td>John</td>\n",
       "      <td>578</td>\n",
       "    </tr>\n",
       "    <tr>\n",
       "      <th>4</th>\n",
       "      <td>Mel</td>\n",
       "      <td>973</td>\n",
       "    </tr>\n",
       "  </tbody>\n",
       "</table>\n",
       "</div>"
      ],
      "text/plain": [
       "     Names  Births\n",
       "0      Bob     968\n",
       "1  Jessica     155\n",
       "2     Mary      77\n",
       "3     John     578\n",
       "4      Mel     973"
      ]
     },
     "execution_count": 426,
     "metadata": {},
     "output_type": "execute_result"
    }
   ],
   "source": [
    "df = DataFrame(data = BabyDataSet, columns=['Names', 'Births'])\n",
    "df"
   ]
  },
  {
   "cell_type": "markdown",
   "metadata": {},
   "source": [
    "This `pandas` `DataFrame`\n",
    "consists of 5 rows and 2 columns.  The numbers along the left edge are the index.  The general idea is that the index of a DataFrame provides a unique identifier\n",
    "for each row.  The index in this toy example looks like a positional (numerical) index,\n",
    "but an index does not have to be numbers and even if it is numerical, the numbers\n",
    "do not have to be sequential, as we will show shortly.\n",
    "\n",
    "**Names** and **Births** are column names, or **headers** similar to the ones found in an Excel spreadsheet or sql database."
   ]
  },
  {
   "cell_type": "markdown",
   "metadata": {},
   "source": [
    "For now, the best way to think of a DataFrame is as a 2D array  that uses keyword indexing\n",
    "instead of positional indexing.  We give some examples of indexing in\n",
    "the next section.\n",
    "\n",
    "First let's illustrate some basic structural ideas of DataFrames."
   ]
  },
  {
   "cell_type": "code",
   "execution_count": 7,
   "metadata": {},
   "outputs": [
    {
     "name": "stdout",
     "output_type": "stream",
     "text": [
      "<class 'pandas.core.frame.DataFrame'>\n",
      "RangeIndex: 5 entries, 0 to 4\n",
      "Data columns (total 2 columns):\n",
      " #   Column  Non-Null Count  Dtype \n",
      "---  ------  --------------  ----- \n",
      " 0   Names   5 non-null      object\n",
      " 1   Births  5 non-null      int64 \n",
      "dtypes: int64(1), object(1)\n",
      "memory usage: 208.0+ bytes\n"
     ]
    }
   ],
   "source": [
    "df.info()"
   ]
  },
  {
   "cell_type": "markdown",
   "metadata": {},
   "source": [
    "As this output suggests, the rows are indexed; each column has a data type.\n",
    "\n",
    "The data type `object` seen  in the above info printout is the data type `pandas` for to columns containing strings; indeed the column labeled `Names` is a column whose entries are all strings.  Similarly, the column labeled `Births` is a column of name counts, so we expect `integer` to be the type and it is (`int64` is a `numpy` internal type for\n",
    "integers).\n",
    "\n",
    "Like arrays, selection may be either by rows or columns, or combinations\n",
    "of both.  The column names and the index should be thought of as the keywords for\n",
    "column selection and row selection, respectively.  The index is simply some sequence\n",
    "of unique ids for each row, usually strings or numbers. It just happens to be a range\n",
    "of numbers in this toy example. "
   ]
  },
  {
   "cell_type": "markdown",
   "metadata": {},
   "source": [
    "Illustrating `int64`, integers in numpy arrays and pandas integer-typed columns will by default be of type `np.int64`."
   ]
  },
  {
   "cell_type": "code",
   "execution_count": 615,
   "metadata": {
    "scrolled": true
   },
   "outputs": [
    {
     "data": {
      "text/plain": [
       "False"
      ]
     },
     "execution_count": 615,
     "metadata": {},
     "output_type": "execute_result"
    }
   ],
   "source": [
    "# Oridnary Python integers are not of type np.int64\n",
    "isinstance(1,np.int64)"
   ]
  },
  {
   "cell_type": "code",
   "execution_count": 616,
   "metadata": {},
   "outputs": [
    {
     "data": {
      "text/plain": [
       "True"
      ]
     },
     "execution_count": 616,
     "metadata": {},
     "output_type": "execute_result"
    }
   ],
   "source": [
    "# Integers in numpy arrays are\n",
    "isinstance(np.array([1])[0],np.int64)"
   ]
  },
  {
   "cell_type": "markdown",
   "metadata": {},
   "source": [
    "# Selecting Columns"
   ]
  },
  {
   "cell_type": "markdown",
   "metadata": {},
   "source": [
    "Columns in a pandas `DataFrame` are accessed by keyword (column name)."
   ]
  },
  {
   "cell_type": "code",
   "execution_count": 469,
   "metadata": {},
   "outputs": [
    {
     "data": {
      "text/plain": [
       "0        Bob\n",
       "1    Jessica\n",
       "2       Mary\n",
       "3       John\n",
       "4        Mel\n",
       "Name: Names, dtype: object"
      ]
     },
     "execution_count": 469,
     "metadata": {},
     "output_type": "execute_result"
    }
   ],
   "source": [
    "df['Names']"
   ]
  },
  {
   "cell_type": "markdown",
   "metadata": {},
   "source": [
    "This is a column; as the output shows, the DataFrame indices persist.\n",
    "\n",
    "This makes a DataFrame look like a dictionary with column names as keys\n",
    "and columns as values.  In many contexts this is not a bad way to think about it.\n"
   ]
  },
  {
   "cell_type": "markdown",
   "metadata": {},
   "source": [
    "The data type of a column in pandas is `Series`. \n",
    "The column name is an attribute, though it is possible for a `Series` to be lacking this\n",
    "attribute:"
   ]
  },
  {
   "cell_type": "code",
   "execution_count": 17,
   "metadata": {},
   "outputs": [
    {
     "data": {
      "text/plain": [
       "'Names'"
      ]
     },
     "execution_count": 17,
     "metadata": {},
     "output_type": "execute_result"
    }
   ],
   "source": [
    "df['Names'].name"
   ]
  },
  {
   "cell_type": "markdown",
   "metadata": {},
   "source": [
    "Where a `DataFrame` is the `pandas` analogue of a 2D array, a `Series` is the `pandas` analogue of a 1D array.  Hence `Series` is the data type for both rows and columns."
   ]
  },
  {
   "cell_type": "code",
   "execution_count": null,
   "metadata": {},
   "outputs": [],
   "source": []
  },
  {
   "cell_type": "code",
   "execution_count": 470,
   "metadata": {
    "scrolled": true
   },
   "outputs": [
    {
     "data": {
      "text/plain": [
       "pandas.core.series.Series"
      ]
     },
     "execution_count": 470,
     "metadata": {},
     "output_type": "execute_result"
    }
   ],
   "source": [
    "type(df['Names'])"
   ]
  },
  {
   "cell_type": "markdown",
   "metadata": {},
   "source": [
    "The items in the Series the column may be selected by  index:"
   ]
  },
  {
   "cell_type": "code",
   "execution_count": 103,
   "metadata": {},
   "outputs": [
    {
     "data": {
      "text/plain": [
       "'Mary'"
      ]
     },
     "execution_count": 103,
     "metadata": {},
     "output_type": "execute_result"
    }
   ],
   "source": [
    "df['Names'][2]"
   ]
  },
  {
   "cell_type": "markdown",
   "metadata": {},
   "source": [
    "This demonstrates how to get to a value in a cell in a DataFrame in one expression."
   ]
  },
  {
   "cell_type": "markdown",
   "metadata": {},
   "source": [
    "# Selecting rows"
   ]
  },
  {
   "cell_type": "markdown",
   "metadata": {},
   "source": [
    "`pandas` has two basic ways of selecting rows: \n",
    "\n",
    "1. Using the index, via the `.loc` attribute\n",
    "2. Specifying some value in some column \n",
    "\n",
    "Let's look at selection by index first:"
   ]
  },
  {
   "cell_type": "code",
   "execution_count": 50,
   "metadata": {
    "scrolled": true
   },
   "outputs": [
    {
     "data": {
      "text/plain": [
       "Names     Mary\n",
       "Births      77\n",
       "Name: 2, dtype: object"
      ]
     },
     "execution_count": 50,
     "metadata": {},
     "output_type": "execute_result"
    }
   ],
   "source": [
    "df.loc[2]"
   ]
  },
  {
   "cell_type": "markdown",
   "metadata": {},
   "source": [
    "Note we **can't** write:"
   ]
  },
  {
   "cell_type": "code",
   "execution_count": 424,
   "metadata": {},
   "outputs": [],
   "source": [
    "# This produces a KeyError\n",
    "# df[2]"
   ]
  },
  {
   "cell_type": "markdown",
   "metadata": {},
   "source": [
    "That first indexing position of a DataFrame is reserved for column names; this\n",
    "`KeyError` arises because 2 is not a column name for this `df`.\n",
    "\n",
    "Given a Dataframe and the name of a row (again, an index element does not have to be\n",
    "a number), `df.loc[RowName]` returns the row:"
   ]
  },
  {
   "cell_type": "code",
   "execution_count": 427,
   "metadata": {
    "scrolled": true
   },
   "outputs": [
    {
     "data": {
      "text/plain": [
       "Names     Mary\n",
       "Births      77\n",
       "Name: 2, dtype: object"
      ]
     },
     "execution_count": 427,
     "metadata": {},
     "output_type": "execute_result"
    }
   ],
   "source": [
    "df.loc[2]"
   ]
  },
  {
   "cell_type": "markdown",
   "metadata": {},
   "source": [
    "As might be expected, `df.loc[2]`, being 1D, is a Series."
   ]
  },
  {
   "cell_type": "code",
   "execution_count": 428,
   "metadata": {},
   "outputs": [
    {
     "data": {
      "text/plain": [
       "pandas.core.series.Series"
      ]
     },
     "execution_count": 428,
     "metadata": {},
     "output_type": "execute_result"
    }
   ],
   "source": [
    "type(df.loc[2])"
   ]
  },
  {
   "cell_type": "markdown",
   "metadata": {},
   "source": [
    "Many of  the ideas about indexing that we learned about with ndarrays and positional\n",
    "indexing carry over to keyword indexing in `pandas`.\n",
    "\n",
    "For example, using a splice, we return a sequence of rows, and a sequence of rows is generally going to come wrapped in a DataFrame:"
   ]
  },
  {
   "cell_type": "code",
   "execution_count": 429,
   "metadata": {
    "scrolled": true
   },
   "outputs": [
    {
     "name": "stdout",
     "output_type": "stream",
     "text": [
      "  Names  Births\n",
      "2  Mary      77\n",
      "3  John     578\n",
      "4   Mel     973\n"
     ]
    },
    {
     "data": {
      "text/plain": [
       "pandas.core.frame.DataFrame"
      ]
     },
     "execution_count": 429,
     "metadata": {},
     "output_type": "execute_result"
    }
   ],
   "source": [
    "print(df.loc[2:4])\n",
    "type(df.loc[2:4])"
   ]
  },
  {
   "cell_type": "markdown",
   "metadata": {},
   "source": [
    "What's a little surprising here is that we got 3 rows, where from all our experience\n",
    "with `numpy` slicing, we would expect 2.  This is not a bug; the motivation\n",
    "is that we are not indexing by position, but by the names of elements\n",
    "in the index.  More on this below when we discuss DataFrame indexes in a little more detail."
   ]
  },
  {
   "cell_type": "markdown",
   "metadata": {},
   "source": [
    "So we've seen how to get a column (1D), a row (1D), and multiple rows (2D).\n",
    "\n",
    "Now let's look at how to get \n",
    "the value at a particular row and column position (0D): We can do as we do\n",
    "with numpy 2D arrays, we specify a row and a column."
   ]
  },
  {
   "cell_type": "code",
   "execution_count": 430,
   "metadata": {},
   "outputs": [
    {
     "data": {
      "text/plain": [
       "'Mary'"
      ]
     },
     "execution_count": 430,
     "metadata": {},
     "output_type": "execute_result"
    }
   ],
   "source": [
    "df.loc[2,'Names']"
   ]
  },
  {
   "cell_type": "markdown",
   "metadata": {},
   "source": [
    "Notice this is same value we retrieved before with the following expression."
   ]
  },
  {
   "cell_type": "code",
   "execution_count": 431,
   "metadata": {},
   "outputs": [
    {
     "data": {
      "text/plain": [
       "'Mary'"
      ]
     },
     "execution_count": 431,
     "metadata": {},
     "output_type": "execute_result"
    }
   ],
   "source": [
    "df['Names'][2]"
   ]
  },
  {
   "cell_type": "markdown",
   "metadata": {},
   "source": [
    "when we were coming at things column-first.  As we will see, the `.loc` syntax \n",
    "implements the view that `DataFrames` are 2D arrays with keyword indexing;\n",
    "following the convention with ndarrays, the row comes first, the column second.\n",
    "The column first syntax implements the view that `DataFrames` are dictionaries\n",
    "with column names as keys and columns as values."
   ]
  },
  {
   "cell_type": "markdown",
   "metadata": {},
   "source": [
    "# Boolean conditions"
   ]
  },
  {
   "cell_type": "markdown",
   "metadata": {},
   "source": [
    "The basic syntax for selecting a row or rows with a fixed value in some column is"
   ]
  },
  {
   "cell_type": "code",
   "execution_count": 432,
   "metadata": {
    "scrolled": true
   },
   "outputs": [
    {
     "data": {
      "text/html": [
       "<div>\n",
       "<style scoped>\n",
       "    .dataframe tbody tr th:only-of-type {\n",
       "        vertical-align: middle;\n",
       "    }\n",
       "\n",
       "    .dataframe tbody tr th {\n",
       "        vertical-align: top;\n",
       "    }\n",
       "\n",
       "    .dataframe thead th {\n",
       "        text-align: right;\n",
       "    }\n",
       "</style>\n",
       "<table border=\"1\" class=\"dataframe\">\n",
       "  <thead>\n",
       "    <tr style=\"text-align: right;\">\n",
       "      <th></th>\n",
       "      <th>Names</th>\n",
       "      <th>Births</th>\n",
       "    </tr>\n",
       "  </thead>\n",
       "  <tbody>\n",
       "    <tr>\n",
       "      <th>2</th>\n",
       "      <td>Mary</td>\n",
       "      <td>77</td>\n",
       "    </tr>\n",
       "  </tbody>\n",
       "</table>\n",
       "</div>"
      ],
      "text/plain": [
       "  Names  Births\n",
       "2  Mary      77"
      ]
     },
     "execution_count": 432,
     "metadata": {},
     "output_type": "execute_result"
    }
   ],
   "source": [
    "df[df['Names']=='Mary']"
   ]
  },
  {
   "cell_type": "markdown",
   "metadata": {},
   "source": [
    "What we are actually doing with such an expressions is using Boolean indexing.  What is actually returned is a DataFrame containing all the rows where the \"Names\" column contains\n",
    "the given value.\n",
    "\n",
    "We explain this in the next few examples."
   ]
  },
  {
   "cell_type": "markdown",
   "metadata": {},
   "source": [
    "## Selecting Rows with Boolean Conditions"
   ]
  },
  {
   "cell_type": "markdown",
   "metadata": {
    "id": "DoG48MyOACYF"
   },
   "source": [
    "Overview: The process of selecting rows by values involves two steps\n",
    "1. We use a Boolean conditions on a column (a 1D `pandas` Series object) much as we did on `numpy` 1D arrays. The result is a `Boolean Series`.\n",
    "2. We use the Boolean Series as a mask to select a set of rows, just as we did with arrays."
   ]
  },
  {
   "cell_type": "markdown",
   "metadata": {},
   "source": [
    "First  we place a Boolean condition on a column.  \n",
    "\n",
    "This works just as\n",
    "it did in numpy,  The condition is applied elementwise to the elements in the colomn:"
   ]
  },
  {
   "cell_type": "code",
   "execution_count": 433,
   "metadata": {
    "colab": {
     "base_uri": "https://localhost:8080/"
    },
    "id": "-9divaVyACYG",
    "outputId": "03c0de98-ae1c-4916-b54c-20bb0acabe5e"
   },
   "outputs": [
    {
     "name": "stdout",
     "output_type": "stream",
     "text": [
      "0    968\n",
      "1    155\n",
      "2     77\n",
      "3    578\n",
      "4    973\n",
      "Name: Births, dtype: int64\n",
      "\n",
      "0     True\n",
      "1    False\n",
      "2    False\n",
      "3     True\n",
      "4     True\n",
      "Name: Births, dtype: bool\n"
     ]
    }
   ],
   "source": [
    "print(df['Births'])\n",
    "print()\n",
    "print(df['Births'] > 500)"
   ]
  },
  {
   "cell_type": "markdown",
   "metadata": {},
   "source": [
    "The result is also a `Series`, just one containing Boolean values. "
   ]
  },
  {
   "cell_type": "code",
   "execution_count": 7,
   "metadata": {},
   "outputs": [
    {
     "data": {
      "text/plain": [
       "pandas.core.series.Series"
      ]
     },
     "execution_count": 7,
     "metadata": {},
     "output_type": "execute_result"
    }
   ],
   "source": [
    "type(df['Births'] > 500)"
   ]
  },
  {
   "cell_type": "markdown",
   "metadata": {},
   "source": [
    "Continuing the analogy with `numpy`: Just as we could use a 1D Boolean array \n",
    "as Boolean mask to index a\n",
    "numpy 2D array, so we can use a pandas Boolean Series to mask a pandas DataFrame."
   ]
  },
  {
   "cell_type": "code",
   "execution_count": 65,
   "metadata": {
    "colab": {
     "base_uri": "https://localhost:8080/",
     "height": 142
    },
    "id": "VRouJ54DACYI",
    "outputId": "8ef5d723-c65a-4d2f-db5f-9ebe554ca124",
    "scrolled": false
   },
   "outputs": [
    {
     "data": {
      "text/html": [
       "<div>\n",
       "<style scoped>\n",
       "    .dataframe tbody tr th:only-of-type {\n",
       "        vertical-align: middle;\n",
       "    }\n",
       "\n",
       "    .dataframe tbody tr th {\n",
       "        vertical-align: top;\n",
       "    }\n",
       "\n",
       "    .dataframe thead th {\n",
       "        text-align: right;\n",
       "    }\n",
       "</style>\n",
       "<table border=\"1\" class=\"dataframe\">\n",
       "  <thead>\n",
       "    <tr style=\"text-align: right;\">\n",
       "      <th></th>\n",
       "      <th>Names</th>\n",
       "      <th>Births</th>\n",
       "    </tr>\n",
       "  </thead>\n",
       "  <tbody>\n",
       "    <tr>\n",
       "      <th>0</th>\n",
       "      <td>Bob</td>\n",
       "      <td>968</td>\n",
       "    </tr>\n",
       "    <tr>\n",
       "      <th>3</th>\n",
       "      <td>John</td>\n",
       "      <td>578</td>\n",
       "    </tr>\n",
       "    <tr>\n",
       "      <th>4</th>\n",
       "      <td>Mel</td>\n",
       "      <td>973</td>\n",
       "    </tr>\n",
       "  </tbody>\n",
       "</table>\n",
       "</div>"
      ],
      "text/plain": [
       "  Names  Births\n",
       "0   Bob     968\n",
       "3  John     578\n",
       "4   Mel     973"
      ]
     },
     "execution_count": 65,
     "metadata": {},
     "output_type": "execute_result"
    }
   ],
   "source": [
    "df.loc[df['Births'] > 500]"
   ]
  },
  {
   "cell_type": "markdown",
   "metadata": {},
   "source": [
    "Here we use `df.loc`  for consistency with our previous examples of row-selection."
   ]
  },
  {
   "cell_type": "markdown",
   "metadata": {},
   "source": [
    "Somewhat surprisingly, given that in `df[name]`, `name` must be a column name,\n",
    "`df[BooleanSeries]` is a synonym of `df.loc[BooleanSeries]`. The condition\n",
    "is the same as with numpy Boolean arrays: The Boolean Series must have the same number\n",
    "of rows as `df`.\n",
    "\n",
    "Hence the following expression is the simpler, more standard\n",
    "way of doing what we did in the example above."
   ]
  },
  {
   "cell_type": "code",
   "execution_count": 63,
   "metadata": {
    "colab": {
     "base_uri": "https://localhost:8080/",
     "height": 142
    },
    "id": "NMBeQvagACYK",
    "outputId": "b9dc04e4-ee50-4365-f551-0c7b5c00ca0c"
   },
   "outputs": [
    {
     "data": {
      "text/html": [
       "<div>\n",
       "<style scoped>\n",
       "    .dataframe tbody tr th:only-of-type {\n",
       "        vertical-align: middle;\n",
       "    }\n",
       "\n",
       "    .dataframe tbody tr th {\n",
       "        vertical-align: top;\n",
       "    }\n",
       "\n",
       "    .dataframe thead th {\n",
       "        text-align: right;\n",
       "    }\n",
       "</style>\n",
       "<table border=\"1\" class=\"dataframe\">\n",
       "  <thead>\n",
       "    <tr style=\"text-align: right;\">\n",
       "      <th></th>\n",
       "      <th>Names</th>\n",
       "      <th>Births</th>\n",
       "    </tr>\n",
       "  </thead>\n",
       "  <tbody>\n",
       "    <tr>\n",
       "      <th>0</th>\n",
       "      <td>Bob</td>\n",
       "      <td>968</td>\n",
       "    </tr>\n",
       "    <tr>\n",
       "      <th>3</th>\n",
       "      <td>John</td>\n",
       "      <td>578</td>\n",
       "    </tr>\n",
       "    <tr>\n",
       "      <th>4</th>\n",
       "      <td>Mel</td>\n",
       "      <td>973</td>\n",
       "    </tr>\n",
       "  </tbody>\n",
       "</table>\n",
       "</div>"
      ],
      "text/plain": [
       "  Names  Births\n",
       "0   Bob     968\n",
       "3  John     578\n",
       "4   Mel     973"
      ]
     },
     "execution_count": 63,
     "metadata": {},
     "output_type": "execute_result"
    }
   ],
   "source": [
    "df[df['Births'] > 500]"
   ]
  },
  {
   "cell_type": "markdown",
   "metadata": {},
   "source": [
    "## Combining Conditions with Boolean operators"
   ]
  },
  {
   "cell_type": "markdown",
   "metadata": {},
   "source": [
    "In `numpy` `&` is an operator that performs an elementwise `and` on two Boolean arrays,\n",
    "producing a Boolean array that only has `True` wherever both the input arrays have `True`. "
   ]
  },
  {
   "cell_type": "code",
   "execution_count": 69,
   "metadata": {},
   "outputs": [
    {
     "name": "stdout",
     "output_type": "stream",
     "text": [
      "a [ True False  True]\n",
      "b [False  True  True]\n",
      "a & b [False False  True]\n"
     ]
    }
   ],
   "source": [
    "import numpy as np\n",
    "a = np.array([True,False,True])\n",
    "b= np.array([False,True,True])\n",
    "print('a', a)\n",
    "print('b', b)\n",
    "print('a & b', a&b)"
   ]
  },
  {
   "cell_type": "markdown",
   "metadata": {
    "id": "wT1wqwa2ACYM"
   },
   "source": [
    "Let B1 and B2 be two Boolean Series.\n",
    "\n",
    "The  `&` operator can also be used to combine two\n",
    "Boolean Series instances.  The result is a single Boolean Series that finds the rows that satisfy **both** conditions."
   ]
  },
  {
   "cell_type": "code",
   "execution_count": null,
   "metadata": {
    "colab": {
     "base_uri": "https://localhost:8080/",
     "height": 80
    },
    "id": "1wKM76FuACYM",
    "outputId": "d9a7b6fb-143f-4a5a-9967-eedad9d446f3",
    "scrolled": true
   },
   "outputs": [
    {
     "data": {
      "text/html": [
       "<div>\n",
       "<style scoped>\n",
       "    .dataframe tbody tr th:only-of-type {\n",
       "        vertical-align: middle;\n",
       "    }\n",
       "\n",
       "    .dataframe tbody tr th {\n",
       "        vertical-align: top;\n",
       "    }\n",
       "\n",
       "    .dataframe thead th {\n",
       "        text-align: right;\n",
       "    }\n",
       "</style>\n",
       "<table border=\"1\" class=\"dataframe\">\n",
       "  <thead>\n",
       "    <tr style=\"text-align: right;\">\n",
       "      <th></th>\n",
       "      <th>Names</th>\n",
       "      <th>Births</th>\n",
       "    </tr>\n",
       "  </thead>\n",
       "  <tbody>\n",
       "    <tr>\n",
       "      <th>3</th>\n",
       "      <td>John</td>\n",
       "      <td>578</td>\n",
       "    </tr>\n",
       "  </tbody>\n",
       "</table>\n",
       "</div>"
      ],
      "text/plain": [
       "  Names  Births\n",
       "3  John     578"
      ]
     },
     "execution_count": 18,
     "metadata": {
      "tags": []
     },
     "output_type": "execute_result"
    }
   ],
   "source": [
    "df[(df['Births'] > 500) & (df['Births'] < 900)]"
   ]
  },
  {
   "cell_type": "markdown",
   "metadata": {},
   "source": [
    "Note that the parentheses are  **needed** here.\n",
    "\n",
    "The problem is that `500 & 968` can be interpreted as bitwise-and of\n",
    "two integers, which is a valid operation on their binary representations."
   ]
  },
  {
   "cell_type": "code",
   "execution_count": 437,
   "metadata": {},
   "outputs": [
    {
     "name": "stdout",
     "output_type": "stream",
     "text": [
      "1111001000\n",
      "0111110100\n",
      "0111000000\n"
     ]
    },
    {
     "data": {
      "text/plain": [
       "448"
      ]
     },
     "execution_count": 437,
     "metadata": {},
     "output_type": "execute_result"
    }
   ],
   "source": [
    "# Binary rep of 968 is 10 digits long\n",
    "print(f'{968:010b}')\n",
    "# Binary rep of 500 padded with 0 to be 10 digits long.\n",
    "print(f'{500:010b}')\n",
    "print(f'{500&968:010b}')\n",
    "500 & 968"
   ]
  },
  {
   "cell_type": "markdown",
   "metadata": {},
   "source": [
    "Therefore, we can interpret bitwise & of an integer and\n",
    "an integer Series by taking the bitwise &  of 500 and each element\n",
    "in the Series, resulting in the following."
   ]
  },
  {
   "cell_type": "code",
   "execution_count": 438,
   "metadata": {},
   "outputs": [
    {
     "name": "stdout",
     "output_type": "stream",
     "text": [
      "0    968\n",
      "1    155\n",
      "2     77\n",
      "3    578\n",
      "4    973\n",
      "Name: Births, dtype: int64\n"
     ]
    },
    {
     "data": {
      "text/plain": [
       "0    448\n",
       "1    144\n",
       "2     68\n",
       "3     64\n",
       "4    452\n",
       "Name: Births, dtype: int64"
      ]
     },
     "execution_count": 438,
     "metadata": {},
     "output_type": "execute_result"
    }
   ],
   "source": [
    "print(df['Births'])\n",
    "500 & df['Births']"
   ]
  },
  {
   "cell_type": "markdown",
   "metadata": {},
   "source": [
    "There are still other ways of interpreting how the `&` works in\n",
    "\n",
    "```\n",
    "df[df['Births'] > 500 & df['Births'] < 900].\n",
    "```\n",
    "\n",
    "The bottom line is that when this expression\n",
    "is typed without parentheses, there are four legal interpretations of\n",
    "what `&` is conecting,\n",
    "which can be clarified by including the parentheses appropriate\n",
    "for each:\n",
    "\n",
    "1. df[(df['Births'] > 500) & (df['Births'] < 900)]  The one we want.\n",
    "2. df[(df['Births'] > 500 & df['Births']) < 900] \n",
    "3. df[df['Births'] > (500 & df['Births'] < 900)] \n",
    "4. df[df['Births'] > (500 & df['Births']) < 900] \n",
    "\n",
    "In choosing which of these is right, the Python parser in effect\n",
    "has to guess where to put the\n",
    "parentheses. The first 3 are actually well formed and do not\n",
    "raise an error.  Unfortunately, the parser goes for number 4,\n",
    "which does cause an error.  The same error is\n",
    "raised by other examples placing an array in between\n",
    "two inequalities:\n",
    "\n",
    "```\n",
    "a = np.array([False, True])\n",
    "# Value Error. The truth value of a Series is ambiguous. \n",
    "1 < a < 1\n",
    "```\n",
    "\n",
    "The array causes the inequality to be ambiguous,  since\n",
    "\n",
    "```\n",
    "(1 < a) < 1\n",
    "1 < (a < 1)\n",
    "```\n",
    "produce different answers; rather than choose an interpretation,\n",
    "the numpy designers have raised an exception for expressions like this, \n",
    "probably because of implementation details.\n",
    "\n",
    "Illustrating by using the expression without parentheses:"
   ]
  },
  {
   "cell_type": "code",
   "execution_count": 612,
   "metadata": {
    "scrolled": true
   },
   "outputs": [],
   "source": [
    "# This is  Value Error\n",
    "#df[df['Births'] > 500 & df['Births']< 900]"
   ]
  },
  {
   "cell_type": "markdown",
   "metadata": {},
   "source": [
    "Bottom line.  When using Boolean combinations to select rows,\n",
    "please include parentheses to clarify your intention.\n",
    "\n",
    "More general lesson.  When faced with Type- and Value- Errors\n",
    "that seem inexplicable to you, after checking that the values\n",
    "in the expression being executed are what you want,\n",
    "consider the possibility that the Python parser is finding\n",
    "an interpretation of a complicated expression that\n",
    "you don't want.  What can you do if that's\n",
    "true?  Use parentheses. \n",
    "\n",
    "Another general lesson.  Use parentheses in expressions with multiple\n",
    "operators.  The worst case scenario is not that there is an error,\n",
    "but that there isn't."
   ]
  },
  {
   "cell_type": "code",
   "execution_count": 457,
   "metadata": {},
   "outputs": [
    {
     "data": {
      "text/plain": [
       "11"
      ]
     },
     "execution_count": 457,
     "metadata": {},
     "output_type": "execute_result"
    }
   ],
   "source": [
    "3 * 2 + 5"
   ]
  },
  {
   "cell_type": "markdown",
   "metadata": {},
   "source": [
    "Did you mean 3 * (2 + 5)?  Well, that's not what you got!"
   ]
  },
  {
   "cell_type": "code",
   "execution_count": 458,
   "metadata": {},
   "outputs": [
    {
     "data": {
      "text/plain": [
       "21"
      ]
     },
     "execution_count": 458,
     "metadata": {},
     "output_type": "execute_result"
    }
   ],
   "source": [
    " 3 * (2 + 5)"
   ]
  },
  {
   "cell_type": "markdown",
   "metadata": {},
   "source": [
    "In general, getting the wrong answer in a complicated computation because of\n",
    "a missing pair of parentheses is going to be an **extremely** hard debugging\n",
    "task, especially if your code is sprinkled with such expressions. The moral:\n",
    "put in the parentheses, even when you're sure they don't matter:"
   ]
  },
  {
   "cell_type": "code",
   "execution_count": 459,
   "metadata": {},
   "outputs": [
    {
     "data": {
      "text/plain": [
       "11"
      ]
     },
     "execution_count": 459,
     "metadata": {},
     "output_type": "execute_result"
    }
   ],
   "source": [
    "(3 * 2) + 5"
   ]
  },
  {
   "cell_type": "markdown",
   "metadata": {},
   "source": [
    "As with `numpy` arrays, Series may also be combined with \"bitwise not\" (`~`) and \"bitwise or\" (`|`)."
   ]
  },
  {
   "cell_type": "markdown",
   "metadata": {},
   "source": [
    "The names which were used over 500 times but not 578 times:"
   ]
  },
  {
   "cell_type": "code",
   "execution_count": 71,
   "metadata": {},
   "outputs": [
    {
     "data": {
      "text/html": [
       "<div>\n",
       "<style scoped>\n",
       "    .dataframe tbody tr th:only-of-type {\n",
       "        vertical-align: middle;\n",
       "    }\n",
       "\n",
       "    .dataframe tbody tr th {\n",
       "        vertical-align: top;\n",
       "    }\n",
       "\n",
       "    .dataframe thead th {\n",
       "        text-align: right;\n",
       "    }\n",
       "</style>\n",
       "<table border=\"1\" class=\"dataframe\">\n",
       "  <thead>\n",
       "    <tr style=\"text-align: right;\">\n",
       "      <th></th>\n",
       "      <th>Names</th>\n",
       "      <th>Births</th>\n",
       "    </tr>\n",
       "  </thead>\n",
       "  <tbody>\n",
       "    <tr>\n",
       "      <th>0</th>\n",
       "      <td>Bob</td>\n",
       "      <td>968</td>\n",
       "    </tr>\n",
       "    <tr>\n",
       "      <th>4</th>\n",
       "      <td>Mel</td>\n",
       "      <td>973</td>\n",
       "    </tr>\n",
       "  </tbody>\n",
       "</table>\n",
       "</div>"
      ],
      "text/plain": [
       "  Names  Births\n",
       "0   Bob     968\n",
       "4   Mel     973"
      ]
     },
     "execution_count": 71,
     "metadata": {},
     "output_type": "execute_result"
    }
   ],
   "source": [
    "df[(df['Births'] > 500) & ~(df['Births'] == 578)]"
   ]
  },
  {
   "cell_type": "markdown",
   "metadata": {},
   "source": [
    "The names whose frequency does not fall between 500 and 900:"
   ]
  },
  {
   "cell_type": "code",
   "execution_count": 72,
   "metadata": {
    "scrolled": true
   },
   "outputs": [
    {
     "data": {
      "text/html": [
       "<div>\n",
       "<style scoped>\n",
       "    .dataframe tbody tr th:only-of-type {\n",
       "        vertical-align: middle;\n",
       "    }\n",
       "\n",
       "    .dataframe tbody tr th {\n",
       "        vertical-align: top;\n",
       "    }\n",
       "\n",
       "    .dataframe thead th {\n",
       "        text-align: right;\n",
       "    }\n",
       "</style>\n",
       "<table border=\"1\" class=\"dataframe\">\n",
       "  <thead>\n",
       "    <tr style=\"text-align: right;\">\n",
       "      <th></th>\n",
       "      <th>Names</th>\n",
       "      <th>Births</th>\n",
       "    </tr>\n",
       "  </thead>\n",
       "  <tbody>\n",
       "    <tr>\n",
       "      <th>0</th>\n",
       "      <td>Bob</td>\n",
       "      <td>968</td>\n",
       "    </tr>\n",
       "    <tr>\n",
       "      <th>1</th>\n",
       "      <td>Jessica</td>\n",
       "      <td>155</td>\n",
       "    </tr>\n",
       "    <tr>\n",
       "      <th>2</th>\n",
       "      <td>Mary</td>\n",
       "      <td>77</td>\n",
       "    </tr>\n",
       "    <tr>\n",
       "      <th>4</th>\n",
       "      <td>Mel</td>\n",
       "      <td>973</td>\n",
       "    </tr>\n",
       "  </tbody>\n",
       "</table>\n",
       "</div>"
      ],
      "text/plain": [
       "     Names  Births\n",
       "0      Bob     968\n",
       "1  Jessica     155\n",
       "2     Mary      77\n",
       "4      Mel     973"
      ]
     },
     "execution_count": 72,
     "metadata": {},
     "output_type": "execute_result"
    }
   ],
   "source": [
    "df[(df['Births'] < 500) | (df['Births'] > 900)]"
   ]
  },
  {
   "cell_type": "markdown",
   "metadata": {},
   "source": [
    "## Getting values after applying Boolean conditions"
   ]
  },
  {
   "cell_type": "markdown",
   "metadata": {},
   "source": [
    "Returning to our original example:"
   ]
  },
  {
   "cell_type": "code",
   "execution_count": 79,
   "metadata": {},
   "outputs": [
    {
     "data": {
      "text/html": [
       "<div>\n",
       "<style scoped>\n",
       "    .dataframe tbody tr th:only-of-type {\n",
       "        vertical-align: middle;\n",
       "    }\n",
       "\n",
       "    .dataframe tbody tr th {\n",
       "        vertical-align: top;\n",
       "    }\n",
       "\n",
       "    .dataframe thead th {\n",
       "        text-align: right;\n",
       "    }\n",
       "</style>\n",
       "<table border=\"1\" class=\"dataframe\">\n",
       "  <thead>\n",
       "    <tr style=\"text-align: right;\">\n",
       "      <th></th>\n",
       "      <th>Names</th>\n",
       "      <th>Births</th>\n",
       "    </tr>\n",
       "  </thead>\n",
       "  <tbody>\n",
       "    <tr>\n",
       "      <th>2</th>\n",
       "      <td>Mary</td>\n",
       "      <td>77</td>\n",
       "    </tr>\n",
       "  </tbody>\n",
       "</table>\n",
       "</div>"
      ],
      "text/plain": [
       "  Names  Births\n",
       "2  Mary      77"
      ]
     },
     "execution_count": 79,
     "metadata": {},
     "output_type": "execute_result"
    }
   ],
   "source": [
    "df[df['Names']=='Mary']"
   ]
  },
  {
   "cell_type": "markdown",
   "metadata": {},
   "source": [
    "We see that this is just a single Boolean condition that happens to return a single row. \n",
    "\n",
    "This is a 2D object, hence a DataFrame, so we can do column selection on this "
   ]
  },
  {
   "cell_type": "code",
   "execution_count": 80,
   "metadata": {},
   "outputs": [
    {
     "data": {
      "text/plain": [
       "2    77\n",
       "Name: Births, dtype: int64"
      ]
     },
     "execution_count": 80,
     "metadata": {},
     "output_type": "execute_result"
    }
   ],
   "source": [
    "df[df['Names']=='Mary']['Births']"
   ]
  },
  {
   "cell_type": "markdown",
   "metadata": {},
   "source": [
    "So this expression more or less answers the question: \"How many children were named 'Mary'?\"\n",
    "\n",
    "Note that what we are doing here is applying keyword indexing to a DataFrame;\n",
    "consistent with all the examples above, what is returned is the `Births` column of that DataFrame, a Series of length 1 containing\n",
    "the integer 77. "
   ]
  },
  {
   "cell_type": "code",
   "execution_count": 81,
   "metadata": {},
   "outputs": [
    {
     "name": "stdout",
     "output_type": "stream",
     "text": [
      "<class 'pandas.core.series.Series'>\n"
     ]
    }
   ],
   "source": [
    "print(type(df[df['Names']=='Mary']['Births']))"
   ]
  },
  {
   "cell_type": "markdown",
   "metadata": {},
   "source": [
    "The `Series` class provides an easy way to get to the values in the Series: the `.values`\n",
    "attribute.  But this always returns an array, in this case an array of length 1."
   ]
  },
  {
   "cell_type": "code",
   "execution_count": 82,
   "metadata": {},
   "outputs": [
    {
     "data": {
      "text/plain": [
       "array([77])"
      ]
     },
     "execution_count": 82,
     "metadata": {},
     "output_type": "execute_result"
    }
   ],
   "source": [
    "df[df['Names']=='Mary']['Births'].values"
   ]
  },
  {
   "cell_type": "markdown",
   "metadata": {},
   "source": [
    "In sum, if we want to get to the integer answering the question \"How many children were named 'Mary'?\", we can do one of several things:\n",
    "\n",
    "Option A:"
   ]
  },
  {
   "cell_type": "code",
   "execution_count": 83,
   "metadata": {},
   "outputs": [
    {
     "data": {
      "text/plain": [
       "77"
      ]
     },
     "execution_count": 83,
     "metadata": {},
     "output_type": "execute_result"
    }
   ],
   "source": [
    "df[df['Names']=='Mary']['Births'].values[0]"
   ]
  },
  {
   "cell_type": "markdown",
   "metadata": {},
   "source": [
    "Or Option B:"
   ]
  },
  {
   "cell_type": "code",
   "execution_count": 85,
   "metadata": {},
   "outputs": [
    {
     "data": {
      "text/plain": [
       "77"
      ]
     },
     "execution_count": 85,
     "metadata": {},
     "output_type": "execute_result"
    }
   ],
   "source": [
    "df[df['Names']=='Mary']['Births'][2]"
   ]
  },
  {
   "cell_type": "markdown",
   "metadata": {},
   "source": [
    "Since the sole row in this series has index 2.  This option is not very helpful since it requires knowing the index of the row whose \"Names\" value is \"Mary\", but if we already knew **that** ..."
   ]
  },
  {
   "cell_type": "markdown",
   "metadata": {},
   "source": [
    "Or option C:"
   ]
  },
  {
   "cell_type": "code",
   "execution_count": 86,
   "metadata": {},
   "outputs": [
    {
     "data": {
      "text/plain": [
       "77"
      ]
     },
     "execution_count": 86,
     "metadata": {},
     "output_type": "execute_result"
    }
   ],
   "source": [
    "df[df['Names']=='Mary']['Births'].iloc[0]"
   ]
  },
  {
   "cell_type": "markdown",
   "metadata": {},
   "source": [
    "The `.iloc` method does true positional indexing on the Series,\n",
    "returning whatever the first element in the sequence is.  This time all\n",
    "we need to know is that there is only one row whose \"Name\" value is \"Mary\".\n",
    "\n",
    "We discuss the `.iloc` method in more detail in the next section."
   ]
  },
  {
   "cell_type": "markdown",
   "metadata": {},
   "source": [
    "### Indexes"
   ]
  },
  {
   "cell_type": "markdown",
   "metadata": {},
   "source": [
    "Consider our DataFrame again.\n"
   ]
  },
  {
   "cell_type": "code",
   "execution_count": 73,
   "metadata": {},
   "outputs": [
    {
     "data": {
      "text/html": [
       "<div>\n",
       "<style scoped>\n",
       "    .dataframe tbody tr th:only-of-type {\n",
       "        vertical-align: middle;\n",
       "    }\n",
       "\n",
       "    .dataframe tbody tr th {\n",
       "        vertical-align: top;\n",
       "    }\n",
       "\n",
       "    .dataframe thead th {\n",
       "        text-align: right;\n",
       "    }\n",
       "</style>\n",
       "<table border=\"1\" class=\"dataframe\">\n",
       "  <thead>\n",
       "    <tr style=\"text-align: right;\">\n",
       "      <th></th>\n",
       "      <th>Names</th>\n",
       "      <th>Births</th>\n",
       "    </tr>\n",
       "  </thead>\n",
       "  <tbody>\n",
       "    <tr>\n",
       "      <th>0</th>\n",
       "      <td>Bob</td>\n",
       "      <td>968</td>\n",
       "    </tr>\n",
       "    <tr>\n",
       "      <th>1</th>\n",
       "      <td>Jessica</td>\n",
       "      <td>155</td>\n",
       "    </tr>\n",
       "    <tr>\n",
       "      <th>2</th>\n",
       "      <td>Mary</td>\n",
       "      <td>77</td>\n",
       "    </tr>\n",
       "    <tr>\n",
       "      <th>3</th>\n",
       "      <td>John</td>\n",
       "      <td>578</td>\n",
       "    </tr>\n",
       "    <tr>\n",
       "      <th>4</th>\n",
       "      <td>Mel</td>\n",
       "      <td>973</td>\n",
       "    </tr>\n",
       "  </tbody>\n",
       "</table>\n",
       "</div>"
      ],
      "text/plain": [
       "     Names  Births\n",
       "0      Bob     968\n",
       "1  Jessica     155\n",
       "2     Mary      77\n",
       "3     John     578\n",
       "4      Mel     973"
      ]
     },
     "execution_count": 73,
     "metadata": {},
     "output_type": "execute_result"
    }
   ],
   "source": [
    "df"
   ]
  },
  {
   "cell_type": "markdown",
   "metadata": {},
   "source": [
    "We are going to discuss the way the index works.  To illustrate this,\n",
    "we will use a smaller DataFrame with a subset of the original rows.\n",
    "\n",
    "When we choose a subframe, by default we preserve the original index."
   ]
  },
  {
   "cell_type": "code",
   "execution_count": 462,
   "metadata": {
    "id": "Jc2GnVIVACYR"
   },
   "outputs": [],
   "source": [
    "df2 = df[df['Births'] > 500]"
   ]
  },
  {
   "cell_type": "code",
   "execution_count": 463,
   "metadata": {},
   "outputs": [
    {
     "data": {
      "text/html": [
       "<div>\n",
       "<style scoped>\n",
       "    .dataframe tbody tr th:only-of-type {\n",
       "        vertical-align: middle;\n",
       "    }\n",
       "\n",
       "    .dataframe tbody tr th {\n",
       "        vertical-align: top;\n",
       "    }\n",
       "\n",
       "    .dataframe thead th {\n",
       "        text-align: right;\n",
       "    }\n",
       "</style>\n",
       "<table border=\"1\" class=\"dataframe\">\n",
       "  <thead>\n",
       "    <tr style=\"text-align: right;\">\n",
       "      <th></th>\n",
       "      <th>Names</th>\n",
       "      <th>Births</th>\n",
       "    </tr>\n",
       "  </thead>\n",
       "  <tbody>\n",
       "    <tr>\n",
       "      <th>0</th>\n",
       "      <td>Bob</td>\n",
       "      <td>968</td>\n",
       "    </tr>\n",
       "    <tr>\n",
       "      <th>3</th>\n",
       "      <td>John</td>\n",
       "      <td>578</td>\n",
       "    </tr>\n",
       "    <tr>\n",
       "      <th>4</th>\n",
       "      <td>Mel</td>\n",
       "      <td>973</td>\n",
       "    </tr>\n",
       "  </tbody>\n",
       "</table>\n",
       "</div>"
      ],
      "text/plain": [
       "  Names  Births\n",
       "0   Bob     968\n",
       "3  John     578\n",
       "4   Mel     973"
      ]
     },
     "execution_count": 463,
     "metadata": {},
     "output_type": "execute_result"
    }
   ],
   "source": [
    "df2"
   ]
  },
  {
   "cell_type": "markdown",
   "metadata": {},
   "source": [
    "At this point the fact that the index is not a range of numbers but\n",
    "a sequence of unique ids for the rows becomes apparent.\n",
    "\n",
    "If we try to use positional indexing, say by selecting the second member of\n",
    "the \"Births\" column as follows,"
   ]
  },
  {
   "cell_type": "code",
   "execution_count": 460,
   "metadata": {
    "id": "Jc2GnVIVACYR",
    "scrolled": true
   },
   "outputs": [],
   "source": [
    "#  Key Error\n",
    "#df2['Births'][1]"
   ]
  },
  {
   "cell_type": "markdown",
   "metadata": {},
   "source": [
    "we get an error, because 1 is not one of the unique ids in the index. If we want to use positional indexing, we must use `.iloc`:"
   ]
  },
  {
   "cell_type": "code",
   "execution_count": 123,
   "metadata": {},
   "outputs": [
    {
     "data": {
      "text/plain": [
       "578"
      ]
     },
     "execution_count": 123,
     "metadata": {},
     "output_type": "execute_result"
    }
   ],
   "source": [
    "df2['Births'].iloc[1]"
   ]
  },
  {
   "cell_type": "markdown",
   "metadata": {},
   "source": [
    "Or we can retrieve this item by its proper index value, if we know it:"
   ]
  },
  {
   "cell_type": "code",
   "execution_count": 124,
   "metadata": {
    "scrolled": true
   },
   "outputs": [
    {
     "data": {
      "text/plain": [
       "578"
      ]
     },
     "execution_count": 124,
     "metadata": {},
     "output_type": "execute_result"
    }
   ],
   "source": [
    "df2['Births'][3]"
   ]
  },
  {
   "cell_type": "markdown",
   "metadata": {},
   "source": [
    "In general pandas indexes do not need to be number ranges.  That is simply a\n",
    "default strategy pandas uses when no index is supplied for a data set.\n",
    "\n",
    "You can make the index be any sequence of names for instance"
   ]
  },
  {
   "cell_type": "code",
   "execution_count": 464,
   "metadata": {},
   "outputs": [],
   "source": [
    "df2.index = ['c','b','a']"
   ]
  },
  {
   "cell_type": "code",
   "execution_count": 133,
   "metadata": {
    "scrolled": true
   },
   "outputs": [
    {
     "data": {
      "text/html": [
       "<div>\n",
       "<style scoped>\n",
       "    .dataframe tbody tr th:only-of-type {\n",
       "        vertical-align: middle;\n",
       "    }\n",
       "\n",
       "    .dataframe tbody tr th {\n",
       "        vertical-align: top;\n",
       "    }\n",
       "\n",
       "    .dataframe thead th {\n",
       "        text-align: right;\n",
       "    }\n",
       "</style>\n",
       "<table border=\"1\" class=\"dataframe\">\n",
       "  <thead>\n",
       "    <tr style=\"text-align: right;\">\n",
       "      <th></th>\n",
       "      <th>Names</th>\n",
       "      <th>Births</th>\n",
       "    </tr>\n",
       "  </thead>\n",
       "  <tbody>\n",
       "    <tr>\n",
       "      <th>c</th>\n",
       "      <td>Bob</td>\n",
       "      <td>968</td>\n",
       "    </tr>\n",
       "    <tr>\n",
       "      <th>b</th>\n",
       "      <td>John</td>\n",
       "      <td>578</td>\n",
       "    </tr>\n",
       "    <tr>\n",
       "      <th>a</th>\n",
       "      <td>Mel</td>\n",
       "      <td>973</td>\n",
       "    </tr>\n",
       "  </tbody>\n",
       "</table>\n",
       "</div>"
      ],
      "text/plain": [
       "  Names  Births\n",
       "c   Bob     968\n",
       "b  John     578\n",
       "a   Mel     973"
      ]
     },
     "execution_count": 133,
     "metadata": {},
     "output_type": "execute_result"
    }
   ],
   "source": [
    "df2"
   ]
  },
  {
   "cell_type": "markdown",
   "metadata": {},
   "source": [
    "And now we can select a value using the new index."
   ]
  },
  {
   "cell_type": "code",
   "execution_count": 465,
   "metadata": {},
   "outputs": [
    {
     "data": {
      "text/plain": [
       "578"
      ]
     },
     "execution_count": 465,
     "metadata": {},
     "output_type": "execute_result"
    }
   ],
   "source": [
    "df2['Births']['b']"
   ]
  },
  {
   "cell_type": "markdown",
   "metadata": {},
   "source": [
    "The puzzlement about index splices can now be cleared up. An index-based\n",
    "splice is never a numerical range; it returns a subsequence of the the rows \n",
    "from the row with the first index-value up through the row with the last\n",
    "index-value, inclusive."
   ]
  },
  {
   "cell_type": "code",
   "execution_count": 466,
   "metadata": {},
   "outputs": [
    {
     "data": {
      "text/html": [
       "<div>\n",
       "<style scoped>\n",
       "    .dataframe tbody tr th:only-of-type {\n",
       "        vertical-align: middle;\n",
       "    }\n",
       "\n",
       "    .dataframe tbody tr th {\n",
       "        vertical-align: top;\n",
       "    }\n",
       "\n",
       "    .dataframe thead th {\n",
       "        text-align: right;\n",
       "    }\n",
       "</style>\n",
       "<table border=\"1\" class=\"dataframe\">\n",
       "  <thead>\n",
       "    <tr style=\"text-align: right;\">\n",
       "      <th></th>\n",
       "      <th>Names</th>\n",
       "      <th>Births</th>\n",
       "    </tr>\n",
       "  </thead>\n",
       "  <tbody>\n",
       "    <tr>\n",
       "      <th>c</th>\n",
       "      <td>Bob</td>\n",
       "      <td>968</td>\n",
       "    </tr>\n",
       "    <tr>\n",
       "      <th>b</th>\n",
       "      <td>John</td>\n",
       "      <td>578</td>\n",
       "    </tr>\n",
       "  </tbody>\n",
       "</table>\n",
       "</div>"
      ],
      "text/plain": [
       "  Names  Births\n",
       "c   Bob     968\n",
       "b  John     578"
      ]
     },
     "execution_count": 466,
     "metadata": {},
     "output_type": "execute_result"
    }
   ],
   "source": [
    "df2['c':'b']"
   ]
  },
  {
   "cell_type": "markdown",
   "metadata": {},
   "source": [
    "If the index values are not in sequence nothing is returned."
   ]
  },
  {
   "cell_type": "code",
   "execution_count": 467,
   "metadata": {},
   "outputs": [
    {
     "data": {
      "text/html": [
       "<div>\n",
       "<style scoped>\n",
       "    .dataframe tbody tr th:only-of-type {\n",
       "        vertical-align: middle;\n",
       "    }\n",
       "\n",
       "    .dataframe tbody tr th {\n",
       "        vertical-align: top;\n",
       "    }\n",
       "\n",
       "    .dataframe thead th {\n",
       "        text-align: right;\n",
       "    }\n",
       "</style>\n",
       "<table border=\"1\" class=\"dataframe\">\n",
       "  <thead>\n",
       "    <tr style=\"text-align: right;\">\n",
       "      <th></th>\n",
       "      <th>Names</th>\n",
       "      <th>Births</th>\n",
       "    </tr>\n",
       "  </thead>\n",
       "  <tbody>\n",
       "  </tbody>\n",
       "</table>\n",
       "</div>"
      ],
      "text/plain": [
       "Empty DataFrame\n",
       "Columns: [Names, Births]\n",
       "Index: []"
      ]
     },
     "execution_count": 467,
     "metadata": {},
     "output_type": "execute_result"
    }
   ],
   "source": [
    "df2['b':'c']"
   ]
  },
  {
   "cell_type": "markdown",
   "metadata": {},
   "source": [
    "Again we can resort to position based splicing if needed:"
   ]
  },
  {
   "cell_type": "code",
   "execution_count": 468,
   "metadata": {},
   "outputs": [
    {
     "data": {
      "text/html": [
       "<div>\n",
       "<style scoped>\n",
       "    .dataframe tbody tr th:only-of-type {\n",
       "        vertical-align: middle;\n",
       "    }\n",
       "\n",
       "    .dataframe tbody tr th {\n",
       "        vertical-align: top;\n",
       "    }\n",
       "\n",
       "    .dataframe thead th {\n",
       "        text-align: right;\n",
       "    }\n",
       "</style>\n",
       "<table border=\"1\" class=\"dataframe\">\n",
       "  <thead>\n",
       "    <tr style=\"text-align: right;\">\n",
       "      <th></th>\n",
       "      <th>Names</th>\n",
       "      <th>Births</th>\n",
       "    </tr>\n",
       "  </thead>\n",
       "  <tbody>\n",
       "    <tr>\n",
       "      <th>b</th>\n",
       "      <td>John</td>\n",
       "      <td>578</td>\n",
       "    </tr>\n",
       "  </tbody>\n",
       "</table>\n",
       "</div>"
      ],
      "text/plain": [
       "  Names  Births\n",
       "b  John     578"
      ]
     },
     "execution_count": 468,
     "metadata": {},
     "output_type": "execute_result"
    }
   ],
   "source": [
    "df2.iloc[1:2]"
   ]
  },
  {
   "cell_type": "markdown",
   "metadata": {},
   "source": [
    "## Consequences of Keyword indexing"
   ]
  },
  {
   "cell_type": "markdown",
   "metadata": {},
   "source": [
    "We have been at pains to emphasize that DataFrames are like 2D arrays but with\n",
    "keyword indexing instead of position based indexing.\n",
    "\n",
    "One of the consequences of this is that shape is not the decisive factor in\n",
    "determining when two dataFrames can be combined by an operation."
   ]
  },
  {
   "cell_type": "markdown",
   "metadata": {},
   "source": [
    "When two `numpy` arrays  of incompatible shapes are combined, the\n",
    "result is an error:"
   ]
  },
  {
   "cell_type": "code",
   "execution_count": 613,
   "metadata": {},
   "outputs": [],
   "source": [
    "A = np.ones((2,2))\n",
    "B = np.zeros((3,3))\n",
    "# This is a Value Error\n",
    "# A + B"
   ]
  },
  {
   "cell_type": "markdown",
   "metadata": {},
   "source": [
    "We use an example of Jake Van der Plas's to show the same is not true of \n",
    "`pandas` DataFrames:"
   ]
  },
  {
   "cell_type": "code",
   "execution_count": 311,
   "metadata": {
    "scrolled": true
   },
   "outputs": [
    {
     "data": {
      "text/html": [
       "<div>\n",
       "<style scoped>\n",
       "    .dataframe tbody tr th:only-of-type {\n",
       "        vertical-align: middle;\n",
       "    }\n",
       "\n",
       "    .dataframe tbody tr th {\n",
       "        vertical-align: top;\n",
       "    }\n",
       "\n",
       "    .dataframe thead th {\n",
       "        text-align: right;\n",
       "    }\n",
       "</style>\n",
       "<table border=\"1\" class=\"dataframe\">\n",
       "  <thead>\n",
       "    <tr style=\"text-align: right;\">\n",
       "      <th></th>\n",
       "      <th>A</th>\n",
       "      <th>B</th>\n",
       "    </tr>\n",
       "  </thead>\n",
       "  <tbody>\n",
       "    <tr>\n",
       "      <th>0</th>\n",
       "      <td>16</td>\n",
       "      <td>17</td>\n",
       "    </tr>\n",
       "    <tr>\n",
       "      <th>1</th>\n",
       "      <td>6</td>\n",
       "      <td>11</td>\n",
       "    </tr>\n",
       "  </tbody>\n",
       "</table>\n",
       "</div>"
      ],
      "text/plain": [
       "    A   B\n",
       "0  16  17\n",
       "1   6  11"
      ]
     },
     "execution_count": 311,
     "metadata": {},
     "output_type": "execute_result"
    }
   ],
   "source": [
    "M = np.random.randint(0, 20, (2, 2))\n",
    "A = pd.DataFrame(M,\n",
    "                 columns=list('AB'))\n",
    "A"
   ]
  },
  {
   "cell_type": "markdown",
   "metadata": {},
   "source": [
    "DataFrame A is 2x2."
   ]
  },
  {
   "cell_type": "code",
   "execution_count": 312,
   "metadata": {},
   "outputs": [
    {
     "data": {
      "text/html": [
       "<div>\n",
       "<style scoped>\n",
       "    .dataframe tbody tr th:only-of-type {\n",
       "        vertical-align: middle;\n",
       "    }\n",
       "\n",
       "    .dataframe tbody tr th {\n",
       "        vertical-align: top;\n",
       "    }\n",
       "\n",
       "    .dataframe thead th {\n",
       "        text-align: right;\n",
       "    }\n",
       "</style>\n",
       "<table border=\"1\" class=\"dataframe\">\n",
       "  <thead>\n",
       "    <tr style=\"text-align: right;\">\n",
       "      <th></th>\n",
       "      <th>A</th>\n",
       "      <th>B</th>\n",
       "      <th>C</th>\n",
       "    </tr>\n",
       "  </thead>\n",
       "  <tbody>\n",
       "    <tr>\n",
       "      <th>0</th>\n",
       "      <td>3</td>\n",
       "      <td>4</td>\n",
       "      <td>1</td>\n",
       "    </tr>\n",
       "    <tr>\n",
       "      <th>1</th>\n",
       "      <td>6</td>\n",
       "      <td>1</td>\n",
       "      <td>5</td>\n",
       "    </tr>\n",
       "    <tr>\n",
       "      <th>2</th>\n",
       "      <td>3</td>\n",
       "      <td>4</td>\n",
       "      <td>2</td>\n",
       "    </tr>\n",
       "  </tbody>\n",
       "</table>\n",
       "</div>"
      ],
      "text/plain": [
       "   A  B  C\n",
       "0  3  4  1\n",
       "1  6  1  5\n",
       "2  3  4  2"
      ]
     },
     "execution_count": 312,
     "metadata": {},
     "output_type": "execute_result"
    }
   ],
   "source": [
    "M = np.random.randint(0, 10, (3, 3))\n",
    "B = pd.DataFrame(M,\n",
    "                 columns=list('ABC'))\n",
    "B"
   ]
  },
  {
   "cell_type": "markdown",
   "metadata": {},
   "source": [
    "DataFrame B is 3x3."
   ]
  },
  {
   "cell_type": "markdown",
   "metadata": {},
   "source": [
    "Now we combine these seemingly incompatible matrices, A and B:"
   ]
  },
  {
   "cell_type": "code",
   "execution_count": 313,
   "metadata": {},
   "outputs": [
    {
     "data": {
      "text/html": [
       "<div>\n",
       "<style scoped>\n",
       "    .dataframe tbody tr th:only-of-type {\n",
       "        vertical-align: middle;\n",
       "    }\n",
       "\n",
       "    .dataframe tbody tr th {\n",
       "        vertical-align: top;\n",
       "    }\n",
       "\n",
       "    .dataframe thead th {\n",
       "        text-align: right;\n",
       "    }\n",
       "</style>\n",
       "<table border=\"1\" class=\"dataframe\">\n",
       "  <thead>\n",
       "    <tr style=\"text-align: right;\">\n",
       "      <th></th>\n",
       "      <th>A</th>\n",
       "      <th>B</th>\n",
       "      <th>C</th>\n",
       "    </tr>\n",
       "  </thead>\n",
       "  <tbody>\n",
       "    <tr>\n",
       "      <th>0</th>\n",
       "      <td>19.0</td>\n",
       "      <td>21.0</td>\n",
       "      <td>NaN</td>\n",
       "    </tr>\n",
       "    <tr>\n",
       "      <th>1</th>\n",
       "      <td>12.0</td>\n",
       "      <td>12.0</td>\n",
       "      <td>NaN</td>\n",
       "    </tr>\n",
       "    <tr>\n",
       "      <th>2</th>\n",
       "      <td>NaN</td>\n",
       "      <td>NaN</td>\n",
       "      <td>NaN</td>\n",
       "    </tr>\n",
       "  </tbody>\n",
       "</table>\n",
       "</div>"
      ],
      "text/plain": [
       "      A     B   C\n",
       "0  19.0  21.0 NaN\n",
       "1  12.0  12.0 NaN\n",
       "2   NaN   NaN NaN"
      ]
     },
     "execution_count": 313,
     "metadata": {},
     "output_type": "execute_result"
    }
   ],
   "source": [
    "A+B"
   ]
  },
  {
   "cell_type": "markdown",
   "metadata": {},
   "source": [
    "Whereever one of the DataFrames was undefined for a column/row name,\n",
    "we got a `NaN`.  More importantly, whereever we had positions that\n",
    "were defined in both DataFrames, we performed addition.\n",
    "\n",
    "The usefulness of this emerges when we we try to merge data\n",
    "from two different sources, each of which may have gaps.\n",
    "if we have our row and index labeling aligned, we may still be able to partially\n",
    "unify the information."
   ]
  },
  {
   "cell_type": "markdown",
   "metadata": {
    "id": "Wlemw0p3ACYR"
   },
   "source": [
    "## Analyze Data"
   ]
  },
  {
   "cell_type": "markdown",
   "metadata": {
    "id": "eJWjBcBxACYR"
   },
   "source": [
    "To find the most popular name or the baby name with the highest birth rate, we can do one of the following.  \n",
    "\n",
    "* Sort the dataframe and select the top row\n",
    "* Use the ***max()*** attribute to find the maximum value\n",
    "\n",
    "We illustrate these in turn."
   ]
  },
  {
   "cell_type": "markdown",
   "metadata": {
    "id": "GtvZoKZUACYT"
   },
   "source": [
    "Next we create a new DataFrame, sorting the rows according to values in a particular column."
   ]
  },
  {
   "cell_type": "code",
   "execution_count": 473,
   "metadata": {
    "colab": {
     "base_uri": "https://localhost:8080/"
    },
    "id": "mZ4UMclyACYT",
    "outputId": "866e749f-0b57-4b70-afe6-594652cd4f8e"
   },
   "outputs": [
    {
     "data": {
      "text/html": [
       "<div>\n",
       "<style scoped>\n",
       "    .dataframe tbody tr th:only-of-type {\n",
       "        vertical-align: middle;\n",
       "    }\n",
       "\n",
       "    .dataframe tbody tr th {\n",
       "        vertical-align: top;\n",
       "    }\n",
       "\n",
       "    .dataframe thead th {\n",
       "        text-align: right;\n",
       "    }\n",
       "</style>\n",
       "<table border=\"1\" class=\"dataframe\">\n",
       "  <thead>\n",
       "    <tr style=\"text-align: right;\">\n",
       "      <th></th>\n",
       "      <th>Names</th>\n",
       "      <th>Births</th>\n",
       "    </tr>\n",
       "  </thead>\n",
       "  <tbody>\n",
       "    <tr>\n",
       "      <th>4</th>\n",
       "      <td>Mel</td>\n",
       "      <td>973</td>\n",
       "    </tr>\n",
       "    <tr>\n",
       "      <th>0</th>\n",
       "      <td>Bob</td>\n",
       "      <td>968</td>\n",
       "    </tr>\n",
       "    <tr>\n",
       "      <th>3</th>\n",
       "      <td>John</td>\n",
       "      <td>578</td>\n",
       "    </tr>\n",
       "    <tr>\n",
       "      <th>1</th>\n",
       "      <td>Jessica</td>\n",
       "      <td>155</td>\n",
       "    </tr>\n",
       "    <tr>\n",
       "      <th>2</th>\n",
       "      <td>Mary</td>\n",
       "      <td>77</td>\n",
       "    </tr>\n",
       "  </tbody>\n",
       "</table>\n",
       "</div>"
      ],
      "text/plain": [
       "     Names  Births\n",
       "4      Mel     973\n",
       "0      Bob     968\n",
       "3     John     578\n",
       "1  Jessica     155\n",
       "2     Mary      77"
      ]
     },
     "execution_count": 473,
     "metadata": {},
     "output_type": "execute_result"
    }
   ],
   "source": [
    "# Method 1 (old pandas)\n",
    "Sorted_df = df.sort_values('Births', ascending= False)\n",
    "Sorted_df"
   ]
  },
  {
   "cell_type": "markdown",
   "metadata": {},
   "source": [
    "To get to the actual name that is the most popular one:"
   ]
  },
  {
   "cell_type": "code",
   "execution_count": 145,
   "metadata": {},
   "outputs": [
    {
     "data": {
      "text/plain": [
       "'Mel'"
      ]
     },
     "execution_count": 145,
     "metadata": {},
     "output_type": "execute_result"
    }
   ],
   "source": [
    "Sorted_df.iloc[0]['Names']"
   ]
  },
  {
   "cell_type": "markdown",
   "metadata": {
    "id": "WqiROw9lACYZ"
   },
   "source": [
    "Of course if all we were interested in was the count of the most popular name, we could do:"
   ]
  },
  {
   "cell_type": "code",
   "execution_count": null,
   "metadata": {
    "colab": {
     "base_uri": "https://localhost:8080/"
    },
    "id": "92fZj-y4ACYZ",
    "outputId": "8334bc24-4447-49a4-aa6d-a09a8be6db7b"
   },
   "outputs": [
    {
     "data": {
      "text/plain": [
       "973"
      ]
     },
     "execution_count": 35,
     "metadata": {
      "tags": []
     },
     "output_type": "execute_result"
    }
   ],
   "source": [
    "# Method 2:\n",
    "df['Births'].max()"
   ]
  },
  {
   "cell_type": "markdown",
   "metadata": {
    "id": "eJWjBcBxACYR"
   },
   "source": [
    "Note that although we can just as easily sort a column (Series) as a DataFrame,\n",
    "it will be more work to find the associated value in another column.\n",
    "\n",
    "Illustrating:"
   ]
  },
  {
   "cell_type": "code",
   "execution_count": 474,
   "metadata": {
    "colab": {
     "base_uri": "https://localhost:8080/"
    },
    "id": "m0IKACpMACYR",
    "outputId": "87f65724-ff2a-474b-9e4b-8e7b24317486"
   },
   "outputs": [
    {
     "name": "stdout",
     "output_type": "stream",
     "text": [
      "0    968\n",
      "1    155\n",
      "2     77\n",
      "3    578\n",
      "4    973\n",
      "Name: Births, dtype: int64\n",
      "4    973\n",
      "0    968\n",
      "3    578\n",
      "1    155\n",
      "2     77\n",
      "Name: Births, dtype: int64\n"
     ]
    }
   ],
   "source": [
    "print(df['Births'])\n",
    "SortedBirths = df['Births'].sort_values(ascending=False)\n",
    "print(SortedBirths)"
   ]
  },
  {
   "cell_type": "markdown",
   "metadata": {},
   "source": [
    "Now to get the most popular name, we must retrieve the first element in the sorted index, and then we can use that index element to get the name:"
   ]
  },
  {
   "cell_type": "code",
   "execution_count": 475,
   "metadata": {},
   "outputs": [
    {
     "name": "stdout",
     "output_type": "stream",
     "text": [
      "4\n"
     ]
    },
    {
     "data": {
      "text/plain": [
       "'Mel'"
      ]
     },
     "execution_count": 475,
     "metadata": {},
     "output_type": "execute_result"
    }
   ],
   "source": [
    "print(SortedBirths.index[0])\n",
    "df.loc[SortedBirths.index[0],'Names']"
   ]
  },
  {
   "cell_type": "markdown",
   "metadata": {},
   "source": [
    "## Loading Data:  A more realistic example"
   ]
  },
  {
   "cell_type": "markdown",
   "metadata": {},
   "source": [
    "The next cell loads data from my website and will take some time to execute.  \n",
    "It is slow because\n",
    "it is retrieving a number of large uncompressed files containing year\n",
    "by year babynames data,\n",
    "\n",
    "This will give you a much larger `names` DataFrame, with two new columns,\n",
    "\"sex\" and \"year\"."
   ]
  },
  {
   "cell_type": "code",
   "execution_count": 35,
   "metadata": {
    "id": "ZKLaLZ1IBcER"
   },
   "outputs": [],
   "source": [
    "import pandas as pd\n",
    "years = list(range(1880,2011))\n",
    "pieces = []\n",
    "columns = ['name','sex','births']\n",
    "\n",
    "url = 'https://gawron.sdsu.edu/python_for_ss/course_core/book_draft/_static/names/'\n",
    "for year in years:\n",
    "    path = f'{url}yob{year:d}.txt'\n",
    "    frame = pd.read_csv(path,names=columns)\n",
    "    frame['year'] = year\n",
    "    pieces.append(frame)    \n",
    "    \n",
    "names = pd.concat(pieces, ignore_index=True)"
   ]
  },
  {
   "cell_type": "markdown",
   "metadata": {},
   "source": [
    "If you were successful the next cell should evaluate to `True`.  Please re-evaluate the next cell to check."
   ]
  },
  {
   "cell_type": "code",
   "execution_count": 36,
   "metadata": {},
   "outputs": [
    {
     "data": {
      "text/plain": [
       "True"
      ]
     },
     "execution_count": 36,
     "metadata": {},
     "output_type": "execute_result"
    }
   ],
   "source": [
    "len(names)  == 1690784"
   ]
  },
  {
   "cell_type": "code",
   "execution_count": 169,
   "metadata": {},
   "outputs": [
    {
     "data": {
      "text/html": [
       "<div>\n",
       "<style scoped>\n",
       "    .dataframe tbody tr th:only-of-type {\n",
       "        vertical-align: middle;\n",
       "    }\n",
       "\n",
       "    .dataframe tbody tr th {\n",
       "        vertical-align: top;\n",
       "    }\n",
       "\n",
       "    .dataframe thead th {\n",
       "        text-align: right;\n",
       "    }\n",
       "</style>\n",
       "<table border=\"1\" class=\"dataframe\">\n",
       "  <thead>\n",
       "    <tr style=\"text-align: right;\">\n",
       "      <th></th>\n",
       "      <th>name</th>\n",
       "      <th>sex</th>\n",
       "      <th>births</th>\n",
       "      <th>year</th>\n",
       "    </tr>\n",
       "  </thead>\n",
       "  <tbody>\n",
       "    <tr>\n",
       "      <th>0</th>\n",
       "      <td>Mary</td>\n",
       "      <td>F</td>\n",
       "      <td>7065</td>\n",
       "      <td>1880</td>\n",
       "    </tr>\n",
       "    <tr>\n",
       "      <th>1</th>\n",
       "      <td>Anna</td>\n",
       "      <td>F</td>\n",
       "      <td>2604</td>\n",
       "      <td>1880</td>\n",
       "    </tr>\n",
       "    <tr>\n",
       "      <th>2</th>\n",
       "      <td>Emma</td>\n",
       "      <td>F</td>\n",
       "      <td>2003</td>\n",
       "      <td>1880</td>\n",
       "    </tr>\n",
       "    <tr>\n",
       "      <th>3</th>\n",
       "      <td>Elizabeth</td>\n",
       "      <td>F</td>\n",
       "      <td>1939</td>\n",
       "      <td>1880</td>\n",
       "    </tr>\n",
       "    <tr>\n",
       "      <th>4</th>\n",
       "      <td>Minnie</td>\n",
       "      <td>F</td>\n",
       "      <td>1746</td>\n",
       "      <td>1880</td>\n",
       "    </tr>\n",
       "    <tr>\n",
       "      <th>...</th>\n",
       "      <td>...</td>\n",
       "      <td>...</td>\n",
       "      <td>...</td>\n",
       "      <td>...</td>\n",
       "    </tr>\n",
       "    <tr>\n",
       "      <th>1690779</th>\n",
       "      <td>Zymaire</td>\n",
       "      <td>M</td>\n",
       "      <td>5</td>\n",
       "      <td>2010</td>\n",
       "    </tr>\n",
       "    <tr>\n",
       "      <th>1690780</th>\n",
       "      <td>Zyonne</td>\n",
       "      <td>M</td>\n",
       "      <td>5</td>\n",
       "      <td>2010</td>\n",
       "    </tr>\n",
       "    <tr>\n",
       "      <th>1690781</th>\n",
       "      <td>Zyquarius</td>\n",
       "      <td>M</td>\n",
       "      <td>5</td>\n",
       "      <td>2010</td>\n",
       "    </tr>\n",
       "    <tr>\n",
       "      <th>1690782</th>\n",
       "      <td>Zyran</td>\n",
       "      <td>M</td>\n",
       "      <td>5</td>\n",
       "      <td>2010</td>\n",
       "    </tr>\n",
       "    <tr>\n",
       "      <th>1690783</th>\n",
       "      <td>Zzyzx</td>\n",
       "      <td>M</td>\n",
       "      <td>5</td>\n",
       "      <td>2010</td>\n",
       "    </tr>\n",
       "  </tbody>\n",
       "</table>\n",
       "<p>1690784 rows × 4 columns</p>\n",
       "</div>"
      ],
      "text/plain": [
       "              name sex  births  year\n",
       "0             Mary   F    7065  1880\n",
       "1             Anna   F    2604  1880\n",
       "2             Emma   F    2003  1880\n",
       "3        Elizabeth   F    1939  1880\n",
       "4           Minnie   F    1746  1880\n",
       "...            ...  ..     ...   ...\n",
       "1690779    Zymaire   M       5  2010\n",
       "1690780     Zyonne   M       5  2010\n",
       "1690781  Zyquarius   M       5  2010\n",
       "1690782      Zyran   M       5  2010\n",
       "1690783      Zzyzx   M       5  2010\n",
       "\n",
       "[1690784 rows x 4 columns]"
      ]
     },
     "execution_count": 169,
     "metadata": {},
     "output_type": "execute_result"
    }
   ],
   "source": [
    "names"
   ]
  },
  {
   "cell_type": "markdown",
   "metadata": {
    "id": "oRKl68h_BcES"
   },
   "source": [
    "We first build the list `pieces` in the `for`-loop; `pieces` is a list of DataFrames. \n",
    "As we process each data file, we keep track of the year \n",
    "by adding a `'year'` column to the DataFrame.\n",
    "We then concatenate that list into a single large frame called `names`, ignoring the indexes in the old frames.  We ignore the indexes because they will all be number ranges starting with 0, and rather than have a large number of rows indexed `1` (1 from each year), we renumber them all.\n",
    "\n",
    "Think about why it's hard to build the list `pieces` with a list comprehension instead of  the way it's done in the above cell.\n",
    "Notice the following doesn't work.  Python requires an expression\n",
    "as the first component of a list comprehension.  One reason for this is that list comprehensions are supposed to improve readability.  Complex sequences of commands don't do that, and the `for`-loop above is much more understandable.\n",
    "\n",
    "```\n",
    "pieces = [f=pd.read_csv('names/yob{0:d}.txt'.format(year),names=columns);\n",
    "          f['year']=year; f\n",
    "          for year in years]\n",
    "```"
   ]
  },
  {
   "cell_type": "markdown",
   "metadata": {},
   "source": [
    "The new DataFrame has 1,690,784 rows and 4 columns."
   ]
  },
  {
   "cell_type": "code",
   "execution_count": 38,
   "metadata": {},
   "outputs": [
    {
     "name": "stdout",
     "output_type": "stream",
     "text": [
      "<class 'pandas.core.frame.DataFrame'>\n",
      "RangeIndex: 1690784 entries, 0 to 1690783\n",
      "Data columns (total 4 columns):\n",
      " #   Column  Non-Null Count    Dtype \n",
      "---  ------  --------------    ----- \n",
      " 0   name    1690784 non-null  object\n",
      " 1   sex     1690784 non-null  object\n",
      " 2   births  1690784 non-null  int64 \n",
      " 3   year    1690784 non-null  int64 \n",
      "dtypes: int64(2), object(2)\n",
      "memory usage: 51.6+ MB\n"
     ]
    }
   ],
   "source": [
    "names.info()"
   ]
  },
  {
   "cell_type": "markdown",
   "metadata": {
    "id": "arF5qywwACYh"
   },
   "source": [
    "## Selection: Selecting parts of Pandas data frames"
   ]
  },
  {
   "cell_type": "markdown",
   "metadata": {
    "id": "-u6hcYqxACYi"
   },
   "source": [
    "Having created a much larger Pandas DataFrame with babynames data,  we return to selecting data.   "
   ]
  },
  {
   "cell_type": "markdown",
   "metadata": {
    "id": "M47E2yMbDLsk"
   },
   "source": []
  },
  {
   "cell_type": "code",
   "execution_count": 476,
   "metadata": {},
   "outputs": [],
   "source": [
    "names1881 = names[names['year'] == 1881]"
   ]
  },
  {
   "cell_type": "code",
   "execution_count": 477,
   "metadata": {},
   "outputs": [
    {
     "data": {
      "text/html": [
       "<div>\n",
       "<style scoped>\n",
       "    .dataframe tbody tr th:only-of-type {\n",
       "        vertical-align: middle;\n",
       "    }\n",
       "\n",
       "    .dataframe tbody tr th {\n",
       "        vertical-align: top;\n",
       "    }\n",
       "\n",
       "    .dataframe thead th {\n",
       "        text-align: right;\n",
       "    }\n",
       "</style>\n",
       "<table border=\"1\" class=\"dataframe\">\n",
       "  <thead>\n",
       "    <tr style=\"text-align: right;\">\n",
       "      <th></th>\n",
       "      <th>name</th>\n",
       "      <th>sex</th>\n",
       "      <th>births</th>\n",
       "      <th>year</th>\n",
       "    </tr>\n",
       "  </thead>\n",
       "  <tbody>\n",
       "    <tr>\n",
       "      <th>2000</th>\n",
       "      <td>Mary</td>\n",
       "      <td>F</td>\n",
       "      <td>6919</td>\n",
       "      <td>1881</td>\n",
       "    </tr>\n",
       "    <tr>\n",
       "      <th>2001</th>\n",
       "      <td>Anna</td>\n",
       "      <td>F</td>\n",
       "      <td>2698</td>\n",
       "      <td>1881</td>\n",
       "    </tr>\n",
       "    <tr>\n",
       "      <th>2002</th>\n",
       "      <td>Emma</td>\n",
       "      <td>F</td>\n",
       "      <td>2034</td>\n",
       "      <td>1881</td>\n",
       "    </tr>\n",
       "    <tr>\n",
       "      <th>2003</th>\n",
       "      <td>Elizabeth</td>\n",
       "      <td>F</td>\n",
       "      <td>1852</td>\n",
       "      <td>1881</td>\n",
       "    </tr>\n",
       "    <tr>\n",
       "      <th>2004</th>\n",
       "      <td>Margaret</td>\n",
       "      <td>F</td>\n",
       "      <td>1658</td>\n",
       "      <td>1881</td>\n",
       "    </tr>\n",
       "    <tr>\n",
       "      <th>...</th>\n",
       "      <td>...</td>\n",
       "      <td>...</td>\n",
       "      <td>...</td>\n",
       "      <td>...</td>\n",
       "    </tr>\n",
       "    <tr>\n",
       "      <th>3930</th>\n",
       "      <td>Wiliam</td>\n",
       "      <td>M</td>\n",
       "      <td>5</td>\n",
       "      <td>1881</td>\n",
       "    </tr>\n",
       "    <tr>\n",
       "      <th>3931</th>\n",
       "      <td>Wilton</td>\n",
       "      <td>M</td>\n",
       "      <td>5</td>\n",
       "      <td>1881</td>\n",
       "    </tr>\n",
       "    <tr>\n",
       "      <th>3932</th>\n",
       "      <td>Wing</td>\n",
       "      <td>M</td>\n",
       "      <td>5</td>\n",
       "      <td>1881</td>\n",
       "    </tr>\n",
       "    <tr>\n",
       "      <th>3933</th>\n",
       "      <td>Wood</td>\n",
       "      <td>M</td>\n",
       "      <td>5</td>\n",
       "      <td>1881</td>\n",
       "    </tr>\n",
       "    <tr>\n",
       "      <th>3934</th>\n",
       "      <td>Wright</td>\n",
       "      <td>M</td>\n",
       "      <td>5</td>\n",
       "      <td>1881</td>\n",
       "    </tr>\n",
       "  </tbody>\n",
       "</table>\n",
       "<p>1935 rows × 4 columns</p>\n",
       "</div>"
      ],
      "text/plain": [
       "           name sex  births  year\n",
       "2000       Mary   F    6919  1881\n",
       "2001       Anna   F    2698  1881\n",
       "2002       Emma   F    2034  1881\n",
       "2003  Elizabeth   F    1852  1881\n",
       "2004   Margaret   F    1658  1881\n",
       "...         ...  ..     ...   ...\n",
       "3930     Wiliam   M       5  1881\n",
       "3931     Wilton   M       5  1881\n",
       "3932       Wing   M       5  1881\n",
       "3933       Wood   M       5  1881\n",
       "3934     Wright   M       5  1881\n",
       "\n",
       "[1935 rows x 4 columns]"
      ]
     },
     "execution_count": 477,
     "metadata": {},
     "output_type": "execute_result"
    }
   ],
   "source": [
    "names1881"
   ]
  },
  {
   "cell_type": "markdown",
   "metadata": {
    "id": "aJGudGjeACYs"
   },
   "source": [
    "The first ten rows.  "
   ]
  },
  {
   "cell_type": "code",
   "execution_count": 478,
   "metadata": {
    "colab": {
     "base_uri": "https://localhost:8080/",
     "height": 380
    },
    "id": "WcnFeQ0YACYt",
    "outputId": "1fa5a5e1-b6e8-4044-d67b-ded320822057"
   },
   "outputs": [
    {
     "name": "stdout",
     "output_type": "stream",
     "text": [
      "<class 'pandas.core.frame.DataFrame'>\n"
     ]
    },
    {
     "data": {
      "text/html": [
       "<div>\n",
       "<style scoped>\n",
       "    .dataframe tbody tr th:only-of-type {\n",
       "        vertical-align: middle;\n",
       "    }\n",
       "\n",
       "    .dataframe tbody tr th {\n",
       "        vertical-align: top;\n",
       "    }\n",
       "\n",
       "    .dataframe thead th {\n",
       "        text-align: right;\n",
       "    }\n",
       "</style>\n",
       "<table border=\"1\" class=\"dataframe\">\n",
       "  <thead>\n",
       "    <tr style=\"text-align: right;\">\n",
       "      <th></th>\n",
       "      <th>name</th>\n",
       "      <th>sex</th>\n",
       "      <th>births</th>\n",
       "      <th>year</th>\n",
       "    </tr>\n",
       "  </thead>\n",
       "  <tbody>\n",
       "    <tr>\n",
       "      <th>2000</th>\n",
       "      <td>Mary</td>\n",
       "      <td>F</td>\n",
       "      <td>6919</td>\n",
       "      <td>1881</td>\n",
       "    </tr>\n",
       "    <tr>\n",
       "      <th>2001</th>\n",
       "      <td>Anna</td>\n",
       "      <td>F</td>\n",
       "      <td>2698</td>\n",
       "      <td>1881</td>\n",
       "    </tr>\n",
       "    <tr>\n",
       "      <th>2002</th>\n",
       "      <td>Emma</td>\n",
       "      <td>F</td>\n",
       "      <td>2034</td>\n",
       "      <td>1881</td>\n",
       "    </tr>\n",
       "    <tr>\n",
       "      <th>2003</th>\n",
       "      <td>Elizabeth</td>\n",
       "      <td>F</td>\n",
       "      <td>1852</td>\n",
       "      <td>1881</td>\n",
       "    </tr>\n",
       "    <tr>\n",
       "      <th>2004</th>\n",
       "      <td>Margaret</td>\n",
       "      <td>F</td>\n",
       "      <td>1658</td>\n",
       "      <td>1881</td>\n",
       "    </tr>\n",
       "    <tr>\n",
       "      <th>2005</th>\n",
       "      <td>Minnie</td>\n",
       "      <td>F</td>\n",
       "      <td>1653</td>\n",
       "      <td>1881</td>\n",
       "    </tr>\n",
       "    <tr>\n",
       "      <th>2006</th>\n",
       "      <td>Ida</td>\n",
       "      <td>F</td>\n",
       "      <td>1439</td>\n",
       "      <td>1881</td>\n",
       "    </tr>\n",
       "    <tr>\n",
       "      <th>2007</th>\n",
       "      <td>Annie</td>\n",
       "      <td>F</td>\n",
       "      <td>1326</td>\n",
       "      <td>1881</td>\n",
       "    </tr>\n",
       "    <tr>\n",
       "      <th>2008</th>\n",
       "      <td>Bertha</td>\n",
       "      <td>F</td>\n",
       "      <td>1324</td>\n",
       "      <td>1881</td>\n",
       "    </tr>\n",
       "    <tr>\n",
       "      <th>2009</th>\n",
       "      <td>Alice</td>\n",
       "      <td>F</td>\n",
       "      <td>1308</td>\n",
       "      <td>1881</td>\n",
       "    </tr>\n",
       "  </tbody>\n",
       "</table>\n",
       "</div>"
      ],
      "text/plain": [
       "           name sex  births  year\n",
       "2000       Mary   F    6919  1881\n",
       "2001       Anna   F    2698  1881\n",
       "2002       Emma   F    2034  1881\n",
       "2003  Elizabeth   F    1852  1881\n",
       "2004   Margaret   F    1658  1881\n",
       "2005     Minnie   F    1653  1881\n",
       "2006        Ida   F    1439  1881\n",
       "2007      Annie   F    1326  1881\n",
       "2008     Bertha   F    1324  1881\n",
       "2009      Alice   F    1308  1881"
      ]
     },
     "execution_count": 478,
     "metadata": {},
     "output_type": "execute_result"
    }
   ],
   "source": [
    "print(type(names1881[:10]))\n",
    "names1881[:10]"
   ]
  },
  {
   "cell_type": "markdown",
   "metadata": {
    "id": "mawJaiUYACYv"
   },
   "source": [
    "Note that index starts with 2000 because we have retrieved a subset of\n",
    "the rows in the `names` data, preserving the indexing.\n",
    "\n",
    "Retrieve the gender column, and display the last part."
   ]
  },
  {
   "cell_type": "code",
   "execution_count": 479,
   "metadata": {
    "colab": {
     "base_uri": "https://localhost:8080/"
    },
    "id": "xTF4eNYWACYv",
    "outputId": "55777006-e113-4c40-c85d-12613190bc5b"
   },
   "outputs": [
    {
     "data": {
      "text/plain": [
       "3930    M\n",
       "3931    M\n",
       "3932    M\n",
       "3933    M\n",
       "3934    M\n",
       "Name: sex, dtype: object"
      ]
     },
     "execution_count": 479,
     "metadata": {},
     "output_type": "execute_result"
    }
   ],
   "source": [
    "names1881['sex'].tail()"
   ]
  },
  {
   "cell_type": "markdown",
   "metadata": {
    "id": "oomp8YkIACYy"
   },
   "source": [
    "A Boolean test, returning a DataFrame that has one column, a column of Booleans.\n",
    "\n",
    "This shows the 1881 names  are gender sorted, with the female names occupying approximately the last half of the data."
   ]
  },
  {
   "cell_type": "code",
   "execution_count": 480,
   "metadata": {
    "colab": {
     "base_uri": "https://localhost:8080/"
    },
    "id": "L8PCGojoACYy",
    "outputId": "b9c89da6-4750-4a5c-9ad5-1cd256b43f7f"
   },
   "outputs": [
    {
     "name": "stdout",
     "output_type": "stream",
     "text": [
      "<class 'pandas.core.series.Series'>\n"
     ]
    },
    {
     "data": {
      "text/plain": [
       "2000     True\n",
       "2001     True\n",
       "2002     True\n",
       "2003     True\n",
       "2004     True\n",
       "        ...  \n",
       "3930    False\n",
       "3931    False\n",
       "3932    False\n",
       "3933    False\n",
       "3934    False\n",
       "Name: sex, Length: 1935, dtype: bool"
      ]
     },
     "execution_count": 480,
     "metadata": {},
     "output_type": "execute_result"
    }
   ],
   "source": [
    "print(type(names1881['sex']=='F'))\n",
    "names1881['sex']=='F'"
   ]
  },
  {
   "cell_type": "markdown",
   "metadata": {
    "id": "jty9sSqTACY0"
   },
   "source": [
    "Using the analogue of fancy-indexing in\n",
    "numpy arrays (a list of indices selects a list of rows), you can pick out a subdata frame with a subset of columns, using a list of column names:"
   ]
  },
  {
   "cell_type": "code",
   "execution_count": 481,
   "metadata": {
    "colab": {
     "base_uri": "https://localhost:8080/",
     "height": 436
    },
    "id": "eolw90L5ACY2",
    "outputId": "760c7d28-57a3-4ff2-de03-78e09b953379"
   },
   "outputs": [
    {
     "name": "stdout",
     "output_type": "stream",
     "text": [
      "<class 'pandas.core.frame.DataFrame'>\n"
     ]
    },
    {
     "data": {
      "text/html": [
       "<div>\n",
       "<style scoped>\n",
       "    .dataframe tbody tr th:only-of-type {\n",
       "        vertical-align: middle;\n",
       "    }\n",
       "\n",
       "    .dataframe tbody tr th {\n",
       "        vertical-align: top;\n",
       "    }\n",
       "\n",
       "    .dataframe thead th {\n",
       "        text-align: right;\n",
       "    }\n",
       "</style>\n",
       "<table border=\"1\" class=\"dataframe\">\n",
       "  <thead>\n",
       "    <tr style=\"text-align: right;\">\n",
       "      <th></th>\n",
       "      <th>sex</th>\n",
       "      <th>births</th>\n",
       "    </tr>\n",
       "  </thead>\n",
       "  <tbody>\n",
       "    <tr>\n",
       "      <th>2000</th>\n",
       "      <td>F</td>\n",
       "      <td>6919</td>\n",
       "    </tr>\n",
       "    <tr>\n",
       "      <th>2001</th>\n",
       "      <td>F</td>\n",
       "      <td>2698</td>\n",
       "    </tr>\n",
       "    <tr>\n",
       "      <th>2002</th>\n",
       "      <td>F</td>\n",
       "      <td>2034</td>\n",
       "    </tr>\n",
       "    <tr>\n",
       "      <th>2003</th>\n",
       "      <td>F</td>\n",
       "      <td>1852</td>\n",
       "    </tr>\n",
       "    <tr>\n",
       "      <th>2004</th>\n",
       "      <td>F</td>\n",
       "      <td>1658</td>\n",
       "    </tr>\n",
       "    <tr>\n",
       "      <th>...</th>\n",
       "      <td>...</td>\n",
       "      <td>...</td>\n",
       "    </tr>\n",
       "    <tr>\n",
       "      <th>3930</th>\n",
       "      <td>M</td>\n",
       "      <td>5</td>\n",
       "    </tr>\n",
       "    <tr>\n",
       "      <th>3931</th>\n",
       "      <td>M</td>\n",
       "      <td>5</td>\n",
       "    </tr>\n",
       "    <tr>\n",
       "      <th>3932</th>\n",
       "      <td>M</td>\n",
       "      <td>5</td>\n",
       "    </tr>\n",
       "    <tr>\n",
       "      <th>3933</th>\n",
       "      <td>M</td>\n",
       "      <td>5</td>\n",
       "    </tr>\n",
       "    <tr>\n",
       "      <th>3934</th>\n",
       "      <td>M</td>\n",
       "      <td>5</td>\n",
       "    </tr>\n",
       "  </tbody>\n",
       "</table>\n",
       "<p>1935 rows × 2 columns</p>\n",
       "</div>"
      ],
      "text/plain": [
       "     sex  births\n",
       "2000   F    6919\n",
       "2001   F    2698\n",
       "2002   F    2034\n",
       "2003   F    1852\n",
       "2004   F    1658\n",
       "...   ..     ...\n",
       "3930   M       5\n",
       "3931   M       5\n",
       "3932   M       5\n",
       "3933   M       5\n",
       "3934   M       5\n",
       "\n",
       "[1935 rows x 2 columns]"
      ]
     },
     "execution_count": 481,
     "metadata": {},
     "output_type": "execute_result"
    }
   ],
   "source": [
    "print(type(names1881[['sex','births']]))\n",
    "names1881[['sex','births']]"
   ]
  },
  {
   "cell_type": "markdown",
   "metadata": {},
   "source": [
    "The indexing conventions we observed in the toy example work here.\n",
    "\n",
    "indexing a series with a valid index member yields the value at that\n",
    "position in the series:"
   ]
  },
  {
   "cell_type": "code",
   "execution_count": 483,
   "metadata": {
    "colab": {
     "base_uri": "https://localhost:8080/",
     "height": 35
    },
    "id": "puN5oDccACY9",
    "outputId": "4f3b5d35-a51b-4639-f5a0-c5eacf6ac839"
   },
   "outputs": [
    {
     "data": {
      "text/plain": [
       "'F'"
      ]
     },
     "execution_count": 483,
     "metadata": {},
     "output_type": "execute_result"
    }
   ],
   "source": [
    "names1881['sex'][2000]\n"
   ]
  },
  {
   "cell_type": "markdown",
   "metadata": {
    "id": "cRNX6MRVACY_"
   },
   "source": [
    "That's why a Series is referred to as an *ordered set* in the Pandas documentation.  There are no duplicate names, as with dictionary keys, but there is also ordering."
   ]
  },
  {
   "cell_type": "markdown",
   "metadata": {
    "id": "ImO9J-AuACY_"
   },
   "source": [
    "As with the toy example, you can also create a Boolean series containing Booleans.  The following cell creates such a series and prints out the tail:"
   ]
  },
  {
   "cell_type": "code",
   "execution_count": 484,
   "metadata": {
    "colab": {
     "base_uri": "https://localhost:8080/"
    },
    "id": "RQ9t0EfUACY_",
    "outputId": "e6755f92-38ad-42a9-8835-3b22729ae04d"
   },
   "outputs": [
    {
     "data": {
      "text/plain": [
       "3930    False\n",
       "3931    False\n",
       "3932    False\n",
       "3933    False\n",
       "3934    False\n",
       "Name: name, dtype: bool"
      ]
     },
     "execution_count": 484,
     "metadata": {},
     "output_type": "execute_result"
    }
   ],
   "source": [
    " (names1881['name']=='Lee').tail()"
   ]
  },
  {
   "cell_type": "markdown",
   "metadata": {
    "id": "HzdCjEtoACZA"
   },
   "source": [
    "Then you can use that series as a mask to create to create a sub data frame of the original data frame that has only the rows with name `\"Lee\"`."
   ]
  },
  {
   "cell_type": "code",
   "execution_count": 485,
   "metadata": {
    "colab": {
     "base_uri": "https://localhost:8080/",
     "height": 146
    },
    "id": "CzHG0PhrACZB",
    "outputId": "acfd404a-74a4-45e6-e7b5-abdfe5d57ac2"
   },
   "outputs": [
    {
     "name": "stdout",
     "output_type": "stream",
     "text": [
      "<class 'pandas.core.series.Series'>\n",
      "<class 'pandas.core.frame.DataFrame'>\n"
     ]
    },
    {
     "data": {
      "text/html": [
       "<div>\n",
       "<style scoped>\n",
       "    .dataframe tbody tr th:only-of-type {\n",
       "        vertical-align: middle;\n",
       "    }\n",
       "\n",
       "    .dataframe tbody tr th {\n",
       "        vertical-align: top;\n",
       "    }\n",
       "\n",
       "    .dataframe thead th {\n",
       "        text-align: right;\n",
       "    }\n",
       "</style>\n",
       "<table border=\"1\" class=\"dataframe\">\n",
       "  <thead>\n",
       "    <tr style=\"text-align: right;\">\n",
       "      <th></th>\n",
       "      <th>name</th>\n",
       "      <th>sex</th>\n",
       "      <th>births</th>\n",
       "      <th>year</th>\n",
       "    </tr>\n",
       "  </thead>\n",
       "  <tbody>\n",
       "    <tr>\n",
       "      <th>2258</th>\n",
       "      <td>Lee</td>\n",
       "      <td>F</td>\n",
       "      <td>39</td>\n",
       "      <td>1881</td>\n",
       "    </tr>\n",
       "    <tr>\n",
       "      <th>2981</th>\n",
       "      <td>Lee</td>\n",
       "      <td>M</td>\n",
       "      <td>342</td>\n",
       "      <td>1881</td>\n",
       "    </tr>\n",
       "  </tbody>\n",
       "</table>\n",
       "</div>"
      ],
      "text/plain": [
       "     name sex  births  year\n",
       "2258  Lee   F      39  1881\n",
       "2981  Lee   M     342  1881"
      ]
     },
     "execution_count": 485,
     "metadata": {},
     "output_type": "execute_result"
    }
   ],
   "source": [
    "print(type(names1881['name']=='Lee'))\n",
    "lee_rows = names1881[names1881['name']=='Lee']\n",
    "print(type(lee_rows))\n",
    "lee_rows"
   ]
  },
  {
   "cell_type": "markdown",
   "metadata": {
    "id": "lVl1ghjIACZD"
   },
   "source": [
    "So `lee_rows` is a `DataFrame` containing only the rows for people named \"Lee\".  \n",
    "\n",
    "This example also shows why we shouldn't use the `name` column to index the data.  There are names that occur in two rows, because they are both male and female names."
   ]
  },
  {
   "cell_type": "markdown",
   "metadata": {
    "id": "ia8mVtPkACZE"
   },
   "source": [
    "You can also pick out a sub data frame with just the female names. We do that and query the \"sex\" column to show we've got a `female_rows` `DataFrame` with about half the data of the original `DataFrame`."
   ]
  },
  {
   "cell_type": "code",
   "execution_count": 489,
   "metadata": {
    "colab": {
     "base_uri": "https://localhost:8080/",
     "height": 241
    },
    "id": "VFJZlWg6ACZE",
    "outputId": "8e0dc6aa-b03f-4558-97b2-da23e054a7bc"
   },
   "outputs": [
    {
     "name": "stdout",
     "output_type": "stream",
     "text": [
      "<class 'pandas.core.series.Series'>\n",
      "<class 'pandas.core.frame.DataFrame'>\n"
     ]
    },
    {
     "data": {
      "text/html": [
       "<div>\n",
       "<style scoped>\n",
       "    .dataframe tbody tr th:only-of-type {\n",
       "        vertical-align: middle;\n",
       "    }\n",
       "\n",
       "    .dataframe tbody tr th {\n",
       "        vertical-align: top;\n",
       "    }\n",
       "\n",
       "    .dataframe thead th {\n",
       "        text-align: right;\n",
       "    }\n",
       "</style>\n",
       "<table border=\"1\" class=\"dataframe\">\n",
       "  <thead>\n",
       "    <tr style=\"text-align: right;\">\n",
       "      <th></th>\n",
       "      <th>name</th>\n",
       "      <th>sex</th>\n",
       "      <th>births</th>\n",
       "      <th>year</th>\n",
       "    </tr>\n",
       "  </thead>\n",
       "  <tbody>\n",
       "    <tr>\n",
       "      <th>2933</th>\n",
       "      <td>Tinie</td>\n",
       "      <td>F</td>\n",
       "      <td>5</td>\n",
       "      <td>1881</td>\n",
       "    </tr>\n",
       "    <tr>\n",
       "      <th>2934</th>\n",
       "      <td>Tiny</td>\n",
       "      <td>F</td>\n",
       "      <td>5</td>\n",
       "      <td>1881</td>\n",
       "    </tr>\n",
       "    <tr>\n",
       "      <th>2935</th>\n",
       "      <td>Vernon</td>\n",
       "      <td>F</td>\n",
       "      <td>5</td>\n",
       "      <td>1881</td>\n",
       "    </tr>\n",
       "    <tr>\n",
       "      <th>2936</th>\n",
       "      <td>Verona</td>\n",
       "      <td>F</td>\n",
       "      <td>5</td>\n",
       "      <td>1881</td>\n",
       "    </tr>\n",
       "    <tr>\n",
       "      <th>2937</th>\n",
       "      <td>Viney</td>\n",
       "      <td>F</td>\n",
       "      <td>5</td>\n",
       "      <td>1881</td>\n",
       "    </tr>\n",
       "  </tbody>\n",
       "</table>\n",
       "</div>"
      ],
      "text/plain": [
       "        name sex  births  year\n",
       "2933   Tinie   F       5  1881\n",
       "2934    Tiny   F       5  1881\n",
       "2935  Vernon   F       5  1881\n",
       "2936  Verona   F       5  1881\n",
       "2937   Viney   F       5  1881"
      ]
     },
     "execution_count": 489,
     "metadata": {},
     "output_type": "execute_result"
    }
   ],
   "source": [
    "print(type(names1881['sex']=='F'))\n",
    "female_rows1881 = names1881[names1881['sex']=='F']\n",
    "print(type(female_rows1881))\n",
    "female_rows1881.tail()"
   ]
  },
  {
   "cell_type": "markdown",
   "metadata": {},
   "source": [
    "Since there are no male rows in `female_rows1881`, this is an empty DataFrame:"
   ]
  },
  {
   "cell_type": "code",
   "execution_count": 377,
   "metadata": {
    "colab": {
     "base_uri": "https://localhost:8080/",
     "height": 206
    },
    "id": "elDsM1VYACZG",
    "outputId": "7ad3908e-3c8f-4336-87bc-fc7fd3914d35"
   },
   "outputs": [
    {
     "data": {
      "text/html": [
       "<div>\n",
       "<style scoped>\n",
       "    .dataframe tbody tr th:only-of-type {\n",
       "        vertical-align: middle;\n",
       "    }\n",
       "\n",
       "    .dataframe tbody tr th {\n",
       "        vertical-align: top;\n",
       "    }\n",
       "\n",
       "    .dataframe thead th {\n",
       "        text-align: right;\n",
       "    }\n",
       "</style>\n",
       "<table border=\"1\" class=\"dataframe\">\n",
       "  <thead>\n",
       "    <tr style=\"text-align: right;\">\n",
       "      <th></th>\n",
       "      <th>name</th>\n",
       "      <th>sex</th>\n",
       "      <th>births</th>\n",
       "    </tr>\n",
       "  </thead>\n",
       "  <tbody>\n",
       "  </tbody>\n",
       "</table>\n",
       "</div>"
      ],
      "text/plain": [
       "Empty DataFrame\n",
       "Columns: [name, sex, births]\n",
       "Index: []"
      ]
     },
     "execution_count": 377,
     "metadata": {},
     "output_type": "execute_result"
    }
   ],
   "source": [
    "female_rows1881[female_rows1881['sex'] == 'M']"
   ]
  },
  {
   "cell_type": "code",
   "execution_count": 201,
   "metadata": {
    "colab": {
     "base_uri": "https://localhost:8080/"
    },
    "id": "YK6e-17fACZJ",
    "outputId": "2630f962-5025-4625-a503-38c4aa08f029"
   },
   "outputs": [
    {
     "data": {
      "text/plain": [
       "938"
      ]
     },
     "execution_count": 201,
     "metadata": {},
     "output_type": "execute_result"
    }
   ],
   "source": [
    "len(female_rows1881)"
   ]
  },
  {
   "cell_type": "code",
   "execution_count": 202,
   "metadata": {
    "colab": {
     "base_uri": "https://localhost:8080/"
    },
    "id": "76S0Z-yNACZK",
    "outputId": "c83a9cc2-59c5-4c92-82dd-114b7f531cf2"
   },
   "outputs": [
    {
     "data": {
      "text/plain": [
       "1935"
      ]
     },
     "execution_count": 202,
     "metadata": {},
     "output_type": "execute_result"
    }
   ],
   "source": [
    "len(names1881)"
   ]
  },
  {
   "cell_type": "markdown",
   "metadata": {},
   "source": [
    "If learning the number of female names and the number of all names was our goal, we could have gotten much the same information by using the Series method\n",
    "`.value_counts()`.  If called by Series S, this method creates a new Series whose index is the distinct values of S: for each row the value is the counts of how many times that value occurred:"
   ]
  },
  {
   "cell_type": "code",
   "execution_count": 486,
   "metadata": {},
   "outputs": [
    {
     "data": {
      "text/plain": [
       "M    997\n",
       "F    938\n",
       "Name: sex, dtype: int64"
      ]
     },
     "execution_count": 486,
     "metadata": {},
     "output_type": "execute_result"
    }
   ],
   "source": [
    "names1881['sex'].value_counts()"
   ]
  },
  {
   "cell_type": "markdown",
   "metadata": {},
   "source": [
    "The sum of the value counts equals the number of rows in `names1881`:"
   ]
  },
  {
   "cell_type": "code",
   "execution_count": 487,
   "metadata": {},
   "outputs": [
    {
     "data": {
      "text/plain": [
       "1935"
      ]
     },
     "execution_count": 487,
     "metadata": {},
     "output_type": "execute_result"
    }
   ],
   "source": [
    "names1881['sex'].value_counts().sum()"
   ]
  },
  {
   "cell_type": "code",
   "execution_count": 490,
   "metadata": {},
   "outputs": [
    {
     "data": {
      "text/plain": [
       "0.4847545219638243"
      ]
     },
     "execution_count": 490,
     "metadata": {},
     "output_type": "execute_result"
    }
   ],
   "source": [
    "len(female_rows1881)/len(names1881)"
   ]
  },
  {
   "cell_type": "markdown",
   "metadata": {},
   "source": [
    "It turns out Series have a plot method; applying that method to the value_counts  Series, we get:"
   ]
  },
  {
   "cell_type": "code",
   "execution_count": 491,
   "metadata": {},
   "outputs": [
    {
     "data": {
      "text/plain": [
       "<AxesSubplot:title={'center':'1881: Number of Names by Gender'}>"
      ]
     },
     "execution_count": 491,
     "metadata": {},
     "output_type": "execute_result"
    },
    {
     "data": {
      "image/png": "[encoded data removed]",
      "text/plain": [
       "<Figure size 432x288 with 1 Axes>"
      ]
     },
     "metadata": {
      "needs_background": "light"
     },
     "output_type": "display_data"
    }
   ],
   "source": [
    "names1881['sex'].value_counts().plot(kind='bar',width=.3,\n",
    "                                     title='1881: Number of Names by Gender')"
   ]
  },
  {
   "cell_type": "markdown",
   "metadata": {},
   "source": [
    "Transferring this code to the entire data set (1881-2010), we see an interesting change."
   ]
  },
  {
   "cell_type": "code",
   "execution_count": 492,
   "metadata": {},
   "outputs": [
    {
     "name": "stdout",
     "output_type": "stream",
     "text": [
      "<class 'pandas.core.series.Series'>\n"
     ]
    },
    {
     "data": {
      "text/plain": [
       "0.5937984982114806"
      ]
     },
     "execution_count": 492,
     "metadata": {},
     "output_type": "execute_result"
    }
   ],
   "source": [
    "print(type(names['sex']=='F'))\n",
    "female_rows = names[names['sex']=='F']\n",
    "len(female_rows)/len(names)"
   ]
  },
  {
   "cell_type": "code",
   "execution_count": 493,
   "metadata": {},
   "outputs": [
    {
     "data": {
      "text/plain": [
       "<AxesSubplot:title={'center':'1881--2007: Number of Names by Gender'}>"
      ]
     },
     "execution_count": 493,
     "metadata": {},
     "output_type": "execute_result"
    },
    {
     "data": {
      "image/png": "[encoded data removed]",
      "text/plain": [
       "<Figure size 432x288 with 1 Axes>"
      ]
     },
     "metadata": {
      "needs_background": "light"
     },
     "output_type": "display_data"
    }
   ],
   "source": [
    "names['sex'].value_counts().plot(kind='bar',width=.3, \n",
    "                                 title='1881--2007: Number of Names by Gender')"
   ]
  },
  {
   "cell_type": "markdown",
   "metadata": {},
   "source": [
    "We see the female rows occupy nearly 60% of the data, meaning that some time\n",
    "after 1881 the diversity of female names overtook and greatly surpassed\n",
    "that of male names."
   ]
  },
  {
   "cell_type": "markdown",
   "metadata": {},
   "source": [
    "#### Optional Exercise. \n",
    "\n",
    "Plot proportion of all names that were female names year by year to trace the \n",
    "year by year change.   Hint: create a sequence containing the numbers you need (proportion of female names in each year).  Then create a pandas DataFrame\n",
    "`female_names_by_year` with two columns ('Year' and 'Proportion Female Names').  Then\n",
    "do\n",
    "\n",
    "```\n",
    "female_names_by_year.plot('Year','Proportion Female Names')\n",
    "```\n",
    "Note that for this exercise a line \n",
    "connecting the proportion values for each year, which is the default plot type (kind = \"line\"), is a better choice than a bar plot (kind = \"bar\"). \n",
    "\n",
    "Optionally: Draw a horizontal line at 50% to help the viewer\n",
    "see where the number of female names is greater than that of male names.\n",
    "The births by year plotting example  with `matplotlib` below may help, since this involves\n",
    "some knowledge of `matplotlib`."
   ]
  },
  {
   "cell_type": "markdown",
   "metadata": {},
   "source": [
    "An answer is provided several cells below.  \n",
    "\n",
    "It is not the only possible answer."
   ]
  },
  {
   "cell_type": "code",
   "execution_count": null,
   "metadata": {},
   "outputs": [],
   "source": []
  },
  {
   "cell_type": "code",
   "execution_count": null,
   "metadata": {},
   "outputs": [],
   "source": []
  },
  {
   "cell_type": "code",
   "execution_count": null,
   "metadata": {},
   "outputs": [],
   "source": []
  },
  {
   "cell_type": "code",
   "execution_count": null,
   "metadata": {},
   "outputs": [],
   "source": []
  },
  {
   "cell_type": "code",
   "execution_count": null,
   "metadata": {},
   "outputs": [],
   "source": []
  },
  {
   "cell_type": "code",
   "execution_count": null,
   "metadata": {},
   "outputs": [],
   "source": []
  },
  {
   "cell_type": "code",
   "execution_count": null,
   "metadata": {},
   "outputs": [],
   "source": []
  },
  {
   "cell_type": "code",
   "execution_count": null,
   "metadata": {},
   "outputs": [],
   "source": []
  },
  {
   "cell_type": "code",
   "execution_count": null,
   "metadata": {},
   "outputs": [],
   "source": []
  },
  {
   "cell_type": "markdown",
   "metadata": {},
   "source": [
    "The answer is surprising.  Female name diversity is not as simple as a continuously rising \n",
    "trend."
   ]
  },
  {
   "cell_type": "markdown",
   "metadata": {},
   "source": [
    "#### Solution 1"
   ]
  },
  {
   "cell_type": "markdown",
   "metadata": {},
   "source": [
    "The following code is correct, and quite reasonable given what we've learned so far in this notebook but unnecessarily complicated.  We show a simpler solution\n",
    "below which uses a previously undiscussed feature of `pandas`."
   ]
  },
  {
   "cell_type": "code",
   "execution_count": 410,
   "metadata": {},
   "outputs": [],
   "source": [
    "female_names = names[names['sex']=='F']\n",
    "year_range = range(1881,2008)\n",
    "result = []\n",
    "for year in year_range:\n",
    "    female_names_this_year = female_names[female_names['year'] == year]\n",
    "    names_this_year =  names[names['year'] == year]\n",
    "    result.append(len(female_names_this_year)/len(names_this_year))"
   ]
  },
  {
   "cell_type": "markdown",
   "metadata": {},
   "source": [
    "Making a DataFrame so we can use its plotting methods"
   ]
  },
  {
   "cell_type": "code",
   "execution_count": 411,
   "metadata": {
    "scrolled": true
   },
   "outputs": [
    {
     "data": {
      "text/plain": [
       "<AxesSubplot:xlabel='Year'>"
      ]
     },
     "execution_count": 411,
     "metadata": {},
     "output_type": "execute_result"
    },
    {
     "data": {
      "image/png": "[encoded data removed]",
      "text/plain": [
       "<Figure size 432x288 with 1 Axes>"
      ]
     },
     "metadata": {
      "needs_background": "light"
     },
     "output_type": "display_data"
    }
   ],
   "source": [
    "female_names_by_year = DataFrame(data = list(zip(year_range, result)),\n",
    "                                 columns = ['Year','Proportion Female Names'])\n",
    "female_names_by_year.plot('Year','Proportion Female Names')"
   ]
  },
  {
   "cell_type": "code",
   "execution_count": 419,
   "metadata": {},
   "outputs": [
    {
     "data": {
      "text/plain": [
       "<AxesSubplot:title={'center':'Percent Female Names by Year'}, xlabel='Year', ylabel='Percent Female Names'>"
      ]
     },
     "execution_count": 419,
     "metadata": {},
     "output_type": "execute_result"
    },
    {
     "data": {
      "image/png": "[encoded data removed]",
      "text/plain": [
       "<Figure size 576x576 with 1 Axes>"
      ]
     },
     "metadata": {
      "needs_background": "light"
     },
     "output_type": "display_data"
    }
   ],
   "source": [
    "# Same plot with a few more bells and whistles\n",
    "female_names_by_year.plot('Year','Proportion Female Names', ylabel='Percent Female Names',\n",
    "                           xlabel='Year',title='Percent Female Names by Year',\n",
    "                           label='% F',figsize=(8,8))"
   ]
  },
  {
   "cell_type": "markdown",
   "metadata": {},
   "source": [
    "Adding The 50% line (bringing in a little knowledge of matplotlib):"
   ]
  },
  {
   "cell_type": "code",
   "execution_count": 423,
   "metadata": {},
   "outputs": [
    {
     "data": {
      "text/plain": [
       "<AxesSubplot:title={'center':'Percent Female Names by Year'}, xlabel='Year', ylabel='Percent Female Names'>"
      ]
     },
     "execution_count": 423,
     "metadata": {},
     "output_type": "execute_result"
    },
    {
     "data": {
      "image/png": "[encoded data removed]",
      "text/plain": [
       "<Figure size 576x576 with 1 Axes>"
      ]
     },
     "metadata": {
      "needs_background": "light"
     },
     "output_type": "display_data"
    }
   ],
   "source": [
    "# Creating axis for plot and secondary line, so a line can be added\n",
    "fig = plt.figure(1,figsize=(8,8))\n",
    "ax1 = fig.add_subplot(111)\n",
    "# Adding 50% line\n",
    "ax1.plot(f_row.index,[.5 for _ in f_row.index],color='r',label='50%')\n",
    "# Including axis labels, title, using ax1\n",
    "female_names_by_year.plot('Year','Proportion Female Names', ylabel='Percent Female Names',\n",
    "                           xlabel='Year',title='Percent Female Names by Year',\n",
    "                           label='% F',ax=ax1)"
   ]
  },
  {
   "cell_type": "markdown",
   "metadata": {},
   "source": [
    "#### Solution 2"
   ]
  },
  {
   "cell_type": "markdown",
   "metadata": {},
   "source": [
    "A much simpler solution, using the `pandas` `crosstab` function:"
   ]
  },
  {
   "cell_type": "code",
   "execution_count": 526,
   "metadata": {},
   "outputs": [
    {
     "data": {
      "text/html": [
       "<div>\n",
       "<style scoped>\n",
       "    .dataframe tbody tr th:only-of-type {\n",
       "        vertical-align: middle;\n",
       "    }\n",
       "\n",
       "    .dataframe tbody tr th {\n",
       "        vertical-align: top;\n",
       "    }\n",
       "\n",
       "    .dataframe thead th {\n",
       "        text-align: right;\n",
       "    }\n",
       "</style>\n",
       "<table border=\"1\" class=\"dataframe\">\n",
       "  <thead>\n",
       "    <tr style=\"text-align: right;\">\n",
       "      <th>year</th>\n",
       "      <th>1880</th>\n",
       "      <th>1881</th>\n",
       "      <th>1882</th>\n",
       "      <th>1883</th>\n",
       "      <th>1884</th>\n",
       "      <th>1885</th>\n",
       "      <th>1886</th>\n",
       "      <th>1887</th>\n",
       "      <th>1888</th>\n",
       "      <th>1889</th>\n",
       "      <th>1890</th>\n",
       "      <th>1891</th>\n",
       "      <th>1892</th>\n",
       "      <th>1893</th>\n",
       "      <th>1894</th>\n",
       "      <th>1895</th>\n",
       "      <th>1896</th>\n",
       "      <th>1897</th>\n",
       "      <th>1898</th>\n",
       "      <th>1899</th>\n",
       "      <th>1900</th>\n",
       "      <th>1901</th>\n",
       "      <th>1902</th>\n",
       "      <th>1903</th>\n",
       "      <th>1904</th>\n",
       "      <th>1905</th>\n",
       "      <th>1906</th>\n",
       "      <th>1907</th>\n",
       "      <th>1908</th>\n",
       "      <th>1909</th>\n",
       "      <th>...</th>\n",
       "      <th>1981</th>\n",
       "      <th>1982</th>\n",
       "      <th>1983</th>\n",
       "      <th>1984</th>\n",
       "      <th>1985</th>\n",
       "      <th>1986</th>\n",
       "      <th>1987</th>\n",
       "      <th>1988</th>\n",
       "      <th>1989</th>\n",
       "      <th>1990</th>\n",
       "      <th>1991</th>\n",
       "      <th>1992</th>\n",
       "      <th>1993</th>\n",
       "      <th>1994</th>\n",
       "      <th>1995</th>\n",
       "      <th>1996</th>\n",
       "      <th>1997</th>\n",
       "      <th>1998</th>\n",
       "      <th>1999</th>\n",
       "      <th>2000</th>\n",
       "      <th>2001</th>\n",
       "      <th>2002</th>\n",
       "      <th>2003</th>\n",
       "      <th>2004</th>\n",
       "      <th>2005</th>\n",
       "      <th>2006</th>\n",
       "      <th>2007</th>\n",
       "      <th>2008</th>\n",
       "      <th>2009</th>\n",
       "      <th>2010</th>\n",
       "    </tr>\n",
       "    <tr>\n",
       "      <th>sex</th>\n",
       "      <th></th>\n",
       "      <th></th>\n",
       "      <th></th>\n",
       "      <th></th>\n",
       "      <th></th>\n",
       "      <th></th>\n",
       "      <th></th>\n",
       "      <th></th>\n",
       "      <th></th>\n",
       "      <th></th>\n",
       "      <th></th>\n",
       "      <th></th>\n",
       "      <th></th>\n",
       "      <th></th>\n",
       "      <th></th>\n",
       "      <th></th>\n",
       "      <th></th>\n",
       "      <th></th>\n",
       "      <th></th>\n",
       "      <th></th>\n",
       "      <th></th>\n",
       "      <th></th>\n",
       "      <th></th>\n",
       "      <th></th>\n",
       "      <th></th>\n",
       "      <th></th>\n",
       "      <th></th>\n",
       "      <th></th>\n",
       "      <th></th>\n",
       "      <th></th>\n",
       "      <th></th>\n",
       "      <th></th>\n",
       "      <th></th>\n",
       "      <th></th>\n",
       "      <th></th>\n",
       "      <th></th>\n",
       "      <th></th>\n",
       "      <th></th>\n",
       "      <th></th>\n",
       "      <th></th>\n",
       "      <th></th>\n",
       "      <th></th>\n",
       "      <th></th>\n",
       "      <th></th>\n",
       "      <th></th>\n",
       "      <th></th>\n",
       "      <th></th>\n",
       "      <th></th>\n",
       "      <th></th>\n",
       "      <th></th>\n",
       "      <th></th>\n",
       "      <th></th>\n",
       "      <th></th>\n",
       "      <th></th>\n",
       "      <th></th>\n",
       "      <th></th>\n",
       "      <th></th>\n",
       "      <th></th>\n",
       "      <th></th>\n",
       "      <th></th>\n",
       "      <th></th>\n",
       "    </tr>\n",
       "  </thead>\n",
       "  <tbody>\n",
       "    <tr>\n",
       "      <th>F</th>\n",
       "      <td>0.471</td>\n",
       "      <td>0.484755</td>\n",
       "      <td>0.48331</td>\n",
       "      <td>0.505758</td>\n",
       "      <td>0.510231</td>\n",
       "      <td>0.521796</td>\n",
       "      <td>0.535953</td>\n",
       "      <td>0.550358</td>\n",
       "      <td>0.556017</td>\n",
       "      <td>0.571042</td>\n",
       "      <td>0.569202</td>\n",
       "      <td>0.576316</td>\n",
       "      <td>0.568641</td>\n",
       "      <td>0.583539</td>\n",
       "      <td>0.578715</td>\n",
       "      <td>0.592981</td>\n",
       "      <td>0.590424</td>\n",
       "      <td>0.594122</td>\n",
       "      <td>0.6049</td>\n",
       "      <td>0.605523</td>\n",
       "      <td>0.596303</td>\n",
       "      <td>0.616239</td>\n",
       "      <td>0.607377</td>\n",
       "      <td>0.614636</td>\n",
       "      <td>0.608256</td>\n",
       "      <td>0.611324</td>\n",
       "      <td>0.611065</td>\n",
       "      <td>0.607649</td>\n",
       "      <td>0.605774</td>\n",
       "      <td>0.602934</td>\n",
       "      <td>...</td>\n",
       "      <td>0.626054</td>\n",
       "      <td>0.626195</td>\n",
       "      <td>0.621976</td>\n",
       "      <td>0.624211</td>\n",
       "      <td>0.622609</td>\n",
       "      <td>0.621049</td>\n",
       "      <td>0.619569</td>\n",
       "      <td>0.620546</td>\n",
       "      <td>0.6117</td>\n",
       "      <td>0.616253</td>\n",
       "      <td>0.615927</td>\n",
       "      <td>0.614074</td>\n",
       "      <td>0.608649</td>\n",
       "      <td>0.60588</td>\n",
       "      <td>0.604135</td>\n",
       "      <td>0.601416</td>\n",
       "      <td>0.599162</td>\n",
       "      <td>0.594922</td>\n",
       "      <td>0.593378</td>\n",
       "      <td>0.593084</td>\n",
       "      <td>0.593765</td>\n",
       "      <td>0.591646</td>\n",
       "      <td>0.59104</td>\n",
       "      <td>0.587513</td>\n",
       "      <td>0.589516</td>\n",
       "      <td>0.588384</td>\n",
       "      <td>0.588252</td>\n",
       "      <td>0.583214</td>\n",
       "      <td>0.581556</td>\n",
       "      <td>0.582127</td>\n",
       "    </tr>\n",
       "    <tr>\n",
       "      <th>M</th>\n",
       "      <td>0.529</td>\n",
       "      <td>0.515245</td>\n",
       "      <td>0.51669</td>\n",
       "      <td>0.494242</td>\n",
       "      <td>0.489769</td>\n",
       "      <td>0.478204</td>\n",
       "      <td>0.464047</td>\n",
       "      <td>0.449642</td>\n",
       "      <td>0.443983</td>\n",
       "      <td>0.428958</td>\n",
       "      <td>0.430798</td>\n",
       "      <td>0.423684</td>\n",
       "      <td>0.431359</td>\n",
       "      <td>0.416461</td>\n",
       "      <td>0.421285</td>\n",
       "      <td>0.407019</td>\n",
       "      <td>0.409576</td>\n",
       "      <td>0.405878</td>\n",
       "      <td>0.3951</td>\n",
       "      <td>0.394477</td>\n",
       "      <td>0.403697</td>\n",
       "      <td>0.383761</td>\n",
       "      <td>0.392623</td>\n",
       "      <td>0.385364</td>\n",
       "      <td>0.391744</td>\n",
       "      <td>0.388676</td>\n",
       "      <td>0.388935</td>\n",
       "      <td>0.392351</td>\n",
       "      <td>0.394226</td>\n",
       "      <td>0.397066</td>\n",
       "      <td>...</td>\n",
       "      <td>0.373946</td>\n",
       "      <td>0.373805</td>\n",
       "      <td>0.378024</td>\n",
       "      <td>0.375789</td>\n",
       "      <td>0.377391</td>\n",
       "      <td>0.378951</td>\n",
       "      <td>0.380431</td>\n",
       "      <td>0.379454</td>\n",
       "      <td>0.3883</td>\n",
       "      <td>0.383747</td>\n",
       "      <td>0.384073</td>\n",
       "      <td>0.385926</td>\n",
       "      <td>0.391351</td>\n",
       "      <td>0.39412</td>\n",
       "      <td>0.395865</td>\n",
       "      <td>0.398584</td>\n",
       "      <td>0.400838</td>\n",
       "      <td>0.405078</td>\n",
       "      <td>0.406622</td>\n",
       "      <td>0.406916</td>\n",
       "      <td>0.406235</td>\n",
       "      <td>0.408354</td>\n",
       "      <td>0.40896</td>\n",
       "      <td>0.412487</td>\n",
       "      <td>0.410484</td>\n",
       "      <td>0.411616</td>\n",
       "      <td>0.411748</td>\n",
       "      <td>0.416786</td>\n",
       "      <td>0.418444</td>\n",
       "      <td>0.417873</td>\n",
       "    </tr>\n",
       "  </tbody>\n",
       "</table>\n",
       "<p>2 rows × 131 columns</p>\n",
       "</div>"
      ],
      "text/plain": [
       "year   1880      1881     1882      1883      1884      1885      1886      1887      1888      1889      1890      1891      1892      1893      1894      1895      1896      1897    1898      1899      1900      1901      1902      1903      1904      1905      1906      1907      1908      1909  ...      1981      1982      1983      1984      1985      1986      1987      1988    1989      1990      1991      1992      1993     1994      1995      1996      1997      1998      1999      2000      2001      2002     2003      2004      2005      2006      2007      2008      2009      2010\n",
       "sex                                                                                                                                                                                                                                                                                                         ...                                                                                                                                                                                                                                                                                                        \n",
       "F     0.471  0.484755  0.48331  0.505758  0.510231  0.521796  0.535953  0.550358  0.556017  0.571042  0.569202  0.576316  0.568641  0.583539  0.578715  0.592981  0.590424  0.594122  0.6049  0.605523  0.596303  0.616239  0.607377  0.614636  0.608256  0.611324  0.611065  0.607649  0.605774  0.602934  ...  0.626054  0.626195  0.621976  0.624211  0.622609  0.621049  0.619569  0.620546  0.6117  0.616253  0.615927  0.614074  0.608649  0.60588  0.604135  0.601416  0.599162  0.594922  0.593378  0.593084  0.593765  0.591646  0.59104  0.587513  0.589516  0.588384  0.588252  0.583214  0.581556  0.582127\n",
       "M     0.529  0.515245  0.51669  0.494242  0.489769  0.478204  0.464047  0.449642  0.443983  0.428958  0.430798  0.423684  0.431359  0.416461  0.421285  0.407019  0.409576  0.405878  0.3951  0.394477  0.403697  0.383761  0.392623  0.385364  0.391744  0.388676  0.388935  0.392351  0.394226  0.397066  ...  0.373946  0.373805  0.378024  0.375789  0.377391  0.378951  0.380431  0.379454  0.3883  0.383747  0.384073  0.385926  0.391351  0.39412  0.395865  0.398584  0.400838  0.405078  0.406622  0.406916  0.406235  0.408354  0.40896  0.412487  0.410484  0.411616  0.411748  0.416786  0.418444  0.417873\n",
       "\n",
       "[2 rows x 131 columns]"
      ]
     },
     "execution_count": 526,
     "metadata": {},
     "output_type": "execute_result"
    }
   ],
   "source": [
    "# This version gives percentages\n",
    "gender_counts_by_year = pd.crosstab(names['sex'],names['year'],normalize='columns')\n",
    "gender_counts_by_year\n",
    "\n",
    "# This version would give us counts rather than percentages\n",
    "# margins = True includes \"margins\": an 'All' row  with totals for each col\n",
    "# and an 'All' col with totals for each row.\n",
    "# gender_counts_by_year = pd.crosstab(names['sex'],names['year'],margins=True)"
   ]
  },
  {
   "cell_type": "markdown",
   "metadata": {},
   "source": [
    "Note that `gender_counts_by_year` is a `DataFrame`; the index is the two genders.\n",
    "\n",
    "It includes percentages (by column) because we passed `crosstab` the parameter\n",
    "`normalize=\"columns\"`.\n",
    "\n",
    "This means `gender_counts_by_year.loc['F']` is a DataFrame row, \n",
    "that is a Series whose index is the column sequence."
   ]
  },
  {
   "cell_type": "code",
   "execution_count": 527,
   "metadata": {},
   "outputs": [
    {
     "data": {
      "text/plain": [
       "year\n",
       "1880    0.471000\n",
       "1881    0.484755\n",
       "1882    0.483310\n",
       "1883    0.505758\n",
       "1884    0.510231\n",
       "          ...   \n",
       "2006    0.588384\n",
       "2007    0.588252\n",
       "2008    0.583214\n",
       "2009    0.581556\n",
       "2010    0.582127\n",
       "Name: F, Length: 131, dtype: float64"
      ]
     },
     "execution_count": 527,
     "metadata": {},
     "output_type": "execute_result"
    }
   ],
   "source": [
    "f_row = gender_counts_by_year.loc['F']\n",
    "f_row"
   ]
  },
  {
   "cell_type": "markdown",
   "metadata": {},
   "source": [
    "Since a Series has a plot method,  we have the following simple option,\n",
    "which leaves out some plotting details."
   ]
  },
  {
   "cell_type": "code",
   "execution_count": 424,
   "metadata": {},
   "outputs": [
    {
     "data": {
      "text/plain": [
       "<AxesSubplot:xlabel='year'>"
      ]
     },
     "execution_count": 424,
     "metadata": {},
     "output_type": "execute_result"
    },
    {
     "data": {
      "image/png": "[encoded data removed]",
      "text/plain": [
       "<Figure size 432x288 with 1 Axes>"
      ]
     },
     "metadata": {
      "needs_background": "light"
     },
     "output_type": "display_data"
    }
   ],
   "source": [
    "f_row.plot()"
   ]
  },
  {
   "cell_type": "markdown",
   "metadata": {},
   "source": [
    "More satisfactory plotting code for soln 2 (with 50% line)"
   ]
  },
  {
   "cell_type": "code",
   "execution_count": 530,
   "metadata": {
    "scrolled": true
   },
   "outputs": [
    {
     "data": {
      "image/png": "[encoded data removed]",
      "text/plain": [
       "<Figure size 576x576 with 1 Axes>"
      ]
     },
     "metadata": {
      "needs_background": "light"
     },
     "output_type": "display_data"
    }
   ],
   "source": [
    "# Creating axis for plot and secondary line, so a line can be added\n",
    "fig = plt.figure(1,figsize=(8,8))\n",
    "ax1 = fig.add_subplot(111)\n",
    "years = f_row.index\n",
    "(num_years,) = f_row.shape\n",
    "# Adding 50% line\n",
    "point_five_line = .5 * np.ones(num_years)\n",
    "ax1.plot(years,point_five_line,color='r',label='50%')\n",
    "# Including axis labels, title, using ax1, adding legend\n",
    "_splots = f_row.plot(ylabel='Percent Female Names',xlabel='Year',\n",
    "                      title='Percent Female Names by Year',ax=ax1,label='% F',legend=True)"
   ]
  },
  {
   "cell_type": "markdown",
   "metadata": {},
   "source": [
    "The lesson of solution 2: If what you're doing is a pretty standard piece of\n",
    "data analysis, chances are good that `pandas` includes a simple way\n",
    "of doing it.\n",
    "\n",
    "Read some documentation to find potential tools.  Consult stackoverflow for code\n",
    "snippets and pointers on where to look in the doumentation."
   ]
  },
  {
   "cell_type": "markdown",
   "metadata": {
    "id": "-TW6cfb9ACZM"
   },
   "source": [
    "## Split/Apply/Combine: Pivot table  and crosstab"
   ]
  },
  {
   "cell_type": "markdown",
   "metadata": {},
   "source": [
    "For this section make sure `names1881` is defined by evaluating the next cell"
   ]
  },
  {
   "cell_type": "code",
   "execution_count": null,
   "metadata": {},
   "outputs": [],
   "source": [
    "names1881 = names[names['year']  == 1881]"
   ]
  },
  {
   "cell_type": "code",
   "execution_count": 494,
   "metadata": {
    "colab": {
     "base_uri": "https://localhost:8080/"
    },
    "id": "kkAMgGjBACZM",
    "outputId": "020066f0-dfe6-42fa-80dc-e3a095aba604"
   },
   "outputs": [
    {
     "data": {
      "text/plain": [
       "98.03304904051173"
      ]
     },
     "execution_count": 494,
     "metadata": {},
     "output_type": "execute_result"
    }
   ],
   "source": [
    "namesfemale1881 = names1881[names1881['sex'] == 'F']\n",
    "namesfemale1881['births'].mean()"
   ]
  },
  {
   "cell_type": "markdown",
   "metadata": {},
   "source": [
    "We try to characterize this code in a general way, aiming to extract a reusable\n",
    "strategy:\n",
    "\n",
    "2. **Split step**: Line 1  **splits off** a group of rows, `namesfemale1881` using one of the possible values in `sex` column.  We'll call that column the **indexing** column.\n",
    "3. **Apply step**: Line 2 **applies**  an **aggregation function**  ( `.mean()` ) to the `'births'` column of those rows; call `births` the **values** column.\n"
   ]
  },
  {
   "cell_type": "markdown",
   "metadata": {
    "id": "qcRwk5KDKxtm"
   },
   "source": [
    "In this example we performed the **split** step on one of\n",
    "the possible values in the indexing column, then performed **apply step**\n",
    "on one group of rows.\n",
    "Frequently we want to perform these two steps for all possible values in the\n",
    "indexing column.  \n",
    "\n",
    "It would also be nice to **combine** the results in a new\n",
    "Data Structure, indexed by the values that defined our groups  In our example,\n",
    "the indexing column is `'sex'` with possible values `'F'` and `'M`', so\n",
    "we'd like a new DataFrame with a single column containing the `'births'` means for those groups.\n",
    "\n",
    "Summarizing: we need to split (using an index column), apply (applying\n",
    "an aggregation function to a values column), and combine (into a DataFrame)\n",
    "The way to perform all three steps at once is to use the **pivot table** method."
   ]
  },
  {
   "cell_type": "code",
   "execution_count": 619,
   "metadata": {
    "id": "-GTRK9vSKnSI"
   },
   "outputs": [],
   "source": [
    "pt = names1881.pivot_table(values= 'births',index='sex',aggfunc='mean')"
   ]
  },
  {
   "cell_type": "code",
   "execution_count": 618,
   "metadata": {
    "colab": {
     "base_uri": "https://localhost:8080/",
     "height": 144
    },
    "id": "96OnO_coK17W",
    "outputId": "a40b3483-e996-4805-8733-5bd267120e6c",
    "scrolled": true
   },
   "outputs": [
    {
     "data": {
      "text/html": [
       "<div>\n",
       "<style scoped>\n",
       "    .dataframe tbody tr th:only-of-type {\n",
       "        vertical-align: middle;\n",
       "    }\n",
       "\n",
       "    .dataframe tbody tr th {\n",
       "        vertical-align: top;\n",
       "    }\n",
       "\n",
       "    .dataframe thead th {\n",
       "        text-align: right;\n",
       "    }\n",
       "</style>\n",
       "<table border=\"1\" class=\"dataframe\">\n",
       "  <thead>\n",
       "    <tr style=\"text-align: right;\">\n",
       "      <th></th>\n",
       "      <th>births</th>\n",
       "    </tr>\n",
       "    <tr>\n",
       "      <th>sex</th>\n",
       "      <th></th>\n",
       "    </tr>\n",
       "  </thead>\n",
       "  <tbody>\n",
       "    <tr>\n",
       "      <th>F</th>\n",
       "      <td>98.033049</td>\n",
       "    </tr>\n",
       "    <tr>\n",
       "      <th>M</th>\n",
       "      <td>101.051153</td>\n",
       "    </tr>\n",
       "  </tbody>\n",
       "</table>\n",
       "</div>"
      ],
      "text/plain": [
       "         births\n",
       "sex            \n",
       "F     98.033049\n",
       "M    101.051153"
      ]
     },
     "execution_count": 618,
     "metadata": {},
     "output_type": "execute_result"
    }
   ],
   "source": [
    "pt"
   ]
  },
  {
   "cell_type": "markdown",
   "metadata": {},
   "source": [
    "In fact, `mean` is the default aggregation function, and the first and second\n",
    "arguments of the `.pivot_table()` method are always the values column and the index\n",
    "column, so we get the same result by writing:"
   ]
  },
  {
   "cell_type": "code",
   "execution_count": 620,
   "metadata": {},
   "outputs": [
    {
     "data": {
      "text/html": [
       "<div>\n",
       "<style scoped>\n",
       "    .dataframe tbody tr th:only-of-type {\n",
       "        vertical-align: middle;\n",
       "    }\n",
       "\n",
       "    .dataframe tbody tr th {\n",
       "        vertical-align: top;\n",
       "    }\n",
       "\n",
       "    .dataframe thead th {\n",
       "        text-align: right;\n",
       "    }\n",
       "</style>\n",
       "<table border=\"1\" class=\"dataframe\">\n",
       "  <thead>\n",
       "    <tr style=\"text-align: right;\">\n",
       "      <th></th>\n",
       "      <th>births</th>\n",
       "    </tr>\n",
       "    <tr>\n",
       "      <th>sex</th>\n",
       "      <th></th>\n",
       "    </tr>\n",
       "  </thead>\n",
       "  <tbody>\n",
       "    <tr>\n",
       "      <th>F</th>\n",
       "      <td>98.033049</td>\n",
       "    </tr>\n",
       "    <tr>\n",
       "      <th>M</th>\n",
       "      <td>101.051153</td>\n",
       "    </tr>\n",
       "  </tbody>\n",
       "</table>\n",
       "</div>"
      ],
      "text/plain": [
       "         births\n",
       "sex            \n",
       "F     98.033049\n",
       "M    101.051153"
      ]
     },
     "execution_count": 620,
     "metadata": {},
     "output_type": "execute_result"
    }
   ],
   "source": [
    "pt = names1881.pivot_table('births','sex')\n",
    "pt"
   ]
  },
  {
   "cell_type": "markdown",
   "metadata": {},
   "source": [
    "It is worth emphasizing the importance of the **combine** step;\n",
    "the `.pivot_table()` method combines its results into\n",
    "a **DataFrame**. That means we can leverage all our knowledge\n",
    "of how DataFrames work in using it.  One of the key takeaways about `pandas`\n",
    "is that almost all the functions and methods that apply to DataFrames and Series\n",
    "return either a DataFrame or a Series.  By understanding\n",
    "the properties of what's returned, we can use it more effectively in\n",
    "the next analytical step (such as plotting).\n",
    "\n",
    "As desired, the values in the `'sex'` column now index the new DataFrame:"
   ]
  },
  {
   "cell_type": "code",
   "execution_count": 497,
   "metadata": {},
   "outputs": [
    {
     "data": {
      "text/plain": [
       "Index(['F', 'M'], dtype='object', name='sex')"
      ]
     },
     "execution_count": 497,
     "metadata": {},
     "output_type": "execute_result"
    }
   ],
   "source": [
    "pt.index"
   ]
  },
  {
   "cell_type": "markdown",
   "metadata": {},
   "source": [
    "Note the original name of the indexing column has been preserved,\n",
    "as the above output shows. It is stored in the `name` attribute \n",
    "of the DataFrame index:"
   ]
  },
  {
   "cell_type": "code",
   "execution_count": 321,
   "metadata": {},
   "outputs": [
    {
     "data": {
      "text/plain": [
       "'sex'"
      ]
     },
     "execution_count": 321,
     "metadata": {},
     "output_type": "execute_result"
    }
   ],
   "source": [
    "pt.index.name"
   ]
  },
  {
   "cell_type": "markdown",
   "metadata": {},
   "source": [
    "As with any DataFrame, `.loc[ ]`  is used to access individual rows using names\n",
    "from the index."
   ]
  },
  {
   "cell_type": "code",
   "execution_count": 498,
   "metadata": {},
   "outputs": [
    {
     "data": {
      "text/plain": [
       "births    98.033049\n",
       "Name: F, dtype: float64"
      ]
     },
     "execution_count": 498,
     "metadata": {},
     "output_type": "execute_result"
    }
   ],
   "source": [
    "# Any expression containing this is a KeyError\n",
    "# pt['sex']\n",
    "# because 'sex' is not the name of a column in `pt`.\n",
    "pt.loc['F']"
   ]
  },
  {
   "cell_type": "markdown",
   "metadata": {},
   "source": [
    "We have just found the **mean** female and male births for 1881.\n",
    "\n",
    "Suppose we want **total births** instead of mean births.  It can still be done \n",
    "with a pivot table, but we need\n",
    "to change our **aggregation function** from `mean` to `sum`."
   ]
  },
  {
   "cell_type": "code",
   "execution_count": 507,
   "metadata": {
    "scrolled": true
   },
   "outputs": [
    {
     "data": {
      "text/html": [
       "<div>\n",
       "<style scoped>\n",
       "    .dataframe tbody tr th:only-of-type {\n",
       "        vertical-align: middle;\n",
       "    }\n",
       "\n",
       "    .dataframe tbody tr th {\n",
       "        vertical-align: top;\n",
       "    }\n",
       "\n",
       "    .dataframe thead th {\n",
       "        text-align: right;\n",
       "    }\n",
       "</style>\n",
       "<table border=\"1\" class=\"dataframe\">\n",
       "  <thead>\n",
       "    <tr style=\"text-align: right;\">\n",
       "      <th></th>\n",
       "      <th>births</th>\n",
       "    </tr>\n",
       "    <tr>\n",
       "      <th>sex</th>\n",
       "      <th></th>\n",
       "    </tr>\n",
       "  </thead>\n",
       "  <tbody>\n",
       "    <tr>\n",
       "      <th>F</th>\n",
       "      <td>91955</td>\n",
       "    </tr>\n",
       "    <tr>\n",
       "      <th>M</th>\n",
       "      <td>100748</td>\n",
       "    </tr>\n",
       "  </tbody>\n",
       "</table>\n",
       "</div>"
      ],
      "text/plain": [
       "     births\n",
       "sex        \n",
       "F     91955\n",
       "M    100748"
      ]
     },
     "execution_count": 507,
     "metadata": {},
     "output_type": "execute_result"
    }
   ],
   "source": [
    "names1881.pivot_table('births','sex',aggfunc='sum')"
   ]
  },
  {
   "cell_type": "markdown",
   "metadata": {},
   "source": [
    "So now we know the total number of male and female births in 1881 (at least\n",
    "those accounted for our data sample)."
   ]
  },
  {
   "cell_type": "markdown",
   "metadata": {
    "id": "9nq7ICzcG0o4"
   },
   "source": [
    "Continuing along these lines, let's move back to the `names` DataFrame:\n",
    "Suppose we want to find birth totals by gender and by year. That is,  we want a new DataFrame in which a single cell shows the total births for a particular gender for a particular year.  So want one of the following two **pivot tables**:"
   ]
  },
  {
   "cell_type": "code",
   "execution_count": 506,
   "metadata": {
    "id": "Ty4aX2HOACZT"
   },
   "outputs": [],
   "source": [
    "total_births = names.pivot_table('births','year', columns='sex', aggfunc='sum')\n",
    "total_births2 = names.pivot_table('births','sex', columns='year', aggfunc='sum')"
   ]
  },
  {
   "cell_type": "markdown",
   "metadata": {
    "id": "yVhHFmYaACZU"
   },
   "source": [
    "The difference between these two pivot table computatiomns lies entirely\n",
    "in the combine step.\n",
    "\n",
    "In creating the DataFrame `total_births`, both lines splits the rows of the `names` DataFrame into groups by year and sex, and apply `'sum'` to the `births` column in each group.\n",
    "\n",
    "In line 1, The result are combined in a DataFrame with years as the index and columns\n",
    "for `'F'` and '`M'` births.\n",
    "In line 2, the resulting DataFrame has genders ('F' and 'M') as the index and\n",
    "years as the columns."
   ]
  },
  {
   "cell_type": "code",
   "execution_count": 51,
   "metadata": {
    "colab": {
     "base_uri": "https://localhost:8080/",
     "height": 235
    },
    "id": "HAyDzsgvACZU",
    "outputId": "7c29c81b-e81f-4d40-dbe9-3306c34236bf",
    "scrolled": true
   },
   "outputs": [
    {
     "data": {
      "text/html": [
       "<div>\n",
       "<style scoped>\n",
       "    .dataframe tbody tr th:only-of-type {\n",
       "        vertical-align: middle;\n",
       "    }\n",
       "\n",
       "    .dataframe tbody tr th {\n",
       "        vertical-align: top;\n",
       "    }\n",
       "\n",
       "    .dataframe thead th {\n",
       "        text-align: right;\n",
       "    }\n",
       "</style>\n",
       "<table border=\"1\" class=\"dataframe\">\n",
       "  <thead>\n",
       "    <tr style=\"text-align: right;\">\n",
       "      <th>sex</th>\n",
       "      <th>F</th>\n",
       "      <th>M</th>\n",
       "    </tr>\n",
       "    <tr>\n",
       "      <th>year</th>\n",
       "      <th></th>\n",
       "      <th></th>\n",
       "    </tr>\n",
       "  </thead>\n",
       "  <tbody>\n",
       "    <tr>\n",
       "      <th>2006</th>\n",
       "      <td>1896468</td>\n",
       "      <td>2050234</td>\n",
       "    </tr>\n",
       "    <tr>\n",
       "      <th>2007</th>\n",
       "      <td>1916888</td>\n",
       "      <td>2069242</td>\n",
       "    </tr>\n",
       "    <tr>\n",
       "      <th>2008</th>\n",
       "      <td>1883645</td>\n",
       "      <td>2032310</td>\n",
       "    </tr>\n",
       "    <tr>\n",
       "      <th>2009</th>\n",
       "      <td>1827643</td>\n",
       "      <td>1973359</td>\n",
       "    </tr>\n",
       "    <tr>\n",
       "      <th>2010</th>\n",
       "      <td>1759010</td>\n",
       "      <td>1898382</td>\n",
       "    </tr>\n",
       "  </tbody>\n",
       "</table>\n",
       "</div>"
      ],
      "text/plain": [
       "sex         F        M\n",
       "year                  \n",
       "2006  1896468  2050234\n",
       "2007  1916888  2069242\n",
       "2008  1883645  2032310\n",
       "2009  1827643  1973359\n",
       "2010  1759010  1898382"
      ]
     },
     "execution_count": 51,
     "metadata": {},
     "output_type": "execute_result"
    }
   ],
   "source": [
    "total_births.tail()"
   ]
  },
  {
   "cell_type": "markdown",
   "metadata": {},
   "source": [
    "Thus we find the 2006 birth totals with `.loc[]`:"
   ]
  },
  {
   "cell_type": "code",
   "execution_count": 55,
   "metadata": {},
   "outputs": [
    {
     "data": {
      "text/plain": [
       "sex\n",
       "F    1896468\n",
       "M    2050234\n",
       "Name: 2006, dtype: int64"
      ]
     },
     "execution_count": 55,
     "metadata": {},
     "output_type": "execute_result"
    }
   ],
   "source": [
    "total_births.loc[2006]"
   ]
  },
  {
   "cell_type": "markdown",
   "metadata": {},
   "source": [
    "And we access the female births data the way we access any column of any\n",
    "DataFrame:"
   ]
  },
  {
   "cell_type": "code",
   "execution_count": 503,
   "metadata": {},
   "outputs": [
    {
     "data": {
      "text/plain": [
       "year\n",
       "1880      90993\n",
       "1881      91955\n",
       "1882     107851\n",
       "1883     112322\n",
       "1884     129021\n",
       "         ...   \n",
       "2006    1896468\n",
       "2007    1916888\n",
       "2008    1883645\n",
       "2009    1827643\n",
       "2010    1759010\n",
       "Name: F, Length: 131, dtype: int64"
      ]
     },
     "execution_count": 503,
     "metadata": {},
     "output_type": "execute_result"
    }
   ],
   "source": [
    "total_births['F']"
   ]
  },
  {
   "cell_type": "markdown",
   "metadata": {
    "id": "zACscgHEHcKE"
   },
   "source": [
    "In `total_births2`, the index and column roles are swapped:\n",
    "The elements of the index are the genders, and the elements of the\n",
    "years column are the columns."
   ]
  },
  {
   "cell_type": "code",
   "execution_count": null,
   "metadata": {
    "colab": {
     "base_uri": "https://localhost:8080/",
     "height": 191
    },
    "id": "uPgS0o4hACZW",
    "outputId": "39b035f5-2055-4ef2-b245-07ffcf00ae00"
   },
   "outputs": [
    {
     "data": {
      "text/html": [
       "<div>\n",
       "<style scoped>\n",
       "    .dataframe tbody tr th:only-of-type {\n",
       "        vertical-align: middle;\n",
       "    }\n",
       "\n",
       "    .dataframe tbody tr th {\n",
       "        vertical-align: top;\n",
       "    }\n",
       "\n",
       "    .dataframe thead th {\n",
       "        text-align: right;\n",
       "    }\n",
       "</style>\n",
       "<table border=\"1\" class=\"dataframe\">\n",
       "  <thead>\n",
       "    <tr style=\"text-align: right;\">\n",
       "      <th>year</th>\n",
       "      <th>1880</th>\n",
       "      <th>1881</th>\n",
       "      <th>1882</th>\n",
       "      <th>1883</th>\n",
       "      <th>1884</th>\n",
       "      <th>1885</th>\n",
       "      <th>1886</th>\n",
       "      <th>1887</th>\n",
       "      <th>1888</th>\n",
       "      <th>1889</th>\n",
       "      <th>1890</th>\n",
       "      <th>1891</th>\n",
       "      <th>1892</th>\n",
       "      <th>1893</th>\n",
       "      <th>1894</th>\n",
       "      <th>1895</th>\n",
       "      <th>1896</th>\n",
       "      <th>1897</th>\n",
       "      <th>1898</th>\n",
       "      <th>1899</th>\n",
       "      <th>1900</th>\n",
       "      <th>1901</th>\n",
       "      <th>1902</th>\n",
       "      <th>1903</th>\n",
       "      <th>1904</th>\n",
       "      <th>1905</th>\n",
       "      <th>1906</th>\n",
       "      <th>1907</th>\n",
       "      <th>1908</th>\n",
       "      <th>1909</th>\n",
       "      <th>1910</th>\n",
       "      <th>1911</th>\n",
       "      <th>1912</th>\n",
       "      <th>1913</th>\n",
       "      <th>1914</th>\n",
       "      <th>1915</th>\n",
       "      <th>1916</th>\n",
       "      <th>1917</th>\n",
       "      <th>1918</th>\n",
       "      <th>1919</th>\n",
       "      <th>...</th>\n",
       "      <th>1971</th>\n",
       "      <th>1972</th>\n",
       "      <th>1973</th>\n",
       "      <th>1974</th>\n",
       "      <th>1975</th>\n",
       "      <th>1976</th>\n",
       "      <th>1977</th>\n",
       "      <th>1978</th>\n",
       "      <th>1979</th>\n",
       "      <th>1980</th>\n",
       "      <th>1981</th>\n",
       "      <th>1982</th>\n",
       "      <th>1983</th>\n",
       "      <th>1984</th>\n",
       "      <th>1985</th>\n",
       "      <th>1986</th>\n",
       "      <th>1987</th>\n",
       "      <th>1988</th>\n",
       "      <th>1989</th>\n",
       "      <th>1990</th>\n",
       "      <th>1991</th>\n",
       "      <th>1992</th>\n",
       "      <th>1993</th>\n",
       "      <th>1994</th>\n",
       "      <th>1995</th>\n",
       "      <th>1996</th>\n",
       "      <th>1997</th>\n",
       "      <th>1998</th>\n",
       "      <th>1999</th>\n",
       "      <th>2000</th>\n",
       "      <th>2001</th>\n",
       "      <th>2002</th>\n",
       "      <th>2003</th>\n",
       "      <th>2004</th>\n",
       "      <th>2005</th>\n",
       "      <th>2006</th>\n",
       "      <th>2007</th>\n",
       "      <th>2008</th>\n",
       "      <th>2009</th>\n",
       "      <th>2010</th>\n",
       "    </tr>\n",
       "    <tr>\n",
       "      <th>sex</th>\n",
       "      <th></th>\n",
       "      <th></th>\n",
       "      <th></th>\n",
       "      <th></th>\n",
       "      <th></th>\n",
       "      <th></th>\n",
       "      <th></th>\n",
       "      <th></th>\n",
       "      <th></th>\n",
       "      <th></th>\n",
       "      <th></th>\n",
       "      <th></th>\n",
       "      <th></th>\n",
       "      <th></th>\n",
       "      <th></th>\n",
       "      <th></th>\n",
       "      <th></th>\n",
       "      <th></th>\n",
       "      <th></th>\n",
       "      <th></th>\n",
       "      <th></th>\n",
       "      <th></th>\n",
       "      <th></th>\n",
       "      <th></th>\n",
       "      <th></th>\n",
       "      <th></th>\n",
       "      <th></th>\n",
       "      <th></th>\n",
       "      <th></th>\n",
       "      <th></th>\n",
       "      <th></th>\n",
       "      <th></th>\n",
       "      <th></th>\n",
       "      <th></th>\n",
       "      <th></th>\n",
       "      <th></th>\n",
       "      <th></th>\n",
       "      <th></th>\n",
       "      <th></th>\n",
       "      <th></th>\n",
       "      <th></th>\n",
       "      <th></th>\n",
       "      <th></th>\n",
       "      <th></th>\n",
       "      <th></th>\n",
       "      <th></th>\n",
       "      <th></th>\n",
       "      <th></th>\n",
       "      <th></th>\n",
       "      <th></th>\n",
       "      <th></th>\n",
       "      <th></th>\n",
       "      <th></th>\n",
       "      <th></th>\n",
       "      <th></th>\n",
       "      <th></th>\n",
       "      <th></th>\n",
       "      <th></th>\n",
       "      <th></th>\n",
       "      <th></th>\n",
       "      <th></th>\n",
       "      <th></th>\n",
       "      <th></th>\n",
       "      <th></th>\n",
       "      <th></th>\n",
       "      <th></th>\n",
       "      <th></th>\n",
       "      <th></th>\n",
       "      <th></th>\n",
       "      <th></th>\n",
       "      <th></th>\n",
       "      <th></th>\n",
       "      <th></th>\n",
       "      <th></th>\n",
       "      <th></th>\n",
       "      <th></th>\n",
       "      <th></th>\n",
       "      <th></th>\n",
       "      <th></th>\n",
       "      <th></th>\n",
       "      <th></th>\n",
       "    </tr>\n",
       "  </thead>\n",
       "  <tbody>\n",
       "    <tr>\n",
       "      <th>F</th>\n",
       "      <td>90993</td>\n",
       "      <td>91955</td>\n",
       "      <td>107851</td>\n",
       "      <td>112322</td>\n",
       "      <td>129021</td>\n",
       "      <td>133056</td>\n",
       "      <td>144538</td>\n",
       "      <td>145983</td>\n",
       "      <td>178631</td>\n",
       "      <td>178369</td>\n",
       "      <td>190377</td>\n",
       "      <td>185486</td>\n",
       "      <td>212350</td>\n",
       "      <td>212908</td>\n",
       "      <td>222923</td>\n",
       "      <td>233632</td>\n",
       "      <td>237924</td>\n",
       "      <td>234199</td>\n",
       "      <td>258771</td>\n",
       "      <td>233022</td>\n",
       "      <td>299873</td>\n",
       "      <td>239351</td>\n",
       "      <td>264079</td>\n",
       "      <td>261976</td>\n",
       "      <td>275375</td>\n",
       "      <td>291641</td>\n",
       "      <td>295301</td>\n",
       "      <td>318558</td>\n",
       "      <td>334277</td>\n",
       "      <td>347191</td>\n",
       "      <td>396416</td>\n",
       "      <td>418180</td>\n",
       "      <td>557939</td>\n",
       "      <td>624317</td>\n",
       "      <td>761376</td>\n",
       "      <td>983824</td>\n",
       "      <td>1044249</td>\n",
       "      <td>1081194</td>\n",
       "      <td>1157585</td>\n",
       "      <td>1130149</td>\n",
       "      <td>...</td>\n",
       "      <td>1663043</td>\n",
       "      <td>1521044</td>\n",
       "      <td>1457913</td>\n",
       "      <td>1467227</td>\n",
       "      <td>1457349</td>\n",
       "      <td>1464852</td>\n",
       "      <td>1532574</td>\n",
       "      <td>1531242</td>\n",
       "      <td>1604588</td>\n",
       "      <td>1659259</td>\n",
       "      <td>1666833</td>\n",
       "      <td>1692036</td>\n",
       "      <td>1669486</td>\n",
       "      <td>1682396</td>\n",
       "      <td>1719450</td>\n",
       "      <td>1714053</td>\n",
       "      <td>1737508</td>\n",
       "      <td>1779112</td>\n",
       "      <td>1843057</td>\n",
       "      <td>1897256</td>\n",
       "      <td>1874110</td>\n",
       "      <td>1842818</td>\n",
       "      <td>1807795</td>\n",
       "      <td>1784407</td>\n",
       "      <td>1757240</td>\n",
       "      <td>1751681</td>\n",
       "      <td>1739331</td>\n",
       "      <td>1765390</td>\n",
       "      <td>1772139</td>\n",
       "      <td>1813960</td>\n",
       "      <td>1798284</td>\n",
       "      <td>1794358</td>\n",
       "      <td>1824406</td>\n",
       "      <td>1833005</td>\n",
       "      <td>1843890</td>\n",
       "      <td>1896468</td>\n",
       "      <td>1916888</td>\n",
       "      <td>1883645</td>\n",
       "      <td>1827643</td>\n",
       "      <td>1759010</td>\n",
       "    </tr>\n",
       "    <tr>\n",
       "      <th>M</th>\n",
       "      <td>110493</td>\n",
       "      <td>100748</td>\n",
       "      <td>113687</td>\n",
       "      <td>104632</td>\n",
       "      <td>114445</td>\n",
       "      <td>107802</td>\n",
       "      <td>110785</td>\n",
       "      <td>101412</td>\n",
       "      <td>120857</td>\n",
       "      <td>110590</td>\n",
       "      <td>111026</td>\n",
       "      <td>101198</td>\n",
       "      <td>122038</td>\n",
       "      <td>112319</td>\n",
       "      <td>115775</td>\n",
       "      <td>117398</td>\n",
       "      <td>119575</td>\n",
       "      <td>112760</td>\n",
       "      <td>122703</td>\n",
       "      <td>106218</td>\n",
       "      <td>150554</td>\n",
       "      <td>106478</td>\n",
       "      <td>122660</td>\n",
       "      <td>119240</td>\n",
       "      <td>128129</td>\n",
       "      <td>132319</td>\n",
       "      <td>133159</td>\n",
       "      <td>146838</td>\n",
       "      <td>154339</td>\n",
       "      <td>163983</td>\n",
       "      <td>194198</td>\n",
       "      <td>225936</td>\n",
       "      <td>429926</td>\n",
       "      <td>512482</td>\n",
       "      <td>654746</td>\n",
       "      <td>848647</td>\n",
       "      <td>890142</td>\n",
       "      <td>925512</td>\n",
       "      <td>1013720</td>\n",
       "      <td>980215</td>\n",
       "      <td>...</td>\n",
       "      <td>1768325</td>\n",
       "      <td>1622178</td>\n",
       "      <td>1558562</td>\n",
       "      <td>1572415</td>\n",
       "      <td>1561378</td>\n",
       "      <td>1569098</td>\n",
       "      <td>1642747</td>\n",
       "      <td>1641143</td>\n",
       "      <td>1720781</td>\n",
       "      <td>1782388</td>\n",
       "      <td>1789568</td>\n",
       "      <td>1812642</td>\n",
       "      <td>1790670</td>\n",
       "      <td>1802735</td>\n",
       "      <td>1846162</td>\n",
       "      <td>1839442</td>\n",
       "      <td>1865113</td>\n",
       "      <td>1911858</td>\n",
       "      <td>1999840</td>\n",
       "      <td>2052070</td>\n",
       "      <td>2019018</td>\n",
       "      <td>1995760</td>\n",
       "      <td>1959712</td>\n",
       "      <td>1930363</td>\n",
       "      <td>1902100</td>\n",
       "      <td>1892700</td>\n",
       "      <td>1883571</td>\n",
       "      <td>1909676</td>\n",
       "      <td>1918267</td>\n",
       "      <td>1961702</td>\n",
       "      <td>1940498</td>\n",
       "      <td>1938941</td>\n",
       "      <td>1972439</td>\n",
       "      <td>1981557</td>\n",
       "      <td>1993285</td>\n",
       "      <td>2050234</td>\n",
       "      <td>2069242</td>\n",
       "      <td>2032310</td>\n",
       "      <td>1973359</td>\n",
       "      <td>1898382</td>\n",
       "    </tr>\n",
       "  </tbody>\n",
       "</table>\n",
       "<p>2 rows × 131 columns</p>\n",
       "</div>"
      ],
      "text/plain": [
       "year    1880    1881    1882    1883  ...     2007     2008     2009     2010\n",
       "sex                                   ...                                    \n",
       "F      90993   91955  107851  112322  ...  1916888  1883645  1827643  1759010\n",
       "M     110493  100748  113687  104632  ...  2069242  2032310  1973359  1898382\n",
       "\n",
       "[2 rows x 131 columns]"
      ]
     },
     "execution_count": 74,
     "metadata": {
      "tags": []
     },
     "output_type": "execute_result"
    }
   ],
   "source": [
    "total_births2.tail()"
   ]
  },
  {
   "cell_type": "markdown",
   "metadata": {
    "id": "Q2jJeFhtIIyJ"
   },
   "source": [
    "The two pivot tables have equivalent data.  One\n",
    "is the transpose of the other."
   ]
  },
  {
   "cell_type": "code",
   "execution_count": 621,
   "metadata": {
    "colab": {
     "base_uri": "https://localhost:8080/"
    },
    "id": "6B_kXy-JH48c",
    "outputId": "ad10d1a0-97e5-4635-bbae-1f4406120ec6"
   },
   "outputs": [
    {
     "data": {
      "text/plain": [
       "True"
      ]
     },
     "execution_count": 621,
     "metadata": {},
     "output_type": "execute_result"
    }
   ],
   "source": [
    "import numpy as np\n",
    "np.all(total_births2.T == total_births)"
   ]
  },
  {
   "cell_type": "markdown",
   "metadata": {},
   "source": [
    "Since `total_births` and `total_births2` contain essentially the same information,\n",
    "let's summarize what we learned about the `.pivot-table()` method with\n",
    "`total_births`.\n",
    "\n",
    "How was `total_births` created?  By three steps\n",
    "\n",
    "1. Splitting the rows of `name` into groups  (one for each year, gender pair).\n",
    "2. Applying the aggregation function `sum` to each group\n",
    "3. Combining the results into a single DataFrame `total_births`.\n",
    "\n",
    "This is known as the split/apply/combine strategy.  \n",
    "\n",
    "Below, we will explore the pandas function `groupby`\n",
    "that performs just the first of these three steps.\n",
    "First we cover the basic `pandas` tool for counting groups."
   ]
  },
  {
   "cell_type": "markdown",
   "metadata": {},
   "source": [
    "#### Cross tabulation"
   ]
  },
  {
   "cell_type": "markdown",
   "metadata": {},
   "source": [
    "Compare `total_births2` with the output of `pd.crosstab`, which we use to get the joint distribution counts for two attributes; although the rows and columns are the same, the \n",
    "numbers are different."
   ]
  },
  {
   "cell_type": "code",
   "execution_count": 62,
   "metadata": {},
   "outputs": [
    {
     "data": {
      "text/html": [
       "<div>\n",
       "<style scoped>\n",
       "    .dataframe tbody tr th:only-of-type {\n",
       "        vertical-align: middle;\n",
       "    }\n",
       "\n",
       "    .dataframe tbody tr th {\n",
       "        vertical-align: top;\n",
       "    }\n",
       "\n",
       "    .dataframe thead th {\n",
       "        text-align: right;\n",
       "    }\n",
       "</style>\n",
       "<table border=\"1\" class=\"dataframe\">\n",
       "  <thead>\n",
       "    <tr style=\"text-align: right;\">\n",
       "      <th>year</th>\n",
       "      <th>1880</th>\n",
       "      <th>1881</th>\n",
       "      <th>1882</th>\n",
       "      <th>1883</th>\n",
       "      <th>1884</th>\n",
       "      <th>1885</th>\n",
       "      <th>1886</th>\n",
       "      <th>1887</th>\n",
       "      <th>1888</th>\n",
       "      <th>1889</th>\n",
       "      <th>1890</th>\n",
       "      <th>1891</th>\n",
       "      <th>1892</th>\n",
       "      <th>1893</th>\n",
       "      <th>1894</th>\n",
       "      <th>1895</th>\n",
       "      <th>1896</th>\n",
       "      <th>1897</th>\n",
       "      <th>1898</th>\n",
       "      <th>1899</th>\n",
       "      <th>1900</th>\n",
       "      <th>1901</th>\n",
       "      <th>1902</th>\n",
       "      <th>1903</th>\n",
       "      <th>1904</th>\n",
       "      <th>1905</th>\n",
       "      <th>1906</th>\n",
       "      <th>1907</th>\n",
       "      <th>1908</th>\n",
       "      <th>1909</th>\n",
       "      <th>...</th>\n",
       "      <th>1981</th>\n",
       "      <th>1982</th>\n",
       "      <th>1983</th>\n",
       "      <th>1984</th>\n",
       "      <th>1985</th>\n",
       "      <th>1986</th>\n",
       "      <th>1987</th>\n",
       "      <th>1988</th>\n",
       "      <th>1989</th>\n",
       "      <th>1990</th>\n",
       "      <th>1991</th>\n",
       "      <th>1992</th>\n",
       "      <th>1993</th>\n",
       "      <th>1994</th>\n",
       "      <th>1995</th>\n",
       "      <th>1996</th>\n",
       "      <th>1997</th>\n",
       "      <th>1998</th>\n",
       "      <th>1999</th>\n",
       "      <th>2000</th>\n",
       "      <th>2001</th>\n",
       "      <th>2002</th>\n",
       "      <th>2003</th>\n",
       "      <th>2004</th>\n",
       "      <th>2005</th>\n",
       "      <th>2006</th>\n",
       "      <th>2007</th>\n",
       "      <th>2008</th>\n",
       "      <th>2009</th>\n",
       "      <th>2010</th>\n",
       "    </tr>\n",
       "    <tr>\n",
       "      <th>sex</th>\n",
       "      <th></th>\n",
       "      <th></th>\n",
       "      <th></th>\n",
       "      <th></th>\n",
       "      <th></th>\n",
       "      <th></th>\n",
       "      <th></th>\n",
       "      <th></th>\n",
       "      <th></th>\n",
       "      <th></th>\n",
       "      <th></th>\n",
       "      <th></th>\n",
       "      <th></th>\n",
       "      <th></th>\n",
       "      <th></th>\n",
       "      <th></th>\n",
       "      <th></th>\n",
       "      <th></th>\n",
       "      <th></th>\n",
       "      <th></th>\n",
       "      <th></th>\n",
       "      <th></th>\n",
       "      <th></th>\n",
       "      <th></th>\n",
       "      <th></th>\n",
       "      <th></th>\n",
       "      <th></th>\n",
       "      <th></th>\n",
       "      <th></th>\n",
       "      <th></th>\n",
       "      <th></th>\n",
       "      <th></th>\n",
       "      <th></th>\n",
       "      <th></th>\n",
       "      <th></th>\n",
       "      <th></th>\n",
       "      <th></th>\n",
       "      <th></th>\n",
       "      <th></th>\n",
       "      <th></th>\n",
       "      <th></th>\n",
       "      <th></th>\n",
       "      <th></th>\n",
       "      <th></th>\n",
       "      <th></th>\n",
       "      <th></th>\n",
       "      <th></th>\n",
       "      <th></th>\n",
       "      <th></th>\n",
       "      <th></th>\n",
       "      <th></th>\n",
       "      <th></th>\n",
       "      <th></th>\n",
       "      <th></th>\n",
       "      <th></th>\n",
       "      <th></th>\n",
       "      <th></th>\n",
       "      <th></th>\n",
       "      <th></th>\n",
       "      <th></th>\n",
       "      <th></th>\n",
       "    </tr>\n",
       "  </thead>\n",
       "  <tbody>\n",
       "    <tr>\n",
       "      <th>F</th>\n",
       "      <td>90993</td>\n",
       "      <td>91955</td>\n",
       "      <td>107851</td>\n",
       "      <td>112322</td>\n",
       "      <td>129021</td>\n",
       "      <td>133056</td>\n",
       "      <td>144538</td>\n",
       "      <td>145983</td>\n",
       "      <td>178631</td>\n",
       "      <td>178369</td>\n",
       "      <td>190377</td>\n",
       "      <td>185486</td>\n",
       "      <td>212350</td>\n",
       "      <td>212908</td>\n",
       "      <td>222923</td>\n",
       "      <td>233632</td>\n",
       "      <td>237924</td>\n",
       "      <td>234199</td>\n",
       "      <td>258771</td>\n",
       "      <td>233022</td>\n",
       "      <td>299873</td>\n",
       "      <td>239351</td>\n",
       "      <td>264079</td>\n",
       "      <td>261976</td>\n",
       "      <td>275375</td>\n",
       "      <td>291641</td>\n",
       "      <td>295301</td>\n",
       "      <td>318558</td>\n",
       "      <td>334277</td>\n",
       "      <td>347191</td>\n",
       "      <td>...</td>\n",
       "      <td>1666833</td>\n",
       "      <td>1692036</td>\n",
       "      <td>1669486</td>\n",
       "      <td>1682396</td>\n",
       "      <td>1719450</td>\n",
       "      <td>1714053</td>\n",
       "      <td>1737508</td>\n",
       "      <td>1779112</td>\n",
       "      <td>1843057</td>\n",
       "      <td>1897256</td>\n",
       "      <td>1874110</td>\n",
       "      <td>1842818</td>\n",
       "      <td>1807795</td>\n",
       "      <td>1784407</td>\n",
       "      <td>1757240</td>\n",
       "      <td>1751681</td>\n",
       "      <td>1739331</td>\n",
       "      <td>1765390</td>\n",
       "      <td>1772139</td>\n",
       "      <td>1813960</td>\n",
       "      <td>1798284</td>\n",
       "      <td>1794358</td>\n",
       "      <td>1824406</td>\n",
       "      <td>1833005</td>\n",
       "      <td>1843890</td>\n",
       "      <td>1896468</td>\n",
       "      <td>1916888</td>\n",
       "      <td>1883645</td>\n",
       "      <td>1827643</td>\n",
       "      <td>1759010</td>\n",
       "    </tr>\n",
       "    <tr>\n",
       "      <th>M</th>\n",
       "      <td>110493</td>\n",
       "      <td>100748</td>\n",
       "      <td>113687</td>\n",
       "      <td>104632</td>\n",
       "      <td>114445</td>\n",
       "      <td>107802</td>\n",
       "      <td>110785</td>\n",
       "      <td>101412</td>\n",
       "      <td>120857</td>\n",
       "      <td>110590</td>\n",
       "      <td>111026</td>\n",
       "      <td>101198</td>\n",
       "      <td>122038</td>\n",
       "      <td>112319</td>\n",
       "      <td>115775</td>\n",
       "      <td>117398</td>\n",
       "      <td>119575</td>\n",
       "      <td>112760</td>\n",
       "      <td>122703</td>\n",
       "      <td>106218</td>\n",
       "      <td>150554</td>\n",
       "      <td>106478</td>\n",
       "      <td>122660</td>\n",
       "      <td>119240</td>\n",
       "      <td>128129</td>\n",
       "      <td>132319</td>\n",
       "      <td>133159</td>\n",
       "      <td>146838</td>\n",
       "      <td>154339</td>\n",
       "      <td>163983</td>\n",
       "      <td>...</td>\n",
       "      <td>1789568</td>\n",
       "      <td>1812642</td>\n",
       "      <td>1790670</td>\n",
       "      <td>1802735</td>\n",
       "      <td>1846162</td>\n",
       "      <td>1839442</td>\n",
       "      <td>1865113</td>\n",
       "      <td>1911858</td>\n",
       "      <td>1999840</td>\n",
       "      <td>2052070</td>\n",
       "      <td>2019018</td>\n",
       "      <td>1995760</td>\n",
       "      <td>1959712</td>\n",
       "      <td>1930363</td>\n",
       "      <td>1902100</td>\n",
       "      <td>1892700</td>\n",
       "      <td>1883571</td>\n",
       "      <td>1909676</td>\n",
       "      <td>1918267</td>\n",
       "      <td>1961702</td>\n",
       "      <td>1940498</td>\n",
       "      <td>1938941</td>\n",
       "      <td>1972439</td>\n",
       "      <td>1981557</td>\n",
       "      <td>1993285</td>\n",
       "      <td>2050234</td>\n",
       "      <td>2069242</td>\n",
       "      <td>2032310</td>\n",
       "      <td>1973359</td>\n",
       "      <td>1898382</td>\n",
       "    </tr>\n",
       "  </tbody>\n",
       "</table>\n",
       "<p>2 rows × 131 columns</p>\n",
       "</div>"
      ],
      "text/plain": [
       "year    1880    1881    1882    1883    1884    1885    1886    1887    1888    1889    1890    1891    1892    1893    1894    1895    1896    1897    1898    1899    1900    1901    1902    1903    1904    1905    1906    1907    1908    1909  ...     1981     1982     1983     1984     1985     1986     1987     1988     1989     1990     1991     1992     1993     1994     1995     1996     1997     1998     1999     2000     2001     2002     2003     2004     2005     2006     2007     2008     2009     2010\n",
       "sex                                                                                                                                                                                                                                                   ...                                                                                                                                                                                                                                                                              \n",
       "F      90993   91955  107851  112322  129021  133056  144538  145983  178631  178369  190377  185486  212350  212908  222923  233632  237924  234199  258771  233022  299873  239351  264079  261976  275375  291641  295301  318558  334277  347191  ...  1666833  1692036  1669486  1682396  1719450  1714053  1737508  1779112  1843057  1897256  1874110  1842818  1807795  1784407  1757240  1751681  1739331  1765390  1772139  1813960  1798284  1794358  1824406  1833005  1843890  1896468  1916888  1883645  1827643  1759010\n",
       "M     110493  100748  113687  104632  114445  107802  110785  101412  120857  110590  111026  101198  122038  112319  115775  117398  119575  112760  122703  106218  150554  106478  122660  119240  128129  132319  133159  146838  154339  163983  ...  1789568  1812642  1790670  1802735  1846162  1839442  1865113  1911858  1999840  2052070  2019018  1995760  1959712  1930363  1902100  1892700  1883571  1909676  1918267  1961702  1940498  1938941  1972439  1981557  1993285  2050234  2069242  2032310  1973359  1898382\n",
       "\n",
       "[2 rows x 131 columns]"
      ]
     },
     "execution_count": 62,
     "metadata": {},
     "output_type": "execute_result"
    }
   ],
   "source": [
    "total_births2.tail()"
   ]
  },
  {
   "cell_type": "code",
   "execution_count": 513,
   "metadata": {
    "scrolled": true
   },
   "outputs": [
    {
     "data": {
      "text/html": [
       "<div>\n",
       "<style scoped>\n",
       "    .dataframe tbody tr th:only-of-type {\n",
       "        vertical-align: middle;\n",
       "    }\n",
       "\n",
       "    .dataframe tbody tr th {\n",
       "        vertical-align: top;\n",
       "    }\n",
       "\n",
       "    .dataframe thead th {\n",
       "        text-align: right;\n",
       "    }\n",
       "</style>\n",
       "<table border=\"1\" class=\"dataframe\">\n",
       "  <thead>\n",
       "    <tr style=\"text-align: right;\">\n",
       "      <th>year</th>\n",
       "      <th>1880</th>\n",
       "      <th>1881</th>\n",
       "      <th>1882</th>\n",
       "      <th>1883</th>\n",
       "      <th>1884</th>\n",
       "      <th>1885</th>\n",
       "      <th>1886</th>\n",
       "      <th>1887</th>\n",
       "      <th>1888</th>\n",
       "      <th>1889</th>\n",
       "      <th>1890</th>\n",
       "      <th>1891</th>\n",
       "      <th>1892</th>\n",
       "      <th>1893</th>\n",
       "      <th>1894</th>\n",
       "      <th>1895</th>\n",
       "      <th>1896</th>\n",
       "      <th>1897</th>\n",
       "      <th>1898</th>\n",
       "      <th>1899</th>\n",
       "      <th>1900</th>\n",
       "      <th>1901</th>\n",
       "      <th>1902</th>\n",
       "      <th>1903</th>\n",
       "      <th>1904</th>\n",
       "      <th>1905</th>\n",
       "      <th>1906</th>\n",
       "      <th>1907</th>\n",
       "      <th>1908</th>\n",
       "      <th>1909</th>\n",
       "      <th>...</th>\n",
       "      <th>1981</th>\n",
       "      <th>1982</th>\n",
       "      <th>1983</th>\n",
       "      <th>1984</th>\n",
       "      <th>1985</th>\n",
       "      <th>1986</th>\n",
       "      <th>1987</th>\n",
       "      <th>1988</th>\n",
       "      <th>1989</th>\n",
       "      <th>1990</th>\n",
       "      <th>1991</th>\n",
       "      <th>1992</th>\n",
       "      <th>1993</th>\n",
       "      <th>1994</th>\n",
       "      <th>1995</th>\n",
       "      <th>1996</th>\n",
       "      <th>1997</th>\n",
       "      <th>1998</th>\n",
       "      <th>1999</th>\n",
       "      <th>2000</th>\n",
       "      <th>2001</th>\n",
       "      <th>2002</th>\n",
       "      <th>2003</th>\n",
       "      <th>2004</th>\n",
       "      <th>2005</th>\n",
       "      <th>2006</th>\n",
       "      <th>2007</th>\n",
       "      <th>2008</th>\n",
       "      <th>2009</th>\n",
       "      <th>2010</th>\n",
       "    </tr>\n",
       "    <tr>\n",
       "      <th>sex</th>\n",
       "      <th></th>\n",
       "      <th></th>\n",
       "      <th></th>\n",
       "      <th></th>\n",
       "      <th></th>\n",
       "      <th></th>\n",
       "      <th></th>\n",
       "      <th></th>\n",
       "      <th></th>\n",
       "      <th></th>\n",
       "      <th></th>\n",
       "      <th></th>\n",
       "      <th></th>\n",
       "      <th></th>\n",
       "      <th></th>\n",
       "      <th></th>\n",
       "      <th></th>\n",
       "      <th></th>\n",
       "      <th></th>\n",
       "      <th></th>\n",
       "      <th></th>\n",
       "      <th></th>\n",
       "      <th></th>\n",
       "      <th></th>\n",
       "      <th></th>\n",
       "      <th></th>\n",
       "      <th></th>\n",
       "      <th></th>\n",
       "      <th></th>\n",
       "      <th></th>\n",
       "      <th></th>\n",
       "      <th></th>\n",
       "      <th></th>\n",
       "      <th></th>\n",
       "      <th></th>\n",
       "      <th></th>\n",
       "      <th></th>\n",
       "      <th></th>\n",
       "      <th></th>\n",
       "      <th></th>\n",
       "      <th></th>\n",
       "      <th></th>\n",
       "      <th></th>\n",
       "      <th></th>\n",
       "      <th></th>\n",
       "      <th></th>\n",
       "      <th></th>\n",
       "      <th></th>\n",
       "      <th></th>\n",
       "      <th></th>\n",
       "      <th></th>\n",
       "      <th></th>\n",
       "      <th></th>\n",
       "      <th></th>\n",
       "      <th></th>\n",
       "      <th></th>\n",
       "      <th></th>\n",
       "      <th></th>\n",
       "      <th></th>\n",
       "      <th></th>\n",
       "      <th></th>\n",
       "    </tr>\n",
       "  </thead>\n",
       "  <tbody>\n",
       "    <tr>\n",
       "      <th>F</th>\n",
       "      <td>942</td>\n",
       "      <td>938</td>\n",
       "      <td>1028</td>\n",
       "      <td>1054</td>\n",
       "      <td>1172</td>\n",
       "      <td>1197</td>\n",
       "      <td>1282</td>\n",
       "      <td>1306</td>\n",
       "      <td>1474</td>\n",
       "      <td>1479</td>\n",
       "      <td>1534</td>\n",
       "      <td>1533</td>\n",
       "      <td>1661</td>\n",
       "      <td>1652</td>\n",
       "      <td>1702</td>\n",
       "      <td>1808</td>\n",
       "      <td>1825</td>\n",
       "      <td>1799</td>\n",
       "      <td>1975</td>\n",
       "      <td>1842</td>\n",
       "      <td>2226</td>\n",
       "      <td>1943</td>\n",
       "      <td>2042</td>\n",
       "      <td>2083</td>\n",
       "      <td>2166</td>\n",
       "      <td>2235</td>\n",
       "      <td>2220</td>\n",
       "      <td>2399</td>\n",
       "      <td>2434</td>\n",
       "      <td>2548</td>\n",
       "      <td>...</td>\n",
       "      <td>12178</td>\n",
       "      <td>12316</td>\n",
       "      <td>12057</td>\n",
       "      <td>12164</td>\n",
       "      <td>12497</td>\n",
       "      <td>12811</td>\n",
       "      <td>13247</td>\n",
       "      <td>13863</td>\n",
       "      <td>14534</td>\n",
       "      <td>15227</td>\n",
       "      <td>15461</td>\n",
       "      <td>15603</td>\n",
       "      <td>15792</td>\n",
       "      <td>15745</td>\n",
       "      <td>15751</td>\n",
       "      <td>15887</td>\n",
       "      <td>16154</td>\n",
       "      <td>16590</td>\n",
       "      <td>16935</td>\n",
       "      <td>17649</td>\n",
       "      <td>17962</td>\n",
       "      <td>18073</td>\n",
       "      <td>18418</td>\n",
       "      <td>18811</td>\n",
       "      <td>19164</td>\n",
       "      <td>20028</td>\n",
       "      <td>20520</td>\n",
       "      <td>20416</td>\n",
       "      <td>20123</td>\n",
       "      <td>19698</td>\n",
       "    </tr>\n",
       "    <tr>\n",
       "      <th>M</th>\n",
       "      <td>1058</td>\n",
       "      <td>997</td>\n",
       "      <td>1099</td>\n",
       "      <td>1030</td>\n",
       "      <td>1125</td>\n",
       "      <td>1097</td>\n",
       "      <td>1110</td>\n",
       "      <td>1067</td>\n",
       "      <td>1177</td>\n",
       "      <td>1111</td>\n",
       "      <td>1161</td>\n",
       "      <td>1127</td>\n",
       "      <td>1260</td>\n",
       "      <td>1179</td>\n",
       "      <td>1239</td>\n",
       "      <td>1241</td>\n",
       "      <td>1266</td>\n",
       "      <td>1229</td>\n",
       "      <td>1290</td>\n",
       "      <td>1200</td>\n",
       "      <td>1507</td>\n",
       "      <td>1210</td>\n",
       "      <td>1320</td>\n",
       "      <td>1306</td>\n",
       "      <td>1395</td>\n",
       "      <td>1421</td>\n",
       "      <td>1413</td>\n",
       "      <td>1549</td>\n",
       "      <td>1584</td>\n",
       "      <td>1678</td>\n",
       "      <td>...</td>\n",
       "      <td>7274</td>\n",
       "      <td>7352</td>\n",
       "      <td>7328</td>\n",
       "      <td>7323</td>\n",
       "      <td>7575</td>\n",
       "      <td>7817</td>\n",
       "      <td>8134</td>\n",
       "      <td>8477</td>\n",
       "      <td>9226</td>\n",
       "      <td>9482</td>\n",
       "      <td>9641</td>\n",
       "      <td>9806</td>\n",
       "      <td>10154</td>\n",
       "      <td>10242</td>\n",
       "      <td>10321</td>\n",
       "      <td>10529</td>\n",
       "      <td>10807</td>\n",
       "      <td>11296</td>\n",
       "      <td>11605</td>\n",
       "      <td>12109</td>\n",
       "      <td>12289</td>\n",
       "      <td>12474</td>\n",
       "      <td>12744</td>\n",
       "      <td>13207</td>\n",
       "      <td>13344</td>\n",
       "      <td>14011</td>\n",
       "      <td>14363</td>\n",
       "      <td>14590</td>\n",
       "      <td>14479</td>\n",
       "      <td>14140</td>\n",
       "    </tr>\n",
       "  </tbody>\n",
       "</table>\n",
       "<p>2 rows × 131 columns</p>\n",
       "</div>"
      ],
      "text/plain": [
       "year  1880  1881  1882  1883  1884  1885  1886  1887  1888  1889  1890  1891  1892  1893  1894  1895  1896  1897  1898  1899  1900  1901  1902  1903  1904  1905  1906  1907  1908  1909  ...   1981   1982   1983   1984   1985   1986   1987   1988   1989   1990   1991   1992   1993   1994   1995   1996   1997   1998   1999   2000   2001   2002   2003   2004   2005   2006   2007   2008   2009   2010\n",
       "sex                                                                                                                                                                                       ...                                                                                                                                                                                                                  \n",
       "F      942   938  1028  1054  1172  1197  1282  1306  1474  1479  1534  1533  1661  1652  1702  1808  1825  1799  1975  1842  2226  1943  2042  2083  2166  2235  2220  2399  2434  2548  ...  12178  12316  12057  12164  12497  12811  13247  13863  14534  15227  15461  15603  15792  15745  15751  15887  16154  16590  16935  17649  17962  18073  18418  18811  19164  20028  20520  20416  20123  19698\n",
       "M     1058   997  1099  1030  1125  1097  1110  1067  1177  1111  1161  1127  1260  1179  1239  1241  1266  1229  1290  1200  1507  1210  1320  1306  1395  1421  1413  1549  1584  1678  ...   7274   7352   7328   7323   7575   7817   8134   8477   9226   9482   9641   9806  10154  10242  10321  10529  10807  11296  11605  12109  12289  12474  12744  13207  13344  14011  14363  14590  14479  14140\n",
       "\n",
       "[2 rows x 131 columns]"
      ]
     },
     "execution_count": 513,
     "metadata": {},
     "output_type": "execute_result"
    }
   ],
   "source": [
    "crosstab_sex_year = pd.crosstab(names['sex'],names['year'])\n",
    "crosstab_sex_year"
   ]
  },
  {
   "cell_type": "markdown",
   "metadata": {},
   "source": []
  },
  {
   "cell_type": "code",
   "execution_count": 512,
   "metadata": {},
   "outputs": [
    {
     "data": {
      "text/plain": [
       "942"
      ]
     },
     "execution_count": 512,
     "metadata": {},
     "output_type": "execute_result"
    }
   ],
   "source": [
    "crosstab_sex_year[1880]['F']"
   ]
  },
  {
   "cell_type": "markdown",
   "metadata": {},
   "source": [
    "What does \n",
    "\n",
    "```\n",
    "crosstab_sex_year[1880]['F']\n",
    "```\n",
    "\n",
    "mean?\n",
    "\n",
    "It represents how many times the `names` DataFrame \n",
    "pairs 1880 in the `'year'` column with 'F' in\n",
    "the `'sex'` column, and in `names`, that amounts to computing how many\n",
    "distinct female names there were in 1880."
   ]
  },
  {
   "cell_type": "markdown",
   "metadata": {},
   "source": [
    "In this example `pd.crosstab` combined two columns of the `names` DataFrame\n",
    "to  compute the crosstab DataFrame `crosstab_sex_year`.\n",
    "In general, `pd.crosstab` takes any two sequences of equal length and\n",
    "computes how many times unique pairings  occur.  \n",
    "\n",
    "```\n",
    "[1,0,1,0,0,1,1]\n",
    "[b,b,b,a,b,a,a]\n",
    "```\n",
    "For example, in the two arrays seen here, a `1` from the first sequence is paired with a `b` from the second twice.  The results are summarized in the cross-tabulation DataFrame. "
   ]
  },
  {
   "cell_type": "code",
   "execution_count": 508,
   "metadata": {
    "scrolled": true
   },
   "outputs": [
    {
     "data": {
      "text/html": [
       "<div>\n",
       "<style scoped>\n",
       "    .dataframe tbody tr th:only-of-type {\n",
       "        vertical-align: middle;\n",
       "    }\n",
       "\n",
       "    .dataframe tbody tr th {\n",
       "        vertical-align: top;\n",
       "    }\n",
       "\n",
       "    .dataframe thead th {\n",
       "        text-align: right;\n",
       "    }\n",
       "</style>\n",
       "<table border=\"1\" class=\"dataframe\">\n",
       "  <thead>\n",
       "    <tr style=\"text-align: right;\">\n",
       "      <th>col_0</th>\n",
       "      <th>a</th>\n",
       "      <th>b</th>\n",
       "    </tr>\n",
       "    <tr>\n",
       "      <th>row_0</th>\n",
       "      <th></th>\n",
       "      <th></th>\n",
       "    </tr>\n",
       "  </thead>\n",
       "  <tbody>\n",
       "    <tr>\n",
       "      <th>0</th>\n",
       "      <td>1</td>\n",
       "      <td>2</td>\n",
       "    </tr>\n",
       "    <tr>\n",
       "      <th>1</th>\n",
       "      <td>2</td>\n",
       "      <td>2</td>\n",
       "    </tr>\n",
       "  </tbody>\n",
       "</table>\n",
       "</div>"
      ],
      "text/plain": [
       "col_0  a  b\n",
       "row_0      \n",
       "0      1  2\n",
       "1      2  2"
      ]
     },
     "execution_count": 508,
     "metadata": {},
     "output_type": "execute_result"
    }
   ],
   "source": [
    "pd.crosstab(np.array([1,0,1,0,0,1,1]),np.array(['b','b','b','a','b','a','a']))"
   ]
  },
  {
   "cell_type": "markdown",
   "metadata": {},
   "source": [
    "If the two sequences are columns from a DataFrame, then the counts tell us how many\n",
    "rows contain each possible pairing of values.  So each pair of values defines\n",
    "a group of rows (the rows with `'year'` 1881 and `'sex'` 'F', for example, in `names`).\n",
    "\n",
    "In lieu of just counting the rows in a group,  we can also use `crosstab` to apply a different aggregation operation to the group. \n",
    "\n",
    "For example we can use `crosstab` to\n",
    "recreate `total_births2`, the DataFrame we created\n",
    "above with `pivot_table`.  Here is the DataFrame we created with `pivot_table`."
   ]
  },
  {
   "cell_type": "code",
   "execution_count": 77,
   "metadata": {},
   "outputs": [
    {
     "data": {
      "text/html": [
       "<div>\n",
       "<style scoped>\n",
       "    .dataframe tbody tr th:only-of-type {\n",
       "        vertical-align: middle;\n",
       "    }\n",
       "\n",
       "    .dataframe tbody tr th {\n",
       "        vertical-align: top;\n",
       "    }\n",
       "\n",
       "    .dataframe thead th {\n",
       "        text-align: right;\n",
       "    }\n",
       "</style>\n",
       "<table border=\"1\" class=\"dataframe\">\n",
       "  <thead>\n",
       "    <tr style=\"text-align: right;\">\n",
       "      <th>year</th>\n",
       "      <th>1880</th>\n",
       "      <th>1881</th>\n",
       "      <th>1882</th>\n",
       "      <th>1883</th>\n",
       "      <th>1884</th>\n",
       "      <th>1885</th>\n",
       "      <th>1886</th>\n",
       "      <th>1887</th>\n",
       "      <th>1888</th>\n",
       "      <th>1889</th>\n",
       "      <th>1890</th>\n",
       "      <th>1891</th>\n",
       "      <th>1892</th>\n",
       "      <th>1893</th>\n",
       "      <th>1894</th>\n",
       "      <th>1895</th>\n",
       "      <th>1896</th>\n",
       "      <th>1897</th>\n",
       "      <th>1898</th>\n",
       "      <th>1899</th>\n",
       "      <th>1900</th>\n",
       "      <th>1901</th>\n",
       "      <th>1902</th>\n",
       "      <th>1903</th>\n",
       "      <th>1904</th>\n",
       "      <th>1905</th>\n",
       "      <th>1906</th>\n",
       "      <th>1907</th>\n",
       "      <th>1908</th>\n",
       "      <th>1909</th>\n",
       "      <th>...</th>\n",
       "      <th>1981</th>\n",
       "      <th>1982</th>\n",
       "      <th>1983</th>\n",
       "      <th>1984</th>\n",
       "      <th>1985</th>\n",
       "      <th>1986</th>\n",
       "      <th>1987</th>\n",
       "      <th>1988</th>\n",
       "      <th>1989</th>\n",
       "      <th>1990</th>\n",
       "      <th>1991</th>\n",
       "      <th>1992</th>\n",
       "      <th>1993</th>\n",
       "      <th>1994</th>\n",
       "      <th>1995</th>\n",
       "      <th>1996</th>\n",
       "      <th>1997</th>\n",
       "      <th>1998</th>\n",
       "      <th>1999</th>\n",
       "      <th>2000</th>\n",
       "      <th>2001</th>\n",
       "      <th>2002</th>\n",
       "      <th>2003</th>\n",
       "      <th>2004</th>\n",
       "      <th>2005</th>\n",
       "      <th>2006</th>\n",
       "      <th>2007</th>\n",
       "      <th>2008</th>\n",
       "      <th>2009</th>\n",
       "      <th>2010</th>\n",
       "    </tr>\n",
       "    <tr>\n",
       "      <th>sex</th>\n",
       "      <th></th>\n",
       "      <th></th>\n",
       "      <th></th>\n",
       "      <th></th>\n",
       "      <th></th>\n",
       "      <th></th>\n",
       "      <th></th>\n",
       "      <th></th>\n",
       "      <th></th>\n",
       "      <th></th>\n",
       "      <th></th>\n",
       "      <th></th>\n",
       "      <th></th>\n",
       "      <th></th>\n",
       "      <th></th>\n",
       "      <th></th>\n",
       "      <th></th>\n",
       "      <th></th>\n",
       "      <th></th>\n",
       "      <th></th>\n",
       "      <th></th>\n",
       "      <th></th>\n",
       "      <th></th>\n",
       "      <th></th>\n",
       "      <th></th>\n",
       "      <th></th>\n",
       "      <th></th>\n",
       "      <th></th>\n",
       "      <th></th>\n",
       "      <th></th>\n",
       "      <th></th>\n",
       "      <th></th>\n",
       "      <th></th>\n",
       "      <th></th>\n",
       "      <th></th>\n",
       "      <th></th>\n",
       "      <th></th>\n",
       "      <th></th>\n",
       "      <th></th>\n",
       "      <th></th>\n",
       "      <th></th>\n",
       "      <th></th>\n",
       "      <th></th>\n",
       "      <th></th>\n",
       "      <th></th>\n",
       "      <th></th>\n",
       "      <th></th>\n",
       "      <th></th>\n",
       "      <th></th>\n",
       "      <th></th>\n",
       "      <th></th>\n",
       "      <th></th>\n",
       "      <th></th>\n",
       "      <th></th>\n",
       "      <th></th>\n",
       "      <th></th>\n",
       "      <th></th>\n",
       "      <th></th>\n",
       "      <th></th>\n",
       "      <th></th>\n",
       "      <th></th>\n",
       "    </tr>\n",
       "  </thead>\n",
       "  <tbody>\n",
       "    <tr>\n",
       "      <th>F</th>\n",
       "      <td>90993</td>\n",
       "      <td>91955</td>\n",
       "      <td>107851</td>\n",
       "      <td>112322</td>\n",
       "      <td>129021</td>\n",
       "      <td>133056</td>\n",
       "      <td>144538</td>\n",
       "      <td>145983</td>\n",
       "      <td>178631</td>\n",
       "      <td>178369</td>\n",
       "      <td>190377</td>\n",
       "      <td>185486</td>\n",
       "      <td>212350</td>\n",
       "      <td>212908</td>\n",
       "      <td>222923</td>\n",
       "      <td>233632</td>\n",
       "      <td>237924</td>\n",
       "      <td>234199</td>\n",
       "      <td>258771</td>\n",
       "      <td>233022</td>\n",
       "      <td>299873</td>\n",
       "      <td>239351</td>\n",
       "      <td>264079</td>\n",
       "      <td>261976</td>\n",
       "      <td>275375</td>\n",
       "      <td>291641</td>\n",
       "      <td>295301</td>\n",
       "      <td>318558</td>\n",
       "      <td>334277</td>\n",
       "      <td>347191</td>\n",
       "      <td>...</td>\n",
       "      <td>1666833</td>\n",
       "      <td>1692036</td>\n",
       "      <td>1669486</td>\n",
       "      <td>1682396</td>\n",
       "      <td>1719450</td>\n",
       "      <td>1714053</td>\n",
       "      <td>1737508</td>\n",
       "      <td>1779112</td>\n",
       "      <td>1843057</td>\n",
       "      <td>1897256</td>\n",
       "      <td>1874110</td>\n",
       "      <td>1842818</td>\n",
       "      <td>1807795</td>\n",
       "      <td>1784407</td>\n",
       "      <td>1757240</td>\n",
       "      <td>1751681</td>\n",
       "      <td>1739331</td>\n",
       "      <td>1765390</td>\n",
       "      <td>1772139</td>\n",
       "      <td>1813960</td>\n",
       "      <td>1798284</td>\n",
       "      <td>1794358</td>\n",
       "      <td>1824406</td>\n",
       "      <td>1833005</td>\n",
       "      <td>1843890</td>\n",
       "      <td>1896468</td>\n",
       "      <td>1916888</td>\n",
       "      <td>1883645</td>\n",
       "      <td>1827643</td>\n",
       "      <td>1759010</td>\n",
       "    </tr>\n",
       "    <tr>\n",
       "      <th>M</th>\n",
       "      <td>110493</td>\n",
       "      <td>100748</td>\n",
       "      <td>113687</td>\n",
       "      <td>104632</td>\n",
       "      <td>114445</td>\n",
       "      <td>107802</td>\n",
       "      <td>110785</td>\n",
       "      <td>101412</td>\n",
       "      <td>120857</td>\n",
       "      <td>110590</td>\n",
       "      <td>111026</td>\n",
       "      <td>101198</td>\n",
       "      <td>122038</td>\n",
       "      <td>112319</td>\n",
       "      <td>115775</td>\n",
       "      <td>117398</td>\n",
       "      <td>119575</td>\n",
       "      <td>112760</td>\n",
       "      <td>122703</td>\n",
       "      <td>106218</td>\n",
       "      <td>150554</td>\n",
       "      <td>106478</td>\n",
       "      <td>122660</td>\n",
       "      <td>119240</td>\n",
       "      <td>128129</td>\n",
       "      <td>132319</td>\n",
       "      <td>133159</td>\n",
       "      <td>146838</td>\n",
       "      <td>154339</td>\n",
       "      <td>163983</td>\n",
       "      <td>...</td>\n",
       "      <td>1789568</td>\n",
       "      <td>1812642</td>\n",
       "      <td>1790670</td>\n",
       "      <td>1802735</td>\n",
       "      <td>1846162</td>\n",
       "      <td>1839442</td>\n",
       "      <td>1865113</td>\n",
       "      <td>1911858</td>\n",
       "      <td>1999840</td>\n",
       "      <td>2052070</td>\n",
       "      <td>2019018</td>\n",
       "      <td>1995760</td>\n",
       "      <td>1959712</td>\n",
       "      <td>1930363</td>\n",
       "      <td>1902100</td>\n",
       "      <td>1892700</td>\n",
       "      <td>1883571</td>\n",
       "      <td>1909676</td>\n",
       "      <td>1918267</td>\n",
       "      <td>1961702</td>\n",
       "      <td>1940498</td>\n",
       "      <td>1938941</td>\n",
       "      <td>1972439</td>\n",
       "      <td>1981557</td>\n",
       "      <td>1993285</td>\n",
       "      <td>2050234</td>\n",
       "      <td>2069242</td>\n",
       "      <td>2032310</td>\n",
       "      <td>1973359</td>\n",
       "      <td>1898382</td>\n",
       "    </tr>\n",
       "  </tbody>\n",
       "</table>\n",
       "<p>2 rows × 131 columns</p>\n",
       "</div>"
      ],
      "text/plain": [
       "year    1880    1881    1882    1883    1884    1885    1886    1887    1888    1889    1890    1891    1892    1893    1894    1895    1896    1897    1898    1899    1900    1901    1902    1903    1904    1905    1906    1907    1908    1909  ...     1981     1982     1983     1984     1985     1986     1987     1988     1989     1990     1991     1992     1993     1994     1995     1996     1997     1998     1999     2000     2001     2002     2003     2004     2005     2006     2007     2008     2009     2010\n",
       "sex                                                                                                                                                                                                                                                   ...                                                                                                                                                                                                                                                                              \n",
       "F      90993   91955  107851  112322  129021  133056  144538  145983  178631  178369  190377  185486  212350  212908  222923  233632  237924  234199  258771  233022  299873  239351  264079  261976  275375  291641  295301  318558  334277  347191  ...  1666833  1692036  1669486  1682396  1719450  1714053  1737508  1779112  1843057  1897256  1874110  1842818  1807795  1784407  1757240  1751681  1739331  1765390  1772139  1813960  1798284  1794358  1824406  1833005  1843890  1896468  1916888  1883645  1827643  1759010\n",
       "M     110493  100748  113687  104632  114445  107802  110785  101412  120857  110590  111026  101198  122038  112319  115775  117398  119575  112760  122703  106218  150554  106478  122660  119240  128129  132319  133159  146838  154339  163983  ...  1789568  1812642  1790670  1802735  1846162  1839442  1865113  1911858  1999840  2052070  2019018  1995760  1959712  1930363  1902100  1892700  1883571  1909676  1918267  1961702  1940498  1938941  1972439  1981557  1993285  2050234  2069242  2032310  1973359  1898382\n",
       "\n",
       "[2 rows x 131 columns]"
      ]
     },
     "execution_count": 77,
     "metadata": {},
     "output_type": "execute_result"
    }
   ],
   "source": [
    "total_births2"
   ]
  },
  {
   "cell_type": "markdown",
   "metadata": {},
   "source": [
    "And here is the same DataFrame using `crosstab`."
   ]
  },
  {
   "cell_type": "code",
   "execution_count": 78,
   "metadata": {
    "scrolled": true
   },
   "outputs": [
    {
     "data": {
      "text/html": [
       "<div>\n",
       "<style scoped>\n",
       "    .dataframe tbody tr th:only-of-type {\n",
       "        vertical-align: middle;\n",
       "    }\n",
       "\n",
       "    .dataframe tbody tr th {\n",
       "        vertical-align: top;\n",
       "    }\n",
       "\n",
       "    .dataframe thead th {\n",
       "        text-align: right;\n",
       "    }\n",
       "</style>\n",
       "<table border=\"1\" class=\"dataframe\">\n",
       "  <thead>\n",
       "    <tr style=\"text-align: right;\">\n",
       "      <th>year</th>\n",
       "      <th>1880</th>\n",
       "      <th>1881</th>\n",
       "      <th>1882</th>\n",
       "      <th>1883</th>\n",
       "      <th>1884</th>\n",
       "      <th>1885</th>\n",
       "      <th>1886</th>\n",
       "      <th>1887</th>\n",
       "      <th>1888</th>\n",
       "      <th>1889</th>\n",
       "      <th>1890</th>\n",
       "      <th>1891</th>\n",
       "      <th>1892</th>\n",
       "      <th>1893</th>\n",
       "      <th>1894</th>\n",
       "      <th>1895</th>\n",
       "      <th>1896</th>\n",
       "      <th>1897</th>\n",
       "      <th>1898</th>\n",
       "      <th>1899</th>\n",
       "      <th>1900</th>\n",
       "      <th>1901</th>\n",
       "      <th>1902</th>\n",
       "      <th>1903</th>\n",
       "      <th>1904</th>\n",
       "      <th>1905</th>\n",
       "      <th>1906</th>\n",
       "      <th>1907</th>\n",
       "      <th>1908</th>\n",
       "      <th>1909</th>\n",
       "      <th>...</th>\n",
       "      <th>1981</th>\n",
       "      <th>1982</th>\n",
       "      <th>1983</th>\n",
       "      <th>1984</th>\n",
       "      <th>1985</th>\n",
       "      <th>1986</th>\n",
       "      <th>1987</th>\n",
       "      <th>1988</th>\n",
       "      <th>1989</th>\n",
       "      <th>1990</th>\n",
       "      <th>1991</th>\n",
       "      <th>1992</th>\n",
       "      <th>1993</th>\n",
       "      <th>1994</th>\n",
       "      <th>1995</th>\n",
       "      <th>1996</th>\n",
       "      <th>1997</th>\n",
       "      <th>1998</th>\n",
       "      <th>1999</th>\n",
       "      <th>2000</th>\n",
       "      <th>2001</th>\n",
       "      <th>2002</th>\n",
       "      <th>2003</th>\n",
       "      <th>2004</th>\n",
       "      <th>2005</th>\n",
       "      <th>2006</th>\n",
       "      <th>2007</th>\n",
       "      <th>2008</th>\n",
       "      <th>2009</th>\n",
       "      <th>2010</th>\n",
       "    </tr>\n",
       "    <tr>\n",
       "      <th>sex</th>\n",
       "      <th></th>\n",
       "      <th></th>\n",
       "      <th></th>\n",
       "      <th></th>\n",
       "      <th></th>\n",
       "      <th></th>\n",
       "      <th></th>\n",
       "      <th></th>\n",
       "      <th></th>\n",
       "      <th></th>\n",
       "      <th></th>\n",
       "      <th></th>\n",
       "      <th></th>\n",
       "      <th></th>\n",
       "      <th></th>\n",
       "      <th></th>\n",
       "      <th></th>\n",
       "      <th></th>\n",
       "      <th></th>\n",
       "      <th></th>\n",
       "      <th></th>\n",
       "      <th></th>\n",
       "      <th></th>\n",
       "      <th></th>\n",
       "      <th></th>\n",
       "      <th></th>\n",
       "      <th></th>\n",
       "      <th></th>\n",
       "      <th></th>\n",
       "      <th></th>\n",
       "      <th></th>\n",
       "      <th></th>\n",
       "      <th></th>\n",
       "      <th></th>\n",
       "      <th></th>\n",
       "      <th></th>\n",
       "      <th></th>\n",
       "      <th></th>\n",
       "      <th></th>\n",
       "      <th></th>\n",
       "      <th></th>\n",
       "      <th></th>\n",
       "      <th></th>\n",
       "      <th></th>\n",
       "      <th></th>\n",
       "      <th></th>\n",
       "      <th></th>\n",
       "      <th></th>\n",
       "      <th></th>\n",
       "      <th></th>\n",
       "      <th></th>\n",
       "      <th></th>\n",
       "      <th></th>\n",
       "      <th></th>\n",
       "      <th></th>\n",
       "      <th></th>\n",
       "      <th></th>\n",
       "      <th></th>\n",
       "      <th></th>\n",
       "      <th></th>\n",
       "      <th></th>\n",
       "    </tr>\n",
       "  </thead>\n",
       "  <tbody>\n",
       "    <tr>\n",
       "      <th>F</th>\n",
       "      <td>90993</td>\n",
       "      <td>91955</td>\n",
       "      <td>107851</td>\n",
       "      <td>112322</td>\n",
       "      <td>129021</td>\n",
       "      <td>133056</td>\n",
       "      <td>144538</td>\n",
       "      <td>145983</td>\n",
       "      <td>178631</td>\n",
       "      <td>178369</td>\n",
       "      <td>190377</td>\n",
       "      <td>185486</td>\n",
       "      <td>212350</td>\n",
       "      <td>212908</td>\n",
       "      <td>222923</td>\n",
       "      <td>233632</td>\n",
       "      <td>237924</td>\n",
       "      <td>234199</td>\n",
       "      <td>258771</td>\n",
       "      <td>233022</td>\n",
       "      <td>299873</td>\n",
       "      <td>239351</td>\n",
       "      <td>264079</td>\n",
       "      <td>261976</td>\n",
       "      <td>275375</td>\n",
       "      <td>291641</td>\n",
       "      <td>295301</td>\n",
       "      <td>318558</td>\n",
       "      <td>334277</td>\n",
       "      <td>347191</td>\n",
       "      <td>...</td>\n",
       "      <td>1666833</td>\n",
       "      <td>1692036</td>\n",
       "      <td>1669486</td>\n",
       "      <td>1682396</td>\n",
       "      <td>1719450</td>\n",
       "      <td>1714053</td>\n",
       "      <td>1737508</td>\n",
       "      <td>1779112</td>\n",
       "      <td>1843057</td>\n",
       "      <td>1897256</td>\n",
       "      <td>1874110</td>\n",
       "      <td>1842818</td>\n",
       "      <td>1807795</td>\n",
       "      <td>1784407</td>\n",
       "      <td>1757240</td>\n",
       "      <td>1751681</td>\n",
       "      <td>1739331</td>\n",
       "      <td>1765390</td>\n",
       "      <td>1772139</td>\n",
       "      <td>1813960</td>\n",
       "      <td>1798284</td>\n",
       "      <td>1794358</td>\n",
       "      <td>1824406</td>\n",
       "      <td>1833005</td>\n",
       "      <td>1843890</td>\n",
       "      <td>1896468</td>\n",
       "      <td>1916888</td>\n",
       "      <td>1883645</td>\n",
       "      <td>1827643</td>\n",
       "      <td>1759010</td>\n",
       "    </tr>\n",
       "    <tr>\n",
       "      <th>M</th>\n",
       "      <td>110493</td>\n",
       "      <td>100748</td>\n",
       "      <td>113687</td>\n",
       "      <td>104632</td>\n",
       "      <td>114445</td>\n",
       "      <td>107802</td>\n",
       "      <td>110785</td>\n",
       "      <td>101412</td>\n",
       "      <td>120857</td>\n",
       "      <td>110590</td>\n",
       "      <td>111026</td>\n",
       "      <td>101198</td>\n",
       "      <td>122038</td>\n",
       "      <td>112319</td>\n",
       "      <td>115775</td>\n",
       "      <td>117398</td>\n",
       "      <td>119575</td>\n",
       "      <td>112760</td>\n",
       "      <td>122703</td>\n",
       "      <td>106218</td>\n",
       "      <td>150554</td>\n",
       "      <td>106478</td>\n",
       "      <td>122660</td>\n",
       "      <td>119240</td>\n",
       "      <td>128129</td>\n",
       "      <td>132319</td>\n",
       "      <td>133159</td>\n",
       "      <td>146838</td>\n",
       "      <td>154339</td>\n",
       "      <td>163983</td>\n",
       "      <td>...</td>\n",
       "      <td>1789568</td>\n",
       "      <td>1812642</td>\n",
       "      <td>1790670</td>\n",
       "      <td>1802735</td>\n",
       "      <td>1846162</td>\n",
       "      <td>1839442</td>\n",
       "      <td>1865113</td>\n",
       "      <td>1911858</td>\n",
       "      <td>1999840</td>\n",
       "      <td>2052070</td>\n",
       "      <td>2019018</td>\n",
       "      <td>1995760</td>\n",
       "      <td>1959712</td>\n",
       "      <td>1930363</td>\n",
       "      <td>1902100</td>\n",
       "      <td>1892700</td>\n",
       "      <td>1883571</td>\n",
       "      <td>1909676</td>\n",
       "      <td>1918267</td>\n",
       "      <td>1961702</td>\n",
       "      <td>1940498</td>\n",
       "      <td>1938941</td>\n",
       "      <td>1972439</td>\n",
       "      <td>1981557</td>\n",
       "      <td>1993285</td>\n",
       "      <td>2050234</td>\n",
       "      <td>2069242</td>\n",
       "      <td>2032310</td>\n",
       "      <td>1973359</td>\n",
       "      <td>1898382</td>\n",
       "    </tr>\n",
       "  </tbody>\n",
       "</table>\n",
       "<p>2 rows × 131 columns</p>\n",
       "</div>"
      ],
      "text/plain": [
       "year    1880    1881    1882    1883    1884    1885    1886    1887    1888    1889    1890    1891    1892    1893    1894    1895    1896    1897    1898    1899    1900    1901    1902    1903    1904    1905    1906    1907    1908    1909  ...     1981     1982     1983     1984     1985     1986     1987     1988     1989     1990     1991     1992     1993     1994     1995     1996     1997     1998     1999     2000     2001     2002     2003     2004     2005     2006     2007     2008     2009     2010\n",
       "sex                                                                                                                                                                                                                                                   ...                                                                                                                                                                                                                                                                              \n",
       "F      90993   91955  107851  112322  129021  133056  144538  145983  178631  178369  190377  185486  212350  212908  222923  233632  237924  234199  258771  233022  299873  239351  264079  261976  275375  291641  295301  318558  334277  347191  ...  1666833  1692036  1669486  1682396  1719450  1714053  1737508  1779112  1843057  1897256  1874110  1842818  1807795  1784407  1757240  1751681  1739331  1765390  1772139  1813960  1798284  1794358  1824406  1833005  1843890  1896468  1916888  1883645  1827643  1759010\n",
       "M     110493  100748  113687  104632  114445  107802  110785  101412  120857  110590  111026  101198  122038  112319  115775  117398  119575  112760  122703  106218  150554  106478  122660  119240  128129  132319  133159  146838  154339  163983  ...  1789568  1812642  1790670  1802735  1846162  1839442  1865113  1911858  1999840  2052070  2019018  1995760  1959712  1930363  1902100  1892700  1883571  1909676  1918267  1961702  1940498  1938941  1972439  1981557  1993285  2050234  2069242  2032310  1973359  1898382\n",
       "\n",
       "[2 rows x 131 columns]"
      ]
     },
     "execution_count": 78,
     "metadata": {},
     "output_type": "execute_result"
    }
   ],
   "source": [
    "# Specify sum as the aggregation function\n",
    "# and births as the numerical value column for sum to apply to\n",
    "ct_table = pd.crosstab(names['sex'],names['year'], values= names['births'],aggfunc='sum')\n",
    "ct_table"
   ]
  },
  {
   "cell_type": "markdown",
   "metadata": {},
   "source": [
    "It is somewhat a matter of taste which method to use when `crosstab` and\n",
    "`pivot_table` can create the same DataFrame, but the general convention\n",
    "is that it is clearer to use `pivot_table`, the more specific tool, to\n",
    "create what most people know as a pivot table."
   ]
  },
  {
   "cell_type": "markdown",
   "metadata": {
    "id": "H0Fm26upACZa"
   },
   "source": [
    "## Plotting"
   ]
  },
  {
   "cell_type": "markdown",
   "metadata": {
    "id": "O5IGXZ_6ACZb"
   },
   "source": [
    "All data frames have a `plot` method; for\n",
    "a simple DataFrame like a pivot table\n",
    "the the `plot` method draws a very simple picture. \n",
    "\n",
    "Consider plotting `total_births`, the pivot table created in a previous\n",
    "section.  Here's the DataFrame.  Note the index and the two columns:"
   ]
  },
  {
   "cell_type": "code",
   "execution_count": null,
   "metadata": {
    "colab": {
     "base_uri": "https://localhost:8080/"
    },
    "id": "p3MKOqI_ACZc",
    "outputId": "043cb8c2-20e3-4c97-e797-4639fa8fd7d7",
    "scrolled": true
   },
   "outputs": [
    {
     "data": {
      "text/html": [
       "<div>\n",
       "<style scoped>\n",
       "    .dataframe tbody tr th:only-of-type {\n",
       "        vertical-align: middle;\n",
       "    }\n",
       "\n",
       "    .dataframe tbody tr th {\n",
       "        vertical-align: top;\n",
       "    }\n",
       "\n",
       "    .dataframe thead th {\n",
       "        text-align: right;\n",
       "    }\n",
       "</style>\n",
       "<table border=\"1\" class=\"dataframe\">\n",
       "  <thead>\n",
       "    <tr style=\"text-align: right;\">\n",
       "      <th>sex</th>\n",
       "      <th>F</th>\n",
       "      <th>M</th>\n",
       "    </tr>\n",
       "    <tr>\n",
       "      <th>year</th>\n",
       "      <th></th>\n",
       "      <th></th>\n",
       "    </tr>\n",
       "  </thead>\n",
       "  <tbody>\n",
       "    <tr>\n",
       "      <th>1880</th>\n",
       "      <td>90993</td>\n",
       "      <td>110493</td>\n",
       "    </tr>\n",
       "    <tr>\n",
       "      <th>1881</th>\n",
       "      <td>91955</td>\n",
       "      <td>100748</td>\n",
       "    </tr>\n",
       "    <tr>\n",
       "      <th>1882</th>\n",
       "      <td>107851</td>\n",
       "      <td>113687</td>\n",
       "    </tr>\n",
       "    <tr>\n",
       "      <th>1883</th>\n",
       "      <td>112322</td>\n",
       "      <td>104632</td>\n",
       "    </tr>\n",
       "    <tr>\n",
       "      <th>1884</th>\n",
       "      <td>129021</td>\n",
       "      <td>114445</td>\n",
       "    </tr>\n",
       "    <tr>\n",
       "      <th>...</th>\n",
       "      <td>...</td>\n",
       "      <td>...</td>\n",
       "    </tr>\n",
       "    <tr>\n",
       "      <th>2006</th>\n",
       "      <td>1896468</td>\n",
       "      <td>2050234</td>\n",
       "    </tr>\n",
       "    <tr>\n",
       "      <th>2007</th>\n",
       "      <td>1916888</td>\n",
       "      <td>2069242</td>\n",
       "    </tr>\n",
       "    <tr>\n",
       "      <th>2008</th>\n",
       "      <td>1883645</td>\n",
       "      <td>2032310</td>\n",
       "    </tr>\n",
       "    <tr>\n",
       "      <th>2009</th>\n",
       "      <td>1827643</td>\n",
       "      <td>1973359</td>\n",
       "    </tr>\n",
       "    <tr>\n",
       "      <th>2010</th>\n",
       "      <td>1759010</td>\n",
       "      <td>1898382</td>\n",
       "    </tr>\n",
       "  </tbody>\n",
       "</table>\n",
       "<p>131 rows × 2 columns</p>\n",
       "</div>"
      ],
      "text/plain": [
       "sex         F        M\n",
       "year                  \n",
       "1880    90993   110493\n",
       "1881    91955   100748\n",
       "1882   107851   113687\n",
       "1883   112322   104632\n",
       "1884   129021   114445\n",
       "...       ...      ...\n",
       "2006  1896468  2050234\n",
       "2007  1916888  2069242\n",
       "2008  1883645  2032310\n",
       "2009  1827643  1973359\n",
       "2010  1759010  1898382\n",
       "\n",
       "[131 rows x 2 columns]"
      ]
     },
     "execution_count": 76,
     "metadata": {
      "tags": []
     },
     "output_type": "execute_result"
    }
   ],
   "source": [
    "total_births"
   ]
  },
  {
   "cell_type": "markdown",
   "metadata": {},
   "source": [
    "And here is the plot, which puts the index on the x-axis and plots the two columns\n",
    "as separate line plots."
   ]
  },
  {
   "cell_type": "code",
   "execution_count": null,
   "metadata": {
    "id": "8VtSRdzrACZb",
    "outputId": "badecea3-5793-4cba-c8b6-1af3937e8bec"
   },
   "outputs": [
    {
     "data": {
      "image/png": "[encoded data removed]",
      "text/plain": [
       "<Figure size 432x288 with 1 Axes>"
      ]
     },
     "metadata": {
      "tags": []
     },
     "output_type": "display_data"
    }
   ],
   "source": [
    "from matplotlib import pyplot as plt\n",
    "ax = total_births.plot(title='Total births by year') \n",
    "#plt.show()"
   ]
  },
  {
   "cell_type": "markdown",
   "metadata": {
    "id": "A5qu31VgACZd"
   },
   "source": [
    "## Alternative plotting script"
   ]
  },
  {
   "cell_type": "markdown",
   "metadata": {
    "id": "Q_jNJQaEACZe"
   },
   "source": [
    "The above graph is great and often what we want is just to take a quick look at the relationships in the data, and a data frame plot will do exactly the right thing with no customization.  It's helpful to know that `pandas` is using a Python package called `matplotlib` to draw the graph above, and we can do the same ourselves, with a lot more lines of code, but also with a lot more customization."
   ]
  },
  {
   "cell_type": "code",
   "execution_count": 79,
   "metadata": {
    "id": "mcbb1KPKACZe",
    "outputId": "5fde64fe-c8c0-4173-ac6b-99c12dac2dba"
   },
   "outputs": [
    {
     "data": {
      "image/png": "[encoded data removed]",
      "text/plain": [
       "<Figure size 576x576 with 1 Axes>"
      ]
     },
     "metadata": {
      "needs_background": "light"
     },
     "output_type": "display_data"
    }
   ],
   "source": [
    "import matplotlib.pyplot as plt\n",
    "fig = plt.figure(1,figsize=(8,8))\n",
    "ax1 = fig.add_subplot(111)\n",
    "fig.subplots_adjust(top=0.9,left=0.2)\n",
    "ax1.set_ylabel('births')\n",
    "\n",
    "ax1.set_xlabel('year')\n",
    "(p1,) = ax1.plot(total_births.index,total_births['F'],color='pink',label='F')\n",
    "(p2, ) = ax1.plot(total_births.index,total_births['M'],color='blue',label='M')\n",
    "ax1.set_title('Total births by sex and year')\n",
    "    \n",
    "ax1.legend((p2,p1),('M','F'),loc='upper left',title='sex')\n",
    "plt.show()"
   ]
  },
  {
   "cell_type": "markdown",
   "metadata": {},
   "source": [
    "The basic arguments of the `matplotlib.plot(...)` function are `x` and `y`\n",
    "which should be two sequences of the same length giving the x- and y- \n",
    "coordinates respectively of the plot. We can specify plot attributes like line\n",
    "style, color, and label (for use in the legend) for each line plotted. "
   ]
  },
  {
   "cell_type": "markdown",
   "metadata": {},
   "source": [
    "There are also other plot functions which could provide alternative views of the \n",
    "relationships.\n",
    "\n",
    "For example, we could do this as a bar plot.  Again"
   ]
  },
  {
   "cell_type": "code",
   "execution_count": 97,
   "metadata": {},
   "outputs": [
    {
     "data": {
      "image/png": "[encoded data removed]",
      "text/plain": [
       "<Figure size 576x576 with 1 Axes>"
      ]
     },
     "metadata": {
      "needs_background": "light"
     },
     "output_type": "display_data"
    }
   ],
   "source": [
    "import matplotlib.pyplot as plt\n",
    "fig = plt.figure(1,figsize=(8,8))\n",
    "ax1 = fig.add_subplot(111)\n",
    "fig.subplots_adjust(top=0.9,left=0.2)\n",
    "ax1.set_ylabel('births')\n",
    "\n",
    "ax1.set_xlabel('year')\n",
    "width=.1\n",
    "ax1.bar(total_births.index,total_births['F'],color='pink',label='F',width=width)\n",
    "ax1.bar(total_births.index+width,total_births['M'],color='blue',label='M',alpha=.1)\n",
    "ax1.set_title('Total births by sex and year')\n",
    "    \n",
    "ax1.legend(loc='upper left',title='sex')\n",
    "plt.show()"
   ]
  },
  {
   "cell_type": "markdown",
   "metadata": {
    "id": "X20Rq_OmACZi"
   },
   "source": [
    "# Complaints: a new dataset"
   ]
  },
  {
   "cell_type": "markdown",
   "metadata": {
    "id": "fpkhTFHxACZj"
   },
   "source": [
    "We're going to use a new dataset here, to demonstrate how to deal with larger datasets.\n",
    "And to think about how to apply what we've learned to a dataset with\n",
    "few numerical columns.\n",
    "\n",
    "The next cell provides a URL for a subset of the of 311 service requests from [NYC Open Data](https://nycopendata.socrata.com/Social-Services/311-Service-Requests-from-2010-to-Present/erm2-nwe9). "
   ]
  },
  {
   "cell_type": "code",
   "execution_count": 324,
   "metadata": {
    "id": "rx4BT-FWACZj",
    "outputId": "8a38defc-01f9-48a0-db86-bb4e2bf6baf9"
   },
   "outputs": [],
   "source": [
    "import os.path\n",
    "#How to break up long strings into multiline segments\n",
    "#Note the use of \"line continued\" character \\\n",
    "data_url = 'https://raw.githubusercontent.com/gawron/python-for-social-science/master/'\\\n",
    "'pandas/datasets/311-service-requests.csv'"
   ]
  },
  {
   "cell_type": "code",
   "execution_count": 325,
   "metadata": {},
   "outputs": [
    {
     "data": {
      "text/plain": [
       "'https://raw.githubusercontent.com/gawron/python-for-social-science/master/pandas/datasets/311-service-requests.csv'"
      ]
     },
     "execution_count": 325,
     "metadata": {},
     "output_type": "execute_result"
    }
   ],
   "source": [
    "data_url"
   ]
  },
  {
   "cell_type": "code",
   "execution_count": 326,
   "metadata": {
    "id": "9yl3hg44ACZl"
   },
   "outputs": [],
   "source": [
    "import pandas as pd\n",
    "# Some columns are of mixed types.  This is OK.  But we have to set \n",
    "# low_memory=False\n",
    "complaints = pd.read_csv(data_url,low_memory=False)"
   ]
  },
  {
   "cell_type": "code",
   "execution_count": 327,
   "metadata": {},
   "outputs": [
    {
     "name": "stdout",
     "output_type": "stream",
     "text": [
      "<class 'pandas.core.frame.DataFrame'>\n",
      "RangeIndex: 111069 entries, 0 to 111068\n",
      "Data columns (total 52 columns):\n",
      " #   Column                          Non-Null Count   Dtype  \n",
      "---  ------                          --------------   -----  \n",
      " 0   Unique Key                      111069 non-null  int64  \n",
      " 1   Created Date                    111069 non-null  object \n",
      " 2   Closed Date                     60270 non-null   object \n",
      " 3   Agency                          111069 non-null  object \n",
      " 4   Agency Name                     111069 non-null  object \n",
      " 5   Complaint Type                  111069 non-null  object \n",
      " 6   Descriptor                      110613 non-null  object \n",
      " 7   Location Type                   79022 non-null   object \n",
      " 8   Incident Zip                    98807 non-null   object \n",
      " 9   Incident Address                84441 non-null   object \n",
      " 10  Street Name                     84432 non-null   object \n",
      " 11  Cross Street 1                  84728 non-null   object \n",
      " 12  Cross Street 2                  84005 non-null   object \n",
      " 13  Intersection Street 1           19364 non-null   object \n",
      " 14  Intersection Street 2           19366 non-null   object \n",
      " 15  Address Type                    102247 non-null  object \n",
      " 16  City                            98854 non-null   object \n",
      " 17  Landmark                        95 non-null      object \n",
      " 18  Facility Type                   19104 non-null   object \n",
      " 19  Status                          111069 non-null  object \n",
      " 20  Due Date                        39239 non-null   object \n",
      " 21  Resolution Action Updated Date  96507 non-null   object \n",
      " 22  Community Board                 111069 non-null  object \n",
      " 23  Borough                         111069 non-null  object \n",
      " 24  X Coordinate (State Plane)      98143 non-null   float64\n",
      " 25  Y Coordinate (State Plane)      98143 non-null   float64\n",
      " 26  Park Facility Name              111069 non-null  object \n",
      " 27  Park Borough                    111069 non-null  object \n",
      " 28  School Name                     111069 non-null  object \n",
      " 29  School Number                   111048 non-null  object \n",
      " 30  School Region                   110524 non-null  object \n",
      " 31  School Code                     110524 non-null  object \n",
      " 32  School Phone Number             111069 non-null  object \n",
      " 33  School Address                  111069 non-null  object \n",
      " 34  School City                     111069 non-null  object \n",
      " 35  School State                    111069 non-null  object \n",
      " 36  School Zip                      111069 non-null  object \n",
      " 37  School Not Found                38984 non-null   object \n",
      " 38  School or Citywide Complaint    0 non-null       float64\n",
      " 39  Vehicle Type                    99 non-null      object \n",
      " 40  Taxi Company Borough            117 non-null     object \n",
      " 41  Taxi Pick Up Location           1059 non-null    object \n",
      " 42  Bridge Highway Name             185 non-null     object \n",
      " 43  Bridge Highway Direction        185 non-null     object \n",
      " 44  Road Ramp                       180 non-null     object \n",
      " 45  Bridge Highway Segment          219 non-null     object \n",
      " 46  Garage Lot Name                 49 non-null      object \n",
      " 47  Ferry Direction                 24 non-null      object \n",
      " 48  Ferry Terminal Name             70 non-null      object \n",
      " 49  Latitude                        98143 non-null   float64\n",
      " 50  Longitude                       98143 non-null   float64\n",
      " 51  Location                        98143 non-null   object \n",
      "dtypes: float64(5), int64(1), object(46)\n",
      "memory usage: 44.1+ MB\n"
     ]
    }
   ],
   "source": [
    "complaints.info()"
   ]
  },
  {
   "cell_type": "markdown",
   "metadata": {
    "id": "5pH0fWj-ACZn"
   },
   "source": [
    "Note that the `df.info()` summary shows how many non-null values there are in each column,\n",
    "so that you can see there are some columns with very few meaningful entries."
   ]
  },
  {
   "cell_type": "markdown",
   "metadata": {},
   "source": [
    "You can see null-entries in the first 5 rows: They are the entries printed out as `NaN`.\n",
    "\n",
    "`NaN` is short for \"Not a Number\".  It is the standard representation of an undefined result for a numerical calculation.  Here it is being used to mean \"No data entered here\";\n",
    "`NaN` is very commonly used with this meaning in pandas, even in columns that do not have a numerical type; we could, alternatively,  use Python `None` for this purpose."
   ]
  },
  {
   "cell_type": "code",
   "execution_count": 328,
   "metadata": {
    "id": "A_Vy_ZdEACZo",
    "outputId": "c80f7f8b-e6c0-4c86-c9fb-fd4cb090ef6c",
    "scrolled": true
   },
   "outputs": [
    {
     "data": {
      "text/html": [
       "<div>\n",
       "<style scoped>\n",
       "    .dataframe tbody tr th:only-of-type {\n",
       "        vertical-align: middle;\n",
       "    }\n",
       "\n",
       "    .dataframe tbody tr th {\n",
       "        vertical-align: top;\n",
       "    }\n",
       "\n",
       "    .dataframe thead th {\n",
       "        text-align: right;\n",
       "    }\n",
       "</style>\n",
       "<table border=\"1\" class=\"dataframe\">\n",
       "  <thead>\n",
       "    <tr style=\"text-align: right;\">\n",
       "      <th></th>\n",
       "      <th>Unique Key</th>\n",
       "      <th>Created Date</th>\n",
       "      <th>Closed Date</th>\n",
       "      <th>Agency</th>\n",
       "      <th>Agency Name</th>\n",
       "      <th>Complaint Type</th>\n",
       "      <th>Descriptor</th>\n",
       "      <th>Location Type</th>\n",
       "      <th>Incident Zip</th>\n",
       "      <th>Incident Address</th>\n",
       "      <th>Street Name</th>\n",
       "      <th>Cross Street 1</th>\n",
       "      <th>Cross Street 2</th>\n",
       "      <th>Intersection Street 1</th>\n",
       "      <th>Intersection Street 2</th>\n",
       "      <th>Address Type</th>\n",
       "      <th>City</th>\n",
       "      <th>Landmark</th>\n",
       "      <th>Facility Type</th>\n",
       "      <th>Status</th>\n",
       "      <th>Due Date</th>\n",
       "      <th>Resolution Action Updated Date</th>\n",
       "      <th>Community Board</th>\n",
       "      <th>Borough</th>\n",
       "      <th>X Coordinate (State Plane)</th>\n",
       "      <th>Y Coordinate (State Plane)</th>\n",
       "      <th>Park Facility Name</th>\n",
       "      <th>Park Borough</th>\n",
       "      <th>School Name</th>\n",
       "      <th>School Number</th>\n",
       "      <th>School Region</th>\n",
       "      <th>School Code</th>\n",
       "      <th>School Phone Number</th>\n",
       "      <th>School Address</th>\n",
       "      <th>School City</th>\n",
       "      <th>School State</th>\n",
       "      <th>School Zip</th>\n",
       "      <th>School Not Found</th>\n",
       "      <th>School or Citywide Complaint</th>\n",
       "      <th>Vehicle Type</th>\n",
       "      <th>Taxi Company Borough</th>\n",
       "      <th>Taxi Pick Up Location</th>\n",
       "      <th>Bridge Highway Name</th>\n",
       "      <th>Bridge Highway Direction</th>\n",
       "      <th>Road Ramp</th>\n",
       "      <th>Bridge Highway Segment</th>\n",
       "      <th>Garage Lot Name</th>\n",
       "      <th>Ferry Direction</th>\n",
       "      <th>Ferry Terminal Name</th>\n",
       "      <th>Latitude</th>\n",
       "      <th>Longitude</th>\n",
       "      <th>Location</th>\n",
       "    </tr>\n",
       "  </thead>\n",
       "  <tbody>\n",
       "    <tr>\n",
       "      <th>0</th>\n",
       "      <td>26589651</td>\n",
       "      <td>10/31/2013 02:08:41 AM</td>\n",
       "      <td>NaN</td>\n",
       "      <td>NYPD</td>\n",
       "      <td>New York City Police Department</td>\n",
       "      <td>Noise - Street/Sidewalk</td>\n",
       "      <td>Loud Talking</td>\n",
       "      <td>Street/Sidewalk</td>\n",
       "      <td>11432</td>\n",
       "      <td>90-03 169 STREET</td>\n",
       "      <td>169 STREET</td>\n",
       "      <td>90 AVENUE</td>\n",
       "      <td>91 AVENUE</td>\n",
       "      <td>NaN</td>\n",
       "      <td>NaN</td>\n",
       "      <td>ADDRESS</td>\n",
       "      <td>JAMAICA</td>\n",
       "      <td>NaN</td>\n",
       "      <td>Precinct</td>\n",
       "      <td>Assigned</td>\n",
       "      <td>10/31/2013 10:08:41 AM</td>\n",
       "      <td>10/31/2013 02:35:17 AM</td>\n",
       "      <td>12 QUEENS</td>\n",
       "      <td>QUEENS</td>\n",
       "      <td>1042027.0</td>\n",
       "      <td>197389.0</td>\n",
       "      <td>Unspecified</td>\n",
       "      <td>QUEENS</td>\n",
       "      <td>Unspecified</td>\n",
       "      <td>Unspecified</td>\n",
       "      <td>Unspecified</td>\n",
       "      <td>Unspecified</td>\n",
       "      <td>Unspecified</td>\n",
       "      <td>Unspecified</td>\n",
       "      <td>Unspecified</td>\n",
       "      <td>Unspecified</td>\n",
       "      <td>Unspecified</td>\n",
       "      <td>N</td>\n",
       "      <td>NaN</td>\n",
       "      <td>NaN</td>\n",
       "      <td>NaN</td>\n",
       "      <td>NaN</td>\n",
       "      <td>NaN</td>\n",
       "      <td>NaN</td>\n",
       "      <td>NaN</td>\n",
       "      <td>NaN</td>\n",
       "      <td>NaN</td>\n",
       "      <td>NaN</td>\n",
       "      <td>NaN</td>\n",
       "      <td>40.708275</td>\n",
       "      <td>-73.791604</td>\n",
       "      <td>(40.70827532593202, -73.79160395779721)</td>\n",
       "    </tr>\n",
       "    <tr>\n",
       "      <th>1</th>\n",
       "      <td>26593698</td>\n",
       "      <td>10/31/2013 02:01:04 AM</td>\n",
       "      <td>NaN</td>\n",
       "      <td>NYPD</td>\n",
       "      <td>New York City Police Department</td>\n",
       "      <td>Illegal Parking</td>\n",
       "      <td>Commercial Overnight Parking</td>\n",
       "      <td>Street/Sidewalk</td>\n",
       "      <td>11378</td>\n",
       "      <td>58 AVENUE</td>\n",
       "      <td>58 AVENUE</td>\n",
       "      <td>58 PLACE</td>\n",
       "      <td>59 STREET</td>\n",
       "      <td>NaN</td>\n",
       "      <td>NaN</td>\n",
       "      <td>BLOCKFACE</td>\n",
       "      <td>MASPETH</td>\n",
       "      <td>NaN</td>\n",
       "      <td>Precinct</td>\n",
       "      <td>Open</td>\n",
       "      <td>10/31/2013 10:01:04 AM</td>\n",
       "      <td>NaN</td>\n",
       "      <td>05 QUEENS</td>\n",
       "      <td>QUEENS</td>\n",
       "      <td>1009349.0</td>\n",
       "      <td>201984.0</td>\n",
       "      <td>Unspecified</td>\n",
       "      <td>QUEENS</td>\n",
       "      <td>Unspecified</td>\n",
       "      <td>Unspecified</td>\n",
       "      <td>Unspecified</td>\n",
       "      <td>Unspecified</td>\n",
       "      <td>Unspecified</td>\n",
       "      <td>Unspecified</td>\n",
       "      <td>Unspecified</td>\n",
       "      <td>Unspecified</td>\n",
       "      <td>Unspecified</td>\n",
       "      <td>N</td>\n",
       "      <td>NaN</td>\n",
       "      <td>NaN</td>\n",
       "      <td>NaN</td>\n",
       "      <td>NaN</td>\n",
       "      <td>NaN</td>\n",
       "      <td>NaN</td>\n",
       "      <td>NaN</td>\n",
       "      <td>NaN</td>\n",
       "      <td>NaN</td>\n",
       "      <td>NaN</td>\n",
       "      <td>NaN</td>\n",
       "      <td>40.721041</td>\n",
       "      <td>-73.909453</td>\n",
       "      <td>(40.721040535628305, -73.90945306791765)</td>\n",
       "    </tr>\n",
       "    <tr>\n",
       "      <th>2</th>\n",
       "      <td>26594139</td>\n",
       "      <td>10/31/2013 02:00:24 AM</td>\n",
       "      <td>10/31/2013 02:40:32 AM</td>\n",
       "      <td>NYPD</td>\n",
       "      <td>New York City Police Department</td>\n",
       "      <td>Noise - Commercial</td>\n",
       "      <td>Loud Music/Party</td>\n",
       "      <td>Club/Bar/Restaurant</td>\n",
       "      <td>10032</td>\n",
       "      <td>4060 BROADWAY</td>\n",
       "      <td>BROADWAY</td>\n",
       "      <td>WEST 171 STREET</td>\n",
       "      <td>WEST 172 STREET</td>\n",
       "      <td>NaN</td>\n",
       "      <td>NaN</td>\n",
       "      <td>ADDRESS</td>\n",
       "      <td>NEW YORK</td>\n",
       "      <td>NaN</td>\n",
       "      <td>Precinct</td>\n",
       "      <td>Closed</td>\n",
       "      <td>10/31/2013 10:00:24 AM</td>\n",
       "      <td>10/31/2013 02:39:42 AM</td>\n",
       "      <td>12 MANHATTAN</td>\n",
       "      <td>MANHATTAN</td>\n",
       "      <td>1001088.0</td>\n",
       "      <td>246531.0</td>\n",
       "      <td>Unspecified</td>\n",
       "      <td>MANHATTAN</td>\n",
       "      <td>Unspecified</td>\n",
       "      <td>Unspecified</td>\n",
       "      <td>Unspecified</td>\n",
       "      <td>Unspecified</td>\n",
       "      <td>Unspecified</td>\n",
       "      <td>Unspecified</td>\n",
       "      <td>Unspecified</td>\n",
       "      <td>Unspecified</td>\n",
       "      <td>Unspecified</td>\n",
       "      <td>N</td>\n",
       "      <td>NaN</td>\n",
       "      <td>NaN</td>\n",
       "      <td>NaN</td>\n",
       "      <td>NaN</td>\n",
       "      <td>NaN</td>\n",
       "      <td>NaN</td>\n",
       "      <td>NaN</td>\n",
       "      <td>NaN</td>\n",
       "      <td>NaN</td>\n",
       "      <td>NaN</td>\n",
       "      <td>NaN</td>\n",
       "      <td>40.843330</td>\n",
       "      <td>-73.939144</td>\n",
       "      <td>(40.84332975466513, -73.93914371913482)</td>\n",
       "    </tr>\n",
       "    <tr>\n",
       "      <th>3</th>\n",
       "      <td>26595721</td>\n",
       "      <td>10/31/2013 01:56:23 AM</td>\n",
       "      <td>10/31/2013 02:21:48 AM</td>\n",
       "      <td>NYPD</td>\n",
       "      <td>New York City Police Department</td>\n",
       "      <td>Noise - Vehicle</td>\n",
       "      <td>Car/Truck Horn</td>\n",
       "      <td>Street/Sidewalk</td>\n",
       "      <td>10023</td>\n",
       "      <td>WEST 72 STREET</td>\n",
       "      <td>WEST 72 STREET</td>\n",
       "      <td>COLUMBUS AVENUE</td>\n",
       "      <td>AMSTERDAM AVENUE</td>\n",
       "      <td>NaN</td>\n",
       "      <td>NaN</td>\n",
       "      <td>BLOCKFACE</td>\n",
       "      <td>NEW YORK</td>\n",
       "      <td>NaN</td>\n",
       "      <td>Precinct</td>\n",
       "      <td>Closed</td>\n",
       "      <td>10/31/2013 09:56:23 AM</td>\n",
       "      <td>10/31/2013 02:21:10 AM</td>\n",
       "      <td>07 MANHATTAN</td>\n",
       "      <td>MANHATTAN</td>\n",
       "      <td>989730.0</td>\n",
       "      <td>222727.0</td>\n",
       "      <td>Unspecified</td>\n",
       "      <td>MANHATTAN</td>\n",
       "      <td>Unspecified</td>\n",
       "      <td>Unspecified</td>\n",
       "      <td>Unspecified</td>\n",
       "      <td>Unspecified</td>\n",
       "      <td>Unspecified</td>\n",
       "      <td>Unspecified</td>\n",
       "      <td>Unspecified</td>\n",
       "      <td>Unspecified</td>\n",
       "      <td>Unspecified</td>\n",
       "      <td>N</td>\n",
       "      <td>NaN</td>\n",
       "      <td>NaN</td>\n",
       "      <td>NaN</td>\n",
       "      <td>NaN</td>\n",
       "      <td>NaN</td>\n",
       "      <td>NaN</td>\n",
       "      <td>NaN</td>\n",
       "      <td>NaN</td>\n",
       "      <td>NaN</td>\n",
       "      <td>NaN</td>\n",
       "      <td>NaN</td>\n",
       "      <td>40.778009</td>\n",
       "      <td>-73.980213</td>\n",
       "      <td>(40.7780087446372, -73.98021349023975)</td>\n",
       "    </tr>\n",
       "    <tr>\n",
       "      <th>4</th>\n",
       "      <td>26590930</td>\n",
       "      <td>10/31/2013 01:53:44 AM</td>\n",
       "      <td>NaN</td>\n",
       "      <td>DOHMH</td>\n",
       "      <td>Department of Health and Mental Hygiene</td>\n",
       "      <td>Rodent</td>\n",
       "      <td>Condition Attracting Rodents</td>\n",
       "      <td>Vacant Lot</td>\n",
       "      <td>10027</td>\n",
       "      <td>WEST 124 STREET</td>\n",
       "      <td>WEST 124 STREET</td>\n",
       "      <td>LENOX AVENUE</td>\n",
       "      <td>ADAM CLAYTON POWELL JR BOULEVARD</td>\n",
       "      <td>NaN</td>\n",
       "      <td>NaN</td>\n",
       "      <td>BLOCKFACE</td>\n",
       "      <td>NEW YORK</td>\n",
       "      <td>NaN</td>\n",
       "      <td>NaN</td>\n",
       "      <td>Pending</td>\n",
       "      <td>11/30/2013 01:53:44 AM</td>\n",
       "      <td>10/31/2013 01:59:54 AM</td>\n",
       "      <td>10 MANHATTAN</td>\n",
       "      <td>MANHATTAN</td>\n",
       "      <td>998815.0</td>\n",
       "      <td>233545.0</td>\n",
       "      <td>Unspecified</td>\n",
       "      <td>MANHATTAN</td>\n",
       "      <td>Unspecified</td>\n",
       "      <td>Unspecified</td>\n",
       "      <td>Unspecified</td>\n",
       "      <td>Unspecified</td>\n",
       "      <td>Unspecified</td>\n",
       "      <td>Unspecified</td>\n",
       "      <td>Unspecified</td>\n",
       "      <td>Unspecified</td>\n",
       "      <td>Unspecified</td>\n",
       "      <td>N</td>\n",
       "      <td>NaN</td>\n",
       "      <td>NaN</td>\n",
       "      <td>NaN</td>\n",
       "      <td>NaN</td>\n",
       "      <td>NaN</td>\n",
       "      <td>NaN</td>\n",
       "      <td>NaN</td>\n",
       "      <td>NaN</td>\n",
       "      <td>NaN</td>\n",
       "      <td>NaN</td>\n",
       "      <td>NaN</td>\n",
       "      <td>40.807691</td>\n",
       "      <td>-73.947387</td>\n",
       "      <td>(40.80769092704951, -73.94738703491433)</td>\n",
       "    </tr>\n",
       "  </tbody>\n",
       "</table>\n",
       "</div>"
      ],
      "text/plain": [
       "   Unique Key            Created Date             Closed Date Agency                              Agency Name           Complaint Type                    Descriptor        Location Type Incident Zip  Incident Address      Street Name   Cross Street 1                    Cross Street 2 Intersection Street 1 Intersection Street 2 Address Type      City Landmark Facility Type    Status                Due Date Resolution Action Updated Date Community Board    Borough  X Coordinate (State Plane)  Y Coordinate (State Plane) Park Facility Name Park Borough  School Name School Number School Region  School Code School Phone Number School Address  School City School State   School Zip School Not Found  School or Citywide Complaint Vehicle Type Taxi Company Borough Taxi Pick Up Location Bridge Highway Name Bridge Highway Direction Road Ramp Bridge Highway Segment Garage Lot Name Ferry Direction Ferry Terminal Name   Latitude  Longitude                                  Location\n",
       "0    26589651  10/31/2013 02:08:41 AM                     NaN   NYPD          New York City Police Department  Noise - Street/Sidewalk                  Loud Talking      Street/Sidewalk        11432  90-03 169 STREET       169 STREET        90 AVENUE                         91 AVENUE                   NaN                   NaN      ADDRESS   JAMAICA      NaN      Precinct  Assigned  10/31/2013 10:08:41 AM         10/31/2013 02:35:17 AM       12 QUEENS     QUEENS                   1042027.0                    197389.0        Unspecified       QUEENS  Unspecified   Unspecified   Unspecified  Unspecified         Unspecified    Unspecified  Unspecified  Unspecified  Unspecified                N                           NaN          NaN                  NaN                   NaN                 NaN                      NaN       NaN                    NaN             NaN             NaN                 NaN  40.708275 -73.791604   (40.70827532593202, -73.79160395779721)\n",
       "1    26593698  10/31/2013 02:01:04 AM                     NaN   NYPD          New York City Police Department          Illegal Parking  Commercial Overnight Parking      Street/Sidewalk        11378         58 AVENUE        58 AVENUE         58 PLACE                         59 STREET                   NaN                   NaN    BLOCKFACE   MASPETH      NaN      Precinct      Open  10/31/2013 10:01:04 AM                            NaN       05 QUEENS     QUEENS                   1009349.0                    201984.0        Unspecified       QUEENS  Unspecified   Unspecified   Unspecified  Unspecified         Unspecified    Unspecified  Unspecified  Unspecified  Unspecified                N                           NaN          NaN                  NaN                   NaN                 NaN                      NaN       NaN                    NaN             NaN             NaN                 NaN  40.721041 -73.909453  (40.721040535628305, -73.90945306791765)\n",
       "2    26594139  10/31/2013 02:00:24 AM  10/31/2013 02:40:32 AM   NYPD          New York City Police Department       Noise - Commercial              Loud Music/Party  Club/Bar/Restaurant        10032     4060 BROADWAY         BROADWAY  WEST 171 STREET                   WEST 172 STREET                   NaN                   NaN      ADDRESS  NEW YORK      NaN      Precinct    Closed  10/31/2013 10:00:24 AM         10/31/2013 02:39:42 AM    12 MANHATTAN  MANHATTAN                   1001088.0                    246531.0        Unspecified    MANHATTAN  Unspecified   Unspecified   Unspecified  Unspecified         Unspecified    Unspecified  Unspecified  Unspecified  Unspecified                N                           NaN          NaN                  NaN                   NaN                 NaN                      NaN       NaN                    NaN             NaN             NaN                 NaN  40.843330 -73.939144   (40.84332975466513, -73.93914371913482)\n",
       "3    26595721  10/31/2013 01:56:23 AM  10/31/2013 02:21:48 AM   NYPD          New York City Police Department          Noise - Vehicle                Car/Truck Horn      Street/Sidewalk        10023    WEST 72 STREET   WEST 72 STREET  COLUMBUS AVENUE                  AMSTERDAM AVENUE                   NaN                   NaN    BLOCKFACE  NEW YORK      NaN      Precinct    Closed  10/31/2013 09:56:23 AM         10/31/2013 02:21:10 AM    07 MANHATTAN  MANHATTAN                    989730.0                    222727.0        Unspecified    MANHATTAN  Unspecified   Unspecified   Unspecified  Unspecified         Unspecified    Unspecified  Unspecified  Unspecified  Unspecified                N                           NaN          NaN                  NaN                   NaN                 NaN                      NaN       NaN                    NaN             NaN             NaN                 NaN  40.778009 -73.980213    (40.7780087446372, -73.98021349023975)\n",
       "4    26590930  10/31/2013 01:53:44 AM                     NaN  DOHMH  Department of Health and Mental Hygiene                   Rodent  Condition Attracting Rodents           Vacant Lot        10027   WEST 124 STREET  WEST 124 STREET     LENOX AVENUE  ADAM CLAYTON POWELL JR BOULEVARD                   NaN                   NaN    BLOCKFACE  NEW YORK      NaN           NaN   Pending  11/30/2013 01:53:44 AM         10/31/2013 01:59:54 AM    10 MANHATTAN  MANHATTAN                    998815.0                    233545.0        Unspecified    MANHATTAN  Unspecified   Unspecified   Unspecified  Unspecified         Unspecified    Unspecified  Unspecified  Unspecified  Unspecified                N                           NaN          NaN                  NaN                   NaN                 NaN                      NaN       NaN                    NaN             NaN             NaN                 NaN  40.807691 -73.947387   (40.80769092704951, -73.94738703491433)"
      ]
     },
     "execution_count": 328,
     "metadata": {},
     "output_type": "execute_result"
    }
   ],
   "source": [
    "complaints[:5]"
   ]
  },
  {
   "cell_type": "markdown",
   "metadata": {
    "id": "K-4cvYzaACZp"
   },
   "source": [
    "# 2.2 Selecting columns and rows"
   ]
  },
  {
   "cell_type": "markdown",
   "metadata": {
    "id": "F59rDdYJACZp"
   },
   "source": [
    "As before we can select a column, by indexing with the name of the column:"
   ]
  },
  {
   "cell_type": "code",
   "execution_count": 253,
   "metadata": {
    "id": "CFPHNkwKACZq",
    "outputId": "87c8a741-11d7-4be5-ff0a-bd0358ebc82d"
   },
   "outputs": [
    {
     "data": {
      "text/plain": [
       "0         Noise - Street/Sidewalk\n",
       "1                 Illegal Parking\n",
       "2              Noise - Commercial\n",
       "3                 Noise - Vehicle\n",
       "4                          Rodent\n",
       "                   ...           \n",
       "111064    Maintenance or Facility\n",
       "111065            Illegal Parking\n",
       "111066    Noise - Street/Sidewalk\n",
       "111067         Noise - Commercial\n",
       "111068           Blocked Driveway\n",
       "Name: Complaint Type, Length: 111069, dtype: object"
      ]
     },
     "execution_count": 253,
     "metadata": {},
     "output_type": "execute_result"
    }
   ],
   "source": [
    "complaints['Complaint Type']"
   ]
  },
  {
   "cell_type": "markdown",
   "metadata": {
    "id": "pwhzRhCrACZr"
   },
   "source": [
    "As above we select rows by constructing Boolean Series:"
   ]
  },
  {
   "cell_type": "code",
   "execution_count": 258,
   "metadata": {
    "id": "e31qGYaYACZr",
    "outputId": "325dd6b3-db16-44c2-cd67-a317c4431b85"
   },
   "outputs": [
    {
     "data": {
      "text/plain": [
       "0     True\n",
       "1     True\n",
       "2     True\n",
       "3     True\n",
       "4    False\n",
       "5     True\n",
       "6     True\n",
       "7     True\n",
       "8     True\n",
       "9     True\n",
       "Name: Agency, dtype: bool"
      ]
     },
     "execution_count": 258,
     "metadata": {},
     "output_type": "execute_result"
    }
   ],
   "source": [
    "nypd_bool = (complaints['Agency'] == 'NYPD')\n",
    "nypd_bool[:10]"
   ]
  },
  {
   "cell_type": "markdown",
   "metadata": {},
   "source": [
    "We construct a sub frame that has only Police Department complaints."
   ]
  },
  {
   "cell_type": "code",
   "execution_count": 259,
   "metadata": {
    "id": "2mlBGkRQACZu"
   },
   "outputs": [],
   "source": [
    "nypd_df = complaints[nypd_bool]"
   ]
  },
  {
   "cell_type": "markdown",
   "metadata": {},
   "source": [
    "But there are 20 kinds of PD complaints in this data."
   ]
  },
  {
   "cell_type": "code",
   "execution_count": 275,
   "metadata": {},
   "outputs": [
    {
     "data": {
      "text/plain": [
       "{'Animal Abuse',\n",
       " 'Bike/Roller/Skate Chronic',\n",
       " 'Blocked Driveway',\n",
       " 'Derelict Vehicle',\n",
       " 'Disorderly Youth',\n",
       " 'Drinking',\n",
       " 'Graffiti',\n",
       " 'Homeless Encampment',\n",
       " 'Illegal Fireworks',\n",
       " 'Illegal Parking',\n",
       " 'Noise - Commercial',\n",
       " 'Noise - House of Worship',\n",
       " 'Noise - Park',\n",
       " 'Noise - Street/Sidewalk',\n",
       " 'Noise - Vehicle',\n",
       " 'Panhandling',\n",
       " 'Posting Advertisement',\n",
       " 'Traffic',\n",
       " 'Urinating in Public',\n",
       " 'Vending'}"
      ]
     },
     "execution_count": 275,
     "metadata": {},
     "output_type": "execute_result"
    }
   ],
   "source": [
    "complaint_set = set(nypd_df['Complaint Type'].astype(str))\n",
    "complaint_set"
   ]
  },
  {
   "cell_type": "markdown",
   "metadata": {},
   "source": [
    "So we limit it further:"
   ]
  },
  {
   "cell_type": "code",
   "execution_count": 262,
   "metadata": {
    "id": "WJedEo4iACZy"
   },
   "outputs": [],
   "source": [
    "il_df = nypd_df[nypd_df['Complaint Type'] == 'Illegal Parking']"
   ]
  },
  {
   "cell_type": "markdown",
   "metadata": {},
   "source": [
    "More constraints means progressively smaller DataFrames:"
   ]
  },
  {
   "cell_type": "code",
   "execution_count": 266,
   "metadata": {
    "id": "83DWkwynACZz",
    "outputId": "ea4b0c19-ddf1-40c1-a8b4-88b0803ceb02"
   },
   "outputs": [
    {
     "data": {
      "text/plain": [
       "(111069, 15295, 3343)"
      ]
     },
     "execution_count": 266,
     "metadata": {},
     "output_type": "execute_result"
    }
   ],
   "source": [
    "(len(complaints), len(nypd_df), len(il_df))"
   ]
  },
  {
   "cell_type": "markdown",
   "metadata": {},
   "source": [
    "### Attribute syntax versus indexing syntax"
   ]
  },
  {
   "cell_type": "markdown",
   "metadata": {},
   "source": [
    "Note that columns can also be specified using instance/attribute syntax, as in:"
   ]
  },
  {
   "cell_type": "code",
   "execution_count": 276,
   "metadata": {
    "id": "60nXx3buACZ4",
    "outputId": "c071cd7f-9037-4d60-e993-e78b94ae8028"
   },
   "outputs": [
    {
     "data": {
      "text/plain": [
       "0          NYPD\n",
       "1          NYPD\n",
       "2          NYPD\n",
       "3          NYPD\n",
       "4         DOHMH\n",
       "          ...  \n",
       "111064      DPR\n",
       "111065     NYPD\n",
       "111066     NYPD\n",
       "111067     NYPD\n",
       "111068     NYPD\n",
       "Name: Agency, Length: 111069, dtype: object"
      ]
     },
     "execution_count": 276,
     "metadata": {},
     "output_type": "execute_result"
    }
   ],
   "source": [
    "complaints.Agency"
   ]
  },
  {
   "cell_type": "markdown",
   "metadata": {
    "id": "USLVobuPACZ5"
   },
   "source": [
    "But also note that doesnt work for the column name `Complaint Type`; because this has a space,\n",
    "trying to use it as an attribute raises a `SyntaxError`: No Python name can contain\n",
    "a space; that includes attribute names."
   ]
  },
  {
   "cell_type": "code",
   "execution_count": 279,
   "metadata": {
    "id": "65vSEsfAACZ5",
    "outputId": "e30eb20a-6cf6-4e50-8305-e29414fd758f"
   },
   "outputs": [
    {
     "ename": "SyntaxError",
     "evalue": "invalid syntax (2805497044.py, line 1)",
     "output_type": "error",
     "traceback": [
      "\u001b[0;36m  File \u001b[0;32m\"/var/folders/_q/2s1hy5bx1l7f9j1lw9zjgt19_wb463/T/ipykernel_64611/2805497044.py\"\u001b[0;36m, line \u001b[0;32m1\u001b[0m\n\u001b[0;31m    complaints.Complaint Type\u001b[0m\n\u001b[0m                            ^\u001b[0m\n\u001b[0;31mSyntaxError\u001b[0m\u001b[0;31m:\u001b[0m invalid syntax\n"
     ]
    }
   ],
   "source": [
    "complaints.Complaint Type"
   ]
  },
  {
   "cell_type": "markdown",
   "metadata": {
    "id": "USLVobuPACZ5"
   },
   "source": [
    "So the general Python syntax for indexing a container (square bracket syntax) \n",
    "\n",
    "```\n",
    "complaints['Complaint Type']\n",
    "```\n",
    "\n",
    "is the one to remember."
   ]
  },
  {
   "cell_type": "markdown",
   "metadata": {},
   "source": [
    "The indexing syntax is also the one that extends to accommodate\n",
    "selection of multiple columns, using the fancy-indexing convention from `numpy`\n",
    "(index via an arbitrary sequence of indices)."
   ]
  },
  {
   "cell_type": "code",
   "execution_count": null,
   "metadata": {
    "id": "wsd7Qtm9ACaA",
    "outputId": "b76c5859-facc-41cc-80a1-8f91098048a3"
   },
   "outputs": [
    {
     "data": {
      "text/html": [
       "<div>\n",
       "<style scoped>\n",
       "    .dataframe tbody tr th:only-of-type {\n",
       "        vertical-align: middle;\n",
       "    }\n",
       "\n",
       "    .dataframe tbody tr th {\n",
       "        vertical-align: top;\n",
       "    }\n",
       "\n",
       "    .dataframe thead th {\n",
       "        text-align: right;\n",
       "    }\n",
       "</style>\n",
       "<table border=\"1\" class=\"dataframe\">\n",
       "  <thead>\n",
       "    <tr style=\"text-align: right;\">\n",
       "      <th></th>\n",
       "      <th>Complaint Type</th>\n",
       "      <th>Borough</th>\n",
       "    </tr>\n",
       "  </thead>\n",
       "  <tbody>\n",
       "    <tr>\n",
       "      <th>0</th>\n",
       "      <td>Noise - Street/Sidewalk</td>\n",
       "      <td>QUEENS</td>\n",
       "    </tr>\n",
       "    <tr>\n",
       "      <th>1</th>\n",
       "      <td>Illegal Parking</td>\n",
       "      <td>QUEENS</td>\n",
       "    </tr>\n",
       "    <tr>\n",
       "      <th>2</th>\n",
       "      <td>Noise - Commercial</td>\n",
       "      <td>MANHATTAN</td>\n",
       "    </tr>\n",
       "    <tr>\n",
       "      <th>3</th>\n",
       "      <td>Noise - Vehicle</td>\n",
       "      <td>MANHATTAN</td>\n",
       "    </tr>\n",
       "    <tr>\n",
       "      <th>4</th>\n",
       "      <td>Rodent</td>\n",
       "      <td>MANHATTAN</td>\n",
       "    </tr>\n",
       "    <tr>\n",
       "      <th>5</th>\n",
       "      <td>Noise - Commercial</td>\n",
       "      <td>QUEENS</td>\n",
       "    </tr>\n",
       "    <tr>\n",
       "      <th>6</th>\n",
       "      <td>Blocked Driveway</td>\n",
       "      <td>QUEENS</td>\n",
       "    </tr>\n",
       "    <tr>\n",
       "      <th>7</th>\n",
       "      <td>Noise - Commercial</td>\n",
       "      <td>QUEENS</td>\n",
       "    </tr>\n",
       "    <tr>\n",
       "      <th>8</th>\n",
       "      <td>Noise - Commercial</td>\n",
       "      <td>MANHATTAN</td>\n",
       "    </tr>\n",
       "    <tr>\n",
       "      <th>9</th>\n",
       "      <td>Noise - Commercial</td>\n",
       "      <td>BROOKLYN</td>\n",
       "    </tr>\n",
       "  </tbody>\n",
       "</table>\n",
       "</div>"
      ],
      "text/plain": [
       "            Complaint Type    Borough\n",
       "0  Noise - Street/Sidewalk     QUEENS\n",
       "1          Illegal Parking     QUEENS\n",
       "2       Noise - Commercial  MANHATTAN\n",
       "3          Noise - Vehicle  MANHATTAN\n",
       "4                   Rodent  MANHATTAN\n",
       "5       Noise - Commercial     QUEENS\n",
       "6         Blocked Driveway     QUEENS\n",
       "7       Noise - Commercial     QUEENS\n",
       "8       Noise - Commercial  MANHATTAN\n",
       "9       Noise - Commercial   BROOKLYN"
      ]
     },
     "execution_count": 64,
     "metadata": {
      "tags": []
     },
     "output_type": "execute_result"
    }
   ],
   "source": [
    "complaints[['Complaint Type', 'Borough']][:10]"
   ]
  },
  {
   "cell_type": "markdown",
   "metadata": {},
   "source": [
    "Narrowing down the set of columns is a common step, especially important\n",
    "when performing further analytical caulculations like pivot tables."
   ]
  },
  {
   "cell_type": "markdown",
   "metadata": {},
   "source": [
    "### Using crosstab"
   ]
  },
  {
   "cell_type": "markdown",
   "metadata": {},
   "source": [
    "**Complaints Problem A**: For each complaint type, find its frequency in each borough.\n",
    "\n",
    "This is a cross-tabulation question: We use `crosstab` to get the joint distribution counts for  two attributes.  "
   ]
  },
  {
   "cell_type": "code",
   "execution_count": 290,
   "metadata": {
    "scrolled": true
   },
   "outputs": [
    {
     "data": {
      "text/html": [
       "<div>\n",
       "<style scoped>\n",
       "    .dataframe tbody tr th:only-of-type {\n",
       "        vertical-align: middle;\n",
       "    }\n",
       "\n",
       "    .dataframe tbody tr th {\n",
       "        vertical-align: top;\n",
       "    }\n",
       "\n",
       "    .dataframe thead th {\n",
       "        text-align: right;\n",
       "    }\n",
       "</style>\n",
       "<table border=\"1\" class=\"dataframe\">\n",
       "  <thead>\n",
       "    <tr style=\"text-align: right;\">\n",
       "      <th>Borough</th>\n",
       "      <th>BRONX</th>\n",
       "      <th>BROOKLYN</th>\n",
       "      <th>MANHATTAN</th>\n",
       "      <th>QUEENS</th>\n",
       "      <th>STATEN ISLAND</th>\n",
       "      <th>Unspecified</th>\n",
       "    </tr>\n",
       "    <tr>\n",
       "      <th>Agency</th>\n",
       "      <th></th>\n",
       "      <th></th>\n",
       "      <th></th>\n",
       "      <th></th>\n",
       "      <th></th>\n",
       "      <th></th>\n",
       "    </tr>\n",
       "  </thead>\n",
       "  <tbody>\n",
       "    <tr>\n",
       "      <th>3-1-1</th>\n",
       "      <td>0</td>\n",
       "      <td>8</td>\n",
       "      <td>11</td>\n",
       "      <td>12</td>\n",
       "      <td>1</td>\n",
       "      <td>60</td>\n",
       "    </tr>\n",
       "    <tr>\n",
       "      <th>CHALL</th>\n",
       "      <td>0</td>\n",
       "      <td>0</td>\n",
       "      <td>0</td>\n",
       "      <td>0</td>\n",
       "      <td>0</td>\n",
       "      <td>77</td>\n",
       "    </tr>\n",
       "    <tr>\n",
       "      <th>COIB</th>\n",
       "      <td>0</td>\n",
       "      <td>0</td>\n",
       "      <td>0</td>\n",
       "      <td>0</td>\n",
       "      <td>0</td>\n",
       "      <td>1</td>\n",
       "    </tr>\n",
       "    <tr>\n",
       "      <th>DCA</th>\n",
       "      <td>155</td>\n",
       "      <td>357</td>\n",
       "      <td>358</td>\n",
       "      <td>284</td>\n",
       "      <td>36</td>\n",
       "      <td>215</td>\n",
       "    </tr>\n",
       "    <tr>\n",
       "      <th>DEP</th>\n",
       "      <td>791</td>\n",
       "      <td>2069</td>\n",
       "      <td>3419</td>\n",
       "      <td>1916</td>\n",
       "      <td>690</td>\n",
       "      <td>12</td>\n",
       "    </tr>\n",
       "    <tr>\n",
       "      <th>DFTA</th>\n",
       "      <td>4</td>\n",
       "      <td>5</td>\n",
       "      <td>3</td>\n",
       "      <td>3</td>\n",
       "      <td>0</td>\n",
       "      <td>7</td>\n",
       "    </tr>\n",
       "    <tr>\n",
       "      <th>DHS</th>\n",
       "      <td>6</td>\n",
       "      <td>31</td>\n",
       "      <td>54</td>\n",
       "      <td>8</td>\n",
       "      <td>0</td>\n",
       "      <td>2</td>\n",
       "    </tr>\n",
       "    <tr>\n",
       "      <th>DOB</th>\n",
       "      <td>358</td>\n",
       "      <td>775</td>\n",
       "      <td>477</td>\n",
       "      <td>1257</td>\n",
       "      <td>147</td>\n",
       "      <td>0</td>\n",
       "    </tr>\n",
       "    <tr>\n",
       "      <th>DOE</th>\n",
       "      <td>17</td>\n",
       "      <td>26</td>\n",
       "      <td>24</td>\n",
       "      <td>15</td>\n",
       "      <td>7</td>\n",
       "      <td>8</td>\n",
       "    </tr>\n",
       "    <tr>\n",
       "      <th>DOF</th>\n",
       "      <td>78</td>\n",
       "      <td>149</td>\n",
       "      <td>215</td>\n",
       "      <td>116</td>\n",
       "      <td>6</td>\n",
       "      <td>5806</td>\n",
       "    </tr>\n",
       "    <tr>\n",
       "      <th>DOHMH</th>\n",
       "      <td>657</td>\n",
       "      <td>891</td>\n",
       "      <td>913</td>\n",
       "      <td>602</td>\n",
       "      <td>174</td>\n",
       "      <td>0</td>\n",
       "    </tr>\n",
       "    <tr>\n",
       "      <th>DOITT</th>\n",
       "      <td>3</td>\n",
       "      <td>8</td>\n",
       "      <td>15</td>\n",
       "      <td>2</td>\n",
       "      <td>3</td>\n",
       "      <td>0</td>\n",
       "    </tr>\n",
       "    <tr>\n",
       "      <th>DOP</th>\n",
       "      <td>0</td>\n",
       "      <td>0</td>\n",
       "      <td>0</td>\n",
       "      <td>0</td>\n",
       "      <td>0</td>\n",
       "      <td>2</td>\n",
       "    </tr>\n",
       "    <tr>\n",
       "      <th>DOT</th>\n",
       "      <td>2605</td>\n",
       "      <td>5313</td>\n",
       "      <td>4182</td>\n",
       "      <td>4164</td>\n",
       "      <td>1123</td>\n",
       "      <td>320</td>\n",
       "    </tr>\n",
       "    <tr>\n",
       "      <th>DPR</th>\n",
       "      <td>438</td>\n",
       "      <td>1292</td>\n",
       "      <td>407</td>\n",
       "      <td>1934</td>\n",
       "      <td>532</td>\n",
       "      <td>11</td>\n",
       "    </tr>\n",
       "    <tr>\n",
       "      <th>DSNY</th>\n",
       "      <td>1094</td>\n",
       "      <td>2966</td>\n",
       "      <td>1167</td>\n",
       "      <td>2579</td>\n",
       "      <td>563</td>\n",
       "      <td>16</td>\n",
       "    </tr>\n",
       "    <tr>\n",
       "      <th>EDC</th>\n",
       "      <td>1</td>\n",
       "      <td>23</td>\n",
       "      <td>66</td>\n",
       "      <td>9</td>\n",
       "      <td>0</td>\n",
       "      <td>0</td>\n",
       "    </tr>\n",
       "    <tr>\n",
       "      <th>FDNY</th>\n",
       "      <td>6</td>\n",
       "      <td>17</td>\n",
       "      <td>517</td>\n",
       "      <td>52</td>\n",
       "      <td>10</td>\n",
       "      <td>29</td>\n",
       "    </tr>\n",
       "    <tr>\n",
       "      <th>HPD</th>\n",
       "      <td>11493</td>\n",
       "      <td>13871</td>\n",
       "      <td>7866</td>\n",
       "      <td>4986</td>\n",
       "      <td>851</td>\n",
       "      <td>0</td>\n",
       "    </tr>\n",
       "    <tr>\n",
       "      <th>HRA</th>\n",
       "      <td>0</td>\n",
       "      <td>0</td>\n",
       "      <td>0</td>\n",
       "      <td>0</td>\n",
       "      <td>0</td>\n",
       "      <td>392</td>\n",
       "    </tr>\n",
       "    <tr>\n",
       "      <th>NYPD</th>\n",
       "      <td>1933</td>\n",
       "      <td>4886</td>\n",
       "      <td>3657</td>\n",
       "      <td>4154</td>\n",
       "      <td>663</td>\n",
       "      <td>2</td>\n",
       "    </tr>\n",
       "    <tr>\n",
       "      <th>OATH</th>\n",
       "      <td>0</td>\n",
       "      <td>0</td>\n",
       "      <td>0</td>\n",
       "      <td>0</td>\n",
       "      <td>0</td>\n",
       "      <td>4</td>\n",
       "    </tr>\n",
       "    <tr>\n",
       "      <th>OEM</th>\n",
       "      <td>0</td>\n",
       "      <td>0</td>\n",
       "      <td>0</td>\n",
       "      <td>0</td>\n",
       "      <td>0</td>\n",
       "      <td>29</td>\n",
       "    </tr>\n",
       "    <tr>\n",
       "      <th>OMB</th>\n",
       "      <td>0</td>\n",
       "      <td>0</td>\n",
       "      <td>0</td>\n",
       "      <td>0</td>\n",
       "      <td>0</td>\n",
       "      <td>1</td>\n",
       "    </tr>\n",
       "    <tr>\n",
       "      <th>OPS</th>\n",
       "      <td>0</td>\n",
       "      <td>0</td>\n",
       "      <td>0</td>\n",
       "      <td>0</td>\n",
       "      <td>0</td>\n",
       "      <td>8</td>\n",
       "    </tr>\n",
       "    <tr>\n",
       "      <th>TLC</th>\n",
       "      <td>47</td>\n",
       "      <td>203</td>\n",
       "      <td>937</td>\n",
       "      <td>188</td>\n",
       "      <td>11</td>\n",
       "      <td>105</td>\n",
       "    </tr>\n",
       "  </tbody>\n",
       "</table>\n",
       "</div>"
      ],
      "text/plain": [
       "Borough  BRONX  BROOKLYN  MANHATTAN  QUEENS  STATEN ISLAND  Unspecified\n",
       "Agency                                                                 \n",
       "3-1-1        0         8         11      12              1           60\n",
       "CHALL        0         0          0       0              0           77\n",
       "COIB         0         0          0       0              0            1\n",
       "DCA        155       357        358     284             36          215\n",
       "DEP        791      2069       3419    1916            690           12\n",
       "DFTA         4         5          3       3              0            7\n",
       "DHS          6        31         54       8              0            2\n",
       "DOB        358       775        477    1257            147            0\n",
       "DOE         17        26         24      15              7            8\n",
       "DOF         78       149        215     116              6         5806\n",
       "DOHMH      657       891        913     602            174            0\n",
       "DOITT        3         8         15       2              3            0\n",
       "DOP          0         0          0       0              0            2\n",
       "DOT       2605      5313       4182    4164           1123          320\n",
       "DPR        438      1292        407    1934            532           11\n",
       "DSNY      1094      2966       1167    2579            563           16\n",
       "EDC          1        23         66       9              0            0\n",
       "FDNY         6        17        517      52             10           29\n",
       "HPD      11493     13871       7866    4986            851            0\n",
       "HRA          0         0          0       0              0          392\n",
       "NYPD      1933      4886       3657    4154            663            2\n",
       "OATH         0         0          0       0              0            4\n",
       "OEM          0         0          0       0              0           29\n",
       "OMB          0         0          0       0              0            1\n",
       "OPS          0         0          0       0              0            8\n",
       "TLC         47       203        937     188             11          105"
      ]
     },
     "execution_count": 290,
     "metadata": {},
     "output_type": "execute_result"
    }
   ],
   "source": [
    "pd.crosstab(complaints['Agency'],complaints['Borough'])"
   ]
  },
  {
   "cell_type": "markdown",
   "metadata": {},
   "source": [
    "**Elaboration of Complaints Problem A**:  For each complaint type, find its frequency in each borough. \n",
    "Also give the total number of complaints by borough and by complaint type."
   ]
  },
  {
   "cell_type": "code",
   "execution_count": 329,
   "metadata": {},
   "outputs": [
    {
     "data": {
      "text/html": [
       "<div>\n",
       "<style scoped>\n",
       "    .dataframe tbody tr th:only-of-type {\n",
       "        vertical-align: middle;\n",
       "    }\n",
       "\n",
       "    .dataframe tbody tr th {\n",
       "        vertical-align: top;\n",
       "    }\n",
       "\n",
       "    .dataframe thead th {\n",
       "        text-align: right;\n",
       "    }\n",
       "</style>\n",
       "<table border=\"1\" class=\"dataframe\">\n",
       "  <thead>\n",
       "    <tr style=\"text-align: right;\">\n",
       "      <th>Borough</th>\n",
       "      <th>BRONX</th>\n",
       "      <th>BROOKLYN</th>\n",
       "      <th>MANHATTAN</th>\n",
       "      <th>QUEENS</th>\n",
       "      <th>STATEN ISLAND</th>\n",
       "      <th>Unspecified</th>\n",
       "      <th>All</th>\n",
       "    </tr>\n",
       "    <tr>\n",
       "      <th>Agency</th>\n",
       "      <th></th>\n",
       "      <th></th>\n",
       "      <th></th>\n",
       "      <th></th>\n",
       "      <th></th>\n",
       "      <th></th>\n",
       "      <th></th>\n",
       "    </tr>\n",
       "  </thead>\n",
       "  <tbody>\n",
       "    <tr>\n",
       "      <th>3-1-1</th>\n",
       "      <td>0</td>\n",
       "      <td>8</td>\n",
       "      <td>11</td>\n",
       "      <td>12</td>\n",
       "      <td>1</td>\n",
       "      <td>60</td>\n",
       "      <td>92</td>\n",
       "    </tr>\n",
       "    <tr>\n",
       "      <th>CHALL</th>\n",
       "      <td>0</td>\n",
       "      <td>0</td>\n",
       "      <td>0</td>\n",
       "      <td>0</td>\n",
       "      <td>0</td>\n",
       "      <td>77</td>\n",
       "      <td>77</td>\n",
       "    </tr>\n",
       "    <tr>\n",
       "      <th>COIB</th>\n",
       "      <td>0</td>\n",
       "      <td>0</td>\n",
       "      <td>0</td>\n",
       "      <td>0</td>\n",
       "      <td>0</td>\n",
       "      <td>1</td>\n",
       "      <td>1</td>\n",
       "    </tr>\n",
       "    <tr>\n",
       "      <th>DCA</th>\n",
       "      <td>155</td>\n",
       "      <td>357</td>\n",
       "      <td>358</td>\n",
       "      <td>284</td>\n",
       "      <td>36</td>\n",
       "      <td>215</td>\n",
       "      <td>1405</td>\n",
       "    </tr>\n",
       "    <tr>\n",
       "      <th>DEP</th>\n",
       "      <td>791</td>\n",
       "      <td>2069</td>\n",
       "      <td>3419</td>\n",
       "      <td>1916</td>\n",
       "      <td>690</td>\n",
       "      <td>12</td>\n",
       "      <td>8897</td>\n",
       "    </tr>\n",
       "    <tr>\n",
       "      <th>DFTA</th>\n",
       "      <td>4</td>\n",
       "      <td>5</td>\n",
       "      <td>3</td>\n",
       "      <td>3</td>\n",
       "      <td>0</td>\n",
       "      <td>7</td>\n",
       "      <td>22</td>\n",
       "    </tr>\n",
       "    <tr>\n",
       "      <th>DHS</th>\n",
       "      <td>6</td>\n",
       "      <td>31</td>\n",
       "      <td>54</td>\n",
       "      <td>8</td>\n",
       "      <td>0</td>\n",
       "      <td>2</td>\n",
       "      <td>101</td>\n",
       "    </tr>\n",
       "    <tr>\n",
       "      <th>DOB</th>\n",
       "      <td>358</td>\n",
       "      <td>775</td>\n",
       "      <td>477</td>\n",
       "      <td>1257</td>\n",
       "      <td>147</td>\n",
       "      <td>0</td>\n",
       "      <td>3014</td>\n",
       "    </tr>\n",
       "    <tr>\n",
       "      <th>DOE</th>\n",
       "      <td>17</td>\n",
       "      <td>26</td>\n",
       "      <td>24</td>\n",
       "      <td>15</td>\n",
       "      <td>7</td>\n",
       "      <td>8</td>\n",
       "      <td>97</td>\n",
       "    </tr>\n",
       "    <tr>\n",
       "      <th>DOF</th>\n",
       "      <td>78</td>\n",
       "      <td>149</td>\n",
       "      <td>215</td>\n",
       "      <td>116</td>\n",
       "      <td>6</td>\n",
       "      <td>5806</td>\n",
       "      <td>6370</td>\n",
       "    </tr>\n",
       "    <tr>\n",
       "      <th>DOHMH</th>\n",
       "      <td>657</td>\n",
       "      <td>891</td>\n",
       "      <td>913</td>\n",
       "      <td>602</td>\n",
       "      <td>174</td>\n",
       "      <td>0</td>\n",
       "      <td>3237</td>\n",
       "    </tr>\n",
       "    <tr>\n",
       "      <th>DOITT</th>\n",
       "      <td>3</td>\n",
       "      <td>8</td>\n",
       "      <td>15</td>\n",
       "      <td>2</td>\n",
       "      <td>3</td>\n",
       "      <td>0</td>\n",
       "      <td>31</td>\n",
       "    </tr>\n",
       "    <tr>\n",
       "      <th>DOP</th>\n",
       "      <td>0</td>\n",
       "      <td>0</td>\n",
       "      <td>0</td>\n",
       "      <td>0</td>\n",
       "      <td>0</td>\n",
       "      <td>2</td>\n",
       "      <td>2</td>\n",
       "    </tr>\n",
       "    <tr>\n",
       "      <th>DOT</th>\n",
       "      <td>2605</td>\n",
       "      <td>5313</td>\n",
       "      <td>4182</td>\n",
       "      <td>4164</td>\n",
       "      <td>1123</td>\n",
       "      <td>320</td>\n",
       "      <td>17707</td>\n",
       "    </tr>\n",
       "    <tr>\n",
       "      <th>DPR</th>\n",
       "      <td>438</td>\n",
       "      <td>1292</td>\n",
       "      <td>407</td>\n",
       "      <td>1934</td>\n",
       "      <td>532</td>\n",
       "      <td>11</td>\n",
       "      <td>4614</td>\n",
       "    </tr>\n",
       "    <tr>\n",
       "      <th>DSNY</th>\n",
       "      <td>1094</td>\n",
       "      <td>2966</td>\n",
       "      <td>1167</td>\n",
       "      <td>2579</td>\n",
       "      <td>563</td>\n",
       "      <td>16</td>\n",
       "      <td>8385</td>\n",
       "    </tr>\n",
       "    <tr>\n",
       "      <th>EDC</th>\n",
       "      <td>1</td>\n",
       "      <td>23</td>\n",
       "      <td>66</td>\n",
       "      <td>9</td>\n",
       "      <td>0</td>\n",
       "      <td>0</td>\n",
       "      <td>99</td>\n",
       "    </tr>\n",
       "    <tr>\n",
       "      <th>FDNY</th>\n",
       "      <td>6</td>\n",
       "      <td>17</td>\n",
       "      <td>517</td>\n",
       "      <td>52</td>\n",
       "      <td>10</td>\n",
       "      <td>29</td>\n",
       "      <td>631</td>\n",
       "    </tr>\n",
       "    <tr>\n",
       "      <th>HPD</th>\n",
       "      <td>11493</td>\n",
       "      <td>13871</td>\n",
       "      <td>7866</td>\n",
       "      <td>4986</td>\n",
       "      <td>851</td>\n",
       "      <td>0</td>\n",
       "      <td>39067</td>\n",
       "    </tr>\n",
       "    <tr>\n",
       "      <th>HRA</th>\n",
       "      <td>0</td>\n",
       "      <td>0</td>\n",
       "      <td>0</td>\n",
       "      <td>0</td>\n",
       "      <td>0</td>\n",
       "      <td>392</td>\n",
       "      <td>392</td>\n",
       "    </tr>\n",
       "    <tr>\n",
       "      <th>NYPD</th>\n",
       "      <td>1933</td>\n",
       "      <td>4886</td>\n",
       "      <td>3657</td>\n",
       "      <td>4154</td>\n",
       "      <td>663</td>\n",
       "      <td>2</td>\n",
       "      <td>15295</td>\n",
       "    </tr>\n",
       "    <tr>\n",
       "      <th>OATH</th>\n",
       "      <td>0</td>\n",
       "      <td>0</td>\n",
       "      <td>0</td>\n",
       "      <td>0</td>\n",
       "      <td>0</td>\n",
       "      <td>4</td>\n",
       "      <td>4</td>\n",
       "    </tr>\n",
       "    <tr>\n",
       "      <th>OEM</th>\n",
       "      <td>0</td>\n",
       "      <td>0</td>\n",
       "      <td>0</td>\n",
       "      <td>0</td>\n",
       "      <td>0</td>\n",
       "      <td>29</td>\n",
       "      <td>29</td>\n",
       "    </tr>\n",
       "    <tr>\n",
       "      <th>OMB</th>\n",
       "      <td>0</td>\n",
       "      <td>0</td>\n",
       "      <td>0</td>\n",
       "      <td>0</td>\n",
       "      <td>0</td>\n",
       "      <td>1</td>\n",
       "      <td>1</td>\n",
       "    </tr>\n",
       "    <tr>\n",
       "      <th>OPS</th>\n",
       "      <td>0</td>\n",
       "      <td>0</td>\n",
       "      <td>0</td>\n",
       "      <td>0</td>\n",
       "      <td>0</td>\n",
       "      <td>8</td>\n",
       "      <td>8</td>\n",
       "    </tr>\n",
       "    <tr>\n",
       "      <th>TLC</th>\n",
       "      <td>47</td>\n",
       "      <td>203</td>\n",
       "      <td>937</td>\n",
       "      <td>188</td>\n",
       "      <td>11</td>\n",
       "      <td>105</td>\n",
       "      <td>1491</td>\n",
       "    </tr>\n",
       "    <tr>\n",
       "      <th>All</th>\n",
       "      <td>19686</td>\n",
       "      <td>32890</td>\n",
       "      <td>24288</td>\n",
       "      <td>22281</td>\n",
       "      <td>4817</td>\n",
       "      <td>7107</td>\n",
       "      <td>111069</td>\n",
       "    </tr>\n",
       "  </tbody>\n",
       "</table>\n",
       "</div>"
      ],
      "text/plain": [
       "Borough  BRONX  BROOKLYN  MANHATTAN  QUEENS  STATEN ISLAND  Unspecified     All\n",
       "Agency                                                                         \n",
       "3-1-1        0         8         11      12              1           60      92\n",
       "CHALL        0         0          0       0              0           77      77\n",
       "COIB         0         0          0       0              0            1       1\n",
       "DCA        155       357        358     284             36          215    1405\n",
       "DEP        791      2069       3419    1916            690           12    8897\n",
       "DFTA         4         5          3       3              0            7      22\n",
       "DHS          6        31         54       8              0            2     101\n",
       "DOB        358       775        477    1257            147            0    3014\n",
       "DOE         17        26         24      15              7            8      97\n",
       "DOF         78       149        215     116              6         5806    6370\n",
       "DOHMH      657       891        913     602            174            0    3237\n",
       "DOITT        3         8         15       2              3            0      31\n",
       "DOP          0         0          0       0              0            2       2\n",
       "DOT       2605      5313       4182    4164           1123          320   17707\n",
       "DPR        438      1292        407    1934            532           11    4614\n",
       "DSNY      1094      2966       1167    2579            563           16    8385\n",
       "EDC          1        23         66       9              0            0      99\n",
       "FDNY         6        17        517      52             10           29     631\n",
       "HPD      11493     13871       7866    4986            851            0   39067\n",
       "HRA          0         0          0       0              0          392     392\n",
       "NYPD      1933      4886       3657    4154            663            2   15295\n",
       "OATH         0         0          0       0              0            4       4\n",
       "OEM          0         0          0       0              0           29      29\n",
       "OMB          0         0          0       0              0            1       1\n",
       "OPS          0         0          0       0              0            8       8\n",
       "TLC         47       203        937     188             11          105    1491\n",
       "All      19686     32890      24288   22281           4817         7107  111069"
      ]
     },
     "execution_count": 329,
     "metadata": {},
     "output_type": "execute_result"
    }
   ],
   "source": [
    "ct_agency_borough = pd.crosstab(complaints['Agency'],complaints['Borough'],margins=True)\n",
    "ct_agency_borough"
   ]
  },
  {
   "cell_type": "markdown",
   "metadata": {},
   "source": [
    "Now `ct_agency_borough` contains both an `'All'` column (containing the\n",
    "sum of the values in each row) and an `'All'` row (containing the sum of\n",
    "the values for each column).\n",
    "\n",
    "Note that as long as there are no rows missing an `'Agency'` or `'Borough'` (there aren't), then `ct_agency_borough['All']['All']` is the total number of rows in `complaints`."
   ]
  },
  {
   "cell_type": "code",
   "execution_count": 330,
   "metadata": {},
   "outputs": [
    {
     "name": "stdout",
     "output_type": "stream",
     "text": [
      "111069\n",
      "111069\n"
     ]
    }
   ],
   "source": [
    "print(len(complaints))\n",
    "print(ct_agency_borough['All']['All'])"
   ]
  },
  {
   "cell_type": "markdown",
   "metadata": {},
   "source": [
    "Here is the transpose of the above DataFrame.  \n",
    "In other words, the answer to the query: For each borough, find the frequency of its complaints for each complaint type."
   ]
  },
  {
   "cell_type": "code",
   "execution_count": 291,
   "metadata": {},
   "outputs": [
    {
     "data": {
      "text/html": [
       "<div>\n",
       "<style scoped>\n",
       "    .dataframe tbody tr th:only-of-type {\n",
       "        vertical-align: middle;\n",
       "    }\n",
       "\n",
       "    .dataframe tbody tr th {\n",
       "        vertical-align: top;\n",
       "    }\n",
       "\n",
       "    .dataframe thead th {\n",
       "        text-align: right;\n",
       "    }\n",
       "</style>\n",
       "<table border=\"1\" class=\"dataframe\">\n",
       "  <thead>\n",
       "    <tr style=\"text-align: right;\">\n",
       "      <th>Complaint Type</th>\n",
       "      <th>APPLIANCE</th>\n",
       "      <th>Adopt-A-Basket</th>\n",
       "      <th>Agency Issues</th>\n",
       "      <th>Air Quality</th>\n",
       "      <th>Animal Abuse</th>\n",
       "      <th>Animal Facility - No Permit</th>\n",
       "      <th>Animal in a Park</th>\n",
       "      <th>Asbestos</th>\n",
       "      <th>BEST/Site Safety</th>\n",
       "      <th>Beach/Pool/Sauna Complaint</th>\n",
       "      <th>...</th>\n",
       "      <th>Unsanitary Pigeon Condition</th>\n",
       "      <th>Urinating in Public</th>\n",
       "      <th>Vacant Lot</th>\n",
       "      <th>Vending</th>\n",
       "      <th>Violation of Park Rules</th>\n",
       "      <th>Water Conservation</th>\n",
       "      <th>Water Quality</th>\n",
       "      <th>Water System</th>\n",
       "      <th>Window Guard</th>\n",
       "      <th>X-Ray Machine/Equipment</th>\n",
       "    </tr>\n",
       "    <tr>\n",
       "      <th>Borough</th>\n",
       "      <th></th>\n",
       "      <th></th>\n",
       "      <th></th>\n",
       "      <th></th>\n",
       "      <th></th>\n",
       "      <th></th>\n",
       "      <th></th>\n",
       "      <th></th>\n",
       "      <th></th>\n",
       "      <th></th>\n",
       "      <th></th>\n",
       "      <th></th>\n",
       "      <th></th>\n",
       "      <th></th>\n",
       "      <th></th>\n",
       "      <th></th>\n",
       "      <th></th>\n",
       "      <th></th>\n",
       "      <th></th>\n",
       "      <th></th>\n",
       "      <th></th>\n",
       "    </tr>\n",
       "  </thead>\n",
       "  <tbody>\n",
       "    <tr>\n",
       "      <th>BRONX</th>\n",
       "      <td>108</td>\n",
       "      <td>0</td>\n",
       "      <td>0</td>\n",
       "      <td>40</td>\n",
       "      <td>162</td>\n",
       "      <td>0</td>\n",
       "      <td>17</td>\n",
       "      <td>17</td>\n",
       "      <td>12</td>\n",
       "      <td>0</td>\n",
       "      <td>...</td>\n",
       "      <td>8</td>\n",
       "      <td>2</td>\n",
       "      <td>20</td>\n",
       "      <td>23</td>\n",
       "      <td>17</td>\n",
       "      <td>15</td>\n",
       "      <td>13</td>\n",
       "      <td>278</td>\n",
       "      <td>0</td>\n",
       "      <td>0</td>\n",
       "    </tr>\n",
       "    <tr>\n",
       "      <th>BROOKLYN</th>\n",
       "      <td>175</td>\n",
       "      <td>0</td>\n",
       "      <td>0</td>\n",
       "      <td>125</td>\n",
       "      <td>0</td>\n",
       "      <td>4</td>\n",
       "      <td>15</td>\n",
       "      <td>29</td>\n",
       "      <td>16</td>\n",
       "      <td>6</td>\n",
       "      <td>...</td>\n",
       "      <td>10</td>\n",
       "      <td>12</td>\n",
       "      <td>61</td>\n",
       "      <td>35</td>\n",
       "      <td>8</td>\n",
       "      <td>31</td>\n",
       "      <td>28</td>\n",
       "      <td>517</td>\n",
       "      <td>1</td>\n",
       "      <td>0</td>\n",
       "    </tr>\n",
       "    <tr>\n",
       "      <th>MANHATTAN</th>\n",
       "      <td>89</td>\n",
       "      <td>3</td>\n",
       "      <td>0</td>\n",
       "      <td>203</td>\n",
       "      <td>2</td>\n",
       "      <td>2</td>\n",
       "      <td>23</td>\n",
       "      <td>60</td>\n",
       "      <td>18</td>\n",
       "      <td>0</td>\n",
       "      <td>...</td>\n",
       "      <td>11</td>\n",
       "      <td>10</td>\n",
       "      <td>8</td>\n",
       "      <td>119</td>\n",
       "      <td>46</td>\n",
       "      <td>21</td>\n",
       "      <td>26</td>\n",
       "      <td>961</td>\n",
       "      <td>1</td>\n",
       "      <td>0</td>\n",
       "    </tr>\n",
       "    <tr>\n",
       "      <th>QUEENS</th>\n",
       "      <td>67</td>\n",
       "      <td>0</td>\n",
       "      <td>0</td>\n",
       "      <td>76</td>\n",
       "      <td>0</td>\n",
       "      <td>0</td>\n",
       "      <td>16</td>\n",
       "      <td>30</td>\n",
       "      <td>5</td>\n",
       "      <td>1</td>\n",
       "      <td>...</td>\n",
       "      <td>12</td>\n",
       "      <td>6</td>\n",
       "      <td>29</td>\n",
       "      <td>49</td>\n",
       "      <td>13</td>\n",
       "      <td>53</td>\n",
       "      <td>12</td>\n",
       "      <td>552</td>\n",
       "      <td>0</td>\n",
       "      <td>1</td>\n",
       "    </tr>\n",
       "    <tr>\n",
       "      <th>STATEN ISLAND</th>\n",
       "      <td>6</td>\n",
       "      <td>0</td>\n",
       "      <td>0</td>\n",
       "      <td>15</td>\n",
       "      <td>0</td>\n",
       "      <td>2</td>\n",
       "      <td>13</td>\n",
       "      <td>7</td>\n",
       "      <td>1</td>\n",
       "      <td>0</td>\n",
       "      <td>...</td>\n",
       "      <td>0</td>\n",
       "      <td>0</td>\n",
       "      <td>25</td>\n",
       "      <td>3</td>\n",
       "      <td>6</td>\n",
       "      <td>10</td>\n",
       "      <td>10</td>\n",
       "      <td>326</td>\n",
       "      <td>0</td>\n",
       "      <td>0</td>\n",
       "    </tr>\n",
       "    <tr>\n",
       "      <th>Unspecified</th>\n",
       "      <td>0</td>\n",
       "      <td>0</td>\n",
       "      <td>174</td>\n",
       "      <td>0</td>\n",
       "      <td>0</td>\n",
       "      <td>0</td>\n",
       "      <td>0</td>\n",
       "      <td>0</td>\n",
       "      <td>0</td>\n",
       "      <td>0</td>\n",
       "      <td>...</td>\n",
       "      <td>0</td>\n",
       "      <td>0</td>\n",
       "      <td>3</td>\n",
       "      <td>0</td>\n",
       "      <td>0</td>\n",
       "      <td>0</td>\n",
       "      <td>0</td>\n",
       "      <td>2</td>\n",
       "      <td>0</td>\n",
       "      <td>0</td>\n",
       "    </tr>\n",
       "  </tbody>\n",
       "</table>\n",
       "<p>6 rows × 165 columns</p>\n",
       "</div>"
      ],
      "text/plain": [
       "Complaint Type  APPLIANCE  Adopt-A-Basket  Agency Issues  Air Quality  \\\n",
       "Borough                                                                 \n",
       "BRONX                 108               0              0           40   \n",
       "BROOKLYN              175               0              0          125   \n",
       "MANHATTAN              89               3              0          203   \n",
       "QUEENS                 67               0              0           76   \n",
       "STATEN ISLAND           6               0              0           15   \n",
       "Unspecified             0               0            174            0   \n",
       "\n",
       "Complaint Type  Animal Abuse  Animal Facility - No Permit  Animal in a Park  \\\n",
       "Borough                                                                       \n",
       "BRONX                    162                            0                17   \n",
       "BROOKLYN                   0                            4                15   \n",
       "MANHATTAN                  2                            2                23   \n",
       "QUEENS                     0                            0                16   \n",
       "STATEN ISLAND              0                            2                13   \n",
       "Unspecified                0                            0                 0   \n",
       "\n",
       "Complaint Type  Asbestos  BEST/Site Safety  Beach/Pool/Sauna Complaint  ...  \\\n",
       "Borough                                                                 ...   \n",
       "BRONX                 17                12                           0  ...   \n",
       "BROOKLYN              29                16                           6  ...   \n",
       "MANHATTAN             60                18                           0  ...   \n",
       "QUEENS                30                 5                           1  ...   \n",
       "STATEN ISLAND          7                 1                           0  ...   \n",
       "Unspecified            0                 0                           0  ...   \n",
       "\n",
       "Complaint Type  Unsanitary Pigeon Condition  Urinating in Public  Vacant Lot  \\\n",
       "Borough                                                                        \n",
       "BRONX                                     8                    2          20   \n",
       "BROOKLYN                                 10                   12          61   \n",
       "MANHATTAN                                11                   10           8   \n",
       "QUEENS                                   12                    6          29   \n",
       "STATEN ISLAND                             0                    0          25   \n",
       "Unspecified                               0                    0           3   \n",
       "\n",
       "Complaint Type  Vending  Violation of Park Rules  Water Conservation  \\\n",
       "Borough                                                                \n",
       "BRONX                23                       17                  15   \n",
       "BROOKLYN             35                        8                  31   \n",
       "MANHATTAN           119                       46                  21   \n",
       "QUEENS               49                       13                  53   \n",
       "STATEN ISLAND         3                        6                  10   \n",
       "Unspecified           0                        0                   0   \n",
       "\n",
       "Complaint Type  Water Quality  Water System  Window Guard  \\\n",
       "Borough                                                     \n",
       "BRONX                      13           278             0   \n",
       "BROOKLYN                   28           517             1   \n",
       "MANHATTAN                  26           961             1   \n",
       "QUEENS                     12           552             0   \n",
       "STATEN ISLAND              10           326             0   \n",
       "Unspecified                 0             2             0   \n",
       "\n",
       "Complaint Type  X-Ray Machine/Equipment  \n",
       "Borough                                  \n",
       "BRONX                                 0  \n",
       "BROOKLYN                              0  \n",
       "MANHATTAN                             0  \n",
       "QUEENS                                1  \n",
       "STATEN ISLAND                         0  \n",
       "Unspecified                           0  \n",
       "\n",
       "[6 rows x 165 columns]"
      ]
     },
     "execution_count": 291,
     "metadata": {},
     "output_type": "execute_result"
    }
   ],
   "source": [
    "pd.crosstab(complaints['Borough'],complaints['Complaint Type'])"
   ]
  },
  {
   "cell_type": "markdown",
   "metadata": {},
   "source": [
    "**Complaints Problem B**:  What's the noisiest borough? A little preprocessing is required."
   ]
  },
  {
   "cell_type": "code",
   "execution_count": 593,
   "metadata": {},
   "outputs": [
    {
     "data": {
      "text/html": [
       "<div>\n",
       "<style scoped>\n",
       "    .dataframe tbody tr th:only-of-type {\n",
       "        vertical-align: middle;\n",
       "    }\n",
       "\n",
       "    .dataframe tbody tr th {\n",
       "        vertical-align: top;\n",
       "    }\n",
       "\n",
       "    .dataframe thead th {\n",
       "        text-align: right;\n",
       "    }\n",
       "</style>\n",
       "<table border=\"1\" class=\"dataframe\">\n",
       "  <thead>\n",
       "    <tr style=\"text-align: right;\">\n",
       "      <th></th>\n",
       "      <th>Unique Key</th>\n",
       "      <th>Created Date</th>\n",
       "      <th>Closed Date</th>\n",
       "      <th>Agency</th>\n",
       "      <th>Agency Name</th>\n",
       "      <th>Complaint Type</th>\n",
       "      <th>Descriptor</th>\n",
       "      <th>Location Type</th>\n",
       "      <th>Incident Zip</th>\n",
       "      <th>Incident Address</th>\n",
       "      <th>Street Name</th>\n",
       "      <th>Cross Street 1</th>\n",
       "      <th>Cross Street 2</th>\n",
       "      <th>Intersection Street 1</th>\n",
       "      <th>Intersection Street 2</th>\n",
       "      <th>Address Type</th>\n",
       "      <th>City</th>\n",
       "      <th>Landmark</th>\n",
       "      <th>Facility Type</th>\n",
       "      <th>Status</th>\n",
       "      <th>Due Date</th>\n",
       "      <th>Resolution Action Updated Date</th>\n",
       "      <th>Community Board</th>\n",
       "      <th>Borough</th>\n",
       "      <th>X Coordinate (State Plane)</th>\n",
       "      <th>Y Coordinate (State Plane)</th>\n",
       "      <th>Park Facility Name</th>\n",
       "      <th>Park Borough</th>\n",
       "      <th>School Name</th>\n",
       "      <th>School Number</th>\n",
       "      <th>School Region</th>\n",
       "      <th>School Code</th>\n",
       "      <th>School Phone Number</th>\n",
       "      <th>School Address</th>\n",
       "      <th>School City</th>\n",
       "      <th>School State</th>\n",
       "      <th>School Zip</th>\n",
       "      <th>School Not Found</th>\n",
       "      <th>School or Citywide Complaint</th>\n",
       "      <th>Vehicle Type</th>\n",
       "      <th>Taxi Company Borough</th>\n",
       "      <th>Taxi Pick Up Location</th>\n",
       "      <th>Bridge Highway Name</th>\n",
       "      <th>Bridge Highway Direction</th>\n",
       "      <th>Road Ramp</th>\n",
       "      <th>Bridge Highway Segment</th>\n",
       "      <th>Garage Lot Name</th>\n",
       "      <th>Ferry Direction</th>\n",
       "      <th>Ferry Terminal Name</th>\n",
       "      <th>Latitude</th>\n",
       "      <th>Longitude</th>\n",
       "      <th>Location</th>\n",
       "    </tr>\n",
       "  </thead>\n",
       "  <tbody>\n",
       "    <tr>\n",
       "      <th>0</th>\n",
       "      <td>26589651</td>\n",
       "      <td>10/31/2013 02:08:41 AM</td>\n",
       "      <td>NaN</td>\n",
       "      <td>NYPD</td>\n",
       "      <td>New York City Police Department</td>\n",
       "      <td>Noise - Street/Sidewalk</td>\n",
       "      <td>Loud Talking</td>\n",
       "      <td>Street/Sidewalk</td>\n",
       "      <td>11432</td>\n",
       "      <td>90-03 169 STREET</td>\n",
       "      <td>169 STREET</td>\n",
       "      <td>90 AVENUE</td>\n",
       "      <td>91 AVENUE</td>\n",
       "      <td>NaN</td>\n",
       "      <td>NaN</td>\n",
       "      <td>ADDRESS</td>\n",
       "      <td>JAMAICA</td>\n",
       "      <td>NaN</td>\n",
       "      <td>Precinct</td>\n",
       "      <td>Assigned</td>\n",
       "      <td>10/31/2013 10:08:41 AM</td>\n",
       "      <td>10/31/2013 02:35:17 AM</td>\n",
       "      <td>12 QUEENS</td>\n",
       "      <td>QUEENS</td>\n",
       "      <td>1042027.0</td>\n",
       "      <td>197389.0</td>\n",
       "      <td>Unspecified</td>\n",
       "      <td>QUEENS</td>\n",
       "      <td>Unspecified</td>\n",
       "      <td>Unspecified</td>\n",
       "      <td>Unspecified</td>\n",
       "      <td>Unspecified</td>\n",
       "      <td>Unspecified</td>\n",
       "      <td>Unspecified</td>\n",
       "      <td>Unspecified</td>\n",
       "      <td>Unspecified</td>\n",
       "      <td>Unspecified</td>\n",
       "      <td>N</td>\n",
       "      <td>NaN</td>\n",
       "      <td>NaN</td>\n",
       "      <td>NaN</td>\n",
       "      <td>NaN</td>\n",
       "      <td>NaN</td>\n",
       "      <td>NaN</td>\n",
       "      <td>NaN</td>\n",
       "      <td>NaN</td>\n",
       "      <td>NaN</td>\n",
       "      <td>NaN</td>\n",
       "      <td>NaN</td>\n",
       "      <td>40.708275</td>\n",
       "      <td>-73.791604</td>\n",
       "      <td>(40.70827532593202, -73.79160395779721)</td>\n",
       "    </tr>\n",
       "    <tr>\n",
       "      <th>2</th>\n",
       "      <td>26594139</td>\n",
       "      <td>10/31/2013 02:00:24 AM</td>\n",
       "      <td>10/31/2013 02:40:32 AM</td>\n",
       "      <td>NYPD</td>\n",
       "      <td>New York City Police Department</td>\n",
       "      <td>Noise - Commercial</td>\n",
       "      <td>Loud Music/Party</td>\n",
       "      <td>Club/Bar/Restaurant</td>\n",
       "      <td>10032</td>\n",
       "      <td>4060 BROADWAY</td>\n",
       "      <td>BROADWAY</td>\n",
       "      <td>WEST 171 STREET</td>\n",
       "      <td>WEST 172 STREET</td>\n",
       "      <td>NaN</td>\n",
       "      <td>NaN</td>\n",
       "      <td>ADDRESS</td>\n",
       "      <td>NEW YORK</td>\n",
       "      <td>NaN</td>\n",
       "      <td>Precinct</td>\n",
       "      <td>Closed</td>\n",
       "      <td>10/31/2013 10:00:24 AM</td>\n",
       "      <td>10/31/2013 02:39:42 AM</td>\n",
       "      <td>12 MANHATTAN</td>\n",
       "      <td>MANHATTAN</td>\n",
       "      <td>1001088.0</td>\n",
       "      <td>246531.0</td>\n",
       "      <td>Unspecified</td>\n",
       "      <td>MANHATTAN</td>\n",
       "      <td>Unspecified</td>\n",
       "      <td>Unspecified</td>\n",
       "      <td>Unspecified</td>\n",
       "      <td>Unspecified</td>\n",
       "      <td>Unspecified</td>\n",
       "      <td>Unspecified</td>\n",
       "      <td>Unspecified</td>\n",
       "      <td>Unspecified</td>\n",
       "      <td>Unspecified</td>\n",
       "      <td>N</td>\n",
       "      <td>NaN</td>\n",
       "      <td>NaN</td>\n",
       "      <td>NaN</td>\n",
       "      <td>NaN</td>\n",
       "      <td>NaN</td>\n",
       "      <td>NaN</td>\n",
       "      <td>NaN</td>\n",
       "      <td>NaN</td>\n",
       "      <td>NaN</td>\n",
       "      <td>NaN</td>\n",
       "      <td>NaN</td>\n",
       "      <td>40.843330</td>\n",
       "      <td>-73.939144</td>\n",
       "      <td>(40.84332975466513, -73.93914371913482)</td>\n",
       "    </tr>\n",
       "    <tr>\n",
       "      <th>3</th>\n",
       "      <td>26595721</td>\n",
       "      <td>10/31/2013 01:56:23 AM</td>\n",
       "      <td>10/31/2013 02:21:48 AM</td>\n",
       "      <td>NYPD</td>\n",
       "      <td>New York City Police Department</td>\n",
       "      <td>Noise - Vehicle</td>\n",
       "      <td>Car/Truck Horn</td>\n",
       "      <td>Street/Sidewalk</td>\n",
       "      <td>10023</td>\n",
       "      <td>WEST 72 STREET</td>\n",
       "      <td>WEST 72 STREET</td>\n",
       "      <td>COLUMBUS AVENUE</td>\n",
       "      <td>AMSTERDAM AVENUE</td>\n",
       "      <td>NaN</td>\n",
       "      <td>NaN</td>\n",
       "      <td>BLOCKFACE</td>\n",
       "      <td>NEW YORK</td>\n",
       "      <td>NaN</td>\n",
       "      <td>Precinct</td>\n",
       "      <td>Closed</td>\n",
       "      <td>10/31/2013 09:56:23 AM</td>\n",
       "      <td>10/31/2013 02:21:10 AM</td>\n",
       "      <td>07 MANHATTAN</td>\n",
       "      <td>MANHATTAN</td>\n",
       "      <td>989730.0</td>\n",
       "      <td>222727.0</td>\n",
       "      <td>Unspecified</td>\n",
       "      <td>MANHATTAN</td>\n",
       "      <td>Unspecified</td>\n",
       "      <td>Unspecified</td>\n",
       "      <td>Unspecified</td>\n",
       "      <td>Unspecified</td>\n",
       "      <td>Unspecified</td>\n",
       "      <td>Unspecified</td>\n",
       "      <td>Unspecified</td>\n",
       "      <td>Unspecified</td>\n",
       "      <td>Unspecified</td>\n",
       "      <td>N</td>\n",
       "      <td>NaN</td>\n",
       "      <td>NaN</td>\n",
       "      <td>NaN</td>\n",
       "      <td>NaN</td>\n",
       "      <td>NaN</td>\n",
       "      <td>NaN</td>\n",
       "      <td>NaN</td>\n",
       "      <td>NaN</td>\n",
       "      <td>NaN</td>\n",
       "      <td>NaN</td>\n",
       "      <td>NaN</td>\n",
       "      <td>40.778009</td>\n",
       "      <td>-73.980213</td>\n",
       "      <td>(40.7780087446372, -73.98021349023975)</td>\n",
       "    </tr>\n",
       "    <tr>\n",
       "      <th>5</th>\n",
       "      <td>26592370</td>\n",
       "      <td>10/31/2013 01:46:52 AM</td>\n",
       "      <td>NaN</td>\n",
       "      <td>NYPD</td>\n",
       "      <td>New York City Police Department</td>\n",
       "      <td>Noise - Commercial</td>\n",
       "      <td>Banging/Pounding</td>\n",
       "      <td>Club/Bar/Restaurant</td>\n",
       "      <td>11372</td>\n",
       "      <td>37 AVENUE</td>\n",
       "      <td>37 AVENUE</td>\n",
       "      <td>84 STREET</td>\n",
       "      <td>85 STREET</td>\n",
       "      <td>NaN</td>\n",
       "      <td>NaN</td>\n",
       "      <td>BLOCKFACE</td>\n",
       "      <td>JACKSON HEIGHTS</td>\n",
       "      <td>NaN</td>\n",
       "      <td>Precinct</td>\n",
       "      <td>Open</td>\n",
       "      <td>10/31/2013 09:46:52 AM</td>\n",
       "      <td>NaN</td>\n",
       "      <td>03 QUEENS</td>\n",
       "      <td>QUEENS</td>\n",
       "      <td>1016948.0</td>\n",
       "      <td>212540.0</td>\n",
       "      <td>Unspecified</td>\n",
       "      <td>QUEENS</td>\n",
       "      <td>Unspecified</td>\n",
       "      <td>Unspecified</td>\n",
       "      <td>Unspecified</td>\n",
       "      <td>Unspecified</td>\n",
       "      <td>Unspecified</td>\n",
       "      <td>Unspecified</td>\n",
       "      <td>Unspecified</td>\n",
       "      <td>Unspecified</td>\n",
       "      <td>Unspecified</td>\n",
       "      <td>N</td>\n",
       "      <td>NaN</td>\n",
       "      <td>NaN</td>\n",
       "      <td>NaN</td>\n",
       "      <td>NaN</td>\n",
       "      <td>NaN</td>\n",
       "      <td>NaN</td>\n",
       "      <td>NaN</td>\n",
       "      <td>NaN</td>\n",
       "      <td>NaN</td>\n",
       "      <td>NaN</td>\n",
       "      <td>NaN</td>\n",
       "      <td>40.749989</td>\n",
       "      <td>-73.881988</td>\n",
       "      <td>(40.7499893014072, -73.88198770727831)</td>\n",
       "    </tr>\n",
       "    <tr>\n",
       "      <th>7</th>\n",
       "      <td>26595195</td>\n",
       "      <td>10/31/2013 01:44:19 AM</td>\n",
       "      <td>10/31/2013 01:58:49 AM</td>\n",
       "      <td>NYPD</td>\n",
       "      <td>New York City Police Department</td>\n",
       "      <td>Noise - Commercial</td>\n",
       "      <td>Loud Music/Party</td>\n",
       "      <td>Club/Bar/Restaurant</td>\n",
       "      <td>11417</td>\n",
       "      <td>137-09 CROSSBAY BOULEVARD</td>\n",
       "      <td>CROSSBAY BOULEVARD</td>\n",
       "      <td>PITKIN AVENUE</td>\n",
       "      <td>VAN WICKLEN ROAD</td>\n",
       "      <td>NaN</td>\n",
       "      <td>NaN</td>\n",
       "      <td>ADDRESS</td>\n",
       "      <td>OZONE PARK</td>\n",
       "      <td>NaN</td>\n",
       "      <td>Precinct</td>\n",
       "      <td>Closed</td>\n",
       "      <td>10/31/2013 09:44:19 AM</td>\n",
       "      <td>10/31/2013 01:58:49 AM</td>\n",
       "      <td>10 QUEENS</td>\n",
       "      <td>QUEENS</td>\n",
       "      <td>1027776.0</td>\n",
       "      <td>184076.0</td>\n",
       "      <td>Unspecified</td>\n",
       "      <td>QUEENS</td>\n",
       "      <td>Unspecified</td>\n",
       "      <td>Unspecified</td>\n",
       "      <td>Unspecified</td>\n",
       "      <td>Unspecified</td>\n",
       "      <td>Unspecified</td>\n",
       "      <td>Unspecified</td>\n",
       "      <td>Unspecified</td>\n",
       "      <td>Unspecified</td>\n",
       "      <td>Unspecified</td>\n",
       "      <td>N</td>\n",
       "      <td>NaN</td>\n",
       "      <td>NaN</td>\n",
       "      <td>NaN</td>\n",
       "      <td>NaN</td>\n",
       "      <td>NaN</td>\n",
       "      <td>NaN</td>\n",
       "      <td>NaN</td>\n",
       "      <td>NaN</td>\n",
       "      <td>NaN</td>\n",
       "      <td>NaN</td>\n",
       "      <td>NaN</td>\n",
       "      <td>40.671816</td>\n",
       "      <td>-73.843092</td>\n",
       "      <td>(40.67181584567338, -73.84309181950769)</td>\n",
       "    </tr>\n",
       "  </tbody>\n",
       "</table>\n",
       "</div>"
      ],
      "text/plain": [
       "   Unique Key            Created Date             Closed Date Agency                      Agency Name           Complaint Type        Descriptor        Location Type Incident Zip           Incident Address         Street Name   Cross Street 1    Cross Street 2 Intersection Street 1 Intersection Street 2 Address Type             City Landmark Facility Type    Status                Due Date Resolution Action Updated Date Community Board    Borough  X Coordinate (State Plane)  Y Coordinate (State Plane) Park Facility Name Park Borough  School Name School Number School Region  School Code School Phone Number School Address  School City School State   School Zip School Not Found  School or Citywide Complaint Vehicle Type Taxi Company Borough Taxi Pick Up Location Bridge Highway Name Bridge Highway Direction Road Ramp Bridge Highway Segment Garage Lot Name Ferry Direction Ferry Terminal Name   Latitude  Longitude                                 Location\n",
       "0    26589651  10/31/2013 02:08:41 AM                     NaN   NYPD  New York City Police Department  Noise - Street/Sidewalk      Loud Talking      Street/Sidewalk        11432           90-03 169 STREET          169 STREET        90 AVENUE         91 AVENUE                   NaN                   NaN      ADDRESS          JAMAICA      NaN      Precinct  Assigned  10/31/2013 10:08:41 AM         10/31/2013 02:35:17 AM       12 QUEENS     QUEENS                   1042027.0                    197389.0        Unspecified       QUEENS  Unspecified   Unspecified   Unspecified  Unspecified         Unspecified    Unspecified  Unspecified  Unspecified  Unspecified                N                           NaN          NaN                  NaN                   NaN                 NaN                      NaN       NaN                    NaN             NaN             NaN                 NaN  40.708275 -73.791604  (40.70827532593202, -73.79160395779721)\n",
       "2    26594139  10/31/2013 02:00:24 AM  10/31/2013 02:40:32 AM   NYPD  New York City Police Department       Noise - Commercial  Loud Music/Party  Club/Bar/Restaurant        10032              4060 BROADWAY            BROADWAY  WEST 171 STREET   WEST 172 STREET                   NaN                   NaN      ADDRESS         NEW YORK      NaN      Precinct    Closed  10/31/2013 10:00:24 AM         10/31/2013 02:39:42 AM    12 MANHATTAN  MANHATTAN                   1001088.0                    246531.0        Unspecified    MANHATTAN  Unspecified   Unspecified   Unspecified  Unspecified         Unspecified    Unspecified  Unspecified  Unspecified  Unspecified                N                           NaN          NaN                  NaN                   NaN                 NaN                      NaN       NaN                    NaN             NaN             NaN                 NaN  40.843330 -73.939144  (40.84332975466513, -73.93914371913482)\n",
       "3    26595721  10/31/2013 01:56:23 AM  10/31/2013 02:21:48 AM   NYPD  New York City Police Department          Noise - Vehicle    Car/Truck Horn      Street/Sidewalk        10023             WEST 72 STREET      WEST 72 STREET  COLUMBUS AVENUE  AMSTERDAM AVENUE                   NaN                   NaN    BLOCKFACE         NEW YORK      NaN      Precinct    Closed  10/31/2013 09:56:23 AM         10/31/2013 02:21:10 AM    07 MANHATTAN  MANHATTAN                    989730.0                    222727.0        Unspecified    MANHATTAN  Unspecified   Unspecified   Unspecified  Unspecified         Unspecified    Unspecified  Unspecified  Unspecified  Unspecified                N                           NaN          NaN                  NaN                   NaN                 NaN                      NaN       NaN                    NaN             NaN             NaN                 NaN  40.778009 -73.980213   (40.7780087446372, -73.98021349023975)\n",
       "5    26592370  10/31/2013 01:46:52 AM                     NaN   NYPD  New York City Police Department       Noise - Commercial  Banging/Pounding  Club/Bar/Restaurant        11372                  37 AVENUE           37 AVENUE        84 STREET         85 STREET                   NaN                   NaN    BLOCKFACE  JACKSON HEIGHTS      NaN      Precinct      Open  10/31/2013 09:46:52 AM                            NaN       03 QUEENS     QUEENS                   1016948.0                    212540.0        Unspecified       QUEENS  Unspecified   Unspecified   Unspecified  Unspecified         Unspecified    Unspecified  Unspecified  Unspecified  Unspecified                N                           NaN          NaN                  NaN                   NaN                 NaN                      NaN       NaN                    NaN             NaN             NaN                 NaN  40.749989 -73.881988   (40.7499893014072, -73.88198770727831)\n",
       "7    26595195  10/31/2013 01:44:19 AM  10/31/2013 01:58:49 AM   NYPD  New York City Police Department       Noise - Commercial  Loud Music/Party  Club/Bar/Restaurant        11417  137-09 CROSSBAY BOULEVARD  CROSSBAY BOULEVARD    PITKIN AVENUE  VAN WICKLEN ROAD                   NaN                   NaN      ADDRESS       OZONE PARK      NaN      Precinct    Closed  10/31/2013 09:44:19 AM         10/31/2013 01:58:49 AM       10 QUEENS     QUEENS                   1027776.0                    184076.0        Unspecified       QUEENS  Unspecified   Unspecified   Unspecified  Unspecified         Unspecified    Unspecified  Unspecified  Unspecified  Unspecified                N                           NaN          NaN                  NaN                   NaN                 NaN                      NaN       NaN                    NaN             NaN             NaN                 NaN  40.671816 -73.843092  (40.67181584567338, -73.84309181950769)"
      ]
     },
     "execution_count": 593,
     "metadata": {},
     "output_type": "execute_result"
    }
   ],
   "source": [
    "# Apply a function that returns True if a string starts with 'noise'\n",
    "# to every element of the Complaint Type column, producing a Boolean Series\n",
    "# Roughly equivalent to \n",
    "# boolean_series = pd.Series([ct.startswith('Noise') \n",
    "#                             for ct in complaints['Complaint Type']])\n",
    "boolean_series = complaints['Complaint Type'].apply(lambda x: x.startswith('Noise'))\n",
    "complaints_noise = complaints[boolean_series]\n",
    "complaints_noise[:5]"
   ]
  },
  {
   "cell_type": "markdown",
   "metadata": {},
   "source": [
    "So what's the noisiest borough?  The answer is no surprise to those who've been in NYC."
   ]
  },
  {
   "cell_type": "code",
   "execution_count": 338,
   "metadata": {},
   "outputs": [
    {
     "data": {
      "text/html": [
       "<div>\n",
       "<style scoped>\n",
       "    .dataframe tbody tr th:only-of-type {\n",
       "        vertical-align: middle;\n",
       "    }\n",
       "\n",
       "    .dataframe tbody tr th {\n",
       "        vertical-align: top;\n",
       "    }\n",
       "\n",
       "    .dataframe thead th {\n",
       "        text-align: right;\n",
       "    }\n",
       "</style>\n",
       "<table border=\"1\" class=\"dataframe\">\n",
       "  <thead>\n",
       "    <tr style=\"text-align: right;\">\n",
       "      <th>Complaint Type</th>\n",
       "      <th>Noise</th>\n",
       "      <th>Noise - Commercial</th>\n",
       "      <th>Noise - Helicopter</th>\n",
       "      <th>Noise - House of Worship</th>\n",
       "      <th>Noise - Park</th>\n",
       "      <th>Noise - Street/Sidewalk</th>\n",
       "      <th>Noise - Vehicle</th>\n",
       "      <th>All</th>\n",
       "    </tr>\n",
       "    <tr>\n",
       "      <th>Borough</th>\n",
       "      <th></th>\n",
       "      <th></th>\n",
       "      <th></th>\n",
       "      <th></th>\n",
       "      <th></th>\n",
       "      <th></th>\n",
       "      <th></th>\n",
       "      <th></th>\n",
       "    </tr>\n",
       "  </thead>\n",
       "  <tbody>\n",
       "    <tr>\n",
       "      <th>All</th>\n",
       "      <td>3321</td>\n",
       "      <td>2578</td>\n",
       "      <td>99</td>\n",
       "      <td>67</td>\n",
       "      <td>191</td>\n",
       "      <td>1928</td>\n",
       "      <td>750</td>\n",
       "      <td>8934</td>\n",
       "    </tr>\n",
       "    <tr>\n",
       "      <th>MANHATTAN</th>\n",
       "      <td>1848</td>\n",
       "      <td>1140</td>\n",
       "      <td>66</td>\n",
       "      <td>16</td>\n",
       "      <td>91</td>\n",
       "      <td>917</td>\n",
       "      <td>255</td>\n",
       "      <td>4333</td>\n",
       "    </tr>\n",
       "    <tr>\n",
       "      <th>BROOKLYN</th>\n",
       "      <td>767</td>\n",
       "      <td>775</td>\n",
       "      <td>23</td>\n",
       "      <td>23</td>\n",
       "      <td>60</td>\n",
       "      <td>456</td>\n",
       "      <td>237</td>\n",
       "      <td>2341</td>\n",
       "    </tr>\n",
       "    <tr>\n",
       "      <th>QUEENS</th>\n",
       "      <td>418</td>\n",
       "      <td>451</td>\n",
       "      <td>9</td>\n",
       "      <td>15</td>\n",
       "      <td>27</td>\n",
       "      <td>226</td>\n",
       "      <td>130</td>\n",
       "      <td>1276</td>\n",
       "    </tr>\n",
       "    <tr>\n",
       "      <th>BRONX</th>\n",
       "      <td>168</td>\n",
       "      <td>136</td>\n",
       "      <td>1</td>\n",
       "      <td>11</td>\n",
       "      <td>9</td>\n",
       "      <td>292</td>\n",
       "      <td>102</td>\n",
       "      <td>719</td>\n",
       "    </tr>\n",
       "    <tr>\n",
       "      <th>STATEN ISLAND</th>\n",
       "      <td>115</td>\n",
       "      <td>76</td>\n",
       "      <td>0</td>\n",
       "      <td>2</td>\n",
       "      <td>4</td>\n",
       "      <td>36</td>\n",
       "      <td>25</td>\n",
       "      <td>258</td>\n",
       "    </tr>\n",
       "    <tr>\n",
       "      <th>Unspecified</th>\n",
       "      <td>5</td>\n",
       "      <td>0</td>\n",
       "      <td>0</td>\n",
       "      <td>0</td>\n",
       "      <td>0</td>\n",
       "      <td>1</td>\n",
       "      <td>1</td>\n",
       "      <td>7</td>\n",
       "    </tr>\n",
       "  </tbody>\n",
       "</table>\n",
       "</div>"
      ],
      "text/plain": [
       "Complaint Type  Noise  Noise - Commercial  Noise - Helicopter  Noise - House of Worship  Noise - Park  Noise - Street/Sidewalk  Noise - Vehicle   All\n",
       "Borough                                                                                                                                              \n",
       "All              3321                2578                  99                        67           191                     1928              750  8934\n",
       "MANHATTAN        1848                1140                  66                        16            91                      917              255  4333\n",
       "BROOKLYN          767                 775                  23                        23            60                      456              237  2341\n",
       "QUEENS            418                 451                   9                        15            27                      226              130  1276\n",
       "BRONX             168                 136                   1                        11             9                      292              102   719\n",
       "STATEN ISLAND     115                  76                   0                         2             4                       36               25   258\n",
       "Unspecified         5                   0                   0                         0             0                        1                1     7"
      ]
     },
     "execution_count": 338,
     "metadata": {},
     "output_type": "execute_result"
    }
   ],
   "source": [
    "ct_noise = pd.crosstab(complaints_noise['Borough'],complaints_noise['Complaint Type'],\n",
    "                       margins=True)\n",
    "ct_noise.sort_values(by = 'All',ascending=False)"
   ]
  },
  {
   "cell_type": "markdown",
   "metadata": {},
   "source": [
    "**Complaints problem C**\n",
    "\n",
    "Find the complaint counts for three agences ('DOT', \"DOP\", 'NYPD')."
   ]
  },
  {
   "cell_type": "markdown",
   "metadata": {},
   "source": [
    "First Produce a DataFrame containing only the three agencies DT, DOP and NYPD.  This part is easy."
   ]
  },
  {
   "cell_type": "code",
   "execution_count": 587,
   "metadata": {},
   "outputs": [],
   "source": [
    "pt00 = complaints[complaints.Agency.isin(['DOT', \"DOP\", 'NYPD'])]"
   ]
  },
  {
   "cell_type": "markdown",
   "metadata": {},
   "source": [
    "The frame `pt00` now restricts us to three agencies.\n",
    "\n",
    "Second, use `pt00` to create a DataFrame or Series\n",
    "whose index is the complaint types\n",
    "and whose three columns are the Three Agencies.\n",
    "Each  cell should contain the count of the complaint\n",
    "type of that row and the agency of that column.\n",
    "For example, the number in the `'Animal Abuse'` row in\n",
    "the `'NYPD'` column should be the number of NYPD complaints  about\n",
    "animal abuse (which happens to be 164)."
   ]
  },
  {
   "cell_type": "markdown",
   "metadata": {},
   "source": [
    "A pause to think about this."
   ]
  },
  {
   "cell_type": "code",
   "execution_count": null,
   "metadata": {},
   "outputs": [],
   "source": []
  },
  {
   "cell_type": "code",
   "execution_count": null,
   "metadata": {},
   "outputs": [],
   "source": []
  },
  {
   "cell_type": "code",
   "execution_count": null,
   "metadata": {},
   "outputs": [],
   "source": []
  },
  {
   "cell_type": "code",
   "execution_count": 591,
   "metadata": {},
   "outputs": [
    {
     "data": {
      "text/html": [
       "<div>\n",
       "<style scoped>\n",
       "    .dataframe tbody tr th:only-of-type {\n",
       "        vertical-align: middle;\n",
       "    }\n",
       "\n",
       "    .dataframe tbody tr th {\n",
       "        vertical-align: top;\n",
       "    }\n",
       "\n",
       "    .dataframe thead th {\n",
       "        text-align: right;\n",
       "    }\n",
       "</style>\n",
       "<table border=\"1\" class=\"dataframe\">\n",
       "  <thead>\n",
       "    <tr style=\"text-align: right;\">\n",
       "      <th>Agency</th>\n",
       "      <th>DOP</th>\n",
       "      <th>DOT</th>\n",
       "      <th>NYPD</th>\n",
       "    </tr>\n",
       "    <tr>\n",
       "      <th>Complaint Type</th>\n",
       "      <th></th>\n",
       "      <th></th>\n",
       "      <th></th>\n",
       "    </tr>\n",
       "  </thead>\n",
       "  <tbody>\n",
       "    <tr>\n",
       "      <th>Agency Issues</th>\n",
       "      <td>0</td>\n",
       "      <td>20</td>\n",
       "      <td>0</td>\n",
       "    </tr>\n",
       "    <tr>\n",
       "      <th>Animal Abuse</th>\n",
       "      <td>0</td>\n",
       "      <td>0</td>\n",
       "      <td>164</td>\n",
       "    </tr>\n",
       "    <tr>\n",
       "      <th>Bike Rack Condition</th>\n",
       "      <td>0</td>\n",
       "      <td>7</td>\n",
       "      <td>0</td>\n",
       "    </tr>\n",
       "    <tr>\n",
       "      <th>Bike/Roller/Skate Chronic</th>\n",
       "      <td>0</td>\n",
       "      <td>0</td>\n",
       "      <td>32</td>\n",
       "    </tr>\n",
       "    <tr>\n",
       "      <th>Blocked Driveway</th>\n",
       "      <td>0</td>\n",
       "      <td>0</td>\n",
       "      <td>4590</td>\n",
       "    </tr>\n",
       "    <tr>\n",
       "      <th>Bridge Condition</th>\n",
       "      <td>0</td>\n",
       "      <td>20</td>\n",
       "      <td>0</td>\n",
       "    </tr>\n",
       "    <tr>\n",
       "      <th>Broken Muni Meter</th>\n",
       "      <td>0</td>\n",
       "      <td>2070</td>\n",
       "      <td>0</td>\n",
       "    </tr>\n",
       "    <tr>\n",
       "      <th>Bus Stop Shelter Placement</th>\n",
       "      <td>0</td>\n",
       "      <td>14</td>\n",
       "      <td>0</td>\n",
       "    </tr>\n",
       "    <tr>\n",
       "      <th>Compliment</th>\n",
       "      <td>0</td>\n",
       "      <td>1</td>\n",
       "      <td>0</td>\n",
       "    </tr>\n",
       "    <tr>\n",
       "      <th>Curb Condition</th>\n",
       "      <td>0</td>\n",
       "      <td>66</td>\n",
       "      <td>0</td>\n",
       "    </tr>\n",
       "    <tr>\n",
       "      <th>DOT Literature Request</th>\n",
       "      <td>0</td>\n",
       "      <td>123</td>\n",
       "      <td>0</td>\n",
       "    </tr>\n",
       "    <tr>\n",
       "      <th>Derelict Vehicle</th>\n",
       "      <td>0</td>\n",
       "      <td>0</td>\n",
       "      <td>803</td>\n",
       "    </tr>\n",
       "    <tr>\n",
       "      <th>Disorderly Youth</th>\n",
       "      <td>0</td>\n",
       "      <td>0</td>\n",
       "      <td>26</td>\n",
       "    </tr>\n",
       "    <tr>\n",
       "      <th>Drinking</th>\n",
       "      <td>0</td>\n",
       "      <td>0</td>\n",
       "      <td>83</td>\n",
       "    </tr>\n",
       "    <tr>\n",
       "      <th>Ferry Complaint</th>\n",
       "      <td>0</td>\n",
       "      <td>4</td>\n",
       "      <td>0</td>\n",
       "    </tr>\n",
       "    <tr>\n",
       "      <th>Ferry Inquiry</th>\n",
       "      <td>0</td>\n",
       "      <td>32</td>\n",
       "      <td>0</td>\n",
       "    </tr>\n",
       "    <tr>\n",
       "      <th>Ferry Permit</th>\n",
       "      <td>0</td>\n",
       "      <td>1</td>\n",
       "      <td>0</td>\n",
       "    </tr>\n",
       "    <tr>\n",
       "      <th>Graffiti</th>\n",
       "      <td>0</td>\n",
       "      <td>0</td>\n",
       "      <td>13</td>\n",
       "    </tr>\n",
       "    <tr>\n",
       "      <th>Highway Condition</th>\n",
       "      <td>0</td>\n",
       "      <td>130</td>\n",
       "      <td>0</td>\n",
       "    </tr>\n",
       "    <tr>\n",
       "      <th>Highway Sign - Damaged</th>\n",
       "      <td>0</td>\n",
       "      <td>1</td>\n",
       "      <td>0</td>\n",
       "    </tr>\n",
       "    <tr>\n",
       "      <th>Homeless Encampment</th>\n",
       "      <td>0</td>\n",
       "      <td>0</td>\n",
       "      <td>269</td>\n",
       "    </tr>\n",
       "    <tr>\n",
       "      <th>Illegal Fireworks</th>\n",
       "      <td>0</td>\n",
       "      <td>0</td>\n",
       "      <td>3</td>\n",
       "    </tr>\n",
       "    <tr>\n",
       "      <th>Illegal Parking</th>\n",
       "      <td>0</td>\n",
       "      <td>0</td>\n",
       "      <td>3343</td>\n",
       "    </tr>\n",
       "    <tr>\n",
       "      <th>Invitation</th>\n",
       "      <td>1</td>\n",
       "      <td>0</td>\n",
       "      <td>0</td>\n",
       "    </tr>\n",
       "    <tr>\n",
       "      <th>Municipal Parking Facility</th>\n",
       "      <td>0</td>\n",
       "      <td>1</td>\n",
       "      <td>0</td>\n",
       "    </tr>\n",
       "    <tr>\n",
       "      <th>Noise - Commercial</th>\n",
       "      <td>0</td>\n",
       "      <td>0</td>\n",
       "      <td>2578</td>\n",
       "    </tr>\n",
       "    <tr>\n",
       "      <th>Noise - House of Worship</th>\n",
       "      <td>0</td>\n",
       "      <td>0</td>\n",
       "      <td>67</td>\n",
       "    </tr>\n",
       "    <tr>\n",
       "      <th>Noise - Park</th>\n",
       "      <td>0</td>\n",
       "      <td>0</td>\n",
       "      <td>191</td>\n",
       "    </tr>\n",
       "    <tr>\n",
       "      <th>Noise - Street/Sidewalk</th>\n",
       "      <td>0</td>\n",
       "      <td>0</td>\n",
       "      <td>1928</td>\n",
       "    </tr>\n",
       "    <tr>\n",
       "      <th>Noise - Vehicle</th>\n",
       "      <td>0</td>\n",
       "      <td>0</td>\n",
       "      <td>750</td>\n",
       "    </tr>\n",
       "    <tr>\n",
       "      <th>Panhandling</th>\n",
       "      <td>0</td>\n",
       "      <td>0</td>\n",
       "      <td>23</td>\n",
       "    </tr>\n",
       "    <tr>\n",
       "      <th>Parking Card</th>\n",
       "      <td>0</td>\n",
       "      <td>8</td>\n",
       "      <td>0</td>\n",
       "    </tr>\n",
       "    <tr>\n",
       "      <th>Posting Advertisement</th>\n",
       "      <td>0</td>\n",
       "      <td>0</td>\n",
       "      <td>5</td>\n",
       "    </tr>\n",
       "    <tr>\n",
       "      <th>Public Toilet</th>\n",
       "      <td>0</td>\n",
       "      <td>6</td>\n",
       "      <td>0</td>\n",
       "    </tr>\n",
       "    <tr>\n",
       "      <th>Request for Information</th>\n",
       "      <td>1</td>\n",
       "      <td>0</td>\n",
       "      <td>0</td>\n",
       "    </tr>\n",
       "    <tr>\n",
       "      <th>Sidewalk Condition</th>\n",
       "      <td>0</td>\n",
       "      <td>339</td>\n",
       "      <td>0</td>\n",
       "    </tr>\n",
       "    <tr>\n",
       "      <th>Street Condition</th>\n",
       "      <td>0</td>\n",
       "      <td>3473</td>\n",
       "      <td>0</td>\n",
       "    </tr>\n",
       "    <tr>\n",
       "      <th>Street Light Condition</th>\n",
       "      <td>0</td>\n",
       "      <td>7117</td>\n",
       "      <td>0</td>\n",
       "    </tr>\n",
       "    <tr>\n",
       "      <th>Street Sign - Damaged</th>\n",
       "      <td>0</td>\n",
       "      <td>691</td>\n",
       "      <td>0</td>\n",
       "    </tr>\n",
       "    <tr>\n",
       "      <th>Street Sign - Dangling</th>\n",
       "      <td>0</td>\n",
       "      <td>110</td>\n",
       "      <td>0</td>\n",
       "    </tr>\n",
       "    <tr>\n",
       "      <th>Street Sign - Missing</th>\n",
       "      <td>0</td>\n",
       "      <td>327</td>\n",
       "      <td>0</td>\n",
       "    </tr>\n",
       "    <tr>\n",
       "      <th>Traffic</th>\n",
       "      <td>0</td>\n",
       "      <td>0</td>\n",
       "      <td>168</td>\n",
       "    </tr>\n",
       "    <tr>\n",
       "      <th>Traffic Signal Condition</th>\n",
       "      <td>0</td>\n",
       "      <td>3145</td>\n",
       "      <td>0</td>\n",
       "    </tr>\n",
       "    <tr>\n",
       "      <th>Tunnel Condition</th>\n",
       "      <td>0</td>\n",
       "      <td>1</td>\n",
       "      <td>0</td>\n",
       "    </tr>\n",
       "    <tr>\n",
       "      <th>Urinating in Public</th>\n",
       "      <td>0</td>\n",
       "      <td>0</td>\n",
       "      <td>30</td>\n",
       "    </tr>\n",
       "    <tr>\n",
       "      <th>Vending</th>\n",
       "      <td>0</td>\n",
       "      <td>0</td>\n",
       "      <td>229</td>\n",
       "    </tr>\n",
       "  </tbody>\n",
       "</table>\n",
       "</div>"
      ],
      "text/plain": [
       "Agency                      DOP   DOT  NYPD\n",
       "Complaint Type                             \n",
       "Agency Issues                 0    20     0\n",
       "Animal Abuse                  0     0   164\n",
       "Bike Rack Condition           0     7     0\n",
       "Bike/Roller/Skate Chronic     0     0    32\n",
       "Blocked Driveway              0     0  4590\n",
       "Bridge Condition              0    20     0\n",
       "Broken Muni Meter             0  2070     0\n",
       "Bus Stop Shelter Placement    0    14     0\n",
       "Compliment                    0     1     0\n",
       "Curb Condition                0    66     0\n",
       "DOT Literature Request        0   123     0\n",
       "Derelict Vehicle              0     0   803\n",
       "Disorderly Youth              0     0    26\n",
       "Drinking                      0     0    83\n",
       "Ferry Complaint               0     4     0\n",
       "Ferry Inquiry                 0    32     0\n",
       "Ferry Permit                  0     1     0\n",
       "Graffiti                      0     0    13\n",
       "Highway Condition             0   130     0\n",
       "Highway Sign - Damaged        0     1     0\n",
       "Homeless Encampment           0     0   269\n",
       "Illegal Fireworks             0     0     3\n",
       "Illegal Parking               0     0  3343\n",
       "Invitation                    1     0     0\n",
       "Municipal Parking Facility    0     1     0\n",
       "Noise - Commercial            0     0  2578\n",
       "Noise - House of Worship      0     0    67\n",
       "Noise - Park                  0     0   191\n",
       "Noise - Street/Sidewalk       0     0  1928\n",
       "Noise - Vehicle               0     0   750\n",
       "Panhandling                   0     0    23\n",
       "Parking Card                  0     8     0\n",
       "Posting Advertisement         0     0     5\n",
       "Public Toilet                 0     6     0\n",
       "Request for Information       1     0     0\n",
       "Sidewalk Condition            0   339     0\n",
       "Street Condition              0  3473     0\n",
       "Street Light Condition        0  7117     0\n",
       "Street Sign - Damaged         0   691     0\n",
       "Street Sign - Dangling        0   110     0\n",
       "Street Sign - Missing         0   327     0\n",
       "Traffic                       0     0   168\n",
       "Traffic Signal Condition      0  3145     0\n",
       "Tunnel Condition              0     1     0\n",
       "Urinating in Public           0     0    30\n",
       "Vending                       0     0   229"
      ]
     },
     "execution_count": 591,
     "metadata": {},
     "output_type": "execute_result"
    }
   ],
   "source": [
    "three = ['DOT', \"DOP\", 'NYPD']\n",
    "pt00 = complaints[complaints.Agency.isin(three)]\n",
    "pd.crosstab(pt00['Complaint Type'], pt00['Agency'])"
   ]
  },
  {
   "cell_type": "markdown",
   "metadata": {},
   "source": [
    "In thinking about how we used `pd.crosstab` to solve this problem, it's worth considering\n",
    "an obvious (though slightlhy awkward) alternative: doing this with a pivot table.\n",
    "\n",
    "Pivot_table construction begins\n",
    "the same way cross-tabulation does: it splits the rows into\n",
    "groups such that each group contains all the\n",
    "rows for one agency/compliant type say, 'NYPD'/'Anmal Abuse';\n",
    "it then applies the aggregation function to each group.\n",
    "\n",
    "There is an aggregation function`'count'` which does we want.\n",
    "It simply computes the number rows in each group.  \n",
    "\n",
    "There is one wrinkle, and this\n",
    "is the awkward part: the pivot table function needs an argument\n",
    "for the `values` column (in other aggregation operations\n",
    "this argument gives the numerical values to which the aggregation operation applies).  When the aggregation operation is `'count'` **any** valid column will serve.  \n",
    "\n",
    "So we pick one at random, say `\"Status\"`.  The result is almost exactly\n",
    "what we computed with `crosstab`, though with slightly\n",
    "more obscure code:"
   ]
  },
  {
   "cell_type": "code",
   "execution_count": 271,
   "metadata": {},
   "outputs": [
    {
     "data": {
      "text/html": [
       "<div>\n",
       "<style scoped>\n",
       "    .dataframe tbody tr th:only-of-type {\n",
       "        vertical-align: middle;\n",
       "    }\n",
       "\n",
       "    .dataframe tbody tr th {\n",
       "        vertical-align: top;\n",
       "    }\n",
       "\n",
       "    .dataframe thead th {\n",
       "        text-align: right;\n",
       "    }\n",
       "</style>\n",
       "<table border=\"1\" class=\"dataframe\">\n",
       "  <thead>\n",
       "    <tr style=\"text-align: right;\">\n",
       "      <th>Agency</th>\n",
       "      <th>DOP</th>\n",
       "      <th>DOT</th>\n",
       "      <th>NYPD</th>\n",
       "    </tr>\n",
       "    <tr>\n",
       "      <th>Complaint Type</th>\n",
       "      <th></th>\n",
       "      <th></th>\n",
       "      <th></th>\n",
       "    </tr>\n",
       "  </thead>\n",
       "  <tbody>\n",
       "    <tr>\n",
       "      <th>Agency Issues</th>\n",
       "      <td>NaN</td>\n",
       "      <td>20.0</td>\n",
       "      <td>NaN</td>\n",
       "    </tr>\n",
       "    <tr>\n",
       "      <th>Animal Abuse</th>\n",
       "      <td>NaN</td>\n",
       "      <td>NaN</td>\n",
       "      <td>164.0</td>\n",
       "    </tr>\n",
       "    <tr>\n",
       "      <th>Bike Rack Condition</th>\n",
       "      <td>NaN</td>\n",
       "      <td>7.0</td>\n",
       "      <td>NaN</td>\n",
       "    </tr>\n",
       "    <tr>\n",
       "      <th>Bike/Roller/Skate Chronic</th>\n",
       "      <td>NaN</td>\n",
       "      <td>NaN</td>\n",
       "      <td>32.0</td>\n",
       "    </tr>\n",
       "    <tr>\n",
       "      <th>Blocked Driveway</th>\n",
       "      <td>NaN</td>\n",
       "      <td>NaN</td>\n",
       "      <td>4590.0</td>\n",
       "    </tr>\n",
       "    <tr>\n",
       "      <th>Bridge Condition</th>\n",
       "      <td>NaN</td>\n",
       "      <td>20.0</td>\n",
       "      <td>NaN</td>\n",
       "    </tr>\n",
       "    <tr>\n",
       "      <th>Broken Muni Meter</th>\n",
       "      <td>NaN</td>\n",
       "      <td>2070.0</td>\n",
       "      <td>NaN</td>\n",
       "    </tr>\n",
       "    <tr>\n",
       "      <th>Bus Stop Shelter Placement</th>\n",
       "      <td>NaN</td>\n",
       "      <td>14.0</td>\n",
       "      <td>NaN</td>\n",
       "    </tr>\n",
       "    <tr>\n",
       "      <th>Compliment</th>\n",
       "      <td>NaN</td>\n",
       "      <td>1.0</td>\n",
       "      <td>NaN</td>\n",
       "    </tr>\n",
       "    <tr>\n",
       "      <th>Curb Condition</th>\n",
       "      <td>NaN</td>\n",
       "      <td>66.0</td>\n",
       "      <td>NaN</td>\n",
       "    </tr>\n",
       "    <tr>\n",
       "      <th>DOT Literature Request</th>\n",
       "      <td>NaN</td>\n",
       "      <td>123.0</td>\n",
       "      <td>NaN</td>\n",
       "    </tr>\n",
       "    <tr>\n",
       "      <th>Derelict Vehicle</th>\n",
       "      <td>NaN</td>\n",
       "      <td>NaN</td>\n",
       "      <td>803.0</td>\n",
       "    </tr>\n",
       "    <tr>\n",
       "      <th>Disorderly Youth</th>\n",
       "      <td>NaN</td>\n",
       "      <td>NaN</td>\n",
       "      <td>26.0</td>\n",
       "    </tr>\n",
       "    <tr>\n",
       "      <th>Drinking</th>\n",
       "      <td>NaN</td>\n",
       "      <td>NaN</td>\n",
       "      <td>83.0</td>\n",
       "    </tr>\n",
       "    <tr>\n",
       "      <th>Ferry Complaint</th>\n",
       "      <td>NaN</td>\n",
       "      <td>4.0</td>\n",
       "      <td>NaN</td>\n",
       "    </tr>\n",
       "    <tr>\n",
       "      <th>Ferry Inquiry</th>\n",
       "      <td>NaN</td>\n",
       "      <td>32.0</td>\n",
       "      <td>NaN</td>\n",
       "    </tr>\n",
       "    <tr>\n",
       "      <th>Ferry Permit</th>\n",
       "      <td>NaN</td>\n",
       "      <td>1.0</td>\n",
       "      <td>NaN</td>\n",
       "    </tr>\n",
       "    <tr>\n",
       "      <th>Graffiti</th>\n",
       "      <td>NaN</td>\n",
       "      <td>NaN</td>\n",
       "      <td>13.0</td>\n",
       "    </tr>\n",
       "    <tr>\n",
       "      <th>Highway Condition</th>\n",
       "      <td>NaN</td>\n",
       "      <td>130.0</td>\n",
       "      <td>NaN</td>\n",
       "    </tr>\n",
       "    <tr>\n",
       "      <th>Highway Sign - Damaged</th>\n",
       "      <td>NaN</td>\n",
       "      <td>1.0</td>\n",
       "      <td>NaN</td>\n",
       "    </tr>\n",
       "    <tr>\n",
       "      <th>Homeless Encampment</th>\n",
       "      <td>NaN</td>\n",
       "      <td>NaN</td>\n",
       "      <td>269.0</td>\n",
       "    </tr>\n",
       "    <tr>\n",
       "      <th>Illegal Fireworks</th>\n",
       "      <td>NaN</td>\n",
       "      <td>NaN</td>\n",
       "      <td>3.0</td>\n",
       "    </tr>\n",
       "    <tr>\n",
       "      <th>Illegal Parking</th>\n",
       "      <td>NaN</td>\n",
       "      <td>NaN</td>\n",
       "      <td>3343.0</td>\n",
       "    </tr>\n",
       "    <tr>\n",
       "      <th>Invitation</th>\n",
       "      <td>1.0</td>\n",
       "      <td>NaN</td>\n",
       "      <td>NaN</td>\n",
       "    </tr>\n",
       "    <tr>\n",
       "      <th>Municipal Parking Facility</th>\n",
       "      <td>NaN</td>\n",
       "      <td>1.0</td>\n",
       "      <td>NaN</td>\n",
       "    </tr>\n",
       "    <tr>\n",
       "      <th>Noise - Commercial</th>\n",
       "      <td>NaN</td>\n",
       "      <td>NaN</td>\n",
       "      <td>2578.0</td>\n",
       "    </tr>\n",
       "    <tr>\n",
       "      <th>Noise - House of Worship</th>\n",
       "      <td>NaN</td>\n",
       "      <td>NaN</td>\n",
       "      <td>67.0</td>\n",
       "    </tr>\n",
       "    <tr>\n",
       "      <th>Noise - Park</th>\n",
       "      <td>NaN</td>\n",
       "      <td>NaN</td>\n",
       "      <td>191.0</td>\n",
       "    </tr>\n",
       "    <tr>\n",
       "      <th>Noise - Street/Sidewalk</th>\n",
       "      <td>NaN</td>\n",
       "      <td>NaN</td>\n",
       "      <td>1928.0</td>\n",
       "    </tr>\n",
       "    <tr>\n",
       "      <th>Noise - Vehicle</th>\n",
       "      <td>NaN</td>\n",
       "      <td>NaN</td>\n",
       "      <td>750.0</td>\n",
       "    </tr>\n",
       "    <tr>\n",
       "      <th>Panhandling</th>\n",
       "      <td>NaN</td>\n",
       "      <td>NaN</td>\n",
       "      <td>23.0</td>\n",
       "    </tr>\n",
       "    <tr>\n",
       "      <th>Parking Card</th>\n",
       "      <td>NaN</td>\n",
       "      <td>8.0</td>\n",
       "      <td>NaN</td>\n",
       "    </tr>\n",
       "    <tr>\n",
       "      <th>Posting Advertisement</th>\n",
       "      <td>NaN</td>\n",
       "      <td>NaN</td>\n",
       "      <td>5.0</td>\n",
       "    </tr>\n",
       "    <tr>\n",
       "      <th>Public Toilet</th>\n",
       "      <td>NaN</td>\n",
       "      <td>6.0</td>\n",
       "      <td>NaN</td>\n",
       "    </tr>\n",
       "    <tr>\n",
       "      <th>Request for Information</th>\n",
       "      <td>1.0</td>\n",
       "      <td>NaN</td>\n",
       "      <td>NaN</td>\n",
       "    </tr>\n",
       "    <tr>\n",
       "      <th>Sidewalk Condition</th>\n",
       "      <td>NaN</td>\n",
       "      <td>339.0</td>\n",
       "      <td>NaN</td>\n",
       "    </tr>\n",
       "    <tr>\n",
       "      <th>Street Condition</th>\n",
       "      <td>NaN</td>\n",
       "      <td>3473.0</td>\n",
       "      <td>NaN</td>\n",
       "    </tr>\n",
       "    <tr>\n",
       "      <th>Street Light Condition</th>\n",
       "      <td>NaN</td>\n",
       "      <td>7117.0</td>\n",
       "      <td>NaN</td>\n",
       "    </tr>\n",
       "    <tr>\n",
       "      <th>Street Sign - Damaged</th>\n",
       "      <td>NaN</td>\n",
       "      <td>691.0</td>\n",
       "      <td>NaN</td>\n",
       "    </tr>\n",
       "    <tr>\n",
       "      <th>Street Sign - Dangling</th>\n",
       "      <td>NaN</td>\n",
       "      <td>110.0</td>\n",
       "      <td>NaN</td>\n",
       "    </tr>\n",
       "    <tr>\n",
       "      <th>Street Sign - Missing</th>\n",
       "      <td>NaN</td>\n",
       "      <td>327.0</td>\n",
       "      <td>NaN</td>\n",
       "    </tr>\n",
       "    <tr>\n",
       "      <th>Traffic</th>\n",
       "      <td>NaN</td>\n",
       "      <td>NaN</td>\n",
       "      <td>168.0</td>\n",
       "    </tr>\n",
       "    <tr>\n",
       "      <th>Traffic Signal Condition</th>\n",
       "      <td>NaN</td>\n",
       "      <td>3145.0</td>\n",
       "      <td>NaN</td>\n",
       "    </tr>\n",
       "    <tr>\n",
       "      <th>Tunnel Condition</th>\n",
       "      <td>NaN</td>\n",
       "      <td>1.0</td>\n",
       "      <td>NaN</td>\n",
       "    </tr>\n",
       "    <tr>\n",
       "      <th>Urinating in Public</th>\n",
       "      <td>NaN</td>\n",
       "      <td>NaN</td>\n",
       "      <td>30.0</td>\n",
       "    </tr>\n",
       "    <tr>\n",
       "      <th>Vending</th>\n",
       "      <td>NaN</td>\n",
       "      <td>NaN</td>\n",
       "      <td>229.0</td>\n",
       "    </tr>\n",
       "  </tbody>\n",
       "</table>\n",
       "</div>"
      ],
      "text/plain": [
       "Agency                      DOP     DOT    NYPD\n",
       "Complaint Type                                 \n",
       "Agency Issues               NaN    20.0     NaN\n",
       "Animal Abuse                NaN     NaN   164.0\n",
       "Bike Rack Condition         NaN     7.0     NaN\n",
       "Bike/Roller/Skate Chronic   NaN     NaN    32.0\n",
       "Blocked Driveway            NaN     NaN  4590.0\n",
       "Bridge Condition            NaN    20.0     NaN\n",
       "Broken Muni Meter           NaN  2070.0     NaN\n",
       "Bus Stop Shelter Placement  NaN    14.0     NaN\n",
       "Compliment                  NaN     1.0     NaN\n",
       "Curb Condition              NaN    66.0     NaN\n",
       "DOT Literature Request      NaN   123.0     NaN\n",
       "Derelict Vehicle            NaN     NaN   803.0\n",
       "Disorderly Youth            NaN     NaN    26.0\n",
       "Drinking                    NaN     NaN    83.0\n",
       "Ferry Complaint             NaN     4.0     NaN\n",
       "Ferry Inquiry               NaN    32.0     NaN\n",
       "Ferry Permit                NaN     1.0     NaN\n",
       "Graffiti                    NaN     NaN    13.0\n",
       "Highway Condition           NaN   130.0     NaN\n",
       "Highway Sign - Damaged      NaN     1.0     NaN\n",
       "Homeless Encampment         NaN     NaN   269.0\n",
       "Illegal Fireworks           NaN     NaN     3.0\n",
       "Illegal Parking             NaN     NaN  3343.0\n",
       "Invitation                  1.0     NaN     NaN\n",
       "Municipal Parking Facility  NaN     1.0     NaN\n",
       "Noise - Commercial          NaN     NaN  2578.0\n",
       "Noise - House of Worship    NaN     NaN    67.0\n",
       "Noise - Park                NaN     NaN   191.0\n",
       "Noise - Street/Sidewalk     NaN     NaN  1928.0\n",
       "Noise - Vehicle             NaN     NaN   750.0\n",
       "Panhandling                 NaN     NaN    23.0\n",
       "Parking Card                NaN     8.0     NaN\n",
       "Posting Advertisement       NaN     NaN     5.0\n",
       "Public Toilet               NaN     6.0     NaN\n",
       "Request for Information     1.0     NaN     NaN\n",
       "Sidewalk Condition          NaN   339.0     NaN\n",
       "Street Condition            NaN  3473.0     NaN\n",
       "Street Light Condition      NaN  7117.0     NaN\n",
       "Street Sign - Damaged       NaN   691.0     NaN\n",
       "Street Sign - Dangling      NaN   110.0     NaN\n",
       "Street Sign - Missing       NaN   327.0     NaN\n",
       "Traffic                     NaN     NaN   168.0\n",
       "Traffic Signal Condition    NaN  3145.0     NaN\n",
       "Tunnel Condition            NaN     1.0     NaN\n",
       "Urinating in Public         NaN     NaN    30.0\n",
       "Vending                     NaN     NaN   229.0"
      ]
     },
     "execution_count": 271,
     "metadata": {},
     "output_type": "execute_result"
    }
   ],
   "source": [
    "three = ['DOT', \"DOP\", 'NYPD']\n",
    "pt00 = complaints[complaints.Agency.isin(three)]\n",
    "pt0 = pt00.pivot_table(values='Status', index='Complaint Type' , \n",
    "                       columns = 'Agency', aggfunc='count')\n",
    "pt0                   "
   ]
  },
  {
   "cell_type": "markdown",
   "metadata": {},
   "source": [
    "The difference is the appearance of `NaN` in all those places\n",
    "where there were no rows in the group to count.\n",
    "\n",
    "All in all, it is an improvement in clarity and informativeness to use crosstab for\n",
    "this task.  As we shall see below, there are cases where cross tabulation\n",
    "can be extended, using other aggregation operations, to build\n",
    "DataFrames that are more easily understood as pivot_tables. The rule\n",
    "of thumb is to use cross tabulation where the operation\n",
    "applied to groups is counting."
   ]
  },
  {
   "cell_type": "markdown",
   "metadata": {},
   "source": [
    "Summarizing: this is the kind of problem to use cross-tabulation for.  It\n",
    "involves counting.  \n",
    "\n",
    "It is possible to we call the `.pivot_table()` method on `complaints`,\n",
    "grouping by Complaint Type and Agency pairs \n",
    "using  `'count'` as the aggregation operation to get the same\n",
    "result, but this is not best practice.  "
   ]
  },
  {
   "cell_type": "markdown",
   "metadata": {},
   "source": [
    "## Using groupby"
   ]
  },
  {
   "cell_type": "markdown",
   "metadata": {},
   "source": [
    "Grouping is the first of the three operations in the split/apply/combine strategy.\n",
    "\n",
    "Let's use a new dataset to illustrate, because it has some very natural\n",
    "groupings."
   ]
  },
  {
   "cell_type": "code",
   "execution_count": 642,
   "metadata": {},
   "outputs": [],
   "source": [
    "nba_file_url = 'https://gawron.sdsu.edu/python_for_ss/course_core/data/nba.csv'\n",
    "nba_df = pd.read_csv(nba_file_url)"
   ]
  },
  {
   "cell_type": "markdown",
   "metadata": {},
   "source": [
    "Each row contains information about one current player. The team rosters are listed in alphabetical order of team name, with the players in alphabetical order by name\n",
    "within the teams."
   ]
  },
  {
   "cell_type": "code",
   "execution_count": 643,
   "metadata": {},
   "outputs": [
    {
     "data": {
      "text/html": [
       "<div>\n",
       "<style scoped>\n",
       "    .dataframe tbody tr th:only-of-type {\n",
       "        vertical-align: middle;\n",
       "    }\n",
       "\n",
       "    .dataframe tbody tr th {\n",
       "        vertical-align: top;\n",
       "    }\n",
       "\n",
       "    .dataframe thead th {\n",
       "        text-align: right;\n",
       "    }\n",
       "</style>\n",
       "<table border=\"1\" class=\"dataframe\">\n",
       "  <thead>\n",
       "    <tr style=\"text-align: right;\">\n",
       "      <th></th>\n",
       "      <th>Name</th>\n",
       "      <th>Team</th>\n",
       "      <th>Number</th>\n",
       "      <th>Position</th>\n",
       "      <th>Age</th>\n",
       "      <th>Height</th>\n",
       "      <th>Weight</th>\n",
       "      <th>College</th>\n",
       "      <th>Salary</th>\n",
       "    </tr>\n",
       "  </thead>\n",
       "  <tbody>\n",
       "    <tr>\n",
       "      <th>0</th>\n",
       "      <td>Avery Bradley</td>\n",
       "      <td>Boston Celtics</td>\n",
       "      <td>0.0</td>\n",
       "      <td>PG</td>\n",
       "      <td>25.0</td>\n",
       "      <td>6-2</td>\n",
       "      <td>180.0</td>\n",
       "      <td>Texas</td>\n",
       "      <td>7730337.0</td>\n",
       "    </tr>\n",
       "    <tr>\n",
       "      <th>1</th>\n",
       "      <td>Jae Crowder</td>\n",
       "      <td>Boston Celtics</td>\n",
       "      <td>99.0</td>\n",
       "      <td>SF</td>\n",
       "      <td>25.0</td>\n",
       "      <td>6-6</td>\n",
       "      <td>235.0</td>\n",
       "      <td>Marquette</td>\n",
       "      <td>6796117.0</td>\n",
       "    </tr>\n",
       "    <tr>\n",
       "      <th>2</th>\n",
       "      <td>John Holland</td>\n",
       "      <td>Boston Celtics</td>\n",
       "      <td>30.0</td>\n",
       "      <td>SG</td>\n",
       "      <td>27.0</td>\n",
       "      <td>6-5</td>\n",
       "      <td>205.0</td>\n",
       "      <td>Boston University</td>\n",
       "      <td>NaN</td>\n",
       "    </tr>\n",
       "    <tr>\n",
       "      <th>3</th>\n",
       "      <td>R.J. Hunter</td>\n",
       "      <td>Boston Celtics</td>\n",
       "      <td>28.0</td>\n",
       "      <td>SG</td>\n",
       "      <td>22.0</td>\n",
       "      <td>6-5</td>\n",
       "      <td>185.0</td>\n",
       "      <td>Georgia State</td>\n",
       "      <td>1148640.0</td>\n",
       "    </tr>\n",
       "    <tr>\n",
       "      <th>4</th>\n",
       "      <td>Jonas Jerebko</td>\n",
       "      <td>Boston Celtics</td>\n",
       "      <td>8.0</td>\n",
       "      <td>PF</td>\n",
       "      <td>29.0</td>\n",
       "      <td>6-10</td>\n",
       "      <td>231.0</td>\n",
       "      <td>NaN</td>\n",
       "      <td>5000000.0</td>\n",
       "    </tr>\n",
       "  </tbody>\n",
       "</table>\n",
       "</div>"
      ],
      "text/plain": [
       "            Name            Team  Number Position   Age Height  Weight            College     Salary\n",
       "0  Avery Bradley  Boston Celtics     0.0       PG  25.0    6-2   180.0              Texas  7730337.0\n",
       "1    Jae Crowder  Boston Celtics    99.0       SF  25.0    6-6   235.0          Marquette  6796117.0\n",
       "2   John Holland  Boston Celtics    30.0       SG  27.0    6-5   205.0  Boston University        NaN\n",
       "3    R.J. Hunter  Boston Celtics    28.0       SG  22.0    6-5   185.0      Georgia State  1148640.0\n",
       "4  Jonas Jerebko  Boston Celtics     8.0       PF  29.0   6-10   231.0                NaN  5000000.0"
      ]
     },
     "execution_count": 643,
     "metadata": {},
     "output_type": "execute_result"
    }
   ],
   "source": [
    "nba_df[:5]"
   ]
  },
  {
   "cell_type": "markdown",
   "metadata": {},
   "source": [
    "We are going to use it to find out about team salaries, height by position\n",
    "and weight by position.\n",
    "\n",
    "We group the rows by team and then show the alphabetically first player in each team."
   ]
  },
  {
   "cell_type": "code",
   "execution_count": 555,
   "metadata": {},
   "outputs": [
    {
     "data": {
      "text/html": [
       "<div>\n",
       "<style scoped>\n",
       "    .dataframe tbody tr th:only-of-type {\n",
       "        vertical-align: middle;\n",
       "    }\n",
       "\n",
       "    .dataframe tbody tr th {\n",
       "        vertical-align: top;\n",
       "    }\n",
       "\n",
       "    .dataframe thead th {\n",
       "        text-align: right;\n",
       "    }\n",
       "</style>\n",
       "<table border=\"1\" class=\"dataframe\">\n",
       "  <thead>\n",
       "    <tr style=\"text-align: right;\">\n",
       "      <th></th>\n",
       "      <th>Name</th>\n",
       "      <th>Number</th>\n",
       "      <th>Position</th>\n",
       "      <th>Age</th>\n",
       "      <th>Height</th>\n",
       "      <th>Weight</th>\n",
       "      <th>College</th>\n",
       "      <th>Salary</th>\n",
       "      <th>HeightFloats</th>\n",
       "    </tr>\n",
       "    <tr>\n",
       "      <th>Team</th>\n",
       "      <th></th>\n",
       "      <th></th>\n",
       "      <th></th>\n",
       "      <th></th>\n",
       "      <th></th>\n",
       "      <th></th>\n",
       "      <th></th>\n",
       "      <th></th>\n",
       "      <th></th>\n",
       "    </tr>\n",
       "  </thead>\n",
       "  <tbody>\n",
       "    <tr>\n",
       "      <th>Atlanta Hawks</th>\n",
       "      <td>Kent Bazemore</td>\n",
       "      <td>24.0</td>\n",
       "      <td>SF</td>\n",
       "      <td>26.0</td>\n",
       "      <td>6-5</td>\n",
       "      <td>201.0</td>\n",
       "      <td>Old Dominion</td>\n",
       "      <td>2000000.0</td>\n",
       "      <td>6.416667</td>\n",
       "    </tr>\n",
       "    <tr>\n",
       "      <th>Boston Celtics</th>\n",
       "      <td>Avery Bradley</td>\n",
       "      <td>0.0</td>\n",
       "      <td>PG</td>\n",
       "      <td>25.0</td>\n",
       "      <td>6-2</td>\n",
       "      <td>180.0</td>\n",
       "      <td>Texas</td>\n",
       "      <td>7730337.0</td>\n",
       "      <td>6.166667</td>\n",
       "    </tr>\n",
       "    <tr>\n",
       "      <th>Brooklyn Nets</th>\n",
       "      <td>Bojan Bogdanovic</td>\n",
       "      <td>44.0</td>\n",
       "      <td>SG</td>\n",
       "      <td>27.0</td>\n",
       "      <td>6-8</td>\n",
       "      <td>216.0</td>\n",
       "      <td>Oklahoma State</td>\n",
       "      <td>3425510.0</td>\n",
       "      <td>6.666667</td>\n",
       "    </tr>\n",
       "    <tr>\n",
       "      <th>Charlotte Hornets</th>\n",
       "      <td>Nicolas Batum</td>\n",
       "      <td>5.0</td>\n",
       "      <td>SG</td>\n",
       "      <td>27.0</td>\n",
       "      <td>6-8</td>\n",
       "      <td>200.0</td>\n",
       "      <td>Virginia Commonwealth</td>\n",
       "      <td>13125306.0</td>\n",
       "      <td>6.666667</td>\n",
       "    </tr>\n",
       "    <tr>\n",
       "      <th>Chicago Bulls</th>\n",
       "      <td>Cameron Bairstow</td>\n",
       "      <td>41.0</td>\n",
       "      <td>PF</td>\n",
       "      <td>25.0</td>\n",
       "      <td>6-9</td>\n",
       "      <td>250.0</td>\n",
       "      <td>New Mexico</td>\n",
       "      <td>845059.0</td>\n",
       "      <td>6.750000</td>\n",
       "    </tr>\n",
       "    <tr>\n",
       "      <th>Cleveland Cavaliers</th>\n",
       "      <td>Matthew Dellavedova</td>\n",
       "      <td>8.0</td>\n",
       "      <td>PG</td>\n",
       "      <td>25.0</td>\n",
       "      <td>6-4</td>\n",
       "      <td>198.0</td>\n",
       "      <td>Saint Mary's</td>\n",
       "      <td>1147276.0</td>\n",
       "      <td>6.333333</td>\n",
       "    </tr>\n",
       "    <tr>\n",
       "      <th>Dallas Mavericks</th>\n",
       "      <td>Justin Anderson</td>\n",
       "      <td>1.0</td>\n",
       "      <td>SG</td>\n",
       "      <td>22.0</td>\n",
       "      <td>6-6</td>\n",
       "      <td>228.0</td>\n",
       "      <td>Virginia</td>\n",
       "      <td>1449000.0</td>\n",
       "      <td>6.500000</td>\n",
       "    </tr>\n",
       "    <tr>\n",
       "      <th>Denver Nuggets</th>\n",
       "      <td>Darrell Arthur</td>\n",
       "      <td>0.0</td>\n",
       "      <td>PF</td>\n",
       "      <td>28.0</td>\n",
       "      <td>6-9</td>\n",
       "      <td>235.0</td>\n",
       "      <td>Kansas</td>\n",
       "      <td>2814000.0</td>\n",
       "      <td>6.750000</td>\n",
       "    </tr>\n",
       "    <tr>\n",
       "      <th>Detroit Pistons</th>\n",
       "      <td>Joel Anthony</td>\n",
       "      <td>50.0</td>\n",
       "      <td>C</td>\n",
       "      <td>33.0</td>\n",
       "      <td>6-9</td>\n",
       "      <td>245.0</td>\n",
       "      <td>UNLV</td>\n",
       "      <td>2500000.0</td>\n",
       "      <td>6.750000</td>\n",
       "    </tr>\n",
       "    <tr>\n",
       "      <th>Golden State Warriors</th>\n",
       "      <td>Leandro Barbosa</td>\n",
       "      <td>19.0</td>\n",
       "      <td>SG</td>\n",
       "      <td>33.0</td>\n",
       "      <td>6-3</td>\n",
       "      <td>194.0</td>\n",
       "      <td>North Carolina</td>\n",
       "      <td>2500000.0</td>\n",
       "      <td>6.250000</td>\n",
       "    </tr>\n",
       "    <tr>\n",
       "      <th>Houston Rockets</th>\n",
       "      <td>Trevor Ariza</td>\n",
       "      <td>1.0</td>\n",
       "      <td>SF</td>\n",
       "      <td>30.0</td>\n",
       "      <td>6-8</td>\n",
       "      <td>215.0</td>\n",
       "      <td>UCLA</td>\n",
       "      <td>8193030.0</td>\n",
       "      <td>6.666667</td>\n",
       "    </tr>\n",
       "    <tr>\n",
       "      <th>Indiana Pacers</th>\n",
       "      <td>Lavoy Allen</td>\n",
       "      <td>5.0</td>\n",
       "      <td>PF</td>\n",
       "      <td>27.0</td>\n",
       "      <td>6-9</td>\n",
       "      <td>255.0</td>\n",
       "      <td>Temple</td>\n",
       "      <td>4050000.0</td>\n",
       "      <td>6.750000</td>\n",
       "    </tr>\n",
       "    <tr>\n",
       "      <th>Los Angeles Clippers</th>\n",
       "      <td>Cole Aldrich</td>\n",
       "      <td>45.0</td>\n",
       "      <td>C</td>\n",
       "      <td>27.0</td>\n",
       "      <td>6-11</td>\n",
       "      <td>250.0</td>\n",
       "      <td>Kansas</td>\n",
       "      <td>1100602.0</td>\n",
       "      <td>6.916667</td>\n",
       "    </tr>\n",
       "    <tr>\n",
       "      <th>Los Angeles Lakers</th>\n",
       "      <td>Brandon Bass</td>\n",
       "      <td>2.0</td>\n",
       "      <td>PF</td>\n",
       "      <td>31.0</td>\n",
       "      <td>6-8</td>\n",
       "      <td>250.0</td>\n",
       "      <td>LSU</td>\n",
       "      <td>3000000.0</td>\n",
       "      <td>6.666667</td>\n",
       "    </tr>\n",
       "    <tr>\n",
       "      <th>Memphis Grizzlies</th>\n",
       "      <td>Jordan Adams</td>\n",
       "      <td>3.0</td>\n",
       "      <td>SG</td>\n",
       "      <td>21.0</td>\n",
       "      <td>6-5</td>\n",
       "      <td>209.0</td>\n",
       "      <td>UCLA</td>\n",
       "      <td>1404600.0</td>\n",
       "      <td>6.416667</td>\n",
       "    </tr>\n",
       "    <tr>\n",
       "      <th>Miami Heat</th>\n",
       "      <td>Chris Bosh</td>\n",
       "      <td>1.0</td>\n",
       "      <td>PF</td>\n",
       "      <td>32.0</td>\n",
       "      <td>6-11</td>\n",
       "      <td>235.0</td>\n",
       "      <td>Georgia Tech</td>\n",
       "      <td>22192730.0</td>\n",
       "      <td>6.916667</td>\n",
       "    </tr>\n",
       "    <tr>\n",
       "      <th>Milwaukee Bucks</th>\n",
       "      <td>Giannis Antetokounmpo</td>\n",
       "      <td>34.0</td>\n",
       "      <td>SF</td>\n",
       "      <td>21.0</td>\n",
       "      <td>6-11</td>\n",
       "      <td>222.0</td>\n",
       "      <td>Arizona</td>\n",
       "      <td>1953960.0</td>\n",
       "      <td>6.916667</td>\n",
       "    </tr>\n",
       "    <tr>\n",
       "      <th>Minnesota Timberwolves</th>\n",
       "      <td>Nemanja Bjelica</td>\n",
       "      <td>88.0</td>\n",
       "      <td>PF</td>\n",
       "      <td>28.0</td>\n",
       "      <td>6-10</td>\n",
       "      <td>240.0</td>\n",
       "      <td>Louisville</td>\n",
       "      <td>3950001.0</td>\n",
       "      <td>6.833333</td>\n",
       "    </tr>\n",
       "    <tr>\n",
       "      <th>New Orleans Pelicans</th>\n",
       "      <td>Alexis Ajinca</td>\n",
       "      <td>42.0</td>\n",
       "      <td>C</td>\n",
       "      <td>28.0</td>\n",
       "      <td>7-2</td>\n",
       "      <td>248.0</td>\n",
       "      <td>California</td>\n",
       "      <td>4389607.0</td>\n",
       "      <td>7.166667</td>\n",
       "    </tr>\n",
       "    <tr>\n",
       "      <th>New York Knicks</th>\n",
       "      <td>Arron Afflalo</td>\n",
       "      <td>4.0</td>\n",
       "      <td>SG</td>\n",
       "      <td>30.0</td>\n",
       "      <td>6-5</td>\n",
       "      <td>210.0</td>\n",
       "      <td>UCLA</td>\n",
       "      <td>8000000.0</td>\n",
       "      <td>6.416667</td>\n",
       "    </tr>\n",
       "    <tr>\n",
       "      <th>Oklahoma City Thunder</th>\n",
       "      <td>Steven Adams</td>\n",
       "      <td>12.0</td>\n",
       "      <td>C</td>\n",
       "      <td>22.0</td>\n",
       "      <td>7-0</td>\n",
       "      <td>255.0</td>\n",
       "      <td>Pittsburgh</td>\n",
       "      <td>2279040.0</td>\n",
       "      <td>7.000000</td>\n",
       "    </tr>\n",
       "    <tr>\n",
       "      <th>Orlando Magic</th>\n",
       "      <td>Dewayne Dedmon</td>\n",
       "      <td>3.0</td>\n",
       "      <td>C</td>\n",
       "      <td>26.0</td>\n",
       "      <td>7-0</td>\n",
       "      <td>245.0</td>\n",
       "      <td>USC</td>\n",
       "      <td>947276.0</td>\n",
       "      <td>7.000000</td>\n",
       "    </tr>\n",
       "    <tr>\n",
       "      <th>Philadelphia 76ers</th>\n",
       "      <td>Elton Brand</td>\n",
       "      <td>42.0</td>\n",
       "      <td>PF</td>\n",
       "      <td>37.0</td>\n",
       "      <td>6-9</td>\n",
       "      <td>254.0</td>\n",
       "      <td>Duke</td>\n",
       "      <td>947276.0</td>\n",
       "      <td>6.750000</td>\n",
       "    </tr>\n",
       "    <tr>\n",
       "      <th>Phoenix Suns</th>\n",
       "      <td>Eric Bledsoe</td>\n",
       "      <td>2.0</td>\n",
       "      <td>PG</td>\n",
       "      <td>26.0</td>\n",
       "      <td>6-1</td>\n",
       "      <td>190.0</td>\n",
       "      <td>Kentucky</td>\n",
       "      <td>13500000.0</td>\n",
       "      <td>6.083333</td>\n",
       "    </tr>\n",
       "    <tr>\n",
       "      <th>Portland Trail Blazers</th>\n",
       "      <td>Cliff Alexander</td>\n",
       "      <td>34.0</td>\n",
       "      <td>PF</td>\n",
       "      <td>20.0</td>\n",
       "      <td>6-8</td>\n",
       "      <td>240.0</td>\n",
       "      <td>Kansas</td>\n",
       "      <td>525093.0</td>\n",
       "      <td>6.666667</td>\n",
       "    </tr>\n",
       "    <tr>\n",
       "      <th>Sacramento Kings</th>\n",
       "      <td>Quincy Acy</td>\n",
       "      <td>13.0</td>\n",
       "      <td>SF</td>\n",
       "      <td>25.0</td>\n",
       "      <td>6-7</td>\n",
       "      <td>240.0</td>\n",
       "      <td>Baylor</td>\n",
       "      <td>981348.0</td>\n",
       "      <td>6.583333</td>\n",
       "    </tr>\n",
       "    <tr>\n",
       "      <th>San Antonio Spurs</th>\n",
       "      <td>LaMarcus Aldridge</td>\n",
       "      <td>12.0</td>\n",
       "      <td>PF</td>\n",
       "      <td>30.0</td>\n",
       "      <td>6-11</td>\n",
       "      <td>240.0</td>\n",
       "      <td>Texas</td>\n",
       "      <td>19689000.0</td>\n",
       "      <td>6.916667</td>\n",
       "    </tr>\n",
       "    <tr>\n",
       "      <th>Toronto Raptors</th>\n",
       "      <td>Bismack Biyombo</td>\n",
       "      <td>8.0</td>\n",
       "      <td>C</td>\n",
       "      <td>23.0</td>\n",
       "      <td>6-9</td>\n",
       "      <td>245.0</td>\n",
       "      <td>Missouri</td>\n",
       "      <td>2814000.0</td>\n",
       "      <td>6.750000</td>\n",
       "    </tr>\n",
       "    <tr>\n",
       "      <th>Utah Jazz</th>\n",
       "      <td>Trevor Booker</td>\n",
       "      <td>33.0</td>\n",
       "      <td>PF</td>\n",
       "      <td>28.0</td>\n",
       "      <td>6-8</td>\n",
       "      <td>228.0</td>\n",
       "      <td>Clemson</td>\n",
       "      <td>4775000.0</td>\n",
       "      <td>6.666667</td>\n",
       "    </tr>\n",
       "    <tr>\n",
       "      <th>Washington Wizards</th>\n",
       "      <td>Alan Anderson</td>\n",
       "      <td>6.0</td>\n",
       "      <td>SG</td>\n",
       "      <td>33.0</td>\n",
       "      <td>6-6</td>\n",
       "      <td>220.0</td>\n",
       "      <td>Michigan State</td>\n",
       "      <td>4000000.0</td>\n",
       "      <td>6.500000</td>\n",
       "    </tr>\n",
       "  </tbody>\n",
       "</table>\n",
       "</div>"
      ],
      "text/plain": [
       "                                         Name  Number Position   Age Height  Weight                College      Salary  HeightFloats\n",
       "Team                                                                                                                                \n",
       "Atlanta Hawks                   Kent Bazemore    24.0       SF  26.0    6-5   201.0           Old Dominion   2000000.0      6.416667\n",
       "Boston Celtics                  Avery Bradley     0.0       PG  25.0    6-2   180.0                  Texas   7730337.0      6.166667\n",
       "Brooklyn Nets                Bojan Bogdanovic    44.0       SG  27.0    6-8   216.0         Oklahoma State   3425510.0      6.666667\n",
       "Charlotte Hornets               Nicolas Batum     5.0       SG  27.0    6-8   200.0  Virginia Commonwealth  13125306.0      6.666667\n",
       "Chicago Bulls                Cameron Bairstow    41.0       PF  25.0    6-9   250.0             New Mexico    845059.0      6.750000\n",
       "Cleveland Cavaliers       Matthew Dellavedova     8.0       PG  25.0    6-4   198.0           Saint Mary's   1147276.0      6.333333\n",
       "Dallas Mavericks              Justin Anderson     1.0       SG  22.0    6-6   228.0               Virginia   1449000.0      6.500000\n",
       "Denver Nuggets                 Darrell Arthur     0.0       PF  28.0    6-9   235.0                 Kansas   2814000.0      6.750000\n",
       "Detroit Pistons                  Joel Anthony    50.0        C  33.0    6-9   245.0                   UNLV   2500000.0      6.750000\n",
       "Golden State Warriors         Leandro Barbosa    19.0       SG  33.0    6-3   194.0         North Carolina   2500000.0      6.250000\n",
       "Houston Rockets                  Trevor Ariza     1.0       SF  30.0    6-8   215.0                   UCLA   8193030.0      6.666667\n",
       "Indiana Pacers                    Lavoy Allen     5.0       PF  27.0    6-9   255.0                 Temple   4050000.0      6.750000\n",
       "Los Angeles Clippers             Cole Aldrich    45.0        C  27.0   6-11   250.0                 Kansas   1100602.0      6.916667\n",
       "Los Angeles Lakers               Brandon Bass     2.0       PF  31.0    6-8   250.0                    LSU   3000000.0      6.666667\n",
       "Memphis Grizzlies                Jordan Adams     3.0       SG  21.0    6-5   209.0                   UCLA   1404600.0      6.416667\n",
       "Miami Heat                         Chris Bosh     1.0       PF  32.0   6-11   235.0           Georgia Tech  22192730.0      6.916667\n",
       "Milwaukee Bucks         Giannis Antetokounmpo    34.0       SF  21.0   6-11   222.0                Arizona   1953960.0      6.916667\n",
       "Minnesota Timberwolves        Nemanja Bjelica    88.0       PF  28.0   6-10   240.0             Louisville   3950001.0      6.833333\n",
       "New Orleans Pelicans            Alexis Ajinca    42.0        C  28.0    7-2   248.0             California   4389607.0      7.166667\n",
       "New York Knicks                 Arron Afflalo     4.0       SG  30.0    6-5   210.0                   UCLA   8000000.0      6.416667\n",
       "Oklahoma City Thunder            Steven Adams    12.0        C  22.0    7-0   255.0             Pittsburgh   2279040.0      7.000000\n",
       "Orlando Magic                  Dewayne Dedmon     3.0        C  26.0    7-0   245.0                    USC    947276.0      7.000000\n",
       "Philadelphia 76ers                Elton Brand    42.0       PF  37.0    6-9   254.0                   Duke    947276.0      6.750000\n",
       "Phoenix Suns                     Eric Bledsoe     2.0       PG  26.0    6-1   190.0               Kentucky  13500000.0      6.083333\n",
       "Portland Trail Blazers        Cliff Alexander    34.0       PF  20.0    6-8   240.0                 Kansas    525093.0      6.666667\n",
       "Sacramento Kings                   Quincy Acy    13.0       SF  25.0    6-7   240.0                 Baylor    981348.0      6.583333\n",
       "San Antonio Spurs           LaMarcus Aldridge    12.0       PF  30.0   6-11   240.0                  Texas  19689000.0      6.916667\n",
       "Toronto Raptors               Bismack Biyombo     8.0        C  23.0    6-9   245.0               Missouri   2814000.0      6.750000\n",
       "Utah Jazz                       Trevor Booker    33.0       PF  28.0    6-8   228.0                Clemson   4775000.0      6.666667\n",
       "Washington Wizards              Alan Anderson     6.0       SG  33.0    6-6   220.0         Michigan State   4000000.0      6.500000"
      ]
     },
     "execution_count": 555,
     "metadata": {},
     "output_type": "execute_result"
    }
   ],
   "source": [
    "gt = nba_df.groupby('Team')\n",
    "# First member of each group\n",
    "gt.first()"
   ]
  },
  {
   "cell_type": "markdown",
   "metadata": {},
   "source": [
    "Next we use the grouping object to retrieve all rows for a particular group:"
   ]
  },
  {
   "cell_type": "code",
   "execution_count": 263,
   "metadata": {
    "scrolled": false
   },
   "outputs": [
    {
     "data": {
      "text/html": [
       "<div>\n",
       "<style scoped>\n",
       "    .dataframe tbody tr th:only-of-type {\n",
       "        vertical-align: middle;\n",
       "    }\n",
       "\n",
       "    .dataframe tbody tr th {\n",
       "        vertical-align: top;\n",
       "    }\n",
       "\n",
       "    .dataframe thead th {\n",
       "        text-align: right;\n",
       "    }\n",
       "</style>\n",
       "<table border=\"1\" class=\"dataframe\">\n",
       "  <thead>\n",
       "    <tr style=\"text-align: right;\">\n",
       "      <th></th>\n",
       "      <th>Name</th>\n",
       "      <th>Team</th>\n",
       "      <th>Number</th>\n",
       "      <th>Position</th>\n",
       "      <th>Age</th>\n",
       "      <th>Height</th>\n",
       "      <th>Weight</th>\n",
       "      <th>College</th>\n",
       "      <th>Salary</th>\n",
       "    </tr>\n",
       "  </thead>\n",
       "  <tbody>\n",
       "    <tr>\n",
       "      <th>442</th>\n",
       "      <td>Trevor Booker</td>\n",
       "      <td>Utah Jazz</td>\n",
       "      <td>33.0</td>\n",
       "      <td>PF</td>\n",
       "      <td>28.0</td>\n",
       "      <td>6-8</td>\n",
       "      <td>228.0</td>\n",
       "      <td>Clemson</td>\n",
       "      <td>4775000.0</td>\n",
       "    </tr>\n",
       "    <tr>\n",
       "      <th>443</th>\n",
       "      <td>Trey Burke</td>\n",
       "      <td>Utah Jazz</td>\n",
       "      <td>3.0</td>\n",
       "      <td>PG</td>\n",
       "      <td>23.0</td>\n",
       "      <td>6-1</td>\n",
       "      <td>191.0</td>\n",
       "      <td>Michigan</td>\n",
       "      <td>2658240.0</td>\n",
       "    </tr>\n",
       "    <tr>\n",
       "      <th>444</th>\n",
       "      <td>Alec Burks</td>\n",
       "      <td>Utah Jazz</td>\n",
       "      <td>10.0</td>\n",
       "      <td>SG</td>\n",
       "      <td>24.0</td>\n",
       "      <td>6-6</td>\n",
       "      <td>214.0</td>\n",
       "      <td>Colorado</td>\n",
       "      <td>9463484.0</td>\n",
       "    </tr>\n",
       "    <tr>\n",
       "      <th>445</th>\n",
       "      <td>Dante Exum</td>\n",
       "      <td>Utah Jazz</td>\n",
       "      <td>11.0</td>\n",
       "      <td>PG</td>\n",
       "      <td>20.0</td>\n",
       "      <td>6-6</td>\n",
       "      <td>190.0</td>\n",
       "      <td>NaN</td>\n",
       "      <td>3777720.0</td>\n",
       "    </tr>\n",
       "    <tr>\n",
       "      <th>446</th>\n",
       "      <td>Derrick Favors</td>\n",
       "      <td>Utah Jazz</td>\n",
       "      <td>15.0</td>\n",
       "      <td>PF</td>\n",
       "      <td>24.0</td>\n",
       "      <td>6-10</td>\n",
       "      <td>265.0</td>\n",
       "      <td>Georgia Tech</td>\n",
       "      <td>12000000.0</td>\n",
       "    </tr>\n",
       "    <tr>\n",
       "      <th>447</th>\n",
       "      <td>Rudy Gobert</td>\n",
       "      <td>Utah Jazz</td>\n",
       "      <td>27.0</td>\n",
       "      <td>C</td>\n",
       "      <td>23.0</td>\n",
       "      <td>7-1</td>\n",
       "      <td>245.0</td>\n",
       "      <td>NaN</td>\n",
       "      <td>1175880.0</td>\n",
       "    </tr>\n",
       "    <tr>\n",
       "      <th>448</th>\n",
       "      <td>Gordon Hayward</td>\n",
       "      <td>Utah Jazz</td>\n",
       "      <td>20.0</td>\n",
       "      <td>SF</td>\n",
       "      <td>26.0</td>\n",
       "      <td>6-8</td>\n",
       "      <td>226.0</td>\n",
       "      <td>Butler</td>\n",
       "      <td>15409570.0</td>\n",
       "    </tr>\n",
       "    <tr>\n",
       "      <th>449</th>\n",
       "      <td>Rodney Hood</td>\n",
       "      <td>Utah Jazz</td>\n",
       "      <td>5.0</td>\n",
       "      <td>SG</td>\n",
       "      <td>23.0</td>\n",
       "      <td>6-8</td>\n",
       "      <td>206.0</td>\n",
       "      <td>Duke</td>\n",
       "      <td>1348440.0</td>\n",
       "    </tr>\n",
       "    <tr>\n",
       "      <th>450</th>\n",
       "      <td>Joe Ingles</td>\n",
       "      <td>Utah Jazz</td>\n",
       "      <td>2.0</td>\n",
       "      <td>SF</td>\n",
       "      <td>28.0</td>\n",
       "      <td>6-8</td>\n",
       "      <td>226.0</td>\n",
       "      <td>NaN</td>\n",
       "      <td>2050000.0</td>\n",
       "    </tr>\n",
       "    <tr>\n",
       "      <th>451</th>\n",
       "      <td>Chris Johnson</td>\n",
       "      <td>Utah Jazz</td>\n",
       "      <td>23.0</td>\n",
       "      <td>SF</td>\n",
       "      <td>26.0</td>\n",
       "      <td>6-6</td>\n",
       "      <td>206.0</td>\n",
       "      <td>Dayton</td>\n",
       "      <td>981348.0</td>\n",
       "    </tr>\n",
       "    <tr>\n",
       "      <th>452</th>\n",
       "      <td>Trey Lyles</td>\n",
       "      <td>Utah Jazz</td>\n",
       "      <td>41.0</td>\n",
       "      <td>PF</td>\n",
       "      <td>20.0</td>\n",
       "      <td>6-10</td>\n",
       "      <td>234.0</td>\n",
       "      <td>Kentucky</td>\n",
       "      <td>2239800.0</td>\n",
       "    </tr>\n",
       "    <tr>\n",
       "      <th>453</th>\n",
       "      <td>Shelvin Mack</td>\n",
       "      <td>Utah Jazz</td>\n",
       "      <td>8.0</td>\n",
       "      <td>PG</td>\n",
       "      <td>26.0</td>\n",
       "      <td>6-3</td>\n",
       "      <td>203.0</td>\n",
       "      <td>Butler</td>\n",
       "      <td>2433333.0</td>\n",
       "    </tr>\n",
       "    <tr>\n",
       "      <th>454</th>\n",
       "      <td>Raul Neto</td>\n",
       "      <td>Utah Jazz</td>\n",
       "      <td>25.0</td>\n",
       "      <td>PG</td>\n",
       "      <td>24.0</td>\n",
       "      <td>6-1</td>\n",
       "      <td>179.0</td>\n",
       "      <td>NaN</td>\n",
       "      <td>900000.0</td>\n",
       "    </tr>\n",
       "    <tr>\n",
       "      <th>455</th>\n",
       "      <td>Tibor Pleiss</td>\n",
       "      <td>Utah Jazz</td>\n",
       "      <td>21.0</td>\n",
       "      <td>C</td>\n",
       "      <td>26.0</td>\n",
       "      <td>7-3</td>\n",
       "      <td>256.0</td>\n",
       "      <td>NaN</td>\n",
       "      <td>2900000.0</td>\n",
       "    </tr>\n",
       "    <tr>\n",
       "      <th>456</th>\n",
       "      <td>Jeff Withey</td>\n",
       "      <td>Utah Jazz</td>\n",
       "      <td>24.0</td>\n",
       "      <td>C</td>\n",
       "      <td>26.0</td>\n",
       "      <td>7-0</td>\n",
       "      <td>231.0</td>\n",
       "      <td>Kansas</td>\n",
       "      <td>947276.0</td>\n",
       "    </tr>\n",
       "  </tbody>\n",
       "</table>\n",
       "</div>"
      ],
      "text/plain": [
       "               Name       Team  Number Position   Age Height  Weight       College      Salary\n",
       "442   Trevor Booker  Utah Jazz    33.0       PF  28.0    6-8   228.0       Clemson   4775000.0\n",
       "443      Trey Burke  Utah Jazz     3.0       PG  23.0    6-1   191.0      Michigan   2658240.0\n",
       "444      Alec Burks  Utah Jazz    10.0       SG  24.0    6-6   214.0      Colorado   9463484.0\n",
       "445      Dante Exum  Utah Jazz    11.0       PG  20.0    6-6   190.0           NaN   3777720.0\n",
       "446  Derrick Favors  Utah Jazz    15.0       PF  24.0   6-10   265.0  Georgia Tech  12000000.0\n",
       "447     Rudy Gobert  Utah Jazz    27.0        C  23.0    7-1   245.0           NaN   1175880.0\n",
       "448  Gordon Hayward  Utah Jazz    20.0       SF  26.0    6-8   226.0        Butler  15409570.0\n",
       "449     Rodney Hood  Utah Jazz     5.0       SG  23.0    6-8   206.0          Duke   1348440.0\n",
       "450      Joe Ingles  Utah Jazz     2.0       SF  28.0    6-8   226.0           NaN   2050000.0\n",
       "451   Chris Johnson  Utah Jazz    23.0       SF  26.0    6-6   206.0        Dayton    981348.0\n",
       "452      Trey Lyles  Utah Jazz    41.0       PF  20.0   6-10   234.0      Kentucky   2239800.0\n",
       "453    Shelvin Mack  Utah Jazz     8.0       PG  26.0    6-3   203.0        Butler   2433333.0\n",
       "454       Raul Neto  Utah Jazz    25.0       PG  24.0    6-1   179.0           NaN    900000.0\n",
       "455    Tibor Pleiss  Utah Jazz    21.0        C  26.0    7-3   256.0           NaN   2900000.0\n",
       "456     Jeff Withey  Utah Jazz    24.0        C  26.0    7-0   231.0        Kansas    947276.0"
      ]
     },
     "execution_count": 263,
     "metadata": {},
     "output_type": "execute_result"
    }
   ],
   "source": [
    "# A particular group\n",
    "gt.get_group('Utah Jazz')"
   ]
  },
  {
   "cell_type": "markdown",
   "metadata": {},
   "source": [
    "Note that the benefit of the grouping object is that it makes various \n",
    "group member by group member operatations operations easrier.\n",
    "\n",
    "If all we were interested in was constructing DataFrames limited to one team,\n",
    "we could just as easily have been done that with:"
   ]
  },
  {
   "cell_type": "code",
   "execution_count": 626,
   "metadata": {
    "scrolled": true
   },
   "outputs": [
    {
     "data": {
      "text/html": [
       "<div>\n",
       "<style scoped>\n",
       "    .dataframe tbody tr th:only-of-type {\n",
       "        vertical-align: middle;\n",
       "    }\n",
       "\n",
       "    .dataframe tbody tr th {\n",
       "        vertical-align: top;\n",
       "    }\n",
       "\n",
       "    .dataframe thead th {\n",
       "        text-align: right;\n",
       "    }\n",
       "</style>\n",
       "<table border=\"1\" class=\"dataframe\">\n",
       "  <thead>\n",
       "    <tr style=\"text-align: right;\">\n",
       "      <th></th>\n",
       "      <th>Name</th>\n",
       "      <th>Team</th>\n",
       "      <th>Number</th>\n",
       "      <th>Position</th>\n",
       "      <th>Age</th>\n",
       "      <th>Height</th>\n",
       "      <th>Weight</th>\n",
       "      <th>College</th>\n",
       "      <th>Salary</th>\n",
       "      <th>HeightFloats</th>\n",
       "    </tr>\n",
       "  </thead>\n",
       "  <tbody>\n",
       "    <tr>\n",
       "      <th>442</th>\n",
       "      <td>Trevor Booker</td>\n",
       "      <td>Utah Jazz</td>\n",
       "      <td>33.0</td>\n",
       "      <td>PF</td>\n",
       "      <td>28.0</td>\n",
       "      <td>6-8</td>\n",
       "      <td>228.0</td>\n",
       "      <td>Clemson</td>\n",
       "      <td>4775000.0</td>\n",
       "      <td>6.666667</td>\n",
       "    </tr>\n",
       "    <tr>\n",
       "      <th>443</th>\n",
       "      <td>Trey Burke</td>\n",
       "      <td>Utah Jazz</td>\n",
       "      <td>3.0</td>\n",
       "      <td>PG</td>\n",
       "      <td>23.0</td>\n",
       "      <td>6-1</td>\n",
       "      <td>191.0</td>\n",
       "      <td>Michigan</td>\n",
       "      <td>2658240.0</td>\n",
       "      <td>6.083333</td>\n",
       "    </tr>\n",
       "    <tr>\n",
       "      <th>444</th>\n",
       "      <td>Alec Burks</td>\n",
       "      <td>Utah Jazz</td>\n",
       "      <td>10.0</td>\n",
       "      <td>SG</td>\n",
       "      <td>24.0</td>\n",
       "      <td>6-6</td>\n",
       "      <td>214.0</td>\n",
       "      <td>Colorado</td>\n",
       "      <td>9463484.0</td>\n",
       "      <td>6.500000</td>\n",
       "    </tr>\n",
       "    <tr>\n",
       "      <th>445</th>\n",
       "      <td>Dante Exum</td>\n",
       "      <td>Utah Jazz</td>\n",
       "      <td>11.0</td>\n",
       "      <td>PG</td>\n",
       "      <td>20.0</td>\n",
       "      <td>6-6</td>\n",
       "      <td>190.0</td>\n",
       "      <td>NaN</td>\n",
       "      <td>3777720.0</td>\n",
       "      <td>6.500000</td>\n",
       "    </tr>\n",
       "    <tr>\n",
       "      <th>446</th>\n",
       "      <td>Derrick Favors</td>\n",
       "      <td>Utah Jazz</td>\n",
       "      <td>15.0</td>\n",
       "      <td>PF</td>\n",
       "      <td>24.0</td>\n",
       "      <td>6-10</td>\n",
       "      <td>265.0</td>\n",
       "      <td>Georgia Tech</td>\n",
       "      <td>12000000.0</td>\n",
       "      <td>6.833333</td>\n",
       "    </tr>\n",
       "    <tr>\n",
       "      <th>447</th>\n",
       "      <td>Rudy Gobert</td>\n",
       "      <td>Utah Jazz</td>\n",
       "      <td>27.0</td>\n",
       "      <td>C</td>\n",
       "      <td>23.0</td>\n",
       "      <td>7-1</td>\n",
       "      <td>245.0</td>\n",
       "      <td>NaN</td>\n",
       "      <td>1175880.0</td>\n",
       "      <td>7.083333</td>\n",
       "    </tr>\n",
       "    <tr>\n",
       "      <th>448</th>\n",
       "      <td>Gordon Hayward</td>\n",
       "      <td>Utah Jazz</td>\n",
       "      <td>20.0</td>\n",
       "      <td>SF</td>\n",
       "      <td>26.0</td>\n",
       "      <td>6-8</td>\n",
       "      <td>226.0</td>\n",
       "      <td>Butler</td>\n",
       "      <td>15409570.0</td>\n",
       "      <td>6.666667</td>\n",
       "    </tr>\n",
       "    <tr>\n",
       "      <th>449</th>\n",
       "      <td>Rodney Hood</td>\n",
       "      <td>Utah Jazz</td>\n",
       "      <td>5.0</td>\n",
       "      <td>SG</td>\n",
       "      <td>23.0</td>\n",
       "      <td>6-8</td>\n",
       "      <td>206.0</td>\n",
       "      <td>Duke</td>\n",
       "      <td>1348440.0</td>\n",
       "      <td>6.666667</td>\n",
       "    </tr>\n",
       "    <tr>\n",
       "      <th>450</th>\n",
       "      <td>Joe Ingles</td>\n",
       "      <td>Utah Jazz</td>\n",
       "      <td>2.0</td>\n",
       "      <td>SF</td>\n",
       "      <td>28.0</td>\n",
       "      <td>6-8</td>\n",
       "      <td>226.0</td>\n",
       "      <td>NaN</td>\n",
       "      <td>2050000.0</td>\n",
       "      <td>6.666667</td>\n",
       "    </tr>\n",
       "    <tr>\n",
       "      <th>451</th>\n",
       "      <td>Chris Johnson</td>\n",
       "      <td>Utah Jazz</td>\n",
       "      <td>23.0</td>\n",
       "      <td>SF</td>\n",
       "      <td>26.0</td>\n",
       "      <td>6-6</td>\n",
       "      <td>206.0</td>\n",
       "      <td>Dayton</td>\n",
       "      <td>981348.0</td>\n",
       "      <td>6.500000</td>\n",
       "    </tr>\n",
       "    <tr>\n",
       "      <th>452</th>\n",
       "      <td>Trey Lyles</td>\n",
       "      <td>Utah Jazz</td>\n",
       "      <td>41.0</td>\n",
       "      <td>PF</td>\n",
       "      <td>20.0</td>\n",
       "      <td>6-10</td>\n",
       "      <td>234.0</td>\n",
       "      <td>Kentucky</td>\n",
       "      <td>2239800.0</td>\n",
       "      <td>6.833333</td>\n",
       "    </tr>\n",
       "    <tr>\n",
       "      <th>453</th>\n",
       "      <td>Shelvin Mack</td>\n",
       "      <td>Utah Jazz</td>\n",
       "      <td>8.0</td>\n",
       "      <td>PG</td>\n",
       "      <td>26.0</td>\n",
       "      <td>6-3</td>\n",
       "      <td>203.0</td>\n",
       "      <td>Butler</td>\n",
       "      <td>2433333.0</td>\n",
       "      <td>6.250000</td>\n",
       "    </tr>\n",
       "    <tr>\n",
       "      <th>454</th>\n",
       "      <td>Raul Neto</td>\n",
       "      <td>Utah Jazz</td>\n",
       "      <td>25.0</td>\n",
       "      <td>PG</td>\n",
       "      <td>24.0</td>\n",
       "      <td>6-1</td>\n",
       "      <td>179.0</td>\n",
       "      <td>NaN</td>\n",
       "      <td>900000.0</td>\n",
       "      <td>6.083333</td>\n",
       "    </tr>\n",
       "    <tr>\n",
       "      <th>455</th>\n",
       "      <td>Tibor Pleiss</td>\n",
       "      <td>Utah Jazz</td>\n",
       "      <td>21.0</td>\n",
       "      <td>C</td>\n",
       "      <td>26.0</td>\n",
       "      <td>7-3</td>\n",
       "      <td>256.0</td>\n",
       "      <td>NaN</td>\n",
       "      <td>2900000.0</td>\n",
       "      <td>7.250000</td>\n",
       "    </tr>\n",
       "    <tr>\n",
       "      <th>456</th>\n",
       "      <td>Jeff Withey</td>\n",
       "      <td>Utah Jazz</td>\n",
       "      <td>24.0</td>\n",
       "      <td>C</td>\n",
       "      <td>26.0</td>\n",
       "      <td>7-0</td>\n",
       "      <td>231.0</td>\n",
       "      <td>Kansas</td>\n",
       "      <td>947276.0</td>\n",
       "      <td>7.000000</td>\n",
       "    </tr>\n",
       "  </tbody>\n",
       "</table>\n",
       "</div>"
      ],
      "text/plain": [
       "               Name       Team  Number Position   Age Height  Weight       College      Salary  HeightFloats\n",
       "442   Trevor Booker  Utah Jazz    33.0       PF  28.0    6-8   228.0       Clemson   4775000.0      6.666667\n",
       "443      Trey Burke  Utah Jazz     3.0       PG  23.0    6-1   191.0      Michigan   2658240.0      6.083333\n",
       "444      Alec Burks  Utah Jazz    10.0       SG  24.0    6-6   214.0      Colorado   9463484.0      6.500000\n",
       "445      Dante Exum  Utah Jazz    11.0       PG  20.0    6-6   190.0           NaN   3777720.0      6.500000\n",
       "446  Derrick Favors  Utah Jazz    15.0       PF  24.0   6-10   265.0  Georgia Tech  12000000.0      6.833333\n",
       "447     Rudy Gobert  Utah Jazz    27.0        C  23.0    7-1   245.0           NaN   1175880.0      7.083333\n",
       "448  Gordon Hayward  Utah Jazz    20.0       SF  26.0    6-8   226.0        Butler  15409570.0      6.666667\n",
       "449     Rodney Hood  Utah Jazz     5.0       SG  23.0    6-8   206.0          Duke   1348440.0      6.666667\n",
       "450      Joe Ingles  Utah Jazz     2.0       SF  28.0    6-8   226.0           NaN   2050000.0      6.666667\n",
       "451   Chris Johnson  Utah Jazz    23.0       SF  26.0    6-6   206.0        Dayton    981348.0      6.500000\n",
       "452      Trey Lyles  Utah Jazz    41.0       PF  20.0   6-10   234.0      Kentucky   2239800.0      6.833333\n",
       "453    Shelvin Mack  Utah Jazz     8.0       PG  26.0    6-3   203.0        Butler   2433333.0      6.250000\n",
       "454       Raul Neto  Utah Jazz    25.0       PG  24.0    6-1   179.0           NaN    900000.0      6.083333\n",
       "455    Tibor Pleiss  Utah Jazz    21.0        C  26.0    7-3   256.0           NaN   2900000.0      7.250000\n",
       "456     Jeff Withey  Utah Jazz    24.0        C  26.0    7-0   231.0        Kansas    947276.0      7.000000"
      ]
     },
     "execution_count": 626,
     "metadata": {},
     "output_type": "execute_result"
    }
   ],
   "source": [
    "nba_df[nba_df['Team'] == 'Utah Jazz']"
   ]
  },
  {
   "cell_type": "markdown",
   "metadata": {},
   "source": [
    "But suppose we were interested in getting various averages by team. Suppose\n",
    "for example we were interested in average team height and average team salary.\n",
    "Then it would be convenient to use our team grouping instance and do:"
   ]
  },
  {
   "cell_type": "code",
   "execution_count": 634,
   "metadata": {},
   "outputs": [
    {
     "name": "stdout",
     "output_type": "stream",
     "text": [
      "Team\n",
      "San Antonio Spurs         31.600000\n",
      "Dallas Mavericks          29.733333\n",
      "Cleveland Cavaliers       29.533333\n",
      "Los Angeles Clippers      29.466667\n",
      "Miami Heat                28.933333\n",
      "Memphis Grizzlies         28.388889\n",
      "Atlanta Hawks             28.200000\n",
      "Washington Wizards        27.866667\n",
      "Golden State Warriors     27.666667\n",
      "Los Angeles Lakers        27.533333\n",
      "Chicago Bulls             27.400000\n",
      "Oklahoma City Thunder     27.066667\n",
      "New York Knicks           27.000000\n",
      "New Orleans Pelicans      26.894737\n",
      "Houston Rockets           26.866667\n",
      "Sacramento Kings          26.800000\n",
      "Indiana Pacers            26.400000\n",
      "Minnesota Timberwolves    26.357143\n",
      "Detroit Pistons           26.200000\n",
      "Charlotte Hornets         26.133333\n",
      "Toronto Raptors           26.133333\n",
      "Phoenix Suns              25.866667\n",
      "Denver Nuggets            25.733333\n",
      "Brooklyn Nets             25.600000\n",
      "Orlando Magic             25.071429\n",
      "Portland Trail Blazers    25.066667\n",
      "Boston Celtics            24.733333\n",
      "Philadelphia 76ers        24.600000\n",
      "Milwaukee Bucks           24.562500\n",
      "Utah Jazz                 24.466667\n",
      "Name: Age, dtype: float64\n",
      "\n",
      "Team\n",
      "Cleveland Cavaliers       7.642049e+06\n",
      "Miami Heat                6.347359e+06\n",
      "Los Angeles Clippers      6.323643e+06\n",
      "Oklahoma City Thunder     6.251020e+06\n",
      "Golden State Warriors     5.924600e+06\n",
      "Chicago Bulls             5.785559e+06\n",
      "San Antonio Spurs         5.629516e+06\n",
      "Memphis Grizzlies         5.467920e+06\n",
      "Charlotte Hornets         5.222728e+06\n",
      "Washington Wizards        5.088576e+06\n",
      "Houston Rockets           5.018868e+06\n",
      "Atlanta Hawks             4.860197e+06\n",
      "Los Angeles Lakers        4.784695e+06\n",
      "Sacramento Kings          4.778911e+06\n",
      "Dallas Mavericks          4.746582e+06\n",
      "Toronto Raptors           4.741174e+06\n",
      "Minnesota Timberwolves    4.593054e+06\n",
      "New York Knicks           4.581494e+06\n",
      "Detroit Pistons           4.477884e+06\n",
      "Indiana Pacers            4.450122e+06\n",
      "New Orleans Pelicans      4.355304e+06\n",
      "Milwaukee Bucks           4.350220e+06\n",
      "Orlando Magic             4.297248e+06\n",
      "Denver Nuggets            4.294424e+06\n",
      "Phoenix Suns              4.229676e+06\n",
      "Utah Jazz                 4.204006e+06\n",
      "Boston Celtics            4.181505e+06\n",
      "Brooklyn Nets             3.501898e+06\n",
      "Portland Trail Blazers    3.220121e+06\n",
      "Philadelphia 76ers        2.213778e+06\n",
      "Name: Salary, dtype: float64\n"
     ]
    }
   ],
   "source": [
    "print(gt['Age'].mean().sort_values(ascending=False))\n",
    "print()\n",
    "print(gt['Salary'].mean().sort_values(ascending=False))"
   ]
  },
  {
   "cell_type": "markdown",
   "metadata": {},
   "source": [
    "Grouping also gets more interesting when it's done by more than one attribute at a time Let's try  grouping by team and position.\n",
    "\n",
    "In basketball each team puts five players\n",
    "on the court at any given time.   Although \n",
    "the specialized roles of the players on the court are changing,\n",
    "classically a player plays one of five positions: \n",
    "\n",
    "1. Point Guard (PG)\n",
    "2. Shooting Guard (SG)\n",
    "3. Small Forward (SF)\n",
    "4. Power Forward (PF)\n",
    "5. Center (C).\n",
    "\n",
    "This data set assigns each player to one of these five positions. \n",
    "A team will typically have multiple players assigned to any\n",
    "given position."
   ]
  },
  {
   "cell_type": "code",
   "execution_count": 627,
   "metadata": {
    "scrolled": true
   },
   "outputs": [
    {
     "data": {
      "text/html": [
       "<div>\n",
       "<style scoped>\n",
       "    .dataframe tbody tr th:only-of-type {\n",
       "        vertical-align: middle;\n",
       "    }\n",
       "\n",
       "    .dataframe tbody tr th {\n",
       "        vertical-align: top;\n",
       "    }\n",
       "\n",
       "    .dataframe thead th {\n",
       "        text-align: right;\n",
       "    }\n",
       "</style>\n",
       "<table border=\"1\" class=\"dataframe\">\n",
       "  <thead>\n",
       "    <tr style=\"text-align: right;\">\n",
       "      <th></th>\n",
       "      <th></th>\n",
       "      <th>Name</th>\n",
       "      <th>Number</th>\n",
       "      <th>Age</th>\n",
       "      <th>Height</th>\n",
       "      <th>Weight</th>\n",
       "      <th>College</th>\n",
       "      <th>Salary</th>\n",
       "      <th>HeightFloats</th>\n",
       "    </tr>\n",
       "    <tr>\n",
       "      <th>Team</th>\n",
       "      <th>Position</th>\n",
       "      <th></th>\n",
       "      <th></th>\n",
       "      <th></th>\n",
       "      <th></th>\n",
       "      <th></th>\n",
       "      <th></th>\n",
       "      <th></th>\n",
       "      <th></th>\n",
       "    </tr>\n",
       "  </thead>\n",
       "  <tbody>\n",
       "    <tr>\n",
       "      <th rowspan=\"5\" valign=\"top\">Atlanta Hawks</th>\n",
       "      <th>C</th>\n",
       "      <td>Al Horford</td>\n",
       "      <td>15.0</td>\n",
       "      <td>30.0</td>\n",
       "      <td>6-10</td>\n",
       "      <td>245.0</td>\n",
       "      <td>Florida</td>\n",
       "      <td>12000000.0</td>\n",
       "      <td>6.833333</td>\n",
       "    </tr>\n",
       "    <tr>\n",
       "      <th>PF</th>\n",
       "      <td>Kris Humphries</td>\n",
       "      <td>43.0</td>\n",
       "      <td>31.0</td>\n",
       "      <td>6-9</td>\n",
       "      <td>235.0</td>\n",
       "      <td>Minnesota</td>\n",
       "      <td>1000000.0</td>\n",
       "      <td>6.750000</td>\n",
       "    </tr>\n",
       "    <tr>\n",
       "      <th>PG</th>\n",
       "      <td>Dennis Schroder</td>\n",
       "      <td>17.0</td>\n",
       "      <td>22.0</td>\n",
       "      <td>6-1</td>\n",
       "      <td>172.0</td>\n",
       "      <td>Wake Forest</td>\n",
       "      <td>1763400.0</td>\n",
       "      <td>6.083333</td>\n",
       "    </tr>\n",
       "    <tr>\n",
       "      <th>SF</th>\n",
       "      <td>Kent Bazemore</td>\n",
       "      <td>24.0</td>\n",
       "      <td>26.0</td>\n",
       "      <td>6-5</td>\n",
       "      <td>201.0</td>\n",
       "      <td>Old Dominion</td>\n",
       "      <td>2000000.0</td>\n",
       "      <td>6.416667</td>\n",
       "    </tr>\n",
       "    <tr>\n",
       "      <th>SG</th>\n",
       "      <td>Tim Hardaway Jr.</td>\n",
       "      <td>10.0</td>\n",
       "      <td>24.0</td>\n",
       "      <td>6-6</td>\n",
       "      <td>205.0</td>\n",
       "      <td>Michigan</td>\n",
       "      <td>1304520.0</td>\n",
       "      <td>6.500000</td>\n",
       "    </tr>\n",
       "    <tr>\n",
       "      <th>...</th>\n",
       "      <th>...</th>\n",
       "      <td>...</td>\n",
       "      <td>...</td>\n",
       "      <td>...</td>\n",
       "      <td>...</td>\n",
       "      <td>...</td>\n",
       "      <td>...</td>\n",
       "      <td>...</td>\n",
       "      <td>...</td>\n",
       "    </tr>\n",
       "    <tr>\n",
       "      <th rowspan=\"5\" valign=\"top\">Washington Wizards</th>\n",
       "      <th>C</th>\n",
       "      <td>Marcin Gortat</td>\n",
       "      <td>13.0</td>\n",
       "      <td>32.0</td>\n",
       "      <td>6-11</td>\n",
       "      <td>240.0</td>\n",
       "      <td>North Carolina State</td>\n",
       "      <td>11217391.0</td>\n",
       "      <td>6.916667</td>\n",
       "    </tr>\n",
       "    <tr>\n",
       "      <th>PF</th>\n",
       "      <td>Drew Gooden</td>\n",
       "      <td>90.0</td>\n",
       "      <td>34.0</td>\n",
       "      <td>6-10</td>\n",
       "      <td>250.0</td>\n",
       "      <td>Kansas</td>\n",
       "      <td>3300000.0</td>\n",
       "      <td>6.833333</td>\n",
       "    </tr>\n",
       "    <tr>\n",
       "      <th>PG</th>\n",
       "      <td>Ramon Sessions</td>\n",
       "      <td>7.0</td>\n",
       "      <td>30.0</td>\n",
       "      <td>6-3</td>\n",
       "      <td>190.0</td>\n",
       "      <td>Nevada</td>\n",
       "      <td>2170465.0</td>\n",
       "      <td>6.250000</td>\n",
       "    </tr>\n",
       "    <tr>\n",
       "      <th>SF</th>\n",
       "      <td>Jared Dudley</td>\n",
       "      <td>1.0</td>\n",
       "      <td>30.0</td>\n",
       "      <td>6-7</td>\n",
       "      <td>225.0</td>\n",
       "      <td>Boston College</td>\n",
       "      <td>4375000.0</td>\n",
       "      <td>6.583333</td>\n",
       "    </tr>\n",
       "    <tr>\n",
       "      <th>SG</th>\n",
       "      <td>Alan Anderson</td>\n",
       "      <td>6.0</td>\n",
       "      <td>33.0</td>\n",
       "      <td>6-6</td>\n",
       "      <td>220.0</td>\n",
       "      <td>Michigan State</td>\n",
       "      <td>4000000.0</td>\n",
       "      <td>6.500000</td>\n",
       "    </tr>\n",
       "  </tbody>\n",
       "</table>\n",
       "<p>149 rows × 8 columns</p>\n",
       "</div>"
      ],
      "text/plain": [
       "                                         Name  Number   Age Height  Weight               College      Salary  HeightFloats\n",
       "Team               Position                                                                                               \n",
       "Atlanta Hawks      C               Al Horford    15.0  30.0   6-10   245.0               Florida  12000000.0      6.833333\n",
       "                   PF          Kris Humphries    43.0  31.0    6-9   235.0             Minnesota   1000000.0      6.750000\n",
       "                   PG         Dennis Schroder    17.0  22.0    6-1   172.0           Wake Forest   1763400.0      6.083333\n",
       "                   SF           Kent Bazemore    24.0  26.0    6-5   201.0          Old Dominion   2000000.0      6.416667\n",
       "                   SG        Tim Hardaway Jr.    10.0  24.0    6-6   205.0              Michigan   1304520.0      6.500000\n",
       "...                                       ...     ...   ...    ...     ...                   ...         ...           ...\n",
       "Washington Wizards C            Marcin Gortat    13.0  32.0   6-11   240.0  North Carolina State  11217391.0      6.916667\n",
       "                   PF             Drew Gooden    90.0  34.0   6-10   250.0                Kansas   3300000.0      6.833333\n",
       "                   PG          Ramon Sessions     7.0  30.0    6-3   190.0                Nevada   2170465.0      6.250000\n",
       "                   SF            Jared Dudley     1.0  30.0    6-7   225.0        Boston College   4375000.0      6.583333\n",
       "                   SG           Alan Anderson     6.0  33.0    6-6   220.0        Michigan State   4000000.0      6.500000\n",
       "\n",
       "[149 rows x 8 columns]"
      ]
     },
     "execution_count": 627,
     "metadata": {},
     "output_type": "execute_result"
    }
   ],
   "source": [
    "gtp = nba_df.groupby(['Team','Position'])\n",
    "# Show the first entry for each team/position pair\n",
    "gtp.first()"
   ]
  },
  {
   "cell_type": "markdown",
   "metadata": {},
   "source": [
    "`gtp_first` is a DataFrame with a **double index** (an index with two levels) so we can select an index member from the first level to get a set of rows.\n",
    "\n",
    "The alphabetically first players on the Boston Celtics, by position."
   ]
  },
  {
   "cell_type": "code",
   "execution_count": 544,
   "metadata": {},
   "outputs": [
    {
     "data": {
      "text/html": [
       "<div>\n",
       "<style scoped>\n",
       "    .dataframe tbody tr th:only-of-type {\n",
       "        vertical-align: middle;\n",
       "    }\n",
       "\n",
       "    .dataframe tbody tr th {\n",
       "        vertical-align: top;\n",
       "    }\n",
       "\n",
       "    .dataframe thead th {\n",
       "        text-align: right;\n",
       "    }\n",
       "</style>\n",
       "<table border=\"1\" class=\"dataframe\">\n",
       "  <thead>\n",
       "    <tr style=\"text-align: right;\">\n",
       "      <th></th>\n",
       "      <th>Name</th>\n",
       "      <th>Number</th>\n",
       "      <th>Age</th>\n",
       "      <th>Height</th>\n",
       "      <th>Weight</th>\n",
       "      <th>College</th>\n",
       "      <th>Salary</th>\n",
       "    </tr>\n",
       "    <tr>\n",
       "      <th>Position</th>\n",
       "      <th></th>\n",
       "      <th></th>\n",
       "      <th></th>\n",
       "      <th></th>\n",
       "      <th></th>\n",
       "      <th></th>\n",
       "      <th></th>\n",
       "    </tr>\n",
       "  </thead>\n",
       "  <tbody>\n",
       "    <tr>\n",
       "      <th>C</th>\n",
       "      <td>Kelly Olynyk</td>\n",
       "      <td>41.0</td>\n",
       "      <td>25.0</td>\n",
       "      <td>7-0</td>\n",
       "      <td>238.0</td>\n",
       "      <td>Gonzaga</td>\n",
       "      <td>2165160.0</td>\n",
       "    </tr>\n",
       "    <tr>\n",
       "      <th>PF</th>\n",
       "      <td>Jonas Jerebko</td>\n",
       "      <td>8.0</td>\n",
       "      <td>29.0</td>\n",
       "      <td>6-10</td>\n",
       "      <td>231.0</td>\n",
       "      <td>LSU</td>\n",
       "      <td>5000000.0</td>\n",
       "    </tr>\n",
       "    <tr>\n",
       "      <th>PG</th>\n",
       "      <td>Avery Bradley</td>\n",
       "      <td>0.0</td>\n",
       "      <td>25.0</td>\n",
       "      <td>6-2</td>\n",
       "      <td>180.0</td>\n",
       "      <td>Texas</td>\n",
       "      <td>7730337.0</td>\n",
       "    </tr>\n",
       "    <tr>\n",
       "      <th>SF</th>\n",
       "      <td>Jae Crowder</td>\n",
       "      <td>99.0</td>\n",
       "      <td>25.0</td>\n",
       "      <td>6-6</td>\n",
       "      <td>235.0</td>\n",
       "      <td>Marquette</td>\n",
       "      <td>6796117.0</td>\n",
       "    </tr>\n",
       "    <tr>\n",
       "      <th>SG</th>\n",
       "      <td>John Holland</td>\n",
       "      <td>30.0</td>\n",
       "      <td>27.0</td>\n",
       "      <td>6-5</td>\n",
       "      <td>205.0</td>\n",
       "      <td>Boston University</td>\n",
       "      <td>1148640.0</td>\n",
       "    </tr>\n",
       "  </tbody>\n",
       "</table>\n",
       "</div>"
      ],
      "text/plain": [
       "                   Name  Number   Age Height  Weight            College     Salary\n",
       "Position                                                                          \n",
       "C          Kelly Olynyk    41.0  25.0    7-0   238.0            Gonzaga  2165160.0\n",
       "PF        Jonas Jerebko     8.0  29.0   6-10   231.0                LSU  5000000.0\n",
       "PG        Avery Bradley     0.0  25.0    6-2   180.0              Texas  7730337.0\n",
       "SF          Jae Crowder    99.0  25.0    6-6   235.0          Marquette  6796117.0\n",
       "SG         John Holland    30.0  27.0    6-5   205.0  Boston University  1148640.0"
      ]
     },
     "execution_count": 544,
     "metadata": {},
     "output_type": "execute_result"
    }
   ],
   "source": [
    "#\n",
    "gtp.first().loc['Boston Celtics']"
   ]
  },
  {
   "cell_type": "code",
   "execution_count": 351,
   "metadata": {
    "scrolled": true
   },
   "outputs": [
    {
     "data": {
      "text/html": [
       "<div>\n",
       "<style scoped>\n",
       "    .dataframe tbody tr th:only-of-type {\n",
       "        vertical-align: middle;\n",
       "    }\n",
       "\n",
       "    .dataframe tbody tr th {\n",
       "        vertical-align: top;\n",
       "    }\n",
       "\n",
       "    .dataframe thead th {\n",
       "        text-align: right;\n",
       "    }\n",
       "</style>\n",
       "<table border=\"1\" class=\"dataframe\">\n",
       "  <thead>\n",
       "    <tr style=\"text-align: right;\">\n",
       "      <th></th>\n",
       "      <th>Name</th>\n",
       "      <th>Number</th>\n",
       "      <th>Age</th>\n",
       "      <th>Height</th>\n",
       "      <th>Weight</th>\n",
       "      <th>College</th>\n",
       "      <th>Salary</th>\n",
       "    </tr>\n",
       "    <tr>\n",
       "      <th>Position</th>\n",
       "      <th></th>\n",
       "      <th></th>\n",
       "      <th></th>\n",
       "      <th></th>\n",
       "      <th></th>\n",
       "      <th></th>\n",
       "      <th></th>\n",
       "    </tr>\n",
       "  </thead>\n",
       "  <tbody>\n",
       "    <tr>\n",
       "      <th>C</th>\n",
       "      <td>Andrew Bogut</td>\n",
       "      <td>12.0</td>\n",
       "      <td>31.0</td>\n",
       "      <td>7-0</td>\n",
       "      <td>260.0</td>\n",
       "      <td>Utah</td>\n",
       "      <td>13800000.0</td>\n",
       "    </tr>\n",
       "    <tr>\n",
       "      <th>PF</th>\n",
       "      <td>Draymond Green</td>\n",
       "      <td>23.0</td>\n",
       "      <td>26.0</td>\n",
       "      <td>6-7</td>\n",
       "      <td>230.0</td>\n",
       "      <td>Michigan State</td>\n",
       "      <td>14260870.0</td>\n",
       "    </tr>\n",
       "    <tr>\n",
       "      <th>PG</th>\n",
       "      <td>Stephen Curry</td>\n",
       "      <td>30.0</td>\n",
       "      <td>28.0</td>\n",
       "      <td>6-3</td>\n",
       "      <td>190.0</td>\n",
       "      <td>Davidson</td>\n",
       "      <td>11370786.0</td>\n",
       "    </tr>\n",
       "    <tr>\n",
       "      <th>SF</th>\n",
       "      <td>Harrison Barnes</td>\n",
       "      <td>40.0</td>\n",
       "      <td>24.0</td>\n",
       "      <td>6-8</td>\n",
       "      <td>225.0</td>\n",
       "      <td>North Carolina</td>\n",
       "      <td>3873398.0</td>\n",
       "    </tr>\n",
       "    <tr>\n",
       "      <th>SG</th>\n",
       "      <td>Leandro Barbosa</td>\n",
       "      <td>19.0</td>\n",
       "      <td>33.0</td>\n",
       "      <td>6-3</td>\n",
       "      <td>194.0</td>\n",
       "      <td>Belmont</td>\n",
       "      <td>2500000.0</td>\n",
       "    </tr>\n",
       "  </tbody>\n",
       "</table>\n",
       "</div>"
      ],
      "text/plain": [
       "                     Name  Number   Age Height  Weight         College      Salary\n",
       "Position                                                                          \n",
       "C            Andrew Bogut    12.0  31.0    7-0   260.0            Utah  13800000.0\n",
       "PF         Draymond Green    23.0  26.0    6-7   230.0  Michigan State  14260870.0\n",
       "PG          Stephen Curry    30.0  28.0    6-3   190.0        Davidson  11370786.0\n",
       "SF        Harrison Barnes    40.0  24.0    6-8   225.0  North Carolina   3873398.0\n",
       "SG        Leandro Barbosa    19.0  33.0    6-3   194.0         Belmont   2500000.0"
      ]
     },
     "execution_count": 351,
     "metadata": {},
     "output_type": "execute_result"
    }
   ],
   "source": [
    "gtp.first().loc['Golden State Warriors']"
   ]
  },
  {
   "cell_type": "markdown",
   "metadata": {},
   "source": [
    "To get to an individual player record (a row) you need to supply an index member from each level.\n",
    "\n",
    "So the alphabetically first center on the Boston Celtics is:"
   ]
  },
  {
   "cell_type": "code",
   "execution_count": 545,
   "metadata": {},
   "outputs": [
    {
     "data": {
      "text/plain": [
       "Name       Kelly Olynyk\n",
       "Number             41.0\n",
       "Age                25.0\n",
       "Height              7-0\n",
       "Weight            238.0\n",
       "College         Gonzaga\n",
       "Salary        2165160.0\n",
       "Name: (Boston Celtics, C), dtype: object"
      ]
     },
     "execution_count": 545,
     "metadata": {},
     "output_type": "execute_result"
    }
   ],
   "source": [
    "gtp.first().loc[('Boston Celtics','C')]"
   ]
  },
  {
   "cell_type": "markdown",
   "metadata": {},
   "source": [
    "Now a `DataFrameGroupBy` instance is **not** a DataFrame or a Series, making `groupby`\n",
    "one of the few commonly used `pandas` analysis methods that doesn't return either:"
   ]
  },
  {
   "cell_type": "code",
   "execution_count": 566,
   "metadata": {},
   "outputs": [
    {
     "data": {
      "text/plain": [
       "<pandas.core.groupby.generic.DataFrameGroupBy object at 0x7ff76978c2e8>"
      ]
     },
     "execution_count": 566,
     "metadata": {},
     "output_type": "execute_result"
    }
   ],
   "source": [
    "gtp"
   ]
  },
  {
   "cell_type": "markdown",
   "metadata": {},
   "source": [
    "But one can do many of the things one does to a DataFrame to a `GroupByDataFrame`\n",
    "instance.  For example, extract a column:"
   ]
  },
  {
   "cell_type": "code",
   "execution_count": 582,
   "metadata": {},
   "outputs": [
    {
     "data": {
      "text/plain": [
       "<pandas.core.groupby.generic.SeriesGroupBy object at 0x7ff76756ee10>"
      ]
     },
     "execution_count": 582,
     "metadata": {},
     "output_type": "execute_result"
    }
   ],
   "source": [
    "gtp['Salary']"
   ]
  },
  {
   "cell_type": "markdown",
   "metadata": {},
   "source": [
    "Which yields a `SeriesGroupBy` instance. Which has many of the same methods\n",
    "we saw for the DataFrameGroupBy instances above, including `.first()` and\n",
    "`.get_group()`.\n",
    "\n",
    "Instead of calling either of those, let's apply an aggregation function appropriate to this column:"
   ]
  },
  {
   "cell_type": "code",
   "execution_count": 533,
   "metadata": {},
   "outputs": [],
   "source": [
    "salary_df = gtp['Salary'].mean()"
   ]
  },
  {
   "cell_type": "markdown",
   "metadata": {},
   "source": [
    "This gets us a new Series, doubly indexed by team and position:"
   ]
  },
  {
   "cell_type": "code",
   "execution_count": 585,
   "metadata": {},
   "outputs": [
    {
     "data": {
      "text/plain": [
       "pandas.core.series.Series"
      ]
     },
     "execution_count": 585,
     "metadata": {},
     "output_type": "execute_result"
    }
   ],
   "source": [
    "type(salary_df)"
   ]
  },
  {
   "cell_type": "code",
   "execution_count": 538,
   "metadata": {},
   "outputs": [
    {
     "data": {
      "text/plain": [
       "Team                   Position\n",
       "Atlanta Hawks          C           7.585417e+06\n",
       "                       PF          5.988067e+06\n",
       "                       PG          4.881700e+06\n",
       "                       SF          3.000000e+06\n",
       "                       SG          2.607758e+06\n",
       "Boston Celtics         C           2.450465e+06\n",
       "                       PF          6.056987e+06\n",
       "                       PG          4.974652e+06\n",
       "                       SF          6.796117e+06\n",
       "                       SG          2.107997e+06\n",
       "Brooklyn Nets          C           1.031814e+07\n",
       "                       PF          3.576205e+06\n",
       "                       PG          2.915759e+06\n",
       "                       SG          1.473351e+06\n",
       "Charlotte Hornets      C           6.772240e+06\n",
       "                       PF          4.685770e+06\n",
       "                       PG          4.776152e+06\n",
       "                       SF          6.331404e+06\n",
       "                       SG          4.661406e+06\n",
       "Chicago Bulls          C           1.042438e+07\n",
       "                       PF          3.361007e+06\n",
       "                       PG          1.117153e+07\n",
       "                       SF          1.958160e+06\n",
       "                       SG          5.717549e+06\n",
       "Cleveland Cavaliers    C           6.828957e+06\n",
       "                       PF          1.394101e+07\n",
       "                       PG          6.551592e+06\n",
       "                       SF          1.195889e+07\n",
       "                       SG          3.761809e+06\n",
       "Dallas Mavericks       C           2.332019e+06\n",
       "                       PF          3.052835e+06\n",
       "                       PG          4.418183e+06\n",
       "                       SF          8.231051e+06\n",
       "                       SG          8.928250e+06\n",
       "Denver Nuggets         C           1.617240e+06\n",
       "                       PF          7.024978e+06\n",
       "                       PG          3.482413e+06\n",
       "                       SF          9.327590e+06\n",
       "                       SG          9.300817e+05\n",
       "Detroit Pistons        C           4.090697e+06\n",
       "                       PF          4.000000e+06\n",
       "                       PG          4.260003e+06\n",
       "                       SF          5.173600e+06\n",
       "                       SG          4.580880e+06\n",
       "Golden State Warriors  C           6.541249e+06\n",
       "                       PF          7.275312e+06\n",
       "                       PG          8.457256e+06\n",
       "                       SF          3.766367e+06\n",
       "                       SG          6.316092e+06\n",
       "Name: Salary, dtype: float64"
      ]
     },
     "execution_count": 538,
     "metadata": {},
     "output_type": "execute_result"
    }
   ],
   "source": [
    "salary_df.iloc[:49]"
   ]
  },
  {
   "cell_type": "code",
   "execution_count": 534,
   "metadata": {},
   "outputs": [
    {
     "data": {
      "text/plain": [
       "Position\n",
       "C     2.450465e+06\n",
       "PF    6.056987e+06\n",
       "PG    4.974652e+06\n",
       "SF    6.796117e+06\n",
       "SG    2.107997e+06\n",
       "Name: Salary, dtype: float64"
      ]
     },
     "execution_count": 534,
     "metadata": {},
     "output_type": "execute_result"
    }
   ],
   "source": [
    "salary_df.loc['Boston Celtics']"
   ]
  },
  {
   "cell_type": "code",
   "execution_count": 586,
   "metadata": {},
   "outputs": [
    {
     "data": {
      "text/plain": [
       "2450465.0"
      ]
     },
     "execution_count": 586,
     "metadata": {},
     "output_type": "execute_result"
    }
   ],
   "source": [
    "salary_df.loc['Boston Celtics']['C']"
   ]
  },
  {
   "cell_type": "markdown",
   "metadata": {},
   "source": [
    "Sample Interpretation: The Celtics pays their centers an average of 2.4 Million."
   ]
  },
  {
   "cell_type": "markdown",
   "metadata": {},
   "source": [
    "Now we can do things like the following.\n",
    "\n",
    "Compare Golden State salaries  with Boston salaries position by position."
   ]
  },
  {
   "cell_type": "code",
   "execution_count": 298,
   "metadata": {
    "scrolled": true
   },
   "outputs": [
    {
     "data": {
      "text/plain": [
       "Position\n",
       "C     2.450465e+06\n",
       "PF    6.056987e+06\n",
       "PG    4.974652e+06\n",
       "SF    6.796117e+06\n",
       "SG    2.107997e+06\n",
       "Name: Salary, dtype: float64"
      ]
     },
     "execution_count": 298,
     "metadata": {},
     "output_type": "execute_result"
    }
   ],
   "source": [
    "salary_df.loc['Boston Celtics']"
   ]
  },
  {
   "cell_type": "code",
   "execution_count": 276,
   "metadata": {
    "scrolled": false
   },
   "outputs": [
    {
     "data": {
      "text/plain": [
       "Position\n",
       "C     6.541249e+06\n",
       "PF    7.275312e+06\n",
       "PG    8.457256e+06\n",
       "SF    3.766367e+06\n",
       "SG    6.316092e+06\n",
       "Name: Salary, dtype: float64"
      ]
     },
     "execution_count": 276,
     "metadata": {},
     "output_type": "execute_result"
    }
   ],
   "source": [
    "salary_df.loc['Golden State Warriors']"
   ]
  },
  {
   "cell_type": "code",
   "execution_count": 300,
   "metadata": {},
   "outputs": [
    {
     "data": {
      "text/plain": [
       "Position\n",
       "C      True\n",
       "PF     True\n",
       "PG     True\n",
       "SF    False\n",
       "SG     True\n",
       "Name: Salary, dtype: bool"
      ]
     },
     "execution_count": 300,
     "metadata": {},
     "output_type": "execute_result"
    }
   ],
   "source": [
    "salary_df.loc['Golden State Warriors'] > salary_df.loc['Boston Celtics']"
   ]
  },
  {
   "cell_type": "markdown",
   "metadata": {},
   "source": [
    "The Warriors pay more at every position but small forward (SF)."
   ]
  },
  {
   "cell_type": "markdown",
   "metadata": {},
   "source": [
    "Each of these is a Series so in theory we can take the mean again:"
   ]
  },
  {
   "cell_type": "code",
   "execution_count": 401,
   "metadata": {},
   "outputs": [
    {
     "name": "stdout",
     "output_type": "stream",
     "text": [
      "4,477,243.37\n",
      "6,471,255.35\n"
     ]
    }
   ],
   "source": [
    "salary_df = gtp['Salary'].mean()\n",
    "print(f'{salary_df.loc[\"Boston Celtics\"].mean():6,.2f}')\n",
    "print(f'{salary_df.loc[\"Golden State Warriors\"].mean():6,.2f}')\n",
    "#salary_df.loc['Golden State Warriors'].mean())"
   ]
  },
  {
   "cell_type": "markdown",
   "metadata": {},
   "source": [
    "But these numbers may not have the interpretation you think they do.\n",
    "\n",
    "In order to get the right interpretation of the above numbers,\n",
    "think about why the following numbers aren't the same."
   ]
  },
  {
   "cell_type": "code",
   "execution_count": 641,
   "metadata": {},
   "outputs": [
    {
     "name": "stdout",
     "output_type": "stream",
     "text": [
      "4,181,504.86\n",
      "5,924,599.80\n"
     ]
    }
   ],
   "source": [
    "salary_df2 = gt['Salary'].mean()\n",
    "print(f'{salary_df2.loc[\"Boston Celtics\"]:6,.2f}')\n",
    "print(f'{salary_df2.loc[\"Golden State Warriors\"]:6,.2f}')"
   ]
  },
  {
   "cell_type": "markdown",
   "metadata": {},
   "source": [
    "Try answering the following questions.  Note.  You do not have to use `groupby` method in your answers.\n",
    "\n",
    "1.  What is the average weight of Centers in the league? Which position is heavier on average, Center or Power Forward?\n",
    "1.  What is the average height of Centers in the league? Which position is taller on average, Center or Power Forward?\n",
    "3.  What position earns the highest salary on average?\n",
    "4.  What colleges have supplied the most current NBA players?  How many colleges\n",
    "have supplied only one NBA player?"
   ]
  },
  {
   "cell_type": "code",
   "execution_count": null,
   "metadata": {},
   "outputs": [],
   "source": []
  },
  {
   "cell_type": "code",
   "execution_count": null,
   "metadata": {},
   "outputs": [],
   "source": []
  },
  {
   "cell_type": "code",
   "execution_count": null,
   "metadata": {},
   "outputs": [],
   "source": []
  },
  {
   "cell_type": "code",
   "execution_count": null,
   "metadata": {},
   "outputs": [],
   "source": []
  },
  {
   "cell_type": "code",
   "execution_count": null,
   "metadata": {},
   "outputs": [],
   "source": []
  },
  {
   "cell_type": "code",
   "execution_count": null,
   "metadata": {},
   "outputs": [],
   "source": []
  },
  {
   "cell_type": "markdown",
   "metadata": {},
   "source": [
    "#### Q1 What is the average weight of Centers in the league?"
   ]
  },
  {
   "cell_type": "code",
   "execution_count": 415,
   "metadata": {},
   "outputs": [
    {
     "data": {
      "text/plain": [
       "Position\n",
       "C     254.205128\n",
       "PF    240.430000\n",
       "PG    189.478261\n",
       "SF    221.776471\n",
       "SG    206.686275\n",
       "Name: Weight, dtype: float64"
      ]
     },
     "execution_count": 415,
     "metadata": {},
     "output_type": "execute_result"
    }
   ],
   "source": [
    "gp = nba_df.groupby('Position')\n",
    "weight_by_position = gp['Weight'].mean()\n",
    "# This is a Series\n",
    "weight_by_position                  "
   ]
  },
  {
   "cell_type": "markdown",
   "metadata": {},
   "source": [
    "Note  we have wandered into territory covered by the pivot function,\n",
    "which is a trifle more convenient to use, if we're just answering Q1. "
   ]
  },
  {
   "cell_type": "code",
   "execution_count": 514,
   "metadata": {},
   "outputs": [
    {
     "data": {
      "text/html": [
       "<div>\n",
       "<style scoped>\n",
       "    .dataframe tbody tr th:only-of-type {\n",
       "        vertical-align: middle;\n",
       "    }\n",
       "\n",
       "    .dataframe tbody tr th {\n",
       "        vertical-align: top;\n",
       "    }\n",
       "\n",
       "    .dataframe thead th {\n",
       "        text-align: right;\n",
       "    }\n",
       "</style>\n",
       "<table border=\"1\" class=\"dataframe\">\n",
       "  <thead>\n",
       "    <tr style=\"text-align: right;\">\n",
       "      <th></th>\n",
       "      <th>Weight</th>\n",
       "    </tr>\n",
       "    <tr>\n",
       "      <th>Position</th>\n",
       "      <th></th>\n",
       "    </tr>\n",
       "  </thead>\n",
       "  <tbody>\n",
       "    <tr>\n",
       "      <th>C</th>\n",
       "      <td>254.205128</td>\n",
       "    </tr>\n",
       "    <tr>\n",
       "      <th>PF</th>\n",
       "      <td>240.430000</td>\n",
       "    </tr>\n",
       "    <tr>\n",
       "      <th>PG</th>\n",
       "      <td>189.478261</td>\n",
       "    </tr>\n",
       "    <tr>\n",
       "      <th>SF</th>\n",
       "      <td>221.776471</td>\n",
       "    </tr>\n",
       "    <tr>\n",
       "      <th>SG</th>\n",
       "      <td>206.686275</td>\n",
       "    </tr>\n",
       "  </tbody>\n",
       "</table>\n",
       "</div>"
      ],
      "text/plain": [
       "              Weight\n",
       "Position            \n",
       "C         254.205128\n",
       "PF        240.430000\n",
       "PG        189.478261\n",
       "SF        221.776471\n",
       "SG        206.686275"
      ]
     },
     "execution_count": 514,
     "metadata": {},
     "output_type": "execute_result"
    }
   ],
   "source": [
    "nba_pt_wt = nba_df.pivot_table('Weight','Position')\n",
    "# this is a DataFrame with one column\n",
    "nba_pt_wt"
   ]
  },
  {
   "cell_type": "code",
   "execution_count": 360,
   "metadata": {},
   "outputs": [
    {
     "name": "stdout",
     "output_type": "stream",
     "text": [
      "254.2051282051282\n",
      "True\n"
     ]
    }
   ],
   "source": [
    "#Q1\n",
    "print(weight_by_position['C'])\n",
    "#Q2\n",
    "print(weight_by_position['C'] > weight_by_position['SF'])"
   ]
  },
  {
   "cell_type": "markdown",
   "metadata": {},
   "source": [
    "#### Q2 What is the average height of Centers in the league?"
   ]
  },
  {
   "cell_type": "markdown",
   "metadata": {},
   "source": [
    "It is a more challenging task to answer these same questions about heights.\n",
    "\n",
    "This is because the entries in the height column are strings \n",
    "that need to be converted to numbers before a mean can be taken."
   ]
  },
  {
   "cell_type": "code",
   "execution_count": 366,
   "metadata": {},
   "outputs": [
    {
     "data": {
      "text/plain": [
       "'6-2'"
      ]
     },
     "execution_count": 366,
     "metadata": {},
     "output_type": "execute_result"
    }
   ],
   "source": [
    "sample_height = nba_df['Height'].iloc[0]\n",
    "sample_height"
   ]
  },
  {
   "cell_type": "markdown",
   "metadata": {},
   "source": [
    "So we want to apply this function to every element of the Height Column."
   ]
  },
  {
   "cell_type": "code",
   "execution_count": 396,
   "metadata": {},
   "outputs": [
    {
     "data": {
      "text/plain": [
       "6.166666666666667"
      ]
     },
     "execution_count": 396,
     "metadata": {},
     "output_type": "execute_result"
    }
   ],
   "source": [
    "def str_height_to_float_height(str_height):\n",
    "    if not isinstance(str_height,str):\n",
    "        # If, for example, it's already a float (especially a NaN), leave it\n",
    "        return str_height\n",
    "    (ft, inch) = [int(s) for s in str_height.split('-')]\n",
    "    return ft + inch/12\n",
    "\n",
    "sample_height_float = str_height_to_float_height(sample_height)\n",
    "sample_height_float"
   ]
  },
  {
   "cell_type": "markdown",
   "metadata": {},
   "source": [
    "The `pandas` DataFrame and Series method `apply` applies a function to each\n",
    "row of `self` and returns the results as an instance\n",
    "of the same class as `self` with the same index.\n",
    "\n",
    "In the next cell we apply `str_height_to_float_height` \n",
    "to the Series `nba_df['Height']` and get back another Series.\n",
    "We use it to make a new column."
   ]
  },
  {
   "cell_type": "code",
   "execution_count": 397,
   "metadata": {},
   "outputs": [
    {
     "data": {
      "text/plain": [
       "0      6.166667\n",
       "1      6.500000\n",
       "2      6.416667\n",
       "3      6.416667\n",
       "4      6.833333\n",
       "         ...   \n",
       "453    6.250000\n",
       "454    6.083333\n",
       "455    7.250000\n",
       "456    7.000000\n",
       "457         NaN\n",
       "Name: HeightFloats, Length: 458, dtype: float64"
      ]
     },
     "execution_count": 397,
     "metadata": {},
     "output_type": "execute_result"
    }
   ],
   "source": [
    "nba_df['HeightFloats'] = nba_df['Height'].apply(str_height_to_float_height)\n",
    "nba_df['HeightFloats']"
   ]
  },
  {
   "cell_type": "markdown",
   "metadata": {},
   "source": [
    "Now we do with this new column what we did with Weights."
   ]
  },
  {
   "cell_type": "code",
   "execution_count": 398,
   "metadata": {},
   "outputs": [
    {
     "data": {
      "text/plain": [
       "Position\n",
       "C     6.941239\n",
       "PF    6.809167\n",
       "PG    6.202899\n",
       "SF    6.632353\n",
       "SG    6.461601\n",
       "Name: HeightFloats, dtype: float64"
      ]
     },
     "execution_count": 398,
     "metadata": {},
     "output_type": "execute_result"
    }
   ],
   "source": [
    "height_by_position = gp['HeightFloats'].mean()\n",
    "height_by_position"
   ]
  },
  {
   "cell_type": "code",
   "execution_count": 560,
   "metadata": {},
   "outputs": [
    {
     "name": "stdout",
     "output_type": "stream",
     "text": [
      "6.941239316239316\n",
      "True\n"
     ]
    }
   ],
   "source": [
    "#Height of centers\n",
    "print(height_by_position['C'])\n",
    "# Who's taller, centers or power forwards?\n",
    "print(height_by_position['C'] > height_by_position['SF'])"
   ]
  },
  {
   "cell_type": "markdown",
   "metadata": {},
   "source": [
    "Using a pivot table to answer these questions:"
   ]
  },
  {
   "cell_type": "code",
   "execution_count": 552,
   "metadata": {},
   "outputs": [
    {
     "name": "stdout",
     "output_type": "stream",
     "text": [
      "          HeightFloats\n",
      "Position              \n",
      "C             6.941239\n",
      "PF            6.809167\n",
      "PG            6.202899\n",
      "SF            6.632353\n",
      "SG            6.461601\n",
      "\n",
      "And the answer is: 6.9\n"
     ]
    }
   ],
   "source": [
    "nba_pt_ht = nba_df.pivot_table('HeightFloats','Position')\n",
    "print(nba_pt_ht)\n",
    "print()\n",
    "print(f\"And the answer is: {nba_pt_ht.loc['C','HeightFloats']:.1f}\")"
   ]
  },
  {
   "cell_type": "markdown",
   "metadata": {},
   "source": [
    "The following might be a nice thing to do.  Turn the mean heights\n",
    "back into normal-looking height strings."
   ]
  },
  {
   "cell_type": "code",
   "execution_count": 413,
   "metadata": {},
   "outputs": [
    {
     "data": {
      "text/plain": [
       "Position\n",
       "C     6-11\n",
       "PF    6-10\n",
       "PG     6-2\n",
       "SF     6-8\n",
       "SG     6-6\n",
       "Name: HeightFloats, dtype: object"
      ]
     },
     "execution_count": 413,
     "metadata": {},
     "output_type": "execute_result"
    }
   ],
   "source": [
    "def float_height_to_str(ft_height):\n",
    "    if isinstance(ft_height,float) and np.isnan(ft_height):\n",
    "        # If it's  a NaN, leave it alone\n",
    "        return ft_height\n",
    "    # np.floor returns an int (mathematically) but its type is still float\n",
    "    (ft_int, inch_fl) = np.floor(ft_height), ft_height%1\n",
    "    return str(round(ft_int)) + '-' + str(round(inch_fl * 12))\n",
    "\n",
    "height_by_position.apply(float_height_to_str)"
   ]
  },
  {
   "cell_type": "markdown",
   "metadata": {},
   "source": [
    "#### Q3 What position earns the highest salary on average?"
   ]
  },
  {
   "cell_type": "code",
   "execution_count": 559,
   "metadata": {},
   "outputs": [
    {
     "data": {
      "text/plain": [
       "'C'"
      ]
     },
     "execution_count": 559,
     "metadata": {},
     "output_type": "execute_result"
    }
   ],
   "source": [
    "gp = nba_df.groupby('Position')\n",
    "gp['Salary'].mean().sort_values(ascending=False).index[0]"
   ]
  },
  {
   "cell_type": "markdown",
   "metadata": {},
   "source": [
    "Or"
   ]
  },
  {
   "cell_type": "code",
   "execution_count": 565,
   "metadata": {},
   "outputs": [
    {
     "data": {
      "text/plain": [
       "'C'"
      ]
     },
     "execution_count": 565,
     "metadata": {},
     "output_type": "execute_result"
    }
   ],
   "source": [
    "nba_df.pivot_table('Salary','Position')['Salary'].sort_values(ascending=False).index[0]"
   ]
  },
  {
   "cell_type": "markdown",
   "metadata": {},
   "source": [
    "**Q4 What colleges have supplied the most current NBA players?**"
   ]
  },
  {
   "cell_type": "markdown",
   "metadata": {},
   "source": [
    "Since there's no cross tabulation of multiple columns here, and the question\n",
    "involves counting values that are  onfined to one column (`'College'`), this\n",
    "question does not require either grouping or a pivot table.\n",
    "\n",
    "The `'.value_counts()'` method does everything we need."
   ]
  },
  {
   "cell_type": "code",
   "execution_count": 601,
   "metadata": {},
   "outputs": [
    {
     "data": {
      "text/plain": [
       "Kentucky          22\n",
       "Duke              20\n",
       "Kansas            18\n",
       "North Carolina    16\n",
       "UCLA              15\n",
       "Name: College, dtype: int64"
      ]
     },
     "execution_count": 601,
     "metadata": {},
     "output_type": "execute_result"
    }
   ],
   "source": [
    "college_cts = nba_df['College'].value_counts()\n",
    "college_cts[:5]"
   ]
  },
  {
   "cell_type": "markdown",
   "metadata": {},
   "source": [
    "**Q4 (ctd.) How many colleges have supplied only one NBA player?**"
   ]
  },
  {
   "cell_type": "markdown",
   "metadata": {},
   "source": [
    "We need to create a Series that contains the frequency of each count in `college_counts`.\n",
    "\n",
    "Then we can retrieve the frequency for 1 NBA player.  That means using the\n",
    "`.value_counts()` method on `college_cts`.  Since the values in the `college_ counts` Series are NBA player counts, applying `.value_counts()` again will produce a Series whose index is NBA player counts and whose values are the number of times each player count has occurred; in this case that means the number of colleges that have supplied that many NBA players.\n",
    "\n",
    "For convenience, we'll sort the index of the resulting Series."
   ]
  },
  {
   "cell_type": "code",
   "execution_count": 607,
   "metadata": {
    "scrolled": true
   },
   "outputs": [
    {
     "data": {
      "text/plain": [
       "1     52\n",
       "2     24\n",
       "3     15\n",
       "4      5\n",
       "5      4\n",
       "6      6\n",
       "7      3\n",
       "8      1\n",
       "9      1\n",
       "10     1\n",
       "13     1\n",
       "15     1\n",
       "16     1\n",
       "18     1\n",
       "20     1\n",
       "22     1\n",
       "Name: College, dtype: int64"
      ]
     },
     "execution_count": 607,
     "metadata": {},
     "output_type": "execute_result"
    }
   ],
   "source": [
    "college_cts.value_counts().sort_index()"
   ]
  },
  {
   "cell_type": "markdown",
   "metadata": {},
   "source": [
    "So 52 colleges have supplied exactly one NBA player; 24 have supplied 2; 15 have\n",
    "supplied 3; and so one.\n",
    "\n",
    "The expression for exactly the value we want is:"
   ]
  },
  {
   "cell_type": "code",
   "execution_count": 603,
   "metadata": {},
   "outputs": [
    {
     "data": {
      "text/plain": [
       "52"
      ]
     },
     "execution_count": 603,
     "metadata": {},
     "output_type": "execute_result"
    }
   ],
   "source": [
    "college_cts.value_counts().loc[1]"
   ]
  },
  {
   "cell_type": "markdown",
   "metadata": {},
   "source": [
    "## Pivot tables versus grouping"
   ]
  },
  {
   "cell_type": "markdown",
   "metadata": {},
   "source": [
    "There really isn't an advantage to using groupby for the pivot table examples\n",
    "we saw before.  The `.groupby()` method or its equivalent is the first step in creating a pivot table; hence, we can always emulate  \n",
    "the `.pivot_table()` method by grouping and then apply an aggregation function."
   ]
  },
  {
   "cell_type": "markdown",
   "metadata": {},
   "source": [
    "Here is how we'd do complaint type counting by agency with groupby."
   ]
  },
  {
   "cell_type": "code",
   "execution_count": 292,
   "metadata": {},
   "outputs": [],
   "source": [
    "three = ['DOT', \"DOP\", 'NYPD']\n",
    "pt00 = complaints[complaints.Agency.isin(three)]\n",
    "gta = pt00.groupby(['Agency','Complaint Type'])"
   ]
  },
  {
   "cell_type": "markdown",
   "metadata": {},
   "source": [
    "To apply the aggregation function `count` we must still choose a column\n",
    "and the choice of that column for counting is arbitrary"
   ]
  },
  {
   "cell_type": "code",
   "execution_count": 417,
   "metadata": {},
   "outputs": [
    {
     "data": {
      "text/plain": [
       "Agency  Complaint Type            \n",
       "DOP     Invitation                       1\n",
       "        Request for Information          1\n",
       "DOT     Agency Issues                   20\n",
       "        Bike Rack Condition              7\n",
       "        Bridge Condition                20\n",
       "        Broken Muni Meter             2070\n",
       "        Bus Stop Shelter Placement      14\n",
       "        Compliment                       1\n",
       "        Curb Condition                  66\n",
       "        DOT Literature Request         123\n",
       "Name: Unique Key, dtype: int64"
      ]
     },
     "execution_count": 417,
     "metadata": {},
     "output_type": "execute_result"
    }
   ],
   "source": [
    "gta['Unique Key'].count()[:10]"
   ]
  },
  {
   "cell_type": "markdown",
   "metadata": {},
   "source": [
    "Comparing the result with the column we chose before."
   ]
  },
  {
   "cell_type": "code",
   "execution_count": 419,
   "metadata": {},
   "outputs": [
    {
     "data": {
      "text/plain": [
       "Agency  Complaint Type            \n",
       "DOP     Invitation                    True\n",
       "        Request for Information       True\n",
       "DOT     Agency Issues                 True\n",
       "        Bike Rack Condition           True\n",
       "        Bridge Condition              True\n",
       "        Broken Muni Meter             True\n",
       "        Bus Stop Shelter Placement    True\n",
       "        Compliment                    True\n",
       "        Curb Condition                True\n",
       "        DOT Literature Request        True\n",
       "dtype: bool"
      ]
     },
     "execution_count": 419,
     "metadata": {},
     "output_type": "execute_result"
    }
   ],
   "source": [
    "(gta['Unique Key'].count() == gta['Status'].count())[:10]"
   ]
  },
  {
   "cell_type": "markdown",
   "metadata": {},
   "source": [
    "Since the pivot function can perform the splitting, applying, and collecting\n",
    "all in one step, it is good practice to prefer using the pivot table\n",
    "function when all three steps of the split/applying/combining cycle\n",
    "are needed.\n",
    "\n",
    "Going by way of the `groupby` function is helpful for cases like the NBA data, when we we\n",
    "wanted to access different properties of the same partition."
   ]
  },
  {
   "cell_type": "markdown",
   "metadata": {
    "id": "Q4kaHDAAACaB"
   },
   "source": [
    "## Analysis: What's the most common complaint type?"
   ]
  },
  {
   "cell_type": "markdown",
   "metadata": {
    "id": "Pw1bqz4cACaB"
   },
   "source": [
    "First of all, this is a really easy question to answer! There's a `.value_counts()` method that we can use:"
   ]
  },
  {
   "cell_type": "code",
   "execution_count": 421,
   "metadata": {
    "id": "VPf8UXAHACaH",
    "outputId": "a82b60a1-bcfd-44b9-ea2d-673e8146b9d8"
   },
   "outputs": [
    {
     "data": {
      "text/plain": [
       "HEATING                           14200\n",
       "GENERAL CONSTRUCTION               7471\n",
       "Street Light Condition             7117\n",
       "DOF Literature Request             5797\n",
       "PLUMBING                           5373\n",
       "                                  ...  \n",
       "Municipal Parking Facility            1\n",
       "Tunnel Condition                      1\n",
       "DHS Income Savings Requirement        1\n",
       "Stalled Sites                         1\n",
       "X-Ray Machine/Equipment               1\n",
       "Name: Complaint Type, Length: 165, dtype: int64"
      ]
     },
     "execution_count": 421,
     "metadata": {},
     "output_type": "execute_result"
    }
   ],
   "source": [
    "complaint_counts = complaints['Complaint Type'].value_counts()\n",
    "complaint_counts"
   ]
  },
  {
   "cell_type": "markdown",
   "metadata": {
    "id": "73M1SeetACaK"
   },
   "source": [
    "Since `complaints_counts` is a  Series (the complaint types are the index) ordered by number of complaints,  we can plot the numbers for the top complaint types, demonstrating visually what an outlier `Heating` is (Oh those NYC winters!)."
   ]
  },
  {
   "cell_type": "code",
   "execution_count": 422,
   "metadata": {
    "id": "ZkXSe7cbACaK",
    "outputId": "0ca28ef6-b3ab-4119-93a0-656e3b81c1c5"
   },
   "outputs": [
    {
     "data": {
      "text/plain": [
       "<AxesSubplot:>"
      ]
     },
     "execution_count": 422,
     "metadata": {},
     "output_type": "execute_result"
    },
    {
     "data": {
      "image/png": "[encoded data removed]",
      "text/plain": [
       "<Figure size 432x288 with 1 Axes>"
      ]
     },
     "metadata": {
      "needs_background": "light"
     },
     "output_type": "display_data"
    }
   ],
   "source": [
    "complaint_counts[:10].plot(kind='bar')"
   ]
  },
  {
   "cell_type": "markdown",
   "metadata": {},
   "source": [
    "#### Exercise"
   ]
  },
  {
   "cell_type": "markdown",
   "metadata": {},
   "source": [
    "Find the distribution of complaint Statuses.  That is, write\n",
    "an expression that produces a DataFrame or Series whose index\n",
    "is the seven possible complaint Statuses  and whose\n",
    "values are the number of complaints with each Status.\n",
    "\n",
    "The solution is given a few cells down.  \n",
    "\n",
    "To help you check your solution, here are the seven complaint statuses."
   ]
  },
  {
   "cell_type": "code",
   "execution_count": 161,
   "metadata": {},
   "outputs": [
    {
     "data": {
      "text/plain": [
       "{'Assigned',\n",
       " 'Closed',\n",
       " 'Email Sent',\n",
       " 'Open',\n",
       " 'Pending',\n",
       " 'Started',\n",
       " 'Unassigned'}"
      ]
     },
     "execution_count": 161,
     "metadata": {},
     "output_type": "execute_result"
    }
   ],
   "source": [
    "set(complaints['Status'])"
   ]
  },
  {
   "cell_type": "code",
   "execution_count": null,
   "metadata": {},
   "outputs": [],
   "source": []
  },
  {
   "cell_type": "markdown",
   "metadata": {},
   "source": []
  },
  {
   "cell_type": "code",
   "execution_count": null,
   "metadata": {},
   "outputs": [],
   "source": []
  },
  {
   "cell_type": "code",
   "execution_count": null,
   "metadata": {},
   "outputs": [],
   "source": []
  },
  {
   "cell_type": "code",
   "execution_count": null,
   "metadata": {},
   "outputs": [],
   "source": []
  },
  {
   "cell_type": "code",
   "execution_count": null,
   "metadata": {},
   "outputs": [],
   "source": []
  },
  {
   "cell_type": "code",
   "execution_count": null,
   "metadata": {},
   "outputs": [],
   "source": []
  },
  {
   "cell_type": "code",
   "execution_count": null,
   "metadata": {},
   "outputs": [],
   "source": []
  },
  {
   "cell_type": "code",
   "execution_count": null,
   "metadata": {},
   "outputs": [],
   "source": []
  },
  {
   "cell_type": "code",
   "execution_count": null,
   "metadata": {},
   "outputs": [],
   "source": []
  },
  {
   "cell_type": "code",
   "execution_count": null,
   "metadata": {},
   "outputs": [],
   "source": []
  },
  {
   "cell_type": "code",
   "execution_count": null,
   "metadata": {},
   "outputs": [],
   "source": []
  },
  {
   "cell_type": "code",
   "execution_count": null,
   "metadata": {},
   "outputs": [],
   "source": []
  },
  {
   "cell_type": "code",
   "execution_count": null,
   "metadata": {},
   "outputs": [],
   "source": []
  },
  {
   "cell_type": "code",
   "execution_count": null,
   "metadata": {},
   "outputs": [],
   "source": []
  },
  {
   "cell_type": "code",
   "execution_count": null,
   "metadata": {},
   "outputs": [],
   "source": []
  },
  {
   "cell_type": "markdown",
   "metadata": {},
   "source": [
    "#### Solution 1"
   ]
  },
  {
   "cell_type": "code",
   "execution_count": 164,
   "metadata": {},
   "outputs": [
    {
     "data": {
      "text/plain": [
       "Closed        57165\n",
       "Open          43972\n",
       "Assigned       6189\n",
       "Pending        3165\n",
       "Started         447\n",
       "Email Sent      129\n",
       "Unassigned        2\n",
       "Name: Status, dtype: int64"
      ]
     },
     "execution_count": 164,
     "metadata": {},
     "output_type": "execute_result"
    }
   ],
   "source": [
    "sc = complaints['Status'].value_counts()\n",
    "sc"
   ]
  },
  {
   "cell_type": "markdown",
   "metadata": {},
   "source": [
    "### New Stocks dataset:  Doing stuff with Time\n",
    "\n",
    "1.  Adding columns to enable new kinds of grouping.\n",
    "2.  \"Melting\" different value columns into 1 value column (in order to set up a pivot).\n",
    "3.  Centering and scaling data."
   ]
  },
  {
   "cell_type": "code",
   "execution_count": 650,
   "metadata": {},
   "outputs": [
    {
     "data": {
      "text/html": [
       "<div>\n",
       "<style scoped>\n",
       "    .dataframe tbody tr th:only-of-type {\n",
       "        vertical-align: middle;\n",
       "    }\n",
       "\n",
       "    .dataframe tbody tr th {\n",
       "        vertical-align: top;\n",
       "    }\n",
       "\n",
       "    .dataframe thead th {\n",
       "        text-align: right;\n",
       "    }\n",
       "</style>\n",
       "<table border=\"1\" class=\"dataframe\">\n",
       "  <thead>\n",
       "    <tr style=\"text-align: right;\">\n",
       "      <th></th>\n",
       "      <th>Unnamed: 0</th>\n",
       "      <th>date</th>\n",
       "      <th>AA</th>\n",
       "      <th>GE</th>\n",
       "      <th>IBM</th>\n",
       "      <th>MSFT</th>\n",
       "    </tr>\n",
       "  </thead>\n",
       "  <tbody>\n",
       "    <tr>\n",
       "      <th>0</th>\n",
       "      <td>0</td>\n",
       "      <td>1990-02-01 00:00:00</td>\n",
       "      <td>4.98</td>\n",
       "      <td>2.87</td>\n",
       "      <td>16.79</td>\n",
       "      <td>0.51</td>\n",
       "    </tr>\n",
       "    <tr>\n",
       "      <th>1</th>\n",
       "      <td>1</td>\n",
       "      <td>1990-02-02 00:00:00</td>\n",
       "      <td>5.04</td>\n",
       "      <td>2.87</td>\n",
       "      <td>16.89</td>\n",
       "      <td>0.51</td>\n",
       "    </tr>\n",
       "    <tr>\n",
       "      <th>2</th>\n",
       "      <td>2</td>\n",
       "      <td>1990-02-05 00:00:00</td>\n",
       "      <td>5.07</td>\n",
       "      <td>2.87</td>\n",
       "      <td>17.32</td>\n",
       "      <td>0.51</td>\n",
       "    </tr>\n",
       "    <tr>\n",
       "      <th>3</th>\n",
       "      <td>3</td>\n",
       "      <td>1990-02-06 00:00:00</td>\n",
       "      <td>5.01</td>\n",
       "      <td>2.88</td>\n",
       "      <td>17.56</td>\n",
       "      <td>0.51</td>\n",
       "    </tr>\n",
       "    <tr>\n",
       "      <th>4</th>\n",
       "      <td>4</td>\n",
       "      <td>1990-02-07 00:00:00</td>\n",
       "      <td>5.04</td>\n",
       "      <td>2.91</td>\n",
       "      <td>17.93</td>\n",
       "      <td>0.51</td>\n",
       "    </tr>\n",
       "    <tr>\n",
       "      <th>...</th>\n",
       "      <td>...</td>\n",
       "      <td>...</td>\n",
       "      <td>...</td>\n",
       "      <td>...</td>\n",
       "      <td>...</td>\n",
       "      <td>...</td>\n",
       "    </tr>\n",
       "    <tr>\n",
       "      <th>5467</th>\n",
       "      <td>5467</td>\n",
       "      <td>2011-10-10 00:00:00</td>\n",
       "      <td>10.09</td>\n",
       "      <td>16.14</td>\n",
       "      <td>186.62</td>\n",
       "      <td>26.94</td>\n",
       "    </tr>\n",
       "    <tr>\n",
       "      <th>5468</th>\n",
       "      <td>5468</td>\n",
       "      <td>2011-10-11 00:00:00</td>\n",
       "      <td>10.30</td>\n",
       "      <td>16.14</td>\n",
       "      <td>185.00</td>\n",
       "      <td>27.00</td>\n",
       "    </tr>\n",
       "    <tr>\n",
       "      <th>5469</th>\n",
       "      <td>5469</td>\n",
       "      <td>2011-10-12 00:00:00</td>\n",
       "      <td>10.05</td>\n",
       "      <td>16.40</td>\n",
       "      <td>186.12</td>\n",
       "      <td>26.96</td>\n",
       "    </tr>\n",
       "    <tr>\n",
       "      <th>5470</th>\n",
       "      <td>5470</td>\n",
       "      <td>2011-10-13 00:00:00</td>\n",
       "      <td>10.10</td>\n",
       "      <td>16.22</td>\n",
       "      <td>186.82</td>\n",
       "      <td>27.18</td>\n",
       "    </tr>\n",
       "    <tr>\n",
       "      <th>5471</th>\n",
       "      <td>5471</td>\n",
       "      <td>2011-10-14 00:00:00</td>\n",
       "      <td>10.26</td>\n",
       "      <td>16.60</td>\n",
       "      <td>190.53</td>\n",
       "      <td>27.27</td>\n",
       "    </tr>\n",
       "  </tbody>\n",
       "</table>\n",
       "<p>5472 rows × 6 columns</p>\n",
       "</div>"
      ],
      "text/plain": [
       "      Unnamed: 0                 date     AA     GE     IBM   MSFT\n",
       "0              0  1990-02-01 00:00:00   4.98   2.87   16.79   0.51\n",
       "1              1  1990-02-02 00:00:00   5.04   2.87   16.89   0.51\n",
       "2              2  1990-02-05 00:00:00   5.07   2.87   17.32   0.51\n",
       "3              3  1990-02-06 00:00:00   5.01   2.88   17.56   0.51\n",
       "4              4  1990-02-07 00:00:00   5.04   2.91   17.93   0.51\n",
       "...          ...                  ...    ...    ...     ...    ...\n",
       "5467        5467  2011-10-10 00:00:00  10.09  16.14  186.62  26.94\n",
       "5468        5468  2011-10-11 00:00:00  10.30  16.14  185.00  27.00\n",
       "5469        5469  2011-10-12 00:00:00  10.05  16.40  186.12  26.96\n",
       "5470        5470  2011-10-13 00:00:00  10.10  16.22  186.82  27.18\n",
       "5471        5471  2011-10-14 00:00:00  10.26  16.60  190.53  27.27\n",
       "\n",
       "[5472 rows x 6 columns]"
      ]
     },
     "execution_count": 650,
     "metadata": {},
     "output_type": "execute_result"
    }
   ],
   "source": [
    "import pandas as pd\n",
    "import os.path\n",
    "import urllib.request \n",
    "import os.path\n",
    "from matplotlib import pyplot as plt\n",
    "\n",
    "url_dir = 'https://gawron.sdsu.edu/python_for_ss/course_core/data'\n",
    "time1 = pd.read_csv(os.path.join(url_dir,'stocks.csv'))\n",
    "time1"
   ]
  },
  {
   "cell_type": "markdown",
   "metadata": {},
   "source": [
    "To get the idea of this data set try this:\n",
    "\n",
    "**Plotting challenge**:  Plot IBM and GE stock prices for February.  Try to place the two plots\n",
    "side by side.\n",
    "\n",
    "Note: even though the values in the `'date'` column are strings, they've very well chosen strings\n",
    "for our purposes.  Normal string sorting will reproduce chronological order."
   ]
  },
  {
   "cell_type": "markdown",
   "metadata": {},
   "source": [
    "There are no NaN  values in the data."
   ]
  },
  {
   "cell_type": "code",
   "execution_count": 721,
   "metadata": {},
   "outputs": [
    {
     "data": {
      "text/plain": [
       "(5472, 5472)"
      ]
     },
     "execution_count": 721,
     "metadata": {},
     "output_type": "execute_result"
    }
   ],
   "source": [
    "len(time1), len(time1.dropna())"
   ]
  },
  {
   "cell_type": "code",
   "execution_count": 651,
   "metadata": {},
   "outputs": [],
   "source": [
    "time_feb = time1[(time1['date'] >='1990-02-01 00:00:00') & (time1['date'] < '1990-03-01 00:00:00') ]"
   ]
  },
  {
   "cell_type": "code",
   "execution_count": 684,
   "metadata": {
    "scrolled": true
   },
   "outputs": [
    {
     "data": {
      "text/plain": [
       "<AxesSubplot:xlabel='date'>"
      ]
     },
     "execution_count": 684,
     "metadata": {},
     "output_type": "execute_result"
    },
    {
     "data": {
      "image/png": "[encoded data removed]",
      "text/plain": [
       "<Figure size 432x288 with 2 Axes>"
      ]
     },
     "metadata": {
      "needs_background": "light"
     },
     "output_type": "display_data"
    }
   ],
   "source": [
    "# Subplot array is 1x2 1 row with 2 cols.\n",
    "(fig, (ax1,ax2))  = plt.subplots(1,2)\n",
    "# More room between subplots\n",
    "fig.tight_layout()\n",
    "# Rotate the xaxis labels 45 degrees to get them to display nicer.\n",
    "time_feb.plot('date',\"IBM\",rot=45,ax=ax1)\n",
    "time_feb.plot('date',\"GE\",rot=45,ax=ax2)"
   ]
  },
  {
   "cell_type": "markdown",
   "metadata": {},
   "source": [
    "Task: **Create a pivot table which shows  the mean prices by month for 'IBM'.**"
   ]
  },
  {
   "cell_type": "markdown",
   "metadata": {},
   "source": [
    "We'd like to look at things month by month.  We need to make\n",
    "grouping by month easy.  While we're at it, let's also enable year by year aggregation.  The structure\n",
    "of the entries in the `'date'` column makes both things easy."
   ]
  },
  {
   "cell_type": "code",
   "execution_count": 685,
   "metadata": {},
   "outputs": [],
   "source": [
    "time1['year'] = time1['date'].apply(lambda x: int(x[:4]))\n",
    "time1['month'] = time1['date'].apply(lambda x: x[:7])\n"
   ]
  },
  {
   "cell_type": "markdown",
   "metadata": {},
   "source": [
    "Note that adding columns is not the only way to facilitate different kinds of grouping.  You can also use\n",
    "`groupby`, which takes an arbitrary function to assign labels, or you can simply pass `groupby` a sequence of labels you've created.  These options are described in the `pandas` documentation; see the `pandas_doc_notes` notebook for examples.\n",
    "\n",
    "Here is `time1` with the new columns."
   ]
  },
  {
   "cell_type": "code",
   "execution_count": 686,
   "metadata": {},
   "outputs": [
    {
     "data": {
      "text/html": [
       "<div>\n",
       "<style scoped>\n",
       "    .dataframe tbody tr th:only-of-type {\n",
       "        vertical-align: middle;\n",
       "    }\n",
       "\n",
       "    .dataframe tbody tr th {\n",
       "        vertical-align: top;\n",
       "    }\n",
       "\n",
       "    .dataframe thead th {\n",
       "        text-align: right;\n",
       "    }\n",
       "</style>\n",
       "<table border=\"1\" class=\"dataframe\">\n",
       "  <thead>\n",
       "    <tr style=\"text-align: right;\">\n",
       "      <th></th>\n",
       "      <th>Unnamed: 0</th>\n",
       "      <th>date</th>\n",
       "      <th>AA</th>\n",
       "      <th>GE</th>\n",
       "      <th>IBM</th>\n",
       "      <th>MSFT</th>\n",
       "      <th>year</th>\n",
       "      <th>month</th>\n",
       "    </tr>\n",
       "  </thead>\n",
       "  <tbody>\n",
       "    <tr>\n",
       "      <th>0</th>\n",
       "      <td>0</td>\n",
       "      <td>1990-02-01 00:00:00</td>\n",
       "      <td>4.98</td>\n",
       "      <td>2.87</td>\n",
       "      <td>16.79</td>\n",
       "      <td>0.51</td>\n",
       "      <td>1990</td>\n",
       "      <td>1990-02</td>\n",
       "    </tr>\n",
       "    <tr>\n",
       "      <th>1</th>\n",
       "      <td>1</td>\n",
       "      <td>1990-02-02 00:00:00</td>\n",
       "      <td>5.04</td>\n",
       "      <td>2.87</td>\n",
       "      <td>16.89</td>\n",
       "      <td>0.51</td>\n",
       "      <td>1990</td>\n",
       "      <td>1990-02</td>\n",
       "    </tr>\n",
       "    <tr>\n",
       "      <th>2</th>\n",
       "      <td>2</td>\n",
       "      <td>1990-02-05 00:00:00</td>\n",
       "      <td>5.07</td>\n",
       "      <td>2.87</td>\n",
       "      <td>17.32</td>\n",
       "      <td>0.51</td>\n",
       "      <td>1990</td>\n",
       "      <td>1990-02</td>\n",
       "    </tr>\n",
       "    <tr>\n",
       "      <th>3</th>\n",
       "      <td>3</td>\n",
       "      <td>1990-02-06 00:00:00</td>\n",
       "      <td>5.01</td>\n",
       "      <td>2.88</td>\n",
       "      <td>17.56</td>\n",
       "      <td>0.51</td>\n",
       "      <td>1990</td>\n",
       "      <td>1990-02</td>\n",
       "    </tr>\n",
       "    <tr>\n",
       "      <th>4</th>\n",
       "      <td>4</td>\n",
       "      <td>1990-02-07 00:00:00</td>\n",
       "      <td>5.04</td>\n",
       "      <td>2.91</td>\n",
       "      <td>17.93</td>\n",
       "      <td>0.51</td>\n",
       "      <td>1990</td>\n",
       "      <td>1990-02</td>\n",
       "    </tr>\n",
       "    <tr>\n",
       "      <th>...</th>\n",
       "      <td>...</td>\n",
       "      <td>...</td>\n",
       "      <td>...</td>\n",
       "      <td>...</td>\n",
       "      <td>...</td>\n",
       "      <td>...</td>\n",
       "      <td>...</td>\n",
       "      <td>...</td>\n",
       "    </tr>\n",
       "    <tr>\n",
       "      <th>5467</th>\n",
       "      <td>5467</td>\n",
       "      <td>2011-10-10 00:00:00</td>\n",
       "      <td>10.09</td>\n",
       "      <td>16.14</td>\n",
       "      <td>186.62</td>\n",
       "      <td>26.94</td>\n",
       "      <td>2011</td>\n",
       "      <td>2011-10</td>\n",
       "    </tr>\n",
       "    <tr>\n",
       "      <th>5468</th>\n",
       "      <td>5468</td>\n",
       "      <td>2011-10-11 00:00:00</td>\n",
       "      <td>10.30</td>\n",
       "      <td>16.14</td>\n",
       "      <td>185.00</td>\n",
       "      <td>27.00</td>\n",
       "      <td>2011</td>\n",
       "      <td>2011-10</td>\n",
       "    </tr>\n",
       "    <tr>\n",
       "      <th>5469</th>\n",
       "      <td>5469</td>\n",
       "      <td>2011-10-12 00:00:00</td>\n",
       "      <td>10.05</td>\n",
       "      <td>16.40</td>\n",
       "      <td>186.12</td>\n",
       "      <td>26.96</td>\n",
       "      <td>2011</td>\n",
       "      <td>2011-10</td>\n",
       "    </tr>\n",
       "    <tr>\n",
       "      <th>5470</th>\n",
       "      <td>5470</td>\n",
       "      <td>2011-10-13 00:00:00</td>\n",
       "      <td>10.10</td>\n",
       "      <td>16.22</td>\n",
       "      <td>186.82</td>\n",
       "      <td>27.18</td>\n",
       "      <td>2011</td>\n",
       "      <td>2011-10</td>\n",
       "    </tr>\n",
       "    <tr>\n",
       "      <th>5471</th>\n",
       "      <td>5471</td>\n",
       "      <td>2011-10-14 00:00:00</td>\n",
       "      <td>10.26</td>\n",
       "      <td>16.60</td>\n",
       "      <td>190.53</td>\n",
       "      <td>27.27</td>\n",
       "      <td>2011</td>\n",
       "      <td>2011-10</td>\n",
       "    </tr>\n",
       "  </tbody>\n",
       "</table>\n",
       "<p>5472 rows × 8 columns</p>\n",
       "</div>"
      ],
      "text/plain": [
       "      Unnamed: 0                 date     AA     GE     IBM   MSFT  year    month\n",
       "0              0  1990-02-01 00:00:00   4.98   2.87   16.79   0.51  1990  1990-02\n",
       "1              1  1990-02-02 00:00:00   5.04   2.87   16.89   0.51  1990  1990-02\n",
       "2              2  1990-02-05 00:00:00   5.07   2.87   17.32   0.51  1990  1990-02\n",
       "3              3  1990-02-06 00:00:00   5.01   2.88   17.56   0.51  1990  1990-02\n",
       "4              4  1990-02-07 00:00:00   5.04   2.91   17.93   0.51  1990  1990-02\n",
       "...          ...                  ...    ...    ...     ...    ...   ...      ...\n",
       "5467        5467  2011-10-10 00:00:00  10.09  16.14  186.62  26.94  2011  2011-10\n",
       "5468        5468  2011-10-11 00:00:00  10.30  16.14  185.00  27.00  2011  2011-10\n",
       "5469        5469  2011-10-12 00:00:00  10.05  16.40  186.12  26.96  2011  2011-10\n",
       "5470        5470  2011-10-13 00:00:00  10.10  16.22  186.82  27.18  2011  2011-10\n",
       "5471        5471  2011-10-14 00:00:00  10.26  16.60  190.53  27.27  2011  2011-10\n",
       "\n",
       "[5472 rows x 8 columns]"
      ]
     },
     "execution_count": 686,
     "metadata": {},
     "output_type": "execute_result"
    }
   ],
   "source": [
    "time1"
   ]
  },
  {
   "cell_type": "markdown",
   "metadata": {},
   "source": [
    "Now it's easy to create a pivot table which shows the month-by-month mean prices for IBM."
   ]
  },
  {
   "cell_type": "code",
   "execution_count": 680,
   "metadata": {
    "scrolled": true
   },
   "outputs": [
    {
     "data": {
      "text/html": [
       "<div>\n",
       "<style scoped>\n",
       "    .dataframe tbody tr th:only-of-type {\n",
       "        vertical-align: middle;\n",
       "    }\n",
       "\n",
       "    .dataframe tbody tr th {\n",
       "        vertical-align: top;\n",
       "    }\n",
       "\n",
       "    .dataframe thead th {\n",
       "        text-align: right;\n",
       "    }\n",
       "</style>\n",
       "<table border=\"1\" class=\"dataframe\">\n",
       "  <thead>\n",
       "    <tr style=\"text-align: right;\">\n",
       "      <th></th>\n",
       "      <th>IBM</th>\n",
       "    </tr>\n",
       "    <tr>\n",
       "      <th>month</th>\n",
       "      <th></th>\n",
       "    </tr>\n",
       "  </thead>\n",
       "  <tbody>\n",
       "    <tr>\n",
       "      <th>1990-02</th>\n",
       "      <td>17.781579</td>\n",
       "    </tr>\n",
       "    <tr>\n",
       "      <th>1990-03</th>\n",
       "      <td>18.466818</td>\n",
       "    </tr>\n",
       "    <tr>\n",
       "      <th>1990-04</th>\n",
       "      <td>18.767500</td>\n",
       "    </tr>\n",
       "    <tr>\n",
       "      <th>1990-05</th>\n",
       "      <td>20.121818</td>\n",
       "    </tr>\n",
       "    <tr>\n",
       "      <th>1990-06</th>\n",
       "      <td>20.933810</td>\n",
       "    </tr>\n",
       "    <tr>\n",
       "      <th>...</th>\n",
       "      <td>...</td>\n",
       "    </tr>\n",
       "    <tr>\n",
       "      <th>2011-06</th>\n",
       "      <td>164.875455</td>\n",
       "    </tr>\n",
       "    <tr>\n",
       "      <th>2011-07</th>\n",
       "      <td>178.204500</td>\n",
       "    </tr>\n",
       "    <tr>\n",
       "      <th>2011-08</th>\n",
       "      <td>169.194348</td>\n",
       "    </tr>\n",
       "    <tr>\n",
       "      <th>2011-09</th>\n",
       "      <td>170.245714</td>\n",
       "    </tr>\n",
       "    <tr>\n",
       "      <th>2011-10</th>\n",
       "      <td>182.405000</td>\n",
       "    </tr>\n",
       "  </tbody>\n",
       "</table>\n",
       "<p>261 rows × 1 columns</p>\n",
       "</div>"
      ],
      "text/plain": [
       "                IBM\n",
       "month              \n",
       "1990-02   17.781579\n",
       "1990-03   18.466818\n",
       "1990-04   18.767500\n",
       "1990-05   20.121818\n",
       "1990-06   20.933810\n",
       "...             ...\n",
       "2011-06  164.875455\n",
       "2011-07  178.204500\n",
       "2011-08  169.194348\n",
       "2011-09  170.245714\n",
       "2011-10  182.405000\n",
       "\n",
       "[261 rows x 1 columns]"
      ]
     },
     "execution_count": 680,
     "metadata": {},
     "output_type": "execute_result"
    }
   ],
   "source": [
    "time1.pivot_table('IBM','month')"
   ]
  },
  {
   "cell_type": "markdown",
   "metadata": {},
   "source": [
    "Task: **Create a DataFrame which has a single row  for each month showing the mean prices for 'IBM', \"GE' and\n",
    "'MSFT' for that month in separate columns.**"
   ]
  },
  {
   "cell_type": "markdown",
   "metadata": {},
   "source": [
    "It would be nice to have one DataFrame which gave the month by month means for all three\n",
    "stocks in `time1`; this is essentially a pivot_table task.  The issue is that \n",
    "each pivot_table command can only  apply `.mean()` to one values column;\n",
    "and we have three.  \n",
    "\n",
    "We could do three pivots and concatenate columnwise.  An alternative pandas offers is \"melting\";\n",
    "conceptually, `melt` is the inverse of `groupby`.  We unfold 30 day rows for\n",
    "April into 90 rows, 30 for each stock, by replacing the original three stock value columns with one\n",
    "`values` column and adding a `variable` column to keep track of what\n",
    "stock had each value:"
   ]
  },
  {
   "cell_type": "code",
   "execution_count": 676,
   "metadata": {},
   "outputs": [],
   "source": [
    "time1_melt = pd.melt(time1, id_vars=['month'], value_vars=['AA', 'GE','IBM'])"
   ]
  },
  {
   "cell_type": "code",
   "execution_count": 704,
   "metadata": {},
   "outputs": [
    {
     "data": {
      "text/html": [
       "<div>\n",
       "<style scoped>\n",
       "    .dataframe tbody tr th:only-of-type {\n",
       "        vertical-align: middle;\n",
       "    }\n",
       "\n",
       "    .dataframe tbody tr th {\n",
       "        vertical-align: top;\n",
       "    }\n",
       "\n",
       "    .dataframe thead th {\n",
       "        text-align: right;\n",
       "    }\n",
       "</style>\n",
       "<table border=\"1\" class=\"dataframe\">\n",
       "  <thead>\n",
       "    <tr style=\"text-align: right;\">\n",
       "      <th></th>\n",
       "      <th>month</th>\n",
       "      <th>variable</th>\n",
       "      <th>value</th>\n",
       "    </tr>\n",
       "  </thead>\n",
       "  <tbody>\n",
       "    <tr>\n",
       "      <th>41</th>\n",
       "      <td>1990-04</td>\n",
       "      <td>AA</td>\n",
       "      <td>5.18</td>\n",
       "    </tr>\n",
       "    <tr>\n",
       "      <th>42</th>\n",
       "      <td>1990-04</td>\n",
       "      <td>AA</td>\n",
       "      <td>5.17</td>\n",
       "    </tr>\n",
       "    <tr>\n",
       "      <th>43</th>\n",
       "      <td>1990-04</td>\n",
       "      <td>AA</td>\n",
       "      <td>5.13</td>\n",
       "    </tr>\n",
       "    <tr>\n",
       "      <th>44</th>\n",
       "      <td>1990-04</td>\n",
       "      <td>AA</td>\n",
       "      <td>5.15</td>\n",
       "    </tr>\n",
       "    <tr>\n",
       "      <th>45</th>\n",
       "      <td>1990-04</td>\n",
       "      <td>AA</td>\n",
       "      <td>5.04</td>\n",
       "    </tr>\n",
       "    <tr>\n",
       "      <th>46</th>\n",
       "      <td>1990-04</td>\n",
       "      <td>AA</td>\n",
       "      <td>5.06</td>\n",
       "    </tr>\n",
       "    <tr>\n",
       "      <th>47</th>\n",
       "      <td>1990-04</td>\n",
       "      <td>AA</td>\n",
       "      <td>5.11</td>\n",
       "    </tr>\n",
       "    <tr>\n",
       "      <th>48</th>\n",
       "      <td>1990-04</td>\n",
       "      <td>AA</td>\n",
       "      <td>5.20</td>\n",
       "    </tr>\n",
       "    <tr>\n",
       "      <th>49</th>\n",
       "      <td>1990-04</td>\n",
       "      <td>AA</td>\n",
       "      <td>5.25</td>\n",
       "    </tr>\n",
       "    <tr>\n",
       "      <th>50</th>\n",
       "      <td>1990-04</td>\n",
       "      <td>AA</td>\n",
       "      <td>5.27</td>\n",
       "    </tr>\n",
       "    <tr>\n",
       "      <th>51</th>\n",
       "      <td>1990-04</td>\n",
       "      <td>AA</td>\n",
       "      <td>5.26</td>\n",
       "    </tr>\n",
       "    <tr>\n",
       "      <th>52</th>\n",
       "      <td>1990-04</td>\n",
       "      <td>AA</td>\n",
       "      <td>5.21</td>\n",
       "    </tr>\n",
       "    <tr>\n",
       "      <th>53</th>\n",
       "      <td>1990-04</td>\n",
       "      <td>AA</td>\n",
       "      <td>5.15</td>\n",
       "    </tr>\n",
       "    <tr>\n",
       "      <th>54</th>\n",
       "      <td>1990-04</td>\n",
       "      <td>AA</td>\n",
       "      <td>5.10</td>\n",
       "    </tr>\n",
       "    <tr>\n",
       "      <th>55</th>\n",
       "      <td>1990-04</td>\n",
       "      <td>AA</td>\n",
       "      <td>5.04</td>\n",
       "    </tr>\n",
       "    <tr>\n",
       "      <th>56</th>\n",
       "      <td>1990-04</td>\n",
       "      <td>AA</td>\n",
       "      <td>5.07</td>\n",
       "    </tr>\n",
       "    <tr>\n",
       "      <th>57</th>\n",
       "      <td>1990-04</td>\n",
       "      <td>AA</td>\n",
       "      <td>5.10</td>\n",
       "    </tr>\n",
       "    <tr>\n",
       "      <th>58</th>\n",
       "      <td>1990-04</td>\n",
       "      <td>AA</td>\n",
       "      <td>5.12</td>\n",
       "    </tr>\n",
       "    <tr>\n",
       "      <th>59</th>\n",
       "      <td>1990-04</td>\n",
       "      <td>AA</td>\n",
       "      <td>5.14</td>\n",
       "    </tr>\n",
       "    <tr>\n",
       "      <th>60</th>\n",
       "      <td>1990-04</td>\n",
       "      <td>AA</td>\n",
       "      <td>5.07</td>\n",
       "    </tr>\n",
       "    <tr>\n",
       "      <th>5513</th>\n",
       "      <td>1990-04</td>\n",
       "      <td>GE</td>\n",
       "      <td>2.99</td>\n",
       "    </tr>\n",
       "    <tr>\n",
       "      <th>5514</th>\n",
       "      <td>1990-04</td>\n",
       "      <td>GE</td>\n",
       "      <td>3.04</td>\n",
       "    </tr>\n",
       "    <tr>\n",
       "      <th>5515</th>\n",
       "      <td>1990-04</td>\n",
       "      <td>GE</td>\n",
       "      <td>3.01</td>\n",
       "    </tr>\n",
       "    <tr>\n",
       "      <th>5516</th>\n",
       "      <td>1990-04</td>\n",
       "      <td>GE</td>\n",
       "      <td>3.01</td>\n",
       "    </tr>\n",
       "    <tr>\n",
       "      <th>5517</th>\n",
       "      <td>1990-04</td>\n",
       "      <td>GE</td>\n",
       "      <td>3.01</td>\n",
       "    </tr>\n",
       "    <tr>\n",
       "      <th>5518</th>\n",
       "      <td>1990-04</td>\n",
       "      <td>GE</td>\n",
       "      <td>3.02</td>\n",
       "    </tr>\n",
       "    <tr>\n",
       "      <th>5519</th>\n",
       "      <td>1990-04</td>\n",
       "      <td>GE</td>\n",
       "      <td>3.01</td>\n",
       "    </tr>\n",
       "    <tr>\n",
       "      <th>5520</th>\n",
       "      <td>1990-04</td>\n",
       "      <td>GE</td>\n",
       "      <td>3.03</td>\n",
       "    </tr>\n",
       "    <tr>\n",
       "      <th>5521</th>\n",
       "      <td>1990-04</td>\n",
       "      <td>GE</td>\n",
       "      <td>3.09</td>\n",
       "    </tr>\n",
       "    <tr>\n",
       "      <th>5522</th>\n",
       "      <td>1990-04</td>\n",
       "      <td>GE</td>\n",
       "      <td>3.12</td>\n",
       "    </tr>\n",
       "    <tr>\n",
       "      <th>5523</th>\n",
       "      <td>1990-04</td>\n",
       "      <td>GE</td>\n",
       "      <td>3.13</td>\n",
       "    </tr>\n",
       "    <tr>\n",
       "      <th>5524</th>\n",
       "      <td>1990-04</td>\n",
       "      <td>GE</td>\n",
       "      <td>3.11</td>\n",
       "    </tr>\n",
       "    <tr>\n",
       "      <th>5525</th>\n",
       "      <td>1990-04</td>\n",
       "      <td>GE</td>\n",
       "      <td>3.08</td>\n",
       "    </tr>\n",
       "    <tr>\n",
       "      <th>5526</th>\n",
       "      <td>1990-04</td>\n",
       "      <td>GE</td>\n",
       "      <td>3.06</td>\n",
       "    </tr>\n",
       "    <tr>\n",
       "      <th>5527</th>\n",
       "      <td>1990-04</td>\n",
       "      <td>GE</td>\n",
       "      <td>3.02</td>\n",
       "    </tr>\n",
       "    <tr>\n",
       "      <th>5528</th>\n",
       "      <td>1990-04</td>\n",
       "      <td>GE</td>\n",
       "      <td>3.01</td>\n",
       "    </tr>\n",
       "    <tr>\n",
       "      <th>5529</th>\n",
       "      <td>1990-04</td>\n",
       "      <td>GE</td>\n",
       "      <td>3.01</td>\n",
       "    </tr>\n",
       "    <tr>\n",
       "      <th>5530</th>\n",
       "      <td>1990-04</td>\n",
       "      <td>GE</td>\n",
       "      <td>3.02</td>\n",
       "    </tr>\n",
       "    <tr>\n",
       "      <th>5531</th>\n",
       "      <td>1990-04</td>\n",
       "      <td>GE</td>\n",
       "      <td>2.99</td>\n",
       "    </tr>\n",
       "    <tr>\n",
       "      <th>5532</th>\n",
       "      <td>1990-04</td>\n",
       "      <td>GE</td>\n",
       "      <td>2.99</td>\n",
       "    </tr>\n",
       "    <tr>\n",
       "      <th>10985</th>\n",
       "      <td>1990-04</td>\n",
       "      <td>IBM</td>\n",
       "      <td>18.41</td>\n",
       "    </tr>\n",
       "    <tr>\n",
       "      <th>10986</th>\n",
       "      <td>1990-04</td>\n",
       "      <td>IBM</td>\n",
       "      <td>18.54</td>\n",
       "    </tr>\n",
       "    <tr>\n",
       "      <th>10987</th>\n",
       "      <td>1990-04</td>\n",
       "      <td>IBM</td>\n",
       "      <td>18.52</td>\n",
       "    </tr>\n",
       "    <tr>\n",
       "      <th>10988</th>\n",
       "      <td>1990-04</td>\n",
       "      <td>IBM</td>\n",
       "      <td>18.45</td>\n",
       "    </tr>\n",
       "    <tr>\n",
       "      <th>10989</th>\n",
       "      <td>1990-04</td>\n",
       "      <td>IBM</td>\n",
       "      <td>18.41</td>\n",
       "    </tr>\n",
       "    <tr>\n",
       "      <th>10990</th>\n",
       "      <td>1990-04</td>\n",
       "      <td>IBM</td>\n",
       "      <td>18.34</td>\n",
       "    </tr>\n",
       "    <tr>\n",
       "      <th>10991</th>\n",
       "      <td>1990-04</td>\n",
       "      <td>IBM</td>\n",
       "      <td>18.41</td>\n",
       "    </tr>\n",
       "    <tr>\n",
       "      <th>10992</th>\n",
       "      <td>1990-04</td>\n",
       "      <td>IBM</td>\n",
       "      <td>18.49</td>\n",
       "    </tr>\n",
       "    <tr>\n",
       "      <th>10993</th>\n",
       "      <td>1990-04</td>\n",
       "      <td>IBM</td>\n",
       "      <td>18.62</td>\n",
       "    </tr>\n",
       "    <tr>\n",
       "      <th>10994</th>\n",
       "      <td>1990-04</td>\n",
       "      <td>IBM</td>\n",
       "      <td>19.28</td>\n",
       "    </tr>\n",
       "    <tr>\n",
       "      <th>10995</th>\n",
       "      <td>1990-04</td>\n",
       "      <td>IBM</td>\n",
       "      <td>19.32</td>\n",
       "    </tr>\n",
       "    <tr>\n",
       "      <th>10996</th>\n",
       "      <td>1990-04</td>\n",
       "      <td>IBM</td>\n",
       "      <td>19.10</td>\n",
       "    </tr>\n",
       "    <tr>\n",
       "      <th>10997</th>\n",
       "      <td>1990-04</td>\n",
       "      <td>IBM</td>\n",
       "      <td>18.97</td>\n",
       "    </tr>\n",
       "    <tr>\n",
       "      <th>10998</th>\n",
       "      <td>1990-04</td>\n",
       "      <td>IBM</td>\n",
       "      <td>19.01</td>\n",
       "    </tr>\n",
       "    <tr>\n",
       "      <th>10999</th>\n",
       "      <td>1990-04</td>\n",
       "      <td>IBM</td>\n",
       "      <td>19.01</td>\n",
       "    </tr>\n",
       "    <tr>\n",
       "      <th>11000</th>\n",
       "      <td>1990-04</td>\n",
       "      <td>IBM</td>\n",
       "      <td>18.93</td>\n",
       "    </tr>\n",
       "    <tr>\n",
       "      <th>11001</th>\n",
       "      <td>1990-04</td>\n",
       "      <td>IBM</td>\n",
       "      <td>19.01</td>\n",
       "    </tr>\n",
       "    <tr>\n",
       "      <th>11002</th>\n",
       "      <td>1990-04</td>\n",
       "      <td>IBM</td>\n",
       "      <td>18.91</td>\n",
       "    </tr>\n",
       "    <tr>\n",
       "      <th>11003</th>\n",
       "      <td>1990-04</td>\n",
       "      <td>IBM</td>\n",
       "      <td>18.67</td>\n",
       "    </tr>\n",
       "    <tr>\n",
       "      <th>11004</th>\n",
       "      <td>1990-04</td>\n",
       "      <td>IBM</td>\n",
       "      <td>18.95</td>\n",
       "    </tr>\n",
       "  </tbody>\n",
       "</table>\n",
       "</div>"
      ],
      "text/plain": [
       "         month variable  value\n",
       "41     1990-04       AA   5.18\n",
       "42     1990-04       AA   5.17\n",
       "43     1990-04       AA   5.13\n",
       "44     1990-04       AA   5.15\n",
       "45     1990-04       AA   5.04\n",
       "46     1990-04       AA   5.06\n",
       "47     1990-04       AA   5.11\n",
       "48     1990-04       AA   5.20\n",
       "49     1990-04       AA   5.25\n",
       "50     1990-04       AA   5.27\n",
       "51     1990-04       AA   5.26\n",
       "52     1990-04       AA   5.21\n",
       "53     1990-04       AA   5.15\n",
       "54     1990-04       AA   5.10\n",
       "55     1990-04       AA   5.04\n",
       "56     1990-04       AA   5.07\n",
       "57     1990-04       AA   5.10\n",
       "58     1990-04       AA   5.12\n",
       "59     1990-04       AA   5.14\n",
       "60     1990-04       AA   5.07\n",
       "5513   1990-04       GE   2.99\n",
       "5514   1990-04       GE   3.04\n",
       "5515   1990-04       GE   3.01\n",
       "5516   1990-04       GE   3.01\n",
       "5517   1990-04       GE   3.01\n",
       "5518   1990-04       GE   3.02\n",
       "5519   1990-04       GE   3.01\n",
       "5520   1990-04       GE   3.03\n",
       "5521   1990-04       GE   3.09\n",
       "5522   1990-04       GE   3.12\n",
       "5523   1990-04       GE   3.13\n",
       "5524   1990-04       GE   3.11\n",
       "5525   1990-04       GE   3.08\n",
       "5526   1990-04       GE   3.06\n",
       "5527   1990-04       GE   3.02\n",
       "5528   1990-04       GE   3.01\n",
       "5529   1990-04       GE   3.01\n",
       "5530   1990-04       GE   3.02\n",
       "5531   1990-04       GE   2.99\n",
       "5532   1990-04       GE   2.99\n",
       "10985  1990-04      IBM  18.41\n",
       "10986  1990-04      IBM  18.54\n",
       "10987  1990-04      IBM  18.52\n",
       "10988  1990-04      IBM  18.45\n",
       "10989  1990-04      IBM  18.41\n",
       "10990  1990-04      IBM  18.34\n",
       "10991  1990-04      IBM  18.41\n",
       "10992  1990-04      IBM  18.49\n",
       "10993  1990-04      IBM  18.62\n",
       "10994  1990-04      IBM  19.28\n",
       "10995  1990-04      IBM  19.32\n",
       "10996  1990-04      IBM  19.10\n",
       "10997  1990-04      IBM  18.97\n",
       "10998  1990-04      IBM  19.01\n",
       "10999  1990-04      IBM  19.01\n",
       "11000  1990-04      IBM  18.93\n",
       "11001  1990-04      IBM  19.01\n",
       "11002  1990-04      IBM  18.91\n",
       "11003  1990-04      IBM  18.67\n",
       "11004  1990-04      IBM  18.95"
      ]
     },
     "execution_count": 704,
     "metadata": {},
     "output_type": "execute_result"
    }
   ],
   "source": [
    "time1_melt[time1_melt['month'] == '1990-04']"
   ]
  },
  {
   "cell_type": "markdown",
   "metadata": {},
   "source": [
    "Now we can pivot into the DataFrame we want:"
   ]
  },
  {
   "cell_type": "code",
   "execution_count": 708,
   "metadata": {
    "scrolled": true
   },
   "outputs": [
    {
     "data": {
      "text/html": [
       "<div>\n",
       "<style scoped>\n",
       "    .dataframe tbody tr th:only-of-type {\n",
       "        vertical-align: middle;\n",
       "    }\n",
       "\n",
       "    .dataframe tbody tr th {\n",
       "        vertical-align: top;\n",
       "    }\n",
       "\n",
       "    .dataframe thead th {\n",
       "        text-align: right;\n",
       "    }\n",
       "</style>\n",
       "<table border=\"1\" class=\"dataframe\">\n",
       "  <thead>\n",
       "    <tr style=\"text-align: right;\">\n",
       "      <th>variable</th>\n",
       "      <th>AA</th>\n",
       "      <th>GE</th>\n",
       "      <th>IBM</th>\n",
       "    </tr>\n",
       "    <tr>\n",
       "      <th>month</th>\n",
       "      <th></th>\n",
       "      <th></th>\n",
       "      <th></th>\n",
       "    </tr>\n",
       "  </thead>\n",
       "  <tbody>\n",
       "    <tr>\n",
       "      <th>1990-02</th>\n",
       "      <td>5.043684</td>\n",
       "      <td>2.873158</td>\n",
       "      <td>17.781579</td>\n",
       "    </tr>\n",
       "    <tr>\n",
       "      <th>1990-03</th>\n",
       "      <td>5.362273</td>\n",
       "      <td>2.963636</td>\n",
       "      <td>18.466818</td>\n",
       "    </tr>\n",
       "    <tr>\n",
       "      <th>1990-04</th>\n",
       "      <td>5.141000</td>\n",
       "      <td>3.037500</td>\n",
       "      <td>18.767500</td>\n",
       "    </tr>\n",
       "    <tr>\n",
       "      <th>1990-05</th>\n",
       "      <td>5.278182</td>\n",
       "      <td>3.160000</td>\n",
       "      <td>20.121818</td>\n",
       "    </tr>\n",
       "    <tr>\n",
       "      <th>1990-06</th>\n",
       "      <td>5.399048</td>\n",
       "      <td>3.275714</td>\n",
       "      <td>20.933810</td>\n",
       "    </tr>\n",
       "    <tr>\n",
       "      <th>...</th>\n",
       "      <td>...</td>\n",
       "      <td>...</td>\n",
       "      <td>...</td>\n",
       "    </tr>\n",
       "    <tr>\n",
       "      <th>2011-06</th>\n",
       "      <td>15.390000</td>\n",
       "      <td>18.295000</td>\n",
       "      <td>164.875455</td>\n",
       "    </tr>\n",
       "    <tr>\n",
       "      <th>2011-07</th>\n",
       "      <td>15.648000</td>\n",
       "      <td>18.500500</td>\n",
       "      <td>178.204500</td>\n",
       "    </tr>\n",
       "    <tr>\n",
       "      <th>2011-08</th>\n",
       "      <td>12.353478</td>\n",
       "      <td>15.878261</td>\n",
       "      <td>169.194348</td>\n",
       "    </tr>\n",
       "    <tr>\n",
       "      <th>2011-09</th>\n",
       "      <td>11.209524</td>\n",
       "      <td>15.557143</td>\n",
       "      <td>170.245714</td>\n",
       "    </tr>\n",
       "    <tr>\n",
       "      <th>2011-10</th>\n",
       "      <td>9.778000</td>\n",
       "      <td>15.735000</td>\n",
       "      <td>182.405000</td>\n",
       "    </tr>\n",
       "  </tbody>\n",
       "</table>\n",
       "<p>261 rows × 3 columns</p>\n",
       "</div>"
      ],
      "text/plain": [
       "variable         AA         GE         IBM\n",
       "month                                     \n",
       "1990-02    5.043684   2.873158   17.781579\n",
       "1990-03    5.362273   2.963636   18.466818\n",
       "1990-04    5.141000   3.037500   18.767500\n",
       "1990-05    5.278182   3.160000   20.121818\n",
       "1990-06    5.399048   3.275714   20.933810\n",
       "...             ...        ...         ...\n",
       "2011-06   15.390000  18.295000  164.875455\n",
       "2011-07   15.648000  18.500500  178.204500\n",
       "2011-08   12.353478  15.878261  169.194348\n",
       "2011-09   11.209524  15.557143  170.245714\n",
       "2011-10    9.778000  15.735000  182.405000\n",
       "\n",
       "[261 rows x 3 columns]"
      ]
     },
     "execution_count": 708,
     "metadata": {},
     "output_type": "execute_result"
    }
   ],
   "source": [
    "time1_month_pivot = time1_melt.pivot_table('value','month','variable')\n",
    "time1_month_pivot"
   ]
  },
  {
   "cell_type": "markdown",
   "metadata": {},
   "source": [
    "**What stock gave the best return over the  time period in the data?**\n",
    "\n",
    "To answer this question we essentially want to perform a **delta calculation**: subtract the value on the first day from the value on the last day.  The issue is what measure of value should we use when stock share prices differ significantly in scale  (compare IBM\n",
    "and MSFT in Feb 1990 in `time1`).  We need some way of scaling the price differences so\n",
    "as to make them comparable.\n",
    "\n",
    "We will present one way of doing this without a great deal of discussion because this question is essentially a pretext for showing you how to **center** and **scale** data.\n",
    "\n",
    "Strategy:  Center and scale each stock column to show stock price in standard deviation units.\n",
    "(Plot the three resulting stock price lines, for fun).  **Delta calculation**:  For each stock, compute the difference between the first and last days in the data in  standard deviation units.\n",
    "\n",
    "The stock that is the furthest above its starting point at the end of the period is the winner.  Note that the \"center\" of the centering is arbitrary for this calculation.  We choose to make it the mean because that is a standard choice. But in the end we're just computing the difference in values beween the last day and the first day, and the choice of center will have no effect on that difference.\n",
    "\n",
    "```\n",
    "(x_last - c) - (x_first - c) = x_last - x_first\n",
    "```\n",
    "\n",
    "What does matter is the choice of the units we use to represent stock values.  We choose\n",
    "`standard deviation units` because that is a reasonable way to standardize the prices of stocks."
   ]
  },
  {
   "cell_type": "markdown",
   "metadata": {},
   "source": [
    "The next cell actually centers and scales each column.  "
   ]
  },
  {
   "cell_type": "code",
   "execution_count": 745,
   "metadata": {},
   "outputs": [],
   "source": [
    "# If you used time1 you would need to tinker with both the plot command\n",
    "# and the delta calculation below, because the DataFrame index is not a sequence of time points. \n",
    "# df = time1[['AA','GE','IBM']]\n",
    "df = time1_month_pivot\n",
    "mn,std = df.mean(),df.std()\n",
    "# centering (the numerator)  & scaling (the denominator)\n",
    "new_df=(df-mn)/std"
   ]
  },
  {
   "cell_type": "markdown",
   "metadata": {},
   "source": [
    "How did **that** work?  Well, `pandas` sensibly decides\n",
    "that in a normally structured DataFrame, it doesn't make sense to take\n",
    "the mean or standard deviation of a row  (each column is a different kind of thing),\n",
    "so mean and standard deviation calculations are automatically applied to columns.\n",
    "\n",
    "Note that for the cell above to work we should (minimally) have a DataFrame with\n",
    "all numerical columns and no NaN issues (or at least NaN issues that have\n",
    "been thought through in advance).  Our pivot table meets these criteria: It is all numerical with no NaNs.\n",
    "Because there are no NaNs in the original DataFrame `time1`, we could have\n",
    "just as easily have used the three value columns in `time1` for centering and scaling,\n",
    "but we would end up with a DataFrame with no temporal index and no time related columns.\n",
    "\n",
    "Here is the result of centering the pivot table:"
   ]
  },
  {
   "cell_type": "code",
   "execution_count": 746,
   "metadata": {},
   "outputs": [
    {
     "data": {
      "text/html": [
       "<div>\n",
       "<style scoped>\n",
       "    .dataframe tbody tr th:only-of-type {\n",
       "        vertical-align: middle;\n",
       "    }\n",
       "\n",
       "    .dataframe tbody tr th {\n",
       "        vertical-align: top;\n",
       "    }\n",
       "\n",
       "    .dataframe thead th {\n",
       "        text-align: right;\n",
       "    }\n",
       "</style>\n",
       "<table border=\"1\" class=\"dataframe\">\n",
       "  <thead>\n",
       "    <tr style=\"text-align: right;\">\n",
       "      <th>variable</th>\n",
       "      <th>AA</th>\n",
       "      <th>GE</th>\n",
       "      <th>IBM</th>\n",
       "    </tr>\n",
       "    <tr>\n",
       "      <th>month</th>\n",
       "      <th></th>\n",
       "      <th></th>\n",
       "      <th></th>\n",
       "    </tr>\n",
       "  </thead>\n",
       "  <tbody>\n",
       "    <tr>\n",
       "      <th>1990-02</th>\n",
       "      <td>-1.288710</td>\n",
       "      <td>-1.418216</td>\n",
       "      <td>-1.172091</td>\n",
       "    </tr>\n",
       "    <tr>\n",
       "      <th>1990-03</th>\n",
       "      <td>-1.255604</td>\n",
       "      <td>-1.409703</td>\n",
       "      <td>-1.155745</td>\n",
       "    </tr>\n",
       "    <tr>\n",
       "      <th>1990-04</th>\n",
       "      <td>-1.278598</td>\n",
       "      <td>-1.402754</td>\n",
       "      <td>-1.148573</td>\n",
       "    </tr>\n",
       "    <tr>\n",
       "      <th>1990-05</th>\n",
       "      <td>-1.264343</td>\n",
       "      <td>-1.391229</td>\n",
       "      <td>-1.116268</td>\n",
       "    </tr>\n",
       "    <tr>\n",
       "      <th>1990-06</th>\n",
       "      <td>-1.251783</td>\n",
       "      <td>-1.380342</td>\n",
       "      <td>-1.096900</td>\n",
       "    </tr>\n",
       "    <tr>\n",
       "      <th>...</th>\n",
       "      <td>...</td>\n",
       "      <td>...</td>\n",
       "      <td>...</td>\n",
       "    </tr>\n",
       "    <tr>\n",
       "      <th>2011-06</th>\n",
       "      <td>-0.213580</td>\n",
       "      <td>0.032714</td>\n",
       "      <td>2.336573</td>\n",
       "    </tr>\n",
       "    <tr>\n",
       "      <th>2011-07</th>\n",
       "      <td>-0.186770</td>\n",
       "      <td>0.052048</td>\n",
       "      <td>2.654514</td>\n",
       "    </tr>\n",
       "    <tr>\n",
       "      <th>2011-08</th>\n",
       "      <td>-0.529118</td>\n",
       "      <td>-0.194660</td>\n",
       "      <td>2.439593</td>\n",
       "    </tr>\n",
       "    <tr>\n",
       "      <th>2011-09</th>\n",
       "      <td>-0.647991</td>\n",
       "      <td>-0.224871</td>\n",
       "      <td>2.464671</td>\n",
       "    </tr>\n",
       "    <tr>\n",
       "      <th>2011-10</th>\n",
       "      <td>-0.796747</td>\n",
       "      <td>-0.208138</td>\n",
       "      <td>2.754710</td>\n",
       "    </tr>\n",
       "  </tbody>\n",
       "</table>\n",
       "<p>261 rows × 3 columns</p>\n",
       "</div>"
      ],
      "text/plain": [
       "variable        AA        GE       IBM\n",
       "month                                 \n",
       "1990-02  -1.288710 -1.418216 -1.172091\n",
       "1990-03  -1.255604 -1.409703 -1.155745\n",
       "1990-04  -1.278598 -1.402754 -1.148573\n",
       "1990-05  -1.264343 -1.391229 -1.116268\n",
       "1990-06  -1.251783 -1.380342 -1.096900\n",
       "...            ...       ...       ...\n",
       "2011-06  -0.213580  0.032714  2.336573\n",
       "2011-07  -0.186770  0.052048  2.654514\n",
       "2011-08  -0.529118 -0.194660  2.439593\n",
       "2011-09  -0.647991 -0.224871  2.464671\n",
       "2011-10  -0.796747 -0.208138  2.754710\n",
       "\n",
       "[261 rows x 3 columns]"
      ]
     },
     "execution_count": 746,
     "metadata": {},
     "output_type": "execute_result"
    }
   ],
   "source": [
    "new_df"
   ]
  },
  {
   "cell_type": "markdown",
   "metadata": {},
   "source": [
    "The brief code snippet above is in this case equivalent to the for-loop in the cell below, which might be useful code if you try to do this on a subset of the columns in a DataFrame."
   ]
  },
  {
   "cell_type": "code",
   "execution_count": 732,
   "metadata": {},
   "outputs": [],
   "source": [
    "df = time1_month_pivot\n",
    "new_dict = {}\n",
    "for col in df.columns:\n",
    "    col_series = df[col]\n",
    "    mn, std = col_series.mean(),col_series.std()\n",
    "    # centering (the numerator)  & scaling (the denominator)\n",
    "    new_dict[col] = (col_series - mn)/std\n",
    "new_df = pd.DataFrame(new_dict)"
   ]
  },
  {
   "cell_type": "code",
   "execution_count": 733,
   "metadata": {},
   "outputs": [
    {
     "data": {
      "text/html": [
       "<div>\n",
       "<style scoped>\n",
       "    .dataframe tbody tr th:only-of-type {\n",
       "        vertical-align: middle;\n",
       "    }\n",
       "\n",
       "    .dataframe tbody tr th {\n",
       "        vertical-align: top;\n",
       "    }\n",
       "\n",
       "    .dataframe thead th {\n",
       "        text-align: right;\n",
       "    }\n",
       "</style>\n",
       "<table border=\"1\" class=\"dataframe\">\n",
       "  <thead>\n",
       "    <tr style=\"text-align: right;\">\n",
       "      <th></th>\n",
       "      <th>AA</th>\n",
       "      <th>GE</th>\n",
       "      <th>IBM</th>\n",
       "    </tr>\n",
       "    <tr>\n",
       "      <th>month</th>\n",
       "      <th></th>\n",
       "      <th></th>\n",
       "      <th></th>\n",
       "    </tr>\n",
       "  </thead>\n",
       "  <tbody>\n",
       "    <tr>\n",
       "      <th>1990-02</th>\n",
       "      <td>-1.288710</td>\n",
       "      <td>-1.418216</td>\n",
       "      <td>-1.172091</td>\n",
       "    </tr>\n",
       "    <tr>\n",
       "      <th>1990-03</th>\n",
       "      <td>-1.255604</td>\n",
       "      <td>-1.409703</td>\n",
       "      <td>-1.155745</td>\n",
       "    </tr>\n",
       "    <tr>\n",
       "      <th>1990-04</th>\n",
       "      <td>-1.278598</td>\n",
       "      <td>-1.402754</td>\n",
       "      <td>-1.148573</td>\n",
       "    </tr>\n",
       "    <tr>\n",
       "      <th>1990-05</th>\n",
       "      <td>-1.264343</td>\n",
       "      <td>-1.391229</td>\n",
       "      <td>-1.116268</td>\n",
       "    </tr>\n",
       "    <tr>\n",
       "      <th>1990-06</th>\n",
       "      <td>-1.251783</td>\n",
       "      <td>-1.380342</td>\n",
       "      <td>-1.096900</td>\n",
       "    </tr>\n",
       "    <tr>\n",
       "      <th>...</th>\n",
       "      <td>...</td>\n",
       "      <td>...</td>\n",
       "      <td>...</td>\n",
       "    </tr>\n",
       "    <tr>\n",
       "      <th>2011-06</th>\n",
       "      <td>-0.213580</td>\n",
       "      <td>0.032714</td>\n",
       "      <td>2.336573</td>\n",
       "    </tr>\n",
       "    <tr>\n",
       "      <th>2011-07</th>\n",
       "      <td>-0.186770</td>\n",
       "      <td>0.052048</td>\n",
       "      <td>2.654514</td>\n",
       "    </tr>\n",
       "    <tr>\n",
       "      <th>2011-08</th>\n",
       "      <td>-0.529118</td>\n",
       "      <td>-0.194660</td>\n",
       "      <td>2.439593</td>\n",
       "    </tr>\n",
       "    <tr>\n",
       "      <th>2011-09</th>\n",
       "      <td>-0.647991</td>\n",
       "      <td>-0.224871</td>\n",
       "      <td>2.464671</td>\n",
       "    </tr>\n",
       "    <tr>\n",
       "      <th>2011-10</th>\n",
       "      <td>-0.796747</td>\n",
       "      <td>-0.208138</td>\n",
       "      <td>2.754710</td>\n",
       "    </tr>\n",
       "  </tbody>\n",
       "</table>\n",
       "<p>261 rows × 3 columns</p>\n",
       "</div>"
      ],
      "text/plain": [
       "               AA        GE       IBM\n",
       "month                                \n",
       "1990-02 -1.288710 -1.418216 -1.172091\n",
       "1990-03 -1.255604 -1.409703 -1.155745\n",
       "1990-04 -1.278598 -1.402754 -1.148573\n",
       "1990-05 -1.264343 -1.391229 -1.116268\n",
       "1990-06 -1.251783 -1.380342 -1.096900\n",
       "...           ...       ...       ...\n",
       "2011-06 -0.213580  0.032714  2.336573\n",
       "2011-07 -0.186770  0.052048  2.654514\n",
       "2011-08 -0.529118 -0.194660  2.439593\n",
       "2011-09 -0.647991 -0.224871  2.464671\n",
       "2011-10 -0.796747 -0.208138  2.754710\n",
       "\n",
       "[261 rows x 3 columns]"
      ]
     },
     "execution_count": 733,
     "metadata": {},
     "output_type": "execute_result"
    }
   ],
   "source": [
    "new_df"
   ]
  },
  {
   "cell_type": "code",
   "execution_count": 747,
   "metadata": {},
   "outputs": [
    {
     "data": {
      "text/plain": [
       "<AxesSubplot:xlabel='month'>"
      ]
     },
     "execution_count": 747,
     "metadata": {},
     "output_type": "execute_result"
    },
    {
     "data": {
      "image/png": "[encoded data removed]",
      "text/plain": [
       "<Figure size 432x288 with 1 Axes>"
      ]
     },
     "metadata": {
      "needs_background": "light"
     },
     "output_type": "display_data"
    }
   ],
   "source": [
    "new_df.plot()"
   ]
  },
  {
   "cell_type": "markdown",
   "metadata": {},
   "source": [
    "**Delta calculation**: The winner, as the picture suggests, is IBM."
   ]
  },
  {
   "cell_type": "code",
   "execution_count": 748,
   "metadata": {},
   "outputs": [
    {
     "data": {
      "text/plain": [
       "variable\n",
       "AA     0.491963\n",
       "GE     1.210078\n",
       "IBM    3.926800\n",
       "dtype: float64"
      ]
     },
     "execution_count": 748,
     "metadata": {},
     "output_type": "execute_result"
    }
   ],
   "source": [
    "(new_df.iloc[-1] - new_df.iloc[0])"
   ]
  },
  {
   "cell_type": "markdown",
   "metadata": {},
   "source": [
    "Same steps as above over different time period.\n",
    "\n",
    "Different answer for what the best stock is."
   ]
  },
  {
   "cell_type": "code",
   "execution_count": 736,
   "metadata": {},
   "outputs": [],
   "source": [
    "time2 = time1[time1['year']< 2008]\n",
    "time2_melt = pd.melt(time2, id_vars=['month'], value_vars=['AA', 'GE','IBM'])\n",
    "time2_month_pivot = time2_melt.pivot_table('value','month','variable')\n",
    "df = time2_month_pivot\n",
    "mn,std = df.mean(),df.std()\n",
    "# centering (the numerator)  & scaling (the denominator)\n",
    "new_df=(df-mn)/std"
   ]
  },
  {
   "cell_type": "markdown",
   "metadata": {},
   "source": [
    "Revised plot."
   ]
  },
  {
   "cell_type": "code",
   "execution_count": 738,
   "metadata": {},
   "outputs": [
    {
     "data": {
      "text/plain": [
       "<AxesSubplot:xlabel='month'>"
      ]
     },
     "execution_count": 738,
     "metadata": {},
     "output_type": "execute_result"
    },
    {
     "data": {
      "image/png": "[encoded data removed]",
      "text/plain": [
       "<Figure size 432x288 with 1 Axes>"
      ]
     },
     "metadata": {
      "needs_background": "light"
     },
     "output_type": "display_data"
    }
   ],
   "source": [
    "new_df.plot()"
   ]
  },
  {
   "cell_type": "markdown",
   "metadata": {},
   "source": [
    "Revised delta calculation:"
   ]
  },
  {
   "cell_type": "code",
   "execution_count": 737,
   "metadata": {},
   "outputs": [
    {
     "data": {
      "text/plain": [
       "variable\n",
       "AA     2.892419\n",
       "GE     2.507379\n",
       "IBM    2.496016\n",
       "dtype: float64"
      ]
     },
     "execution_count": 737,
     "metadata": {},
     "output_type": "execute_result"
    }
   ],
   "source": [
    "(new_df.iloc[-1] - new_df.iloc[0])"
   ]
  },
  {
   "cell_type": "markdown",
   "metadata": {
    "id": "SDyW3lWuACaL"
   },
   "source": [
    "<style>\n",
    "    @font-face {\n",
    "        font-family: \"Computer Modern\";\n",
    "        src: url('http://mirrors.ctan.org/fonts/cm-unicode/fonts/otf/cmunss.otf');\n",
    "    }\n",
    "    div.cell{\n",
    "        width:800px;\n",
    "        margin-left:16% !important;\n",
    "        margin-right:auto;\n",
    "    }\n",
    "    h1 {\n",
    "        font-family: Helvetica, serif;\n",
    "    }\n",
    "    h4{\n",
    "        margin-top:12px;\n",
    "        margin-bottom: 3px;\n",
    "       }\n",
    "    div.text_cell_render{\n",
    "        font-family: Computer Modern, \"Helvetica Neue\", Arial, Helvetica, Geneva, sans-serif;\n",
    "        line-height: 145%;\n",
    "        font-size: 130%;\n",
    "        width:800px;\n",
    "        margin-left:auto;\n",
    "        margin-right:auto;\n",
    "    }\n",
    "    .CodeMirror{\n",
    "            font-family: \"Source Code Pro\", source-code-pro,Consolas, monospace;\n",
    "    }\n",
    "    .text_cell_render h5 {\n",
    "        font-weight: 300;\n",
    "        font-size: 22pt;\n",
    "        color: #4057A1;\n",
    "        font-style: italic;\n",
    "        margin-bottom: .5em;\n",
    "        margin-top: 0.5em;\n",
    "        display: block;\n",
    "    }\n",
    "    \n",
    "    .warning{\n",
    "        color: rgb( 240, 20, 20 )\n",
    "        }  "
   ]
  }
 ],
 "metadata": {
  "colab": {
   "collapsed_sections": [
    "H0Fm26upACZa",
    "A5qu31VgACZd",
    "X20Rq_OmACZi",
    "K-4cvYzaACZp",
    "XQpmQCFTACZ7",
    "btRQesIMACZ8",
    "Q4kaHDAAACaB"
   ],
   "name": "Copy of general_pandas_intro.ipynb",
   "provenance": []
  },
  "kernelspec": {
   "display_name": "Python 3 (ipykernel)",
   "language": "python",
   "name": "python3"
  },
  "language_info": {
   "codemirror_mode": {
    "name": "ipython",
    "version": 3
   },
   "file_extension": ".py",
   "mimetype": "text/x-python",
   "name": "python",
   "nbconvert_exporter": "python",
   "pygments_lexer": "ipython3",
   "version": "3.7.0"
  },
  "name": "_merged",
  "toc": {
   "base_numbering": 1,
   "nav_menu": {
    "height": "318px",
    "width": "252px"
   },
   "number_sections": true,
   "sideBar": true,
   "skip_h1_title": false,
   "title_cell": "Table of Contents",
   "title_sidebar": "Contents",
   "toc_cell": false,
   "toc_position": {},
   "toc_section_display": "block",
   "toc_window_display": false
  }
 },
 "nbformat": 4,
 "nbformat_minor": 1
}
