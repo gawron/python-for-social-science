{
 "cells": [
  {
   "cell_type": "markdown",
   "metadata": {
    "id": "v2q_VpQ-ACXR"
   },
   "source": [
    "# Pandas Introduction Part II  Pivot and Merge"
   ]
  },
  {
   "cell_type": "markdown",
   "metadata": {
    "id": "6f3pb4n-FgQ3"
   },
   "source": [
    "[![Open In Colab](https://colab.research.google.com/assets/colab-badge.svg)](https://colab.research.google.com/github/gawron/python-for-social-science/blob/master/pandas/general_pandas_intro.ipynb)"
   ]
  },
  {
   "cell_type": "code",
   "execution_count": 9,
   "metadata": {
    "id": "POLAnAWXACXY"
   },
   "outputs": [],
   "source": [
    "# Import all libraries needed for the tutorial\n",
    "\n",
    "##import (library) as (give the library a nickname/alias)\n",
    "import numpy as np\n",
    "import pandas as pd  \n",
    "# General syntax to import specific functions in a library: \n",
    "##from (library) import (specific library function)\n",
    "from pandas import DataFrame, read_csv\n",
    "\n",
    "# The usual preamble when using matplotlib. \n",
    "# Most of the code we call is in pyplot.\n",
    "import matplotlib.pyplot as plt\n",
    "\n",
    "# Make the graphs a bit prettier, and bigger\n",
    "#pd.set_option('display.mpl_style', 'default') \n",
    "pd.set_option('display.width', 5000) \n",
    "pd.set_option('display.max_columns', 60)"
   ]
  },
  {
   "cell_type": "markdown",
   "metadata": {},
   "source": [
    "## Loading Data"
   ]
  },
  {
   "cell_type": "markdown",
   "metadata": {},
   "source": [
    "The next cell loads data from my website and will take some time to execute.  \n",
    "It is slow because\n",
    "it is retrieving a number of large uncompressed files containing year\n",
    "by year babynames data,"
   ]
  },
  {
   "cell_type": "code",
   "execution_count": 1,
   "metadata": {
    "id": "ZKLaLZ1IBcER"
   },
   "outputs": [],
   "source": [
    "import pandas as pd\n",
    "years = list(range(1880,2011))\n",
    "pieces = []\n",
    "columns = ['name','sex','births']\n",
    "\n",
    "url = 'https://gawron.sdsu.edu/python_for_ss/course_core/book_draft/_static/names/'\n",
    "for year in years:\n",
    "    path = f'{url}yob{year:d}.txt'\n",
    "    frame = pd.read_csv(path,names=columns)\n",
    "    frame['year'] = year\n",
    "    pieces.append(frame)    \n",
    "    \n",
    "names = pd.concat(pieces, ignore_index=True)"
   ]
  },
  {
   "cell_type": "markdown",
   "metadata": {},
   "source": [
    "## Pivot tables"
   ]
  },
  {
   "cell_type": "markdown",
   "metadata": {
    "id": "-TW6cfb9ACZM"
   },
   "source": [
    "### Introducing the pivot table"
   ]
  },
  {
   "cell_type": "markdown",
   "metadata": {},
   "source": [
    "Suppose, as an aid to interpreting the numbers in the `'births'` column, we we are interest in the average popularity of a female name.  Then we want to find the mean births for all female names. \n",
    "\n",
    "We might proceed as follows. Pick a year, say 1881."
   ]
  },
  {
   "cell_type": "code",
   "execution_count": 12,
   "metadata": {},
   "outputs": [],
   "source": [
    "names1881 = names[names['year']  == 1881]"
   ]
  },
  {
   "cell_type": "code",
   "execution_count": 494,
   "metadata": {
    "colab": {
     "base_uri": "https://localhost:8080/"
    },
    "id": "kkAMgGjBACZM",
    "outputId": "020066f0-dfe6-42fa-80dc-e3a095aba604"
   },
   "outputs": [
    {
     "data": {
      "text/plain": [
       "98.03304904051173"
      ]
     },
     "execution_count": 494,
     "metadata": {},
     "output_type": "execute_result"
    }
   ],
   "source": [
    "namesfemale1881 = names1881[names1881['sex'] == 'F']\n",
    "namesfemale1881['births'].mean()"
   ]
  },
  {
   "cell_type": "markdown",
   "metadata": {},
   "source": [
    "We might characterize this code as follows:\n",
    "\n",
    "2. **Split step**: Line 1  **splits off** a group of rows, `namesfemale1881` using one of the possible values in `sex` column.  We'll call that column the **indexing** column.\n",
    "3. **Apply step**: Line 2 **applies**  an **aggregation function**  ( `.mean()` ) to the `'births'` column of those rows; call `births` the **values** column.\n"
   ]
  },
  {
   "cell_type": "markdown",
   "metadata": {
    "id": "qcRwk5KDKxtm"
   },
   "source": [
    "In this example we performed the **split** step on one of\n",
    "the possible values in the indexing column, then performed **apply step**\n",
    "on one group of rows.\n",
    "As we saw with cross-tabulation. we  frequently want to perform these two steps for all possible values in the\n",
    "indexing column.  \n",
    "\n",
    "And of course that leads to the need for combining: we want to **combine** the results in a new\n",
    "Data Structure, indexed by the values that defined our groups  In our example,\n",
    "the indexing column is `'sex'` with possible values `'F'` and `'M`', so\n",
    "we'd like a new DataFrame with a single column containing the `'births'` means for those groups.\n",
    "\n",
    "Summarizing: we need to **split** the DataFrame into groups of rows  (using an index column),\n",
    "**apply** (applying an aggregation function to a values column), and **combine** (into a DataFrame).\n",
    "These are exactly the steps we executed for cross-tabulation.  The difference\n",
    "in this case is that instead of just counting the groups of rows, we want to\n",
    "apply the aggregation function to the *values* column `'births'` .\n",
    "It turns out this variation on the three steps comes up often  enough to merit a name.\n",
    "\n",
    "All three steps can be performed using **pivot table** method."
   ]
  },
  {
   "cell_type": "code",
   "execution_count": 13,
   "metadata": {
    "id": "-GTRK9vSKnSI"
   },
   "outputs": [],
   "source": [
    "pt = names1881.pivot_table(values= 'births',index='sex',aggfunc='mean')"
   ]
  },
  {
   "cell_type": "code",
   "execution_count": 14,
   "metadata": {
    "colab": {
     "base_uri": "https://localhost:8080/",
     "height": 144
    },
    "id": "96OnO_coK17W",
    "outputId": "a40b3483-e996-4805-8733-5bd267120e6c",
    "scrolled": true
   },
   "outputs": [
    {
     "data": {
      "text/html": [
       "<div>\n",
       "<style scoped>\n",
       "    .dataframe tbody tr th:only-of-type {\n",
       "        vertical-align: middle;\n",
       "    }\n",
       "\n",
       "    .dataframe tbody tr th {\n",
       "        vertical-align: top;\n",
       "    }\n",
       "\n",
       "    .dataframe thead th {\n",
       "        text-align: right;\n",
       "    }\n",
       "</style>\n",
       "<table border=\"1\" class=\"dataframe\">\n",
       "  <thead>\n",
       "    <tr style=\"text-align: right;\">\n",
       "      <th></th>\n",
       "      <th>births</th>\n",
       "    </tr>\n",
       "    <tr>\n",
       "      <th>sex</th>\n",
       "      <th></th>\n",
       "    </tr>\n",
       "  </thead>\n",
       "  <tbody>\n",
       "    <tr>\n",
       "      <th>F</th>\n",
       "      <td>98.033049</td>\n",
       "    </tr>\n",
       "    <tr>\n",
       "      <th>M</th>\n",
       "      <td>101.051153</td>\n",
       "    </tr>\n",
       "  </tbody>\n",
       "</table>\n",
       "</div>"
      ],
      "text/plain": [
       "         births\n",
       "sex            \n",
       "F     98.033049\n",
       "M    101.051153"
      ]
     },
     "execution_count": 14,
     "metadata": {},
     "output_type": "execute_result"
    }
   ],
   "source": [
    "pt"
   ]
  },
  {
   "cell_type": "markdown",
   "metadata": {},
   "source": [
    "In fact, `mean` is the default aggregation function, and the first and second\n",
    "arguments of the `.pivot_table()` method are always the values column and the index\n",
    "column, so we get the same result by writing:"
   ]
  },
  {
   "cell_type": "code",
   "execution_count": 15,
   "metadata": {},
   "outputs": [
    {
     "data": {
      "text/html": [
       "<div>\n",
       "<style scoped>\n",
       "    .dataframe tbody tr th:only-of-type {\n",
       "        vertical-align: middle;\n",
       "    }\n",
       "\n",
       "    .dataframe tbody tr th {\n",
       "        vertical-align: top;\n",
       "    }\n",
       "\n",
       "    .dataframe thead th {\n",
       "        text-align: right;\n",
       "    }\n",
       "</style>\n",
       "<table border=\"1\" class=\"dataframe\">\n",
       "  <thead>\n",
       "    <tr style=\"text-align: right;\">\n",
       "      <th></th>\n",
       "      <th>births</th>\n",
       "    </tr>\n",
       "    <tr>\n",
       "      <th>sex</th>\n",
       "      <th></th>\n",
       "    </tr>\n",
       "  </thead>\n",
       "  <tbody>\n",
       "    <tr>\n",
       "      <th>F</th>\n",
       "      <td>98.033049</td>\n",
       "    </tr>\n",
       "    <tr>\n",
       "      <th>M</th>\n",
       "      <td>101.051153</td>\n",
       "    </tr>\n",
       "  </tbody>\n",
       "</table>\n",
       "</div>"
      ],
      "text/plain": [
       "         births\n",
       "sex            \n",
       "F     98.033049\n",
       "M    101.051153"
      ]
     },
     "execution_count": 15,
     "metadata": {},
     "output_type": "execute_result"
    }
   ],
   "source": [
    "pt = names1881.pivot_table('births','sex')\n",
    "pt"
   ]
  },
  {
   "cell_type": "markdown",
   "metadata": {},
   "source": [
    "It is worth emphasizing the importance of the **combine** step;\n",
    "the `.pivot_table()` method combines its results into\n",
    "a **DataFrame**. That means we can leverage all our knowledge\n",
    "of how DataFrames work in using it, for example, by plotting the results.  One of the key takeaways about `pandas`\n",
    "is that almost all the functions and methods that apply to DataFrames and Series\n",
    "return either a DataFrame or a Series.  By understanding\n",
    "the properties of what's returned, we can use it more effectively in\n",
    "the next analytical step.\n",
    "\n",
    "As desired, the values in the `'sex'` column now index the new DataFrame:"
   ]
  },
  {
   "cell_type": "code",
   "execution_count": 16,
   "metadata": {},
   "outputs": [
    {
     "data": {
      "text/plain": [
       "Index(['F', 'M'], dtype='object', name='sex')"
      ]
     },
     "execution_count": 16,
     "metadata": {},
     "output_type": "execute_result"
    }
   ],
   "source": [
    "pt.index"
   ]
  },
  {
   "cell_type": "markdown",
   "metadata": {},
   "source": [
    "Note the original name of the indexing column has been preserved,\n",
    "as the above output shows. It is stored in the `name` attribute \n",
    "of the DataFrame index:"
   ]
  },
  {
   "cell_type": "code",
   "execution_count": 321,
   "metadata": {},
   "outputs": [
    {
     "data": {
      "text/plain": [
       "'sex'"
      ]
     },
     "execution_count": 321,
     "metadata": {},
     "output_type": "execute_result"
    }
   ],
   "source": [
    "pt.index.name"
   ]
  },
  {
   "cell_type": "markdown",
   "metadata": {},
   "source": [
    "As with any DataFrame, `.loc[ ]`  is used to access individual rows using names\n",
    "from the index."
   ]
  },
  {
   "cell_type": "code",
   "execution_count": 498,
   "metadata": {},
   "outputs": [
    {
     "data": {
      "text/plain": [
       "births    98.033049\n",
       "Name: F, dtype: float64"
      ]
     },
     "execution_count": 498,
     "metadata": {},
     "output_type": "execute_result"
    }
   ],
   "source": [
    "# Any expression containing this is a KeyError\n",
    "# pt['sex']\n",
    "# because 'sex' is not the name of a column in `pt`.\n",
    "pt.loc['F']"
   ]
  },
  {
   "cell_type": "markdown",
   "metadata": {},
   "source": [
    "We have just found the **mean** female and male births for 1881.\n",
    "\n",
    "Suppose we want **total births** instead of mean births.  It can still be done \n",
    "with a pivot table, and we still need to group by sex, and apply an aggregation functiomn to the values\n",
    "column, but we need to change our **aggregation function** from `mean` to `sum`."
   ]
  },
  {
   "cell_type": "code",
   "execution_count": 22,
   "metadata": {
    "scrolled": true
   },
   "outputs": [
    {
     "data": {
      "text/html": [
       "<div>\n",
       "<style scoped>\n",
       "    .dataframe tbody tr th:only-of-type {\n",
       "        vertical-align: middle;\n",
       "    }\n",
       "\n",
       "    .dataframe tbody tr th {\n",
       "        vertical-align: top;\n",
       "    }\n",
       "\n",
       "    .dataframe thead th {\n",
       "        text-align: right;\n",
       "    }\n",
       "</style>\n",
       "<table border=\"1\" class=\"dataframe\">\n",
       "  <thead>\n",
       "    <tr style=\"text-align: right;\">\n",
       "      <th></th>\n",
       "      <th>births</th>\n",
       "    </tr>\n",
       "    <tr>\n",
       "      <th>sex</th>\n",
       "      <th></th>\n",
       "    </tr>\n",
       "  </thead>\n",
       "  <tbody>\n",
       "    <tr>\n",
       "      <th>F</th>\n",
       "      <td>91955</td>\n",
       "    </tr>\n",
       "    <tr>\n",
       "      <th>M</th>\n",
       "      <td>100748</td>\n",
       "    </tr>\n",
       "  </tbody>\n",
       "</table>\n",
       "</div>"
      ],
      "text/plain": [
       "     births\n",
       "sex        \n",
       "F     91955\n",
       "M    100748"
      ]
     },
     "execution_count": 22,
     "metadata": {},
     "output_type": "execute_result"
    }
   ],
   "source": [
    "names1881.pivot_table('births','sex',aggfunc='sum')"
   ]
  },
  {
   "cell_type": "markdown",
   "metadata": {},
   "source": [
    "So now we know the total number of male and female births in 1881 (at least\n",
    "those accounted for our data sample)."
   ]
  },
  {
   "cell_type": "markdown",
   "metadata": {
    "id": "9nq7ICzcG0o4"
   },
   "source": [
    "Continuing along these lines, let's move back to the `names` DataFrame:\n",
    "Suppose we want to find birth totals by gender and by year. That is,  we want a new DataFrame in which the index\n",
    "value for a row is a year \n",
    "and the two columns show the total births for `'F'` and `'M'` in that year.  \n",
    "\n",
    "So want the following **pivot table**:"
   ]
  },
  {
   "cell_type": "code",
   "execution_count": 17,
   "metadata": {
    "id": "Ty4aX2HOACZT"
   },
   "outputs": [],
   "source": [
    "total_births = names.pivot_table('births','year', columns='sex', aggfunc='sum')\n"
   ]
  },
  {
   "cell_type": "code",
   "execution_count": 23,
   "metadata": {
    "colab": {
     "base_uri": "https://localhost:8080/",
     "height": 235
    },
    "id": "HAyDzsgvACZU",
    "outputId": "7c29c81b-e81f-4d40-dbe9-3306c34236bf",
    "scrolled": false
   },
   "outputs": [
    {
     "data": {
      "text/html": [
       "<div>\n",
       "<style scoped>\n",
       "    .dataframe tbody tr th:only-of-type {\n",
       "        vertical-align: middle;\n",
       "    }\n",
       "\n",
       "    .dataframe tbody tr th {\n",
       "        vertical-align: top;\n",
       "    }\n",
       "\n",
       "    .dataframe thead th {\n",
       "        text-align: right;\n",
       "    }\n",
       "</style>\n",
       "<table border=\"1\" class=\"dataframe\">\n",
       "  <thead>\n",
       "    <tr style=\"text-align: right;\">\n",
       "      <th>sex</th>\n",
       "      <th>F</th>\n",
       "      <th>M</th>\n",
       "    </tr>\n",
       "    <tr>\n",
       "      <th>year</th>\n",
       "      <th></th>\n",
       "      <th></th>\n",
       "    </tr>\n",
       "  </thead>\n",
       "  <tbody>\n",
       "    <tr>\n",
       "      <th>1880</th>\n",
       "      <td>90993</td>\n",
       "      <td>110493</td>\n",
       "    </tr>\n",
       "    <tr>\n",
       "      <th>1881</th>\n",
       "      <td>91955</td>\n",
       "      <td>100748</td>\n",
       "    </tr>\n",
       "    <tr>\n",
       "      <th>1882</th>\n",
       "      <td>107851</td>\n",
       "      <td>113687</td>\n",
       "    </tr>\n",
       "    <tr>\n",
       "      <th>1883</th>\n",
       "      <td>112322</td>\n",
       "      <td>104632</td>\n",
       "    </tr>\n",
       "    <tr>\n",
       "      <th>1884</th>\n",
       "      <td>129021</td>\n",
       "      <td>114445</td>\n",
       "    </tr>\n",
       "  </tbody>\n",
       "</table>\n",
       "</div>"
      ],
      "text/plain": [
       "sex        F       M\n",
       "year                \n",
       "1880   90993  110493\n",
       "1881   91955  100748\n",
       "1882  107851  113687\n",
       "1883  112322  104632\n",
       "1884  129021  114445"
      ]
     },
     "execution_count": 23,
     "metadata": {},
     "output_type": "execute_result"
    }
   ],
   "source": [
    "total_births.head()"
   ]
  },
  {
   "cell_type": "markdown",
   "metadata": {},
   "source": [
    "Of course we could just as easily have the index values be genders and the columns be years."
   ]
  },
  {
   "cell_type": "code",
   "execution_count": 6,
   "metadata": {},
   "outputs": [
    {
     "data": {
      "text/html": [
       "<div>\n",
       "<style scoped>\n",
       "    .dataframe tbody tr th:only-of-type {\n",
       "        vertical-align: middle;\n",
       "    }\n",
       "\n",
       "    .dataframe tbody tr th {\n",
       "        vertical-align: top;\n",
       "    }\n",
       "\n",
       "    .dataframe thead th {\n",
       "        text-align: right;\n",
       "    }\n",
       "</style>\n",
       "<table border=\"1\" class=\"dataframe\">\n",
       "  <thead>\n",
       "    <tr style=\"text-align: right;\">\n",
       "      <th>year</th>\n",
       "      <th>1880</th>\n",
       "      <th>1881</th>\n",
       "      <th>1882</th>\n",
       "      <th>1883</th>\n",
       "      <th>1884</th>\n",
       "      <th>1885</th>\n",
       "      <th>1886</th>\n",
       "      <th>1887</th>\n",
       "      <th>1888</th>\n",
       "      <th>1889</th>\n",
       "    </tr>\n",
       "    <tr>\n",
       "      <th>sex</th>\n",
       "      <th></th>\n",
       "      <th></th>\n",
       "      <th></th>\n",
       "      <th></th>\n",
       "      <th></th>\n",
       "      <th></th>\n",
       "      <th></th>\n",
       "      <th></th>\n",
       "      <th></th>\n",
       "      <th></th>\n",
       "    </tr>\n",
       "  </thead>\n",
       "  <tbody>\n",
       "    <tr>\n",
       "      <th>F</th>\n",
       "      <td>90993</td>\n",
       "      <td>91955</td>\n",
       "      <td>107851</td>\n",
       "      <td>112322</td>\n",
       "      <td>129021</td>\n",
       "      <td>133056</td>\n",
       "      <td>144538</td>\n",
       "      <td>145983</td>\n",
       "      <td>178631</td>\n",
       "      <td>178369</td>\n",
       "    </tr>\n",
       "    <tr>\n",
       "      <th>M</th>\n",
       "      <td>110493</td>\n",
       "      <td>100748</td>\n",
       "      <td>113687</td>\n",
       "      <td>104632</td>\n",
       "      <td>114445</td>\n",
       "      <td>107802</td>\n",
       "      <td>110785</td>\n",
       "      <td>101412</td>\n",
       "      <td>120857</td>\n",
       "      <td>110590</td>\n",
       "    </tr>\n",
       "  </tbody>\n",
       "</table>\n",
       "</div>"
      ],
      "text/plain": [
       "year    1880    1881    1882    1883    1884    1885    1886    1887    1888  \\\n",
       "sex                                                                            \n",
       "F      90993   91955  107851  112322  129021  133056  144538  145983  178631   \n",
       "M     110493  100748  113687  104632  114445  107802  110785  101412  120857   \n",
       "\n",
       "year    1889  \n",
       "sex           \n",
       "F     178369  \n",
       "M     110590  "
      ]
     },
     "execution_count": 6,
     "metadata": {},
     "output_type": "execute_result"
    }
   ],
   "source": [
    "total_births2 = names.pivot_table('births','sex', columns='year', aggfunc='sum')\n",
    "#only showing the first 10 of 131 columns\n",
    "total_births2.iloc[:,:10]"
   ]
  },
  {
   "cell_type": "markdown",
   "metadata": {
    "id": "yVhHFmYaACZU"
   },
   "source": [
    "The difference between these two pivot table computations lies entirely\n",
    "in the combine step.\n",
    "\n",
    "Under the hood both DataFrames require computing the same row groups and applying `'sum'` to the `births` column in each group."
   ]
  },
  {
   "cell_type": "markdown",
   "metadata": {
    "id": "Q2jJeFhtIIyJ"
   },
   "source": [
    "In fact, `total_births2` is the transpose of `total_births`."
   ]
  },
  {
   "cell_type": "code",
   "execution_count": 621,
   "metadata": {
    "colab": {
     "base_uri": "https://localhost:8080/"
    },
    "id": "6B_kXy-JH48c",
    "outputId": "ad10d1a0-97e5-4635-bbae-1f4406120ec6"
   },
   "outputs": [
    {
     "data": {
      "text/plain": [
       "True"
      ]
     },
     "execution_count": 621,
     "metadata": {},
     "output_type": "execute_result"
    }
   ],
   "source": [
    "import numpy as np\n",
    "np.all(total_births2.T == total_births)"
   ]
  },
  {
   "cell_type": "markdown",
   "metadata": {},
   "source": [
    "Thus in `total_births`, we find the 2006 birth totals with `.loc[]`:"
   ]
  },
  {
   "cell_type": "code",
   "execution_count": 55,
   "metadata": {},
   "outputs": [
    {
     "data": {
      "text/plain": [
       "sex\n",
       "F    1896468\n",
       "M    2050234\n",
       "Name: 2006, dtype: int64"
      ]
     },
     "execution_count": 55,
     "metadata": {},
     "output_type": "execute_result"
    }
   ],
   "source": [
    "total_births.loc[2006]"
   ]
  },
  {
   "cell_type": "markdown",
   "metadata": {},
   "source": [
    "In `total_births2`, we access the  same 2006 birth totals the way we access any column."
   ]
  },
  {
   "cell_type": "code",
   "execution_count": 25,
   "metadata": {},
   "outputs": [
    {
     "data": {
      "text/plain": [
       "sex\n",
       "F    1896468\n",
       "M    2050234\n",
       "Name: 2006, dtype: int64"
      ]
     },
     "execution_count": 25,
     "metadata": {},
     "output_type": "execute_result"
    }
   ],
   "source": [
    "total_births2[2006]"
   ]
  },
  {
   "cell_type": "markdown",
   "metadata": {},
   "source": [
    "Since `total_births` and `total_births2` contain essentially the same information,\n",
    "let's summarize what we learned about the `.pivot_table()` method with\n",
    "`total_births`.\n",
    "\n",
    "How was `total_births` created?  By three steps\n",
    "\n",
    "1. Splitting the rows of `name` into groups  (one for each year, gender pair).\n",
    "2. Applying the aggregation function `sum` to each group\n",
    "3. Combining the results into a single DataFrame `total_births`.\n",
    "\n",
    "This is the now familiar the split/apply/combine strategy.  "
   ]
  },
  {
   "cell_type": "markdown",
   "metadata": {},
   "source": [
    "#### Cross tab versus pivot_table"
   ]
  },
  {
   "cell_type": "markdown",
   "metadata": {},
   "source": [
    "Compare `total_births2` with the output of `pd.crosstab`, which we use to get the joint distribution counts for two attributes; although the rows and columns are the same, the \n",
    "numbers are different."
   ]
  },
  {
   "cell_type": "code",
   "execution_count": 4,
   "metadata": {},
   "outputs": [
    {
     "data": {
      "text/html": [
       "<div>\n",
       "<style scoped>\n",
       "    .dataframe tbody tr th:only-of-type {\n",
       "        vertical-align: middle;\n",
       "    }\n",
       "\n",
       "    .dataframe tbody tr th {\n",
       "        vertical-align: top;\n",
       "    }\n",
       "\n",
       "    .dataframe thead th {\n",
       "        text-align: right;\n",
       "    }\n",
       "</style>\n",
       "<table border=\"1\" class=\"dataframe\">\n",
       "  <thead>\n",
       "    <tr style=\"text-align: right;\">\n",
       "      <th>year</th>\n",
       "      <th>1880</th>\n",
       "      <th>1881</th>\n",
       "      <th>1882</th>\n",
       "      <th>1883</th>\n",
       "      <th>1884</th>\n",
       "    </tr>\n",
       "    <tr>\n",
       "      <th>sex</th>\n",
       "      <th></th>\n",
       "      <th></th>\n",
       "      <th></th>\n",
       "      <th></th>\n",
       "      <th></th>\n",
       "    </tr>\n",
       "  </thead>\n",
       "  <tbody>\n",
       "    <tr>\n",
       "      <th>F</th>\n",
       "      <td>90993</td>\n",
       "      <td>91955</td>\n",
       "      <td>107851</td>\n",
       "      <td>112322</td>\n",
       "      <td>129021</td>\n",
       "    </tr>\n",
       "    <tr>\n",
       "      <th>M</th>\n",
       "      <td>110493</td>\n",
       "      <td>100748</td>\n",
       "      <td>113687</td>\n",
       "      <td>104632</td>\n",
       "      <td>114445</td>\n",
       "    </tr>\n",
       "  </tbody>\n",
       "</table>\n",
       "</div>"
      ],
      "text/plain": [
       "year    1880    1881    1882    1883    1884\n",
       "sex                                         \n",
       "F      90993   91955  107851  112322  129021\n",
       "M     110493  100748  113687  104632  114445"
      ]
     },
     "execution_count": 4,
     "metadata": {},
     "output_type": "execute_result"
    }
   ],
   "source": [
    "total_births2.iloc[:,:5]"
   ]
  },
  {
   "cell_type": "code",
   "execution_count": 7,
   "metadata": {
    "scrolled": true
   },
   "outputs": [
    {
     "data": {
      "text/html": [
       "<div>\n",
       "<style scoped>\n",
       "    .dataframe tbody tr th:only-of-type {\n",
       "        vertical-align: middle;\n",
       "    }\n",
       "\n",
       "    .dataframe tbody tr th {\n",
       "        vertical-align: top;\n",
       "    }\n",
       "\n",
       "    .dataframe thead th {\n",
       "        text-align: right;\n",
       "    }\n",
       "</style>\n",
       "<table border=\"1\" class=\"dataframe\">\n",
       "  <thead>\n",
       "    <tr style=\"text-align: right;\">\n",
       "      <th>year</th>\n",
       "      <th>1880</th>\n",
       "      <th>1881</th>\n",
       "      <th>1882</th>\n",
       "      <th>1883</th>\n",
       "      <th>1884</th>\n",
       "      <th>1885</th>\n",
       "      <th>1886</th>\n",
       "      <th>1887</th>\n",
       "      <th>1888</th>\n",
       "      <th>1889</th>\n",
       "    </tr>\n",
       "    <tr>\n",
       "      <th>sex</th>\n",
       "      <th></th>\n",
       "      <th></th>\n",
       "      <th></th>\n",
       "      <th></th>\n",
       "      <th></th>\n",
       "      <th></th>\n",
       "      <th></th>\n",
       "      <th></th>\n",
       "      <th></th>\n",
       "      <th></th>\n",
       "    </tr>\n",
       "  </thead>\n",
       "  <tbody>\n",
       "    <tr>\n",
       "      <th>F</th>\n",
       "      <td>942</td>\n",
       "      <td>938</td>\n",
       "      <td>1028</td>\n",
       "      <td>1054</td>\n",
       "      <td>1172</td>\n",
       "      <td>1197</td>\n",
       "      <td>1282</td>\n",
       "      <td>1306</td>\n",
       "      <td>1474</td>\n",
       "      <td>1479</td>\n",
       "    </tr>\n",
       "    <tr>\n",
       "      <th>M</th>\n",
       "      <td>1058</td>\n",
       "      <td>997</td>\n",
       "      <td>1099</td>\n",
       "      <td>1030</td>\n",
       "      <td>1125</td>\n",
       "      <td>1097</td>\n",
       "      <td>1110</td>\n",
       "      <td>1067</td>\n",
       "      <td>1177</td>\n",
       "      <td>1111</td>\n",
       "    </tr>\n",
       "  </tbody>\n",
       "</table>\n",
       "</div>"
      ],
      "text/plain": [
       "year  1880  1881  1882  1883  1884  1885  1886  1887  1888  1889\n",
       "sex                                                             \n",
       "F      942   938  1028  1054  1172  1197  1282  1306  1474  1479\n",
       "M     1058   997  1099  1030  1125  1097  1110  1067  1177  1111"
      ]
     },
     "execution_count": 7,
     "metadata": {},
     "output_type": "execute_result"
    }
   ],
   "source": [
    "crosstab_sex_year = pd.crosstab(names['sex'],names['year'])\n",
    "crosstab_sex_year.iloc[:,:10]"
   ]
  },
  {
   "cell_type": "markdown",
   "metadata": {},
   "source": []
  },
  {
   "cell_type": "code",
   "execution_count": 512,
   "metadata": {},
   "outputs": [
    {
     "data": {
      "text/plain": [
       "942"
      ]
     },
     "execution_count": 512,
     "metadata": {},
     "output_type": "execute_result"
    }
   ],
   "source": [
    "crosstab_sex_year[1880]['F']"
   ]
  },
  {
   "cell_type": "markdown",
   "metadata": {},
   "source": [
    "What does \n",
    "\n",
    "```\n",
    "crosstab_sex_year[1880]['F']\n",
    "```\n",
    "\n",
    "mean?\n",
    "\n",
    "It represents how many times the `names` DataFrame \n",
    "pairs 1880 in the `'year'` column with 'F' in\n",
    "the `'sex'` column, and in `names`, that amounts to computing how many\n",
    "distinct female names there were in 1880.  "
   ]
  },
  {
   "cell_type": "markdown",
   "metadata": {},
   "source": [
    "In this example `pd.crosstab` combined two columns of the `names` DataFrame\n",
    "to  compute the crosstab DataFrame `crosstab_sex_year`.\n",
    "In general, `pd.crosstab` takes any two sequences of equal length and\n",
    "computes how many times unique pairings  occur.  \n",
    "\n",
    "```\n",
    "[1,0,1,0,0,1,1]\n",
    "[b,b,b,a,b,a,a]\n",
    "```\n",
    "For example, in the two arrays seen here, a `1` from the first sequence is paired with a `b` from the second twice.  The results are summarized in the cross-tabulation DataFrame. "
   ]
  },
  {
   "cell_type": "code",
   "execution_count": 508,
   "metadata": {
    "scrolled": true
   },
   "outputs": [
    {
     "data": {
      "text/html": [
       "<div>\n",
       "<style scoped>\n",
       "    .dataframe tbody tr th:only-of-type {\n",
       "        vertical-align: middle;\n",
       "    }\n",
       "\n",
       "    .dataframe tbody tr th {\n",
       "        vertical-align: top;\n",
       "    }\n",
       "\n",
       "    .dataframe thead th {\n",
       "        text-align: right;\n",
       "    }\n",
       "</style>\n",
       "<table border=\"1\" class=\"dataframe\">\n",
       "  <thead>\n",
       "    <tr style=\"text-align: right;\">\n",
       "      <th>col_0</th>\n",
       "      <th>a</th>\n",
       "      <th>b</th>\n",
       "    </tr>\n",
       "    <tr>\n",
       "      <th>row_0</th>\n",
       "      <th></th>\n",
       "      <th></th>\n",
       "    </tr>\n",
       "  </thead>\n",
       "  <tbody>\n",
       "    <tr>\n",
       "      <th>0</th>\n",
       "      <td>1</td>\n",
       "      <td>2</td>\n",
       "    </tr>\n",
       "    <tr>\n",
       "      <th>1</th>\n",
       "      <td>2</td>\n",
       "      <td>2</td>\n",
       "    </tr>\n",
       "  </tbody>\n",
       "</table>\n",
       "</div>"
      ],
      "text/plain": [
       "col_0  a  b\n",
       "row_0      \n",
       "0      1  2\n",
       "1      2  2"
      ]
     },
     "execution_count": 508,
     "metadata": {},
     "output_type": "execute_result"
    }
   ],
   "source": [
    "pd.crosstab(np.array([1,0,1,0,0,1,1]),np.array(['b','b','b','a','b','a','a']))"
   ]
  },
  {
   "cell_type": "markdown",
   "metadata": {},
   "source": [
    "If the two sequences are columns from a DataFrame, then the counts tell us how many\n",
    "rows contain each possible pairing of values.  So each pair of values defines\n",
    "a group of rows (the rows with `'year'` 1881 and `'sex'` 'F', for example, in `names`).\n",
    "Note there's no values column\n",
    "providing numbers to perform an aggregation operation on.  All we do is\n",
    "compute the row groups and count their sizes.\n",
    "\n",
    "Now there is one curve ball, mentioned here because you may\n",
    "come across code that uses it: `pd.crosstab` has an optional `values` argument.\n",
    "In lieu of just counting the rows in a group,  we can apply an aggregation operation to the \n",
    "values column of the row groups.\n",
    "\n",
    "For example we can use `crosstab` to\n",
    "recreate `total_births2`, the DataFrame we created\n",
    "above with `pivot_table`.  Here is the DataFrame we created with `pivot_table`."
   ]
  },
  {
   "cell_type": "code",
   "execution_count": 8,
   "metadata": {},
   "outputs": [
    {
     "data": {
      "text/html": [
       "<div>\n",
       "<style scoped>\n",
       "    .dataframe tbody tr th:only-of-type {\n",
       "        vertical-align: middle;\n",
       "    }\n",
       "\n",
       "    .dataframe tbody tr th {\n",
       "        vertical-align: top;\n",
       "    }\n",
       "\n",
       "    .dataframe thead th {\n",
       "        text-align: right;\n",
       "    }\n",
       "</style>\n",
       "<table border=\"1\" class=\"dataframe\">\n",
       "  <thead>\n",
       "    <tr style=\"text-align: right;\">\n",
       "      <th>year</th>\n",
       "      <th>1880</th>\n",
       "      <th>1881</th>\n",
       "      <th>1882</th>\n",
       "      <th>1883</th>\n",
       "      <th>1884</th>\n",
       "      <th>1885</th>\n",
       "      <th>1886</th>\n",
       "      <th>1887</th>\n",
       "      <th>1888</th>\n",
       "      <th>1889</th>\n",
       "    </tr>\n",
       "    <tr>\n",
       "      <th>sex</th>\n",
       "      <th></th>\n",
       "      <th></th>\n",
       "      <th></th>\n",
       "      <th></th>\n",
       "      <th></th>\n",
       "      <th></th>\n",
       "      <th></th>\n",
       "      <th></th>\n",
       "      <th></th>\n",
       "      <th></th>\n",
       "    </tr>\n",
       "  </thead>\n",
       "  <tbody>\n",
       "    <tr>\n",
       "      <th>F</th>\n",
       "      <td>90993</td>\n",
       "      <td>91955</td>\n",
       "      <td>107851</td>\n",
       "      <td>112322</td>\n",
       "      <td>129021</td>\n",
       "      <td>133056</td>\n",
       "      <td>144538</td>\n",
       "      <td>145983</td>\n",
       "      <td>178631</td>\n",
       "      <td>178369</td>\n",
       "    </tr>\n",
       "    <tr>\n",
       "      <th>M</th>\n",
       "      <td>110493</td>\n",
       "      <td>100748</td>\n",
       "      <td>113687</td>\n",
       "      <td>104632</td>\n",
       "      <td>114445</td>\n",
       "      <td>107802</td>\n",
       "      <td>110785</td>\n",
       "      <td>101412</td>\n",
       "      <td>120857</td>\n",
       "      <td>110590</td>\n",
       "    </tr>\n",
       "  </tbody>\n",
       "</table>\n",
       "</div>"
      ],
      "text/plain": [
       "year    1880    1881    1882    1883    1884    1885    1886    1887    1888  \\\n",
       "sex                                                                            \n",
       "F      90993   91955  107851  112322  129021  133056  144538  145983  178631   \n",
       "M     110493  100748  113687  104632  114445  107802  110785  101412  120857   \n",
       "\n",
       "year    1889  \n",
       "sex           \n",
       "F     178369  \n",
       "M     110590  "
      ]
     },
     "execution_count": 8,
     "metadata": {},
     "output_type": "execute_result"
    }
   ],
   "source": [
    "total_births2.iloc[:,:10]"
   ]
  },
  {
   "cell_type": "markdown",
   "metadata": {},
   "source": [
    "And here is the same DataFrame using `crosstab`."
   ]
  },
  {
   "cell_type": "code",
   "execution_count": 9,
   "metadata": {
    "scrolled": true
   },
   "outputs": [
    {
     "data": {
      "text/html": [
       "<div>\n",
       "<style scoped>\n",
       "    .dataframe tbody tr th:only-of-type {\n",
       "        vertical-align: middle;\n",
       "    }\n",
       "\n",
       "    .dataframe tbody tr th {\n",
       "        vertical-align: top;\n",
       "    }\n",
       "\n",
       "    .dataframe thead th {\n",
       "        text-align: right;\n",
       "    }\n",
       "</style>\n",
       "<table border=\"1\" class=\"dataframe\">\n",
       "  <thead>\n",
       "    <tr style=\"text-align: right;\">\n",
       "      <th>year</th>\n",
       "      <th>1880</th>\n",
       "      <th>1881</th>\n",
       "      <th>1882</th>\n",
       "      <th>1883</th>\n",
       "      <th>1884</th>\n",
       "      <th>1885</th>\n",
       "      <th>1886</th>\n",
       "      <th>1887</th>\n",
       "      <th>1888</th>\n",
       "      <th>1889</th>\n",
       "    </tr>\n",
       "    <tr>\n",
       "      <th>sex</th>\n",
       "      <th></th>\n",
       "      <th></th>\n",
       "      <th></th>\n",
       "      <th></th>\n",
       "      <th></th>\n",
       "      <th></th>\n",
       "      <th></th>\n",
       "      <th></th>\n",
       "      <th></th>\n",
       "      <th></th>\n",
       "    </tr>\n",
       "  </thead>\n",
       "  <tbody>\n",
       "    <tr>\n",
       "      <th>F</th>\n",
       "      <td>90993</td>\n",
       "      <td>91955</td>\n",
       "      <td>107851</td>\n",
       "      <td>112322</td>\n",
       "      <td>129021</td>\n",
       "      <td>133056</td>\n",
       "      <td>144538</td>\n",
       "      <td>145983</td>\n",
       "      <td>178631</td>\n",
       "      <td>178369</td>\n",
       "    </tr>\n",
       "    <tr>\n",
       "      <th>M</th>\n",
       "      <td>110493</td>\n",
       "      <td>100748</td>\n",
       "      <td>113687</td>\n",
       "      <td>104632</td>\n",
       "      <td>114445</td>\n",
       "      <td>107802</td>\n",
       "      <td>110785</td>\n",
       "      <td>101412</td>\n",
       "      <td>120857</td>\n",
       "      <td>110590</td>\n",
       "    </tr>\n",
       "  </tbody>\n",
       "</table>\n",
       "</div>"
      ],
      "text/plain": [
       "year    1880    1881    1882    1883    1884    1885    1886    1887    1888  \\\n",
       "sex                                                                            \n",
       "F      90993   91955  107851  112322  129021  133056  144538  145983  178631   \n",
       "M     110493  100748  113687  104632  114445  107802  110785  101412  120857   \n",
       "\n",
       "year    1889  \n",
       "sex           \n",
       "F     178369  \n",
       "M     110590  "
      ]
     },
     "execution_count": 9,
     "metadata": {},
     "output_type": "execute_result"
    }
   ],
   "source": [
    "# Specify sum as the aggregation function\n",
    "# and births as the numerical value column for sum to apply to\n",
    "ct_table = pd.crosstab(names['sex'],names['year'], values= names['births'],aggfunc='sum')\n",
    "ct_table.iloc[:,:10]"
   ]
  },
  {
   "cell_type": "markdown",
   "metadata": {},
   "source": [
    "So it is possible to use `crosstab` to create a\n",
    "`pivot_table` type DataFrame; however, the general convention\n",
    "is that it is clearer to use `pivot_table`, the more specific tool, to\n",
    "create what most people know as a pivot table."
   ]
  },
  {
   "cell_type": "markdown",
   "metadata": {
    "id": "H0Fm26upACZa"
   },
   "source": [
    "## Plotting"
   ]
  },
  {
   "cell_type": "markdown",
   "metadata": {
    "id": "O5IGXZ_6ACZb"
   },
   "source": [
    "All data frames have a `plot` method; for\n",
    "a simple DataFrame like a pivot table\n",
    "the the `plot` method draws a very simple picture. \n",
    "\n",
    "Consider plotting `total_births`, the pivot table created in a previous\n",
    "section.  Here's the DataFrame.  Note the index and the two columns:"
   ]
  },
  {
   "cell_type": "code",
   "execution_count": null,
   "metadata": {
    "colab": {
     "base_uri": "https://localhost:8080/"
    },
    "id": "p3MKOqI_ACZc",
    "outputId": "043cb8c2-20e3-4c97-e797-4639fa8fd7d7",
    "scrolled": true
   },
   "outputs": [
    {
     "data": {
      "text/html": [
       "<div>\n",
       "<style scoped>\n",
       "    .dataframe tbody tr th:only-of-type {\n",
       "        vertical-align: middle;\n",
       "    }\n",
       "\n",
       "    .dataframe tbody tr th {\n",
       "        vertical-align: top;\n",
       "    }\n",
       "\n",
       "    .dataframe thead th {\n",
       "        text-align: right;\n",
       "    }\n",
       "</style>\n",
       "<table border=\"1\" class=\"dataframe\">\n",
       "  <thead>\n",
       "    <tr style=\"text-align: right;\">\n",
       "      <th>sex</th>\n",
       "      <th>F</th>\n",
       "      <th>M</th>\n",
       "    </tr>\n",
       "    <tr>\n",
       "      <th>year</th>\n",
       "      <th></th>\n",
       "      <th></th>\n",
       "    </tr>\n",
       "  </thead>\n",
       "  <tbody>\n",
       "    <tr>\n",
       "      <th>1880</th>\n",
       "      <td>90993</td>\n",
       "      <td>110493</td>\n",
       "    </tr>\n",
       "    <tr>\n",
       "      <th>1881</th>\n",
       "      <td>91955</td>\n",
       "      <td>100748</td>\n",
       "    </tr>\n",
       "    <tr>\n",
       "      <th>1882</th>\n",
       "      <td>107851</td>\n",
       "      <td>113687</td>\n",
       "    </tr>\n",
       "    <tr>\n",
       "      <th>1883</th>\n",
       "      <td>112322</td>\n",
       "      <td>104632</td>\n",
       "    </tr>\n",
       "    <tr>\n",
       "      <th>1884</th>\n",
       "      <td>129021</td>\n",
       "      <td>114445</td>\n",
       "    </tr>\n",
       "    <tr>\n",
       "      <th>...</th>\n",
       "      <td>...</td>\n",
       "      <td>...</td>\n",
       "    </tr>\n",
       "    <tr>\n",
       "      <th>2006</th>\n",
       "      <td>1896468</td>\n",
       "      <td>2050234</td>\n",
       "    </tr>\n",
       "    <tr>\n",
       "      <th>2007</th>\n",
       "      <td>1916888</td>\n",
       "      <td>2069242</td>\n",
       "    </tr>\n",
       "    <tr>\n",
       "      <th>2008</th>\n",
       "      <td>1883645</td>\n",
       "      <td>2032310</td>\n",
       "    </tr>\n",
       "    <tr>\n",
       "      <th>2009</th>\n",
       "      <td>1827643</td>\n",
       "      <td>1973359</td>\n",
       "    </tr>\n",
       "    <tr>\n",
       "      <th>2010</th>\n",
       "      <td>1759010</td>\n",
       "      <td>1898382</td>\n",
       "    </tr>\n",
       "  </tbody>\n",
       "</table>\n",
       "<p>131 rows × 2 columns</p>\n",
       "</div>"
      ],
      "text/plain": [
       "sex         F        M\n",
       "year                  \n",
       "1880    90993   110493\n",
       "1881    91955   100748\n",
       "1882   107851   113687\n",
       "1883   112322   104632\n",
       "1884   129021   114445\n",
       "...       ...      ...\n",
       "2006  1896468  2050234\n",
       "2007  1916888  2069242\n",
       "2008  1883645  2032310\n",
       "2009  1827643  1973359\n",
       "2010  1759010  1898382\n",
       "\n",
       "[131 rows x 2 columns]"
      ]
     },
     "execution_count": 76,
     "metadata": {
      "tags": []
     },
     "output_type": "execute_result"
    }
   ],
   "source": [
    "total_births"
   ]
  },
  {
   "cell_type": "markdown",
   "metadata": {},
   "source": [
    "And here is the default plot, which puts the index on the x-axis and plots the two columns\n",
    "as separate line plots."
   ]
  },
  {
   "cell_type": "code",
   "execution_count": null,
   "metadata": {
    "id": "8VtSRdzrACZb",
    "outputId": "badecea3-5793-4cba-c8b6-1af3937e8bec"
   },
   "outputs": [
    {
     "data": {
      "image/png": "[encoded data removed]",
      "text/plain": [
       "<Figure size 432x288 with 1 Axes>"
      ]
     },
     "metadata": {
      "tags": []
     },
     "output_type": "display_data"
    }
   ],
   "source": [
    "from matplotlib import pyplot as plt\n",
    "ax = total_births.plot(title='Total births by year') \n",
    "#plt.show()"
   ]
  },
  {
   "cell_type": "markdown",
   "metadata": {
    "id": "A5qu31VgACZd"
   },
   "source": [
    "## Alternative plotting script"
   ]
  },
  {
   "cell_type": "markdown",
   "metadata": {
    "id": "Q_jNJQaEACZe"
   },
   "source": [
    "The above graph is great and often what we want is just to take a quick look at the relationships in the data, and the default DataFrame plot will do exactly the right thing with no customization.  It's helpful to know that `pandas` is using a Python package called `matplotlib` to draw the graph above, and we can do the same ourselves, with a lot more lines of code, but also with a lot more customization."
   ]
  },
  {
   "cell_type": "code",
   "execution_count": 27,
   "metadata": {
    "id": "mcbb1KPKACZe",
    "outputId": "5fde64fe-c8c0-4173-ac6b-99c12dac2dba"
   },
   "outputs": [
    {
     "data": {
      "image/png": "[encoded data removed]",
      "text/plain": [
       "<Figure size 576x576 with 1 Axes>"
      ]
     },
     "metadata": {
      "needs_background": "light"
     },
     "output_type": "display_data"
    }
   ],
   "source": [
    "import matplotlib.pyplot as plt\n",
    "fig = plt.figure(1,figsize=(8,8))\n",
    "ax1 = fig.add_subplot(111)\n",
    "fig.subplots_adjust(top=0.9,left=0.2)\n",
    "ax1.set_ylabel('births')\n",
    "\n",
    "ax1.set_xlabel('year')\n",
    "(p1,) = ax1.plot(total_births.index,total_births['F'],color='salmon',label='F')\n",
    "(p2, ) = ax1.plot(total_births.index,total_births['M'],color='blue',label='M')\n",
    "ax1.set_title('Total births by sex and year')\n",
    "    \n",
    "ax1.legend((p2,p1),('M','F'),loc='upper left',title='sex')\n",
    "plt.show()"
   ]
  },
  {
   "cell_type": "markdown",
   "metadata": {},
   "source": [
    "The basic requirement for the `matplotlib.plot(...)` function \n",
    "is that you need to supply two sequences of the same length giving the x- and y- \n",
    "coordinates respectively of the plot. We can optionally specify plot attributes like line\n",
    "style, color, and label (for use in the legend) for each line plotted. "
   ]
  },
  {
   "cell_type": "markdown",
   "metadata": {},
   "source": [
    "There are also other plot functions which could provide alternative views of the \n",
    "relationships.\n",
    "\n",
    "For example, we could do this as a bar plot. The focus below is on lines 9 and 10 which draw\n",
    "the bar plots for the two genders."
   ]
  },
  {
   "cell_type": "code",
   "execution_count": 28,
   "metadata": {},
   "outputs": [
    {
     "data": {
      "image/png": "[encoded data removed]",
      "text/plain": [
       "<Figure size 576x576 with 1 Axes>"
      ]
     },
     "metadata": {
      "needs_background": "light"
     },
     "output_type": "display_data"
    }
   ],
   "source": [
    "import matplotlib.pyplot as plt\n",
    "fig = plt.figure(1,figsize=(8,8))\n",
    "ax1 = fig.add_subplot(111)\n",
    "fig.subplots_adjust(top=0.9,left=0.2)\n",
    "ax1.set_ylabel('births')\n",
    "\n",
    "ax1.set_xlabel('year')\n",
    "width=.1\n",
    "ax1.bar(total_births.index,total_births['F'],color='salmon',label='F',width=width)\n",
    "ax1.bar(total_births.index+width,total_births['M'],color='blue',label='M',alpha=.1)\n",
    "ax1.set_title('Total births by sex and year')\n",
    "    \n",
    "ax1.legend(loc='upper left',title='sex')\n",
    "plt.show()"
   ]
  },
  {
   "cell_type": "markdown",
   "metadata": {},
   "source": [
    "#### Cross tab vs pivot table revisited"
   ]
  },
  {
   "cell_type": "markdown",
   "metadata": {},
   "source": [
    "When do we do use a pivot table, when cross-tabulation?\n",
    "\n",
    "The answer is that we use cross-tabulation whenever counting is involved, even normalized counting (percentages).\n",
    "\n",
    "Recall the problem we solved with cross-tabulation in Part One of the Pandas Intro,\n",
    "getting the joint distribution of complaint types and agencies:"
   ]
  },
  {
   "cell_type": "code",
   "execution_count": 11,
   "metadata": {},
   "outputs": [
    {
     "data": {
      "text/html": [
       "<div>\n",
       "<style scoped>\n",
       "    .dataframe tbody tr th:only-of-type {\n",
       "        vertical-align: middle;\n",
       "    }\n",
       "\n",
       "    .dataframe tbody tr th {\n",
       "        vertical-align: top;\n",
       "    }\n",
       "\n",
       "    .dataframe thead th {\n",
       "        text-align: right;\n",
       "    }\n",
       "</style>\n",
       "<table border=\"1\" class=\"dataframe\">\n",
       "  <thead>\n",
       "    <tr style=\"text-align: right;\">\n",
       "      <th>Agency</th>\n",
       "      <th>DOP</th>\n",
       "      <th>DOT</th>\n",
       "      <th>NYPD</th>\n",
       "    </tr>\n",
       "    <tr>\n",
       "      <th>Complaint Type</th>\n",
       "      <th></th>\n",
       "      <th></th>\n",
       "      <th></th>\n",
       "    </tr>\n",
       "  </thead>\n",
       "  <tbody>\n",
       "    <tr>\n",
       "      <th>Agency Issues</th>\n",
       "      <td>0</td>\n",
       "      <td>20</td>\n",
       "      <td>0</td>\n",
       "    </tr>\n",
       "    <tr>\n",
       "      <th>Animal Abuse</th>\n",
       "      <td>0</td>\n",
       "      <td>0</td>\n",
       "      <td>164</td>\n",
       "    </tr>\n",
       "    <tr>\n",
       "      <th>Bike Rack Condition</th>\n",
       "      <td>0</td>\n",
       "      <td>7</td>\n",
       "      <td>0</td>\n",
       "    </tr>\n",
       "    <tr>\n",
       "      <th>Bike/Roller/Skate Chronic</th>\n",
       "      <td>0</td>\n",
       "      <td>0</td>\n",
       "      <td>32</td>\n",
       "    </tr>\n",
       "    <tr>\n",
       "      <th>Blocked Driveway</th>\n",
       "      <td>0</td>\n",
       "      <td>0</td>\n",
       "      <td>4590</td>\n",
       "    </tr>\n",
       "    <tr>\n",
       "      <th>Bridge Condition</th>\n",
       "      <td>0</td>\n",
       "      <td>20</td>\n",
       "      <td>0</td>\n",
       "    </tr>\n",
       "    <tr>\n",
       "      <th>Broken Muni Meter</th>\n",
       "      <td>0</td>\n",
       "      <td>2070</td>\n",
       "      <td>0</td>\n",
       "    </tr>\n",
       "    <tr>\n",
       "      <th>Bus Stop Shelter Placement</th>\n",
       "      <td>0</td>\n",
       "      <td>14</td>\n",
       "      <td>0</td>\n",
       "    </tr>\n",
       "    <tr>\n",
       "      <th>Compliment</th>\n",
       "      <td>0</td>\n",
       "      <td>1</td>\n",
       "      <td>0</td>\n",
       "    </tr>\n",
       "    <tr>\n",
       "      <th>Curb Condition</th>\n",
       "      <td>0</td>\n",
       "      <td>66</td>\n",
       "      <td>0</td>\n",
       "    </tr>\n",
       "    <tr>\n",
       "      <th>DOT Literature Request</th>\n",
       "      <td>0</td>\n",
       "      <td>123</td>\n",
       "      <td>0</td>\n",
       "    </tr>\n",
       "    <tr>\n",
       "      <th>Derelict Vehicle</th>\n",
       "      <td>0</td>\n",
       "      <td>0</td>\n",
       "      <td>803</td>\n",
       "    </tr>\n",
       "    <tr>\n",
       "      <th>Disorderly Youth</th>\n",
       "      <td>0</td>\n",
       "      <td>0</td>\n",
       "      <td>26</td>\n",
       "    </tr>\n",
       "    <tr>\n",
       "      <th>Drinking</th>\n",
       "      <td>0</td>\n",
       "      <td>0</td>\n",
       "      <td>83</td>\n",
       "    </tr>\n",
       "    <tr>\n",
       "      <th>Ferry Complaint</th>\n",
       "      <td>0</td>\n",
       "      <td>4</td>\n",
       "      <td>0</td>\n",
       "    </tr>\n",
       "  </tbody>\n",
       "</table>\n",
       "</div>"
      ],
      "text/plain": [
       "Agency                      DOP   DOT  NYPD\n",
       "Complaint Type                             \n",
       "Agency Issues                 0    20     0\n",
       "Animal Abuse                  0     0   164\n",
       "Bike Rack Condition           0     7     0\n",
       "Bike/Roller/Skate Chronic     0     0    32\n",
       "Blocked Driveway              0     0  4590\n",
       "Bridge Condition              0    20     0\n",
       "Broken Muni Meter             0  2070     0\n",
       "Bus Stop Shelter Placement    0    14     0\n",
       "Compliment                    0     1     0\n",
       "Curb Condition                0    66     0\n",
       "DOT Literature Request        0   123     0\n",
       "Derelict Vehicle              0     0   803\n",
       "Disorderly Youth              0     0    26\n",
       "Drinking                      0     0    83\n",
       "Ferry Complaint               0     4     0"
      ]
     },
     "execution_count": 11,
     "metadata": {},
     "output_type": "execute_result"
    }
   ],
   "source": [
    "import os.path\n",
    "#How to break up long strings into multiline segments\n",
    "#Note the use of \"line continued\" character \\\n",
    "data_url = 'https://raw.githubusercontent.com/gawron/python-for-social-science/master/'\\\n",
    "'pandas/datasets/311-service-requests.csv'\n",
    "# Some columns are of mixed types.  This is OK.  But we have to set \n",
    "# low_memory=False\n",
    "complaints = pd.read_csv(data_url,low_memory=False)\n",
    "three = ['DOT', \"DOP\", 'NYPD']\n",
    "pt00 = complaints[complaints.Agency.isin(three)]\n",
    "# only show the first 15 of many rows\n",
    "pd.crosstab(pt00['Complaint Type'], pt00['Agency']).iloc[:15]"
   ]
  },
  {
   "cell_type": "markdown",
   "metadata": {},
   "source": [
    "In thinking about how we used `pd.crosstab` to solve this problem, it's worth considering\n",
    "whether we could do this with a pivot table.\n",
    "\n",
    "Pivot_table construction begins\n",
    "the same way cross-tabulation does: it splits the rows into\n",
    "groups such that each group contains all the\n",
    "rows for one agency/compliant type say, 'NYPD'/'Anmal Abuse';\n",
    "it then applies the aggregation function to each group.\n",
    "\n",
    "There is an aggregation function`'count'` which does we want.\n",
    "It simply computes the number of rows in each group.  \n",
    "\n",
    "There is one wrinkle, and this\n",
    "is the awkward part: the pivot table function needs an argument\n",
    "for the `values` column (in other aggregation operations\n",
    "this argument gives the numerical values to which the aggregation operation applies).  When the aggregation operation is `'count'` **any** valid column will serve.  \n",
    "\n",
    "So we pick one at random, say `\"Status\"`.  The result is almost exactly\n",
    "what we computed with `crosstab`, though with slightly\n",
    "more obscure code:"
   ]
  },
  {
   "cell_type": "code",
   "execution_count": 12,
   "metadata": {},
   "outputs": [
    {
     "data": {
      "text/html": [
       "<div>\n",
       "<style scoped>\n",
       "    .dataframe tbody tr th:only-of-type {\n",
       "        vertical-align: middle;\n",
       "    }\n",
       "\n",
       "    .dataframe tbody tr th {\n",
       "        vertical-align: top;\n",
       "    }\n",
       "\n",
       "    .dataframe thead th {\n",
       "        text-align: right;\n",
       "    }\n",
       "</style>\n",
       "<table border=\"1\" class=\"dataframe\">\n",
       "  <thead>\n",
       "    <tr style=\"text-align: right;\">\n",
       "      <th>Agency</th>\n",
       "      <th>DOP</th>\n",
       "      <th>DOT</th>\n",
       "      <th>NYPD</th>\n",
       "    </tr>\n",
       "    <tr>\n",
       "      <th>Complaint Type</th>\n",
       "      <th></th>\n",
       "      <th></th>\n",
       "      <th></th>\n",
       "    </tr>\n",
       "  </thead>\n",
       "  <tbody>\n",
       "    <tr>\n",
       "      <th>Agency Issues</th>\n",
       "      <td>NaN</td>\n",
       "      <td>20.0</td>\n",
       "      <td>NaN</td>\n",
       "    </tr>\n",
       "    <tr>\n",
       "      <th>Animal Abuse</th>\n",
       "      <td>NaN</td>\n",
       "      <td>NaN</td>\n",
       "      <td>164.0</td>\n",
       "    </tr>\n",
       "    <tr>\n",
       "      <th>Bike Rack Condition</th>\n",
       "      <td>NaN</td>\n",
       "      <td>7.0</td>\n",
       "      <td>NaN</td>\n",
       "    </tr>\n",
       "    <tr>\n",
       "      <th>Bike/Roller/Skate Chronic</th>\n",
       "      <td>NaN</td>\n",
       "      <td>NaN</td>\n",
       "      <td>32.0</td>\n",
       "    </tr>\n",
       "    <tr>\n",
       "      <th>Blocked Driveway</th>\n",
       "      <td>NaN</td>\n",
       "      <td>NaN</td>\n",
       "      <td>4590.0</td>\n",
       "    </tr>\n",
       "    <tr>\n",
       "      <th>Bridge Condition</th>\n",
       "      <td>NaN</td>\n",
       "      <td>20.0</td>\n",
       "      <td>NaN</td>\n",
       "    </tr>\n",
       "    <tr>\n",
       "      <th>Broken Muni Meter</th>\n",
       "      <td>NaN</td>\n",
       "      <td>2070.0</td>\n",
       "      <td>NaN</td>\n",
       "    </tr>\n",
       "    <tr>\n",
       "      <th>Bus Stop Shelter Placement</th>\n",
       "      <td>NaN</td>\n",
       "      <td>14.0</td>\n",
       "      <td>NaN</td>\n",
       "    </tr>\n",
       "    <tr>\n",
       "      <th>Compliment</th>\n",
       "      <td>NaN</td>\n",
       "      <td>1.0</td>\n",
       "      <td>NaN</td>\n",
       "    </tr>\n",
       "    <tr>\n",
       "      <th>Curb Condition</th>\n",
       "      <td>NaN</td>\n",
       "      <td>66.0</td>\n",
       "      <td>NaN</td>\n",
       "    </tr>\n",
       "    <tr>\n",
       "      <th>DOT Literature Request</th>\n",
       "      <td>NaN</td>\n",
       "      <td>123.0</td>\n",
       "      <td>NaN</td>\n",
       "    </tr>\n",
       "    <tr>\n",
       "      <th>Derelict Vehicle</th>\n",
       "      <td>NaN</td>\n",
       "      <td>NaN</td>\n",
       "      <td>803.0</td>\n",
       "    </tr>\n",
       "    <tr>\n",
       "      <th>Disorderly Youth</th>\n",
       "      <td>NaN</td>\n",
       "      <td>NaN</td>\n",
       "      <td>26.0</td>\n",
       "    </tr>\n",
       "    <tr>\n",
       "      <th>Drinking</th>\n",
       "      <td>NaN</td>\n",
       "      <td>NaN</td>\n",
       "      <td>83.0</td>\n",
       "    </tr>\n",
       "    <tr>\n",
       "      <th>Ferry Complaint</th>\n",
       "      <td>NaN</td>\n",
       "      <td>4.0</td>\n",
       "      <td>NaN</td>\n",
       "    </tr>\n",
       "  </tbody>\n",
       "</table>\n",
       "</div>"
      ],
      "text/plain": [
       "Agency                      DOP     DOT    NYPD\n",
       "Complaint Type                                 \n",
       "Agency Issues               NaN    20.0     NaN\n",
       "Animal Abuse                NaN     NaN   164.0\n",
       "Bike Rack Condition         NaN     7.0     NaN\n",
       "Bike/Roller/Skate Chronic   NaN     NaN    32.0\n",
       "Blocked Driveway            NaN     NaN  4590.0\n",
       "Bridge Condition            NaN    20.0     NaN\n",
       "Broken Muni Meter           NaN  2070.0     NaN\n",
       "Bus Stop Shelter Placement  NaN    14.0     NaN\n",
       "Compliment                  NaN     1.0     NaN\n",
       "Curb Condition              NaN    66.0     NaN\n",
       "DOT Literature Request      NaN   123.0     NaN\n",
       "Derelict Vehicle            NaN     NaN   803.0\n",
       "Disorderly Youth            NaN     NaN    26.0\n",
       "Drinking                    NaN     NaN    83.0\n",
       "Ferry Complaint             NaN     4.0     NaN"
      ]
     },
     "execution_count": 12,
     "metadata": {},
     "output_type": "execute_result"
    }
   ],
   "source": [
    "three = ['DOT', \"DOP\", 'NYPD']\n",
    "pt00 = complaints[complaints.Agency.isin(three)]\n",
    "pt0 = pt00.pivot_table(values='Status', index='Complaint Type' , \n",
    "                       columns = 'Agency', aggfunc='count')\n",
    "pt0.iloc[:15]                   "
   ]
  },
  {
   "cell_type": "markdown",
   "metadata": {},
   "source": [
    "The difference is the appearance of `NaN` in all those places\n",
    "where there were no rows in the group to count.\n",
    "\n",
    "All in all, it is an improvement in clarity and informativeness to use crosstab for\n",
    "this task.  As we shall see below, there are cases where cross tabulation\n",
    "can be extended, using other aggregation operations, to build\n",
    "DataFrames that are more easily understood as pivot_tables. The rule\n",
    "of thumb is to use cross tabulation where the operation\n",
    "applied to groups is counting."
   ]
  },
  {
   "cell_type": "markdown",
   "metadata": {},
   "source": [
    "Summarizing: this is the kind of problem to use cross-tabulation for.  It\n",
    "involves counting.  \n",
    "\n",
    "Even though it is possible to we call the `.pivot_table()` method on `complaints`,\n",
    "using  `'count'` as the aggregation operation, this is not best practice\n",
    "when counting is involved."
   ]
  },
  {
   "cell_type": "markdown",
   "metadata": {},
   "source": [
    "## Using pivot instead of groupby"
   ]
  },
  {
   "cell_type": "markdown",
   "metadata": {},
   "source": [
    "As we discussed in part one, splitting (or grouping) is the first of the three operations in the split/apply/combine strategy.\n",
    "\n",
    "We used the nba  dataset to illustrate, because it has some very natural\n",
    "groupings.\n",
    "\n",
    "We reload the NBA dataset."
   ]
  },
  {
   "cell_type": "code",
   "execution_count": 3,
   "metadata": {},
   "outputs": [],
   "source": [
    "import pandas as pd\n",
    "nba_file_url = 'https://gawron.sdsu.edu/python_for_ss/course_core/data/nba.csv'\n",
    "nba_df = pd.read_csv(nba_file_url)"
   ]
  },
  {
   "cell_type": "markdown",
   "metadata": {},
   "source": [
    "Some of the questions we answered there could have been done with a pivot table:\n",
    "\n",
    "For example, let's use a pivot table to answer the question about average weight of centers."
   ]
  },
  {
   "cell_type": "code",
   "execution_count": 4,
   "metadata": {
    "scrolled": true
   },
   "outputs": [
    {
     "name": "stdout",
     "output_type": "stream",
     "text": [
      "              Weight\n",
      "Position            \n",
      "C         254.205128\n",
      "PF        240.430000\n",
      "PG        189.478261\n",
      "SF        221.776471\n",
      "SG        206.686275\n",
      "\n",
      "And the answer is: 254.2\n"
     ]
    }
   ],
   "source": [
    "nba_pt_wt = nba_df.pivot_table('Weight','Position')\n",
    "print(nba_pt_wt)\n",
    "print()\n",
    "print(f\"And the answer is: {nba_pt_wt.loc['C','Weight']:.1f}\")"
   ]
  },
  {
   "cell_type": "markdown",
   "metadata": {},
   "source": [
    "The numbers here are means because mean is the default aggregation function.  Similarly, consider the question:\n",
    "\n",
    "What position  earns the highest salary on average?\n",
    "\n",
    "The pivot table answer, going all the way to the highest valued position:"
   ]
  },
  {
   "cell_type": "code",
   "execution_count": 7,
   "metadata": {},
   "outputs": [
    {
     "data": {
      "text/plain": [
       "'C'"
      ]
     },
     "execution_count": 7,
     "metadata": {},
     "output_type": "execute_result"
    }
   ],
   "source": [
    "# Get pivot table; sort values for the Salary column, get first element of index\n",
    "nba_df.pivot_table('Salary','Position')['Salary'].sort_values(ascending=False).index[0]"
   ]
  },
  {
   "cell_type": "markdown",
   "metadata": {},
   "source": [
    "The point is that `pivot_table`, like `pd.crosstab`, executes the split-apply-combine\n",
    "strategy in one step and so it will often be more convenient to call `pivot_table`\n",
    "rather than `groupby`."
   ]
  },
  {
   "cell_type": "markdown",
   "metadata": {},
   "source": [
    "The `.groupby()` method is the first step in creating a pivot table; hence, we can always emulate\n",
    "the effect of `.pivot_table()` by grouping and then apply an aggregation function.\n",
    "\n",
    "However, if we're after\n",
    "only one aggregation operation for a particular grouping, there really isn't an advantage to using `groupby`. \n",
    "We may as well use `pivot_table`."
   ]
  },
  {
   "cell_type": "markdown",
   "metadata": {},
   "source": [
    "### New Stocks dataset:  More pivot table examples using Time\n",
    "\n",
    "1.  Adding columns to enable new kinds of grouping.\n",
    "2.  \"Melting\" different value columns into 1 value column (in order to set up a pivot).\n",
    "3.  Centering and scaling data."
   ]
  },
  {
   "cell_type": "code",
   "execution_count": 30,
   "metadata": {},
   "outputs": [
    {
     "data": {
      "text/html": [
       "<div>\n",
       "<style scoped>\n",
       "    .dataframe tbody tr th:only-of-type {\n",
       "        vertical-align: middle;\n",
       "    }\n",
       "\n",
       "    .dataframe tbody tr th {\n",
       "        vertical-align: top;\n",
       "    }\n",
       "\n",
       "    .dataframe thead th {\n",
       "        text-align: right;\n",
       "    }\n",
       "</style>\n",
       "<table border=\"1\" class=\"dataframe\">\n",
       "  <thead>\n",
       "    <tr style=\"text-align: right;\">\n",
       "      <th></th>\n",
       "      <th>Unnamed: 0</th>\n",
       "      <th>date</th>\n",
       "      <th>AA</th>\n",
       "      <th>GE</th>\n",
       "      <th>IBM</th>\n",
       "      <th>MSFT</th>\n",
       "    </tr>\n",
       "  </thead>\n",
       "  <tbody>\n",
       "    <tr>\n",
       "      <th>0</th>\n",
       "      <td>0</td>\n",
       "      <td>1990-02-01 00:00:00</td>\n",
       "      <td>4.98</td>\n",
       "      <td>2.87</td>\n",
       "      <td>16.79</td>\n",
       "      <td>0.51</td>\n",
       "    </tr>\n",
       "    <tr>\n",
       "      <th>1</th>\n",
       "      <td>1</td>\n",
       "      <td>1990-02-02 00:00:00</td>\n",
       "      <td>5.04</td>\n",
       "      <td>2.87</td>\n",
       "      <td>16.89</td>\n",
       "      <td>0.51</td>\n",
       "    </tr>\n",
       "    <tr>\n",
       "      <th>2</th>\n",
       "      <td>2</td>\n",
       "      <td>1990-02-05 00:00:00</td>\n",
       "      <td>5.07</td>\n",
       "      <td>2.87</td>\n",
       "      <td>17.32</td>\n",
       "      <td>0.51</td>\n",
       "    </tr>\n",
       "    <tr>\n",
       "      <th>3</th>\n",
       "      <td>3</td>\n",
       "      <td>1990-02-06 00:00:00</td>\n",
       "      <td>5.01</td>\n",
       "      <td>2.88</td>\n",
       "      <td>17.56</td>\n",
       "      <td>0.51</td>\n",
       "    </tr>\n",
       "    <tr>\n",
       "      <th>4</th>\n",
       "      <td>4</td>\n",
       "      <td>1990-02-07 00:00:00</td>\n",
       "      <td>5.04</td>\n",
       "      <td>2.91</td>\n",
       "      <td>17.93</td>\n",
       "      <td>0.51</td>\n",
       "    </tr>\n",
       "    <tr>\n",
       "      <th>...</th>\n",
       "      <td>...</td>\n",
       "      <td>...</td>\n",
       "      <td>...</td>\n",
       "      <td>...</td>\n",
       "      <td>...</td>\n",
       "      <td>...</td>\n",
       "    </tr>\n",
       "    <tr>\n",
       "      <th>5467</th>\n",
       "      <td>5467</td>\n",
       "      <td>2011-10-10 00:00:00</td>\n",
       "      <td>10.09</td>\n",
       "      <td>16.14</td>\n",
       "      <td>186.62</td>\n",
       "      <td>26.94</td>\n",
       "    </tr>\n",
       "    <tr>\n",
       "      <th>5468</th>\n",
       "      <td>5468</td>\n",
       "      <td>2011-10-11 00:00:00</td>\n",
       "      <td>10.30</td>\n",
       "      <td>16.14</td>\n",
       "      <td>185.00</td>\n",
       "      <td>27.00</td>\n",
       "    </tr>\n",
       "    <tr>\n",
       "      <th>5469</th>\n",
       "      <td>5469</td>\n",
       "      <td>2011-10-12 00:00:00</td>\n",
       "      <td>10.05</td>\n",
       "      <td>16.40</td>\n",
       "      <td>186.12</td>\n",
       "      <td>26.96</td>\n",
       "    </tr>\n",
       "    <tr>\n",
       "      <th>5470</th>\n",
       "      <td>5470</td>\n",
       "      <td>2011-10-13 00:00:00</td>\n",
       "      <td>10.10</td>\n",
       "      <td>16.22</td>\n",
       "      <td>186.82</td>\n",
       "      <td>27.18</td>\n",
       "    </tr>\n",
       "    <tr>\n",
       "      <th>5471</th>\n",
       "      <td>5471</td>\n",
       "      <td>2011-10-14 00:00:00</td>\n",
       "      <td>10.26</td>\n",
       "      <td>16.60</td>\n",
       "      <td>190.53</td>\n",
       "      <td>27.27</td>\n",
       "    </tr>\n",
       "  </tbody>\n",
       "</table>\n",
       "<p>5472 rows × 6 columns</p>\n",
       "</div>"
      ],
      "text/plain": [
       "      Unnamed: 0                 date     AA     GE     IBM   MSFT\n",
       "0              0  1990-02-01 00:00:00   4.98   2.87   16.79   0.51\n",
       "1              1  1990-02-02 00:00:00   5.04   2.87   16.89   0.51\n",
       "2              2  1990-02-05 00:00:00   5.07   2.87   17.32   0.51\n",
       "3              3  1990-02-06 00:00:00   5.01   2.88   17.56   0.51\n",
       "4              4  1990-02-07 00:00:00   5.04   2.91   17.93   0.51\n",
       "...          ...                  ...    ...    ...     ...    ...\n",
       "5467        5467  2011-10-10 00:00:00  10.09  16.14  186.62  26.94\n",
       "5468        5468  2011-10-11 00:00:00  10.30  16.14  185.00  27.00\n",
       "5469        5469  2011-10-12 00:00:00  10.05  16.40  186.12  26.96\n",
       "5470        5470  2011-10-13 00:00:00  10.10  16.22  186.82  27.18\n",
       "5471        5471  2011-10-14 00:00:00  10.26  16.60  190.53  27.27\n",
       "\n",
       "[5472 rows x 6 columns]"
      ]
     },
     "execution_count": 30,
     "metadata": {},
     "output_type": "execute_result"
    }
   ],
   "source": [
    "import pandas as pd\n",
    "import os.path\n",
    "import urllib.request \n",
    "import os.path\n",
    "from matplotlib import pyplot as plt\n",
    "\n",
    "url_dir = 'https://gawron.sdsu.edu/python_for_ss/course_core/data'\n",
    "time1 = pd.read_csv(os.path.join(url_dir,'stocks.csv'))\n",
    "time1"
   ]
  },
  {
   "cell_type": "markdown",
   "metadata": {},
   "source": [
    "To get the idea of this data set try this:\n",
    "\n",
    "**Plotting challenge**:  Plot IBM and GE stock prices for February.  Try to place the two plots\n",
    "side by side.\n",
    "\n",
    "Note: even though the values in the `'date'` column are strings, they've very well chosen strings\n",
    "for our purposes.  Normal string sorting will reproduce chronological order."
   ]
  },
  {
   "cell_type": "markdown",
   "metadata": {},
   "source": [
    "There are no NaN  values in the data."
   ]
  },
  {
   "cell_type": "code",
   "execution_count": 721,
   "metadata": {},
   "outputs": [
    {
     "data": {
      "text/plain": [
       "(5472, 5472)"
      ]
     },
     "execution_count": 721,
     "metadata": {},
     "output_type": "execute_result"
    }
   ],
   "source": [
    "len(time1), len(time1.dropna())"
   ]
  },
  {
   "cell_type": "markdown",
   "metadata": {},
   "source": [
    "Now to get the data for a month we **could** do our grouping by hand, as in the following cell,\n",
    "which zooms in on February."
   ]
  },
  {
   "cell_type": "code",
   "execution_count": 651,
   "metadata": {},
   "outputs": [],
   "source": [
    "time_feb = time1[(time1['date'] >='1990-02-01 00:00:00') & (time1['date'] < '1990-03-01 00:00:00') ]"
   ]
  },
  {
   "cell_type": "markdown",
   "metadata": {},
   "source": [
    "But DataFrames with a time series index provide certain time-specfic services that will make this\n",
    "much easier.\n",
    "\n",
    "So let's promote our `'date'` column to be the index to take advantage of those.  We first construct\n",
    "a `pandas`-specific kind of Index called a `DatetimeIndex` using the dates in the `'date'` column, then \n",
    "set that to be our index."
   ]
  },
  {
   "cell_type": "code",
   "execution_count": 132,
   "metadata": {},
   "outputs": [],
   "source": [
    "time2 = time1.set_index(pd.DatetimeIndex(time1['date']))"
   ]
  },
  {
   "cell_type": "code",
   "execution_count": 133,
   "metadata": {},
   "outputs": [
    {
     "data": {
      "text/html": [
       "<div>\n",
       "<style scoped>\n",
       "    .dataframe tbody tr th:only-of-type {\n",
       "        vertical-align: middle;\n",
       "    }\n",
       "\n",
       "    .dataframe tbody tr th {\n",
       "        vertical-align: top;\n",
       "    }\n",
       "\n",
       "    .dataframe thead th {\n",
       "        text-align: right;\n",
       "    }\n",
       "</style>\n",
       "<table border=\"1\" class=\"dataframe\">\n",
       "  <thead>\n",
       "    <tr style=\"text-align: right;\">\n",
       "      <th></th>\n",
       "      <th>Unnamed: 0</th>\n",
       "      <th>date</th>\n",
       "      <th>AA</th>\n",
       "      <th>GE</th>\n",
       "      <th>IBM</th>\n",
       "      <th>MSFT</th>\n",
       "    </tr>\n",
       "    <tr>\n",
       "      <th>date</th>\n",
       "      <th></th>\n",
       "      <th></th>\n",
       "      <th></th>\n",
       "      <th></th>\n",
       "      <th></th>\n",
       "      <th></th>\n",
       "    </tr>\n",
       "  </thead>\n",
       "  <tbody>\n",
       "    <tr>\n",
       "      <th>1990-02-01</th>\n",
       "      <td>0</td>\n",
       "      <td>1990-02-01 00:00:00</td>\n",
       "      <td>4.98</td>\n",
       "      <td>2.87</td>\n",
       "      <td>16.79</td>\n",
       "      <td>0.51</td>\n",
       "    </tr>\n",
       "    <tr>\n",
       "      <th>1990-02-02</th>\n",
       "      <td>1</td>\n",
       "      <td>1990-02-02 00:00:00</td>\n",
       "      <td>5.04</td>\n",
       "      <td>2.87</td>\n",
       "      <td>16.89</td>\n",
       "      <td>0.51</td>\n",
       "    </tr>\n",
       "    <tr>\n",
       "      <th>1990-02-05</th>\n",
       "      <td>2</td>\n",
       "      <td>1990-02-05 00:00:00</td>\n",
       "      <td>5.07</td>\n",
       "      <td>2.87</td>\n",
       "      <td>17.32</td>\n",
       "      <td>0.51</td>\n",
       "    </tr>\n",
       "    <tr>\n",
       "      <th>1990-02-06</th>\n",
       "      <td>3</td>\n",
       "      <td>1990-02-06 00:00:00</td>\n",
       "      <td>5.01</td>\n",
       "      <td>2.88</td>\n",
       "      <td>17.56</td>\n",
       "      <td>0.51</td>\n",
       "    </tr>\n",
       "    <tr>\n",
       "      <th>1990-02-07</th>\n",
       "      <td>4</td>\n",
       "      <td>1990-02-07 00:00:00</td>\n",
       "      <td>5.04</td>\n",
       "      <td>2.91</td>\n",
       "      <td>17.93</td>\n",
       "      <td>0.51</td>\n",
       "    </tr>\n",
       "    <tr>\n",
       "      <th>1990-02-08</th>\n",
       "      <td>5</td>\n",
       "      <td>1990-02-08 00:00:00</td>\n",
       "      <td>5.04</td>\n",
       "      <td>2.92</td>\n",
       "      <td>17.86</td>\n",
       "      <td>0.51</td>\n",
       "    </tr>\n",
       "  </tbody>\n",
       "</table>\n",
       "</div>"
      ],
      "text/plain": [
       "            Unnamed: 0                 date    AA    GE    IBM  MSFT\n",
       "date                                                                \n",
       "1990-02-01           0  1990-02-01 00:00:00  4.98  2.87  16.79  0.51\n",
       "1990-02-02           1  1990-02-02 00:00:00  5.04  2.87  16.89  0.51\n",
       "1990-02-05           2  1990-02-05 00:00:00  5.07  2.87  17.32  0.51\n",
       "1990-02-06           3  1990-02-06 00:00:00  5.01  2.88  17.56  0.51\n",
       "1990-02-07           4  1990-02-07 00:00:00  5.04  2.91  17.93  0.51\n",
       "1990-02-08           5  1990-02-08 00:00:00  5.04  2.92  17.86  0.51"
      ]
     },
     "execution_count": 133,
     "metadata": {},
     "output_type": "execute_result"
    }
   ],
   "source": [
    "time2[:6]"
   ]
  },
  {
   "cell_type": "markdown",
   "metadata": {},
   "source": [
    "The objects in our new index are Pandas Timestamp objects, which are inspired by and very closely related to\n",
    "Python's DateTime objects (imported with the `datetime` module).  They represent moments in time defined\n",
    "by a specific date and time.  The month, year, hour, minute, and second of a `TimeStamp` instance can all\n",
    "be retrieved with methods of the same name:"
   ]
  },
  {
   "cell_type": "code",
   "execution_count": 107,
   "metadata": {},
   "outputs": [
    {
     "name": "stdout",
     "output_type": "stream",
     "text": [
      "1990-02-01 00:00:00 <class 'pandas._libs.tslibs.timestamps.Timestamp'>\n",
      "Month   2\n",
      "Hour    0\n",
      "Day     1\n",
      "Weekday 3\n",
      "Thu Feb 01 1990 00:00:00\n"
     ]
    }
   ],
   "source": [
    "# TimeStamp instance \n",
    "dt = time2.index[0]\n",
    "print(dt, type(dt))\n",
    "print('Month  ',dt.month)\n",
    "print('Hour   ', dt.hour)\n",
    "print('Day    ', dt.day)\n",
    "# Feb 1 1990 was on a Thursday (0-based indexing, Monday is first day)\n",
    "print('Weekday', dt.weekday())\n",
    "# Print it out nice using format codes from datetime module\n",
    "print(dt.strftime('%a %b %d %Y %H:%M:%S'))\n"
   ]
  },
  {
   "cell_type": "markdown",
   "metadata": {},
   "source": [
    "As with columns contained strings, `pandas` supplies vectorized operations on any\n",
    "`DateTimeIndex`."
   ]
  },
  {
   "cell_type": "code",
   "execution_count": 134,
   "metadata": {},
   "outputs": [
    {
     "data": {
      "text/plain": [
       "Int64Index([1990, 1990, 1990, 1990, 1990, 1990, 1990, 1990, 1990, 1990,\n",
       "            ...\n",
       "            2011, 2011, 2011, 2011, 2011, 2011, 2011, 2011, 2011, 2011],\n",
       "           dtype='int64', name='date', length=5472)"
      ]
     },
     "execution_count": 134,
     "metadata": {},
     "output_type": "execute_result"
    }
   ],
   "source": [
    "# We get the year of every timestamp instance in the index\n",
    "time2.index.year"
   ]
  },
  {
   "cell_type": "markdown",
   "metadata": {},
   "source": [
    "Note with string columns we needed to use the `.str` method before invoking a vectorized string method.\n",
    "That is unnecessary in this instance, but only because we are dealing with a `DateTimeIndex`.\n",
    "\n",
    "If we create a `Series` instance containing `TimeStamp` instances,  then an analogue of `str` is required.\n",
    "The analogue of `str` is `dt`."
   ]
  },
  {
   "cell_type": "code",
   "execution_count": 111,
   "metadata": {},
   "outputs": [],
   "source": [
    "# A Series containing TimeStamp instances\n",
    "new_date = pd.to_datetime(time1['date'])"
   ]
  },
  {
   "cell_type": "code",
   "execution_count": 115,
   "metadata": {},
   "outputs": [
    {
     "name": "stdout",
     "output_type": "stream",
     "text": [
      "new_date.year raises an Exception:\n",
      "  'Series' object has no attribute 'year'\n",
      "\n",
      "new_date.dt.year:\n",
      "0       1990\n",
      "1       1990\n",
      "2       1990\n",
      "3       1990\n",
      "4       1990\n",
      "        ... \n",
      "5467    2011\n",
      "5468    2011\n",
      "5469    2011\n",
      "5470    2011\n",
      "5471    2011\n",
      "Name: date, Length: 5472, dtype: int64\n"
     ]
    }
   ],
   "source": [
    "try:\n",
    "    new_date.year\n",
    "except AttributeError as e:\n",
    "    print('new_date.year raises an Exception:', e,sep='\\n  ')\n",
    "print()\n",
    "print('new_date.dt.year:', new_date.dt.year,sep='\\n')"
   ]
  },
  {
   "cell_type": "markdown",
   "metadata": {},
   "source": [
    "Using this DateTimeIndex, we  can segregate all the days that belong to a given month \n",
    "or given year or both.  We illustrate"
   ]
  },
  {
   "cell_type": "code",
   "execution_count": 59,
   "metadata": {},
   "outputs": [],
   "source": [
    "feb1992 = time2[(time2.index.month == 2) & (time2.index.year == 1992)]"
   ]
  },
  {
   "cell_type": "markdown",
   "metadata": {},
   "source": [
    "Day by day plot for Feb 1992 for two different stocks."
   ]
  },
  {
   "cell_type": "code",
   "execution_count": 60,
   "metadata": {},
   "outputs": [
    {
     "data": {
      "text/plain": [
       "<AxesSubplot:xlabel='date'>"
      ]
     },
     "execution_count": 60,
     "metadata": {},
     "output_type": "execute_result"
    },
    {
     "data": {
      "image/png": "[encoded data removed]",
      "text/plain": [
       "<Figure size 576x360 with 2 Axes>"
      ]
     },
     "metadata": {
      "needs_background": "light"
     },
     "output_type": "display_data"
    }
   ],
   "source": [
    "# Subplot array is 1x2 1 row with 2 cols.\n",
    "(fig, (ax1,ax2))  = plt.subplots(1,2,figsize=(8,5))\n",
    "# More room between subplots\n",
    "fig.tight_layout()\n",
    "# Rotate the xaxis labels 45 degrees to get them to display nicer.\n",
    "feb1992['AA'].plot(rot=45,ax=ax1)\n",
    "feb1992['GE'].plot(rot=45,ax=ax2)"
   ]
  },
  {
   "cell_type": "markdown",
   "metadata": {},
   "source": [
    "One important motivation for making the TimeStamp sequence the Index rather than a column is\n",
    "that it opens the door to temporally based grouping, which is a very common move\n",
    "with Time Series data.\n",
    "\n",
    "The `resample` method on DataFrames\n",
    "is basically a `group_by` operation in which the groups are defined by some temporal property.\n",
    "It requires the Index to be temporal series of some sort."
   ]
  },
  {
   "cell_type": "code",
   "execution_count": 24,
   "metadata": {},
   "outputs": [],
   "source": [
    "month_groups=time2.resample('M')"
   ]
  },
  {
   "cell_type": "markdown",
   "metadata": {},
   "source": [
    "Here we have grouped by month."
   ]
  },
  {
   "cell_type": "markdown",
   "metadata": {},
   "source": [
    "Month groups are referenced by the last day of each month group."
   ]
  },
  {
   "cell_type": "code",
   "execution_count": 150,
   "metadata": {},
   "outputs": [
    {
     "data": {
      "text/html": [
       "<div>\n",
       "<style scoped>\n",
       "    .dataframe tbody tr th:only-of-type {\n",
       "        vertical-align: middle;\n",
       "    }\n",
       "\n",
       "    .dataframe tbody tr th {\n",
       "        vertical-align: top;\n",
       "    }\n",
       "\n",
       "    .dataframe thead th {\n",
       "        text-align: right;\n",
       "    }\n",
       "</style>\n",
       "<table border=\"1\" class=\"dataframe\">\n",
       "  <thead>\n",
       "    <tr style=\"text-align: right;\">\n",
       "      <th></th>\n",
       "      <th>Unnamed: 0</th>\n",
       "      <th>date</th>\n",
       "      <th>AA</th>\n",
       "      <th>GE</th>\n",
       "      <th>IBM</th>\n",
       "      <th>MSFT</th>\n",
       "    </tr>\n",
       "    <tr>\n",
       "      <th>date</th>\n",
       "      <th></th>\n",
       "      <th></th>\n",
       "      <th></th>\n",
       "      <th></th>\n",
       "      <th></th>\n",
       "      <th></th>\n",
       "    </tr>\n",
       "  </thead>\n",
       "  <tbody>\n",
       "    <tr>\n",
       "      <th>1990-02-01</th>\n",
       "      <td>0</td>\n",
       "      <td>1990-02-01 00:00:00</td>\n",
       "      <td>4.98</td>\n",
       "      <td>2.87</td>\n",
       "      <td>16.79</td>\n",
       "      <td>0.51</td>\n",
       "    </tr>\n",
       "    <tr>\n",
       "      <th>1990-02-02</th>\n",
       "      <td>1</td>\n",
       "      <td>1990-02-02 00:00:00</td>\n",
       "      <td>5.04</td>\n",
       "      <td>2.87</td>\n",
       "      <td>16.89</td>\n",
       "      <td>0.51</td>\n",
       "    </tr>\n",
       "    <tr>\n",
       "      <th>1990-02-05</th>\n",
       "      <td>2</td>\n",
       "      <td>1990-02-05 00:00:00</td>\n",
       "      <td>5.07</td>\n",
       "      <td>2.87</td>\n",
       "      <td>17.32</td>\n",
       "      <td>0.51</td>\n",
       "    </tr>\n",
       "    <tr>\n",
       "      <th>1990-02-06</th>\n",
       "      <td>3</td>\n",
       "      <td>1990-02-06 00:00:00</td>\n",
       "      <td>5.01</td>\n",
       "      <td>2.88</td>\n",
       "      <td>17.56</td>\n",
       "      <td>0.51</td>\n",
       "    </tr>\n",
       "    <tr>\n",
       "      <th>1990-02-07</th>\n",
       "      <td>4</td>\n",
       "      <td>1990-02-07 00:00:00</td>\n",
       "      <td>5.04</td>\n",
       "      <td>2.91</td>\n",
       "      <td>17.93</td>\n",
       "      <td>0.51</td>\n",
       "    </tr>\n",
       "  </tbody>\n",
       "</table>\n",
       "</div>"
      ],
      "text/plain": [
       "            Unnamed: 0                 date    AA    GE    IBM  MSFT\n",
       "date                                                                \n",
       "1990-02-01           0  1990-02-01 00:00:00  4.98  2.87  16.79  0.51\n",
       "1990-02-02           1  1990-02-02 00:00:00  5.04  2.87  16.89  0.51\n",
       "1990-02-05           2  1990-02-05 00:00:00  5.07  2.87  17.32  0.51\n",
       "1990-02-06           3  1990-02-06 00:00:00  5.01  2.88  17.56  0.51\n",
       "1990-02-07           4  1990-02-07 00:00:00  5.04  2.91  17.93  0.51"
      ]
     },
     "execution_count": 150,
     "metadata": {},
     "output_type": "execute_result"
    }
   ],
   "source": [
    "month_groups.get_group('1990-02-28')[:5]"
   ]
  },
  {
   "cell_type": "markdown",
   "metadata": {},
   "source": [
    "Now it is very easy to get the means for each month, and works \n",
    "much the same as getting means for `groupby` instances."
   ]
  },
  {
   "cell_type": "code",
   "execution_count": 41,
   "metadata": {},
   "outputs": [],
   "source": [
    "#This is a DataFrame\n",
    "mean_by_months = month_groups.mean()"
   ]
  },
  {
   "cell_type": "code",
   "execution_count": 120,
   "metadata": {
    "scrolled": false
   },
   "outputs": [
    {
     "data": {
      "text/plain": [
       "<matplotlib.legend.Legend at 0x7fadbf4a7b38>"
      ]
     },
     "execution_count": 120,
     "metadata": {},
     "output_type": "execute_result"
    },
    {
     "data": {
      "image/png": "[encoded data removed]",
      "text/plain": [
       "<Figure size 576x360 with 2 Axes>"
      ]
     },
     "metadata": {
      "needs_background": "light"
     },
     "output_type": "display_data"
    }
   ],
   "source": [
    "# Subplot array is 1x2 1 row with 2 cols.\n",
    "(fig, (ax1,ax2))  = plt.subplots(1,2,figsize=(8,5))\n",
    "# More room between subplots\n",
    "fig.tight_layout()\n",
    "# Rotate the xaxis labels 45 degrees to get them to display nicer.\n",
    "mean_by_months['AA'].plot(rot=45,ax=ax1)\n",
    "ax1.legend()\n",
    "mean_by_months['IBM'].plot(rot=45,ax=ax2)\n",
    "ax2.legend()"
   ]
  },
  {
   "cell_type": "markdown",
   "metadata": {},
   "source": [
    "**What stock gave the best return over the  time period in the data?**\n",
    "\n",
    "To answer this question we essentially want to perform a **delta calculation**: subtract the value on the first day from the value on the last day.  The issue is what measure of value should we use when stock share prices differ significantly in scale  (compare IBM\n",
    "and AA in Feb 1990 in the plot above).  We need some way of scaling the price differences so\n",
    "as to make them comparable.\n",
    "\n",
    "We will present one way of doing this without a great deal of discussion because this question is essentially a pretext for showing you how to **center** and **scale** data.\n",
    "\n",
    "Strategy:  Center and scale each stock column to show stock price in standard deviation units.\n",
    "(Plot the three resulting stock price lines, for fun).  **Delta calculation**:  For each stock, compute the difference between the first and last days in the data in  standard deviation units.\n",
    "\n",
    "The stock that is the furthest above its starting point at the end of the period is the winner.  Note that the \"center\" of the centering is arbitrary for this calculation.  We choose to make it the mean because that is a standard choice. But in the end we're just computing the difference in values beween the last day and the first day, and the choice of center will have no effect on that difference.\n",
    "\n",
    "```\n",
    "(x_last - c) - (x_first - c) = x_last - x_first\n",
    "```\n",
    "\n",
    "What does matter is the choice of the units we use to represent stock values.  We choose\n",
    "`standard deviation units` because that is a reasonable way to standardize the prices of stocks."
   ]
  },
  {
   "cell_type": "markdown",
   "metadata": {},
   "source": [
    "The next cell actually centers and scales each column.  "
   ]
  },
  {
   "cell_type": "code",
   "execution_count": 151,
   "metadata": {},
   "outputs": [],
   "source": [
    "df = mean_by_months[['AA','GE','IBM','MSFT']]\n",
    "mn,std = df.mean(),df.std()\n",
    "# centering (the numerator)  & scaling (the denominator)\n",
    "new_df=(df-mn)/std"
   ]
  },
  {
   "cell_type": "markdown",
   "metadata": {},
   "source": [
    "How did **that** work?  Well, `pandas` sensibly decides\n",
    "that in a normally structured DataFrame, it doesn't make sense to take\n",
    "the mean or standard deviation of a row  (each column is a different kind of thing),\n",
    "so mean and standard deviation calculations are automatically applied to columns."
   ]
  },
  {
   "cell_type": "code",
   "execution_count": 152,
   "metadata": {
    "scrolled": true
   },
   "outputs": [
    {
     "data": {
      "text/plain": [
       "AA      17.445346\n",
       "GE      17.947286\n",
       "IBM     66.919186\n",
       "MSFT    17.080430\n",
       "dtype: float64"
      ]
     },
     "execution_count": 152,
     "metadata": {},
     "output_type": "execute_result"
    }
   ],
   "source": [
    "mn"
   ]
  },
  {
   "cell_type": "markdown",
   "metadata": {},
   "source": [
    "When we subtract this from `df` the numbers are automatically aligned with columns, and \n",
    "\n",
    "```\n",
    "df - mn\n",
    "```\n",
    "\n",
    "automatically turns into elementwise subtraction of the mean from each column.\n",
    "\n",
    "Note that for the cell above to work we should (minimally) have a DataFrame with\n",
    "all numerical columns and no NaN issues (or at least NaN issues that have\n",
    "been thought through in advance).  Our pivot table meets these criteria: It is all numerical with no NaNs.\n",
    "Because there are no NaNs in the original DataFrame `time1`, we could have\n",
    "just as easily have used the three value columns in `time1` for centering and scaling,\n",
    "but we would end up with a DataFrame with no temporal index and no time related columns.\n",
    "\n",
    "Here is the result of centering the mean by months DataFrame:"
   ]
  },
  {
   "cell_type": "code",
   "execution_count": 153,
   "metadata": {},
   "outputs": [
    {
     "data": {
      "text/html": [
       "<div>\n",
       "<style scoped>\n",
       "    .dataframe tbody tr th:only-of-type {\n",
       "        vertical-align: middle;\n",
       "    }\n",
       "\n",
       "    .dataframe tbody tr th {\n",
       "        vertical-align: top;\n",
       "    }\n",
       "\n",
       "    .dataframe thead th {\n",
       "        text-align: right;\n",
       "    }\n",
       "</style>\n",
       "<table border=\"1\" class=\"dataframe\">\n",
       "  <thead>\n",
       "    <tr style=\"text-align: right;\">\n",
       "      <th></th>\n",
       "      <th>AA</th>\n",
       "      <th>GE</th>\n",
       "      <th>IBM</th>\n",
       "      <th>MSFT</th>\n",
       "    </tr>\n",
       "    <tr>\n",
       "      <th>date</th>\n",
       "      <th></th>\n",
       "      <th></th>\n",
       "      <th></th>\n",
       "      <th></th>\n",
       "    </tr>\n",
       "  </thead>\n",
       "  <tbody>\n",
       "    <tr>\n",
       "      <th>1990-02-28</th>\n",
       "      <td>-1.288710</td>\n",
       "      <td>-1.418216</td>\n",
       "      <td>-1.172091</td>\n",
       "      <td>-1.508003</td>\n",
       "    </tr>\n",
       "    <tr>\n",
       "      <th>1990-03-31</th>\n",
       "      <td>-1.255604</td>\n",
       "      <td>-1.409703</td>\n",
       "      <td>-1.155745</td>\n",
       "      <td>-1.501460</td>\n",
       "    </tr>\n",
       "    <tr>\n",
       "      <th>1990-04-30</th>\n",
       "      <td>-1.278598</td>\n",
       "      <td>-1.402754</td>\n",
       "      <td>-1.148573</td>\n",
       "      <td>-1.497498</td>\n",
       "    </tr>\n",
       "    <tr>\n",
       "      <th>1990-05-31</th>\n",
       "      <td>-1.264343</td>\n",
       "      <td>-1.391229</td>\n",
       "      <td>-1.116268</td>\n",
       "      <td>-1.489040</td>\n",
       "    </tr>\n",
       "    <tr>\n",
       "      <th>1990-06-30</th>\n",
       "      <td>-1.251783</td>\n",
       "      <td>-1.380342</td>\n",
       "      <td>-1.096900</td>\n",
       "      <td>-1.480837</td>\n",
       "    </tr>\n",
       "    <tr>\n",
       "      <th>...</th>\n",
       "      <td>...</td>\n",
       "      <td>...</td>\n",
       "      <td>...</td>\n",
       "      <td>...</td>\n",
       "    </tr>\n",
       "    <tr>\n",
       "      <th>2011-06-30</th>\n",
       "      <td>-0.213580</td>\n",
       "      <td>0.032714</td>\n",
       "      <td>2.336573</td>\n",
       "      <td>0.657461</td>\n",
       "    </tr>\n",
       "    <tr>\n",
       "      <th>2011-07-31</th>\n",
       "      <td>-0.186770</td>\n",
       "      <td>0.052048</td>\n",
       "      <td>2.654514</td>\n",
       "      <td>0.885148</td>\n",
       "    </tr>\n",
       "    <tr>\n",
       "      <th>2011-08-31</th>\n",
       "      <td>-0.529118</td>\n",
       "      <td>-0.194660</td>\n",
       "      <td>2.439593</td>\n",
       "      <td>0.750245</td>\n",
       "    </tr>\n",
       "    <tr>\n",
       "      <th>2011-09-30</th>\n",
       "      <td>-0.647991</td>\n",
       "      <td>-0.224871</td>\n",
       "      <td>2.464671</td>\n",
       "      <td>0.809557</td>\n",
       "    </tr>\n",
       "    <tr>\n",
       "      <th>2011-10-31</th>\n",
       "      <td>-0.796747</td>\n",
       "      <td>-0.208138</td>\n",
       "      <td>2.754710</td>\n",
       "      <td>0.846075</td>\n",
       "    </tr>\n",
       "  </tbody>\n",
       "</table>\n",
       "<p>261 rows × 4 columns</p>\n",
       "</div>"
      ],
      "text/plain": [
       "                  AA        GE       IBM      MSFT\n",
       "date                                              \n",
       "1990-02-28 -1.288710 -1.418216 -1.172091 -1.508003\n",
       "1990-03-31 -1.255604 -1.409703 -1.155745 -1.501460\n",
       "1990-04-30 -1.278598 -1.402754 -1.148573 -1.497498\n",
       "1990-05-31 -1.264343 -1.391229 -1.116268 -1.489040\n",
       "1990-06-30 -1.251783 -1.380342 -1.096900 -1.480837\n",
       "...              ...       ...       ...       ...\n",
       "2011-06-30 -0.213580  0.032714  2.336573  0.657461\n",
       "2011-07-31 -0.186770  0.052048  2.654514  0.885148\n",
       "2011-08-31 -0.529118 -0.194660  2.439593  0.750245\n",
       "2011-09-30 -0.647991 -0.224871  2.464671  0.809557\n",
       "2011-10-31 -0.796747 -0.208138  2.754710  0.846075\n",
       "\n",
       "[261 rows x 4 columns]"
      ]
     },
     "execution_count": 153,
     "metadata": {},
     "output_type": "execute_result"
    }
   ],
   "source": [
    "new_df"
   ]
  },
  {
   "cell_type": "code",
   "execution_count": 129,
   "metadata": {},
   "outputs": [
    {
     "data": {
      "text/plain": [
       "<AxesSubplot:xlabel='date'>"
      ]
     },
     "execution_count": 129,
     "metadata": {},
     "output_type": "execute_result"
    },
    {
     "data": {
      "image/png": "[encoded data removed]",
      "text/plain": [
       "<Figure size 432x288 with 1 Axes>"
      ]
     },
     "metadata": {
      "needs_background": "light"
     },
     "output_type": "display_data"
    }
   ],
   "source": [
    "new_df.plot()"
   ]
  },
  {
   "cell_type": "markdown",
   "metadata": {},
   "source": [
    "**Delta calculation**: The winner, as the picture suggests, is IBM."
   ]
  },
  {
   "cell_type": "code",
   "execution_count": 130,
   "metadata": {},
   "outputs": [
    {
     "data": {
      "text/plain": [
       "AA      0.491963\n",
       "GE      1.210078\n",
       "IBM     3.926800\n",
       "MSFT    2.354078\n",
       "dtype: float64"
      ]
     },
     "execution_count": 130,
     "metadata": {},
     "output_type": "execute_result"
    }
   ],
   "source": [
    "# (Values on last day) - (Values on first day)\n",
    "(new_df.iloc[-1] - new_df.iloc[0])"
   ]
  },
  {
   "cell_type": "markdown",
   "metadata": {},
   "source": [
    "Of course it always matters what time period you choose: Same steps as above over different time period.\n",
    "\n",
    "Different answer for what the best stock is and different evaluation of IBM."
   ]
  },
  {
   "cell_type": "code",
   "execution_count": 140,
   "metadata": {},
   "outputs": [],
   "source": [
    "time3 = time2[time2.index.year < 2008][['AA','GE','IBM','MSFT']]\n",
    "month_groups3=time3.resample('M')\n",
    "df3 = month_groups3.mean()\n",
    "mn3,std3 = df3.mean(),df3.std()\n",
    "# centering (the numerator)  & scaling (the denominator)\n",
    "new_df3=(df3-mn3)/std3"
   ]
  },
  {
   "cell_type": "markdown",
   "metadata": {},
   "source": [
    "Revised plot."
   ]
  },
  {
   "cell_type": "code",
   "execution_count": 141,
   "metadata": {},
   "outputs": [
    {
     "data": {
      "text/plain": [
       "<AxesSubplot:xlabel='date'>"
      ]
     },
     "execution_count": 141,
     "metadata": {},
     "output_type": "execute_result"
    },
    {
     "data": {
      "image/png": "[encoded data removed]",
      "text/plain": [
       "<Figure size 432x288 with 1 Axes>"
      ]
     },
     "metadata": {
      "needs_background": "light"
     },
     "output_type": "display_data"
    }
   ],
   "source": [
    "new_df3.plot()"
   ]
  },
  {
   "cell_type": "markdown",
   "metadata": {},
   "source": [
    "Revised delta calculation (IBM in last place!):"
   ]
  },
  {
   "cell_type": "code",
   "execution_count": 143,
   "metadata": {
    "scrolled": true
   },
   "outputs": [
    {
     "data": {
      "text/plain": [
       "AA      2.892419\n",
       "MSFT    2.792529\n",
       "GE      2.507379\n",
       "IBM     2.496016\n",
       "dtype: float64"
      ]
     },
     "execution_count": 143,
     "metadata": {},
     "output_type": "execute_result"
    }
   ],
   "source": [
    "(new_df3.iloc[-1] - new_df3.iloc[0]).sort_values(ascending=False)"
   ]
  },
  {
   "cell_type": "markdown",
   "metadata": {},
   "source": [
    "## Introducing Merging\n",
    "\n",
    "In this section we introduce `pandas` merging function, which merges the data\n",
    "in two different DataFrames into one DataFrame.  \n",
    "\n",
    "We will look at an example that illustrates the simplest case, the\n",
    "case where the indexes of the two DatFrames agree.\n",
    "The operation is very much like the following operation in\n",
    "`numpy`:"
   ]
  },
  {
   "cell_type": "code",
   "execution_count": 74,
   "metadata": {},
   "outputs": [
    {
     "name": "stdout",
     "output_type": "stream",
     "text": [
      "[[1. 1. 1. 1.]\n",
      " [0. 0. 0. 0.]\n",
      " [1. 1. 1. 1.]]\n",
      "[[0. 0. 0. 0. 0.]\n",
      " [1. 1. 1. 1. 1.]\n",
      " [0. 0. 0. 0. 0.]]\n"
     ]
    },
    {
     "data": {
      "text/plain": [
       "array([[1., 1., 1., 1., 0., 0., 0., 0., 0.],\n",
       "       [0., 0., 0., 0., 1., 1., 1., 1., 1.],\n",
       "       [1., 1., 1., 1., 0., 0., 0., 0., 0.]])"
      ]
     },
     "execution_count": 74,
     "metadata": {},
     "output_type": "execute_result"
    }
   ],
   "source": [
    "import numpy as np\n",
    "## Prepare a1\n",
    "a1 = np.ones((3,4))\n",
    "a1[1] =np.zeros(4,)\n",
    "print(a1)\n",
    "## Prepare a2\n",
    "a2 = np.zeros((3,5))\n",
    "a2[1] = np.ones((5,))\n",
    "print(a2)\n",
    "# Merge\n",
    "np.concatenate([a1,a2],axis=1)"
   ]
  },
  {
   "cell_type": "markdown",
   "metadata": {},
   "source": [
    "We concatenate the rows of the first array with the row sof the second, ending up with \n",
    "a new array with 9 columns.\n",
    "\n",
    "The pandas merge operation will be very\n",
    "similar, except that in pandas merging, the order of the rows won't matter.  The indexes of the\n",
    "two DataFrames are used to align the rows."
   ]
  },
  {
   "cell_type": "markdown",
   "metadata": {},
   "source": [
    "We begin by loading the first of our two DataFrames, which contains LifeSatisfaction data\n",
    "on many countries."
   ]
  },
  {
   "cell_type": "code",
   "execution_count": 14,
   "metadata": {
    "colab": {
     "base_uri": "https://localhost:8080/"
    },
    "id": "M36pF1eAWSxn",
    "outputId": "6c605cde-28a4-42e6-c987-d77675f32e75"
   },
   "outputs": [],
   "source": [
    "import pandas as pd\n",
    "import importlib.util\n",
    "import os.path\n",
    "#from google.colab import drive\n",
    "\n",
    "notebook_lifesat_url0 = 'https://gawron.sdsu.edu/python_for_ss/course_core/book_draft/_static/'\n",
    "oecd_file = 'oecd_bli_2015.csv'\n",
    "oecd_url= f'{notebook_lifesat_url0}{oecd_file}'\n",
    "# Clean up some number formatting issues '1,000' => 1000\n",
    "# Unicode characters that can only be interpreted with an encoding\n",
    "oecd_bli = pd.read_csv(oecd_url, thousands=',',encoding='utf-8')\n",
    "# Focus on a subset of of the daty\n",
    "oecd_bli = oecd_bli[oecd_bli[\"INEQUALITY\"]==\"TOT\"]"
   ]
  },
  {
   "cell_type": "markdown",
   "metadata": {
    "id": "LeXk0StWrZGY"
   },
   "source": [
    "This table contains economic and social statistics for people in a number of countries.  The `INEQUALITY` attribute contains statistics for subpopulations like low/high income, men/women.  Since we won't be looking at those sub-populations in this section, the first step after reading in the data is to reduce the table to those \n",
    "rows containing statistics about the total population.\n",
    "\n",
    "The data in this big table is stored in an interesting and very popular format. Let's understand that \n",
    "before moving on.  First there are facts about 36 distinct countries.  One of the names in the `Country`\n",
    "column  (`OECD - Total`) is a label under which totals for all the countries will be aggregated."
   ]
  },
  {
   "cell_type": "code",
   "execution_count": 17,
   "metadata": {
    "colab": {
     "base_uri": "https://localhost:8080/"
    },
    "id": "HTURonP-rZGY",
    "outputId": "564b078c-1f70-4771-f61f-29a3c1028435"
   },
   "outputs": [
    {
     "name": "stdout",
     "output_type": "stream",
     "text": [
      "37 countries in data\n",
      "['Australia' 'Austria' 'Belgium' 'Canada' 'Czech Republic' 'Denmark'\n",
      " 'Finland' 'France' 'Germany' 'Greece' 'Hungary' 'Iceland' 'Ireland'\n",
      " 'Italy' 'Japan' 'Korea' 'Luxembourg' 'Mexico' 'Netherlands' 'New Zealand'\n",
      " 'Norway' 'Poland' 'Portugal' 'Slovak Republic' 'Spain' 'Sweden'\n",
      " 'Switzerland' 'Turkey' 'United Kingdom' 'United States' 'Brazil' 'Chile'\n",
      " 'Estonia' 'Israel' 'Russia' 'Slovenia' 'OECD - Total']\n"
     ]
    }
   ],
   "source": [
    "countries = oecd_bli['Country'].unique()\n",
    "print(f'{len(countries)} countries in data')\n",
    "print (countries)"
   ]
  },
  {
   "cell_type": "markdown",
   "metadata": {
    "id": "z964joNkrZGb"
   },
   "source": [
    "The cell below shows what happens when we zoom in on one country, Poland.  The table contains a number of rows with information about Poland, each with a different value in the  `Indicator` column.  That is the name of some statistic about Poland.  The numerical value for that statistic is in the `Value` column and the unit for that statistic and the unit is in the `UNIT CODE` (or `Unit`) column.  So the first row printed out tells us that 3.2% of all households in Poland are dwellings without basic facilities, an indicator of substantial poverty."
   ]
  },
  {
   "cell_type": "code",
   "execution_count": 19,
   "metadata": {
    "colab": {
     "base_uri": "https://localhost:8080/",
     "height": 1000
    },
    "id": "NMmx4xQBrZGb",
    "outputId": "d71806f2-3840-448d-cee7-6cac0b4b435e",
    "scrolled": true
   },
   "outputs": [
    {
     "data": {
      "text/html": [
       "<div>\n",
       "<style scoped>\n",
       "    .dataframe tbody tr th:only-of-type {\n",
       "        vertical-align: middle;\n",
       "    }\n",
       "\n",
       "    .dataframe tbody tr th {\n",
       "        vertical-align: top;\n",
       "    }\n",
       "\n",
       "    .dataframe thead th {\n",
       "        text-align: right;\n",
       "    }\n",
       "</style>\n",
       "<table border=\"1\" class=\"dataframe\">\n",
       "  <thead>\n",
       "    <tr style=\"text-align: right;\">\n",
       "      <th></th>\n",
       "      <th>LOCATION</th>\n",
       "      <th>Country</th>\n",
       "      <th>INDICATOR</th>\n",
       "      <th>Indicator</th>\n",
       "      <th>MEASURE</th>\n",
       "      <th>Measure</th>\n",
       "      <th>INEQUALITY</th>\n",
       "      <th>Inequality</th>\n",
       "      <th>Unit Code</th>\n",
       "      <th>Unit</th>\n",
       "      <th>PowerCode Code</th>\n",
       "      <th>PowerCode</th>\n",
       "    </tr>\n",
       "  </thead>\n",
       "  <tbody>\n",
       "    <tr>\n",
       "      <th>21</th>\n",
       "      <td>POL</td>\n",
       "      <td>Poland</td>\n",
       "      <td>HO_BASE</td>\n",
       "      <td>Dwellings without basic facilities</td>\n",
       "      <td>L</td>\n",
       "      <td>Value</td>\n",
       "      <td>TOT</td>\n",
       "      <td>Total</td>\n",
       "      <td>PC</td>\n",
       "      <td>Percentage</td>\n",
       "      <td>0</td>\n",
       "      <td>units</td>\n",
       "    </tr>\n",
       "    <tr>\n",
       "      <th>130</th>\n",
       "      <td>POL</td>\n",
       "      <td>Poland</td>\n",
       "      <td>HO_HISH</td>\n",
       "      <td>Housing expenditure</td>\n",
       "      <td>L</td>\n",
       "      <td>Value</td>\n",
       "      <td>TOT</td>\n",
       "      <td>Total</td>\n",
       "      <td>PC</td>\n",
       "      <td>Percentage</td>\n",
       "      <td>0</td>\n",
       "      <td>units</td>\n",
       "    </tr>\n",
       "    <tr>\n",
       "      <th>239</th>\n",
       "      <td>POL</td>\n",
       "      <td>Poland</td>\n",
       "      <td>HO_NUMR</td>\n",
       "      <td>Rooms per person</td>\n",
       "      <td>L</td>\n",
       "      <td>Value</td>\n",
       "      <td>TOT</td>\n",
       "      <td>Total</td>\n",
       "      <td>RATIO</td>\n",
       "      <td>Ratio</td>\n",
       "      <td>0</td>\n",
       "      <td>units</td>\n",
       "    </tr>\n",
       "    <tr>\n",
       "      <th>348</th>\n",
       "      <td>POL</td>\n",
       "      <td>Poland</td>\n",
       "      <td>IW_HADI</td>\n",
       "      <td>Household net adjusted disposable income</td>\n",
       "      <td>L</td>\n",
       "      <td>Value</td>\n",
       "      <td>TOT</td>\n",
       "      <td>Total</td>\n",
       "      <td>USD</td>\n",
       "      <td>US Dollar</td>\n",
       "      <td>0</td>\n",
       "      <td>units</td>\n",
       "    </tr>\n",
       "    <tr>\n",
       "      <th>531</th>\n",
       "      <td>POL</td>\n",
       "      <td>Poland</td>\n",
       "      <td>IW_HNFW</td>\n",
       "      <td>Household net financial wealth</td>\n",
       "      <td>L</td>\n",
       "      <td>Value</td>\n",
       "      <td>TOT</td>\n",
       "      <td>Total</td>\n",
       "      <td>USD</td>\n",
       "      <td>US Dollar</td>\n",
       "      <td>0</td>\n",
       "      <td>units</td>\n",
       "    </tr>\n",
       "    <tr>\n",
       "      <th>640</th>\n",
       "      <td>POL</td>\n",
       "      <td>Poland</td>\n",
       "      <td>JE_EMPL</td>\n",
       "      <td>Employment rate</td>\n",
       "      <td>L</td>\n",
       "      <td>Value</td>\n",
       "      <td>TOT</td>\n",
       "      <td>Total</td>\n",
       "      <td>PC</td>\n",
       "      <td>Percentage</td>\n",
       "      <td>0</td>\n",
       "      <td>units</td>\n",
       "    </tr>\n",
       "    <tr>\n",
       "      <th>825</th>\n",
       "      <td>POL</td>\n",
       "      <td>Poland</td>\n",
       "      <td>JE_JT</td>\n",
       "      <td>Job security</td>\n",
       "      <td>L</td>\n",
       "      <td>Value</td>\n",
       "      <td>TOT</td>\n",
       "      <td>Total</td>\n",
       "      <td>PC</td>\n",
       "      <td>Percentage</td>\n",
       "      <td>0</td>\n",
       "      <td>units</td>\n",
       "    </tr>\n",
       "    <tr>\n",
       "      <th>936</th>\n",
       "      <td>POL</td>\n",
       "      <td>Poland</td>\n",
       "      <td>JE_LTUR</td>\n",
       "      <td>Long-term unemployment rate</td>\n",
       "      <td>L</td>\n",
       "      <td>Value</td>\n",
       "      <td>TOT</td>\n",
       "      <td>Total</td>\n",
       "      <td>PC</td>\n",
       "      <td>Percentage</td>\n",
       "      <td>0</td>\n",
       "      <td>units</td>\n",
       "    </tr>\n",
       "    <tr>\n",
       "      <th>1121</th>\n",
       "      <td>POL</td>\n",
       "      <td>Poland</td>\n",
       "      <td>JE_PEARN</td>\n",
       "      <td>Personal earnings</td>\n",
       "      <td>L</td>\n",
       "      <td>Value</td>\n",
       "      <td>TOT</td>\n",
       "      <td>Total</td>\n",
       "      <td>USD</td>\n",
       "      <td>US Dollar</td>\n",
       "      <td>0</td>\n",
       "      <td>units</td>\n",
       "    </tr>\n",
       "    <tr>\n",
       "      <th>1306</th>\n",
       "      <td>POL</td>\n",
       "      <td>Poland</td>\n",
       "      <td>SC_SNTWS</td>\n",
       "      <td>Quality of support network</td>\n",
       "      <td>L</td>\n",
       "      <td>Value</td>\n",
       "      <td>TOT</td>\n",
       "      <td>Total</td>\n",
       "      <td>PC</td>\n",
       "      <td>Percentage</td>\n",
       "      <td>0</td>\n",
       "      <td>units</td>\n",
       "    </tr>\n",
       "    <tr>\n",
       "      <th>1473</th>\n",
       "      <td>POL</td>\n",
       "      <td>Poland</td>\n",
       "      <td>ES_EDUA</td>\n",
       "      <td>Educational attainment</td>\n",
       "      <td>L</td>\n",
       "      <td>Value</td>\n",
       "      <td>TOT</td>\n",
       "      <td>Total</td>\n",
       "      <td>PC</td>\n",
       "      <td>Percentage</td>\n",
       "      <td>0</td>\n",
       "      <td>units</td>\n",
       "    </tr>\n",
       "    <tr>\n",
       "      <th>1584</th>\n",
       "      <td>POL</td>\n",
       "      <td>Poland</td>\n",
       "      <td>ES_STCS</td>\n",
       "      <td>Student skills</td>\n",
       "      <td>L</td>\n",
       "      <td>Value</td>\n",
       "      <td>TOT</td>\n",
       "      <td>Total</td>\n",
       "      <td>AVSCORE</td>\n",
       "      <td>Average score</td>\n",
       "      <td>0</td>\n",
       "      <td>units</td>\n",
       "    </tr>\n",
       "    <tr>\n",
       "      <th>1769</th>\n",
       "      <td>POL</td>\n",
       "      <td>Poland</td>\n",
       "      <td>ES_EDUEX</td>\n",
       "      <td>Years in education</td>\n",
       "      <td>L</td>\n",
       "      <td>Value</td>\n",
       "      <td>TOT</td>\n",
       "      <td>Total</td>\n",
       "      <td>YR</td>\n",
       "      <td>Years</td>\n",
       "      <td>0</td>\n",
       "      <td>units</td>\n",
       "    </tr>\n",
       "    <tr>\n",
       "      <th>1880</th>\n",
       "      <td>POL</td>\n",
       "      <td>Poland</td>\n",
       "      <td>EQ_AIRP</td>\n",
       "      <td>Air pollution</td>\n",
       "      <td>L</td>\n",
       "      <td>Value</td>\n",
       "      <td>TOT</td>\n",
       "      <td>Total</td>\n",
       "      <td>MICRO_M3</td>\n",
       "      <td>Micrograms per cubic metre</td>\n",
       "      <td>0</td>\n",
       "      <td>units</td>\n",
       "    </tr>\n",
       "    <tr>\n",
       "      <th>1989</th>\n",
       "      <td>POL</td>\n",
       "      <td>Poland</td>\n",
       "      <td>EQ_WATER</td>\n",
       "      <td>Water quality</td>\n",
       "      <td>L</td>\n",
       "      <td>Value</td>\n",
       "      <td>TOT</td>\n",
       "      <td>Total</td>\n",
       "      <td>PC</td>\n",
       "      <td>Percentage</td>\n",
       "      <td>0</td>\n",
       "      <td>units</td>\n",
       "    </tr>\n",
       "    <tr>\n",
       "      <th>2100</th>\n",
       "      <td>POL</td>\n",
       "      <td>Poland</td>\n",
       "      <td>CG_TRASG</td>\n",
       "      <td>Consultation on rule-making</td>\n",
       "      <td>L</td>\n",
       "      <td>Value</td>\n",
       "      <td>TOT</td>\n",
       "      <td>Total</td>\n",
       "      <td>AVSCORE</td>\n",
       "      <td>Average score</td>\n",
       "      <td>0</td>\n",
       "      <td>units</td>\n",
       "    </tr>\n",
       "    <tr>\n",
       "      <th>2209</th>\n",
       "      <td>POL</td>\n",
       "      <td>Poland</td>\n",
       "      <td>CG_VOTO</td>\n",
       "      <td>Voter turnout</td>\n",
       "      <td>L</td>\n",
       "      <td>Value</td>\n",
       "      <td>TOT</td>\n",
       "      <td>Total</td>\n",
       "      <td>PC</td>\n",
       "      <td>Percentage</td>\n",
       "      <td>0</td>\n",
       "      <td>units</td>\n",
       "    </tr>\n",
       "    <tr>\n",
       "      <th>2394</th>\n",
       "      <td>POL</td>\n",
       "      <td>Poland</td>\n",
       "      <td>HS_LEB</td>\n",
       "      <td>Life expectancy</td>\n",
       "      <td>L</td>\n",
       "      <td>Value</td>\n",
       "      <td>TOT</td>\n",
       "      <td>Total</td>\n",
       "      <td>YR</td>\n",
       "      <td>Years</td>\n",
       "      <td>0</td>\n",
       "      <td>units</td>\n",
       "    </tr>\n",
       "    <tr>\n",
       "      <th>2505</th>\n",
       "      <td>POL</td>\n",
       "      <td>Poland</td>\n",
       "      <td>HS_SFRH</td>\n",
       "      <td>Self-reported health</td>\n",
       "      <td>L</td>\n",
       "      <td>Value</td>\n",
       "      <td>TOT</td>\n",
       "      <td>Total</td>\n",
       "      <td>PC</td>\n",
       "      <td>Percentage</td>\n",
       "      <td>0</td>\n",
       "      <td>units</td>\n",
       "    </tr>\n",
       "    <tr>\n",
       "      <th>2690</th>\n",
       "      <td>POL</td>\n",
       "      <td>Poland</td>\n",
       "      <td>SW_LIFS</td>\n",
       "      <td>Life satisfaction</td>\n",
       "      <td>L</td>\n",
       "      <td>Value</td>\n",
       "      <td>TOT</td>\n",
       "      <td>Total</td>\n",
       "      <td>AVSCORE</td>\n",
       "      <td>Average score</td>\n",
       "      <td>0</td>\n",
       "      <td>units</td>\n",
       "    </tr>\n",
       "    <tr>\n",
       "      <th>2869</th>\n",
       "      <td>POL</td>\n",
       "      <td>Poland</td>\n",
       "      <td>PS_SFRV</td>\n",
       "      <td>Assault rate</td>\n",
       "      <td>L</td>\n",
       "      <td>Value</td>\n",
       "      <td>TOT</td>\n",
       "      <td>Total</td>\n",
       "      <td>PC</td>\n",
       "      <td>Percentage</td>\n",
       "      <td>0</td>\n",
       "      <td>units</td>\n",
       "    </tr>\n",
       "    <tr>\n",
       "      <th>2980</th>\n",
       "      <td>POL</td>\n",
       "      <td>Poland</td>\n",
       "      <td>PS_REPH</td>\n",
       "      <td>Homicide rate</td>\n",
       "      <td>L</td>\n",
       "      <td>Value</td>\n",
       "      <td>TOT</td>\n",
       "      <td>Total</td>\n",
       "      <td>RATIO</td>\n",
       "      <td>Ratio</td>\n",
       "      <td>0</td>\n",
       "      <td>units</td>\n",
       "    </tr>\n",
       "    <tr>\n",
       "      <th>3091</th>\n",
       "      <td>POL</td>\n",
       "      <td>Poland</td>\n",
       "      <td>WL_EWLH</td>\n",
       "      <td>Employees working very long hours</td>\n",
       "      <td>L</td>\n",
       "      <td>Value</td>\n",
       "      <td>TOT</td>\n",
       "      <td>Total</td>\n",
       "      <td>PC</td>\n",
       "      <td>Percentage</td>\n",
       "      <td>0</td>\n",
       "      <td>units</td>\n",
       "    </tr>\n",
       "    <tr>\n",
       "      <th>3202</th>\n",
       "      <td>POL</td>\n",
       "      <td>Poland</td>\n",
       "      <td>WL_TNOW</td>\n",
       "      <td>Time devoted to leisure and personal care</td>\n",
       "      <td>L</td>\n",
       "      <td>Value</td>\n",
       "      <td>TOT</td>\n",
       "      <td>Total</td>\n",
       "      <td>HOUR</td>\n",
       "      <td>Hours</td>\n",
       "      <td>0</td>\n",
       "      <td>units</td>\n",
       "    </tr>\n",
       "  </tbody>\n",
       "</table>\n",
       "</div>"
      ],
      "text/plain": [
       "     LOCATION Country INDICATOR                                  Indicator  \\\n",
       "21        POL  Poland   HO_BASE         Dwellings without basic facilities   \n",
       "130       POL  Poland   HO_HISH                        Housing expenditure   \n",
       "239       POL  Poland   HO_NUMR                           Rooms per person   \n",
       "348       POL  Poland   IW_HADI   Household net adjusted disposable income   \n",
       "531       POL  Poland   IW_HNFW             Household net financial wealth   \n",
       "640       POL  Poland   JE_EMPL                            Employment rate   \n",
       "825       POL  Poland     JE_JT                               Job security   \n",
       "936       POL  Poland   JE_LTUR                Long-term unemployment rate   \n",
       "1121      POL  Poland  JE_PEARN                          Personal earnings   \n",
       "1306      POL  Poland  SC_SNTWS                 Quality of support network   \n",
       "1473      POL  Poland   ES_EDUA                     Educational attainment   \n",
       "1584      POL  Poland   ES_STCS                             Student skills   \n",
       "1769      POL  Poland  ES_EDUEX                         Years in education   \n",
       "1880      POL  Poland   EQ_AIRP                              Air pollution   \n",
       "1989      POL  Poland  EQ_WATER                              Water quality   \n",
       "2100      POL  Poland  CG_TRASG                Consultation on rule-making   \n",
       "2209      POL  Poland   CG_VOTO                              Voter turnout   \n",
       "2394      POL  Poland    HS_LEB                            Life expectancy   \n",
       "2505      POL  Poland   HS_SFRH                       Self-reported health   \n",
       "2690      POL  Poland   SW_LIFS                          Life satisfaction   \n",
       "2869      POL  Poland   PS_SFRV                               Assault rate   \n",
       "2980      POL  Poland   PS_REPH                              Homicide rate   \n",
       "3091      POL  Poland   WL_EWLH          Employees working very long hours   \n",
       "3202      POL  Poland   WL_TNOW  Time devoted to leisure and personal care   \n",
       "\n",
       "     MEASURE Measure INEQUALITY Inequality Unit Code  \\\n",
       "21         L   Value        TOT      Total        PC   \n",
       "130        L   Value        TOT      Total        PC   \n",
       "239        L   Value        TOT      Total     RATIO   \n",
       "348        L   Value        TOT      Total       USD   \n",
       "531        L   Value        TOT      Total       USD   \n",
       "640        L   Value        TOT      Total        PC   \n",
       "825        L   Value        TOT      Total        PC   \n",
       "936        L   Value        TOT      Total        PC   \n",
       "1121       L   Value        TOT      Total       USD   \n",
       "1306       L   Value        TOT      Total        PC   \n",
       "1473       L   Value        TOT      Total        PC   \n",
       "1584       L   Value        TOT      Total   AVSCORE   \n",
       "1769       L   Value        TOT      Total        YR   \n",
       "1880       L   Value        TOT      Total  MICRO_M3   \n",
       "1989       L   Value        TOT      Total        PC   \n",
       "2100       L   Value        TOT      Total   AVSCORE   \n",
       "2209       L   Value        TOT      Total        PC   \n",
       "2394       L   Value        TOT      Total        YR   \n",
       "2505       L   Value        TOT      Total        PC   \n",
       "2690       L   Value        TOT      Total   AVSCORE   \n",
       "2869       L   Value        TOT      Total        PC   \n",
       "2980       L   Value        TOT      Total     RATIO   \n",
       "3091       L   Value        TOT      Total        PC   \n",
       "3202       L   Value        TOT      Total      HOUR   \n",
       "\n",
       "                            Unit  PowerCode Code PowerCode  \n",
       "21                    Percentage               0     units  \n",
       "130                   Percentage               0     units  \n",
       "239                        Ratio               0     units  \n",
       "348                    US Dollar               0     units  \n",
       "531                    US Dollar               0     units  \n",
       "640                   Percentage               0     units  \n",
       "825                   Percentage               0     units  \n",
       "936                   Percentage               0     units  \n",
       "1121                   US Dollar               0     units  \n",
       "1306                  Percentage               0     units  \n",
       "1473                  Percentage               0     units  \n",
       "1584               Average score               0     units  \n",
       "1769                       Years               0     units  \n",
       "1880  Micrograms per cubic metre               0     units  \n",
       "1989                  Percentage               0     units  \n",
       "2100               Average score               0     units  \n",
       "2209                  Percentage               0     units  \n",
       "2394                       Years               0     units  \n",
       "2505                  Percentage               0     units  \n",
       "2690               Average score               0     units  \n",
       "2869                  Percentage               0     units  \n",
       "2980                       Ratio               0     units  \n",
       "3091                  Percentage               0     units  \n",
       "3202                       Hours               0     units  "
      ]
     },
     "execution_count": 19,
     "metadata": {},
     "output_type": "execute_result"
    }
   ],
   "source": [
    "pol = oecd_bli[oecd_bli[\"Country\"]==\"Poland\"]\n",
    "pol.iloc[:,:12]\n"
   ]
  },
  {
   "cell_type": "markdown",
   "metadata": {
    "id": "jIVxuClxrZGe"
   },
   "source": [
    "We can use the `pivot` method to recast the data into a much easier to grasp format.  The key point is that each country and INDICATOR determines a specific value.  So let's have one row for each country with one column for each `INDICATOR`, and in that column we'll place the `VALUE` associated with that country and that indicator.  It's as easy as this:"
   ]
  },
  {
   "cell_type": "code",
   "execution_count": 53,
   "metadata": {
    "scrolled": true
   },
   "outputs": [
    {
     "data": {
      "text/plain": [
       "Indicator\n",
       "Air pollution                                   33.00\n",
       "Assault rate                                     1.40\n",
       "Consultation on rule-making                     10.80\n",
       "Dwellings without basic facilities               3.20\n",
       "Educational attainment                          90.00\n",
       "Employees working very long hours                7.41\n",
       "Employment rate                                 60.00\n",
       "Homicide rate                                    0.90\n",
       "Household net adjusted disposable income     17852.00\n",
       "Household net financial wealth               10919.00\n",
       "Housing expenditure                             21.00\n",
       "Job security                                     7.30\n",
       "Life expectancy                                 76.90\n",
       "Life satisfaction                                5.80\n",
       "Long-term unemployment rate                      3.77\n",
       "Personal earnings                            22655.00\n",
       "Quality of support network                      91.00\n",
       "Rooms per person                                 1.10\n",
       "Self-reported health                            58.00\n",
       "Student skills                                 521.00\n",
       "Time devoted to leisure and personal care       14.20\n",
       "Voter turnout                                   55.00\n",
       "Water quality                                   79.00\n",
       "Years in education                              18.40\n",
       "Name: Poland, dtype: float64"
      ]
     },
     "execution_count": 53,
     "metadata": {},
     "output_type": "execute_result"
    }
   ],
   "source": [
    "oecd_bli_pt = oecd_bli.pivot_table(index=\"Country\", columns=\"Indicator\", values=\"Value\")\n",
    "# Looking at one row\n",
    "oecd_bli_pt.loc['Poland']"
   ]
  },
  {
   "cell_type": "markdown",
   "metadata": {},
   "source": [
    "Looking back to compare one value in the original DF, with the derived data in the pivot:"
   ]
  },
  {
   "cell_type": "code",
   "execution_count": 55,
   "metadata": {},
   "outputs": [
    {
     "data": {
      "text/plain": [
       "825    7.3\n",
       "Name: Value, dtype: float64"
      ]
     },
     "execution_count": 55,
     "metadata": {},
     "output_type": "execute_result"
    }
   ],
   "source": [
    "poland = oecd_bli[oecd_bli['Country']=='Poland']\n",
    "poland[poland['Indicator']  == 'Job security']['Value']"
   ]
  },
  {
   "cell_type": "code",
   "execution_count": 56,
   "metadata": {},
   "outputs": [
    {
     "data": {
      "text/plain": [
       "7.3"
      ]
     },
     "execution_count": 56,
     "metadata": {},
     "output_type": "execute_result"
    }
   ],
   "source": [
    "oecd_bli_pt.loc['Poland'].loc['Job security']"
   ]
  },
  {
   "cell_type": "markdown",
   "metadata": {},
   "source": [
    "What is weird about what we just did with `pivot_table`?\n",
    "\n",
    "The example above is not an outlier.  For every country/indicator pair, the value in the `'Value'` column \n",
    "in the original DataFrame is\n",
    "exactly the same as the value in the corresponding row and column of the pivot table.\n",
    "It appears as if no aggregation operation has taken place!\n",
    "\n",
    "Actually appearances are deceiving.  What has happened is that in this particular data set\n",
    "all the row groups we get by pairing country and indicator are of size 1; the default\n",
    "aggregation operation is mean and when we take the mean of a single number we get that number back.\n",
    "\n",
    "So what is the point of creating a pivot table then?  The point is that we've\n",
    "restructured the data into a more comprehensible  \n",
    "(and more easily manipulated) format;  and that is one of\n",
    "the most important uses of the pivot table operation.  Sometimes we want to collapse\n",
    "multiple rows into one just because the data is easier to work with that way.\n",
    "Compare the original DataFrame with the pivot table and see if you don't \n",
    "agree that this data set is a case in point."
   ]
  },
  {
   "cell_type": "markdown",
   "metadata": {},
   "source": [
    "## A column of particular interest"
   ]
  },
  {
   "cell_type": "markdown",
   "metadata": {
    "id": "JmIPaP2zrZGh"
   },
   "source": [
    "In future exercises with this data, we're going to take particular interest in the `Life satisfaction` score,  a kind of general \"quality of life\" or \"happiness\" score computed from a formula combining the indicators in this data. \n",
    "\n",
    "That is, it is a value computed from the other values in the same row.  In a regression\n",
    "context, we would think of this as the dependent variable, the variable whose value\n",
    "we try to compute as some function of the others."
   ]
  },
  {
   "cell_type": "code",
   "execution_count": 58,
   "metadata": {
    "colab": {
     "base_uri": "https://localhost:8080/"
    },
    "id": "pADxSwbZrZGi",
    "outputId": "091f4297-6069-498f-d35e-1fd834cfb8fe"
   },
   "outputs": [
    {
     "data": {
      "text/plain": [
       "Country\n",
       "Australia    7.3\n",
       "Austria      6.9\n",
       "Belgium      6.9\n",
       "Brazil       7.0\n",
       "Canada       7.3\n",
       "Name: Life satisfaction, dtype: float64"
      ]
     },
     "execution_count": 58,
     "metadata": {},
     "output_type": "execute_result"
    }
   ],
   "source": [
    "oecd_bli_pt[\"Life satisfaction\"].head()"
   ]
  },
  {
   "cell_type": "markdown",
   "metadata": {
    "id": "BQbyiGUerZGk"
   },
   "source": [
    "# Load and prepare GDP per capita data"
   ]
  },
  {
   "cell_type": "markdown",
   "metadata": {
    "id": "ze94_XGQrZGl"
   },
   "source": [
    "Elsewhere, on the world wide web, with help from Google, we find data about GDP  (\"gross domestic product\")\n",
    "[here](http://goo.gl/j1MSKe).\n",
    "\n",
    "This is the second of the two DatFrames we will merge.\n",
    "\n",
    "This is a very simple data frame with columns containing various\n",
    "useful country-specific pieces of information.  Since there is one row per\n",
    "country, we have made the `'Country`' column the index."
   ]
  },
  {
   "cell_type": "code",
   "execution_count": 59,
   "metadata": {
    "colab": {
     "base_uri": "https://localhost:8080/"
    },
    "id": "BhSIHdI-rZGl",
    "outputId": "459a939e-d7ca-4486-92a9-157eae2f8775"
   },
   "outputs": [
    {
     "data": {
      "text/plain": [
       "Index(['Afghanistan', 'Albania', 'Algeria', 'Angola', 'Antigua and Barbuda', 'Argentina', 'Armenia', 'Australia', 'Austria', 'Azerbaijan',\n",
       "       ...\n",
       "       'United States', 'Uruguay', 'Uzbekistan', 'Vanuatu', 'Venezuela', 'Vietnam', 'Yemen', 'Zambia', 'Zimbabwe', 'International Monetary Fund, World Economic Outlook Database, April 2016'], dtype='object', name='Country', length=190)"
      ]
     },
     "execution_count": 59,
     "metadata": {},
     "output_type": "execute_result"
    }
   ],
   "source": [
    "\n",
    "# Downloaded data from http://goo.gl/j1MSKe (=> imf.org) to github\n",
    "gdp_file = \"gdp_per_capita.csv\"\n",
    "gdp_url = f'{notebook_lifesat_url0}{gdp_file}'\n",
    "gdp_per_capita = pd.read_csv(gdp_url, thousands=',', delimiter='\\t',\n",
    "                             encoding='latin1', na_values=\"n/a\")\n",
    "gdp_per_capita.rename(columns={\"2015\": \"GDP per capita\"}, inplace=True)\n",
    "# Make \"Country\" the index column.  We are going to merge data on this column.\n",
    "gdp_per_capita.set_index(\"Country\", inplace=True)\n",
    "#gdp_per_capita.head(2)\n",
    "gdp_per_capita.index"
   ]
  },
  {
   "cell_type": "markdown",
   "metadata": {},
   "source": [
    "Note that this lines up reasonably well with the index of the pivot table we created above."
   ]
  },
  {
   "cell_type": "code",
   "execution_count": 19,
   "metadata": {
    "colab": {
     "base_uri": "https://localhost:8080/"
    },
    "id": "mXu2LJ_KFQ5U",
    "outputId": "234ce94d-59d5-40cf-eaa3-20680df2dc2d"
   },
   "outputs": [
    {
     "data": {
      "text/plain": [
       "Index(['Australia', 'Austria', 'Belgium', 'Brazil', 'Canada', 'Chile',\n",
       "       'Czech Republic', 'Denmark', 'Estonia', 'Finland', 'France', 'Germany',\n",
       "       'Greece', 'Hungary', 'Iceland', 'Ireland', 'Israel', 'Italy', 'Japan',\n",
       "       'Korea', 'Luxembourg', 'Mexico', 'Netherlands', 'New Zealand', 'Norway',\n",
       "       'OECD - Total', 'Poland', 'Portugal', 'Russia', 'Slovak Republic',\n",
       "       'Slovenia', 'Spain', 'Sweden', 'Switzerland', 'Turkey',\n",
       "       'United Kingdom', 'United States'],\n",
       "      dtype='object', name='Country')"
      ]
     },
     "execution_count": 19,
     "metadata": {},
     "output_type": "execute_result"
    }
   ],
   "source": [
    "oecd_bli_pt.index"
   ]
  },
  {
   "cell_type": "markdown",
   "metadata": {
    "id": "zzE6PYdOrZGn"
   },
   "source": [
    " We now engage in the great magic, the single most important operation by which information is created, the `merge`.\n",
    " We are going to take the quality of life data, which is indexed by country, and the GDP data, now also indexed\n",
    " by country, and  merge rows, producing one large table which contains all the rows and columns of the `oecd_bli` table,\n",
    " as well as a new `GDP per Capita` column."
   ]
  },
  {
   "cell_type": "code",
   "execution_count": 78,
   "metadata": {
    "colab": {
     "base_uri": "https://localhost:8080/"
    },
    "id": "2Ofntb5TrZGn",
    "outputId": "503de134-b0bc-421d-fc70-8ece025d7c5b",
    "scrolled": true
   },
   "outputs": [
    {
     "data": {
      "text/plain": [
       "(37, 190, 36)"
      ]
     },
     "execution_count": 78,
     "metadata": {},
     "output_type": "execute_result"
    }
   ],
   "source": [
    "full_country_stats = pd.merge(left=oecd_bli_pt, right=gdp_per_capita, left_index=True, right_index=True)\n",
    "full_country_stats.sort_values(by=\"GDP per capita\", inplace=True)\n",
    "len(oecd_bli_pt),len(gdp_per_capita),len(full_country_stats)"
   ]
  },
  {
   "cell_type": "markdown",
   "metadata": {},
   "source": [
    "Note that the gdp data cotained many rows not contained in the life satisfaction data index.  Those rows were\n",
    "ignored.\n",
    "\n",
    "We have a new DataFrame combining the columns of the two merged DataFrames:"
   ]
  },
  {
   "cell_type": "code",
   "execution_count": 79,
   "metadata": {},
   "outputs": [
    {
     "name": "stdout",
     "output_type": "stream",
     "text": [
      "24 6 30\n"
     ]
    },
    {
     "data": {
      "text/html": [
       "<div>\n",
       "<style scoped>\n",
       "    .dataframe tbody tr th:only-of-type {\n",
       "        vertical-align: middle;\n",
       "    }\n",
       "\n",
       "    .dataframe tbody tr th {\n",
       "        vertical-align: top;\n",
       "    }\n",
       "\n",
       "    .dataframe thead th {\n",
       "        text-align: right;\n",
       "    }\n",
       "</style>\n",
       "<table border=\"1\" class=\"dataframe\">\n",
       "  <thead>\n",
       "    <tr style=\"text-align: right;\">\n",
       "      <th></th>\n",
       "      <th>Air pollution</th>\n",
       "      <th>Assault rate</th>\n",
       "      <th>Consultation on rule-making</th>\n",
       "      <th>Dwellings without basic facilities</th>\n",
       "      <th>Educational attainment</th>\n",
       "      <th>Employees working very long hours</th>\n",
       "      <th>Employment rate</th>\n",
       "      <th>Homicide rate</th>\n",
       "      <th>Household net adjusted disposable income</th>\n",
       "      <th>Household net financial wealth</th>\n",
       "      <th>Housing expenditure</th>\n",
       "      <th>Job security</th>\n",
       "      <th>Life expectancy</th>\n",
       "      <th>Life satisfaction</th>\n",
       "      <th>Long-term unemployment rate</th>\n",
       "      <th>Personal earnings</th>\n",
       "      <th>Quality of support network</th>\n",
       "      <th>Rooms per person</th>\n",
       "      <th>Self-reported health</th>\n",
       "      <th>Student skills</th>\n",
       "      <th>Time devoted to leisure and personal care</th>\n",
       "      <th>Voter turnout</th>\n",
       "      <th>Water quality</th>\n",
       "      <th>Years in education</th>\n",
       "      <th>Subject Descriptor</th>\n",
       "      <th>Units</th>\n",
       "      <th>Scale</th>\n",
       "      <th>Country/Series-specific Notes</th>\n",
       "      <th>GDP per capita</th>\n",
       "      <th>Estimates Start After</th>\n",
       "    </tr>\n",
       "    <tr>\n",
       "      <th>Country</th>\n",
       "      <th></th>\n",
       "      <th></th>\n",
       "      <th></th>\n",
       "      <th></th>\n",
       "      <th></th>\n",
       "      <th></th>\n",
       "      <th></th>\n",
       "      <th></th>\n",
       "      <th></th>\n",
       "      <th></th>\n",
       "      <th></th>\n",
       "      <th></th>\n",
       "      <th></th>\n",
       "      <th></th>\n",
       "      <th></th>\n",
       "      <th></th>\n",
       "      <th></th>\n",
       "      <th></th>\n",
       "      <th></th>\n",
       "      <th></th>\n",
       "      <th></th>\n",
       "      <th></th>\n",
       "      <th></th>\n",
       "      <th></th>\n",
       "      <th></th>\n",
       "      <th></th>\n",
       "      <th></th>\n",
       "      <th></th>\n",
       "      <th></th>\n",
       "      <th></th>\n",
       "    </tr>\n",
       "  </thead>\n",
       "  <tbody>\n",
       "    <tr>\n",
       "      <th>Brazil</th>\n",
       "      <td>18.0</td>\n",
       "      <td>7.9</td>\n",
       "      <td>4.0</td>\n",
       "      <td>6.7</td>\n",
       "      <td>45.0</td>\n",
       "      <td>10.41</td>\n",
       "      <td>67.0</td>\n",
       "      <td>25.5</td>\n",
       "      <td>11664.0</td>\n",
       "      <td>6844.0</td>\n",
       "      <td>21.0</td>\n",
       "      <td>4.6</td>\n",
       "      <td>73.7</td>\n",
       "      <td>7.0</td>\n",
       "      <td>1.97</td>\n",
       "      <td>17177.0</td>\n",
       "      <td>90.0</td>\n",
       "      <td>1.6</td>\n",
       "      <td>69.0</td>\n",
       "      <td>402.0</td>\n",
       "      <td>14.97</td>\n",
       "      <td>79.0</td>\n",
       "      <td>72.0</td>\n",
       "      <td>16.3</td>\n",
       "      <td>Gross domestic product per capita, current prices</td>\n",
       "      <td>U.S. dollars</td>\n",
       "      <td>Units</td>\n",
       "      <td>See notes for:  Gross domestic product, curren...</td>\n",
       "      <td>8669.998</td>\n",
       "      <td>2014.0</td>\n",
       "    </tr>\n",
       "    <tr>\n",
       "      <th>Mexico</th>\n",
       "      <td>30.0</td>\n",
       "      <td>12.8</td>\n",
       "      <td>9.0</td>\n",
       "      <td>4.2</td>\n",
       "      <td>37.0</td>\n",
       "      <td>28.83</td>\n",
       "      <td>61.0</td>\n",
       "      <td>23.4</td>\n",
       "      <td>13085.0</td>\n",
       "      <td>9056.0</td>\n",
       "      <td>21.0</td>\n",
       "      <td>4.9</td>\n",
       "      <td>74.6</td>\n",
       "      <td>6.7</td>\n",
       "      <td>0.08</td>\n",
       "      <td>16193.0</td>\n",
       "      <td>77.0</td>\n",
       "      <td>1.0</td>\n",
       "      <td>66.0</td>\n",
       "      <td>417.0</td>\n",
       "      <td>13.89</td>\n",
       "      <td>63.0</td>\n",
       "      <td>67.0</td>\n",
       "      <td>14.4</td>\n",
       "      <td>Gross domestic product per capita, current prices</td>\n",
       "      <td>U.S. dollars</td>\n",
       "      <td>Units</td>\n",
       "      <td>See notes for:  Gross domestic product, curren...</td>\n",
       "      <td>9009.280</td>\n",
       "      <td>2015.0</td>\n",
       "    </tr>\n",
       "  </tbody>\n",
       "</table>\n",
       "</div>"
      ],
      "text/plain": [
       "         Air pollution  Assault rate  Consultation on rule-making  Dwellings without basic facilities  Educational attainment  Employees working very long hours  Employment rate  Homicide rate  Household net adjusted disposable income  Household net financial wealth  Housing expenditure  Job security  Life expectancy  Life satisfaction  Long-term unemployment rate  Personal earnings  Quality of support network  Rooms per person  Self-reported health  Student skills  Time devoted to leisure and personal care  Voter turnout  Water quality  Years in education                                 Subject Descriptor         Units  Scale                      Country/Series-specific Notes  GDP per capita  Estimates Start After\n",
       "Country                                                                                                                                                                                                                                                                                                                                                                                                                                                                                                                                                                                                                                                                                                                                             \n",
       "Brazil            18.0           7.9                          4.0                                 6.7                    45.0                              10.41             67.0           25.5                                   11664.0                          6844.0                 21.0           4.6             73.7                7.0                         1.97            17177.0                        90.0               1.6                  69.0           402.0                                      14.97           79.0           72.0                16.3  Gross domestic product per capita, current prices  U.S. dollars  Units  See notes for:  Gross domestic product, curren...        8669.998                 2014.0\n",
       "Mexico            30.0          12.8                          9.0                                 4.2                    37.0                              28.83             61.0           23.4                                   13085.0                          9056.0                 21.0           4.9             74.6                6.7                         0.08            16193.0                        77.0               1.0                  66.0           417.0                                      13.89           63.0           67.0                14.4  Gross domestic product per capita, current prices  U.S. dollars  Units  See notes for:  Gross domestic product, curren...        9009.280                 2015.0"
      ]
     },
     "execution_count": 79,
     "metadata": {},
     "output_type": "execute_result"
    }
   ],
   "source": [
    "print(len(oecd_bli_pt.columns),len(gdp_per_capita.columns),len(full_country_stats.columns))\n",
    "full_country_stats.head(2)"
   ]
  },
  {
   "cell_type": "markdown",
   "metadata": {},
   "source": [
    "We print out a sub DataFrame containing just the GDP per capita and Life Satisfaction columns;\n",
    "we look at the `\"United States\"` and following rows:\n"
   ]
  },
  {
   "cell_type": "code",
   "execution_count": 75,
   "metadata": {
    "colab": {
     "base_uri": "https://localhost:8080/"
    },
    "id": "KQ8xMdD9rZGq",
    "outputId": "e6e76f2d-25ef-40d7-91fa-272a43265cb7"
   },
   "outputs": [
    {
     "data": {
      "text/html": [
       "<div>\n",
       "<style scoped>\n",
       "    .dataframe tbody tr th:only-of-type {\n",
       "        vertical-align: middle;\n",
       "    }\n",
       "\n",
       "    .dataframe tbody tr th {\n",
       "        vertical-align: top;\n",
       "    }\n",
       "\n",
       "    .dataframe thead th {\n",
       "        text-align: right;\n",
       "    }\n",
       "</style>\n",
       "<table border=\"1\" class=\"dataframe\">\n",
       "  <thead>\n",
       "    <tr style=\"text-align: right;\">\n",
       "      <th></th>\n",
       "      <th>GDP per capita</th>\n",
       "      <th>Life satisfaction</th>\n",
       "    </tr>\n",
       "    <tr>\n",
       "      <th>Country</th>\n",
       "      <th></th>\n",
       "      <th></th>\n",
       "    </tr>\n",
       "  </thead>\n",
       "  <tbody>\n",
       "    <tr>\n",
       "      <th>United States</th>\n",
       "      <td>55805.204</td>\n",
       "      <td>7.2</td>\n",
       "    </tr>\n",
       "    <tr>\n",
       "      <th>Norway</th>\n",
       "      <td>74822.106</td>\n",
       "      <td>7.4</td>\n",
       "    </tr>\n",
       "    <tr>\n",
       "      <th>Switzerland</th>\n",
       "      <td>80675.308</td>\n",
       "      <td>7.5</td>\n",
       "    </tr>\n",
       "    <tr>\n",
       "      <th>Luxembourg</th>\n",
       "      <td>101994.093</td>\n",
       "      <td>6.9</td>\n",
       "    </tr>\n",
       "  </tbody>\n",
       "</table>\n",
       "</div>"
      ],
      "text/plain": [
       "               GDP per capita  Life satisfaction\n",
       "Country                                         \n",
       "United States       55805.204                7.2\n",
       "Norway              74822.106                7.4\n",
       "Switzerland         80675.308                7.5\n",
       "Luxembourg         101994.093                6.9"
      ]
     },
     "execution_count": 75,
     "metadata": {},
     "output_type": "execute_result"
    }
   ],
   "source": [
    "full_country_stats[[\"GDP per capita\", 'Life satisfaction']].loc[\"United States\":]"
   ]
  },
  {
   "cell_type": "markdown",
   "metadata": {
    "id": "4aIvhsSPrZGs"
   },
   "source": [
    "In a future exercise we will try to run a linear regression analysis to predict Life Satisfaction.\n",
    "\n",
    "As a first step, it might be interesting to see how well we could do just using GDP, though\n",
    "a close look at the rows above shows no linear predictor will be perfect:  An increase\n",
    "in GDP does not necessarily predict an increase in life satisfaction."
   ]
  },
  {
   "cell_type": "markdown",
   "metadata": {},
   "source": [
    "Summing up what we did in this section.  We loaded two Data frames and merged them on their\n",
    "indexes, in effect concatenating the rows of the first dataFrame with the rows of the second.\n",
    "\n",
    "In order to execute the merge we had to make sure their indexes contained\n",
    "the same sort of things.  We modified he first dataset with a pivot table operation\n",
    "that made `'Countries'` the index.  We modified the second dataset by promoting\n",
    "the `'Countries'` column to be the index."
   ]
  },
  {
   "cell_type": "markdown",
   "metadata": {},
   "source": [
    "### Another kind of merging: Join"
   ]
  },
  {
   "cell_type": "markdown",
   "metadata": {},
   "source": [
    "We look at a second Merge example involving a slightly different operation `join`. \n",
    "\n",
    "We will merge data about U.S. Covid case numbers with geographical data,\n",
    "to allow visualizing the data on maps."
   ]
  },
  {
   "cell_type": "code",
   "execution_count": 108,
   "metadata": {},
   "outputs": [],
   "source": [
    "import pandas as pd\n",
    "from datetime import datetime\n",
    "\n",
    "\n",
    "def geoid2code(geoid):\n",
    "    return int(geoid[4:])\n",
    "\n",
    "# this data set has cumulative stats\n",
    "nyt_github_covid_cumulative = 'https://raw.githubusercontent.com/nytimes/'\\\n",
    "                        'covid-19-data/master/us-counties.csv'\n",
    "nyt_github_covid_rolling_avg = 'https://raw.githubusercontent.com/nytimes/'\\\n",
    "                        'covid-19-data/master/rolling-averages/us-counties.csv'\n",
    "df = pd.read_csv(nyt_github_covid_rolling_avg,converters=dict(geoid=geoid2code))\n",
    "#df.rename(columns={'geoid': 'GEOID'},inplace=True)\n",
    "\n",
    "start, end = datetime.fromisoformat(df['date'].min()),\\\n",
    "               datetime.fromisoformat(df['date'].max())"
   ]
  },
  {
   "cell_type": "markdown",
   "metadata": {},
   "source": [
    "One row per county day pair containing various kind of Covide case data."
   ]
  },
  {
   "cell_type": "code",
   "execution_count": 110,
   "metadata": {
    "scrolled": true
   },
   "outputs": [
    {
     "data": {
      "text/html": [
       "<div>\n",
       "<style scoped>\n",
       "    .dataframe tbody tr th:only-of-type {\n",
       "        vertical-align: middle;\n",
       "    }\n",
       "\n",
       "    .dataframe tbody tr th {\n",
       "        vertical-align: top;\n",
       "    }\n",
       "\n",
       "    .dataframe thead th {\n",
       "        text-align: right;\n",
       "    }\n",
       "</style>\n",
       "<table border=\"1\" class=\"dataframe\">\n",
       "  <thead>\n",
       "    <tr style=\"text-align: right;\">\n",
       "      <th></th>\n",
       "      <th>date</th>\n",
       "      <th>geoid</th>\n",
       "      <th>county</th>\n",
       "      <th>state</th>\n",
       "      <th>cases</th>\n",
       "      <th>cases_avg</th>\n",
       "      <th>cases_avg_per_100k</th>\n",
       "      <th>deaths</th>\n",
       "      <th>deaths_avg</th>\n",
       "      <th>deaths_avg_per_100k</th>\n",
       "    </tr>\n",
       "  </thead>\n",
       "  <tbody>\n",
       "    <tr>\n",
       "      <th>4</th>\n",
       "      <td>2020-01-24</td>\n",
       "      <td>17031</td>\n",
       "      <td>Cook</td>\n",
       "      <td>Illinois</td>\n",
       "      <td>1</td>\n",
       "      <td>0.14</td>\n",
       "      <td>0.00</td>\n",
       "      <td>0</td>\n",
       "      <td>0.00</td>\n",
       "      <td>0.00</td>\n",
       "    </tr>\n",
       "    <tr>\n",
       "      <th>6</th>\n",
       "      <td>2020-01-25</td>\n",
       "      <td>17031</td>\n",
       "      <td>Cook</td>\n",
       "      <td>Illinois</td>\n",
       "      <td>0</td>\n",
       "      <td>0.14</td>\n",
       "      <td>0.00</td>\n",
       "      <td>0</td>\n",
       "      <td>0.00</td>\n",
       "      <td>0.00</td>\n",
       "    </tr>\n",
       "    <tr>\n",
       "      <th>9</th>\n",
       "      <td>2020-01-26</td>\n",
       "      <td>17031</td>\n",
       "      <td>Cook</td>\n",
       "      <td>Illinois</td>\n",
       "      <td>0</td>\n",
       "      <td>0.14</td>\n",
       "      <td>0.00</td>\n",
       "      <td>0</td>\n",
       "      <td>0.00</td>\n",
       "      <td>0.00</td>\n",
       "    </tr>\n",
       "    <tr>\n",
       "      <th>14</th>\n",
       "      <td>2020-01-27</td>\n",
       "      <td>17031</td>\n",
       "      <td>Cook</td>\n",
       "      <td>Illinois</td>\n",
       "      <td>0</td>\n",
       "      <td>0.14</td>\n",
       "      <td>0.00</td>\n",
       "      <td>0</td>\n",
       "      <td>0.00</td>\n",
       "      <td>0.00</td>\n",
       "    </tr>\n",
       "    <tr>\n",
       "      <th>19</th>\n",
       "      <td>2020-01-28</td>\n",
       "      <td>17031</td>\n",
       "      <td>Cook</td>\n",
       "      <td>Illinois</td>\n",
       "      <td>0</td>\n",
       "      <td>0.14</td>\n",
       "      <td>0.00</td>\n",
       "      <td>0</td>\n",
       "      <td>0.00</td>\n",
       "      <td>0.00</td>\n",
       "    </tr>\n",
       "    <tr>\n",
       "      <th>...</th>\n",
       "      <td>...</td>\n",
       "      <td>...</td>\n",
       "      <td>...</td>\n",
       "      <td>...</td>\n",
       "      <td>...</td>\n",
       "      <td>...</td>\n",
       "      <td>...</td>\n",
       "      <td>...</td>\n",
       "      <td>...</td>\n",
       "      <td>...</td>\n",
       "    </tr>\n",
       "    <tr>\n",
       "      <th>1760590</th>\n",
       "      <td>2021-09-25</td>\n",
       "      <td>17031</td>\n",
       "      <td>Cook</td>\n",
       "      <td>Illinois</td>\n",
       "      <td>0</td>\n",
       "      <td>865.71</td>\n",
       "      <td>16.81</td>\n",
       "      <td>0</td>\n",
       "      <td>8.86</td>\n",
       "      <td>0.17</td>\n",
       "    </tr>\n",
       "    <tr>\n",
       "      <th>1763838</th>\n",
       "      <td>2021-09-26</td>\n",
       "      <td>17031</td>\n",
       "      <td>Cook</td>\n",
       "      <td>Illinois</td>\n",
       "      <td>0</td>\n",
       "      <td>865.71</td>\n",
       "      <td>16.81</td>\n",
       "      <td>0</td>\n",
       "      <td>8.86</td>\n",
       "      <td>0.17</td>\n",
       "    </tr>\n",
       "    <tr>\n",
       "      <th>1767086</th>\n",
       "      <td>2021-09-27</td>\n",
       "      <td>17031</td>\n",
       "      <td>Cook</td>\n",
       "      <td>Illinois</td>\n",
       "      <td>1924</td>\n",
       "      <td>786.86</td>\n",
       "      <td>15.28</td>\n",
       "      <td>21</td>\n",
       "      <td>8.57</td>\n",
       "      <td>0.17</td>\n",
       "    </tr>\n",
       "    <tr>\n",
       "      <th>1770334</th>\n",
       "      <td>2021-09-28</td>\n",
       "      <td>17031</td>\n",
       "      <td>Cook</td>\n",
       "      <td>Illinois</td>\n",
       "      <td>486</td>\n",
       "      <td>748.00</td>\n",
       "      <td>14.52</td>\n",
       "      <td>17</td>\n",
       "      <td>10.29</td>\n",
       "      <td>0.20</td>\n",
       "    </tr>\n",
       "    <tr>\n",
       "      <th>1773582</th>\n",
       "      <td>2021-09-29</td>\n",
       "      <td>17031</td>\n",
       "      <td>Cook</td>\n",
       "      <td>Illinois</td>\n",
       "      <td>764</td>\n",
       "      <td>723.00</td>\n",
       "      <td>14.04</td>\n",
       "      <td>4</td>\n",
       "      <td>9.29</td>\n",
       "      <td>0.18</td>\n",
       "    </tr>\n",
       "  </tbody>\n",
       "</table>\n",
       "<p>615 rows × 10 columns</p>\n",
       "</div>"
      ],
      "text/plain": [
       "               date  geoid county     state  cases  cases_avg  cases_avg_per_100k  deaths  deaths_avg  deaths_avg_per_100k\n",
       "4        2020-01-24  17031   Cook  Illinois      1       0.14                0.00       0        0.00                 0.00\n",
       "6        2020-01-25  17031   Cook  Illinois      0       0.14                0.00       0        0.00                 0.00\n",
       "9        2020-01-26  17031   Cook  Illinois      0       0.14                0.00       0        0.00                 0.00\n",
       "14       2020-01-27  17031   Cook  Illinois      0       0.14                0.00       0        0.00                 0.00\n",
       "19       2020-01-28  17031   Cook  Illinois      0       0.14                0.00       0        0.00                 0.00\n",
       "...             ...    ...    ...       ...    ...        ...                 ...     ...         ...                  ...\n",
       "1760590  2021-09-25  17031   Cook  Illinois      0     865.71               16.81       0        8.86                 0.17\n",
       "1763838  2021-09-26  17031   Cook  Illinois      0     865.71               16.81       0        8.86                 0.17\n",
       "1767086  2021-09-27  17031   Cook  Illinois   1924     786.86               15.28      21        8.57                 0.17\n",
       "1770334  2021-09-28  17031   Cook  Illinois    486     748.00               14.52      17       10.29                 0.20\n",
       "1773582  2021-09-29  17031   Cook  Illinois    764     723.00               14.04       4        9.29                 0.18\n",
       "\n",
       "[615 rows x 10 columns]"
      ]
     },
     "execution_count": 110,
     "metadata": {},
     "output_type": "execute_result"
    }
   ],
   "source": [
    "df2 = df[(df['county']=='Cook') & (df['state']=='Illinois')]\n",
    "df2"
   ]
  },
  {
   "cell_type": "markdown",
   "metadata": {},
   "source": [
    "### Adding Lat Longs to the data"
   ]
  },
  {
   "cell_type": "markdown",
   "metadata": {},
   "source": [
    "The Geographical info is stored in a column named `'geoid'` (note the lower case)."
   ]
  },
  {
   "cell_type": "code",
   "execution_count": 111,
   "metadata": {},
   "outputs": [
    {
     "data": {
      "text/html": [
       "<div>\n",
       "<style scoped>\n",
       "    .dataframe tbody tr th:only-of-type {\n",
       "        vertical-align: middle;\n",
       "    }\n",
       "\n",
       "    .dataframe tbody tr th {\n",
       "        vertical-align: top;\n",
       "    }\n",
       "\n",
       "    .dataframe thead th {\n",
       "        text-align: right;\n",
       "    }\n",
       "</style>\n",
       "<table border=\"1\" class=\"dataframe\">\n",
       "  <thead>\n",
       "    <tr style=\"text-align: right;\">\n",
       "      <th></th>\n",
       "      <th>date</th>\n",
       "      <th>geoid</th>\n",
       "      <th>county</th>\n",
       "      <th>state</th>\n",
       "      <th>cases</th>\n",
       "      <th>cases_avg</th>\n",
       "      <th>cases_avg_per_100k</th>\n",
       "      <th>deaths</th>\n",
       "      <th>deaths_avg</th>\n",
       "      <th>deaths_avg_per_100k</th>\n",
       "    </tr>\n",
       "  </thead>\n",
       "  <tbody>\n",
       "    <tr>\n",
       "      <th>0</th>\n",
       "      <td>2020-01-21</td>\n",
       "      <td>53061</td>\n",
       "      <td>Snohomish</td>\n",
       "      <td>Washington</td>\n",
       "      <td>1</td>\n",
       "      <td>0.14</td>\n",
       "      <td>0.02</td>\n",
       "      <td>0</td>\n",
       "      <td>0.0</td>\n",
       "      <td>0.0</td>\n",
       "    </tr>\n",
       "    <tr>\n",
       "      <th>1</th>\n",
       "      <td>2020-01-22</td>\n",
       "      <td>53061</td>\n",
       "      <td>Snohomish</td>\n",
       "      <td>Washington</td>\n",
       "      <td>0</td>\n",
       "      <td>0.14</td>\n",
       "      <td>0.02</td>\n",
       "      <td>0</td>\n",
       "      <td>0.0</td>\n",
       "      <td>0.0</td>\n",
       "    </tr>\n",
       "    <tr>\n",
       "      <th>2</th>\n",
       "      <td>2020-01-23</td>\n",
       "      <td>53061</td>\n",
       "      <td>Snohomish</td>\n",
       "      <td>Washington</td>\n",
       "      <td>0</td>\n",
       "      <td>0.14</td>\n",
       "      <td>0.02</td>\n",
       "      <td>0</td>\n",
       "      <td>0.0</td>\n",
       "      <td>0.0</td>\n",
       "    </tr>\n",
       "    <tr>\n",
       "      <th>3</th>\n",
       "      <td>2020-01-24</td>\n",
       "      <td>53061</td>\n",
       "      <td>Snohomish</td>\n",
       "      <td>Washington</td>\n",
       "      <td>0</td>\n",
       "      <td>0.14</td>\n",
       "      <td>0.02</td>\n",
       "      <td>0</td>\n",
       "      <td>0.0</td>\n",
       "      <td>0.0</td>\n",
       "    </tr>\n",
       "    <tr>\n",
       "      <th>4</th>\n",
       "      <td>2020-01-24</td>\n",
       "      <td>17031</td>\n",
       "      <td>Cook</td>\n",
       "      <td>Illinois</td>\n",
       "      <td>1</td>\n",
       "      <td>0.14</td>\n",
       "      <td>0.00</td>\n",
       "      <td>0</td>\n",
       "      <td>0.0</td>\n",
       "      <td>0.0</td>\n",
       "    </tr>\n",
       "  </tbody>\n",
       "</table>\n",
       "</div>"
      ],
      "text/plain": [
       "         date  geoid     county       state  cases  cases_avg  cases_avg_per_100k  deaths  deaths_avg  deaths_avg_per_100k\n",
       "0  2020-01-21  53061  Snohomish  Washington      1       0.14                0.02       0         0.0                  0.0\n",
       "1  2020-01-22  53061  Snohomish  Washington      0       0.14                0.02       0         0.0                  0.0\n",
       "2  2020-01-23  53061  Snohomish  Washington      0       0.14                0.02       0         0.0                  0.0\n",
       "3  2020-01-24  53061  Snohomish  Washington      0       0.14                0.02       0         0.0                  0.0\n",
       "4  2020-01-24  17031       Cook    Illinois      1       0.14                0.00       0         0.0                  0.0"
      ]
     },
     "execution_count": 111,
     "metadata": {},
     "output_type": "execute_result"
    }
   ],
   "source": [
    "df[:5]"
   ]
  },
  {
   "cell_type": "markdown",
   "metadata": {},
   "source": [
    "The `'geoid'` column contains FIPS geographical codes that we can use to make maps\n",
    "visualizing the geographic distribution of the Covid data.\n",
    "\n",
    "The problem is many of the  programs designed for that purpose want \n",
    "lat/long coordinates.\n",
    "\n",
    "Solution: we go to the **census.gov** site to find mappings from geocodes\n",
    "to lat/longs.  We turn this new data into a pandas DataFrame.  We then **join**\n",
    "the new DataFrame to our old one."
   ]
  },
  {
   "cell_type": "code",
   "execution_count": 93,
   "metadata": {},
   "outputs": [],
   "source": [
    "#Normally you'd get this data at census.giv from a compressed file.\n",
    "true_url = 'https://www2.census.gov/geo/docs/maps-data/data/gazetteer/2021_Gazetteer/'\\\n",
    "      '2021_Gaz_counties_national.zip'\n",
    "# To simplify things Ive uncompressed it and copied it here, uncompressed,\n",
    "url = 'https://gawron.sdsu.edu/python_for_ss/course_core/book_draft/_static/'\\\n",
    "      '202### Doing the join1_Gaz_counties_national.txt'\n",
    "# The file uses tabs, not \",\" as a separator.  `pd.read_csv` still works if you \n",
    "# tell it that.\n",
    "codes = pd.read_csv(url,sep='\\t')\n",
    "# last column name misparsed, many spaces added.  data cleanup\n",
    "long = codes.columns[-1]\n",
    "codes.rename(columns={long: long.strip()},inplace=True)\n"
   ]
  },
  {
   "cell_type": "markdown",
   "metadata": {},
   "source": [
    "Note that the new data set has both a GEOID column and LAT and LONG columns; note the case of 'GEOID'.\n",
    "\n",
    "In fact, the LAT/LONGs are located at the centers of the GEOID regions,\n",
    "so each GEOID value is associated with exactly one LAT/LONG pair."
   ]
  },
  {
   "cell_type": "code",
   "execution_count": 92,
   "metadata": {
    "scrolled": true
   },
   "outputs": [
    {
     "data": {
      "text/html": [
       "<div>\n",
       "<style scoped>\n",
       "    .dataframe tbody tr th:only-of-type {\n",
       "        vertical-align: middle;\n",
       "    }\n",
       "\n",
       "    .dataframe tbody tr th {\n",
       "        vertical-align: top;\n",
       "    }\n",
       "\n",
       "    .dataframe thead th {\n",
       "        text-align: right;\n",
       "    }\n",
       "</style>\n",
       "<table border=\"1\" class=\"dataframe\">\n",
       "  <thead>\n",
       "    <tr style=\"text-align: right;\">\n",
       "      <th></th>\n",
       "      <th>USPS</th>\n",
       "      <th>GEOID</th>\n",
       "      <th>ANSICODE</th>\n",
       "      <th>NAME</th>\n",
       "      <th>ALAND</th>\n",
       "      <th>AWATER</th>\n",
       "      <th>ALAND_SQMI</th>\n",
       "      <th>AWATER_SQMI</th>\n",
       "      <th>INTPTLAT</th>\n",
       "      <th>INTPTLONG</th>\n",
       "    </tr>\n",
       "  </thead>\n",
       "  <tbody>\n",
       "    <tr>\n",
       "      <th>0</th>\n",
       "      <td>AL</td>\n",
       "      <td>1001</td>\n",
       "      <td>161526</td>\n",
       "      <td>Autauga County</td>\n",
       "      <td>1539634184</td>\n",
       "      <td>25674812</td>\n",
       "      <td>594.456</td>\n",
       "      <td>9.913</td>\n",
       "      <td>32.532237</td>\n",
       "      <td>-86.646440</td>\n",
       "    </tr>\n",
       "    <tr>\n",
       "      <th>1</th>\n",
       "      <td>AL</td>\n",
       "      <td>1003</td>\n",
       "      <td>161527</td>\n",
       "      <td>Baldwin County</td>\n",
       "      <td>4117656514</td>\n",
       "      <td>1132955729</td>\n",
       "      <td>1589.836</td>\n",
       "      <td>437.437</td>\n",
       "      <td>30.659218</td>\n",
       "      <td>-87.746067</td>\n",
       "    </tr>\n",
       "    <tr>\n",
       "      <th>2</th>\n",
       "      <td>AL</td>\n",
       "      <td>1005</td>\n",
       "      <td>161528</td>\n",
       "      <td>Barbour County</td>\n",
       "      <td>2292160149</td>\n",
       "      <td>50523213</td>\n",
       "      <td>885.008</td>\n",
       "      <td>19.507</td>\n",
       "      <td>31.870253</td>\n",
       "      <td>-85.405104</td>\n",
       "    </tr>\n",
       "    <tr>\n",
       "      <th>3</th>\n",
       "      <td>AL</td>\n",
       "      <td>1007</td>\n",
       "      <td>161529</td>\n",
       "      <td>Bibb County</td>\n",
       "      <td>1612188717</td>\n",
       "      <td>9572303</td>\n",
       "      <td>622.470</td>\n",
       "      <td>3.696</td>\n",
       "      <td>33.015893</td>\n",
       "      <td>-87.127148</td>\n",
       "    </tr>\n",
       "    <tr>\n",
       "      <th>4</th>\n",
       "      <td>AL</td>\n",
       "      <td>1009</td>\n",
       "      <td>161530</td>\n",
       "      <td>Blount County</td>\n",
       "      <td>1670259090</td>\n",
       "      <td>14860281</td>\n",
       "      <td>644.891</td>\n",
       "      <td>5.738</td>\n",
       "      <td>33.977358</td>\n",
       "      <td>-86.566440</td>\n",
       "    </tr>\n",
       "  </tbody>\n",
       "</table>\n",
       "</div>"
      ],
      "text/plain": [
       "  USPS  GEOID  ANSICODE            NAME       ALAND      AWATER  ALAND_SQMI  AWATER_SQMI   INTPTLAT  INTPTLONG\n",
       "0   AL   1001    161526  Autauga County  1539634184    25674812     594.456        9.913  32.532237 -86.646440\n",
       "1   AL   1003    161527  Baldwin County  4117656514  1132955729    1589.836      437.437  30.659218 -87.746067\n",
       "2   AL   1005    161528  Barbour County  2292160149    50523213     885.008       19.507  31.870253 -85.405104\n",
       "3   AL   1007    161529     Bibb County  1612188717     9572303     622.470        3.696  33.015893 -87.127148\n",
       "4   AL   1009    161530   Blount County  1670259090    14860281     644.891        5.738  33.977358 -86.566440"
      ]
     },
     "execution_count": 92,
     "metadata": {},
     "output_type": "execute_result"
    }
   ],
   "source": [
    "codes[:5]"
   ]
  },
  {
   "cell_type": "markdown",
   "metadata": {},
   "source": [
    "In addition, each county has a unique GEOID."
   ]
  },
  {
   "cell_type": "code",
   "execution_count": 91,
   "metadata": {},
   "outputs": [
    {
     "data": {
      "text/html": [
       "<div>\n",
       "<style scoped>\n",
       "    .dataframe tbody tr th:only-of-type {\n",
       "        vertical-align: middle;\n",
       "    }\n",
       "\n",
       "    .dataframe tbody tr th {\n",
       "        vertical-align: top;\n",
       "    }\n",
       "\n",
       "    .dataframe thead th {\n",
       "        text-align: right;\n",
       "    }\n",
       "</style>\n",
       "<table border=\"1\" class=\"dataframe\">\n",
       "  <thead>\n",
       "    <tr style=\"text-align: right;\">\n",
       "      <th></th>\n",
       "      <th>USPS</th>\n",
       "      <th>GEOID</th>\n",
       "      <th>ANSICODE</th>\n",
       "      <th>NAME</th>\n",
       "      <th>ALAND</th>\n",
       "      <th>AWATER</th>\n",
       "      <th>ALAND_SQMI</th>\n",
       "      <th>AWATER_SQMI</th>\n",
       "      <th>INTPTLAT</th>\n",
       "      <th>INTPTLONG</th>\n",
       "    </tr>\n",
       "  </thead>\n",
       "  <tbody>\n",
       "    <tr>\n",
       "      <th>2970</th>\n",
       "      <td>WA</td>\n",
       "      <td>53033</td>\n",
       "      <td>1531933</td>\n",
       "      <td>King County</td>\n",
       "      <td>5479337396</td>\n",
       "      <td>496938967</td>\n",
       "      <td>2115.584</td>\n",
       "      <td>191.869</td>\n",
       "      <td>47.490552</td>\n",
       "      <td>-121.833977</td>\n",
       "    </tr>\n",
       "  </tbody>\n",
       "</table>\n",
       "</div>"
      ],
      "text/plain": [
       "     USPS  GEOID  ANSICODE         NAME       ALAND     AWATER  ALAND_SQMI  AWATER_SQMI   INTPTLAT   INTPTLONG\n",
       "2970   WA  53033   1531933  King County  5479337396  496938967    2115.584      191.869  47.490552 -121.833977"
      ]
     },
     "execution_count": 91,
     "metadata": {},
     "output_type": "execute_result"
    }
   ],
   "source": [
    "codes[(codes['NAME']=='King County')&(codes['USPS']=='WA')]"
   ]
  },
  {
   "cell_type": "markdown",
   "metadata": {},
   "source": [
    "Going back from the GEOID gets us the same row."
   ]
  },
  {
   "cell_type": "code",
   "execution_count": 90,
   "metadata": {},
   "outputs": [
    {
     "data": {
      "text/html": [
       "<div>\n",
       "<style scoped>\n",
       "    .dataframe tbody tr th:only-of-type {\n",
       "        vertical-align: middle;\n",
       "    }\n",
       "\n",
       "    .dataframe tbody tr th {\n",
       "        vertical-align: top;\n",
       "    }\n",
       "\n",
       "    .dataframe thead th {\n",
       "        text-align: right;\n",
       "    }\n",
       "</style>\n",
       "<table border=\"1\" class=\"dataframe\">\n",
       "  <thead>\n",
       "    <tr style=\"text-align: right;\">\n",
       "      <th></th>\n",
       "      <th>USPS</th>\n",
       "      <th>GEOID</th>\n",
       "      <th>ANSICODE</th>\n",
       "      <th>NAME</th>\n",
       "      <th>ALAND</th>\n",
       "      <th>AWATER</th>\n",
       "      <th>ALAND_SQMI</th>\n",
       "      <th>AWATER_SQMI</th>\n",
       "      <th>INTPTLAT</th>\n",
       "      <th>INTPTLONG</th>\n",
       "    </tr>\n",
       "  </thead>\n",
       "  <tbody>\n",
       "    <tr>\n",
       "      <th>2970</th>\n",
       "      <td>WA</td>\n",
       "      <td>53033</td>\n",
       "      <td>1531933</td>\n",
       "      <td>King County</td>\n",
       "      <td>5479337396</td>\n",
       "      <td>496938967</td>\n",
       "      <td>2115.584</td>\n",
       "      <td>191.869</td>\n",
       "      <td>47.490552</td>\n",
       "      <td>-121.833977</td>\n",
       "    </tr>\n",
       "  </tbody>\n",
       "</table>\n",
       "</div>"
      ],
      "text/plain": [
       "     USPS  GEOID  ANSICODE         NAME       ALAND     AWATER  ALAND_SQMI  AWATER_SQMI   INTPTLAT   INTPTLONG\n",
       "2970   WA  53033   1531933  King County  5479337396  496938967    2115.584      191.869  47.490552 -121.833977"
      ]
     },
     "execution_count": 90,
     "metadata": {},
     "output_type": "execute_result"
    }
   ],
   "source": [
    "codes[(codes['GEOID']==53033)]"
   ]
  },
  {
   "cell_type": "markdown",
   "metadata": {},
   "source": [
    "### Doing the join\n",
    "\n",
    "In this section we explain the  **join** operation that we'll use to merge\n",
    "the lat-long info in the codes table with the Covid data.\n",
    "\n",
    "The idea is to join on GEOID.  Since each GEOID identifies a unique LAT/LONG pair, let's\n",
    "zero in on just the columns we want to merge into the Covid data."
   ]
  },
  {
   "cell_type": "code",
   "execution_count": 107,
   "metadata": {},
   "outputs": [
    {
     "data": {
      "text/html": [
       "<div>\n",
       "<style scoped>\n",
       "    .dataframe tbody tr th:only-of-type {\n",
       "        vertical-align: middle;\n",
       "    }\n",
       "\n",
       "    .dataframe tbody tr th {\n",
       "        vertical-align: top;\n",
       "    }\n",
       "\n",
       "    .dataframe thead th {\n",
       "        text-align: right;\n",
       "    }\n",
       "</style>\n",
       "<table border=\"1\" class=\"dataframe\">\n",
       "  <thead>\n",
       "    <tr style=\"text-align: right;\">\n",
       "      <th></th>\n",
       "      <th>GEOID</th>\n",
       "      <th>INTPTLAT</th>\n",
       "      <th>INTPTLONG</th>\n",
       "    </tr>\n",
       "  </thead>\n",
       "  <tbody>\n",
       "    <tr>\n",
       "      <th>0</th>\n",
       "      <td>1001</td>\n",
       "      <td>32.532237</td>\n",
       "      <td>-86.646440</td>\n",
       "    </tr>\n",
       "    <tr>\n",
       "      <th>1</th>\n",
       "      <td>1003</td>\n",
       "      <td>30.659218</td>\n",
       "      <td>-87.746067</td>\n",
       "    </tr>\n",
       "    <tr>\n",
       "      <th>2</th>\n",
       "      <td>1005</td>\n",
       "      <td>31.870253</td>\n",
       "      <td>-85.405104</td>\n",
       "    </tr>\n",
       "    <tr>\n",
       "      <th>3</th>\n",
       "      <td>1007</td>\n",
       "      <td>33.015893</td>\n",
       "      <td>-87.127148</td>\n",
       "    </tr>\n",
       "    <tr>\n",
       "      <th>4</th>\n",
       "      <td>1009</td>\n",
       "      <td>33.977358</td>\n",
       "      <td>-86.566440</td>\n",
       "    </tr>\n",
       "  </tbody>\n",
       "</table>\n",
       "</div>"
      ],
      "text/plain": [
       "   GEOID   INTPTLAT  INTPTLONG\n",
       "0   1001  32.532237 -86.646440\n",
       "1   1003  30.659218 -87.746067\n",
       "2   1005  31.870253 -85.405104\n",
       "3   1007  33.015893 -87.127148\n",
       "4   1009  33.977358 -86.566440"
      ]
     },
     "execution_count": 107,
     "metadata": {},
     "output_type": "execute_result"
    }
   ],
   "source": [
    "#Make the subtable we're going to join to.\n",
    "geoid_lat_long = codes[['GEOID','INTPTLAT','INTPTLONG']]\n",
    "geoid_lat_long[:5]"
   ]
  },
  {
   "cell_type": "markdown",
   "metadata": {},
   "source": [
    "We promote the GEOID column to be an index."
   ]
  },
  {
   "cell_type": "code",
   "execution_count": 103,
   "metadata": {},
   "outputs": [
    {
     "data": {
      "text/html": [
       "<div>\n",
       "<style scoped>\n",
       "    .dataframe tbody tr th:only-of-type {\n",
       "        vertical-align: middle;\n",
       "    }\n",
       "\n",
       "    .dataframe tbody tr th {\n",
       "        vertical-align: top;\n",
       "    }\n",
       "\n",
       "    .dataframe thead th {\n",
       "        text-align: right;\n",
       "    }\n",
       "</style>\n",
       "<table border=\"1\" class=\"dataframe\">\n",
       "  <thead>\n",
       "    <tr style=\"text-align: right;\">\n",
       "      <th></th>\n",
       "      <th>INTPTLAT</th>\n",
       "      <th>INTPTLONG</th>\n",
       "    </tr>\n",
       "    <tr>\n",
       "      <th>GEOID</th>\n",
       "      <th></th>\n",
       "      <th></th>\n",
       "    </tr>\n",
       "  </thead>\n",
       "  <tbody>\n",
       "    <tr>\n",
       "      <th>1001</th>\n",
       "      <td>32.532237</td>\n",
       "      <td>-86.646440</td>\n",
       "    </tr>\n",
       "    <tr>\n",
       "      <th>1003</th>\n",
       "      <td>30.659218</td>\n",
       "      <td>-87.746067</td>\n",
       "    </tr>\n",
       "    <tr>\n",
       "      <th>1005</th>\n",
       "      <td>31.870253</td>\n",
       "      <td>-85.405104</td>\n",
       "    </tr>\n",
       "    <tr>\n",
       "      <th>1007</th>\n",
       "      <td>33.015893</td>\n",
       "      <td>-87.127148</td>\n",
       "    </tr>\n",
       "    <tr>\n",
       "      <th>1009</th>\n",
       "      <td>33.977358</td>\n",
       "      <td>-86.566440</td>\n",
       "    </tr>\n",
       "  </tbody>\n",
       "</table>\n",
       "</div>"
      ],
      "text/plain": [
       "        INTPTLAT  INTPTLONG\n",
       "GEOID                      \n",
       "1001   32.532237 -86.646440\n",
       "1003   30.659218 -87.746067\n",
       "1005   31.870253 -85.405104\n",
       "1007   33.015893 -87.127148\n",
       "1009   33.977358 -86.566440"
      ]
     },
     "execution_count": 103,
     "metadata": {},
     "output_type": "execute_result"
    }
   ],
   "source": [
    "geoid_lat_long_gind = geoid_lat_long.set_index('GEOID')\n",
    "geoid_lat_long_gind[:5]"
   ]
  },
  {
   "cell_type": "markdown",
   "metadata": {},
   "source": [
    "Let's prepare some test rows we'll check to see the join goes right.\n",
    "\n",
    "Here are some rows from the Covid data that all share their GEOID (because they contain data for the same county on different days).  After the join, we'd like all these\n",
    "rows linked to the same Lat/Long info."
   ]
  },
  {
   "cell_type": "code",
   "execution_count": 112,
   "metadata": {},
   "outputs": [
    {
     "data": {
      "text/html": [
       "<div>\n",
       "<style scoped>\n",
       "    .dataframe tbody tr th:only-of-type {\n",
       "        vertical-align: middle;\n",
       "    }\n",
       "\n",
       "    .dataframe tbody tr th {\n",
       "        vertical-align: top;\n",
       "    }\n",
       "\n",
       "    .dataframe thead th {\n",
       "        text-align: right;\n",
       "    }\n",
       "</style>\n",
       "<table border=\"1\" class=\"dataframe\">\n",
       "  <thead>\n",
       "    <tr style=\"text-align: right;\">\n",
       "      <th></th>\n",
       "      <th>date</th>\n",
       "      <th>geoid</th>\n",
       "      <th>county</th>\n",
       "      <th>state</th>\n",
       "      <th>cases</th>\n",
       "      <th>cases_avg</th>\n",
       "      <th>cases_avg_per_100k</th>\n",
       "      <th>deaths</th>\n",
       "      <th>deaths_avg</th>\n",
       "      <th>deaths_avg_per_100k</th>\n",
       "    </tr>\n",
       "  </thead>\n",
       "  <tbody>\n",
       "    <tr>\n",
       "      <th>0</th>\n",
       "      <td>2020-01-21</td>\n",
       "      <td>53061</td>\n",
       "      <td>Snohomish</td>\n",
       "      <td>Washington</td>\n",
       "      <td>1</td>\n",
       "      <td>0.14</td>\n",
       "      <td>0.02</td>\n",
       "      <td>0</td>\n",
       "      <td>0.0</td>\n",
       "      <td>0.0</td>\n",
       "    </tr>\n",
       "    <tr>\n",
       "      <th>1</th>\n",
       "      <td>2020-01-22</td>\n",
       "      <td>53061</td>\n",
       "      <td>Snohomish</td>\n",
       "      <td>Washington</td>\n",
       "      <td>0</td>\n",
       "      <td>0.14</td>\n",
       "      <td>0.02</td>\n",
       "      <td>0</td>\n",
       "      <td>0.0</td>\n",
       "      <td>0.0</td>\n",
       "    </tr>\n",
       "    <tr>\n",
       "      <th>2</th>\n",
       "      <td>2020-01-23</td>\n",
       "      <td>53061</td>\n",
       "      <td>Snohomish</td>\n",
       "      <td>Washington</td>\n",
       "      <td>0</td>\n",
       "      <td>0.14</td>\n",
       "      <td>0.02</td>\n",
       "      <td>0</td>\n",
       "      <td>0.0</td>\n",
       "      <td>0.0</td>\n",
       "    </tr>\n",
       "    <tr>\n",
       "      <th>3</th>\n",
       "      <td>2020-01-24</td>\n",
       "      <td>53061</td>\n",
       "      <td>Snohomish</td>\n",
       "      <td>Washington</td>\n",
       "      <td>0</td>\n",
       "      <td>0.14</td>\n",
       "      <td>0.02</td>\n",
       "      <td>0</td>\n",
       "      <td>0.0</td>\n",
       "      <td>0.0</td>\n",
       "    </tr>\n",
       "  </tbody>\n",
       "</table>\n",
       "</div>"
      ],
      "text/plain": [
       "         date  geoid     county       state  cases  cases_avg  cases_avg_per_100k  deaths  deaths_avg  deaths_avg_per_100k\n",
       "0  2020-01-21  53061  Snohomish  Washington      1       0.14                0.02       0         0.0                  0.0\n",
       "1  2020-01-22  53061  Snohomish  Washington      0       0.14                0.02       0         0.0                  0.0\n",
       "2  2020-01-23  53061  Snohomish  Washington      0       0.14                0.02       0         0.0                  0.0\n",
       "3  2020-01-24  53061  Snohomish  Washington      0       0.14                0.02       0         0.0                  0.0"
      ]
     },
     "execution_count": 112,
     "metadata": {},
     "output_type": "execute_result"
    }
   ],
   "source": [
    "df[:4]"
   ]
  },
  {
   "cell_type": "markdown",
   "metadata": {},
   "source": [
    "Here we do the join, and we see it has the desired effect.\n",
    "\n",
    "The new DataFrame has two new LAT/LONG columns. Rows with the same GEOID value have the same LAT/LONG\n",
    "values."
   ]
  },
  {
   "cell_type": "code",
   "execution_count": 113,
   "metadata": {
    "scrolled": true
   },
   "outputs": [
    {
     "data": {
      "text/html": [
       "<div>\n",
       "<style scoped>\n",
       "    .dataframe tbody tr th:only-of-type {\n",
       "        vertical-align: middle;\n",
       "    }\n",
       "\n",
       "    .dataframe tbody tr th {\n",
       "        vertical-align: top;\n",
       "    }\n",
       "\n",
       "    .dataframe thead th {\n",
       "        text-align: right;\n",
       "    }\n",
       "</style>\n",
       "<table border=\"1\" class=\"dataframe\">\n",
       "  <thead>\n",
       "    <tr style=\"text-align: right;\">\n",
       "      <th></th>\n",
       "      <th>date</th>\n",
       "      <th>geoid</th>\n",
       "      <th>county</th>\n",
       "      <th>state</th>\n",
       "      <th>cases</th>\n",
       "      <th>cases_avg</th>\n",
       "      <th>cases_avg_per_100k</th>\n",
       "      <th>deaths</th>\n",
       "      <th>deaths_avg</th>\n",
       "      <th>deaths_avg_per_100k</th>\n",
       "      <th>INTPTLAT</th>\n",
       "      <th>INTPTLONG</th>\n",
       "    </tr>\n",
       "  </thead>\n",
       "  <tbody>\n",
       "    <tr>\n",
       "      <th>0</th>\n",
       "      <td>2020-01-21</td>\n",
       "      <td>53061</td>\n",
       "      <td>Snohomish</td>\n",
       "      <td>Washington</td>\n",
       "      <td>1</td>\n",
       "      <td>0.14</td>\n",
       "      <td>0.02</td>\n",
       "      <td>0</td>\n",
       "      <td>0.0</td>\n",
       "      <td>0.0</td>\n",
       "      <td>48.054913</td>\n",
       "      <td>-121.765038</td>\n",
       "    </tr>\n",
       "    <tr>\n",
       "      <th>1</th>\n",
       "      <td>2020-01-22</td>\n",
       "      <td>53061</td>\n",
       "      <td>Snohomish</td>\n",
       "      <td>Washington</td>\n",
       "      <td>0</td>\n",
       "      <td>0.14</td>\n",
       "      <td>0.02</td>\n",
       "      <td>0</td>\n",
       "      <td>0.0</td>\n",
       "      <td>0.0</td>\n",
       "      <td>48.054913</td>\n",
       "      <td>-121.765038</td>\n",
       "    </tr>\n",
       "    <tr>\n",
       "      <th>2</th>\n",
       "      <td>2020-01-23</td>\n",
       "      <td>53061</td>\n",
       "      <td>Snohomish</td>\n",
       "      <td>Washington</td>\n",
       "      <td>0</td>\n",
       "      <td>0.14</td>\n",
       "      <td>0.02</td>\n",
       "      <td>0</td>\n",
       "      <td>0.0</td>\n",
       "      <td>0.0</td>\n",
       "      <td>48.054913</td>\n",
       "      <td>-121.765038</td>\n",
       "    </tr>\n",
       "    <tr>\n",
       "      <th>3</th>\n",
       "      <td>2020-01-24</td>\n",
       "      <td>53061</td>\n",
       "      <td>Snohomish</td>\n",
       "      <td>Washington</td>\n",
       "      <td>0</td>\n",
       "      <td>0.14</td>\n",
       "      <td>0.02</td>\n",
       "      <td>0</td>\n",
       "      <td>0.0</td>\n",
       "      <td>0.0</td>\n",
       "      <td>48.054913</td>\n",
       "      <td>-121.765038</td>\n",
       "    </tr>\n",
       "  </tbody>\n",
       "</table>\n",
       "</div>"
      ],
      "text/plain": [
       "         date  geoid     county       state  cases  cases_avg  cases_avg_per_100k  deaths  deaths_avg  deaths_avg_per_100k   INTPTLAT   INTPTLONG\n",
       "0  2020-01-21  53061  Snohomish  Washington      1       0.14                0.02       0         0.0                  0.0  48.054913 -121.765038\n",
       "1  2020-01-22  53061  Snohomish  Washington      0       0.14                0.02       0         0.0                  0.0  48.054913 -121.765038\n",
       "2  2020-01-23  53061  Snohomish  Washington      0       0.14                0.02       0         0.0                  0.0  48.054913 -121.765038\n",
       "3  2020-01-24  53061  Snohomish  Washington      0       0.14                0.02       0         0.0                  0.0  48.054913 -121.765038"
      ]
     },
     "execution_count": 113,
     "metadata": {},
     "output_type": "execute_result"
    }
   ],
   "source": [
    "new_df = df.join(geoid_lat_long_gind,on='geoid')\n",
    "new_df[:4]"
   ]
  },
  {
   "cell_type": "markdown",
   "metadata": {},
   "source": [
    "Let's summarize what we did.\n",
    "\n",
    "1.   We had two columns (`INTPTLAT`,`INTPTLONG`) in the join DataFrame (`geoid_lat_long_gind`) that we wanted to distribute to the rows of the Covid df (`df`). \n",
    "2.  We identified a column in `df` that we were going to merge **on** (`'geoid'`).  This column is like an indexing column in a pivot or cross-tabulation.   It divides the rows of `df` into groups. Each group\n",
    "should get the same `INTPTLAT`, `INTPTLONG` values.\n",
    "3.  We promoted the geoid column in `geoid_lat_long_gind` to be the index.  Note the name of this promoted column\n",
    "didn't matter (`'geoid'` and `'GEOID'` are different).  What mattered is that both `'geoid'` and `'GEOID'` contained the same value set, geoid codes.\n",
    "4.  We did the join, creating a new data frame with the same number of rows as `df`, but two new columns. "
   ]
  },
  {
   "cell_type": "code",
   "execution_count": 115,
   "metadata": {},
   "outputs": [
    {
     "data": {
      "text/plain": [
       "(1774204, 1774204, 10, 12)"
      ]
     },
     "execution_count": 115,
     "metadata": {},
     "output_type": "execute_result"
    }
   ],
   "source": [
    "len(df),len(new_df),len(df.columns),len(new_df.columns)"
   ]
  },
  {
   "cell_type": "markdown",
   "metadata": {},
   "source": [
    "We join one DataFrame `df` with another `join` DataFrame.\n",
    "\n",
    "What makes a join different from a merge is that there has to be a column in `df` that is joined **on**;\n",
    "and the values in that column can all be found in the index of the join DataFrame.\n",
    "\n",
    "The data in the join DataFrame is then distributed to the rows of `df` according to the row groups\n",
    "defined by the joined-on column.\n",
    "\n",
    "We do not show it here, but it is possible to join on more than one column, just as it is possible to use more than one column for grouping in a cross-tabulation or a pivot table.\n"
   ]
  },
  {
   "cell_type": "markdown",
   "metadata": {},
   "source": [
    "## Summary and conclusion "
   ]
  },
  {
   "cell_type": "markdown",
   "metadata": {},
   "source": [
    "In Part two of our introduction to `pandas` we focused on pivoting and merging.\n",
    "\n",
    "Both these topics fall under the general heading of restructuring data.  Pivot tables\n",
    "collapse multiple rows of the input dfata, often making it easier to understand; often,\n",
    "but not always, that involves performing some aggregation operation on groups of rows.\n",
    "\n",
    "Merging operations combine data from two DataFrames (often from two different data sources).\n",
    "Merging results in DataFrame with a different number of columns than either of the inputs.\n",
    "This counts as restructuring.  But where pivoting and cross tabulation are essentially\n",
    "ways of computing staistical summaries, merging has the potential creating new information\n",
    "and adding  value.  Adding GDP numbers to the life satisfaction data opened up new ways\n",
    "of constructing a data model.  Adding lat longs to the Covid data opened the door to new\n",
    "kinds of visualization."
   ]
  },
  {
   "cell_type": "code",
   "execution_count": null,
   "metadata": {},
   "outputs": [],
   "source": []
  }
 ],
 "metadata": {
  "colab": {
   "collapsed_sections": [
    "H0Fm26upACZa",
    "A5qu31VgACZd",
    "X20Rq_OmACZi",
    "K-4cvYzaACZp",
    "XQpmQCFTACZ7",
    "btRQesIMACZ8",
    "Q4kaHDAAACaB"
   ],
   "name": "Copy of general_pandas_intro.ipynb",
   "provenance": []
  },
  "kernelspec": {
   "display_name": "Python 3 (ipykernel)",
   "language": "python",
   "name": "python3"
  },
  "language_info": {
   "codemirror_mode": {
    "name": "ipython",
    "version": 3
   },
   "file_extension": ".py",
   "mimetype": "text/x-python",
   "name": "python",
   "nbconvert_exporter": "python",
   "pygments_lexer": "ipython3",
   "version": "3.7.0"
  },
  "name": "_merged",
  "toc": {
   "base_numbering": 1,
   "nav_menu": {
    "height": "318px",
    "width": "252px"
   },
   "number_sections": true,
   "sideBar": true,
   "skip_h1_title": false,
   "title_cell": "Table of Contents",
   "title_sidebar": "Contents",
   "toc_cell": false,
   "toc_position": {},
   "toc_section_display": "block",
   "toc_window_display": false
  }
 },
 "nbformat": 4,
 "nbformat_minor": 1
}
