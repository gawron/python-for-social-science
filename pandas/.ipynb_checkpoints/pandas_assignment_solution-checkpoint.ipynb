{
 "cells": [
  {
   "cell_type": "markdown",
   "metadata": {
    "id": "pfTKFnh1LXl6"
   },
   "source": [
    "## 1  Preliminaries"
   ]
  },
  {
   "cell_type": "code",
   "execution_count": null,
   "metadata": {
    "colab": {
     "base_uri": "https://localhost:8080/"
    },
    "id": "oZJ2epPOLXl-",
    "outputId": "c69ccba0-58bb-4678-8a3f-8496ee444520"
   },
   "outputs": [
    {
     "name": "stdout",
     "output_type": "stream",
     "text": [
      "Mounted at /content/gdrive\n"
     ]
    }
   ],
   "source": [
    "# The usual preamble\n",
    "import pandas as pd\n",
    "from matplotlib import pyplot as plt\n",
    "# Make the graphs a bit prettier, and bigger\n",
    "#pd.set_option('display.mpl_style', 'default') \n",
    "#pd.set_option('display.line_width', 5000) \n",
    "pd.set_option('display.max_columns', 60) \n",
    "import os.path\n",
    "import pandas as pd"
   ]
  },
  {
   "cell_type": "markdown",
   "metadata": {
    "id": "fatuqZoLLXl_"
   },
   "source": [
    "We're going to use a new dataset here, to demonstrate how to deal with larger datasets. This is a subset of the of 311 service requests from [NYC Open Data](https://nycopendata.socrata.com/Social-Services/311-Service-Requests-from-2010-to-Present/erm2-nwe9). "
   ]
  },
  {
   "cell_type": "code",
   "execution_count": 156,
   "metadata": {
    "id": "N66SRMC1LXmA"
   },
   "outputs": [],
   "source": [
    "import pandas as pd\n",
    "import pandas as pd\n",
    "url = 'https://gawron.sdsu.edu/python_for_ss/course_core/book_draft/_static/names/yob2000.txt'\n",
    "names2000 = pd.read_csv(url,names=['name','sex','births'])"
   ]
  },
  {
   "cell_type": "markdown",
   "metadata": {
    "id": "xbeTs3k6LXmA"
   },
   "source": [
    "## 2.1 Selecting columns and rows"
   ]
  },
  {
   "cell_type": "markdown",
   "metadata": {
    "id": "it6yzsOjLXmA"
   },
   "source": [
    "In next cell, write an expression that returns a `pandas` `Series` with just the names in the `name` column."
   ]
  },
  {
   "cell_type": "code",
   "execution_count": null,
   "metadata": {
    "colab": {
     "base_uri": "https://localhost:8080/"
    },
    "id": "avRlrTyRLXmB",
    "outputId": "408d7da3-4ae6-48fa-86fa-040a34192ce6",
    "scrolled": true
   },
   "outputs": [
    {
     "data": {
      "text/plain": [
       "0          Emily\n",
       "1         Hannah\n",
       "2        Madison\n",
       "3         Ashley\n",
       "4          Sarah\n",
       "          ...   \n",
       "29753       Zeph\n",
       "29754      Zeven\n",
       "29755      Ziggy\n",
       "29756         Zo\n",
       "29757      Zyier\n",
       "Name: name, Length: 29758, dtype: object"
      ]
     },
     "execution_count": 18,
     "metadata": {},
     "output_type": "execute_result"
    }
   ],
   "source": [
    "names2000['name']"
   ]
  },
  {
   "cell_type": "markdown",
   "metadata": {
    "id": "8HIyXfsLLXmB"
   },
   "source": [
    "In the next cell, write an expression that returns the first 25 rows of the `names2000` dataframe,"
   ]
  },
  {
   "cell_type": "code",
   "execution_count": null,
   "metadata": {
    "colab": {
     "base_uri": "https://localhost:8080/",
     "height": 833
    },
    "id": "tokmepb7LXmC",
    "outputId": "ed5b6cdd-5b78-4814-d5b0-4b6aecf82dbb",
    "scrolled": true
   },
   "outputs": [
    {
     "data": {
      "text/html": [
       "<div>\n",
       "<style scoped>\n",
       "    .dataframe tbody tr th:only-of-type {\n",
       "        vertical-align: middle;\n",
       "    }\n",
       "\n",
       "    .dataframe tbody tr th {\n",
       "        vertical-align: top;\n",
       "    }\n",
       "\n",
       "    .dataframe thead th {\n",
       "        text-align: right;\n",
       "    }\n",
       "</style>\n",
       "<table border=\"1\" class=\"dataframe\">\n",
       "  <thead>\n",
       "    <tr style=\"text-align: right;\">\n",
       "      <th></th>\n",
       "      <th>name</th>\n",
       "      <th>sex</th>\n",
       "      <th>births</th>\n",
       "    </tr>\n",
       "  </thead>\n",
       "  <tbody>\n",
       "    <tr>\n",
       "      <th>0</th>\n",
       "      <td>Emily</td>\n",
       "      <td>F</td>\n",
       "      <td>25949</td>\n",
       "    </tr>\n",
       "    <tr>\n",
       "      <th>1</th>\n",
       "      <td>Hannah</td>\n",
       "      <td>F</td>\n",
       "      <td>23066</td>\n",
       "    </tr>\n",
       "    <tr>\n",
       "      <th>2</th>\n",
       "      <td>Madison</td>\n",
       "      <td>F</td>\n",
       "      <td>19965</td>\n",
       "    </tr>\n",
       "    <tr>\n",
       "      <th>3</th>\n",
       "      <td>Ashley</td>\n",
       "      <td>F</td>\n",
       "      <td>17991</td>\n",
       "    </tr>\n",
       "    <tr>\n",
       "      <th>4</th>\n",
       "      <td>Sarah</td>\n",
       "      <td>F</td>\n",
       "      <td>17677</td>\n",
       "    </tr>\n",
       "    <tr>\n",
       "      <th>5</th>\n",
       "      <td>Alexis</td>\n",
       "      <td>F</td>\n",
       "      <td>17622</td>\n",
       "    </tr>\n",
       "    <tr>\n",
       "      <th>6</th>\n",
       "      <td>Samantha</td>\n",
       "      <td>F</td>\n",
       "      <td>17262</td>\n",
       "    </tr>\n",
       "    <tr>\n",
       "      <th>7</th>\n",
       "      <td>Jessica</td>\n",
       "      <td>F</td>\n",
       "      <td>15698</td>\n",
       "    </tr>\n",
       "    <tr>\n",
       "      <th>8</th>\n",
       "      <td>Elizabeth</td>\n",
       "      <td>F</td>\n",
       "      <td>15077</td>\n",
       "    </tr>\n",
       "    <tr>\n",
       "      <th>9</th>\n",
       "      <td>Taylor</td>\n",
       "      <td>F</td>\n",
       "      <td>15076</td>\n",
       "    </tr>\n",
       "    <tr>\n",
       "      <th>10</th>\n",
       "      <td>Lauren</td>\n",
       "      <td>F</td>\n",
       "      <td>14171</td>\n",
       "    </tr>\n",
       "    <tr>\n",
       "      <th>11</th>\n",
       "      <td>Alyssa</td>\n",
       "      <td>F</td>\n",
       "      <td>13551</td>\n",
       "    </tr>\n",
       "    <tr>\n",
       "      <th>12</th>\n",
       "      <td>Kayla</td>\n",
       "      <td>F</td>\n",
       "      <td>13309</td>\n",
       "    </tr>\n",
       "    <tr>\n",
       "      <th>13</th>\n",
       "      <td>Abigail</td>\n",
       "      <td>F</td>\n",
       "      <td>13085</td>\n",
       "    </tr>\n",
       "    <tr>\n",
       "      <th>14</th>\n",
       "      <td>Brianna</td>\n",
       "      <td>F</td>\n",
       "      <td>12873</td>\n",
       "    </tr>\n",
       "    <tr>\n",
       "      <th>15</th>\n",
       "      <td>Olivia</td>\n",
       "      <td>F</td>\n",
       "      <td>12849</td>\n",
       "    </tr>\n",
       "    <tr>\n",
       "      <th>16</th>\n",
       "      <td>Emma</td>\n",
       "      <td>F</td>\n",
       "      <td>12533</td>\n",
       "    </tr>\n",
       "    <tr>\n",
       "      <th>17</th>\n",
       "      <td>Megan</td>\n",
       "      <td>F</td>\n",
       "      <td>11433</td>\n",
       "    </tr>\n",
       "    <tr>\n",
       "      <th>18</th>\n",
       "      <td>Grace</td>\n",
       "      <td>F</td>\n",
       "      <td>11281</td>\n",
       "    </tr>\n",
       "    <tr>\n",
       "      <th>19</th>\n",
       "      <td>Victoria</td>\n",
       "      <td>F</td>\n",
       "      <td>10920</td>\n",
       "    </tr>\n",
       "    <tr>\n",
       "      <th>20</th>\n",
       "      <td>Rachel</td>\n",
       "      <td>F</td>\n",
       "      <td>10655</td>\n",
       "    </tr>\n",
       "    <tr>\n",
       "      <th>21</th>\n",
       "      <td>Anna</td>\n",
       "      <td>F</td>\n",
       "      <td>10569</td>\n",
       "    </tr>\n",
       "    <tr>\n",
       "      <th>22</th>\n",
       "      <td>Sydney</td>\n",
       "      <td>F</td>\n",
       "      <td>10241</td>\n",
       "    </tr>\n",
       "    <tr>\n",
       "      <th>23</th>\n",
       "      <td>Destiny</td>\n",
       "      <td>F</td>\n",
       "      <td>9842</td>\n",
       "    </tr>\n",
       "    <tr>\n",
       "      <th>24</th>\n",
       "      <td>Morgan</td>\n",
       "      <td>F</td>\n",
       "      <td>9502</td>\n",
       "    </tr>\n",
       "  </tbody>\n",
       "</table>\n",
       "</div>"
      ],
      "text/plain": [
       "         name sex  births\n",
       "0       Emily   F   25949\n",
       "1      Hannah   F   23066\n",
       "2     Madison   F   19965\n",
       "3      Ashley   F   17991\n",
       "4       Sarah   F   17677\n",
       "5      Alexis   F   17622\n",
       "6    Samantha   F   17262\n",
       "7     Jessica   F   15698\n",
       "8   Elizabeth   F   15077\n",
       "9      Taylor   F   15076\n",
       "10     Lauren   F   14171\n",
       "11     Alyssa   F   13551\n",
       "12      Kayla   F   13309\n",
       "13    Abigail   F   13085\n",
       "14    Brianna   F   12873\n",
       "15     Olivia   F   12849\n",
       "16       Emma   F   12533\n",
       "17      Megan   F   11433\n",
       "18      Grace   F   11281\n",
       "19   Victoria   F   10920\n",
       "20     Rachel   F   10655\n",
       "21       Anna   F   10569\n",
       "22     Sydney   F   10241\n",
       "23    Destiny   F    9842\n",
       "24     Morgan   F    9502"
      ]
     },
     "execution_count": 19,
     "metadata": {},
     "output_type": "execute_result"
    }
   ],
   "source": [
    "names2000[:25]"
   ]
  },
  {
   "cell_type": "markdown",
   "metadata": {
    "id": "HqcuwwDXLXmC"
   },
   "source": [
    "In the next cell write an expression that returns the first 25 row of the `name` column."
   ]
  },
  {
   "cell_type": "code",
   "execution_count": null,
   "metadata": {
    "colab": {
     "base_uri": "https://localhost:8080/"
    },
    "id": "X5ctwgekLXmD",
    "outputId": "eb4dbe9b-ddd4-4c2c-ceea-e6ed9adc808d"
   },
   "outputs": [
    {
     "data": {
      "text/plain": [
       "0         Emily\n",
       "1        Hannah\n",
       "2       Madison\n",
       "3        Ashley\n",
       "4         Sarah\n",
       "5        Alexis\n",
       "6      Samantha\n",
       "7       Jessica\n",
       "8     Elizabeth\n",
       "9        Taylor\n",
       "10       Lauren\n",
       "11       Alyssa\n",
       "12        Kayla\n",
       "13      Abigail\n",
       "14      Brianna\n",
       "15       Olivia\n",
       "16         Emma\n",
       "17        Megan\n",
       "18        Grace\n",
       "19     Victoria\n",
       "20       Rachel\n",
       "21         Anna\n",
       "22       Sydney\n",
       "23      Destiny\n",
       "24       Morgan\n",
       "Name: name, dtype: object"
      ]
     },
     "execution_count": 20,
     "metadata": {},
     "output_type": "execute_result"
    }
   ],
   "source": [
    "names2000['name'][:25]"
   ]
  },
  {
   "cell_type": "markdown",
   "metadata": {
    "id": "2tid8pyZLXmD"
   },
   "source": [
    "## 2.2 Selecting multiple columns"
   ]
  },
  {
   "cell_type": "markdown",
   "metadata": {
    "id": "UUEeWumhLXmD"
   },
   "source": [
    "What if we just want to know the gender and the birth counts, but not the name? Pandas makes it really easy to select a subset of the columns: just index with list of columns you want.  Write an expression that that returns a data frame with just the `births` and `sex` columns of the `names2000` dataframe."
   ]
  },
  {
   "cell_type": "code",
   "execution_count": null,
   "metadata": {
    "colab": {
     "base_uri": "https://localhost:8080/",
     "height": 423
    },
    "id": "akpUbIDlLXmD",
    "outputId": "7d28e0aa-de69-423f-b08c-656251d1c439",
    "scrolled": true
   },
   "outputs": [
    {
     "data": {
      "text/html": [
       "<div>\n",
       "<style scoped>\n",
       "    .dataframe tbody tr th:only-of-type {\n",
       "        vertical-align: middle;\n",
       "    }\n",
       "\n",
       "    .dataframe tbody tr th {\n",
       "        vertical-align: top;\n",
       "    }\n",
       "\n",
       "    .dataframe thead th {\n",
       "        text-align: right;\n",
       "    }\n",
       "</style>\n",
       "<table border=\"1\" class=\"dataframe\">\n",
       "  <thead>\n",
       "    <tr style=\"text-align: right;\">\n",
       "      <th></th>\n",
       "      <th>births</th>\n",
       "      <th>sex</th>\n",
       "    </tr>\n",
       "  </thead>\n",
       "  <tbody>\n",
       "    <tr>\n",
       "      <th>0</th>\n",
       "      <td>25949</td>\n",
       "      <td>F</td>\n",
       "    </tr>\n",
       "    <tr>\n",
       "      <th>1</th>\n",
       "      <td>23066</td>\n",
       "      <td>F</td>\n",
       "    </tr>\n",
       "    <tr>\n",
       "      <th>2</th>\n",
       "      <td>19965</td>\n",
       "      <td>F</td>\n",
       "    </tr>\n",
       "    <tr>\n",
       "      <th>3</th>\n",
       "      <td>17991</td>\n",
       "      <td>F</td>\n",
       "    </tr>\n",
       "    <tr>\n",
       "      <th>4</th>\n",
       "      <td>17677</td>\n",
       "      <td>F</td>\n",
       "    </tr>\n",
       "    <tr>\n",
       "      <th>...</th>\n",
       "      <td>...</td>\n",
       "      <td>...</td>\n",
       "    </tr>\n",
       "    <tr>\n",
       "      <th>29753</th>\n",
       "      <td>5</td>\n",
       "      <td>M</td>\n",
       "    </tr>\n",
       "    <tr>\n",
       "      <th>29754</th>\n",
       "      <td>5</td>\n",
       "      <td>M</td>\n",
       "    </tr>\n",
       "    <tr>\n",
       "      <th>29755</th>\n",
       "      <td>5</td>\n",
       "      <td>M</td>\n",
       "    </tr>\n",
       "    <tr>\n",
       "      <th>29756</th>\n",
       "      <td>5</td>\n",
       "      <td>M</td>\n",
       "    </tr>\n",
       "    <tr>\n",
       "      <th>29757</th>\n",
       "      <td>5</td>\n",
       "      <td>M</td>\n",
       "    </tr>\n",
       "  </tbody>\n",
       "</table>\n",
       "<p>29758 rows × 2 columns</p>\n",
       "</div>"
      ],
      "text/plain": [
       "       births sex\n",
       "0       25949   F\n",
       "1       23066   F\n",
       "2       19965   F\n",
       "3       17991   F\n",
       "4       17677   F\n",
       "...       ...  ..\n",
       "29753       5   M\n",
       "29754       5   M\n",
       "29755       5   M\n",
       "29756       5   M\n",
       "29757       5   M\n",
       "\n",
       "[29758 rows x 2 columns]"
      ]
     },
     "execution_count": 4,
     "metadata": {},
     "output_type": "execute_result"
    }
   ],
   "source": [
    "names2000[['births','sex']]"
   ]
  },
  {
   "cell_type": "markdown",
   "metadata": {
    "id": "B_Ws4J-bdt_M"
   },
   "source": []
  },
  {
   "cell_type": "markdown",
   "metadata": {
    "id": "5oCVuaDXLXmE"
   },
   "source": [
    "Now write an expression that returns just the first ten rows of the dataframe you returned in the cell above. "
   ]
  },
  {
   "cell_type": "code",
   "execution_count": null,
   "metadata": {
    "colab": {
     "base_uri": "https://localhost:8080/",
     "height": 362
    },
    "id": "meg2hiXceI6r",
    "outputId": "a2398a87-8a49-4cd3-ec34-249757c95da9"
   },
   "outputs": [
    {
     "data": {
      "text/html": [
       "<div>\n",
       "<style scoped>\n",
       "    .dataframe tbody tr th:only-of-type {\n",
       "        vertical-align: middle;\n",
       "    }\n",
       "\n",
       "    .dataframe tbody tr th {\n",
       "        vertical-align: top;\n",
       "    }\n",
       "\n",
       "    .dataframe thead th {\n",
       "        text-align: right;\n",
       "    }\n",
       "</style>\n",
       "<table border=\"1\" class=\"dataframe\">\n",
       "  <thead>\n",
       "    <tr style=\"text-align: right;\">\n",
       "      <th></th>\n",
       "      <th>births</th>\n",
       "      <th>sex</th>\n",
       "    </tr>\n",
       "  </thead>\n",
       "  <tbody>\n",
       "    <tr>\n",
       "      <th>0</th>\n",
       "      <td>25949</td>\n",
       "      <td>F</td>\n",
       "    </tr>\n",
       "    <tr>\n",
       "      <th>1</th>\n",
       "      <td>23066</td>\n",
       "      <td>F</td>\n",
       "    </tr>\n",
       "    <tr>\n",
       "      <th>2</th>\n",
       "      <td>19965</td>\n",
       "      <td>F</td>\n",
       "    </tr>\n",
       "    <tr>\n",
       "      <th>3</th>\n",
       "      <td>17991</td>\n",
       "      <td>F</td>\n",
       "    </tr>\n",
       "    <tr>\n",
       "      <th>4</th>\n",
       "      <td>17677</td>\n",
       "      <td>F</td>\n",
       "    </tr>\n",
       "    <tr>\n",
       "      <th>5</th>\n",
       "      <td>17622</td>\n",
       "      <td>F</td>\n",
       "    </tr>\n",
       "    <tr>\n",
       "      <th>6</th>\n",
       "      <td>17262</td>\n",
       "      <td>F</td>\n",
       "    </tr>\n",
       "    <tr>\n",
       "      <th>7</th>\n",
       "      <td>15698</td>\n",
       "      <td>F</td>\n",
       "    </tr>\n",
       "    <tr>\n",
       "      <th>8</th>\n",
       "      <td>15077</td>\n",
       "      <td>F</td>\n",
       "    </tr>\n",
       "    <tr>\n",
       "      <th>9</th>\n",
       "      <td>15076</td>\n",
       "      <td>F</td>\n",
       "    </tr>\n",
       "  </tbody>\n",
       "</table>\n",
       "</div>"
      ],
      "text/plain": [
       "   births sex\n",
       "0   25949   F\n",
       "1   23066   F\n",
       "2   19965   F\n",
       "3   17991   F\n",
       "4   17677   F\n",
       "5   17622   F\n",
       "6   17262   F\n",
       "7   15698   F\n",
       "8   15077   F\n",
       "9   15076   F"
      ]
     },
     "execution_count": 5,
     "metadata": {},
     "output_type": "execute_result"
    }
   ],
   "source": [
    "names2000[['births','sex']][:10]"
   ]
  },
  {
   "cell_type": "markdown",
   "metadata": {
    "id": "p8DL_5TbLXmE"
   },
   "source": [
    "## Plotting"
   ]
  },
  {
   "cell_type": "markdown",
   "metadata": {
    "id": "wsu8vnl-LXmE"
   },
   "source": [
    "Write some lines of code that do a barplot of the first fifteen rows of the `names2000` dataframe.  Make sure the `x`-axis shows the name associated with each bar (and not just an arbitrary integer)."
   ]
  },
  {
   "cell_type": "markdown",
   "metadata": {
    "id": "wDGsQttD2E1T"
   },
   "source": [
    "Note the index used in `names2000` is the default index."
   ]
  },
  {
   "cell_type": "code",
   "execution_count": null,
   "metadata": {
    "colab": {
     "base_uri": "https://localhost:8080/",
     "height": 423
    },
    "id": "WNzTZ-wL2CXK",
    "outputId": "8f6834b4-dd83-4823-a79b-b49e130883a6"
   },
   "outputs": [
    {
     "data": {
      "text/html": [
       "<div>\n",
       "<style scoped>\n",
       "    .dataframe tbody tr th:only-of-type {\n",
       "        vertical-align: middle;\n",
       "    }\n",
       "\n",
       "    .dataframe tbody tr th {\n",
       "        vertical-align: top;\n",
       "    }\n",
       "\n",
       "    .dataframe thead th {\n",
       "        text-align: right;\n",
       "    }\n",
       "</style>\n",
       "<table border=\"1\" class=\"dataframe\">\n",
       "  <thead>\n",
       "    <tr style=\"text-align: right;\">\n",
       "      <th></th>\n",
       "      <th>name</th>\n",
       "      <th>sex</th>\n",
       "      <th>births</th>\n",
       "    </tr>\n",
       "  </thead>\n",
       "  <tbody>\n",
       "    <tr>\n",
       "      <th>0</th>\n",
       "      <td>Emily</td>\n",
       "      <td>F</td>\n",
       "      <td>25949</td>\n",
       "    </tr>\n",
       "    <tr>\n",
       "      <th>1</th>\n",
       "      <td>Hannah</td>\n",
       "      <td>F</td>\n",
       "      <td>23066</td>\n",
       "    </tr>\n",
       "    <tr>\n",
       "      <th>2</th>\n",
       "      <td>Madison</td>\n",
       "      <td>F</td>\n",
       "      <td>19965</td>\n",
       "    </tr>\n",
       "    <tr>\n",
       "      <th>3</th>\n",
       "      <td>Ashley</td>\n",
       "      <td>F</td>\n",
       "      <td>17991</td>\n",
       "    </tr>\n",
       "    <tr>\n",
       "      <th>4</th>\n",
       "      <td>Sarah</td>\n",
       "      <td>F</td>\n",
       "      <td>17677</td>\n",
       "    </tr>\n",
       "    <tr>\n",
       "      <th>...</th>\n",
       "      <td>...</td>\n",
       "      <td>...</td>\n",
       "      <td>...</td>\n",
       "    </tr>\n",
       "    <tr>\n",
       "      <th>29753</th>\n",
       "      <td>Zeph</td>\n",
       "      <td>M</td>\n",
       "      <td>5</td>\n",
       "    </tr>\n",
       "    <tr>\n",
       "      <th>29754</th>\n",
       "      <td>Zeven</td>\n",
       "      <td>M</td>\n",
       "      <td>5</td>\n",
       "    </tr>\n",
       "    <tr>\n",
       "      <th>29755</th>\n",
       "      <td>Ziggy</td>\n",
       "      <td>M</td>\n",
       "      <td>5</td>\n",
       "    </tr>\n",
       "    <tr>\n",
       "      <th>29756</th>\n",
       "      <td>Zo</td>\n",
       "      <td>M</td>\n",
       "      <td>5</td>\n",
       "    </tr>\n",
       "    <tr>\n",
       "      <th>29757</th>\n",
       "      <td>Zyier</td>\n",
       "      <td>M</td>\n",
       "      <td>5</td>\n",
       "    </tr>\n",
       "  </tbody>\n",
       "</table>\n",
       "<p>29758 rows × 3 columns</p>\n",
       "</div>"
      ],
      "text/plain": [
       "          name sex  births\n",
       "0        Emily   F   25949\n",
       "1       Hannah   F   23066\n",
       "2      Madison   F   19965\n",
       "3       Ashley   F   17991\n",
       "4        Sarah   F   17677\n",
       "...        ...  ..     ...\n",
       "29753     Zeph   M       5\n",
       "29754    Zeven   M       5\n",
       "29755    Ziggy   M       5\n",
       "29756       Zo   M       5\n",
       "29757    Zyier   M       5\n",
       "\n",
       "[29758 rows x 3 columns]"
      ]
     },
     "execution_count": 21,
     "metadata": {},
     "output_type": "execute_result"
    }
   ],
   "source": [
    "names2000"
   ]
  },
  {
   "cell_type": "code",
   "execution_count": 158,
   "metadata": {},
   "outputs": [
    {
     "data": {
      "text/plain": [
       "<AxesSubplot:xlabel='name'>"
      ]
     },
     "execution_count": 158,
     "metadata": {},
     "output_type": "execute_result"
    },
    {
     "data": {
      "image/png": "[encoded data removed]",
      "text/plain": [
       "<Figure size 432x288 with 1 Axes>"
      ]
     },
     "metadata": {
      "needs_background": "light"
     },
     "output_type": "display_data"
    }
   ],
   "source": [
    "#Rotate name labels 45 degrees\n",
    "names2000[:15].plot('name','births',kind='bar',rot=45)"
   ]
  },
  {
   "cell_type": "markdown",
   "metadata": {},
   "source": [
    "Note that unless we say what columns we want plotted against each other, a quantitative\n",
    "column will be chosen for the y-axis values ('births', that's good); and the index\n",
    "will be chosen for the x-axis (that's bad).  So we get the pretty uninformative picture:"
   ]
  },
  {
   "cell_type": "code",
   "execution_count": null,
   "metadata": {
    "colab": {
     "base_uri": "https://localhost:8080/",
     "height": 286
    },
    "id": "Ss1GVyIu2RUQ",
    "outputId": "01e2d033-b0af-4e0f-918a-d7cfc3bc4899"
   },
   "outputs": [
    {
     "data": {
      "text/plain": [
       "<AxesSubplot:>"
      ]
     },
     "execution_count": 22,
     "metadata": {},
     "output_type": "execute_result"
    },
    {
     "data": {
      "image/png": "[encoded data removed]",
      "text/plain": [
       "<Figure size 432x288 with 1 Axes>"
      ]
     },
     "metadata": {
      "needs_background": "light"
     },
     "output_type": "display_data"
    }
   ],
   "source": [
    "names2000[:15].plot(kind='bar')"
   ]
  },
  {
   "cell_type": "markdown",
   "metadata": {
    "collapsed": true,
    "id": "Lwh9Y7C8LXmG"
   },
   "source": [
    "# Aggregation"
   ]
  },
  {
   "cell_type": "markdown",
   "metadata": {
    "id": "vFKX0dN4LXmG"
   },
   "source": [
    "The following code loads the service requests data used in one of your pandas notebooks, and creates \n",
    "a subtable consisting of the data for just three agencies.  It then adds a **new** column called `Count`,\n",
    "which we're going to use for counting complaints.  Since each row represents exactly one complain,\n",
    "the value in the `Count` column is always 1."
   ]
  },
  {
   "cell_type": "code",
   "execution_count": 4,
   "metadata": {
    "colab": {
     "base_uri": "https://localhost:8080/"
    },
    "id": "D9G6YMMZLXmH",
    "outputId": "d1d50372-bdb8-4995-b2a7-9a1f8c3d58e8"
   },
   "outputs": [
    {
     "name": "stderr",
     "output_type": "stream",
     "text": [
      "/Users/gawron/opt/anaconda3/lib/python3.7/site-packages/IPython/core/interactiveshell.py:3457: DtypeWarning: Columns (8) have mixed types.Specify dtype option on import or set low_memory=False.\n",
      "  exec(code_obj, self.user_global_ns, self.user_ns)\n"
     ]
    }
   ],
   "source": [
    "import pandas as pd\n",
    "fn = '311-service-requests.csv'\n",
    "base_url = 'https://github.com/gawron/pandas-cookbook/master/data'\n",
    "path = f'{base_url}/{fn}'\n",
    "raw_path = path.replace('github.com','raw.githubusercontent.com')\n",
    "complaints = pd.read_csv(raw_path)"
   ]
  },
  {
   "cell_type": "markdown",
   "metadata": {},
   "source": [
    "#### Problems\n",
    "\n",
    "1.  Create DataFrame whose rows are the three agencies above and whose columns are the complaint types.  Each cell in the DataFrame  should contains the total number of complaints of that complaint type for that agency.  For example, in the NYPD row, the Animal Abuse column should have the number 164, meaning that 164 animal abuse complaints were made to NYPD.\n",
    "\n",
    "2. Create a DataFrame whose rows are the rows are the Manhattan zipcodes (look in the 'Borough' column) and whose column is the single complaint type 'GENERAL CONSTRUCTION'.  Each cell in the DataFrame  should contains the total number of GENERAL CONSTRUCTION complaints for that zipcode.  For example, zipcode 100040 has 83 GENERAL CONSTREUCTION complaints.\n"
   ]
  },
  {
   "cell_type": "markdown",
   "metadata": {
    "id": "aV1gE9aOLXmI"
   },
   "source": [
    "#### Problem 1\n",
    "\n",
    "The following code creates a subtable with just the complaints for the following three\n",
    "agencies: `DOT`, `DOP`, and `NYPD`."
   ]
  },
  {
   "cell_type": "code",
   "execution_count": 5,
   "metadata": {
    "id": "H6hhteSJLXmI"
   },
   "outputs": [],
   "source": [
    "pt00 = complaints[complaints.Agency.isin(['DOT', \"DOP\", 'NYPD'])]"
   ]
  },
  {
   "cell_type": "code",
   "execution_count": 9,
   "metadata": {
    "id": "fcil-WJGLXmI"
   },
   "outputs": [],
   "source": [
    "pt0 = pd.crosstab(pt00['Agency'],pt00['Complaint Type'])"
   ]
  },
  {
   "cell_type": "code",
   "execution_count": null,
   "metadata": {
    "colab": {
     "base_uri": "https://localhost:8080/",
     "height": 291
    },
    "id": "my2E91RGLXmI",
    "outputId": "2936f990-bf50-4bf2-ae1b-3ed50ce76621"
   },
   "outputs": [
    {
     "data": {
      "text/html": [
       "\n",
       "  <div id=\"df-4290b85d-649b-4965-a96e-800c33b6a05a\">\n",
       "    <div class=\"colab-df-container\">\n",
       "      <div>\n",
       "<style scoped>\n",
       "    .dataframe tbody tr th:only-of-type {\n",
       "        vertical-align: middle;\n",
       "    }\n",
       "\n",
       "    .dataframe tbody tr th {\n",
       "        vertical-align: top;\n",
       "    }\n",
       "\n",
       "    .dataframe thead th {\n",
       "        text-align: right;\n",
       "    }\n",
       "</style>\n",
       "<table border=\"1\" class=\"dataframe\">\n",
       "  <thead>\n",
       "    <tr style=\"text-align: right;\">\n",
       "      <th>Complaint Type</th>\n",
       "      <th>Agency Issues</th>\n",
       "      <th>Animal Abuse</th>\n",
       "      <th>Bike Rack Condition</th>\n",
       "      <th>Bike/Roller/Skate Chronic</th>\n",
       "      <th>Blocked Driveway</th>\n",
       "      <th>Bridge Condition</th>\n",
       "      <th>Broken Muni Meter</th>\n",
       "      <th>Bus Stop Shelter Placement</th>\n",
       "      <th>Compliment</th>\n",
       "      <th>Curb Condition</th>\n",
       "      <th>DOT Literature Request</th>\n",
       "      <th>Derelict Vehicle</th>\n",
       "      <th>Disorderly Youth</th>\n",
       "      <th>Drinking</th>\n",
       "      <th>Ferry Complaint</th>\n",
       "      <th>Ferry Inquiry</th>\n",
       "      <th>Ferry Permit</th>\n",
       "      <th>Graffiti</th>\n",
       "      <th>Highway Condition</th>\n",
       "      <th>Highway Sign - Damaged</th>\n",
       "      <th>Homeless Encampment</th>\n",
       "      <th>Illegal Fireworks</th>\n",
       "      <th>Illegal Parking</th>\n",
       "      <th>Invitation</th>\n",
       "      <th>Municipal Parking Facility</th>\n",
       "      <th>Noise - Commercial</th>\n",
       "      <th>Noise - House of Worship</th>\n",
       "      <th>Noise - Park</th>\n",
       "      <th>Noise - Street/Sidewalk</th>\n",
       "      <th>Noise - Vehicle</th>\n",
       "      <th>Panhandling</th>\n",
       "      <th>Parking Card</th>\n",
       "      <th>Posting Advertisement</th>\n",
       "      <th>Public Toilet</th>\n",
       "      <th>Request for Information</th>\n",
       "      <th>Sidewalk Condition</th>\n",
       "      <th>Street Condition</th>\n",
       "      <th>Street Light Condition</th>\n",
       "      <th>Street Sign - Damaged</th>\n",
       "      <th>Street Sign - Dangling</th>\n",
       "      <th>Street Sign - Missing</th>\n",
       "      <th>Traffic</th>\n",
       "      <th>Traffic Signal Condition</th>\n",
       "      <th>Tunnel Condition</th>\n",
       "      <th>Urinating in Public</th>\n",
       "      <th>Vending</th>\n",
       "    </tr>\n",
       "    <tr>\n",
       "      <th>Agency</th>\n",
       "      <th></th>\n",
       "      <th></th>\n",
       "      <th></th>\n",
       "      <th></th>\n",
       "      <th></th>\n",
       "      <th></th>\n",
       "      <th></th>\n",
       "      <th></th>\n",
       "      <th></th>\n",
       "      <th></th>\n",
       "      <th></th>\n",
       "      <th></th>\n",
       "      <th></th>\n",
       "      <th></th>\n",
       "      <th></th>\n",
       "      <th></th>\n",
       "      <th></th>\n",
       "      <th></th>\n",
       "      <th></th>\n",
       "      <th></th>\n",
       "      <th></th>\n",
       "      <th></th>\n",
       "      <th></th>\n",
       "      <th></th>\n",
       "      <th></th>\n",
       "      <th></th>\n",
       "      <th></th>\n",
       "      <th></th>\n",
       "      <th></th>\n",
       "      <th></th>\n",
       "      <th></th>\n",
       "      <th></th>\n",
       "      <th></th>\n",
       "      <th></th>\n",
       "      <th></th>\n",
       "      <th></th>\n",
       "      <th></th>\n",
       "      <th></th>\n",
       "      <th></th>\n",
       "      <th></th>\n",
       "      <th></th>\n",
       "      <th></th>\n",
       "      <th></th>\n",
       "      <th></th>\n",
       "      <th></th>\n",
       "      <th></th>\n",
       "    </tr>\n",
       "  </thead>\n",
       "  <tbody>\n",
       "    <tr>\n",
       "      <th>DOP</th>\n",
       "      <td>NaN</td>\n",
       "      <td>NaN</td>\n",
       "      <td>NaN</td>\n",
       "      <td>NaN</td>\n",
       "      <td>NaN</td>\n",
       "      <td>NaN</td>\n",
       "      <td>NaN</td>\n",
       "      <td>NaN</td>\n",
       "      <td>NaN</td>\n",
       "      <td>NaN</td>\n",
       "      <td>NaN</td>\n",
       "      <td>NaN</td>\n",
       "      <td>NaN</td>\n",
       "      <td>NaN</td>\n",
       "      <td>NaN</td>\n",
       "      <td>NaN</td>\n",
       "      <td>NaN</td>\n",
       "      <td>NaN</td>\n",
       "      <td>NaN</td>\n",
       "      <td>NaN</td>\n",
       "      <td>NaN</td>\n",
       "      <td>NaN</td>\n",
       "      <td>NaN</td>\n",
       "      <td>1.0</td>\n",
       "      <td>NaN</td>\n",
       "      <td>NaN</td>\n",
       "      <td>NaN</td>\n",
       "      <td>NaN</td>\n",
       "      <td>NaN</td>\n",
       "      <td>NaN</td>\n",
       "      <td>NaN</td>\n",
       "      <td>NaN</td>\n",
       "      <td>NaN</td>\n",
       "      <td>NaN</td>\n",
       "      <td>1.0</td>\n",
       "      <td>NaN</td>\n",
       "      <td>NaN</td>\n",
       "      <td>NaN</td>\n",
       "      <td>NaN</td>\n",
       "      <td>NaN</td>\n",
       "      <td>NaN</td>\n",
       "      <td>NaN</td>\n",
       "      <td>NaN</td>\n",
       "      <td>NaN</td>\n",
       "      <td>NaN</td>\n",
       "      <td>NaN</td>\n",
       "    </tr>\n",
       "    <tr>\n",
       "      <th>DOT</th>\n",
       "      <td>20.0</td>\n",
       "      <td>NaN</td>\n",
       "      <td>7.0</td>\n",
       "      <td>NaN</td>\n",
       "      <td>NaN</td>\n",
       "      <td>20.0</td>\n",
       "      <td>2070.0</td>\n",
       "      <td>14.0</td>\n",
       "      <td>1.0</td>\n",
       "      <td>66.0</td>\n",
       "      <td>123.0</td>\n",
       "      <td>NaN</td>\n",
       "      <td>NaN</td>\n",
       "      <td>NaN</td>\n",
       "      <td>4.0</td>\n",
       "      <td>32.0</td>\n",
       "      <td>1.0</td>\n",
       "      <td>NaN</td>\n",
       "      <td>130.0</td>\n",
       "      <td>1.0</td>\n",
       "      <td>NaN</td>\n",
       "      <td>NaN</td>\n",
       "      <td>NaN</td>\n",
       "      <td>NaN</td>\n",
       "      <td>1.0</td>\n",
       "      <td>NaN</td>\n",
       "      <td>NaN</td>\n",
       "      <td>NaN</td>\n",
       "      <td>NaN</td>\n",
       "      <td>NaN</td>\n",
       "      <td>NaN</td>\n",
       "      <td>8.0</td>\n",
       "      <td>NaN</td>\n",
       "      <td>6.0</td>\n",
       "      <td>NaN</td>\n",
       "      <td>339.0</td>\n",
       "      <td>3473.0</td>\n",
       "      <td>7117.0</td>\n",
       "      <td>691.0</td>\n",
       "      <td>110.0</td>\n",
       "      <td>327.0</td>\n",
       "      <td>NaN</td>\n",
       "      <td>3145.0</td>\n",
       "      <td>1.0</td>\n",
       "      <td>NaN</td>\n",
       "      <td>NaN</td>\n",
       "    </tr>\n",
       "    <tr>\n",
       "      <th>NYPD</th>\n",
       "      <td>NaN</td>\n",
       "      <td>164.0</td>\n",
       "      <td>NaN</td>\n",
       "      <td>32.0</td>\n",
       "      <td>4590.0</td>\n",
       "      <td>NaN</td>\n",
       "      <td>NaN</td>\n",
       "      <td>NaN</td>\n",
       "      <td>NaN</td>\n",
       "      <td>NaN</td>\n",
       "      <td>NaN</td>\n",
       "      <td>803.0</td>\n",
       "      <td>26.0</td>\n",
       "      <td>83.0</td>\n",
       "      <td>NaN</td>\n",
       "      <td>NaN</td>\n",
       "      <td>NaN</td>\n",
       "      <td>13.0</td>\n",
       "      <td>NaN</td>\n",
       "      <td>NaN</td>\n",
       "      <td>269.0</td>\n",
       "      <td>3.0</td>\n",
       "      <td>3343.0</td>\n",
       "      <td>NaN</td>\n",
       "      <td>NaN</td>\n",
       "      <td>2578.0</td>\n",
       "      <td>67.0</td>\n",
       "      <td>191.0</td>\n",
       "      <td>1928.0</td>\n",
       "      <td>750.0</td>\n",
       "      <td>23.0</td>\n",
       "      <td>NaN</td>\n",
       "      <td>5.0</td>\n",
       "      <td>NaN</td>\n",
       "      <td>NaN</td>\n",
       "      <td>NaN</td>\n",
       "      <td>NaN</td>\n",
       "      <td>NaN</td>\n",
       "      <td>NaN</td>\n",
       "      <td>NaN</td>\n",
       "      <td>NaN</td>\n",
       "      <td>168.0</td>\n",
       "      <td>NaN</td>\n",
       "      <td>NaN</td>\n",
       "      <td>30.0</td>\n",
       "      <td>229.0</td>\n",
       "    </tr>\n",
       "  </tbody>\n",
       "</table>\n",
       "</div>\n",
       "      <button class=\"colab-df-convert\" onclick=\"convertToInteractive('df-4290b85d-649b-4965-a96e-800c33b6a05a')\"\n",
       "              title=\"Convert this dataframe to an interactive table.\"\n",
       "              style=\"display:none;\">\n",
       "        \n",
       "  <svg xmlns=\"http://www.w3.org/2000/svg\" height=\"24px\"viewBox=\"0 0 24 24\"\n",
       "       width=\"24px\">\n",
       "    <path d=\"M0 0h24v24H0V0z\" fill=\"none\"/>\n",
       "    <path d=\"M18.56 5.44l.94 2.06.94-2.06 2.06-.94-2.06-.94-.94-2.06-.94 2.06-2.06.94zm-11 1L8.5 8.5l.94-2.06 2.06-.94-2.06-.94L8.5 2.5l-.94 2.06-2.06.94zm10 10l.94 2.06.94-2.06 2.06-.94-2.06-.94-.94-2.06-.94 2.06-2.06.94z\"/><path d=\"M17.41 7.96l-1.37-1.37c-.4-.4-.92-.59-1.43-.59-.52 0-1.04.2-1.43.59L10.3 9.45l-7.72 7.72c-.78.78-.78 2.05 0 2.83L4 21.41c.39.39.9.59 1.41.59.51 0 1.02-.2 1.41-.59l7.78-7.78 2.81-2.81c.8-.78.8-2.07 0-2.86zM5.41 20L4 18.59l7.72-7.72 1.47 1.35L5.41 20z\"/>\n",
       "  </svg>\n",
       "      </button>\n",
       "      \n",
       "  <style>\n",
       "    .colab-df-container {\n",
       "      display:flex;\n",
       "      flex-wrap:wrap;\n",
       "      gap: 12px;\n",
       "    }\n",
       "\n",
       "    .colab-df-convert {\n",
       "      background-color: #E8F0FE;\n",
       "      border: none;\n",
       "      border-radius: 50%;\n",
       "      cursor: pointer;\n",
       "      display: none;\n",
       "      fill: #1967D2;\n",
       "      height: 32px;\n",
       "      padding: 0 0 0 0;\n",
       "      width: 32px;\n",
       "    }\n",
       "\n",
       "    .colab-df-convert:hover {\n",
       "      background-color: #E2EBFA;\n",
       "      box-shadow: 0px 1px 2px rgba(60, 64, 67, 0.3), 0px 1px 3px 1px rgba(60, 64, 67, 0.15);\n",
       "      fill: #174EA6;\n",
       "    }\n",
       "\n",
       "    [theme=dark] .colab-df-convert {\n",
       "      background-color: #3B4455;\n",
       "      fill: #D2E3FC;\n",
       "    }\n",
       "\n",
       "    [theme=dark] .colab-df-convert:hover {\n",
       "      background-color: #434B5C;\n",
       "      box-shadow: 0px 1px 3px 1px rgba(0, 0, 0, 0.15);\n",
       "      filter: drop-shadow(0px 1px 2px rgba(0, 0, 0, 0.3));\n",
       "      fill: #FFFFFF;\n",
       "    }\n",
       "  </style>\n",
       "\n",
       "      <script>\n",
       "        const buttonEl =\n",
       "          document.querySelector('#df-4290b85d-649b-4965-a96e-800c33b6a05a button.colab-df-convert');\n",
       "        buttonEl.style.display =\n",
       "          google.colab.kernel.accessAllowed ? 'block' : 'none';\n",
       "\n",
       "        async function convertToInteractive(key) {\n",
       "          const element = document.querySelector('#df-4290b85d-649b-4965-a96e-800c33b6a05a');\n",
       "          const dataTable =\n",
       "            await google.colab.kernel.invokeFunction('convertToInteractive',\n",
       "                                                     [key], {});\n",
       "          if (!dataTable) return;\n",
       "\n",
       "          const docLinkHtml = 'Like what you see? Visit the ' +\n",
       "            '<a target=\"_blank\" href=https://colab.research.google.com/notebooks/data_table.ipynb>data table notebook</a>'\n",
       "            + ' to learn more about interactive tables.';\n",
       "          element.innerHTML = '';\n",
       "          dataTable['output_type'] = 'display_data';\n",
       "          await google.colab.output.renderOutput(dataTable, element);\n",
       "          const docLink = document.createElement('div');\n",
       "          docLink.innerHTML = docLinkHtml;\n",
       "          element.appendChild(docLink);\n",
       "        }\n",
       "      </script>\n",
       "    </div>\n",
       "  </div>\n",
       "  "
      ],
      "text/plain": [
       "Complaint Type  Agency Issues  Animal Abuse  Bike Rack Condition  \\\n",
       "Agency                                                             \n",
       "DOP                       NaN           NaN                  NaN   \n",
       "DOT                      20.0           NaN                  7.0   \n",
       "NYPD                      NaN         164.0                  NaN   \n",
       "\n",
       "Complaint Type  Bike/Roller/Skate Chronic  Blocked Driveway  Bridge Condition  \\\n",
       "Agency                                                                          \n",
       "DOP                                   NaN               NaN               NaN   \n",
       "DOT                                   NaN               NaN              20.0   \n",
       "NYPD                                 32.0            4590.0               NaN   \n",
       "\n",
       "Complaint Type  Broken Muni Meter  Bus Stop Shelter Placement  Compliment  \\\n",
       "Agency                                                                      \n",
       "DOP                           NaN                         NaN         NaN   \n",
       "DOT                        2070.0                        14.0         1.0   \n",
       "NYPD                          NaN                         NaN         NaN   \n",
       "\n",
       "Complaint Type  Curb Condition  DOT Literature Request  Derelict Vehicle  \\\n",
       "Agency                                                                     \n",
       "DOP                        NaN                     NaN               NaN   \n",
       "DOT                       66.0                   123.0               NaN   \n",
       "NYPD                       NaN                     NaN             803.0   \n",
       "\n",
       "Complaint Type  Disorderly Youth  Drinking  Ferry Complaint  Ferry Inquiry  \\\n",
       "Agency                                                                       \n",
       "DOP                          NaN       NaN              NaN            NaN   \n",
       "DOT                          NaN       NaN              4.0           32.0   \n",
       "NYPD                        26.0      83.0              NaN            NaN   \n",
       "\n",
       "Complaint Type  Ferry Permit  Graffiti  Highway Condition  \\\n",
       "Agency                                                      \n",
       "DOP                      NaN       NaN                NaN   \n",
       "DOT                      1.0       NaN              130.0   \n",
       "NYPD                     NaN      13.0                NaN   \n",
       "\n",
       "Complaint Type  Highway Sign - Damaged  Homeless Encampment  \\\n",
       "Agency                                                        \n",
       "DOP                                NaN                  NaN   \n",
       "DOT                                1.0                  NaN   \n",
       "NYPD                               NaN                269.0   \n",
       "\n",
       "Complaint Type  Illegal Fireworks  Illegal Parking  Invitation  \\\n",
       "Agency                                                           \n",
       "DOP                           NaN              NaN         1.0   \n",
       "DOT                           NaN              NaN         NaN   \n",
       "NYPD                          3.0           3343.0         NaN   \n",
       "\n",
       "Complaint Type  Municipal Parking Facility  Noise - Commercial  \\\n",
       "Agency                                                           \n",
       "DOP                                    NaN                 NaN   \n",
       "DOT                                    1.0                 NaN   \n",
       "NYPD                                   NaN              2578.0   \n",
       "\n",
       "Complaint Type  Noise - House of Worship  Noise - Park  \\\n",
       "Agency                                                   \n",
       "DOP                                  NaN           NaN   \n",
       "DOT                                  NaN           NaN   \n",
       "NYPD                                67.0         191.0   \n",
       "\n",
       "Complaint Type  Noise - Street/Sidewalk  Noise - Vehicle  Panhandling  \\\n",
       "Agency                                                                  \n",
       "DOP                                 NaN              NaN          NaN   \n",
       "DOT                                 NaN              NaN          NaN   \n",
       "NYPD                             1928.0            750.0         23.0   \n",
       "\n",
       "Complaint Type  Parking Card  Posting Advertisement  Public Toilet  \\\n",
       "Agency                                                               \n",
       "DOP                      NaN                    NaN            NaN   \n",
       "DOT                      8.0                    NaN            6.0   \n",
       "NYPD                     NaN                    5.0            NaN   \n",
       "\n",
       "Complaint Type  Request for Information  Sidewalk Condition  Street Condition  \\\n",
       "Agency                                                                          \n",
       "DOP                                 1.0                 NaN               NaN   \n",
       "DOT                                 NaN               339.0            3473.0   \n",
       "NYPD                                NaN                 NaN               NaN   \n",
       "\n",
       "Complaint Type  Street Light Condition  Street Sign - Damaged  \\\n",
       "Agency                                                          \n",
       "DOP                                NaN                    NaN   \n",
       "DOT                             7117.0                  691.0   \n",
       "NYPD                               NaN                    NaN   \n",
       "\n",
       "Complaint Type  Street Sign - Dangling  Street Sign - Missing  Traffic  \\\n",
       "Agency                                                                   \n",
       "DOP                                NaN                    NaN      NaN   \n",
       "DOT                              110.0                  327.0      NaN   \n",
       "NYPD                               NaN                    NaN    168.0   \n",
       "\n",
       "Complaint Type  Traffic Signal Condition  Tunnel Condition  \\\n",
       "Agency                                                       \n",
       "DOP                                  NaN               NaN   \n",
       "DOT                               3145.0               1.0   \n",
       "NYPD                                 NaN               NaN   \n",
       "\n",
       "Complaint Type  Urinating in Public  Vending  \n",
       "Agency                                        \n",
       "DOP                             NaN      NaN  \n",
       "DOT                             NaN      NaN  \n",
       "NYPD                           30.0    229.0  "
      ]
     },
     "execution_count": 25,
     "metadata": {},
     "output_type": "execute_result"
    }
   ],
   "source": [
    "pt0"
   ]
  },
  {
   "cell_type": "code",
   "execution_count": null,
   "metadata": {},
   "outputs": [],
   "source": []
  },
  {
   "cell_type": "markdown",
   "metadata": {
    "id": "NqViIORSLXmJ"
   },
   "source": [
    "#### Problem 2"
   ]
  },
  {
   "cell_type": "code",
   "execution_count": null,
   "metadata": {},
   "outputs": [],
   "source": [
    "complaint_type = 'GENERAL CONSTRUCTION'\n",
    "manhattan_complaints = complaints[(complaints['Borough'] == 'MANHATTAN') \\\n",
    "                                  & (complaints['Complaint Type']== complaint_type)]\n",
    "ct = pd.crosstab(manhattan_complaints['Incident Zip'].astype(int), \n",
    "                 manhattan_complaints['Complaint Type']).sort_values(complaint_type,ascending=False)\n",
    "ct"
   ]
  },
  {
   "cell_type": "markdown",
   "metadata": {
    "id": "ZMpBWX5MLXmJ"
   },
   "source": [
    "# 4.  Baby names questions"
   ]
  },
  {
   "cell_type": "markdown",
   "metadata": {
    "id": "bhOLGSSKg0d8"
   },
   "source": [
    "### 4.1 Get all the babynames data for all the years\n",
    "\n",
    "... in the data and plot make and female births in the same plot."
   ]
  },
  {
   "cell_type": "code",
   "execution_count": 10,
   "metadata": {},
   "outputs": [],
   "source": [
    "import pandas as pd\n",
    "years = list(range(1880,2011))\n",
    "pieces = []\n",
    "columns = ['name','sex','births']\n",
    "\n",
    "url = 'https://gawron.sdsu.edu/python_for_ss/course_core/book_draft/_static/names/'\n",
    "for year in years:\n",
    "    path = f'{url}yob{year:d}.txt'\n",
    "    frame = pd.read_csv(path,names=columns)\n",
    "    frame['year'] = year\n",
    "    pieces.append(frame)    \n",
    "    \n",
    "names = pd.concat(pieces, ignore_index=True)"
   ]
  },
  {
   "cell_type": "code",
   "execution_count": 16,
   "metadata": {},
   "outputs": [
    {
     "data": {
      "text/html": [
       "<div>\n",
       "<style scoped>\n",
       "    .dataframe tbody tr th:only-of-type {\n",
       "        vertical-align: middle;\n",
       "    }\n",
       "\n",
       "    .dataframe tbody tr th {\n",
       "        vertical-align: top;\n",
       "    }\n",
       "\n",
       "    .dataframe thead th {\n",
       "        text-align: right;\n",
       "    }\n",
       "</style>\n",
       "<table border=\"1\" class=\"dataframe\">\n",
       "  <thead>\n",
       "    <tr style=\"text-align: right;\">\n",
       "      <th></th>\n",
       "      <th>name</th>\n",
       "      <th>sex</th>\n",
       "      <th>births</th>\n",
       "      <th>year</th>\n",
       "    </tr>\n",
       "  </thead>\n",
       "  <tbody>\n",
       "    <tr>\n",
       "      <th>0</th>\n",
       "      <td>Mary</td>\n",
       "      <td>F</td>\n",
       "      <td>7065</td>\n",
       "      <td>1880</td>\n",
       "    </tr>\n",
       "    <tr>\n",
       "      <th>1</th>\n",
       "      <td>Anna</td>\n",
       "      <td>F</td>\n",
       "      <td>2604</td>\n",
       "      <td>1880</td>\n",
       "    </tr>\n",
       "    <tr>\n",
       "      <th>2</th>\n",
       "      <td>Emma</td>\n",
       "      <td>F</td>\n",
       "      <td>2003</td>\n",
       "      <td>1880</td>\n",
       "    </tr>\n",
       "    <tr>\n",
       "      <th>3</th>\n",
       "      <td>Elizabeth</td>\n",
       "      <td>F</td>\n",
       "      <td>1939</td>\n",
       "      <td>1880</td>\n",
       "    </tr>\n",
       "    <tr>\n",
       "      <th>4</th>\n",
       "      <td>Minnie</td>\n",
       "      <td>F</td>\n",
       "      <td>1746</td>\n",
       "      <td>1880</td>\n",
       "    </tr>\n",
       "    <tr>\n",
       "      <th>...</th>\n",
       "      <td>...</td>\n",
       "      <td>...</td>\n",
       "      <td>...</td>\n",
       "      <td>...</td>\n",
       "    </tr>\n",
       "    <tr>\n",
       "      <th>1690779</th>\n",
       "      <td>Zymaire</td>\n",
       "      <td>M</td>\n",
       "      <td>5</td>\n",
       "      <td>2010</td>\n",
       "    </tr>\n",
       "    <tr>\n",
       "      <th>1690780</th>\n",
       "      <td>Zyonne</td>\n",
       "      <td>M</td>\n",
       "      <td>5</td>\n",
       "      <td>2010</td>\n",
       "    </tr>\n",
       "    <tr>\n",
       "      <th>1690781</th>\n",
       "      <td>Zyquarius</td>\n",
       "      <td>M</td>\n",
       "      <td>5</td>\n",
       "      <td>2010</td>\n",
       "    </tr>\n",
       "    <tr>\n",
       "      <th>1690782</th>\n",
       "      <td>Zyran</td>\n",
       "      <td>M</td>\n",
       "      <td>5</td>\n",
       "      <td>2010</td>\n",
       "    </tr>\n",
       "    <tr>\n",
       "      <th>1690783</th>\n",
       "      <td>Zzyzx</td>\n",
       "      <td>M</td>\n",
       "      <td>5</td>\n",
       "      <td>2010</td>\n",
       "    </tr>\n",
       "  </tbody>\n",
       "</table>\n",
       "<p>1690784 rows × 4 columns</p>\n",
       "</div>"
      ],
      "text/plain": [
       "              name sex  births  year\n",
       "0             Mary   F    7065  1880\n",
       "1             Anna   F    2604  1880\n",
       "2             Emma   F    2003  1880\n",
       "3        Elizabeth   F    1939  1880\n",
       "4           Minnie   F    1746  1880\n",
       "...            ...  ..     ...   ...\n",
       "1690779    Zymaire   M       5  2010\n",
       "1690780     Zyonne   M       5  2010\n",
       "1690781  Zyquarius   M       5  2010\n",
       "1690782      Zyran   M       5  2010\n",
       "1690783      Zzyzx   M       5  2010\n",
       "\n",
       "[1690784 rows x 4 columns]"
      ]
     },
     "execution_count": 16,
     "metadata": {},
     "output_type": "execute_result"
    }
   ],
   "source": [
    "names"
   ]
  },
  {
   "cell_type": "code",
   "execution_count": 27,
   "metadata": {},
   "outputs": [],
   "source": [
    "baby_boomer_names = names[(names['year']>=1946) & (names['year']<=1964)]\n",
    "gender_counts = baby_boomer_names.pivot_table('births', 'year', columns='sex',aggfunc ='sum')"
   ]
  },
  {
   "cell_type": "markdown",
   "metadata": {},
   "source": [
    "Index is years, columns are genders.  As wished."
   ]
  },
  {
   "cell_type": "code",
   "execution_count": 28,
   "metadata": {
    "scrolled": true
   },
   "outputs": [
    {
     "data": {
      "text/html": [
       "<div>\n",
       "<style scoped>\n",
       "    .dataframe tbody tr th:only-of-type {\n",
       "        vertical-align: middle;\n",
       "    }\n",
       "\n",
       "    .dataframe tbody tr th {\n",
       "        vertical-align: top;\n",
       "    }\n",
       "\n",
       "    .dataframe thead th {\n",
       "        text-align: right;\n",
       "    }\n",
       "</style>\n",
       "<table border=\"1\" class=\"dataframe\">\n",
       "  <thead>\n",
       "    <tr style=\"text-align: right;\">\n",
       "      <th>sex</th>\n",
       "      <th>F</th>\n",
       "      <th>M</th>\n",
       "    </tr>\n",
       "    <tr>\n",
       "      <th>year</th>\n",
       "      <th></th>\n",
       "      <th></th>\n",
       "    </tr>\n",
       "  </thead>\n",
       "  <tbody>\n",
       "    <tr>\n",
       "      <th>1946</th>\n",
       "      <td>1570555</td>\n",
       "      <td>1622540</td>\n",
       "    </tr>\n",
       "    <tr>\n",
       "      <th>1947</th>\n",
       "      <td>1772246</td>\n",
       "      <td>1827415</td>\n",
       "    </tr>\n",
       "    <tr>\n",
       "      <th>1948</th>\n",
       "      <td>1697664</td>\n",
       "      <td>1753472</td>\n",
       "    </tr>\n",
       "    <tr>\n",
       "      <th>1949</th>\n",
       "      <td>1709607</td>\n",
       "      <td>1770104</td>\n",
       "    </tr>\n",
       "    <tr>\n",
       "      <th>1950</th>\n",
       "      <td>1713001</td>\n",
       "      <td>1789936</td>\n",
       "    </tr>\n",
       "    <tr>\n",
       "      <th>1951</th>\n",
       "      <td>1798537</td>\n",
       "      <td>1877553</td>\n",
       "    </tr>\n",
       "    <tr>\n",
       "      <th>1952</th>\n",
       "      <td>1854427</td>\n",
       "      <td>1943533</td>\n",
       "    </tr>\n",
       "    <tr>\n",
       "      <th>1953</th>\n",
       "      <td>1880072</td>\n",
       "      <td>1968772</td>\n",
       "    </tr>\n",
       "    <tr>\n",
       "      <th>1954</th>\n",
       "      <td>1941562</td>\n",
       "      <td>2036948</td>\n",
       "    </tr>\n",
       "    <tr>\n",
       "      <th>1955</th>\n",
       "      <td>1954508</td>\n",
       "      <td>2057390</td>\n",
       "    </tr>\n",
       "    <tr>\n",
       "      <th>1956</th>\n",
       "      <td>2007416</td>\n",
       "      <td>2113067</td>\n",
       "    </tr>\n",
       "    <tr>\n",
       "      <th>1957</th>\n",
       "      <td>2043983</td>\n",
       "      <td>2155427</td>\n",
       "    </tr>\n",
       "    <tr>\n",
       "      <th>1958</th>\n",
       "      <td>2010620</td>\n",
       "      <td>2120014</td>\n",
       "    </tr>\n",
       "    <tr>\n",
       "      <th>1959</th>\n",
       "      <td>2022889</td>\n",
       "      <td>2133147</td>\n",
       "    </tr>\n",
       "    <tr>\n",
       "      <th>1960</th>\n",
       "      <td>2022062</td>\n",
       "      <td>2132588</td>\n",
       "    </tr>\n",
       "    <tr>\n",
       "      <th>1961</th>\n",
       "      <td>2016762</td>\n",
       "      <td>2121629</td>\n",
       "    </tr>\n",
       "    <tr>\n",
       "      <th>1962</th>\n",
       "      <td>1966340</td>\n",
       "      <td>2068493</td>\n",
       "    </tr>\n",
       "    <tr>\n",
       "      <th>1963</th>\n",
       "      <td>1927055</td>\n",
       "      <td>2031443</td>\n",
       "    </tr>\n",
       "    <tr>\n",
       "      <th>1964</th>\n",
       "      <td>1894277</td>\n",
       "      <td>1992762</td>\n",
       "    </tr>\n",
       "  </tbody>\n",
       "</table>\n",
       "</div>"
      ],
      "text/plain": [
       "sex         F        M\n",
       "year                  \n",
       "1946  1570555  1622540\n",
       "1947  1772246  1827415\n",
       "1948  1697664  1753472\n",
       "1949  1709607  1770104\n",
       "1950  1713001  1789936\n",
       "1951  1798537  1877553\n",
       "1952  1854427  1943533\n",
       "1953  1880072  1968772\n",
       "1954  1941562  2036948\n",
       "1955  1954508  2057390\n",
       "1956  2007416  2113067\n",
       "1957  2043983  2155427\n",
       "1958  2010620  2120014\n",
       "1959  2022889  2133147\n",
       "1960  2022062  2132588\n",
       "1961  2016762  2121629\n",
       "1962  1966340  2068493\n",
       "1963  1927055  2031443\n",
       "1964  1894277  1992762"
      ]
     },
     "execution_count": 28,
     "metadata": {},
     "output_type": "execute_result"
    }
   ],
   "source": [
    "gender_counts"
   ]
  },
  {
   "cell_type": "code",
   "execution_count": 168,
   "metadata": {},
   "outputs": [
    {
     "data": {
      "text/plain": [
       "<AxesSubplot:title={'center':'Baby Boomer births by year'}, xlabel='year'>"
      ]
     },
     "execution_count": 168,
     "metadata": {},
     "output_type": "execute_result"
    },
    {
     "data": {
      "image/png": "[encoded data removed]",
      "text/plain": [
       "<Figure size 1080x468 with 1 Axes>"
      ]
     },
     "metadata": {
      "needs_background": "light"
     },
     "output_type": "display_data"
    }
   ],
   "source": [
    "#larger figure than default, bar plot, rotate xaxis labels by 60 degrees\n",
    "gender_counts.plot(title='Baby Boomer births by year',  figsize=(15,6.5),kind='bar',rot=60) "
   ]
  },
  {
   "cell_type": "markdown",
   "metadata": {},
   "source": [
    "Interpreting this.  Note the little 1e6 in the upper left hand corner.  That's 1,000,000 ($1*10^6$)\n",
    "in scientific notation; that let's us know that the numbers on the y-axis should all be\n",
    "multiplied by 1,000,000."
   ]
  },
  {
   "cell_type": "code",
   "execution_count": 164,
   "metadata": {},
   "outputs": [
    {
     "name": "stdout",
     "output_type": "stream",
     "text": [
      "2,000,000.0\n"
     ]
    }
   ],
   "source": [
    "print(f'{2e6:,}')"
   ]
  },
  {
   "cell_type": "markdown",
   "metadata": {},
   "source": [
    "Alternatively, taking control with matplotlib:"
   ]
  },
  {
   "cell_type": "code",
   "execution_count": 175,
   "metadata": {},
   "outputs": [
    {
     "data": {
      "text/plain": [
       "<matplotlib.legend.Legend at 0x7fc5dd80eb38>"
      ]
     },
     "execution_count": 175,
     "metadata": {},
     "output_type": "execute_result"
    },
    {
     "data": {
      "image/png": "[encoded data removed]",
      "text/plain": [
       "<Figure size 1080x468 with 1 Axes>"
      ]
     },
     "metadata": {
      "needs_background": "light"
     },
     "output_type": "display_data"
    }
   ],
   "source": [
    "from matplotlib import pyplot as plt\n",
    "import numpy as np\n",
    "from string import ascii_lowercase\n",
    "\n",
    "#fig, ax = plt.subplots(1,1,  )\n",
    "fig, ax = plt.subplots(1,1,  figsize=(15,6.5))\n",
    "width=.25\n",
    "ax.bar(gender_counts.index,gender_counts['F'],label=\"female\",color='salmon',width=width)\n",
    "ax.bar(gender_counts.index+width,gender_counts['M'],label=\"male\",color='steelblue',width=width)\n",
    "ax.legend()"
   ]
  },
  {
   "cell_type": "markdown",
   "metadata": {},
   "source": [
    "Name diversity version of the question.\n",
    "\n",
    "We want just count the number of times 'F' and 'M' occurs with each year.  A simple cross-tabulation."
   ]
  },
  {
   "cell_type": "code",
   "execution_count": 29,
   "metadata": {},
   "outputs": [
    {
     "data": {
      "text/html": [
       "<div>\n",
       "<style scoped>\n",
       "    .dataframe tbody tr th:only-of-type {\n",
       "        vertical-align: middle;\n",
       "    }\n",
       "\n",
       "    .dataframe tbody tr th {\n",
       "        vertical-align: top;\n",
       "    }\n",
       "\n",
       "    .dataframe thead th {\n",
       "        text-align: right;\n",
       "    }\n",
       "</style>\n",
       "<table border=\"1\" class=\"dataframe\">\n",
       "  <thead>\n",
       "    <tr style=\"text-align: right;\">\n",
       "      <th>sex</th>\n",
       "      <th>F</th>\n",
       "      <th>M</th>\n",
       "    </tr>\n",
       "    <tr>\n",
       "      <th>year</th>\n",
       "      <th></th>\n",
       "      <th></th>\n",
       "    </tr>\n",
       "  </thead>\n",
       "  <tbody>\n",
       "    <tr>\n",
       "      <th>1946</th>\n",
       "      <td>5686</td>\n",
       "      <td>4013</td>\n",
       "    </tr>\n",
       "    <tr>\n",
       "      <th>1947</th>\n",
       "      <td>6103</td>\n",
       "      <td>4256</td>\n",
       "    </tr>\n",
       "    <tr>\n",
       "      <th>1948</th>\n",
       "      <td>6045</td>\n",
       "      <td>4198</td>\n",
       "    </tr>\n",
       "    <tr>\n",
       "      <th>1949</th>\n",
       "      <td>6056</td>\n",
       "      <td>4193</td>\n",
       "    </tr>\n",
       "    <tr>\n",
       "      <th>1950</th>\n",
       "      <td>6105</td>\n",
       "      <td>4195</td>\n",
       "    </tr>\n",
       "    <tr>\n",
       "      <th>1951</th>\n",
       "      <td>6213</td>\n",
       "      <td>4239</td>\n",
       "    </tr>\n",
       "    <tr>\n",
       "      <th>1952</th>\n",
       "      <td>6388</td>\n",
       "      <td>4260</td>\n",
       "    </tr>\n",
       "    <tr>\n",
       "      <th>1953</th>\n",
       "      <td>6490</td>\n",
       "      <td>4338</td>\n",
       "    </tr>\n",
       "    <tr>\n",
       "      <th>1954</th>\n",
       "      <td>6609</td>\n",
       "      <td>4353</td>\n",
       "    </tr>\n",
       "    <tr>\n",
       "      <th>1955</th>\n",
       "      <td>6719</td>\n",
       "      <td>4392</td>\n",
       "    </tr>\n",
       "    <tr>\n",
       "      <th>1956</th>\n",
       "      <td>6888</td>\n",
       "      <td>4454</td>\n",
       "    </tr>\n",
       "    <tr>\n",
       "      <th>1957</th>\n",
       "      <td>7012</td>\n",
       "      <td>4555</td>\n",
       "    </tr>\n",
       "    <tr>\n",
       "      <th>1958</th>\n",
       "      <td>7023</td>\n",
       "      <td>4494</td>\n",
       "    </tr>\n",
       "    <tr>\n",
       "      <th>1959</th>\n",
       "      <td>7196</td>\n",
       "      <td>4573</td>\n",
       "    </tr>\n",
       "    <tr>\n",
       "      <th>1960</th>\n",
       "      <td>7330</td>\n",
       "      <td>4588</td>\n",
       "    </tr>\n",
       "    <tr>\n",
       "      <th>1961</th>\n",
       "      <td>7522</td>\n",
       "      <td>4647</td>\n",
       "    </tr>\n",
       "    <tr>\n",
       "      <th>1962</th>\n",
       "      <td>7577</td>\n",
       "      <td>4621</td>\n",
       "    </tr>\n",
       "    <tr>\n",
       "      <th>1963</th>\n",
       "      <td>7661</td>\n",
       "      <td>4618</td>\n",
       "    </tr>\n",
       "    <tr>\n",
       "      <th>1964</th>\n",
       "      <td>7801</td>\n",
       "      <td>4586</td>\n",
       "    </tr>\n",
       "  </tbody>\n",
       "</table>\n",
       "</div>"
      ],
      "text/plain": [
       "sex      F     M\n",
       "year            \n",
       "1946  5686  4013\n",
       "1947  6103  4256\n",
       "1948  6045  4198\n",
       "1949  6056  4193\n",
       "1950  6105  4195\n",
       "1951  6213  4239\n",
       "1952  6388  4260\n",
       "1953  6490  4338\n",
       "1954  6609  4353\n",
       "1955  6719  4392\n",
       "1956  6888  4454\n",
       "1957  7012  4555\n",
       "1958  7023  4494\n",
       "1959  7196  4573\n",
       "1960  7330  4588\n",
       "1961  7522  4647\n",
       "1962  7577  4621\n",
       "1963  7661  4618\n",
       "1964  7801  4586"
      ]
     },
     "execution_count": 29,
     "metadata": {},
     "output_type": "execute_result"
    }
   ],
   "source": [
    "baby_boomer_names = names[(names['year']>=1946) & (names['year']<=1964)]\n",
    "gender_name_counts = pd.crosstab(baby_boomer_names['year'], baby_boomer_names['sex'])\n",
    "gender_name_counts"
   ]
  },
  {
   "cell_type": "code",
   "execution_count": 119,
   "metadata": {},
   "outputs": [
    {
     "data": {
      "text/plain": [
       "<AxesSubplot:xlabel='year'>"
      ]
     },
     "execution_count": 119,
     "metadata": {},
     "output_type": "execute_result"
    },
    {
     "data": {
      "image/png": "[encoded data removed]",
      "text/plain": [
       "<Figure size 864x504 with 1 Axes>"
      ]
     },
     "metadata": {
      "needs_background": "light"
     },
     "output_type": "display_data"
    }
   ],
   "source": [
    "gender_name_counts.plot(kind='bar',figsize=(12,7),rot=60)"
   ]
  },
  {
   "cell_type": "markdown",
   "metadata": {
    "id": "dTPf5trzX_ML"
   },
   "source": [
    "### Plotting name popularity in 3 decades"
   ]
  },
  {
   "cell_type": "markdown",
   "metadata": {},
   "source": [
    "Another plot.  The x-axis is names; the y-axis is frequencies.  Aggregate the data for female names into\n",
    "decades (10 year increments) as follows: First create a data frame whose index is female names and \n",
    "whose columns are the decades in the data.  The cells should contain the mean popularity\n",
    "of the name in the decade.  The way to do this is by creating a 'decade' column that correctly\n",
    "assihgns decades to each row, then create a pivot table that uses that column.\n",
    "\n",
    "Note: there are two \"80s\" decades in the data, \n",
    "so it might be convenient fill your column by rounding down to the nearest 10; for\n",
    "example, 1888->1880,1988->1980,...). \n",
    "\n",
    "Create yet another DataFrame containing\n",
    "a subset of the decades: the 1880s, the 1940s, and the 1990s.\n",
    "Select a subset of the names as well (criteria to be discussed shortly).\n",
    "\n",
    "Produce a plot that contains an 1880s line, a 1940s line, and a 1990s line,\n",
    "showing the frequency of your selected names for each of the three decades.\n",
    "In other words, if \"Mary\" is one of your chosen names, the mean frequencies\n",
    "of \"Mary\" in the 1880s, the 1940s, and the 1990s should be shown.\n",
    "\n",
    "How should you select your names? The goal of your plot is to show the changes in \n",
    "name popularity over time, so\n",
    "find the 5 most popular names in each of the 3 decades.  That might give you\n",
    "15 names or there might be some overlap, and you will have less than 15 names."
   ]
  },
  {
   "cell_type": "markdown",
   "metadata": {
    "id": "7FmuCxkYX_ML"
   },
   "source": [
    "#### Analytical steps (computing the right DataFrame)"
   ]
  },
  {
   "cell_type": "markdown",
   "metadata": {
    "id": "QhxqFfgoX_ML"
   },
   "source": [
    "**Step One**: Add a decade column."
   ]
  },
  {
   "cell_type": "code",
   "execution_count": 141,
   "metadata": {
    "id": "J3ttyyavjc3j"
   },
   "outputs": [],
   "source": [
    "names['decade']  = names['year'].apply(lambda x: 10 * (x//10))\n"
   ]
  },
  {
   "cell_type": "code",
   "execution_count": 142,
   "metadata": {
    "colab": {
     "base_uri": "https://localhost:8080/",
     "height": 423
    },
    "id": "WoWyB6xBj1we",
    "outputId": "1d05a2d2-0c6a-4c62-e95e-1fffb521f077"
   },
   "outputs": [
    {
     "data": {
      "text/html": [
       "<div>\n",
       "<style scoped>\n",
       "    .dataframe tbody tr th:only-of-type {\n",
       "        vertical-align: middle;\n",
       "    }\n",
       "\n",
       "    .dataframe tbody tr th {\n",
       "        vertical-align: top;\n",
       "    }\n",
       "\n",
       "    .dataframe thead th {\n",
       "        text-align: right;\n",
       "    }\n",
       "</style>\n",
       "<table border=\"1\" class=\"dataframe\">\n",
       "  <thead>\n",
       "    <tr style=\"text-align: right;\">\n",
       "      <th></th>\n",
       "      <th>name</th>\n",
       "      <th>sex</th>\n",
       "      <th>births</th>\n",
       "      <th>year</th>\n",
       "      <th>decade</th>\n",
       "    </tr>\n",
       "  </thead>\n",
       "  <tbody>\n",
       "    <tr>\n",
       "      <th>1622344</th>\n",
       "      <td>Isabella</td>\n",
       "      <td>F</td>\n",
       "      <td>22222</td>\n",
       "      <td>2009</td>\n",
       "      <td>2000</td>\n",
       "    </tr>\n",
       "    <tr>\n",
       "      <th>1622345</th>\n",
       "      <td>Emma</td>\n",
       "      <td>F</td>\n",
       "      <td>17830</td>\n",
       "      <td>2009</td>\n",
       "      <td>2000</td>\n",
       "    </tr>\n",
       "    <tr>\n",
       "      <th>1622346</th>\n",
       "      <td>Olivia</td>\n",
       "      <td>F</td>\n",
       "      <td>17374</td>\n",
       "      <td>2009</td>\n",
       "      <td>2000</td>\n",
       "    </tr>\n",
       "    <tr>\n",
       "      <th>1622347</th>\n",
       "      <td>Sophia</td>\n",
       "      <td>F</td>\n",
       "      <td>16869</td>\n",
       "      <td>2009</td>\n",
       "      <td>2000</td>\n",
       "    </tr>\n",
       "    <tr>\n",
       "      <th>1622348</th>\n",
       "      <td>Ava</td>\n",
       "      <td>F</td>\n",
       "      <td>15826</td>\n",
       "      <td>2009</td>\n",
       "      <td>2000</td>\n",
       "    </tr>\n",
       "    <tr>\n",
       "      <th>...</th>\n",
       "      <td>...</td>\n",
       "      <td>...</td>\n",
       "      <td>...</td>\n",
       "      <td>...</td>\n",
       "      <td>...</td>\n",
       "    </tr>\n",
       "    <tr>\n",
       "      <th>1656941</th>\n",
       "      <td>Zyquarius</td>\n",
       "      <td>M</td>\n",
       "      <td>5</td>\n",
       "      <td>2009</td>\n",
       "      <td>2000</td>\n",
       "    </tr>\n",
       "    <tr>\n",
       "      <th>1656942</th>\n",
       "      <td>Zyran</td>\n",
       "      <td>M</td>\n",
       "      <td>5</td>\n",
       "      <td>2009</td>\n",
       "      <td>2000</td>\n",
       "    </tr>\n",
       "    <tr>\n",
       "      <th>1656943</th>\n",
       "      <td>Zyreion</td>\n",
       "      <td>M</td>\n",
       "      <td>5</td>\n",
       "      <td>2009</td>\n",
       "      <td>2000</td>\n",
       "    </tr>\n",
       "    <tr>\n",
       "      <th>1656944</th>\n",
       "      <td>Zyrian</td>\n",
       "      <td>M</td>\n",
       "      <td>5</td>\n",
       "      <td>2009</td>\n",
       "      <td>2000</td>\n",
       "    </tr>\n",
       "    <tr>\n",
       "      <th>1656945</th>\n",
       "      <td>Zyvion</td>\n",
       "      <td>M</td>\n",
       "      <td>5</td>\n",
       "      <td>2009</td>\n",
       "      <td>2000</td>\n",
       "    </tr>\n",
       "  </tbody>\n",
       "</table>\n",
       "<p>34602 rows × 5 columns</p>\n",
       "</div>"
      ],
      "text/plain": [
       "              name sex  births  year  decade\n",
       "1622344   Isabella   F   22222  2009    2000\n",
       "1622345       Emma   F   17830  2009    2000\n",
       "1622346     Olivia   F   17374  2009    2000\n",
       "1622347     Sophia   F   16869  2009    2000\n",
       "1622348        Ava   F   15826  2009    2000\n",
       "...            ...  ..     ...   ...     ...\n",
       "1656941  Zyquarius   M       5  2009    2000\n",
       "1656942      Zyran   M       5  2009    2000\n",
       "1656943    Zyreion   M       5  2009    2000\n",
       "1656944     Zyrian   M       5  2009    2000\n",
       "1656945     Zyvion   M       5  2009    2000\n",
       "\n",
       "[34602 rows x 5 columns]"
      ]
     },
     "execution_count": 142,
     "metadata": {},
     "output_type": "execute_result"
    }
   ],
   "source": [
    "names[names['year']==2009]"
   ]
  },
  {
   "cell_type": "markdown",
   "metadata": {
    "id": "WQB0gl1AX_ML"
   },
   "source": [
    "**Step Two**:  Use the decades column to form a **pivot table** which directly\n",
    "represents the popularity of each name in each decade.\n",
    "\n",
    "Note that the pivot table will have lots of `NaN`s since the set of\n",
    "names expands from decade to decade, so it is a good idea to do `fillna(0)`."
   ]
  },
  {
   "cell_type": "code",
   "execution_count": 143,
   "metadata": {
    "id": "FID9iu0dX_ML"
   },
   "outputs": [],
   "source": [
    "# Shrink number of decades before pivoting\n",
    "f_names = names[names['sex']=='F']\n",
    "dec_chosen = f_names[f_names['decade'].isin([1880,1940,1990])]\n",
    "\n",
    "# Row name_i, col decade_j: contains total births for name_i in decade_j.\n",
    "# If you leave out columns = 'decade', you get  one column, with the total births sum \n",
    "# for all 3 decades\n",
    "dec_pivot = pd.pivot_table(dec_chosen,'births',\n",
    "                           index='name',columns='decade',aggfunc='sum').fillna(0)"
   ]
  },
  {
   "cell_type": "code",
   "execution_count": 144,
   "metadata": {
    "colab": {
     "base_uri": "https://localhost:8080/",
     "height": 237
    },
    "id": "JBcVfs-bX_ML",
    "outputId": "ebc35d44-6505-4041-a10f-a892292f9899"
   },
   "outputs": [
    {
     "data": {
      "text/html": [
       "<div>\n",
       "<style scoped>\n",
       "    .dataframe tbody tr th:only-of-type {\n",
       "        vertical-align: middle;\n",
       "    }\n",
       "\n",
       "    .dataframe tbody tr th {\n",
       "        vertical-align: top;\n",
       "    }\n",
       "\n",
       "    .dataframe thead th {\n",
       "        text-align: right;\n",
       "    }\n",
       "</style>\n",
       "<table border=\"1\" class=\"dataframe\">\n",
       "  <thead>\n",
       "    <tr style=\"text-align: right;\">\n",
       "      <th>decade</th>\n",
       "      <th>1880</th>\n",
       "      <th>1940</th>\n",
       "      <th>1990</th>\n",
       "    </tr>\n",
       "    <tr>\n",
       "      <th>name</th>\n",
       "      <th></th>\n",
       "      <th></th>\n",
       "      <th></th>\n",
       "    </tr>\n",
       "  </thead>\n",
       "  <tbody>\n",
       "    <tr>\n",
       "      <th>Aailiyah</th>\n",
       "      <td>0.0</td>\n",
       "      <td>0.0</td>\n",
       "      <td>5.0</td>\n",
       "    </tr>\n",
       "    <tr>\n",
       "      <th>Aailyah</th>\n",
       "      <td>0.0</td>\n",
       "      <td>0.0</td>\n",
       "      <td>27.0</td>\n",
       "    </tr>\n",
       "    <tr>\n",
       "      <th>Aaisha</th>\n",
       "      <td>0.0</td>\n",
       "      <td>0.0</td>\n",
       "      <td>42.0</td>\n",
       "    </tr>\n",
       "    <tr>\n",
       "      <th>Aajah</th>\n",
       "      <td>0.0</td>\n",
       "      <td>0.0</td>\n",
       "      <td>6.0</td>\n",
       "    </tr>\n",
       "    <tr>\n",
       "      <th>Aakilah</th>\n",
       "      <td>0.0</td>\n",
       "      <td>0.0</td>\n",
       "      <td>11.0</td>\n",
       "    </tr>\n",
       "  </tbody>\n",
       "</table>\n",
       "</div>"
      ],
      "text/plain": [
       "decade    1880  1940  1990\n",
       "name                      \n",
       "Aailiyah   0.0   0.0   5.0\n",
       "Aailyah    0.0   0.0  27.0\n",
       "Aaisha     0.0   0.0  42.0\n",
       "Aajah      0.0   0.0   6.0\n",
       "Aakilah    0.0   0.0  11.0"
      ]
     },
     "execution_count": 144,
     "metadata": {},
     "output_type": "execute_result"
    }
   ],
   "source": [
    "dec_pivot.head()"
   ]
  },
  {
   "cell_type": "code",
   "execution_count": 145,
   "metadata": {
    "colab": {
     "base_uri": "https://localhost:8080/"
    },
    "id": "PVi4CBFOX_MM",
    "outputId": "5c058fcc-b6bf-4eb9-8a26-519f662dd5e7"
   },
   "outputs": [
    {
     "data": {
      "text/plain": [
       "decade\n",
       "1880     91672.0\n",
       "1940    639863.0\n",
       "1990     75350.0\n",
       "Name: Mary, dtype: float64"
      ]
     },
     "execution_count": 145,
     "metadata": {},
     "output_type": "execute_result"
    }
   ],
   "source": [
    "dec_pivot.loc['Mary']"
   ]
  },
  {
   "cell_type": "code",
   "execution_count": 146,
   "metadata": {
    "colab": {
     "base_uri": "https://localhost:8080/"
    },
    "id": "hNkFgYc3X_MM",
    "outputId": "13f29806-4bc6-40c2-d927-fc91277bf838"
   },
   "outputs": [
    {
     "data": {
      "text/plain": [
       "decade\n",
       "1880         0.0\n",
       "1940        88.0\n",
       "1990    301749.0\n",
       "Name: Ashley, dtype: float64"
      ]
     },
     "execution_count": 146,
     "metadata": {},
     "output_type": "execute_result"
    }
   ],
   "source": [
    "dec_pivot.loc['Ashley']"
   ]
  },
  {
   "cell_type": "markdown",
   "metadata": {
    "id": "6lIBaVQnX_MM"
   },
   "source": [
    "This spells out what the computation of the pivot table did , for all three dec ades and one name.\n"
   ]
  },
  {
   "cell_type": "markdown",
   "metadata": {
    "id": "B8rQWGE4bqYi"
   },
   "source": [
    "```\n",
    ">>> f_names = names[names['sex']=='F']\n",
    ">>> f_names_1880s = f_names[f_names['decade']  == 1880]\n",
    ">>> f_names_1940s = f_names[f_names['decade']  == 1940]\n",
    ">>> f_names_1990s = f_names[f_names['decade']  == 1990]\n",
    "```"
   ]
  },
  {
   "cell_type": "markdown",
   "metadata": {
    "id": "uDJjS7TqX_MM"
   },
   "source": [
    "```\n",
    ">>> print(f_names_1880s[f_names_1880s[\"name\"]==\"Mary\"]['births'].sum())\n",
    "91672\n",
    ">>> print(f_names_1940s[f_names_1940s[\"name\"]==\"Mary\"]['births'].sum())\n",
    "639863\n",
    ">>> print(f_names_1990s[f_names_1990s[\"name\"]==\"Mary\"]['births'].sum())\n",
    "75350\n",
    "```\n"
   ]
  },
  {
   "cell_type": "markdown",
   "metadata": {
    "id": "Afddzgx467uk"
   },
   "source": [
    "Below we'll use these total birth numbers for normalization."
   ]
  },
  {
   "cell_type": "code",
   "execution_count": 147,
   "metadata": {
    "id": "UpvfniGmX_MM"
   },
   "outputs": [],
   "source": [
    "total_births = dec_pivot.sum(axis=0)"
   ]
  },
  {
   "cell_type": "code",
   "execution_count": 148,
   "metadata": {
    "colab": {
     "base_uri": "https://localhost:8080/"
    },
    "id": "JlQqc64RX_MM",
    "outputId": "83fa6e98-d410-40cd-bae2-ba13169a5ebf"
   },
   "outputs": [
    {
     "data": {
      "text/plain": [
       "decade\n",
       "1880     1312719.0\n",
       "1940    14480943.0\n",
       "1990    17992167.0\n",
       "dtype: float64"
      ]
     },
     "execution_count": 148,
     "metadata": {},
     "output_type": "execute_result"
    }
   ],
   "source": [
    "total_births"
   ]
  },
  {
   "cell_type": "markdown",
   "metadata": {
    "id": "JWqPrgWC6yZa"
   },
   "source": [
    "**Step three**:  Finding the most popular names in each decade.\n",
    "\n",
    "We will choose our sample names from the most popular names in each decade: Loop through\n",
    "columns (decades) sorting each to find its most popular\n",
    "names."
   ]
  },
  {
   "cell_type": "code",
   "execution_count": 154,
   "metadata": {
    "colab": {
     "base_uri": "https://localhost:8080/"
    },
    "id": "pcm3z87pX_MN",
    "outputId": "74509a58-e611-4963-cdd0-cbd45082b6e1"
   },
   "outputs": [
    {
     "name": "stdout",
     "output_type": "stream",
     "text": [
      "1880\n",
      "====\n",
      "decade        1880      1940      1990\n",
      "name                                  \n",
      "Mary       91672.0  639863.0   75350.0\n",
      "Anna       38159.0   41288.0   78392.0\n",
      "Emma       25404.0   22780.0   58038.0\n",
      "Elizabeth  25007.0  116512.0  172484.0\n",
      "\n",
      "1940\n",
      "====\n",
      "decade       1880      1940     1990\n",
      "name                                \n",
      "Mary      91672.0  639863.0  75350.0\n",
      "Linda       493.0  531515.0  12783.0\n",
      "Barbara    1820.0  425141.0   8701.0\n",
      "Patricia     58.0  411330.0  24121.0\n",
      "\n",
      "1990\n",
      "====\n",
      "decade      1880     1940      1990\n",
      "name                               \n",
      "Jessica     94.0   2202.0  303008.0\n",
      "Ashley       0.0     88.0  301749.0\n",
      "Emily     3368.0  13401.0  237189.0\n",
      "Sarah    14715.0  39954.0  224091.0\n",
      "\n",
      "11\n",
      "['Anna', 'Ashley', 'Barbara', 'Elizabeth', 'Emily', 'Emma', 'Jessica', 'Linda', 'Mary', 'Patricia']\n"
     ]
    }
   ],
   "source": [
    "topn = 4\n",
    "chosen = set()\n",
    "for col in dec_pivot.columns:\n",
    "    print(col)\n",
    "    print('='*len(f'{col}'))\n",
    "    sorted_df = dec_pivot.sort_values(col,ascending=False)\n",
    "    print(sorted_df.head(topn))\n",
    "    chosen.update(sorted_df.iloc[:topn].index)\n",
    "    print()\n",
    "    \n",
    "\n",
    "# There are only 11 names in the set because some names (e.g., \"Mary\")\n",
    "# are in the top 3 in more than one decade.\n",
    "print(len(chosen))\n",
    "# We'll subtract one name to round it down to 10 names\n",
    "# We are removing 1990s #4 name: \"Sarah\"\n",
    "chosen.remove(sorted_df.iloc[:4][-1:].index[0])\n",
    "name_list = sorted(list(chosen))\n",
    "# We make a DF with just the chosen names to plot in sorted order\n",
    "decades = dec_pivot.loc[name_list]\n",
    "print(name_list)"
   ]
  },
  {
   "cell_type": "markdown",
   "metadata": {},
   "source": [
    "That completes the basic analysis.\n",
    "\n",
    "We now turn to how to plot what we've found."
   ]
  },
  {
   "cell_type": "markdown",
   "metadata": {
    "id": "KEeho9QoyD7T"
   },
   "source": [
    "#### Plotting solution 1 of 3\n",
    "\n",
    "Note that there is a normalized version of this solution\n",
    "(not shown here) that bears the same relation to this\n",
    "solution as solution 3 does to solution 2.\n",
    "\n",
    "This is an okay solution but it suffers from some\n",
    "defects. It is not that easy to see what the trend is\n",
    "for a particular name over the decades.  It is not clear\n",
    "how population growth is affecting the plot.  Normalizing\n",
    "would help with this last problem.  Most importantly, drawing\n",
    "a **line** between the points in the same decade is not really meaningful.\n",
    "There is no sense in which we are capturing any intermediate\n",
    "name counts when we extend the 1940s line  from *Ashley* to\n",
    "*Barbara*.  This is not that kind of data.  A scatter plot would\n",
    "be better but harder to look at."
   ]
  },
  {
   "cell_type": "code",
   "execution_count": 12,
   "metadata": {
    "colab": {
     "base_uri": "https://localhost:8080/",
     "height": 501
    },
    "id": "KgpHTyhfkc-r",
    "outputId": "24e04c37-51f3-4a92-981c-ebca438b41b9"
   },
   "outputs": [
    {
     "data": {
      "text/plain": [
       "<matplotlib.legend.Legend at 0x7f84bad4c978>"
      ]
     },
     "execution_count": 12,
     "metadata": {},
     "output_type": "execute_result"
    },
    {
     "data": {
      "image/png": "[encoded data removed]",
      "text/plain": [
       "<Figure size 1080x576 with 1 Axes>"
      ]
     },
     "metadata": {
      "needs_background": "light"
     },
     "output_type": "display_data"
    }
   ],
   "source": [
    "from matplotlib import pyplot as plt\n",
    "import numpy as np\n",
    "\n",
    "fig, ax = plt.subplots(1,1, figsize = (15,8))\n",
    "\n",
    "x = np.arange(len(name_list))\n",
    "plt.xticks(x,name_list)\n",
    "for dec in decades.columns:\n",
    "    ax.plot(x,decades[dec],label=dec)\n",
    "ax.legend()"
   ]
  },
  {
   "cell_type": "markdown",
   "metadata": {},
   "source": [
    "Harder to perceive.  And some overlaps are covering data."
   ]
  },
  {
   "cell_type": "code",
   "execution_count": 17,
   "metadata": {},
   "outputs": [
    {
     "data": {
      "text/plain": [
       "<matplotlib.legend.Legend at 0x7f84a028b390>"
      ]
     },
     "execution_count": 17,
     "metadata": {},
     "output_type": "execute_result"
    },
    {
     "data": {
      "image/png": "[encoded data removed]",
      "text/plain": [
       "<Figure size 1080x576 with 1 Axes>"
      ]
     },
     "metadata": {
      "needs_background": "light"
     },
     "output_type": "display_data"
    }
   ],
   "source": [
    "from matplotlib import pyplot as plt\n",
    "import numpy as np\n",
    "\n",
    "fig, ax = plt.subplots(1,1, figsize = (15,8))\n",
    "\n",
    "x = np.arange(len(name_list))\n",
    "plt.xticks(x,name_list)\n",
    "for dec in decades.columns:\n",
    "    ax.scatter(x,decades[dec],label=dec,s=100,marker=\"*\")\n",
    "ax.legend()"
   ]
  },
  {
   "cell_type": "markdown",
   "metadata": {
    "id": "3r2vWHk324Ha"
   },
   "source": [
    "#### Plotting  solution 2 of 3  (Bar plot)"
   ]
  },
  {
   "cell_type": "markdown",
   "metadata": {
    "id": "VU70KgMTxza4"
   },
   "source": [
    "Use bar chart.  There are some other enhancements below in color usage and\n",
    "font selection, for illustration.\n",
    "\n",
    "This solution is inspired by [an example from the\n",
    "matplotlib gallery.](https://matplotlib.org/3.5.0/gallery/lines_bars_and_markers/barchart.html)\n",
    "\n",
    "It saliently shows the changes for each name over the\n",
    "decades.  It is very good for making the point that obscure names can leap suddenly into prominence (look at *Ashley*, *Jessica*, and *Emily*), or come briefly into prominence and\n",
    "then drop back into obscurity (*Barbara* and *Linda*).\n",
    "Names are as subject to trends as clothing styles are.\n",
    "\n",
    "Notice this plot might be more visually informative if we removed *Mary*, but our 10 names were chosen in a sensible way (most popular names from each of the decades), so we live with this problem.  But note that it's a lot less of an issue if we normalize for population (next solution)."
   ]
  },
  {
   "cell_type": "markdown",
   "metadata": {
    "id": "K4xgoB78X_MO"
   },
   "source": [
    "Note 1:  *Although bar charts have been a feature of Matplotlib since forever, the `.bar_label` method in the plotting code below only works as of Matplotlib 3.4.\n",
    "For a nice discussion of the bar chart enhancements in 3.4 (including examples with errorbars, stacked bar levels, and negative values), see [Gareth Thomas's Version Bay article on the release.](https://www.versionbay.com/articles/2021/new-matplotlib-3-4-is-out/)*\n",
    "\n",
    "Note 2: *The colors chosen are from a color tableau, which is essentially supposed to\n",
    "provide a set of colors that harmonize.*\n",
    "\n",
    "*An alternative way to get a small set of colors is from \n",
    "a qualitative color map.  As of matplotlib 3.4, it is quite easy to inspect a color map if\n",
    "you know its name.  For example, if this nitebiook is running > Matplotlib 3.4, \n",
    "have a look at the very useful `Set2` color set.*"
   ]
  },
  {
   "cell_type": "code",
   "execution_count": 22,
   "metadata": {
    "colab": {
     "base_uri": "https://localhost:8080/"
    },
    "id": "R85AtTpuX_MO",
    "outputId": "adae5412-21e2-41a4-ff0a-92c6b6bc322b",
    "scrolled": true
   },
   "outputs": [
    {
     "data": {
      "image/png": "[encoded data removed]",
      "text/html": [
       "<div style=\"vertical-align: middle;\"><strong>Set2</strong> </div><div class=\"cmap\"><img alt=\"Set2 colormap\" title=\"Set2\" style=\"border: 1px solid #555;\" src=\"data:image/png;base64,iVBORw0KGgoAAAANSUhEUgAAAgAAAABACAYAAABsv8+/AAAAE3RFWHRUaXRsZQBTZXQyIGNvbG9ybWFw8Jt8/wAAABl0RVh0RGVzY3JpcHRpb24AU2V0MiBjb2xvcm1hcHsp7GcAAAAwdEVYdEF1dGhvcgBNYXRwbG90bGliIHYzLjUuMSwgaHR0cHM6Ly9tYXRwbG90bGliLm9yZ/e3zs8AAAAydEVYdFNvZnR3YXJlAE1hdHBsb3RsaWIgdjMuNS4xLCBodHRwczovL21hdHBsb3RsaWIub3Jn2RFR6AAAAWZJREFUeJzt1qFtAgAUAFFgBQZgIzx4mjAOhg0Yg5BgSVgAX9GK2rp2C7649yY4ecuP++VvEXZ+XKcTRp3Wx+mEUfuv3+mEUbftaTph1G75mk4Y9fl9mE4Y9fzZTCeMWk0HAADvZwAAIMgAAECQAQCAIAMAAEEGAACCDAAABBkAAAgyAAAQZAAAIMgAAECQAQCAIAMAAEEGAACCDAAABBkAAAgyAAAQZAAAIMgAAECQAQCAIAMAAEEGAACCDAAABBkAAAgyAAAQZAAAIMgAAECQAQCAIAMAAEEGAACCDAAABBkAAAgyAAAQZAAAIMgAAECQAQCAIAMAAEEGAACCDAAABBkAAAgyAAAQZAAAIMgAAECQAQCAIAMAAEEGAACCDAAABBkAAAgyAAAQZAAAIMgAAECQAQCAIAMAAEEGAACCDAAABBkAAAgyAAAQZAAAIMgAAECQAQCAIAMAAEEGAACCDAAABP0Dyt0PmA+ixo4AAAAASUVORK5CYII=\"></div><div style=\"vertical-align: middle; max-width: 514px; display: flex; justify-content: space-between;\"><div style=\"float: left;\"><div title=\"#66c2a5ff\" style=\"display: inline-block; width: 1em; height: 1em; margin: 0; vertical-align: middle; border: 1px solid #555; background-color: #66c2a5ff;\"></div> under</div><div style=\"margin: 0 auto; display: inline-block;\">bad <div title=\"#00000000\" style=\"display: inline-block; width: 1em; height: 1em; margin: 0; vertical-align: middle; border: 1px solid #555; background-color: #00000000;\"></div></div><div style=\"float: right;\">over <div title=\"#b3b3b3ff\" style=\"display: inline-block; width: 1em; height: 1em; margin: 0; vertical-align: middle; border: 1px solid #555; background-color: #b3b3b3ff;\"></div></div>"
      ],
      "text/plain": [
       "<matplotlib.colors.ListedColormap at 0x7ff9edf73550>"
      ]
     },
     "execution_count": 22,
     "metadata": {},
     "output_type": "execute_result"
    }
   ],
   "source": [
    "import matplotlib.pyplot as plt\n",
    "cmap_name = 'Set2'\n",
    "cmap = plt.get_cmap(cmap_name)\n",
    "# This displays differently in versions of matplotlib > 3.4\n",
    "# (where a band of color is actually displayed)\n",
    "cmap"
   ]
  },
  {
   "cell_type": "markdown",
   "metadata": {},
   "source": [
    "Note 3:  *For an advanced discussion of how to use colormaps,\n",
    "especially as devices for representing a third value field\n",
    "overlaid on a 2D plot, see this [PyHoGs (Python Hour for Oceanographers and Geoscientists) blog.](https://pyhogs.github.io/colormap-examples.html)*"
   ]
  },
  {
   "cell_type": "markdown",
   "metadata": {},
   "source": [
    "Note:  Try doing this in seaborn.  It is much simpler."
   ]
  },
  {
   "cell_type": "code",
   "execution_count": 23,
   "metadata": {
    "colab": {
     "base_uri": "https://localhost:8080/",
     "height": 553
    },
    "id": "n-FFURbTo5XA",
    "outputId": "78358a17-132f-43e5-e84f-697bb3b895f1"
   },
   "outputs": [
    {
     "data": {
      "image/png": "[encoded data removed]",
      "text/plain": [
       "<Figure size 1080x576 with 1 Axes>"
      ]
     },
     "metadata": {
      "needs_background": "light"
     },
     "output_type": "display_data"
    }
   ],
   "source": [
    "import numpy as np\n",
    "from numpy import round\n",
    "import matplotlib.pyplot as plt\n",
    "import matplotlib.colors as mcolors\n",
    "import matplotlib as mpl\n",
    "\n",
    "fontsize = 15\n",
    "\n",
    "# Save default to be restored after this plot\n",
    "default_font_size = mpl.rc_params()['font.size']\n",
    "# Do this before creating fig to avoid having to scale up font size\n",
    "# for each labeling command\n",
    "mpl.rcParams['font.size'] = fontsize\n",
    "\n",
    "\n",
    "colors = [mcolors.TABLEAU_COLORS['tab:purple'],\n",
    "                mcolors.TABLEAU_COLORS['tab:cyan'],\n",
    "                        mcolors.TABLEAU_COLORS['tab:blue']]\n",
    "\n",
    "#  Alternatively, use one of the qualitative color maps \n",
    "#  cmap = plt.get_cmap('Set2')\n",
    "#  colors = [cmap.colors[0],cmap.colors[3],cmap.colors[7]]\n",
    "\n",
    "fig, ax = plt.subplots(1,1, figsize = (15,8))\n",
    "#fontsize=15\n",
    "labels = name_list\n",
    "\n",
    "x = np.arange(len(labels))  # the label locations\n",
    "width = 0.29  # the width of the bars\n",
    "\n",
    "# Store rectangle seqs created by `ax.bar(...)` here.\n",
    "rectangles = dict()\n",
    "# Make numbers more printable\n",
    "rdata = round(decades/100)\n",
    "for i,dec in enumerate(decades.columns):\n",
    "    inc = width*(i-1)\n",
    "    rectangles[dec] = ax.bar(x + inc, rdata[dec], width, \n",
    "                             label=f'{dec}s', color=colors[i])\n",
    "    if mpl.__version__ > '3.4':\n",
    "        plt.bar_label(rectangles[dec], label_type='edge', padding=3,\n",
    "                      # This is the one place where scaled-up font size looks bad.\n",
    "                      fontsize=default_font_size)\n",
    "\n",
    "# Add some text for labels, title and custom x-axis tick labels, etc.\n",
    "ax.set_ylabel('Births / 100')\n",
    "ax.set_title('Name popularity of selected female names')\n",
    "ax.set_xticks(x)\n",
    "ax.set_xticklabels(labels)\n",
    "ax.set_yticks(np.arange(0, 8000, 1000))\n",
    "ax.set_yticklabels(np.arange(0, 8000, 1000))\n",
    "ax.legend()\n",
    "\n",
    "\n",
    "fig.tight_layout()\n",
    "mpl.rcParams['font.size'] = default_font_size"
   ]
  },
  {
   "cell_type": "markdown",
   "metadata": {
    "id": "NJvubaiE3jYU"
   },
   "source": [
    "#### Plotting solution 3 of 3 (Normalized Bar Plot)"
   ]
  },
  {
   "cell_type": "markdown",
   "metadata": {
    "id": "aCttemaAzUWy"
   },
   "source": [
    "Try normalizing by total births.\n",
    "\n",
    "The `total_births` for each decade were computed above.\n",
    "\n",
    "This is a change in one line from the\n",
    "code above.  Arguably this plot gives the best picture of popularity.\n",
    "The plot above makes it look as 1940s was the peak year\n",
    "for *Mary*.  But, by proportion, none of the names in our sample has ever been as popular as *Mary* was in the 1880s,\n",
    "and the name's popularity has been in decline since then.\n",
    "At least in part, that decline\n",
    "is systematic; as we move up the decades, the competition increases due\n",
    "to increasing name diversity.  "
   ]
  },
  {
   "cell_type": "code",
   "execution_count": 24,
   "metadata": {
    "colab": {
     "base_uri": "https://localhost:8080/"
    },
    "id": "vjVcjA9oX_MP",
    "outputId": "00dcf490-b017-4935-e299-cba572b9e9f8"
   },
   "outputs": [
    {
     "name": "stdout",
     "output_type": "stream",
     "text": [
      "Decade    #Names\n",
      "================\n",
      "1880      2,060\n",
      "1940      9,676\n",
      "1990     30,831\n"
     ]
    }
   ],
   "source": [
    "print('Decade    #Names')\n",
    "print('='*len('Decade    #Names'))\n",
    "for col in dec_pivot.columns:\n",
    "    print(f'{col}     {len(dec_pivot[dec_pivot[col] > 0]):>6,}', end='\\n') "
   ]
  },
  {
   "cell_type": "markdown",
   "metadata": {
    "id": "9ke5hHgyX_MP"
   },
   "source": [
    "It is very likely that no name will ever\n",
    "be as popular (by percentage) as *Mary* was in the 1880s. However, name share by percentage can also increase (as names like *Barbara* and *Linda* show). So trendiness\n",
    "can sometimes outweigh the effects of increasing competition.\n",
    "\n",
    "Nevertheless, the decline in market share of the most popular names makes one wonder if name distributions are still Zipfian;\n",
    "it is a hallmark of linguistic power law \n",
    "distributions that there is a small set of well-spaced outliers at the upper end of\n",
    "the frequency scale.  It is decidedly non-Zipfian that there are two names in a dead\n",
    "heat for first place in the 1990s."
   ]
  },
  {
   "cell_type": "code",
   "execution_count": 26,
   "metadata": {
    "colab": {
     "base_uri": "https://localhost:8080/",
     "height": 553
    },
    "id": "e3L_geJtX_MP",
    "outputId": "b0c084c3-f7a8-442a-cc3c-49d53deaafe1"
   },
   "outputs": [
    {
     "data": {
      "image/png": "[encoded data removed]",
      "text/plain": [
       "<Figure size 1080x576 with 1 Axes>"
      ]
     },
     "metadata": {
      "needs_background": "light"
     },
     "output_type": "display_data"
    }
   ],
   "source": [
    "# Save default to be restored after this plot\n",
    "default_font_size = mpl.rc_params()['font.size']\n",
    "# Do this before creating fig to avoid having to scale up font size\n",
    "# for each labeling command\n",
    "mpl.rcParams['font.size'] = 15\n",
    "\n",
    "\n",
    "fig, ax = plt.subplots(1,1, figsize = (15,8))\n",
    "\n",
    "labels = name_list\n",
    "\n",
    "x = np.arange(len(labels))  # the label locations\n",
    "width = 0.28  # the width of the bars\n",
    "\n",
    "# Store rectangle seqs created by `ax.bar(...)` here.\n",
    "rectangles = dict()\n",
    "\n",
    "# Using the total_births DF created above to normalize\n",
    "# Note that dividing one DF by another works \n",
    "# because the two DFs have the same column set\n",
    "rdata = round(100*(decades/total_births),2)\n",
    "for i,dec in enumerate(decades.columns):\n",
    "    inc = width * (i-1)\n",
    "    rectangles[dec] = ax.bar(x + inc, rdata[dec], width, \n",
    "                             label=f'{dec}s', color=colors[i])\n",
    "    if mpl.__version__ > '3.4':\n",
    "        plt.bar_label(rectangles[dec], label_type='edge', padding=3,\n",
    "                      # This is the one place where scaled-up font size looks bad.\n",
    "                      fontsize=default_font_size)\n",
    "\n",
    "# Add some text for labels, title and custom x-axis tick labels, etc.\n",
    "ax.set_ylabel('Percent Births')\n",
    "ax.set_title('Name popularity of selected female names (percentages)')\n",
    "ax.set_xticks(x)\n",
    "ax.set_yticks(np.arange(8))\n",
    "ax.set_yticklabels(np.arange(8))\n",
    "ax.set_xticklabels(labels)\n",
    "ax.legend()\n",
    "\n",
    "\n",
    "fig.tight_layout()\n",
    "mpl.rcParams['font.size'] = default_font_size"
   ]
  },
  {
   "cell_type": "code",
   "execution_count": null,
   "metadata": {
    "id": "zYnUmw9JX_MP"
   },
   "outputs": [],
   "source": []
  },
  {
   "cell_type": "markdown",
   "metadata": {},
   "source": [
    "### 4.3 Letter counting."
   ]
  },
  {
   "cell_type": "markdown",
   "metadata": {},
   "source": [
    "Find the **set** of all male names and the **set** of all female names for all the years in the data. For each letter find its frequency as a last letter in the set of male names and in the set of female names, using Python Counters (`from collections import Counter`).\n",
    "Use matplotlib to draw a single plot that  shows\n",
    "contrast between the last-letter frequencies \n",
    "for male and female names; x-axis is letters;\n",
    "y-axis is frequencies."
   ]
  },
  {
   "cell_type": "markdown",
   "metadata": {},
   "source": [
    "Note the reason we're insisting on doing this analysis on the **set** of names\n",
    "is hinted  at in the extra credit problem.  We're trying to get a general\n",
    "characterziation of what the letter-shape of a male or female name is,\n",
    "starting with the last letter.  An application would be guessing whether\n",
    "an unknown name is male of female.  So the question is, when it comes\n",
    "to comparing the popularity of \"a\" and \"y\" as last letters should 1000 low\n",
    "frequency names that end in \"a\" count more than one extremely high frequency\n",
    "name (say, \"Mary\") that ends in \"y\"; the answer, linguistically, seems\n",
    "to be yes.\n",
    "\n",
    "Get your letter counts."
   ]
  },
  {
   "cell_type": "code",
   "execution_count": 130,
   "metadata": {},
   "outputs": [],
   "source": [
    "from collections import Counter\n",
    "XX = names\n",
    "fnames = XX[XX['sex']=='F']\n",
    "mnames = XX[XX['sex']=='M']\n",
    "## The next two lines, alas, are wrong, because you're getting last letters\n",
    "## without first turning names into a set.\n",
    "#fnames['lastletter'] = fnames['name'].str.get(-1)\n",
    "#mnames['lastletter'] = mnames['name'].str.get(-1)\n",
    "# Create two counters.  These are essentially dictionaries\n",
    "fcount = Counter([nm[-1] for nm in fnames['name'].unique()])\n",
    "mcount = Counter([nm[-1] for nm in mnames['name'].unique()])"
   ]
  },
  {
   "cell_type": "code",
   "execution_count": 131,
   "metadata": {
    "scrolled": false
   },
   "outputs": [
    {
     "data": {
      "text/plain": [
       "26199"
      ]
     },
     "execution_count": 131,
     "metadata": {},
     "output_type": "execute_result"
    }
   ],
   "source": [
    "fcount['a']"
   ]
  },
  {
   "cell_type": "code",
   "execution_count": 132,
   "metadata": {},
   "outputs": [
    {
     "data": {
      "text/plain": [
       "1758"
      ]
     },
     "execution_count": 132,
     "metadata": {},
     "output_type": "execute_result"
    }
   ],
   "source": [
    "mcount['a']"
   ]
  },
  {
   "cell_type": "markdown",
   "metadata": {},
   "source": [
    "#### Plotting solution 1"
   ]
  },
  {
   "cell_type": "markdown",
   "metadata": {},
   "source": [
    "Using DataFrames"
   ]
  },
  {
   "cell_type": "markdown",
   "metadata": {},
   "source": [
    "There are lots of ways to do this.  You can even make two DFs and merge them.  The idea\n",
    "is to end up with something that  has the letters as the index and two columns,\n",
    "one for each of the gender counts.\n",
    "\n",
    "This structure makes the plotting easy.\n",
    "\n",
    "The code below exploits the idea that a Series (being used as a DataFrame column)\n",
    "can be thought of as a dictionary, so `pandas` makes it very easy to\n",
    "make a Series from a dictionary:"
   ]
  },
  {
   "cell_type": "code",
   "execution_count": 133,
   "metadata": {},
   "outputs": [
    {
     "data": {
      "text/html": [
       "<div>\n",
       "<style scoped>\n",
       "    .dataframe tbody tr th:only-of-type {\n",
       "        vertical-align: middle;\n",
       "    }\n",
       "\n",
       "    .dataframe tbody tr th {\n",
       "        vertical-align: top;\n",
       "    }\n",
       "\n",
       "    .dataframe thead th {\n",
       "        text-align: right;\n",
       "    }\n",
       "</style>\n",
       "<table border=\"1\" class=\"dataframe\">\n",
       "  <thead>\n",
       "    <tr style=\"text-align: right;\">\n",
       "      <th></th>\n",
       "      <th>F</th>\n",
       "      <th>M</th>\n",
       "    </tr>\n",
       "  </thead>\n",
       "  <tbody>\n",
       "    <tr>\n",
       "      <th>a</th>\n",
       "      <td>26199</td>\n",
       "      <td>1758</td>\n",
       "    </tr>\n",
       "    <tr>\n",
       "      <th>b</th>\n",
       "      <td>38</td>\n",
       "      <td>231</td>\n",
       "    </tr>\n",
       "    <tr>\n",
       "      <th>c</th>\n",
       "      <td>53</td>\n",
       "      <td>237</td>\n",
       "    </tr>\n",
       "    <tr>\n",
       "      <th>d</th>\n",
       "      <td>301</td>\n",
       "      <td>1473</td>\n",
       "    </tr>\n",
       "    <tr>\n",
       "      <th>e</th>\n",
       "      <td>11501</td>\n",
       "      <td>4451</td>\n",
       "    </tr>\n",
       "  </tbody>\n",
       "</table>\n",
       "</div>"
      ],
      "text/plain": [
       "       F     M\n",
       "a  26199  1758\n",
       "b     38   231\n",
       "c     53   237\n",
       "d    301  1473\n",
       "e  11501  4451"
      ]
     },
     "execution_count": 133,
     "metadata": {},
     "output_type": "execute_result"
    }
   ],
   "source": [
    "letterdf = pd.DataFrame({'F': pd.Series(fcount),\n",
    "                         'M': pd.Series(mcount)})\n",
    "letterdf.head(5)"
   ]
  },
  {
   "cell_type": "code",
   "execution_count": 137,
   "metadata": {},
   "outputs": [
    {
     "name": "stdout",
     "output_type": "stream",
     "text": [
      "       F     M\n",
      "a  26199  1758\n",
      "e  11501  4451\n",
      "n   6351  9679\n",
      "h   3921  1168\n",
      "y   3501  2137\n",
      "\n",
      "       F     M\n",
      "n   6351  9679\n",
      "e  11501  4451\n",
      "l   2043  2938\n",
      "s   1124  2727\n",
      "r    854  2254\n"
     ]
    }
   ],
   "source": [
    "print(letterdf.sort_values('F',ascending=False).head(5))\n",
    "print()\n",
    "print(letterdf.sort_values('M',ascending=False).head(5))"
   ]
  },
  {
   "cell_type": "code",
   "execution_count": 138,
   "metadata": {},
   "outputs": [
    {
     "data": {
      "text/plain": [
       "<AxesSubplot:>"
      ]
     },
     "execution_count": 138,
     "metadata": {},
     "output_type": "execute_result"
    },
    {
     "data": {
      "image/png": "[encoded data removed]",
      "text/plain": [
       "<Figure size 1080x504 with 1 Axes>"
      ]
     },
     "metadata": {
      "needs_background": "light"
     },
     "output_type": "display_data"
    }
   ],
   "source": [
    "letterdf.plot(kind='bar',figsize=(15,7))"
   ]
  },
  {
   "cell_type": "markdown",
   "metadata": {},
   "source": [
    "#### Plotting solution 2: \n",
    "\n",
    "Make the plot not using a DataFrame at all.  Just go directly from the coiunters."
   ]
  },
  {
   "cell_type": "markdown",
   "metadata": {},
   "source": [
    "Explaining what the * are doing in the code below.\n",
    "\n",
    "The expression `*zip(*fnms)` passes in as two separate arguments\n",
    "the two elements of `zip(*fnms)`.\n",
    "\n",
    "When we pass those to the plotting function in the code below, the first sequence\n",
    "is the x-values, the second, the y values.\n"
   ]
  },
  {
   "cell_type": "code",
   "execution_count": 185,
   "metadata": {},
   "outputs": [
    {
     "name": "stdout",
     "output_type": "stream",
     "text": [
      "[('a', 26199), ('b', 38), ('c', 53), ('d', 301), ('e', 11501), ('f', 12), ('g', 135), ('h', 3921), ('i', 3357), ('j', 25), ('k', 93), ('l', 2043), ('m', 224), ('n', 6351), ('o', 569), ('p', 25), ('q', 10), ('r', 854), ('s', 1124), ('t', 618), ('u', 185), ('v', 14), ('w', 29), ('x', 54), ('y', 3501), ('z', 170)]\n",
      "\n",
      "[('a', 'b', 'c', 'd', 'e', 'f', 'g', 'h', 'i', 'j', 'k', 'l', 'm', 'n', 'o', 'p', 'q', 'r', 's', 't', 'u', 'v', 'w', 'x', 'y', 'z'), (26199, 38, 53, 301, 11501, 12, 135, 3921, 3357, 25, 93, 2043, 224, 6351, 569, 25, 10, 854, 1124, 618, 185, 14, 29, 54, 3501, 170)]\n",
      "\n",
      "('a', 'b', 'c', 'd', 'e', 'f', 'g', 'h', 'i', 'j', 'k', 'l', 'm', 'n', 'o', 'p', 'q', 'r', 's', 't', 'u', 'v', 'w', 'x', 'y', 'z') (26199, 38, 53, 301, 11501, 12, 135, 3921, 3357, 25, 93, 2043, 224, 6351, 569, 25, 10, 854, 1124, 618, 185, 14, 29, 54, 3501, 170)\n"
     ]
    }
   ],
   "source": [
    "print(fnms)\n",
    "print()\n",
    "print(list(zip(*fnms)))\n",
    "print()\n",
    "print(*zip(*fnms))"
   ]
  },
  {
   "cell_type": "code",
   "execution_count": 183,
   "metadata": {},
   "outputs": [
    {
     "data": {
      "text/plain": [
       "<matplotlib.legend.Legend at 0x7fc5e0f3da20>"
      ]
     },
     "execution_count": 183,
     "metadata": {},
     "output_type": "execute_result"
    },
    {
     "data": {
      "image/png": "[encoded data removed]",
      "text/plain": [
       "<Figure size 1080x504 with 1 Axes>"
      ]
     },
     "metadata": {
      "needs_background": "light"
     },
     "output_type": "display_data"
    }
   ],
   "source": [
    "import matplotlib.patches as mpatches\n",
    "import matplotlib.pyplot as plt\n",
    "(fig, ax) = plt.subplots(1,1, figsize=[15, 7])\n",
    "\n",
    "width=.5\n",
    "fnms = sorted(fcount.items())\n",
    "mnms = sorted(mcount.items())\n",
    "ax.bar(*zip(*fnms),color='salmon',width=width,label='F')\n",
    "ax.bar(*zip(*mnms),color='steelblue',width=width,label='M')\n",
    "\n",
    "# Deafult call to legend() is no op.\n",
    "plt.legend()"
   ]
  },
  {
   "cell_type": "code",
   "execution_count": null,
   "metadata": {},
   "outputs": [],
   "source": []
  }
 ],
 "metadata": {
  "colab": {
   "name": "pandas_assignment_solution.ipynb",
   "provenance": []
  },
  "kernelspec": {
   "display_name": "Python 3 (ipykernel)",
   "language": "python",
   "name": "python3"
  },
  "language_info": {
   "codemirror_mode": {
    "name": "ipython",
    "version": 3
   },
   "file_extension": ".py",
   "mimetype": "text/x-python",
   "name": "python",
   "nbconvert_exporter": "python",
   "pygments_lexer": "ipython3",
   "version": "3.7.0"
  },
  "toc": {
   "base_numbering": 1,
   "nav_menu": {},
   "number_sections": true,
   "sideBar": true,
   "skip_h1_title": false,
   "title_cell": "Table of Contents",
   "title_sidebar": "Contents",
   "toc_cell": false,
   "toc_position": {},
   "toc_section_display": true,
   "toc_window_display": false
  }
 },
 "nbformat": 4,
 "nbformat_minor": 1
}
