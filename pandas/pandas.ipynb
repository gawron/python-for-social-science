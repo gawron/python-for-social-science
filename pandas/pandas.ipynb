{
 "cells": [
  {
   "cell_type": "markdown",
   "metadata": {
    "id": "_jUT3k15ZlxJ"
   },
   "source": [
    "## Selecting parts of Pandas data frame"
   ]
  },
  {
   "cell_type": "markdown",
   "metadata": {
    "id": "2Qyt3MWaZlxK"
   },
   "source": [
    " To begin with, we focus on how to select data.   For much more detailed background on Pandas data structures, see http://pandas.pydata.org/pandas-docs/dev/dsintro.html."
   ]
  },
  {
   "cell_type": "markdown",
   "metadata": {
    "id": "zxPXMi7nZwbw"
   },
   "source": [
    "The next cell assumes you've already run the general_pandas_intro.ipynb notebook and which guides you through extracting the baby names data onto your Google Drive."
   ]
  },
  {
   "cell_type": "code",
   "execution_count": 5,
   "metadata": {
    "colab": {
     "base_uri": "https://localhost:8080/"
    },
    "executionInfo": {
     "elapsed": 945,
     "status": "ok",
     "timestamp": 1604194291294,
     "user": {
      "displayName": "Mark Gawron",
      "photoUrl": "",
      "userId": "08320954030243304145"
     },
     "user_tz": 420
    },
    "id": "B8axMgtsZlxL",
    "outputId": "b0713deb-edf8-4f1b-87aa-35052496a0f8"
   },
   "outputs": [
    {
     "name": "stdout",
     "output_type": "stream",
     "text": [
      "Drive already mounted at /content/gdrive; to attempt to forcibly remount, call drive.mount(\"/content/gdrive\", force_remount=True).\n"
     ]
    }
   ],
   "source": [
    "%matplotlib inline\n",
    "from google.colab import drive\n",
    "import pandas as pd\n",
    "import os.path\n",
    "\n",
    "drive.mount('/content/gdrive') \n",
    "data_dir = '/content/gdrive/My Drive/data'\n",
    "os.chdir(data_dir)\n",
    "def str_to_int (str0):\n",
    "    return int(str0.replace(',',''))\n",
    "\n",
    "cdict = dict(male=str_to_int,female=str_to_int,total=str_to_int)\n",
    "names1881 = pd.read_csv('names/yob1881.txt',converters=cdict,names=['name','sex','births'])"
   ]
  },
  {
   "cell_type": "code",
   "execution_count": 6,
   "metadata": {
    "colab": {
     "base_uri": "https://localhost:8080/"
    },
    "executionInfo": {
     "elapsed": 877,
     "status": "ok",
     "timestamp": 1604194295990,
     "user": {
      "displayName": "Mark Gawron",
      "photoUrl": "",
      "userId": "08320954030243304145"
     },
     "user_tz": 420
    },
    "id": "64x0V4RCZlxP",
    "outputId": "d939c69d-38d9-4a0c-e220-302aa0bd9578"
   },
   "outputs": [
    {
     "data": {
      "text/plain": [
       "name      object\n",
       "sex       object\n",
       "births     int64\n",
       "dtype: object"
      ]
     },
     "execution_count": 6,
     "metadata": {
      "tags": []
     },
     "output_type": "execute_result"
    }
   ],
   "source": [
    "names1881.dtypes"
   ]
  },
  {
   "cell_type": "markdown",
   "metadata": {
    "id": "sgOgNuwJZlxS"
   },
   "source": [
    "Notice the rows are indexed with numbers.  We could if we wished assign an arbitrary set of code names to the rows,\n",
    "and sequence of strings of the right length.  Here's a silly choice."
   ]
  },
  {
   "cell_type": "code",
   "execution_count": 9,
   "metadata": {
    "executionInfo": {
     "elapsed": 823,
     "status": "ok",
     "timestamp": 1604194306351,
     "user": {
      "displayName": "Mark Gawron",
      "photoUrl": "",
      "userId": "08320954030243304145"
     },
     "user_tz": 420
    },
    "id": "x4ATi7FBZlxT"
   },
   "outputs": [],
   "source": [
    "from string import ascii_lowercase\n",
    "codes = [x + y + z for x in ascii_lowercase for y in ascii_lowercase for z in ascii_lowercase]\n",
    "names1881.index = codes[:1935]"
   ]
  },
  {
   "cell_type": "code",
   "execution_count": 10,
   "metadata": {
    "colab": {
     "base_uri": "https://localhost:8080/",
     "height": 419
    },
    "executionInfo": {
     "elapsed": 867,
     "status": "ok",
     "timestamp": 1604194310838,
     "user": {
      "displayName": "Mark Gawron",
      "photoUrl": "",
      "userId": "08320954030243304145"
     },
     "user_tz": 420
    },
    "id": "3z-1SmQFZlxV",
    "outputId": "7a46350f-43d8-4300-f432-eb52d1a7d2f4",
    "scrolled": true
   },
   "outputs": [
    {
     "data": {
      "text/html": [
       "<div>\n",
       "<style scoped>\n",
       "    .dataframe tbody tr th:only-of-type {\n",
       "        vertical-align: middle;\n",
       "    }\n",
       "\n",
       "    .dataframe tbody tr th {\n",
       "        vertical-align: top;\n",
       "    }\n",
       "\n",
       "    .dataframe thead th {\n",
       "        text-align: right;\n",
       "    }\n",
       "</style>\n",
       "<table border=\"1\" class=\"dataframe\">\n",
       "  <thead>\n",
       "    <tr style=\"text-align: right;\">\n",
       "      <th></th>\n",
       "      <th>name</th>\n",
       "      <th>sex</th>\n",
       "      <th>births</th>\n",
       "    </tr>\n",
       "  </thead>\n",
       "  <tbody>\n",
       "    <tr>\n",
       "      <th>aaa</th>\n",
       "      <td>Mary</td>\n",
       "      <td>F</td>\n",
       "      <td>6919</td>\n",
       "    </tr>\n",
       "    <tr>\n",
       "      <th>aab</th>\n",
       "      <td>Anna</td>\n",
       "      <td>F</td>\n",
       "      <td>2698</td>\n",
       "    </tr>\n",
       "    <tr>\n",
       "      <th>aac</th>\n",
       "      <td>Emma</td>\n",
       "      <td>F</td>\n",
       "      <td>2034</td>\n",
       "    </tr>\n",
       "    <tr>\n",
       "      <th>aad</th>\n",
       "      <td>Elizabeth</td>\n",
       "      <td>F</td>\n",
       "      <td>1852</td>\n",
       "    </tr>\n",
       "    <tr>\n",
       "      <th>aae</th>\n",
       "      <td>Margaret</td>\n",
       "      <td>F</td>\n",
       "      <td>1658</td>\n",
       "    </tr>\n",
       "    <tr>\n",
       "      <th>...</th>\n",
       "      <td>...</td>\n",
       "      <td>...</td>\n",
       "      <td>...</td>\n",
       "    </tr>\n",
       "    <tr>\n",
       "      <th>cwg</th>\n",
       "      <td>Wiliam</td>\n",
       "      <td>M</td>\n",
       "      <td>5</td>\n",
       "    </tr>\n",
       "    <tr>\n",
       "      <th>cwh</th>\n",
       "      <td>Wilton</td>\n",
       "      <td>M</td>\n",
       "      <td>5</td>\n",
       "    </tr>\n",
       "    <tr>\n",
       "      <th>cwi</th>\n",
       "      <td>Wing</td>\n",
       "      <td>M</td>\n",
       "      <td>5</td>\n",
       "    </tr>\n",
       "    <tr>\n",
       "      <th>cwj</th>\n",
       "      <td>Wood</td>\n",
       "      <td>M</td>\n",
       "      <td>5</td>\n",
       "    </tr>\n",
       "    <tr>\n",
       "      <th>cwk</th>\n",
       "      <td>Wright</td>\n",
       "      <td>M</td>\n",
       "      <td>5</td>\n",
       "    </tr>\n",
       "  </tbody>\n",
       "</table>\n",
       "<p>1935 rows × 3 columns</p>\n",
       "</div>"
      ],
      "text/plain": [
       "          name sex  births\n",
       "aaa       Mary   F    6919\n",
       "aab       Anna   F    2698\n",
       "aac       Emma   F    2034\n",
       "aad  Elizabeth   F    1852\n",
       "aae   Margaret   F    1658\n",
       "..         ...  ..     ...\n",
       "cwg     Wiliam   M       5\n",
       "cwh     Wilton   M       5\n",
       "cwi       Wing   M       5\n",
       "cwj       Wood   M       5\n",
       "cwk     Wright   M       5\n",
       "\n",
       "[1935 rows x 3 columns]"
      ]
     },
     "execution_count": 10,
     "metadata": {
      "tags": []
     },
     "output_type": "execute_result"
    }
   ],
   "source": [
    "names1881"
   ]
  },
  {
   "cell_type": "code",
   "execution_count": 11,
   "metadata": {
    "executionInfo": {
     "elapsed": 788,
     "status": "ok",
     "timestamp": 1604194314522,
     "user": {
      "displayName": "Mark Gawron",
      "photoUrl": "",
      "userId": "08320954030243304145"
     },
     "user_tz": 420
    },
    "id": "rM5a1FGuZlxX"
   },
   "outputs": [],
   "source": [
    "names1881['new'] = names1881['births']/100"
   ]
  },
  {
   "cell_type": "code",
   "execution_count": 12,
   "metadata": {
    "colab": {
     "base_uri": "https://localhost:8080/",
     "height": 419
    },
    "executionInfo": {
     "elapsed": 512,
     "status": "ok",
     "timestamp": 1604194316646,
     "user": {
      "displayName": "Mark Gawron",
      "photoUrl": "",
      "userId": "08320954030243304145"
     },
     "user_tz": 420
    },
    "id": "94tNi7RpZlxZ",
    "outputId": "fe3c8cef-3899-42a8-ef9a-d79dae3e58ab"
   },
   "outputs": [
    {
     "data": {
      "text/html": [
       "<div>\n",
       "<style scoped>\n",
       "    .dataframe tbody tr th:only-of-type {\n",
       "        vertical-align: middle;\n",
       "    }\n",
       "\n",
       "    .dataframe tbody tr th {\n",
       "        vertical-align: top;\n",
       "    }\n",
       "\n",
       "    .dataframe thead th {\n",
       "        text-align: right;\n",
       "    }\n",
       "</style>\n",
       "<table border=\"1\" class=\"dataframe\">\n",
       "  <thead>\n",
       "    <tr style=\"text-align: right;\">\n",
       "      <th></th>\n",
       "      <th>name</th>\n",
       "      <th>sex</th>\n",
       "      <th>births</th>\n",
       "      <th>new</th>\n",
       "    </tr>\n",
       "  </thead>\n",
       "  <tbody>\n",
       "    <tr>\n",
       "      <th>aaa</th>\n",
       "      <td>Mary</td>\n",
       "      <td>F</td>\n",
       "      <td>6919</td>\n",
       "      <td>69.19</td>\n",
       "    </tr>\n",
       "    <tr>\n",
       "      <th>aab</th>\n",
       "      <td>Anna</td>\n",
       "      <td>F</td>\n",
       "      <td>2698</td>\n",
       "      <td>26.98</td>\n",
       "    </tr>\n",
       "    <tr>\n",
       "      <th>aac</th>\n",
       "      <td>Emma</td>\n",
       "      <td>F</td>\n",
       "      <td>2034</td>\n",
       "      <td>20.34</td>\n",
       "    </tr>\n",
       "    <tr>\n",
       "      <th>aad</th>\n",
       "      <td>Elizabeth</td>\n",
       "      <td>F</td>\n",
       "      <td>1852</td>\n",
       "      <td>18.52</td>\n",
       "    </tr>\n",
       "    <tr>\n",
       "      <th>aae</th>\n",
       "      <td>Margaret</td>\n",
       "      <td>F</td>\n",
       "      <td>1658</td>\n",
       "      <td>16.58</td>\n",
       "    </tr>\n",
       "    <tr>\n",
       "      <th>...</th>\n",
       "      <td>...</td>\n",
       "      <td>...</td>\n",
       "      <td>...</td>\n",
       "      <td>...</td>\n",
       "    </tr>\n",
       "    <tr>\n",
       "      <th>cwg</th>\n",
       "      <td>Wiliam</td>\n",
       "      <td>M</td>\n",
       "      <td>5</td>\n",
       "      <td>0.05</td>\n",
       "    </tr>\n",
       "    <tr>\n",
       "      <th>cwh</th>\n",
       "      <td>Wilton</td>\n",
       "      <td>M</td>\n",
       "      <td>5</td>\n",
       "      <td>0.05</td>\n",
       "    </tr>\n",
       "    <tr>\n",
       "      <th>cwi</th>\n",
       "      <td>Wing</td>\n",
       "      <td>M</td>\n",
       "      <td>5</td>\n",
       "      <td>0.05</td>\n",
       "    </tr>\n",
       "    <tr>\n",
       "      <th>cwj</th>\n",
       "      <td>Wood</td>\n",
       "      <td>M</td>\n",
       "      <td>5</td>\n",
       "      <td>0.05</td>\n",
       "    </tr>\n",
       "    <tr>\n",
       "      <th>cwk</th>\n",
       "      <td>Wright</td>\n",
       "      <td>M</td>\n",
       "      <td>5</td>\n",
       "      <td>0.05</td>\n",
       "    </tr>\n",
       "  </tbody>\n",
       "</table>\n",
       "<p>1935 rows × 4 columns</p>\n",
       "</div>"
      ],
      "text/plain": [
       "          name sex  births    new\n",
       "aaa       Mary   F    6919  69.19\n",
       "aab       Anna   F    2698  26.98\n",
       "aac       Emma   F    2034  20.34\n",
       "aad  Elizabeth   F    1852  18.52\n",
       "aae   Margaret   F    1658  16.58\n",
       "..         ...  ..     ...    ...\n",
       "cwg     Wiliam   M       5   0.05\n",
       "cwh     Wilton   M       5   0.05\n",
       "cwi       Wing   M       5   0.05\n",
       "cwj       Wood   M       5   0.05\n",
       "cwk     Wright   M       5   0.05\n",
       "\n",
       "[1935 rows x 4 columns]"
      ]
     },
     "execution_count": 12,
     "metadata": {
      "tags": []
     },
     "output_type": "execute_result"
    }
   ],
   "source": [
    "names1881"
   ]
  },
  {
   "cell_type": "markdown",
   "metadata": {
    "id": "GyiERYPxZlxc"
   },
   "source": [
    "The first ten columns.  Note according to the Pythin type we still have a `DataFrame`, just a smaller one."
   ]
  },
  {
   "cell_type": "code",
   "execution_count": 13,
   "metadata": {
    "colab": {
     "base_uri": "https://localhost:8080/",
     "height": 376
    },
    "executionInfo": {
     "elapsed": 818,
     "status": "ok",
     "timestamp": 1604194321040,
     "user": {
      "displayName": "Mark Gawron",
      "photoUrl": "",
      "userId": "08320954030243304145"
     },
     "user_tz": 420
    },
    "id": "4tXbBoDGZlxd",
    "outputId": "455e4034-f3b2-4385-fb42-5875fd14d345"
   },
   "outputs": [
    {
     "name": "stdout",
     "output_type": "stream",
     "text": [
      "<class 'pandas.core.frame.DataFrame'>\n"
     ]
    },
    {
     "data": {
      "text/html": [
       "<div>\n",
       "<style scoped>\n",
       "    .dataframe tbody tr th:only-of-type {\n",
       "        vertical-align: middle;\n",
       "    }\n",
       "\n",
       "    .dataframe tbody tr th {\n",
       "        vertical-align: top;\n",
       "    }\n",
       "\n",
       "    .dataframe thead th {\n",
       "        text-align: right;\n",
       "    }\n",
       "</style>\n",
       "<table border=\"1\" class=\"dataframe\">\n",
       "  <thead>\n",
       "    <tr style=\"text-align: right;\">\n",
       "      <th></th>\n",
       "      <th>name</th>\n",
       "      <th>sex</th>\n",
       "      <th>births</th>\n",
       "      <th>new</th>\n",
       "    </tr>\n",
       "  </thead>\n",
       "  <tbody>\n",
       "    <tr>\n",
       "      <th>aaa</th>\n",
       "      <td>Mary</td>\n",
       "      <td>F</td>\n",
       "      <td>6919</td>\n",
       "      <td>69.19</td>\n",
       "    </tr>\n",
       "    <tr>\n",
       "      <th>aab</th>\n",
       "      <td>Anna</td>\n",
       "      <td>F</td>\n",
       "      <td>2698</td>\n",
       "      <td>26.98</td>\n",
       "    </tr>\n",
       "    <tr>\n",
       "      <th>aac</th>\n",
       "      <td>Emma</td>\n",
       "      <td>F</td>\n",
       "      <td>2034</td>\n",
       "      <td>20.34</td>\n",
       "    </tr>\n",
       "    <tr>\n",
       "      <th>aad</th>\n",
       "      <td>Elizabeth</td>\n",
       "      <td>F</td>\n",
       "      <td>1852</td>\n",
       "      <td>18.52</td>\n",
       "    </tr>\n",
       "    <tr>\n",
       "      <th>aae</th>\n",
       "      <td>Margaret</td>\n",
       "      <td>F</td>\n",
       "      <td>1658</td>\n",
       "      <td>16.58</td>\n",
       "    </tr>\n",
       "    <tr>\n",
       "      <th>aaf</th>\n",
       "      <td>Minnie</td>\n",
       "      <td>F</td>\n",
       "      <td>1653</td>\n",
       "      <td>16.53</td>\n",
       "    </tr>\n",
       "    <tr>\n",
       "      <th>aag</th>\n",
       "      <td>Ida</td>\n",
       "      <td>F</td>\n",
       "      <td>1439</td>\n",
       "      <td>14.39</td>\n",
       "    </tr>\n",
       "    <tr>\n",
       "      <th>aah</th>\n",
       "      <td>Annie</td>\n",
       "      <td>F</td>\n",
       "      <td>1326</td>\n",
       "      <td>13.26</td>\n",
       "    </tr>\n",
       "    <tr>\n",
       "      <th>aai</th>\n",
       "      <td>Bertha</td>\n",
       "      <td>F</td>\n",
       "      <td>1324</td>\n",
       "      <td>13.24</td>\n",
       "    </tr>\n",
       "    <tr>\n",
       "      <th>aaj</th>\n",
       "      <td>Alice</td>\n",
       "      <td>F</td>\n",
       "      <td>1308</td>\n",
       "      <td>13.08</td>\n",
       "    </tr>\n",
       "  </tbody>\n",
       "</table>\n",
       "</div>"
      ],
      "text/plain": [
       "          name sex  births    new\n",
       "aaa       Mary   F    6919  69.19\n",
       "aab       Anna   F    2698  26.98\n",
       "aac       Emma   F    2034  20.34\n",
       "aad  Elizabeth   F    1852  18.52\n",
       "aae   Margaret   F    1658  16.58\n",
       "aaf     Minnie   F    1653  16.53\n",
       "aag        Ida   F    1439  14.39\n",
       "aah      Annie   F    1326  13.26\n",
       "aai     Bertha   F    1324  13.24\n",
       "aaj      Alice   F    1308  13.08"
      ]
     },
     "execution_count": 13,
     "metadata": {
      "tags": []
     },
     "output_type": "execute_result"
    }
   ],
   "source": [
    "print(type(names1881[:10]))\n",
    "names1881[:10]"
   ]
  },
  {
   "cell_type": "markdown",
   "metadata": {
    "id": "Dcut-f31Zlxf"
   },
   "source": [
    "Retrieve the column with the gender values, and display the last part."
   ]
  },
  {
   "cell_type": "code",
   "execution_count": 14,
   "metadata": {
    "colab": {
     "base_uri": "https://localhost:8080/",
     "height": 204
    },
    "executionInfo": {
     "elapsed": 912,
     "status": "ok",
     "timestamp": 1604194324263,
     "user": {
      "displayName": "Mark Gawron",
      "photoUrl": "",
      "userId": "08320954030243304145"
     },
     "user_tz": 420
    },
    "id": "HZhFP4fuZlxg",
    "outputId": "130c6d79-81f7-496a-df00-9388cb8c72b1"
   },
   "outputs": [
    {
     "data": {
      "text/html": [
       "<div>\n",
       "<style scoped>\n",
       "    .dataframe tbody tr th:only-of-type {\n",
       "        vertical-align: middle;\n",
       "    }\n",
       "\n",
       "    .dataframe tbody tr th {\n",
       "        vertical-align: top;\n",
       "    }\n",
       "\n",
       "    .dataframe thead th {\n",
       "        text-align: right;\n",
       "    }\n",
       "</style>\n",
       "<table border=\"1\" class=\"dataframe\">\n",
       "  <thead>\n",
       "    <tr style=\"text-align: right;\">\n",
       "      <th></th>\n",
       "      <th>sex</th>\n",
       "    </tr>\n",
       "  </thead>\n",
       "  <tbody>\n",
       "    <tr>\n",
       "      <th>cwg</th>\n",
       "      <td>M</td>\n",
       "    </tr>\n",
       "    <tr>\n",
       "      <th>cwh</th>\n",
       "      <td>M</td>\n",
       "    </tr>\n",
       "    <tr>\n",
       "      <th>cwi</th>\n",
       "      <td>M</td>\n",
       "    </tr>\n",
       "    <tr>\n",
       "      <th>cwj</th>\n",
       "      <td>M</td>\n",
       "    </tr>\n",
       "    <tr>\n",
       "      <th>cwk</th>\n",
       "      <td>M</td>\n",
       "    </tr>\n",
       "  </tbody>\n",
       "</table>\n",
       "</div>"
      ],
      "text/plain": [
       "    sex\n",
       "cwg   M\n",
       "cwh   M\n",
       "cwi   M\n",
       "cwj   M\n",
       "cwk   M"
      ]
     },
     "execution_count": 14,
     "metadata": {
      "tags": []
     },
     "output_type": "execute_result"
    }
   ],
   "source": [
    "names1881[['sex']].tail()"
   ]
  },
  {
   "cell_type": "markdown",
   "metadata": {
    "id": "ezZ5PrieZlxi"
   },
   "source": [
    "A vectorized Boolean test, returning a DataFrame that has one column, a column of Booleans."
   ]
  },
  {
   "cell_type": "code",
   "execution_count": 16,
   "metadata": {
    "colab": {
     "base_uri": "https://localhost:8080/",
     "height": 436
    },
    "executionInfo": {
     "elapsed": 648,
     "status": "ok",
     "timestamp": 1604194333666,
     "user": {
      "displayName": "Mark Gawron",
      "photoUrl": "",
      "userId": "08320954030243304145"
     },
     "user_tz": 420
    },
    "id": "uMnbrc8PZlxi",
    "outputId": "3d408fd5-324d-42ed-e6ec-f7943cec9112",
    "scrolled": true
   },
   "outputs": [
    {
     "name": "stdout",
     "output_type": "stream",
     "text": [
      "<class 'pandas.core.frame.DataFrame'>\n"
     ]
    },
    {
     "data": {
      "text/html": [
       "<div>\n",
       "<style scoped>\n",
       "    .dataframe tbody tr th:only-of-type {\n",
       "        vertical-align: middle;\n",
       "    }\n",
       "\n",
       "    .dataframe tbody tr th {\n",
       "        vertical-align: top;\n",
       "    }\n",
       "\n",
       "    .dataframe thead th {\n",
       "        text-align: right;\n",
       "    }\n",
       "</style>\n",
       "<table border=\"1\" class=\"dataframe\">\n",
       "  <thead>\n",
       "    <tr style=\"text-align: right;\">\n",
       "      <th></th>\n",
       "      <th>sex</th>\n",
       "    </tr>\n",
       "  </thead>\n",
       "  <tbody>\n",
       "    <tr>\n",
       "      <th>aaa</th>\n",
       "      <td>True</td>\n",
       "    </tr>\n",
       "    <tr>\n",
       "      <th>aab</th>\n",
       "      <td>True</td>\n",
       "    </tr>\n",
       "    <tr>\n",
       "      <th>aac</th>\n",
       "      <td>True</td>\n",
       "    </tr>\n",
       "    <tr>\n",
       "      <th>aad</th>\n",
       "      <td>True</td>\n",
       "    </tr>\n",
       "    <tr>\n",
       "      <th>aae</th>\n",
       "      <td>True</td>\n",
       "    </tr>\n",
       "    <tr>\n",
       "      <th>...</th>\n",
       "      <td>...</td>\n",
       "    </tr>\n",
       "    <tr>\n",
       "      <th>cwg</th>\n",
       "      <td>False</td>\n",
       "    </tr>\n",
       "    <tr>\n",
       "      <th>cwh</th>\n",
       "      <td>False</td>\n",
       "    </tr>\n",
       "    <tr>\n",
       "      <th>cwi</th>\n",
       "      <td>False</td>\n",
       "    </tr>\n",
       "    <tr>\n",
       "      <th>cwj</th>\n",
       "      <td>False</td>\n",
       "    </tr>\n",
       "    <tr>\n",
       "      <th>cwk</th>\n",
       "      <td>False</td>\n",
       "    </tr>\n",
       "  </tbody>\n",
       "</table>\n",
       "<p>1935 rows × 1 columns</p>\n",
       "</div>"
      ],
      "text/plain": [
       "       sex\n",
       "aaa   True\n",
       "aab   True\n",
       "aac   True\n",
       "aad   True\n",
       "aae   True\n",
       "..     ...\n",
       "cwg  False\n",
       "cwh  False\n",
       "cwi  False\n",
       "cwj  False\n",
       "cwk  False\n",
       "\n",
       "[1935 rows x 1 columns]"
      ]
     },
     "execution_count": 16,
     "metadata": {
      "tags": []
     },
     "output_type": "execute_result"
    }
   ],
   "source": [
    "print(type(names1881[['sex']]=='F'))\n",
    "names1881[['sex']]=='F'"
   ]
  },
  {
   "cell_type": "markdown",
   "metadata": {
    "id": "ssyYWNVaZlxk"
   },
   "source": [
    "You can pick out a subdata frame with only two columns."
   ]
  },
  {
   "cell_type": "code",
   "execution_count": 17,
   "metadata": {
    "colab": {
     "base_uri": "https://localhost:8080/",
     "height": 436
    },
    "executionInfo": {
     "elapsed": 899,
     "status": "ok",
     "timestamp": 1604194337155,
     "user": {
      "displayName": "Mark Gawron",
      "photoUrl": "",
      "userId": "08320954030243304145"
     },
     "user_tz": 420
    },
    "id": "V5cdbWqEZlxl",
    "outputId": "17bd3f5b-4959-4eee-c8b4-9b301d8fa1ec",
    "scrolled": true
   },
   "outputs": [
    {
     "name": "stdout",
     "output_type": "stream",
     "text": [
      "<class 'pandas.core.frame.DataFrame'>\n"
     ]
    },
    {
     "data": {
      "text/html": [
       "<div>\n",
       "<style scoped>\n",
       "    .dataframe tbody tr th:only-of-type {\n",
       "        vertical-align: middle;\n",
       "    }\n",
       "\n",
       "    .dataframe tbody tr th {\n",
       "        vertical-align: top;\n",
       "    }\n",
       "\n",
       "    .dataframe thead th {\n",
       "        text-align: right;\n",
       "    }\n",
       "</style>\n",
       "<table border=\"1\" class=\"dataframe\">\n",
       "  <thead>\n",
       "    <tr style=\"text-align: right;\">\n",
       "      <th></th>\n",
       "      <th>sex</th>\n",
       "      <th>births</th>\n",
       "    </tr>\n",
       "  </thead>\n",
       "  <tbody>\n",
       "    <tr>\n",
       "      <th>aaa</th>\n",
       "      <td>F</td>\n",
       "      <td>6919</td>\n",
       "    </tr>\n",
       "    <tr>\n",
       "      <th>aab</th>\n",
       "      <td>F</td>\n",
       "      <td>2698</td>\n",
       "    </tr>\n",
       "    <tr>\n",
       "      <th>aac</th>\n",
       "      <td>F</td>\n",
       "      <td>2034</td>\n",
       "    </tr>\n",
       "    <tr>\n",
       "      <th>aad</th>\n",
       "      <td>F</td>\n",
       "      <td>1852</td>\n",
       "    </tr>\n",
       "    <tr>\n",
       "      <th>aae</th>\n",
       "      <td>F</td>\n",
       "      <td>1658</td>\n",
       "    </tr>\n",
       "    <tr>\n",
       "      <th>...</th>\n",
       "      <td>...</td>\n",
       "      <td>...</td>\n",
       "    </tr>\n",
       "    <tr>\n",
       "      <th>cwg</th>\n",
       "      <td>M</td>\n",
       "      <td>5</td>\n",
       "    </tr>\n",
       "    <tr>\n",
       "      <th>cwh</th>\n",
       "      <td>M</td>\n",
       "      <td>5</td>\n",
       "    </tr>\n",
       "    <tr>\n",
       "      <th>cwi</th>\n",
       "      <td>M</td>\n",
       "      <td>5</td>\n",
       "    </tr>\n",
       "    <tr>\n",
       "      <th>cwj</th>\n",
       "      <td>M</td>\n",
       "      <td>5</td>\n",
       "    </tr>\n",
       "    <tr>\n",
       "      <th>cwk</th>\n",
       "      <td>M</td>\n",
       "      <td>5</td>\n",
       "    </tr>\n",
       "  </tbody>\n",
       "</table>\n",
       "<p>1935 rows × 2 columns</p>\n",
       "</div>"
      ],
      "text/plain": [
       "    sex  births\n",
       "aaa   F    6919\n",
       "aab   F    2698\n",
       "aac   F    2034\n",
       "aad   F    1852\n",
       "aae   F    1658\n",
       "..   ..     ...\n",
       "cwg   M       5\n",
       "cwh   M       5\n",
       "cwi   M       5\n",
       "cwj   M       5\n",
       "cwk   M       5\n",
       "\n",
       "[1935 rows x 2 columns]"
      ]
     },
     "execution_count": 17,
     "metadata": {
      "tags": []
     },
     "output_type": "execute_result"
    }
   ],
   "source": [
    "print(type(names1881[['sex','births']]))\n",
    "names1881[['sex','births']]"
   ]
  },
  {
   "cell_type": "markdown",
   "metadata": {
    "id": "kTJd0-QSZlxn"
   },
   "source": [
    "You can leave out one pair of square brackets to get another type of Pandas object called a Series.  A series is halfway from an array to a dataframe, basically an labeled array with one data type.  Notice the row names (or index) of the orginal data frame is preserved."
   ]
  },
  {
   "cell_type": "code",
   "execution_count": 19,
   "metadata": {
    "colab": {
     "base_uri": "https://localhost:8080/"
    },
    "executionInfo": {
     "elapsed": 449,
     "status": "ok",
     "timestamp": 1604194352783,
     "user": {
      "displayName": "Mark Gawron",
      "photoUrl": "",
      "userId": "08320954030243304145"
     },
     "user_tz": 420
    },
    "id": "pvee61EzZlxn",
    "outputId": "d4d67fdc-5b21-4933-9953-142d2829c7ba",
    "scrolled": true
   },
   "outputs": [
    {
     "name": "stdout",
     "output_type": "stream",
     "text": [
      "<class 'pandas.core.series.Series'>\n"
     ]
    },
    {
     "data": {
      "text/plain": [
       "aaa    F\n",
       "aab    F\n",
       "aac    F\n",
       "aad    F\n",
       "aae    F\n",
       "      ..\n",
       "cwg    M\n",
       "cwh    M\n",
       "cwi    M\n",
       "cwj    M\n",
       "cwk    M\n",
       "Name: sex, Length: 1935, dtype: object"
      ]
     },
     "execution_count": 19,
     "metadata": {
      "tags": []
     },
     "output_type": "execute_result"
    }
   ],
   "source": [
    "print(type(names1881['sex']))\n",
    "names1881['sex']"
   ]
  },
  {
   "cell_type": "markdown",
   "metadata": {
    "id": "w-Ss8-S5Zlxp"
   },
   "source": [
    "You can think of a series as dictionary like, in that you retrieve data values with dictionary-like indexing.  But column indexing myst precde row indexing."
   ]
  },
  {
   "cell_type": "code",
   "execution_count": 20,
   "metadata": {
    "colab": {
     "base_uri": "https://localhost:8080/",
     "height": 35
    },
    "executionInfo": {
     "elapsed": 1198,
     "status": "ok",
     "timestamp": 1604194355894,
     "user": {
      "displayName": "Mark Gawron",
      "photoUrl": "",
      "userId": "08320954030243304145"
     },
     "user_tz": 420
    },
    "id": "Xq7EKRGPZlxq",
    "outputId": "355e8289-d860-47dd-b0b9-e9a221b3db0c"
   },
   "outputs": [
    {
     "data": {
      "application/vnd.google.colaboratory.intrinsic+json": {
       "type": "string"
      },
      "text/plain": [
       "'M'"
      ]
     },
     "execution_count": 20,
     "metadata": {
      "tags": []
     },
     "output_type": "execute_result"
    }
   ],
   "source": [
    "names1881['sex']['cvw']"
   ]
  },
  {
   "cell_type": "markdown",
   "metadata": {
    "id": "muglsjbXZlxt"
   },
   "source": [
    "You can ALSO retrieve data by numerical index.  The order in which the data has been read in preserved.  EITHER\n",
    "kind of indexing works.  "
   ]
  },
  {
   "cell_type": "code",
   "execution_count": 21,
   "metadata": {
    "colab": {
     "base_uri": "https://localhost:8080/",
     "height": 35
    },
    "executionInfo": {
     "elapsed": 920,
     "status": "ok",
     "timestamp": 1604194358437,
     "user": {
      "displayName": "Mark Gawron",
      "photoUrl": "",
      "userId": "08320954030243304145"
     },
     "user_tz": 420
    },
    "id": "FVgAME9jZlxt",
    "outputId": "f4e1a15e-f081-46a6-d929-22dcfb4f502e"
   },
   "outputs": [
    {
     "data": {
      "application/vnd.google.colaboratory.intrinsic+json": {
       "type": "string"
      },
      "text/plain": [
       "'F'"
      ]
     },
     "execution_count": 21,
     "metadata": {
      "tags": []
     },
     "output_type": "execute_result"
    }
   ],
   "source": [
    "names1881['sex'][0]"
   ]
  },
  {
   "cell_type": "markdown",
   "metadata": {
    "id": "7xinRmOAZlxx"
   },
   "source": [
    "That's why a Series is referred to as an *ordered set* in the Pandas documentation.  There are no duplicate names, as with dictionary keys, but there is also ordering."
   ]
  },
  {
   "cell_type": "markdown",
   "metadata": {
    "id": "D-xtjp6dZlxx"
   },
   "source": [
    "You can also create a Boolean series containing Booleans.  The following cell creates such a series and prints out the tail (the last few items in the ordering):"
   ]
  },
  {
   "cell_type": "code",
   "execution_count": 22,
   "metadata": {
    "colab": {
     "base_uri": "https://localhost:8080/"
    },
    "executionInfo": {
     "elapsed": 553,
     "status": "ok",
     "timestamp": 1604194360687,
     "user": {
      "displayName": "Mark Gawron",
      "photoUrl": "",
      "userId": "08320954030243304145"
     },
     "user_tz": 420
    },
    "id": "1CsTXsyrZlxx",
    "outputId": "3825265b-7b78-4561-f577-d7b50b7c3ae5"
   },
   "outputs": [
    {
     "data": {
      "text/plain": [
       "cwg    False\n",
       "cwh    False\n",
       "cwi    False\n",
       "cwj    False\n",
       "cwk    False\n",
       "Name: name, dtype: bool"
      ]
     },
     "execution_count": 22,
     "metadata": {
      "tags": []
     },
     "output_type": "execute_result"
    }
   ],
   "source": [
    "(names1881['name']=='Lee').tail()"
   ]
  },
  {
   "cell_type": "markdown",
   "metadata": {
    "id": "Cnf_3cF2Zlxz"
   },
   "source": [
    "Then you can use that series to create to create a much shorter sub data frame of the original data frame that has only the\n",
    "rows with name *Lee*."
   ]
  },
  {
   "cell_type": "code",
   "execution_count": 23,
   "metadata": {
    "colab": {
     "base_uri": "https://localhost:8080/",
     "height": 145
    },
    "executionInfo": {
     "elapsed": 681,
     "status": "ok",
     "timestamp": 1604194362966,
     "user": {
      "displayName": "Mark Gawron",
      "photoUrl": "",
      "userId": "08320954030243304145"
     },
     "user_tz": 420
    },
    "id": "tojNMDIfZlx0",
    "outputId": "d30601a9-b12d-4335-cd17-1e83abde5d7e"
   },
   "outputs": [
    {
     "name": "stdout",
     "output_type": "stream",
     "text": [
      "<class 'pandas.core.series.Series'>\n",
      "<class 'pandas.core.frame.DataFrame'>\n"
     ]
    },
    {
     "data": {
      "text/html": [
       "<div>\n",
       "<style scoped>\n",
       "    .dataframe tbody tr th:only-of-type {\n",
       "        vertical-align: middle;\n",
       "    }\n",
       "\n",
       "    .dataframe tbody tr th {\n",
       "        vertical-align: top;\n",
       "    }\n",
       "\n",
       "    .dataframe thead th {\n",
       "        text-align: right;\n",
       "    }\n",
       "</style>\n",
       "<table border=\"1\" class=\"dataframe\">\n",
       "  <thead>\n",
       "    <tr style=\"text-align: right;\">\n",
       "      <th></th>\n",
       "      <th>name</th>\n",
       "      <th>sex</th>\n",
       "      <th>births</th>\n",
       "      <th>new</th>\n",
       "    </tr>\n",
       "  </thead>\n",
       "  <tbody>\n",
       "    <tr>\n",
       "      <th>ajy</th>\n",
       "      <td>Lee</td>\n",
       "      <td>F</td>\n",
       "      <td>39</td>\n",
       "      <td>0.39</td>\n",
       "    </tr>\n",
       "    <tr>\n",
       "      <th>blt</th>\n",
       "      <td>Lee</td>\n",
       "      <td>M</td>\n",
       "      <td>342</td>\n",
       "      <td>3.42</td>\n",
       "    </tr>\n",
       "  </tbody>\n",
       "</table>\n",
       "</div>"
      ],
      "text/plain": [
       "    name sex  births   new\n",
       "ajy  Lee   F      39  0.39\n",
       "blt  Lee   M     342  3.42"
      ]
     },
     "execution_count": 23,
     "metadata": {
      "tags": []
     },
     "output_type": "execute_result"
    }
   ],
   "source": [
    "print(type(names1881['name']=='Lee'))\n",
    "lee_rows = names1881[names1881['name']=='Lee']\n",
    "print(type(lee_rows))\n",
    "lee_rows"
   ]
  },
  {
   "cell_type": "markdown",
   "metadata": {
    "id": "CyGGhyrPZlx2"
   },
   "source": [
    "So `lee_rows` is a `DataFrame` containing only the rows for people named \"Lee\".  Unlike a `Series` a `DataFrame` can contain multiple columns.  We used the Boolean `[name]=='Lee'` `Series` as a Boolean-condition\n",
    "to create the `lee_rows` `DataFrame`:\n",
    "\n",
    "```\n",
    "lee_rows = names1881[<Boolean-Condition>]\n",
    "```\n",
    "\n",
    "In particular, the Boolean-condition was:\n",
    "\n",
    "```\n",
    "lee_rows = names1881[names1881['name']=='Lee']\n",
    "```\n",
    "\n",
    "and using a Boolean Series to specify a Boolean condition is one very powerful technique for picking out a sub-`DataFrame` of a `DataFrame`.\n",
    "\n",
    "This example also shows why we couldn't use the `name` column to index the data.  There are names that occur in two rows, because they are both male and female names."
   ]
  },
  {
   "cell_type": "markdown",
   "metadata": {
    "id": "u7_ZcLiBZlx2"
   },
   "source": [
    "You can also pick out a sub data frame with just the female names. We do that and print out the tail to show we've got a `female_rows` `DataFrame` with about half the data of the original `DataFrame`."
   ]
  },
  {
   "cell_type": "code",
   "execution_count": 24,
   "metadata": {
    "colab": {
     "base_uri": "https://localhost:8080/",
     "height": 238
    },
    "executionInfo": {
     "elapsed": 979,
     "status": "ok",
     "timestamp": 1604194366918,
     "user": {
      "displayName": "Mark Gawron",
      "photoUrl": "",
      "userId": "08320954030243304145"
     },
     "user_tz": 420
    },
    "id": "I0rPkwd-Zlx3",
    "outputId": "9cb338e7-6415-457d-8e15-0a600ffbcc57"
   },
   "outputs": [
    {
     "name": "stdout",
     "output_type": "stream",
     "text": [
      "<class 'pandas.core.series.Series'>\n",
      "<class 'pandas.core.frame.DataFrame'>\n"
     ]
    },
    {
     "data": {
      "text/html": [
       "<div>\n",
       "<style scoped>\n",
       "    .dataframe tbody tr th:only-of-type {\n",
       "        vertical-align: middle;\n",
       "    }\n",
       "\n",
       "    .dataframe tbody tr th {\n",
       "        vertical-align: top;\n",
       "    }\n",
       "\n",
       "    .dataframe thead th {\n",
       "        text-align: right;\n",
       "    }\n",
       "</style>\n",
       "<table border=\"1\" class=\"dataframe\">\n",
       "  <thead>\n",
       "    <tr style=\"text-align: right;\">\n",
       "      <th></th>\n",
       "      <th>name</th>\n",
       "      <th>sex</th>\n",
       "      <th>births</th>\n",
       "      <th>new</th>\n",
       "    </tr>\n",
       "  </thead>\n",
       "  <tbody>\n",
       "    <tr>\n",
       "      <th>bjx</th>\n",
       "      <td>Tinie</td>\n",
       "      <td>F</td>\n",
       "      <td>5</td>\n",
       "      <td>0.05</td>\n",
       "    </tr>\n",
       "    <tr>\n",
       "      <th>bjy</th>\n",
       "      <td>Tiny</td>\n",
       "      <td>F</td>\n",
       "      <td>5</td>\n",
       "      <td>0.05</td>\n",
       "    </tr>\n",
       "    <tr>\n",
       "      <th>bjz</th>\n",
       "      <td>Vernon</td>\n",
       "      <td>F</td>\n",
       "      <td>5</td>\n",
       "      <td>0.05</td>\n",
       "    </tr>\n",
       "    <tr>\n",
       "      <th>bka</th>\n",
       "      <td>Verona</td>\n",
       "      <td>F</td>\n",
       "      <td>5</td>\n",
       "      <td>0.05</td>\n",
       "    </tr>\n",
       "    <tr>\n",
       "      <th>bkb</th>\n",
       "      <td>Viney</td>\n",
       "      <td>F</td>\n",
       "      <td>5</td>\n",
       "      <td>0.05</td>\n",
       "    </tr>\n",
       "  </tbody>\n",
       "</table>\n",
       "</div>"
      ],
      "text/plain": [
       "       name sex  births   new\n",
       "bjx   Tinie   F       5  0.05\n",
       "bjy    Tiny   F       5  0.05\n",
       "bjz  Vernon   F       5  0.05\n",
       "bka  Verona   F       5  0.05\n",
       "bkb   Viney   F       5  0.05"
      ]
     },
     "execution_count": 24,
     "metadata": {
      "tags": []
     },
     "output_type": "execute_result"
    }
   ],
   "source": [
    "print(type(names1881['sex']=='F'))\n",
    "female_rows = names1881[names1881['sex']=='F']\n",
    "print(type(female_rows))\n",
    "female_rows.tail()"
   ]
  },
  {
   "cell_type": "code",
   "execution_count": 25,
   "metadata": {
    "colab": {
     "base_uri": "https://localhost:8080/",
     "height": 204
    },
    "executionInfo": {
     "elapsed": 491,
     "status": "ok",
     "timestamp": 1604194369691,
     "user": {
      "displayName": "Mark Gawron",
      "photoUrl": "",
      "userId": "08320954030243304145"
     },
     "user_tz": 420
    },
    "id": "xaX_k69lZlx5",
    "outputId": "7ad7198b-8c4c-4fde-be11-11754e2d47aa"
   },
   "outputs": [
    {
     "data": {
      "text/html": [
       "<div>\n",
       "<style scoped>\n",
       "    .dataframe tbody tr th:only-of-type {\n",
       "        vertical-align: middle;\n",
       "    }\n",
       "\n",
       "    .dataframe tbody tr th {\n",
       "        vertical-align: top;\n",
       "    }\n",
       "\n",
       "    .dataframe thead th {\n",
       "        text-align: right;\n",
       "    }\n",
       "</style>\n",
       "<table border=\"1\" class=\"dataframe\">\n",
       "  <thead>\n",
       "    <tr style=\"text-align: right;\">\n",
       "      <th></th>\n",
       "      <th>name</th>\n",
       "      <th>sex</th>\n",
       "      <th>births</th>\n",
       "      <th>new</th>\n",
       "    </tr>\n",
       "  </thead>\n",
       "  <tbody>\n",
       "    <tr>\n",
       "      <th>aaa</th>\n",
       "      <td>Mary</td>\n",
       "      <td>F</td>\n",
       "      <td>6919</td>\n",
       "      <td>69.19</td>\n",
       "    </tr>\n",
       "    <tr>\n",
       "      <th>aab</th>\n",
       "      <td>Anna</td>\n",
       "      <td>F</td>\n",
       "      <td>2698</td>\n",
       "      <td>26.98</td>\n",
       "    </tr>\n",
       "    <tr>\n",
       "      <th>aac</th>\n",
       "      <td>Emma</td>\n",
       "      <td>F</td>\n",
       "      <td>2034</td>\n",
       "      <td>20.34</td>\n",
       "    </tr>\n",
       "    <tr>\n",
       "      <th>aad</th>\n",
       "      <td>Elizabeth</td>\n",
       "      <td>F</td>\n",
       "      <td>1852</td>\n",
       "      <td>18.52</td>\n",
       "    </tr>\n",
       "    <tr>\n",
       "      <th>aae</th>\n",
       "      <td>Margaret</td>\n",
       "      <td>F</td>\n",
       "      <td>1658</td>\n",
       "      <td>16.58</td>\n",
       "    </tr>\n",
       "  </tbody>\n",
       "</table>\n",
       "</div>"
      ],
      "text/plain": [
       "          name sex  births    new\n",
       "aaa       Mary   F    6919  69.19\n",
       "aab       Anna   F    2698  26.98\n",
       "aac       Emma   F    2034  20.34\n",
       "aad  Elizabeth   F    1852  18.52\n",
       "aae   Margaret   F    1658  16.58"
      ]
     },
     "execution_count": 25,
     "metadata": {
      "tags": []
     },
     "output_type": "execute_result"
    }
   ],
   "source": [
    "female_rows.head()"
   ]
  },
  {
   "cell_type": "code",
   "execution_count": null,
   "metadata": {
    "id": "Dta_tdb4Zlx6",
    "outputId": "782427cf-654b-4350-eee4-894bd759ca58"
   },
   "outputs": [
    {
     "name": "stdout",
     "output_type": "stream",
     "text": [
      "<class 'pandas.core.frame.DataFrame'>\n",
      "Index: 938 entries, aaa to bkb\n",
      "Data columns (total 4 columns):\n",
      "name      938 non-null object\n",
      "sex       938 non-null object\n",
      "births    938 non-null int64\n",
      "new       938 non-null float64\n",
      "dtypes: float64(1), int64(1), object(2)\n",
      "memory usage: 36.6+ KB\n"
     ]
    }
   ],
   "source": [
    "female_rows.info()"
   ]
  },
  {
   "cell_type": "code",
   "execution_count": null,
   "metadata": {
    "id": "yzBCsRGCZlx8",
    "outputId": "dbdbdf83-3e1a-4ee0-9ec3-0c40808b16c6"
   },
   "outputs": [
    {
     "name": "stdout",
     "output_type": "stream",
     "text": [
      "<class 'pandas.core.frame.DataFrame'>\n",
      "Index: 1935 entries, aaa to cwk\n",
      "Data columns (total 4 columns):\n",
      "name      1935 non-null object\n",
      "sex       1935 non-null object\n",
      "births    1935 non-null int64\n",
      "new       1935 non-null float64\n",
      "dtypes: float64(1), int64(1), object(2)\n",
      "memory usage: 155.6+ KB\n"
     ]
    }
   ],
   "source": [
    "names1881.info()"
   ]
  },
  {
   "cell_type": "markdown",
   "metadata": {
    "id": "2fdeuj1_Zlx-"
   },
   "source": [
    "## Aggregation"
   ]
  },
  {
   "cell_type": "code",
   "execution_count": null,
   "metadata": {
    "id": "buNrpeJfZlx_",
    "outputId": "6dd6fbe0-09af-4bee-e979-ae43652fc7ab"
   },
   "outputs": [
    {
     "data": {
      "text/plain": [
       "192703"
      ]
     },
     "execution_count": 31,
     "metadata": {
      "tags": []
     },
     "output_type": "execute_result"
    }
   ],
   "source": [
    "names1881['births'].sum()"
   ]
  },
  {
   "cell_type": "markdown",
   "metadata": {
    "id": "jd0uUE0lZlyB"
   },
   "source": [
    "This command summed all the the male and female name counts\n",
    "for the year 1881.\n",
    "So much for the year 1881.  Now let's look\n",
    "at the other years, each of which is stored in its own file,\n",
    "to see how combining Python's IO capabilities\n",
    "with some panda data frame building tools,\n",
    "provides a useful view of the data::"
   ]
  },
  {
   "cell_type": "code",
   "execution_count": 82,
   "metadata": {
    "executionInfo": {
     "elapsed": 2286,
     "status": "ok",
     "timestamp": 1604196564944,
     "user": {
      "displayName": "Mark Gawron",
      "photoUrl": "",
      "userId": "08320954030243304145"
     },
     "user_tz": 420
    },
    "id": "ongsDmJvZlyC"
   },
   "outputs": [],
   "source": [
    "import pandas as pd\n",
    "years = list(range(1880,2011))\n",
    "pieces = []\n",
    "columns = ['name','sex','births']\n",
    "    \n",
    "for year in years:\n",
    "    path = 'names/yob{0:d}.txt'.format(year)\n",
    "    frame = pd.read_csv(path,names=columns)\n",
    "    frame['year'] = year\n",
    "    pieces.append(frame)    \n",
    "    \n",
    "names = pd.concat(pieces, ignore_index=True)"
   ]
  },
  {
   "cell_type": "code",
   "execution_count": 28,
   "metadata": {
    "colab": {
     "base_uri": "https://localhost:8080/",
     "height": 419
    },
    "executionInfo": {
     "elapsed": 645,
     "status": "ok",
     "timestamp": 1604194470147,
     "user": {
      "displayName": "Mark Gawron",
      "photoUrl": "",
      "userId": "08320954030243304145"
     },
     "user_tz": 420
    },
    "id": "3d_QvOpfZlyE",
    "outputId": "9ace36e5-b6c1-4346-a48c-41b3745101b2"
   },
   "outputs": [
    {
     "data": {
      "text/html": [
       "<div>\n",
       "<style scoped>\n",
       "    .dataframe tbody tr th:only-of-type {\n",
       "        vertical-align: middle;\n",
       "    }\n",
       "\n",
       "    .dataframe tbody tr th {\n",
       "        vertical-align: top;\n",
       "    }\n",
       "\n",
       "    .dataframe thead th {\n",
       "        text-align: right;\n",
       "    }\n",
       "</style>\n",
       "<table border=\"1\" class=\"dataframe\">\n",
       "  <thead>\n",
       "    <tr style=\"text-align: right;\">\n",
       "      <th></th>\n",
       "      <th>name</th>\n",
       "      <th>sex</th>\n",
       "      <th>births</th>\n",
       "      <th>year</th>\n",
       "    </tr>\n",
       "  </thead>\n",
       "  <tbody>\n",
       "    <tr>\n",
       "      <th>0</th>\n",
       "      <td>Mary</td>\n",
       "      <td>F</td>\n",
       "      <td>7065</td>\n",
       "      <td>1880</td>\n",
       "    </tr>\n",
       "    <tr>\n",
       "      <th>1273</th>\n",
       "      <td>Mary</td>\n",
       "      <td>M</td>\n",
       "      <td>27</td>\n",
       "      <td>1880</td>\n",
       "    </tr>\n",
       "    <tr>\n",
       "      <th>2000</th>\n",
       "      <td>Mary</td>\n",
       "      <td>F</td>\n",
       "      <td>6919</td>\n",
       "      <td>1881</td>\n",
       "    </tr>\n",
       "    <tr>\n",
       "      <th>3238</th>\n",
       "      <td>Mary</td>\n",
       "      <td>M</td>\n",
       "      <td>29</td>\n",
       "      <td>1881</td>\n",
       "    </tr>\n",
       "    <tr>\n",
       "      <th>3935</th>\n",
       "      <td>Mary</td>\n",
       "      <td>F</td>\n",
       "      <td>8149</td>\n",
       "      <td>1882</td>\n",
       "    </tr>\n",
       "    <tr>\n",
       "      <th>...</th>\n",
       "      <td>...</td>\n",
       "      <td>...</td>\n",
       "      <td>...</td>\n",
       "      <td>...</td>\n",
       "    </tr>\n",
       "    <tr>\n",
       "      <th>1552547</th>\n",
       "      <td>Mary</td>\n",
       "      <td>F</td>\n",
       "      <td>3665</td>\n",
       "      <td>2007</td>\n",
       "    </tr>\n",
       "    <tr>\n",
       "      <th>1581614</th>\n",
       "      <td>Mary</td>\n",
       "      <td>M</td>\n",
       "      <td>9</td>\n",
       "      <td>2007</td>\n",
       "    </tr>\n",
       "    <tr>\n",
       "      <th>1587434</th>\n",
       "      <td>Mary</td>\n",
       "      <td>F</td>\n",
       "      <td>3478</td>\n",
       "      <td>2008</td>\n",
       "    </tr>\n",
       "    <tr>\n",
       "      <th>1622445</th>\n",
       "      <td>Mary</td>\n",
       "      <td>F</td>\n",
       "      <td>3132</td>\n",
       "      <td>2009</td>\n",
       "    </tr>\n",
       "    <tr>\n",
       "      <th>1657054</th>\n",
       "      <td>Mary</td>\n",
       "      <td>F</td>\n",
       "      <td>2826</td>\n",
       "      <td>2010</td>\n",
       "    </tr>\n",
       "  </tbody>\n",
       "</table>\n",
       "<p>259 rows × 4 columns</p>\n",
       "</div>"
      ],
      "text/plain": [
       "         name sex  births  year\n",
       "0        Mary   F    7065  1880\n",
       "1273     Mary   M      27  1880\n",
       "2000     Mary   F    6919  1881\n",
       "3238     Mary   M      29  1881\n",
       "3935     Mary   F    8149  1882\n",
       "...       ...  ..     ...   ...\n",
       "1552547  Mary   F    3665  2007\n",
       "1581614  Mary   M       9  2007\n",
       "1587434  Mary   F    3478  2008\n",
       "1622445  Mary   F    3132  2009\n",
       "1657054  Mary   F    2826  2010\n",
       "\n",
       "[259 rows x 4 columns]"
      ]
     },
     "execution_count": 28,
     "metadata": {
      "tags": []
     },
     "output_type": "execute_result"
    }
   ],
   "source": [
    "names[names['name']=='Mary']"
   ]
  },
  {
   "cell_type": "code",
   "execution_count": 29,
   "metadata": {
    "colab": {
     "base_uri": "https://localhost:8080/"
    },
    "executionInfo": {
     "elapsed": 657,
     "status": "ok",
     "timestamp": 1604194474640,
     "user": {
      "displayName": "Mark Gawron",
      "photoUrl": "",
      "userId": "08320954030243304145"
     },
     "user_tz": 420
    },
    "id": "YZXM5mhqZlyG",
    "outputId": "976c7359-ccdf-4040-d412-e6eee4b2e85f"
   },
   "outputs": [
    {
     "name": "stdout",
     "output_type": "stream",
     "text": [
      "<class 'pandas.core.frame.DataFrame'>\n",
      "RangeIndex: 1690784 entries, 0 to 1690783\n",
      "Data columns (total 4 columns):\n",
      " #   Column  Non-Null Count    Dtype \n",
      "---  ------  --------------    ----- \n",
      " 0   name    1690784 non-null  object\n",
      " 1   sex     1690784 non-null  object\n",
      " 2   births  1690784 non-null  int64 \n",
      " 3   year    1690784 non-null  int64 \n",
      "dtypes: int64(2), object(2)\n",
      "memory usage: 51.6+ MB\n"
     ]
    }
   ],
   "source": [
    "names.info()"
   ]
  },
  {
   "cell_type": "markdown",
   "metadata": {
    "id": "PD89og4nZlyI"
   },
   "source": [
    "Think about why it's hard to build the list `pieces` with a list comprehension instead of  the way it's done in the above cell.\n",
    "Notice the following doesn't work.  Python requires an expression\n",
    "as the first component of a list comprehension.  One reason for this is that list comprehensions are supposed to improve readability.  Complex sequences of commands don't do that, and the `for`-loop above is much more understandable.\n",
    "\n",
    "```\n",
    "pieces = [f=pd.read_csv('names/yob{0:d}.txt'.format(year),names=columns);\n",
    "          f['year']=year; f\n",
    "          for year in years]\n",
    "```"
   ]
  },
  {
   "cell_type": "code",
   "execution_count": null,
   "metadata": {
    "id": "MhZGzoUuZlyI"
   },
   "outputs": [],
   "source": [
    "names.head()"
   ]
  },
  {
   "cell_type": "code",
   "execution_count": null,
   "metadata": {
    "id": "9T0kfHHVZlyK"
   },
   "outputs": [],
   "source": [
    "names.tail()"
   ]
  },
  {
   "cell_type": "code",
   "execution_count": null,
   "metadata": {
    "id": "clUQqWBQZlyM"
   },
   "outputs": [],
   "source": [
    "total_births0 = names.pivot_table('births','name', \n",
    "                                 aggfunc=sum)"
   ]
  },
  {
   "cell_type": "code",
   "execution_count": null,
   "metadata": {
    "id": "-4E1idi8ZlyO",
    "outputId": "bb8323c0-240c-42de-ee30-4094fdca0648"
   },
   "outputs": [
    {
     "data": {
      "text/plain": [
       "name\n",
       "Aaban          20\n",
       "Aabid           5\n",
       "Aabriella       5\n",
       "Aadam         133\n",
       "Aadan          69\n",
       "Aadarsh       109\n",
       "Aaden        2977\n",
       "Aadesh         10\n",
       "Aadhav         29\n",
       "Aadhavan        5\n",
       "Name: births, dtype: int64"
      ]
     },
     "execution_count": 5,
     "metadata": {
      "tags": []
     },
     "output_type": "execute_result"
    }
   ],
   "source": [
    "total_births0[:10]"
   ]
  },
  {
   "cell_type": "code",
   "execution_count": null,
   "metadata": {
    "id": "nQ3JnptzZlyQ",
    "outputId": "41e738ed-002b-4f57-d004-abd21e60a9ba"
   },
   "outputs": [
    {
     "data": {
      "text/plain": [
       "4119074"
      ]
     },
     "execution_count": 18,
     "metadata": {
      "tags": []
     },
     "output_type": "execute_result"
    }
   ],
   "source": [
    "total_births0['Mary']"
   ]
  },
  {
   "cell_type": "markdown",
   "metadata": {
    "id": "_yaKuxMTZlyS"
   },
   "source": [
    "The value of `total_births0` is a `Series`, in effect a `pandas` column, because we want a single value for each babyname, the total number of births.  We can also use `pivit_table` to creatre a `DataFrame`.  This is for cases when we want each row to be associated with multiple kinds of aggregated information."
   ]
  },
  {
   "cell_type": "code",
   "execution_count": 83,
   "metadata": {
    "executionInfo": {
     "elapsed": 841,
     "status": "ok",
     "timestamp": 1604196582594,
     "user": {
      "displayName": "Mark Gawron",
      "photoUrl": "",
      "userId": "08320954030243304145"
     },
     "user_tz": 420
    },
    "id": "ITri6-zkZlyS"
   },
   "outputs": [],
   "source": [
    "total_births = names.pivot_table('births','year', \n",
    "                                 columns='sex', aggfunc=sum)"
   ]
  },
  {
   "cell_type": "markdown",
   "metadata": {
    "id": "pT3hFSruZlyU"
   },
   "source": [
    "This uses the `names` `DataFrame` to create a new `DataFrame` which aggregates the data by year and sex, summing the values of the `births` column in `names` for each year and sex.  The first argument gives the column whose values we will be summing over, in this `births`.  The second gives the column in `names` that will provide values for our rows.  This time we use `years`, so there will be one row for each year.  Then we add the specification `columns = 'sex'` because for each year we want one birth-sums for each possible value in the `sex` column, one for female names, one for male names.  So our pivot table has as many column as there are possible values in the `sex` column."
   ]
  },
  {
   "cell_type": "code",
   "execution_count": 84,
   "metadata": {
    "colab": {
     "base_uri": "https://localhost:8080/",
     "height": 390
    },
    "executionInfo": {
     "elapsed": 573,
     "status": "ok",
     "timestamp": 1604196585443,
     "user": {
      "displayName": "Mark Gawron",
      "photoUrl": "",
      "userId": "08320954030243304145"
     },
     "user_tz": 420
    },
    "id": "pTslzBwaZlyU",
    "outputId": "532934b6-57dc-4f8d-9e0a-fed5fec6d41c"
   },
   "outputs": [
    {
     "data": {
      "text/html": [
       "<div>\n",
       "<style scoped>\n",
       "    .dataframe tbody tr th:only-of-type {\n",
       "        vertical-align: middle;\n",
       "    }\n",
       "\n",
       "    .dataframe tbody tr th {\n",
       "        vertical-align: top;\n",
       "    }\n",
       "\n",
       "    .dataframe thead th {\n",
       "        text-align: right;\n",
       "    }\n",
       "</style>\n",
       "<table border=\"1\" class=\"dataframe\">\n",
       "  <thead>\n",
       "    <tr style=\"text-align: right;\">\n",
       "      <th>sex</th>\n",
       "      <th>F</th>\n",
       "      <th>M</th>\n",
       "    </tr>\n",
       "    <tr>\n",
       "      <th>year</th>\n",
       "      <th></th>\n",
       "      <th></th>\n",
       "    </tr>\n",
       "  </thead>\n",
       "  <tbody>\n",
       "    <tr>\n",
       "      <th>1880</th>\n",
       "      <td>90993</td>\n",
       "      <td>110493</td>\n",
       "    </tr>\n",
       "    <tr>\n",
       "      <th>1881</th>\n",
       "      <td>91955</td>\n",
       "      <td>100748</td>\n",
       "    </tr>\n",
       "    <tr>\n",
       "      <th>1882</th>\n",
       "      <td>107851</td>\n",
       "      <td>113687</td>\n",
       "    </tr>\n",
       "    <tr>\n",
       "      <th>1883</th>\n",
       "      <td>112322</td>\n",
       "      <td>104632</td>\n",
       "    </tr>\n",
       "    <tr>\n",
       "      <th>1884</th>\n",
       "      <td>129021</td>\n",
       "      <td>114445</td>\n",
       "    </tr>\n",
       "    <tr>\n",
       "      <th>1885</th>\n",
       "      <td>133056</td>\n",
       "      <td>107802</td>\n",
       "    </tr>\n",
       "    <tr>\n",
       "      <th>1886</th>\n",
       "      <td>144538</td>\n",
       "      <td>110785</td>\n",
       "    </tr>\n",
       "    <tr>\n",
       "      <th>1887</th>\n",
       "      <td>145983</td>\n",
       "      <td>101412</td>\n",
       "    </tr>\n",
       "    <tr>\n",
       "      <th>1888</th>\n",
       "      <td>178631</td>\n",
       "      <td>120857</td>\n",
       "    </tr>\n",
       "    <tr>\n",
       "      <th>1889</th>\n",
       "      <td>178369</td>\n",
       "      <td>110590</td>\n",
       "    </tr>\n",
       "  </tbody>\n",
       "</table>\n",
       "</div>"
      ],
      "text/plain": [
       "sex        F       M\n",
       "year                \n",
       "1880   90993  110493\n",
       "1881   91955  100748\n",
       "1882  107851  113687\n",
       "1883  112322  104632\n",
       "1884  129021  114445\n",
       "1885  133056  107802\n",
       "1886  144538  110785\n",
       "1887  145983  101412\n",
       "1888  178631  120857\n",
       "1889  178369  110590"
      ]
     },
     "execution_count": 84,
     "metadata": {
      "tags": []
     },
     "output_type": "execute_result"
    }
   ],
   "source": [
    "total_births[:10]"
   ]
  },
  {
   "cell_type": "code",
   "execution_count": null,
   "metadata": {
    "id": "vhOQPqIHZlyW",
    "scrolled": true
   },
   "outputs": [],
   "source": [
    "total_births.tail()"
   ]
  },
  {
   "cell_type": "code",
   "execution_count": null,
   "metadata": {
    "id": "O_jbg6qnZlyY",
    "outputId": "81386cf8-3ce4-4a29-b379-f49dee3ebb9d"
   },
   "outputs": [
    {
     "data": {
      "text/plain": [
       "pandas.core.frame.DataFrame"
      ]
     },
     "execution_count": 10,
     "metadata": {
      "tags": []
     },
     "output_type": "execute_result"
    }
   ],
   "source": [
    "type(total_births)"
   ]
  },
  {
   "cell_type": "markdown",
   "metadata": {
    "id": "gEWGQ5oDZlya"
   },
   "source": [
    "## Bar plots"
   ]
  },
  {
   "cell_type": "markdown",
   "metadata": {
    "id": "eML5be-nZlya"
   },
   "source": [
    "Note that all the cells in this section contain the `plt.show` command. \n",
    "For this to work I **didn't** start ipython notebook with the `--pylab` option,\n",
    "and I didn't use `%matplotlib inline`.  In  this mode, `plot` just computes a layout.\n",
    "If you have been using `%matplotlib inline` or the `--pylab` option, and want to continue,\n",
    "just comment out `plt.show()` below."
   ]
  },
  {
   "cell_type": "code",
   "execution_count": 64,
   "metadata": {
    "colab": {
     "base_uri": "https://localhost:8080/",
     "height": 279
    },
    "executionInfo": {
     "elapsed": 627,
     "status": "ok",
     "timestamp": 1604195828569,
     "user": {
      "displayName": "Mark Gawron",
      "photoUrl": "",
      "userId": "08320954030243304145"
     },
     "user_tz": 420
    },
    "id": "QfKUwu6PZlyb",
    "outputId": "0c6a6267-d0e8-40c7-9f59-104f96508598"
   },
   "outputs": [
    {
     "data": {
      "text/plain": [
       "<matplotlib.axes._subplots.AxesSubplot at 0x7f8665a88a90>"
      ]
     },
     "execution_count": 64,
     "metadata": {
      "tags": []
     },
     "output_type": "execute_result"
    },
    {
     "data": {
      "image/png": "[encoded data removed]",
      "text/plain": [
       "<Figure size 432x288 with 1 Axes>"
      ]
     },
     "metadata": {
      "needs_background": "light",
      "tags": []
     },
     "output_type": "display_data"
    }
   ],
   "source": [
    "import pandas as pd\n",
    "names2000 = pd.read_csv('names/yob2000.txt',names=['name','sex','births'])\n",
    "names2000[:10].plot(kind='bar')"
   ]
  },
  {
   "cell_type": "markdown",
   "metadata": {
    "id": "QmwocRNfZlyc"
   },
   "source": [
    "This is okay, but the bars are labeled with row numbers, since the row number is\n",
    "the default way of indexing rows. The easiest way to fix this is to do it when we read in the data.\n",
    "\n",
    "Note that loaded this way, 'name' is a column like the others, which can be indexed by label."
   ]
  },
  {
   "cell_type": "code",
   "execution_count": 65,
   "metadata": {
    "colab": {
     "base_uri": "https://localhost:8080/",
     "height": 111
    },
    "executionInfo": {
     "elapsed": 779,
     "status": "ok",
     "timestamp": 1604195831637,
     "user": {
      "displayName": "Mark Gawron",
      "photoUrl": "",
      "userId": "08320954030243304145"
     },
     "user_tz": 420
    },
    "id": "3Zmtg197hY08",
    "outputId": "d218188a-9e58-468d-9b1a-c2506081fd77"
   },
   "outputs": [
    {
     "data": {
      "text/html": [
       "<div>\n",
       "<style scoped>\n",
       "    .dataframe tbody tr th:only-of-type {\n",
       "        vertical-align: middle;\n",
       "    }\n",
       "\n",
       "    .dataframe tbody tr th {\n",
       "        vertical-align: top;\n",
       "    }\n",
       "\n",
       "    .dataframe thead th {\n",
       "        text-align: right;\n",
       "    }\n",
       "</style>\n",
       "<table border=\"1\" class=\"dataframe\">\n",
       "  <thead>\n",
       "    <tr style=\"text-align: right;\">\n",
       "      <th></th>\n",
       "      <th>name</th>\n",
       "      <th>sex</th>\n",
       "      <th>births</th>\n",
       "    </tr>\n",
       "  </thead>\n",
       "  <tbody>\n",
       "    <tr>\n",
       "      <th>46</th>\n",
       "      <td>Mary</td>\n",
       "      <td>F</td>\n",
       "      <td>6174</td>\n",
       "    </tr>\n",
       "    <tr>\n",
       "      <th>24291</th>\n",
       "      <td>Mary</td>\n",
       "      <td>M</td>\n",
       "      <td>10</td>\n",
       "    </tr>\n",
       "  </tbody>\n",
       "</table>\n",
       "</div>"
      ],
      "text/plain": [
       "       name sex  births\n",
       "46     Mary   F    6174\n",
       "24291  Mary   M      10"
      ]
     },
     "execution_count": 65,
     "metadata": {
      "tags": []
     },
     "output_type": "execute_result"
    }
   ],
   "source": [
    "names2000[names2000['name']=='Mary']"
   ]
  },
  {
   "cell_type": "code",
   "execution_count": 67,
   "metadata": {
    "colab": {
     "base_uri": "https://localhost:8080/",
     "height": 320
    },
    "executionInfo": {
     "elapsed": 833,
     "status": "ok",
     "timestamp": 1604195923461,
     "user": {
      "displayName": "Mark Gawron",
      "photoUrl": "",
      "userId": "08320954030243304145"
     },
     "user_tz": 420
    },
    "id": "i2QJv_-RZlyd",
    "outputId": "3d82ad9c-d1e0-43f6-d196-4050f999642d"
   },
   "outputs": [
    {
     "data": {
      "image/png": "[encoded data removed]",
      "text/plain": [
       "<Figure size 432x288 with 1 Axes>"
      ]
     },
     "metadata": {
      "needs_background": "light",
      "tags": []
     },
     "output_type": "display_data"
    }
   ],
   "source": [
    "import pandas as pd\n",
    "import matplotlib.pylab as plt\n",
    "names2000 = pd.read_csv('names/yob2000.txt',names=['name','sex','births'],index_col='name')\n",
    "ax = names2000[:10].plot(kind='bar')\n",
    "#plt.show()"
   ]
  },
  {
   "cell_type": "markdown",
   "metadata": {
    "id": "GVP-Wgolh2XM"
   },
   "source": [
    "Note that loaded this way, `name` is being used as an index and cannot be used like a normal column label."
   ]
  },
  {
   "cell_type": "code",
   "execution_count": 68,
   "metadata": {
    "colab": {
     "base_uri": "https://localhost:8080/",
     "height": 562
    },
    "executionInfo": {
     "elapsed": 502,
     "status": "error",
     "timestamp": 1604195926783,
     "user": {
      "displayName": "Mark Gawron",
      "photoUrl": "",
      "userId": "08320954030243304145"
     },
     "user_tz": 420
    },
    "id": "kwlLxxlbcmWU",
    "outputId": "5ad551fa-3e41-4e97-c8a7-5628bdda38d7"
   },
   "outputs": [
    {
     "ename": "KeyError",
     "evalue": "ignored",
     "output_type": "error",
     "traceback": [
      "\u001b[0;31m---------------------------------------------------------------------------\u001b[0m",
      "\u001b[0;31mKeyError\u001b[0m                                  Traceback (most recent call last)",
      "\u001b[0;32m/usr/local/lib/python3.6/dist-packages/pandas/core/indexes/base.py\u001b[0m in \u001b[0;36mget_loc\u001b[0;34m(self, key, method, tolerance)\u001b[0m\n\u001b[1;32m   2894\u001b[0m             \u001b[0;32mtry\u001b[0m\u001b[0;34m:\u001b[0m\u001b[0;34m\u001b[0m\u001b[0;34m\u001b[0m\u001b[0m\n\u001b[0;32m-> 2895\u001b[0;31m                 \u001b[0;32mreturn\u001b[0m \u001b[0mself\u001b[0m\u001b[0;34m.\u001b[0m\u001b[0m_engine\u001b[0m\u001b[0;34m.\u001b[0m\u001b[0mget_loc\u001b[0m\u001b[0;34m(\u001b[0m\u001b[0mcasted_key\u001b[0m\u001b[0;34m)\u001b[0m\u001b[0;34m\u001b[0m\u001b[0;34m\u001b[0m\u001b[0m\n\u001b[0m\u001b[1;32m   2896\u001b[0m             \u001b[0;32mexcept\u001b[0m \u001b[0mKeyError\u001b[0m \u001b[0;32mas\u001b[0m \u001b[0merr\u001b[0m\u001b[0;34m:\u001b[0m\u001b[0;34m\u001b[0m\u001b[0;34m\u001b[0m\u001b[0m\n",
      "\u001b[0;32mpandas/_libs/index.pyx\u001b[0m in \u001b[0;36mpandas._libs.index.IndexEngine.get_loc\u001b[0;34m()\u001b[0m\n",
      "\u001b[0;32mpandas/_libs/index.pyx\u001b[0m in \u001b[0;36mpandas._libs.index.IndexEngine.get_loc\u001b[0;34m()\u001b[0m\n",
      "\u001b[0;32mpandas/_libs/hashtable_class_helper.pxi\u001b[0m in \u001b[0;36mpandas._libs.hashtable.PyObjectHashTable.get_item\u001b[0;34m()\u001b[0m\n",
      "\u001b[0;32mpandas/_libs/hashtable_class_helper.pxi\u001b[0m in \u001b[0;36mpandas._libs.hashtable.PyObjectHashTable.get_item\u001b[0;34m()\u001b[0m\n",
      "\u001b[0;31mKeyError\u001b[0m: 'name'",
      "\nThe above exception was the direct cause of the following exception:\n",
      "\u001b[0;31mKeyError\u001b[0m                                  Traceback (most recent call last)",
      "\u001b[0;32m<ipython-input-68-0dea52850187>\u001b[0m in \u001b[0;36m<module>\u001b[0;34m()\u001b[0m\n\u001b[0;32m----> 1\u001b[0;31m \u001b[0mnames2000\u001b[0m\u001b[0;34m[\u001b[0m\u001b[0mnames2000\u001b[0m\u001b[0;34m[\u001b[0m\u001b[0;34m'name'\u001b[0m\u001b[0;34m]\u001b[0m\u001b[0;34m==\u001b[0m\u001b[0;34m'Mary'\u001b[0m\u001b[0;34m]\u001b[0m\u001b[0;34m\u001b[0m\u001b[0;34m\u001b[0m\u001b[0m\n\u001b[0m",
      "\u001b[0;32m/usr/local/lib/python3.6/dist-packages/pandas/core/frame.py\u001b[0m in \u001b[0;36m__getitem__\u001b[0;34m(self, key)\u001b[0m\n\u001b[1;32m   2900\u001b[0m             \u001b[0;32mif\u001b[0m \u001b[0mself\u001b[0m\u001b[0;34m.\u001b[0m\u001b[0mcolumns\u001b[0m\u001b[0;34m.\u001b[0m\u001b[0mnlevels\u001b[0m \u001b[0;34m>\u001b[0m \u001b[0;36m1\u001b[0m\u001b[0;34m:\u001b[0m\u001b[0;34m\u001b[0m\u001b[0;34m\u001b[0m\u001b[0m\n\u001b[1;32m   2901\u001b[0m                 \u001b[0;32mreturn\u001b[0m \u001b[0mself\u001b[0m\u001b[0;34m.\u001b[0m\u001b[0m_getitem_multilevel\u001b[0m\u001b[0;34m(\u001b[0m\u001b[0mkey\u001b[0m\u001b[0;34m)\u001b[0m\u001b[0;34m\u001b[0m\u001b[0;34m\u001b[0m\u001b[0m\n\u001b[0;32m-> 2902\u001b[0;31m             \u001b[0mindexer\u001b[0m \u001b[0;34m=\u001b[0m \u001b[0mself\u001b[0m\u001b[0;34m.\u001b[0m\u001b[0mcolumns\u001b[0m\u001b[0;34m.\u001b[0m\u001b[0mget_loc\u001b[0m\u001b[0;34m(\u001b[0m\u001b[0mkey\u001b[0m\u001b[0;34m)\u001b[0m\u001b[0;34m\u001b[0m\u001b[0;34m\u001b[0m\u001b[0m\n\u001b[0m\u001b[1;32m   2903\u001b[0m             \u001b[0;32mif\u001b[0m \u001b[0mis_integer\u001b[0m\u001b[0;34m(\u001b[0m\u001b[0mindexer\u001b[0m\u001b[0;34m)\u001b[0m\u001b[0;34m:\u001b[0m\u001b[0;34m\u001b[0m\u001b[0;34m\u001b[0m\u001b[0m\n\u001b[1;32m   2904\u001b[0m                 \u001b[0mindexer\u001b[0m \u001b[0;34m=\u001b[0m \u001b[0;34m[\u001b[0m\u001b[0mindexer\u001b[0m\u001b[0;34m]\u001b[0m\u001b[0;34m\u001b[0m\u001b[0;34m\u001b[0m\u001b[0m\n",
      "\u001b[0;32m/usr/local/lib/python3.6/dist-packages/pandas/core/indexes/base.py\u001b[0m in \u001b[0;36mget_loc\u001b[0;34m(self, key, method, tolerance)\u001b[0m\n\u001b[1;32m   2895\u001b[0m                 \u001b[0;32mreturn\u001b[0m \u001b[0mself\u001b[0m\u001b[0;34m.\u001b[0m\u001b[0m_engine\u001b[0m\u001b[0;34m.\u001b[0m\u001b[0mget_loc\u001b[0m\u001b[0;34m(\u001b[0m\u001b[0mcasted_key\u001b[0m\u001b[0;34m)\u001b[0m\u001b[0;34m\u001b[0m\u001b[0;34m\u001b[0m\u001b[0m\n\u001b[1;32m   2896\u001b[0m             \u001b[0;32mexcept\u001b[0m \u001b[0mKeyError\u001b[0m \u001b[0;32mas\u001b[0m \u001b[0merr\u001b[0m\u001b[0;34m:\u001b[0m\u001b[0;34m\u001b[0m\u001b[0;34m\u001b[0m\u001b[0m\n\u001b[0;32m-> 2897\u001b[0;31m                 \u001b[0;32mraise\u001b[0m \u001b[0mKeyError\u001b[0m\u001b[0;34m(\u001b[0m\u001b[0mkey\u001b[0m\u001b[0;34m)\u001b[0m \u001b[0;32mfrom\u001b[0m \u001b[0merr\u001b[0m\u001b[0;34m\u001b[0m\u001b[0;34m\u001b[0m\u001b[0m\n\u001b[0m\u001b[1;32m   2898\u001b[0m \u001b[0;34m\u001b[0m\u001b[0m\n\u001b[1;32m   2899\u001b[0m         \u001b[0;32mif\u001b[0m \u001b[0mtolerance\u001b[0m \u001b[0;32mis\u001b[0m \u001b[0;32mnot\u001b[0m \u001b[0;32mNone\u001b[0m\u001b[0;34m:\u001b[0m\u001b[0;34m\u001b[0m\u001b[0;34m\u001b[0m\u001b[0m\n",
      "\u001b[0;31mKeyError\u001b[0m: 'name'"
     ]
    }
   ],
   "source": [
    "names2000[names2000['name']=='Mary']"
   ]
  },
  {
   "cell_type": "code",
   "execution_count": 81,
   "metadata": {
    "colab": {
     "base_uri": "https://localhost:8080/",
     "height": 142
    },
    "executionInfo": {
     "elapsed": 547,
     "status": "ok",
     "timestamp": 1604196462577,
     "user": {
      "displayName": "Mark Gawron",
      "photoUrl": "",
      "userId": "08320954030243304145"
     },
     "user_tz": 420
    },
    "id": "IMcO-0dmiLTD",
    "outputId": "79363334-5a27-4c69-9f19-6bb50169a09b"
   },
   "outputs": [
    {
     "data": {
      "text/html": [
       "<div>\n",
       "<style scoped>\n",
       "    .dataframe tbody tr th:only-of-type {\n",
       "        vertical-align: middle;\n",
       "    }\n",
       "\n",
       "    .dataframe tbody tr th {\n",
       "        vertical-align: top;\n",
       "    }\n",
       "\n",
       "    .dataframe thead th {\n",
       "        text-align: right;\n",
       "    }\n",
       "</style>\n",
       "<table border=\"1\" class=\"dataframe\">\n",
       "  <thead>\n",
       "    <tr style=\"text-align: right;\">\n",
       "      <th></th>\n",
       "      <th>sex</th>\n",
       "      <th>births</th>\n",
       "    </tr>\n",
       "    <tr>\n",
       "      <th>name</th>\n",
       "      <th></th>\n",
       "      <th></th>\n",
       "    </tr>\n",
       "  </thead>\n",
       "  <tbody>\n",
       "    <tr>\n",
       "      <th>Mary</th>\n",
       "      <td>F</td>\n",
       "      <td>6174</td>\n",
       "    </tr>\n",
       "    <tr>\n",
       "      <th>Mary</th>\n",
       "      <td>M</td>\n",
       "      <td>10</td>\n",
       "    </tr>\n",
       "  </tbody>\n",
       "</table>\n",
       "</div>"
      ],
      "text/plain": [
       "     sex  births\n",
       "name            \n",
       "Mary   F    6174\n",
       "Mary   M      10"
      ]
     },
     "execution_count": 81,
     "metadata": {
      "tags": []
     },
     "output_type": "execute_result"
    }
   ],
   "source": [
    "names2000.loc['Mary']"
   ]
  },
  {
   "cell_type": "markdown",
   "metadata": {
    "id": "XKMfi0PDZlyg"
   },
   "source": [
    "THe plot above was ok,  but the labels were a little smushed.  Let's try rotating them a little.  Customizing plots ultimately requires knowing a bit `matplotlib`, the module that supplies all the plots that `pandas` can do.  The key point in understanding the code below is that the `plot` command returns something called an `axis` (roughly, one coordinate grid on which one or plots can be displayed.  An axis has `tick` labels for both the `x` and `y` direction,\n",
    "and these are objects that have a `set_rotation` method:"
   ]
  },
  {
   "cell_type": "code",
   "execution_count": null,
   "metadata": {
    "id": "d7EBapfAZlyh",
    "outputId": "7fadae55-ec66-45c8-eb03-c4d7db60307f"
   },
   "outputs": [
    {
     "data": {
      "image/png": "[encoded data removed]",
      "text/plain": [
       "<Figure size 432x288 with 1 Axes>"
      ]
     },
     "metadata": {
      "tags": []
     },
     "output_type": "display_data"
    }
   ],
   "source": [
    "import pandas as pd\n",
    "import matplotlib.pylab as plt\n",
    "names2000 = pd.read_csv('names/yob2000.txt',names=['name','sex','births'],index_col='name')\n",
    "# Note that the plot command returns the axis.  This is critical for getting\n",
    "# at all kinds of fine tuning tools, as we're about to see.\n",
    "ax = names2000[:10].plot(kind='bar')\n",
    "# For this to work I DIDNT start ipython notebook with the --pylab option.\n",
    "# This means the figure doesnt display until AFTER we give the plt.show() command.\n",
    "labels = ax.get_xticklabels()\n",
    "for label in labels:\n",
    "    label.set_rotation(30)\n",
    "plt.show()"
   ]
  },
  {
   "cell_type": "markdown",
   "metadata": {
    "id": "Q4kL1TFlZlyi"
   },
   "source": [
    "The easiest way to learn how to customize is to read the Documentation for the `plot` method on the `DataFrame` class, which can be gotten at via any `DataFrame` instance as follows:"
   ]
  },
  {
   "cell_type": "code",
   "execution_count": null,
   "metadata": {
    "id": "0e3_RQEzZlyj",
    "scrolled": true
   },
   "outputs": [],
   "source": [
    "print(names2000.plot.__doc__)"
   ]
  },
  {
   "cell_type": "markdown",
   "metadata": {
    "id": "EvcyiogOZlym"
   },
   "source": [
    "## Other Plotting"
   ]
  },
  {
   "cell_type": "markdown",
   "metadata": {
    "id": "Wq4jBc9EZlym"
   },
   "source": [
    "All data frames have a `plot` method, which will work quite intuitively for pivot table data frames."
   ]
  },
  {
   "cell_type": "markdown",
   "metadata": {
    "id": "PIV60NIxZlyn"
   },
   "source": [
    "In the cell below, the `plt.show` command is commented out.  Try it if you want to see the plot displayed in a separate window. Be warned that that won't work until you comment out `%matplotlib inline` and restart the notebook (which means you'll have to redefine `total_births`)."
   ]
  },
  {
   "cell_type": "code",
   "execution_count": 88,
   "metadata": {
    "colab": {
     "base_uri": "https://localhost:8080/",
     "height": 295
    },
    "executionInfo": {
     "elapsed": 811,
     "status": "ok",
     "timestamp": 1604197837916,
     "user": {
      "displayName": "Mark Gawron",
      "photoUrl": "",
      "userId": "08320954030243304145"
     },
     "user_tz": 420
    },
    "id": "z2mhE12GZlyn",
    "outputId": "d4660b47-e380-4620-945f-6db932a58ebf"
   },
   "outputs": [
    {
     "data": {
      "image/png": "[encoded data removed]",
      "text/plain": [
       "<Figure size 432x288 with 1 Axes>"
      ]
     },
     "metadata": {
      "needs_background": "light",
      "tags": []
     },
     "output_type": "display_data"
    }
   ],
   "source": [
    "%matplotlib inline\n",
    "from matplotlib import pyplot as plt\n",
    "ax = total_births.plot(title='Total births by year') \n",
    "plt.show()"
   ]
  },
  {
   "cell_type": "code",
   "execution_count": null,
   "metadata": {
    "id": "SzyVoO9tZlyp"
   },
   "outputs": [],
   "source": [
    "total_births"
   ]
  },
  {
   "cell_type": "markdown",
   "metadata": {
    "id": "y_RM5UwsZlys"
   },
   "source": [
    "## Alternative plotting script"
   ]
  },
  {
   "cell_type": "markdown",
   "metadata": {
    "id": "THCj1AAFZlys"
   },
   "source": [
    "In the cell below, the `plt.show` command is used.  This displays the plot in a separate window. Be warned that if you've been usinmg `matplotlib inline` that won't work until you comment out `%matplotlib inline` and restart the notebook (which means you'll have to redefine `total_births`)."
   ]
  },
  {
   "cell_type": "markdown",
   "metadata": {
    "id": "Ze506-NmZlyt"
   },
   "source": [
    "The above graph is great and often what we want is just to take a quick look at the relationships in the data, and a data frame plot will do exactly the right thing with no customization.  It's helpful to know that `pandas` is using a Python packagge called `matplotlib` to draw the graph above, and we can do the same ourselves, with a lot more lines of code, but also with a lot more customization."
   ]
  },
  {
   "cell_type": "code",
   "execution_count": null,
   "metadata": {
    "id": "vrtJ7g8PZlyt"
   },
   "outputs": [],
   "source": [
    "import matplotlib.pyplot as plt\n",
    "fig = plt.figure(1,figsize=(8,8))\n",
    "ax1 = fig.add_subplot(111)\n",
    "fig.subplots_adjust(top=0.9,left=0.2)\n",
    "ax1.set_ylabel('births')\n",
    "\n",
    "ax1.set_xlabel('year')\n",
    "(p1,) = ax1.plot(total_births.index,total_births.F,color='pink',label='F')\n",
    "(p2, ) = ax1.plot(total_births.index,total_births.M,color='blue',label='M')\n",
    "ax1.set_title('Total births by sex and year')\n",
    "    \n",
    "ax1.legend((p2,p1),('M','F'),loc='upper left',title='sex')\n",
    "plt.show()"
   ]
  },
  {
   "cell_type": "markdown",
   "metadata": {
    "id": "4hANUGdMZlyv"
   },
   "source": [
    "## Pandas cheat sheet"
   ]
  },
  {
   "cell_type": "markdown",
   "metadata": {
    "id": "Opp3Sje1Zlyv"
   },
   "source": [
    "The following cheat sheet is taken from  http://www.swegler.com/becky/"
   ]
  },
  {
   "cell_type": "markdown",
   "metadata": {
    "id": "7kc6hhLnZlyw"
   },
   "source": [
    "List unique values in a DataFrame column"
   ]
  },
  {
   "cell_type": "code",
   "execution_count": 85,
   "metadata": {
    "executionInfo": {
     "elapsed": 542,
     "status": "ok",
     "timestamp": 1604196875986,
     "user": {
      "displayName": "Mark Gawron",
      "photoUrl": "",
      "userId": "08320954030243304145"
     },
     "user_tz": 420
    },
    "id": "PGkQ3dERZlyw"
   },
   "outputs": [],
   "source": [
    "df = names1881"
   ]
  },
  {
   "cell_type": "code",
   "execution_count": 87,
   "metadata": {
    "colab": {
     "base_uri": "https://localhost:8080/"
    },
    "executionInfo": {
     "elapsed": 785,
     "status": "ok",
     "timestamp": 1604196906355,
     "user": {
      "displayName": "Mark Gawron",
      "photoUrl": "",
      "userId": "08320954030243304145"
     },
     "user_tz": 420
    },
    "id": "MZXXt5hRZlyy",
    "outputId": "22b6509c-19dc-40a3-8a06-afdd887f4f9d"
   },
   "outputs": [
    {
     "data": {
      "text/plain": [
       "array(['name', 'sex', 'births', 'new'], dtype=object)"
      ]
     },
     "execution_count": 87,
     "metadata": {
      "tags": []
     },
     "output_type": "execute_result"
    }
   ],
   "source": [
    "pd.unique(df.columns.ravel())"
   ]
  },
  {
   "cell_type": "markdown",
   "metadata": {
    "id": "ypSdemK6Zly0"
   },
   "source": [
    "Read the `numpy` docs to make sure you understand what `ravel` does, and try the above line with and without the call to `ravel`.  Make sure you understand what type of object`pd.unique` returns."
   ]
  },
  {
   "cell_type": "markdown",
   "metadata": {
    "id": "wMKnvlmpZly0"
   },
   "source": [
    "Convert Series datatype to numeric, getting rid of any non-numeric values"
   ]
  },
  {
   "cell_type": "code",
   "execution_count": null,
   "metadata": {
    "id": "NFH_VWuSZly1"
   },
   "outputs": [],
   "source": [
    "df['col'] = df['col'].astype(str).convert_objects(convert_numeric=True)"
   ]
  },
  {
   "cell_type": "markdown",
   "metadata": {
    "id": "GUX5QIszZly4"
   },
   "source": [
    "Grab DataFrame rows where column has certain values"
   ]
  },
  {
   "cell_type": "code",
   "execution_count": null,
   "metadata": {
    "id": "DdSC0SaWZly4"
   },
   "outputs": [],
   "source": [
    "valuelist = ['value1', 'value2', 'value3']\n",
    "df = df[df.column.isin(value_list)]"
   ]
  },
  {
   "cell_type": "markdown",
   "metadata": {
    "id": "1Sea_D3jZly5"
   },
   "source": [
    "Grab DataFrame rows where column doesn't have certain values"
   ]
  },
  {
   "cell_type": "code",
   "execution_count": null,
   "metadata": {
    "id": "-kVkschJZly6"
   },
   "outputs": [],
   "source": [
    "valuelist = ['value1', 'value2', 'value3']\n",
    "df = df[~df.column.isin(value_list)]"
   ]
  },
  {
   "cell_type": "markdown",
   "metadata": {
    "id": "8hSCRlVxZly7"
   },
   "source": [
    "Delete column from DataFrame"
   ]
  },
  {
   "cell_type": "code",
   "execution_count": null,
   "metadata": {
    "id": "4BBZb9-NZly8"
   },
   "outputs": [],
   "source": [
    "del df['column']"
   ]
  },
  {
   "cell_type": "markdown",
   "metadata": {
    "id": "FShweHzJZly-"
   },
   "source": [
    "Select from DataFrame using criteria from multiple columns"
   ]
  },
  {
   "cell_type": "code",
   "execution_count": null,
   "metadata": {
    "id": "qZLQy1X2Zly_"
   },
   "outputs": [],
   "source": [
    "newdf = df[(df['column_one']>2004) & (df['column_two']==9)]"
   ]
  },
  {
   "cell_type": "markdown",
   "metadata": {
    "id": "5PfFEqA4ZlzC"
   },
   "source": [
    "Rename several DataFrame columns"
   ]
  },
  {
   "cell_type": "code",
   "execution_count": null,
   "metadata": {
    "id": "UCH0RKtVZlzC"
   },
   "outputs": [],
   "source": [
    "df = df.rename(columns = {\n",
    "    'col1 old name':'col1 new name',\n",
    "    'col2 old name':'col2 new name',\n",
    "    'col3 old name':'col3 new name',\n",
    "})"
   ]
  },
  {
   "cell_type": "markdown",
   "metadata": {
    "id": "ZKqqN0jNZlzF"
   },
   "source": [
    "lower-case all DataFrame column names"
   ]
  },
  {
   "cell_type": "code",
   "execution_count": null,
   "metadata": {
    "id": "ursXqL9EZlzF"
   },
   "outputs": [],
   "source": [
    "df.columns = list(map(str.lower, df.columns))"
   ]
  },
  {
   "cell_type": "markdown",
   "metadata": {
    "id": "haY1tcwyZlzG"
   },
   "source": [
    "Even more fancy DataFrame column re-naming."
   ]
  },
  {
   "cell_type": "code",
   "execution_count": null,
   "metadata": {
    "id": "0AIXtFidZlzH"
   },
   "outputs": [],
   "source": [
    "df.rename(columns=lambda x: x.split('.')[-1], inplace=True)"
   ]
  },
  {
   "cell_type": "markdown",
   "metadata": {
    "id": "H_qRHhKpZlzI"
   },
   "source": [
    "Loop through rows in a DataFrame (if you must)"
   ]
  },
  {
   "cell_type": "code",
   "execution_count": null,
   "metadata": {
    "id": "pRuW1F28ZlzJ"
   },
   "outputs": [],
   "source": [
    "for index, row in df.iterrows():\n",
    "    print(index, row['some column'])"
   ]
  },
  {
   "cell_type": "markdown",
   "metadata": {
    "id": "vKoawBNaZlzL"
   },
   "source": [
    "Lower-case everything in a DataFrame column"
   ]
  },
  {
   "cell_type": "code",
   "execution_count": null,
   "metadata": {
    "id": "I4k9oEdPZlzL"
   },
   "outputs": [],
   "source": [
    "df.column_name = df.column_name.str.lower()"
   ]
  },
  {
   "cell_type": "markdown",
   "metadata": {
    "id": "6CQiDm8ZZlzN"
   },
   "source": [
    "Sort dataframe by multiple columns"
   ]
  },
  {
   "cell_type": "code",
   "execution_count": null,
   "metadata": {
    "id": "x15vQ7R4ZlzN"
   },
   "outputs": [],
   "source": [
    "df = df.sort(['col1','col2','col3'],ascending=[1,1,0])"
   ]
  },
  {
   "cell_type": "markdown",
   "metadata": {
    "id": "K1DHJ5w5ZlzP"
   },
   "source": [
    "Get top n for each group of columns in a sorted dataframe (make sure dataframe is sorted first)."
   ]
  },
  {
   "cell_type": "code",
   "execution_count": null,
   "metadata": {
    "id": "iFEpuPVyZlzP"
   },
   "outputs": [],
   "source": [
    "top5 = df.groupby(['groupingcol1', 'groupingcol2']).head(5)"
   ]
  },
  {
   "cell_type": "markdown",
   "metadata": {
    "id": "FstrtLOeZlzQ"
   },
   "source": [
    "Grab DataFrame rows where specific column is null/notnull"
   ]
  },
  {
   "cell_type": "code",
   "execution_count": null,
   "metadata": {
    "id": "n_LDMjq8ZlzQ"
   },
   "outputs": [],
   "source": [
    "newdf = df[df['column'].isnull()]\n",
    "len(newdf)"
   ]
  },
  {
   "cell_type": "markdown",
   "metadata": {
    "id": "eXWMC2KaZlzU"
   },
   "source": [
    "Select from DataFrame using multiple keys of a hierarchical index"
   ]
  },
  {
   "cell_type": "code",
   "execution_count": null,
   "metadata": {
    "id": "pbYPpoghZlzU"
   },
   "outputs": [],
   "source": [
    "df.xs(('index level 1 value','index level 2 value'), level=('level 1','level 2'))"
   ]
  },
  {
   "cell_type": "markdown",
   "metadata": {
    "id": "B7cDYYuYZlzV"
   },
   "source": [
    "Change all NaNs to None (useful before loading to a db)"
   ]
  },
  {
   "cell_type": "code",
   "execution_count": null,
   "metadata": {
    "id": "HYbSmjX0ZlzV"
   },
   "outputs": [],
   "source": [
    "df = df.where((pd.notnull(df)), None)"
   ]
  },
  {
   "cell_type": "markdown",
   "metadata": {
    "id": "TJtVoswKZlzW"
   },
   "source": [
    "Slice values in a DataFrame column (aka Series)"
   ]
  },
  {
   "cell_type": "code",
   "execution_count": null,
   "metadata": {
    "id": "i25kcZaPZlzX"
   },
   "outputs": [],
   "source": [
    "df.column.str[0:2]"
   ]
  },
  {
   "cell_type": "markdown",
   "metadata": {
    "id": "lQ_X6gMDZlzY"
   },
   "source": [
    "Get quick count of rows in a DataFrame"
   ]
  },
  {
   "cell_type": "code",
   "execution_count": null,
   "metadata": {
    "id": "1s68gGLMZlzY"
   },
   "outputs": [],
   "source": [
    "len(df.index)"
   ]
  },
  {
   "cell_type": "markdown",
   "metadata": {
    "id": "i8Q-2iyNZlza"
   },
   "source": [
    "Pivot data (with flexibility about what what becomes a column and what stays a row). Syntax works on Pandas >= .14"
   ]
  },
  {
   "cell_type": "code",
   "execution_count": null,
   "metadata": {
    "id": "YXrXE-m2Zlza"
   },
   "outputs": [],
   "source": [
    "pd.pivot_table(\n",
    "  df,values='cell_value',\n",
    "  index=['col1', 'col2', 'col3'], #these stay as columns\n",
    "  columns=['col4']) #data values in this column become their own column"
   ]
  },
  {
   "cell_type": "markdown",
   "metadata": {
    "id": "M_g6BvuuZlzb"
   },
   "source": [
    "Change data type of DataFrame column"
   ]
  },
  {
   "cell_type": "code",
   "execution_count": null,
   "metadata": {
    "id": "cBxb5iGxZlzb"
   },
   "outputs": [],
   "source": [
    "df.column_name = df.column_name.astype(np.int64)"
   ]
  },
  {
   "cell_type": "markdown",
   "metadata": {
    "id": "4ZMtmswZZlzf"
   },
   "source": [
    "Get rid of non-numeric values throughout a DataFrame:"
   ]
  },
  {
   "cell_type": "code",
   "execution_count": null,
   "metadata": {
    "id": "QB6CypfVZlzf"
   },
   "outputs": [],
   "source": [
    "for col in refunds.columns.values:\n",
    "  refunds[col] = refunds[col].replace('[^0-9]+.-', '', regex=True)"
   ]
  },
  {
   "cell_type": "markdown",
   "metadata": {
    "id": "oFi-fbj_Zlzg"
   },
   "source": [
    "Set DataFrame column values based on other column values"
   ]
  },
  {
   "cell_type": "code",
   "execution_count": null,
   "metadata": {
    "id": "kYeb-YXVZlzg"
   },
   "outputs": [],
   "source": [
    "df['column_to_change'][(df['column1'] == some_value) & (df['column2'] == some_other_value)] = new_value"
   ]
  },
  {
   "cell_type": "markdown",
   "metadata": {
    "id": "Qs845JzBZlzh"
   },
   "source": [
    "Clean up missing values in multiple DataFrame columns"
   ]
  },
  {
   "cell_type": "code",
   "execution_count": null,
   "metadata": {
    "id": "t1OjwGaQZlzi"
   },
   "outputs": [],
   "source": [
    "df = df.fillna({\n",
    "    'col1': 'missing',\n",
    "    'col2': '99.999',\n",
    "    'col3': '999',\n",
    "    'col4': 'missing',\n",
    "    'col5': 'missing',\n",
    "    'col6': '99'\n",
    "})"
   ]
  },
  {
   "cell_type": "markdown",
   "metadata": {
    "id": "541HXwvwZlzj"
   },
   "source": [
    "Concatenate two DataFrame columns into a new, single column (useful when dealing with composite keys, for example)"
   ]
  },
  {
   "cell_type": "code",
   "execution_count": null,
   "metadata": {
    "id": "zroKzPA3Zlzj"
   },
   "outputs": [],
   "source": [
    "df['newcol'] = df['col1'].map(str) + df['col2'].map(str)"
   ]
  },
  {
   "cell_type": "markdown",
   "metadata": {
    "id": "DpI4-TVhZlzl"
   },
   "source": [
    "Doing calculations with DataFrame columns that have missing values. \n",
    "In example below, swap in 0 for df['col1'] cells that contain null"
   ]
  },
  {
   "cell_type": "code",
   "execution_count": null,
   "metadata": {
    "id": "ZpwZ_tIqZlzl"
   },
   "outputs": [],
   "source": [
    "df['new_col'] = np.where(pd.isnull(df['col1']),0,df['col1']) + df['col2']"
   ]
  },
  {
   "cell_type": "markdown",
   "metadata": {
    "id": "Q-CPdPXCZlzm"
   },
   "source": [
    "Split delimited values in a DataFrame column into two new columns"
   ]
  },
  {
   "cell_type": "code",
   "execution_count": null,
   "metadata": {
    "id": "QTdP_wlkZlzm"
   },
   "outputs": [],
   "source": [
    "df['new_col1'], df['new_col2'] = list(zip(*df['original_col'].apply(lambda x: x.split(': ', 1))))"
   ]
  },
  {
   "cell_type": "markdown",
   "metadata": {
    "id": "QpQy0t2WZlzo"
   },
   "source": [
    "Collapse hierarchical column indexes"
   ]
  },
  {
   "cell_type": "code",
   "execution_count": null,
   "metadata": {
    "id": "44vTz7_PZlzo"
   },
   "outputs": [],
   "source": [
    "df.columns = df.columns.get_level_values(0)"
   ]
  },
  {
   "cell_type": "markdown",
   "metadata": {
    "id": "zPD1mJ7jZlzp"
   },
   "source": [
    "Convert Django queryset to DataFrame"
   ]
  },
  {
   "cell_type": "code",
   "execution_count": null,
   "metadata": {
    "id": "98ljpUOLZlzp"
   },
   "outputs": [],
   "source": [
    "qs = DjangoModelName.objects.all()\n",
    "q = list(qs.values())\n",
    "df = pd.DataFrame.from_records(q)"
   ]
  },
  {
   "cell_type": "markdown",
   "metadata": {
    "id": "QpydxJA_Zlzr"
   },
   "source": [
    "Create a DataFrame from a Python dictionary"
   ]
  },
  {
   "cell_type": "code",
   "execution_count": null,
   "metadata": {
    "id": "os6OhYHsZlzs"
   },
   "outputs": [],
   "source": [
    "df = pd.DataFrame(list(a_dictionary.items()), columns = ['column1', 'column2'])"
   ]
  }
 ],
 "metadata": {
  "colab": {
   "collapsed_sections": [],
   "name": "pandas.ipynb",
   "provenance": [
    {
     "file_id": "https://github.com/gawron/python-for-social-science/blob/master/pandas/pandas.ipynb",
     "timestamp": 1604193777551
    }
   ]
  },
  "kernelspec": {
   "display_name": "Python 3 (ipykernel)",
   "language": "python",
   "name": "python3"
  },
  "language_info": {
   "codemirror_mode": {
    "name": "ipython",
    "version": 3
   },
   "file_extension": ".py",
   "mimetype": "text/x-python",
   "name": "python",
   "nbconvert_exporter": "python",
   "pygments_lexer": "ipython3",
   "version": "3.7.0"
  },
  "toc": {
   "base_numbering": 1,
   "nav_menu": {
    "height": "121px",
    "width": "252px"
   },
   "number_sections": true,
   "sideBar": true,
   "skip_h1_title": false,
   "title_cell": "Table of Contents",
   "title_sidebar": "Contents",
   "toc_cell": false,
   "toc_position": {},
   "toc_section_display": "block",
   "toc_window_display": false
  }
 },
 "nbformat": 4,
 "nbformat_minor": 1
}
