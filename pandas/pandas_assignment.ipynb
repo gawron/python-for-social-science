{
 "cells": [
  {
   "cell_type": "markdown",
   "metadata": {
    "id": "G3a3HMjGGUzC"
   },
   "source": [
    "## 1 Preliminaries                          "
   ]
  },
  {
   "cell_type": "markdown",
   "metadata": {
    "id": "Szj47Z4oGUzF"
   },
   "source": [
    "[![Open In Colab](https://colab.research.google.com/assets/colab-badge.svg)](https://colab.research.google.com/github/gawron/python-for-social-science/blob/master/pandas/pandas_assignment.ipynb)"
   ]
  },
  {
   "cell_type": "code",
   "execution_count": null,
   "metadata": {
    "id": "_2bd2V-zMTxI"
   },
   "outputs": [],
   "source": [
    "# The usual preamble\n",
    "import pandas as pd\n",
    "from matplotlib import pyplot as plt\n",
    "# Make the graphs a bit prettier, and bigger\n",
    "#pd.set_option('display.mpl_style', 'default') \n",
    "#pd.set_option('display.line_width', 5000) \n",
    "pd.set_option('display.max_columns', 60) \n",
    "\n",
    "#figsize(15, 5)"
   ]
  },
  {
   "cell_type": "markdown",
   "metadata": {
    "id": "k29YnDDDMTxM"
   },
   "source": [
    "We're going to use a new dataset here, to demonstrate how to deal with larger datasets. This is a subset of the of 311 service requests from [NYC Open Data](https://nycopendata.socrata.com/Social-Services/311-Service-Requests-from-2010-to-Present/erm2-nwe9). "
   ]
  },
  {
   "cell_type": "code",
   "execution_count": null,
   "metadata": {
    "id": "gATaKiEJMTxM"
   },
   "outputs": [],
   "source": [
    "import pandas as pd\n",
    "url = 'https://gawron.sdsu.edu/python_for_ss/course_core/book_draft/_static/names/yob2000.txt'\n",
    "names2000 = pd.read_csv(url,names=['name','sex','births'])"
   ]
  },
  {
   "cell_type": "code",
   "execution_count": null,
   "metadata": {
    "colab": {
     "base_uri": "https://localhost:8080/",
     "height": 419
    },
    "id": "0GTA2yKWTK5a",
    "outputId": "52d6a4e0-3ca9-478d-f647-0f6a5e472d38"
   },
   "outputs": [
    {
     "data": {
      "text/html": [
       "<div>\n",
       "<style scoped>\n",
       "    .dataframe tbody tr th:only-of-type {\n",
       "        vertical-align: middle;\n",
       "    }\n",
       "\n",
       "    .dataframe tbody tr th {\n",
       "        vertical-align: top;\n",
       "    }\n",
       "\n",
       "    .dataframe thead th {\n",
       "        text-align: right;\n",
       "    }\n",
       "</style>\n",
       "<table border=\"1\" class=\"dataframe\">\n",
       "  <thead>\n",
       "    <tr style=\"text-align: right;\">\n",
       "      <th></th>\n",
       "      <th>name</th>\n",
       "      <th>sex</th>\n",
       "      <th>births</th>\n",
       "    </tr>\n",
       "  </thead>\n",
       "  <tbody>\n",
       "    <tr>\n",
       "      <th>0</th>\n",
       "      <td>Emily</td>\n",
       "      <td>F</td>\n",
       "      <td>25949</td>\n",
       "    </tr>\n",
       "    <tr>\n",
       "      <th>1</th>\n",
       "      <td>Hannah</td>\n",
       "      <td>F</td>\n",
       "      <td>23066</td>\n",
       "    </tr>\n",
       "    <tr>\n",
       "      <th>2</th>\n",
       "      <td>Madison</td>\n",
       "      <td>F</td>\n",
       "      <td>19965</td>\n",
       "    </tr>\n",
       "    <tr>\n",
       "      <th>3</th>\n",
       "      <td>Ashley</td>\n",
       "      <td>F</td>\n",
       "      <td>17991</td>\n",
       "    </tr>\n",
       "    <tr>\n",
       "      <th>4</th>\n",
       "      <td>Sarah</td>\n",
       "      <td>F</td>\n",
       "      <td>17677</td>\n",
       "    </tr>\n",
       "    <tr>\n",
       "      <th>...</th>\n",
       "      <td>...</td>\n",
       "      <td>...</td>\n",
       "      <td>...</td>\n",
       "    </tr>\n",
       "    <tr>\n",
       "      <th>29753</th>\n",
       "      <td>Zeph</td>\n",
       "      <td>M</td>\n",
       "      <td>5</td>\n",
       "    </tr>\n",
       "    <tr>\n",
       "      <th>29754</th>\n",
       "      <td>Zeven</td>\n",
       "      <td>M</td>\n",
       "      <td>5</td>\n",
       "    </tr>\n",
       "    <tr>\n",
       "      <th>29755</th>\n",
       "      <td>Ziggy</td>\n",
       "      <td>M</td>\n",
       "      <td>5</td>\n",
       "    </tr>\n",
       "    <tr>\n",
       "      <th>29756</th>\n",
       "      <td>Zo</td>\n",
       "      <td>M</td>\n",
       "      <td>5</td>\n",
       "    </tr>\n",
       "    <tr>\n",
       "      <th>29757</th>\n",
       "      <td>Zyier</td>\n",
       "      <td>M</td>\n",
       "      <td>5</td>\n",
       "    </tr>\n",
       "  </tbody>\n",
       "</table>\n",
       "<p>29758 rows × 3 columns</p>\n",
       "</div>"
      ],
      "text/plain": [
       "          name sex  births\n",
       "0        Emily   F   25949\n",
       "1       Hannah   F   23066\n",
       "2      Madison   F   19965\n",
       "3       Ashley   F   17991\n",
       "4        Sarah   F   17677\n",
       "...        ...  ..     ...\n",
       "29753     Zeph   M       5\n",
       "29754    Zeven   M       5\n",
       "29755    Ziggy   M       5\n",
       "29756       Zo   M       5\n",
       "29757    Zyier   M       5\n",
       "\n",
       "[29758 rows x 3 columns]"
      ]
     },
     "execution_count": 2,
     "metadata": {
      "tags": []
     },
     "output_type": "execute_result"
    }
   ],
   "source": [
    "names2000"
   ]
  },
  {
   "cell_type": "markdown",
   "metadata": {
    "id": "iUoRC1A_GUzJ"
   },
   "source": [
    "## Basic Pandas skills (Baby names data)"
   ]
  },
  {
   "cell_type": "markdown",
   "metadata": {
    "id": "RLxCp8DzMTxP"
   },
   "source": [
    "###  2.1 Selecting columns and rows"
   ]
  },
  {
   "cell_type": "markdown",
   "metadata": {
    "id": "xXeFdKMVMTxP"
   },
   "source": [
    "In next cell, write an expression that returns a `pandas` `Series` with just the names in the `name` column."
   ]
  },
  {
   "cell_type": "code",
   "execution_count": null,
   "metadata": {
    "id": "RNJFk3RrMTxQ"
   },
   "outputs": [],
   "source": []
  },
  {
   "cell_type": "markdown",
   "metadata": {
    "id": "HSob_GNlMTxS"
   },
   "source": [
    "In the next cell, write an expression that returns the first 25 rows of the `names2000` dataframe,"
   ]
  },
  {
   "cell_type": "code",
   "execution_count": null,
   "metadata": {
    "id": "yPpjD6TuMTxT"
   },
   "outputs": [],
   "source": []
  },
  {
   "cell_type": "markdown",
   "metadata": {
    "id": "b878UPEkMTxV"
   },
   "source": [
    "In the next cell write an expression that returns the first 25 row of the `name` column."
   ]
  },
  {
   "cell_type": "code",
   "execution_count": null,
   "metadata": {
    "id": "6gzpt10pMTxV"
   },
   "outputs": [],
   "source": []
  },
  {
   "cell_type": "markdown",
   "metadata": {
    "id": "S-r5KOQFMTxY"
   },
   "source": [
    "###  2.2 Selecting multiple columns"
   ]
  },
  {
   "cell_type": "markdown",
   "metadata": {
    "id": "ZDQuCD5PMTxY"
   },
   "source": [
    "What if we just want to know the gender and the birth counts, but not the name? Pandas makes it really easy to select a subset of the columns: just index with list of columns you want.  Write an expression that that returns a data frame with just the `births` and `sex` columns of the `names2000` dataframe."
   ]
  },
  {
   "cell_type": "code",
   "execution_count": null,
   "metadata": {
    "id": "ZswCtK5iMTxZ"
   },
   "outputs": [],
   "source": []
  },
  {
   "cell_type": "markdown",
   "metadata": {
    "id": "XSyw60z6MTxc"
   },
   "source": [
    "Now write an expression that returns just the first ten rows of the dataframe you returned the cell above. "
   ]
  },
  {
   "cell_type": "code",
   "execution_count": null,
   "metadata": {
    "id": "FlA7RGE3MTxc"
   },
   "outputs": [],
   "source": []
  },
  {
   "cell_type": "markdown",
   "metadata": {
    "id": "XWOG6NMdMTxe"
   },
   "source": [
    "### 2.3 Plotting"
   ]
  },
  {
   "cell_type": "markdown",
   "metadata": {
    "id": "p7vNDryaMTxe"
   },
   "source": [
    "Write some lines of code that do a barplot of the first fifteen rows of the `names2000` dataframe.  Make sure the `x`-axis shows the name associated with each bar (and not just an arbitrary integer)."
   ]
  },
  {
   "cell_type": "code",
   "execution_count": null,
   "metadata": {
    "id": "F14-1r90MTxf"
   },
   "outputs": [],
   "source": []
  },
  {
   "cell_type": "markdown",
   "metadata": {
    "id": "Vu8TYiWbMTxh"
   },
   "source": [
    "## 3 Aggregation (Service requests data)"
   ]
  },
  {
   "cell_type": "markdown",
   "metadata": {
    "id": "5kvb2Kz-MTxh"
   },
   "source": [
    "The following code loads the service requests data used in one of your pandas notebooks, and creates \n",
    "a subtable consisting of the data for just three agencies.  It then adds a **new** column called `Count`,\n",
    "which we're going to use for counting complaints.  Since each row represents exactly one complain,\n",
    "the value in the `Count` column is always 1.\n",
    "\n",
    "You can learn more about this data set in the [pandas pivot and merge notebook.](https://github.com/gawron/python-for-social-science/blob/master/pandas/pandas_pivot_and_merge.ipynb)"
   ]
  },
  {
   "cell_type": "code",
   "execution_count": null,
   "metadata": {
    "colab": {
     "base_uri": "https://localhost:8080/"
    },
    "id": "DvBTYLgMMTxi",
    "outputId": "b0ac51b5-a8aa-46b1-c6af-a7656cd5fd18"
   },
   "outputs": [
    {
     "name": "stderr",
     "output_type": "stream",
     "text": [
      "/usr/local/lib/python3.6/dist-packages/IPython/core/interactiveshell.py:2718: DtypeWarning: Columns (8) have mixed types.Specify dtype option on import or set low_memory=False.\n",
      "  interactivity=interactivity, compiler=compiler, result=result)\n"
     ]
    }
   ],
   "source": [
    "import pandas as pd\n",
    "fn = '311-service-requests.csv'\n",
    "base_url = 'https://github.com/gawron/pandas-cookbook/master/data'\n",
    "path = f'{base_url}/{fn}'\n",
    "raw_path = path.replace('github.com','raw.githubusercontent.com')\n",
    "complaints = pd.read_csv(raw_path,error_bad_lines=False)\n",
    "complaints['Count'] = 1"
   ]
  },
  {
   "cell_type": "markdown",
   "metadata": {
    "id": "5w-dzmjEMTxk"
   },
   "source": [
    "Looking at the `Count` column:"
   ]
  },
  {
   "cell_type": "code",
   "execution_count": null,
   "metadata": {
    "colab": {
     "base_uri": "https://localhost:8080/"
    },
    "id": "FZm4Su2YMTxk",
    "outputId": "6ecd10be-0833-44a4-ec82-09caf7e863bb",
    "scrolled": true
   },
   "outputs": [
    {
     "data": {
      "text/plain": [
       "0    1\n",
       "1    1\n",
       "2    1\n",
       "3    1\n",
       "4    1\n",
       "5    1\n",
       "6    1\n",
       "7    1\n",
       "8    1\n",
       "9    1\n",
       "Name: Count, dtype: int64"
      ]
     },
     "execution_count": 2,
     "metadata": {
      "tags": []
     },
     "output_type": "execute_result"
    }
   ],
   "source": [
    "complaints['Count'][:10]"
   ]
  },
  {
   "cell_type": "markdown",
   "metadata": {
    "id": "IQsrqb7gMTxn"
   },
   "source": [
    "The following code creates a subtable with just the complaints for the following three\n",
    "agencies: `DOT`, `DOP`, and `NYPD`."
   ]
  },
  {
   "cell_type": "code",
   "execution_count": null,
   "metadata": {
    "id": "i7AlorDIMTxo"
   },
   "outputs": [],
   "source": [
    "pt00 = complaints[complaints.Agency.isin(['DOT', \"DOP\", 'NYPD'])]"
   ]
  },
  {
   "cell_type": "markdown",
   "metadata": {
    "id": "6_lfabCqMTxr"
   },
   "source": [
    "Your mission should you decide to accept it is to create pivot table whose rows are the three agencies,\n",
    "and whose columns are the complaint types.  Each cell in the table thus contains the total number of complaints\n",
    "of that complaint type for that agency.  For example, in the NYPD row, the Animal Abuse column should\n",
    "have the number 164, meaning that 164 animal abuse complaints were made to NYPD.\n"
   ]
  },
  {
   "cell_type": "markdown",
   "metadata": {
    "id": "RndsN-41MTxr"
   },
   "source": [
    "## 4.  Baby names"
   ]
  },
  {
   "cell_type": "markdown",
   "metadata": {
    "id": "NC4wJgCTGUzQ"
   },
   "source": [
    "### 4.1: \n",
    "\n",
    "Use the babynames data created in the [general pandas intro notebook.](https://github.com/gawron/python-for-social-science/blob/master/pandas/general_pandas_intro.ipynb)\n",
    "     and matplotlib to plot male and female\n",
    "    births for the years covered in the data. Put this in\n",
    "    a `jupyter notebook` file.  In the same notebook, use the babynames data to get a list of male and female names.\n",
    "    "
   ]
  },
  {
   "cell_type": "markdown",
   "metadata": {
    "id": "4Iq1OmfeGUzQ"
   },
   "source": [
    "### 4.2\n",
    "\n",
    "Aggregate the data for all years from the website\n",
    "    (see the examples in the \n",
    "    Pandas notebook [general_pandas_intro.](https://github.com/gawron/python-for-social-science/blob/master/pandas/general_pandas_intro.ipynb>)\n",
    "    Find the **set** of all male names and the **set**\n",
    "    of all female names. \n",
    "    For each letter find its frequency as a last letter in\n",
    "    male names and in female names, using \n",
    "    Python Counters (`from collections import Counter`).\n",
    "    Use matplotlib to draw a single plot that  shows\n",
    "    contrast between the last-letter frequencies \n",
    "    for male and female names; x-axis is letters;\n",
    "    y-axis is frequencies.\n",
    "\n",
    "    "
   ]
  },
  {
   "cell_type": "markdown",
   "metadata": {
    "id": "OP6_89lqGUzQ"
   },
   "source": [
    "### 4.3\n",
    "\n",
    "Another plot.  The x-axis is names;\n",
    "    the y-axis is frequencies.  Aggregate the data for female names into\n",
    "    decades (10 year increments).  Produce a plot\n",
    "    that contains an 1880s line, a 1940s line, and \n",
    "    a 1990s line.  There is a display issue here.  There\n",
    "    are too many names to just write them out on the\n",
    "    x-axis.  Try to devise an informative way of displaying\n",
    "    the data that tells a story about fashions in names change.   Hint: Pick a value for n and consider the n most popular names in a decade.  But which decade?"
   ]
  },
  {
   "cell_type": "markdown",
   "metadata": {
    "id": "w2bubbSYGUzQ"
   },
   "source": [
    "### 4.4 Extra Credit (You can wait until you learn about machine learning to do this)\n",
    "\n",
    "Train a classifier that distinguishes male names\n",
    "    from female names.  The features should be the last three\n",
    "    letters in the names and the first three letters. If a name\n",
    "    has fewer than six letters, it is okay for a letter to be represented\n",
    "    both as a first letter and as a last letter.\n",
    "    (This strategy guarantees that all names have the same length\n",
    "    representation).  You will have to make a decision about what to do about\n",
    "    ambiguous names (Lee, Sam, Pat), but don't simply exclude them.\n",
    "    Note:  There are different interesting ways to deal with this issue, not\n",
    "    just one answer. You should ask if you are unsure about your\n",
    "    solution.\n",
    "    \n",
    "If a name has fewer than three letters ('Al'), pad it with spaces\n",
    "    and use the spaces as part of your representation ('Al' => 'Al ') and the first\n",
    "    three letters are ['A', 'l', ' '] and the last three letters are\n",
    "    ['A', 'l', ' '].  Separate your names into training and test\n",
    "    names.  Extra credit.  Does it help to make the decade a feature?\n",
    "    \n",
    "Turn  in your  notebook file, showing the code you used to\n",
    "    complete parts "
   ]
  },
  {
   "cell_type": "code",
   "execution_count": null,
   "metadata": {
    "id": "tet9OAcJGUzR"
   },
   "outputs": [],
   "source": []
  }
 ],
 "metadata": {
  "colab": {
   "collapsed_sections": [],
   "name": "pandas_assignment.ipynb",
   "provenance": []
  },
  "kernelspec": {
   "display_name": "Python 3",
   "language": "python",
   "name": "python3"
  },
  "language_info": {
   "codemirror_mode": {
    "name": "ipython",
    "version": 3
   },
   "file_extension": ".py",
   "mimetype": "text/x-python",
   "name": "python",
   "nbconvert_exporter": "python",
   "pygments_lexer": "ipython3",
   "version": "3.7.0"
  },
  "toc": {
   "base_numbering": 1,
   "nav_menu": {},
   "number_sections": true,
   "sideBar": true,
   "skip_h1_title": false,
   "title_cell": "Table of Contents",
   "title_sidebar": "Contents",
   "toc_cell": false,
   "toc_position": {},
   "toc_section_display": true,
   "toc_window_display": false
  }
 },
 "nbformat": 4,
 "nbformat_minor": 1
}
