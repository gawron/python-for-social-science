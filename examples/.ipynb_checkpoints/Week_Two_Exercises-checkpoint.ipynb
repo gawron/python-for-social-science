{
 "cells": [
  {
   "cell_type": "markdown",
   "id": "5a11fdb8",
   "metadata": {},
   "source": [
    "## Part One"
   ]
  },
  {
   "cell_type": "markdown",
   "id": "cfd9d19f",
   "metadata": {},
   "source": [
    "1.  are X and Y the same string?"
   ]
  },
  {
   "cell_type": "code",
   "execution_count": null,
   "id": "0e45c6a4",
   "metadata": {},
   "outputs": [],
   "source": [
    "X = \"Fred\"\n",
    "Y = 'Fred'"
   ]
  },
  {
   "cell_type": "markdown",
   "id": "909e9402",
   "metadata": {},
   "source": [
    "2.  Are X and Y the same string?"
   ]
  },
  {
   "cell_type": "code",
   "execution_count": 2,
   "id": "b9d76e19",
   "metadata": {},
   "outputs": [],
   "source": [
    "quote = \"'You must be the change you wish to see in the world,'\"\n",
    "quote2 = '\"You must be the change you wish to see in the world,\"'\n",
    "author = \"Gandhi\"\n",
    "X = f\"{quote} said {author}\"\n",
    "Y = f\"{quote2} said {author}\""
   ]
  },
  {
   "cell_type": "markdown",
   "id": "7952da47",
   "metadata": {},
   "source": [
    "3. Are X and Y the same string?"
   ]
  },
  {
   "cell_type": "code",
   "execution_count": 7,
   "id": "25cee901",
   "metadata": {},
   "outputs": [],
   "source": [
    "quote = 'You must be the change you wish to see in the world'\n",
    "author = \"Gandhi\"\n",
    "X = f'\"{quote},\" said {author}'\n",
    "Y = f\"\\\"{quote},\\\" said {author}\""
   ]
  },
  {
   "cell_type": "markdown",
   "id": "cbc7b74d",
   "metadata": {},
   "source": [
    "## Part Two"
   ]
  },
  {
   "cell_type": "markdown",
   "id": "2480afd3",
   "metadata": {},
   "source": [
    "These activities are intended to be done after a bit more of a lecture of Python types covering the material in 3.4.1 (Lists) 3.4.2 (strings), 3.4.3 (tuples)."
   ]
  },
  {
   "cell_type": "markdown",
   "id": "4e925bf6",
   "metadata": {},
   "source": [
    "1.  Write a string index expression that returns the space from X:"
   ]
  },
  {
   "cell_type": "code",
   "execution_count": null,
   "id": "840bb14b",
   "metadata": {},
   "outputs": [],
   "source": [
    "X = 'Ronald Reagan'"
   ]
  },
  {
   "cell_type": "markdown",
   "id": "af20f402",
   "metadata": {},
   "source": [
    "2.  Write a string index expression that returns the 'x' from X.  Use negative\n",
    "    indices."
   ]
  },
  {
   "cell_type": "code",
   "execution_count": null,
   "id": "2a5fdd2c",
   "metadata": {},
   "outputs": [],
   "source": [
    "X = 'luxury'"
   ]
  },
  {
   "cell_type": "markdown",
   "id": "9887c3c5",
   "metadata": {},
   "source": [
    "3.  Write a splice that returns the substring 'cad' from X:"
   ]
  },
  {
   "cell_type": "code",
   "execution_count": null,
   "id": "ec2544ec",
   "metadata": {},
   "outputs": [],
   "source": [
    "X = 'abracadabra'"
   ]
  },
  {
   "cell_type": "markdown",
   "id": "daddaed0",
   "metadata": {},
   "source": [
    "4. What is the value of the second expression?"
   ]
  },
  {
   "cell_type": "code",
   "execution_count": null,
   "id": "110d222a",
   "metadata": {},
   "outputs": [],
   "source": [
    "X = 'abracadabra'\n",
    "len(X + X)"
   ]
  },
  {
   "cell_type": "markdown",
   "id": "45699319",
   "metadata": {},
   "source": [
    "5.  What is the value of the second expression"
   ]
  },
  {
   "cell_type": "code",
   "execution_count": 12,
   "id": "5eaf645c",
   "metadata": {},
   "outputs": [],
   "source": [
    "Q = 'The rain in Spain falls mainly on the plain.'\n",
    "' '.join(Q[1:4])"
   ]
  },
  {
   "cell_type": "markdown",
   "id": "5ccdb93a",
   "metadata": {},
   "source": [
    "6.  What is the value of the second expression"
   ]
  },
  {
   "cell_type": "code",
   "execution_count": null,
   "id": "b239dc50",
   "metadata": {},
   "outputs": [],
   "source": [
    "Q = 'The rain in Spain falls mainly on the plain.'\n",
    "' '.join(Q.split()[1:4])"
   ]
  },
  {
   "cell_type": "code",
   "execution_count": 77,
   "id": "f8682f56",
   "metadata": {},
   "outputs": [
    {
     "data": {
      "text/plain": [
       "'luxury'"
      ]
     },
     "execution_count": 77,
     "metadata": {},
     "output_type": "execute_result"
    }
   ],
   "source": [
    "'x'.join(('lu','ury'))"
   ]
  },
  {
   "cell_type": "code",
   "execution_count": 78,
   "id": "1ec0db7e",
   "metadata": {},
   "outputs": [
    {
     "data": {
      "text/plain": [
       "'mississippi'"
      ]
     },
     "execution_count": 78,
     "metadata": {},
     "output_type": "execute_result"
    }
   ],
   "source": [
    "'i'.join(('m','ss','ss','pp',''))"
   ]
  },
  {
   "cell_type": "code",
   "execution_count": 82,
   "id": "49e3a391",
   "metadata": {},
   "outputs": [
    {
     "name": "stdout",
     "output_type": "stream",
     "text": [
      "['m', 'ss', 'ss', 'pp', '']\n",
      "mississippi\n"
     ]
    }
   ],
   "source": [
    "disemvoweled = 'mississippi'.split('i')\n",
    "print(disemvoweled)\n",
    "print('i'.join(disemvoweled))"
   ]
  },
  {
   "cell_type": "markdown",
   "id": "73e3eff8",
   "metadata": {},
   "source": [
    "## Part Three"
   ]
  },
  {
   "cell_type": "markdown",
   "id": "f879f465",
   "metadata": {},
   "source": [
    "These activities are intended to be done after still more lecturing on Python types, covering the materialin 3.4.4 (Dictionaroies) 3.4.5 (Sets)"
   ]
  },
  {
   "cell_type": "markdown",
   "id": "70dbd02f",
   "metadata": {},
   "source": [
    "What Python data type would you use to represent each of the following information?  (Note: These questions are not about persistent storage, saving something on a disk so that it'll still be here after you turn the computer off and on).  These questions are about how you should represent the data when it's in the computer's memory and you're preparing to do some processing on it. So the answer is never \"in a file\".  In fact in this case, the answer is always going to be some kind of Python container type.  In fact, it's possible for a container to contain a conatiner (a list of strings, a dictionary whose values are lists), so after a choosing a container you could make your answer more specific by saying what data type the container contains.\n",
    "\n",
    "    a.  a phone number\n",
    "\n",
    "    b.  a list of the emails of the students in a class.\n",
    "\n",
    "    c.  an anonymized list of phone numbers to be used for cold calls\n",
    "        on election night.  Each list contains the phone number of a household\n",
    "        likely to vote for our candidate. The list is prioritized so that the\n",
    "        households most likely to vote for our candidate come first.  Does\n",
    "        it change your answer if some of the numbers have extensions?\n",
    "     \n",
    "    d.  a list of phone numbers of potential contributors to our campaign.\n",
    "        A key difference from the last question is that some of these\n",
    "        contributors are abroad (yes, that;s right in places like Russia!), \n",
    "        and the international numbers will have\n",
    "        different lengths from the others. The list is prioritized so that the\n",
    "        contributors most likely to contribute the most money come first.\n",
    "     \n",
    "    d.  The entire contents of the Constance Garnett tranlation (into English) \n",
    "        of Leo Tolstoy's novel *War and Peace*.\n",
    "\n",
    "    e.  Same as (d) but this time I want to be able to do word counts and answer questions like \"How many times does the name Natasha appear in *War and Peace*?\n"
   ]
  },
  {
   "cell_type": "code",
   "execution_count": 83,
   "id": "05969c05",
   "metadata": {},
   "outputs": [],
   "source": [
    "dd1={'Amerigo Vespucci' : '619-765-9765',\n",
    "     'Mary Ellen Fitzgerald':'619-678-9765'}"
   ]
  },
  {
   "cell_type": "code",
   "execution_count": 84,
   "id": "3ba135e4",
   "metadata": {
    "scrolled": true
   },
   "outputs": [
    {
     "data": {
      "text/plain": [
       "{'Amerigo Vespucci': '619-765-9765', 'Mary Ellen Fitzgerald': '619-678-9765'}"
      ]
     },
     "execution_count": 84,
     "metadata": {},
     "output_type": "execute_result"
    }
   ],
   "source": [
    "dd1"
   ]
  },
  {
   "cell_type": "code",
   "execution_count": 85,
   "id": "02444ec8",
   "metadata": {},
   "outputs": [
    {
     "data": {
      "text/plain": [
       "['Amerigo Vespucci', 'Mary Ellen Fitzgerald']"
      ]
     },
     "execution_count": 85,
     "metadata": {},
     "output_type": "execute_result"
    }
   ],
   "source": [
    "people1 = list(dd1.keys())\n",
    "people1"
   ]
  },
  {
   "cell_type": "markdown",
   "id": "84294541",
   "metadata": {},
   "source": [
    "Get last names???"
   ]
  },
  {
   "cell_type": "code",
   "execution_count": null,
   "id": "a21a89e3",
   "metadata": {},
   "outputs": [],
   "source": []
  },
  {
   "cell_type": "markdown",
   "id": "384e5708",
   "metadata": {},
   "source": [
    "### Alternatively"
   ]
  },
  {
   "cell_type": "code",
   "execution_count": 86,
   "id": "e17c147c",
   "metadata": {},
   "outputs": [],
   "source": [
    "dd2={('Amerigo', 'Vespucci') : '619-765-9765',\n",
    "    ('Mary Ellen', 'Fitzgerald'):'619-678-9765'}"
   ]
  },
  {
   "cell_type": "code",
   "execution_count": 87,
   "id": "00f30ae2",
   "metadata": {},
   "outputs": [
    {
     "data": {
      "text/plain": [
       "[('Amerigo', 'Vespucci'), ('Mary Ellen', 'Fitzgerald')]"
      ]
     },
     "execution_count": 87,
     "metadata": {},
     "output_type": "execute_result"
    }
   ],
   "source": [
    "people2 = list(dd.keys())\n",
    "people2"
   ]
  },
  {
   "cell_type": "markdown",
   "id": "3c1c8f53",
   "metadata": {},
   "source": [
    "Get last names?"
   ]
  },
  {
   "cell_type": "markdown",
   "id": "1d794029",
   "metadata": {},
   "source": [
    "Store  distances between pairs of cities.   Use a dictionary."
   ]
  },
  {
   "cell_type": "code",
   "execution_count": null,
   "id": "4934c0e2",
   "metadata": {},
   "outputs": [],
   "source": []
  },
  {
   "cell_type": "code",
   "execution_count": null,
   "id": "5f4e42e0",
   "metadata": {},
   "outputs": [],
   "source": []
  },
  {
   "cell_type": "code",
   "execution_count": null,
   "id": "3d29ad49",
   "metadata": {},
   "outputs": [],
   "source": []
  },
  {
   "cell_type": "code",
   "execution_count": null,
   "id": "034e657b",
   "metadata": {},
   "outputs": [],
   "source": []
  },
  {
   "cell_type": "code",
   "execution_count": null,
   "id": "34bed1d6",
   "metadata": {},
   "outputs": [],
   "source": []
  },
  {
   "cell_type": "code",
   "execution_count": null,
   "id": "fae141a0",
   "metadata": {},
   "outputs": [],
   "source": []
  },
  {
   "cell_type": "code",
   "execution_count": null,
   "id": "dcc51341",
   "metadata": {},
   "outputs": [],
   "source": []
  },
  {
   "cell_type": "code",
   "execution_count": 55,
   "id": "898c9e7d",
   "metadata": {},
   "outputs": [],
   "source": [
    "city_distances1 = {'los angeles': {'chicago':2_000,'new york':3_000},\n",
    "                  'chicago': {'los angeles':2_000,'new york':1_000}\n",
    "                 \n",
    "                 }\n",
    "\n",
    "# Better?\n",
    "city_distances2 = {'los angeles': {'chicago':2_000,'new york':3_000},\n",
    "                  'chicago': {'new york':1_000}\n",
    "                 \n",
    "                 }\n",
    "\n",
    "# Alternative to 2?\n",
    "city_distances3 = {('chicago','los angeles'): 2_000,\n",
    "                   ('los angelos','new york'): 3_000,\n",
    "                   ('chicago','new york'):1_000\n",
    "                  \n",
    "                  }"
   ]
  },
  {
   "cell_type": "code",
   "execution_count": 52,
   "id": "941cc0f8",
   "metadata": {},
   "outputs": [
    {
     "data": {
      "text/plain": [
       "{'los angeles': {'chicago': 2000, 'new york': 3000},\n",
       " 'chicago': {'los_angeles': 2000, 'new york': 1000}}"
      ]
     },
     "execution_count": 52,
     "metadata": {},
     "output_type": "execute_result"
    }
   ],
   "source": [
    "city_distances1"
   ]
  },
  {
   "cell_type": "code",
   "execution_count": 53,
   "id": "c68d7bda",
   "metadata": {},
   "outputs": [
    {
     "data": {
      "text/plain": [
       "2000"
      ]
     },
     "execution_count": 53,
     "metadata": {},
     "output_type": "execute_result"
    }
   ],
   "source": [
    "city_distances1['los angeles']['chicago']"
   ]
  },
  {
   "cell_type": "code",
   "execution_count": 56,
   "id": "3d75d4cc",
   "metadata": {},
   "outputs": [
    {
     "data": {
      "text/plain": [
       "2000"
      ]
     },
     "execution_count": 56,
     "metadata": {},
     "output_type": "execute_result"
    }
   ],
   "source": [
    "city_distances1['chicago']['los angeles']"
   ]
  },
  {
   "cell_type": "code",
   "execution_count": 57,
   "id": "8efc9964",
   "metadata": {},
   "outputs": [
    {
     "data": {
      "text/plain": [
       "1000"
      ]
     },
     "execution_count": 57,
     "metadata": {},
     "output_type": "execute_result"
    }
   ],
   "source": [
    "city_distances1['chicago']['new york']"
   ]
  },
  {
   "cell_type": "code",
   "execution_count": 70,
   "id": "f77e9fe7",
   "metadata": {},
   "outputs": [],
   "source": [
    "city_distances3 = {({'chicago','los angeles'}): 2_000,\n",
    "                   ({'los angelos','new york'}): 3_000,\n",
    "                   ({'chicago','new york'}):1_000\n",
    "                  \n",
    "                  }"
   ]
  },
  {
   "cell_type": "code",
   "execution_count": 76,
   "id": "acc9c3e1",
   "metadata": {},
   "outputs": [
    {
     "ename": "TypeError",
     "evalue": "unhashable type: 'list'",
     "output_type": "error",
     "traceback": [
      "\u001b[0;31m---------------------------------------------------------------------------\u001b[0m",
      "\u001b[0;31mTypeError\u001b[0m                                 Traceback (most recent call last)",
      "\u001b[0;32m<ipython-input-76-16b705b85965>\u001b[0m in \u001b[0;36m<module>\u001b[0;34m\u001b[0m\n\u001b[0;32m----> 1\u001b[0;31m \u001b[0mcity_distances2\u001b[0m\u001b[0;34m[\u001b[0m\u001b[0;34m[\u001b[0m\u001b[0;34m'chicago'\u001b[0m\u001b[0;34m,\u001b[0m\u001b[0;34m'los angeles'\u001b[0m\u001b[0;34m]\u001b[0m\u001b[0;34m]\u001b[0m\u001b[0;34m\u001b[0m\u001b[0;34m\u001b[0m\u001b[0m\n\u001b[0m",
      "\u001b[0;31mTypeError\u001b[0m: unhashable type: 'list'"
     ]
    }
   ],
   "source": [
    "city_distances2[['chicago','los angeles']]"
   ]
  },
  {
   "cell_type": "code",
   "execution_count": 67,
   "id": "87aae323",
   "metadata": {},
   "outputs": [],
   "source": [
    "S= frozenset({1,2,3})"
   ]
  },
  {
   "cell_type": "code",
   "execution_count": 68,
   "id": "d75628bf",
   "metadata": {},
   "outputs": [
    {
     "data": {
      "text/plain": [
       "frozenset({1, 2, 3})"
      ]
     },
     "execution_count": 68,
     "metadata": {},
     "output_type": "execute_result"
    }
   ],
   "source": [
    "S"
   ]
  },
  {
   "cell_type": "code",
   "execution_count": 69,
   "id": "bc6a62e4",
   "metadata": {},
   "outputs": [
    {
     "ename": "AttributeError",
     "evalue": "'frozenset' object has no attribute 'add'",
     "output_type": "error",
     "traceback": [
      "\u001b[0;31m---------------------------------------------------------------------------\u001b[0m",
      "\u001b[0;31mAttributeError\u001b[0m                            Traceback (most recent call last)",
      "\u001b[0;32m<ipython-input-69-58c584ad0cc4>\u001b[0m in \u001b[0;36m<module>\u001b[0;34m\u001b[0m\n\u001b[0;32m----> 1\u001b[0;31m \u001b[0mS\u001b[0m\u001b[0;34m.\u001b[0m\u001b[0madd\u001b[0m\u001b[0;34m(\u001b[0m\u001b[0;36m4\u001b[0m\u001b[0;34m)\u001b[0m\u001b[0;34m\u001b[0m\u001b[0;34m\u001b[0m\u001b[0m\n\u001b[0m",
      "\u001b[0;31mAttributeError\u001b[0m: 'frozenset' object has no attribute 'add'"
     ]
    }
   ],
   "source": [
    "S.add(4)"
   ]
  },
  {
   "cell_type": "code",
   "execution_count": 66,
   "id": "7bf53b95",
   "metadata": {},
   "outputs": [
    {
     "data": {
      "text/plain": [
       "{1, 2, 3, 4}"
      ]
     },
     "execution_count": 66,
     "metadata": {},
     "output_type": "execute_result"
    }
   ],
   "source": [
    "S"
   ]
  },
  {
   "cell_type": "code",
   "execution_count": null,
   "id": "bebed4b8",
   "metadata": {},
   "outputs": [],
   "source": []
  }
 ],
 "metadata": {
  "kernelspec": {
   "display_name": "Python 3",
   "language": "python",
   "name": "python3"
  },
  "language_info": {
   "codemirror_mode": {
    "name": "ipython",
    "version": 3
   },
   "file_extension": ".py",
   "mimetype": "text/x-python",
   "name": "python",
   "nbconvert_exporter": "python",
   "pygments_lexer": "ipython3",
   "version": "3.7.6"
  }
 },
 "nbformat": 4,
 "nbformat_minor": 5
}
