{
 "cells": [
  {
   "cell_type": "markdown",
   "metadata": {},
   "source": [
    "# Regression and Classification Assignment Solution\n",
    "\n",
    "This assignment and this solution to the assignment uses the data discussed in regression_and_classification notebook.   You may want to review that if you\n",
    "have trouble with the assignment."
   ]
  },
  {
   "cell_type": "markdown",
   "metadata": {},
   "source": [
    "## 1. The data"
   ]
  },
  {
   "cell_type": "markdown",
   "metadata": {},
   "source": [
    "First we do some imports and load the data from the `sklearn` module."
   ]
  },
  {
   "cell_type": "code",
   "execution_count": 17,
   "metadata": {},
   "outputs": [],
   "source": [
    "from sklearn.datasets import load_iris\n",
    "from sklearn.metrics import accuracy_score\n",
    "from sklearn import linear_model\n",
    "import numpy as np\n",
    "\n",
    "\n",
    "data = load_iris()\n",
    "features = data['data']\n",
    "feature_names = data['feature_names']\n",
    "target = data['target']"
   ]
  },
  {
   "cell_type": "code",
   "execution_count": 18,
   "metadata": {},
   "outputs": [
    {
     "data": {
      "text/plain": [
       "(150, 4)"
      ]
     },
     "execution_count": 18,
     "metadata": {},
     "output_type": "execute_result"
    }
   ],
   "source": [
    "features.shape"
   ]
  },
  {
   "cell_type": "code",
   "execution_count": 19,
   "metadata": {},
   "outputs": [
    {
     "data": {
      "text/plain": [
       "{0, 1, 2}"
      ]
     },
     "execution_count": 19,
     "metadata": {},
     "output_type": "execute_result"
    }
   ],
   "source": [
    "set(target)"
   ]
  },
  {
   "cell_type": "code",
   "execution_count": 20,
   "metadata": {},
   "outputs": [
    {
     "data": {
      "text/plain": [
       "['sepal length (cm)',\n",
       " 'sepal width (cm)',\n",
       " 'petal length (cm)',\n",
       " 'petal width (cm)']"
      ]
     },
     "execution_count": 20,
     "metadata": {},
     "output_type": "execute_result"
    }
   ],
   "source": [
    "feature_names"
   ]
  },
  {
   "cell_type": "markdown",
   "metadata": {},
   "source": [
    "## 2.  The questions"
   ]
  },
  {
   "cell_type": "markdown",
   "metadata": {},
   "source": [
    "**Q1**\n",
    "\n",
    "Don't take my word for it that subsets of the 4 Iris features always produce a worse classifier.\n",
    "Try it out.\n",
    "\n",
    "Change the selector array in the next cell and execute the code\n",
    "in the cell to try out your own favorite subsets\n",
    "of features.  No subset of 2 or even 3 features performs as well as using all 4.\n",
    "\n",
    "For example, using this selector \n",
    "```\n",
    "selector = np.array([True,True,False,True])\n",
    "```\n",
    "\n",
    "leaves out just  the third feature.  Here's your challenge: Find the best 2-feature\n",
    "system (it performs almost as well as any 3-feature system), and the best\n",
    "3-feature system.  Hint for the 2-feature problem, if you want to get there more\n",
    "quickly.  Look at our plots of two-feature systems in the \"Plotting Attributes\" section of the regression_and_classification.ipynb notebook (Section 2).  Which one **looks**\n",
    "like it gives the best separation?"
   ]
  },
  {
   "cell_type": "markdown",
   "metadata": {},
   "source": [
    "A systematic way of checking all pairs with just one evaluation run:"
   ]
  },
  {
   "cell_type": "code",
   "execution_count": 50,
   "metadata": {},
   "outputs": [
    {
     "name": "stdout",
     "output_type": "stream",
     "text": [
      "[0, 1] Acc: 0.833\n",
      "[0, 2] Acc: 0.967\n",
      "[0, 3] Acc: 0.960\n",
      "[1, 2] Acc: 0.953\n",
      "[1, 3] Acc: 0.953\n",
      "[2, 3] Acc: 0.960\n",
      "\n",
      "Winner: [0, 2] score: 0.967\n"
     ]
    }
   ],
   "source": [
    "Y = target\n",
    "# Collect all 6 legal index pairs for 4 features\n",
    "selectors = [[i,j] for i in range(4) for j in range(i+1,4)]\n",
    "scores = []\n",
    "for (i,sel) in enumerate(selectors):\n",
    "    logreg = linear_model.LogisticRegression(C=1e5, solver='lbfgs',multi_class='auto')\n",
    "    X = features[:,sel]\n",
    "    predicted = logreg.fit(X, Y).predict(X)\n",
    "    scores.append(accuracy_score(Y,predicted))\n",
    "    print(f\"{sel} Acc: {scores[i]:.3f}\")\n",
    "\n",
    "best_sys = np.array(scores).argmax()\n",
    "print()\n",
    "print(f\"Winner: {selectors[best_sys]} score: {scores[best_sys]:.3f}\")"
   ]
  },
  {
   "cell_type": "markdown",
   "metadata": {},
   "source": [
    "Now let's generalize that to get average accuracies over 10 train test splits:"
   ]
  },
  {
   "cell_type": "code",
   "execution_count": 56,
   "metadata": {},
   "outputs": [
    {
     "name": "stdout",
     "output_type": "stream",
     "text": [
      "\n",
      "Winner: [0, 2] Avg. score: 0.960\n"
     ]
    }
   ],
   "source": [
    "X=features\n",
    "Y = target\n",
    "selectors = [[i,j] for i in range(4) for j in range(i+1,4)]\n",
    "num_runs = 10\n",
    "scores = np.zeros((num_runs,len(selectors)))\n",
    "\n",
    "for j in range(num_runs):\n",
    "    #Uncomment this to better understand this code\n",
    "    #print(\"Run\",j)\n",
    "    # Use j as the random state var to be able to replicate these train/test splits in comparisons\n",
    "    X_train, X_test, Y_train, Y_test = train_test_split(X, Y, test_size=.2,random_state=j)\n",
    "    for (i,sel) in enumerate(selectors):\n",
    "        logreg = linear_model.LogisticRegression(C=1e5, solver='lbfgs',multi_class='auto')\n",
    "        X_train_m,X_test_m = X_train[:,sel], X_test[:,sel],\n",
    "        predicted = logreg.fit(X_train_m, Y_train).predict(X_test_m)\n",
    "        scores[j,i] = accuracy_score(Y_test,predicted)\n",
    "        # Uncomment this to better understand this code found the best score\n",
    "        #print(f\"   {sel} Run {j} Acc: {scores[j,i]:.3f}\")\n",
    "\n",
    "two_feat_mean_scores = scores.mean(axis=0)\n",
    "# Find the positional index of the system with the best score\n",
    "best_sys = two_feat_mean_scores.argmax()\n",
    "print()\n",
    "print(f\"Winner: {selectors[best_sys]} Avg. score: {two_feat_mean_scores[best_sys]:.3f}\")"
   ]
  },
  {
   "cell_type": "markdown",
   "metadata": {},
   "source": [
    "Validating what's printed out above:"
   ]
  },
  {
   "cell_type": "code",
   "execution_count": 63,
   "metadata": {
    "scrolled": true
   },
   "outputs": [
    {
     "name": "stdout",
     "output_type": "stream",
     "text": [
      "1\n"
     ]
    },
    {
     "data": {
      "text/plain": [
       "0.96"
      ]
     },
     "execution_count": 63,
     "metadata": {},
     "output_type": "execute_result"
    }
   ],
   "source": [
    "print(best_sys)\n",
    "scores[:,best_sys].mean()"
   ]
  },
  {
   "cell_type": "markdown",
   "metadata": {},
   "source": [
    "Validating what we saw wirh a single train/test split, there is quite a range in the mean scores:"
   ]
  },
  {
   "cell_type": "code",
   "execution_count": 34,
   "metadata": {},
   "outputs": [
    {
     "data": {
      "text/plain": [
       "array([0.79333333, 0.96      , 0.94      , 0.95      , 0.93333333,\n",
       "       0.94666667])"
      ]
     },
     "execution_count": 34,
     "metadata": {},
     "output_type": "execute_result"
    }
   ],
   "source": [
    "two_feat_mean_scores"
   ]
  },
  {
   "cell_type": "markdown",
   "metadata": {},
   "source": [
    "**Q2**\n",
    "\n",
    "In the regression_and_classification notebook, \n",
    "we implemented a function called `is_non_red` that is supposed to distinguish \n",
    "class 0 from classes 1 and 2.  Here is the definition and an example of using it\n",
    "on a row of the Iris dataset."
   ]
  },
  {
   "cell_type": "code",
   "execution_count": 25,
   "metadata": {},
   "outputs": [
    {
     "name": "stdout",
     "output_type": "stream",
     "text": [
      "P is in positive class: True\n"
     ]
    }
   ],
   "source": [
    "def is_non_red (P):\n",
    "    \"\"\"\n",
    "    P is a data point, all 4 attributes.\n",
    "    \n",
    "    Return True if P is in positive class.\n",
    "    \"\"\"\n",
    "    return (P[2] - .9*P[0] + 2) > 0\n",
    "\n",
    "P = features[-90]\n",
    "print('P is in positive class: {0}'.format(is_non_red(P)))"
   ]
  },
  {
   "cell_type": "markdown",
   "metadata": {},
   "source": [
    "We call such a function a model (a model of `non-redness`). Write some code to evaluate this model's accuracy \n",
    "in predicting non redness.  Before calling the `accuracy_score` function, \n",
    "you will have to compute `predicted` using `is_non_red` to give you an array of predictions\n",
    "\n",
    "\n",
    "To create a prediction array using `is_non_red`, apply it to every row\n",
    "of `features`:\n",
    "\n",
    "```\n",
    "np.apply_along_axis(is_non_red, axis=1, arr= features)\n",
    "```\n",
    "\n",
    "You will also have to evaluate accuracy against a different standard.\n",
    "You can't evaluate against the class array `target` defined above\n",
    "because that has three classes and `is_non_red` essentially works with two. \n",
    "You have to start by creating a different\n",
    "class array that only has two classes, matching the kind of results `is_non_red` produces.\n",
    "The red class is 0, so you want `True` for every class 1 or 2 iris, and\n",
    "`False` for every class 0 iris. For this, use a Boolean mask on `target`.\n",
    "\n",
    "You do not have to evaluate over different train/test splits."
   ]
  },
  {
   "cell_type": "code",
   "execution_count": 26,
   "metadata": {},
   "outputs": [
    {
     "data": {
      "text/plain": [
       "1.0"
      ]
     },
     "execution_count": 26,
     "metadata": {},
     "output_type": "execute_result"
    }
   ],
   "source": [
    "predicted = np.apply_along_axis(is_non_red, axis=1, arr= features)\n",
    "newY = target != 0\n",
    "accuracy_score(predicted,newY)"
   ]
  },
  {
   "cell_type": "markdown",
   "metadata": {},
   "source": [
    "This is perfect performance.  Will scikit_learn  do as well?"
   ]
  },
  {
   "cell_type": "code",
   "execution_count": 27,
   "metadata": {},
   "outputs": [
    {
     "data": {
      "text/plain": [
       "1.0"
      ]
     },
     "execution_count": 27,
     "metadata": {},
     "output_type": "execute_result"
    }
   ],
   "source": [
    "logreg = linear_model.LogisticRegression(C=1e5, solver='lbfgs',multi_class='auto')\n",
    "X = features\n",
    "predicted2 = logreg.fit(X, newY).predict(X)\n",
    "accuracy_score(newY,predicted2)"
   ]
  },
  {
   "cell_type": "markdown",
   "metadata": {},
   "source": [
    "Yes, it did.  Using all features.  There are models that can do just as well using only two features"
   ]
  },
  {
   "cell_type": "code",
   "execution_count": 28,
   "metadata": {},
   "outputs": [
    {
     "data": {
      "text/plain": [
       "1.0"
      ]
     },
     "execution_count": 28,
     "metadata": {},
     "output_type": "execute_result"
    }
   ],
   "source": [
    "logreg = linear_model.LogisticRegression(C=1e5, solver='lbfgs',multi_class='auto')\n",
    "X = features[:,:2]\n",
    "predicted2 = logreg.fit(X, newY).predict(X)\n",
    "accuracy_score(newY,predicted2)"
   ]
  },
  {
   "cell_type": "markdown",
   "metadata": {},
   "source": [
    "But not using one feature."
   ]
  },
  {
   "cell_type": "code",
   "execution_count": 29,
   "metadata": {},
   "outputs": [
    {
     "data": {
      "text/plain": [
       "0.8933333333333333"
      ]
     },
     "execution_count": 29,
     "metadata": {},
     "output_type": "execute_result"
    }
   ],
   "source": [
    "logreg = linear_model.LogisticRegression(C=1e5, solver='lbfgs',multi_class='auto')\n",
    "X = features[:,:1]\n",
    "predicted2 = logreg.fit(X, newY).predict(X)\n",
    "accuracy_score(newY,predicted2)"
   ]
  },
  {
   "cell_type": "markdown",
   "metadata": {},
   "source": [
    "**Q3** \n",
    "\n",
    "Using the `rock vs. mines` data set loaded in the next cell, draw a scatterplot of the points like the ones we did in Section 2 and 3 of this tutorial for the iris data. \n",
    "You will find the code in Section 3 of the rfegression_and_classification notebook will require the least modification.\n",
    "This data set tries to distinguish two classes, rocks and mines, based on sonar readings.\n",
    "Note, as the loading code indicates, this data has 60 features, which is a lot, so you should\n",
    "just pick one pair of features out and plot them.  Crucially,\n",
    "you **don't** need to plot all pairs (there are 1770 pairs), even though\n",
    "with 60 features, you are unlikely to have much success using just two.\n",
    "\n",
    "When modifying the code to draw the picture, bear in mind you really only need to\n",
    "scatter the points.  You are not being asked to draw a separation line,\n",
    "and you don't need to draw our point P, because it doesn't appear in this data.\n",
    "You should try to give the points belonging to the two classes different colors\n",
    "and shapes, as was done above."
   ]
  },
  {
   "cell_type": "code",
   "execution_count": 30,
   "metadata": {},
   "outputs": [
    {
     "name": "stdout",
     "output_type": "stream",
     "text": [
      "208 exemplars with 61 features\n",
      "2 classes: ['M', 'R']\n"
     ]
    }
   ],
   "source": [
    "import pandas as pd\n",
    "\n",
    "target_url = (\"https://archive.ics.uci.edu/ml/machine-learning-\"\n",
    "\"databases/undocumented/connectionist-bench/sonar/sonar.all-data\")\n",
    "\n",
    "#read rocks mines data\n",
    "mine_df = pd.read_csv(target_url, header=None)\n",
    "mine_features = mine_df.values\n",
    "(samp_sz, num_feats) = mine_features.shape\n",
    "print('{0} exemplars with {1} features'.format(samp_sz, num_feats))\n",
    "# The last column contains the class data.  Separate it from the others.\n",
    "target = mine_features[:, 60]\n",
    "# Everything else is a feature\n",
    "mine_features = mine_features[:, :60]\n",
    "(samp_sz, num_feats) = mine_features.shape\n",
    "\n",
    "# Find the two classes we're trying to separate.\n",
    "feat_set = list(set(target))\n",
    "print('{0} classes: {1}'.format(len(feat_set), feat_set))\n",
    "\n"
   ]
  },
  {
   "cell_type": "code",
   "execution_count": 13,
   "metadata": {},
   "outputs": [
    {
     "data": {
      "text/plain": [
       "{'M', 'R'}"
      ]
     },
     "execution_count": 13,
     "metadata": {},
     "output_type": "execute_result"
    }
   ],
   "source": [
    "set(target)"
   ]
  },
  {
   "cell_type": "code",
   "execution_count": 14,
   "metadata": {},
   "outputs": [
    {
     "data": {
      "text/plain": [
       "[('M', '>', 'r'), ('R', 'o', 'g')]"
      ]
     },
     "execution_count": 14,
     "metadata": {},
     "output_type": "execute_result"
    }
   ],
   "source": [
    "list(zip(\"MR\",\">o\",\"rg\"))"
   ]
  },
  {
   "cell_type": "code",
   "execution_count": 15,
   "metadata": {},
   "outputs": [
    {
     "data": {
      "text/plain": [
       "array(['R', 'R', 'R', 'R', 'R', 'R', 'R', 'R', 'R', 'R', 'R', 'R', 'R',\n",
       "       'R', 'R', 'R', 'R', 'R', 'R', 'R', 'R', 'R', 'R', 'R', 'R', 'R',\n",
       "       'R', 'R', 'R', 'R', 'R', 'R', 'R', 'R', 'R', 'R', 'R', 'R', 'R',\n",
       "       'R', 'R', 'R', 'R', 'R', 'R', 'R', 'R', 'R', 'R', 'R', 'R', 'R',\n",
       "       'R', 'R', 'R', 'R', 'R', 'R', 'R', 'R', 'R', 'R', 'R', 'R', 'R',\n",
       "       'R', 'R', 'R', 'R', 'R', 'R', 'R', 'R', 'R', 'R', 'R', 'R', 'R',\n",
       "       'R', 'R', 'R', 'R', 'R', 'R', 'R', 'R', 'R', 'R', 'R', 'R', 'R',\n",
       "       'R', 'R', 'R', 'R', 'R', 'R', 'M', 'M', 'M', 'M', 'M', 'M', 'M',\n",
       "       'M', 'M', 'M', 'M', 'M', 'M', 'M', 'M', 'M', 'M', 'M', 'M', 'M',\n",
       "       'M', 'M', 'M', 'M', 'M', 'M', 'M', 'M', 'M', 'M', 'M', 'M', 'M',\n",
       "       'M', 'M', 'M', 'M', 'M', 'M', 'M', 'M', 'M', 'M', 'M', 'M', 'M',\n",
       "       'M', 'M', 'M', 'M', 'M', 'M', 'M', 'M', 'M', 'M', 'M', 'M', 'M',\n",
       "       'M', 'M', 'M', 'M', 'M', 'M', 'M', 'M', 'M', 'M', 'M', 'M', 'M',\n",
       "       'M', 'M', 'M', 'M', 'M', 'M', 'M', 'M', 'M', 'M', 'M', 'M', 'M',\n",
       "       'M', 'M', 'M', 'M', 'M', 'M', 'M', 'M', 'M', 'M', 'M', 'M', 'M',\n",
       "       'M', 'M', 'M', 'M', 'M', 'M', 'M', 'M', 'M', 'M', 'M', 'M', 'M'],\n",
       "      dtype=object)"
      ]
     },
     "execution_count": 15,
     "metadata": {},
     "output_type": "execute_result"
    }
   ],
   "source": [
    "target"
   ]
  },
  {
   "cell_type": "code",
   "execution_count": 32,
   "metadata": {},
   "outputs": [
    {
     "data": {
      "image/png": "[encoded data removed]",
      "text/plain": [
       "<Figure size 640x480 with 1 Axes>"
      ]
     },
     "metadata": {},
     "output_type": "display_data"
    }
   ],
   "source": [
    "# Scatter the data points\n",
    "from matplotlib import pyplot as plt\n",
    "p0,p1 = 0,25\n",
    "for t,marker,c in list(zip(\"RM\",\">o\",\"rg\")):\n",
    "    #print(t,p0,p1,mine_features[target == t,p0].shape,mine_features[target == t,p1].shape)\n",
    "    #print(\"\"\"----\"\"\")\n",
    "    plt.scatter(mine_features[target == t,p0], mine_features[target == t,p1], \n",
    "              marker=marker, c=c,s=60) "
   ]
  },
  {
   "cell_type": "code",
   "execution_count": null,
   "metadata": {},
   "outputs": [],
   "source": []
  },
  {
   "cell_type": "code",
   "execution_count": null,
   "metadata": {},
   "outputs": [],
   "source": []
  },
  {
   "cell_type": "code",
   "execution_count": null,
   "metadata": {},
   "outputs": [],
   "source": []
  },
  {
   "cell_type": "code",
   "execution_count": null,
   "metadata": {},
   "outputs": [],
   "source": []
  },
  {
   "cell_type": "code",
   "execution_count": null,
   "metadata": {},
   "outputs": [],
   "source": []
  },
  {
   "cell_type": "code",
   "execution_count": null,
   "metadata": {},
   "outputs": [],
   "source": []
  },
  {
   "cell_type": "code",
   "execution_count": null,
   "metadata": {},
   "outputs": [],
   "source": [
    "(p0,p1) = (0,2)\n",
    "# Scatter the data points\n",
    "for t,marker,c in zip(\"MR\",\">o\",\"rg\"):\n",
    "    #print(t,p0,p1)\n",
    "    #print(mine_features[target == t,p0].shape)\n",
    "    #print()\n",
    "    plt.scatter(mine_features[target == t,p0], mine_features[target == t,p1], \n",
    "                marker=marker, c=c,s=60) "
   ]
  },
  {
   "cell_type": "code",
   "execution_count": 34,
   "metadata": {},
   "outputs": [
    {
     "name": "stdout",
     "output_type": "stream",
     "text": [
      "M 0\n"
     ]
    },
    {
     "data": {
      "text/plain": [
       "array([0.0491, 0.1313, 0.0201, 0.0629, 0.0335, 0.0587, 0.0162, 0.0307,\n",
       "       0.0116, 0.0331, 0.0428, 0.0599, 0.0264, 0.021, 0.053, 0.0454,\n",
       "       0.0283, 0.0114, 0.0414, 0.0094, 0.0228, 0.0363, 0.0261, 0.0346,\n",
       "       0.0162, 0.0249, 0.027, 0.0388, 0.0228, 0.0715, 0.0209, 0.0374,\n",
       "       0.1371, 0.0443, 0.115, 0.0968, 0.079, 0.1083, 0.0094, 0.1088,\n",
       "       0.043, 0.0731, 0.0164, 0.0412, 0.0707, 0.0526, 0.0516, 0.0299,\n",
       "       0.0721, 0.1021, 0.0654, 0.0712, 0.0207, 0.0209, 0.0231, 0.0131,\n",
       "       0.0233, 0.0117, 0.0211, 0.0047, 0.0201, 0.0107, 0.0235, 0.0258,\n",
       "       0.0305, 0.0217, 0.0072, 0.0163, 0.0221, 0.0411, 0.0137, 0.0015,\n",
       "       0.013, 0.0134, 0.0179, 0.018, 0.0329, 0.0191, 0.0294, 0.0635,\n",
       "       0.0201, 0.0197, 0.0394, 0.031, 0.0423, 0.0095, 0.0096, 0.0269,\n",
       "       0.034, 0.0209, 0.0368, 0.0089, 0.0158, 0.0156, 0.0315, 0.0056,\n",
       "       0.0203, 0.0392, 0.0129, 0.005, 0.0366, 0.0238, 0.0116, 0.0131,\n",
       "       0.0335, 0.0272, 0.0187, 0.0323, 0.0522, 0.0303, 0.026],\n",
       "      dtype=object)"
      ]
     },
     "execution_count": 34,
     "metadata": {},
     "output_type": "execute_result"
    }
   ],
   "source": [
    "# The values from col p0 that belong to the target class\n",
    "print(t,p0)\n",
    "mine_features[target == t,p0]"
   ]
  },
  {
   "cell_type": "markdown",
   "metadata": {},
   "source": [
    "### Solution"
   ]
  },
  {
   "cell_type": "markdown",
   "metadata": {},
   "source": [
    "What we're seeing is that the depicted features are **highly correlated**."
   ]
  },
  {
   "cell_type": "code",
   "execution_count": 35,
   "metadata": {},
   "outputs": [
    {
     "data": {
      "image/png": "[encoded data removed]",
      "text/plain": [
       "<Figure size 640x480 with 1 Axes>"
      ]
     },
     "metadata": {},
     "output_type": "display_data"
    }
   ],
   "source": [
    "# Scatter the data points\n",
    "from matplotlib import pyplot as plt\n",
    "p0,p1 = 22,23\n",
    "for t,marker,c in zip(\"RM\",\">o\",\"rb\"):\n",
    "    plt.scatter(mine_features[target == t,p0], mine_features[target == t,p1], \n",
    "                marker=marker, c=c,s=30) "
   ]
  },
  {
   "cell_type": "markdown",
   "metadata": {},
   "source": [
    "This pair not so much."
   ]
  },
  {
   "cell_type": "code",
   "execution_count": 36,
   "metadata": {},
   "outputs": [
    {
     "data": {
      "image/png": "[encoded data removed]",
      "text/plain": [
       "<Figure size 640x480 with 1 Axes>"
      ]
     },
     "metadata": {},
     "output_type": "display_data"
    }
   ],
   "source": [
    "# Scatter the data points\n",
    "from matplotlib import pyplot as plt\n",
    "p0,p1 = 1,23\n",
    "for t,marker,c in zip(\"RM\",\">o\",\"rb\"):\n",
    "    plt.scatter(mine_features[target == t,p0], mine_features[target == t,p1], \n",
    "                marker=marker, c=c,s=30) "
   ]
  },
  {
   "cell_type": "markdown",
   "metadata": {},
   "source": [
    "**Q4**\n",
    "\n",
    "Combining variables: Cheap non-linearity"
   ]
  },
  {
   "cell_type": "markdown",
   "metadata": {},
   "source": [
    "The [Heidelberg stat-center](http://www.statlab.uni-heidelberg.de/data/iris/) reports a very nice result obtained by combining\n",
    "the 2 petal features and the  2 sepal features by multiplication.  We end up with 2 **area** features, and a system that's almost as good as a 4-feature linear system,\n",
    "at the cost of a little non-linearity (the multiplication). Here's the computation,\n",
    "and the picture, both of which are very simple.  \n",
    "\n",
    "Notice what the picture is telling us:  Petal area alone\n",
    "is enough to almost perfectly perform the discrimination.  And the insight can easily be made visual."
   ]
  },
  {
   "cell_type": "code",
   "execution_count": 6,
   "metadata": {},
   "outputs": [
    {
     "data": {
      "text/plain": [
       "Text(0, 0.5, 'petal area')"
      ]
     },
     "execution_count": 6,
     "metadata": {},
     "output_type": "execute_result"
    },
    {
     "data": {
      "image/png": "[encoded data removed]",
      "text/plain": [
       "<Figure size 640x480 with 1 Axes>"
      ]
     },
     "metadata": {},
     "output_type": "display_data"
    }
   ],
   "source": [
    "from sklearn.datasets import load_iris\n",
    "from sklearn.metrics import accuracy_score,precision_score,recall_score,classification_report,confusion_matrix\n",
    "import numpy as np\n",
    "from matplotlib import pyplot as plt\n",
    "\n",
    "data = load_iris()\n",
    "features = data['data']\n",
    "feature_names = data['feature_names']\n",
    "target = data['target']\n",
    "sepal_area = features[:,0] * features[:,1]\n",
    "petal_area = features[:,2] * features[:,3]\n",
    "\n",
    "for t,marker,c in zip(list(range(3)),\">ox\",\"rgb\"):\n",
    "    plt.scatter(sepal_area[target == t], petal_area[target == t], marker=marker, c=c,s=60) \n",
    "\n",
    "# Let's draw our point P with extra special attention getting large SIZE.\n",
    "p_sepal_area,p_petal_area,p_target  = sepal_area[-90],petal_area[-90],target[-90]\n",
    "marker,clr = \">ox\"[p_target], \"rgb\"[p_target]\n",
    "plt.scatter(p_sepal_area,p_petal_area,marker=marker,c=clr,s=180)\n",
    "\n",
    "# Let;s draw some linear separators, horizontal lines in this case\n",
    "plt.plot(np.arange(0.,40.),np.array([1.8]*40))\n",
    "plt.plot(np.arange(0.,40.),np.array([7.4]*40))\n",
    "plt.axis('tight')\n",
    "plt.xlabel('sepal area')\n",
    "plt.ylabel('petal area')"
   ]
  },
  {
   "cell_type": "markdown",
   "metadata": {},
   "source": [
    "**Q4: Part A** \n",
    "\n",
    "Validate what the picture is telling you by training and evaluating a `linear_model.LogisticRegression` \n",
    "classifier that uses **only** the petal area feature.  \n",
    "\n",
    "You can define values for `petal_area` feature by evaluating the cell above.  Your\n",
    "answer should be a few lines of code.  The last line should print out the\n",
    "accuracy score for your classifier."
   ]
  },
  {
   "cell_type": "markdown",
   "metadata": {},
   "source": [
    "Checking feature names to get the right indices: sepal area (0,1); petal area(2,3)."
   ]
  },
  {
   "cell_type": "code",
   "execution_count": 67,
   "metadata": {},
   "outputs": [
    {
     "data": {
      "text/plain": [
       "['sepal length (cm)',\n",
       " 'sepal width (cm)',\n",
       " 'petal length (cm)',\n",
       " 'petal width (cm)']"
      ]
     },
     "execution_count": 67,
     "metadata": {},
     "output_type": "execute_result"
    }
   ],
   "source": [
    "data['feature_names']"
   ]
  },
  {
   "cell_type": "code",
   "execution_count": 93,
   "metadata": {},
   "outputs": [
    {
     "name": "stdout",
     "output_type": "stream",
     "text": [
      " Acc: 0.967\n",
      "Prec:  setosa: 1.000 versicolor: 1.000 virginica: 0.857 \n",
      " Rec:  setosa: 1.000 versicolor: 0.909 virginica: 1.000 \n"
     ]
    }
   ],
   "source": [
    "from sklearn.model_selection import train_test_split\n",
    "\n",
    "\n",
    "sepal_area = features[:,0] * features[:,1]\n",
    "petal_area = features[:,2] * features[:,3]\n",
    "X = petal_area[:,np.newaxis]\n",
    "Y = target\n",
    "\n",
    "random_state=80\n",
    "X_train, X_test, Y_train, Y_test = train_test_split(X, Y, test_size=.2, random_state=random_state)\n",
    "\n",
    "def train_test_evaluate(X_train, X_test, Y_train, Y_test, clf):\n",
    "    \n",
    "    clf.fit(X_train, Y_train)\n",
    "    predicted = clf.predict(X_test)\n",
    "    acc_A = accuracy_score(Y_test,predicted)\n",
    "    prec_A,rec_A = precision_score(Y_test,predicted,average=None), recall_score(Y_test,predicted,average=None)\n",
    "\n",
    "    print(f\" Acc: {acc_A:.3f}\")\n",
    "    # Precision is an array of 3 scores.  We'll take it apart\n",
    "    print(\"Prec: \",end=\" \")\n",
    "    for (i,species) in enumerate(data['target_names']):\n",
    "         print(f\"{species}: {prec_A[i]:.3f}\",end=\" \")\n",
    "    print()\n",
    "    print(\" Rec: \",end=\" \")\n",
    "    for (i,species) in enumerate(data['target_names']):\n",
    "         print(f\"{species}: {rec_A[i]:.3f}\",end=\" \")\n",
    "    print()\n",
    "    return predicted, acc_A, prec_A, rec_A\n",
    "\n",
    "logreg = linear_model.LogisticRegression(C=1e5)\n",
    "predicted, acc_A, prec_A, rec_A = train_test_evaluate(X_train, X_test, Y_train, Y_test,clf=logreg)"
   ]
  },
  {
   "cell_type": "markdown",
   "metadata": {},
   "source": [
    "As you can see, displaying the precision and recall scores just got more complicated."
   ]
  },
  {
   "cell_type": "markdown",
   "metadata": {},
   "source": [
    "Here is the classification report; by default it's a formatted string you can print.\n",
    "It's got everything we printed out above, plus some."
   ]
  },
  {
   "cell_type": "code",
   "execution_count": 94,
   "metadata": {},
   "outputs": [
    {
     "name": "stdout",
     "output_type": "stream",
     "text": [
      "              precision    recall  f1-score   support\n",
      "\n",
      "           0      1.000     1.000     1.000        13\n",
      "           1      1.000     0.909     0.952        11\n",
      "           2      0.857     1.000     0.923         6\n",
      "\n",
      "    accuracy                          0.967        30\n",
      "   macro avg      0.952     0.970     0.958        30\n",
      "weighted avg      0.971     0.967     0.967        30\n",
      "\n"
     ]
    }
   ],
   "source": [
    "from sklearn.metrics import classification_report\n",
    "\n",
    "print(classification_report(Y_test,predicted,digits=3))\n",
    "#print(classification_report.__doc__)"
   ]
  },
  {
   "cell_type": "markdown",
   "metadata": {},
   "source": [
    "To embed the precision/recall/accuracy numbers in the classification report in a \n",
    "structure, have it return a dictionary instead of a string.  At that point it might\n",
    "be nice to use a DataFrame:"
   ]
  },
  {
   "cell_type": "code",
   "execution_count": 95,
   "metadata": {},
   "outputs": [
    {
     "data": {
      "text/html": [
       "<style type=\"text/css\">\n",
       "#T_5d6a3_row0_col0, #T_5d6a3_row0_col1, #T_5d6a3_row1_col0, #T_5d6a3_row2_col1 {\n",
       "  background-color: #08306b;\n",
       "  color: #f1f1f1;\n",
       "}\n",
       "#T_5d6a3_row1_col1, #T_5d6a3_row2_col0 {\n",
       "  background-color: #f7fbff;\n",
       "  color: #000000;\n",
       "}\n",
       "</style>\n",
       "<table id=\"T_5d6a3\">\n",
       "  <thead>\n",
       "    <tr>\n",
       "      <th class=\"blank level0\" >&nbsp;</th>\n",
       "      <th id=\"T_5d6a3_level0_col0\" class=\"col_heading level0 col0\" >precision</th>\n",
       "      <th id=\"T_5d6a3_level0_col1\" class=\"col_heading level0 col1\" >recall</th>\n",
       "    </tr>\n",
       "  </thead>\n",
       "  <tbody>\n",
       "    <tr>\n",
       "      <th id=\"T_5d6a3_level0_row0\" class=\"row_heading level0 row0\" >setosa</th>\n",
       "      <td id=\"T_5d6a3_row0_col0\" class=\"data row0 col0\" >1.000</td>\n",
       "      <td id=\"T_5d6a3_row0_col1\" class=\"data row0 col1\" >1.000</td>\n",
       "    </tr>\n",
       "    <tr>\n",
       "      <th id=\"T_5d6a3_level0_row1\" class=\"row_heading level0 row1\" >versicolor</th>\n",
       "      <td id=\"T_5d6a3_row1_col0\" class=\"data row1 col0\" >1.000</td>\n",
       "      <td id=\"T_5d6a3_row1_col1\" class=\"data row1 col1\" >0.909</td>\n",
       "    </tr>\n",
       "    <tr>\n",
       "      <th id=\"T_5d6a3_level0_row2\" class=\"row_heading level0 row2\" >virginica</th>\n",
       "      <td id=\"T_5d6a3_row2_col0\" class=\"data row2 col0\" >0.857</td>\n",
       "      <td id=\"T_5d6a3_row2_col1\" class=\"data row2 col1\" >1.000</td>\n",
       "    </tr>\n",
       "  </tbody>\n",
       "</table>\n"
      ],
      "text/plain": [
       "<pandas.io.formats.style.Styler at 0x7fd0d8319a20>"
      ]
     },
     "execution_count": 95,
     "metadata": {},
     "output_type": "execute_result"
    }
   ],
   "source": [
    "import pandas as pd\n",
    "\n",
    "df_A = pd.DataFrame.from_dict(classification_report(Y_test,predicted,output_dict=True))\n",
    "# Just keep the good stuff. \n",
    "df_A = df_A.iloc[:2,:3]\n",
    "# Replace species numbers with names\n",
    "df_A.columns = data['target_names']\n",
    "#Flip so that the rows correspond to species\n",
    "df_A = df_A.T\n",
    "# Now create df \"style\" instance and tweak it for display\n",
    "df_A_style = df_A.style.background_gradient(cmap=plt.cm.Blues).format(precision=3)\n",
    "df_A_style"
   ]
  },
  {
   "cell_type": "markdown",
   "metadata": {},
   "source": [
    "The color coding is by **column**,  so the best precisions are in dark blue,\n",
    "followed by light blue in the precision column.\n",
    "\n",
    "Here's everything we did above redone via the other (usefully named) `metrics` function\n",
    "`precision_recall_fscore_support`."
   ]
  },
  {
   "cell_type": "code",
   "execution_count": 96,
   "metadata": {},
   "outputs": [
    {
     "data": {
      "text/html": [
       "<style type=\"text/css\">\n",
       "#T_f656a_row0_col0, #T_f656a_row0_col1, #T_f656a_row1_col0, #T_f656a_row2_col1 {\n",
       "  background-color: #08306b;\n",
       "  color: #f1f1f1;\n",
       "}\n",
       "#T_f656a_row1_col1, #T_f656a_row2_col0 {\n",
       "  background-color: #f7fbff;\n",
       "  color: #000000;\n",
       "}\n",
       "</style>\n",
       "<table id=\"T_f656a\">\n",
       "  <thead>\n",
       "    <tr>\n",
       "      <th class=\"blank level0\" >&nbsp;</th>\n",
       "      <th id=\"T_f656a_level0_col0\" class=\"col_heading level0 col0\" >Prec</th>\n",
       "      <th id=\"T_f656a_level0_col1\" class=\"col_heading level0 col1\" >Rec</th>\n",
       "    </tr>\n",
       "  </thead>\n",
       "  <tbody>\n",
       "    <tr>\n",
       "      <th id=\"T_f656a_level0_row0\" class=\"row_heading level0 row0\" >setosa</th>\n",
       "      <td id=\"T_f656a_row0_col0\" class=\"data row0 col0\" >1.000</td>\n",
       "      <td id=\"T_f656a_row0_col1\" class=\"data row0 col1\" >1.000</td>\n",
       "    </tr>\n",
       "    <tr>\n",
       "      <th id=\"T_f656a_level0_row1\" class=\"row_heading level0 row1\" >versicolor</th>\n",
       "      <td id=\"T_f656a_row1_col0\" class=\"data row1 col0\" >1.000</td>\n",
       "      <td id=\"T_f656a_row1_col1\" class=\"data row1 col1\" >0.909</td>\n",
       "    </tr>\n",
       "    <tr>\n",
       "      <th id=\"T_f656a_level0_row2\" class=\"row_heading level0 row2\" >virginica</th>\n",
       "      <td id=\"T_f656a_row2_col0\" class=\"data row2 col0\" >0.857</td>\n",
       "      <td id=\"T_f656a_row2_col1\" class=\"data row2 col1\" >1.000</td>\n",
       "    </tr>\n",
       "  </tbody>\n",
       "</table>\n"
      ],
      "text/plain": [
       "<pandas.io.formats.style.Styler at 0x7fd0d8318ee0>"
      ]
     },
     "execution_count": 96,
     "metadata": {},
     "output_type": "execute_result"
    }
   ],
   "source": [
    "import pandas as pd\n",
    "from sklearn.metrics import precision_recall_fscore_support\n",
    "\n",
    "\n",
    "(p,r,f,s) = precision_recall_fscore_support(Y_test,predicted,average=None)\n",
    "# orient=index means the keys in the dictionary are used as index entries\n",
    "df_A2 = pd.DataFrame.from_dict({\"Prec\":p, \"Rec\":r}, orient=\"index\", columns=data['target_names']).T\n",
    "df_A2.style.background_gradient(cmap=plt.cm.Blues).format(precision=3)"
   ]
  },
  {
   "cell_type": "markdown",
   "metadata": {},
   "source": [
    "#### Scikit learn polynomial features variant"
   ]
  },
  {
   "cell_type": "markdown",
   "metadata": {},
   "source": [
    "Using sklearn's polynomial transformation, the results are identical to just\n",
    "using the area feature alone.  In other word the model using just the feature `ab`\n",
    "is identical to the model using `[a, b, ab]`, where a and b are petal length\n",
    "and petal width."
   ]
  },
  {
   "cell_type": "code",
   "execution_count": 97,
   "metadata": {},
   "outputs": [
    {
     "name": "stdout",
     "output_type": "stream",
     "text": [
      " Acc: 0.967\n",
      "Prec:  setosa: 1.000 versicolor: 1.000 virginica: 0.857 \n",
      " Rec:  setosa: 1.000 versicolor: 0.909 virginica: 1.000 \n"
     ]
    }
   ],
   "source": [
    "from sklearn import preprocessing\n",
    "from sklearn import pipeline\n",
    "\n",
    "petal_feats = features[:,2:4]\n",
    "\n",
    "poly = preprocessing.PolynomialFeatures(degree=2, include_bias=False,interaction_only=True)\n",
    "scaler = preprocessing.StandardScaler()\n",
    "logreg = linear_model.LogisticRegression(C=1e5)\n",
    "\n",
    "pipeline_clf = pipeline.Pipeline([('poly', poly), ('scal', scaler), ('k2', logreg)])\n",
    "\n",
    "predicted_P, acc_P, prec_P, rec_P = train_test_evaluate(X_train, X_test, Y_train, Y_test,clf=pipeline_clf)"
   ]
  },
  {
   "cell_type": "code",
   "execution_count": 73,
   "metadata": {},
   "outputs": [
    {
     "name": "stdout",
     "output_type": "stream",
     "text": [
      " Acc: 0.967\n",
      "Prec:  setosa: 1.000 versicolor: 0.875 virginica: 1.000 \n",
      " Rec:  setosa: 1.000 versicolor: 1.000 virginica: 0.917 \n"
     ]
    }
   ],
   "source": [
    "pipeline_clf.fit(X_train, Y_train)\n",
    "predicted = pipeline_clf.predict(X_test)\n",
    "\n",
    "acc_P = accuracy_score(Y_test,predicted)\n",
    "prec_P,rec_P = precision_score(Y_test,predicted,average=None), recall_score(Y_test,predicted,average=None)\n",
    "\n",
    "print(f\" Acc: {acc_P:.3f}\")\n",
    "# Precision is an array of 3 scores.  We'll take it apart\n",
    "print(\"Prec: \",end=\" \")\n",
    "for (i,species) in enumerate(data['target_names']):\n",
    "     print(f\"{species}: {prec_P[i]:.3f}\",end=\" \")\n",
    "print()\n",
    "print(\" Rec: \",end=\" \")\n",
    "for (i,species) in enumerate(data['target_names']):\n",
    "     print(f\"{species}: {rec_P[i]:.3f}\",end=\" \")\n",
    "print()"
   ]
  },
  {
   "cell_type": "markdown",
   "metadata": {},
   "source": [
    "Note that this parameterization of `preprocessing.PolynomialFeatures` does indeed give \n",
    "a 3-feature model where the third feature is just the product of the other 2, as advertised:"
   ]
  },
  {
   "cell_type": "code",
   "execution_count": 98,
   "metadata": {},
   "outputs": [
    {
     "name": "stdout",
     "output_type": "stream",
     "text": [
      "(150, 2)\n",
      "(150, 3)\n"
     ]
    }
   ],
   "source": [
    "from sklearn import preprocessing\n",
    "\n",
    "poly = preprocessing.PolynomialFeatures(degree=2, include_bias=False,interaction_only=True)\n",
    "petal_feats = features[:,2:4]\n",
    "print(petal_feats.shape)\n",
    "k2_representation = poly.fit_transform(petal_feats)\n",
    "print(k2_representation.shape)"
   ]
  },
  {
   "cell_type": "markdown",
   "metadata": {},
   "source": [
    "Look at the first row in both representations:"
   ]
  },
  {
   "cell_type": "code",
   "execution_count": 99,
   "metadata": {},
   "outputs": [
    {
     "name": "stdout",
     "output_type": "stream",
     "text": [
      "[1.4 0.2]\n",
      "[1.4  0.2  0.28]\n"
     ]
    }
   ],
   "source": [
    "print(petal_feats[0,:])\n",
    "print(k2_representation[0,:])"
   ]
  },
  {
   "cell_type": "markdown",
   "metadata": {},
   "source": [
    "**Q4: Part B** \n",
    "\n",
    "Train and evaluate a `linear_model.LogisticRegression` \n",
    "classifier that uses **both** the petal area feature and the sepal area feature.  \n",
    "Guidelines as with the last problem.\n"
   ]
  },
  {
   "cell_type": "markdown",
   "metadata": {},
   "source": [
    "**Answer**:  The tricky part is mashing together the 150x2 matrix we can use for training.\n",
    "\n",
    "Here's one way."
   ]
  },
  {
   "cell_type": "code",
   "execution_count": 128,
   "metadata": {},
   "outputs": [
    {
     "data": {
      "text/plain": [
       "(150, 2)"
      ]
     },
     "execution_count": 128,
     "metadata": {},
     "output_type": "execute_result"
    }
   ],
   "source": [
    "X = np.hstack([petal_area[:,np.newaxis],sepal_area[:,np.newaxis]])\n",
    "# Equivalent to\n",
    "#X = np.concatenate([petal_area[:,np.newaxis],sepal_area[:,np.newaxis]],axis=1)\n",
    "X.shape"
   ]
  },
  {
   "cell_type": "markdown",
   "metadata": {},
   "source": [
    "Use the same train/test split (by way of using the same random state); train,test, eval."
   ]
  },
  {
   "cell_type": "code",
   "execution_count": 103,
   "metadata": {},
   "outputs": [
    {
     "name": "stdout",
     "output_type": "stream",
     "text": [
      " Acc: 0.967\n",
      "Prec:  setosa: 1.000 versicolor: 1.000 virginica: 0.857 \n",
      " Rec:  setosa: 1.000 versicolor: 0.909 virginica: 1.000 \n"
     ]
    }
   ],
   "source": [
    "X_train, X_test, Y_train, Y_test = train_test_split(X, Y, test_size=.2, random_state=random_state)\n",
    "logreg = linear_model.LogisticRegression(C=1e5,solver='liblinear',multi_class='auto')\n",
    "predicted, acc_A, prec_A, rec_A = train_test_evaluate(X_train, X_test, Y_train, Y_test,clf=logreg)"
   ]
  },
  {
   "cell_type": "code",
   "execution_count": 104,
   "metadata": {},
   "outputs": [
    {
     "data": {
      "text/html": [
       "<style type=\"text/css\">\n",
       "#T_f5336_row0_col0, #T_f5336_row0_col1, #T_f5336_row1_col0, #T_f5336_row2_col1 {\n",
       "  background-color: #08306b;\n",
       "  color: #f1f1f1;\n",
       "}\n",
       "#T_f5336_row1_col1, #T_f5336_row2_col0 {\n",
       "  background-color: #f7fbff;\n",
       "  color: #000000;\n",
       "}\n",
       "</style>\n",
       "<table id=\"T_f5336\">\n",
       "  <thead>\n",
       "    <tr>\n",
       "      <th class=\"blank level0\" >&nbsp;</th>\n",
       "      <th id=\"T_f5336_level0_col0\" class=\"col_heading level0 col0\" >Prec</th>\n",
       "      <th id=\"T_f5336_level0_col1\" class=\"col_heading level0 col1\" >Rec</th>\n",
       "    </tr>\n",
       "  </thead>\n",
       "  <tbody>\n",
       "    <tr>\n",
       "      <th id=\"T_f5336_level0_row0\" class=\"row_heading level0 row0\" >setosa</th>\n",
       "      <td id=\"T_f5336_row0_col0\" class=\"data row0 col0\" >1.000</td>\n",
       "      <td id=\"T_f5336_row0_col1\" class=\"data row0 col1\" >1.000</td>\n",
       "    </tr>\n",
       "    <tr>\n",
       "      <th id=\"T_f5336_level0_row1\" class=\"row_heading level0 row1\" >versicolor</th>\n",
       "      <td id=\"T_f5336_row1_col0\" class=\"data row1 col0\" >1.000</td>\n",
       "      <td id=\"T_f5336_row1_col1\" class=\"data row1 col1\" >0.909</td>\n",
       "    </tr>\n",
       "    <tr>\n",
       "      <th id=\"T_f5336_level0_row2\" class=\"row_heading level0 row2\" >virginica</th>\n",
       "      <td id=\"T_f5336_row2_col0\" class=\"data row2 col0\" >0.857</td>\n",
       "      <td id=\"T_f5336_row2_col1\" class=\"data row2 col1\" >1.000</td>\n",
       "    </tr>\n",
       "  </tbody>\n",
       "</table>\n"
      ],
      "text/plain": [
       "<pandas.io.formats.style.Styler at 0x7fd0d831b8e0>"
      ]
     },
     "execution_count": 104,
     "metadata": {},
     "output_type": "execute_result"
    }
   ],
   "source": [
    "(p,r,f,s) = precision_recall_fscore_support(Y_test,predicted,average=None)\n",
    "# orient=index means the keys in the dictionary are used as index entries\n",
    "df_2A = pd.DataFrame.from_dict({\"Prec\":p, \"Rec\":r}, orient=\"index\", columns=data['target_names']).T\n",
    "df_2A.style.background_gradient(cmap=plt.cm.Blues).format(precision=3)"
   ]
  },
  {
   "cell_type": "markdown",
   "metadata": {
    "collapsed": true
   },
   "source": [
    "**Q4 Part C**\n",
    "\n",
    "Train and evaluate a `linear_model.LogisticRegression` \n",
    "classifier that uses both  area features **as well as** the original 4 features.\n",
    "Does this do better than a classifier trained on the original 4 features?\n"
   ]
  },
  {
   "cell_type": "markdown",
   "metadata": {},
   "source": [
    "Having done the last problem this is a piece of cake:"
   ]
  },
  {
   "cell_type": "code",
   "execution_count": 105,
   "metadata": {},
   "outputs": [
    {
     "data": {
      "text/plain": [
       "(150, 6)"
      ]
     },
     "execution_count": 105,
     "metadata": {},
     "output_type": "execute_result"
    }
   ],
   "source": [
    "X = np.hstack([features, petal_area[:,np.newaxis],sepal_area[:,np.newaxis]])\n",
    "X.shape"
   ]
  },
  {
   "cell_type": "code",
   "execution_count": 106,
   "metadata": {},
   "outputs": [],
   "source": [
    "X_train, X_test, Y_train, Y_test = train_test_split(X, Y, test_size=.2, random_state=47)"
   ]
  },
  {
   "cell_type": "code",
   "execution_count": 107,
   "metadata": {},
   "outputs": [
    {
     "data": {
      "text/plain": [
       "1.0"
      ]
     },
     "execution_count": 107,
     "metadata": {},
     "output_type": "execute_result"
    }
   ],
   "source": [
    "\n",
    "# Note using the LBFGS solver spits out some warnings. ThiS may have to do with\n",
    "# the fact that some of the features have values that are much larger than the others.\n",
    "# In any case the score is unaffected.\n",
    "# Scaling would make the warnings go away. Or change solvers as I have.\n",
    "# logreg = linear_model.LogisticRegression(C=1e5,solver='lbfgs',multi_class='auto')\n",
    "logreg = linear_model.LogisticRegression(C=1e5,solver='liblinear',multi_class='auto')\n",
    "\n",
    "logreg.fit(X_train, Y_train)\n",
    "predicted = logreg.predict(X_test)\n",
    "acc_6 = accuracy_score(Y_test,predicted)\n",
    "acc_6"
   ]
  },
  {
   "cell_type": "code",
   "execution_count": 108,
   "metadata": {},
   "outputs": [
    {
     "data": {
      "text/html": [
       "<style type=\"text/css\">\n",
       "#T_b6a45_row0_col0, #T_b6a45_row0_col1, #T_b6a45_row1_col0, #T_b6a45_row1_col1, #T_b6a45_row2_col0, #T_b6a45_row2_col1 {\n",
       "  background-color: #f7fbff;\n",
       "  color: #000000;\n",
       "}\n",
       "</style>\n",
       "<table id=\"T_b6a45\">\n",
       "  <thead>\n",
       "    <tr>\n",
       "      <th class=\"blank level0\" >&nbsp;</th>\n",
       "      <th id=\"T_b6a45_level0_col0\" class=\"col_heading level0 col0\" >Prec</th>\n",
       "      <th id=\"T_b6a45_level0_col1\" class=\"col_heading level0 col1\" >Rec</th>\n",
       "    </tr>\n",
       "  </thead>\n",
       "  <tbody>\n",
       "    <tr>\n",
       "      <th id=\"T_b6a45_level0_row0\" class=\"row_heading level0 row0\" >setosa</th>\n",
       "      <td id=\"T_b6a45_row0_col0\" class=\"data row0 col0\" >1.000</td>\n",
       "      <td id=\"T_b6a45_row0_col1\" class=\"data row0 col1\" >1.000</td>\n",
       "    </tr>\n",
       "    <tr>\n",
       "      <th id=\"T_b6a45_level0_row1\" class=\"row_heading level0 row1\" >versicolor</th>\n",
       "      <td id=\"T_b6a45_row1_col0\" class=\"data row1 col0\" >1.000</td>\n",
       "      <td id=\"T_b6a45_row1_col1\" class=\"data row1 col1\" >1.000</td>\n",
       "    </tr>\n",
       "    <tr>\n",
       "      <th id=\"T_b6a45_level0_row2\" class=\"row_heading level0 row2\" >virginica</th>\n",
       "      <td id=\"T_b6a45_row2_col0\" class=\"data row2 col0\" >1.000</td>\n",
       "      <td id=\"T_b6a45_row2_col1\" class=\"data row2 col1\" >1.000</td>\n",
       "    </tr>\n",
       "  </tbody>\n",
       "</table>\n"
      ],
      "text/plain": [
       "<pandas.io.formats.style.Styler at 0x7fd0f9def880>"
      ]
     },
     "execution_count": 108,
     "metadata": {},
     "output_type": "execute_result"
    }
   ],
   "source": [
    "(p,r,f,s) = precision_recall_fscore_support(Y_test,predicted,average=None)\n",
    "# orient=index means the keys in the dictionary are used as index entries\n",
    "df_6 = pd.DataFrame.from_dict({\"Prec\":p, \"Rec\":r}, orient=\"index\", columns=data['target_names']).T\n",
    "df_6.style.background_gradient(cmap=plt.cm.Blues).format(precision=3)"
   ]
  },
  {
   "cell_type": "markdown",
   "metadata": {},
   "source": [
    "The original 4 features:"
   ]
  },
  {
   "cell_type": "code",
   "execution_count": 109,
   "metadata": {},
   "outputs": [
    {
     "name": "stdout",
     "output_type": "stream",
     "text": [
      " Acc: 0.967\n",
      "Prec:  setosa: 1.000 versicolor: 0.875 virginica: 1.000 \n",
      " Rec:  setosa: 1.000 versicolor: 1.000 virginica: 0.917 \n"
     ]
    }
   ],
   "source": [
    "\n",
    "X = features\n",
    "X_train, X_test, Y_train, Y_test = train_test_split(X, Y, test_size=.2, random_state=47)\n",
    "logreg = linear_model.LogisticRegression(C=1e5,solver='liblinear',multi_class='auto')\n",
    "predicted, acc_A, prec_A, rec_A = train_test_evaluate(X_train, X_test, Y_train, Y_test,clf=logreg)"
   ]
  },
  {
   "cell_type": "code",
   "execution_count": 110,
   "metadata": {},
   "outputs": [
    {
     "data": {
      "text/plain": [
       "0.9666666666666667"
      ]
     },
     "execution_count": 110,
     "metadata": {},
     "output_type": "execute_result"
    }
   ],
   "source": [
    "# Scikit learn note: using the LBFGS solver spits out some warnings. ThiS may have to do with\n",
    "# the fact that the area features have values that are significantly larger than the others.\n",
    "# In any case the score is unaffected.\n",
    "# Scaling would make the warnings go away. Or change solvers as I have.\n",
    "# logreg = linear_model.LogisticRegression(C=1e5,solver='lbfgs',multi_class='auto')\n",
    "\n",
    "X = features\n",
    "X_train, X_test, Y_train, Y_test = train_test_split(X, Y, test_size=.2, random_state=47)\n",
    "logreg = linear_model.LogisticRegression(C=1e5,solver='liblinear',multi_class='auto')\n",
    "\n",
    "logreg.fit(X_train, Y_train)\n",
    "predicted = logreg.predict(X_test)\n",
    "acc_4 = accuracy_score(Y_test,predicted)\n",
    "acc_4"
   ]
  },
  {
   "cell_type": "code",
   "execution_count": 111,
   "metadata": {},
   "outputs": [
    {
     "data": {
      "text/html": [
       "<style type=\"text/css\">\n",
       "#T_41b90_row0_col0, #T_41b90_row0_col1, #T_41b90_row1_col1, #T_41b90_row2_col0 {\n",
       "  background-color: #08306b;\n",
       "  color: #f1f1f1;\n",
       "}\n",
       "#T_41b90_row1_col0, #T_41b90_row2_col1 {\n",
       "  background-color: #f7fbff;\n",
       "  color: #000000;\n",
       "}\n",
       "</style>\n",
       "<table id=\"T_41b90\">\n",
       "  <thead>\n",
       "    <tr>\n",
       "      <th class=\"blank level0\" >&nbsp;</th>\n",
       "      <th id=\"T_41b90_level0_col0\" class=\"col_heading level0 col0\" >Prec</th>\n",
       "      <th id=\"T_41b90_level0_col1\" class=\"col_heading level0 col1\" >Rec</th>\n",
       "    </tr>\n",
       "  </thead>\n",
       "  <tbody>\n",
       "    <tr>\n",
       "      <th id=\"T_41b90_level0_row0\" class=\"row_heading level0 row0\" >setosa</th>\n",
       "      <td id=\"T_41b90_row0_col0\" class=\"data row0 col0\" >1.000</td>\n",
       "      <td id=\"T_41b90_row0_col1\" class=\"data row0 col1\" >1.000</td>\n",
       "    </tr>\n",
       "    <tr>\n",
       "      <th id=\"T_41b90_level0_row1\" class=\"row_heading level0 row1\" >versicolor</th>\n",
       "      <td id=\"T_41b90_row1_col0\" class=\"data row1 col0\" >0.875</td>\n",
       "      <td id=\"T_41b90_row1_col1\" class=\"data row1 col1\" >1.000</td>\n",
       "    </tr>\n",
       "    <tr>\n",
       "      <th id=\"T_41b90_level0_row2\" class=\"row_heading level0 row2\" >virginica</th>\n",
       "      <td id=\"T_41b90_row2_col0\" class=\"data row2 col0\" >1.000</td>\n",
       "      <td id=\"T_41b90_row2_col1\" class=\"data row2 col1\" >0.917</td>\n",
       "    </tr>\n",
       "  </tbody>\n",
       "</table>\n"
      ],
      "text/plain": [
       "<pandas.io.formats.style.Styler at 0x7fd0d831ba60>"
      ]
     },
     "execution_count": 111,
     "metadata": {},
     "output_type": "execute_result"
    }
   ],
   "source": [
    "(p,r,f,s) = precision_recall_fscore_support(Y_test,predicted,average=None)\n",
    "# orient=index means the keys in the dictionary are used as index entries\n",
    "df_4 = pd.DataFrame.from_dict({\"Prec\":p, \"Rec\":r}, orient=\"index\", columns=data['target_names']).T\n",
    "df_4.style.background_gradient(cmap=plt.cm.Blues).format(precision=3)"
   ]
  },
  {
   "cell_type": "markdown",
   "metadata": {},
   "source": [
    "Is the 6-feature model better? By accuracy, Yes!"
   ]
  },
  {
   "cell_type": "code",
   "execution_count": 112,
   "metadata": {},
   "outputs": [
    {
     "data": {
      "text/plain": [
       "True"
      ]
     },
     "execution_count": 112,
     "metadata": {},
     "output_type": "execute_result"
    }
   ],
   "source": [
    "acc_4 < acc_6"
   ]
  },
  {
   "cell_type": "markdown",
   "metadata": {},
   "source": [
    "To do the other comparisons, we ask where the 6-feature model evaluations beat the 4 feature model\n",
    "scores, The answer is: In three cases"
   ]
  },
  {
   "cell_type": "code",
   "execution_count": 113,
   "metadata": {
    "scrolled": true
   },
   "outputs": [
    {
     "data": {
      "text/html": [
       "<div>\n",
       "<style scoped>\n",
       "    .dataframe tbody tr th:only-of-type {\n",
       "        vertical-align: middle;\n",
       "    }\n",
       "\n",
       "    .dataframe tbody tr th {\n",
       "        vertical-align: top;\n",
       "    }\n",
       "\n",
       "    .dataframe thead th {\n",
       "        text-align: right;\n",
       "    }\n",
       "</style>\n",
       "<table border=\"1\" class=\"dataframe\">\n",
       "  <thead>\n",
       "    <tr style=\"text-align: right;\">\n",
       "      <th></th>\n",
       "      <th>Prec</th>\n",
       "      <th>Rec</th>\n",
       "    </tr>\n",
       "  </thead>\n",
       "  <tbody>\n",
       "    <tr>\n",
       "      <th>setosa</th>\n",
       "      <td>False</td>\n",
       "      <td>False</td>\n",
       "    </tr>\n",
       "    <tr>\n",
       "      <th>versicolor</th>\n",
       "      <td>True</td>\n",
       "      <td>False</td>\n",
       "    </tr>\n",
       "    <tr>\n",
       "      <th>virginica</th>\n",
       "      <td>False</td>\n",
       "      <td>True</td>\n",
       "    </tr>\n",
       "  </tbody>\n",
       "</table>\n",
       "</div>"
      ],
      "text/plain": [
       "             Prec    Rec\n",
       "setosa      False  False\n",
       "versicolor   True  False\n",
       "virginica   False   True"
      ]
     },
     "execution_count": 113,
     "metadata": {},
     "output_type": "execute_result"
    }
   ],
   "source": [
    "df_4 < df_6"
   ]
  },
  {
   "cell_type": "markdown",
   "metadata": {},
   "source": [
    "This shows the advantage of keeping system evaluation scores in structures like\n",
    "pandas DataFrames.  It facilitates comparisons between systems.\n",
    "\n",
    "Want numbers? Up to precision level 3?"
   ]
  },
  {
   "cell_type": "code",
   "execution_count": 115,
   "metadata": {},
   "outputs": [
    {
     "data": {
      "text/html": [
       "<style type=\"text/css\">\n",
       "#T_6ed3b_row0_col0, #T_6ed3b_row0_col1, #T_6ed3b_row1_col1, #T_6ed3b_row2_col0 {\n",
       "  background-color: #f7fbff;\n",
       "  color: #000000;\n",
       "}\n",
       "#T_6ed3b_row1_col0, #T_6ed3b_row2_col1 {\n",
       "  background-color: #08306b;\n",
       "  color: #f1f1f1;\n",
       "}\n",
       "</style>\n",
       "<table id=\"T_6ed3b\">\n",
       "  <thead>\n",
       "    <tr>\n",
       "      <th class=\"blank level0\" >&nbsp;</th>\n",
       "      <th id=\"T_6ed3b_level0_col0\" class=\"col_heading level0 col0\" >Prec</th>\n",
       "      <th id=\"T_6ed3b_level0_col1\" class=\"col_heading level0 col1\" >Rec</th>\n",
       "    </tr>\n",
       "  </thead>\n",
       "  <tbody>\n",
       "    <tr>\n",
       "      <th id=\"T_6ed3b_level0_row0\" class=\"row_heading level0 row0\" >setosa</th>\n",
       "      <td id=\"T_6ed3b_row0_col0\" class=\"data row0 col0\" >0.000</td>\n",
       "      <td id=\"T_6ed3b_row0_col1\" class=\"data row0 col1\" >0.000</td>\n",
       "    </tr>\n",
       "    <tr>\n",
       "      <th id=\"T_6ed3b_level0_row1\" class=\"row_heading level0 row1\" >versicolor</th>\n",
       "      <td id=\"T_6ed3b_row1_col0\" class=\"data row1 col0\" >0.125</td>\n",
       "      <td id=\"T_6ed3b_row1_col1\" class=\"data row1 col1\" >0.000</td>\n",
       "    </tr>\n",
       "    <tr>\n",
       "      <th id=\"T_6ed3b_level0_row2\" class=\"row_heading level0 row2\" >virginica</th>\n",
       "      <td id=\"T_6ed3b_row2_col0\" class=\"data row2 col0\" >0.000</td>\n",
       "      <td id=\"T_6ed3b_row2_col1\" class=\"data row2 col1\" >0.083</td>\n",
       "    </tr>\n",
       "  </tbody>\n",
       "</table>\n"
      ],
      "text/plain": [
       "<pandas.io.formats.style.Styler at 0x7fd0d83193f0>"
      ]
     },
     "execution_count": 115,
     "metadata": {},
     "output_type": "execute_result"
    }
   ],
   "source": [
    "#df_6 - df_4\n",
    "(df_6-df_4).style.background_gradient(cmap=plt.cm.Blues).format(precision=3)"
   ]
  },
  {
   "cell_type": "markdown",
   "metadata": {},
   "source": [
    "Is this difference significant?  Certainly not, because we've only seen it in one training/test split."
   ]
  },
  {
   "cell_type": "markdown",
   "metadata": {},
   "source": [
    "#### Folding multiple train/test splits into a test run\n",
    "\n",
    "To validate the improvement, we'd try a number of training test splits and take the averages.\n",
    "\n",
    "There are a variety of ways of implementing this, but one very clean and instructive path\n",
    "is to use arrays to store the evaluation scores.\n",
    "\n",
    "The result nicely illustrates some of the benefits of programming with arrays,\n",
    "in particular, the elegance that can be achieved by applying operations along an\n",
    "axis.\n",
    "\n",
    "The code looks like this:"
   ]
  },
  {
   "cell_type": "code",
   "execution_count": 1,
   "metadata": {},
   "outputs": [],
   "source": [
    "# Code from previous parts of the notebook that may be needed here (if restarting)\n",
    "from sklearn.model_selection import train_test_split\n",
    "from sklearn.datasets import load_iris\n",
    "from sklearn.metrics import accuracy_score,precision_score,recall_score\n",
    "from sklearn import linear_model\n",
    "import numpy as np\n",
    "\n",
    "\n",
    "data = load_iris()\n",
    "features = data['data']\n",
    "feature_names = data['feature_names']\n",
    "target = data['target']\n",
    "\n",
    "sepal_area = features[:,0] * features[:,1]\n",
    "petal_area = features[:,2] * features[:,3]"
   ]
  },
  {
   "cell_type": "code",
   "execution_count": 41,
   "metadata": {},
   "outputs": [
    {
     "name": "stdout",
     "output_type": "stream",
     "text": [
      "Acc Delta: 0.007\n"
     ]
    },
    {
     "data": {
      "text/html": [
       "<div>\n",
       "<style scoped>\n",
       "    .dataframe tbody tr th:only-of-type {\n",
       "        vertical-align: middle;\n",
       "    }\n",
       "\n",
       "    .dataframe tbody tr th {\n",
       "        vertical-align: top;\n",
       "    }\n",
       "\n",
       "    .dataframe thead th {\n",
       "        text-align: right;\n",
       "    }\n",
       "</style>\n",
       "<table border=\"1\" class=\"dataframe\">\n",
       "  <thead>\n",
       "    <tr style=\"text-align: right;\">\n",
       "      <th></th>\n",
       "      <th>Prec</th>\n",
       "      <th>Rec</th>\n",
       "    </tr>\n",
       "  </thead>\n",
       "  <tbody>\n",
       "    <tr>\n",
       "      <th>setosa</th>\n",
       "      <td>0.000000</td>\n",
       "      <td>0.000000</td>\n",
       "    </tr>\n",
       "    <tr>\n",
       "      <th>versicolor</th>\n",
       "      <td>0.013085</td>\n",
       "      <td>0.008333</td>\n",
       "    </tr>\n",
       "    <tr>\n",
       "      <th>virginica</th>\n",
       "      <td>0.005909</td>\n",
       "      <td>0.009091</td>\n",
       "    </tr>\n",
       "  </tbody>\n",
       "</table>\n",
       "</div>"
      ],
      "text/plain": [
       "                Prec       Rec\n",
       "setosa      0.000000  0.000000\n",
       "versicolor  0.013085  0.008333\n",
       "virginica   0.005909  0.009091"
      ]
     },
     "execution_count": 41,
     "metadata": {},
     "output_type": "execute_result"
    }
   ],
   "source": [
    "num_runs=10\n",
    "num_classes = len(data['target_names'])\n",
    "num_systems = 2\n",
    "\n",
    "X6 = np.hstack([features, petal_area[:,np.newaxis],sepal_area[:,np.newaxis]])\n",
    "X4 = features\n",
    "Y = target \n",
    "\n",
    "# acc_scores is 2x10 (2 systems, 10 runs)\n",
    "acc_scores = np.zeros((num_systems,num_runs))\n",
    "#prec_scores is 2x10x3 (2 systems, 10 runs, 3 classes)\n",
    "#prec_scores[0,:,:] is the 10x3 array for all system 0 scores\n",
    "#prec_scores[0,2,:] is the 1D array of length 3 for the system 0, run 2 class-by-class precision scores\n",
    "prec_scores = np.zeros((num_systems,num_runs,num_classes))\n",
    "rec_scores = np.zeros((num_systems,num_runs,num_classes))\n",
    "\n",
    "\n",
    "for i in range(num_runs):\n",
    "    split4 = train_test_split(X4, Y, test_size=.2, random_state=i)\n",
    "    split6 = train_test_split(X6, Y, test_size=.2, random_state=i)\n",
    "    # Check both systems used the same train/test split on this run\n",
    "    assert (split4[2]==split6[2]).all(), \"Oops!\"\n",
    "    systems = [split4,split6]\n",
    "    for (j,[X_train, X_test, Y_train, Y_test]) in enumerate(systems):\n",
    "        logreg = linear_model.LogisticRegression(C=1e5,solver='liblinear',multi_class='auto')\n",
    "        logreg.fit(X_train, Y_train)\n",
    "        predicted = logreg.predict(X_test)\n",
    "        acc_scores[j,i] = accuracy_score(Y_test,predicted)\n",
    "        prec_scores[j,i,:] = precision_score(Y_test,predicted,average=None)\n",
    "        rec_scores[j,i,:] = recall_score(Y_test,predicted,average=None)\n",
    "\n",
    "acc4,acc6 = acc_scores.mean(axis=1)\n",
    "prec4,prec6 = prec_scores.mean(axis=1)\n",
    "rec4,rec6 = rec_scores.mean(axis=1)\n",
    "\n",
    "df_4 = pd.DataFrame.from_dict({\"Prec\":prec4, \"Rec\":rec4}, orient=\"index\", columns=data['target_names']).T\n",
    "df_6 = pd.DataFrame.from_dict({\"Prec\":prec6, \"Rec\":rec6}, orient=\"index\", columns=data['target_names']).T\n",
    "\n",
    "print(f\"Acc Delta: {acc6 - acc4:.3f}\")\n",
    "df_6 - df_4"
   ]
  },
  {
   "cell_type": "markdown",
   "metadata": {},
   "source": [
    "We got *tiny* improvement across 10 train/test splits in accuracy and in all the precision/recall scores where improvement was possible (the setosa scores were already perfect).  So we have some reason to be confident of a real improvement, but not a lot.\n",
    "\n",
    "Code note: the notable feature is the use of arrays to store the scores, which enables the use of `.mean()` in lines 29-31 to find mean scores across all runs. For accuracy a 2D array is fine:\n",
    "we have 10 runs and 2 systems so we create a 2x10 array in line 7.\n",
    "For precision and recall we need class-by-class precision recall scores for \n",
    "each train/test split and  each system, so we use a 2x10x3 array (a 3D array).\n",
    "Note how the arrays are accessed in lines 26-28, and how the means of all test runs are all  taken \n",
    "using axis 1.  In the case of the 2D array that that gives us 1D array of size 2 containing mean accuracies\n",
    "for the 2 systems. \n",
    "\n",
    "```python\n",
    ">>> acc_scores.mean(axis=1)\n",
    "array([0.95      , 0.95666667])\n",
    "```\n",
    "\n",
    "In the case of the 10x2x3 score arrays, taking the mean along axis 1 yields a 2x3 array,\n",
    "with each row containing the class-by-class mean scores for a system. For example,\n",
    "\n",
    "```python\n",
    ">>> prec_scores.mean(axis=1)\n",
    "array([[1.        , 0.91734266, 0.92849206],\n",
    "       [1.        , 0.93042735, 0.93440115]])\n",
    "```\n",
    "yields an array in which the first row is the class-by-class means for the system 0's precision.\n",
    "\n",
    "```python\n",
    "prec4,prec6 = prec_scores.mean(axis=1)\n",
    "```\n",
    "then assigns that first row to `prec4`, which is used in line 33, in making `df4`, the\n",
    "scores for the 4-feature system.\n"
   ]
  },
  {
   "cell_type": "markdown",
   "metadata": {},
   "source": [
    "**Programming note two** on doing operations **along an axis** in numpy.\n",
    "\n",
    "The key in thinking about which axis to use is to think about which dimension you want to \"aggregate away\":"
   ]
  },
  {
   "cell_type": "code",
   "execution_count": 47,
   "metadata": {},
   "outputs": [
    {
     "name": "stdout",
     "output_type": "stream",
     "text": [
      "(2, 10)\n",
      "Axis 0 means: (10,)\n",
      "Axis 1 means: (2,)\n"
     ]
    }
   ],
   "source": [
    "print(acc_scores.shape)\n",
    "print(f\"Axis 0 means: {acc_scores.mean(axis=0).shape}\") # The dimension of size 2 is aggregated over\n",
    "print(f\"Axis 1 means: {acc_scores.mean(axis=1).shape}\") # The dimension of size 10 is aggregated over"
   ]
  },
  {
   "cell_type": "code",
   "execution_count": 48,
   "metadata": {},
   "outputs": [
    {
     "name": "stdout",
     "output_type": "stream",
     "text": [
      "(2, 10, 3)\n",
      "Axis 0 means: (10, 3)\n",
      "Axis 1 means: (2, 3)\n",
      "Axis 2 means: (2, 10)\n"
     ]
    }
   ],
   "source": [
    "print(prec_scores.shape)\n",
    "print(f\"Axis 0 means: {prec_scores.mean(axis=0).shape}\") # The dimension of size 2 is aggregated over\n",
    "print(f\"Axis 1 means: {prec_scores.mean(axis=1).shape}\") # The dimension of size 10 is aggregated over\n",
    "print(f\"Axis 2 means: {prec_scores.mean(axis=2).shape}\") # The dimension of size 3 is aggregated over"
   ]
  },
  {
   "cell_type": "markdown",
   "metadata": {},
   "source": [
    "We wanted the means of the 10 test runs so we were aggregating away axis 1 in both cases."
   ]
  },
  {
   "cell_type": "markdown",
   "metadata": {},
   "source": [
    "When concatenating two 2D arrays, you are going add sizes in one dimension.  The axis where the sizes\n",
    "are added is the one to concatenate on:"
   ]
  },
  {
   "cell_type": "code",
   "execution_count": 120,
   "metadata": {
    "scrolled": true
   },
   "outputs": [
    {
     "name": "stdout",
     "output_type": "stream",
     "text": [
      "(4, 6)\n",
      "concatenate on axis 0: (8, 6)\n",
      "concatenate on axis 1: (4, 12)\n"
     ]
    }
   ],
   "source": [
    "a_4_6 = np.zeros((4,6))\n",
    "print(a_4_6.shape)                 \n",
    "print(f\"concatenate on axis 0: {np.concatenate([a_4_6,a_4_6],axis=0).shape}\")\n",
    "print(f\"concatenate on axis 1: {np.concatenate([a_4_6,a_4_6],axis=1).shape}\")"
   ]
  },
  {
   "cell_type": "markdown",
   "metadata": {},
   "source": [
    "**Q4 Part D**\n",
    "\n",
    "Train and evaluate a `linear_model.LogisticRegression` \n",
    "classifier that uses a 2-feature PCA representation of the iris data,\n",
    "as was done in Section 7 of the Regression and Classification notebook.\n",
    "Does this do better than any of the other 2-feature classifier\n",
    "models (including the 2D projection models  in Q1\n",
    "and the one in part B that used two area features)? \n"
   ]
  },
  {
   "cell_type": "code",
   "execution_count": 30,
   "metadata": {
    "scrolled": true
   },
   "outputs": [
    {
     "data": {
      "text/plain": [
       "0.9533333333333334"
      ]
     },
     "execution_count": 30,
     "metadata": {},
     "output_type": "execute_result"
    }
   ],
   "source": [
    "import sklearn.decomposition as dec\n",
    "X = features\n",
    "Y = target\n",
    "num_runs = 10\n",
    "accs_pca = np.zeros((num_runs,))\n",
    "\n",
    "\n",
    "for i in range(num_runs):\n",
    "    X_train, X_test, Y_train, Y_test = train_test_split(X, Y, test_size=.2,random_state=i)\n",
    "    logreg = linear_model.LogisticRegression(C=1e5,solver='liblinear',multi_class='auto')\n",
    "    pca_tf = dec.PCA(n_components=2)\n",
    "    X_train_reduced = pca_tf.fit_transform(X_train)\n",
    "    # Note we use transform not fit_transform on the test data.  PCA is part of our model\n",
    "    # of the data.  No model-fitting on the test data.\n",
    "    X_test_reduced = pca_tf.transform(X_test)\n",
    "    logreg.fit(X_train_reduced,Y_train)\n",
    "    predicted = logreg.predict(X_test_reduced)\n",
    "    accs_pca[i] = accuracy_score(Y_test,predicted)\n",
    "\n",
    "accs_pca.mean()"
   ]
  },
  {
   "cell_type": "markdown",
   "metadata": {},
   "source": [
    "Comparing what we saw back in Q1, here are the mean accuracy scores for our 6 two-feature models:"
   ]
  },
  {
   "cell_type": "code",
   "execution_count": 26,
   "metadata": {},
   "outputs": [
    {
     "data": {
      "text/plain": [
       "array([0.79333333, 0.96      , 0.94      , 0.95      , 0.93333333,\n",
       "       0.94666667])"
      ]
     },
     "execution_count": 26,
     "metadata": {},
     "output_type": "execute_result"
    }
   ],
   "source": [
    "two_feat_mean_scores"
   ]
  },
  {
   "cell_type": "markdown",
   "metadata": {},
   "source": [
    "So the PCA model wins that evaluation --- by a hair."
   ]
  },
  {
   "cell_type": "markdown",
   "metadata": {},
   "source": [
    "Redoing the Part B evaluation to be comparable:"
   ]
  },
  {
   "cell_type": "code",
   "execution_count": 31,
   "metadata": {},
   "outputs": [
    {
     "data": {
      "text/plain": [
       "1.0"
      ]
     },
     "execution_count": 31,
     "metadata": {},
     "output_type": "execute_result"
    }
   ],
   "source": [
    "num_runs = 10\n",
    "sepal_area = features[:,0] * features[:,1]\n",
    "petal_area = features[:,2] * features[:,3]\n",
    "X = np.hstack([petal_area[:,np.newaxis],sepal_area[:,np.newaxis]])\n",
    "Y = target\n",
    "accs_two_areas = np.zeros((num_runs,))\n",
    "\n",
    "for i in range(num_runs):\n",
    "    # We are actually using the same train/test splits as we used for pca.\n",
    "    X_train, X_test, Y_train, Y_test = train_test_split(X, Y, test_size=.2, random_state=i)\n",
    "    logreg = linear_model.LogisticRegression(C=1e5,solver='liblinear',multi_class='auto')\n",
    "    logreg.fit(X_train,Y_train)\n",
    "    predicted = logreg.predict(X_test)\n",
    "    accs_two_areas[i] = accuracy_score(Y_test,predicted)\n",
    "\n",
    "accs_arr.mean()\n"
   ]
  },
  {
   "cell_type": "markdown",
   "metadata": {},
   "source": [
    "The two area-features system is the winner..."
   ]
  },
  {
   "cell_type": "markdown",
   "metadata": {},
   "source": [
    "### Question 5 (Optional)\n",
    "\n",
    "We use a modified version of the code above, because\n",
    "we are comparing two systems on the same data and want different train/test splits.\n",
    "\n",
    "In this we will average over 10 runs **and** we will do accuracy, precision,\n",
    "and recall evaluations, dealing with the fact that precision and recall\n",
    "return class by class scores (3 scores per run)."
   ]
  },
  {
   "cell_type": "code",
   "execution_count": 35,
   "metadata": {},
   "outputs": [],
   "source": [
    "from sklearn.gaussian_process import GaussianProcessClassifier\n",
    "from sklearn.gaussian_process.kernels import RBF\n",
    "from sklearn.preprocessing import StandardScaler"
   ]
  },
  {
   "cell_type": "code",
   "execution_count": 48,
   "metadata": {},
   "outputs": [
    {
     "name": "stderr",
     "output_type": "stream",
     "text": [
      "/Users/gawron/opt/anaconda3/envs/p310/lib/python3.10/site-packages/sklearn/gaussian_process/kernels.py:430: ConvergenceWarning: The optimal value found for dimension 0 of parameter k1__constant_value is close to the specified upper bound 100000.0. Increasing the bound and calling fit again may find a better value.\n",
      "  warnings.warn(\n"
     ]
    },
    {
     "name": "stdout",
     "output_type": "stream",
     "text": [
      "Acc Delta: 0.013\n"
     ]
    },
    {
     "data": {
      "text/html": [
       "<div>\n",
       "<style scoped>\n",
       "    .dataframe tbody tr th:only-of-type {\n",
       "        vertical-align: middle;\n",
       "    }\n",
       "\n",
       "    .dataframe tbody tr th {\n",
       "        vertical-align: top;\n",
       "    }\n",
       "\n",
       "    .dataframe thead th {\n",
       "        text-align: right;\n",
       "    }\n",
       "</style>\n",
       "<table border=\"1\" class=\"dataframe\">\n",
       "  <thead>\n",
       "    <tr style=\"text-align: right;\">\n",
       "      <th></th>\n",
       "      <th>Prec</th>\n",
       "      <th>Rec</th>\n",
       "    </tr>\n",
       "  </thead>\n",
       "  <tbody>\n",
       "    <tr>\n",
       "      <th>setosa</th>\n",
       "      <td>0.015789</td>\n",
       "      <td>0.000000</td>\n",
       "    </tr>\n",
       "    <tr>\n",
       "      <th>versicolor</th>\n",
       "      <td>-0.004069</td>\n",
       "      <td>0.047500</td>\n",
       "    </tr>\n",
       "    <tr>\n",
       "      <th>virginica</th>\n",
       "      <td>-0.001111</td>\n",
       "      <td>0.026667</td>\n",
       "    </tr>\n",
       "  </tbody>\n",
       "</table>\n",
       "</div>"
      ],
      "text/plain": [
       "                Prec       Rec\n",
       "setosa      0.015789  0.000000\n",
       "versicolor -0.004069  0.047500\n",
       "virginica  -0.001111  0.026667"
      ]
     },
     "execution_count": 48,
     "metadata": {},
     "output_type": "execute_result"
    }
   ],
   "source": [
    "num_runs=10\n",
    "num_classes = len(data['target_names'])\n",
    "num_systems = 2\n",
    "\n",
    "pre_X = np.hstack([petal_area[:,np.newaxis],sepal_area[:,np.newaxis]])\n",
    "X = StandardScaler().fit_transform(pre_X)\n",
    "Y = target \n",
    "\n",
    "# acc_scores is 2x10 (2 systems, 10 runs)\n",
    "acc_scores = np.zeros((num_systems,num_runs))\n",
    "#prec_scores is 2x10x3 (2 systems, 10 runs, 3 classes)\n",
    "#prec_scores[0,:,:] is the 10x3 array for all system 0 scores\n",
    "#prec_scores[0,2,:] is the 1D array of length 3 for the system 0, run 2 class-by-class precision scores\n",
    "prec_scores = np.zeros((num_systems,num_runs,num_classes))\n",
    "rec_scores = np.zeros((num_systems,num_runs,num_classes))\n",
    "log_marg_likelihoods = np.zeros((num_systems,num_runs))\n",
    "\n",
    "for i in range(num_runs):\n",
    "    X_train, X_test, Y_train, Y_test = train_test_split(X, Y, test_size=.2, random_state=i)\n",
    "    kernel = 1.0 * RBF([1.0])\n",
    "    gpc_i = GaussianProcessClassifier(kernel=kernel,random_state=i)\n",
    "    kernel = 1.0 * RBF([1.0, 1.0])\n",
    "    gpc_a = GaussianProcessClassifier(kernel=kernel,random_state=i)\n",
    "    systems = [gpc_i,gpc_a]\n",
    "    for (j,gpc) in enumerate(systems):\n",
    "        gpc.fit(X_train, Y_train)\n",
    "        predicted = gpc.predict(X_test)\n",
    "        log_marg_likelihoods[j,i]  = gpc.log_marginal_likelihood(gpc.kernel_.theta)\n",
    "        acc_scores[j,i] = accuracy_score(Y_test,predicted)\n",
    "        prec_scores[j,i,:] = precision_score(Y_test,predicted,average=None)\n",
    "        rec_scores[j,i,:] = recall_score(Y_test,predicted,average=None)\n",
    "\n",
    "acc_i,acc_a = acc_scores.mean(axis=1)\n",
    "llm_i,llm_a = log_marg_likelihoods.max(axis=1)\n",
    "\n",
    "prec_i,prec_a = prec_scores.mean(axis=1)\n",
    "rec_i,rec_a = rec_scores.mean(axis=1)\n",
    "\n",
    "df_i = pd.DataFrame.from_dict({\"Prec\":prec_i, \"Rec\":rec_i}, orient=\"index\", columns=data['target_names']).T\n",
    "df_a = pd.DataFrame.from_dict({\"Prec\":prec_a, \"Rec\":rec_a}, orient=\"index\", columns=data['target_names']).T\n",
    "\n",
    "\n",
    "print(f\"Acc Delta: {acc_a - acc_i:.3f}\")\n",
    "df_a - df_i"
   ]
  },
  {
   "cell_type": "code",
   "execution_count": 38,
   "metadata": {
    "scrolled": true
   },
   "outputs": [
    {
     "data": {
      "text/html": [
       "<div>\n",
       "<style scoped>\n",
       "    .dataframe tbody tr th:only-of-type {\n",
       "        vertical-align: middle;\n",
       "    }\n",
       "\n",
       "    .dataframe tbody tr th {\n",
       "        vertical-align: top;\n",
       "    }\n",
       "\n",
       "    .dataframe thead th {\n",
       "        text-align: right;\n",
       "    }\n",
       "</style>\n",
       "<table border=\"1\" class=\"dataframe\">\n",
       "  <thead>\n",
       "    <tr style=\"text-align: right;\">\n",
       "      <th></th>\n",
       "      <th>Prec</th>\n",
       "      <th>Rec</th>\n",
       "    </tr>\n",
       "  </thead>\n",
       "  <tbody>\n",
       "    <tr>\n",
       "      <th>setosa</th>\n",
       "      <td>1.00000</td>\n",
       "      <td>1.000000</td>\n",
       "    </tr>\n",
       "    <tr>\n",
       "      <th>versicolor</th>\n",
       "      <td>0.91000</td>\n",
       "      <td>0.922939</td>\n",
       "    </tr>\n",
       "    <tr>\n",
       "      <th>virginica</th>\n",
       "      <td>0.92531</td>\n",
       "      <td>0.916162</td>\n",
       "    </tr>\n",
       "  </tbody>\n",
       "</table>\n",
       "</div>"
      ],
      "text/plain": [
       "               Prec       Rec\n",
       "setosa      1.00000  1.000000\n",
       "versicolor  0.91000  0.922939\n",
       "virginica   0.92531  0.916162"
      ]
     },
     "execution_count": 38,
     "metadata": {},
     "output_type": "execute_result"
    }
   ],
   "source": [
    "df_a"
   ]
  },
  {
   "cell_type": "code",
   "execution_count": 39,
   "metadata": {},
   "outputs": [
    {
     "data": {
      "text/html": [
       "<div>\n",
       "<style scoped>\n",
       "    .dataframe tbody tr th:only-of-type {\n",
       "        vertical-align: middle;\n",
       "    }\n",
       "\n",
       "    .dataframe tbody tr th {\n",
       "        vertical-align: top;\n",
       "    }\n",
       "\n",
       "    .dataframe thead th {\n",
       "        text-align: right;\n",
       "    }\n",
       "</style>\n",
       "<table border=\"1\" class=\"dataframe\">\n",
       "  <thead>\n",
       "    <tr style=\"text-align: right;\">\n",
       "      <th></th>\n",
       "      <th>Prec</th>\n",
       "      <th>Rec</th>\n",
       "    </tr>\n",
       "  </thead>\n",
       "  <tbody>\n",
       "    <tr>\n",
       "      <th>setosa</th>\n",
       "      <td>0.984211</td>\n",
       "      <td>1.000000</td>\n",
       "    </tr>\n",
       "    <tr>\n",
       "      <th>versicolor</th>\n",
       "      <td>0.914069</td>\n",
       "      <td>0.875439</td>\n",
       "    </tr>\n",
       "    <tr>\n",
       "      <th>virginica</th>\n",
       "      <td>0.926421</td>\n",
       "      <td>0.889495</td>\n",
       "    </tr>\n",
       "  </tbody>\n",
       "</table>\n",
       "</div>"
      ],
      "text/plain": [
       "                Prec       Rec\n",
       "setosa      0.984211  1.000000\n",
       "versicolor  0.914069  0.875439\n",
       "virginica   0.926421  0.889495"
      ]
     },
     "execution_count": 39,
     "metadata": {},
     "output_type": "execute_result"
    }
   ],
   "source": [
    "df_i"
   ]
  },
  {
   "cell_type": "markdown",
   "metadata": {},
   "source": [
    "The anisotropic system seems to have achieved better performance, especially in versicolor recall.\n",
    "\n",
    "We can also eyeball a comparison with the systems evaluated in Q4.  We see that the 6-feature system still seems to be a winner.  In that comparison we are changing two factors, the classifier and the representation of the data, so if inspired to do so, you might want to investigate a more appropriate classifier on classifier faceoff, the  6-feature system from the last problem versus a 6-feature system GPC with the\n",
    "appropriate anisotropic kernel, which would allow variation in 6 dimensions:\n",
    "\n",
    "```python\n",
    "kernel = 1.0 * RBF([1.0, 1.0, 1.0, 1.0, 1.0, 1.0])\n",
    "```\n",
    "\n",
    "Warning:  You will probably get lots of warnings when you try this.  They are mostly there\n",
    "to tell you the model is not optimal, and a better model might be lying in wait.  But persevere. You will still\n",
    "get results."
   ]
  },
  {
   "cell_type": "code",
   "execution_count": 42,
   "metadata": {},
   "outputs": [
    {
     "data": {
      "text/html": [
       "<div>\n",
       "<style scoped>\n",
       "    .dataframe tbody tr th:only-of-type {\n",
       "        vertical-align: middle;\n",
       "    }\n",
       "\n",
       "    .dataframe tbody tr th {\n",
       "        vertical-align: top;\n",
       "    }\n",
       "\n",
       "    .dataframe thead th {\n",
       "        text-align: right;\n",
       "    }\n",
       "</style>\n",
       "<table border=\"1\" class=\"dataframe\">\n",
       "  <thead>\n",
       "    <tr style=\"text-align: right;\">\n",
       "      <th></th>\n",
       "      <th>Prec</th>\n",
       "      <th>Rec</th>\n",
       "    </tr>\n",
       "  </thead>\n",
       "  <tbody>\n",
       "    <tr>\n",
       "      <th>setosa</th>\n",
       "      <td>0.000000</td>\n",
       "      <td>0.000000</td>\n",
       "    </tr>\n",
       "    <tr>\n",
       "      <th>versicolor</th>\n",
       "      <td>-0.007343</td>\n",
       "      <td>-0.000758</td>\n",
       "    </tr>\n",
       "    <tr>\n",
       "      <th>virginica</th>\n",
       "      <td>-0.003182</td>\n",
       "      <td>-0.009091</td>\n",
       "    </tr>\n",
       "  </tbody>\n",
       "</table>\n",
       "</div>"
      ],
      "text/plain": [
       "                Prec       Rec\n",
       "setosa      0.000000  0.000000\n",
       "versicolor -0.007343 -0.000758\n",
       "virginica  -0.003182 -0.009091"
      ]
     },
     "execution_count": 42,
     "metadata": {},
     "output_type": "execute_result"
    }
   ],
   "source": [
    "df_a - df_4"
   ]
  },
  {
   "cell_type": "code",
   "execution_count": 43,
   "metadata": {},
   "outputs": [
    {
     "data": {
      "text/html": [
       "<div>\n",
       "<style scoped>\n",
       "    .dataframe tbody tr th:only-of-type {\n",
       "        vertical-align: middle;\n",
       "    }\n",
       "\n",
       "    .dataframe tbody tr th {\n",
       "        vertical-align: top;\n",
       "    }\n",
       "\n",
       "    .dataframe thead th {\n",
       "        text-align: right;\n",
       "    }\n",
       "</style>\n",
       "<table border=\"1\" class=\"dataframe\">\n",
       "  <thead>\n",
       "    <tr style=\"text-align: right;\">\n",
       "      <th></th>\n",
       "      <th>Prec</th>\n",
       "      <th>Rec</th>\n",
       "    </tr>\n",
       "  </thead>\n",
       "  <tbody>\n",
       "    <tr>\n",
       "      <th>setosa</th>\n",
       "      <td>0.000000</td>\n",
       "      <td>0.000000</td>\n",
       "    </tr>\n",
       "    <tr>\n",
       "      <th>versicolor</th>\n",
       "      <td>-0.020427</td>\n",
       "      <td>-0.009091</td>\n",
       "    </tr>\n",
       "    <tr>\n",
       "      <th>virginica</th>\n",
       "      <td>-0.009091</td>\n",
       "      <td>-0.018182</td>\n",
       "    </tr>\n",
       "  </tbody>\n",
       "</table>\n",
       "</div>"
      ],
      "text/plain": [
       "                Prec       Rec\n",
       "setosa      0.000000  0.000000\n",
       "versicolor -0.020427 -0.009091\n",
       "virginica  -0.009091 -0.018182"
      ]
     },
     "execution_count": 43,
     "metadata": {},
     "output_type": "execute_result"
    }
   ],
   "source": [
    "df_a - df_6"
   ]
  },
  {
   "cell_type": "code",
   "execution_count": 44,
   "metadata": {},
   "outputs": [
    {
     "data": {
      "text/html": [
       "<div>\n",
       "<style scoped>\n",
       "    .dataframe tbody tr th:only-of-type {\n",
       "        vertical-align: middle;\n",
       "    }\n",
       "\n",
       "    .dataframe tbody tr th {\n",
       "        vertical-align: top;\n",
       "    }\n",
       "\n",
       "    .dataframe thead th {\n",
       "        text-align: right;\n",
       "    }\n",
       "</style>\n",
       "<table border=\"1\" class=\"dataframe\">\n",
       "  <thead>\n",
       "    <tr style=\"text-align: right;\">\n",
       "      <th></th>\n",
       "      <th>Prec</th>\n",
       "      <th>Rec</th>\n",
       "    </tr>\n",
       "  </thead>\n",
       "  <tbody>\n",
       "    <tr>\n",
       "      <th>setosa</th>\n",
       "      <td>1.000000</td>\n",
       "      <td>1.000000</td>\n",
       "    </tr>\n",
       "    <tr>\n",
       "      <th>versicolor</th>\n",
       "      <td>0.917343</td>\n",
       "      <td>0.923697</td>\n",
       "    </tr>\n",
       "    <tr>\n",
       "      <th>virginica</th>\n",
       "      <td>0.928492</td>\n",
       "      <td>0.925253</td>\n",
       "    </tr>\n",
       "  </tbody>\n",
       "</table>\n",
       "</div>"
      ],
      "text/plain": [
       "                Prec       Rec\n",
       "setosa      1.000000  1.000000\n",
       "versicolor  0.917343  0.923697\n",
       "virginica   0.928492  0.925253"
      ]
     },
     "execution_count": 44,
     "metadata": {},
     "output_type": "execute_result"
    }
   ],
   "source": [
    "df_4"
   ]
  },
  {
   "cell_type": "markdown",
   "metadata": {},
   "source": [
    "Coding note:  The warning in my output refers to the k1_constant_value bounds on the kernel,\n",
    "which are hyperparameters used to constrain the search for the k1_constant value parameter\n",
    "of the optimal kernel.  My preliminary investigation shows that this value can't simply\n",
    "be changed by assignment to the array of kernel bounds (`kernel.k1.bounds`) when the kernel\n",
    "is created, so the  kernel class definition is  probably the place to go to change the bound (define a subclass of  `RBF`) but I am not at all sure that chasing this warning message is a good idea,\n",
    "or that it will affect performance in the slightest.  "
   ]
  },
  {
   "cell_type": "markdown",
   "metadata": {},
   "source": [
    "As far as average log marginal likelihood over the\n",
    "10 runs goes, `llm_a` is also the winner, and by quite a bit:"
   ]
  },
  {
   "cell_type": "code",
   "execution_count": 47,
   "metadata": {},
   "outputs": [
    {
     "data": {
      "text/plain": [
       "(-11.343278939940776, -8.054729668819624)"
      ]
     },
     "execution_count": 47,
     "metadata": {},
     "output_type": "execute_result"
    }
   ],
   "source": [
    "llm_i,llm_a"
   ]
  },
  {
   "cell_type": "code",
   "execution_count": null,
   "metadata": {},
   "outputs": [],
   "source": []
  }
 ],
 "metadata": {
  "kernelspec": {
   "display_name": "Python 3 (ipykernel)",
   "language": "python",
   "name": "python3"
  },
  "language_info": {
   "codemirror_mode": {
    "name": "ipython",
    "version": 3
   },
   "file_extension": ".py",
   "mimetype": "text/x-python",
   "name": "python",
   "nbconvert_exporter": "python",
   "pygments_lexer": "ipython3",
   "version": "3.10.6"
  },
  "toc": {
   "base_numbering": 1,
   "nav_menu": {
    "height": "171px",
    "width": "253px"
   },
   "number_sections": true,
   "sideBar": true,
   "skip_h1_title": false,
   "title_cell": "Table of Contents",
   "title_sidebar": "Contents",
   "toc_cell": false,
   "toc_position": {},
   "toc_section_display": "block",
   "toc_window_display": false
  }
 },
 "nbformat": 4,
 "nbformat_minor": 1
}
