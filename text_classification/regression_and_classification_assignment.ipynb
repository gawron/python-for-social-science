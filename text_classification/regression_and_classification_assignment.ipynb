{
 "cells": [
  {
   "cell_type": "markdown",
   "metadata": {},
   "source": [
    "# Regression and Classification Assignment\n",
    "\n",
    "This notebook uses the data discussed in regression_and_classification notebook.   You may want to review that if you\n",
    "have trouble with the assignment."
   ]
  },
  {
   "cell_type": "markdown",
   "metadata": {},
   "source": [
    "## 1. The data"
   ]
  },
  {
   "cell_type": "markdown",
   "metadata": {},
   "source": [
    "First we do some imports and load the data from the `sklearn` module."
   ]
  },
  {
   "cell_type": "code",
   "execution_count": 2,
   "metadata": {},
   "outputs": [],
   "source": [
    "from sklearn.datasets import load_iris\n",
    "from sklearn.metrics import accuracy_score\n",
    "from sklearn import linear_model\n",
    "import numpy as np\n",
    "\n",
    "\n",
    "data = load_iris()\n",
    "features = data['data']\n",
    "feature_names = data['feature_names']\n",
    "target = data['target']"
   ]
  },
  {
   "cell_type": "markdown",
   "metadata": {},
   "source": [
    "## 2.  The questions"
   ]
  },
  {
   "cell_type": "markdown",
   "metadata": {},
   "source": [
    "**Q1**\n",
    "\n",
    "Don't take my word for it that subsets of the 4 Iris features always produce a worse classifier.\n",
    "Try it out.\n",
    "\n",
    "Change the selector array in the next cell and execute the code\n",
    "in the cell to try out your own favorite subsets\n",
    "of features.  No subset of 2 or even 3 features performs as well as using all 4.\n",
    "\n",
    "For example, using this selector \n",
    "```\n",
    "selector = np.array([True,True,False,True])\n",
    "```\n",
    "\n",
    "leaves out just  the third feature.  Here's your challenge: Find the best 2-feature\n",
    "system (it performs almost as well as any 3-feature system), and the best\n",
    "3-feature system.  Hint for the 2-feature problem, if you want to get there more\n",
    "quickly.  Look at our plots of two-feature systems in the \"Plotting Attributes\" section of the regression_and_classification.ipynb notebook (Section 2).  Which one **looks**\n",
    "like it gives the best separation?"
   ]
  },
  {
   "cell_type": "code",
   "execution_count": 3,
   "metadata": {},
   "outputs": [
    {
     "data": {
      "text/plain": [
       "0.8333333333333334"
      ]
     },
     "execution_count": 3,
     "metadata": {},
     "output_type": "execute_result"
    }
   ],
   "source": [
    "#Use selected features\n",
    "selector = np.array([True,True,False,False])\n",
    "X = features[:,selector]\n",
    "#X = features\n",
    "Y = target\n",
    "logreg = linear_model.LogisticRegression(C=1e5, solver='lbfgs',multi_class='auto')\n",
    "logreg.fit(X, Y)\n",
    "\n",
    "#Tesing on training set.  Not usually done.\n",
    "predicted = logreg.predict(X)\n",
    "accuracy_score(Y,predicted)"
   ]
  },
  {
   "cell_type": "markdown",
   "metadata": {},
   "source": [
    "Example using variant models.  Easy to collect info."
   ]
  },
  {
   "cell_type": "code",
   "execution_count": 9,
   "metadata": {},
   "outputs": [
    {
     "data": {
      "text/plain": [
       "[0.9666666666666667,\n",
       " 0.9266666666666666,\n",
       " 0.9666666666666667,\n",
       " 0.9533333333333334]"
      ]
     },
     "execution_count": 9,
     "metadata": {},
     "output_type": "execute_result"
    }
   ],
   "source": [
    "from sklearn import svm, datasets\n",
    "\n",
    "#An SVM parameter, some others below.\n",
    "C=1.0\n",
    "\n",
    "# Cook up a tuple of mdoels to test (These are the models from the last\n",
    "# plot in the simple regression NB)\n",
    "\n",
    "models = (svm.SVC(kernel='linear', C=C),\n",
    "          svm.LinearSVC(C=C, max_iter=10000),\n",
    "          svm.SVC(kernel='rbf', gamma=0.7, C=C),\n",
    "          svm.SVC(kernel='poly', degree=3, gamma='auto', C=C))\n",
    "\n",
    "# train them Notice this is not a list comprehension but looks like one.\n",
    "models = (clf.fit(X, Y) for clf in models)\n",
    "\n",
    "#Testing on training set.  Not usually done.\n",
    "predicted = [model.predict(X) for model in models]\n",
    "accuracy = [accuracy_score(Y,prediction) for prediction in predicted]\n",
    "accuracy"
   ]
  },
  {
   "cell_type": "markdown",
   "metadata": {},
   "source": [
    "**Q2**\n",
    "\n",
    "In the regression_and_classification notebook, \n",
    "we implemented a function called `is_non_red` that is supposed to distinguish \n",
    "class 0 from classes 1 and 2.  Here is the definition and an example of using it\n",
    "on a row of the Iris dataset."
   ]
  },
  {
   "cell_type": "code",
   "execution_count": 4,
   "metadata": {},
   "outputs": [
    {
     "name": "stdout",
     "output_type": "stream",
     "text": [
      "P is in positive class: True\n"
     ]
    }
   ],
   "source": [
    "def is_non_red (P):\n",
    "    \"\"\"\n",
    "    P is a data point, all 4 attributes.\n",
    "    \n",
    "    Return True if P is in positive class.\n",
    "    \"\"\"\n",
    "    return (P[2] - .9*P[0] + 2) > 0\n",
    "\n",
    "P = features[-90]\n",
    "print('P is in positive class: {0}'.format(is_non_red(P)))"
   ]
  },
  {
   "cell_type": "markdown",
   "metadata": {},
   "source": [
    "We call such a function a model (a model of `non-redness`). Write some code to evaluate this model's accuracy \n",
    "in predicting non redness.  Before calling the `accuracy_score` function, \n",
    "you will have to compute `predicted` using `is_non_red` to give you an array of predictions\n",
    "\n",
    "\n",
    "To create a prediction array using `is_non_red`, apply it to every row\n",
    "of `features`:\n",
    "\n",
    "```\n",
    "np.apply_along_axis(is_non_red, axis=1, arr= features)\n",
    "```\n",
    "\n",
    "You will also have to evaluate accuracy against a different standard.\n",
    "You can't evaluate against the class array `target` defined above\n",
    "because that has three classes and `is_non_red` essentially works with two. \n",
    "You have to start by creating a different\n",
    "class array that only has two classes, matching the kind of results `is_non_red` produces.\n",
    "The red class is 0, so you want `True` for every class 1 or 2 iris, and\n",
    "`False` for every class 0 iris. For this, use a Boolean mask on `target`.\n",
    "\n",
    "Be sure to say what your final score **means**.  Did you you do very well\n",
    "or very badly?  Using scikit learn, compute a model you can compare this model to in order to know\n",
    "whether you did very well or very badly. "
   ]
  },
  {
   "cell_type": "code",
   "execution_count": 7,
   "metadata": {},
   "outputs": [
    {
     "data": {
      "text/plain": [
       "array([False, False, False, False, False, False, False, False, False,\n",
       "       False, False, False, False, False, False, False, False, False,\n",
       "       False, False, False, False, False, False, False, False, False,\n",
       "       False, False, False, False, False, False, False, False, False,\n",
       "       False, False, False, False, False, False, False, False, False,\n",
       "       False, False, False, False, False,  True,  True,  True,  True,\n",
       "        True,  True,  True,  True,  True,  True,  True,  True,  True,\n",
       "        True,  True,  True,  True,  True,  True,  True,  True,  True,\n",
       "        True,  True,  True,  True,  True,  True,  True,  True,  True,\n",
       "        True,  True,  True,  True,  True,  True,  True,  True,  True,\n",
       "        True,  True,  True,  True,  True,  True,  True,  True,  True,\n",
       "        True,  True,  True,  True,  True,  True,  True,  True,  True,\n",
       "        True,  True,  True,  True,  True,  True,  True,  True,  True,\n",
       "        True,  True,  True,  True,  True,  True,  True,  True,  True,\n",
       "        True,  True,  True,  True,  True,  True,  True,  True,  True,\n",
       "        True,  True,  True,  True,  True,  True,  True,  True,  True,\n",
       "        True,  True,  True,  True,  True,  True])"
      ]
     },
     "execution_count": 7,
     "metadata": {},
     "output_type": "execute_result"
    }
   ],
   "source": [
    "np.apply_along_axis(is_non_red, axis=1, arr= features)"
   ]
  },
  {
   "cell_type": "markdown",
   "metadata": {},
   "source": [
    "**Q3** \n",
    "\n",
    "Using the `rock vs. mines` data set loaded in the next cell, draw a scatterplot of the points like the ones we did in Section 2 and 3 of this tutorial for the iris data. \n",
    "You will find the code in Section 3 of the regression_and_classification notebook will require the least modification.\n",
    "This data set tries to distinguish two classes, rocks and mines, based on sonar readings.\n",
    "Note, as the loading code indicates, this data has 60 features, which is a lot, so you should\n",
    "just pick one pair of features out and plot them.  Crucially,\n",
    "you **don't** need to plot all pairs (there are 1770 pairs), even though\n",
    "with 60 features, you are unlikely to have much success using just two.\n",
    "\n",
    "When modifying the code to draw the picture, bear in mind you really only need to\n",
    "scatter the points.  You are not being asked to draw a separation line,\n",
    "and you don't need to draw our point P, because it doesn't appear in this data.\n",
    "You should try to give the points belonging to the two classes different colors\n",
    "and shapes, as was done above."
   ]
  },
  {
   "cell_type": "code",
   "execution_count": 14,
   "metadata": {},
   "outputs": [
    {
     "name": "stdout",
     "output_type": "stream",
     "text": [
      "208 exemplars with 61 features\n",
      "2 classes: ['R', 'M']\n"
     ]
    },
    {
     "name": "stderr",
     "output_type": "stream",
     "text": [
      "/var/folders/w9/bx4mylnd27g_kqqgn5hrn2x40000gr/T/ipykernel_67309/1236599120.py:7: FutureWarning: The prefix argument has been deprecated and will be removed in a future version. Use a list comprehension on the column names in the future.\n",
      "\n",
      "\n",
      "  mine_df = pd.read_csv(target_url, header=None, prefix=\"V\")\n"
     ]
    }
   ],
   "source": [
    "import pandas as pd\n",
    "\n",
    "target_url = (\"https://archive.ics.uci.edu/ml/machine-learning-\"\n",
    "\"databases/undocumented/connectionist-bench/sonar/sonar.all-data\")\n",
    "\n",
    "#read rocks mines data\n",
    "mine_df = pd.read_csv(target_url, header=None, prefix=\"V\")\n",
    "#mine_df = pd.read_csv(target_url, header=None)\n",
    "mine_features = mine_df.values\n",
    "(samp_sz, num_feats) = mine_features.shape\n",
    "print('{0} exemplars with {1} features'.format(samp_sz, num_feats))\n",
    "# The last column contains the class data.  Separate it from the others.\n",
    "target = mine_features[:, 60]\n",
    "# Everything else is a feature\n",
    "mine_features = mine_features[:, :60]\n",
    "(samp_sz, num_feats) = mine_features.shape\n",
    "\n",
    "# Find the two classes we're trying to separate.\n",
    "feat_set = list(set(target))\n",
    "print('{0} classes: {1}'.format(len(feat_set), feat_set))"
   ]
  },
  {
   "cell_type": "code",
   "execution_count": 13,
   "metadata": {},
   "outputs": [
    {
     "data": {
      "text/plain": [
       "[(0, 'o', 'r'), (1, 'x', 'g')]"
      ]
     },
     "execution_count": 13,
     "metadata": {},
     "output_type": "execute_result"
    }
   ],
   "source": [
    "markers,colors = 'ox','rg'\n",
    "list(zip(range(3),markers,colors))"
   ]
  },
  {
   "cell_type": "code",
   "execution_count": 15,
   "metadata": {},
   "outputs": [
    {
     "data": {
      "text/plain": [
       "array([], dtype=object)"
      ]
     },
     "execution_count": 15,
     "metadata": {},
     "output_type": "execute_result"
    }
   ],
   "source": [
    "mine_features[target==0,0]"
   ]
  },
  {
   "cell_type": "code",
   "execution_count": 16,
   "metadata": {},
   "outputs": [
    {
     "data": {
      "text/plain": [
       "[0, 1, 2]"
      ]
     },
     "execution_count": 16,
     "metadata": {},
     "output_type": "execute_result"
    }
   ],
   "source": [
    "list(range(3))"
   ]
  },
  {
   "cell_type": "markdown",
   "metadata": {},
   "source": [
    "**Q4**\n",
    "\n",
    "Combining variables: Cheap non-linearity"
   ]
  },
  {
   "cell_type": "markdown",
   "metadata": {},
   "source": [
    "The [Heidelberg stat-center](http://www.statlab.uni-heidelberg.de/data/iris/) reports a very nice result obtained by combining\n",
    "the 2 petal features and the  2 sepal features by multiplication.  We end up with 2 **area** features, and a system that's almost as good as a 4-feature linear system,\n",
    "at the cost of a little non-linearity (the multiplication). Here's the computation,\n",
    "and the picture, both of which are very simple.  \n",
    "\n",
    "Notice what the picture is telling us:  Petal area alone\n",
    "is enough to almost perfectly perform the discrimination.  And the insight can easily be made visual."
   ]
  },
  {
   "cell_type": "code",
   "execution_count": 11,
   "metadata": {},
   "outputs": [
    {
     "data": {
      "text/plain": [
       "Text(0, 0.5, 'petal area')"
      ]
     },
     "execution_count": 11,
     "metadata": {},
     "output_type": "execute_result"
    },
    {
     "data": {
      "image/png": "[encoded data removed]",
      "text/plain": [
       "<Figure size 432x288 with 1 Axes>"
      ]
     },
     "metadata": {
      "needs_background": "light"
     },
     "output_type": "display_data"
    }
   ],
   "source": [
    "from sklearn.datasets import load_iris\n",
    "from sklearn.metrics import accuracy_score\n",
    "import numpy as np\n",
    "from matplotlib import pyplot as plt\n",
    "\n",
    "data = load_iris()\n",
    "features = data['data']\n",
    "feature_names = data['feature_names']\n",
    "target = data['target']\n",
    "sepal_area = features[:,0] * features[:,1]\n",
    "petal_area = features[:,2] * features[:,3]\n",
    "\n",
    "for t,marker,c in zip(list(range(3)),\">ox\",\"rgb\"):\n",
    "    plt.scatter(sepal_area[target == t], petal_area[target == t], marker=marker, c=c,s=60) \n",
    "\n",
    "# Let's draw our point P with extra special attention getting large SIZE.\n",
    "p_sepal_area,p_petal_area,p_target  = sepal_area[-90],petal_area[-90],target[-90]\n",
    "marker,clr = \">ox\"[p_target], \"rgb\"[p_target]\n",
    "plt.scatter(p_sepal_area,p_petal_area,marker=marker,c=clr,s=180)\n",
    "\n",
    "# Let;s draw some linear separators, horizontal lines in this case\n",
    "plt.plot(np.arange(0.,40.),np.array([1.8]*40))\n",
    "plt.plot(np.arange(0.,40.),np.array([7.4]*40))\n",
    "plt.axis('tight')\n",
    "plt.xlabel('sepal area')\n",
    "plt.ylabel('petal area')"
   ]
  },
  {
   "cell_type": "markdown",
   "metadata": {},
   "source": [
    "**Q4: Part A** \n",
    "\n",
    "Validate what the picture is telling you by training and evaluating a `linear_model.LogisticRegression` \n",
    "classifier that uses **only** the petal area feature.  \n",
    "\n",
    "You can define values for `petal_area` feature by evaluating the cell.  Your\n",
    "answer should be a few lines of code.  The last line should print out the\n",
    "accuracy score for your classifier."
   ]
  },
  {
   "cell_type": "markdown",
   "metadata": {},
   "source": [
    "**Q4: Part B** \n",
    "\n",
    "Train and evaluate a `linear_model.LogisticRegression` \n",
    "classifier that uses **both** the petal area feature and the sepal area feature.  \n",
    "Guidelines as with the last problem.\n"
   ]
  },
  {
   "cell_type": "markdown",
   "metadata": {
    "collapsed": true
   },
   "source": [
    "**Q4 Part C**\n",
    "\n",
    "Train and evaluate a `linear_model.LogisticRegression` \n",
    "classifier that uses both  area features **as well as** the original 4 features.\n",
    "Does this do better than a classifier trained on the original 4 features?\n"
   ]
  },
  {
   "cell_type": "markdown",
   "metadata": {},
   "source": [
    "**Q5 Paret D**\n",
    "\n",
    "Another model"
   ]
  },
  {
   "cell_type": "code",
   "execution_count": 29,
   "metadata": {},
   "outputs": [],
   "source": [
    "from sklearn.preprocessing import PolynomialFeatures\n",
    "\n",
    "pf = PolynomialFeatures(interaction_only=True)\n",
    "newX = pf.fit_transform(X)"
   ]
  },
  {
   "cell_type": "code",
   "execution_count": 45,
   "metadata": {},
   "outputs": [
    {
     "data": {
      "text/plain": [
       "(150, 11)"
      ]
     },
     "execution_count": 45,
     "metadata": {},
     "output_type": "execute_result"
    }
   ],
   "source": [
    "newX.shape"
   ]
  },
  {
   "cell_type": "code",
   "execution_count": 31,
   "metadata": {},
   "outputs": [
    {
     "name": "stdout",
     "output_type": "stream",
     "text": [
      "0.9866666666666667\n"
     ]
    },
    {
     "data": {
      "text/plain": [
       "array([[0.8642827 , 0.02606094, 0.10965636],\n",
       "       [0.80255308, 0.06036089, 0.13708603]])"
      ]
     },
     "execution_count": 31,
     "metadata": {},
     "output_type": "execute_result"
    }
   ],
   "source": [
    "from sklearn.datasets import load_iris\n",
    "from sklearn.gaussian_process import GaussianProcessClassifier\n",
    "from sklearn.gaussian_process.kernels import RBF\n",
    "X, y = load_iris(return_X_y=True)\n",
    "\n",
    "kernel = 1.0 * RBF(1.0)\n",
    "gpc = GaussianProcessClassifier(kernel=kernel,\n",
    "                                random_state=0).fit(newX, y)\n",
    "print(gpc.score(newX, y))\n",
    "gpc.predict_proba(newX[:2,:])\n",
    "#array([[0.8354..., 0.03228..., 0.1322...],\n",
    "#       [0.7906..., 0.0652..., 0.1441...]])"
   ]
  },
  {
   "cell_type": "code",
   "execution_count": 32,
   "metadata": {},
   "outputs": [
    {
     "data": {
      "text/plain": [
       "0.7478708957031095"
      ]
     },
     "execution_count": 32,
     "metadata": {},
     "output_type": "execute_result"
    }
   ],
   "source": [
    "pc = gpc.predict_proba(newX)\n",
    "pc.max(axis=1).mean()"
   ]
  },
  {
   "cell_type": "code",
   "execution_count": 28,
   "metadata": {},
   "outputs": [
    {
     "data": {
      "text/plain": [
       "0.7568465696129202"
      ]
     },
     "execution_count": 28,
     "metadata": {},
     "output_type": "execute_result"
    }
   ],
   "source": [
    "pc = gpc.predict_proba(X)\n",
    "pc.max(axis=1).mean()"
   ]
  },
  {
   "cell_type": "code",
   "execution_count": 33,
   "metadata": {},
   "outputs": [],
   "source": [
    "#y_predicted_fg = gpc.predict(X)\n",
    "y_predicted_poly = gpc.predict(newX)"
   ]
  },
  {
   "cell_type": "code",
   "execution_count": 39,
   "metadata": {},
   "outputs": [],
   "source": [
    "from sklearn.metrics import recall_score\n",
    "from sklearn.metrics import precision_score\n",
    "\n",
    "recall_poly = recall_score(y,y_predicted_poly,average=\"micro\")\n",
    "recall_fg = recall_score(y,y_predicted_fg,average=\"micro\")"
   ]
  },
  {
   "cell_type": "code",
   "execution_count": 40,
   "metadata": {},
   "outputs": [
    {
     "data": {
      "text/plain": [
       "0.9866666666666667"
      ]
     },
     "execution_count": 40,
     "metadata": {},
     "output_type": "execute_result"
    }
   ],
   "source": [
    "recall_poly"
   ]
  },
  {
   "cell_type": "code",
   "execution_count": 41,
   "metadata": {},
   "outputs": [
    {
     "data": {
      "text/plain": [
       "0.9866666666666667"
      ]
     },
     "execution_count": 41,
     "metadata": {},
     "output_type": "execute_result"
    }
   ],
   "source": [
    "recall_fg"
   ]
  },
  {
   "cell_type": "code",
   "execution_count": 42,
   "metadata": {},
   "outputs": [],
   "source": [
    "precision_poly = precision_score(y,y_predicted_poly,average=\"micro\")\n",
    "precision_fg = precision_score(y,y_predicted_fg,average=\"micro\")"
   ]
  },
  {
   "cell_type": "code",
   "execution_count": null,
   "metadata": {},
   "outputs": [],
   "source": []
  }
 ],
 "metadata": {
  "kernelspec": {
   "display_name": "Python 3 (ipykernel)",
   "language": "python",
   "name": "python3"
  },
  "language_info": {
   "codemirror_mode": {
    "name": "ipython",
    "version": 3
   },
   "file_extension": ".py",
   "mimetype": "text/x-python",
   "name": "python",
   "nbconvert_exporter": "python",
   "pygments_lexer": "ipython3",
   "version": "3.10.6"
  },
  "toc": {
   "base_numbering": 1,
   "nav_menu": {
    "height": "171px",
    "width": "253px"
   },
   "number_sections": true,
   "sideBar": true,
   "skip_h1_title": false,
   "title_cell": "Table of Contents",
   "title_sidebar": "Contents",
   "toc_cell": false,
   "toc_position": {},
   "toc_section_display": "block",
   "toc_window_display": false
  }
 },
 "nbformat": 4,
 "nbformat_minor": 1
}
