{
 "cells": [
  {
   "cell_type": "markdown",
   "metadata": {
    "id": "PsEcJV5CI9SL"
   },
   "source": [
    "# Setup"
   ]
  },
  {
   "cell_type": "markdown",
   "metadata": {
    "id": "fTzJg6SxI9SL"
   },
   "source": [
    "First, let's import a few common modules, ensure MatplotLib plots figures inline and prepare a function to save the figures:"
   ]
  },
  {
   "cell_type": "code",
   "execution_count": 4,
   "metadata": {
    "id": "cEEpMjsuI9SM"
   },
   "outputs": [],
   "source": [
    "%matplotlib inline\n",
    "\n",
    "# Numpy\n",
    "import numpy as np\n",
    "import numpy.random as rnd\n",
    "\n",
    "#  Pandas\n",
    "import pandas as pd\n",
    "\n",
    "# Scikit learn imports for this NB (regression tools,linear and nonlinear)\n",
    "from sklearn import preprocessing\n",
    "from sklearn import pipeline\n",
    "from sklearn import linear_model\n",
    "from sklearn.metrics import mean_squared_error, r2_score\n",
    "\n",
    "#  Basic python modules\n",
    "import os\n",
    "import requests\n",
    "import codecs\n",
    "import io\n",
    "\n",
    "# to make this notebook's output stable across runs\n",
    "rnd.seed(42)\n",
    "\n",
    "# To plot pretty figure\n",
    "\n",
    "import matplotlib\n",
    "import matplotlib.pyplot as plt\n",
    "plt.rcParams['axes.labelsize'] = 14\n",
    "plt.rcParams['xtick.labelsize'] = 12\n",
    "plt.rcParams['ytick.labelsize'] = 12\n",
    "\n",
    "def url_to_content (url,encoding='utf-8',bufferize=False):\n",
    "    r = requests.get(url)\n",
    "    content_raw = r.content\n",
    "    # Content downloaded by request is a byte string.  We're pretty sure this one has this encoding\n",
    "    content = codecs.decode(content_raw,encoding=encoding)\n",
    "    if bufferize:\n",
    "        return io.StringIO(content)\n",
    "    else:\n",
    "        return content"
   ]
  },
  {
   "cell_type": "markdown",
   "metadata": {
    "id": "RJ3c9yfTI9SN"
   },
   "source": [
    "# Load and prepare Life satisfaction data"
   ]
  },
  {
   "cell_type": "markdown",
   "metadata": {
    "id": "cVegC2c3I9SO"
   },
   "source": [
    "Before starting this exercise you should create a folder called `datasets` in the folder where this notebook is stored.  We will be placing various data files in that folder, and the code below is written so as to look there.  We will be making various subfolders in the `datasets` folder, and if you want, you can start by \n",
    "creating the first one right away. It's called `lifesat`.\n"
   ]
  },
  {
   "cell_type": "markdown",
   "metadata": {
    "id": "iEffs0FEI9SO"
   },
   "source": [
    "The **Organization for Economic Cooperation and Development** (OECD) stats website  contains all kinds if economic statistics on countries in downloadable form, in particular in a very popular stripped-down spreadsheet format call \".csv\" (for comma-separated values).  You will get a local copy.  The particular dataset we want is  the BLI data (\"Better Life Index\").  "
   ]
  },
  {
   "cell_type": "code",
   "execution_count": 5,
   "metadata": {
    "colab": {
     "base_uri": "https://localhost:8080/",
     "height": 341
    },
    "id": "IU6foSJjI9SS",
    "outputId": "ee4475e2-0e40-40c7-d594-a2077647f26e"
   },
   "outputs": [
    {
     "name": "stdout",
     "output_type": "stream",
     "text": [
      "3292\n",
      "888\n"
     ]
    }
   ],
   "source": [
    "\n",
    "\n",
    "notebook_lifesat_url0 = 'https://github.com/gawron/python-for-social-science/blob/master/pandas/datasets/lifesat/'\n",
    "lifesat_url = notebook_lifesat_url0.replace('github', 'raw.githubusercontent')\n",
    "lifesat_url = lifesat_url.replace('blob/','')\n",
    "\n",
    "def load_lifesat_data (lifesat_url):\n",
    "    oecd_file = 'oecd_bli_2015.csv'\n",
    "    oecd_url= f'{lifesat_url}{oecd_file}'\n",
    "    return pd.read_csv(oecd_url, thousands=',',encoding='utf-8')\n",
    "\n",
    "oecd_bli = load_lifesat_data(lifesat_url)\n",
    "print(len(oecd_bli))\n",
    "oecd_bli = oecd_bli[oecd_bli[\"INEQUALITY\"]==\"TOT\"]\n",
    "print(len(oecd_bli))\n",
    "oecd_bli = oecd_bli.pivot(index=\"Country\", columns=\"Indicator\", values=\"Value\")"
   ]
  },
  {
   "cell_type": "code",
   "execution_count": 6,
   "metadata": {},
   "outputs": [
    {
     "data": {
      "text/plain": [
       "Index(['Air pollution', 'Assault rate', 'Consultation on rule-making',\n",
       "       'Dwellings without basic facilities', 'Educational attainment',\n",
       "       'Employees working very long hours', 'Employment rate', 'Homicide rate',\n",
       "       'Household net adjusted disposable income',\n",
       "       'Household net financial wealth', 'Housing expenditure', 'Job security',\n",
       "       'Life expectancy', 'Life satisfaction', 'Long-term unemployment rate',\n",
       "       'Personal earnings', 'Quality of support network', 'Rooms per person',\n",
       "       'Self-reported health', 'Student skills',\n",
       "       'Time devoted to leisure and personal care', 'Voter turnout',\n",
       "       'Water quality', 'Years in education'],\n",
       "      dtype='object', name='Indicator')"
      ]
     },
     "execution_count": 6,
     "metadata": {},
     "output_type": "execute_result"
    }
   ],
   "source": [
    "oecd_bli.columns"
   ]
  },
  {
   "cell_type": "markdown",
   "metadata": {
    "id": "WJp3UXqoI9SQ"
   },
   "source": [
    "In the next cell we go through exactly the same processing steps we discussed for the data in the pandas module introduction part II notebook. To review the data, and the motivations for these steps,\n",
    "please visit that notebook."
   ]
  },
  {
   "cell_type": "markdown",
   "metadata": {
    "id": "GNbULuZ_I9ST"
   },
   "source": [
    "In the exercise ahead, we're going to take particular interest in the `Life satisfaction` score,  a kind of general \"quality of life\" or \"happiness\" score computed from a formula combining many of the indicators in this data. \n",
    "\n",
    ">Since 2002, the World Happiness Report has used statistical analysis to determine the world's happiest countries. In its 2021 update, the report concluded that Finland is the happiest country in the world. To determine the world's happiest country, researchers analyzed comprehensive Gallup polling data from 149 countries for the past three years, specifically monitoring performance in six particular categories: gross domestic product per capita, social support, healthy life expectancy, freedom to make your own life choices, generosity of the general population, and perceptions of internal and external corruption levels."
   ]
  },
  {
   "cell_type": "markdown",
   "metadata": {
    "id": "P93cA5jeI9ST"
   },
   "source": [
    "# Load, prepare, and merge the GDP per capita data"
   ]
  },
  {
   "cell_type": "markdown",
   "metadata": {
    "id": "Ru2QFmeeI9SU"
   },
   "source": [
    "Elsewhere, on the world wide web, with help from Google, we find data about GDP  (\"gross domestic product\")\n",
    "[here](http://goo.gl/j1MSKe).  Hit the download butten and place another csv file in the same\n",
    "directory as the last data."
   ]
  },
  {
   "cell_type": "code",
   "execution_count": 7,
   "metadata": {
    "colab": {
     "base_uri": "https://localhost:8080/",
     "height": 1000
    },
    "id": "W7-Xo3DLI9SU",
    "outputId": "50f5243e-b6ce-4327-91b9-5760c225db63"
   },
   "outputs": [],
   "source": [
    "# Downloaded data from http://goo.gl/j1MSKe (=> imf.org) to github\n",
    "def load_gdp_data ():\n",
    "    gdp_file = \"gdp_per_capita.csv\"\n",
    "    gdp_url = f'{lifesat_url}{gdp_file}'\n",
    "    return pd.read_csv(gdp_url, thousands=',', delimiter='\\t',\n",
    "                                 encoding='latin1', na_values=\"n/a\")\n",
    "    \n",
    "gdp_per_capita = load_gdp_data()"
   ]
  },
  {
   "cell_type": "code",
   "execution_count": 8,
   "metadata": {
    "colab": {
     "base_uri": "https://localhost:8080/",
     "height": 1000
    },
    "id": "W7-Xo3DLI9SU",
    "outputId": "50f5243e-b6ce-4327-91b9-5760c225db63",
    "scrolled": true
   },
   "outputs": [
    {
     "data": {
      "text/html": [
       "<div>\n",
       "<style scoped>\n",
       "    .dataframe tbody tr th:only-of-type {\n",
       "        vertical-align: middle;\n",
       "    }\n",
       "\n",
       "    .dataframe tbody tr th {\n",
       "        vertical-align: top;\n",
       "    }\n",
       "\n",
       "    .dataframe thead th {\n",
       "        text-align: right;\n",
       "    }\n",
       "</style>\n",
       "<table border=\"1\" class=\"dataframe\">\n",
       "  <thead>\n",
       "    <tr style=\"text-align: right;\">\n",
       "      <th></th>\n",
       "      <th>Air pollution</th>\n",
       "      <th>Assault rate</th>\n",
       "      <th>Consultation on rule-making</th>\n",
       "      <th>Dwellings without basic facilities</th>\n",
       "      <th>Educational attainment</th>\n",
       "      <th>Employees working very long hours</th>\n",
       "      <th>Employment rate</th>\n",
       "      <th>Homicide rate</th>\n",
       "      <th>Household net adjusted disposable income</th>\n",
       "      <th>Household net financial wealth</th>\n",
       "      <th>...</th>\n",
       "      <th>Time devoted to leisure and personal care</th>\n",
       "      <th>Voter turnout</th>\n",
       "      <th>Water quality</th>\n",
       "      <th>Years in education</th>\n",
       "      <th>Subject Descriptor</th>\n",
       "      <th>Units</th>\n",
       "      <th>Scale</th>\n",
       "      <th>Country/Series-specific Notes</th>\n",
       "      <th>GDP per capita</th>\n",
       "      <th>Estimates Start After</th>\n",
       "    </tr>\n",
       "    <tr>\n",
       "      <th>Country</th>\n",
       "      <th></th>\n",
       "      <th></th>\n",
       "      <th></th>\n",
       "      <th></th>\n",
       "      <th></th>\n",
       "      <th></th>\n",
       "      <th></th>\n",
       "      <th></th>\n",
       "      <th></th>\n",
       "      <th></th>\n",
       "      <th></th>\n",
       "      <th></th>\n",
       "      <th></th>\n",
       "      <th></th>\n",
       "      <th></th>\n",
       "      <th></th>\n",
       "      <th></th>\n",
       "      <th></th>\n",
       "      <th></th>\n",
       "      <th></th>\n",
       "      <th></th>\n",
       "    </tr>\n",
       "  </thead>\n",
       "  <tbody>\n",
       "    <tr>\n",
       "      <th>Brazil</th>\n",
       "      <td>18.0</td>\n",
       "      <td>7.9</td>\n",
       "      <td>4.0</td>\n",
       "      <td>6.7</td>\n",
       "      <td>45.0</td>\n",
       "      <td>10.41</td>\n",
       "      <td>67.0</td>\n",
       "      <td>25.5</td>\n",
       "      <td>11664.0</td>\n",
       "      <td>6844.0</td>\n",
       "      <td>...</td>\n",
       "      <td>14.97</td>\n",
       "      <td>79.0</td>\n",
       "      <td>72.0</td>\n",
       "      <td>16.3</td>\n",
       "      <td>Gross domestic product per capita, current prices</td>\n",
       "      <td>U.S. dollars</td>\n",
       "      <td>Units</td>\n",
       "      <td>See notes for:  Gross domestic product, curren...</td>\n",
       "      <td>8669.998</td>\n",
       "      <td>2014.0</td>\n",
       "    </tr>\n",
       "    <tr>\n",
       "      <th>Mexico</th>\n",
       "      <td>30.0</td>\n",
       "      <td>12.8</td>\n",
       "      <td>9.0</td>\n",
       "      <td>4.2</td>\n",
       "      <td>37.0</td>\n",
       "      <td>28.83</td>\n",
       "      <td>61.0</td>\n",
       "      <td>23.4</td>\n",
       "      <td>13085.0</td>\n",
       "      <td>9056.0</td>\n",
       "      <td>...</td>\n",
       "      <td>13.89</td>\n",
       "      <td>63.0</td>\n",
       "      <td>67.0</td>\n",
       "      <td>14.4</td>\n",
       "      <td>Gross domestic product per capita, current prices</td>\n",
       "      <td>U.S. dollars</td>\n",
       "      <td>Units</td>\n",
       "      <td>See notes for:  Gross domestic product, curren...</td>\n",
       "      <td>9009.280</td>\n",
       "      <td>2015.0</td>\n",
       "    </tr>\n",
       "    <tr>\n",
       "      <th>Russia</th>\n",
       "      <td>15.0</td>\n",
       "      <td>3.8</td>\n",
       "      <td>2.5</td>\n",
       "      <td>15.1</td>\n",
       "      <td>94.0</td>\n",
       "      <td>0.16</td>\n",
       "      <td>69.0</td>\n",
       "      <td>12.8</td>\n",
       "      <td>19292.0</td>\n",
       "      <td>3412.0</td>\n",
       "      <td>...</td>\n",
       "      <td>14.97</td>\n",
       "      <td>65.0</td>\n",
       "      <td>56.0</td>\n",
       "      <td>16.0</td>\n",
       "      <td>Gross domestic product per capita, current prices</td>\n",
       "      <td>U.S. dollars</td>\n",
       "      <td>Units</td>\n",
       "      <td>See notes for:  Gross domestic product, curren...</td>\n",
       "      <td>9054.914</td>\n",
       "      <td>2015.0</td>\n",
       "    </tr>\n",
       "    <tr>\n",
       "      <th>Turkey</th>\n",
       "      <td>35.0</td>\n",
       "      <td>5.0</td>\n",
       "      <td>5.5</td>\n",
       "      <td>12.7</td>\n",
       "      <td>34.0</td>\n",
       "      <td>40.86</td>\n",
       "      <td>50.0</td>\n",
       "      <td>1.2</td>\n",
       "      <td>14095.0</td>\n",
       "      <td>3251.0</td>\n",
       "      <td>...</td>\n",
       "      <td>13.42</td>\n",
       "      <td>88.0</td>\n",
       "      <td>62.0</td>\n",
       "      <td>16.4</td>\n",
       "      <td>Gross domestic product per capita, current prices</td>\n",
       "      <td>U.S. dollars</td>\n",
       "      <td>Units</td>\n",
       "      <td>See notes for:  Gross domestic product, curren...</td>\n",
       "      <td>9437.372</td>\n",
       "      <td>2013.0</td>\n",
       "    </tr>\n",
       "    <tr>\n",
       "      <th>Hungary</th>\n",
       "      <td>15.0</td>\n",
       "      <td>3.6</td>\n",
       "      <td>7.9</td>\n",
       "      <td>4.8</td>\n",
       "      <td>82.0</td>\n",
       "      <td>3.19</td>\n",
       "      <td>58.0</td>\n",
       "      <td>1.3</td>\n",
       "      <td>15442.0</td>\n",
       "      <td>13277.0</td>\n",
       "      <td>...</td>\n",
       "      <td>15.04</td>\n",
       "      <td>62.0</td>\n",
       "      <td>77.0</td>\n",
       "      <td>17.6</td>\n",
       "      <td>Gross domestic product per capita, current prices</td>\n",
       "      <td>U.S. dollars</td>\n",
       "      <td>Units</td>\n",
       "      <td>See notes for:  Gross domestic product, curren...</td>\n",
       "      <td>12239.894</td>\n",
       "      <td>2015.0</td>\n",
       "    </tr>\n",
       "    <tr>\n",
       "      <th>Poland</th>\n",
       "      <td>33.0</td>\n",
       "      <td>1.4</td>\n",
       "      <td>10.8</td>\n",
       "      <td>3.2</td>\n",
       "      <td>90.0</td>\n",
       "      <td>7.41</td>\n",
       "      <td>60.0</td>\n",
       "      <td>0.9</td>\n",
       "      <td>17852.0</td>\n",
       "      <td>10919.0</td>\n",
       "      <td>...</td>\n",
       "      <td>14.20</td>\n",
       "      <td>55.0</td>\n",
       "      <td>79.0</td>\n",
       "      <td>18.4</td>\n",
       "      <td>Gross domestic product per capita, current prices</td>\n",
       "      <td>U.S. dollars</td>\n",
       "      <td>Units</td>\n",
       "      <td>See notes for:  Gross domestic product, curren...</td>\n",
       "      <td>12495.334</td>\n",
       "      <td>2014.0</td>\n",
       "    </tr>\n",
       "    <tr>\n",
       "      <th>Chile</th>\n",
       "      <td>46.0</td>\n",
       "      <td>6.9</td>\n",
       "      <td>2.0</td>\n",
       "      <td>9.4</td>\n",
       "      <td>57.0</td>\n",
       "      <td>15.42</td>\n",
       "      <td>62.0</td>\n",
       "      <td>4.4</td>\n",
       "      <td>14533.0</td>\n",
       "      <td>17733.0</td>\n",
       "      <td>...</td>\n",
       "      <td>14.41</td>\n",
       "      <td>49.0</td>\n",
       "      <td>73.0</td>\n",
       "      <td>16.5</td>\n",
       "      <td>Gross domestic product per capita, current prices</td>\n",
       "      <td>U.S. dollars</td>\n",
       "      <td>Units</td>\n",
       "      <td>See notes for:  Gross domestic product, curren...</td>\n",
       "      <td>13340.905</td>\n",
       "      <td>2014.0</td>\n",
       "    </tr>\n",
       "    <tr>\n",
       "      <th>Slovak Republic</th>\n",
       "      <td>13.0</td>\n",
       "      <td>3.0</td>\n",
       "      <td>6.6</td>\n",
       "      <td>0.6</td>\n",
       "      <td>92.0</td>\n",
       "      <td>7.02</td>\n",
       "      <td>60.0</td>\n",
       "      <td>1.2</td>\n",
       "      <td>17503.0</td>\n",
       "      <td>8663.0</td>\n",
       "      <td>...</td>\n",
       "      <td>14.99</td>\n",
       "      <td>59.0</td>\n",
       "      <td>81.0</td>\n",
       "      <td>16.3</td>\n",
       "      <td>Gross domestic product per capita, current prices</td>\n",
       "      <td>U.S. dollars</td>\n",
       "      <td>Units</td>\n",
       "      <td>See notes for:  Gross domestic product, curren...</td>\n",
       "      <td>15991.736</td>\n",
       "      <td>2015.0</td>\n",
       "    </tr>\n",
       "    <tr>\n",
       "      <th>Czech Republic</th>\n",
       "      <td>16.0</td>\n",
       "      <td>2.8</td>\n",
       "      <td>6.8</td>\n",
       "      <td>0.9</td>\n",
       "      <td>92.0</td>\n",
       "      <td>6.98</td>\n",
       "      <td>68.0</td>\n",
       "      <td>0.8</td>\n",
       "      <td>18404.0</td>\n",
       "      <td>17299.0</td>\n",
       "      <td>...</td>\n",
       "      <td>14.98</td>\n",
       "      <td>59.0</td>\n",
       "      <td>85.0</td>\n",
       "      <td>18.1</td>\n",
       "      <td>Gross domestic product per capita, current prices</td>\n",
       "      <td>U.S. dollars</td>\n",
       "      <td>Units</td>\n",
       "      <td>See notes for:  Gross domestic product, curren...</td>\n",
       "      <td>17256.918</td>\n",
       "      <td>2015.0</td>\n",
       "    </tr>\n",
       "    <tr>\n",
       "      <th>Estonia</th>\n",
       "      <td>9.0</td>\n",
       "      <td>5.5</td>\n",
       "      <td>3.3</td>\n",
       "      <td>8.1</td>\n",
       "      <td>90.0</td>\n",
       "      <td>3.30</td>\n",
       "      <td>68.0</td>\n",
       "      <td>4.8</td>\n",
       "      <td>15167.0</td>\n",
       "      <td>7680.0</td>\n",
       "      <td>...</td>\n",
       "      <td>14.90</td>\n",
       "      <td>64.0</td>\n",
       "      <td>79.0</td>\n",
       "      <td>17.5</td>\n",
       "      <td>Gross domestic product per capita, current prices</td>\n",
       "      <td>U.S. dollars</td>\n",
       "      <td>Units</td>\n",
       "      <td>See notes for:  Gross domestic product, curren...</td>\n",
       "      <td>17288.083</td>\n",
       "      <td>2014.0</td>\n",
       "    </tr>\n",
       "    <tr>\n",
       "      <th>Greece</th>\n",
       "      <td>27.0</td>\n",
       "      <td>3.7</td>\n",
       "      <td>6.5</td>\n",
       "      <td>0.7</td>\n",
       "      <td>68.0</td>\n",
       "      <td>6.16</td>\n",
       "      <td>49.0</td>\n",
       "      <td>1.6</td>\n",
       "      <td>18575.0</td>\n",
       "      <td>14579.0</td>\n",
       "      <td>...</td>\n",
       "      <td>14.91</td>\n",
       "      <td>64.0</td>\n",
       "      <td>69.0</td>\n",
       "      <td>18.6</td>\n",
       "      <td>Gross domestic product per capita, current prices</td>\n",
       "      <td>U.S. dollars</td>\n",
       "      <td>Units</td>\n",
       "      <td>See notes for:  Gross domestic product, curren...</td>\n",
       "      <td>18064.288</td>\n",
       "      <td>2014.0</td>\n",
       "    </tr>\n",
       "    <tr>\n",
       "      <th>Portugal</th>\n",
       "      <td>18.0</td>\n",
       "      <td>5.7</td>\n",
       "      <td>6.5</td>\n",
       "      <td>0.9</td>\n",
       "      <td>38.0</td>\n",
       "      <td>9.62</td>\n",
       "      <td>61.0</td>\n",
       "      <td>1.1</td>\n",
       "      <td>20086.0</td>\n",
       "      <td>31245.0</td>\n",
       "      <td>...</td>\n",
       "      <td>14.95</td>\n",
       "      <td>58.0</td>\n",
       "      <td>86.0</td>\n",
       "      <td>17.6</td>\n",
       "      <td>Gross domestic product per capita, current prices</td>\n",
       "      <td>U.S. dollars</td>\n",
       "      <td>Units</td>\n",
       "      <td>See notes for:  Gross domestic product, curren...</td>\n",
       "      <td>19121.592</td>\n",
       "      <td>2014.0</td>\n",
       "    </tr>\n",
       "    <tr>\n",
       "      <th>Slovenia</th>\n",
       "      <td>26.0</td>\n",
       "      <td>3.9</td>\n",
       "      <td>10.3</td>\n",
       "      <td>0.5</td>\n",
       "      <td>85.0</td>\n",
       "      <td>5.63</td>\n",
       "      <td>63.0</td>\n",
       "      <td>0.4</td>\n",
       "      <td>19326.0</td>\n",
       "      <td>18465.0</td>\n",
       "      <td>...</td>\n",
       "      <td>14.62</td>\n",
       "      <td>52.0</td>\n",
       "      <td>88.0</td>\n",
       "      <td>18.4</td>\n",
       "      <td>Gross domestic product per capita, current prices</td>\n",
       "      <td>U.S. dollars</td>\n",
       "      <td>Units</td>\n",
       "      <td>See notes for:  Gross domestic product, curren...</td>\n",
       "      <td>20732.482</td>\n",
       "      <td>2015.0</td>\n",
       "    </tr>\n",
       "    <tr>\n",
       "      <th>Spain</th>\n",
       "      <td>24.0</td>\n",
       "      <td>4.2</td>\n",
       "      <td>7.3</td>\n",
       "      <td>0.1</td>\n",
       "      <td>55.0</td>\n",
       "      <td>5.89</td>\n",
       "      <td>56.0</td>\n",
       "      <td>0.6</td>\n",
       "      <td>22477.0</td>\n",
       "      <td>24774.0</td>\n",
       "      <td>...</td>\n",
       "      <td>16.06</td>\n",
       "      <td>69.0</td>\n",
       "      <td>71.0</td>\n",
       "      <td>17.6</td>\n",
       "      <td>Gross domestic product per capita, current prices</td>\n",
       "      <td>U.S. dollars</td>\n",
       "      <td>Units</td>\n",
       "      <td>See notes for:  Gross domestic product, curren...</td>\n",
       "      <td>25864.721</td>\n",
       "      <td>2014.0</td>\n",
       "    </tr>\n",
       "    <tr>\n",
       "      <th>Korea</th>\n",
       "      <td>30.0</td>\n",
       "      <td>2.1</td>\n",
       "      <td>10.4</td>\n",
       "      <td>4.2</td>\n",
       "      <td>82.0</td>\n",
       "      <td>18.72</td>\n",
       "      <td>64.0</td>\n",
       "      <td>1.1</td>\n",
       "      <td>19510.0</td>\n",
       "      <td>29091.0</td>\n",
       "      <td>...</td>\n",
       "      <td>14.63</td>\n",
       "      <td>76.0</td>\n",
       "      <td>78.0</td>\n",
       "      <td>17.5</td>\n",
       "      <td>Gross domestic product per capita, current prices</td>\n",
       "      <td>U.S. dollars</td>\n",
       "      <td>Units</td>\n",
       "      <td>See notes for:  Gross domestic product, curren...</td>\n",
       "      <td>27195.197</td>\n",
       "      <td>2014.0</td>\n",
       "    </tr>\n",
       "    <tr>\n",
       "      <th>Italy</th>\n",
       "      <td>21.0</td>\n",
       "      <td>4.7</td>\n",
       "      <td>5.0</td>\n",
       "      <td>1.1</td>\n",
       "      <td>57.0</td>\n",
       "      <td>3.66</td>\n",
       "      <td>56.0</td>\n",
       "      <td>0.7</td>\n",
       "      <td>25166.0</td>\n",
       "      <td>54987.0</td>\n",
       "      <td>...</td>\n",
       "      <td>14.98</td>\n",
       "      <td>75.0</td>\n",
       "      <td>71.0</td>\n",
       "      <td>16.8</td>\n",
       "      <td>Gross domestic product per capita, current prices</td>\n",
       "      <td>U.S. dollars</td>\n",
       "      <td>Units</td>\n",
       "      <td>See notes for:  Gross domestic product, curren...</td>\n",
       "      <td>29866.581</td>\n",
       "      <td>2015.0</td>\n",
       "    </tr>\n",
       "    <tr>\n",
       "      <th>Japan</th>\n",
       "      <td>24.0</td>\n",
       "      <td>1.4</td>\n",
       "      <td>7.3</td>\n",
       "      <td>6.4</td>\n",
       "      <td>94.0</td>\n",
       "      <td>22.26</td>\n",
       "      <td>72.0</td>\n",
       "      <td>0.3</td>\n",
       "      <td>26111.0</td>\n",
       "      <td>86764.0</td>\n",
       "      <td>...</td>\n",
       "      <td>14.93</td>\n",
       "      <td>53.0</td>\n",
       "      <td>85.0</td>\n",
       "      <td>16.3</td>\n",
       "      <td>Gross domestic product per capita, current prices</td>\n",
       "      <td>U.S. dollars</td>\n",
       "      <td>Units</td>\n",
       "      <td>See notes for:  Gross domestic product, curren...</td>\n",
       "      <td>32485.545</td>\n",
       "      <td>2015.0</td>\n",
       "    </tr>\n",
       "    <tr>\n",
       "      <th>Israel</th>\n",
       "      <td>21.0</td>\n",
       "      <td>6.4</td>\n",
       "      <td>2.5</td>\n",
       "      <td>3.7</td>\n",
       "      <td>85.0</td>\n",
       "      <td>16.03</td>\n",
       "      <td>67.0</td>\n",
       "      <td>2.3</td>\n",
       "      <td>22104.0</td>\n",
       "      <td>52933.0</td>\n",
       "      <td>...</td>\n",
       "      <td>14.48</td>\n",
       "      <td>68.0</td>\n",
       "      <td>68.0</td>\n",
       "      <td>15.8</td>\n",
       "      <td>Gross domestic product per capita, current prices</td>\n",
       "      <td>U.S. dollars</td>\n",
       "      <td>Units</td>\n",
       "      <td>See notes for:  Gross domestic product, curren...</td>\n",
       "      <td>35343.336</td>\n",
       "      <td>2015.0</td>\n",
       "    </tr>\n",
       "    <tr>\n",
       "      <th>New Zealand</th>\n",
       "      <td>11.0</td>\n",
       "      <td>2.2</td>\n",
       "      <td>10.3</td>\n",
       "      <td>0.2</td>\n",
       "      <td>74.0</td>\n",
       "      <td>13.87</td>\n",
       "      <td>73.0</td>\n",
       "      <td>1.2</td>\n",
       "      <td>23815.0</td>\n",
       "      <td>28290.0</td>\n",
       "      <td>...</td>\n",
       "      <td>14.87</td>\n",
       "      <td>77.0</td>\n",
       "      <td>89.0</td>\n",
       "      <td>18.1</td>\n",
       "      <td>Gross domestic product per capita, current prices</td>\n",
       "      <td>U.S. dollars</td>\n",
       "      <td>Units</td>\n",
       "      <td>See notes for:  Gross domestic product, curren...</td>\n",
       "      <td>37044.891</td>\n",
       "      <td>2015.0</td>\n",
       "    </tr>\n",
       "    <tr>\n",
       "      <th>France</th>\n",
       "      <td>12.0</td>\n",
       "      <td>5.0</td>\n",
       "      <td>3.5</td>\n",
       "      <td>0.5</td>\n",
       "      <td>73.0</td>\n",
       "      <td>8.15</td>\n",
       "      <td>64.0</td>\n",
       "      <td>0.6</td>\n",
       "      <td>28799.0</td>\n",
       "      <td>48741.0</td>\n",
       "      <td>...</td>\n",
       "      <td>15.33</td>\n",
       "      <td>80.0</td>\n",
       "      <td>82.0</td>\n",
       "      <td>16.4</td>\n",
       "      <td>Gross domestic product per capita, current prices</td>\n",
       "      <td>U.S. dollars</td>\n",
       "      <td>Units</td>\n",
       "      <td>See notes for:  Gross domestic product, curren...</td>\n",
       "      <td>37675.006</td>\n",
       "      <td>2015.0</td>\n",
       "    </tr>\n",
       "    <tr>\n",
       "      <th>Belgium</th>\n",
       "      <td>21.0</td>\n",
       "      <td>6.6</td>\n",
       "      <td>4.5</td>\n",
       "      <td>2.0</td>\n",
       "      <td>72.0</td>\n",
       "      <td>4.57</td>\n",
       "      <td>62.0</td>\n",
       "      <td>1.1</td>\n",
       "      <td>28307.0</td>\n",
       "      <td>83876.0</td>\n",
       "      <td>...</td>\n",
       "      <td>15.71</td>\n",
       "      <td>89.0</td>\n",
       "      <td>87.0</td>\n",
       "      <td>18.9</td>\n",
       "      <td>Gross domestic product per capita, current prices</td>\n",
       "      <td>U.S. dollars</td>\n",
       "      <td>Units</td>\n",
       "      <td>See notes for:  Gross domestic product, curren...</td>\n",
       "      <td>40106.632</td>\n",
       "      <td>2014.0</td>\n",
       "    </tr>\n",
       "    <tr>\n",
       "      <th>Germany</th>\n",
       "      <td>16.0</td>\n",
       "      <td>3.6</td>\n",
       "      <td>4.5</td>\n",
       "      <td>0.1</td>\n",
       "      <td>86.0</td>\n",
       "      <td>5.25</td>\n",
       "      <td>73.0</td>\n",
       "      <td>0.5</td>\n",
       "      <td>31252.0</td>\n",
       "      <td>50394.0</td>\n",
       "      <td>...</td>\n",
       "      <td>15.31</td>\n",
       "      <td>72.0</td>\n",
       "      <td>95.0</td>\n",
       "      <td>18.2</td>\n",
       "      <td>Gross domestic product per capita, current prices</td>\n",
       "      <td>U.S. dollars</td>\n",
       "      <td>Units</td>\n",
       "      <td>See notes for:  Gross domestic product, curren...</td>\n",
       "      <td>40996.511</td>\n",
       "      <td>2014.0</td>\n",
       "    </tr>\n",
       "    <tr>\n",
       "      <th>Finland</th>\n",
       "      <td>15.0</td>\n",
       "      <td>2.4</td>\n",
       "      <td>9.0</td>\n",
       "      <td>0.6</td>\n",
       "      <td>85.0</td>\n",
       "      <td>3.58</td>\n",
       "      <td>69.0</td>\n",
       "      <td>1.4</td>\n",
       "      <td>27927.0</td>\n",
       "      <td>18761.0</td>\n",
       "      <td>...</td>\n",
       "      <td>14.89</td>\n",
       "      <td>69.0</td>\n",
       "      <td>94.0</td>\n",
       "      <td>19.7</td>\n",
       "      <td>Gross domestic product per capita, current prices</td>\n",
       "      <td>U.S. dollars</td>\n",
       "      <td>Units</td>\n",
       "      <td>See notes for:  Gross domestic product, curren...</td>\n",
       "      <td>41973.988</td>\n",
       "      <td>2014.0</td>\n",
       "    </tr>\n",
       "    <tr>\n",
       "      <th>Canada</th>\n",
       "      <td>15.0</td>\n",
       "      <td>1.3</td>\n",
       "      <td>10.5</td>\n",
       "      <td>0.2</td>\n",
       "      <td>89.0</td>\n",
       "      <td>3.94</td>\n",
       "      <td>72.0</td>\n",
       "      <td>1.5</td>\n",
       "      <td>29365.0</td>\n",
       "      <td>67913.0</td>\n",
       "      <td>...</td>\n",
       "      <td>14.25</td>\n",
       "      <td>61.0</td>\n",
       "      <td>91.0</td>\n",
       "      <td>17.2</td>\n",
       "      <td>Gross domestic product per capita, current prices</td>\n",
       "      <td>U.S. dollars</td>\n",
       "      <td>Units</td>\n",
       "      <td>See notes for:  Gross domestic product, curren...</td>\n",
       "      <td>43331.961</td>\n",
       "      <td>2015.0</td>\n",
       "    </tr>\n",
       "    <tr>\n",
       "      <th>Netherlands</th>\n",
       "      <td>30.0</td>\n",
       "      <td>4.9</td>\n",
       "      <td>6.1</td>\n",
       "      <td>0.0</td>\n",
       "      <td>73.0</td>\n",
       "      <td>0.45</td>\n",
       "      <td>74.0</td>\n",
       "      <td>0.9</td>\n",
       "      <td>27888.0</td>\n",
       "      <td>77961.0</td>\n",
       "      <td>...</td>\n",
       "      <td>15.44</td>\n",
       "      <td>75.0</td>\n",
       "      <td>92.0</td>\n",
       "      <td>18.7</td>\n",
       "      <td>Gross domestic product per capita, current prices</td>\n",
       "      <td>U.S. dollars</td>\n",
       "      <td>Units</td>\n",
       "      <td>See notes for:  Gross domestic product, curren...</td>\n",
       "      <td>43603.115</td>\n",
       "      <td>2014.0</td>\n",
       "    </tr>\n",
       "    <tr>\n",
       "      <th>Austria</th>\n",
       "      <td>27.0</td>\n",
       "      <td>3.4</td>\n",
       "      <td>7.1</td>\n",
       "      <td>1.0</td>\n",
       "      <td>83.0</td>\n",
       "      <td>7.61</td>\n",
       "      <td>72.0</td>\n",
       "      <td>0.4</td>\n",
       "      <td>31173.0</td>\n",
       "      <td>49887.0</td>\n",
       "      <td>...</td>\n",
       "      <td>14.46</td>\n",
       "      <td>75.0</td>\n",
       "      <td>94.0</td>\n",
       "      <td>17.0</td>\n",
       "      <td>Gross domestic product per capita, current prices</td>\n",
       "      <td>U.S. dollars</td>\n",
       "      <td>Units</td>\n",
       "      <td>See notes for:  Gross domestic product, curren...</td>\n",
       "      <td>43724.031</td>\n",
       "      <td>2015.0</td>\n",
       "    </tr>\n",
       "    <tr>\n",
       "      <th>United Kingdom</th>\n",
       "      <td>13.0</td>\n",
       "      <td>1.9</td>\n",
       "      <td>11.5</td>\n",
       "      <td>0.2</td>\n",
       "      <td>78.0</td>\n",
       "      <td>12.70</td>\n",
       "      <td>71.0</td>\n",
       "      <td>0.3</td>\n",
       "      <td>27029.0</td>\n",
       "      <td>60778.0</td>\n",
       "      <td>...</td>\n",
       "      <td>14.83</td>\n",
       "      <td>66.0</td>\n",
       "      <td>88.0</td>\n",
       "      <td>16.4</td>\n",
       "      <td>Gross domestic product per capita, current prices</td>\n",
       "      <td>U.S. dollars</td>\n",
       "      <td>Units</td>\n",
       "      <td>See notes for:  Gross domestic product, curren...</td>\n",
       "      <td>43770.688</td>\n",
       "      <td>2015.0</td>\n",
       "    </tr>\n",
       "    <tr>\n",
       "      <th>Sweden</th>\n",
       "      <td>10.0</td>\n",
       "      <td>5.1</td>\n",
       "      <td>10.9</td>\n",
       "      <td>0.0</td>\n",
       "      <td>88.0</td>\n",
       "      <td>1.13</td>\n",
       "      <td>74.0</td>\n",
       "      <td>0.7</td>\n",
       "      <td>29185.0</td>\n",
       "      <td>60328.0</td>\n",
       "      <td>...</td>\n",
       "      <td>15.11</td>\n",
       "      <td>86.0</td>\n",
       "      <td>95.0</td>\n",
       "      <td>19.3</td>\n",
       "      <td>Gross domestic product per capita, current prices</td>\n",
       "      <td>U.S. dollars</td>\n",
       "      <td>Units</td>\n",
       "      <td>See notes for:  Gross domestic product, curren...</td>\n",
       "      <td>49866.266</td>\n",
       "      <td>2014.0</td>\n",
       "    </tr>\n",
       "    <tr>\n",
       "      <th>Iceland</th>\n",
       "      <td>18.0</td>\n",
       "      <td>2.7</td>\n",
       "      <td>5.1</td>\n",
       "      <td>0.4</td>\n",
       "      <td>71.0</td>\n",
       "      <td>12.25</td>\n",
       "      <td>82.0</td>\n",
       "      <td>0.3</td>\n",
       "      <td>23965.0</td>\n",
       "      <td>43045.0</td>\n",
       "      <td>...</td>\n",
       "      <td>14.61</td>\n",
       "      <td>81.0</td>\n",
       "      <td>97.0</td>\n",
       "      <td>19.8</td>\n",
       "      <td>Gross domestic product per capita, current prices</td>\n",
       "      <td>U.S. dollars</td>\n",
       "      <td>Units</td>\n",
       "      <td>See notes for:  Gross domestic product, curren...</td>\n",
       "      <td>50854.583</td>\n",
       "      <td>2014.0</td>\n",
       "    </tr>\n",
       "    <tr>\n",
       "      <th>Australia</th>\n",
       "      <td>13.0</td>\n",
       "      <td>2.1</td>\n",
       "      <td>10.5</td>\n",
       "      <td>1.1</td>\n",
       "      <td>76.0</td>\n",
       "      <td>14.02</td>\n",
       "      <td>72.0</td>\n",
       "      <td>0.8</td>\n",
       "      <td>31588.0</td>\n",
       "      <td>47657.0</td>\n",
       "      <td>...</td>\n",
       "      <td>14.41</td>\n",
       "      <td>93.0</td>\n",
       "      <td>91.0</td>\n",
       "      <td>19.4</td>\n",
       "      <td>Gross domestic product per capita, current prices</td>\n",
       "      <td>U.S. dollars</td>\n",
       "      <td>Units</td>\n",
       "      <td>See notes for:  Gross domestic product, curren...</td>\n",
       "      <td>50961.865</td>\n",
       "      <td>2014.0</td>\n",
       "    </tr>\n",
       "    <tr>\n",
       "      <th>Ireland</th>\n",
       "      <td>13.0</td>\n",
       "      <td>2.6</td>\n",
       "      <td>9.0</td>\n",
       "      <td>0.2</td>\n",
       "      <td>75.0</td>\n",
       "      <td>4.20</td>\n",
       "      <td>60.0</td>\n",
       "      <td>0.8</td>\n",
       "      <td>23917.0</td>\n",
       "      <td>31580.0</td>\n",
       "      <td>...</td>\n",
       "      <td>15.19</td>\n",
       "      <td>70.0</td>\n",
       "      <td>80.0</td>\n",
       "      <td>17.6</td>\n",
       "      <td>Gross domestic product per capita, current prices</td>\n",
       "      <td>U.S. dollars</td>\n",
       "      <td>Units</td>\n",
       "      <td>See notes for:  Gross domestic product, curren...</td>\n",
       "      <td>51350.744</td>\n",
       "      <td>2014.0</td>\n",
       "    </tr>\n",
       "    <tr>\n",
       "      <th>Denmark</th>\n",
       "      <td>15.0</td>\n",
       "      <td>3.9</td>\n",
       "      <td>7.0</td>\n",
       "      <td>0.9</td>\n",
       "      <td>78.0</td>\n",
       "      <td>2.03</td>\n",
       "      <td>73.0</td>\n",
       "      <td>0.3</td>\n",
       "      <td>26491.0</td>\n",
       "      <td>44488.0</td>\n",
       "      <td>...</td>\n",
       "      <td>16.06</td>\n",
       "      <td>88.0</td>\n",
       "      <td>94.0</td>\n",
       "      <td>19.4</td>\n",
       "      <td>Gross domestic product per capita, current prices</td>\n",
       "      <td>U.S. dollars</td>\n",
       "      <td>Units</td>\n",
       "      <td>See notes for:  Gross domestic product, curren...</td>\n",
       "      <td>52114.165</td>\n",
       "      <td>2015.0</td>\n",
       "    </tr>\n",
       "    <tr>\n",
       "      <th>United States</th>\n",
       "      <td>18.0</td>\n",
       "      <td>1.5</td>\n",
       "      <td>8.3</td>\n",
       "      <td>0.1</td>\n",
       "      <td>89.0</td>\n",
       "      <td>11.30</td>\n",
       "      <td>67.0</td>\n",
       "      <td>5.2</td>\n",
       "      <td>41355.0</td>\n",
       "      <td>145769.0</td>\n",
       "      <td>...</td>\n",
       "      <td>14.27</td>\n",
       "      <td>68.0</td>\n",
       "      <td>85.0</td>\n",
       "      <td>17.2</td>\n",
       "      <td>Gross domestic product per capita, current prices</td>\n",
       "      <td>U.S. dollars</td>\n",
       "      <td>Units</td>\n",
       "      <td>See notes for:  Gross domestic product, curren...</td>\n",
       "      <td>55805.204</td>\n",
       "      <td>2015.0</td>\n",
       "    </tr>\n",
       "    <tr>\n",
       "      <th>Norway</th>\n",
       "      <td>16.0</td>\n",
       "      <td>3.3</td>\n",
       "      <td>8.1</td>\n",
       "      <td>0.3</td>\n",
       "      <td>82.0</td>\n",
       "      <td>2.82</td>\n",
       "      <td>75.0</td>\n",
       "      <td>0.6</td>\n",
       "      <td>33492.0</td>\n",
       "      <td>8797.0</td>\n",
       "      <td>...</td>\n",
       "      <td>15.56</td>\n",
       "      <td>78.0</td>\n",
       "      <td>94.0</td>\n",
       "      <td>17.9</td>\n",
       "      <td>Gross domestic product per capita, current prices</td>\n",
       "      <td>U.S. dollars</td>\n",
       "      <td>Units</td>\n",
       "      <td>See notes for:  Gross domestic product, curren...</td>\n",
       "      <td>74822.106</td>\n",
       "      <td>2015.0</td>\n",
       "    </tr>\n",
       "    <tr>\n",
       "      <th>Switzerland</th>\n",
       "      <td>20.0</td>\n",
       "      <td>4.2</td>\n",
       "      <td>8.4</td>\n",
       "      <td>0.0</td>\n",
       "      <td>86.0</td>\n",
       "      <td>6.72</td>\n",
       "      <td>80.0</td>\n",
       "      <td>0.5</td>\n",
       "      <td>33491.0</td>\n",
       "      <td>108823.0</td>\n",
       "      <td>...</td>\n",
       "      <td>14.98</td>\n",
       "      <td>49.0</td>\n",
       "      <td>96.0</td>\n",
       "      <td>17.3</td>\n",
       "      <td>Gross domestic product per capita, current prices</td>\n",
       "      <td>U.S. dollars</td>\n",
       "      <td>Units</td>\n",
       "      <td>See notes for:  Gross domestic product, curren...</td>\n",
       "      <td>80675.308</td>\n",
       "      <td>2015.0</td>\n",
       "    </tr>\n",
       "    <tr>\n",
       "      <th>Luxembourg</th>\n",
       "      <td>12.0</td>\n",
       "      <td>4.3</td>\n",
       "      <td>6.0</td>\n",
       "      <td>0.1</td>\n",
       "      <td>78.0</td>\n",
       "      <td>3.47</td>\n",
       "      <td>66.0</td>\n",
       "      <td>0.4</td>\n",
       "      <td>38951.0</td>\n",
       "      <td>61765.0</td>\n",
       "      <td>...</td>\n",
       "      <td>15.12</td>\n",
       "      <td>91.0</td>\n",
       "      <td>86.0</td>\n",
       "      <td>15.1</td>\n",
       "      <td>Gross domestic product per capita, current prices</td>\n",
       "      <td>U.S. dollars</td>\n",
       "      <td>Units</td>\n",
       "      <td>See notes for:  Gross domestic product, curren...</td>\n",
       "      <td>101994.093</td>\n",
       "      <td>2014.0</td>\n",
       "    </tr>\n",
       "  </tbody>\n",
       "</table>\n",
       "<p>36 rows × 30 columns</p>\n",
       "</div>"
      ],
      "text/plain": [
       "                 Air pollution  Assault rate  Consultation on rule-making  \\\n",
       "Country                                                                     \n",
       "Brazil                    18.0           7.9                          4.0   \n",
       "Mexico                    30.0          12.8                          9.0   \n",
       "Russia                    15.0           3.8                          2.5   \n",
       "Turkey                    35.0           5.0                          5.5   \n",
       "Hungary                   15.0           3.6                          7.9   \n",
       "Poland                    33.0           1.4                         10.8   \n",
       "Chile                     46.0           6.9                          2.0   \n",
       "Slovak Republic           13.0           3.0                          6.6   \n",
       "Czech Republic            16.0           2.8                          6.8   \n",
       "Estonia                    9.0           5.5                          3.3   \n",
       "Greece                    27.0           3.7                          6.5   \n",
       "Portugal                  18.0           5.7                          6.5   \n",
       "Slovenia                  26.0           3.9                         10.3   \n",
       "Spain                     24.0           4.2                          7.3   \n",
       "Korea                     30.0           2.1                         10.4   \n",
       "Italy                     21.0           4.7                          5.0   \n",
       "Japan                     24.0           1.4                          7.3   \n",
       "Israel                    21.0           6.4                          2.5   \n",
       "New Zealand               11.0           2.2                         10.3   \n",
       "France                    12.0           5.0                          3.5   \n",
       "Belgium                   21.0           6.6                          4.5   \n",
       "Germany                   16.0           3.6                          4.5   \n",
       "Finland                   15.0           2.4                          9.0   \n",
       "Canada                    15.0           1.3                         10.5   \n",
       "Netherlands               30.0           4.9                          6.1   \n",
       "Austria                   27.0           3.4                          7.1   \n",
       "United Kingdom            13.0           1.9                         11.5   \n",
       "Sweden                    10.0           5.1                         10.9   \n",
       "Iceland                   18.0           2.7                          5.1   \n",
       "Australia                 13.0           2.1                         10.5   \n",
       "Ireland                   13.0           2.6                          9.0   \n",
       "Denmark                   15.0           3.9                          7.0   \n",
       "United States             18.0           1.5                          8.3   \n",
       "Norway                    16.0           3.3                          8.1   \n",
       "Switzerland               20.0           4.2                          8.4   \n",
       "Luxembourg                12.0           4.3                          6.0   \n",
       "\n",
       "                 Dwellings without basic facilities  Educational attainment  \\\n",
       "Country                                                                       \n",
       "Brazil                                          6.7                    45.0   \n",
       "Mexico                                          4.2                    37.0   \n",
       "Russia                                         15.1                    94.0   \n",
       "Turkey                                         12.7                    34.0   \n",
       "Hungary                                         4.8                    82.0   \n",
       "Poland                                          3.2                    90.0   \n",
       "Chile                                           9.4                    57.0   \n",
       "Slovak Republic                                 0.6                    92.0   \n",
       "Czech Republic                                  0.9                    92.0   \n",
       "Estonia                                         8.1                    90.0   \n",
       "Greece                                          0.7                    68.0   \n",
       "Portugal                                        0.9                    38.0   \n",
       "Slovenia                                        0.5                    85.0   \n",
       "Spain                                           0.1                    55.0   \n",
       "Korea                                           4.2                    82.0   \n",
       "Italy                                           1.1                    57.0   \n",
       "Japan                                           6.4                    94.0   \n",
       "Israel                                          3.7                    85.0   \n",
       "New Zealand                                     0.2                    74.0   \n",
       "France                                          0.5                    73.0   \n",
       "Belgium                                         2.0                    72.0   \n",
       "Germany                                         0.1                    86.0   \n",
       "Finland                                         0.6                    85.0   \n",
       "Canada                                          0.2                    89.0   \n",
       "Netherlands                                     0.0                    73.0   \n",
       "Austria                                         1.0                    83.0   \n",
       "United Kingdom                                  0.2                    78.0   \n",
       "Sweden                                          0.0                    88.0   \n",
       "Iceland                                         0.4                    71.0   \n",
       "Australia                                       1.1                    76.0   \n",
       "Ireland                                         0.2                    75.0   \n",
       "Denmark                                         0.9                    78.0   \n",
       "United States                                   0.1                    89.0   \n",
       "Norway                                          0.3                    82.0   \n",
       "Switzerland                                     0.0                    86.0   \n",
       "Luxembourg                                      0.1                    78.0   \n",
       "\n",
       "                 Employees working very long hours  Employment rate  \\\n",
       "Country                                                               \n",
       "Brazil                                       10.41             67.0   \n",
       "Mexico                                       28.83             61.0   \n",
       "Russia                                        0.16             69.0   \n",
       "Turkey                                       40.86             50.0   \n",
       "Hungary                                       3.19             58.0   \n",
       "Poland                                        7.41             60.0   \n",
       "Chile                                        15.42             62.0   \n",
       "Slovak Republic                               7.02             60.0   \n",
       "Czech Republic                                6.98             68.0   \n",
       "Estonia                                       3.30             68.0   \n",
       "Greece                                        6.16             49.0   \n",
       "Portugal                                      9.62             61.0   \n",
       "Slovenia                                      5.63             63.0   \n",
       "Spain                                         5.89             56.0   \n",
       "Korea                                        18.72             64.0   \n",
       "Italy                                         3.66             56.0   \n",
       "Japan                                        22.26             72.0   \n",
       "Israel                                       16.03             67.0   \n",
       "New Zealand                                  13.87             73.0   \n",
       "France                                        8.15             64.0   \n",
       "Belgium                                       4.57             62.0   \n",
       "Germany                                       5.25             73.0   \n",
       "Finland                                       3.58             69.0   \n",
       "Canada                                        3.94             72.0   \n",
       "Netherlands                                   0.45             74.0   \n",
       "Austria                                       7.61             72.0   \n",
       "United Kingdom                               12.70             71.0   \n",
       "Sweden                                        1.13             74.0   \n",
       "Iceland                                      12.25             82.0   \n",
       "Australia                                    14.02             72.0   \n",
       "Ireland                                       4.20             60.0   \n",
       "Denmark                                       2.03             73.0   \n",
       "United States                                11.30             67.0   \n",
       "Norway                                        2.82             75.0   \n",
       "Switzerland                                   6.72             80.0   \n",
       "Luxembourg                                    3.47             66.0   \n",
       "\n",
       "                 Homicide rate  Household net adjusted disposable income  \\\n",
       "Country                                                                    \n",
       "Brazil                    25.5                                   11664.0   \n",
       "Mexico                    23.4                                   13085.0   \n",
       "Russia                    12.8                                   19292.0   \n",
       "Turkey                     1.2                                   14095.0   \n",
       "Hungary                    1.3                                   15442.0   \n",
       "Poland                     0.9                                   17852.0   \n",
       "Chile                      4.4                                   14533.0   \n",
       "Slovak Republic            1.2                                   17503.0   \n",
       "Czech Republic             0.8                                   18404.0   \n",
       "Estonia                    4.8                                   15167.0   \n",
       "Greece                     1.6                                   18575.0   \n",
       "Portugal                   1.1                                   20086.0   \n",
       "Slovenia                   0.4                                   19326.0   \n",
       "Spain                      0.6                                   22477.0   \n",
       "Korea                      1.1                                   19510.0   \n",
       "Italy                      0.7                                   25166.0   \n",
       "Japan                      0.3                                   26111.0   \n",
       "Israel                     2.3                                   22104.0   \n",
       "New Zealand                1.2                                   23815.0   \n",
       "France                     0.6                                   28799.0   \n",
       "Belgium                    1.1                                   28307.0   \n",
       "Germany                    0.5                                   31252.0   \n",
       "Finland                    1.4                                   27927.0   \n",
       "Canada                     1.5                                   29365.0   \n",
       "Netherlands                0.9                                   27888.0   \n",
       "Austria                    0.4                                   31173.0   \n",
       "United Kingdom             0.3                                   27029.0   \n",
       "Sweden                     0.7                                   29185.0   \n",
       "Iceland                    0.3                                   23965.0   \n",
       "Australia                  0.8                                   31588.0   \n",
       "Ireland                    0.8                                   23917.0   \n",
       "Denmark                    0.3                                   26491.0   \n",
       "United States              5.2                                   41355.0   \n",
       "Norway                     0.6                                   33492.0   \n",
       "Switzerland                0.5                                   33491.0   \n",
       "Luxembourg                 0.4                                   38951.0   \n",
       "\n",
       "                 Household net financial wealth  ...  \\\n",
       "Country                                          ...   \n",
       "Brazil                                   6844.0  ...   \n",
       "Mexico                                   9056.0  ...   \n",
       "Russia                                   3412.0  ...   \n",
       "Turkey                                   3251.0  ...   \n",
       "Hungary                                 13277.0  ...   \n",
       "Poland                                  10919.0  ...   \n",
       "Chile                                   17733.0  ...   \n",
       "Slovak Republic                          8663.0  ...   \n",
       "Czech Republic                          17299.0  ...   \n",
       "Estonia                                  7680.0  ...   \n",
       "Greece                                  14579.0  ...   \n",
       "Portugal                                31245.0  ...   \n",
       "Slovenia                                18465.0  ...   \n",
       "Spain                                   24774.0  ...   \n",
       "Korea                                   29091.0  ...   \n",
       "Italy                                   54987.0  ...   \n",
       "Japan                                   86764.0  ...   \n",
       "Israel                                  52933.0  ...   \n",
       "New Zealand                             28290.0  ...   \n",
       "France                                  48741.0  ...   \n",
       "Belgium                                 83876.0  ...   \n",
       "Germany                                 50394.0  ...   \n",
       "Finland                                 18761.0  ...   \n",
       "Canada                                  67913.0  ...   \n",
       "Netherlands                             77961.0  ...   \n",
       "Austria                                 49887.0  ...   \n",
       "United Kingdom                          60778.0  ...   \n",
       "Sweden                                  60328.0  ...   \n",
       "Iceland                                 43045.0  ...   \n",
       "Australia                               47657.0  ...   \n",
       "Ireland                                 31580.0  ...   \n",
       "Denmark                                 44488.0  ...   \n",
       "United States                          145769.0  ...   \n",
       "Norway                                   8797.0  ...   \n",
       "Switzerland                            108823.0  ...   \n",
       "Luxembourg                              61765.0  ...   \n",
       "\n",
       "                 Time devoted to leisure and personal care  Voter turnout  \\\n",
       "Country                                                                     \n",
       "Brazil                                               14.97           79.0   \n",
       "Mexico                                               13.89           63.0   \n",
       "Russia                                               14.97           65.0   \n",
       "Turkey                                               13.42           88.0   \n",
       "Hungary                                              15.04           62.0   \n",
       "Poland                                               14.20           55.0   \n",
       "Chile                                                14.41           49.0   \n",
       "Slovak Republic                                      14.99           59.0   \n",
       "Czech Republic                                       14.98           59.0   \n",
       "Estonia                                              14.90           64.0   \n",
       "Greece                                               14.91           64.0   \n",
       "Portugal                                             14.95           58.0   \n",
       "Slovenia                                             14.62           52.0   \n",
       "Spain                                                16.06           69.0   \n",
       "Korea                                                14.63           76.0   \n",
       "Italy                                                14.98           75.0   \n",
       "Japan                                                14.93           53.0   \n",
       "Israel                                               14.48           68.0   \n",
       "New Zealand                                          14.87           77.0   \n",
       "France                                               15.33           80.0   \n",
       "Belgium                                              15.71           89.0   \n",
       "Germany                                              15.31           72.0   \n",
       "Finland                                              14.89           69.0   \n",
       "Canada                                               14.25           61.0   \n",
       "Netherlands                                          15.44           75.0   \n",
       "Austria                                              14.46           75.0   \n",
       "United Kingdom                                       14.83           66.0   \n",
       "Sweden                                               15.11           86.0   \n",
       "Iceland                                              14.61           81.0   \n",
       "Australia                                            14.41           93.0   \n",
       "Ireland                                              15.19           70.0   \n",
       "Denmark                                              16.06           88.0   \n",
       "United States                                        14.27           68.0   \n",
       "Norway                                               15.56           78.0   \n",
       "Switzerland                                          14.98           49.0   \n",
       "Luxembourg                                           15.12           91.0   \n",
       "\n",
       "                 Water quality  Years in education  \\\n",
       "Country                                              \n",
       "Brazil                    72.0                16.3   \n",
       "Mexico                    67.0                14.4   \n",
       "Russia                    56.0                16.0   \n",
       "Turkey                    62.0                16.4   \n",
       "Hungary                   77.0                17.6   \n",
       "Poland                    79.0                18.4   \n",
       "Chile                     73.0                16.5   \n",
       "Slovak Republic           81.0                16.3   \n",
       "Czech Republic            85.0                18.1   \n",
       "Estonia                   79.0                17.5   \n",
       "Greece                    69.0                18.6   \n",
       "Portugal                  86.0                17.6   \n",
       "Slovenia                  88.0                18.4   \n",
       "Spain                     71.0                17.6   \n",
       "Korea                     78.0                17.5   \n",
       "Italy                     71.0                16.8   \n",
       "Japan                     85.0                16.3   \n",
       "Israel                    68.0                15.8   \n",
       "New Zealand               89.0                18.1   \n",
       "France                    82.0                16.4   \n",
       "Belgium                   87.0                18.9   \n",
       "Germany                   95.0                18.2   \n",
       "Finland                   94.0                19.7   \n",
       "Canada                    91.0                17.2   \n",
       "Netherlands               92.0                18.7   \n",
       "Austria                   94.0                17.0   \n",
       "United Kingdom            88.0                16.4   \n",
       "Sweden                    95.0                19.3   \n",
       "Iceland                   97.0                19.8   \n",
       "Australia                 91.0                19.4   \n",
       "Ireland                   80.0                17.6   \n",
       "Denmark                   94.0                19.4   \n",
       "United States             85.0                17.2   \n",
       "Norway                    94.0                17.9   \n",
       "Switzerland               96.0                17.3   \n",
       "Luxembourg                86.0                15.1   \n",
       "\n",
       "                                                Subject Descriptor  \\\n",
       "Country                                                              \n",
       "Brazil           Gross domestic product per capita, current prices   \n",
       "Mexico           Gross domestic product per capita, current prices   \n",
       "Russia           Gross domestic product per capita, current prices   \n",
       "Turkey           Gross domestic product per capita, current prices   \n",
       "Hungary          Gross domestic product per capita, current prices   \n",
       "Poland           Gross domestic product per capita, current prices   \n",
       "Chile            Gross domestic product per capita, current prices   \n",
       "Slovak Republic  Gross domestic product per capita, current prices   \n",
       "Czech Republic   Gross domestic product per capita, current prices   \n",
       "Estonia          Gross domestic product per capita, current prices   \n",
       "Greece           Gross domestic product per capita, current prices   \n",
       "Portugal         Gross domestic product per capita, current prices   \n",
       "Slovenia         Gross domestic product per capita, current prices   \n",
       "Spain            Gross domestic product per capita, current prices   \n",
       "Korea            Gross domestic product per capita, current prices   \n",
       "Italy            Gross domestic product per capita, current prices   \n",
       "Japan            Gross domestic product per capita, current prices   \n",
       "Israel           Gross domestic product per capita, current prices   \n",
       "New Zealand      Gross domestic product per capita, current prices   \n",
       "France           Gross domestic product per capita, current prices   \n",
       "Belgium          Gross domestic product per capita, current prices   \n",
       "Germany          Gross domestic product per capita, current prices   \n",
       "Finland          Gross domestic product per capita, current prices   \n",
       "Canada           Gross domestic product per capita, current prices   \n",
       "Netherlands      Gross domestic product per capita, current prices   \n",
       "Austria          Gross domestic product per capita, current prices   \n",
       "United Kingdom   Gross domestic product per capita, current prices   \n",
       "Sweden           Gross domestic product per capita, current prices   \n",
       "Iceland          Gross domestic product per capita, current prices   \n",
       "Australia        Gross domestic product per capita, current prices   \n",
       "Ireland          Gross domestic product per capita, current prices   \n",
       "Denmark          Gross domestic product per capita, current prices   \n",
       "United States    Gross domestic product per capita, current prices   \n",
       "Norway           Gross domestic product per capita, current prices   \n",
       "Switzerland      Gross domestic product per capita, current prices   \n",
       "Luxembourg       Gross domestic product per capita, current prices   \n",
       "\n",
       "                        Units  Scale  \\\n",
       "Country                                \n",
       "Brazil           U.S. dollars  Units   \n",
       "Mexico           U.S. dollars  Units   \n",
       "Russia           U.S. dollars  Units   \n",
       "Turkey           U.S. dollars  Units   \n",
       "Hungary          U.S. dollars  Units   \n",
       "Poland           U.S. dollars  Units   \n",
       "Chile            U.S. dollars  Units   \n",
       "Slovak Republic  U.S. dollars  Units   \n",
       "Czech Republic   U.S. dollars  Units   \n",
       "Estonia          U.S. dollars  Units   \n",
       "Greece           U.S. dollars  Units   \n",
       "Portugal         U.S. dollars  Units   \n",
       "Slovenia         U.S. dollars  Units   \n",
       "Spain            U.S. dollars  Units   \n",
       "Korea            U.S. dollars  Units   \n",
       "Italy            U.S. dollars  Units   \n",
       "Japan            U.S. dollars  Units   \n",
       "Israel           U.S. dollars  Units   \n",
       "New Zealand      U.S. dollars  Units   \n",
       "France           U.S. dollars  Units   \n",
       "Belgium          U.S. dollars  Units   \n",
       "Germany          U.S. dollars  Units   \n",
       "Finland          U.S. dollars  Units   \n",
       "Canada           U.S. dollars  Units   \n",
       "Netherlands      U.S. dollars  Units   \n",
       "Austria          U.S. dollars  Units   \n",
       "United Kingdom   U.S. dollars  Units   \n",
       "Sweden           U.S. dollars  Units   \n",
       "Iceland          U.S. dollars  Units   \n",
       "Australia        U.S. dollars  Units   \n",
       "Ireland          U.S. dollars  Units   \n",
       "Denmark          U.S. dollars  Units   \n",
       "United States    U.S. dollars  Units   \n",
       "Norway           U.S. dollars  Units   \n",
       "Switzerland      U.S. dollars  Units   \n",
       "Luxembourg       U.S. dollars  Units   \n",
       "\n",
       "                                     Country/Series-specific Notes  \\\n",
       "Country                                                              \n",
       "Brazil           See notes for:  Gross domestic product, curren...   \n",
       "Mexico           See notes for:  Gross domestic product, curren...   \n",
       "Russia           See notes for:  Gross domestic product, curren...   \n",
       "Turkey           See notes for:  Gross domestic product, curren...   \n",
       "Hungary          See notes for:  Gross domestic product, curren...   \n",
       "Poland           See notes for:  Gross domestic product, curren...   \n",
       "Chile            See notes for:  Gross domestic product, curren...   \n",
       "Slovak Republic  See notes for:  Gross domestic product, curren...   \n",
       "Czech Republic   See notes for:  Gross domestic product, curren...   \n",
       "Estonia          See notes for:  Gross domestic product, curren...   \n",
       "Greece           See notes for:  Gross domestic product, curren...   \n",
       "Portugal         See notes for:  Gross domestic product, curren...   \n",
       "Slovenia         See notes for:  Gross domestic product, curren...   \n",
       "Spain            See notes for:  Gross domestic product, curren...   \n",
       "Korea            See notes for:  Gross domestic product, curren...   \n",
       "Italy            See notes for:  Gross domestic product, curren...   \n",
       "Japan            See notes for:  Gross domestic product, curren...   \n",
       "Israel           See notes for:  Gross domestic product, curren...   \n",
       "New Zealand      See notes for:  Gross domestic product, curren...   \n",
       "France           See notes for:  Gross domestic product, curren...   \n",
       "Belgium          See notes for:  Gross domestic product, curren...   \n",
       "Germany          See notes for:  Gross domestic product, curren...   \n",
       "Finland          See notes for:  Gross domestic product, curren...   \n",
       "Canada           See notes for:  Gross domestic product, curren...   \n",
       "Netherlands      See notes for:  Gross domestic product, curren...   \n",
       "Austria          See notes for:  Gross domestic product, curren...   \n",
       "United Kingdom   See notes for:  Gross domestic product, curren...   \n",
       "Sweden           See notes for:  Gross domestic product, curren...   \n",
       "Iceland          See notes for:  Gross domestic product, curren...   \n",
       "Australia        See notes for:  Gross domestic product, curren...   \n",
       "Ireland          See notes for:  Gross domestic product, curren...   \n",
       "Denmark          See notes for:  Gross domestic product, curren...   \n",
       "United States    See notes for:  Gross domestic product, curren...   \n",
       "Norway           See notes for:  Gross domestic product, curren...   \n",
       "Switzerland      See notes for:  Gross domestic product, curren...   \n",
       "Luxembourg       See notes for:  Gross domestic product, curren...   \n",
       "\n",
       "                 GDP per capita  Estimates Start After  \n",
       "Country                                                 \n",
       "Brazil                 8669.998                 2014.0  \n",
       "Mexico                 9009.280                 2015.0  \n",
       "Russia                 9054.914                 2015.0  \n",
       "Turkey                 9437.372                 2013.0  \n",
       "Hungary               12239.894                 2015.0  \n",
       "Poland                12495.334                 2014.0  \n",
       "Chile                 13340.905                 2014.0  \n",
       "Slovak Republic       15991.736                 2015.0  \n",
       "Czech Republic        17256.918                 2015.0  \n",
       "Estonia               17288.083                 2014.0  \n",
       "Greece                18064.288                 2014.0  \n",
       "Portugal              19121.592                 2014.0  \n",
       "Slovenia              20732.482                 2015.0  \n",
       "Spain                 25864.721                 2014.0  \n",
       "Korea                 27195.197                 2014.0  \n",
       "Italy                 29866.581                 2015.0  \n",
       "Japan                 32485.545                 2015.0  \n",
       "Israel                35343.336                 2015.0  \n",
       "New Zealand           37044.891                 2015.0  \n",
       "France                37675.006                 2015.0  \n",
       "Belgium               40106.632                 2014.0  \n",
       "Germany               40996.511                 2014.0  \n",
       "Finland               41973.988                 2014.0  \n",
       "Canada                43331.961                 2015.0  \n",
       "Netherlands           43603.115                 2014.0  \n",
       "Austria               43724.031                 2015.0  \n",
       "United Kingdom        43770.688                 2015.0  \n",
       "Sweden                49866.266                 2014.0  \n",
       "Iceland               50854.583                 2014.0  \n",
       "Australia             50961.865                 2014.0  \n",
       "Ireland               51350.744                 2014.0  \n",
       "Denmark               52114.165                 2015.0  \n",
       "United States         55805.204                 2015.0  \n",
       "Norway                74822.106                 2015.0  \n",
       "Switzerland           80675.308                 2015.0  \n",
       "Luxembourg           101994.093                 2014.0  \n",
       "\n",
       "[36 rows x 30 columns]"
      ]
     },
     "execution_count": 8,
     "metadata": {},
     "output_type": "execute_result"
    }
   ],
   "source": [
    "gdp_per_capita.rename(columns={\"2015\": \"GDP per capita\"}, inplace=True)\n",
    "# Make \"Country\" the index column.  We are going to merge data on this column.\n",
    "gdp_per_capita.set_index(\"Country\", inplace=True)\n",
    "full_country_stats = pd.merge(left=oecd_bli, right=gdp_per_capita, \n",
    "                              left_index=True, right_index=True)\n",
    "full_country_stats.sort_values(by=\"GDP per capita\", inplace=True)\n",
    "full_country_stats"
   ]
  },
  {
   "cell_type": "markdown",
   "metadata": {
    "id": "TRLYDv0hI9SV"
   },
   "source": [
    "Notice that when we did this merge, we lost some rows, in particular, countries for which we have GDP information, but no happiness stats.  Consider Cypress."
   ]
  },
  {
   "cell_type": "code",
   "execution_count": 9,
   "metadata": {
    "colab": {
     "base_uri": "https://localhost:8080/"
    },
    "id": "LK1mgtUFI9SV",
    "outputId": "8d13c102-3ac6-4121-cafa-ea0857030427"
   },
   "outputs": [
    {
     "data": {
      "text/plain": [
       "GDP per capita    22587.49\n",
       "Name: Cyprus, dtype: object"
      ]
     },
     "execution_count": 9,
     "metadata": {},
     "output_type": "execute_result"
    }
   ],
   "source": [
    "cyprus_gdp_per_capita  = gdp_per_capita.loc[\"Cyprus\"][[\"GDP per capita\"]]\n",
    "cyprus_gdp_per_capita "
   ]
  },
  {
   "cell_type": "markdown",
   "metadata": {
    "id": "BkWzrDXLI9SV"
   },
   "source": [
    "But when we try to look up Cypress in the merged data, we get an error.  So as things stand now, we can't find out the quality of life score for Cypress.  We return to this problem below."
   ]
  },
  {
   "cell_type": "code",
   "execution_count": 91,
   "metadata": {
    "colab": {
     "base_uri": "https://localhost:8080/",
     "height": 503
    },
    "id": "Saj6hcwdI9SX",
    "outputId": "bedea0d5-6242-4405-b8a5-316ae934fc1a",
    "scrolled": true
   },
   "outputs": [],
   "source": [
    "# This is a KeyError!\n",
    "#full_country_stats.loc['Cyprus']"
   ]
  },
  {
   "cell_type": "markdown",
   "metadata": {
    "id": "i4IIDXK1I9SY"
   },
   "source": [
    "# Make a linear regression model"
   ]
  },
  {
   "cell_type": "markdown",
   "metadata": {
    "id": "0eNF7pOHI9SY"
   },
   "source": [
    "We are going to try to build a model that predicts life satisfaction from GDP.  The kind of model\n",
    "we're going to use is called a **LInear Regression model**."
   ]
  },
  {
   "cell_type": "markdown",
   "metadata": {
    "id": "tPHCiXe2I9SY"
   },
   "source": [
    "To start with, we are going to separate our country data into two sets, one set of countries which we use to train our model, and the other set which will be held back during training.  We call this second part of the data the **test set**.  We are going to ask our model to try to **predict** the life satisfaction of the test countries.  Let's choose 7 countries for the test, and since we have our countries sorted by GDP, let's pick 3 countries from the low end and 3 countries from the high end to test on."
   ]
  },
  {
   "cell_type": "code",
   "execution_count": 10,
   "metadata": {
    "id": "pTpj5oBNI9SY"
   },
   "outputs": [],
   "source": [
    "remove_indices = [0, 1, 6, 8, 33, 34, 35]\n",
    "keep_indices = list(set(range(36)) - set(remove_indices))\n",
    "\n",
    "#Train on this!\n",
    "sample_data = full_country_stats[[\"GDP per capita\", 'Life satisfaction']].iloc[keep_indices]\n",
    "#Test on this!\n",
    "missing_data = full_country_stats[[\"GDP per capita\", 'Life satisfaction']].iloc[remove_indices]"
   ]
  },
  {
   "cell_type": "code",
   "execution_count": 7,
   "metadata": {
    "colab": {
     "base_uri": "https://localhost:8080/",
     "height": 237
    },
    "id": "tMIdy6FJI9SY",
    "outputId": "a4ca3edc-6b33-485c-b103-1723b1544deb"
   },
   "outputs": [
    {
     "data": {
      "text/html": [
       "<div>\n",
       "<style scoped>\n",
       "    .dataframe tbody tr th:only-of-type {\n",
       "        vertical-align: middle;\n",
       "    }\n",
       "\n",
       "    .dataframe tbody tr th {\n",
       "        vertical-align: top;\n",
       "    }\n",
       "\n",
       "    .dataframe thead th {\n",
       "        text-align: right;\n",
       "    }\n",
       "</style>\n",
       "<table border=\"1\" class=\"dataframe\">\n",
       "  <thead>\n",
       "    <tr style=\"text-align: right;\">\n",
       "      <th></th>\n",
       "      <th>GDP per capita</th>\n",
       "      <th>Life satisfaction</th>\n",
       "    </tr>\n",
       "    <tr>\n",
       "      <th>Country</th>\n",
       "      <th></th>\n",
       "      <th></th>\n",
       "    </tr>\n",
       "  </thead>\n",
       "  <tbody>\n",
       "    <tr>\n",
       "      <th>Russia</th>\n",
       "      <td>9054.914</td>\n",
       "      <td>6.0</td>\n",
       "    </tr>\n",
       "    <tr>\n",
       "      <th>Turkey</th>\n",
       "      <td>9437.372</td>\n",
       "      <td>5.6</td>\n",
       "    </tr>\n",
       "    <tr>\n",
       "      <th>Hungary</th>\n",
       "      <td>12239.894</td>\n",
       "      <td>4.9</td>\n",
       "    </tr>\n",
       "    <tr>\n",
       "      <th>Poland</th>\n",
       "      <td>12495.334</td>\n",
       "      <td>5.8</td>\n",
       "    </tr>\n",
       "    <tr>\n",
       "      <th>Slovak Republic</th>\n",
       "      <td>15991.736</td>\n",
       "      <td>6.1</td>\n",
       "    </tr>\n",
       "  </tbody>\n",
       "</table>\n",
       "</div>"
      ],
      "text/plain": [
       "                 GDP per capita  Life satisfaction\n",
       "Country                                           \n",
       "Russia                 9054.914                6.0\n",
       "Turkey                 9437.372                5.6\n",
       "Hungary               12239.894                4.9\n",
       "Poland                12495.334                5.8\n",
       "Slovak Republic       15991.736                6.1"
      ]
     },
     "execution_count": 7,
     "metadata": {},
     "output_type": "execute_result"
    }
   ],
   "source": [
    "sample_data.head()"
   ]
  },
  {
   "cell_type": "code",
   "execution_count": 8,
   "metadata": {},
   "outputs": [
    {
     "data": {
      "text/html": [
       "<div>\n",
       "<style scoped>\n",
       "    .dataframe tbody tr th:only-of-type {\n",
       "        vertical-align: middle;\n",
       "    }\n",
       "\n",
       "    .dataframe tbody tr th {\n",
       "        vertical-align: top;\n",
       "    }\n",
       "\n",
       "    .dataframe thead th {\n",
       "        text-align: right;\n",
       "    }\n",
       "</style>\n",
       "<table border=\"1\" class=\"dataframe\">\n",
       "  <thead>\n",
       "    <tr style=\"text-align: right;\">\n",
       "      <th></th>\n",
       "      <th>GDP per capita</th>\n",
       "      <th>Life satisfaction</th>\n",
       "    </tr>\n",
       "    <tr>\n",
       "      <th>Country</th>\n",
       "      <th></th>\n",
       "      <th></th>\n",
       "    </tr>\n",
       "  </thead>\n",
       "  <tbody>\n",
       "    <tr>\n",
       "      <th>Brazil</th>\n",
       "      <td>8669.998</td>\n",
       "      <td>7.0</td>\n",
       "    </tr>\n",
       "    <tr>\n",
       "      <th>Mexico</th>\n",
       "      <td>9009.280</td>\n",
       "      <td>6.7</td>\n",
       "    </tr>\n",
       "    <tr>\n",
       "      <th>Chile</th>\n",
       "      <td>13340.905</td>\n",
       "      <td>6.7</td>\n",
       "    </tr>\n",
       "    <tr>\n",
       "      <th>Czech Republic</th>\n",
       "      <td>17256.918</td>\n",
       "      <td>6.5</td>\n",
       "    </tr>\n",
       "    <tr>\n",
       "      <th>Norway</th>\n",
       "      <td>74822.106</td>\n",
       "      <td>7.4</td>\n",
       "    </tr>\n",
       "    <tr>\n",
       "      <th>Switzerland</th>\n",
       "      <td>80675.308</td>\n",
       "      <td>7.5</td>\n",
       "    </tr>\n",
       "    <tr>\n",
       "      <th>Luxembourg</th>\n",
       "      <td>101994.093</td>\n",
       "      <td>6.9</td>\n",
       "    </tr>\n",
       "  </tbody>\n",
       "</table>\n",
       "</div>"
      ],
      "text/plain": [
       "                GDP per capita  Life satisfaction\n",
       "Country                                          \n",
       "Brazil                8669.998                7.0\n",
       "Mexico                9009.280                6.7\n",
       "Chile                13340.905                6.7\n",
       "Czech Republic       17256.918                6.5\n",
       "Norway               74822.106                7.4\n",
       "Switzerland          80675.308                7.5\n",
       "Luxembourg          101994.093                6.9"
      ]
     },
     "execution_count": 8,
     "metadata": {},
     "output_type": "execute_result"
    }
   ],
   "source": [
    "missing_data"
   ]
  },
  {
   "cell_type": "markdown",
   "metadata": {
    "id": "1PAA01-lI9SY"
   },
   "source": [
    "It's pretty easy to show that data like this has some potential for making accurate predictions."
   ]
  },
  {
   "cell_type": "code",
   "execution_count": 52,
   "metadata": {
    "colab": {
     "base_uri": "https://localhost:8080/",
     "height": 237
    },
    "id": "qcR5Jy8bI9SY",
    "outputId": "3c6a58fc-b19e-4f10-8305-0acd7f3c02ed",
    "scrolled": false
   },
   "outputs": [
    {
     "data": {
      "image/png": "[encoded data removed]",
      "text/plain": [
       "<Figure size 500x300 with 1 Axes>"
      ]
     },
     "metadata": {},
     "output_type": "display_data"
    }
   ],
   "source": [
    "# Scatter all the points, using the pandas DF plot method.\n",
    "sample_data.plot(kind='scatter', x=\"GDP per capita\", y='Life satisfaction', figsize=(5,3))\n",
    "# GDP 0-60K X-axis. LifeSat 0-10 Y-axis\n",
    "plt.axis([0, 60000, 0, 10])\n",
    "# Text positions need some eyeballing, and so are entered by hand. x = left edge of text\n",
    "position_text = {\n",
    "    \"Hungary\": (5000, 1),\n",
    "    \"Korea\": (18000, 1.7),\n",
    "    \"France\": (29000, 2.4),\n",
    "    \"Australia\": (40000, 3.0),\n",
    "    \"United States\": (52000, 3.8),\n",
    "}\n",
    "for country, pos_text in position_text.items():\n",
    "    pos_data_x, pos_data_y = sample_data.loc[country]\n",
    "    country = \"U.S.\" if country == \"United States\" else country\n",
    "    plt.annotate(country, xy=(pos_data_x, pos_data_y), xytext=pos_text,\n",
    "            arrowprops=dict(facecolor='black', width=0.5, shrink=0.1, headwidth=5))\n",
    "    # Make these points red circles\n",
    "    plt.plot(pos_data_x, pos_data_y, \"ro\")\n",
    "plt.show()"
   ]
  },
  {
   "cell_type": "markdown",
   "metadata": {
    "id": "vPuhHFkeI9SZ"
   },
   "source": [
    "As the GDP grows the Life satisfaction grows.  Over on the right, the life satisfaction of the US isn't quite where we'd expect it to be.  Although the US has a higher GDP than Australia, its life satisfaction trails behind.  But all in all, it's a pretty strong trend.  More money equals more happiness."
   ]
  },
  {
   "cell_type": "code",
   "execution_count": 10,
   "metadata": {
    "id": "PBvDCfikI9SZ",
    "outputId": "db9bd2a8-b6fe-4a6a-d856-60e760cabf7c"
   },
   "outputs": [
    {
     "data": {
      "text/html": [
       "<div>\n",
       "<style scoped>\n",
       "    .dataframe tbody tr th:only-of-type {\n",
       "        vertical-align: middle;\n",
       "    }\n",
       "\n",
       "    .dataframe tbody tr th {\n",
       "        vertical-align: top;\n",
       "    }\n",
       "\n",
       "    .dataframe thead th {\n",
       "        text-align: right;\n",
       "    }\n",
       "</style>\n",
       "<table border=\"1\" class=\"dataframe\">\n",
       "  <thead>\n",
       "    <tr style=\"text-align: right;\">\n",
       "      <th></th>\n",
       "      <th>GDP per capita</th>\n",
       "      <th>Life satisfaction</th>\n",
       "    </tr>\n",
       "    <tr>\n",
       "      <th>Country</th>\n",
       "      <th></th>\n",
       "      <th></th>\n",
       "    </tr>\n",
       "  </thead>\n",
       "  <tbody>\n",
       "    <tr>\n",
       "      <th>Hungary</th>\n",
       "      <td>12239.894</td>\n",
       "      <td>4.9</td>\n",
       "    </tr>\n",
       "    <tr>\n",
       "      <th>Korea</th>\n",
       "      <td>27195.197</td>\n",
       "      <td>5.8</td>\n",
       "    </tr>\n",
       "    <tr>\n",
       "      <th>France</th>\n",
       "      <td>37675.006</td>\n",
       "      <td>6.5</td>\n",
       "    </tr>\n",
       "    <tr>\n",
       "      <th>Australia</th>\n",
       "      <td>50961.865</td>\n",
       "      <td>7.3</td>\n",
       "    </tr>\n",
       "    <tr>\n",
       "      <th>United States</th>\n",
       "      <td>55805.204</td>\n",
       "      <td>7.2</td>\n",
       "    </tr>\n",
       "  </tbody>\n",
       "</table>\n",
       "</div>"
      ],
      "text/plain": [
       "               GDP per capita  Life satisfaction\n",
       "Country                                         \n",
       "Hungary             12239.894                4.9\n",
       "Korea               27195.197                5.8\n",
       "France              37675.006                6.5\n",
       "Australia           50961.865                7.3\n",
       "United States       55805.204                7.2"
      ]
     },
     "execution_count": 10,
     "metadata": {},
     "output_type": "execute_result"
    }
   ],
   "source": [
    "sample_data.loc[list(position_text.keys())]"
   ]
  },
  {
   "cell_type": "markdown",
   "metadata": {
    "id": "dKJr-KM9I9SZ"
   },
   "source": [
    "## Doing it by hand"
   ]
  },
  {
   "cell_type": "markdown",
   "metadata": {
    "id": "q4-UXIadI9SZ"
   },
   "source": [
    "In this notebook, we're looking at **linear regression models**.  A regression model is a kind of model that tries to\n",
    "predict some dependent variable on the basis of one or more independent variables.  Sometimes we say\n",
    "the model attempts to **explain** the dependent variable in terms of the independent variables.  A **linear regression\n",
    "model** tries to predict with a linear model, a model that can actually be represented as a line or a plane\n",
    "or a hyperplane on a plot.  In this notebook we'll study the simplest case, trying to predict one dependent variable\n",
    "with one independent variable. In that case the line that represents the model can be drawn on \n",
    "a 2D plot.  For our dependent variable we'll use life satisfaction and for our independent\n",
    "variable we'll use GDP.  So we're trying to explain life satisfaction in terms of GDP\n",
    "with a linear model.\n",
    "\n",
    "Let's try to draw some lines that capture the trends, just using our eyeballs.  \n",
    "A line is defined by two numbers, a slope value $\\theta_{1}$ and an intercept value $\\theta_{0}$; $\\theta_{0}$ is y-value at which the line intersects the y-axis; $\\theta_{1}$ is the slope.  In the plot we draw the lines determined by some candidate linear regression models (some guesses at $\\theta_{0}$ and $\\theta_{1}$), together with a sample of points to evaluate the guesses.  The closer the lines are to the points, the better the model."
   ]
  },
  {
   "cell_type": "code",
   "execution_count": 11,
   "metadata": {
    "colab": {
     "base_uri": "https://localhost:8080/",
     "height": 237
    },
    "id": "HwQSom8cI9SZ",
    "outputId": "cc02259c-c793-4b90-f2f1-60ab9b673954"
   },
   "outputs": [
    {
     "data": {
      "image/png": "[encoded data removed]",
      "text/plain": [
       "<Figure size 500x300 with 1 Axes>"
      ]
     },
     "metadata": {},
     "output_type": "display_data"
    }
   ],
   "source": [
    "#import numpy as np\n",
    "\n",
    "# The data\n",
    "sample_data.plot(kind='scatter', x=\"GDP per capita\", y='Life satisfaction', figsize=(5,3))\n",
    "plt.axis([0, 60000, 0, 10])\n",
    "X=np.linspace(0, 60000, 1000)\n",
    "\n",
    "# red line\n",
    "plt.plot(X, 2*X/100000, \"r\")\n",
    "plt.text(40000, 2.7, r\"$\\theta_0 = 0$\", fontsize=14, color=\"r\")\n",
    "plt.text(40000, 1.8, r\"$\\theta_1 = 2 \\times 10^{-5}$\", fontsize=14, color=\"r\")\n",
    "\n",
    "# green line\n",
    "plt.plot(X, 8 - 5*X/100000, \"g\")\n",
    "plt.text(5000, 9.1, r\"$\\theta_0 = 8$\", fontsize=14, color=\"g\")\n",
    "plt.text(5000, 8.2, r\"$\\theta_1 = -5 \\times 10^{-5}$\", fontsize=14, color=\"g\")\n",
    "\n",
    "# blue line\n",
    "plt.plot(X, 4 + 5*X/100000, \"b\")\n",
    "plt.text(5000, 3.5, r\"$\\theta_0 = 4$\", fontsize=14, color=\"b\")\n",
    "plt.text(5000, 2.6, r\"$\\theta_1 = 5 \\times 10^{-5}$\", fontsize=14, color=\"b\")\n",
    "\n",
    "# Let's have this cell return nothing.  Just a display cell.\n",
    "None"
   ]
  },
  {
   "cell_type": "markdown",
   "metadata": {
    "id": "mKvUfyygI9Sa"
   },
   "source": [
    "The blue line isn't bad.  Maybe we can do better if we use some math. "
   ]
  },
  {
   "cell_type": "markdown",
   "metadata": {
    "id": "m3Iep9AGI9Sa"
   },
   "source": [
    "## The scitkit_learn (aka sklearn) linear regression module"
   ]
  },
  {
   "cell_type": "markdown",
   "metadata": {
    "id": "NA04ixaiI9Sa"
   },
   "source": [
    "We load up the `sklearn` linear regression module and ask it to find the line that best fits our sample data.   "
   ]
  },
  {
   "cell_type": "code",
   "execution_count": 10,
   "metadata": {},
   "outputs": [
    {
     "name": "stdout",
     "output_type": "stream",
     "text": [
      "Training R2: 0.73\n"
     ]
    },
    {
     "data": {
      "text/plain": [
       "(4.853052800266436, 4.911544589158484e-05)"
      ]
     },
     "execution_count": 10,
     "metadata": {},
     "output_type": "execute_result"
    }
   ],
   "source": [
    "from sklearn import linear_model\n",
    "\n",
    "#Data\n",
    "# Independent variable Must be DataFrame\n",
    "Xsample = sample_data[[\"GDP per capita\"]]\n",
    "# Dependent variable (can be Series)\n",
    "ysample = sample_data[\"Life satisfaction\"]\n",
    "#Create model\n",
    "lin1 = linear_model.LinearRegression()\n",
    "#Train model on data\n",
    "lin1.fit(Xsample, ysample)\n",
    "print(f\"Training R2: {lin1.score(Xsample,ysample):.2f}\")\n",
    "# Here's the result of the learning.  In more dimensions, there will be more coefficients\n",
    "theta0, theta1 = lin1.intercept_, lin1.coef_[0]\n",
    "theta0, theta1"
   ]
  },
  {
   "cell_type": "markdown",
   "metadata": {},
   "source": [
    "We will talk about the training R2 score below.  It looks promising but in this case\n",
    "is quite misleading."
   ]
  },
  {
   "cell_type": "code",
   "execution_count": 38,
   "metadata": {
    "colab": {
     "base_uri": "https://localhost:8080/"
    },
    "id": "9CpkgdlaI9Sa",
    "outputId": "dd240ad7-7ca1-4697-d4a3-ca6e00221289"
   },
   "outputs": [
    {
     "data": {
      "text/plain": [
       "(4.853052800266436, 4.911544589158484e-05)"
      ]
     },
     "execution_count": 38,
     "metadata": {},
     "output_type": "execute_result"
    }
   ],
   "source": [
    "#from sklearn import linear_model\n",
    "\n",
    "#Data\n",
    "# Independent variable\n",
    "#Xsample = sample_data[[\"GDP per capita\"]]\n",
    "# Dependent variable\n",
    "#ysample = sample_data[[\"Life satisfaction\"]]\n",
    "#Create model\n",
    "#lin1 = linear_model.LinearRegression()\n",
    "#Train model on data\n",
    "#lin1.fit(Xsample, ysample)\n",
    "\n",
    "# Here's the result of the learning.\n",
    "#theta0, theta1 = lin1.intercept_[0], lin1.coef_[0][0]\n",
    "#theta0, theta1"
   ]
  },
  {
   "cell_type": "markdown",
   "metadata": {
    "id": "MCVKu-VpI9Sa"
   },
   "source": [
    "Notice creating a `linear_model` produced a python object called `lin1`.  That's what we run the `fit` method on.  This method \"fits\" the model to the data.\n",
    "After fitting, the `lin1` object has learned two numbers called the `intercept` and the `coefficient`.  These are the slope and intercept of the regression line."
   ]
  },
  {
   "cell_type": "markdown",
   "metadata": {},
   "source": [
    "Note that sklearn is fully integrated with pandas, but the training data passed in\n",
    "must be a `DataFrame`. This is why the line defining `Xsamples`  must have two square brackets instead of just one:"
   ]
  },
  {
   "cell_type": "code",
   "execution_count": 20,
   "metadata": {
    "scrolled": true
   },
   "outputs": [
    {
     "data": {
      "text/plain": [
       "(pandas.core.frame.DataFrame, pandas.core.series.Series)"
      ]
     },
     "execution_count": 20,
     "metadata": {},
     "output_type": "execute_result"
    }
   ],
   "source": [
    "type(sample_data[[\"GDP per capita\"]]),type(sample_data[\"GDP per capita\"])"
   ]
  },
  {
   "cell_type": "markdown",
   "metadata": {},
   "source": [
    "Essentially the independent varuable data must be 2-dimensional.  The same would\n",
    "hold true if we were passing in numpy arrays with one feature. In place of\n",
    "training data with shape (n,), we would pass in data with shape (n,1),\n",
    "reshaping the data if necessary."
   ]
  },
  {
   "cell_type": "markdown",
   "metadata": {
    "id": "MCVKu-VpI9Sa"
   },
   "source": [
    "We draw our data again with the line defined by the slope and intercept. Pretty good fit, eyeballing it."
   ]
  },
  {
   "cell_type": "code",
   "execution_count": 12,
   "metadata": {
    "colab": {
     "base_uri": "https://localhost:8080/",
     "height": 237
    },
    "id": "rp2Zvk9WI9Sa",
    "outputId": "ff0ad288-69b1-4642-c7c3-a4d6a577c557"
   },
   "outputs": [
    {
     "data": {
      "image/png": "[encoded data removed]",
      "text/plain": [
       "<Figure size 500x300 with 1 Axes>"
      ]
     },
     "metadata": {},
     "output_type": "display_data"
    }
   ],
   "source": [
    "sample_data.plot(kind='scatter', x=\"GDP per capita\", y='Life satisfaction', figsize=(5,3))\n",
    "plt.axis([0, 60000, 0, 10])\n",
    "X=np.linspace(0, 60000, 1000)\n",
    "plt.plot(X, theta0 + theta1*X, \"b\")\n",
    "plt.text(5000, 3.1, r\"$\\theta_0 = 4.85$\", fontsize=14, color=\"b\")\n",
    "plt.text(5000, 2.2, r\"$\\theta_1 = 4.91 \\times 10^{-5}$\", fontsize=14, color=\"b\")\n",
    "None\n"
   ]
  },
  {
   "cell_type": "markdown",
   "metadata": {
    "id": "mL8BB9cdI9Sa"
   },
   "source": [
    "#### Predicting the Life Satisfaction Score for Cypress\n",
    "\n",
    "First, let's try to predict the `Life Satisfaction` for a country we know the GDP of, which is missing from our\n",
    "quality of life data, `Cypress`.\n",
    "\n",
    "What we do is plug the GDP for Cypress into the model using the `predict` method, and it returns the\n",
    "`Life Satisfaction` score predicted by the `scikit_learn` model, which is 5.96 or so."
   ]
  },
  {
   "cell_type": "code",
   "execution_count": 14,
   "metadata": {
    "colab": {
     "base_uri": "https://localhost:8080/"
    },
    "id": "GvF_973GI9Sb",
    "outputId": "fcaf0a86-6408-4acf-d8bc-35ea9cff12ca"
   },
   "outputs": [
    {
     "name": "stdout",
     "output_type": "stream",
     "text": [
      "Model input GDP val:           22,587.49\n",
      "Model output lifesat score:         5.96\n"
     ]
    }
   ],
   "source": [
    "cyprus_gdp_per_capita = gdp_per_capita.loc[\"Cyprus\"][[\"GDP per capita\"]]\n",
    "# What we plug into the model\n",
    "print(f\"{'Model input GDP val:':<30} {cyprus_gdp_per_capita['GDP per capita']:>9,}\")\n",
    "cyprus_predicted_life_satisfaction = lin1.predict(pd.DataFrame({\"GDP per capita\":\n",
    "                                                                cyprus_gdp_per_capita}))[0]\n",
    "# What we get out\n",
    "print(f\"{'Model output lifesat score:':<30} {cyprus_predicted_life_satisfaction:>9.2f}\")"
   ]
  },
  {
   "cell_type": "code",
   "execution_count": 42,
   "metadata": {
    "colab": {
     "base_uri": "https://localhost:8080/",
     "height": 292
    },
    "id": "irQG2Mm4I9Sb",
    "outputId": "89eeb0d5-e763-4bfb-de27-0cf6db9a8ea6"
   },
   "outputs": [
    {
     "data": {
      "text/plain": [
       "[<matplotlib.lines.Line2D at 0x7fa34050b790>]"
      ]
     },
     "execution_count": 42,
     "metadata": {},
     "output_type": "execute_result"
    },
    {
     "data": {
      "image/png": "[encoded data removed]",
      "text/plain": [
       "<Figure size 600x400 with 1 Axes>"
      ]
     },
     "metadata": {},
     "output_type": "display_data"
    }
   ],
   "source": [
    "from matplotlib import pyplot as plt\n",
    "\n",
    "fig, ax = plt.subplots(1,1,figsize=(6,4))\n",
    "sample_data.plot(kind='scatter', x=\"GDP per capita\", y='Life satisfaction', ax=ax,s=1)\n",
    "X=np.linspace(0, 60000, 1000)\n",
    "\n",
    "# Plot the line our linear regression model learned.\n",
    "ax.set_title(\"Predicting the Life-Satisfaction of Cypress\")\n",
    "ax.plot(X, theta0 + theta1*X, \"b\")\n",
    "ax.axis([0, 60000, 0, 10])\n",
    "ax.text(5000, 7.5, r\"$\\theta_0 = 4.85$\", fontsize=14, color=\"b\")\n",
    "ax.text(5000, 6.6, r\"$\\theta_1 = 4.91 \\times 10^{-5}$\", fontsize=14, color=\"b\")\n",
    "\n",
    "# Plot a vertical red dashed line where the GDP of CYPRESS is. \n",
    "# It goes from the x axis right up to where our predicted happiness is.\n",
    "ax.plot([cyprus_gdp_per_capita, cyprus_gdp_per_capita], [0, cyprus_predicted_life_satisfaction], \"r--\")\n",
    "\n",
    "ax.text(25000, 5.0, r\"Prediction = 5.96\", fontsize=14, color=\"b\")\n",
    "# Plot a fat red dot right where our predicted happiness is\n",
    "# Notice it lands right on the line, and it has to, because our model just is the line.\n",
    "ax.plot(cyprus_gdp_per_capita, cyprus_predicted_life_satisfaction, \"ro\")\n",
    "#plt.show()"
   ]
  },
  {
   "cell_type": "markdown",
   "metadata": {
    "colab": {
     "base_uri": "https://localhost:8080/",
     "height": 292
    },
    "id": "irQG2Mm4I9Sb",
    "outputId": "89eeb0d5-e763-4bfb-de27-0cf6db9a8ea6"
   },
   "source": [
    "Look at the sample data that has around the same GDP as Cypress."
   ]
  },
  {
   "cell_type": "code",
   "execution_count": 26,
   "metadata": {
    "id": "fklBh8OLI9Sb",
    "outputId": "adf4de29-dd56-436f-e911-760c21001538"
   },
   "outputs": [
    {
     "data": {
      "text/html": [
       "<div>\n",
       "<style scoped>\n",
       "    .dataframe tbody tr th:only-of-type {\n",
       "        vertical-align: middle;\n",
       "    }\n",
       "\n",
       "    .dataframe tbody tr th {\n",
       "        vertical-align: top;\n",
       "    }\n",
       "\n",
       "    .dataframe thead th {\n",
       "        text-align: right;\n",
       "    }\n",
       "</style>\n",
       "<table border=\"1\" class=\"dataframe\">\n",
       "  <thead>\n",
       "    <tr style=\"text-align: right;\">\n",
       "      <th></th>\n",
       "      <th>GDP per capita</th>\n",
       "      <th>Life satisfaction</th>\n",
       "    </tr>\n",
       "    <tr>\n",
       "      <th>Country</th>\n",
       "      <th></th>\n",
       "      <th></th>\n",
       "    </tr>\n",
       "  </thead>\n",
       "  <tbody>\n",
       "    <tr>\n",
       "      <th>Portugal</th>\n",
       "      <td>19121.592</td>\n",
       "      <td>5.1</td>\n",
       "    </tr>\n",
       "    <tr>\n",
       "      <th>Slovenia</th>\n",
       "      <td>20732.482</td>\n",
       "      <td>5.7</td>\n",
       "    </tr>\n",
       "    <tr>\n",
       "      <th>Spain</th>\n",
       "      <td>25864.721</td>\n",
       "      <td>6.5</td>\n",
       "    </tr>\n",
       "  </tbody>\n",
       "</table>\n",
       "</div>"
      ],
      "text/plain": [
       "          GDP per capita  Life satisfaction\n",
       "Country                                    \n",
       "Portugal       19121.592                5.1\n",
       "Slovenia       20732.482                5.7\n",
       "Spain          25864.721                6.5"
      ]
     },
     "execution_count": 26,
     "metadata": {},
     "output_type": "execute_result"
    }
   ],
   "source": [
    "sample_data[7:10]"
   ]
  },
  {
   "cell_type": "code",
   "execution_count": 27,
   "metadata": {},
   "outputs": [
    {
     "data": {
      "text/plain": [
       "GDP per capita    22587.49\n",
       "Name: Cyprus, dtype: object"
      ]
     },
     "execution_count": 27,
     "metadata": {},
     "output_type": "execute_result"
    }
   ],
   "source": [
    "cyprus_gdp_per_capita"
   ]
  },
  {
   "cell_type": "markdown",
   "metadata": {
    "id": "G9_kAEdOI9Sb"
   },
   "source": [
    "Suppose we try to predict our life satisfaction by taking the average of these 3 points."
   ]
  },
  {
   "cell_type": "code",
   "execution_count": 28,
   "metadata": {
    "id": "Hfx7342FI9Sb",
    "outputId": "aeb0c6c3-5a09-4b3a-f6f3-0080e0bd69c0"
   },
   "outputs": [
    {
     "data": {
      "text/plain": [
       "5.766666666666667"
      ]
     },
     "execution_count": 28,
     "metadata": {},
     "output_type": "execute_result"
    }
   ],
   "source": [
    "(5.1+5.7+6.5)/3"
   ]
  },
  {
   "cell_type": "markdown",
   "metadata": {
    "id": "CWY230wuI9Sc"
   },
   "source": [
    "So you can see this estimate is lower than the 5.96 estimated by our model.  This is because the linear model tries for the best line that fits **all** the points, so it responds to the fact that there is a steady upward\n",
    "trend with a particular slope, and because Spain falls below that line, it is treated as a point whose value has been reduced by **noise**. "
   ]
  },
  {
   "cell_type": "markdown",
   "metadata": {
    "id": "pRlovBB1I9Sc"
   },
   "source": [
    "So far, so good.  But what we really need to do is TEST our model on some data it didn't see during\n",
    "training, but for which we know the answers.  That was the point of setting aside some test data."
   ]
  },
  {
   "cell_type": "code",
   "execution_count": 29,
   "metadata": {
    "id": "GQJpwjLEI9Sc",
    "outputId": "c2d3972e-a3f8-4a8f-88a7-931bbf25948a"
   },
   "outputs": [
    {
     "data": {
      "text/html": [
       "<div>\n",
       "<style scoped>\n",
       "    .dataframe tbody tr th:only-of-type {\n",
       "        vertical-align: middle;\n",
       "    }\n",
       "\n",
       "    .dataframe tbody tr th {\n",
       "        vertical-align: top;\n",
       "    }\n",
       "\n",
       "    .dataframe thead th {\n",
       "        text-align: right;\n",
       "    }\n",
       "</style>\n",
       "<table border=\"1\" class=\"dataframe\">\n",
       "  <thead>\n",
       "    <tr style=\"text-align: right;\">\n",
       "      <th></th>\n",
       "      <th>GDP per capita</th>\n",
       "      <th>Life satisfaction</th>\n",
       "    </tr>\n",
       "    <tr>\n",
       "      <th>Country</th>\n",
       "      <th></th>\n",
       "      <th></th>\n",
       "    </tr>\n",
       "  </thead>\n",
       "  <tbody>\n",
       "    <tr>\n",
       "      <th>Brazil</th>\n",
       "      <td>8669.998</td>\n",
       "      <td>7.0</td>\n",
       "    </tr>\n",
       "    <tr>\n",
       "      <th>Mexico</th>\n",
       "      <td>9009.280</td>\n",
       "      <td>6.7</td>\n",
       "    </tr>\n",
       "    <tr>\n",
       "      <th>Chile</th>\n",
       "      <td>13340.905</td>\n",
       "      <td>6.7</td>\n",
       "    </tr>\n",
       "    <tr>\n",
       "      <th>Czech Republic</th>\n",
       "      <td>17256.918</td>\n",
       "      <td>6.5</td>\n",
       "    </tr>\n",
       "    <tr>\n",
       "      <th>Norway</th>\n",
       "      <td>74822.106</td>\n",
       "      <td>7.4</td>\n",
       "    </tr>\n",
       "    <tr>\n",
       "      <th>Switzerland</th>\n",
       "      <td>80675.308</td>\n",
       "      <td>7.5</td>\n",
       "    </tr>\n",
       "    <tr>\n",
       "      <th>Luxembourg</th>\n",
       "      <td>101994.093</td>\n",
       "      <td>6.9</td>\n",
       "    </tr>\n",
       "  </tbody>\n",
       "</table>\n",
       "</div>"
      ],
      "text/plain": [
       "                GDP per capita  Life satisfaction\n",
       "Country                                          \n",
       "Brazil                8669.998                7.0\n",
       "Mexico                9009.280                6.7\n",
       "Chile                13340.905                6.7\n",
       "Czech Republic       17256.918                6.5\n",
       "Norway               74822.106                7.4\n",
       "Switzerland          80675.308                7.5\n",
       "Luxembourg          101994.093                6.9"
      ]
     },
     "execution_count": 29,
     "metadata": {},
     "output_type": "execute_result"
    }
   ],
   "source": [
    "missing_data"
   ]
  },
  {
   "cell_type": "code",
   "execution_count": 8,
   "metadata": {
    "id": "EAPp4PNnI9Sc"
   },
   "outputs": [],
   "source": [
    "position_text2 = {\n",
    "    \"Brazil\": (1000, 9.0),\n",
    "    \"Mexico\": (11000, 9.0),\n",
    "    \"Chile\": (25000, 9.0),\n",
    "    \"Czech Republic\": (35000, 9.0),\n",
    "    \"Norway\": (60000, 3),\n",
    "    \"Switzerland\": (72000, 3.0),\n",
    "    \"Luxembourg\": (90000, 3.0),\n",
    "}"
   ]
  },
  {
   "cell_type": "markdown",
   "metadata": {
    "id": "skX2Gy3MI9Sc"
   },
   "source": [
    "The cell below compares two models, the one we used before (the dotted blue line), trained on our data sample,\n",
    "and another model trained on all the data (the solid black line).  The significant difference\n",
    "between these models migfht be explained in three different ways, not necessarily mutually exclusive:  (a) the points we trained on before are not all that representative of the entire data set or (b) our test points are outliers (they sort of are if you look back at how we chose them);\n",
    "or (c) the behavior of the data cannot be captured by a  linear model.  The fact that the model trained on all the data is still significantly off suggests that some of the error is  because of (c), although it does not eliminate\n",
    "the possibility that noise plays a role.\n",
    "\n",
    "| Mark  | Model trained on |Act/Pred |\n",
    "|:-|:-:| :-:      |\n",
    "| black line  |  train + test   | Pred     |\n",
    "| dotted blue line  |  train    | Pred    |\n",
    "| red squares   |      | Act test    |\n",
    "| big blue dots  |      | Act train\n",
    "\n",
    "\n",
    "The red squares are the actual locations of our test points.\n",
    "The dot on the dotted blue line that lies \n",
    "directly above or below the red square is its predicted\n",
    "value according to the model we trained before. If the red square lands directly on the \n",
    "dotted blue line, the model\n",
    "got it it exactly right.  If the red square is some distance above the line (like \"Brazil\"),\n",
    "the model's estimate is low; if the red square is some distance below the blue line (like \"Luxembourg\"),\n",
    "the model's estimate is high.  \n",
    "\n",
    "\n",
    "Which of the following statements about **the dotted blue\n",
    "line** do the red dots provide evidence for?\n",
    "\n",
    "  1.  Does the blue model underestimate or overestimate the happiness of poor countries?\n",
    "  2.  Does the blue model underestimate or overestimate the happiness of rich countries?\n",
    " "
   ]
  },
  {
   "cell_type": "code",
   "execution_count": 13,
   "metadata": {
    "colab": {
     "base_uri": "https://localhost:8080/",
     "height": 237
    },
    "id": "Rnc6TagKI9Sc",
    "outputId": "c3cbb4c4-a2ef-42ba-96e7-d75cf9c23117"
   },
   "outputs": [
    {
     "data": {
      "image/png": "[encoded data removed]",
      "text/plain": [
       "<Figure size 800x300 with 1 Axes>"
      ]
     },
     "metadata": {},
     "output_type": "display_data"
    }
   ],
   "source": [
    "sample_data.plot(kind='scatter', x=\"GDP per capita\", y='Life satisfaction', figsize=(8,3))\n",
    "plt.axis([0, 110000, 0, 10])\n",
    "\n",
    "for country, pos_text in position_text2.items():\n",
    "    pos_data_x, pos_data_y = missing_data.loc[country]\n",
    "    plt.annotate(country, xy=(pos_data_x, pos_data_y), xytext=pos_text,\n",
    "            arrowprops=dict(facecolor='black', width=0.5, shrink=0.1, headwidth=5))\n",
    "    plt.plot(pos_data_x, pos_data_y, \"rs\")\n",
    "\n",
    "X=np.linspace(0, 110000, 1000)\n",
    "# Plot the dotted blue line\n",
    "plt.plot(X, theta0 + theta1*X, \"b:\")\n",
    "\n",
    "lin_reg_full = linear_model.LinearRegression()\n",
    "Xfull = full_country_stats[[\"GDP per capita\"]]\n",
    "yfull = full_country_stats[\"Life satisfaction\"]\n",
    "lin_reg_full.fit(Xfull, yfull)\n",
    "\n",
    "t0full, t1full = lin_reg_full.intercept_, lin_reg_full.coef_[0]\n",
    "X = np.linspace(0, 110000, 1000)\n",
    "# Plot the black line\n",
    "plt.plot(X, t0full + t1full * X, \"k\")\n",
    "\n",
    "plt.show()"
   ]
  },
  {
   "cell_type": "markdown",
   "metadata": {},
   "source": [
    "Which of the following statements about **the dotted blue\n",
    "line** do the red dots provide evidence for?\n",
    "\n",
    "  1.  Does the blue model underestimate or overestimate the happiness of poor countries?\n",
    "  2.  Does the blue model underestimate or overestimate the happiness of rich countries?\n",
    " \n",
    "\n",
    "Q1.  If we include both the training points (blue) and test points (red),  it does a fair bit of\n",
    "both under estimate and overestimating. That is restricted to the poorer countries though.  \n",
    "\n",
    "Q2.  The three richest countries are all in the test set, and the dotted blue model overestimates the happiness\n",
    "of all three rich countries.  Indeed, so does the model trained on all the data, but not by as much."
   ]
  },
  {
   "cell_type": "markdown",
   "metadata": {
    "id": "QRIHL1wtI9Sd"
   },
   "source": [
    "# Other models"
   ]
  },
  {
   "cell_type": "markdown",
   "metadata": {
    "id": "n3u7jW6ZI9Sd"
   },
   "source": [
    "The next cell has some code computing a complicated model, one which does not have to be a line.\n",
    "It is a higher order polynomial model which can curve up and down to capture all the data\n",
    "points.  We can measure the aggregate error of a model on the training set by computing the distance of each actual point from\n",
    "the curve/line of the model. By that definition,  the polynomial model\n",
    "is reducing the \"error\" on the training set by a large amount.   But is it a better model?\n",
    "Only the performance on a test set will tell us for sure.\n",
    "\n",
    "Note:  The machine learning toolkit demoed here (`scikit_learn`) has a variety of robust regression\n",
    "strategies implemented; see [Scikit learn docs](https://scikit-learn.org/stable/auto_examples/linear_model/plot_robust_fit.html#sphx-glr-auto-examples-linear-model-plot-robust-fit-py) for discussion.\n",
    "\n",
    "\n",
    "**Pipeline**\n",
    "\n",
    "We choose a degree, the highest exponent in the polynomial function we will use to make\n",
    "predictions.  Below we choose 20.\n",
    "\n",
    "1.  Polynomial features. Generate a new feature matrix consisting of all polynomial combinations of the features with degree less than or equal to the specified degree k. For example, if an input sample is two dimensional and of the form [a, b] (say using the two features GDP and employment), the degree-2 polynomial features are [$1, a, b, a^2, ab, b^2$].  \n",
    "    What this notation means is that the model has to learn coefficients or **weights** to associate with each of these values such that when the following polynomial is summed, it gets as close as possible to the real life-satisfaction value:\n",
    "    \n",
    "    $$w_{1} + w_{2}a + w_{3}b + w_{4}a^{2} + w_{5}ab + w_{6}b^2$$\n",
    "    \n",
    "    These polynomial models have a lot of numbers to learn. For a 1-dimensional input model (one feature, GDP, in our case) and k=60, the model will compute 20 new feature values [1, a^2, ..., a^20] and need to learn weights for all of them.  If we used employment in addition to GDP, it would be a lot more.\n",
    "\n",
    "2.  Scaler.  The standard scaler computes the **z-score**, that is, it maps each feature value x onto z where\n",
    "\n",
    "    $$\n",
    "    z = (x - \\mu) / s\n",
    "    $$\n",
    "    \n",
    "    where $\\mu$ is the mean of the feature and $s$ is the standard deviation.  As we saw in the pandas module, this is known as centering and scaling. One motivation for scaling and centering is that it reduces the possibility of over- or under- valuing features with large/small value ranges. In a polynomial model some of the features are practically guaranteed to be of different scale than the others (because, for example, $x^20$ will generally be of a different order of magnitude than $x$), but scaling may help in any model with more than one independent variable.\n",
    "    \n",
    "3.  With the new features we still do a linear regression, just in a much higher dimensional space. In other words, the learning computation in the example depicted below is exactly the same as if we had 60 independent features instead of 1 value we had raised to 60 different powers.  In both cases it's a linear model.  In both cases, we seek to learn the weights that define a hyper plane that provides the least squared error solution. When we do a 2D plot of the predicted values our dimension-60 \"linear\" model assigns to our data (using the original data GDP feature as the X coordinate),  the predicted Life Satisfaction value is a sinuous curve, because the function determining the y-values is of course polynomial.\n",
    "    \n",
    "Note:  This is a pretty silly example but we use it to illustrate a simple point.  With a model \n",
    "with enough parameters (each of those Polynomial features gets its own coefficient), you can fit\n",
    "anything."
   ]
  },
  {
   "cell_type": "code",
   "execution_count": 52,
   "metadata": {
    "colab": {
     "base_uri": "https://localhost:8080/",
     "height": 237
    },
    "id": "njFFdoPwI9Sd",
    "outputId": "497f2a87-b2cb-4f6b-961e-9ccfe87d6559",
    "scrolled": true
   },
   "outputs": [
    {
     "data": {
      "image/png": "[encoded data removed]",
      "text/plain": [
       "<Figure size 800x300 with 1 Axes>"
      ]
     },
     "metadata": {},
     "output_type": "display_data"
    }
   ],
   "source": [
    "full_country_stats.plot(kind='scatter', x=\"GDP per capita\", \n",
    "                        y='Life satisfaction', figsize=(8,3))\n",
    "plt.axis([0, 110000, 0, 10])\n",
    "\n",
    "\n",
    "\n",
    "poly = preprocessing.PolynomialFeatures(degree=20, include_bias=True)\n",
    "scaler = preprocessing.StandardScaler()\n",
    "lin_reg2 = linear_model.LinearRegression()\n",
    "\n",
    "pipeline_reg = pipeline.Pipeline([('poly', poly), ('scal', scaler), ('lin', lin_reg2)])\n",
    "# Train on the full GDP dataset for the sake of the picture\n",
    "pipeline_reg.fit(Xfull, yfull)\n",
    "\n",
    "# Pass in a large set of sample GDP values from poor to rich \n",
    "Xvals = np.linspace(0, 110000, 1000)\n",
    "# ... as a DF as per training\n",
    "X = pd.DataFrame(Xvals, columns=[\"GDP per capita\"])\n",
    "curve = pipeline_reg.predict(X)\n",
    "plt.plot(Xvals, curve)\n",
    "plt.show()"
   ]
  },
  {
   "cell_type": "markdown",
   "metadata": {},
   "source": [
    "So this model **really** minimizes mean squared error.  It pretty much\n",
    "threads the curve through every point.\n",
    "\n",
    "But that's every point of the **training** set.  What about unseen data, the **test set**?\n",
    "\n",
    "Let's evaluate by computing the mean squared error of the\n",
    "polynomial and linear model when both are trained on the same training data\n",
    "(with 6 outliers removed)."
   ]
  },
  {
   "cell_type": "code",
   "execution_count": 53,
   "metadata": {},
   "outputs": [],
   "source": [
    "pipeline_reg = pipeline.Pipeline([('poly', poly), ('scal', scaler), ('lin', lin_reg2)])\n",
    "# Now Train on the sample dataset\n",
    "pipeline_reg.fit(Xsample, ysample)\n",
    "\n",
    "# Polynomial Model\n",
    "#vals_poly = pipeline_reg.predict(missing_data[\"GDP per capita\"].values[:,np.newaxis])\n",
    "vals_poly = pipeline_reg.predict(missing_data[[\"GDP per capita\"]])\n",
    "# Compare predicted values to actual values\n",
    "poly_mse = mean_squared_error (vals_poly[:,0], missing_data[\"Life satisfaction\"])\n",
    "\n",
    "# Linear Model\n",
    "#vals_lin = lin1.predict(missing_data[\"GDP per capita\"].values[:,np.newaxis])\n",
    "vals_lin = lin1.predict(missing_data[[\"GDP per capita\"]])\n",
    "lin_mse = mean_squared_error (vals_lin[:,0], missing_data[\"Life satisfaction\"])"
   ]
  },
  {
   "cell_type": "markdown",
   "metadata": {},
   "source": [
    "And now the results, with a fluorish:"
   ]
  },
  {
   "cell_type": "code",
   "execution_count": 31,
   "metadata": {},
   "outputs": [
    {
     "name": "stdout",
     "output_type": "stream",
     "text": [
      " Lin Model MSE: 2.682e+00\n",
      "Poly Model MSE: 5.040e+24\n"
     ]
    }
   ],
   "source": [
    "print(f' Lin Model MSE: {lin_mse:.3e}')\n",
    "print(f'Poly Model MSE: {poly_mse:.3e}')"
   ]
  },
  {
   "cell_type": "markdown",
   "metadata": {},
   "source": [
    "The mean squared error of the polynomial model is crazy bad!\n",
    "\n",
    "By comparison, the mean squared error of the linear model is pretty reasonable!\n",
    "\n",
    "To look into this, let's cook up a squared error function so as to look at the \n",
    "individual squared errors before the mean is taken."
   ]
  },
  {
   "cell_type": "code",
   "execution_count": 32,
   "metadata": {},
   "outputs": [],
   "source": [
    "def get_squared_error(predicted, actual):\n",
    "    return (predicted - actual)**2"
   ]
  },
  {
   "cell_type": "code",
   "execution_count": 34,
   "metadata": {},
   "outputs": [
    {
     "data": {
      "text/plain": [
       "5.039974893489065e+24"
      ]
     },
     "execution_count": 34,
     "metadata": {},
     "output_type": "execute_result"
    }
   ],
   "source": [
    "##  The general argument signature for evaluation metrics is\n",
    "##  evaluation_metric(predicted_values,actual_values)\n",
    "se_poly = get_squared_error (vals_poly[:,0], missing_data[\"Life satisfaction\"])\n",
    "# Save this to look at later.  \n",
    "missing_data['sq_err_poly'] = se_poly\n",
    "# Now take the mean of squared error (to compare with sklearn function)\n",
    "mse_poly = se_poly.mean()\n",
    "## pretty good egreement with sklearn's mean_squared_error function\n",
    "mse_poly"
   ]
  },
  {
   "cell_type": "code",
   "execution_count": 35,
   "metadata": {},
   "outputs": [
    {
     "data": {
      "text/plain": [
       "2.681893248747465"
      ]
     },
     "execution_count": 35,
     "metadata": {},
     "output_type": "execute_result"
    }
   ],
   "source": [
    "# Same for the linear model\n",
    "se_lin = get_squared_error (vals_lin[:,0], missing_data[\"Life satisfaction\"])\n",
    "# Save this too look at later\n",
    "missing_data['sq_err_lin'] = se_lin\n",
    "# Get the mean of squared error\n",
    "mse_lin = se_lin.mean()\n",
    "# Also good agreement\n",
    "mse_lin"
   ]
  },
  {
   "cell_type": "markdown",
   "metadata": {},
   "source": [
    "What happened?\n",
    "\n",
    "Here is our data with squared errors from the models appended."
   ]
  },
  {
   "cell_type": "code",
   "execution_count": 36,
   "metadata": {},
   "outputs": [
    {
     "data": {
      "text/html": [
       "<div>\n",
       "<style scoped>\n",
       "    .dataframe tbody tr th:only-of-type {\n",
       "        vertical-align: middle;\n",
       "    }\n",
       "\n",
       "    .dataframe tbody tr th {\n",
       "        vertical-align: top;\n",
       "    }\n",
       "\n",
       "    .dataframe thead th {\n",
       "        text-align: right;\n",
       "    }\n",
       "</style>\n",
       "<table border=\"1\" class=\"dataframe\">\n",
       "  <thead>\n",
       "    <tr style=\"text-align: right;\">\n",
       "      <th></th>\n",
       "      <th>GDP per capita</th>\n",
       "      <th>Life satisfaction</th>\n",
       "      <th>sq_err_poly</th>\n",
       "      <th>sq_err_lin</th>\n",
       "    </tr>\n",
       "    <tr>\n",
       "      <th>Country</th>\n",
       "      <th></th>\n",
       "      <th></th>\n",
       "      <th></th>\n",
       "      <th></th>\n",
       "    </tr>\n",
       "  </thead>\n",
       "  <tbody>\n",
       "    <tr>\n",
       "      <th>Brazil</th>\n",
       "      <td>8669.998</td>\n",
       "      <td>7.0</td>\n",
       "      <td>9.936943e+00</td>\n",
       "      <td>2.962242</td>\n",
       "    </tr>\n",
       "    <tr>\n",
       "      <th>Mexico</th>\n",
       "      <td>9009.280</td>\n",
       "      <td>6.7</td>\n",
       "      <td>5.971153e-01</td>\n",
       "      <td>1.972487</td>\n",
       "    </tr>\n",
       "    <tr>\n",
       "      <th>Chile</th>\n",
       "      <td>13340.905</td>\n",
       "      <td>6.7</td>\n",
       "      <td>2.379451e-01</td>\n",
       "      <td>1.420155</td>\n",
       "    </tr>\n",
       "    <tr>\n",
       "      <th>Czech Republic</th>\n",
       "      <td>17256.918</td>\n",
       "      <td>6.5</td>\n",
       "      <td>1.558291e+00</td>\n",
       "      <td>0.638986</td>\n",
       "    </tr>\n",
       "    <tr>\n",
       "      <th>Norway</th>\n",
       "      <td>74822.106</td>\n",
       "      <td>7.4</td>\n",
       "      <td>5.020802e+17</td>\n",
       "      <td>1.272325</td>\n",
       "    </tr>\n",
       "    <tr>\n",
       "      <th>Switzerland</th>\n",
       "      <td>80675.308</td>\n",
       "      <td>7.5</td>\n",
       "      <td>6.602070e+19</td>\n",
       "      <td>1.730426</td>\n",
       "    </tr>\n",
       "    <tr>\n",
       "      <th>Luxembourg</th>\n",
       "      <td>101994.093</td>\n",
       "      <td>6.9</td>\n",
       "      <td>3.527976e+25</td>\n",
       "      <td>8.776632</td>\n",
       "    </tr>\n",
       "  </tbody>\n",
       "</table>\n",
       "</div>"
      ],
      "text/plain": [
       "                GDP per capita  Life satisfaction   sq_err_poly  sq_err_lin\n",
       "Country                                                                    \n",
       "Brazil                8669.998                7.0  9.936943e+00    2.962242\n",
       "Mexico                9009.280                6.7  5.971153e-01    1.972487\n",
       "Chile                13340.905                6.7  2.379451e-01    1.420155\n",
       "Czech Republic       17256.918                6.5  1.558291e+00    0.638986\n",
       "Norway               74822.106                7.4  5.020802e+17    1.272325\n",
       "Switzerland          80675.308                7.5  6.602070e+19    1.730426\n",
       "Luxembourg          101994.093                6.9  3.527976e+25    8.776632"
      ]
     },
     "execution_count": 36,
     "metadata": {},
     "output_type": "execute_result"
    }
   ],
   "source": [
    "#  Think about why the squared error columns are so nicely aligned with the original data\n",
    "#  What Python type does get_squared_error error return?\n",
    "missing_data"
   ]
  },
  {
   "cell_type": "markdown",
   "metadata": {},
   "source": [
    "What happened was on the three rich countries (Norway, Switzerland, and Luxembourg) \n",
    "the squared error skyrocketed for the polynomial model.\n",
    "\n",
    "Looking back at the original picture of the polynomial model\n",
    "points to the source of the problem. The curve of the polynomial model swings wildly\n",
    "up and down in order to thread its way through the life-satisfaction scores for all training data countries,\n",
    "and the training data leaves it on an upswing.\n",
    "\n",
    "We can observe the polynomial model's model's upward swing by drawing a picture in which the x-axis goes well beyond the GDP values the model was trained on, and that's where the predicted life-satisfaction scores skyrocket."
   ]
  },
  {
   "cell_type": "code",
   "execution_count": 54,
   "metadata": {},
   "outputs": [
    {
     "data": {
      "image/png": "[encoded data removed]",
      "text/plain": [
       "<Figure size 640x480 with 1 Axes>"
      ]
     },
     "metadata": {},
     "output_type": "display_data"
    }
   ],
   "source": [
    "pipeline_reg_full = pipeline.Pipeline([('poly', poly), ('scal', scaler), ('lin', lin_reg2)])\n",
    "# Train on the full GDP dataset for the sake of the picture\n",
    "pipeline_reg_full.fit(Xsample, ysample)\n",
    "\n",
    "# Pass in a large set of sample GDP values from poor to rich\n",
    "Xvals0 = np.linspace(Xsample.min()+1000, Xsample.max()-1000, 1000)\n",
    "X0 = pd.DataFrame(Xvals0, columns=[\"GDP per capita\"])\n",
    "# predict expects a 2D array.  Make our 1D array X a 1000x1 2D array\n",
    "#curve = pipeline_reg.predict(X[:, np.newaxis])\n",
    "curve = pipeline_reg_full.predict(X0)\n",
    "plt.plot(Xvals0, curve)\n",
    "plt.show()"
   ]
  },
  {
   "cell_type": "markdown",
   "metadata": {},
   "source": [
    "The polynomial model  minimized the squared error on whatever training set it was given but \n",
    "it missed the general trend.\n",
    "As a result, it performed terribly on unseen data.  This is known as **overfitting** or **overtraining**.\n",
    "\n",
    "This is the danger of very powerful models.   In basically memorizing the training set, they\n",
    "sometimes fail to learn the key generalization that will help cope with unseen data."
   ]
  },
  {
   "cell_type": "markdown",
   "metadata": {},
   "source": [
    "### A Note:  Evaluating Regression models ($R^2$ vs MSE)\n",
    "\n",
    "A final note on evaluation.   We have been using mean squared error (MSE) as our chief \n",
    "tool for evaluating regression models.  As a first approximation it is useful. It\n",
    "is intuitive and, so far, it has given us results that make sense.  \n",
    "\n",
    "But in practical applications it is wise to use another measure $R^{2}$ (or `r2_score`\n",
    "in the `sckit learn` metrics, or **coefficient of determination** as it's sometimes called). \n",
    "\n",
    "The $R^2$ score is a number less than 1 that, in the general case, represents the proportion of variability in $y$ that can be \"explained\" by the regressor variables.  $R^2 = 1$  means that all the variability is explained.  The model is a perfect fit.  \n",
    "A value of 0 results when the sequence of predictors\n",
    "is constant and is always the mean of the true values.\n",
    "The $R^2$ value can be negative (as it is\n",
    "in our case), when the model performs worse than a model that always predicts the mean.\n",
    "\n",
    "Unlike `mean_squared_error`, it's not symmetric, and the arguments\n",
    "must be passed in this order: `r2_score(true_values, predicted_values)`."
   ]
  },
  {
   "cell_type": "markdown",
   "metadata": {},
   "source": [
    "What does explaining variance mean?  We'll try to convey the main idea by doing two things.\n",
    "First instead of talking about variance per se, we'll talk about\n",
    "summed squares.  The squares we're summing look like this:\n",
    "\n",
    "$$\n",
    "\\text{TSS}_{Z} = \\sum_{i=1}^{n} (z_{i}-\\overline{z})^2\n",
    "$$\n",
    "\n",
    "Here $z$ is a value for  some variable $Z$ in our sample and \n",
    "$\\overline{z}$ is the mean value for $Z$.  So we're summing the \n",
    "the squares of the differences between each $z$ and the mean.\n",
    "And if we sum over the entire sample, we call the result\n",
    "**Total Summed Squares** (TSS). The TSS of of a variable $Z$ gives\n",
    "us a handle on the **scale** of the variable: How\n",
    "far do values typically get from the mean of $Z$?  Are we\n",
    "talking about a $Z$ whose values can differ by 10s,\n",
    "100s, or 1000s?  To compute the **Total Variance** (TV), divide TSS\n",
    "by N-1, where N is the size of the sample. \n",
    "\n",
    "Second to evaluate a model that tries to\n",
    "predict values for $Z$, we'll use what's called the ANOVA decomposition of TSS:\n",
    "\n",
    "$$\n",
    " (1) \\underbrace{\\sum_{i=1}^{n} (z_{i}-\\overline{z})^2}_{\\text{TSS}} =\n",
    " \\underbrace{\\sum_{i=1}^{n} (z_{i}-\\hat{z})^2}_{\\text{RSS}} + \n",
    " \\underbrace{\\sum_{i=1}^{n} (\\hat{z}_{i}-\\overline{z})^2}_{\\text{ESS}}\n",
    "$$\n",
    "\n",
    "In this equation, we have data whose\n",
    "actual values we'll call $z$ and \n",
    "a model whose predicted values we'll call $\\hat{z}$. \n",
    "The RSS is the sum of the **Residual Summed Squares** (what is\n",
    "unaccounted for by the model) and the ESS is the **Explained Summed Squares**\n",
    "(what is accounted for by the model).\n",
    "\n",
    "\n",
    "If the model is good, the difference between $\\hat{z}$\n",
    "and $z$ (the actual value) is small.  In that case \n",
    "the RSS term (the residual or unexplained summed squares) will be \n",
    "a relatively small part of the right-hand side, and almost all of the TSS\n",
    "will be accounted for by the ESS term. \n",
    "If the model is bad,  most of the TSS will be due to the RSS, often just referred to as the residuals."
   ]
  },
  {
   "cell_type": "markdown",
   "metadata": {},
   "source": [
    "We talk about model evaluation\n",
    "in terms of the TSS in order to have some handle on  what counts as a small difference between the predictions\n",
    "and reality and what counts as as a big difference. An\n",
    "RSS of 100 is terrible when the TSS is 200 and wonderful when TSS is 10_000;\n",
    "in other words, we want a model that makes the\n",
    "ESS term a large percentage of the TSS. We might refer to \n",
    "that as explaining a large percentage of the Total Summed Squares.\n",
    "That, is the following will be large.\n",
    "\n",
    "$$\n",
    "\\text{Percent TSS Explained} = \\frac{\\text{ESS}}{\\text{TSS}}\n",
    "$$\n",
    "\n",
    "We're now ready to define percentage of Total Variance explained.\n",
    "To turn equation (1) into an equation\n",
    "about Total Variance, we just just divide both sides by N-1.\n",
    "But that means the percentage of Total Variance Explained will be equal to the\n",
    "Percentage of TSS explained, so let's just write \n",
    "the definition of **Percent Variance Explained** using ESS and TSS:\n",
    "\n",
    "$$\n",
    "\\begin{array}[t]{lcll}\n",
    "(A) & \\text{Percent Variance Explained} = \\frac{\\text{ESS}}{\\text{TSS}}\n",
    "\\end{array}\n",
    "$$\n",
    "\n",
    "Now in real life given some data and a model we don't usually have our\n",
    "hands on ESS, so this is more usefully written using the following consequence of (1)\n",
    "\n",
    "$$\n",
    "\\begin{array}[t]{lcll}\n",
    "(1') & \\text{TSS}/\\text{TSS} & = & \\text{RSS}/\\text{TSS} + \\text{ESS}/\\text{TSS}\\\\\n",
    "     & 1  & = & \\text{RSS}/\\text{TSS} + \\text{ESS}/\\text{TSS}\\\\\n",
    "\\end{array}\n",
    "$$\n",
    "\n",
    "That means:\n",
    "\n",
    "$$\n",
    "\\begin{array}[t]{lcll}\n",
    "   & \\text{Percent Variance Explained} = 1 - \\frac{\\text{RSS}}{\\text{TSS}}\n",
    "\\end{array}\n",
    "$$\n",
    "\n",
    "And finally, $R^2$, as we said, measures Percent Variance Explained. In fact:\n",
    "\n",
    "$$\n",
    "\\begin{array}[t]{lcll}\n",
    "(2) & \\text{R}^{2} = 1 - \\frac{\\text{RSS}}{\\text{TSS}}\n",
    "\\end{array}\n",
    "$$\n",
    "\n",
    "Note that although we've defined $R^2$ as Percent Variance\n",
    "Explained, this formula is actually not equivalent to (A)\n",
    "above.  (A) can't be negative, which seems reasonable,\n",
    "because the way we normally use percentages, they can't be\n",
    "negative.  However, the way people use\n",
    "$R^2$ (and the way we're using it in this notebook) it definitely can be negative.  The big\n",
    "advantage of equation (2) is that it allows $R^2$ to be negative,\n",
    "as we'll see.  So equation (A) stands as a reasonable definition\n",
    "of Percentage of Variance explained, but Equation\n",
    "(2) is what we want when working with $R^2$.\n",
    "\n",
    "Summing this up: To compute Percent Variance Explained, or $R^{2}$,\n",
    "we look at the difference between our predictions and our actual\n",
    "values ($z_{i}-\\hat{z}_{i}$), square those, sum the squares, and get our residuals RSS.\n",
    "Then we compute TSS, summing the distances of the $z_{i}$ from\n",
    "the mean ($(z_{i}-\\overline{z})^2$). Then we subtract $ \\frac{\\text{RSS}}{\\text{TSS}}$\n",
    "from 1.  \n",
    "\n",
    "For concreteness let's say our model is a linear model like the\n",
    "regression models we've been talking about.  If the model is good\n",
    "that means the data points in our $Z$-sample (our $z_{i}$) all lie \n",
    "on or very close to the model line. The points on the line are our predicted values ($\\hat{z}_{i}$);\n",
    "so if the $z_{i}$ are close to the $\\hat{z}_{i}$,  $(z_{i}-\\hat{z})^2$\n",
    "(RSS) will be small.  That means a large percentage of the Variance is\n",
    "explained by the model and $R^{2}$ will be close to 1.\n",
    "\n",
    "$R^{2}$ is a key concept \n",
    "in model evaluation.  The other key concept is RSS or the sum of the squared errors\n",
    "of the model. Taking the mean of that gives us the **mean squared error** (MSE),\n",
    "which is what we've been using to evaluate our regression models.\n",
    "\n",
    "So let's review what we said about $R^2$ in light of equations (1)\n",
    "and (2):\n",
    "\n",
    "1. When is $R^2$ equal to 1?  When $\\frac{\\text{RSS}}{\\text{TSS}} = 0$;\n",
    "   that is, when there are no errors.  The model is a perfect fit. \n",
    "\n",
    "2. When is $R^2$ equal to 0?  When $\\frac{\\text{RSS}}{\\text{TSS}} = 1$.\n",
    "   that is, when $\\frac{\\text{ESS}}{\\text{TSS}} = 0$.\n",
    "   The model explains none of the variance.  The model can only do this\n",
    "   by always predicting $\\overline{z}$, so that $(\\hat{z}_{i}-\\overline{z})^2$\n",
    "   is always 0.\n",
    "\n",
    "3. When is $R^2$ negative?  When $\\frac{\\text{RSS}}{\\text{TSS}} \\gt 1$.\n",
    "   that is, when the model's summed errors exceed the data's summed deviations from\n",
    "   the mean.  No reason this can't happen.  There is no limit to how bad a model can be,\n",
    "   and therefore no lower bound on $R^2$.  Another way of looking at this: there is\n",
    "   no limit to how difficult a data set can be to model."
   ]
  },
  {
   "cell_type": "markdown",
   "metadata": {},
   "source": [
    "One drawback of $R^2$ is that it grows as the number of variables grows, so\n",
    "$R^2$ with no modification is of no help in evaluating what happens\n",
    "as predictor variables are added to the model. For this reason\n",
    "people have cooked up something called **adjusted $R^2$**,\n",
    "which corrects for this effect and gives\n",
    "a truer measure of whether a new variable \n",
    "is informative.  We're not discussing that wrinkle here.\n",
    "\n",
    "So below where we explore feature\n",
    "choice we've used $R^2$ to illustrate its use, but we don't rely on it\n",
    "to help evaluate the models.  You may want to try out this definition\n",
    "of adjusted $R^2$.\n",
    "\n",
    "To keep this discussion tidily in one place, \n",
    "here is the code for training and evaluating the regression model above\n",
    "with `sckit learn` metrics, using both\n",
    "`mean_squared_error` and `r2_score`."
   ]
  },
  {
   "cell_type": "code",
   "execution_count": 50,
   "metadata": {},
   "outputs": [],
   "source": [
    "from sklearn.metrics import mean_squared_error, r2_score\n",
    "from sklearn import linear_model\n",
    "\n",
    "#Data\n",
    "# Independent variable Must be DataFrame\n",
    "Xsample = sample_data[[\"GDP per capita\"]]\n",
    "# Dependent variable (can be Series)\n",
    "ysample = sample_data[\"Life satisfaction\"]\n",
    "#Create model\n",
    "lin1 = linear_model.LinearRegression()\n",
    "#Train model on data\n",
    "lin1.fit(Xsample, ysample)\n",
    "\n",
    "vals_lin = lin1.predict(missing_data[[\"GDP per capita\"]])"
   ]
  },
  {
   "cell_type": "code",
   "execution_count": 29,
   "metadata": {},
   "outputs": [
    {
     "name": "stdout",
     "output_type": "stream",
     "text": [
      " Lin Model MSE: 2.682e+00 Lin Model R^2: -21.43\n"
     ]
    }
   ],
   "source": [
    "# vals_lin is  a 7x1 2D array.  mean_squared_error wants two 1D arrays or sequences,\n",
    "# the predicted values and the actual values.  So we pass in the first column of vals_lin.\n",
    "lin_mse = mean_squared_error (missing_data[\"Life satisfaction\"], vals_lin)\n",
    "# Same for r2 score\n",
    "lin_r2 =  r2_score(missing_data[\"Life satisfaction\"],vals_lin)\n",
    "print(f' Lin Model MSE: {lin_mse:.3e} Lin Model R^2: {lin_r2:.2f}')"
   ]
  },
  {
   "cell_type": "markdown",
   "metadata": {},
   "source": [
    "An important point: in evaluating an regression  system, we are often only interested in the $R^2$ score on test data. We can  compute that directly with\n",
    "\n",
    "```python\n",
    "lin1.score(missing_data[[\"GDP per capita\"]],missing_data[\"Life satisfaction\"])\n",
    "```\n",
    "\n",
    "Note that although both functions return $R^2$ values, the `.score()` method has a different argument signature from `r2_score`; the `.score()` method  takes the same kind of arguments as `.fit()`, a sequence of data points and a sequence of labels; while `r2_score` $R^2$ score takes the same arguments as\n",
    "any scikit learn evaluation metric: the actual values and the predicted values.  Thus, to use\n",
    "`r2_score` we must first use `.predict()` to generate some predictions; `.score()` folds that step in."
   ]
  },
  {
   "cell_type": "code",
   "execution_count": 30,
   "metadata": {
    "scrolled": true
   },
   "outputs": [
    {
     "name": "stdout",
     "output_type": "stream",
     "text": [
      "-21.43\n"
     ]
    }
   ],
   "source": [
    "print(f'{lin1.score(missing_data[[\"GDP per capita\"]], missing_data[\"Life satisfaction\"]):.2f}')"
   ]
  },
  {
   "cell_type": "markdown",
   "metadata": {},
   "source": [
    "Note that the $R^2$ value is a negative number less than -1.  This means this\n",
    "is a very bad model.  Technically what it means is that we would be better off \n",
    "predicting the mean life satisfaction score every time.  Let's try that:"
   ]
  },
  {
   "cell_type": "code",
   "execution_count": 31,
   "metadata": {},
   "outputs": [
    {
     "data": {
      "text/plain": [
       "6.957142857142856"
      ]
     },
     "execution_count": 31,
     "metadata": {},
     "output_type": "execute_result"
    }
   ],
   "source": [
    "md_mn = missing_data[\"Life satisfaction\"].mean()\n",
    "md_mn"
   ]
  },
  {
   "cell_type": "code",
   "execution_count": 32,
   "metadata": {},
   "outputs": [
    {
     "name": "stdout",
     "output_type": "stream",
     "text": [
      "Mean Model R^2: 0.00 Mean Model MSE: 1.196e-01  Lin Model MSE: 2.68\n"
     ]
    }
   ],
   "source": [
    "# Create a 1D prediction array that always predicts the Life Satisfaction mean\n",
    "mean_predictions = np.full(len(missing_data), md_mn) \n",
    "\n",
    "mn_mse = mean_squared_error (missing_data[\"Life satisfaction\"], mean_predictions)\n",
    "\n",
    "# Same for r2 score\n",
    "mn_r2 =  r2_score(missing_data[\"Life satisfaction\"],mean_predictions)\n",
    "\n",
    "print(f'Mean Model R^2: {mn_r2:.2f} Mean Model MSE: {mn_mse:.3e}  Lin Model MSE: {lin_mse:.2f}')"
   ]
  },
  {
   "cell_type": "markdown",
   "metadata": {},
   "source": [
    "More generally, predictions normally distributed in a small region around the mean will earn \n",
    "$R^2$ score near 0 but not equal to 0."
   ]
  },
  {
   "cell_type": "code",
   "execution_count": 33,
   "metadata": {},
   "outputs": [
    {
     "data": {
      "text/plain": [
       "-0.023890784982935065"
      ]
     },
     "execution_count": 33,
     "metadata": {},
     "output_type": "execute_result"
    }
   ],
   "source": [
    "mean_predictions[0] = mean_predictions[0]+.1\n",
    "mean_predictions[1] = mean_predictions[1]-.1\n",
    "mean_predictions[2] = mean_predictions[2]+.3\n",
    "mean_predictions[3] = mean_predictions[3]-.3\n",
    "\n",
    "r2_score(missing_data[\"Life satisfaction\"],mean_predictions)"
   ]
  },
  {
   "cell_type": "code",
   "execution_count": 34,
   "metadata": {},
   "outputs": [
    {
     "data": {
      "text/plain": [
       "-0.011470230784547564"
      ]
     },
     "execution_count": 34,
     "metadata": {},
     "output_type": "execute_result"
    }
   ],
   "source": [
    "ls_mn = sample_data[\"Life satisfaction\"].mean()\n",
    "num_samples = len(sample_data)\n",
    "std = .01\n",
    "# Equivalently: ls_mn + std * np.random.randn(num_samples)\n",
    "new_predictions = np.random.normal(ls_mn,std,num_samples)\n",
    "r2_score(sample_data[\"Life satisfaction\"],new_predictions)"
   ]
  },
  {
   "cell_type": "markdown",
   "metadata": {},
   "source": [
    "Using the mean model, the $R^2$ is 0 and the MSE is lower than the linear model MSE.\n",
    "\n",
    "So the negative $R^2$ less than -1 means our learner is performing worse than the **baseline** system.\n",
    "The concept of a baseline system is extremely useful in interpreting machine learning\n",
    "results.  Define a simple-minded, low-information strategy for a regression or classification\n",
    "problem and call that your baseline. Compute your evaluation score for that system and define that score as 0-level performance.  If your system can't beat that, it's not going to be useful.\n",
    "\n",
    "What counts as a baseline score can generally vary from task context to task context.  One of the useful\n",
    "properties of $R^2$ is that it's meaningful across a wide variety of contexts. Although what counts\n",
    "as really good performance can take some interpreting, it gives us a good handle on what\n",
    "terrible performance is."
   ]
  },
  {
   "cell_type": "markdown",
   "metadata": {},
   "source": [
    "Recall we called the `.score()` method  on our training data after training `lin1`:"
   ]
  },
  {
   "cell_type": "code",
   "execution_count": 35,
   "metadata": {
    "scrolled": true
   },
   "outputs": [
    {
     "name": "stdout",
     "output_type": "stream",
     "text": [
      "Training R2: 0.73\n"
     ]
    }
   ],
   "source": [
    "print(f\"Training R2: {lin1.score(Xsample,ysample):.2f}\")"
   ]
  },
  {
   "cell_type": "markdown",
   "metadata": {},
   "source": [
    "So the $R^2$ score we got the for the training data, which is quite respectable, \n",
    "was also highly misleading.  This model is exhibiting quite a bit of **overfitting**:\n",
    "its performance on the training set is considerably better than its performance on the test set.\n",
    "\n",
    "It's not quite as bad as the polynomial model, but it is still overfitting."
   ]
  },
  {
   "cell_type": "markdown",
   "metadata": {},
   "source": [
    "Here are the test data predictions and our errors compared:"
   ]
  },
  {
   "cell_type": "code",
   "execution_count": 36,
   "metadata": {},
   "outputs": [
    {
     "data": {
      "text/html": [
       "<div>\n",
       "<style scoped>\n",
       "    .dataframe tbody tr th:only-of-type {\n",
       "        vertical-align: middle;\n",
       "    }\n",
       "\n",
       "    .dataframe tbody tr th {\n",
       "        vertical-align: top;\n",
       "    }\n",
       "\n",
       "    .dataframe thead th {\n",
       "        text-align: right;\n",
       "    }\n",
       "</style>\n",
       "<table border=\"1\" class=\"dataframe\">\n",
       "  <thead>\n",
       "    <tr style=\"text-align: right;\">\n",
       "      <th></th>\n",
       "      <th>Actual</th>\n",
       "      <th>Predicted</th>\n",
       "      <th>$E^2$</th>\n",
       "    </tr>\n",
       "    <tr>\n",
       "      <th>Country</th>\n",
       "      <th></th>\n",
       "      <th></th>\n",
       "      <th></th>\n",
       "    </tr>\n",
       "  </thead>\n",
       "  <tbody>\n",
       "    <tr>\n",
       "      <th>Brazil</th>\n",
       "      <td>7.0</td>\n",
       "      <td>5.278884</td>\n",
       "      <td>2.962242</td>\n",
       "    </tr>\n",
       "    <tr>\n",
       "      <th>Mexico</th>\n",
       "      <td>6.7</td>\n",
       "      <td>5.295548</td>\n",
       "      <td>1.972487</td>\n",
       "    </tr>\n",
       "    <tr>\n",
       "      <th>Chile</th>\n",
       "      <td>6.7</td>\n",
       "      <td>5.508297</td>\n",
       "      <td>1.420155</td>\n",
       "    </tr>\n",
       "    <tr>\n",
       "      <th>Czech Republic</th>\n",
       "      <td>6.5</td>\n",
       "      <td>5.700634</td>\n",
       "      <td>0.638986</td>\n",
       "    </tr>\n",
       "    <tr>\n",
       "      <th>Norway</th>\n",
       "      <td>7.4</td>\n",
       "      <td>8.527974</td>\n",
       "      <td>1.272325</td>\n",
       "    </tr>\n",
       "    <tr>\n",
       "      <th>Switzerland</th>\n",
       "      <td>7.5</td>\n",
       "      <td>8.815457</td>\n",
       "      <td>1.730426</td>\n",
       "    </tr>\n",
       "    <tr>\n",
       "      <th>Luxembourg</th>\n",
       "      <td>6.9</td>\n",
       "      <td>9.862538</td>\n",
       "      <td>8.776632</td>\n",
       "    </tr>\n",
       "  </tbody>\n",
       "</table>\n",
       "</div>"
      ],
      "text/plain": [
       "                Actual  Predicted     $E^2$\n",
       "Country                                    \n",
       "Brazil             7.0   5.278884  2.962242\n",
       "Mexico             6.7   5.295548  1.972487\n",
       "Chile              6.7   5.508297  1.420155\n",
       "Czech Republic     6.5   5.700634  0.638986\n",
       "Norway             7.4   8.527974  1.272325\n",
       "Switzerland        7.5   8.815457  1.730426\n",
       "Luxembourg         6.9   9.862538  8.776632"
      ]
     },
     "execution_count": 36,
     "metadata": {},
     "output_type": "execute_result"
    }
   ],
   "source": [
    "comparison_df = missing_data[\"Life satisfaction\"].to_frame(name=\"Actual\")\n",
    "comparison_df[\"Predicted\"] = vals_lin\n",
    "comparison_df[\"$E^2$\"] = (comparison_df[\"Actual\"]-comparison_df[\"Predicted\"])**2\n",
    "comparison_df"
   ]
  },
  {
   "cell_type": "markdown",
   "metadata": {},
   "source": [
    "Coding note: `score` and `r2_score` will work on `pandas` `DataFrame` and `Series` arguments.\n",
    "\n",
    "For example:"
   ]
  },
  {
   "cell_type": "code",
   "execution_count": 37,
   "metadata": {
    "scrolled": true
   },
   "outputs": [
    {
     "name": "stdout",
     "output_type": "stream",
     "text": [
      "-21.425387233553884\n"
     ]
    },
    {
     "data": {
      "text/plain": [
       "-21.425387233553884"
      ]
     },
     "execution_count": 37,
     "metadata": {},
     "output_type": "execute_result"
    }
   ],
   "source": [
    "print(lin1.score(missing_data[[\"GDP per capita\"]],missing_data[\"Life satisfaction\"],))\n",
    "r2_score(comparison_df[\"Actual\"],comparison_df[\"Predicted\"])"
   ]
  },
  {
   "cell_type": "markdown",
   "metadata": {
    "id": "z_yyGeF4I9Sd"
   },
   "source": [
    "## Choosing features"
   ]
  },
  {
   "cell_type": "markdown",
   "metadata": {
    "id": "Y78yWfJ7I9Sd"
   },
   "source": [
    "Regression always starts with choosing features to predict with.  Don't skip this step.  Don't\n",
    "just always use all the features in your data set.  More isn't necessarily better.\n",
    "\n",
    "Here's an interesting observation about the training data, which a model might \"notice\" if we had features that represented the letters in the country name.  Let's consider all countries with a \"w\" in their name:"
   ]
  },
  {
   "cell_type": "code",
   "execution_count": 38,
   "metadata": {
    "id": "Zi3w-XpBI9Sd",
    "outputId": "0e86c1de-225a-45ca-ca8a-87319847c7a4"
   },
   "outputs": [
    {
     "data": {
      "text/plain": [
       "Country\n",
       "New Zealand    7.3\n",
       "Sweden         7.2\n",
       "Norway         7.4\n",
       "Switzerland    7.5\n",
       "Name: Life satisfaction, dtype: float64"
      ]
     },
     "execution_count": 38,
     "metadata": {},
     "output_type": "execute_result"
    }
   ],
   "source": [
    "full_country_stats.loc[[c for c in full_country_stats.index \n",
    "                        if \"W\" in c.upper()]][\"Life satisfaction\"]\n"
   ]
  },
  {
   "cell_type": "markdown",
   "metadata": {
    "id": "5syu5nmTI9Se"
   },
   "source": [
    "Every single one of them has life satisfaction score of over 7!  This is fairly high.  If this were represented in our\n",
    "data, a learner would certainly pick up on it, and treat it as a feature that increases the likelihood\n",
    "of happiness. Yet it is fairly clear that this is just an accidental feature of our data that will\n",
    "not generalize to other cases.\n",
    "\n",
    "This example shows how poorly chosen features can hurt.  They introduce noise that can be mistaken\n",
    "for meaningful patterns.  We note that this feature does not correlate particularly well with GDP in the GDP\n",
    "table, which has a larger sample of countries, and we know that very low GDP makes a high life satisfaction score\n",
    "virtually impossible (because many of the features used to compute the score depend on wealth).  "
   ]
  },
  {
   "cell_type": "code",
   "execution_count": 39,
   "metadata": {
    "id": "u9O1xWn3I9Se",
    "outputId": "1277ea13-4cc6-4397-a416-d175c8a51384",
    "scrolled": false
   },
   "outputs": [
    {
     "data": {
      "text/plain": [
       "Country\n",
       "Botswana        6040.957\n",
       "Kuwait         29363.027\n",
       "Malawi           354.275\n",
       "New Zealand    37044.891\n",
       "Norway         74822.106\n",
       "Name: GDP per capita, dtype: float64"
      ]
     },
     "execution_count": 39,
     "metadata": {},
     "output_type": "execute_result"
    }
   ],
   "source": [
    "# Let's just look at one column of this largish table\n",
    "gdp_col = gdp_per_capita[\"GDP per capita\"]\n",
    "gdp_col.loc[[c for c in gdp_col.index if \"W\" in c.upper()]].head()"
   ]
  },
  {
   "cell_type": "markdown",
   "metadata": {
    "id": "4bZzHAoaI9Se"
   },
   "source": [
    "Note that relatively poor Botswana and Malawi are \"W\"-countries.  This confirms our suspicion that the W \"rule\" is actually an accident of our sample."
   ]
  },
  {
   "cell_type": "markdown",
   "metadata": {},
   "source": [
    "With this warning in mind, let's try training with more features."
   ]
  },
  {
   "cell_type": "markdown",
   "metadata": {},
   "source": [
    "#### lin3:  Lifesat feats\n",
    "\n",
    "Now let's train with more features."
   ]
  },
  {
   "cell_type": "markdown",
   "metadata": {},
   "source": [
    "Shall we use all the columns?  Here are some we might want to leave out.\n",
    "\n",
    "They are precisely the features we acquired by merging in GDP data,"
   ]
  },
  {
   "cell_type": "code",
   "execution_count": 40,
   "metadata": {},
   "outputs": [
    {
     "data": {
      "text/plain": [
       "Index(['Subject Descriptor', 'Units', 'Scale', 'Country/Series-specific Notes',\n",
       "       'GDP per capita', 'Estimates Start After'],\n",
       "      dtype='object')"
      ]
     },
     "execution_count": 40,
     "metadata": {},
     "output_type": "execute_result"
    }
   ],
   "source": [
    "full_country_stats.columns[-6:]"
   ]
  },
  {
   "cell_type": "markdown",
   "metadata": {},
   "source": [
    "Why leave out GDP?  Because we used it in the model with one feature,\n",
    "We've demonstrated that it's a powerful predictor.  Let's see how we\n",
    "do without it, using the other features, shown below:"
   ]
  },
  {
   "cell_type": "code",
   "execution_count": 41,
   "metadata": {},
   "outputs": [
    {
     "name": "stdout",
     "output_type": "stream",
     "text": [
      "23 features\n"
     ]
    },
    {
     "data": {
      "text/plain": [
       "['Air pollution',\n",
       " 'Assault rate',\n",
       " 'Consultation on rule-making',\n",
       " 'Dwellings without basic facilities',\n",
       " 'Educational attainment',\n",
       " 'Employees working very long hours',\n",
       " 'Employment rate',\n",
       " 'Homicide rate',\n",
       " 'Household net adjusted disposable income',\n",
       " 'Household net financial wealth',\n",
       " 'Housing expenditure',\n",
       " 'Job security',\n",
       " 'Life expectancy',\n",
       " 'Long-term unemployment rate',\n",
       " 'Personal earnings',\n",
       " 'Quality of support network',\n",
       " 'Rooms per person',\n",
       " 'Self-reported health',\n",
       " 'Student skills',\n",
       " 'Time devoted to leisure and personal care',\n",
       " 'Voter turnout',\n",
       " 'Water quality',\n",
       " 'Years in education']"
      ]
     },
     "execution_count": 41,
     "metadata": {},
     "output_type": "execute_result"
    }
   ],
   "source": [
    "predictors = list(full_country_stats.columns[:-6])\n",
    "predicted ='Life satisfaction'\n",
    "predictors.remove(predicted)\n",
    "print(len(predictors),\"features\")\n",
    "predictors"
   ]
  },
  {
   "cell_type": "markdown",
   "metadata": {},
   "source": [
    "Here is the code we used above to train and evaluate the linear model with one\n",
    "feature.  We're going to adapt it to the case of many features."
   ]
  },
  {
   "cell_type": "code",
   "execution_count": 68,
   "metadata": {},
   "outputs": [],
   "source": [
    "# Linear Model with one feature\n",
    "\n",
    "#Data\n",
    "Xsample = sample_data[[\"GDP per capita\"]]\n",
    "ysample = sample_data[[\"Life satisfaction\"]]\n",
    "\n",
    "\n",
    "#Train model on data\n",
    "lin1 = linear_model.LinearRegression()\n",
    "lin1.fit(Xsample, ysample)\n",
    "\n",
    "\n",
    "vals_lin = lin1.predict(missing_data[[\"GDP per capita\"]])\n",
    "\n",
    "\n",
    "lin1_mse = mean_squared_error (vals_lin[:,0], missing_data[\"Life satisfaction\"])\n",
    "lin1_r2 = r2_score (missing_data[\"Life satisfaction\"],vals_lin[:,0])"
   ]
  },
  {
   "cell_type": "code",
   "execution_count": 43,
   "metadata": {},
   "outputs": [
    {
     "name": "stdout",
     "output_type": "stream",
     "text": [
      "(29, 23)\n",
      "(7, 23)\n",
      "(29,) (7,)\n"
     ]
    }
   ],
   "source": [
    "# Linear Model with our new predictors \n",
    "remove_indices = [0, 1, 6, 8, 33, 34, 35]\n",
    "keep_indices = list(set(range(36)) - set(remove_indices))\n",
    "\n",
    "#Test on this!\n",
    "#missing_data = full_country_stats[[\"GDP per capita\", 'Life satisfaction']].iloc[remove_indices]\n",
    "\n",
    "\n",
    "#Train on this!\n",
    "sample_data3 = full_country_stats[predictors].iloc[keep_indices]\n",
    "#Test on this!\n",
    "missing_data3 = full_country_stats[predictors].iloc[remove_indices]\n",
    "\n",
    "# Scikit learn will accept a Pandas DataFrame for training data!\n",
    "Xsample3 = sample_data3[predictors]\n",
    "Xtest_sample3 = missing_data3[predictors]\n",
    "print(Xsample3.shape)\n",
    "print(Xtest_sample3.shape)\n",
    "# Same as with 1 feature model\n",
    "#ysample = np.c_[sample_data0[\"Life satisfaction\"]]\n",
    "ytrain = full_country_stats['Life satisfaction'].iloc[keep_indices]\n",
    "ytest = full_country_stats['Life satisfaction'].iloc[remove_indices]\n",
    "print(ytrain.shape,ytest.shape)"
   ]
  },
  {
   "cell_type": "markdown",
   "metadata": {},
   "source": [
    "These are the changes we need to create a training and test \n",
    "set with the 23 new features.  Some code has been\n",
    "copied from above to make it clear what we're doing.\n",
    "\n",
    "We will use the same training test split to\n",
    "facilitate comparison."
   ]
  },
  {
   "cell_type": "code",
   "execution_count": 67,
   "metadata": {},
   "outputs": [
    {
     "name": "stdout",
     "output_type": "stream",
     "text": [
      "Training R2: 0.96\n",
      "Training MSE: 0.03\n"
     ]
    }
   ],
   "source": [
    "#Create model\n",
    "lin3 = linear_model.LinearRegression()\n",
    "#Train model on data\n",
    "lin3.fit(Xsample3, ysample)\n",
    "print(f\"Training R2: {lin3.score(Xsample3, ysample):.2f}\")\n",
    "tp3 = lin3.predict(Xsample3)\n",
    "print(f\"Training MSE: {mean_squared_error(tp3, ysample):.2f}\")\n",
    "\n",
    "vals3_lin = lin3.predict(Xtest_sample3)\n",
    "lin3_mse = mean_squared_error (vals3_lin, missing_data[\"Life satisfaction\"])\n",
    "lin3_r2 = r2_score (missing_data[\"Life satisfaction\"],vals3_lin)"
   ]
  },
  {
   "cell_type": "code",
   "execution_count": 66,
   "metadata": {},
   "outputs": [
    {
     "data": {
      "text/plain": [
       "5.873134328091346"
      ]
     },
     "execution_count": 66,
     "metadata": {},
     "output_type": "execute_result"
    }
   ],
   "source": [
    "lin3_adj_r2"
   ]
  },
  {
   "cell_type": "code",
   "execution_count": 45,
   "metadata": {},
   "outputs": [
    {
     "name": "stdout",
     "output_type": "stream",
     "text": [
      "           MSE      R2\n",
      "Mean     0.120   0.000\n",
      "LifeSat  1.651 -12.807\n",
      "GDP      2.682 -21.425\n"
     ]
    }
   ],
   "source": [
    "eval_df = pd.DataFrame({\"MSE\": [lin1_mse,lin3_mse,mn_mse],\n",
    "                        \"R2\":[lin1_r2,lin3_r2,mn_r2]},\n",
    "                       index=[\"GDP\",\"LifeSat\",\"Mean\"])\n",
    "\n",
    "with pd.option_context(\"display.precision\",3):\n",
    "    print(eval_df.sort_values(by=\"MSE\"))"
   ]
  },
  {
   "cell_type": "markdown",
   "metadata": {},
   "source": [
    "Substantial improvement in the MSE (it went **down**). Note the $R^2$ is still negative and less than -1,\n",
    "meaning the mean model still remains the winner.\n",
    "\n",
    "Now let's try folding GDP back in."
   ]
  },
  {
   "cell_type": "markdown",
   "metadata": {},
   "source": [
    "#### lin4:  Lifesat feats + GDP"
   ]
  },
  {
   "cell_type": "code",
   "execution_count": 100,
   "metadata": {},
   "outputs": [
    {
     "name": "stdout",
     "output_type": "stream",
     "text": [
      "(29, 7)\n",
      "(7, 7)\n"
     ]
    }
   ],
   "source": [
    "# Linear Model with our new predictors + GDP \n",
    "\n",
    "remove_indices = [0, 1, 6, 8, 33, 34, 35]\n",
    "keep_indices = list(set(range(36)) - set(remove_indices))\n",
    "\n",
    "new_predictors = predictors + ['GDP per capita']\n",
    "#Train on this!\n",
    "sample_data4 = full_country_stats[new_predictors].iloc[keep_indices]\n",
    "#Test on this!\n",
    "missing_data4 = full_country_stats[new_predictors].iloc[remove_indices]\n",
    "\n",
    "\n",
    "# Scikit learm Data\n",
    "#Xsample4 = np.c_[sample_data4[new_predictors]]\n",
    "#Xtest_sample4 = np.c_[missing_data4[new_predictors]]\n",
    "Xsample4 = sample_data4[new_predictors]\n",
    "Xtest_sample4 = missing_data4[new_predictors]\n",
    "print(Xsample4.shape)\n",
    "print(Xtest_sample4.shape)"
   ]
  },
  {
   "cell_type": "code",
   "execution_count": 104,
   "metadata": {},
   "outputs": [
    {
     "name": "stdout",
     "output_type": "stream",
     "text": [
      "Training R2: 0.85\n",
      "Training MSE: 0.10\n"
     ]
    }
   ],
   "source": [
    "#Create model\n",
    "lin4 = linear_model.LinearRegression()\n",
    "#Train model on data\n",
    "lin4.fit(Xsample4, ysample)\n",
    "print(f\"Training R2: {lin4.score(Xsample4, ysample):.2f}\")\n",
    "tp4 = lin4.predict(Xsample4)\n",
    "print(f\"Training MSE: {mean_squared_error(tp4, ysample):.2f}\")\n",
    "\n",
    "vals4_lin = lin4.predict(Xtest_sample4)\n",
    "lin4_mse = mean_squared_error (vals4_lin, missing_data[\"Life satisfaction\"])\n",
    "lin4_r2 = r2_score (missing_data[\"Life satisfaction\"],vals4_lin)\n"
   ]
  },
  {
   "cell_type": "markdown",
   "metadata": {},
   "source": [
    "Note that both training $R^2$ and training MSE are better with the GDP + Lifesat model than the Lifesat model (the $R^2$ improvement is a general pattern for models with more features).\n",
    "\n",
    "But the story on the test data is very different. Adding GDP to the LifeSat model makes it worse, both in MSE and R2 score:"
   ]
  },
  {
   "cell_type": "code",
   "execution_count": 122,
   "metadata": {},
   "outputs": [
    {
     "name": "stdout",
     "output_type": "stream",
     "text": [
      "                 MSE      R2\n",
      "Mean           0.120   0.000\n",
      "LifeSat        1.651 -12.807\n",
      "GDP + LifeSat  2.110 -16.642\n",
      "GDP            2.682 -21.425\n"
     ]
    }
   ],
   "source": [
    "eval_df = pd.DataFrame({\"MSE\": [lin1_mse,lin3_mse,lin4_mse,mn_mse],\n",
    "                        \"R2\":[lin1_r2,lin3_r2,lin4_r2,mn_r2]},\n",
    "                       index=[\"GDP\",\"LifeSat\",\"GDP + LifeSat\",\"Mean\"])\n",
    "\n",
    "with pd.option_context(\"display.precision\",3):\n",
    "    print(eval_df.sort_values(by=\"MSE\"))"
   ]
  },
  {
   "cell_type": "markdown",
   "metadata": {},
   "source": [
    "We saw above that there is some noise in the GDP feature.   \n",
    "\n",
    "The other predictors appear better suited to the task of predicting Life Satisfaction\n",
    "on the test data.\n",
    "\n",
    "The takeaway:  More features often help, but not always.  "
   ]
  },
  {
   "cell_type": "markdown",
   "metadata": {
    "id": "l9eK1I1gI9Se"
   },
   "source": [
    "## Ridge learning (regularization)"
   ]
  },
  {
   "cell_type": "markdown",
   "metadata": {
    "id": "WaVO9owPI9Se"
   },
   "source": [
    "Model building is all about making reasonable generalizations, which in turn is about wisely choosing which patterns in the data will be used to make those generalizations.\n",
    "\n",
    "One very important kind of constraint on generalization is called smoothing or regularization.  This is a family of techniques used to used to discourage \n",
    "\"extreme\" models, for example, models that forbid certain kinds of patterns because they were never seen in the training sample.  Without going into the details here, the picture below shows the intended behavior of regularization, using a case in which it works well.  The dashed red line shows a model trained on all the data.  For the time being, think of this as the right answer.  The dotted blue line shows the model trained on our original training sample, which as we noted before, was not entirely representative of the data.  At the GDP extremes, that model drifts quite far from the \"right\" answer.  The solid blue line is the same kind of model trained on the same sample data, but with \"ridge\" regularization, which penalizes models with many high coefficients; in this case it will help reduce the slope of the line, while still requiring it to reduce the error on the training data.\n",
    "\n",
    "The result is the solid blue line, which is closer to the \"right\" answer than\n",
    "the original linear regression model.  Note:  *this example is a somewhat oversimplified attempt to convey the intuition of what regularization does.  One wouldn't normally use ridge regression in a case where there's a single predictor variable, because what makes it useful is that it reduces the influence of features that account for less of the variance.*\n"
   ]
  },
  {
   "cell_type": "code",
   "execution_count": 81,
   "metadata": {
    "colab": {
     "base_uri": "https://localhost:8080/",
     "height": 237
    },
    "id": "UY3oC-eTI9Se",
    "outputId": "2eb7251d-4c1d-481b-8e11-d558e76b9aec"
   },
   "outputs": [
    {
     "data": {
      "image/png": "[encoded data removed]",
      "text/plain": [
       "<Figure size 800x300 with 1 Axes>"
      ]
     },
     "metadata": {},
     "output_type": "display_data"
    }
   ],
   "source": [
    "plt.figure(figsize=(8,3))\n",
    "\n",
    "plt.xlabel(\"GDP per capita\")\n",
    "plt.ylabel('Life satisfaction')\n",
    "\n",
    "plt.plot(list(sample_data[\"GDP per capita\"]), list(sample_data[\"Life satisfaction\"]), \"bo\")\n",
    "plt.plot(list(missing_data[\"GDP per capita\"]), list(missing_data[\"Life satisfaction\"]), \"rs\")\n",
    "\n",
    "X = np.linspace(0, 110000, 1000)\n",
    "plt.plot(X, t0full + t1full * X, \"r--\", label=\"Linear model on all data\")\n",
    "plt.plot(X, theta0 + theta1*X, \"b:\", label=\"Linear model on partial data\")\n",
    "\n",
    "ridge = linear_model.Ridge(alpha=10**9.5)\n",
    "#ridge = linear_model.Ridge()\n",
    "Xsample = np.c_[sample_data[\"GDP per capita\"]]\n",
    "ysample = np.c_[sample_data[\"Life satisfaction\"]]\n",
    "ridge.fit(Xsample, ysample)\n",
    "t0ridge, t1ridge = ridge.intercept_[0], ridge.coef_[0][0]\n",
    "plt.plot(X, t0ridge + t1ridge * X, \"b\", label=\"Regularized linear model on partial data\")\n",
    "\n",
    "plt.legend(loc=\"lower right\")\n",
    "plt.axis([0, 110000, 0, 10])\n",
    "plt.show()"
   ]
  },
  {
   "cell_type": "markdown",
   "metadata": {},
   "source": [
    "## Summary thus far"
   ]
  },
  {
   "cell_type": "markdown",
   "metadata": {},
   "source": [
    " We'll conclude with some general regression tips. \n",
    " \n",
    " 1.  Choose your features wisely.\n",
    " 2.  Learn about smoothing and regularization.\n",
    " 3.  Explore (cautiously) models of regression other than linear."
   ]
  },
  {
   "cell_type": "markdown",
   "metadata": {
    "id": "rH7ljah5I9Se"
   },
   "source": [
    "### K Nearest Neighbor Regression"
   ]
  },
  {
   "cell_type": "markdown",
   "metadata": {
    "id": "4gP6l1GgI9Se"
   },
   "source": [
    "In this section we intrdouce a non-linear regression algorithm, the K Nearest Neighbor algorithm.\n",
    "Having introduced the idea of non-linear regressors with the example of a polynomial regressor,\n",
    "we look at a much more constrained, and in many ways more successful example here.\n",
    "\n",
    "The code below will also provide you with a model to use when implementing new kinds of models using `scikit_learn`. "
   ]
  },
  {
   "cell_type": "markdown",
   "metadata": {},
   "source": [
    "####  Reloading the data used earlier in this NB"
   ]
  },
  {
   "cell_type": "code",
   "execution_count": 1,
   "metadata": {
    "colab": {
     "base_uri": "https://localhost:8080/",
     "height": 357
    },
    "id": "XIa4jyQeI9Sf",
    "outputId": "c07c42bb-9d09-4acb-d3d7-a3ce13d83630"
   },
   "outputs": [],
   "source": [
    "import pandas as pd\n",
    "import numpy as np\n",
    "from sklearn import linear_model\n",
    "from sklearn.metrics import mean_squared_error, r2_score\n",
    "from sklearn import preprocessing\n",
    "from sklearn import pipeline\n",
    "from sklearn import neighbors\n",
    "from matplotlib import pyplot as plt\n",
    "\n",
    "\n",
    "notebook_lifesat_url0 = 'https://github.com/gawron/python-for-social-science/blob/master/pandas/datasets/lifesat/'\n",
    "lifesat_url = notebook_lifesat_url0.replace('github', 'raw.githubusercontent')\n",
    "lifesat_url = lifesat_url.replace('blob/','')\n",
    "\n",
    "def load_lifesat_data (lifesat_url):\n",
    "    oecd_file = 'oecd_bli_2015.csv'\n",
    "    oecd_url= f'{lifesat_url}{oecd_file}'\n",
    "    return pd.read_csv(oecd_url, thousands=',',encoding='utf-8')\n",
    "\n",
    "\n",
    "\n",
    "#backup = oecd_bli, gdp_per_capita\n",
    "# Downloaded data from http://goo.gl/j1MSKe (=> imf.org) to github\n",
    "def load_gdp_data ():\n",
    "    gdp_file = \"gdp_per_capita.csv\"\n",
    "    gdp_url = f'{lifesat_url}{gdp_file}'\n",
    "    return pd.read_csv(gdp_url, thousands=',', delimiter='\\t',\n",
    "                                 encoding='latin1', na_values=\"n/a\")\n",
    "    \n",
    "\n",
    "def prepare_country_stats(oecd_bli):\n",
    "    \"\"\"\n",
    "    This would normally do prep work,including the train/test split.\n",
    "    For now just redoing the steps whereby we merged gdp info with\n",
    "    the original life-satisfaction data. and split training and test\n",
    "    \"\"\"\n",
    "    oecd_bli = load_lifesat_data(lifesat_url)\n",
    "    print(len(oecd_bli))\n",
    "    oecd_bli = oecd_bli[oecd_bli[\"INEQUALITY\"]==\"TOT\"]\n",
    "    print(len(oecd_bli))\n",
    "    oecd_bli = oecd_bli.pivot(index=\"Country\", columns=\"Indicator\", values=\"Value\")\n",
    "    gdp_per_capita = load_gdp_data()\n",
    "    gdp_per_capita.rename(columns={\"2015\": \"GDP per capita\"}, inplace=True)\n",
    "    # Make \"Country\" the index column.  We are going to merge data on this column.\n",
    "    gdp_per_capita.set_index(\"Country\", inplace=True)\n",
    "    full_country_stats = pd.merge(left=oecd_bli, right=gdp_per_capita, \n",
    "                                   left_index=True, right_index=True)\n",
    "    #raise Exception\n",
    "    full_country_stats.sort_values(by=\"GDP per capita\", inplace=True)\n",
    "    return full_country_stats\n",
    "\n",
    "def split_full_country_stats (full_country_stats):\n",
    "    remove_indices = [0, 1, 6, 8, 33, 34, 35]\n",
    "    keep_indices = list(set(range(36)) - set(remove_indices))\n",
    "\n",
    "    #Train on this!\n",
    "    training_data = full_country_stats[[\"GDP per capita\", 'Life satisfaction']].iloc[keep_indices]\n",
    "    #Test on this!\n",
    "    test_data = full_country_stats[[\"GDP per capita\", 'Life satisfaction']].iloc[remove_indices]\n",
    "    return training_data, test_data\n"
   ]
  },
  {
   "cell_type": "code",
   "execution_count": 2,
   "metadata": {
    "colab": {
     "base_uri": "https://localhost:8080/",
     "height": 357
    },
    "id": "XIa4jyQeI9Sf",
    "outputId": "c07c42bb-9d09-4acb-d3d7-a3ce13d83630"
   },
   "outputs": [
    {
     "name": "stdout",
     "output_type": "stream",
     "text": [
      "3292\n",
      "888\n"
     ]
    }
   ],
   "source": [
    "\n",
    "# Prepare the data\n",
    "oecd_bli = load_lifesat_data(lifesat_url)\n",
    "full_country_stats = prepare_country_stats(oecd_bli)\n",
    "training_data,test_data = split_full_country_stats(full_country_stats)\n",
    "\n",
    "# The np.c_ makes both X and y  2D arrays\n",
    "X_train = np.c_[training_data[\"GDP per capita\"]]\n",
    "X_test = np.c_[test_data[\"GDP per capita\"]]\n",
    "\n",
    "y_train = np.c_[training_data[\"Life satisfaction\"]]\n",
    "y_test = np.c_[test_data[\"Life satisfaction\"]]"
   ]
  },
  {
   "cell_type": "markdown",
   "metadata": {},
   "source": [
    "#### Training and evaluation"
   ]
  },
  {
   "cell_type": "markdown",
   "metadata": {},
   "source": [
    "The following demonstrates in principle how to build a regressor that uses\n",
    "an instance of the  scikit learn `Pipeline` class, which was first demonstrated\n",
    "in the polynomial regression example earlier in this NB.\n",
    "\n",
    "The example is trivial since scaling the data has no effect on regression \n",
    "with one independent variable,  but the code model is solid, and will\n",
    "extend easily to more complicated (and more useful) pipelines."
   ]
  },
  {
   "cell_type": "code",
   "execution_count": 24,
   "metadata": {},
   "outputs": [
    {
     "data": {
      "text/plain": [
       "(29, 1)"
      ]
     },
     "execution_count": 24,
     "metadata": {},
     "output_type": "execute_result"
    }
   ],
   "source": [
    "y_train.shape"
   ]
  },
  {
   "cell_type": "code",
   "execution_count": 34,
   "metadata": {
    "colab": {
     "base_uri": "https://localhost:8080/",
     "height": 357
    },
    "id": "XIa4jyQeI9Sf",
    "outputId": "c07c42bb-9d09-4acb-d3d7-a3ce13d83630"
   },
   "outputs": [
    {
     "name": "stdout",
     "output_type": "stream",
     "text": [
      "Lin Training R2: 0.73\n",
      "KNN Training R2: 0.91\n"
     ]
    },
    {
     "data": {
      "image/png": "[encoded data removed]",
      "text/plain": [
       "<Figure size 1200x500 with 2 Axes>"
      ]
     },
     "metadata": {},
     "output_type": "display_data"
    }
   ],
   "source": [
    "#######################################################################\n",
    "#\n",
    "#   Training\n",
    "#\n",
    "########################################################################\n",
    "\n",
    "from sklearn import linear_model\n",
    "from sklearn import preprocessing\n",
    "from sklearn import pipeline\n",
    "\n",
    "\n",
    "##  Create the linear model pipeline\n",
    "scaler2 = preprocessing.StandardScaler()\n",
    "# select and train a linear regression model \n",
    "lin_reg2 = linear_model.LinearRegression()\n",
    "pipeline_reg3 = pipeline.Pipeline([('scal', scaler2), ('lin', lin_reg2)])\n",
    "\n",
    "##  Create the KNN model pipeline\n",
    "# Select and train a k-neighbors regression model, supplying values for important parameters\n",
    "knn_reg_model = neighbors.KNeighborsRegressor(n_neighbors=2)\n",
    "scaler3 = preprocessing.StandardScaler()\n",
    "knn_pipeline = pipeline.Pipeline([('scal', scaler3), ('knn', knn_reg_model)])\n",
    "\n",
    "\n",
    "\n",
    "# select and train a linear regression model\n",
    "pipeline_reg3.fit(X_train, y_train)\n",
    "print(f\"Lin Training R2: {pipeline_reg3.score(X_train, y_train):.2f}\")\n",
    "\n",
    "# Train the model (always the .fit() method in sklearn, even with a pipeline)\n",
    "# Unlike the usual version of scaling, for KNN regression we scale the \n",
    "#points = np.concatenate([X_train,y_train],axis=1)\n",
    "#scaler5 = preprocessing.StandardScaler()\n",
    "#points_s = scaler5.fit_transform(points)\n",
    "#X_train_s,y_train_s = points_s[:,0:1],points_s[:,1:2]\n",
    "knn_pipeline.fit(X_train, y_train)\n",
    "print(f\"KNN Training R2: {knn_pipeline.score(X_train, y_train):.2f}\")\n",
    "\n",
    "# Train the model\n",
    "#######################################################################\n",
    "#\n",
    "#   Testing\n",
    "#\n",
    "########################################################################\n",
    "\n",
    "# Use models to predict y vals on test data.\n",
    "#Yp = knn_reg_model.predict(X_test)  # Not using a pipeline\n",
    "#t_points = np.concatenate([X_test,y_test],axis=1)\n",
    "#t_points_s = scaler5.transform(t_points)\n",
    "#X_test_s,y_test_s = t_points_s[:,0:1],t_points_s[:,1:2]\n",
    "#X_test_s,y_test_s = X_test,scaler5.transform(y_test)\n",
    "#knn_pipeline.fit(X_train_s, y_train_s)\n",
    "#Yp = knn_pipeline.predict(X_test_s)\n",
    "Yp = knn_pipeline.predict(X_test)\n",
    "\n",
    "#Yp3 = lin_reg_model3.predict(X_test)  # Not using a pipeline\n",
    "Yp3 = pipeline_reg3.predict(X_test)\n",
    "\n",
    "#######################################################################\n",
    "#\n",
    "#   Plotting\n",
    "#\n",
    "########################################################################\n",
    "\n",
    "# Set up a figure \n",
    "f = plt.figure(figsize=(12,5))\n",
    "#  Add 2 plots side by side\n",
    "ax = f.add_subplot(121)\n",
    "ax2 = f.add_subplot(122)\n",
    "\n",
    "#######################################\n",
    "# Model 1 plot\n",
    "#######################################\n",
    "# Put test points in plot, color red\n",
    "#ax.scatter(Xm, Ym, c=\"r\",marker=\"o\")\n",
    "ax.scatter(X_test, y_test, c=\"r\",marker=\"o\")\n",
    "# Put  predicted test points in plot color grren\n",
    "#ax.scatter(Xm, Yp, c=\"g\",marker=\"s\")\n",
    "ax.scatter(X_test, Yp, c=\"g\",marker=\"s\")\n",
    "# Put training data in plot; let matplotlib choose the color.\n",
    "# It will choose a color not yet used in this axis.\n",
    "ax.scatter(X_train,y_train)\n",
    "# plot parameters\n",
    "#ax.set_ylim([4.5,10])\n",
    "ax.set_title('K Nearest Neighbors')\n",
    "ax.set_xlabel('GDP per capita (centered/scaled)')\n",
    "ax.set_ylabel('Life Sat (centered/scaled)')\n",
    "\n",
    "#######################################\n",
    "# Model 2 plot\n",
    "#######################################\n",
    "#ax2.scatter(Xm, Ym, c=\"r\",marker=\"o\")\n",
    "ax2.scatter(X_test, y_test, c=\"r\",marker=\"o\")\n",
    "#ax2.scatter(Xm, Yp3, c=\"g\",marker=\"s\")\n",
    "ax2.scatter(X_test, Yp3, c=\"g\",marker=\"s\")\n",
    "ax2.scatter(X_train, y_train)\n",
    "# plot parameters\n",
    "ax2.set_ylim([4.5,10])\n",
    "ax2.set_xlabel('GDP per capita')\n",
    "ax2.set_title('Linear Regression')\n",
    "\n",
    "# Not usually needed in a NB but okay\n",
    "plt.show()\n",
    "########################################################################\n",
    "\n",
    "#oecd_bli, gdp_per_capita = backup"
   ]
  },
  {
   "cell_type": "markdown",
   "metadata": {
    "id": "1A_s7ZmSI9Sf"
   },
   "source": [
    "\n",
    "The blue points are the training data and the red points are the test data.\n",
    "The green points are the predicted locations of the red points (using the GDP, the x-value, to predict the Life Satisfaction, the y-value).  Comparing the red points with the blue training data points, we see the test points are distinct outliers.   \n",
    "\n",
    "In the linear regression graph, as expected, the green points lie on a line chosen based on the blue points, the training data.  Because the data does not lie on a line, the linear model ends up having two flaws.  It underestimates the life satisfaction of poor folks in the test set, and overestimates that of rich folks. \n",
    "\n",
    "The predicted K Nearest Neighbor points do **not** lie on a line.  This is because\n",
    "the K Nearest Neighbor regressor is **not** a linear model.  It is a more powerful, more flexible model and does a better job predicting here, in the sense that there is less spread between the red and green points. This is also seen in the improved training R2 score; more accuracy has been achieved in fitting the training data.   Despite the fact that the training data lacks high GDP countries, the K Nearest Neighbor model seems to capture the fact that life satisfaction levels off with GDPs above 60K.  \n",
    "\n",
    "The KNN regressor is a very simple idea.  Training is trivial: store the training set in the model.\n",
    "At test time when predicting the regression value for $x$ find the the $k$ nearest training points\n",
    "to $x$ and average their target values, possibly weighting their contribution by their distance from $x$. To make the idea clearer, let's suppose we are using two independent variables to predict with instead of the one variable we used above.  We'll use the life satisfaction data, but treat both life satisfaction and GDP as the independent variables; they will be used to predict some other variable, let's say life expectancy. The idea of KNN is to divide the plane up into cells defined by the training data, as shown in the plot below,  which is called a Voronoi diagram:"
   ]
  },
  {
   "cell_type": "code",
   "execution_count": 37,
   "metadata": {},
   "outputs": [
    {
     "data": {
      "image/png": "[encoded data removed]",
      "text/plain": [
       "<Figure size 640x480 with 1 Axes>"
      ]
     },
     "metadata": {},
     "output_type": "display_data"
    }
   ],
   "source": [
    "import matplotlib.pyplot as plt\n",
    "from scipy.spatial import Voronoi, voronoi_plot_2d\n",
    "\n",
    "points = np.concatenate([X_train,y_train],axis=1)\n",
    "# Need to scale both X_train and y_train to make the diagram look at all comprehensible\n",
    "scaler4 = preprocessing.StandardScaler()\n",
    "points_s = scaler4.fit_transform(points)\n",
    "vor = Voronoi(points_s)\n",
    "fig = voronoi_plot_2d(vor)\n",
    "plt.show()"
   ]
  },
  {
   "cell_type": "markdown",
   "metadata": {},
   "source": [
    "Pick any polygon with orange vertices and call it X; call the single\n",
    "blue training point in X P. Any test point falling within polygon X\n",
    "has training point P as its nearest neighbor. Its other nearest neighbors will\n",
    "be the training points in the adjoining polygons.  For example, suppose that $k$, the number of nearest neighbors to be used, is 3; and suppose that the test point fell on the orange vertex at about (-1.7,-.8).  That point has 3 equally distant nearest neighbors. The predicted target value is the average of the target values of those 3 training points.\n",
    "\n",
    "So the model can predict values that lie at the intersections of complicated arrangements of line segments.  At the same time, it's very constrained by the Voronoi structure. What it's doing is quite far from the \n",
    "kind of memorizing of the training set we saw with the polynomial model."
   ]
  },
  {
   "cell_type": "markdown",
   "metadata": {},
   "source": [
    "It is still a bad model, but it is the best we have seen so far:"
   ]
  },
  {
   "cell_type": "code",
   "execution_count": 36,
   "metadata": {},
   "outputs": [
    {
     "data": {
      "text/plain": [
       "(0.8557142857142864, -6.155290102389083)"
      ]
     },
     "execution_count": 36,
     "metadata": {},
     "output_type": "execute_result"
    }
   ],
   "source": [
    "knn_mse = mean_squared_error (Yp, y_test)\n",
    "knn_r2 = r2_score (y_test,Yp)\n",
    "knn_mse, knn_r2"
   ]
  },
  {
   "cell_type": "markdown",
   "metadata": {},
   "source": [
    "Reviewing our linear model results:"
   ]
  },
  {
   "cell_type": "code",
   "execution_count": 76,
   "metadata": {},
   "outputs": [
    {
     "data": {
      "text/plain": [
       "(2.6818932487474605, -21.425387233553845)"
      ]
     },
     "execution_count": 76,
     "metadata": {},
     "output_type": "execute_result"
    }
   ],
   "source": [
    "lin3_mse = mean_squared_error (Yp3, y_test)\n",
    "lin3_r2 = r2_score (y_test,Yp3)\n",
    "lin3_mse, lin3_r2"
   ]
  },
  {
   "cell_type": "markdown",
   "metadata": {},
   "source": [
    "Both the models had respectable $R^2$ scores on the training data, but the performance of the  K Nearest Neighbor model degrades less on the test data. Thus the K Nearest Neighbor model,\n",
    "though non-linear, seems to be show less overfitting than the linear model."
   ]
  },
  {
   "cell_type": "markdown",
   "metadata": {},
   "source": [
    "####  Adding more variables to the pipeline"
   ]
  },
  {
   "cell_type": "markdown",
   "metadata": {},
   "source": [
    "We can of course play the same game with KNN that we played the linear regressor\n",
    "earlier in this notebook.  We can add variables.\n",
    "\n",
    "**Warning**:  Running the KNN regressor with multiple variable \n",
    "seems to be a bit unpredictable.  I have had some kernel crashes\n",
    "I can't really explain, and my best guess is that they are due to memory issues,\n",
    "but this is far from clear.  For best results, in doing the following experiments, restart your kernel,\n",
    "re-execute the **first** cell after the heading **Reloading the data used earlier in this NB** \n",
    "(which defines the code used below to lead data, but does not load the data).   This should give you a clean Python image to play with.\n",
    "\n",
    "We choose some lifesat predictors and retrain and re-evaluate:"
   ]
  },
  {
   "cell_type": "code",
   "execution_count": 41,
   "metadata": {},
   "outputs": [
    {
     "name": "stdout",
     "output_type": "stream",
     "text": [
      "3292\n",
      "888\n",
      "Life satisfaction has already been removed from the predictors list\n"
     ]
    }
   ],
   "source": [
    "oecd_bli = load_lifesat_data(lifesat_url)\n",
    "full_country_stats = prepare_country_stats(oecd_bli)\n",
    "\n",
    "predictors = ['Household net financial wealth', \n",
    "              'Job security', 'Rooms per person',\n",
    "              'Life expectancy','Homicide rate',\n",
    "              'Long-term unemployment rate']\n",
    "\n",
    "# Try even more variables at your own risk!\n",
    "#num_ignored=6\n",
    "#predictors = full_country_stats.columns[:-num_ignored])\n",
    "predicted ='Life satisfaction'\n",
    "\n",
    "try:\n",
    "   predictors.remove(predicted)\n",
    "except ValueError as e:\n",
    "    print(f\"{predicted} has already been removed from the predictors list\")\n",
    "\n",
    "# Linear Model with our new predictors \n",
    "remove_indices = [0, 1, 6, 8, 33, 34, 35]\n",
    "keep_indices = list(set(range(36)) - set(remove_indices))\n",
    "\n",
    "\n",
    "#Train on this!\n",
    "sample_data3 = full_country_stats[predictors].iloc[keep_indices]\n",
    "#Test on this!\n",
    "missing_data3 = full_country_stats[predictors].iloc[remove_indices]\n",
    "\n",
    "# Scikit learn will accept a Pandas DataFrame for training data!\n",
    "Xsample3 = sample_data3[predictors]\n",
    "Xtest_sample3 = missing_data3[predictors]\n",
    "\n",
    "ytrain = full_country_stats['Life satisfaction'].iloc[keep_indices]\n",
    "ytest = full_country_stats['Life satisfaction'].iloc[remove_indices]"
   ]
  },
  {
   "cell_type": "code",
   "execution_count": 42,
   "metadata": {},
   "outputs": [
    {
     "data": {
      "text/html": [
       "<style>#sk-container-id-1 {color: black;background-color: white;}#sk-container-id-1 pre{padding: 0;}#sk-container-id-1 div.sk-toggleable {background-color: white;}#sk-container-id-1 label.sk-toggleable__label {cursor: pointer;display: block;width: 100%;margin-bottom: 0;padding: 0.3em;box-sizing: border-box;text-align: center;}#sk-container-id-1 label.sk-toggleable__label-arrow:before {content: \"▸\";float: left;margin-right: 0.25em;color: #696969;}#sk-container-id-1 label.sk-toggleable__label-arrow:hover:before {color: black;}#sk-container-id-1 div.sk-estimator:hover label.sk-toggleable__label-arrow:before {color: black;}#sk-container-id-1 div.sk-toggleable__content {max-height: 0;max-width: 0;overflow: hidden;text-align: left;background-color: #f0f8ff;}#sk-container-id-1 div.sk-toggleable__content pre {margin: 0.2em;color: black;border-radius: 0.25em;background-color: #f0f8ff;}#sk-container-id-1 input.sk-toggleable__control:checked~div.sk-toggleable__content {max-height: 200px;max-width: 100%;overflow: auto;}#sk-container-id-1 input.sk-toggleable__control:checked~label.sk-toggleable__label-arrow:before {content: \"▾\";}#sk-container-id-1 div.sk-estimator input.sk-toggleable__control:checked~label.sk-toggleable__label {background-color: #d4ebff;}#sk-container-id-1 div.sk-label input.sk-toggleable__control:checked~label.sk-toggleable__label {background-color: #d4ebff;}#sk-container-id-1 input.sk-hidden--visually {border: 0;clip: rect(1px 1px 1px 1px);clip: rect(1px, 1px, 1px, 1px);height: 1px;margin: -1px;overflow: hidden;padding: 0;position: absolute;width: 1px;}#sk-container-id-1 div.sk-estimator {font-family: monospace;background-color: #f0f8ff;border: 1px dotted black;border-radius: 0.25em;box-sizing: border-box;margin-bottom: 0.5em;}#sk-container-id-1 div.sk-estimator:hover {background-color: #d4ebff;}#sk-container-id-1 div.sk-parallel-item::after {content: \"\";width: 100%;border-bottom: 1px solid gray;flex-grow: 1;}#sk-container-id-1 div.sk-label:hover label.sk-toggleable__label {background-color: #d4ebff;}#sk-container-id-1 div.sk-serial::before {content: \"\";position: absolute;border-left: 1px solid gray;box-sizing: border-box;top: 0;bottom: 0;left: 50%;z-index: 0;}#sk-container-id-1 div.sk-serial {display: flex;flex-direction: column;align-items: center;background-color: white;padding-right: 0.2em;padding-left: 0.2em;position: relative;}#sk-container-id-1 div.sk-item {position: relative;z-index: 1;}#sk-container-id-1 div.sk-parallel {display: flex;align-items: stretch;justify-content: center;background-color: white;position: relative;}#sk-container-id-1 div.sk-item::before, #sk-container-id-1 div.sk-parallel-item::before {content: \"\";position: absolute;border-left: 1px solid gray;box-sizing: border-box;top: 0;bottom: 0;left: 50%;z-index: -1;}#sk-container-id-1 div.sk-parallel-item {display: flex;flex-direction: column;z-index: 1;position: relative;background-color: white;}#sk-container-id-1 div.sk-parallel-item:first-child::after {align-self: flex-end;width: 50%;}#sk-container-id-1 div.sk-parallel-item:last-child::after {align-self: flex-start;width: 50%;}#sk-container-id-1 div.sk-parallel-item:only-child::after {width: 0;}#sk-container-id-1 div.sk-dashed-wrapped {border: 1px dashed gray;margin: 0 0.4em 0.5em 0.4em;box-sizing: border-box;padding-bottom: 0.4em;background-color: white;}#sk-container-id-1 div.sk-label label {font-family: monospace;font-weight: bold;display: inline-block;line-height: 1.2em;}#sk-container-id-1 div.sk-label-container {text-align: center;}#sk-container-id-1 div.sk-container {/* jupyter's `normalize.less` sets `[hidden] { display: none; }` but bootstrap.min.css set `[hidden] { display: none !important; }` so we also need the `!important` here to be able to override the default hidden behavior on the sphinx rendered scikit-learn.org. See: https://github.com/scikit-learn/scikit-learn/issues/21755 */display: inline-block !important;position: relative;}#sk-container-id-1 div.sk-text-repr-fallback {display: none;}</style><div id=\"sk-container-id-1\" class=\"sk-top-container\"><div class=\"sk-text-repr-fallback\"><pre>Pipeline(steps=[(&#x27;scal&#x27;, StandardScaler()),\n",
       "                (&#x27;knn&#x27;, KNeighborsRegressor(n_neighbors=3))])</pre><b>In a Jupyter environment, please rerun this cell to show the HTML representation or trust the notebook. <br />On GitHub, the HTML representation is unable to render, please try loading this page with nbviewer.org.</b></div><div class=\"sk-container\" hidden><div class=\"sk-item sk-dashed-wrapped\"><div class=\"sk-label-container\"><div class=\"sk-label sk-toggleable\"><input class=\"sk-toggleable__control sk-hidden--visually\" id=\"sk-estimator-id-1\" type=\"checkbox\" ><label for=\"sk-estimator-id-1\" class=\"sk-toggleable__label sk-toggleable__label-arrow\">Pipeline</label><div class=\"sk-toggleable__content\"><pre>Pipeline(steps=[(&#x27;scal&#x27;, StandardScaler()),\n",
       "                (&#x27;knn&#x27;, KNeighborsRegressor(n_neighbors=3))])</pre></div></div></div><div class=\"sk-serial\"><div class=\"sk-item\"><div class=\"sk-estimator sk-toggleable\"><input class=\"sk-toggleable__control sk-hidden--visually\" id=\"sk-estimator-id-2\" type=\"checkbox\" ><label for=\"sk-estimator-id-2\" class=\"sk-toggleable__label sk-toggleable__label-arrow\">StandardScaler</label><div class=\"sk-toggleable__content\"><pre>StandardScaler()</pre></div></div></div><div class=\"sk-item\"><div class=\"sk-estimator sk-toggleable\"><input class=\"sk-toggleable__control sk-hidden--visually\" id=\"sk-estimator-id-3\" type=\"checkbox\" ><label for=\"sk-estimator-id-3\" class=\"sk-toggleable__label sk-toggleable__label-arrow\">KNeighborsRegressor</label><div class=\"sk-toggleable__content\"><pre>KNeighborsRegressor(n_neighbors=3)</pre></div></div></div></div></div></div></div>"
      ],
      "text/plain": [
       "Pipeline(steps=[('scal', StandardScaler()),\n",
       "                ('knn', KNeighborsRegressor(n_neighbors=3))])"
      ]
     },
     "execution_count": 42,
     "metadata": {},
     "output_type": "execute_result"
    }
   ],
   "source": [
    "##  Create the KNN model pipeline\n",
    "# Select and train a k-neighbors regression model, supplying values for important parameters\n",
    "knn_LS_model = neighbors.KNeighborsRegressor(n_neighbors=3)\n",
    "scaler_LS = preprocessing.StandardScaler()\n",
    "knn_LS_pipeline = pipeline.Pipeline([('scal', scaler_LS), ('knn', knn_LS_model)])\n",
    "# Train the model (always the .fit() method in sklearn)\n",
    "knn_LS_pipeline.fit(Xsample3, ytrain)"
   ]
  },
  {
   "cell_type": "markdown",
   "metadata": {},
   "source": [
    "And a modest improvement ensues in both MSE and $R^2$, although we have still not reached the baseline."
   ]
  },
  {
   "cell_type": "code",
   "execution_count": 43,
   "metadata": {},
   "outputs": [
    {
     "data": {
      "text/plain": [
       "(0.2976190476190477, -1.488623435722412)"
      ]
     },
     "execution_count": 43,
     "metadata": {},
     "output_type": "execute_result"
    }
   ],
   "source": [
    "Yp_LS = knn_LS_pipeline.predict(Xtest_sample3)\n",
    "knn_LS_mse = mean_squared_error (Yp_LS, ytest)\n",
    "knn_LS_r2 = r2_score (ytest,Yp_LS)\n",
    "#(0.2976190476190477, -1.488623435722412)\n",
    "knn_LS_mse, knn_LS_r2"
   ]
  },
  {
   "cell_type": "markdown",
   "metadata": {},
   "source": [
    "Note that if all we care about in evaluating is the $R^2$ score, we can also do:"
   ]
  },
  {
   "cell_type": "code",
   "execution_count": 44,
   "metadata": {},
   "outputs": [
    {
     "data": {
      "text/plain": [
       "-1.488623435722412"
      ]
     },
     "execution_count": 44,
     "metadata": {},
     "output_type": "execute_result"
    }
   ],
   "source": [
    "knn_LS_pipeline.score(Xtest_sample3,ytest)"
   ]
  },
  {
   "cell_type": "code",
   "execution_count": null,
   "metadata": {},
   "outputs": [],
   "source": []
  }
 ],
 "metadata": {
  "colab": {
   "name": "simple_regression.ipynb",
   "provenance": []
  },
  "kernelspec": {
   "display_name": "Python 3 (ipykernel)",
   "language": "python",
   "name": "python3"
  },
  "language_info": {
   "codemirror_mode": {
    "name": "ipython",
    "version": 3
   },
   "file_extension": ".py",
   "mimetype": "text/x-python",
   "name": "python",
   "nbconvert_exporter": "python",
   "pygments_lexer": "ipython3",
   "version": "3.10.6"
  },
  "nav_menu": {},
  "toc": {
   "colors": {
    "hover_highlight": "#DAA520",
    "running_highlight": "#FF0000",
    "selected_highlight": "#FFD700"
   },
   "moveMenuLeft": true,
   "nav_menu": {
    "height": "81px",
    "width": "252px"
   },
   "navigate_menu": true,
   "number_sections": true,
   "sideBar": true,
   "threshold": 4,
   "toc_cell": false,
   "toc_section_display": "block",
   "toc_window_display": true,
   "widenNotebook": false
  },
  "toc_position": {
   "height": "616px",
   "left": "0px",
   "right": "20px",
   "top": "106px",
   "width": "213px"
  }
 },
 "nbformat": 4,
 "nbformat_minor": 1
}
