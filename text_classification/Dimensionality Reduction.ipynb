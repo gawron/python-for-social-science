{
 "cells": [
  {
   "cell_type": "markdown",
   "metadata": {},
   "source": [
    "Instructor's Note:  This notebook tries to give you some of the motivation and some of the background ideas for two of the most popular methods of dimensionality reduction.  In some cases, some mathematical details are described.  Don't worry about the mathematical details. Try to understand the main idea and try to understand some of the basic ideas of what dimensionality reduction does to your data.  Using your reduced dimensionality representation for visualization or for another application is one thing you will benexpected to know about.  The other thing you will be responsible for is the scikit learn interface for dimensionality reduction.  How do you use reduce your data?  What are some of the parameters you need to think about when you reduce?  What will your data look like after reduction?\n",
    "\n",
    "For an example of a useful application of dimensionality reduction, see the regression and classification notebook, which illustrates how to train a classifier on data that has been reduced by PCA."
   ]
  },
  {
   "cell_type": "markdown",
   "metadata": {},
   "source": [
    "##  Dimensionality Reduction (Truncated SVD and PCA) "
   ]
  },
  {
   "cell_type": "markdown",
   "metadata": {},
   "source": [
    "The iris dataset is a 150x4 2D array. Each row  **represents** an iris with 4 numbers. It is a **4-dimensional representation of the data**.  \n",
    "\n",
    "Another less grandiose way of putting this is that an iris is represented by 4 of its numerical **features**.  \n",
    "In the regression and classification notebook,\n",
    "we explored training a classifier on different subsets of those  4 features, and also on\n",
    "all 4 features.  \n",
    "\n",
    "But why limit ourselves to representations constructed out of subsets of the original 4 features?\n",
    "In the assignment, you are asked to test classifiers trained on **different** representations of the data,\n",
    "for example, on a sepal area feature computed by multiplying the sepal length of each iris\n",
    "by its sepal width.  There is also a petal area representation computed by multiplying the petal length of each iris  by its petal width.  And of course, there is a representation consisting of both sepal\n",
    "area and petal area, ostensibly a 2D representation (the classifier is trained a 150x2 array),\n",
    "but really constructed from information extracted from all 4 dimensions of the original data\n",
    "(we have been referring to Questions 4a and 4b of the assignment).  This sort of transformation of the data, using the original 4 dimensions to compute a 2-dimensional alternative representation, is called **dimensionality reduction**.  The exercise in the homework -- computing 2 area features -- is an intuitively appealing way of representing the data.  It makes sense -- and even better -- it works pretty well.  This is dimensionality reduction by clever idea.\n",
    "\n",
    "But there is a whole cottage industry devoted to finding **algorithms** for dimensionality reduction.  A dimensionality reduction algorithm is a program which, given a dataset of $n$ dimensions, and often a target\n",
    "number of dimensions $m$ ($m \\lt n$), finds the **best** $m$-dimensional representation of that\n",
    "data under some very precise mathematical definition of what \"best\" means.  For\n",
    "example, viewing the data as  150 points in 4-dimensional space, consider each of the pairwise distances\n",
    "(that's 11,175 distances). We might define the best 2D representation as the one that minimizes the overall change in distances between the points.  Thus, if we're we're successful, a certain\n",
    "kind of relationship among the data points is preserved as much as possible.\n",
    "Defining Euclidean distance as what's preserved might be a good\n",
    "idea, for example, if we're using our 2D representation for\n",
    "visualization.  Points that are close in the 4D representation remain close in the \n",
    "reduced representation, so  we're getting a relatively undistorted view\n",
    "of the distance relationships between points in the data, relationships\n",
    "that can't be visualized in the original data.  Optimal distance preservation\n",
    "is the objective of a dimensionality reduction algorithm called\n",
    "**Multi-Dimensional Scaling** (MDS).\n",
    "\n",
    "But the uses of dimensionality reduction go far beyond creating\n",
    "informative visualizations. The general problem of data analysis is discovering\n",
    "meaningful relationships in your data.  This is made more difficult when there\n",
    "are many dimensions (many variables).  Thus, automatic ways of discovering redundancies\n",
    "among the variables, allowing for two or more variables to be compressed into\n",
    "one, or five variables to be compressed into three, are useful both\n",
    "cognitively and computationally. Reduction of variables may make generalizations\n",
    "easier to see or it may bring some computational analysis that was unfeasible\n",
    "suddenly within reach (for example K-Nearest Neighbor Regression,\n",
    "which we used as our example of a nonlinear regressor, may\n",
    "become computationally infeasible with high-dimensionality data,\n",
    "so doing KNN on data that has had its dimensionality reduced in some\n",
    "way is common).\n",
    "Generally reducing dimensions will lose information.\n",
    "Thus, the general goal of dimensionality reduction is to reduce as much as possible while \n",
    "achieving the best possible approximation of the original data.  The different way\n",
    "of defining and implementing these goals distinguish various\n",
    "approaches to dimensionality reduction.  We'll go through this\n",
    "more slowly below.\n",
    "\n",
    "\n",
    "One of the most famous  dimensionality reductions technique is **Principle Components Analysis** (PCA).\n",
    "This is closely related to Truncated SVD (as it's called in scikit learn), which we'll explain first,\n",
    "because it's simpler. The SVD in Truncated SVD refers to a  key concept in Linear Algebra,\n",
    "the **singular value decomposition (SVD) of a matrix**.  The SVD of a matrix $A$\n",
    "decomposes it into an exact product of three matrices computed by finding the Eigenvectors and Eigenvalues\n",
    "of $A^{T}A$.  The \"truncation\" in Truncated SVD \n",
    "refers to how the dimensionality reduction is achieved: Use only the\n",
    "top $m$ components (corresponding to the top $m$ leading eigenvalues) of the decomposition.\n",
    "So we start with an **exact decomposition** (the SVD) and then make it approximate\n",
    "by leaving out all but the $m$ most important factors (more precisely, zeroing out the others).  Truncated SVD applied to term-document matrices is called Latent Semantic Analysis or Latent Semantic Indexing (LSA or LSI).  PCA does essentially the same thing as truncated SVD but starts with centered data; if $C$ is the centered version of $A$, then  $C^{T}C$ is the covariance matrix of $A$, so the eigenvectors found are the eigenvectors of the covariance matrix; a consequence of this is that the top $m$ leading eigenvectors are the $m$ vectors that do the best job of accounting for the variance in the data.\n",
    "\n",
    "It's a rather amazing fact about the truncated SVD that it gives the \n",
    "best $m$-dimensional approximation of the original  data, \n",
    "as measured by something called the Frobenius Norm.  The rigorous idea that\n",
    "you would explore in a Linear Algebra course is that truncated SVD gives\n",
    "the best **rank** $m$ approximation.\n",
    "\n",
    "The scikit learn toolset provides implementations of a number of dimensionality reduction tools\n",
    "or tools that can be used to generate reduced output, including\n",
    "Principle Components Analysis (PCA, see `sklearn.decomposition.PCA` illustrated below ),\n",
    "Truncated SVD (see `sklearn.decomposition.TruncatedSVD` also illustrated below), \n",
    "Kernel PCA (`sklearn.decomposition.KernelPCA`, illustrated below for the RBF Kernel), \n",
    "Multidimensional Scaling (MDS, see `sklearn.manifold.MDS`),\n",
    "Non Negative Matrix Factorization (NMF, see `sklearn.decomposition.NMF`),\n",
    "Factor Analysis (see `sklearn.decomposition.FactorAnalysis`),\n",
    "and Linear Discriminant Analysis (LDA, see `sklearn.discriminant_analysis.LinearDiscriminantAnalysis`), \n",
    "well as [numerous others.](https://scikit-learn.org/stable/modules/classes.html#module-sklearn.decomposition)\n",
    "\n",
    "The interested reader should consult [Sumithra and Surendran (2015)](https://citeseerx.ist.psu.edu/document?repid=rep1&type=pdf&doi=ed2fc78cf5d7eb8233deaa9dde8f42b1e2d7f661),\n",
    "which is a survey of dimensionality reduction techniques,\n",
    "discussing TruncatedSVD, PCA and\n",
    "and at least 10 others.   Additionally, there is Uniform Manifold Approximation\n",
    "and Projection (UMAP), for which [a Python implementation](https://umap-learn.readthedocs.io/en/latest/how_umap_works.html) exists which has been applied to topic\n",
    "modelling in [BERT.](https://www.pinecone.io/learn/bertopic/)\n",
    "And of course, this list is incomplete.  As we said at the outset,\n",
    "dimensionality reduction is an **industry**.\n",
    "\n",
    "Our goal here is simply to introduce the\n",
    "idea of this kind of data analysis and to give some general motivations.  We\n",
    "will illustrate by applying PCA to the iris data set, visualizing the result,\n",
    "and apply it to the iris classification task."
   ]
  },
  {
   "cell_type": "markdown",
   "metadata": {},
   "source": [
    "Reloading the iris data:"
   ]
  },
  {
   "cell_type": "code",
   "execution_count": 134,
   "metadata": {},
   "outputs": [
    {
     "name": "stdout",
     "output_type": "stream",
     "text": [
      "(150, 4)\n"
     ]
    }
   ],
   "source": [
    "import numpy as np\n",
    "import sklearn\n",
    "import sklearn.decomposition as dec\n",
    "#import sklearn.manifold as man\n",
    "from sklearn import linear_model\n",
    "from sklearn.metrics import accuracy_score, recall_score, precision_score\n",
    "import sklearn.datasets \n",
    "import matplotlib.pyplot as plt\n",
    "from sklearn.metrics.pairwise import euclidean_distances#cosine_similarity\n",
    "\n",
    "iris = sklearn.datasets.load_iris()\n",
    "X = iris.data\n",
    "y = iris.target\n",
    "print(X.shape)"
   ]
  },
  {
   "cell_type": "markdown",
   "metadata": {},
   "source": [
    "Now let's reduce the data to 2 dimensions using `PCA`; we'll also use `TruncatedSVD` for comparison."
   ]
  },
  {
   "cell_type": "code",
   "execution_count": 314,
   "metadata": {},
   "outputs": [],
   "source": [
    "X = iris.data\n",
    "reducer = dec.PCA(n_components=2)\n",
    "reducer_svd = dec.TruncatedSVD(n_components=2)\n",
    "#reducer_mds = man.MDS(n_components=2,normalized_stress=\"auto\")\n",
    "\n",
    "X_reduced = reducer.fit_transform(X)\n",
    "X_reduced_svd = reducer_svd.fit_transform(X)\n",
    "#X_reduced_mds = reducer_mds.fit_transform(X)"
   ]
  },
  {
   "cell_type": "markdown",
   "metadata": {},
   "source": [
    "Now we said above that one criterion for a good dimensionality\n",
    "reduction is that it represents the data `X`  as `X_reduced`, where\n",
    "`X_reduced` has fewer dimensions,\n",
    "while approximating it as well as possible.\n",
    "Let's try to measure how good an approximation\n",
    "of `X` `X_reduced` gives. We can't directly\n",
    "compare `X` and `X_reduced` because they have different dimensionality,\n",
    "so we **untransform** `X_reduced` and use \n",
    "Frobenius Norm (`scipy.linalg.norm(X-X',ord=\"for\")`\n",
    "to quantify the difference between `X` and its untransformed\n",
    "version. In this context, Frobenius Norm becomes a \n",
    "measure of (the square root of summed) squared errors.\n",
    "\n",
    "The details of this will make more sense after we develop some other ideas."
   ]
  },
  {
   "cell_type": "code",
   "execution_count": 240,
   "metadata": {},
   "outputs": [],
   "source": [
    "import scipy\n",
    "\n",
    "def information_lost(X, X_reduced, transformer):\n",
    "    \"\"\"\n",
    "    Meaasure the amount of information lost by the transformer.\n",
    "    \n",
    "    Reverse the transformation and look at the difference matrix gotten\n",
    "    by subtracting X_reduced reverse-transformed from X. In the ideal\n",
    "    case of no information lost this difference should be 0.\n",
    "    \n",
    "    Compare the frobenius norm  (a kind of length\n",
    "    measure for matrices) of the difference matrix to the frobenius norm of X.\n",
    "    \"\"\"\n",
    "    return scipy.linalg.norm(X - transformer.inverse_transform(X_reduced),ord=\"fro\")\n",
    "\n",
    "def percent_information_loss(X, X_reduced, transformer):\n",
    "    return information_lost(X, X_reduced, transformer)/scipy.linalg.norm(X,ord=\"fro\")"
   ]
  },
  {
   "cell_type": "markdown",
   "metadata": {},
   "source": [
    "Here's our measure of information loss for PCA"
   ]
  },
  {
   "cell_type": "code",
   "execution_count": 105,
   "metadata": {},
   "outputs": [
    {
     "data": {
      "text/plain": [
       "3.899313318962578"
      ]
     },
     "execution_count": 105,
     "metadata": {},
     "output_type": "execute_result"
    }
   ],
   "source": [
    "information_lost(X, X_reduced, reducer)"
   ]
  },
  {
   "cell_type": "markdown",
   "metadata": {},
   "source": [
    "And here it is for truncated SVD:"
   ]
  },
  {
   "cell_type": "code",
   "execution_count": 106,
   "metadata": {},
   "outputs": [
    {
     "data": {
      "text/plain": [
       "3.940889887879374"
      ]
     },
     "execution_count": 106,
     "metadata": {},
     "output_type": "execute_result"
    }
   ],
   "source": [
    "information_lost(X, X_reduced_svd, reducer_svd)"
   ]
  },
  {
   "cell_type": "markdown",
   "metadata": {},
   "source": [
    "Here is an example of how the data is reduced.  Let's use the iris from the row with index 2:"
   ]
  },
  {
   "cell_type": "code",
   "execution_count": 107,
   "metadata": {},
   "outputs": [
    {
     "data": {
      "text/plain": [
       "array([4.7, 3.2, 1.3, 0.2])"
      ]
     },
     "execution_count": 107,
     "metadata": {},
     "output_type": "execute_result"
    }
   ],
   "source": [
    "i = 2\n",
    "X[i]"
   ]
  },
  {
   "cell_type": "markdown",
   "metadata": {},
   "source": [
    "It's reduced form is"
   ]
  },
  {
   "cell_type": "code",
   "execution_count": 108,
   "metadata": {
    "scrolled": true
   },
   "outputs": [
    {
     "data": {
      "text/plain": [
       "array([-2.88899057, -0.14494943])"
      ]
     },
     "execution_count": 108,
     "metadata": {},
     "output_type": "execute_result"
    }
   ],
   "source": [
    "X_reduced[i]"
   ]
  },
  {
   "cell_type": "markdown",
   "metadata": {},
   "source": [
    "And if we **un**-transform it we get:"
   ]
  },
  {
   "cell_type": "code",
   "execution_count": 109,
   "metadata": {
    "scrolled": false
   },
   "outputs": [
    {
     "data": {
      "text/plain": [
       "array([4.70411871, 3.1956816 , 1.30821697, 0.17518015])"
      ]
     },
     "execution_count": 109,
     "metadata": {},
     "output_type": "execute_result"
    }
   ],
   "source": [
    "reducer.inverse_transform(X_reduced[i])"
   ]
  },
  {
   "cell_type": "code",
   "execution_count": 110,
   "metadata": {},
   "outputs": [
    {
     "data": {
      "text/plain": [
       "array([4.7, 3.2, 1.3, 0.2])"
      ]
     },
     "execution_count": 110,
     "metadata": {},
     "output_type": "execute_result"
    }
   ],
   "source": [
    "X[i]"
   ]
  },
  {
   "cell_type": "markdown",
   "metadata": {},
   "source": [
    "Which is kind of close to the original.   To measure the information\n",
    "loss of our transformation, we take the length of the difference vector,\n",
    "the difference between the original vector and its untransformed version."
   ]
  },
  {
   "cell_type": "code",
   "execution_count": 80,
   "metadata": {},
   "outputs": [
    {
     "data": {
      "text/plain": [
       "0.02681707970539016"
      ]
     },
     "execution_count": 80,
     "metadata": {},
     "output_type": "execute_result"
    }
   ],
   "source": [
    "scipy.linalg.norm(X[i] - reducer.inverse_transform(X_reduced[i]))"
   ]
  },
  {
   "cell_type": "markdown",
   "metadata": {},
   "source": [
    "So for this vector the information loss is a small fraction of the total information loss\n",
    "for the data set, computed above.\n",
    "\n",
    "We next try to understand the mechanics of how this works."
   ]
  },
  {
   "cell_type": "markdown",
   "metadata": {},
   "source": [
    "#### Understanding the Components in Principle Components Analysis\n",
    "\n",
    "Now, before can understand how our PCA representations  approximate the original data,\n",
    "we have to understand what the  **Components** in Principle Components Analysis (or SVD\n",
    "reduction) are, and why they are **Principle**. Simply put, they are the $m$ (for us $m=2$)  4D **axes** (or vectors) that most naturally represent the data. \n",
    "\n",
    "Here are the components of our SVD reduction:"
   ]
  },
  {
   "cell_type": "code",
   "execution_count": 221,
   "metadata": {},
   "outputs": [
    {
     "data": {
      "text/plain": [
       "array([[ 0.75100424,  0.38071199,  0.51283483,  0.16748565],\n",
       "       [-0.2849602 , -0.54498918,  0.709528  ,  0.34402688]])"
      ]
     },
     "execution_count": 221,
     "metadata": {},
     "output_type": "execute_result"
    }
   ],
   "source": [
    "axes = reducer_svd.components_\n",
    "axes"
   ]
  },
  {
   "cell_type": "markdown",
   "metadata": {},
   "source": [
    "The two rows are the 4D components.  We have named them `axes`, because that's how they're\n",
    "going to be used.  They are in fact the two leading eigenvectors of $X^TX$, the matrix product of the transpose of X with X, which is called the [**Gram Matrix**](https://en.wikipedia.org/wiki/Gramian_matrix) of X.\n",
    "\n",
    "Since our data $\\text{X}$ is 150x4, $\\text{X}^\\text{T}$ is 4x150, so the Gram Matrix is 4x4.  So using G\n",
    "for the Gram Matrix\n",
    "\n",
    "$$\n",
    "G[i,j] = X[:,i] \\cdot X[:,j],\n",
    "$$\n",
    "\n",
    "which can (very roughly) be thought of as a measure of how similar the entries in column $i$ are to the entries in column $j$."
   ]
  },
  {
   "cell_type": "code",
   "execution_count": 81,
   "metadata": {},
   "outputs": [
    {
     "data": {
      "text/plain": [
       "(4, 4)"
      ]
     },
     "execution_count": 81,
     "metadata": {},
     "output_type": "execute_result"
    }
   ],
   "source": [
    "(X.T@X).shape"
   ]
  },
  {
   "cell_type": "markdown",
   "metadata": {},
   "source": [
    "So the SVD components are the two leading eigenvectors of the Gram Matrix.\n",
    "\n",
    "Here are all four of the eigenvectors of the  Gram Matrix.  Note that our `axes` rows\n",
    "coincides with the first two **columns**. "
   ]
  },
  {
   "cell_type": "code",
   "execution_count": 235,
   "metadata": {},
   "outputs": [
    {
     "data": {
      "text/plain": [
       "array([[ 0.75110816,  0.2841749 ,  0.50215472,  0.32081425],\n",
       "       [ 0.38008617,  0.5467445 , -0.67524332, -0.31725607],\n",
       "       [ 0.51300886, -0.70866455, -0.05916621, -0.48074507],\n",
       "       [ 0.16790754, -0.34367081, -0.53701625,  0.75187165]])"
      ]
     },
     "execution_count": 235,
     "metadata": {},
     "output_type": "execute_result"
    }
   ],
   "source": [
    "import scipy\n",
    "\n",
    "# eig_values = scipy.linalg.eig(X.T@X)[0] \n",
    "(eigvals,eigs) = scipy.linalg.eig(X.T@X)\n",
    "eigs"
   ]
  },
  {
   "cell_type": "markdown",
   "metadata": {},
   "source": [
    "An eigenvector of a matrix $M$ is a vector $e$ such that $Me$ (the matrix\n",
    "product of $M$ with $e$) points in the same direction as $e$. \n",
    "\n",
    "$$\n",
    "Me = \\lambda e\n",
    "$$\n",
    "\n",
    "All vectors that point in the same direction as $e$ are also eigenvectors of $M$\n",
    "and have the same $\\lambda$ as $M$:\n",
    "\n",
    "$$\n",
    "M(ke) = k\\lambda e = \\lambda (ke)\n",
    "$$\n",
    "\n",
    "$\\lambda$ is called an eigenvalue.  The `linalg.eig` function called above\n",
    "also returns the eigenvalues, aligned with the eigenvectors. These eigenvalues (or $\\lambda_i$)\n",
    "are real and ordered from biggest to smallest.\n",
    "\n",
    "So the two eigenvectors in `axes` are those with the two biggest eigenvalues.\n",
    "Since all the eigenvectors pointing in the same direction have the same\n",
    "eigenvalue, the length of an eigenvector is immaterial; for excellent computational\n",
    "reasons, the eigenvectors used in PCA (and those returned by `linalg.eig`)\n",
    "have been chosen to have unit length.  Because the Gram Matrix is symmetric\n",
    "the eigenvalues are real and the eigenvectors are **orthogonal**, which\n",
    "means their dot product is 0 (or nearly, when computing):"
   ]
  },
  {
   "cell_type": "code",
   "execution_count": 32,
   "metadata": {},
   "outputs": [
    {
     "data": {
      "text/plain": [
       "-6.5780714209040525e-15"
      ]
     },
     "execution_count": 32,
     "metadata": {},
     "output_type": "execute_result"
    }
   ],
   "source": [
    "eigs[0,:].dot(eigs[1,:])"
   ]
  },
  {
   "cell_type": "code",
   "execution_count": 213,
   "metadata": {},
   "outputs": [
    {
     "data": {
      "text/plain": [
       "array([3, 2])"
      ]
     },
     "execution_count": 213,
     "metadata": {},
     "output_type": "execute_result"
    }
   ],
   "source": [
    "np.array([[3,4],[2,1]])@np.array([1,0])"
   ]
  },
  {
   "cell_type": "markdown",
   "metadata": {},
   "source": [
    "Here's what's going on when we transform the 4D vector $X_{i}$ (iris $i$ of our data) \n",
    "into a 2D truncated SVD representation of iris $i$.\n",
    "\n",
    "We're looking for a transformation $U$\n",
    "that takes us from one coordinate system to another   We  have our 4D data vector $X_{i}$\n",
    "that looks like this:\n",
    "\n",
    "```python\n",
    "[a \n",
    " b\n",
    " c\n",
    " d]\n",
    "```\n",
    "\n",
    "and we need to find its coordinates in a new 4D coordinate system, whose axes (so-called\n",
    "**basis vectors**) are the four eigenvectors, call them $e_{1}$ and $e_{2}$, $e_{3}$, and\n",
    "$e_{4}$.  Thus far we're describing a what's called a **change of basis transformation**\n",
    "in Linear Algebra. What makes it a dimensionality **reduction** is\n",
    "that we're only going to keep the first two coordinates of the transformed\n",
    "vectors.\n",
    "\n",
    "In a change of basis transformation, we want to represent \n",
    "the vector $X_{i}$ as a weighted sum (a linear combination) of the 4 new axes.\n",
    "That is, \n",
    "\n",
    "$$\n",
    "U\\,X_{i}\n",
    "=\n",
    "U\\left\\lbrack\\begin{array}{l}\n",
    "   a\\\\\n",
    "   b\\\\\n",
    "   c\\\\\n",
    "   d\n",
    "   \\end{array}\\right \\rbrack \n",
    "  =\n",
    "\\left\\lbrack\\begin{array}{l}\n",
    "   a'\\\\\n",
    "   b'\\\\\n",
    "   c'\\\\\n",
    "   d'\n",
    "   \\end{array}\\right \\rbrack \n",
    "$$\n",
    "\n",
    "if  and only if\n",
    "$X_{i} = a'\\,e_{1} + b'\\,e_{2} + c'\\,e_{3} + b'\\,e_{4}$.\n",
    "Linear algebra teaches us that $U$ can be implemented\n",
    "with a 4x4 change-of-basis matrix (maps from 4D vectors to 4D vectors).\n",
    "\n",
    "Now since $e_{1}$ is the new first axis (the principle component),\n",
    "its representation in the new coordinate system has\n",
    "to be \n",
    "\n",
    "$\\left \\lbrack \\begin{array}{cccc}\n",
    "   1&\n",
    "   0&\n",
    "   0&\n",
    "   0\n",
    "   \\end{array} \\right \\rbrack$,\n",
    "  \n",
    "since $e_{1} = 1\\cdot\\,e_{1} + 0\\cdot\\,e_{2} + 0\\cdot\\,e_{3} + 0\\cdot\\,e_{4}$;\n",
    "and similarly $e_{2}$ in new coordinates has to be:\n",
    "\n",
    "$\\left \\lbrack \\begin{array}{cccc}\n",
    "   0&\n",
    "   1&\n",
    "   0&\n",
    "   0\n",
    "   \\end{array} \\right \\rbrack$.\n",
    "   \n",
    "And so on for $e_{3}$ and $e_{4}$. \n",
    " \n",
    "\n",
    "Well,\n",
    "there are not many matrices that map $e_{1}$ to\n",
    "\n",
    "$$\n",
    "\\left \\lbrack \\begin{array}{cccc}\n",
    "   1&\n",
    "   0&\n",
    "   0&\n",
    "   0\n",
    "   \\end{array} \\right \\rbrack\n",
    "$$\n",
    "\n",
    "and $e_{2}$ to \n",
    "\n",
    "$$\n",
    "\\left \\lbrack \\begin{array}{cccc}\n",
    "   0&\n",
    "   1&\n",
    "   0&\n",
    "   0\n",
    "   \\end{array} \\right \\rbrack\n",
    "$$\n",
    "and so on And so on for $e_{3}$ and $e_{4}$. \n",
    "\n",
    "In fact, to implement the complete transformation to the eigenvector basis, the  $U$ we want is:\n",
    "\n",
    "$$\n",
    "\\left\\lbrack \\begin{array}{l}e_{1} \\\\e_{2}\\\\e_{3}\\\\e_{4} \\end{array}\\right \\rbrack,\n",
    "$$\n",
    "that is the matrix with $e_{i}$ as its $i$th row.\n",
    "Since the 4 new axes are orthogonal unit\n",
    "vectors, their  length is 1 and the dot product of one of them\n",
    "with the other is 0.  And that means\n",
    "\n",
    "$$\n",
    "\\begin{array}[t]{lcl}\n",
    "\\left\\lbrack \\begin{array}{l}e_{1} \\\\e_{2}\\\\e_{3} \\\\e_{4} \\end{array}\\right \\rbrack  e_{1} = \n",
    "    \\left\\lbrack \\begin{array}{l}e_{1} \\cdot e_{1} \\\\\n",
    "                                 e_{2}  \\cdot e{1}\\\\\n",
    "                                 e_{3}  \\cdot e{1}\\\\\n",
    "                                 e_{4}  \\cdot e{1}\\end{array} \\right \\rbrack \n",
    "     = \\left\\lbrack \\begin{array}{l} 1\\\\0\\\\0\\\\0\\end{array}\\right \\rbrack\n",
    "\\end{array}\n",
    "$$\n",
    "\n",
    "Similarly,\n",
    "\n",
    "$$\n",
    "\\begin{array}[t]{lcl}\n",
    "\\left\\lbrack \\begin{array}{l}e_{1} \\\\e_{2}\\\\e_{3}\\\\e_{4} \\end{array}\\right \\rbrack  e_{2} = \n",
    "    \\left\\lbrack \\begin{array}{l}e_{1} \\cdot e_{2} \\\\\n",
    "                                 e_{2}  \\cdot e{2} \\\\\n",
    "                                  e_{3}  \\cdot e{2} \\\\\n",
    "                                   e_{4}  \\cdot e{2} \\\\\n",
    "                                 \\end{array} \\right \\rbrack \n",
    "     = \\left\\lbrack \\begin{array}{l} 0\\\\1\\\\0\\\\0\\end{array}\\right \\rbrack\n",
    "\\end{array}\n",
    "$$\n",
    "\n",
    "But we're doing dimensionality reduction and only keeping the first two coordinates. That means we are going to **approximate** $X_{i}$ with $\\hat{X}_{i}$. If ${X}_{i} = a'\\,e_{1} + b'\\,e_{2} + c'\\,e_{3} + d'\\,e_{4}$, then  $\\hat{X}_{i} = a'\\,e_{1} + b'\\,e_{2}$.\n",
    "\n",
    "To do that we dispense with $e_{3}$ and $e_{4}$ and use a change of basis\n",
    "matrix $U$ that just has the two leading eigenvectors of the Gram Matrix.\n",
    "Then the change of basis for $e_{1}$  looks like this:\n",
    "\n",
    "$$\n",
    "\\begin{array}[t]{lcl}\n",
    "\\text{U}\\, e_{1} = \\left\\lbrack \\begin{array}{l}e_{1} \\\\e_{2}\\end{array}\\right \\rbrack  e_{1} = \n",
    "    \\left\\lbrack \\begin{array}{l}e_{1} \\cdot e_{1} \\\\\n",
    "                                 e_{2}  \\cdot e{1}\\\\\n",
    "            \\end{array} \\right \\rbrack \n",
    "     = \\left\\lbrack \\begin{array}{l} 1\\\\0\\end{array}\\right \\rbrack\n",
    "\\end{array}\n",
    "$$\n",
    "\n",
    "Now $U$ is a 4x2 matrix whose two rows are $e_{1}$ and $e_{2}$,\n",
    "the two leading eigenvectors of G, and we saw this matrix above:  $U$ is just `axes`.\n",
    "\n",
    "Let's confirm that $U$   gets the approximation we want.  Consider\n",
    "a vector $v$ whose coordinates in the new coordinate system should be $a$\n",
    "and $b$.  What that means is $v = a\\,e_{1} + b\\,e_{2}$, so we want\n",
    "\n",
    "$$\n",
    "U\\, v = \\left\\lbrack \\begin{array}{l}a \\\\b\\end{array}\\right \\rbrack\n",
    "$$\n",
    "\n",
    "Then\n",
    "$$\n",
    "\\begin{array}[t]{lcl}\n",
    "U\\,v & = & U \\,(a\\,e_{1} + b\\, e_{2}) \\\\\n",
    "     & = & U \\,(a\\,e_{1}) + U\\,(b\\, e_{2}) \\\\\n",
    "     & = & a\\, U\\,e_{1} + b\\, U\\,e_{2}\\\\\n",
    "     & = & a\\,\\left\\lbrack \\begin{array}{l}1 \\\\0 \\end{array}\\right \\rbrack +\n",
    "           b\\, \\left\\lbrack \\begin{array}{l}0 \\\\1 \\end{array}\\right \\rbrack\\\\\n",
    "     &= & \\left\\lbrack \\begin{array}{l}a \\\\ b\\end{array}\\right \\rbrack \n",
    "\\end{array},\n",
    "$$\n",
    "\n",
    "which is what we want.\n",
    "\n",
    "What we've just shown is that if M is a matrix whose $n$ rows are the $n$ basis vectors of a basis B, then \n",
    "M can serve as the change-of-basis matrix to change to basis B. And in our dimensionality\n",
    "reduction can we are changing to a basis with two vectors of dimensionality 4, so our  change\n",
    "of basis matrix 2x4.  "
   ]
  },
  {
   "cell_type": "markdown",
   "metadata": {},
   "source": [
    "After that short excursion into Linear Algebra, back to `Xi`.  We just oberved that\n",
    "the transformation matrix we want is `axes`.  Let's confirm that the matrix product of\n",
    "`axes` with one row of our data does the same thing as the scikit_learn implementation\n",
    "of SVD reduction does to that row:"
   ]
  },
  {
   "cell_type": "code",
   "execution_count": 113,
   "metadata": {},
   "outputs": [
    {
     "name": "stdout",
     "output_type": "stream",
     "text": [
      "[4.7 3.2 1.3 0.2] reduces to [5.44697714 2.09520636] Checking X_reduced_svd: [5.44697714 2.09520636] \n"
     ]
    }
   ],
   "source": [
    "from scipy.linalg import norm\n",
    "i = 2\n",
    "Xi = X[i,:]\n",
    "print(f\"{Xi} reduces to {axes@Xi} Checking X_reduced_svd: {X_reduced_svd[i]} \")"
   ]
  },
  {
   "cell_type": "markdown",
   "metadata": {},
   "source": [
    "What we've just done is more conveniently implemented in Scikit Learn as the `.transform()` method.\n",
    "\n",
    "This method requires a 2D data array, so to apply it to the 1D array `Xi`, we convert it to a \n",
    "2D array (a data matrix with one row):"
   ]
  },
  {
   "cell_type": "code",
   "execution_count": 34,
   "metadata": {},
   "outputs": [
    {
     "name": "stdout",
     "output_type": "stream",
     "text": [
      "[[5.44697714 2.09520636]]\n"
     ]
    }
   ],
   "source": [
    "print(reducer_svd.transform(Xi[np.newaxis,:]))"
   ]
  },
  {
   "cell_type": "markdown",
   "metadata": {},
   "source": [
    "Call the reduced iris representation (the 2D representation of 4D data) `Xi_reduced`:\n",
    "\n",
    "```python\n",
    "Xi_reduced = axes@Xi\n",
    "```\n",
    "\n",
    "To  compute an estimate of `Xi` from `Xi_reduced`, we need to **untransform** `Xi_reduced`,\n",
    "take it back to 4 dimensions.  This is what we just did above backward.  Using $U^{-1}$\n",
    "for the matrix that undoes $U$:\n",
    "\n",
    "$$\n",
    "\\begin{array}[t]{lclr}\n",
    "U^{-1}\\,\\left\\lbrack \\begin{array}{l}a \\\\ b\\end{array}\\right \\rbrack &= &\n",
    "U^{-1}\\,(a\\,\\left\\lbrack \\begin{array}{l}1 \\\\0 \\end{array}\\right \\rbrack +\n",
    "           b\\, \\left\\lbrack \\begin{array}{l}0 \\\\1 \\end{array}\\right \\rbrack) &(1) \\\\\n",
    "&=& U^{-1}\\,\\left ( a\\,\\left\\lbrack \\begin{array}{l}1 \\\\0 \\end{array}\\right \\rbrack \\right ) +\n",
    "    U^{-1}\\,\\left ( b\\, \\left\\lbrack \\begin{array}{l}0 \\\\1 \\end{array}\\right \\rbrack \\right ) & (2)\\\\\n",
    "&=& a\\,U^{-1}\\,\\left ( \\left\\lbrack \\begin{array}{l}1 \\\\0 \\end{array}\\right \\rbrack \\right ) +\n",
    "    b\\,U^{-1}\\,\\left ( \\left\\lbrack \\begin{array}{l}0 \\\\1 \\end{array}\\right \\rbrack \\right ) & (3) \\\\\n",
    "&=& a\\, e_{1} +\n",
    "    b\\, e_{2} & (4)\\\\\n",
    "&=& \\left\\lbrack e_{1} \\; e_{2}\\right \\rbrack \\left\\lbrack \\begin{array}{l}a \\\\ b\\end{array}\\right \\rbrack\\\\\n",
    "&=& U^{T}\\left\\lbrack \\begin{array}{l}a \\\\ b\\end{array}\\right \\rbrack & (5)\n",
    "\\end{array}\n",
    "$$\n",
    "\n",
    "where second to last line comes from the\n",
    "column-space view of matrix multiplication:\n",
    "$\\left\\lbrack e_{1}\\; e_{2}\\right \\rbrack$ is the matrix whose **columns** are $e_{1}$\n",
    "and $e_{2}$, which of course is $U$ transposed, or $U^{T}$.\n",
    "So $U^{-1}$ turns out to be $U^{T}$.  Note this is a general result in Linear Algebra.\n",
    "$U$ is what's called an **orthogonal matrix** (it's rows are orthogonal\n",
    "unit vectors) and the inverse of an orthogonal matrix is its transpose.\n",
    "\n",
    "So let's apply this all to `Xi` and `axes`.\n",
    "We can unreduce in two ways. First can we just add the two eigenvectors\n",
    "weighted by the coordinates of `Xi_reduced`. That is, we just perform\n",
    "step (4) of the computation above:\n",
    "\n",
    "```python\n",
    "(6) [from step (4)] Xi_unreduced = axes[0,:]*Xi_reduced[0]  + axes[1,:]* Xi_reduced[1]\n",
    "```\n",
    "Second (and equivalently),  we can perform step (5) of the computation above:\n",
    "\n",
    "```python\n",
    "(7) [from step (5)] Xi_unreduced = axes.T @ X_reduced\n",
    "```"
   ]
  },
  {
   "cell_type": "markdown",
   "metadata": {},
   "source": [
    "Summing up all this math, we go from $X_{i}$ to its reduced form, and back\n",
    "agaijn to its unreduced form, which loses some information:"
   ]
  },
  {
   "cell_type": "code",
   "execution_count": 219,
   "metadata": {},
   "outputs": [
    {
     "data": {
      "text/plain": [
       "(150, 4)"
      ]
     },
     "execution_count": 219,
     "metadata": {},
     "output_type": "execute_result"
    }
   ],
   "source": [
    "X.shape"
   ]
  },
  {
   "cell_type": "code",
   "execution_count": 231,
   "metadata": {
    "scrolled": true
   },
   "outputs": [
    {
     "name": "stdout",
     "output_type": "stream",
     "text": [
      "                                                 Xi=array([5.1, 3.5, 1.4, 0.2])\n",
      "                                         Xi_reduced=array([ 5.9140795 , -2.29861458])\n",
      "Unreducing (3 different ways)\n",
      "\n",
      "1. Xi_reduced[0]* axes[0,:] + Xi_reduced[1]* axes[1,:] = array([5.09651248, 3.50428107, 1.40201454, 0.19973827])\n",
      "2.                                   axes.T@Xi_reduced = array([5.09651248, 3.50428107, 1.40201454, 0.19973827])\n",
      "\n",
      "3. reducer_svd.inverse_transform(X_reduced_svd[i:i+1,:]) = array([[5.0952927 , 3.50597743, 1.40192232, 0.20165319]])\n"
     ]
    }
   ],
   "source": [
    "Xi = X[i,:]                #  The original Xi\n",
    "print(f\"                                                 {Xi=}\")    \n",
    "\n",
    "Xi_reduced = axes@Xi       # The 2D representation of Xi\n",
    "print(f\"                                         {Xi_reduced=}\")             \n",
    "        \n",
    "\n",
    "# Three equivalent ways of unreducing reduced_Xi (the last is the most convenient)\n",
    "print(\"Unreducing (3 different ways)\\n\")\n",
    "\n",
    "print(f\"1. {Xi_reduced[0]* axes[0,:] + Xi_reduced[1]* axes[1,:] = }\")\n",
    "\n",
    "print(f\"2.                                   {axes.T@Xi_reduced = }\",end=\"\\n\\n\") \n",
    "\n",
    "print(f\"3. {reducer_svd.inverse_transform(X_reduced_svd[i:i+1,:]) = }\")"
   ]
  },
  {
   "cell_type": "markdown",
   "metadata": {},
   "source": [
    "Let's call our estimate of `Xi`\n",
    "\n",
    "```\n",
    "array([[5.0952927 , 3.50597743, 1.40192232, 0.20165319]])\n",
    "```\n",
    "\n",
    "`Xi_unreduced`.  "
   ]
  },
  {
   "cell_type": "markdown",
   "metadata": {},
   "source": [
    "We'll look at the information loss for just this one data point:"
   ]
  },
  {
   "cell_type": "code",
   "execution_count": 232,
   "metadata": {},
   "outputs": [
    {
     "name": "stdout",
     "output_type": "stream",
     "text": [
      "[ 0.00348752 -0.00428107 -0.00201454  0.00026173]\n"
     ]
    }
   ],
   "source": [
    "Xi_unreduced = axes.T@Xi_reduced\n",
    "print(Xi - Xi_unreduced)  # All differences are small"
   ]
  },
  {
   "cell_type": "markdown",
   "metadata": {},
   "source": [
    "And what's called the Frobenius Norm gives us a  sum-of-squared-errors-like numerical measure\n",
    "of what's lost:"
   ]
  },
  {
   "cell_type": "code",
   "execution_count": 233,
   "metadata": {},
   "outputs": [
    {
     "name": "stdout",
     "output_type": "stream",
     "text": [
      "0.0058836429765018695\n"
     ]
    }
   ],
   "source": [
    "print(np.linalg.norm((Xi - Xi_unreduced)[np.newaxis,:],ord=\"fro\")) "
   ]
  },
  {
   "cell_type": "markdown",
   "metadata": {},
   "source": [
    "So `Xi_unreduced` is just `Xi` with a little information loss.  There wouldn't be any\n",
    "information loss if we weren't **truncating** the sum in computing truncated SVD representation.\n",
    "That is, `Xi_unreduced` is\n",
    "\n",
    "$$\n",
    "a\\, e_{1} + b\\, e_{2}.\n",
    "$$\n",
    "\n",
    "If we had transformed using all 4 eigenvectors for $X^{T}X$ to give\n",
    "us 4 coordinates $a,\\, b,\\, c,\\, d$, then unreducing `Xi_unreduced` would be exactly equal to `X_i`:\n",
    "\n",
    "$$\n",
    "a\\, e_{1} + b\\, e_{2} + c\\,e_{3} + d\\, e_{4}.\n",
    "$$"
   ]
  },
  {
   "cell_type": "markdown",
   "metadata": {},
   "source": [
    "To get the feel of what the information loss incurred by estimating means, let's try representing iris `Xi`\n",
    "using all 4 eigenvectors.  We won't be \"reducing\" dimensionality; we'll just be representing\n",
    "iris `Xi` with respect to different axes.  So no information loss."
   ]
  },
  {
   "cell_type": "code",
   "execution_count": 236,
   "metadata": {},
   "outputs": [
    {
     "name": "stdout",
     "output_type": "stream",
     "text": [
      "[5.1 3.5 1.4 0.2]\n",
      "[ 5.59244325  2.84325337 -0.04296246 -0.94796781]\n",
      "[5.1 3.5 1.4 0.2]\n"
     ]
    }
   ],
   "source": [
    "print(Xi) \n",
    "# A 4D rep of Xi using all 4 eigenvectors as the axes.\n",
    "new_Xi = eigs@Xi\n",
    "print(new_Xi)\n",
    "print(eigs.T@new_Xi)  # new_Xi untransformed "
   ]
  },
  {
   "cell_type": "markdown",
   "metadata": {},
   "source": [
    "Zero information loss.  Of course the code we just used on 4 eigenvectors of the Gram Matrix of X could\n",
    "also have been done with any 4 orthogonal unit vectors, and also with zero information loss.\n",
    "\n",
    "To demonstrate, we create four random orthogonal unit vectors."
   ]
  },
  {
   "cell_type": "code",
   "execution_count": 237,
   "metadata": {},
   "outputs": [],
   "source": [
    "def gram_schmidt_columns(X):\n",
    "    Q, R = np.linalg.qr(X)\n",
    "    return Q.T\n",
    "\n",
    "def random_orthogonal_unit_vectors(n=4):\n",
    "    n_randos = np.random.randn(n**2).reshape((n,n))\n",
    "    return gram_schmidt_columns(n_randos)\n",
    "\n",
    "normed_ortho_randos = random_orthogonal_unit_vectors()\n",
    "\n",
    "# To check that the columns are unit vectors \n",
    "# print(np.linalg.norm(normed_ortho_randos,axis=1))\n",
    "# To check that the rows are also orthogonal to one another (dot product is 0 or close to it computationally)\n",
    "# normed_ortho_randos[0].dot(normed_ortho_randos[3])\n"
   ]
  },
  {
   "cell_type": "markdown",
   "metadata": {},
   "source": [
    "Representing `Xi` using these random axes, then untransforming, we again have zero information loss."
   ]
  },
  {
   "cell_type": "code",
   "execution_count": 238,
   "metadata": {},
   "outputs": [
    {
     "name": "stdout",
     "output_type": "stream",
     "text": [
      "[5.1 3.5 1.4 0.2]\n",
      "[-5.77697016 -1.24294969 -1.6242534  -1.64423013]\n",
      "[5.1 3.5 1.4 0.2]\n"
     ]
    }
   ],
   "source": [
    "print(Xi)\n",
    "\n",
    "new_Xi = normed_ortho_randos@Xi\n",
    "print(new_Xi)\n",
    "\n",
    "XiU = normed_ortho_randos.T@new_Xi\n",
    "print(XiU)"
   ]
  },
  {
   "cell_type": "markdown",
   "metadata": {},
   "source": [
    "The magic of SVD eigenvectors is thus not that these 4 vectors can represent the data,\n",
    "but that just 2 of them can do so with very little information loss.\n",
    "\n",
    "Compare the informatioon loss \n",
    "using the first 2 of our `normed_ortho_randos` and the information loss with SVD:"
   ]
  },
  {
   "cell_type": "code",
   "execution_count": 241,
   "metadata": {},
   "outputs": [
    {
     "name": "stdout",
     "output_type": "stream",
     "text": [
      "(2, 150)\n",
      "Info loss with random orthogonal unit vectors: 22.63\n",
      "Info loss with Truncated SVD unit vectors:      3.94\n"
     ]
    }
   ],
   "source": [
    "X_reduced_rando = normed_ortho_randos[:2,:]@X.T\n",
    "print(X_reduced_rando.shape)\n",
    "#The inverse of normed_ortho_randos is normed_ortho_randos.T\n",
    "X_rando = normed_ortho_randos[:2,:].T@X_reduced_rando\n",
    "print(f\"Info loss with random orthogonal unit vectors: {np.linalg.norm(X-X_rando.T,ord='fro'):.2f}\")\n",
    "print(f\"Info loss with Truncated SVD unit vectors:     {information_lost(X, X_reduced_svd, reducer_svd): 5.2f}\")"
   ]
  },
  {
   "cell_type": "markdown",
   "metadata": {},
   "source": [
    "Linear Algebra teaches us  (Eckart-Young Theorem) that the Truncated SVD reduction \n",
    "gives the best rank 2 estimate of the original data (the best estimate\n",
    "using a linear combination of 2 linearly independent axes)\n",
    "and we have just seen an example of what that means by\n",
    "seeing that the Truncated SVD axes yield a better estimate than \n",
    "two randomly chosen axes.\n",
    "\n",
    "Summing up the reduced SVD story, we reduce dimensionality, losing information; that means the reduced data yields only   an estimate of the original data. But with Truncated SVD we reduce in such a way that we have the best  rank 2 estimate.\n",
    "\n",
    "The high-level description of how Truncated SVD does this is that it uses\n",
    "the $m$ leading eigenvectors of the Gram Matrix $X^TX$. We're not going\n",
    "to attempt here to explain why these eigenvectors\n",
    "are the best vectors for this task.  The key takeaway is that they provide  *magic* axes (or components):\n",
    "\n",
    "1. `Xi_reduced`, the reduced representation of any data item\n",
    "   `Xi`,  is just its coordinates with respect to the components.\n",
    "2.  For truncated_SVD reduction to $m$ dimensions, the SVD **estimate of item `Xi`** is gotten \n",
    "    by untransforming `Xi_reduced`: that estimate is the best possible rank $m$ estimate of `Xi`."
   ]
  },
  {
   "cell_type": "markdown",
   "metadata": {},
   "source": [
    "#### PCA and Explaining Variance\n",
    "\n",
    "Up until now we've spoken about only one criterion a dimensionality reduction might meet,\n",
    "getting the best estimate of the original data we can in a given number of dimensions.\n",
    "\n",
    "But we'll get a much better feel for why dimensionality reduction models\n",
    "can be useful by turning to the criterion used  by \n",
    "Principle Component Analysis (PCA), **explaining the greatest percentage of the variance\n",
    "in a given number of dimensions**.   To spell this out:\n",
    "\n",
    "1.  The first axis (or component) found is guaranteed to be the axis that captures the maximum\n",
    "    amount of the variance in the data.\n",
    "2.  The next axis will be the axis that captures the maximum amount of the remaining\n",
    "    variance.\n",
    "3.  And so on.\n",
    "\n",
    "The regression notebook features an extended discussion\n",
    "of what explaining variance means, defines percentage of variance explained\n",
    "precisely and more or less identifies it with $R^2$, which we used\n",
    "to measure the quality of our regression\n",
    "models. The relevance of $R^2$ here is that we can use\n",
    "a generalized version of $R^2$ that applies to \n",
    "estimates of multidimensional data\n",
    "to measure how good our reduced dimensionality\n",
    "representations estimates are.\n",
    "\n",
    "We will do the following:\n",
    "\n",
    "1.  Show the scikit learn implementation exposes the amount of variance explained and\n",
    "    the percent of variance explained.\n",
    "2.  Relate that to a variant of $R^2$ that can measure the amount of variance explained\n",
    "    by our estimate (and works on multidimensional data).\n"
   ]
  },
  {
   "cell_type": "markdown",
   "metadata": {},
   "source": [
    "Let's look at the explained variance of the truncated SVD model.  It is computed\n",
    "axis by axis.  "
   ]
  },
  {
   "cell_type": "code",
   "execution_count": 87,
   "metadata": {
    "scrolled": false
   },
   "outputs": [
    {
     "data": {
      "text/plain": [
       "array([2.40184778, 2.03709712])"
      ]
     },
     "execution_count": 87,
     "metadata": {},
     "output_type": "execute_result"
    }
   ],
   "source": [
    "reducer_svd.explained_variance_"
   ]
  },
  {
   "cell_type": "markdown",
   "metadata": {},
   "source": [
    "Versus PCA:"
   ]
  },
  {
   "cell_type": "code",
   "execution_count": 88,
   "metadata": {
    "scrolled": true
   },
   "outputs": [
    {
     "data": {
      "text/plain": [
       "array([4.22824171, 0.24267075])"
      ]
     },
     "execution_count": 88,
     "metadata": {},
     "output_type": "execute_result"
    }
   ],
   "source": [
    "reducer.explained_variance_"
   ]
  },
  {
   "cell_type": "markdown",
   "metadata": {},
   "source": [
    "Notice that for both models, the first axis has the greatest\n",
    "amount of explained variance, but the PCA model packs much more of its variance mass into that \n",
    "first axis. "
   ]
  },
  {
   "cell_type": "markdown",
   "metadata": {},
   "source": [
    "The percentage of explained variance is stored in the `reducer.explained_variance_ratio_` attribute:"
   ]
  },
  {
   "cell_type": "code",
   "execution_count": 14,
   "metadata": {},
   "outputs": [
    {
     "name": "stdout",
     "output_type": "stream",
     "text": [
      "[0.52875361 0.44845576]\n",
      "[0.92461872 0.05306648]\n"
     ]
    }
   ],
   "source": [
    "print(reducer_svd.explained_variance_ratio_)\n",
    "print(reducer.explained_variance_ratio_)"
   ]
  },
  {
   "cell_type": "markdown",
   "metadata": {},
   "source": [
    "More than 92% of the variance explanation is packed into that first axis\n",
    "for PCA."
   ]
  },
  {
   "cell_type": "markdown",
   "metadata": {},
   "source": [
    "So the total percentage of variance explained for our 2D PCA  model is:"
   ]
  },
  {
   "cell_type": "code",
   "execution_count": 54,
   "metadata": {},
   "outputs": [
    {
     "data": {
      "text/plain": [
       "0.977685206318795"
      ]
     },
     "execution_count": 54,
     "metadata": {},
     "output_type": "execute_result"
    }
   ],
   "source": [
    "reducer.explained_variance_ratio_.sum()"
   ]
  },
  {
   "cell_type": "markdown",
   "metadata": {},
   "source": [
    "To relate this to the `R2_score` metric we discussed in the regression notebook, \n",
    "we do the following computation.\n",
    "\n",
    "1.  Measure the R2 score of our estimate by comparing the estimate to the original\n",
    "    data (variable by variable).\n",
    "2.  Take the weighted average of  the 4 R2 scores, where the weights are given\n",
    "    by the variance of each variable."
   ]
  },
  {
   "cell_type": "code",
   "execution_count": 55,
   "metadata": {},
   "outputs": [
    {
     "data": {
      "text/plain": [
       "0.9776852063187949"
      ]
     },
     "execution_count": 55,
     "metadata": {},
     "output_type": "execute_result"
    }
   ],
   "source": [
    "from sklearn.metrics import r2_score\n",
    "X_unreduced = reducer.inverse_transform(X_reduced)\n",
    "# Need to specify how R2 scores of the columns will be combined\n",
    "r2_score(X,X_unreduced,multioutput=\"variance_weighted\")"
   ]
  },
  {
   "cell_type": "markdown",
   "metadata": {},
   "source": [
    "This is in fact what scikit learn gives by summing the explained variance percentages."
   ]
  },
  {
   "cell_type": "markdown",
   "metadata": {},
   "source": [
    "Summing up what we've learned about the PCA model:\n",
    "\n",
    "1. PCA chooses the components that maximize the percent of explained variance.  \n",
    "2. In particular, the first axis or **principle component** is guaranteed to be the axis captures the maximal amount of variance  that a single axis can capture.\n",
    "\n",
    "We'll try to draw picture of what this means below, by looking at a geometric interpretation\n",
    "of PCA."
   ]
  },
  {
   "cell_type": "markdown",
   "metadata": {},
   "source": [
    "Addendum: The percentage of variance explained is the variance explained divided by\n",
    "the total variance.  We demonstrate this  for the PCA model, which uses centered data:"
   ]
  },
  {
   "cell_type": "code",
   "execution_count": 22,
   "metadata": {},
   "outputs": [
    {
     "data": {
      "text/plain": [
       "4.572957046979868"
      ]
     },
     "execution_count": 22,
     "metadata": {},
     "output_type": "execute_result"
    }
   ],
   "source": [
    "def pca_variance(X):\n",
    "    centered = (X-X.mean(axis=0))\n",
    "    # Total variance is the sum of the variances of the four centered columns, using N-1 to compute variance\n",
    "    return centered.var(ddof=1,axis=0).sum()\n",
    "\n",
    "total_variance = pca_variance(X)\n",
    "total_variance"
   ]
  },
  {
   "cell_type": "markdown",
   "metadata": {},
   "source": [
    "So the total variance of our iris data, taking all 4 variables into account is approximately\n",
    "4.57.\n",
    "\n",
    "To get the percent of variance explained for each variable, we divide the variance vector\n",
    "by the total variance:"
   ]
  },
  {
   "cell_type": "code",
   "execution_count": 265,
   "metadata": {},
   "outputs": [
    {
     "data": {
      "text/plain": [
       "4.572957046979868"
      ]
     },
     "execution_count": 265,
     "metadata": {},
     "output_type": "execute_result"
    }
   ],
   "source": [
    "centered = (X-X.mean(axis=0))\n",
    "centered.var(ddof=1,axis=0).sum()"
   ]
  },
  {
   "cell_type": "code",
   "execution_count": 90,
   "metadata": {
    "scrolled": true
   },
   "outputs": [
    {
     "name": "stdout",
     "output_type": "stream",
     "text": [
      "[0.92461872 0.05306648]\n"
     ]
    }
   ],
   "source": [
    "print(reducer.explained_variance_/total_variance)"
   ]
  },
  {
   "cell_type": "markdown",
   "metadata": {},
   "source": [
    "Confirming this is what scikit learn did:"
   ]
  },
  {
   "cell_type": "code",
   "execution_count": 89,
   "metadata": {
    "scrolled": true
   },
   "outputs": [
    {
     "name": "stdout",
     "output_type": "stream",
     "text": [
      "[0.92461872 0.05306648]\n"
     ]
    }
   ],
   "source": [
    "print(reducer.explained_variance_ratio_)"
   ]
  },
  {
   "cell_type": "code",
   "execution_count": 269,
   "metadata": {},
   "outputs": [
    {
     "data": {
      "text/plain": [
       "array([4.22824171, 0.24267075])"
      ]
     },
     "execution_count": 269,
     "metadata": {},
     "output_type": "execute_result"
    }
   ],
   "source": [
    "reducer.explained_variance_"
   ]
  },
  {
   "cell_type": "markdown",
   "metadata": {},
   "source": [
    "And these numbers are just the variance along the two reduced axes:"
   ]
  },
  {
   "cell_type": "code",
   "execution_count": 293,
   "metadata": {},
   "outputs": [
    {
     "data": {
      "text/plain": [
       "(4.228241706034866, 0.2426707479286337)"
      ]
     },
     "execution_count": 293,
     "metadata": {},
     "output_type": "execute_result"
    }
   ],
   "source": [
    "X_reduced[:,0].var(ddof=1),X_reduced[:,1].var(ddof=1)"
   ]
  },
  {
   "cell_type": "markdown",
   "metadata": {},
   "source": [
    "And now this additional fact.  The principal components  in PCA\n",
    "are computed as the eigenvectors of the covariance matrix;\n",
    "their eigenvalues are the variance of the data along\n",
    "the two new axes:"
   ]
  },
  {
   "cell_type": "code",
   "execution_count": 320,
   "metadata": {},
   "outputs": [
    {
     "data": {
      "text/plain": [
       "array([4.22824171+0.j, 0.24267075+0.j])"
      ]
     },
     "execution_count": 320,
     "metadata": {},
     "output_type": "execute_result"
    }
   ],
   "source": [
    "Xcentered = (X-X.mean(axis=0))\n",
    "(M,N) = Xcentered.shape\n",
    "GM = Xcentered.T@Xcentered\n",
    "# The is the official covariance matrix of the data\n",
    "Cov = (1/(M-1))*GM\n",
    "(evals,evecs) =scipy.linalg.eig(Cov)\n",
    "#The first two evals are the explained variances in PCA(ncomponents=2);\n",
    "# datatype complex, but they're real numbers\n",
    "evals[:2]"
   ]
  },
  {
   "cell_type": "code",
   "execution_count": 338,
   "metadata": {},
   "outputs": [
    {
     "name": "stdout",
     "output_type": "stream",
     "text": [
      "(2, 4)\n"
     ]
    },
    {
     "data": {
      "text/plain": [
       "array([[-2.68412563, -0.31939725],\n",
       "       [-2.71414169,  0.17700123],\n",
       "       [-2.88899057,  0.14494943],\n",
       "       [-2.74534286,  0.31829898],\n",
       "       [-2.72871654, -0.32675451],\n",
       "       [-2.28085963, -0.74133045],\n",
       "       [-2.82053775,  0.08946138],\n",
       "       [-2.62614497, -0.16338496],\n",
       "       [-2.88638273,  0.57831175],\n",
       "       [-2.6727558 ,  0.11377425],\n",
       "       [-2.50694709, -0.6450689 ],\n",
       "       [-2.61275523, -0.01472994],\n",
       "       [-2.78610927,  0.235112  ],\n",
       "       [-3.22380374,  0.51139459],\n",
       "       [-2.64475039, -1.17876464],\n",
       "       [-2.38603903, -1.33806233],\n",
       "       [-2.62352788, -0.81067951],\n",
       "       [-2.64829671, -0.31184914],\n",
       "       [-2.19982032, -0.87283904],\n",
       "       [-2.5879864 , -0.51356031],\n",
       "       [-2.31025622, -0.39134594],\n",
       "       [-2.54370523, -0.43299606],\n",
       "       [-3.21593942, -0.13346807],\n",
       "       [-2.30273318, -0.09870885],\n",
       "       [-2.35575405,  0.03728186],\n",
       "       [-2.50666891,  0.14601688],\n",
       "       [-2.46882007, -0.13095149],\n",
       "       [-2.56231991, -0.36771886],\n",
       "       [-2.63953472, -0.31203998],\n",
       "       [-2.63198939,  0.19696122],\n",
       "       [-2.58739848,  0.20431849],\n",
       "       [-2.4099325 , -0.41092426],\n",
       "       [-2.64886233, -0.81336382],\n",
       "       [-2.59873675, -1.09314576],\n",
       "       [-2.63692688,  0.12132235],\n",
       "       [-2.86624165, -0.06936447],\n",
       "       [-2.62523805, -0.59937002],\n",
       "       [-2.80068412, -0.26864374],\n",
       "       [-2.98050204,  0.48795834],\n",
       "       [-2.59000631, -0.22904384],\n",
       "       [-2.77010243, -0.26352753],\n",
       "       [-2.84936871,  0.94096057],\n",
       "       [-2.99740655,  0.34192606],\n",
       "       [-2.40561449, -0.18887143],\n",
       "       [-2.20948924, -0.43666314],\n",
       "       [-2.71445143,  0.2502082 ],\n",
       "       [-2.53814826, -0.50377114],\n",
       "       [-2.83946217,  0.22794557],\n",
       "       [-2.54308575, -0.57941002],\n",
       "       [-2.70335978, -0.10770608],\n",
       "       [ 1.28482569, -0.68516047],\n",
       "       [ 0.93248853, -0.31833364],\n",
       "       [ 1.46430232, -0.50426282],\n",
       "       [ 0.18331772,  0.82795901],\n",
       "       [ 1.08810326, -0.07459068],\n",
       "       [ 0.64166908,  0.41824687],\n",
       "       [ 1.09506066, -0.28346827],\n",
       "       [-0.74912267,  1.00489096],\n",
       "       [ 1.04413183, -0.2283619 ],\n",
       "       [-0.0087454 ,  0.72308191],\n",
       "       [-0.50784088,  1.26597119],\n",
       "       [ 0.51169856,  0.10398124],\n",
       "       [ 0.26497651,  0.55003646],\n",
       "       [ 0.98493451,  0.12481785],\n",
       "       [-0.17392537,  0.25485421],\n",
       "       [ 0.92786078, -0.46717949],\n",
       "       [ 0.66028376,  0.35296967],\n",
       "       [ 0.23610499,  0.33361077],\n",
       "       [ 0.94473373,  0.54314555],\n",
       "       [ 0.04522698,  0.58383438],\n",
       "       [ 1.11628318,  0.08461685],\n",
       "       [ 0.35788842,  0.06892503],\n",
       "       [ 1.29818388,  0.32778731],\n",
       "       [ 0.92172892,  0.18273779],\n",
       "       [ 0.71485333, -0.14905594],\n",
       "       [ 0.90017437, -0.32850447],\n",
       "       [ 1.33202444, -0.24444088],\n",
       "       [ 1.55780216, -0.26749545],\n",
       "       [ 0.81329065,  0.1633503 ],\n",
       "       [-0.30558378,  0.36826219],\n",
       "       [-0.06812649,  0.70517213],\n",
       "       [-0.18962247,  0.68028676],\n",
       "       [ 0.13642871,  0.31403244],\n",
       "       [ 1.38002644,  0.42095429],\n",
       "       [ 0.58800644,  0.48428742],\n",
       "       [ 0.80685831, -0.19418231],\n",
       "       [ 1.22069088, -0.40761959],\n",
       "       [ 0.81509524,  0.37203706],\n",
       "       [ 0.24595768,  0.2685244 ],\n",
       "       [ 0.16641322,  0.68192672],\n",
       "       [ 0.46480029,  0.67071154],\n",
       "       [ 0.8908152 ,  0.03446444],\n",
       "       [ 0.23054802,  0.40438585],\n",
       "       [-0.70453176,  1.01224823],\n",
       "       [ 0.35698149,  0.50491009],\n",
       "       [ 0.33193448,  0.21265468],\n",
       "       [ 0.37621565,  0.29321893],\n",
       "       [ 0.64257601, -0.01773819],\n",
       "       [-0.90646986,  0.75609337],\n",
       "       [ 0.29900084,  0.34889781],\n",
       "       [ 2.53119273,  0.00984911],\n",
       "       [ 1.41523588,  0.57491635],\n",
       "       [ 2.61667602, -0.34390315],\n",
       "       [ 1.97153105,  0.1797279 ],\n",
       "       [ 2.35000592,  0.04026095],\n",
       "       [ 3.39703874, -0.55083667],\n",
       "       [ 0.52123224,  1.19275873],\n",
       "       [ 2.93258707, -0.3555    ],\n",
       "       [ 2.32122882,  0.2438315 ],\n",
       "       [ 2.91675097, -0.78279195],\n",
       "       [ 1.66177415, -0.24222841],\n",
       "       [ 1.80340195,  0.21563762],\n",
       "       [ 2.1655918 , -0.21627559],\n",
       "       [ 1.34616358,  0.77681835],\n",
       "       [ 1.58592822,  0.53964071],\n",
       "       [ 1.90445637, -0.11925069],\n",
       "       [ 1.94968906, -0.04194326],\n",
       "       [ 3.48705536, -1.17573933],\n",
       "       [ 3.79564542, -0.25732297],\n",
       "       [ 1.30079171,  0.76114964],\n",
       "       [ 2.42781791, -0.37819601],\n",
       "       [ 1.19900111,  0.60609153],\n",
       "       [ 3.49992004, -0.4606741 ],\n",
       "       [ 1.38876613,  0.20439933],\n",
       "       [ 2.2754305 , -0.33499061],\n",
       "       [ 2.61409047, -0.56090136],\n",
       "       [ 1.25850816,  0.17970479],\n",
       "       [ 1.29113206,  0.11666865],\n",
       "       [ 2.12360872,  0.20972948],\n",
       "       [ 2.38800302, -0.4646398 ],\n",
       "       [ 2.84167278, -0.37526917],\n",
       "       [ 3.23067366, -1.37416509],\n",
       "       [ 2.15943764,  0.21727758],\n",
       "       [ 1.44416124,  0.14341341],\n",
       "       [ 1.78129481,  0.49990168],\n",
       "       [ 3.07649993, -0.68808568],\n",
       "       [ 2.14424331, -0.1400642 ],\n",
       "       [ 1.90509815, -0.04930053],\n",
       "       [ 1.16932634,  0.16499026],\n",
       "       [ 2.10761114, -0.37228787],\n",
       "       [ 2.31415471, -0.18365128],\n",
       "       [ 1.9222678 , -0.40920347],\n",
       "       [ 1.41523588,  0.57491635],\n",
       "       [ 2.56301338, -0.2778626 ],\n",
       "       [ 2.41874618, -0.3047982 ],\n",
       "       [ 1.94410979, -0.1875323 ],\n",
       "       [ 1.52716661,  0.37531698],\n",
       "       [ 1.76434572, -0.07885885],\n",
       "       [ 1.90094161, -0.11662796],\n",
       "       [ 1.39018886,  0.28266094]])"
      ]
     },
     "execution_count": 338,
     "metadata": {},
     "output_type": "execute_result"
    }
   ],
   "source": [
    "reducer_22 = (evecs[:,:2]).T\n",
    "(reducer_22@Xcentered.T).T"
   ]
  },
  {
   "cell_type": "markdown",
   "metadata": {},
   "source": [
    "#### Geometric interpretation of explaining variance\n",
    "\n",
    "So we've established that PCA is the optimal choice for explaining variance,\n",
    "though we haven't said anything about how.\n",
    "\n",
    "To draw a picture conveying the main idea of PCA. We cook up a straight line `Data` \n",
    "and blur it with a bit of noise (consistent with the way the term noise is often used,\n",
    "this noise, like say, measuring errors, is normally distributed). The noisy line points are collected into a 2D array called `Data2`:"
   ]
  },
  {
   "cell_type": "code",
   "execution_count": 115,
   "metadata": {},
   "outputs": [],
   "source": [
    "import numpy as np\n",
    "\n",
    "def line_with_noise (slope=3,intercept=4,bd=.8,step=.01,std=1):\n",
    "    \"\"\"\n",
    "    The noise is normally distributed. \n",
    "    \n",
    "    For more predictable results, ratio of `bd` to `step` shd be an integer, so\n",
    "    not for example `bd=.8`, `step=.013`.\n",
    "    \"\"\"\n",
    "    newX = np.arange(0,bd,step)\n",
    "    newY = (slope*newX + intercept)\n",
    "    Data = np.concatenate([newX[:,np.newaxis],newY[:,np.newaxis]],axis=1)\n",
    "\n",
    "    #randn(N) gives N normally distributed \"random\" pts with mean 0 and var 1\n",
    "    #randos shd have same shape as newY\n",
    "    N = int(bd/step)\n",
    "    randos = np.random.randn(N)\n",
    "    #print(N, newY.shape)\n",
    "    newY2 = newY + std * randos\n",
    "    Data2 = np.concatenate([newX[:,np.newaxis],newY2[:,np.newaxis]],axis=1)\n",
    "    return Data, Data2\n",
    "\n",
    "slope,bd = 3,.8\n",
    "## Return the points on the line (Data) and collection of noisy points  around teh line (Data2)\n",
    "Data, Data2 = line_with_noise (slope=3,intercept=1,bd=bd,std=.2) "
   ]
  },
  {
   "cell_type": "markdown",
   "metadata": {},
   "source": [
    "We now do a PCA dimensionality reduction to find the **one** component best\n",
    "capturing the variance of the noisy points in `Data2`:"
   ]
  },
  {
   "cell_type": "code",
   "execution_count": 116,
   "metadata": {},
   "outputs": [],
   "source": [
    "#reducer_svd = dec.TruncatedSVD(n_components=1)\n",
    "from sklearn import decomposition as dec\n",
    "\n",
    "def PCA_reduced(Data,n_components=2):\n",
    "    reducer= dec.PCA(n_components=n_components)\n",
    "    return reducer.fit_transform(Data),reducer\n",
    "\n",
    "(Data_reduced,reducer) = PCA_reduced(Data2, n_components=1)"
   ]
  },
  {
   "cell_type": "markdown",
   "metadata": {},
   "source": [
    "We draw the noisy points in blue and the single component \n",
    "of the PCA reduction in red.  We add the original line\n",
    "as a dotted green line.  The single PCA component is almost exactly\n",
    "parallel to the original line:"
   ]
  },
  {
   "cell_type": "code",
   "execution_count": 117,
   "metadata": {},
   "outputs": [
    {
     "data": {
      "text/plain": [
       "<matplotlib.legend.Legend at 0x7faf4915b0d0>"
      ]
     },
     "execution_count": 117,
     "metadata": {},
     "output_type": "execute_result"
    },
    {
     "data": {
      "image/png": "[encoded data removed]",
      "text/plain": [
       "<Figure size 600x400 with 1 Axes>"
      ]
     },
     "metadata": {},
     "output_type": "display_data"
    }
   ],
   "source": [
    "from sklearn import linear_model\n",
    "\n",
    "fig, ax = plt.subplots(1, 1, figsize=(6, 4))\n",
    "# scaling\n",
    "#Data,Data2 = 40*Data, 40*Data2\n",
    "ax.scatter(Data2[:, 0], Data2[:, 1], s=10, c=\"cyan\",label=\"Data+Noise\")\n",
    "#comp_vec = reducer.components_.T[:,0]\n",
    "#scaler = -2.8\n",
    "comp_vec = reducer.components_[0]\n",
    "# Get the PCA axis and the data xrange to be the same\n",
    "scaler = bd/comp_vec[0]\n",
    "comp_vec = scaler * comp_vec\n",
    "\n",
    "xhat,yhat = comp_vec[0], comp_vec[1]\n",
    "ax.plot(np.array([0,xhat]),np.array([0,yhat]),c=\"r\",label=\"PCA comp.\")\n",
    "ax.plot(Data[:,0],Data[:,1],c=\"green\",linestyle=\"dotted\",label=\"Data\")\n",
    "ax.set_title(\"1-Dimensional PCA Component\")\n",
    "ax.legend()\n",
    "#To see what linear regression does, uncomment\n",
    "#lin1 = linear_model.LinearRegression()\n",
    "#lin1.fit(Data2[:, 0:1], Data2[:, 1:2])\n",
    "#t0full, t1full = lin1.intercept_, lin1.coef_[0]\n",
    "# Plot the regression line (almost completely coincides with the original green line; look at line style)\n",
    "#X = np.arange(0,8,.1)\n",
    "#plt.plot(X, t0full + t1full * X, \"slategray\",linestyle=\"dashed\",alpha=.6,label=\"Regr\")\n"
   ]
  },
  {
   "cell_type": "markdown",
   "metadata": {},
   "source": [
    "Demonstrating the near parallelism of the first PCA component with the original line (with slope 3)."
   ]
  },
  {
   "cell_type": "code",
   "execution_count": 19,
   "metadata": {
    "scrolled": true
   },
   "outputs": [
    {
     "data": {
      "text/plain": [
       "3.181328188986849"
      ]
     },
     "execution_count": 19,
     "metadata": {},
     "output_type": "execute_result"
    }
   ],
   "source": [
    "comp_vec = reducer.components_[0]\n",
    "prin_comp_slope = comp_vec[1]/comp_vec[0]\n",
    "prin_comp_slope"
   ]
  },
  {
   "cell_type": "markdown",
   "metadata": {},
   "source": [
    "Comparing the slope of the principle component with the slope we chose for our generating Data (green points\n",
    "in the picture)."
   ]
  },
  {
   "cell_type": "code",
   "execution_count": 20,
   "metadata": {},
   "outputs": [
    {
     "data": {
      "text/plain": [
       "(3, 3.181328188986849)"
      ]
     },
     "execution_count": 20,
     "metadata": {},
     "output_type": "execute_result"
    }
   ],
   "source": [
    "slope, prin_comp_slope"
   ]
  },
  {
   "cell_type": "markdown",
   "metadata": {},
   "source": [
    "The PCA axis is not exactly parallel to the original line because the noise has made\n",
    "the axis only an approximation of the direction of the original line."
   ]
  },
  {
   "cell_type": "markdown",
   "metadata": {},
   "source": [
    "Why does the PCA axis point in the same direction as the original line (`Data`)?\n",
    "\n",
    "The defining feature of the first axis PCA is that it finds the axis that best explains the variance.\n",
    "Since\n",
    "\n",
    "$$\n",
    "\\begin{array}[t]{lcl}\n",
    "\\text{Explained variance} & = & \\text{TotalVariance} - \\text{Unexplained (Residual) Variance}\\\\\n",
    "                          & = & \\text{Variance}(\\text{Data2}) - \\text{Variance}(\\text{Data2 - Data2_unreduced})\\\\\n",
    "\\end{array}\n",
    "$$\n",
    "\n",
    "the axis that maximizes the amount of Explained Variance has\n",
    "to minimize the Residual Variance, the variance\n",
    "of the difference between `Data2` and `Data2_unreduced` .\n",
    "Because we constructed `Data2` so that all the variation is centered on\n",
    "`Data`, the axis that  minimizes the error variance has to point\n",
    "in approximately the same direction as `Data`."
   ]
  },
  {
   "cell_type": "markdown",
   "metadata": {},
   "source": [
    "If we had done a linear regression, the regression line would\n",
    "have coincided or nearly coincided with `Data` (the original line).\n",
    "(You can uncomment some code in the cell with the plotting code to see this).\n",
    "\n",
    "**Question 1 (Recommended you try and answer this):**  Why is the PCA component only parallel with the original line?  Why doesn't\n",
    "it coincide with it?  This is a good question to think about\n",
    "to make sure you understand PCA.  Answer below."
   ]
  },
  {
   "cell_type": "code",
   "execution_count": null,
   "metadata": {},
   "outputs": [],
   "source": []
  },
  {
   "cell_type": "code",
   "execution_count": null,
   "metadata": {},
   "outputs": [],
   "source": []
  },
  {
   "cell_type": "code",
   "execution_count": null,
   "metadata": {},
   "outputs": [],
   "source": []
  },
  {
   "cell_type": "code",
   "execution_count": null,
   "metadata": {},
   "outputs": [],
   "source": []
  },
  {
   "cell_type": "code",
   "execution_count": null,
   "metadata": {},
   "outputs": [],
   "source": []
  },
  {
   "cell_type": "code",
   "execution_count": null,
   "metadata": {},
   "outputs": [],
   "source": []
  },
  {
   "cell_type": "code",
   "execution_count": null,
   "metadata": {},
   "outputs": [],
   "source": []
  },
  {
   "cell_type": "code",
   "execution_count": null,
   "metadata": {},
   "outputs": [],
   "source": []
  },
  {
   "cell_type": "code",
   "execution_count": null,
   "metadata": {},
   "outputs": [],
   "source": []
  },
  {
   "cell_type": "code",
   "execution_count": null,
   "metadata": {},
   "outputs": [],
   "source": []
  },
  {
   "cell_type": "code",
   "execution_count": null,
   "metadata": {},
   "outputs": [],
   "source": []
  },
  {
   "cell_type": "markdown",
   "metadata": {},
   "source": [
    "The job of linear regression is to predict the actual value of the regression variable ($y$ in this case).\n",
    "To minimize the error of its predictions, linear regression has to reconstruct the original line around which the noise is centered, which means finding the slope and the intercept. The job of PCA is to find the **axis** that best  accounts for the variance, and therefore any line parallel to the original line, the line around which all the variation\n",
    "is centered, will do.  By definition a PCA axis has to pass through the origin (it's a vector in $R^n$, $n=2$ in our case). \n",
    "\n",
    "PCA components are therefore axes directions, not lines; conceptually PCA represents slopes, not intercepts.\n",
    "The same could be said of truncated SVD components or, indeed, any eigenvectors. (The mathematical idea is a 1D eigenspace; in a 1D eigenspace, all the eigenvectors point in the same direction,i.e., lie on the same line going through the origin)."
   ]
  },
  {
   "cell_type": "markdown",
   "metadata": {},
   "source": [
    "So how does PCA relate to truncated SVD, which we've\n",
    "been talking about until now? PCA is just truncated SVD done on centered data,\n",
    "so the ideas are the same (the inverse transform is just slightly more complicated).\n",
    "Centering the data means subtracting the mean for every variable from\n",
    "the variable values (subtracting the column means from the columns).\n",
    "When we center the data we lose the actual values of the means (and all\n",
    "hopes of finding meaningful intercepts for any lines we compute),\n",
    "but that's okay if our job is to find directions (or slopes).\n",
    "Moreover, when we compute our eigenvectors, we'll be computing\n",
    "the eigenvectors for the **covariance matrix**, \n",
    "and it is because we're  combining the special properties\n",
    "of eigenvectors with the special properties\n",
    "of the covariance matrix that the eigenvectors turn\n",
    "out to be the axes that best account for variance.\n",
    "\n",
    "To show that PCA is equivalent to centering + Truncated SVD, we do:"
   ]
  },
  {
   "cell_type": "code",
   "execution_count": 97,
   "metadata": {},
   "outputs": [],
   "source": [
    "means = X.mean(axis=0)\n",
    "X_centered = (X - means)\n",
    "reducer_svd = dec.TruncatedSVD(n_components=2)\n",
    "X_centered_svd_reduced = reducer_svd.fit_transform(X_centered)"
   ]
  },
  {
   "cell_type": "markdown",
   "metadata": {},
   "source": [
    "`X_centered_svd_reduced` is not quite identical to `X_reduced` (the output of PCA) because\n",
    "of small numerical computing differences, but it is virtually 0, close enough to be called\n",
    "equal using the default numpy tolerances in `np.allclose`,  but  not quite close\n",
    "enough to be called `array_equal`."
   ]
  },
  {
   "cell_type": "code",
   "execution_count": 98,
   "metadata": {},
   "outputs": [
    {
     "name": "stdout",
     "output_type": "stream",
     "text": [
      "True\n",
      "False\n"
     ]
    }
   ],
   "source": [
    "# array1 == array2 gives an array of Booleans\n",
    "# To check array equality use np.array_equal() or np.allclose()\n",
    "print(np.allclose(X_reduced,X_centered_svd_reduced))\n",
    "print(np.array_equal(X_reduced,X_centered_svd_reduced))"
   ]
  },
  {
   "cell_type": "markdown",
   "metadata": {},
   "source": [
    "Additional note:  This is also identical to what we could have computed above\n",
    "with the eigenvectors of the Covariance matrix (`evecs` from`eig(Cov)`).\n",
    "We take the first two of those eigenvectors and:"
   ]
  },
  {
   "cell_type": "code",
   "execution_count": 347,
   "metadata": {},
   "outputs": [],
   "source": [
    "cov_reducer = (evecs[:,:2]).T\n",
    "cov_eig_reduced = (cov_reducer@Xcentered.T).T\n",
    "# As explained below, two different PCA runs can find\n",
    "# the same axis pointing in opposite direction,\n",
    "# resulting in a sign difference of in rediced data component.\n",
    "cov_eig_reduced[:,1] *= -1"
   ]
  },
  {
   "cell_type": "code",
   "execution_count": 350,
   "metadata": {},
   "outputs": [
    {
     "data": {
      "text/plain": [
       "True"
      ]
     },
     "execution_count": 350,
     "metadata": {},
     "output_type": "execute_result"
    }
   ],
   "source": [
    "np.allclose(cov_eig_reduced,X_reduced)"
   ]
  },
  {
   "cell_type": "markdown",
   "metadata": {},
   "source": [
    "#### PCA as rotation"
   ]
  },
  {
   "cell_type": "markdown",
   "metadata": {},
   "source": [
    "Same data as before but we will do a 2D PCA representation and draw both axes\n",
    "to illustrate how PCA can be understood as a rotation of the data.\n",
    "\n",
    "We briefly discuss how  the the `components` matrix can be interpreted\n",
    "as a rotation.\n",
    "\n",
    "Suppose the first eigenvector (the principal component) has coordinate $a$ and $b$:\n",
    "Since it is a unit eigenvector, we can draw following picture:"
   ]
  },
  {
   "cell_type": "code",
   "execution_count": 118,
   "metadata": {},
   "outputs": [
    {
     "data": {
      "text/plain": [
       "Text(0.83, 0.2, 'b')"
      ]
     },
     "execution_count": 118,
     "metadata": {},
     "output_type": "execute_result"
    },
    {
     "data": {
      "image/png": "[encoded data removed]",
      "text/plain": [
       "<Figure size 600x400 with 1 Axes>"
      ]
     },
     "metadata": {},
     "output_type": "display_data"
    }
   ],
   "source": [
    "fig, ax = plt.subplots(1, 1, figsize=(6, 4))\n",
    "# scaling\n",
    "a,b = (0.8660254037844387, 0.49999999999999994)\n",
    "\n",
    "ax.plot(np.array([0,a]),np.array([0,0]),c=\"r\",label=r\"cos $\\theta$\")\n",
    "ax.plot(np.array([a,a]),np.array([0,b]),c=\"b\",label=r\"sin $\\theta$\")\n",
    "ax.plot(np.array([0,a]),np.array([0,b]),c=\"g\",label=\"1\")\n",
    "ax.text(.4,.26,\"1\", rotation=30)\n",
    "ax.text(.45,.02, r\"a\", rotation=0)\n",
    "ax.text(.83,.2,r\"b\", rotation=0)\n",
    "#plt.legend()"
   ]
  },
  {
   "cell_type": "markdown",
   "metadata": {},
   "source": [
    "Here the eigenvector is in green vector and its two components are in red and blue.\n",
    "If we call the angle the eigenvector makes with the x-axis $\\theta$, then we can label as follows:"
   ]
  },
  {
   "cell_type": "code",
   "execution_count": 68,
   "metadata": {},
   "outputs": [
    {
     "data": {
      "text/plain": [
       "Text(0.055, 0.01, '$\\\\theta$')"
      ]
     },
     "execution_count": 68,
     "metadata": {},
     "output_type": "execute_result"
    },
    {
     "data": {
      "image/png": "[encoded data removed]",
      "text/plain": [
       "<Figure size 600x400 with 1 Axes>"
      ]
     },
     "metadata": {},
     "output_type": "display_data"
    }
   ],
   "source": [
    "fig, ax = plt.subplots(1, 1, figsize=(6, 4))\n",
    "ax.plot(np.array([0,a]),np.array([0,0]),c=\"r\",label=r\"cos $\\theta$\")\n",
    "ax.plot(np.array([a,a]),np.array([0,b]),c=\"b\",label=r\"sin $\\theta$\")\n",
    "ax.plot(np.array([0,a]),np.array([0,b]),c=\"g\",label=\"1\")\n",
    "ax.text(.4,.26,\"1\", rotation=30)\n",
    "ax.text(.45,.02, r\"cos $\\theta$\", rotation=0)\n",
    "ax.text(.78,.2,r\"sin $\\theta$\", rotation=0)\n",
    "ax.text(.055, .01, r\"$\\theta$\")"
   ]
  },
  {
   "cell_type": "markdown",
   "metadata": {},
   "source": [
    "That is, we are rewriting\n",
    "\n",
    "$$\n",
    "\\left \\lbrack \\begin{array}{l}\n",
    "a \\\\\n",
    "b\n",
    "\\end{array}\n",
    "\\right\\rbrack,\n",
    "$$\n",
    "\n",
    "as\n",
    "\n",
    "$$\n",
    "\\left \\lbrack \\begin{array}{l}\n",
    "\\cos \\theta \\\\\n",
    "\\sin \\theta\n",
    "\\end{array}\n",
    "\\right\\rbrack,\n",
    "$$\n",
    "\n",
    "where $\\theta$ is the angle of the vector with the x-axis. \n",
    "This is called the **polar representation** of the vector.\n",
    "\n",
    "Now we have two such eigenvectors and they are orthogonal, so if\n",
    "one is \n",
    "\n",
    "$$\n",
    "\\left \\lbrack \\begin{array}{l}\n",
    "\\cos \\theta \\\\\n",
    "\\sin \\theta\n",
    "\\end{array}\n",
    "\\right\\rbrack,\n",
    "$$\n",
    "\n",
    "then the other is either\n",
    "\n",
    "$$\n",
    "\\begin{array}{lcr}\n",
    "\\left \\lbrack \\begin{array}{l}\n",
    "\\sin \\theta\\\\\n",
    "-\\cos \\theta\n",
    "\\end{array}\n",
    "\\right\\rbrack & \n",
    "\\text{ or } &\n",
    "\\left \\lbrack \\begin{array}{l}\n",
    "- \\sin \\theta\\\\\n",
    "\\cos \\theta\n",
    "\\end{array}\n",
    "\\right\\rbrack  \n",
    "\\end{array}.\n",
    "$$\n",
    "\n",
    "So, returning to our principle components  matrix,  `components`,\n",
    "there are two forms it can take:\n",
    "\n",
    "$$\n",
    "\\begin{array}[t]{cc}\n",
    "\\text{Rotation} & \\text{Reflection}\\\\\n",
    "\\left\\lbrack\n",
    "\\begin{array}{ll}\n",
    "\\cos \\theta & -\\sin \\theta \\\\\n",
    "\\sin \\theta & \\cos \\theta\n",
    "\\end{array}\n",
    "\\right\\rbrack &\n",
    "\\left\\lbrack\n",
    "\\begin{array}{ll}\n",
    "\\cos \\theta & \\sin \\theta \\\\\n",
    "\\sin \\theta & -\\cos \\theta\n",
    "\\end{array}\n",
    "\\right\\rbrack\n",
    "\\end{array}\n",
    "$$\n",
    "\n",
    "These happen to  be rotation and reflection transformations, respectively.  To illustrate\n",
    "with rotation, if we take an arbitrary data \n",
    "point X and rewrite it in polar form\n",
    "\n",
    "$$\n",
    "X = |X| \\left \\lbrack \\begin{array}{l}\n",
    "\\cos \\phi \\\\\n",
    "\\sin \\phi\n",
    "\\end{array}\n",
    "\\right\\rbrack,\n",
    "$$\n",
    "\n",
    "then it's easy to show that \n",
    "\n",
    "$$\n",
    "\\left\\lbrack\n",
    "\\begin{array}{ll}\n",
    "\\cos \\theta & -\\sin \\theta \\\\\n",
    "\\sin \\theta & \\cos \\theta\n",
    "\\end{array}\n",
    "\\right\\rbrack  |X| \\left \\lbrack \\begin{array}{l}\n",
    "\\cos \\phi \\\\\n",
    "\\sin \\phi\n",
    "\\end{array}\n",
    "\\right\\rbrack\n",
    "=\n",
    "|X| \\left \\lbrack \\begin{array}{l}\n",
    "\\cos (\\theta + \\phi) \\\\\n",
    "\\sin (\\theta + \\phi)\n",
    "\\end{array}\n",
    "\\right\\rbrack\n",
    "$$\n",
    "\n",
    "That is, we transform X, which has angle $\\phi$ with the x-axis, to a another vector\n",
    "which has the same length as X but has angle $\\theta + \\phi$; this is called\n",
    "rotating X by the angle $\\theta$.  The reflection version of the components\n",
    "matrix  will reflect points around a line with angle $\\theta/2$.  Thus it will\n",
    "do the same thing to points on the X-axis, and something quite\n",
    "different to points elsewhere."
   ]
  },
  {
   "cell_type": "markdown",
   "metadata": {},
   "source": [
    "Note that we can convert  the\n",
    "rotation matrix to a reflection matrix by multiplying the second column\n",
    "by -1. That is, the vectors corresponding to the second principle components\n",
    "fall on the same line but point in opposite directions.  This corresponds\n",
    "to the following geometric fact.\n",
    "Having chosen $a$ and $b$, we determine the first principle component; then\n",
    "the second has to fall on the line orthogonal to the first,\n",
    "but can point in either of two directions.  One direction (rotating $\\theta$\n",
    "$90^{\\circ}$ clockwise) gives\n",
    "us the rotation matrix, the other (rotating\n",
    "$\\theta$ $90^{\\circ}$ counterclockwise) the reflection matrix. So rotation\n",
    "and reflection are the only possibilities.  And if we think\n",
    "of the axes as the lines the principle components determine,\n",
    "they gives us the same axes.\n",
    "\n",
    "Of course, the same data points can be described with either set of axes;\n",
    "only the sign of the second coordinate will change.  Hence, the total\n",
    "amount of explained variance will be unaffected, and therefore\n",
    "the choice between the two descriptions of the data is \n",
    "arbitrary.  This is reflected in the scikit learn PCA implementation.\n",
    "On one run of the code below with\n",
    "`regenerate_noise` set to `True`, PCA found:\n",
    "\n",
    "```python\n",
    ">>> reducer2.components_\n",
    "array([[-0.2933627 , -0.95600122],\n",
    "       [-0.95600122,  0.2933627 ]])\n",
    "```\n",
    "\n",
    "This is a reflection.  On another run with a slightly different set of noise points, PCA found\n",
    "\n",
    "```python\n",
    ">>> reducer2.components_\n",
    "array([[-0.3047686 , -0.95242643],\n",
    "       [ 0.95242643, -0.3047686 ]])\n",
    "```\n",
    "\n",
    "This is a rotation.  "
   ]
  },
  {
   "cell_type": "markdown",
   "metadata": {},
   "source": [
    "In either case PCA found about the same principal component.  In either case \n",
    "it transformed the data so as to map the x-axis to about\n",
    "the same place -- a line with slope 3 -- either by rotating the data by an angle of $\\theta$, where\n",
    "$\\theta$ is the angle for a line with slope 3, or by reflecting\n",
    "it about a line whose angle is $\\theta/2$, which is what the above reflection\n",
    "matrix does.  Even though only one of these two\n",
    "ways of transforming the data is technically a rotation,  it's\n",
    "correct in both cases to speak of rotating the $x$-axis by an angle of $\\theta$,\n",
    "as the picture below shows.  \n",
    "\n",
    "Run the cell below multiple times with `regenerate_data` set to `True`.  A message prints out above\n",
    "the plot telling you whether you got a reflection or a rotation\n",
    "and the red axis is always in about the same place."
   ]
  },
  {
   "cell_type": "code",
   "execution_count": 24,
   "metadata": {
    "scrolled": false
   },
   "outputs": [
    {
     "name": "stdout",
     "output_type": "stream",
     "text": [
      "Reflection Line Slope: -1.3526151276574339 New x-axis slope: 3.2610121017256084\n",
      "-1.8683457995339412 0.29317824358304573\n"
     ]
    },
    {
     "data": {
      "text/plain": [
       "<matplotlib.legend.Legend at 0x7faf79988ca0>"
      ]
     },
     "execution_count": 24,
     "metadata": {},
     "output_type": "execute_result"
    },
    {
     "data": {
      "image/png": "[encoded data removed]",
      "text/plain": [
       "<Figure size 1200x400 with 2 Axes>"
      ]
     },
     "metadata": {},
     "output_type": "display_data"
    }
   ],
   "source": [
    "import matplotlib\n",
    "from matplotlib import pyplot as plt\n",
    "\n",
    "def get_slope (component):\n",
    "    \"\"\"\n",
    "    Return theta and slope given component which contains cos and sin of theta.\n",
    "    \n",
    "    cos theta alone does not determine theta, let alone slope; `np.arcos` works\n",
    "    by only returning theta values between 0 and $\\pi$.  But other theta-values are \n",
    "    possible and relevant for us.\n",
    "    \n",
    "    Fortunately cos and sin together do determine theta.\n",
    "    \"\"\"\n",
    "    cos_theta, sin_theta = component[0],component[1]\n",
    "    theta = np.sign(sin_theta) * np.arccos(cos_theta)\n",
    "    return theta, np.tan(theta)\n",
    "    \n",
    "regenerate_noise=True\n",
    "if regenerate_noise:\n",
    "    # We regenerate the noise but always start with the same line\n",
    "    Data, Data2 = line_with_noise (slope=3,intercept=1,bd=bd,std=.2)\n",
    "\n",
    "# PCA axes with 2 components (N0 nreduction, just new axes)\n",
    "(Data_reduced2,reducer2) = PCA_reduced(Data2, n_components=2)\n",
    "\n",
    "#components2 = reducer2.components_.T\n",
    "#comp_vec1,comp_vec2 =  components2[:,0],components2[:,1]\n",
    "components2 = reducer2.components_\n",
    "comp_vec1,comp_vec2 =  components2[0],components2[1]\n",
    "\n",
    "\n",
    "diag_signs = np.sign(comp_vec1[0]),np.sign(comp_vec2[1])\n",
    "off_diag_signs = np.sign(comp_vec1[1]),np.sign(comp_vec2[0])\n",
    "theta,slope = get_slope (comp_vec1)\n",
    "\n",
    "if diag_signs[0] == diag_signs[1] and off_diag_signs[0] != off_diag_signs[1]:\n",
    "    print(f\"Rotation Slope: {slope}\")\n",
    "elif diag_signs[0] != diag_signs[1] and off_diag_signs[0] == off_diag_signs[1]:\n",
    "    print(f\"Reflection Line Slope: {np.tan(theta/2)} New x-axis slope: {slope}\")\n",
    "else:\n",
    "    print(\"Unknown transformation\")\n",
    "    \n",
    "fig, (ax,ax2) = plt.subplots(1, 2, figsize=(12, 4))\n",
    "## Data + Noisy Data\n",
    "ax.scatter(Data2[:, 0], Data2[:, 1], s=5, c=\"cyan\",label=\"Data+Noise\")\n",
    "ax.plot(Data[:,0],Data[:,1],c=\"green\",linestyle=\"dotted\",label=\"Data\")\n",
    "\n",
    "## Make the PCA component lines longer for aesthetics (their direction all that matters)\n",
    "scaler2 = bd/comp_vec1[0]\n",
    "comp_vec1 = scaler2 * comp_vec1\n",
    "xhat,yhat = comp_vec1[0],comp_vec1[1]\n",
    "ax.plot(np.array([0,xhat]),np.array([0,yhat]),c=\"r\",label=\"PCA comp. 1\")\n",
    "\n",
    "scaler2a_mag = 2   # 2 works! That's why!\n",
    "if comp_vec2[0] > 0:\n",
    "    # Keep y vals from being neg, for picture symmetry\n",
    "    scaler2a = -scaler2a_mag  \n",
    "else:\n",
    "    scaler2a = scaler2a_mag\n",
    "comp_vec2 = scaler2a* comp_vec2\n",
    "xhat2,yhat2 = comp_vec2[0],comp_vec2[1]\n",
    "ax.plot(np.array([0,xhat2]),np.array([0,yhat2]),c=\"b\",label=\"PCA comp. 2\")\n",
    "\n",
    "###Get the parameters of the angle arc\n",
    "cos_theta = np.abs(np.cos(theta)) # not comp_vec1[0] because that's been scaled\n",
    "print(theta,cos_theta)\n",
    "radius,step = .35,.001\n",
    "r_sq = radius**2\n",
    "# Draw the arc of the pie wedge containing theta, an arc of a circle y = sq_rt(r^2 - x^2)\n",
    "semi_circle = lambda x: (r_sq-(x**2))**.5\n",
    "arc_x=np.arange(radius*cos_theta, radius-step, step)\n",
    "ax.plot(arc_x, semi_circle(arc_x), c=\"k\")\n",
    "# Draw  segment of pie wedge coinciding with x-axis\n",
    "ax.plot(np.array([0,radius]),np.array([0,0]),c=\"k\")\n",
    "ax.annotate(r\"$\\theta$\",(0,0),textcoords=\"offset points\",xytext=(4,4),fontsize=12)\n",
    "#ax.set_xlim([0,7])\n",
    "ax.legend()\n",
    "ax.set_xlim([-2,3.5])\n",
    "ax.set_title(\"2-Dimensional PCA Components\")\n",
    "\n",
    "\n",
    "#####  Second plot\n",
    "ax2.scatter(Data_reduced2[:,0],Data_reduced2[:,1],s=10,label=\"Data + Noise\",c=\"cyan\")\n",
    "tData = reducer2.transform(Data)\n",
    "ax2.plot(tData[:,0],tData[:,1],label=\"Data\",c=\"g\",linestyle=\"dotted\")\n",
    "ax2.set_ylim(-.5,.5)\n",
    "ax2.set_title(\"Plotting on the new axes\")\n",
    "ax2.legend()\n",
    "#plt.savefig('PCA rotation.png')"
   ]
  },
  {
   "cell_type": "markdown",
   "metadata": {},
   "source": [
    "In the picture on the left, the red line is always about the same as the red linne in the\n",
    "previous plot.  However, many axes we ask for, the first component of PCA will always be the\n",
    "unique line maximizing the amount of explained variance.\n"
   ]
  },
  {
   "cell_type": "markdown",
   "metadata": {},
   "source": [
    "#### The latent space\n",
    "\n",
    "The picture on the right shows what it means to plot our points in the coordinate of system\n",
    "of the PCA components.  The blue points we're scattering are just the transformed version of the original\n",
    "noisy points\n",
    "\n",
    "```python\n",
    "Data_reduced = reducer.transform(Data2)\n",
    "```\n",
    "\n",
    "while the line we're plotting is the transformed version of the original line:\n",
    "\n",
    "```\n",
    "tData = reducer.transform(Data)\n",
    "```\n",
    "\n",
    "The fact that our transformed line is not parallel to the new x-axis is, again, a reflection\n",
    "of the fact that PCA can only approximately model the direction of the original line.\n",
    "\n",
    "In the picture on the right, the points are being represented in a new **space**. \n",
    "This is sometimes called the **latent space**.  The new axes are themselves variables\n",
    "which are linear combination of the old variables, but the new variables are **latent**\n",
    "or **implicit**."
   ]
  },
  {
   "cell_type": "markdown",
   "metadata": {},
   "source": [
    "#### Using the term rotation correctly\n",
    "\n",
    "We normally talk about rotation\n",
    "only in 2 and 3 dimensions. In fact, there are rotation matrices \n",
    "for dimensions 4 and higher (see [this Wikipedia page](https://en.wikipedia.org/wiki/Orthogonal_matrix) ),\n",
    "with structures that are considerably more complicated than our 2D case;\n",
    "so people do talk about the components of a PCA decomposition as defining\n",
    "a rotation, even in higher dimensional cases.\n",
    "\n",
    "The idea of rotation of axes, however, probably arises most often in statistical analysis of higher dimensional data with rotations that happen in the latent space.  In that case, it doesn't matter what the dimensionality of the original data is.  For instance we might rotate the axes in the latent-space picture above\n",
    "so as to make the axes truly parallel to `Data` (if we had independent evidence of where `Data` was),\n",
    "or we might want to find axes that increase the coordinate values of the data in\n",
    "the latent space, so as to improve visualization, heighten contrasts between the axes,\n",
    "or improve interpretability.  Rotation in the latent space arises naturally in factor analysis (which is related to PCA).  In factor analysis the latent axes are called **factors**. \n"
   ]
  },
  {
   "cell_type": "markdown",
   "metadata": {},
   "source": [
    "#### Limitations of PCA\n",
    "\n",
    "Finally, this example can be slightly modified to show the limitations of PCA. Same, picture but let's\n",
    "generate the noisy data from **two** different lines."
   ]
  },
  {
   "cell_type": "code",
   "execution_count": 132,
   "metadata": {},
   "outputs": [],
   "source": [
    "bd = .8\n",
    "slope1,slope2 = 3,-4\n",
    "Data_L1, Data2_L1 = line_with_noise (slope=slope1,intercept=4,bd=bd,std=.2)\n",
    "Data_L2, Data2_L2 = line_with_noise (slope=slope2,intercept=6,bd=bd,std=.1)\n",
    "\n",
    "# Combine the two lines in to one data set. 160 rows instead of 80\n",
    "Data_L1_L2 = np.concatenate([Data_L1,Data_L2],axis=0)\n",
    "Data2_L1_L2 = np.concatenate([Data2_L1,Data2_L2],axis=0)\n",
    "\n",
    "(Data_reduced_L1_L2,reducer_L1_L2) = PCA_reduced(Data2_L1_L2, n_components=1)"
   ]
  },
  {
   "cell_type": "code",
   "execution_count": 133,
   "metadata": {},
   "outputs": [
    {
     "name": "stdout",
     "output_type": "stream",
     "text": [
      "Slopes: slope1=3 slope2=-4 PC: -29.346\n"
     ]
    },
    {
     "data": {
      "text/plain": [
       "<matplotlib.legend.Legend at 0x7faf79feebf0>"
      ]
     },
     "execution_count": 133,
     "metadata": {},
     "output_type": "execute_result"
    },
    {
     "data": {
      "image/png": "[encoded data removed]",
      "text/plain": [
       "<Figure size 600x400 with 1 Axes>"
      ]
     },
     "metadata": {},
     "output_type": "display_data"
    }
   ],
   "source": [
    "fig, ax = plt.subplots(1, 1, figsize=(6, 4))\n",
    "# scaling\n",
    "#Data,Data2 = 40*Data, 40*Data2\n",
    "ax.scatter(Data2_L1_L2[:, 0], Data2_L1_L2[:, 1], s=10, c=\"cyan\",label=\"Data+Noise\")\n",
    "comp_vec = reducer_L1_L2.components_[0]\n",
    "# Get the PCA axis and the data xrange to be the same\n",
    "scaler = bd/comp_vec[0]\n",
    "comp_vec = scaler * comp_vec\n",
    "\n",
    "xhat,yhat = comp_vec[0], comp_vec[1]\n",
    "print(f\"Slopes: {slope1=} {slope2=} PC: {yhat/xhat:.3f}\")\n",
    "ax.plot(np.array([0,xhat]),np.array([0,yhat]),c=\"r\",label=\"PCA comp.\")\n",
    "ax.plot(Data_L1_L2[:80,0],Data_L1_L2[:80,1],c=\"green\",linestyle=\"dotted\",label=\"Data L1 L2\")\n",
    "ax.plot(Data_L1_L2[80:,0],Data_L1_L2[80:,1],c=\"green\",linestyle=\"dotted\")\n",
    "ax.set_title(\"PCA Component Hard-to-Model Data\")\n",
    "ax.legend()"
   ]
  },
  {
   "cell_type": "markdown",
   "metadata": {},
   "source": [
    "Note the slope chosen for the Principle Component bears no discernable relation to the slopes of\n",
    "the two lines we used to generate the data.\n",
    "\n",
    "If there is no single linear trend PCA will still find the direction that maximizes the\n",
    "explained variance, but that direction won't uncover a useful generalization. For this case, we might\n",
    "for example find an axis with a slope halfway between the two generating lines more useful, but PCA\n",
    "can't find that.  Sometimes  PCA just has nothing useful to tell us."
   ]
  },
  {
   "cell_type": "markdown",
   "metadata": {},
   "source": [
    "And in fact the percentage variance accounted for can look quite good with a very bad model:"
   ]
  },
  {
   "cell_type": "code",
   "execution_count": 134,
   "metadata": {},
   "outputs": [
    {
     "data": {
      "text/plain": [
       "array([0.9421451])"
      ]
     },
     "execution_count": 134,
     "metadata": {},
     "output_type": "execute_result"
    }
   ],
   "source": [
    "reducer_L1_L2.explained_variance_ratio_"
   ]
  },
  {
   "cell_type": "markdown",
   "metadata": {},
   "source": [
    "So **explained variance** is a term to use with caution.  It's mostly used\n",
    "in discussing models, especially regression and dimensionality reduction\n",
    "models, and its significance for any real world task is often a head scratcher."
   ]
  },
  {
   "cell_type": "markdown",
   "metadata": {},
   "source": [
    "Here are two important requirements for PCA to give good results as a dimensionality reduction technique:\n",
    "\n",
    "1.  The relationship between the variables is linear or nearly so as in our noise example. This is what's going wrong in the picture above. There's no single linear relationship that capture all the points.  This picture is as simple as it can be to make a point.  It's often the case, especially with higher dimensionality data, that there is a useful linear relationship that at least approximates the data.  That's why PCA and other linear models have proved useful.\n",
    "2.  To use PCA for dimensionality reduction, the variables can't be completely independent. You need to have correlations between the variables so that reduction can be done with little loss of information. That's eminently the case with our iris data:"
   ]
  },
  {
   "cell_type": "code",
   "execution_count": 135,
   "metadata": {},
   "outputs": [
    {
     "data": {
      "text/html": [
       "<style type=\"text/css\">\n",
       "#T_f6ff9_row0_col0, #T_f6ff9_row1_col1, #T_f6ff9_row2_col2, #T_f6ff9_row3_col3 {\n",
       "  background-color: #08306b;\n",
       "  color: #f1f1f1;\n",
       "}\n",
       "#T_f6ff9_row0_col1 {\n",
       "  background-color: #cddff1;\n",
       "  color: #000000;\n",
       "}\n",
       "#T_f6ff9_row0_col2 {\n",
       "  background-color: #08478d;\n",
       "  color: #f1f1f1;\n",
       "}\n",
       "#T_f6ff9_row0_col3 {\n",
       "  background-color: #0a539e;\n",
       "  color: #f1f1f1;\n",
       "}\n",
       "#T_f6ff9_row1_col0, #T_f6ff9_row1_col2, #T_f6ff9_row1_col3, #T_f6ff9_row2_col1 {\n",
       "  background-color: #f7fbff;\n",
       "  color: #000000;\n",
       "}\n",
       "#T_f6ff9_row2_col0 {\n",
       "  background-color: #084e98;\n",
       "  color: #f1f1f1;\n",
       "}\n",
       "#T_f6ff9_row2_col3, #T_f6ff9_row3_col2 {\n",
       "  background-color: #083674;\n",
       "  color: #f1f1f1;\n",
       "}\n",
       "#T_f6ff9_row3_col0 {\n",
       "  background-color: #0f5aa3;\n",
       "  color: #f1f1f1;\n",
       "}\n",
       "#T_f6ff9_row3_col1 {\n",
       "  background-color: #eef5fc;\n",
       "  color: #000000;\n",
       "}\n",
       "</style>\n",
       "<table id=\"T_f6ff9\">\n",
       "  <thead>\n",
       "    <tr>\n",
       "      <th class=\"blank level0\" >&nbsp;</th>\n",
       "      <th id=\"T_f6ff9_level0_col0\" class=\"col_heading level0 col0\" >sepal length (cm)</th>\n",
       "      <th id=\"T_f6ff9_level0_col1\" class=\"col_heading level0 col1\" >sepal width (cm)</th>\n",
       "      <th id=\"T_f6ff9_level0_col2\" class=\"col_heading level0 col2\" >petal length (cm)</th>\n",
       "      <th id=\"T_f6ff9_level0_col3\" class=\"col_heading level0 col3\" >petal width (cm)</th>\n",
       "    </tr>\n",
       "  </thead>\n",
       "  <tbody>\n",
       "    <tr>\n",
       "      <th id=\"T_f6ff9_level0_row0\" class=\"row_heading level0 row0\" >sepal length (cm)</th>\n",
       "      <td id=\"T_f6ff9_row0_col0\" class=\"data row0 col0\" >1.000000</td>\n",
       "      <td id=\"T_f6ff9_row0_col1\" class=\"data row0 col1\" >-0.117570</td>\n",
       "      <td id=\"T_f6ff9_row0_col2\" class=\"data row0 col2\" >0.871754</td>\n",
       "      <td id=\"T_f6ff9_row0_col3\" class=\"data row0 col3\" >0.817941</td>\n",
       "    </tr>\n",
       "    <tr>\n",
       "      <th id=\"T_f6ff9_level0_row1\" class=\"row_heading level0 row1\" >sepal width (cm)</th>\n",
       "      <td id=\"T_f6ff9_row1_col0\" class=\"data row1 col0\" >-0.117570</td>\n",
       "      <td id=\"T_f6ff9_row1_col1\" class=\"data row1 col1\" >1.000000</td>\n",
       "      <td id=\"T_f6ff9_row1_col2\" class=\"data row1 col2\" >-0.428440</td>\n",
       "      <td id=\"T_f6ff9_row1_col3\" class=\"data row1 col3\" >-0.366126</td>\n",
       "    </tr>\n",
       "    <tr>\n",
       "      <th id=\"T_f6ff9_level0_row2\" class=\"row_heading level0 row2\" >petal length (cm)</th>\n",
       "      <td id=\"T_f6ff9_row2_col0\" class=\"data row2 col0\" >0.871754</td>\n",
       "      <td id=\"T_f6ff9_row2_col1\" class=\"data row2 col1\" >-0.428440</td>\n",
       "      <td id=\"T_f6ff9_row2_col2\" class=\"data row2 col2\" >1.000000</td>\n",
       "      <td id=\"T_f6ff9_row2_col3\" class=\"data row2 col3\" >0.962865</td>\n",
       "    </tr>\n",
       "    <tr>\n",
       "      <th id=\"T_f6ff9_level0_row3\" class=\"row_heading level0 row3\" >petal width (cm)</th>\n",
       "      <td id=\"T_f6ff9_row3_col0\" class=\"data row3 col0\" >0.817941</td>\n",
       "      <td id=\"T_f6ff9_row3_col1\" class=\"data row3 col1\" >-0.366126</td>\n",
       "      <td id=\"T_f6ff9_row3_col2\" class=\"data row3 col2\" >0.962865</td>\n",
       "      <td id=\"T_f6ff9_row3_col3\" class=\"data row3 col3\" >1.000000</td>\n",
       "    </tr>\n",
       "  </tbody>\n",
       "</table>\n"
      ],
      "text/plain": [
       "<pandas.io.formats.style.Styler at 0x7faf79e488b0>"
      ]
     },
     "execution_count": 135,
     "metadata": {},
     "output_type": "execute_result"
    }
   ],
   "source": [
    "iris = sklearn.datasets.load_iris(as_frame=True)\n",
    "df = iris.data\n",
    "y = iris.target\n",
    "# Get correlations\n",
    "corr_df = df.corr()\n",
    "corr_df.style.background_gradient(cmap='Blues')"
   ]
  },
  {
   "cell_type": "markdown",
   "metadata": {},
   "source": [
    "Sepal Length, petal length, and petal width are all strongly correlated.\n",
    "\n",
    "Meanwhile, it's a consequence of the fact that the eigenvectors are orthogonal\n",
    "and that they are eigenvectors of the correlation matrix\n",
    "that the two components of the reduction are uncorrelated.\n",
    "(I am now using the term components to mean columns in the reduced data)."
   ]
  },
  {
   "cell_type": "code",
   "execution_count": 138,
   "metadata": {},
   "outputs": [
    {
     "data": {
      "text/html": [
       "<style type=\"text/css\">\n",
       "#T_c4fef_row0_col0, #T_c4fef_row1_col1 {\n",
       "  background-color: #08306b;\n",
       "  color: #f1f1f1;\n",
       "}\n",
       "#T_c4fef_row0_col1, #T_c4fef_row1_col0 {\n",
       "  background-color: #f7fbff;\n",
       "  color: #000000;\n",
       "}\n",
       "</style>\n",
       "<table id=\"T_c4fef\">\n",
       "  <thead>\n",
       "    <tr>\n",
       "      <th class=\"blank level0\" >&nbsp;</th>\n",
       "      <th id=\"T_c4fef_level0_col0\" class=\"col_heading level0 col0\" >Comp 1</th>\n",
       "      <th id=\"T_c4fef_level0_col1\" class=\"col_heading level0 col1\" >Comp2</th>\n",
       "    </tr>\n",
       "  </thead>\n",
       "  <tbody>\n",
       "    <tr>\n",
       "      <th id=\"T_c4fef_level0_row0\" class=\"row_heading level0 row0\" >Comp 1</th>\n",
       "      <td id=\"T_c4fef_row0_col0\" class=\"data row0 col0\" >1.000000</td>\n",
       "      <td id=\"T_c4fef_row0_col1\" class=\"data row0 col1\" >-0.000000</td>\n",
       "    </tr>\n",
       "    <tr>\n",
       "      <th id=\"T_c4fef_level0_row1\" class=\"row_heading level0 row1\" >Comp2</th>\n",
       "      <td id=\"T_c4fef_row1_col0\" class=\"data row1 col0\" >-0.000000</td>\n",
       "      <td id=\"T_c4fef_row1_col1\" class=\"data row1 col1\" >1.000000</td>\n",
       "    </tr>\n",
       "  </tbody>\n",
       "</table>\n"
      ],
      "text/plain": [
       "<pandas.io.formats.style.Styler at 0x7faf18956ec0>"
      ]
     },
     "execution_count": 138,
     "metadata": {},
     "output_type": "execute_result"
    }
   ],
   "source": [
    "df_reduced_corr = df_reduced.corr()\n",
    "df_reduced_corr.style.background_gradient(cmap='Blues')"
   ]
  },
  {
   "cell_type": "markdown",
   "metadata": {},
   "source": [
    "For those who know some\n",
    "linear algebra: Calling the $i$th component of the reduced data $z_{i}$.\n",
    "We know that the matrix product of the data X with the $i$th principal component $e_{i}$\n",
    "gives the $i$th column of the reduced data:\n",
    "\n",
    "$$\n",
    "z_{i} = Xe_{i},\n",
    "$$\n",
    "\n",
    "where $e_{i}$ is the $i$th eigenvector of $X^{T}X$,\n",
    "the correlation matrix. It's easy to show that any two columns of the\n",
    "reduced data are orthogonal:\n",
    "\n",
    "$$\n",
    "{z_{i}}^{T}z_{j} = (Xe_{i})^{T}(Xe_{j}) = {e_{i}}^{T}X^{T}Xe_{j} = {e_{i}}^{T}\\lambda_{j}e_{j} =  \\lambda_{j}{e_{i}}^{T}e_{j} = 0\n",
    "$$\n",
    "\n",
    "And because $X$'s columns have been centered and have  mean 0, $Xe_{i} = z_{i}$ has mean 0, so it follows from the\n",
    "orthogonality of $z_{i}$ and $z_{j}$  that the correlation is 0:\n",
    "\n",
    "$$\n",
    "(\\,z_{i} - \\overline{z}_{i}\\,)(z_{j} - \\overline{z}_{j}\\,) = 0\n",
    "$$\n",
    "\n",
    "Note: This has been written for consistency with `components` above,\n",
    "components is a matrix who **rows** were the $e_i$s, so writing\n",
    "$Z$ for the transformed data:\n",
    "\n",
    "$$\n",
    "Z^{T} = \\text{components}\\,X^T = (X\\,\\text{components}^T)^{T}\n",
    "$$\n",
    "\n",
    "Since the ith column of $\\text{components}^T$ is $e_{i}$, writing $z_i$ for the\n",
    "$i$th column of $Z$, we have\n",
    "\n",
    "$$\n",
    "z_{i} = X \\, {\\text{components}^{T}}_{i} = X\\,e_{i}\n",
    "$$\n"
   ]
  },
  {
   "cell_type": "markdown",
   "metadata": {},
   "source": [
    "Demonstrating on our data:"
   ]
  },
  {
   "cell_type": "code",
   "execution_count": 135,
   "metadata": {},
   "outputs": [],
   "source": [
    "import pandas as pd\n",
    "\n",
    "reducer = dec.PCA(n_components=2)\n",
    "X_reduced = reducer.fit_transform(X)\n",
    "df_reduced = pd.DataFrame(X_reduced,columns=[\"Comp 1\",\"Comp2\"])"
   ]
  },
  {
   "cell_type": "code",
   "execution_count": 358,
   "metadata": {},
   "outputs": [],
   "source": [
    "# This is the X in the equation above (the centering of the original data)\n",
    "Xcentered = (X-X.mean(axis=0))\n",
    "#We choose a component i of the data\n",
    "i=0\n",
    "# Produce the ith column of the trasnformed data (requires ith eignvcetor)\n",
    "Xei = Xcentered@reducer.components_[i]\n",
    "zi = X_reduced[:,i]"
   ]
  },
  {
   "cell_type": "code",
   "execution_count": 361,
   "metadata": {},
   "outputs": [
    {
     "data": {
      "text/plain": [
       "True"
      ]
     },
     "execution_count": 361,
     "metadata": {},
     "output_type": "execute_result"
    }
   ],
   "source": [
    "np.allclose(Xei, zi)"
   ]
  },
  {
   "cell_type": "code",
   "execution_count": null,
   "metadata": {},
   "outputs": [],
   "source": []
  },
  {
   "cell_type": "markdown",
   "metadata": {},
   "source": [
    "**Question 2 (Completely optional for those who know some linear algebra):**  We've been measuring information loss (or how good an approximation PCA and SVD\n",
    "give) by untransforming the data and taking Frobenius Norm of the estimation error, so the Eckart-Young theorem should apply.  SVD Reduced should give the best rank 2 \n",
    "approximation.  Yet here are the results for our two reductions:"
   ]
  },
  {
   "cell_type": "code",
   "execution_count": 27,
   "metadata": {},
   "outputs": [],
   "source": [
    "#PCA\n",
    "\n",
    "X = iris.data\n",
    "reducer_pca = dec.PCA(n_components=2)\n",
    "reducer_svd = dec.TruncatedSVD(n_components=2)\n",
    "X_reduced_pca = reducer_pca.fit_transform(X)\n",
    "X_reduced_svd = reducer_svd.fit_transform(X)"
   ]
  },
  {
   "cell_type": "code",
   "execution_count": 27,
   "metadata": {},
   "outputs": [
    {
     "data": {
      "text/plain": [
       "3.899313318962578"
      ]
     },
     "execution_count": 27,
     "metadata": {},
     "output_type": "execute_result"
    }
   ],
   "source": [
    "information_lost(X, X_reduced_pca, reducer_pca)"
   ]
  },
  {
   "cell_type": "code",
   "execution_count": 28,
   "metadata": {},
   "outputs": [
    {
     "data": {
      "text/plain": [
       "3.9408898878793743"
      ]
     },
     "execution_count": 28,
     "metadata": {},
     "output_type": "execute_result"
    }
   ],
   "source": [
    "information_lost(X, X_reduced_svd, reducer_svd)"
   ]
  },
  {
   "cell_type": "markdown",
   "metadata": {},
   "source": [
    "PCA wins. Less information lost.  How is this possible? Both `X_reduced_pca` and `X_reduced_svd` are 2D \n",
    "representations of the data. But the Eckart-Young Theorem says that truncated SVD\n",
    "should give the best rank 2 estimate of the data.\n",
    "\n",
    "Have we just shaken the foundations of Linear Algebra\n",
    "by discovering a 2D representation that\n",
    "gives a better estimate than the reduced SVD estimate?\n",
    "(*Note:  This question is best answered by remembering how truncated SVD differs from PCA.*)"
   ]
  },
  {
   "cell_type": "code",
   "execution_count": null,
   "metadata": {},
   "outputs": [],
   "source": []
  },
  {
   "cell_type": "code",
   "execution_count": null,
   "metadata": {},
   "outputs": [],
   "source": []
  },
  {
   "cell_type": "code",
   "execution_count": null,
   "metadata": {},
   "outputs": [],
   "source": []
  },
  {
   "cell_type": "code",
   "execution_count": null,
   "metadata": {},
   "outputs": [],
   "source": []
  },
  {
   "cell_type": "code",
   "execution_count": null,
   "metadata": {},
   "outputs": [],
   "source": []
  },
  {
   "cell_type": "code",
   "execution_count": null,
   "metadata": {},
   "outputs": [],
   "source": []
  },
  {
   "cell_type": "code",
   "execution_count": null,
   "metadata": {},
   "outputs": [],
   "source": []
  },
  {
   "cell_type": "markdown",
   "metadata": {},
   "source": [
    "The theorem is about the rank of the **estimates**, which are the unreduced PCA and SVD reductions.\n",
    "To choose the best estimate,\n",
    "we then compare the estimates to the original data. The SVD estimate has rank 2.\n",
    "The PCA estimate does not."
   ]
  },
  {
   "cell_type": "code",
   "execution_count": 42,
   "metadata": {},
   "outputs": [
    {
     "name": "stdout",
     "output_type": "stream",
     "text": [
      "SVD untransformed: Rank 2\n",
      "PCA untransformed: Rank 3\n"
     ]
    }
   ],
   "source": [
    "from numpy.linalg import matrix_rank\n",
    "\n",
    "print(\"SVD untransformed: Rank\", matrix_rank(reducer_svd.inverse_transform(X_reduced_svd)))\n",
    "\n",
    "print(\"PCA untransformed: Rank\", matrix_rank(reducer.inverse_transform(X_reduced)))"
   ]
  },
  {
   "cell_type": "markdown",
   "metadata": {},
   "source": [
    "So the truncated SVD estimate **is** the best rank 2 approximation, but the PCA\n",
    "approximation is a rank 3 approximation, so it can be better.\n",
    "​\n",
    "The reason this is possible is instructive.\n",
    "The untransformed SVD representation of the 150 rows of X is just \n",
    "150 weighted sums of the same 2 orthogonal\n",
    "eigenvectors, so it must have rank 2.  The untransformed PCA representation\n",
    "is computed in two steps:\n",
    "​\n",
    "1. Weighted sums of the leading 2 eigenvectors of the covariance matrix, yielding a matrix M which is an \n",
    "   estimate of the **centered data**.  M must have rank 2. \n",
    "2. To find the estimate of the original data, we add the means of the 4 iris variables to M,  uncentering M.  The result of this computation does\n",
    "   not have to have rank 2.\n",
    "  \n"
   ]
  },
  {
   "cell_type": "markdown",
   "metadata": {},
   "source": [
    "##  Supervised Dimensionality Reduction vs Unsupervised  Dimensionality Reduction "
   ]
  },
  {
   "cell_type": "code",
   "execution_count": 113,
   "metadata": {},
   "outputs": [
    {
     "name": "stdout",
     "output_type": "stream",
     "text": [
      "R2 Train: 0.93\n",
      "R2 Test: 0.91\n"
     ]
    }
   ],
   "source": [
    "from sklearn.cross_decomposition import PLSRegression\n",
    "from sklearn import decomposition as dec\n",
    "from sklearn import linear_model\n",
    "import sklearn\n",
    "import sklearn.datasets \n",
    "from sklearn.model_selection import train_test_split\n",
    "from sklearn.metrics import r2_score\n",
    "from sklearn.cross_decomposition import CCA\n",
    "from sklearn.metrics import accuracy_score, recall_score,precision_score\n",
    "#cca = CCA(n_components=2)\n",
    "#cca.fit(X_train, Y_train)\n",
    "#X_train_r, Y_train_r = cca.transform(X_train, Y_train)\n",
    "#X_test_r, Y_test_r = cca.transform(X_test, Y_test)\n",
    "\n",
    "\n",
    "#import pandas as pd\n",
    "\n",
    "iris = sklearn.datasets.load_iris()\n",
    "X = iris.data\n",
    "y = iris.target\n",
    "\n",
    "\n",
    "Xtrain, Xtest, Ytrain, Ytest = train_test_split(X,y)\n",
    "\n",
    "#PLS\n",
    "reducer_pls = PLSRegression(n_components=2)\n",
    "#PCA\n",
    "reducer_pca = dec.PCA(n_components=2)\n",
    "# SVD\n",
    "reducer_svd = dec.TruncatedSVD(n_components=2)\n",
    "\n",
    "# Learn reductions\n",
    "Xtrain_reduced_pca = reducer_pca.fit_transform(Xtrain)\n",
    "Xtrain_reduced_svd = reducer_svd.fit_transform(Xtrain)\n",
    "\n",
    "reducer_pls.fit(Xtrain,Ytrain.reshape((112,1)))\n",
    "# For plotting we need the 2D reps\n",
    "Xtrain_reduced_pls = reducer_pls.transform(Xtrain)\n",
    "\n",
    "# ReduceTest data\n",
    "Xtest_reduced_pls = reducer_pls.transform(Xtest)\n",
    "Xtest_reduced_pca = reducer_pca.transform(Xtest)\n",
    "Xtest_reduced_svd = reducer_svd.transform(Xtest)\n",
    "\n",
    "#X_reduced_pls,Y_reduced_pls = PLS_reducer.fit_transform(Xtrain,Ytrain.reshape((112,1)))\n",
    "#Yp0 = Y_reduced_pls[0]\n",
    "#Yp1 = Y_reduced_pls[50]\n",
    "#Yp2 = Y_reduced_pls[100]\n",
    "#df_reduced_pls = pd.DataFrame(X_reduced_pls,columns=[\"Comp 1\",\"Comp2\"])\n",
    "#df_reduced_pls\n",
    "# R2 Training set score\n",
    "print(f\"R2 Train: {PLS_reducer.score(Xtrain,Ytrain.reshape((112,1))):.2f}\")\n",
    "Yp = PLS_reducer.predict(Xtest)\n",
    "r2_test = r2_score(Ytest, Yp)\n",
    "print(f\"R2 Test: {r2_test:.2f}\")"
   ]
  },
  {
   "cell_type": "code",
   "execution_count": 109,
   "metadata": {},
   "outputs": [
    {
     "data": {
      "image/png": "[encoded data removed]",
      "text/plain": [
       "<Figure size 1400x1200 with 4 Axes>"
      ]
     },
     "metadata": {},
     "output_type": "display_data"
    }
   ],
   "source": [
    "from matplotlib import pyplot as plt\n",
    "(f,axes) = plt.subplots(2,2,figsize=(14,12))\n",
    "(ax0,ax1) = axes[0]\n",
    "(ax2,ax3) = axes[1]\n",
    "\n",
    "colors = np.array(list(\"rgb\"))\n",
    "#ax0.scatter(X_reduced_pls[:,0], X_reduced_pls[:,1], c = colors[iris.target],s=20)\n",
    "ax0.scatter(Xtrain_reduced_pls[:,0], Xtrain_reduced_pls[:,1], c = colors[Ytrain],s=20)\n",
    "ax0.set_title(\"PLS\")\n",
    "ax0.set_xlabel(\"Comp 1\")\n",
    "ax0.set_ylabel(\"Comp 2\")\n",
    "#ax0.plot([Yp0[0],Yp1[0],Yp2[0]],[Yp0[1],Yp1[1],Yp2[1]],c=\"c\")\n",
    "#ax0.scatter([Yp0[0]],[Yp0[1]],s=40,c=\"k\")\n",
    "#ax0.scatter([Yp1[0]],[Yp1[1]],s=40,c=\"k\")\n",
    "#ax0.scatter([Yp2[0]],[Yp2[1]],s=40,c=\"k\")\n",
    "\n",
    "# Sepal Width, Petal Width\n",
    "sep,pet = Xtrain[:,1], Xtrain[:,3]\n",
    "ax1.scatter(sep,pet,c = colors[Ytrain],s=20)\n",
    "ax1.set_xlabel(\"Sepal Width\")\n",
    "ax1.set_ylabel(\"Petal Width\")\n",
    "ax1.scatter(sep,pet, c = colors[Ytrain], s=20)\n",
    "ax1.set_title(\"Sepal Width & Petal Width\")\n",
    "\n",
    "# PCA\n",
    "ax2.scatter(Xtrain_reduced_pca[:,0],Xtrain_reduced_pca[:,1], c = colors[Ytrain], s=20)\n",
    "ax2.set_title(\"PCA\")\n",
    "ax2.set_xlabel(\"Comp 1\")\n",
    "ax2.set_ylabel(\"Comp 2\")\n",
    "\n",
    "# SVD\n",
    "ax3.scatter(Xtrain_reduced_svd[:,0],Xtrain_reduced_svd[:,1], c = colors[Ytrain], s=20)\n",
    "ax3.set_title(\"SVD\")\n",
    "ax3.set_xlabel(\"Comp 1\")\n",
    "_ = ax3.set_ylabel(\"Comp 2\")"
   ]
  },
  {
   "cell_type": "markdown",
   "metadata": {},
   "source": [
    "###  Classifying on the reduced and unreduced reps"
   ]
  },
  {
   "cell_type": "code",
   "execution_count": 131,
   "metadata": {},
   "outputs": [
    {
     "name": "stdout",
     "output_type": "stream",
     "text": [
      "SVD\n",
      "Acc: 0.95\n",
      "0 Rec: 1.00\n",
      "0 Pre: 1.00\n",
      "\n",
      "1 Rec: 1.00\n",
      "1 Pre: 0.90\n",
      "\n",
      "2 Rec: 0.80\n",
      "2 Pre: 1.00\n",
      "\n"
     ]
    }
   ],
   "source": [
    "lin_svd_r = linear_model.LogisticRegression(C=1e5, solver='lbfgs')\n",
    "lin_svd_r.fit(Xtrain_reduced_svd, Ytrain)\n",
    "predicted = lin_svd_r.predict(Xtest_reduced_svd)\n",
    "print(\"SVD\")\n",
    "print(f\"Acc: {accuracy_score(Ytest,predicted):.2f}\")\n",
    "for i in range(3):\n",
    "    print(f\"{i} Rec: {recall_score(Ytest,predicted,average=None)[i]:.2f}\")\n",
    "    print(f\"{i} Pre: {precision_score(Ytest,predicted,average=None)[i]:.2f}\")\n",
    "    print()"
   ]
  },
  {
   "cell_type": "code",
   "execution_count": 128,
   "metadata": {},
   "outputs": [
    {
     "name": "stdout",
     "output_type": "stream",
     "text": [
      "PCA\n",
      "Acc: 0.95\n",
      "0 Rec: 1.00\n",
      "0 Pre: 1.00\n",
      "\n",
      "1 Rec: 1.00\n",
      "1 Pre: 0.90\n",
      "\n",
      "2 Rec: 0.80\n",
      "2 Pre: 1.00\n",
      "\n"
     ]
    }
   ],
   "source": [
    "lin_pca_r = linear_model.LogisticRegression(C=1e5, solver='lbfgs')\n",
    "lin_pca_r.fit(Xtrain_reduced_pca, Ytrain)\n",
    "predicted = lin_pca_r.predict(Xtest_reduced_pca)\n",
    "print(\"PCA\")\n",
    "print(f\"Acc: {accuracy_score(Ytest,predicted):.2f}\")\n",
    "for i in range(3):\n",
    "    print(f\"{i} Rec: {recall_score(Ytest,predicted,average=None)[i]:.2f}\")\n",
    "    print(f\"{i} Pre: {precision_score(Ytest,predicted,average=None)[i]:.2f}\")\n",
    "    print()"
   ]
  },
  {
   "cell_type": "code",
   "execution_count": 129,
   "metadata": {},
   "outputs": [
    {
     "name": "stdout",
     "output_type": "stream",
     "text": [
      "PLS\n",
      "Acc: 0.92\n",
      "0 Rec: 1.00\n",
      "0 Pre: 1.00\n",
      "\n",
      "1 Rec: 0.83\n",
      "1 Pre: 1.00\n",
      "\n",
      "2 Rec: 1.00\n",
      "2 Pre: 0.77\n",
      "\n"
     ]
    }
   ],
   "source": [
    "lin_pls_r = linear_model.LogisticRegression(C=1e5, solver='lbfgs')\n",
    "lin_pls_r.fit(Xtrain_reduced_pls, Ytrain)\n",
    "predicted = lin_pls_r.predict(Xtest_reduced_pca)\n",
    "print(\"PLS\")\n",
    "print(f\"Acc: {accuracy_score(Ytest,predicted):.2f}\")\n",
    "for i in range(3):\n",
    "    print(f\"{i} Rec: {recall_score(Ytest,predicted,average=None)[i]:.2f}\")\n",
    "    print(f\"{i} Pre: {precision_score(Ytest,predicted,average=None)[i]:.2f}\")\n",
    "    print()"
   ]
  },
  {
   "cell_type": "markdown",
   "metadata": {},
   "source": [
    "Unreduced:"
   ]
  },
  {
   "cell_type": "code",
   "execution_count": 133,
   "metadata": {},
   "outputs": [
    {
     "name": "stdout",
     "output_type": "stream",
     "text": [
      "UNreduced\n",
      "Acc: 1.00\n",
      "0 Rec: 1.00\n",
      "0 Pre: 1.00\n",
      "\n",
      "1 Rec: 1.00\n",
      "1 Pre: 1.00\n",
      "\n",
      "2 Rec: 1.00\n",
      "2 Pre: 1.00\n",
      "\n"
     ]
    }
   ],
   "source": [
    "lin = linear_model.LogisticRegression(C=1e5, solver='lbfgs')\n",
    "lin.fit(Xtrain, Ytrain)\n",
    "predicted = lin.predict(Xtest)\n",
    "print(\"Unreduced\")\n",
    "print(f\"Acc: {accuracy_score(Ytest,predicted):.2f}\")\n",
    "for i in range(3):\n",
    "    print(f\"{i} Rec: {recall_score(Ytest,predicted,average=None)[i]:.2f}\")\n",
    "    print(f\"{i} Pre: {precision_score(Ytest,predicted,average=None)[i]:.2f}\")\n",
    "    print()"
   ]
  },
  {
   "cell_type": "markdown",
   "metadata": {},
   "source": [
    "##   Simple example\n",
    "\n",
    "UCI data on 1984 Congressional viotes on 16 bills: [UCI repo](https://archive.ics.uci.edu/dataset/105/congressional+voting+records)\n"
   ]
  },
  {
   "cell_type": "code",
   "execution_count": 379,
   "metadata": {},
   "outputs": [],
   "source": [
    "import pandas as pd\n",
    "url = \"https://raw.githubusercontent.com/gawron/python-for-social-science/\"\\\n",
    "\"refs/heads/master/text_classification/data/congress/house-votes-84.data\"\n",
    "\n",
    "def convert_votes (v):\n",
    "    dd = {\"y\":1,\"n\":-1,\"?\":0}\n",
    "    return dd[v]\n",
    "\n",
    "converters = {idx:convert_votes for idx in range(1,17)}\n",
    "\n",
    "df0 = pd.read_csv(url,sep=\",\",header=None,converters = converters)"
   ]
  },
  {
   "cell_type": "code",
   "execution_count": 381,
   "metadata": {},
   "outputs": [],
   "source": [
    "df = df0[list(df0.columns[1:])+list(df0.columns[0:1])]\n",
    "df.columns = list(df0.columns[1:])+[\"party\"]"
   ]
  },
  {
   "cell_type": "code",
   "execution_count": 382,
   "metadata": {},
   "outputs": [
    {
     "data": {
      "text/html": [
       "<div>\n",
       "<style scoped>\n",
       "    .dataframe tbody tr th:only-of-type {\n",
       "        vertical-align: middle;\n",
       "    }\n",
       "\n",
       "    .dataframe tbody tr th {\n",
       "        vertical-align: top;\n",
       "    }\n",
       "\n",
       "    .dataframe thead th {\n",
       "        text-align: right;\n",
       "    }\n",
       "</style>\n",
       "<table border=\"1\" class=\"dataframe\">\n",
       "  <thead>\n",
       "    <tr style=\"text-align: right;\">\n",
       "      <th></th>\n",
       "      <th>1</th>\n",
       "      <th>2</th>\n",
       "      <th>3</th>\n",
       "      <th>4</th>\n",
       "      <th>5</th>\n",
       "      <th>6</th>\n",
       "      <th>7</th>\n",
       "      <th>8</th>\n",
       "      <th>9</th>\n",
       "      <th>10</th>\n",
       "      <th>11</th>\n",
       "      <th>12</th>\n",
       "      <th>13</th>\n",
       "      <th>14</th>\n",
       "      <th>15</th>\n",
       "      <th>16</th>\n",
       "      <th>party</th>\n",
       "    </tr>\n",
       "  </thead>\n",
       "  <tbody>\n",
       "    <tr>\n",
       "      <th>0</th>\n",
       "      <td>-1</td>\n",
       "      <td>1</td>\n",
       "      <td>-1</td>\n",
       "      <td>1</td>\n",
       "      <td>1</td>\n",
       "      <td>1</td>\n",
       "      <td>-1</td>\n",
       "      <td>-1</td>\n",
       "      <td>-1</td>\n",
       "      <td>1</td>\n",
       "      <td>0</td>\n",
       "      <td>1</td>\n",
       "      <td>1</td>\n",
       "      <td>1</td>\n",
       "      <td>-1</td>\n",
       "      <td>1</td>\n",
       "      <td>republican</td>\n",
       "    </tr>\n",
       "    <tr>\n",
       "      <th>1</th>\n",
       "      <td>-1</td>\n",
       "      <td>1</td>\n",
       "      <td>-1</td>\n",
       "      <td>1</td>\n",
       "      <td>1</td>\n",
       "      <td>1</td>\n",
       "      <td>-1</td>\n",
       "      <td>-1</td>\n",
       "      <td>-1</td>\n",
       "      <td>-1</td>\n",
       "      <td>-1</td>\n",
       "      <td>1</td>\n",
       "      <td>1</td>\n",
       "      <td>1</td>\n",
       "      <td>-1</td>\n",
       "      <td>0</td>\n",
       "      <td>republican</td>\n",
       "    </tr>\n",
       "    <tr>\n",
       "      <th>2</th>\n",
       "      <td>0</td>\n",
       "      <td>1</td>\n",
       "      <td>1</td>\n",
       "      <td>0</td>\n",
       "      <td>1</td>\n",
       "      <td>1</td>\n",
       "      <td>-1</td>\n",
       "      <td>-1</td>\n",
       "      <td>-1</td>\n",
       "      <td>-1</td>\n",
       "      <td>1</td>\n",
       "      <td>-1</td>\n",
       "      <td>1</td>\n",
       "      <td>1</td>\n",
       "      <td>-1</td>\n",
       "      <td>-1</td>\n",
       "      <td>democrat</td>\n",
       "    </tr>\n",
       "    <tr>\n",
       "      <th>3</th>\n",
       "      <td>-1</td>\n",
       "      <td>1</td>\n",
       "      <td>1</td>\n",
       "      <td>-1</td>\n",
       "      <td>0</td>\n",
       "      <td>1</td>\n",
       "      <td>-1</td>\n",
       "      <td>-1</td>\n",
       "      <td>-1</td>\n",
       "      <td>-1</td>\n",
       "      <td>1</td>\n",
       "      <td>-1</td>\n",
       "      <td>1</td>\n",
       "      <td>-1</td>\n",
       "      <td>-1</td>\n",
       "      <td>1</td>\n",
       "      <td>democrat</td>\n",
       "    </tr>\n",
       "    <tr>\n",
       "      <th>4</th>\n",
       "      <td>1</td>\n",
       "      <td>1</td>\n",
       "      <td>1</td>\n",
       "      <td>-1</td>\n",
       "      <td>1</td>\n",
       "      <td>1</td>\n",
       "      <td>-1</td>\n",
       "      <td>-1</td>\n",
       "      <td>-1</td>\n",
       "      <td>-1</td>\n",
       "      <td>1</td>\n",
       "      <td>0</td>\n",
       "      <td>1</td>\n",
       "      <td>1</td>\n",
       "      <td>1</td>\n",
       "      <td>1</td>\n",
       "      <td>democrat</td>\n",
       "    </tr>\n",
       "    <tr>\n",
       "      <th>...</th>\n",
       "      <td>...</td>\n",
       "      <td>...</td>\n",
       "      <td>...</td>\n",
       "      <td>...</td>\n",
       "      <td>...</td>\n",
       "      <td>...</td>\n",
       "      <td>...</td>\n",
       "      <td>...</td>\n",
       "      <td>...</td>\n",
       "      <td>...</td>\n",
       "      <td>...</td>\n",
       "      <td>...</td>\n",
       "      <td>...</td>\n",
       "      <td>...</td>\n",
       "      <td>...</td>\n",
       "      <td>...</td>\n",
       "      <td>...</td>\n",
       "    </tr>\n",
       "    <tr>\n",
       "      <th>430</th>\n",
       "      <td>-1</td>\n",
       "      <td>-1</td>\n",
       "      <td>1</td>\n",
       "      <td>1</td>\n",
       "      <td>1</td>\n",
       "      <td>1</td>\n",
       "      <td>-1</td>\n",
       "      <td>-1</td>\n",
       "      <td>1</td>\n",
       "      <td>1</td>\n",
       "      <td>-1</td>\n",
       "      <td>1</td>\n",
       "      <td>1</td>\n",
       "      <td>1</td>\n",
       "      <td>-1</td>\n",
       "      <td>1</td>\n",
       "      <td>republican</td>\n",
       "    </tr>\n",
       "    <tr>\n",
       "      <th>431</th>\n",
       "      <td>-1</td>\n",
       "      <td>-1</td>\n",
       "      <td>1</td>\n",
       "      <td>-1</td>\n",
       "      <td>-1</td>\n",
       "      <td>-1</td>\n",
       "      <td>1</td>\n",
       "      <td>1</td>\n",
       "      <td>1</td>\n",
       "      <td>1</td>\n",
       "      <td>-1</td>\n",
       "      <td>-1</td>\n",
       "      <td>-1</td>\n",
       "      <td>-1</td>\n",
       "      <td>-1</td>\n",
       "      <td>1</td>\n",
       "      <td>democrat</td>\n",
       "    </tr>\n",
       "    <tr>\n",
       "      <th>432</th>\n",
       "      <td>-1</td>\n",
       "      <td>0</td>\n",
       "      <td>-1</td>\n",
       "      <td>1</td>\n",
       "      <td>1</td>\n",
       "      <td>1</td>\n",
       "      <td>-1</td>\n",
       "      <td>-1</td>\n",
       "      <td>-1</td>\n",
       "      <td>-1</td>\n",
       "      <td>1</td>\n",
       "      <td>1</td>\n",
       "      <td>1</td>\n",
       "      <td>1</td>\n",
       "      <td>-1</td>\n",
       "      <td>1</td>\n",
       "      <td>republican</td>\n",
       "    </tr>\n",
       "    <tr>\n",
       "      <th>433</th>\n",
       "      <td>-1</td>\n",
       "      <td>-1</td>\n",
       "      <td>-1</td>\n",
       "      <td>1</td>\n",
       "      <td>1</td>\n",
       "      <td>1</td>\n",
       "      <td>0</td>\n",
       "      <td>0</td>\n",
       "      <td>0</td>\n",
       "      <td>0</td>\n",
       "      <td>-1</td>\n",
       "      <td>1</td>\n",
       "      <td>1</td>\n",
       "      <td>1</td>\n",
       "      <td>-1</td>\n",
       "      <td>1</td>\n",
       "      <td>republican</td>\n",
       "    </tr>\n",
       "    <tr>\n",
       "      <th>434</th>\n",
       "      <td>-1</td>\n",
       "      <td>1</td>\n",
       "      <td>-1</td>\n",
       "      <td>1</td>\n",
       "      <td>1</td>\n",
       "      <td>1</td>\n",
       "      <td>-1</td>\n",
       "      <td>-1</td>\n",
       "      <td>-1</td>\n",
       "      <td>1</td>\n",
       "      <td>-1</td>\n",
       "      <td>1</td>\n",
       "      <td>1</td>\n",
       "      <td>1</td>\n",
       "      <td>0</td>\n",
       "      <td>-1</td>\n",
       "      <td>republican</td>\n",
       "    </tr>\n",
       "  </tbody>\n",
       "</table>\n",
       "<p>435 rows × 17 columns</p>\n",
       "</div>"
      ],
      "text/plain": [
       "     1  2  3  4  5  6  7  8  9  10  11  12  13  14  15  16       party\n",
       "0   -1  1 -1  1  1  1 -1 -1 -1   1   0   1   1   1  -1   1  republican\n",
       "1   -1  1 -1  1  1  1 -1 -1 -1  -1  -1   1   1   1  -1   0  republican\n",
       "2    0  1  1  0  1  1 -1 -1 -1  -1   1  -1   1   1  -1  -1    democrat\n",
       "3   -1  1  1 -1  0  1 -1 -1 -1  -1   1  -1   1  -1  -1   1    democrat\n",
       "4    1  1  1 -1  1  1 -1 -1 -1  -1   1   0   1   1   1   1    democrat\n",
       "..  .. .. .. .. .. .. .. .. ..  ..  ..  ..  ..  ..  ..  ..         ...\n",
       "430 -1 -1  1  1  1  1 -1 -1  1   1  -1   1   1   1  -1   1  republican\n",
       "431 -1 -1  1 -1 -1 -1  1  1  1   1  -1  -1  -1  -1  -1   1    democrat\n",
       "432 -1  0 -1  1  1  1 -1 -1 -1  -1   1   1   1   1  -1   1  republican\n",
       "433 -1 -1 -1  1  1  1  0  0  0   0  -1   1   1   1  -1   1  republican\n",
       "434 -1  1 -1  1  1  1 -1 -1 -1   1  -1   1   1   1   0  -1  republican\n",
       "\n",
       "[435 rows x 17 columns]"
      ]
     },
     "execution_count": 382,
     "metadata": {},
     "output_type": "execute_result"
    }
   ],
   "source": [
    "df"
   ]
  },
  {
   "cell_type": "code",
   "execution_count": 375,
   "metadata": {},
   "outputs": [
    {
     "data": {
      "text/html": [
       "<div>\n",
       "<style scoped>\n",
       "    .dataframe tbody tr th:only-of-type {\n",
       "        vertical-align: middle;\n",
       "    }\n",
       "\n",
       "    .dataframe tbody tr th {\n",
       "        vertical-align: top;\n",
       "    }\n",
       "\n",
       "    .dataframe thead th {\n",
       "        text-align: right;\n",
       "    }\n",
       "</style>\n",
       "<table border=\"1\" class=\"dataframe\">\n",
       "  <thead>\n",
       "    <tr style=\"text-align: right;\">\n",
       "      <th></th>\n",
       "      <th>1</th>\n",
       "      <th>2</th>\n",
       "      <th>3</th>\n",
       "      <th>4</th>\n",
       "      <th>5</th>\n",
       "      <th>6</th>\n",
       "      <th>7</th>\n",
       "      <th>8</th>\n",
       "      <th>9</th>\n",
       "      <th>10</th>\n",
       "      <th>11</th>\n",
       "      <th>12</th>\n",
       "      <th>13</th>\n",
       "      <th>14</th>\n",
       "      <th>15</th>\n",
       "      <th>16</th>\n",
       "    </tr>\n",
       "  </thead>\n",
       "  <tbody>\n",
       "    <tr>\n",
       "      <th>0</th>\n",
       "      <td>n</td>\n",
       "      <td>y</td>\n",
       "      <td>n</td>\n",
       "      <td>y</td>\n",
       "      <td>y</td>\n",
       "      <td>y</td>\n",
       "      <td>n</td>\n",
       "      <td>n</td>\n",
       "      <td>n</td>\n",
       "      <td>y</td>\n",
       "      <td>?</td>\n",
       "      <td>y</td>\n",
       "      <td>y</td>\n",
       "      <td>y</td>\n",
       "      <td>n</td>\n",
       "      <td>y</td>\n",
       "    </tr>\n",
       "    <tr>\n",
       "      <th>1</th>\n",
       "      <td>n</td>\n",
       "      <td>y</td>\n",
       "      <td>n</td>\n",
       "      <td>y</td>\n",
       "      <td>y</td>\n",
       "      <td>y</td>\n",
       "      <td>n</td>\n",
       "      <td>n</td>\n",
       "      <td>n</td>\n",
       "      <td>n</td>\n",
       "      <td>n</td>\n",
       "      <td>y</td>\n",
       "      <td>y</td>\n",
       "      <td>y</td>\n",
       "      <td>n</td>\n",
       "      <td>?</td>\n",
       "    </tr>\n",
       "    <tr>\n",
       "      <th>2</th>\n",
       "      <td>?</td>\n",
       "      <td>y</td>\n",
       "      <td>y</td>\n",
       "      <td>?</td>\n",
       "      <td>y</td>\n",
       "      <td>y</td>\n",
       "      <td>n</td>\n",
       "      <td>n</td>\n",
       "      <td>n</td>\n",
       "      <td>n</td>\n",
       "      <td>y</td>\n",
       "      <td>n</td>\n",
       "      <td>y</td>\n",
       "      <td>y</td>\n",
       "      <td>n</td>\n",
       "      <td>n</td>\n",
       "    </tr>\n",
       "    <tr>\n",
       "      <th>3</th>\n",
       "      <td>n</td>\n",
       "      <td>y</td>\n",
       "      <td>y</td>\n",
       "      <td>n</td>\n",
       "      <td>?</td>\n",
       "      <td>y</td>\n",
       "      <td>n</td>\n",
       "      <td>n</td>\n",
       "      <td>n</td>\n",
       "      <td>n</td>\n",
       "      <td>y</td>\n",
       "      <td>n</td>\n",
       "      <td>y</td>\n",
       "      <td>n</td>\n",
       "      <td>n</td>\n",
       "      <td>y</td>\n",
       "    </tr>\n",
       "    <tr>\n",
       "      <th>4</th>\n",
       "      <td>y</td>\n",
       "      <td>y</td>\n",
       "      <td>y</td>\n",
       "      <td>n</td>\n",
       "      <td>y</td>\n",
       "      <td>y</td>\n",
       "      <td>n</td>\n",
       "      <td>n</td>\n",
       "      <td>n</td>\n",
       "      <td>n</td>\n",
       "      <td>y</td>\n",
       "      <td>?</td>\n",
       "      <td>y</td>\n",
       "      <td>y</td>\n",
       "      <td>y</td>\n",
       "      <td>y</td>\n",
       "    </tr>\n",
       "    <tr>\n",
       "      <th>...</th>\n",
       "      <td>...</td>\n",
       "      <td>...</td>\n",
       "      <td>...</td>\n",
       "      <td>...</td>\n",
       "      <td>...</td>\n",
       "      <td>...</td>\n",
       "      <td>...</td>\n",
       "      <td>...</td>\n",
       "      <td>...</td>\n",
       "      <td>...</td>\n",
       "      <td>...</td>\n",
       "      <td>...</td>\n",
       "      <td>...</td>\n",
       "      <td>...</td>\n",
       "      <td>...</td>\n",
       "      <td>...</td>\n",
       "    </tr>\n",
       "    <tr>\n",
       "      <th>430</th>\n",
       "      <td>n</td>\n",
       "      <td>n</td>\n",
       "      <td>y</td>\n",
       "      <td>y</td>\n",
       "      <td>y</td>\n",
       "      <td>y</td>\n",
       "      <td>n</td>\n",
       "      <td>n</td>\n",
       "      <td>y</td>\n",
       "      <td>y</td>\n",
       "      <td>n</td>\n",
       "      <td>y</td>\n",
       "      <td>y</td>\n",
       "      <td>y</td>\n",
       "      <td>n</td>\n",
       "      <td>y</td>\n",
       "    </tr>\n",
       "    <tr>\n",
       "      <th>431</th>\n",
       "      <td>n</td>\n",
       "      <td>n</td>\n",
       "      <td>y</td>\n",
       "      <td>n</td>\n",
       "      <td>n</td>\n",
       "      <td>n</td>\n",
       "      <td>y</td>\n",
       "      <td>y</td>\n",
       "      <td>y</td>\n",
       "      <td>y</td>\n",
       "      <td>n</td>\n",
       "      <td>n</td>\n",
       "      <td>n</td>\n",
       "      <td>n</td>\n",
       "      <td>n</td>\n",
       "      <td>y</td>\n",
       "    </tr>\n",
       "    <tr>\n",
       "      <th>432</th>\n",
       "      <td>n</td>\n",
       "      <td>?</td>\n",
       "      <td>n</td>\n",
       "      <td>y</td>\n",
       "      <td>y</td>\n",
       "      <td>y</td>\n",
       "      <td>n</td>\n",
       "      <td>n</td>\n",
       "      <td>n</td>\n",
       "      <td>n</td>\n",
       "      <td>y</td>\n",
       "      <td>y</td>\n",
       "      <td>y</td>\n",
       "      <td>y</td>\n",
       "      <td>n</td>\n",
       "      <td>y</td>\n",
       "    </tr>\n",
       "    <tr>\n",
       "      <th>433</th>\n",
       "      <td>n</td>\n",
       "      <td>n</td>\n",
       "      <td>n</td>\n",
       "      <td>y</td>\n",
       "      <td>y</td>\n",
       "      <td>y</td>\n",
       "      <td>?</td>\n",
       "      <td>?</td>\n",
       "      <td>?</td>\n",
       "      <td>?</td>\n",
       "      <td>n</td>\n",
       "      <td>y</td>\n",
       "      <td>y</td>\n",
       "      <td>y</td>\n",
       "      <td>n</td>\n",
       "      <td>y</td>\n",
       "    </tr>\n",
       "    <tr>\n",
       "      <th>434</th>\n",
       "      <td>n</td>\n",
       "      <td>y</td>\n",
       "      <td>n</td>\n",
       "      <td>y</td>\n",
       "      <td>y</td>\n",
       "      <td>y</td>\n",
       "      <td>n</td>\n",
       "      <td>n</td>\n",
       "      <td>n</td>\n",
       "      <td>y</td>\n",
       "      <td>n</td>\n",
       "      <td>y</td>\n",
       "      <td>y</td>\n",
       "      <td>y</td>\n",
       "      <td>?</td>\n",
       "      <td>n</td>\n",
       "    </tr>\n",
       "  </tbody>\n",
       "</table>\n",
       "<p>435 rows × 16 columns</p>\n",
       "</div>"
      ],
      "text/plain": [
       "     1  2  3  4  5  6  7  8  9 10 11 12 13 14 15 16\n",
       "0    n  y  n  y  y  y  n  n  n  y  ?  y  y  y  n  y\n",
       "1    n  y  n  y  y  y  n  n  n  n  n  y  y  y  n  ?\n",
       "2    ?  y  y  ?  y  y  n  n  n  n  y  n  y  y  n  n\n",
       "3    n  y  y  n  ?  y  n  n  n  n  y  n  y  n  n  y\n",
       "4    y  y  y  n  y  y  n  n  n  n  y  ?  y  y  y  y\n",
       "..  .. .. .. .. .. .. .. .. .. .. .. .. .. .. .. ..\n",
       "430  n  n  y  y  y  y  n  n  y  y  n  y  y  y  n  y\n",
       "431  n  n  y  n  n  n  y  y  y  y  n  n  n  n  n  y\n",
       "432  n  ?  n  y  y  y  n  n  n  n  y  y  y  y  n  y\n",
       "433  n  n  n  y  y  y  ?  ?  ?  ?  n  y  y  y  n  y\n",
       "434  n  y  n  y  y  y  n  n  n  y  n  y  y  y  ?  n\n",
       "\n",
       "[435 rows x 16 columns]"
      ]
     },
     "execution_count": 375,
     "metadata": {},
     "output_type": "execute_result"
    }
   ],
   "source": [
    "X"
   ]
  },
  {
   "cell_type": "code",
   "execution_count": 383,
   "metadata": {},
   "outputs": [],
   "source": [
    "X = df[list(df.columns[:-1])]\n",
    "y = df['party']\n",
    "reducer_84 = dec.PCA(n_components=2)\n",
    "reducer_svd_84 = dec.TruncatedSVD(n_components=2)\n",
    "X_reduced_84 = reducer.fit_transform(X)\n",
    "X_reduced_svd_84 = reducer_svd.fit_transform(X)"
   ]
  },
  {
   "cell_type": "code",
   "execution_count": 387,
   "metadata": {},
   "outputs": [
    {
     "data": {
      "text/plain": [
       "<matplotlib.collections.PathCollection at 0x17dcc88f0>"
      ]
     },
     "execution_count": 387,
     "metadata": {},
     "output_type": "execute_result"
    },
    {
     "data": {
      "image/png": "[encoded data removed]",
      "text/plain": [
       "<Figure size 1000x1000 with 1 Axes>"
      ]
     },
     "metadata": {},
     "output_type": "display_data"
    }
   ],
   "source": [
    "cm = dict(republican=\"r\",democrat=\"b\")\n",
    "colors = [cm[p] for p in df[\"party\"]]\n",
    "from matplotlib import pyplot as plt\n",
    "(fig, ax) = plt.subplots(1,1,figsize=(10,10))\n",
    "ax.scatter(X_reduced_84[:,0],X_reduced_84[:,1],c=colors)"
   ]
  },
  {
   "cell_type": "code",
   "execution_count": null,
   "metadata": {},
   "outputs": [],
   "source": []
  }
 ],
 "metadata": {
  "kernelspec": {
   "display_name": "Python 3 (ipykernel)",
   "language": "python",
   "name": "python3"
  },
  "language_info": {
   "codemirror_mode": {
    "name": "ipython",
    "version": 3
   },
   "file_extension": ".py",
   "mimetype": "text/x-python",
   "name": "python",
   "nbconvert_exporter": "python",
   "pygments_lexer": "ipython3",
   "version": "3.12.5"
  },
  "toc": {
   "base_numbering": 1,
   "nav_menu": {
    "height": "171px",
    "width": "253px"
   },
   "number_sections": true,
   "sideBar": true,
   "skip_h1_title": false,
   "title_cell": "Table of Contents",
   "title_sidebar": "Contents",
   "toc_cell": false,
   "toc_position": {},
   "toc_section_display": "block",
   "toc_window_display": false
  }
 },
 "nbformat": 4,
 "nbformat_minor": 1
}
