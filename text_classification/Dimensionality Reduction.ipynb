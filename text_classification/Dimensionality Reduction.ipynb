{
 "cells": [
  {
   "cell_type": "markdown",
   "metadata": {},
   "source": [
    "##  Dimensionality Reduction (Truncated SVD and PCA) "
   ]
  },
  {
   "cell_type": "markdown",
   "metadata": {},
   "source": [
    "The iris dataset is a 150x4 2D array. Each row  **represents** an iris with 4 numbers. It is a **4-dimensional representation of the data**.  \n",
    "\n",
    "Another less grandiose way of putting this is that an iris is represented by 4 of its numerical **features**.  \n",
    "In this notebook,\n",
    "we've explored training a classifier on different subsets of those  4 features, and also on\n",
    "all 4 features.  \n",
    "\n",
    "But why limit ourselves to representations constructed out of subsets of the original 4 features?\n",
    "In the assignment, you are asked to test classifiers trained on **different** representations of the data,\n",
    "for example, on a sepal area feature computed by multiplying the sepal length of each iris\n",
    "by its sepal width.  There is also a petal area representation computed by multiplying the petal length of each iris  by its petal width.  And of course, there is a representation consisting of both sepal\n",
    "area and sepal width, ostensibly a 2D representation (the classifier is trained a 150x2 array),\n",
    "but really constructed from information extracted from all 4 dimensions of the original data\n",
    "(we have been referring to Questions 4a and 4b of the assignment).  This sort of transformation of the data, using the original 4 dimensions to compute a 2-dimensional alternative representation, is called **dimensionality reduction**.  The exercise in the homework -- computing 2 area features -- is an intuitively appealing way of representing the data.  It makes sense -- and even better -- it works pretty well.  This is dimensionality reduction by clever idea.\n",
    "\n",
    "But there is a whole cottage industry devoted to finding **algorithms** for dimensionality reduction.  A dimensionality reduction algorithm is a program which, given a dataset of $n$ dimensions, and a target\n",
    "number of dimensions $m$ ($m \\lt n$), finds the **best** $m$-dimensional representation of that\n",
    "data under some very precise mathematical definition of what \"best\" means.  For\n",
    "example, viewing the data as  150 points in 4-dimensional space, consider each of the pairwise distances\n",
    "(that's 11,175 distances). We might define the best 2D representation as the one that minimizes the overall change in distances between the points.  Thus, if we're we're successful, a certain\n",
    "kind of relationship among the data points is preserved as much as possible.\n",
    "Defining Euclidean distance as what's preserved might be a good\n",
    "idea, for example, if we're using our 2D representation for\n",
    "visualization.  Points that are close in the 4D representation remain close in the \n",
    "reduced representation, so  we're getting a relatively undistorted view\n",
    "of the distance relationships between points in the data, relationships\n",
    "that can't be visualized in the original data.  Optimal distance preservation\n",
    "is the objective of a dimensionality reduction algorithm called\n",
    "**Multi-Dimensional Scaling** (MDS).\n",
    "\n",
    "But the uses of dimensionality reduction go far beyond creating\n",
    "informative visualizations. The general problem of data analysis is discovering\n",
    "meaningful relationships in your data.  This is made more difficult when there\n",
    "are many dimensions (many variables).  Thus, automatic ways of discovering redundancies\n",
    "among the variables, allowing for two or more variables to be compressed into\n",
    "one, or five variables to be compressed into three, are useful both\n",
    "cognitively and computationally. Reduction of variables may make generalizations\n",
    "easier to see or it may bring some computational analysis that was unfeasible\n",
    "suddenly within reach (for example K-Nearest Neighbor Regression,\n",
    "which we used as our example of a nonlinear regressor, may\n",
    "become computationally infeasible with high-dimensionality data,\n",
    "so doing KNN on data that has had its dimensionality reduced in some\n",
    "way is common).\n",
    "Generally reducing dimensions will lose information.\n",
    "Thus, the general goal of dimensionality reduction is to reduce as much as possible while \n",
    "achieving the best possible approximation of the original data.  The different way\n",
    "of defining and implementing these goals distinguish various\n",
    "approaches to dimensionality reduction.  We'll go through this\n",
    "more slowly below.\n",
    "\n",
    "\n",
    "One of the most famous  dimensionality reductions technique is **Principle Components Analysis** (PCA).\n",
    "This is closely related to Truncated SVD (as it's called in scikit learn), which we'll explain first,\n",
    "because it's simpler. The SVD in Truncated SVD refers to a  key concept in Linear Algebra,\n",
    "the **singular value decomposition (SVD) of a matrix**.  The SVD of a matrix $A$\n",
    "decomposes it into an exact product of three matrices computed by finding the Eigenvectors and Eigenvalues\n",
    "of $A^{T}A$.  The \"truncation\" in Truncated SVD \n",
    "refers to how the dimensionality reduction is achieved: Use only the\n",
    "top $m$ components (corresponding to the top $m$ leading eigenvalues) of the decomposition.\n",
    "So we start with an **exact decomposition** (the SVD) and then make it approximate\n",
    "by leaving out all but the $m$ most important factors (more precisely, zeroing out the others)  Truncated SVD applied to term-document matrices is called Latent Semantic Analysis or Latent Semantic Indexing (LSA or LSI).  PCA does essentially the same thing as truncated SVD but starts with centered data; if $C$ is the centered version of $A$, then  $C^{T}C$ is the covariance matrix of $A$, so the eigenvectors found are the eigenvectors of the covariance matrix; a consequence of this is that the top $m$ leading eigenvectors are the $m$ vectors that do the best job of accounting for the variance in the data.\n",
    "\n",
    "It's a rather amazing fact about the truncated SVD that it gives the \n",
    "best $m$-dimensional approximation of the original  data, \n",
    "as measured by something called the Frobenius Norm.  The rigorous idea that\n",
    "you would explore in a Linear Algebra course is that truncated SVD gives\n",
    "the best **rank** $m$ approximation.\n",
    "\n",
    "The scikit learn toolset provides implementations of a number of dimensionality reduction tools\n",
    "or tools that can be used to generate reduced output, including\n",
    "Principle Components Analysis (PCA, see `sklearn.decomposition.PCA` illustrated below ),\n",
    "Truncated SVD (see `sklearn.decomposition.TruncatedSVD` also illustrated below), \n",
    "Kernel PCA (`sklearn.decomposition.KernelPCA`, illustrated below for the RBF Kernel), \n",
    "Multidimensional Scaling (MDS, see `sklearn.manifold.MDS`),\n",
    "Non Negative Matrix Factorization (NMF, see `sklearn.decomposition.NMF`),\n",
    "Factor Analysis (see `sklearn.decomposition.FactorAnalysis`),\n",
    "and Linear Discriminant Analysis (LDA, see `sklearn.discriminant_analysis.LinearDiscriminantAnalysis`), \n",
    "well as [numerous others.](https://scikit-learn.org/stable/modules/classes.html#module-sklearn.decomposition)\n",
    "\n",
    "The interested reader should consult [Sumithra and Surendran (2015)](https://citeseerx.ist.psu.edu/document?repid=rep1&type=pdf&doi=ed2fc78cf5d7eb8233deaa9dde8f42b1e2d7f661),\n",
    "which is a survey of dimensionality reduction techniques,\n",
    "discussing TruncatedSVD, PCA and\n",
    "and at least 10 others.   Additionally, there is Uniform Manifold Approximation\n",
    "and Projection (UMAP), for which [a Python implementation](https://umap-learn.readthedocs.io/en/latest/how_umap_works.html) exists which has been applied to topic\n",
    "modelling in [BERT.](https://www.pinecone.io/learn/bertopic/)\n",
    "And of course, this list is incomplete.  As we said at the outset,\n",
    "dimensionality reduction is an **industry**.\n",
    "\n",
    "Our goal here is simply to introduce the\n",
    "idea of this kind of data analysis and to give some general motivations.  We\n",
    "will illustrate by applying PCA to the iris data set, visualizing the result,\n",
    "and apply it to the iris classification task."
   ]
  },
  {
   "cell_type": "markdown",
   "metadata": {},
   "source": [
    "Reloading"
   ]
  },
  {
   "cell_type": "code",
   "execution_count": 395,
   "metadata": {},
   "outputs": [
    {
     "name": "stdout",
     "output_type": "stream",
     "text": [
      "(150, 4)\n"
     ]
    }
   ],
   "source": [
    "import numpy as np\n",
    "import sklearn\n",
    "import sklearn.decomposition as dec\n",
    "#import sklearn.manifold as man\n",
    "from sklearn import linear_model\n",
    "from sklearn.metrics import accuracy_score, recall_score, precision_score\n",
    "import sklearn.datasets \n",
    "import matplotlib.pyplot as plt\n",
    "from sklearn.metrics.pairwise import euclidean_distances#cosine_similarity\n",
    "\n",
    "iris = sklearn.datasets.load_iris()\n",
    "X = iris.data\n",
    "y = iris.target\n",
    "print(X.shape)"
   ]
  },
  {
   "cell_type": "markdown",
   "metadata": {},
   "source": [
    "Now let's reduce the data to 2 dimensions using `PCA`; we'll also use `TruncatedSVD` for comparison."
   ]
  },
  {
   "cell_type": "code",
   "execution_count": 396,
   "metadata": {},
   "outputs": [],
   "source": [
    "X = iris.data\n",
    "reducer = dec.PCA(n_components=2)\n",
    "reducer_svd = dec.TruncatedSVD(n_components=2)\n",
    "#reducer_mds = man.MDS(n_components=2,normalized_stress=\"auto\")\n",
    "\n",
    "X_reduced = reducer.fit_transform(X)\n",
    "X_reduced_svd = reducer_svd.fit_transform(X)\n",
    "#X_reduced_mds = reducer_mds.fit_transform(X)"
   ]
  },
  {
   "cell_type": "markdown",
   "metadata": {},
   "source": [
    "Now we said above that one criterion for a good dimensionality\n",
    "reduction is that it represents the data `X`  as `X_reduced`, where\n",
    "`X_reduced` has fewer dimensions,\n",
    "while approximating it as well as possible.\n",
    "Let's try to measure how good an approximation\n",
    "of `X` `X_reduced` gives. We can't directly\n",
    "compare `X` and `X_reduced` because they have different dimensionality,\n",
    "so we **untransform** `X_reduced` and use \n",
    "Frobenius Norm (`scipy.linalg.norm(X-X',ord=\"for\")`\n",
    "to quantify the difference between `X` and its untransformed\n",
    "version. In this context, Frobenius Norm becomes a \n",
    "measure of (the square root of summed) squared errors.\n",
    "\n",
    "The details of this will make more sense after we develop some other ideas."
   ]
  },
  {
   "cell_type": "code",
   "execution_count": 397,
   "metadata": {},
   "outputs": [],
   "source": [
    "import scipy\n",
    "\n",
    "def information_lost(X, X_reduced, transformer):\n",
    "    \"\"\"\n",
    "    Meaasure the amount of information lost by the transformer.\n",
    "    \n",
    "    Reverse the transformation and look at the difference matrix gotten\n",
    "    by subtracting X_reduced reverse-transformed from X. In the ideal\n",
    "    case of no information lost this difference should be 0.\n",
    "    \n",
    "    Compare the frobenius norm  (a kind of length\n",
    "    measure for matrices) of the difference matrix to the frobenius norm of X.\n",
    "    \"\"\"\n",
    "    return scipy.linalg.norm(X - transformer.inverse_transform(X_reduced),ord=\"fro\")\n",
    "\n",
    "def percent_information_loss(X, X_reduced, reansformer):\n",
    "    return information_lost(X, X_reduced, transformer)/scipy.linalg.norm(X,ord=\"fro\")"
   ]
  },
  {
   "cell_type": "markdown",
   "metadata": {},
   "source": [
    "Here's our measure of information loss for PCA"
   ]
  },
  {
   "cell_type": "code",
   "execution_count": 398,
   "metadata": {},
   "outputs": [
    {
     "data": {
      "text/plain": [
       "3.899313318962578"
      ]
     },
     "execution_count": 398,
     "metadata": {},
     "output_type": "execute_result"
    }
   ],
   "source": [
    "information_lost(X, X_reduced, reducer)"
   ]
  },
  {
   "cell_type": "markdown",
   "metadata": {},
   "source": [
    "And here it is for truncated SVD:"
   ]
  },
  {
   "cell_type": "code",
   "execution_count": 399,
   "metadata": {},
   "outputs": [
    {
     "data": {
      "text/plain": [
       "3.940889887879374"
      ]
     },
     "execution_count": 399,
     "metadata": {},
     "output_type": "execute_result"
    }
   ],
   "source": [
    "information_lost(X, X_reduced_svd, reducer_svd)"
   ]
  },
  {
   "cell_type": "markdown",
   "metadata": {},
   "source": [
    "#### Understanding the Components in Principle Components Analysis\n",
    "\n",
    "Now, before can understand how our PCA representations  approximate the original data,\n",
    "we have to understand what the  **Components** in Principle Components Analysis (or SVD\n",
    "reduction) are, and why they are **Principle**. Simply put, they are the $m$ (for us $m=2$)  4D **axes** (or vectors) that most naturally represent the data. \n",
    "\n",
    "Here are the components of our reduction:"
   ]
  },
  {
   "cell_type": "code",
   "execution_count": 222,
   "metadata": {},
   "outputs": [
    {
     "data": {
      "text/plain": [
       "array([[ 0.75110816,  0.38008617,  0.51300886,  0.16790754],\n",
       "       [ 0.2841749 ,  0.5467445 , -0.70866455, -0.34367081]])"
      ]
     },
     "execution_count": 222,
     "metadata": {},
     "output_type": "execute_result"
    }
   ],
   "source": [
    "axes = reducer_svd.components_\n",
    "axes"
   ]
  },
  {
   "cell_type": "markdown",
   "metadata": {},
   "source": [
    "The two rows are the 4D components.  We have named them `axes`, because that's how they're\n",
    "going to be used.  They are in fact the two leading eigenvectors of $X^TX$.\n",
    "\n",
    "Here are all four:"
   ]
  },
  {
   "cell_type": "code",
   "execution_count": 225,
   "metadata": {
    "scrolled": true
   },
   "outputs": [
    {
     "data": {
      "text/plain": [
       "array([[ 0.75110816,  0.38008617,  0.51300886,  0.16790754],\n",
       "       [ 0.2841749 ,  0.5467445 , -0.70866455, -0.34367081],\n",
       "       [ 0.50215472, -0.67524332, -0.05916621, -0.53701625],\n",
       "       [ 0.32081425, -0.31725607, -0.48074507,  0.75187165]])"
      ]
     },
     "execution_count": 225,
     "metadata": {},
     "output_type": "execute_result"
    }
   ],
   "source": [
    "import scipy\n",
    "\n",
    "# eig_values = scipy.linalg.eig(X.T@X)[0] \n",
    "eigs = scipy.linalg.eig(X.T@X)[1].T\n",
    "eigs"
   ]
  },
  {
   "cell_type": "markdown",
   "metadata": {},
   "source": [
    "To find the 2D truncated_svd representation of iris $i$, which is row $i$ of our data $X$, we find the coordinates of row $i$ with respect to the first two eigenvectors.  For example, for the coordinate with respect to `axes[0]`, let $u$ be\n",
    "`axes[0]`, which is a unit vector, and let $\\theta$ be the angle between $X_{i}$ and $u$. \n",
    "\n",
    "Schematically:"
   ]
  },
  {
   "cell_type": "code",
   "execution_count": 327,
   "metadata": {
    "scrolled": true
   },
   "outputs": [
    {
     "data": {
      "text/plain": [
       "[]"
      ]
     },
     "execution_count": 327,
     "metadata": {},
     "output_type": "execute_result"
    },
    {
     "data": {
      "image/png": "[encoded data removed]",
      "text/plain": [
       "<Figure size 600x400 with 1 Axes>"
      ]
     },
     "metadata": {},
     "output_type": "display_data"
    }
   ],
   "source": [
    "fig, ax = plt.subplots(1, 1, figsize=(6, 4))\n",
    "newX = np.arange(0,3,.01)\n",
    "slope = 3\n",
    "newY = (slope*newX)\n",
    "Data = np.concatenate([newX[:,np.newaxis],newY[:,np.newaxis]],axis=1)\n",
    "ax.plot(newX,newY,c=\"r\")\n",
    "ax.plot([0,newX[-1]],[0,0],c=\"b\")\n",
    "ax.annotate(r\"$\\theta$\",(0,0),textcoords=\"offset points\",xytext=(20,4),fontsize=12)\n",
    "ax.annotate(r\"$u$\",(1.5,0),textcoords=\"offset points\",xytext=(20,6),fontsize=12)\n",
    "ax.annotate(r\"$X_{i}$\",(1.2,4.5),textcoords=\"offset points\",xytext=(20,6),fontsize=12,rotation=45)\n",
    "# Hide X and Y axes tick marks\n",
    "ax.set_xticks([])\n",
    "ax.set_yticks([])"
   ]
  },
  {
   "cell_type": "markdown",
   "metadata": {},
   "source": [
    "Then:\n",
    "\n",
    "$$\n",
    "\\begin{array}[t]{ll}\n",
    "(1) & \\text{Coord}_{u}(X_i) = \\, \\mid\\! X_{i} \\!\\mid \\cos{\\theta} =\\,\n",
    "          \\mid\\! X_{i} \\!\\mid  \\frac{X_{i}\\cdot u}{ \\,\\mid X_{i} \\mid \\cdot \\mid u \\mid\\,} =\\,\n",
    "         \\mid\\! X_{i} \\!\\mid  \\frac{X_{i}\\cdot u}{\\, \\mid X_{i} \\mid \\cdot \\,1} = X_{i}\\cdot u\n",
    "\\end{array}\n",
    "$$  \n",
    "\n",
    "\n",
    "Here we've used a standard formula for the cosine of the angle between\n",
    "two vectors, which, happily, does not require knowing the angle.\n",
    "And the result is that the coordinate of a point $X_i$ with respect to an axis, is just\n",
    "the dot product of the $X_{i}$ vector with the unit vector in the direction\n",
    "of the axis.\n",
    "\n",
    "Let's drill one level deeper to see what a component (or new axis) really is.  The dot product of two vectors is the sum of the products of their corresponding\n",
    "values.  Here's what dot product\n",
    "actually amounts to for our data, with $u$ the first column of `axes` and\n",
    "`Xi` row $i$ of the data:\n",
    "\n",
    "$$\n",
    "\\begin{array}[t]{lcl}\n",
    "\\text{Coord}_{u}(X_{i}) &=& X_{i}\\cdot u\\\\\n",
    "                        &=& X_{i}[0]\\cdot u[0] +\n",
    "                            X_{i}[1]\\cdot u[1] +\n",
    "                            X_{i}[2]\\cdot u[2] +\n",
    "                            X_{i}[3]\\cdot u[3]\n",
    "\\end{array}\n",
    "$$\n",
    "\n",
    "That is, the first coordinate for the transformed version of $X_{i}$ is actually a linear combination of the \n",
    "original coordinates of $X_{i}$, with the coefficients given by $u$, the first or **principle**\n",
    "component.  The second coordinate will be the dot product of $X_{i}$ with the\n",
    "second component  (`axes[1]`). \n",
    "\n",
    "Conveniently, Equation (1) means that the way to transform an entire data set `X` into the new\n",
    "coordinate system is just\n",
    "the matrix product of  the axes (`axes`, shape 2x4) with our transposed data `X.T`.  Writing $U$  for the\n",
    "matrix that contains the unit vectors for the axes, that matrix product is usually written this way:\n",
    "\n",
    "$$\n",
    "U\\,X^{T}\n",
    "$$\n",
    "\n",
    "For our example, $U$ = `axes` and the 1D array containing the $X_{i}$ coordinates with respect to both\n",
    "axes is just the matrix product of `axes` with $X_i$.\n",
    "\n",
    "The code to demonstrate this (matrix product in `numpy` is `@`):"
   ]
  },
  {
   "cell_type": "code",
   "execution_count": 360,
   "metadata": {},
   "outputs": [
    {
     "name": "stdout",
     "output_type": "stream",
     "text": [
      "[4.7 3.2 1.3 0.2]\n",
      "[5.44697714 2.09520636]\n"
     ]
    },
    {
     "data": {
      "text/plain": [
       "array([5.44697714, 2.09520636])"
      ]
     },
     "execution_count": 360,
     "metadata": {},
     "output_type": "execute_result"
    }
   ],
   "source": [
    "from scipy.linalg import norm\n",
    "i = 2\n",
    "Xi = X[i,:]\n",
    "print(Xi)\n",
    "# Computing the coords two equivalent ways\n",
    "print(np.array((Xi.dot(axes[0,:]), Xi.dot(axes[1,:]))))\n",
    "axes@Xi"
   ]
  },
  {
   "cell_type": "markdown",
   "metadata": {},
   "source": [
    "What we've just done is more conveniently implemented in Scikit Learn as the `.transform()` method.\n",
    "\n",
    "This method requires a 2D data array, so to apply it to the 1D array `Xi`, we convert it to a \n",
    "2D array (a data matrix with one row):"
   ]
  },
  {
   "cell_type": "code",
   "execution_count": 229,
   "metadata": {},
   "outputs": [
    {
     "name": "stdout",
     "output_type": "stream",
     "text": [
      "[[5.44697714 2.09520636]]\n"
     ]
    }
   ],
   "source": [
    "print(reducer_svd.transform(Xi[np.newaxis,:]))"
   ]
  },
  {
   "cell_type": "markdown",
   "metadata": {},
   "source": [
    "Call the reduced iris representation (the 2D representation of 4D data) `Xi_reduced`:\n",
    "\n",
    "```python\n",
    "Xi_reduced = axes@Xi\n",
    "```\n",
    "\n",
    "To  compute an estimate of `Xi` from `Xi_reduced`, we need to **untransform** `Xi`,\n",
    "take it back to 4 dimensions.  To do that, we just add the 4D component vectors,\n",
    "weighted by the coordinates of `Xi_reduced`.\n",
    "\n",
    "```python\n",
    "(1) Xi_unreduced = Xi_reduced[0]* axes[0] + Xi_reduced[1]* axes[1]\n",
    "```\n",
    "\n",
    "And algebraically the right-hand side is the same as \n",
    "`axes.T@Xi_reduced` (column-space view of matrix multiplication)."
   ]
  },
  {
   "cell_type": "code",
   "execution_count": 361,
   "metadata": {
    "scrolled": true
   },
   "outputs": [
    {
     "name": "stdout",
     "output_type": "stream",
     "text": [
      "                                                 Xi=array([4.7, 3.2, 1.3, 0.2])\n",
      "                                         Xi_reduced=array([5.44697714, 2.09520636])\n",
      "\n",
      "Xi_reduced[0]* axes[:,0] + Xi_reduced[1]* axes[:,1]=array([4.88762795, 2.69343675])\n",
      "                                    axes.T@Xi_reduced=array([4.68667405, 3.21586325, 1.30954904, 0.19452725])\n"
     ]
    }
   ],
   "source": [
    "Xi = X[i,:]                #  The original Xi\n",
    "Xi_reduced = axes@Xi       # The 2D representation of Xi\n",
    "\n",
    "print(f\"                                                 {Xi=}\")    \n",
    "print(f\"                                         {Xi_reduced=}\")             \n",
    "        \n",
    "\n",
    "# Two equivalent ways of unreducing reduced_Xi\n",
    "print()\n",
    "print(f\"{Xi_reduced[0]* axes[:,0] + Xi_reduced[1]* axes[:,1]=}\")\n",
    "print(f\"                                    {axes.T@Xi_reduced=}\") "
   ]
  },
  {
   "cell_type": "markdown",
   "metadata": {},
   "source": [
    "Let's call our estimate of `Xi`\n",
    "\n",
    "```\n",
    "array([4.68667405, 3.21586325, 1.30954904, 0.19452725])\n",
    "```\n",
    "\n",
    "`Xi_unreduced`.  "
   ]
  },
  {
   "cell_type": "markdown",
   "metadata": {},
   "source": [
    "We'll now look at how good an estimate we have:"
   ]
  },
  {
   "cell_type": "code",
   "execution_count": 400,
   "metadata": {},
   "outputs": [
    {
     "name": "stdout",
     "output_type": "stream",
     "text": [
      "[ 0.01332595 -0.01586325 -0.00954904  0.00547275]\n"
     ]
    }
   ],
   "source": [
    "Xi_unreduced = axes.T@Xi_reduced\n",
    "print(Xi - Xi_unreduced)  # All differences are small"
   ]
  },
  {
   "cell_type": "markdown",
   "metadata": {},
   "source": [
    "And what's called the Frobenius Norm gives us a  sum-of-squared-errors-like numerical measure\n",
    "of what's lost:"
   ]
  },
  {
   "cell_type": "code",
   "execution_count": 236,
   "metadata": {},
   "outputs": [
    {
     "name": "stdout",
     "output_type": "stream",
     "text": [
      "[ 0.01332595 -0.01586325 -0.00954904  0.00547275]\n",
      "0.02345972751109684\n"
     ]
    }
   ],
   "source": [
    "print(np.linalg.norm((Xi - Xi_unreduced)[np.newaxis,:],ord=\"fro\")) "
   ]
  },
  {
   "cell_type": "markdown",
   "metadata": {},
   "source": [
    "So `Xi_unreduced` is just `Xi` with a little information loss.  There wouldn't be any\n",
    "information loss if we weren't truncating the sum in the SVD representation (recall that\n",
    "`axes` has  only 2 of the 4 eigenvectors)."
   ]
  },
  {
   "cell_type": "markdown",
   "metadata": {},
   "source": [
    "What we did above with `axes.T@Xi_reduced` to unreduce the 2D SVD representation\n",
    "is more conveniently implemented in Scikit Learn\n",
    "as the inverse transform method, which, like the `.transform()` method, requires\n",
    "a 2D array as its argument:"
   ]
  },
  {
   "cell_type": "code",
   "execution_count": 372,
   "metadata": {},
   "outputs": [
    {
     "name": "stdout",
     "output_type": "stream",
     "text": [
      "[[4.68667405 3.21586325 1.30954904 0.19452725]]\n"
     ]
    }
   ],
   "source": [
    "print(reducer_svd.inverse_transform(X_reduced_svd[i:i+1,:]))"
   ]
  },
  {
   "cell_type": "markdown",
   "metadata": {},
   "source": [
    "To get the feel of what information loss means, let's try using all 4 eigenvectors \n",
    "on irix `Xi`.  We won't be \"reducing\" dimensionality, but we will be representing\n",
    "iris `Xi` with respect to different axes:"
   ]
  },
  {
   "cell_type": "code",
   "execution_count": 402,
   "metadata": {},
   "outputs": [
    {
     "name": "stdout",
     "output_type": "stream",
     "text": [
      "[4.7 3.2 1.3 0.2]\n",
      "[5.44697714 2.09520636 0.01502926 0.01801333]\n",
      "[4.7 3.2 1.3 0.2]\n"
     ]
    }
   ],
   "source": [
    "print(Xi) \n",
    "# A 4D rep of Xi using all 4 eigenvectors as the axes.\n",
    "new_Xi = eigs@Xi\n",
    "print(new_Xi)\n",
    "print(eigs.T@new_Xi)  # new_Xi untransformed "
   ]
  },
  {
   "cell_type": "markdown",
   "metadata": {},
   "source": [
    "Zero information loss.  Of course the code we just used on 4 eigenvectors could\n",
    "also have been done with any 4 orthogonal unit vectors,\n",
    "and also with zero information loss.\n",
    "\n",
    "To demonstrate, we create four random orthogonal unit vectors."
   ]
  },
  {
   "cell_type": "code",
   "execution_count": 403,
   "metadata": {},
   "outputs": [
    {
     "name": "stdout",
     "output_type": "stream",
     "text": [
      "[1. 1. 1. 1.]\n"
     ]
    },
    {
     "data": {
      "text/plain": [
       "-5.551115123125783e-17"
      ]
     },
     "execution_count": 403,
     "metadata": {},
     "output_type": "execute_result"
    }
   ],
   "source": [
    "def gram_schmidt_columns(X):\n",
    "    Q, R = np.linalg.qr(X)\n",
    "    return Q.T\n",
    "\n",
    "def random_orthogonal_unit_vectors(n=4):\n",
    "    n_randos = np.random.randn(n**2).reshape((n,n))\n",
    "    return gram_schmidt_columns(n_randos)\n",
    "\n",
    "normed_ortho_randos = random_orthogonal_unit_vectors()\n",
    "\n",
    "# The columns are unit vectors \n",
    "print(np.linalg.norm(normed_ortho_randos,axis=1))\n",
    "# The rows are also orthogonal to one another (dot product is 0 or close to it computationally)\n",
    "normed_ortho_randos[0].dot(normed_ortho_randos[3])\n"
   ]
  },
  {
   "cell_type": "markdown",
   "metadata": {},
   "source": [
    "Representing `Xi` using these random axes, then untransforming with zero information loss"
   ]
  },
  {
   "cell_type": "code",
   "execution_count": 404,
   "metadata": {},
   "outputs": [
    {
     "name": "stdout",
     "output_type": "stream",
     "text": [
      "[4.7 3.2 1.3 0.2]\n",
      "[-0.31683899 -3.13957229 -2.07797154 -4.44800328]\n",
      "[4.7 3.2 1.3 0.2]\n"
     ]
    }
   ],
   "source": [
    "print(Xi)\n",
    "\n",
    "new_Xi = normed_ortho_randos@Xi\n",
    "print(new_Xi)\n",
    "\n",
    "XiU = normed_ortho_randos.T@new_Xi\n",
    "print(XiU)"
   ]
  },
  {
   "cell_type": "markdown",
   "metadata": {},
   "source": [
    "The magic of SVD eigenvectors is thus not that these 4 vectors can represent the data,\n",
    "but that just 2 of them can do so with very little information loss.\n",
    "\n",
    "Compare using the first 2 of our `normed_ortho_randos` and computing the information loss\n",
    "by reducing and unreducing:"
   ]
  },
  {
   "cell_type": "code",
   "execution_count": 405,
   "metadata": {},
   "outputs": [
    {
     "name": "stdout",
     "output_type": "stream",
     "text": [
      "(2, 150)\n",
      "Info loss with random orthogonal unit vectors: 85.86\n",
      "Info loss with Truncated SVD unit vectors:      3.94\n"
     ]
    }
   ],
   "source": [
    "X_reduced_rando = normed_ortho_randos[:2,:]@X.T\n",
    "print(X_reduced_rando.shape)\n",
    "#The inverse of normed_ortho_randos is normed_ortho_randos.T\n",
    "X_rando = normed_ortho_randos[:2,:].T@X_reduced_rando\n",
    "print(f\"Info loss with random orthogonal unit vectors: {np.linalg.norm(X-X_rando.T,ord='fro'):.2f}\")\n",
    "print(f\"Info loss with Truncated SVD unit vectors:     {information_lost(X, X_reduced_svd, reducer_svd): 5.2f}\")"
   ]
  },
  {
   "cell_type": "markdown",
   "metadata": {},
   "source": [
    "Linear Algebra teaches us that the Truncated SVD reduction \n",
    "gives the best rank 2 estimate of the original data,\n",
    "and we have just seen an example of what that means by\n",
    "seeing that the Truncated SVD axes yield a better estimate than \n",
    "two randomly chosen axes.\n",
    "\n",
    "Summing up, we reduce dimensionality, losing information; that means the reduced data yields only \n",
    "an estimate of the original data. But with Truncated SVD we reduce in such a way that we have the best\n",
    "estimate.\n",
    "\n",
    "The high-level description of how Truncated SVD does this is that it uses\n",
    "the $m$ leading eigenvectors of $X^TX$. We're not going\n",
    "to attempt here to explain how this works or indeed what eigenvectors\n",
    "are. The key takeaway is that they provide  *magic* axes:\n",
    "\n",
    "1. `Xi_reduced`, the reduced representation of any data item\n",
    "   `Xi` is just its coordinates with respect to the components.\n",
    "2.  For truncated_SVD reduction to $m$ dimensions, the reduction's estimate of item `Xi` is gotten \n",
    "    by unreducing `Xi_reduced`: by computing the sum of the $m$ components \n",
    "    weighted by the coordinates of `Xi`; moreover that estimate is the best possible\n",
    "    rank $m$ estimate of `Xi`."
   ]
  },
  {
   "cell_type": "markdown",
   "metadata": {},
   "source": [
    "#### PCA and Explaining Variance\n",
    "\n",
    "Up until now we've spoken about only one criterion a dimensionality reduction might meet,\n",
    "getting the best estimate of the original data we can in a given number of dimensions.\n",
    "\n",
    "But we'll get a much better feel for why a dimensionality reduction model\n",
    "can be useful by turning to another criterion, explaining the greatest percentage of the variance\n",
    "in a given number of dimensions.  To do that we discuss\n",
    "a slight variant of truncated SVD reduction, Principle Component Analysis (PCA).  A PCA model \n",
    "does the best job of explaining the variance in a given\n",
    "number of dimensions.  The regression notebook features an extended discussion\n",
    "of what explaining variance means, defines percentage of variance explained\n",
    "precisely and relates it to $R^2$, an important measure of the quality of a regression\n",
    "model. A point made there is that percentage of variance explained is not\n",
    "exactly the same as $R^2$, because the latter can be negative. For our\n",
    "purposes here, we're going to equate them.  This will do no\n",
    "harm because negative $R^2$ values don't arise in PCA and truncated SVD reductions.\n"
   ]
  },
  {
   "cell_type": "markdown",
   "metadata": {},
   "source": [
    "Let's look at the explained variance of the truncated SVD model.  It is computed\n",
    "axis by axis.  "
   ]
  },
  {
   "cell_type": "code",
   "execution_count": 376,
   "metadata": {
    "scrolled": false
   },
   "outputs": [
    {
     "data": {
      "text/plain": [
       "array([2.40184778, 2.03709712])"
      ]
     },
     "execution_count": 376,
     "metadata": {},
     "output_type": "execute_result"
    }
   ],
   "source": [
    "reducer_svd.explained_variance_"
   ]
  },
  {
   "cell_type": "markdown",
   "metadata": {},
   "source": [
    "Versus PCA:"
   ]
  },
  {
   "cell_type": "code",
   "execution_count": 377,
   "metadata": {
    "scrolled": true
   },
   "outputs": [
    {
     "data": {
      "text/plain": [
       "array([4.22824171, 0.24267075])"
      ]
     },
     "execution_count": 377,
     "metadata": {},
     "output_type": "execute_result"
    }
   ],
   "source": [
    "reducer.explained_variance_"
   ]
  },
  {
   "cell_type": "markdown",
   "metadata": {},
   "source": [
    "Notice that for both models, the first axis has the greatest\n",
    "amount of explained variance, but the PCA model packs much more of its explanatory power into that \n",
    "first axis. "
   ]
  },
  {
   "cell_type": "markdown",
   "metadata": {},
   "source": [
    "The percentage of explained variance is stored in the `reducer.explained_variance_ratio_` attribute:"
   ]
  },
  {
   "cell_type": "code",
   "execution_count": 378,
   "metadata": {},
   "outputs": [
    {
     "name": "stdout",
     "output_type": "stream",
     "text": [
      "[0.52875361 0.44845576]\n",
      "[0.92461872 0.05306648]\n"
     ]
    }
   ],
   "source": [
    "print(reducer_svd.explained_variance_ratio_)\n",
    "print(reducer.explained_variance_ratio_)"
   ]
  },
  {
   "cell_type": "markdown",
   "metadata": {},
   "source": [
    "More than 92% of the variance explanation is packed into that first axis\n",
    "for PCA.\n",
    "\n",
    "And the percentage of variance explained is the variance explained divided by\n",
    "the total variance.  We demonstrate this  for the PCA model, which uses centered data:"
   ]
  },
  {
   "cell_type": "code",
   "execution_count": 379,
   "metadata": {},
   "outputs": [
    {
     "data": {
      "text/plain": [
       "4.572957046979868"
      ]
     },
     "execution_count": 379,
     "metadata": {},
     "output_type": "execute_result"
    }
   ],
   "source": [
    "def pca_variance(X):\n",
    "    centered = (X-X.mean(axis=0))\n",
    "    # Total variance is the sum of the variances of the four centered columns, using N-1 to compute variance\n",
    "    return centered.var(ddof=1,axis=0).sum()\n",
    "\n",
    "total_variance = pca_variance(X)\n",
    "total_variance"
   ]
  },
  {
   "cell_type": "code",
   "execution_count": 380,
   "metadata": {},
   "outputs": [
    {
     "name": "stdout",
     "output_type": "stream",
     "text": [
      "[0.92461872 0.05306648]\n",
      "[0.92461872 0.05306648]\n"
     ]
    }
   ],
   "source": [
    "print(reducer.explained_variance_ratio_)\n",
    "print(reducer.explained_variance_/total_variance)"
   ]
  },
  {
   "cell_type": "markdown",
   "metadata": {},
   "source": [
    "So the total percentage of variance explained for our 2D PCA  model is:"
   ]
  },
  {
   "cell_type": "code",
   "execution_count": 406,
   "metadata": {},
   "outputs": [
    {
     "data": {
      "text/plain": [
       "0.977685206318795"
      ]
     },
     "execution_count": 406,
     "metadata": {},
     "output_type": "execute_result"
    }
   ],
   "source": [
    "reducer.explained_variance_ratio_.sum()"
   ]
  },
  {
   "cell_type": "markdown",
   "metadata": {},
   "source": [
    "To relate this to the `R2_score` metric we discussed in the regression notebook, do:"
   ]
  },
  {
   "cell_type": "code",
   "execution_count": 263,
   "metadata": {},
   "outputs": [
    {
     "data": {
      "text/plain": [
       "0.9776852063187949"
      ]
     },
     "execution_count": 263,
     "metadata": {},
     "output_type": "execute_result"
    }
   ],
   "source": [
    "from sklearn.metrics import r2_score\n",
    "X_unreduced = reducer.inverse_transform(X_reduced)\n",
    "# Need to specify how R2 scores of the columns will be combined\n",
    "r2_score(X,X_unreduced,multioutput=\"variance_weighted\")"
   ]
  },
  {
   "cell_type": "markdown",
   "metadata": {},
   "source": [
    "Comparing percentage of explained variance for PCA and\n",
    "truncated SVD, PCA wins, but not until the fourth number after the decimal point\n",
    "with this data set."
   ]
  },
  {
   "cell_type": "code",
   "execution_count": 407,
   "metadata": {},
   "outputs": [
    {
     "name": "stdout",
     "output_type": "stream",
     "text": [
      "0.977685206318795\n",
      "0.9772093692426485\n"
     ]
    }
   ],
   "source": [
    "print(reducer.explained_variance_ratio_.sum())\n",
    "print(reducer_svd.explained_variance_ratio_.sum())"
   ]
  },
  {
   "cell_type": "markdown",
   "metadata": {},
   "source": [
    "So we've established that PCA does well at explaining variance,\n",
    "though we haven't said anything about how.\n",
    "\n",
    "To draw a picture coveying the main idea of PCA. We cook up a straight line `Data` \n",
    "and blur it with a bit of noise (consistent with the way the term noise is often used,\n",
    "this noise, like say, measuring errors, is normally distributed). The noisy line points are collected into a 2D array called `Data2`:"
   ]
  },
  {
   "cell_type": "code",
   "execution_count": 381,
   "metadata": {},
   "outputs": [],
   "source": [
    "import numpy as np\n",
    "\n",
    "def line_with_noise (slope=3,intercept=4,bd=.8,step=.01,std=1):\n",
    "    \"\"\"\n",
    "    The noise is normally distributed. \n",
    "    \n",
    "    For more predictable results, ratio of `bd` to `step` shd be an integer, so\n",
    "    not for example `bd=.8`, `step=.013`.\n",
    "    \"\"\"\n",
    "    newX = np.arange(0,bd,step)\n",
    "    newY = (slope*newX + intercept)\n",
    "    Data = np.concatenate([newX[:,np.newaxis],newY[:,np.newaxis]],axis=1)\n",
    "\n",
    "    #randn(N) gives N normally distributed \"random\" pts with mean 0 and var 1\n",
    "    #randos shd have same shape as newY\n",
    "    N = int(bd/step)\n",
    "    randos = np.random.randn(N)\n",
    "    #print(N, newY.shape)\n",
    "    newY2 = newY + std * randos\n",
    "    Data2 = np.concatenate([newX[:,np.newaxis],newY2[:,np.newaxis]],axis=1)\n",
    "    return Data, Data2\n",
    "\n",
    "slope,bd = 3,.8\n",
    "Data, Data2 = line_with_noise (slope=3,intercept=1,bd=bd,std=.2)"
   ]
  },
  {
   "cell_type": "markdown",
   "metadata": {},
   "source": [
    "We now do a PCA dimensionality reduction to find the **one** component best\n",
    "capturing the variance of the noisy points in `Data2`:"
   ]
  },
  {
   "cell_type": "code",
   "execution_count": 382,
   "metadata": {},
   "outputs": [],
   "source": [
    "#reducer_svd = dec.TruncatedSVD(n_components=1)\n",
    "from sklearn import decomposition as dec\n",
    "\n",
    "def PCA_reduced(Data,n_components=2):\n",
    "    reducer= dec.PCA(n_components=n_components)\n",
    "    return reducer.fit_transform(Data),reducer\n",
    "\n",
    "(Data_reduced,reducer) = PCA_reduced(Data2, n_components=1)"
   ]
  },
  {
   "cell_type": "markdown",
   "metadata": {},
   "source": [
    "We draw the noisy points in blue and the single component \n",
    "of the PCA reduction in red.  We add the original line\n",
    "as a dotted green line.  The single PCA component is almost exactly\n",
    "parallel to the original line:"
   ]
  },
  {
   "cell_type": "code",
   "execution_count": 383,
   "metadata": {},
   "outputs": [
    {
     "data": {
      "text/plain": [
       "<matplotlib.legend.Legend at 0x7fc6dbddfdf0>"
      ]
     },
     "execution_count": 383,
     "metadata": {},
     "output_type": "execute_result"
    },
    {
     "data": {
      "image/png": "[encoded data removed]",
      "text/plain": [
       "<Figure size 600x400 with 1 Axes>"
      ]
     },
     "metadata": {},
     "output_type": "display_data"
    }
   ],
   "source": [
    "from sklearn import linear_model\n",
    "\n",
    "fig, ax = plt.subplots(1, 1, figsize=(6, 4))\n",
    "# scaling\n",
    "#Data,Data2 = 40*Data, 40*Data2\n",
    "ax.scatter(Data2[:, 0], Data2[:, 1], s=10, c=\"cyan\",label=\"Data+Noise\")\n",
    "#comp_vec = reducer.components_.T[:,0]\n",
    "#scaler = -2.8\n",
    "comp_vec = reducer.components_[0]\n",
    "# Get the PCA axis and the data xrange to be the same\n",
    "scaler = bd/comp_vec[0]\n",
    "comp_vec = scaler * comp_vec\n",
    "\n",
    "xhat,yhat = comp_vec[0], comp_vec[1]\n",
    "ax.plot(np.array([0,xhat]),np.array([0,yhat]),c=\"r\",label=\"PCA comp.\")\n",
    "ax.plot(Data[:,0],Data[:,1],c=\"green\",linestyle=\"dotted\",label=\"Data\")\n",
    "ax.set_title(\"1-Dimensional PCA Component\")\n",
    "ax.legend()\n",
    "#To see what linear regression does, uncomment\n",
    "#lin1 = linear_model.LinearRegression()\n",
    "#lin1.fit(Data2[:, 0:1], Data2[:, 1:2])\n",
    "#t0full, t1full = lin1.intercept_, lin1.coef_[0]\n",
    "# Plot the regression line (almost completely coincides with the original green line; look at line style)\n",
    "#X = np.arange(0,8,.1)\n",
    "#plt.plot(X, t0full + t1full * X, \"slategray\",linestyle=\"dashed\",alpha=.6,label=\"Regr\")\n"
   ]
  },
  {
   "cell_type": "markdown",
   "metadata": {},
   "source": [
    "Demonstrating the near parallelism of PCA component with the original line (with slope 3)."
   ]
  },
  {
   "cell_type": "code",
   "execution_count": 384,
   "metadata": {
    "scrolled": true
   },
   "outputs": [
    {
     "data": {
      "text/plain": [
       "3.3271279403919283"
      ]
     },
     "execution_count": 384,
     "metadata": {},
     "output_type": "execute_result"
    }
   ],
   "source": [
    "comp_vec = reducer.components_[0]\n",
    "comp_vec[1]/comp_vec[0]"
   ]
  },
  {
   "cell_type": "markdown",
   "metadata": {},
   "source": [
    "The PCA axis is not exactly parallel to the original line because the noise has made\n",
    "the axis only an approximation of the direction of the original line"
   ]
  },
  {
   "cell_type": "markdown",
   "metadata": {},
   "source": [
    "Computing the variance explained on our own to make a point:"
   ]
  },
  {
   "cell_type": "code",
   "execution_count": 385,
   "metadata": {},
   "outputs": [
    {
     "data": {
      "text/plain": [
       "0.6111550879147107"
      ]
     },
     "execution_count": 385,
     "metadata": {},
     "output_type": "execute_result"
    }
   ],
   "source": [
    "Data2_unreduced = reducer.inverse_transform(Data_reduced)\n",
    "# Explained variance = TotalVariance - Unexplained (Error) Variance\n",
    "explained_variance = pca_variance(Data2) - pca_variance(Data2 - Data2_unreduced)\n",
    "explained_variance "
   ]
  },
  {
   "cell_type": "markdown",
   "metadata": {},
   "source": [
    "Verifying:"
   ]
  },
  {
   "cell_type": "code",
   "execution_count": 386,
   "metadata": {
    "scrolled": true
   },
   "outputs": [
    {
     "data": {
      "text/plain": [
       "array([0.61115509])"
      ]
     },
     "execution_count": 386,
     "metadata": {},
     "output_type": "execute_result"
    }
   ],
   "source": [
    "reducer.explained_variance_"
   ]
  },
  {
   "cell_type": "markdown",
   "metadata": {},
   "source": [
    "Why does the PCA axis point in the same direction as the original line (`Data`)?\n",
    "\n",
    "The defining feature of the first axis PCA is that it finds the axis that best explains the variance.\n",
    "Since\n",
    "\n",
    "$$\n",
    "\\begin{array}[t]{lcl}\n",
    "\\text{Explained variance} & = & \\text{TotalVariance} - \\text{Unexplained (Error) Variance}\\\\\n",
    "                          & = & \\text{Variance}(\\text{Data2}) - \\text{Variance}(\\text{Data2 - Data2_unreduced})\\\\\n",
    "\\end{array}\n",
    "$$\n",
    "\n",
    "the axis that maximizes the amount of Explained Variance has\n",
    "to minimize the Error Variance, the variance\n",
    "of the difference between `Data2` and `Data2_unreduced` (what we called\n",
    "the information lost above).\n",
    "Because we constructed `Data2` so that all the variation is centered on\n",
    "`Data`, the axis that  minimizes the error variance has to point\n",
    "in approximately the same direction as `Data`."
   ]
  },
  {
   "cell_type": "markdown",
   "metadata": {},
   "source": [
    "If we had done a linear regression, the regression line would\n",
    "have coincided or nearly coincided with `Data` (the original line).\n",
    "(You can uncomment some code in the cell with the plotting code to see this).\n",
    "\n",
    "**Question 1 (Recommended you try and answer this):**  Why is the PCA component only parallel with the original line?  Why doesn't\n",
    "it coincide with it?  This is a good question to think about\n",
    "to make sure you understand PCA.  Answer below."
   ]
  },
  {
   "cell_type": "code",
   "execution_count": null,
   "metadata": {},
   "outputs": [],
   "source": []
  },
  {
   "cell_type": "code",
   "execution_count": null,
   "metadata": {},
   "outputs": [],
   "source": []
  },
  {
   "cell_type": "code",
   "execution_count": null,
   "metadata": {},
   "outputs": [],
   "source": []
  },
  {
   "cell_type": "code",
   "execution_count": null,
   "metadata": {},
   "outputs": [],
   "source": []
  },
  {
   "cell_type": "code",
   "execution_count": null,
   "metadata": {},
   "outputs": [],
   "source": []
  },
  {
   "cell_type": "code",
   "execution_count": null,
   "metadata": {},
   "outputs": [],
   "source": []
  },
  {
   "cell_type": "code",
   "execution_count": null,
   "metadata": {},
   "outputs": [],
   "source": []
  },
  {
   "cell_type": "code",
   "execution_count": null,
   "metadata": {},
   "outputs": [],
   "source": []
  },
  {
   "cell_type": "code",
   "execution_count": null,
   "metadata": {},
   "outputs": [],
   "source": []
  },
  {
   "cell_type": "code",
   "execution_count": null,
   "metadata": {},
   "outputs": [],
   "source": []
  },
  {
   "cell_type": "code",
   "execution_count": null,
   "metadata": {},
   "outputs": [],
   "source": []
  },
  {
   "cell_type": "markdown",
   "metadata": {},
   "source": [
    "The job of linear regression is to predict the actual value of the regression variable ($y$ in this case).\n",
    "To minimize the error of its predictions, linear regression has to reconstruct the original line around which the noise is centered, which means finding the slope and the intercept. The job of PCA is to find the **axis** that best  accounts for the variance, and therefore any line parallel to the original line, the line around which all the variation\n",
    "is centered, will do.  By definition a PCA axis has to pass through the origin (it's a vector in $R^n$, $n=2$ in our case). \n",
    "\n",
    "PCA components are therefore axes directions, not lines; conceptually PCA represents slopes, not intercepts.\n",
    "The same could be said of truncated SVD components or, indeed, any eigenvectors. (The mathematical idea is a 1D eigenspace; in a 1D eigenspace, all the eigenvectors point in the same direction,i.e., lie on the same line going through the origin)."
   ]
  },
  {
   "cell_type": "markdown",
   "metadata": {},
   "source": [
    "So how does PCA relate to truncated SVD, which we've\n",
    "been talking about until now? PCA is just truncated SVD done on centered data,\n",
    "so the ideas are the same (the inverse transform is just slightly more complicated).\n",
    "Centering the data means subtracting the mean for every variable from\n",
    "the variable values (subtracting the column means from the columns).\n",
    "When we center the data we lose the actual values of the means (and all\n",
    "hopes of finding meaningful intercepts for any lines we compute),\n",
    "but that's okay if our job is to find directions (or slopes).\n",
    "Moreover, when we compute our eigenvectors, we'll be computing\n",
    "the eigenvectors for the **covariance matrix**, \n",
    "and it is because we're  combining the special properties\n",
    "of eigenvectors with the special properties\n",
    "of the covariance matrix that the eigenvectors turn\n",
    "out to be the axes that best account for variance.\n",
    "\n",
    "To show that PCA is equivalent to centering + Truncated SVD, we do:"
   ]
  },
  {
   "cell_type": "code",
   "execution_count": 271,
   "metadata": {},
   "outputs": [],
   "source": [
    "means = X.mean(axis=0)\n",
    "X_centered = (X - means)\n",
    "reducer_svd = dec.TruncatedSVD(n_components=2)\n",
    "X_centered_svd_reduced = reducer_svd.fit_transform(X_centered)"
   ]
  },
  {
   "cell_type": "markdown",
   "metadata": {},
   "source": [
    "`X_centered_svd_reduced` is not quite identical to `X_reduced` (the output of PCA) because\n",
    "of small numerical computing differences, but it is virtually 0, close enough to be called\n",
    "equal using the default numpy tolerances in `np.allclose`,  but  not quite close\n",
    "enough to be called `array_equal`."
   ]
  },
  {
   "cell_type": "code",
   "execution_count": 272,
   "metadata": {},
   "outputs": [
    {
     "name": "stdout",
     "output_type": "stream",
     "text": [
      "True\n",
      "False\n"
     ]
    }
   ],
   "source": [
    "# array1 == array2 gives an array of Booleans\n",
    "# To check array equality use np.array_equal() or np.allclose()\n",
    "print(np.allclose(X_reduced,X_centered_svd_reduced))\n",
    "print(np.array_equal(X_reduced,X_centered_svd_reduced))"
   ]
  },
  {
   "cell_type": "markdown",
   "metadata": {},
   "source": [
    "#### PCA as rotation"
   ]
  },
  {
   "cell_type": "markdown",
   "metadata": {},
   "source": [
    "Same data as before but let's do a 2D PCA representation and draw both axes.\n",
    "See the left part of the figure below, which suggests that the principal component be viewed\n",
    "as a rotation of the x-axis by $\\theta$\n",
    "\n",
    "People sometimes speak of PCA as rotating the x-axis to a new Principal Component axis.\n",
    "With data like our noisy 2D line data, that is exactly\n",
    "true, but a small caveat is necessary.   On multiple runs, PCA will \n",
    "sometimes transform our 2D noisy line data using a mathematical rotation, but it is just \n",
    "as likely to find a reflection. \n",
    "\n",
    "\n",
    "Here are the two forms the `components` matrix can take:\n",
    "\n",
    "$$\n",
    "\\begin{array}[t]{cc}\n",
    "\\text{Rotation} & \\text{Reflection}\\\\\n",
    "\\left\\lbrack\n",
    "\\begin{array}{ll}\n",
    "\\cos \\theta & -\\sin \\theta \\\\\n",
    "\\sin \\theta & \\cos \\theta\n",
    "\\end{array}\n",
    "\\right\\rbrack &\n",
    "\\left\\lbrack\n",
    "\\begin{array}{ll}\n",
    "\\cos \\theta & \\sin \\theta \\\\\n",
    "\\sin \\theta & -\\cos \\theta\n",
    "\\end{array}\n",
    "\\right\\rbrack\n",
    "\\end{array}\n",
    "$$\n",
    "\n",
    "\n",
    "Since it consists of unit eigenvectors for any row consisting of\n",
    "elements $a$ and $b$, the following are both true:\n",
    "\n",
    "$$\n",
    "\\begin{array}[t]{lcl}\n",
    "a^2 + b^2 &=& 1\\\\\n",
    "\\cos^2 \\theta + \\sin^2 \\theta &=& 1\n",
    "\\end{array}\n",
    "$$"
   ]
  },
  {
   "cell_type": "markdown",
   "metadata": {},
   "source": [
    "\n",
    "So we might as well view $a$ as $\\cos$ of some angle $\\theta$ and $b$ as either\n",
    "$-\\sin \\theta$ (rotation) or $\\sin\\theta$ (reflection).   If we keep regenrating\n",
    "our noise points from the same line, then whether the actual\n",
    "computation produces a rotation or reflection matrix will depend  on\n",
    "details of the noise.  On one run of the code below with\n",
    "`regenerate_noise` set to `True`, PCA found:\n",
    "\n",
    "```python\n",
    ">>> reducer2.components_\n",
    "array([[-0.2933627 , -0.95600122],\n",
    "       [-0.95600122,  0.2933627 ]])\n",
    "```\n",
    "\n",
    "This is a reflection.  On another run with a slightly different set of noise points, PCA found\n",
    "\n",
    "```python\n",
    ">>> reducer2.components_\n",
    "array([[-0.3047686 , -0.95242643],\n",
    "       [ 0.95242643, -0.3047686 ]])\n",
    "```\n",
    "\n",
    "This is a rotation."
   ]
  },
  {
   "cell_type": "markdown",
   "metadata": {},
   "source": [
    "In either case PCA found about the same principal component.  In either case \n",
    "it transformed the data so as to map the x-axis to about\n",
    "the same place -- a line with slope 3 -- either by rotating the data by an angle of $\\theta$, where\n",
    "$\\theta$ is the angle for a line with slope 3, or by reflecting\n",
    "it about a line whose angle is $\\theta/2$, which is what the above reflection\n",
    "matrix does.  Even though only one of these two\n",
    "ways of transforming the data is technically a rotation,  it's\n",
    "correct in both cases to speak of rotating the $x$-axis by an angle of $\\theta$,\n",
    "as the picture below shows.  \n",
    "\n",
    "Run the cell below multiple times with `regenerate_data` set to `True`.  A message prints out above\n",
    "the plot telling you whether you got a reflection or a rotation\n",
    "and the red axis is always in about the smae place."
   ]
  },
  {
   "cell_type": "code",
   "execution_count": 445,
   "metadata": {
    "scrolled": false
   },
   "outputs": [
    {
     "name": "stdout",
     "output_type": "stream",
     "text": [
      "Reflection Line Slope: 0.7290388969394593 New x-axis slope: 3.112210623337173\n",
      "1.2599009733237447 0.30591118922069416\n"
     ]
    },
    {
     "data": {
      "text/plain": [
       "<matplotlib.legend.Legend at 0x7fc68953f310>"
      ]
     },
     "execution_count": 445,
     "metadata": {},
     "output_type": "execute_result"
    },
    {
     "data": {
      "image/png": "[encoded data removed]",
      "text/plain": [
       "<Figure size 1200x400 with 2 Axes>"
      ]
     },
     "metadata": {},
     "output_type": "display_data"
    }
   ],
   "source": [
    "import matplotlib\n",
    "from matplotlib import pyplot as plt\n",
    "\n",
    "def get_slope (component):\n",
    "    \"\"\"\n",
    "    Return theta and slope given component which contains cos and sin of theta.\n",
    "    \n",
    "    cos theta alone does not determine theta, let alone slope; `np.arcos` works\n",
    "    by only returning theta values between 0 and $\\pi$.  But other theta-values are \n",
    "    possible and relevant for us.\n",
    "    \n",
    "    Fortunately cos and sin together do determine theta.\n",
    "    \"\"\"\n",
    "    cos_theta, sin_theta = component[0],component[1]\n",
    "    theta = np.sign(sin_theta) * np.arccos(cos_theta)\n",
    "    return theta, np.tan(theta)\n",
    "    \n",
    "regenerate_noise=True\n",
    "if regenerate_noise:\n",
    "    # We regenerate the noise but always start with the same line\n",
    "    Data, Data2 = line_with_noise (slope=3,intercept=1,bd=bd,std=.2)\n",
    "\n",
    "# PCA axes with 2 components (N0 nreduction, just new axes)\n",
    "(Data_reduced2,reducer2) = PCA_reduced(Data2, n_components=2)\n",
    "\n",
    "#components2 = reducer2.components_.T\n",
    "#comp_vec1,comp_vec2 =  components2[:,0],components2[:,1]\n",
    "components2 = reducer2.components_\n",
    "comp_vec1,comp_vec2 =  components2[0],components2[1]\n",
    "\n",
    "\n",
    "diag_signs = np.sign(comp_vec1[0]),np.sign(comp_vec2[1])\n",
    "off_diag_signs = np.sign(comp_vec1[1]),np.sign(comp_vec2[0])\n",
    "theta,slope = get_slope (comp_vec1)\n",
    "\n",
    "if diag_signs[0] == diag_signs[1] and off_diag_signs[0] != off_diag_signs[1]:\n",
    "    print(f\"Rotation Slope: {slope}\")\n",
    "elif diag_signs[0] != diag_signs[1] and off_diag_signs[0] == off_diag_signs[1]:\n",
    "    print(f\"Reflection Line Slope: {np.tan(theta/2)} New x-axis slope: {slope}\")\n",
    "else:\n",
    "    print(\"Unknown transformation\")\n",
    "    \n",
    "fig, (ax,ax2) = plt.subplots(1, 2, figsize=(12, 4))\n",
    "## Data + Noisy Data\n",
    "ax.scatter(Data2[:, 0], Data2[:, 1], s=5, c=\"cyan\",label=\"Data+Noise\")\n",
    "ax.plot(Data[:,0],Data[:,1],c=\"green\",linestyle=\"dotted\",label=\"Data\")\n",
    "\n",
    "## Make the PCA component lines longer for aesthetics (their direction all that matters)\n",
    "scaler2 = bd/comp_vec1[0]\n",
    "comp_vec1 = scaler2 * comp_vec1\n",
    "xhat,yhat = comp_vec1[0],comp_vec1[1]\n",
    "ax.plot(np.array([0,xhat]),np.array([0,yhat]),c=\"r\",label=\"PCA comp. 1\")\n",
    "\n",
    "scaler2a_mag = 2   # 2 works! That's why!\n",
    "if comp_vec2[0] > 0:\n",
    "    # Keep y vals from being neg, for picture symmetry\n",
    "    scaler2a = -scaler2a_mag  \n",
    "else:\n",
    "    scaler2a = scaler2a_mag\n",
    "comp_vec2 = scaler2a* comp_vec2\n",
    "xhat2,yhat2 = comp_vec2[0],comp_vec2[1]\n",
    "ax.plot(np.array([0,xhat2]),np.array([0,yhat2]),c=\"b\",label=\"PCA comp. 2\")\n",
    "\n",
    "###Get the parameters of the angle arc\n",
    "cos_theta = np.abs(np.cos(theta)) # not comp_vec1[0] because that's been scaled\n",
    "print(theta,cos_theta)\n",
    "radius,step = .35,.001\n",
    "r_sq = radius**2\n",
    "# Draw the arc of the pie wedge containing theta, an arc of a circle y = sq_rt(r^2 - x^2)\n",
    "semi_circle = lambda x: (r_sq-(x**2))**.5\n",
    "arc_x=np.arange(radius*cos_theta, radius-step, step)\n",
    "ax.plot(arc_x, semi_circle(arc_x), c=\"k\")\n",
    "# Draw  segment of pie wedge coinciding with x-axis\n",
    "ax.plot(np.array([0,radius]),np.array([0,0]),c=\"k\")\n",
    "ax.annotate(r\"$\\theta$\",(0,0),textcoords=\"offset points\",xytext=(4,4),fontsize=12)\n",
    "#ax.set_xlim([0,7])\n",
    "ax.legend()\n",
    "ax.set_xlim([-2,3.5])\n",
    "ax.set_title(\"2-Dimensional PCA Components\")\n",
    "\n",
    "\n",
    "#####  Second plot\n",
    "ax2.scatter(Data_reduced2[:,0],Data_reduced2[:,1],s=10,label=\"Data + Noise\",c=\"cyan\")\n",
    "tData = reducer2.transform(Data)\n",
    "ax2.plot(tData[:,0],tData[:,1],label=\"Data\",c=\"g\",linestyle=\"dotted\")\n",
    "ax2.set_ylim(-.5,.5)\n",
    "ax2.set_title(\"Plotting on the new axes\")\n",
    "ax2.legend()"
   ]
  },
  {
   "cell_type": "markdown",
   "metadata": {},
   "source": [
    "In the picture on the left, the red line is always about the same as the red line line in the\n",
    "previous plot.  However, many axes we ask for, the first component of PCA will always be the\n",
    "unique line maximizing the amount of explained variance.\n"
   ]
  },
  {
   "cell_type": "markdown",
   "metadata": {},
   "source": [
    "#### The latent space\n",
    "\n",
    "The picture on the right shows what it means to plot our points in the coordinate of system\n",
    "of the PCA components.  The blue points we're scattering are just the transformed version of the original\n",
    "noisy points\n",
    "\n",
    "```python\n",
    "Data_reduced = reducer.transform(Data2)\n",
    "```\n",
    "\n",
    "while the line we're plotting is the transformed version of the original line:\n",
    "\n",
    "```\n",
    "tData = reducer.transform(Data)\n",
    "```\n",
    "\n",
    "The fact that our transformed line is not parallel to the new x-axis is, again, a reflection\n",
    "of the fact that PCA can only approximately model the direction of the original line.\n",
    "\n",
    "In the picture on the right, the points are being represented in a new **space**. \n",
    "This is sometimes called the **latent space**.  The new axes are themselves variables\n",
    "which are linear combination of the old variables, but the new variables are **latent**\n",
    "or **implicit**."
   ]
  },
  {
   "cell_type": "markdown",
   "metadata": {},
   "source": [
    "#### Using the term rotation correctly\n",
    "\n",
    "This rotation view of PCA is very helpful and a great picture of what PCA does,  but it is only sometimes the case that the latent axes are actually rotations of the original axis.  If you think  about our iris data, the original data has 4 dimensions.  This means our components have this  form:\n",
    "\n",
    "```python\n",
    "[a,  b, c, d]\n",
    "```\n",
    "\n",
    "And although it is true that \n",
    "\n",
    "$$\n",
    "a^2 + b^2 + c^2 + d^2 = 1,\n",
    "$$\n",
    "\n",
    "there are no longer two numbers whose squares add up to one, standing in a sin/cos relation,\n",
    "so no angle $\\theta$ that we can conveniently find.  We normally talk about rotation\n",
    "in 2 and 3 dimensions.  Although mathematicians do talk about rotation in 4D\n",
    "Euclidean space, the rotation metaphor ceases to be of much use to the\n",
    "rest of us humans when the  data is 4D.  You can look  at [the Wikipedia page on 4D rotation](https://en.wikipedia.org/wiki/Rotations_in_4-dimensional_Euclidean_space) if you'd like to seem some \n",
    "pictures demonstrating why.\n",
    "\n",
    "The term rotation of axes, however, does arise meaningfully in statistical analysis of higher dimensional data , especially in factor analysis, which is related to PCA.  In factor analysis the latent axes are called **factors**.  The rotations being talked about there are happening in the latent space.  In that case, it doesn't matter what the dimensionality of the original data\n",
    "is.  For instance we might rotate the axes in the latent-space picture above\n",
    "so as to make the axes truly parallel to `Data` (if we had independent evidence of where `Data` was),\n",
    "or we might want to find axes that increase the coordinate values of the data in\n",
    "the latent space, so as to improve visualization, heighten contrasts between the axes,\n",
    "or improve interpretability.  \n"
   ]
  },
  {
   "cell_type": "markdown",
   "metadata": {},
   "source": [
    "Finally, this example can be slightly modified to show the limitations of PCA. Same, picture but let's\n",
    "generate the noisy data from **two** different lines."
   ]
  },
  {
   "cell_type": "code",
   "execution_count": 305,
   "metadata": {},
   "outputs": [],
   "source": [
    "bd = .8\n",
    "Data_L1, Data2_L1 = line_with_noise (slope=3,intercept=4,bd=bd,std=.2)\n",
    "Data_L2, Data2_L2 = line_with_noise (slope=6,intercept=6,bd=bd,std=.2)\n",
    "\n",
    "# Combine the two lines in to one data set. 160 rows instead of 80\n",
    "Data_L1_L2 = np.concatenate([Data_L1,Data_L2],axis=0)\n",
    "Data2_L1_L2 = np.concatenate([Data2_L1,Data2_L2],axis=0)\n",
    "\n",
    "(Data_reduced_L1_L2,reducer_L1_L2) = PCA_reduced(Data2_L1_L2, n_components=1)"
   ]
  },
  {
   "cell_type": "code",
   "execution_count": 306,
   "metadata": {},
   "outputs": [
    {
     "data": {
      "text/plain": [
       "<matplotlib.legend.Legend at 0x7fc6ad789780>"
      ]
     },
     "execution_count": 306,
     "metadata": {},
     "output_type": "execute_result"
    },
    {
     "data": {
      "image/png": "[encoded data removed]",
      "text/plain": [
       "<Figure size 600x400 with 1 Axes>"
      ]
     },
     "metadata": {},
     "output_type": "display_data"
    }
   ],
   "source": [
    "fig, ax = plt.subplots(1, 1, figsize=(6, 4))\n",
    "# scaling\n",
    "#Data,Data2 = 40*Data, 40*Data2\n",
    "ax.scatter(Data2_L1_L2[:, 0], Data2_L1_L2[:, 1], s=10, c=\"cyan\",label=\"Data+Noise\")\n",
    "comp_vec = reducer_L1_L2.components_[0]\n",
    "# Get the PCA axis and the data xrange to be the same\n",
    "scaler = bd/comp_vec[0]\n",
    "comp_vec = scaler * comp_vec\n",
    "\n",
    "xhat,yhat = comp_vec[0], comp_vec[1]\n",
    "ax.plot(np.array([0,xhat]),np.array([0,yhat]),c=\"r\",label=\"PCA comp.\")\n",
    "ax.plot(Data_L1_L2[:80,0],Data_L1_L2[:80,1],c=\"green\",linestyle=\"dotted\",label=\"Data L1 L2\")\n",
    "ax.plot(Data_L1_L2[80:,0],Data_L1_L2[80:,1],c=\"green\",linestyle=\"dotted\")\n",
    "ax.set_title(\"PCA Component Hard Data\")\n",
    "ax.legend()"
   ]
  },
  {
   "cell_type": "markdown",
   "metadata": {},
   "source": [
    "If there is no single linear trend PCA will still find the direction that maximizes the\n",
    "explained variance, but that direction won't uncover a useful generalization.  Sometimes\n",
    "PCA just has nothing useful to tell us."
   ]
  },
  {
   "cell_type": "markdown",
   "metadata": {},
   "source": [
    "And in fact the variance accounted for can look quite good with a very bad model:"
   ]
  },
  {
   "cell_type": "code",
   "execution_count": 38,
   "metadata": {},
   "outputs": [
    {
     "data": {
      "text/plain": [
       "array([0.99032184])"
      ]
     },
     "execution_count": 38,
     "metadata": {},
     "output_type": "execute_result"
    }
   ],
   "source": [
    "reducer_L1_L2.explained_variance_ratio_"
   ]
  },
  {
   "cell_type": "markdown",
   "metadata": {},
   "source": [
    "So **explained variance** is a term to use with caution.  It's mostly used\n",
    "in discussing models, especially regression and dimensionality reduction\n",
    "models, and its significance for any real world task is often a head scratcher."
   ]
  },
  {
   "cell_type": "markdown",
   "metadata": {},
   "source": [
    "Here are two important requirements for PCA to give good results as a dimensionality reduction technique:\n",
    "\n",
    "1.  The relationship between the variables is linear or nearly so as in our noise example. This is what's going wrong in the picture above. There's no single linear relationship that capture all the points.  This picture is as simple as it can be to make a point.  It's often the case, especially with higher dimensionality data, that there is a useful linear relationship that at least approximates the data.  That's why PCA and other linear models have proved useful.\n",
    "2.  To use PCA for dimensionality reduction, the variables can't be completely independent. You need to have correlations between the variables so that reduction can be done with little loss of information. That's eminently the case with our iris data:"
   ]
  },
  {
   "cell_type": "code",
   "execution_count": 426,
   "metadata": {},
   "outputs": [
    {
     "data": {
      "text/html": [
       "<style type=\"text/css\">\n",
       "#T_3bd7b_row0_col0, #T_3bd7b_row1_col1, #T_3bd7b_row2_col2, #T_3bd7b_row3_col3 {\n",
       "  background-color: #08306b;\n",
       "  color: #f1f1f1;\n",
       "}\n",
       "#T_3bd7b_row0_col1 {\n",
       "  background-color: #cddff1;\n",
       "  color: #000000;\n",
       "}\n",
       "#T_3bd7b_row0_col2 {\n",
       "  background-color: #08478d;\n",
       "  color: #f1f1f1;\n",
       "}\n",
       "#T_3bd7b_row0_col3 {\n",
       "  background-color: #0a539e;\n",
       "  color: #f1f1f1;\n",
       "}\n",
       "#T_3bd7b_row1_col0, #T_3bd7b_row1_col2, #T_3bd7b_row1_col3, #T_3bd7b_row2_col1 {\n",
       "  background-color: #f7fbff;\n",
       "  color: #000000;\n",
       "}\n",
       "#T_3bd7b_row2_col0 {\n",
       "  background-color: #084e98;\n",
       "  color: #f1f1f1;\n",
       "}\n",
       "#T_3bd7b_row2_col3, #T_3bd7b_row3_col2 {\n",
       "  background-color: #083674;\n",
       "  color: #f1f1f1;\n",
       "}\n",
       "#T_3bd7b_row3_col0 {\n",
       "  background-color: #0f5aa3;\n",
       "  color: #f1f1f1;\n",
       "}\n",
       "#T_3bd7b_row3_col1 {\n",
       "  background-color: #eef5fc;\n",
       "  color: #000000;\n",
       "}\n",
       "</style>\n",
       "<table id=\"T_3bd7b\">\n",
       "  <thead>\n",
       "    <tr>\n",
       "      <th class=\"blank level0\" >&nbsp;</th>\n",
       "      <th id=\"T_3bd7b_level0_col0\" class=\"col_heading level0 col0\" >sepal length (cm)</th>\n",
       "      <th id=\"T_3bd7b_level0_col1\" class=\"col_heading level0 col1\" >sepal width (cm)</th>\n",
       "      <th id=\"T_3bd7b_level0_col2\" class=\"col_heading level0 col2\" >petal length (cm)</th>\n",
       "      <th id=\"T_3bd7b_level0_col3\" class=\"col_heading level0 col3\" >petal width (cm)</th>\n",
       "    </tr>\n",
       "  </thead>\n",
       "  <tbody>\n",
       "    <tr>\n",
       "      <th id=\"T_3bd7b_level0_row0\" class=\"row_heading level0 row0\" >sepal length (cm)</th>\n",
       "      <td id=\"T_3bd7b_row0_col0\" class=\"data row0 col0\" >1.000000</td>\n",
       "      <td id=\"T_3bd7b_row0_col1\" class=\"data row0 col1\" >-0.117570</td>\n",
       "      <td id=\"T_3bd7b_row0_col2\" class=\"data row0 col2\" >0.871754</td>\n",
       "      <td id=\"T_3bd7b_row0_col3\" class=\"data row0 col3\" >0.817941</td>\n",
       "    </tr>\n",
       "    <tr>\n",
       "      <th id=\"T_3bd7b_level0_row1\" class=\"row_heading level0 row1\" >sepal width (cm)</th>\n",
       "      <td id=\"T_3bd7b_row1_col0\" class=\"data row1 col0\" >-0.117570</td>\n",
       "      <td id=\"T_3bd7b_row1_col1\" class=\"data row1 col1\" >1.000000</td>\n",
       "      <td id=\"T_3bd7b_row1_col2\" class=\"data row1 col2\" >-0.428440</td>\n",
       "      <td id=\"T_3bd7b_row1_col3\" class=\"data row1 col3\" >-0.366126</td>\n",
       "    </tr>\n",
       "    <tr>\n",
       "      <th id=\"T_3bd7b_level0_row2\" class=\"row_heading level0 row2\" >petal length (cm)</th>\n",
       "      <td id=\"T_3bd7b_row2_col0\" class=\"data row2 col0\" >0.871754</td>\n",
       "      <td id=\"T_3bd7b_row2_col1\" class=\"data row2 col1\" >-0.428440</td>\n",
       "      <td id=\"T_3bd7b_row2_col2\" class=\"data row2 col2\" >1.000000</td>\n",
       "      <td id=\"T_3bd7b_row2_col3\" class=\"data row2 col3\" >0.962865</td>\n",
       "    </tr>\n",
       "    <tr>\n",
       "      <th id=\"T_3bd7b_level0_row3\" class=\"row_heading level0 row3\" >petal width (cm)</th>\n",
       "      <td id=\"T_3bd7b_row3_col0\" class=\"data row3 col0\" >0.817941</td>\n",
       "      <td id=\"T_3bd7b_row3_col1\" class=\"data row3 col1\" >-0.366126</td>\n",
       "      <td id=\"T_3bd7b_row3_col2\" class=\"data row3 col2\" >0.962865</td>\n",
       "      <td id=\"T_3bd7b_row3_col3\" class=\"data row3 col3\" >1.000000</td>\n",
       "    </tr>\n",
       "  </tbody>\n",
       "</table>\n"
      ],
      "text/plain": [
       "<pandas.io.formats.style.Styler at 0x7fc6a5c3f7c0>"
      ]
     },
     "execution_count": 426,
     "metadata": {},
     "output_type": "execute_result"
    }
   ],
   "source": [
    "iris = sklearn.datasets.load_iris(as_frame=True)\n",
    "df = iris.data\n",
    "y = iris.target\n",
    "# Get correlations\n",
    "corr_df = df.corr()\n",
    "corr_df.style.background_gradient(cmap='Blues')"
   ]
  },
  {
   "cell_type": "markdown",
   "metadata": {},
   "source": [
    "**Question 2 (Completely optional):**  We've been measuring information loss (or how good an approximation PCA and SVD\n",
    "give) by untransforming the data and using Frobenius Norm, so the Eckart-Young theorem should apply.  SVD Reduced should give the best rank 2 \n",
    "approximation.  Yet here are the results for our two reductions:"
   ]
  },
  {
   "cell_type": "code",
   "execution_count": 39,
   "metadata": {},
   "outputs": [
    {
     "data": {
      "text/plain": [
       "3.899313318962578"
      ]
     },
     "execution_count": 39,
     "metadata": {},
     "output_type": "execute_result"
    }
   ],
   "source": [
    "#PCA\n",
    "\n",
    "X = iris.data\n",
    "reducer = dec.PCA(n_components=2)\n",
    "reducer_svd = dec.TruncatedSVD(n_components=2)\n",
    "X_reduced = reducer.fit_transform(X)\n",
    "X_reduced_svd = reducer_svd.fit_transform(X)\n",
    "information_lost(X, X_reduced, reducer)"
   ]
  },
  {
   "cell_type": "code",
   "execution_count": 40,
   "metadata": {},
   "outputs": [
    {
     "data": {
      "text/plain": [
       "3.940889887879374"
      ]
     },
     "execution_count": 40,
     "metadata": {},
     "output_type": "execute_result"
    }
   ],
   "source": [
    "information_lost(X, X_reduced_svd, reducer_svd)"
   ]
  },
  {
   "cell_type": "markdown",
   "metadata": {},
   "source": [
    "PCA wins. Less information lost.  How is this possible?  Have we just shaken the foundations of Linear Algebra\n",
    "by discovering a counterexample: a better approximation than the reduced SVD approximation?\n",
    "(*Note:  This question is best answered by looking at the definition of `information_lost` and knowing a little Linear Algebra.*)"
   ]
  },
  {
   "cell_type": "code",
   "execution_count": null,
   "metadata": {},
   "outputs": [],
   "source": []
  },
  {
   "cell_type": "code",
   "execution_count": null,
   "metadata": {},
   "outputs": [],
   "source": []
  },
  {
   "cell_type": "code",
   "execution_count": null,
   "metadata": {},
   "outputs": [],
   "source": []
  },
  {
   "cell_type": "code",
   "execution_count": null,
   "metadata": {},
   "outputs": [],
   "source": []
  },
  {
   "cell_type": "code",
   "execution_count": null,
   "metadata": {},
   "outputs": [],
   "source": []
  },
  {
   "cell_type": "code",
   "execution_count": null,
   "metadata": {},
   "outputs": [],
   "source": []
  },
  {
   "cell_type": "code",
   "execution_count": null,
   "metadata": {},
   "outputs": [],
   "source": []
  },
  {
   "cell_type": "markdown",
   "metadata": {},
   "source": [
    "To measure the information lost we untransform the PCA and SVD reductions\n",
    "and compare the untransformed data to the original data. The untransformed SVD data has rank 2.\n",
    "The untransformed PCA data does not."
   ]
  },
  {
   "cell_type": "code",
   "execution_count": 42,
   "metadata": {},
   "outputs": [
    {
     "name": "stdout",
     "output_type": "stream",
     "text": [
      "SVD untransformed: Rank 2\n",
      "PCA untransformed: Rank 3\n"
     ]
    }
   ],
   "source": [
    "from numpy.linalg import matrix_rank\n",
    "\n",
    "print(\"SVD untransformed: Rank\", matrix_rank(reducer_svd.inverse_transform(X_reduced_svd)))\n",
    "\n",
    "print(\"PCA untransformed: Rank\", matrix_rank(reducer.inverse_transform(X_reduced)))"
   ]
  },
  {
   "cell_type": "markdown",
   "metadata": {},
   "source": [
    "So the truncated SVD estimate **is** the best rank 2 approximation, but the PCA\n",
    "approximation is a rank 3 approximation, so it can be better.\n",
    "​\n",
    "The reason this is possible is instructive.\n",
    "The untransformed SVD representation of the 150 rows of X is just \n",
    "150 weighted sums of the same 2 orthogonal\n",
    "eigenvectors, so it must have rank 2.  The untransformed PCA representation\n",
    "is computed in two steps:\n",
    "​\n",
    "1. Weighted sums of the leading 2 eigenvectors of the covariance matrix, yielding a matrix M which is an \n",
    "   approximation of the **centered data**,  which must have rank 2. \n",
    "2. We add the means of the 4 iris variables to M,  uncentering M.  The result of this computation does\n",
    "   not have to have rank 2.\n",
    "  \n"
   ]
  },
  {
   "cell_type": "code",
   "execution_count": null,
   "metadata": {},
   "outputs": [],
   "source": []
  }
 ],
 "metadata": {
  "kernelspec": {
   "display_name": "Python 3 (ipykernel)",
   "language": "python",
   "name": "python3"
  },
  "language_info": {
   "codemirror_mode": {
    "name": "ipython",
    "version": 3
   },
   "file_extension": ".py",
   "mimetype": "text/x-python",
   "name": "python",
   "nbconvert_exporter": "python",
   "pygments_lexer": "ipython3",
   "version": "3.10.6"
  },
  "toc": {
   "base_numbering": 1,
   "nav_menu": {
    "height": "171px",
    "width": "253px"
   },
   "number_sections": true,
   "sideBar": true,
   "skip_h1_title": false,
   "title_cell": "Table of Contents",
   "title_sidebar": "Contents",
   "toc_cell": false,
   "toc_position": {},
   "toc_section_display": "block",
   "toc_window_display": false
  }
 },
 "nbformat": 4,
 "nbformat_minor": 1
}
