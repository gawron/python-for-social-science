{
 "cells": [
  {
   "cell_type": "markdown",
   "id": "b4ff3d65",
   "metadata": {},
   "source": [
    "### How long will it take to finish paying my mortgage?\n",
    "\n",
    "We will make use of the `datetime` module to realistically keep track of facts about \n",
    "calendar time, in particular dates and the amounts of time separating them.\n",
    "\n",
    "Specifically we'll answer two questions:\n",
    "\n",
    "1.  How many months (payments) will it take for me to pay off my mortgage?\n",
    "2.  Given a starting date, on what date will I finish paying off my mortgage?"
   ]
  },
  {
   "cell_type": "code",
   "execution_count": 4,
   "id": "28f15ffd",
   "metadata": {},
   "outputs": [],
   "source": [
    "from datetime import date,timedelta\n",
    "\n",
    "\n",
    "# How I originally computed the payment start date\n",
    "now0 = date.today()\n",
    "# What Im doing to keep the computations in this notebook constant\n",
    "now = date(2023, 8, 1)\n",
    "# From a real mortage statment.  We will try to discover this date by computation.\n",
    "last_payment = date(month=5,day=1,year=2027)\n",
    "# For checking the results below\n",
    "#mortgage_time_delta = (last_payment - now)\n",
    "#num_days = mortgage_time_delta.days\n",
    "\n",
    "# Used for updating current2, which is currently not being used\n",
    "# The duration you mathematically add to a month to find one month later\n",
    "app_days_in_month = 365.25/12\n",
    "## datetime timedelta instance which represents a time delta (the result of subtracting two dates)\n",
    "inc = timedelta(days=app_days_in_month)\n",
    "\n",
    "# Another way of keeping track of current time in the loop.  Increment by estimated duration of a month\n",
    "# Works but drifts off the real calendar for a payer paying every month\n",
    "#current2 += inc"
   ]
  },
  {
   "cell_type": "code",
   "execution_count": 5,
   "id": "c1347109",
   "metadata": {},
   "outputs": [],
   "source": [
    "def increment_month (current):\n",
    "    \"\"\"\n",
    "    For absolutely accurate calendric\n",
    "    incrementing of months\n",
    "    \"\"\"\n",
    "    next_month = (current.month%12)+1\n",
    "    result = current.replace(month=next_month)\n",
    "    if next_month == 1:\n",
    "        result = result.replace(year=current.year+1)\n",
    "    return result\n",
    "\n",
    "\n",
    "# Provide these values.  Input to the computation\n",
    "principle = 74_886.88\n",
    "interest = .034\n",
    "# Every month the amount owed grows by this factor\n",
    "monthly_growth_factor = 1 + (interest/12)\n",
    "# Every month the amount owed shrinks by this amount\n",
    "pmt = 1774.96"
   ]
  },
  {
   "cell_type": "code",
   "execution_count": 6,
   "id": "5b3d8467",
   "metadata": {},
   "outputs": [
    {
     "name": "stdout",
     "output_type": "stream",
     "text": [
      "Mortgage will be paid off May 01, 2027\n",
      "Mortgage will be paid off in 45 months\n",
      "Sanity check: That's 45 months\n"
     ]
    }
   ],
   "source": [
    "# Initial values for variables to be updated in the loop\n",
    "current = now  # We start making payments on this date\n",
    "               # Also the answer to question 2 when we exit the loop below\n",
    "owed = principle  #  We owe this amount to start with. Will be 0 when we exit the loop below\n",
    "number_of_months = 0  #  We start with 0 months having passed\n",
    "                      #  Also, the answer to question 1 when we exit the loop below.\n",
    "\n",
    "while owed > 0:\n",
    "    number_of_months += 1\n",
    "    current = increment_month(current)\n",
    "    owed *= monthly_growth_factor\n",
    "    owed -= pmt\n",
    "\n",
    "print(f\"Mortgage will be paid off {current.strftime('%B %d, %Y')}\")\n",
    "print(f\"Mortgage will be paid off in {number_of_months} months\")\n",
    "print(f\"Sanity check: That's {((current-now).days)/app_days_in_month:.0f} months\")"
   ]
  },
  {
   "cell_type": "markdown",
   "id": "8b80dd98",
   "metadata": {},
   "source": [
    "Note that the last time through the loop the amount owed became negative.  That's all right.  In the real world, the last mortgage bill has a smaller payment amount to make it all come out dead even (`owed == 0`)."
   ]
  },
  {
   "cell_type": "code",
   "execution_count": 7,
   "id": "31d069b9",
   "metadata": {
    "scrolled": true
   },
   "outputs": [
    {
     "data": {
      "text/plain": [
       "-5.286549093633539"
      ]
     },
     "execution_count": 7,
     "metadata": {},
     "output_type": "execute_result"
    }
   ],
   "source": [
    "owed"
   ]
  },
  {
   "cell_type": "markdown",
   "id": "53e13643",
   "metadata": {},
   "source": [
    "As a function:"
   ]
  },
  {
   "cell_type": "code",
   "execution_count": 8,
   "id": "badd90b8",
   "metadata": {},
   "outputs": [
    {
     "data": {
      "text/plain": [
       "(datetime.date(2027, 5, 1), 45)"
      ]
     },
     "execution_count": 8,
     "metadata": {},
     "output_type": "execute_result"
    }
   ],
   "source": [
    "def compute_number_of_months_and_payoff_date (now, principle, monthly_pmt, monthly_growth_factor):\n",
    "    current = now \n",
    "    owed = principle   \n",
    "    number_of_months = 0 \n",
    "    while owed > 0:\n",
    "        number_of_months += 1\n",
    "        current = increment_month(current)\n",
    "        owed *= monthly_growth_factor\n",
    "        owed -= monthly_pmt\n",
    "    return (current, number_of_months)\n",
    "\n",
    "compute_number_of_months_and_payoff_date (now, principle, pmt, monthly_growth_factor)"
   ]
  },
  {
   "cell_type": "markdown",
   "id": "4fc01e85",
   "metadata": {},
   "source": [
    "### Revise to keep track of  interest and principle  paid month by month\n",
    "\n",
    "Draw a plot: x axis is month number, y-axis is payment.  Two lines.\n",
    "One for interest and one for principle."
   ]
  },
  {
   "cell_type": "code",
   "execution_count": 11,
   "id": "9cba17a4",
   "metadata": {},
   "outputs": [
    {
     "name": "stdout",
     "output_type": "stream",
     "text": [
      "Mortgage will be paid off May 01, 2027\n",
      "Mortgage will be paid off in 45 months\n",
      "Principle: $74,892.17 Interest: $4,981.03\n"
     ]
    }
   ],
   "source": [
    "import numpy as np\n",
    "\n",
    "# Initial values for variables to be updated in the loop\n",
    "current = now\n",
    "owed = principle\n",
    "number_of_months = 0\n",
    "interest_pd = []\n",
    "principle_pd = []\n",
    "monthly_interest_rt = interest/12\n",
    "\n",
    "ctr=0\n",
    "\n",
    "while owed > 0:\n",
    "    number_of_months += 1\n",
    "    current = increment_month(current)\n",
    "    interest_pd0 =  monthly_interest_rt * owed\n",
    "    interest_pd.append(interest_pd0)\n",
    "    principle_pd.append(pmt-interest_pd0) \n",
    "    #print(f\"{interest_pd0:.2f} {pmt-interest_pd0:.2f}\")\n",
    "    owed += interest_pd0\n",
    "    owed -= pmt\n",
    "    ctr += 1\n",
    "    if ctr > 50:\n",
    "        break\n",
    "\n",
    "interest_pd = np.array(interest_pd)\n",
    "principle_pd = np.array(principle_pd)\n",
    "print(f\"Mortgage will be paid off {current.strftime('%B %d, %Y')}\")\n",
    "print(f\"Mortgage will be paid off in {ctr} months\")\n",
    "print(f\"Principle: ${principle_pd.sum():,.2f} Interest: ${interest_pd.sum():,.2f}\")"
   ]
  },
  {
   "cell_type": "code",
   "execution_count": 14,
   "id": "37196979",
   "metadata": {},
   "outputs": [
    {
     "data": {
      "text/plain": [
       "<matplotlib.legend.Legend at 0x7f9bd01cbeb0>"
      ]
     },
     "execution_count": 14,
     "metadata": {},
     "output_type": "execute_result"
    },
    {
     "data": {
      "image/png": "[encoded data removed]",
      "text/plain": [
       "<Figure size 800x400 with 1 Axes>"
      ]
     },
     "metadata": {},
     "output_type": "display_data"
    }
   ],
   "source": [
    "from matplotlib import pyplot as plt\n",
    "\n",
    "(fig,ax) = plt.subplots(1,1,figsize=(8,4))\n",
    "ax.plot(range(ctr),principle_pd,label=\"Principle pd\")\n",
    "ax.plot(range(ctr),interest_pd,label=\"Interest pd\")\n",
    "ax.set_xlabel(\"Month\")\n",
    "ax.set_ylabel(\"Paid\")\n",
    "plt.legend()"
   ]
  },
  {
   "cell_type": "code",
   "execution_count": 110,
   "id": "a9ab4978",
   "metadata": {},
   "outputs": [],
   "source": [
    "#def increment_month2 (current,num_months=1):\n",
    "#    \"\"\"\n",
    "#    For calender-compatible\n",
    "#    incrementing of months by number of months:\n",
    "#    \n",
    "##    feb  3, 2023 + 2 months = apr 3,2023\n",
    "#     dec 12, 2023 + 2 months = feb 12, 2024\n",
    "#    Still buggy\n",
    "#    \"\"\"\n",
    "#    (year_inc,month_inc) = divmod(num_months,12)\n",
    "#    result = current.replace(year=current.year+year_inc)\n",
    "#    #new_month = ((result.month%12)+(month_inc%12))%12\n",
    "#    new_month0 = (result.month + month_inc)\n",
    "#    new_month = new_month0%12\n",
    "#    try:\n",
    "#        if new_month:\n",
    "#            result = result.replace(month=new_month)\n",
    "#    except ValueError as e:\n",
    "#        print(new_month, result.month,month_inc,year_inc)\n",
    "#        raise e\n",
    "#    if new_month0 > 12:\n",
    "#        result = result.replace(year=result.year+1)\n",
    "#   return result\n",
    "\n",
    "# For testing increment_month2\n",
    "#print(new_month,result.month,month_inc,year_inc)\n",
    "#for inc in range(45,26,-1):\n",
    "#    print(inc, increment_month2 (now, num_months=inc))"
   ]
  },
  {
   "cell_type": "markdown",
   "id": "6e582383",
   "metadata": {},
   "source": [
    "### Compute the right payment for a given loan amount, loan term, and interest rate\n",
    "\n",
    "Using $\\kappa$ for the monthly growth factor and $\\rho$ for the payment\n",
    "and $\\omicron_{n}$ for the amount owed at month $n$.\n",
    "\n",
    "$$\n",
    "\\begin{array}[t]{lcl}\n",
    "\\omicron_{n} &=& (\\kappa * \\omicron_{n-1}) - \\rho\\\\\n",
    "\\omicron_{n-1} &=& (\\kappa * \\omicron_{n-2}) - \\rho\\\\\n",
    "           & \\dots &          \\\\\n",
    "\\omicron_{2} &=& (\\kappa * \\omicron_{1}) - \\rho\\\\  \n",
    "\\omicron_{1} &=& (\\kappa * \\omicron_{0}) - \\rho\\\\\n",
    "\\end{array}\n",
    "$$\n",
    "\n",
    "After n iterations\n",
    "\n",
    "$$\n",
    "\\omicron_{n} = \\omicron_{0}\\kappa^{n}  - \\rho \\sum_{i=0}^{i=n-1}\\kappa^{i}\n",
    "$$\n",
    "\n",
    "We are interested in finding the $\\rho$ that makes $\\omicron_{n}$\n",
    "be 0.\n",
    "\n",
    "$$\n",
    "\\begin{array}[t]{llcl}\n",
    "(1) & \\rho & = & \\frac{\\omicron_{0}\\kappa^{n}}{\\sum_{i=0}^{i=n-1} \\kappa^{i}}\n",
    "\\end{array}\n",
    "$$"
   ]
  },
  {
   "cell_type": "markdown",
   "id": "4d1e85e3",
   "metadata": {},
   "source": [
    "In thinking of how to implement (1), we would probably make use of a closed-form solution for the power sum, which follows directly from the factoring of $x^{n} -1$:\n",
    "\n",
    "$$\n",
    "\\begin{array}[t]{lcl}\n",
    "x^{n} - 1 & = & (x - 1)(x^{n - 1} + x ^ {n -2} + \\dots 1) \\\\\n",
    "          & = & (x - 1) ( \\sum^{n-1}_{i=0} x^i ) \\\\\n",
    " \\frac{x^{n} - 1}{x - 1} & = &    \\sum^{n-1}_{i=0} x^i\n",
    "\\end{array}\n",
    "$$\n",
    "\n",
    "In other words, \n",
    "\n",
    "$$\n",
    "\\begin{array}[t]{llcl}\n",
    "(2) & \\sum^{n-1}_{i=0} x^i & = & \\frac{x^{n} - 1}{x - 1}  \n",
    "\\end{array}\n",
    "$$"
   ]
  },
  {
   "cell_type": "markdown",
   "id": "fa5c5279",
   "metadata": {},
   "source": [
    "#### Task :  Write the function `compute_rho` that computes $\\rho$ given $\\omicron_{0}$, $\\kappa$, and $n$\n",
    "\n",
    "We will implement  `compute_rho` \n",
    "using formula (1),\n",
    "but we will do it  two different ways, by computing the sum of powers\n",
    "in the denominator two different ways:\n",
    "\n",
    "Sketch\n",
    "\n",
    "1.  Write a function `power_sum` to do the summing of powers in the denominator of (1). In other words:\n",
    "    \n",
    "    $$\n",
    "    \\text{power_sum}(x,n) = \\sum^{n}_{i=0} x^i\n",
    "    $$\n",
    "    \n",
    "2.  `power_sum` should be recursive and it should compute all the powers of $x$ from $x^{0}$ through $x^{n}$,\n",
    "     and then sum them up.\n",
    "3.  Write another function `power_sum2`, which uses  equation (2) to compute the sum of powers in the denominator of (1).\n",
    "4.  Write two versions of `compute_rho` (`compute_rho` and `compute_rho2`), one which calls\n",
    "    `power_sum` to compute (1), and one which calls `power_sum2`."
   ]
  },
  {
   "cell_type": "markdown",
   "id": "f17e56cd",
   "metadata": {},
   "source": [
    "#### Solutions "
   ]
  },
  {
   "cell_type": "code",
   "execution_count": 60,
   "id": "1355a88b",
   "metadata": {},
   "outputs": [],
   "source": [
    "def power_sum (k,n):\n",
    "    \"\"\"\n",
    "    Recursive computation of the sum of powers\n",
    "    \"\"\"\n",
    "    if n < 0:\n",
    "        raise Exception(f\"Can't power sum negative powers k = {k} n = {n}\")\n",
    "    if n==0:\n",
    "        return 1\n",
    "    else:\n",
    "        return k**n + power_sum(k, n-1)\n",
    "    \n",
    "def power_sum2 (k,n):\n",
    "    \"\"\"\n",
    "    Function for the sum of powers\n",
    "    \"\"\"\n",
    "    return (k ** (n+1) - 1)/(k -1)"
   ]
  },
  {
   "cell_type": "code",
   "execution_count": 65,
   "id": "70ce75b2",
   "metadata": {},
   "outputs": [
    {
     "name": "stdout",
     "output_type": "stream",
     "text": [
      "x: 2  i: 3               15.00\n",
      "x: 2  i: 3               15.00\n",
      "\n",
      "x: 3  i: 4              121.00\n",
      "x: 3  i: 4              121.00\n",
      "\n",
      "x: 4  i: 5            1,365.00\n",
      "x: 4  i: 5            1,365.00\n",
      "\n",
      "x: 5  i: 6           19,531.00\n",
      "x: 5  i: 6           19,531.00\n",
      "\n",
      "x: 6  i: 7          335,923.00\n",
      "x: 6  i: 7          335,923.00\n",
      "\n",
      "x: 7  i: 8        6,725,601.00\n",
      "x: 7  i: 8        6,725,601.00\n",
      "\n",
      "x: 8  i: 9      153,391,689.00\n",
      "x: 8  i: 9      153,391,689.00\n",
      "\n",
      "x: 9  i: 10   3,922,632,451.00\n",
      "x: 9  i: 10   3,922,632,451.00\n",
      "\n"
     ]
    }
   ],
   "source": [
    "for (x,n) in zip(range(2,10),range(3,12)):\n",
    "    print(f\"x: {x:<2} i: {n:<2}   {power_sum(x,n):>16,.2f}\")\n",
    "    print(f\"x: {x:<2} i: {n:<2}   {power_sum2(x,n):>16,.2f}\")\n",
    "    print()"
   ]
  },
  {
   "cell_type": "code",
   "execution_count": 62,
   "id": "c9b928b6",
   "metadata": {},
   "outputs": [],
   "source": [
    "def compute_rho2 (owed, kappa, n):\n",
    "    return (owed*(kappa**n))/(power_sum2(kappa,n-1))\n",
    "\n",
    "def compute_rho (owed, kappa, n):\n",
    "    return (owed*(kappa**n))/(power_sum(kappa,n-1))\n"
   ]
  },
  {
   "cell_type": "markdown",
   "id": "d02ff9b9",
   "metadata": {},
   "source": [
    "Let's take a sitiuation (fixed loan amount,\n",
    "fixed interest rate, fixed loan term) \n",
    "and compute the monthly payment that would be needed\n",
    "in two differnt ways:"
   ]
  },
  {
   "cell_type": "code",
   "execution_count": 63,
   "id": "3370e2ed",
   "metadata": {},
   "outputs": [
    {
     "name": "stdout",
     "output_type": "stream",
     "text": [
      "rho1 $886.96 rho2 $886.96\n"
     ]
    }
   ],
   "source": [
    "owed = 200_000\n",
    "interest = .034\n",
    "kappa = 1 + (interest/12)\n",
    "# 30 year mortage\n",
    "n = 12 * 30\n",
    "\n",
    "rho1 = compute_rho(owed,kappa,n)\n",
    "rho2 = compute_rho(owed,kappa,n)\n",
    "print(f\"rho1 ${rho1:.2f} rho2 ${rho2:.2f}\")"
   ]
  },
  {
   "cell_type": "markdown",
   "id": "b03512bb",
   "metadata": {},
   "source": [
    "So a monthly payment of about $886.96 would be needed."
   ]
  },
  {
   "cell_type": "markdown",
   "id": "b40d94fe",
   "metadata": {},
   "source": [
    "We check this with the function we wrote above, which  will compute\n",
    "the number of months and payoff date it takes to pay off the loan.  We want the number of months to be\n",
    "$n$ (=360).  The function needs a start date:"
   ]
  },
  {
   "cell_type": "code",
   "execution_count": 66,
   "id": "8927612d",
   "metadata": {},
   "outputs": [
    {
     "data": {
      "text/plain": [
       "(datetime.date(2053, 8, 1), 360)"
      ]
     },
     "execution_count": 66,
     "metadata": {},
     "output_type": "execute_result"
    }
   ],
   "source": [
    "now = date(2023, 8, 1)\n",
    "\n",
    "# compute_number_of_months_and_date (now,principle, monthly_pmt, monthly_growth_factor):\n",
    "compute_number_of_months_and_payoff_date (now, owed, rho1, kappa)"
   ]
  },
  {
   "cell_type": "markdown",
   "id": "44a554f7",
   "metadata": {},
   "source": [
    "And all is well.  Payoff date is 30 years down the road, which is 360 months."
   ]
  },
  {
   "cell_type": "markdown",
   "id": "aef7598a",
   "metadata": {},
   "source": [
    "Answer the following questions and choose one of Qs 2 (interest rate), 3 (loan term), or 4 (total amount of interest) to draw a plot for.\n",
    "The plot should show how the dependent variable ($\\rho$ in Qs 1-3; total amount of interest in Q4) changes as the independent variable in the question changes."
   ]
  },
  {
   "cell_type": "markdown",
   "id": "4271646b",
   "metadata": {},
   "source": [
    "Questions\n",
    "\n",
    "1.  What happens to $\\rho$ if the loan amount is doubled?  How do you know?\n",
    "2.  What happens to $\\rho$ if the interest rate is doubled?  \n",
    "    Is the new value less than $2\\rho$ or more than $2\\rho$ or equal to $2\\rho$?\n",
    "3.  What happens to $\\rho$ if the term of the loan is halved?  \n",
    "    Is the new value less than $2\\rho$ or more than $2\\rho$ or equal to $2\\rho$?\n",
    "3.  What happens to the total amount of interest paid if the term of the loan is halved?  \n",
    "    Is the new value less than twice the old value or more?"
   ]
  },
  {
   "cell_type": "code",
   "execution_count": null,
   "id": "645ebd3a",
   "metadata": {},
   "outputs": [],
   "source": []
  }
 ],
 "metadata": {
  "kernelspec": {
   "display_name": "Python 3 (ipykernel)",
   "language": "python",
   "name": "python3"
  },
  "language_info": {
   "codemirror_mode": {
    "name": "ipython",
    "version": 3
   },
   "file_extension": ".py",
   "mimetype": "text/x-python",
   "name": "python",
   "nbconvert_exporter": "python",
   "pygments_lexer": "ipython3",
   "version": "3.10.6"
  }
 },
 "nbformat": 4,
 "nbformat_minor": 5
}
