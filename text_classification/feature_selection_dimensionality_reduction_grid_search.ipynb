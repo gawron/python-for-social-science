{
 "cells": [
  {
   "cell_type": "markdown",
   "metadata": {
    "id": "hhtQXWFRrWSd"
   },
   "source": [
    "# Text Classification:  Insults with Naive Bayes"
   ]
  },
  {
   "cell_type": "code",
   "execution_count": 1,
   "metadata": {},
   "outputs": [
    {
     "name": "stdout",
     "output_type": "stream",
     "text": [
      "3.11.7 (main, Dec 15 2023, 18:12:31) [GCC 11.2.0]\n"
     ]
    }
   ],
   "source": [
    "import sys;print(sys.version)"
   ]
  },
  {
   "cell_type": "code",
   "execution_count": 1,
   "metadata": {
    "id": "MejilF82-rRZ",
    "scrolled": true
   },
   "outputs": [],
   "source": [
    "import numpy as np\n",
    "import pandas as pd\n",
    "import sklearn\n",
    "from datetime import datetime\n",
    "import time\n",
    "\n",
    "from sklearn.model_selection import train_test_split\n",
    "from sklearn.model_selection import GridSearchCV\n",
    "import sklearn.feature_extraction.text as text\n",
    "import sklearn.naive_bayes as nb\n",
    "import matplotlib.pyplot as plt\n",
    "from sklearn.metrics import precision_score, recall_score, accuracy_score\n",
    "# Load libraries\n",
    "from sklearn.feature_selection import SelectKBest\n",
    "from sklearn.feature_selection import chi2, f_classif, mutual_info_classif\n",
    "from sklearn import preprocessing\n",
    "from sklearn import pipeline\n",
    "from sklearn import linear_model\n",
    "from sklearn.svm import LinearSVC\n",
    "from sklearn.feature_selection import chi2, f_classif, mutual_info_classif\n",
    "from sklearn.datasets import make_classification\n",
    "from sklearn.decomposition import NMF, PCA, TruncatedSVD\n",
    "\n"
   ]
  },
  {
   "cell_type": "markdown",
   "metadata": {},
   "source": [
    "In the notebook we dive into the general question of feature selection for classifiers. In the regression\n",
    "and classification module notebook **Dimensionality Reduction** we looked at \n",
    "applying dimensionality reduction to classifie4rs; here we turn to feature selection, another\n",
    "technique that generally results in more compact representations and hopefully better performing\n",
    "classifiers.\n",
    "\n",
    "The general form of what we're doing\n",
    "in this notebook is to use  some metric\n",
    "to quantify the usefulness of each feature in order to\n",
    "discard all but the top $k$ features.  We'll look at the following feature selection functions in scikit learn.\n",
    "\n",
    "$$\n",
    "\\begin{array}[t]{lll}\n",
    "1. &  \\text{mutual_info_classif} &  \\text{Mutual information for a discrete target.}\\\\\n",
    "2. &  \\text{chi2} & \\chi^2 \\text{ stat for non-negative features for classification tasks.}\\\\\n",
    "3. &  \\text{fclassif} &  \\text{ANOVA F-value between label/feature for classification tasks.}\\\\\n",
    "\\end{array}\n",
    "$$\n",
    "\n",
    "Mutual Information, written $\\text{I}$, is defined to be:\n",
    "\n",
    "$$\n",
    "\\text{I}\\,(X;\\,Y) = \\text{D}_{\\text{KL}}\\,(\\, \\text{P}_{X,Y} \\mid\\mid \\text{P}_{X}\\otimes \\text{P}_{Y}\\, )\n",
    "$$\n",
    "\n",
    "\n",
    "where $D_{\\text{KL}}$ is the Kullback-Leibler Divergence (KL-Divergence) of two distributions and\n",
    "$\\text{P}_{X,Y}$ is the joint distribution of X and Y and $\\text{P}_{X}\\otimes \\text{P}_{Y}$ is \n",
    "the distribution that gives $P(X) \\times P(Y)$ as the joint probability of X and Y.\n",
    "KL Divergence is an Information Theoretic measure of the divergence\n",
    "between two distributions, $\\text{I}\\,(X;\\,Y)$ measures the distance between\n",
    "the joint distribution and the distribution that would obtain\n",
    "if X and Y were completely independent.  If X and Y are independent,\n",
    "$\\text{I}\\,(X;\\,Y)$ is 0.  If X conditionally depends on Y, that\n",
    "increases the difference between the joint distribution and independence ($\\text{P}_{X}\\otimes \\text{P}_{Y}$).\n",
    "\n",
    "Thus $\\text{I}\\,(X;\\,Y)$ measures the amount of information you gain about the outcome of $Y$\n",
    "if you know the outcome $X$.  If Y is a class assignment and X is a feature column\n",
    "in our data matrix, $\\text{I}\\,(X;\\,Y)$  measures how much knowing the value of feature $X$ \n",
    "tells us about the class Y.  Hence, it makes sense to use $\\text{I}\\,(F;\\,c)$ to measure how useful\n",
    "feature F is for a classification problem.  "
   ]
  },
  {
   "cell_type": "markdown",
   "metadata": {},
   "source": [
    "The chi2 classification function takes the feature matrix and the class labels  as arguments\n",
    "and for each feature and each computes the $\\Xi^{2}@ statistic representing the strength\n",
    "of the feature's association with the class.\n",
    "\n",
    "A note of caution:  The test really only makes sense for categorical variables, but\n",
    "the scikit learn implementation is built in such a way that it can be used for\n",
    "continuous variables.  We will try both."
   ]
  },
  {
   "cell_type": "code",
   "execution_count": 4,
   "metadata": {},
   "outputs": [
    {
     "data": {
      "text/plain": [
       "array([2.25415508e+01, 7.35179236e-02, 7.25973700e-02, 1.01320229e-02,\n",
       "       1.08125275e+00, 5.54434465e-02, 1.13279935e-02, 1.09136519e-01,\n",
       "       1.32228682e-01, 1.66505941e-02])"
      ]
     },
     "execution_count": 4,
     "metadata": {},
     "output_type": "execute_result"
    }
   ],
   "source": [
    "X, y = make_classification(\n",
    "        n_samples=100, n_features=10, n_informative=2, n_clusters_per_class=1, \n",
    "        shuffle=False, random_state=42,shift=5)\n",
    "chi2_stats, p_values = chi2(X, y)\n",
    "chi2_stats"
   ]
  },
  {
   "cell_type": "markdown",
   "metadata": {},
   "source": [
    "The numbers show that all but 2 of the 10 features have little connection with the classification\n",
    "problem.  Of course we set it up this way when we created `X, y` with `make_classification`,  by\n",
    "setting the parameter `n_informative` to 2."
   ]
  },
  {
   "cell_type": "markdown",
   "metadata": {},
   "source": [
    "Here are the column numbers arranged from least significant to most significant:"
   ]
  },
  {
   "cell_type": "code",
   "execution_count": 10,
   "metadata": {},
   "outputs": [
    {
     "data": {
      "text/plain": [
       "array([3, 6, 9, 5, 2, 1, 7, 8, 4, 0])"
      ]
     },
     "execution_count": 10,
     "metadata": {},
     "output_type": "execute_result"
    }
   ],
   "source": [
    "chi2_stats.argsort()"
   ]
  },
  {
   "cell_type": "markdown",
   "metadata": {},
   "source": [
    "Hence, the following code makes a new feature matrix containing only the two\n",
    "most significant features (the columns indexed 0 and 4)."
   ]
  },
  {
   "cell_type": "code",
   "execution_count": 11,
   "metadata": {},
   "outputs": [],
   "source": [
    "X_reduced = X[:, chi2_stats.argsort()[-2:]]"
   ]
  },
  {
   "cell_type": "markdown",
   "metadata": {},
   "source": [
    "Finally the ANOVA F-value (or `fclassif` in scikit learn) compares the ration of explained\n",
    "variance to the unexaplined variance. If the null hypothesis is true, you expect F to have a value close to 1.0 most of the time. A large F ratio means that the variation among group means is more than you'd expect to see by chance."
   ]
  },
  {
   "cell_type": "markdown",
   "metadata": {
    "id": "qildTjvw-rRb"
   },
   "source": [
    "## Loading the data"
   ]
  },
  {
   "cell_type": "markdown",
   "metadata": {
    "id": "28jZSTW_-rRb"
   },
   "source": [
    "Let's open the CSV file with `pandas`."
   ]
  },
  {
   "cell_type": "code",
   "execution_count": 2,
   "metadata": {
    "id": "MtGQlB1q-rRc"
   },
   "outputs": [],
   "source": [
    "import os.path\n",
    "site = 'https://raw.githubusercontent.com/gawron/python-for-social-science/master/'\\\n",
    "'text_classification/'\n",
    "#site = 'https://gawron.sdsu.edu/python_for_ss/course_core/book_draft/_static/'\n",
    "df = pd.read_csv(os.path.join(site,\"troll.csv\"))"
   ]
  },
  {
   "cell_type": "markdown",
   "metadata": {
    "id": "M3ncLUYx-rRc"
   },
   "source": [
    "Each row is a comment  taken from a blog or online forum. There are three columns: whether the comment is insulting (1) or not (0), the data, and the unicode-encoded contents of the comment."
   ]
  },
  {
   "cell_type": "code",
   "execution_count": 3,
   "metadata": {
    "colab": {
     "base_uri": "https://localhost:8080/",
     "height": 206
    },
    "id": "pFeNaW-m-rRd",
    "outputId": "0d5e5e36-697f-4fd8-ff00-ef8d164a3c35"
   },
   "outputs": [
    {
     "data": {
      "text/html": [
       "<div>\n",
       "<style scoped>\n",
       "    .dataframe tbody tr th:only-of-type {\n",
       "        vertical-align: middle;\n",
       "    }\n",
       "\n",
       "    .dataframe tbody tr th {\n",
       "        vertical-align: top;\n",
       "    }\n",
       "\n",
       "    .dataframe thead th {\n",
       "        text-align: right;\n",
       "    }\n",
       "</style>\n",
       "<table border=\"1\" class=\"dataframe\">\n",
       "  <thead>\n",
       "    <tr style=\"text-align: right;\">\n",
       "      <th></th>\n",
       "      <th>Insult</th>\n",
       "      <th>Comment</th>\n",
       "    </tr>\n",
       "  </thead>\n",
       "  <tbody>\n",
       "    <tr>\n",
       "      <th>3942</th>\n",
       "      <td>1</td>\n",
       "      <td>\"you are both morons and that is never happening\"</td>\n",
       "    </tr>\n",
       "    <tr>\n",
       "      <th>3943</th>\n",
       "      <td>0</td>\n",
       "      <td>\"Many toolbars include spell check, like Yahoo...</td>\n",
       "    </tr>\n",
       "    <tr>\n",
       "      <th>3944</th>\n",
       "      <td>0</td>\n",
       "      <td>\"@LambeauOrWrigley\\xa0\\xa0@K.Moss\\xa0\\nSioux F...</td>\n",
       "    </tr>\n",
       "    <tr>\n",
       "      <th>3945</th>\n",
       "      <td>0</td>\n",
       "      <td>\"How about Felix? He is sure turning into one ...</td>\n",
       "    </tr>\n",
       "    <tr>\n",
       "      <th>3946</th>\n",
       "      <td>0</td>\n",
       "      <td>\"You're all upset, defending this hipster band...</td>\n",
       "    </tr>\n",
       "  </tbody>\n",
       "</table>\n",
       "</div>"
      ],
      "text/plain": [
       "      Insult                                            Comment\n",
       "3942       1  \"you are both morons and that is never happening\"\n",
       "3943       0  \"Many toolbars include spell check, like Yahoo...\n",
       "3944       0  \"@LambeauOrWrigley\\xa0\\xa0@K.Moss\\xa0\\nSioux F...\n",
       "3945       0  \"How about Felix? He is sure turning into one ...\n",
       "3946       0  \"You're all upset, defending this hipster band..."
      ]
     },
     "execution_count": 3,
     "metadata": {},
     "output_type": "execute_result"
    }
   ],
   "source": [
    "df[['Insult', 'Comment']].tail()"
   ]
  },
  {
   "cell_type": "code",
   "execution_count": 4,
   "metadata": {
    "id": "H-fPVjYV-rRl"
   },
   "outputs": [],
   "source": [
    "# Split the data into training and test sets FIRST\n",
    "T_train,T_test, y_train,y_test = train_test_split(df['Comment'],df['Insult'])"
   ]
  },
  {
   "cell_type": "markdown",
   "metadata": {},
   "source": [
    "### Demoing $\\chi^{2}$"
   ]
  },
  {
   "cell_type": "markdown",
   "metadata": {},
   "source": [
    "We imported the `chi2` function:"
   ]
  },
  {
   "cell_type": "code",
   "execution_count": 5,
   "metadata": {},
   "outputs": [
    {
     "data": {
      "text/plain": [
       "<function sklearn.feature_selection._univariate_selection.chi2(X, y)>"
      ]
     },
     "execution_count": 5,
     "metadata": {},
     "output_type": "execute_result"
    }
   ],
   "source": [
    "chi2"
   ]
  },
  {
   "cell_type": "markdown",
   "metadata": {},
   "source": [
    "Here's ine way to use it:"
   ]
  },
  {
   "cell_type": "code",
   "execution_count": 9,
   "metadata": {},
   "outputs": [
    {
     "data": {
      "text/plain": [
       "0.5193816927044406"
      ]
     },
     "execution_count": 9,
     "metadata": {},
     "output_type": "execute_result"
    }
   ],
   "source": [
    "X_train.toarray()[0,:].max()"
   ]
  },
  {
   "cell_type": "code",
   "execution_count": 10,
   "metadata": {
    "id": "4JLT1QylrWSn"
   },
   "outputs": [
    {
     "name": "stdout",
     "output_type": "stream",
     "text": [
      "2960 14053\n"
     ]
    }
   ],
   "source": [
    "#tf = text.TfidfVectorizer(min_df=2,max_df=.8)\n",
    "sublinear_tf = True\n",
    "#subliner_tf = False\n",
    "tf = text.TfidfVectorizer(sublinear_tf=sublinear_tf)\n",
    "# Train your vectorizer oNLY on the trainingh data.\n",
    "X_train = tf.fit_transform(T_train)\n",
    "print(*X_train.shape)\n",
    "# N features with highest chi-squared statistics are selected\n",
    "# chi2 is a functiomported above\n",
    "chi2_features = SelectKBest(chi2, k = 10_000)\n",
    "X_train_chi = chi2_features.fit_transform(X_train, y_train)"
   ]
  },
  {
   "cell_type": "markdown",
   "metadata": {
    "id": "IO9ykCgdrWSn"
   },
   "source": [
    "`X-train` is our **term-document** matrix."
   ]
  },
  {
   "cell_type": "code",
   "execution_count": 11,
   "metadata": {
    "colab": {
     "base_uri": "https://localhost:8080/"
    },
    "id": "xUihdpHIgA7e",
    "outputId": "3a69016d-c65e-4994-e021-3451880e8b00"
   },
   "outputs": [
    {
     "data": {
      "text/plain": [
       "((2960, 14053), (2960, 10000))"
      ]
     },
     "execution_count": 11,
     "metadata": {},
     "output_type": "execute_result"
    }
   ],
   "source": [
    "X_train.shape,X_train_chi.shape"
   ]
  },
  {
   "cell_type": "markdown",
   "metadata": {
    "id": "k0wp6RbS-rRo"
   },
   "source": [
    "## Preliminary experiments"
   ]
  },
  {
   "cell_type": "markdown",
   "metadata": {
    "id": "88mG_1C0-rRo"
   },
   "source": [
    "Now, we are going to train a classifier as usual. We\n",
    "have already split the data and labels into train and test sets."
   ]
  },
  {
   "cell_type": "markdown",
   "metadata": {
    "id": "Xf-3XQDN-rRo"
   },
   "source": [
    "We use an **SVM classifier** and try it out on the two representations of our\n",
    "data,."
   ]
  },
  {
   "cell_type": "code",
   "execution_count": 12,
   "metadata": {
    "colab": {
     "base_uri": "https://localhost:8080/",
     "height": 74
    },
    "id": "uj7vvTS--rRo",
    "outputId": "c3be5d3a-7801-4311-d8da-45c6a267b36e"
   },
   "outputs": [
    {
     "data": {
      "text/html": [
       "<style>#sk-container-id-1 {color: black;background-color: white;}#sk-container-id-1 pre{padding: 0;}#sk-container-id-1 div.sk-toggleable {background-color: white;}#sk-container-id-1 label.sk-toggleable__label {cursor: pointer;display: block;width: 100%;margin-bottom: 0;padding: 0.3em;box-sizing: border-box;text-align: center;}#sk-container-id-1 label.sk-toggleable__label-arrow:before {content: \"▸\";float: left;margin-right: 0.25em;color: #696969;}#sk-container-id-1 label.sk-toggleable__label-arrow:hover:before {color: black;}#sk-container-id-1 div.sk-estimator:hover label.sk-toggleable__label-arrow:before {color: black;}#sk-container-id-1 div.sk-toggleable__content {max-height: 0;max-width: 0;overflow: hidden;text-align: left;background-color: #f0f8ff;}#sk-container-id-1 div.sk-toggleable__content pre {margin: 0.2em;color: black;border-radius: 0.25em;background-color: #f0f8ff;}#sk-container-id-1 input.sk-toggleable__control:checked~div.sk-toggleable__content {max-height: 200px;max-width: 100%;overflow: auto;}#sk-container-id-1 input.sk-toggleable__control:checked~label.sk-toggleable__label-arrow:before {content: \"▾\";}#sk-container-id-1 div.sk-estimator input.sk-toggleable__control:checked~label.sk-toggleable__label {background-color: #d4ebff;}#sk-container-id-1 div.sk-label input.sk-toggleable__control:checked~label.sk-toggleable__label {background-color: #d4ebff;}#sk-container-id-1 input.sk-hidden--visually {border: 0;clip: rect(1px 1px 1px 1px);clip: rect(1px, 1px, 1px, 1px);height: 1px;margin: -1px;overflow: hidden;padding: 0;position: absolute;width: 1px;}#sk-container-id-1 div.sk-estimator {font-family: monospace;background-color: #f0f8ff;border: 1px dotted black;border-radius: 0.25em;box-sizing: border-box;margin-bottom: 0.5em;}#sk-container-id-1 div.sk-estimator:hover {background-color: #d4ebff;}#sk-container-id-1 div.sk-parallel-item::after {content: \"\";width: 100%;border-bottom: 1px solid gray;flex-grow: 1;}#sk-container-id-1 div.sk-label:hover label.sk-toggleable__label {background-color: #d4ebff;}#sk-container-id-1 div.sk-serial::before {content: \"\";position: absolute;border-left: 1px solid gray;box-sizing: border-box;top: 0;bottom: 0;left: 50%;z-index: 0;}#sk-container-id-1 div.sk-serial {display: flex;flex-direction: column;align-items: center;background-color: white;padding-right: 0.2em;padding-left: 0.2em;position: relative;}#sk-container-id-1 div.sk-item {position: relative;z-index: 1;}#sk-container-id-1 div.sk-parallel {display: flex;align-items: stretch;justify-content: center;background-color: white;position: relative;}#sk-container-id-1 div.sk-item::before, #sk-container-id-1 div.sk-parallel-item::before {content: \"\";position: absolute;border-left: 1px solid gray;box-sizing: border-box;top: 0;bottom: 0;left: 50%;z-index: -1;}#sk-container-id-1 div.sk-parallel-item {display: flex;flex-direction: column;z-index: 1;position: relative;background-color: white;}#sk-container-id-1 div.sk-parallel-item:first-child::after {align-self: flex-end;width: 50%;}#sk-container-id-1 div.sk-parallel-item:last-child::after {align-self: flex-start;width: 50%;}#sk-container-id-1 div.sk-parallel-item:only-child::after {width: 0;}#sk-container-id-1 div.sk-dashed-wrapped {border: 1px dashed gray;margin: 0 0.4em 0.5em 0.4em;box-sizing: border-box;padding-bottom: 0.4em;background-color: white;}#sk-container-id-1 div.sk-label label {font-family: monospace;font-weight: bold;display: inline-block;line-height: 1.2em;}#sk-container-id-1 div.sk-label-container {text-align: center;}#sk-container-id-1 div.sk-container {/* jupyter's `normalize.less` sets `[hidden] { display: none; }` but bootstrap.min.css set `[hidden] { display: none !important; }` so we also need the `!important` here to be able to override the default hidden behavior on the sphinx rendered scikit-learn.org. See: https://github.com/scikit-learn/scikit-learn/issues/21755 */display: inline-block !important;position: relative;}#sk-container-id-1 div.sk-text-repr-fallback {display: none;}</style><div id=\"sk-container-id-1\" class=\"sk-top-container\"><div class=\"sk-text-repr-fallback\"><pre>LinearSVC()</pre><b>In a Jupyter environment, please rerun this cell to show the HTML representation or trust the notebook. <br />On GitHub, the HTML representation is unable to render, please try loading this page with nbviewer.org.</b></div><div class=\"sk-container\" hidden><div class=\"sk-item\"><div class=\"sk-estimator sk-toggleable\"><input class=\"sk-toggleable__control sk-hidden--visually\" id=\"sk-estimator-id-1\" type=\"checkbox\" checked><label for=\"sk-estimator-id-1\" class=\"sk-toggleable__label sk-toggleable__label-arrow\">LinearSVC</label><div class=\"sk-toggleable__content\"><pre>LinearSVC()</pre></div></div></div></div></div>"
      ],
      "text/plain": [
       "LinearSVC()"
      ]
     },
     "execution_count": 12,
     "metadata": {},
     "output_type": "execute_result"
    }
   ],
   "source": [
    "from sklearn.svm import LinearSVC\n",
    "\n",
    "clf = LinearSVC()\n",
    "clf_chi = LinearSVC()\n",
    "\n",
    "# Unreduced\n",
    "clf.fit(X_train, y_train)"
   ]
  },
  {
   "cell_type": "code",
   "execution_count": 13,
   "metadata": {
    "colab": {
     "base_uri": "https://localhost:8080/",
     "height": 74
    },
    "id": "uj7vvTS--rRo",
    "outputId": "c3be5d3a-7801-4311-d8da-45c6a267b36e"
   },
   "outputs": [
    {
     "data": {
      "text/html": [
       "<style>#sk-container-id-2 {color: black;background-color: white;}#sk-container-id-2 pre{padding: 0;}#sk-container-id-2 div.sk-toggleable {background-color: white;}#sk-container-id-2 label.sk-toggleable__label {cursor: pointer;display: block;width: 100%;margin-bottom: 0;padding: 0.3em;box-sizing: border-box;text-align: center;}#sk-container-id-2 label.sk-toggleable__label-arrow:before {content: \"▸\";float: left;margin-right: 0.25em;color: #696969;}#sk-container-id-2 label.sk-toggleable__label-arrow:hover:before {color: black;}#sk-container-id-2 div.sk-estimator:hover label.sk-toggleable__label-arrow:before {color: black;}#sk-container-id-2 div.sk-toggleable__content {max-height: 0;max-width: 0;overflow: hidden;text-align: left;background-color: #f0f8ff;}#sk-container-id-2 div.sk-toggleable__content pre {margin: 0.2em;color: black;border-radius: 0.25em;background-color: #f0f8ff;}#sk-container-id-2 input.sk-toggleable__control:checked~div.sk-toggleable__content {max-height: 200px;max-width: 100%;overflow: auto;}#sk-container-id-2 input.sk-toggleable__control:checked~label.sk-toggleable__label-arrow:before {content: \"▾\";}#sk-container-id-2 div.sk-estimator input.sk-toggleable__control:checked~label.sk-toggleable__label {background-color: #d4ebff;}#sk-container-id-2 div.sk-label input.sk-toggleable__control:checked~label.sk-toggleable__label {background-color: #d4ebff;}#sk-container-id-2 input.sk-hidden--visually {border: 0;clip: rect(1px 1px 1px 1px);clip: rect(1px, 1px, 1px, 1px);height: 1px;margin: -1px;overflow: hidden;padding: 0;position: absolute;width: 1px;}#sk-container-id-2 div.sk-estimator {font-family: monospace;background-color: #f0f8ff;border: 1px dotted black;border-radius: 0.25em;box-sizing: border-box;margin-bottom: 0.5em;}#sk-container-id-2 div.sk-estimator:hover {background-color: #d4ebff;}#sk-container-id-2 div.sk-parallel-item::after {content: \"\";width: 100%;border-bottom: 1px solid gray;flex-grow: 1;}#sk-container-id-2 div.sk-label:hover label.sk-toggleable__label {background-color: #d4ebff;}#sk-container-id-2 div.sk-serial::before {content: \"\";position: absolute;border-left: 1px solid gray;box-sizing: border-box;top: 0;bottom: 0;left: 50%;z-index: 0;}#sk-container-id-2 div.sk-serial {display: flex;flex-direction: column;align-items: center;background-color: white;padding-right: 0.2em;padding-left: 0.2em;position: relative;}#sk-container-id-2 div.sk-item {position: relative;z-index: 1;}#sk-container-id-2 div.sk-parallel {display: flex;align-items: stretch;justify-content: center;background-color: white;position: relative;}#sk-container-id-2 div.sk-item::before, #sk-container-id-2 div.sk-parallel-item::before {content: \"\";position: absolute;border-left: 1px solid gray;box-sizing: border-box;top: 0;bottom: 0;left: 50%;z-index: -1;}#sk-container-id-2 div.sk-parallel-item {display: flex;flex-direction: column;z-index: 1;position: relative;background-color: white;}#sk-container-id-2 div.sk-parallel-item:first-child::after {align-self: flex-end;width: 50%;}#sk-container-id-2 div.sk-parallel-item:last-child::after {align-self: flex-start;width: 50%;}#sk-container-id-2 div.sk-parallel-item:only-child::after {width: 0;}#sk-container-id-2 div.sk-dashed-wrapped {border: 1px dashed gray;margin: 0 0.4em 0.5em 0.4em;box-sizing: border-box;padding-bottom: 0.4em;background-color: white;}#sk-container-id-2 div.sk-label label {font-family: monospace;font-weight: bold;display: inline-block;line-height: 1.2em;}#sk-container-id-2 div.sk-label-container {text-align: center;}#sk-container-id-2 div.sk-container {/* jupyter's `normalize.less` sets `[hidden] { display: none; }` but bootstrap.min.css set `[hidden] { display: none !important; }` so we also need the `!important` here to be able to override the default hidden behavior on the sphinx rendered scikit-learn.org. See: https://github.com/scikit-learn/scikit-learn/issues/21755 */display: inline-block !important;position: relative;}#sk-container-id-2 div.sk-text-repr-fallback {display: none;}</style><div id=\"sk-container-id-2\" class=\"sk-top-container\"><div class=\"sk-text-repr-fallback\"><pre>LinearSVC()</pre><b>In a Jupyter environment, please rerun this cell to show the HTML representation or trust the notebook. <br />On GitHub, the HTML representation is unable to render, please try loading this page with nbviewer.org.</b></div><div class=\"sk-container\" hidden><div class=\"sk-item\"><div class=\"sk-estimator sk-toggleable\"><input class=\"sk-toggleable__control sk-hidden--visually\" id=\"sk-estimator-id-2\" type=\"checkbox\" checked><label for=\"sk-estimator-id-2\" class=\"sk-toggleable__label sk-toggleable__label-arrow\">LinearSVC</label><div class=\"sk-toggleable__content\"><pre>LinearSVC()</pre></div></div></div></div></div>"
      ],
      "text/plain": [
       "LinearSVC()"
      ]
     },
     "execution_count": 13,
     "metadata": {},
     "output_type": "execute_result"
    }
   ],
   "source": [
    "# Reduced\n",
    "clf_chi.fit(X_train_chi, y_train)"
   ]
  },
  {
   "cell_type": "markdown",
   "metadata": {
    "id": "RMWe6ZCDrWSo"
   },
   "source": [
    "And we're done.  How'd we do?  Now we  test on the test set.  Before we can do that we need to\n",
    "vectorize the test set.  But don't just copy what we did with the training data:\n",
    "\n",
    "```\n",
    "X_test = tf.fit_transform(T_test)\n",
    "```\n",
    "\n",
    "That would retrain the vectorizer from scratch.  Any words that occurred in the training texts\n",
    "but not in the test texts would be forgotten!  Plus training the vectorizer\n",
    "is part of the classifier training pipeline.  If we let the vectorizer see\n",
    "the test data during its training phase, we'd be compromising the whole\n",
    "idea of splitting training and test data.  So what we want to do\n",
    "with the test data is just apply the transform part of vectorizing:\n",
    "\n",
    "```\n",
    "X_test = tf.transform(T_test)\n",
    "```\n",
    "\n",
    "That is, build a representation of the test data using only the vocabulary you learned\n",
    "about in training.  Ignore any new words."
   ]
  },
  {
   "cell_type": "code",
   "execution_count": 14,
   "metadata": {
    "colab": {
     "base_uri": "https://localhost:8080/"
    },
    "id": "rewbP2vT-rRp",
    "outputId": "fa1e71c6-3712-443d-a90f-49faa0d4f013"
   },
   "outputs": [
    {
     "data": {
      "text/plain": [
       "(0.8267477203647416, 0.8358662613981763)"
      ]
     },
     "execution_count": 14,
     "metadata": {},
     "output_type": "execute_result"
    }
   ],
   "source": [
    "X_test = tf.transform(T_test)\n",
    "X_test_chi = chi2_features.transform(X_test)\n",
    "clf.score(X_test, y_test),clf_chi.score(X_test_chi, y_test)"
   ]
  },
  {
   "cell_type": "markdown",
   "metadata": {},
   "source": [
    "### Idea one:  Use a pipeline\n",
    "\n",
    "Well, not a reliable result.  But at least trimming down the model didn't seem to hurt it.\n",
    "\n",
    "Let's clean this all up a bit by putting everything in a pipeline."
   ]
  },
  {
   "cell_type": "code",
   "execution_count": 70,
   "metadata": {},
   "outputs": [
    {
     "data": {
      "text/plain": [
       "(0.8389057750759878, 0.5490909090909091, 0.8118279569892473)"
      ]
     },
     "execution_count": 70,
     "metadata": {},
     "output_type": "execute_result"
    }
   ],
   "source": [
    "from sklearn import preprocessing\n",
    "from sklearn import pipeline\n",
    "from sklearn import linear_model\n",
    "from sklearn.svm import LinearSVC\n",
    "from sklearn.feature_selection import chi2, f_classif, mutual_info_classif\n",
    "\n",
    "#from sklearn import decomposition as dec\n",
    "#from pipeline import make_pipeline\n",
    "#from sklearn.preprocessing import StandardScaler\n",
    "\n",
    "#poly = preprocessing.PolynomialFeatures(degree=20, include_bias=True)\n",
    "#scaler = preprocessing.StandardScaler()\n",
    "#lin_reg2 = linear_model.LinearRegression()\n",
    "\n",
    "X,y = df['Comment'].values,df['Insult'].values\n",
    "\n",
    "def make_tfidf_feat_selection_clf_pipeline (selection_function=None, k=5_000,\n",
    "                                         selector = SelectKBest,sublinear_tf=False):\n",
    "    tf = text.TfidfVectorizer(sublinear_tf=sublinear_tf)\n",
    "    #chi2_features = SelectKBest(selector, k)\n",
    "    if selection_function is not None:\n",
    "        k_best_features = selector(selection_function, k=k)\n",
    "    else:\n",
    "        k_best_features = selector(k=k)\n",
    "    svm_clf = LinearSVC()\n",
    "    return pipeline.Pipeline([('vect', tf), ('feat_selector', k_best_features), ('svm', svm_clf)])\n",
    "\n",
    "\n",
    "pipeline_reg = make_tfidf_feat_selection_clf_pipeline (selection_function=f_classif, k=5_000,sublinear_tf=True)\n",
    "\n",
    "# Train\n",
    "T_train,T_test, y_train,y_test = train_test_split(X,y)\n",
    "pipeline_reg.fit(T_train, y_train)\n",
    "predicted = pipeline_reg.predict(T_test)\n",
    "\n",
    "accuracy_score(predicted, y_test),\\\n",
    "precision_score(predicted, y_test),\\\n",
    "recall_score(predicted, y_test)"
   ]
  },
  {
   "cell_type": "markdown",
   "metadata": {},
   "source": [
    "### Idea 2:  Evaluate over multiple train text splits; report means\n",
    "\n"
   ]
  },
  {
   "cell_type": "code",
   "execution_count": 71,
   "metadata": {
    "scrolled": false
   },
   "outputs": [
    {
     "name": "stdout",
     "output_type": "stream",
     "text": [
      "Split 0: f_classif\n",
      "Split 0: chi2\n",
      "\n",
      "Split 1: f_classif\n",
      "Split 1: chi2\n",
      "\n",
      "Split 2: f_classif\n",
      "Split 2: chi2\n",
      "\n",
      "Split 3: f_classif\n",
      "Split 3: chi2\n",
      "\n",
      "Split 4: f_classif\n",
      "Split 4: chi2\n",
      "\n",
      "Split 5: f_classif\n",
      "Split 5: chi2\n",
      "\n",
      "Split 6: f_classif\n",
      "Split 6: chi2\n",
      "\n",
      "Split 7: f_classif\n",
      "Split 7: chi2\n",
      "\n",
      "Split 8: f_classif\n",
      "Split 8: chi2\n",
      "\n",
      "Split 9: f_classif\n",
      "Split 9: chi2\n",
      "\n",
      "f_classif   a      p     r\n",
      "===============================\n",
      "  3_000 | 0.836 0.553 0.766\n",
      "  5_000 | 0.838 0.566 0.764\n",
      " 10_000 | 0.836 0.585 0.745\n",
      "\n",
      "chi2       a      p     r\n",
      "===============================\n",
      "  3_000 | 0.838 0.559 0.769\n",
      "  5_000 | 0.838 0.578 0.757\n",
      " 10_000 | 0.835 0.592 0.738\n",
      "\n"
     ]
    }
   ],
   "source": [
    "def print_stats(stats_means):\n",
    "    \"\"\"\n",
    "    means is an i x j x 3 array.\n",
    "    i: number of selection fns\n",
    "    j: number of dimension values\n",
    "    \"\"\"\n",
    "    for (i,fn) in enumerate(selection_functions):\n",
    "        fstring = fn.__name__\n",
    "        print(f\"{fstring:<8}   a      p     r\",end=\"\\n\" + \"=\"*31 + \"\\n\")\n",
    "        fn_scores = stats_mean[i]\n",
    "        for (j,k) in enumerate(dimension_vals):\n",
    "            a,p,r = fn_scores[j]\n",
    "            print(f\" {k:>6_d} | {a:.3f} {p:.3f} {r:.3f}\")\n",
    "        print()\n",
    "\n",
    "num_splits = 10\n",
    "\n",
    "selection_functions = [f_classif, chi2]\n",
    "dimension_vals = (3_000, 5_000, 10_000)\n",
    "#accuracy, precision, recall\n",
    "num_metrics = 3\n",
    "# a 10x2x3x3 array (=120 fits)\n",
    "stats = np.zeros((num_splits, len(selection_functions), len(dimension_vals), num_metrics))\n",
    "sublinear_tf=True\n",
    "X,y = df['Comment'].values,df['Insult'].values\n",
    "\n",
    "for test_run in range(num_splits):\n",
    "    # Each candidate system in theinner loops runs on the same train/test split\n",
    "    T_train, T_test, y_train,y_test = train_test_split(X,y)\n",
    "    scores = stats[test_run]\n",
    "    for (j, selection_function) in enumerate(selection_functions):\n",
    "        print(f\"Split {test_run}: {selection_function.__name__}\",)#end=\"\\n===================\\n\")\n",
    "        j_scores = scores[j]\n",
    "        for (i,k) in enumerate(dimension_vals):\n",
    "            pipeline_reg = make_tfidf_feat_selection_clf_pipeline (selection_function = selection_function,k=k,\n",
    "                                                               sublinear_tf=sublinear_tf)\n",
    "        \n",
    "            # Train\n",
    "            pipeline_reg.fit(T_train, y_train)\n",
    "            # Test\n",
    "            predicted = pipeline_reg.predict(T_test)\n",
    "            j_scores[i] = accuracy_score(predicted, y_test),\\\n",
    "                                    precision_score(predicted, y_test),\\\n",
    "                                     recall_score(predicted, y_test)\n",
    "    print()\n",
    "\n",
    "stats_means = stats.mean(axis=0)\n",
    "print_stats(stats_means)"
   ]
  },
  {
   "cell_type": "markdown",
   "metadata": {},
   "source": [
    "The winner is?  Mostly chi2, although note if you go for the highest precision value (.592)m\n",
    "you end up with a lower recall value then if you did the same with chi2."
   ]
  },
  {
   "cell_type": "markdown",
   "metadata": {},
   "source": [
    "#### Poking around our 4d score array"
   ]
  },
  {
   "cell_type": "markdown",
   "metadata": {},
   "source": [
    "Results from the first of 10 splits (a 2x3x3 array):\n",
    "3 scores for each of  6 candidate."
   ]
  },
  {
   "cell_type": "code",
   "execution_count": 33,
   "metadata": {},
   "outputs": [
    {
     "data": {
      "text/plain": [
       "array([[[0.82674772, 0.51601423, 0.80555556],\n",
       "        [0.83181358, 0.54092527, 0.8042328 ],\n",
       "        [0.82877406, 0.5658363 , 0.77184466]],\n",
       "\n",
       "       [[0.82877406, 0.52313167, 0.80769231],\n",
       "        [0.83383992, 0.56227758, 0.79396985],\n",
       "        [0.83282675, 0.57651246, 0.77884615]]])"
      ]
     },
     "execution_count": 33,
     "metadata": {},
     "output_type": "execute_result"
    }
   ],
   "source": [
    "#stats.shape is (10, 2, 3, 3)\n",
    "# 1 of 10 splits a 2x3x3 array (3 scores for each of  6 candidates)\n",
    "test0 = stats[0]\n",
    "test0"
   ]
  },
  {
   "cell_type": "markdown",
   "metadata": {},
   "source": [
    "The chi2 scores for the first split: 3 scores each of 3 candidates."
   ]
  },
  {
   "cell_type": "code",
   "execution_count": 60,
   "metadata": {},
   "outputs": [
    {
     "data": {
      "text/plain": [
       "array([[0.83080041, 0.53584906, 0.76344086],\n",
       "       [0.83282675, 0.5509434 , 0.76041667],\n",
       "       [0.83383992, 0.58113208, 0.74396135]])"
      ]
     },
     "execution_count": 60,
     "metadata": {},
     "output_type": "execute_result"
    }
   ],
   "source": [
    "stats[0][0]"
   ]
  },
  {
   "cell_type": "code",
   "execution_count": 65,
   "metadata": {},
   "outputs": [
    {
     "data": {
      "text/plain": [
       "array([[[0.83282675, 0.54345891, 0.76623743],\n",
       "        [0.83505572, 0.55936573, 0.76309436],\n",
       "        [0.83444782, 0.58042296, 0.74624624]],\n",
       "\n",
       "       [[0.83485309, 0.55161653, 0.76786067],\n",
       "        [0.8337386 , 0.5653802 , 0.75364553],\n",
       "        [0.83454914, 0.59130789, 0.73986455]]])"
      ]
     },
     "execution_count": 65,
     "metadata": {},
     "output_type": "execute_result"
    }
   ],
   "source": [
    "# Take the means across the 10 splits\n",
    "stats_means = stats.mean(axis=0)\n",
    "#stats_means.shape (3,2,3)  18 means (3 scores for each of 6 systems)\n",
    "stats_means"
   ]
  },
  {
   "cell_type": "code",
   "execution_count": 66,
   "metadata": {},
   "outputs": [
    {
     "data": {
      "text/plain": [
       "array([0.83282675, 0.54345891, 0.76623743])"
      ]
     },
     "execution_count": 66,
     "metadata": {},
     "output_type": "execute_result"
    }
   ],
   "source": [
    "# stats_mean[0,0,:]  is selection_function=f_classif,k=3000,  apr scores\n",
    "stats_means[0,0,:]"
   ]
  },
  {
   "cell_type": "code",
   "execution_count": 67,
   "metadata": {},
   "outputs": [
    {
     "data": {
      "text/plain": [
       "array([0.83454914, 0.59130789, 0.73986455])"
      ]
     },
     "execution_count": 67,
     "metadata": {},
     "output_type": "execute_result"
    }
   ],
   "source": [
    "# stats_mean[1,2,:]  is selection_function=chi2, k=10_000, apr scores \n",
    "stats_means[1,2,:]"
   ]
  },
  {
   "cell_type": "code",
   "execution_count": 56,
   "metadata": {},
   "outputs": [
    {
     "name": "stdout",
     "output_type": "stream",
     "text": [
      "f_classif   a      p     r\n",
      "===============================\n",
      "  3_000 | 0.836 0.553 0.766\n",
      "  5_000 | 0.838 0.566 0.764\n",
      " 10_000 | 0.836 0.585 0.745\n",
      "\n",
      "chi2       a      p     r\n",
      "===============================\n",
      "  3_000 | 0.838 0.559 0.769\n",
      "  5_000 | 0.838 0.578 0.757\n",
      " 10_000 | 0.835 0.592 0.738\n",
      "\n"
     ]
    }
   ],
   "source": [
    "# This is defined and called above\n",
    "\n",
    "def print_stats(means):\n",
    "    \"\"\"\n",
    "    means is an i x j x 3 array.\n",
    "    i: number of selection fns\n",
    "    j: number of dimension values\n",
    "    \"\"\"\n",
    "    for (i,fn) in enumerate(selection_functions):\n",
    "        fstring = fn.__name__\n",
    "        print(f\"{fstring:<8}   a      p     r\",end=\"\\n\" + \"=\"*31 + \"\\n\")\n",
    "        fn_scores = stats_mean[i]\n",
    "        for (j,k) in enumerate(dimension_vals):\n",
    "            a,p,r = fn_scores[j]\n",
    "            print(f\" {k:>6_d} | {a:.3f} {p:.3f} {r:.3f}\")\n",
    "        print()\n",
    "\n",
    "print_stats(stats_means)"
   ]
  },
  {
   "cell_type": "markdown",
   "metadata": {},
   "source": [
    "####  Mutrual Information\n",
    "\n",
    "Mutual information can work like the others but used in the context of select KBest\n",
    "it requires discrete-valued features, so we need a slightly different pipeline.\n",
    "\n",
    "We will CountVectorize our doc set to give a term document matrix (TDM) filled with\n",
    "counts, run mutual information on that to feature reduce, and then classify in\n",
    "the usual way.  Note we use a TfidfTransformer rather than a TfidfVectorizer.  This\n",
    "is because the docs have already been vectorized so we need a transformer that\n",
    "maps from a TDM with counts to a TDM with TFIDF values; TfidfTransformer fits\n",
    "the bill.\n",
    "\n",
    "The following code also gives us  a chance to try out chi2 on counts, which\n",
    "it was always intended for."
   ]
  },
  {
   "cell_type": "code",
   "execution_count": 74,
   "metadata": {},
   "outputs": [
    {
     "name": "stdout",
     "output_type": "stream",
     "text": [
      "k=   500 a=0.853 p=0.766 r=0.580\n"
     ]
    }
   ],
   "source": [
    "def make_count_feat_selection_pipeline (selection_function=None, k=500,\n",
    "                                       selector = SelectKBest,sublinear_tf=False):\n",
    "\n",
    "    cv = text.CountVectorizer()\n",
    "    tf = text.TfidfTransformer(sublinear_tf=sublinear_tf)\n",
    "    \n",
    "    if selection_function is None:\n",
    "        kb = selector(k=k)\n",
    "    else:\n",
    "        kb = selector(selection_function,k=k)\n",
    "    \n",
    "    svm_clf = LinearSVC()\n",
    "    \n",
    "    pipeline_reg=pipeline.Pipeline([('vect', cv), \n",
    "                                    ('feat_selector', kb),\n",
    "                                    ('tfidf',tf), \n",
    "                                    ('svm', svm_clf)])\n",
    "    return pipeline_reg\n",
    "\n",
    "# Mutual info works  with select Kbest on discretely vectorized data\n",
    "# You can also try these others with this pipeline as well.\n",
    "# chi2 and f_classif work better with k>3K\n",
    "# selection_function = f_classif,k=k\n",
    "# selection_function = chi2, k=k\n",
    "k=500\n",
    "pipeline_reg = make_count_feat_selection_pipeline (selection_function=mutual_info_classif, k=k)\n",
    "\n",
    "# split\n",
    "T_train,T_test, y_train,y_test = train_test_split(X,y)\n",
    "# Train\n",
    "pipeline_reg.fit(T_train, y_train)\n",
    "# Test\n",
    "predicted = pipeline_reg.predict(T_test)\n",
    "\n",
    "# Evaluate\n",
    "a,p,r = accuracy_score(y_test,predicted,),\\\n",
    "        precision_score(y_test, predicted),\\\n",
    "            recall_score(y_test, predicted)\n",
    "\n",
    "# MI k= 3_000 a=0.806 p=0.789 r=0.350\n",
    "# chi k= 3_000 a=0.806 p=0.789 r=0.350\n",
    "print(f\"{k=:>6_d} {a=:.3f} {p=:.3f} {r=:.3f}\")"
   ]
  },
  {
   "cell_type": "markdown",
   "metadata": {},
   "source": [
    "##  A Mutual Information transformer\n",
    "\n",
    "We've done feature selection two different ways, on term document\n",
    "matrices representing word counts, created by the CountVectorizer,\n",
    "and on continuously-valued term document matrices representing\n",
    "word-in-document TFIDF values.\n",
    "\n",
    "To systematize this,\n",
    "let's implement a Mutual Information-Transformer (MI-Xformer), using the scikit learn interface.\n",
    "\n",
    "Assumption:\n",
    "The MIT **always** accepts a Term Doc Matrix (= a TDM, a 2D numpy array) and always outputs  a 2D numpy array with fewer columns.\n",
    "\n",
    "We will use the MI X-former two ways\n",
    "\n",
    "1.  Pass in a sequence of strings and select a vocab using word counts (operating on a Count Vectorized TDM like we did above)\n",
    "2.  Operate on a TFIDF-valued TDM to do feature selection.\n",
    "\n",
    "\n",
    "Model A\n",
    "----------\n",
    "\n",
    "To do feature selection on the base of counts, we pass the MI X-former a count vectorizer \n",
    "TDM and pass back a truncated TDM.  We then pass that to a TFIDFTransformer.\n",
    "(which accepts a CountVectorized TDM).\n",
    "\n",
    "\n",
    "T_Train, T_Test, y_Train, y_Test\n",
    "\n",
    "vec_pipe = [CountVectorizer =>  Mutual Info => TFIDFTransformer => LinearSVC]\n",
    "\n",
    "X_Train = vec_pipe.fit_transform(T_Train)\n",
    "predicted = vec_pipe.transform(T_test)\n",
    "\n",
    "\n",
    "Model B\n",
    "-----------\n",
    "\n",
    "To do feature selection on the base of continuous TFIDF values, \n",
    "we pass the MI X-former a TFIDF TDM to do feature selection.\n",
    "\n",
    "```python\n",
    "T_Train, T_Test, y_Train, y_Test\n",
    "```\n",
    "\n",
    "vec_pipe = [TFIDFVectorizer =>  Mutual Info => LinearSVC]\n",
    "\n",
    "\n",
    "```python\n",
    "X_Train = vec_pipe.fit_transform(T_Train)\n",
    "predicted = vec_pipe.transform(T_test)\n",
    "```\n",
    "\n",
    "Note we switch from the TFIDFTransformer to the TFIDF Vectorizer,  The former accepts a TDM \n",
    "with discrete count values as input.  The latter wants a sequence of document strings.  Both\n",
    "output a TDM with TFIDF values.  \n",
    "\n",
    "CountVectorizer => TFIDFTransformer\n",
    "\n",
    "is equivalent  to\n",
    "\n",
    "TFIDFVectorizer\n",
    "\n",
    "The motivation for resorting to the  Transformer is so that we could interpose\n",
    "Mutual Information feature selection between Count Vectorizing and converting the\n",
    "counts to TFIDF values.  This allows MI selection to work on probabilities based on counts,\n",
    "more or less its original intent, and avoids averaging based on nearest neighbors.\n",
    "\n",
    "In the implementation below, we use the parameter `discrete_features` to switch \n",
    "between Model A and Model B."
   ]
  },
  {
   "cell_type": "code",
   "execution_count": 5,
   "metadata": {},
   "outputs": [],
   "source": [
    "from sklearn.datasets import make_classification\n",
    "\n",
    "class MutualInfo:\n",
    "    \n",
    "    def  __init__(self,k,discrete_features=True):\n",
    "        self.k =k\n",
    "        self.discrete_features = discrete_features\n",
    "        \n",
    "    def fit_transform(self,X,y,make_sparse=True):\n",
    "        \"\"\"\n",
    "        If self.use_counts create  cv, a count vectorized version of X,\n",
    "        and assign feature ranks based mutual info of cv[:,feat_i] and y\n",
    "        Use the feature ranks to choose a vocab of size self.k.\n",
    "        \n",
    "        Otherwise assign feature ranks based mutual info of X[:,feat_i] and y\n",
    "        Use the feature ranks to choose a vocab of size self.k.\n",
    "        \"\"\"\n",
    "        \n",
    "        if make_sparse and hasattr(X,'toarray'):\n",
    "            X = X.toarray()\n",
    "    \n",
    "        ranks = mutual_info_classif(X, y,discrete_features=self.discrete_features)\n",
    "        self.idxs = ranks.argsort()[-self.k:]\n",
    "        return self.transform(X)\n",
    "\n",
    "    def transform (self, X):\n",
    "        if X.ndim == 2:\n",
    "            return X[:,self.idxs]\n",
    "        else:\n",
    "            return X[self.idxs]\n",
    "\n",
    "\n",
    "sublinear_tf,k=True,3000"
   ]
  },
  {
   "cell_type": "code",
   "execution_count": 294,
   "metadata": {},
   "outputs": [
    {
     "name": "stdout",
     "output_type": "stream",
     "text": [
      "k= 3_000 a=0.817 p=0.765 r=0.533\n"
     ]
    }
   ],
   "source": [
    "### Model A\n",
    "\n",
    "def make_model_A ():\n",
    "    cv = CountVectorizer()\n",
    "    mi = MutualInfo(k=k,discrete_features=True)\n",
    "    tf = text.TfidfTransformer(sublinear_tf=sublinear_tf)\n",
    "    svm_clf = LinearSVC()\n",
    "\n",
    "    return pipeline.Pipeline([('vect', cv), \n",
    "                              ('feat_selector', mi), \n",
    "                              ('tfidf_vect',tf), \n",
    "                              ('svm', svm_clf)])\n",
    "\n",
    "# Data \n",
    "X,y = df[\"Comment\"].values,df[\"Insult\"].values\n",
    "T_train,T_test, y_train,y_test = train_test_split(X,y)\n",
    "\n",
    "#Train\n",
    "vec_pipe = make_model_A ()\n",
    "vec_pipe.fit(T_train, y_train)\n",
    "#Test\n",
    "predicted = vec_pipe.predict(T_test)\n",
    "\n",
    "a,p, r = accuracy_score(y_test,predicted),\\\n",
    "           precision_score(y_test, predicted),\\\n",
    "              recall_score(y_test, predicted)\n",
    "\n",
    "print(f\"{k=:>6_d} {a=:.3f} {p=:.3f} {r=:.3f}\")"
   ]
  },
  {
   "cell_type": "code",
   "execution_count": 295,
   "metadata": {},
   "outputs": [
    {
     "name": "stdout",
     "output_type": "stream",
     "text": [
      "k= 3_000 a=0.785 p=0.678 r=0.482\n"
     ]
    }
   ],
   "source": [
    "# Model B\n",
    "\n",
    "def make_model_B():\n",
    "    mi = MutualInfo(k=k, discrete_features=False)\n",
    "    tf = text.TfidfVectorizer(sublinear_tf=sublinear_tf)\n",
    "    svm_clf = LinearSVC()\n",
    "\n",
    "    return pipeline.Pipeline([('tfidf_vect',tf),  ('feat_selector', mi), ('svm', svm_clf)])\n",
    "\n",
    "# Data \n",
    "X,y = df[\"Comment\"].values,df[\"Insult\"].values\n",
    "T_train,T_test, y_train,y_test = train_test_split(X,y)\n",
    "\n",
    "#Train\n",
    "vec_pipe =  make_model_B()\n",
    "vec_pipe.fit(T_train, y_train)\n",
    "#Test\n",
    "predicted = vec_pipe.predict(T_test)\n",
    "\n",
    "a,p, r = accuracy_score(y_test, predicted),\\\n",
    "           precision_score(y_test, predicted),\\\n",
    "              recall_score(y_test, predicted)\n",
    "\n",
    "print(f\"{k=:>6_d} {a=:.3f} {p=:.3f} {r=:.3f}\")"
   ]
  },
  {
   "cell_type": "markdown",
   "metadata": {},
   "source": [
    "### Dimensionality reduction (Latent Semantic Analysis)"
   ]
  },
  {
   "cell_type": "markdown",
   "metadata": {},
   "source": [
    "The basic idea of dimensionality reduction to be explored below.\n",
    "\n",
    "Model\n",
    "\n",
    "[TFDIF -> TruncatedSVD -> SVM]\n",
    "\n"
   ]
  },
  {
   "cell_type": "markdown",
   "metadata": {},
   "source": [
    "From the scikit learn docs:  \n",
    "\n",
    ">In particular, truncated SVD works on term count/tf-idf matrices as returned by the vectorizers in sklearn.feature_extraction.text. In that context, it is known as latent semantic analysis (LSA).\n",
    "\n",
    "It might look appealing to use PCA in this context, especially since it has such nice mathematical properties, and appear so close computationally.  But close is often not good enough in computational contexts.  The centering operation that PCA starts with cannot currently be performed on sparse arrays (CSR or compressed sparse row arrays in numpy).  The cost of expanding the arrays to center them is computationally prohibitive; most importantly, it can blow up memory.  \n",
    "\n",
    "> Note: see [this github numpy patch](https://rasbt.github.io/mlxtend/user_guide/preprocessing/MeanCenterer/) intended to solve the problem.\n",
    "\n",
    "The scikit learn folks have addressed the problem in principle and offer a Sparse PCA implementation,\n",
    "but as noted in the code below, it seems not to be behaving well on this data.\n"
   ]
  },
  {
   "cell_type": "code",
   "execution_count": 6,
   "metadata": {},
   "outputs": [
    {
     "name": "stdout",
     "output_type": "stream",
     "text": [
      "k= 3_000 a=0.847 p=0.721 r=0.630\n"
     ]
    }
   ],
   "source": [
    "from sklearn.decomposition import TruncatedSVD #, NMF, PCA, \n",
    "# Avoiding SparsePCA which seems ill-behaved\n",
    "# NMF seems to be too costly for this data.\n",
    "\n",
    "from datetime import datetime\n",
    "\n",
    "\n",
    "## Data \n",
    "X,y = df[\"Comment\"].values,df[\"Insult\"].values\n",
    "T_train,T_test, y_train,y_test = train_test_split(X,y)\n",
    "\n",
    "pipe = pipeline.Pipeline(\n",
    "    [\n",
    "        (\"vectorizer\", text.TfidfVectorizer()),\n",
    "        # the reduce_dim stage is populated by the param_grid\n",
    "        (\"reduce_dim\", TruncatedSVD(n_components=k)),\n",
    "        (\"classify\", LinearSVC()),\n",
    "    ]\n",
    ")\n",
    "\n",
    "pipe.fit(T_train,y_train)\n",
    "predicted = pipe.predict(T_test)\n",
    "\n",
    "### Eval\n",
    "a,p, r = accuracy_score(y_test, predicted),\\\n",
    "           precision_score(y_test, predicted),\\\n",
    "              recall_score(y_test, predicted)\n",
    "\n",
    "print(f\"{k=:>6_d} {a=:.3f} {p=:.3f} {r=:.3f}\")"
   ]
  },
  {
   "cell_type": "code",
   "execution_count": 13,
   "metadata": {},
   "outputs": [
    {
     "name": "stdout",
     "output_type": "stream",
     "text": [
      "Using Truncated SVD for reduction\n",
      "Beginning reduction fit print 2024-04-21 09:24:58.187237 \n",
      "Reduction fit completed 2024-04-21 09:25:40.401928 \n",
      "k= 3_000 a=0.825 p=0.717 r=0.593\n"
     ]
    }
   ],
   "source": [
    "from sklearn.decomposition import NMF, PCA, TruncatedSVD\n",
    "\n",
    "# Avoiding SparsePCA which seems ill-behaved\n",
    "# NMF seems to be too costly for this data.\n",
    "\n",
    "from datetime import datetime\n",
    "from sklearn.model_selection import cross_val_score, ShuffleSplit\n",
    "\n",
    "## Data \n",
    "X,y = df[\"Comment\"].values,df[\"Insult\"].values\n",
    "T_train,T_test, y_train,y_test = train_test_split(X,y)\n",
    "\n",
    "## Reduction params\n",
    "#k,sparse_pca=500,False\n",
    "k,sparse_pca=3_000,False\n",
    "#red = TruncatedSVD(n_components=k)\n",
    "#red = NMF(n_components=k)\n",
    "\n",
    "if sparse_pca:\n",
    "    print(\"Using sparse PCA for reduction\")\n",
    "    red = SparsePCA(n_components=k)\n",
    "else:\n",
    "    print(\"Using Truncated SVD for reduction\")\n",
    "    red = TruncatedSVD(n_components=k)\n",
    "# Data \n",
    "\n",
    "#TSVD k= 500 a=0.823 p=0.716 r=0.580\n",
    "\n",
    "######  Text -> TFIDF\n",
    "vectorizer = text.TfidfVectorizer()\n",
    "X_train = vectorizer.fit_transform(T_train)\n",
    "X_test = vectorizer.transform(T_test)\n",
    "\n",
    "if sparse_pca:\n",
    "    X_train = X_train.toarray()\n",
    "    X_test = X_test.toarray()\n",
    "\n",
    "#########\n",
    "\n",
    "###### TFIDF -> reduced\n",
    "print(f\"Beginning reduction fit print {datetime.now()} \")\n",
    "X_train_red = red.fit_transform(X_train)\n",
    "print(f\"Reduction fit completed {datetime.now()} \")\n",
    "X_test_red = red.transform(X_test)\n",
    "############\n",
    "\n",
    "### Reduced =>  Class\n",
    "\n",
    "svm_clf = LinearSVC()\n",
    "svm_clf.fit(X_train_red,y_train)\n",
    "predicted = svm_clf.predict(X_test_red)\n",
    "\n",
    "### Eval\n",
    "a,p, r = accuracy_score(y_test, predicted),\\\n",
    "           precision_score(y_test, predicted),\\\n",
    "              recall_score(y_test, predicted)\n",
    "\n",
    "print(f\"{k=:>6_d} {a=:.3f} {p=:.3f} {r=:.3f}\")"
   ]
  },
  {
   "cell_type": "markdown",
   "metadata": {},
   "source": [
    "```\n",
    "Using Truncated SVD for reduction\n",
    "Beginning reduction fit print 2024-04-20 12:32:33.001275 \n",
    "Reduction fit completed 2024-04-20 12:33:17.055381 \n",
    "k= 3_000 a=0.843 p=0.761 r=0.630\n",
    "\n",
    "Using Truncated SVD for reduction\n",
    "Beginning reduction fit print 2024-04-20 12:33:51.944394 \n",
    "Reduction fit completed 2024-04-20 12:34:34.503089 \n",
    "k= 3_000 a=0.818 p=0.702 r=0.600\n",
    "\n",
    "Using Truncated SVD for reduction\n",
    "Beginning reduction fit print 2024-04-20 12:34:54.958394 \n",
    "Reduction fit completed 2024-04-20 12:35:37.068576 \n",
    "k= 3_000 a=0.848 p=0.791 r=0.579\n",
    "\n",
    "Using Truncated SVD for reduction\n",
    "Beginning reduction fit print 2024-04-20 12:35:57.324080 \n",
    "Reduction fit completed 2024-04-20 12:36:39.164440 \n",
    "k= 3_000 a=0.830 p=0.750 r=0.600\n",
    "\n",
    "Using Truncated SVD for reduction\n",
    "Beginning reduction fit print 2024-04-21 09:20:12.280890 \n",
    "Reduction fit completed 2024-04-21 09:20:54.727115 \n",
    "k= 3_000 a=0.819 p=0.745 r=0.607\n",
    "\n",
    "```"
   ]
  },
  {
   "cell_type": "markdown",
   "metadata": {},
   "source": [
    "###  Putting it all together:  The Grid Search\n",
    "\n",
    "We have two sets of different techniques for reducing the size of document representations\n",
    "and hopefully improving classifier performance: dimensionality redction and feature selection.\n",
    "But which reduction technique should we use, and how many features should we keep?\n",
    "\n",
    "Answering questions like these is what the scikit learn grid search package was designed for.\n",
    "\n",
    "But a note of <font color=\"red\" size=8>warning.<font>\n",
    "    \n",
    "This is a computationally costly experiment.\n",
    "    \n",
    "1.  The setup below involves taking the cross-product of 3 experiment parameters, which ends up\n",
    "    creating 20 system candidates (details in the code).  In addition we are doing 3-fold cross\n",
    "    validation, which means a total of 60 fits.\n",
    "2.  That will of course raise issues of **time**. Time effects will be multiplicative. For example.\n",
    "    the computation time for most expensive component (TruncatedSVD below) will be multiplied by\n",
    "    the number of components it combines.   To complete the phase using SVD below we have\n",
    "    to explore a parameter space with 2x3 settings, \n",
    "    2 values for the C-parameter of the SVM times 3 values for \n",
    "    the number of dimensions in  the SVD-reduction.  The same is true for the two feature selection\n",
    "    techniques, $\\chi^{2}$ (`chi2`) and ANOVA f-value (`fclassif`).\n",
    "3.  Everything just said about time may apply to memory, but in somewhat more unpredictable ways.  It turns\n",
    "    out memory was the killer in the example below.  The experiment hung for hours on an Apple M1 Pro with\n",
    "    16 GB of memory. It ran to completion in 8 minutes on a PC with 32 GB of meory and a GPU (which I'm\n",
    "    not sure was used). The interesting thing is that the memory issue only arise in the pipeline.  The   \n",
    "    Truncated SVD runs in under 1 minute on the Mac using teh code in the previous section, as illu\n",
    "    "
   ]
  },
  {
   "cell_type": "markdown",
   "metadata": {},
   "source": [
    "#### Structure of the experiment"
   ]
  },
  {
   "cell_type": "markdown",
   "metadata": {},
   "source": [
    "There are three dimensions of variation:\n",
    "\n",
    "\n",
    "1. Reducer (4 values):  SVD, Identity, Chi2, ANOVA F-Value.  \n",
    "2. C-value (2 values); 1 and 10.   This is the slack variable that controls how expanding the \n",
    "   geometric margin of the classifier is traded off for misclassifying a few points.\n",
    "3. N of features in reduction (3 values: 500, 3_000, 5_000).\n",
    "\n",
    "\n",
    "in that order.  In other words, the triples defining a parameter setting are generated like this:\n",
    "\n",
    "```\n",
    "(SVD,   1,     500)\n",
    "(SVD,   1,   3,000)\n",
    "(SVD,   1,   5,000)\n",
    "(SVD,  10,     500)\n",
    "(SVD,  10,   3,000)\n",
    "(SVD,  10,   5,000)\n",
    "(ChiSq  1,     500)\n",
    "(ChiSq  1,   3,000)\n",
    "  ...\n",
    "```\n",
    "That's a 4x2x3 grid.  That's 24 grid points. So each reducer should define a 2x3 grid of values,\n",
    "which shows up as expected for SVD above,\n",
    "\n",
    "But with the defective reducer Ident we only get a grid of shape (2,) the two\n",
    "C-values,  It doesn't make sense to vary the number of dimensions in the\n",
    "reduction when there is no reduction, which mean we end up with only 20 candidates\n",
    "instead of 24 (3x2x3 plus 1x2x1). So we \"broadcast out\"  the Ident Transformer numbers \n",
    "into a (3x2x4) grid in the code below to make manipulating, reading and visualizing the data easier."
   ]
  },
  {
   "cell_type": "code",
   "execution_count": 7,
   "metadata": {},
   "outputs": [],
   "source": [
    "# These could be used but are not ucrrently being used.\n",
    "#from sklearn.model_selection import RandomizedSearchCV, cross_val_score\n",
    "\n",
    "from sklearn.model_selection import ShuffleSplit\n",
    "\n",
    "X,y = df[\"Comment\"].values,df[\"Insult\"].values\n",
    "\n",
    "pipe = pipeline.Pipeline(\n",
    "    [\n",
    "        (\"vectorizer\", text.TfidfVectorizer()),\n",
    "        # the reduce_dim stage is populated by the param_grid\n",
    "        (\"reduce_dim\", \"passthrough\"),\n",
    "        (\"classify\", LinearSVC()),\n",
    "    ]\n",
    ")\n",
    "\n",
    "#N_FEATURES_OPTIONS = [5_000, 3_000, 500]\n",
    "N_FEATURES_OPTIONS = [500, 3_000, 5_000]\n",
    "#C_OPTIONS = np.logspace(0,2,3)\n",
    "C_OPTIONS = np.logspace(0,1,2)\n",
    "#DIM_REDUCERS = [TruncatedSVD(), NMF(max_iter=1_000)]\n",
    "#DIM_REDUCERS = [TruncatedSVD()]\n",
    "\n",
    "from sklearn.base import BaseEstimator, TransformerMixin\n",
    "\n",
    "class IdentityTransformer(BaseEstimator, TransformerMixin):\n",
    "    def __init__(self, n_components=0):\n",
    "        self.n_components=n_components\n",
    "        pass\n",
    "    \n",
    "    def fit(self, input_array, y=None):\n",
    "        print(self.n_components)\n",
    "        return self\n",
    "    \n",
    "    def transform(self, input_array, y=None):\n",
    "        return input_array*1\n",
    "\n",
    "#DIM_REDUCERS = [TruncatedSVD(), NMF(max_iter=1_000)]\n",
    "#DIM_REDUCERS = [IdentityTransformer(), TruncatedSVD()]\n",
    "DIM_REDUCERS = [TruncatedSVD()]\n",
    "\n",
    "param_grid = [\n",
    "    {\n",
    "        \"reduce_dim\": DIM_REDUCERS,\n",
    "        \"reduce_dim__n_components\": N_FEATURES_OPTIONS,\n",
    "        \"classify__C\": C_OPTIONS,\n",
    "    },\n",
    "    {\n",
    "        \"reduce_dim\": [IdentityTransformer()],\n",
    "        \"classify__C\": C_OPTIONS,\n",
    "        \n",
    "    },\n",
    "    {\n",
    "        \"reduce_dim\": [SelectKBest(chi2),SelectKBest(f_classif)],\n",
    "        \"reduce_dim__k\": N_FEATURES_OPTIONS,\n",
    "        \"classify__C\": C_OPTIONS,\n",
    "    },\n",
    "]\n",
    "\n",
    "# The default is 5-fold cross validation\n",
    "#cv=3\n",
    "cv = ShuffleSplit(n_splits=3, test_size=0.2, random_state=0)\n"
   ]
  },
  {
   "cell_type": "markdown",
   "metadata": {},
   "source": [
    "For code that is going to go away for a long time before returning, it is a good idea to\n",
    "\n",
    "1.  Print out messages indicating progress, which may later provide clues to where the bottlenecks are.  In\n",
    "    the code below, that's achieved by setting  `verbose = 10`  when\n",
    "    creating the `GridSearchCV` instance (line 19).\n",
    "2.  Include code that reports timing results."
   ]
  },
  {
   "cell_type": "code",
   "execution_count": 8,
   "metadata": {
    "scrolled": false
   },
   "outputs": [
    {
     "name": "stdout",
     "output_type": "stream",
     "text": [
      "Wednesday 24. April 2024 10:23:13\n",
      "Fitting 3 folds for each of 20 candidates, totalling 60 fits\n",
      "[CV 1/3; 1/20] START classify__C=1.0, reduce_dim=TruncatedSVD(), reduce_dim__n_components=500\n",
      "[CV 1/3; 1/20] END classify__C=1.0, reduce_dim=TruncatedSVD(), reduce_dim__n_components=500;, score=0.704 total time=   2.5s\n",
      "[CV 2/3; 1/20] START classify__C=1.0, reduce_dim=TruncatedSVD(), reduce_dim__n_components=500\n",
      "[CV 2/3; 1/20] END classify__C=1.0, reduce_dim=TruncatedSVD(), reduce_dim__n_components=500;, score=0.670 total time=   2.3s\n",
      "[CV 3/3; 1/20] START classify__C=1.0, reduce_dim=TruncatedSVD(), reduce_dim__n_components=500\n",
      "[CV 3/3; 1/20] END classify__C=1.0, reduce_dim=TruncatedSVD(), reduce_dim__n_components=500;, score=0.655 total time=   2.4s\n",
      "[CV 1/3; 2/20] START classify__C=1.0, reduce_dim=TruncatedSVD(), reduce_dim__n_components=3000\n",
      "[CV 1/3; 2/20] END classify__C=1.0, reduce_dim=TruncatedSVD(), reduce_dim__n_components=3000;, score=0.705 total time=  37.7s\n",
      "[CV 2/3; 2/20] START classify__C=1.0, reduce_dim=TruncatedSVD(), reduce_dim__n_components=3000\n",
      "[CV 2/3; 2/20] END classify__C=1.0, reduce_dim=TruncatedSVD(), reduce_dim__n_components=3000;, score=0.668 total time=  39.9s\n",
      "[CV 3/3; 2/20] START classify__C=1.0, reduce_dim=TruncatedSVD(), reduce_dim__n_components=3000\n",
      "[CV 3/3; 2/20] END classify__C=1.0, reduce_dim=TruncatedSVD(), reduce_dim__n_components=3000;, score=0.638 total time=  39.0s\n",
      "[CV 1/3; 3/20] START classify__C=1.0, reduce_dim=TruncatedSVD(), reduce_dim__n_components=5000\n",
      "[CV 1/3; 3/20] END classify__C=1.0, reduce_dim=TruncatedSVD(), reduce_dim__n_components=5000;, score=0.705 total time=  43.6s\n",
      "[CV 2/3; 3/20] START classify__C=1.0, reduce_dim=TruncatedSVD(), reduce_dim__n_components=5000\n",
      "[CV 2/3; 3/20] END classify__C=1.0, reduce_dim=TruncatedSVD(), reduce_dim__n_components=5000;, score=0.663 total time=  41.2s\n",
      "[CV 3/3; 3/20] START classify__C=1.0, reduce_dim=TruncatedSVD(), reduce_dim__n_components=5000\n",
      "[CV 3/3; 3/20] END classify__C=1.0, reduce_dim=TruncatedSVD(), reduce_dim__n_components=5000;, score=0.653 total time=  41.1s\n",
      "[CV 1/3; 4/20] START classify__C=10.0, reduce_dim=TruncatedSVD(), reduce_dim__n_components=500\n",
      "[CV 1/3; 4/20] END classify__C=10.0, reduce_dim=TruncatedSVD(), reduce_dim__n_components=500;, score=0.703 total time=   3.3s\n",
      "[CV 2/3; 4/20] START classify__C=10.0, reduce_dim=TruncatedSVD(), reduce_dim__n_components=500\n",
      "[CV 2/3; 4/20] END classify__C=10.0, reduce_dim=TruncatedSVD(), reduce_dim__n_components=500;, score=0.685 total time=   3.7s\n",
      "[CV 3/3; 4/20] START classify__C=10.0, reduce_dim=TruncatedSVD(), reduce_dim__n_components=500\n",
      "[CV 3/3; 4/20] END classify__C=10.0, reduce_dim=TruncatedSVD(), reduce_dim__n_components=500;, score=0.653 total time=   3.2s\n",
      "[CV 1/3; 5/20] START classify__C=10.0, reduce_dim=TruncatedSVD(), reduce_dim__n_components=3000\n",
      "[CV 1/3; 5/20] END classify__C=10.0, reduce_dim=TruncatedSVD(), reduce_dim__n_components=3000;, score=0.692 total time=  43.1s\n",
      "[CV 2/3; 5/20] START classify__C=10.0, reduce_dim=TruncatedSVD(), reduce_dim__n_components=3000\n",
      "[CV 2/3; 5/20] END classify__C=10.0, reduce_dim=TruncatedSVD(), reduce_dim__n_components=3000;, score=0.647 total time=  42.0s\n",
      "[CV 3/3; 5/20] START classify__C=10.0, reduce_dim=TruncatedSVD(), reduce_dim__n_components=3000\n",
      "[CV 3/3; 5/20] END classify__C=10.0, reduce_dim=TruncatedSVD(), reduce_dim__n_components=3000;, score=0.642 total time=  42.0s\n",
      "[CV 1/3; 6/20] START classify__C=10.0, reduce_dim=TruncatedSVD(), reduce_dim__n_components=5000\n",
      "[CV 1/3; 6/20] END classify__C=10.0, reduce_dim=TruncatedSVD(), reduce_dim__n_components=5000;, score=0.681 total time=  46.2s\n",
      "[CV 2/3; 6/20] START classify__C=10.0, reduce_dim=TruncatedSVD(), reduce_dim__n_components=5000\n",
      "[CV 2/3; 6/20] END classify__C=10.0, reduce_dim=TruncatedSVD(), reduce_dim__n_components=5000;, score=0.650 total time=  44.0s\n",
      "[CV 3/3; 6/20] START classify__C=10.0, reduce_dim=TruncatedSVD(), reduce_dim__n_components=5000\n",
      "[CV 3/3; 6/20] END classify__C=10.0, reduce_dim=TruncatedSVD(), reduce_dim__n_components=5000;, score=0.623 total time=  45.4s\n",
      "[CV 1/3; 7/20] START classify__C=1.0, reduce_dim=IdentityTransformer()..........\n",
      "0\n",
      "[CV 1/3; 7/20] END classify__C=1.0, reduce_dim=IdentityTransformer();, score=0.705 total time=   0.1s\n",
      "[CV 2/3; 7/20] START classify__C=1.0, reduce_dim=IdentityTransformer()..........\n",
      "0\n",
      "[CV 2/3; 7/20] END classify__C=1.0, reduce_dim=IdentityTransformer();, score=0.663 total time=   0.1s\n",
      "[CV 3/3; 7/20] START classify__C=1.0, reduce_dim=IdentityTransformer()..........\n",
      "0\n",
      "[CV 3/3; 7/20] END classify__C=1.0, reduce_dim=IdentityTransformer();, score=0.653 total time=   0.1s\n",
      "[CV 1/3; 8/20] START classify__C=10.0, reduce_dim=IdentityTransformer().........\n",
      "0\n",
      "[CV 1/3; 8/20] END classify__C=10.0, reduce_dim=IdentityTransformer();, score=0.681 total time=   0.2s\n",
      "[CV 2/3; 8/20] START classify__C=10.0, reduce_dim=IdentityTransformer().........\n",
      "0\n",
      "[CV 2/3; 8/20] END classify__C=10.0, reduce_dim=IdentityTransformer();, score=0.650 total time=   0.1s\n",
      "[CV 3/3; 8/20] START classify__C=10.0, reduce_dim=IdentityTransformer().........\n",
      "0\n",
      "[CV 3/3; 8/20] END classify__C=10.0, reduce_dim=IdentityTransformer();, score=0.623 total time=   0.1s\n",
      "[CV 1/3; 9/20] START classify__C=1.0, reduce_dim=SelectKBest(score_func=<function chi2 at 0x7fe6702c4360>), reduce_dim__k=500\n",
      "[CV 1/3; 9/20] END classify__C=1.0, reduce_dim=SelectKBest(score_func=<function chi2 at 0x7fe6702c4360>), reduce_dim__k=500;, score=0.703 total time=   0.1s\n",
      "[CV 2/3; 9/20] START classify__C=1.0, reduce_dim=SelectKBest(score_func=<function chi2 at 0x7fe6702c4360>), reduce_dim__k=500\n",
      "[CV 2/3; 9/20] END classify__C=1.0, reduce_dim=SelectKBest(score_func=<function chi2 at 0x7fe6702c4360>), reduce_dim__k=500;, score=0.633 total time=   0.1s\n",
      "[CV 3/3; 9/20] START classify__C=1.0, reduce_dim=SelectKBest(score_func=<function chi2 at 0x7fe6702c4360>), reduce_dim__k=500\n",
      "[CV 3/3; 9/20] END classify__C=1.0, reduce_dim=SelectKBest(score_func=<function chi2 at 0x7fe6702c4360>), reduce_dim__k=500;, score=0.624 total time=   0.1s\n",
      "[CV 1/3; 10/20] START classify__C=1.0, reduce_dim=SelectKBest(score_func=<function chi2 at 0x7fe6702c4360>), reduce_dim__k=3000\n",
      "[CV 1/3; 10/20] END classify__C=1.0, reduce_dim=SelectKBest(score_func=<function chi2 at 0x7fe6702c4360>), reduce_dim__k=3000;, score=0.688 total time=   0.1s\n",
      "[CV 2/3; 10/20] START classify__C=1.0, reduce_dim=SelectKBest(score_func=<function chi2 at 0x7fe6702c4360>), reduce_dim__k=3000\n",
      "[CV 2/3; 10/20] END classify__C=1.0, reduce_dim=SelectKBest(score_func=<function chi2 at 0x7fe6702c4360>), reduce_dim__k=3000;, score=0.648 total time=   0.1s\n",
      "[CV 3/3; 10/20] START classify__C=1.0, reduce_dim=SelectKBest(score_func=<function chi2 at 0x7fe6702c4360>), reduce_dim__k=3000\n",
      "[CV 3/3; 10/20] END classify__C=1.0, reduce_dim=SelectKBest(score_func=<function chi2 at 0x7fe6702c4360>), reduce_dim__k=3000;, score=0.609 total time=   0.1s\n",
      "[CV 1/3; 11/20] START classify__C=1.0, reduce_dim=SelectKBest(score_func=<function chi2 at 0x7fe6702c4360>), reduce_dim__k=5000\n",
      "[CV 1/3; 11/20] END classify__C=1.0, reduce_dim=SelectKBest(score_func=<function chi2 at 0x7fe6702c4360>), reduce_dim__k=5000;, score=0.667 total time=   0.1s\n",
      "[CV 2/3; 11/20] START classify__C=1.0, reduce_dim=SelectKBest(score_func=<function chi2 at 0x7fe6702c4360>), reduce_dim__k=5000\n",
      "[CV 2/3; 11/20] END classify__C=1.0, reduce_dim=SelectKBest(score_func=<function chi2 at 0x7fe6702c4360>), reduce_dim__k=5000;, score=0.652 total time=   0.1s\n",
      "[CV 3/3; 11/20] START classify__C=1.0, reduce_dim=SelectKBest(score_func=<function chi2 at 0x7fe6702c4360>), reduce_dim__k=5000\n",
      "[CV 3/3; 11/20] END classify__C=1.0, reduce_dim=SelectKBest(score_func=<function chi2 at 0x7fe6702c4360>), reduce_dim__k=5000;, score=0.605 total time=   0.1s\n",
      "[CV 1/3; 12/20] START classify__C=1.0, reduce_dim=SelectKBest(), reduce_dim__k=500\n",
      "[CV 1/3; 12/20] END classify__C=1.0, reduce_dim=SelectKBest(), reduce_dim__k=500;, score=0.706 total time=   0.1s\n",
      "[CV 2/3; 12/20] START classify__C=1.0, reduce_dim=SelectKBest(), reduce_dim__k=500\n",
      "[CV 2/3; 12/20] END classify__C=1.0, reduce_dim=SelectKBest(), reduce_dim__k=500;, score=0.663 total time=   0.1s\n",
      "[CV 3/3; 12/20] START classify__C=1.0, reduce_dim=SelectKBest(), reduce_dim__k=500\n",
      "[CV 3/3; 12/20] END classify__C=1.0, reduce_dim=SelectKBest(), reduce_dim__k=500;, score=0.631 total time=   0.1s\n",
      "[CV 1/3; 13/20] START classify__C=1.0, reduce_dim=SelectKBest(), reduce_dim__k=3000\n",
      "[CV 1/3; 13/20] END classify__C=1.0, reduce_dim=SelectKBest(), reduce_dim__k=3000;, score=0.683 total time=   0.1s\n",
      "[CV 2/3; 13/20] START classify__C=1.0, reduce_dim=SelectKBest(), reduce_dim__k=3000\n",
      "[CV 2/3; 13/20] END classify__C=1.0, reduce_dim=SelectKBest(), reduce_dim__k=3000;, score=0.645 total time=   0.1s\n",
      "[CV 3/3; 13/20] START classify__C=1.0, reduce_dim=SelectKBest(), reduce_dim__k=3000\n",
      "[CV 3/3; 13/20] END classify__C=1.0, reduce_dim=SelectKBest(), reduce_dim__k=3000;, score=0.629 total time=   0.1s\n",
      "[CV 1/3; 14/20] START classify__C=1.0, reduce_dim=SelectKBest(), reduce_dim__k=5000\n",
      "[CV 1/3; 14/20] END classify__C=1.0, reduce_dim=SelectKBest(), reduce_dim__k=5000;, score=0.667 total time=   0.1s\n",
      "[CV 2/3; 14/20] START classify__C=1.0, reduce_dim=SelectKBest(), reduce_dim__k=5000\n",
      "[CV 2/3; 14/20] END classify__C=1.0, reduce_dim=SelectKBest(), reduce_dim__k=5000;, score=0.652 total time=   0.1s\n",
      "[CV 3/3; 14/20] START classify__C=1.0, reduce_dim=SelectKBest(), reduce_dim__k=5000\n",
      "[CV 3/3; 14/20] END classify__C=1.0, reduce_dim=SelectKBest(), reduce_dim__k=5000;, score=0.608 total time=   0.1s\n",
      "[CV 1/3; 15/20] START classify__C=10.0, reduce_dim=SelectKBest(score_func=<function chi2 at 0x7fe6702c4360>), reduce_dim__k=500\n",
      "[CV 1/3; 15/20] END classify__C=10.0, reduce_dim=SelectKBest(score_func=<function chi2 at 0x7fe6702c4360>), reduce_dim__k=500;, score=0.658 total time=   0.1s\n",
      "[CV 2/3; 15/20] START classify__C=10.0, reduce_dim=SelectKBest(score_func=<function chi2 at 0x7fe6702c4360>), reduce_dim__k=500\n",
      "[CV 2/3; 15/20] END classify__C=10.0, reduce_dim=SelectKBest(score_func=<function chi2 at 0x7fe6702c4360>), reduce_dim__k=500;, score=0.642 total time=   0.1s\n",
      "[CV 3/3; 15/20] START classify__C=10.0, reduce_dim=SelectKBest(score_func=<function chi2 at 0x7fe6702c4360>), reduce_dim__k=500\n",
      "[CV 3/3; 15/20] END classify__C=10.0, reduce_dim=SelectKBest(score_func=<function chi2 at 0x7fe6702c4360>), reduce_dim__k=500;, score=0.615 total time=   0.1s\n",
      "[CV 1/3; 16/20] START classify__C=10.0, reduce_dim=SelectKBest(score_func=<function chi2 at 0x7fe6702c4360>), reduce_dim__k=3000\n",
      "[CV 1/3; 16/20] END classify__C=10.0, reduce_dim=SelectKBest(score_func=<function chi2 at 0x7fe6702c4360>), reduce_dim__k=3000;, score=0.651 total time=   0.1s\n",
      "[CV 2/3; 16/20] START classify__C=10.0, reduce_dim=SelectKBest(score_func=<function chi2 at 0x7fe6702c4360>), reduce_dim__k=3000\n",
      "[CV 2/3; 16/20] END classify__C=10.0, reduce_dim=SelectKBest(score_func=<function chi2 at 0x7fe6702c4360>), reduce_dim__k=3000;, score=0.629 total time=   0.1s\n",
      "[CV 3/3; 16/20] START classify__C=10.0, reduce_dim=SelectKBest(score_func=<function chi2 at 0x7fe6702c4360>), reduce_dim__k=3000\n",
      "[CV 3/3; 16/20] END classify__C=10.0, reduce_dim=SelectKBest(score_func=<function chi2 at 0x7fe6702c4360>), reduce_dim__k=3000;, score=0.593 total time=   0.1s\n",
      "[CV 1/3; 17/20] START classify__C=10.0, reduce_dim=SelectKBest(score_func=<function chi2 at 0x7fe6702c4360>), reduce_dim__k=5000\n",
      "[CV 1/3; 17/20] END classify__C=10.0, reduce_dim=SelectKBest(score_func=<function chi2 at 0x7fe6702c4360>), reduce_dim__k=5000;, score=0.628 total time=   0.1s\n",
      "[CV 2/3; 17/20] START classify__C=10.0, reduce_dim=SelectKBest(score_func=<function chi2 at 0x7fe6702c4360>), reduce_dim__k=5000\n",
      "[CV 2/3; 17/20] END classify__C=10.0, reduce_dim=SelectKBest(score_func=<function chi2 at 0x7fe6702c4360>), reduce_dim__k=5000;, score=0.615 total time=   0.1s\n",
      "[CV 3/3; 17/20] START classify__C=10.0, reduce_dim=SelectKBest(score_func=<function chi2 at 0x7fe6702c4360>), reduce_dim__k=5000\n",
      "[CV 3/3; 17/20] END classify__C=10.0, reduce_dim=SelectKBest(score_func=<function chi2 at 0x7fe6702c4360>), reduce_dim__k=5000;, score=0.600 total time=   0.1s\n",
      "[CV 1/3; 18/20] START classify__C=10.0, reduce_dim=SelectKBest(), reduce_dim__k=500\n",
      "[CV 1/3; 18/20] END classify__C=10.0, reduce_dim=SelectKBest(), reduce_dim__k=500;, score=0.685 total time=   0.1s\n",
      "[CV 2/3; 18/20] START classify__C=10.0, reduce_dim=SelectKBest(), reduce_dim__k=500\n",
      "[CV 2/3; 18/20] END classify__C=10.0, reduce_dim=SelectKBest(), reduce_dim__k=500;, score=0.660 total time=   0.1s\n",
      "[CV 3/3; 18/20] START classify__C=10.0, reduce_dim=SelectKBest(), reduce_dim__k=500\n",
      "[CV 3/3; 18/20] END classify__C=10.0, reduce_dim=SelectKBest(), reduce_dim__k=500;, score=0.638 total time=   0.2s\n",
      "[CV 1/3; 19/20] START classify__C=10.0, reduce_dim=SelectKBest(), reduce_dim__k=3000\n",
      "[CV 1/3; 19/20] END classify__C=10.0, reduce_dim=SelectKBest(), reduce_dim__k=3000;, score=0.619 total time=   0.1s\n",
      "[CV 2/3; 19/20] START classify__C=10.0, reduce_dim=SelectKBest(), reduce_dim__k=3000\n",
      "[CV 2/3; 19/20] END classify__C=10.0, reduce_dim=SelectKBest(), reduce_dim__k=3000;, score=0.641 total time=   0.1s\n",
      "[CV 3/3; 19/20] START classify__C=10.0, reduce_dim=SelectKBest(), reduce_dim__k=3000\n",
      "[CV 3/3; 19/20] END classify__C=10.0, reduce_dim=SelectKBest(), reduce_dim__k=3000;, score=0.613 total time=   0.1s\n",
      "[CV 1/3; 20/20] START classify__C=10.0, reduce_dim=SelectKBest(), reduce_dim__k=5000\n",
      "[CV 1/3; 20/20] END classify__C=10.0, reduce_dim=SelectKBest(), reduce_dim__k=5000;, score=0.637 total time=   0.1s\n",
      "[CV 2/3; 20/20] START classify__C=10.0, reduce_dim=SelectKBest(), reduce_dim__k=5000\n",
      "[CV 2/3; 20/20] END classify__C=10.0, reduce_dim=SelectKBest(), reduce_dim__k=5000;, score=0.609 total time=   0.1s\n",
      "[CV 3/3; 20/20] START classify__C=10.0, reduce_dim=SelectKBest(), reduce_dim__k=5000\n",
      "[CV 3/3; 20/20] END classify__C=10.0, reduce_dim=SelectKBest(), reduce_dim__k=5000;, score=0.620 total time=   0.1s\n",
      "0.0 hours 8.0 minutes\n"
     ]
    }
   ],
   "source": [
    "t0 = time.time()\n",
    "print(datetime.now().strftime(\"%A %d. %B %Y %H:%M:%S\"))\n",
    "\n",
    "\n",
    "# If a grid search is too costly\n",
    "#grid = RandomizedSearchCV(\n",
    "#    estimator=pipe,\n",
    "#    param_distributions=param_grid,\n",
    "#    n_iter=10,\n",
    "#    random_state=0,\n",
    "#    scoring = \"f1\"\n",
    "#    n_jobs=1,\n",
    "#    verbose=10,\n",
    "#    cv = cv\n",
    "#)\n",
    "\n",
    "# For customizing parallelism\n",
    "#from joblib import parallel_backend\n",
    "grid = GridSearchCV(pipe, param_grid=param_grid, scoring=\"f1\", n_jobs=1, cv=cv, verbose=10)\n",
    "\n",
    "#with parallel_backend('threading'):\n",
    "#    grid.fit(X, y)\n",
    "grid.fit(X, y)\n",
    "datetime.now().strftime(\"%A %d. %B %Y %H:%M:%S\")\n",
    "secs = time.time() - t0\n",
    "hrs,mins = secs//3600,(secs%3600)//60\n",
    "print(f\"{hrs} hours {mins} minutes\")"
   ]
  },
  {
   "cell_type": "code",
   "execution_count": 30,
   "metadata": {},
   "outputs": [],
   "source": [
    "def get_score_grid(grid):\n",
    "    return np.array([grid.cv_results_['split0_test_score'],\n",
    "                     grid.cv_results_['split1_test_score'],\n",
    "                     grid.cv_results_['split2_test_score']])\n",
    "score_grid = get_score_grid(grid)"
   ]
  },
  {
   "cell_type": "markdown",
   "metadata": {},
   "source": [
    "Which split was the hardest?"
   ]
  },
  {
   "cell_type": "code",
   "execution_count": 31,
   "metadata": {},
   "outputs": [
    {
     "data": {
      "text/plain": [
       "array([0.67754299, 0.64859768, 0.62631263])"
      ]
     },
     "execution_count": 31,
     "metadata": {},
     "output_type": "execute_result"
    }
   ],
   "source": [
    "score_grid.mean(axis=1)"
   ]
  },
  {
   "cell_type": "markdown",
   "metadata": {},
   "source": [
    "Score grid is 3x20 (cv times number of candidates)."
   ]
  },
  {
   "cell_type": "code",
   "execution_count": 32,
   "metadata": {},
   "outputs": [
    {
     "data": {
      "text/plain": [
       "array([[0.69      , 0.70528967, 0.70528967, 0.70892019, 0.68421053,\n",
       "        0.68075117, 0.70528967, 0.68075117, 0.70341207, 0.68783069,\n",
       "        0.66666667, 0.70588235, 0.68266667, 0.66666667, 0.65809769,\n",
       "        0.65053763, 0.6278481 , 0.68472906, 0.61917808, 0.63684211],\n",
       "       [0.672     , 0.67179487, 0.66323907, 0.66666667, 0.64631043,\n",
       "        0.64974619, 0.66323907, 0.64974619, 0.63276836, 0.64835165,\n",
       "        0.65240642, 0.6630137 , 0.64480874, 0.65229111, 0.64150943,\n",
       "        0.62921348, 0.61538462, 0.65963061, 0.64066852, 0.60916442],\n",
       "       [0.6529563 , 0.64267352, 0.65306122, 0.65686275, 0.63809524,\n",
       "        0.62287105, 0.65306122, 0.62287105, 0.62359551, 0.60869565,\n",
       "        0.60540541, 0.63129973, 0.62903226, 0.60752688, 0.61458333,\n",
       "        0.59299191, 0.6       , 0.63797468, 0.61290323, 0.61979167]])"
      ]
     },
     "execution_count": 32,
     "metadata": {},
     "output_type": "execute_result"
    }
   ],
   "source": [
    "score_grid"
   ]
  },
  {
   "cell_type": "markdown",
   "metadata": {},
   "source": [
    "Which parameter setting performed the best?"
   ]
  },
  {
   "cell_type": "code",
   "execution_count": 33,
   "metadata": {
    "scrolled": true
   },
   "outputs": [
    {
     "data": {
      "text/plain": [
       "array([0.6716521 , 0.67325269, 0.67386332, 0.6774832 , 0.6562054 ,\n",
       "       0.6511228 , 0.67386332, 0.6511228 , 0.65325865, 0.64829266,\n",
       "       0.64149283, 0.66673193, 0.65216922, 0.64216155, 0.63806348,\n",
       "       0.62424768, 0.61441091, 0.66077812, 0.62424994, 0.62193273])"
      ]
     },
     "execution_count": 33,
     "metadata": {},
     "output_type": "execute_result"
    }
   ],
   "source": [
    "score_grid.mean(axis=0)"
   ]
  },
  {
   "cell_type": "code",
   "execution_count": 35,
   "metadata": {},
   "outputs": [
    {
     "data": {
      "text/plain": [
       "array([16, 19, 15, 18, 14, 10, 13,  9,  5,  7, 12,  8,  4, 17, 11,  0,  1,\n",
       "        6,  2,  3])"
      ]
     },
     "execution_count": 35,
     "metadata": {},
     "output_type": "execute_result"
    }
   ],
   "source": [
    "score_grid.mean(axis=0).argsort()"
   ]
  },
  {
   "cell_type": "markdown",
   "metadata": {},
   "source": [
    "The best parameter setting found was the one at index 3.  And here it is."
   ]
  },
  {
   "cell_type": "code",
   "execution_count": 51,
   "metadata": {},
   "outputs": [],
   "source": [
    "best_parameters = grid.best_estimator_.get_params()\n",
    "#best_parameters"
   ]
  },
  {
   "cell_type": "code",
   "execution_count": 52,
   "metadata": {},
   "outputs": [
    {
     "data": {
      "text/plain": [
       "{'memory': None,\n",
       " 'steps': [('vectorizer', TfidfVectorizer()),\n",
       "  ('reduce_dim', TruncatedSVD(n_components=500)),\n",
       "  ('classify', LinearSVC(C=10.0))],\n",
       " 'verbose': False,\n",
       " 'vectorizer': TfidfVectorizer(),\n",
       " 'reduce_dim': TruncatedSVD(n_components=500),\n",
       " 'classify': LinearSVC(C=10.0),\n",
       " 'vectorizer__analyzer': 'word',\n",
       " 'vectorizer__binary': False,\n",
       " 'vectorizer__decode_error': 'strict',\n",
       " 'vectorizer__dtype': numpy.float64,\n",
       " 'vectorizer__encoding': 'utf-8',\n",
       " 'vectorizer__input': 'content',\n",
       " 'vectorizer__lowercase': True,\n",
       " 'vectorizer__max_df': 1.0,\n",
       " 'vectorizer__max_features': None,\n",
       " 'vectorizer__min_df': 1,\n",
       " 'vectorizer__ngram_range': (1, 1),\n",
       " 'vectorizer__norm': 'l2',\n",
       " 'vectorizer__preprocessor': None,\n",
       " 'vectorizer__smooth_idf': True,\n",
       " 'vectorizer__stop_words': None,\n",
       " 'vectorizer__strip_accents': None,\n",
       " 'vectorizer__sublinear_tf': False,\n",
       " 'vectorizer__token_pattern': '(?u)\\\\b\\\\w\\\\w+\\\\b',\n",
       " 'vectorizer__tokenizer': None,\n",
       " 'vectorizer__use_idf': True,\n",
       " 'vectorizer__vocabulary': None,\n",
       " 'reduce_dim__algorithm': 'randomized',\n",
       " 'reduce_dim__n_components': 500,\n",
       " 'reduce_dim__n_iter': 5,\n",
       " 'reduce_dim__n_oversamples': 10,\n",
       " 'reduce_dim__power_iteration_normalizer': 'auto',\n",
       " 'reduce_dim__random_state': None,\n",
       " 'reduce_dim__tol': 0.0,\n",
       " 'classify__C': 10.0,\n",
       " 'classify__class_weight': None,\n",
       " 'classify__dual': True,\n",
       " 'classify__fit_intercept': True,\n",
       " 'classify__intercept_scaling': 1,\n",
       " 'classify__loss': 'squared_hinge',\n",
       " 'classify__max_iter': 1000,\n",
       " 'classify__multi_class': 'ovr',\n",
       " 'classify__penalty': 'l2',\n",
       " 'classify__random_state': None,\n",
       " 'classify__tol': 0.0001,\n",
       " 'classify__verbose': 0}"
      ]
     },
     "execution_count": 52,
     "metadata": {},
     "output_type": "execute_result"
    }
   ],
   "source": [
    "best_parameters"
   ]
  },
  {
   "cell_type": "code",
   "execution_count": 9,
   "metadata": {},
   "outputs": [
    {
     "name": "stdout",
     "output_type": "stream",
     "text": [
      "Best parameters combination found:\n",
      "classify__C: 10.0\n",
      "reduce_dim: TruncatedSVD(n_components=500)\n",
      "reduce_dim__n_components: 500\n"
     ]
    }
   ],
   "source": [
    "print(\"Best parameters combination found:\")\n",
    "best_parameters = grid.best_estimator_.get_params()\n",
    "\n",
    "for param_name in sorted(param_grid[0].keys()):\n",
    "    try:\n",
    "        print(f\"{param_name}: {best_parameters[param_name]}\")\n",
    "    except KeyError:\n",
    "        print(f\"{param_name}: Not found\")\n",
    "        continue"
   ]
  },
  {
   "cell_type": "code",
   "execution_count": 41,
   "metadata": {},
   "outputs": [],
   "source": [
    "import pandas as pd\n",
    "\n",
    "#reducer_labels = [\"SVD\", \"KBest(chi2)\",\"KBest(f_classif)\"]\n",
    "reducer_labels = [\"SVD\",\"Ident\",\"Chi2\",\"ANOVA f-val\"]\n",
    "mean_scores = np.array(grid.cv_results_[\"mean_test_score\"])\n",
    "# The other transformers define a 2x3 grid ; Ident defines one of shape (2,)\n",
    "# Pretend like it were otherwise\n",
    "i_score1,i_score2 = mean_scores[6],mean_scores[7]\n",
    "new_mean_scores = np.concatenate([mean_scores[:6], [i_score1,i_score1,i_score1], [i_score2,i_score2,i_score2], mean_scores[8:]])\n",
    "# scores are in the order of param_grid iteration, which is alphabetical\n",
    "new_mean_scores = new_mean_scores.reshape( -1, len(C_OPTIONS), len(N_FEATURES_OPTIONS))"
   ]
  },
  {
   "cell_type": "code",
   "execution_count": 42,
   "metadata": {},
   "outputs": [
    {
     "data": {
      "text/plain": [
       "(4, 2, 3)"
      ]
     },
     "execution_count": 42,
     "metadata": {},
     "output_type": "execute_result"
    }
   ],
   "source": [
    "new_mean_scores.shape"
   ]
  },
  {
   "cell_type": "code",
   "execution_count": 50,
   "metadata": {},
   "outputs": [
    {
     "data": {
      "text/html": [
       "<div>\n",
       "<style scoped>\n",
       "    .dataframe tbody tr th:only-of-type {\n",
       "        vertical-align: middle;\n",
       "    }\n",
       "\n",
       "    .dataframe tbody tr th {\n",
       "        vertical-align: top;\n",
       "    }\n",
       "\n",
       "    .dataframe thead th {\n",
       "        text-align: right;\n",
       "    }\n",
       "</style>\n",
       "<table border=\"1\" class=\"dataframe\">\n",
       "  <thead>\n",
       "    <tr style=\"text-align: right;\">\n",
       "      <th></th>\n",
       "      <th>SVD</th>\n",
       "      <th>Ident</th>\n",
       "      <th>Chi2</th>\n",
       "      <th>fclassif</th>\n",
       "    </tr>\n",
       "  </thead>\n",
       "  <tbody>\n",
       "    <tr>\n",
       "      <th>500</th>\n",
       "      <td>0.677483</td>\n",
       "      <td>0.673863</td>\n",
       "      <td>0.666732</td>\n",
       "      <td>0.660778</td>\n",
       "    </tr>\n",
       "    <tr>\n",
       "      <th>3000</th>\n",
       "      <td>0.673253</td>\n",
       "      <td>0.673863</td>\n",
       "      <td>0.652169</td>\n",
       "      <td>0.624250</td>\n",
       "    </tr>\n",
       "    <tr>\n",
       "      <th>5000</th>\n",
       "      <td>0.673863</td>\n",
       "      <td>0.673863</td>\n",
       "      <td>0.642162</td>\n",
       "      <td>0.621933</td>\n",
       "    </tr>\n",
       "  </tbody>\n",
       "</table>\n",
       "</div>"
      ],
      "text/plain": [
       "           SVD     Ident      Chi2  fclassif\n",
       "500   0.677483  0.673863  0.666732  0.660778\n",
       "3000  0.673253  0.673863  0.652169  0.624250\n",
       "5000  0.673863  0.673863  0.642162  0.621933"
      ]
     },
     "execution_count": 50,
     "metadata": {},
     "output_type": "execute_result"
    }
   ],
   "source": [
    "mean_scores_df"
   ]
  },
  {
   "cell_type": "code",
   "execution_count": 43,
   "metadata": {},
   "outputs": [
    {
     "data": {
      "text/plain": [
       "<matplotlib.legend.Legend at 0x7f27df007c10>"
      ]
     },
     "execution_count": 43,
     "metadata": {},
     "output_type": "execute_result"
    },
    {
     "data": {
      "image/png": "[encoded data removed]",
      "text/plain": [
       "<Figure size 640x480 with 1 Axes>"
      ]
     },
     "metadata": {},
     "output_type": "display_data"
    }
   ],
   "source": [
    "# select score for best C\n",
    "#mean_scores = mean_scores.max(axis=0)\n",
    "new_mean_scores_f = new_mean_scores.max(axis=1)\n",
    "# create a dataframe to ease plotting\n",
    "mean_scores_df = pd.DataFrame(\n",
    "    new_mean_scores_f.T, index=N_FEATURES_OPTIONS, columns=reducer_labels\n",
    ")\n",
    "\n",
    "ax = mean_scores_df.plot.bar()\n",
    "ax.set_title(\"Comparing feature reduction techniques\")\n",
    "ax.set_xlabel(\"Reduced number of features\")\n",
    "ax.set_ylim([.5,.75])\n",
    "ax.set_ylabel(\"F-Score\")\n",
    "#ax.set_ylim((0, 1))\n",
    "ax.legend(loc=\"upper right\")\n",
    "\n",
    "#plt.show()"
   ]
  },
  {
   "cell_type": "markdown",
   "metadata": {},
   "source": [
    "Discussion questions\n",
    "-------------------------\n",
    "\n",
    "1. Call all the features with variable values in `param_gride` **grid features**. And call one particular\n",
    "   assignment of values to **all** our grid features a **candidate** .  How many\n",
    "   distinct candidate are there in our grid?\n",
    "2. How many fittings did the grid search actually maker?  Note this depends \n",
    "   both on the number of candidates and the number of \"folds\". in the cross validation strategy.\n",
    "3. Specifying a candidate by a complete assignment of gride features, whicg candidates are in out plot? Which have been left out of our plot? How do we know the omitted candidates might not be the best?\n",
    "4. What is the best candidate?\n"
   ]
  },
  {
   "cell_type": "markdown",
   "metadata": {},
   "source": [
    "Inclass exercise\n",
    "-------------------\n",
    "\n",
    "I had planned to end class with a much simpler grid construction exercise.  Using a Model A type architecture, construct a complete GridSearch CV system using the following feature dimensions\n",
    "\n",
    "1.  chi2 vs fclassif, (optionally TruncatedSVD)\n",
    "2.  3000, 5000, 1000 (number of features)\n",
    "3.  C-value for the classifier (1, 10,100).\n",
    "\n",
    "That's a total of 18 candidates. However, because Trincated SVD has been left out, this will run fairly quickly and give you a result.  If you're willing to try this out, I will stick around and help you debug your code, as well as interpret the results (which is perhaps the hardest part).  \n",
    "\n",
    "If you'd rather not we can end class now.  No harm no foul.  In that case, I will begin class next week with this exercise."
   ]
  },
  {
   "cell_type": "markdown",
   "metadata": {},
   "source": [
    "## Notebook content ends here"
   ]
  },
  {
   "cell_type": "markdown",
   "metadata": {},
   "source": [
    "## Plot of an earlier simpler system"
   ]
  },
  {
   "cell_type": "code",
   "execution_count": 28,
   "metadata": {},
   "outputs": [
    {
     "data": {
      "text/plain": [
       "<matplotlib.legend.Legend at 0x7f27df4ed290>"
      ]
     },
     "execution_count": 28,
     "metadata": {},
     "output_type": "execute_result"
    },
    {
     "data": {
      "image/png": "[encoded data removed]",
      "text/plain": [
       "<Figure size 640x480 with 1 Axes>"
      ]
     },
     "metadata": {},
     "output_type": "display_data"
    }
   ],
   "source": [
    "# select score for best C\n",
    "#mean_scores = mean_scores.max(axis=0)\n",
    "new_mean_scores_f = new_mean_scores.max(axis=1)\n",
    "# create a dataframe to ease plotting\n",
    "mean_scores_df = pd.DataFrame(\n",
    "    new_mean_scores_f.T, index=N_FEATURES_OPTIONS, columns=reducer_labels\n",
    ")\n",
    "\n",
    "ax = mean_scores_df.plot.bar()\n",
    "ax.set_title(\"Comparing feature reduction techniques\")\n",
    "ax.set_xlabel(\"Reduced number of features\")\n",
    "ax.set_ylim([.5,.75])\n",
    "ax.set_ylabel(\"F-Score\")\n",
    "#ax.set_ylim((0, 1))\n",
    "ax.legend(loc=\"upper right\")\n",
    "\n",
    "#plt.show()"
   ]
  }
 ],
 "metadata": {
  "colab": {
   "name": "Insults_with_Naive_Bayes.ipynb",
   "provenance": []
  },
  "kernelspec": {
   "display_name": "Python 3 (ipykernel)",
   "language": "python",
   "name": "python3"
  },
  "language_info": {
   "codemirror_mode": {
    "name": "ipython",
    "version": 3
   },
   "file_extension": ".py",
   "mimetype": "text/x-python",
   "name": "python",
   "nbconvert_exporter": "python",
   "pygments_lexer": "ipython3",
   "version": "3.10.13"
  },
  "toc": {
   "base_numbering": 1,
   "nav_menu": {
    "height": "94px",
    "width": "252px"
   },
   "number_sections": true,
   "sideBar": true,
   "skip_h1_title": false,
   "title_cell": "Table of Contents",
   "title_sidebar": "Contents",
   "toc_cell": false,
   "toc_position": {},
   "toc_section_display": "block",
   "toc_window_display": false
  }
 },
 "nbformat": 4,
 "nbformat_minor": 4
}
