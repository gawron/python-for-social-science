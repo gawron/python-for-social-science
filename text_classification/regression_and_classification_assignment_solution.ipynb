{
 "cells": [
  {
   "cell_type": "markdown",
   "metadata": {},
   "source": [
    "# Regression and Classification Assignment\n",
    "\n",
    "This notebook uses the data discussed in regression_and_classification notebook.   You may want to review that if you\n",
    "have trouble with the assignment."
   ]
  },
  {
   "cell_type": "markdown",
   "metadata": {},
   "source": [
    "## 1. The data"
   ]
  },
  {
   "cell_type": "markdown",
   "metadata": {},
   "source": [
    "First we do some imports and load the data from the `sklearn` module."
   ]
  },
  {
   "cell_type": "code",
   "execution_count": 2,
   "metadata": {},
   "outputs": [],
   "source": [
    "from sklearn.datasets import load_iris\n",
    "from sklearn.metrics import accuracy_score\n",
    "from sklearn import linear_model\n",
    "import numpy as np\n",
    "\n",
    "\n",
    "data = load_iris()\n",
    "features = data['data']\n",
    "feature_names = data['feature_names']\n",
    "target = data['target']"
   ]
  },
  {
   "cell_type": "code",
   "execution_count": 48,
   "metadata": {},
   "outputs": [
    {
     "data": {
      "text/plain": [
       "(150, 4)"
      ]
     },
     "execution_count": 48,
     "metadata": {},
     "output_type": "execute_result"
    }
   ],
   "source": [
    "features.shape"
   ]
  },
  {
   "cell_type": "code",
   "execution_count": 51,
   "metadata": {},
   "outputs": [
    {
     "data": {
      "text/plain": [
       "{0, 1, 2}"
      ]
     },
     "execution_count": 51,
     "metadata": {},
     "output_type": "execute_result"
    }
   ],
   "source": [
    "set(target)"
   ]
  },
  {
   "cell_type": "code",
   "execution_count": 77,
   "metadata": {},
   "outputs": [
    {
     "data": {
      "text/plain": [
       "['sepal length (cm)',\n",
       " 'sepal width (cm)',\n",
       " 'petal length (cm)',\n",
       " 'petal width (cm)']"
      ]
     },
     "execution_count": 77,
     "metadata": {},
     "output_type": "execute_result"
    }
   ],
   "source": [
    "feature_names"
   ]
  },
  {
   "cell_type": "markdown",
   "metadata": {},
   "source": [
    "## 2.  The questions"
   ]
  },
  {
   "cell_type": "markdown",
   "metadata": {},
   "source": [
    "**Q1**\n",
    "\n",
    "Don't take my word for it that subsets of the 4 Iris features always produce a worse classifier.\n",
    "Try it out.\n",
    "\n",
    "Change the selector array in the next cell and execute the code\n",
    "in the cell to try out your own favorite subsets\n",
    "of features.  No subset of 2 or even 3 features performs as well as using all 4.\n",
    "\n",
    "For example, using this selector \n",
    "```\n",
    "selector = np.array([True,True,False,True])\n",
    "```\n",
    "\n",
    "leaves out just  the third feature.  Here's your challenge: Find the best 2-feature\n",
    "system (it performs almost as well as any 3-feature system), and the best\n",
    "3-feature system.  Hint for the 2-feature problem, if you want to get there more\n",
    "quickly.  Look at our plots of two-feature systems in the \"Plotting Attributes\" section of the regression_and_classification.ipynb notebook (Section 2).  Which one **looks**\n",
    "like it gives the best separation?"
   ]
  },
  {
   "cell_type": "code",
   "execution_count": 52,
   "metadata": {},
   "outputs": [
    {
     "name": "stdout",
     "output_type": "stream",
     "text": [
      "(150, 2)\n"
     ]
    },
    {
     "data": {
      "text/plain": [
       "0.9666666666666667"
      ]
     },
     "execution_count": 52,
     "metadata": {},
     "output_type": "execute_result"
    }
   ],
   "source": [
    "# The winner\n",
    "selector = np.array([True,False,True,False])\n",
    "X = features[:,selector]\n",
    "print(X.shape)\n",
    "Y = target\n",
    "logreg = linear_model.LogisticRegression(C=1e5, solver='lbfgs',multi_class='auto')\n",
    "logreg.fit(X, Y)\n",
    "predicted = logreg.predict(X)\n",
    "accuracy_score(Y,predicted)"
   ]
  },
  {
   "cell_type": "markdown",
   "metadata": {},
   "source": [
    "A systematic way of checking all pairs."
   ]
  },
  {
   "cell_type": "code",
   "execution_count": 3,
   "metadata": {},
   "outputs": [
    {
     "name": "stdout",
     "output_type": "stream",
     "text": [
      "[0, 1] Acc: 0.833\n",
      "[0, 2] Acc: 0.967\n",
      "[0, 3] Acc: 0.960\n",
      "[1, 2] Acc: 0.953\n",
      "[1, 3] Acc: 0.953\n",
      "[2, 3] Acc: 0.960\n",
      "\n",
      "Winner: [0, 2] score: 0.967\n"
     ]
    }
   ],
   "source": [
    "Y = target\n",
    "selectors = [[i,j] for i in range(4) for j in range(i+1,4)]\n",
    "scores = np.zeros(len(selectors))\n",
    "\n",
    "for (i,sel) in enumerate(selectors):\n",
    "    logreg = linear_model.LogisticRegression(C=1e5, solver='lbfgs',multi_class='auto')\n",
    "    selector = np.array([False, False, False, False])\n",
    "    selector[sel]  = True\n",
    "    X = features[:,sel]\n",
    "    predicted = logreg.fit(X, Y).predict(X)\n",
    "    scores[i] = accuracy_score(Y,predicted)\n",
    "    print(f\"{sel} Acc: {scores[i]:.3f}\")\n",
    "\n",
    "best_sys = scores.argmax()\n",
    "print()\n",
    "print(f\"Winner: {selectors[best_sys]} score: {scores[best_sys]:.3f}\")"
   ]
  },
  {
   "cell_type": "markdown",
   "metadata": {},
   "source": [
    "**Q2**\n",
    "\n",
    "In the regression_and_classification notebook, \n",
    "we implemented a function called `is_non_red` that is supposed to distinguish \n",
    "class 0 from classes 1 and 2.  Here is the definition and an example of using it\n",
    "on a row of the Iris dataset."
   ]
  },
  {
   "cell_type": "code",
   "execution_count": 20,
   "metadata": {},
   "outputs": [
    {
     "name": "stdout",
     "output_type": "stream",
     "text": [
      "P is in positive class: True\n"
     ]
    }
   ],
   "source": [
    "def is_non_red (P):\n",
    "    \"\"\"\n",
    "    P is a data point, all 4 attributes.\n",
    "    \n",
    "    Return True if P is in positive class.\n",
    "    \"\"\"\n",
    "    return (P[2] - .9*P[0] + 2) > 0\n",
    "\n",
    "P = features[-90]\n",
    "print('P is in positive class: {0}'.format(is_non_red(P)))"
   ]
  },
  {
   "cell_type": "markdown",
   "metadata": {},
   "source": [
    "We call such a function a model (a model of `non-redness`). Write some code to evaluate this model's accuracy \n",
    "in predicting non redness.  Before calling the `accuracy_score` function, \n",
    "you will have to compute `predicted` using `is_non_red` to give you an array of predictions\n",
    "\n",
    "\n",
    "To create a prediction array using `is_non_red`, apply it to every row\n",
    "of `features`:\n",
    "\n",
    "```\n",
    "np.apply_along_axis(is_non_red, axis=1, arr= features)\n",
    "```\n",
    "\n",
    "You will also have to evaluate accuracy against a different standard.\n",
    "You can't evaluate against the class array `target` defined above\n",
    "because that has three classes and `is_non_red` essentially works with two. \n",
    "You have to start by creating a different\n",
    "class array that only has two classes, matching the kind of results `is_non_red` produces.\n",
    "The red class is 0, so you want `True` for every class 1 or 2 iris, and\n",
    "`False` for every class 0 iris. For this, use a Boolean mask on `target`.\n",
    "\n",
    "Be sure to say what your final score **means**.  Did you you do very well\n",
    "or very badly?  Using scikit learn, compute a model you can compare this model to in order to know\n",
    "whether you did very well or very badly. "
   ]
  },
  {
   "cell_type": "code",
   "execution_count": 21,
   "metadata": {},
   "outputs": [
    {
     "data": {
      "text/plain": [
       "1.0"
      ]
     },
     "execution_count": 21,
     "metadata": {},
     "output_type": "execute_result"
    }
   ],
   "source": [
    "predicted = np.apply_along_axis(is_non_red, axis=1, arr= features)\n",
    "newY = target != 0\n",
    "accuracy_score(predicted,newY)"
   ]
  },
  {
   "cell_type": "markdown",
   "metadata": {},
   "source": [
    "This is perfect performance.  Will scikit_learn  do as well?"
   ]
  },
  {
   "cell_type": "code",
   "execution_count": 23,
   "metadata": {},
   "outputs": [
    {
     "data": {
      "text/plain": [
       "1.0"
      ]
     },
     "execution_count": 23,
     "metadata": {},
     "output_type": "execute_result"
    }
   ],
   "source": [
    "logreg = linear_model.LogisticRegression(C=1e5, solver='lbfgs',multi_class='auto')\n",
    "X = features\n",
    "predicted2 = logreg.fit(X, newY).predict(X)\n",
    "accuracy_score(newY,predicted2)"
   ]
  },
  {
   "cell_type": "markdown",
   "metadata": {},
   "source": [
    "Yes, it did.  Using all features.  There are models that can do just as well using only two features"
   ]
  },
  {
   "cell_type": "code",
   "execution_count": 25,
   "metadata": {},
   "outputs": [
    {
     "data": {
      "text/plain": [
       "1.0"
      ]
     },
     "execution_count": 25,
     "metadata": {},
     "output_type": "execute_result"
    }
   ],
   "source": [
    "logreg = linear_model.LogisticRegression(C=1e5, solver='lbfgs',multi_class='auto')\n",
    "X = features[:,:2]\n",
    "predicted2 = logreg.fit(X, newY).predict(X)\n",
    "accuracy_score(newY,predicted2)"
   ]
  },
  {
   "cell_type": "markdown",
   "metadata": {},
   "source": [
    "But not using one feature."
   ]
  },
  {
   "cell_type": "code",
   "execution_count": 26,
   "metadata": {},
   "outputs": [
    {
     "data": {
      "text/plain": [
       "0.8933333333333333"
      ]
     },
     "execution_count": 26,
     "metadata": {},
     "output_type": "execute_result"
    }
   ],
   "source": [
    "logreg = linear_model.LogisticRegression(C=1e5, solver='lbfgs',multi_class='auto')\n",
    "X = features[:,:1]\n",
    "predicted2 = logreg.fit(X, newY).predict(X)\n",
    "accuracy_score(newY,predicted2)"
   ]
  },
  {
   "cell_type": "markdown",
   "metadata": {},
   "source": [
    "**Q3** \n",
    "\n",
    "Using the `rock vs. mines` data set loaded in the next cell, draw a scatterplot of the points like the ones we did in Section 2 and 3 of this tutorial for the iris data. \n",
    "You will find the code in Section 3 of the rfegression_and_classification notebook will require the least modification.\n",
    "This data set tries to distinguish two classes, rocks and mines, based on sonar readings.\n",
    "Note, as the loading code indicates, this data has 60 features, which is a lot, so you should\n",
    "just pick one pair of features out and plot them.  Crucially,\n",
    "you **don't** need to plot all pairs (there are 1770 pairs), even though\n",
    "with 60 features, you are unlikely to have much success using just two.\n",
    "\n",
    "When modifying the code to draw the picture, bear in mind you really only need to\n",
    "scatter the points.  You are not being asked to draw a separation line,\n",
    "and you don't need to draw our point P, because it doesn't appear in this data.\n",
    "You should try to give the points belonging to the two classes different colors\n",
    "and shapes, as was done above."
   ]
  },
  {
   "cell_type": "code",
   "execution_count": 78,
   "metadata": {},
   "outputs": [
    {
     "name": "stdout",
     "output_type": "stream",
     "text": [
      "208 exemplars with 61 features\n",
      "2 classes: ['M', 'R']\n"
     ]
    },
    {
     "name": "stderr",
     "output_type": "stream",
     "text": [
      "/var/folders/w9/bx4mylnd27g_kqqgn5hrn2x40000gr/T/ipykernel_55653/3866239049.py:7: FutureWarning: The prefix argument has been deprecated and will be removed in a future version. Use a list comprehension on the column names in the future.\n",
      "\n",
      "\n",
      "  mine_df = pd.read_csv(target_url, header=None, prefix=\"V\")\n"
     ]
    }
   ],
   "source": [
    "import pandas as pd\n",
    "\n",
    "target_url = (\"https://archive.ics.uci.edu/ml/machine-learning-\"\n",
    "\"databases/undocumented/connectionist-bench/sonar/sonar.all-data\")\n",
    "\n",
    "#read rocks mines data\n",
    "mine_df = pd.read_csv(target_url, header=None, prefix=\"V\")\n",
    "mine_features = mine_df.values\n",
    "(samp_sz, num_feats) = mine_features.shape\n",
    "print('{0} exemplars with {1} features'.format(samp_sz, num_feats))\n",
    "# The last column contains the class data.  Separate it from the others.\n",
    "target = mine_features[:, 60]\n",
    "# Everything else is a feature\n",
    "mine_features = mine_features[:, :60]\n",
    "(samp_sz, num_feats) = mine_features.shape\n",
    "\n",
    "# Find the two classes we're trying to separate.\n",
    "feat_set = list(set(target))\n",
    "print('{0} classes: {1}'.format(len(feat_set), feat_set))\n",
    "\n"
   ]
  },
  {
   "cell_type": "code",
   "execution_count": 79,
   "metadata": {},
   "outputs": [
    {
     "data": {
      "text/plain": [
       "{'M', 'R'}"
      ]
     },
     "execution_count": 79,
     "metadata": {},
     "output_type": "execute_result"
    }
   ],
   "source": [
    "set(target)"
   ]
  },
  {
   "cell_type": "code",
   "execution_count": 66,
   "metadata": {},
   "outputs": [
    {
     "data": {
      "text/plain": [
       "[('M', '>', 'r'), ('R', 'o', 'g')]"
      ]
     },
     "execution_count": 66,
     "metadata": {},
     "output_type": "execute_result"
    }
   ],
   "source": [
    "list(zip(\"MR\",\">o\",\"rg\"))"
   ]
  },
  {
   "cell_type": "code",
   "execution_count": 84,
   "metadata": {},
   "outputs": [
    {
     "data": {
      "text/plain": [
       "array(['R', 'R', 'R', 'R', 'R', 'R', 'R', 'R', 'R', 'R', 'R', 'R', 'R',\n",
       "       'R', 'R', 'R', 'R', 'R', 'R', 'R', 'R', 'R', 'R', 'R', 'R', 'R',\n",
       "       'R', 'R', 'R', 'R', 'R', 'R', 'R', 'R', 'R', 'R', 'R', 'R', 'R',\n",
       "       'R', 'R', 'R', 'R', 'R', 'R', 'R', 'R', 'R', 'R', 'R', 'R', 'R',\n",
       "       'R', 'R', 'R', 'R', 'R', 'R', 'R', 'R', 'R', 'R', 'R', 'R', 'R',\n",
       "       'R', 'R', 'R', 'R', 'R', 'R', 'R', 'R', 'R', 'R', 'R', 'R', 'R',\n",
       "       'R', 'R', 'R', 'R', 'R', 'R', 'R', 'R', 'R', 'R', 'R', 'R', 'R',\n",
       "       'R', 'R', 'R', 'R', 'R', 'R', 'M', 'M', 'M', 'M', 'M', 'M', 'M',\n",
       "       'M', 'M', 'M', 'M', 'M', 'M', 'M', 'M', 'M', 'M', 'M', 'M', 'M',\n",
       "       'M', 'M', 'M', 'M', 'M', 'M', 'M', 'M', 'M', 'M', 'M', 'M', 'M',\n",
       "       'M', 'M', 'M', 'M', 'M', 'M', 'M', 'M', 'M', 'M', 'M', 'M', 'M',\n",
       "       'M', 'M', 'M', 'M', 'M', 'M', 'M', 'M', 'M', 'M', 'M', 'M', 'M',\n",
       "       'M', 'M', 'M', 'M', 'M', 'M', 'M', 'M', 'M', 'M', 'M', 'M', 'M',\n",
       "       'M', 'M', 'M', 'M', 'M', 'M', 'M', 'M', 'M', 'M', 'M', 'M', 'M',\n",
       "       'M', 'M', 'M', 'M', 'M', 'M', 'M', 'M', 'M', 'M', 'M', 'M', 'M',\n",
       "       'M', 'M', 'M', 'M', 'M', 'M', 'M', 'M', 'M', 'M', 'M', 'M', 'M'],\n",
       "      dtype=object)"
      ]
     },
     "execution_count": 84,
     "metadata": {},
     "output_type": "execute_result"
    }
   ],
   "source": [
    "target"
   ]
  },
  {
   "cell_type": "code",
   "execution_count": 85,
   "metadata": {},
   "outputs": [
    {
     "data": {
      "text/plain": [
       "array([0.0491, 0.1313, 0.0201, 0.0629, 0.0335, 0.0587, 0.0162, 0.0307,\n",
       "       0.0116, 0.0331, 0.0428, 0.0599, 0.0264, 0.021, 0.053, 0.0454,\n",
       "       0.0283, 0.0114, 0.0414, 0.0094, 0.0228, 0.0363, 0.0261, 0.0346,\n",
       "       0.0162, 0.0249, 0.027, 0.0388, 0.0228, 0.0715, 0.0209, 0.0374,\n",
       "       0.1371, 0.0443, 0.115, 0.0968, 0.079, 0.1083, 0.0094, 0.1088,\n",
       "       0.043, 0.0731, 0.0164, 0.0412, 0.0707, 0.0526, 0.0516, 0.0299,\n",
       "       0.0721, 0.1021, 0.0654, 0.0712, 0.0207, 0.0209, 0.0231, 0.0131,\n",
       "       0.0233, 0.0117, 0.0211, 0.0047, 0.0201, 0.0107, 0.0235, 0.0258,\n",
       "       0.0305, 0.0217, 0.0072, 0.0163, 0.0221, 0.0411, 0.0137, 0.0015,\n",
       "       0.013, 0.0134, 0.0179, 0.018, 0.0329, 0.0191, 0.0294, 0.0635,\n",
       "       0.0201, 0.0197, 0.0394, 0.031, 0.0423, 0.0095, 0.0096, 0.0269,\n",
       "       0.034, 0.0209, 0.0368, 0.0089, 0.0158, 0.0156, 0.0315, 0.0056,\n",
       "       0.0203, 0.0392, 0.0129, 0.005, 0.0366, 0.0238, 0.0116, 0.0131,\n",
       "       0.0335, 0.0272, 0.0187, 0.0323, 0.0522, 0.0303, 0.026],\n",
       "      dtype=object)"
      ]
     },
     "execution_count": 85,
     "metadata": {},
     "output_type": "execute_result"
    }
   ],
   "source": [
    "mine_features[target == \"M\",p0]"
   ]
  },
  {
   "cell_type": "code",
   "execution_count": 91,
   "metadata": {},
   "outputs": [
    {
     "data": {
      "image/png": "[encoded data removed]",
      "text/plain": [
       "<Figure size 640x480 with 1 Axes>"
      ]
     },
     "metadata": {},
     "output_type": "display_data"
    }
   ],
   "source": [
    "# Scatter the data points\n",
    "p0,p1 = 0,25\n",
    "for t,marker,c in list(zip(\"RM\",\">o\",\"rg\")):\n",
    "    #print(t,p0,p1,mine_features[target == t,p0].shape,mine_features[target == t,p1].shape)\n",
    "    #print(\"\"\"----\"\"\")\n",
    "    plt.scatter(mine_features[target == t,p0], mine_features[target == t,p1], \n",
    "              marker=marker, c=c,s=60) "
   ]
  },
  {
   "cell_type": "code",
   "execution_count": null,
   "metadata": {},
   "outputs": [],
   "source": []
  },
  {
   "cell_type": "code",
   "execution_count": null,
   "metadata": {},
   "outputs": [],
   "source": []
  },
  {
   "cell_type": "code",
   "execution_count": null,
   "metadata": {},
   "outputs": [],
   "source": []
  },
  {
   "cell_type": "code",
   "execution_count": null,
   "metadata": {},
   "outputs": [],
   "source": []
  },
  {
   "cell_type": "code",
   "execution_count": null,
   "metadata": {},
   "outputs": [],
   "source": []
  },
  {
   "cell_type": "code",
   "execution_count": null,
   "metadata": {},
   "outputs": [],
   "source": []
  },
  {
   "cell_type": "code",
   "execution_count": 67,
   "metadata": {},
   "outputs": [
    {
     "data": {
      "image/png": "[encoded data removed]",
      "text/plain": [
       "<Figure size 640x480 with 1 Axes>"
      ]
     },
     "metadata": {},
     "output_type": "display_data"
    }
   ],
   "source": [
    "(p0,p1) = (0,2)\n",
    "# Scatter the data points\n",
    "for t,marker,c in zip(\"MR\",\">o\",\"rg\"):\n",
    "    #print(t,p0,p1)\n",
    "    #print(mine_features[target == t,p0].shape)\n",
    "    #print()\n",
    "    plt.scatter(mine_features[target == t,p0], mine_features[target == t,p1], \n",
    "                marker=marker, c=c,s=60) "
   ]
  },
  {
   "cell_type": "markdown",
   "metadata": {},
   "source": [
    "### Solution"
   ]
  },
  {
   "cell_type": "markdown",
   "metadata": {},
   "source": [
    "What we're seeing is that the depicted features are **highly correlated**."
   ]
  },
  {
   "cell_type": "code",
   "execution_count": 33,
   "metadata": {},
   "outputs": [
    {
     "data": {
      "image/png": "[encoded data removed]",
      "text/plain": [
       "<Figure size 640x480 with 1 Axes>"
      ]
     },
     "metadata": {},
     "output_type": "display_data"
    }
   ],
   "source": [
    "# Scatter the data points\n",
    "from matplotlib import pyplot as plt\n",
    "p0,p1 = 22,23\n",
    "for t,marker,c in zip(\"RM\",\">o\",\"rb\"):\n",
    "    plt.scatter(mine_features[target == t,p0], mine_features[target == t,p1], \n",
    "                marker=marker, c=c,s=30) "
   ]
  },
  {
   "cell_type": "markdown",
   "metadata": {},
   "source": [
    "This pair not so much."
   ]
  },
  {
   "cell_type": "code",
   "execution_count": 35,
   "metadata": {},
   "outputs": [
    {
     "data": {
      "image/png": "[encoded data removed]",
      "text/plain": [
       "<Figure size 640x480 with 1 Axes>"
      ]
     },
     "metadata": {},
     "output_type": "display_data"
    }
   ],
   "source": [
    "# Scatter the data points\n",
    "from matplotlib import pyplot as plt\n",
    "p0,p1 = 1,23\n",
    "for t,marker,c in zip(\"RM\",\">o\",\"rb\"):\n",
    "    plt.scatter(mine_features[target == t,p0], mine_features[target == t,p1], \n",
    "                marker=marker, c=c,s=30) "
   ]
  },
  {
   "cell_type": "markdown",
   "metadata": {},
   "source": [
    "**Q4**\n",
    "\n",
    "Combining variables: Cheap non-linearity"
   ]
  },
  {
   "cell_type": "markdown",
   "metadata": {},
   "source": [
    "The [Heidelberg stat-center](http://www.statlab.uni-heidelberg.de/data/iris/) reports a very nice result obtained by combining\n",
    "the 2 petal features and the  2 sepal features by multiplication.  We end up with 2 **area** features, and a system that's almost as good as a 4-feature linear system,\n",
    "at the cost of a little non-linearity (the multiplication). Here's the computation,\n",
    "and the picture, both of which are very simple.  \n",
    "\n",
    "Notice what the picture is telling us:  Petal area alone\n",
    "is enough to almost perfectly perform the discrimination.  And the insight can easily be made visual."
   ]
  },
  {
   "cell_type": "code",
   "execution_count": 92,
   "metadata": {},
   "outputs": [
    {
     "data": {
      "text/plain": [
       "Text(0, 0.5, 'petal area')"
      ]
     },
     "execution_count": 92,
     "metadata": {},
     "output_type": "execute_result"
    },
    {
     "data": {
      "image/png": "[encoded data removed]",
      "text/plain": [
       "<Figure size 640x480 with 1 Axes>"
      ]
     },
     "metadata": {},
     "output_type": "display_data"
    }
   ],
   "source": [
    "from sklearn.datasets import load_iris\n",
    "from sklearn.metrics import accuracy_score\n",
    "import numpy as np\n",
    "from matplotlib import pyplot as plt\n",
    "\n",
    "data = load_iris()\n",
    "features = data['data']\n",
    "feature_names = data['feature_names']\n",
    "target = data['target']\n",
    "sepal_area = features[:,0] * features[:,1]\n",
    "petal_area = features[:,2] * features[:,3]\n",
    "\n",
    "for t,marker,c in zip(list(range(3)),\">ox\",\"rgb\"):\n",
    "    plt.scatter(sepal_area[target == t], petal_area[target == t], marker=marker, c=c,s=60) \n",
    "\n",
    "# Let's draw our point P with extra special attention getting large SIZE.\n",
    "p_sepal_area,p_petal_area,p_target  = sepal_area[-90],petal_area[-90],target[-90]\n",
    "marker,clr = \">ox\"[p_target], \"rgb\"[p_target]\n",
    "plt.scatter(p_sepal_area,p_petal_area,marker=marker,c=clr,s=180)\n",
    "\n",
    "# Let;s draw some linear separators, horizontal lines in this case\n",
    "plt.plot(np.arange(0.,40.),np.array([1.8]*40))\n",
    "plt.plot(np.arange(0.,40.),np.array([7.4]*40))\n",
    "plt.axis('tight')\n",
    "plt.xlabel('sepal area')\n",
    "plt.ylabel('petal area')"
   ]
  },
  {
   "cell_type": "markdown",
   "metadata": {},
   "source": [
    "**Q4: Part A** \n",
    "\n",
    "Validate what the picture is telling you by training and evaluating a `linear_model.LogisticRegression` \n",
    "classifier that uses **only** the petal area feature.  \n",
    "\n",
    "You can define values for `petal_area` feature by evaluating the cell above.  Your\n",
    "answer should be a few lines of code.  The last line should print out the\n",
    "accuracy score for your classifier."
   ]
  },
  {
   "cell_type": "markdown",
   "metadata": {},
   "source": [
    "Checking feature names to get sepal area (0,1)/petal area(2,3) indcies."
   ]
  },
  {
   "cell_type": "code",
   "execution_count": 37,
   "metadata": {},
   "outputs": [
    {
     "data": {
      "text/plain": [
       "['sepal length (cm)',\n",
       " 'sepal width (cm)',\n",
       " 'petal length (cm)',\n",
       " 'petal width (cm)']"
      ]
     },
     "execution_count": 37,
     "metadata": {},
     "output_type": "execute_result"
    }
   ],
   "source": [
    "feature_names"
   ]
  },
  {
   "cell_type": "code",
   "execution_count": 39,
   "metadata": {},
   "outputs": [
    {
     "data": {
      "text/plain": [
       "0.9533333333333334"
      ]
     },
     "execution_count": 39,
     "metadata": {},
     "output_type": "execute_result"
    }
   ],
   "source": [
    "sepal_area = features[:,0] * features[:,1]\n",
    "petal_area = features[:,2] * features[:,3]\n",
    "\n",
    "\n",
    "X = petal_area[:,np.newaxis]\n",
    "Y = target\n",
    "logreg = linear_model.LogisticRegression(C=1e5)\n",
    "logreg.fit(X, Y)\n",
    "predicted = logreg.predict(X)\n",
    "accuracy_score(Y,predicted)"
   ]
  },
  {
   "cell_type": "markdown",
   "metadata": {},
   "source": [
    "**Q4: Part B** \n",
    "\n",
    "Train and evaluate a `linear_model.LogisticRegression` \n",
    "classifier that uses **both** the petal area feature and the sepal area feature.  \n",
    "Guidelines as with the last problem.\n"
   ]
  },
  {
   "cell_type": "markdown",
   "metadata": {},
   "source": [
    "**Answer**:  The tricky part is mashing together the 150x2 matrix we can use for training.\n",
    "\n",
    "Here's one way."
   ]
  },
  {
   "cell_type": "code",
   "execution_count": 93,
   "metadata": {},
   "outputs": [
    {
     "data": {
      "text/plain": [
       "(150, 2)"
      ]
     },
     "execution_count": 93,
     "metadata": {},
     "output_type": "execute_result"
    }
   ],
   "source": [
    "X = np.hstack([petal_area[:,np.newaxis],sepal_area[:,np.newaxis]])\n",
    "X.shape"
   ]
  },
  {
   "cell_type": "code",
   "execution_count": 94,
   "metadata": {},
   "outputs": [
    {
     "data": {
      "text/plain": [
       "0.98"
      ]
     },
     "execution_count": 94,
     "metadata": {},
     "output_type": "execute_result"
    }
   ],
   "source": [
    "logreg = linear_model.LogisticRegression(C=1e5)\n",
    "logreg.fit(X, Y)\n",
    "predicted = logreg.predict(X)\n",
    "accuracy_score(Y,predicted)"
   ]
  },
  {
   "cell_type": "markdown",
   "metadata": {
    "collapsed": true
   },
   "source": [
    "**Q4 Part C**\n",
    "\n",
    "Train and evaluate a `linear_model.LogisticRegression` \n",
    "classifier that uses both  area features **as well as** the original 4 features.\n",
    "Does this do better than a classifier trained on the original 4 features?\n"
   ]
  },
  {
   "cell_type": "markdown",
   "metadata": {},
   "source": [
    "Having done the last problem this is a piece of cake:"
   ]
  },
  {
   "cell_type": "code",
   "execution_count": 95,
   "metadata": {},
   "outputs": [
    {
     "data": {
      "text/plain": [
       "(150, 6)"
      ]
     },
     "execution_count": 95,
     "metadata": {},
     "output_type": "execute_result"
    }
   ],
   "source": [
    "X = np.hstack([features, petal_area[:,np.newaxis],sepal_area[:,np.newaxis]])\n",
    "X.shape"
   ]
  },
  {
   "cell_type": "code",
   "execution_count": 96,
   "metadata": {},
   "outputs": [
    {
     "data": {
      "text/plain": [
       "0.9866666666666667"
      ]
     },
     "execution_count": 96,
     "metadata": {},
     "output_type": "execute_result"
    }
   ],
   "source": [
    "\n",
    "# Note using the LBFGS solver spits out some warnings. ThiS may have to do with\n",
    "# the fact that some of the features have values that are much larger than the others.\n",
    "# In any case the score is unaffected.\n",
    "# Scaling would make the warnings go away. Or change solvers as I have.\n",
    "# logreg = linear_model.LogisticRegression(C=1e5,solver='lbfgs',multi_class='auto')\n",
    "logreg = linear_model.LogisticRegression(C=1e5,solver='liblinear',multi_class='auto')\n",
    "\n",
    "logreg.fit(X, Y)\n",
    "predicted = logreg.predict(X)\n",
    "acc_6 = accuracy_score(Y,predicted)\n",
    "acc_6"
   ]
  },
  {
   "cell_type": "markdown",
   "metadata": {},
   "source": [
    "The original 4 features:"
   ]
  },
  {
   "cell_type": "code",
   "execution_count": 97,
   "metadata": {},
   "outputs": [
    {
     "data": {
      "text/plain": [
       "0.98"
      ]
     },
     "execution_count": 97,
     "metadata": {},
     "output_type": "execute_result"
    }
   ],
   "source": [
    "# Note using the LBFGS solver spits out some warnings. ThiS may have to do with\n",
    "# the fact that some of the features have values that are much larger than the others.\n",
    "# In any case the score is unaffected.\n",
    "# Scaling would make the warnings go away. Or change solvers as I have.\n",
    "# logreg = linear_model.LogisticRegression(C=1e5,solver='lbfgs',multi_class='auto')\n",
    "logreg = linear_model.LogisticRegression(C=1e5,solver='liblinear',multi_class='auto')\n",
    "\n",
    "logreg.fit(features, Y)\n",
    "predicted = logreg.predict(features)\n",
    "acc_4 = accuracy_score(Y,predicted)\n",
    "acc_4"
   ]
  },
  {
   "cell_type": "markdown",
   "metadata": {},
   "source": [
    "Is the 6-feature model better?  Yes!"
   ]
  },
  {
   "cell_type": "code",
   "execution_count": 98,
   "metadata": {},
   "outputs": [
    {
     "data": {
      "text/plain": [
       "True"
      ]
     },
     "execution_count": 98,
     "metadata": {},
     "output_type": "execute_result"
    }
   ],
   "source": [
    "acc_4 < acc_6"
   ]
  },
  {
   "cell_type": "markdown",
   "metadata": {},
   "source": [
    "What we have been doing is called **feature hacking**.\n",
    "\n",
    "It is also a version of using a higher dimensionality model to improve performance."
   ]
  },
  {
   "cell_type": "code",
   "execution_count": null,
   "metadata": {},
   "outputs": [],
   "source": []
  }
 ],
 "metadata": {
  "kernelspec": {
   "display_name": "Python 3 (ipykernel)",
   "language": "python",
   "name": "python3"
  },
  "language_info": {
   "codemirror_mode": {
    "name": "ipython",
    "version": 3
   },
   "file_extension": ".py",
   "mimetype": "text/x-python",
   "name": "python",
   "nbconvert_exporter": "python",
   "pygments_lexer": "ipython3",
   "version": "3.10.6"
  },
  "toc": {
   "base_numbering": 1,
   "nav_menu": {
    "height": "171px",
    "width": "253px"
   },
   "number_sections": true,
   "sideBar": true,
   "skip_h1_title": false,
   "title_cell": "Table of Contents",
   "title_sidebar": "Contents",
   "toc_cell": false,
   "toc_position": {},
   "toc_section_display": "block",
   "toc_window_display": false
  }
 },
 "nbformat": 4,
 "nbformat_minor": 1
}
