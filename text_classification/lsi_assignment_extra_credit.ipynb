{
 "cells": [
  {
   "cell_type": "markdown",
   "id": "a57588b0",
   "metadata": {},
   "source": [
    "## Latent Semantic Indexing Assignment (Extra credit)\n",
    "\n",
    "\n",
    "When we apply SVD reduction to textual data it is called **Latent Semantic Indexing**.\n",
    "\n",
    "This notebook asks you to work through an example in the domain of document retrieval."
   ]
  },
  {
   "cell_type": "markdown",
   "id": "9469a6c2",
   "metadata": {},
   "source": [
    "Document set\n",
    "\n",
    "$$\n",
    "\\begin {array}{ll}\n",
    "d_0 &  \\text{Romeo and Juliet.}\\\\\n",
    "d_1 & \\text{Juliet: O happy dagger!}\\\\\n",
    "d_2 &  \\text{Romeo died by dagger.}\\\\\n",
    "d_3 & \\text{\"Live free or die\", that’s  New-Hampshire’s motto.}\\\\\n",
    "d_4 &  \\text{Did you know, New-Hampshire is in New-England?}\n",
    "\\end{array}\n",
    "$$\n",
    "\n",
    "\n",
    "Query:  dies dagger\n",
    "\n",
    "Goal.  Compute the following **relevance ranking** for the query:  d2, d1, d3, d0, d4\n",
    "\n",
    "The key point:  d0 ranks higher than d4, even though both fail to have any query words.  Why?\n",
    "Because d1 contains words that have **co-occurred** (occurred in the same document) with \n",
    "either or both query words.\n",
    "\n",
    "The **term document** matrtix for the above data is:\n",
    "\n",
    "$$\n",
    "\\begin {array}{lccccc}\n",
    "& d_0 & d_1 & d_2 & d_3& d_4\\\\\n",
    "\\hline\n",
    "\\text{romeo} & 1&  0&  1&  0&  0\\\\\n",
    "\\text{juliet} & 1&  1&  0&  0&  0\\\\\n",
    "\\text{happy}  & 0&  1&  0&  0&  0\\\\\n",
    "\\text{dagger} & 0&  1&  1&  0&  0\\\\\n",
    "\\text{live} & 0&  0&  0&  1&  0\\\\\n",
    "\\text{die} & 0&  0&  1&  1&  0\\\\\n",
    "\\text{free} & 0&  0&  0&  1&  0\\\\\n",
    "\\text{new-hampshire} & 0&  0&  0&  1&  1\n",
    "\\end{array}\n",
    "$$"
   ]
  },
  {
   "cell_type": "code",
   "execution_count": 302,
   "id": "768e5936",
   "metadata": {},
   "outputs": [],
   "source": [
    "docs = (\"Romeo and Juliet.\",\n",
    "        \"Juliet: O happy dagger!\", \n",
    "        \"Romeo died by dagger.\",\n",
    "        \"' Live free or die ', that's New-Hampshire's motto.\",\n",
    "        \"Did you know, New-Hampshire is in New-England?\")"
   ]
  },
  {
   "cell_type": "code",
   "execution_count": 303,
   "id": "5fc355a1",
   "metadata": {},
   "outputs": [],
   "source": [
    "import numpy as np\n",
    "\n",
    "#toy term document matrix\n",
    "TD = np.array([\n",
    "    [1,0,1,0,0],\n",
    "    [1,1,0,0,0],\n",
    "    [0,1,0,0,0],\n",
    "    [0,1,1,0,0],\n",
    "    [0,0,0,1,0],\n",
    "    [0,0,1,1,0],\n",
    "    [0,0,0,1,0],\n",
    "    [0,0,0,1,1],\n",
    "])\n",
    "\n",
    "#toy vocabulary (for the doc set above)\n",
    "V = \"romeo julie happy dagger live die free new-hampshire\".split()"
   ]
  },
  {
   "cell_type": "markdown",
   "id": "03b99134",
   "metadata": {},
   "source": [
    "1.  Preprocess this data correctly so as to arrive at the **target Term Document Matrix** and vocabulary (above), \n",
    "    using scikit learn text preprocessing tools (`Vectorizer`).\n",
    "2.  Reduce to 2 dimensions using SVD.\n",
    "3.  Transform the query into the reduced space.\n",
    "4.  Measure document relevance to the query using cosine.\n",
    "5.  Produce the target relevance ranking for the document set."
   ]
  },
  {
   "cell_type": "code",
   "execution_count": 304,
   "id": "102597d1",
   "metadata": {
    "scrolled": false
   },
   "outputs": [],
   "source": [
    "from sklearn.feature_extraction.text import CountVectorizer\n",
    "#from sklearn.feature_extraction.text import TfidfTransformer\n",
    "from sklearn.decomposition import TruncatedSVD\n",
    "from sklearn.metrics.pairwise import cosine_similarity\n",
    "import nltk\n",
    "from nltk.tokenize import TreebankWordTokenizer#RegexpTokenizer#StringTokenizer\n",
    "stemmer = nltk.PorterStemmer()\n",
    "#stemmer = nltk.LancasterStemmer()\n",
    "tb_tknzr = TreebankWordTokenizer()\n",
    "\n",
    "# Slip a stemmer into the tokenizer\n",
    "\n",
    "def my_tokenizer (doc,stemmer=stemmer,tokenizer=tb_tknzr):\n",
    "    return [stemmer.stem(wd) for wd in tokenizer.tokenize(doc)]\n",
    "\n",
    "puncts = list(\":,.?!\\'\")\n",
    "stop_words= \"and by did in is or know you that \\'s o\".split()\n",
    "cv = CountVectorizer(stop_words=stop_words+puncts,tokenizer=my_tokenizer,min_df=2,token_pattern=None)\n",
    "# we call it dtm because the rows are docs, and the columns are terms (words)\n",
    "dtm = cv.fit_transform(docs)\n",
    "\n",
    "#to get vocab list\n",
    "#cv.get_feature_names_out()\n",
    "\n",
    "#cv.inverse_transform(dtm)"
   ]
  },
  {
   "cell_type": "code",
   "execution_count": 305,
   "id": "1c4d1dc4",
   "metadata": {},
   "outputs": [
    {
     "data": {
      "text/plain": [
       "['u',\n",
       " 's',\n",
       " 'forc',\n",
       " 'hope',\n",
       " 'that',\n",
       " 'the',\n",
       " 'world',\n",
       " 'domin',\n",
       " 'by',\n",
       " 'domin',\n",
       " 'aggrav',\n",
       " 'and',\n",
       " 'fidel']"
      ]
     },
     "execution_count": 305,
     "metadata": {},
     "output_type": "execute_result"
    }
   ],
   "source": [
    "# Porter\n",
    "stmr = nltk.PorterStemmer()\n",
    "my_tokenizer(\"u s forces hope that the world dominates by domination aggravation and fidelity\",\n",
    "            stemmer=stmr)"
   ]
  },
  {
   "cell_type": "code",
   "execution_count": 306,
   "id": "a4106e2f",
   "metadata": {},
   "outputs": [
    {
     "data": {
      "text/plain": [
       "['u',\n",
       " 's',\n",
       " 'forc',\n",
       " 'hop',\n",
       " 'that',\n",
       " 'the',\n",
       " 'world',\n",
       " 'domin',\n",
       " 'by',\n",
       " 'domin',\n",
       " 'aggrav',\n",
       " 'and',\n",
       " 'fidel']"
      ]
     },
     "execution_count": 306,
     "metadata": {},
     "output_type": "execute_result"
    }
   ],
   "source": [
    "# Lancaster\n",
    "stmr = nltk.LancasterStemmer()\n",
    "my_tokenizer(\"u s forces hope that the world dominates by domination aggravation and fidelity\",\n",
    "            stemmer=stmr)"
   ]
  },
  {
   "cell_type": "code",
   "execution_count": 224,
   "id": "1d721614",
   "metadata": {},
   "outputs": [
    {
     "data": {
      "text/plain": [
       "array(['dagger', 'die', 'juliet', 'new-hampshir', 'romeo'], dtype=object)"
      ]
     },
     "execution_count": 224,
     "metadata": {},
     "output_type": "execute_result"
    }
   ],
   "source": [
    "cv.get_feature_names_out()"
   ]
  },
  {
   "cell_type": "markdown",
   "id": "52fed428",
   "metadata": {},
   "source": [
    "#### Reducing"
   ]
  },
  {
   "cell_type": "code",
   "execution_count": 225,
   "id": "8bc669ce",
   "metadata": {},
   "outputs": [],
   "source": [
    "reducer = TruncatedSVD(n_components=2)\n",
    "dtm2 = reducer.fit_transform(dtm)"
   ]
  },
  {
   "cell_type": "code",
   "execution_count": 226,
   "id": "b98eea6c",
   "metadata": {},
   "outputs": [
    {
     "data": {
      "text/plain": [
       "array([[ 0.94377067, -0.62279212],\n",
       "       [ 0.94377067, -0.62279212],\n",
       "       [ 1.54890367,  0.17205123],\n",
       "       [ 0.6544984 ,  1.19805373],\n",
       "       [ 0.17974866,  0.69503072]])"
      ]
     },
     "execution_count": 226,
     "metadata": {},
     "output_type": "execute_result"
    }
   ],
   "source": [
    "dtm2"
   ]
  },
  {
   "cell_type": "code",
   "execution_count": 227,
   "id": "9409f9c9",
   "metadata": {},
   "outputs": [
    {
     "data": {
      "text/plain": [
       "array([[ 0.53707696,  0.47474974,  0.40669371,  0.17974866,  0.53707696],\n",
       "       [-0.16548589,  0.50302301, -0.45730623,  0.69503072, -0.16548589]])"
      ]
     },
     "execution_count": 227,
     "metadata": {},
     "output_type": "execute_result"
    }
   ],
   "source": [
    "reducer.components_"
   ]
  },
  {
   "cell_type": "code",
   "execution_count": 228,
   "id": "782b753f",
   "metadata": {},
   "outputs": [],
   "source": [
    "q0 = cv.transform(np.array([\"died dagger\"]))\n",
    "q1 = reducer.transform(q0)"
   ]
  },
  {
   "cell_type": "code",
   "execution_count": 229,
   "id": "dd794905",
   "metadata": {},
   "outputs": [
    {
     "data": {
      "text/plain": [
       "array([[ 0.94377067, -0.62279212],\n",
       "       [ 0.94377067, -0.62279212],\n",
       "       [ 1.54890367,  0.17205123],\n",
       "       [ 0.6544984 ,  1.19805373],\n",
       "       [ 0.17974866,  0.69503072]])"
      ]
     },
     "execution_count": 229,
     "metadata": {},
     "output_type": "execute_result"
    }
   ],
   "source": [
    "dtm2"
   ]
  },
  {
   "cell_type": "markdown",
   "id": "b9ec4b27",
   "metadata": {},
   "source": [
    "We wanted d2, d1, d3, d0, d4  (most to least)\n",
    "\n",
    "We got:"
   ]
  },
  {
   "cell_type": "code",
   "execution_count": 234,
   "id": "5e54a7fc",
   "metadata": {},
   "outputs": [
    {
     "data": {
      "text/plain": [
       "array([2, 3, 1, 0, 4])"
      ]
     },
     "execution_count": 234,
     "metadata": {},
     "output_type": "execute_result"
    }
   ],
   "source": [
    "sims = cosine_similarity(q1,dtm2)\n",
    "sims.argsort()[0,:][::-1] #least to most: key 0 > 4"
   ]
  },
  {
   "cell_type": "code",
   "execution_count": 113,
   "id": "4f0cb4e4",
   "metadata": {},
   "outputs": [
    {
     "data": {
      "text/plain": [
       "('Romeo and Juliet.',\n",
       " 'Juliet: O happy dagger!',\n",
       " 'Romeo died by dagger.',\n",
       " \"' Live free or die ', that's New-Hampshire's motto.\",\n",
       " 'Did you know, New-Hampshire is in New-England?')"
      ]
     },
     "execution_count": 113,
     "metadata": {},
     "output_type": "execute_result"
    }
   ],
   "source": [
    "data"
   ]
  },
  {
   "cell_type": "code",
   "execution_count": 200,
   "id": "618910d0",
   "metadata": {},
   "outputs": [
    {
     "data": {
      "text/plain": [
       "<Compressed Sparse Row sparse matrix of dtype 'int64'\n",
       "\twith 10 stored elements and shape (5, 5)>"
      ]
     },
     "execution_count": 200,
     "metadata": {},
     "output_type": "execute_result"
    }
   ],
   "source": [
    "dtm"
   ]
  },
  {
   "cell_type": "code",
   "execution_count": 203,
   "id": "67b3ba07",
   "metadata": {},
   "outputs": [
    {
     "data": {
      "text/plain": [
       "((5, 5), (5, 2))"
      ]
     },
     "execution_count": 203,
     "metadata": {},
     "output_type": "execute_result"
    }
   ],
   "source": [
    "tdm.shape,red2.shape"
   ]
  },
  {
   "cell_type": "code",
   "execution_count": 204,
   "id": "247783f7",
   "metadata": {},
   "outputs": [
    {
     "data": {
      "text/plain": [
       "array([[-1.17707674e-16,  1.03209670e+00],\n",
       "       [-7.07106781e-01,  1.80924163e-01],\n",
       "       [ 2.44249065e-15,  5.45507975e-01],\n",
       "       [ 7.07106781e-01, -6.83117689e-01],\n",
       "       [ 1.55128670e-16, -5.81229502e-01]])"
      ]
     },
     "execution_count": 204,
     "metadata": {},
     "output_type": "execute_result"
    }
   ],
   "source": [
    "from numpy.linalg import eig\n",
    "tdm = (dtm.toarray()).T\n",
    "GM = tdm.T@tdm\n",
    "# cols of evecs are the evecs\n",
    "evals,evecs = eig(GM)\n",
    "# confirms the last two are the biggest \n",
    "idxs = evals.argsort()\n",
    "(e0,e1) = evecs[:,-1],evecs[:,-2]\n",
    "red2 = evecs[:,-2:]\n",
    "(lambda0,lambda1) = evals[-1],evals[-2]\n",
    "#transform docs to 2D \n",
    "tdm2 = dtm@red2\n",
    "tdm2"
   ]
  },
  {
   "cell_type": "code",
   "execution_count": 207,
   "id": "333612c9",
   "metadata": {},
   "outputs": [
    {
     "data": {
      "text/plain": [
       "<matplotlib.collections.PathCollection at 0x1602bf4d0>"
      ]
     },
     "execution_count": 207,
     "metadata": {},
     "output_type": "execute_result"
    },
    {
     "data": {
      "image/png": "[encoded data removed]",
      "text/plain": [
       "<Figure size 1000x600 with 2 Axes>"
      ]
     },
     "metadata": {},
     "output_type": "display_data"
    }
   ],
   "source": [
    "from matplotlib import pyplot as plt\n",
    "\n",
    "(fig,(ax0,ax1)) = plt.subplots(1,2, figsize= (10,6))\n",
    "\n",
    "ax0.set_title(\"Docs\")\n",
    "ax0.scatter(dtm2[:,0],dtm2[:,1])\n",
    "ax1.set_title(\"Words\")\n",
    "ax1.scatter(tdm2[:,0],tdm2[:,1])"
   ]
  },
  {
   "cell_type": "markdown",
   "id": "40f28f26",
   "metadata": {},
   "source": [
    "## State of the Union Task"
   ]
  },
  {
   "cell_type": "markdown",
   "id": "be0d1578",
   "metadata": {},
   "source": [
    "1. Do a TruncatedSVD reduction of the State of the Union data set, which consists of all the state of the union addresses of U.S. presidents since the practice began (1945?  Harry S. Truman).  Construct a reducer designed to reduce the term document matrix to to 200 dimensions.  What number of dimensions does the model actually reduce to for our data?  Why?\n",
    "2. Find the document ranking for the two-word query \"evil empire\".\n",
    "3. Compute NQ, the set of documents that contain neither of the two query words.  Find the highest ranking document within NQ. \n",
    "4. Compare the highest ranking document in NQ with the next highest ranking document not in NQ.  Does their ranking reflect their relevance?\n",
    "5. What is the minimum value that the scikit learn implementation of cosine can take?  What is the minimum value of the cosine simlarity scores in our data?  If they differ by more than 1e-8, is that a property of our data or the SVD computation or the scikit learn implementation of cosine?  Why?  If you have no idea why, make an educated guess and explain what lies behind your guess.\n",
    "6. Find the two most similar documents (speeches), using cosine as you similarity measure, and using the reduced representation of the docments."
   ]
  },
  {
   "cell_type": "code",
   "execution_count": 313,
   "id": "5e24efea",
   "metadata": {},
   "outputs": [],
   "source": [
    "from nltk.corpus import state_union\n",
    "from sklearn.feature_extraction.text import TfidfVectorizer"
   ]
  },
  {
   "cell_type": "code",
   "execution_count": 312,
   "id": "b19c689a",
   "metadata": {},
   "outputs": [],
   "source": [
    "fid0 =state_union.fileids()[0]\n",
    "docs = []\n",
    "for fid in state_union.fileids():\n",
    "    with state_union.open(fid) as fh:\n",
    "        docs.append(fh.read())"
   ]
  },
  {
   "cell_type": "code",
   "execution_count": 334,
   "id": "fb9901d2",
   "metadata": {},
   "outputs": [],
   "source": [
    "from nltk.corpus import stopwords\n",
    "import nltk\n",
    "from nltk.tokenize import TreebankWordTokenizer\n",
    "from sklearn.decomposition import TruncatedSVD\n",
    "from sklearn.metrics.pairwise import cosine_similarity\n",
    "import numpy as np\n",
    "\n",
    "# Slip a stemmer into the tokenizer\n",
    "\n",
    "def my_tokenizer (doc,stemmer=stemmer,tknzr=tb_tknzr):\n",
    "    return [stemmer.stem(wd) for wd in tknzr.tokenize(doc)]\n",
    "\n",
    "\n",
    "stemmer = nltk.PorterStemmer()\n",
    "#stops = list(stopwords.words(\"english\"))#\n",
    "stops = [stemmer.stem(st) for st in stopwords.words(\"english\")]\n",
    "tb_tknzr = TreebankWordTokenizer()\n",
    "puncts = list(\":,.?!\\'\")\n",
    "cv = TfidfVectorizer(stop_words=stops+puncts,tokenizer=my_tokenizer,min_df=2,token_pattern=None)"
   ]
  },
  {
   "cell_type": "code",
   "execution_count": null,
   "id": "190d79ca",
   "metadata": {},
   "outputs": [],
   "source": []
  }
 ],
 "metadata": {
  "kernelspec": {
   "display_name": "Python 3 (ipykernel)",
   "language": "python",
   "name": "python3"
  },
  "language_info": {
   "codemirror_mode": {
    "name": "ipython",
    "version": 3
   },
   "file_extension": ".py",
   "mimetype": "text/x-python",
   "name": "python",
   "nbconvert_exporter": "python",
   "pygments_lexer": "ipython3",
   "version": "3.12.5"
  }
 },
 "nbformat": 4,
 "nbformat_minor": 5
}
