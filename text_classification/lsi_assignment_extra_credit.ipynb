{
 "cells": [
  {
   "cell_type": "markdown",
   "id": "a57588b0",
   "metadata": {},
   "source": [
    "## Latent Semantic Indexing Assignment (Extra credit)\n",
    "\n",
    "\n",
    "When we apply SVD reduction to textual data it is called **Latent Semantic Indexing**.\n",
    "\n",
    "This notebook asks you to work through an example in the domain of document retrieval."
   ]
  },
  {
   "cell_type": "markdown",
   "id": "9469a6c2",
   "metadata": {},
   "source": [
    "Document set\n",
    "\n",
    "$$\n",
    "\\begin {array}{ll}\n",
    "d_0 &  \\text{Romeo and Juliet.}\\\\\n",
    "d_1 & \\text{Juliet: O happy dagger!}\\\\\n",
    "d_2 &  \\text{Romeo died by dagger.}\\\\\n",
    "d_3 & \\text{\"Live free or die\", that’s  New-Hampshire’s motto.}\\\\\n",
    "d_4 &  \\text{Did you know, New-Hampshire is in New-England?}\n",
    "\\end{array}\n",
    "$$\n",
    "\n",
    "\n",
    "Query:  dies dagger\n",
    "\n",
    "Goal.  Compute the following **relevance ranking** for the query:  d2, d1, d3, d0, d4\n",
    "\n",
    "The key point:  d0 ranks higher than d4, even though both fail to have any query words.  Why?\n",
    "Because d1 contains words that have **co-occurred** (occurred in the same document) with \n",
    "either or both query words.\n",
    "\n",
    "The **term document** matrtix for the above data is:\n",
    "\n",
    "$$\n",
    "\\begin {array}{lccccc}\n",
    "& d_0 & d_1 & d_2 & d_3& d_4\\\\\n",
    "\\hline\n",
    "\\text{romeo} & 1&  0&  1&  0&  0\\\\\n",
    "\\text{juliet} & 1&  1&  0&  0&  0\\\\\n",
    "\\text{happy}  & 0&  1&  0&  0&  0\\\\\n",
    "\\text{dagger} & 0&  1&  1&  0&  0\\\\\n",
    "\\text{live} & 0&  0&  0&  1&  0\\\\\n",
    "\\text{die} & 0&  0&  1&  1&  0\\\\\n",
    "\\text{free} & 0&  0&  0&  1&  0\\\\\n",
    "\\text{new-hampshire} & 0&  0&  0&  1&  1\n",
    "\\end{array}\n",
    "$$"
   ]
  },
  {
   "cell_type": "code",
   "execution_count": 302,
   "id": "768e5936",
   "metadata": {},
   "outputs": [],
   "source": [
    "docs = (\"Romeo and Juliet.\",\n",
    "        \"Juliet: O happy dagger!\", \n",
    "        \"Romeo died by dagger.\",\n",
    "        \"' Live free or die ', that's New-Hampshire's motto.\",\n",
    "        \"Did you know, New-Hampshire is in New-England?\")"
   ]
  },
  {
   "cell_type": "code",
   "execution_count": 303,
   "id": "5fc355a1",
   "metadata": {},
   "outputs": [],
   "source": [
    "import numpy as np\n",
    "\n",
    "#toy term document matrix\n",
    "TD = np.array([\n",
    "    [1,0,1,0,0],\n",
    "    [1,1,0,0,0],\n",
    "    [0,1,0,0,0],\n",
    "    [0,1,1,0,0],\n",
    "    [0,0,0,1,0],\n",
    "    [0,0,1,1,0],\n",
    "    [0,0,0,1,0],\n",
    "    [0,0,0,1,1],\n",
    "])\n",
    "\n",
    "#toy vocabulary (for the doc set above)\n",
    "V = \"romeo julie happy dagger live die free new-hampshire\".split()"
   ]
  },
  {
   "cell_type": "markdown",
   "id": "03b99134",
   "metadata": {},
   "source": [
    "1.  Preprocess this data correctly so as to arrive at the **target Term Document Matrix** and vocabulary (above), \n",
    "    using scikit learn text preprocessing tools (`Vectorizer`).\n",
    "2.  Reduce to 2 dimensions using SVD.\n",
    "3.  Transform the query into the reduced space.\n",
    "4.  Measure document relevance to the query using cosine.\n",
    "5.  Produce the target relevance ranking for the document set."
   ]
  },
  {
   "cell_type": "code",
   "execution_count": 304,
   "id": "102597d1",
   "metadata": {
    "scrolled": false
   },
   "outputs": [],
   "source": [
    "from sklearn.feature_extraction.text import CountVectorizer\n",
    "#from sklearn.feature_extraction.text import TfidfTransformer\n",
    "from sklearn.decomposition import TruncatedSVD\n",
    "from sklearn.metrics.pairwise import cosine_similarity\n",
    "import nltk\n",
    "from nltk.tokenize import TreebankWordTokenizer#RegexpTokenizer#StringTokenizer\n",
    "stemmer = nltk.PorterStemmer()\n",
    "#stemmer = nltk.LancasterStemmer()\n",
    "tb_tknzr = TreebankWordTokenizer()\n",
    "\n",
    "# Slip a stemmer into the tokenizer\n",
    "\n",
    "def my_tokenizer (doc,stemmer=stemmer,tokenizer=tb_tknzr):\n",
    "    return [stemmer.stem(wd) for wd in tokenizer.tokenize(doc)]\n",
    "\n",
    "puncts = list(\":,.?!\\'\")\n",
    "stop_words= \"and by did in is or know you that \\'s o\".split()\n",
    "cv = CountVectorizer(stop_words=stop_words+puncts,tokenizer=my_tokenizer,min_df=2,token_pattern=None)\n",
    "# we call it dtm because the rows are docs, and the columns are terms (words)\n",
    "dtm = cv.fit_transform(docs)\n",
    "\n",
    "#to get vocab list\n",
    "#cv.get_feature_names_out()\n",
    "\n",
    "#cv.inverse_transform(dtm)"
   ]
  },
  {
   "cell_type": "code",
   "execution_count": 305,
   "id": "1c4d1dc4",
   "metadata": {},
   "outputs": [
    {
     "data": {
      "text/plain": [
       "['u',\n",
       " 's',\n",
       " 'forc',\n",
       " 'hope',\n",
       " 'that',\n",
       " 'the',\n",
       " 'world',\n",
       " 'domin',\n",
       " 'by',\n",
       " 'domin',\n",
       " 'aggrav',\n",
       " 'and',\n",
       " 'fidel']"
      ]
     },
     "execution_count": 305,
     "metadata": {},
     "output_type": "execute_result"
    }
   ],
   "source": [
    "# Porter\n",
    "stmr = nltk.PorterStemmer()\n",
    "my_tokenizer(\"u s forces hope that the world dominates by domination aggravation and fidelity\",\n",
    "            stemmer=stmr)"
   ]
  },
  {
   "cell_type": "code",
   "execution_count": 306,
   "id": "a4106e2f",
   "metadata": {},
   "outputs": [
    {
     "data": {
      "text/plain": [
       "['u',\n",
       " 's',\n",
       " 'forc',\n",
       " 'hop',\n",
       " 'that',\n",
       " 'the',\n",
       " 'world',\n",
       " 'domin',\n",
       " 'by',\n",
       " 'domin',\n",
       " 'aggrav',\n",
       " 'and',\n",
       " 'fidel']"
      ]
     },
     "execution_count": 306,
     "metadata": {},
     "output_type": "execute_result"
    }
   ],
   "source": [
    "# Lancaster\n",
    "stmr = nltk.LancasterStemmer()\n",
    "my_tokenizer(\"u s forces hope that the world dominates by domination aggravation and fidelity\",\n",
    "            stemmer=stmr)"
   ]
  },
  {
   "cell_type": "code",
   "execution_count": 224,
   "id": "1d721614",
   "metadata": {},
   "outputs": [
    {
     "data": {
      "text/plain": [
       "array(['dagger', 'die', 'juliet', 'new-hampshir', 'romeo'], dtype=object)"
      ]
     },
     "execution_count": 224,
     "metadata": {},
     "output_type": "execute_result"
    }
   ],
   "source": [
    "cv.get_feature_names_out()"
   ]
  },
  {
   "cell_type": "markdown",
   "id": "52fed428",
   "metadata": {},
   "source": [
    "#### Reducing"
   ]
  },
  {
   "cell_type": "code",
   "execution_count": 225,
   "id": "8bc669ce",
   "metadata": {},
   "outputs": [],
   "source": [
    "reducer = TruncatedSVD(n_components=2)\n",
    "dtm2 = reducer.fit_transform(dtm)"
   ]
  },
  {
   "cell_type": "code",
   "execution_count": 226,
   "id": "b98eea6c",
   "metadata": {},
   "outputs": [
    {
     "data": {
      "text/plain": [
       "array([[ 0.94377067, -0.62279212],\n",
       "       [ 0.94377067, -0.62279212],\n",
       "       [ 1.54890367,  0.17205123],\n",
       "       [ 0.6544984 ,  1.19805373],\n",
       "       [ 0.17974866,  0.69503072]])"
      ]
     },
     "execution_count": 226,
     "metadata": {},
     "output_type": "execute_result"
    }
   ],
   "source": [
    "dtm2"
   ]
  },
  {
   "cell_type": "code",
   "execution_count": 227,
   "id": "9409f9c9",
   "metadata": {},
   "outputs": [
    {
     "data": {
      "text/plain": [
       "array([[ 0.53707696,  0.47474974,  0.40669371,  0.17974866,  0.53707696],\n",
       "       [-0.16548589,  0.50302301, -0.45730623,  0.69503072, -0.16548589]])"
      ]
     },
     "execution_count": 227,
     "metadata": {},
     "output_type": "execute_result"
    }
   ],
   "source": [
    "reducer.components_"
   ]
  },
  {
   "cell_type": "code",
   "execution_count": 228,
   "id": "782b753f",
   "metadata": {},
   "outputs": [],
   "source": [
    "q0 = cv.transform(np.array([\"died dagger\"]))\n",
    "q1 = reducer.transform(q0)"
   ]
  },
  {
   "cell_type": "code",
   "execution_count": 229,
   "id": "dd794905",
   "metadata": {},
   "outputs": [
    {
     "data": {
      "text/plain": [
       "array([[ 0.94377067, -0.62279212],\n",
       "       [ 0.94377067, -0.62279212],\n",
       "       [ 1.54890367,  0.17205123],\n",
       "       [ 0.6544984 ,  1.19805373],\n",
       "       [ 0.17974866,  0.69503072]])"
      ]
     },
     "execution_count": 229,
     "metadata": {},
     "output_type": "execute_result"
    }
   ],
   "source": [
    "dtm2"
   ]
  },
  {
   "cell_type": "markdown",
   "id": "b9ec4b27",
   "metadata": {},
   "source": [
    "We wanted d2, d1, d3, d0, d4  (most to least)\n",
    "\n",
    "We got:"
   ]
  },
  {
   "cell_type": "code",
   "execution_count": 234,
   "id": "5e54a7fc",
   "metadata": {},
   "outputs": [
    {
     "data": {
      "text/plain": [
       "array([2, 3, 1, 0, 4])"
      ]
     },
     "execution_count": 234,
     "metadata": {},
     "output_type": "execute_result"
    }
   ],
   "source": [
    "sims = cosine_similarity(q1,dtm2)\n",
    "sims.argsort()[0,:][::-1] #least to most: key 0 > 4"
   ]
  },
  {
   "cell_type": "code",
   "execution_count": 113,
   "id": "4f0cb4e4",
   "metadata": {},
   "outputs": [
    {
     "data": {
      "text/plain": [
       "('Romeo and Juliet.',\n",
       " 'Juliet: O happy dagger!',\n",
       " 'Romeo died by dagger.',\n",
       " \"' Live free or die ', that's New-Hampshire's motto.\",\n",
       " 'Did you know, New-Hampshire is in New-England?')"
      ]
     },
     "execution_count": 113,
     "metadata": {},
     "output_type": "execute_result"
    }
   ],
   "source": [
    "data"
   ]
  },
  {
   "cell_type": "code",
   "execution_count": 200,
   "id": "618910d0",
   "metadata": {},
   "outputs": [
    {
     "data": {
      "text/plain": [
       "<Compressed Sparse Row sparse matrix of dtype 'int64'\n",
       "\twith 10 stored elements and shape (5, 5)>"
      ]
     },
     "execution_count": 200,
     "metadata": {},
     "output_type": "execute_result"
    }
   ],
   "source": [
    "dtm"
   ]
  },
  {
   "cell_type": "code",
   "execution_count": 203,
   "id": "67b3ba07",
   "metadata": {},
   "outputs": [
    {
     "data": {
      "text/plain": [
       "((5, 5), (5, 2))"
      ]
     },
     "execution_count": 203,
     "metadata": {},
     "output_type": "execute_result"
    }
   ],
   "source": [
    "tdm.shape,red2.shape"
   ]
  },
  {
   "cell_type": "code",
   "execution_count": 204,
   "id": "247783f7",
   "metadata": {},
   "outputs": [
    {
     "data": {
      "text/plain": [
       "array([[-1.17707674e-16,  1.03209670e+00],\n",
       "       [-7.07106781e-01,  1.80924163e-01],\n",
       "       [ 2.44249065e-15,  5.45507975e-01],\n",
       "       [ 7.07106781e-01, -6.83117689e-01],\n",
       "       [ 1.55128670e-16, -5.81229502e-01]])"
      ]
     },
     "execution_count": 204,
     "metadata": {},
     "output_type": "execute_result"
    }
   ],
   "source": [
    "from numpy.linalg import eig\n",
    "tdm = (dtm.toarray()).T\n",
    "GM = tdm.T@tdm\n",
    "# cols of evecs are the evecs\n",
    "evals,evecs = eig(GM)\n",
    "# confirms the last two are the biggest \n",
    "idxs = evals.argsort()\n",
    "(e0,e1) = evecs[:,-1],evecs[:,-2]\n",
    "red2 = evecs[:,-2:]\n",
    "(lambda0,lambda1) = evals[-1],evals[-2]\n",
    "#transform docs to 2D \n",
    "tdm2 = dtm@red2\n",
    "tdm2"
   ]
  },
  {
   "cell_type": "code",
   "execution_count": 207,
   "id": "333612c9",
   "metadata": {},
   "outputs": [
    {
     "data": {
      "text/plain": [
       "<matplotlib.collections.PathCollection at 0x1602bf4d0>"
      ]
     },
     "execution_count": 207,
     "metadata": {},
     "output_type": "execute_result"
    },
    {
     "data": {
      "image/png": "[encoded data removed]",
      "text/plain": [
       "<Figure size 1000x600 with 2 Axes>"
      ]
     },
     "metadata": {},
     "output_type": "display_data"
    }
   ],
   "source": [
    "from matplotlib import pyplot as plt\n",
    "\n",
    "(fig,(ax0,ax1)) = plt.subplots(1,2, figsize= (10,6))\n",
    "\n",
    "ax0.set_title(\"Docs\")\n",
    "ax0.scatter(dtm2[:,0],dtm2[:,1])\n",
    "ax1.set_title(\"Words\")\n",
    "ax1.scatter(tdm2[:,0],tdm2[:,1])"
   ]
  },
  {
   "cell_type": "markdown",
   "id": "40f28f26",
   "metadata": {},
   "source": [
    "## State of the Union Task"
   ]
  },
  {
   "cell_type": "markdown",
   "id": "be0d1578",
   "metadata": {},
   "source": [
    "1. Do a TruncatedSVD reduction of the State of the Union data set, which consists of all the state of the union addresses of U.S. presidents since the practice began (1945?  Harry S. Truman).  Construct a reducer designed to reduce the term document matrix to to 200 dimensions.  What number of dimensions does the model actually reduce to for our data?  Why?\n",
    "2. Find the document ranking for the two-word query \"evil empire\".\n",
    "3. Compute the set of documents that contain neither of the two query words.  Find the highest ranking document within that set. \n",
    "4. Compare docs 30 and 22.  Does their ranking reflect their relevance?\n",
    "5. What is the minimum value that the scikit learn implementation of cosine can take?  What is the minimum value of the cosine simlarity scores in our data?  If they differ by more than 1e-8, is that a property of our data or the SVD computation or the scikit learn implementation of cosine?  Why?  If you have no idea why, make an educated guess and explain what lie sbehin your guess."
   ]
  },
  {
   "cell_type": "code",
   "execution_count": 313,
   "id": "5e24efea",
   "metadata": {},
   "outputs": [],
   "source": [
    "from nltk.corpus import state_union\n",
    "from sklearn.feature_extraction.text import TfidfVectorizer"
   ]
  },
  {
   "cell_type": "code",
   "execution_count": 312,
   "id": "b19c689a",
   "metadata": {},
   "outputs": [],
   "source": [
    "fid0 =state_union.fileids()[0]\n",
    "docs = []\n",
    "for fid in state_union.fileids():\n",
    "    with state_union.open(fid) as fh:\n",
    "        docs.append(fh.read())"
   ]
  },
  {
   "cell_type": "code",
   "execution_count": 334,
   "id": "fb9901d2",
   "metadata": {},
   "outputs": [],
   "source": [
    "from nltk.corpus import stopwords\n",
    "import nltk\n",
    "from nltk.tokenize import TreebankWordTokenizer\n",
    "from sklearn.decomposition import TruncatedSVD\n",
    "from sklearn.metrics.pairwise import cosine_similarity\n",
    "import numpy as np\n",
    "\n",
    "# Slip a stemmer into the tokenizer\n",
    "\n",
    "def my_tokenizer (doc,stemmer=stemmer,tknzr=tb_tknzr):\n",
    "    return [stemmer.stem(wd) for wd in tknzr.tokenize(doc)]\n",
    "\n",
    "\n",
    "stemmer = nltk.PorterStemmer()\n",
    "#stops = list(stopwords.words(\"english\"))#\n",
    "stops = [stemmer.stem(st) for st in stopwords.words(\"english\")]\n",
    "tb_tknzr = TreebankWordTokenizer()\n",
    "puncts = list(\":,.?!\\'\")\n",
    "cv = TfidfVectorizer(stop_words=stops+puncts,tokenizer=my_tokenizer,min_df=2,token_pattern=None)"
   ]
  },
  {
   "cell_type": "markdown",
   "id": "2894a6cd",
   "metadata": {},
   "source": [
    "Added by student (system)"
   ]
  },
  {
   "cell_type": "code",
   "execution_count": 335,
   "id": "9d132883",
   "metadata": {},
   "outputs": [
    {
     "data": {
      "text/plain": [
       "(65, 65)"
      ]
     },
     "execution_count": 335,
     "metadata": {},
     "output_type": "execute_result"
    }
   ],
   "source": [
    "dtm = cv.fit_transform(docs)\n",
    "reducer = TruncatedSVD(n_components=200)\n",
    "dtm2 = reducer.fit_transform(dtm)\n",
    "dtm2.shape"
   ]
  },
  {
   "cell_type": "markdown",
   "id": "8f522692",
   "metadata": {},
   "source": [
    "Added by student query"
   ]
  },
  {
   "cell_type": "code",
   "execution_count": 336,
   "id": "601dde91",
   "metadata": {},
   "outputs": [
    {
     "name": "stdout",
     "output_type": "stream",
     "text": [
      "(1, 6711)\n"
     ]
    }
   ],
   "source": [
    "query = [\"evil empire\"]\n",
    "wd0,wd1 = query[0].split()\n",
    "q0 = cv.transform(np.array(query))\n",
    "#2D array with same num cols as term-doc matrix\n",
    "#i.e., a 1 doc term-doc matrix\n",
    "print(q0.shape)\n",
    "q1 = reducer.transform(q0)"
   ]
  },
  {
   "cell_type": "markdown",
   "id": "828fb5b5",
   "metadata": {},
   "source": [
    "Added by student: doc relevance (similarity computation)"
   ]
  },
  {
   "cell_type": "code",
   "execution_count": 337,
   "id": "26058174",
   "metadata": {},
   "outputs": [
    {
     "name": "stdout",
     "output_type": "stream",
     "text": [
      "Least: -0.000 Most: 0.353\n"
     ]
    },
    {
     "data": {
      "text/plain": [
       "array([16,  9,  8, 42, 14, 11, 10, 13, 19, 26, 58, 15, 56, 33, 55, 24, 25,\n",
       "       37, 45, 46,  7, 44, 30, 34, 57, 43, 53,  0, 40, 54, 50, 41, 22, 31,\n",
       "       12, 49, 27,  2, 39,  1, 62, 64, 52, 51, 32,  3, 47,  6, 28, 48, 63,\n",
       "       23, 38, 59, 60,  5, 20, 36, 29, 35, 61, 18,  4, 17, 21])"
      ]
     },
     "execution_count": 337,
     "metadata": {},
     "output_type": "execute_result"
    }
   ],
   "source": [
    "sims = cosine_similarity(q1,dtm2)[0]\n",
    "rankings = sims.argsort() #least to most:\n",
    "print(f\"Least: {sims[rankings[0]]:.3f} Most: {sims[rankings[-1]]:.3f}\")\n",
    "rankings"
   ]
  },
  {
   "cell_type": "markdown",
   "id": "3bf9088b",
   "metadata": {},
   "source": [
    "Arange from highest to lowest: `tr_rankings[0]`has the best sim score:"
   ]
  },
  {
   "cell_type": "code",
   "execution_count": 359,
   "id": "96a6a2e1",
   "metadata": {
    "scrolled": true
   },
   "outputs": [
    {
     "data": {
      "text/plain": [
       "array([21, 17,  4, 18, 61, 35, 29, 36, 20,  5, 60, 59, 38, 23, 63, 48, 28,\n",
       "        6, 47,  3, 32, 51, 52, 64, 62,  1, 39,  2, 27, 49, 12, 31, 22, 41,\n",
       "       50, 54, 40,  0, 53, 43, 57, 34, 30, 44,  7, 46, 45, 37, 25, 24, 55,\n",
       "       33, 56, 15, 58, 26, 19, 13, 10, 11, 14, 42,  8,  9, 16])"
      ]
     },
     "execution_count": 359,
     "metadata": {},
     "output_type": "execute_result"
    }
   ],
   "source": [
    "tr_rankings = rankings[::-1]"
   ]
  },
  {
   "cell_type": "markdown",
   "id": "b79367b8",
   "metadata": {},
   "source": [
    "There are a number of negative cosine values but they are **all** effectively 0:"
   ]
  },
  {
   "cell_type": "code",
   "execution_count": 360,
   "id": "4e25bad5",
   "metadata": {},
   "outputs": [
    {
     "name": "stdout",
     "output_type": "stream",
     "text": [
      "26\n"
     ]
    },
    {
     "data": {
      "text/plain": [
       "np.float64(-1.0047174355276416e-15)"
      ]
     },
     "execution_count": 360,
     "metadata": {},
     "output_type": "execute_result"
    }
   ],
   "source": [
    "print(len([sims[rankings[i]] for i in range(len(rankings)) if sims[rankings[i]] <= 0]))\n",
    "sims.min()"
   ]
  },
  {
   "cell_type": "code",
   "execution_count": 361,
   "id": "67580444",
   "metadata": {},
   "outputs": [
    {
     "data": {
      "text/plain": [
       "(65,)"
      ]
     },
     "execution_count": 361,
     "metadata": {},
     "output_type": "execute_result"
    }
   ],
   "source": [
    "rankings.shape"
   ]
  },
  {
   "cell_type": "markdown",
   "id": "e047d9c0",
   "metadata": {},
   "source": [
    "Well over half of our 65 similarity scores are effectively zero:"
   ]
  },
  {
   "cell_type": "code",
   "execution_count": 362,
   "id": "b8690de2",
   "metadata": {},
   "outputs": [
    {
     "data": {
      "text/plain": [
       "np.int64(39)"
      ]
     },
     "execution_count": 362,
     "metadata": {},
     "output_type": "execute_result"
    }
   ],
   "source": [
    "(np.abs(sims) < 1e-8).sum()"
   ]
  },
  {
   "cell_type": "code",
   "execution_count": 363,
   "id": "1952a1e1",
   "metadata": {},
   "outputs": [
    {
     "name": "stdout",
     "output_type": "stream",
     "text": [
      "Rank   Doc   Sim\n",
      "==================\n",
      " 20    32   7.844e-02\n",
      " 21    51   5.230e-02\n",
      " 22    52   4.407e-02\n",
      " 23    64   3.761e-02\n",
      " 24    62   3.636e-02\n",
      " 25     1   1.389e-02\n",
      " 26    39   2.079e-15\n",
      " 27     2   1.973e-15\n",
      " 28    27   6.331e-16\n",
      " 29    49   5.433e-16\n",
      " 30    12   5.129e-16\n"
     ]
    }
   ],
   "source": [
    "sim_vec = sims\n",
    "# most sim to least\n",
    "hdr=\"Rank   Doc   Sim\"\n",
    "print(hdr)\n",
    "print((len(hdr)+2)*\"=\")\n",
    "for i in range(20,31):\n",
    "    print(f\" {i:>2}    {tr_rankings[i]:>2}   {sim_vec[tr_rankings[i]]: >5.3e}\")"
   ]
  },
  {
   "cell_type": "markdown",
   "id": "b04508d9",
   "metadata": {},
   "source": [
    "Docs containing neither query word"
   ]
  },
  {
   "cell_type": "code",
   "execution_count": 356,
   "id": "03a85e3c",
   "metadata": {
    "scrolled": true
   },
   "outputs": [
    {
     "data": {
      "text/plain": [
       "{0,\n",
       " 2,\n",
       " 7,\n",
       " 8,\n",
       " 9,\n",
       " 10,\n",
       " 11,\n",
       " 12,\n",
       " 13,\n",
       " 14,\n",
       " 15,\n",
       " 16,\n",
       " 19,\n",
       " 24,\n",
       " 25,\n",
       " 26,\n",
       " 27,\n",
       " 30,\n",
       " 31,\n",
       " 33,\n",
       " 34,\n",
       " 37,\n",
       " 39,\n",
       " 40,\n",
       " 41,\n",
       " 42,\n",
       " 43,\n",
       " 44,\n",
       " 45,\n",
       " 46,\n",
       " 49,\n",
       " 50,\n",
       " 53,\n",
       " 54,\n",
       " 55,\n",
       " 56,\n",
       " 57,\n",
       " 58}"
      ]
     },
     "execution_count": 356,
     "metadata": {},
     "output_type": "execute_result"
    }
   ],
   "source": [
    "S3 = {i for i in range(len(docs)) if wd0 not in docs[i] and wd1 not in docs[i] }\n",
    "S3"
   ]
  },
  {
   "cell_type": "markdown",
   "id": "933ea25b",
   "metadata": {},
   "source": [
    "The sim scores of our non-query word docs are low, but they are far from the lowest"
   ]
  },
  {
   "cell_type": "code",
   "execution_count": 357,
   "id": "0551ffa0",
   "metadata": {
    "scrolled": true
   },
   "outputs": [
    {
     "data": {
      "text/plain": [
       "array([ 4.77225661e-17,  1.97251941e-15, -2.08984856e-16, -8.94027746e-16,\n",
       "       -9.11763303e-16, -5.44216384e-16, -5.58497275e-16,  5.12949663e-16,\n",
       "       -5.33744658e-16, -6.08074994e-16, -3.83976153e-16, -1.00471744e-15,\n",
       "       -5.08418063e-16, -3.33795172e-16, -2.69364905e-16, -3.88982182e-16,\n",
       "        6.33073944e-16, -5.54889137e-17,  4.05436535e-16, -3.76352941e-16,\n",
       "       -5.11185895e-17, -2.52963035e-16,  2.07894260e-15,  4.90205856e-17,\n",
       "        2.85733771e-16, -7.83738845e-16, -1.33850851e-17, -1.96759983e-16,\n",
       "       -2.39369694e-16, -2.14878965e-16,  5.43332739e-16,  1.91282002e-16,\n",
       "        8.91323148e-18,  8.28638887e-17, -3.58364141e-16, -3.82048942e-16,\n",
       "       -3.53136927e-17, -3.85822322e-16])"
      ]
     },
     "execution_count": 357,
     "metadata": {},
     "output_type": "execute_result"
    }
   ],
   "source": [
    "sims[list(S3)]"
   ]
  },
  {
   "cell_type": "code",
   "execution_count": 358,
   "id": "d7c62df0",
   "metadata": {},
   "outputs": [
    {
     "data": {
      "text/plain": [
       "[np.int64(27),\n",
       " np.int64(37),\n",
       " np.int64(20),\n",
       " np.int64(2),\n",
       " np.int64(1),\n",
       " np.int64(6),\n",
       " np.int64(5),\n",
       " np.int64(34),\n",
       " np.int64(7),\n",
       " np.int64(4),\n",
       " np.int64(11),\n",
       " np.int64(0),\n",
       " np.int64(8),\n",
       " np.int64(15),\n",
       " np.int64(16),\n",
       " np.int64(9),\n",
       " np.int64(36),\n",
       " np.int64(22),\n",
       " np.int64(33),\n",
       " np.int64(13),\n",
       " np.int64(23),\n",
       " np.int64(17),\n",
       " np.int64(38),\n",
       " np.int64(28),\n",
       " np.int64(31),\n",
       " np.int64(3),\n",
       " np.int64(25),\n",
       " np.int64(21),\n",
       " np.int64(18),\n",
       " np.int64(19),\n",
       " np.int64(35),\n",
       " np.int64(30),\n",
       " np.int64(26),\n",
       " np.int64(29),\n",
       " np.int64(14),\n",
       " np.int64(12),\n",
       " np.int64(24),\n",
       " np.int64(10)]"
      ]
     },
     "execution_count": 358,
     "metadata": {},
     "output_type": "execute_result"
    }
   ],
   "source": [
    "## Ranks of the non query word docs.  The highest is 27.\n",
    "[np.where(rankings ==idx)[0][0] for idx in S3]"
   ]
  },
  {
   "cell_type": "code",
   "execution_count": null,
   "id": "970b328f",
   "metadata": {},
   "outputs": [],
   "source": []
  },
  {
   "cell_type": "code",
   "execution_count": 342,
   "id": "a971107f",
   "metadata": {},
   "outputs": [
    {
     "data": {
      "text/plain": [
       "array([16,  9,  8, 42, 14, 11, 10, 13, 19, 26, 58, 15, 56, 33, 55, 24, 25,\n",
       "       37, 45, 46,  7, 44, 30, 34, 57, 43, 53,  0, 40, 54, 50, 41, 22, 31,\n",
       "       12, 49, 27,  2, 39,  1, 62, 64, 52, 51, 32,  3, 47,  6, 28, 48, 63,\n",
       "       23, 38, 59, 60,  5, 20, 36, 29, 35, 61, 18,  4, 17, 21])"
      ]
     },
     "execution_count": 342,
     "metadata": {},
     "output_type": "execute_result"
    }
   ],
   "source": [
    "rankings"
   ]
  },
  {
   "cell_type": "code",
   "execution_count": 311,
   "id": "dd6a1803",
   "metadata": {},
   "outputs": [
    {
     "data": {
      "text/plain": [
       "['Romeo and Juliet.',\n",
       " 'iet: O happy dagger!',\n",
       " 'omeo died by dagger.',\n",
       " \"w-Hampshire's motto.\",\n",
       " 'e is in New-England?']"
      ]
     },
     "execution_count": 311,
     "metadata": {},
     "output_type": "execute_result"
    }
   ],
   "source": [
    "[docs[i][-20:] for i in range(len(docs))]"
   ]
  },
  {
   "cell_type": "code",
   "execution_count": 197,
   "id": "ece56354",
   "metadata": {},
   "outputs": [
    {
     "name": "stdout",
     "output_type": "stream",
     "text": [
      "Address on the State of the Union Delivered Before a Joint Session of the Congress. January 20, 1972\n",
      "\n",
      "Mr. Speaker, Mr. President, my colleagues in the Congress, our distinguished guests, my fellow Americans:\n",
      "Ą@Twenty-five years ago I sat here as a freshman CongressmanĄXalong with Speaker AlbertĄXand listened for the first time to the President address the State of the Union.\n",
      "  I shall never forget that moment. The Senate, the diplomatic corps, the Supreme Court, the Cabinet entered the Chamber, and then the President of the United States. As all of you are aware, I had some differences with President Truman. He had some with me. But I remember that on that dayĄXthe day he addressed that joint session of the newly elected Republican 80th Congress, he spoke not as a partisan, but as President of all the peopleĄXcalling upon the Congress to put aside partisan considerations in the national interest.\n",
      "  The Greek-Turkish aid program, the Marshall Plan, the great foreign policy initiatives which have been responsible for avoiding a world war for over 25 years were approved by the 80th Congress, by a bipartisan majority of which I was proud to be a part.\n",
      "Ą@Nineteen hundred seventy-two is now before us. It holds precious time in which to accomplish good for the Nation. We must not waste it. I know the political pressures in this session of the Congress will be great. There are more candidates for the Presidency in this Chamber today than there probably have been at any one time in the whole history of the Republic. And there is an honest difference of opinion, not only between the parties, but within each party, on some foreign policy issues and on some domestic policy issues.\n",
      "  However, there are great national problems that are so vital that they transcend partisanship. So let us have our debates. Let us have our honest differences. But let us join in keeping the national interest first. Let us join in making sure that legislation the Nation needs does not become hostage to the political interests of any party or any person.\n",
      "  There is ample precedent, in this election year, for me to present you with a huge list of new proposals, knowing full well that there would not be any possibility of your passing them if you worked night and day. \n",
      "  I shall not do that.\n",
      "  I have presented to the leaders of the Congress today a message of 15,000 words discussing in some detail where the Nation stands and setting forth specific legislative items on which I have asked the Congress to act. Much of this is legislation which I proposed in 1969, in 1970, and also in the first session of this 92d congress and on which I feel it is essential that action be completed this year.\n",
      "  I am not presenting proposals which have attractive labels but no hope of passage. I am presenting only vital programs which are within the capacity of this Congress to enact, within the capacity of the budget to finance, and which I believe should be above partisanshipĄXprograms which deal with urgent priorities for the Nation, which should and must be the subject of bipartisan action by this Congress in the interests of the country in 1972.\n",
      "  When I took the oath of office on the steps of this building just 3 years ago today, the Nation was ending one of the most tortured decades in its history.\n",
      "  The 1960ĄŚs were a time of great progress in many areas. But as we all know, they were also times of great agonyĄXthe agonies of war, of inflation, of rapidly rising crime, of deteriorating cities, of hopes raised and disappointed, and of anger and frustration that led finally to violence and to the worst civil disorder in a century.\n",
      "  I recall these troubles not to point any fingers of blame. The Nation was so torn in those final years of the sixties that many in both parties questioned whether America could be governed at all.\n",
      "  The Nation has made significant progress in these first years of the seventies:\n",
      "  Our colleges and universities have again become places of learning instead of battlegrounds.\n",
      "  A beginning has been made in preserving and protecting our environment.\n",
      "  The rate of increase in crime has been slowedĄXand here in the District of Columbia, the one city where the Federal Government has direct jurisdiction, serious crime in 1971 was actually reduced by 13 percent from that year before.\n",
      "  Most important, because of the beginnings that have been made, we can say today that this year 1972 can be the year in which America may make the greatest progress in 25 years toward achieving our goal of being at peace with all the nations of the world.\n",
      "  As our involvement in the war in Vietnam comes to an end, we must now go on to build a generation of peace.\n",
      "  To achieve that goal, we must first face realistically the need to maintain our defense. \n",
      "  In the past 3 years, we have reduced the burden of arms. For the first time in 20 years, spending on defense has been brought below spending on human resources.\n",
      "  As we look to the future, we find encouraging progress in our negotiations with the Soviet Union on limitation of strategic arms. And looking further into the future, we hope there can eventually be agreement on the mutual reduction of arms. But until there is such a mutual agreement, we must maintain the strength necessary to deter war. \n",
      "And that is why, because of rising research and development costs, because of increases in military and civilian pay, because of the need to proceed with new weapons systems, my budget for the coming fiscal year will provide for an increase in defense spending.\n",
      "  Strong military defenses are not the enemy of peace; they are the guardians of peace.\n",
      "  There could be no more misguided set of priorities than one which would tempt others by weakening America, and thereby endanger the peace of the world.\n",
      "  In our foreign policy, we have entered a new era. The world has changed greatly in the 11 years since President John Kennedy said in his Inaugural Address, Ą§ĄKwe shall pay any price, bear any burden, meet any hardship, support any friend, oppose any foe to assure the survival and the success of liberty.Ą¨\n",
      "  Our policy has been carefully and deliberately adjusted to meet the new realities of the new world we live in. We make today only those commitments we are able and prepared to meet.\n",
      "  Our commitment to freedom remains strong and unshakable. But others must bear their share of the burden of defending freedom around the world.\n",
      "  And so this, then, is our policy:\n",
      "--We will maintain a nuclear deterrent adequate to meet any threat to the security of the United States or of our allies.\n",
      "--We will help other nations develop the capability of defending themselves.\n",
      "--We will faithfully honor all of our treaty commitments.\n",
      "--We will act to defend our interests, whenever and wherever they are threatened anyplace in the world.\n",
      "--But where our interests or our treaty commitments are not involved, our role will be limited.\n",
      "--We will not intervene militarily.\n",
      "--But we will use our influence to prevent war.\n",
      "--If war comes, we will use our influence to stop it.\n",
      "--Once it is over, will do your share in helping to bind up the wounds of those who have participated in it.\n",
      "\n",
      "Ą@As you know, I will soon be visiting the PeopleĄŚs Republic of China and the Soviet Union. I go there with no illusions. We have great differences with both powers. We shall continue to have great differences. But peace depends on the ability of great powers to live together on the same planet despite their differences.\n",
      "  We would not be true to our obligation to generations yet unborn if we failed to seize this moment to do everything in our power to insure that we will be able to talk about those differences, rather than to fight about them, in the future.\n",
      "  As we look back over this century, let us, in the highest spirit of bipartisanship, recognize that we can be proud of our NationĄŚs record in foreign affairs.\n",
      "  America has given more generously of itself toward maintaining freedom, preserving peace, alleviating human suffering around the globe, than any nation has ever done in the history of man.\n",
      "  We have fought four wars in this century, but our power has never been used to break the peace, only to keep it; never been used to destroy freedom, only to defend it; never been used to destroy freedom, only to defend it. We now have within our reach the goal of insuring that the next generation can be the first generation in this century to be spared the scourges of war.\n",
      "  Turning to our problems at home, we are making progress toward our goal of a new prosperity without war.\n",
      "  Industrial production, consumer spending, retail sales, personal income all have been rising. Total employment, real income are the highest in history. New homebuilding starts this past year reached the highest level ever. Business and consumer confidence have both been rising. Interest rates are down. The rate of inflation is down. We can look with confidence to 1972 as the year when the back of inflation will be broken.\n",
      "  Now, this a good record, but it is not good enoughĄXnot when we still have an unemployment rate of 6 percent.\n",
      "  It is not enough to point out that this was the rate of the early peacetime years of the sixties, or that if the more than 2 million men released from the Armed Forces and defense-related industries were still in their wartime jobs, unemployment would be far lower.\n",
      "  Our goal in this country is full employment in peacetime. We intend to meet that goal, and we can.\n",
      "  The Congress has helped to meet that goal by passing our job-creating tax program last month.\n",
      "  The historic monetary agreements, agreements that we have reached with the major European nations, Canada, and Japan, will help meet it by providing new markets for American products, new jobs for American workers.\n",
      "  Our budget will help meet it by being expansionary without being inflationaryĄXa job-producing budget that will help take up the gap as the economy expands to full employment.\n",
      "  Our program to raise farm income will help meet it by helping to revitalize rural America, by giving to AmericaĄŚs farmers their fair share of AmericaĄŚs increasing productivity.\n",
      "  We also will help meet our goal of full employment in peacetime with a set of major initiatives to stimulate more imaginative use of AmericaĄŚs great capacity for technological advance, and to direct it toward improving the quality of life for every American.\n",
      "  In reaching the moon, we demonstrated what miracles American technology is capable of achieving. Now the time has come to move more deliberately toward making full use of that technology here on earth, of harnessing the wonders of science to the service of man.\n",
      "  I shall soon send to the Congress a special message proposing a new program of Federal partnership in technological research and developmentsĄXwith Federal incentives to increase private research, federally supported research on projects designed to improve our everyday lives in ways that will range from improving mass transit to developing new systems of emergency health care that could save thousands of lives annually.\n",
      "Ą@Historically, our superior technology and high productivity have made it possible for American workers to be the highest paid in the world by far, and yet for our goods still to compete in world markets.\n",
      "  Now we face a new situation. As other nations move rapidly forward in technology, the answer to the new competition is not to build a wall around America, but rather to remain competitive by improving our own technology still further and by increasing productivity in American industry.\n",
      "  Our new monetary and trade agreements will make it possible for American goods to compete fairly in the worldĄŚs marketsĄXbut they still must compete. The new technology program will put to use the skills of many highly trained Americans, skills that might otherwise be wasted. It will also meet the growing technological challenge from abroad, and it will thus help to create new industries, as well as creating more jobs for AmericaĄŚs workers in producing for the worldĄŚs markets.\n",
      "  This second session of the 92d congress already has before it more than 90 major Administration proposals which still await action.\n",
      "  I have discussed these in the extensive written message that I have presented to the Congress today.\n",
      "  They include, among others, our programs to improve life for the aging; to combat crime and drug abuse; to improve health services and to ensure that no one will be denied needed health care because of inability to pay; to protect workersĄŚ pension rights; to promote equal opportunity for members of minorities, and others who have been left behind; to expand consumer protection; to improve the environment; to revitalize rural America; to help the cities; to launch new initiatives in education; to improve transportation, and to put and end to costly labor tie-ups in transportation.\n",
      "  The west coast dock strike is a case in point. This Nation cannot and will not tolerate that kind of irresponsible labor tie-up in the future.\n",
      "  The messages also include basic reforms which are essential if our structure of government is to be adequate in the decades ahead.\n",
      "  They include reform of our wasteful and outmoded welfare systemĄXsubstitution of a new system that provides work requirements and work incentives for those who can help themselves, income support for those who cannot help themselves, and fairness to the working poor.\n",
      "  They include a $17 billion program of Federal revenue sharing with the States and localities as an investment in their renewal, an investment also of faith in the American people.\n",
      "  They also include a sweeping reorganization of the executive branch of the Federal Government so that it will be more efficient, more responsive, and able to meet the challenges of the decades ahead.\n",
      "  One year ago, standing in this place, I laid before the opening session of this Congress six great goals. One of these was welfare reform. That proposal has been before the Congress now for nearly 2 1/2 years.\n",
      "  My proposals on revenue sharing, government reorganization, health care, and the environment have now been before the Congress for nearly a year. Many of the other major proposals that I have referred to have been here that long or longer.\n",
      "  Now, 1971, we can say, was a year of consideration of these measures. Now let us join in making 1972 a year of action on them, action by the Congress, for the Nation and for the people of America.\n",
      "  Now, in addition, there is one pressing need which I have not previously covered, but which must be placed on the national agenda.\n",
      "  We long have looked in this Nation to the local property tax as the main source of financing for public primary and secondary education.\n",
      "  As a result, soaring school costs, soaring property tax rates now threaten both our communities and our schools. They threaten communities because property taxes, which more than doubled in the 10 years from 1960 to 70, have become one of the most oppressive and discriminatory of all taxes, hitting most cruelly at the elderly and the retired; and they threaten schools, as hard-pressed voters understandably reject new bond issues at the polls.\n",
      "  The problem has been given even greater urgency by four recent court decisions, which have held that the conventional method of financing schools through local property taxes is discriminatory and unconstitutional. \n",
      "  Nearly 2 years ago, I named a special Presidential commission to study the problems of school finance, and I also directed the Federal departments to look into the same problems. We are developing comprehensive proposals to meet these problems.\n",
      "  This issue involves two complex and interrelated sets of problems: support of the schools and the basic relationships of Federal, State, and local governments in any tax reforms.\n",
      "  Under the leadership of the Secretary of the Treasury, we are carefully reviewing all of the tax aspects, and I have this week enlisted the Advisory Commission on Intergovernmental Relations in addressing the intergovernmental relations aspects.\n",
      "  I have asked this bipartisan Commission to review our proposals for Federal action to cope with the gathering crisis of school finance and property taxes. Later in the year, when both Commissions have completed their studies, I shall make my final recommendations for relieving the burden of property taxes and providing both fair and adequate financing for our childrenĄŚs education.\n",
      "  These recommendations will be revolutionary. But all these recommendations, however, will be rooted in one fundamental principle with which there can be no compromise: Local school boards must have control over local schools.\n",
      "  As we look ahead over the coming decades, vast new growth and change are not only certainties, they will be the dominant reality of this world, and particularly of our life in America.\n",
      "  Surveying the certainty of rapid change, we can be like a fallen rider caught in the stirrupsĄXor we can sit high in the saddle, the masters of change, directing it on a course we choose.\n",
      "  The secret of mastering change in todayĄŚs world is to reach back to old and proven principles, and to adapt them with imagination and intelligence to the new realities of a new age.\n",
      "  That is what we have done in the proposals that I have laid before the Congress. They are rooted in basic principles that are as enduring as human nature, as robust as the American experience; and they are responsive to new conditions. Thus they represent a spirit of change that is truly renewal.\n",
      "  As we look back at those old principles, we find them as timely as they are timeless. \n",
      "  We believe in independence, and self-reliance, and the creative value of the competitive spirit.\n",
      "  We believe in full and equal opportunity for all Americans and in the protection of individual rights and liberties.\n",
      "  We believe in the family as the keystone of the community, and in the community as the keystone of the Nation.\n",
      "  We believe in compassion toward those in need.\n",
      "  We believe in a system of law, justice, and order as the basis of a genuinely free society.\n",
      "  We believe that a person should get what he works forĄXand that those who can, should work forĄXand that those who can, should work for what they get.\n",
      "  We believe in the capacity of people to make their own decisions in their own lives, in their own communitiesĄXand we believe in their right to make those decisions.\n",
      "  In applying these principles, we have done so with the full understanding that what we seek in the seventies, what our quest is, is not merely for more, but for betterĄXfor a better quality of life for all Americans.\n",
      "  Thus, for example, we are giving a new measure of attention to cleaning up our air and water, making our surroundings more attractive. We are providing broader support for the arts, helping stimulate a deeper appreciation of what they can contribute to the NationĄŚs activities and to our individual lives.\n",
      "  But nothing really matters more to the quality of our lives than the way we treat one another, than our capacity to live respectfully together as a unified society, with a full, generous regard for the rights of others and also for the feelings of others.\n",
      "  As we recover from the turmoil and violence of recent years, as we learn once again to speak with one another instead of shouting at one another, we are regaining that capacity.\n",
      "  As is customary here, on this occasion, I have been talking about programs. Programs are important. But even more important than programs is what we are as a NationĄXwhat we mean as a Nation, to ourselves and to the world.\n",
      "  In New York Harbor stands one of the most famous statues in the worldĄXthe Statue of Liberty, the gift in 1886 of the people of France to the people of the United States. This statue is more than a landmark; it is a symbolĄXa symbol of what America has meant to the world.\n",
      "  It reminds us that what America has meant is not its wealth, and not its power, but its spirit and purposeĄXa land that enshrines liberty and opportunity, and that has held out a hand of welcome to millions in search of a better and a fuller and, above all, a freer life.\n",
      "  The worldĄŚs hopes poured into America, along with its people. And those hopes, those dreams, that have been brought here from every corner of the world, have become a part of the hope that we now hold out to the world.\n",
      "  Four years from now, America will celebrate the 200th anniversary of its founding as a Nation. There are those who say that the old Spirit of ĄŚ76 is deadĄXthat we no longer have the strength of character, the idealism, the faith in our founding purposes that that spirit represents.\n",
      "  Those who say this do not know America.\n",
      "  We have been undergoing self-doubts and self-criticism. But these are only the other side of our growing sensitivity to the persistence of want in the midst of plenty, of our impatience with the slowness with which age-old ills are being overcome.\n",
      "  If we were indifferent to the shortcomings of our society, or complacent about our institutions, or blind to the lingering inequitiesĄXthen we would have lost our way.\n",
      "  But the fact that we have those concerns is evidence that our ideals, deep down, are still strong. Indeed, they remind us that what is really best about America is its compassion. They remind us that in the final analysis, America is great not because it is rich, but because this is a good country.\n",
      "  Let us reject the narrow visions of those who would tell us that we are evil because we are not yet perfect, that we are corrupt because we are not yet pure, that all the sweat and trial and sacrifice that have gone into the building of America were for naught because the building is not yet done.\n",
      "  Let us see that the path we are traveling is wide, with room in it for all of us, and that its direction is toward a better Nation and a more peaceful world.\n",
      "  Never has it mattered more that we go forward together.\n",
      "  Look at this Chamber. The leadership of America is here todayĄXthe Supreme Court, the Cabinet, the Senate, the House of Representatives.\n",
      "  Together, we hold the future of the Nation, and the conscience of the Nation in our hands.\n",
      "  Because this year is an election year, it will be a time of great pressure. \n",
      "  If we yield to that pressure and fail to deal seriously with the historic challenges that we face, we will have failed that trust of millions of Americans and shaken the confidence they have a right to place in us, in their Government.\n",
      "  Never has a Congress had a greater opportunity to leave a legacy of a profound and constructive reform for the Nation than this Congress.\n",
      "  If we succeed in these tasks, there will be credit enough for allĄXnot only for doing what is right, but doing it in the right way, by rising above partisan interest to serve the national interest.\n",
      "  And if we fail, more than any one of us, America will be the loser.\n",
      "  That is why my call upon the Congress today is for a high statesmanship, so that in the years to come Americans will look back and say because it withstood the intense pressures of a political year, and achieved such great good for the American people and for the future of this Nation, this was truly a great Congress.\n",
      "NOTE: The President spoke at 12:34 p.m. in the House Chamber at the Capitol, after being introduced by Carl Albert, Speaker of the House of Representatives. The address was broadcast live on radio and television.\n",
      "  The President spoke from a prepared text. An advance text of his address was released on the same day.\n",
      "\n"
     ]
    }
   ],
   "source": [
    "print(docs[28])"
   ]
  },
  {
   "cell_type": "code",
   "execution_count": 255,
   "id": "47de1cb5",
   "metadata": {},
   "outputs": [
    {
     "name": "stdout",
     "output_type": "stream",
     "text": [
      "0 21 False True\n",
      "1 17 True False\n",
      "2 4 True False\n",
      "3 18 False True\n",
      "4 61 True False\n",
      "5 35 False True\n",
      "6 29 True False\n",
      "7 36 False True\n",
      "8 20 False True\n",
      "9 60 True False\n",
      "10 5 True True\n",
      "11 59 True False\n",
      "12 38 False True\n",
      "13 63 True True\n",
      "14 23 True False\n",
      "15 48 True False\n",
      "16 28 True False\n",
      "17 6 True True\n",
      "18 47 True False\n",
      "19 32 True False\n",
      "20 3 True False\n",
      "21 51 True False\n",
      "22 52 True False\n",
      "23 64 True True\n",
      "24 62 True True\n",
      "25 1 True False\n",
      "26 30\n",
      "27 26\n",
      "28 43\n",
      "29 57\n",
      "30 24\n",
      "31 40\n",
      "32 16\n",
      "33 8\n",
      "34 15\n",
      "35 13\n",
      "36 56\n",
      "37 12\n",
      "38 10\n",
      "39 54\n",
      "40 22 False True\n",
      "41 53\n",
      "42 58\n",
      "43 11\n",
      "44 14\n",
      "45 2\n",
      "46 9\n",
      "47 50\n",
      "48 42\n",
      "49 31\n",
      "50 55\n",
      "51 45\n",
      "52 27\n",
      "53 46\n",
      "54 19\n",
      "55 41\n",
      "56 25\n",
      "57 0\n",
      "58 49\n",
      "59 44\n",
      "60 33\n",
      "61 37\n",
      "62 34\n",
      "63 7\n",
      "64 39\n"
     ]
    }
   ],
   "source": [
    "\n",
    "hit22=False\n",
    "for (i,d_idx) in enumerate(rankings[0][::-1]):\n",
    "    if (wd0 not in docs[d_idx]) and (wd1 not in docs[d_idx]):\n",
    "        hit22=True\n",
    "        print(i,d_idx)\n",
    "    else:\n",
    "        print(i, d_idx,wd0 in docs[d_idx],wd1 in docs[d_idx])\n",
    "        #break\n",
    "\n",
    "#if hit22:\n",
    "#    print(docs[d_idx])"
   ]
  },
  {
   "cell_type": "code",
   "execution_count": 130,
   "id": "1ba8309d",
   "metadata": {},
   "outputs": [
    {
     "data": {
      "text/plain": [
       "True"
      ]
     },
     "execution_count": 130,
     "metadata": {},
     "output_type": "execute_result"
    }
   ],
   "source": [
    "\"leaders\" in docs[0]"
   ]
  },
  {
   "cell_type": "code",
   "execution_count": 150,
   "id": "dc16458c",
   "metadata": {},
   "outputs": [
    {
     "data": {
      "text/plain": [
       "False"
      ]
     },
     "execution_count": 150,
     "metadata": {},
     "output_type": "execute_result"
    }
   ],
   "source": [
    "\"bozo\" in docs[19]"
   ]
  },
  {
   "cell_type": "code",
   "execution_count": 151,
   "id": "eb86cb3f",
   "metadata": {},
   "outputs": [
    {
     "data": {
      "text/plain": [
       "{'-',\n",
       " '16,',\n",
       " '1945',\n",
       " 'A',\n",
       " 'All',\n",
       " 'America',\n",
       " 'American',\n",
       " 'Americans',\n",
       " 'As',\n",
       " 'At',\n",
       " 'Because',\n",
       " 'But',\n",
       " 'CONGRESS',\n",
       " 'Conference',\n",
       " 'Congress',\n",
       " 'Congress,',\n",
       " 'During',\n",
       " 'Even',\n",
       " 'Every',\n",
       " 'For',\n",
       " 'Francisco',\n",
       " 'General',\n",
       " 'Germany',\n",
       " 'HARRY',\n",
       " 'He',\n",
       " 'However,',\n",
       " 'I',\n",
       " 'If',\n",
       " 'In',\n",
       " 'It',\n",
       " 'Japan',\n",
       " 'King,',\n",
       " 'May',\n",
       " 'Nations',\n",
       " 'No',\n",
       " 'OF',\n",
       " 'On',\n",
       " 'Only',\n",
       " 'Organization.',\n",
       " 'Our',\n",
       " 'PRESIDENT',\n",
       " 'Roosevelt',\n",
       " 'S.',\n",
       " 'San',\n",
       " 'So',\n",
       " 'States.',\n",
       " 'Such',\n",
       " 'THE',\n",
       " \"TRUMAN'S\",\n",
       " 'That',\n",
       " 'The',\n",
       " 'They',\n",
       " 'This',\n",
       " 'To',\n",
       " 'United',\n",
       " 'We',\n",
       " 'When',\n",
       " 'While',\n",
       " 'With',\n",
       " 'Within',\n",
       " 'a',\n",
       " 'able',\n",
       " 'achieve',\n",
       " 'achieved',\n",
       " 'after',\n",
       " 'again',\n",
       " 'against',\n",
       " 'ahead',\n",
       " 'ahead,',\n",
       " 'all',\n",
       " 'all,',\n",
       " 'along',\n",
       " 'already',\n",
       " 'also',\n",
       " 'always',\n",
       " 'am',\n",
       " 'an',\n",
       " 'and',\n",
       " 'announced',\n",
       " 'another',\n",
       " 'any',\n",
       " 'are',\n",
       " 'armed',\n",
       " 'as',\n",
       " 'assigned',\n",
       " 'assist',\n",
       " 'assumed',\n",
       " 'assure',\n",
       " 'at',\n",
       " 'back',\n",
       " 'based',\n",
       " 'be',\n",
       " 'be.',\n",
       " 'become',\n",
       " 'becomes',\n",
       " 'been',\n",
       " 'before',\n",
       " 'being',\n",
       " 'believe',\n",
       " 'benefit',\n",
       " 'better',\n",
       " 'between',\n",
       " 'beyond',\n",
       " 'both',\n",
       " 'brave',\n",
       " 'bring',\n",
       " 'bringing',\n",
       " 'build',\n",
       " 'but',\n",
       " 'by',\n",
       " 'call',\n",
       " 'came',\n",
       " 'can',\n",
       " 'cannot',\n",
       " 'carry',\n",
       " 'carrying',\n",
       " 'cease',\n",
       " 'come',\n",
       " 'common',\n",
       " 'complete',\n",
       " 'complicated',\n",
       " 'conscious',\n",
       " 'continue',\n",
       " 'continued',\n",
       " 'cooperation',\n",
       " 'costs',\n",
       " 'could',\n",
       " 'country',\n",
       " 'courage',\n",
       " 'creating',\n",
       " 'creed',\n",
       " 'creed,',\n",
       " 'dangerous',\n",
       " 'debt',\n",
       " 'decisive',\n",
       " 'deeply',\n",
       " 'defeat',\n",
       " 'defense',\n",
       " 'defense.',\n",
       " 'demand',\n",
       " 'democratic',\n",
       " 'depend',\n",
       " 'destroy',\n",
       " 'determination',\n",
       " 'determined',\n",
       " 'devoted',\n",
       " 'difficult',\n",
       " 'difficult.',\n",
       " 'direction',\n",
       " 'do',\n",
       " 'does',\n",
       " 'dominate',\n",
       " 'due',\n",
       " 'durable',\n",
       " 'each',\n",
       " 'earned',\n",
       " 'ease',\n",
       " 'economic',\n",
       " 'efforts',\n",
       " 'employment',\n",
       " 'end',\n",
       " 'ends',\n",
       " 'enduring',\n",
       " 'enemies.',\n",
       " 'enough',\n",
       " 'entire',\n",
       " 'essential',\n",
       " 'even',\n",
       " 'events',\n",
       " 'ever',\n",
       " 'every',\n",
       " 'except',\n",
       " 'experience',\n",
       " 'face',\n",
       " 'faced',\n",
       " 'fact',\n",
       " 'faith',\n",
       " 'far',\n",
       " 'fear',\n",
       " 'fight',\n",
       " 'fighting',\n",
       " 'fill',\n",
       " 'find',\n",
       " 'fit',\n",
       " 'for',\n",
       " 'force',\n",
       " 'forces',\n",
       " 'forward',\n",
       " 'found',\n",
       " 'foundation',\n",
       " 'freedom',\n",
       " 'friendly',\n",
       " 'from',\n",
       " 'full',\n",
       " 'fundamental',\n",
       " 'future',\n",
       " 'future.',\n",
       " 'give',\n",
       " 'go',\n",
       " 'going',\n",
       " 'good',\n",
       " 'good.',\n",
       " 'grave',\n",
       " 'great',\n",
       " 'greatest',\n",
       " 'had',\n",
       " 'hard',\n",
       " 'has',\n",
       " 'have',\n",
       " 'he',\n",
       " 'hearts',\n",
       " 'heavy',\n",
       " 'help',\n",
       " 'his',\n",
       " 'home,',\n",
       " 'hope',\n",
       " 'hour',\n",
       " 'hour,',\n",
       " 'how',\n",
       " 'human',\n",
       " 'humility',\n",
       " 'ideals',\n",
       " 'ideals.',\n",
       " 'if',\n",
       " 'improve',\n",
       " 'in',\n",
       " 'increased',\n",
       " 'individual',\n",
       " 'international',\n",
       " 'into',\n",
       " 'is',\n",
       " 'it',\n",
       " 'it.',\n",
       " 'its',\n",
       " 'just',\n",
       " 'justice',\n",
       " 'justice,',\n",
       " 'keep',\n",
       " 'kept',\n",
       " 'kind',\n",
       " 'know',\n",
       " 'laid',\n",
       " 'large',\n",
       " 'lasting',\n",
       " 'law',\n",
       " 'law.',\n",
       " 'laws',\n",
       " 'lead',\n",
       " 'leadership',\n",
       " 'learn',\n",
       " 'learned',\n",
       " 'left',\n",
       " 'less',\n",
       " 'like',\n",
       " 'live',\n",
       " 'living',\n",
       " 'long',\n",
       " 'looking',\n",
       " 'lost',\n",
       " 'made',\n",
       " 'maintain',\n",
       " 'make',\n",
       " 'making',\n",
       " 'man',\n",
       " 'may',\n",
       " 'me',\n",
       " 'measure',\n",
       " 'men',\n",
       " 'merely',\n",
       " 'method',\n",
       " 'might',\n",
       " 'military',\n",
       " 'millions',\n",
       " 'more',\n",
       " 'most',\n",
       " 'moved',\n",
       " 'moving',\n",
       " 'much',\n",
       " 'must',\n",
       " 'mutual',\n",
       " 'my',\n",
       " 'name',\n",
       " 'nation',\n",
       " 'national',\n",
       " 'nations',\n",
       " 'nations.',\n",
       " 'naval',\n",
       " 'necessary',\n",
       " 'necessary,',\n",
       " 'necessity',\n",
       " 'need',\n",
       " 'never',\n",
       " 'new',\n",
       " 'no',\n",
       " 'not',\n",
       " 'now',\n",
       " 'obligations',\n",
       " 'of',\n",
       " 'offered',\n",
       " 'on',\n",
       " 'one',\n",
       " 'only',\n",
       " 'or',\n",
       " 'order',\n",
       " 'organization',\n",
       " 'other',\n",
       " 'our',\n",
       " 'out',\n",
       " 'outlook',\n",
       " 'overwhelming',\n",
       " 'own',\n",
       " 'part',\n",
       " 'passage',\n",
       " 'path',\n",
       " 'pay',\n",
       " 'paying',\n",
       " 'peace',\n",
       " 'peace,',\n",
       " 'peace-loving',\n",
       " 'peace.',\n",
       " 'peaceful',\n",
       " 'people',\n",
       " 'people,',\n",
       " 'people.',\n",
       " 'permit',\n",
       " 'plan',\n",
       " 'political',\n",
       " 'possible',\n",
       " 'power,',\n",
       " 'powerful',\n",
       " 'powers',\n",
       " 'preserve',\n",
       " 'prevented',\n",
       " 'price',\n",
       " 'problems',\n",
       " 'product',\n",
       " 'progress',\n",
       " 'progress.',\n",
       " 'prosperity.',\n",
       " 'provided',\n",
       " 'public',\n",
       " 'race,',\n",
       " 'real',\n",
       " 'relations',\n",
       " 'remain',\n",
       " 'remains',\n",
       " 'require',\n",
       " 'requires',\n",
       " 'responsibilities.',\n",
       " 'responsibility',\n",
       " 'rest',\n",
       " 'retained',\n",
       " 'rights',\n",
       " 'sacrifice',\n",
       " 'safety',\n",
       " 'same',\n",
       " 'search',\n",
       " 'security',\n",
       " 'see',\n",
       " 'seek',\n",
       " 'seen',\n",
       " 'serve',\n",
       " 'service',\n",
       " 'settlement',\n",
       " 'shall',\n",
       " 'ship',\n",
       " 'showed',\n",
       " 'shrinking',\n",
       " 'slowly',\n",
       " 'small',\n",
       " 'small,',\n",
       " 'so',\n",
       " 'so.',\n",
       " 'social',\n",
       " 'some',\n",
       " 'sound',\n",
       " 'special',\n",
       " 'speedy',\n",
       " 'spirit',\n",
       " 'stand',\n",
       " 'standards',\n",
       " 'states',\n",
       " 'still',\n",
       " 'strength',\n",
       " 'strong',\n",
       " 'such',\n",
       " 'sufficient',\n",
       " 'support',\n",
       " 'take',\n",
       " 'task',\n",
       " 'tasks',\n",
       " 'temporary',\n",
       " 'terms',\n",
       " 'than',\n",
       " 'that',\n",
       " 'that,',\n",
       " 'the',\n",
       " 'their',\n",
       " 'them',\n",
       " 'themselves.',\n",
       " 'there',\n",
       " 'therefore',\n",
       " 'these',\n",
       " 'they',\n",
       " 'this',\n",
       " 'this,',\n",
       " 'those',\n",
       " 'though',\n",
       " 'threat',\n",
       " 'throughout',\n",
       " 'time',\n",
       " 'time,',\n",
       " 'to',\n",
       " 'today',\n",
       " 'toward',\n",
       " 'trade',\n",
       " 'tremendous',\n",
       " 'tribute',\n",
       " 'turn',\n",
       " 'ultimately',\n",
       " 'under',\n",
       " 'understanding',\n",
       " 'unless',\n",
       " 'unnecessary',\n",
       " 'until',\n",
       " 'unwilling',\n",
       " 'up',\n",
       " 'upon',\n",
       " 'us',\n",
       " 'us.',\n",
       " 'use',\n",
       " 'very',\n",
       " 'victory',\n",
       " 'victory.',\n",
       " 'want',\n",
       " 'war',\n",
       " 'war,',\n",
       " 'war.',\n",
       " 'warned',\n",
       " 'was',\n",
       " 'way',\n",
       " 'we',\n",
       " 'weapon',\n",
       " 'well',\n",
       " 'were',\n",
       " 'what',\n",
       " 'when',\n",
       " 'which',\n",
       " 'who',\n",
       " 'will',\n",
       " 'wish',\n",
       " 'with',\n",
       " 'without',\n",
       " 'women',\n",
       " 'work',\n",
       " 'world',\n",
       " 'world,',\n",
       " 'world.',\n",
       " 'would'}"
      ]
     },
     "execution_count": 151,
     "metadata": {},
     "output_type": "execute_result"
    }
   ],
   "source": [
    "set(docs[0].split()).intersection(set(docs[1].split()).intersection())"
   ]
  },
  {
   "cell_type": "code",
   "execution_count": null,
   "id": "190d79ca",
   "metadata": {},
   "outputs": [],
   "source": []
  }
 ],
 "metadata": {
  "kernelspec": {
   "display_name": "Python 3 (ipykernel)",
   "language": "python",
   "name": "python3"
  },
  "language_info": {
   "codemirror_mode": {
    "name": "ipython",
    "version": 3
   },
   "file_extension": ".py",
   "mimetype": "text/x-python",
   "name": "python",
   "nbconvert_exporter": "python",
   "pygments_lexer": "ipython3",
   "version": "3.12.5"
  }
 },
 "nbformat": 4,
 "nbformat_minor": 5
}
