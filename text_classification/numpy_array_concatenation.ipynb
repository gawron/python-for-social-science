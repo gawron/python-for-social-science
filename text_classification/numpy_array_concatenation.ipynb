{
 "cells": [
  {
   "cell_type": "markdown",
   "id": "6f2a211b",
   "metadata": {
    "collapsed": true
   },
   "source": [
    "#### Notes on hacking numpy arrays"
   ]
  },
  {
   "cell_type": "markdown",
   "id": "f8c38d58",
   "metadata": {},
   "source": [
    "Note:  For the homework assignment you will use the numpy arrays representation of the data.\n",
    "\n",
    "To experiment with using different sets of features you will need\n",
    "to be able to concatenate the  columns of the\n",
    "dataset that are appropriate to each experiment.\n",
    "\n",
    "Here are some of the relevant functions."
   ]
  },
  {
   "cell_type": "code",
   "execution_count": 3,
   "id": "6d8ebf76",
   "metadata": {},
   "outputs": [],
   "source": [
    "import numpy as np\n",
    "\n",
    "# Cook up random 1 and 2d arrays of different shapes\n",
    "a_1D_1 = np.random.rand(4,)\n",
    "a_1D_2 = np.random.rand(2,)\n",
    "b_2D_1 = np.random.rand(4,2)\n",
    "b_2D_2 = np.random.rand(4,3)\n",
    "b_2D_3 = np.random.rand(2,2)"
   ]
  },
  {
   "cell_type": "markdown",
   "id": "a878fc76",
   "metadata": {},
   "source": [
    "For example:"
   ]
  },
  {
   "cell_type": "code",
   "execution_count": 4,
   "id": "3580469b",
   "metadata": {},
   "outputs": [
    {
     "data": {
      "text/plain": [
       "array([[0.39292363, 0.2782125 ],\n",
       "       [0.61183459, 0.15992419]])"
      ]
     },
     "execution_count": 4,
     "metadata": {},
     "output_type": "execute_result"
    }
   ],
   "source": [
    "b_2D_3"
   ]
  },
  {
   "cell_type": "markdown",
   "id": "e565d1b1",
   "metadata": {},
   "source": [
    "#### Concatenate columnwise (hstack and concatenate)"
   ]
  },
  {
   "cell_type": "markdown",
   "id": "a30f0d06",
   "metadata": {},
   "source": [
    "We concatenate two 2D arrays columnwise using `np.hstack`.  Notice that `np.hstack`\n",
    "takes 1 argument, which should be the sequence of arrays to be concatenated.\n",
    "\n",
    "All the `numpy` concatenation functions work this way.\n",
    "Input a sequnce containing an array with 2 columns and an array with 3 columns; get back an array with 5 columns\n",
    "which concatenates the columns of the two input arrays."
   ]
  },
  {
   "cell_type": "code",
   "execution_count": 5,
   "id": "52a05244",
   "metadata": {},
   "outputs": [
    {
     "name": "stdout",
     "output_type": "stream",
     "text": [
      "[[0.66679165 0.51653912]\n",
      " [0.53947541 0.7048727 ]\n",
      " [0.22253847 0.88057288]\n",
      " [0.92553945 0.78514359]]\n",
      "[[0.95012211 0.90591711 0.73263701]\n",
      " [0.76655295 0.27463151 0.0868449 ]\n",
      " [0.65977099 0.43141711 0.37612845]\n",
      " [0.10337356 0.24392897 0.04832889]]\n"
     ]
    },
    {
     "data": {
      "text/plain": [
       "array([[0.66679165, 0.51653912, 0.95012211, 0.90591711, 0.73263701],\n",
       "       [0.53947541, 0.7048727 , 0.76655295, 0.27463151, 0.0868449 ],\n",
       "       [0.22253847, 0.88057288, 0.65977099, 0.43141711, 0.37612845],\n",
       "       [0.92553945, 0.78514359, 0.10337356, 0.24392897, 0.04832889]])"
      ]
     },
     "execution_count": 5,
     "metadata": {},
     "output_type": "execute_result"
    }
   ],
   "source": [
    "print(b_2D_1)\n",
    "print(b_2D_2)\n",
    "np.hstack([b_2D_1, b_2D_2])"
   ]
  },
  {
   "cell_type": "markdown",
   "id": "132dc920",
   "metadata": {},
   "source": [
    "Obviously the number of rows must be the same."
   ]
  },
  {
   "cell_type": "code",
   "execution_count": 6,
   "id": "f518613e",
   "metadata": {},
   "outputs": [
    {
     "data": {
      "text/plain": [
       "((4, 2), (4, 3))"
      ]
     },
     "execution_count": 6,
     "metadata": {},
     "output_type": "execute_result"
    }
   ],
   "source": [
    "b_2D_1.shape, b_2D_2.shape"
   ]
  },
  {
   "cell_type": "markdown",
   "id": "0b85b336",
   "metadata": {},
   "source": [
    "For example:"
   ]
  },
  {
   "cell_type": "code",
   "execution_count": 7,
   "id": "bfc3de01",
   "metadata": {},
   "outputs": [
    {
     "name": "stdout",
     "output_type": "stream",
     "text": [
      "(4, 2)\n",
      "(2, 2)\n"
     ]
    }
   ],
   "source": [
    "print(b_2D_1.shape)\n",
    "print(b_2D_3.shape)\n",
    "\n",
    "#A Value error. Hstacking 4x2 with 2X2.  Number of  rows does not agree.\n",
    "#np.hstack([b_2D_1, b_2D_3])"
   ]
  },
  {
   "cell_type": "markdown",
   "id": "f562ca3e",
   "metadata": {},
   "source": [
    "The number of dimensions must also agree."
   ]
  },
  {
   "cell_type": "code",
   "execution_count": 8,
   "id": "0535f7d6",
   "metadata": {},
   "outputs": [
    {
     "name": "stdout",
     "output_type": "stream",
     "text": [
      "(4, 2)\n",
      "(4,)\n"
     ]
    }
   ],
   "source": [
    "print(b_2D_1.shape)\n",
    "print(a_1D_1.shape)\n",
    "\n",
    "#A Value error because b_2D_1 and a_1D do not have the same number of dimensions\n",
    "#(2D vs 1D)\n",
    "#np.hstack([b_2D_1, a_1D_1])"
   ]
  },
  {
   "cell_type": "markdown",
   "id": "a18844c0",
   "metadata": {},
   "source": [
    "Equivalently use `np.concatenate`"
   ]
  },
  {
   "cell_type": "markdown",
   "id": "a38b6057",
   "metadata": {},
   "source": [
    "The numpy function `np.concatenate` can do the same concatenations as `np.hstack`, but\n",
    "the `axis` parameter must be taken into account, since\n",
    "it can concatenate along different axes (columnwise or rowwise)\n",
    "\n",
    "The default value for axis is 0. So the axis=1 parameter (columnwise concatenation)  is necessary here."
   ]
  },
  {
   "cell_type": "code",
   "execution_count": 9,
   "id": "19c90c20",
   "metadata": {},
   "outputs": [
    {
     "name": "stdout",
     "output_type": "stream",
     "text": [
      "(4, 2)\n",
      "(4, 3)\n"
     ]
    },
    {
     "data": {
      "text/plain": [
       "array([[0.66679165, 0.51653912, 0.95012211, 0.90591711, 0.73263701],\n",
       "       [0.53947541, 0.7048727 , 0.76655295, 0.27463151, 0.0868449 ],\n",
       "       [0.22253847, 0.88057288, 0.65977099, 0.43141711, 0.37612845],\n",
       "       [0.92553945, 0.78514359, 0.10337356, 0.24392897, 0.04832889]])"
      ]
     },
     "execution_count": 9,
     "metadata": {},
     "output_type": "execute_result"
    }
   ],
   "source": [
    "# concat 4x2 with 4x3 to get 4x5.  Columnwise concat\n",
    "print(b_2D_1.shape)\n",
    "print(b_2D_2.shape)\n",
    "np.concatenate([b_2D_1, b_2D_2],axis=1)"
   ]
  },
  {
   "cell_type": "markdown",
   "id": "c31c8b35",
   "metadata": {},
   "source": [
    "#### Concatenate rowwise (vstack and concatenate)\n",
    "\n",
    "Concatenate 4x2 with 2x2 to get 6x2.  Rowwise concat.\n"
   ]
  },
  {
   "cell_type": "code",
   "execution_count": 10,
   "id": "5270a1c5",
   "metadata": {
    "scrolled": false
   },
   "outputs": [
    {
     "name": "stdout",
     "output_type": "stream",
     "text": [
      "[[0.66679165 0.51653912]\n",
      " [0.53947541 0.7048727 ]\n",
      " [0.22253847 0.88057288]\n",
      " [0.92553945 0.78514359]]\n",
      "[[0.39292363 0.2782125 ]\n",
      " [0.61183459 0.15992419]]\n"
     ]
    },
    {
     "data": {
      "text/plain": [
       "array([[0.66679165, 0.51653912],\n",
       "       [0.53947541, 0.7048727 ],\n",
       "       [0.22253847, 0.88057288],\n",
       "       [0.92553945, 0.78514359],\n",
       "       [0.39292363, 0.2782125 ],\n",
       "       [0.61183459, 0.15992419]])"
      ]
     },
     "execution_count": 10,
     "metadata": {},
     "output_type": "execute_result"
    }
   ],
   "source": [
    "print(b_2D_1)\n",
    "print(b_2D_3)\n",
    "np.vstack([b_2D_1, b_2D_3,])"
   ]
  },
  {
   "cell_type": "markdown",
   "id": "89b514de",
   "metadata": {},
   "source": [
    "In this case, the number of columns must agree:"
   ]
  },
  {
   "cell_type": "code",
   "execution_count": 165,
   "id": "9d1a4d23",
   "metadata": {},
   "outputs": [
    {
     "name": "stdout",
     "output_type": "stream",
     "text": [
      "(4, 2)\n",
      "(2, 2)\n"
     ]
    }
   ],
   "source": [
    "print(b_2D_1.shape)\n",
    "print(b_2D_3.shape)\n",
    "# This is a ValueError\n",
    "# np.vstack([b_2D_1, b_2D_2,])"
   ]
  },
  {
   "cell_type": "markdown",
   "id": "1bf7a994",
   "metadata": {},
   "source": [
    "Again,  the number of dimensions must also agree:"
   ]
  },
  {
   "cell_type": "code",
   "execution_count": 166,
   "id": "ebc103ad",
   "metadata": {},
   "outputs": [
    {
     "name": "stdout",
     "output_type": "stream",
     "text": [
      "(4, 2)\n",
      "(2,)\n"
     ]
    }
   ],
   "source": [
    "print(b_2D_1.shape)\n",
    "print(a_1D_2.shape)\n",
    "# This is a Value Error\n",
    "#np.vstack([b_2D_1, a_1D,])"
   ]
  },
  {
   "cell_type": "markdown",
   "id": "183b557d",
   "metadata": {},
   "source": [
    "Alternatively, use concatenate with axis = 0;\n",
    "Default value for axis is 0. So the axis=0 parameter can be omitted,\n",
    "but is often left on for clarity:"
   ]
  },
  {
   "cell_type": "code",
   "execution_count": 167,
   "id": "77cb3ed1",
   "metadata": {},
   "outputs": [
    {
     "name": "stdout",
     "output_type": "stream",
     "text": [
      "(4, 2)\n",
      "(2, 2)\n"
     ]
    },
    {
     "data": {
      "text/plain": [
       "array([[0.03400579, 0.12307457],\n",
       "       [0.8332505 , 0.5723692 ],\n",
       "       [0.9454464 , 0.59837892],\n",
       "       [0.83839972, 0.97849475],\n",
       "       [0.30522725, 0.67635996],\n",
       "       [0.99056986, 0.92396184]])"
      ]
     },
     "execution_count": 167,
     "metadata": {},
     "output_type": "execute_result"
    }
   ],
   "source": [
    "print(b_2D_1.shape)\n",
    "print(b_2D_3.shape)\n",
    "np.concatenate([b_2D_1, b_2D_3,],axis=0)"
   ]
  },
  {
   "cell_type": "markdown",
   "id": "96a7c923",
   "metadata": {},
   "source": [
    "#### Concatenating 1D arrays"
   ]
  },
  {
   "cell_type": "markdown",
   "id": "09d43ba3",
   "metadata": {},
   "source": [
    "Since alll the successful examples up till now  have been 2D\n",
    "arrays it is worth noting that that 1D arrays can be concatenated \n",
    "too, as long as all the arrays being concatenated are 1D.\n",
    "\n",
    "We cook up some 1D data."
   ]
  },
  {
   "cell_type": "code",
   "execution_count": 170,
   "id": "34e48818",
   "metadata": {},
   "outputs": [
    {
     "data": {
      "text/plain": [
       "(array([ 3,  1,  0, -2]),\n",
       " array([ 6,  2,  0, -4]),\n",
       " array([ 6.5,  1. ,  0.5, -4. ,  2. ]),\n",
       " array([ 19.5,   3. ,   1.5, -12. ,   6. ]))"
      ]
     },
     "execution_count": 170,
     "metadata": {},
     "output_type": "execute_result"
    }
   ],
   "source": [
    "n1 = np.array([3,1,0,-2,])\n",
    "n2 = np.array([13/2,1,1/2,-4,2])\n",
    "# T is a tuple of 1D arrays\n",
    "T =  (n1,2*n1,n2, 3*n2,)\n",
    "T"
   ]
  },
  {
   "cell_type": "markdown",
   "id": "5495adb5",
   "metadata": {},
   "source": [
    "The result is necessarily a 1D array, so that specifying an axis \n",
    "has no meaning:"
   ]
  },
  {
   "cell_type": "code",
   "execution_count": 171,
   "id": "4cf8ef20",
   "metadata": {},
   "outputs": [
    {
     "name": "stdout",
     "output_type": "stream",
     "text": [
      "(4,)\n",
      "(4,)\n",
      "(5,)\n",
      "(5,)\n",
      "(18,)\n"
     ]
    }
   ],
   "source": [
    "for a in T:\n",
    "    print(a.shape)\n",
    "\n",
    "print(np.concatenate(T).shape)"
   ]
  }
 ],
 "metadata": {
  "kernelspec": {
   "display_name": "Python 3 (ipykernel)",
   "language": "python",
   "name": "python3"
  },
  "language_info": {
   "codemirror_mode": {
    "name": "ipython",
    "version": 3
   },
   "file_extension": ".py",
   "mimetype": "text/x-python",
   "name": "python",
   "nbconvert_exporter": "python",
   "pygments_lexer": "ipython3",
   "version": "3.10.6"
  }
 },
 "nbformat": 4,
 "nbformat_minor": 5
}
