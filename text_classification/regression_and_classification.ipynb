{
 "cells": [
  {
   "cell_type": "markdown",
   "metadata": {},
   "source": [
    "# Classification Tutorial\n",
    "\n",
    "This notebook incorporates the material of the plot_iris_svc.ipynb notebook and therefore supercedes it."
   ]
  },
  {
   "cell_type": "markdown",
   "metadata": {},
   "source": [
    "## 1. The data"
   ]
  },
  {
   "cell_type": "markdown",
   "metadata": {},
   "source": [
    "Let's look at a dataset used in [one of the foundational papers in **linear discriminant analysis** (LDA) by Ronald Fisher](https://www.google.com/url?sa=t&rct=j&q=&esrc=s&source=web&cd=1&ved=0ahUKEwiez6rWgNbOAhVBVWMKHf6WCTAQFgghMAA&url=http%3A%2F%2Frcs.chemometrics.ru%2FTutorials%2Fclassification%2FFisher.pdf&usg=AFQjCNHHtp94F4ypoDjy-708tnsnREUZBw). The data was actually collected by Edgar Anderson in\n",
    "a study of the morphological variation of iris species (variation due to **shape**).\n",
    "\n",
    "First we load the data from the `sklearn` module, which contains many tools and datasets\n",
    "used in machine learning research."
   ]
  },
  {
   "cell_type": "code",
   "execution_count": 57,
   "metadata": {},
   "outputs": [],
   "source": [
    "from sklearn.datasets import load_iris\n",
    "from sklearn.metrics import accuracy_score, recall_score, precision_score\n",
    "import matplotlib.pyplot as plt\n",
    "from sklearn.metrics import RocCurveDisplay\n",
    "from sklearn.metrics import roc_auc_score\n",
    "\n",
    "data = load_iris()\n",
    "features = data['data']\n",
    "feature_names = data['feature_names']\n",
    "target = data['target']"
   ]
  },
  {
   "cell_type": "code",
   "execution_count": 63,
   "metadata": {},
   "outputs": [
    {
     "data": {
      "text/plain": [
       "['sepal length (cm)',\n",
       " 'sepal width (cm)',\n",
       " 'petal length (cm)',\n",
       " 'petal width (cm)']"
      ]
     },
     "execution_count": 63,
     "metadata": {},
     "output_type": "execute_result"
    }
   ],
   "source": [
    "feature_names"
   ]
  },
  {
   "cell_type": "markdown",
   "metadata": {},
   "source": [
    "Two large arrays are defined, `features` and `target`.\n",
    "\n",
    "The raw data about the irises is in `features`; `features` is a 2D array."
   ]
  },
  {
   "cell_type": "code",
   "execution_count": 2,
   "metadata": {},
   "outputs": [
    {
     "data": {
      "text/plain": [
       "(150, 4)"
      ]
     },
     "execution_count": 2,
     "metadata": {},
     "output_type": "execute_result"
    }
   ],
   "source": [
    "features.shape"
   ]
  },
  {
   "cell_type": "markdown",
   "metadata": {},
   "source": [
    "That means we have 150 data exemplars (individual irises), and we have 4 measured attributes for each.  "
   ]
  },
  {
   "cell_type": "markdown",
   "metadata": {},
   "source": [
    "Here's the first 10 rows"
   ]
  },
  {
   "cell_type": "code",
   "execution_count": 37,
   "metadata": {},
   "outputs": [
    {
     "data": {
      "text/plain": [
       "array([[5.1, 3.5, 1.4, 0.2],\n",
       "       [4.9, 3. , 1.4, 0.2],\n",
       "       [4.7, 3.2, 1.3, 0.2],\n",
       "       [4.6, 3.1, 1.5, 0.2],\n",
       "       [5. , 3.6, 1.4, 0.2],\n",
       "       [5.4, 3.9, 1.7, 0.4],\n",
       "       [4.6, 3.4, 1.4, 0.3],\n",
       "       [5. , 3.4, 1.5, 0.2],\n",
       "       [4.4, 2.9, 1.4, 0.2],\n",
       "       [4.9, 3.1, 1.5, 0.1]])"
      ]
     },
     "execution_count": 37,
     "metadata": {},
     "output_type": "execute_result"
    }
   ],
   "source": [
    "features[:10]"
   ]
  },
  {
   "cell_type": "markdown",
   "metadata": {},
   "source": [
    "To understand what the data means,  consider an example iris. Let's take the row\n",
    "90 rows up from the end of the array."
   ]
  },
  {
   "cell_type": "code",
   "execution_count": 4,
   "metadata": {},
   "outputs": [
    {
     "data": {
      "text/plain": [
       "array([5. , 2. , 3.5, 1. ])"
      ]
     },
     "execution_count": 4,
     "metadata": {},
     "output_type": "execute_result"
    }
   ],
   "source": [
    "P = features[-90]\n",
    "P"
   ]
  },
  {
   "cell_type": "markdown",
   "metadata": {},
   "source": [
    "Looking at feature names, we can decode this:"
   ]
  },
  {
   "cell_type": "code",
   "execution_count": 5,
   "metadata": {},
   "outputs": [
    {
     "data": {
      "text/plain": [
       "['sepal length (cm)',\n",
       " 'sepal width (cm)',\n",
       " 'petal length (cm)',\n",
       " 'petal width (cm)']"
      ]
     },
     "execution_count": 5,
     "metadata": {},
     "output_type": "execute_result"
    }
   ],
   "source": [
    "feature_names"
   ]
  },
  {
   "cell_type": "markdown",
   "metadata": {},
   "source": [
    "P is an iris with sepal length 5 cm, sepal width 2 cm, petal length 3.5 cm,\n",
    "and petal width 1 cm.  All of these are shape attributes."
   ]
  },
  {
   "cell_type": "markdown",
   "metadata": {},
   "source": [
    "P also has a class, stored in the `target` array, whose first ten members are:"
   ]
  },
  {
   "cell_type": "code",
   "execution_count": 38,
   "metadata": {},
   "outputs": [
    {
     "data": {
      "text/plain": [
       "array([0, 0, 0, 0, 0, 0, 0, 0, 0, 0])"
      ]
     },
     "execution_count": 38,
     "metadata": {},
     "output_type": "execute_result"
    }
   ],
   "source": [
    "target[:10]"
   ]
  },
  {
   "cell_type": "markdown",
   "metadata": {},
   "source": [
    "To find  the class of our example iris, we look at the class of the iris 90 irises up from the last iris:"
   ]
  },
  {
   "cell_type": "code",
   "execution_count": 7,
   "metadata": {},
   "outputs": [
    {
     "data": {
      "text/plain": [
       "1"
      ]
     },
     "execution_count": 7,
     "metadata": {},
     "output_type": "execute_result"
    }
   ],
   "source": [
    "target[-90]"
   ]
  },
  {
   "cell_type": "markdown",
   "metadata": {},
   "source": [
    "So P belongs to class 1.  It turns out there are three classes, all numerical.  We can see there are 3 classes and what they are by doing the following:"
   ]
  },
  {
   "cell_type": "code",
   "execution_count": 39,
   "metadata": {},
   "outputs": [
    {
     "data": {
      "text/plain": [
       "{0, 1, 2}"
      ]
     },
     "execution_count": 39,
     "metadata": {},
     "output_type": "execute_result"
    }
   ],
   "source": [
    "set(target)"
   ]
  },
  {
   "cell_type": "markdown",
   "metadata": {},
   "source": [
    "Each number represents a different species of iris, 0 = *I. setosa, 1 = I. versicolor,* and\n",
    "2 = *I. virginica*. In fact our data has 50 exemplars of each of these 3 species.  So what this data helps us study is variation in **shape attributes** among iris species."
   ]
  },
  {
   "cell_type": "markdown",
   "metadata": {},
   "source": [
    "## 2. Plotting attributes"
   ]
  },
  {
   "cell_type": "markdown",
   "metadata": {},
   "source": [
    "Let's do a picture.\n",
    "\n",
    "Look at the picture created by the code below and\n",
    "study it carefully.  \n",
    "\n",
    "Each of the 6 subplots features a pair of attributes.\n",
    "For example, we pick **sepal length** amd **sepal width** in the first subplot.\n",
    "We then represent each iris as\n",
    "a point out on the 2D xy plane, using the sepal length as the x coordinate and\n",
    "sepal width as the y-coordinate, and we color it according to its class. \n",
    "The 3 classes of iris are rendered as blue, green, and red\n",
    "points of different shapes.  This is called a **scatter plot**.  The idea is to\n",
    "see if irises of of the same class cluster together based on the attributes\n",
    "we're looking at.\n",
    "\n",
    "One more thing we've done is to distinguish the example point P discussed\n",
    "above, so that you can see how its representation changes from subplot to\n",
    "subplot.  P is of class 1; points of class 1 are being drawn as filled in green circles,\n",
    "but P has been drawn much larger than the other green points."
   ]
  },
  {
   "cell_type": "code",
   "execution_count": 58,
   "metadata": {},
   "outputs": [
    {
     "data": {
      "text/plain": [
       "<matplotlib.collections.PathCollection at 0x7fedb9471540>"
      ]
     },
     "execution_count": 58,
     "metadata": {},
     "output_type": "execute_result"
    },
    {
     "data": {
      "image/png": "[encoded data removed]",
      "text/plain": [
       "<Figure size 640x480 with 1 Axes>"
      ]
     },
     "metadata": {},
     "output_type": "display_data"
    }
   ],
   "source": [
    "from matplotlib import pyplot as plt\n",
    "\n",
    "markers, colors  = \">ox\", \"rgb\"\n",
    "X = [1,1.5,2]\n",
    "\n",
    "# Scattering all points uniform marking, different colors\n",
    "plt.scatter(X,X,marker=markers[0],c=list(colors))\n",
    "# Try out different markers\n",
    "#plt.scatter(X,X,marker=markers[1],c=list(colors))\n",
    "#plt.scatter(X,X,marker=markers[2],c=list(colors))"
   ]
  },
  {
   "cell_type": "code",
   "execution_count": 59,
   "metadata": {},
   "outputs": [
    {
     "data": {
      "image/png": "[encoded data removed]",
      "text/plain": [
       "<Figure size 1200x900 with 6 Axes>"
      ]
     },
     "metadata": {},
     "output_type": "display_data"
    }
   ],
   "source": [
    "%matplotlib inline\n",
    "\n",
    "import pylab \n",
    "import numpy as np\n",
    "from matplotlib import pyplot as plt\n",
    "\n",
    "# Let's make this a big figure, because there are multiple subplots\n",
    "pylab.rcParams['figure.figsize'] = (12.0, 9.0)\n",
    "\n",
    "\n",
    "markers, colors  = \">ox\", \"rgb\"\n",
    "# Four columns, plot two at a time.  \n",
    "# This is all 6 possible pairings of the indices of the 4 cols\n",
    "pairs = [(0,1),(0,2),(0,3),(1,2),(1,3),(2,3)]\n",
    "for i,(x,y) in enumerate(pairs):\n",
    "    # 6 subplots in 2x3 configuration. Each subplot pairs two iris\n",
    "    # attributes we call x and y. Let's do subplot i+1 now.\n",
    "    plt.subplot(2,3,i+1)\n",
    "    # On this subplot we're doing 3 sets of points, each belonging to a different iris class\n",
    "    # with a different color and shape used to draw the points.  To do the 3 sets, use a loop.\n",
    "    # To loop through 3 sequences at once, zip them together first\n",
    "    for cls,marker,clr in zip(range(3),markers,colors):\n",
    "        plt.scatter(features[target == cls,x], features[target == cls,y], marker=marker, c=clr)\n",
    "    # Let's draw our point P with attention-getting large SIZE.\n",
    "    p_features,p_cls  = features[-90],target[-90]\n",
    "    marker,clr = markers[p_cls], colors[p_cls]\n",
    "    plt.scatter(p_features[x],p_features[y],marker=marker,c=clr,s=100)\n",
    "    # Done with P\n",
    "    # Label this subplot with the names of the two features being studied.\n",
    "    plt.xlabel(feature_names[x])\n",
    "    plt.ylabel(feature_names[y])\n",
    "    # To make it prettier, uncomment the following & remove ticks on the x and y axis.\n",
    "    #plt.xticks([])\n",
    "    #plt.yticks([])\n",
    " \n",
    "plt.savefig('iris_datasets_separations.png')"
   ]
  },
  {
   "cell_type": "markdown",
   "metadata": {},
   "source": [
    "Notice that that big green dot P jumps around from plot to plot. It's being represented with different numerical values each time, so it jumps around the xy-plane.  In the first plot we see its sepal length/ sepal width view, which happens to be the point (5,2).  In the second plot we look at the sepal length/petal length view, which happens to be the point (5,3.5). Six different views as we scoot from subplot to subplot, all coming from the one row in the `features` table that represent P:\n",
    "\n",
    "```\n",
    "[ 5. ,  2. ,  3.5,  1. ]\n",
    "```"
   ]
  },
  {
   "cell_type": "markdown",
   "metadata": {},
   "source": [
    "## 3.  Linear separation"
   ]
  },
  {
   "cell_type": "markdown",
   "metadata": {
    "collapsed": true
   },
   "source": [
    "Now consider the problem of drawing straight lines to **separate** the classes.  First off it's easy to see that it's much easier to separate the red points from the blue and green points than it is to separate the blue points from the green points. As an example let's draw a pretty good line for separating the red points from the others for the second plot in\n",
    "the first row.  This is the one that plots **sepal length** (x-axis) against **petal \n",
    "length** (y axis).  Note that I found the line by eyeballing the plot and using\n",
    "trial and error."
   ]
  },
  {
   "cell_type": "code",
   "execution_count": 37,
   "metadata": {},
   "outputs": [
    {
     "data": {
      "text/plain": [
       "array([5. , 2. , 3.5, 1. ])"
      ]
     },
     "execution_count": 37,
     "metadata": {},
     "output_type": "execute_result"
    }
   ],
   "source": [
    "features[-90]"
   ]
  },
  {
   "cell_type": "code",
   "execution_count": 64,
   "metadata": {},
   "outputs": [
    {
     "data": {
      "text/plain": [
       "Text(0, 0.5, 'petal length (cm)')"
      ]
     },
     "execution_count": 64,
     "metadata": {},
     "output_type": "execute_result"
    },
    {
     "data": {
      "image/png": "[encoded data removed]",
      "text/plain": [
       "<Figure size 1200x900 with 1 Axes>"
      ]
     },
     "metadata": {},
     "output_type": "display_data"
    }
   ],
   "source": [
    "# After some trial & error, I decided on a line specified by the following 2 numbers worked.\n",
    "# m is the slope, b is where the line intercepts the y axis (not seen in the figure)\n",
    "(m,b) = (.9,-2)\n",
    "# The indexes for the two iris features we're using for this plot.\n",
    "(p0,p1) = (0,2)\n",
    "# Scatter the data points\n",
    "for t,marker,c in zip(list(range(3)),\">ox\",\"rgb\"):\n",
    "    plt.scatter(features[target == t,p0], features[target == t,p1], \n",
    "                marker=marker, c=c,s=60) \n",
    "# Let's draw our point P with extra special attention getting large SIZE.\n",
    "p_features,p_target  = features[-90],target[-90]\n",
    "marker,clr = \">ox\"[p_target], \"rgb\"[p_target]\n",
    "plt.scatter(p_features[p0],p_features[p1],marker=marker,c=clr,s=180)\n",
    " \n",
    "# Draw our classifier line\n",
    "# We'll only draw the portion of the line relevant to the current figure.\n",
    "(xmin,xmax) = (3.,9.)\n",
    "# tighten the boundaries on the drawing to the same limits\n",
    "plt.gca().set_xlim(xmin,xmax)\n",
    "#Between xmin and xmax, mark off a set of points on the x-axis .1 apart\n",
    "xvec = np.arange(xmin,xmax,.1)\n",
    "# Plot a stright line with the chosen slope & intercept\n",
    "plt.plot(xvec,m*xvec+b)\n",
    "plt.xlabel(feature_names[p0])\n",
    "plt.ylabel(feature_names[p1])"
   ]
  },
  {
   "cell_type": "markdown",
   "metadata": {},
   "source": [
    "To see what this line does,  consider our example iris P."
   ]
  },
  {
   "cell_type": "markdown",
   "metadata": {},
   "source": [
    "Let's pretend we don't know the class of P, but we do know\n",
    "its attributes. So we know $P$ has sepal length 5 and petal length 3.5.  \n",
    "\n",
    "Let's plot it and use our line as a classifier."
   ]
  },
  {
   "cell_type": "code",
   "execution_count": 39,
   "metadata": {},
   "outputs": [
    {
     "data": {
      "text/plain": [
       "1"
      ]
     },
     "execution_count": 39,
     "metadata": {},
     "output_type": "execute_result"
    }
   ],
   "source": [
    "p_target"
   ]
  },
  {
   "cell_type": "code",
   "execution_count": 46,
   "metadata": {},
   "outputs": [
    {
     "name": "stdout",
     "output_type": "stream",
     "text": [
      "3\n"
     ]
    },
    {
     "data": {
      "image/png": "[encoded data removed]",
      "text/plain": [
       "<Figure size 800x600 with 1 Axes>"
      ]
     },
     "metadata": {},
     "output_type": "display_data"
    }
   ],
   "source": [
    "pylab.rcParams['figure.figsize'] = (8.0, 6.0)\n",
    "# Our sample point\n",
    "P = features[-90]\n",
    "(xPrime,yPrime) = (P[0],P[2])\n",
    "# Boundaries of what we'll draw.\n",
    "(xmin,xmax) = (4.0,6.0)\n",
    "# Ticks at which to place points on x- axis\n",
    "xvec = np.arange(xmin,xmax,.1)\n",
    "# our classifier line slope and intercept\n",
    "(m,b) = (.9,-2)\n",
    "#  Use (m,b) for the EQUATION of the classifier line.  \n",
    "yvec = m*xvec+b\n",
    "# Plot the classifier line\n",
    "plt.plot(xvec,yvec)\n",
    "\n",
    "# the point on the line below xPrime\n",
    "yHat = m*xPrime + b\n",
    "# Plot our example point\n",
    "plt.scatter(xPrime,yPrime , marker='o', c='g',s=60) \n",
    "\n",
    "\n",
    "# Plot a point X below P, directly on the classifier line\n",
    "plt.scatter([xPrime],[yHat] , marker='x', c='r',s=60) \n",
    "xvec2,yvec2 =np.array([xPrime,xPrime]),np.array([yHat,yPrime])\n",
    "# Plot the dashed line from X to P\n",
    "plt.plot(xvec2,yvec2,linestyle='--')\n",
    "# Draw the frame around the plots TIGHT\n",
    "plt.axis('tight')\n",
    "plt.xlabel(feature_names[p0])\n",
    "plt.ylabel(feature_names[p1])\n",
    "\n",
    "print(y)"
   ]
  },
  {
   "cell_type": "markdown",
   "metadata": {},
   "source": [
    "The representation of the iris $P$ in this plotting system is shown as the green dot.  Since the dot falls above the line we would classify it as a non-red class iris.  Also shown\n",
    "(as a red X) is what the petal of length of $P$ would have to be for it to fall directly in the line.\n",
    "\n",
    "We printed out that value before drawing the plot.  It's 2.5.  Basically for any iris\n",
    "with sepal length 5, if it's petal length is greater than 2.5 we classify it as non-red;\n",
    "if it's less than 2.5 we classify it as red.  The line defines a classification rule.\n",
    "\n",
    "Moreover we can easily extend the rule to any sepal length.  In fact,\n",
    "we can write a classification rule, using the equation for the line.  Let `(x',y')`\n",
    "be the point to classify, and let's we call non-red the **positive class**.\n",
    "Then we place `(x',y')` in the positive class whenever the following \n",
    "quantity is positive (see the definition of `yvec` in the code above):\n",
    "\n",
    "```\n",
    "y' - (.9x' - 2) = y' -.9x + 2\n",
    "```\n",
    "\n",
    "Taking our example point `(x'=5,y'=3.5)`:\n",
    "\n",
    "```\n",
    "3.5 - .9*5 + 2 = +1\n",
    "```\n",
    "\n",
    "So as desired this is positive, telling us the point falls above the line and should\n",
    "be classified as non-red.\n",
    "\n",
    "We have just created a classification rule.  Next we write a function that implements our rule.\n"
   ]
  },
  {
   "cell_type": "code",
   "execution_count": 47,
   "metadata": {},
   "outputs": [
    {
     "name": "stdout",
     "output_type": "stream",
     "text": [
      "P is in positive class: True\n"
     ]
    }
   ],
   "source": [
    "def is_non_red (P):\n",
    "    \"\"\"\n",
    "    P is a data point, all 4 attributes.\n",
    "    \n",
    "    Return True if P is in positive class.\n",
    "    \"\"\"\n",
    "    return (P[2] - .9*P[0] + 2) > 0\\\n",
    "\n",
    "P = features[-90]\n",
    "print('P is in positive class: {0}'.format(is_non_red(P)))"
   ]
  },
  {
   "cell_type": "markdown",
   "metadata": {},
   "source": [
    "## 4.  Relationship to regression"
   ]
  },
  {
   "cell_type": "markdown",
   "metadata": {},
   "source": [
    "How is what we've done related to regression, especially linear regression?\n",
    "\n",
    "Well, first of all, in both the linear regression case and the linear discriminant case,\n",
    "we are using numerical data (a scattering of points) to try to determine a line.\n",
    "\n",
    "We are defining the line in different ways.  In the linear regression case, we looked \n",
    "for the best line to represent the scattering of points we saw. In the linear discrimination\n",
    "case, we are looking for the best line to **separate** two classes.\n",
    "\n",
    "Just as it wasn't always possible to find a line that was a good **fit** to our scattering of data, so it isn't always possible separate a scattering of points with a line.\n",
    "\n",
    "What we're seeing in the plots above is that, taking the features by pairs, we can't see\n",
    "a good way to separate all 3 classes.\n",
    "\n",
    "We'll validate this intuition in the next section. We'll use a program that does a kind of linear discrimination; that is, it tries to find linear separations between classes.  Instead of using Fisher's method, which is called Linear Discriminant Analysis (LDA), we'll use\n",
    "something called **Logistic regression**, which has become far more popular in many applications.  The differences don't matter for our purposes,  but logistic regression is much more likely to be the method of choice in linguistic applications. "
   ]
  },
  {
   "cell_type": "markdown",
   "metadata": {
    "collapsed": true
   },
   "source": [
    "## 5.  Linear classifier results"
   ]
  },
  {
   "cell_type": "markdown",
   "metadata": {},
   "source": [
    "We're going to use `sklearn` to build a linear classifier to to separate all three classes. We're first going to use just the sepal features, to keep it visualizable.  We'll use a type of linear classifier called  a **Logistic Regression classifier**."
   ]
  },
  {
   "cell_type": "code",
   "execution_count": 21,
   "metadata": {},
   "outputs": [
    {
     "data": {
      "text/plain": [
       "array([3.8 , 3.82, 3.84, 3.86, 3.88, 3.9 , 3.92, 3.94, 3.96, 3.98, 4.  ,\n",
       "       4.02, 4.04, 4.06, 4.08, 4.1 , 4.12, 4.14, 4.16, 4.18, 4.2 , 4.22,\n",
       "       4.24, 4.26, 4.28, 4.3 , 4.32, 4.34, 4.36, 4.38, 4.4 , 4.42, 4.44,\n",
       "       4.46, 4.48, 4.5 , 4.52, 4.54, 4.56, 4.58, 4.6 , 4.62, 4.64, 4.66,\n",
       "       4.68, 4.7 , 4.72, 4.74, 4.76, 4.78, 4.8 , 4.82, 4.84, 4.86, 4.88,\n",
       "       4.9 , 4.92, 4.94, 4.96, 4.98, 5.  , 5.02, 5.04, 5.06, 5.08, 5.1 ,\n",
       "       5.12, 5.14, 5.16, 5.18, 5.2 , 5.22, 5.24, 5.26, 5.28, 5.3 , 5.32,\n",
       "       5.34, 5.36, 5.38, 5.4 , 5.42, 5.44, 5.46, 5.48, 5.5 , 5.52, 5.54,\n",
       "       5.56, 5.58, 5.6 , 5.62, 5.64, 5.66, 5.68, 5.7 , 5.72, 5.74, 5.76,\n",
       "       5.78, 5.8 , 5.82, 5.84, 5.86, 5.88, 5.9 , 5.92, 5.94, 5.96, 5.98,\n",
       "       6.  , 6.02, 6.04, 6.06, 6.08, 6.1 , 6.12, 6.14, 6.16, 6.18, 6.2 ,\n",
       "       6.22, 6.24, 6.26, 6.28, 6.3 , 6.32, 6.34, 6.36, 6.38, 6.4 , 6.42,\n",
       "       6.44, 6.46, 6.48, 6.5 , 6.52, 6.54, 6.56, 6.58, 6.6 , 6.62, 6.64,\n",
       "       6.66, 6.68, 6.7 , 6.72, 6.74, 6.76, 6.78, 6.8 , 6.82, 6.84, 6.86,\n",
       "       6.88, 6.9 , 6.92, 6.94, 6.96, 6.98, 7.  , 7.02, 7.04, 7.06, 7.08,\n",
       "       7.1 , 7.12, 7.14, 7.16, 7.18, 7.2 , 7.22, 7.24, 7.26, 7.28, 7.3 ,\n",
       "       7.32, 7.34, 7.36, 7.38, 7.4 , 7.42, 7.44, 7.46, 7.48, 7.5 , 7.52,\n",
       "       7.54, 7.56, 7.58, 7.6 , 7.62, 7.64, 7.66, 7.68, 7.7 , 7.72, 7.74,\n",
       "       7.76, 7.78, 7.8 , 7.82, 7.84, 7.86, 7.88, 7.9 , 7.92, 7.94, 7.96,\n",
       "       7.98, 8.  , 8.02, 8.04, 8.06, 8.08, 8.1 , 8.12, 8.14, 8.16, 8.18,\n",
       "       8.2 , 8.22, 8.24, 8.26, 8.28, 8.3 , 8.32, 8.34, 8.36, 8.38, 8.4 ])"
      ]
     },
     "execution_count": 21,
     "metadata": {},
     "output_type": "execute_result"
    }
   ],
   "source": [
    "xx[0,:]"
   ]
  },
  {
   "cell_type": "code",
   "execution_count": 19,
   "metadata": {},
   "outputs": [
    {
     "data": {
      "text/plain": [
       "(171, 231)"
      ]
     },
     "execution_count": 19,
     "metadata": {},
     "output_type": "execute_result"
    }
   ],
   "source": [
    "yy.shape"
   ]
  },
  {
   "cell_type": "code",
   "execution_count": 23,
   "metadata": {},
   "outputs": [
    {
     "data": {
      "text/plain": [
       "{0, 1, 2}"
      ]
     },
     "execution_count": 23,
     "metadata": {},
     "output_type": "execute_result"
    }
   ],
   "source": [
    "set(tuple(Z.ravel()))"
   ]
  },
  {
   "cell_type": "code",
   "execution_count": 60,
   "metadata": {},
   "outputs": [
    {
     "data": {
      "text/plain": [
       "([], [])"
      ]
     },
     "execution_count": 60,
     "metadata": {},
     "output_type": "execute_result"
    },
    {
     "data": {
      "image/png": "[encoded data removed]",
      "text/plain": [
       "<Figure size 1200x900 with 1 Axes>"
      ]
     },
     "metadata": {},
     "output_type": "display_data"
    }
   ],
   "source": [
    "from sklearn import linear_model\n",
    "#pylab.rcParams['figure.figsize'] = (12.0, 9.0)\n",
    "\n",
    "#  Use just the first 2 columns as predictors\n",
    "#  Why?  So we can draw this!\n",
    "X = features[:,:2]\n",
    "Y = target\n",
    "\n",
    "\n",
    "\n",
    "# we create an instance of a Logistic Regression Classifier.\n",
    "logreg = linear_model.LogisticRegression(C=1e5,solver='lbfgs',multi_class='auto')\n",
    "\n",
    "# we fit the data.\n",
    "logreg.fit(X, Y)\n",
    "\n",
    "markers, colors  = \">ox\", \"rgb\"\n",
    "# Apply the classifier's decision function to xx,yy.   Z contains\n",
    "# the predicted classes for the 2D points in the  mesh\n",
    "\n",
    "# x and y here refer to the x-,y- axis of the drawing below\n",
    "x_min, x_max = X[:, 0].min() - .5, X[:, 0].max() + .5\n",
    "y_min, y_max = X[:, 1].min() - .5, X[:, 1].max() + .5\n",
    "h = .02  # step size in the mesh\n",
    "\n",
    "################################################################\n",
    "#  Dont worry too  much about this part of the code.  Meshes\n",
    "#  are a mesh-y topic.  They are the 2D version of aranges.\n",
    "# xx and yy define a mesh: a rectangular region covering  all of\n",
    "# the training data X.  xx contains the x coords, yy the y coords.\n",
    "# xx[0,:] is the x coords of the first row of the rectangle.\n",
    "xx, yy = np.meshgrid(np.arange(x_min, x_max, h), np.arange(y_min, y_max, h))\n",
    "##  End of meshy stuff xx,yy are the points we're going to classify,±\n",
    "##  So that we can color entire regions of the plot.\n",
    "\n",
    "# (conceptually, ALL the points in the 2D region defined by the training data).\n",
    "# So set(tuple(Z.ravel())) is {0,1,2} the 3 iris classes.\n",
    "# The result Z is an array storing  the predicted class for every point in xx,yy\n",
    "# We use .ravel() to flatten out 2D matrices xx and yy to concat into a 2D\n",
    "# matrix \n",
    "Z = logreg.predict(np.c_[xx.ravel(), yy.ravel()])\n",
    "\n",
    "# Put the result into a color plot.  We'll color EACH point in xx,yy\n",
    "# according to its class in Z.\n",
    "Z = Z.reshape(xx.shape)\n",
    "# Use a Qualitive Colormap ()\n",
    "#plt.pcolormesh(xx, yy, Z, cmap=plt.cm.Paired)\n",
    "#plt.pcolormesh(xx, yy, Z, cmap=plt.cm.Pastel1)\n",
    "#colors2 = colors\n",
    "plt.pcolormesh(xx, yy, Z, cmap=plt.cm.Accent)\n",
    "colors2 = 'rcb'\n",
    "# Also plot the training points, coloring them according to their  TRUE classes.\n",
    "for cls,marker,clr in zip(list(range(3)),markers,colors2):\n",
    "        plt.scatter(X[target == cls,0], X[target == cls,1], marker=marker, c=clr, s=50)\n",
    "\n",
    "plt.xlabel('Sepal length')\n",
    "plt.ylabel('Sepal width')\n",
    "\n",
    "plt.xlim(xx.min(), xx.max())\n",
    "plt.ylim(yy.min(), yy.max())\n",
    "plt.xticks(())\n",
    "plt.yticks(())"
   ]
  },
  {
   "cell_type": "markdown",
   "metadata": {},
   "source": [
    "The differently colored regions represent the areas the classifier has reserved for particular classes, and the dots are our training data, colored by species.  We see that all our worries are validated.  The classifier separates the red class off nicely, and has trouble discriminating the darkblue x-class and lightblue cicle-class.  \n",
    "\n",
    "This coloring also makes it clear that it's not \n",
    "really the classifier's problem: These two dimensions are insufficient to discriminate the three species. In the blue and gray regions, look for darkblue Xs\n",
    "superimposed on lightblue circles.  These are points from our training data that belong to two different species but have exactly the same coordinates in these 2 dimensions. \n",
    "In other words, given just the sepal length and sepal width, there is no way to tell these\n",
    "irises apart.\n",
    "\n",
    "Can we quantify what's going on? Certainly."
   ]
  },
  {
   "cell_type": "markdown",
   "metadata": {},
   "source": [
    "Here's how to find out our score."
   ]
  },
  {
   "cell_type": "code",
   "execution_count": 62,
   "metadata": {},
   "outputs": [
    {
     "data": {
      "text/plain": [
       "0.8333333333333334"
      ]
     },
     "execution_count": 62,
     "metadata": {},
     "output_type": "execute_result"
    }
   ],
   "source": [
    "from sklearn.metrics import accuracy_score\n",
    "# Rerun prediction on just the training data.\n",
    "X = features[:,:2]\n",
    "# we create an instance of a Logistic Regression Classifier.\n",
    "logreg = linear_model.LogisticRegression(C=1e5,solver='lbfgs',multi_class='auto')\n",
    "logreg.fit(X, Y)\n",
    "predicted = logreg.predict(X)\n",
    "# Y has the right answers.\n",
    "accuracy_score(Y,predicted)"
   ]
  },
  {
   "cell_type": "markdown",
   "metadata": {},
   "source": [
    "Well, we went and cheated by evaluating our score on just the training data,\n",
    "and we **still** didn't do very well.  Only 80% correct!\n",
    "\n",
    "Maybe our problem is that we keep using only two features at a time. What if we use **all**\n",
    "the features at once?  Please note how simple the following code is.  We are basically starting from scratch, using all our data, and all our features, and testing."
   ]
  },
  {
   "cell_type": "markdown",
   "metadata": {},
   "source": [
    "## The most important part of this notebook"
   ]
  },
  {
   "cell_type": "code",
   "execution_count": 31,
   "metadata": {},
   "outputs": [
    {
     "data": {
      "text/plain": [
       "0.9866666666666667"
      ]
     },
     "execution_count": 31,
     "metadata": {},
     "output_type": "execute_result"
    }
   ],
   "source": [
    "# Go back to using all 4 features.  Compare the definition of X used the plot above.\n",
    "X = features\n",
    "Y = target\n",
    "logreg = linear_model.LogisticRegression(C=1e5, solver='lbfgs',multi_class='auto')\n",
    "logreg.fit(X, Y)\n",
    "predicted = logreg.predict(X)\n",
    "accuracy_score(Y,predicted)"
   ]
  },
  {
   "cell_type": "markdown",
   "metadata": {},
   "source": [
    "Yep,  that was our problem.  Our accuracy is now 98%!\n",
    "\n",
    "And so we pause for a moment to take in one of the central lessons of multivariate statistics.  Using more variables can help.  Bigtime.  It doesn't always help, but as long\n",
    "as we're getting new independent informatioon from the new features, it's worth\n",
    "trying.\n",
    "\n",
    "We started out essentially asking the question, what linear function of two \n",
    "of these variables can best separate these classes?  And we tried all possible systems using two features and didn't do very well.  But then we switched to asking what linear function\n",
    "of all 4 variables can best separate these variables? And we did **much** better.\n",
    "\n",
    "So why didn't we do this to start with?  And why did the code get so much simpler?\n",
    "\n",
    "Second question, first, because the two answers are related.  The code got much simpler\n",
    "because we threw out the visualization code.  And we threw out the visualization code\n",
    "because we switched to a system that was much harder to visualize.  We essentially went from representing our code in 2 dimensions (so that \n",
    "we could plot every point on an the xy plane) to representing it in 4 dimensions.\n",
    "Try and visualize 4 dimensions!  Pretty hard.  And that's the answer\n",
    "to the first question.  We didn't do it this way to start with because\n",
    "we wanted something we could visualize, and that proved helpful, because there\n",
    "were insights the visualizations gave us, especially about the red class.\n",
    "\n",
    "And therein lies one problem with switching to 4 dimensions.  We've lost our capacity\n",
    "to glean insights from the data, at least with the tools we've looked at till now.\n",
    "We don't really know what relationships got us over the hump in classifying\n",
    "irises.\n",
    "\n",
    "So lesson number one is that more variables can help.  And lesson number\n",
    "two is that there are perils involved in using more variables.  Actually \n",
    "we haven't even scratched the surface of the many perils involved in higher-dimensional\n",
    "data, but we've identified an important one.  Using more variables makes things\n",
    "more complicated, and that makes it harder to understand what's going on.\n",
    "At some point we are going to have turn around and explain our results\n",
    "to an audience waiting with baited breath, and you have be **very** careful when explaining\n",
    "multivariate results.  Visualization is a big help at explaining complicated\n",
    "relationships, so losing the ability to visualize is not a small loss,\n",
    "especially since what real life problems often involve is not yes/no classifications,\n",
    "but insight.  More on the problem of visualizing higher-dimensional data later in\n",
    "the course.\n",
    "\n",
    "In the meantime, to try to recover a little insight into what is going on with\n",
    "a completely visualizable representation of the iris data, have a look at the appendix."
   ]
  },
  {
   "cell_type": "markdown",
   "metadata": {
    "collapsed": true
   },
   "source": [
    "## Appendix A Using different types of SVM"
   ]
  },
  {
   "cell_type": "markdown",
   "metadata": {},
   "source": [
    "We will explore some of the consequences of using different types of SVMs in the next notebook (linear_classifier_svm).\n",
    "\n",
    "Here we just give the flavor of how to use different classifiers (in particular different SVMs)\n",
    "in `scikit_learn`.\n",
    "\n",
    "Note:  Inthe figure below there are two plots labeled *SVC with Linear Kernal* \n",
    "and Linear SVC (Linear kernel).  I don't really understand how these two models\n",
    "differ, other than that they are different Support Vector Machine (SVM) implementations\n",
    "both available in `scikit learn`."
   ]
  },
  {
   "cell_type": "code",
   "execution_count": 12,
   "metadata": {},
   "outputs": [
    {
     "name": "stdout",
     "output_type": "stream",
     "text": [
      "Automatically created module for IPython interactive environment\n"
     ]
    },
    {
     "data": {
      "image/png": "[encoded data removed]",
      "text/plain": [
       "<Figure size 864x576 with 4 Axes>"
      ]
     },
     "metadata": {},
     "output_type": "display_data"
    }
   ],
   "source": [
    "\n",
    "import numpy as np\n",
    "import matplotlib.pyplot as plt\n",
    "from sklearn import svm, datasets\n",
    "\n",
    "\n",
    "def make_meshgrid(x, y, h=.02):\n",
    "    \"\"\"Create a mesh of points to plot in\n",
    "\n",
    "    Parameters\n",
    "    ----------\n",
    "    x: data to base x-axis meshgrid on\n",
    "    y: data to base y-axis meshgrid on\n",
    "    h: stepsize for meshgrid, optional\n",
    "\n",
    "    Returns\n",
    "    -------\n",
    "    xx, yy : ndarray\n",
    "    \"\"\"\n",
    "    x_min, x_max = x.min() - 1, x.max() + 1\n",
    "    y_min, y_max = y.min() - 1, y.max() + 1\n",
    "    xx, yy = np.meshgrid(np.arange(x_min, x_max, h),\n",
    "                         np.arange(y_min, y_max, h))\n",
    "    return xx, yy\n",
    "\n",
    "\n",
    "def plot_contours(ax, clf, xx, yy, **params):\n",
    "    \"\"\"Plot the decision boundaries for a classifier.\n",
    "\n",
    "    Parameters\n",
    "    ----------\n",
    "    ax: matplotlib axes object\n",
    "    clf: a classifier\n",
    "    xx: meshgrid ndarray\n",
    "    yy: meshgrid ndarray\n",
    "    params: dictionary of params to pass to contourf, optional\n",
    "    \"\"\"\n",
    "    Z = clf.predict(np.c_[xx.ravel(), yy.ravel()])\n",
    "    Z = Z.reshape(xx.shape)\n",
    "    out = ax.contourf(xx, yy, Z, **params)\n",
    "    return out\n",
    "\n",
    "\n",
    "# import some data to play with\n",
    "iris = datasets.load_iris()\n",
    "# Take the first two features. \n",
    "X = iris.data[:, :2]\n",
    "y = iris.target\n",
    "\n",
    "# we create an instance of SVM and fit out data. We do not scale our\n",
    "# data since we want to plot the support vectors\n",
    "C = 1.0  # SVM regularization parameter\n",
    "models = (svm.SVC(kernel='linear', C=C),\n",
    "          svm.LinearSVC(C=C, max_iter=10000),\n",
    "          svm.SVC(kernel='rbf', gamma=0.7, C=C),\n",
    "          svm.SVC(kernel='poly', degree=3, gamma='auto', C=C))\n",
    "models = (clf.fit(X, y) for clf in models)\n",
    "\n",
    "# title for the plots\n",
    "titles = ('SVC with linear kernel',\n",
    "          'LinearSVC (linear kernel)',\n",
    "          'SVC with RBF kernel',\n",
    "          'SVC with polynomial (degree 3) kernel')\n",
    "\n",
    "# Set-up 2x2 grid for plotting.\n",
    "fig, sub = plt.subplots(2, 2,figsize=(12,8))\n",
    "plt.subplots_adjust(wspace=0.4, hspace=0.4)\n",
    "\n",
    "x_att,y_att = 0,1\n",
    "X0, X1 = X[:, x_att], X[:, y_att]\n",
    "xx, yy = make_meshgrid(X0, X1)\n",
    "\n",
    "for clf, title, ax in zip(models, titles, sub.flatten()):\n",
    "    plot_contours(ax, clf, xx, yy,\n",
    "                  cmap=plt.cm.coolwarm, alpha=0.8)\n",
    "    ax.scatter(X0, X1, c=y, cmap=plt.cm.coolwarm, s=20, edgecolors='k')\n",
    "    ax.set_xlim(xx.min(), xx.max())\n",
    "    ax.set_ylim(yy.min(), yy.max())\n",
    "    #ax.set_xlabel('Sepal length')\n",
    "    #ax.set_ylabel('Sepal width')\n",
    "    ax.set_xlabel(iris.feature_names[x_att])\n",
    "    ax.set_ylabel(iris.feature_names[y_att])\n",
    "    ax.set_xticks(())\n",
    "    ax.set_yticks(())\n",
    "    ax.set_title(title)\n",
    "\n",
    "plt.show()"
   ]
  },
  {
   "cell_type": "markdown",
   "metadata": {},
   "source": [
    "#### Gaussian Classifiers"
   ]
  },
  {
   "cell_type": "code",
   "execution_count": null,
   "metadata": {},
   "outputs": [],
   "source": []
  },
  {
   "cell_type": "markdown",
   "metadata": {
    "collapsed": true
   },
   "source": [
    "#### Notes on hacking numpy arrays"
   ]
  },
  {
   "cell_type": "code",
   "execution_count": 67,
   "metadata": {},
   "outputs": [],
   "source": [
    "import numpy as np\n",
    "\n",
    "# Cook up random 1d array\n",
    "a_1D = np.random.rand(4,)\n",
    "\n",
    "# make it 4 x 1\n",
    "a_nrows = a_1D.shape[0]\n",
    "a_2D = a_1D.reshape((a_nrows,1))"
   ]
  },
  {
   "cell_type": "code",
   "execution_count": 68,
   "metadata": {},
   "outputs": [
    {
     "data": {
      "text/plain": [
       "array([0.82785793, 0.02199211, 0.02607832, 0.18824968])"
      ]
     },
     "execution_count": 68,
     "metadata": {},
     "output_type": "execute_result"
    }
   ],
   "source": [
    "a_1D"
   ]
  },
  {
   "cell_type": "code",
   "execution_count": 69,
   "metadata": {},
   "outputs": [
    {
     "data": {
      "text/plain": [
       "(4,)"
      ]
     },
     "execution_count": 69,
     "metadata": {},
     "output_type": "execute_result"
    }
   ],
   "source": [
    "a_1D.shape"
   ]
  },
  {
   "cell_type": "code",
   "execution_count": 70,
   "metadata": {},
   "outputs": [
    {
     "data": {
      "text/plain": [
       "array([[0.82785793],\n",
       "       [0.02199211],\n",
       "       [0.02607832],\n",
       "       [0.18824968]])"
      ]
     },
     "execution_count": 70,
     "metadata": {},
     "output_type": "execute_result"
    }
   ],
   "source": [
    "a_2D"
   ]
  },
  {
   "cell_type": "code",
   "execution_count": 10,
   "metadata": {},
   "outputs": [
    {
     "data": {
      "text/plain": [
       "(4, 1)"
      ]
     },
     "execution_count": 10,
     "metadata": {},
     "output_type": "execute_result"
    }
   ],
   "source": [
    "a_2D.shape"
   ]
  },
  {
   "cell_type": "code",
   "execution_count": 71,
   "metadata": {},
   "outputs": [],
   "source": [
    "# Cook up random 2d arrays of different shapes\n",
    "b_2D_1 = np.random.rand(4,2)\n",
    "b_2D_2 = np.random.rand(4,3)\n",
    "b_2D_3 = np.random.rand(2,2)"
   ]
  },
  {
   "cell_type": "code",
   "execution_count": 72,
   "metadata": {},
   "outputs": [
    {
     "data": {
      "text/plain": [
       "array([[0.58968585, 0.3780283 ],\n",
       "       [0.92069582, 0.64670967],\n",
       "       [0.717604  , 0.2530142 ],\n",
       "       [0.08233576, 0.34751584]])"
      ]
     },
     "execution_count": 72,
     "metadata": {},
     "output_type": "execute_result"
    }
   ],
   "source": [
    "b_2D_1"
   ]
  },
  {
   "cell_type": "code",
   "execution_count": 73,
   "metadata": {},
   "outputs": [
    {
     "data": {
      "text/plain": [
       "array([[0.44547243, 0.85595194, 0.99244395],\n",
       "       [0.59038664, 0.99123087, 0.40637481],\n",
       "       [0.86445582, 0.25160339, 0.11395818],\n",
       "       [0.98553047, 0.89830304, 0.52353679]])"
      ]
     },
     "execution_count": 73,
     "metadata": {},
     "output_type": "execute_result"
    }
   ],
   "source": [
    "b_2D_2"
   ]
  },
  {
   "cell_type": "code",
   "execution_count": 74,
   "metadata": {},
   "outputs": [
    {
     "data": {
      "text/plain": [
       "array([[0.74797376, 0.539302  ],\n",
       "       [0.87940524, 0.64808369]])"
      ]
     },
     "execution_count": 74,
     "metadata": {},
     "output_type": "execute_result"
    }
   ],
   "source": [
    "b_2D_3"
   ]
  },
  {
   "cell_type": "markdown",
   "metadata": {},
   "source": [
    "Concatenate columnwise"
   ]
  },
  {
   "cell_type": "code",
   "execution_count": 49,
   "metadata": {},
   "outputs": [
    {
     "data": {
      "text/plain": [
       "array([[0.50243424, 0.9311518 , 0.98214676, 0.58644108, 0.39514477],\n",
       "       [0.70095486, 0.29907664, 0.38201942, 0.44371491, 0.83550265],\n",
       "       [0.14189844, 0.160513  , 0.8608271 , 0.18844577, 0.71184684],\n",
       "       [0.01641225, 0.3151915 , 0.02145551, 0.06931183, 0.69261826]])"
      ]
     },
     "execution_count": 49,
     "metadata": {},
     "output_type": "execute_result"
    }
   ],
   "source": [
    "np.hstack([b_2D_1, b_2D_2])"
   ]
  },
  {
   "cell_type": "code",
   "execution_count": 154,
   "metadata": {},
   "outputs": [
    {
     "data": {
      "text/plain": [
       "((4, 2), (4, 3))"
      ]
     },
     "execution_count": 154,
     "metadata": {},
     "output_type": "execute_result"
    }
   ],
   "source": [
    "b_2D_1.shape, b_2D_2.shape"
   ]
  },
  {
   "cell_type": "code",
   "execution_count": 71,
   "metadata": {},
   "outputs": [
    {
     "data": {
      "text/plain": [
       "array([[0.30351754, 0.76798279],\n",
       "       [0.5141392 , 0.9277491 ]])"
      ]
     },
     "execution_count": 71,
     "metadata": {},
     "output_type": "execute_result"
    }
   ],
   "source": [
    "b_2D_3"
   ]
  },
  {
   "cell_type": "markdown",
   "metadata": {},
   "source": [
    "A Value error. Hstacking 4x2 wiwth 2X2.  Num rows must gree."
   ]
  },
  {
   "cell_type": "code",
   "execution_count": 74,
   "metadata": {},
   "outputs": [],
   "source": [
    "#np.hstack([b_2D_1, b_2D_3])"
   ]
  },
  {
   "cell_type": "markdown",
   "metadata": {},
   "source": [
    "A Value error because b_2D_1 and a_1D do not have the same number of dimensions\n",
    "(2D vs 1D)"
   ]
  },
  {
   "cell_type": "code",
   "execution_count": 35,
   "metadata": {},
   "outputs": [],
   "source": [
    "#np.hstack([b_2D_1, a_1D])"
   ]
  },
  {
   "cell_type": "markdown",
   "metadata": {},
   "source": [
    "Concatenating rowwise. 4x2 with 2x2 ok.  Num cols agrees."
   ]
  },
  {
   "cell_type": "code",
   "execution_count": 75,
   "metadata": {},
   "outputs": [
    {
     "data": {
      "text/plain": [
       "array([[0.58968585, 0.3780283 ],\n",
       "       [0.92069582, 0.64670967],\n",
       "       [0.717604  , 0.2530142 ],\n",
       "       [0.08233576, 0.34751584],\n",
       "       [0.74797376, 0.539302  ],\n",
       "       [0.87940524, 0.64808369]])"
      ]
     },
     "execution_count": 75,
     "metadata": {},
     "output_type": "execute_result"
    }
   ],
   "source": [
    "np.vstack([b_2D_1, b_2D_3,])"
   ]
  },
  {
   "cell_type": "markdown",
   "metadata": {},
   "source": [
    "Equivalently use `np.concatenate`"
   ]
  },
  {
   "cell_type": "code",
   "execution_count": 64,
   "metadata": {},
   "outputs": [
    {
     "data": {
      "text/plain": [
       "array([[0.51743987, 0.81270196],\n",
       "       [0.62356152, 0.15820932],\n",
       "       [0.55381664, 0.10131331],\n",
       "       [0.85201144, 0.01164034],\n",
       "       [0.30351754, 0.76798279],\n",
       "       [0.5141392 , 0.9277491 ]])"
      ]
     },
     "execution_count": 64,
     "metadata": {},
     "output_type": "execute_result"
    }
   ],
   "source": [
    "# concat 4x2 with 2x2.  Rowwise concat (like vstack)\n",
    "np.concatenate([b_2D_1, b_2D_3,])"
   ]
  },
  {
   "cell_type": "code",
   "execution_count": 66,
   "metadata": {},
   "outputs": [
    {
     "data": {
      "text/plain": [
       "array([[0.51743987, 0.81270196, 0.40230919, 0.07547772, 0.95227653],\n",
       "       [0.62356152, 0.15820932, 0.37852094, 0.96461176, 0.92121527],\n",
       "       [0.55381664, 0.10131331, 0.05654117, 0.9910145 , 0.03333896],\n",
       "       [0.85201144, 0.01164034, 0.31244837, 0.20161952, 0.53110018]])"
      ]
     },
     "execution_count": 66,
     "metadata": {},
     "output_type": "execute_result"
    }
   ],
   "source": [
    "# concat 4x2 with 4x3\n",
    "# Default value for axis is 0. So this is a value error w/o axis=1\n",
    "np.concatenate([b_2D_1, b_2D_2,],axis=1)"
   ]
  },
  {
   "cell_type": "markdown",
   "metadata": {},
   "source": [
    "#### Recognizing adjectives"
   ]
  },
  {
   "cell_type": "markdown",
   "metadata": {},
   "source": [
    "We train a  classifier to recognize adjectives just by their word shape, inspired\n",
    "by little word clusters like the following:\n",
    "\n",
    "```\n",
    "curious\n",
    "odious\n",
    "ruinous\n",
    "heinous\n",
    "```\n",
    "\n",
    "or \n",
    "\n",
    "```\n",
    "possible\n",
    "miserable\n",
    "doable\n",
    "bankable\n",
    "visible\n",
    "````\n",
    "\n",
    "or \n",
    "\n",
    "```\n",
    "baggy\n",
    "squishy\n",
    "funky\n",
    "briny\n",
    "spikey\n",
    "```\n",
    "\n",
    "or \n",
    "\n",
    "```\n",
    "salient\n",
    "extant\n",
    "constant\n",
    "divergent\n",
    "urgent\n",
    "important\n",
    "```"
   ]
  },
  {
   "cell_type": "code",
   "execution_count": 3,
   "metadata": {},
   "outputs": [],
   "source": [
    "from sklearn.feature_extraction.text import CountVectorizer\n",
    "from sklearn.model_selection import train_test_split\n",
    "from sklearn.naive_bayes import MultinomialNB\n",
    "from sklearn.linear_model import RidgeClassifier\n",
    "from sklearn.linear_model import LogisticRegression\n",
    "from sklearn.linear_model import PassiveAggressiveClassifier\n",
    "from sklearn.metrics import recall_score, precision_score\n",
    "from sklearn.metrics import accuracy_score\n",
    "from sklearn.metrics import f1_score\n",
    "from sklearn.metrics import confusion_matrix\n",
    "import numpy as np"
   ]
  },
  {
   "cell_type": "code",
   "execution_count": 4,
   "metadata": {},
   "outputs": [
    {
     "name": "stderr",
     "output_type": "stream",
     "text": [
      "[nltk_data] Downloading package brown to /Users/gawron/nltk_data...\n",
      "[nltk_data]   Package brown is already up-to-date!\n",
      "[nltk_data] Downloading package universal_tagset to\n",
      "[nltk_data]     /Users/gawron/nltk_data...\n",
      "[nltk_data]   Package universal_tagset is already up-to-date!\n"
     ]
    },
    {
     "data": {
      "text/plain": [
       "True"
      ]
     },
     "execution_count": 4,
     "metadata": {},
     "output_type": "execute_result"
    }
   ],
   "source": [
    "import nltk\n",
    "nltk.download('brown')\n",
    "nltk.download('universal_tagset')"
   ]
  },
  {
   "cell_type": "code",
   "execution_count": 5,
   "metadata": {},
   "outputs": [
    {
     "name": "stdout",
     "output_type": "stream",
     "text": [
      "6518\n",
      "43468\n"
     ]
    }
   ],
   "source": [
    "from nltk.corpus import brown\n",
    "brown_tagged = brown.tagged_words(tagset='universal')\n",
    "digit = set('01234567879')\n",
    "tagged_vocab = sorted(list(set(brown_tagged)))\n",
    "empty = set()\n",
    "punct = set(\"\\\":+;&()*\\$\\.\\,\\!/?'-\")\n",
    "\n",
    "adj_vocab = [(word,1) for (word,tag) in tagged_vocab if (tag=='ADJ') \n",
    "               and digit.intersection(word) == empty\n",
    "               and punct.intersection(word) == empty\n",
    "              ]\n",
    "other_vocab = [(word,0) for (word,tag) in tagged_vocab if (tag !='ADJ') \n",
    "               and digit.intersection(word) == empty\n",
    "               and punct.intersection(word) == empty\n",
    "               ]\n",
    "print(len(adj_vocab))\n",
    "print(len(other_vocab))"
   ]
  },
  {
   "cell_type": "code",
   "execution_count": 6,
   "metadata": {},
   "outputs": [
    {
     "name": "stdout",
     "output_type": "stream",
     "text": [
      "1161192 59962\n"
     ]
    },
    {
     "data": {
      "text/plain": [
       "[('The', 'DET'),\n",
       " ('Fulton', 'NOUN'),\n",
       " ('County', 'NOUN'),\n",
       " ('Grand', 'ADJ'),\n",
       " ('Jury', 'NOUN'),\n",
       " ('said', 'VERB'),\n",
       " ('Friday', 'NOUN'),\n",
       " ('an', 'DET'),\n",
       " ('investigation', 'NOUN'),\n",
       " ('of', 'ADP'),\n",
       " (\"Atlanta's\", 'NOUN'),\n",
       " ('recent', 'ADJ'),\n",
       " ('primary', 'NOUN'),\n",
       " ('election', 'NOUN'),\n",
       " ('produced', 'VERB'),\n",
       " ('``', '.'),\n",
       " ('no', 'DET'),\n",
       " ('evidence', 'NOUN'),\n",
       " (\"''\", '.'),\n",
       " ('that', 'ADP')]"
      ]
     },
     "execution_count": 6,
     "metadata": {},
     "output_type": "execute_result"
    }
   ],
   "source": [
    "print(len(brown_tagged),len(tagged_vocab))\n",
    "brown_tagged[:20]"
   ]
  },
  {
   "cell_type": "code",
   "execution_count": 7,
   "metadata": {},
   "outputs": [
    {
     "name": "stdout",
     "output_type": "stream",
     "text": [
      "43468 6518\n"
     ]
    },
    {
     "data": {
      "text/plain": [
       "[('Abnormal', 1),\n",
       " ('Aboveground', 1),\n",
       " ('Abstract', 1),\n",
       " ('Acceptable', 1),\n",
       " ('Accidental', 1),\n",
       " ('Acoustical', 1),\n",
       " ('Active', 1),\n",
       " ('Actual', 1),\n",
       " ('Additional', 1),\n",
       " ('Adequate', 1)]"
      ]
     },
     "execution_count": 7,
     "metadata": {},
     "output_type": "execute_result"
    }
   ],
   "source": [
    "print(len(other_vocab),len(adj_vocab))\n",
    "adj_vocab[:10]"
   ]
  },
  {
   "cell_type": "code",
   "execution_count": 9,
   "metadata": {},
   "outputs": [
    {
     "data": {
      "text/plain": [
       "[('A', 0),\n",
       " ('A', 0),\n",
       " ('A', 0),\n",
       " ('AA', 0),\n",
       " ('AAA', 0),\n",
       " ('AB', 0),\n",
       " ('ABC', 0),\n",
       " ('ABO', 0),\n",
       " ('ACS', 0),\n",
       " ('ACTH', 0)]"
      ]
     },
     "execution_count": 9,
     "metadata": {},
     "output_type": "execute_result"
    }
   ],
   "source": [
    "other_vocab[:10]"
   ]
  },
  {
   "cell_type": "code",
   "execution_count": 6,
   "metadata": {},
   "outputs": [],
   "source": [
    "# CountVectorizer:  Read up on the diff between analyzer char and char_wb.\n",
    "# As an example, with bigram features: analyzer char_wb given \"Mark\" will yield \"k \" \n",
    "# as a feat and the corresponding feature will be \"k\" with char.  Essentially\n",
    "# char_wb pads peripheral chars, thereby introducing word boundary information.\n",
    "# Since feat \"a \" means \"a\" as the last letter, this rep allows clf to learn\n",
    "# this as a female name cue.\n",
    "\n",
    "#cv = CountVectorizer(ngram_range=(1,2),analyzer='char_wb')\n",
    "#cv = CountVectorizer(ngram_range=(2,3),analyzer='char_wb')\n",
    "cv = CountVectorizer(ngram_range=(2,4),analyzer='char_wb')\n",
    "\n",
    "data = adj_vocab + other_vocab\n",
    "# A squence of strings; a sequence of labels\n",
    "words, tags = zip(*data)\n",
    "\n",
    "X_train, X_test, y_train, y_test = \\\n",
    "  train_test_split(words, tags, test_size=0.05, random_state=42)\n",
    "\n",
    "##  Train it to learn a fixed set of features\n",
    "X_train_m = cv.fit_transform(X_train)\n",
    "\n",
    "## Now use only those features on the test set\n",
    "X_test_m = cv.transform(X_test)"
   ]
  },
  {
   "cell_type": "code",
   "execution_count": 43,
   "metadata": {},
   "outputs": [
    {
     "data": {
      "text/plain": [
       "['ALLOW_THREADS',\n",
       " 'AxisError',\n",
       " 'BUFSIZE',\n",
       " 'CLIP',\n",
       " 'ComplexWarning',\n",
       " 'DataSource',\n",
       " 'ERR_CALL',\n",
       " 'ERR_DEFAULT',\n",
       " 'ERR_IGNORE',\n",
       " 'ERR_LOG',\n",
       " 'ERR_PRINT',\n",
       " 'ERR_RAISE',\n",
       " 'ERR_WARN',\n",
       " 'FLOATING_POINT_SUPPORT',\n",
       " 'FPE_DIVIDEBYZERO',\n",
       " 'FPE_INVALID',\n",
       " 'FPE_OVERFLOW',\n",
       " 'FPE_UNDERFLOW',\n",
       " 'False_',\n",
       " 'Inf',\n",
       " 'Infinity',\n",
       " 'MAXDIMS',\n",
       " 'MAY_SHARE_BOUNDS',\n",
       " 'MAY_SHARE_EXACT',\n",
       " 'ModuleDeprecationWarning',\n",
       " 'NAN',\n",
       " 'NINF',\n",
       " 'NZERO',\n",
       " 'NaN',\n",
       " 'PINF',\n",
       " 'PZERO',\n",
       " 'RAISE',\n",
       " 'RankWarning',\n",
       " 'SHIFT_DIVIDEBYZERO',\n",
       " 'SHIFT_INVALID',\n",
       " 'SHIFT_OVERFLOW',\n",
       " 'SHIFT_UNDERFLOW',\n",
       " 'ScalarType',\n",
       " 'Tester',\n",
       " 'TooHardError',\n",
       " 'True_',\n",
       " 'UFUNC_BUFSIZE_DEFAULT',\n",
       " 'UFUNC_PYVALS_NAME',\n",
       " 'VisibleDeprecationWarning',\n",
       " 'WRAP',\n",
       " '_CopyMode',\n",
       " '_NoValue',\n",
       " '_UFUNC_API',\n",
       " '__NUMPY_SETUP__',\n",
       " '__all__',\n",
       " '__builtins__',\n",
       " '__cached__',\n",
       " '__config__',\n",
       " '__deprecated_attrs__',\n",
       " '__dir__',\n",
       " '__doc__',\n",
       " '__expired_functions__',\n",
       " '__file__',\n",
       " '__getattr__',\n",
       " '__git_version__',\n",
       " '__loader__',\n",
       " '__mkl_version__',\n",
       " '__name__',\n",
       " '__package__',\n",
       " '__path__',\n",
       " '__spec__',\n",
       " '__version__',\n",
       " '_add_newdoc_ufunc',\n",
       " '_distributor_init',\n",
       " '_financial_names',\n",
       " '_globals',\n",
       " '_mat',\n",
       " '_pyinstaller_hooks_dir',\n",
       " '_pytesttester',\n",
       " '_version',\n",
       " 'abs',\n",
       " 'absolute',\n",
       " 'add',\n",
       " 'add_docstring',\n",
       " 'add_newdoc',\n",
       " 'add_newdoc_ufunc',\n",
       " 'all',\n",
       " 'allclose',\n",
       " 'alltrue',\n",
       " 'amax',\n",
       " 'amin',\n",
       " 'angle',\n",
       " 'any',\n",
       " 'append',\n",
       " 'apply_along_axis',\n",
       " 'apply_over_axes',\n",
       " 'arange',\n",
       " 'arccos',\n",
       " 'arccosh',\n",
       " 'arcsin',\n",
       " 'arcsinh',\n",
       " 'arctan',\n",
       " 'arctan2',\n",
       " 'arctanh',\n",
       " 'argmax',\n",
       " 'argmin',\n",
       " 'argpartition',\n",
       " 'argsort',\n",
       " 'argwhere',\n",
       " 'around',\n",
       " 'array',\n",
       " 'array2string',\n",
       " 'array_equal',\n",
       " 'array_equiv',\n",
       " 'array_repr',\n",
       " 'array_split',\n",
       " 'array_str',\n",
       " 'asanyarray',\n",
       " 'asarray',\n",
       " 'asarray_chkfinite',\n",
       " 'ascontiguousarray',\n",
       " 'asfarray',\n",
       " 'asfortranarray',\n",
       " 'asmatrix',\n",
       " 'atleast_1d',\n",
       " 'atleast_2d',\n",
       " 'atleast_3d',\n",
       " 'average',\n",
       " 'bartlett',\n",
       " 'base_repr',\n",
       " 'binary_repr',\n",
       " 'bincount',\n",
       " 'bitwise_and',\n",
       " 'bitwise_not',\n",
       " 'bitwise_or',\n",
       " 'bitwise_xor',\n",
       " 'blackman',\n",
       " 'block',\n",
       " 'bmat',\n",
       " 'bool8',\n",
       " 'bool_',\n",
       " 'broadcast',\n",
       " 'broadcast_arrays',\n",
       " 'broadcast_shapes',\n",
       " 'broadcast_to',\n",
       " 'busday_count',\n",
       " 'busday_offset',\n",
       " 'busdaycalendar',\n",
       " 'byte',\n",
       " 'byte_bounds',\n",
       " 'bytes0',\n",
       " 'bytes_',\n",
       " 'c_',\n",
       " 'can_cast',\n",
       " 'cast',\n",
       " 'cbrt',\n",
       " 'cdouble',\n",
       " 'ceil',\n",
       " 'cfloat',\n",
       " 'char',\n",
       " 'character',\n",
       " 'chararray',\n",
       " 'choose',\n",
       " 'clip',\n",
       " 'clongdouble',\n",
       " 'clongfloat',\n",
       " 'column_stack',\n",
       " 'common_type',\n",
       " 'compare_chararrays',\n",
       " 'compat',\n",
       " 'complex128',\n",
       " 'complex256',\n",
       " 'complex64',\n",
       " 'complex_',\n",
       " 'complexfloating',\n",
       " 'compress',\n",
       " 'concatenate',\n",
       " 'conj',\n",
       " 'conjugate',\n",
       " 'convolve',\n",
       " 'copy',\n",
       " 'copysign',\n",
       " 'copyto',\n",
       " 'core',\n",
       " 'corrcoef',\n",
       " 'correlate',\n",
       " 'cos',\n",
       " 'cosh',\n",
       " 'count_nonzero',\n",
       " 'cov',\n",
       " 'cross',\n",
       " 'csingle',\n",
       " 'ctypeslib',\n",
       " 'cumprod',\n",
       " 'cumproduct',\n",
       " 'cumsum',\n",
       " 'datetime64',\n",
       " 'datetime_as_string',\n",
       " 'datetime_data',\n",
       " 'deg2rad',\n",
       " 'degrees',\n",
       " 'delete',\n",
       " 'deprecate',\n",
       " 'deprecate_with_doc',\n",
       " 'diag',\n",
       " 'diag_indices',\n",
       " 'diag_indices_from',\n",
       " 'diagflat',\n",
       " 'diagonal',\n",
       " 'diff',\n",
       " 'digitize',\n",
       " 'disp',\n",
       " 'divide',\n",
       " 'divmod',\n",
       " 'dot',\n",
       " 'double',\n",
       " 'dsplit',\n",
       " 'dstack',\n",
       " 'dtype',\n",
       " 'e',\n",
       " 'ediff1d',\n",
       " 'einsum',\n",
       " 'einsum_path',\n",
       " 'emath',\n",
       " 'empty',\n",
       " 'empty_like',\n",
       " 'equal',\n",
       " 'error_message',\n",
       " 'errstate',\n",
       " 'euler_gamma',\n",
       " 'exp',\n",
       " 'exp2',\n",
       " 'expand_dims',\n",
       " 'expm1',\n",
       " 'extract',\n",
       " 'eye',\n",
       " 'fabs',\n",
       " 'fastCopyAndTranspose',\n",
       " 'fft',\n",
       " 'fill_diagonal',\n",
       " 'find_common_type',\n",
       " 'finfo',\n",
       " 'fix',\n",
       " 'flatiter',\n",
       " 'flatnonzero',\n",
       " 'flexible',\n",
       " 'flip',\n",
       " 'fliplr',\n",
       " 'flipud',\n",
       " 'float128',\n",
       " 'float16',\n",
       " 'float32',\n",
       " 'float64',\n",
       " 'float_',\n",
       " 'float_power',\n",
       " 'floating',\n",
       " 'floor',\n",
       " 'floor_divide',\n",
       " 'fmax',\n",
       " 'fmin',\n",
       " 'fmod',\n",
       " 'format_float_positional',\n",
       " 'format_float_scientific',\n",
       " 'format_parser',\n",
       " 'frexp',\n",
       " 'from_dlpack',\n",
       " 'frombuffer',\n",
       " 'fromfile',\n",
       " 'fromfunction',\n",
       " 'fromiter',\n",
       " 'frompyfunc',\n",
       " 'fromregex',\n",
       " 'fromstring',\n",
       " 'full',\n",
       " 'full_like',\n",
       " 'gcd',\n",
       " 'generic',\n",
       " 'genfromtxt',\n",
       " 'geomspace',\n",
       " 'get_array_wrap',\n",
       " 'get_include',\n",
       " 'get_printoptions',\n",
       " 'getbufsize',\n",
       " 'geterr',\n",
       " 'geterrcall',\n",
       " 'geterrobj',\n",
       " 'gradient',\n",
       " 'greater',\n",
       " 'greater_equal',\n",
       " 'half',\n",
       " 'hamming',\n",
       " 'hanning',\n",
       " 'heaviside',\n",
       " 'histogram',\n",
       " 'histogram2d',\n",
       " 'histogram_bin_edges',\n",
       " 'histogramdd',\n",
       " 'hsplit',\n",
       " 'hstack',\n",
       " 'hypot',\n",
       " 'i0',\n",
       " 'identity',\n",
       " 'iinfo',\n",
       " 'imag',\n",
       " 'in1d',\n",
       " 'index_exp',\n",
       " 'indices',\n",
       " 'inexact',\n",
       " 'inf',\n",
       " 'info',\n",
       " 'infty',\n",
       " 'inner',\n",
       " 'insert',\n",
       " 'int0',\n",
       " 'int16',\n",
       " 'int32',\n",
       " 'int64',\n",
       " 'int8',\n",
       " 'int_',\n",
       " 'intc',\n",
       " 'integer',\n",
       " 'interp',\n",
       " 'intersect1d',\n",
       " 'intp',\n",
       " 'invert',\n",
       " 'is_busday',\n",
       " 'isclose',\n",
       " 'iscomplex',\n",
       " 'iscomplexobj',\n",
       " 'isfinite',\n",
       " 'isfortran',\n",
       " 'isin',\n",
       " 'isinf',\n",
       " 'isnan',\n",
       " 'isnat',\n",
       " 'isneginf',\n",
       " 'isposinf',\n",
       " 'isreal',\n",
       " 'isrealobj',\n",
       " 'isscalar',\n",
       " 'issctype',\n",
       " 'issubclass_',\n",
       " 'issubdtype',\n",
       " 'issubsctype',\n",
       " 'iterable',\n",
       " 'ix_',\n",
       " 'kaiser',\n",
       " 'kron',\n",
       " 'lcm',\n",
       " 'ldexp',\n",
       " 'left_shift',\n",
       " 'less',\n",
       " 'less_equal',\n",
       " 'lexsort',\n",
       " 'lib',\n",
       " 'linalg',\n",
       " 'linspace',\n",
       " 'little_endian',\n",
       " 'load',\n",
       " 'loadtxt',\n",
       " 'log',\n",
       " 'log10',\n",
       " 'log1p',\n",
       " 'log2',\n",
       " 'logaddexp',\n",
       " 'logaddexp2',\n",
       " 'logical_and',\n",
       " 'logical_not',\n",
       " 'logical_or',\n",
       " 'logical_xor',\n",
       " 'logspace',\n",
       " 'longcomplex',\n",
       " 'longdouble',\n",
       " 'longfloat',\n",
       " 'longlong',\n",
       " 'lookfor',\n",
       " 'ma',\n",
       " 'mask_indices',\n",
       " 'mat',\n",
       " 'math',\n",
       " 'matmul',\n",
       " 'matrix',\n",
       " 'matrixlib',\n",
       " 'max',\n",
       " 'maximum',\n",
       " 'maximum_sctype',\n",
       " 'may_share_memory',\n",
       " 'mean',\n",
       " 'median',\n",
       " 'memmap',\n",
       " 'meshgrid',\n",
       " 'mgrid',\n",
       " 'min',\n",
       " 'min_scalar_type',\n",
       " 'minimum',\n",
       " 'mintypecode',\n",
       " 'mkl',\n",
       " 'mod',\n",
       " 'modf',\n",
       " 'moveaxis',\n",
       " 'msort',\n",
       " 'multiply',\n",
       " 'nan',\n",
       " 'nan_to_num',\n",
       " 'nanargmax',\n",
       " 'nanargmin',\n",
       " 'nancumprod',\n",
       " 'nancumsum',\n",
       " 'nanmax',\n",
       " 'nanmean',\n",
       " 'nanmedian',\n",
       " 'nanmin',\n",
       " 'nanpercentile',\n",
       " 'nanprod',\n",
       " 'nanquantile',\n",
       " 'nanstd',\n",
       " 'nansum',\n",
       " 'nanvar',\n",
       " 'nbytes',\n",
       " 'ndarray',\n",
       " 'ndenumerate',\n",
       " 'ndim',\n",
       " 'ndindex',\n",
       " 'nditer',\n",
       " 'negative',\n",
       " 'nested_iters',\n",
       " 'newaxis',\n",
       " 'nextafter',\n",
       " 'nonzero',\n",
       " 'not_equal',\n",
       " 'numarray',\n",
       " 'number',\n",
       " 'obj2sctype',\n",
       " 'object0',\n",
       " 'object_',\n",
       " 'ogrid',\n",
       " 'oldnumeric',\n",
       " 'ones',\n",
       " 'ones_like',\n",
       " 'os',\n",
       " 'outer',\n",
       " 'packbits',\n",
       " 'pad',\n",
       " 'partition',\n",
       " 'percentile',\n",
       " 'pi',\n",
       " 'piecewise',\n",
       " 'place',\n",
       " 'poly',\n",
       " 'poly1d',\n",
       " 'polyadd',\n",
       " 'polyder',\n",
       " 'polydiv',\n",
       " 'polyfit',\n",
       " 'polyint',\n",
       " 'polymul',\n",
       " 'polynomial',\n",
       " 'polysub',\n",
       " 'polyval',\n",
       " 'positive',\n",
       " 'power',\n",
       " 'printoptions',\n",
       " 'prod',\n",
       " 'product',\n",
       " 'promote_types',\n",
       " 'ptp',\n",
       " 'put',\n",
       " 'put_along_axis',\n",
       " 'putmask',\n",
       " 'quantile',\n",
       " 'r_',\n",
       " 'rad2deg',\n",
       " 'radians',\n",
       " 'random',\n",
       " 'ravel',\n",
       " 'ravel_multi_index',\n",
       " 'real',\n",
       " 'real_if_close',\n",
       " 'rec',\n",
       " 'recarray',\n",
       " 'recfromcsv',\n",
       " 'recfromtxt',\n",
       " 'reciprocal',\n",
       " 'record',\n",
       " 'remainder',\n",
       " 'repeat',\n",
       " 'require',\n",
       " 'reshape',\n",
       " 'resize',\n",
       " 'result_type',\n",
       " 'right_shift',\n",
       " 'rint',\n",
       " 'roll',\n",
       " 'rollaxis',\n",
       " 'roots',\n",
       " 'rot90',\n",
       " 'round',\n",
       " 'round_',\n",
       " 'row_stack',\n",
       " 's_',\n",
       " 'safe_eval',\n",
       " 'save',\n",
       " 'savetxt',\n",
       " 'savez',\n",
       " 'savez_compressed',\n",
       " 'sctype2char',\n",
       " 'sctypeDict',\n",
       " 'sctypes',\n",
       " 'searchsorted',\n",
       " 'select',\n",
       " 'set_numeric_ops',\n",
       " 'set_printoptions',\n",
       " 'set_string_function',\n",
       " 'setbufsize',\n",
       " 'setdiff1d',\n",
       " 'seterr',\n",
       " 'seterrcall',\n",
       " 'seterrobj',\n",
       " 'setxor1d',\n",
       " 'shape',\n",
       " 'shares_memory',\n",
       " 'short',\n",
       " 'show_config',\n",
       " 'sign',\n",
       " 'signbit',\n",
       " 'signedinteger',\n",
       " 'sin',\n",
       " 'sinc',\n",
       " 'single',\n",
       " 'singlecomplex',\n",
       " 'sinh',\n",
       " 'size',\n",
       " 'sometrue',\n",
       " 'sort',\n",
       " 'sort_complex',\n",
       " 'source',\n",
       " 'spacing',\n",
       " 'split',\n",
       " 'sqrt',\n",
       " 'square',\n",
       " 'squeeze',\n",
       " 'stack',\n",
       " 'std',\n",
       " 'str0',\n",
       " 'str_',\n",
       " 'string_',\n",
       " 'subtract',\n",
       " 'sum',\n",
       " 'swapaxes',\n",
       " 'sys',\n",
       " 'take',\n",
       " 'take_along_axis',\n",
       " 'tan',\n",
       " 'tanh',\n",
       " 'tensordot',\n",
       " 'test',\n",
       " 'testing',\n",
       " 'tile',\n",
       " 'timedelta64',\n",
       " 'trace',\n",
       " 'tracemalloc_domain',\n",
       " 'transpose',\n",
       " 'trapz',\n",
       " 'tri',\n",
       " 'tril',\n",
       " 'tril_indices',\n",
       " 'tril_indices_from',\n",
       " 'trim_zeros',\n",
       " 'triu',\n",
       " 'triu_indices',\n",
       " 'triu_indices_from',\n",
       " 'true_divide',\n",
       " 'trunc',\n",
       " 'typecodes',\n",
       " 'typename',\n",
       " 'ubyte',\n",
       " 'ufunc',\n",
       " 'uint',\n",
       " 'uint0',\n",
       " 'uint16',\n",
       " 'uint32',\n",
       " 'uint64',\n",
       " 'uint8',\n",
       " 'uintc',\n",
       " 'uintp',\n",
       " 'ulonglong',\n",
       " 'unicode_',\n",
       " 'union1d',\n",
       " 'unique',\n",
       " 'unpackbits',\n",
       " 'unravel_index',\n",
       " 'unsignedinteger',\n",
       " 'unwrap',\n",
       " 'use_hugepage',\n",
       " 'ushort',\n",
       " 'vander',\n",
       " 'var',\n",
       " 'vdot',\n",
       " 'vectorize',\n",
       " 'version',\n",
       " 'void',\n",
       " 'void0',\n",
       " 'vsplit',\n",
       " 'vstack',\n",
       " 'w',\n",
       " 'warnings',\n",
       " 'where',\n",
       " 'who',\n",
       " 'zeros',\n",
       " 'zeros_like']"
      ]
     },
     "execution_count": 43,
     "metadata": {},
     "output_type": "execute_result"
    }
   ],
   "source": [
    "dir(np)"
   ]
  },
  {
   "cell_type": "code",
   "execution_count": 42,
   "metadata": {},
   "outputs": [
    {
     "ename": "AttributeError",
     "evalue": "module 'numpy' has no attribute 'to_dense'",
     "output_type": "error",
     "traceback": [
      "\u001b[0;31m---------------------------------------------------------------------------\u001b[0m",
      "\u001b[0;31mAttributeError\u001b[0m                            Traceback (most recent call last)",
      "\u001b[0;32m/var/folders/w9/bx4mylnd27g_kqqgn5hrn2x40000gr/T/ipykernel_65693/3055499993.py\u001b[0m in \u001b[0;36m<module>\u001b[0;34m\u001b[0m\n\u001b[0;32m----> 1\u001b[0;31m \u001b[0mnp\u001b[0m\u001b[0;34m.\u001b[0m\u001b[0mto_dense\u001b[0m\u001b[0;34m(\u001b[0m\u001b[0mX_train\u001b[0m\u001b[0;34m)\u001b[0m\u001b[0;34m.\u001b[0m\u001b[0mshape\u001b[0m\u001b[0;34m\u001b[0m\u001b[0;34m\u001b[0m\u001b[0m\n\u001b[0m",
      "\u001b[0;32m~/opt/anaconda3/envs/p310/lib/python3.10/site-packages/numpy/__init__.py\u001b[0m in \u001b[0;36m__getattr__\u001b[0;34m(attr)\u001b[0m\n\u001b[1;32m    309\u001b[0m             \u001b[0;32mreturn\u001b[0m \u001b[0mTester\u001b[0m\u001b[0;34m\u001b[0m\u001b[0;34m\u001b[0m\u001b[0m\n\u001b[1;32m    310\u001b[0m \u001b[0;34m\u001b[0m\u001b[0m\n\u001b[0;32m--> 311\u001b[0;31m         raise AttributeError(\"module {!r} has no attribute \"\n\u001b[0m\u001b[1;32m    312\u001b[0m                              \"{!r}\".format(__name__, attr))\n\u001b[1;32m    313\u001b[0m \u001b[0;34m\u001b[0m\u001b[0m\n",
      "\u001b[0;31mAttributeError\u001b[0m: module 'numpy' has no attribute 'to_dense'"
     ]
    }
   ],
   "source": [
    "np.to_dense(X_train).shape"
   ]
  },
  {
   "cell_type": "code",
   "execution_count": 35,
   "metadata": {},
   "outputs": [
    {
     "data": {
      "text/plain": [
       "40032"
      ]
     },
     "execution_count": 35,
     "metadata": {},
     "output_type": "execute_result"
    }
   ],
   "source": [
    "len(cv.get_feature_names_out())"
   ]
  },
  {
   "cell_type": "code",
   "execution_count": 7,
   "metadata": {},
   "outputs": [
    {
     "name": "stdout",
     "output_type": "stream",
     "text": [
      "dubl\n",
      "dubo\n",
      "duc\n",
      "duc \n",
      "duca\n",
      "duce\n",
      "duci\n",
      "duck\n",
      "ducl\n",
      "duct\n",
      "dud\n",
      "dud \n",
      "dudl\n",
      "duds\n",
      "due\n",
      "due \n",
      "dued\n",
      "duel\n",
      "dues\n",
      "duet\n",
      "duf\n",
      "duf \n",
      "duff\n",
      "dufr\n",
      "dug\n",
      "dug \n",
      "duga\n",
      "dugn\n",
      "dugo\n",
      "duh\n",
      "duh \n",
      "duha\n",
      "dui\n",
      "duin\n",
      "duis\n",
      "duit\n",
      "duk\n",
      "duke\n",
      "dul\n",
      "dula\n",
      "dulc\n",
      "dule\n",
      "dulg\n",
      "duli\n",
      "dull\n",
      "dulo\n",
      "dult\n",
      "dulu\n",
      "duly\n",
      "dum\n"
     ]
    }
   ],
   "source": [
    "for ft in cv.get_feature_names_out()[10000:10050]:\n",
    "    print(ft)"
   ]
  },
  {
   "cell_type": "code",
   "execution_count": 45,
   "metadata": {
    "scrolled": false
   },
   "outputs": [
    {
     "data": {
      "text/plain": [
       "(47486, 40032)"
      ]
     },
     "execution_count": 45,
     "metadata": {},
     "output_type": "execute_result"
    }
   ],
   "source": [
    "X_train_m.shape"
   ]
  },
  {
   "cell_type": "code",
   "execution_count": 46,
   "metadata": {
    "scrolled": true
   },
   "outputs": [
    {
     "data": {
      "text/plain": [
       "21"
      ]
     },
     "execution_count": 46,
     "metadata": {},
     "output_type": "execute_result"
    }
   ],
   "source": [
    "X_train_m.todense()[0,:].sum()"
   ]
  },
  {
   "cell_type": "code",
   "execution_count": 48,
   "metadata": {},
   "outputs": [
    {
     "data": {
      "text/plain": [
       "0.9288"
      ]
     },
     "execution_count": 48,
     "metadata": {},
     "output_type": "execute_result"
    }
   ],
   "source": [
    "#clf = MultinomialNB()\n",
    "#clf = RidgeClassifier()\n",
    "clf = LogisticRegression(solver='liblinear')\n",
    "clf.fit(X_train_m, y_train)\n",
    "\n",
    "# Test\n",
    "y_predicted = clf.predict(X_test_m)\n",
    "\n",
    "# Optional but convenient below\n",
    "y_test = np.array(y_test)\n",
    "accuracy_score(y_predicted,y_test)"
   ]
  },
  {
   "cell_type": "markdown",
   "metadata": {},
   "source": [
    "This Accuracy score is not as impressive as it looks at first.\n",
    "\n",
    "Note the percentage of non adjectives is:"
   ]
  },
  {
   "cell_type": "code",
   "execution_count": 51,
   "metadata": {},
   "outputs": [
    {
     "data": {
      "text/plain": [
       "0.8691403782167375"
      ]
     },
     "execution_count": 51,
     "metadata": {},
     "output_type": "execute_result"
    }
   ],
   "source": [
    "1- sum(y_train)/len(y_train)"
   ]
  },
  {
   "cell_type": "markdown",
   "metadata": {},
   "source": [
    "And slightly greater in the test set:"
   ]
  },
  {
   "cell_type": "code",
   "execution_count": 52,
   "metadata": {},
   "outputs": [
    {
     "data": {
      "text/plain": [
       "0.8784"
      ]
     },
     "execution_count": 52,
     "metadata": {},
     "output_type": "execute_result"
    }
   ],
   "source": [
    "1- sum(y_test)/len(y_test)"
   ]
  },
  {
   "cell_type": "markdown",
   "metadata": {},
   "source": [
    "which means one can acheive an accuracy of nearly 88% by always guessing nonAdj.\n",
    "\n",
    "A somewhat more promising evaluation is the following informal one:"
   ]
  },
  {
   "cell_type": "code",
   "execution_count": 9,
   "metadata": {},
   "outputs": [
    {
     "data": {
      "text/plain": [
       "array([1, 1, 1, 1, 0, 1, 1])"
      ]
     },
     "execution_count": 9,
     "metadata": {},
     "output_type": "execute_result"
    }
   ],
   "source": [
    "ticklers = ['onerous','wettest', 'salient', 'farmable','kinky','exultant','sextant']\n",
    "test2 = cv.transform(ticklers)\n",
    "clf.predict(test2)"
   ]
  },
  {
   "cell_type": "code",
   "execution_count": 10,
   "metadata": {},
   "outputs": [
    {
     "data": {
      "text/plain": [
       "[]"
      ]
     },
     "execution_count": 10,
     "metadata": {},
     "output_type": "execute_result"
    }
   ],
   "source": [
    "[wd for wd in ticklers if wd in X_train]"
   ]
  },
  {
   "cell_type": "markdown",
   "metadata": {},
   "source": [
    "##  Precision,  Accuracy, and Recall\n",
    "\n",
    "The next cell takes the first step toward testing a classifier a little more seriously.  It defines some code for evaluating classifier output.  The evaluation metrics defined are precision, recall, and accuracy.  Call the examples the system predicts to be positive (whether correctly or not) ppos and and the examples it predicts to be negative pneg; consider the following performance on 100 examples:\n",
    "\n",
    "\n",
    "$$\\begin{array}[t]{ccc} &  ppos &pneg\\\\ pos& 31 & 14\\\\ neg & 5  & 50 \\end{array}$$\n",
    "\n",
    "The performance of the system has been sorted into 4 classes:\n",
    "\n",
    "\n",
    "$$\\begin{array}[t]{ccc} &  ppos &pneg\\\\ pos& tp & fn\\\\ neg & fp & tn \\end{array}$$\n",
    "\n",
    "\n",
    "The $tp$ and $tn$ examples (true positive and true negative) are those the system labeled correctly,\n",
    "while $fp$ and $fn$ (false positive and false negative) are those labeled incorrectly.\n",
    "Let N stand for the total number of examples,\n",
    "100 in our case. \n",
    "\n",
    "The three most important measures of system performance are:\n",
    "  \n",
    "  1. **Accuracy**: Accuracy is the percentage of correct examples out of the total corpus \n",
    "\n",
    "  $$\\text{Acc} = \\frac{tp+tn}{N} = \\frac{31 +50}{100}$$ \n",
    "  \n",
    "  This is .81 in our case.\n",
    "\n",
    "  2. **Precision**: Precision is the percentage of true positives out of all positive guesses the system made \n",
    "  \n",
    "  $$\\text{Prec}=\\frac{tp}{pp} = = \\frac{tp}{tp + fp} =  \\frac{31}{31+5}.$$\n",
    "  \n",
    "  This is .86 in our case.  Precision is sometimes called **positive predictive value**.\n",
    "  \n",
    "  3. **Recall**: Recall is the percentage of true positives out of all positives (the True Positive Rate,\n",
    "  used in computing AUC score below):\n",
    "  \n",
    "  $$\\text{Rec} = \\text{TPR}  = \\frac{tp}{p} = \\frac{tp}{tp + fn} = \\frac{31}{31+14}.$$\n",
    "  \n",
    "  This is .69 in our case. Recall is sometimes called **sensitivity** or **hit rate** or simply **true positive rate**. It can be described as the probability that a relevant instance will be tagged as relevant.\n",
    "  \n",
    "  4.  **False Negative Rate**:  \n",
    "\n",
    "  $$ \\text{FNR} = \\frac{fn}{tp + fn} = \\frac{31}{31+14} = 1 - Rec $$\n",
    "  \n",
    "  5. **False Positive Rate** (used in computing AUC score below)\n",
    "  \n",
    "   $$ \\text{FPR} = \\frac{fp}{fp + tn} = \\frac{31}{31+14} = 1 - TNR $$"
   ]
  },
  {
   "cell_type": "code",
   "execution_count": 49,
   "metadata": {},
   "outputs": [
    {
     "name": "stdout",
     "output_type": "stream",
     "text": [
      "Precision(adj): 0.76 Recall(adj): 0.60\n",
      "Precision(non): 0.95 Recall(non): 0.97\n"
     ]
    }
   ],
   "source": [
    "# Eval metrics\n",
    "precision_a = precision_score(y_test,y_predicted)\n",
    "recall_a = recall_score(y_test,y_predicted)\n",
    "precision_o = precision_score(y_test,y_predicted,pos_label=0)\n",
    "recall_o = recall_score(y_test,y_predicted,pos_label=0)\n",
    "\n",
    "print(f\"Precision(adj): {precision_a:.2f} Recall(adj): {recall_a:.2f}\")\n",
    "print(f\"Precision(non): {precision_o:.2f} Recall(non): {recall_o:.2f}\")"
   ]
  },
  {
   "cell_type": "markdown",
   "metadata": {},
   "source": [
    "#### Results\n",
    "\n",
    "Multinomial NB\n",
    "\n",
    "```\n",
    "Precision(adj): 0.58 Recall(adj): 0.61\n",
    "Precision(non): 0.95 Recall(non): 0.94\n",
    "```\n",
    "\n",
    "Ridge\n",
    "\n",
    "```\n",
    "Precision(adj): 0.71 Recall(adj): 0.62\n",
    "Precision(non): 0.95 Recall(non): 0.96\n",
    "```\n",
    "\n",
    "Log. Regr:\n",
    "\n",
    "```\n",
    "Precision(adj): 0.76 Recall(adj): 0.60\n",
    "Precision(non): 0.95 Recall(non): 0.97\n",
    "```"
   ]
  },
  {
   "cell_type": "code",
   "execution_count": 12,
   "metadata": {},
   "outputs": [
    {
     "data": {
      "text/plain": [
       "array([[ 182,  122],\n",
       "       [  56, 2140]])"
      ]
     },
     "execution_count": 12,
     "metadata": {},
     "output_type": "execute_result"
    }
   ],
   "source": [
    "###         | ppos    pneg\n",
    "### ------------------------------\n",
    "###   pos   |  tp       fn \n",
    "###   neg   |  fp       tn\n",
    "\n",
    "#array([[ 182,  122],\n",
    "#     [  56, 2140]])\n",
    "\n",
    "cm = confusion_matrix(y_test,y_predicted,labels=[1,0])\n",
    "cm"
   ]
  },
  {
   "cell_type": "markdown",
   "metadata": {},
   "source": [
    "Display can be facilitated using pandas, with color optionally added."
   ]
  },
  {
   "cell_type": "code",
   "execution_count": 13,
   "metadata": {},
   "outputs": [
    {
     "data": {
      "text/html": [
       "<style type=\"text/css\">\n",
       "#T_efb30_row0_col0, #T_efb30_row1_col1 {\n",
       "  background-color: #08306b;\n",
       "  color: #f1f1f1;\n",
       "}\n",
       "#T_efb30_row0_col1, #T_efb30_row1_col0 {\n",
       "  background-color: #f7fbff;\n",
       "  color: #000000;\n",
       "}\n",
       "</style>\n",
       "<table id=\"T_efb30\">\n",
       "  <thead>\n",
       "    <tr>\n",
       "      <th class=\"blank level0\" >&nbsp;</th>\n",
       "      <th id=\"T_efb30_level0_col0\" class=\"col_heading level0 col0\" >ppos</th>\n",
       "      <th id=\"T_efb30_level0_col1\" class=\"col_heading level0 col1\" >pneg</th>\n",
       "    </tr>\n",
       "  </thead>\n",
       "  <tbody>\n",
       "    <tr>\n",
       "      <th id=\"T_efb30_level0_row0\" class=\"row_heading level0 row0\" >pos</th>\n",
       "      <td id=\"T_efb30_row0_col0\" class=\"data row0 col0\" >182</td>\n",
       "      <td id=\"T_efb30_row0_col1\" class=\"data row0 col1\" >122</td>\n",
       "    </tr>\n",
       "    <tr>\n",
       "      <th id=\"T_efb30_level0_row1\" class=\"row_heading level0 row1\" >neg</th>\n",
       "      <td id=\"T_efb30_row1_col0\" class=\"data row1 col0\" >56</td>\n",
       "      <td id=\"T_efb30_row1_col1\" class=\"data row1 col1\" >2140</td>\n",
       "    </tr>\n",
       "  </tbody>\n",
       "</table>\n"
      ],
      "text/plain": [
       "<pandas.io.formats.style.Styler at 0x7fedaa0c9420>"
      ]
     },
     "execution_count": 13,
     "metadata": {},
     "output_type": "execute_result"
    }
   ],
   "source": [
    "import pandas as pd\n",
    "cm_df = pd.DataFrame(cm,columns = ('ppos','pneg'),index=('pos','neg'))\n",
    "cm_df.style.background_gradient(cmap='Blues')"
   ]
  },
  {
   "cell_type": "markdown",
   "metadata": {},
   "source": [
    "Also of use are the two normalized confusion matrices:"
   ]
  },
  {
   "cell_type": "markdown",
   "metadata": {},
   "source": [
    "Normalizing by row, so \n",
    "is the value in the pos row,ppos columm **recall** or **precision**?\n",
    "\n",
    "$$\n",
    "182/(182 + 122)  = tp/(tp + fn)\n",
    "$$\n",
    "\n",
    "What percentage of the positives did we predict to be positive."
   ]
  },
  {
   "cell_type": "code",
   "execution_count": 14,
   "metadata": {},
   "outputs": [
    {
     "data": {
      "text/html": [
       "<style type=\"text/css\">\n",
       "#T_f8101_row0_col0, #T_f8101_row1_col1 {\n",
       "  background-color: #08306b;\n",
       "  color: #f1f1f1;\n",
       "}\n",
       "#T_f8101_row0_col1, #T_f8101_row1_col0 {\n",
       "  background-color: #f7fbff;\n",
       "  color: #000000;\n",
       "}\n",
       "</style>\n",
       "<table id=\"T_f8101\">\n",
       "  <thead>\n",
       "    <tr>\n",
       "      <th class=\"blank level0\" >&nbsp;</th>\n",
       "      <th id=\"T_f8101_level0_col0\" class=\"col_heading level0 col0\" >ppos</th>\n",
       "      <th id=\"T_f8101_level0_col1\" class=\"col_heading level0 col1\" >pneg</th>\n",
       "    </tr>\n",
       "  </thead>\n",
       "  <tbody>\n",
       "    <tr>\n",
       "      <th id=\"T_f8101_level0_row0\" class=\"row_heading level0 row0\" >pos</th>\n",
       "      <td id=\"T_f8101_row0_col0\" class=\"data row0 col0\" >0.598684</td>\n",
       "      <td id=\"T_f8101_row0_col1\" class=\"data row0 col1\" >0.401316</td>\n",
       "    </tr>\n",
       "    <tr>\n",
       "      <th id=\"T_f8101_level0_row1\" class=\"row_heading level0 row1\" >neg</th>\n",
       "      <td id=\"T_f8101_row1_col0\" class=\"data row1 col0\" >0.025501</td>\n",
       "      <td id=\"T_f8101_row1_col1\" class=\"data row1 col1\" >0.974499</td>\n",
       "    </tr>\n",
       "  </tbody>\n",
       "</table>\n"
      ],
      "text/plain": [
       "<pandas.io.formats.style.Styler at 0x7fed697a7a30>"
      ]
     },
     "execution_count": 14,
     "metadata": {},
     "output_type": "execute_result"
    }
   ],
   "source": [
    "cm_n = confusion_matrix(y_test,y_predicted,normalize='true',labels=[1,0])\n",
    "cm_n_df = pd.DataFrame(cm_n,columns = ('ppos','pneg'),index=('pos','neg'))\n",
    "#cmap=plt.cm.Blues,\n",
    "cm_n_df.style.background_gradient(cmap='Blues')"
   ]
  },
  {
   "cell_type": "markdown",
   "metadata": {},
   "source": [
    "Normalizing by column, so \n",
    "is the value in the pos row,ppos columm **recall** or **precision**?\n",
    "\n",
    "$$\n",
    "182/(182 + 56) = tp/(tp + fp)\n",
    "$$\n",
    "\n",
    "What percentage of our positive predictions were true positives?"
   ]
  },
  {
   "cell_type": "code",
   "execution_count": 15,
   "metadata": {},
   "outputs": [
    {
     "data": {
      "text/html": [
       "<style type=\"text/css\">\n",
       "#T_5e4dd_row0_col0, #T_5e4dd_row1_col1 {\n",
       "  background-color: #08306b;\n",
       "  color: #f1f1f1;\n",
       "}\n",
       "#T_5e4dd_row0_col1, #T_5e4dd_row1_col0 {\n",
       "  background-color: #f7fbff;\n",
       "  color: #000000;\n",
       "}\n",
       "</style>\n",
       "<table id=\"T_5e4dd\">\n",
       "  <thead>\n",
       "    <tr>\n",
       "      <th class=\"blank level0\" >&nbsp;</th>\n",
       "      <th id=\"T_5e4dd_level0_col0\" class=\"col_heading level0 col0\" >ppos</th>\n",
       "      <th id=\"T_5e4dd_level0_col1\" class=\"col_heading level0 col1\" >pneg</th>\n",
       "    </tr>\n",
       "  </thead>\n",
       "  <tbody>\n",
       "    <tr>\n",
       "      <th id=\"T_5e4dd_level0_row0\" class=\"row_heading level0 row0\" >pos</th>\n",
       "      <td id=\"T_5e4dd_row0_col0\" class=\"data row0 col0\" >0.764706</td>\n",
       "      <td id=\"T_5e4dd_row0_col1\" class=\"data row0 col1\" >0.053935</td>\n",
       "    </tr>\n",
       "    <tr>\n",
       "      <th id=\"T_5e4dd_level0_row1\" class=\"row_heading level0 row1\" >neg</th>\n",
       "      <td id=\"T_5e4dd_row1_col0\" class=\"data row1 col0\" >0.235294</td>\n",
       "      <td id=\"T_5e4dd_row1_col1\" class=\"data row1 col1\" >0.946065</td>\n",
       "    </tr>\n",
       "  </tbody>\n",
       "</table>\n"
      ],
      "text/plain": [
       "<pandas.io.formats.style.Styler at 0x7fedaa0c9d20>"
      ]
     },
     "execution_count": 15,
     "metadata": {},
     "output_type": "execute_result"
    }
   ],
   "source": [
    "cm_n = confusion_matrix(y_test,y_predicted,normalize='pred',labels=[1,0])\n",
    "cm_n_df = pd.DataFrame(cm_n,columns = ('ppos','pneg'),index=('pos','neg'))\n",
    "cm_n_df.style.background_gradient(cmap='Blues')"
   ]
  },
  {
   "cell_type": "markdown",
   "metadata": {},
   "source": [
    "### Discrimination threshholds"
   ]
  },
  {
   "cell_type": "markdown",
   "metadata": {},
   "source": [
    "The default **decision rule** for logistic regression: if the probability of the positive class is\n",
    "greater than .5 for test instance $i$, classify $i$ as a positive instance.\n",
    "\n",
    "We call .5 the **discrimination threshhold value**\n",
    "or just **threshhold value**"
   ]
  },
  {
   "cell_type": "code",
   "execution_count": 214,
   "metadata": {},
   "outputs": [
    {
     "data": {
      "text/plain": [
       "array([0.002, 0.976, 0.836, 0.   , 0.   , 0.022, 0.001, 0.322, 0.   ,\n",
       "       0.001])"
      ]
     },
     "execution_count": 214,
     "metadata": {},
     "output_type": "execute_result"
    }
   ],
   "source": [
    "##  Set print to ffloat format precision = 3\n",
    "np.set_printoptions(precision=3)\n",
    "np.set_printoptions(suppress=True)\n",
    "\n",
    "y_prob = clf.predict_proba(X_test_m)\n",
    "y_prob[40:50,1]np.a"
   ]
  },
  {
   "cell_type": "code",
   "execution_count": 215,
   "metadata": {},
   "outputs": [
    {
     "data": {
      "text/plain": [
       "array([0, 1, 1, 0, 0, 0, 0, 0, 0, 0])"
      ]
     },
     "execution_count": 215,
     "metadata": {},
     "output_type": "execute_result"
    }
   ],
   "source": [
    "y_predicted = clf.predict(X_test_m)\n",
    "y_predicted[40:50]"
   ]
  },
  {
   "cell_type": "markdown",
   "metadata": {},
   "source": [
    "A new decision rule. Lower the discrimination threshhold.  "
   ]
  },
  {
   "cell_type": "code",
   "execution_count": 46,
   "metadata": {},
   "outputs": [],
   "source": [
    "def predict_with_prob_threshhold(clf, threshhold=.5):\n",
    "    y_prob = clf.predict_proba(X_test_m)\n",
    "    return y_prob[:,1] >= threshhold"
   ]
  },
  {
   "cell_type": "markdown",
   "metadata": {},
   "source": [
    "If we lower the threshhold to .4, more instances classified as **positive**."
   ]
  },
  {
   "cell_type": "code",
   "execution_count": 50,
   "metadata": {},
   "outputs": [
    {
     "name": "stdout",
     "output_type": "stream",
     "text": [
      "238 286\n",
      "48\n"
     ]
    }
   ],
   "source": [
    "\n",
    "y_predicted1 = predict_with_prob_threshhold(clf, threshhold=.4)\n",
    "\n",
    "print(y_predicted.sum(), y_predicted1.sum())\n",
    "print(y_predicted1.sum() - y_predicted.sum())"
   ]
  },
  {
   "cell_type": "markdown",
   "metadata": {},
   "source": [
    "This is what will happen in general as long we lower the threshhold **enough** to increase `tp`."
   ]
  },
  {
   "cell_type": "markdown",
   "metadata": {},
   "source": [
    "With more instances classified as positive, what happens to **recall** (true positive rate)?\n",
    "\n",
    "\n",
    "$$\\text{Rec} = \\text{TPR}  = \\frac{tp}{p}= \\frac{tp}{tp + fn}.$$\n",
    "  \n",
    "\n",
    "$$\\begin{array}[t]{ccc} &  pos &neg\\\\ ppos& tp & fp\\\\ pneg & fn & tn \\end{array}$$\n",
    "\n",
    "\n",
    "Since the number of positives isn't being changed, (we didn't change `y_test`),\n",
    "the only way for the true positive rate to go up by 48 is for the false negatives to go down by 48.\n",
    "When the number of detected positives goes up, the number\n",
    "of missed positives (false negatives) goes down by the same amount.\n",
    "\n",
    "So when we lower the threshhold for classifying something as positive enough to\n",
    "make $tp$ go up,  $p$ still remains the same.  Therefore, recall must  ???\n",
    "\n",
    "\n",
    "```\n",
    "a. go up\n",
    "b. remain the same\n",
    "c. go down\n",
    "```\n"
   ]
  },
  {
   "cell_type": "code",
   "execution_count": 51,
   "metadata": {},
   "outputs": [
    {
     "name": "stdout",
     "output_type": "stream",
     "text": [
      "Precision(adj): 0.76 Recall(adj): 0.60\n"
     ]
    }
   ],
   "source": [
    "# Original scores\n",
    "precision_a = precision_score(y_test,y_predicted)\n",
    "recall_a = recall_score(y_test,y_predicted)\n",
    "\n",
    "print(f\"Precision(adj): {precision_a:.2f} Recall(adj): {recall_a:.2f}\")"
   ]
  },
  {
   "cell_type": "code",
   "execution_count": 52,
   "metadata": {},
   "outputs": [],
   "source": [
    "precision1_a = precision_score(y_test,y_predicted1)\n",
    "recall1_a = recall_score(y_test,y_predicted1)\n"
   ]
  },
  {
   "cell_type": "markdown",
   "metadata": {},
   "source": [
    "What happens to recall?"
   ]
  },
  {
   "cell_type": "code",
   "execution_count": 53,
   "metadata": {},
   "outputs": [
    {
     "name": "stdout",
     "output_type": "stream",
     "text": [
      "Recall(adj): 0.60; Recall with .4 threshhold: 0.65\n"
     ]
    }
   ],
   "source": [
    "recall1_a = recall_score(y_test,y_predicted1)\n",
    "\n",
    "print(f\"Recall(adj): {recall_a:.2f}; Recall with .4 threshhold: {recall1_a:.2f}\")"
   ]
  },
  {
   "cell_type": "markdown",
   "metadata": {},
   "source": [
    "What happens to precision?\n",
    "\n",
    "$$Prec= \\frac{tp}{pp}= \\frac{tp}{tp + fp}.$$\n",
    "\n",
    "We're changing $pp$ by directly changing $tp$, but in general \n",
    "there will be a side effect of increasing $fp$ as well!\n",
    "\n",
    "The amount of change depends on the specific numbers, and very specifically on how much the\n",
    "false positive rate goes up.\n",
    "\n",
    "In our system"
   ]
  },
  {
   "cell_type": "code",
   "execution_count": 22,
   "metadata": {},
   "outputs": [
    {
     "name": "stdout",
     "output_type": "stream",
     "text": [
      "Precision(adj): 0.76; Precision with .4 threshhold: 0.69\n"
     ]
    }
   ],
   "source": [
    "precision1_a = precision_score(y_test,y_predicted1)\n",
    "print(f\"Precision(adj): {precision_a:.2f}; Precision with .4 threshhold: {precision1_a:.2f}\")"
   ]
  },
  {
   "cell_type": "markdown",
   "metadata": {},
   "source": [
    "So precision went down."
   ]
  },
  {
   "cell_type": "markdown",
   "metadata": {},
   "source": [
    "Let's look at different hypothetical cases:"
   ]
  },
  {
   "cell_type": "markdown",
   "metadata": {},
   "source": [
    "No fp increase (every additional pp is a tp).\n",
    "\n",
    "Precision goes up:"
   ]
  },
  {
   "cell_type": "code",
   "execution_count": 23,
   "metadata": {
    "scrolled": true
   },
   "outputs": [
    {
     "data": {
      "text/plain": [
       "(0.25, 0.4, 0.5, 0.5714285714285714)"
      ]
     },
     "execution_count": 23,
     "metadata": {},
     "output_type": "execute_result"
    }
   ],
   "source": [
    "1/4, 2/5,3/6,4/7"
   ]
  },
  {
   "cell_type": "markdown",
   "metadata": {},
   "source": [
    "But mostly this is what happens.  We gain tps at the cost of more fps:"
   ]
  },
  {
   "cell_type": "code",
   "execution_count": 24,
   "metadata": {},
   "outputs": [
    {
     "data": {
      "text/plain": [
       "(0.25, 0.25, 0.2222222222222222, 0.2)"
      ]
     },
     "execution_count": 24,
     "metadata": {},
     "output_type": "execute_result"
    }
   ],
   "source": [
    "1/4, 2/8,2/9,2/10"
   ]
  },
  {
   "cell_type": "code",
   "execution_count": 25,
   "metadata": {},
   "outputs": [
    {
     "name": "stdout",
     "output_type": "stream",
     "text": [
      "(100, 2500)\n",
      "(2500,)\n"
     ]
    },
    {
     "data": {
      "text/plain": [
       "<matplotlib.legend.Legend at 0x7fedaa0c8dc0>"
      ]
     },
     "execution_count": 25,
     "metadata": {},
     "output_type": "execute_result"
    },
    {
     "data": {
      "image/png": "[encoded data removed]",
      "text/plain": [
       "<Figure size 640x480 with 1 Axes>"
      ]
     },
     "metadata": {},
     "output_type": "display_data"
    }
   ],
   "source": [
    "threshholds = np.linspace(0.01, .90, 100)\n",
    "predictions = np.array([predict_with_prob_threshhold(clf, threshhold=threshhold) \n",
    "                        for threshhold in threshholds])\n",
    "print(predictions.shape)\n",
    "print(y_test.shape)\n",
    "prec_scores =\\\n",
    "    np.apply_along_axis(lambda y_pred:precision_score(y_test, y_pred), 1, predictions)\n",
    "rec_scores =\\\n",
    "    np.apply_along_axis(lambda y_pred:recall_score(y_test, y_pred), 1, predictions)\n",
    "plt.plot(threshholds, prec_scores, label=\"precision\")\n",
    "plt.plot(threshholds, rec_scores, label=\"recall\")\n",
    "plt.title(\"Precision Recall Tradeoff for Adj Detection\")\n",
    "plt.xlabel(\"P-threshhold\")\n",
    "plt.legend()"
   ]
  },
  {
   "cell_type": "markdown",
   "metadata": {},
   "source": [
    "Note that not all classifiers are probability-based; therefore not all will have a `predict_proba` method.\n",
    "\n",
    "The ridge classifier is a variety of Support Vector Machine (SVM); the learning objective\n",
    "is to find a hyperplane that maximizes the margin (the distance between the plane\n",
    "and the nearest examples).  In place of `predict_proba` it has a `'decision_function` method\n",
    "which returns confidence scores for each sample\n",
    "\n",
    ">The confidence score for a sample is proportional to the signed distance of that sample to the hyperplane.\n",
    "\n",
    "In other words, the further a point is  away from the separating plane, the more\n",
    "confident the classifier is about a positive/negative decision.  The AUC score\n",
    "can be just as easily computed with a sequence of confidence scores as it is\n",
    "with a sequence of probabilities."
   ]
  },
  {
   "cell_type": "markdown",
   "metadata": {},
   "source": [
    "###  AUC score"
   ]
  },
  {
   "cell_type": "markdown",
   "metadata": {},
   "source": [
    "ROC stands for **Receiver Operating Characteristic** (understanding\n",
    "the name involves a little historical context we'll skip for now).   What it\n",
    "denotes is a classifier-specific function which returns\n",
    "the recall (or true positive rate) $t$ it achieves\n",
    "for any given level of false positive rate (FPR) $f$.  Generally, adjusting the threshhold to\n",
    "tolerate a higher level of $f$ earns\n",
    "a higher rate of $p$ in return, so \n",
    "plotting the function, we get something like the plot below,\n",
    "which arcs above the line $p=f$.\n",
    "The plot is for Logistic Regression's performance\n",
    "on the adjective detection problem.\n",
    "\n",
    "The line $p=f$ defines random performance.   A classifier that adds one false positive\n",
    "for each true positive gained \n",
    "has no  power to discriminate\n",
    "among the new predicted-positive instances.\n",
    "On the other hand an FPR of zero, and a TPR of one\n",
    "(the top left corner of the plot) \n",
    "means perfect recall, ideal performance.\n",
    "The closer the curve of the ROC function\n",
    "gets to passing through that point, the better\n",
    "the classifier.  More mathematically,\n",
    "the greater the area of the curve under the \n",
    "ROC function, the better the classifier.\n",
    "\n",
    "So here is one way of evaluating\n",
    "classifiers which doesn't take any particular\n",
    "stand on how the precision/recall \n",
    "trade-off should be managed:\n",
    "Measure the area under the ROC curve.\n",
    "An AUC score of .5 is the area\n",
    "under the $p=f$-line, which signals\n",
    "random performance.  \n",
    "An AUC score of 1 denotes the area\n",
    "inside the square with corners at $(0,0)$ and $(1,1)$, \n",
    "which signals perfect performance.  "
   ]
  },
  {
   "cell_type": "code",
   "execution_count": 26,
   "metadata": {},
   "outputs": [],
   "source": [
    "import matplotlib.pyplot as plt\n",
    "from sklearn.metrics import RocCurveDisplay\n",
    "from sklearn.metrics import roc_auc_score\n",
    "\n",
    "\n",
    "clfs = {\"Logistic Regression\": LogisticRegression(solver='liblinear'),\n",
    "        \"Ridge Classifier\":   RidgeClassifier(solver='sparse_cg'),\n",
    "        \"Multinomial NB\" : MultinomialNB(),\n",
    "        \"Passive Aggressive Classifier\": PassiveAggressiveClassifier(loss=\"squared_hinge\")\n",
    "        #\"Passive Aggressive Classifier\": PassiveAggressiveClassifier(loss=\"hinge\")\n",
    "       }\n",
    "\n",
    "\n",
    "\n",
    "class_of_interest, pos_lbl = 'Adj',1\n",
    "\n",
    "def do_auc_plot (classifier, y_test, y_scores, pos_lbl, class_of_interest, color=\"darkorange\"):\n",
    "    \n",
    "    RocCurveDisplay.from_predictions(\n",
    "        y_test,\n",
    "        y_scores, # probs for the class of interest\n",
    "        name=f\"{class_of_interest}\",\n",
    "        color=color\n",
    "    )\n",
    "    plt.plot([0, 1], [0, 1], \"k--\", label=\"chance level (AUC = 0.5)\")\n",
    "    plt.axis(\"square\")\n",
    "    plt.xlabel(\"False Positive Rate\")\n",
    "    plt.ylabel(\"True Positive Rate\")\n",
    "    #score_str = f\"AUC: {roc_auc_score(y_test, y_scores_1D):.3f}\"\n",
    "    #plt.title(f\"ROC curve {clf_name}: {score_str}\")\n",
    "    plt.title(f\"ROC curve {clf_name}\")\n",
    "    plt.legend()\n",
    "    \n",
    "    "
   ]
  },
  {
   "cell_type": "markdown",
   "metadata": {},
   "source": [
    "Initialize the dictionary that will hold our **evaluation results**."
   ]
  },
  {
   "cell_type": "code",
   "execution_count": 27,
   "metadata": {},
   "outputs": [],
   "source": [
    "auc_scores = {clf:0  for clf in clfs.keys()}"
   ]
  },
  {
   "cell_type": "markdown",
   "metadata": {},
   "source": [
    "The y-axis is TPR (a synonym for what? recall or precision?)."
   ]
  },
  {
   "cell_type": "code",
   "execution_count": 28,
   "metadata": {},
   "outputs": [
    {
     "data": {
      "image/png": "[encoded data removed]",
      "text/plain": [
       "<Figure size 640x480 with 1 Axes>"
      ]
     },
     "metadata": {},
     "output_type": "display_data"
    }
   ],
   "source": [
    "clf_name = 'Logistic Regression'\n",
    "classifier = clfs[clf_name]\n",
    "y_scores = classifier.fit(X_train_m, y_train).predict_proba(X_test_m)[:,1]\n",
    "#  This gives log probs\n",
    "#y_scores0 = classifier.fit(X_train_m, y_train).decision_function(X_test_m)#[:,1]\n",
    "auc_scores[clf_name] = (classifier.predict(X_test_m),roc_auc_score(y_test, y_scores))\n",
    "do_auc_plot (classifier, y_test, y_scores, 1, 'Adj')"
   ]
  },
  {
   "cell_type": "code",
   "execution_count": 29,
   "metadata": {},
   "outputs": [
    {
     "data": {
      "image/png": "[encoded data removed]",
      "text/plain": [
       "<Figure size 640x480 with 1 Axes>"
      ]
     },
     "metadata": {},
     "output_type": "display_data"
    }
   ],
   "source": [
    "clf_name = 'Multinomial NB'\n",
    "classifier = clfs[clf_name]\n",
    "y_scores = classifier.fit(X_train_m, y_train).predict_proba(X_test_m)[:,1]\n",
    "auc_scores[clf_name] = (classifier.predict(X_test_m),roc_auc_score(y_test, y_scores))\n",
    "do_auc_plot (classifier, y_test, y_scores, 1, 'Adj')"
   ]
  },
  {
   "cell_type": "markdown",
   "metadata": {},
   "source": [
    "Note that not all classifiers are probability-based; therefore not all will have a `predict_proba` method.\n",
    "\n",
    "The *Ridge Classifier* is a variety of Support Vector Machine (SVM); the learning objective\n",
    "is to find a hyperplane separating positive from\n",
    "negative examples that maximizes the **margin** (the distance between the plane\n",
    "and the nearest examples).  In place of `predict_proba` the Ridge Classifier\n",
    "has a `decision_function` method\n",
    "which returns confidence scores for each sample:\n",
    "\n",
    ">The confidence score for a sample is proportional to the signed distance of that sample to the hyperplane.\n",
    "\n",
    "In other words, the further a point is  away from the separating plane, the more\n",
    "confident the classifier is about a positive/negative decision.  The AUC score\n",
    "can be just as easily computed with a sequence of confidence scores as it is\n",
    "with a sequence of probabilities."
   ]
  },
  {
   "cell_type": "code",
   "execution_count": 30,
   "metadata": {},
   "outputs": [
    {
     "data": {
      "image/png": "[encoded data removed]",
      "text/plain": [
       "<Figure size 640x480 with 1 Axes>"
      ]
     },
     "metadata": {},
     "output_type": "display_data"
    }
   ],
   "source": [
    "clf_name = 'Ridge Classifier'\n",
    "classifier = clfs[clf_name]\n",
    "#  Note The ridge classifier does not assign probabilities.\n",
    "#  But it does compute scores available from its decision function\n",
    "y_scores = classifier.fit(X_train_m, y_train).decision_function(X_test_m)\n",
    "auc_scores[clf_name] = (classifier.predict(X_test_m),roc_auc_score(y_test, y_scores))\n",
    "do_auc_plot (classifier, y_test, y_scores, 1, 'Adj')"
   ]
  },
  {
   "cell_type": "code",
   "execution_count": 31,
   "metadata": {},
   "outputs": [
    {
     "data": {
      "image/png": "[encoded data removed]",
      "text/plain": [
       "<Figure size 640x480 with 1 Axes>"
      ]
     },
     "metadata": {},
     "output_type": "display_data"
    }
   ],
   "source": [
    "clf_name = 'Passive Aggressive Classifier'\n",
    "classifier = clfs[clf_name]\n",
    "y_scores = classifier.fit(X_train_m, y_train).decision_function(X_test_m)#[:,1]\n",
    "auc_scores[clf_name] = (classifier.predict(X_test_m),roc_auc_score(y_test, y_scores))\n",
    "do_auc_plot (classifier, y_test, y_scores, 1, 'Adj')"
   ]
  },
  {
   "cell_type": "markdown",
   "metadata": {},
   "source": [
    "Reviewing the AUC numbers we got:"
   ]
  },
  {
   "cell_type": "code",
   "execution_count": 32,
   "metadata": {},
   "outputs": [
    {
     "data": {
      "text/plain": [
       "dict_keys(['Logistic Regression', 'Ridge Classifier', 'Multinomial NB', 'Passive Aggressive Classifier'])"
      ]
     },
     "execution_count": 32,
     "metadata": {},
     "output_type": "execute_result"
    }
   ],
   "source": [
    "auc_scores.keys()"
   ]
  },
  {
   "cell_type": "code",
   "execution_count": null,
   "metadata": {},
   "outputs": [],
   "source": []
  },
  {
   "cell_type": "code",
   "execution_count": 65,
   "metadata": {},
   "outputs": [
    {
     "data": {
      "text/plain": [
       "[0.92267115449142, 0.9033162867893777, 0.8822312997315694, 0.8969455529191832]"
      ]
     },
     "execution_count": 65,
     "metadata": {},
     "output_type": "execute_result"
    }
   ],
   "source": [
    "[auc_scores[k][1] for k in auc_scores]"
   ]
  },
  {
   "cell_type": "markdown",
   "metadata": {},
   "source": [
    "So according to the AUC metric the classifiers rank as follows:"
   ]
  },
  {
   "cell_type": "markdown",
   "metadata": {},
   "source": [
    "$$\n",
    "\\begin{array}[t]{llc}\n",
    "& \\text{Classifier} & \\text{AUC}\\\\ \n",
    "\\hline \n",
    "1. & \\text{Logistic Regression} & .923\\\\ \n",
    "2. & \\text{Ridge Classifier} & .903 \\\\ \n",
    "3. & \\text{Passive Aggressive Classifier} & .896 \\\\\n",
    "3. & \\text{Multinomial Naive Bayes}& .882 \n",
    "\\end{array}\n",
    "$$\n",
    "\n"
   ]
  },
  {
   "cell_type": "markdown",
   "metadata": {},
   "source": [
    "Meanwhile, looking back at precision and recall for the the same classifiers,\n",
    "Passive Aggressive Classifier has the best recall and Logistic Regression the best precision.\n",
    "\n",
    "Looking for the balance between precision and recall, we use `f1_score`, which is their\n",
    "harmonic mean (harmonic means are appropriate for takinbg\n",
    "averages of **rates**). Logistic Regression the best f1 score."
   ]
  },
  {
   "cell_type": "code",
   "execution_count": 34,
   "metadata": {},
   "outputs": [
    {
     "name": "stdout",
     "output_type": "stream",
     "text": [
      "Logistic Regression                       0.599  0.765  0.672\n",
      "Ridge Classifier                          0.618  0.709  0.661\n",
      "Multinomial NB                            0.605  0.584  0.595\n",
      "Passive Aggressive Classifier             0.599  0.583  0.591\n"
     ]
    }
   ],
   "source": [
    "for (clf,(y_predicted,_auc)) in auc_scores.items():\n",
    "    rec = recall_score(y_test,y_predicted)\n",
    "    prec = precision_score(y_test,y_predicted)\n",
    "    f_sc = f1_score(y_test,y_predicted)\n",
    "    print(f\"{clf:<40}  {rec:.3f}  {prec:.3f}  {f_sc:.3f}\")"
   ]
  },
  {
   "cell_type": "markdown",
   "metadata": {},
   "source": [
    "#### An evaluation experiment"
   ]
  },
  {
   "cell_type": "markdown",
   "metadata": {},
   "source": [
    "Another evaluation loop.  There are actually  a lot of classifiers concealed under the\n",
    "name `SGDClassifier`.  SGD refers to a learning method (Stochastic Gradient Descent).\n",
    "By folding different \"loss\" functions (learner scoring functions) into the algorithm\n",
    "you get different kinds of linear learners; `log_loss` gets you a logistic regression\n",
    "classifier; `hinge` gets you a classic SVM; `perceptron` is another loss function\n",
    "defining a different kind of linear learner called a **perceptron**. Say the docs\n",
    "\n",
    ">The other losses, ‘squared_error’, ‘huber’, ‘epsilon_insensitive’ and ‘squared_epsilon_insensitive’ are designed for regression but can be useful in classification as well; see [SGDRegressor](https://scikit-learn.org/stable/modules/generated/sklearn.linear_model.SGDRegressor.html#sklearn.linear_model.SGDRegressorfor) a description.\n",
    "\n",
    "The brief experiment below illustrates the idea of evaluating multiple learners on a fixed problem,\n",
    "alhough we are completely avoiding the important issue of cross-validation, which will be discussed\n",
    "when we get to text classification.\n",
    "\n",
    "You can see \"squared error\" does the worst, but it also fails to converge on a model.\n",
    "As for the best,  it depends on your criteria.  If recall is the most important\n",
    "thing, the regression method modifed huber does best, if it's precision, you want logistic regression.\n",
    "Note that the recall score on this logistic regression classifier is not as good\n",
    "as the one we got above with sklearn's `LogisticRegression` classifier (.60), which\n",
    "used the `liblinear` learner.  It's not at all clear why"
   ]
  },
  {
   "cell_type": "code",
   "execution_count": 48,
   "metadata": {
    "scrolled": true
   },
   "outputs": [
    {
     "name": "stdout",
     "output_type": "stream",
     "text": [
      "SGD Classifier hinge\n",
      "SGD Classifier log_loss\n",
      "SGD Classifier modified_huber\n",
      "SGD Classifier perceptron\n",
      "SGD Classifier huber\n",
      "SGD Classifier epsilon_insensitive\n",
      "SGD Classifier squared_error\n"
     ]
    },
    {
     "name": "stderr",
     "output_type": "stream",
     "text": [
      "/Users/gawron/opt/anaconda3/envs/p310/lib/python3.10/site-packages/sklearn/linear_model/_stochastic_gradient.py:702: ConvergenceWarning: Maximum number of iteration reached before convergence. Consider increasing max_iter to improve the fit.\n",
      "  warnings.warn(\n"
     ]
    }
   ],
   "source": [
    "from  sklearn.linear_model import SGDClassifier\n",
    "\n",
    "loss_fns = (\"hinge\", \"log_loss\",  \"modified_huber\", \n",
    "            \"perceptron\", \"huber\", \"epsilon_insensitive\", \n",
    "            \"squared_error\", )\n",
    "\n",
    "auc_scores2 = dict()\n",
    "\n",
    "for fn in loss_fns:\n",
    "    clf_name = f'SGD Classifier {fn}'\n",
    "    print(clf_name)\n",
    "    classifier = SGDClassifier(loss=fn)\n",
    "    y_scores = classifier.fit(X_train_m, y_train).decision_function(X_test_m)\n",
    "    y_predicted = classifier.predict(X_test_m)\n",
    "    auc = roc_auc_score(y_test, y_scores)\n",
    "    rec =  recall_score(y_test,y_predicted)\n",
    "    prec =  precision_score(y_test,y_predicted)\n",
    "    auc_scores2[clf_name] = (y_scores,auc,rec,prec)\n",
    "    #do_auc_plot (classifier, y_test, y_scores, 1, 'Adj')"
   ]
  },
  {
   "cell_type": "code",
   "execution_count": 109,
   "metadata": {},
   "outputs": [
    {
     "name": "stdout",
     "output_type": "stream",
     "text": [
      "log_loss                       0.922  0.539  0.785\n",
      "modified_huber                 0.917  0.628  0.702\n",
      "hinge                          0.910  0.576  0.771\n",
      "perceptron                     0.896  0.579  0.624\n",
      "huber                          0.869  0.441  0.757\n",
      "epsilon_insensitive            0.856  0.530  0.745\n",
      "squared_error                  0.543  0.490  0.137\n"
     ]
    }
   ],
   "source": [
    "il = list(auc_scores2.items())\n",
    "il.sort(key = lambda x:x[1][1], reverse=True)\n",
    "\n",
    "for (clf, (y_scores, auc,rec,prec)) in il:\n",
    "    print(f\"{clf[15:]:<30} {auc:.3f}  {rec:.3f}  {prec:.3f}\")"
   ]
  },
  {
   "cell_type": "markdown",
   "metadata": {},
   "source": [
    "#### Working with confusion matrixes"
   ]
  },
  {
   "cell_type": "markdown",
   "metadata": {},
   "source": [
    "The confusion matrix we used in the section entitled of Precision, Recall and Accuracy was displaying\n",
    "classifier decisions in a two-class problem.  The information displayed can be even more\n",
    "illuminating on a multiclass problem, and scikit learn provide some\n",
    "helpful tools.  We illustrate with the Iris data using [this scikit learn\n",
    "demonstration.](https://scikit-learn.org/stable/auto_examples/model_selection/plot_confusion_matrix.html#sphx-glr-auto-examples-model-selection-plot-confusion-matrix-py)\n",
    "\n",
    "By the way, this sort of color-enhanced numerical table display can also be done \n",
    "via pandas using `df.style.background_gradient(cmap=cmap)`, as we\n",
    "did in Precision, Recall and Accuracy section."
   ]
  },
  {
   "cell_type": "code",
   "execution_count": 1,
   "metadata": {},
   "outputs": [
    {
     "name": "stdout",
     "output_type": "stream",
     "text": [
      "Confusion matrix, without normalization\n",
      "[[13  0  0]\n",
      " [ 0 10  6]\n",
      " [ 0  0  9]]\n",
      "Normalized confusion matrix\n",
      "[[1.   0.   0.  ]\n",
      " [0.   0.62 0.38]\n",
      " [0.   0.   1.  ]]\n"
     ]
    },
    {
     "data": {
      "image/png": "[encoded data removed]",
      "text/plain": [
       "<Figure size 640x480 with 2 Axes>"
      ]
     },
     "metadata": {},
     "output_type": "display_data"
    },
    {
     "data": {
      "image/png": "[encoded data removed]",
      "text/plain": [
       "<Figure size 640x480 with 2 Axes>"
      ]
     },
     "metadata": {},
     "output_type": "display_data"
    }
   ],
   "source": [
    "import numpy as np\n",
    "import matplotlib.pyplot as plt\n",
    "\n",
    "from sklearn import svm, datasets\n",
    "from sklearn.model_selection import train_test_split\n",
    "from sklearn.metrics import ConfusionMatrixDisplay\n",
    "\n",
    "# import some data to play with\n",
    "iris = datasets.load_iris()\n",
    "X = iris.data\n",
    "y = iris.target\n",
    "class_names = iris.target_names\n",
    "\n",
    "# Split the data into a training set and a test set\n",
    "X_train, X_test, y_train, y_test = train_test_split(X, y, random_state=0)\n",
    "\n",
    "# Run classifier, using a model that is too regularized (C too low) to see\n",
    "# the impact on the results\n",
    "classifier = svm.SVC(kernel=\"linear\", C=0.01).fit(X_train, y_train)\n",
    "\n",
    "np.set_printoptions(precision=2)\n",
    "\n",
    "# Plot non-normalized confusion matrix\n",
    "titles_options = [\n",
    "    (\"Confusion matrix, without normalization\", None),\n",
    "    (\"Normalized confusion matrix\", \"true\"),\n",
    "]\n",
    "\n",
    "for title, normalize in titles_options:\n",
    "    disp = ConfusionMatrixDisplay.from_estimator(\n",
    "        classifier,\n",
    "        X_test,\n",
    "        y_test,\n",
    "        display_labels=class_names,\n",
    "        cmap=plt.cm.Blues,\n",
    "        normalize=normalize,\n",
    "    )\n",
    "    disp.ax_.set_title(title)\n",
    "\n",
    "    print(title)\n",
    "    print(disp.confusion_matrix)\n"
   ]
  },
  {
   "cell_type": "code",
   "execution_count": null,
   "metadata": {},
   "outputs": [],
   "source": []
  }
 ],
 "metadata": {
  "kernelspec": {
   "display_name": "Python 3 (ipykernel)",
   "language": "python",
   "name": "python3"
  },
  "language_info": {
   "codemirror_mode": {
    "name": "ipython",
    "version": 3
   },
   "file_extension": ".py",
   "mimetype": "text/x-python",
   "name": "python",
   "nbconvert_exporter": "python",
   "pygments_lexer": "ipython3",
   "version": "3.10.6"
  },
  "toc": {
   "base_numbering": 1,
   "nav_menu": {
    "height": "171px",
    "width": "253px"
   },
   "number_sections": true,
   "sideBar": true,
   "skip_h1_title": false,
   "title_cell": "Table of Contents",
   "title_sidebar": "Contents",
   "toc_cell": false,
   "toc_position": {},
   "toc_section_display": "block",
   "toc_window_display": false
  }
 },
 "nbformat": 4,
 "nbformat_minor": 1
}
