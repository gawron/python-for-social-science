{
 "cells": [
  {
   "cell_type": "markdown",
   "id": "056e49b5",
   "metadata": {},
   "source": [
    "## Text data on the web"
   ]
  },
  {
   "cell_type": "markdown",
   "id": "91b8416f",
   "metadata": {},
   "source": [
    "## Intro: The basic idea"
   ]
  },
  {
   "cell_type": "code",
   "execution_count": 24,
   "id": "6236651b",
   "metadata": {},
   "outputs": [],
   "source": [
    "import urllib\n",
    "\n",
    "# This happens to be Frankenstein, the most downloaded of all Gutenberg books on the day this\n",
    "# NB was created.\n",
    "idx= 84\n",
    "url = f\"https://gutenberg.org/cache/epub/{idx}/pg{idx}.txt\"\n",
    "\n",
    "with urllib.request.urlopen(url) as stream:\n",
    "    byte_str = stream.read()"
   ]
  },
  {
   "cell_type": "code",
   "execution_count": 25,
   "id": "1f2fa1fb",
   "metadata": {},
   "outputs": [
    {
     "data": {
      "text/plain": [
       "bytes"
      ]
     },
     "execution_count": 25,
     "metadata": {},
     "output_type": "execute_result"
    }
   ],
   "source": [
    "type(byte_str)"
   ]
  },
  {
   "cell_type": "markdown",
   "id": "8b57a5a2",
   "metadata": {},
   "source": [
    "It's not a string because it hasn't been decoded from \"UTF-8\" into a string."
   ]
  },
  {
   "cell_type": "code",
   "execution_count": 26,
   "id": "70af58b5",
   "metadata": {},
   "outputs": [],
   "source": [
    "text=byte_str.decode(\"UTF8\")"
   ]
  },
  {
   "cell_type": "code",
   "execution_count": 27,
   "id": "ba33c9e6",
   "metadata": {},
   "outputs": [
    {
     "data": {
      "text/plain": [
       "str"
      ]
     },
     "execution_count": 27,
     "metadata": {},
     "output_type": "execute_result"
    }
   ],
   "source": [
    "type(text)"
   ]
  },
  {
   "cell_type": "markdown",
   "id": "4e237e36",
   "metadata": {},
   "source": [
    "Make a function implementing the idea (retrieval of books from Gutenberg.org by book index)."
   ]
  },
  {
   "cell_type": "code",
   "execution_count": 13,
   "id": "cef31c83",
   "metadata": {},
   "outputs": [],
   "source": [
    "import urllib\n",
    "\n",
    "def get_book (ind):\n",
    "    \"\"\"\n",
    "    We replace \"\\r\\n\" (Mac rep for newlines) with Windows rep (\"\\n\")\n",
    "    to facilate regexp matching across newline barriers, but this\n",
    "    is only a pathc on a bigger problem.\n",
    "    \"\"\"\n",
    "    url = f\"https://gutenberg.org/cache/epub/{ind}/pg{ind}.txt\"\n",
    "    with urllib.request.urlopen(url) as stream:\n",
    "        byte_str = stream.read()\n",
    "        return byte_str.decode(\"UTF8\").replace(\"\\r\\n\",\"\\n\")"
   ]
  },
  {
   "cell_type": "code",
   "execution_count": 14,
   "id": "c80b8d7e",
   "metadata": {},
   "outputs": [],
   "source": [
    "# Get book 84 (= Frankenstein) from Gutenberg\n",
    "text = get_book(84)"
   ]
  },
  {
   "cell_type": "code",
   "execution_count": 15,
   "id": "dcda7688",
   "metadata": {},
   "outputs": [
    {
     "data": {
      "text/plain": [
       "'\\ufeffThe Project Gutenberg eBook of Frankenstein; Or, The Modern Prometheus\\n    \\nThis ebook is for the use of anyone anywhere in the United States and\\nmost other parts of the world at no cost and with almost no restrictions\\nwhatsoever. You may copy it, give it away or re-use it under the terms\\nof the Project Gutenberg License included with this ebook or online\\nat www.gutenberg.org. If you are not located in the United States,\\nyou will have to check the laws of the country where you are located\\nbefore using this eBook.\\n\\nTitle: Frankenstein; Or, The Modern Prometheus\\n\\nAuthor: Mary Wollstonecraft Shelley\\n\\nRelease date: October 1, 1993 [eBook #84]\\n                Most recently updated: December 2, 2022\\n\\nLanguage: English\\n\\nCredits: Judith Boss, Christy Phillips, Lynn Hanninen and David Meltzer. HTML version by Al Haines.\\n        Further corrections by Menno de Leeuw.\\n\\n\\n*** START OF THE PROJECT GUTENBERG EBOOK FRANKENSTEIN; OR, THE MODERN PROMETHEUS ***\\n\\n\\n\\n\\nFrankenstein;\\n\\nor, the Modern Prometheus\\n\\nby Mary Wollstonecraft (Godwin) Shelley\\n\\n\\n CONTENTS\\n\\n Letter 1\\n Letter 2\\n Letter 3\\n Letter 4\\n Chapter 1\\n Chapter 2\\n Chapter 3\\n Chapter 4\\n Chapter 5\\n Chapter 6\\n Chapter 7\\n Chapter 8\\n Chapter 9\\n Chapter 10\\n Chapter 11\\n Chapter 12\\n Chapter 13\\n Chapter 14\\n Chapter 15\\n Chapter 16\\n Chapter 17\\n Chapter 18\\n Chapter 19\\n Chapter 20\\n Chapter 21\\n Chapter 22\\n Chapter 23\\n Chapter 24\\n\\n\\n\\n\\nLetter 1\\n\\n_To Mrs. Saville, England._\\n\\n\\nSt. Petersburgh, Dec. 11th, 17—.\\n\\n\\nYou will rejoice to hear that no disaster has accompanied the\\ncommencement of an enterprise which you have regarded with such evil\\nforebodings. I arrived here yesterday, and my first task is to assure\\nmy dear sister of my welfare and increasing confidence in the success\\nof my undertaking.\\n\\nI am already far north of London, and as I walk in the streets of\\nPetersburgh, I feel a cold northern breeze play upon my cheeks, which\\nbraces my nerves and fills me with delight. Do you understand this\\nfeeling? This breeze, which has travelled from the regions towards\\nwhich I am advancing, gives me a foretaste of those icy climes.\\nInspirited by this wind of promise, my daydreams become more fervent\\nand vivid. I try in vain to be persuaded that the pole is the seat of\\nfrost and desolation; it ever presents itself to my imagination as the\\nregion of beauty and delight. There, Margaret, the sun is for ever\\nvisible, its broad disk just skirting the horizon and diffusing a\\nperpetual splendour. There—for with your leave, my sister, I will put\\nsome trust in preceding navigators—there snow and frost are banished;\\nand, sailing over a calm sea, we may be wafted to a land surpassing in\\nwonders and in beauty every region hitherto discovered on the habitable\\nglobe. Its productions and features may be without example, as the\\nphenomena of the heavenly bodies undoubtedly are in those undiscovered\\nsolitudes. What may not be expected in a country of eternal light? I\\nmay there discover the wondrous power which attracts the needle and may\\nregulate a thousand celestial observations that require only this\\nvoyage to render their seeming eccentricities consistent for ever. I\\nshall satiate my ardent curiosity with the sight of a part of the world\\nnever before visited, and may tread a land never before imprinted by\\nthe foot of man. These are my enticements, and they are sufficient to\\nconquer all fear of danger or death and to induce me to commence this\\nlaborious voyage with the joy a child feels when he embarks in a little\\nboat, with his holiday mates, on an expedition of discovery up his\\nnative river. But supposing all these conjectures to be false, you\\ncannot contest the inestimable benefit which I shall confer on all\\nmankind, to the last generation, by discovering a passage near the pole\\nto those countries, to reach which at present so many months are\\nrequisite; or by ascertaining the secret of the magnet, which, if at\\nall possible, can only be effected by an undertaking such as mine.\\n\\nThese reflections have dispelled the agitation with which I began my\\nletter, and I feel my heart glow with an enthusiasm which elevates me\\nto heaven, for nothing contributes so much to tranquillise the mind as\\na steady purpose—a point on which the soul may fix its intellectual\\neye. This expedition has been the favourite dream of my early years. I\\nhave read with ardour the accounts of the various voyages which have\\nbeen made in the prospect of arriving at the North Pacific Ocean\\nthrough the seas which surround the pole. You may remember that a\\nhistory of all the voyages made for purposes of discovery composed the\\nwhole of our good Uncle Thomas’ library. My education was neglected,\\nyet I was passionately fond of reading. These volumes were my study\\nday and night, and my familiarity with them increased that regret which\\nI had felt, as a child, on learning that my father’s dying injunction\\nhad forbidden my uncle to allow me to embark in a seafaring life.\\n\\nThese visions faded when I perused, for the first time, those poets\\nwhose effusions entranced my soul and lifted it to heaven. I also\\nbecame a poet and for one year lived in a paradise of my own creation;\\nI imagined that I also might obtain a niche in the temple where the\\nnames of Homer and Shakespeare are consecrated. You are well\\nacquainted with my failure and how heavily I bore the disappointment.\\nBut just at that time I inherited the fortune of my cousin, and my\\nthoughts were turned into the channel of their earlier bent.\\n\\nSix years have passed since I resolved on my present undertaking. I\\ncan, even now, remember the hour from which I dedicated myself to this\\ngreat enterprise. I commenced by inuring my body to hardship. I\\naccompanied the whale-fishers on several expeditions to the North Sea;\\nI voluntarily endured cold, famine, thirst, and want of sleep; I often\\nworked harder than the common sailors during the day and devoted my\\nnights to the study of mathematics, the theory of medicine, and those\\nbranches of physical science from which a naval adventurer might derive\\nthe greatest practical advantage. Twice I actually hired myself as an\\nunder-mate in a Greenland whaler, and acquitted myself to admiration. I\\nmust own I felt a little proud when my captain offered me the second\\ndignity in the vessel and entreated me to remain with the greatest\\nearnestness, so valuable did he consider my services.\\n\\nAnd now, dear Margaret, do I not deserve to accomplish some great purpose?\\nMy life might have been passed in ease and luxury, but I preferred glory to\\nevery enticement that wealth placed in my path. Oh, that some encouraging\\nvoice would answer in the affirmative! My courage and my resolution is\\nfirm; but my hopes fluctuate, and my spirits are often depressed. I am\\nabout to proceed on a long and difficult voyage, the emergencies of which\\nwill demand all my fortitude: I am required not only to raise the spirits\\nof others, but sometimes to sustain my own, when theirs are failing.\\n\\nThis is the most favourable period for travelling in Russia. They fly\\nquickly over the snow in their sledges; the motion is pleasant, and, in\\nmy opinion, far more agreeable than that of an English stagecoach. The\\ncold is not excessive, if you are wrapped in furs—a dress which I have\\nalready adopted, for there is a great difference between walking the\\ndeck and remaining seated motionless for hours, when no exercise\\nprevents the blood from actually freezing in your veins. I have no\\nambition to lose my life on the post-road between St. Petersburgh and\\nArchangel.\\n\\nI shall depart for the latter town in a fortnight or three weeks; and my\\nintention is to hire a ship there, which can easily be done by paying the\\ninsurance for the owner, and to engage as many sailors as I think necessary\\namong those who are accustomed to the whale-fishing. I do not intend to\\nsail until the month of June; and when shall I return? Ah, dear sister, how\\ncan I answer this question? If I succeed, many, many months, perhaps years,\\nwill pass before you and I may meet. If I fail, you will see me again soon,\\nor never.\\n\\nFarewell, my dear, excellent Margaret. Heaven shower down blessings on you,\\nand save me, that I may again and again testify my gratitude for all your\\nlove and kindness.\\n\\nYour affectionate brother,\\n\\nR. Walton\\n\\n\\n\\n\\nLetter 2\\n\\n_To Mrs. Saville, England._\\n\\nArchangel, 28th March, 17—.\\n\\n\\nHow slowly the time passes here, encompassed as I am by frost and snow!\\nYet a second step is taken towards my enterprise. I have hired a\\nvessel and am occupied in collecting my sailors; those whom I have\\nalready engaged appear to be men on whom I can depend and are certainly\\npossessed of dauntless courage.\\n\\nBut I have one want which I have never yet been able to satisfy, and the\\nabsence of the object of which I now feel as a most severe evil, I have no\\nfriend, Margaret: when I am glowing with the enthusiasm of success, there\\nwill be none to participate my joy; if I am assailed by disappointment, no\\none will endeavour to sustain me in dejection. I shall commit my thoughts\\nto paper, it is true; but that is a poor medium for the communication of\\nfeeling. I desire the company of a man who could sympathise with me, whose\\neyes would reply to mine. You may deem me romantic, my dear sister, but I\\nbitterly feel the want of a friend. I have no one near me, gentle yet\\ncourageous, possessed of a cultivated as well as of a capacious mind, whose\\ntastes are like my own, to approve or amend my plans. How would such a\\nfriend repair the faults of your poor brother! I am too ardent in execution\\nand too impatient of difficulties. But it is a still greater evil to me\\nthat I am self-educated: for the first fourteen years of my life I ran wild\\non a common and read nothing but our Uncle Thomas’ books of voyages.\\nAt that age I became acquainted with the celebrated poets of our own\\ncountry; but it was only when it had ceased to be in my power to derive its\\nmost important benefits from such a conviction that I perceived the\\nnecessity of becoming acquainted with more languages than that of my native\\ncountry. Now I am twenty-eight and am in reality more illiterate than many\\nschoolboys of fifteen. It is true that I have thought more and that my\\ndaydreams are more extended and magnificent, but they want (as the painters\\ncall it) _keeping;_ and I greatly need a friend who would have sense\\nenough not to despise me as romantic, and affection enough for me to\\nendeavour to regulate my mind.\\n\\nWell, these are useless complaints; I shall certainly find no friend on the\\nwide ocean, nor even here in Archangel, among merchants and seamen. Yet\\nsome feelings, unallied to the dross of human nature, beat even in these\\nrugged bosoms. My lieutenant, for instance, is a man of wonderful courage\\nand enterprise; he is madly desirous of glory, or rather, to word my phrase\\nmore characteristically, of advancement in his profession. He is an\\nEnglishman, and in the midst of national and professional prejudices,\\nunsoftened by cultivation, retains some of the noblest endowments of\\nhumanity. I first became acquainted with him on board a whale vessel;\\nfinding that he was unemployed in this city, I easily engaged him to assist\\nin my enterprise.\\n\\nThe master is a person of an excellent disposition and is remarkable in the\\nship for his gentleness and the mildness of his discipline. This\\ncircumstance, added to his well-known integrity and dauntless courage, made\\nme very desirous to engage him. A youth passed in solitude, my best years\\nspent under your gentle and feminine fosterage, has so refined the\\ngroundwork of my character that I cannot overcome an intense distaste to\\nthe usual brutality exercised on board ship: I have never believed it to be\\nnecessary, and when I heard of a mariner equally noted for his kindliness\\nof heart and the respect and obedience paid to him by his crew, I felt\\nmyself peculiarly fortunate in being able to secure his services. I heard\\nof him first in rather a romantic manner, from a lady who owes to him the\\nhappiness of her life. This, briefly, is his story. Some years ago he loved\\na young Russian lady of moderate fortune, and having amassed a considerable\\nsum in prize-money, the father of the girl consented to the match. He saw\\nhis mistress once before the destined ceremony; but she was bathed in\\ntears, and throwing herself at his feet, entreated him to spare her,\\nconfessing at the same time that she loved another, but that he was poor,\\nand that her father would never consent to the union. My generous friend\\nreassured the suppliant, and on being informed of the name of her lover,\\ninstantly abandoned his pursuit. He had already bought a farm with his\\nmoney, on which he had designed to pass the remainder of his life; but he\\nbestowed the whole on his rival, together with the remains of his\\nprize-money to purchase stock, and then himself solicited the young\\nwoman’s father to consent to her marriage with her lover. But the old\\nman decidedly refused, thinking himself bound in honour to my friend, who,\\nwhen he found the father inexorable, quitted his country, nor returned\\nuntil he heard that his former mistress was married according to her\\ninclinations. “What a noble fellow!” you will exclaim. He is\\nso; but then he is wholly uneducated: he is as silent as a Turk, and a kind\\nof ignorant carelessness attends him, which, while it renders his conduct\\nthe more astonishing, detracts from the interest and sympathy which\\notherwise he would command.\\n\\nYet do not suppose, because I complain a little or because I can\\nconceive a consolation for my toils which I may never know, that I am\\nwavering in my resolutions. Those are as fixed as fate, and my voyage\\nis only now delayed until the weather shall permit my embarkation. The\\nwinter has been dreadfully severe, but the spring promises well, and it\\nis considered as a remarkably early season, so that perhaps I may sail\\nsooner than I expected. I shall do nothing rashly: you know me\\nsufficiently to confide in my prudence and considerateness whenever the\\nsafety of others is committed to my care.\\n\\nI cannot describe to you my sensations on the near prospect of my\\nundertaking. It is impossible to communicate to you a conception of\\nthe trembling sensation, half pleasurable and half fearful, with which\\nI am preparing to depart. I am going to unexplored regions, to “the\\nland of mist and snow,” but I shall kill no albatross; therefore do not\\nbe alarmed for my safety or if I should come back to you as worn and\\nwoeful as the “Ancient Mariner.” You will smile at my allusion, but I\\nwill disclose a secret. I have often attributed my attachment to, my\\npassionate enthusiasm for, the dangerous mysteries of ocean to that\\nproduction of the most imaginative of modern poets. There is something\\nat work in my soul which I do not understand. I am practically\\nindustrious—painstaking, a workman to execute with perseverance and\\nlabour—but besides this there is a love for the marvellous, a belief\\nin the marvellous, intertwined in all my projects, which hurries me out\\nof the common pathways of men, even to the wild sea and unvisited\\nregions I am about to explore.\\n\\nBut to return to dearer considerations. Shall I meet you again, after\\nhaving traversed immense seas, and returned by the most southern cape of\\nAfrica or America? I dare not expect such success, yet I cannot bear to\\nlook on the reverse of the picture. Continue for the present to write to\\nme by every opportunity: I may receive your letters on some occasions when\\nI need them most to support my spirits. I love you very tenderly. \\nRemember me with affection, should you never hear from me again.\\n\\nYour affectionate brother,\\n Robert Walton\\n\\n\\n\\n\\nLetter 3\\n\\n_To Mrs. Saville, England._\\n\\nJuly 7th, 17—.\\n\\n\\nMy dear Sister,\\n\\nI write a few lines in haste to say that I am safe—and well advanced\\non my voyage. This letter will reach England by a merchantman now on\\nits homeward voyage from Archangel; more fortunate than I, who may not\\nsee my native land, perhaps, for many years. I am, however, in good\\nspirits: my men are bold and apparently firm of purpose, nor do the\\nfloating sheets of ice that continually pass us, indicating the dangers\\nof the region towards which we are advancing, appear to dismay them. We\\nhave already reached a very high latitude; but it is the height of\\nsummer, and although not so warm as in England, the southern gales,\\nwhich blow us speedily towards those shores which I so ardently desire\\nto attain, breathe a degree of renovating warmth which I had not\\nexpected.\\n\\nNo incidents have hitherto befallen us that would make a figure in a\\nletter. One or two stiff gales and the springing of a leak are\\naccidents which experienced navigators scarcely remember to record, and\\nI shall be well content if nothing worse happen to us during our voyage.\\n\\nAdieu, my dear Margaret. Be assured that for my own sake, as well as\\nyours, I will not rashly encounter danger. I will be cool,\\npersevering, and prudent.\\n\\nBut success _shall_ crown my endeavours. Wherefore not? Thus far I\\nhave gone, tracing a secure way over the pathless seas, the very stars\\nthemselves being witnesses and testimonies of my triumph. Why not\\nstill proceed over the untamed yet obedient element? What can stop the\\ndetermined heart and resolved will of man?\\n\\nMy swelling heart involuntarily pours itself out thus. But I must\\nfinish. Heaven bless my beloved sister!\\n\\nR.W.\\n\\n\\n\\n\\nLetter 4\\n\\n\\n_To Mrs. Saville, England._\\n\\nAugust 5th, 17—.\\n\\nSo strange an accident has happened to us that I cannot forbear\\nrecording it, although it is very probable that you will see me before\\nthese papers can come into your possession.\\n\\nLast Monday (July 31st) we were nearly surrounded by ice, which closed\\nin the ship on all sides, scarcely leaving her the sea-room in which\\nshe floated. Our situation was somewhat dangerous, especially as we\\nwere compassed round by a very thick fog. We accordingly lay to,\\nhoping that some change would take place in the atmosphere and weather.\\n\\nAbout two o’clock the mist cleared away, and we beheld, stretched out\\nin every direction, vast and irregular plains of ice, which seemed to\\nhave no end. Some of my comrades groaned, and my own mind began to\\ngrow watchful with anxious thoughts, when a strange sight suddenly\\nattracted our attention and diverted our solicitude from our own\\nsituation. We perceived a low carriage, fixed on a sledge and drawn by\\ndogs, pass on towards the north, at the distance of half a mile; a\\nbeing which had the shape of a man, but apparently of gigantic stature,\\nsat in the sledge and guided the dogs. We watched the rapid progress\\nof the traveller with our telescopes until he was lost among the\\ndistant inequalities of the ice.\\n\\nThis appearance excited our unqualified wonder. We were, as we believed,\\nmany hundred miles from any land; but this apparition seemed to denote that\\nit was not, in reality, so distant as we had supposed. Shut in, however, by\\nice, it was impossible to follow his track, which we had observed with the\\ngreatest attention.\\n\\nAbout two hours after this occurrence we heard the ground sea, and before\\nnight the ice broke and freed our ship. We, however, lay to until the\\nmorning, fearing to encounter in the dark those large loose masses which\\nfloat about after the breaking up of the ice. I profited of this time to\\nrest for a few hours.\\n\\nIn the morning, however, as soon as it was light, I went upon deck and\\nfound all the sailors busy on one side of the vessel, apparently\\ntalking to someone in the sea. It was, in fact, a sledge, like that we\\nhad seen before, which had drifted towards us in the night on a large\\nfragment of ice. Only one dog remained alive; but there was a human\\nbeing within it whom the sailors were persuading to enter the vessel.\\nHe was not, as the other traveller seemed to be, a savage inhabitant of\\nsome undiscovered island, but a European. When I appeared on deck the\\nmaster said, “Here is our captain, and he will not allow you to perish\\non the open sea.”\\n\\nOn perceiving me, the stranger addressed me in English, although with a\\nforeign accent. “Before I come on board your vessel,” said he,\\n“will you have the kindness to inform me whither you are bound?”\\n\\nYou may conceive my astonishment on hearing such a question addressed\\nto me from a man on the brink of destruction and to whom I should have\\nsupposed that my vessel would have been a resource which he would not\\nhave exchanged for the most precious wealth the earth can afford. I\\nreplied, however, that we were on a voyage of discovery towards the\\nnorthern pole.\\n\\nUpon hearing this he appeared satisfied and consented to come on board.\\nGood God! Margaret, if you had seen the man who thus capitulated for\\nhis safety, your surprise would have been boundless. His limbs were\\nnearly frozen, and his body dreadfully emaciated by fatigue and\\nsuffering. I never saw a man in so wretched a condition. We attempted\\nto carry him into the cabin, but as soon as he had quitted the fresh\\nair he fainted. We accordingly brought him back to the deck and\\nrestored him to animation by rubbing him with brandy and forcing him to\\nswallow a small quantity. As soon as he showed signs of life we\\nwrapped him up in blankets and placed him near the chimney of the\\nkitchen stove. By slow degrees he recovered and ate a little soup,\\nwhich restored him wonderfully.\\n\\nTwo days passed in this manner before he was able to speak, and I often\\nfeared that his sufferings had deprived him of understanding. When he\\nhad in some measure recovered, I removed him to my own cabin and\\nattended on him as much as my duty would permit. I never saw a more\\ninteresting creature: his eyes have generally an expression of\\nwildness, and even madness, but there are moments when, if anyone\\nperforms an act of kindness towards him or does him any the most\\ntrifling service, his whole countenance is lighted up, as it were, with\\na beam of benevolence and sweetness that I never saw equalled. But he\\nis generally melancholy and despairing, and sometimes he gnashes his\\nteeth, as if impatient of the weight of woes that oppresses him.\\n\\nWhen my guest was a little recovered I had great trouble to keep off\\nthe men, who wished to ask him a thousand questions; but I would not\\nallow him to be tormented by their idle curiosity, in a state of body\\nand mind whose restoration evidently depended upon entire repose.\\nOnce, however, the lieutenant asked why he had come so far upon the ice\\nin so strange a vehicle.\\n\\nHis countenance instantly assumed an aspect of the deepest gloom, and\\nhe replied, “To seek one who fled from me.”\\n\\n“And did the man whom you pursued travel in the same fashion?”\\n\\n“Yes.”\\n\\n“Then I fancy we have seen him, for the day before we picked you up we\\nsaw some dogs drawing a sledge, with a man in it, across the ice.”\\n\\nThis aroused the stranger’s attention, and he asked a multitude of\\nquestions concerning the route which the dæmon, as he called him, had\\npursued. Soon after, when he was alone with me, he said, “I have,\\ndoubtless, excited your curiosity, as well as that of these good\\npeople; but you are too considerate to make inquiries.”\\n\\n“Certainly; it would indeed be very impertinent and inhuman in me to\\ntrouble you with any inquisitiveness of mine.”\\n\\n“And yet you rescued me from a strange and perilous situation; you have\\nbenevolently restored me to life.”\\n\\nSoon after this he inquired if I thought that the breaking up of the\\nice had destroyed the other sledge. I replied that I could not answer\\nwith any degree of certainty, for the ice had not broken until near\\nmidnight, and the traveller might have arrived at a place of safety\\nbefore that time; but of this I could not judge.\\n\\nFrom this time a new spirit of life animated the decaying frame of the\\nstranger. He manifested the greatest eagerness to be upon deck to watch for\\nthe sledge which had before appeared; but I have persuaded him to remain in\\nthe cabin, for he is far too weak to sustain the rawness of the atmosphere.\\nI have promised that someone should watch for him and give him instant\\nnotice if any new object should appear in sight.\\n\\nSuch is my journal of what relates to this strange occurrence up to the\\npresent day. The stranger has gradually improved in health but is very\\nsilent and appears uneasy when anyone except myself enters his cabin.\\nYet his manners are so conciliating and gentle that the sailors are all\\ninterested in him, although they have had very little communication\\nwith him. For my own part, I begin to love him as a brother, and his\\nconstant and deep grief fills me with sympathy and compassion. He must\\nhave been a noble creature in his better days, being even now in wreck\\nso attractive and amiable.\\n\\nI said in one of my letters, my dear Margaret, that I should find no friend\\non the wide ocean; yet I have found a man who, before his spirit had been\\nbroken by misery, I should have been happy to have possessed as the brother\\nof my heart.\\n\\nI shall continue my journal concerning the stranger at intervals,\\nshould I have any fresh incidents to record.\\n\\n\\n\\n\\nAugust 13th, 17—.\\n\\n\\nMy affection for my guest increases every day. He excites at once my\\nadmiration and my pity to an astonishing degree. How can I see so\\nnoble a creature destroyed by misery without feeling the most poignant\\ngrief? He is so gentle, yet so wise; his mind is so cultivated, and\\nwhen he speaks, although his words are culled with the choicest art,\\nyet they flow with rapidity and unparalleled eloquence.\\n\\nHe is now much recovered from his illness and is continually on the deck,\\napparently watching for the sledge that preceded his own. Yet, although\\nunhappy, he is not so utterly occupied by his own misery but that he\\ninterests himself deeply in the projects of others. He has frequently\\nconversed with me on mine, which I have communicated to him without\\ndisguise. He entered attentively into all my arguments in favour of my\\neventual success and into every minute detail of the measures I had taken\\nto secure it. I was easily led by the sympathy which he evinced to use the\\nlanguage of my heart, to give utterance to the burning ardour of my soul\\nand to say, with all the fervour that warmed me, how gladly I would\\nsacrifice my fortune, my existence, my every hope, to the furtherance of my\\nenterprise. One man’s life or death were but a small price to pay for\\nthe acquirement of the knowledge which I sought, for the dominion I should\\nacquire and transmit over the elemental foes of our race. As I spoke, a\\ndark gloom spread over my listener’s countenance. At first I\\nperceived that he tried to suppress his emotion; he placed his hands before\\nhis eyes, and my voice quivered and failed me as I beheld tears trickle\\nfast from between his fingers; a groan burst from his heaving breast. I\\npaused; at length he spoke, in broken accents: “Unhappy man! Do you\\nshare my madness? Have you drunk also of the intoxicating draught? Hear me;\\nlet me reveal my tale, and you will dash the cup from your lips!”\\n\\nSuch words, you may imagine, strongly excited my curiosity; but the\\nparoxysm of grief that had seized the stranger overcame his weakened\\npowers, and many hours of repose and tranquil conversation were\\nnecessary to restore his composure.\\n\\nHaving conquered the violence of his feelings, he appeared to despise\\nhimself for being the slave of passion; and quelling the dark tyranny of\\ndespair, he led me again to converse concerning myself personally. He asked\\nme the history of my earlier years. The tale was quickly told, but it\\nawakened various trains of reflection. I spoke of my desire of finding a\\nfriend, of my thirst for a more intimate sympathy with a fellow mind than\\nhad ever fallen to my lot, and expressed my conviction that a man could\\nboast of little happiness who did not enjoy this blessing.\\n\\n“I agree with you,” replied the stranger; “we are\\nunfashioned creatures, but half made up, if one wiser, better, dearer than\\nourselves—such a friend ought to be—do not lend his aid to\\nperfectionate our weak and faulty natures. I once had a friend, the most\\nnoble of human creatures, and am entitled, therefore, to judge respecting\\nfriendship. You have hope, and the world before you, and have no cause for\\ndespair. But I—I have lost everything and cannot begin life\\nanew.”\\n\\nAs he said this his countenance became expressive of a calm, settled\\ngrief that touched me to the heart. But he was silent and presently\\nretired to his cabin.\\n\\nEven broken in spirit as he is, no one can feel more deeply than he\\ndoes the beauties of nature. The starry sky, the sea, and every sight\\nafforded by these wonderful regions seem still to have the power of\\nelevating his soul from earth. Such a man has a double existence: he\\nmay suffer misery and be overwhelmed by disappointments, yet when he\\nhas retired into himself, he will be like a celestial spirit that has a\\nhalo around him, within whose circle no grief or folly ventures.\\n\\nWill you smile at the enthusiasm I express concerning this divine\\nwanderer? You would not if you saw him. You have been tutored and\\nrefined by books and retirement from the world, and you are therefore\\nsomewhat fastidious; but this only renders you the more fit to\\nappreciate the extraordinary merits of this wonderful man. Sometimes I\\nhave endeavoured to discover what quality it is which he possesses that\\nelevates him so immeasurably above any other person I ever knew. I\\nbelieve it to be an intuitive discernment, a quick but never-failing\\npower of judgment, a penetration into the causes of things, unequalled\\nfor clearness and precision; add to this a facility of expression and a\\nvoice whose varied intonations are soul-subduing music.\\n\\n\\n\\n\\nAugust 19th, 17—.\\n\\n\\nYesterday the stranger said to me, “You may easily perceive, Captain\\nWalton, that I have suffered great and unparalleled misfortunes. I had\\ndetermined at one time that the memory of these evils should die with\\nme, but you have won me to alter my determination. You seek for\\nknowledge and wisdom, as I once did; and I ardently hope that the\\ngratification of your wishes may not be a serpent to sting you, as mine\\nhas been. I do not know that the relation of my disasters will be\\nuseful to you; yet, when I reflect that you are pursuing the same\\ncourse, exposing yourself to the same dangers which have rendered me\\nwhat I am, I imagine that you may deduce an apt moral from my tale, one\\nthat may direct you if you succeed in your undertaking and console you\\nin case of failure. Prepare to hear of occurrences which are usually\\ndeemed marvellous. Were we among the tamer scenes of nature I might\\nfear to encounter your unbelief, perhaps your ridicule; but many things\\nwill appear possible in these wild and mysterious regions which would\\nprovoke the laughter of those unacquainted with the ever-varied powers\\nof nature; nor can I doubt but that my tale conveys in its series\\ninternal evidence of the truth of the events of which it is composed.”\\n\\nYou may easily imagine that I was much gratified by the offered\\ncommunication, yet I could not endure that he should renew his grief by\\na recital of his misfortunes. I felt the greatest eagerness to hear\\nthe promised narrative, partly from curiosity and partly from a strong\\ndesire to ameliorate his fate if it were in my power. I expressed\\nthese feelings in my answer.\\n\\n“I thank you,” he replied, “for your sympathy, but it is\\nuseless; my fate is nearly fulfilled. I wait but for one event, and then I\\nshall repose in peace. I understand your feeling,” continued he,\\nperceiving that I wished to interrupt him; “but you are mistaken, my\\nfriend, if thus you will allow me to name you; nothing can alter my\\ndestiny; listen to my history, and you will perceive how irrevocably it is\\ndetermined.”\\n\\nHe then told me that he would commence his narrative the next day when I\\nshould be at leisure. This promise drew from me the warmest thanks. I have\\nresolved every night, when I am not imperatively occupied by my duties, to\\nrecord, as nearly as possible in his own words, what he has related during\\nthe day. If I should be engaged, I will at least make notes. This\\nmanuscript will doubtless afford you the greatest pleasure; but to me, who\\nknow him, and who hear it from his own lips—with what interest and\\nsympathy shall I read it in some future day! Even now, as I commence my\\ntask, his full-toned voice swells in my ears; his lustrous eyes dwell on me\\nwith all their melancholy sweetness; I see his thin hand raised in\\nanimation, while the lineaments of his face are irradiated by the soul\\nwithin. Strange and harrowing must be his story, frightful the storm which\\nembraced the gallant vessel on its course and wrecked it—thus!\\n\\n\\n\\n\\nChapter 1\\n\\n\\nI am by birth a Genevese, and my family is one of the most\\ndistinguished of that republic. My ancestors had been for many years\\ncounsellors and syndics, and my father had filled several public\\nsituations with honour and reputation. He was respected by all who\\nknew him for his integrity and indefatigable attention to public\\nbusiness. He passed his younger days perpetually occupied by the\\naffairs of his country; a variety of circumstances had prevented his\\nmarrying early, nor was it until the decline of life that he became a\\nhusband and the father of a family.\\n\\nAs the circumstances of his marriage illustrate his character, I cannot\\nrefrain from relating them. One of his most intimate friends was a\\nmerchant who, from a flourishing state, fell, through numerous\\nmischances, into poverty. This man, whose name was Beaufort, was of a\\nproud and unbending disposition and could not bear to live in poverty\\nand oblivion in the same country where he had formerly been\\ndistinguished for his rank and magnificence. Having paid his debts,\\ntherefore, in the most honourable manner, he retreated with his\\ndaughter to the town of Lucerne, where he lived unknown and in\\nwretchedness. My father loved Beaufort with the truest friendship and\\nwas deeply grieved by his retreat in these unfortunate circumstances.\\nHe bitterly deplored the false pride which led his friend to a conduct\\nso little worthy of the affection that united them. He lost no time in\\nendeavouring to seek him out, with the hope of persuading him to begin\\nthe world again through his credit and assistance.\\n\\nBeaufort had taken effectual measures to conceal himself, and it was ten\\nmonths before my father discovered his abode. Overjoyed at this discovery,\\nhe hastened to the house, which was situated in a mean street near the\\nReuss. But when he entered, misery and despair alone welcomed him. Beaufort\\nhad saved but a very small sum of money from the wreck of his fortunes, but\\nit was sufficient to provide him with sustenance for some months, and in\\nthe meantime he hoped to procure some respectable employment in a\\nmerchant’s house. The interval was, consequently, spent in inaction;\\nhis grief only became more deep and rankling when he had leisure for\\nreflection, and at length it took so fast hold of his mind that at the end\\nof three months he lay on a bed of sickness, incapable of any exertion.\\n\\nHis daughter attended him with the greatest tenderness, but she saw\\nwith despair that their little fund was rapidly decreasing and that\\nthere was no other prospect of support. But Caroline Beaufort\\npossessed a mind of an uncommon mould, and her courage rose to support\\nher in her adversity. She procured plain work; she plaited straw and\\nby various means contrived to earn a pittance scarcely sufficient to\\nsupport life.\\n\\nSeveral months passed in this manner. Her father grew worse; her time\\nwas more entirely occupied in attending him; her means of subsistence\\ndecreased; and in the tenth month her father died in her arms, leaving\\nher an orphan and a beggar. This last blow overcame her, and she knelt\\nby Beaufort’s coffin weeping bitterly, when my father entered the\\nchamber. He came like a protecting spirit to the poor girl, who\\ncommitted herself to his care; and after the interment of his friend he\\nconducted her to Geneva and placed her under the protection of a\\nrelation. Two years after this event Caroline became his wife.\\n\\nThere was a considerable difference between the ages of my parents, but\\nthis circumstance seemed to unite them only closer in bonds of devoted\\naffection. There was a sense of justice in my father’s upright mind\\nwhich rendered it necessary that he should approve highly to love\\nstrongly. Perhaps during former years he had suffered from the\\nlate-discovered unworthiness of one beloved and so was disposed to set\\na greater value on tried worth. There was a show of gratitude and\\nworship in his attachment to my mother, differing wholly from the\\ndoting fondness of age, for it was inspired by reverence for her\\nvirtues and a desire to be the means of, in some degree, recompensing\\nher for the sorrows she had endured, but which gave inexpressible grace\\nto his behaviour to her. Everything was made to yield to her wishes\\nand her convenience. He strove to shelter her, as a fair exotic is\\nsheltered by the gardener, from every rougher wind and to surround her\\nwith all that could tend to excite pleasurable emotion in her soft and\\nbenevolent mind. Her health, and even the tranquillity of her hitherto\\nconstant spirit, had been shaken by what she had gone through. During\\nthe two years that had elapsed previous to their marriage my father had\\ngradually relinquished all his public functions; and immediately after\\ntheir union they sought the pleasant climate of Italy, and the change\\nof scene and interest attendant on a tour through that land of wonders,\\nas a restorative for her weakened frame.\\n\\nFrom Italy they visited Germany and France. I, their eldest child, was born\\nat Naples, and as an infant accompanied them in their rambles. I remained\\nfor several years their only child. Much as they were attached to each\\nother, they seemed to draw inexhaustible stores of affection from a very\\nmine of love to bestow them upon me. My mother’s tender caresses and\\nmy father’s smile of benevolent pleasure while regarding me are my\\nfirst recollections. I was their plaything and their idol, and something\\nbetter—their child, the innocent and helpless creature bestowed on\\nthem by Heaven, whom to bring up to good, and whose future lot it was in\\ntheir hands to direct to happiness or misery, according as they fulfilled\\ntheir duties towards me. With this deep consciousness of what they owed\\ntowards the being to which they had given life, added to the active spirit\\nof tenderness that animated both, it may be imagined that while during\\nevery hour of my infant life I received a lesson of patience, of charity,\\nand of self-control, I was so guided by a silken cord that all seemed but\\none train of enjoyment to me.\\n\\nFor a long time I was their only care. My mother had much desired to have a\\ndaughter, but I continued their single offspring. When I was about five\\nyears old, while making an excursion beyond the frontiers of Italy, they\\npassed a week on the shores of the Lake of Como. Their benevolent\\ndisposition often made them enter the cottages of the poor. This, to my\\nmother, was more than a duty; it was a necessity, a\\npassion—remembering what she had suffered, and how she had been\\nrelieved—for her to act in her turn the guardian angel to the\\nafflicted. During one of their walks a poor cot in the foldings of a vale\\nattracted their notice as being singularly disconsolate, while the number\\nof half-clothed children gathered about it spoke of penury in its worst\\nshape. One day, when my father had gone by himself to Milan, my mother,\\naccompanied by me, visited this abode. She found a peasant and his wife,\\nhard working, bent down by care and labour, distributing a scanty meal to\\nfive hungry babes. Among these there was one which attracted my mother far\\nabove all the rest. She appeared of a different stock. The four others were\\ndark-eyed, hardy little vagrants; this child was thin and very fair. Her\\nhair was the brightest living gold, and despite the poverty of her\\nclothing, seemed to set a crown of distinction on her head. Her brow was\\nclear and ample, her blue eyes cloudless, and her lips and the moulding of\\nher face so expressive of sensibility and sweetness that none could behold\\nher without looking on her as of a distinct species, a being heaven-sent,\\nand bearing a celestial stamp in all her features.\\n\\nThe peasant woman, perceiving that my mother fixed eyes of wonder and\\nadmiration on this lovely girl, eagerly communicated her history. She was\\nnot her child, but the daughter of a Milanese nobleman. Her mother was a\\nGerman and had died on giving her birth. The infant had been placed with\\nthese good people to nurse: they were better off then. They had not been\\nlong married, and their eldest child was but just born. The father of their\\ncharge was one of those Italians nursed in the memory of the antique glory\\nof Italy—one among the _schiavi ognor frementi,_ who exerted\\nhimself to obtain the liberty of his country. He became the victim of its\\nweakness. Whether he had died or still lingered in the dungeons of Austria\\nwas not known. His property was confiscated; his child became an orphan and\\na beggar. She continued with her foster parents and bloomed in their rude\\nabode, fairer than a garden rose among dark-leaved brambles.\\n\\nWhen my father returned from Milan, he found playing with me in the hall of\\nour villa a child fairer than pictured cherub—a creature who seemed\\nto shed radiance from her looks and whose form and motions were lighter\\nthan the chamois of the hills. The apparition was soon explained. With his\\npermission my mother prevailed on her rustic guardians to yield their\\ncharge to her. They were fond of the sweet orphan. Her presence had seemed\\na blessing to them, but it would be unfair to her to keep her in poverty\\nand want when Providence afforded her such powerful protection. They\\nconsulted their village priest, and the result was that Elizabeth Lavenza\\nbecame the inmate of my parents’ house—my more than\\nsister—the beautiful and adored companion of all my occupations and\\nmy pleasures.\\n\\nEveryone loved Elizabeth. The passionate and almost reverential\\nattachment with which all regarded her became, while I shared it, my\\npride and my delight. On the evening previous to her being brought to\\nmy home, my mother had said playfully, “I have a pretty present for my\\nVictor—tomorrow he shall have it.” And when, on the morrow, she\\npresented Elizabeth to me as her promised gift, I, with childish\\nseriousness, interpreted her words literally and looked upon Elizabeth\\nas mine—mine to protect, love, and cherish. All praises bestowed on\\nher I received as made to a possession of my own. We called each other\\nfamiliarly by the name of cousin. No word, no expression could body\\nforth the kind of relation in which she stood to me—my more than\\nsister, since till death she was to be mine only.\\n\\n\\n\\n\\nChapter 2\\n\\n\\nWe were brought up together; there was not quite a year difference in\\nour ages. I need not say that we were strangers to any species of\\ndisunion or dispute. Harmony was the soul of our companionship, and\\nthe diversity and contrast that subsisted in our characters drew us\\nnearer together. Elizabeth was of a calmer and more concentrated\\ndisposition; but, with all my ardour, I was capable of a more intense\\napplication and was more deeply smitten with the thirst for knowledge.\\nShe busied herself with following the aerial creations of the poets;\\nand in the majestic and wondrous scenes which surrounded our Swiss\\nhome —the sublime shapes of the mountains, the changes of the seasons,\\ntempest and calm, the silence of winter, and the life and turbulence of\\nour Alpine summers—she found ample scope for admiration and delight.\\nWhile my companion contemplated with a serious and satisfied spirit the\\nmagnificent appearances of things, I delighted in investigating their\\ncauses. The world was to me a secret which I desired to divine.\\nCuriosity, earnest research to learn the hidden laws of nature,\\ngladness akin to rapture, as they were unfolded to me, are among the\\nearliest sensations I can remember.\\n\\nOn the birth of a second son, my junior by seven years, my parents gave\\nup entirely their wandering life and fixed themselves in their native\\ncountry. We possessed a house in Geneva, and a _campagne_ on Belrive,\\nthe eastern shore of the lake, at the distance of rather more than a\\nleague from the city. We resided principally in the latter, and the\\nlives of my parents were passed in considerable seclusion. It was my\\ntemper to avoid a crowd and to attach myself fervently to a few. I was\\nindifferent, therefore, to my school-fellows in general; but I united\\nmyself in the bonds of the closest friendship to one among them. Henry\\nClerval was the son of a merchant of Geneva. He was a boy of singular\\ntalent and fancy. He loved enterprise, hardship, and even danger for\\nits own sake. He was deeply read in books of chivalry and romance. He\\ncomposed heroic songs and began to write many a tale of enchantment and\\nknightly adventure. He tried to make us act plays and to enter into\\nmasquerades, in which the characters were drawn from the heroes of\\nRoncesvalles, of the Round Table of King Arthur, and the chivalrous\\ntrain who shed their blood to redeem the holy sepulchre from the hands\\nof the infidels.\\n\\nNo human being could have passed a happier childhood than myself. My\\nparents were possessed by the very spirit of kindness and indulgence.\\nWe felt that they were not the tyrants to rule our lot according to\\ntheir caprice, but the agents and creators of all the many delights\\nwhich we enjoyed. When I mingled with other families I distinctly\\ndiscerned how peculiarly fortunate my lot was, and gratitude assisted\\nthe development of filial love.\\n\\nMy temper was sometimes violent, and my passions vehement; but by some\\nlaw in my temperature they were turned not towards childish pursuits\\nbut to an eager desire to learn, and not to learn all things\\nindiscriminately. I confess that neither the structure of languages,\\nnor the code of governments, nor the politics of various states\\npossessed attractions for me. It was the secrets of heaven and earth\\nthat I desired to learn; and whether it was the outward substance of\\nthings or the inner spirit of nature and the mysterious soul of man\\nthat occupied me, still my inquiries were directed to the metaphysical,\\nor in its highest sense, the physical secrets of the world.\\n\\nMeanwhile Clerval occupied himself, so to speak, with the moral\\nrelations of things. The busy stage of life, the virtues of heroes,\\nand the actions of men were his theme; and his hope and his dream was\\nto become one among those whose names are recorded in story as the\\ngallant and adventurous benefactors of our species. The saintly soul\\nof Elizabeth shone like a shrine-dedicated lamp in our peaceful home.\\nHer sympathy was ours; her smile, her soft voice, the sweet glance of\\nher celestial eyes, were ever there to bless and animate us. She was\\nthe living spirit of love to soften and attract; I might have become\\nsullen in my study, rough through the ardour of my nature, but that\\nshe was there to subdue me to a semblance of her own gentleness. And\\nClerval—could aught ill entrench on the noble spirit of Clerval? Yet\\nhe might not have been so perfectly humane, so thoughtful in his\\ngenerosity, so full of kindness and tenderness amidst his passion for\\nadventurous exploit, had she not unfolded to him the real loveliness of\\nbeneficence and made the doing good the end and aim of his soaring\\nambition.\\n\\nI feel exquisite pleasure in dwelling on the recollections of childhood,\\nbefore misfortune had tainted my mind and changed its bright visions of\\nextensive usefulness into gloomy and narrow reflections upon self. Besides,\\nin drawing the picture of my early days, I also record those events which\\nled, by insensible steps, to my after tale of misery, for when I would\\naccount to myself for the birth of that passion which afterwards ruled my\\ndestiny I find it arise, like a mountain river, from ignoble and almost\\nforgotten sources; but, swelling as it proceeded, it became the torrent\\nwhich, in its course, has swept away all my hopes and joys.\\n\\nNatural philosophy is the genius that has regulated my fate; I desire,\\ntherefore, in this narration, to state those facts which led to my\\npredilection for that science. When I was thirteen years of age we all went\\non a party of pleasure to the baths near Thonon; the inclemency of the\\nweather obliged us to remain a day confined to the inn. In this house I\\nchanced to find a volume of the works of Cornelius Agrippa. I opened it\\nwith apathy; the theory which he attempts to demonstrate and the wonderful\\nfacts which he relates soon changed this feeling into enthusiasm. A new\\nlight seemed to dawn upon my mind, and bounding with joy, I communicated my\\ndiscovery to my father. My father looked carelessly at the title page of my\\nbook and said, “Ah! Cornelius Agrippa! My dear Victor, do not waste\\nyour time upon this; it is sad trash.”\\n\\nIf, instead of this remark, my father had taken the pains to explain to me\\nthat the principles of Agrippa had been entirely exploded and that a modern\\nsystem of science had been introduced which possessed much greater powers\\nthan the ancient, because the powers of the latter were chimerical, while\\nthose of the former were real and practical, under such circumstances I\\nshould certainly have thrown Agrippa aside and have contented my\\nimagination, warmed as it was, by returning with greater ardour to my\\nformer studies. It is even possible that the train of my ideas would never\\nhave received the fatal impulse that led to my ruin. But the cursory glance\\nmy father had taken of my volume by no means assured me that he was\\nacquainted with its contents, and I continued to read with the greatest\\navidity.\\n\\nWhen I returned home my first care was to procure the whole works of this\\nauthor, and afterwards of Paracelsus and Albertus Magnus. I read and\\nstudied the wild fancies of these writers with delight; they appeared to me\\ntreasures known to few besides myself. I have described myself as always\\nhaving been imbued with a fervent longing to penetrate the secrets of\\nnature. In spite of the intense labour and wonderful discoveries of modern\\nphilosophers, I always came from my studies discontented and unsatisfied.\\nSir Isaac Newton is said to have avowed that he felt like a child picking\\nup shells beside the great and unexplored ocean of truth. Those of his\\nsuccessors in each branch of natural philosophy with whom I was acquainted\\nappeared even to my boy’s apprehensions as tyros engaged in the same\\npursuit.\\n\\nThe untaught peasant beheld the elements around him and was acquainted\\nwith their practical uses. The most learned philosopher knew little\\nmore. He had partially unveiled the face of Nature, but her immortal\\nlineaments were still a wonder and a mystery. He might dissect,\\nanatomise, and give names; but, not to speak of a final cause, causes\\nin their secondary and tertiary grades were utterly unknown to him. I\\nhad gazed upon the fortifications and impediments that seemed to keep\\nhuman beings from entering the citadel of nature, and rashly and\\nignorantly I had repined.\\n\\nBut here were books, and here were men who had penetrated deeper and knew\\nmore. I took their word for all that they averred, and I became their\\ndisciple. It may appear strange that such should arise in the eighteenth\\ncentury; but while I followed the routine of education in the schools of\\nGeneva, I was, to a great degree, self-taught with regard to my favourite\\nstudies. My father was not scientific, and I was left to struggle with a\\nchild’s blindness, added to a student’s thirst for knowledge.\\nUnder the guidance of my new preceptors I entered with the greatest\\ndiligence into the search of the philosopher’s stone and the elixir\\nof life; but the latter soon obtained my undivided attention. Wealth was an\\ninferior object, but what glory would attend the discovery if I could\\nbanish disease from the human frame and render man invulnerable to any but\\na violent death!\\n\\nNor were these my only visions. The raising of ghosts or devils was a\\npromise liberally accorded by my favourite authors, the fulfilment of which\\nI most eagerly sought; and if my incantations were always unsuccessful, I\\nattributed the failure rather to my own inexperience and mistake than to a\\nwant of skill or fidelity in my instructors. And thus for a time I was\\noccupied by exploded systems, mingling, like an unadept, a thousand\\ncontradictory theories and floundering desperately in a very slough of\\nmultifarious knowledge, guided by an ardent imagination and childish\\nreasoning, till an accident again changed the current of my ideas.\\n\\nWhen I was about fifteen years old we had retired to our house near\\nBelrive, when we witnessed a most violent and terrible thunderstorm. It\\nadvanced from behind the mountains of Jura, and the thunder burst at once\\nwith frightful loudness from various quarters of the heavens. I remained,\\nwhile the storm lasted, watching its progress with curiosity and delight.\\nAs I stood at the door, on a sudden I beheld a stream of fire issue from an\\nold and beautiful oak which stood about twenty yards from our house; and so\\nsoon as the dazzling light vanished, the oak had disappeared, and nothing\\nremained but a blasted stump. When we visited it the next morning, we found\\nthe tree shattered in a singular manner. It was not splintered by the\\nshock, but entirely reduced to thin ribbons of wood. I never beheld\\nanything so utterly destroyed.\\n\\nBefore this I was not unacquainted with the more obvious laws of\\nelectricity. On this occasion a man of great research in natural\\nphilosophy was with us, and excited by this catastrophe, he entered on\\nthe explanation of a theory which he had formed on the subject of\\nelectricity and galvanism, which was at once new and astonishing to me.\\nAll that he said threw greatly into the shade Cornelius Agrippa,\\nAlbertus Magnus, and Paracelsus, the lords of my imagination; but by\\nsome fatality the overthrow of these men disinclined me to pursue my\\naccustomed studies. It seemed to me as if nothing would or could ever\\nbe known. All that had so long engaged my attention suddenly grew\\ndespicable. By one of those caprices of the mind which we are perhaps\\nmost subject to in early youth, I at once gave up my former\\noccupations, set down natural history and all its progeny as a deformed\\nand abortive creation, and entertained the greatest disdain for a\\nwould-be science which could never even step within the threshold of\\nreal knowledge. In this mood of mind I betook myself to the\\nmathematics and the branches of study appertaining to that science as\\nbeing built upon secure foundations, and so worthy of my consideration.\\n\\nThus strangely are our souls constructed, and by such slight ligaments\\nare we bound to prosperity or ruin. When I look back, it seems to me\\nas if this almost miraculous change of inclination and will was the\\nimmediate suggestion of the guardian angel of my life—the last effort\\nmade by the spirit of preservation to avert the storm that was even\\nthen hanging in the stars and ready to envelop me. Her victory was\\nannounced by an unusual tranquillity and gladness of soul which\\nfollowed the relinquishing of my ancient and latterly tormenting\\nstudies. It was thus that I was to be taught to associate evil with\\ntheir prosecution, happiness with their disregard.\\n\\nIt was a strong effort of the spirit of good, but it was ineffectual.\\nDestiny was too potent, and her immutable laws had decreed my utter and\\nterrible destruction.\\n\\n\\n\\n\\nChapter 3\\n\\n\\nWhen I had attained the age of seventeen my parents resolved that I\\nshould become a student at the university of Ingolstadt. I had\\nhitherto attended the schools of Geneva, but my father thought it\\nnecessary for the completion of my education that I should be made\\nacquainted with other customs than those of my native country. My\\ndeparture was therefore fixed at an early date, but before the day\\nresolved upon could arrive, the first misfortune of my life\\noccurred—an omen, as it were, of my future misery.\\n\\nElizabeth had caught the scarlet fever; her illness was severe, and she was\\nin the greatest danger. During her illness many arguments had been urged to\\npersuade my mother to refrain from attending upon her. She had at first\\nyielded to our entreaties, but when she heard that the life of her\\nfavourite was menaced, she could no longer control her anxiety. She\\nattended her sickbed; her watchful attentions triumphed over the malignity\\nof the distemper—Elizabeth was saved, but the consequences of this\\nimprudence were fatal to her preserver. On the third day my mother\\nsickened; her fever was accompanied by the most alarming symptoms, and the\\nlooks of her medical attendants prognosticated the worst event. On her\\ndeathbed the fortitude and benignity of this best of women did not desert\\nher. She joined the hands of Elizabeth and myself. “My\\nchildren,” she said, “my firmest hopes of future happiness were\\nplaced on the prospect of your union. This expectation will now be the\\nconsolation of your father. Elizabeth, my love, you must supply my place to\\nmy younger children. Alas! I regret that I am taken from you; and, happy\\nand beloved as I have been, is it not hard to quit you all? But these are\\nnot thoughts befitting me; I will endeavour to resign myself cheerfully to\\ndeath and will indulge a hope of meeting you in another world.”\\n\\nShe died calmly, and her countenance expressed affection even in death.\\nI need not describe the feelings of those whose dearest ties are rent\\nby that most irreparable evil, the void that presents itself to the\\nsoul, and the despair that is exhibited on the countenance. It is so\\nlong before the mind can persuade itself that she whom we saw every day\\nand whose very existence appeared a part of our own can have departed\\nfor ever—that the brightness of a beloved eye can have been\\nextinguished and the sound of a voice so familiar and dear to the ear\\ncan be hushed, never more to be heard. These are the reflections of\\nthe first days; but when the lapse of time proves the reality of the\\nevil, then the actual bitterness of grief commences. Yet from whom has\\nnot that rude hand rent away some dear connection? And why should I\\ndescribe a sorrow which all have felt, and must feel? The time at\\nlength arrives when grief is rather an indulgence than a necessity; and\\nthe smile that plays upon the lips, although it may be deemed a\\nsacrilege, is not banished. My mother was dead, but we had still\\nduties which we ought to perform; we must continue our course with the\\nrest and learn to think ourselves fortunate whilst one remains whom the\\nspoiler has not seized.\\n\\nMy departure for Ingolstadt, which had been deferred by these events,\\nwas now again determined upon. I obtained from my father a respite of\\nsome weeks. It appeared to me sacrilege so soon to leave the repose,\\nakin to death, of the house of mourning and to rush into the thick of\\nlife. I was new to sorrow, but it did not the less alarm me. I was\\nunwilling to quit the sight of those that remained to me, and above\\nall, I desired to see my sweet Elizabeth in some degree consoled.\\n\\nShe indeed veiled her grief and strove to act the comforter to us all.\\nShe looked steadily on life and assumed its duties with courage and\\nzeal. She devoted herself to those whom she had been taught to call\\nher uncle and cousins. Never was she so enchanting as at this time,\\nwhen she recalled the sunshine of her smiles and spent them upon us.\\nShe forgot even her own regret in her endeavours to make us forget.\\n\\nThe day of my departure at length arrived. Clerval spent the last\\nevening with us. He had endeavoured to persuade his father to permit\\nhim to accompany me and to become my fellow student, but in vain. His\\nfather was a narrow-minded trader and saw idleness and ruin in the\\naspirations and ambition of his son. Henry deeply felt the misfortune\\nof being debarred from a liberal education. He said little, but when\\nhe spoke I read in his kindling eye and in his animated glance a\\nrestrained but firm resolve not to be chained to the miserable details\\nof commerce.\\n\\nWe sat late. We could not tear ourselves away from each other nor\\npersuade ourselves to say the word “Farewell!” It was said, and we\\nretired under the pretence of seeking repose, each fancying that the\\nother was deceived; but when at morning’s dawn I descended to the\\ncarriage which was to convey me away, they were all there—my father\\nagain to bless me, Clerval to press my hand once more, my Elizabeth to\\nrenew her entreaties that I would write often and to bestow the last\\nfeminine attentions on her playmate and friend.\\n\\nI threw myself into the chaise that was to convey me away and indulged in\\nthe most melancholy reflections. I, who had ever been surrounded by\\namiable companions, continually engaged in endeavouring to bestow mutual\\npleasure—I was now alone. In the university whither I was going I\\nmust form my own friends and be my own protector. My life had hitherto\\nbeen remarkably secluded and domestic, and this had given me invincible\\nrepugnance to new countenances. I loved my brothers, Elizabeth, and\\nClerval; these were “old familiar faces,” but I believed myself\\ntotally unfitted for the company of strangers. Such were my reflections as\\nI commenced my journey; but as I proceeded, my spirits and hopes rose. I\\nardently desired the acquisition of knowledge. I had often, when at home,\\nthought it hard to remain during my youth cooped up in one place and had\\nlonged to enter the world and take my station among other human beings. \\nNow my desires were complied with, and it would, indeed, have been folly to\\nrepent.\\n\\nI had sufficient leisure for these and many other reflections during my\\njourney to Ingolstadt, which was long and fatiguing. At length the\\nhigh white steeple of the town met my eyes. I alighted and was\\nconducted to my solitary apartment to spend the evening as I pleased.\\n\\nThe next morning I delivered my letters of introduction and paid a visit to\\nsome of the principal professors. Chance—or rather the evil\\ninfluence, the Angel of Destruction, which asserted omnipotent sway over me\\nfrom the moment I turned my reluctant steps from my father’s\\ndoor—led me first to M. Krempe, professor of natural philosophy. He\\nwas an uncouth man, but deeply imbued in the secrets of his science. He\\nasked me several questions concerning my progress in the different branches\\nof science appertaining to natural philosophy. I replied carelessly, and\\npartly in contempt, mentioned the names of my alchemists as the principal\\nauthors I had studied. The professor stared. “Have you,” he\\nsaid, “really spent your time in studying such nonsense?”\\n\\nI replied in the affirmative. “Every minute,” continued M. Krempe with\\nwarmth, “every instant that you have wasted on those books is utterly\\nand entirely lost. You have burdened your memory with exploded systems\\nand useless names. Good God! In what desert land have you lived,\\nwhere no one was kind enough to inform you that these fancies which you\\nhave so greedily imbibed are a thousand years old and as musty as they\\nare ancient? I little expected, in this enlightened and scientific\\nage, to find a disciple of Albertus Magnus and Paracelsus. My dear\\nsir, you must begin your studies entirely anew.”\\n\\nSo saying, he stepped aside and wrote down a list of several books\\ntreating of natural philosophy which he desired me to procure, and\\ndismissed me after mentioning that in the beginning of the following\\nweek he intended to commence a course of lectures upon natural\\nphilosophy in its general relations, and that M. Waldman, a fellow\\nprofessor, would lecture upon chemistry the alternate days that he\\nomitted.\\n\\nI returned home not disappointed, for I have said that I had long\\nconsidered those authors useless whom the professor reprobated; but I\\nreturned not at all the more inclined to recur to these studies in any\\nshape. M. Krempe was a little squat man with a gruff voice and a\\nrepulsive countenance; the teacher, therefore, did not prepossess me in\\nfavour of his pursuits. In rather a too philosophical and connected a\\nstrain, perhaps, I have given an account of the conclusions I had come\\nto concerning them in my early years. As a child I had not been\\ncontent with the results promised by the modern professors of natural\\nscience. With a confusion of ideas only to be accounted for by my\\nextreme youth and my want of a guide on such matters, I had retrod the\\nsteps of knowledge along the paths of time and exchanged the\\ndiscoveries of recent inquirers for the dreams of forgotten alchemists.\\nBesides, I had a contempt for the uses of modern natural philosophy.\\nIt was very different when the masters of the science sought\\nimmortality and power; such views, although futile, were grand; but now\\nthe scene was changed. The ambition of the inquirer seemed to limit\\nitself to the annihilation of those visions on which my interest in\\nscience was chiefly founded. I was required to exchange chimeras of\\nboundless grandeur for realities of little worth.\\n\\nSuch were my reflections during the first two or three days of my\\nresidence at Ingolstadt, which were chiefly spent in becoming\\nacquainted with the localities and the principal residents in my new\\nabode. But as the ensuing week commenced, I thought of the information\\nwhich M. Krempe had given me concerning the lectures. And although I\\ncould not consent to go and hear that little conceited fellow deliver\\nsentences out of a pulpit, I recollected what he had said of M.\\nWaldman, whom I had never seen, as he had hitherto been out of town.\\n\\nPartly from curiosity and partly from idleness, I went into the lecturing\\nroom, which M. Waldman entered shortly after. This professor was very\\nunlike his colleague. He appeared about fifty years of age, but with an\\naspect expressive of the greatest benevolence; a few grey hairs covered his\\ntemples, but those at the back of his head were nearly black. His person\\nwas short but remarkably erect and his voice the sweetest I had ever heard.\\nHe began his lecture by a recapitulation of the history of chemistry and\\nthe various improvements made by different men of learning, pronouncing\\nwith fervour the names of the most distinguished discoverers. He then took\\na cursory view of the present state of the science and explained many of\\nits elementary terms. After having made a few preparatory experiments, he\\nconcluded with a panegyric upon modern chemistry, the terms of which I\\nshall never forget:\\n\\n“The ancient teachers of this science,” said he,\\n“promised impossibilities and performed nothing. The modern masters\\npromise very little; they know that metals cannot be transmuted and that\\nthe elixir of life is a chimera but these philosophers, whose hands seem\\nonly made to dabble in dirt, and their eyes to pore over the microscope or\\ncrucible, have indeed performed miracles. They penetrate into the recesses\\nof nature and show how she works in her hiding-places. They ascend into the\\nheavens; they have discovered how the blood circulates, and the nature of\\nthe air we breathe. They have acquired new and almost unlimited powers;\\nthey can command the thunders of heaven, mimic the earthquake, and even\\nmock the invisible world with its own shadows.”\\n\\nSuch were the professor’s words—rather let me say such the words of\\nthe fate—enounced to destroy me. As he went on I felt as if my soul\\nwere grappling with a palpable enemy; one by one the various keys were\\ntouched which formed the mechanism of my being; chord after chord was\\nsounded, and soon my mind was filled with one thought, one conception,\\none purpose. So much has been done, exclaimed the soul of\\nFrankenstein—more, far more, will I achieve; treading in the steps\\nalready marked, I will pioneer a new way, explore unknown powers, and\\nunfold to the world the deepest mysteries of creation.\\n\\nI closed not my eyes that night. My internal being was in a state of\\ninsurrection and turmoil; I felt that order would thence arise, but I\\nhad no power to produce it. By degrees, after the morning’s dawn,\\nsleep came. I awoke, and my yesternight’s thoughts were as a dream.\\nThere only remained a resolution to return to my ancient studies and to\\ndevote myself to a science for which I believed myself to possess a\\nnatural talent. On the same day I paid M. Waldman a visit. His\\nmanners in private were even more mild and attractive than in public,\\nfor there was a certain dignity in his mien during his lecture which in\\nhis own house was replaced by the greatest affability and kindness. I\\ngave him pretty nearly the same account of my former pursuits as I had\\ngiven to his fellow professor. He heard with attention the little\\nnarration concerning my studies and smiled at the names of Cornelius\\nAgrippa and Paracelsus, but without the contempt that M. Krempe had\\nexhibited. He said that “These were men to whose indefatigable zeal\\nmodern philosophers were indebted for most of the foundations of their\\nknowledge. They had left to us, as an easier task, to give new names\\nand arrange in connected classifications the facts which they in a\\ngreat degree had been the instruments of bringing to light. The\\nlabours of men of genius, however erroneously directed, scarcely ever\\nfail in ultimately turning to the solid advantage of mankind.” I\\nlistened to his statement, which was delivered without any presumption\\nor affectation, and then added that his lecture had removed my\\nprejudices against modern chemists; I expressed myself in measured\\nterms, with the modesty and deference due from a youth to his\\ninstructor, without letting escape (inexperience in life would have\\nmade me ashamed) any of the enthusiasm which stimulated my intended\\nlabours. I requested his advice concerning the books I ought to\\nprocure.\\n\\n“I am happy,” said M. Waldman, “to have gained a\\ndisciple; and if your application equals your ability, I have no doubt of\\nyour success. Chemistry is that branch of natural philosophy in which the\\ngreatest improvements have been and may be made; it is on that account that\\nI have made it my peculiar study; but at the same time, I have not\\nneglected the other branches of science. A man would make but a very sorry\\nchemist if he attended to that department of human knowledge alone. If your\\nwish is to become really a man of science and not merely a petty\\nexperimentalist, I should advise you to apply to every branch of natural\\nphilosophy, including mathematics.”\\n\\nHe then took me into his laboratory and explained to me the uses of his\\nvarious machines, instructing me as to what I ought to procure and\\npromising me the use of his own when I should have advanced far enough in\\nthe science not to derange their mechanism. He also gave me the list of\\nbooks which I had requested, and I took my leave.\\n\\nThus ended a day memorable to me; it decided my future destiny.\\n\\n\\n\\n\\nChapter 4\\n\\n\\nFrom this day natural philosophy, and particularly chemistry, in the\\nmost comprehensive sense of the term, became nearly my sole occupation.\\nI read with ardour those works, so full of genius and discrimination,\\nwhich modern inquirers have written on these subjects. I attended the\\nlectures and cultivated the acquaintance of the men of science of the\\nuniversity, and I found even in M. Krempe a great deal of sound sense\\nand real information, combined, it is true, with a repulsive\\nphysiognomy and manners, but not on that account the less valuable. In\\nM. Waldman I found a true friend. His gentleness was never tinged by\\ndogmatism, and his instructions were given with an air of frankness and\\ngood nature that banished every idea of pedantry. In a thousand ways\\nhe smoothed for me the path of knowledge and made the most abstruse\\ninquiries clear and facile to my apprehension. My application was at\\nfirst fluctuating and uncertain; it gained strength as I proceeded and\\nsoon became so ardent and eager that the stars often disappeared in the\\nlight of morning whilst I was yet engaged in my laboratory.\\n\\nAs I applied so closely, it may be easily conceived that my progress\\nwas rapid. My ardour was indeed the astonishment of the students, and\\nmy proficiency that of the masters. Professor Krempe often asked me,\\nwith a sly smile, how Cornelius Agrippa went on, whilst M. Waldman\\nexpressed the most heartfelt exultation in my progress. Two years\\npassed in this manner, during which I paid no visit to Geneva, but was\\nengaged, heart and soul, in the pursuit of some discoveries which I\\nhoped to make. None but those who have experienced them can conceive\\nof the enticements of science. In other studies you go as far as\\nothers have gone before you, and there is nothing more to know; but in\\na scientific pursuit there is continual food for discovery and wonder.\\nA mind of moderate capacity which closely pursues one study must\\ninfallibly arrive at great proficiency in that study; and I, who\\ncontinually sought the attainment of one object of pursuit and was\\nsolely wrapped up in this, improved so rapidly that at the end of two\\nyears I made some discoveries in the improvement of some chemical\\ninstruments, which procured me great esteem and admiration at the\\nuniversity. When I had arrived at this point and had become as well\\nacquainted with the theory and practice of natural philosophy as\\ndepended on the lessons of any of the professors at Ingolstadt, my\\nresidence there being no longer conducive to my improvements, I thought\\nof returning to my friends and my native town, when an incident\\nhappened that protracted my stay.\\n\\nOne of the phenomena which had peculiarly attracted my attention was\\nthe structure of the human frame, and, indeed, any animal endued with\\nlife. Whence, I often asked myself, did the principle of life proceed?\\nIt was a bold question, and one which has ever been considered as a\\nmystery; yet with how many things are we upon the brink of becoming\\nacquainted, if cowardice or carelessness did not restrain our\\ninquiries. I revolved these circumstances in my mind and determined\\nthenceforth to apply myself more particularly to those branches of\\nnatural philosophy which relate to physiology. Unless I had been\\nanimated by an almost supernatural enthusiasm, my application to this\\nstudy would have been irksome and almost intolerable. To examine the\\ncauses of life, we must first have recourse to death. I became\\nacquainted with the science of anatomy, but this was not sufficient; I\\nmust also observe the natural decay and corruption of the human body.\\nIn my education my father had taken the greatest precautions that my\\nmind should be impressed with no supernatural horrors. I do not ever\\nremember to have trembled at a tale of superstition or to have feared\\nthe apparition of a spirit. Darkness had no effect upon my fancy, and\\na churchyard was to me merely the receptacle of bodies deprived of\\nlife, which, from being the seat of beauty and strength, had become\\nfood for the worm. Now I was led to examine the cause and progress of\\nthis decay and forced to spend days and nights in vaults and\\ncharnel-houses. My attention was fixed upon every object the most\\ninsupportable to the delicacy of the human feelings. I saw how the\\nfine form of man was degraded and wasted; I beheld the corruption of\\ndeath succeed to the blooming cheek of life; I saw how the worm\\ninherited the wonders of the eye and brain. I paused, examining and\\nanalysing all the minutiae of causation, as exemplified in the change\\nfrom life to death, and death to life, until from the midst of this\\ndarkness a sudden light broke in upon me—a light so brilliant and\\nwondrous, yet so simple, that while I became dizzy with the immensity\\nof the prospect which it illustrated, I was surprised that among so\\nmany men of genius who had directed their inquiries towards the same\\nscience, that I alone should be reserved to discover so astonishing a\\nsecret.\\n\\nRemember, I am not recording the vision of a madman. The sun does not\\nmore certainly shine in the heavens than that which I now affirm is\\ntrue. Some miracle might have produced it, yet the stages of the\\ndiscovery were distinct and probable. After days and nights of\\nincredible labour and fatigue, I succeeded in discovering the cause of\\ngeneration and life; nay, more, I became myself capable of bestowing\\nanimation upon lifeless matter.\\n\\nThe astonishment which I had at first experienced on this discovery\\nsoon gave place to delight and rapture. After so much time spent in\\npainful labour, to arrive at once at the summit of my desires was the\\nmost gratifying consummation of my toils. But this discovery was so\\ngreat and overwhelming that all the steps by which I had been\\nprogressively led to it were obliterated, and I beheld only the result.\\nWhat had been the study and desire of the wisest men since the creation\\nof the world was now within my grasp. Not that, like a magic scene, it\\nall opened upon me at once: the information I had obtained was of a\\nnature rather to direct my endeavours so soon as I should point them\\ntowards the object of my search than to exhibit that object already\\naccomplished. I was like the Arabian who had been buried with the dead\\nand found a passage to life, aided only by one glimmering and seemingly\\nineffectual light.\\n\\nI see by your eagerness and the wonder and hope which your eyes\\nexpress, my friend, that you expect to be informed of the secret with\\nwhich I am acquainted; that cannot be; listen patiently until the end\\nof my story, and you will easily perceive why I am reserved upon that\\nsubject. I will not lead you on, unguarded and ardent as I then was,\\nto your destruction and infallible misery. Learn from me, if not by my\\nprecepts, at least by my example, how dangerous is the acquirement of\\nknowledge and how much happier that man is who believes his native town\\nto be the world, than he who aspires to become greater than his nature\\nwill allow.\\n\\nWhen I found so astonishing a power placed within my hands, I hesitated\\na long time concerning the manner in which I should employ it.\\nAlthough I possessed the capacity of bestowing animation, yet to\\nprepare a frame for the reception of it, with all its intricacies of\\nfibres, muscles, and veins, still remained a work of inconceivable\\ndifficulty and labour. I doubted at first whether I should attempt the\\ncreation of a being like myself, or one of simpler organization; but my\\nimagination was too much exalted by my first success to permit me to\\ndoubt of my ability to give life to an animal as complex and wonderful\\nas man. The materials at present within my command hardly appeared\\nadequate to so arduous an undertaking, but I doubted not that I should\\nultimately succeed. I prepared myself for a multitude of reverses; my\\noperations might be incessantly baffled, and at last my work be\\nimperfect, yet when I considered the improvement which every day takes\\nplace in science and mechanics, I was encouraged to hope my present\\nattempts would at least lay the foundations of future success. Nor\\ncould I consider the magnitude and complexity of my plan as any\\nargument of its impracticability. It was with these feelings that I\\nbegan the creation of a human being. As the minuteness of the parts\\nformed a great hindrance to my speed, I resolved, contrary to my first\\nintention, to make the being of a gigantic stature, that is to say,\\nabout eight feet in height, and proportionably large. After having\\nformed this determination and having spent some months in successfully\\ncollecting and arranging my materials, I began.\\n\\nNo one can conceive the variety of feelings which bore me onwards, like\\na hurricane, in the first enthusiasm of success. Life and death\\nappeared to me ideal bounds, which I should first break through, and\\npour a torrent of light into our dark world. A new species would bless\\nme as its creator and source; many happy and excellent natures would\\nowe their being to me. No father could claim the gratitude of his\\nchild so completely as I should deserve theirs. Pursuing these\\nreflections, I thought that if I could bestow animation upon lifeless\\nmatter, I might in process of time (although I now found it impossible)\\nrenew life where death had apparently devoted the body to corruption.\\n\\nThese thoughts supported my spirits, while I pursued my undertaking\\nwith unremitting ardour. My cheek had grown pale with study, and my\\nperson had become emaciated with confinement. Sometimes, on the very\\nbrink of certainty, I failed; yet still I clung to the hope which the\\nnext day or the next hour might realise. One secret which I alone\\npossessed was the hope to which I had dedicated myself; and the moon\\ngazed on my midnight labours, while, with unrelaxed and breathless\\neagerness, I pursued nature to her hiding-places. Who shall conceive\\nthe horrors of my secret toil as I dabbled among the unhallowed damps\\nof the grave or tortured the living animal to animate the lifeless\\nclay? My limbs now tremble, and my eyes swim with the remembrance; but\\nthen a resistless and almost frantic impulse urged me forward; I seemed\\nto have lost all soul or sensation but for this one pursuit. It was\\nindeed but a passing trance, that only made me feel with renewed\\nacuteness so soon as, the unnatural stimulus ceasing to operate, I had\\nreturned to my old habits. I collected bones from charnel-houses and\\ndisturbed, with profane fingers, the tremendous secrets of the human\\nframe. In a solitary chamber, or rather cell, at the top of the house,\\nand separated from all the other apartments by a gallery and staircase,\\nI kept my workshop of filthy creation; my eyeballs were starting from\\ntheir sockets in attending to the details of my employment. The\\ndissecting room and the slaughter-house furnished many of my materials;\\nand often did my human nature turn with loathing from my occupation,\\nwhilst, still urged on by an eagerness which perpetually increased, I\\nbrought my work near to a conclusion.\\n\\nThe summer months passed while I was thus engaged, heart and soul, in\\none pursuit. It was a most beautiful season; never did the fields\\nbestow a more plentiful harvest or the vines yield a more luxuriant\\nvintage, but my eyes were insensible to the charms of nature. And the\\nsame feelings which made me neglect the scenes around me caused me also\\nto forget those friends who were so many miles absent, and whom I had\\nnot seen for so long a time. I knew my silence disquieted them, and I\\nwell remembered the words of my father: “I know that while you are\\npleased with yourself you will think of us with affection, and we shall\\nhear regularly from you. You must pardon me if I regard any\\ninterruption in your correspondence as a proof that your other duties\\nare equally neglected.”\\n\\nI knew well therefore what would be my father’s feelings, but I could\\nnot tear my thoughts from my employment, loathsome in itself, but which\\nhad taken an irresistible hold of my imagination. I wished, as it\\nwere, to procrastinate all that related to my feelings of affection\\nuntil the great object, which swallowed up every habit of my nature,\\nshould be completed.\\n\\nI then thought that my father would be unjust if he ascribed my neglect\\nto vice or faultiness on my part, but I am now convinced that he was\\njustified in conceiving that I should not be altogether free from\\nblame. A human being in perfection ought always to preserve a calm and\\npeaceful mind and never to allow passion or a transitory desire to\\ndisturb his tranquillity. I do not think that the pursuit of knowledge\\nis an exception to this rule. If the study to which you apply yourself\\nhas a tendency to weaken your affections and to destroy your taste for\\nthose simple pleasures in which no alloy can possibly mix, then that\\nstudy is certainly unlawful, that is to say, not befitting the human\\nmind. If this rule were always observed; if no man allowed any pursuit\\nwhatsoever to interfere with the tranquillity of his domestic\\naffections, Greece had not been enslaved, Cæsar would have spared his\\ncountry, America would have been discovered more gradually, and the\\nempires of Mexico and Peru had not been destroyed.\\n\\nBut I forget that I am moralizing in the most interesting part of my\\ntale, and your looks remind me to proceed.\\n\\nMy father made no reproach in his letters and only took notice of my\\nsilence by inquiring into my occupations more particularly than before.\\nWinter, spring, and summer passed away during my labours; but I did not\\nwatch the blossom or the expanding leaves—sights which before always\\nyielded me supreme delight—so deeply was I engrossed in my\\noccupation. The leaves of that year had withered before my work drew near\\nto a close, and now every day showed me more plainly how well I had\\nsucceeded. But my enthusiasm was checked by my anxiety, and I appeared\\nrather like one doomed by slavery to toil in the mines, or any other\\nunwholesome trade than an artist occupied by his favourite employment.\\nEvery night I was oppressed by a slow fever, and I became nervous to a most\\npainful degree; the fall of a leaf startled me, and I shunned my fellow\\ncreatures as if I had been guilty of a crime. Sometimes I grew alarmed at\\nthe wreck I perceived that I had become; the energy of my purpose alone\\nsustained me: my labours would soon end, and I believed that exercise and\\namusement would then drive away incipient disease; and I promised myself\\nboth of these when my creation should be complete.\\n\\n\\n\\n\\nChapter 5\\n\\n\\nIt was on a dreary night of November that I beheld the accomplishment\\nof my toils. With an anxiety that almost amounted to agony, I\\ncollected the instruments of life around me, that I might infuse a\\nspark of being into the lifeless thing that lay at my feet. It was\\nalready one in the morning; the rain pattered dismally against the\\npanes, and my candle was nearly burnt out, when, by the glimmer of the\\nhalf-extinguished light, I saw the dull yellow eye of the creature\\nopen; it breathed hard, and a convulsive motion agitated its limbs.\\n\\nHow can I describe my emotions at this catastrophe, or how delineate\\nthe wretch whom with such infinite pains and care I had endeavoured to\\nform? His limbs were in proportion, and I had selected his features as\\nbeautiful. Beautiful! Great God! His yellow skin scarcely covered\\nthe work of muscles and arteries beneath; his hair was of a lustrous\\nblack, and flowing; his teeth of a pearly whiteness; but these\\nluxuriances only formed a more horrid contrast with his watery eyes,\\nthat seemed almost of the same colour as the dun-white sockets in which\\nthey were set, his shrivelled complexion and straight black lips.\\n\\nThe different accidents of life are not so changeable as the feelings\\nof human nature. I had worked hard for nearly two years, for the sole\\npurpose of infusing life into an inanimate body. For this I had\\ndeprived myself of rest and health. I had desired it with an ardour\\nthat far exceeded moderation; but now that I had finished, the beauty\\nof the dream vanished, and breathless horror and disgust filled my\\nheart. Unable to endure the aspect of the being I had created, I\\nrushed out of the room and continued a long time traversing my\\nbed-chamber, unable to compose my mind to sleep. At length lassitude\\nsucceeded to the tumult I had before endured, and I threw myself on the\\nbed in my clothes, endeavouring to seek a few moments of forgetfulness.\\nBut it was in vain; I slept, indeed, but I was disturbed by the wildest\\ndreams. I thought I saw Elizabeth, in the bloom of health, walking in\\nthe streets of Ingolstadt. Delighted and surprised, I embraced her,\\nbut as I imprinted the first kiss on her lips, they became livid with\\nthe hue of death; her features appeared to change, and I thought that I\\nheld the corpse of my dead mother in my arms; a shroud enveloped her\\nform, and I saw the grave-worms crawling in the folds of the flannel.\\nI started from my sleep with horror; a cold dew covered my forehead, my\\nteeth chattered, and every limb became convulsed; when, by the dim and\\nyellow light of the moon, as it forced its way through the window\\nshutters, I beheld the wretch—the miserable monster whom I had\\ncreated. He held up the curtain of the bed; and his eyes, if eyes they\\nmay be called, were fixed on me. His jaws opened, and he muttered some\\ninarticulate sounds, while a grin wrinkled his cheeks. He might have\\nspoken, but I did not hear; one hand was stretched out, seemingly to\\ndetain me, but I escaped and rushed downstairs. I took refuge in the\\ncourtyard belonging to the house which I inhabited, where I remained\\nduring the rest of the night, walking up and down in the greatest\\nagitation, listening attentively, catching and fearing each sound as if\\nit were to announce the approach of the demoniacal corpse to which I\\nhad so miserably given life.\\n\\nOh! No mortal could support the horror of that countenance. A mummy\\nagain endued with animation could not be so hideous as that wretch. I\\nhad gazed on him while unfinished; he was ugly then, but when those\\nmuscles and joints were rendered capable of motion, it became a thing\\nsuch as even Dante could not have conceived.\\n\\nI passed the night wretchedly. Sometimes my pulse beat so quickly and\\nhardly that I felt the palpitation of every artery; at others, I nearly\\nsank to the ground through languor and extreme weakness. Mingled with\\nthis horror, I felt the bitterness of disappointment; dreams that had\\nbeen my food and pleasant rest for so long a space were now become a\\nhell to me; and the change was so rapid, the overthrow so complete!\\n\\nMorning, dismal and wet, at length dawned and discovered to my\\nsleepless and aching eyes the church of Ingolstadt, its white steeple\\nand clock, which indicated the sixth hour. The porter opened the gates\\nof the court, which had that night been my asylum, and I issued into\\nthe streets, pacing them with quick steps, as if I sought to avoid the\\nwretch whom I feared every turning of the street would present to my\\nview. I did not dare return to the apartment which I inhabited, but\\nfelt impelled to hurry on, although drenched by the rain which poured\\nfrom a black and comfortless sky.\\n\\nI continued walking in this manner for some time, endeavouring by\\nbodily exercise to ease the load that weighed upon my mind. I\\ntraversed the streets without any clear conception of where I was or\\nwhat I was doing. My heart palpitated in the sickness of fear, and I\\nhurried on with irregular steps, not daring to look about me:\\n \\n Like one who, on a lonely road,\\n Doth walk in fear and dread,\\n And, having once turned round, walks on,\\n And turns no more his head;\\n Because he knows a frightful fiend\\n Doth close behind him tread.\\n \\n [Coleridge’s “Ancient Mariner.”]\\n\\n\\n\\nContinuing thus, I came at length opposite to the inn at which the various\\ndiligences and carriages usually stopped. Here I paused, I knew not why;\\nbut I remained some minutes with my eyes fixed on a coach that was coming\\ntowards me from the other end of the street. As it drew nearer I observed\\nthat it was the Swiss diligence; it stopped just where I was standing, and\\non the door being opened, I perceived Henry Clerval, who, on seeing me,\\ninstantly sprung out. “My dear Frankenstein,” exclaimed he,\\n“how glad I am to see you! How fortunate that you should be here at\\nthe very moment of my alighting!”\\n\\nNothing could equal my delight on seeing Clerval; his presence brought back\\nto my thoughts my father, Elizabeth, and all those scenes of home so dear\\nto my recollection. I grasped his hand, and in a moment forgot my horror\\nand misfortune; I felt suddenly, and for the first time during many months,\\ncalm and serene joy. I welcomed my friend, therefore, in the most cordial\\nmanner, and we walked towards my college. Clerval continued talking for\\nsome time about our mutual friends and his own good fortune in being\\npermitted to come to Ingolstadt. “You may easily believe,” said\\nhe, “how great was the difficulty to persuade my father that all\\nnecessary knowledge was not comprised in the noble art of book-keeping;\\nand, indeed, I believe I left him incredulous to the last, for his constant\\nanswer to my unwearied entreaties was the same as that of the Dutch\\nschoolmaster in The Vicar of Wakefield: ‘I have ten thousand florins\\na year without Greek, I eat heartily without Greek.’ But his\\naffection for me at length overcame his dislike of learning, and he has\\npermitted me to undertake a voyage of discovery to the land of\\nknowledge.”\\n\\n“It gives me the greatest delight to see you; but tell me how you left\\nmy father, brothers, and Elizabeth.”\\n\\n“Very well, and very happy, only a little uneasy that they hear from\\nyou so seldom. By the by, I mean to lecture you a little upon their\\naccount myself. But, my dear Frankenstein,” continued he, stopping\\nshort and gazing full in my face, “I did not before remark how very ill\\nyou appear; so thin and pale; you look as if you had been watching for\\nseveral nights.”\\n\\n“You have guessed right; I have lately been so deeply engaged in one\\noccupation that I have not allowed myself sufficient rest, as you see;\\nbut I hope, I sincerely hope, that all these employments are now at an\\nend and that I am at length free.”\\n\\nI trembled excessively; I could not endure to think of, and far less to\\nallude to, the occurrences of the preceding night. I walked with a\\nquick pace, and we soon arrived at my college. I then reflected, and\\nthe thought made me shiver, that the creature whom I had left in my\\napartment might still be there, alive and walking about. I dreaded to\\nbehold this monster, but I feared still more that Henry should see him.\\nEntreating him, therefore, to remain a few minutes at the bottom of the\\nstairs, I darted up towards my own room. My hand was already on the\\nlock of the door before I recollected myself. I then paused, and a\\ncold shivering came over me. I threw the door forcibly open, as\\nchildren are accustomed to do when they expect a spectre to stand in\\nwaiting for them on the other side; but nothing appeared. I stepped\\nfearfully in: the apartment was empty, and my bedroom was also freed\\nfrom its hideous guest. I could hardly believe that so great a good\\nfortune could have befallen me, but when I became assured that my enemy\\nhad indeed fled, I clapped my hands for joy and ran down to Clerval.\\n\\nWe ascended into my room, and the servant presently brought breakfast;\\nbut I was unable to contain myself. It was not joy only that possessed\\nme; I felt my flesh tingle with excess of sensitiveness, and my pulse\\nbeat rapidly. I was unable to remain for a single instant in the same\\nplace; I jumped over the chairs, clapped my hands, and laughed aloud.\\nClerval at first attributed my unusual spirits to joy on his arrival,\\nbut when he observed me more attentively, he saw a wildness in my eyes\\nfor which he could not account, and my loud, unrestrained, heartless\\nlaughter frightened and astonished him.\\n\\n“My dear Victor,” cried he, “what, for God’s sake,\\nis the matter? Do not laugh in that manner. How ill you are! What is the\\ncause of all this?”\\n\\n“Do not ask me,” cried I, putting my hands before my eyes, for I\\nthought I saw the dreaded spectre glide into the room; “_he_ can\\ntell. Oh, save me! Save me!” I imagined that the monster seized me;\\nI struggled furiously and fell down in a fit.\\n\\nPoor Clerval! What must have been his feelings? A meeting, which he\\nanticipated with such joy, so strangely turned to bitterness. But I\\nwas not the witness of his grief, for I was lifeless and did not\\nrecover my senses for a long, long time.\\n\\nThis was the commencement of a nervous fever which confined me for\\nseveral months. During all that time Henry was my only nurse. I\\nafterwards learned that, knowing my father’s advanced age and unfitness\\nfor so long a journey, and how wretched my sickness would make\\nElizabeth, he spared them this grief by concealing the extent of my\\ndisorder. He knew that I could not have a more kind and attentive\\nnurse than himself; and, firm in the hope he felt of my recovery, he\\ndid not doubt that, instead of doing harm, he performed the kindest\\naction that he could towards them.\\n\\nBut I was in reality very ill, and surely nothing but the unbounded and\\nunremitting attentions of my friend could have restored me to life.\\nThe form of the monster on whom I had bestowed existence was for ever\\nbefore my eyes, and I raved incessantly concerning him. Doubtless my\\nwords surprised Henry; he at first believed them to be the wanderings\\nof my disturbed imagination, but the pertinacity with which I\\ncontinually recurred to the same subject persuaded him that my disorder\\nindeed owed its origin to some uncommon and terrible event.\\n\\nBy very slow degrees, and with frequent relapses that alarmed and\\ngrieved my friend, I recovered. I remember the first time I became\\ncapable of observing outward objects with any kind of pleasure, I\\nperceived that the fallen leaves had disappeared and that the young\\nbuds were shooting forth from the trees that shaded my window. It was\\na divine spring, and the season contributed greatly to my\\nconvalescence. I felt also sentiments of joy and affection revive in\\nmy bosom; my gloom disappeared, and in a short time I became as\\ncheerful as before I was attacked by the fatal passion.\\n\\n“Dearest Clerval,” exclaimed I, “how kind, how very good\\nyou are to me. This whole winter, instead of being spent in study, as you\\npromised yourself, has been consumed in my sick room. How shall I ever\\nrepay you? I feel the greatest remorse for the disappointment of which I\\nhave been the occasion, but you will forgive me.”\\n\\n“You will repay me entirely if you do not discompose yourself, but get\\nwell as fast as you can; and since you appear in such good spirits, I\\nmay speak to you on one subject, may I not?”\\n\\nI trembled. One subject! What could it be? Could he allude to an object on\\nwhom I dared not even think?\\n\\n“Compose yourself,” said Clerval, who observed my change of\\ncolour, “I will not mention it if it agitates you; but your father\\nand cousin would be very happy if they received a letter from you in your\\nown handwriting. They hardly know how ill you have been and are uneasy at\\nyour long silence.”\\n\\n“Is that all, my dear Henry? How could you suppose that my first\\nthought would not fly towards those dear, dear friends whom I love and\\nwho are so deserving of my love?”\\n\\n“If this is your present temper, my friend, you will perhaps be glad\\nto see a letter that has been lying here some days for you; it is from\\nyour cousin, I believe.”\\n\\n\\n\\n\\nChapter 6\\n\\n\\nClerval then put the following letter into my hands. It was from my\\nown Elizabeth:\\n\\n“My dearest Cousin,\\n\\n“You have been ill, very ill, and even the constant letters of dear\\nkind Henry are not sufficient to reassure me on your account. You are\\nforbidden to write—to hold a pen; yet one word from you, dear Victor,\\nis necessary to calm our apprehensions. For a long time I have thought\\nthat each post would bring this line, and my persuasions have\\nrestrained my uncle from undertaking a journey to Ingolstadt. I have\\nprevented his encountering the inconveniences and perhaps dangers of so\\nlong a journey, yet how often have I regretted not being able to\\nperform it myself! I figure to myself that the task of attending on\\nyour sickbed has devolved on some mercenary old nurse, who could never\\nguess your wishes nor minister to them with the care and affection of\\nyour poor cousin. Yet that is over now: Clerval writes that indeed\\nyou are getting better. I eagerly hope that you will confirm this\\nintelligence soon in your own handwriting.\\n\\n“Get well—and return to us. You will find a happy, cheerful home and\\nfriends who love you dearly. Your father’s health is vigorous, and he\\nasks but to see you, but to be assured that you are well; and not a\\ncare will ever cloud his benevolent countenance. How pleased you would\\nbe to remark the improvement of our Ernest! He is now sixteen and full\\nof activity and spirit. He is desirous to be a true Swiss and to enter\\ninto foreign service, but we cannot part with him, at least until his\\nelder brother returns to us. My uncle is not pleased with the idea of\\na military career in a distant country, but Ernest never had your\\npowers of application. He looks upon study as an odious fetter; his\\ntime is spent in the open air, climbing the hills or rowing on the\\nlake. I fear that he will become an idler unless we yield the point\\nand permit him to enter on the profession which he has selected.\\n\\n“Little alteration, except the growth of our dear children, has taken\\nplace since you left us. The blue lake and snow-clad mountains—they\\nnever change; and I think our placid home and our contented hearts are\\nregulated by the same immutable laws. My trifling occupations take up\\nmy time and amuse me, and I am rewarded for any exertions by seeing\\nnone but happy, kind faces around me. Since you left us, but one\\nchange has taken place in our little household. Do you remember on\\nwhat occasion Justine Moritz entered our family? Probably you do not;\\nI will relate her history, therefore in a few words. Madame Moritz,\\nher mother, was a widow with four children, of whom Justine was the\\nthird. This girl had always been the favourite of her father, but\\nthrough a strange perversity, her mother could not endure her, and\\nafter the death of M. Moritz, treated her very ill. My aunt observed\\nthis, and when Justine was twelve years of age, prevailed on her mother\\nto allow her to live at our house. The republican institutions of our\\ncountry have produced simpler and happier manners than those which\\nprevail in the great monarchies that surround it. Hence there is less\\ndistinction between the several classes of its inhabitants; and the\\nlower orders, being neither so poor nor so despised, their manners are\\nmore refined and moral. A servant in Geneva does not mean the same\\nthing as a servant in France and England. Justine, thus received in\\nour family, learned the duties of a servant, a condition which, in our\\nfortunate country, does not include the idea of ignorance and a\\nsacrifice of the dignity of a human being.\\n\\n“Justine, you may remember, was a great favourite of yours; and I\\nrecollect you once remarked that if you were in an ill humour, one\\nglance from Justine could dissipate it, for the same reason that\\nAriosto gives concerning the beauty of Angelica—she looked so\\nfrank-hearted and happy. My aunt conceived a great attachment for her,\\nby which she was induced to give her an education superior to that\\nwhich she had at first intended. This benefit was fully repaid;\\nJustine was the most grateful little creature in the world: I do not\\nmean that she made any professions I never heard one pass her lips, but\\nyou could see by her eyes that she almost adored her protectress.\\nAlthough her disposition was gay and in many respects inconsiderate,\\nyet she paid the greatest attention to every gesture of my aunt. She\\nthought her the model of all excellence and endeavoured to imitate her\\nphraseology and manners, so that even now she often reminds me of her.\\n\\n“When my dearest aunt died every one was too much occupied in their own\\ngrief to notice poor Justine, who had attended her during her illness\\nwith the most anxious affection. Poor Justine was very ill; but other\\ntrials were reserved for her.\\n\\n“One by one, her brothers and sister died; and her mother, with the\\nexception of her neglected daughter, was left childless. The\\nconscience of the woman was troubled; she began to think that the\\ndeaths of her favourites was a judgement from heaven to chastise her\\npartiality. She was a Roman Catholic; and I believe her confessor\\nconfirmed the idea which she had conceived. Accordingly, a few months\\nafter your departure for Ingolstadt, Justine was called home by her\\nrepentant mother. Poor girl! She wept when she quitted our house; she\\nwas much altered since the death of my aunt; grief had given softness\\nand a winning mildness to her manners, which had before been remarkable\\nfor vivacity. Nor was her residence at her mother’s house of a nature\\nto restore her gaiety. The poor woman was very vacillating in her\\nrepentance. She sometimes begged Justine to forgive her unkindness,\\nbut much oftener accused her of having caused the deaths of her\\nbrothers and sister. Perpetual fretting at length threw Madame Moritz\\ninto a decline, which at first increased her irritability, but she is\\nnow at peace for ever. She died on the first approach of cold weather,\\nat the beginning of this last winter. Justine has just returned to us;\\nand I assure you I love her tenderly. She is very clever and gentle,\\nand extremely pretty; as I mentioned before, her mien and her\\nexpression continually remind me of my dear aunt.\\n\\n“I must say also a few words to you, my dear cousin, of little darling\\nWilliam. I wish you could see him; he is very tall of his age, with\\nsweet laughing blue eyes, dark eyelashes, and curling hair. When he\\nsmiles, two little dimples appear on each cheek, which are rosy with\\nhealth. He has already had one or two little _wives,_ but Louisa Biron\\nis his favourite, a pretty little girl of five years of age.\\n\\n“Now, dear Victor, I dare say you wish to be indulged in a little\\ngossip concerning the good people of Geneva. The pretty Miss Mansfield\\nhas already received the congratulatory visits on her approaching\\nmarriage with a young Englishman, John Melbourne, Esq. Her ugly\\nsister, Manon, married M. Duvillard, the rich banker, last autumn. Your\\nfavourite schoolfellow, Louis Manoir, has suffered several misfortunes\\nsince the departure of Clerval from Geneva. But he has already\\nrecovered his spirits, and is reported to be on the point of marrying a\\nlively pretty Frenchwoman, Madame Tavernier. She is a widow, and much\\nolder than Manoir; but she is very much admired, and a favourite with\\neverybody.\\n\\n“I have written myself into better spirits, dear cousin; but my anxiety\\nreturns upon me as I conclude. Write, dearest Victor,—one line—one\\nword will be a blessing to us. Ten thousand thanks to Henry for his\\nkindness, his affection, and his many letters; we are sincerely\\ngrateful. Adieu! my cousin; take care of yourself; and, I entreat\\nyou, write!\\n\\n“Elizabeth Lavenza.\\n\\n\\n“Geneva, March 18th, 17—.”\\n\\n\\n\\n“Dear, dear Elizabeth!” I exclaimed, when I had read her\\nletter: “I will write instantly and relieve them from the anxiety\\nthey must feel.” I wrote, and this exertion greatly fatigued me; but\\nmy convalescence had commenced, and proceeded regularly. In another\\nfortnight I was able to leave my chamber.\\n\\nOne of my first duties on my recovery was to introduce Clerval to the\\nseveral professors of the university. In doing this, I underwent a\\nkind of rough usage, ill befitting the wounds that my mind had\\nsustained. Ever since the fatal night, the end of my labours, and the\\nbeginning of my misfortunes, I had conceived a violent antipathy even\\nto the name of natural philosophy. When I was otherwise quite restored\\nto health, the sight of a chemical instrument would renew all the agony\\nof my nervous symptoms. Henry saw this, and had removed all my\\napparatus from my view. He had also changed my apartment; for he\\nperceived that I had acquired a dislike for the room which had\\npreviously been my laboratory. But these cares of Clerval were made of\\nno avail when I visited the professors. M. Waldman inflicted torture\\nwhen he praised, with kindness and warmth, the astonishing progress I\\nhad made in the sciences. He soon perceived that I disliked the\\nsubject; but not guessing the real cause, he attributed my feelings to\\nmodesty, and changed the subject from my improvement, to the science\\nitself, with a desire, as I evidently saw, of drawing me out. What\\ncould I do? He meant to please, and he tormented me. I felt as if he\\nhad placed carefully, one by one, in my view those instruments which\\nwere to be afterwards used in putting me to a slow and cruel death. I\\nwrithed under his words, yet dared not exhibit the pain I felt.\\nClerval, whose eyes and feelings were always quick in discerning the\\nsensations of others, declined the subject, alleging, in excuse, his\\ntotal ignorance; and the conversation took a more general turn. I\\nthanked my friend from my heart, but I did not speak. I saw plainly\\nthat he was surprised, but he never attempted to draw my secret from\\nme; and although I loved him with a mixture of affection and reverence\\nthat knew no bounds, yet I could never persuade myself to confide in\\nhim that event which was so often present to my recollection, but which\\nI feared the detail to another would only impress more deeply.\\n\\nM. Krempe was not equally docile; and in my condition at that time, of\\nalmost insupportable sensitiveness, his harsh blunt encomiums gave me even\\nmore pain than the benevolent approbation of M. Waldman. “D—n\\nthe fellow!” cried he; “why, M. Clerval, I assure you he has\\noutstript us all. Ay, stare if you please; but it is nevertheless true. A\\nyoungster who, but a few years ago, believed in Cornelius Agrippa as firmly\\nas in the gospel, has now set himself at the head of the university; and if\\nhe is not soon pulled down, we shall all be out of countenance.—Ay,\\nay,” continued he, observing my face expressive of suffering,\\n“M. Frankenstein is modest; an excellent quality in a young man.\\nYoung men should be diffident of themselves, you know, M. Clerval: I was\\nmyself when young; but that wears out in a very short time.”\\n\\nM. Krempe had now commenced an eulogy on himself, which happily turned\\nthe conversation from a subject that was so annoying to me.\\n\\nClerval had never sympathised in my tastes for natural science; and his\\nliterary pursuits differed wholly from those which had occupied me. He\\ncame to the university with the design of making himself complete\\nmaster of the oriental languages, and thus he should open a field for\\nthe plan of life he had marked out for himself. Resolved to pursue no\\ninglorious career, he turned his eyes toward the East, as affording\\nscope for his spirit of enterprise. The Persian, Arabic, and Sanskrit\\nlanguages engaged his attention, and I was easily induced to enter on\\nthe same studies. Idleness had ever been irksome to me, and now that I\\nwished to fly from reflection, and hated my former studies, I felt\\ngreat relief in being the fellow-pupil with my friend, and found not\\nonly instruction but consolation in the works of the orientalists. I\\ndid not, like him, attempt a critical knowledge of their dialects, for\\nI did not contemplate making any other use of them than temporary\\namusement. I read merely to understand their meaning, and they well\\nrepaid my labours. Their melancholy is soothing, and their joy\\nelevating, to a degree I never experienced in studying the authors of\\nany other country. When you read their writings, life appears to\\nconsist in a warm sun and a garden of roses,—in the smiles and frowns\\nof a fair enemy, and the fire that consumes your own heart. How\\ndifferent from the manly and heroical poetry of Greece and Rome!\\n\\nSummer passed away in these occupations, and my return to Geneva was\\nfixed for the latter end of autumn; but being delayed by several\\naccidents, winter and snow arrived, the roads were deemed impassable,\\nand my journey was retarded until the ensuing spring. I felt this\\ndelay very bitterly; for I longed to see my native town and my beloved\\nfriends. My return had only been delayed so long, from an\\nunwillingness to leave Clerval in a strange place, before he had become\\nacquainted with any of its inhabitants. The winter, however, was spent\\ncheerfully; and although the spring was uncommonly late, when it came\\nits beauty compensated for its dilatoriness.\\n\\nThe month of May had already commenced, and I expected the letter daily\\nwhich was to fix the date of my departure, when Henry proposed a\\npedestrian tour in the environs of Ingolstadt, that I might bid a\\npersonal farewell to the country I had so long inhabited. I acceded\\nwith pleasure to this proposition: I was fond of exercise, and Clerval\\nhad always been my favourite companion in the ramble of this nature\\nthat I had taken among the scenes of my native country.\\n\\nWe passed a fortnight in these perambulations: my health and spirits\\nhad long been restored, and they gained additional strength from the\\nsalubrious air I breathed, the natural incidents of our progress, and\\nthe conversation of my friend. Study had before secluded me from the\\nintercourse of my fellow-creatures, and rendered me unsocial; but\\nClerval called forth the better feelings of my heart; he again taught\\nme to love the aspect of nature, and the cheerful faces of children.\\nExcellent friend! how sincerely you did love me, and endeavour to\\nelevate my mind until it was on a level with your own. A selfish\\npursuit had cramped and narrowed me, until your gentleness and\\naffection warmed and opened my senses; I became the same happy creature\\nwho, a few years ago, loved and beloved by all, had no sorrow or care.\\nWhen happy, inanimate nature had the power of bestowing on me the most\\ndelightful sensations. A serene sky and verdant fields filled me with\\necstasy. The present season was indeed divine; the flowers of spring\\nbloomed in the hedges, while those of summer were already in bud. I\\nwas undisturbed by thoughts which during the preceding year had pressed\\nupon me, notwithstanding my endeavours to throw them off, with an\\ninvincible burden.\\n\\nHenry rejoiced in my gaiety, and sincerely sympathised in my feelings: he\\nexerted himself to amuse me, while he expressed the sensations that filled\\nhis soul. The resources of his mind on this occasion were truly\\nastonishing: his conversation was full of imagination; and very often, in\\nimitation of the Persian and Arabic writers, he invented tales of wonderful\\nfancy and passion. At other times he repeated my favourite poems, or drew\\nme out into arguments, which he supported with great ingenuity.\\n\\nWe returned to our college on a Sunday afternoon: the peasants were\\ndancing, and every one we met appeared gay and happy. My own spirits were\\nhigh, and I bounded along with feelings of unbridled joy and hilarity.\\n\\n\\n\\n\\nChapter 7\\n\\n\\nOn my return, I found the following letter from my father:—\\n\\n“My dear Victor,\\n\\n“You have probably waited impatiently for a letter to fix the date of\\nyour return to us; and I was at first tempted to write only a few\\nlines, merely mentioning the day on which I should expect you. But\\nthat would be a cruel kindness, and I dare not do it. What would be\\nyour surprise, my son, when you expected a happy and glad welcome, to\\nbehold, on the contrary, tears and wretchedness? And how, Victor, can\\nI relate our misfortune? Absence cannot have rendered you callous to\\nour joys and griefs; and how shall I inflict pain on my long absent\\nson? I wish to prepare you for the woeful news, but I know it is\\nimpossible; even now your eye skims over the page to seek the words\\nwhich are to convey to you the horrible tidings.\\n\\n“William is dead!—that sweet child, whose smiles delighted and warmed\\nmy heart, who was so gentle, yet so gay! Victor, he is murdered!\\n\\n“I will not attempt to console you; but will simply relate the\\ncircumstances of the transaction.\\n\\n“Last Thursday (May 7th), I, my niece, and your two brothers, went to\\nwalk in Plainpalais. The evening was warm and serene, and we prolonged\\nour walk farther than usual. It was already dusk before we thought of\\nreturning; and then we discovered that William and Ernest, who had gone\\non before, were not to be found. We accordingly rested on a seat until\\nthey should return. Presently Ernest came, and enquired if we had seen\\nhis brother; he said, that he had been playing with him, that William\\nhad run away to hide himself, and that he vainly sought for him, and\\nafterwards waited for a long time, but that he did not return.\\n\\n“This account rather alarmed us, and we continued to search for him\\nuntil night fell, when Elizabeth conjectured that he might have\\nreturned to the house. He was not there. We returned again, with\\ntorches; for I could not rest, when I thought that my sweet boy had\\nlost himself, and was exposed to all the damps and dews of night;\\nElizabeth also suffered extreme anguish. About five in the morning I\\ndiscovered my lovely boy, whom the night before I had seen blooming and\\nactive in health, stretched on the grass livid and motionless; the\\nprint of the murder’s finger was on his neck.\\n\\n“He was conveyed home, and the anguish that was visible in my\\ncountenance betrayed the secret to Elizabeth. She was very earnest to\\nsee the corpse. At first I attempted to prevent her but she persisted,\\nand entering the room where it lay, hastily examined the neck of the\\nvictim, and clasping her hands exclaimed, ‘O God! I have murdered my\\ndarling child!’\\n\\n“She fainted, and was restored with extreme difficulty. When she again\\nlived, it was only to weep and sigh. She told me, that that same\\nevening William had teased her to let him wear a very valuable\\nminiature that she possessed of your mother. This picture is gone, and\\nwas doubtless the temptation which urged the murderer to the deed. We\\nhave no trace of him at present, although our exertions to discover him\\nare unremitted; but they will not restore my beloved William!\\n\\n“Come, dearest Victor; you alone can console Elizabeth. She weeps\\ncontinually, and accuses herself unjustly as the cause of his death;\\nher words pierce my heart. We are all unhappy; but will not that be an\\nadditional motive for you, my son, to return and be our comforter?\\nYour dear mother! Alas, Victor! I now say, Thank God she did not live\\nto witness the cruel, miserable death of her youngest darling!\\n\\n“Come, Victor; not brooding thoughts of vengeance against the assassin,\\nbut with feelings of peace and gentleness, that will heal, instead of\\nfestering, the wounds of our minds. Enter the house of mourning, my\\nfriend, but with kindness and affection for those who love you, and not\\nwith hatred for your enemies.\\n\\n“Your affectionate and afflicted father,\\n\\n“Alphonse Frankenstein.\\n\\n\\n\\n“Geneva, May 12th, 17—.”\\n\\n\\n\\nClerval, who had watched my countenance as I read this letter, was\\nsurprised to observe the despair that succeeded the joy I at first\\nexpressed on receiving new from my friends. I threw the letter on the\\ntable, and covered my face with my hands.\\n\\n“My dear Frankenstein,” exclaimed Henry, when he perceived me\\nweep with bitterness, “are you always to be unhappy? My dear friend,\\nwhat has happened?”\\n\\nI motioned him to take up the letter, while I walked up and down the\\nroom in the extremest agitation. Tears also gushed from the eyes of\\nClerval, as he read the account of my misfortune.\\n\\n“I can offer you no consolation, my friend,” said he;\\n“your disaster is irreparable. What do you intend to do?”\\n\\n“To go instantly to Geneva: come with me, Henry, to order the horses.”\\n\\nDuring our walk, Clerval endeavoured to say a few words of consolation;\\nhe could only express his heartfelt sympathy. “Poor William!” said he,\\n“dear lovely child, he now sleeps with his angel mother! Who that had\\nseen him bright and joyous in his young beauty, but must weep over his\\nuntimely loss! To die so miserably; to feel the murderer’s grasp! How\\nmuch more a murdered that could destroy radiant innocence! Poor little\\nfellow! one only consolation have we; his friends mourn and weep, but\\nhe is at rest. The pang is over, his sufferings are at an end for ever.\\nA sod covers his gentle form, and he knows no pain. He can no longer\\nbe a subject for pity; we must reserve that for his miserable\\nsurvivors.”\\n\\nClerval spoke thus as we hurried through the streets; the words\\nimpressed themselves on my mind and I remembered them afterwards in\\nsolitude. But now, as soon as the horses arrived, I hurried into a\\ncabriolet, and bade farewell to my friend.\\n\\nMy journey was very melancholy. At first I wished to hurry on, for I longed\\nto console and sympathise with my loved and sorrowing friends; but when I\\ndrew near my native town, I slackened my progress. I could hardly sustain\\nthe multitude of feelings that crowded into my mind. I passed through\\nscenes familiar to my youth, but which I had not seen for nearly six years.\\nHow altered every thing might be during that time! One sudden and\\ndesolating change had taken place; but a thousand little circumstances\\nmight have by degrees worked other alterations, which, although they were\\ndone more tranquilly, might not be the less decisive. Fear overcame me; I\\ndared no advance, dreading a thousand nameless evils that made me tremble,\\nalthough I was unable to define them.\\n\\nI remained two days at Lausanne, in this painful state of mind. I\\ncontemplated the lake: the waters were placid; all around was calm; and the\\nsnowy mountains, “the palaces of nature,” were not changed. By\\ndegrees the calm and heavenly scene restored me, and I continued my journey\\ntowards Geneva.\\n\\nThe road ran by the side of the lake, which became narrower as I\\napproached my native town. I discovered more distinctly the black\\nsides of Jura, and the bright summit of Mont Blanc. I wept like a\\nchild. “Dear mountains! my own beautiful lake! how do you welcome your\\nwanderer? Your summits are clear; the sky and lake are blue and\\nplacid. Is this to prognosticate peace, or to mock at my unhappiness?”\\n\\nI fear, my friend, that I shall render myself tedious by dwelling on\\nthese preliminary circumstances; but they were days of comparative\\nhappiness, and I think of them with pleasure. My country, my beloved\\ncountry! who but a native can tell the delight I took in again\\nbeholding thy streams, thy mountains, and, more than all, thy lovely\\nlake!\\n\\nYet, as I drew nearer home, grief and fear again overcame me. Night also\\nclosed around; and when I could hardly see the dark mountains, I felt still\\nmore gloomily. The picture appeared a vast and dim scene of evil, and I\\nforesaw obscurely that I was destined to become the most wretched of human\\nbeings. Alas! I prophesied truly, and failed only in one single\\ncircumstance, that in all the misery I imagined and dreaded, I did not\\nconceive the hundredth part of the anguish I was destined to endure.\\n\\nIt was completely dark when I arrived in the environs of Geneva; the gates\\nof the town were already shut; and I was obliged to pass the night at\\nSecheron, a village at the distance of half a league from the city. The sky\\nwas serene; and, as I was unable to rest, I resolved to visit the spot\\nwhere my poor William had been murdered. As I could not pass through the\\ntown, I was obliged to cross the lake in a boat to arrive at Plainpalais.\\nDuring this short voyage I saw the lightning playing on the summit of Mont\\nBlanc in the most beautiful figures. The storm appeared to approach\\nrapidly, and, on landing, I ascended a low hill, that I might observe its\\nprogress. It advanced; the heavens were clouded, and I soon felt the rain\\ncoming slowly in large drops, but its violence quickly increased.\\n\\nI quitted my seat, and walked on, although the darkness and storm\\nincreased every minute, and the thunder burst with a terrific crash\\nover my head. It was echoed from Salêve, the Juras, and the Alps of\\nSavoy; vivid flashes of lightning dazzled my eyes, illuminating the\\nlake, making it appear like a vast sheet of fire; then for an instant\\nevery thing seemed of a pitchy darkness, until the eye recovered itself\\nfrom the preceding flash. The storm, as is often the case in\\nSwitzerland, appeared at once in various parts of the heavens. The\\nmost violent storm hung exactly north of the town, over the part of the\\nlake which lies between the promontory of Belrive and the village of\\nCopêt. Another storm enlightened Jura with faint flashes; and another\\ndarkened and sometimes disclosed the Môle, a peaked mountain to the\\neast of the lake.\\n\\nWhile I watched the tempest, so beautiful yet terrific, I wandered on with\\na hasty step. This noble war in the sky elevated my spirits; I clasped my\\nhands, and exclaimed aloud, “William, dear angel! this is thy\\nfuneral, this thy dirge!” As I said these words, I perceived in the\\ngloom a figure which stole from behind a clump of trees near me; I stood\\nfixed, gazing intently: I could not be mistaken. A flash of lightning\\nilluminated the object, and discovered its shape plainly to me; its\\ngigantic stature, and the deformity of its aspect more hideous than belongs\\nto humanity, instantly informed me that it was the wretch, the filthy\\ndæmon, to whom I had given life. What did he there? Could he be (I\\nshuddered at the conception) the murderer of my brother? No sooner did that\\nidea cross my imagination, than I became convinced of its truth; my teeth\\nchattered, and I was forced to lean against a tree for support. The figure\\npassed me quickly, and I lost it in the gloom. Nothing in human shape could\\nhave destroyed the fair child. _He_ was the murderer! I could not\\ndoubt it. The mere presence of the idea was an irresistible proof of the\\nfact. I thought of pursuing the devil; but it would have been in vain, for\\nanother flash discovered him to me hanging among the rocks of the nearly\\nperpendicular ascent of Mont Salêve, a hill that bounds Plainpalais on the\\nsouth. He soon reached the summit, and disappeared.\\n\\nI remained motionless. The thunder ceased; but the rain still\\ncontinued, and the scene was enveloped in an impenetrable darkness. I\\nrevolved in my mind the events which I had until now sought to forget:\\nthe whole train of my progress toward the creation; the appearance of\\nthe works of my own hands at my bedside; its departure. Two years had\\nnow nearly elapsed since the night on which he first received life; and\\nwas this his first crime? Alas! I had turned loose into the world a\\ndepraved wretch, whose delight was in carnage and misery; had he not\\nmurdered my brother?\\n\\nNo one can conceive the anguish I suffered during the remainder of the\\nnight, which I spent, cold and wet, in the open air. But I did not\\nfeel the inconvenience of the weather; my imagination was busy in\\nscenes of evil and despair. I considered the being whom I had cast\\namong mankind, and endowed with the will and power to effect purposes\\nof horror, such as the deed which he had now done, nearly in the light\\nof my own vampire, my own spirit let loose from the grave, and forced\\nto destroy all that was dear to me.\\n\\nDay dawned; and I directed my steps towards the town. The gates were\\nopen, and I hastened to my father’s house. My first thought was to\\ndiscover what I knew of the murderer, and cause instant pursuit to be\\nmade. But I paused when I reflected on the story that I had to tell. A\\nbeing whom I myself had formed, and endued with life, had met me at\\nmidnight among the precipices of an inaccessible mountain. I\\nremembered also the nervous fever with which I had been seized just at\\nthe time that I dated my creation, and which would give an air of\\ndelirium to a tale otherwise so utterly improbable. I well knew that\\nif any other had communicated such a relation to me, I should have\\nlooked upon it as the ravings of insanity. Besides, the strange nature\\nof the animal would elude all pursuit, even if I were so far credited\\nas to persuade my relatives to commence it. And then of what use would\\nbe pursuit? Who could arrest a creature capable of scaling the\\noverhanging sides of Mont Salêve? These reflections determined me, and\\nI resolved to remain silent.\\n\\nIt was about five in the morning when I entered my father’s house. I\\ntold the servants not to disturb the family, and went into the library\\nto attend their usual hour of rising.\\n\\nSix years had elapsed, passed in a dream but for one indelible trace, and I\\nstood in the same place where I had last embraced my father before my\\ndeparture for Ingolstadt. Beloved and venerable parent! He still remained\\nto me. I gazed on the picture of my mother, which stood over the\\nmantel-piece. It was an historical subject, painted at my father’s\\ndesire, and represented Caroline Beaufort in an agony of despair, kneeling\\nby the coffin of her dead father. Her garb was rustic, and her cheek pale;\\nbut there was an air of dignity and beauty, that hardly permitted the\\nsentiment of pity. Below this picture was a miniature of William; and my\\ntears flowed when I looked upon it. While I was thus engaged, Ernest\\nentered: he had heard me arrive, and hastened to welcome me:\\n“Welcome, my dearest Victor,” said he. “Ah! I wish you\\nhad come three months ago, and then you would have found us all joyous and\\ndelighted. You come to us now to share a misery which nothing can\\nalleviate; yet your presence will, I hope, revive our father, who seems\\nsinking under his misfortune; and your persuasions will induce poor\\nElizabeth to cease her vain and tormenting self-accusations.—Poor\\nWilliam! he was our darling and our pride!”\\n\\nTears, unrestrained, fell from my brother’s eyes; a sense of mortal\\nagony crept over my frame. Before, I had only imagined the\\nwretchedness of my desolated home; the reality came on me as a new, and\\na not less terrible, disaster. I tried to calm Ernest; I enquired more\\nminutely concerning my father, and here I named my cousin.\\n\\n“She most of all,” said Ernest, “requires consolation; she accused\\nherself of having caused the death of my brother, and that made her\\nvery wretched. But since the murderer has been discovered—”\\n\\n“The murderer discovered! Good God! how can that be? who could attempt\\nto pursue him? It is impossible; one might as well try to overtake the\\nwinds, or confine a mountain-stream with a straw. I saw him too; he\\nwas free last night!”\\n\\n“I do not know what you mean,” replied my brother, in accents of\\nwonder, “but to us the discovery we have made completes our misery. No\\none would believe it at first; and even now Elizabeth will not be\\nconvinced, notwithstanding all the evidence. Indeed, who would credit\\nthat Justine Moritz, who was so amiable, and fond of all the family,\\ncould suddenly become so capable of so frightful, so appalling a crime?”\\n\\n“Justine Moritz! Poor, poor girl, is she the accused? But it is\\nwrongfully; every one knows that; no one believes it, surely, Ernest?”\\n\\n“No one did at first; but several circumstances came out, that have\\nalmost forced conviction upon us; and her own behaviour has been so\\nconfused, as to add to the evidence of facts a weight that, I fear,\\nleaves no hope for doubt. But she will be tried today, and you will\\nthen hear all.”\\n\\nHe then related that, the morning on which the murder of poor William\\nhad been discovered, Justine had been taken ill, and confined to her\\nbed for several days. During this interval, one of the servants,\\nhappening to examine the apparel she had worn on the night of the\\nmurder, had discovered in her pocket the picture of my mother, which\\nhad been judged to be the temptation of the murderer. The servant\\ninstantly showed it to one of the others, who, without saying a word to\\nany of the family, went to a magistrate; and, upon their deposition,\\nJustine was apprehended. On being charged with the fact, the poor girl\\nconfirmed the suspicion in a great measure by her extreme confusion of\\nmanner.\\n\\nThis was a strange tale, but it did not shake my faith; and I replied\\nearnestly, “You are all mistaken; I know the murderer. Justine, poor,\\ngood Justine, is innocent.”\\n\\nAt that instant my father entered. I saw unhappiness deeply impressed\\non his countenance, but he endeavoured to welcome me cheerfully; and,\\nafter we had exchanged our mournful greeting, would have introduced\\nsome other topic than that of our disaster, had not Ernest exclaimed,\\n“Good God, papa! Victor says that he knows who was the murderer of\\npoor William.”\\n\\n“We do also, unfortunately,” replied my father, “for indeed I had\\nrather have been for ever ignorant than have discovered so much\\ndepravity and ungratitude in one I valued so highly.”\\n\\n“My dear father, you are mistaken; Justine is innocent.”\\n\\n“If she is, God forbid that she should suffer as guilty. She is to be\\ntried today, and I hope, I sincerely hope, that she will be acquitted.”\\n\\nThis speech calmed me. I was firmly convinced in my own mind that\\nJustine, and indeed every human being, was guiltless of this murder. I\\nhad no fear, therefore, that any circumstantial evidence could be\\nbrought forward strong enough to convict her. My tale was not one to\\nannounce publicly; its astounding horror would be looked upon as\\nmadness by the vulgar. Did any one indeed exist, except I, the\\ncreator, who would believe, unless his senses convinced him, in the\\nexistence of the living monument of presumption and rash ignorance\\nwhich I had let loose upon the world?\\n\\nWe were soon joined by Elizabeth. Time had altered her since I last\\nbeheld her; it had endowed her with loveliness surpassing the beauty of\\nher childish years. There was the same candour, the same vivacity, but\\nit was allied to an expression more full of sensibility and intellect.\\nShe welcomed me with the greatest affection. “Your arrival, my dear\\ncousin,” said she, “fills me with hope. You perhaps will find some\\nmeans to justify my poor guiltless Justine. Alas! who is safe, if she\\nbe convicted of crime? I rely on her innocence as certainly as I do\\nupon my own. Our misfortune is doubly hard to us; we have not only\\nlost that lovely darling boy, but this poor girl, whom I sincerely\\nlove, is to be torn away by even a worse fate. If she is condemned, I\\nnever shall know joy more. But she will not, I am sure she will not;\\nand then I shall be happy again, even after the sad death of my little\\nWilliam.”\\n\\n“She is innocent, my Elizabeth,” said I, “and that shall\\nbe proved; fear nothing, but let your spirits be cheered by the assurance\\nof her acquittal.”\\n\\n“How kind and generous you are! every one else believes in her guilt,\\nand that made me wretched, for I knew that it was impossible: and to\\nsee every one else prejudiced in so deadly a manner rendered me\\nhopeless and despairing.” She wept.\\n\\n“Dearest niece,” said my father, “dry your tears. If she\\nis, as you believe, innocent, rely on the justice of our laws, and the\\nactivity with which I shall prevent the slightest shadow of\\npartiality.”\\n\\n\\n\\n\\nChapter 8\\n\\n\\nWe passed a few sad hours until eleven o’clock, when the trial was to\\ncommence. My father and the rest of the family being obliged to attend\\nas witnesses, I accompanied them to the court. During the whole of\\nthis wretched mockery of justice I suffered living torture. It was to\\nbe decided whether the result of my curiosity and lawless devices would\\ncause the death of two of my fellow beings: one a smiling babe full of\\ninnocence and joy, the other far more dreadfully murdered, with every\\naggravation of infamy that could make the murder memorable in horror.\\nJustine also was a girl of merit and possessed qualities which promised\\nto render her life happy; now all was to be obliterated in an\\nignominious grave, and I the cause! A thousand times rather would I\\nhave confessed myself guilty of the crime ascribed to Justine, but I\\nwas absent when it was committed, and such a declaration would have\\nbeen considered as the ravings of a madman and would not have\\nexculpated her who suffered through me.\\n\\nThe appearance of Justine was calm. She was dressed in mourning, and\\nher countenance, always engaging, was rendered, by the solemnity of her\\nfeelings, exquisitely beautiful. Yet she appeared confident in\\ninnocence and did not tremble, although gazed on and execrated by\\nthousands, for all the kindness which her beauty might otherwise have\\nexcited was obliterated in the minds of the spectators by the\\nimagination of the enormity she was supposed to have committed. She\\nwas tranquil, yet her tranquillity was evidently constrained; and as\\nher confusion had before been adduced as a proof of her guilt, she\\nworked up her mind to an appearance of courage. When she entered the\\ncourt she threw her eyes round it and quickly discovered where we were\\nseated. A tear seemed to dim her eye when she saw us, but she quickly\\nrecovered herself, and a look of sorrowful affection seemed to attest\\nher utter guiltlessness.\\n\\nThe trial began, and after the advocate against her had stated the\\ncharge, several witnesses were called. Several strange facts combined\\nagainst her, which might have staggered anyone who had not such proof\\nof her innocence as I had. She had been out the whole of the night on\\nwhich the murder had been committed and towards morning had been\\nperceived by a market-woman not far from the spot where the body of the\\nmurdered child had been afterwards found. The woman asked her what she\\ndid there, but she looked very strangely and only returned a confused\\nand unintelligible answer. She returned to the house about eight\\no’clock, and when one inquired where she had passed the night, she\\nreplied that she had been looking for the child and demanded earnestly\\nif anything had been heard concerning him. When shown the body, she\\nfell into violent hysterics and kept her bed for several days. The\\npicture was then produced which the servant had found in her pocket;\\nand when Elizabeth, in a faltering voice, proved that it was the same\\nwhich, an hour before the child had been missed, she had placed round\\nhis neck, a murmur of horror and indignation filled the court.\\n\\nJustine was called on for her defence. As the trial had proceeded, her\\ncountenance had altered. Surprise, horror, and misery were strongly\\nexpressed. Sometimes she struggled with her tears, but when she was\\ndesired to plead, she collected her powers and spoke in an audible\\nalthough variable voice.\\n\\n“God knows,” she said, “how entirely I am innocent. But I\\ndo not pretend that my protestations should acquit me; I rest my innocence\\non a plain and simple explanation of the facts which have been adduced\\nagainst me, and I hope the character I have always borne will incline my\\njudges to a favourable interpretation where any circumstance appears\\ndoubtful or suspicious.”\\n\\nShe then related that, by the permission of Elizabeth, she had passed\\nthe evening of the night on which the murder had been committed at the\\nhouse of an aunt at Chêne, a village situated at about a league from\\nGeneva. On her return, at about nine o’clock, she met a man who asked\\nher if she had seen anything of the child who was lost. She was\\nalarmed by this account and passed several hours in looking for him,\\nwhen the gates of Geneva were shut, and she was forced to remain\\nseveral hours of the night in a barn belonging to a cottage, being\\nunwilling to call up the inhabitants, to whom she was well known. Most\\nof the night she spent here watching; towards morning she believed that\\nshe slept for a few minutes; some steps disturbed her, and she awoke.\\nIt was dawn, and she quitted her asylum, that she might again endeavour\\nto find my brother. If she had gone near the spot where his body lay,\\nit was without her knowledge. That she had been bewildered when\\nquestioned by the market-woman was not surprising, since she had passed\\na sleepless night and the fate of poor William was yet uncertain.\\nConcerning the picture she could give no account.\\n\\n“I know,” continued the unhappy victim, “how heavily and\\nfatally this one circumstance weighs against me, but I have no power of\\nexplaining it; and when I have expressed my utter ignorance, I am only left\\nto conjecture concerning the probabilities by which it might have been\\nplaced in my pocket. But here also I am checked. I believe that I have no\\nenemy on earth, and none surely would have been so wicked as to destroy me\\nwantonly. Did the murderer place it there? I know of no opportunity\\nafforded him for so doing; or, if I had, why should he have stolen the\\njewel, to part with it again so soon?\\n\\n“I commit my cause to the justice of my judges, yet I see no room for\\nhope. I beg permission to have a few witnesses examined concerning my\\ncharacter, and if their testimony shall not overweigh my supposed\\nguilt, I must be condemned, although I would pledge my salvation on my\\ninnocence.”\\n\\nSeveral witnesses were called who had known her for many years, and\\nthey spoke well of her; but fear and hatred of the crime of which they\\nsupposed her guilty rendered them timorous and unwilling to come\\nforward. Elizabeth saw even this last resource, her excellent\\ndispositions and irreproachable conduct, about to fail the accused,\\nwhen, although violently agitated, she desired permission to address\\nthe court.\\n\\n“I am,” said she, “the cousin of the unhappy child who\\nwas murdered, or rather his sister, for I was educated by and have lived\\nwith his parents ever since and even long before his birth. It may\\ntherefore be judged indecent in me to come forward on this occasion, but\\nwhen I see a fellow creature about to perish through the cowardice of her\\npretended friends, I wish to be allowed to speak, that I may say what I\\nknow of her character. I am well acquainted with the accused. I have lived\\nin the same house with her, at one time for five and at another for nearly\\ntwo years. During all that period she appeared to me the most amiable and\\nbenevolent of human creatures. She nursed Madame Frankenstein, my aunt, in\\nher last illness, with the greatest affection and care and afterwards\\nattended her own mother during a tedious illness, in a manner that excited\\nthe admiration of all who knew her, after which she again lived in my\\nuncle’s house, where she was beloved by all the family. She was\\nwarmly attached to the child who is now dead and acted towards him like a\\nmost affectionate mother. For my own part, I do not hesitate to say that,\\nnotwithstanding all the evidence produced against her, I believe and rely\\non her perfect innocence. She had no temptation for such an action; as to\\nthe bauble on which the chief proof rests, if she had earnestly desired it,\\nI should have willingly given it to her, so much do I esteem and value\\nher.”\\n\\nA murmur of approbation followed Elizabeth’s simple and powerful\\nappeal, but it was excited by her generous interference, and not in\\nfavour of poor Justine, on whom the public indignation was turned with\\nrenewed violence, charging her with the blackest ingratitude. She\\nherself wept as Elizabeth spoke, but she did not answer. My own\\nagitation and anguish was extreme during the whole trial. I believed\\nin her innocence; I knew it. Could the dæmon who had (I did not for a\\nminute doubt) murdered my brother also in his hellish sport have\\nbetrayed the innocent to death and ignominy? I could not sustain the\\nhorror of my situation, and when I perceived that the popular voice and\\nthe countenances of the judges had already condemned my unhappy victim,\\nI rushed out of the court in agony. The tortures of the accused did\\nnot equal mine; she was sustained by innocence, but the fangs of\\nremorse tore my bosom and would not forgo their hold.\\n\\nI passed a night of unmingled wretchedness. In the morning I went to\\nthe court; my lips and throat were parched. I dared not ask the fatal\\nquestion, but I was known, and the officer guessed the cause of my\\nvisit. The ballots had been thrown; they were all black, and Justine\\nwas condemned.\\n\\nI cannot pretend to describe what I then felt. I had before\\nexperienced sensations of horror, and I have endeavoured to bestow upon\\nthem adequate expressions, but words cannot convey an idea of the\\nheart-sickening despair that I then endured. The person to whom I\\naddressed myself added that Justine had already confessed her guilt.\\n“That evidence,” he observed, “was hardly required in so glaring a\\ncase, but I am glad of it, and, indeed, none of our judges like to\\ncondemn a criminal upon circumstantial evidence, be it ever so\\ndecisive.”\\n\\nThis was strange and unexpected intelligence; what could it mean? Had\\nmy eyes deceived me? And was I really as mad as the whole world would\\nbelieve me to be if I disclosed the object of my suspicions? I\\nhastened to return home, and Elizabeth eagerly demanded the result.\\n\\n“My cousin,” replied I, “it is decided as you may have expected; all\\njudges had rather that ten innocent should suffer than that one guilty\\nshould escape. But she has confessed.”\\n\\nThis was a dire blow to poor Elizabeth, who had relied with firmness upon\\nJustine’s innocence. “Alas!” said she. “How shall I\\never again believe in human goodness? Justine, whom I loved and esteemed as\\nmy sister, how could she put on those smiles of innocence only to betray?\\nHer mild eyes seemed incapable of any severity or guile, and yet she has\\ncommitted a murder.”\\n\\nSoon after we heard that the poor victim had expressed a desire to see my\\ncousin. My father wished her not to go but said that he left it to her own\\njudgment and feelings to decide. “Yes,” said Elizabeth,\\n“I will go, although she is guilty; and you, Victor, shall accompany\\nme; I cannot go alone.” The idea of this visit was torture to me, yet\\nI could not refuse.\\n\\nWe entered the gloomy prison chamber and beheld Justine sitting on some\\nstraw at the farther end; her hands were manacled, and her head rested on\\nher knees. She rose on seeing us enter, and when we were left alone with\\nher, she threw herself at the feet of Elizabeth, weeping bitterly. My\\ncousin wept also.\\n\\n“Oh, Justine!” said she. “Why did you rob me of my last consolation?\\nI relied on your innocence, and although I was then very wretched, I\\nwas not so miserable as I am now.”\\n\\n“And do you also believe that I am so very, very wicked? Do you also\\njoin with my enemies to crush me, to condemn me as a murderer?” Her\\nvoice was suffocated with sobs.\\n\\n“Rise, my poor girl,” said Elizabeth; “why do you kneel,\\nif you are innocent? I am not one of your enemies, I believed you\\nguiltless, notwithstanding every evidence, until I heard that you had\\nyourself declared your guilt. That report, you say, is false; and be\\nassured, dear Justine, that nothing can shake my confidence in you for a\\nmoment, but your own confession.”\\n\\n“I did confess, but I confessed a lie. I confessed, that I might\\nobtain absolution; but now that falsehood lies heavier at my heart than\\nall my other sins. The God of heaven forgive me! Ever since I was\\ncondemned, my confessor has besieged me; he threatened and menaced,\\nuntil I almost began to think that I was the monster that he said I\\nwas. He threatened excommunication and hell fire in my last moments if\\nI continued obdurate. Dear lady, I had none to support me; all looked\\non me as a wretch doomed to ignominy and perdition. What could I do?\\nIn an evil hour I subscribed to a lie; and now only am I truly\\nmiserable.”\\n\\nShe paused, weeping, and then continued, “I thought with horror, my\\nsweet lady, that you should believe your Justine, whom your blessed\\naunt had so highly honoured, and whom you loved, was a creature capable\\nof a crime which none but the devil himself could have perpetrated.\\nDear William! dearest blessed child! I soon shall see you again in\\nheaven, where we shall all be happy; and that consoles me, going as I\\nam to suffer ignominy and death.”\\n\\n“Oh, Justine! Forgive me for having for one moment distrusted you.\\nWhy did you confess? But do not mourn, dear girl. Do not fear. I\\nwill proclaim, I will prove your innocence. I will melt the stony\\nhearts of your enemies by my tears and prayers. You shall not die!\\nYou, my playfellow, my companion, my sister, perish on the scaffold!\\nNo! No! I never could survive so horrible a misfortune.”\\n\\nJustine shook her head mournfully. “I do not fear to die,” she said;\\n“that pang is past. God raises my weakness and gives me courage to\\nendure the worst. I leave a sad and bitter world; and if you remember\\nme and think of me as of one unjustly condemned, I am resigned to the\\nfate awaiting me. Learn from me, dear lady, to submit in patience to\\nthe will of heaven!”\\n\\nDuring this conversation I had retired to a corner of the prison room,\\nwhere I could conceal the horrid anguish that possessed me. Despair!\\nWho dared talk of that? The poor victim, who on the morrow was to pass\\nthe awful boundary between life and death, felt not, as I did, such\\ndeep and bitter agony. I gnashed my teeth and ground them together,\\nuttering a groan that came from my inmost soul. Justine started. When\\nshe saw who it was, she approached me and said, “Dear sir, you are very\\nkind to visit me; you, I hope, do not believe that I am guilty?”\\n\\nI could not answer. “No, Justine,” said Elizabeth; “he is more\\nconvinced of your innocence than I was, for even when he heard that you\\nhad confessed, he did not credit it.”\\n\\n“I truly thank him. In these last moments I feel the sincerest\\ngratitude towards those who think of me with kindness. How sweet is\\nthe affection of others to such a wretch as I am! It removes more than\\nhalf my misfortune, and I feel as if I could die in peace now that my\\ninnocence is acknowledged by you, dear lady, and your cousin.”\\n\\nThus the poor sufferer tried to comfort others and herself. She indeed\\ngained the resignation she desired. But I, the true murderer, felt the\\nnever-dying worm alive in my bosom, which allowed of no hope or\\nconsolation. Elizabeth also wept and was unhappy, but hers also was\\nthe misery of innocence, which, like a cloud that passes over the fair\\nmoon, for a while hides but cannot tarnish its brightness. Anguish and\\ndespair had penetrated into the core of my heart; I bore a hell within\\nme which nothing could extinguish. We stayed several hours with\\nJustine, and it was with great difficulty that Elizabeth could tear\\nherself away. “I wish,” cried she, “that I were to die with you; I\\ncannot live in this world of misery.”\\n\\nJustine assumed an air of cheerfulness, while she with difficulty\\nrepressed her bitter tears. She embraced Elizabeth and said in a voice\\nof half-suppressed emotion, “Farewell, sweet lady, dearest Elizabeth,\\nmy beloved and only friend; may heaven, in its bounty, bless and\\npreserve you; may this be the last misfortune that you will ever\\nsuffer! Live, and be happy, and make others so.”\\n\\nAnd on the morrow Justine died. Elizabeth’s heart-rending eloquence\\nfailed to move the judges from their settled conviction in the\\ncriminality of the saintly sufferer. My passionate and indignant\\nappeals were lost upon them. And when I received their cold answers\\nand heard the harsh, unfeeling reasoning of these men, my purposed\\navowal died away on my lips. Thus I might proclaim myself a madman,\\nbut not revoke the sentence passed upon my wretched victim. She\\nperished on the scaffold as a murderess!\\n\\nFrom the tortures of my own heart, I turned to contemplate the deep and\\nvoiceless grief of my Elizabeth. This also was my doing! And my\\nfather’s woe, and the desolation of that late so smiling home all was\\nthe work of my thrice-accursed hands! Ye weep, unhappy ones, but these\\nare not your last tears! Again shall you raise the funeral wail, and\\nthe sound of your lamentations shall again and again be heard!\\nFrankenstein, your son, your kinsman, your early, much-loved friend; he\\nwho would spend each vital drop of blood for your sakes, who has no\\nthought nor sense of joy except as it is mirrored also in your dear\\ncountenances, who would fill the air with blessings and spend his life\\nin serving you—he bids you weep, to shed countless tears; happy beyond\\nhis hopes, if thus inexorable fate be satisfied, and if the destruction\\npause before the peace of the grave have succeeded to your sad torments!\\n\\nThus spoke my prophetic soul, as, torn by remorse, horror, and despair,\\nI beheld those I loved spend vain sorrow upon the graves of William and\\nJustine, the first hapless victims to my unhallowed arts.\\n\\n\\n\\n\\nChapter 9\\n\\n\\nNothing is more painful to the human mind than, after the feelings have\\nbeen worked up by a quick succession of events, the dead calmness of\\ninaction and certainty which follows and deprives the soul both of hope\\nand fear. Justine died, she rested, and I was alive. The blood flowed\\nfreely in my veins, but a weight of despair and remorse pressed on my\\nheart which nothing could remove. Sleep fled from my eyes; I wandered\\nlike an evil spirit, for I had committed deeds of mischief beyond\\ndescription horrible, and more, much more (I persuaded myself) was yet\\nbehind. Yet my heart overflowed with kindness and the love of virtue.\\nI had begun life with benevolent intentions and thirsted for the moment\\nwhen I should put them in practice and make myself useful to my fellow\\nbeings. Now all was blasted; instead of that serenity of conscience\\nwhich allowed me to look back upon the past with self-satisfaction, and\\nfrom thence to gather promise of new hopes, I was seized by remorse and\\nthe sense of guilt, which hurried me away to a hell of intense tortures\\nsuch as no language can describe.\\n\\nThis state of mind preyed upon my health, which had perhaps never\\nentirely recovered from the first shock it had sustained. I shunned\\nthe face of man; all sound of joy or complacency was torture to me;\\nsolitude was my only consolation—deep, dark, deathlike solitude.\\n\\nMy father observed with pain the alteration perceptible in my disposition\\nand habits and endeavoured by arguments deduced from the feelings of his\\nserene conscience and guiltless life to inspire me with fortitude and\\nawaken in me the courage to dispel the dark cloud which brooded over me.\\n“Do you think, Victor,” said he, “that I do not suffer\\nalso? No one could love a child more than I loved your\\nbrother”—tears came into his eyes as he spoke—“but\\nis it not a duty to the survivors that we should refrain from augmenting\\ntheir unhappiness by an appearance of immoderate grief? It is also a duty\\nowed to yourself, for excessive sorrow prevents improvement or enjoyment,\\nor even the discharge of daily usefulness, without which no man is fit for\\nsociety.”\\n\\nThis advice, although good, was totally inapplicable to my case; I\\nshould have been the first to hide my grief and console my friends if\\nremorse had not mingled its bitterness, and terror its alarm, with my\\nother sensations. Now I could only answer my father with a look of\\ndespair and endeavour to hide myself from his view.\\n\\nAbout this time we retired to our house at Belrive. This change was\\nparticularly agreeable to me. The shutting of the gates regularly at\\nten o’clock and the impossibility of remaining on the lake after that\\nhour had rendered our residence within the walls of Geneva very irksome\\nto me. I was now free. Often, after the rest of the family had\\nretired for the night, I took the boat and passed many hours upon the\\nwater. Sometimes, with my sails set, I was carried by the wind; and\\nsometimes, after rowing into the middle of the lake, I left the boat to\\npursue its own course and gave way to my own miserable reflections. I\\nwas often tempted, when all was at peace around me, and I the only\\nunquiet thing that wandered restless in a scene so beautiful and\\nheavenly—if I except some bat, or the frogs, whose harsh and\\ninterrupted croaking was heard only when I approached the shore—often,\\nI say, I was tempted to plunge into the silent lake, that the waters\\nmight close over me and my calamities for ever. But I was restrained,\\nwhen I thought of the heroic and suffering Elizabeth, whom I tenderly\\nloved, and whose existence was bound up in mine. I thought also of my\\nfather and surviving brother; should I by my base desertion leave them\\nexposed and unprotected to the malice of the fiend whom I had let loose\\namong them?\\n\\nAt these moments I wept bitterly and wished that peace would revisit my\\nmind only that I might afford them consolation and happiness. But that\\ncould not be. Remorse extinguished every hope. I had been the author of\\nunalterable evils, and I lived in daily fear lest the monster whom I had\\ncreated should perpetrate some new wickedness. I had an obscure feeling\\nthat all was not over and that he would still commit some signal crime,\\nwhich by its enormity should almost efface the recollection of the past.\\nThere was always scope for fear so long as anything I loved remained\\nbehind. My abhorrence of this fiend cannot be conceived. When I thought of\\nhim I gnashed my teeth, my eyes became inflamed, and I ardently wished to\\nextinguish that life which I had so thoughtlessly bestowed. When I\\nreflected on his crimes and malice, my hatred and revenge burst all bounds\\nof moderation. I would have made a pilgrimage to the highest peak of the\\nAndes, could I, when there, have precipitated him to their base. I wished\\nto see him again, that I might wreak the utmost extent of abhorrence on his\\nhead and avenge the deaths of William and Justine.\\n\\nOur house was the house of mourning. My father’s health was deeply\\nshaken by the horror of the recent events. Elizabeth was sad and\\ndesponding; she no longer took delight in her ordinary occupations; all\\npleasure seemed to her sacrilege toward the dead; eternal woe and tears she\\nthen thought was the just tribute she should pay to innocence so blasted\\nand destroyed. She was no longer that happy creature who in earlier youth\\nwandered with me on the banks of the lake and talked with ecstasy of our\\nfuture prospects. The first of those sorrows which are sent to wean us from\\nthe earth had visited her, and its dimming influence quenched her dearest\\nsmiles.\\n\\n“When I reflect, my dear cousin,” said she, “on the miserable death of\\nJustine Moritz, I no longer see the world and its works as they before\\nappeared to me. Before, I looked upon the accounts of vice and\\ninjustice that I read in books or heard from others as tales of ancient\\ndays or imaginary evils; at least they were remote and more familiar to\\nreason than to the imagination; but now misery has come home, and men\\nappear to me as monsters thirsting for each other’s blood. Yet I am\\ncertainly unjust. Everybody believed that poor girl to be guilty; and\\nif she could have committed the crime for which she suffered, assuredly\\nshe would have been the most depraved of human creatures. For the sake\\nof a few jewels, to have murdered the son of her benefactor and friend,\\na child whom she had nursed from its birth, and appeared to love as if\\nit had been her own! I could not consent to the death of any human\\nbeing, but certainly I should have thought such a creature unfit to\\nremain in the society of men. But she was innocent. I know, I feel\\nshe was innocent; you are of the same opinion, and that confirms me.\\nAlas! Victor, when falsehood can look so like the truth, who can\\nassure themselves of certain happiness? I feel as if I were walking on\\nthe edge of a precipice, towards which thousands are crowding and\\nendeavouring to plunge me into the abyss. William and Justine were\\nassassinated, and the murderer escapes; he walks about the world free,\\nand perhaps respected. But even if I were condemned to suffer on the\\nscaffold for the same crimes, I would not change places with such a\\nwretch.”\\n\\nI listened to this discourse with the extremest agony. I, not in deed,\\nbut in effect, was the true murderer. Elizabeth read my anguish in my\\ncountenance, and kindly taking my hand, said, “My dearest friend, you\\nmust calm yourself. These events have affected me, God knows how\\ndeeply; but I am not so wretched as you are. There is an expression of\\ndespair, and sometimes of revenge, in your countenance that makes me\\ntremble. Dear Victor, banish these dark passions. Remember the\\nfriends around you, who centre all their hopes in you. Have we lost\\nthe power of rendering you happy? Ah! While we love, while we are\\ntrue to each other, here in this land of peace and beauty, your native\\ncountry, we may reap every tranquil blessing—what can disturb our\\npeace?”\\n\\nAnd could not such words from her whom I fondly prized before every\\nother gift of fortune suffice to chase away the fiend that lurked in my\\nheart? Even as she spoke I drew near to her, as if in terror, lest at\\nthat very moment the destroyer had been near to rob me of her.\\n\\nThus not the tenderness of friendship, nor the beauty of earth, nor of\\nheaven, could redeem my soul from woe; the very accents of love were\\nineffectual. I was encompassed by a cloud which no beneficial\\ninfluence could penetrate. The wounded deer dragging its fainting\\nlimbs to some untrodden brake, there to gaze upon the arrow which had\\npierced it, and to die, was but a type of me.\\n\\nSometimes I could cope with the sullen despair that overwhelmed me, but\\nsometimes the whirlwind passions of my soul drove me to seek, by bodily\\nexercise and by change of place, some relief from my intolerable\\nsensations. It was during an access of this kind that I suddenly left\\nmy home, and bending my steps towards the near Alpine valleys, sought\\nin the magnificence, the eternity of such scenes, to forget myself and\\nmy ephemeral, because human, sorrows. My wanderings were directed\\ntowards the valley of Chamounix. I had visited it frequently during my\\nboyhood. Six years had passed since then: _I_ was a wreck, but nought\\nhad changed in those savage and enduring scenes.\\n\\nI performed the first part of my journey on horseback. I afterwards\\nhired a mule, as the more sure-footed and least liable to receive\\ninjury on these rugged roads. The weather was fine; it was about the\\nmiddle of the month of August, nearly two months after the death of\\nJustine, that miserable epoch from which I dated all my woe. The\\nweight upon my spirit was sensibly lightened as I plunged yet deeper in\\nthe ravine of Arve. The immense mountains and precipices that overhung\\nme on every side, the sound of the river raging among the rocks, and\\nthe dashing of the waterfalls around spoke of a power mighty as\\nOmnipotence—and I ceased to fear or to bend before any being less\\nalmighty than that which had created and ruled the elements, here\\ndisplayed in their most terrific guise. Still, as I ascended higher,\\nthe valley assumed a more magnificent and astonishing character.\\nRuined castles hanging on the precipices of piny mountains, the\\nimpetuous Arve, and cottages every here and there peeping forth from\\namong the trees formed a scene of singular beauty. But it was\\naugmented and rendered sublime by the mighty Alps, whose white and\\nshining pyramids and domes towered above all, as belonging to another\\nearth, the habitations of another race of beings.\\n\\nI passed the bridge of Pélissier, where the ravine, which the river\\nforms, opened before me, and I began to ascend the mountain that\\noverhangs it. Soon after, I entered the valley of Chamounix. This\\nvalley is more wonderful and sublime, but not so beautiful and\\npicturesque as that of Servox, through which I had just passed. The\\nhigh and snowy mountains were its immediate boundaries, but I saw no\\nmore ruined castles and fertile fields. Immense glaciers approached\\nthe road; I heard the rumbling thunder of the falling avalanche and\\nmarked the smoke of its passage. Mont Blanc, the supreme and\\nmagnificent Mont Blanc, raised itself from the surrounding _aiguilles_,\\nand its tremendous _dôme_ overlooked the valley.\\n\\nA tingling long-lost sense of pleasure often came across me during this\\njourney. Some turn in the road, some new object suddenly perceived and\\nrecognised, reminded me of days gone by, and were associated with the\\nlighthearted gaiety of boyhood. The very winds whispered in soothing\\naccents, and maternal Nature bade me weep no more. Then again the\\nkindly influence ceased to act—I found myself fettered again to grief\\nand indulging in all the misery of reflection. Then I spurred on my\\nanimal, striving so to forget the world, my fears, and more than all,\\nmyself—or, in a more desperate fashion, I alighted and threw myself on\\nthe grass, weighed down by horror and despair.\\n\\nAt length I arrived at the village of Chamounix. Exhaustion succeeded\\nto the extreme fatigue both of body and of mind which I had endured.\\nFor a short space of time I remained at the window watching the pallid\\nlightnings that played above Mont Blanc and listening to the rushing of\\nthe Arve, which pursued its noisy way beneath. The same lulling sounds\\nacted as a lullaby to my too keen sensations; when I placed my head\\nupon my pillow, sleep crept over me; I felt it as it came and blessed\\nthe giver of oblivion.\\n\\n\\n\\n\\nChapter 10\\n\\n\\nI spent the following day roaming through the valley. I stood beside\\nthe sources of the Arveiron, which take their rise in a glacier, that\\nwith slow pace is advancing down from the summit of the hills to\\nbarricade the valley. The abrupt sides of vast mountains were before\\nme; the icy wall of the glacier overhung me; a few shattered pines were\\nscattered around; and the solemn silence of this glorious\\npresence-chamber of imperial Nature was broken only by the brawling\\nwaves or the fall of some vast fragment, the thunder sound of the\\navalanche or the cracking, reverberated along the mountains, of the\\naccumulated ice, which, through the silent working of immutable laws,\\nwas ever and anon rent and torn, as if it had been but a plaything in\\ntheir hands. These sublime and magnificent scenes afforded me the\\ngreatest consolation that I was capable of receiving. They elevated me\\nfrom all littleness of feeling, and although they did not remove my\\ngrief, they subdued and tranquillised it. In some degree, also, they\\ndiverted my mind from the thoughts over which it had brooded for the\\nlast month. I retired to rest at night; my slumbers, as it were,\\nwaited on and ministered to by the assemblance of grand shapes which I\\nhad contemplated during the day. They congregated round me; the\\nunstained snowy mountain-top, the glittering pinnacle, the pine woods,\\nand ragged bare ravine, the eagle, soaring amidst the clouds—they all\\ngathered round me and bade me be at peace.\\n\\nWhere had they fled when the next morning I awoke? All of\\nsoul-inspiriting fled with sleep, and dark melancholy clouded every\\nthought. The rain was pouring in torrents, and thick mists hid the\\nsummits of the mountains, so that I even saw not the faces of those\\nmighty friends. Still I would penetrate their misty veil and seek them\\nin their cloudy retreats. What were rain and storm to me? My mule was\\nbrought to the door, and I resolved to ascend to the summit of\\nMontanvert. I remembered the effect that the view of the tremendous\\nand ever-moving glacier had produced upon my mind when I first saw it.\\nIt had then filled me with a sublime ecstasy that gave wings to the\\nsoul and allowed it to soar from the obscure world to light and joy.\\nThe sight of the awful and majestic in nature had indeed always the\\neffect of solemnising my mind and causing me to forget the passing\\ncares of life. I determined to go without a guide, for I was well\\nacquainted with the path, and the presence of another would destroy the\\nsolitary grandeur of the scene.\\n\\nThe ascent is precipitous, but the path is cut into continual and short\\nwindings, which enable you to surmount the perpendicularity of the\\nmountain. It is a scene terrifically desolate. In a thousand spots\\nthe traces of the winter avalanche may be perceived, where trees lie\\nbroken and strewed on the ground, some entirely destroyed, others bent,\\nleaning upon the jutting rocks of the mountain or transversely upon\\nother trees. The path, as you ascend higher, is intersected by ravines\\nof snow, down which stones continually roll from above; one of them is\\nparticularly dangerous, as the slightest sound, such as even speaking\\nin a loud voice, produces a concussion of air sufficient to draw\\ndestruction upon the head of the speaker. The pines are not tall or\\nluxuriant, but they are sombre and add an air of severity to the scene.\\nI looked on the valley beneath; vast mists were rising from the rivers\\nwhich ran through it and curling in thick wreaths around the opposite\\nmountains, whose summits were hid in the uniform clouds, while rain\\npoured from the dark sky and added to the melancholy impression I\\nreceived from the objects around me. Alas! Why does man boast of\\nsensibilities superior to those apparent in the brute; it only renders\\nthem more necessary beings. If our impulses were confined to hunger,\\nthirst, and desire, we might be nearly free; but now we are moved by\\nevery wind that blows and a chance word or scene that that word may\\nconvey to us.\\n\\n  We rest; a dream has power to poison sleep.\\n     We rise; one wand’ring thought pollutes the day.\\n  We feel, conceive, or reason; laugh or weep,\\n     Embrace fond woe, or cast our cares away;\\n  It is the same: for, be it joy or sorrow,\\n     The path of its departure still is free.\\n  Man’s yesterday may ne’er be like his morrow;\\n     Nought may endure but mutability!\\n\\n\\nIt was nearly noon when I arrived at the top of the ascent. For some\\ntime I sat upon the rock that overlooks the sea of ice. A mist covered\\nboth that and the surrounding mountains. Presently a breeze dissipated\\nthe cloud, and I descended upon the glacier. The surface is very\\nuneven, rising like the waves of a troubled sea, descending low, and\\ninterspersed by rifts that sink deep. The field of ice is almost a\\nleague in width, but I spent nearly two hours in crossing it. The\\nopposite mountain is a bare perpendicular rock. From the side where I\\nnow stood Montanvert was exactly opposite, at the distance of a league;\\nand above it rose Mont Blanc, in awful majesty. I remained in a recess\\nof the rock, gazing on this wonderful and stupendous scene. The sea,\\nor rather the vast river of ice, wound among its dependent mountains,\\nwhose aerial summits hung over its recesses. Their icy and glittering\\npeaks shone in the sunlight over the clouds. My heart, which was\\nbefore sorrowful, now swelled with something like joy; I exclaimed,\\n“Wandering spirits, if indeed ye wander, and do not rest in your narrow\\nbeds, allow me this faint happiness, or take me, as your companion,\\naway from the joys of life.”\\n\\nAs I said this I suddenly beheld the figure of a man, at some distance,\\nadvancing towards me with superhuman speed. He bounded over the\\ncrevices in the ice, among which I had walked with caution; his\\nstature, also, as he approached, seemed to exceed that of man. I was\\ntroubled; a mist came over my eyes, and I felt a faintness seize me,\\nbut I was quickly restored by the cold gale of the mountains. I\\nperceived, as the shape came nearer (sight tremendous and abhorred!)\\nthat it was the wretch whom I had created. I trembled with rage and\\nhorror, resolving to wait his approach and then close with him in\\nmortal combat. He approached; his countenance bespoke bitter anguish,\\ncombined with disdain and malignity, while its unearthly ugliness\\nrendered it almost too horrible for human eyes. But I scarcely\\nobserved this; rage and hatred had at first deprived me of utterance,\\nand I recovered only to overwhelm him with words expressive of furious\\ndetestation and contempt.\\n\\n“Devil,” I exclaimed, “do you dare approach me? And do\\nnot you fear the fierce vengeance of my arm wreaked on your miserable head?\\nBegone, vile insect! Or rather, stay, that I may trample you to dust! And,\\noh! That I could, with the extinction of your miserable existence, restore\\nthose victims whom you have so diabolically murdered!”\\n\\n“I expected this reception,” said the dæmon. “All men hate the\\nwretched; how, then, must I be hated, who am miserable beyond all\\nliving things! Yet you, my creator, detest and spurn me, thy creature,\\nto whom thou art bound by ties only dissoluble by the annihilation of\\none of us. You purpose to kill me. How dare you sport thus with life?\\nDo your duty towards me, and I will do mine towards you and the rest of\\nmankind. If you will comply with my conditions, I will leave them and\\nyou at peace; but if you refuse, I will glut the maw of death, until it\\nbe satiated with the blood of your remaining friends.”\\n\\n“Abhorred monster! Fiend that thou art! The tortures of hell are too\\nmild a vengeance for thy crimes. Wretched devil! You reproach me with\\nyour creation, come on, then, that I may extinguish the spark which I\\nso negligently bestowed.”\\n\\nMy rage was without bounds; I sprang on him, impelled by all the\\nfeelings which can arm one being against the existence of another.\\n\\nHe easily eluded me and said,\\n\\n“Be calm! I entreat you to hear me before you give vent to your hatred\\non my devoted head. Have I not suffered enough, that you seek to\\nincrease my misery? Life, although it may only be an accumulation of\\nanguish, is dear to me, and I will defend it. Remember, thou hast made\\nme more powerful than thyself; my height is superior to thine, my\\njoints more supple. But I will not be tempted to set myself in\\nopposition to thee. I am thy creature, and I will be even mild and\\ndocile to my natural lord and king if thou wilt also perform thy part,\\nthe which thou owest me. Oh, Frankenstein, be not equitable to every\\nother and trample upon me alone, to whom thy justice, and even thy\\nclemency and affection, is most due. Remember that I am thy creature;\\nI ought to be thy Adam, but I am rather the fallen angel, whom thou\\ndrivest from joy for no misdeed. Everywhere I see bliss, from which I\\nalone am irrevocably excluded. I was benevolent and good; misery made\\nme a fiend. Make me happy, and I shall again be virtuous.”\\n\\n“Begone! I will not hear you. There can be no community between you\\nand me; we are enemies. Begone, or let us try our strength in a fight,\\nin which one must fall.”\\n\\n“How can I move thee? Will no entreaties cause thee to turn a\\nfavourable eye upon thy creature, who implores thy goodness and\\ncompassion? Believe me, Frankenstein, I was benevolent; my soul glowed\\nwith love and humanity; but am I not alone, miserably alone? You, my\\ncreator, abhor me; what hope can I gather from your fellow creatures,\\nwho owe me nothing? They spurn and hate me. The desert mountains and\\ndreary glaciers are my refuge. I have wandered here many days; the\\ncaves of ice, which I only do not fear, are a dwelling to me, and the\\nonly one which man does not grudge. These bleak skies I hail, for they\\nare kinder to me than your fellow beings. If the multitude of mankind\\nknew of my existence, they would do as you do, and arm themselves for\\nmy destruction. Shall I not then hate them who abhor me? I will keep\\nno terms with my enemies. I am miserable, and they shall share my\\nwretchedness. Yet it is in your power to recompense me, and deliver\\nthem from an evil which it only remains for you to make so great, that\\nnot only you and your family, but thousands of others, shall be\\nswallowed up in the whirlwinds of its rage. Let your compassion be\\nmoved, and do not disdain me. Listen to my tale; when you have heard\\nthat, abandon or commiserate me, as you shall judge that I deserve.\\nBut hear me. The guilty are allowed, by human laws, bloody as they\\nare, to speak in their own defence before they are condemned. Listen\\nto me, Frankenstein. You accuse me of murder, and yet you would, with\\na satisfied conscience, destroy your own creature. Oh, praise the\\neternal justice of man! Yet I ask you not to spare me; listen to me,\\nand then, if you can, and if you will, destroy the work of your hands.”\\n\\n“Why do you call to my remembrance,” I rejoined, “circumstances of\\nwhich I shudder to reflect, that I have been the miserable origin and\\nauthor? Cursed be the day, abhorred devil, in which you first saw\\nlight! Cursed (although I curse myself) be the hands that formed you!\\nYou have made me wretched beyond expression. You have left me no power\\nto consider whether I am just to you or not. Begone! Relieve me from\\nthe sight of your detested form.”\\n\\n“Thus I relieve thee, my creator,” he said, and placed his hated hands\\nbefore my eyes, which I flung from me with violence; “thus I take from\\nthee a sight which you abhor. Still thou canst listen to me and grant\\nme thy compassion. By the virtues that I once possessed, I demand this\\nfrom you. Hear my tale; it is long and strange, and the temperature of\\nthis place is not fitting to your fine sensations; come to the hut upon\\nthe mountain. The sun is yet high in the heavens; before it descends\\nto hide itself behind your snowy precipices and illuminate another\\nworld, you will have heard my story and can decide. On you it rests,\\nwhether I quit for ever the neighbourhood of man and lead a harmless\\nlife, or become the scourge of your fellow creatures and the author of\\nyour own speedy ruin.”\\n\\nAs he said this he led the way across the ice; I followed. My heart\\nwas full, and I did not answer him, but as I proceeded, I weighed the\\nvarious arguments that he had used and determined at least to listen to\\nhis tale. I was partly urged by curiosity, and compassion confirmed my\\nresolution. I had hitherto supposed him to be the murderer of my\\nbrother, and I eagerly sought a confirmation or denial of this opinion.\\nFor the first time, also, I felt what the duties of a creator towards\\nhis creature were, and that I ought to render him happy before I\\ncomplained of his wickedness. These motives urged me to comply with\\nhis demand. We crossed the ice, therefore, and ascended the opposite\\nrock. The air was cold, and the rain again began to descend; we\\nentered the hut, the fiend with an air of exultation, I with a heavy\\nheart and depressed spirits. But I consented to listen, and seating\\nmyself by the fire which my odious companion had lighted, he thus began\\nhis tale.\\n\\n\\n\\n\\nChapter 11\\n\\n\\n“It is with considerable difficulty that I remember the original era of\\nmy being; all the events of that period appear confused and indistinct.\\nA strange multiplicity of sensations seized me, and I saw, felt, heard,\\nand smelt at the same time; and it was, indeed, a long time before I\\nlearned to distinguish between the operations of my various senses. By\\ndegrees, I remember, a stronger light pressed upon my nerves, so that I\\nwas obliged to shut my eyes. Darkness then came over me and troubled\\nme, but hardly had I felt this when, by opening my eyes, as I now\\nsuppose, the light poured in upon me again. I walked and, I believe,\\ndescended, but I presently found a great alteration in my sensations.\\nBefore, dark and opaque bodies had surrounded me, impervious to my\\ntouch or sight; but I now found that I could wander on at liberty, with\\nno obstacles which I could not either surmount or avoid. The light\\nbecame more and more oppressive to me, and the heat wearying me as I\\nwalked, I sought a place where I could receive shade. This was the\\nforest near Ingolstadt; and here I lay by the side of a brook resting\\nfrom my fatigue, until I felt tormented by hunger and thirst. This\\nroused me from my nearly dormant state, and I ate some berries which I\\nfound hanging on the trees or lying on the ground. I slaked my thirst\\nat the brook, and then lying down, was overcome by sleep.\\n\\n“It was dark when I awoke; I felt cold also, and half frightened, as it\\nwere, instinctively, finding myself so desolate. Before I had quitted\\nyour apartment, on a sensation of cold, I had covered myself with some\\nclothes, but these were insufficient to secure me from the dews of\\nnight. I was a poor, helpless, miserable wretch; I knew, and could\\ndistinguish, nothing; but feeling pain invade me on all sides, I sat\\ndown and wept.\\n\\n“Soon a gentle light stole over the heavens and gave me a sensation of\\npleasure. I started up and beheld a radiant form rise from among the\\ntrees. [The moon] I gazed with a kind of wonder. It moved slowly,\\nbut it enlightened my path, and I again went out in search of berries.\\nI was still cold when under one of the trees I found a huge cloak, with\\nwhich I covered myself, and sat down upon the ground. No distinct\\nideas occupied my mind; all was confused. I felt light, and hunger,\\nand thirst, and darkness; innumerable sounds rang in my ears, and on\\nall sides various scents saluted me; the only object that I could\\ndistinguish was the bright moon, and I fixed my eyes on that with\\npleasure.\\n\\n“Several changes of day and night passed, and the orb of night had\\ngreatly lessened, when I began to distinguish my sensations from each\\nother. I gradually saw plainly the clear stream that supplied me with\\ndrink and the trees that shaded me with their foliage. I was delighted\\nwhen I first discovered that a pleasant sound, which often saluted my\\nears, proceeded from the throats of the little winged animals who had\\noften intercepted the light from my eyes. I began also to observe,\\nwith greater accuracy, the forms that surrounded me and to perceive the\\nboundaries of the radiant roof of light which canopied me. Sometimes I\\ntried to imitate the pleasant songs of the birds but was unable.\\nSometimes I wished to express my sensations in my own mode, but the\\nuncouth and inarticulate sounds which broke from me frightened me into\\nsilence again.\\n\\n“The moon had disappeared from the night, and again, with a lessened\\nform, showed itself, while I still remained in the forest. My\\nsensations had by this time become distinct, and my mind received every\\nday additional ideas. My eyes became accustomed to the light and to\\nperceive objects in their right forms; I distinguished the insect from\\nthe herb, and by degrees, one herb from another. I found that the\\nsparrow uttered none but harsh notes, whilst those of the blackbird and\\nthrush were sweet and enticing.\\n\\n“One day, when I was oppressed by cold, I found a fire which had been\\nleft by some wandering beggars, and was overcome with delight at the\\nwarmth I experienced from it. In my joy I thrust my hand into the live\\nembers, but quickly drew it out again with a cry of pain. How strange,\\nI thought, that the same cause should produce such opposite effects! I\\nexamined the materials of the fire, and to my joy found it to be\\ncomposed of wood. I quickly collected some branches, but they were wet\\nand would not burn. I was pained at this and sat still watching the\\noperation of the fire. The wet wood which I had placed near the heat\\ndried and itself became inflamed. I reflected on this, and by touching\\nthe various branches, I discovered the cause and busied myself in\\ncollecting a great quantity of wood, that I might dry it and have a\\nplentiful supply of fire. When night came on and brought sleep with\\nit, I was in the greatest fear lest my fire should be extinguished. I\\ncovered it carefully with dry wood and leaves and placed wet branches\\nupon it; and then, spreading my cloak, I lay on the ground and sank\\ninto sleep.\\n\\n“It was morning when I awoke, and my first care was to visit the fire.\\nI uncovered it, and a gentle breeze quickly fanned it into a flame. I\\nobserved this also and contrived a fan of branches, which roused the\\nembers when they were nearly extinguished. When night came again I\\nfound, with pleasure, that the fire gave light as well as heat and that\\nthe discovery of this element was useful to me in my food, for I found\\nsome of the offals that the travellers had left had been roasted, and\\ntasted much more savoury than the berries I gathered from the trees. I\\ntried, therefore, to dress my food in the same manner, placing it on\\nthe live embers. I found that the berries were spoiled by this\\noperation, and the nuts and roots much improved.\\n\\n“Food, however, became scarce, and I often spent the whole day\\nsearching in vain for a few acorns to assuage the pangs of hunger. When\\nI found this, I resolved to quit the place that I had hitherto\\ninhabited, to seek for one where the few wants I experienced would be\\nmore easily satisfied. In this emigration I exceedingly lamented the\\nloss of the fire which I had obtained through accident and knew not how\\nto reproduce it. I gave several hours to the serious consideration of\\nthis difficulty, but I was obliged to relinquish all attempt to supply\\nit, and wrapping myself up in my cloak, I struck across the wood\\ntowards the setting sun. I passed three days in these rambles and at\\nlength discovered the open country. A great fall of snow had taken\\nplace the night before, and the fields were of one uniform white; the\\nappearance was disconsolate, and I found my feet chilled by the cold\\ndamp substance that covered the ground.\\n\\n“It was about seven in the morning, and I longed to obtain food and\\nshelter; at length I perceived a small hut, on a rising ground, which\\nhad doubtless been built for the convenience of some shepherd. This\\nwas a new sight to me, and I examined the structure with great\\ncuriosity. Finding the door open, I entered. An old man sat in it,\\nnear a fire, over which he was preparing his breakfast. He turned on\\nhearing a noise, and perceiving me, shrieked loudly, and quitting the\\nhut, ran across the fields with a speed of which his debilitated form\\nhardly appeared capable. His appearance, different from any I had ever\\nbefore seen, and his flight somewhat surprised me. But I was enchanted\\nby the appearance of the hut; here the snow and rain could not\\npenetrate; the ground was dry; and it presented to me then as exquisite\\nand divine a retreat as Pandæmonium appeared to the dæmons of hell\\nafter their sufferings in the lake of fire. I greedily devoured the\\nremnants of the shepherd’s breakfast, which consisted of bread, cheese,\\nmilk, and wine; the latter, however, I did not like. Then, overcome by\\nfatigue, I lay down among some straw and fell asleep.\\n\\n“It was noon when I awoke, and allured by the warmth of the sun, which\\nshone brightly on the white ground, I determined to recommence my\\ntravels; and, depositing the remains of the peasant’s breakfast in a\\nwallet I found, I proceeded across the fields for several hours, until\\nat sunset I arrived at a village. How miraculous did this appear! The\\nhuts, the neater cottages, and stately houses engaged my admiration by\\nturns. The vegetables in the gardens, the milk and cheese that I saw\\nplaced at the windows of some of the cottages, allured my appetite. One\\nof the best of these I entered, but I had hardly placed my foot within\\nthe door before the children shrieked, and one of the women fainted.\\nThe whole village was roused; some fled, some attacked me, until,\\ngrievously bruised by stones and many other kinds of missile weapons, I\\nescaped to the open country and fearfully took refuge in a low hovel,\\nquite bare, and making a wretched appearance after the palaces I had\\nbeheld in the village. This hovel however, joined a cottage of a neat\\nand pleasant appearance, but after my late dearly bought experience, I\\ndared not enter it. My place of refuge was constructed of wood, but so\\nlow that I could with difficulty sit upright in it. No wood, however,\\nwas placed on the earth, which formed the floor, but it was dry; and\\nalthough the wind entered it by innumerable chinks, I found it an\\nagreeable asylum from the snow and rain.\\n\\n“Here, then, I retreated and lay down happy to have found a shelter,\\nhowever miserable, from the inclemency of the season, and still more\\nfrom the barbarity of man. As soon as morning dawned I crept from my\\nkennel, that I might view the adjacent cottage and discover if I could\\nremain in the habitation I had found. It was situated against the back\\nof the cottage and surrounded on the sides which were exposed by a pig\\nsty and a clear pool of water. One part was open, and by that I had\\ncrept in; but now I covered every crevice by which I might be perceived\\nwith stones and wood, yet in such a manner that I might move them on\\noccasion to pass out; all the light I enjoyed came through the sty, and\\nthat was sufficient for me.\\n\\n“Having thus arranged my dwelling and carpeted it with clean straw, I\\nretired, for I saw the figure of a man at a distance, and I remembered\\ntoo well my treatment the night before to trust myself in his power. I\\nhad first, however, provided for my sustenance for that day by a loaf\\nof coarse bread, which I purloined, and a cup with which I could drink\\nmore conveniently than from my hand of the pure water which flowed by\\nmy retreat. The floor was a little raised, so that it was kept\\nperfectly dry, and by its vicinity to the chimney of the cottage it was\\ntolerably warm.\\n\\n“Being thus provided, I resolved to reside in this hovel until\\nsomething should occur which might alter my determination. It was\\nindeed a paradise compared to the bleak forest, my former residence,\\nthe rain-dropping branches, and dank earth. I ate my breakfast with\\npleasure and was about to remove a plank to procure myself a little\\nwater when I heard a step, and looking through a small chink, I beheld\\na young creature, with a pail on her head, passing before my hovel. The\\ngirl was young and of gentle demeanour, unlike what I have since found\\ncottagers and farmhouse servants to be. Yet she was meanly dressed, a\\ncoarse blue petticoat and a linen jacket being her only garb; her fair\\nhair was plaited but not adorned: she looked patient yet sad. I lost\\nsight of her, and in about a quarter of an hour she returned bearing\\nthe pail, which was now partly filled with milk. As she walked along,\\nseemingly incommoded by the burden, a young man met her, whose\\ncountenance expressed a deeper despondence. Uttering a few sounds with\\nan air of melancholy, he took the pail from her head and bore it to the\\ncottage himself. She followed, and they disappeared. Presently I saw\\nthe young man again, with some tools in his hand, cross the field\\nbehind the cottage; and the girl was also busied, sometimes in the\\nhouse and sometimes in the yard.\\n\\n“On examining my dwelling, I found that one of the windows of the\\ncottage had formerly occupied a part of it, but the panes had been\\nfilled up with wood. In one of these was a small and almost\\nimperceptible chink through which the eye could just penetrate.\\nThrough this crevice a small room was visible, whitewashed and clean\\nbut very bare of furniture. In one corner, near a small fire, sat an\\nold man, leaning his head on his hands in a disconsolate attitude. The\\nyoung girl was occupied in arranging the cottage; but presently she\\ntook something out of a drawer, which employed her hands, and she sat\\ndown beside the old man, who, taking up an instrument, began to play\\nand to produce sounds sweeter than the voice of the thrush or the\\nnightingale. It was a lovely sight, even to me, poor wretch who had\\nnever beheld aught beautiful before. The silver hair and benevolent\\ncountenance of the aged cottager won my reverence, while the gentle\\nmanners of the girl enticed my love. He played a sweet mournful air\\nwhich I perceived drew tears from the eyes of his amiable companion, of\\nwhich the old man took no notice, until she sobbed audibly; he then\\npronounced a few sounds, and the fair creature, leaving her work, knelt\\nat his feet. He raised her and smiled with such kindness and affection\\nthat I felt sensations of a peculiar and overpowering nature; they were\\na mixture of pain and pleasure, such as I had never before experienced,\\neither from hunger or cold, warmth or food; and I withdrew from the\\nwindow, unable to bear these emotions.\\n\\n“Soon after this the young man returned, bearing on his shoulders a\\nload of wood. The girl met him at the door, helped to relieve him of\\nhis burden, and taking some of the fuel into the cottage, placed it on\\nthe fire; then she and the youth went apart into a nook of the cottage,\\nand he showed her a large loaf and a piece of cheese. She seemed\\npleased and went into the garden for some roots and plants, which she\\nplaced in water, and then upon the fire. She afterwards continued her\\nwork, whilst the young man went into the garden and appeared busily\\nemployed in digging and pulling up roots. After he had been employed\\nthus about an hour, the young woman joined him and they entered the\\ncottage together.\\n\\n“The old man had, in the meantime, been pensive, but on the appearance\\nof his companions he assumed a more cheerful air, and they sat down to\\neat. The meal was quickly dispatched. The young woman was again\\noccupied in arranging the cottage, the old man walked before the\\ncottage in the sun for a few minutes, leaning on the arm of the youth.\\nNothing could exceed in beauty the contrast between these two excellent\\ncreatures. One was old, with silver hairs and a countenance beaming\\nwith benevolence and love; the younger was slight and graceful in his\\nfigure, and his features were moulded with the finest symmetry, yet his\\neyes and attitude expressed the utmost sadness and despondency. The\\nold man returned to the cottage, and the youth, with tools different\\nfrom those he had used in the morning, directed his steps across the\\nfields.\\n\\n“Night quickly shut in, but to my extreme wonder, I found that the\\ncottagers had a means of prolonging light by the use of tapers, and was\\ndelighted to find that the setting of the sun did not put an end to the\\npleasure I experienced in watching my human neighbours. In the evening\\nthe young girl and her companion were employed in various occupations\\nwhich I did not understand; and the old man again took up the\\ninstrument which produced the divine sounds that had enchanted me in\\nthe morning. So soon as he had finished, the youth began, not to play,\\nbut to utter sounds that were monotonous, and neither resembling the\\nharmony of the old man’s instrument nor the songs of the birds; I since\\nfound that he read aloud, but at that time I knew nothing of the\\nscience of words or letters.\\n\\n“The family, after having been thus occupied for a short time,\\nextinguished their lights and retired, as I conjectured, to rest.”\\n\\n\\n\\n\\nChapter 12\\n\\n\\n“I lay on my straw, but I could not sleep. I thought of the\\noccurrences of the day. What chiefly struck me was the gentle manners\\nof these people, and I longed to join them, but dared not. I\\nremembered too well the treatment I had suffered the night before from\\nthe barbarous villagers, and resolved, whatever course of conduct I\\nmight hereafter think it right to pursue, that for the present I would\\nremain quietly in my hovel, watching and endeavouring to discover the\\nmotives which influenced their actions.\\n\\n“The cottagers arose the next morning before the sun. The young woman\\narranged the cottage and prepared the food, and the youth departed\\nafter the first meal.\\n\\n“This day was passed in the same routine as that which preceded it.\\nThe young man was constantly employed out of doors, and the girl in\\nvarious laborious occupations within. The old man, whom I soon\\nperceived to be blind, employed his leisure hours on his instrument or\\nin contemplation. Nothing could exceed the love and respect which the\\nyounger cottagers exhibited towards their venerable companion. They\\nperformed towards him every little office of affection and duty with\\ngentleness, and he rewarded them by his benevolent smiles.\\n\\n“They were not entirely happy. The young man and his companion often\\nwent apart and appeared to weep. I saw no cause for their unhappiness,\\nbut I was deeply affected by it. If such lovely creatures were\\nmiserable, it was less strange that I, an imperfect and solitary being,\\nshould be wretched. Yet why were these gentle beings unhappy? They\\npossessed a delightful house (for such it was in my eyes) and every\\nluxury; they had a fire to warm them when chill and delicious viands\\nwhen hungry; they were dressed in excellent clothes; and, still more,\\nthey enjoyed one another’s company and speech, interchanging each day\\nlooks of affection and kindness. What did their tears imply? Did they\\nreally express pain? I was at first unable to solve these questions,\\nbut perpetual attention and time explained to me many appearances which\\nwere at first enigmatic.\\n\\n“A considerable period elapsed before I discovered one of the causes of\\nthe uneasiness of this amiable family: it was poverty, and they\\nsuffered that evil in a very distressing degree. Their nourishment\\nconsisted entirely of the vegetables of their garden and the milk of\\none cow, which gave very little during the winter, when its masters\\ncould scarcely procure food to support it. They often, I believe,\\nsuffered the pangs of hunger very poignantly, especially the two\\nyounger cottagers, for several times they placed food before the old\\nman when they reserved none for themselves.\\n\\n“This trait of kindness moved me sensibly. I had been accustomed,\\nduring the night, to steal a part of their store for my own\\nconsumption, but when I found that in doing this I inflicted pain on\\nthe cottagers, I abstained and satisfied myself with berries, nuts, and\\nroots which I gathered from a neighbouring wood.\\n\\n“I discovered also another means through which I was enabled to assist\\ntheir labours. I found that the youth spent a great part of each day\\nin collecting wood for the family fire, and during the night I often\\ntook his tools, the use of which I quickly discovered, and brought home\\nfiring sufficient for the consumption of several days.\\n\\n“I remember, the first time that I did this, the young woman, when she\\nopened the door in the morning, appeared greatly astonished on seeing a great\\npile of wood on the outside. She uttered some words in a loud voice, and the\\nyouth joined her, who also expressed surprise. I observed, with pleasure,\\nthat he did not go to the forest that day, but spent it in repairing the\\ncottage and cultivating the garden.\\n\\n“By degrees I made a discovery of still greater moment. I found that\\nthese people possessed a method of communicating their experience and\\nfeelings to one another by articulate sounds. I perceived that the words\\nthey spoke sometimes produced pleasure or pain, smiles or sadness, in the\\nminds and countenances of the hearers. This was indeed a godlike science,\\nand I ardently desired to become acquainted with it. But I was baffled in\\nevery attempt I made for this purpose. Their pronunciation was quick, and\\nthe words they uttered, not having any apparent connection with visible\\nobjects, I was unable to discover any clue by which I could unravel the\\nmystery of their reference. By great application, however, and after having\\nremained during the space of several revolutions of the moon in my hovel, I\\ndiscovered the names that were given to some of the most familiar objects of\\ndiscourse; I learned and applied the words, _fire, milk, bread,_ and\\n_wood._ I learned also the names of the cottagers themselves. The youth\\nand his companion had each of them several names, but the old man had only\\none, which was _father._ The girl was called _sister_ or\\n_Agatha,_ and the youth _Felix, brother,_ or _son_. I cannot\\ndescribe the delight I felt when I learned the ideas appropriated to each of\\nthese sounds and was able to pronounce them. I distinguished several other\\nwords without being able as yet to understand or apply them, such as _good,\\ndearest, unhappy._\\n\\n“I spent the winter in this manner. The gentle manners and beauty of\\nthe cottagers greatly endeared them to me; when they were unhappy, I\\nfelt depressed; when they rejoiced, I sympathised in their joys. I saw\\nfew human beings besides them, and if any other happened to enter the\\ncottage, their harsh manners and rude gait only enhanced to me the\\nsuperior accomplishments of my friends. The old man, I could perceive,\\noften endeavoured to encourage his children, as sometimes I found that\\nhe called them, to cast off their melancholy. He would talk in a\\ncheerful accent, with an expression of goodness that bestowed pleasure\\neven upon me. Agatha listened with respect, her eyes sometimes filled\\nwith tears, which she endeavoured to wipe away unperceived; but I\\ngenerally found that her countenance and tone were more cheerful after\\nhaving listened to the exhortations of her father. It was not thus\\nwith Felix. He was always the saddest of the group, and even to my\\nunpractised senses, he appeared to have suffered more deeply than his\\nfriends. But if his countenance was more sorrowful, his voice was more\\ncheerful than that of his sister, especially when he addressed the old\\nman.\\n\\n“I could mention innumerable instances which, although slight, marked\\nthe dispositions of these amiable cottagers. In the midst of poverty\\nand want, Felix carried with pleasure to his sister the first little\\nwhite flower that peeped out from beneath the snowy ground. Early in\\nthe morning, before she had risen, he cleared away the snow that\\nobstructed her path to the milk-house, drew water from the well, and\\nbrought the wood from the outhouse, where, to his perpetual\\nastonishment, he found his store always replenished by an invisible\\nhand. In the day, I believe, he worked sometimes for a neighbouring\\nfarmer, because he often went forth and did not return until dinner,\\nyet brought no wood with him. At other times he worked in the garden,\\nbut as there was little to do in the frosty season, he read to the old\\nman and Agatha.\\n\\n“This reading had puzzled me extremely at first, but by degrees I\\ndiscovered that he uttered many of the same sounds when he read as when\\nhe talked. I conjectured, therefore, that he found on the paper signs\\nfor speech which he understood, and I ardently longed to comprehend\\nthese also; but how was that possible when I did not even understand\\nthe sounds for which they stood as signs? I improved, however,\\nsensibly in this science, but not sufficiently to follow up any kind of\\nconversation, although I applied my whole mind to the endeavour, for I\\neasily perceived that, although I eagerly longed to discover myself to\\nthe cottagers, I ought not to make the attempt until I had first become\\nmaster of their language, which knowledge might enable me to make them\\noverlook the deformity of my figure, for with this also the contrast\\nperpetually presented to my eyes had made me acquainted.\\n\\n“I had admired the perfect forms of my cottagers—their grace, beauty,\\nand delicate complexions; but how was I terrified when I viewed myself\\nin a transparent pool! At first I started back, unable to believe that\\nit was indeed I who was reflected in the mirror; and when I became\\nfully convinced that I was in reality the monster that I am, I was\\nfilled with the bitterest sensations of despondence and mortification.\\nAlas! I did not yet entirely know the fatal effects of this miserable\\ndeformity.\\n\\n“As the sun became warmer and the light of day longer, the snow\\nvanished, and I beheld the bare trees and the black earth. From this\\ntime Felix was more employed, and the heart-moving indications of\\nimpending famine disappeared. Their food, as I afterwards found, was\\ncoarse, but it was wholesome; and they procured a sufficiency of it.\\nSeveral new kinds of plants sprang up in the garden, which they\\ndressed; and these signs of comfort increased daily as the season\\nadvanced.\\n\\n“The old man, leaning on his son, walked each day at noon, when it did\\nnot rain, as I found it was called when the heavens poured forth its\\nwaters. This frequently took place, but a high wind quickly dried the\\nearth, and the season became far more pleasant than it had been.\\n\\n“My mode of life in my hovel was uniform. During the morning I\\nattended the motions of the cottagers, and when they were dispersed in\\nvarious occupations, I slept; the remainder of the day was spent in\\nobserving my friends. When they had retired to rest, if there was any\\nmoon or the night was star-light, I went into the woods and collected\\nmy own food and fuel for the cottage. When I returned, as often as it\\nwas necessary, I cleared their path from the snow and performed those\\noffices that I had seen done by Felix. I afterwards found that these\\nlabours, performed by an invisible hand, greatly astonished them; and\\nonce or twice I heard them, on these occasions, utter the words _good\\nspirit, wonderful_; but I did not then understand the signification\\nof these terms.\\n\\n“My thoughts now became more active, and I longed to discover the\\nmotives and feelings of these lovely creatures; I was inquisitive to\\nknow why Felix appeared so miserable and Agatha so sad. I thought\\n(foolish wretch!) that it might be in my power to restore happiness to\\nthese deserving people. When I slept or was absent, the forms of the\\nvenerable blind father, the gentle Agatha, and the excellent Felix\\nflitted before me. I looked upon them as superior beings who would be\\nthe arbiters of my future destiny. I formed in my imagination a\\nthousand pictures of presenting myself to them, and their reception of\\nme. I imagined that they would be disgusted, until, by my gentle\\ndemeanour and conciliating words, I should first win their favour and\\nafterwards their love.\\n\\n“These thoughts exhilarated me and led me to apply with fresh ardour to\\nthe acquiring the art of language. My organs were indeed harsh, but\\nsupple; and although my voice was very unlike the soft music of their\\ntones, yet I pronounced such words as I understood with tolerable ease.\\nIt was as the ass and the lap-dog; yet surely the gentle ass whose\\nintentions were affectionate, although his manners were rude, deserved\\nbetter treatment than blows and execration.\\n\\n“The pleasant showers and genial warmth of spring greatly altered the\\naspect of the earth. Men who before this change seemed to have been\\nhid in caves dispersed themselves and were employed in various arts of\\ncultivation. The birds sang in more cheerful notes, and the leaves\\nbegan to bud forth on the trees. Happy, happy earth! Fit habitation\\nfor gods, which, so short a time before, was bleak, damp, and\\nunwholesome. My spirits were elevated by the enchanting appearance of\\nnature; the past was blotted from my memory, the present was tranquil,\\nand the future gilded by bright rays of hope and anticipations of joy.”\\n\\n\\n\\n\\nChapter 13\\n\\n\\n“I now hasten to the more moving part of my story. I shall relate\\nevents that impressed me with feelings which, from what I had been,\\nhave made me what I am.\\n\\n“Spring advanced rapidly; the weather became fine and the skies\\ncloudless. It surprised me that what before was desert and gloomy\\nshould now bloom with the most beautiful flowers and verdure. My\\nsenses were gratified and refreshed by a thousand scents of delight and\\na thousand sights of beauty.\\n\\n“It was on one of these days, when my cottagers periodically rested\\nfrom labour—the old man played on his guitar, and the children\\nlistened to him—that I observed the countenance of Felix was\\nmelancholy beyond expression; he sighed frequently, and once his father\\npaused in his music, and I conjectured by his manner that he inquired\\nthe cause of his son’s sorrow. Felix replied in a cheerful accent, and\\nthe old man was recommencing his music when someone tapped at the door.\\n\\n“It was a lady on horseback, accompanied by a country-man as a guide.\\nThe lady was dressed in a dark suit and covered with a thick black\\nveil. Agatha asked a question, to which the stranger only replied by\\npronouncing, in a sweet accent, the name of Felix. Her voice was\\nmusical but unlike that of either of my friends. On hearing this word,\\nFelix came up hastily to the lady, who, when she saw him, threw up her\\nveil, and I beheld a countenance of angelic beauty and expression. Her\\nhair of a shining raven black, and curiously braided; her eyes were\\ndark, but gentle, although animated; her features of a regular\\nproportion, and her complexion wondrously fair, each cheek tinged with\\na lovely pink.\\n\\n“Felix seemed ravished with delight when he saw her, every trait of\\nsorrow vanished from his face, and it instantly expressed a degree of\\necstatic joy, of which I could hardly have believed it capable; his\\neyes sparkled, as his cheek flushed with pleasure; and at that moment I\\nthought him as beautiful as the stranger. She appeared affected by\\ndifferent feelings; wiping a few tears from her lovely eyes, she held\\nout her hand to Felix, who kissed it rapturously and called her, as\\nwell as I could distinguish, his sweet Arabian. She did not appear to\\nunderstand him, but smiled. He assisted her to dismount, and\\ndismissing her guide, conducted her into the cottage. Some\\nconversation took place between him and his father, and the young\\nstranger knelt at the old man’s feet and would have kissed his hand,\\nbut he raised her and embraced her affectionately.\\n\\n“I soon perceived that although the stranger uttered articulate sounds\\nand appeared to have a language of her own, she was neither understood\\nby nor herself understood the cottagers. They made many signs which I\\ndid not comprehend, but I saw that her presence diffused gladness\\nthrough the cottage, dispelling their sorrow as the sun dissipates the\\nmorning mists. Felix seemed peculiarly happy and with smiles of\\ndelight welcomed his Arabian. Agatha, the ever-gentle Agatha, kissed\\nthe hands of the lovely stranger, and pointing to her brother, made\\nsigns which appeared to me to mean that he had been sorrowful until she\\ncame. Some hours passed thus, while they, by their countenances,\\nexpressed joy, the cause of which I did not comprehend. Presently I\\nfound, by the frequent recurrence of some sound which the stranger\\nrepeated after them, that she was endeavouring to learn their language;\\nand the idea instantly occurred to me that I should make use of the\\nsame instructions to the same end. The stranger learned about twenty\\nwords at the first lesson; most of them, indeed, were those which I had\\nbefore understood, but I profited by the others.\\n\\n“As night came on, Agatha and the Arabian retired early. When they\\nseparated Felix kissed the hand of the stranger and said, ‘Good night\\nsweet Safie.’ He sat up much longer, conversing with his father, and\\nby the frequent repetition of her name I conjectured that their lovely\\nguest was the subject of their conversation. I ardently desired to\\nunderstand them, and bent every faculty towards that purpose, but found\\nit utterly impossible.\\n\\n“The next morning Felix went out to his work, and after the usual\\noccupations of Agatha were finished, the Arabian sat at the feet of the\\nold man, and taking his guitar, played some airs so entrancingly\\nbeautiful that they at once drew tears of sorrow and delight from my\\neyes. She sang, and her voice flowed in a rich cadence, swelling or\\ndying away like a nightingale of the woods.\\n\\n“When she had finished, she gave the guitar to Agatha, who at first\\ndeclined it. She played a simple air, and her voice accompanied it in\\nsweet accents, but unlike the wondrous strain of the stranger. The old\\nman appeared enraptured and said some words which Agatha endeavoured to\\nexplain to Safie, and by which he appeared to wish to express that she\\nbestowed on him the greatest delight by her music.\\n\\n“The days now passed as peaceably as before, with the sole alteration\\nthat joy had taken place of sadness in the countenances of my friends.\\nSafie was always gay and happy; she and I improved rapidly in the\\nknowledge of language, so that in two months I began to comprehend most\\nof the words uttered by my protectors.\\n\\n“In the meanwhile also the black ground was covered with herbage, and\\nthe green banks interspersed with innumerable flowers, sweet to the\\nscent and the eyes, stars of pale radiance among the moonlight woods;\\nthe sun became warmer, the nights clear and balmy; and my nocturnal\\nrambles were an extreme pleasure to me, although they were considerably\\nshortened by the late setting and early rising of the sun, for I never\\nventured abroad during daylight, fearful of meeting with the same\\ntreatment I had formerly endured in the first village which I entered.\\n\\n“My days were spent in close attention, that I might more speedily\\nmaster the language; and I may boast that I improved more rapidly than\\nthe Arabian, who understood very little and conversed in broken\\naccents, whilst I comprehended and could imitate almost every word that\\nwas spoken.\\n\\n“While I improved in speech, I also learned the science of letters as\\nit was taught to the stranger, and this opened before me a wide field\\nfor wonder and delight.\\n\\n“The book from which Felix instructed Safie was Volney’s _Ruins\\nof Empires_. I should not have understood the purport of this book had not\\nFelix, in reading it, given very minute explanations. He had chosen this\\nwork, he said, because the declamatory style was framed in imitation of the\\nEastern authors. Through this work I obtained a cursory knowledge of history\\nand a view of the several empires at present existing in the world; it gave\\nme an insight into the manners, governments, and religions of the different\\nnations of the earth. I heard of the slothful Asiatics, of the stupendous\\ngenius and mental activity of the Grecians, of the wars and wonderful virtue\\nof the early Romans—of their subsequent degenerating—of the\\ndecline of that mighty empire, of chivalry, Christianity, and kings. I heard\\nof the discovery of the American hemisphere and wept with Safie over the\\nhapless fate of its original inhabitants.\\n\\n“These wonderful narrations inspired me with strange feelings. Was\\nman, indeed, at once so powerful, so virtuous and magnificent, yet so\\nvicious and base? He appeared at one time a mere scion of the evil\\nprinciple and at another as all that can be conceived of noble and\\ngodlike. To be a great and virtuous man appeared the highest honour\\nthat can befall a sensitive being; to be base and vicious, as many on\\nrecord have been, appeared the lowest degradation, a condition more\\nabject than that of the blind mole or harmless worm. For a long time I\\ncould not conceive how one man could go forth to murder his fellow, or\\neven why there were laws and governments; but when I heard details of\\nvice and bloodshed, my wonder ceased and I turned away with disgust and\\nloathing.\\n\\n“Every conversation of the cottagers now opened new wonders to me.\\nWhile I listened to the instructions which Felix bestowed upon the\\nArabian, the strange system of human society was explained to me. I\\nheard of the division of property, of immense wealth and squalid\\npoverty, of rank, descent, and noble blood.\\n\\n“The words induced me to turn towards myself. I learned that the\\npossessions most esteemed by your fellow creatures were high and\\nunsullied descent united with riches. A man might be respected with\\nonly one of these advantages, but without either he was considered,\\nexcept in very rare instances, as a vagabond and a slave, doomed to\\nwaste his powers for the profits of the chosen few! And what was I? Of\\nmy creation and creator I was absolutely ignorant, but I knew that I\\npossessed no money, no friends, no kind of property. I was, besides,\\nendued with a figure hideously deformed and loathsome; I was not even\\nof the same nature as man. I was more agile than they and could\\nsubsist upon coarser diet; I bore the extremes of heat and cold with\\nless injury to my frame; my stature far exceeded theirs. When I looked\\naround I saw and heard of none like me. Was I, then, a monster, a blot\\nupon the earth, from which all men fled and whom all men disowned?\\n\\n“I cannot describe to you the agony that these reflections inflicted\\nupon me; I tried to dispel them, but sorrow only increased with\\nknowledge. Oh, that I had for ever remained in my native wood, nor\\nknown nor felt beyond the sensations of hunger, thirst, and heat!\\n\\n“Of what a strange nature is knowledge! It clings to the mind when it\\nhas once seized on it like a lichen on the rock. I wished sometimes to\\nshake off all thought and feeling, but I learned that there was but one\\nmeans to overcome the sensation of pain, and that was death—a state\\nwhich I feared yet did not understand. I admired virtue and good\\nfeelings and loved the gentle manners and amiable qualities of my\\ncottagers, but I was shut out from intercourse with them, except\\nthrough means which I obtained by stealth, when I was unseen and\\nunknown, and which rather increased than satisfied the desire I had of\\nbecoming one among my fellows. The gentle words of Agatha and the\\nanimated smiles of the charming Arabian were not for me. The mild\\nexhortations of the old man and the lively conversation of the loved\\nFelix were not for me. Miserable, unhappy wretch!\\n\\n“Other lessons were impressed upon me even more deeply. I heard of the\\ndifference of sexes, and the birth and growth of children, how the\\nfather doted on the smiles of the infant, and the lively sallies of the\\nolder child, how all the life and cares of the mother were wrapped up\\nin the precious charge, how the mind of youth expanded and gained\\nknowledge, of brother, sister, and all the various relationships which\\nbind one human being to another in mutual bonds.\\n\\n“But where were my friends and relations? No father had watched my\\ninfant days, no mother had blessed me with smiles and caresses; or if\\nthey had, all my past life was now a blot, a blind vacancy in which I\\ndistinguished nothing. From my earliest remembrance I had been as I\\nthen was in height and proportion. I had never yet seen a being\\nresembling me or who claimed any intercourse with me. What was I? The\\nquestion again recurred, to be answered only with groans.\\n\\n“I will soon explain to what these feelings tended, but allow me now to\\nreturn to the cottagers, whose story excited in me such various\\nfeelings of indignation, delight, and wonder, but which all terminated\\nin additional love and reverence for my protectors (for so I loved, in\\nan innocent, half-painful self-deceit, to call them).”\\n\\n\\n\\n\\nChapter 14\\n\\n\\n“Some time elapsed before I learned the history of my friends. It was\\none which could not fail to impress itself deeply on my mind, unfolding\\nas it did a number of circumstances, each interesting and wonderful to\\none so utterly inexperienced as I was.\\n\\n“The name of the old man was De Lacey. He was descended from a good\\nfamily in France, where he had lived for many years in affluence,\\nrespected by his superiors and beloved by his equals. His son was bred\\nin the service of his country, and Agatha had ranked with ladies of the\\nhighest distinction. A few months before my arrival they had lived in\\na large and luxurious city called Paris, surrounded by friends and\\npossessed of every enjoyment which virtue, refinement of intellect, or\\ntaste, accompanied by a moderate fortune, could afford.\\n\\n“The father of Safie had been the cause of their ruin. He was a\\nTurkish merchant and had inhabited Paris for many years, when, for some\\nreason which I could not learn, he became obnoxious to the government.\\nHe was seized and cast into prison the very day that Safie arrived from\\nConstantinople to join him. He was tried and condemned to death. The\\ninjustice of his sentence was very flagrant; all Paris was indignant;\\nand it was judged that his religion and wealth rather than the crime\\nalleged against him had been the cause of his condemnation.\\n\\n“Felix had accidentally been present at the trial; his horror and\\nindignation were uncontrollable when he heard the decision of the\\ncourt. He made, at that moment, a solemn vow to deliver him and then\\nlooked around for the means. After many fruitless attempts to gain\\nadmittance to the prison, he found a strongly grated window in an\\nunguarded part of the building, which lighted the dungeon of the\\nunfortunate Muhammadan, who, loaded with chains, waited in despair the\\nexecution of the barbarous sentence. Felix visited the grate at night\\nand made known to the prisoner his intentions in his favour. The Turk,\\namazed and delighted, endeavoured to kindle the zeal of his deliverer\\nby promises of reward and wealth. Felix rejected his offers with\\ncontempt, yet when he saw the lovely Safie, who was allowed to visit\\nher father and who by her gestures expressed her lively gratitude, the\\nyouth could not help owning to his own mind that the captive possessed\\na treasure which would fully reward his toil and hazard.\\n\\n“The Turk quickly perceived the impression that his daughter had made\\non the heart of Felix and endeavoured to secure him more entirely in\\nhis interests by the promise of her hand in marriage so soon as he\\nshould be conveyed to a place of safety. Felix was too delicate to\\naccept this offer, yet he looked forward to the probability of the\\nevent as to the consummation of his happiness.\\n\\n“During the ensuing days, while the preparations were going forward for\\nthe escape of the merchant, the zeal of Felix was warmed by several\\nletters that he received from this lovely girl, who found means to\\nexpress her thoughts in the language of her lover by the aid of an old\\nman, a servant of her father who understood French. She thanked him in\\nthe most ardent terms for his intended services towards her parent, and\\nat the same time she gently deplored her own fate.\\n\\n“I have copies of these letters, for I found means, during my residence\\nin the hovel, to procure the implements of writing; and the letters\\nwere often in the hands of Felix or Agatha. Before I depart I will\\ngive them to you; they will prove the truth of my tale; but at present,\\nas the sun is already far declined, I shall only have time to repeat\\nthe substance of them to you.\\n\\n“Safie related that her mother was a Christian Arab, seized and made a\\nslave by the Turks; recommended by her beauty, she had won the heart of\\nthe father of Safie, who married her. The young girl spoke in high and\\nenthusiastic terms of her mother, who, born in freedom, spurned the\\nbondage to which she was now reduced. She instructed her daughter in\\nthe tenets of her religion and taught her to aspire to higher powers of\\nintellect and an independence of spirit forbidden to the female\\nfollowers of Muhammad. This lady died, but her lessons were indelibly\\nimpressed on the mind of Safie, who sickened at the prospect of again\\nreturning to Asia and being immured within the walls of a harem,\\nallowed only to occupy herself with infantile amusements, ill-suited to\\nthe temper of her soul, now accustomed to grand ideas and a noble\\nemulation for virtue. The prospect of marrying a Christian and\\nremaining in a country where women were allowed to take a rank in\\nsociety was enchanting to her.\\n\\n“The day for the execution of the Turk was fixed, but on the night\\nprevious to it he quitted his prison and before morning was distant\\nmany leagues from Paris. Felix had procured passports in the name of\\nhis father, sister, and himself. He had previously communicated his\\nplan to the former, who aided the deceit by quitting his house, under\\nthe pretence of a journey and concealed himself, with his daughter, in\\nan obscure part of Paris.\\n\\n“Felix conducted the fugitives through France to Lyons and across Mont\\nCenis to Leghorn, where the merchant had decided to wait a favourable\\nopportunity of passing into some part of the Turkish dominions.\\n\\n“Safie resolved to remain with her father until the moment of his\\ndeparture, before which time the Turk renewed his promise that she\\nshould be united to his deliverer; and Felix remained with them in\\nexpectation of that event; and in the meantime he enjoyed the society\\nof the Arabian, who exhibited towards him the simplest and tenderest\\naffection. They conversed with one another through the means of an\\ninterpreter, and sometimes with the interpretation of looks; and Safie\\nsang to him the divine airs of her native country.\\n\\n“The Turk allowed this intimacy to take place and encouraged the hopes\\nof the youthful lovers, while in his heart he had formed far other\\nplans. He loathed the idea that his daughter should be united to a\\nChristian, but he feared the resentment of Felix if he should appear\\nlukewarm, for he knew that he was still in the power of his deliverer\\nif he should choose to betray him to the Italian state which they\\ninhabited. He revolved a thousand plans by which he should be enabled\\nto prolong the deceit until it might be no longer necessary, and\\nsecretly to take his daughter with him when he departed. His plans\\nwere facilitated by the news which arrived from Paris.\\n\\n“The government of France were greatly enraged at the escape of their\\nvictim and spared no pains to detect and punish his deliverer. The\\nplot of Felix was quickly discovered, and De Lacey and Agatha were\\nthrown into prison. The news reached Felix and roused him from his\\ndream of pleasure. His blind and aged father and his gentle sister lay\\nin a noisome dungeon while he enjoyed the free air and the society of\\nher whom he loved. This idea was torture to him. He quickly arranged\\nwith the Turk that if the latter should find a favourable opportunity\\nfor escape before Felix could return to Italy, Safie should remain as a\\nboarder at a convent at Leghorn; and then, quitting the lovely Arabian,\\nhe hastened to Paris and delivered himself up to the vengeance of the\\nlaw, hoping to free De Lacey and Agatha by this proceeding.\\n\\n“He did not succeed. They remained confined for five months before the\\ntrial took place, the result of which deprived them of their fortune\\nand condemned them to a perpetual exile from their native country.\\n\\n“They found a miserable asylum in the cottage in Germany, where I\\ndiscovered them. Felix soon learned that the treacherous Turk, for\\nwhom he and his family endured such unheard-of oppression, on\\ndiscovering that his deliverer was thus reduced to poverty and ruin,\\nbecame a traitor to good feeling and honour and had quitted Italy with\\nhis daughter, insultingly sending Felix a pittance of money to aid him,\\nas he said, in some plan of future maintenance.\\n\\n“Such were the events that preyed on the heart of Felix and rendered\\nhim, when I first saw him, the most miserable of his family. He could\\nhave endured poverty, and while this distress had been the meed of his\\nvirtue, he gloried in it; but the ingratitude of the Turk and the loss\\nof his beloved Safie were misfortunes more bitter and irreparable. The\\narrival of the Arabian now infused new life into his soul.\\n\\n“When the news reached Leghorn that Felix was deprived of his wealth\\nand rank, the merchant commanded his daughter to think no more of her\\nlover, but to prepare to return to her native country. The generous\\nnature of Safie was outraged by this command; she attempted to\\nexpostulate with her father, but he left her angrily, reiterating his\\ntyrannical mandate.\\n\\n“A few days after, the Turk entered his daughter’s apartment and told\\nher hastily that he had reason to believe that his residence at Leghorn\\nhad been divulged and that he should speedily be delivered up to the\\nFrench government; he had consequently hired a vessel to convey him to\\nConstantinople, for which city he should sail in a few hours. He\\nintended to leave his daughter under the care of a confidential\\nservant, to follow at her leisure with the greater part of his\\nproperty, which had not yet arrived at Leghorn.\\n\\n“When alone, Safie resolved in her own mind the plan of conduct that it\\nwould become her to pursue in this emergency. A residence in Turkey\\nwas abhorrent to her; her religion and her feelings were alike averse\\nto it. By some papers of her father which fell into her hands she\\nheard of the exile of her lover and learnt the name of the spot where\\nhe then resided. She hesitated some time, but at length she formed her\\ndetermination. Taking with her some jewels that belonged to her and a\\nsum of money, she quitted Italy with an attendant, a native of Leghorn,\\nbut who understood the common language of Turkey, and departed for\\nGermany.\\n\\n“She arrived in safety at a town about twenty leagues from the cottage\\nof De Lacey, when her attendant fell dangerously ill. Safie nursed her\\nwith the most devoted affection, but the poor girl died, and the\\nArabian was left alone, unacquainted with the language of the country\\nand utterly ignorant of the customs of the world. She fell, however,\\ninto good hands. The Italian had mentioned the name of the spot for\\nwhich they were bound, and after her death the woman of the house in\\nwhich they had lived took care that Safie should arrive in safety at\\nthe cottage of her lover.”\\n\\n\\n\\n\\nChapter 15\\n\\n\\n“Such was the history of my beloved cottagers. It impressed me deeply.\\nI learned, from the views of social life which it developed, to admire\\ntheir virtues and to deprecate the vices of mankind.\\n\\n“As yet I looked upon crime as a distant evil, benevolence and\\ngenerosity were ever present before me, inciting within me a desire to\\nbecome an actor in the busy scene where so many admirable qualities\\nwere called forth and displayed. But in giving an account of the\\nprogress of my intellect, I must not omit a circumstance which occurred\\nin the beginning of the month of August of the same year.\\n\\n“One night during my accustomed visit to the neighbouring wood where I\\ncollected my own food and brought home firing for my protectors, I found on\\nthe ground a leathern portmanteau containing several articles of dress and\\nsome books. I eagerly seized the prize and returned with it to my hovel. \\nFortunately the books were written in the language, the elements of which I\\nhad acquired at the cottage; they consisted of _Paradise Lost_, a volume\\nof _Plutarch’s Lives_, and the _Sorrows of Werter_. The\\npossession of these treasures gave me extreme delight; I now continually\\nstudied and exercised my mind upon these histories, whilst my friends were\\nemployed in their ordinary occupations.\\n\\n“I can hardly describe to you the effect of these books. They produced\\nin me an infinity of new images and feelings, that sometimes raised me\\nto ecstasy, but more frequently sunk me into the lowest dejection. In\\nthe _Sorrows of Werter_, besides the interest of its simple and affecting\\nstory, so many opinions are canvassed and so many lights thrown upon\\nwhat had hitherto been to me obscure subjects that I found in it a\\nnever-ending source of speculation and astonishment. The gentle and\\ndomestic manners it described, combined with lofty sentiments and\\nfeelings, which had for their object something out of self, accorded\\nwell with my experience among my protectors and with the wants which\\nwere for ever alive in my own bosom. But I thought Werter himself a\\nmore divine being than I had ever beheld or imagined; his character\\ncontained no pretension, but it sank deep. The disquisitions upon\\ndeath and suicide were calculated to fill me with wonder. I did not\\npretend to enter into the merits of the case, yet I inclined towards\\nthe opinions of the hero, whose extinction I wept, without precisely\\nunderstanding it.\\n\\n“As I read, however, I applied much personally to my own feelings and\\ncondition. I found myself similar yet at the same time strangely\\nunlike to the beings concerning whom I read and to whose conversation I\\nwas a listener. I sympathised with and partly understood them, but I\\nwas unformed in mind; I was dependent on none and related to none.\\n‘The path of my departure was free,’ and there was none to lament my\\nannihilation. My person was hideous and my stature gigantic. What did\\nthis mean? Who was I? What was I? Whence did I come? What was my\\ndestination? These questions continually recurred, but I was unable to\\nsolve them.\\n\\n“The volume of _Plutarch’s Lives_ which I possessed contained the\\nhistories of the first founders of the ancient republics. This book\\nhad a far different effect upon me from the _Sorrows of Werter_. I\\nlearned from Werter’s imaginations despondency and gloom, but Plutarch\\ntaught me high thoughts; he elevated me above the wretched sphere of my\\nown reflections, to admire and love the heroes of past ages. Many\\nthings I read surpassed my understanding and experience. I had a very\\nconfused knowledge of kingdoms, wide extents of country, mighty rivers,\\nand boundless seas. But I was perfectly unacquainted with towns and\\nlarge assemblages of men. The cottage of my protectors had been the\\nonly school in which I had studied human nature, but this book\\ndeveloped new and mightier scenes of action. I read of men concerned\\nin public affairs, governing or massacring their species. I felt the\\ngreatest ardour for virtue rise within me, and abhorrence for vice, as\\nfar as I understood the signification of those terms, relative as they\\nwere, as I applied them, to pleasure and pain alone. Induced by these\\nfeelings, I was of course led to admire peaceable lawgivers, Numa,\\nSolon, and Lycurgus, in preference to Romulus and Theseus. The\\npatriarchal lives of my protectors caused these impressions to take a\\nfirm hold on my mind; perhaps, if my first introduction to humanity had\\nbeen made by a young soldier, burning for glory and slaughter, I should\\nhave been imbued with different sensations.\\n\\n“But _Paradise Lost_ excited different and far deeper emotions. I read\\nit, as I had read the other volumes which had fallen into my hands, as\\na true history. It moved every feeling of wonder and awe that the\\npicture of an omnipotent God warring with his creatures was capable of\\nexciting. I often referred the several situations, as their similarity\\nstruck me, to my own. Like Adam, I was apparently united by no link to\\nany other being in existence; but his state was far different from mine\\nin every other respect. He had come forth from the hands of God a\\nperfect creature, happy and prosperous, guarded by the especial care of\\nhis Creator; he was allowed to converse with and acquire knowledge from\\nbeings of a superior nature, but I was wretched, helpless, and alone.\\nMany times I considered Satan as the fitter emblem of my condition, for\\noften, like him, when I viewed the bliss of my protectors, the bitter\\ngall of envy rose within me.\\n\\n“Another circumstance strengthened and confirmed these feelings. Soon\\nafter my arrival in the hovel I discovered some papers in the pocket of\\nthe dress which I had taken from your laboratory. At first I had\\nneglected them, but now that I was able to decipher the characters in\\nwhich they were written, I began to study them with diligence. It was\\nyour journal of the four months that preceded my creation. You\\nminutely described in these papers every step you took in the progress\\nof your work; this history was mingled with accounts of domestic\\noccurrences. You doubtless recollect these papers. Here they are.\\nEverything is related in them which bears reference to my accursed\\norigin; the whole detail of that series of disgusting circumstances\\nwhich produced it is set in view; the minutest description of my odious\\nand loathsome person is given, in language which painted your own\\nhorrors and rendered mine indelible. I sickened as I read. ‘Hateful\\nday when I received life!’ I exclaimed in agony. ‘Accursed creator!\\nWhy did you form a monster so hideous that even _you_ turned from me in\\ndisgust? God, in pity, made man beautiful and alluring, after his own\\nimage; but my form is a filthy type of yours, more horrid even from the\\nvery resemblance. Satan had his companions, fellow devils, to admire\\nand encourage him, but I am solitary and abhorred.’\\n\\n“These were the reflections of my hours of despondency and solitude;\\nbut when I contemplated the virtues of the cottagers, their amiable and\\nbenevolent dispositions, I persuaded myself that when they should\\nbecome acquainted with my admiration of their virtues they would\\ncompassionate me and overlook my personal deformity. Could they turn\\nfrom their door one, however monstrous, who solicited their compassion\\nand friendship? I resolved, at least, not to despair, but in every way\\nto fit myself for an interview with them which would decide my fate. I\\npostponed this attempt for some months longer, for the importance\\nattached to its success inspired me with a dread lest I should fail.\\nBesides, I found that my understanding improved so much with every\\nday’s experience that I was unwilling to commence this undertaking\\nuntil a few more months should have added to my sagacity.\\n\\n“Several changes, in the meantime, took place in the cottage. The\\npresence of Safie diffused happiness among its inhabitants, and I also\\nfound that a greater degree of plenty reigned there. Felix and Agatha\\nspent more time in amusement and conversation, and were assisted in\\ntheir labours by servants. They did not appear rich, but they were\\ncontented and happy; their feelings were serene and peaceful, while\\nmine became every day more tumultuous. Increase of knowledge only\\ndiscovered to me more clearly what a wretched outcast I was. I\\ncherished hope, it is true, but it vanished when I beheld my person\\nreflected in water or my shadow in the moonshine, even as that frail\\nimage and that inconstant shade.\\n\\n“I endeavoured to crush these fears and to fortify myself for the trial\\nwhich in a few months I resolved to undergo; and sometimes I allowed my\\nthoughts, unchecked by reason, to ramble in the fields of Paradise, and\\ndared to fancy amiable and lovely creatures sympathising with my\\nfeelings and cheering my gloom; their angelic countenances breathed\\nsmiles of consolation. But it was all a dream; no Eve soothed my\\nsorrows nor shared my thoughts; I was alone. I remembered Adam’s\\nsupplication to his Creator. But where was mine? He had abandoned me,\\nand in the bitterness of my heart I cursed him.\\n\\n“Autumn passed thus. I saw, with surprise and grief, the leaves decay\\nand fall, and nature again assume the barren and bleak appearance it\\nhad worn when I first beheld the woods and the lovely moon. Yet I did\\nnot heed the bleakness of the weather; I was better fitted by my\\nconformation for the endurance of cold than heat. But my chief\\ndelights were the sight of the flowers, the birds, and all the gay\\napparel of summer; when those deserted me, I turned with more attention\\ntowards the cottagers. Their happiness was not decreased by the\\nabsence of summer. They loved and sympathised with one another; and\\ntheir joys, depending on each other, were not interrupted by the\\ncasualties that took place around them. The more I saw of them, the\\ngreater became my desire to claim their protection and kindness; my\\nheart yearned to be known and loved by these amiable creatures; to see\\ntheir sweet looks directed towards me with affection was the utmost\\nlimit of my ambition. I dared not think that they would turn them from\\nme with disdain and horror. The poor that stopped at their door were\\nnever driven away. I asked, it is true, for greater treasures than a\\nlittle food or rest: I required kindness and sympathy; but I did not\\nbelieve myself utterly unworthy of it.\\n\\n“The winter advanced, and an entire revolution of the seasons had taken\\nplace since I awoke into life. My attention at this time was solely\\ndirected towards my plan of introducing myself into the cottage of my\\nprotectors. I revolved many projects, but that on which I finally\\nfixed was to enter the dwelling when the blind old man should be alone.\\nI had sagacity enough to discover that the unnatural hideousness of my\\nperson was the chief object of horror with those who had formerly\\nbeheld me. My voice, although harsh, had nothing terrible in it; I\\nthought, therefore, that if in the absence of his children I could gain\\nthe good will and mediation of the old De Lacey, I might by his means\\nbe tolerated by my younger protectors.\\n\\n“One day, when the sun shone on the red leaves that strewed the ground\\nand diffused cheerfulness, although it denied warmth, Safie, Agatha,\\nand Felix departed on a long country walk, and the old man, at his own\\ndesire, was left alone in the cottage. When his children had departed,\\nhe took up his guitar and played several mournful but sweet airs, more\\nsweet and mournful than I had ever heard him play before. At first his\\ncountenance was illuminated with pleasure, but as he continued,\\nthoughtfulness and sadness succeeded; at length, laying aside the\\ninstrument, he sat absorbed in reflection.\\n\\n“My heart beat quick; this was the hour and moment of trial, which\\nwould decide my hopes or realise my fears. The servants were gone to a\\nneighbouring fair. All was silent in and around the cottage; it was an\\nexcellent opportunity; yet, when I proceeded to execute my plan, my\\nlimbs failed me and I sank to the ground. Again I rose, and exerting\\nall the firmness of which I was master, removed the planks which I had\\nplaced before my hovel to conceal my retreat. The fresh air revived\\nme, and with renewed determination I approached the door of their\\ncottage.\\n\\n“I knocked. ‘Who is there?’ said the old man. ‘Come in.’\\n\\n“I entered. ‘Pardon this intrusion,’ said I; ‘I am\\na traveller in want of a little rest; you would greatly oblige me if you\\nwould allow me to remain a few minutes before the fire.’\\n\\n“‘Enter,’ said De Lacey, ‘and I will try in what\\nmanner I can to relieve your wants; but, unfortunately, my children are\\nfrom home, and as I am blind, I am afraid I shall find it difficult to\\nprocure food for you.’\\n\\n“‘Do not trouble yourself, my kind host; I have food; it is\\nwarmth and rest only that I need.’\\n\\n“I sat down, and a silence ensued. I knew that every minute was\\nprecious to me, yet I remained irresolute in what manner to commence\\nthe interview, when the old man addressed me.\\n\\n‘By your language, stranger, I suppose you are my countryman; are you\\nFrench?’\\n\\n“‘No; but I was educated by a French family and understand that\\nlanguage only. I am now going to claim the protection of some friends,\\nwhom I sincerely love, and of whose favour I have some hopes.’\\n\\n“‘Are they Germans?’\\n\\n“‘No, they are French. But let us change the subject. I am an\\nunfortunate and deserted creature, I look around and I have no relation\\nor friend upon earth. These amiable people to whom I go have never\\nseen me and know little of me. I am full of fears, for if I fail\\nthere, I am an outcast in the world for ever.’\\n\\n“‘Do not despair. To be friendless is indeed to be unfortunate, but\\nthe hearts of men, when unprejudiced by any obvious self-interest, are\\nfull of brotherly love and charity. Rely, therefore, on your hopes;\\nand if these friends are good and amiable, do not despair.’\\n\\n“‘They are kind—they are the most excellent creatures in the world;\\nbut, unfortunately, they are prejudiced against me. I have good\\ndispositions; my life has been hitherto harmless and in some degree\\nbeneficial; but a fatal prejudice clouds their eyes, and where they\\nought to see a feeling and kind friend, they behold only a detestable\\nmonster.’\\n\\n“‘That is indeed unfortunate; but if you are really blameless, cannot\\nyou undeceive them?’\\n\\n“‘I am about to undertake that task; and it is on that account that I\\nfeel so many overwhelming terrors. I tenderly love these friends; I\\nhave, unknown to them, been for many months in the habits of daily\\nkindness towards them; but they believe that I wish to injure them, and\\nit is that prejudice which I wish to overcome.’\\n\\n“‘Where do these friends reside?’\\n\\n“‘Near this spot.’\\n\\n“The old man paused and then continued, ‘If you will unreservedly\\nconfide to me the particulars of your tale, I perhaps may be of use in\\nundeceiving them. I am blind and cannot judge of your countenance, but\\nthere is something in your words which persuades me that you are\\nsincere. I am poor and an exile, but it will afford me true pleasure\\nto be in any way serviceable to a human creature.’\\n\\n“‘Excellent man! I thank you and accept your generous offer. You\\nraise me from the dust by this kindness; and I trust that, by your aid,\\nI shall not be driven from the society and sympathy of your fellow\\ncreatures.’\\n\\n“‘Heaven forbid! Even if you were really criminal, for that can only\\ndrive you to desperation, and not instigate you to virtue. I also am\\nunfortunate; I and my family have been condemned, although innocent;\\njudge, therefore, if I do not feel for your misfortunes.’\\n\\n“‘How can I thank you, my best and only benefactor? From your lips\\nfirst have I heard the voice of kindness directed towards me; I shall\\nbe for ever grateful; and your present humanity assures me of success\\nwith those friends whom I am on the point of meeting.’\\n\\n“‘May I know the names and residence of those friends?’\\n\\n“I paused. This, I thought, was the moment of decision, which was to\\nrob me of or bestow happiness on me for ever. I struggled vainly for\\nfirmness sufficient to answer him, but the effort destroyed all my\\nremaining strength; I sank on the chair and sobbed aloud. At that\\nmoment I heard the steps of my younger protectors. I had not a moment\\nto lose, but seizing the hand of the old man, I cried, ‘Now is the\\ntime! Save and protect me! You and your family are the friends whom I\\nseek. Do not you desert me in the hour of trial!’\\n\\n“‘Great God!’ exclaimed the old man. ‘Who are you?’\\n\\n“At that instant the cottage door was opened, and Felix, Safie, and\\nAgatha entered. Who can describe their horror and consternation on\\nbeholding me? Agatha fainted, and Safie, unable to attend to her\\nfriend, rushed out of the cottage. Felix darted forward, and with\\nsupernatural force tore me from his father, to whose knees I clung, in\\na transport of fury, he dashed me to the ground and struck me violently\\nwith a stick. I could have torn him limb from limb, as the lion rends\\nthe antelope. But my heart sank within me as with bitter sickness, and\\nI refrained. I saw him on the point of repeating his blow, when,\\novercome by pain and anguish, I quitted the cottage, and in the general\\ntumult escaped unperceived to my hovel.”\\n\\n\\n\\n\\nChapter 16\\n\\n\\n“Cursed, cursed creator! Why did I live? Why, in that instant, did I\\nnot extinguish the spark of existence which you had so wantonly\\nbestowed? I know not; despair had not yet taken possession of me; my\\nfeelings were those of rage and revenge. I could with pleasure have\\ndestroyed the cottage and its inhabitants and have glutted myself with\\ntheir shrieks and misery.\\n\\n“When night came I quitted my retreat and wandered in the wood; and\\nnow, no longer restrained by the fear of discovery, I gave vent to my\\nanguish in fearful howlings. I was like a wild beast that had broken\\nthe toils, destroying the objects that obstructed me and ranging\\nthrough the wood with a stag-like swiftness. Oh! What a miserable\\nnight I passed! The cold stars shone in mockery, and the bare trees\\nwaved their branches above me; now and then the sweet voice of a bird\\nburst forth amidst the universal stillness. All, save I, were at rest\\nor in enjoyment; I, like the arch-fiend, bore a hell within me, and\\nfinding myself unsympathised with, wished to tear up the trees, spread\\nhavoc and destruction around me, and then to have sat down and enjoyed\\nthe ruin.\\n\\n“But this was a luxury of sensation that could not endure; I became\\nfatigued with excess of bodily exertion and sank on the damp grass in\\nthe sick impotence of despair. There was none among the myriads of men\\nthat existed who would pity or assist me; and should I feel kindness\\ntowards my enemies? No; from that moment I declared everlasting war\\nagainst the species, and more than all, against him who had formed me\\nand sent me forth to this insupportable misery.\\n\\n“The sun rose; I heard the voices of men and knew that it was\\nimpossible to return to my retreat during that day. Accordingly I hid\\nmyself in some thick underwood, determining to devote the ensuing hours\\nto reflection on my situation.\\n\\n“The pleasant sunshine and the pure air of day restored me to some\\ndegree of tranquillity; and when I considered what had passed at the\\ncottage, I could not help believing that I had been too hasty in my\\nconclusions. I had certainly acted imprudently. It was apparent that\\nmy conversation had interested the father in my behalf, and I was a\\nfool in having exposed my person to the horror of his children. I\\nought to have familiarised the old De Lacey to me, and by degrees to\\nhave discovered myself to the rest of his family, when they should have\\nbeen prepared for my approach. But I did not believe my errors to be\\nirretrievable, and after much consideration I resolved to return to the\\ncottage, seek the old man, and by my representations win him to my\\nparty.\\n\\n“These thoughts calmed me, and in the afternoon I sank into a profound\\nsleep; but the fever of my blood did not allow me to be visited by\\npeaceful dreams. The horrible scene of the preceding day was for ever\\nacting before my eyes; the females were flying and the enraged Felix\\ntearing me from his father’s feet. I awoke exhausted, and finding that\\nit was already night, I crept forth from my hiding-place, and went in\\nsearch of food.\\n\\n“When my hunger was appeased, I directed my steps towards the\\nwell-known path that conducted to the cottage. All there was at peace.\\nI crept into my hovel and remained in silent expectation of the\\naccustomed hour when the family arose. That hour passed, the sun\\nmounted high in the heavens, but the cottagers did not appear. I\\ntrembled violently, apprehending some dreadful misfortune. The inside\\nof the cottage was dark, and I heard no motion; I cannot describe the\\nagony of this suspense.\\n\\n“Presently two countrymen passed by, but pausing near the cottage, they\\nentered into conversation, using violent gesticulations; but I did not\\nunderstand what they said, as they spoke the language of the country,\\nwhich differed from that of my protectors. Soon after, however, Felix\\napproached with another man; I was surprised, as I knew that he had not\\nquitted the cottage that morning, and waited anxiously to discover from\\nhis discourse the meaning of these unusual appearances.\\n\\n“‘Do you consider,’ said his companion to him,\\n‘that you will be obliged to pay three months’ rent and to lose\\nthe produce of your garden? I do not wish to take any unfair advantage, and\\nI beg therefore that you will take some days to consider of your\\ndetermination.’\\n\\n“‘It is utterly useless,’ replied Felix; ‘we can\\nnever again inhabit your cottage. The life of my father is in the greatest\\ndanger, owing to the dreadful circumstance that I have related. My wife and\\nmy sister will never recover from their horror. I entreat you not to reason\\nwith me any more. Take possession of your tenement and let me fly from this\\nplace.’\\n\\n“Felix trembled violently as he said this. He and his companion\\nentered the cottage, in which they remained for a few minutes, and then\\ndeparted. I never saw any of the family of De Lacey more.\\n\\n“I continued for the remainder of the day in my hovel in a state of\\nutter and stupid despair. My protectors had departed and had broken\\nthe only link that held me to the world. For the first time the\\nfeelings of revenge and hatred filled my bosom, and I did not strive to\\ncontrol them, but allowing myself to be borne away by the stream, I\\nbent my mind towards injury and death. When I thought of my friends,\\nof the mild voice of De Lacey, the gentle eyes of Agatha, and the\\nexquisite beauty of the Arabian, these thoughts vanished and a gush of\\ntears somewhat soothed me. But again when I reflected that they had\\nspurned and deserted me, anger returned, a rage of anger, and unable to\\ninjure anything human, I turned my fury towards inanimate objects. As\\nnight advanced, I placed a variety of combustibles around the cottage,\\nand after having destroyed every vestige of cultivation in the garden,\\nI waited with forced impatience until the moon had sunk to commence my\\noperations.\\n\\n“As the night advanced, a fierce wind arose from the woods and quickly\\ndispersed the clouds that had loitered in the heavens; the blast tore\\nalong like a mighty avalanche and produced a kind of insanity in my\\nspirits that burst all bounds of reason and reflection. I lighted the\\ndry branch of a tree and danced with fury around the devoted cottage,\\nmy eyes still fixed on the western horizon, the edge of which the moon\\nnearly touched. A part of its orb was at length hid, and I waved my\\nbrand; it sank, and with a loud scream I fired the straw, and heath,\\nand bushes, which I had collected. The wind fanned the fire, and the\\ncottage was quickly enveloped by the flames, which clung to it and\\nlicked it with their forked and destroying tongues.\\n\\n“As soon as I was convinced that no assistance could save any part of\\nthe habitation, I quitted the scene and sought for refuge in the woods.\\n\\n“And now, with the world before me, whither should I bend my steps? I\\nresolved to fly far from the scene of my misfortunes; but to me, hated\\nand despised, every country must be equally horrible. At length the\\nthought of you crossed my mind. I learned from your papers that you\\nwere my father, my creator; and to whom could I apply with more fitness\\nthan to him who had given me life? Among the lessons that Felix had\\nbestowed upon Safie, geography had not been omitted; I had learned from\\nthese the relative situations of the different countries of the earth.\\nYou had mentioned Geneva as the name of your native town, and towards\\nthis place I resolved to proceed.\\n\\n“But how was I to direct myself? I knew that I must travel in a\\nsouthwesterly direction to reach my destination, but the sun was my\\nonly guide. I did not know the names of the towns that I was to pass\\nthrough, nor could I ask information from a single human being; but I\\ndid not despair. From you only could I hope for succour, although\\ntowards you I felt no sentiment but that of hatred. Unfeeling,\\nheartless creator! You had endowed me with perceptions and passions\\nand then cast me abroad an object for the scorn and horror of mankind.\\nBut on you only had I any claim for pity and redress, and from you I\\ndetermined to seek that justice which I vainly attempted to gain from\\nany other being that wore the human form.\\n\\n“My travels were long and the sufferings I endured intense. It was\\nlate in autumn when I quitted the district where I had so long resided.\\nI travelled only at night, fearful of encountering the visage of a\\nhuman being. Nature decayed around me, and the sun became heatless;\\nrain and snow poured around me; mighty rivers were frozen; the surface\\nof the earth was hard and chill, and bare, and I found no shelter. Oh,\\nearth! How often did I imprecate curses on the cause of my being! The\\nmildness of my nature had fled, and all within me was turned to gall\\nand bitterness. The nearer I approached to your habitation, the more\\ndeeply did I feel the spirit of revenge enkindled in my heart. Snow\\nfell, and the waters were hardened, but I rested not. A few incidents\\nnow and then directed me, and I possessed a map of the country; but I\\noften wandered wide from my path. The agony of my feelings allowed me\\nno respite; no incident occurred from which my rage and misery could\\nnot extract its food; but a circumstance that happened when I arrived\\non the confines of Switzerland, when the sun had recovered its warmth\\nand the earth again began to look green, confirmed in an especial\\nmanner the bitterness and horror of my feelings.\\n\\n“I generally rested during the day and travelled only when I was\\nsecured by night from the view of man. One morning, however, finding\\nthat my path lay through a deep wood, I ventured to continue my journey\\nafter the sun had risen; the day, which was one of the first of spring,\\ncheered even me by the loveliness of its sunshine and the balminess of\\nthe air. I felt emotions of gentleness and pleasure, that had long\\nappeared dead, revive within me. Half surprised by the novelty of\\nthese sensations, I allowed myself to be borne away by them, and\\nforgetting my solitude and deformity, dared to be happy. Soft tears\\nagain bedewed my cheeks, and I even raised my humid eyes with\\nthankfulness towards the blessed sun, which bestowed such joy upon me.\\n\\n“I continued to wind among the paths of the wood, until I came to its\\nboundary, which was skirted by a deep and rapid river, into which many\\nof the trees bent their branches, now budding with the fresh spring.\\nHere I paused, not exactly knowing what path to pursue, when I heard\\nthe sound of voices, that induced me to conceal myself under the shade\\nof a cypress. I was scarcely hid when a young girl came running\\ntowards the spot where I was concealed, laughing, as if she ran from\\nsomeone in sport. She continued her course along the precipitous sides\\nof the river, when suddenly her foot slipped, and she fell into the\\nrapid stream. I rushed from my hiding-place and with extreme labour,\\nfrom the force of the current, saved her and dragged her to shore. She\\nwas senseless, and I endeavoured by every means in my power to restore\\nanimation, when I was suddenly interrupted by the approach of a rustic,\\nwho was probably the person from whom she had playfully fled. On\\nseeing me, he darted towards me, and tearing the girl from my arms,\\nhastened towards the deeper parts of the wood. I followed speedily, I\\nhardly knew why; but when the man saw me draw near, he aimed a gun,\\nwhich he carried, at my body and fired. I sank to the ground, and my\\ninjurer, with increased swiftness, escaped into the wood.\\n\\n“This was then the reward of my benevolence! I had saved a human being\\nfrom destruction, and as a recompense I now writhed under the miserable\\npain of a wound which shattered the flesh and bone. The feelings of\\nkindness and gentleness which I had entertained but a few moments\\nbefore gave place to hellish rage and gnashing of teeth. Inflamed by\\npain, I vowed eternal hatred and vengeance to all mankind. But the\\nagony of my wound overcame me; my pulses paused, and I fainted.\\n\\n“For some weeks I led a miserable life in the woods, endeavouring to\\ncure the wound which I had received. The ball had entered my shoulder,\\nand I knew not whether it had remained there or passed through; at any\\nrate I had no means of extracting it. My sufferings were augmented\\nalso by the oppressive sense of the injustice and ingratitude of their\\ninfliction. My daily vows rose for revenge—a deep and deadly revenge,\\nsuch as would alone compensate for the outrages and anguish I had\\nendured.\\n\\n“After some weeks my wound healed, and I continued my journey. The\\nlabours I endured were no longer to be alleviated by the bright sun or\\ngentle breezes of spring; all joy was but a mockery which insulted my\\ndesolate state and made me feel more painfully that I was not made for\\nthe enjoyment of pleasure.\\n\\n“But my toils now drew near a close, and in two months from this time I\\nreached the environs of Geneva.\\n\\n“It was evening when I arrived, and I retired to a hiding-place among\\nthe fields that surround it to meditate in what manner I should apply\\nto you. I was oppressed by fatigue and hunger and far too unhappy to\\nenjoy the gentle breezes of evening or the prospect of the sun setting\\nbehind the stupendous mountains of Jura.\\n\\n“At this time a slight sleep relieved me from the pain of reflection,\\nwhich was disturbed by the approach of a beautiful child, who came\\nrunning into the recess I had chosen, with all the sportiveness of\\ninfancy. Suddenly, as I gazed on him, an idea seized me that this\\nlittle creature was unprejudiced and had lived too short a time to have\\nimbibed a horror of deformity. If, therefore, I could seize him and\\neducate him as my companion and friend, I should not be so desolate in\\nthis peopled earth.\\n\\n“Urged by this impulse, I seized on the boy as he passed and drew him\\ntowards me. As soon as he beheld my form, he placed his hands before\\nhis eyes and uttered a shrill scream; I drew his hand forcibly from his\\nface and said, ‘Child, what is the meaning of this? I do not intend to\\nhurt you; listen to me.’\\n\\n“He struggled violently. ‘Let me go,’ he cried;\\n‘monster! Ugly wretch! You wish to eat me and tear me to pieces. You\\nare an ogre. Let me go, or I will tell my papa.’\\n\\n“‘Boy, you will never see your father again; you must come with me.’\\n\\n“‘Hideous monster! Let me go. My papa is a syndic—he is M.\\nFrankenstein—he will punish you. You dare not keep me.’\\n\\n“‘Frankenstein! you belong then to my enemy—to him towards whom I have\\nsworn eternal revenge; you shall be my first victim.’\\n\\n“The child still struggled and loaded me with epithets which carried\\ndespair to my heart; I grasped his throat to silence him, and in a\\nmoment he lay dead at my feet.\\n\\n“I gazed on my victim, and my heart swelled with exultation and hellish\\ntriumph; clapping my hands, I exclaimed, ‘I too can create desolation;\\nmy enemy is not invulnerable; this death will carry despair to him, and\\na thousand other miseries shall torment and destroy him.’\\n\\n“As I fixed my eyes on the child, I saw something glittering on his\\nbreast. I took it; it was a portrait of a most lovely woman. In spite\\nof my malignity, it softened and attracted me. For a few moments I\\ngazed with delight on her dark eyes, fringed by deep lashes, and her\\nlovely lips; but presently my rage returned; I remembered that I was\\nfor ever deprived of the delights that such beautiful creatures could\\nbestow and that she whose resemblance I contemplated would, in\\nregarding me, have changed that air of divine benignity to one\\nexpressive of disgust and affright.\\n\\n“Can you wonder that such thoughts transported me with rage? I only\\nwonder that at that moment, instead of venting my sensations in\\nexclamations and agony, I did not rush among mankind and perish in the\\nattempt to destroy them.\\n\\n“While I was overcome by these feelings, I left the spot where I had\\ncommitted the murder, and seeking a more secluded hiding-place, I\\nentered a barn which had appeared to me to be empty. A woman was\\nsleeping on some straw; she was young, not indeed so beautiful as her\\nwhose portrait I held, but of an agreeable aspect and blooming in the\\nloveliness of youth and health. Here, I thought, is one of those whose\\njoy-imparting smiles are bestowed on all but me. And then I bent over\\nher and whispered, ‘Awake, fairest, thy lover is near—he who would\\ngive his life but to obtain one look of affection from thine eyes; my\\nbeloved, awake!’\\n\\n“The sleeper stirred; a thrill of terror ran through me. Should she\\nindeed awake, and see me, and curse me, and denounce the murderer? Thus\\nwould she assuredly act if her darkened eyes opened and she beheld me.\\nThe thought was madness; it stirred the fiend within me—not I, but\\nshe, shall suffer; the murder I have committed because I am for ever\\nrobbed of all that she could give me, she shall atone. The crime had\\nits source in her; be hers the punishment! Thanks to the lessons of\\nFelix and the sanguinary laws of man, I had learned now to work\\nmischief. I bent over her and placed the portrait securely in one of\\nthe folds of her dress. She moved again, and I fled.\\n\\n“For some days I haunted the spot where these scenes had taken place,\\nsometimes wishing to see you, sometimes resolved to quit the world and\\nits miseries for ever. At length I wandered towards these mountains,\\nand have ranged through their immense recesses, consumed by a burning\\npassion which you alone can gratify. We may not part until you have\\npromised to comply with my requisition. I am alone and miserable; man\\nwill not associate with me; but one as deformed and horrible as myself\\nwould not deny herself to me. My companion must be of the same species\\nand have the same defects. This being you must create.”\\n\\n\\n\\n\\nChapter 17\\n\\n\\nThe being finished speaking and fixed his looks upon me in the\\nexpectation of a reply. But I was bewildered, perplexed, and unable to\\narrange my ideas sufficiently to understand the full extent of his\\nproposition. He continued,\\n\\n“You must create a female for me with whom I can live in the\\ninterchange of those sympathies necessary for my being. This you alone\\ncan do, and I demand it of you as a right which you must not refuse to\\nconcede.”\\n\\nThe latter part of his tale had kindled anew in me the anger that had\\ndied away while he narrated his peaceful life among the cottagers, and\\nas he said this I could no longer suppress the rage that burned within\\nme.\\n\\n“I do refuse it,” I replied; “and no torture shall ever extort a\\nconsent from me. You may render me the most miserable of men, but you\\nshall never make me base in my own eyes. Shall I create another like\\nyourself, whose joint wickedness might desolate the world. Begone! I\\nhave answered you; you may torture me, but I will never consent.”\\n\\n“You are in the wrong,” replied the fiend; “and instead\\nof threatening, I am content to reason with you. I am malicious because I\\nam miserable. Am I not shunned and hated by all mankind? You, my creator,\\nwould tear me to pieces and triumph; remember that, and tell me why I\\nshould pity man more than he pities me? You would not call it murder if you\\ncould precipitate me into one of those ice-rifts and destroy my frame, the\\nwork of your own hands. Shall I respect man when he condemns me? Let him\\nlive with me in the interchange of kindness, and instead of injury I would\\nbestow every benefit upon him with tears of gratitude at his acceptance.\\nBut that cannot be; the human senses are insurmountable barriers to our\\nunion. Yet mine shall not be the submission of abject slavery. I will\\nrevenge my injuries; if I cannot inspire love, I will cause fear, and\\nchiefly towards you my arch-enemy, because my creator, do I swear\\ninextinguishable hatred. Have a care; I will work at your destruction, nor\\nfinish until I desolate your heart, so that you shall curse the hour of\\nyour birth.”\\n\\nA fiendish rage animated him as he said this; his face was wrinkled\\ninto contortions too horrible for human eyes to behold; but presently\\nhe calmed himself and proceeded—\\n\\n“I intended to reason. This passion is detrimental to me, for you do\\nnot reflect that _you_ are the cause of its excess. If any being felt\\nemotions of benevolence towards me, I should return them a hundred and a\\nhundredfold; for that one creature’s sake I would make peace with the\\nwhole kind! But I now indulge in dreams of bliss that cannot be realised.\\nWhat I ask of you is reasonable and moderate; I demand a creature of\\nanother sex, but as hideous as myself; the gratification is small, but it\\nis all that I can receive, and it shall content me. It is true, we shall be\\nmonsters, cut off from all the world; but on that account we shall be more\\nattached to one another. Our lives will not be happy, but they will be\\nharmless and free from the misery I now feel. Oh! My creator, make me\\nhappy; let me feel gratitude towards you for one benefit! Let me see that I\\nexcite the sympathy of some existing thing; do not deny me my\\nrequest!”\\n\\nI was moved. I shuddered when I thought of the possible consequences\\nof my consent, but I felt that there was some justice in his argument.\\nHis tale and the feelings he now expressed proved him to be a creature\\nof fine sensations, and did I not as his maker owe him all the portion\\nof happiness that it was in my power to bestow? He saw my change of\\nfeeling and continued,\\n\\n“If you consent, neither you nor any other human being shall ever see\\nus again; I will go to the vast wilds of South America. My food is not\\nthat of man; I do not destroy the lamb and the kid to glut my appetite;\\nacorns and berries afford me sufficient nourishment. My companion will\\nbe of the same nature as myself and will be content with the same fare.\\nWe shall make our bed of dried leaves; the sun will shine on us as on\\nman and will ripen our food. The picture I present to you is peaceful\\nand human, and you must feel that you could deny it only in the\\nwantonness of power and cruelty. Pitiless as you have been towards me,\\nI now see compassion in your eyes; let me seize the favourable moment\\nand persuade you to promise what I so ardently desire.”\\n\\n“You propose,” replied I, “to fly from the habitations of\\nman, to dwell in those wilds where the beasts of the field will be your\\nonly companions. How can you, who long for the love and sympathy of man,\\npersevere in this exile? You will return and again seek their kindness, and\\nyou will meet with their detestation; your evil passions will be renewed,\\nand you will then have a companion to aid you in the task of destruction.\\nThis may not be; cease to argue the point, for I cannot consent.”\\n\\n“How inconstant are your feelings! But a moment ago you were moved by\\nmy representations, and why do you again harden yourself to my complaints?\\nI swear to you, by the earth which I inhabit, and by you that made me, that\\nwith the companion you bestow, I will quit the neighbourhood of man and\\ndwell, as it may chance, in the most savage of places. My evil passions\\nwill have fled, for I shall meet with sympathy! My life will flow quietly\\naway, and in my dying moments I shall not curse my maker.”\\n\\nHis words had a strange effect upon me. I compassionated him and\\nsometimes felt a wish to console him, but when I looked upon him, when\\nI saw the filthy mass that moved and talked, my heart sickened and my\\nfeelings were altered to those of horror and hatred. I tried to stifle\\nthese sensations; I thought that as I could not sympathise with him, I\\nhad no right to withhold from him the small portion of happiness which\\nwas yet in my power to bestow.\\n\\n“You swear,” I said, “to be harmless; but have you not\\nalready shown a degree of malice that should reasonably make me distrust\\nyou? May not even this be a feint that will increase your triumph by\\naffording a wider scope for your revenge?”\\n\\n“How is this? I must not be trifled with, and I demand an answer. If\\nI have no ties and no affections, hatred and vice must be my portion;\\nthe love of another will destroy the cause of my crimes, and I shall\\nbecome a thing of whose existence everyone will be ignorant. My vices\\nare the children of a forced solitude that I abhor, and my virtues will\\nnecessarily arise when I live in communion with an equal. I shall feel\\nthe affections of a sensitive being and become linked to the chain of\\nexistence and events from which I am now excluded.”\\n\\nI paused some time to reflect on all he had related and the various\\narguments which he had employed. I thought of the promise of virtues which\\nhe had displayed on the opening of his existence and the subsequent blight\\nof all kindly feeling by the loathing and scorn which his protectors had\\nmanifested towards him. His power and threats were not omitted in my\\ncalculations; a creature who could exist in the ice-caves of the glaciers\\nand hide himself from pursuit among the ridges of inaccessible precipices\\nwas a being possessing faculties it would be vain to cope with. After a\\nlong pause of reflection I concluded that the justice due both to him and\\nmy fellow creatures demanded of me that I should comply with his request.\\nTurning to him, therefore, I said,\\n\\n“I consent to your demand, on your solemn oath to quit Europe for ever,\\nand every other place in the neighbourhood of man, as soon as I shall\\ndeliver into your hands a female who will accompany you in your exile.”\\n\\n“I swear,” he cried, “by the sun, and by the blue sky of\\nheaven, and by the fire of love that burns my heart, that if you grant my\\nprayer, while they exist you shall never behold me again. Depart to your\\nhome and commence your labours; I shall watch their progress with\\nunutterable anxiety; and fear not but that when you are ready I shall\\nappear.”\\n\\nSaying this, he suddenly quitted me, fearful, perhaps, of any change in\\nmy sentiments. I saw him descend the mountain with greater speed than\\nthe flight of an eagle, and quickly lost among the undulations of the\\nsea of ice.\\n\\nHis tale had occupied the whole day, and the sun was upon the verge of\\nthe horizon when he departed. I knew that I ought to hasten my descent\\ntowards the valley, as I should soon be encompassed in darkness; but my\\nheart was heavy, and my steps slow. The labour of winding among the\\nlittle paths of the mountain and fixing my feet firmly as I advanced\\nperplexed me, occupied as I was by the emotions which the occurrences\\nof the day had produced. Night was far advanced when I came to the\\nhalfway resting-place and seated myself beside the fountain. The stars\\nshone at intervals as the clouds passed from over them; the dark pines\\nrose before me, and every here and there a broken tree lay on the\\nground; it was a scene of wonderful solemnity and stirred strange\\nthoughts within me. I wept bitterly, and clasping my hands in agony, I\\nexclaimed, “Oh! stars and clouds and winds, ye are all about to mock\\nme; if ye really pity me, crush sensation and memory; let me become as\\nnought; but if not, depart, depart, and leave me in darkness.”\\n\\nThese were wild and miserable thoughts, but I cannot describe to you\\nhow the eternal twinkling of the stars weighed upon me and how I\\nlistened to every blast of wind as if it were a dull ugly siroc on its\\nway to consume me.\\n\\nMorning dawned before I arrived at the village of Chamounix; I took no\\nrest, but returned immediately to Geneva. Even in my own heart I could\\ngive no expression to my sensations—they weighed on me with a\\nmountain’s weight and their excess destroyed my agony beneath them.\\nThus I returned home, and entering the house, presented myself to the\\nfamily. My haggard and wild appearance awoke intense alarm, but I\\nanswered no question, scarcely did I speak. I felt as if I were placed\\nunder a ban—as if I had no right to claim their sympathies—as if\\nnever more might I enjoy companionship with them. Yet even thus I\\nloved them to adoration; and to save them, I resolved to dedicate\\nmyself to my most abhorred task. The prospect of such an occupation\\nmade every other circumstance of existence pass before me like a dream,\\nand that thought only had to me the reality of life.\\n\\n\\n\\n\\nChapter 18\\n\\n\\nDay after day, week after week, passed away on my return to Geneva; and\\nI could not collect the courage to recommence my work. I feared the\\nvengeance of the disappointed fiend, yet I was unable to overcome my\\nrepugnance to the task which was enjoined me. I found that I could not\\ncompose a female without again devoting several months to profound\\nstudy and laborious disquisition. I had heard of some discoveries\\nhaving been made by an English philosopher, the knowledge of which was\\nmaterial to my success, and I sometimes thought of obtaining my\\nfather’s consent to visit England for this purpose; but I clung to\\nevery pretence of delay and shrank from taking the first step in an\\nundertaking whose immediate necessity began to appear less absolute to\\nme. A change indeed had taken place in me; my health, which had\\nhitherto declined, was now much restored; and my spirits, when\\nunchecked by the memory of my unhappy promise, rose proportionably. My\\nfather saw this change with pleasure, and he turned his thoughts\\ntowards the best method of eradicating the remains of my melancholy,\\nwhich every now and then would return by fits, and with a devouring\\nblackness overcast the approaching sunshine. At these moments I took\\nrefuge in the most perfect solitude. I passed whole days on the lake\\nalone in a little boat, watching the clouds and listening to the\\nrippling of the waves, silent and listless. But the fresh air and\\nbright sun seldom failed to restore me to some degree of composure, and\\non my return I met the salutations of my friends with a readier smile\\nand a more cheerful heart.\\n\\nIt was after my return from one of these rambles that my father,\\ncalling me aside, thus addressed me,\\n\\n“I am happy to remark, my dear son, that you have resumed your former\\npleasures and seem to be returning to yourself. And yet you are still\\nunhappy and still avoid our society. For some time I was lost in\\nconjecture as to the cause of this, but yesterday an idea struck me,\\nand if it is well founded, I conjure you to avow it. Reserve on such a\\npoint would be not only useless, but draw down treble misery on us all.”\\n\\nI trembled violently at his exordium, and my father continued—\\n\\n“I confess, my son, that I have always looked forward to your\\nmarriage with our dear Elizabeth as the tie of our domestic comfort and the\\nstay of my declining years. You were attached to each other from your\\nearliest infancy; you studied together, and appeared, in dispositions and\\ntastes, entirely suited to one another. But so blind is the experience of\\nman that what I conceived to be the best assistants to my plan may have\\nentirely destroyed it. You, perhaps, regard her as your sister, without any\\nwish that she might become your wife. Nay, you may have met with another\\nwhom you may love; and considering yourself as bound in honour to\\nElizabeth, this struggle may occasion the poignant misery which you appear\\nto feel.”\\n\\n“My dear father, reassure yourself. I love my cousin tenderly and\\nsincerely. I never saw any woman who excited, as Elizabeth does, my\\nwarmest admiration and affection. My future hopes and prospects are\\nentirely bound up in the expectation of our union.”\\n\\n“The expression of your sentiments of this subject, my dear Victor,\\ngives me more pleasure than I have for some time experienced. If you\\nfeel thus, we shall assuredly be happy, however present events may cast\\na gloom over us. But it is this gloom which appears to have taken so\\nstrong a hold of your mind that I wish to dissipate. Tell me,\\ntherefore, whether you object to an immediate solemnisation of the\\nmarriage. We have been unfortunate, and recent events have drawn us\\nfrom that everyday tranquillity befitting my years and infirmities. You\\nare younger; yet I do not suppose, possessed as you are of a competent\\nfortune, that an early marriage would at all interfere with any future\\nplans of honour and utility that you may have formed. Do not suppose,\\nhowever, that I wish to dictate happiness to you or that a delay on\\nyour part would cause me any serious uneasiness. Interpret my words\\nwith candour and answer me, I conjure you, with confidence and\\nsincerity.”\\n\\nI listened to my father in silence and remained for some time incapable\\nof offering any reply. I revolved rapidly in my mind a multitude of\\nthoughts and endeavoured to arrive at some conclusion. Alas! To me\\nthe idea of an immediate union with my Elizabeth was one of horror and\\ndismay. I was bound by a solemn promise which I had not yet fulfilled\\nand dared not break, or if I did, what manifold miseries might not\\nimpend over me and my devoted family! Could I enter into a festival\\nwith this deadly weight yet hanging round my neck and bowing me to the\\nground? I must perform my engagement and let the monster depart with\\nhis mate before I allowed myself to enjoy the delight of a union from\\nwhich I expected peace.\\n\\nI remembered also the necessity imposed upon me of either journeying to\\nEngland or entering into a long correspondence with those philosophers\\nof that country whose knowledge and discoveries were of indispensable\\nuse to me in my present undertaking. The latter method of obtaining\\nthe desired intelligence was dilatory and unsatisfactory; besides, I\\nhad an insurmountable aversion to the idea of engaging myself in my\\nloathsome task in my father’s house while in habits of familiar\\nintercourse with those I loved. I knew that a thousand fearful\\naccidents might occur, the slightest of which would disclose a tale to\\nthrill all connected with me with horror. I was aware also that I\\nshould often lose all self-command, all capacity of hiding the\\nharrowing sensations that would possess me during the progress of my\\nunearthly occupation. I must absent myself from all I loved while thus\\nemployed. Once commenced, it would quickly be achieved, and I might be\\nrestored to my family in peace and happiness. My promise fulfilled,\\nthe monster would depart for ever. Or (so my fond fancy imaged) some\\naccident might meanwhile occur to destroy him and put an end to my\\nslavery for ever.\\n\\nThese feelings dictated my answer to my father. I expressed a wish to\\nvisit England, but concealing the true reasons of this request, I\\nclothed my desires under a guise which excited no suspicion, while I\\nurged my desire with an earnestness that easily induced my father to\\ncomply. After so long a period of an absorbing melancholy that\\nresembled madness in its intensity and effects, he was glad to find\\nthat I was capable of taking pleasure in the idea of such a journey,\\nand he hoped that change of scene and varied amusement would, before my\\nreturn, have restored me entirely to myself.\\n\\nThe duration of my absence was left to my own choice; a few months, or\\nat most a year, was the period contemplated. One paternal kind\\nprecaution he had taken to ensure my having a companion. Without\\npreviously communicating with me, he had, in concert with Elizabeth,\\narranged that Clerval should join me at Strasburgh. This interfered\\nwith the solitude I coveted for the prosecution of my task; yet at the\\ncommencement of my journey the presence of my friend could in no way be\\nan impediment, and truly I rejoiced that thus I should be saved many\\nhours of lonely, maddening reflection. Nay, Henry might stand between\\nme and the intrusion of my foe. If I were alone, would he not at times\\nforce his abhorred presence on me to remind me of my task or to\\ncontemplate its progress?\\n\\nTo England, therefore, I was bound, and it was understood that my union\\nwith Elizabeth should take place immediately on my return. My father’s\\nage rendered him extremely averse to delay. For myself, there was one\\nreward I promised myself from my detested toils—one consolation for my\\nunparalleled sufferings; it was the prospect of that day when,\\nenfranchised from my miserable slavery, I might claim Elizabeth and\\nforget the past in my union with her.\\n\\nI now made arrangements for my journey, but one feeling haunted me\\nwhich filled me with fear and agitation. During my absence I should\\nleave my friends unconscious of the existence of their enemy and\\nunprotected from his attacks, exasperated as he might be by my\\ndeparture. But he had promised to follow me wherever I might go, and\\nwould he not accompany me to England? This imagination was dreadful in\\nitself, but soothing inasmuch as it supposed the safety of my friends.\\nI was agonised with the idea of the possibility that the reverse of\\nthis might happen. But through the whole period during which I was the\\nslave of my creature I allowed myself to be governed by the impulses of\\nthe moment; and my present sensations strongly intimated that the fiend\\nwould follow me and exempt my family from the danger of his\\nmachinations.\\n\\nIt was in the latter end of September that I again quitted my native\\ncountry. My journey had been my own suggestion, and Elizabeth\\ntherefore acquiesced, but she was filled with disquiet at the idea of\\nmy suffering, away from her, the inroads of misery and grief. It had\\nbeen her care which provided me a companion in Clerval—and yet a man\\nis blind to a thousand minute circumstances which call forth a woman’s\\nsedulous attention. She longed to bid me hasten my return; a thousand\\nconflicting emotions rendered her mute as she bade me a tearful, silent\\nfarewell.\\n\\nI threw myself into the carriage that was to convey me away, hardly\\nknowing whither I was going, and careless of what was passing around.\\nI remembered only, and it was with a bitter anguish that I reflected on\\nit, to order that my chemical instruments should be packed to go with\\nme. Filled with dreary imaginations, I passed through many beautiful\\nand majestic scenes, but my eyes were fixed and unobserving. I could\\nonly think of the bourne of my travels and the work which was to occupy\\nme whilst they endured.\\n\\nAfter some days spent in listless indolence, during which I traversed\\nmany leagues, I arrived at Strasburgh, where I waited two days for\\nClerval. He came. Alas, how great was the contrast between us! He\\nwas alive to every new scene, joyful when he saw the beauties of the\\nsetting sun, and more happy when he beheld it rise and recommence a new\\nday. He pointed out to me the shifting colours of the landscape and\\nthe appearances of the sky. “This is what it is to live,” he cried;\\n“now I enjoy existence! But you, my dear Frankenstein, wherefore are\\nyou desponding and sorrowful!” In truth, I was occupied by gloomy\\nthoughts and neither saw the descent of the evening star nor the golden\\nsunrise reflected in the Rhine. And you, my friend, would be far more\\namused with the journal of Clerval, who observed the scenery with an\\neye of feeling and delight, than in listening to my reflections. I, a\\nmiserable wretch, haunted by a curse that shut up every avenue to\\nenjoyment.\\n\\nWe had agreed to descend the Rhine in a boat from Strasburgh to\\nRotterdam, whence we might take shipping for London. During this\\nvoyage we passed many willowy islands and saw several beautiful towns.\\nWe stayed a day at Mannheim, and on the fifth from our departure from\\nStrasburgh, arrived at Mainz. The course of the Rhine below Mainz\\nbecomes much more picturesque. The river descends rapidly and winds\\nbetween hills, not high, but steep, and of beautiful forms. We saw\\nmany ruined castles standing on the edges of precipices, surrounded by\\nblack woods, high and inaccessible. This part of the Rhine, indeed,\\npresents a singularly variegated landscape. In one spot you view\\nrugged hills, ruined castles overlooking tremendous precipices, with\\nthe dark Rhine rushing beneath; and on the sudden turn of a promontory,\\nflourishing vineyards with green sloping banks and a meandering river\\nand populous towns occupy the scene.\\n\\nWe travelled at the time of the vintage and heard the song of the labourers\\nas we glided down the stream. Even I, depressed in mind, and my spirits\\ncontinually agitated by gloomy feelings, even I was pleased. I lay at the\\nbottom of the boat, and as I gazed on the cloudless blue sky, I seemed to\\ndrink in a tranquillity to which I had long been a stranger. And if these\\nwere my sensations, who can describe those of Henry? He felt as if he had\\nbeen transported to Fairy-land and enjoyed a happiness seldom tasted by\\nman. “I have seen,” he said, “the most beautiful scenes\\nof my own country; I have visited the lakes of Lucerne and Uri, where the\\nsnowy mountains descend almost perpendicularly to the water, casting black\\nand impenetrable shades, which would cause a gloomy and mournful appearance\\nwere it not for the most verdant islands that relieve the eye by their gay\\nappearance; I have seen this lake agitated by a tempest, when the wind tore\\nup whirlwinds of water and gave you an idea of what the water-spout must be\\non the great ocean; and the waves dash with fury the base of the mountain,\\nwhere the priest and his mistress were overwhelmed by an avalanche and\\nwhere their dying voices are still said to be heard amid the pauses of the\\nnightly wind; I have seen the mountains of La Valais, and the Pays de Vaud;\\nbut this country, Victor, pleases me more than all those wonders. The\\nmountains of Switzerland are more majestic and strange, but there is a\\ncharm in the banks of this divine river that I never before saw equalled.\\nLook at that castle which overhangs yon precipice; and that also on the\\nisland, almost concealed amongst the foliage of those lovely trees; and now\\nthat group of labourers coming from among their vines; and that village\\nhalf hid in the recess of the mountain. Oh, surely the spirit that inhabits\\nand guards this place has a soul more in harmony with man than those who\\npile the glacier or retire to the inaccessible peaks of the mountains of\\nour own country.”\\n\\nClerval! Beloved friend! Even now it delights me to record your words and\\nto dwell on the praise of which you are so eminently deserving. He was a\\nbeing formed in the “very poetry of nature.” His wild and\\nenthusiastic imagination was chastened by the sensibility of his heart. His\\nsoul overflowed with ardent affections, and his friendship was of that\\ndevoted and wondrous nature that the worldly-minded teach us to look for only\\nin the imagination. But even human sympathies were not sufficient to\\nsatisfy his eager mind. The scenery of external nature, which others regard\\nonly with admiration, he loved with ardour:—\\n\\n    ——The sounding cataract\\n    Haunted him like a passion: the tall rock,\\n    The mountain, and the deep and gloomy wood,\\n    Their colours and their forms, were then to him\\n    An appetite; a feeling, and a love,\\n    That had no need of a remoter charm,\\n    By thought supplied, or any interest\\n    Unborrow’d from the eye.\\n\\n          [Wordsworth’s “Tintern Abbey”.]\\n\\nAnd where does he now exist? Is this gentle and lovely being lost\\nfor ever? Has this mind, so replete with ideas, imaginations fanciful\\nand magnificent, which formed a world, whose existence depended on the\\nlife of its creator;—has this mind perished? Does it now only exist\\nin my memory? No, it is not thus; your form so divinely wrought, and\\nbeaming with beauty, has decayed, but your spirit still visits and\\nconsoles your unhappy friend.\\n\\nPardon this gush of sorrow; these ineffectual words are but a slight\\ntribute to the unexampled worth of Henry, but they soothe my heart,\\noverflowing with the anguish which his remembrance creates. I will\\nproceed with my tale.\\n\\nBeyond Cologne we descended to the plains of Holland; and we resolved to\\npost the remainder of our way, for the wind was contrary and the stream of\\nthe river was too gentle to aid us.\\n\\nOur journey here lost the interest arising from beautiful scenery, but we\\narrived in a few days at Rotterdam, whence we proceeded by sea to England.\\nIt was on a clear morning, in the latter days of December, that I first saw\\nthe white cliffs of Britain. The banks of the Thames presented a new scene;\\nthey were flat but fertile, and almost every town was marked by the\\nremembrance of some story. We saw Tilbury Fort and remembered the Spanish\\nArmada, Gravesend, Woolwich, and Greenwich—places which I had heard\\nof even in my country.\\n\\nAt length we saw the numerous steeples of London, St. Paul’s towering\\nabove all, and the Tower famed in English history.\\n\\n\\n\\n\\nChapter 19\\n\\n\\nLondon was our present point of rest; we determined to remain several\\nmonths in this wonderful and celebrated city. Clerval desired the\\nintercourse of the men of genius and talent who flourished at this\\ntime, but this was with me a secondary object; I was principally\\noccupied with the means of obtaining the information necessary for the\\ncompletion of my promise and quickly availed myself of the letters of\\nintroduction that I had brought with me, addressed to the most\\ndistinguished natural philosophers.\\n\\nIf this journey had taken place during my days of study and happiness,\\nit would have afforded me inexpressible pleasure. But a blight had\\ncome over my existence, and I only visited these people for the sake of\\nthe information they might give me on the subject in which my interest\\nwas so terribly profound. Company was irksome to me; when alone, I\\ncould fill my mind with the sights of heaven and earth; the voice of\\nHenry soothed me, and I could thus cheat myself into a transitory\\npeace. But busy, uninteresting, joyous faces brought back despair to\\nmy heart. I saw an insurmountable barrier placed between me and my\\nfellow men; this barrier was sealed with the blood of William and\\nJustine, and to reflect on the events connected with those names filled\\nmy soul with anguish.\\n\\nBut in Clerval I saw the image of my former self; he was inquisitive\\nand anxious to gain experience and instruction. The difference of\\nmanners which he observed was to him an inexhaustible source of\\ninstruction and amusement. He was also pursuing an object he had long\\nhad in view. His design was to visit India, in the belief that he had\\nin his knowledge of its various languages, and in the views he had\\ntaken of its society, the means of materially assisting the progress of\\nEuropean colonization and trade. In Britain only could he further the\\nexecution of his plan. He was for ever busy, and the only check to his\\nenjoyments was my sorrowful and dejected mind. I tried to conceal this\\nas much as possible, that I might not debar him from the pleasures\\nnatural to one who was entering on a new scene of life, undisturbed by\\nany care or bitter recollection. I often refused to accompany him,\\nalleging another engagement, that I might remain alone. I now also\\nbegan to collect the materials necessary for my new creation, and this\\nwas to me like the torture of single drops of water continually falling\\non the head. Every thought that was devoted to it was an extreme\\nanguish, and every word that I spoke in allusion to it caused my lips\\nto quiver, and my heart to palpitate.\\n\\nAfter passing some months in London, we received a letter from a person in\\nScotland who had formerly been our visitor at Geneva. He mentioned the\\nbeauties of his native country and asked us if those were not sufficient\\nallurements to induce us to prolong our journey as far north as Perth,\\nwhere he resided. Clerval eagerly desired to accept this invitation, and I,\\nalthough I abhorred society, wished to view again mountains and streams and\\nall the wondrous works with which Nature adorns her chosen dwelling-places.\\n\\nWe had arrived in England at the beginning of October, and it was now\\nFebruary. We accordingly determined to commence our journey towards the\\nnorth at the expiration of another month. In this expedition we did not\\nintend to follow the great road to Edinburgh, but to visit Windsor, Oxford,\\nMatlock, and the Cumberland lakes, resolving to arrive at the completion of\\nthis tour about the end of July. I packed up my chemical instruments and\\nthe materials I had collected, resolving to finish my labours in some\\nobscure nook in the northern highlands of Scotland.\\n\\nWe quitted London on the 27th of March and remained a few days at\\nWindsor, rambling in its beautiful forest. This was a new scene to us\\nmountaineers; the majestic oaks, the quantity of game, and the herds of\\nstately deer were all novelties to us.\\n\\nFrom thence we proceeded to Oxford. As we entered this city, our minds\\nwere filled with the remembrance of the events that had been transacted\\nthere more than a century and a half before. It was here that Charles\\nI. had collected his forces. This city had remained faithful to him,\\nafter the whole nation had forsaken his cause to join the standard of\\nParliament and liberty. The memory of that unfortunate king and his\\ncompanions, the amiable Falkland, the insolent Goring, his queen, and\\nson, gave a peculiar interest to every part of the city which they\\nmight be supposed to have inhabited. The spirit of elder days found a\\ndwelling here, and we delighted to trace its footsteps. If these\\nfeelings had not found an imaginary gratification, the appearance of\\nthe city had yet in itself sufficient beauty to obtain our admiration.\\nThe colleges are ancient and picturesque; the streets are almost\\nmagnificent; and the lovely Isis, which flows beside it through meadows\\nof exquisite verdure, is spread forth into a placid expanse of waters,\\nwhich reflects its majestic assemblage of towers, and spires, and\\ndomes, embosomed among aged trees.\\n\\nI enjoyed this scene, and yet my enjoyment was embittered both by the\\nmemory of the past and the anticipation of the future. I was formed\\nfor peaceful happiness. During my youthful days discontent never\\nvisited my mind, and if I was ever overcome by _ennui_, the sight of what\\nis beautiful in nature or the study of what is excellent and sublime in\\nthe productions of man could always interest my heart and communicate\\nelasticity to my spirits. But I am a blasted tree; the bolt has\\nentered my soul; and I felt then that I should survive to exhibit what\\nI shall soon cease to be—a miserable spectacle of wrecked humanity,\\npitiable to others and intolerable to myself.\\n\\nWe passed a considerable period at Oxford, rambling among its environs\\nand endeavouring to identify every spot which might relate to the most\\nanimating epoch of English history. Our little voyages of discovery\\nwere often prolonged by the successive objects that presented\\nthemselves. We visited the tomb of the illustrious Hampden and the\\nfield on which that patriot fell. For a moment my soul was elevated\\nfrom its debasing and miserable fears to contemplate the divine ideas\\nof liberty and self-sacrifice of which these sights were the monuments\\nand the remembrancers. For an instant I dared to shake off my chains\\nand look around me with a free and lofty spirit, but the iron had eaten\\ninto my flesh, and I sank again, trembling and hopeless, into my\\nmiserable self.\\n\\nWe left Oxford with regret and proceeded to Matlock, which was our next\\nplace of rest. The country in the neighbourhood of this village\\nresembled, to a greater degree, the scenery of Switzerland; but\\neverything is on a lower scale, and the green hills want the crown of\\ndistant white Alps which always attend on the piny mountains of my\\nnative country. We visited the wondrous cave and the little cabinets\\nof natural history, where the curiosities are disposed in the same\\nmanner as in the collections at Servox and Chamounix. The latter name\\nmade me tremble when pronounced by Henry, and I hastened to quit\\nMatlock, with which that terrible scene was thus associated.\\n\\nFrom Derby, still journeying northwards, we passed two months in\\nCumberland and Westmorland. I could now almost fancy myself among the\\nSwiss mountains. The little patches of snow which yet lingered on the\\nnorthern sides of the mountains, the lakes, and the dashing of the\\nrocky streams were all familiar and dear sights to me. Here also we\\nmade some acquaintances, who almost contrived to cheat me into\\nhappiness. The delight of Clerval was proportionably greater than\\nmine; his mind expanded in the company of men of talent, and he found\\nin his own nature greater capacities and resources than he could have\\nimagined himself to have possessed while he associated with his\\ninferiors. “I could pass my life here,” said he to me; “and among\\nthese mountains I should scarcely regret Switzerland and the Rhine.”\\n\\nBut he found that a traveller’s life is one that includes much pain\\namidst its enjoyments. His feelings are for ever on the stretch; and\\nwhen he begins to sink into repose, he finds himself obliged to quit\\nthat on which he rests in pleasure for something new, which again\\nengages his attention, and which also he forsakes for other novelties.\\n\\nWe had scarcely visited the various lakes of Cumberland and Westmorland\\nand conceived an affection for some of the inhabitants when the period\\nof our appointment with our Scotch friend approached, and we left them\\nto travel on. For my own part I was not sorry. I had now neglected my\\npromise for some time, and I feared the effects of the dæmon’s\\ndisappointment. He might remain in Switzerland and wreak his vengeance\\non my relatives. This idea pursued me and tormented me at every moment\\nfrom which I might otherwise have snatched repose and peace. I waited\\nfor my letters with feverish impatience; if they were delayed I was\\nmiserable and overcome by a thousand fears; and when they arrived and I\\nsaw the superscription of Elizabeth or my father, I hardly dared to\\nread and ascertain my fate. Sometimes I thought that the fiend\\nfollowed me and might expedite my remissness by murdering my companion.\\nWhen these thoughts possessed me, I would not quit Henry for a moment,\\nbut followed him as his shadow, to protect him from the fancied rage of\\nhis destroyer. I felt as if I had committed some great crime, the\\nconsciousness of which haunted me. I was guiltless, but I had indeed\\ndrawn down a horrible curse upon my head, as mortal as that of crime.\\n\\nI visited Edinburgh with languid eyes and mind; and yet that city might\\nhave interested the most unfortunate being. Clerval did not like it so well\\nas Oxford, for the antiquity of the latter city was more pleasing to him.\\nBut the beauty and regularity of the new town of Edinburgh, its romantic\\ncastle and its environs, the most delightful in the world, Arthur’s\\nSeat, St. Bernard’s Well, and the Pentland Hills, compensated him for\\nthe change and filled him with cheerfulness and admiration. But I was\\nimpatient to arrive at the termination of my journey.\\n\\nWe left Edinburgh in a week, passing through Coupar, St. Andrew’s, and\\nalong the banks of the Tay, to Perth, where our friend expected us.\\nBut I was in no mood to laugh and talk with strangers or enter into\\ntheir feelings or plans with the good humour expected from a guest; and\\naccordingly I told Clerval that I wished to make the tour of Scotland\\nalone. “Do you,” said I, “enjoy yourself, and let this be our\\nrendezvous. I may be absent a month or two; but do not interfere with\\nmy motions, I entreat you; leave me to peace and solitude for a short\\ntime; and when I return, I hope it will be with a lighter heart, more\\ncongenial to your own temper.”\\n\\nHenry wished to dissuade me, but seeing me bent on this plan, ceased to\\nremonstrate. He entreated me to write often. “I had rather be with\\nyou,” he said, “in your solitary rambles, than with these Scotch\\npeople, whom I do not know; hasten, then, my dear friend, to return,\\nthat I may again feel myself somewhat at home, which I cannot do in\\nyour absence.”\\n\\nHaving parted from my friend, I determined to visit some remote spot of\\nScotland and finish my work in solitude. I did not doubt but that the\\nmonster followed me and would discover himself to me when I should have\\nfinished, that he might receive his companion.\\n\\nWith this resolution I traversed the northern highlands and fixed on one of\\nthe remotest of the Orkneys as the scene of my labours. It was a place\\nfitted for such a work, being hardly more than a rock whose high sides were\\ncontinually beaten upon by the waves. The soil was barren, scarcely\\naffording pasture for a few miserable cows, and oatmeal for its\\ninhabitants, which consisted of five persons, whose gaunt and scraggy limbs\\ngave tokens of their miserable fare. Vegetables and bread, when they\\nindulged in such luxuries, and even fresh water, was to be procured from\\nthe mainland, which was about five miles distant.\\n\\nOn the whole island there were but three miserable huts, and one of\\nthese was vacant when I arrived. This I hired. It contained but two\\nrooms, and these exhibited all the squalidness of the most miserable\\npenury. The thatch had fallen in, the walls were unplastered, and the\\ndoor was off its hinges. I ordered it to be repaired, bought some\\nfurniture, and took possession, an incident which would doubtless have\\noccasioned some surprise had not all the senses of the cottagers been\\nbenumbed by want and squalid poverty. As it was, I lived ungazed at\\nand unmolested, hardly thanked for the pittance of food and clothes\\nwhich I gave, so much does suffering blunt even the coarsest sensations\\nof men.\\n\\nIn this retreat I devoted the morning to labour; but in the evening,\\nwhen the weather permitted, I walked on the stony beach of the sea to\\nlisten to the waves as they roared and dashed at my feet. It was a\\nmonotonous yet ever-changing scene. I thought of Switzerland; it was\\nfar different from this desolate and appalling landscape. Its hills\\nare covered with vines, and its cottages are scattered thickly in the\\nplains. Its fair lakes reflect a blue and gentle sky, and when\\ntroubled by the winds, their tumult is but as the play of a lively\\ninfant when compared to the roarings of the giant ocean.\\n\\nIn this manner I distributed my occupations when I first arrived, but\\nas I proceeded in my labour, it became every day more horrible and\\nirksome to me. Sometimes I could not prevail on myself to enter my\\nlaboratory for several days, and at other times I toiled day and night\\nin order to complete my work. It was, indeed, a filthy process in\\nwhich I was engaged. During my first experiment, a kind of\\nenthusiastic frenzy had blinded me to the horror of my employment; my\\nmind was intently fixed on the consummation of my labour, and my eyes\\nwere shut to the horror of my proceedings. But now I went to it in\\ncold blood, and my heart often sickened at the work of my hands.\\n\\nThus situated, employed in the most detestable occupation, immersed in\\na solitude where nothing could for an instant call my attention from\\nthe actual scene in which I was engaged, my spirits became unequal; I\\ngrew restless and nervous. Every moment I feared to meet my\\npersecutor. Sometimes I sat with my eyes fixed on the ground, fearing\\nto raise them lest they should encounter the object which I so much\\ndreaded to behold. I feared to wander from the sight of my fellow\\ncreatures lest when alone he should come to claim his companion.\\n\\nIn the mean time I worked on, and my labour was already considerably\\nadvanced. I looked towards its completion with a tremulous and eager\\nhope, which I dared not trust myself to question but which was\\nintermixed with obscure forebodings of evil that made my heart sicken\\nin my bosom.\\n\\n\\n\\n\\nChapter 20\\n\\n\\nI sat one evening in my laboratory; the sun had set, and the moon was just\\nrising from the sea; I had not sufficient light for my employment, and I\\nremained idle, in a pause of consideration of whether I should leave my\\nlabour for the night or hasten its conclusion by an unremitting attention\\nto it. As I sat, a train of reflection occurred to me which led me to\\nconsider the effects of what I was now doing. Three years before, I was\\nengaged in the same manner and had created a fiend whose unparalleled\\nbarbarity had desolated my heart and filled it for ever with the bitterest\\nremorse. I was now about to form another being of whose dispositions I was\\nalike ignorant; she might become ten thousand times more malignant than her\\nmate and delight, for its own sake, in murder and wretchedness. He had\\nsworn to quit the neighbourhood of man and hide himself in deserts, but she\\nhad not; and she, who in all probability was to become a thinking and\\nreasoning animal, might refuse to comply with a compact made before her\\ncreation. They might even hate each other; the creature who already lived\\nloathed his own deformity, and might he not conceive a greater abhorrence\\nfor it when it came before his eyes in the female form? She also might turn\\nwith disgust from him to the superior beauty of man; she might quit him,\\nand he be again alone, exasperated by the fresh provocation of being\\ndeserted by one of his own species.\\n\\nEven if they were to leave Europe and inhabit the deserts of the new world,\\nyet one of the first results of those sympathies for which the dæmon\\nthirsted would be children, and a race of devils would be propagated upon\\nthe earth who might make the very existence of the species of man a\\ncondition precarious and full of terror. Had I right, for my own benefit,\\nto inflict this curse upon everlasting generations? I had before been moved\\nby the sophisms of the being I had created; I had been struck senseless by\\nhis fiendish threats; but now, for the first time, the wickedness of my\\npromise burst upon me; I shuddered to think that future ages might curse me\\nas their pest, whose selfishness had not hesitated to buy its own peace at\\nthe price, perhaps, of the existence of the whole human race.\\n\\nI trembled and my heart failed within me, when, on looking up, I saw by\\nthe light of the moon the dæmon at the casement. A ghastly grin\\nwrinkled his lips as he gazed on me, where I sat fulfilling the task\\nwhich he had allotted to me. Yes, he had followed me in my travels; he\\nhad loitered in forests, hid himself in caves, or taken refuge in wide\\nand desert heaths; and he now came to mark my progress and claim the\\nfulfilment of my promise.\\n\\nAs I looked on him, his countenance expressed the utmost extent of\\nmalice and treachery. I thought with a sensation of madness on my\\npromise of creating another like to him, and trembling with passion,\\ntore to pieces the thing on which I was engaged. The wretch saw me\\ndestroy the creature on whose future existence he depended for\\nhappiness, and with a howl of devilish despair and revenge, withdrew.\\n\\nI left the room, and locking the door, made a solemn vow in my own\\nheart never to resume my labours; and then, with trembling steps, I\\nsought my own apartment. I was alone; none were near me to dissipate\\nthe gloom and relieve me from the sickening oppression of the most\\nterrible reveries.\\n\\nSeveral hours passed, and I remained near my window gazing on the sea;\\nit was almost motionless, for the winds were hushed, and all nature\\nreposed under the eye of the quiet moon. A few fishing vessels alone\\nspecked the water, and now and then the gentle breeze wafted the sound\\nof voices as the fishermen called to one another. I felt the silence,\\nalthough I was hardly conscious of its extreme profundity, until my ear\\nwas suddenly arrested by the paddling of oars near the shore, and a\\nperson landed close to my house.\\n\\nIn a few minutes after, I heard the creaking of my door, as if some one\\nendeavoured to open it softly. I trembled from head to foot; I felt a\\npresentiment of who it was and wished to rouse one of the peasants who\\ndwelt in a cottage not far from mine; but I was overcome by the sensation\\nof helplessness, so often felt in frightful dreams, when you in vain\\nendeavour to fly from an impending danger, and was rooted to the spot.\\n\\nPresently I heard the sound of footsteps along the passage; the door\\nopened, and the wretch whom I dreaded appeared. Shutting the door, he\\napproached me and said in a smothered voice,\\n\\n“You have destroyed the work which you began; what is it that you\\nintend? Do you dare to break your promise? I have endured toil and misery;\\nI left Switzerland with you; I crept along the shores of the Rhine, among\\nits willow islands and over the summits of its hills. I have dwelt many\\nmonths in the heaths of England and among the deserts of Scotland. I have\\nendured incalculable fatigue, and cold, and hunger; do you dare destroy my\\nhopes?”\\n\\n“Begone! I do break my promise; never will I create another like\\nyourself, equal in deformity and wickedness.”\\n\\n“Slave, I before reasoned with you, but you have proved yourself\\nunworthy of my condescension. Remember that I have power; you believe\\nyourself miserable, but I can make you so wretched that the light of\\nday will be hateful to you. You are my creator, but I am your master;\\nobey!”\\n\\n“The hour of my irresolution is past, and the period of your power is\\narrived. Your threats cannot move me to do an act of wickedness; but\\nthey confirm me in a determination of not creating you a companion in\\nvice. Shall I, in cool blood, set loose upon the earth a dæmon whose\\ndelight is in death and wretchedness? Begone! I am firm, and your\\nwords will only exasperate my rage.”\\n\\nThe monster saw my determination in my face and gnashed his teeth in the\\nimpotence of anger. “Shall each man,” cried he, “find a\\nwife for his bosom, and each beast have his mate, and I be alone? I had\\nfeelings of affection, and they were requited by detestation and scorn.\\nMan! You may hate, but beware! Your hours will pass in dread and misery,\\nand soon the bolt will fall which must ravish from you your happiness for\\never. Are you to be happy while I grovel in the intensity of my\\nwretchedness? You can blast my other passions, but revenge\\nremains—revenge, henceforth dearer than light or food! I may die, but\\nfirst you, my tyrant and tormentor, shall curse the sun that gazes on your\\nmisery. Beware, for I am fearless and therefore powerful. I will watch with\\nthe wiliness of a snake, that I may sting with its venom. Man, you shall\\nrepent of the injuries you inflict.”\\n\\n“Devil, cease; and do not poison the air with these sounds of malice.\\nI have declared my resolution to you, and I am no coward to bend\\nbeneath words. Leave me; I am inexorable.”\\n\\n“It is well. I go; but remember, I shall be with you on your\\nwedding-night.”\\n\\nI started forward and exclaimed, “Villain! Before you sign my\\ndeath-warrant, be sure that you are yourself safe.”\\n\\nI would have seized him, but he eluded me and quitted the house with\\nprecipitation. In a few moments I saw him in his boat, which shot\\nacross the waters with an arrowy swiftness and was soon lost amidst the\\nwaves.\\n\\nAll was again silent, but his words rang in my ears. I burned with rage to\\npursue the murderer of my peace and precipitate him into the ocean. I\\nwalked up and down my room hastily and perturbed, while my imagination\\nconjured up a thousand images to torment and sting me. Why had I not\\nfollowed him and closed with him in mortal strife? But I had suffered him\\nto depart, and he had directed his course towards the mainland. I shuddered\\nto think who might be the next victim sacrificed to his insatiate revenge.\\nAnd then I thought again of his words—“_I will be with you on\\nyour wedding-night._” That, then, was the period fixed for the\\nfulfilment of my destiny. In that hour I should die and at once satisfy and\\nextinguish his malice. The prospect did not move me to fear; yet when I\\nthought of my beloved Elizabeth, of her tears and endless sorrow, when she\\nshould find her lover so barbarously snatched from her, tears, the first I\\nhad shed for many months, streamed from my eyes, and I resolved not to fall\\nbefore my enemy without a bitter struggle.\\n\\nThe night passed away, and the sun rose from the ocean; my feelings became\\ncalmer, if it may be called calmness when the violence of rage sinks into\\nthe depths of despair. I left the house, the horrid scene of the last\\nnight’s contention, and walked on the beach of the sea, which I\\nalmost regarded as an insuperable barrier between me and my fellow\\ncreatures; nay, a wish that such should prove the fact stole across me. I\\ndesired that I might pass my life on that barren rock, wearily, it is true,\\nbut uninterrupted by any sudden shock of misery. If I returned, it was to\\nbe sacrificed or to see those whom I most loved die under the grasp of a\\ndæmon whom I had myself created.\\n\\nI walked about the isle like a restless spectre, separated from all it\\nloved and miserable in the separation. When it became noon, and the\\nsun rose higher, I lay down on the grass and was overpowered by a deep\\nsleep. I had been awake the whole of the preceding night, my nerves\\nwere agitated, and my eyes inflamed by watching and misery. The sleep\\ninto which I now sank refreshed me; and when I awoke, I again felt as\\nif I belonged to a race of human beings like myself, and I began to\\nreflect upon what had passed with greater composure; yet still the\\nwords of the fiend rang in my ears like a death-knell; they appeared\\nlike a dream, yet distinct and oppressive as a reality.\\n\\nThe sun had far descended, and I still sat on the shore, satisfying my\\nappetite, which had become ravenous, with an oaten cake, when I saw a\\nfishing-boat land close to me, and one of the men brought me a packet;\\nit contained letters from Geneva, and one from Clerval entreating me to\\njoin him. He said that he was wearing away his time fruitlessly where\\nhe was, that letters from the friends he had formed in London desired\\nhis return to complete the negotiation they had entered into for his\\nIndian enterprise. He could not any longer delay his departure; but as\\nhis journey to London might be followed, even sooner than he now\\nconjectured, by his longer voyage, he entreated me to bestow as much of\\nmy society on him as I could spare. He besought me, therefore, to\\nleave my solitary isle and to meet him at Perth, that we might proceed\\nsouthwards together. This letter in a degree recalled me to life, and\\nI determined to quit my island at the expiration of two days.\\n\\nYet, before I departed, there was a task to perform, on which I shuddered\\nto reflect; I must pack up my chemical instruments, and for that purpose I\\nmust enter the room which had been the scene of my odious work, and I must\\nhandle those utensils the sight of which was sickening to me. The next\\nmorning, at daybreak, I summoned sufficient courage and unlocked the door\\nof my laboratory. The remains of the half-finished creature, whom I had\\ndestroyed, lay scattered on the floor, and I almost felt as if I had\\nmangled the living flesh of a human being. I paused to collect myself and\\nthen entered the chamber. With trembling hand I conveyed the instruments\\nout of the room, but I reflected that I ought not to leave the relics of my\\nwork to excite the horror and suspicion of the peasants; and I accordingly\\nput them into a basket, with a great quantity of stones, and laying them\\nup, determined to throw them into the sea that very night; and in the\\nmeantime I sat upon the beach, employed in cleaning and arranging my\\nchemical apparatus.\\n\\nNothing could be more complete than the alteration that had taken place\\nin my feelings since the night of the appearance of the dæmon. I had\\nbefore regarded my promise with a gloomy despair as a thing that, with\\nwhatever consequences, must be fulfilled; but I now felt as if a film\\nhad been taken from before my eyes and that I for the first time saw\\nclearly. The idea of renewing my labours did not for one instant occur\\nto me; the threat I had heard weighed on my thoughts, but I did not\\nreflect that a voluntary act of mine could avert it. I had resolved in\\nmy own mind that to create another like the fiend I had first made\\nwould be an act of the basest and most atrocious selfishness, and I\\nbanished from my mind every thought that could lead to a different\\nconclusion.\\n\\nBetween two and three in the morning the moon rose; and I then, putting my\\nbasket aboard a little skiff, sailed out about four miles from the shore.\\nThe scene was perfectly solitary; a few boats were returning towards land,\\nbut I sailed away from them. I felt as if I was about the commission of a\\ndreadful crime and avoided with shuddering anxiety any encounter with my\\nfellow creatures. At one time the moon, which had before been clear, was\\nsuddenly overspread by a thick cloud, and I took advantage of the moment of\\ndarkness and cast my basket into the sea; I listened to the gurgling sound\\nas it sank and then sailed away from the spot. The sky became clouded, but\\nthe air was pure, although chilled by the northeast breeze that was then\\nrising. But it refreshed me and filled me with such agreeable sensations\\nthat I resolved to prolong my stay on the water, and fixing the rudder in a\\ndirect position, stretched myself at the bottom of the boat. Clouds hid the\\nmoon, everything was obscure, and I heard only the sound of the boat as its\\nkeel cut through the waves; the murmur lulled me, and in a short time I\\nslept soundly.\\n\\nI do not know how long I remained in this situation, but when I awoke I\\nfound that the sun had already mounted considerably. The wind was high, and\\nthe waves continually threatened the safety of my little skiff. I found\\nthat the wind was northeast and must have driven me far from the coast from\\nwhich I had embarked. I endeavoured to change my course but quickly found\\nthat if I again made the attempt the boat would be instantly filled with\\nwater. Thus situated, my only resource was to drive before the wind. I\\nconfess that I felt a few sensations of terror. I had no compass with me\\nand was so slenderly acquainted with the geography of this part of the\\nworld that the sun was of little benefit to me. I might be driven into the\\nwide Atlantic and feel all the tortures of starvation or be swallowed up in\\nthe immeasurable waters that roared and buffeted around me. I had already\\nbeen out many hours and felt the torment of a burning thirst, a prelude to\\nmy other sufferings. I looked on the heavens, which were covered by clouds\\nthat flew before the wind, only to be replaced by others; I looked upon the\\nsea; it was to be my grave. “Fiend,” I exclaimed, “your\\ntask is already fulfilled!” I thought of Elizabeth, of my father, and\\nof Clerval—all left behind, on whom the monster might satisfy his\\nsanguinary and merciless passions. This idea plunged me into a reverie so\\ndespairing and frightful that even now, when the scene is on the point of\\nclosing before me for ever, I shudder to reflect on it.\\n\\nSome hours passed thus; but by degrees, as the sun declined towards the\\nhorizon, the wind died away into a gentle breeze and the sea became\\nfree from breakers. But these gave place to a heavy swell; I felt sick\\nand hardly able to hold the rudder, when suddenly I saw a line of high\\nland towards the south.\\n\\nAlmost spent, as I was, by fatigue and the dreadful suspense I endured\\nfor several hours, this sudden certainty of life rushed like a flood of\\nwarm joy to my heart, and tears gushed from my eyes.\\n\\nHow mutable are our feelings, and how strange is that clinging love we have\\nof life even in the excess of misery! I constructed another sail with a\\npart of my dress and eagerly steered my course towards the land. It had a\\nwild and rocky appearance, but as I approached nearer I easily perceived\\nthe traces of cultivation. I saw vessels near the shore and found myself\\nsuddenly transported back to the neighbourhood of civilised man. I\\ncarefully traced the windings of the land and hailed a steeple which I at\\nlength saw issuing from behind a small promontory. As I was in a state of\\nextreme debility, I resolved to sail directly towards the town, as a place\\nwhere I could most easily procure nourishment. Fortunately I had money with\\nme. As I turned the promontory I perceived a small neat town and a good\\nharbour, which I entered, my heart bounding with joy at my unexpected\\nescape.\\n\\nAs I was occupied in fixing the boat and arranging the sails, several\\npeople crowded towards the spot. They seemed much surprised at my\\nappearance, but instead of offering me any assistance, whispered\\ntogether with gestures that at any other time might have produced in me\\na slight sensation of alarm. As it was, I merely remarked that they\\nspoke English, and I therefore addressed them in that language. “My\\ngood friends,” said I, “will you be so kind as to tell me the name of\\nthis town and inform me where I am?”\\n\\n“You will know that soon enough,” replied a man with a hoarse voice.\\n“Maybe you are come to a place that will not prove much to your taste,\\nbut you will not be consulted as to your quarters, I promise you.”\\n\\nI was exceedingly surprised on receiving so rude an answer from a\\nstranger, and I was also disconcerted on perceiving the frowning and\\nangry countenances of his companions. “Why do you answer me so\\nroughly?” I replied. “Surely it is not the custom of Englishmen to\\nreceive strangers so inhospitably.”\\n\\n“I do not know,” said the man, “what the custom of the\\nEnglish may be, but it is the custom of the Irish to hate villains.”\\n\\nWhile this strange dialogue continued, I perceived the crowd rapidly\\nincrease. Their faces expressed a mixture of curiosity and anger, which\\nannoyed and in some degree alarmed me. I inquired the way to the inn, but\\nno one replied. I then moved forward, and a murmuring sound arose from the\\ncrowd as they followed and surrounded me, when an ill-looking man\\napproaching tapped me on the shoulder and said, “Come, sir, you must\\nfollow me to Mr. Kirwin’s to give an account of yourself.”\\n\\n“Who is Mr. Kirwin? Why am I to give an account of myself? Is not\\nthis a free country?”\\n\\n“Ay, sir, free enough for honest folks. Mr. Kirwin is a magistrate,\\nand you are to give an account of the death of a gentleman who was\\nfound murdered here last night.”\\n\\nThis answer startled me, but I presently recovered myself. I was innocent;\\nthat could easily be proved; accordingly I followed my conductor in silence\\nand was led to one of the best houses in the town. I was ready to sink from\\nfatigue and hunger, but being surrounded by a crowd, I thought it politic\\nto rouse all my strength, that no physical debility might be construed into\\napprehension or conscious guilt. Little did I then expect the calamity that\\nwas in a few moments to overwhelm me and extinguish in horror and despair\\nall fear of ignominy or death.\\n\\nI must pause here, for it requires all my fortitude to recall the memory of\\nthe frightful events which I am about to relate, in proper detail, to my\\nrecollection.\\n\\n\\n\\n\\nChapter 21\\n\\n\\nI was soon introduced into the presence of the magistrate, an old\\nbenevolent man with calm and mild manners. He looked upon me, however,\\nwith some degree of severity, and then, turning towards my conductors,\\nhe asked who appeared as witnesses on this occasion.\\n\\nAbout half a dozen men came forward; and, one being selected by the\\nmagistrate, he deposed that he had been out fishing the night before with\\nhis son and brother-in-law, Daniel Nugent, when, about ten o’clock,\\nthey observed a strong northerly blast rising, and they accordingly put in\\nfor port. It was a very dark night, as the moon had not yet risen; they did\\nnot land at the harbour, but, as they had been accustomed, at a creek about\\ntwo miles below. He walked on first, carrying a part of the fishing tackle,\\nand his companions followed him at some distance. As he was proceeding\\nalong the sands, he struck his foot against something and fell at his\\nlength on the ground. His companions came up to assist him, and by the\\nlight of their lantern they found that he had fallen on the body of a man,\\nwho was to all appearance dead. Their first supposition was that it was the\\ncorpse of some person who had been drowned and was thrown on shore by the\\nwaves, but on examination they found that the clothes were not wet and even\\nthat the body was not then cold. They instantly carried it to the cottage\\nof an old woman near the spot and endeavoured, but in vain, to restore it\\nto life. It appeared to be a handsome young man, about five and twenty\\nyears of age. He had apparently been strangled, for there was no sign of\\nany violence except the black mark of fingers on his neck.\\n\\nThe first part of this deposition did not in the least interest me, but\\nwhen the mark of the fingers was mentioned I remembered the murder of\\nmy brother and felt myself extremely agitated; my limbs trembled, and a\\nmist came over my eyes, which obliged me to lean on a chair for\\nsupport. The magistrate observed me with a keen eye and of course drew\\nan unfavourable augury from my manner.\\n\\nThe son confirmed his father’s account, but when Daniel Nugent was\\ncalled he swore positively that just before the fall of his companion, he\\nsaw a boat, with a single man in it, at a short distance from the shore;\\nand as far as he could judge by the light of a few stars, it was the same\\nboat in which I had just landed.\\n\\nA woman deposed that she lived near the beach and was standing at the door\\nof her cottage, waiting for the return of the fishermen, about an hour\\nbefore she heard of the discovery of the body, when she saw a boat with\\nonly one man in it push off from that part of the shore where the corpse\\nwas afterwards found.\\n\\nAnother woman confirmed the account of the fishermen having brought the\\nbody into her house; it was not cold. They put it into a bed and\\nrubbed it, and Daniel went to the town for an apothecary, but life was\\nquite gone.\\n\\nSeveral other men were examined concerning my landing, and they agreed\\nthat, with the strong north wind that had arisen during the night, it\\nwas very probable that I had beaten about for many hours and had been\\nobliged to return nearly to the same spot from which I had departed.\\nBesides, they observed that it appeared that I had brought the body\\nfrom another place, and it was likely that as I did not appear to know\\nthe shore, I might have put into the harbour ignorant of the distance\\nof the town of —— from the place where I had deposited the corpse.\\n\\nMr. Kirwin, on hearing this evidence, desired that I should be taken into\\nthe room where the body lay for interment, that it might be observed what\\neffect the sight of it would produce upon me. This idea was probably\\nsuggested by the extreme agitation I had exhibited when the mode of the\\nmurder had been described. I was accordingly conducted, by the magistrate\\nand several other persons, to the inn. I could not help being struck by the\\nstrange coincidences that had taken place during this eventful night; but,\\nknowing that I had been conversing with several persons in the island I had\\ninhabited about the time that the body had been found, I was perfectly\\ntranquil as to the consequences of the affair.\\n\\nI entered the room where the corpse lay and was led up to the coffin. How\\ncan I describe my sensations on beholding it? I feel yet parched with\\nhorror, nor can I reflect on that terrible moment without shuddering and\\nagony. The examination, the presence of the magistrate and witnesses,\\npassed like a dream from my memory when I saw the lifeless form of Henry\\nClerval stretched before me. I gasped for breath, and throwing myself on\\nthe body, I exclaimed, “Have my murderous machinations deprived you\\nalso, my dearest Henry, of life? Two I have already destroyed; other\\nvictims await their destiny; but you, Clerval, my friend, my\\nbenefactor—”\\n\\nThe human frame could no longer support the agonies that I endured, and\\nI was carried out of the room in strong convulsions.\\n\\nA fever succeeded to this. I lay for two months on the point of death; my\\nravings, as I afterwards heard, were frightful; I called myself the\\nmurderer of William, of Justine, and of Clerval. Sometimes I entreated my\\nattendants to assist me in the destruction of the fiend by whom I was\\ntormented; and at others I felt the fingers of the monster already grasping\\nmy neck, and screamed aloud with agony and terror. Fortunately, as I spoke\\nmy native language, Mr. Kirwin alone understood me; but my gestures and\\nbitter cries were sufficient to affright the other witnesses.\\n\\nWhy did I not die? More miserable than man ever was before, why did I not\\nsink into forgetfulness and rest? Death snatches away many blooming\\nchildren, the only hopes of their doting parents; how many brides and\\nyouthful lovers have been one day in the bloom of health and hope, and the\\nnext a prey for worms and the decay of the tomb! Of what materials was I\\nmade that I could thus resist so many shocks, which, like the turning of\\nthe wheel, continually renewed the torture?\\n\\nBut I was doomed to live and in two months found myself as awaking from\\na dream, in a prison, stretched on a wretched bed, surrounded by\\ngaolers, turnkeys, bolts, and all the miserable apparatus of a dungeon.\\nIt was morning, I remember, when I thus awoke to understanding; I had\\nforgotten the particulars of what had happened and only felt as if some\\ngreat misfortune had suddenly overwhelmed me; but when I looked around\\nand saw the barred windows and the squalidness of the room in which I\\nwas, all flashed across my memory and I groaned bitterly.\\n\\nThis sound disturbed an old woman who was sleeping in a chair beside\\nme. She was a hired nurse, the wife of one of the turnkeys, and her\\ncountenance expressed all those bad qualities which often characterise\\nthat class. The lines of her face were hard and rude, like that of\\npersons accustomed to see without sympathising in sights of misery. Her\\ntone expressed her entire indifference; she addressed me in English,\\nand the voice struck me as one that I had heard during my sufferings.\\n\\n“Are you better now, sir?” said she.\\n\\nI replied in the same language, with a feeble voice, “I believe I am;\\nbut if it be all true, if indeed I did not dream, I am sorry that I am\\nstill alive to feel this misery and horror.”\\n\\n“For that matter,” replied the old woman, “if you mean about the\\ngentleman you murdered, I believe that it were better for you if you\\nwere dead, for I fancy it will go hard with you! However, that’s none\\nof my business; I am sent to nurse you and get you well; I do my duty\\nwith a safe conscience; it were well if everybody did the same.”\\n\\nI turned with loathing from the woman who could utter so unfeeling a\\nspeech to a person just saved, on the very edge of death; but I felt\\nlanguid and unable to reflect on all that had passed. The whole series\\nof my life appeared to me as a dream; I sometimes doubted if indeed it\\nwere all true, for it never presented itself to my mind with the force\\nof reality.\\n\\nAs the images that floated before me became more distinct, I grew\\nfeverish; a darkness pressed around me; no one was near me who soothed\\nme with the gentle voice of love; no dear hand supported me. The\\nphysician came and prescribed medicines, and the old woman prepared\\nthem for me; but utter carelessness was visible in the first, and the\\nexpression of brutality was strongly marked in the visage of the\\nsecond. Who could be interested in the fate of a murderer but the\\nhangman who would gain his fee?\\n\\nThese were my first reflections, but I soon learned that Mr. Kirwin had\\nshown me extreme kindness. He had caused the best room in the prison\\nto be prepared for me (wretched indeed was the best); and it was he who\\nhad provided a physician and a nurse. It is true, he seldom came to\\nsee me, for although he ardently desired to relieve the sufferings of\\nevery human creature, he did not wish to be present at the agonies and\\nmiserable ravings of a murderer. He came, therefore, sometimes to see\\nthat I was not neglected, but his visits were short and with long\\nintervals.\\n\\nOne day, while I was gradually recovering, I was seated in a chair, my eyes\\nhalf open and my cheeks livid like those in death. I was overcome by gloom\\nand misery and often reflected I had better seek death than desire to\\nremain in a world which to me was replete with wretchedness. At one time I\\nconsidered whether I should not declare myself guilty and suffer the\\npenalty of the law, less innocent than poor Justine had been. Such were my\\nthoughts when the door of my apartment was opened and Mr. Kirwin entered.\\nHis countenance expressed sympathy and compassion; he drew a chair close to\\nmine and addressed me in French,\\n\\n“I fear that this place is very shocking to you; can I do anything to\\nmake you more comfortable?”\\n\\n“I thank you, but all that you mention is nothing to me; on the whole\\nearth there is no comfort which I am capable of receiving.”\\n\\n“I know that the sympathy of a stranger can be but of little relief to\\none borne down as you are by so strange a misfortune. But you will, I\\nhope, soon quit this melancholy abode, for doubtless evidence can\\neasily be brought to free you from the criminal charge.”\\n\\n“That is my least concern; I am, by a course of strange events, become\\nthe most miserable of mortals. Persecuted and tortured as I am and\\nhave been, can death be any evil to me?”\\n\\n“Nothing indeed could be more unfortunate and agonising than the\\nstrange chances that have lately occurred. You were thrown, by some\\nsurprising accident, on this shore, renowned for its hospitality,\\nseized immediately, and charged with murder. The first sight that was\\npresented to your eyes was the body of your friend, murdered in so\\nunaccountable a manner and placed, as it were, by some fiend across\\nyour path.”\\n\\nAs Mr. Kirwin said this, notwithstanding the agitation I endured on\\nthis retrospect of my sufferings, I also felt considerable surprise at\\nthe knowledge he seemed to possess concerning me. I suppose some\\nastonishment was exhibited in my countenance, for Mr. Kirwin hastened\\nto say,\\n\\n“Immediately upon your being taken ill, all the papers that were on\\nyour person were brought me, and I examined them that I might discover some\\ntrace by which I could send to your relations an account of your misfortune\\nand illness. I found several letters, and, among others, one which I\\ndiscovered from its commencement to be from your father. I instantly wrote\\nto Geneva; nearly two months have elapsed since the departure of my letter.\\nBut you are ill; even now you tremble; you are unfit for agitation of any\\nkind.”\\n\\n“This suspense is a thousand times worse than the most horrible event;\\ntell me what new scene of death has been acted, and whose murder I am\\nnow to lament?”\\n\\n“Your family is perfectly well,” said Mr. Kirwin with\\ngentleness; “and someone, a friend, is come to visit you.”\\n\\nI know not by what chain of thought the idea presented itself, but it\\ninstantly darted into my mind that the murderer had come to mock at my\\nmisery and taunt me with the death of Clerval, as a new incitement for\\nme to comply with his hellish desires. I put my hand before my eyes,\\nand cried out in agony,\\n\\n“Oh! Take him away! I cannot see him; for God’s sake, do not\\nlet him enter!”\\n\\nMr. Kirwin regarded me with a troubled countenance. He could not help\\nregarding my exclamation as a presumption of my guilt and said in\\nrather a severe tone,\\n\\n“I should have thought, young man, that the presence of your father\\nwould have been welcome instead of inspiring such violent repugnance.”\\n\\n“My father!” cried I, while every feature and every muscle was relaxed\\nfrom anguish to pleasure. “Is my father indeed come? How kind, how\\nvery kind! But where is he, why does he not hasten to me?”\\n\\nMy change of manner surprised and pleased the magistrate; perhaps he\\nthought that my former exclamation was a momentary return of delirium,\\nand now he instantly resumed his former benevolence. He rose and\\nquitted the room with my nurse, and in a moment my father entered it.\\n\\nNothing, at this moment, could have given me greater pleasure than the\\narrival of my father. I stretched out my hand to him and cried,\\n\\n“Are you then safe—and Elizabeth—and Ernest?”\\n\\nMy father calmed me with assurances of their welfare and endeavoured, by\\ndwelling on these subjects so interesting to my heart, to raise my\\ndesponding spirits; but he soon felt that a prison cannot be the abode of\\ncheerfulness. “What a place is this that you inhabit, my son!”\\nsaid he, looking mournfully at the barred windows and wretched appearance\\nof the room. “You travelled to seek happiness, but a fatality seems\\nto pursue you. And poor Clerval—”\\n\\nThe name of my unfortunate and murdered friend was an agitation too\\ngreat to be endured in my weak state; I shed tears.\\n\\n“Alas! Yes, my father,” replied I; “some destiny of the\\nmost horrible kind hangs over me, and I must live to fulfil it, or surely I\\nshould have died on the coffin of Henry.”\\n\\nWe were not allowed to converse for any length of time, for the\\nprecarious state of my health rendered every precaution necessary that\\ncould ensure tranquillity. Mr. Kirwin came in and insisted that my\\nstrength should not be exhausted by too much exertion. But the\\nappearance of my father was to me like that of my good angel, and I\\ngradually recovered my health.\\n\\nAs my sickness quitted me, I was absorbed by a gloomy and black\\nmelancholy that nothing could dissipate. The image of Clerval was\\nfor ever before me, ghastly and murdered. More than once the agitation\\ninto which these reflections threw me made my friends dread a dangerous\\nrelapse. Alas! Why did they preserve so miserable and detested a\\nlife? It was surely that I might fulfil my destiny, which is now\\ndrawing to a close. Soon, oh, very soon, will death extinguish these\\nthrobbings and relieve me from the mighty weight of anguish that bears\\nme to the dust; and, in executing the award of justice, I shall also\\nsink to rest. Then the appearance of death was distant, although the\\nwish was ever present to my thoughts; and I often sat for hours\\nmotionless and speechless, wishing for some mighty revolution that\\nmight bury me and my destroyer in its ruins.\\n\\nThe season of the assizes approached. I had already been three months\\nin prison, and although I was still weak and in continual danger of a\\nrelapse, I was obliged to travel nearly a hundred miles to the country\\ntown where the court was held. Mr. Kirwin charged himself with every\\ncare of collecting witnesses and arranging my defence. I was spared\\nthe disgrace of appearing publicly as a criminal, as the case was not\\nbrought before the court that decides on life and death. The grand\\njury rejected the bill, on its being proved that I was on the Orkney\\nIslands at the hour the body of my friend was found; and a fortnight\\nafter my removal I was liberated from prison.\\n\\nMy father was enraptured on finding me freed from the vexations of a\\ncriminal charge, that I was again allowed to breathe the fresh\\natmosphere and permitted to return to my native country. I did not\\nparticipate in these feelings, for to me the walls of a dungeon or a\\npalace were alike hateful. The cup of life was poisoned for ever, and\\nalthough the sun shone upon me, as upon the happy and gay of heart, I\\nsaw around me nothing but a dense and frightful darkness, penetrated by\\nno light but the glimmer of two eyes that glared upon me. Sometimes\\nthey were the expressive eyes of Henry, languishing in death, the dark\\norbs nearly covered by the lids and the long black lashes that fringed\\nthem; sometimes it was the watery, clouded eyes of the monster, as I\\nfirst saw them in my chamber at Ingolstadt.\\n\\nMy father tried to awaken in me the feelings of affection. He talked\\nof Geneva, which I should soon visit, of Elizabeth and Ernest; but\\nthese words only drew deep groans from me. Sometimes, indeed, I felt a\\nwish for happiness and thought with melancholy delight of my beloved\\ncousin or longed, with a devouring _maladie du pays_, to see once more\\nthe blue lake and rapid Rhone, that had been so dear to me in early\\nchildhood; but my general state of feeling was a torpor in which a\\nprison was as welcome a residence as the divinest scene in nature; and\\nthese fits were seldom interrupted but by paroxysms of anguish and\\ndespair. At these moments I often endeavoured to put an end to the\\nexistence I loathed, and it required unceasing attendance and vigilance\\nto restrain me from committing some dreadful act of violence.\\n\\nYet one duty remained to me, the recollection of which finally\\ntriumphed over my selfish despair. It was necessary that I should\\nreturn without delay to Geneva, there to watch over the lives of those\\nI so fondly loved and to lie in wait for the murderer, that if any\\nchance led me to the place of his concealment, or if he dared again to\\nblast me by his presence, I might, with unfailing aim, put an end to\\nthe existence of the monstrous image which I had endued with the\\nmockery of a soul still more monstrous. My father still desired to\\ndelay our departure, fearful that I could not sustain the fatigues of a\\njourney, for I was a shattered wreck—the shadow of a human being. My\\nstrength was gone. I was a mere skeleton, and fever night and day\\npreyed upon my wasted frame.\\n\\nStill, as I urged our leaving Ireland with such inquietude and impatience,\\nmy father thought it best to yield. We took our passage on board a vessel\\nbound for Havre-de-Grace and sailed with a fair wind from the Irish shores.\\nIt was midnight. I lay on the deck looking at the stars and listening to\\nthe dashing of the waves. I hailed the darkness that shut Ireland from my\\nsight, and my pulse beat with a feverish joy when I reflected that I should\\nsoon see Geneva. The past appeared to me in the light of a frightful dream;\\nyet the vessel in which I was, the wind that blew me from the detested\\nshore of Ireland, and the sea which surrounded me, told me too forcibly\\nthat I was deceived by no vision and that Clerval, my friend and dearest\\ncompanion, had fallen a victim to me and the monster of my creation. I\\nrepassed, in my memory, my whole life; my quiet happiness while residing\\nwith my family in Geneva, the death of my mother, and my departure for\\nIngolstadt. I remembered, shuddering, the mad enthusiasm that hurried me on\\nto the creation of my hideous enemy, and I called to mind the night in\\nwhich he first lived. I was unable to pursue the train of thought; a\\nthousand feelings pressed upon me, and I wept bitterly.\\n\\nEver since my recovery from the fever, I had been in the custom of taking\\nevery night a small quantity of laudanum, for it was by means of this drug\\nonly that I was enabled to gain the rest necessary for the preservation of\\nlife. Oppressed by the recollection of my various misfortunes, I now\\nswallowed double my usual quantity and soon slept profoundly. But sleep did\\nnot afford me respite from thought and misery; my dreams presented a\\nthousand objects that scared me. Towards morning I was possessed by a kind\\nof nightmare; I felt the fiend’s grasp in my neck and could not free\\nmyself from it; groans and cries rang in my ears. My father, who was\\nwatching over me, perceiving my restlessness, awoke me; the dashing waves\\nwere around, the cloudy sky above, the fiend was not here: a sense of\\nsecurity, a feeling that a truce was established between the present hour\\nand the irresistible, disastrous future imparted to me a kind of calm\\nforgetfulness, of which the human mind is by its structure peculiarly\\nsusceptible.\\n\\n\\n\\n\\nChapter 22\\n\\n\\nThe voyage came to an end. We landed, and proceeded to Paris. I soon\\nfound that I had overtaxed my strength and that I must repose before I\\ncould continue my journey. My father’s care and attentions were\\nindefatigable, but he did not know the origin of my sufferings and\\nsought erroneous methods to remedy the incurable ill. He wished me to\\nseek amusement in society. I abhorred the face of man. Oh, not\\nabhorred! They were my brethren, my fellow beings, and I felt\\nattracted even to the most repulsive among them, as to creatures of an\\nangelic nature and celestial mechanism. But I felt that I had no right\\nto share their intercourse. I had unchained an enemy among them whose\\njoy it was to shed their blood and to revel in their groans. How they\\nwould, each and all, abhor me and hunt me from the world, did they know\\nmy unhallowed acts and the crimes which had their source in me!\\n\\nMy father yielded at length to my desire to avoid society and strove by\\nvarious arguments to banish my despair. Sometimes he thought that I\\nfelt deeply the degradation of being obliged to answer a charge of\\nmurder, and he endeavoured to prove to me the futility of pride.\\n\\n“Alas! My father,” said I, “how little do you know me. \\nHuman beings, their feelings and passions, would indeed be degraded if such\\na wretch as I felt pride. Justine, poor unhappy Justine, was as innocent\\nas I, and she suffered the same charge; she died for it; and I am the cause\\nof this—I murdered her. William, Justine, and Henry—they all\\ndied by my hands.”\\n\\nMy father had often, during my imprisonment, heard me make the same\\nassertion; when I thus accused myself, he sometimes seemed to desire an\\nexplanation, and at others he appeared to consider it as the offspring of\\ndelirium, and that, during my illness, some idea of this kind had presented\\nitself to my imagination, the remembrance of which I preserved in my\\nconvalescence. I avoided explanation and maintained a continual silence\\nconcerning the wretch I had created. I had a persuasion that I should be\\nsupposed mad, and this in itself would for ever have chained my tongue. But,\\nbesides, I could not bring myself to disclose a secret which would fill my\\nhearer with consternation and make fear and unnatural horror the inmates of\\nhis breast. I checked, therefore, my impatient thirst for sympathy and was\\nsilent when I would have given the world to have confided the fatal secret.\\nYet, still, words like those I have recorded would burst uncontrollably\\nfrom me. I could offer no explanation of them, but their truth in part\\nrelieved the burden of my mysterious woe.\\n\\nUpon this occasion my father said, with an expression of unbounded wonder,\\n“My dearest Victor, what infatuation is this? My dear son, I entreat\\nyou never to make such an assertion again.”\\n\\n“I am not mad,” I cried energetically; “the sun and the heavens, who\\nhave viewed my operations, can bear witness of my truth. I am the\\nassassin of those most innocent victims; they died by my machinations.\\nA thousand times would I have shed my own blood, drop by drop, to have\\nsaved their lives; but I could not, my father, indeed I could not\\nsacrifice the whole human race.”\\n\\nThe conclusion of this speech convinced my father that my ideas were\\nderanged, and he instantly changed the subject of our conversation and\\nendeavoured to alter the course of my thoughts. He wished as much as\\npossible to obliterate the memory of the scenes that had taken place in\\nIreland and never alluded to them or suffered me to speak of my\\nmisfortunes.\\n\\nAs time passed away I became more calm; misery had her dwelling in my\\nheart, but I no longer talked in the same incoherent manner of my own\\ncrimes; sufficient for me was the consciousness of them. By the utmost\\nself-violence I curbed the imperious voice of wretchedness, which\\nsometimes desired to declare itself to the whole world, and my manners\\nwere calmer and more composed than they had ever been since my journey\\nto the sea of ice.\\n\\nA few days before we left Paris on our way to Switzerland, I received the\\nfollowing letter from Elizabeth:\\n\\n“My dear Friend,\\n\\n“It gave me the greatest pleasure to receive a letter from my uncle\\ndated at Paris; you are no longer at a formidable distance, and I may\\nhope to see you in less than a fortnight. My poor cousin, how much you\\nmust have suffered! I expect to see you looking even more ill than\\nwhen you quitted Geneva. This winter has been passed most miserably,\\ntortured as I have been by anxious suspense; yet I hope to see peace in\\nyour countenance and to find that your heart is not totally void of\\ncomfort and tranquillity.\\n\\n“Yet I fear that the same feelings now exist that made you so miserable\\na year ago, even perhaps augmented by time. I would not disturb you at\\nthis period, when so many misfortunes weigh upon you, but a\\nconversation that I had with my uncle previous to his departure renders\\nsome explanation necessary before we meet.\\n\\nExplanation! You may possibly say, What can Elizabeth have to explain? If\\nyou really say this, my questions are answered and all my doubts satisfied.\\nBut you are distant from me, and it is possible that you may dread and yet\\nbe pleased with this explanation; and in a probability of this being the\\ncase, I dare not any longer postpone writing what, during your absence, I\\nhave often wished to express to you but have never had the courage to begin.\\n\\n“You well know, Victor, that our union had been the favourite plan of\\nyour parents ever since our infancy. We were told this when young, and\\ntaught to look forward to it as an event that would certainly take\\nplace. We were affectionate playfellows during childhood, and, I\\nbelieve, dear and valued friends to one another as we grew older. But\\nas brother and sister often entertain a lively affection towards each\\nother without desiring a more intimate union, may not such also be our\\ncase? Tell me, dearest Victor. Answer me, I conjure you by our mutual\\nhappiness, with simple truth—Do you not love another?\\n\\n“You have travelled; you have spent several years of your life at\\nIngolstadt; and I confess to you, my friend, that when I saw you last\\nautumn so unhappy, flying to solitude from the society of every\\ncreature, I could not help supposing that you might regret our\\nconnection and believe yourself bound in honour to fulfil the wishes of\\nyour parents, although they opposed themselves to your inclinations.\\nBut this is false reasoning. I confess to you, my friend, that I love\\nyou and that in my airy dreams of futurity you have been my constant\\nfriend and companion. But it is your happiness I desire as well as my\\nown when I declare to you that our marriage would render me eternally\\nmiserable unless it were the dictate of your own free choice. Even now\\nI weep to think that, borne down as you are by the cruellest\\nmisfortunes, you may stifle, by the word _honour_, all hope of that\\nlove and happiness which would alone restore you to yourself. I, who\\nhave so disinterested an affection for you, may increase your miseries\\ntenfold by being an obstacle to your wishes. Ah! Victor, be assured\\nthat your cousin and playmate has too sincere a love for you not to be\\nmade miserable by this supposition. Be happy, my friend; and if you\\nobey me in this one request, remain satisfied that nothing on earth\\nwill have the power to interrupt my tranquillity.\\n\\n“Do not let this letter disturb you; do not answer tomorrow, or the\\nnext day, or even until you come, if it will give you pain. My uncle\\nwill send me news of your health, and if I see but one smile on your\\nlips when we meet, occasioned by this or any other exertion of mine, I\\nshall need no other happiness.\\n\\n“Elizabeth Lavenza.\\n\\n\\n\\n“Geneva, May 18th, 17—”\\n\\n\\n\\nThis letter revived in my memory what I had before forgotten, the threat of\\nthe fiend—“_I will be with you on your\\nwedding-night!_” Such was my sentence, and on that night would the\\ndæmon employ every art to destroy me and tear me from the glimpse of\\nhappiness which promised partly to console my sufferings. On that night he\\nhad determined to consummate his crimes by my death. Well, be it so; a\\ndeadly struggle would then assuredly take place, in which if he were\\nvictorious I should be at peace and his power over me be at an end. If he\\nwere vanquished, I should be a free man. Alas! What freedom? Such as the\\npeasant enjoys when his family have been massacred before his eyes, his\\ncottage burnt, his lands laid waste, and he is turned adrift, homeless,\\npenniless, and alone, but free. Such would be my liberty except that in my\\nElizabeth I possessed a treasure, alas, balanced by those horrors of\\nremorse and guilt which would pursue me until death.\\n\\nSweet and beloved Elizabeth! I read and reread her letter, and some\\nsoftened feelings stole into my heart and dared to whisper paradisiacal\\ndreams of love and joy; but the apple was already eaten, and the\\nangel’s arm bared to drive me from all hope. Yet I would die to make\\nher happy. If the monster executed his threat, death was inevitable; yet,\\nagain, I considered whether my marriage would hasten my fate. My\\ndestruction might indeed arrive a few months sooner, but if my torturer\\nshould suspect that I postponed it, influenced by his menaces, he would\\nsurely find other and perhaps more dreadful means of revenge. He had vowed\\n_to be with me on my wedding-night_, yet he did not consider that\\nthreat as binding him to peace in the meantime, for as if to show me that\\nhe was not yet satiated with blood, he had murdered Clerval immediately\\nafter the enunciation of his threats. I resolved, therefore, that if my\\nimmediate union with my cousin would conduce either to hers or my\\nfather’s happiness, my adversary’s designs against my life\\nshould not retard it a single hour.\\n\\nIn this state of mind I wrote to Elizabeth. My letter was calm and\\naffectionate. “I fear, my beloved girl,” I said, “little happiness\\nremains for us on earth; yet all that I may one day enjoy is centred in\\nyou. Chase away your idle fears; to you alone do I consecrate my life\\nand my endeavours for contentment. I have one secret, Elizabeth, a\\ndreadful one; when revealed to you, it will chill your frame with\\nhorror, and then, far from being surprised at my misery, you will only\\nwonder that I survive what I have endured. I will confide this tale of\\nmisery and terror to you the day after our marriage shall take place,\\nfor, my sweet cousin, there must be perfect confidence between us. But\\nuntil then, I conjure you, do not mention or allude to it. This I most\\nearnestly entreat, and I know you will comply.”\\n\\nIn about a week after the arrival of Elizabeth’s letter we returned\\nto Geneva. The sweet girl welcomed me with warm affection, yet tears were\\nin her eyes as she beheld my emaciated frame and feverish cheeks. I saw a\\nchange in her also. She was thinner and had lost much of that heavenly\\nvivacity that had before charmed me; but her gentleness and soft looks of\\ncompassion made her a more fit companion for one blasted and miserable as I\\nwas.\\n\\nThe tranquillity which I now enjoyed did not endure. Memory brought madness\\nwith it, and when I thought of what had passed, a real insanity possessed\\nme; sometimes I was furious and burnt with rage, sometimes low and\\ndespondent. I neither spoke nor looked at anyone, but sat motionless,\\nbewildered by the multitude of miseries that overcame me.\\n\\nElizabeth alone had the power to draw me from these fits; her gentle voice\\nwould soothe me when transported by passion and inspire me with human\\nfeelings when sunk in torpor. She wept with me and for me. When reason\\nreturned, she would remonstrate and endeavour to inspire me with\\nresignation. Ah! It is well for the unfortunate to be resigned, but for the\\nguilty there is no peace. The agonies of remorse poison the luxury there is\\notherwise sometimes found in indulging the excess of grief.\\n\\nSoon after my arrival my father spoke of my immediate marriage with\\nElizabeth. I remained silent.\\n\\n“Have you, then, some other attachment?”\\n\\n“None on earth. I love Elizabeth and look forward to our union with\\ndelight. Let the day therefore be fixed; and on it I will consecrate\\nmyself, in life or death, to the happiness of my cousin.”\\n\\n“My dear Victor, do not speak thus. Heavy misfortunes have befallen\\nus, but let us only cling closer to what remains and transfer our love\\nfor those whom we have lost to those who yet live. Our circle will be\\nsmall but bound close by the ties of affection and mutual misfortune.\\nAnd when time shall have softened your despair, new and dear objects of\\ncare will be born to replace those of whom we have been so cruelly\\ndeprived.”\\n\\nSuch were the lessons of my father. But to me the remembrance of the\\nthreat returned; nor can you wonder that, omnipotent as the fiend had\\nyet been in his deeds of blood, I should almost regard him as\\ninvincible, and that when he had pronounced the words “_I shall be with\\nyou on your wedding-night_,” I should regard the threatened fate as\\nunavoidable. But death was no evil to me if the loss of Elizabeth were\\nbalanced with it, and I therefore, with a contented and even cheerful\\ncountenance, agreed with my father that if my cousin would consent, the\\nceremony should take place in ten days, and thus put, as I imagined,\\nthe seal to my fate.\\n\\nGreat God! If for one instant I had thought what might be the hellish\\nintention of my fiendish adversary, I would rather have banished myself\\nfor ever from my native country and wandered a friendless outcast over\\nthe earth than have consented to this miserable marriage. But, as if\\npossessed of magic powers, the monster had blinded me to his real\\nintentions; and when I thought that I had prepared only my own death, I\\nhastened that of a far dearer victim.\\n\\nAs the period fixed for our marriage drew nearer, whether from cowardice or\\na prophetic feeling, I felt my heart sink within me. But I concealed my\\nfeelings by an appearance of hilarity that brought smiles and joy to the\\ncountenance of my father, but hardly deceived the ever-watchful and nicer\\neye of Elizabeth. She looked forward to our union with placid contentment,\\nnot unmingled with a little fear, which past misfortunes had impressed,\\nthat what now appeared certain and tangible happiness might soon dissipate\\ninto an airy dream and leave no trace but deep and everlasting regret.\\n\\nPreparations were made for the event, congratulatory visits were received,\\nand all wore a smiling appearance. I shut up, as well as I could, in my own\\nheart the anxiety that preyed there and entered with seeming earnestness\\ninto the plans of my father, although they might only serve as the\\ndecorations of my tragedy. Through my father’s exertions a part of\\nthe inheritance of Elizabeth had been restored to her by the Austrian\\ngovernment. A small possession on the shores of Como belonged to her. It\\nwas agreed that, immediately after our union, we should proceed to Villa\\nLavenza and spend our first days of happiness beside the beautiful lake\\nnear which it stood.\\n\\nIn the meantime I took every precaution to defend my person in case the\\nfiend should openly attack me. I carried pistols and a dagger\\nconstantly about me and was ever on the watch to prevent artifice, and\\nby these means gained a greater degree of tranquillity. Indeed, as the\\nperiod approached, the threat appeared more as a delusion, not to be\\nregarded as worthy to disturb my peace, while the happiness I hoped for\\nin my marriage wore a greater appearance of certainty as the day fixed\\nfor its solemnisation drew nearer and I heard it continually spoken of\\nas an occurrence which no accident could possibly prevent.\\n\\nElizabeth seemed happy; my tranquil demeanour contributed greatly to\\ncalm her mind. But on the day that was to fulfil my wishes and my\\ndestiny, she was melancholy, and a presentiment of evil pervaded her;\\nand perhaps also she thought of the dreadful secret which I had\\npromised to reveal to her on the following day. My father was in the\\nmeantime overjoyed, and, in the bustle of preparation, only recognised in\\nthe melancholy of his niece the diffidence of a bride.\\n\\nAfter the ceremony was performed a large party assembled at my\\nfather’s, but it was agreed that Elizabeth and I should commence our\\njourney by water, sleeping that night at Evian and continuing our\\nvoyage on the following day. The day was fair, the wind favourable;\\nall smiled on our nuptial embarkation.\\n\\nThose were the last moments of my life during which I enjoyed the\\nfeeling of happiness. We passed rapidly along; the sun was hot, but we\\nwere sheltered from its rays by a kind of canopy while we enjoyed the\\nbeauty of the scene, sometimes on one side of the lake, where we saw\\nMont Salêve, the pleasant banks of Montalègre, and at a distance,\\nsurmounting all, the beautiful Mont Blanc, and the assemblage of snowy\\nmountains that in vain endeavour to emulate her; sometimes coasting the\\nopposite banks, we saw the mighty Jura opposing its dark side to the\\nambition that would quit its native country, and an almost\\ninsurmountable barrier to the invader who should wish to enslave it.\\n\\nI took the hand of Elizabeth. “You are sorrowful, my love. Ah! If\\nyou knew what I have suffered and what I may yet endure, you would\\nendeavour to let me taste the quiet and freedom from despair that this\\none day at least permits me to enjoy.”\\n\\n“Be happy, my dear Victor,” replied Elizabeth; “there is, I hope,\\nnothing to distress you; and be assured that if a lively joy is not\\npainted in my face, my heart is contented. Something whispers to me\\nnot to depend too much on the prospect that is opened before us, but I\\nwill not listen to such a sinister voice. Observe how fast we move\\nalong and how the clouds, which sometimes obscure and sometimes rise\\nabove the dome of Mont Blanc, render this scene of beauty still more\\ninteresting. Look also at the innumerable fish that are swimming in\\nthe clear waters, where we can distinguish every pebble that lies at\\nthe bottom. What a divine day! How happy and serene all nature\\nappears!”\\n\\nThus Elizabeth endeavoured to divert her thoughts and mine from all\\nreflection upon melancholy subjects. But her temper was fluctuating;\\njoy for a few instants shone in her eyes, but it continually gave place\\nto distraction and reverie.\\n\\nThe sun sank lower in the heavens; we passed the river Drance and\\nobserved its path through the chasms of the higher and the glens of the\\nlower hills. The Alps here come closer to the lake, and we approached\\nthe amphitheatre of mountains which forms its eastern boundary. The\\nspire of Evian shone under the woods that surrounded it and the range\\nof mountain above mountain by which it was overhung.\\n\\nThe wind, which had hitherto carried us along with amazing rapidity,\\nsank at sunset to a light breeze; the soft air just ruffled the water\\nand caused a pleasant motion among the trees as we approached the\\nshore, from which it wafted the most delightful scent of flowers and\\nhay. The sun sank beneath the horizon as we landed, and as I touched\\nthe shore I felt those cares and fears revive which soon were to clasp\\nme and cling to me for ever.\\n\\n\\n\\n\\nChapter 23\\n\\n\\nIt was eight o’clock when we landed; we walked for a short time on the\\nshore, enjoying the transitory light, and then retired to the inn and\\ncontemplated the lovely scene of waters, woods, and mountains, obscured\\nin darkness, yet still displaying their black outlines.\\n\\nThe wind, which had fallen in the south, now rose with great violence\\nin the west. The moon had reached her summit in the heavens and was\\nbeginning to descend; the clouds swept across it swifter than the\\nflight of the vulture and dimmed her rays, while the lake reflected the\\nscene of the busy heavens, rendered still busier by the restless waves\\nthat were beginning to rise. Suddenly a heavy storm of rain descended.\\n\\nI had been calm during the day, but so soon as night obscured the\\nshapes of objects, a thousand fears arose in my mind. I was anxious\\nand watchful, while my right hand grasped a pistol which was hidden in\\nmy bosom; every sound terrified me, but I resolved that I would sell my\\nlife dearly and not shrink from the conflict until my own life or that\\nof my adversary was extinguished.\\n\\nElizabeth observed my agitation for some time in timid and fearful silence,\\nbut there was something in my glance which communicated terror to her, and\\ntrembling, she asked, “What is it that agitates you, my dear Victor?\\nWhat is it you fear?”\\n\\n“Oh! Peace, peace, my love,” replied I; “this night, and\\nall will be safe; but this night is dreadful, very dreadful.”\\n\\nI passed an hour in this state of mind, when suddenly I reflected how\\nfearful the combat which I momentarily expected would be to my wife,\\nand I earnestly entreated her to retire, resolving not to join her\\nuntil I had obtained some knowledge as to the situation of my enemy.\\n\\nShe left me, and I continued some time walking up and down the passages\\nof the house and inspecting every corner that might afford a retreat to\\nmy adversary. But I discovered no trace of him and was beginning to\\nconjecture that some fortunate chance had intervened to prevent the\\nexecution of his menaces when suddenly I heard a shrill and dreadful\\nscream. It came from the room into which Elizabeth had retired. As I\\nheard it, the whole truth rushed into my mind, my arms dropped, the\\nmotion of every muscle and fibre was suspended; I could feel the blood\\ntrickling in my veins and tingling in the extremities of my limbs. This\\nstate lasted but for an instant; the scream was repeated, and I rushed\\ninto the room.\\n\\nGreat God! Why did I not then expire! Why am I here to relate the\\ndestruction of the best hope and the purest creature on earth? She was\\nthere, lifeless and inanimate, thrown across the bed, her head hanging down\\nand her pale and distorted features half covered by her hair. Everywhere I\\nturn I see the same figure—her bloodless arms and relaxed form flung\\nby the murderer on its bridal bier. Could I behold this and live? Alas!\\nLife is obstinate and clings closest where it is most hated. For a moment\\nonly did I lose recollection; I fell senseless on the ground.\\n\\nWhen I recovered I found myself surrounded by the people of the inn; their\\ncountenances expressed a breathless terror, but the horror of others\\nappeared only as a mockery, a shadow of the feelings that oppressed me. I\\nescaped from them to the room where lay the body of Elizabeth, my love, my\\nwife, so lately living, so dear, so worthy. She had been moved from the\\nposture in which I had first beheld her, and now, as she lay, her head upon\\nher arm and a handkerchief thrown across her face and neck, I might have\\nsupposed her asleep. I rushed towards her and embraced her with ardour, but\\nthe deadly languor and coldness of the limbs told me that what I now held\\nin my arms had ceased to be the Elizabeth whom I had loved and cherished.\\nThe murderous mark of the fiend’s grasp was on her neck, and the\\nbreath had ceased to issue from her lips.\\n\\nWhile I still hung over her in the agony of despair, I happened to look up.\\nThe windows of the room had before been darkened, and I felt a kind of\\npanic on seeing the pale yellow light of the moon illuminate the chamber.\\nThe shutters had been thrown back, and with a sensation of horror not to be\\ndescribed, I saw at the open window a figure the most hideous and abhorred.\\nA grin was on the face of the monster; he seemed to jeer, as with his\\nfiendish finger he pointed towards the corpse of my wife. I rushed towards\\nthe window, and drawing a pistol from my bosom, fired; but he eluded me,\\nleaped from his station, and running with the swiftness of lightning,\\nplunged into the lake.\\n\\nThe report of the pistol brought a crowd into the room. I pointed to\\nthe spot where he had disappeared, and we followed the track with\\nboats; nets were cast, but in vain. After passing several hours, we\\nreturned hopeless, most of my companions believing it to have been a\\nform conjured up by my fancy. After having landed, they proceeded to\\nsearch the country, parties going in different directions among the\\nwoods and vines.\\n\\nI attempted to accompany them and proceeded a short distance from the\\nhouse, but my head whirled round, my steps were like those of a drunken\\nman, I fell at last in a state of utter exhaustion; a film covered my\\neyes, and my skin was parched with the heat of fever. In this state I\\nwas carried back and placed on a bed, hardly conscious of what had\\nhappened; my eyes wandered round the room as if to seek something that\\nI had lost.\\n\\nAfter an interval I arose, and as if by instinct, crawled into the room\\nwhere the corpse of my beloved lay. There were women weeping around; I\\nhung over it and joined my sad tears to theirs; all this time no\\ndistinct idea presented itself to my mind, but my thoughts rambled to\\nvarious subjects, reflecting confusedly on my misfortunes and their\\ncause. I was bewildered, in a cloud of wonder and horror. The death\\nof William, the execution of Justine, the murder of Clerval, and lastly\\nof my wife; even at that moment I knew not that my only remaining\\nfriends were safe from the malignity of the fiend; my father even now\\nmight be writhing under his grasp, and Ernest might be dead at his\\nfeet. This idea made me shudder and recalled me to action. I started\\nup and resolved to return to Geneva with all possible speed.\\n\\nThere were no horses to be procured, and I must return by the lake; but the\\nwind was unfavourable, and the rain fell in torrents. However, it was\\nhardly morning, and I might reasonably hope to arrive by night. I hired men\\nto row and took an oar myself, for I had always experienced relief from\\nmental torment in bodily exercise. But the overflowing misery I now felt,\\nand the excess of agitation that I endured rendered me incapable of any\\nexertion. I threw down the oar, and leaning my head upon my hands, gave way\\nto every gloomy idea that arose. If I looked up, I saw scenes which were\\nfamiliar to me in my happier time and which I had contemplated but the day\\nbefore in the company of her who was now but a shadow and a recollection.\\nTears streamed from my eyes. The rain had ceased for a moment, and I saw\\nthe fish play in the waters as they had done a few hours before; they had\\nthen been observed by Elizabeth. Nothing is so painful to the human mind as\\na great and sudden change. The sun might shine or the clouds might lower,\\nbut nothing could appear to me as it had done the day before. A fiend had\\nsnatched from me every hope of future happiness; no creature had ever been\\nso miserable as I was; so frightful an event is single in the history of\\nman.\\n\\nBut why should I dwell upon the incidents that followed this last\\noverwhelming event? Mine has been a tale of horrors; I have reached their\\n_acme_, and what I must now relate can but be tedious to you. Know\\nthat, one by one, my friends were snatched away; I was left desolate. My\\nown strength is exhausted, and I must tell, in a few words, what remains of\\nmy hideous narration.\\n\\nI arrived at Geneva. My father and Ernest yet lived, but the former sunk\\nunder the tidings that I bore. I see him now, excellent and venerable old\\nman! His eyes wandered in vacancy, for they had lost their charm and their\\ndelight—his Elizabeth, his more than daughter, whom he doted on with\\nall that affection which a man feels, who in the decline of life, having\\nfew affections, clings more earnestly to those that remain. Cursed, cursed\\nbe the fiend that brought misery on his grey hairs and doomed him to waste\\nin wretchedness! He could not live under the horrors that were accumulated\\naround him; the springs of existence suddenly gave way; he was unable to\\nrise from his bed, and in a few days he died in my arms.\\n\\nWhat then became of me? I know not; I lost sensation, and chains and\\ndarkness were the only objects that pressed upon me. Sometimes,\\nindeed, I dreamt that I wandered in flowery meadows and pleasant vales\\nwith the friends of my youth, but I awoke and found myself in a\\ndungeon. Melancholy followed, but by degrees I gained a clear\\nconception of my miseries and situation and was then released from my\\nprison. For they had called me mad, and during many months, as I\\nunderstood, a solitary cell had been my habitation.\\n\\nLiberty, however, had been a useless gift to me, had I not, as I\\nawakened to reason, at the same time awakened to revenge. As the\\nmemory of past misfortunes pressed upon me, I began to reflect on their\\ncause—the monster whom I had created, the miserable dæmon whom I had\\nsent abroad into the world for my destruction. I was possessed by a\\nmaddening rage when I thought of him, and desired and ardently prayed\\nthat I might have him within my grasp to wreak a great and signal\\nrevenge on his cursed head.\\n\\nNor did my hate long confine itself to useless wishes; I began to\\nreflect on the best means of securing him; and for this purpose, about\\na month after my release, I repaired to a criminal judge in the town\\nand told him that I had an accusation to make, that I knew the\\ndestroyer of my family, and that I required him to exert his whole\\nauthority for the apprehension of the murderer.\\n\\nThe magistrate listened to me with attention and kindness. “Be\\nassured, sir,” said he, “no pains or exertions on my part shall\\nbe spared to discover the villain.”\\n\\n“I thank you,” replied I; “listen, therefore, to the\\ndeposition that I have to make. It is indeed a tale so strange that I\\nshould fear you would not credit it were there not something in truth\\nwhich, however wonderful, forces conviction. The story is too connected to\\nbe mistaken for a dream, and I have no motive for falsehood.” My\\nmanner as I thus addressed him was impressive but calm; I had formed in my\\nown heart a resolution to pursue my destroyer to death, and this purpose\\nquieted my agony and for an interval reconciled me to life. I now related\\nmy history briefly but with firmness and precision, marking the dates with\\naccuracy and never deviating into invective or exclamation.\\n\\nThe magistrate appeared at first perfectly incredulous, but as I continued\\nhe became more attentive and interested; I saw him sometimes shudder with\\nhorror; at others a lively surprise, unmingled with disbelief, was painted\\non his countenance.\\n\\nWhen I had concluded my narration, I said, “This is the being whom I\\naccuse and for whose seizure and punishment I call upon you to exert your\\nwhole power. It is your duty as a magistrate, and I believe and hope that\\nyour feelings as a man will not revolt from the execution of those\\nfunctions on this occasion.”\\n\\nThis address caused a considerable change in the physiognomy of my own\\nauditor. He had heard my story with that half kind of belief that is given\\nto a tale of spirits and supernatural events; but when he was called upon\\nto act officially in consequence, the whole tide of his incredulity\\nreturned. He, however, answered mildly, “I would willingly afford you\\nevery aid in your pursuit, but the creature of whom you speak appears to\\nhave powers which would put all my exertions to defiance. Who can follow an\\nanimal which can traverse the sea of ice and inhabit caves and dens where\\nno man would venture to intrude? Besides, some months have elapsed since\\nthe commission of his crimes, and no one can conjecture to what place he\\nhas wandered or what region he may now inhabit.”\\n\\n“I do not doubt that he hovers near the spot which I inhabit, and if\\nhe has indeed taken refuge in the Alps, he may be hunted like the chamois\\nand destroyed as a beast of prey. But I perceive your thoughts; you do not\\ncredit my narrative and do not intend to pursue my enemy with the\\npunishment which is his desert.”\\n\\nAs I spoke, rage sparkled in my eyes; the magistrate was intimidated.\\n“You are mistaken,” said he. “I will exert myself, and if\\nit is in my power to seize the monster, be assured that he shall suffer\\npunishment proportionate to his crimes. But I fear, from what you have\\nyourself described to be his properties, that this will prove\\nimpracticable; and thus, while every proper measure is pursued, you should\\nmake up your mind to disappointment.”\\n\\n“That cannot be; but all that I can say will be of little avail. My\\nrevenge is of no moment to you; yet, while I allow it to be a vice, I\\nconfess that it is the devouring and only passion of my soul. My rage\\nis unspeakable when I reflect that the murderer, whom I have turned\\nloose upon society, still exists. You refuse my just demand; I have\\nbut one resource, and I devote myself, either in my life or death, to\\nhis destruction.”\\n\\nI trembled with excess of agitation as I said this; there was a frenzy\\nin my manner, and something, I doubt not, of that haughty fierceness\\nwhich the martyrs of old are said to have possessed. But to a Genevan\\nmagistrate, whose mind was occupied by far other ideas than those of\\ndevotion and heroism, this elevation of mind had much the appearance of\\nmadness. He endeavoured to soothe me as a nurse does a child and\\nreverted to my tale as the effects of delirium.\\n\\n“Man,” I cried, “how ignorant art thou in thy pride of\\nwisdom! Cease; you know not what it is you say.”\\n\\nI broke from the house angry and disturbed and retired to meditate on\\nsome other mode of action.\\n\\n\\n\\n\\nChapter 24\\n\\n\\nMy present situation was one in which all voluntary thought was\\nswallowed up and lost. I was hurried away by fury; revenge alone\\nendowed me with strength and composure; it moulded my feelings and\\nallowed me to be calculating and calm at periods when otherwise\\ndelirium or death would have been my portion.\\n\\nMy first resolution was to quit Geneva for ever; my country, which, when I\\nwas happy and beloved, was dear to me, now, in my adversity, became\\nhateful. I provided myself with a sum of money, together with a few jewels\\nwhich had belonged to my mother, and departed.\\n\\nAnd now my wanderings began which are to cease but with life. I have\\ntraversed a vast portion of the earth and have endured all the hardships\\nwhich travellers in deserts and barbarous countries are wont to meet. How I\\nhave lived I hardly know; many times have I stretched my failing limbs upon\\nthe sandy plain and prayed for death. But revenge kept me alive; I dared\\nnot die and leave my adversary in being.\\n\\nWhen I quitted Geneva my first labour was to gain some clue by which I\\nmight trace the steps of my fiendish enemy. But my plan was unsettled,\\nand I wandered many hours round the confines of the town, uncertain\\nwhat path I should pursue. As night approached I found myself at the\\nentrance of the cemetery where William, Elizabeth, and my father\\nreposed. I entered it and approached the tomb which marked their\\ngraves. Everything was silent except the leaves of the trees, which\\nwere gently agitated by the wind; the night was nearly dark, and the\\nscene would have been solemn and affecting even to an uninterested\\nobserver. The spirits of the departed seemed to flit around and to\\ncast a shadow, which was felt but not seen, around the head of the\\nmourner.\\n\\nThe deep grief which this scene had at first excited quickly gave way to\\nrage and despair. They were dead, and I lived; their murderer also lived,\\nand to destroy him I must drag out my weary existence. I knelt on the grass\\nand kissed the earth and with quivering lips exclaimed, “By the\\nsacred earth on which I kneel, by the shades that wander near me, by the\\ndeep and eternal grief that I feel, I swear; and by thee, O Night, and the\\nspirits that preside over thee, to pursue the dæmon who caused this misery,\\nuntil he or I shall perish in mortal conflict. For this purpose I will\\npreserve my life; to execute this dear revenge will I again behold the sun\\nand tread the green herbage of earth, which otherwise should vanish from my\\neyes for ever. And I call on you, spirits of the dead, and on you, wandering\\nministers of vengeance, to aid and conduct me in my work. Let the cursed\\nand hellish monster drink deep of agony; let him feel the despair that now\\ntorments me.”\\n\\nI had begun my adjuration with solemnity and an awe which almost assured me\\nthat the shades of my murdered friends heard and approved my devotion, but\\nthe furies possessed me as I concluded, and rage choked my utterance.\\n\\nI was answered through the stillness of night by a loud and fiendish\\nlaugh. It rang on my ears long and heavily; the mountains re-echoed\\nit, and I felt as if all hell surrounded me with mockery and laughter.\\nSurely in that moment I should have been possessed by frenzy and have\\ndestroyed my miserable existence but that my vow was heard and that I\\nwas reserved for vengeance. The laughter died away, when a well-known\\nand abhorred voice, apparently close to my ear, addressed me in an\\naudible whisper, “I am satisfied, miserable wretch! You have\\ndetermined to live, and I am satisfied.”\\n\\nI darted towards the spot from which the sound proceeded, but the devil\\neluded my grasp. Suddenly the broad disk of the moon arose and shone\\nfull upon his ghastly and distorted shape as he fled with more than\\nmortal speed.\\n\\nI pursued him, and for many months this has been my task. Guided by a\\nslight clue, I followed the windings of the Rhone, but vainly. The\\nblue Mediterranean appeared, and by a strange chance, I saw the fiend\\nenter by night and hide himself in a vessel bound for the Black Sea. I\\ntook my passage in the same ship, but he escaped, I know not how.\\n\\nAmidst the wilds of Tartary and Russia, although he still evaded me, I\\nhave ever followed in his track. Sometimes the peasants, scared by\\nthis horrid apparition, informed me of his path; sometimes he himself,\\nwho feared that if I lost all trace of him I should despair and die,\\nleft some mark to guide me. The snows descended on my head, and I saw\\nthe print of his huge step on the white plain. To you first entering\\non life, to whom care is new and agony unknown, how can you understand\\nwhat I have felt and still feel? Cold, want, and fatigue were the\\nleast pains which I was destined to endure; I was cursed by some devil\\nand carried about with me my eternal hell; yet still a spirit of good\\nfollowed and directed my steps and when I most murmured would suddenly\\nextricate me from seemingly insurmountable difficulties. Sometimes,\\nwhen nature, overcome by hunger, sank under the exhaustion, a repast\\nwas prepared for me in the desert that restored and inspirited me. The\\nfare was, indeed, coarse, such as the peasants of the country ate, but\\nI will not doubt that it was set there by the spirits that I had\\ninvoked to aid me. Often, when all was dry, the heavens cloudless, and\\nI was parched by thirst, a slight cloud would bedim the sky, shed the\\nfew drops that revived me, and vanish.\\n\\nI followed, when I could, the courses of the rivers; but the dæmon\\ngenerally avoided these, as it was here that the population of the\\ncountry chiefly collected. In other places human beings were seldom\\nseen, and I generally subsisted on the wild animals that crossed my\\npath. I had money with me and gained the friendship of the villagers\\nby distributing it; or I brought with me some food that I had killed,\\nwhich, after taking a small part, I always presented to those who had\\nprovided me with fire and utensils for cooking.\\n\\nMy life, as it passed thus, was indeed hateful to me, and it was during\\nsleep alone that I could taste joy. O blessed sleep! Often, when most\\nmiserable, I sank to repose, and my dreams lulled me even to rapture. The\\nspirits that guarded me had provided these moments, or rather hours, of\\nhappiness that I might retain strength to fulfil my pilgrimage. Deprived of\\nthis respite, I should have sunk under my hardships. During the day I was\\nsustained and inspirited by the hope of night, for in sleep I saw my\\nfriends, my wife, and my beloved country; again I saw the benevolent\\ncountenance of my father, heard the silver tones of my Elizabeth’s\\nvoice, and beheld Clerval enjoying health and youth. Often, when wearied by\\na toilsome march, I persuaded myself that I was dreaming until night should\\ncome and that I should then enjoy reality in the arms of my dearest\\nfriends. What agonising fondness did I feel for them! How did I cling to\\ntheir dear forms, as sometimes they haunted even my waking hours, and\\npersuade myself that they still lived! At such moments vengeance, that\\nburned within me, died in my heart, and I pursued my path towards the\\ndestruction of the dæmon more as a task enjoined by heaven, as the\\nmechanical impulse of some power of which I was unconscious, than as the\\nardent desire of my soul.\\n\\nWhat his feelings were whom I pursued I cannot know. Sometimes, indeed, he\\nleft marks in writing on the barks of the trees or cut in stone that guided\\nme and instigated my fury. “My reign is not yet\\nover”—these words were legible in one of these\\ninscriptions—“you live, and my power is complete. Follow me; I\\nseek the everlasting ices of the north, where you will feel the misery of\\ncold and frost, to which I am impassive. You will find near this place, if\\nyou follow not too tardily, a dead hare; eat and be refreshed. Come on, my\\nenemy; we have yet to wrestle for our lives, but many hard and miserable\\nhours must you endure until that period shall arrive.”\\n\\nScoffing devil! Again do I vow vengeance; again do I devote thee,\\nmiserable fiend, to torture and death. Never will I give up my search\\nuntil he or I perish; and then with what ecstasy shall I join my\\nElizabeth and my departed friends, who even now prepare for me the\\nreward of my tedious toil and horrible pilgrimage!\\n\\nAs I still pursued my journey to the northward, the snows thickened and the\\ncold increased in a degree almost too severe to support. The peasants were\\nshut up in their hovels, and only a few of the most hardy ventured forth to\\nseize the animals whom starvation had forced from their hiding-places to\\nseek for prey. The rivers were covered with ice, and no fish could be\\nprocured; and thus I was cut off from my chief article of maintenance.\\n\\nThe triumph of my enemy increased with the difficulty of my labours. One\\ninscription that he left was in these words: “Prepare! Your toils\\nonly begin; wrap yourself in furs and provide food, for we shall soon enter\\nupon a journey where your sufferings will satisfy my everlasting\\nhatred.”\\n\\nMy courage and perseverance were invigorated by these scoffing words; I\\nresolved not to fail in my purpose, and calling on Heaven to support\\nme, I continued with unabated fervour to traverse immense deserts,\\nuntil the ocean appeared at a distance and formed the utmost boundary\\nof the horizon. Oh! How unlike it was to the blue seasons of the\\nsouth! Covered with ice, it was only to be distinguished from land by\\nits superior wildness and ruggedness. The Greeks wept for joy when\\nthey beheld the Mediterranean from the hills of Asia, and hailed with\\nrapture the boundary of their toils. I did not weep, but I knelt down\\nand with a full heart thanked my guiding spirit for conducting me in\\nsafety to the place where I hoped, notwithstanding my adversary’s gibe,\\nto meet and grapple with him.\\n\\nSome weeks before this period I had procured a sledge and dogs and thus\\ntraversed the snows with inconceivable speed. I know not whether the\\nfiend possessed the same advantages, but I found that, as before I had\\ndaily lost ground in the pursuit, I now gained on him, so much so that\\nwhen I first saw the ocean he was but one day’s journey in advance, and\\nI hoped to intercept him before he should reach the beach. With new\\ncourage, therefore, I pressed on, and in two days arrived at a wretched\\nhamlet on the seashore. I inquired of the inhabitants concerning the\\nfiend and gained accurate information. A gigantic monster, they said,\\nhad arrived the night before, armed with a gun and many pistols,\\nputting to flight the inhabitants of a solitary cottage through fear of\\nhis terrific appearance. He had carried off their store of winter\\nfood, and placing it in a sledge, to draw which he had seized on a\\nnumerous drove of trained dogs, he had harnessed them, and the same\\nnight, to the joy of the horror-struck villagers, had pursued his\\njourney across the sea in a direction that led to no land; and they\\nconjectured that he must speedily be destroyed by the breaking of the\\nice or frozen by the eternal frosts.\\n\\nOn hearing this information I suffered a temporary access of despair.\\nHe had escaped me, and I must commence a destructive and almost endless\\njourney across the mountainous ices of the ocean, amidst cold that few\\nof the inhabitants could long endure and which I, the native of a\\ngenial and sunny climate, could not hope to survive. Yet at the idea\\nthat the fiend should live and be triumphant, my rage and vengeance\\nreturned, and like a mighty tide, overwhelmed every other feeling.\\nAfter a slight repose, during which the spirits of the dead hovered\\nround and instigated me to toil and revenge, I prepared for my journey.\\n\\nI exchanged my land-sledge for one fashioned for the inequalities of\\nthe Frozen Ocean, and purchasing a plentiful stock of provisions, I\\ndeparted from land.\\n\\nI cannot guess how many days have passed since then, but I have endured\\nmisery which nothing but the eternal sentiment of a just retribution\\nburning within my heart could have enabled me to support. Immense and\\nrugged mountains of ice often barred up my passage, and I often heard\\nthe thunder of the ground sea, which threatened my destruction. But\\nagain the frost came and made the paths of the sea secure.\\n\\nBy the quantity of provision which I had consumed, I should guess that\\nI had passed three weeks in this journey; and the continual protraction\\nof hope, returning back upon the heart, often wrung bitter drops of\\ndespondency and grief from my eyes. Despair had indeed almost secured\\nher prey, and I should soon have sunk beneath this misery. Once, after\\nthe poor animals that conveyed me had with incredible toil gained the\\nsummit of a sloping ice mountain, and one, sinking under his fatigue,\\ndied, I viewed the expanse before me with anguish, when suddenly my eye\\ncaught a dark speck upon the dusky plain. I strained my sight to\\ndiscover what it could be and uttered a wild cry of ecstasy when I\\ndistinguished a sledge and the distorted proportions of a well-known\\nform within. Oh! With what a burning gush did hope revisit my heart!\\nWarm tears filled my eyes, which I hastily wiped away, that they might\\nnot intercept the view I had of the dæmon; but still my sight was\\ndimmed by the burning drops, until, giving way to the emotions that\\noppressed me, I wept aloud.\\n\\nBut this was not the time for delay; I disencumbered the dogs of their\\ndead companion, gave them a plentiful portion of food, and after an\\nhour’s rest, which was absolutely necessary, and yet which was bitterly\\nirksome to me, I continued my route. The sledge was still visible, nor\\ndid I again lose sight of it except at the moments when for a short\\ntime some ice-rock concealed it with its intervening crags. I indeed\\nperceptibly gained on it, and when, after nearly two days’ journey, I\\nbeheld my enemy at no more than a mile distant, my heart bounded within\\nme.\\n\\nBut now, when I appeared almost within grasp of my foe, my hopes were\\nsuddenly extinguished, and I lost all trace of him more utterly than I had\\never done before. A ground sea was heard; the thunder of its progress, as\\nthe waters rolled and swelled beneath me, became every moment more ominous\\nand terrific. I pressed on, but in vain. The wind arose; the sea roared;\\nand, as with the mighty shock of an earthquake, it split and cracked with a\\ntremendous and overwhelming sound. The work was soon finished; in a few\\nminutes a tumultuous sea rolled between me and my enemy, and I was left\\ndrifting on a scattered piece of ice that was continually lessening and\\nthus preparing for me a hideous death.\\n\\nIn this manner many appalling hours passed; several of my dogs died, and I\\nmyself was about to sink under the accumulation of distress when I saw your\\nvessel riding at anchor and holding forth to me hopes of succour and life.\\nI had no conception that vessels ever came so far north and was astounded\\nat the sight. I quickly destroyed part of my sledge to construct oars, and\\nby these means was enabled, with infinite fatigue, to move my ice raft in\\nthe direction of your ship. I had determined, if you were going southwards,\\nstill to trust myself to the mercy of the seas rather than abandon my\\npurpose. I hoped to induce you to grant me a boat with which I could pursue\\nmy enemy. But your direction was northwards. You took me on board when my\\nvigour was exhausted, and I should soon have sunk under my multiplied\\nhardships into a death which I still dread, for my task is unfulfilled.\\n\\nOh! When will my guiding spirit, in conducting me to the dæmon, allow\\nme the rest I so much desire; or must I die, and he yet live? If I do,\\nswear to me, Walton, that he shall not escape, that you will seek him\\nand satisfy my vengeance in his death. And do I dare to ask of you to\\nundertake my pilgrimage, to endure the hardships that I have undergone?\\nNo; I am not so selfish. Yet, when I am dead, if he should appear, if\\nthe ministers of vengeance should conduct him to you, swear that he\\nshall not live—swear that he shall not triumph over my accumulated\\nwoes and survive to add to the list of his dark crimes. He is eloquent\\nand persuasive, and once his words had even power over my heart; but\\ntrust him not. His soul is as hellish as his form, full of treachery\\nand fiend-like malice. Hear him not; call on the names of William,\\nJustine, Clerval, Elizabeth, my father, and of the wretched Victor, and\\nthrust your sword into his heart. I will hover near and direct the\\nsteel aright.\\n\\nWalton, _in continuation._\\n\\n\\nAugust 26th, 17—.\\n\\n\\nYou have read this strange and terrific story, Margaret; and do you not\\nfeel your blood congeal with horror, like that which even now curdles\\nmine? Sometimes, seized with sudden agony, he could not continue his\\ntale; at others, his voice broken, yet piercing, uttered with\\ndifficulty the words so replete with anguish. His fine and lovely eyes\\nwere now lighted up with indignation, now subdued to downcast sorrow\\nand quenched in infinite wretchedness. Sometimes he commanded his\\ncountenance and tones and related the most horrible incidents with a\\ntranquil voice, suppressing every mark of agitation; then, like a\\nvolcano bursting forth, his face would suddenly change to an expression\\nof the wildest rage as he shrieked out imprecations on his persecutor.\\n\\nHis tale is connected and told with an appearance of the simplest truth,\\nyet I own to you that the letters of Felix and Safie, which he showed me,\\nand the apparition of the monster seen from our ship, brought to me a\\ngreater conviction of the truth of his narrative than his asseverations,\\nhowever earnest and connected. Such a monster has, then, really existence!\\nI cannot doubt it, yet I am lost in surprise and admiration. Sometimes I\\nendeavoured to gain from Frankenstein the particulars of his\\ncreature’s formation, but on this point he was impenetrable.\\n\\n“Are you mad, my friend?” said he. “Or whither does your\\nsenseless curiosity lead you? Would you also create for yourself and the\\nworld a demoniacal enemy? Peace, peace! Learn my miseries and do not seek\\nto increase your own.”\\n\\nFrankenstein discovered that I made notes concerning his history; he asked\\nto see them and then himself corrected and augmented them in many places,\\nbut principally in giving the life and spirit to the conversations he held\\nwith his enemy. “Since you have preserved my narration,” said\\nhe, “I would not that a mutilated one should go down to\\nposterity.”\\n\\nThus has a week passed away, while I have listened to the strangest\\ntale that ever imagination formed. My thoughts and every feeling of my\\nsoul have been drunk up by the interest for my guest which this tale\\nand his own elevated and gentle manners have created. I wish to soothe\\nhim, yet can I counsel one so infinitely miserable, so destitute of\\nevery hope of consolation, to live? Oh, no! The only joy that he can\\nnow know will be when he composes his shattered spirit to peace and\\ndeath. Yet he enjoys one comfort, the offspring of solitude and\\ndelirium; he believes that when in dreams he holds converse with his\\nfriends and derives from that communion consolation for his miseries or\\nexcitements to his vengeance, that they are not the creations of his\\nfancy, but the beings themselves who visit him from the regions of a\\nremote world. This faith gives a solemnity to his reveries that render\\nthem to me almost as imposing and interesting as truth.\\n\\nOur conversations are not always confined to his own history and\\nmisfortunes. On every point of general literature he displays\\nunbounded knowledge and a quick and piercing apprehension. His\\neloquence is forcible and touching; nor can I hear him, when he relates\\na pathetic incident or endeavours to move the passions of pity or love,\\nwithout tears. What a glorious creature must he have been in the days\\nof his prosperity, when he is thus noble and godlike in ruin! He seems\\nto feel his own worth and the greatness of his fall.\\n\\n“When younger,” said he, “I believed myself destined for\\nsome great enterprise. My feelings are profound, but I possessed a coolness\\nof judgment that fitted me for illustrious achievements. This sentiment of\\nthe worth of my nature supported me when others would have been oppressed,\\nfor I deemed it criminal to throw away in useless grief those talents that\\nmight be useful to my fellow creatures. When I reflected on the work I had\\ncompleted, no less a one than the creation of a sensitive and rational\\nanimal, I could not rank myself with the herd of common projectors. But\\nthis thought, which supported me in the commencement of my career, now\\nserves only to plunge me lower in the dust. All my speculations and hopes\\nare as nothing, and like the archangel who aspired to omnipotence, I am\\nchained in an eternal hell. My imagination was vivid, yet my powers of\\nanalysis and application were intense; by the union of these qualities I\\nconceived the idea and executed the creation of a man. Even now I cannot\\nrecollect without passion my reveries while the work was incomplete. I trod\\nheaven in my thoughts, now exulting in my powers, now burning with the idea\\nof their effects. From my infancy I was imbued with high hopes and a lofty\\nambition; but how am I sunk! Oh! My friend, if you had known me as I once\\nwas, you would not recognise me in this state of degradation. Despondency\\nrarely visited my heart; a high destiny seemed to bear me on, until I fell,\\nnever, never again to rise.”\\n\\nMust I then lose this admirable being? I have longed for a friend; I have\\nsought one who would sympathise with and love me. Behold, on these desert\\nseas I have found such a one, but I fear I have gained him only to know his\\nvalue and lose him. I would reconcile him to life, but he repulses the idea.\\n\\n“I thank you, Walton,” he said, “for your kind intentions towards so\\nmiserable a wretch; but when you speak of new ties and fresh\\naffections, think you that any can replace those who are gone? Can any\\nman be to me as Clerval was, or any woman another Elizabeth? Even\\nwhere the affections are not strongly moved by any superior excellence,\\nthe companions of our childhood always possess a certain power over our\\nminds which hardly any later friend can obtain. They know our\\ninfantine dispositions, which, however they may be afterwards modified,\\nare never eradicated; and they can judge of our actions with more\\ncertain conclusions as to the integrity of our motives. A sister or a\\nbrother can never, unless indeed such symptoms have been shown early,\\nsuspect the other of fraud or false dealing, when another friend,\\nhowever strongly he may be attached, may, in spite of himself, be\\ncontemplated with suspicion. But I enjoyed friends, dear not only\\nthrough habit and association, but from their own merits; and wherever\\nI am, the soothing voice of my Elizabeth and the conversation of\\nClerval will be ever whispered in my ear. They are dead, and but one\\nfeeling in such a solitude can persuade me to preserve my life. If I\\nwere engaged in any high undertaking or design, fraught with extensive\\nutility to my fellow creatures, then could I live to fulfil it. But\\nsuch is not my destiny; I must pursue and destroy the being to whom I\\ngave existence; then my lot on earth will be fulfilled and I may die.”\\n\\nMy beloved Sister,\\n\\nSeptember 2d.\\n\\n\\nI write to you, encompassed by peril and ignorant whether I am ever\\ndoomed to see again dear England and the dearer friends that inhabit\\nit. I am surrounded by mountains of ice which admit of no escape and\\nthreaten every moment to crush my vessel. The brave fellows whom I\\nhave persuaded to be my companions look towards me for aid, but I have\\nnone to bestow. There is something terribly appalling in our\\nsituation, yet my courage and hopes do not desert me. Yet it is\\nterrible to reflect that the lives of all these men are endangered\\nthrough me. If we are lost, my mad schemes are the cause.\\n\\nAnd what, Margaret, will be the state of your mind? You will not hear of my\\ndestruction, and you will anxiously await my return. Years will pass, and\\nyou will have visitings of despair and yet be tortured by hope. Oh! My\\nbeloved sister, the sickening failing of your heart-felt expectations is,\\nin prospect, more terrible to me than my own death. But you have a husband\\nand lovely children; you may be happy. Heaven bless you and make you so!\\n\\nMy unfortunate guest regards me with the tenderest compassion. He\\nendeavours to fill me with hope and talks as if life were a possession\\nwhich he valued. He reminds me how often the same accidents have\\nhappened to other navigators who have attempted this sea, and in spite\\nof myself, he fills me with cheerful auguries. Even the sailors feel\\nthe power of his eloquence; when he speaks, they no longer despair; he\\nrouses their energies, and while they hear his voice they believe these\\nvast mountains of ice are mole-hills which will vanish before the\\nresolutions of man. These feelings are transitory; each day of\\nexpectation delayed fills them with fear, and I almost dread a mutiny\\ncaused by this despair.\\n\\nSeptember 5th.\\n\\n\\nA scene has just passed of such uncommon interest that, although it is\\nhighly probable that these papers may never reach you, yet I cannot\\nforbear recording it.\\n\\nWe are still surrounded by mountains of ice, still in imminent danger\\nof being crushed in their conflict. The cold is excessive, and many of\\nmy unfortunate comrades have already found a grave amidst this scene of\\ndesolation. Frankenstein has daily declined in health; a feverish fire\\nstill glimmers in his eyes, but he is exhausted, and when suddenly\\nroused to any exertion, he speedily sinks again into apparent\\nlifelessness.\\n\\nI mentioned in my last letter the fears I entertained of a mutiny.\\nThis morning, as I sat watching the wan countenance of my friend—his\\neyes half closed and his limbs hanging listlessly—I was roused by half\\na dozen of the sailors, who demanded admission into the cabin. They\\nentered, and their leader addressed me. He told me that he and his\\ncompanions had been chosen by the other sailors to come in deputation\\nto me to make me a requisition which, in justice, I could not refuse.\\nWe were immured in ice and should probably never escape, but they\\nfeared that if, as was possible, the ice should dissipate and a free\\npassage be opened, I should be rash enough to continue my voyage and\\nlead them into fresh dangers, after they might happily have surmounted\\nthis. They insisted, therefore, that I should engage with a solemn\\npromise that if the vessel should be freed I would instantly direct my\\ncourse southwards.\\n\\nThis speech troubled me. I had not despaired, nor had I yet conceived\\nthe idea of returning if set free. Yet could I, in justice, or even in\\npossibility, refuse this demand? I hesitated before I answered, when\\nFrankenstein, who had at first been silent, and indeed appeared hardly\\nto have force enough to attend, now roused himself; his eyes sparkled,\\nand his cheeks flushed with momentary vigour. Turning towards the men,\\nhe said,\\n\\n“What do you mean? What do you demand of your captain? Are you, then,\\nso easily turned from your design? Did you not call this a glorious\\nexpedition? “And wherefore was it glorious? Not because the way was\\nsmooth and placid as a southern sea, but because it was full of dangers and\\nterror, because at every new incident your fortitude was to be called forth\\nand your courage exhibited, because danger and death surrounded it, and\\nthese you were to brave and overcome. For this was it a glorious, for this\\nwas it an honourable undertaking. You were hereafter to be hailed as the\\nbenefactors of your species, your names adored as belonging to brave men\\nwho encountered death for honour and the benefit of mankind. And now,\\nbehold, with the first imagination of danger, or, if you will, the first\\nmighty and terrific trial of your courage, you shrink away and are content\\nto be handed down as men who had not strength enough to endure cold and\\nperil; and so, poor souls, they were chilly and returned to their warm\\nfiresides. Why, that requires not this preparation; ye need not have come\\nthus far and dragged your captain to the shame of a defeat merely to prove\\nyourselves cowards. Oh! Be men, or be more than men. Be steady to your\\npurposes and firm as a rock. This ice is not made of such stuff as your\\nhearts may be; it is mutable and cannot withstand you if you say that it\\nshall not. Do not return to your families with the stigma of disgrace\\nmarked on your brows. Return as heroes who have fought and conquered and\\nwho know not what it is to turn their backs on the foe.”\\n\\nHe spoke this with a voice so modulated to the different feelings expressed\\nin his speech, with an eye so full of lofty design and heroism, that can\\nyou wonder that these men were moved? They looked at one another and were\\nunable to reply. I spoke; I told them to retire and consider of what had\\nbeen said, that I would not lead them farther north if they strenuously\\ndesired the contrary, but that I hoped that, with reflection, their courage\\nwould return.\\n\\nThey retired and I turned towards my friend, but he was sunk in languor and\\nalmost deprived of life.\\n\\nHow all this will terminate, I know not, but I had rather die than\\nreturn shamefully, my purpose unfulfilled. Yet I fear such will be my\\nfate; the men, unsupported by ideas of glory and honour, can never\\nwillingly continue to endure their present hardships.\\n\\nSeptember 7th.\\n\\n\\nThe die is cast; I have consented to return if we are not destroyed.\\nThus are my hopes blasted by cowardice and indecision; I come back\\nignorant and disappointed. It requires more philosophy than I possess\\nto bear this injustice with patience.\\n\\nSeptember 12th.\\n\\n\\nIt is past; I am returning to England. I have lost my hopes of utility\\nand glory; I have lost my friend. But I will endeavour to detail these\\nbitter circumstances to you, my dear sister; and while I am wafted\\ntowards England and towards you, I will not despond.\\n\\nSeptember 9th, the ice began to move, and roarings like thunder were heard\\nat a distance as the islands split and cracked in every direction. We were\\nin the most imminent peril, but as we could only remain passive, my chief\\nattention was occupied by my unfortunate guest whose illness increased in\\nsuch a degree that he was entirely confined to his bed. The ice cracked\\nbehind us and was driven with force towards the north; a breeze sprang from\\nthe west, and on the 11th the passage towards the south became perfectly\\nfree. When the sailors saw this and that their return to their native\\ncountry was apparently assured, a shout of tumultuous joy broke from them,\\nloud and long-continued. Frankenstein, who was dozing, awoke and asked the\\ncause of the tumult. “They shout,” I said, “because they\\nwill soon return to England.”\\n\\n“Do you, then, really return?”\\n\\n“Alas! Yes; I cannot withstand their demands. I cannot lead them\\nunwillingly to danger, and I must return.”\\n\\n“Do so, if you will; but I will not. You may give up your purpose, but\\nmine is assigned to me by Heaven, and I dare not. I am weak, but\\nsurely the spirits who assist my vengeance will endow me with\\nsufficient strength.” Saying this, he endeavoured to spring from the\\nbed, but the exertion was too great for him; he fell back and fainted.\\n\\nIt was long before he was restored, and I often thought that life was\\nentirely extinct. At length he opened his eyes; he breathed with\\ndifficulty and was unable to speak. The surgeon gave him a composing\\ndraught and ordered us to leave him undisturbed. In the meantime he\\ntold me that my friend had certainly not many hours to live.\\n\\nHis sentence was pronounced, and I could only grieve and be patient. I sat\\nby his bed, watching him; his eyes were closed, and I thought he slept; but\\npresently he called to me in a feeble voice, and bidding me come near,\\nsaid, “Alas! The strength I relied on is gone; I feel that I shall\\nsoon die, and he, my enemy and persecutor, may still be in being. Think\\nnot, Walton, that in the last moments of my existence I feel that burning\\nhatred and ardent desire of revenge I once expressed; but I feel myself\\njustified in desiring the death of my adversary. During these last days I\\nhave been occupied in examining my past conduct; nor do I find it blamable.\\nIn a fit of enthusiastic madness I created a rational creature and was\\nbound towards him to assure, as far as was in my power, his happiness and\\nwell-being. This was my duty, but there was another still paramount to\\nthat. My duties towards the beings of my own species had greater claims to\\nmy attention because they included a greater proportion of happiness or\\nmisery. Urged by this view, I refused, and I did right in refusing, to\\ncreate a companion for the first creature. He showed unparalleled malignity\\nand selfishness in evil; he destroyed my friends; he devoted to destruction\\nbeings who possessed exquisite sensations, happiness, and wisdom; nor do I\\nknow where this thirst for vengeance may end. Miserable himself that he may\\nrender no other wretched, he ought to die. The task of his destruction was\\nmine, but I have failed. When actuated by selfish and vicious motives, I\\nasked you to undertake my unfinished work, and I renew this request now,\\nwhen I am only induced by reason and virtue.\\n\\n“Yet I cannot ask you to renounce your country and friends to fulfil\\nthis task; and now that you are returning to England, you will have\\nlittle chance of meeting with him. But the consideration of these\\npoints, and the well balancing of what you may esteem your duties, I\\nleave to you; my judgment and ideas are already disturbed by the near\\napproach of death. I dare not ask you to do what I think right, for I\\nmay still be misled by passion.\\n\\n“That he should live to be an instrument of mischief disturbs me; in\\nother respects, this hour, when I momentarily expect my release, is the\\nonly happy one which I have enjoyed for several years. The forms of\\nthe beloved dead flit before me, and I hasten to their arms. Farewell,\\nWalton! Seek happiness in tranquillity and avoid ambition, even if it\\nbe only the apparently innocent one of distinguishing yourself in\\nscience and discoveries. Yet why do I say this? I have myself been\\nblasted in these hopes, yet another may succeed.”\\n\\nHis voice became fainter as he spoke, and at length, exhausted by his\\neffort, he sank into silence. About half an hour afterwards he\\nattempted again to speak but was unable; he pressed my hand feebly, and\\nhis eyes closed for ever, while the irradiation of a gentle smile passed\\naway from his lips.\\n\\nMargaret, what comment can I make on the untimely extinction of this\\nglorious spirit? What can I say that will enable you to understand the\\ndepth of my sorrow? All that I should express would be inadequate and\\nfeeble. My tears flow; my mind is overshadowed by a cloud of\\ndisappointment. But I journey towards England, and I may there find\\nconsolation.\\n\\nI am interrupted. What do these sounds portend? It is midnight; the\\nbreeze blows fairly, and the watch on deck scarcely stir. Again there\\nis a sound as of a human voice, but hoarser; it comes from the cabin\\nwhere the remains of Frankenstein still lie. I must arise and examine.\\nGood night, my sister.\\n\\nGreat God! what a scene has just taken place! I am yet dizzy with the\\nremembrance of it. I hardly know whether I shall have the power to detail\\nit; yet the tale which I have recorded would be incomplete without this\\nfinal and wonderful catastrophe.\\n\\nI entered the cabin where lay the remains of my ill-fated and admirable\\nfriend. Over him hung a form which I cannot find words to\\ndescribe—gigantic in stature, yet uncouth and distorted in its\\nproportions. As he hung over the coffin, his face was concealed by long\\nlocks of ragged hair; but one vast hand was extended, in colour and\\napparent texture like that of a mummy. When he heard the sound of my\\napproach, he ceased to utter exclamations of grief and horror and sprung\\ntowards the window. Never did I behold a vision so horrible as his face, of\\nsuch loathsome yet appalling hideousness. I shut my eyes involuntarily and\\nendeavoured to recollect what were my duties with regard to this destroyer.\\nI called on him to stay.\\n\\nHe paused, looking on me with wonder, and again turning towards the\\nlifeless form of his creator, he seemed to forget my presence, and\\nevery feature and gesture seemed instigated by the wildest rage of some\\nuncontrollable passion.\\n\\n“That is also my victim!” he exclaimed. “In his murder my\\ncrimes are consummated; the miserable series of my being is wound to its\\nclose! Oh, Frankenstein! Generous and self-devoted being! What does it\\navail that I now ask thee to pardon me? I, who irretrievably destroyed thee\\nby destroying all thou lovedst. Alas! He is cold, he cannot answer\\nme.”\\n\\nHis voice seemed suffocated, and my first impulses, which had suggested to\\nme the duty of obeying the dying request of my friend in destroying his\\nenemy, were now suspended by a mixture of curiosity and compassion. I\\napproached this tremendous being; I dared not again raise my eyes to his\\nface, there was something so scaring and unearthly in his ugliness. I\\nattempted to speak, but the words died away on my lips. The monster\\ncontinued to utter wild and incoherent self-reproaches. At length I\\ngathered resolution to address him in a pause of the tempest of his passion.\\n\\n“Your repentance,” I said, “is now superfluous. If you\\nhad listened to the voice of conscience and heeded the stings of remorse\\nbefore you had urged your diabolical vengeance to this extremity,\\nFrankenstein would yet have lived.”\\n\\n“And do you dream?” said the dæmon. “Do you think that I was then\\ndead to agony and remorse? He,” he continued, pointing to the corpse,\\n“he suffered not in the consummation of the deed. Oh! Not the\\nten-thousandth portion of the anguish that was mine during the\\nlingering detail of its execution. A frightful selfishness hurried me\\non, while my heart was poisoned with remorse. Think you that the\\ngroans of Clerval were music to my ears? My heart was fashioned to be\\nsusceptible of love and sympathy, and when wrenched by misery to vice\\nand hatred, it did not endure the violence of the change without\\ntorture such as you cannot even imagine.\\n\\n“After the murder of Clerval I returned to Switzerland, heart-broken\\nand overcome. I pitied Frankenstein; my pity amounted to horror; I\\nabhorred myself. But when I discovered that he, the author at once of\\nmy existence and of its unspeakable torments, dared to hope for\\nhappiness, that while he accumulated wretchedness and despair upon me\\nhe sought his own enjoyment in feelings and passions from the\\nindulgence of which I was for ever barred, then impotent envy and bitter\\nindignation filled me with an insatiable thirst for vengeance. I\\nrecollected my threat and resolved that it should be accomplished. I\\nknew that I was preparing for myself a deadly torture, but I was the\\nslave, not the master, of an impulse which I detested yet could not\\ndisobey. Yet when she died! Nay, then I was not miserable. I had\\ncast off all feeling, subdued all anguish, to riot in the excess of my\\ndespair. Evil thenceforth became my good. Urged thus far, I had no\\nchoice but to adapt my nature to an element which I had willingly\\nchosen. The completion of my demoniacal design became an insatiable\\npassion. And now it is ended; there is my last victim!”\\n\\nI was at first touched by the expressions of his misery; yet, when I called\\nto mind what Frankenstein had said of his powers of eloquence and\\npersuasion, and when I again cast my eyes on the lifeless form of my\\nfriend, indignation was rekindled within me. “Wretch!” I said.\\n“It is well that you come here to whine over the desolation that you\\nhave made. You throw a torch into a pile of buildings, and when they are\\nconsumed, you sit among the ruins and lament the fall. Hypocritical fiend!\\nIf he whom you mourn still lived, still would he be the object, again would\\nhe become the prey, of your accursed vengeance. It is not pity that you\\nfeel; you lament only because the victim of your malignity is withdrawn\\nfrom your power.”\\n\\n“Oh, it is not thus—not thus,” interrupted the being.\\n“Yet such must be the impression conveyed to you by what appears to\\nbe the purport of my actions. Yet I seek not a fellow feeling in my misery.\\nNo sympathy may I ever find. When I first sought it, it was the love of\\nvirtue, the feelings of happiness and affection with which my whole being\\noverflowed, that I wished to be participated. But now that virtue has\\nbecome to me a shadow, and that happiness and affection are turned into\\nbitter and loathing despair, in what should I seek for sympathy? I am\\ncontent to suffer alone while my sufferings shall endure; when I die, I am\\nwell satisfied that abhorrence and opprobrium should load my memory. Once\\nmy fancy was soothed with dreams of virtue, of fame, and of enjoyment. Once\\nI falsely hoped to meet with beings who, pardoning my outward form, would\\nlove me for the excellent qualities which I was capable of unfolding. I was\\nnourished with high thoughts of honour and devotion. But now crime has\\ndegraded me beneath the meanest animal. No guilt, no mischief, no\\nmalignity, no misery, can be found comparable to mine. When I run over the\\nfrightful catalogue of my sins, I cannot believe that I am the same\\ncreature whose thoughts were once filled with sublime and transcendent\\nvisions of the beauty and the majesty of goodness. But it is even so; the\\nfallen angel becomes a malignant devil. Yet even that enemy of God and man\\nhad friends and associates in his desolation; I am alone.\\n\\n“You, who call Frankenstein your friend, seem to have a knowledge of my\\ncrimes and his misfortunes. But in the detail which he gave you of them\\nhe could not sum up the hours and months of misery which I endured\\nwasting in impotent passions. For while I destroyed his hopes, I did\\nnot satisfy my own desires. They were for ever ardent and craving; still\\nI desired love and fellowship, and I was still spurned. Was there no\\ninjustice in this? Am I to be thought the only criminal, when all\\nhumankind sinned against me? Why do you not hate Felix, who drove his\\nfriend from his door with contumely? Why do you not execrate the rustic\\nwho sought to destroy the saviour of his child? Nay, these are virtuous\\nand immaculate beings! I, the miserable and the abandoned, am an\\nabortion, to be spurned at, and kicked, and trampled on. Even now my\\nblood boils at the recollection of this injustice.\\n\\n“But it is true that I am a wretch. I have murdered the lovely and\\nthe helpless; I have strangled the innocent as they slept and grasped to\\ndeath his throat who never injured me or any other living thing. I have\\ndevoted my creator, the select specimen of all that is worthy of love and\\nadmiration among men, to misery; I have pursued him even to that\\nirremediable ruin. There he lies, white and cold in death. You hate me, but\\nyour abhorrence cannot equal that with which I regard myself. I look on the\\nhands which executed the deed; I think on the heart in which the\\nimagination of it was conceived and long for the moment when these hands\\nwill meet my eyes, when that imagination will haunt my thoughts no more.\\n\\n“Fear not that I shall be the instrument of future mischief. My work\\nis nearly complete. Neither yours nor any man’s death is needed to\\nconsummate the series of my being and accomplish that which must be done,\\nbut it requires my own. Do not think that I shall be slow to perform this\\nsacrifice. I shall quit your vessel on the ice raft which brought me\\nthither and shall seek the most northern extremity of the globe; I shall\\ncollect my funeral pile and consume to ashes this miserable frame, that its\\nremains may afford no light to any curious and unhallowed wretch who would\\ncreate such another as I have been. I shall die. I shall no longer feel the\\nagonies which now consume me or be the prey of feelings unsatisfied, yet\\nunquenched. He is dead who called me into being; and when I shall be no\\nmore, the very remembrance of us both will speedily vanish. I shall no\\nlonger see the sun or stars or feel the winds play on my cheeks. Light,\\nfeeling, and sense will pass away; and in this condition must I find my\\nhappiness. Some years ago, when the images which this world affords first\\nopened upon me, when I felt the cheering warmth of summer and heard the\\nrustling of the leaves and the warbling of the birds, and these were all to\\nme, I should have wept to die; now it is my only consolation. Polluted by\\ncrimes and torn by the bitterest remorse, where can I find rest but in\\ndeath?\\n\\n“Farewell! I leave you, and in you the last of humankind whom these\\neyes will ever behold. Farewell, Frankenstein! If thou wert yet alive\\nand yet cherished a desire of revenge against me, it would be better\\nsatiated in my life than in my destruction. But it was not so; thou\\ndidst seek my extinction, that I might not cause greater wretchedness;\\nand if yet, in some mode unknown to me, thou hadst not ceased to think\\nand feel, thou wouldst not desire against me a vengeance greater than\\nthat which I feel. Blasted as thou wert, my agony was still superior to\\nthine, for the bitter sting of remorse will not cease to rankle in my\\nwounds until death shall close them for ever.\\n\\n“But soon,” he cried with sad and solemn enthusiasm, “I\\nshall die, and what I now feel be no longer felt. Soon these burning\\nmiseries will be extinct. I shall ascend my funeral pile triumphantly and\\nexult in the agony of the torturing flames. The light of that conflagration\\nwill fade away; my ashes will be swept into the sea by the winds. My spirit\\nwill sleep in peace, or if it thinks, it will not surely think thus.\\nFarewell.”\\n\\nHe sprang from the cabin-window as he said this, upon the ice raft\\nwhich lay close to the vessel. He was soon borne away by the waves and\\nlost in darkness and distance.\\n\\n\\n\\n\\n\\n\\n*** END OF THE PROJECT GUTENBERG EBOOK FRANKENSTEIN; OR, THE MODERN PROMETHEUS ***\\n\\n\\n    \\n\\nUpdated editions will replace the previous one—the old editions will\\nbe renamed.\\n\\nCreating the works from print editions not protected by U.S. copyright\\nlaw means that no one owns a United States copyright in these works,\\nso the Foundation (and you!) can copy and distribute it in the United\\nStates without permission and without paying copyright\\nroyalties. Special rules, set forth in the General Terms of Use part\\nof this license, apply to copying and distributing Project\\nGutenberg™ electronic works to protect the PROJECT GUTENBERG™\\nconcept and trademark. Project Gutenberg is a registered trademark,\\nand may not be used if you charge for an eBook, except by following\\nthe terms of the trademark license, including paying royalties for use\\nof the Project Gutenberg trademark. If you do not charge anything for\\ncopies of this eBook, complying with the trademark license is very\\neasy. You may use this eBook for nearly any purpose such as creation\\nof derivative works, reports, performances and research. Project\\nGutenberg eBooks may be modified and printed and given away—you may\\ndo practically ANYTHING in the United States with eBooks not protected\\nby U.S. copyright law. Redistribution is subject to the trademark\\nlicense, especially commercial redistribution.\\n\\n\\nSTART: FULL LICENSE\\n\\nTHE FULL PROJECT GUTENBERG LICENSE\\n\\nPLEASE READ THIS BEFORE YOU DISTRIBUTE OR USE THIS WORK\\n\\nTo protect the Project Gutenberg™ mission of promoting the free\\ndistribution of electronic works, by using or distributing this work\\n(or any other work associated in any way with the phrase “Project\\nGutenberg”), you agree to comply with all the terms of the Full\\nProject Gutenberg™ License available with this file or online at\\nwww.gutenberg.org/license.\\n\\nSection 1. General Terms of Use and Redistributing Project Gutenberg™\\nelectronic works\\n\\n1.A. By reading or using any part of this Project Gutenberg™\\nelectronic work, you indicate that you have read, understand, agree to\\nand accept all the terms of this license and intellectual property\\n(trademark/copyright) agreement. If you do not agree to abide by all\\nthe terms of this agreement, you must cease using and return or\\ndestroy all copies of Project Gutenberg™ electronic works in your\\npossession. If you paid a fee for obtaining a copy of or access to a\\nProject Gutenberg™ electronic work and you do not agree to be bound\\nby the terms of this agreement, you may obtain a refund from the person\\nor entity to whom you paid the fee as set forth in paragraph 1.E.8.\\n\\n1.B. “Project Gutenberg” is a registered trademark. It may only be\\nused on or associated in any way with an electronic work by people who\\nagree to be bound by the terms of this agreement. There are a few\\nthings that you can do with most Project Gutenberg™ electronic works\\neven without complying with the full terms of this agreement. See\\nparagraph 1.C below. There are a lot of things you can do with Project\\nGutenberg™ electronic works if you follow the terms of this\\nagreement and help preserve free future access to Project Gutenberg™\\nelectronic works. See paragraph 1.E below.\\n\\n1.C. The Project Gutenberg Literary Archive Foundation (“the\\nFoundation” or PGLAF), owns a compilation copyright in the collection\\nof Project Gutenberg™ electronic works. Nearly all the individual\\nworks in the collection are in the public domain in the United\\nStates. If an individual work is unprotected by copyright law in the\\nUnited States and you are located in the United States, we do not\\nclaim a right to prevent you from copying, distributing, performing,\\ndisplaying or creating derivative works based on the work as long as\\nall references to Project Gutenberg are removed. Of course, we hope\\nthat you will support the Project Gutenberg™ mission of promoting\\nfree access to electronic works by freely sharing Project Gutenberg™\\nworks in compliance with the terms of this agreement for keeping the\\nProject Gutenberg™ name associated with the work. You can easily\\ncomply with the terms of this agreement by keeping this work in the\\nsame format with its attached full Project Gutenberg™ License when\\nyou share it without charge with others.\\n\\n1.D. The copyright laws of the place where you are located also govern\\nwhat you can do with this work. Copyright laws in most countries are\\nin a constant state of change. If you are outside the United States,\\ncheck the laws of your country in addition to the terms of this\\nagreement before downloading, copying, displaying, performing,\\ndistributing or creating derivative works based on this work or any\\nother Project Gutenberg™ work. The Foundation makes no\\nrepresentations concerning the copyright status of any work in any\\ncountry other than the United States.\\n\\n1.E. Unless you have removed all references to Project Gutenberg:\\n\\n1.E.1. The following sentence, with active links to, or other\\nimmediate access to, the full Project Gutenberg™ License must appear\\nprominently whenever any copy of a Project Gutenberg™ work (any work\\non which the phrase “Project Gutenberg” appears, or with which the\\nphrase “Project Gutenberg” is associated) is accessed, displayed,\\nperformed, viewed, copied or distributed:\\n\\n    This eBook is for the use of anyone anywhere in the United States and most\\n    other parts of the world at no cost and with almost no restrictions\\n    whatsoever. You may copy it, give it away or re-use it under the terms\\n    of the Project Gutenberg License included with this eBook or online\\n    at www.gutenberg.org. If you\\n    are not located in the United States, you will have to check the laws\\n    of the country where you are located before using this eBook.\\n  \\n1.E.2. If an individual Project Gutenberg™ electronic work is\\nderived from texts not protected by U.S. copyright law (does not\\ncontain a notice indicating that it is posted with permission of the\\ncopyright holder), the work can be copied and distributed to anyone in\\nthe United States without paying any fees or charges. If you are\\nredistributing or providing access to a work with the phrase “Project\\nGutenberg” associated with or appearing on the work, you must comply\\neither with the requirements of paragraphs 1.E.1 through 1.E.7 or\\nobtain permission for the use of the work and the Project Gutenberg™\\ntrademark as set forth in paragraphs 1.E.8 or 1.E.9.\\n\\n1.E.3. If an individual Project Gutenberg™ electronic work is posted\\nwith the permission of the copyright holder, your use and distribution\\nmust comply with both paragraphs 1.E.1 through 1.E.7 and any\\nadditional terms imposed by the copyright holder. Additional terms\\nwill be linked to the Project Gutenberg™ License for all works\\nposted with the permission of the copyright holder found at the\\nbeginning of this work.\\n\\n1.E.4. Do not unlink or detach or remove the full Project Gutenberg™\\nLicense terms from this work, or any files containing a part of this\\nwork or any other work associated with Project Gutenberg™.\\n\\n1.E.5. Do not copy, display, perform, distribute or redistribute this\\nelectronic work, or any part of this electronic work, without\\nprominently displaying the sentence set forth in paragraph 1.E.1 with\\nactive links or immediate access to the full terms of the Project\\nGutenberg™ License.\\n\\n1.E.6. You may convert to and distribute this work in any binary,\\ncompressed, marked up, nonproprietary or proprietary form, including\\nany word processing or hypertext form. However, if you provide access\\nto or distribute copies of a Project Gutenberg™ work in a format\\nother than “Plain Vanilla ASCII” or other format used in the official\\nversion posted on the official Project Gutenberg™ website\\n(www.gutenberg.org), you must, at no additional cost, fee or expense\\nto the user, provide a copy, a means of exporting a copy, or a means\\nof obtaining a copy upon request, of the work in its original “Plain\\nVanilla ASCII” or other form. Any alternate format must include the\\nfull Project Gutenberg™ License as specified in paragraph 1.E.1.\\n\\n1.E.7. Do not charge a fee for access to, viewing, displaying,\\nperforming, copying or distributing any Project Gutenberg™ works\\nunless you comply with paragraph 1.E.8 or 1.E.9.\\n\\n1.E.8. You may charge a reasonable fee for copies of or providing\\naccess to or distributing Project Gutenberg™ electronic works\\nprovided that:\\n\\n    • You pay a royalty fee of 20% of the gross profits you derive from\\n        the use of Project Gutenberg™ works calculated using the method\\n        you already use to calculate your applicable taxes. The fee is owed\\n        to the owner of the Project Gutenberg™ trademark, but he has\\n        agreed to donate royalties under this paragraph to the Project\\n        Gutenberg Literary Archive Foundation. Royalty payments must be paid\\n        within 60 days following each date on which you prepare (or are\\n        legally required to prepare) your periodic tax returns. Royalty\\n        payments should be clearly marked as such and sent to the Project\\n        Gutenberg Literary Archive Foundation at the address specified in\\n        Section 4, “Information about donations to the Project Gutenberg\\n        Literary Archive Foundation.”\\n    \\n    • You provide a full refund of any money paid by a user who notifies\\n        you in writing (or by e-mail) within 30 days of receipt that s/he\\n        does not agree to the terms of the full Project Gutenberg™\\n        License. You must require such a user to return or destroy all\\n        copies of the works possessed in a physical medium and discontinue\\n        all use of and all access to other copies of Project Gutenberg™\\n        works.\\n    \\n    • You provide, in accordance with paragraph 1.F.3, a full refund of\\n        any money paid for a work or a replacement copy, if a defect in the\\n        electronic work is discovered and reported to you within 90 days of\\n        receipt of the work.\\n    \\n    • You comply with all other terms of this agreement for free\\n        distribution of Project Gutenberg™ works.\\n    \\n\\n1.E.9. If you wish to charge a fee or distribute a Project\\nGutenberg™ electronic work or group of works on different terms than\\nare set forth in this agreement, you must obtain permission in writing\\nfrom the Project Gutenberg Literary Archive Foundation, the manager of\\nthe Project Gutenberg™ trademark. Contact the Foundation as set\\nforth in Section 3 below.\\n\\n1.F.\\n\\n1.F.1. Project Gutenberg volunteers and employees expend considerable\\neffort to identify, do copyright research on, transcribe and proofread\\nworks not protected by U.S. copyright law in creating the Project\\nGutenberg™ collection. Despite these efforts, Project Gutenberg™\\nelectronic works, and the medium on which they may be stored, may\\ncontain “Defects,” such as, but not limited to, incomplete, inaccurate\\nor corrupt data, transcription errors, a copyright or other\\nintellectual property infringement, a defective or damaged disk or\\nother medium, a computer virus, or computer codes that damage or\\ncannot be read by your equipment.\\n\\n1.F.2. LIMITED WARRANTY, DISCLAIMER OF DAMAGES - Except for the “Right\\nof Replacement or Refund” described in paragraph 1.F.3, the Project\\nGutenberg Literary Archive Foundation, the owner of the Project\\nGutenberg™ trademark, and any other party distributing a Project\\nGutenberg™ electronic work under this agreement, disclaim all\\nliability to you for damages, costs and expenses, including legal\\nfees. YOU AGREE THAT YOU HAVE NO REMEDIES FOR NEGLIGENCE, STRICT\\nLIABILITY, BREACH OF WARRANTY OR BREACH OF CONTRACT EXCEPT THOSE\\nPROVIDED IN PARAGRAPH 1.F.3. YOU AGREE THAT THE FOUNDATION, THE\\nTRADEMARK OWNER, AND ANY DISTRIBUTOR UNDER THIS AGREEMENT WILL NOT BE\\nLIABLE TO YOU FOR ACTUAL, DIRECT, INDIRECT, CONSEQUENTIAL, PUNITIVE OR\\nINCIDENTAL DAMAGES EVEN IF YOU GIVE NOTICE OF THE POSSIBILITY OF SUCH\\nDAMAGE.\\n\\n1.F.3. LIMITED RIGHT OF REPLACEMENT OR REFUND - If you discover a\\ndefect in this electronic work within 90 days of receiving it, you can\\nreceive a refund of the money (if any) you paid for it by sending a\\nwritten explanation to the person you received the work from. If you\\nreceived the work on a physical medium, you must return the medium\\nwith your written explanation. The person or entity that provided you\\nwith the defective work may elect to provide a replacement copy in\\nlieu of a refund. If you received the work electronically, the person\\nor entity providing it to you may choose to give you a second\\nopportunity to receive the work electronically in lieu of a refund. If\\nthe second copy is also defective, you may demand a refund in writing\\nwithout further opportunities to fix the problem.\\n\\n1.F.4. Except for the limited right of replacement or refund set forth\\nin paragraph 1.F.3, this work is provided to you ‘AS-IS’, WITH NO\\nOTHER WARRANTIES OF ANY KIND, EXPRESS OR IMPLIED, INCLUDING BUT NOT\\nLIMITED TO WARRANTIES OF MERCHANTABILITY OR FITNESS FOR ANY PURPOSE.\\n\\n1.F.5. Some states do not allow disclaimers of certain implied\\nwarranties or the exclusion or limitation of certain types of\\ndamages. If any disclaimer or limitation set forth in this agreement\\nviolates the law of the state applicable to this agreement, the\\nagreement shall be interpreted to make the maximum disclaimer or\\nlimitation permitted by the applicable state law. The invalidity or\\nunenforceability of any provision of this agreement shall not void the\\nremaining provisions.\\n\\n1.F.6. INDEMNITY - You agree to indemnify and hold the Foundation, the\\ntrademark owner, any agent or employee of the Foundation, anyone\\nproviding copies of Project Gutenberg™ electronic works in\\naccordance with this agreement, and any volunteers associated with the\\nproduction, promotion and distribution of Project Gutenberg™\\nelectronic works, harmless from all liability, costs and expenses,\\nincluding legal fees, that arise directly or indirectly from any of\\nthe following which you do or cause to occur: (a) distribution of this\\nor any Project Gutenberg™ work, (b) alteration, modification, or\\nadditions or deletions to any Project Gutenberg™ work, and (c) any\\nDefect you cause.\\n\\nSection 2. Information about the Mission of Project Gutenberg™\\n\\nProject Gutenberg™ is synonymous with the free distribution of\\nelectronic works in formats readable by the widest variety of\\ncomputers including obsolete, old, middle-aged and new computers. It\\nexists because of the efforts of hundreds of volunteers and donations\\nfrom people in all walks of life.\\n\\nVolunteers and financial support to provide volunteers with the\\nassistance they need are critical to reaching Project Gutenberg™’s\\ngoals and ensuring that the Project Gutenberg™ collection will\\nremain freely available for generations to come. In 2001, the Project\\nGutenberg Literary Archive Foundation was created to provide a secure\\nand permanent future for Project Gutenberg™ and future\\ngenerations. To learn more about the Project Gutenberg Literary\\nArchive Foundation and how your efforts and donations can help, see\\nSections 3 and 4 and the Foundation information page at www.gutenberg.org.\\n\\nSection 3. Information about the Project Gutenberg Literary Archive Foundation\\n\\nThe Project Gutenberg Literary Archive Foundation is a non-profit\\n501(c)(3) educational corporation organized under the laws of the\\nstate of Mississippi and granted tax exempt status by the Internal\\nRevenue Service. The Foundation’s EIN or federal tax identification\\nnumber is 64-6221541. Contributions to the Project Gutenberg Literary\\nArchive Foundation are tax deductible to the full extent permitted by\\nU.S. federal laws and your state’s laws.\\n\\nThe Foundation’s business office is located at 809 North 1500 West,\\nSalt Lake City, UT 84116, (801) 596-1887. Email contact links and up\\nto date contact information can be found at the Foundation’s website\\nand official page at www.gutenberg.org/contact\\n\\nSection 4. Information about Donations to the Project Gutenberg\\nLiterary Archive Foundation\\n\\nProject Gutenberg™ depends upon and cannot survive without widespread\\npublic support and donations to carry out its mission of\\nincreasing the number of public domain and licensed works that can be\\nfreely distributed in machine-readable form accessible by the widest\\narray of equipment including outdated equipment. Many small donations\\n($1 to $5,000) are particularly important to maintaining tax exempt\\nstatus with the IRS.\\n\\nThe Foundation is committed to complying with the laws regulating\\ncharities and charitable donations in all 50 states of the United\\nStates. Compliance requirements are not uniform and it takes a\\nconsiderable effort, much paperwork and many fees to meet and keep up\\nwith these requirements. We do not solicit donations in locations\\nwhere we have not received written confirmation of compliance. To SEND\\nDONATIONS or determine the status of compliance for any particular state\\nvisit www.gutenberg.org/donate.\\n\\nWhile we cannot and do not solicit contributions from states where we\\nhave not met the solicitation requirements, we know of no prohibition\\nagainst accepting unsolicited donations from donors in such states who\\napproach us with offers to donate.\\n\\nInternational donations are gratefully accepted, but we cannot make\\nany statements concerning tax treatment of donations received from\\noutside the United States. U.S. laws alone swamp our small staff.\\n\\nPlease check the Project Gutenberg web pages for current donation\\nmethods and addresses. Donations are accepted in a number of other\\nways including checks, online payments and credit card donations. To\\ndonate, please visit: www.gutenberg.org/donate.\\n\\nSection 5. General Information About Project Gutenberg™ electronic works\\n\\nProfessor Michael S. Hart was the originator of the Project\\nGutenberg™ concept of a library of electronic works that could be\\nfreely shared with anyone. For forty years, he produced and\\ndistributed Project Gutenberg™ eBooks with only a loose network of\\nvolunteer support.\\n\\nProject Gutenberg™ eBooks are often created from several printed\\neditions, all of which are confirmed as not protected by copyright in\\nthe U.S. unless a copyright notice is included. Thus, we do not\\nnecessarily keep eBooks in compliance with any particular paper\\nedition.\\n\\nMost people start at our website which has the main PG search\\nfacility: www.gutenberg.org.\\n\\nThis website includes information about Project Gutenberg™,\\nincluding how to make donations to the Project Gutenberg Literary\\nArchive Foundation, how to help produce our new eBooks, and how to\\nsubscribe to our email newsletter to hear about new eBooks.\\n\\n\\n'"
      ]
     },
     "execution_count": 15,
     "metadata": {},
     "output_type": "execute_result"
    }
   ],
   "source": [
    "text"
   ]
  },
  {
   "cell_type": "code",
   "execution_count": 37,
   "id": "728cf55e",
   "metadata": {
    "scrolled": true
   },
   "outputs": [
    {
     "data": {
      "text/plain": [
       "True"
      ]
     },
     "execution_count": 37,
     "metadata": {},
     "output_type": "execute_result"
    }
   ],
   "source": [
    "text == text2"
   ]
  },
  {
   "cell_type": "markdown",
   "id": "dd87c141",
   "metadata": {},
   "source": [
    "##  Get data pointers from a trusted source"
   ]
  },
  {
   "cell_type": "markdown",
   "id": "ac067c73",
   "metadata": {},
   "source": [
    "The [Gutenberg.org page](https://gutenberg.org/browse/scores/top) contains a list of the 100\n",
    "most downloaded books, including *Frankenstein*, which we just downloaded in our introductory section,\n",
    "and *Pride and Prejudice*, which has shown up in a lot of our examples.\n",
    "\n",
    "Let's get the list and compute some statistics from that data."
   ]
  },
  {
   "cell_type": "code",
   "execution_count": 30,
   "id": "dfb5d183",
   "metadata": {},
   "outputs": [],
   "source": [
    "from bs4 import BeautifulSoup\n",
    "\n",
    "book_list = \"https://gutenberg.org/browse/scores/top\"\n",
    "with urllib.request.urlopen(book_list) as stream:\n",
    "    html_doc = stream.read()\n",
    "soup = BeautifulSoup(html_doc, 'html.parser')"
   ]
  },
  {
   "cell_type": "code",
   "execution_count": 31,
   "id": "b4c634dc",
   "metadata": {},
   "outputs": [
    {
     "name": "stdout",
     "output_type": "stream",
     "text": [
      "<meta charset=\"utf-8\"/>\n",
      "****\n",
      "<title>Top 100 | Project Gutenberg</title>\n",
      "****\n",
      "<link href=\"/gutenberg/style.css?v=1.1\" rel=\"stylesheet\"/>\n",
      "****\n",
      "<link href=\"/gutenberg/collapsible.css?1.1\" rel=\"stylesheet\"/>\n",
      "****\n",
      "<link href=\"/gutenberg/new_nav.css?v=1.321231\" rel=\"stylesheet\"/>\n",
      "****\n",
      "<link href=\"/gutenberg/pg-desktop-one.css\" rel=\"stylesheet\"/>\n",
      "****\n",
      "<meta content=\"width=device-width, initial-scale=1\" name=\"viewport\"/>\n",
      "****\n",
      "<meta content=\"books, ebooks, free, kindle, android, iphone, ipad\" name=\"keywords\">\n",
      "<meta content=\"wucOEvSnj5kP3Ts_36OfP64laakK-1mVTg-ptrGC9io\" name=\"google-site-verification\"/>\n",
      "<meta content=\"4WNaCljsE-A82vP_ih2H_UqXZvM\" name=\"alexaVerifyID\"/>\n",
      "<link href=\"https://www.gnu.org/copyleft/fdl.html\" rel=\"copyright\">\n",
      "<link href=\"/gutenberg/favicon.ico\" rel=\"icon\" sizes=\"16x16\" type=\"image/png\">\n",
      "<meta content=\"Project Gutenberg\" property=\"og:title\"/>\n",
      "<meta content=\"website\" property=\"og:type\"/>\n",
      "<meta content=\"https://www.gutenberg.org/\" property=\"og:url\"/>\n",
      "<meta content=\"Project Gutenberg is a library of free eBooks.\" property=\"og:description\"/>\n",
      "<meta content=\"615269807\" property=\"fb:admins\"/>\n",
      "<meta content=\"115319388529183\" property=\"fb:app_id\"/>\n",
      "<meta content=\"Project Gutenberg\" property=\"og:site_name\"/>\n",
      "<meta content=\"https://www.gutenberg.org/gutenberg/pg-logo-144x144.png\" property=\"og:image\"/>\n",
      "</link></link></meta>\n",
      "****\n",
      "<meta content=\"wucOEvSnj5kP3Ts_36OfP64laakK-1mVTg-ptrGC9io\" name=\"google-site-verification\"/>\n",
      "****\n",
      "<meta content=\"4WNaCljsE-A82vP_ih2H_UqXZvM\" name=\"alexaVerifyID\"/>\n",
      "****\n",
      "<link href=\"https://www.gnu.org/copyleft/fdl.html\" rel=\"copyright\">\n",
      "<link href=\"/gutenberg/favicon.ico\" rel=\"icon\" sizes=\"16x16\" type=\"image/png\">\n",
      "<meta content=\"Project Gutenberg\" property=\"og:title\"/>\n",
      "<meta content=\"website\" property=\"og:type\"/>\n",
      "<meta content=\"https://www.gutenberg.org/\" property=\"og:url\"/>\n",
      "<meta content=\"Project Gutenberg is a library of free eBooks.\" property=\"og:description\"/>\n",
      "<meta content=\"615269807\" property=\"fb:admins\"/>\n",
      "<meta content=\"115319388529183\" property=\"fb:app_id\"/>\n",
      "<meta content=\"Project Gutenberg\" property=\"og:site_name\"/>\n",
      "<meta content=\"https://www.gutenberg.org/gutenberg/pg-logo-144x144.png\" property=\"og:image\"/>\n",
      "</link></link>\n",
      "****\n",
      "<link href=\"/gutenberg/favicon.ico\" rel=\"icon\" sizes=\"16x16\" type=\"image/png\">\n",
      "<meta content=\"Project Gutenberg\" property=\"og:title\"/>\n",
      "<meta content=\"website\" property=\"og:type\"/>\n",
      "<meta content=\"https://www.gutenberg.org/\" property=\"og:url\"/>\n",
      "<meta content=\"Project Gutenberg is a library of free eBooks.\" property=\"og:description\"/>\n",
      "<meta content=\"615269807\" property=\"fb:admins\"/>\n",
      "<meta content=\"115319388529183\" property=\"fb:app_id\"/>\n",
      "<meta content=\"Project Gutenberg\" property=\"og:site_name\"/>\n",
      "<meta content=\"https://www.gutenberg.org/gutenberg/pg-logo-144x144.png\" property=\"og:image\"/>\n",
      "</link>\n",
      "****\n",
      "<meta content=\"Project Gutenberg\" property=\"og:title\"/>\n",
      "****\n",
      "<meta content=\"website\" property=\"og:type\"/>\n",
      "****\n"
     ]
    }
   ],
   "source": [
    "# soup is a document tree (sort of)\n",
    "L = soup.findChildren()[0].findChildren()\n",
    "for child in L[:15]:\n",
    "    if child.name == \"head\":\n",
    "        continue\n",
    "    print(child)\n",
    "    print(\"****\")"
   ]
  },
  {
   "cell_type": "markdown",
   "id": "606d96f1",
   "metadata": {},
   "source": [
    "A properly closed link looks like this:\n",
    "\n",
    "```\n",
    "<a href=\"/ebooks/4300\">Ulysses by James Joyce (434)</a>\n",
    "````\n",
    "\n",
    "Find all of the links.  Extract the book idx (4300, in this case) and the title from the link.\n",
    "\n",
    "Use the structure in the parsed html (the `soup` instance).,"
   ]
  },
  {
   "cell_type": "code",
   "execution_count": 32,
   "id": "b943b3de",
   "metadata": {},
   "outputs": [
    {
     "name": "stdout",
     "output_type": "stream",
     "text": [
      "138 book indices found.\n"
     ]
    },
    {
     "data": {
      "text/plain": [
       "['2680',\n",
       " '64317',\n",
       " '10940',\n",
       " '1727',\n",
       " '33283',\n",
       " '1661',\n",
       " '16',\n",
       " '41580',\n",
       " '6761',\n",
       " '1232']"
      ]
     },
     "execution_count": 32,
     "metadata": {},
     "output_type": "execute_result"
    }
   ],
   "source": [
    "import re\n",
    "\n",
    "#  All links are inside the tag <a ... >\n",
    "links = soup.find_all('a')\n",
    "\n",
    "# We're restricting our harvest to links whose hrefs start with this string (links to book pages)\n",
    "path_re = \"/ebooks/(\\d+)\"\n",
    "reg_exp = re.compile(path_re)\n",
    "\n",
    "## Containers for collected data\n",
    "idxs = []\n",
    "# Let's grab the book titles too (cause we're humans. and like names instead of numbers)\n",
    "titles = dict()\n",
    "\n",
    "#  Do the collecting\n",
    "for link in links:\n",
    "    # Get the ref string from inside the link instance\n",
    "    ref = link.get(\"href\")\n",
    "    match = reg_exp.findall(ref)\n",
    "    if match:\n",
    "        # findall returns a list.  If there's a match, there will be only one idx\n",
    "        idx = match[0]\n",
    "        idxs.append(idx)\n",
    "        titles[idx]  = link.get_text()\n",
    "\n",
    "# There is more than one top 100 list on the page. They have duplicates.  Remove them\n",
    "idxs = list(set(idxs))\n",
    "print(f\"{len(idxs)} book indices found.\")\n",
    "idxs[:10]"
   ]
  },
  {
   "cell_type": "code",
   "execution_count": 33,
   "id": "5515d859",
   "metadata": {},
   "outputs": [
    {
     "data": {
      "text/plain": [
       "{'84': 'Frankenstein; Or, The Modern Prometheus by Mary Wollstonecraft Shelley (85269)',\n",
       " '1342': 'Pride and Prejudice by Jane Austen (68228)',\n",
       " '2701': 'Moby Dick; Or, The Whale by Herman Melville (63500)',\n",
       " '12233': 'Stonewall Jackson and the American Civil War by G. F. R.  Henderson (2177)',\n",
       " '1513': 'Romeo and Juliet by William Shakespeare (58361)',\n",
       " '145': 'Middlemarch by George Eliot (46099)',\n",
       " '37106': 'Little Women; Or, Meg, Jo, Beth, and Amy by Louisa May Alcott (42596)',\n",
       " '100': 'The Complete Works of William Shakespeare by William Shakespeare (43956)',\n",
       " '55231': 'A history of the Peninsular War, Vol. 3, Sep. 1809-Dec. 1810 : by Charles Oman (1470)',\n",
       " '2641': 'A Room with a View by E. M.  Forster (44091)',\n",
       " '16389': 'The Enchanted April by Elizabeth Von Arnim (39653)',\n",
       " '2542': \"A Doll's House : a play by Henrik Ibsen (29019)\",\n",
       " '67979': 'The Blue Castle: a novel by L. M.  Montgomery (39425)',\n",
       " '64317': 'The Great Gatsby by F. Scott  Fitzgerald (29613)',\n",
       " '844': 'The Importance of Being Earnest: A Trivial Comedy for Serious People by Oscar Wilde (28134)',\n",
       " '11': \"Alice's Adventures in Wonderland by Lewis Carroll (32619)\",\n",
       " '6761': 'The Adventures of Ferdinand Count Fathom — Complete by T.  Smollett (36538)',\n",
       " '2160': 'The Expedition of Humphry Clinker by T.  Smollett (35695)',\n",
       " '394': 'Cranford by Elizabeth Cleghorn Gaskell (36169)',\n",
       " '4085': 'The Adventures of Roderick Random by T.  Smollett (35341)',\n",
       " '6593': 'History of Tom Jones, a Foundling by Henry Fielding (34837)',\n",
       " '5197': 'My Life — Volume 1 by Richard Wagner (34159)',\n",
       " '1259': 'Twenty years after by Alexandre Dumas and Auguste Maquet (34490)',\n",
       " '174': 'The Picture of Dorian Gray by Oscar Wilde (27832)',\n",
       " '2130': 'Utopia by Saint Thomas More (1007)',\n",
       " '5200': 'Metamorphosis by Franz Kafka (25562)',\n",
       " '2554': 'Crime and Punishment by Fyodor Dostoyevsky (24764)',\n",
       " '98': 'A Tale of Two Cities by Charles Dickens (22478)',\n",
       " '12915': 'The White Devil by John Webster (855)',\n",
       " '1952': 'The Yellow Wallpaper by Charlotte Perkins Gilman (23961)',\n",
       " '1080': 'A Modest Proposal by Jonathan Swift (19605)',\n",
       " '345': 'Dracula by Bram Stoker (20251)',\n",
       " '43750': 'Ancient Man in Britain by Donald A.  Mackenzie (765)',\n",
       " '47629': 'Ang \"Filibusterismo\" (Karugtóng ng Noli Me Tangere) by José Rizal (15030)',\n",
       " '3207': 'Leviathan by Thomas Hobbes (10135)',\n",
       " '86': \"A Connecticut Yankee in King Arthur's Court by Mark Twain (723)\",\n",
       " '73358': 'Classified object by John Victor Peterson (693)',\n",
       " '43045': \"George Eliot's Life, as Related in Her Letters and Journals. Vol. 3 (of 3) by George Eliot (686)\",\n",
       " '1400': 'Great Expectations by Charles Dickens (17455)',\n",
       " '25344': 'The Scarlet Letter by Nathaniel Hawthorne (16315)',\n",
       " '34279': 'Handbook of Medical Entomology by O. A.  Johannsen and William A.  Riley (626)',\n",
       " '20228': 'Noli Me Tangere by José Rizal (13622)',\n",
       " '43': 'The Strange Case of Dr. Jekyll and Mr. Hyde by Robert Louis Stevenson (16467)',\n",
       " '219': 'Heart of Darkness by Joseph Conrad (15126)',\n",
       " '43044': \"George Eliot's Life, as Related in Her Letters and Journals. Vol. 2 (of 3) by George Eliot (596)\",\n",
       " '1260': 'Jane Eyre: An Autobiography by Charlotte Brontë (16234)',\n",
       " '28054': 'The Brothers Karamazov by Fyodor Dostoyevsky (14696)',\n",
       " '76': 'Adventures of Huckleberry Finn by Mark Twain (15569)',\n",
       " '43043': \"George Eliot's Life, as Related in Her Letters and Journals. Vol. 1 (of 3) by George Eliot (564)\",\n",
       " '10940': 'Manners, Customs, and Dress During the Middle Ages and During the Renaissance Period by P. L. Jacob (526)',\n",
       " '1661': 'The Adventures of Sherlock Holmes by Arthur Conan Doyle (15196)',\n",
       " '408': 'The Souls of Black Folk by W. E. B.  Du Bois (12798)',\n",
       " '73354': 'A world to die for by Sam Carson (521)',\n",
       " '13923': 'The Whitehouse Cookbook (1887) by F. L.  Gillette and Hugo Ziemann (505)',\n",
       " '73352': 'The heel of Achilles by E. M. Delafield (501)',\n",
       " '73351': 'Mr. Loneliness by Henry Slesar (489)',\n",
       " '6130': 'The Iliad by Homer (13413)',\n",
       " '768': 'Wuthering Heights by Emily Brontë (12086)',\n",
       " '25709': 'A Practical View of the Prevailing Religious System of Professed Christians, in the Middle and Highe (469)',\n",
       " '73356': 'Too close to the forest by Al Reynolds and Bryce Walton (468)',\n",
       " '2814': 'Dubliners by James Joyce (10546)',\n",
       " '4300': 'Ulysses by James Joyce (12844)',\n",
       " '73357': \"No star's land by William Douglas Morrison (461)\",\n",
       " '73355': 'The deadly ones by F. L.  Wallace (456)',\n",
       " '42931': 'Plotinos: Complete Works, v. 2 by Plotinus (450)',\n",
       " '2591': \"Grimms' Fairy Tales by Jacob Grimm and Wilhelm Grimm (13038)\",\n",
       " '996': 'Don Quixote by Miguel de Cervantes Saavedra (9397)',\n",
       " '1727': 'The Odyssey by Homer (11745)',\n",
       " '42933': 'Plotinos: Complete Works, v. 4 by Plotinus (429)',\n",
       " '2000': 'Don Quijote by Miguel de Cervantes Saavedra (12827)',\n",
       " '10676': 'The Reign of Greed by José Rizal (11193)',\n",
       " '1232': 'The Prince by Niccolò Machiavelli (12186)',\n",
       " '19598': 'How to Live: Rules for Healthful Living Based on Modern Science by Fisher and Fisk (406)',\n",
       " '67098': 'Winnie-the-Pooh by A. A.  Milne (9057)',\n",
       " '41445': 'Frankenstein; Or, The Modern Prometheus by Mary Wollstonecraft Shelley (9099)',\n",
       " '40077': 'The Principles of Economics, with Applications to Practical Problems by Frank A.  Fetter (392)',\n",
       " '205': 'Walden, and On The Duty Of Civil Disobedience by Henry David Thoreau (10335)',\n",
       " '23': 'Narrative of the Life of Frederick Douglass, an American Slave by Frederick Douglass (7456)',\n",
       " '1998': 'Thus Spake Zarathustra: A Book for All and None by Friedrich Wilhelm Nietzsche (11465)',\n",
       " '73362': 'Stars and atoms by Sir Arthur Stanley Eddington (374)',\n",
       " '27827': 'The Kama Sutra of Vatsyayana by Vatsyayana (10078)',\n",
       " '30254': 'The Romance of Lust: A classic Victorian erotic novel by Anonymous (9855)',\n",
       " '1184': 'The Count of Monte Cristo by Alexandre Dumas and Auguste Maquet (10283)',\n",
       " '74': 'The Adventures of Tom Sawyer, Complete by Mark Twain (10218)',\n",
       " '120': 'Treasure Island by Robert Louis Stevenson (8749)',\n",
       " '5740': 'Tractatus Logico-Philosophicus by Ludwig Wittgenstein (11438)',\n",
       " '45': 'Anne of Green Gables by L. M.  Montgomery (9537)',\n",
       " '4363': 'Beyond Good and Evil by Friedrich Wilhelm Nietzsche (9710)',\n",
       " '2600': 'War and Peace by graf Leo Tolstoy (12437)',\n",
       " '27752': 'Aphrodisiacs and Anti-aphrodisiacs: Three Essays on the Powers of Reproduction by John Davenport (344)',\n",
       " '16718': 'Mineralogia Polyglotta by Christian Keferstein (341)',\n",
       " '46': 'A Christmas Carol in Prose; Being a Ghost Story of Christmas by Charles Dickens (10953)',\n",
       " '37499': \"Napoleon's Letters to Josephine, 1796-1812 by Emperor of the French Napoleon I (336)\",\n",
       " '7370': 'Second Treatise of Government by John Locke (9044)',\n",
       " '244': 'A Study in Scarlet by Arthur Conan Doyle (8668)',\n",
       " '36': 'The War of the Worlds by H. G.  Wells (8965)',\n",
       " '11030': 'Incidents in the Life of a Slave Girl, Written by Herself by Harriet A.  Jacobs (6697)',\n",
       " '600': 'Notes from the Underground by Fyodor Dostoyevsky (8974)',\n",
       " '2680': 'Meditations by Emperor of Rome Marcus Aurelius (8340)',\n",
       " '1497': 'The Republic by Plato (10076)',\n",
       " '42996': 'Castes and Tribes of Southern India. Vol. 6 of 7 by Edgar Thurston (3395)',\n",
       " '732': 'History of the Decline and Fall of the Roman Empire — Volume 2 by Edward Gibbon (3217)',\n",
       " '15293': 'Influences of Geographic Environment by Ellen Churchill Semple (3206)',\n",
       " '57374': 'Annals and Antiquities of Rajasthan, v. 1 of 3 by James Tod (3056)',\n",
       " '33283': 'Calculus Made Easy by Silvanus P.  Thompson (8578)',\n",
       " '48334': 'Ireland under the Tudors, with a Succinct Account of the Earlier History. Vol. 2 (of 3) by Bagwell (2370)',\n",
       " '15845': 'Florante at Laura by Francisco Balagtas (2310)',\n",
       " '514': 'Little Women by Louisa May Alcott (9181)',\n",
       " '135': 'Les Misérables by Victor Hugo (6689)',\n",
       " '41580': 'Haunted London by Walter Thornbury (2090)',\n",
       " '8800': 'The divine comedy by Dante Alighieri (10039)',\n",
       " '58585': 'The Prophet by Kahlil Gibran (8605)',\n",
       " '67223': 'The Strangest Things in the World: A Book About Extraordinary Manifestations of Nature by Henry (1981)',\n",
       " '10': 'The King James Version of the Bible (8471)',\n",
       " '10007': 'Carmilla by Joseph Sheridan Le Fanu (7823)',\n",
       " '8492': 'The King in Yellow by Robert W.  Chambers (8507)',\n",
       " '2852': 'The Hound of the Baskervilles by Arthur Conan Doyle (8191)',\n",
       " '35899': 'The Philippines a Century Hence by José Rizal (6227)',\n",
       " '16': 'Peter Pan by J. M.  Barrie (8471)',\n",
       " '55': 'The Wonderful Wizard of Oz by L. Frank  Baum (8518)',\n",
       " '22599': 'The Hindu-Arabic Numerals by Louis Charles Karpinski and David Eugene Smith (1846)',\n",
       " '158': 'Emma by Jane Austen (7910)',\n",
       " '16119': 'Doctrina Christiana (7026)',\n",
       " '45304': 'The City of God, Volume I by Bishop of Hippo Saint Augustine (1831)',\n",
       " '730': 'Oliver Twist by Charles Dickens (7401)',\n",
       " '36034': 'White Nights and Other Stories by Fyodor Dostoyevsky (7768)',\n",
       " '35': 'The Time Machine by H. G.  Wells (7085)',\n",
       " '55084': 'The Homing Pigeon by United States. Army. Signal Corps and United States. War Department (21819)',\n",
       " '829': \"Gulliver's Travels into Several Remote Nations of the World by Jonathan Swift (7458)\",\n",
       " '161': 'Sense and Sensibility by Jane Austen (7262)',\n",
       " '3825': 'Pygmalion by Bernard Shaw (7001)',\n",
       " '3296': 'The Confessions of St. Augustine by Bishop of Hippo Saint Augustine (6906)',\n",
       " '5827': 'The Problems of Philosophy by Bertrand Russell (6724)',\n",
       " '24869': 'The Rámáyan of Válmíki, translated into English verse by Valmiki (6619)',\n",
       " '105': 'Persuasion by Jane Austen (6616)',\n",
       " '42324': 'Frankenstein; Or, The Modern Prometheus by Mary Wollstonecraft Shelley (6063)',\n",
       " '4217': 'A Portrait of the Artist as a Young Man by James Joyce (6031)',\n",
       " '16328': 'Beowulf: An Anglo-Saxon Epic Poem (6007)'}"
      ]
     },
     "execution_count": 33,
     "metadata": {},
     "output_type": "execute_result"
    }
   ],
   "source": [
    "titles"
   ]
  },
  {
   "cell_type": "markdown",
   "id": "f785d129",
   "metadata": {},
   "source": [
    "For you possibly puzzled Tolstoy fans, *graf* is Russian for Count.  Although the link\n",
    "takes you to the Constance Garnett translation, the metadata lists the author as \"graf Leo Tolstoy\".\n",
    "I don't know why."
   ]
  },
  {
   "cell_type": "markdown",
   "id": "71ce877b",
   "metadata": {},
   "source": [
    "##  Get the data"
   ]
  },
  {
   "cell_type": "markdown",
   "id": "cd74be8d",
   "metadata": {},
   "source": [
    "We have the **indexes** for the books we want.  Now download the data using `get_book` (defined\n",
    "in the first section).  Reset `num_samples` to fit your time and space requirements."
   ]
  },
  {
   "cell_type": "code",
   "execution_count": 34,
   "id": "bd150f18",
   "metadata": {
    "scrolled": true
   },
   "outputs": [
    {
     "name": "stdout",
     "output_type": "stream",
     "text": [
      "Getting 20 books\n",
      "0 read!\n",
      "1 read!\n",
      "2 read!\n",
      "3 read!\n",
      "Err 4\n",
      "5 read!\n",
      "6 read!\n",
      "7 read!\n",
      "8 read!\n",
      "9 read!\n",
      "10 read!\n",
      "11 read!\n",
      "12 read!\n",
      "13 read!\n",
      "14 read!\n",
      "15 read!\n",
      "16 read!\n",
      "17 read!\n",
      "18 read!\n",
      "19 read!\n"
     ]
    }
   ],
   "source": [
    "import time\n",
    "\n",
    "books = []\n",
    "errs = []\n",
    "\n",
    "# Implement delay between downloads to be NICE to host website\n",
    "delay = 5\n",
    "num_samples = 20\n",
    "\n",
    "print(f\"Getting {num_samples} books\")\n",
    "for (i,idx) in enumerate(idxs[:num_samples]):\n",
    "    try:  #  There do seem to be missing books\n",
    "       books.append(get_book(idx))\n",
    "       print(f\"{i} read!\")\n",
    "       time.sleep(delay)\n",
    "    except urllib.request.HTTPError:\n",
    "        print(f\"Err {i}\")\n",
    "        errs.append(idx)"
   ]
  },
  {
   "cell_type": "markdown",
   "id": "fd420919",
   "metadata": {},
   "source": [
    "The books that have been moved or removed (when downloading all 115 books):"
   ]
  },
  {
   "cell_type": "code",
   "execution_count": 35,
   "id": "d7c62073",
   "metadata": {},
   "outputs": [
    {
     "name": "stdout",
     "output_type": "stream",
     "text": [
      "Calculus Made Easy by Silvanus P.  Thompson (8578)\n"
     ]
    }
   ],
   "source": [
    "for idx in errs:\n",
    "    print(titles[idx])"
   ]
  },
  {
   "cell_type": "code",
   "execution_count": 62,
   "id": "8e3881c2",
   "metadata": {},
   "outputs": [
    {
     "name": "stdout",
     "output_type": "stream",
     "text": [
      "Calculus Made Easy by Silvanus P.  Thompson (10359)\n",
      "Moby Word Lists by Grady Ward (355)\n",
      "Tractatus Logico-Philosophicus by Ludwig Wittgenstein (12068)\n"
     ]
    }
   ],
   "source": [
    "for idx in errs:\n",
    "    print(titles[idx])"
   ]
  },
  {
   "cell_type": "markdown",
   "id": "b3d0c039",
   "metadata": {},
   "source": [
    "## Cleanup\n",
    "\n",
    "Remove Gutenberg.org identifying front matter"
   ]
  },
  {
   "cell_type": "code",
   "execution_count": 77,
   "id": "e0d6bb68",
   "metadata": {},
   "outputs": [],
   "source": [
    "tag_str = \"*** START OF THE PROJECT GUTENBERG EBOOK\"\n",
    "def get_tag_str_line_no (line_list, strict=False):\n",
    "    for (i,l) in enumerate(line_list):\n",
    "        if l.startswith(tag_str):\n",
    "            return i\n",
    "    if strict:\n",
    "        raise Exception(\"No luck!\")\n",
    "    else:\n",
    "        return -1\n",
    "        \n",
    "def clean_book (book_str,strict=False):\n",
    "    lines = book_str.splitlines()\n",
    "    return '\\n'.join(lines[get_tag_str_line_no(lines,strict=strict)+1:])"
   ]
  },
  {
   "cell_type": "code",
   "execution_count": 78,
   "id": "9e47c80c",
   "metadata": {},
   "outputs": [
    {
     "name": "stdout",
     "output_type": "stream",
     "text": [
      "Cleaning 19 books\n",
      "19\n"
     ]
    }
   ],
   "source": [
    "cleaned_books = []\n",
    "\n",
    "#  Return with Exception if cleaning fails\n",
    "strict = True\n",
    "print(f\"Cleaning {len(books)} books\")\n",
    "for (i,book_str) in enumerate(books):\n",
    "    try:\n",
    "       cleaned_books.append(clean_book (book_str,strict=strict))\n",
    "    except Exception:\n",
    "        print(f\"Err {i}\")\n",
    "        continue\n",
    "\n",
    "print(len(cleaned_books))"
   ]
  },
  {
   "cell_type": "markdown",
   "id": "e71c7afb",
   "metadata": {},
   "source": [
    "Save space."
   ]
  },
  {
   "cell_type": "code",
   "execution_count": 79,
   "id": "72bf45a4",
   "metadata": {},
   "outputs": [],
   "source": [
    "books = cleaned_books"
   ]
  },
  {
   "cell_type": "markdown",
   "id": "c3ff075c",
   "metadata": {},
   "source": [
    "## English letter frequencies\n",
    "\n",
    "We illustrate some simple statistics tracking with text."
   ]
  },
  {
   "cell_type": "code",
   "execution_count": 36,
   "id": "1948d802",
   "metadata": {},
   "outputs": [],
   "source": [
    "from collections import Counter\n",
    "\n",
    "ltr_ctr = Counter()\n",
    "\n",
    "for book in books:\n",
    "    ltr_ctr.update(book)"
   ]
  },
  {
   "cell_type": "code",
   "execution_count": 37,
   "id": "1cef7679",
   "metadata": {},
   "outputs": [
    {
     "data": {
      "text/plain": [
       "[(' ', 2985656),\n",
       " ('e', 1701383),\n",
       " ('t', 1207977),\n",
       " ('o', 1065592),\n",
       " ('a', 1039458),\n",
       " ('n', 918774),\n",
       " ('i', 868089),\n",
       " ('h', 867218),\n",
       " ('s', 850086),\n",
       " ('r', 821677)]"
      ]
     },
     "execution_count": 37,
     "metadata": {},
     "output_type": "execute_result"
    }
   ],
   "source": [
    "ltr_ctr.most_common(10)"
   ]
  },
  {
   "cell_type": "markdown",
   "id": "7bda7d42",
   "metadata": {},
   "source": [
    "Removing white space:"
   ]
  },
  {
   "cell_type": "code",
   "execution_count": 82,
   "id": "ac0b61a5",
   "metadata": {},
   "outputs": [],
   "source": [
    "ltr_ctr2 = Counter()\n",
    "\n",
    "for book in books:\n",
    "    ltr_ctr2.update(''.join(book.split()))"
   ]
  },
  {
   "cell_type": "code",
   "execution_count": 83,
   "id": "790eecc6",
   "metadata": {},
   "outputs": [
    {
     "data": {
      "text/plain": [
       "[('e', 1602260),\n",
       " ('t', 1149828),\n",
       " ('a', 1007349),\n",
       " ('o', 961439),\n",
       " ('h', 914048),\n",
       " ('n', 875366),\n",
       " ('s', 791139),\n",
       " ('i', 785031),\n",
       " ('r', 726181),\n",
       " ('d', 578171)]"
      ]
     },
     "execution_count": 83,
     "metadata": {},
     "output_type": "execute_result"
    }
   ],
   "source": [
    "ltr_ctr2.most_common(10)"
   ]
  },
  {
   "cell_type": "markdown",
   "id": "9efbe7be",
   "metadata": {},
   "source": [
    "## English letter digraph frequencies"
   ]
  },
  {
   "cell_type": "code",
   "execution_count": 39,
   "id": "f9552459",
   "metadata": {},
   "outputs": [
    {
     "data": {
      "text/plain": [
       "[('a', 'b'),\n",
       " ('b', 'r'),\n",
       " ('r', 'a'),\n",
       " ('a', 'c'),\n",
       " ('c', 'a'),\n",
       " ('a', 'd'),\n",
       " ('d', 'a'),\n",
       " ('a', 'b'),\n",
       " ('b', 'r'),\n",
       " ('r', 'a')]"
      ]
     },
     "execution_count": 39,
     "metadata": {},
     "output_type": "execute_result"
    }
   ],
   "source": [
    "list(bigrams(\"abracadabra\"))"
   ]
  },
  {
   "cell_type": "code",
   "execution_count": 40,
   "id": "534300a5",
   "metadata": {},
   "outputs": [],
   "source": [
    "from nltk import bigrams\n",
    "\n",
    "ltr_digraph_ctr = Counter()\n",
    "\n",
    "for book in books:\n",
    "    ltr_digraph_ctr.update(bigrams(''.join(book.split())))"
   ]
  },
  {
   "cell_type": "code",
   "execution_count": 41,
   "id": "c5ca0bb1",
   "metadata": {
    "scrolled": true
   },
   "outputs": [
    {
     "data": {
      "text/plain": [
       "[(('t', 'h'), 422250),\n",
       " (('h', 'e'), 367676),\n",
       " (('e', 'r'), 238425),\n",
       " (('i', 'n'), 222905),\n",
       " (('a', 'n'), 207068),\n",
       " (('r', 'e'), 187583),\n",
       " (('n', 'd'), 166000),\n",
       " (('e', 's'), 155890),\n",
       " (('e', 'n'), 155167),\n",
       " (('h', 'a'), 153920)]"
      ]
     },
     "execution_count": 41,
     "metadata": {},
     "output_type": "execute_result"
    }
   ],
   "source": [
    "ltr_digraph_ctr.most_common(10)"
   ]
  },
  {
   "cell_type": "markdown",
   "id": "d5d77752",
   "metadata": {},
   "source": [
    "Criticism:  This technique creates spurious letter bigrams:\n",
    "\n",
    "```\n",
    "of the\n",
    "```\n",
    "\n",
    "becomes\n",
    "\n",
    "```\n",
    "ofthe\n",
    "```\n",
    "\n",
    "creating the unlikely digraph \"ft\".  And sure enough:"
   ]
  },
  {
   "cell_type": "code",
   "execution_count": 86,
   "id": "ade170b4",
   "metadata": {
    "scrolled": true
   },
   "outputs": [
    {
     "data": {
      "text/plain": [
       "46843"
      ]
     },
     "execution_count": 86,
     "metadata": {},
     "output_type": "execute_result"
    }
   ],
   "source": [
    "ltr_digraph_ctr[\"f\",\"t\"]"
   ]
  },
  {
   "cell_type": "markdown",
   "id": "99e21ba9",
   "metadata": {},
   "source": [
    "To avoid this update digraph counts word by word (which is slower):"
   ]
  },
  {
   "cell_type": "code",
   "execution_count": 42,
   "id": "a9108f50",
   "metadata": {},
   "outputs": [],
   "source": [
    "from nltk.tokenize import word_tokenize\n",
    "\n",
    "ltr_digraph_ctr2 = Counter()\n",
    "\n",
    "for book in books:\n",
    "    for word in word_tokenize(book):\n",
    "        ltr_digraph_ctr2.update(bigrams(word))"
   ]
  },
  {
   "cell_type": "code",
   "execution_count": 88,
   "id": "9e706e0d",
   "metadata": {},
   "outputs": [
    {
     "data": {
      "text/plain": [
       "[(('t', 'h'), 434605),\n",
       " (('h', 'e'), 398254),\n",
       " (('a', 'n'), 220483),\n",
       " (('i', 'n'), 209097),\n",
       " (('e', 'r'), 194978),\n",
       " (('n', 'd'), 194009),\n",
       " (('r', 'e'), 169484),\n",
       " (('h', 'a'), 142927),\n",
       " (('o', 'u'), 133577),\n",
       " (('a', 't'), 126597)]"
      ]
     },
     "execution_count": 88,
     "metadata": {},
     "output_type": "execute_result"
    }
   ],
   "source": [
    "ltr_digraph_ctr2.most_common(10)"
   ]
  },
  {
   "cell_type": "code",
   "execution_count": 89,
   "id": "bc48d329",
   "metadata": {},
   "outputs": [
    {
     "data": {
      "text/plain": [
       "(('e', 'n'), 135528)"
      ]
     },
     "execution_count": 89,
     "metadata": {},
     "output_type": "execute_result"
    }
   ],
   "source": [
    "ltr_digraph_ctr.most_common(10)[9]"
   ]
  },
  {
   "cell_type": "code",
   "execution_count": 90,
   "id": "2a43fa83",
   "metadata": {},
   "outputs": [
    {
     "data": {
      "text/plain": [
       "(46843, 10031)"
      ]
     },
     "execution_count": 90,
     "metadata": {},
     "output_type": "execute_result"
    }
   ],
   "source": [
    "ltr_digraph_ctr[\"f\",\"t\"],ltr_digraph_ctr2[\"f\",\"t\"]"
   ]
  },
  {
   "cell_type": "code",
   "execution_count": 91,
   "id": "fb2d71c1",
   "metadata": {},
   "outputs": [
    {
     "data": {
      "text/plain": [
       "(133737, 116265)"
      ]
     },
     "execution_count": 91,
     "metadata": {},
     "output_type": "execute_result"
    }
   ],
   "source": [
    "ltr_digraph_ctr[\"e\",\"d\"],ltr_digraph_ctr2[\"e\",\"d\"]"
   ]
  },
  {
   "cell_type": "code",
   "execution_count": 92,
   "id": "f3348801",
   "metadata": {},
   "outputs": [
    {
     "data": {
      "text/plain": [
       "(153818, 142927)"
      ]
     },
     "execution_count": 92,
     "metadata": {},
     "output_type": "execute_result"
    }
   ],
   "source": [
    "ltr_digraph_ctr[\"h\",\"a\"],ltr_digraph_ctr2[\"h\",\"a\"]"
   ]
  },
  {
   "cell_type": "code",
   "execution_count": 8,
   "id": "6e5c57b2",
   "metadata": {},
   "outputs": [
    {
     "ename": "NameError",
     "evalue": "name 'books' is not defined",
     "output_type": "error",
     "traceback": [
      "\u001b[0;31m---------------------------------------------------------------------------\u001b[0m",
      "\u001b[0;31mNameError\u001b[0m                                 Traceback (most recent call last)",
      "\u001b[0;32m/var/folders/w9/bx4mylnd27g_kqqgn5hrn2x40000gr/T/ipykernel_37936/298546270.py\u001b[0m in \u001b[0;36m<module>\u001b[0;34m\u001b[0m\n\u001b[0;32m----> 1\u001b[0;31m \u001b[0mbooks\u001b[0m\u001b[0;34m.\u001b[0m\u001b[0mkeys\u001b[0m\u001b[0;34m(\u001b[0m\u001b[0;34m)\u001b[0m\u001b[0;34m\u001b[0m\u001b[0;34m\u001b[0m\u001b[0m\n\u001b[0m",
      "\u001b[0;31mNameError\u001b[0m: name 'books' is not defined"
     ]
    }
   ],
   "source": [
    "books.keys()"
   ]
  },
  {
   "cell_type": "markdown",
   "id": "9151997c",
   "metadata": {},
   "source": [
    "##  English word frequencies"
   ]
  },
  {
   "cell_type": "code",
   "execution_count": 43,
   "id": "7106156b",
   "metadata": {},
   "outputs": [
    {
     "name": "stdout",
     "output_type": "stream",
     "text": [
      "0 [(',', 6539), ('and', 3159), ('.', 2972), ('the', 2637), ('of', 2485), ('to', 2001), ('that', 1902), ('is', 1441), ('in', 1137), ('it', 1133)]\n",
      "====================\n",
      "1 [(',', 9652), ('.', 5445), ('the', 5013), ('and', 4699), ('of', 3693), ('to', 3192), ('a', 2499), ('that', 2483), ('in', 1962), ('I', 1854)]\n",
      "====================\n",
      "2 [(',', 24648), ('the', 18273), ('of', 13483), ('.', 11159), ('and', 10071), ('to', 7412), ('a', 5496), ('in', 5413), ('that', 3830), ('was', 3107)]\n",
      "====================\n",
      "3 [(',', 34023), ('the', 24992), ('of', 17090), ('and', 15346), ('.', 14779), ('to', 10951), ('a', 7492), ('in', 7275), ('that', 5126), ('was', 4168)]\n",
      "====================\n",
      "4 [(',', 41819), ('the', 30414), ('of', 19823), ('.', 19307), ('and', 18212), ('to', 13678), ('a', 10070), ('in', 9015), ('I', 6939), ('that', 6775)]\n",
      "====================\n",
      "5 6 7 8 9 10 11 12 13 14 15 16 17 18 "
     ]
    }
   ],
   "source": [
    "from nltk.tokenize import word_tokenize\n",
    "from collections import Counter\n",
    "\n",
    "wd_ctr =  Counter()\n",
    "\n",
    "for (i,book)  in enumerate(books):\n",
    "    print(f\"{i}\", end=\" \")\n",
    "    wd_ctr.update(word_tokenize(book))\n",
    "    if i < 5:\n",
    "        print(wd_ctr.most_common(10))\n",
    "        print(\"=\"*20)\n",
    "          "
   ]
  },
  {
   "cell_type": "code",
   "execution_count": 44,
   "id": "784ed990",
   "metadata": {},
   "outputs": [
    {
     "name": "stdout",
     "output_type": "stream",
     "text": [
      "[(',', 292750), ('.', 173957), ('the', 161817), ('of', 100781), ('and', 88099), ('to', 77120), ('a', 57897), ('in', 51476), ('I', 45022), ('’', 40088)]\n"
     ]
    }
   ],
   "source": [
    "print(wd_ctr.most_common(10))"
   ]
  },
  {
   "cell_type": "code",
   "execution_count": 23,
   "id": "65354cfe",
   "metadata": {},
   "outputs": [
    {
     "data": {
      "text/plain": [
       "'\\ufeffThe Project Gutenberg eBook of Frankenstein; Or, The Modern Prometheus\\n    \\nThis ebook is for the use of anyone anywhere in the United States and\\nmost other parts of the world at no cost and with alm'"
      ]
     },
     "execution_count": 23,
     "metadata": {},
     "output_type": "execute_result"
    }
   ],
   "source": [
    "text[:200]"
   ]
  },
  {
   "cell_type": "code",
   "execution_count": 18,
   "id": "179066d1",
   "metadata": {},
   "outputs": [],
   "source": [
    "from nltk.tokenize import word_tokenize\n",
    "tkns = word_tokenize(text[:10_000])"
   ]
  },
  {
   "cell_type": "code",
   "execution_count": 20,
   "id": "982a3b90",
   "metadata": {},
   "outputs": [
    {
     "data": {
      "text/plain": [
       "1963"
      ]
     },
     "execution_count": 20,
     "metadata": {},
     "output_type": "execute_result"
    }
   ],
   "source": [
    "len(tkns)"
   ]
  },
  {
   "cell_type": "code",
   "execution_count": 22,
   "id": "a4fa26a1",
   "metadata": {},
   "outputs": [
    {
     "data": {
      "text/plain": [
       "['wonders',\n",
       " 'and',\n",
       " 'in',\n",
       " 'beauty',\n",
       " 'every',\n",
       " 'region',\n",
       " 'hitherto',\n",
       " 'discovered',\n",
       " 'on',\n",
       " 'the',\n",
       " 'habitable',\n",
       " 'globe',\n",
       " '.',\n",
       " 'Its',\n",
       " 'productions',\n",
       " 'and',\n",
       " 'features',\n",
       " 'may',\n",
       " 'be',\n",
       " 'without',\n",
       " 'example',\n",
       " ',',\n",
       " 'as',\n",
       " 'the',\n",
       " 'phenomena',\n",
       " 'of',\n",
       " 'the',\n",
       " 'heavenly',\n",
       " 'bodies',\n",
       " 'undoubtedly',\n",
       " 'are',\n",
       " 'in',\n",
       " 'those',\n",
       " 'undiscovered',\n",
       " 'solitudes',\n",
       " '.',\n",
       " 'What',\n",
       " 'may',\n",
       " 'not',\n",
       " 'be',\n",
       " 'expected',\n",
       " 'in',\n",
       " 'a',\n",
       " 'country',\n",
       " 'of',\n",
       " 'eternal',\n",
       " 'light',\n",
       " '?',\n",
       " 'I',\n",
       " 'may',\n",
       " 'there',\n",
       " 'discover',\n",
       " 'the',\n",
       " 'wondrous',\n",
       " 'power',\n",
       " 'which',\n",
       " 'attracts',\n",
       " 'the',\n",
       " 'needle',\n",
       " 'and',\n",
       " 'may',\n",
       " 'regulate',\n",
       " 'a',\n",
       " 'thousand',\n",
       " 'celestial',\n",
       " 'observations',\n",
       " 'that',\n",
       " 'require',\n",
       " 'only',\n",
       " 'this',\n",
       " 'voyage',\n",
       " 'to',\n",
       " 'render',\n",
       " 'their',\n",
       " 'seeming',\n",
       " 'eccentricities',\n",
       " 'consistent',\n",
       " 'for',\n",
       " 'ever',\n",
       " '.',\n",
       " 'I',\n",
       " 'shall',\n",
       " 'satiate',\n",
       " 'my',\n",
       " 'ardent',\n",
       " 'curiosity',\n",
       " 'with',\n",
       " 'the',\n",
       " 'sight',\n",
       " 'of',\n",
       " 'a',\n",
       " 'part',\n",
       " 'of',\n",
       " 'the',\n",
       " 'world',\n",
       " 'never',\n",
       " 'before',\n",
       " 'visited',\n",
       " ',',\n",
       " 'and']"
      ]
     },
     "execution_count": 22,
     "metadata": {},
     "output_type": "execute_result"
    }
   ],
   "source": [
    "tkns[500:600]"
   ]
  },
  {
   "cell_type": "markdown",
   "id": "57e3bf27",
   "metadata": {},
   "source": [
    "Compare the original figures.  Explain the differences."
   ]
  },
  {
   "cell_type": "markdown",
   "id": "c98f4d76",
   "metadata": {},
   "source": [
    "## Creating a corpus of data"
   ]
  },
  {
   "cell_type": "markdown",
   "id": "30c81361",
   "metadata": {},
   "source": [
    "If you're running in google colab do this first:"
   ]
  },
  {
   "cell_type": "code",
   "execution_count": null,
   "id": "7fc3677a",
   "metadata": {},
   "outputs": [],
   "source": [
    "from google.colab import drive\n",
    "drive.mount('/content/drive')\n",
    "# Create the following folder in the root directory\n",
    "!mkdir -p \"/content/drive/My Drive/nltk\"\n",
    "\n",
    "nltk_corpus_dir = \"/content/drive/My Drive/nltk\""
   ]
  },
  {
   "cell_type": "markdown",
   "id": "ab1c33ef",
   "metadata": {},
   "source": [
    "Otherwise pick a corpus directory on your own file system and create a subdirectory for your corpus."
   ]
  },
  {
   "cell_type": "code",
   "execution_count": 97,
   "id": "6ad50088",
   "metadata": {},
   "outputs": [],
   "source": [
    "import os, os.path\n",
    "import nltk.data\n",
    "\n",
    "nltk_corpus_dir = '~/nltk_data/corpora/gutenberg2'\n",
    "# Note if you changed the path above you have to retype it here (because variables dont work right in !-commands)\n",
    "!mkdir -p ~/nltk_data/corpora/gutenberg2"
   ]
  },
  {
   "cell_type": "code",
   "execution_count": 98,
   "id": "791780c7",
   "metadata": {},
   "outputs": [],
   "source": [
    "nltk_corpus_dir = os.path.expanduser(nltk_corpus_dir)\n",
    "\n",
    "if nltk_corpus_dir not in nltk.data.path:\n",
    "    nltk.data.path.append(nltk_corpus_dir)"
   ]
  },
  {
   "cell_type": "markdown",
   "id": "8704f0f8",
   "metadata": {},
   "source": [
    "Define the code to put your data in `nltk_corpus_dir`:"
   ]
  },
  {
   "cell_type": "code",
   "execution_count": 100,
   "id": "fbfa099a",
   "metadata": {},
   "outputs": [],
   "source": [
    "import re\n",
    "# Many gutenberg title tags include a digit sequence in parens.  Not needed.\n",
    "# Making the pattern as specific as possible so as to not affect titles with genuine parentheses\n",
    "reg_exp23 = \"(\\(\\d+\\))\"\n",
    "reg_exp23_c = re.compile(reg_exp23)\n",
    "\n",
    "\n",
    "def make_file_name (title):\n",
    "    try:\n",
    "        (start,end) = reg_exp23_c.search(title).span()\n",
    "        ttn = title[:start] + title[end:]\n",
    "    except:\n",
    "        ttn = title\n",
    "    return '_'.join(ttn.split()) + \".txt\"\n",
    "\n",
    "def make_corpus(corpus_dir,idxs,books,titles,verbose=False):\n",
    "    for (i,book) in enumerate(books):\n",
    "        idx = idxs[i]\n",
    "        fn = make_file_name(titles[idx])\n",
    "        with open(os.path.join(corpus_dir,fn),'w') as ofh:\n",
    "            ofh.write(book)\n",
    "        if verbose:\n",
    "            print(f\"{fn} written!\")"
   ]
  },
  {
   "cell_type": "markdown",
   "id": "b1022f9f",
   "metadata": {},
   "source": [
    "Put your data in `nltk_corpus_dir`:"
   ]
  },
  {
   "cell_type": "code",
   "execution_count": 101,
   "id": "1b76c502",
   "metadata": {
    "scrolled": false
   },
   "outputs": [
    {
     "name": "stdout",
     "output_type": "stream",
     "text": [
      "Moby_Word_Lists_by_Grady_Ward.txt written!\n",
      "The_Confessions_of_St._Augustine_by_Bishop_of_Hippo_Saint_Augustine.txt written!\n",
      "Treasure_Island_by_Robert_Louis_Stevenson.txt written!\n",
      "The_King_James_Version_of_the_Bible.txt written!\n",
      "The_Yellow_Wallpaper_by_Charlotte_Perkins_Gilman.txt written!\n",
      "The_giant_horse_of_Oz_by_Ruth_Plumly_Thompson.txt written!\n",
      "The_Importance_of_Being_Earnest:_A_Trivial_Comedy_for_Serious_People_by_Oscar_Wilde.txt written!\n",
      "Jane_Eyre:_An_Autobiography_by_Charlotte_Brontë.txt written!\n",
      "Lady_Chatterley's_lover_by_D._H._Lawrence.txt written!\n",
      "Middlemarch_by_George_Eliot.txt written!\n",
      "The_divine_comedy_by_Dante_Alighieri.txt written!\n",
      "The_War_of_the_Worlds_by_H._G._Wells.txt written!\n",
      "The_Rámáyan_of_Válmíki,_translated_into_English_verse_by_Valmiki.txt written!\n",
      "Thus_Spake_Zarathustra:_A_Book_for_All_and_None_by_Friedrich_Wilhelm_Nietzsche.txt written!\n",
      "Peter_Pan_by_J._M._Barrie.txt written!\n",
      "Pogo_Planet_by_Donald_A._Wollheim.txt written!\n",
      "Walden,_and_On_The_Duty_Of_Civil_Disobedience_by_Henry_David_Thoreau.txt written!\n",
      "Dubliners_by_James_Joyce.txt written!\n",
      "Don_Quixote_by_Miguel_de_Cervantes_Saavedra.txt written!\n"
     ]
    }
   ],
   "source": [
    "make_corpus(nltk_corpus_dir,idxs,books,titles,verbose=True)"
   ]
  },
  {
   "cell_type": "markdown",
   "id": "75826145",
   "metadata": {},
   "source": [
    "Import your spanking new corpus"
   ]
  },
  {
   "cell_type": "code",
   "execution_count": 102,
   "id": "0819c1fe",
   "metadata": {},
   "outputs": [],
   "source": [
    "from nltk.corpus.reader.plaintext import PlaintextCorpusReader\n",
    "\n",
    "newcorpus = PlaintextCorpusReader(nltk_corpus_dir, '.*')"
   ]
  },
  {
   "cell_type": "markdown",
   "id": "8ce05e4f",
   "metadata": {},
   "source": [
    "Sanity check.  There may be more books in the corpus if you do this on multiple days."
   ]
  },
  {
   "cell_type": "code",
   "execution_count": 103,
   "id": "0e31848d",
   "metadata": {},
   "outputs": [
    {
     "data": {
      "text/plain": [
       "['A_Modest_Proposal_by_Jonathan_Swift.txt',\n",
       " 'A_Room_with_a_View_by_E._M._Forster.txt',\n",
       " 'A_Study_in_Scarlet_by_Arthur_Conan_Doyle.txt',\n",
       " 'Ang_\"Filibusterismo\"_(Karugtóng_ng_Noli_Me_Tangere)_by_José_Rizal.txt',\n",
       " 'Carmilla_by_Joseph_Sheridan_Le_Fanu.txt',\n",
       " 'Don_Quixote_by_Miguel_de_Cervantes_Saavedra.txt',\n",
       " 'Dubliners_by_James_Joyce.txt',\n",
       " \"Gulliver's_Travels_into_Several_Remote_Nations_of_the_World_by_Jonathan_Swift.txt\",\n",
       " 'Jane_Eyre:_An_Autobiography_by_Charlotte_Brontë.txt',\n",
       " \"Lady_Chatterley's_lover_by_D._H._Lawrence.txt\",\n",
       " 'Middlemarch_by_George_Eliot.txt',\n",
       " 'Moby_Word_Lists_by_Grady_Ward.txt',\n",
       " 'Peter_Pan_by_J._M._Barrie.txt',\n",
       " 'Pogo_Planet_by_Donald_A._Wollheim.txt',\n",
       " 'Pygmalion_by_Bernard_Shaw.txt',\n",
       " 'Second_Treatise_of_Government_by_John_Locke.txt',\n",
       " 'Sense_and_Sensibility_by_Jane_Austen.txt',\n",
       " 'The_Adventures_of_Tom_Sawyer,_Complete_by_Mark_Twain.txt',\n",
       " 'The_Confessions_of_St._Augustine_by_Bishop_of_Hippo_Saint_Augustine.txt',\n",
       " 'The_Count_of_Monte_Cristo_by_Alexandre_Dumas_and_Auguste_Maquet.txt',\n",
       " 'The_Enchanted_April_by_Elizabeth_Von_Arnim.txt',\n",
       " 'The_Importance_of_Being_Earnest:_A_Trivial_Comedy_for_Serious_People_by_Oscar_Wilde.txt',\n",
       " 'The_King_James_Version_of_the_Bible.txt',\n",
       " 'The_Life_and_Adventures_of_Robinson_Crusoe_by_Daniel_Defoe.txt',\n",
       " 'The_Problems_of_Philosophy_by_Bertrand_Russell.txt',\n",
       " 'The_Republic_by_Plato.txt',\n",
       " 'The_Rámáyan_of_Válmíki,_translated_into_English_verse_by_Valmiki.txt',\n",
       " 'The_Strange_Case_of_Dr._Jekyll_and_Mr._Hyde_by_Robert_Louis_Stevenson.txt',\n",
       " 'The_War_of_the_Worlds_by_H._G._Wells.txt',\n",
       " 'The_Yellow_Wallpaper_by_Charlotte_Perkins_Gilman.txt',\n",
       " 'The_divine_comedy_by_Dante_Alighieri.txt',\n",
       " 'The_giant_horse_of_Oz_by_Ruth_Plumly_Thompson.txt',\n",
       " 'Thus_Spake_Zarathustra:_A_Book_for_All_and_None_by_Friedrich_Wilhelm_Nietzsche.txt',\n",
       " 'Treasure_Island_by_Robert_Louis_Stevenson.txt',\n",
       " 'Walden,_and_On_The_Duty_Of_Civil_Disobedience_by_Henry_David_Thoreau.txt',\n",
       " 'White_Nights_and_Other_Stories_by_Fyodor_Dostoyevsky.txt']"
      ]
     },
     "execution_count": 103,
     "metadata": {},
     "output_type": "execute_result"
    }
   ],
   "source": [
    "newcorpus.fileids()"
   ]
  },
  {
   "cell_type": "markdown",
   "id": "e0d4c4a3",
   "metadata": {},
   "source": [
    "Get the raw string for the third book:"
   ]
  },
  {
   "cell_type": "code",
   "execution_count": 104,
   "id": "10d9a832",
   "metadata": {},
   "outputs": [
    {
     "data": {
      "text/plain": [
       "'\\n\\n\\n\\nA STUDY IN SCARLET\\n\\nBy A. Conan Doyle\\n\\n\\n\\n\\nCONTENTS\\n\\n A STUDY IN SCARLET.\\n\\n PART I.\\n CHAPTER I. MR. SHERLOCK HOLMES.\\n CHAPTER II. THE SCIENCE OF DEDUCTION.\\n CHAPTER III. THE LAURISTON GARDENS MYSTE'"
      ]
     },
     "execution_count": 104,
     "metadata": {},
     "output_type": "execute_result"
    }
   ],
   "source": [
    "first_book = newcorpus.fileids()[2]\n",
    "first_book_str = newcorpus.raw(first_book)\n",
    "first_book_str[:200]"
   ]
  },
  {
   "cell_type": "markdown",
   "id": "902b65b9",
   "metadata": {},
   "source": [
    "Sentence tokenize it."
   ]
  },
  {
   "cell_type": "code",
   "execution_count": 105,
   "id": "f411e43c",
   "metadata": {},
   "outputs": [],
   "source": [
    "from nltk.tokenize import sent_tokenize\n",
    "sentences = sent_tokenize(first_book_str)"
   ]
  },
  {
   "cell_type": "code",
   "execution_count": 106,
   "id": "c2c3ffb9",
   "metadata": {},
   "outputs": [
    {
     "name": "stdout",
     "output_type": "stream",
     "text": [
      "\n",
      "\n",
      "\n",
      "\n",
      "A STUDY IN SCARLET\n",
      "\n",
      "By A. Conan Doyle\n",
      "\n",
      "\n",
      "\n",
      "\n",
      "CONTENTS\n",
      "\n",
      " A STUDY IN SCARLET.\n"
     ]
    }
   ],
   "source": [
    "print(sentences[0])"
   ]
  },
  {
   "cell_type": "code",
   "execution_count": 107,
   "id": "eac4860b",
   "metadata": {},
   "outputs": [
    {
     "name": "stdout",
     "output_type": "stream",
     "text": [
      "The campaign brought honours and promotion to many, but for me it had\n",
      "nothing but misfortune and disaster.\n",
      "\n",
      "******************\n",
      "\n",
      "I was removed from my brigade and\n",
      "attached to the Berkshires, with whom I served at the fatal battle of\n",
      "Maiwand.\n",
      "\n",
      "******************\n",
      "\n",
      "There I was struck on the shoulder by a Jezail bullet, which\n",
      "shattered the bone and grazed the subclavian artery.\n",
      "\n",
      "******************\n",
      "\n",
      "I should have\n",
      "fallen into the hands of the murderous Ghazis had it not been for the\n",
      "devotion and courage shown by Murray, my orderly, who threw me across a\n",
      "pack-horse, and succeeded in bringing me safely to the British lines.\n",
      "\n",
      "******************\n",
      "\n",
      "Worn with pain, and weak from the prolonged hardships which I had\n",
      "undergone, I was removed, with a great train of wounded sufferers, to\n",
      "the base hospital at Peshawar.\n"
     ]
    }
   ],
   "source": [
    "print(*sentences[35:40],sep=\"\\n\\n******************\\n\\n\")"
   ]
  },
  {
   "cell_type": "markdown",
   "id": "d645b7e0",
   "metadata": {},
   "source": [
    "### Using regular expressions to search for patterns in your corpus."
   ]
  },
  {
   "cell_type": "markdown",
   "id": "412677ed",
   "metadata": {},
   "source": [
    "For help using regular expressions for pattern searches, see [Andrew Kuchling's Regular Expressions Tutorial.](https://docs.python.org/3/howto/regex.html)\n",
    "\n",
    "For a complete description of the Python regular expression language,\n",
    "see [the very accessible Python regular expression documentation.](https://docs.python.org/3/library/re.html)\n",
    "\n",
    "If you prefer using [a web interface](https://regex101.com/r/eY4wC6/2) to testing the regular expressions\n",
    "directly in Python as in the next cell, try the link.\n",
    "\n",
    "Also see the regular expressions notebook for this course."
   ]
  },
  {
   "cell_type": "markdown",
   "id": "7d51ed11",
   "metadata": {},
   "source": [
    "Let's use regular expressions to find all sentences beginning with \"Let's\""
   ]
  },
  {
   "cell_type": "markdown",
   "id": "0232714b",
   "metadata": {},
   "source": [
    "Here's a quick look at the search pattern and some test  search results:"
   ]
  },
  {
   "cell_type": "code",
   "execution_count": 108,
   "id": "41b25544",
   "metadata": {},
   "outputs": [
    {
     "name": "stdout",
     "output_type": "stream",
     "text": [
      "1 <re.Match object; span=(0, 5), match=\"Let's\">\n",
      "2 <re.Match object; span=(0, 5), match=\"let's\">\n",
      "5 <re.Match object; span=(0, 5), match=\"Let's\">\n",
      "5 <re.Match object; span=(0, 5), match=\"Let's\">\n",
      "3 None\n",
      "4 None\n"
     ]
    }
   ],
   "source": [
    "import re\n",
    "# Let's at Start of string (assuming sentence tokenized input)\n",
    "# Nonalphanumeric characters follow\n",
    "reg_exp29 = r\"^Let's\\b\"\n",
    "# Ignore case, match acrss line boundaries, let . include line boundaries\n",
    "reg_exp29_c = re.compile(reg_exp29,re.I|re.M|re.S)\n",
    "\n",
    "#########  Examples   ######################################\n",
    "print(1, reg_exp29_c.search(\"Let's go fly a kite.\"))\n",
    "# OK not to capitalize\n",
    "print(2, reg_exp29_c.search(\"let's go fly a kite.\"))\n",
    "# Ok  Let's can be followed by any non alphumeric\n",
    "print(5, reg_exp29_c.search(\"Let's.\"))\n",
    "# Ok even if Let's at the end of string\n",
    "print(5, reg_exp29_c.search(\"Let's\"))\n",
    "\n",
    "# Negative result.  Let's does not start sentence.\n",
    "print(3, reg_exp29_c.search(\"You said Let's go fly a kite.\"))\n",
    "# Negative result.  Let's word internal: not followed by non alphanumeric\n",
    "print(4, reg_exp29_c.search(\"Let'sgo fly a kite.\"))\n"
   ]
  },
  {
   "cell_type": "code",
   "execution_count": 109,
   "id": "2a6e9b55",
   "metadata": {},
   "outputs": [],
   "source": [
    "import re\n",
    "# Search for \"Let's\" sentence initially\n",
    "# With Single quote\n",
    "reg_exp29a = r\"^Let's\\b\"\n",
    "# With Aprostrophe ( a distinct unicode character)\n",
    "reg_exp29b = r\"^Let’s\\b\"\n",
    "reg_exp29_c = re.compile(reg_exp29b,re.I|re.M|re.S)\n",
    "found = []\n",
    "\n",
    "for sent in sent_tokenize(first_book_str):\n",
    "    res = reg_exp29_c.search(sent)\n",
    "    if res is not None:\n",
    "        found.append(sent)"
   ]
  },
  {
   "cell_type": "code",
   "execution_count": 110,
   "id": "00b75877",
   "metadata": {},
   "outputs": [
    {
     "data": {
      "text/plain": [
       "[]"
      ]
     },
     "execution_count": 110,
     "metadata": {},
     "output_type": "execute_result"
    }
   ],
   "source": [
    "found"
   ]
  },
  {
   "cell_type": "markdown",
   "id": "69e0b5b8",
   "metadata": {},
   "source": [
    "Negative result\n",
    "\n",
    "Let's try a different pattern.\n",
    "\n",
    "Search for \"not a\" "
   ]
  },
  {
   "cell_type": "code",
   "execution_count": 111,
   "id": "2f654309",
   "metadata": {},
   "outputs": [],
   "source": [
    "import re\n",
    "\n",
    "reg_exp31 = r\"not\\s+a\\b\"\n",
    "reg_exp31_c = re.compile(reg_exp31,re.I|re.M|re.S)\n",
    "found = []\n",
    "\n",
    "for sent in sent_tokenize(first_book_str):\n",
    "    res = reg_exp31_c.search(sent)\n",
    "    if res is not None:\n",
    "        found.append(sent)"
   ]
  },
  {
   "cell_type": "code",
   "execution_count": 112,
   "id": "a1fa7463",
   "metadata": {},
   "outputs": [
    {
     "data": {
      "text/plain": [
       "12"
      ]
     },
     "execution_count": 112,
     "metadata": {},
     "output_type": "execute_result"
    }
   ],
   "source": [
    "len(found)"
   ]
  },
  {
   "cell_type": "markdown",
   "id": "bf78ff76",
   "metadata": {},
   "source": [
    "Search for  forms of *be* followed by \"therefore\":"
   ]
  },
  {
   "cell_type": "code",
   "execution_count": 113,
   "id": "83662291",
   "metadata": {},
   "outputs": [],
   "source": [
    "import re\n",
    "#reg_exp31 = r\"\\bfall(en)?\\s+into\\b\"\n",
    "reg_exp37 = r\"\\b((was)|(were)|(are)|(been)|(be))\\s+therefore\\b\"\n",
    "reg_exp37_c = re.compile(reg_exp37,re.I|re.M|re.S)\n",
    "found = []\n",
    "\n",
    "for (i,sent) in enumerate(sent_tokenize(first_book_str)):\n",
    "    res = reg_exp37_c.search(sent)\n",
    "    if res is not None:\n",
    "        found.append(sent)"
   ]
  },
  {
   "cell_type": "code",
   "execution_count": 114,
   "id": "45522ed4",
   "metadata": {},
   "outputs": [
    {
     "data": {
      "text/plain": [
       "1"
      ]
     },
     "execution_count": 114,
     "metadata": {},
     "output_type": "execute_result"
    }
   ],
   "source": [
    "len(found)"
   ]
  },
  {
   "cell_type": "markdown",
   "id": "3659ab6b",
   "metadata": {},
   "source": [
    "### Search through the whole saved NLTK corpus:"
   ]
  },
  {
   "cell_type": "markdown",
   "id": "dc4a3e1f",
   "metadata": {},
   "source": [
    "Using the code below assumes you have created an NLTK corpus and saved it on disk.\n",
    "If you have a sequence of strings in memory (for example `books` as defined earlier in this NB),\n",
    "consult the next section."
   ]
  },
  {
   "cell_type": "markdown",
   "id": "b8473b6a",
   "metadata": {},
   "source": [
    "Define search function:"
   ]
  },
  {
   "cell_type": "code",
   "execution_count": 122,
   "id": "854a9bac",
   "metadata": {},
   "outputs": [],
   "source": [
    "import re\n",
    "import nltk\n",
    "\n",
    "use_punkt=True\n",
    "\n",
    "if use_punkt:\n",
    "    sent_tokenize = nltk.data.load('tokenizers/punkt/english.pickle').tokenize\n",
    "else:\n",
    "    from nltk.tokenize import sent_tokenize\n",
    "\n",
    "# flags is a customizable parameter, though this is a useful default.\n",
    "# You may however not want to ignore case, and call this with flags=re.M|re.S\n",
    "def search_nltk_corpus (corpus, pattern,flags=re.I|re.M|re.S,fileids=None):\n",
    "    pattern_c = re.compile(pattern,flags)\n",
    "    found = []\n",
    "    if fileids is None:\n",
    "        fileids = newcorpus.fileids()\n",
    "    for fileid in fileids:\n",
    "        book_str = newcorpus.raw(fileid)\n",
    "        for (sent_idx,sent) in enumerate(sent_tokenize(book_str)):\n",
    "            res = pattern_c.search(sent)\n",
    "            if res is not None:\n",
    "                found.append((fileid, sent_idx, sent))\n",
    "    return found"
   ]
  },
  {
   "cell_type": "markdown",
   "id": "e5a34626",
   "metadata": {},
   "source": [
    "Load the created corpus:"
   ]
  },
  {
   "cell_type": "code",
   "execution_count": 116,
   "id": "a9e99e17",
   "metadata": {},
   "outputs": [],
   "source": [
    "from nltk.corpus.reader.plaintext import PlaintextCorpusReader\n",
    "\n",
    "newcorpus = PlaintextCorpusReader(nltk_corpus_dir, '.*')"
   ]
  },
  {
   "cell_type": "code",
   "execution_count": 123,
   "id": "1f929f09",
   "metadata": {},
   "outputs": [
    {
     "data": {
      "text/plain": [
       "['A_Modest_Proposal_by_Jonathan_Swift.txt',\n",
       " 'A_Room_with_a_View_by_E._M._Forster.txt',\n",
       " 'A_Study_in_Scarlet_by_Arthur_Conan_Doyle.txt',\n",
       " 'Ang_\"Filibusterismo\"_(Karugtóng_ng_Noli_Me_Tangere)_by_José_Rizal.txt',\n",
       " 'Carmilla_by_Joseph_Sheridan_Le_Fanu.txt',\n",
       " 'Don_Quixote_by_Miguel_de_Cervantes_Saavedra.txt',\n",
       " 'Dubliners_by_James_Joyce.txt',\n",
       " \"Gulliver's_Travels_into_Several_Remote_Nations_of_the_World_by_Jonathan_Swift.txt\",\n",
       " 'Jane_Eyre:_An_Autobiography_by_Charlotte_Brontë.txt',\n",
       " \"Lady_Chatterley's_lover_by_D._H._Lawrence.txt\",\n",
       " 'Middlemarch_by_George_Eliot.txt',\n",
       " 'Moby_Word_Lists_by_Grady_Ward.txt',\n",
       " 'Peter_Pan_by_J._M._Barrie.txt',\n",
       " 'Pogo_Planet_by_Donald_A._Wollheim.txt',\n",
       " 'Pygmalion_by_Bernard_Shaw.txt',\n",
       " 'Second_Treatise_of_Government_by_John_Locke.txt',\n",
       " 'Sense_and_Sensibility_by_Jane_Austen.txt',\n",
       " 'The_Adventures_of_Tom_Sawyer,_Complete_by_Mark_Twain.txt',\n",
       " 'The_Confessions_of_St._Augustine_by_Bishop_of_Hippo_Saint_Augustine.txt',\n",
       " 'The_Count_of_Monte_Cristo_by_Alexandre_Dumas_and_Auguste_Maquet.txt',\n",
       " 'The_Enchanted_April_by_Elizabeth_Von_Arnim.txt',\n",
       " 'The_Importance_of_Being_Earnest:_A_Trivial_Comedy_for_Serious_People_by_Oscar_Wilde.txt',\n",
       " 'The_King_James_Version_of_the_Bible.txt',\n",
       " 'The_Life_and_Adventures_of_Robinson_Crusoe_by_Daniel_Defoe.txt',\n",
       " 'The_Problems_of_Philosophy_by_Bertrand_Russell.txt',\n",
       " 'The_Republic_by_Plato.txt',\n",
       " 'The_Rámáyan_of_Válmíki,_translated_into_English_verse_by_Valmiki.txt',\n",
       " 'The_Strange_Case_of_Dr._Jekyll_and_Mr._Hyde_by_Robert_Louis_Stevenson.txt',\n",
       " 'The_War_of_the_Worlds_by_H._G._Wells.txt',\n",
       " 'The_Yellow_Wallpaper_by_Charlotte_Perkins_Gilman.txt',\n",
       " 'The_divine_comedy_by_Dante_Alighieri.txt',\n",
       " 'The_giant_horse_of_Oz_by_Ruth_Plumly_Thompson.txt',\n",
       " 'Thus_Spake_Zarathustra:_A_Book_for_All_and_None_by_Friedrich_Wilhelm_Nietzsche.txt',\n",
       " 'Treasure_Island_by_Robert_Louis_Stevenson.txt',\n",
       " 'Walden,_and_On_The_Duty_Of_Civil_Disobedience_by_Henry_David_Thoreau.txt',\n",
       " 'White_Nights_and_Other_Stories_by_Fyodor_Dostoyevsky.txt']"
      ]
     },
     "execution_count": 123,
     "metadata": {},
     "output_type": "execute_result"
    }
   ],
   "source": [
    "newcorpus.fileids()"
   ]
  },
  {
   "cell_type": "markdown",
   "id": "bcd6f63b",
   "metadata": {},
   "source": [
    "Search for forms of be followed by \"therefore\":"
   ]
  },
  {
   "cell_type": "code",
   "execution_count": 117,
   "id": "5c95f19f",
   "metadata": {
    "scrolled": false
   },
   "outputs": [],
   "source": [
    "reg_exp37 = r\"\\b((was)|(were)|(are)|(been)|(be))\\s+therefore\\b\"\n",
    "found_37 = search_nltk_corpus (newcorpus, reg_exp37)"
   ]
  },
  {
   "cell_type": "markdown",
   "id": "426cfcf9",
   "metadata": {},
   "source": [
    "The search yielded many examples."
   ]
  },
  {
   "cell_type": "code",
   "execution_count": 118,
   "id": "ab9cc533",
   "metadata": {
    "scrolled": false
   },
   "outputs": [
    {
     "data": {
      "text/plain": [
       "49"
      ]
     },
     "execution_count": 118,
     "metadata": {},
     "output_type": "execute_result"
    }
   ],
   "source": [
    "len(found_37)"
   ]
  },
  {
   "cell_type": "markdown",
   "id": "984ed9be",
   "metadata": {},
   "source": [
    "#### The case of apostrophe (allo-characters)"
   ]
  },
  {
   "cell_type": "markdown",
   "id": "6088fa19",
   "metadata": {},
   "source": [
    "This search failed before, but we tried only one book.  Now let's try the whole corpus."
   ]
  },
  {
   "cell_type": "code",
   "execution_count": 133,
   "id": "045fc039",
   "metadata": {},
   "outputs": [],
   "source": [
    "# Keyboard apostrophe (=single quote)\n",
    "reg_exp29a = r\"^Let's\\b\"\n",
    "# Unicode apostrophe\n",
    "reg_exp29b = r\"^Let’s\\b\"\n",
    "\n",
    "# Unicode first\n",
    "found_29b = search_nltk_corpus (newcorpus, reg_exp29b)"
   ]
  },
  {
   "cell_type": "code",
   "execution_count": 136,
   "id": "1a81b77c",
   "metadata": {},
   "outputs": [
    {
     "data": {
      "text/plain": [
       "15"
      ]
     },
     "execution_count": 136,
     "metadata": {},
     "output_type": "execute_result"
    }
   ],
   "source": [
    "len(found_29b)"
   ]
  },
  {
   "cell_type": "code",
   "execution_count": 134,
   "id": "24ab9145",
   "metadata": {},
   "outputs": [
    {
     "data": {
      "text/plain": [
       "[('A_Room_with_a_View_by_E._M._Forster.txt', 3879, 'Let’s tell her.'),\n",
       " ('A_Room_with_a_View_by_E._M._Forster.txt',\n",
       "  3937,\n",
       "  'Let’s turn\\nin here.”\\n\\n“Here” was the British Museum.'),\n",
       " ('A_Room_with_a_View_by_E._M._Forster.txt', 3942, 'Let’s go to Mudie’s.'),\n",
       " ('A_Room_with_a_View_by_E._M._Forster.txt', 4015, 'Let’s\\nall go.'),\n",
       " ('Pygmalion_by_Bernard_Shaw.txt',\n",
       "  481,\n",
       "  'Let’s see how fast you can make her hop it.'),\n",
       " ('Pygmalion_by_Bernard_Shaw.txt', 1345, 'Let’s give him ten.'),\n",
       " ('The_Adventures_of_Tom_Sawyer,_Complete_by_Mark_Twain.txt',\n",
       "  1726,\n",
       "  'Let’s us go, too, Tom.”\\n\\n“I won’t!'),\n",
       " ('The_Adventures_of_Tom_Sawyer,_Complete_by_Mark_Twain.txt',\n",
       "  2508,\n",
       "  'Let’s hide the tools in the bushes.”\\n\\nThe boys were there that night, about the appointed time.'),\n",
       " ('The_Adventures_of_Tom_Sawyer,_Complete_by_Mark_Twain.txt',\n",
       "  2593,\n",
       "  'Let’s run!”\\n\\n“Keep still!'),\n",
       " ('The_Adventures_of_Tom_Sawyer,_Complete_by_Mark_Twain.txt',\n",
       "  3167,\n",
       "  'Let’s try some other way, so as not to go\\nthrough there.”\\n\\n“Well.'),\n",
       " ('The_Adventures_of_Tom_Sawyer,_Complete_by_Mark_Twain.txt',\n",
       "  3484,\n",
       "  'Let’s snake it\\nout.'),\n",
       " ('The_Confessions_of_St._Augustine_by_Bishop_of_Hippo_Saint_Augustine.txt',\n",
       "  1021,\n",
       "  'Let’s have a go of the rum.”\\n\\n“Dick,” said Silver, “I trust you.'),\n",
       " ('The_Confessions_of_St._Augustine_by_Bishop_of_Hippo_Saint_Augustine.txt',\n",
       "  1155,\n",
       "  'Let’s allow the men an afternoon ashore.'),\n",
       " ('The_Enchanted_April_by_Elizabeth_Von_Arnim.txt',\n",
       "  3937,\n",
       "  'Let’s go indoors to the fire and\\nMrs. Fisher.'),\n",
       " ('Thus_Spake_Zarathustra:_A_Book_for_All_and_None_by_Friedrich_Wilhelm_Nietzsche.txt',\n",
       "  2181,\n",
       "  'Let’s.')]"
      ]
     },
     "execution_count": 134,
     "metadata": {},
     "output_type": "execute_result"
    }
   ],
   "source": [
    "found_29b"
   ]
  },
  {
   "cell_type": "markdown",
   "id": "f8015af3",
   "metadata": {},
   "source": [
    "Then apostrophe."
   ]
  },
  {
   "cell_type": "code",
   "execution_count": 141,
   "id": "7fc2ae8c",
   "metadata": {},
   "outputs": [],
   "source": [
    "# Apostrophe\n",
    "reg_exp29a = r\"^Let's\\b\"\n",
    "found_29a = search_nltk_corpus (newcorpus, reg_exp29a)"
   ]
  },
  {
   "cell_type": "markdown",
   "id": "bb17429d",
   "metadata": {},
   "source": [
    "In fact the two searches yield disjoint results"
   ]
  },
  {
   "cell_type": "code",
   "execution_count": 142,
   "id": "a9e7d2bd",
   "metadata": {},
   "outputs": [
    {
     "data": {
      "text/plain": [
       "10"
      ]
     },
     "execution_count": 142,
     "metadata": {},
     "output_type": "execute_result"
    }
   ],
   "source": [
    "len(found_29a)"
   ]
  },
  {
   "cell_type": "code",
   "execution_count": 143,
   "id": "25bd5367",
   "metadata": {},
   "outputs": [
    {
     "data": {
      "text/plain": [
       "set()"
      ]
     },
     "execution_count": 143,
     "metadata": {},
     "output_type": "execute_result"
    }
   ],
   "source": [
    "set(found_29b) & set(found_29a)"
   ]
  },
  {
   "cell_type": "markdown",
   "id": "88277a78",
   "metadata": {},
   "source": [
    "So two different unicode characters, ASCII apostrophe and unicode apostrophe, can express the English apostrophe in our data. Therefore, to do the search, we need to look for ASCII apostrophe OR unicode apostrophe."
   ]
  },
  {
   "cell_type": "code",
   "execution_count": 144,
   "id": "88c01fb6",
   "metadata": {},
   "outputs": [
    {
     "data": {
      "text/plain": [
       "25"
      ]
     },
     "execution_count": 144,
     "metadata": {},
     "output_type": "execute_result"
    }
   ],
   "source": [
    "reg_exp29a_or_b = r\"^Let('|’)s\\b\"\n",
    "found_29a_or_b = search_nltk_corpus (newcorpus, reg_exp29a_or_b)\n",
    "len(found_29a_or_b)"
   ]
  },
  {
   "cell_type": "markdown",
   "id": "68b7057a",
   "metadata": {},
   "source": [
    "History: The search that got me some examples of unicode apostrophe printing out."
   ]
  },
  {
   "cell_type": "code",
   "execution_count": 262,
   "id": "d12c75c2",
   "metadata": {},
   "outputs": [],
   "source": [
    "reg_exp29 = r\"^Let\\b\"\n",
    "found_29 = search_nltk_corpus (newcorpus, reg_exp29)"
   ]
  },
  {
   "cell_type": "code",
   "execution_count": 263,
   "id": "86cde607",
   "metadata": {},
   "outputs": [
    {
     "data": {
      "text/plain": [
       "328"
      ]
     },
     "execution_count": 263,
     "metadata": {},
     "output_type": "execute_result"
    }
   ],
   "source": [
    "len(found_29)"
   ]
  },
  {
   "cell_type": "markdown",
   "id": "ecab256f",
   "metadata": {},
   "source": [
    "#### A more complicated regular expression\n",
    "\n",
    "Parsing the next reg exp (search for \"fall into\", \"fell into\", or \"falling into\" or \"fallen into\"):\n",
    "\n",
    "$$\n",
    "\\begin{array}[t]{cccccccc}\n",
    "\\text{\\\\b}& \\text{f} & \\text{(a | e)} & \\text{ll} & \\text{((en)|(ing))?} & \\text{\\\\s+} & \\text{into}& \\text{\\\\b}\\\\\n",
    "(0) & (1) & (2) & (3) & (4) & (5) & (6) & (7) \\\\\n",
    "\\end{array}\n",
    "$$\n",
    "\n",
    "0.  No characters that can appear inside a word can precede the character \"f\".\n",
    "1.  Character \"f\" here.\n",
    "2.  Either the character \"a\" or the character \"e\" here.\n",
    "3.  Characters \"ll\" (as in \"llama\") here.\n",
    "4.  Optionally: Characters \"en\" or characters \"ing\" here.\n",
    "5.  Arbitrary number of white space characters here, but at least one. White space characters include line breaks\n",
    "6.  Characters \"into\" here\n",
    "7.  No characters that can appear inside a word can follow \"into\" so the word \"into\" can appear here and be followed by a space or a comma,  but not the characters \"xication\", as in \"intoxication\".\n",
    "\n",
    "As result, the regular expression matches the bracketed part of all of the following:\n",
    "\n",
    "```\n",
    "They may [fall into] trouble.\n",
    "She is [falling into] bad habits.\n",
    "The boy [fell into] a deep hole.\n",
    "You have [fallen into] a trap\n",
    "through [fall into] winter\n",
    "```\n",
    "as well as\n",
    "\n",
    "```\n",
    "I afraid I will [fall\n",
    "into] bad habits.\n",
    "```\n",
    " where \"fall\" and \"into\" appear on separate lines.  It also matches\n",
    " \n",
    " ```\n",
    " [fellen into]\n",
    " [felling into]\n",
    " ```\n",
    " \n",
    " It matches neither of the following (failed match in parens)\n",
    " \n",
    " ```\n",
    " she felt none of that summer sadness or (fall into)xication\n",
    " This sudden turn of events threw one of those men few tragedies be(fall into) a deep depression.\n",
    " ```\n",
    " \n",
    " "
   ]
  },
  {
   "cell_type": "code",
   "execution_count": 146,
   "id": "1c61d7bd",
   "metadata": {},
   "outputs": [
    {
     "data": {
      "text/plain": [
       "231"
      ]
     },
     "execution_count": 146,
     "metadata": {},
     "output_type": "execute_result"
    }
   ],
   "source": [
    "# Allow fall into, fell into, fallen into, falling into\n",
    "reg_exp31 = r\"\\bf(a|e)ll((en)|(ing))?\\s+into\\b\"\n",
    "found_31 = search_nltk_corpus (newcorpus, reg_exp31)\n",
    "len(found_31)"
   ]
  },
  {
   "cell_type": "code",
   "execution_count": 147,
   "id": "bf104b35",
   "metadata": {},
   "outputs": [
    {
     "data": {
      "text/plain": [
       "[('A_Room_with_a_View_by_E._M._Forster.txt',\n",
       "  2657,\n",
       "  'The bank broke away, and he fell into the pool before he had weighed\\nthe question properly.'),\n",
       " ('A_Room_with_a_View_by_E._M._Forster.txt',\n",
       "  2996,\n",
       "  'I fell into\\nall those violets, and he was silly and surprised.'),\n",
       " ('A_Room_with_a_View_by_E._M._Forster.txt',\n",
       "  3256,\n",
       "  '“Also\\nthat men fall into two classes—those who forget views and those who\\nremember them, even in small rooms.”\\n\\n“Mr.'),\n",
       " ('A_Study_in_Scarlet_by_Arthur_Conan_Doyle.txt',\n",
       "  38,\n",
       "  'I should have\\nfallen into the hands of the murderous Ghazis had it not been for the\\ndevotion and courage shown by Murray, my orderly, who threw me across a\\npack-horse, and succeeded in bringing me safely to the British lines.'),\n",
       " ('Carmilla_by_Joseph_Sheridan_Le_Fanu.txt',\n",
       "  989,\n",
       "  'Very late, she said, she had got to the\\nhousekeeper’s bedroom in despair of finding us, and had then fallen\\ninto a deep sleep which, long as it was, had hardly sufficed to recruit\\nher strength after the fatigues of the ball.'),\n",
       " ('Dubliners_by_James_Joyce.txt',\n",
       "  968,\n",
       "  'On the contrary, by granting life to those papers, let the\\ncruelty of Marcela live for ever, to serve as a warning in ages to come\\nto all men to shun and avoid falling into like danger; or I and all of\\nus who have come here know already the story of this your love-stricken\\nand heart-broken friend, and we know, too, your friendship, and the\\ncause of his death, and the directions he gave at the close of his\\nlife; from which sad story may be gathered how great was the cruelty of\\nMarcela, the love of Chrysostom, and the loyalty of your friendship,\\ntogether with the end awaiting those who pursue rashly the path that\\ninsane passion opens to their eyes.'),\n",
       " ('Dubliners_by_James_Joyce.txt',\n",
       "  1642,\n",
       "  'Cardenio was then in his\\nright mind, free from any attack of that madness which so frequently\\ncarried him away, and seeing them dressed in a fashion so unusual among\\nthe frequenters of those wilds, could not help showing some surprise,\\nespecially when he heard them speak of his case as if it were a\\nwell-known matter (for the curate’s words gave him to understand as\\nmuch) so he replied to them thus:\\n\\n“I see plainly, sirs, whoever you may be, that Heaven, whose care it is\\nto succour the good, and even the wicked very often, here, in this\\nremote spot, cut off from human intercourse, sends me, though I deserve\\nit not, those who seek to draw me away from this to some better\\nretreat, showing me by many and forcible arguments how unreasonably I\\nact in leading the life I do; but as they know, that if I escape from\\nthis evil I shall fall into another still greater, perhaps they will\\nset me down as a weak-minded man, or, what is worse, one devoid of\\nreason; nor would it be any wonder, for I myself can perceive that the\\neffect of the recollection of my misfortunes is so great and works so\\npowerfully to my ruin, that in spite of myself I become at times like a\\nstone, without feeling or consciousness; and I come to feel the truth\\nof it when they tell me and show me proofs of the things I have done\\nwhen the terrible fit overmasters me; and all I can do is bewail my lot\\nin vain, and idly curse my destiny, and plead for my madness by telling\\nhow it was caused, to any that care to hear it; for no reasonable\\nbeings on learning the cause will wonder at the effects; and if they\\ncannot help me at least they will not blame me, and the repugnance they\\nfeel at my wild ways will turn into pity for my woes.'),\n",
       " ('Dubliners_by_James_Joyce.txt',\n",
       "  2121,\n",
       "  'Had not Camilla, however, been informed beforehand by\\nLothario that this love for Chloris was a pretence, and that he himself\\nhad told Anselmo of it in order to be able sometimes to give utterance\\nto the praises of Camilla herself, no doubt she would have fallen into\\nthe despairing toils of jealousy; but being forewarned she received the\\nstartling news without uneasiness.'),\n",
       " ('Dubliners_by_James_Joyce.txt',\n",
       "  3380,\n",
       "  'Consider, too, that your daughter Mari-Sancha will not die\\nof grief if we marry her; for I have my suspicions that she is as eager\\nto get a husband as you to get a government; and, after all, a daughter\\nlooks better ill married than well whored.”\\n\\n“By my faith,” replied Sancho, “if God brings me to get any sort of a\\ngovernment, I intend, wife, to make such a high match for Mari-Sancha\\nthat there will be no approaching her without calling her ‘my lady.”\\n\\n“Nay, Sancho,” returned Teresa; “marry her to her equal, that is the\\nsafest plan; for if you put her out of wooden clogs into high-heeled\\nshoes, out of her grey flannel petticoat into hoops and silk gowns, out\\nof the plain ‘Marica’ and ‘thou,’ into ‘Doña So-and-so’ and ‘my lady,’\\nthe girl won’t know where she is, and at every turn she will fall into\\na thousand blunders that will show the thread of her coarse homespun\\nstuff.”\\n\\n“Tut, you fool,” said Sancho; “it will be only to practise it for two\\nor three years; and then dignity and decorum will fit her as easily as\\na glove; and if not, what matter?'),\n",
       " ('Dubliners_by_James_Joyce.txt',\n",
       "  3412,\n",
       "  'There are men\\nof low rank who strain themselves to bursting to pass for gentlemen,\\nand high gentlemen who, one would fancy, were dying to pass for men of\\nlow rank; the former raise themselves by their ambition or by their\\nvirtues, the latter debase themselves by their lack of spirit or by\\ntheir vices; and one has need of experience and discernment to\\ndistinguish these two kinds of gentlemen, so much alike in name and so\\ndifferent in conduct.”\\n\\n“God bless me!” said the niece, “that you should know so much,\\nuncle—enough, if need be, to get up into a pulpit and go preach in the\\nstreets—and yet that you should fall into a delusion so great and a\\nfolly so manifest as to try to make yourself out vigorous when you are\\nold, strong when you are sickly, able to put straight what is crooked\\nwhen you yourself are bent by age, and, above all, a caballero when you\\nare not one; for though gentlefolk may be so, poor men are nothing of\\nthe kind!”\\n\\n“There is a great deal of truth in what you say, niece,” returned Don\\nQuixote, “and I could tell you somewhat about birth that would astonish\\nyou; but, not to mix up things human and divine, I refrain.')]"
      ]
     },
     "execution_count": 147,
     "metadata": {},
     "output_type": "execute_result"
    }
   ],
   "source": [
    "found_31[:10]"
   ]
  },
  {
   "cell_type": "markdown",
   "id": "aa01776e",
   "metadata": {},
   "source": [
    "### Search through a list of doc strings:"
   ]
  },
  {
   "cell_type": "markdown",
   "id": "010d9e9e",
   "metadata": {},
   "source": [
    "This code will get you through the next two sections."
   ]
  },
  {
   "cell_type": "code",
   "execution_count": 263,
   "id": "a9973a56",
   "metadata": {},
   "outputs": [],
   "source": [
    "from nltk.tokenize import sent_tokenize\n",
    "import re\n",
    "import urllib\n",
    "\n",
    "def get_book (ind):\n",
    "    url = f\"https://gutenberg.org/cache/epub/{ind}/pg{ind}.txt\"\n",
    "    with urllib.request.urlopen(url) as stream:\n",
    "        byte_str = stream.read()\n",
    "        return byte_str.decode(\"UTF8\").replace(\"\\r\\n\",\"\\n\")\n",
    "\n",
    "def search_doc(book_str, pattern_c,found=None,book_id='',count_hits=False,flags=re.I|re.M|re.S):\n",
    "    global findall_sents,matches,match_obj,sent0,sentx\n",
    "    if found is None:\n",
    "        found = []\n",
    "    count,findall_sents,matches = 0,[],[]\n",
    "    for (sent_idx,sent) in enumerate(sent_tokenize(book_str)):\n",
    "        sentx=sent\n",
    "        try:\n",
    "            res = pattern_c.search(sent)\n",
    "        except AttributeError:\n",
    "            pattern_c = re.compile(pattern_c,flags)\n",
    "            res = pattern_c.search(sent)\n",
    "        if res is not None and count_hits:\n",
    "            findalls=pattern_c.findall(sent)\n",
    "            this_count = len(findalls)\n",
    "            count += this_count\n",
    "            findall_sents.extend(findalls)\n",
    "            sent0 = sent\n",
    "            for i in range(this_count):\n",
    "                match_obj = pattern_c.search(sent0)\n",
    "                if match_obj is None:\n",
    "                    break\n",
    "                z = match_obj.start() - 5\n",
    "                start = z if z > 0 else 0\n",
    "                extracted = sent0[start:match_obj.end()+5]\n",
    "                if extracted:\n",
    "                    matches.append(extracted)\n",
    "                else:\n",
    "                    pass ## Debugging statementts now outdated\n",
    "                    #print(extracted, sent0)\n",
    "                    #print(sent,end=\"\\n*****\\n\")\n",
    "                    #sentx=sent\n",
    "                    #raise Exception\n",
    "                sent0 = sent0[match_obj.end()+1:]\n",
    "            found.append((book_id, sent_idx, sent))\n",
    "        elif res is not None:\n",
    "            found.append((book_id, sent_idx, sent))\n",
    "    if count_hits:\n",
    "        return (count,found)\n",
    "    else:\n",
    "        return found\n",
    "        \n",
    "    \n",
    "def search_doc_strings (book_strings, pattern):\n",
    "    pattern_c = re.compile(pattern, re.I|re.M|re.S)\n",
    "    found = []\n",
    "    for (book_id,book_str) in enumerate(book_strings):\n",
    "        search_doc(book_str, pattern_c,found=found,book_id=book_id)\n",
    "    return found"
   ]
  },
  {
   "cell_type": "markdown",
   "id": "cb4d56e7",
   "metadata": {},
   "source": [
    "To search through a list of strings, do the following.\n",
    "\n",
    "If you have been following along, `books` should be a list of doc strings defined earlier."
   ]
  },
  {
   "cell_type": "code",
   "execution_count": 149,
   "id": "a7d88c88",
   "metadata": {},
   "outputs": [],
   "source": [
    "reg_exp37 = r\"\\b((was)|(were)|(are)|(been)|(be))\\s+therefore\\b\"\n",
    "found_37 = search_doc_strings(books, reg_exp37)"
   ]
  },
  {
   "cell_type": "code",
   "execution_count": 150,
   "id": "1b9edd43",
   "metadata": {},
   "outputs": [
    {
     "data": {
      "text/plain": [
       "23"
      ]
     },
     "execution_count": 150,
     "metadata": {},
     "output_type": "execute_result"
    }
   ],
   "source": [
    "len(found_37)"
   ]
  },
  {
   "cell_type": "markdown",
   "id": "c6aa1671",
   "metadata": {},
   "source": [
    "###  Searching an arbitrary book on Gutenberg.org"
   ]
  },
  {
   "cell_type": "markdown",
   "id": "6bd4902d",
   "metadata": {},
   "source": [
    "When looking up the index of a book, make sure it is not the index of the audio book.  Many books appear on\n",
    "Gutenberg in both print and audio form, and they have different indexes."
   ]
  },
  {
   "cell_type": "code",
   "execution_count": 152,
   "id": "105b3ce3",
   "metadata": {},
   "outputs": [],
   "source": [
    "#frankenstein_idx = 84\n",
    "reg_exp37 = r\"\\b((was)|(were)|(are)|(been)|(be))\\s+therefore\\b\"\n",
    "text2= get_book(84)\n",
    "found = search_doc(text2, reg_exp37, book_id='Frankenstein')"
   ]
  },
  {
   "cell_type": "code",
   "execution_count": 153,
   "id": "56f0d784",
   "metadata": {},
   "outputs": [
    {
     "data": {
      "text/plain": [
       "[('Frankenstein',\n",
       "  202,\n",
       "  'You have been tutored and\\nrefined by books and retirement from the world, and you are therefore\\nsomewhat fastidious; but this only renders you the more fit to\\nappreciate the extraordinary merits of this wonderful man.'),\n",
       " ('Frankenstein',\n",
       "  384,\n",
       "  'My\\ndeparture was therefore fixed at an early date, but before the day\\nresolved upon could arrive, the first misfortune of my life\\noccurred—an omen, as it were, of my future misery.')]"
      ]
     },
     "execution_count": 153,
     "metadata": {},
     "output_type": "execute_result"
    }
   ],
   "source": [
    "found"
   ]
  },
  {
   "cell_type": "markdown",
   "id": "f45a630b",
   "metadata": {},
   "source": [
    "How often when Sherlock Holmes is referred to, is his first name used?"
   ]
  },
  {
   "cell_type": "code",
   "execution_count": 154,
   "id": "a28deaca",
   "metadata": {},
   "outputs": [],
   "source": [
    "#Search A study in Scarlet; idx is 244\n",
    "reg_exp43 = r\"\\bSherlock\\b\"\n",
    "text3 = get_book(244)\n",
    "found_43 = search_doc(text3, reg_exp43, book_id='A Study in Scarlet')"
   ]
  },
  {
   "cell_type": "code",
   "execution_count": 155,
   "id": "8b449368",
   "metadata": {},
   "outputs": [
    {
     "data": {
      "text/plain": [
       "52"
      ]
     },
     "execution_count": 155,
     "metadata": {},
     "output_type": "execute_result"
    }
   ],
   "source": [
    "len(found_43)"
   ]
  },
  {
   "cell_type": "markdown",
   "id": "475b5c8d",
   "metadata": {},
   "source": [
    "How often is his last name used?"
   ]
  },
  {
   "cell_type": "code",
   "execution_count": 156,
   "id": "1f1e270c",
   "metadata": {},
   "outputs": [],
   "source": [
    "#Search A study in Scarlet; idx is 244\n",
    "reg_exp47 = r\"\\bHolmes\\b\"\n",
    "# Uncomment if needed\n",
    "#text3 = get_book(244)\n",
    "found_47 = search_doc(text3, reg_exp47, book_id='A Study in Scarlet')"
   ]
  },
  {
   "cell_type": "code",
   "execution_count": 157,
   "id": "97f1f416",
   "metadata": {},
   "outputs": [
    {
     "data": {
      "text/plain": [
       "97"
      ]
     },
     "execution_count": 157,
     "metadata": {},
     "output_type": "execute_result"
    }
   ],
   "source": [
    "len(found_47)"
   ]
  },
  {
   "cell_type": "code",
   "execution_count": 158,
   "id": "d7335504",
   "metadata": {},
   "outputs": [
    {
     "data": {
      "text/plain": [
       "[('A Study in Scarlet', 5, 'CHAPTER I. MR. SHERLOCK HOLMES.'),\n",
       " ('A Study in Scarlet',\n",
       "  32,\n",
       "  '(_Being a reprint from the Reminiscences of_ JOHN H. WATSON, M.D.,\\n_Late of the Army Medical Department._)\\n\\n\\n\\n\\nCHAPTER I.\\nMR. SHERLOCK HOLMES.'),\n",
       " ('A Study in Scarlet',\n",
       "  63,\n",
       "  '“You\\ndon’t know Sherlock Holmes yet,” he said; “perhaps you would not care\\nfor him as a constant companion.”\\n\\n“Why, what is there against him?”\\n\\n“Oh, I didn’t say there was anything against him.'),\n",
       " ('A Study in Scarlet',\n",
       "  82,\n",
       "  '“Holmes is a little too scientific for my tastes—it approaches\\nto cold-bloodedness.'),\n",
       " ('A Study in Scarlet',\n",
       "  100,\n",
       "  'Watson, Mr. Sherlock Holmes,” said Stamford, introducing us.'),\n",
       " ('A Study in Scarlet',\n",
       "  130,\n",
       "  'Now we have the\\nSherlock Holmes’ test, and there will no longer be any difficulty.”\\n\\nHis eyes fairly glittered as he spoke, and he put his hand over his\\nheart and bowed as if to some applauding crowd conjured up by his\\nimagination.'),\n",
       " ('A Study in Scarlet',\n",
       "  137,\n",
       "  'Call it the ‘Police\\nNews of the Past.’”\\n\\n“Very interesting reading it might be made, too,” remarked Sherlock\\nHolmes, sticking a small piece of plaster over the prick on his finger.'),\n",
       " ('A Study in Scarlet',\n",
       "  140,\n",
       "  '“My friend here wants to take diggings, and as you were\\ncomplaining that you could get no one to go halves with you, I thought\\nthat I had better bring you together.”\\n\\nSherlock Holmes seemed delighted at the idea of sharing his rooms with\\nme.'),\n",
       " ('A Study in Scarlet',\n",
       "  174,\n",
       "  'That\\nvery evening I moved my things round from the hotel, and on the\\nfollowing morning Sherlock Holmes followed me with several boxes and\\nportmanteaus.'),\n",
       " ('A Study in Scarlet',\n",
       "  177,\n",
       "  'Holmes was certainly not a difficult man to live with.')]"
      ]
     },
     "execution_count": 158,
     "metadata": {},
     "output_type": "execute_result"
    }
   ],
   "source": [
    "found_47[:10]"
   ]
  },
  {
   "cell_type": "markdown",
   "id": "18d16e89",
   "metadata": {},
   "source": [
    "Note the previous two counts include overlap, because there are cases\n",
    "in which \"Sherlock Holmes\" is used to refer to Sherlock Holmes. A more difficult regular expression is \n",
    "to look for cases in which uses of \"Sherlock\" are not followed by \"Holmes\".\n",
    "This involves **negative lookahead**."
   ]
  },
  {
   "cell_type": "code",
   "execution_count": 159,
   "id": "958363b1",
   "metadata": {},
   "outputs": [],
   "source": [
    "# Sherlock not followed by \" Holmes\"\n",
    "reg_exp53 = r\"\\bSherlock(?!\\s+Holmes\\b)\"\n",
    "found_53 = search_doc(text3, reg_exp53, book_id='A Study in Scarlet')"
   ]
  },
  {
   "cell_type": "code",
   "execution_count": 160,
   "id": "95a27b61",
   "metadata": {
    "scrolled": true
   },
   "outputs": [
    {
     "data": {
      "text/plain": [
       "[]"
      ]
     },
     "execution_count": 160,
     "metadata": {},
     "output_type": "execute_result"
    }
   ],
   "source": [
    "found_53"
   ]
  },
  {
   "cell_type": "markdown",
   "id": "1ff30ec5",
   "metadata": {},
   "source": [
    "Confirming what every Sherlock Holmes fan knows:  Watson never calls Sherlock Holmes Sherlock.\n",
    "It's always \"Holmes, how the devil do you know that?\" or \"It can't be him, Holmes!\"  In fact,\n",
    "Watson rarely does even that.  If we search for occurrences of \"Holmes\" inside quotation\n",
    "marks, a left quotation mark followed by any number of non-right quotation mark characters\n",
    "followed by \"Holmes\" when it is not preceded by \"Sherlock\" (involving a negative lookbehind),\n",
    "we get only one genuine hit:"
   ]
  },
  {
   "cell_type": "code",
   "execution_count": 161,
   "id": "756a297a",
   "metadata": {},
   "outputs": [
    {
     "data": {
      "text/plain": [
       "[('A Study in Scarlet',\n",
       "  564,\n",
       "  '“There is nothing like first hand evidence,” he remarked; “as a matter\\nof fact, my mind is entirely made up upon the case, but still we may as\\nwell learn all that is to be learned.”\\n\\n“You amaze me, Holmes,” said I.')]"
      ]
     },
     "execution_count": 161,
     "metadata": {},
     "output_type": "execute_result"
    }
   ],
   "source": [
    "reg_exp57 = r\"“[^”]+(?<!Sherlock)\\s+Holmes\"\n",
    "search_doc(text3, reg_exp57, book_id='A Study in Scarlet')"
   ]
  },
  {
   "cell_type": "markdown",
   "id": "095bf572",
   "metadata": {},
   "source": [
    "###  Looking at the occurrences of a taboo word in Huck Finn"
   ]
  },
  {
   "cell_type": "code",
   "execution_count": 264,
   "id": "51da42af",
   "metadata": {
    "scrolled": true
   },
   "outputs": [],
   "source": [
    "idx=76\n",
    "# Optional \"s\"  Match the plural as well\n",
    "reg_exp_43 = r\"niggers?\"\n",
    "\n",
    "#The has a few false negatives because of some instances of \"_<PAT>_\"  disallowed by `\\b`\n",
    "#because `_` can occur in a word.\n",
    "#reg_exp_43a = r\"\\bniggers?\\b\"\n",
    "#count_43a,found_43a = search_doc(text_43, reg_exp_43a, book_id='Huckleberry Finn',count_hits=True)\n",
    "\n",
    "#text_43 = get_book(idx)\n",
    "count_43,found_43 = search_doc(text_43, reg_exp_43, book_id='Huckleberry Finn',count_hits=True)"
   ]
  },
  {
   "cell_type": "code",
   "execution_count": 265,
   "id": "ce42f7ec",
   "metadata": {},
   "outputs": [
    {
     "data": {
      "text/plain": [
       "214"
      ]
     },
     "execution_count": 265,
     "metadata": {},
     "output_type": "execute_result"
    }
   ],
   "source": [
    "count_43"
   ]
  },
  {
   "cell_type": "markdown",
   "id": "552d5a69",
   "metadata": {},
   "source": [
    "Our `count_43` just about agrees with the N-word count of 219, cited in [the NYT book review of Percival Everett's new book *James*, ]( https://www.nytimes.com/2024/03/11/books/review/percival-everett-james.html)\n",
    "which is *Huckleberry Finn* told from Jim's point of view.  We can't explain the discrepancy."
   ]
  },
  {
   "cell_type": "markdown",
   "id": "056a3d09",
   "metadata": {},
   "source": [
    "Sanity check:  the set of words matched with the reg exp:"
   ]
  },
  {
   "cell_type": "code",
   "execution_count": 266,
   "id": "e9ed1b2a",
   "metadata": {},
   "outputs": [
    {
     "data": {
      "text/plain": [
       "{'Nigger', 'Niggers', 'nigger', 'niggers'}"
      ]
     },
     "execution_count": 266,
     "metadata": {},
     "output_type": "execute_result"
    }
   ],
   "source": [
    "set(findall_sents)"
   ]
  },
  {
   "cell_type": "markdown",
   "id": "6dd47b41",
   "metadata": {},
   "source": [
    "So the n-word occurs quite often.  Nearly twice as many times as the word *raft*, which is  very important\n",
    "in this story about a trip down the Mississippi."
   ]
  },
  {
   "cell_type": "code",
   "execution_count": 267,
   "id": "da6c5d87",
   "metadata": {},
   "outputs": [],
   "source": [
    "reg_exp_59 = r\"\\braft\\b\"\n",
    "count_59,found_59 = search_doc(text_43, reg_exp_59, book_id='Huckleberry Finn',count_hits=True)"
   ]
  },
  {
   "cell_type": "code",
   "execution_count": 268,
   "id": "c8f1dba9",
   "metadata": {},
   "outputs": [
    {
     "data": {
      "text/plain": [
       "118"
      ]
     },
     "execution_count": 268,
     "metadata": {},
     "output_type": "execute_result"
    }
   ],
   "source": [
    "count_59"
   ]
  },
  {
   "cell_type": "markdown",
   "id": "ca22bc17",
   "metadata": {},
   "source": [
    "#### Collecting the result of multiple searches\n",
    "\n",
    "You can append the results of a search to previous results, if you want.  Just be sure to give\n",
    "book_id a useful value, so you know what book yielded what results."
   ]
  },
  {
   "cell_type": "code",
   "execution_count": 305,
   "id": "2531e5c3",
   "metadata": {},
   "outputs": [
    {
     "name": "stdout",
     "output_type": "stream",
     "text": [
      "52\n",
      "54\n"
     ]
    }
   ],
   "source": [
    "#Search E.M. Forster: A Room with a View = 2641\n",
    "reg_exp47 = r\"\\bfashionable\\s+world\\b\"\n",
    "text4 = get_book(2641)\n",
    "print(len(found))\n",
    "search_doc(text4, reg_exp47, book_id='A Room with a View', found=found)\n",
    "print(len(found))"
   ]
  },
  {
   "cell_type": "markdown",
   "id": "dcc2a184",
   "metadata": {},
   "source": [
    "### Twitter texts"
   ]
  },
  {
   "cell_type": "code",
   "execution_count": 1,
   "id": "86ad3015",
   "metadata": {},
   "outputs": [],
   "source": [
    "with open ('chat_corp/chat_corpus-master/twitter_en.txt') as fh:\n",
    "    text = fh.read()"
   ]
  },
  {
   "cell_type": "markdown",
   "id": "2784236f",
   "metadata": {},
   "source": [
    "Finding emoji"
   ]
  },
  {
   "cell_type": "code",
   "execution_count": 6,
   "id": "00c08ad9",
   "metadata": {},
   "outputs": [
    {
     "name": "stdout",
     "output_type": "stream",
     "text": [
      "😀 804\n",
      "😁 1136\n",
      "😂 24225\n",
      "😃 430\n",
      "😄 620\n",
      "😅 993\n",
      "😆 539\n",
      "😇 413\n",
      "😈 687\n",
      "😉 1938\n",
      "😊 2872\n",
      "😋 433\n",
      "😌 375\n",
      "😍 3783\n",
      "😎 1314\n",
      "😏 903\n",
      "😐 469\n",
      "😑 537\n",
      "😒 974\n",
      "😓 177\n",
      "😔 620\n",
      "😕 556\n",
      "😖 206\n",
      "😗 20\n",
      "😘 2535\n",
      "😙 98\n",
      "😚 173\n",
      "😛 605\n",
      "😜 1045\n",
      "😝 404\n",
      "😞 501\n",
      "😟 115\n",
      "😠 205\n",
      "😡 739\n",
      "😢 814\n",
      "😣 182\n",
      "😤 444\n",
      "😥 224\n",
      "😦 48\n",
      "😧 79\n",
      "😨 161\n",
      "😩 2551\n",
      "😪 306\n",
      "😫 573\n",
      "😬 705\n",
      "😭 7657\n",
      "😮 120\n",
      "😯 67\n",
      "😰 182\n",
      "😱 615\n",
      "😲 84\n",
      "😳 1165\n",
      "😴 441\n",
      "😵 119\n",
      "😶 122\n",
      "😷 288\n",
      "😸 88\n",
      "😹 319\n",
      "😺 30\n",
      "😻 367\n",
      "😼 32\n",
      "😽 51\n",
      "😾 27\n",
      "😿 76\n",
      "🙀 260\n",
      "🙁 164\n",
      "🙂 550\n",
      "🙃 1574\n",
      "🙄 2875\n",
      "🙅 134\n",
      "🙆 88\n",
      "🙇 72\n",
      "🙈 527\n",
      "🙉 51\n",
      "🙊 195\n",
      "🙋 212\n",
      "🙌 1574\n",
      "🙍 18\n",
      "🙎 6\n",
      "🙏 1750\n"
     ]
    }
   ],
   "source": [
    "from re import findall\n",
    "for code in range(0x1f600,+0x1f600+80):\n",
    "    #print(f\"{code:08x} {chr(code)} {unicodedata.name(chr(code))}\")\n",
    "    if chr(code) in text:\n",
    "        found = findall(chr(code),text)\n",
    "        print(chr(code), len(found))"
   ]
  },
  {
   "cell_type": "code",
   "execution_count": 2,
   "id": "9330aa6d",
   "metadata": {},
   "outputs": [
    {
     "data": {
      "text/plain": [
       "str"
      ]
     },
     "execution_count": 2,
     "metadata": {},
     "output_type": "execute_result"
    }
   ],
   "source": [
    "type(text)"
   ]
  },
  {
   "cell_type": "markdown",
   "id": "899899e1",
   "metadata": {},
   "source": []
  }
 ],
 "metadata": {
  "kernelspec": {
   "display_name": "Python 3 (ipykernel)",
   "language": "python",
   "name": "python3"
  },
  "language_info": {
   "codemirror_mode": {
    "name": "ipython",
    "version": 3
   },
   "file_extension": ".py",
   "mimetype": "text/x-python",
   "name": "python",
   "nbconvert_exporter": "python",
   "pygments_lexer": "ipython3",
   "version": "3.10.13"
  }
 },
 "nbformat": 4,
 "nbformat_minor": 5
}
