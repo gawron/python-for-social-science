{
 "cells": [
  {
   "cell_type": "markdown",
   "id": "056e49b5",
   "metadata": {},
   "source": [
    "## Text data on the web"
   ]
  },
  {
   "cell_type": "markdown",
   "id": "91b8416f",
   "metadata": {},
   "source": [
    "## Intro: The basic idea"
   ]
  },
  {
   "cell_type": "code",
   "execution_count": 181,
   "id": "6236651b",
   "metadata": {},
   "outputs": [],
   "source": [
    "# This happends to be Frankenstein, the most downloaded of all Gutenberg books on the day this\n",
    "# NB was created.\n",
    "idx= 84\n",
    "import urllib\n",
    "url = f\"https://gutenberg.org/cache/epub/{idx}/pg{idx}.txt\"\n",
    "with urllib.request.urlopen(url) as stream:\n",
    "    byte_str = stream.read()"
   ]
  },
  {
   "cell_type": "code",
   "execution_count": 182,
   "id": "1f2fa1fb",
   "metadata": {},
   "outputs": [
    {
     "data": {
      "text/plain": [
       "bytes"
      ]
     },
     "execution_count": 182,
     "metadata": {},
     "output_type": "execute_result"
    }
   ],
   "source": [
    "type(byte_str)"
   ]
  },
  {
   "cell_type": "markdown",
   "id": "8b57a5a2",
   "metadata": {},
   "source": [
    "It's not a string because it hasn't been decoded from \"UTF-8\" into a string."
   ]
  },
  {
   "cell_type": "code",
   "execution_count": 183,
   "id": "70af58b5",
   "metadata": {},
   "outputs": [],
   "source": [
    "text=byte_str.decode(\"UTF8\")"
   ]
  },
  {
   "cell_type": "code",
   "execution_count": 184,
   "id": "ba33c9e6",
   "metadata": {},
   "outputs": [
    {
     "data": {
      "text/plain": [
       "str"
      ]
     },
     "execution_count": 184,
     "metadata": {},
     "output_type": "execute_result"
    }
   ],
   "source": [
    "type(text)"
   ]
  },
  {
   "cell_type": "markdown",
   "id": "4e237e36",
   "metadata": {},
   "source": [
    "Make a function implementing the idea (retrieval of books from Gutenberg.org by book index)."
   ]
  },
  {
   "cell_type": "code",
   "execution_count": 34,
   "id": "cef31c83",
   "metadata": {},
   "outputs": [],
   "source": [
    "def get_book (ind):\n",
    "    url = f\"https://gutenberg.org/cache/epub/{ind}/pg{ind}.txt\"\n",
    "    with urllib.request.urlopen(url) as stream:\n",
    "        byte_str = stream.read()\n",
    "        return byte_str.decode(\"UTF8\")"
   ]
  },
  {
   "cell_type": "code",
   "execution_count": 36,
   "id": "c80b8d7e",
   "metadata": {},
   "outputs": [],
   "source": [
    "# Get book 84 (= Frankenstein) from Gutenberg\n",
    "text2= get_book(84)"
   ]
  },
  {
   "cell_type": "code",
   "execution_count": 37,
   "id": "728cf55e",
   "metadata": {},
   "outputs": [
    {
     "data": {
      "text/plain": [
       "True"
      ]
     },
     "execution_count": 37,
     "metadata": {},
     "output_type": "execute_result"
    }
   ],
   "source": [
    "text == text2"
   ]
  },
  {
   "cell_type": "markdown",
   "id": "dd87c141",
   "metadata": {},
   "source": [
    "##  Get data pointers from a trusted source"
   ]
  },
  {
   "cell_type": "markdown",
   "id": "ac067c73",
   "metadata": {},
   "source": [
    "The [Gutenberg.org page](https://gutenberg.org/browse/scores/top) contains a list of the 100\n",
    "most downloaded books, including *Frankenstein*, which we just downloaded in our introductory section,\n",
    "and *Pride and Prejudice*, which has shown up in a lot of our examples.\n",
    "\n",
    "Let's get the list and compuet some statistics from that data."
   ]
  },
  {
   "cell_type": "code",
   "execution_count": 26,
   "id": "dfb5d183",
   "metadata": {},
   "outputs": [],
   "source": [
    "from bs4 import BeautifulSoup\n",
    "\n",
    "book_list = \"https://gutenberg.org/browse/scores/top\"\n",
    "with urllib.request.urlopen(book_list) as stream:\n",
    "    html_doc = stream.read()\n",
    "soup = BeautifulSoup(html_doc, 'html.parser')"
   ]
  },
  {
   "cell_type": "code",
   "execution_count": 138,
   "id": "b4c634dc",
   "metadata": {},
   "outputs": [
    {
     "data": {
      "text/plain": [
       "<!DOCTYPE html>\n",
       "\n",
       "<html class=\"client-nojs\" dir=\"ltr\" lang=\"en\">\n",
       "<head>\n",
       "<meta charset=\"utf-8\"/>\n",
       "<title>Top 100 | Project Gutenberg</title>\n",
       "<link href=\"/gutenberg/style.css?v=1.1\" rel=\"stylesheet\"/>\n",
       "<link href=\"/gutenberg/collapsible.css?1.1\" rel=\"stylesheet\"/>\n",
       "<link href=\"/gutenberg/new_nav.css?v=1.321231\" rel=\"stylesheet\"/>\n",
       "<link href=\"/gutenberg/pg-desktop-one.css\" rel=\"stylesheet\"/>\n",
       "<meta content=\"width=device-width, initial-scale=1\" name=\"viewport\"/>\n",
       "<meta content=\"books, ebooks, free, kindle, android, iphone, ipad\" name=\"keywords\">\n",
       "<meta content=\"wucOEvSnj5kP3Ts_36OfP64laakK-1mVTg-ptrGC9io\" name=\"google-site-verification\"/>\n",
       "<meta content=\"4WNaCljsE-A82vP_ih2H_UqXZvM\" name=\"alexaVerifyID\"/>\n",
       "<link href=\"https://www.gnu.org/copyleft/fdl.html\" rel=\"copyright\">\n",
       "<link href=\"/gutenberg/favicon.ico?v=1.1\" rel=\"shortcut icon\">\n",
       "<meta content=\"Project Gutenberg\" property=\"og:title\"/>\n",
       "<meta content=\"website\" property=\"og:type\"/>\n",
       "<meta content=\"https://www.gutenberg.org/\" property=\"og:url\"/>\n",
       "<meta content=\"Project Gutenberg is a library of free eBooks.\" property=\"og:description\"/>\n",
       "<meta content=\"615269807\" property=\"fb:admins\"/>\n",
       "<meta content=\"115319388529183\" property=\"fb:app_id\"/>\n",
       "<meta content=\"Project Gutenberg\" property=\"og:site_name\"/>\n",
       "<meta content=\"https://www.gutenberg.org/gutenberg/pg-logo-144x144.png\" property=\"og:image\"/>\n",
       "</link></link></meta></head>\n",
       "<body>\n",
       "<div class=\"container\"><!-- start body --><nav>\n",
       "<!--<div id=\"main_logo\"> -->\n",
       "<a class=\"no-hover\" href=\"/\" id=\"main_logo\">\n",
       "<img alt=\"Project Gutenberg\" draggable=\"false\" src=\"/gutenberg/pg-logo-129x80.png\"/>\n",
       "</a>\n",
       "<!--\t</div>-->\n",
       "<div id=\"menu\">\n",
       "<label for=\"tm\" id=\"toggle-menu\">Menu<span class=\"drop-icon\">▾</span></label>\n",
       "<input id=\"tm\" type=\"checkbox\"/>\n",
       "<ul class=\"main-menu cf\">\n",
       "<li>\n",
       "<a href=\"/about/\">About\n",
       "          <span class=\"drop-icon\">▾</span>\n",
       "</a>\n",
       "<label class=\"drop-icon\" for=\"sm0\" title=\"Toggle Drop-down\">▾</label>\n",
       "<input id=\"sm0\" type=\"checkbox\"/>\n",
       "<ul class=\"sub-menu\">\n",
       "<li><a href=\"/about/\">About Project Gutenberg</a></li>\n",
       "<li><a href=\"/policy/collection_development.html\">Collection Development</a></li>\n",
       "<li><a href=\"/about/contact_information.html\">Contact Us</a></li>\n",
       "<li><a href=\"/about/background/\">History &amp; Philosophy</a></li>\n",
       "<li><a href=\"/policy/permission.html\">Permissions &amp; License</a></li>\n",
       "<li><a href=\"/policy/privacy_policy.html\">Privacy Policy</a></li>\n",
       "<li><a href=\"/policy/terms_of_use.html\">Terms of Use</a></li>\n",
       "</ul>\n",
       "</li>\n",
       "<li>\n",
       "<a href=\"/ebooks/\">Search and Browse\n",
       "      \t  <span class=\"drop-icon\">▾</span>\n",
       "</a>\n",
       "<label class=\"drop-icon\" for=\"sm8\" title=\"Toggle Drop-down\">▾</label>\n",
       "<input id=\"sm8\" type=\"checkbox\"/>\n",
       "<ul class=\"sub-menu\">\n",
       "<li><a href=\"/ebooks/\">Book Search</a></li>\n",
       "<li><a href=\"/ebooks/bookshelf/\">Bookshelves</a></li>\n",
       "<li><a href=\"/browse/scores/top\">Frequently Downloaded</a></li>\n",
       "<li><a href=\"/ebooks/offline_catalogs.html\">Offline Catalogs</a></li>\n",
       "</ul>\n",
       "</li>\n",
       "<li>\n",
       "<a href=\"/help/\">Help\n",
       "          <span class=\"drop-icon\">▾</span>\n",
       "</a>\n",
       "<label class=\"drop-icon\" for=\"sm3\" title=\"Toggle Drop-down\">▾</label>\n",
       "<input id=\"sm3\" type=\"checkbox\"/>\n",
       "<ul class=\"sub-menu\">\n",
       "<li><a href=\"/help/\">All help topics →</a></li>\n",
       "<li><a href=\"/help/copyright.html\">Copyright How-To</a></li>\n",
       "<li><a href=\"/help/errata.html\">Errata, Fixes and Bug Reports</a></li>\n",
       "<li><a href=\"/help/file_formats.html\">File Formats</a></li>\n",
       "<li><a href=\"/help/faq.html\">Frequently Asked Questions</a></li>\n",
       "<li><a href=\"/policy/\">Policies →</a></li>\n",
       "<li><a href=\"/help/public_domain_ebook_submission.html\">Public Domain eBook Submission</a></li>\n",
       "<li><a href=\"/help/submitting_your_own_work.html\">Submitting Your Own Work</a></li>\n",
       "<li><a href=\"/help/mobile.html\">Tablets, Phones and eReaders</a></li>\n",
       "<li><a href=\"/attic/\">The Attic →</a></li>\n",
       "</ul>\n",
       "</li>\n",
       "<li><a href=\"/donate/\">Donate</a></li>\n",
       "</ul>\n",
       "</div>\n",
       "<div class=\"donate\">\n",
       "<div class=\"searchbox\">\n",
       "<form accept-charset=\"utf-8\" action=\"/ebooks/search/\" class=\"searchbox\" enctype=\"multipart/form-data\" method=\"get\">\n",
       "<input class=\"searchInput\" id=\"menu-book-search\" maxlength=\"80\" name=\"query\" placeholder=\"  Quick search\" size=\"20\" tabindex=\"20\" title=\"Quick search\" type=\"text\" value=\"\"/>\n",
       "<input name=\"submit_search\" style=\"vertical-align:middle;\" type=\"submit\" value=\"Go!\"/>\n",
       "</form>\n",
       "</div>\n",
       "<form action=\"https://www.paypal.com/cgi-bin/webscr\" class=\"donatelink\" method=\"post\" target=\"new\">\n",
       "<p><a href=\"/donate/\">Donation</a></p>\n",
       "<input name=\"cmd\" type=\"hidden\" value=\"_s-xclick\"/>\n",
       "<input name=\"hosted_button_id\" type=\"hidden\" value=\"XKAL6BZL3YPSN\"/>\n",
       "<input alt=\"Donate via PayPal\" class=\"donbtn\" name=\"submit\" src=\"/pics/en_US.gif\" type=\"image\"/>\n",
       "</form>\n",
       "</div>\n",
       "</nav>\n",
       "<div class=\"page_content\"><!-- start content -->\n",
       "<h1>Frequently Viewed or Downloaded</h1>\n",
       "<p>These listings are based on the number of times each eBook gets downloaded.\n",
       "      Multiple downloads from the same Internet address on the same day count as one download, and addresses that download more than 100 eBooks in a day are considered robots and are not counted.</p>\n",
       "<table>\n",
       "<caption>Downloaded Books</caption>\n",
       "<tr><th>2024-03-07</th><td class=\"right\">293633</td></tr>\n",
       "<tr><th>last 7 days</th><td class=\"right\">1938257</td></tr>\n",
       "<tr><th>last 30 days</th><td class=\"right\">8824350</td></tr>\n",
       "</table>\n",
       "<div class=\"padded\">\n",
       "<ul>\n",
       "<li><a href=\"#books-last1\">Top 100 EBooks yesterday</a></li>\n",
       "<li><a href=\"#authors-last1\">Top 100 Authors yesterday</a></li>\n",
       "<li><a href=\"#books-last7\">Top 100 EBooks last 7 days</a></li>\n",
       "<li><a href=\"#authors-last7\">Top 100 Authors last 7 days</a></li>\n",
       "<li><a href=\"#books-last30\">Top 100 EBooks last 30 days</a></li>\n",
       "<li><a href=\"#authors-last30\">Top 100 Authors last 30 days</a></li>\n",
       "</ul>\n",
       "</div>\n",
       "<h2 id=\"books-last1\">Top 100 EBooks yesterday</h2>\n",
       "<ol>\n",
       "<li><a href=\"/ebooks/84\">Frankenstein; Or, The Modern Prometheus by Mary Wollstonecraft Shelley (4050)</a></li>\n",
       "<li><a href=\"/ebooks/1342\">Pride and Prejudice by Jane Austen (2806)</a></li>\n",
       "<li><a href=\"/ebooks/2701\">Moby Dick; Or, The Whale by Herman Melville (2363)</a></li>\n",
       "<li><a href=\"/ebooks/1513\">Romeo and Juliet by William Shakespeare (2137)</a></li>\n",
       "<li><a href=\"/ebooks/145\">Middlemarch by George Eliot (1613)</a></li>\n",
       "<li><a href=\"/ebooks/100\">The Complete Works of William Shakespeare by William Shakespeare (1573)</a></li>\n",
       "<li><a href=\"/ebooks/2641\">A Room with a View by E. M.  Forster (1508)</a></li>\n",
       "<li><a href=\"/ebooks/37106\">Little Women; Or, Meg, Jo, Beth, and Amy by Louisa May Alcott (1483)</a></li>\n",
       "<li><a href=\"/ebooks/64317\">The Great Gatsby by F. Scott  Fitzgerald (1476)</a></li>\n",
       "<li><a href=\"/ebooks/67979\">The Blue Castle: a novel by L. M.  Montgomery (1366)</a></li>\n",
       "<li><a href=\"/ebooks/16389\">The Enchanted April by Elizabeth Von Arnim (1364)</a></li>\n",
       "<li><a href=\"/ebooks/6761\">The Adventures of Ferdinand Count Fathom — Complete by T.  Smollett (1252)</a></li>\n",
       "<li><a href=\"/ebooks/394\">Cranford by Elizabeth Cleghorn Gaskell (1243)</a></li>\n",
       "<li><a href=\"/ebooks/2160\">The Expedition of Humphry Clinker by T.  Smollett (1222)</a></li>\n",
       "<li><a href=\"/ebooks/11\">Alice's Adventures in Wonderland by Lewis Carroll (1222)</a></li>\n",
       "<li><a href=\"/ebooks/2542\">A Doll's House : a play by Henrik Ibsen (1211)</a></li>\n",
       "<li><a href=\"/ebooks/4085\">The Adventures of Roderick Random by T.  Smollett (1210)</a></li>\n",
       "<li><a href=\"/ebooks/6593\">History of Tom Jones, a Foundling by Henry Fielding (1193)</a></li>\n",
       "<li><a href=\"/ebooks/1259\">Twenty years after by Alexandre Dumas and Auguste Maquet (1180)</a></li>\n",
       "<li><a href=\"/ebooks/174\">The Picture of Dorian Gray by Oscar Wilde (1168)</a></li>\n",
       "<li><a href=\"/ebooks/844\">The Importance of Being Earnest: A Trivial Comedy for Serious People by Oscar Wilde (1167)</a></li>\n",
       "<li><a href=\"/ebooks/5197\">My Life — Volume 1 by Richard Wagner (1158)</a></li>\n",
       "<li><a href=\"/ebooks/73115\">The house of bondage by Reginald Wright Kauffman (1088)</a></li>\n",
       "<li><a href=\"/ebooks/1952\">The Yellow Wallpaper by Charlotte Perkins Gilman (1069)</a></li>\n",
       "<li><a href=\"/ebooks/98\">A Tale of Two Cities by Charles Dickens (961)</a></li>\n",
       "<li><a href=\"/ebooks/5200\">Metamorphosis by Franz Kafka (906)</a></li>\n",
       "<li><a href=\"/ebooks/71\">On the Duty of Civil Disobedience by Henry David Thoreau (904)</a></li>\n",
       "<li><a href=\"/ebooks/2554\">Crime and Punishment by Fyodor Dostoyevsky (842)</a></li>\n",
       "<li><a href=\"/ebooks/345\">Dracula by Bram Stoker (837)</a></li>\n",
       "<li><a href=\"/ebooks/1080\">A Modest Proposal by Jonathan Swift (789)</a></li>\n",
       "<li><a href=\"/ebooks/73116\">A way of life : by Sir William Osler (788)</a></li>\n",
       "<li><a href=\"/ebooks/1400\">Great Expectations by Charles Dickens (784)</a></li>\n",
       "<li><a href=\"/ebooks/76\">Adventures of Huckleberry Finn by Mark Twain (747)</a></li>\n",
       "<li><a href=\"/ebooks/43\">The Strange Case of Dr. Jekyll and Mr. Hyde by Robert Louis Stevenson (729)</a></li>\n",
       "<li><a href=\"/ebooks/25344\">The Scarlet Letter by Nathaniel Hawthorne (723)</a></li>\n",
       "<li><a href=\"/ebooks/1260\">Jane Eyre: An Autobiography by Charlotte Brontë (681)</a></li>\n",
       "<li><a href=\"/ebooks/408\">The Souls of Black Folk by W. E. B.  Du Bois (663)</a></li>\n",
       "<li><a href=\"/ebooks/41128\">The Kādambarī of Bāṇa by Bāṇa‏ and Bhūṣaṇabhaṭṭa (646)</a></li>\n",
       "<li><a href=\"/ebooks/1661\">The Adventures of Sherlock Holmes by Arthur Conan Doyle (619)</a></li>\n",
       "<li><a href=\"/ebooks/219\">Heart of Darkness by Joseph Conrad (593)</a></li>\n",
       "<li><a href=\"/ebooks/2591\">Grimms' Fairy Tales by Jacob Grimm and Wilhelm Grimm (539)</a></li>\n",
       "<li><a href=\"/ebooks/28054\">The Brothers Karamazov by Fyodor Dostoyevsky (536)</a></li>\n",
       "<li><a href=\"/ebooks/2600\">War and Peace by graf Leo Tolstoy (533)</a></li>\n",
       "<li><a href=\"/ebooks/6130\">The Iliad by Homer (503)</a></li>\n",
       "<li><a href=\"/ebooks/2000\">Don Quijote by Miguel de Cervantes Saavedra (480)</a></li>\n",
       "<li><a href=\"/ebooks/1232\">The Prince by Niccolò Machiavelli (479)</a></li>\n",
       "<li><a href=\"/ebooks/768\">Wuthering Heights by Emily Brontë (464)</a></li>\n",
       "<li><a href=\"/ebooks/73117\">Names and places in the Old and New Testament and Apocrypha, with their modern identifications (452)</a></li>\n",
       "<li><a href=\"/ebooks/41445\">Frankenstein; Or, The Modern Prometheus by Mary Wollstonecraft Shelley (451)</a></li>\n",
       "<li><a href=\"/ebooks/514\">Little Women by Louisa May Alcott (448)</a></li>\n",
       "<li><a href=\"/ebooks/1727\">The Odyssey by Homer (442)</a></li>\n",
       "<li><a href=\"/ebooks/5740\">Tractatus Logico-Philosophicus by Ludwig Wittgenstein (436)</a></li>\n",
       "<li><a href=\"/ebooks/4300\">Ulysses by James Joyce (434)</a></li>\n",
       "<li><a href=\"/ebooks/46\">A Christmas Carol in Prose; Being a Ghost Story of Christmas by Charles Dickens (431)</a></li>\n",
       "<li><a href=\"/ebooks/1497\">The Republic by Plato (424)</a></li>\n",
       "<li><a href=\"/ebooks/205\">Walden, and On The Duty Of Civil Disobedience by Henry David Thoreau (420)</a></li>\n",
       "<li><a href=\"/ebooks/1184\">The Count of Monte Cristo by Alexandre Dumas and Auguste Maquet (413)</a></li>\n",
       "<li><a href=\"/ebooks/3207\">Leviathan by Thomas Hobbes (412)</a></li>\n",
       "<li><a href=\"/ebooks/1998\">Thus Spake Zarathustra: A Book for All and None by Friedrich Wilhelm Nietzsche (405)</a></li>\n",
       "<li><a href=\"/ebooks/7370\">Second Treatise of Government by John Locke (392)</a></li>\n",
       "<li><a href=\"/ebooks/829\">Gulliver's Travels into Several Remote Nations of the World by Jonathan Swift (386)</a></li>\n",
       "<li><a href=\"/ebooks/45\">Anne of Green Gables by L. M.  Montgomery (383)</a></li>\n",
       "<li><a href=\"/ebooks/30254\">The Romance of Lust: A classic Victorian erotic novel by Anonymous (362)</a></li>\n",
       "<li><a href=\"/ebooks/16\">Peter Pan by J. M.  Barrie (362)</a></li>\n",
       "<li><a href=\"/ebooks/2680\">Meditations by Emperor of Rome Marcus Aurelius (362)</a></li>\n",
       "<li><a href=\"/ebooks/996\">Don Quixote by Miguel de Cervantes Saavedra (362)</a></li>\n",
       "<li><a href=\"/ebooks/2852\">The Hound of the Baskervilles by Arthur Conan Doyle (357)</a></li>\n",
       "<li><a href=\"/ebooks/3201\">Moby Word Lists by Grady Ward (355)</a></li>\n",
       "<li><a href=\"/ebooks/8800\">The divine comedy by Dante Alighieri (347)</a></li>\n",
       "<li><a href=\"/ebooks/23\">Narrative of the Life of Frederick Douglass, an American Slave by Frederick Douglass (345)</a></li>\n",
       "<li><a href=\"/ebooks/42324\">Frankenstein; Or, The Modern Prometheus by Mary Wollstonecraft Shelley (337)</a></li>\n",
       "<li><a href=\"/ebooks/2814\">Dubliners by James Joyce (337)</a></li>\n",
       "<li><a href=\"/ebooks/36\">The War of the Worlds by H. G.  Wells (335)</a></li>\n",
       "<li><a href=\"/ebooks/58585\">The Prophet by Kahlil Gibran (335)</a></li>\n",
       "<li><a href=\"/ebooks/3825\">Pygmalion by Bernard Shaw (332)</a></li>\n",
       "<li><a href=\"/ebooks/600\">Notes from the Underground by Fyodor Dostoyevsky (319)</a></li>\n",
       "<li><a href=\"/ebooks/244\">A Study in Scarlet by Arthur Conan Doyle (319)</a></li>\n",
       "<li><a href=\"/ebooks/4363\">Beyond Good and Evil by Friedrich Wilhelm Nietzsche (318)</a></li>\n",
       "<li><a href=\"/ebooks/74\">The Adventures of Tom Sawyer, Complete by Mark Twain (314)</a></li>\n",
       "<li><a href=\"/ebooks/67098\">Winnie-the-Pooh by A. A.  Milne (311)</a></li>\n",
       "<li><a href=\"/ebooks/8492\">The King in Yellow by Robert W.  Chambers (311)</a></li>\n",
       "<li><a href=\"/ebooks/158\">Emma by Jane Austen (310)</a></li>\n",
       "<li><a href=\"/ebooks/55\">The Wonderful Wizard of Oz by L. Frank  Baum (307)</a></li>\n",
       "<li><a href=\"/ebooks/16328\">Beowulf: An Anglo-Saxon Epic Poem (305)</a></li>\n",
       "<li><a href=\"/ebooks/161\">Sense and Sensibility by Jane Austen (302)</a></li>\n",
       "<li><a href=\"/ebooks/120\">Treasure Island by Robert Louis Stevenson (293)</a></li>\n",
       "<li><a href=\"/ebooks/15399\">The Interesting Narrative of the Life of Olaudah Equiano, Or Gustavus Vassa, The African by Equiano (283)</a></li>\n",
       "<li><a href=\"/ebooks/10007\">Carmilla by Joseph Sheridan Le Fanu (280)</a></li>\n",
       "<li><a href=\"/ebooks/10\">The King James Version of the Bible (279)</a></li>\n",
       "<li><a href=\"/ebooks/16119\">Doctrina Christiana (276)</a></li>\n",
       "<li><a href=\"/ebooks/11030\">Incidents in the Life of a Slave Girl, Written by Herself by Harriet A.  Jacobs (274)</a></li>\n",
       "<li><a href=\"/ebooks/41\">The Legend of Sleepy Hollow by Washington Irving (273)</a></li>\n",
       "<li><a href=\"/ebooks/35\">The Time Machine by H. G.  Wells (273)</a></li>\n",
       "<li><a href=\"/ebooks/1250\">Anthem by Ayn Rand (272)</a></li>\n",
       "<li><a href=\"/ebooks/10623\">Plays by Susan Glaspell (266)</a></li>\n",
       "<li><a href=\"/ebooks/33283\">Calculus Made Easy by Silvanus P.  Thompson (264)</a></li>\n",
       "<li><a href=\"/ebooks/20228\">Noli Me Tangere by José Rizal (264)</a></li>\n",
       "<li><a href=\"/ebooks/27827\">The Kama Sutra of Vatsyayana by Vatsyayana (261)</a></li>\n",
       "<li><a href=\"/ebooks/36034\">White Nights and Other Stories by Fyodor Dostoyevsky (259)</a></li>\n",
       "<li><a href=\"/ebooks/10676\">The Reign of Greed by José Rizal (254)</a></li>\n",
       "</ol>\n",
       "<div class=\"padded\">\n",
       "<ul>\n",
       "<li><a href=\"#books-last1\">Top 100 EBooks yesterday</a></li>\n",
       "<li><a href=\"#authors-last1\">Top 100 Authors yesterday</a></li>\n",
       "<li><a href=\"#books-last7\">Top 100 EBooks last 7 days</a></li>\n",
       "<li><a href=\"#authors-last7\">Top 100 Authors last 7 days</a></li>\n",
       "<li><a href=\"#books-last30\">Top 100 EBooks last 30 days</a></li>\n",
       "<li><a href=\"#authors-last30\">Top 100 Authors last 30 days</a></li>\n",
       "</ul>\n",
       "</div>\n",
       "<h2 id=\"authors-last1\">Top 100 Authors yesterday</h2>\n",
       "<ol>\n",
       "<li><a href=\"/browse/authors/s#a65\">Shakespeare, William (6124)</a></li>\n",
       "<li><a href=\"/browse/authors/s#a61\">Shelley, Mary Wollstonecraft (5010)</a></li>\n",
       "<li><a href=\"/browse/authors/a#a68\">Austen, Jane (4258)</a></li>\n",
       "<li><a href=\"/browse/authors/d#a37\">Dickens, Charles (3829)</a></li>\n",
       "<li><a href=\"/browse/authors/s#a838\">Smollett, T. (Tobias) (3770)</a></li>\n",
       "<li><a href=\"/browse/authors/w#a111\">Wilde, Oscar (3240)</a></li>\n",
       "<li><a href=\"/browse/authors/t#a53\">Twain, Mark (2901)</a></li>\n",
       "<li><a href=\"/browse/authors/m#a9\">Melville, Herman (2797)</a></li>\n",
       "<li><a href=\"/browse/authors/d#a314\">Dostoyevsky, Fyodor (2649)</a></li>\n",
       "<li><a href=\"/browse/authors/d#a492\">Dumas, Alexandre (2414)</a></li>\n",
       "<li><a href=\"/browse/authors/g#a2858\">Garnett, Constance (2330)</a></li>\n",
       "<li><a href=\"/browse/authors/a#a102\">Alcott, Louisa May (2315)</a></li>\n",
       "<li><a href=\"/browse/authors/d#a69\">Doyle, Arthur Conan (2244)</a></li>\n",
       "<li><a href=\"/browse/authors/m#a36\">Montgomery, L. M. (Lucy Maud) (2106)</a></li>\n",
       "<li><a href=\"/browse/authors/m#a3930\">Maquet, Auguste (2057)</a></li>\n",
       "<li><a href=\"/browse/authors/e#a90\">Eliot, George (1963)</a></li>\n",
       "<li><a href=\"/browse/authors/c#a7\">Carroll, Lewis (1890)</a></li>\n",
       "<li><a href=\"/browse/authors/f#a975\">Forster, E. M. (Edward Morgan) (1789)</a></li>\n",
       "<li><a href=\"/browse/authors/i#a861\">Ibsen, Henrik (1734)</a></li>\n",
       "<li><a href=\"/browse/authors/s#a35\">Stevenson, Robert Louis (1714)</a></li>\n",
       "<li><a href=\"/browse/authors/n#a779\">Nietzsche, Friedrich Wilhelm (1688)</a></li>\n",
       "<li><a href=\"/browse/authors/f#a420\">Fitzgerald, F. Scott (Francis Scott) (1632)</a></li>\n",
       "<li><a href=\"/browse/authors/r#a2183\">Rizal, José (1630)</a></li>\n",
       "<li><a href=\"/browse/authors/w#a30\">Wells, H. G. (Herbert George) (1597)</a></li>\n",
       "<li><a href=\"/browse/authors/h#a705\">Homer (1589)</a></li>\n",
       "<li><a href=\"/browse/authors/m#a6202\">Merrill, Frank T. (1581)</a></li>\n",
       "<li><a href=\"/browse/authors/t#a54\">Thoreau, Henry David (1535)</a></li>\n",
       "<li><a href=\"/browse/authors/g#a220\">Gaskell, Elizabeth Cleghorn (1489)</a></li>\n",
       "<li><a href=\"/browse/authors/h#a28\">Hawthorne, Nathaniel (1473)</a></li>\n",
       "<li><a href=\"/browse/authors/p#a93\">Plato (1451)</a></li>\n",
       "<li><a href=\"/browse/authors/t#a136\">Tolstoy, Leo, graf (1439)</a></li>\n",
       "<li><a href=\"/browse/authors/v#a603\">Von Arnim, Elizabeth (1425)</a></li>\n",
       "<li><a href=\"/browse/authors/s#a326\">Swift, Jonathan (1382)</a></li>\n",
       "<li><a href=\"/browse/authors/j#a94\">Jowett, Benjamin (1335)</a></li>\n",
       "<li><a href=\"/browse/authors/k#a1735\">Kafka, Franz (1311)</a></li>\n",
       "<li><a href=\"/browse/authors/f#a537\">Fielding, Henry (1289)</a></li>\n",
       "<li><a href=\"/browse/authors/b#a26815\">Brock, C. E. (Charles Edmund) (1269)</a></li>\n",
       "<li><a href=\"/browse/authors/w#a1325\">Wagner, Richard (1215)</a></li>\n",
       "<li><a href=\"/browse/authors/g#a27\">Gilman, Charlotte Perkins (1211)</a></li>\n",
       "<li><a href=\"/browse/authors/k#a39468\">Kauffman, Reginald Wright (1198)</a></li>\n",
       "<li><a href=\"/browse/authors/c#a125\">Conrad, Joseph (1093)</a></li>\n",
       "<li><a href=\"/browse/authors/w#a1736\">Wyllie, David (Translator) (1088)</a></li>\n",
       "<li><a href=\"/browse/authors/p#a481\">Poe, Edgar Allan (1075)</a></li>\n",
       "<li><a href=\"/browse/authors/c#a505\">Cervantes Saavedra, Miguel de (1042)</a></li>\n",
       "<li><a href=\"/browse/authors/t#a324\">Trollope, Anthony (1025)</a></li>\n",
       "<li><a href=\"/browse/authors/v#a60\">Verne, Jules (1017)</a></li>\n",
       "<li><a href=\"/browse/authors/b#a42\">Baum, L. Frank (Lyman Frank) (1014)</a></li>\n",
       "<li><a href=\"/browse/authors/d#a507\">Dante Alighieri (985)</a></li>\n",
       "<li><a href=\"/browse/authors/j#a1039\">Joyce, James (974)</a></li>\n",
       "<li><a href=\"/browse/authors/s#a190\">Stoker, Bram (973)</a></li>\n",
       "<li><a href=\"/browse/authors/d#a1896\">Doré, Gustave (953)</a></li>\n",
       "<li><a href=\"/browse/authors/w#a1961\">Widger, David (924)</a></li>\n",
       "<li><a href=\"/browse/authors/c#a80\">Chesterton, G. K. (Gilbert Keith) (908)</a></li>\n",
       "<li><a href=\"/browse/authors/h#a85\">Hugo, Victor (903)</a></li>\n",
       "<li><a href=\"/browse/authors/r#a355\">Russell, Bertrand (900)</a></li>\n",
       "<li><a href=\"/browse/authors/k#a132\">Kipling, Rudyard (877)</a></li>\n",
       "<li><a href=\"/browse/authors/j#a113\">James, Henry (873)</a></li>\n",
       "<li><a href=\"/browse/authors/o#a660\">Osler, William, Sir (867)</a></li>\n",
       "<li><a href=\"/browse/authors/c#a451\">Christie, Agatha (866)</a></li>\n",
       "<li><a href=\"/browse/authors/d#a226\">Du Bois, W. E. B. (William Edward Burghardt) (843)</a></li>\n",
       "<li><a href=\"/browse/authors/l#a120\">London, Jack (812)</a></li>\n",
       "<li><a href=\"/browse/authors/b#a408\">Brontë, Charlotte (807)</a></li>\n",
       "<li><a href=\"/browse/authors/k#a37155\">Kemble, E. W. (Edward Windsor) (804)</a></li>\n",
       "<li><a href=\"/browse/authors/p#a907\">Pope, Alexander (780)</a></li>\n",
       "<li><a href=\"/browse/authors/g#a972\">Grimm, Wilhelm (771)</a></li>\n",
       "<li><a href=\"/browse/authors/g#a971\">Grimm, Jacob (771)</a></li>\n",
       "<li><a href=\"/browse/authors/l#a79\">Lang, Andrew (764)</a></li>\n",
       "<li><a href=\"/browse/authors/c#a708\">Chekhov, Anton Pavlovich (758)</a></li>\n",
       "<li><a href=\"/browse/authors/m#a4589\">Maude, Aylmer (755)</a></li>\n",
       "<li><a href=\"/browse/authors/b#a748\">Butler, Samuel (753)</a></li>\n",
       "<li><a href=\"/browse/authors/d#a4931\">Derbyshire, Charles E. (752)</a></li>\n",
       "<li><a href=\"/browse/authors/s#a467\">Shaw, Bernard (751)</a></li>\n",
       "<li><a href=\"/browse/authors/f#a2703\">Foote, Mary Hallock (729)</a></li>\n",
       "<li><a href=\"/browse/authors/i#a31265\">Ipsen, Ludvig Sandöe (723)</a></li>\n",
       "<li><a href=\"/browse/authors/a#a31267\">Anthony, A. V. S. (Andrew Varick Stout) (723)</a></li>\n",
       "<li><a href=\"/browse/authors/t#a9854\">Townsend, F. H. (Frederick Henry) (719)</a></li>\n",
       "<li><a href=\"/browse/authors/m#a500\">Maude, Louise (710)</a></li>\n",
       "<li><a href=\"/browse/authors/g#a586\">Goethe, Johann Wolfgang von (682)</a></li>\n",
       "<li><a href=\"/browse/authors/m#a1355\">Morley, Henry (651)</a></li>\n",
       "<li><a href=\"/browse/authors/b#a40994\">Bhūṣaṇabhaṭṭa (646)</a></li>\n",
       "<li><a href=\"/browse/authors/b#a40993\">Bāṇa‏ (646)</a></li>\n",
       "<li><a href=\"/browse/authors/r#a40995\">Ridding, C. M. (Caroline Mary) (646)</a></li>\n",
       "<li><a href=\"/browse/authors/d#a204\">Defoe, Daniel (642)</a></li>\n",
       "<li><a href=\"/browse/authors/p#a292\">Potter, Beatrix (636)</a></li>\n",
       "<li><a href=\"/browse/authors/b#a251\">Balzac, Honoré de (593)</a></li>\n",
       "<li><a href=\"/browse/authors/m#a563\">Machiavelli, Niccolò (588)</a></li>\n",
       "<li><a href=\"/browse/authors/b#a10\">Barrie, J. M. (James Matthew) (587)</a></li>\n",
       "<li><a href=\"/browse/authors/b#a73\">Burnett, Frances Hodgson (586)</a></li>\n",
       "<li><a href=\"/browse/authors/s#a59\">Scott, Walter (577)</a></li>\n",
       "<li><a href=\"/browse/authors/i#a34\">Irving, Washington (573)</a></li>\n",
       "<li><a href=\"/browse/authors/k#a1426\">Kant, Immanuel (570)</a></li>\n",
       "<li><a href=\"/browse/authors/m#a730\">Milne, A. A. (Alan Alexander) (570)</a></li>\n",
       "<li><a href=\"/browse/authors/l#a2447\">Locke, John (565)</a></li>\n",
       "<li><a href=\"/browse/authors/b#a898\">Burton, Richard Francis, Sir (560)</a></li>\n",
       "<li><a href=\"/browse/authors/b#a48\">Burroughs, Edgar Rice (545)</a></li>\n",
       "<li><a href=\"/browse/authors/m#a306\">Maupassant, Guy de (543)</a></li>\n",
       "<li><a href=\"/browse/authors/l#a7862\">Levy, Oscar (538)</a></li>\n",
       "<li><a href=\"/browse/authors/w#a104\">Wharton, Edith (527)</a></li>\n",
       "<li><a href=\"/browse/authors/b#a25301\">Buckley, Theodore Alois (526)</a></li>\n",
       "<li><a href=\"/browse/authors/l#a9473\">Leech, John (518)</a></li>\n",
       "</ol>\n",
       "<div class=\"padded\">\n",
       "<ul>\n",
       "<li><a href=\"#books-last1\">Top 100 EBooks yesterday</a></li>\n",
       "<li><a href=\"#authors-last1\">Top 100 Authors yesterday</a></li>\n",
       "<li><a href=\"#books-last7\">Top 100 EBooks last 7 days</a></li>\n",
       "<li><a href=\"#authors-last7\">Top 100 Authors last 7 days</a></li>\n",
       "<li><a href=\"#books-last30\">Top 100 EBooks last 30 days</a></li>\n",
       "<li><a href=\"#authors-last30\">Top 100 Authors last 30 days</a></li>\n",
       "</ul>\n",
       "</div>\n",
       "<h2 id=\"books-last7\">Top 100 EBooks last 7 days</h2>\n",
       "<ol>\n",
       "<li><a href=\"/ebooks/84\">Frankenstein; Or, The Modern Prometheus by Mary Wollstonecraft Shelley (24728)</a></li>\n",
       "<li><a href=\"/ebooks/1342\">Pride and Prejudice by Jane Austen (18361)</a></li>\n",
       "<li><a href=\"/ebooks/2701\">Moby Dick; Or, The Whale by Herman Melville (15742)</a></li>\n",
       "<li><a href=\"/ebooks/1513\">Romeo and Juliet by William Shakespeare (15229)</a></li>\n",
       "<li><a href=\"/ebooks/145\">Middlemarch by George Eliot (11266)</a></li>\n",
       "<li><a href=\"/ebooks/100\">The Complete Works of William Shakespeare by William Shakespeare (10795)</a></li>\n",
       "<li><a href=\"/ebooks/2641\">A Room with a View by E. M.  Forster (10703)</a></li>\n",
       "<li><a href=\"/ebooks/37106\">Little Women; Or, Meg, Jo, Beth, and Amy by Louisa May Alcott (10407)</a></li>\n",
       "<li><a href=\"/ebooks/67979\">The Blue Castle: a novel by L. M.  Montgomery (9506)</a></li>\n",
       "<li><a href=\"/ebooks/16389\">The Enchanted April by Elizabeth Von Arnim (9447)</a></li>\n",
       "<li><a href=\"/ebooks/6761\">The Adventures of Ferdinand Count Fathom — Complete by T.  Smollett (8863)</a></li>\n",
       "<li><a href=\"/ebooks/394\">Cranford by Elizabeth Cleghorn Gaskell (8767)</a></li>\n",
       "<li><a href=\"/ebooks/64317\">The Great Gatsby by F. Scott  Fitzgerald (8748)</a></li>\n",
       "<li><a href=\"/ebooks/4085\">The Adventures of Roderick Random by T.  Smollett (8623)</a></li>\n",
       "<li><a href=\"/ebooks/2160\">The Expedition of Humphry Clinker by T.  Smollett (8571)</a></li>\n",
       "<li><a href=\"/ebooks/6593\">History of Tom Jones, a Foundling by Henry Fielding (8511)</a></li>\n",
       "<li><a href=\"/ebooks/1259\">Twenty years after by Alexandre Dumas and Auguste Maquet (8285)</a></li>\n",
       "<li><a href=\"/ebooks/11\">Alice's Adventures in Wonderland by Lewis Carroll (8256)</a></li>\n",
       "<li><a href=\"/ebooks/5197\">My Life — Volume 1 by Richard Wagner (8229)</a></li>\n",
       "<li><a href=\"/ebooks/2542\">A Doll's House : a play by Henrik Ibsen (7645)</a></li>\n",
       "<li><a href=\"/ebooks/174\">The Picture of Dorian Gray by Oscar Wilde (7423)</a></li>\n",
       "<li><a href=\"/ebooks/844\">The Importance of Being Earnest: A Trivial Comedy for Serious People by Oscar Wilde (6775)</a></li>\n",
       "<li><a href=\"/ebooks/1952\">The Yellow Wallpaper by Charlotte Perkins Gilman (6230)</a></li>\n",
       "<li><a href=\"/ebooks/98\">A Tale of Two Cities by Charles Dickens (5959)</a></li>\n",
       "<li><a href=\"/ebooks/2554\">Crime and Punishment by Fyodor Dostoyevsky (5850)</a></li>\n",
       "<li><a href=\"/ebooks/1080\">A Modest Proposal by Jonathan Swift (5732)</a></li>\n",
       "<li><a href=\"/ebooks/5200\">Metamorphosis by Franz Kafka (5653)</a></li>\n",
       "<li><a href=\"/ebooks/345\">Dracula by Bram Stoker (5362)</a></li>\n",
       "<li><a href=\"/ebooks/1400\">Great Expectations by Charles Dickens (4827)</a></li>\n",
       "<li><a href=\"/ebooks/408\">The Souls of Black Folk by W. E. B.  Du Bois (4684)</a></li>\n",
       "<li><a href=\"/ebooks/43\">The Strange Case of Dr. Jekyll and Mr. Hyde by Robert Louis Stevenson (4612)</a></li>\n",
       "<li><a href=\"/ebooks/25344\">The Scarlet Letter by Nathaniel Hawthorne (4578)</a></li>\n",
       "<li><a href=\"/ebooks/76\">Adventures of Huckleberry Finn by Mark Twain (4500)</a></li>\n",
       "<li><a href=\"/ebooks/1260\">Jane Eyre: An Autobiography by Charlotte Brontë (4353)</a></li>\n",
       "<li><a href=\"/ebooks/1661\">The Adventures of Sherlock Holmes by Arthur Conan Doyle (4146)</a></li>\n",
       "<li><a href=\"/ebooks/219\">Heart of Darkness by Joseph Conrad (4003)</a></li>\n",
       "<li><a href=\"/ebooks/28054\">The Brothers Karamazov by Fyodor Dostoyevsky (3754)</a></li>\n",
       "<li><a href=\"/ebooks/6130\">The Iliad by Homer (3468)</a></li>\n",
       "<li><a href=\"/ebooks/2600\">War and Peace by graf Leo Tolstoy (3417)</a></li>\n",
       "<li><a href=\"/ebooks/2591\">Grimms' Fairy Tales by Jacob Grimm and Wilhelm Grimm (3388)</a></li>\n",
       "<li><a href=\"/ebooks/1232\">The Prince by Niccolò Machiavelli (3266)</a></li>\n",
       "<li><a href=\"/ebooks/2000\">Don Quijote by Miguel de Cervantes Saavedra (3236)</a></li>\n",
       "<li><a href=\"/ebooks/1727\">The Odyssey by Homer (3223)</a></li>\n",
       "<li><a href=\"/ebooks/46\">A Christmas Carol in Prose; Being a Ghost Story of Christmas by Charles Dickens (3074)</a></li>\n",
       "<li><a href=\"/ebooks/4300\">Ulysses by James Joyce (3052)</a></li>\n",
       "<li><a href=\"/ebooks/205\">Walden, and On The Duty Of Civil Disobedience by Henry David Thoreau (2978)</a></li>\n",
       "<li><a href=\"/ebooks/3207\">Leviathan by Thomas Hobbes (2912)</a></li>\n",
       "<li><a href=\"/ebooks/1998\">Thus Spake Zarathustra: A Book for All and None by Friedrich Wilhelm Nietzsche (2872)</a></li>\n",
       "<li><a href=\"/ebooks/768\">Wuthering Heights by Emily Brontë (2866)</a></li>\n",
       "<li><a href=\"/ebooks/5740\">Tractatus Logico-Philosophicus by Ludwig Wittgenstein (2714)</a></li>\n",
       "<li><a href=\"/ebooks/1184\">The Count of Monte Cristo by Alexandre Dumas and Auguste Maquet (2594)</a></li>\n",
       "<li><a href=\"/ebooks/74\">The Adventures of Tom Sawyer, Complete by Mark Twain (2568)</a></li>\n",
       "<li><a href=\"/ebooks/7370\">Second Treatise of Government by John Locke (2557)</a></li>\n",
       "<li><a href=\"/ebooks/2814\">Dubliners by James Joyce (2553)</a></li>\n",
       "<li><a href=\"/ebooks/1497\">The Republic by Plato (2510)</a></li>\n",
       "<li><a href=\"/ebooks/514\">Little Women by Louisa May Alcott (2489)</a></li>\n",
       "<li><a href=\"/ebooks/41445\">Frankenstein; Or, The Modern Prometheus by Mary Wollstonecraft Shelley (2454)</a></li>\n",
       "<li><a href=\"/ebooks/71\">On the Duty of Civil Disobedience by Henry David Thoreau (2375)</a></li>\n",
       "<li><a href=\"/ebooks/45\">Anne of Green Gables by L. M.  Montgomery (2362)</a></li>\n",
       "<li><a href=\"/ebooks/30254\">The Romance of Lust: A classic Victorian erotic novel by Anonymous (2357)</a></li>\n",
       "<li><a href=\"/ebooks/996\">Don Quixote by Miguel de Cervantes Saavedra (2323)</a></li>\n",
       "<li><a href=\"/ebooks/244\">A Study in Scarlet by Arthur Conan Doyle (2310)</a></li>\n",
       "<li><a href=\"/ebooks/16\">Peter Pan by J. M.  Barrie (2263)</a></li>\n",
       "<li><a href=\"/ebooks/2680\">Meditations by Emperor of Rome Marcus Aurelius (2250)</a></li>\n",
       "<li><a href=\"/ebooks/2852\">The Hound of the Baskervilles by Arthur Conan Doyle (2237)</a></li>\n",
       "<li><a href=\"/ebooks/55\">The Wonderful Wizard of Oz by L. Frank  Baum (2237)</a></li>\n",
       "<li><a href=\"/ebooks/27827\">The Kama Sutra of Vatsyayana by Vatsyayana (2229)</a></li>\n",
       "<li><a href=\"/ebooks/58585\">The Prophet by Kahlil Gibran (2223)</a></li>\n",
       "<li><a href=\"/ebooks/41680\">Civil War and Reconstruction in Alabama by Walter L.  Fleming (2198)</a></li>\n",
       "<li><a href=\"/ebooks/8800\">The divine comedy by Dante Alighieri (2182)</a></li>\n",
       "<li><a href=\"/ebooks/36\">The War of the Worlds by H. G.  Wells (2161)</a></li>\n",
       "<li><a href=\"/ebooks/829\">Gulliver's Travels into Several Remote Nations of the World by Jonathan Swift (2150)</a></li>\n",
       "<li><a href=\"/ebooks/4363\">Beyond Good and Evil by Friedrich Wilhelm Nietzsche (2138)</a></li>\n",
       "<li><a href=\"/ebooks/158\">Emma by Jane Austen (2125)</a></li>\n",
       "<li><a href=\"/ebooks/600\">Notes from the Underground by Fyodor Dostoyevsky (2116)</a></li>\n",
       "<li><a href=\"/ebooks/67098\">Winnie-the-Pooh by A. A.  Milne (2114)</a></li>\n",
       "<li><a href=\"/ebooks/23\">Narrative of the Life of Frederick Douglass, an American Slave by Frederick Douglass (2103)</a></li>\n",
       "<li><a href=\"/ebooks/8492\">The King in Yellow by Robert W.  Chambers (2071)</a></li>\n",
       "<li><a href=\"/ebooks/120\">Treasure Island by Robert Louis Stevenson (2057)</a></li>\n",
       "<li><a href=\"/ebooks/16328\">Beowulf: An Anglo-Saxon Epic Poem (2048)</a></li>\n",
       "<li><a href=\"/ebooks/42324\">Frankenstein; Or, The Modern Prometheus by Mary Wollstonecraft Shelley (2024)</a></li>\n",
       "<li><a href=\"/ebooks/161\">Sense and Sensibility by Jane Austen (2021)</a></li>\n",
       "<li><a href=\"/ebooks/3825\">Pygmalion by Bernard Shaw (2017)</a></li>\n",
       "<li><a href=\"/ebooks/33283\">Calculus Made Easy by Silvanus P.  Thompson (2015)</a></li>\n",
       "<li><a href=\"/ebooks/36034\">White Nights and Other Stories by Fyodor Dostoyevsky (1963)</a></li>\n",
       "<li><a href=\"/ebooks/15399\">The Interesting Narrative of the Life of Olaudah Equiano, Or Gustavus Vassa, The African by Equiano (1908)</a></li>\n",
       "<li><a href=\"/ebooks/73080\">Under the desert stars : by Frank Koester (1905)</a></li>\n",
       "<li><a href=\"/ebooks/16119\">Doctrina Christiana (1893)</a></li>\n",
       "<li><a href=\"/ebooks/10\">The King James Version of the Bible (1848)</a></li>\n",
       "<li><a href=\"/ebooks/73093\">Swedish fairy tales by Herman Hofberg (1834)</a></li>\n",
       "<li><a href=\"/ebooks/10007\">Carmilla by Joseph Sheridan Le Fanu (1812)</a></li>\n",
       "<li><a href=\"/ebooks/398\">The First Book of Adam and Eve by Rutherford Hayes Platt (1798)</a></li>\n",
       "<li><a href=\"/ebooks/35899\">The Philippines a Century Hence by José Rizal (1780)</a></li>\n",
       "<li><a href=\"/ebooks/41\">The Legend of Sleepy Hollow by Washington Irving (1773)</a></li>\n",
       "<li><a href=\"/ebooks/3296\">The Confessions of St. Augustine by Bishop of Hippo Saint Augustine (1762)</a></li>\n",
       "<li><a href=\"/ebooks/4217\">A Portrait of the Artist as a Young Man by James Joyce (1731)</a></li>\n",
       "<li><a href=\"/ebooks/20228\">Noli Me Tangere by José Rizal (1731)</a></li>\n",
       "<li><a href=\"/ebooks/11030\">Incidents in the Life of a Slave Girl, Written by Herself by Harriet A.  Jacobs (1719)</a></li>\n",
       "<li><a href=\"/ebooks/730\">Oliver Twist by Charles Dickens (1717)</a></li>\n",
       "<li><a href=\"/ebooks/73102\">The Shore Road mystery by Franklin W. Dixon (1714)</a></li>\n",
       "</ol>\n",
       "<div class=\"padded\">\n",
       "<ul>\n",
       "<li><a href=\"#books-last1\">Top 100 EBooks yesterday</a></li>\n",
       "<li><a href=\"#authors-last1\">Top 100 Authors yesterday</a></li>\n",
       "<li><a href=\"#books-last7\">Top 100 EBooks last 7 days</a></li>\n",
       "<li><a href=\"#authors-last7\">Top 100 Authors last 7 days</a></li>\n",
       "<li><a href=\"#books-last30\">Top 100 EBooks last 30 days</a></li>\n",
       "<li><a href=\"#authors-last30\">Top 100 Authors last 30 days</a></li>\n",
       "</ul>\n",
       "</div>\n",
       "<h2 id=\"authors-last7\">Top 100 Authors last 7 days</h2>\n",
       "<ol>\n",
       "<li><a href=\"/browse/authors/s#a65\">Shakespeare, William (40853)</a></li>\n",
       "<li><a href=\"/browse/authors/s#a61\">Shelley, Mary Wollstonecraft (30224)</a></li>\n",
       "<li><a href=\"/browse/authors/a#a68\">Austen, Jane (28514)</a></li>\n",
       "<li><a href=\"/browse/authors/s#a838\">Smollett, T. (Tobias) (26558)</a></li>\n",
       "<li><a href=\"/browse/authors/d#a37\">Dickens, Charles (25698)</a></li>\n",
       "<li><a href=\"/browse/authors/w#a111\">Wilde, Oscar (20217)</a></li>\n",
       "<li><a href=\"/browse/authors/t#a53\">Twain, Mark (19358)</a></li>\n",
       "<li><a href=\"/browse/authors/d#a314\">Dostoyevsky, Fyodor (18741)</a></li>\n",
       "<li><a href=\"/browse/authors/m#a9\">Melville, Herman (18340)</a></li>\n",
       "<li><a href=\"/browse/authors/d#a492\">Dumas, Alexandre (16321)</a></li>\n",
       "<li><a href=\"/browse/authors/g#a2858\">Garnett, Constance (16281)</a></li>\n",
       "<li><a href=\"/browse/authors/d#a69\">Doyle, Arthur Conan (15586)</a></li>\n",
       "<li><a href=\"/browse/authors/a#a102\">Alcott, Louisa May (15168)</a></li>\n",
       "<li><a href=\"/browse/authors/m#a36\">Montgomery, L. M. (Lucy Maud) (14632)</a></li>\n",
       "<li><a href=\"/browse/authors/m#a3930\">Maquet, Auguste (14032)</a></li>\n",
       "<li><a href=\"/browse/authors/e#a90\">Eliot, George (14012)</a></li>\n",
       "<li><a href=\"/browse/authors/c#a7\">Carroll, Lewis (12828)</a></li>\n",
       "<li><a href=\"/browse/authors/f#a975\">Forster, E. M. (Edward Morgan) (12590)</a></li>\n",
       "<li><a href=\"/browse/authors/s#a35\">Stevenson, Robert Louis (12002)</a></li>\n",
       "<li><a href=\"/browse/authors/n#a779\">Nietzsche, Friedrich Wilhelm (11266)</a></li>\n",
       "<li><a href=\"/browse/authors/m#a6202\">Merrill, Frank T. (10983)</a></li>\n",
       "<li><a href=\"/browse/authors/i#a861\">Ibsen, Henrik (10773)</a></li>\n",
       "<li><a href=\"/browse/authors/h#a705\">Homer (10638)</a></li>\n",
       "<li><a href=\"/browse/authors/g#a220\">Gaskell, Elizabeth Cleghorn (10406)</a></li>\n",
       "<li><a href=\"/browse/authors/r#a2183\">Rizal, José (10402)</a></li>\n",
       "<li><a href=\"/browse/authors/v#a603\">Von Arnim, Elizabeth (9829)</a></li>\n",
       "<li><a href=\"/browse/authors/f#a420\">Fitzgerald, F. Scott (Francis Scott) (9813)</a></li>\n",
       "<li><a href=\"/browse/authors/h#a28\">Hawthorne, Nathaniel (9665)</a></li>\n",
       "<li><a href=\"/browse/authors/t#a136\">Tolstoy, Leo, graf (9584)</a></li>\n",
       "<li><a href=\"/browse/authors/w#a30\">Wells, H. G. (Herbert George) (9521)</a></li>\n",
       "<li><a href=\"/browse/authors/p#a93\">Plato (9312)</a></li>\n",
       "<li><a href=\"/browse/authors/s#a326\">Swift, Jonathan (9290)</a></li>\n",
       "<li><a href=\"/browse/authors/f#a537\">Fielding, Henry (9082)</a></li>\n",
       "<li><a href=\"/browse/authors/b#a26815\">Brock, C. E. (Charles Edmund) (8908)</a></li>\n",
       "<li><a href=\"/browse/authors/j#a94\">Jowett, Benjamin (8691)</a></li>\n",
       "<li><a href=\"/browse/authors/w#a1325\">Wagner, Richard (8673)</a></li>\n",
       "<li><a href=\"/browse/authors/k#a1735\">Kafka, Franz (8274)</a></li>\n",
       "<li><a href=\"/browse/authors/c#a125\">Conrad, Joseph (7515)</a></li>\n",
       "<li><a href=\"/browse/authors/j#a1039\">Joyce, James (7475)</a></li>\n",
       "<li><a href=\"/browse/authors/p#a481\">Poe, Edgar Allan (7335)</a></li>\n",
       "<li><a href=\"/browse/authors/c#a505\">Cervantes Saavedra, Miguel de (7164)</a></li>\n",
       "<li><a href=\"/browse/authors/g#a27\">Gilman, Charlotte Perkins (7059)</a></li>\n",
       "<li><a href=\"/browse/authors/v#a60\">Verne, Jules (6945)</a></li>\n",
       "<li><a href=\"/browse/authors/d#a507\">Dante Alighieri (6890)</a></li>\n",
       "<li><a href=\"/browse/authors/w#a1736\">Wyllie, David (Translator) (6826)</a></li>\n",
       "<li><a href=\"/browse/authors/d#a1896\">Doré, Gustave (6760)</a></li>\n",
       "<li><a href=\"/browse/authors/t#a54\">Thoreau, Henry David (6578)</a></li>\n",
       "<li><a href=\"/browse/authors/b#a42\">Baum, L. Frank (Lyman Frank) (6475)</a></li>\n",
       "<li><a href=\"/browse/authors/s#a190\">Stoker, Bram (6254)</a></li>\n",
       "<li><a href=\"/browse/authors/w#a1961\">Widger, David (6091)</a></li>\n",
       "<li><a href=\"/browse/authors/r#a355\">Russell, Bertrand (5969)</a></li>\n",
       "<li><a href=\"/browse/authors/k#a132\">Kipling, Rudyard (5818)</a></li>\n",
       "<li><a href=\"/browse/authors/d#a226\">Du Bois, W. E. B. (William Edward Burghardt) (5779)</a></li>\n",
       "<li><a href=\"/browse/authors/c#a80\">Chesterton, G. K. (Gilbert Keith) (5726)</a></li>\n",
       "<li><a href=\"/browse/authors/l#a120\">London, Jack (5559)</a></li>\n",
       "<li><a href=\"/browse/authors/c#a451\">Christie, Agatha (5550)</a></li>\n",
       "<li><a href=\"/browse/authors/h#a85\">Hugo, Victor (5548)</a></li>\n",
       "<li><a href=\"/browse/authors/c#a708\">Chekhov, Anton Pavlovich (5441)</a></li>\n",
       "<li><a href=\"/browse/authors/p#a907\">Pope, Alexander (5367)</a></li>\n",
       "<li><a href=\"/browse/authors/s#a467\">Shaw, Bernard (5340)</a></li>\n",
       "<li><a href=\"/browse/authors/j#a113\">James, Henry (5336)</a></li>\n",
       "<li><a href=\"/browse/authors/b#a408\">Brontë, Charlotte (5267)</a></li>\n",
       "<li><a href=\"/browse/authors/l#a79\">Lang, Andrew (5098)</a></li>\n",
       "<li><a href=\"/browse/authors/b#a748\">Butler, Samuel (4939)</a></li>\n",
       "<li><a href=\"/browse/authors/m#a1355\">Morley, Henry (4889)</a></li>\n",
       "<li><a href=\"/browse/authors/m#a4589\">Maude, Aylmer (4845)</a></li>\n",
       "<li><a href=\"/browse/authors/g#a586\">Goethe, Johann Wolfgang von (4789)</a></li>\n",
       "<li><a href=\"/browse/authors/g#a972\">Grimm, Wilhelm (4774)</a></li>\n",
       "<li><a href=\"/browse/authors/g#a971\">Grimm, Jacob (4774)</a></li>\n",
       "<li><a href=\"/browse/authors/k#a37155\">Kemble, E. W. (Edward Windsor) (4763)</a></li>\n",
       "<li><a href=\"/browse/authors/d#a204\">Defoe, Daniel (4685)</a></li>\n",
       "<li><a href=\"/browse/authors/d#a4931\">Derbyshire, Charles E. (4668)</a></li>\n",
       "<li><a href=\"/browse/authors/f#a2703\">Foote, Mary Hallock (4623)</a></li>\n",
       "<li><a href=\"/browse/authors/a#a31267\">Anthony, A. V. S. (Andrew Varick Stout) (4578)</a></li>\n",
       "<li><a href=\"/browse/authors/i#a31265\">Ipsen, Ludvig Sandöe (4578)</a></li>\n",
       "<li><a href=\"/browse/authors/t#a9854\">Townsend, F. H. (Frederick Henry) (4576)</a></li>\n",
       "<li><a href=\"/browse/authors/m#a500\">Maude, Louise (4568)</a></li>\n",
       "<li><a href=\"/browse/authors/b#a898\">Burton, Richard Francis, Sir (4310)</a></li>\n",
       "<li><a href=\"/browse/authors/b#a48\">Burroughs, Edgar Rice (4213)</a></li>\n",
       "<li><a href=\"/browse/authors/r#a2297\">Robertson, James Alexander (4149)</a></li>\n",
       "<li><a href=\"/browse/authors/l#a2447\">Locke, John (4081)</a></li>\n",
       "<li><a href=\"/browse/authors/b#a251\">Balzac, Honoré de (4038)</a></li>\n",
       "<li><a href=\"/browse/authors/m#a563\">Machiavelli, Niccolò (3974)</a></li>\n",
       "<li><a href=\"/browse/authors/b#a10\">Barrie, J. M. (James Matthew) (3907)</a></li>\n",
       "<li><a href=\"/browse/authors/w#a104\">Wharton, Edith (3850)</a></li>\n",
       "<li><a href=\"/browse/authors/m#a730\">Milne, A. A. (Alan Alexander) (3846)</a></li>\n",
       "<li><a href=\"/browse/authors/b#a2296\">Blair, Emma Helen (3792)</a></li>\n",
       "<li><a href=\"/browse/authors/i#a34\">Irving, Washington (3792)</a></li>\n",
       "<li><a href=\"/browse/authors/k#a1426\">Kant, Immanuel (3748)</a></li>\n",
       "<li><a href=\"/browse/authors/s#a59\">Scott, Walter (3733)</a></li>\n",
       "<li><a href=\"/browse/authors/b#a25301\">Buckley, Theodore Alois (3645)</a></li>\n",
       "<li><a href=\"/browse/authors/l#a9473\">Leech, John (3641)</a></li>\n",
       "<li><a href=\"/browse/authors/b#a5446\">Bourne, Edward Gaylord (3611)</a></li>\n",
       "<li><a href=\"/browse/authors/b#a73\">Burnett, Frances Hodgson (3609)</a></li>\n",
       "<li><a href=\"/browse/authors/v#a913\">Voltaire (3590)</a></li>\n",
       "<li><a href=\"/browse/authors/m#a306\">Maupassant, Guy de (3565)</a></li>\n",
       "<li><a href=\"/browse/authors/l#a7862\">Levy, Oscar (3407)</a></li>\n",
       "<li><a href=\"/browse/authors/p#a292\">Potter, Beatrix (3377)</a></li>\n",
       "<li><a href=\"/browse/authors/m#a564\">Marriott, W. K. (William Kenaz) (3301)</a></li>\n",
       "<li><a href=\"/browse/authors/b#a206\">Bierce, Ambrose (3263)</a></li>\n",
       "</ol>\n",
       "<div class=\"padded\">\n",
       "<ul>\n",
       "<li><a href=\"#books-last1\">Top 100 EBooks yesterday</a></li>\n",
       "<li><a href=\"#authors-last1\">Top 100 Authors yesterday</a></li>\n",
       "<li><a href=\"#books-last7\">Top 100 EBooks last 7 days</a></li>\n",
       "<li><a href=\"#authors-last7\">Top 100 Authors last 7 days</a></li>\n",
       "<li><a href=\"#books-last30\">Top 100 EBooks last 30 days</a></li>\n",
       "<li><a href=\"#authors-last30\">Top 100 Authors last 30 days</a></li>\n",
       "</ul>\n",
       "</div>\n",
       "<h2 id=\"books-last30\">Top 100 EBooks last 30 days</h2>\n",
       "<ol>\n",
       "<li><a href=\"/ebooks/84\">Frankenstein; Or, The Modern Prometheus by Mary Wollstonecraft Shelley (104809)</a></li>\n",
       "<li><a href=\"/ebooks/1342\">Pride and Prejudice by Jane Austen (78103)</a></li>\n",
       "<li><a href=\"/ebooks/2701\">Moby Dick; Or, The Whale by Herman Melville (68617)</a></li>\n",
       "<li><a href=\"/ebooks/1513\">Romeo and Juliet by William Shakespeare (65500)</a></li>\n",
       "<li><a href=\"/ebooks/145\">Middlemarch by George Eliot (50027)</a></li>\n",
       "<li><a href=\"/ebooks/2641\">A Room with a View by E. M.  Forster (47687)</a></li>\n",
       "<li><a href=\"/ebooks/100\">The Complete Works of William Shakespeare by William Shakespeare (47432)</a></li>\n",
       "<li><a href=\"/ebooks/37106\">Little Women; Or, Meg, Jo, Beth, and Amy by Louisa May Alcott (46229)</a></li>\n",
       "<li><a href=\"/ebooks/67979\">The Blue Castle: a novel by L. M.  Montgomery (42148)</a></li>\n",
       "<li><a href=\"/ebooks/16389\">The Enchanted April by Elizabeth Von Arnim (42084)</a></li>\n",
       "<li><a href=\"/ebooks/6761\">The Adventures of Ferdinand Count Fathom — Complete by T.  Smollett (39108)</a></li>\n",
       "<li><a href=\"/ebooks/394\">Cranford by Elizabeth Cleghorn Gaskell (38786)</a></li>\n",
       "<li><a href=\"/ebooks/2160\">The Expedition of Humphry Clinker by T.  Smollett (38022)</a></li>\n",
       "<li><a href=\"/ebooks/4085\">The Adventures of Roderick Random by T.  Smollett (37865)</a></li>\n",
       "<li><a href=\"/ebooks/6593\">History of Tom Jones, a Foundling by Henry Fielding (37302)</a></li>\n",
       "<li><a href=\"/ebooks/1259\">Twenty years after by Alexandre Dumas and Auguste Maquet (36835)</a></li>\n",
       "<li><a href=\"/ebooks/5197\">My Life — Volume 1 by Richard Wagner (36595)</a></li>\n",
       "<li><a href=\"/ebooks/64317\">The Great Gatsby by F. Scott  Fitzgerald (35947)</a></li>\n",
       "<li><a href=\"/ebooks/11\">Alice's Adventures in Wonderland by Lewis Carroll (35086)</a></li>\n",
       "<li><a href=\"/ebooks/2542\">A Doll's House : a play by Henrik Ibsen (30365)</a></li>\n",
       "<li><a href=\"/ebooks/174\">The Picture of Dorian Gray by Oscar Wilde (30330)</a></li>\n",
       "<li><a href=\"/ebooks/1952\">The Yellow Wallpaper by Charlotte Perkins Gilman (28355)</a></li>\n",
       "<li><a href=\"/ebooks/844\">The Importance of Being Earnest: A Trivial Comedy for Serious People by Oscar Wilde (27284)</a></li>\n",
       "<li><a href=\"/ebooks/98\">A Tale of Two Cities by Charles Dickens (24787)</a></li>\n",
       "<li><a href=\"/ebooks/5200\">Metamorphosis by Franz Kafka (24537)</a></li>\n",
       "<li><a href=\"/ebooks/1080\">A Modest Proposal by Jonathan Swift (24079)</a></li>\n",
       "<li><a href=\"/ebooks/2554\">Crime and Punishment by Fyodor Dostoyevsky (23582)</a></li>\n",
       "<li><a href=\"/ebooks/345\">Dracula by Bram Stoker (22870)</a></li>\n",
       "<li><a href=\"/ebooks/25344\">The Scarlet Letter by Nathaniel Hawthorne (20918)</a></li>\n",
       "<li><a href=\"/ebooks/1400\">Great Expectations by Charles Dickens (19534)</a></li>\n",
       "<li><a href=\"/ebooks/43\">The Strange Case of Dr. Jekyll and Mr. Hyde by Robert Louis Stevenson (19445)</a></li>\n",
       "<li><a href=\"/ebooks/408\">The Souls of Black Folk by W. E. B.  Du Bois (19105)</a></li>\n",
       "<li><a href=\"/ebooks/1260\">Jane Eyre: An Autobiography by Charlotte Brontë (18740)</a></li>\n",
       "<li><a href=\"/ebooks/76\">Adventures of Huckleberry Finn by Mark Twain (18272)</a></li>\n",
       "<li><a href=\"/ebooks/1661\">The Adventures of Sherlock Holmes by Arthur Conan Doyle (16595)</a></li>\n",
       "<li><a href=\"/ebooks/28054\">The Brothers Karamazov by Fyodor Dostoyevsky (16536)</a></li>\n",
       "<li><a href=\"/ebooks/219\">Heart of Darkness by Joseph Conrad (16096)</a></li>\n",
       "<li><a href=\"/ebooks/6130\">The Iliad by Homer (15384)</a></li>\n",
       "<li><a href=\"/ebooks/1232\">The Prince by Niccolò Machiavelli (14902)</a></li>\n",
       "<li><a href=\"/ebooks/2591\">Grimms' Fairy Tales by Jacob Grimm and Wilhelm Grimm (14485)</a></li>\n",
       "<li><a href=\"/ebooks/1727\">The Odyssey by Homer (14424)</a></li>\n",
       "<li><a href=\"/ebooks/2600\">War and Peace by graf Leo Tolstoy (13615)</a></li>\n",
       "<li><a href=\"/ebooks/2000\">Don Quijote by Miguel de Cervantes Saavedra (13581)</a></li>\n",
       "<li><a href=\"/ebooks/4300\">Ulysses by James Joyce (13550)</a></li>\n",
       "<li><a href=\"/ebooks/205\">Walden, and On The Duty Of Civil Disobedience by Henry David Thoreau (13111)</a></li>\n",
       "<li><a href=\"/ebooks/3207\">Leviathan by Thomas Hobbes (12927)</a></li>\n",
       "<li><a href=\"/ebooks/46\">A Christmas Carol in Prose; Being a Ghost Story of Christmas by Charles Dickens (12866)</a></li>\n",
       "<li><a href=\"/ebooks/58585\">The Prophet by Kahlil Gibran (12641)</a></li>\n",
       "<li><a href=\"/ebooks/1998\">Thus Spake Zarathustra: A Book for All and None by Friedrich Wilhelm Nietzsche (12469)</a></li>\n",
       "<li><a href=\"/ebooks/768\">Wuthering Heights by Emily Brontë (12195)</a></li>\n",
       "<li><a href=\"/ebooks/5740\">Tractatus Logico-Philosophicus by Ludwig Wittgenstein (12068)</a></li>\n",
       "<li><a href=\"/ebooks/74\">The Adventures of Tom Sawyer, Complete by Mark Twain (11632)</a></li>\n",
       "<li><a href=\"/ebooks/7370\">Second Treatise of Government by John Locke (11572)</a></li>\n",
       "<li><a href=\"/ebooks/2814\">Dubliners by James Joyce (11383)</a></li>\n",
       "<li><a href=\"/ebooks/41445\">Frankenstein; Or, The Modern Prometheus by Mary Wollstonecraft Shelley (10847)</a></li>\n",
       "<li><a href=\"/ebooks/1497\">The Republic by Plato (10840)</a></li>\n",
       "<li><a href=\"/ebooks/1184\">The Count of Monte Cristo by Alexandre Dumas and Auguste Maquet (10824)</a></li>\n",
       "<li><a href=\"/ebooks/23\">Narrative of the Life of Frederick Douglass, an American Slave by Frederick Douglass (10816)</a></li>\n",
       "<li><a href=\"/ebooks/996\">Don Quixote by Miguel de Cervantes Saavedra (10462)</a></li>\n",
       "<li><a href=\"/ebooks/33283\">Calculus Made Easy by Silvanus P.  Thompson (10359)</a></li>\n",
       "<li><a href=\"/ebooks/30254\">The Romance of Lust: A classic Victorian erotic novel by Anonymous (10235)</a></li>\n",
       "<li><a href=\"/ebooks/45\">Anne of Green Gables by L. M.  Montgomery (10218)</a></li>\n",
       "<li><a href=\"/ebooks/514\">Little Women by Louisa May Alcott (10066)</a></li>\n",
       "<li><a href=\"/ebooks/16\">Peter Pan by J. M.  Barrie (9932)</a></li>\n",
       "<li><a href=\"/ebooks/4363\">Beyond Good and Evil by Friedrich Wilhelm Nietzsche (9795)</a></li>\n",
       "<li><a href=\"/ebooks/55\">The Wonderful Wizard of Oz by L. Frank  Baum (9787)</a></li>\n",
       "<li><a href=\"/ebooks/15399\">The Interesting Narrative of the Life of Olaudah Equiano, Or Gustavus Vassa, The African by Equiano (9773)</a></li>\n",
       "<li><a href=\"/ebooks/67098\">Winnie-the-Pooh by A. A.  Milne (9612)</a></li>\n",
       "<li><a href=\"/ebooks/36034\">White Nights and Other Stories by Fyodor Dostoyevsky (9495)</a></li>\n",
       "<li><a href=\"/ebooks/158\">Emma by Jane Austen (9446)</a></li>\n",
       "<li><a href=\"/ebooks/2680\">Meditations by Emperor of Rome Marcus Aurelius (9371)</a></li>\n",
       "<li><a href=\"/ebooks/8800\">The divine comedy by Dante Alighieri (9335)</a></li>\n",
       "<li><a href=\"/ebooks/42324\">Frankenstein; Or, The Modern Prometheus by Mary Wollstonecraft Shelley (9311)</a></li>\n",
       "<li><a href=\"/ebooks/16328\">Beowulf: An Anglo-Saxon Epic Poem (9270)</a></li>\n",
       "<li><a href=\"/ebooks/244\">A Study in Scarlet by Arthur Conan Doyle (9236)</a></li>\n",
       "<li><a href=\"/ebooks/600\">Notes from the Underground by Fyodor Dostoyevsky (9052)</a></li>\n",
       "<li><a href=\"/ebooks/27827\">The Kama Sutra of Vatsyayana by Vatsyayana (9003)</a></li>\n",
       "<li><a href=\"/ebooks/120\">Treasure Island by Robert Louis Stevenson (8953)</a></li>\n",
       "<li><a href=\"/ebooks/2852\">The Hound of the Baskervilles by Arthur Conan Doyle (8895)</a></li>\n",
       "<li><a href=\"/ebooks/36\">The War of the Worlds by H. G.  Wells (8865)</a></li>\n",
       "<li><a href=\"/ebooks/829\">Gulliver's Travels into Several Remote Nations of the World by Jonathan Swift (8734)</a></li>\n",
       "<li><a href=\"/ebooks/8492\">The King in Yellow by Robert W.  Chambers (8728)</a></li>\n",
       "<li><a href=\"/ebooks/161\">Sense and Sensibility by Jane Austen (8629)</a></li>\n",
       "<li><a href=\"/ebooks/10007\">Carmilla by Joseph Sheridan Le Fanu (8361)</a></li>\n",
       "<li><a href=\"/ebooks/16119\">Doctrina Christiana (8169)</a></li>\n",
       "<li><a href=\"/ebooks/10\">The King James Version of the Bible (8058)</a></li>\n",
       "<li><a href=\"/ebooks/5827\">The Problems of Philosophy by Bertrand Russell (8057)</a></li>\n",
       "<li><a href=\"/ebooks/3825\">Pygmalion by Bernard Shaw (8039)</a></li>\n",
       "<li><a href=\"/ebooks/35\">The Time Machine by H. G.  Wells (8007)</a></li>\n",
       "<li><a href=\"/ebooks/3296\">The Confessions of St. Augustine by Bishop of Hippo Saint Augustine (7861)</a></li>\n",
       "<li><a href=\"/ebooks/11030\">Incidents in the Life of a Slave Girl, Written by Herself by Harriet A.  Jacobs (7557)</a></li>\n",
       "<li><a href=\"/ebooks/19942\">Candide by Voltaire (7481)</a></li>\n",
       "<li><a href=\"/ebooks/1399\">Anna Karenina by graf Leo Tolstoy (7471)</a></li>\n",
       "<li><a href=\"/ebooks/41\">The Legend of Sleepy Hollow by Washington Irving (7309)</a></li>\n",
       "<li><a href=\"/ebooks/730\">Oliver Twist by Charles Dickens (7172)</a></li>\n",
       "<li><a href=\"/ebooks/521\">The Life and Adventures of Robinson Crusoe by Daniel Defoe (7066)</a></li>\n",
       "<li><a href=\"/ebooks/71\">On the Duty of Civil Disobedience by Henry David Thoreau (6989)</a></li>\n",
       "<li><a href=\"/ebooks/24869\">The Rámáyan of Válmíki, translated into English verse by Valmiki (6930)</a></li>\n",
       "<li><a href=\"/ebooks/4217\">A Portrait of the Artist as a Young Man by James Joyce (6734)</a></li>\n",
       "<li><a href=\"/ebooks/31552\">Novo dicionário da língua portuguesa by Cândido de Figueiredo (6691)</a></li>\n",
       "</ol>\n",
       "<div class=\"padded\">\n",
       "<ul>\n",
       "<li><a href=\"#books-last1\">Top 100 EBooks yesterday</a></li>\n",
       "<li><a href=\"#authors-last1\">Top 100 Authors yesterday</a></li>\n",
       "<li><a href=\"#books-last7\">Top 100 EBooks last 7 days</a></li>\n",
       "<li><a href=\"#authors-last7\">Top 100 Authors last 7 days</a></li>\n",
       "<li><a href=\"#books-last30\">Top 100 EBooks last 30 days</a></li>\n",
       "<li><a href=\"#authors-last30\">Top 100 Authors last 30 days</a></li>\n",
       "</ul>\n",
       "</div>\n",
       "<h2 id=\"authors-last30\">Top 100 Authors last 30 days</h2>\n",
       "<ol>\n",
       "<li><a href=\"/browse/authors/s#a65\">Shakespeare, William (177926)</a></li>\n",
       "<li><a href=\"/browse/authors/s#a61\">Shelley, Mary Wollstonecraft (129867)</a></li>\n",
       "<li><a href=\"/browse/authors/a#a68\">Austen, Jane (122559)</a></li>\n",
       "<li><a href=\"/browse/authors/s#a838\">Smollett, T. (Tobias) (117397)</a></li>\n",
       "<li><a href=\"/browse/authors/d#a37\">Dickens, Charles (108439)</a></li>\n",
       "<li><a href=\"/browse/authors/w#a111\">Wilde, Oscar (83652)</a></li>\n",
       "<li><a href=\"/browse/authors/t#a53\">Twain, Mark (83464)</a></li>\n",
       "<li><a href=\"/browse/authors/d#a314\">Dostoyevsky, Fyodor (81526)</a></li>\n",
       "<li><a href=\"/browse/authors/m#a9\">Melville, Herman (79890)</a></li>\n",
       "<li><a href=\"/browse/authors/d#a492\">Dumas, Alexandre (70722)</a></li>\n",
       "<li><a href=\"/browse/authors/g#a2858\">Garnett, Constance (69996)</a></li>\n",
       "<li><a href=\"/browse/authors/d#a69\">Doyle, Arthur Conan (66385)</a></li>\n",
       "<li><a href=\"/browse/authors/a#a102\">Alcott, Louisa May (66356)</a></li>\n",
       "<li><a href=\"/browse/authors/m#a36\">Montgomery, L. M. (Lucy Maud) (64837)</a></li>\n",
       "<li><a href=\"/browse/authors/m#a3930\">Maquet, Auguste (60863)</a></li>\n",
       "<li><a href=\"/browse/authors/e#a90\">Eliot, George (60210)</a></li>\n",
       "<li><a href=\"/browse/authors/f#a975\">Forster, E. M. (Edward Morgan) (56641)</a></li>\n",
       "<li><a href=\"/browse/authors/c#a7\">Carroll, Lewis (55131)</a></li>\n",
       "<li><a href=\"/browse/authors/s#a35\">Stevenson, Robert Louis (50378)</a></li>\n",
       "<li><a href=\"/browse/authors/n#a779\">Nietzsche, Friedrich Wilhelm (49833)</a></li>\n",
       "<li><a href=\"/browse/authors/m#a6202\">Merrill, Frank T. (49083)</a></li>\n",
       "<li><a href=\"/browse/authors/h#a705\">Homer (47195)</a></li>\n",
       "<li><a href=\"/browse/authors/g#a220\">Gaskell, Elizabeth Cleghorn (46639)</a></li>\n",
       "<li><a href=\"/browse/authors/v#a603\">Von Arnim, Elizabeth (44698)</a></li>\n",
       "<li><a href=\"/browse/authors/i#a861\">Ibsen, Henrik (43627)</a></li>\n",
       "<li><a href=\"/browse/authors/w#a30\">Wells, H. G. (Herbert George) (43145)</a></li>\n",
       "<li><a href=\"/browse/authors/p#a93\">Plato (42210)</a></li>\n",
       "<li><a href=\"/browse/authors/h#a28\">Hawthorne, Nathaniel (41701)</a></li>\n",
       "<li><a href=\"/browse/authors/t#a136\">Tolstoy, Leo, graf (41312)</a></li>\n",
       "<li><a href=\"/browse/authors/f#a420\">Fitzgerald, F. Scott (Francis Scott) (40542)</a></li>\n",
       "<li><a href=\"/browse/authors/f#a537\">Fielding, Henry (39724)</a></li>\n",
       "<li><a href=\"/browse/authors/s#a326\">Swift, Jonathan (39679)</a></li>\n",
       "<li><a href=\"/browse/authors/b#a26815\">Brock, C. E. (Charles Edmund) (39572)</a></li>\n",
       "<li><a href=\"/browse/authors/j#a94\">Jowett, Benjamin (39123)</a></li>\n",
       "<li><a href=\"/browse/authors/w#a1325\">Wagner, Richard (38567)</a></li>\n",
       "<li><a href=\"/browse/authors/r#a2183\">Rizal, José (37507)</a></li>\n",
       "<li><a href=\"/browse/authors/k#a1735\">Kafka, Franz (35718)</a></li>\n",
       "<li><a href=\"/browse/authors/p#a481\">Poe, Edgar Allan (33658)</a></li>\n",
       "<li><a href=\"/browse/authors/j#a1039\">Joyce, James (32449)</a></li>\n",
       "<li><a href=\"/browse/authors/g#a27\">Gilman, Charlotte Perkins (32127)</a></li>\n",
       "<li><a href=\"/browse/authors/c#a125\">Conrad, Joseph (31163)</a></li>\n",
       "<li><a href=\"/browse/authors/c#a505\">Cervantes Saavedra, Miguel de (31161)</a></li>\n",
       "<li><a href=\"/browse/authors/v#a60\">Verne, Jules (31030)</a></li>\n",
       "<li><a href=\"/browse/authors/d#a1896\">Doré, Gustave (29974)</a></li>\n",
       "<li><a href=\"/browse/authors/w#a1736\">Wyllie, David (Translator) (29636)</a></li>\n",
       "<li><a href=\"/browse/authors/w#a1961\">Widger, David (29476)</a></li>\n",
       "<li><a href=\"/browse/authors/r#a355\">Russell, Bertrand (29086)</a></li>\n",
       "<li><a href=\"/browse/authors/b#a42\">Baum, L. Frank (Lyman Frank) (28109)</a></li>\n",
       "<li><a href=\"/browse/authors/d#a507\">Dante Alighieri (27679)</a></li>\n",
       "<li><a href=\"/browse/authors/s#a190\">Stoker, Bram (26817)</a></li>\n",
       "<li><a href=\"/browse/authors/t#a54\">Thoreau, Henry David (25916)</a></li>\n",
       "<li><a href=\"/browse/authors/j#a113\">James, Henry (25429)</a></li>\n",
       "<li><a href=\"/browse/authors/c#a80\">Chesterton, G. K. (Gilbert Keith) (25359)</a></li>\n",
       "<li><a href=\"/browse/authors/k#a132\">Kipling, Rudyard (25210)</a></li>\n",
       "<li><a href=\"/browse/authors/h#a85\">Hugo, Victor (24962)</a></li>\n",
       "<li><a href=\"/browse/authors/c#a708\">Chekhov, Anton Pavlovich (24933)</a></li>\n",
       "<li><a href=\"/browse/authors/c#a451\">Christie, Agatha (24238)</a></li>\n",
       "<li><a href=\"/browse/authors/l#a120\">London, Jack (24211)</a></li>\n",
       "<li><a href=\"/browse/authors/d#a226\">Du Bois, W. E. B. (William Edward Burghardt) (24206)</a></li>\n",
       "<li><a href=\"/browse/authors/p#a907\">Pope, Alexander (24009)</a></li>\n",
       "<li><a href=\"/browse/authors/b#a408\">Brontë, Charlotte (22992)</a></li>\n",
       "<li><a href=\"/browse/authors/l#a79\">Lang, Andrew (22646)</a></li>\n",
       "<li><a href=\"/browse/authors/s#a467\">Shaw, Bernard (21566)</a></li>\n",
       "<li><a href=\"/browse/authors/g#a586\">Goethe, Johann Wolfgang von (21453)</a></li>\n",
       "<li><a href=\"/browse/authors/b#a748\">Butler, Samuel (21436)</a></li>\n",
       "<li><a href=\"/browse/authors/f#a2703\">Foote, Mary Hallock (21145)</a></li>\n",
       "<li><a href=\"/browse/authors/g#a972\">Grimm, Wilhelm (20951)</a></li>\n",
       "<li><a href=\"/browse/authors/g#a971\">Grimm, Jacob (20951)</a></li>\n",
       "<li><a href=\"/browse/authors/i#a31265\">Ipsen, Ludvig Sandöe (20918)</a></li>\n",
       "<li><a href=\"/browse/authors/a#a31267\">Anthony, A. V. S. (Andrew Varick Stout) (20918)</a></li>\n",
       "<li><a href=\"/browse/authors/m#a4589\">Maude, Aylmer (20038)</a></li>\n",
       "<li><a href=\"/browse/authors/d#a204\">Defoe, Daniel (19951)</a></li>\n",
       "<li><a href=\"/browse/authors/t#a9854\">Townsend, F. H. (Frederick Henry) (19829)</a></li>\n",
       "<li><a href=\"/browse/authors/b#a48\">Burroughs, Edgar Rice (19518)</a></li>\n",
       "<li><a href=\"/browse/authors/k#a37155\">Kemble, E. W. (Edward Windsor) (19334)</a></li>\n",
       "<li><a href=\"/browse/authors/m#a1355\">Morley, Henry (19002)</a></li>\n",
       "<li><a href=\"/browse/authors/m#a730\">Milne, A. A. (Alan Alexander) (18902)</a></li>\n",
       "<li><a href=\"/browse/authors/m#a500\">Maude, Louise (18796)</a></li>\n",
       "<li><a href=\"/browse/authors/b#a251\">Balzac, Honoré de (18196)</a></li>\n",
       "<li><a href=\"/browse/authors/b#a898\">Burton, Richard Francis, Sir (17699)</a></li>\n",
       "<li><a href=\"/browse/authors/m#a563\">Machiavelli, Niccolò (17693)</a></li>\n",
       "<li><a href=\"/browse/authors/l#a2447\">Locke, John (17437)</a></li>\n",
       "<li><a href=\"/browse/authors/b#a10\">Barrie, J. M. (James Matthew) (17353)</a></li>\n",
       "<li><a href=\"/browse/authors/s#a59\">Scott, Walter (17255)</a></li>\n",
       "<li><a href=\"/browse/authors/v#a913\">Voltaire (16282)</a></li>\n",
       "<li><a href=\"/browse/authors/b#a25301\">Buckley, Theodore Alois (16256)</a></li>\n",
       "<li><a href=\"/browse/authors/k#a1426\">Kant, Immanuel (16225)</a></li>\n",
       "<li><a href=\"/browse/authors/w#a104\">Wharton, Edith (16196)</a></li>\n",
       "<li><a href=\"/browse/authors/l#a9473\">Leech, John (15961)</a></li>\n",
       "<li><a href=\"/browse/authors/m#a306\">Maupassant, Guy de (15710)</a></li>\n",
       "<li><a href=\"/browse/authors/w#a783\">Wodehouse, P. G. (Pelham Grenville) (15653)</a></li>\n",
       "<li><a href=\"/browse/authors/i#a34\">Irving, Washington (15336)</a></li>\n",
       "<li><a href=\"/browse/authors/d#a4931\">Derbyshire, Charles E. (15314)</a></li>\n",
       "<li><a href=\"/browse/authors/l#a7862\">Levy, Oscar (15217)</a></li>\n",
       "<li><a href=\"/browse/authors/b#a73\">Burnett, Frances Hodgson (15046)</a></li>\n",
       "<li><a href=\"/browse/authors/m#a564\">Marriott, W. K. (William Kenaz) (15032)</a></li>\n",
       "<li><a href=\"/browse/authors/b#a206\">Bierce, Ambrose (14994)</a></li>\n",
       "<li><a href=\"/browse/authors/r#a2297\">Robertson, James Alexander (14881)</a></li>\n",
       "<li><a href=\"/browse/authors/o#a506\">Ormsby, John (14805)</a></li>\n",
       "<li><a href=\"/browse/authors/s#a54114\">Shepard, Ernest H. (Ernest Howard) (14293)</a></li>\n",
       "</ol>\n",
       "<div class=\"padded\">\n",
       "<ul>\n",
       "<li><a href=\"#books-last1\">Top 100 EBooks yesterday</a></li>\n",
       "<li><a href=\"#authors-last1\">Top 100 Authors yesterday</a></li>\n",
       "<li><a href=\"#books-last7\">Top 100 EBooks last 7 days</a></li>\n",
       "<li><a href=\"#authors-last7\">Top 100 Authors last 7 days</a></li>\n",
       "<li><a href=\"#books-last30\">Top 100 EBooks last 30 days</a></li>\n",
       "<li><a href=\"#authors-last30\">Top 100 Authors last 30 days</a></li>\n",
       "</ul>\n",
       "</div>\n",
       "</div><!--content ending-->\n",
       "</div>\n",
       "<div class=\"footer\"><!-- start footer --> <ul>\n",
       "<li>\n",
       "<a href=\"/policy/privacy_policy.html\" title=\"Privacy Policy\">Privacy policy</a>\n",
       "</li>\n",
       "<li>\n",
       "<a href=\"/about/\" title=\"About Project Gutenberg\">About Project Gutenberg</a>\n",
       "</li>\n",
       "<li>\n",
       "<a href=\"/policy/terms_of_use.html\" title=\"Terms of Use\">Terms of Use</a>\n",
       "</li>\n",
       "<li>\n",
       "<a href=\"/about/contact_information.html\" title=\"Contact Information\">Contact Information</a>\n",
       "</li>\n",
       "<li><a href=\"/help/\" title=\"Get Help\">Get Help</a></li>\n",
       "</ul>\n",
       "<a href=\"https://www.ibiblio.org/\" title=\"Project Gutenberg is hosted by ibiblio\">\n",
       "<img alt=\"iBiblio\" src=\"/gutenberg/ibiblio-logo.png\"/>\n",
       "</a>\n",
       "</div><!-- footer ending-->\n",
       "<!-- body ending -->\n",
       "</body>\n",
       "</html>"
      ]
     },
     "execution_count": 138,
     "metadata": {},
     "output_type": "execute_result"
    }
   ],
   "source": [
    "soup"
   ]
  },
  {
   "cell_type": "markdown",
   "id": "606d96f1",
   "metadata": {},
   "source": [
    "A link looks like this\n",
    "\n",
    "```\n",
    "<a href=\"/ebooks/4300\">Ulysses by James Joyce (434)</a>\n",
    "````\n",
    "\n",
    "Find all of the links.  Extract the book idx (4300, in this case) and the title from the link.\n",
    "\n",
    "Use the structure in the parsed html (the `soup` instance).,"
   ]
  },
  {
   "cell_type": "code",
   "execution_count": 143,
   "id": "b943b3de",
   "metadata": {},
   "outputs": [
    {
     "name": "stdout",
     "output_type": "stream",
     "text": [
      "115 book indices found.\n"
     ]
    },
    {
     "data": {
      "text/plain": [
       "['521',\n",
       " '2160',\n",
       " '2600',\n",
       " '4300',\n",
       " '20228',\n",
       " '16119',\n",
       " '24869',\n",
       " '76',\n",
       " '10007',\n",
       " '8800']"
      ]
     },
     "execution_count": 143,
     "metadata": {},
     "output_type": "execute_result"
    }
   ],
   "source": [
    "import re\n",
    "\n",
    "#  All links are inside the tag <a ... >\n",
    "links = soup.find_all('a')\n",
    "\n",
    "# We're restricting our harvest to links whose hrefs start with this string (links to book pages)\n",
    "path_re = \"/ebooks/(\\d+)\"\n",
    "reg_exp = re.compile(path_re)\n",
    "\n",
    "## Containers for collected data\n",
    "idxs = []\n",
    "# Let's grab the book titles too (cause we're humans. and like names instead of numbers)\n",
    "titles = dict()\n",
    "\n",
    "#  Do the collecting\n",
    "for link in links:\n",
    "    # Get the ref string from inside the link instance\n",
    "    ref = link.get(\"href\")\n",
    "    match = reg_exp.findall(ref)\n",
    "    if match:\n",
    "        # findall returns a list.  If there's a match, there will be only one idx\n",
    "        idx = match[0]\n",
    "        idxs.append(idx)\n",
    "        titles[idx]  = link.get_text()\n",
    "\n",
    "# There is more than one top 100 list on the page. They have duplicates.  Remove them\n",
    "idxs = list(set(idxs))\n",
    "print(f\"{len(idxs)} book indices found.\")\n",
    "idxs[:10]"
   ]
  },
  {
   "cell_type": "code",
   "execution_count": 61,
   "id": "5515d859",
   "metadata": {},
   "outputs": [
    {
     "data": {
      "text/plain": [
       "{'84': 'Frankenstein; Or, The Modern Prometheus by Mary Wollstonecraft Shelley (104809)',\n",
       " '1342': 'Pride and Prejudice by Jane Austen (78103)',\n",
       " '2701': 'Moby Dick; Or, The Whale by Herman Melville (68617)',\n",
       " '1513': 'Romeo and Juliet by William Shakespeare (65500)',\n",
       " '145': 'Middlemarch by George Eliot (50027)',\n",
       " '100': 'The Complete Works of William Shakespeare by William Shakespeare (47432)',\n",
       " '2641': 'A Room with a View by E. M.  Forster (47687)',\n",
       " '37106': 'Little Women; Or, Meg, Jo, Beth, and Amy by Louisa May Alcott (46229)',\n",
       " '64317': 'The Great Gatsby by F. Scott  Fitzgerald (35947)',\n",
       " '67979': 'The Blue Castle: a novel by L. M.  Montgomery (42148)',\n",
       " '16389': 'The Enchanted April by Elizabeth Von Arnim (42084)',\n",
       " '6761': 'The Adventures of Ferdinand Count Fathom — Complete by T.  Smollett (39108)',\n",
       " '394': 'Cranford by Elizabeth Cleghorn Gaskell (38786)',\n",
       " '2160': 'The Expedition of Humphry Clinker by T.  Smollett (38022)',\n",
       " '11': \"Alice's Adventures in Wonderland by Lewis Carroll (35086)\",\n",
       " '2542': \"A Doll's House : a play by Henrik Ibsen (30365)\",\n",
       " '4085': 'The Adventures of Roderick Random by T.  Smollett (37865)',\n",
       " '6593': 'History of Tom Jones, a Foundling by Henry Fielding (37302)',\n",
       " '1259': 'Twenty years after by Alexandre Dumas and Auguste Maquet (36835)',\n",
       " '174': 'The Picture of Dorian Gray by Oscar Wilde (30330)',\n",
       " '844': 'The Importance of Being Earnest: A Trivial Comedy for Serious People by Oscar Wilde (27284)',\n",
       " '5197': 'My Life — Volume 1 by Richard Wagner (36595)',\n",
       " '73115': 'The house of bondage by Reginald Wright Kauffman (1088)',\n",
       " '1952': 'The Yellow Wallpaper by Charlotte Perkins Gilman (28355)',\n",
       " '98': 'A Tale of Two Cities by Charles Dickens (24787)',\n",
       " '5200': 'Metamorphosis by Franz Kafka (24537)',\n",
       " '71': 'On the Duty of Civil Disobedience by Henry David Thoreau (6989)',\n",
       " '2554': 'Crime and Punishment by Fyodor Dostoyevsky (23582)',\n",
       " '345': 'Dracula by Bram Stoker (22870)',\n",
       " '1080': 'A Modest Proposal by Jonathan Swift (24079)',\n",
       " '73116': 'A way of life : by Sir William Osler (788)',\n",
       " '1400': 'Great Expectations by Charles Dickens (19534)',\n",
       " '76': 'Adventures of Huckleberry Finn by Mark Twain (18272)',\n",
       " '43': 'The Strange Case of Dr. Jekyll and Mr. Hyde by Robert Louis Stevenson (19445)',\n",
       " '25344': 'The Scarlet Letter by Nathaniel Hawthorne (20918)',\n",
       " '1260': 'Jane Eyre: An Autobiography by Charlotte Brontë (18740)',\n",
       " '408': 'The Souls of Black Folk by W. E. B.  Du Bois (19105)',\n",
       " '41128': 'The Kādambarī of Bāṇa by Bāṇa\\u200f and Bhūṣaṇabhaṭṭa (646)',\n",
       " '1661': 'The Adventures of Sherlock Holmes by Arthur Conan Doyle (16595)',\n",
       " '219': 'Heart of Darkness by Joseph Conrad (16096)',\n",
       " '2591': \"Grimms' Fairy Tales by Jacob Grimm and Wilhelm Grimm (14485)\",\n",
       " '28054': 'The Brothers Karamazov by Fyodor Dostoyevsky (16536)',\n",
       " '2600': 'War and Peace by graf Leo Tolstoy (13615)',\n",
       " '6130': 'The Iliad by Homer (15384)',\n",
       " '2000': 'Don Quijote by Miguel de Cervantes Saavedra (13581)',\n",
       " '1232': 'The Prince by Niccolò Machiavelli (14902)',\n",
       " '768': 'Wuthering Heights by Emily Brontë (12195)',\n",
       " '73117': 'Names and places in the Old and New Testament and Apocrypha, with their modern identifications (452)',\n",
       " '41445': 'Frankenstein; Or, The Modern Prometheus by Mary Wollstonecraft Shelley (10847)',\n",
       " '514': 'Little Women by Louisa May Alcott (10066)',\n",
       " '1727': 'The Odyssey by Homer (14424)',\n",
       " '5740': 'Tractatus Logico-Philosophicus by Ludwig Wittgenstein (12068)',\n",
       " '4300': 'Ulysses by James Joyce (13550)',\n",
       " '46': 'A Christmas Carol in Prose; Being a Ghost Story of Christmas by Charles Dickens (12866)',\n",
       " '1497': 'The Republic by Plato (10840)',\n",
       " '205': 'Walden, and On The Duty Of Civil Disobedience by Henry David Thoreau (13111)',\n",
       " '1184': 'The Count of Monte Cristo by Alexandre Dumas and Auguste Maquet (10824)',\n",
       " '3207': 'Leviathan by Thomas Hobbes (12927)',\n",
       " '1998': 'Thus Spake Zarathustra: A Book for All and None by Friedrich Wilhelm Nietzsche (12469)',\n",
       " '7370': 'Second Treatise of Government by John Locke (11572)',\n",
       " '829': \"Gulliver's Travels into Several Remote Nations of the World by Jonathan Swift (8734)\",\n",
       " '45': 'Anne of Green Gables by L. M.  Montgomery (10218)',\n",
       " '30254': 'The Romance of Lust: A classic Victorian erotic novel by Anonymous (10235)',\n",
       " '16': 'Peter Pan by J. M.  Barrie (9932)',\n",
       " '2680': 'Meditations by Emperor of Rome Marcus Aurelius (9371)',\n",
       " '996': 'Don Quixote by Miguel de Cervantes Saavedra (10462)',\n",
       " '2852': 'The Hound of the Baskervilles by Arthur Conan Doyle (8895)',\n",
       " '3201': 'Moby Word Lists by Grady Ward (355)',\n",
       " '8800': 'The divine comedy by Dante Alighieri (9335)',\n",
       " '23': 'Narrative of the Life of Frederick Douglass, an American Slave by Frederick Douglass (10816)',\n",
       " '42324': 'Frankenstein; Or, The Modern Prometheus by Mary Wollstonecraft Shelley (9311)',\n",
       " '2814': 'Dubliners by James Joyce (11383)',\n",
       " '36': 'The War of the Worlds by H. G.  Wells (8865)',\n",
       " '58585': 'The Prophet by Kahlil Gibran (12641)',\n",
       " '3825': 'Pygmalion by Bernard Shaw (8039)',\n",
       " '600': 'Notes from the Underground by Fyodor Dostoyevsky (9052)',\n",
       " '244': 'A Study in Scarlet by Arthur Conan Doyle (9236)',\n",
       " '4363': 'Beyond Good and Evil by Friedrich Wilhelm Nietzsche (9795)',\n",
       " '74': 'The Adventures of Tom Sawyer, Complete by Mark Twain (11632)',\n",
       " '67098': 'Winnie-the-Pooh by A. A.  Milne (9612)',\n",
       " '8492': 'The King in Yellow by Robert W.  Chambers (8728)',\n",
       " '158': 'Emma by Jane Austen (9446)',\n",
       " '55': 'The Wonderful Wizard of Oz by L. Frank  Baum (9787)',\n",
       " '16328': 'Beowulf: An Anglo-Saxon Epic Poem (9270)',\n",
       " '161': 'Sense and Sensibility by Jane Austen (8629)',\n",
       " '120': 'Treasure Island by Robert Louis Stevenson (8953)',\n",
       " '15399': 'The Interesting Narrative of the Life of Olaudah Equiano, Or Gustavus Vassa, The African by Equiano (9773)',\n",
       " '10007': 'Carmilla by Joseph Sheridan Le Fanu (8361)',\n",
       " '10': 'The King James Version of the Bible (8058)',\n",
       " '16119': 'Doctrina Christiana (8169)',\n",
       " '11030': 'Incidents in the Life of a Slave Girl, Written by Herself by Harriet A.  Jacobs (7557)',\n",
       " '41': 'The Legend of Sleepy Hollow by Washington Irving (7309)',\n",
       " '35': 'The Time Machine by H. G.  Wells (8007)',\n",
       " '1250': 'Anthem by Ayn Rand (272)',\n",
       " '10623': 'Plays by Susan Glaspell (266)',\n",
       " '33283': 'Calculus Made Easy by Silvanus P.  Thompson (10359)',\n",
       " '20228': 'Noli Me Tangere by José Rizal (1731)',\n",
       " '27827': 'The Kama Sutra of Vatsyayana by Vatsyayana (9003)',\n",
       " '36034': 'White Nights and Other Stories by Fyodor Dostoyevsky (9495)',\n",
       " '10676': 'The Reign of Greed by José Rizal (254)',\n",
       " '41680': 'Civil War and Reconstruction in Alabama by Walter L.  Fleming (2198)',\n",
       " '73080': 'Under the desert stars : by Frank Koester (1905)',\n",
       " '73093': 'Swedish fairy tales by Herman Hofberg (1834)',\n",
       " '398': 'The First Book of Adam and Eve by Rutherford Hayes Platt (1798)',\n",
       " '35899': 'The Philippines a Century Hence by José Rizal (1780)',\n",
       " '3296': 'The Confessions of St. Augustine by Bishop of Hippo Saint Augustine (7861)',\n",
       " '4217': 'A Portrait of the Artist as a Young Man by James Joyce (6734)',\n",
       " '730': 'Oliver Twist by Charles Dickens (7172)',\n",
       " '73102': 'The Shore Road mystery by Franklin W. Dixon (1714)',\n",
       " '5827': 'The Problems of Philosophy by Bertrand Russell (8057)',\n",
       " '19942': 'Candide by Voltaire (7481)',\n",
       " '1399': 'Anna Karenina by graf Leo Tolstoy (7471)',\n",
       " '521': 'The Life and Adventures of Robinson Crusoe by Daniel Defoe (7066)',\n",
       " '24869': 'The Rámáyan of Válmíki, translated into English verse by Valmiki (6930)',\n",
       " '31552': 'Novo dicionário da língua portuguesa by Cândido de Figueiredo (6691)'}"
      ]
     },
     "execution_count": 61,
     "metadata": {},
     "output_type": "execute_result"
    }
   ],
   "source": [
    "titles"
   ]
  },
  {
   "cell_type": "markdown",
   "id": "f785d129",
   "metadata": {},
   "source": [
    "For you possibly puzzled Tolstoy fans, {\\em graf} is Russian for Count.  Although the link\n",
    "takes you to the Constance Garnett translation, teh metadata lists the author as \"graf Leo Tolstoy\".\n",
    "I don't know why."
   ]
  },
  {
   "cell_type": "markdown",
   "id": "71ce877b",
   "metadata": {},
   "source": [
    "##  Get the data"
   ]
  },
  {
   "cell_type": "markdown",
   "id": "cd74be8d",
   "metadata": {},
   "source": [
    "We have the **indexes** for teh books we want.  Now download the data using `get_book` (defined\n",
    "in teh first section)."
   ]
  },
  {
   "cell_type": "code",
   "execution_count": 167,
   "id": "bd150f18",
   "metadata": {
    "scrolled": true
   },
   "outputs": [
    {
     "name": "stdout",
     "output_type": "stream",
     "text": [
      "Getting 20 books\n",
      "0 read!\n",
      "1 read!\n",
      "2 read!\n",
      "3 read!\n",
      "4 read!\n",
      "5 read!\n",
      "6 read!\n",
      "7 read!\n",
      "8 read!\n",
      "9 read!\n",
      "10 read!\n",
      "11 read!\n",
      "12 read!\n",
      "13 read!\n",
      "14 read!\n",
      "15 read!\n",
      "16 read!\n",
      "17 read!\n",
      "18 read!\n",
      "19 read!\n"
     ]
    }
   ],
   "source": [
    "import time\n",
    "\n",
    "books = []\n",
    "errs = []\n",
    "\n",
    "# Implement delay between downloads to be NICE to host website\n",
    "delay = 5\n",
    "num_samples = 20\n",
    "\n",
    "print(f\"Getting {num_samples} books\")\n",
    "for (i,idx) in enumerate(idxs[:num_samples]):\n",
    "    try:  #  There do seem to be missing books\n",
    "       books.append(get_book(idx))\n",
    "       print(f\"{i} read!\")\n",
    "       time.sleep(delay)\n",
    "    except urllib.request.HTTPError:\n",
    "        print(f\"Err {i}\")\n",
    "        errs.append(idx)"
   ]
  },
  {
   "cell_type": "markdown",
   "id": "fd420919",
   "metadata": {},
   "source": [
    "The books that have been moved or removed (when downloading all 115 books):"
   ]
  },
  {
   "cell_type": "code",
   "execution_count": 62,
   "id": "8e3881c2",
   "metadata": {},
   "outputs": [
    {
     "name": "stdout",
     "output_type": "stream",
     "text": [
      "Calculus Made Easy by Silvanus P.  Thompson (10359)\n",
      "Moby Word Lists by Grady Ward (355)\n",
      "Tractatus Logico-Philosophicus by Ludwig Wittgenstein (12068)\n"
     ]
    }
   ],
   "source": [
    "for idx in errs:\n",
    "    print(titles[idx])"
   ]
  },
  {
   "cell_type": "markdown",
   "id": "b3d0c039",
   "metadata": {},
   "source": [
    "## Cleanup\n",
    "\n",
    "Remove Gutenberg.org identifying front matter"
   ]
  },
  {
   "cell_type": "code",
   "execution_count": 168,
   "id": "e0d6bb68",
   "metadata": {},
   "outputs": [],
   "source": [
    "tag_str = \"*** START OF THE PROJECT GUTENBERG EBOOK\"\n",
    "def get_tag_str_line_no (line_list, strict=False):\n",
    "    for (i,l) in enumerate(line_list):\n",
    "        if l.startswith(tag_str):\n",
    "            return i\n",
    "    if strict:\n",
    "        raise Exception(\"No luck!\")\n",
    "    else:\n",
    "        return -1\n",
    "        \n",
    "def clean_book (book_str,strict=False):\n",
    "    lines = book_str.splitlines()\n",
    "    return '\\n'.join(lines[get_tag_str_line_no(lines,strict=strict)+1:])"
   ]
  },
  {
   "cell_type": "code",
   "execution_count": 169,
   "id": "9e47c80c",
   "metadata": {},
   "outputs": [
    {
     "name": "stdout",
     "output_type": "stream",
     "text": [
      "Cleaning 20 books\n",
      "20\n"
     ]
    }
   ],
   "source": [
    "cleaned_books = []\n",
    "\n",
    "#  Return with Exception if cleaning fails\n",
    "strict = True\n",
    "print(f\"Cleaning {len(books)} books\")\n",
    "for (i,book_str) in enumerate(books):\n",
    "    try:\n",
    "       cleaned_books.append(clean_book (book_str,strict=strict))\n",
    "    except Exception:\n",
    "        print(f\"Err {i}\")\n",
    "        continue\n",
    "\n",
    "print(len(cleaned_books))"
   ]
  },
  {
   "cell_type": "markdown",
   "id": "e71c7afb",
   "metadata": {},
   "source": [
    "Save space."
   ]
  },
  {
   "cell_type": "code",
   "execution_count": 170,
   "id": "72bf45a4",
   "metadata": {},
   "outputs": [],
   "source": [
    "books = cleaned_books"
   ]
  },
  {
   "cell_type": "markdown",
   "id": "c3ff075c",
   "metadata": {},
   "source": [
    "## English letter frequencies\n",
    "\n",
    "We illustrate some simple statistics tracking with text."
   ]
  },
  {
   "cell_type": "code",
   "execution_count": 171,
   "id": "1948d802",
   "metadata": {},
   "outputs": [],
   "source": [
    "from collections import Counter\n",
    "\n",
    "ltr_ctr = Counter()\n",
    "\n",
    "for book in books:\n",
    "    ltr_ctr.update(book)"
   ]
  },
  {
   "cell_type": "code",
   "execution_count": 172,
   "id": "1cef7679",
   "metadata": {},
   "outputs": [
    {
     "data": {
      "text/plain": [
       "[(' ', 3438463),\n",
       " ('e', 1606643),\n",
       " ('a', 1218392),\n",
       " ('t', 1163350),\n",
       " ('n', 1018244),\n",
       " ('o', 1007464),\n",
       " ('i', 895359),\n",
       " ('h', 861382),\n",
       " ('s', 852186),\n",
       " ('r', 767826)]"
      ]
     },
     "execution_count": 172,
     "metadata": {},
     "output_type": "execute_result"
    }
   ],
   "source": [
    "ltr_ctr.most_common(10)"
   ]
  },
  {
   "cell_type": "markdown",
   "id": "7bda7d42",
   "metadata": {},
   "source": [
    "Removing white space:"
   ]
  },
  {
   "cell_type": "code",
   "execution_count": 91,
   "id": "ac0b61a5",
   "metadata": {},
   "outputs": [],
   "source": [
    "ltr_ctr2 = Counter()\n",
    "\n",
    "for book in books:\n",
    "    ltr_ctr2.update(''.join(book.split()))"
   ]
  },
  {
   "cell_type": "code",
   "execution_count": 93,
   "id": "790eecc6",
   "metadata": {},
   "outputs": [
    {
     "data": {
      "text/plain": [
       "[('e', 1606643),\n",
       " ('a', 1218392),\n",
       " ('t', 1163350),\n",
       " ('n', 1018244),\n",
       " ('o', 1007464),\n",
       " ('i', 895359),\n",
       " ('h', 861382),\n",
       " ('s', 852186),\n",
       " ('r', 767826),\n",
       " ('d', 590909)]"
      ]
     },
     "execution_count": 93,
     "metadata": {},
     "output_type": "execute_result"
    }
   ],
   "source": [
    "ltr_ctr2.most_common(10)"
   ]
  },
  {
   "cell_type": "markdown",
   "id": "9efbe7be",
   "metadata": {},
   "source": [
    "## English letter digraph frequencies"
   ]
  },
  {
   "cell_type": "code",
   "execution_count": 118,
   "id": "534300a5",
   "metadata": {},
   "outputs": [],
   "source": [
    "from nltk import bigrams\n",
    "\n",
    "ltr_digraph_ctr = Counter()\n",
    "\n",
    "for book in books:\n",
    "    ltr_digraph_ctr.update(bigrams(''.join(book.split())))"
   ]
  },
  {
   "cell_type": "code",
   "execution_count": 119,
   "id": "c5ca0bb1",
   "metadata": {
    "scrolled": true
   },
   "outputs": [
    {
     "data": {
      "text/plain": [
       "[(('t', 'h'), 396986),\n",
       " (('h', 'e'), 371264),\n",
       " (('a', 'n'), 268701),\n",
       " (('i', 'n'), 250742),\n",
       " (('e', 'r'), 219100),\n",
       " (('n', 'd'), 183155),\n",
       " (('r', 'e'), 174384),\n",
       " (('n', 'g'), 159345),\n",
       " (('a', 't'), 148314),\n",
       " (('e', 'd'), 148178)]"
      ]
     },
     "execution_count": 119,
     "metadata": {},
     "output_type": "execute_result"
    }
   ],
   "source": [
    "ltr_digraph_ctr.most_common(10)"
   ]
  },
  {
   "cell_type": "markdown",
   "id": "d5d77752",
   "metadata": {},
   "source": [
    "Criticism:  This technique creates spurious letter bigrams:\n",
    "\n",
    "```\n",
    "of the\n",
    "```\n",
    "\n",
    "becomes\n",
    "\n",
    "```\n",
    "ofthe\n",
    "```\n",
    "\n",
    "creating the unlikely digraph \"ft\".  And sure enough:"
   ]
  },
  {
   "cell_type": "code",
   "execution_count": 108,
   "id": "ade170b4",
   "metadata": {
    "scrolled": true
   },
   "outputs": [
    {
     "data": {
      "text/plain": [
       "42605"
      ]
     },
     "execution_count": 108,
     "metadata": {},
     "output_type": "execute_result"
    }
   ],
   "source": [
    "ltr_digraph_ctr[\"f\",\"t\"]"
   ]
  },
  {
   "cell_type": "markdown",
   "id": "99e21ba9",
   "metadata": {},
   "source": [
    "To avoid this update digraph counts word by word (which is slower):"
   ]
  },
  {
   "cell_type": "code",
   "execution_count": 126,
   "id": "a9108f50",
   "metadata": {},
   "outputs": [],
   "source": [
    "from nltk.tokenize import word_tokenize\n",
    "\n",
    "ltr_digraph_ctr2 = Counter()\n",
    "\n",
    "for book in books:\n",
    "    for word in word_tokenize(book):\n",
    "        ltr_digraph_ctr2.update(bigrams(word))"
   ]
  },
  {
   "cell_type": "code",
   "execution_count": 127,
   "id": "9e706e0d",
   "metadata": {},
   "outputs": [
    {
     "data": {
      "text/plain": [
       "[(('t', 'h'), 376156),\n",
       " (('h', 'e'), 369879),\n",
       " (('a', 'n'), 263625),\n",
       " (('i', 'n'), 249591),\n",
       " (('e', 'r'), 204937),\n",
       " (('n', 'd'), 179190),\n",
       " (('r', 'e'), 170888),\n",
       " (('n', 'g'), 157199),\n",
       " (('a', 't'), 143285),\n",
       " (('h', 'a'), 135524)]"
      ]
     },
     "execution_count": 127,
     "metadata": {},
     "output_type": "execute_result"
    }
   ],
   "source": [
    "ltr_digraph_ctr2.most_common(10)"
   ]
  },
  {
   "cell_type": "code",
   "execution_count": 128,
   "id": "bc48d329",
   "metadata": {},
   "outputs": [
    {
     "data": {
      "text/plain": [
       "(('e', 'd'), 148178)"
      ]
     },
     "execution_count": 128,
     "metadata": {},
     "output_type": "execute_result"
    }
   ],
   "source": [
    "ltr_digraph_ctr.most_common(10)[9]"
   ]
  },
  {
   "cell_type": "code",
   "execution_count": 129,
   "id": "2a43fa83",
   "metadata": {},
   "outputs": [
    {
     "data": {
      "text/plain": [
       "(42605, 11156)"
      ]
     },
     "execution_count": 129,
     "metadata": {},
     "output_type": "execute_result"
    }
   ],
   "source": [
    "ltr_digraph_ctr[\"f\",\"t\"],ltr_digraph_ctr2[\"f\",\"t\"]"
   ]
  },
  {
   "cell_type": "code",
   "execution_count": 130,
   "id": "fb2d71c1",
   "metadata": {},
   "outputs": [
    {
     "data": {
      "text/plain": [
       "(148178, 130603)"
      ]
     },
     "execution_count": 130,
     "metadata": {},
     "output_type": "execute_result"
    }
   ],
   "source": [
    "ltr_digraph_ctr[\"e\",\"d\"],ltr_digraph_ctr2[\"e\",\"d\"]"
   ]
  },
  {
   "cell_type": "code",
   "execution_count": 131,
   "id": "f3348801",
   "metadata": {},
   "outputs": [
    {
     "data": {
      "text/plain": [
       "(146977, 135524)"
      ]
     },
     "execution_count": 131,
     "metadata": {},
     "output_type": "execute_result"
    }
   ],
   "source": [
    "ltr_digraph_ctr[\"h\",\"a\"],ltr_digraph_ctr2[\"h\",\"a\"]"
   ]
  },
  {
   "cell_type": "markdown",
   "id": "9151997c",
   "metadata": {},
   "source": [
    "##  English word frequencies"
   ]
  },
  {
   "cell_type": "code",
   "execution_count": 102,
   "id": "7106156b",
   "metadata": {},
   "outputs": [
    {
     "name": "stdout",
     "output_type": "stream",
     "text": [
      "0 [(',', 11481), ('the', 5955), ('I', 5108), ('and', 4772), ('to', 4322), ('of', 3614), (';', 2332), ('a', 2312), ('.', 2206), ('my', 2087)]\n",
      "====================\n",
      "1 [(',', 26360), ('the', 14123), ('and', 9810), ('of', 9270), ('to', 8633), ('I', 7888), ('a', 5945), ('.', 5015), ('in', 4985), (';', 4713)]\n",
      "====================\n",
      "2 [(',', 66235), ('the', 45919), ('and', 30862), ('.', 28223), ('to', 25100), ('of', 24190), ('a', 15995), ('in', 13371), ('I', 12367), ('that', 11425)]\n",
      "====================\n",
      "3 [(',', 82735), ('the', 59580), ('.', 48241), ('and', 37545), ('of', 32352), ('to', 29970), ('a', 21871), ('in', 18083), ('I', 15151), ('that', 13901)]\n",
      "====================\n",
      "4 [(',', 93350), ('the', 59744), ('.', 53735), ('and', 37610), ('of', 32459), ('to', 30046), ('a', 21933), ('in', 18158), ('I', 15152), ('that', 13914)]\n",
      "====================\n",
      "5 [(',', 95827), ('the', 61451), ('.', 55724), ('and', 38307), ('of', 33471), ('to', 30574), ('a', 22310), ('in', 18899), ('I', 15364), ('that', 14217)]\n",
      "====================\n",
      "6 [(',', 137741), ('the', 81483), ('.', 75123), ('and', 49130), ('of', 43027), ('to', 37522), ('a', 25850), ('in', 24145), ('his', 18615), ('I', 18161)]\n",
      "====================\n",
      "7 [(',', 145967), ('the', 86197), ('.', 79280), ('and', 55110), ('of', 44772), ('to', 40501), ('a', 28794), ('in', 25606), ('I', 21683), ('his', 19158)]\n",
      "====================\n",
      "8 [(',', 148709), ('the', 87641), ('.', 80558), ('and', 56192), ('of', 45569), ('to', 41209), ('a', 29527), ('in', 26146), ('I', 22559), ('his', 19293)]\n",
      "====================\n",
      "9 [(',', 161272), ('the', 92400), ('.', 83531), ('and', 58566), ('of', 47600), ('to', 43158), ('a', 30339), ('in', 27614), ('I', 24404), ('’', 23330)]\n",
      "====================\n",
      "10 [(',', 165239), ('the', 95710), ('.', 85224), ('and', 59987), ('of', 48764), ('to', 44381), ('a', 31415), ('in', 28484), ('I', 24539), ('’', 23539)]\n",
      "====================\n",
      "11 [(',', 184590), ('the', 109588), ('.', 92505), ('and', 66059), ('of', 55433), ('to', 48971), ('a', 35979), ('in', 32455), ('I', 26613), ('’', 26335)]\n",
      "====================\n",
      "12 [(',', 195978), ('the', 117063), ('.', 99270), ('and', 71851), ('of', 59139), ('to', 53471), ('a', 38898), ('in', 34914), ('I', 31451), ('’', 27888)]\n",
      "====================\n",
      "13 [(',', 199398), ('the', 119504), ('.', 104232), ('and', 73428), ('of', 60703), ('to', 55224), ('a', 40413), ('in', 35955), ('I', 32455), ('’', 29511)]\n",
      "====================\n",
      "14 [(',', 236312), ('the', 140486), ('.', 109730), ('and', 90453), ('of', 73678), ('to', 68793), ('a', 47431), ('in', 42908), ('I', 39077), ('that', 33765)]\n",
      "====================\n",
      "15 [(',', 239210), ('the', 142063), ('.', 111229), ('and', 91523), ('of', 74435), ('to', 69513), ('a', 48149), ('in', 43460), ('I', 39442), ('that', 34110)]\n",
      "====================\n",
      "16 [(',', 248581), ('the', 148774), ('.', 114846), ('and', 96795), ('of', 78037), ('to', 73051), ('a', 50145), ('in', 45320), ('I', 41436), ('that', 35406)]\n",
      "====================\n",
      "17 [(',', 252405), ('the', 151001), ('.', 126030), ('and', 97609), ('of', 80312), ('to', 73581), ('a', 50349), ('in', 45874), ('I', 41520), ('|', 41325)]\n",
      "====================\n",
      "18 [(',', 255903), ('the', 153569), ('.', 128315), ('and', 98376), ('of', 81859), ('to', 74517), ('a', 50791), ('in', 46499), ('I', 41760), ('|', 41331)]\n",
      "====================\n",
      "19 [(',', 260689), ('the', 157843), ('.', 131661), ('and', 100112), ('of', 84056), ('to', 76599), ('a', 52257), ('in', 47546), ('I', 42322), ('|', 41331)]\n",
      "====================\n"
     ]
    }
   ],
   "source": [
    "\n",
    "from nltk.tokenize import word_tokenize\n",
    "\n",
    "wd_ctr =  Counter()\n",
    "\n",
    "for (i,book)  in enumerate(books):\n",
    "    print(f\"{i}\", end=\" \")\n",
    "    wd_ctr.update(word_tokenize(book))\n",
    "    print(wd_ctr.most_common(10))\n",
    "    print(\"=\"*20)\n",
    "          "
   ]
  },
  {
   "cell_type": "markdown",
   "id": "2727f089",
   "metadata": {},
   "source": [
    "The sudden upsurge in the count of the word \"|\" is not typical of English data.  It happens\n",
    "in the book with index 17.  So we confirm the anomaly and check the source:"
   ]
  },
  {
   "cell_type": "code",
   "execution_count": 106,
   "id": "067805be",
   "metadata": {},
   "outputs": [
    {
     "data": {
      "text/plain": [
       "45626"
      ]
     },
     "execution_count": 106,
     "metadata": {},
     "output_type": "execute_result"
    }
   ],
   "source": [
    "books[17].count(\"|\")"
   ]
  },
  {
   "cell_type": "code",
   "execution_count": 173,
   "id": "d98fedc0",
   "metadata": {
    "scrolled": true
   },
   "outputs": [
    {
     "data": {
      "text/plain": [
       "'Names and places in the Old and New Testament and Apocrypha, with their modern identifications (452)'"
      ]
     },
     "execution_count": 173,
     "metadata": {},
     "output_type": "execute_result"
    }
   ],
   "source": [
    "titles[idxs[17]]"
   ]
  },
  {
   "cell_type": "code",
   "execution_count": null,
   "id": "e85e0c09",
   "metadata": {},
   "outputs": [],
   "source": [
    "text17 = word_tokenize(books[17])\n",
    "\n",
    "wd_idx = text17.index(\"|\")"
   ]
  },
  {
   "cell_type": "markdown",
   "id": "456f7947",
   "metadata": {},
   "source": [
    "It looks as if the \"|\"s are column separators that derive from ASCII \"markup\" representations of tables.  Aargh."
   ]
  },
  {
   "cell_type": "code",
   "execution_count": 180,
   "id": "1b568074",
   "metadata": {},
   "outputs": [
    {
     "data": {
      "text/plain": [
       "'number where the name is found ; ‘ B . R. , ’ _Robinson ’ s Biblical Researches_ . -- -- -- -- -- -- -- -- + -- -- -- -- -- -- -- + -- -- -- -- -- -+ -- -- -- -- -- + -- -- -- -- -- -- -- -- -- -- Bible and | | Modern | No . of |Remarks , References , Apocrypha | References . | Identifi- \\\\Sheet on/ and Name . | | cation . \\\\ ⅜-in./ No . of Sheet on | | |Map./ Large Map . -- -- -- -- -- -- -- -- + -- -- -- -- -- -- -- + -- -- -- -- -- -- -- + -- -+ -- -- -- -- -- -- -- -- -- -- -- -- =ABANA= , River |2 Kings v. 12 |_Nahr | 3 |One of the rivers of | | Abanias_ , a |and| Damascus'"
      ]
     },
     "execution_count": 180,
     "metadata": {},
     "output_type": "execute_result"
    }
   ],
   "source": [
    "' '.join(text17[wd_idx-60:wd_idx+100])"
   ]
  },
  {
   "cell_type": "markdown",
   "id": "f7d538d6",
   "metadata": {},
   "source": [
    "## Letter counts revisited"
   ]
  },
  {
   "cell_type": "markdown",
   "id": "9236faf9",
   "metadata": {},
   "source": [
    "Finally, letter counts can be defined different ways.  \n",
    "\n",
    "Here's a common strategy:"
   ]
  },
  {
   "cell_type": "code",
   "execution_count": 132,
   "id": "7673d084",
   "metadata": {},
   "outputs": [
    {
     "data": {
      "text/plain": [
       "[('a', 105521),\n",
       " ('e', 84872),\n",
       " ('n', 75547),\n",
       " ('i', 72772),\n",
       " ('s', 59968),\n",
       " ('t', 55348),\n",
       " ('r', 54434),\n",
       " ('o', 50009),\n",
       " ('l', 48250),\n",
       " ('g', 37939)]"
      ]
     },
     "execution_count": 132,
     "metadata": {},
     "output_type": "execute_result"
    }
   ],
   "source": [
    "ltr_ctr3 = Counter()\n",
    "\n",
    "for word in wd_ctr:\n",
    "    ltr_ctr3.update(word)\n",
    "    \n",
    "ltr_ctr3.most_common(10)"
   ]
  },
  {
   "cell_type": "markdown",
   "id": "57e3bf27",
   "metadata": {},
   "source": [
    "Compare the original figures.  Explain the differences."
   ]
  },
  {
   "cell_type": "code",
   "execution_count": 135,
   "id": "968611cb",
   "metadata": {},
   "outputs": [
    {
     "data": {
      "text/plain": [
       "[('e', 1606643),\n",
       " ('a', 1218392),\n",
       " ('t', 1163350),\n",
       " ('n', 1018244),\n",
       " ('o', 1007464),\n",
       " ('i', 895359),\n",
       " ('h', 861382),\n",
       " ('s', 852186),\n",
       " ('r', 767826),\n",
       " ('d', 590909)]"
      ]
     },
     "execution_count": 135,
     "metadata": {},
     "output_type": "execute_result"
    }
   ],
   "source": [
    "ltr_ctr2.most_common(10)"
   ]
  },
  {
   "cell_type": "markdown",
   "id": "899899e1",
   "metadata": {},
   "source": []
  }
 ],
 "metadata": {
  "kernelspec": {
   "display_name": "Python 3 (ipykernel)",
   "language": "python",
   "name": "python3"
  },
  "language_info": {
   "codemirror_mode": {
    "name": "ipython",
    "version": 3
   },
   "file_extension": ".py",
   "mimetype": "text/x-python",
   "name": "python",
   "nbconvert_exporter": "python",
   "pygments_lexer": "ipython3",
   "version": "3.10.13"
  }
 },
 "nbformat": 4,
 "nbformat_minor": 5
}
