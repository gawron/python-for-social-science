{
  "cells": [
    {
      "cell_type": "markdown",
      "metadata": {
        "id": "5DeYXbqK-rRW"
      },
      "source": [
        "## Analyzing insults with Naive Bayes: pandas and sklearn"
      ]
    },
    {
      "cell_type": "code",
      "execution_count": null,
      "metadata": {
        "scrolled": true,
        "id": "MejilF82-rRZ"
      },
      "outputs": [],
      "source": [
        "import numpy as np\n",
        "import pandas as pd\n",
        "import sklearn\n",
        "from sklearn.model_selection import train_test_split\n",
        "from sklearn.model_selection import GridSearchCV as gs\n",
        "import sklearn.feature_extraction.text as text\n",
        "import sklearn.naive_bayes as nb\n",
        "import matplotlib.pyplot as plt\n",
        "from sklearn.metrics import precision_score, recall_score\n",
        "%matplotlib inline"
      ]
    },
    {
      "cell_type": "markdown",
      "metadata": {
        "id": "qildTjvw-rRb"
      },
      "source": [
        "## Loading and preparing the data"
      ]
    },
    {
      "cell_type": "markdown",
      "metadata": {
        "id": "28jZSTW_-rRb"
      },
      "source": [
        "Let's open the CSV file with `pandas`."
      ]
    },
    {
      "cell_type": "code",
      "execution_count": null,
      "metadata": {
        "id": "MtGQlB1q-rRc"
      },
      "outputs": [],
      "source": [
        "import os.path\n",
        "site = 'https://gawron.sdsu.edu/python_for_ss/course_core/book_draft/_static/'\n",
        "df = pd.read_csv(os.path.join(site,\"troll.csv\"))"
      ]
    },
    {
      "cell_type": "markdown",
      "metadata": {
        "id": "M3ncLUYx-rRc"
      },
      "source": [
        "Each row is a comment  taken from a blog or online forum. There are three columns: whether the comment is insulting (1) or not (0), the data, and the unicode-encoded contents of the comment."
      ]
    },
    {
      "cell_type": "code",
      "execution_count": null,
      "metadata": {
        "id": "pFeNaW-m-rRd",
        "outputId": "ea5bf716-2413-4aa6-83fa-dedd1d5820f8",
        "colab": {
          "base_uri": "https://localhost:8080/",
          "height": 206
        }
      },
      "outputs": [
        {
          "output_type": "execute_result",
          "data": {
            "text/plain": [
              "      Insult                                            Comment\n",
              "3942       1  \"you are both morons and that is never happening\"\n",
              "3943       0  \"Many toolbars include spell check, like Yahoo...\n",
              "3944       0  \"@LambeauOrWrigley\\xa0\\xa0@K.Moss\\xa0\\nSioux F...\n",
              "3945       0  \"How about Felix? He is sure turning into one ...\n",
              "3946       0  \"You're all upset, defending this hipster band..."
            ],
            "text/html": [
              "\n",
              "  <div id=\"df-b0d7d698-065b-4256-b140-479035a6a823\">\n",
              "    <div class=\"colab-df-container\">\n",
              "      <div>\n",
              "<style scoped>\n",
              "    .dataframe tbody tr th:only-of-type {\n",
              "        vertical-align: middle;\n",
              "    }\n",
              "\n",
              "    .dataframe tbody tr th {\n",
              "        vertical-align: top;\n",
              "    }\n",
              "\n",
              "    .dataframe thead th {\n",
              "        text-align: right;\n",
              "    }\n",
              "</style>\n",
              "<table border=\"1\" class=\"dataframe\">\n",
              "  <thead>\n",
              "    <tr style=\"text-align: right;\">\n",
              "      <th></th>\n",
              "      <th>Insult</th>\n",
              "      <th>Comment</th>\n",
              "    </tr>\n",
              "  </thead>\n",
              "  <tbody>\n",
              "    <tr>\n",
              "      <th>3942</th>\n",
              "      <td>1</td>\n",
              "      <td>\"you are both morons and that is never happening\"</td>\n",
              "    </tr>\n",
              "    <tr>\n",
              "      <th>3943</th>\n",
              "      <td>0</td>\n",
              "      <td>\"Many toolbars include spell check, like Yahoo...</td>\n",
              "    </tr>\n",
              "    <tr>\n",
              "      <th>3944</th>\n",
              "      <td>0</td>\n",
              "      <td>\"@LambeauOrWrigley\\xa0\\xa0@K.Moss\\xa0\\nSioux F...</td>\n",
              "    </tr>\n",
              "    <tr>\n",
              "      <th>3945</th>\n",
              "      <td>0</td>\n",
              "      <td>\"How about Felix? He is sure turning into one ...</td>\n",
              "    </tr>\n",
              "    <tr>\n",
              "      <th>3946</th>\n",
              "      <td>0</td>\n",
              "      <td>\"You're all upset, defending this hipster band...</td>\n",
              "    </tr>\n",
              "  </tbody>\n",
              "</table>\n",
              "</div>\n",
              "      <button class=\"colab-df-convert\" onclick=\"convertToInteractive('df-b0d7d698-065b-4256-b140-479035a6a823')\"\n",
              "              title=\"Convert this dataframe to an interactive table.\"\n",
              "              style=\"display:none;\">\n",
              "        \n",
              "  <svg xmlns=\"http://www.w3.org/2000/svg\" height=\"24px\"viewBox=\"0 0 24 24\"\n",
              "       width=\"24px\">\n",
              "    <path d=\"M0 0h24v24H0V0z\" fill=\"none\"/>\n",
              "    <path d=\"M18.56 5.44l.94 2.06.94-2.06 2.06-.94-2.06-.94-.94-2.06-.94 2.06-2.06.94zm-11 1L8.5 8.5l.94-2.06 2.06-.94-2.06-.94L8.5 2.5l-.94 2.06-2.06.94zm10 10l.94 2.06.94-2.06 2.06-.94-2.06-.94-.94-2.06-.94 2.06-2.06.94z\"/><path d=\"M17.41 7.96l-1.37-1.37c-.4-.4-.92-.59-1.43-.59-.52 0-1.04.2-1.43.59L10.3 9.45l-7.72 7.72c-.78.78-.78 2.05 0 2.83L4 21.41c.39.39.9.59 1.41.59.51 0 1.02-.2 1.41-.59l7.78-7.78 2.81-2.81c.8-.78.8-2.07 0-2.86zM5.41 20L4 18.59l7.72-7.72 1.47 1.35L5.41 20z\"/>\n",
              "  </svg>\n",
              "      </button>\n",
              "      \n",
              "  <style>\n",
              "    .colab-df-container {\n",
              "      display:flex;\n",
              "      flex-wrap:wrap;\n",
              "      gap: 12px;\n",
              "    }\n",
              "\n",
              "    .colab-df-convert {\n",
              "      background-color: #E8F0FE;\n",
              "      border: none;\n",
              "      border-radius: 50%;\n",
              "      cursor: pointer;\n",
              "      display: none;\n",
              "      fill: #1967D2;\n",
              "      height: 32px;\n",
              "      padding: 0 0 0 0;\n",
              "      width: 32px;\n",
              "    }\n",
              "\n",
              "    .colab-df-convert:hover {\n",
              "      background-color: #E2EBFA;\n",
              "      box-shadow: 0px 1px 2px rgba(60, 64, 67, 0.3), 0px 1px 3px 1px rgba(60, 64, 67, 0.15);\n",
              "      fill: #174EA6;\n",
              "    }\n",
              "\n",
              "    [theme=dark] .colab-df-convert {\n",
              "      background-color: #3B4455;\n",
              "      fill: #D2E3FC;\n",
              "    }\n",
              "\n",
              "    [theme=dark] .colab-df-convert:hover {\n",
              "      background-color: #434B5C;\n",
              "      box-shadow: 0px 1px 3px 1px rgba(0, 0, 0, 0.15);\n",
              "      filter: drop-shadow(0px 1px 2px rgba(0, 0, 0, 0.3));\n",
              "      fill: #FFFFFF;\n",
              "    }\n",
              "  </style>\n",
              "\n",
              "      <script>\n",
              "        const buttonEl =\n",
              "          document.querySelector('#df-b0d7d698-065b-4256-b140-479035a6a823 button.colab-df-convert');\n",
              "        buttonEl.style.display =\n",
              "          google.colab.kernel.accessAllowed ? 'block' : 'none';\n",
              "\n",
              "        async function convertToInteractive(key) {\n",
              "          const element = document.querySelector('#df-b0d7d698-065b-4256-b140-479035a6a823');\n",
              "          const dataTable =\n",
              "            await google.colab.kernel.invokeFunction('convertToInteractive',\n",
              "                                                     [key], {});\n",
              "          if (!dataTable) return;\n",
              "\n",
              "          const docLinkHtml = 'Like what you see? Visit the ' +\n",
              "            '<a target=\"_blank\" href=https://colab.research.google.com/notebooks/data_table.ipynb>data table notebook</a>'\n",
              "            + ' to learn more about interactive tables.';\n",
              "          element.innerHTML = '';\n",
              "          dataTable['output_type'] = 'display_data';\n",
              "          await google.colab.output.renderOutput(dataTable, element);\n",
              "          const docLink = document.createElement('div');\n",
              "          docLink.innerHTML = docLinkHtml;\n",
              "          element.appendChild(docLink);\n",
              "        }\n",
              "      </script>\n",
              "    </div>\n",
              "  </div>\n",
              "  "
            ]
          },
          "metadata": {},
          "execution_count": 54
        }
      ],
      "source": [
        "df[['Insult', 'Comment']].tail()"
      ]
    },
    {
      "cell_type": "markdown",
      "metadata": {
        "id": "7sEjygA0-rRe"
      },
      "source": [
        "Write a pandas command to give you just the insults."
      ]
    },
    {
      "cell_type": "code",
      "execution_count": null,
      "metadata": {
        "id": "b8QDhTRJ-rRe"
      },
      "outputs": [],
      "source": [
        "# Solution replaces df on the RHS\n",
        "insult_df = df[df['Insult'] ==1]"
      ]
    },
    {
      "cell_type": "code",
      "execution_count": null,
      "metadata": {
        "scrolled": true,
        "id": "9Mse4iGA-rRf",
        "outputId": "2a08b271-3d5a-44b0-faf8-057a05cbf399",
        "colab": {
          "base_uri": "https://localhost:8080/",
          "height": 833
        }
      },
      "outputs": [
        {
          "output_type": "execute_result",
          "data": {
            "text/plain": [
              "    Insult             Date                                            Comment\n",
              "0        1  20120618192155Z                               \"You fuck your dad.\"\n",
              "7        1              NaN  \"shut the fuck up. you and the rest of your fa...\n",
              "8        1  20120502173553Z  \"Either you are fake or extremely stupid...may...\n",
              "9        1  20120620160512Z  \"That you are an idiot who understands neither...\n",
              "15       1  20120611090207Z  \"FOR SOME REASON U SOUND RETARDED. LOL. DAMN. ...\n",
              "16       1  20120320162532Z  \"You with the 'racist' screen name\\n\\nYou are ...\n",
              "18       1  20120320075347Z                          \"your such a dickhead...\"\n",
              "19       1  20120320203947Z     \"Your a retard go post your head up your #%&*\"\n",
              "34       1  20120515132156Z  \"Allinit123, your\\xa0hypocrisy\\xa0is sickening...\n",
              "37       1  20120620161958Z  \"I can't believe the stupid people on this sit...\n",
              "38       1  20120609163743Z                   \"fucking behave then you prick!\"\n",
              "41       1  20120620075045Z  \"Is that it??  your sum total to any conversat...\n",
              "45       1  20120619074710Z                                           \"faggot\"\n",
              "47       1  20120529130844Z  \"Aimless Abe you are a delusion weirdo that sh...\n",
              "51       1  20120320131007Z      \"Even as a troll you are a pathetic failure.\"\n",
              "55       1  20120502173058Z       \"You're a moron, truth is beyond your reach\"\n",
              "59       1  20120619203151Z  \"Your anti-Semitic rants are not welcomed here...\n",
              "61       1  20120619033424Z     \"god, you're tiresome. get a life, you loser.\"\n",
              "79       1  20120619194023Z  \"Fact : Georgia passed a strict immigration po...\n",
              "80       1  20120530000452Z            \"Of course you would bottom feeder ...\"\n",
              "82       1  20120619162450Z  \"You are\\xa0 a fukin moron. \\xa0\\xa0 You are j...\n",
              "88       1  20120619171832Z  \"You are a fucking dumb ass!.  Go back to you ...\n",
              "93       1  20120502203704Z  \"Lets see your papers arealconservati.\\n\\nTill...\n",
              "95       1              NaN  \"Correction Bitch! You don't think it's superb...\n",
              "96       1  20120611215519Z  \"I think the only trickle that effected you wa..."
            ],
            "text/html": [
              "\n",
              "  <div id=\"df-8eeb6f97-1d95-49c0-a92b-f6ab8f99bd1e\">\n",
              "    <div class=\"colab-df-container\">\n",
              "      <div>\n",
              "<style scoped>\n",
              "    .dataframe tbody tr th:only-of-type {\n",
              "        vertical-align: middle;\n",
              "    }\n",
              "\n",
              "    .dataframe tbody tr th {\n",
              "        vertical-align: top;\n",
              "    }\n",
              "\n",
              "    .dataframe thead th {\n",
              "        text-align: right;\n",
              "    }\n",
              "</style>\n",
              "<table border=\"1\" class=\"dataframe\">\n",
              "  <thead>\n",
              "    <tr style=\"text-align: right;\">\n",
              "      <th></th>\n",
              "      <th>Insult</th>\n",
              "      <th>Date</th>\n",
              "      <th>Comment</th>\n",
              "    </tr>\n",
              "  </thead>\n",
              "  <tbody>\n",
              "    <tr>\n",
              "      <th>0</th>\n",
              "      <td>1</td>\n",
              "      <td>20120618192155Z</td>\n",
              "      <td>\"You fuck your dad.\"</td>\n",
              "    </tr>\n",
              "    <tr>\n",
              "      <th>7</th>\n",
              "      <td>1</td>\n",
              "      <td>NaN</td>\n",
              "      <td>\"shut the fuck up. you and the rest of your fa...</td>\n",
              "    </tr>\n",
              "    <tr>\n",
              "      <th>8</th>\n",
              "      <td>1</td>\n",
              "      <td>20120502173553Z</td>\n",
              "      <td>\"Either you are fake or extremely stupid...may...</td>\n",
              "    </tr>\n",
              "    <tr>\n",
              "      <th>9</th>\n",
              "      <td>1</td>\n",
              "      <td>20120620160512Z</td>\n",
              "      <td>\"That you are an idiot who understands neither...</td>\n",
              "    </tr>\n",
              "    <tr>\n",
              "      <th>15</th>\n",
              "      <td>1</td>\n",
              "      <td>20120611090207Z</td>\n",
              "      <td>\"FOR SOME REASON U SOUND RETARDED. LOL. DAMN. ...</td>\n",
              "    </tr>\n",
              "    <tr>\n",
              "      <th>16</th>\n",
              "      <td>1</td>\n",
              "      <td>20120320162532Z</td>\n",
              "      <td>\"You with the 'racist' screen name\\n\\nYou are ...</td>\n",
              "    </tr>\n",
              "    <tr>\n",
              "      <th>18</th>\n",
              "      <td>1</td>\n",
              "      <td>20120320075347Z</td>\n",
              "      <td>\"your such a dickhead...\"</td>\n",
              "    </tr>\n",
              "    <tr>\n",
              "      <th>19</th>\n",
              "      <td>1</td>\n",
              "      <td>20120320203947Z</td>\n",
              "      <td>\"Your a retard go post your head up your #%&amp;*\"</td>\n",
              "    </tr>\n",
              "    <tr>\n",
              "      <th>34</th>\n",
              "      <td>1</td>\n",
              "      <td>20120515132156Z</td>\n",
              "      <td>\"Allinit123, your\\xa0hypocrisy\\xa0is sickening...</td>\n",
              "    </tr>\n",
              "    <tr>\n",
              "      <th>37</th>\n",
              "      <td>1</td>\n",
              "      <td>20120620161958Z</td>\n",
              "      <td>\"I can't believe the stupid people on this sit...</td>\n",
              "    </tr>\n",
              "    <tr>\n",
              "      <th>38</th>\n",
              "      <td>1</td>\n",
              "      <td>20120609163743Z</td>\n",
              "      <td>\"fucking behave then you prick!\"</td>\n",
              "    </tr>\n",
              "    <tr>\n",
              "      <th>41</th>\n",
              "      <td>1</td>\n",
              "      <td>20120620075045Z</td>\n",
              "      <td>\"Is that it??  your sum total to any conversat...</td>\n",
              "    </tr>\n",
              "    <tr>\n",
              "      <th>45</th>\n",
              "      <td>1</td>\n",
              "      <td>20120619074710Z</td>\n",
              "      <td>\"faggot\"</td>\n",
              "    </tr>\n",
              "    <tr>\n",
              "      <th>47</th>\n",
              "      <td>1</td>\n",
              "      <td>20120529130844Z</td>\n",
              "      <td>\"Aimless Abe you are a delusion weirdo that sh...</td>\n",
              "    </tr>\n",
              "    <tr>\n",
              "      <th>51</th>\n",
              "      <td>1</td>\n",
              "      <td>20120320131007Z</td>\n",
              "      <td>\"Even as a troll you are a pathetic failure.\"</td>\n",
              "    </tr>\n",
              "    <tr>\n",
              "      <th>55</th>\n",
              "      <td>1</td>\n",
              "      <td>20120502173058Z</td>\n",
              "      <td>\"You're a moron, truth is beyond your reach\"</td>\n",
              "    </tr>\n",
              "    <tr>\n",
              "      <th>59</th>\n",
              "      <td>1</td>\n",
              "      <td>20120619203151Z</td>\n",
              "      <td>\"Your anti-Semitic rants are not welcomed here...</td>\n",
              "    </tr>\n",
              "    <tr>\n",
              "      <th>61</th>\n",
              "      <td>1</td>\n",
              "      <td>20120619033424Z</td>\n",
              "      <td>\"god, you're tiresome. get a life, you loser.\"</td>\n",
              "    </tr>\n",
              "    <tr>\n",
              "      <th>79</th>\n",
              "      <td>1</td>\n",
              "      <td>20120619194023Z</td>\n",
              "      <td>\"Fact : Georgia passed a strict immigration po...</td>\n",
              "    </tr>\n",
              "    <tr>\n",
              "      <th>80</th>\n",
              "      <td>1</td>\n",
              "      <td>20120530000452Z</td>\n",
              "      <td>\"Of course you would bottom feeder ...\"</td>\n",
              "    </tr>\n",
              "    <tr>\n",
              "      <th>82</th>\n",
              "      <td>1</td>\n",
              "      <td>20120619162450Z</td>\n",
              "      <td>\"You are\\xa0 a fukin moron. \\xa0\\xa0 You are j...</td>\n",
              "    </tr>\n",
              "    <tr>\n",
              "      <th>88</th>\n",
              "      <td>1</td>\n",
              "      <td>20120619171832Z</td>\n",
              "      <td>\"You are a fucking dumb ass!.  Go back to you ...</td>\n",
              "    </tr>\n",
              "    <tr>\n",
              "      <th>93</th>\n",
              "      <td>1</td>\n",
              "      <td>20120502203704Z</td>\n",
              "      <td>\"Lets see your papers arealconservati.\\n\\nTill...</td>\n",
              "    </tr>\n",
              "    <tr>\n",
              "      <th>95</th>\n",
              "      <td>1</td>\n",
              "      <td>NaN</td>\n",
              "      <td>\"Correction Bitch! You don't think it's superb...</td>\n",
              "    </tr>\n",
              "    <tr>\n",
              "      <th>96</th>\n",
              "      <td>1</td>\n",
              "      <td>20120611215519Z</td>\n",
              "      <td>\"I think the only trickle that effected you wa...</td>\n",
              "    </tr>\n",
              "  </tbody>\n",
              "</table>\n",
              "</div>\n",
              "      <button class=\"colab-df-convert\" onclick=\"convertToInteractive('df-8eeb6f97-1d95-49c0-a92b-f6ab8f99bd1e')\"\n",
              "              title=\"Convert this dataframe to an interactive table.\"\n",
              "              style=\"display:none;\">\n",
              "        \n",
              "  <svg xmlns=\"http://www.w3.org/2000/svg\" height=\"24px\"viewBox=\"0 0 24 24\"\n",
              "       width=\"24px\">\n",
              "    <path d=\"M0 0h24v24H0V0z\" fill=\"none\"/>\n",
              "    <path d=\"M18.56 5.44l.94 2.06.94-2.06 2.06-.94-2.06-.94-.94-2.06-.94 2.06-2.06.94zm-11 1L8.5 8.5l.94-2.06 2.06-.94-2.06-.94L8.5 2.5l-.94 2.06-2.06.94zm10 10l.94 2.06.94-2.06 2.06-.94-2.06-.94-.94-2.06-.94 2.06-2.06.94z\"/><path d=\"M17.41 7.96l-1.37-1.37c-.4-.4-.92-.59-1.43-.59-.52 0-1.04.2-1.43.59L10.3 9.45l-7.72 7.72c-.78.78-.78 2.05 0 2.83L4 21.41c.39.39.9.59 1.41.59.51 0 1.02-.2 1.41-.59l7.78-7.78 2.81-2.81c.8-.78.8-2.07 0-2.86zM5.41 20L4 18.59l7.72-7.72 1.47 1.35L5.41 20z\"/>\n",
              "  </svg>\n",
              "      </button>\n",
              "      \n",
              "  <style>\n",
              "    .colab-df-container {\n",
              "      display:flex;\n",
              "      flex-wrap:wrap;\n",
              "      gap: 12px;\n",
              "    }\n",
              "\n",
              "    .colab-df-convert {\n",
              "      background-color: #E8F0FE;\n",
              "      border: none;\n",
              "      border-radius: 50%;\n",
              "      cursor: pointer;\n",
              "      display: none;\n",
              "      fill: #1967D2;\n",
              "      height: 32px;\n",
              "      padding: 0 0 0 0;\n",
              "      width: 32px;\n",
              "    }\n",
              "\n",
              "    .colab-df-convert:hover {\n",
              "      background-color: #E2EBFA;\n",
              "      box-shadow: 0px 1px 2px rgba(60, 64, 67, 0.3), 0px 1px 3px 1px rgba(60, 64, 67, 0.15);\n",
              "      fill: #174EA6;\n",
              "    }\n",
              "\n",
              "    [theme=dark] .colab-df-convert {\n",
              "      background-color: #3B4455;\n",
              "      fill: #D2E3FC;\n",
              "    }\n",
              "\n",
              "    [theme=dark] .colab-df-convert:hover {\n",
              "      background-color: #434B5C;\n",
              "      box-shadow: 0px 1px 3px 1px rgba(0, 0, 0, 0.15);\n",
              "      filter: drop-shadow(0px 1px 2px rgba(0, 0, 0, 0.3));\n",
              "      fill: #FFFFFF;\n",
              "    }\n",
              "  </style>\n",
              "\n",
              "      <script>\n",
              "        const buttonEl =\n",
              "          document.querySelector('#df-8eeb6f97-1d95-49c0-a92b-f6ab8f99bd1e button.colab-df-convert');\n",
              "        buttonEl.style.display =\n",
              "          google.colab.kernel.accessAllowed ? 'block' : 'none';\n",
              "\n",
              "        async function convertToInteractive(key) {\n",
              "          const element = document.querySelector('#df-8eeb6f97-1d95-49c0-a92b-f6ab8f99bd1e');\n",
              "          const dataTable =\n",
              "            await google.colab.kernel.invokeFunction('convertToInteractive',\n",
              "                                                     [key], {});\n",
              "          if (!dataTable) return;\n",
              "\n",
              "          const docLinkHtml = 'Like what you see? Visit the ' +\n",
              "            '<a target=\"_blank\" href=https://colab.research.google.com/notebooks/data_table.ipynb>data table notebook</a>'\n",
              "            + ' to learn more about interactive tables.';\n",
              "          element.innerHTML = '';\n",
              "          dataTable['output_type'] = 'display_data';\n",
              "          await google.colab.output.renderOutput(dataTable, element);\n",
              "          const docLink = document.createElement('div');\n",
              "          docLink.innerHTML = docLinkHtml;\n",
              "          element.appendChild(docLink);\n",
              "        }\n",
              "      </script>\n",
              "    </div>\n",
              "  </div>\n",
              "  "
            ]
          },
          "metadata": {},
          "execution_count": 56
        }
      ],
      "source": [
        "insult_df[:25]"
      ]
    },
    {
      "cell_type": "code",
      "execution_count": null,
      "metadata": {
        "id": "m8skwNYM-rRf",
        "outputId": "370c9419-a8f0-4a51-92db-4361f1d70adb"
      },
      "outputs": [
        {
          "data": {
            "text/plain": [
              "79    \"Fact : Georgia passed a strict immigration po...\n",
              "80              \"Of course you would bottom feeder ...\"\n",
              "81    \"M\\xe1tenlos!!\\nhttp://1.bp.blogspot.com/-YVSZ...\n",
              "82    \"You are\\xa0 a fukin moron. \\xa0\\xa0 You are j...\n",
              "83    \"He is doing what any president doe's on this ...\n",
              "84    \"...yeah, and you're a f'ing expert.....go bac...\n",
              "Name: Comment, dtype: object"
            ]
          },
          "execution_count": 8,
          "metadata": {},
          "output_type": "execute_result"
        }
      ],
      "source": [
        "df['Comment'][79:85]"
      ]
    },
    {
      "cell_type": "code",
      "execution_count": null,
      "metadata": {
        "id": "uPevaZIm-rRg",
        "outputId": "fd7ee8d5-318b-4a0b-d7b1-9dde4a5653cd",
        "colab": {
          "base_uri": "https://localhost:8080/",
          "height": 87
        }
      },
      "outputs": [
        {
          "output_type": "execute_result",
          "data": {
            "text/plain": [
              "'\"Fact : Georgia passed a strict immigration policy and most of the Latino farm workers left the area. Vidalia Georgia now has over 3000 agriculture job openings and they have been able to fill about 250 of them in past year. All you White Real Americans who are looking for work that the Latinos stole from you..Where are you ? The jobs are i Vadalia just waiting for you..Or maybe its the fact that you would rather collect unemployment like the rest of the Tea Klaners.. You scream..you complain..and you sit at home in your wife beaters and drink beer..Typical Real White Tea Klan....\"'"
            ],
            "application/vnd.google.colaboratory.intrinsic+json": {
              "type": "string"
            }
          },
          "metadata": {},
          "execution_count": 57
        }
      ],
      "source": [
        "df['Comment'][79]"
      ]
    },
    {
      "cell_type": "markdown",
      "metadata": {
        "id": "LDqCa2aZ-rRg"
      },
      "source": [
        "NB:  `insult_df` is **not** modified by the following sort."
      ]
    },
    {
      "cell_type": "code",
      "source": [
        "insult_df = df"
      ],
      "metadata": {
        "id": "g5VCWd2g-8iS"
      },
      "execution_count": null,
      "outputs": []
    },
    {
      "cell_type": "code",
      "execution_count": null,
      "metadata": {
        "id": "6AWuiuBO-rRg",
        "outputId": "f55893ee-0330-4686-f905-ebf6618bf17f",
        "colab": {
          "base_uri": "https://localhost:8080/"
        }
      },
      "outputs": [
        {
          "output_type": "execute_result",
          "data": {
            "text/plain": [
              "2004    17805\n",
              "3416    10716\n",
              "1305     4769\n",
              "3068     4312\n",
              "3208     4016\n",
              "        ...  \n",
              "3919        8\n",
              "755         8\n",
              "45          8\n",
              "2937        6\n",
              "3112        6\n",
              "Name: Size, Length: 3947, dtype: int64"
            ]
          },
          "metadata": {},
          "execution_count": 59
        }
      ],
      "source": [
        "insult_df['Size'] = df['Comment'].apply(len)\n",
        "insult_df['Size'].sort_values(ascending = False)"
      ]
    },
    {
      "cell_type": "markdown",
      "metadata": {
        "id": "Ibxc3U3K-rRh"
      },
      "source": [
        "Now we define the feature matrix $\\mathbf{X}$ and the labels $\\mathbf{y}$."
      ]
    },
    {
      "cell_type": "code",
      "execution_count": null,
      "metadata": {
        "id": "wty7pj42-rRh",
        "outputId": "74fc74c7-ee65-4b9f-87d4-531ca798b73d",
        "colab": {
          "base_uri": "https://localhost:8080/"
        }
      },
      "outputs": [
        {
          "output_type": "execute_result",
          "data": {
            "text/plain": [
              "703"
            ]
          },
          "metadata": {},
          "execution_count": 60
        }
      ],
      "source": [
        "len(insult_df.loc[3208]['Comment'].split())"
      ]
    },
    {
      "cell_type": "code",
      "execution_count": null,
      "metadata": {
        "id": "I_PkM5-Y-rRh",
        "outputId": "a21aeaf9-9fd8-44a5-af3d-067499fd37a8",
        "colab": {
          "base_uri": "https://localhost:8080/"
        }
      },
      "outputs": [
        {
          "output_type": "execute_result",
          "data": {
            "text/plain": [
              "Insult                   1\n",
              "Date       20120620121441Z\n",
              "Comment           \"Retard\"\n",
              "Size                     8\n",
              "Name: 755, dtype: object"
            ]
          },
          "metadata": {},
          "execution_count": 12
        }
      ],
      "source": [
        "insult_df.loc[755]"
      ]
    },
    {
      "cell_type": "code",
      "execution_count": null,
      "metadata": {
        "id": "Tata-Y2o-rRh",
        "outputId": "94b6c698-99bd-4796-ea22-db7b1e030c70",
        "colab": {
          "base_uri": "https://localhost:8080/"
        }
      },
      "outputs": [
        {
          "output_type": "execute_result",
          "data": {
            "text/plain": [
              "Insult                   1\n",
              "Date       20120619074710Z\n",
              "Comment           \"faggot\"\n",
              "Size                     8\n",
              "Name: 45, dtype: object"
            ]
          },
          "metadata": {},
          "execution_count": 13
        }
      ],
      "source": [
        "insult_df.loc[45]"
      ]
    },
    {
      "cell_type": "code",
      "execution_count": null,
      "metadata": {
        "id": "-8xJstOo-rRi"
      },
      "outputs": [],
      "source": [
        "y = df['Insult']"
      ]
    },
    {
      "cell_type": "markdown",
      "metadata": {
        "id": "-jPBwaTr-rRi"
      },
      "source": [
        "We want to use one of the linear classifiers in `sklearn`,\n",
        "bit the learners in `sklearn` only work with numerical arrays. How to convert text into a matrix of numbers?\n",
        "As discussed in lecture and in our text,\n",
        "obtaining the feature matrix from the text is not trivial. "
      ]
    },
    {
      "cell_type": "markdown",
      "metadata": {
        "id": "DSvV0ToN-rRi"
      },
      "source": [
        "The classical solution is to first extract a **vocabulary**: a list of words used throughout the corpus. Then, we can count, for each document in the sample, the frequency of each word. We end up with a **sparse matrix**: a huge matrix containing mostly zeros. Here, `sklearn` and `pandas` make it possible to do this in two lines. "
      ]
    },
    {
      "cell_type": "code",
      "execution_count": null,
      "metadata": {
        "id": "Rk9HaGLJ-rRk",
        "outputId": "9d85eaf7-398b-4b55-e6c4-16497634cd35",
        "colab": {
          "base_uri": "https://localhost:8080/"
        }
      },
      "outputs": [
        {
          "output_type": "stream",
          "name": "stdout",
          "text": [
            "Convert a collection of raw documents to a matrix of TF-IDF features.\n",
            "\n",
            "    Equivalent to :class:`CountVectorizer` followed by\n",
            "    :class:`TfidfTransformer`.\n",
            "\n",
            "    Read more in the :ref:`User Guide <text_feature_extraction>`.\n",
            "\n",
            "    Parameters\n",
            "    ----------\n",
            "    input : {'filename', 'file', 'content'}, default='content'\n",
            "        - If `'filename'`, the sequence passed as an argument to fit is\n",
            "          expected to be a list of filenames that need reading to fetch\n",
            "          the raw content to analyze.\n",
            "\n",
            "        - If `'file'`, the sequence items must have a 'read' method (file-like\n",
            "          object) that is called to fetch the bytes in memory.\n",
            "\n",
            "        - If `'content'`, the input is expected to be a sequence of items that\n",
            "          can be of type string or byte.\n",
            "\n",
            "    encoding : str, default='utf-8'\n",
            "        If bytes or files are given to analyze, this encoding is used to\n",
            "        decode.\n",
            "\n",
            "    decode_error : {'strict', 'ignore', 'replace'}, default='strict'\n",
            "        Instruction on what to do if a byte sequence is given to analyze that\n",
            "        contains characters not of the given `encoding`. By default, it is\n",
            "        'strict', meaning that a UnicodeDecodeError will be raised. Other\n",
            "        values are 'ignore' and 'replace'.\n",
            "\n",
            "    strip_accents : {'ascii', 'unicode'}, default=None\n",
            "        Remove accents and perform other character normalization\n",
            "        during the preprocessing step.\n",
            "        'ascii' is a fast method that only works on characters that have\n",
            "        an direct ASCII mapping.\n",
            "        'unicode' is a slightly slower method that works on any characters.\n",
            "        None (default) does nothing.\n",
            "\n",
            "        Both 'ascii' and 'unicode' use NFKD normalization from\n",
            "        :func:`unicodedata.normalize`.\n",
            "\n",
            "    lowercase : bool, default=True\n",
            "        Convert all characters to lowercase before tokenizing.\n",
            "\n",
            "    preprocessor : callable, default=None\n",
            "        Override the preprocessing (string transformation) stage while\n",
            "        preserving the tokenizing and n-grams generation steps.\n",
            "        Only applies if ``analyzer`` is not callable.\n",
            "\n",
            "    tokenizer : callable, default=None\n",
            "        Override the string tokenization step while preserving the\n",
            "        preprocessing and n-grams generation steps.\n",
            "        Only applies if ``analyzer == 'word'``.\n",
            "\n",
            "    analyzer : {'word', 'char', 'char_wb'} or callable, default='word'\n",
            "        Whether the feature should be made of word or character n-grams.\n",
            "        Option 'char_wb' creates character n-grams only from text inside\n",
            "        word boundaries; n-grams at the edges of words are padded with space.\n",
            "\n",
            "        If a callable is passed it is used to extract the sequence of features\n",
            "        out of the raw, unprocessed input.\n",
            "\n",
            "        .. versionchanged:: 0.21\n",
            "            Since v0.21, if ``input`` is ``'filename'`` or ``'file'``, the data\n",
            "            is first read from the file and then passed to the given callable\n",
            "            analyzer.\n",
            "\n",
            "    stop_words : {'english'}, list, default=None\n",
            "        If a string, it is passed to _check_stop_list and the appropriate stop\n",
            "        list is returned. 'english' is currently the only supported string\n",
            "        value.\n",
            "        There are several known issues with 'english' and you should\n",
            "        consider an alternative (see :ref:`stop_words`).\n",
            "\n",
            "        If a list, that list is assumed to contain stop words, all of which\n",
            "        will be removed from the resulting tokens.\n",
            "        Only applies if ``analyzer == 'word'``.\n",
            "\n",
            "        If None, no stop words will be used. max_df can be set to a value\n",
            "        in the range [0.7, 1.0) to automatically detect and filter stop\n",
            "        words based on intra corpus document frequency of terms.\n",
            "\n",
            "    token_pattern : str, default=r\"(?u)\\\\b\\\\w\\\\w+\\\\b\"\n",
            "        Regular expression denoting what constitutes a \"token\", only used\n",
            "        if ``analyzer == 'word'``. The default regexp selects tokens of 2\n",
            "        or more alphanumeric characters (punctuation is completely ignored\n",
            "        and always treated as a token separator).\n",
            "\n",
            "        If there is a capturing group in token_pattern then the\n",
            "        captured group content, not the entire match, becomes the token.\n",
            "        At most one capturing group is permitted.\n",
            "\n",
            "    ngram_range : tuple (min_n, max_n), default=(1, 1)\n",
            "        The lower and upper boundary of the range of n-values for different\n",
            "        n-grams to be extracted. All values of n such that min_n <= n <= max_n\n",
            "        will be used. For example an ``ngram_range`` of ``(1, 1)`` means only\n",
            "        unigrams, ``(1, 2)`` means unigrams and bigrams, and ``(2, 2)`` means\n",
            "        only bigrams.\n",
            "        Only applies if ``analyzer`` is not callable.\n",
            "\n",
            "    max_df : float or int, default=1.0\n",
            "        When building the vocabulary ignore terms that have a document\n",
            "        frequency strictly higher than the given threshold (corpus-specific\n",
            "        stop words).\n",
            "        If float in range [0.0, 1.0], the parameter represents a proportion of\n",
            "        documents, integer absolute counts.\n",
            "        This parameter is ignored if vocabulary is not None.\n",
            "\n",
            "    min_df : float or int, default=1\n",
            "        When building the vocabulary ignore terms that have a document\n",
            "        frequency strictly lower than the given threshold. This value is also\n",
            "        called cut-off in the literature.\n",
            "        If float in range of [0.0, 1.0], the parameter represents a proportion\n",
            "        of documents, integer absolute counts.\n",
            "        This parameter is ignored if vocabulary is not None.\n",
            "\n",
            "    max_features : int, default=None\n",
            "        If not None, build a vocabulary that only consider the top\n",
            "        max_features ordered by term frequency across the corpus.\n",
            "\n",
            "        This parameter is ignored if vocabulary is not None.\n",
            "\n",
            "    vocabulary : Mapping or iterable, default=None\n",
            "        Either a Mapping (e.g., a dict) where keys are terms and values are\n",
            "        indices in the feature matrix, or an iterable over terms. If not\n",
            "        given, a vocabulary is determined from the input documents.\n",
            "\n",
            "    binary : bool, default=False\n",
            "        If True, all non-zero term counts are set to 1. This does not mean\n",
            "        outputs will have only 0/1 values, only that the tf term in tf-idf\n",
            "        is binary. (Set idf and normalization to False to get 0/1 outputs).\n",
            "\n",
            "    dtype : dtype, default=float64\n",
            "        Type of the matrix returned by fit_transform() or transform().\n",
            "\n",
            "    norm : {'l1', 'l2'}, default='l2'\n",
            "        Each output row will have unit norm, either:\n",
            "\n",
            "        - 'l2': Sum of squares of vector elements is 1. The cosine\n",
            "          similarity between two vectors is their dot product when l2 norm has\n",
            "          been applied.\n",
            "        - 'l1': Sum of absolute values of vector elements is 1.\n",
            "          See :func:`preprocessing.normalize`.\n",
            "\n",
            "    use_idf : bool, default=True\n",
            "        Enable inverse-document-frequency reweighting. If False, idf(t) = 1.\n",
            "\n",
            "    smooth_idf : bool, default=True\n",
            "        Smooth idf weights by adding one to document frequencies, as if an\n",
            "        extra document was seen containing every term in the collection\n",
            "        exactly once. Prevents zero divisions.\n",
            "\n",
            "    sublinear_tf : bool, default=False\n",
            "        Apply sublinear tf scaling, i.e. replace tf with 1 + log(tf).\n",
            "\n",
            "    Attributes\n",
            "    ----------\n",
            "    vocabulary_ : dict\n",
            "        A mapping of terms to feature indices.\n",
            "\n",
            "    fixed_vocabulary_ : bool\n",
            "        True if a fixed vocabulary of term to indices mapping\n",
            "        is provided by the user.\n",
            "\n",
            "    idf_ : array of shape (n_features,)\n",
            "        The inverse document frequency (IDF) vector; only defined\n",
            "        if ``use_idf`` is True.\n",
            "\n",
            "    stop_words_ : set\n",
            "        Terms that were ignored because they either:\n",
            "\n",
            "          - occurred in too many documents (`max_df`)\n",
            "          - occurred in too few documents (`min_df`)\n",
            "          - were cut off by feature selection (`max_features`).\n",
            "\n",
            "        This is only available if no vocabulary was given.\n",
            "\n",
            "    See Also\n",
            "    --------\n",
            "    CountVectorizer : Transforms text into a sparse matrix of n-gram counts.\n",
            "\n",
            "    TfidfTransformer : Performs the TF-IDF transformation from a provided\n",
            "        matrix of counts.\n",
            "\n",
            "    Notes\n",
            "    -----\n",
            "    The ``stop_words_`` attribute can get large and increase the model size\n",
            "    when pickling. This attribute is provided only for introspection and can\n",
            "    be safely removed using delattr or set to None before pickling.\n",
            "\n",
            "    Examples\n",
            "    --------\n",
            "    >>> from sklearn.feature_extraction.text import TfidfVectorizer\n",
            "    >>> corpus = [\n",
            "    ...     'This is the first document.',\n",
            "    ...     'This document is the second document.',\n",
            "    ...     'And this is the third one.',\n",
            "    ...     'Is this the first document?',\n",
            "    ... ]\n",
            "    >>> vectorizer = TfidfVectorizer()\n",
            "    >>> X = vectorizer.fit_transform(corpus)\n",
            "    >>> vectorizer.get_feature_names_out()\n",
            "    array(['and', 'document', 'first', 'is', 'one', 'second', 'the', 'third',\n",
            "           'this'], ...)\n",
            "    >>> print(X.shape)\n",
            "    (4, 9)\n",
            "    \n"
          ]
        }
      ],
      "source": [
        "print(text.TfidfVectorizer.__doc__)"
      ]
    },
    {
      "cell_type": "code",
      "execution_count": null,
      "metadata": {
        "id": "H-fPVjYV-rRl"
      },
      "outputs": [],
      "source": [
        "tf = text.TfidfVectorizer()\n",
        "X = tf.fit_transform(df['Comment'])\n"
      ]
    },
    {
      "cell_type": "code",
      "source": [
        "X.shape"
      ],
      "metadata": {
        "id": "xUihdpHIgA7e",
        "outputId": "d11fc3cd-a2d8-492d-b928-c7b7fb65a30b",
        "colab": {
          "base_uri": "https://localhost:8080/"
        }
      },
      "execution_count": null,
      "outputs": [
        {
          "output_type": "execute_result",
          "data": {
            "text/plain": [
              "(3947, 16469)"
            ]
          },
          "metadata": {},
          "execution_count": 62
        }
      ]
    },
    {
      "cell_type": "markdown",
      "metadata": {
        "id": "pKgEXAZV-rRl"
      },
      "source": [
        "\n",
        "The TFIDF vectorizer uses a simple formula to assign a significance score to the\n",
        "count of each vocabulary item in each document. Our TFIDF matrix is stored in `X`.\n",
        "\n",
        "Say a word occurs n times in a document.\n",
        "TFIDF is a very popular measure of the significance of that fact\n",
        "first proven to be useful in\n",
        "document retrieval.  It has some competitors in classification, but\n",
        "we have used it here mainly because it's the easiest **feature weighting scheme**\n",
        "to use in `sklearn`."
      ]
    },
    {
      "cell_type": "code",
      "execution_count": null,
      "metadata": {
        "id": "4p8xlL7b-rRl",
        "outputId": "2bafedd6-9dca-4bd4-f001-35dc0ae64020",
        "colab": {
          "base_uri": "https://localhost:8080/"
        }
      },
      "outputs": [
        {
          "output_type": "stream",
          "name": "stdout",
          "text": [
            "Shape: (3,947 x 16,469)  Non-zero entries: 100,269\n"
          ]
        }
      ],
      "source": [
        "# Shape and Number of non zero entries\n",
        "print(f'Shape: ({X.shape[0]:,} x {X.shape[1]:,})  Non-zero entries: {X.nnz:,}')"
      ]
    },
    {
      "cell_type": "markdown",
      "metadata": {
        "id": "wfUbNDjt-rRm"
      },
      "source": [
        "There are 3,947 comments and 16,469 different words. Let's estimate the sparsity of this feature matrix."
      ]
    },
    {
      "cell_type": "code",
      "execution_count": null,
      "metadata": {
        "id": "7o8Oa6JP-rRm",
        "outputId": "ee212eae-c683-4f1a-91af-b5f6609a5cdb",
        "colab": {
          "base_uri": "https://localhost:8080/"
        }
      },
      "outputs": [
        {
          "output_type": "stream",
          "name": "stdout",
          "text": [
            "The document matrix X is ~0.15% non-zero features.\n"
          ]
        }
      ],
      "source": [
        "print((\"The document matrix X is ~{0:.2%} non-zero features.\".format(\n",
        "          X.nnz / float(X.shape[0] * X.shape[1]))))"
      ]
    },
    {
      "cell_type": "markdown",
      "metadata": {
        "id": "d4dXO87k-rRm"
      },
      "source": [
        "A `TdidfVectorizer` instance stores its `decode` dictionary in the attribute `vocabulary_` (note\n",
        "the trailing underscore!):"
      ]
    },
    {
      "cell_type": "code",
      "execution_count": null,
      "metadata": {
        "id": "_4DfZgRC-rRm",
        "outputId": "09582aae-556f-44d2-a510-79de8fa1e8c5",
        "colab": {
          "base_uri": "https://localhost:8080/"
        }
      },
      "outputs": [
        {
          "output_type": "execute_result",
          "data": {
            "text/plain": [
              "8704"
            ]
          },
          "metadata": {},
          "execution_count": 20
        }
      ],
      "source": [
        "tf.vocabulary_['moron']"
      ]
    },
    {
      "cell_type": "markdown",
      "metadata": {
        "id": "21HEUruW-rRm"
      },
      "source": [
        "The `sklearn` module stores many of its internally computed arrays as **sparse matrices**.  This is basically a \n",
        "very clever computer science device for not wasting all the space that very sparse matrices \n",
        "waste.  Natural language representations are often **quite** sparse.  The .15% non zero features\n",
        "firgure we just looked at was typical.  Sparse matrices come at a cost, however; although some\n",
        "computations can be done while the matrix is in sparse form, some cannot, and to do those\n",
        "you have to convert the matrix to a nonsparse matrix, do what you need to do, and then, probably,\n",
        "convert it back.  This is costly.  We're going to do it now, but only because we're goofing\n",
        "around. Conversion to non-sparse format should in general be avoided whenever possible."
      ]
    },
    {
      "cell_type": "code",
      "execution_count": null,
      "metadata": {
        "id": "s501JX4y-rRn"
      },
      "outputs": [],
      "source": [
        "XA = X.toarray()"
      ]
    },
    {
      "cell_type": "markdown",
      "metadata": {
        "id": "UlqPV8sk-rRn"
      },
      "source": [
        "Consider Tweet 3942:"
      ]
    },
    {
      "cell_type": "code",
      "execution_count": null,
      "metadata": {
        "id": "ozDJxuBt-rRn",
        "outputId": "a6f8f811-c479-47f6-8421-86c4ac082a31",
        "colab": {
          "base_uri": "https://localhost:8080/",
          "height": 35
        }
      },
      "outputs": [
        {
          "output_type": "execute_result",
          "data": {
            "text/plain": [
              "'\"you are both morons and that is never happening\"'"
            ],
            "application/vnd.google.colaboratory.intrinsic+json": {
              "type": "string"
            }
          },
          "metadata": {},
          "execution_count": 66
        }
      ],
      "source": [
        "insult_df.loc[3942]['Comment']"
      ]
    },
    {
      "cell_type": "markdown",
      "metadata": {
        "id": "83msbB2F-rRn"
      },
      "source": [
        "Ok, now we can check the TFIDF matrix for the statistic for `'moron'` in this tweet:"
      ]
    },
    {
      "cell_type": "code",
      "execution_count": null,
      "metadata": {
        "id": "pkOJ8G5l-rRn",
        "outputId": "9cccd939-c4aa-409e-b348-fbd3bb97b97d",
        "colab": {
          "base_uri": "https://localhost:8080/"
        }
      },
      "outputs": [
        {
          "output_type": "execute_result",
          "data": {
            "text/plain": [
              "0.0"
            ]
          },
          "metadata": {},
          "execution_count": 67
        }
      ],
      "source": [
        "XA[3942][8704]"
      ]
    },
    {
      "cell_type": "markdown",
      "metadata": {
        "id": "dwJGxnst-rRn"
      },
      "source": [
        "Oh, maybe we didn't learn that:"
      ]
    },
    {
      "cell_type": "code",
      "execution_count": null,
      "metadata": {
        "id": "ObsyKu1n-rRo",
        "outputId": "f86f533b-d307-419d-d490-5591405e8140",
        "colab": {
          "base_uri": "https://localhost:8080/"
        }
      },
      "outputs": [
        {
          "output_type": "execute_result",
          "data": {
            "text/plain": [
              "8707"
            ]
          },
          "metadata": {},
          "execution_count": 68
        }
      ],
      "source": [
        "tf.vocabulary_['morons']"
      ]
    },
    {
      "cell_type": "markdown",
      "metadata": {
        "id": "gmLm4OTm-rRo"
      },
      "source": [
        "Totally different word, found at a totally different place in XA:"
      ]
    },
    {
      "cell_type": "code",
      "execution_count": null,
      "metadata": {
        "id": "vKxndHoW-rRo",
        "outputId": "cbf0e90e-6653-4125-f28d-d6caade784df",
        "colab": {
          "base_uri": "https://localhost:8080/"
        }
      },
      "outputs": [
        {
          "output_type": "execute_result",
          "data": {
            "text/plain": [
              "0.5139224706716653"
            ]
          },
          "metadata": {},
          "execution_count": 69
        }
      ],
      "source": [
        "XA[3942][8707]"
      ]
    },
    {
      "cell_type": "markdown",
      "metadata": {
        "id": "k0wp6RbS-rRo"
      },
      "source": [
        "## Training"
      ]
    },
    {
      "cell_type": "markdown",
      "metadata": {
        "id": "88mG_1C0-rRo"
      },
      "source": [
        "Now, we are going to train a classifier as usual. We first split the data into a train and test set."
      ]
    },
    {
      "cell_type": "code",
      "execution_count": null,
      "metadata": {
        "id": "la2tlDoC-rRo"
      },
      "outputs": [],
      "source": [
        "am"
      ]
    },
    {
      "cell_type": "markdown",
      "metadata": {
        "id": "Xf-3XQDN-rRo"
      },
      "source": [
        "We use a **Bernoulli Naive Bayes classifier**."
      ]
    },
    {
      "cell_type": "code",
      "execution_count": null,
      "metadata": {
        "id": "uj7vvTS--rRo"
      },
      "outputs": [],
      "source": [
        "bnb =nb.BernoulliNB()\n",
        "\n",
        "bnb.fit(X_train, y_train);"
      ]
    },
    {
      "cell_type": "code",
      "execution_count": null,
      "metadata": {
        "id": "rewbP2vT-rRp",
        "outputId": "55c64683-5ada-4538-9d28-ee8b854e6ba3",
        "colab": {
          "base_uri": "https://localhost:8080/"
        }
      },
      "outputs": [
        {
          "output_type": "execute_result",
          "data": {
            "text/plain": [
              "0.730379746835443"
            ]
          },
          "metadata": {},
          "execution_count": 81
        }
      ],
      "source": [
        "bnb.score(X_test, y_test)"
      ]
    },
    {
      "cell_type": "markdown",
      "metadata": {
        "id": "p38bf79W-rRp"
      },
      "source": [
        "Now try re-executing the previous three cells.  The results shoudl be the same, right?\n",
        "\n",
        "Well, are they?  \n",
        "\n",
        "Ok, re-execute the same three cells again.  Now one more time.  Now try the following\n",
        "piece of code:"
      ]
    },
    {
      "cell_type": "markdown",
      "source": [
        "#### Basic train and test loop"
      ],
      "metadata": {
        "id": "r-bt36GeMpFW"
      }
    },
    {
      "cell_type": "code",
      "execution_count": null,
      "metadata": {
        "id": "hwsayH6F-rRp",
        "outputId": "a9f16658-90d0-4899-cd1e-3148ada56515",
        "colab": {
          "base_uri": "https://localhost:8080/"
        }
      },
      "outputs": [
        {
          "output_type": "stream",
          "name": "stdout",
          "text": [
            "0.7443037974683544\n",
            "0.7113924050632912\n",
            "0.739240506329114\n",
            "0.7316455696202532\n",
            "0.7367088607594937\n",
            "0.7544303797468355\n",
            "0.769620253164557\n",
            "0.7569620253164557\n",
            "0.7569620253164557\n",
            "0.7544303797468355\n"
          ]
        }
      ],
      "source": [
        "def split_and_fit(X,Y,test_size=.2):\n",
        "    (X_train, X_test,\n",
        "       y_train, y_test) = train_test_split(X, y,\n",
        "                                         test_size=test_size)\n",
        "    bnb = nb.BernoulliNB()\n",
        "    return bnb.fit(X_train, y_train),X_train, X_test, y_train,y_test\n",
        "\n",
        "num_runs = 10\n",
        "for test_run in range(num_runs):\n",
        "    clf, X_train, X_test, y_train,y_test = split_and_fit(X,y)\n",
        "    print('{0}'.format(clf.score(X_test, y_test)))"
      ]
    },
    {
      "cell_type": "markdown",
      "metadata": {
        "id": "PdxesQwr-rRp"
      },
      "source": [
        "What's happening?  How should we deal this with this when we report our evaluations?\n",
        "\n",
        "Explain the purpose of the code in the next cell."
      ]
    },
    {
      "cell_type": "markdown",
      "source": [
        "#### Refined train and test loop"
      ],
      "metadata": {
        "id": "R2SjpCsKMvfh"
      }
    },
    {
      "cell_type": "code",
      "execution_count": null,
      "metadata": {
        "id": "r3HVmOUb-rRp",
        "outputId": "7c2ac905-1389-4ff3-ae0a-0d448536bce9",
        "colab": {
          "base_uri": "https://localhost:8080/"
        }
      },
      "outputs": [
        {
          "output_type": "stream",
          "name": "stdout",
          "text": [
            "Accuracy 0.75\n",
            "Precision 0.16\n",
            "Recall 0.61\n",
            "Pct Insults 0.27\n"
          ]
        }
      ],
      "source": [
        "num_runs = 100\n",
        "#a_total = 0\n",
        "#p_total = 0\n",
        "#r_total = 0\n",
        "#insults_total = 0\n",
        "\n",
        "stats = np.zeros((4,))\n",
        "for test_run in range(num_runs):\n",
        "    clf, X_train, X_test, y_train,y_test = split_and_fit(X,y)\n",
        "    #score = clf.score(X_test, y_test)\n",
        "    predicted = clf.predict(X_test)\n",
        "    y_array = y_test.values\n",
        "    prop_insults = y_array.sum()/len(y_array)\n",
        "    stats = stats + np.array([clf.score(X_test, y_test),\n",
        "                              precision_score(predicted, y_test),\n",
        "                              recall_score(predicted, y_test),\n",
        "                              prop_insults])\n",
        "    #p_score = precision_score(predicted, y_test)\n",
        "    #r_score = recall_score(predicted, y_test)\n",
        "    #a_total += score\n",
        "    #p_total += p_score\n",
        "    #r_total += r_score\n",
        "    #insults_total += prop_insults\n",
        "normed_stats = stats/num_runs\n",
        "labels = ['Accuracy','Precision','Recall','Pct Insults']\n",
        "for (i,s) in enumerate(normed_stats):\n",
        "    print(f'{labels[i]} {s:.2f}')\n",
        "#print('Accuracy {:.2%}'.format(a_total/num_runs))\n",
        "#print('Precision {:.2%}'.format(p_total/num_runs))\n",
        "#print('Recall {:.2%}'.format(r_total/num_runs))\n",
        "#print('Avg Pct Insults {:.2%}'.format(insults_total/num_runs))"
      ]
    },
    {
      "cell_type": "markdown",
      "metadata": {
        "id": "cvxe-F1n-rRp"
      },
      "source": [
        "Let's take a look at the words corresponding to the largest coefficients (the words we find frequently in insulting comments)."
      ]
    },
    {
      "cell_type": "code",
      "execution_count": null,
      "metadata": {
        "id": "sH4qNRcD-rRq",
        "outputId": "b4ad438e-854c-488f-95ca-32e93f270f8e"
      },
      "outputs": [
        {
          "data": {
            "text/plain": [
              "['__abstractmethods__',\n",
              " '__class__',\n",
              " '__delattr__',\n",
              " '__dict__',\n",
              " '__dir__',\n",
              " '__doc__',\n",
              " '__eq__',\n",
              " '__format__',\n",
              " '__ge__',\n",
              " '__getattribute__',\n",
              " '__getstate__',\n",
              " '__gt__',\n",
              " '__hash__',\n",
              " '__init__',\n",
              " '__init_subclass__',\n",
              " '__le__',\n",
              " '__lt__',\n",
              " '__module__',\n",
              " '__ne__',\n",
              " '__new__',\n",
              " '__reduce__',\n",
              " '__reduce_ex__',\n",
              " '__repr__',\n",
              " '__setattr__',\n",
              " '__setstate__',\n",
              " '__sizeof__',\n",
              " '__str__',\n",
              " '__subclasshook__',\n",
              " '__weakref__',\n",
              " '_abc_impl',\n",
              " '_check_X',\n",
              " '_check_X_y',\n",
              " '_check_alpha',\n",
              " '_check_n_features',\n",
              " '_count',\n",
              " '_estimator_type',\n",
              " '_get_param_names',\n",
              " '_get_tags',\n",
              " '_init_counters',\n",
              " '_joint_log_likelihood',\n",
              " '_more_tags',\n",
              " '_repr_html_',\n",
              " '_repr_html_inner',\n",
              " '_repr_mimebundle_',\n",
              " '_update_class_log_prior',\n",
              " '_update_feature_log_prob',\n",
              " '_validate_data',\n",
              " 'alpha',\n",
              " 'binarize',\n",
              " 'class_count_',\n",
              " 'class_log_prior_',\n",
              " 'class_prior',\n",
              " 'classes_',\n",
              " 'coef_',\n",
              " 'feature_count_',\n",
              " 'feature_log_prob_',\n",
              " 'fit',\n",
              " 'fit_prior',\n",
              " 'get_params',\n",
              " 'intercept_',\n",
              " 'n_features_',\n",
              " 'n_features_in_',\n",
              " 'partial_fit',\n",
              " 'predict',\n",
              " 'predict_log_proba',\n",
              " 'predict_proba',\n",
              " 'score',\n",
              " 'set_params']"
            ]
          },
          "execution_count": 40,
          "metadata": {},
          "output_type": "execute_result"
        }
      ],
      "source": [
        "dir(bnb)"
      ]
    },
    {
      "cell_type": "code",
      "execution_count": null,
      "metadata": {
        "id": "KhhtIfMM-rRq",
        "outputId": "3904c505-6a7c-41dd-fead-de21ca4f129a"
      },
      "outputs": [
        {
          "data": {
            "text/plain": [
              "(2, 16469)"
            ]
          },
          "execution_count": 42,
          "metadata": {},
          "output_type": "execute_result"
        }
      ],
      "source": [
        "bnb.feature_count_.shape"
      ]
    },
    {
      "cell_type": "code",
      "execution_count": null,
      "metadata": {
        "id": "YbVBZK00-rRq",
        "outputId": "24d727af-ba6c-4063-cb6b-e3d2211cd47e"
      },
      "outputs": [
        {
          "name": "stdout",
          "output_type": "stream",
          "text": [
            "(16469,)\n",
            "you,your,are,to,the,and,of,that,is,it,in,like,on,have,for,not,just,re,an,xa0,all,idiot,with,what,be,fuck,so,don,get,this,up,go,do,no,as,stupid,but,can,or,know,if,because,about,ass,bitch,who,back,little,here,my\n"
          ]
        },
        {
          "name": "stderr",
          "output_type": "stream",
          "text": [
            "/Users/gawron/opt/anaconda3/lib/python3.7/site-packages/sklearn/utils/deprecation.py:101: FutureWarning: Attribute coef_ was deprecated in version 0.24 and will be removed in 1.1 (renaming of 0.26).\n",
            "  warnings.warn(msg, category=FutureWarning)\n"
          ]
        }
      ],
      "source": [
        "# We first get the words corresponding to each feature.\n",
        "names = np.asarray(tf.get_feature_names())\n",
        "# Next, we display the 50 words with the largest\n",
        "# coefficients.\n",
        "# NB Wajnt to switch over to using bnb.feature_count_.shape[0]\n",
        "coefficient_matrix = bnb.coef_[0,:]\n",
        "print(coefficient_matrix.shape)\n",
        "# Sorting gives us smallest first, we reverse the order and take top 50\n",
        "top_fifty_feat_indices = np.argsort(coefficient_matrix)[::-1][:50]\n",
        "print((','.join(names[top_fifty_feat_indices])))"
      ]
    },
    {
      "cell_type": "markdown",
      "metadata": {
        "id": "X0th-hPo-rRq"
      },
      "source": [
        "Finally, let's test our estimator on a few test sentences.\n"
      ]
    },
    {
      "cell_type": "code",
      "execution_count": null,
      "metadata": {
        "id": "9PkNvp0m-rRq",
        "outputId": "7a675e1b-5ac0-4a7c-fad6-94346973bf87"
      },
      "outputs": [
        {
          "name": "stdout",
          "output_type": "stream",
          "text": [
            "[0 0 0]\n"
          ]
        }
      ],
      "source": [
        "predicted = bnb.predict(tf.transform([\n",
        "    \"I totally agree with you.\",\n",
        "    \"You are so stupid.\",\n",
        "    \"I love you.\"\n",
        "    ]))\n",
        "\n",
        "print(predicted)"
      ]
    },
    {
      "cell_type": "code",
      "execution_count": null,
      "metadata": {
        "id": "45IEP284-rRr",
        "outputId": "8c2af7c5-3368-410a-e41d-3e5e6cba05c9"
      },
      "outputs": [
        {
          "name": "stdout",
          "output_type": "stream",
          "text": [
            "[0 0 0]\n",
            "1768    0\n",
            "2378    0\n",
            "350     1\n",
            "Name: Insult, dtype: int64\n"
          ]
        }
      ],
      "source": [
        "print(predicted)\n",
        "print(y_test[:3])"
      ]
    },
    {
      "cell_type": "markdown",
      "metadata": {
        "id": "HoYRjj7n-rRr"
      },
      "source": [
        "Not real impressive.  The word *stupid* was not recognized as an insult."
      ]
    },
    {
      "cell_type": "markdown",
      "metadata": {
        "id": "PD0NyUZm-rRr"
      },
      "source": [
        "> You'll find all the explanations, figures, references, and much more in the book (to be released later this summer).\n",
        "\n",
        "> [IPython Cookbook](http://ipython-books.github.io/), by [Cyrille Rossant](http://cyrille.rossant.net), Packt Publishing, 2014 (500 pages)."
      ]
    },
    {
      "cell_type": "code",
      "execution_count": null,
      "metadata": {
        "id": "nYQikcgv-rRr",
        "outputId": "cb5278de-0a7d-4c67-8a6a-8a1a9805c703"
      },
      "outputs": [
        {
          "name": "stdout",
          "output_type": "stream",
          "text": [
            "[0 0 0]\n"
          ]
        }
      ],
      "source": [
        "print((bnb.predict(tf.transform([ \"I totally agree with you.\", \"You are so stupid.\", \"I love you.\" ]))))"
      ]
    },
    {
      "cell_type": "markdown",
      "metadata": {
        "collapsed": true,
        "id": "zaE0KDK5-rRr"
      },
      "source": [
        "## Homework"
      ]
    },
    {
      "cell_type": "markdown",
      "metadata": {
        "id": "Fg50G61U-rRr"
      },
      "source": [
        "Read the on line book draft chapter about doing the movie review data,\n",
        "and try the clasifier used there, an SVM, on this data.  Be sure\n",
        "top stick with the scikit learn (it has an SVM implementation).\n",
        "\n",
        "Show your code, and print out results.  Which classifier does better?"
      ]
    },
    {
      "cell_type": "markdown",
      "source": [
        "#### Help with getting the movie reviews data.\n",
        "\n",
        "Execute the next two cells."
      ],
      "metadata": {
        "id": "Z_wazBGWTsS4"
      }
    },
    {
      "cell_type": "code",
      "execution_count": 2,
      "metadata": {
        "collapsed": true,
        "id": "xvlkaI1x-rRr",
        "colab": {
          "base_uri": "https://localhost:8080/"
        },
        "outputId": "ab609213-17bd-4d7f-9ccc-fe4097e6f476"
      },
      "outputs": [
        {
          "output_type": "stream",
          "name": "stdout",
          "text": [
            "[nltk_data] Downloading package movie_reviews to /root/nltk_data...\n",
            "[nltk_data]   Unzipping corpora/movie_reviews.zip.\n"
          ]
        },
        {
          "output_type": "execute_result",
          "data": {
            "text/plain": [
              "True"
            ]
          },
          "metadata": {},
          "execution_count": 2
        }
      ],
      "source": [
        "import nltk\n",
        "nltk.download('movie_reviews')"
      ]
    },
    {
      "cell_type": "code",
      "source": [
        "from nltk.corpus import movie_reviews as mr\n",
        "\n",
        "def get_get_file_strings (corpus, file_ids):\n",
        "    return [corpus.words(file_id) for file_id in file_ids]\n",
        "\n",
        "data = dict(pos = mr.fileids('pos'),\n",
        "            neg = mr.fileids('neg'))\n",
        "\n",
        "pos_file_ids = data['pos']\n",
        "neg_file_ids = data['neg']\n",
        "\n",
        "pos_file_ids[:5]"
      ],
      "metadata": {
        "colab": {
          "base_uri": "https://localhost:8080/"
        },
        "id": "8nQdcr4aH_dP",
        "outputId": "6603acbf-0e6c-40fb-e64a-9bce8165b72e"
      },
      "execution_count": 13,
      "outputs": [
        {
          "output_type": "execute_result",
          "data": {
            "text/plain": [
              "['pos/cv000_29590.txt',\n",
              " 'pos/cv001_18431.txt',\n",
              " 'pos/cv002_15918.txt',\n",
              " 'pos/cv003_11664.txt',\n",
              " 'pos/cv004_11636.txt']"
            ]
          },
          "metadata": {},
          "execution_count": 13
        }
      ]
    },
    {
      "cell_type": "markdown",
      "source": [
        "This illustrates how to get all the positive reviews."
      ],
      "metadata": {
        "id": "U6BWtGUNT5_b"
      }
    },
    {
      "cell_type": "code",
      "source": [
        "pos_file_reviews = get_get_file_strings (mr, pos_file_ids)\n",
        "neg_file_reviews = get_get_file_strings (mr, neg_file_ids)\n"
      ],
      "metadata": {
        "id": "nDg_8NcmI77o"
      },
      "execution_count": 14,
      "outputs": []
    },
    {
      "cell_type": "code",
      "source": [
        "# First 20 words of first positive review\n",
        "print(pos_file_reviews[0][:20])\n",
        "print()\n",
        "# First 20 words of second positive review\n",
        "print(pos_file_reviews[1][:20])\n"
      ],
      "metadata": {
        "colab": {
          "base_uri": "https://localhost:8080/"
        },
        "id": "diRDvugvJOCp",
        "outputId": "817531f9-7bc1-4fc9-9697-5c000328bd7a"
      },
      "execution_count": 15,
      "outputs": [
        {
          "output_type": "stream",
          "name": "stdout",
          "text": [
            "['films', 'adapted', 'from', 'comic', 'books', 'have', 'had', 'plenty', 'of', 'success', ',', 'whether', 'they', \"'\", 're', 'about', 'superheroes', '(', 'batman', ',']\n",
            "\n",
            "['every', 'now', 'and', 'then', 'a', 'movie', 'comes', 'along', 'from', 'a', 'suspect', 'studio', ',', 'with', 'every', 'indication', 'that', 'it', 'will', 'be']\n"
          ]
        }
      ]
    },
    {
      "cell_type": "code",
      "source": [
        ""
      ],
      "metadata": {
        "id": "cMoaCLnGJZwM"
      },
      "execution_count": null,
      "outputs": []
    },
    {
      "cell_type": "markdown",
      "source": [
        "After executing the code above, the names `pos_file_reviews` and `neg_file_reviews` each contain a list of reviews.  Each review is a list of words.  A list of word lists like `pos_file_reviews`  can be passed to `text.TfidfVectorizer()` via the `fit_transform` method to train a vectorizer for machine learning.\n",
        "\n",
        "Just remember when testing the trained vectorizer use\n",
        "`transform` in place of `fit_transform`.\n",
        "\n",
        "What you will need to do to train the classifier (call it `clf`) is pass the matrix of vectorized training data\n",
        "(you will call `X`) to `clf`'s\n",
        "`fit(...)` method, along with an aligned sequence\n",
        "of labels `y`.  By saying the two sequences are aligned, I mean this:  `X[i][:]` is the vector representation for a review that has the class \n",
        "`y[i]`.\n",
        "\n",
        "The steps  are\n",
        "\n",
        "1.  Create training data: a sequence of reviews (the code above did this) and an aligned sequence of review labels(each label is either `pos` or `neg`)  The training sequence should be a balanced mix of positive and negative reviews.\n",
        "\n",
        "2.  Same procedure to create test data. Use 9 times as many training documents as test documnts (1000 positive reviews  + 1000 negative reviews means 1800 training examples and 200 test examples).\n",
        "\n",
        "3.  Train and test the models multiple times and take the averege precision. recall and accuracy scores as the measure of your model's performance. The cells above labeled **Training and Test loops** illustrate this step.\n",
        "\n",
        "\n",
        "The code cell below illustrates one way of \n",
        "getting randomly mixed data with\n",
        "aligned labels (steps 1 and 2)\n",
        "\n",
        "#### Help with steps 1 and 2"
      ],
      "metadata": {
        "id": "_PY6_uHMJvqC"
      }
    },
    {
      "cell_type": "code",
      "source": [
        "# Lets work on letters instead of documents\n",
        "# There are 2 classes, letters from the first half of the\n",
        "# alphabet ('f') and letters frmm the last half ('l')\n",
        "\n",
        "from random import shuffle\n",
        "from string import ascii_lowercase\n",
        "f_lets = ascii_lowercase[:13]\n",
        "print(f_lets)\n",
        "l_lets = ascii_lowercase[13:]\n",
        "print(l_lets)\n",
        "f_pairs = [(let,'f') for let in f_lets]\n",
        "l_pairs = [(let,'l') for let in l_lets]\n",
        "# Way too orderly, the classes arent mixed yet.\n",
        "data = f_pairs + l_pairs\n",
        "shuffle(data)\n",
        "prepared_data, prepared_labels = zip(*data)\n",
        "print(prepared_data)\n",
        "print(prepared_labels)"
      ],
      "metadata": {
        "colab": {
          "base_uri": "https://localhost:8080/"
        },
        "id": "ZCdgmoToRV8z",
        "outputId": "13bdbe23-796e-44db-90e6-abd0277a6bed"
      },
      "execution_count": 12,
      "outputs": [
        {
          "output_type": "stream",
          "name": "stdout",
          "text": [
            "abcdefghijklm\n",
            "nopqrstuvwxyz\n",
            "('l', 'g', 'u', 'b', 'f', 'e', 'n', 'o', 'j', 'v', 'x', 'q', 's', 'k', 'a', 'c', 'p', 'm', 'z', 'r', 'd', 'y', 't', 'h', 'w', 'i')\n",
            "('f', 'f', 'l', 'f', 'f', 'f', 'l', 'l', 'f', 'l', 'l', 'l', 'l', 'f', 'f', 'f', 'l', 'f', 'l', 'l', 'f', 'l', 'l', 'f', 'l', 'f')\n"
          ]
        }
      ]
    },
    {
      "cell_type": "markdown",
      "source": [
        "###  Summary for step 3:  The basic training of the vectorizer and the classifier."
      ],
      "metadata": {
        "id": "_hXTXN1JRMmg"
      }
    },
    {
      "cell_type": "code",
      "source": [
        "# what we did above\n",
        "#tf = text.TfidfVectorizer()\n",
        "#X = tf.fit_transform(df['Comment'])\n",
        "\n",
        "#Edit the next line to train your TFIDF vectorizer\n",
        "# of you training set\n",
        "#X = tf.fit_transform(...)"
      ],
      "metadata": {
        "id": "K6xFV_jtKqHe"
      },
      "execution_count": null,
      "outputs": []
    }
  ],
  "metadata": {
    "kernelspec": {
      "display_name": "Python 3",
      "language": "python",
      "name": "python3"
    },
    "language_info": {
      "codemirror_mode": {
        "name": "ipython",
        "version": 3
      },
      "file_extension": ".py",
      "mimetype": "text/x-python",
      "name": "python",
      "nbconvert_exporter": "python",
      "pygments_lexer": "ipython3",
      "version": "3.7.0"
    },
    "toc": {
      "base_numbering": 1,
      "nav_menu": {
        "height": "94px",
        "width": "252px"
      },
      "number_sections": true,
      "sideBar": true,
      "skip_h1_title": false,
      "title_cell": "Table of Contents",
      "title_sidebar": "Contents",
      "toc_cell": false,
      "toc_position": {},
      "toc_section_display": "block",
      "toc_window_display": false
    },
    "colab": {
      "name": "Insults_with_Naive_Bayes.ipynb",
      "provenance": []
    }
  },
  "nbformat": 4,
  "nbformat_minor": 0
}