{
 "cells": [
  {
   "cell_type": "code",
   "execution_count": null,
   "id": "9a4b35f0",
   "metadata": {},
   "outputs": [],
   "source": []
  },
  {
   "cell_type": "markdown",
   "id": "257ca45c",
   "metadata": {},
   "source": [
    "# Function Creation"
   ]
  },
  {
   "cell_type": "markdown",
   "id": "e4cc731a",
   "metadata": {},
   "source": [
    "### Motivating example"
   ]
  },
  {
   "cell_type": "markdown",
   "id": "68ee4d3b",
   "metadata": {},
   "source": [
    "The first reason to write a function is to avoid repeating code.\n",
    "\n",
    "The next two code cells contain code snippets that do the same thing to slightly different data.  First, see if you can explain what that thing is.\n",
    "\n",
    "The third code cell abstracts the shared code into a function.  See if you can\n",
    "guess what the function will look like before you get to the third cell.\n"
   ]
  },
  {
   "cell_type": "markdown",
   "id": "62e12525",
   "metadata": {},
   "source": [
    "### snippet #1"
   ]
  },
  {
   "cell_type": "code",
   "execution_count": 8,
   "id": "dbff2586",
   "metadata": {},
   "outputs": [],
   "source": [
    "from urllib.request import urlopen\n",
    "\n",
    "# This is the Iliad\n",
    "with urlopen('https://www.gutenberg.org/cache/epub/6130/pg6130.txt') as iliad_page:\n",
    "    iliad_bytes = iliad_page.read()\n",
    "\n",
    "iliad = iliad_bytes.decode('utf-8')\n",
    "iliad_words = iliad.split()\n",
    "iliad_vocab = set(iliad_words)"
   ]
  },
  {
   "cell_type": "markdown",
   "id": "9c0a801b",
   "metadata": {},
   "source": [
    "### snippet #2"
   ]
  },
  {
   "cell_type": "code",
   "execution_count": 9,
   "id": "2f346b50",
   "metadata": {},
   "outputs": [],
   "source": [
    "from urllib.request import urlopen\n",
    "\n",
    "# This is the odyssey\n",
    "with urlopen('https://www.gutenberg.org/cache/epub/1727/pg1727.txt') as odyssey_page:\n",
    "    odyssey_bytes = odyssey_page.read()\n",
    "    \n",
    "odyssey = odyssey_bytes.decode('utf-8')\n",
    "odyssey_words = odyssey.split()\n",
    "odyssey_vocab = set(odyssey_words)"
   ]
  },
  {
   "cell_type": "markdown",
   "id": "1d024563",
   "metadata": {},
   "source": [
    "Next try to articulate to the task that both these code snippers perform.  The answer is in a markup (text) cell a few cells down."
   ]
  },
  {
   "cell_type": "code",
   "execution_count": null,
   "id": "78486dad",
   "metadata": {},
   "outputs": [],
   "source": []
  },
  {
   "cell_type": "code",
   "execution_count": null,
   "id": "f3b2a28e",
   "metadata": {},
   "outputs": [],
   "source": []
  },
  {
   "cell_type": "code",
   "execution_count": null,
   "id": "4213a38f",
   "metadata": {},
   "outputs": [],
   "source": []
  },
  {
   "cell_type": "code",
   "execution_count": null,
   "id": "931c0de0",
   "metadata": {},
   "outputs": [],
   "source": []
  },
  {
   "cell_type": "code",
   "execution_count": null,
   "id": "9beb92cc",
   "metadata": {},
   "outputs": [],
   "source": []
  },
  {
   "cell_type": "code",
   "execution_count": null,
   "id": "3e8cfb32",
   "metadata": {},
   "outputs": [],
   "source": []
  },
  {
   "cell_type": "code",
   "execution_count": null,
   "id": "a7440825",
   "metadata": {},
   "outputs": [],
   "source": []
  },
  {
   "cell_type": "markdown",
   "id": "bd2f666a",
   "metadata": {},
   "source": [
    "Description A: **The code snippets extract the vocabulary from a url. If we wanted to write a function that performs that task, the function would take a url string as its input and it would return a set of words.**\n",
    "\n",
    "Note that the page at that url address needs to contain text encoded in UTF-8 in order for\n",
    "the code to give the expected result.  This is why pages on `gutenberg.org` were\n",
    "chosen.\n",
    "\n",
    "There are other possible answers you could have come up with.  You might have said.\n",
    "\n",
    "Description B:  **The code snippets extract the vocabulary from a gutenberg.org book. If we wanted to write a function that performed that task, it could take a gutenberg\n",
    "document number as its input and return a set of words.**\n"
   ]
  },
  {
   "cell_type": "markdown",
   "id": "8d4ea37e",
   "metadata": {},
   "source": [
    "Next try to write a function that does what the code snippets do, consistent\n",
    "with the description in Description A.\n",
    "\n",
    "You can start by copying and pasting one of the snippets and indenting it\n",
    "under:\n",
    "\n",
    "```\n",
    "def <function_name> (<parameters>):\n",
    "```\n",
    "\n",
    "but you will have to chose a legal function name, supply the parameters for the function,\n",
    "and change the code snippet.\n",
    "\n",
    "There are two things to think about:\n",
    "\n",
    "1.  What the parameters (input) of the function will be.\n",
    "2.  What the function returns\n",
    "\n",
    "The answer is a few cells down."
   ]
  },
  {
   "cell_type": "code",
   "execution_count": null,
   "id": "d4fbbfb7",
   "metadata": {},
   "outputs": [],
   "source": []
  },
  {
   "cell_type": "code",
   "execution_count": null,
   "id": "66c2575c",
   "metadata": {},
   "outputs": [],
   "source": []
  },
  {
   "cell_type": "code",
   "execution_count": null,
   "id": "4a35dbb9",
   "metadata": {},
   "outputs": [],
   "source": []
  },
  {
   "cell_type": "code",
   "execution_count": null,
   "id": "63e9fdb0",
   "metadata": {},
   "outputs": [],
   "source": []
  },
  {
   "cell_type": "code",
   "execution_count": null,
   "id": "a35071e0",
   "metadata": {},
   "outputs": [],
   "source": []
  },
  {
   "cell_type": "code",
   "execution_count": null,
   "id": "7ab4b668",
   "metadata": {},
   "outputs": [],
   "source": []
  },
  {
   "cell_type": "code",
   "execution_count": null,
   "id": "27a88b43",
   "metadata": {},
   "outputs": [],
   "source": []
  },
  {
   "cell_type": "code",
   "execution_count": 60,
   "id": "00935006",
   "metadata": {},
   "outputs": [],
   "source": [
    "from urllib.request import urlopen\n",
    "\n",
    "def extract_vocab_from_text_url(url):\n",
    "    with urlopen(url) as page:\n",
    "        page_bytes = page.read()\n",
    "    page_text = page_bytes.decode('utf-8')\n",
    "    words = page_text.split()\n",
    "    return set(words)"
   ]
  },
  {
   "cell_type": "markdown",
   "id": "29b674f3",
   "metadata": {},
   "source": [
    "We decided the function would input a url string and output the vocabulary set found\n",
    "at that url. The snippet the above function definition evolved from is:\n",
    "\n",
    "```\n",
    "with urlopen('https://www.gutenberg.org/cache/epub/1727/pg1727.txt') as odyssey_page:\n",
    "    odyssey_bytes = odyssey_page.read()\n",
    "odyssey = odyssey_bytes.decode('utf-8')\n",
    "odyssey_words = odyssey.split()\n",
    "odyssey_vocab = set(odyssey_words)\n",
    "```\n",
    "\n",
    "Note all the name changes in the code and make sure you understand them. Make sure\n",
    "you understand the need to use `return` in the last line. Notice\n",
    "the necessary import statement was included in the cell defining\n",
    "the function.  It is good practice when defining functions to declare\n",
    "all its dependencies explicitly and place them nearby the function definition.\n",
    "\n",
    "Let's apply this function to our previous examples to show the benefits of our work."
   ]
  },
  {
   "cell_type": "code",
   "execution_count": 25,
   "id": "0f78238a",
   "metadata": {},
   "outputs": [],
   "source": [
    "odyssey_vocab = \\\n",
    "   extract_vocab_from_text_url('https://www.gutenberg.org/cache/epub/1727/pg1727.txt')\n",
    "iliad_vocab = \\\n",
    "   extract_vocab_from_text_url('https://www.gutenberg.org/cache/epub/6130/pg6130.txt')"
   ]
  },
  {
   "cell_type": "markdown",
   "id": "0e8dcaa7",
   "metadata": {},
   "source": [
    "We demonstrate the function gets different results with different arguments (this is a good way of checking you made all the necessary name changes when you defined the function)."
   ]
  },
  {
   "cell_type": "code",
   "execution_count": 26,
   "id": "0e06c0b7",
   "metadata": {},
   "outputs": [
    {
     "data": {
      "text/plain": [
       "(14219, 27079)"
      ]
     },
     "execution_count": 26,
     "metadata": {},
     "output_type": "execute_result"
    }
   ],
   "source": [
    "len(odyssey_vocab),len(iliad_vocab)"
   ]
  },
  {
   "cell_type": "markdown",
   "id": "6beec71f",
   "metadata": {},
   "source": [
    "Note: This is kind of a noteworthy result.  *The Iliad* is about 16K lines,\n",
    "and and *The Odyssey* about 12K lines,  so it's interesting that the vocabulary size\n",
    "of *The Iliad* is so much greater.  If you know anything about the stories,\n",
    "you might be able think of some story-specific reasons for this."
   ]
  },
  {
   "cell_type": "markdown",
   "id": "66c6ab57",
   "metadata": {},
   "source": [
    "# Exercise 1"
   ]
  },
  {
   "cell_type": "markdown",
   "id": "b7eb507b",
   "metadata": {},
   "source": [
    "Here are two code snippets. \n",
    "\n",
    "1.  Write a description of what they do.\n",
    "2.  Write a function that does what the code snippets do, consistent with your description of what they do.\n",
    "3.  Test it by calling it on the appropriate arguments to reproduce what snippet #1\n",
    "and snippet #2 do.  Check to see the results are different."
   ]
  },
  {
   "cell_type": "code",
   "execution_count": null,
   "id": "d57c11e5",
   "metadata": {},
   "outputs": [],
   "source": [
    "# Snippet 1\n",
    "\n",
    "emails = \\\n",
    "\"\"\"\n",
    "johnson,fred      fjohnson@gmail.com\n",
    "clark,kenneth     kclark223@gmail.com\n",
    "rotsler,elaine    er337@apple.com\n",
    "smith,howard      hgs@yahoo.com\n",
    "\"\"\"\n",
    "\n",
    "email_dict = dict()\n",
    "for line in emails.split(\"\\n\"):\n",
    "    name,email = line.split()\n",
    "    email_dict[name] = email"
   ]
  },
  {
   "cell_type": "code",
   "execution_count": null,
   "id": "ce319041",
   "metadata": {},
   "outputs": [],
   "source": [
    "# Snippet 2\n",
    "\n",
    "tel_nums = \\\n",
    "\"\"\"\n",
    "johnson,fred      619-564-7789\n",
    "clark,kenneth     858-915-5460\n",
    "rotsler,elaine    858-276-1990\n",
    "smith,howard      619-352-9911\n",
    "\"\"\"\n",
    "\n",
    "dd = dict()\n",
    "for pair in tel_nums.split(\"\\n\"):\n",
    "    name,num = pair.split()\n",
    "    dd[name] = num"
   ]
  },
  {
   "cell_type": "markdown",
   "id": "42ffb5a6",
   "metadata": {},
   "source": [
    "Put your description of the function in the cell below.  Be sure to say what the input of the function is and what it returns.  And be sure to write a function consistent with your\n",
    "description.  Remember: You have to double click on a text (markup) cell to edit it."
   ]
  },
  {
   "cell_type": "markdown",
   "id": "78d30717",
   "metadata": {},
   "source": [
    "[Description goes here.]"
   ]
  },
  {
   "cell_type": "code",
   "execution_count": null,
   "id": "a43d7afa",
   "metadata": {},
   "outputs": [],
   "source": [
    "#Put your definition of the function here"
   ]
  },
  {
   "cell_type": "code",
   "execution_count": null,
   "id": "9ed39b4a",
   "metadata": {},
   "outputs": [],
   "source": [
    "#Test your function on the email data and the telephone number data."
   ]
  },
  {
   "cell_type": "markdown",
   "id": "dbdeebb5",
   "metadata": {},
   "source": [
    "# Exercise 2"
   ]
  },
  {
   "cell_type": "markdown",
   "id": "165078fd",
   "metadata": {},
   "source": [
    "Here are two more code snippets. \n",
    "\n",
    "1.  Write a description of what they do.\n",
    "2.  Write a function that does what the code snippets do, consistent with your description of what they do.\n",
    "3.  Test it by calling it on the appropriate arguments to reproduce what snippet #1\n",
    "and snippet #2 do.  Check to see the results are different."
   ]
  },
  {
   "cell_type": "code",
   "execution_count": 13,
   "id": "e6e20a17",
   "metadata": {},
   "outputs": [
    {
     "data": {
      "text/plain": [
       "['apple',\n",
       " 'bib',\n",
       " 'demon',\n",
       " 'dint',\n",
       " 'hoard',\n",
       " 'lapel',\n",
       " 'mongoose',\n",
       " 'navel',\n",
       " 'ram',\n",
       " 'slake',\n",
       " 'yolk']"
      ]
     },
     "execution_count": 13,
     "metadata": {},
     "output_type": "execute_result"
    }
   ],
   "source": [
    "# Snippet #1\n",
    "\n",
    "L1 = \"demon navel hoard ram bib apple\".split()\n",
    "L2 = \"yolk lapel dint mongoose slake\".split()\n",
    "\n",
    "sorted(L1 + L2)"
   ]
  },
  {
   "cell_type": "code",
   "execution_count": 14,
   "id": "a4fc3afc",
   "metadata": {},
   "outputs": [
    {
     "data": {
      "text/plain": [
       "['April',\n",
       " 'February',\n",
       " 'January',\n",
       " 'March',\n",
       " 'May',\n",
       " 'apple',\n",
       " 'banana',\n",
       " 'cherry',\n",
       " 'mango',\n",
       " 'orange']"
      ]
     },
     "execution_count": 14,
     "metadata": {},
     "output_type": "execute_result"
    }
   ],
   "source": [
    "# Snippet # 2\n",
    "\n",
    "fruits = ['cherry', 'banana', 'apple', 'orange','mango']\n",
    "months = ['January', 'February', 'March', 'April','May']\n",
    "\n",
    "sorted(fruits + months)"
   ]
  },
  {
   "cell_type": "markdown",
   "id": "dabd3545",
   "metadata": {},
   "source": [
    "Put your description of the function in the cell below.  Be sure to say what the input of the function is and what it returns.  "
   ]
  },
  {
   "cell_type": "markdown",
   "id": "02f5135e",
   "metadata": {},
   "source": [
    "[Description goes here.]"
   ]
  },
  {
   "cell_type": "code",
   "execution_count": 11,
   "id": "274880dd",
   "metadata": {},
   "outputs": [],
   "source": [
    "# Function definition goes after this line."
   ]
  },
  {
   "cell_type": "code",
   "execution_count": null,
   "id": "6d7d3408",
   "metadata": {},
   "outputs": [],
   "source": [
    "#Test your function on the fruits data and the months data."
   ]
  },
  {
   "cell_type": "markdown",
   "id": "41372087",
   "metadata": {},
   "source": [
    "# Exercise 3"
   ]
  },
  {
   "cell_type": "markdown",
   "id": "5c944579",
   "metadata": {},
   "source": [
    "Go back to the motivating example.  Now write and test a function consistent\n",
    "with description B of what the code snippets do. The new function should take a Gutenberg document number as its input and return a set of words. Call it `extract_vocab_from_gutenberg_doc`.\n",
    "\n",
    "Hint:  Use an f-string."
   ]
  },
  {
   "cell_type": "markdown",
   "id": "44e5710f",
   "metadata": {},
   "source": [
    "Put your description of the function in the cell below.  Be sure to say what the input of the function is and what it returns.  And be sure to write a function consistent with your\n",
    "description."
   ]
  },
  {
   "cell_type": "code",
   "execution_count": null,
   "id": "941064a0",
   "metadata": {},
   "outputs": [],
   "source": [
    "# Function defintion goes after this line"
   ]
  },
  {
   "cell_type": "code",
   "execution_count": 12,
   "id": "6af186f4",
   "metadata": {},
   "outputs": [],
   "source": [
    "# Test your function on the appropriate arguments using *with "
   ]
  },
  {
   "cell_type": "code",
   "execution_count": null,
   "id": "43033a6b",
   "metadata": {},
   "outputs": [],
   "source": []
  },
  {
   "cell_type": "markdown",
   "id": "b54c9a21",
   "metadata": {},
   "source": [
    "# Exercise 4"
   ]
  },
  {
   "cell_type": "markdown",
   "id": "b0b3368c",
   "metadata": {},
   "source": [
    "Write function that takes as its arguments two url strings and returns the vocabulary set common to both urls.\n",
    "\n",
    "As an example, suppose we have two URLs containing the following very short texts:\n",
    "\n",
    "```\n",
    "url1: cats dogs urchin\n",
    "url2: dogs my trail\n",
    "```\n",
    "\n",
    "Then this is the behavior we want:\n",
    "\n",
    "```\n",
    ">>> extract_shared_vocab_from_text_urls(url1,url2)\n",
    "{'dogs'}\n",
    "```\n",
    "\n",
    "The point of this exercise is not to start from scratch.  Your function\n",
    "should make use of the function `extract_vocab_from_text_url` already defined\n",
    "in the motivating example.  If you do that, this should be very easy."
   ]
  },
  {
   "cell_type": "markdown",
   "id": "dd8b8edc",
   "metadata": {},
   "source": [
    "# Exercise 4a"
   ]
  },
  {
   "cell_type": "markdown",
   "id": "53638c96",
   "metadata": {},
   "source": [
    "**Optional advanced problem**:  Define a new version of `extract_vocab_from_text_url`\n",
    "called `extract_shared_vocab_from_text_urls`\n",
    "that takes *any number of url arguments* and returns the vocabulary common\n",
    "to all the URLs.\n",
    "\n",
    "As an example, suppose we have four URLs containing the following very short texts:\n",
    "\n",
    "```\n",
    "url1: cats dogs urchin\n",
    "url2: dogs my trail\n",
    "url3: my dogs hurt\n",
    "url4: raining cats and dogs\n",
    "```\n",
    "\n",
    "Then this is the behavior we want:\n",
    "\n",
    "```\n",
    ">>> extract_shared_vocab_from_text_urls(url1,url2,url3,url4)\n",
    "{'dogs'}\n",
    "```\n",
    "\n",
    "To help streamline this task, we present some facts about \n",
    "the asterix prefix (`*`) in Python.  This prefix can be used\n",
    "to define functions that take any arbitrary number of arguments\n",
    "(which is what `extract_shared_vocab_from_text_urls` should be),\n",
    "and it can also be used to pass the contents of a container\n",
    "as arguments to a function without having to \"take it apart\"."
   ]
  },
  {
   "cell_type": "markdown",
   "id": "673c7f9c",
   "metadata": {},
   "source": [
    "#### Discussion\n",
    "\n",
    "First we define a tuple and apply `print` to it."
   ]
  },
  {
   "cell_type": "code",
   "execution_count": 70,
   "id": "525fa48c",
   "metadata": {},
   "outputs": [
    {
     "name": "stdout",
     "output_type": "stream",
     "text": [
      "({'b', 'a', 'c'}, {'d', 'b', 'c'}, {'d', 'e', 'c'}, {'h', 'g', 'c'})\n"
     ]
    }
   ],
   "source": [
    "set_tuple = (set('abc'), set('bcd'), set('cde'), set('cgh'))\n",
    "print(set_tuple)"
   ]
  },
  {
   "cell_type": "markdown",
   "id": "74e23bd2",
   "metadata": {},
   "source": [
    "Note that a tuple was printed out, complete with surrounding parentheses."
   ]
  },
  {
   "cell_type": "markdown",
   "id": "2ad1405b",
   "metadata": {},
   "source": [
    "Suppose we want to print the individual elements of the tuple\n",
    "instead of the tuple as a unit.  Then we could do: "
   ]
  },
  {
   "cell_type": "code",
   "execution_count": 28,
   "id": "a59b879e",
   "metadata": {},
   "outputs": [
    {
     "name": "stdout",
     "output_type": "stream",
     "text": [
      "{'b', 'c', 'a'} {'b', 'd', 'c'} {'b', 'e', 'c'} {'b', 'g', 'h', 'c'}\n"
     ]
    }
   ],
   "source": [
    "print(set_tuple[0],set_tuple[1],set_tuple[2],set_tuple[3])"
   ]
  },
  {
   "cell_type": "markdown",
   "id": "8ab47abe",
   "metadata": {},
   "source": [
    "But we can get exactly the same result using the asterisk prefix:"
   ]
  },
  {
   "cell_type": "code",
   "execution_count": 57,
   "id": "fa71909e",
   "metadata": {
    "scrolled": true
   },
   "outputs": [
    {
     "name": "stdout",
     "output_type": "stream",
     "text": [
      "{'b', 'a', 'c'} {'d', 'b', 'c'} {'d', 'e', 'c'} {'h', 'g', 'c'}\n"
     ]
    }
   ],
   "source": [
    "print(*set_tuple)"
   ]
  },
  {
   "cell_type": "markdown",
   "id": "088beddd",
   "metadata": {},
   "source": [
    "In the first case\n",
    "\n",
    "```\n",
    "print(set_tuple)\n",
    "```\n",
    "\n",
    "we print a tuple; in the second, \n",
    "\n",
    "```\n",
    "print(*set_tuple)\n",
    "```\n",
    "\n",
    "the individual elements of the tuple are passed as arguments to the print command, so it prints each of them."
   ]
  },
  {
   "cell_type": "markdown",
   "id": "a58b2669",
   "metadata": {},
   "source": [
    "Hint:  It may help to know that set method `.intersection()`, like `print`, takes any number of arguments."
   ]
  },
  {
   "cell_type": "markdown",
   "id": "5574b274",
   "metadata": {},
   "source": [
    "The python expressions executed in the next two cells are equivalent:"
   ]
  },
  {
   "cell_type": "code",
   "execution_count": 13,
   "id": "c9abbbdb",
   "metadata": {},
   "outputs": [
    {
     "data": {
      "text/plain": [
       "{'b', 'c'}"
      ]
     },
     "execution_count": 13,
     "metadata": {},
     "output_type": "execute_result"
    }
   ],
   "source": [
    "set_tuple = (set('abc'), set('bcd'), set('bce'), set('bcgh'))\n",
    "set('cab').intersection(set_tuple[0],set_tuple[1],set_tuple[2],set_tuple[3])"
   ]
  },
  {
   "cell_type": "code",
   "execution_count": 14,
   "id": "e2413947",
   "metadata": {
    "scrolled": true
   },
   "outputs": [
    {
     "data": {
      "text/plain": [
       "{'b', 'c'}"
      ]
     },
     "execution_count": 14,
     "metadata": {},
     "output_type": "execute_result"
    }
   ],
   "source": [
    "set('cab').intersection(*set_tuple)"
   ]
  },
  {
   "cell_type": "markdown",
   "id": "54752d5a",
   "metadata": {},
   "source": [
    "And both are equivalent to this one, where the method can be called using the type name."
   ]
  },
  {
   "cell_type": "code",
   "execution_count": 31,
   "id": "3ef07c9b",
   "metadata": {},
   "outputs": [
    {
     "data": {
      "text/plain": [
       "{'b', 'c'}"
      ]
     },
     "execution_count": 31,
     "metadata": {},
     "output_type": "execute_result"
    }
   ],
   "source": [
    "set_tuple2 = (set('cab'), set('abc'), set('bcd'), set('bce'), set('bcgh'))\n",
    "\n",
    "set.intersection(*set_tuple2)"
   ]
  },
  {
   "cell_type": "markdown",
   "id": "e935a024",
   "metadata": {},
   "source": [
    "We can also use the asterisk prefix in function signatures, meaning we are defining\n",
    "a function that can take any number of arguments ( afunctiuon like `print()` and\n",
    "the `.intersection()` method."
   ]
  },
  {
   "cell_type": "markdown",
   "id": "666cf5c2",
   "metadata": {},
   "source": [
    "The following two functions have exactly the same definition\n",
    "but different argument **signatures** (different ways of defining the function parameters), so they are called in slightly different ways:"
   ]
  },
  {
   "cell_type": "code",
   "execution_count": 54,
   "id": "be18817e",
   "metadata": {},
   "outputs": [
    {
     "name": "stdout",
     "output_type": "stream",
     "text": [
      "1\n",
      "2\n",
      "3\n",
      "4\n",
      "====================\n",
      "1\n",
      "2\n",
      "3\n",
      "4\n"
     ]
    }
   ],
   "source": [
    "def a_single_container_arg (args):\n",
    "    for x in args:\n",
    "        print(x)\n",
    "def any_number_of_args (*args):\n",
    "    for x in args:\n",
    "        print(x)\n",
    "\n",
    "\n",
    "a_single_container_arg ((1,2,3,4))\n",
    "print('='*20)\n",
    "any_number_of_args(1,2,3,4)"
   ]
  },
  {
   "cell_type": "markdown",
   "id": "e140ee6a",
   "metadata": {},
   "source": [
    "Using asterisks and `extract_vocab_from_text_url`, which you defined in a previous problem, it should be easy to define\n",
    "`extract_shared_vocab_from_text_urls`:"
   ]
  },
  {
   "cell_type": "markdown",
   "id": "37a392cb",
   "metadata": {},
   "source": [
    "Here are some docs to test on:"
   ]
  },
  {
   "cell_type": "code",
   "execution_count": 23,
   "id": "d75a34be",
   "metadata": {},
   "outputs": [],
   "source": [
    "#iliad,odyssey, pride and prejudice, oliver twist\n",
    "doc_nums = [6130, 1727, 42671, 730]\n",
    "urls = [f'https://www.gutenberg.org/cache/epub/{doc}/pg{doc}.txt' for doc in doc_nums]\n",
    "url0,url1,url2,url3 = urls"
   ]
  },
  {
   "cell_type": "markdown",
   "id": "735936ac",
   "metadata": {},
   "source": [
    "Add your definition to the next cell then execute it to run the test."
   ]
  },
  {
   "cell_type": "code",
   "execution_count": 26,
   "id": "8cd7bef7",
   "metadata": {},
   "outputs": [],
   "source": [
    "#Your definition of extract_shared_vocab_from_text_urls goes after this line.\n"
   ]
  },
  {
   "cell_type": "markdown",
   "id": "cee39885",
   "metadata": {},
   "source": [
    "This should be the length of the shared vocab set."
   ]
  },
  {
   "cell_type": "code",
   "execution_count": 27,
   "id": "118a97ab",
   "metadata": {},
   "outputs": [
    {
     "name": "stdout",
     "output_type": "stream",
     "text": [
      "3201\n"
     ]
    }
   ],
   "source": [
    "print(len(common_vocab))"
   ]
  },
  {
   "cell_type": "markdown",
   "id": "6614868e",
   "metadata": {},
   "source": [
    "# Exercise 5"
   ]
  },
  {
   "cell_type": "markdown",
   "id": "ec12c16b",
   "metadata": {},
   "source": [
    "Copy and paste the definition of the function `extract_vocab_from_text_url` from above into a code cell and modify it so that it can accept an encoding\n",
    "as an additional argument. This additional argument should be optional\n",
    "and it should have `utf8` as its default value.  Call the modified version `new_extract_vocab_from_text_url`. \n",
    "\n",
    "The function `new_extract_vocab_from_text_url`\n",
    "should work exactly like the\n",
    "original version on, say, the Odyssey page,\n",
    "`'https://www.gutenberg.org/cache/epub/1727/pg1727.txt'`,\n",
    "but it should also work on text pages encoded in, say, UTF-16."
   ]
  },
  {
   "cell_type": "markdown",
   "id": "c0d6989c",
   "metadata": {},
   "source": [
    "You can test `new_extract_vocab_from_text_url` two ways.\n",
    "\n",
    "#### test # 1\n",
    "\n",
    "After defining `new_extract_vocab_from_text_url` execute the cell below to make sure it works the same way `extract_vocab_from_text_url` does on the motivating examples. That is, using `new_extract_vocab_from_text_url` on a gutenberg.org URL should still work without supplying an encoding argument and it should return the same value as \n",
    "`extract_vocab_from_text_url` does."
   ]
  },
  {
   "cell_type": "code",
   "execution_count": 28,
   "id": "a4652a62",
   "metadata": {},
   "outputs": [
    {
     "data": {
      "text/plain": [
       "True"
      ]
     },
     "execution_count": 28,
     "metadata": {},
     "output_type": "execute_result"
    }
   ],
   "source": [
    "# Test #1\n",
    "new_iliad_vocab = \\\n",
    "   new_extract_vocab_from_text_url('https://www.gutenberg.org/cache/epub/6130/pg6130.txt')\n",
    "new_iliad_vocab == iliad_vocab"
   ]
  },
  {
   "cell_type": "markdown",
   "id": "5986d7ea",
   "metadata": {},
   "source": [
    "#### test #2\n",
    "\n",
    "It should also work on a utf16 version of *the Iliad*, which has been conveniently provided for you in the next cell; `new_extract_vocab_from_text_url` should return exactly the same vocabulary it did for the utf8 version on gutenberg.org."
   ]
  },
  {
   "cell_type": "code",
   "execution_count": 29,
   "id": "be75beb3",
   "metadata": {},
   "outputs": [
    {
     "data": {
      "text/plain": [
       "True"
      ]
     },
     "execution_count": 29,
     "metadata": {},
     "output_type": "execute_result"
    }
   ],
   "source": [
    "# Test #2\n",
    "iliad16_url = 'https://gawron.sdsu.edu/python_for_ss/course_core/data/iliad_utf16.txt'\n",
    "iliad_vocab16 = new_extract_vocab_from_text_url(iliad16_url, encoding='utf16')\n",
    "iliad_vocab16 == iliad_vocab"
   ]
  },
  {
   "cell_type": "markdown",
   "id": "272ce2ec",
   "metadata": {},
   "source": [
    "Comment: if test #2 raises a `UnicodeDecodeError` error like the one in the code cell below, that's probably because you are still using the default encoding to try to read the UTF16 version of the file.  Check to make sure you aren't always using UTF-8 in \n",
    "the line calling `page_bytes.decode`.\n",
    "\n",
    "We can say something stronger: Using the default encoding to try to read a UTF16 file *should* cause an error (We will return to this fact when we discuss unicode and text encodings later on in the course). So for example, if you've\n",
    "correctly defined `new_extract_vocab_from_text_url`, the following code cell raises an error: \n"
   ]
  },
  {
   "cell_type": "code",
   "execution_count": 30,
   "id": "e4921536",
   "metadata": {},
   "outputs": [
    {
     "ename": "UnicodeDecodeError",
     "evalue": "'utf-8' codec can't decode byte 0xff in position 0: invalid start byte",
     "output_type": "error",
     "traceback": [
      "\u001b[0;31m---------------------------------------------------------------------------\u001b[0m",
      "\u001b[0;31mUnicodeDecodeError\u001b[0m                        Traceback (most recent call last)",
      "\u001b[0;32m/var/folders/_q/2s1hy5bx1l7f9j1lw9zjgt19_wb463/T/ipykernel_75672/3397016352.py\u001b[0m in \u001b[0;36m<module>\u001b[0;34m\u001b[0m\n\u001b[0;32m----> 1\u001b[0;31m \u001b[0miliad_vocabx\u001b[0m \u001b[0;34m=\u001b[0m \u001b[0mnew_extract_vocab_from_text_url\u001b[0m\u001b[0;34m(\u001b[0m\u001b[0miliad16_url\u001b[0m\u001b[0;34m)\u001b[0m\u001b[0;34m\u001b[0m\u001b[0m\n\u001b[0m\u001b[1;32m      2\u001b[0m \u001b[0miliad_vocabx\u001b[0m \u001b[0;34m==\u001b[0m \u001b[0miliad_vocab\u001b[0m\u001b[0;34m\u001b[0m\u001b[0m\n",
      "\u001b[0;32m/var/folders/_q/2s1hy5bx1l7f9j1lw9zjgt19_wb463/T/ipykernel_75672/3231712805.py\u001b[0m in \u001b[0;36mnew_extract_vocab_from_text_url\u001b[0;34m(url, encoding)\u001b[0m\n\u001b[1;32m      2\u001b[0m     \u001b[0;32mwith\u001b[0m \u001b[0murlopen\u001b[0m\u001b[0;34m(\u001b[0m\u001b[0murl\u001b[0m\u001b[0;34m)\u001b[0m \u001b[0;32mas\u001b[0m \u001b[0mpage\u001b[0m\u001b[0;34m:\u001b[0m\u001b[0;34m\u001b[0m\u001b[0m\n\u001b[1;32m      3\u001b[0m         \u001b[0mpage_bytes\u001b[0m \u001b[0;34m=\u001b[0m \u001b[0mpage\u001b[0m\u001b[0;34m.\u001b[0m\u001b[0mread\u001b[0m\u001b[0;34m(\u001b[0m\u001b[0;34m)\u001b[0m\u001b[0;34m\u001b[0m\u001b[0m\n\u001b[0;32m----> 4\u001b[0;31m     \u001b[0mpage_text\u001b[0m \u001b[0;34m=\u001b[0m \u001b[0mpage_bytes\u001b[0m\u001b[0;34m.\u001b[0m\u001b[0mdecode\u001b[0m\u001b[0;34m(\u001b[0m\u001b[0mencoding\u001b[0m\u001b[0;34m)\u001b[0m\u001b[0;34m\u001b[0m\u001b[0m\n\u001b[0m\u001b[1;32m      5\u001b[0m     \u001b[0mwords\u001b[0m \u001b[0;34m=\u001b[0m \u001b[0mpage_text\u001b[0m\u001b[0;34m.\u001b[0m\u001b[0msplit\u001b[0m\u001b[0;34m(\u001b[0m\u001b[0;34m)\u001b[0m\u001b[0;34m\u001b[0m\u001b[0m\n\u001b[1;32m      6\u001b[0m     \u001b[0;32mreturn\u001b[0m \u001b[0mset\u001b[0m\u001b[0;34m(\u001b[0m\u001b[0mwords\u001b[0m\u001b[0;34m)\u001b[0m\u001b[0;34m\u001b[0m\u001b[0m\n",
      "\u001b[0;31mUnicodeDecodeError\u001b[0m: 'utf-8' codec can't decode byte 0xff in position 0: invalid start byte"
     ]
    }
   ],
   "source": [
    "# Correctly an error\n",
    "iliad_vocabx = new_extract_vocab_from_text_url(iliad16_url)"
   ]
  },
  {
   "cell_type": "markdown",
   "id": "1983d765",
   "metadata": {},
   "source": [
    "# Exercise 6"
   ]
  },
  {
   "cell_type": "markdown",
   "id": "57a0c6b7",
   "metadata": {},
   "source": [
    "Here are two more complicated snippets that do the same thing to two different datasets.\n",
    "\n",
    "\n",
    "1.  Write a description of what they do.\n",
    "2.  Write a function that does what the code snippets do, consistent with your description of what they do.  Choose a good name consistent with your description.\n",
    "3.  Test it by calling it on the appropriate arguments to reproduce what snippet #1\n",
    "and snippet #2 do.  Check to see the results are different.\n",
    "\n",
    "\n",
    "A common sense constraint:  Your function should return\n",
    "the right data structure to represent the work that\n",
    "was done in the code snippet."
   ]
  },
  {
   "cell_type": "code",
   "execution_count": 73,
   "id": "e19c724c",
   "metadata": {},
   "outputs": [],
   "source": [
    "# Snippet # 1\n",
    "\n",
    "from urllib.request import urlopen\n",
    "\n",
    "with urlopen(urls[0])  as zero_page:\n",
    "    zero_bytes = zero_page.read()\n",
    "\n",
    "zero_text = zero_bytes.decode('utf-8')\n",
    "zero_words = zero_text.lower().split()\n",
    "\n",
    "zero_dd = dict()\n",
    "\n",
    "for word in zero_words:\n",
    "    if word in zero_dd:\n",
    "        zero_dd[word]  += 1\n",
    "    else:\n",
    "        zero_dd[word]  = 1      \n",
    "\n"
   ]
  },
  {
   "cell_type": "code",
   "execution_count": 75,
   "id": "4f0e538b",
   "metadata": {},
   "outputs": [],
   "source": [
    "# Snippet # 2\n",
    "\n",
    "from urllib.request import urlopen\n",
    "\n",
    "with urlopen(urls[1])  as one_page:\n",
    "    one_bytes = one_page.read()\n",
    "\n",
    "one_text = one_bytes.decode('utf-8')\n",
    "one_words = one_text.lower().split()\n",
    "\n",
    "one_dd = dict()\n",
    "\n",
    "for word in one_words:\n",
    "    if word in one_dd:\n",
    "        one_dd[word]  += 1\n",
    "    else:\n",
    "        one_dd[word]  = 1      \n"
   ]
  },
  {
   "cell_type": "code",
   "execution_count": null,
   "id": "1f64b3b9",
   "metadata": {},
   "outputs": [],
   "source": [
    "#Put your function definition in the cell"
   ]
  },
  {
   "cell_type": "code",
   "execution_count": null,
   "id": "7cbb9aed",
   "metadata": {},
   "outputs": [],
   "source": [
    "# Put your test code in this cell."
   ]
  },
  {
   "cell_type": "markdown",
   "id": "856782c9",
   "metadata": {},
   "source": [
    "# Exercise  7"
   ]
  },
  {
   "cell_type": "markdown",
   "id": "94ec407c",
   "metadata": {},
   "source": [
    "Write a function that does what the following snippet does.  The\n",
    "function you define can (and should) make use of a function previously\n",
    "defined in this notebook.\n",
    "\n",
    "After you've written your function, use it to answer the following questions.\n",
    "\n",
    "1.  What are the 20 most common content words in *The Odyssey*? The best definition of a content word is negative:  A content word is not a **function** word, a word like *the*, *and*, or *in*, a word that is extremely frequent amd serves a grammatical function (More examples below). \n",
    "2.  What are the 20 most common content words in *The Iliad*? \n",
    "\n",
    "For distinguishing content words from function words, here's some help.  Function words are sometimes\n",
    "called stop words in natural language processing.  Use the list of `custom_stops` defined below\n",
    "and find the 20 most frequent words from each text that are **not** stop words."
   ]
  },
  {
   "cell_type": "code",
   "execution_count": 33,
   "id": "217123dd",
   "metadata": {},
   "outputs": [],
   "source": [
    "from urllib.request import urlopen\n",
    "\n",
    "with urlopen(urls[1])  as odyssey_page:\n",
    "    odyssey_bytes = odyssey_page.read()\n",
    "\n",
    "odyssey_text = odyssey_bytes.decode('utf-8')\n",
    "odyssey_words = odyssey_text.lower().split()\n",
    "\n",
    "odyssey_dd = dict()\n",
    "\n",
    "for word in odyssey_words:\n",
    "    if word in odyssey_dd:\n",
    "        odyssey_dd[word]  += 1\n",
    "    else:\n",
    "        odyssey_dd[word]  = 1      \n",
    "\n",
    "LL = sorted(odyssey_dd.items(),key=lambda x:x[1],reverse=True)\n"
   ]
  },
  {
   "cell_type": "markdown",
   "id": "c2c4d9d4",
   "metadata": {},
   "source": [
    "In order to help you understand this code, you should look at the first 25 elements of `LL`."
   ]
  },
  {
   "cell_type": "code",
   "execution_count": 34,
   "id": "400e031d",
   "metadata": {},
   "outputs": [
    {
     "data": {
      "text/plain": [
       "[('the', 7016),\n",
       " ('and', 5319),\n",
       " ('of', 3626),\n",
       " ('to', 3557),\n",
       " ('a', 2030),\n",
       " ('in', 1897),\n",
       " ('i', 1860),\n",
       " ('he', 1811),\n",
       " ('you', 1675),\n",
       " ('for', 1368),\n",
       " ('his', 1341),\n",
       " ('as', 1291),\n",
       " ('that', 1275),\n",
       " ('with', 1236),\n",
       " ('was', 1033),\n",
       " ('it', 1005),\n",
       " ('they', 952),\n",
       " ('is', 934),\n",
       " ('on', 882),\n",
       " ('had', 880),\n",
       " ('have', 858),\n",
       " ('but', 849),\n",
       " ('all', 828),\n",
       " ('my', 816),\n",
       " ('not', 772)]"
      ]
     },
     "execution_count": 34,
     "metadata": {},
     "output_type": "execute_result"
    }
   ],
   "source": [
    "LL[:25]"
   ]
  },
  {
   "cell_type": "markdown",
   "id": "ba0a8e8e",
   "metadata": {},
   "source": [
    "It's a list of the pairs extracted from the dictionary `odyssey_dd`.  They have been sorted by the value of the second element,\n",
    "from the largest value for that second element to the smallest value for that second element.  You're looking at the top 25 pairs after the sort.\n"
   ]
  },
  {
   "cell_type": "code",
   "execution_count": 35,
   "id": "d9a77773",
   "metadata": {},
   "outputs": [],
   "source": [
    "from nltk.corpus import stopwords,brown\n",
    "# This \n",
    "#from nltk.corpus import stopwords\n",
    "brown_news_tagged = brown.tagged_words(categories='news', tagset='universal')\n",
    "#function_words (first pass)\n",
    "custom_stops = {wd.lower() for (wd,tag) in brown_news_tagged if (tag in {\"DET\",\".\",\"CONJ\",\"PRT\",\"ADP\",\"PRON\",\"NUM\"})}\n",
    "custom_stops.update({\"thy\",\"thou\",\"thee\",\"thine\"})\n",
    "custom_stops.update(  {\"have\",\"has\", \"had\",\"having\",\"has\",\"\\'ve\"} )\n",
    "custom_stops.update( {\"do\",\"does\",\"did\",\"done\",\"doing\"}  )\n",
    "custom_stops.update(   {\"go\",\"goes\",\"went\",\"gone\",\"going\"} )\n",
    "custom_stops.update(  {\"get\",\"gets\",\"got\",\"gotten\",\"getting\"} )\n",
    "custom_stops.update(  {\"come\",\"comes\",\"came\",\"coming\"} )\n",
    "custom_stops.update(   {\"say\",\"says\",\"said\",\"saying\"} )\n",
    "custom_stops.update(  {\"tell\",\"tells\", \"told\",\"telling\"} )\n",
    "custom_stops.update(   {\"take\",\"takes,\",\"took\",\"taken\",\"telling\"} )\n",
    "custom_stops.update(   {\"let\",\"lets\",\"letting\"})\n",
    "custom_stops.update(   {\"make\",\"makes\",\"made\",\"making\"})\n",
    "\n",
    "custom_stops.update({\"be\",\"is\",\"was\",\"were\",\"am\", \"are\",\"been\",\"being\",}   )\n",
    "custom_stops.update( {\"will\",\"would\",\"may\",\"might\",\"should\",\n",
    "                                                       \"shall\",\"must\",\"can\",\"could\"}  )\n",
    "custom_stops.update( {\"not\",\"\\'nt\"}  )\n",
    "custom_stops.update( {\"when\",\"where\",\"how\", \"then\",\"now\",\"here\",\"there\",\"back\",\"other\",\"very\",\n",
    "                                                      \"more\",\"less\",\"much\",\"also\",\"thus\",\"o\\'er\",\"o’er\",\"first\",\n",
    "                                                      \"second\",\"third\",\"fourth\",\"fifth\",\"sixth\",\"seventh\",\n",
    "                                                      \"eighth\",\"ninth\",\"tenth\"}  )"
   ]
  },
  {
   "cell_type": "markdown",
   "id": "a92071a3",
   "metadata": {},
   "source": [
    "All 25 of the top 25 words in `LL` are function words according to the `custom_stops` list:"
   ]
  },
  {
   "cell_type": "code",
   "execution_count": 36,
   "id": "be520b47",
   "metadata": {},
   "outputs": [
    {
     "data": {
      "text/plain": [
       "[]"
      ]
     },
     "execution_count": 36,
     "metadata": {},
     "output_type": "execute_result"
    }
   ],
   "source": [
    "[(wd,ct) for(wd,ct) in LL[:25] if wd not in custom_stops]"
   ]
  },
  {
   "cell_type": "code",
   "execution_count": null,
   "id": "88a911a3",
   "metadata": {},
   "outputs": [],
   "source": []
  }
 ],
 "metadata": {
  "kernelspec": {
   "display_name": "Python 3 (ipykernel)",
   "language": "python",
   "name": "python3"
  },
  "language_info": {
   "codemirror_mode": {
    "name": "ipython",
    "version": 3
   },
   "file_extension": ".py",
   "mimetype": "text/x-python",
   "name": "python",
   "nbconvert_exporter": "python",
   "pygments_lexer": "ipython3",
   "version": "3.10.6"
  }
 },
 "nbformat": 4,
 "nbformat_minor": 5
}
