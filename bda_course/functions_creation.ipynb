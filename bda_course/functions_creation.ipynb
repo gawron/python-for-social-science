{
 "cells": [
  {
   "cell_type": "markdown",
   "id": "dcee4a6f",
   "metadata": {},
   "source": [
    "# Function Creation"
   ]
  },
  {
   "cell_type": "markdown",
   "id": "b91997c1",
   "metadata": {},
   "source": [
    "### Motivating example"
   ]
  },
  {
   "cell_type": "markdown",
   "id": "7e6b0f2b",
   "metadata": {},
   "source": [
    "The first reason to write a function is to avoid repeating code.\n",
    "\n",
    "The next two code cells contain code snippets that do the same thing to slightly different data.  First, see if you can explain what that thing is.\n",
    "\n",
    "The third code cell abstracts the shared code into a function.  See if you can\n",
    "guess what the function will look like before you get to the third cell.\n"
   ]
  },
  {
   "cell_type": "markdown",
   "id": "7495a02c",
   "metadata": {},
   "source": [
    "### snippet #1"
   ]
  },
  {
   "cell_type": "code",
   "execution_count": 8,
   "id": "7e13cf55",
   "metadata": {},
   "outputs": [],
   "source": [
    "from urllib.request import urlopen\n",
    "\n",
    "# This is the Iliad\n",
    "with urlopen('https://www.gutenberg.org/cache/epub/6130/pg6130.txt') as iliad_page:\n",
    "    iliad_bytes = iliad_page.read()\n",
    "\n",
    "iliad = iliad_bytes.decode('utf-8')\n",
    "iliad_words = iliad.split()\n",
    "iliad_vocab = set(iliad_words)"
   ]
  },
  {
   "cell_type": "markdown",
   "id": "99673609",
   "metadata": {},
   "source": [
    "### snippet #2"
   ]
  },
  {
   "cell_type": "code",
   "execution_count": 9,
   "id": "294ec4e7",
   "metadata": {},
   "outputs": [],
   "source": [
    "from urllib.request import urlopen\n",
    "\n",
    "# This is the odyssey\n",
    "with urlopen('https://www.gutenberg.org/cache/epub/1727/pg1727.txt') as odyssey_page:\n",
    "    odyssey_bytes = odyssey_page.read()\n",
    "    \n",
    "odyssey = odyssey_bytes.decode('utf-8')\n",
    "odyssey_words = odyssey.split()\n",
    "odyssey_vocab = set(odyssey_words)"
   ]
  },
  {
   "cell_type": "markdown",
   "id": "912e491a",
   "metadata": {},
   "source": [
    "Next try to articulate to the task that both these code snippers perform.  The answer is in a markup (text) cell a few cells down."
   ]
  },
  {
   "cell_type": "code",
   "execution_count": null,
   "id": "b36c8c17",
   "metadata": {},
   "outputs": [],
   "source": []
  },
  {
   "cell_type": "code",
   "execution_count": null,
   "id": "04b1d47c",
   "metadata": {},
   "outputs": [],
   "source": []
  },
  {
   "cell_type": "code",
   "execution_count": null,
   "id": "cc055063",
   "metadata": {},
   "outputs": [],
   "source": []
  },
  {
   "cell_type": "code",
   "execution_count": null,
   "id": "b4c4d20d",
   "metadata": {},
   "outputs": [],
   "source": []
  },
  {
   "cell_type": "code",
   "execution_count": null,
   "id": "02a95dab",
   "metadata": {},
   "outputs": [],
   "source": []
  },
  {
   "cell_type": "code",
   "execution_count": null,
   "id": "dce2a422",
   "metadata": {},
   "outputs": [],
   "source": []
  },
  {
   "cell_type": "code",
   "execution_count": null,
   "id": "0eef3981",
   "metadata": {},
   "outputs": [],
   "source": []
  },
  {
   "cell_type": "markdown",
   "id": "a72f6622",
   "metadata": {},
   "source": [
    "Description A: **The code snippets extract the vocabulary from a url. If we wanted to write a function that performs that task, the function would take a url string as its input and it would return a set of words.**\n",
    "\n",
    "Note that the page at that url address needs to contain text encoded in UTF-8 in order for\n",
    "the code to give the expected result.  This is why pages on `gutenberg.org` were\n",
    "chosen.\n",
    "\n",
    "There are other possible answers you could have come up with.  You might have said.\n",
    "\n",
    "Description B:  **The code snippets extract the vocabulary from a gutenberg.org book. If we wanted to write a function that performed that task, it could take a gutenberg\n",
    "document number as its input and return a set of words.**\n"
   ]
  },
  {
   "cell_type": "markdown",
   "id": "6a6f9ed5",
   "metadata": {},
   "source": [
    "Next try to write a function that does what the code snippets do, consistent\n",
    "with the description in Description A.\n",
    "\n",
    "You can start by copying and pasting one of the snippets and indenting it\n",
    "under:\n",
    "\n",
    "```\n",
    "def <function_name> (<parameters>):\n",
    "```\n",
    "\n",
    "but you will have to chose a legal function name, supply the parameters for the function,\n",
    "and change the code snippet.\n",
    "\n",
    "There are two things to think about:\n",
    "\n",
    "1.  What the parameters (input) of the function will be.\n",
    "2.  What the function returns\n",
    "\n",
    "The answer is a few cells down."
   ]
  },
  {
   "cell_type": "code",
   "execution_count": null,
   "id": "86ce5c47",
   "metadata": {},
   "outputs": [],
   "source": []
  },
  {
   "cell_type": "code",
   "execution_count": null,
   "id": "be0a32a1",
   "metadata": {},
   "outputs": [],
   "source": []
  },
  {
   "cell_type": "code",
   "execution_count": null,
   "id": "bd26aa61",
   "metadata": {},
   "outputs": [],
   "source": []
  },
  {
   "cell_type": "code",
   "execution_count": null,
   "id": "3648ce05",
   "metadata": {},
   "outputs": [],
   "source": []
  },
  {
   "cell_type": "code",
   "execution_count": null,
   "id": "9524eba2",
   "metadata": {},
   "outputs": [],
   "source": []
  },
  {
   "cell_type": "code",
   "execution_count": null,
   "id": "8c970b9e",
   "metadata": {},
   "outputs": [],
   "source": []
  },
  {
   "cell_type": "code",
   "execution_count": null,
   "id": "5e2a5216",
   "metadata": {},
   "outputs": [],
   "source": []
  },
  {
   "cell_type": "code",
   "execution_count": 60,
   "id": "252494c3",
   "metadata": {},
   "outputs": [],
   "source": [
    "from urllib.request import urlopen\n",
    "\n",
    "def extract_vocab_from_text_url(url):\n",
    "    with urlopen(url) as page:\n",
    "        page_bytes = page.read()\n",
    "    page_text = page_bytes.decode('utf-8')\n",
    "    words = page_text.split()\n",
    "    return set(words)"
   ]
  },
  {
   "cell_type": "markdown",
   "id": "5f05f1b2",
   "metadata": {},
   "source": [
    "We decided the function would input a url string and output the vocabulary set found\n",
    "at that url. The snippet the above function definition evolved from is:\n",
    "\n",
    "```\n",
    "with urlopen('https://www.gutenberg.org/cache/epub/1727/pg1727.txt') as odyssey_page:\n",
    "    odyssey_bytes = odyssey_page.read()\n",
    "odyssey = odyssey_bytes.decode('utf-8')\n",
    "odyssey_words = odyssey.split()\n",
    "odyssey_vocab = set(odyssey_words)\n",
    "```\n",
    "\n",
    "Note all the name changes in the code and make sure you understand them. Make sure\n",
    "you understand the need to use `return` in the last line. Notice\n",
    "the necessary import statement was included in the cell defining\n",
    "the function.  It is good practice when defining functions to declare\n",
    "all its dependencies explicitly and place them nearby the function definition.\n",
    "\n",
    "Let's apply this function to our previous examples to show the benefits of our work."
   ]
  },
  {
   "cell_type": "code",
   "execution_count": 25,
   "id": "5dc38699",
   "metadata": {},
   "outputs": [],
   "source": [
    "odyssey_vocab = \\\n",
    "   extract_vocab_from_text_url('https://www.gutenberg.org/cache/epub/1727/pg1727.txt')\n",
    "iliad_vocab = \\\n",
    "   extract_vocab_from_text_url('https://www.gutenberg.org/cache/epub/6130/pg6130.txt')"
   ]
  },
  {
   "cell_type": "markdown",
   "id": "b34803b5",
   "metadata": {},
   "source": [
    "We demonstrate the function gets different results with different arguments (this is a good way of checking you made all the necessary name changes when you defined the function)."
   ]
  },
  {
   "cell_type": "code",
   "execution_count": 26,
   "id": "09d835ad",
   "metadata": {},
   "outputs": [
    {
     "data": {
      "text/plain": [
       "(14219, 27079)"
      ]
     },
     "execution_count": 26,
     "metadata": {},
     "output_type": "execute_result"
    }
   ],
   "source": [
    "len(odyssey_vocab),len(iliad_vocab)"
   ]
  },
  {
   "cell_type": "markdown",
   "id": "2b0ddf3f",
   "metadata": {},
   "source": [
    "Note: This is kind of a noteworthy result.  *The Iliad* is about 16K lines,\n",
    "and and *The Odyssey* about 12K lines,  so it's interesting that the vocabulary size\n",
    "of *The Iliad* is so much greater.  If you know anything about the stories,\n",
    "you might be able think of some story-specific reasons for this."
   ]
  },
  {
   "cell_type": "markdown",
   "id": "447f8167",
   "metadata": {},
   "source": [
    "# Exercise 1"
   ]
  },
  {
   "cell_type": "markdown",
   "id": "d521932f",
   "metadata": {},
   "source": [
    "Here are two code snippets. \n",
    "\n",
    "1.  Write a description of what they do.\n",
    "2.  Write a function that does what the code snippets do, consistent with your description of what they do.\n",
    "3.  Test it by calling it on the appropriate arguments to reproduce what snippet #1\n",
    "and snippet #2 do.  Check to see the results are different."
   ]
  },
  {
   "cell_type": "code",
   "execution_count": null,
   "id": "ea21f56b",
   "metadata": {},
   "outputs": [],
   "source": [
    "# Snippet 1\n",
    "\n",
    "emails = \\\n",
    "\"\"\"\n",
    "johnson,fred      fjohnson@gmail.com\n",
    "clark,kenneth     kclark223@gmail.com\n",
    "rotsler,elaine    er337@apple.com\n",
    "smith,howard      hgs@yahoo.com\n",
    "\"\"\"\n",
    "\n",
    "email_dict = dict()\n",
    "for line in emails.split(\"\\n\"):\n",
    "    name,email = line.split()\n",
    "    email_dict[name] = email"
   ]
  },
  {
   "cell_type": "code",
   "execution_count": null,
   "id": "16df4f4d",
   "metadata": {},
   "outputs": [],
   "source": [
    "# Snippet 2\n",
    "\n",
    "tel_nums = \\\n",
    "\"\"\"\n",
    "johnson,fred      619-564-7789\n",
    "clark,kenneth     858-915-5460\n",
    "rotsler,elaine    858-276-1990\n",
    "smith,howard      619-352-9911\n",
    "\"\"\"\n",
    "\n",
    "dd = dict()\n",
    "for pair in tel_nums.split(\"\\n\"):\n",
    "    name,num = pair.split()\n",
    "    dd[name] = num"
   ]
  },
  {
   "cell_type": "markdown",
   "id": "f150bc9a",
   "metadata": {},
   "source": [
    "Put your description of the function in the cell below.  Be sure to say what the input of the function is and what it returns.  And be sure to write a function consistent with your\n",
    "description.  Remember: You have to double click on a text (markup) cell to edit it."
   ]
  },
  {
   "cell_type": "markdown",
   "id": "02fe36ec",
   "metadata": {},
   "source": [
    "[Description goes here.]"
   ]
  },
  {
   "cell_type": "code",
   "execution_count": null,
   "id": "5922cee0",
   "metadata": {},
   "outputs": [],
   "source": [
    "#Put your definition of the function here"
   ]
  },
  {
   "cell_type": "code",
   "execution_count": null,
   "id": "13519c80",
   "metadata": {},
   "outputs": [],
   "source": [
    "#Test your function on the email data and the telephone number data."
   ]
  },
  {
   "cell_type": "markdown",
   "id": "9bd558af",
   "metadata": {},
   "source": [
    "# Exercise 2"
   ]
  },
  {
   "cell_type": "markdown",
   "id": "ccc631bb",
   "metadata": {},
   "source": [
    "Here are two more code snippets. \n",
    "\n",
    "1.  Write a description of what they do.\n",
    "2.  Write a function that does what the code snippets do, consistent with your description of what they do.\n",
    "3.  Test it by calling it on the appropriate arguments to reproduce what snippet #1\n",
    "and snippet #2 do.  Check to see the results are different."
   ]
  },
  {
   "cell_type": "code",
   "execution_count": 13,
   "id": "2dbe1549",
   "metadata": {},
   "outputs": [
    {
     "data": {
      "text/plain": [
       "['apple',\n",
       " 'bib',\n",
       " 'demon',\n",
       " 'dint',\n",
       " 'hoard',\n",
       " 'lapel',\n",
       " 'mongoose',\n",
       " 'navel',\n",
       " 'ram',\n",
       " 'slake',\n",
       " 'yolk']"
      ]
     },
     "execution_count": 13,
     "metadata": {},
     "output_type": "execute_result"
    }
   ],
   "source": [
    "# Snippet #1\n",
    "\n",
    "L1 = \"demon navel hoard ram bib apple\".split()\n",
    "L2 = \"yolk lapel dint mongoose slake\".split()\n",
    "\n",
    "sorted(L1 + L2)"
   ]
  },
  {
   "cell_type": "code",
   "execution_count": 14,
   "id": "12e88010",
   "metadata": {},
   "outputs": [
    {
     "data": {
      "text/plain": [
       "['April',\n",
       " 'February',\n",
       " 'January',\n",
       " 'March',\n",
       " 'May',\n",
       " 'apple',\n",
       " 'banana',\n",
       " 'cherry',\n",
       " 'mango',\n",
       " 'orange']"
      ]
     },
     "execution_count": 14,
     "metadata": {},
     "output_type": "execute_result"
    }
   ],
   "source": [
    "# Snippet # 2\n",
    "\n",
    "fruits = ['cherry', 'banana', 'apple', 'orange','mango']\n",
    "months = ['January', 'February', 'March', 'April','May']\n",
    "\n",
    "sorted(fruits + months)"
   ]
  },
  {
   "cell_type": "markdown",
   "id": "51902abf",
   "metadata": {},
   "source": [
    "Put your description of the function in the cell below.  Be sure to say what the input of the function is and what it returns.  "
   ]
  },
  {
   "cell_type": "markdown",
   "id": "77505a2e",
   "metadata": {},
   "source": [
    "[Description goes here.]"
   ]
  },
  {
   "cell_type": "code",
   "execution_count": 11,
   "id": "3edd7878",
   "metadata": {},
   "outputs": [],
   "source": [
    "# Function definition goes after this line."
   ]
  },
  {
   "cell_type": "code",
   "execution_count": null,
   "id": "3b74b22e",
   "metadata": {},
   "outputs": [],
   "source": [
    "#Test your function on the fruits data and the months data."
   ]
  },
  {
   "cell_type": "markdown",
   "id": "38603603",
   "metadata": {},
   "source": [
    "# Exercise 3"
   ]
  },
  {
   "cell_type": "markdown",
   "id": "b7b7eea2",
   "metadata": {},
   "source": [
    "Go back to the motivating example.  Now write and test a function consistent\n",
    "with description B of what the code snippets do. The new function should take a Gutenberg document number as its input and return a set of words. Call it `extract_vocab_from_gutenberg_doc`.\n",
    "\n",
    "Hint:  Use an f-string."
   ]
  },
  {
   "cell_type": "markdown",
   "id": "a44525e2",
   "metadata": {},
   "source": [
    "Put your description of the function in the cell below.  Be sure to say what the input of the function is and what it returns.  And be sure to write a function consistent with your\n",
    "description."
   ]
  },
  {
   "cell_type": "code",
   "execution_count": null,
   "id": "8438bb26",
   "metadata": {},
   "outputs": [],
   "source": [
    "# Function defintion goes after this line"
   ]
  },
  {
   "cell_type": "code",
   "execution_count": 12,
   "id": "8a8a47a1",
   "metadata": {},
   "outputs": [],
   "source": [
    "# Test your function on the appropriate arguments using *with "
   ]
  },
  {
   "cell_type": "code",
   "execution_count": null,
   "id": "848dff83",
   "metadata": {},
   "outputs": [],
   "source": []
  },
  {
   "cell_type": "markdown",
   "id": "76857165",
   "metadata": {},
   "source": [
    "# Exercise 4"
   ]
  },
  {
   "cell_type": "markdown",
   "id": "90954a4f",
   "metadata": {},
   "source": [
    "Write function that takes as its arguments two url strings and returns the vocabulary set common to both urls.\n",
    "\n",
    "As an example, suppose we have two URLs containing the following very short texts:\n",
    "\n",
    "```\n",
    "url1: cats dogs urchin\n",
    "url2: dogs my trail\n",
    "```\n",
    "\n",
    "Then this is the behavior we want:\n",
    "\n",
    "```\n",
    ">>> extract_shared_vocab_from_text_urls(url1,url2)\n",
    "{'dogs'}\n",
    "```\n",
    "\n",
    "The point of this exercise is not to start from scratch.  Your function\n",
    "should make use of the function `extract_vocab_from_text_url` already defined\n",
    "in the motivating example.  If you do that, this should be very easy."
   ]
  },
  {
   "cell_type": "markdown",
   "id": "6c8f1140",
   "metadata": {},
   "source": [
    "# Exercise 4a"
   ]
  },
  {
   "cell_type": "markdown",
   "id": "64a3d2da",
   "metadata": {},
   "source": [
    "**Optional advanced problem**:  Define a new version of `extract_vocab_from_text_url`\n",
    "called `extract_shared_vocab_from_text_urls`\n",
    "that takes *any number of url arguments* and returns the vocabulary common\n",
    "to all the URLs.\n",
    "\n",
    "As an example, suppose we have four URLs containing the following very short texts:\n",
    "\n",
    "```\n",
    "url1: cats dogs urchin\n",
    "url2: dogs my trail\n",
    "url3: my dogs hurt\n",
    "url4: raining cats and dogs\n",
    "```\n",
    "\n",
    "Then this is the behavior we want:\n",
    "\n",
    "```\n",
    ">>> extract_shared_vocab_from_text_urls(url1,url2,url3,url4)\n",
    "{'dogs'}\n",
    "```\n",
    "\n",
    "To help streamline this task, we present some facts about \n",
    "the asterix prefix (`*`) in Python.  This prefix can be used\n",
    "to define functions that take any arbitrary number of arguments\n",
    "(which is what `extract_shared_vocab_from_text_urls` should be),\n",
    "and it can also be used to pass the contents of a container\n",
    "as arguments to a function without having to \"take it apart\"."
   ]
  },
  {
   "cell_type": "markdown",
   "id": "cde495c8",
   "metadata": {},
   "source": [
    "First we define a tuple and apply `print` to it."
   ]
  },
  {
   "cell_type": "code",
   "execution_count": 70,
   "id": "3fe74205",
   "metadata": {},
   "outputs": [
    {
     "name": "stdout",
     "output_type": "stream",
     "text": [
      "({'b', 'a', 'c'}, {'d', 'b', 'c'}, {'d', 'e', 'c'}, {'h', 'g', 'c'})\n"
     ]
    }
   ],
   "source": [
    "set_tuple = (set('abc'), set('bcd'), set('cde'), set('cgh'))\n",
    "print(set_tuple)"
   ]
  },
  {
   "cell_type": "markdown",
   "id": "bb05ab40",
   "metadata": {},
   "source": [
    "Note that a tuple was printed out, complete with surrounding parentheses."
   ]
  },
  {
   "cell_type": "markdown",
   "id": "6b5b2fe0",
   "metadata": {},
   "source": [
    "Suppose we want to print the individual elements of the tuple\n",
    "instead of the tuple as a unit.  Then we could do: \n",
    "\n",
    "```\n",
    "print(set_tuple[0],set_tuple[1],set_tuple[2],set_tuple[3])\n",
    "```\n",
    "\n",
    "But we can get exactly the same result using the asterisk prefix:"
   ]
  },
  {
   "cell_type": "code",
   "execution_count": 57,
   "id": "2530f58e",
   "metadata": {
    "scrolled": true
   },
   "outputs": [
    {
     "name": "stdout",
     "output_type": "stream",
     "text": [
      "{'b', 'a', 'c'} {'d', 'b', 'c'} {'d', 'e', 'c'} {'h', 'g', 'c'}\n"
     ]
    }
   ],
   "source": [
    "print(*set_tuple)"
   ]
  },
  {
   "cell_type": "markdown",
   "id": "b6df114e",
   "metadata": {},
   "source": [
    "In the first case\n",
    "\n",
    "```\n",
    "print(set_tuple)\n",
    "```\n",
    "\n",
    "we print a tuple; in the second, \n",
    "\n",
    "```\n",
    "print(*set_tuple)\n",
    "```\n",
    "\n",
    "the individual elements of the tuple are passed as arguments to the print command, so it prints each of them."
   ]
  },
  {
   "cell_type": "markdown",
   "id": "c9e239a5",
   "metadata": {},
   "source": [
    "Similarly, since the intersection method on sets allows any number of container arguments,\n",
    "the two python expressions executed in the `print` commands in the next cell are equivalent:"
   ]
  },
  {
   "cell_type": "code",
   "execution_count": 72,
   "id": "5d036763",
   "metadata": {
    "scrolled": true
   },
   "outputs": [
    {
     "name": "stdout",
     "output_type": "stream",
     "text": [
      "{'c'}\n",
      "{'c'}\n"
     ]
    }
   ],
   "source": [
    "set_tuple = (set('abc'), set('bcd'), set('cde'), set('cgh'))\n",
    "print(set('cat').intersection(set_tuple[0],set_tuple[1],set_tuple[2],set_tuple[3]))\n",
    "print(set('cat').intersection(*set_tuple))"
   ]
  },
  {
   "cell_type": "markdown",
   "id": "b5a1ddab",
   "metadata": {},
   "source": [
    "We can also use the asterisk prefix in function signatures."
   ]
  },
  {
   "cell_type": "markdown",
   "id": "50e8c5c7",
   "metadata": {},
   "source": [
    "The following two functions have exactly the same definition\n",
    "but different argument **signatures** (different ways of defining the function parameters), so they are called in slightly different ways:"
   ]
  },
  {
   "cell_type": "code",
   "execution_count": 54,
   "id": "726b9f4a",
   "metadata": {},
   "outputs": [
    {
     "name": "stdout",
     "output_type": "stream",
     "text": [
      "1\n",
      "2\n",
      "3\n",
      "4\n",
      "====================\n",
      "1\n",
      "2\n",
      "3\n",
      "4\n"
     ]
    }
   ],
   "source": [
    "def a_single_container_arg (args):\n",
    "    for x in args:\n",
    "        print(x)\n",
    "def any_number_of_args (*args):\n",
    "    for x in args:\n",
    "        print(x)\n",
    "\n",
    "\n",
    "a_single_container_arg ((1,2,3,4))\n",
    "print('='*20)\n",
    "any_number_of_args(1,2,3,4)"
   ]
  },
  {
   "cell_type": "markdown",
   "id": "3a921605",
   "metadata": {},
   "source": [
    "Using asterisks and `extract_vocab_from_text_url`, it should be easy to define\n",
    "`extract_shared_vocab_from_text_urls`:"
   ]
  },
  {
   "cell_type": "markdown",
   "id": "fb9e5fe4",
   "metadata": {},
   "source": [
    "Here are some docs to test on:"
   ]
  },
  {
   "cell_type": "code",
   "execution_count": 67,
   "id": "0fc48b76",
   "metadata": {},
   "outputs": [],
   "source": [
    "#iliad,odyssey, pride and prejudice, oliver twist\n",
    "doc_nums = [6130, 1727, 42671, 730]\n",
    "urls = [f'https://www.gutenberg.org/cache/epub/{doc}/pg{doc}.txt' for doc in doc_nums]\n",
    "url0,url1,url2,url3 = urls"
   ]
  },
  {
   "cell_type": "markdown",
   "id": "865c74ec",
   "metadata": {},
   "source": [
    "Add your definition to the next cell then execute it to run the test."
   ]
  },
  {
   "cell_type": "code",
   "execution_count": 68,
   "id": "2876194a",
   "metadata": {},
   "outputs": [],
   "source": [
    "#Your definition of extract_shared_vocab_from_text_urls goes after this line.\n",
    "\n",
    "common_vocab = extract_shared_vocab_from_text_urls (url0,url1,url2,url3)"
   ]
  },
  {
   "cell_type": "markdown",
   "id": "770bd01a",
   "metadata": {},
   "source": [
    "This should be the length of the shared vocab set."
   ]
  },
  {
   "cell_type": "code",
   "execution_count": 69,
   "id": "b4c78ec4",
   "metadata": {},
   "outputs": [
    {
     "name": "stdout",
     "output_type": "stream",
     "text": [
      "3187\n"
     ]
    }
   ],
   "source": [
    "print(len(common_vocab))"
   ]
  },
  {
   "cell_type": "markdown",
   "id": "9ddf9b52",
   "metadata": {},
   "source": [
    "# Exercise 5"
   ]
  },
  {
   "cell_type": "markdown",
   "id": "a29af003",
   "metadata": {},
   "source": [
    "Copy and paste the definition of the function `extract_vocab_from_text_url` from above into a code cell and modify it so that it can accept an encoding\n",
    "as an additional argument. This additional argument should be optional\n",
    "and it should have `utf8` as its default value.  Call the modified version `new_extract_vocab_from_text_url`. \n",
    "\n",
    "The function `new_extract_vocab_from_text_url`\n",
    "should work exactly like the\n",
    "original version on, say, the Odyssey page,\n",
    "`'https://www.gutenberg.org/cache/epub/1727/pg1727.txt'`,\n",
    "but it should also work on text pages encoded in, say, UTF-16."
   ]
  },
  {
   "cell_type": "markdown",
   "id": "e2c0a64d",
   "metadata": {},
   "source": [
    "You can test `new_extract_vocab_from_text_url` two ways.\n",
    "\n",
    "#### test # 1\n",
    "\n",
    "After defining `new_extract_vocab_from_text_url` execute the cell below to make sure it works the same way `extract_vocab_from_text_url` does on the motivating examples. That is, using `new_extract_vocab_from_text_url` on a gutenberg.org URL should still work without supplying an encoding argument and it should return the same value as \n",
    "`extract_vocab_from_text_url` does."
   ]
  },
  {
   "cell_type": "code",
   "execution_count": 28,
   "id": "c68cf6ba",
   "metadata": {},
   "outputs": [
    {
     "data": {
      "text/plain": [
       "True"
      ]
     },
     "execution_count": 28,
     "metadata": {},
     "output_type": "execute_result"
    }
   ],
   "source": [
    "# Test #1\n",
    "new_iliad_vocab = \\\n",
    "   new_extract_vocab_from_text_url('https://www.gutenberg.org/cache/epub/6130/pg6130.txt')\n",
    "new_iliad_vocab == iliad_vocab"
   ]
  },
  {
   "cell_type": "markdown",
   "id": "9727f908",
   "metadata": {},
   "source": [
    "#### test #2\n",
    "\n",
    "It should also work on a utf16 version of *the Iliad*, which has been conveniently provided for you in the next cell; `new_extract_vocab_from_text_url` should return exactly the same vocabulary it did for the utf8 version on gutenberg.org."
   ]
  },
  {
   "cell_type": "code",
   "execution_count": 29,
   "id": "c738abb9",
   "metadata": {},
   "outputs": [
    {
     "data": {
      "text/plain": [
       "True"
      ]
     },
     "execution_count": 29,
     "metadata": {},
     "output_type": "execute_result"
    }
   ],
   "source": [
    "# Test #2\n",
    "iliad16_url = 'https://gawron.sdsu.edu/python_for_ss/course_core/data/iliad_utf16.txt'\n",
    "iliad_vocab16 = new_extract_vocab_from_text_url(iliad16_url, encoding='utf16')\n",
    "iliad_vocab16 == iliad_vocab"
   ]
  },
  {
   "cell_type": "markdown",
   "id": "ee1df748",
   "metadata": {},
   "source": [
    "Comment: if test #2 raises a `UnicodeDecodeError` error like the one in the code cell below, that's probably because you are still using the default encoding to try to read the UTF16 version of the file.  Check to make sure you aren't always using UTF-8 in \n",
    "the line calling `page_bytes.decode`.\n",
    "\n",
    "We can say something stronger: Using the default encoding to try to read a UTF16 file *should* cause an error (We will return to this fact when we discuss unicode and text encodings later on in the course). So for example, if you've\n",
    "correctly defined `new_extract_vocab_from_text_url`, the following code cell raises an error: \n"
   ]
  },
  {
   "cell_type": "code",
   "execution_count": 30,
   "id": "e3bdfdda",
   "metadata": {},
   "outputs": [
    {
     "ename": "UnicodeDecodeError",
     "evalue": "'utf-8' codec can't decode byte 0xff in position 0: invalid start byte",
     "output_type": "error",
     "traceback": [
      "\u001b[0;31m---------------------------------------------------------------------------\u001b[0m",
      "\u001b[0;31mUnicodeDecodeError\u001b[0m                        Traceback (most recent call last)",
      "\u001b[0;32m/var/folders/_q/2s1hy5bx1l7f9j1lw9zjgt19_wb463/T/ipykernel_75672/3397016352.py\u001b[0m in \u001b[0;36m<module>\u001b[0;34m\u001b[0m\n\u001b[0;32m----> 1\u001b[0;31m \u001b[0miliad_vocabx\u001b[0m \u001b[0;34m=\u001b[0m \u001b[0mnew_extract_vocab_from_text_url\u001b[0m\u001b[0;34m(\u001b[0m\u001b[0miliad16_url\u001b[0m\u001b[0;34m)\u001b[0m\u001b[0;34m\u001b[0m\u001b[0m\n\u001b[0m\u001b[1;32m      2\u001b[0m \u001b[0miliad_vocabx\u001b[0m \u001b[0;34m==\u001b[0m \u001b[0miliad_vocab\u001b[0m\u001b[0;34m\u001b[0m\u001b[0m\n",
      "\u001b[0;32m/var/folders/_q/2s1hy5bx1l7f9j1lw9zjgt19_wb463/T/ipykernel_75672/3231712805.py\u001b[0m in \u001b[0;36mnew_extract_vocab_from_text_url\u001b[0;34m(url, encoding)\u001b[0m\n\u001b[1;32m      2\u001b[0m     \u001b[0;32mwith\u001b[0m \u001b[0murlopen\u001b[0m\u001b[0;34m(\u001b[0m\u001b[0murl\u001b[0m\u001b[0;34m)\u001b[0m \u001b[0;32mas\u001b[0m \u001b[0mpage\u001b[0m\u001b[0;34m:\u001b[0m\u001b[0;34m\u001b[0m\u001b[0m\n\u001b[1;32m      3\u001b[0m         \u001b[0mpage_bytes\u001b[0m \u001b[0;34m=\u001b[0m \u001b[0mpage\u001b[0m\u001b[0;34m.\u001b[0m\u001b[0mread\u001b[0m\u001b[0;34m(\u001b[0m\u001b[0;34m)\u001b[0m\u001b[0;34m\u001b[0m\u001b[0m\n\u001b[0;32m----> 4\u001b[0;31m     \u001b[0mpage_text\u001b[0m \u001b[0;34m=\u001b[0m \u001b[0mpage_bytes\u001b[0m\u001b[0;34m.\u001b[0m\u001b[0mdecode\u001b[0m\u001b[0;34m(\u001b[0m\u001b[0mencoding\u001b[0m\u001b[0;34m)\u001b[0m\u001b[0;34m\u001b[0m\u001b[0m\n\u001b[0m\u001b[1;32m      5\u001b[0m     \u001b[0mwords\u001b[0m \u001b[0;34m=\u001b[0m \u001b[0mpage_text\u001b[0m\u001b[0;34m.\u001b[0m\u001b[0msplit\u001b[0m\u001b[0;34m(\u001b[0m\u001b[0;34m)\u001b[0m\u001b[0;34m\u001b[0m\u001b[0m\n\u001b[1;32m      6\u001b[0m     \u001b[0;32mreturn\u001b[0m \u001b[0mset\u001b[0m\u001b[0;34m(\u001b[0m\u001b[0mwords\u001b[0m\u001b[0;34m)\u001b[0m\u001b[0;34m\u001b[0m\u001b[0m\n",
      "\u001b[0;31mUnicodeDecodeError\u001b[0m: 'utf-8' codec can't decode byte 0xff in position 0: invalid start byte"
     ]
    }
   ],
   "source": [
    "# Correctly an error\n",
    "iliad_vocabx = new_extract_vocab_from_text_url(iliad16_url)"
   ]
  },
  {
   "cell_type": "markdown",
   "id": "e5995ec9",
   "metadata": {},
   "source": [
    "# Exercise 6"
   ]
  },
  {
   "cell_type": "markdown",
   "id": "78365240",
   "metadata": {},
   "source": [
    "Here are two more complicated snippets that do the same thing to two different datasets.\n",
    "\n",
    "\n",
    "1.  Write a description of what they do.\n",
    "2.  Write a function that does what the code snippets do, consistent with your description of what they do.  Choose a good name consistent with your description.\n",
    "3.  Test it by calling it on the appropriate arguments to reproduce what snippet #1\n",
    "and snippet #2 do.  Check to see the results are different.\n",
    "\n",
    "\n",
    "A common sense constraint:  Your function should return\n",
    "the right data structure to represent the work that\n",
    "was done in the code snippet."
   ]
  },
  {
   "cell_type": "code",
   "execution_count": 73,
   "id": "ef849e87",
   "metadata": {},
   "outputs": [],
   "source": [
    "# Snippet # 1\n",
    "\n",
    "from urllib.request import urlopen\n",
    "\n",
    "with urlopen(urls[0])  as zero_page:\n",
    "    zero_bytes = zero_page.read()\n",
    "\n",
    "zero_text = zero_bytes.decode('utf-8')\n",
    "zero_words = zero_text.lower().split()\n",
    "\n",
    "zero_dd = dict()\n",
    "\n",
    "for word in zero_words:\n",
    "    if word in zero_dd:\n",
    "        zero_dd[word]  += 1\n",
    "    else:\n",
    "        zero_dd[word]  = 1      \n"
   ]
  },
  {
   "cell_type": "code",
   "execution_count": 75,
   "id": "7d11ad9d",
   "metadata": {},
   "outputs": [],
   "source": [
    "# Snippet # 2\n",
    "\n",
    "from urllib.request import urlopen\n",
    "\n",
    "with urlopen(urls[1])  as one_page:\n",
    "    one_bytes = one_page.read()\n",
    "\n",
    "one_text = one_bytes.decode('utf-8')\n",
    "one_words = one_text.lower().split()\n",
    "\n",
    "one_dd = dict()\n",
    "\n",
    "for word in one_words:\n",
    "    if word in one_dd:\n",
    "        one_dd[word]  += 1\n",
    "    else:\n",
    "        one_dd[word]  = 1      \n"
   ]
  },
  {
   "cell_type": "code",
   "execution_count": null,
   "id": "43a65f39",
   "metadata": {},
   "outputs": [],
   "source": [
    "#Put your function definition in the cell"
   ]
  },
  {
   "cell_type": "code",
   "execution_count": null,
   "id": "531877d1",
   "metadata": {},
   "outputs": [],
   "source": [
    "# Put your test code in this cell."
   ]
  },
  {
   "cell_type": "markdown",
   "id": "d957f967",
   "metadata": {},
   "source": [
    "# Exercise  7"
   ]
  },
  {
   "cell_type": "markdown",
   "id": "badfc2c5",
   "metadata": {},
   "source": [
    "Write a function that does what the following snippet does.  The\n",
    "function you define can (and should) make use of a function previously\n",
    "defined in this notebook.\n",
    "\n",
    "After you've written your function, use it to answer the following two questions.\n",
    "\n",
    "1.  What is the three most common content words in *The Odyssey*? Where by a content word I mean one that is not a **function** word, a word like *the*, *and*, or *in* that serves\n",
    "a grammatical function (More examples below). Note: I would lump very general evaluative words like *good* or *great* with the function words.  \n",
    "2.  What are the three most common content words in *The Iliad*?  Observation: If you know the story, the answers might surprise you; a little, but not a lot.\n",
    "\n",
    "A simple intuition:  Function words usually tell you very little about what a text is **about**.  Content words usually tell you much more."
   ]
  },
  {
   "cell_type": "code",
   "execution_count": 95,
   "id": "0e620200",
   "metadata": {},
   "outputs": [],
   "source": [
    "from urllib.request import urlopen\n",
    "\n",
    "with urlopen(urls[1\n",
    "                 ])  as odyssey_page:\n",
    "    odyssey_bytes = odyssey_page.read()\n",
    "\n",
    "odyssey_text = odyssey_bytes.decode('utf-8')\n",
    "odyssey_words = odyssey_text.lower().split()\n",
    "\n",
    "odyssey_dd = dict()\n",
    "\n",
    "for word in odyssey_words:\n",
    "    if word in odyssey_dd:\n",
    "        odyssey_dd[word]  += 1\n",
    "    else:\n",
    "        odyssey_dd[word]  = 1      \n",
    "\n",
    "LL = sorted(odyssey_dd.items(),key=lambda x:x[1],reverse=True)\n"
   ]
  },
  {
   "cell_type": "markdown",
   "id": "7e651693",
   "metadata": {},
   "source": [
    "In order to help you understand this code, you should look at the first 25 elements of `LL`."
   ]
  },
  {
   "cell_type": "code",
   "execution_count": 97,
   "id": "68b997d4",
   "metadata": {},
   "outputs": [
    {
     "data": {
      "text/plain": [
       "[('the', 7016),\n",
       " ('and', 5320),\n",
       " ('of', 3626),\n",
       " ('to', 3557),\n",
       " ('a', 2030),\n",
       " ('in', 1897),\n",
       " ('i', 1860),\n",
       " ('he', 1811),\n",
       " ('you', 1675),\n",
       " ('for', 1368),\n",
       " ('his', 1341),\n",
       " ('as', 1291),\n",
       " ('that', 1275),\n",
       " ('with', 1236),\n",
       " ('was', 1033),\n",
       " ('it', 1005),\n",
       " ('they', 952),\n",
       " ('is', 934),\n",
       " ('on', 882),\n",
       " ('had', 880),\n",
       " ('have', 858),\n",
       " ('but', 849),\n",
       " ('all', 828),\n",
       " ('my', 816),\n",
       " ('not', 772)]"
      ]
     },
     "execution_count": 97,
     "metadata": {},
     "output_type": "execute_result"
    }
   ],
   "source": [
    "LL[:25]"
   ]
  },
  {
   "cell_type": "markdown",
   "id": "9a2b84f8",
   "metadata": {},
   "source": [
    "It's a list of the pairs extracted from the dictionary `odyssey_dd`.  They have been sorted by the value of the second element,\n",
    "from the largest value for that second element to the smallest value for that second element.  You're looking at the top 25 pairs after the sort.\n",
    "\n",
    "All 25 of the top 25 words in `LL` are function words."
   ]
  },
  {
   "cell_type": "code",
   "execution_count": null,
   "id": "4e1f3670",
   "metadata": {},
   "outputs": [],
   "source": []
  }
 ],
 "metadata": {
  "kernelspec": {
   "display_name": "Python 3 (ipykernel)",
   "language": "python",
   "name": "python3"
  },
  "language_info": {
   "codemirror_mode": {
    "name": "ipython",
    "version": 3
   },
   "file_extension": ".py",
   "mimetype": "text/x-python",
   "name": "python",
   "nbconvert_exporter": "python",
   "pygments_lexer": "ipython3",
   "version": "3.7.0"
  }
 },
 "nbformat": 4,
 "nbformat_minor": 5
}
