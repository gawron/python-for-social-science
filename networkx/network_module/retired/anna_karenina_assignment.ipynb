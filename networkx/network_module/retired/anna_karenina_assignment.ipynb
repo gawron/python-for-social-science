{
  "nbformat": 4,
  "nbformat_minor": 0,
  "metadata": {
    "kernelspec": {
      "display_name": "Python 3",
      "language": "python",
      "name": "python3"
    },
    "language_info": {
      "codemirror_mode": {
        "name": "ipython",
        "version": 3
      },
      "file_extension": ".py",
      "mimetype": "text/x-python",
      "name": "python",
      "nbconvert_exporter": "python",
      "pygments_lexer": "ipython3",
      "version": "3.6.9"
    },
    "toc": {
      "base_numbering": 1,
      "nav_menu": {
        "height": "117px",
        "width": "252px"
      },
      "number_sections": true,
      "sideBar": true,
      "skip_h1_title": false,
      "title_cell": "Table of Contents",
      "title_sidebar": "Contents",
      "toc_cell": false,
      "toc_position": {},
      "toc_section_display": "block",
      "toc_window_display": false
    },
    "colab": {
      "name": "anna_karenina_assignment.ipynb",
      "provenance": []
    }
  },
  "cells": [
    {
      "cell_type": "code",
      "metadata": {
        "id": "vnvOKJM2O8ot"
      },
      "source": [
        "import urllib.request"
      ],
      "execution_count": 5,
      "outputs": []
    },
    {
      "cell_type": "code",
      "metadata": {
        "colab": {
          "base_uri": "https://localhost:8080/"
        },
        "id": "B-lsNnfNIl29",
        "outputId": "9358a3ff-f5e6-4416-9f61-fffad106356b"
      },
      "source": [
        "import networkx as nx\n",
        "#import readwrite_gml\n",
        "import matplotlib\n",
        "import matplotlib.pyplot as plt\n",
        "#from google.colab import drive\n",
        "import urllib.request\n",
        "# Specify the code dir in the new filesystem.\n",
        "url = 'https://raw.githubusercontent.com/gawron/python-for-social-science/master/networks/anna.gml'\n",
        "with urllib.request.urlopen(url) as filehandle:\n",
        "      ak = nx.read_gml(filehandle)\n",
        "#ak = nx.read_gml('anna.gml')\n",
        "# Descriptions of each character in this dict\n",
        "desc_dict = ak.nodes"
      ],
      "execution_count": 6,
      "outputs": [
        {
          "output_type": "stream",
          "text": [
            "Drive already mounted at /content/gdrive; to attempt to forcibly remount, call drive.mount(\"/content/gdrive\", force_remount=True).\n"
          ],
          "name": "stdout"
        }
      ]
    },
    {
      "cell_type": "code",
      "metadata": {
        "colab": {
          "base_uri": "https://localhost:8080/"
        },
        "id": "ZhHFMKtTPwq8",
        "outputId": "904cf1bd-c103-480e-c40b-8e7ba3a73ab6"
      },
      "source": [
        "desc_dict"
      ],
      "execution_count": 7,
      "outputs": [
        {
          "output_type": "execute_result",
          "data": {
            "text/plain": [
              "NodeView(('AA', 'AG', 'AL', 'AN', 'AO', 'AP', 'BA', 'BD', 'BE', 'BL', 'BN', 'BO', 'BT', 'CA', 'CB', 'CD', 'CN', 'CO', 'CV', 'DO', 'ED', 'EF', 'FC', 'FR', 'FY', 'GA', 'GO', 'GR', 'GV', 'HA', 'HO', 'IG', 'IV', 'IW', 'JL', 'KA', 'KE', 'KI', 'KO', 'KP', 'KR', 'KT', 'KU', 'KV', 'KY', 'KZ', 'LE', 'LI', 'LK', 'LL', 'LM', 'LP', 'LV', 'MA', 'MB', 'MC', 'MD', 'ME', 'MH', 'MI', 'MJ', 'MK', 'ML', 'MM', 'MN', 'MO', 'MP', 'MQ', 'MR', 'MS', 'MT', 'MV', 'MX', 'MY', 'MZ', 'NA', 'ND', 'NI', 'NL', 'NN', 'NS', 'NT', 'NV', 'NY', 'PA', 'PC', 'PD', 'PE', 'PH', 'PK', 'PO', 'PP', 'PR', 'PS', 'PT', 'PV', 'PX', 'PY', 'RT', 'RY', 'SA', 'SE', 'SH', 'SI', 'SL', 'SM', 'SN', 'SO', 'SP', 'SQ', 'SS', 'ST', 'SU', 'SV', 'SY', 'TA', 'TB', 'TC', 'TT', 'TU', 'TV', 'VA', 'VE', 'VF', 'VG', 'VI', 'VK', 'VO', 'VP', 'VR', 'VS', 'VV', 'VY', 'XV', 'YG', 'YK', 'YS', 'YV'))"
            ]
          },
          "metadata": {
            "tags": []
          },
          "execution_count": 7
        }
      ]
    },
    {
      "cell_type": "markdown",
      "metadata": {
        "id": "ZrVnkvEmIl29"
      },
      "source": [
        "## Identifying the edge with the greatest weight"
      ]
    },
    {
      "cell_type": "code",
      "metadata": {
        "id": "DRT9pXqlIl29"
      },
      "source": [
        "# Sort the edge list by weight.  The weights are in an attribute called \"value\"\n",
        "all_edges = sorted(ak.edges(), key= lambda x: ak.get_edge_data(*x)['value'], reverse=True)"
      ],
      "execution_count": 8,
      "outputs": []
    },
    {
      "cell_type": "markdown",
      "metadata": {
        "id": "hO14-pXCIl29"
      },
      "source": [
        "Here's what one of the edges on the edge list looks like."
      ]
    },
    {
      "cell_type": "code",
      "metadata": {
        "colab": {
          "base_uri": "https://localhost:8080/"
        },
        "id": "87Zb0raeIl29",
        "outputId": "aba44675-0fb9-4a2b-b0f9-cc09ce5ac585"
      },
      "source": [
        "ak.get_edge_data(*all_edges[0])['value']"
      ],
      "execution_count": 9,
      "outputs": [
        {
          "output_type": "execute_result",
          "data": {
            "text/plain": [
              "27.2"
            ]
          },
          "metadata": {
            "tags": []
          },
          "execution_count": 9
        }
      ]
    },
    {
      "cell_type": "code",
      "metadata": {
        "colab": {
          "base_uri": "https://localhost:8080/"
        },
        "id": "p78D0m5YIl2-",
        "outputId": "10cc1728-d89a-404e-c9b7-d5b81b4502b0"
      },
      "source": [
        "list(ak.edges())[0]"
      ],
      "execution_count": 10,
      "outputs": [
        {
          "output_type": "execute_result",
          "data": {
            "text/plain": [
              "('AA', 'PX')"
            ]
          },
          "metadata": {
            "tags": []
          },
          "execution_count": 10
        }
      ]
    },
    {
      "cell_type": "markdown",
      "metadata": {
        "id": "EeNRUnhGIl2-"
      },
      "source": [
        "Find the weight of that first edge."
      ]
    },
    {
      "cell_type": "code",
      "metadata": {
        "colab": {
          "base_uri": "https://localhost:8080/"
        },
        "id": "x0YNEY19Il2-",
        "outputId": "0bafab7c-8d46-4394-aaae-18ff2719761f"
      },
      "source": [
        "ak.get_edge_data(*list(ak.edges())[0])['value']"
      ],
      "execution_count": 11,
      "outputs": [
        {
          "output_type": "execute_result",
          "data": {
            "text/plain": [
              "0.5"
            ]
          },
          "metadata": {
            "tags": []
          },
          "execution_count": 11
        }
      ]
    },
    {
      "cell_type": "markdown",
      "metadata": {
        "id": "XYFN0k1TIl2-"
      },
      "source": [
        "Now for each edge in the sorted edge list, we print the edge and its weight.  The edge weights are determined by how many normalized scenes the character pair shared (number of scenes with that character pair normalized by number of characters in each scene)."
      ]
    },
    {
      "cell_type": "code",
      "metadata": {
        "scrolled": true,
        "colab": {
          "base_uri": "https://localhost:8080/"
        },
        "id": "n-6MyIuaIl2_",
        "outputId": "033e6e88-6f2e-4215-d972-4e719d20d465"
      },
      "source": [
        "# \n",
        "from collections import Counter\n",
        "all_char_ctr = Counter()\n",
        "for (u,v) in all_edges:\n",
        "    weight = ak.get_edge_data(u,v)['value']\n",
        "    # Keep track of total weights per char [= scene ct]\n",
        "    for x in (u,v):\n",
        "        all_char_ctr[x] += weight\n",
        "    print('%-4s %-4s %.3f %s => %s' % (u,v,weight,desc_dict[u]['desc'],desc_dict[v]['desc']))"
      ],
      "execution_count": 12,
      "outputs": [
        {
          "output_type": "stream",
          "text": [
            "AN   VR   27.200 Anna Arkadyevna Karenina, wife of AL => Count Alexey Kirillovitch Vronsky, young officer\n",
            "KI   LE   22.530 Princess Ekaterina Alexandrovna Shtcherbatskaya (Kitty), wife of LE => Konstantin Dmitrievitch Levin, proprietor of Pokrovskoe\n",
            "LE   ST   17.720 Konstantin Dmitrievitch Levin, proprietor of Pokrovskoe => Prince Stepan Arkadyevitch Oblonsky (Stiva), brother of AN\n",
            "KO   LE   14.250 Sergei Ivanovitch Koznishev, half-brother of LE => Konstantin Dmitrievitch Levin, proprietor of Pokrovskoe\n",
            "AL   AN   13.330 Alexey Alexandrovitch Karenin, minister of state => Anna Arkadyevna Karenina, wife of AL\n",
            "KI   PS   11.070 Princess Ekaterina Alexandrovna Shtcherbatskaya (Kitty), wife of LE => Princess Shtcherbatskaya, mother of DO and KI\n",
            "DO   LE   7.970 Princess Darya Alexandrovna Oblonskaya (Dolly), wife of ST => Konstantin Dmitrievitch Levin, proprietor of Pokrovskoe\n",
            "AG   LE   7.580 Agafea Mihalovna, housekeeper of LE => Konstantin Dmitrievitch Levin, proprietor of Pokrovskoe\n",
            "AL   ST   7.180 Alexey Alexandrovitch Karenin, minister of state => Prince Stepan Arkadyevitch Oblonsky (Stiva), brother of AN\n",
            "DO   ST   6.600 Princess Darya Alexandrovna Oblonskaya (Dolly), wife of ST => Prince Stepan Arkadyevitch Oblonsky (Stiva), brother of AN\n",
            "AA   AN   6.500 Annushka, maid of AN => Anna Arkadyevna Karenina, wife of AL\n",
            "LE   VF   6.500 Konstantin Dmitrievitch Levin, proprietor of Pokrovskoe => Vassily Fedorovitch, bailiff of LE\n",
            "VR   YV   6.080 Count Alexey Kirillovitch Vronsky, young officer => Captain Yashvin, gambling friend of VR\n",
            "AN   DO   5.870 Anna Arkadyevna Karenina, wife of AL => Princess Darya Alexandrovna Oblonskaya (Dolly), wife of ST\n",
            "KZ   LE   5.830 Kouzma, elderly servant of LE => Konstantin Dmitrievitch Levin, proprietor of Pokrovskoe\n",
            "KI   PR   5.720 Princess Ekaterina Alexandrovna Shtcherbatskaya (Kitty), wife of LE => Prince Alexander Shtcherbatsky, father of DO and KI\n",
            "DO   KI   5.550 Princess Darya Alexandrovna Oblonskaya (Dolly), wife of ST => Princess Ekaterina Alexandrovna Shtcherbatskaya (Kitty), wife of LE\n",
            "AN   BA   5.000 Anna Arkadyevna Karenina, wife of AL => Annie, baby of AN and VR\n",
            "LE   PS   4.980 Konstantin Dmitrievitch Levin, proprietor of Pokrovskoe => Princess Shtcherbatskaya, mother of DO and KI\n",
            "PR   PS   4.780 Prince Alexander Shtcherbatsky, father of DO and KI => Princess Shtcherbatskaya, mother of DO and KI\n",
            "LE   SV   4.700 Konstantin Dmitrievitch Levin, proprietor of Pokrovskoe => Nikolay Ivanovitch Sviazhsky, landowner\n",
            "LE   PR   4.630 Konstantin Dmitrievitch Levin, proprietor of Pokrovskoe => Prince Alexander Shtcherbatsky, father of DO and KI\n",
            "ST   VR   4.450 Prince Stepan Arkadyevitch Oblonsky (Stiva), brother of AN => Count Alexey Kirillovitch Vronsky, young officer\n",
            "LE   NI   4.330 Konstantin Dmitrievitch Levin, proprietor of Pokrovskoe => Nikolay Levin, brother of LE\n",
            "AN   SE   4.250 Anna Arkadyevna Karenina, wife of AL => Sergey Alexeyevitch Karenin (Seryozha), son of AL and AN\n",
            "LE   VV   4.250 Konstantin Dmitrievitch Levin, proprietor of Pokrovskoe => Vassenka Veslovsky, distant cousin of KI\n",
            "AL   LI   4.170 Alexey Alexandrovitch Karenin, minister of state => Countess Lidia Ivanovna, Petersburg dogooder\n",
            "BT   VR   4.080 Princess Betsy Tverskaya, cousin of VR => Count Alexey Kirillovitch Vronsky, young officer\n",
            "AN   ST   4.000 Anna Arkadyevna Karenina, wife of AL => Prince Stepan Arkadyevitch Oblonsky (Stiva), brother of AN\n",
            "AN   BT   3.580 Anna Arkadyevna Karenina, wife of AL => Princess Betsy Tverskaya, cousin of VR\n",
            "KO   ST   3.550 Sergei Ivanovitch Koznishev, half-brother of LE => Prince Stepan Arkadyevitch Oblonsky (Stiva), brother of AN\n",
            "KI   VK   3.370 Princess Ekaterina Alexandrovna Shtcherbatskaya (Kitty), wife of LE => Varvara Andreevna (Varenka), adopted daughter of MS\n",
            "AG   KI   3.250 Agafea Mihalovna, housekeeper of LE => Princess Ekaterina Alexandrovna Shtcherbatskaya (Kitty), wife of LE\n",
            "AL   SE   3.250 Alexey Alexandrovitch Karenin, minister of state => Sergey Alexeyevitch Karenin (Seryozha), son of AL and AN\n",
            "ST   VV   3.250 Prince Stepan Arkadyevitch Oblonsky (Stiva), brother of AN => Vassenka Veslovsky, distant cousin of KI\n",
            "DO   TA   3.030 Princess Darya Alexandrovna Oblonskaya (Dolly), wife of ST => Tanya, oldest daughter of ST and DO\n",
            "AN   PX   3.000 Anna Arkadyevna Karenina, wife of AL => Pyotr, servant of AN\n",
            "BT   ST   3.000 Princess Betsy Tverskaya, cousin of VR => Prince Stepan Arkadyevitch Oblonsky (Stiva), brother of AN\n",
            "LE   NA   2.830 Konstantin Dmitrievitch Levin, proprietor of Pokrovskoe => Princess Natalia Lvova, sister of DO and KI\n",
            "VA   VR   2.830 Varya, wife of XV => Count Alexey Kirillovitch Vronsky, young officer\n",
            "DO   PH   2.670 Princess Darya Alexandrovna Oblonskaya (Dolly), wife of ST => Matrona Marya Philimonovna, nurse\n",
            "KO   KT   2.670 Sergei Ivanovitch Koznishev, half-brother of LE => Professor Katavasov, natural scientist\n",
            "MA   ST   2.600 Matvey, valet of ST => Prince Stepan Arkadyevitch Oblonsky (Stiva), brother of AN\n",
            "AL   BT   2.580 Alexey Alexandrovitch Karenin, minister of state => Princess Betsy Tverskaya, cousin of VR\n",
            "AL   VR   2.580 Alexey Alexandrovitch Karenin, minister of state => Count Alexey Kirillovitch Vronsky, young officer\n",
            "AL   SL   2.500 Alexey Alexandrovitch Karenin, minister of state => Mihail Vassilievitch Sludin, secretary of AL's department\n",
            "AL   KY   2.500 Alexey Alexandrovitch Karenin, minister of state => Korney, valet of AL\n",
            "BD   KI   2.500 Dmitri (Mitya), baby of LE and KI => Princess Ekaterina Alexandrovna Shtcherbatskaya (Kitty), wife of LE\n",
            "VR   XV   2.500 Count Alexey Kirillovitch Vronsky, young officer => Alexander Vronsky, brother of VR\n",
            "PT   VR   2.420 Lieutenant Petritsky, friend of VR => Count Alexey Kirillovitch Vronsky, young officer\n",
            "GR   TA   2.370 Grisha, young son of ST and DO => Tanya, oldest daughter of ST and DO\n",
            "AN   GO   2.330 Anna Arkadyevna Karenina, wife of AL => Golenishtchev, friend of VR\n",
            "GO   VR   2.330 Golenishtchev, friend of VR => Count Alexey Kirillovitch Vronsky, young officer\n",
            "MN   NI   2.330 Marya Nikolaevna, companion of NI => Nikolay Levin, brother of LE\n",
            "MS   VK   2.330 Madame Stahl, invalid philanthropist => Varvara Andreevna (Varenka), adopted daughter of MS\n",
            "KO   PR   2.300 Sergei Ivanovitch Koznishev, half-brother of LE => Prince Alexander Shtcherbatsky, father of DO and KI\n",
            "AN   LI   2.250 Anna Arkadyevna Karenina, wife of AL => Countess Lidia Ivanovna, Petersburg dogooder\n",
            "BT   MY   2.250 Princess Betsy Tverskaya, cousin of VR => Princess Myakaya, enfant terrible\n",
            "SE   SI   2.250 Sergey Alexeyevitch Karenin (Seryozha), son of AL and AN => Vassily Lukitch Sitnikov, tutor of SE\n",
            "KI   VR   2.200 Princess Ekaterina Alexandrovna Shtcherbatskaya (Kitty), wife of LE => Count Alexey Kirillovitch Vronsky, young officer\n",
            "KI   NI   2.170 Princess Ekaterina Alexandrovna Shtcherbatskaya (Kitty), wife of LE => Nikolay Levin, brother of LE\n",
            "DO   KO   2.130 Princess Darya Alexandrovna Oblonskaya (Dolly), wife of ST => Sergei Ivanovitch Koznishev, half-brother of LE\n",
            "CN   KI   2.030 Countess Nordston, friend of KI => Princess Ekaterina Alexandrovna Shtcherbatskaya (Kitty), wife of LE\n",
            "DO   GR   2.030 Princess Darya Alexandrovna Oblonskaya (Dolly), wife of ST => Grisha, young son of ST and DO\n",
            "AL   SM   2.000 Alexey Alexandrovitch Karenin, minister of state => Stremov, opponent of AL\n",
            "AN   MC   2.000 Anna Arkadyevna Karenina, wife of AL => Mihail, coachman\n",
            "AN   KI   2.000 Anna Arkadyevna Karenina, wife of AL => Princess Ekaterina Alexandrovna Shtcherbatskaya (Kitty), wife of LE\n",
            "BN   ST   2.000 Bartnyansky, rich man in Petersburg => Prince Stepan Arkadyevitch Oblonsky (Stiva), brother of AN\n",
            "IG   LE   2.000 Ignat, coachman of LE => Konstantin Dmitrievitch Levin, proprietor of Pokrovskoe\n",
            "LE   ML   2.000 Konstantin Dmitrievitch Levin, proprietor of Pokrovskoe => Mademoiselle Linon, French governess of KI\n",
            "PP   ST   2.000 Prince Pyotr Oblonsky, man of sixty => Prince Stepan Arkadyevitch Oblonsky (Stiva), brother of AN\n",
            "KO   VK   1.950 Sergei Ivanovitch Koznishev, half-brother of LE => Varvara Andreevna (Varenka), adopted daughter of MS\n",
            "KI   KO   1.880 Princess Ekaterina Alexandrovna Shtcherbatskaya (Kitty), wife of LE => Sergei Ivanovitch Koznishev, half-brother of LE\n",
            "DO   VR   1.870 Princess Darya Alexandrovna Oblonskaya (Dolly), wife of ST => Count Alexey Kirillovitch Vronsky, young officer\n",
            "KI   YK   1.830 Princess Ekaterina Alexandrovna Shtcherbatskaya (Kitty), wife of LE => Yegorushka Korsunsky, handsome dancer\n",
            "LE   MN   1.830 Konstantin Dmitrievitch Levin, proprietor of Pokrovskoe => Marya Nikolaevna, companion of NI\n",
            "KI   ST   1.770 Princess Ekaterina Alexandrovna Shtcherbatskaya (Kitty), wife of LE => Prince Stepan Arkadyevitch Oblonsky (Stiva), brother of AN\n",
            "PS   VK   1.750 Princess Shtcherbatskaya, mother of DO and KI => Varvara Andreevna (Varenka), adopted daughter of MS\n",
            "AN   YV   1.670 Anna Arkadyevna Karenina, wife of AL => Captain Yashvin, gambling friend of VR\n",
            "AN   TU   1.670 Anna Arkadyevna Karenina, wife of AL => Tushkevitch, croquet player\n",
            "CV   VR   1.670 Countess Vronskaya, mother of VR => Count Alexey Kirillovitch Vronsky, young officer\n",
            "KI   MN   1.670 Princess Ekaterina Alexandrovna Shtcherbatskaya (Kitty), wife of LE => Marya Nikolaevna, companion of NI\n",
            "KT   LE   1.670 Professor Katavasov, natural scientist => Konstantin Dmitrievitch Levin, proprietor of Pokrovskoe\n",
            "LE   PE   1.600 Konstantin Dmitrievitch Levin, proprietor of Pokrovskoe => Pestsov, eccentric enthusiast\n",
            "HO   TA   1.580 Miss Hoole, English governess to DO's children => Tanya, oldest daughter of ST and DO\n",
            "AN   VP   1.530 Anna Arkadyevna Karenina, wife of AL => Princess Varvara, aunt of ST\n",
            "KO   VR   1.530 Sergei Ivanovitch Koznishev, half-brother of LE => Count Alexey Kirillovitch Vronsky, young officer\n",
            "AL   ED   1.500 Alexey Alexandrovitch Karenin, minister of state => Miss Edwards, English governor of SE\n",
            "AN   LM   1.500 Anna Arkadyevna Karenina, wife of AL => Liza Merkalova, thin brunette admired by SM\n",
            "BD   LE   1.500 Dmitri (Mitya), baby of LE and KI => Konstantin Dmitrievitch Levin, proprietor of Pokrovskoe\n",
            "CO   VR   1.500 Cord, English horse trainer => Count Alexey Kirillovitch Vronsky, young officer\n",
            "DO   VK   1.500 Princess Darya Alexandrovna Oblonskaya (Dolly), wife of ST => Varvara Andreevna (Varenka), adopted daughter of MS\n",
            "KE   KI   1.500 Prince Kedrov, member of VR's regiment => Princess Ekaterina Alexandrovna Shtcherbatskaya (Kitty), wife of LE\n",
            "KT   PR   1.500 Professor Katavasov, natural scientist => Prince Alexander Shtcherbatsky, father of DO and KI\n",
            "KU   VR   1.500 Prince Kuzovlev, fearful horseman => Count Alexey Kirillovitch Vronsky, young officer\n",
            "LE   NS   1.500 Konstantin Dmitrievitch Levin, proprietor of Pokrovskoe => Nikolay Shtcherbatsky, cousin of KI\n",
            "LV   NA   1.500 Arseny Lvov, husband of NA => Princess Natalia Lvova, sister of DO and KI\n",
            "ST   TA   1.500 Prince Stepan Arkadyevitch Oblonsky (Stiva), brother of AN => Tanya, oldest daughter of ST and DO\n",
            "DO   PR   1.470 Princess Darya Alexandrovna Oblonskaya (Dolly), wife of ST => Prince Alexander Shtcherbatsky, father of DO and KI\n",
            "SV   VR   1.400 Nikolay Ivanovitch Sviazhsky, landowner => Count Alexey Kirillovitch Vronsky, young officer\n",
            "AN   VV   1.370 Anna Arkadyevna Karenina, wife of AL => Vassenka Veslovsky, distant cousin of KI\n",
            "KO   SV   1.370 Sergei Ivanovitch Koznishev, half-brother of LE => Nikolay Ivanovitch Sviazhsky, landowner\n",
            "LE   LP   1.370 Konstantin Dmitrievitch Levin, proprietor of Pokrovskoe => Lizaveta Petrovna, midwife\n",
            "AN   MI   1.330 Anna Arkadyevna Karenina, wife of AL => Mihailov, painter\n",
            "AN   YK   1.330 Anna Arkadyevna Karenina, wife of AL => Yegorushka Korsunsky, handsome dancer\n",
            "DO   NA   1.330 Princess Darya Alexandrovna Oblonskaya (Dolly), wife of ST => Princess Natalia Lvova, sister of DO and KI\n",
            "GO   MI   1.330 Golenishtchev, friend of VR => Mihailov, painter\n",
            "KI   MS   1.330 Princess Ekaterina Alexandrovna Shtcherbatskaya (Kitty), wife of LE => Madame Stahl, invalid philanthropist\n",
            "MI   VR   1.330 Mihailov, painter => Count Alexey Kirillovitch Vronsky, young officer\n",
            "SO   VR   1.330 Princess Sorokina, young friend of CV => Count Alexey Kirillovitch Vronsky, young officer\n",
            "DO   VV   1.280 Princess Darya Alexandrovna Oblonskaya (Dolly), wife of ST => Vassenka Veslovsky, distant cousin of KI\n",
            "DO   PS   1.280 Princess Darya Alexandrovna Oblonskaya (Dolly), wife of ST => Princess Shtcherbatskaya, mother of DO and KI\n",
            "AL   DO   1.270 Alexey Alexandrovitch Karenin, minister of state => Princess Darya Alexandrovna Oblonskaya (Dolly), wife of ST\n",
            "AN   LE   1.250 Anna Arkadyevna Karenina, wife of AL => Konstantin Dmitrievitch Levin, proprietor of Pokrovskoe\n",
            "AN   VO   1.250 Anna Arkadyevna Karenina, wife of AL => Ivan Petrovich Vorkuev, publisher\n",
            "SP   VR   1.250 General Serpuhovskoy, rival of VR => Count Alexey Kirillovitch Vronsky, young officer\n",
            "GR   MM   1.200 Grisha, young son of ST and DO => Masha 3, little daughter of ST and DO\n",
            "ST   SV   1.200 Prince Stepan Arkadyevitch Oblonsky (Stiva), brother of AN => Nikolay Ivanovitch Sviazhsky, landowner\n",
            "KI   MV   1.170 Princess Ekaterina Alexandrovna Shtcherbatskaya (Kitty), wife of LE => Marya Vlasyevna, midwife\n",
            "PS   VV   1.170 Princess Shtcherbatskaya, mother of DO and KI => Vassenka Veslovsky, distant cousin of KI\n",
            "LE   VK   1.120 Konstantin Dmitrievitch Levin, proprietor of Pokrovskoe => Varvara Andreevna (Varenka), adopted daughter of MS\n",
            "DO   MA   1.100 Princess Darya Alexandrovna Oblonskaya (Dolly), wife of ST => Matvey, valet of ST\n",
            "PS   VR   1.030 Princess Shtcherbatskaya, mother of DO and KI => Count Alexey Kirillovitch Vronsky, young officer\n",
            "VP   VR   1.030 Princess Varvara, aunt of ST => Count Alexey Kirillovitch Vronsky, young officer\n",
            "KO   PE   1.020 Sergei Ivanovitch Koznishev, half-brother of LE => Pestsov, eccentric enthusiast\n",
            "AG   BD   1.000 Agafea Mihalovna, housekeeper of LE => Dmitri (Mitya), baby of LE and KI\n",
            "AL   BA   1.000 Alexey Alexandrovitch Karenin, minister of state => Annie, baby of AN and VR\n",
            "AL   KP   1.000 Alexey Alexandrovitch Karenin, minister of state => Kapitonitch, hall porter of AL\n",
            "AN   SM   1.000 Anna Arkadyevna Karenina, wife of AL => Stremov, opponent of AL\n",
            "AN   KP   1.000 Anna Arkadyevna Karenina, wife of AL => Kapitonitch, hall porter of AL\n",
            "BL   LE   1.000 Count Bol, friend of KI in Moscow => Konstantin Dmitrievitch Levin, proprietor of Pokrovskoe\n",
            "BO   LE   1.000 Countess Bola, wife of BL => Konstantin Dmitrievitch Levin, proprietor of Pokrovskoe\n",
            "CA   ST   1.000 Count Anitchkin, supervisor of ST => Prince Stepan Arkadyevitch Oblonsky (Stiva), brother of AN\n",
            "CB   YK   1.000 Countess Bonina, dance partner of YK => Yegorushka Korsunsky, handsome dancer\n",
            "CN   NA   1.000 Countess Nordston, friend of KI => Princess Natalia Lvova, sister of DO and KI\n",
            "CN   DO   1.000 Countess Nordston, friend of KI => Princess Darya Alexandrovna Oblonskaya (Dolly), wife of ST\n",
            "CN   YK   1.000 Countess Nordston, friend of KI => Yegorushka Korsunsky, handsome dancer\n",
            "CV   KO   1.000 Countess Vronskaya, mother of VR => Sergei Ivanovitch Koznishev, half-brother of LE\n",
            "EF   KY   1.000 Marya Efimovna, nurse of AL => Korney, valet of AL\n",
            "FR   LE   1.000 Fyodor Ryezunov, carpenter => Konstantin Dmitrievitch Levin, proprietor of Pokrovskoe\n",
            "FY   LE   1.000 Fyodor 2, peasant => Konstantin Dmitrievitch Levin, proprietor of Pokrovskoe\n",
            "IV   LE   1.000 Ivan 1, cowherd => Konstantin Dmitrievitch Levin, proprietor of Pokrovskoe\n",
            "IW   LE   1.000 Ivan 2, coachmen of LE => Konstantin Dmitrievitch Levin, proprietor of Pokrovskoe\n",
            "KE   SQ   1.000 Prince Kedrov, member of VR's regiment => Snetkow, marshal of Kashinsky province\n",
            "KI   MD   1.000 Princess Ekaterina Alexandrovna Shtcherbatskaya (Kitty), wife of LE => Marya Dmitrievna, aunt of KI\n",
            "KI   NA   1.000 Princess Ekaterina Alexandrovna Shtcherbatskaya (Kitty), wife of LE => Princess Natalia Lvova, sister of DO and KI\n",
            "KI   ML   1.000 Princess Ekaterina Alexandrovna Shtcherbatskaya (Kitty), wife of LE => Mademoiselle Linon, French governess of KI\n",
            "KP   SE   1.000 Kapitonitch, hall porter of AL => Sergey Alexeyevitch Karenin (Seryozha), son of AL and AN\n",
            "KP   KY   1.000 Kapitonitch, hall porter of AL => Korney, valet of AL\n",
            "KP   VR   1.000 Kapitonitch, hall porter of AL => Count Alexey Kirillovitch Vronsky, young officer\n",
            "LE   PA   1.000 Konstantin Dmitrievitch Levin, proprietor of Pokrovskoe => Parmenitch, old beekeeper\n",
            "LE   YG   1.000 Konstantin Dmitrievitch Levin, proprietor of Pokrovskoe => Yegor, servant in hotel\n",
            "LE   SU   1.000 Konstantin Dmitrievitch Levin, proprietor of Pokrovskoe => Shuraev, peasant\n",
            "LE   TT   1.000 Konstantin Dmitrievitch Levin, proprietor of Pokrovskoe => Tit, mower\n",
            "LK   TB   1.000 Lidi Korsunskaya, wife of YK => Madame Trubetskaya, wedding guest\n",
            "LK   YK   1.000 Lidi Korsunskaya, wife of YK => Yegorushka Korsunsky, handsome dancer\n",
            "MH   VR   1.000 Mahotin, rival horseman to VR => Count Alexey Kirillovitch Vronsky, young officer\n",
            "MI   SA   1.000 Mihailov, painter => Sasha, wife of MI\n",
            "MR   ST   1.000 Mademoiselle Roland, French governess => Prince Stepan Arkadyevitch Oblonsky (Stiva), brother of AN\n",
            "MT   ST   1.000 Masha Tchibisova, dancer => Prince Stepan Arkadyevitch Oblonsky (Stiva), brother of AN\n",
            "NA   ST   1.000 Princess Natalia Lvova, sister of DO and KI => Prince Stepan Arkadyevitch Oblonsky (Stiva), brother of AN\n",
            "ND   SE   1.000 Nadinka, niece of LI => Sergey Alexeyevitch Karenin (Seryozha), son of AL and AN\n",
            "NV   PR   1.000 Madame Nikolaevna, KI's maid of honor => Prince Alexander Shtcherbatsky, father of DO and KI\n",
            "PC   ST   1.000 Prince Tchetchensky, man with two families => Prince Stepan Arkadyevitch Oblonsky (Stiva), brother of AN\n",
            "ST   VG   1.000 Prince Stepan Arkadyevitch Oblonsky (Stiva), brother of AN => Volgarinoff, Jew\n",
            "TU   VR   1.000 Tushkevitch, croquet player => Count Alexey Kirillovitch Vronsky, young officer\n",
            "VK   VV   1.000 Varvara Andreevna (Varenka), adopted daughter of MS => Vassenka Veslovsky, distant cousin of KI\n",
            "GR   LE   0.950 Grisha, young son of ST and DO => Konstantin Dmitrievitch Levin, proprietor of Pokrovskoe\n",
            "KI   RT   0.920 Princess Ekaterina Alexandrovna Shtcherbatskaya (Kitty), wife of LE => Marya Yevgenyevna Rtishtcheva, lady of Moscow\n",
            "LE   TC   0.920 Konstantin Dmitrievitch Levin, proprietor of Pokrovskoe => Tchirikov, best man of LE\n",
            "LI   ST   0.920 Countess Lidia Ivanovna, Petersburg dogooder => Prince Stepan Arkadyevitch Oblonsky (Stiva), brother of AN\n",
            "PS   RT   0.920 Princess Shtcherbatskaya, mother of DO and KI => Marya Yevgenyevna Rtishtcheva, lady of Moscow\n",
            "LE   VR   0.900 Konstantin Dmitrievitch Levin, proprietor of Pokrovskoe => Count Alexey Kirillovitch Vronsky, young officer\n",
            "VR   VV   0.870 Count Alexey Kirillovitch Vronsky, young officer => Vassenka Veslovsky, distant cousin of KI\n",
            "LE   TV   0.850 Konstantin Dmitrievitch Levin, proprietor of Pokrovskoe => Turovtsin, party guest\n",
            "AG   ST   0.830 Agafea Mihalovna, housekeeper of LE => Prince Stepan Arkadyevitch Oblonsky (Stiva), brother of AN\n",
            "AG   KZ   0.830 Agafea Mihalovna, housekeeper of LE => Kouzma, elderly servant of LE\n",
            "AP   KI   0.830 Anna Pavlovna, wife of PV => Princess Ekaterina Alexandrovna Shtcherbatskaya (Kitty), wife of LE\n",
            "AP   PV   0.830 Anna Pavlovna, wife of PV => Mihail Alexeyevitch Petrov, painter\n",
            "CV   VA   0.830 Countess Vronskaya, mother of VR => Varya, wife of XV\n",
            "CV   ST   0.830 Countess Vronskaya, mother of VR => Prince Stepan Arkadyevitch Oblonsky (Stiva), brother of AN\n",
            "GR   ST   0.830 Grisha, young son of ST and DO => Prince Stepan Arkadyevitch Oblonsky (Stiva), brother of AN\n",
            "KE   KO   0.830 Prince Kedrov, member of VR's regiment => Sergei Ivanovitch Koznishev, half-brother of LE\n",
            "KI   PV   0.830 Princess Ekaterina Alexandrovna Shtcherbatskaya (Kitty), wife of LE => Mihail Alexeyevitch Petrov, painter\n",
            "KZ   ST   0.830 Kouzma, elderly servant of LE => Prince Stepan Arkadyevitch Oblonsky (Stiva), brother of AN\n",
            "LE   SN   0.830 Konstantin Dmitrievitch Levin, proprietor of Pokrovskoe => Stepan Vassilievitch, landowner\n",
            "SN   SV   0.830 Stepan Vassilievitch, landowner => Nikolay Ivanovitch Sviazhsky, landowner\n",
            "KO   TV   0.770 Sergei Ivanovitch Koznishev, half-brother of LE => Turovtsin, party guest\n",
            "AN   HA   0.750 Anna Arkadyevna Karenina, wife of AL => Hannah, pupil of AN\n",
            "LE   TA   0.750 Konstantin Dmitrievitch Levin, proprietor of Pokrovskoe => Tanya, oldest daughter of ST and DO\n",
            "MY   VR   0.750 Princess Myakaya, enfant terrible => Count Alexey Kirillovitch Vronsky, young officer\n",
            "PT   YV   0.750 Lieutenant Petritsky, friend of VR => Captain Yashvin, gambling friend of VR\n",
            "CN   LE   0.700 Countess Nordston, friend of KI => Konstantin Dmitrievitch Levin, proprietor of Pokrovskoe\n",
            "KO   KV   0.700 Sergei Ivanovitch Koznishev, half-brother of LE => Krivin, bald socialite\n",
            "LE   MM   0.700 Konstantin Dmitrievitch Levin, proprietor of Pokrovskoe => Masha 3, little daughter of ST and DO\n",
            "KI   TV   0.680 Princess Ekaterina Alexandrovna Shtcherbatskaya (Kitty), wife of LE => Turovtsin, party guest\n",
            "ST   TV   0.680 Prince Stepan Arkadyevitch Oblonsky (Stiva), brother of AN => Turovtsin, party guest\n",
            "AG   KO   0.670 Agafea Mihalovna, housekeeper of LE => Sergei Ivanovitch Koznishev, half-brother of LE\n",
            "AL   JL   0.670 Alexey Alexandrovitch Karenin, minister of state => Jules Landau (Count Bezzubov), psychic\n",
            "DO   LL   0.670 Princess Darya Alexandrovna Oblonskaya (Dolly), wife of ST => Lily, youngest child of DO and ST\n",
            "JL   ST   0.670 Jules Landau (Count Bezzubov), psychic => Prince Stepan Arkadyevitch Oblonsky (Stiva), brother of AN\n",
            "JL   LI   0.670 Jules Landau (Count Bezzubov), psychic => Countess Lidia Ivanovna, Petersburg dogooder\n",
            "KR   NI   0.670 Kritsky, friend of NI => Nikolay Levin, brother of LE\n",
            "KR   LE   0.670 Kritsky, friend of NI => Konstantin Dmitrievitch Levin, proprietor of Pokrovskoe\n",
            "KR   MN   0.670 Kritsky, friend of NI => Marya Nikolaevna, companion of NI\n",
            "AL   YS   0.600 Alexey Alexandrovitch Karenin, minister of state => Young Shtcherbatsky, brother of KI\n",
            "DO   YS   0.600 Princess Darya Alexandrovna Oblonskaya (Dolly), wife of ST => Young Shtcherbatsky, brother of KI\n",
            "DO   TV   0.600 Princess Darya Alexandrovna Oblonskaya (Dolly), wife of ST => Turovtsin, party guest\n",
            "KI   YS   0.600 Princess Ekaterina Alexandrovna Shtcherbatskaya (Kitty), wife of LE => Young Shtcherbatsky, brother of KI\n",
            "LE   YS   0.600 Konstantin Dmitrievitch Levin, proprietor of Pokrovskoe => Young Shtcherbatsky, brother of KI\n",
            "PR   ST   0.600 Prince Alexander Shtcherbatsky, father of DO and KI => Prince Stepan Arkadyevitch Oblonsky (Stiva), brother of AN\n",
            "DO   HO   0.580 Princess Darya Alexandrovna Oblonskaya (Dolly), wife of ST => Miss Hoole, English governess to DO's children\n",
            "KI   TC   0.580 Princess Ekaterina Alexandrovna Shtcherbatskaya (Kitty), wife of LE => Tchirikov, best man of LE\n",
            "PR   RT   0.580 Prince Alexander Shtcherbatsky, father of DO and KI => Marya Yevgenyevna Rtishtcheva, lady of Moscow\n",
            "PR   VK   0.580 Prince Alexander Shtcherbatsky, father of DO and KI => Varvara Andreevna (Varenka), adopted daughter of MS\n",
            "RT   VK   0.580 Marya Yevgenyevna Rtishtcheva, lady of Moscow => Varvara Andreevna (Varenka), adopted daughter of MS\n",
            "GR   KO   0.570 Grisha, young son of ST and DO => Sergei Ivanovitch Koznishev, half-brother of LE\n",
            "AN   SV   0.530 Anna Arkadyevna Karenina, wife of AL => Nikolay Ivanovitch Sviazhsky, landowner\n",
            "CN   VR   0.530 Countess Nordston, friend of KI => Count Alexey Kirillovitch Vronsky, young officer\n",
            "CN   PS   0.530 Countess Nordston, friend of KI => Princess Shtcherbatskaya, mother of DO and KI\n",
            "DO   VP   0.530 Princess Darya Alexandrovna Oblonskaya (Dolly), wife of ST => Princess Varvara, aunt of ST\n",
            "DO   SV   0.530 Princess Darya Alexandrovna Oblonskaya (Dolly), wife of ST => Nikolay Ivanovitch Sviazhsky, landowner\n",
            "GR   KI   0.530 Grisha, young son of ST and DO => Princess Ekaterina Alexandrovna Shtcherbatskaya (Kitty), wife of LE\n",
            "NY   ST   0.530 Nevyedovsky, malignant gentleman => Prince Stepan Arkadyevitch Oblonsky (Stiva), brother of AN\n",
            "NY   SV   0.530 Nevyedovsky, malignant gentleman => Nikolay Ivanovitch Sviazhsky, landowner\n",
            "NY   VR   0.530 Nevyedovsky, malignant gentleman => Count Alexey Kirillovitch Vronsky, young officer\n",
            "PR   VR   0.530 Prince Alexander Shtcherbatsky, father of DO and KI => Count Alexey Kirillovitch Vronsky, young officer\n",
            "SV   VP   0.530 Nikolay Ivanovitch Sviazhsky, landowner => Princess Varvara, aunt of ST\n",
            "SV   VV   0.530 Nikolay Ivanovitch Sviazhsky, landowner => Vassenka Veslovsky, distant cousin of KI\n",
            "VP   VV   0.530 Princess Varvara, aunt of ST => Vassenka Veslovsky, distant cousin of KI\n",
            "AL   KO   0.520 Alexey Alexandrovitch Karenin, minister of state => Sergei Ivanovitch Koznishev, half-brother of LE\n",
            "AL   TV   0.520 Alexey Alexandrovitch Karenin, minister of state => Turovtsin, party guest\n",
            "AL   PE   0.520 Alexey Alexandrovitch Karenin, minister of state => Pestsov, eccentric enthusiast\n",
            "PE   TV   0.520 Pestsov, eccentric enthusiast => Turovtsin, party guest\n",
            "PE   ST   0.520 Pestsov, eccentric enthusiast => Prince Stepan Arkadyevitch Oblonsky (Stiva), brother of AN\n",
            "AA   PX   0.500 Annushka, maid of AN => Pyotr, servant of AN\n",
            "AA   DO   0.500 Annushka, maid of AN => Princess Darya Alexandrovna Oblonskaya (Dolly), wife of ST\n",
            "AA   VR   0.500 Annushka, maid of AN => Count Alexey Kirillovitch Vronsky, young officer\n",
            "AG   NI   0.500 Agafea Mihalovna, housekeeper of LE => Nikolay Levin, brother of LE\n",
            "AN   FC   0.500 Anna Arkadyevna Karenina, wife of AL => Fyodor 1, coachman of AA\n",
            "AN   ME   0.500 Anna Arkadyevna Karenina, wife of AL => Mariette, governess of SE\n",
            "AN   XV   0.500 Anna Arkadyevna Karenina, wife of AL => Alexander Vronsky, brother of VR\n",
            "AN   SL   0.500 Anna Arkadyevna Karenina, wife of AL => Mihail Vassilievitch Sludin, secretary of AL's department\n",
            "BA   VP   0.500 Annie, baby of AN and VR => Princess Varvara, aunt of ST\n",
            "BA   DO   0.500 Annie, baby of AN and VR => Princess Darya Alexandrovna Oblonskaya (Dolly), wife of ST\n",
            "BD   PS   0.500 Dmitri (Mitya), baby of LE and KI => Princess Shtcherbatskaya, mother of DO and KI\n",
            "BE   KI   0.500 Madame Berthe, blind woman => Princess Ekaterina Alexandrovna Shtcherbatskaya (Kitty), wife of LE\n",
            "BE   PR   0.500 Madame Berthe, blind woman => Prince Alexander Shtcherbatsky, father of DO and KI\n",
            "CA   KI   0.500 Count Anitchkin, supervisor of ST => Princess Ekaterina Alexandrovna Shtcherbatskaya (Kitty), wife of LE\n",
            "CA   LE   0.500 Count Anitchkin, supervisor of ST => Konstantin Dmitrievitch Levin, proprietor of Pokrovskoe\n",
            "CO   MH   0.500 Cord, English horse trainer => Mahotin, rival horseman to VR\n",
            "DO   MM   0.500 Princess Darya Alexandrovna Oblonskaya (Dolly), wife of ST => Masha 3, little daughter of ST and DO\n",
            "ED   SE   0.500 Miss Edwards, English governor of SE => Sergey Alexeyevitch Karenin (Seryozha), son of AL and AN\n",
            "FC   PX   0.500 Fyodor 1, coachman of AA => Pyotr, servant of AN\n",
            "GA   LE   0.500 Gagin, officer from Petersburg => Konstantin Dmitrievitch Levin, proprietor of Pokrovskoe\n",
            "GA   VR   0.500 Gagin, officer from Petersburg => Count Alexey Kirillovitch Vronsky, young officer\n",
            "GA   ST   0.500 Gagin, officer from Petersburg => Prince Stepan Arkadyevitch Oblonsky (Stiva), brother of AN\n",
            "HA   VR   0.500 Hannah, pupil of AN => Count Alexey Kirillovitch Vronsky, young officer\n",
            "KE   SV   0.500 Prince Kedrov, member of VR's regiment => Nikolay Ivanovitch Sviazhsky, landowner\n",
            "KE   KZ   0.500 Prince Kedrov, member of VR's regiment => Kouzma, elderly servant of LE\n",
            "KI   NS   0.500 Princess Ekaterina Alexandrovna Shtcherbatskaya (Kitty), wife of LE => Nikolay Shtcherbatsky, cousin of KI\n",
            "KI   KZ   0.500 Princess Ekaterina Alexandrovna Shtcherbatskaya (Kitty), wife of LE => Kouzma, elderly servant of LE\n",
            "KI   KV   0.500 Princess Ekaterina Alexandrovna Shtcherbatskaya (Kitty), wife of LE => Krivin, bald socialite\n",
            "KO   KZ   0.500 Sergei Ivanovitch Koznishev, half-brother of LE => Kouzma, elderly servant of LE\n",
            "KT   ST   0.500 Professor Katavasov, natural scientist => Prince Stepan Arkadyevitch Oblonsky (Stiva), brother of AN\n",
            "KT   MO   0.500 Professor Katavasov, natural scientist => Metrov, Petersburg social scientist\n",
            "KU   MH   0.500 Prince Kuzovlev, fearful horseman => Mahotin, rival horseman to VR\n",
            "KY   ST   0.500 Korney, valet of AL => Prince Stepan Arkadyevitch Oblonsky (Stiva), brother of AN\n",
            "LE   PY   0.500 Konstantin Dmitrievitch Levin, proprietor of Pokrovskoe => Prohor Yermilin, mower\n",
            "LE   LV   0.500 Konstantin Dmitrievitch Levin, proprietor of Pokrovskoe => Arseny Lvov, husband of NA\n",
            "LE   MK   0.500 Konstantin Dmitrievitch Levin, proprietor of Pokrovskoe => Mishka, peasant lad\n",
            "LE   SY   0.500 Konstantin Dmitrievitch Levin, proprietor of Pokrovskoe => Semyon, contractor to LE\n",
            "LE   MO   0.500 Konstantin Dmitrievitch Levin, proprietor of Pokrovskoe => Metrov, Petersburg social scientist\n",
            "LE   RY   0.500 Konstantin Dmitrievitch Levin, proprietor of Pokrovskoe => Mihail Ignatitch Ryabinin, merchant\n",
            "LI   SE   0.500 Countess Lidia Ivanovna, Petersburg dogooder => Sergey Alexeyevitch Karenin (Seryozha), son of AL and AN\n",
            "LM   SM   0.500 Liza Merkalova, thin brunette admired by SM => Stremov, opponent of AL\n",
            "MA   PH   0.500 Matvey, valet of ST => Matrona Marya Philimonovna, nurse\n",
            "ME   SE   0.500 Mariette, governess of SE => Sergey Alexeyevitch Karenin (Seryozha), son of AL and AN\n",
            "MK   PY   0.500 Mishka, peasant lad => Prohor Yermilin, mower\n",
            "MN   VK   0.500 Marya Nikolaevna, companion of NI => Varvara Andreevna (Varenka), adopted daughter of MS\n",
            "MY   ST   0.500 Princess Myakaya, enfant terrible => Prince Stepan Arkadyevitch Oblonsky (Stiva), brother of AN\n",
            "NI   VK   0.500 Nikolay Levin, brother of LE => Varvara Andreevna (Varenka), adopted daughter of MS\n",
            "NI   PS   0.500 Nikolay Levin, brother of LE => Princess Shtcherbatskaya, mother of DO and KI\n",
            "PH   ST   0.500 Matrona Marya Philimonovna, nurse => Prince Stepan Arkadyevitch Oblonsky (Stiva), brother of AN\n",
            "PS   ST   0.500 Princess Shtcherbatskaya, mother of DO and KI => Prince Stepan Arkadyevitch Oblonsky (Stiva), brother of AN\n",
            "PS   YK   0.500 Princess Shtcherbatskaya, mother of DO and KI => Yegorushka Korsunsky, handsome dancer\n",
            "RY   ST   0.500 Mihail Ignatitch Ryabinin, merchant => Prince Stepan Arkadyevitch Oblonsky (Stiva), brother of AN\n",
            "SE   ST   0.500 Sergey Alexeyevitch Karenin (Seryozha), son of AL and AN => Prince Stepan Arkadyevitch Oblonsky (Stiva), brother of AN\n",
            "SM   VR   0.500 Stremov, opponent of AL => Count Alexey Kirillovitch Vronsky, young officer\n",
            "SY   VF   0.500 Semyon, contractor to LE => Vassily Fedorovitch, bailiff of LE\n",
            "VV   YV   0.500 Vassenka Veslovsky, distant cousin of KI => Captain Yashvin, gambling friend of VR\n",
            "DO   KV   0.450 Princess Darya Alexandrovna Oblonskaya (Dolly), wife of ST => Krivin, bald socialite\n",
            "GR   KV   0.450 Grisha, young son of ST and DO => Krivin, bald socialite\n",
            "KV   TA   0.450 Krivin, bald socialite => Tanya, oldest daughter of ST and DO\n",
            "AG   PS   0.420 Agafea Mihalovna, housekeeper of LE => Princess Shtcherbatskaya, mother of DO and KI\n",
            "AG   DO   0.420 Agafea Mihalovna, housekeeper of LE => Princess Darya Alexandrovna Oblonskaya (Dolly), wife of ST\n",
            "KI   VV   0.420 Princess Ekaterina Alexandrovna Shtcherbatskaya (Kitty), wife of LE => Vassenka Veslovsky, distant cousin of KI\n",
            "DO   PD   0.370 Princess Darya Alexandrovna Oblonskaya (Dolly), wife of ST => Pyotr Dmitrievitch, doctor\n",
            "DO   LP   0.370 Princess Darya Alexandrovna Oblonskaya (Dolly), wife of ST => Lizaveta Petrovna, midwife\n",
            "GR   PR   0.370 Grisha, young son of ST and DO => Prince Alexander Shtcherbatsky, father of DO and KI\n",
            "KI   PD   0.370 Princess Ekaterina Alexandrovna Shtcherbatskaya (Kitty), wife of LE => Pyotr Dmitrievitch, doctor\n",
            "KI   LP   0.370 Princess Ekaterina Alexandrovna Shtcherbatskaya (Kitty), wife of LE => Lizaveta Petrovna, midwife\n",
            "LE   PD   0.370 Konstantin Dmitrievitch Levin, proprietor of Pokrovskoe => Pyotr Dmitrievitch, doctor\n",
            "LP   PD   0.370 Lizaveta Petrovna, midwife => Pyotr Dmitrievitch, doctor\n",
            "LP   PS   0.370 Lizaveta Petrovna, midwife => Princess Shtcherbatskaya, mother of DO and KI\n",
            "PD   PS   0.370 Pyotr Dmitrievitch, doctor => Princess Shtcherbatskaya, mother of DO and KI\n",
            "AG   MQ   0.330 Agafea Mihalovna, housekeeper of LE => Masha 2, maid of KI\n",
            "AN   PO   0.330 Anna Arkadyevna Karenina, wife of AL => Princess Oblonskaya, unmarried aunt of AN\n",
            "AN   MX   0.330 Anna Arkadyevna Karenina, wife of AL => Masha 1, young relative of BT\n",
            "AN   TA   0.330 Anna Arkadyevna Karenina, wife of AL => Tanya, oldest daughter of ST and DO\n",
            "AN   CV   0.330 Anna Arkadyevna Karenina, wife of AL => Countess Vronskaya, mother of VR\n",
            "AN   GR   0.330 Anna Arkadyevna Karenina, wife of AL => Grisha, young son of ST and DO\n",
            "AN   VY   0.330 Anna Arkadyevna Karenina, wife of AL => Voytov, horse purchaser\n",
            "AO   DO   0.330 Aliosha, son of DO and ST => Princess Darya Alexandrovna Oblonskaya (Dolly), wife of ST\n",
            "AO   LL   0.330 Aliosha, son of DO and ST => Lily, youngest child of DO and ST\n",
            "AO   TA   0.330 Aliosha, son of DO and ST => Tanya, oldest daughter of ST and DO\n",
            "AP   PR   0.330 Anna Pavlovna, wife of PV => Prince Alexander Shtcherbatsky, father of DO and KI\n",
            "BT   TU   0.330 Princess Betsy Tverskaya, cousin of VR => Tushkevitch, croquet player\n",
            "BT   MX   0.330 Princess Betsy Tverskaya, cousin of VR => Masha 1, young relative of BT\n",
            "CV   SO   0.330 Countess Vronskaya, mother of VR => Princess Sorokina, young friend of CV\n",
            "DO   TU   0.330 Princess Darya Alexandrovna Oblonskaya (Dolly), wife of ST => Tushkevitch, croquet player\n",
            "DO   KE   0.330 Princess Darya Alexandrovna Oblonskaya (Dolly), wife of ST => Prince Kedrov, member of VR's regiment\n",
            "GR   VV   0.330 Grisha, young son of ST and DO => Vassenka Veslovsky, distant cousin of KI\n",
            "GV   NN   0.330 Grinevitch (Mihail Stanislavitch), board member => Nikitin (Philip Ivanovitch), board member\n",
            "GV   LE   0.330 Grinevitch (Mihail Stanislavitch), board member => Konstantin Dmitrievitch Levin, proprietor of Pokrovskoe\n",
            "GV   ST   0.330 Grinevitch (Mihail Stanislavitch), board member => Prince Stepan Arkadyevitch Oblonsky (Stiva), brother of AN\n",
            "HO   PH   0.330 Miss Hoole, English governess to DO's children => Matrona Marya Philimonovna, nurse\n",
            "KA   VR   0.330 Captain Kamerovsky, cavalry officer => Count Alexey Kirillovitch Vronsky, young officer\n",
            "KA   PT   0.330 Captain Kamerovsky, cavalry officer => Lieutenant Petritsky, friend of VR\n",
            "KA   SH   0.330 Captain Kamerovsky, cavalry officer => Baroness Shilton, friend of PT\n",
            "KE   SO   0.330 Prince Kedrov, member of VR's regiment => Princess Sorokina, young friend of CV\n",
            "KE   VE   0.330 Prince Kedrov, member of VR's regiment => Venden, mustachioed clerk\n",
            "KE   LE   0.330 Prince Kedrov, member of VR's regiment => Konstantin Dmitrievitch Levin, proprietor of Pokrovskoe\n",
            "KE   PT   0.330 Prince Kedrov, member of VR's regiment => Lieutenant Petritsky, friend of VR\n",
            "KE   NA   0.330 Prince Kedrov, member of VR's regiment => Princess Natalia Lvova, sister of DO and KI\n",
            "KE   VR   0.330 Prince Kedrov, member of VR's regiment => Count Alexey Kirillovitch Vronsky, young officer\n",
            "KE   ST   0.330 Prince Kedrov, member of VR's regiment => Prince Stepan Arkadyevitch Oblonsky (Stiva), brother of AN\n",
            "KI   MB   0.330 Princess Ekaterina Alexandrovna Shtcherbatskaya (Kitty), wife of LE => Princess Marya Borissovna, KI's godmother\n",
            "KI   TA   0.330 Princess Ekaterina Alexandrovna Shtcherbatskaya (Kitty), wife of LE => Tanya, oldest daughter of ST and DO\n",
            "KI   MQ   0.330 Princess Ekaterina Alexandrovna Shtcherbatskaya (Kitty), wife of LE => Masha 2, maid of KI\n",
            "KI   KT   0.330 Princess Ekaterina Alexandrovna Shtcherbatskaya (Kitty), wife of LE => Professor Katavasov, natural scientist\n",
            "KO   TC   0.330 Sergei Ivanovitch Koznishev, half-brother of LE => Tchirikov, best man of LE\n",
            "KO   SO   0.330 Sergei Ivanovitch Koznishev, half-brother of LE => Princess Sorokina, young friend of CV\n",
            "KT   TC   0.330 Professor Katavasov, natural scientist => Tchirikov, best man of LE\n",
            "LE   NN   0.330 Konstantin Dmitrievitch Levin, proprietor of Pokrovskoe => Nikitin (Philip Ivanovitch), board member\n",
            "LE   LL   0.330 Konstantin Dmitrievitch Levin, proprietor of Pokrovskoe => Lily, youngest child of DO and ST\n",
            "LE   MQ   0.330 Konstantin Dmitrievitch Levin, proprietor of Pokrovskoe => Masha 2, maid of KI\n",
            "LE   MZ   0.330 Konstantin Dmitrievitch Levin, proprietor of Pokrovskoe => Madame Sviazhskaya, wife of SV\n",
            "LE   NT   0.330 Konstantin Dmitrievitch Levin, proprietor of Pokrovskoe => Nastia, sister of MV\n",
            "LE   PH   0.330 Konstantin Dmitrievitch Levin, proprietor of Pokrovskoe => Matrona Marya Philimonovna, nurse\n",
            "LE   MP   0.330 Konstantin Dmitrievitch Levin, proprietor of Pokrovskoe => Mihael Petrovitch, landowner\n",
            "LL   PH   0.330 Lily, youngest child of DO and ST => Matrona Marya Philimonovna, nurse\n",
            "LL   TA   0.330 Lily, youngest child of DO and ST => Tanya, oldest daughter of ST and DO\n",
            "LM   TU   0.330 Liza Merkalova, thin brunette admired by SM => Tushkevitch, croquet player\n",
            "MB   PR   0.330 Princess Marya Borissovna, KI's godmother => Prince Alexander Shtcherbatsky, father of DO and KI\n",
            "MB   VR   0.330 Princess Marya Borissovna, KI's godmother => Count Alexey Kirillovitch Vronsky, young officer\n",
            "MP   SV   0.330 Mihael Petrovitch, landowner => Nikolay Ivanovitch Sviazhsky, landowner\n",
            "MP   SN   0.330 Mihael Petrovitch, landowner => Stepan Vassilievitch, landowner\n",
            "MS   PR   0.330 Madame Stahl, invalid philanthropist => Prince Alexander Shtcherbatsky, father of DO and KI\n",
            "MX   TU   0.330 Masha 1, young relative of BT => Tushkevitch, croquet player\n",
            "MZ   NT   0.330 Madame Sviazhskaya, wife of SV => Nastia, sister of MV\n",
            "MZ   SV   0.330 Madame Sviazhskaya, wife of SV => Nikolay Ivanovitch Sviazhsky, landowner\n",
            "NN   ST   0.330 Nikitin (Philip Ivanovitch), board member => Prince Stepan Arkadyevitch Oblonsky (Stiva), brother of AN\n",
            "NT   SV   0.330 Nastia, sister of MV => Nikolay Ivanovitch Sviazhsky, landowner\n",
            "PH   TA   0.330 Matrona Marya Philimonovna, nurse => Tanya, oldest daughter of ST and DO\n",
            "PO   VR   0.330 Princess Oblonskaya, unmarried aunt of AN => Count Alexey Kirillovitch Vronsky, young officer\n",
            "PO   TU   0.330 Princess Oblonskaya, unmarried aunt of AN => Tushkevitch, croquet player\n",
            "PR   PV   0.330 Prince Alexander Shtcherbatsky, father of DO and KI => Mihail Alexeyevitch Petrov, painter\n",
            "PR   TC   0.330 Prince Alexander Shtcherbatsky, father of DO and KI => Tchirikov, best man of LE\n",
            "PT   SH   0.330 Lieutenant Petritsky, friend of VR => Baroness Shilton, friend of PT\n",
            "PT   VE   0.330 Lieutenant Petritsky, friend of VR => Venden, mustachioed clerk\n",
            "SH   VR   0.330 Baroness Shilton, friend of PT => Count Alexey Kirillovitch Vronsky, young officer\n",
            "SM   TU   0.330 Stremov, opponent of AL => Tushkevitch, croquet player\n",
            "SO   VA   0.330 Princess Sorokina, young friend of CV => Varya, wife of XV\n",
            "SO   ST   0.330 Princess Sorokina, young friend of CV => Prince Stepan Arkadyevitch Oblonsky (Stiva), brother of AN\n",
            "SV   TU   0.330 Nikolay Ivanovitch Sviazhsky, landowner => Tushkevitch, croquet player\n",
            "TU   YV   0.330 Tushkevitch, croquet player => Captain Yashvin, gambling friend of VR\n",
            "TU   VP   0.330 Tushkevitch, croquet player => Princess Varvara, aunt of ST\n",
            "TU   VV   0.330 Tushkevitch, croquet player => Vassenka Veslovsky, distant cousin of KI\n",
            "VE   VR   0.330 Venden, mustachioed clerk => Count Alexey Kirillovitch Vronsky, young officer\n",
            "VR   YK   0.330 Count Alexey Kirillovitch Vronsky, young officer => Yegorushka Korsunsky, handsome dancer\n",
            "VR   VY   0.330 Count Alexey Kirillovitch Vronsky, young officer => Voytov, horse purchaser\n",
            "VY   YV   0.330 Voytov, horse purchaser => Captain Yashvin, gambling friend of VR\n",
            "AL   PR   0.270 Alexey Alexandrovitch Karenin, minister of state => Prince Alexander Shtcherbatsky, father of DO and KI\n",
            "DO   PE   0.270 Princess Darya Alexandrovna Oblonskaya (Dolly), wife of ST => Pestsov, eccentric enthusiast\n",
            "PE   PR   0.270 Pestsov, eccentric enthusiast => Prince Alexander Shtcherbatsky, father of DO and KI\n",
            "PR   TV   0.270 Prince Alexander Shtcherbatsky, father of DO and KI => Turovtsin, party guest\n",
            "AL   MY   0.250 Alexey Alexandrovitch Karenin, minister of state => Princess Myakaya, enfant terrible\n",
            "AL   EF   0.250 Alexey Alexandrovitch Karenin, minister of state => Marya Efimovna, nurse of AL\n",
            "AL   SI   0.250 Alexey Alexandrovitch Karenin, minister of state => Vassily Lukitch Sitnikov, tutor of SE\n",
            "AN   SI   0.250 Anna Arkadyevna Karenina, wife of AL => Vassily Lukitch Sitnikov, tutor of SE\n",
            "AN   EF   0.250 Anna Arkadyevna Karenina, wife of AL => Marya Efimovna, nurse of AL\n",
            "AN   KV   0.250 Anna Arkadyevna Karenina, wife of AL => Krivin, bald socialite\n",
            "AN   MY   0.250 Anna Arkadyevna Karenina, wife of AL => Princess Myakaya, enfant terrible\n",
            "CD   SP   0.250 Colonel Demin, colleague of VR => General Serpuhovskoy, rival of VR\n",
            "CD   YV   0.250 Colonel Demin, colleague of VR => Captain Yashvin, gambling friend of VR\n",
            "CD   PT   0.250 Colonel Demin, colleague of VR => Lieutenant Petritsky, friend of VR\n",
            "CD   VR   0.250 Colonel Demin, colleague of VR => Count Alexey Kirillovitch Vronsky, young officer\n",
            "DO   TC   0.250 Princess Darya Alexandrovna Oblonskaya (Dolly), wife of ST => Tchirikov, best man of LE\n",
            "DO   NL   0.250 Princess Darya Alexandrovna Oblonskaya (Dolly), wife of ST => Nikolinka, son of DO and ST\n",
            "EF   SI   0.250 Marya Efimovna, nurse of AL => Vassily Lukitch Sitnikov, tutor of SE\n",
            "EF   SE   0.250 Marya Efimovna, nurse of AL => Sergey Alexeyevitch Karenin (Seryozha), son of AL and AN\n",
            "GR   NL   0.250 Grisha, young son of ST and DO => Nikolinka, son of DO and ST\n",
            "GR   HO   0.250 Grisha, young son of ST and DO => Miss Hoole, English governess to DO's children\n",
            "HA   ST   0.250 Hannah, pupil of AN => Prince Stepan Arkadyevitch Oblonsky (Stiva), brother of AN\n",
            "HA   VO   0.250 Hannah, pupil of AN => Ivan Petrovich Vorkuev, publisher\n",
            "HA   LE   0.250 Hannah, pupil of AN => Konstantin Dmitrievitch Levin, proprietor of Pokrovskoe\n",
            "HO   NL   0.250 Miss Hoole, English governess to DO's children => Nikolinka, son of DO and ST\n",
            "KV   VR   0.250 Krivin, bald socialite => Count Alexey Kirillovitch Vronsky, young officer\n",
            "KV   ST   0.250 Krivin, bald socialite => Prince Stepan Arkadyevitch Oblonsky (Stiva), brother of AN\n",
            "KV   LI   0.250 Krivin, bald socialite => Countess Lidia Ivanovna, Petersburg dogooder\n",
            "KV   LE   0.250 Krivin, bald socialite => Konstantin Dmitrievitch Levin, proprietor of Pokrovskoe\n",
            "LE   VO   0.250 Konstantin Dmitrievitch Levin, proprietor of Pokrovskoe => Ivan Petrovich Vorkuev, publisher\n",
            "LI   VR   0.250 Countess Lidia Ivanovna, Petersburg dogooder => Count Alexey Kirillovitch Vronsky, young officer\n",
            "NL   TA   0.250 Nikolinka, son of DO and ST => Tanya, oldest daughter of ST and DO\n",
            "PT   SP   0.250 Lieutenant Petritsky, friend of VR => General Serpuhovskoy, rival of VR\n",
            "SP   YV   0.250 General Serpuhovskoy, rival of VR => Captain Yashvin, gambling friend of VR\n",
            "ST   VO   0.250 Prince Stepan Arkadyevitch Oblonsky (Stiva), brother of AN => Ivan Petrovich Vorkuev, publisher\n",
            "ST   TC   0.250 Prince Stepan Arkadyevitch Oblonsky (Stiva), brother of AN => Tchirikov, best man of LE\n",
            "TV   VK   0.250 Turovtsin, party guest => Varvara Andreevna (Varenka), adopted daughter of MS\n",
            "CN   PR   0.200 Countess Nordston, friend of KI => Prince Alexander Shtcherbatsky, father of DO and KI\n",
            "GR   VK   0.200 Grisha, young son of ST and DO => Varvara Andreevna (Varenka), adopted daughter of MS\n",
            "KI   MM   0.200 Princess Ekaterina Alexandrovna Shtcherbatskaya (Kitty), wife of LE => Masha 3, little daughter of ST and DO\n",
            "KO   NY   0.200 Sergei Ivanovitch Koznishev, half-brother of LE => Nevyedovsky, malignant gentleman\n",
            "KO   TA   0.200 Sergei Ivanovitch Koznishev, half-brother of LE => Tanya, oldest daughter of ST and DO\n",
            "KO   MM   0.200 Sergei Ivanovitch Koznishev, half-brother of LE => Masha 3, little daughter of ST and DO\n",
            "KV   PR   0.200 Krivin, bald socialite => Prince Alexander Shtcherbatsky, father of DO and KI\n",
            "LE   NY   0.200 Konstantin Dmitrievitch Levin, proprietor of Pokrovskoe => Nevyedovsky, malignant gentleman\n",
            "MM   VK   0.200 Masha 3, little daughter of ST and DO => Varvara Andreevna (Varenka), adopted daughter of MS\n",
            "PR   TA   0.200 Prince Alexander Shtcherbatsky, father of DO and KI => Tanya, oldest daughter of ST and DO\n",
            "AG   VK   0.170 Agafea Mihalovna, housekeeper of LE => Varvara Andreevna (Varenka), adopted daughter of MS\n",
            "AN   SS   0.170 Anna Arkadyevna Karenina, wife of AL => Sappho Shtolz, blonde beauty\n",
            "AN   PK   0.170 Anna Arkadyevna Karenina, wife of AL => Prince Kaluzhsky, Petersburg party guest\n",
            "AN   VS   0.170 Anna Arkadyevna Karenina, wife of AL => Vaska, admirer of SS\n",
            "BD   LP   0.170 Dmitri (Mitya), baby of LE and KI => Lizaveta Petrovna, midwife\n",
            "BD   PD   0.170 Dmitri (Mitya), baby of LE and KI => Pyotr Dmitrievitch, doctor\n",
            "BD   DO   0.170 Dmitri (Mitya), baby of LE and KI => Princess Darya Alexandrovna Oblonskaya (Dolly), wife of ST\n",
            "BT   LM   0.170 Princess Betsy Tverskaya, cousin of VR => Liza Merkalova, thin brunette admired by SM\n",
            "BT   SM   0.170 Princess Betsy Tverskaya, cousin of VR => Stremov, opponent of AL\n",
            "BT   SS   0.170 Princess Betsy Tverskaya, cousin of VR => Sappho Shtolz, blonde beauty\n",
            "BT   PK   0.170 Princess Betsy Tverskaya, cousin of VR => Prince Kaluzhsky, Petersburg party guest\n",
            "BT   VS   0.170 Princess Betsy Tverskaya, cousin of VR => Vaska, admirer of SS\n",
            "DO   KT   0.170 Princess Darya Alexandrovna Oblonskaya (Dolly), wife of ST => Professor Katavasov, natural scientist\n",
            "DO   MJ   0.170 Princess Darya Alexandrovna Oblonskaya (Dolly), wife of ST => Mihailitch, beekeeper\n",
            "DO   MV   0.170 Princess Darya Alexandrovna Oblonskaya (Dolly), wife of ST => Marya Vlasyevna, midwife\n",
            "GA   VI   0.170 Gagin, officer from Petersburg => Pyotr Ilyitch Vinovsky, club friend of ST\n",
            "GA   TV   0.170 Gagin, officer from Petersburg => Turovtsin, party guest\n",
            "GA   YV   0.170 Gagin, officer from Petersburg => Captain Yashvin, gambling friend of VR\n",
            "GR   MJ   0.170 Grisha, young son of ST and DO => Mihailitch, beekeeper\n",
            "GR   KT   0.170 Grisha, young son of ST and DO => Professor Katavasov, natural scientist\n",
            "KO   MJ   0.170 Sergei Ivanovitch Koznishev, half-brother of LE => Mihailitch, beekeeper\n",
            "KO   PS   0.170 Sergei Ivanovitch Koznishev, half-brother of LE => Princess Shtcherbatskaya, mother of DO and KI\n",
            "KT   MJ   0.170 Professor Katavasov, natural scientist => Mihailitch, beekeeper\n",
            "LE   VI   0.170 Konstantin Dmitrievitch Levin, proprietor of Pokrovskoe => Pyotr Ilyitch Vinovsky, club friend of ST\n",
            "LE   MV   0.170 Konstantin Dmitrievitch Levin, proprietor of Pokrovskoe => Marya Vlasyevna, midwife\n",
            "LE   YV   0.170 Konstantin Dmitrievitch Levin, proprietor of Pokrovskoe => Captain Yashvin, gambling friend of VR\n",
            "LE   MJ   0.170 Konstantin Dmitrievitch Levin, proprietor of Pokrovskoe => Mihailitch, beekeeper\n",
            "LM   VS   0.170 Liza Merkalova, thin brunette admired by SM => Vaska, admirer of SS\n",
            "LM   PK   0.170 Liza Merkalova, thin brunette admired by SM => Prince Kaluzhsky, Petersburg party guest\n",
            "LM   SS   0.170 Liza Merkalova, thin brunette admired by SM => Sappho Shtolz, blonde beauty\n",
            "MJ   PR   0.170 Mihailitch, beekeeper => Prince Alexander Shtcherbatsky, father of DO and KI\n",
            "MV   ST   0.170 Marya Vlasyevna, midwife => Prince Stepan Arkadyevitch Oblonsky (Stiva), brother of AN\n",
            "MV   PS   0.170 Marya Vlasyevna, midwife => Princess Shtcherbatskaya, mother of DO and KI\n",
            "MV   VV   0.170 Marya Vlasyevna, midwife => Vassenka Veslovsky, distant cousin of KI\n",
            "PK   VS   0.170 Prince Kaluzhsky, Petersburg party guest => Vaska, admirer of SS\n",
            "PK   SS   0.170 Prince Kaluzhsky, Petersburg party guest => Sappho Shtolz, blonde beauty\n",
            "PK   SM   0.170 Prince Kaluzhsky, Petersburg party guest => Stremov, opponent of AL\n",
            "SM   SS   0.170 Stremov, opponent of AL => Sappho Shtolz, blonde beauty\n",
            "SM   VS   0.170 Stremov, opponent of AL => Vaska, admirer of SS\n",
            "SS   VS   0.170 Sappho Shtolz, blonde beauty => Vaska, admirer of SS\n",
            "ST   YV   0.170 Prince Stepan Arkadyevitch Oblonsky (Stiva), brother of AN => Captain Yashvin, gambling friend of VR\n",
            "ST   VI   0.170 Prince Stepan Arkadyevitch Oblonsky (Stiva), brother of AN => Pyotr Ilyitch Vinovsky, club friend of ST\n",
            "TV   VR   0.170 Turovtsin, party guest => Count Alexey Kirillovitch Vronsky, young officer\n",
            "TV   YV   0.170 Turovtsin, party guest => Captain Yashvin, gambling friend of VR\n",
            "TV   VI   0.170 Turovtsin, party guest => Pyotr Ilyitch Vinovsky, club friend of ST\n",
            "VI   VR   0.170 Pyotr Ilyitch Vinovsky, club friend of ST => Count Alexey Kirillovitch Vronsky, young officer\n",
            "VI   YV   0.170 Pyotr Ilyitch Vinovsky, club friend of ST => Captain Yashvin, gambling friend of VR\n",
            "AL   MA   0.100 Alexey Alexandrovitch Karenin, minister of state => Matvey, valet of ST\n",
            "AL   LE   0.100 Alexey Alexandrovitch Karenin, minister of state => Konstantin Dmitrievitch Levin, proprietor of Pokrovskoe\n",
            "AL   KI   0.100 Alexey Alexandrovitch Karenin, minister of state => Princess Ekaterina Alexandrovna Shtcherbatskaya (Kitty), wife of LE\n",
            "KI   PE   0.100 Princess Ekaterina Alexandrovna Shtcherbatskaya (Kitty), wife of LE => Pestsov, eccentric enthusiast\n",
            "KI   MA   0.100 Princess Ekaterina Alexandrovna Shtcherbatskaya (Kitty), wife of LE => Matvey, valet of ST\n",
            "KO   MA   0.100 Sergei Ivanovitch Koznishev, half-brother of LE => Matvey, valet of ST\n",
            "KO   YS   0.100 Sergei Ivanovitch Koznishev, half-brother of LE => Young Shtcherbatsky, brother of KI\n",
            "LE   MA   0.100 Konstantin Dmitrievitch Levin, proprietor of Pokrovskoe => Matvey, valet of ST\n",
            "MA   PE   0.100 Matvey, valet of ST => Pestsov, eccentric enthusiast\n",
            "MA   TV   0.100 Matvey, valet of ST => Turovtsin, party guest\n",
            "MA   YS   0.100 Matvey, valet of ST => Young Shtcherbatsky, brother of KI\n",
            "MA   PR   0.100 Matvey, valet of ST => Prince Alexander Shtcherbatsky, father of DO and KI\n",
            "PE   YS   0.100 Pestsov, eccentric enthusiast => Young Shtcherbatsky, brother of KI\n",
            "PR   YS   0.100 Prince Alexander Shtcherbatsky, father of DO and KI => Young Shtcherbatsky, brother of KI\n",
            "ST   YS   0.100 Prince Stepan Arkadyevitch Oblonsky (Stiva), brother of AN => Young Shtcherbatsky, brother of KI\n",
            "TV   YS   0.100 Turovtsin, party guest => Young Shtcherbatsky, brother of KI\n"
          ],
          "name": "stdout"
        }
      ]
    },
    {
      "cell_type": "markdown",
      "metadata": {
        "id": "BgZC8rwEIl2_"
      },
      "source": [
        "In the loop above we kept track of total edge weights per character, which turns out to be the same\n",
        "as the number of scenes the character occurs in.  That's a nice masure of a character's importance.\n",
        "Interestingly, Kitty, Levin's wife, turns out to be more important than Vronsky by this measure,\n",
        "which is not all that intuitive."
      ]
    },
    {
      "cell_type": "code",
      "metadata": {
        "scrolled": true,
        "colab": {
          "base_uri": "https://localhost:8080/"
        },
        "id": "1dXoHMAaIl2_",
        "outputId": "26adac0b-d88d-495e-c789-50a6acef286c"
      },
      "source": [
        "all_char_ctr.most_common(10)"
      ],
      "execution_count": 13,
      "outputs": [
        {
          "output_type": "execute_result",
          "data": {
            "text/plain": [
              "[('LE', 150.98),\n",
              " ('AN', 102.98),\n",
              " ('KI', 86.98999999999998),\n",
              " ('VR', 84.95000000000002),\n",
              " ('ST', 80.99),\n",
              " ('DO', 57.01000000000002),\n",
              " ('AL', 49.01000000000002),\n",
              " ('KO', 40.01000000000002),\n",
              " ('PS', 31.010000000000012),\n",
              " ('PR', 27.98999999999999)]"
            ]
          },
          "metadata": {
            "tags": []
          },
          "execution_count": 13
        }
      ]
    },
    {
      "cell_type": "markdown",
      "metadata": {
        "id": "V1j1HNvxIl2_"
      },
      "source": [
        "## Question One"
      ]
    },
    {
      "cell_type": "markdown",
      "metadata": {
        "id": "nZdLKBCxIl2_"
      },
      "source": [
        "Draw a graph of the 30  strongest relationships in Anna Karenina as measured by edge weight.  Draw\n",
        "only the characters participatinging in those 30 most central relationships.\n",
        "Extra credit: Associate edge weight with a color map.  \n",
        "\n",
        "Answer this question:  Which character appears in the most\n",
        "string relatonships.\n",
        "\n",
        "HINT:  Look at some of the examples in the `using_networkx` notebook for choosing what nodes\n",
        "to include in a graph.  Choosing which edges to include may require reading a little\n",
        "documentation."
      ]
    },
    {
      "cell_type": "markdown",
      "metadata": {
        "id": "xPWxjwrkIl2_"
      },
      "source": [
        "## Question Two:  Degree and betweenness centrality"
      ]
    },
    {
      "cell_type": "markdown",
      "metadata": {
        "id": "xd-lII3vIl2_"
      },
      "source": [
        "We now look at degree and betweenness centrality.  These define different notions of character importance and\n",
        "edge centrality.  Sort the characters by degree centrality and by betweenness centrality.\n",
        "\n",
        "HINT: Look at the `using_networkx` notebook."
      ]
    },
    {
      "cell_type": "markdown",
      "metadata": {
        "id": "oS6oDotIIl2_"
      },
      "source": [
        ""
      ]
    },
    {
      "cell_type": "markdown",
      "metadata": {
        "id": "9D1V2f3tIl2_"
      },
      "source": [
        "## Question Three:  Analysis of one character's most important relationships"
      ]
    },
    {
      "cell_type": "markdown",
      "metadata": {
        "id": "QOnUhVM7Il2_"
      },
      "source": [
        "A new function to help"
      ]
    },
    {
      "cell_type": "code",
      "metadata": {
        "id": "V6mtzXs6Il2_"
      },
      "source": [
        "def print_edge_info (edge_list, source):\n",
        "    for (st, end) in edge_list:\n",
        "      if st == source:\n",
        "          print('{0} {1:<50} {2:.3f}'.format(end, desc_dict[end]['desc'],\n",
        "                                             ak.get_edge_data(st,end)['value']))\n",
        "      elif end == source:\n",
        "           print('{0} {1:<50} {2:.3f}'.format(end, desc_dict[st]['desc'],\n",
        "                                             ak.get_edge_data(st,end)['value']))"
      ],
      "execution_count": 15,
      "outputs": []
    },
    {
      "cell_type": "markdown",
      "metadata": {
        "id": "ziRF_X2-Il2_"
      },
      "source": [
        "Let's take a look at that scoundrel Vronsky, by retrieving all edges containing VR.  The above edge printing function gives some helpful clues."
      ]
    },
    {
      "cell_type": "code",
      "metadata": {
        "scrolled": false,
        "colab": {
          "base_uri": "https://localhost:8080/"
        },
        "id": "3yY-8lXyIl2_",
        "outputId": "b3814ad3-ddc9-4b65-e4c5-28c8f17c32a8"
      },
      "source": [
        "print_edge_info (ak.edges(), 'VR')"
      ],
      "execution_count": 16,
      "outputs": [
        {
          "output_type": "stream",
          "text": [
            "VR Annushka, maid of AN                               0.500\n",
            "VR Alexey Alexandrovitch Karenin, minister of state   2.580\n",
            "VR Anna Arkadyevna Karenina, wife of AL               27.200\n",
            "VR Princess Betsy Tverskaya, cousin of VR             4.080\n",
            "VR Colonel Demin, colleague of VR                     0.250\n",
            "VR Countess Nordston, friend of KI                    0.530\n",
            "VR Cord, English horse trainer                        1.500\n",
            "VR Countess Vronskaya, mother of VR                   1.670\n",
            "VR Princess Darya Alexandrovna Oblonskaya (Dolly), wife of ST 1.870\n",
            "VR Gagin, officer from Petersburg                     0.500\n",
            "VR Golenishtchev, friend of VR                        2.330\n",
            "VR Hannah, pupil of AN                                0.500\n",
            "VR Captain Kamerovsky, cavalry officer                0.330\n",
            "VR Prince Kedrov, member of VR's regiment             0.330\n",
            "VR Princess Ekaterina Alexandrovna Shtcherbatskaya (Kitty), wife of LE 2.200\n",
            "VR Sergei Ivanovitch Koznishev, half-brother of LE    1.530\n",
            "VR Kapitonitch, hall porter of AL                     1.000\n",
            "VR Prince Kuzovlev, fearful horseman                  1.500\n",
            "VR Krivin, bald socialite                             0.250\n",
            "VR Konstantin Dmitrievitch Levin, proprietor of Pokrovskoe 0.900\n",
            "VR Countess Lidia Ivanovna, Petersburg dogooder       0.250\n",
            "VR Princess Marya Borissovna, KI's godmother          0.330\n",
            "VR Mahotin, rival horseman to VR                      1.000\n",
            "VR Mihailov, painter                                  1.330\n",
            "VR Princess Myakaya, enfant terrible                  0.750\n",
            "VR Nevyedovsky, malignant gentleman                   0.530\n",
            "VR Princess Oblonskaya, unmarried aunt of AN          0.330\n",
            "VR Prince Alexander Shtcherbatsky, father of DO and KI 0.530\n",
            "VR Princess Shtcherbatskaya, mother of DO and KI      1.030\n",
            "VR Lieutenant Petritsky, friend of VR                 2.420\n",
            "VR Baroness Shilton, friend of PT                     0.330\n",
            "VR Stremov, opponent of AL                            0.500\n",
            "VR Princess Sorokina, young friend of CV              1.330\n",
            "VR General Serpuhovskoy, rival of VR                  1.250\n",
            "VR Prince Stepan Arkadyevitch Oblonsky (Stiva), brother of AN 4.450\n",
            "VR Nikolay Ivanovitch Sviazhsky, landowner            1.400\n",
            "VR Tushkevitch, croquet player                        1.000\n",
            "VR Turovtsin, party guest                             0.170\n",
            "VR Varya, wife of XV                                  2.830\n",
            "VR Venden, mustachioed clerk                          0.330\n",
            "VR Pyotr Ilyitch Vinovsky, club friend of ST          0.170\n",
            "VR Princess Varvara, aunt of ST                       1.030\n",
            "XV Alexander Vronsky, brother of VR                   2.500\n",
            "YV Captain Yashvin, gambling friend of VR             6.080\n",
            "VV Vassenka Veslovsky, distant cousin of KI           0.870\n",
            "YK Yegorushka Korsunsky, handsome dancer              0.330\n",
            "VY Voytov, horse purchaser                            0.330\n"
          ],
          "name": "stdout"
        }
      ]
    },
    {
      "cell_type": "code",
      "metadata": {
        "id": "6vMbAmqZIl2_"
      },
      "source": [
        "print_edge_info (edge_list, source)"
      ],
      "execution_count": null,
      "outputs": []
    },
    {
      "cell_type": "markdown",
      "metadata": {
        "id": "Oqh7lZogIl2_"
      },
      "source": [
        "Sort the edges involving Vronsky by their weight, so that we can find Vronsky's most\n",
        "important relationsips."
      ]
    },
    {
      "cell_type": "markdown",
      "metadata": {
        "id": "gjt9cV5GIl2_"
      },
      "source": [
        "## Question Four: The three relationships in the novel's central triangle"
      ]
    },
    {
      "cell_type": "markdown",
      "metadata": {
        "id": "fLL4f5G-Il2_"
      },
      "source": [
        "Find the weights of the three relationships involving the three most important characters in the novel's\n",
        "central triangle, Anna, Vronsky, and Karenin."
      ]
    },
    {
      "cell_type": "markdown",
      "metadata": {
        "id": "LfT31n0NIl2_"
      },
      "source": [
        "## Question Five: Two important characters with no shared scenes"
      ]
    },
    {
      "cell_type": "markdown",
      "metadata": {
        "id": "76ZuWoJAIl2_"
      },
      "source": [
        "Write a piece of code that computes the set of all characters participating in all the\n",
        "30 most heavily weighted edges. Name that set `top_chars`."
      ]
    },
    {
      "cell_type": "markdown",
      "metadata": {
        "id": "4RVK_df4Il2_"
      },
      "source": [
        " Write another piece of code to find all characters in `top_chars` that Vronsky never meets:"
      ]
    },
    {
      "cell_type": "markdown",
      "metadata": {
        "id": "4_nvtISiIl2_"
      },
      "source": [
        "And now the same for Anna."
      ]
    },
    {
      "cell_type": "code",
      "metadata": {
        "id": "fA-F9hkyIl2_"
      },
      "source": [
        ""
      ],
      "execution_count": null,
      "outputs": []
    }
  ]
}