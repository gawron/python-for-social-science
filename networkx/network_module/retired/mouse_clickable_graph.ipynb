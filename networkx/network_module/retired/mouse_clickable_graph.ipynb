{
 "cells": [
  {
   "cell_type": "markdown",
   "metadata": {
    "id": "JnVi-skP0JR3"
   },
   "source": [
    "This is not currents ly working in a colab NB and only\n",
    "abortively in an interactive python session.\n",
    "\n",
    "The pylan osx toggle brings up a separate window for plots and the click event\n",
    "registers there.  \n",
    "\n",
    "But it has the same problem its  has in interactive python. Once there's been a click the label shows, but it stays there and only works that first time."
   ]
  },
  {
   "cell_type": "code",
   "execution_count": 1,
   "metadata": {
    "colab": {
     "base_uri": "https://localhost:8080/"
    },
    "id": "G-R20mwXig2g",
    "outputId": "0e5c2fc9-ff1d-48bc-dbd8-eda25c96b516"
   },
   "outputs": [
    {
     "name": "stdout",
     "output_type": "stream",
     "text": [
      "Populating the interactive namespace from numpy and matplotlib\n",
      "Defined\n"
     ]
    }
   ],
   "source": [
    "%pylab osx\n",
    "import math\n",
    "\n",
    "import pylab\n",
    "import matplotlib\n",
    "import networkx as nx\n",
    "import matplotlib.pyplot as plt\n",
    "import urllib.request\n",
    "\n",
    "class AnnoteFinder:\n",
    "  \"\"\"\n",
    "  callback for matplotlib to display an annotation when points are clicked on.  The\n",
    "  point which is closest to the click and within xtol and ytol is identified.\n",
    "    \n",
    "  Register this function like this:\n",
    "    \n",
    "  scatter(xdata, ydata)\n",
    "  af = AnnoteFinder(xdata, ydata, annotes)\n",
    "  connect('button_press_event', af)\n",
    "  \"\"\"\n",
    "\n",
    "  def __init__(self, xdata, ydata, annotes, axis=None, xtol=None, ytol=None):\n",
    "    self.data = zip(xdata, ydata, annotes)\n",
    "    if xtol is None:\n",
    "      xtol = ((max(xdata) - min(xdata))/float(len(xdata)))/2\n",
    "    if ytol is None:\n",
    "      ytol = ((max(ydata) - min(ydata))/float(len(ydata)))/2\n",
    "    self.xtol = xtol\n",
    "    self.ytol = ytol\n",
    "    if axis is None:\n",
    "      self.axis = pylab.gca()\n",
    "    else:\n",
    "      self.axis= axis\n",
    "    self.drawnAnnotations = {}\n",
    "    self.links = []\n",
    "\n",
    "  def distance(self, x1, x2, y1, y2):\n",
    "    \"\"\"\n",
    "    return the distance between two points\n",
    "    \"\"\"\n",
    "    return math.hypot(x1 - x2, y1 - y2)\n",
    "\n",
    "  def __call__(self, event):\n",
    "    if event.inaxes:\n",
    "      clickX = event.xdata\n",
    "      clickY = event.ydata\n",
    "      if self.axis is None or self.axis==event.inaxes:\n",
    "        annotes = []\n",
    "        for x,y,a in self.data:\n",
    "          if  clickX-self.xtol < x < clickX+self.xtol and  clickY-self.ytol < y < clickY+self.ytol :\n",
    "            annotes.append((self.distance(x,clickX,y,clickY),x,y, a) )\n",
    "        if annotes:\n",
    "          annotes.sort()\n",
    "          distance, x, y, annote = annotes[0]\n",
    "          self.drawAnnote(event.inaxes, x, y, annote)\n",
    "          for l in self.links:\n",
    "            l.drawSpecificAnnote(annote)\n",
    "\n",
    "  def drawAnnote(self, axis, x, y, annote):\n",
    "    \"\"\"\n",
    "    Draw the annotation on the plot\n",
    "    \"\"\"\n",
    "    if (x,y) in self.drawnAnnotations:\n",
    "      markers = self.drawnAnnotations[(x,y)]\n",
    "      for m in markers:\n",
    "        m.set_visible(not m.get_visible())\n",
    "      self.axis.figure.canvas.draw()\n",
    "    else:\n",
    "      #t = axis.text(x,y, \"(%3.2f, %3.2f) - %s\"%(x,y,annote), )\n",
    "      t = axis.text(x,y, \"%s\"%(annote,), bbox = dict(boxstyle = 'round,pad=0.15', fc = 'salmon', alpha = .75))\n",
    "      m = axis.scatter([x],[y], marker='d', c='r', zorder=100)\n",
    "      self.drawnAnnotations[(x,y)] =(t,m)\n",
    "      self.axis.figure.canvas.draw()\n",
    "\n",
    "  def drawSpecificAnnote(self, annote):\n",
    "    annotesToDraw = [(x,y,a) for x,y,a in self.data if a==annote]\n",
    "    for x,y,a in annotesToDraw:\n",
    "      self.drawAnnote(self.axis, x, y, a)\n",
    "\n",
    "\n",
    "def url_fetch_networkx_graph (url):\n",
    "    with urllib.request.urlopen(url) as filehandle:\n",
    "         G = nx.read_gml(filehandle)\n",
    "    return G\n",
    "\n",
    "\n",
    "############################################################\n",
    "############################################################\n",
    "##\n",
    "##\n",
    "##\n",
    "##\n",
    "##\n",
    "############################################################\n",
    "############################################################\n",
    "      \n",
    "\n",
    "def linkAnnotationFinders(afs):\n",
    "  for i in range(len(afs)):\n",
    "    allButSelfAfs = afs[:i]+afs[i+1:]\n",
    "    afs[i].links.extend(allButSelfAfs)\n",
    "\n",
    "print('Defined')"
   ]
  },
  {
   "cell_type": "markdown",
   "metadata": {
    "id": "Po4n3wzYyzEP"
   },
   "source": [
    "# The code\n",
    "\n",
    "Dies not work in a notebook. \n",
    "\n",
    "Works rather indequately elsewhere.  One node shows itsam\n",
    "labnel when clicked on.  The label stays there.  After\n",
    "that all other nodes are inert."
   ]
  },
  {
   "cell_type": "code",
   "execution_count": 2,
   "metadata": {
    "colab": {
     "base_uri": "https://localhost:8080/",
     "height": 321
    },
    "id": "BIU21SSvrSbv",
    "outputId": "1d92b8b4-6946-4cbf-fb20-711bb5d60fb5"
   },
   "outputs": [
    {
     "data": {
      "text/plain": [
       "8"
      ]
     },
     "execution_count": 2,
     "metadata": {},
     "output_type": "execute_result"
    }
   ],
   "source": [
    "import os.path\n",
    "\n",
    "github_networks_data = 'https://raw.githubusercontent.com/gawron/python-for-social-science/master/networks/'\n",
    "ak_url = os.path.join(github_networks_data, 'anna.gml')\n",
    "ak = url_fetch_networkx_graph(ak_url)\n",
    "\n",
    "ak_pos = nx.spring_layout(ak,scale=1.0,iterations=500)\n",
    "ak_il = ak_pos.items()\n",
    "\n",
    "labels = [label for (label,coords) in ak_il]\n",
    "X = [x for (label,(x,y)) in ak_il]\n",
    "Y = [y for (label,(x,y)) in ak_il]\n",
    "\n",
    "\n",
    "#nx.draw_networkx_edges(ak,ak_pos)\n",
    "plt.figure(figsize=(8,8))\n",
    "nx.draw_networkx(ak,ak_pos, with_labels=False,node_size=50,node_color=\"red\") \n",
    "\n",
    "af =  AnnoteFinder(X,Y, labels)\n",
    "pylab.connect('button_press_event', af)\n",
    "\n"
   ]
  },
  {
   "cell_type": "code",
   "execution_count": null,
   "metadata": {
    "id": "Rj9FpFKNiVfO"
   },
   "outputs": [],
   "source": [
    "\n",
    "lm_pos = nx.spring_layout(lm,scale=1.0)\n",
    "lm_il = list(lm_pos.items())\n",
    "\n",
    "labels = [label for (label,coords) in lm_il]\n",
    "X = [x for (label,(x,y)) in lm_il]\n",
    "Y = [y for (label,(x,y)) in lm_il]\n",
    "     \n",
    "\n",
    "# An alternative is to draw just the edges.  The nodes are still clickable, but harder to find.\n",
    "#nx.draw_networkx_edges(ego_network,ego_pos)\n",
    "nx.draw_networkx(lm,lm_pos, with_labels=False,node_size=20,node_color=\"lightgray\") \n",
    "af = AnnoteFinder(X,Y, labels)\n",
    "pylab.connect('button_press_event', af)"
   ]
  },
  {
   "cell_type": "code",
   "execution_count": 3,
   "metadata": {},
   "outputs": [
    {
     "name": "stdout",
     "output_type": "stream",
     "text": [
      "single click: button=1, x=554, y=503, xdata=3.482056, ydata=0.561002\n",
      "single click: button=1, x=406, y=315, xdata=2.005040, ydata=0.322263\n",
      "single click: button=1, x=275, y=289, xdata=0.697681, ydata=0.289246\n",
      "single click: button=1, x=305, y=147, xdata=0.997077, ydata=0.108921\n"
     ]
    }
   ],
   "source": [
    "fig, ax = plt.subplots()\n",
    "ax.plot(np.random.rand(10))\n",
    "\n",
    "def onclick(event):\n",
    "    print('%s click: button=%d, x=%d, y=%d, xdata=%f, ydata=%f' %\n",
    "          ('double' if event.dblclick else 'single', event.button,\n",
    "           event.x, event.y, event.xdata, event.ydata))\n",
    "\n",
    "cid = fig.canvas.mpl_connect('button_press_event', onclick)"
   ]
  },
  {
   "cell_type": "code",
   "execution_count": null,
   "metadata": {},
   "outputs": [],
   "source": []
  }
 ],
 "metadata": {
  "colab": {
   "name": "mouse_clickable_graph.ipynb",
   "provenance": []
  },
  "kernelspec": {
   "display_name": "Python 3",
   "language": "python",
   "name": "python3"
  },
  "language_info": {
   "codemirror_mode": {
    "name": "ipython",
    "version": 3
   },
   "file_extension": ".py",
   "mimetype": "text/x-python",
   "name": "python",
   "nbconvert_exporter": "python",
   "pygments_lexer": "ipython3",
   "version": "3.8.5"
  }
 },
 "nbformat": 4,
 "nbformat_minor": 1
}
