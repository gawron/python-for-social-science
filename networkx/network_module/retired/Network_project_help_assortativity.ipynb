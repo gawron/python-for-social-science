{
 "cells": [
  {
   "cell_type": "markdown",
   "metadata": {},
   "source": [
    "# Network Assortativity Example"
   ]
  },
  {
   "cell_type": "markdown",
   "metadata": {},
   "source": [
    "In this notebook we will use the following dataset.\n",
    "\n",
    "[FauxMesaHigh.gml. ](http://gawron.sdsu.edu/python_for_ss/course_core/assignments/FauxMesaHigh.gml)\n",
    "\n",
    "For a good description of the background on this datset see\n",
    "[R FauxMesaHigh datapage](http://search.r-project.org/library/ergm/html/faux.mesa.high.html)\n",
    "\n",
    "This graph can be loaded into Python using the `url_fetch_network_graph` function defined in this notebook together with a url for the graph (look at the raw markup by double-clicking on this cell).\n",
    "\n",
    "```\n",
    "url22 = 'http://gawron.sdsu.edu/python_for_ss/course_core/assignments/FauxMesaHigh.gml'\n",
    "fm = url_fetch_networkx_graph (url22)\n",
    "```\n",
    "\n",
    "After executing this code `fm` is a `networkx` graph instance showing the Friendship links in the synthetically created data set for a fictional high school \"Faucx Mesa High\". \n",
    "\n",
    "For more on the Faux Mesa High School graph, see\n",
    "[the R page on the dataset](http://search.r-project.org/library/ergm/html/faux.mesa.high.html) as well as\n",
    "[the statnet page. ](http://www.casos.cs.cmu.edu/tools/computational_tools/datasets/external/Goodreau/index11.php)\n",
    "\n",
    "The original paper describing the methods and motivation for creating the dataset is:\n",
    "\n",
    "Resnick M.D., Bearman, P.S., Blum R.W. et al. (1997). Protecting adolescents from harm. Findings from the National Longitudinal Study on Adolescent Health, Journal of the American Medical Association, 278: 823-32.\n",
    "\n",
    "The statnet paper is:\n",
    "\n",
    "Mark S. Handcock, David R. Hunter, Carter T. Butts, Steven M. Goodreau, and Martina Morris. 2003 statnet: Software tools for the Statistical Modeling of Network Data"
   ]
  },
  {
   "cell_type": "code",
   "execution_count": 15,
   "metadata": {},
   "outputs": [],
   "source": [
    "import networkx as nx\n",
    "import urllib.request\n",
    "import os.path\n",
    "\n",
    "def url_fetch_networkx_graph (url):\n",
    "    with urllib.request.urlopen(url) as filehandle:\n",
    "         G = nx.read_gml(filehandle)\n",
    "    return G\n",
    "\n",
    "github_networks_data = 'https://raw.githubusercontent.com/gawron/python-for-social-science/master/networks/'\n",
    "fm_url = os.path.join(github_networks_data, 'FauxMesaHigh.gml')\n",
    "#url = 'http://www.casos.cs.cmu.edu/tools/computational_tools/datasets/external/Goodreau/index11.php'\n",
    "fm = url_fetch_networkx_graph (fm_url).to_undirected()"
   ]
  },
  {
   "cell_type": "markdown",
   "metadata": {},
   "source": [
    "## Race"
   ]
  },
  {
   "cell_type": "code",
   "execution_count": 98,
   "metadata": {},
   "outputs": [
    {
     "data": {
      "text/plain": [
       "['Hisp',\n",
       " 'Hisp',\n",
       " 'Hisp',\n",
       " 'NatAm',\n",
       " 'NatAm',\n",
       " 'Hisp',\n",
       " 'NatAm',\n",
       " 'NatAm',\n",
       " 'White',\n",
       " 'White']"
      ]
     },
     "execution_count": 98,
     "metadata": {},
     "output_type": "execute_result"
    }
   ],
   "source": [
    "race_seq = [fm.nodes[n]['Race'] for n in fm.nodes()]\n",
    "race_seq[:10]"
   ]
  },
  {
   "cell_type": "code",
   "execution_count": 97,
   "metadata": {},
   "outputs": [
    {
     "data": {
      "text/plain": [
       "{'Black', 'Hisp', 'NatAm', 'Other', 'White'}"
      ]
     },
     "execution_count": 97,
     "metadata": {},
     "output_type": "execute_result"
    }
   ],
   "source": [
    "races = set(race_seq)\n",
    "races"
   ]
  },
  {
   "cell_type": "markdown",
   "metadata": {},
   "source": [
    "### Assortativity Coefficient"
   ]
  },
  {
   "cell_type": "markdown",
   "metadata": {},
   "source": [
    "The **assortativity coefficient** of a graph measures the extent to which  the \n",
    "vertices the graph are \n",
    "connected to other vertices that are like them in some way.\n",
    "See [Newman - Physical review E, 2003 - APS](https://journals.aps.org/pre/pdf/10.1103/PhysRevE.67.026126?casa_token=6Y08m5BvhMEAAAAA%3Achgp6T6cHHt7mxcfKWrmSL34nZ3r5FK6PQtojIlpPj4vI75nurG8ySN8aSCv_rAA9hI34HNs3Fmy)\n",
    "\n",
    "We begin with a quantity Newman calls, $e_{ij}$, the proportion of edges in a network that connect a vertex of type $i$ to one of type $j$.  It follows from this definitionthat for any type $i$, $e_{ii}$, the proportion of edges in a network that connect a vertex of type $i$ to one of the same type.\n",
    "\n",
    "The table belows shows data on the values of $e_{ij}$ for\n",
    "mixing by race among sexual partners in a 1992 study cited by Newman (J.A. Catania, T.J. Coates, S. Kegels, and M.T. Fullilove, Am. J.\n",
    "Public Health 82, 284. 1992). This\n",
    "part of the study focused on heterosexuals, \n",
    "so there are two vertex types representing men and\n",
    "women, with edges running only between vertices that are men\n",
    "and vertices that are women.  The table\n",
    "shows that mixing is highly **assortative** in this network, \n",
    "meaning that the \n",
    "individuals in the study strongly preferred partners from the same group.\n",
    "You can see that, except for the categiory **Other**, the highest values are all $e_{ii}$ values running along thee diagonal of the table.\n",
    "\n",
    "<table>\n",
    "    <tr>\n",
    "        <td> </td><td> </td> <td> </td> <th> Women </th> <td> </td> <td> </td>\n",
    "    </tr>\n",
    "    <tr>\n",
    "       <th> Men  </th>     <th> Black </th> <th> Hispanic </th>  \n",
    "  <th> White </th>\n",
    "        <th> Other </th> <th> $a_{i}$ </th> </tr>\n",
    "        <tr>\n",
    "<th>Black </th><td>      0.258</td>  <td> 0.016 </td><td>   0.035 </td> \n",
    "<td>  0.013 </td> <td> 0.323 </td>\n",
    "</tr>\n",
    "<tr>\n",
    "    <th>Hispanic </th><td>   0.012</td><td>  0.157 </td><td>   0.058 </td>\n",
    "    <td>  0.019 </td> <td> 0.247</td>\n",
    "    </tr>\n",
    "    <tr>\n",
    "        <th> White </th><td>      0.013 </td><td> 0.023  </td><td>  0.306 </td>\n",
    "        <td> 0.035 </td><td> 0.377  </td>     \n",
    "    </tr>\n",
    "    <tr>\n",
    "        <th> Other </th><td>      0.005 </td><td> 0.007 </td><td>   0.024 </td> \n",
    "        <td>0.016 </td><td>0.053</td>\n",
    "    </tr>\n",
    "    <tr>\n",
    "        <th> $b_{i}$      <td>    0.289 </tdf><td> 0.204 </td>\n",
    "    <td> 0.423 </td><td>  0.084</td>\n",
    "    </tr>\n",
    "</table>\n",
    "\n",
    "The column label $a_{i}$ and the row labeled $b_{i}$ contains\n",
    "the row and column sums.  This is sometimes called the **joint probability mixing matrix**.  That is, it's the probability that any randomly chosen edge will contain an agent of type $i$ and an agent of type $j$.\n",
    "\n",
    "Each value in the $a_{i}$ column contains the total proportion of  male relationships for a particular group in the study, also known\n",
    "as the marginal probability of $a_{i}$, of being a male of type $i$ in a relationship.\n",
    "Each $b_{i}$ value contains the total proportion of  female relationships for a particular group in the study, or the marginal probability of being a female of type $i$ in a relationship.\n",
    "\n",
    "Below we refer to each of $e_{ij}$ as a probability mass."
   ]
  },
  {
   "cell_type": "markdown",
   "metadata": {},
   "source": [
    "Because this is a study of heterosexuals, each edge in the graph links a male and a female, and the $a_{i}$ and $b_{i}$ values add to 1. "
   ]
  },
  {
   "cell_type": "code",
   "execution_count": 29,
   "metadata": {},
   "outputs": [
    {
     "data": {
      "text/plain": [
       "1.0"
      ]
     },
     "execution_count": 29,
     "metadata": {},
     "output_type": "execute_result"
    }
   ],
   "source": [
    "# a_i\n",
    ".323 + .247 + .377 + .053"
   ]
  },
  {
   "cell_type": "code",
   "execution_count": 28,
   "metadata": {},
   "outputs": [
    {
     "data": {
      "text/plain": [
       "0.9999999999999999"
      ]
     },
     "execution_count": 28,
     "metadata": {},
     "output_type": "execute_result"
    }
   ],
   "source": [
    "# b_i\n",
    ".289 + .204 + .423 + .084"
   ]
  },
  {
   "cell_type": "markdown",
   "metadata": {},
   "source": [
    "Newman proposes a measure which measures the assortativity of the network overall.\n",
    "\n",
    "$$\n",
    "\\frac{\\sum_{i} e_{ii} - \\sum_{i} a_{i}b_{i}}{1 - \\sum_{i} a_{i}b_{i}}\n",
    "$$\n",
    "\n",
    "Some of the important properties:\n",
    "\n",
    "1. Perfect assortativity (every vertex links to vertices of the same group) gets a score of 1.\n",
    "2. Perfect dis-assortativity (vertices link only to outgroup members) is negative\n",
    "   (between 0 and -1).  By definition the above data is perfectly disassortative with respect to the sex attribute, since every link joins individuals of different sexes.\n",
    "3. A score of 0 means assortativity is random.  Each individual links to members\n",
    "of any group in proportion with the number of edges they participate in.  If the\n",
    "proportion of group A links in the graph is 10%, then on average, agents\n",
    "in the graph devote 10% of their links to group A.\n",
    "\n",
    "The numerator is the total edge mass of ingroup relations minus a penalty related to\n",
    "the total mass of all relationships (it's actually the sum of all the relationship masses\n",
    "squared).  The penalty is applied in the numerator and denominator. When all the probability mass is consumed by ingroup relations, the sum of the $e_{ii}$ will be 1,\n",
    "and the numerator and denominator are the same, resulting in a assortativity score of 1.\n",
    "When the penalty exceeds the mass of the ingroup relationships, we get a negative value\n",
    "in the numerator, resulting in a negative assortativity score.  The pensality is designed to exactly equal the ingroup probability mass when assortativity is random, yielding a score of 0.\n"
   ]
  },
  {
   "cell_type": "markdown",
   "metadata": {},
   "source": [
    "## An example of perfect assortativity"
   ]
  },
  {
   "cell_type": "code",
   "execution_count": 99,
   "metadata": {
    "scrolled": true
   },
   "outputs": [
    {
     "name": "stdout",
     "output_type": "stream",
     "text": [
      "1.0\n",
      "0.7142857142857143\n"
     ]
    }
   ],
   "source": [
    "G2 = nx.Graph()\n",
    "G2.add_nodes_from([0, 1, 4], color=\"red\")\n",
    "G2.add_nodes_from([2, 3, 5], color=\"blue\")\n",
    "# All edges are ingroup relations\n",
    "G2.add_edges_from([(0, 1), (0, 4), (1, 4), (2, 3), (3, 5), (2, 5) ])\n",
    "print(nx.attribute_assortativity_coefficient(G2, \"color\"))\n",
    "# Add one dis-assortative edge\n",
    "G2.add_edges_from([(0, 2)])\n",
    "print(nx.attribute_assortativity_coefficient(G2, \"color\"))"
   ]
  },
  {
   "cell_type": "markdown",
   "metadata": {},
   "source": [
    "## An example of perfect dis-assortativity"
   ]
  },
  {
   "cell_type": "code",
   "execution_count": 100,
   "metadata": {},
   "outputs": [
    {
     "name": "stdout",
     "output_type": "stream",
     "text": [
      "-1.0\n",
      "-0.7499999999999997\n"
     ]
    }
   ],
   "source": [
    "G3 = nx.Graph()\n",
    "G3.add_nodes_from([0, 2, 3], color=\"red\")\n",
    "G3.add_nodes_from([1, 4, 5], color=\"blue\")\n",
    "G3.add_edges_from([ (0,1),(0,4),(2,5),(2,4),(3,1),(3,5)])\n",
    "print(nx.attribute_assortativity_coefficient(G3, \"color\"))\n",
    "# Add one assortative edge\n",
    "G3.add_edges_from([(0, 2)])\n",
    "print(nx.attribute_assortativity_coefficient(G3, \"color\"))"
   ]
  },
  {
   "cell_type": "markdown",
   "metadata": {},
   "source": [
    "## Perfectly random assortativity"
   ]
  },
  {
   "cell_type": "code",
   "execution_count": 101,
   "metadata": {},
   "outputs": [
    {
     "name": "stdout",
     "output_type": "stream",
     "text": [
      "0.0\n"
     ]
    }
   ],
   "source": [
    "G3 = nx.DiGraph()\n",
    "G3.add_nodes_from([0, 2, 3], color=\"red\")\n",
    "G3.add_nodes_from([1, 4, 5], color=\"blue\")\n",
    "# We draw a complete graph, all edges cnnected to all others.\n",
    "for n1 in G3.nodes():\n",
    "    for n2 in G3.nodes():\n",
    "        G3.add_edge(n1,n2)\n",
    "print(nx.attribute_assortativity_coefficient(G3, \"color\"))"
   ]
  },
  {
   "cell_type": "markdown",
   "metadata": {},
   "source": [
    "Note that leaving out the self-identical edges makes the score lean towards disassortativity, since from a mathematical point of view, one opportunity for \n",
    "assortativity has been omitted."
   ]
  },
  {
   "cell_type": "code",
   "execution_count": 73,
   "metadata": {},
   "outputs": [
    {
     "name": "stdout",
     "output_type": "stream",
     "text": [
      "-0.19999999999999996\n"
     ]
    }
   ],
   "source": [
    "G4 = nx.DiGraph()\n",
    "G4.add_nodes_from([0, 2, 3], color=\"red\")\n",
    "G4.add_nodes_from([1, 4, 5], color=\"blue\")\n",
    "for n1 in G4.nodes():\n",
    "    for n2 in G4.nodes():\n",
    "        if n1 != n2:\n",
    "           G4.add_edge(n1,n2)\n",
    "print(nx.attribute_assortativity_coefficient(G4, \"color\"))"
   ]
  },
  {
   "cell_type": "markdown",
   "metadata": {},
   "source": [
    "As the graph grows larger, the effect of leaving out self-identical edges diminishes."
   ]
  },
  {
   "cell_type": "code",
   "execution_count": 76,
   "metadata": {},
   "outputs": [
    {
     "name": "stdout",
     "output_type": "stream",
     "text": [
      "-0.005025125628140502\n"
     ]
    }
   ],
   "source": [
    "G5 = nx.DiGraph()\n",
    "G5.add_nodes_from(range(100), color=\"red\")\n",
    "G5.add_nodes_from(range(101,201), color=\"blue\")\n",
    "for n1 in G5.nodes():\n",
    "    for n2 in G5.nodes():\n",
    "        if n1 != n2:\n",
    "           G5.add_edge(n1,n2)\n",
    "print(nx.attribute_assortativity_coefficient(G5, \"color\"))"
   ]
  },
  {
   "cell_type": "markdown",
   "metadata": {},
   "source": [
    "Newman says:\n",
    "\n",
    "\n",
    "Assortative mixing can have a profound effect on the\n",
    "structural properties of a network. For example, assortative\n",
    "mixing of a network by a discrete characteristic will tend to\n",
    "break the network up into separate communities. If people\n",
    "prefer to be friends with others who speak their own language, for example, then one might expect countries with\n",
    "more than one language to separate into communities by\n",
    "language. Assortative mixing by age could cause stratification of societies along age lines.\n",
    "\n",
    "p. 67"
   ]
  },
  {
   "cell_type": "markdown",
   "metadata": {},
   "source": [
    "Let's try out this idea on the famous example of the karate club graoh, where we know\n",
    "the `'club'` attributes defines two communities in the graph, and where we know that membership in one or the other clubn had real world consequences."
   ]
  },
  {
   "cell_type": "code",
   "execution_count": 132,
   "metadata": {},
   "outputs": [
    {
     "data": {
      "text/plain": [
       "0.717530864197531"
      ]
     },
     "execution_count": 132,
     "metadata": {},
     "output_type": "execute_result"
    }
   ],
   "source": [
    "kn = nx.karate_club_graph()\n",
    "nx.attribute_assortativity_coefficient(kn,'club')"
   ]
  },
  {
   "cell_type": "markdown",
   "metadata": {},
   "source": [
    "High assortativity, meaning a karge proportion of the edges are ingroup edges, as expected."
   ]
  },
  {
   "cell_type": "markdown",
   "metadata": {},
   "source": [
    "# Faux Mesa High Data"
   ]
  },
  {
   "cell_type": "code",
   "execution_count": 52,
   "metadata": {},
   "outputs": [],
   "source": [
    "import os.path\n",
    "import networkx as nx"
   ]
  },
  {
   "cell_type": "code",
   "execution_count": 125,
   "metadata": {},
   "outputs": [],
   "source": [
    "#Goodreau's Faux Mesa High School \n",
    "github_networks_data = 'https://raw.githubusercontent.com/gawron/python-for-social-science/master/networks/'\n",
    "fm_url = os.path.join(github_networks_data, 'FauxMesaHigh.gml')\n",
    "fm = url_fetch_networkx_graph (fm_url).to_undirected()"
   ]
  },
  {
   "cell_type": "code",
   "execution_count": 54,
   "metadata": {},
   "outputs": [
    {
     "data": {
      "text/plain": [
       "networkx.classes.graph.Graph"
      ]
     },
     "execution_count": 54,
     "metadata": {},
     "output_type": "execute_result"
    }
   ],
   "source": [
    "type(fm)"
   ]
  },
  {
   "cell_type": "code",
   "execution_count": 77,
   "metadata": {},
   "outputs": [
    {
     "data": {
      "text/plain": [
       "202"
      ]
     },
     "execution_count": 77,
     "metadata": {},
     "output_type": "execute_result"
    }
   ],
   "source": [
    "len(fm.edges())"
   ]
  },
  {
   "cell_type": "markdown",
   "metadata": {},
   "source": [
    "### Assortativity for race"
   ]
  },
  {
   "cell_type": "code",
   "execution_count": 56,
   "metadata": {},
   "outputs": [
    {
     "data": {
      "text/plain": [
       "['Hisp',\n",
       " 'Hisp',\n",
       " 'Hisp',\n",
       " 'NatAm',\n",
       " 'NatAm',\n",
       " 'Hisp',\n",
       " 'NatAm',\n",
       " 'NatAm',\n",
       " 'White',\n",
       " 'White']"
      ]
     },
     "execution_count": 56,
     "metadata": {},
     "output_type": "execute_result"
    }
   ],
   "source": [
    "race_seq = [fm.nodes[n]['Race'] for n in fm.nodes()]\n",
    "race_seq[:10]"
   ]
  },
  {
   "cell_type": "code",
   "execution_count": 105,
   "metadata": {},
   "outputs": [
    {
     "data": {
      "text/plain": [
       "{'Black', 'Hisp', 'NatAm', 'Other', 'White'}"
      ]
     },
     "execution_count": 105,
     "metadata": {},
     "output_type": "execute_result"
    }
   ],
   "source": [
    "races = {fm.nodes[n]['Race'] for n in fm.nodes()}\n",
    "races"
   ]
  },
  {
   "cell_type": "code",
   "execution_count": 57,
   "metadata": {},
   "outputs": [
    {
     "data": {
      "text/plain": [
       "0.23195376513754493"
      ]
     },
     "execution_count": 57,
     "metadata": {},
     "output_type": "execute_result"
    }
   ],
   "source": [
    "ac = nx.algorithms.attribute_assortativity_coefficient(fm, 'Race')\n",
    "ac"
   ]
  },
  {
   "cell_type": "markdown",
   "metadata": {},
   "source": [
    "Let's look at assortativity on a race by race basis, creating binary oppositions\n",
    "between race $i$ and non-race $i$.\n",
    "\n",
    "First we try White vs. non-White:"
   ]
  },
  {
   "cell_type": "code",
   "execution_count": 126,
   "metadata": {},
   "outputs": [],
   "source": [
    "sorted_nodes = dict()\n",
    "for r in races:\n",
    "    sorted_nodes[r] = [n for n in fm.nodes() if  fm.nodes[n]['Race'] == r]"
   ]
  },
  {
   "cell_type": "code",
   "execution_count": 133,
   "metadata": {},
   "outputs": [
    {
     "data": {
      "text/plain": [
       "['166',\n",
       " '25',\n",
       " '194',\n",
       " '89',\n",
       " '87',\n",
       " '101',\n",
       " '104',\n",
       " '34',\n",
       " '63',\n",
       " '19',\n",
       " '156',\n",
       " '43',\n",
       " '40',\n",
       " '5',\n",
       " '9',\n",
       " '141']"
      ]
     },
     "execution_count": 133,
     "metadata": {},
     "output_type": "execute_result"
    }
   ],
   "source": [
    "sorted_nodes['White']"
   ]
  },
  {
   "cell_type": "code",
   "execution_count": 80,
   "metadata": {},
   "outputs": [
    {
     "data": {
      "text/plain": [
       "0.07471371092541003"
      ]
     },
     "execution_count": 80,
     "metadata": {},
     "output_type": "execute_result"
    }
   ],
   "source": [
    "for n in fm.nodes():\n",
    "    node_race = fm.nodes[n]['Race']\n",
    "    if node_race == 'White': \n",
    "       fm.nodes[n]['Race2'] = node_race\n",
    "    else: \n",
    "       fm.nodes[n]['Race2'] = 'NonWhite'\n",
    "       \n",
    "nx.algorithms.attribute_assortativity_coefficient(fm, 'Race2')"
   ]
  },
  {
   "cell_type": "code",
   "execution_count": 129,
   "metadata": {},
   "outputs": [
    {
     "data": {
      "text/plain": [
       "0.0"
      ]
     },
     "execution_count": 129,
     "metadata": {},
     "output_type": "execute_result"
    }
   ],
   "source": [
    "nx.algorithms.attribute_assortativity_coefficient(fm, 'Race', \n",
    "                                                  nodes = sorted_nodes['NatAm'])"
   ]
  },
  {
   "cell_type": "code",
   "execution_count": 130,
   "metadata": {},
   "outputs": [
    {
     "data": {
      "text/plain": [
       "['/Users/gawron/Desktop/src/sphinx/python_for_ss/colab_notebooks/python-for-social-science/networkx/network_module',\n",
       " '/Users/gawron/python/dependency',\n",
       " '/Users/gawron/python/parser_course',\n",
       " '/Users/gawron/opt/anaconda3/envs/py385/lib/python38.zip',\n",
       " '/Users/gawron/opt/anaconda3/envs/py385/lib/python3.8',\n",
       " '/Users/gawron/opt/anaconda3/envs/py385/lib/python3.8/lib-dynload',\n",
       " '',\n",
       " '/Users/gawron/opt/anaconda3/envs/py385/lib/python3.8/site-packages',\n",
       " '/Users/gawron/opt/anaconda3/envs/py385/lib/python3.8/site-packages/IPython/extensions',\n",
       " '/Users/gawron/.ipython']"
      ]
     },
     "execution_count": 130,
     "metadata": {},
     "output_type": "execute_result"
    }
   ],
   "source": [
    "import sys\n",
    "sys.path"
   ]
  },
  {
   "cell_type": "code",
   "execution_count": 81,
   "metadata": {},
   "outputs": [
    {
     "data": {
      "text/plain": [
       "0.3316790736145576"
      ]
     },
     "execution_count": 81,
     "metadata": {},
     "output_type": "execute_result"
    }
   ],
   "source": [
    "for n in fm.nodes():\n",
    "    node_race = fm.nodes[n]['Race']\n",
    "    if node_race == 'NatAm': \n",
    "       fm.nodes[n]['Race3'] = node_race\n",
    "    else: \n",
    "       fm.nodes[n]['Race3'] = 'NonNatAm'\n",
    "       \n",
    "nx.algorithms.attribute_assortativity_coefficient(fm, 'Race3')"
   ]
  },
  {
   "cell_type": "code",
   "execution_count": 82,
   "metadata": {},
   "outputs": [
    {
     "data": {
      "text/plain": [
       "0.27511961722488043"
      ]
     },
     "execution_count": 82,
     "metadata": {},
     "output_type": "execute_result"
    }
   ],
   "source": [
    "for n in fm.nodes():\n",
    "    node_race = fm.nodes[n]['Race']\n",
    "    if node_race == 'Hisp': \n",
    "       fm.nodes[n]['Race4'] = node_race\n",
    "    else: \n",
    "       fm.nodes[n]['Race4'] = 'NonHisp'\n",
    "       \n",
    "nx.algorithms.attribute_assortativity_coefficient(fm, 'Race4')"
   ]
  },
  {
   "cell_type": "code",
   "execution_count": 85,
   "metadata": {},
   "outputs": [
    {
     "data": {
      "text/plain": [
       "-0.06878306878306774"
      ]
     },
     "execution_count": 85,
     "metadata": {},
     "output_type": "execute_result"
    }
   ],
   "source": [
    "for n in fm.nodes():\n",
    "    node_race = fm.nodes[n]['Race']\n",
    "    if node_race == 'Black': \n",
    "       fm.nodes[n]['Race5'] = node_race\n",
    "    else: \n",
    "       fm.nodes[n]['Race5'] = 'NonBlack'\n",
    "       \n",
    "nx.algorithms.attribute_assortativity_coefficient(fm, 'Race5')"
   ]
  },
  {
   "cell_type": "code",
   "execution_count": 103,
   "metadata": {},
   "outputs": [
    {
     "data": {
      "text/plain": [
       "-0.0024813895781514985"
      ]
     },
     "execution_count": 103,
     "metadata": {},
     "output_type": "execute_result"
    }
   ],
   "source": [
    "for n in fm.nodes():\n",
    "    node_race = fm.nodes[n]['Race']\n",
    "    if node_race == 'Other': \n",
    "       fm.nodes[n]['Race6'] = node_race\n",
    "    else: \n",
    "       fm.nodes[n]['Race6'] = 'NonOther'\n",
    "       \n",
    "nx.algorithms.attribute_assortativity_coefficient(fm, 'Race6')"
   ]
  },
  {
   "cell_type": "code",
   "execution_count": 116,
   "metadata": {},
   "outputs": [
    {
     "data": {
      "text/plain": [
       "['Hisp']"
      ]
     },
     "execution_count": 116,
     "metadata": {},
     "output_type": "execute_result"
    }
   ],
   "source": [
    "other_student = [n for n in fm.nodes if fm.nodes[n]['Race'] == 'Other'][0]\n",
    "[fm.nodes[n]['Race'] for n in fm.neighbors(other_student)]"
   ]
  },
  {
   "cell_type": "code",
   "execution_count": 104,
   "metadata": {},
   "outputs": [
    {
     "data": {
      "text/plain": [
       "Counter({'Hisp': 75, 'NatAm': 50, 'White': 16, 'Black': 5, 'Other': 1})"
      ]
     },
     "execution_count": 104,
     "metadata": {},
     "output_type": "execute_result"
    }
   ],
   "source": [
    "from collections import Counter\n",
    "distribution = Counter(fm.nodes[n]['Race'] for n in fm.nodes())\n",
    "distribution"
   ]
  },
  {
   "cell_type": "code",
   "execution_count": 96,
   "metadata": {},
   "outputs": [
    {
     "data": {
      "text/plain": [
       "Counter({'Hisp': 0.5102040816326531,\n",
       "         'NatAm': 0.3401360544217687,\n",
       "         'White': 0.10884353741496598,\n",
       "         'Black': 0.034013605442176874,\n",
       "         'Other': 0.006802721088435374})"
      ]
     },
     "execution_count": 96,
     "metadata": {},
     "output_type": "execute_result"
    }
   ],
   "source": [
    "N = sum(distribution.values())\n",
    "dd = distribution.copy()\n",
    "\n",
    "for (key,val) in distribution.items():\n",
    "    dd[key] = val/N\n",
    "\n",
    "dd"
   ]
  },
  {
   "cell_type": "markdown",
   "metadata": {},
   "source": [
    "### Other attributes"
   ]
  },
  {
   "cell_type": "code",
   "execution_count": 64,
   "metadata": {},
   "outputs": [
    {
     "data": {
      "text/plain": [
       "{'Grade': '7', 'Race': 'Hisp', 'Sex': 'M'}"
      ]
     },
     "execution_count": 64,
     "metadata": {},
     "output_type": "execute_result"
    }
   ],
   "source": [
    "fm.nodes()['133']"
   ]
  },
  {
   "cell_type": "code",
   "execution_count": 65,
   "metadata": {},
   "outputs": [
    {
     "data": {
      "text/plain": [
       "0.27775399723026567"
      ]
     },
     "execution_count": 65,
     "metadata": {},
     "output_type": "execute_result"
    }
   ],
   "source": [
    "nx.algorithms.attribute_assortativity_coefficient(fm, 'Sex')"
   ]
  },
  {
   "cell_type": "code",
   "execution_count": 66,
   "metadata": {},
   "outputs": [
    {
     "data": {
      "text/plain": [
       "0.7430270648475018"
      ]
     },
     "execution_count": 66,
     "metadata": {},
     "output_type": "execute_result"
    }
   ],
   "source": [
    "nx.algorithms.attribute_assortativity_coefficient(fm, 'Grade')"
   ]
  },
  {
   "cell_type": "code",
   "execution_count": null,
   "metadata": {},
   "outputs": [],
   "source": []
  }
 ],
 "metadata": {
  "kernelspec": {
   "display_name": "Python 3",
   "language": "python",
   "name": "python3"
  },
  "language_info": {
   "codemirror_mode": {
    "name": "ipython",
    "version": 3
   },
   "file_extension": ".py",
   "mimetype": "text/x-python",
   "name": "python",
   "nbconvert_exporter": "python",
   "pygments_lexer": "ipython3",
   "version": "3.8.5"
  }
 },
 "nbformat": 4,
 "nbformat_minor": 4
}
