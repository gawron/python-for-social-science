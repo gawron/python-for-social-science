{
 "cells": [
  {
   "cell_type": "markdown",
   "metadata": {},
   "source": [
    "## D3 graphs (adapting some ideas from the IPython cookbook)"
   ]
  },
  {
   "cell_type": "markdown",
   "metadata": {},
   "source": [
    "What we're mostly doing in this notebook is extending some ideas sketched in an Ipython cookbook recipe for using D3 graphs inline in a notebook.  It's pretty easy to adapt what's shown below to code that directly generates HTML pages that display the graphs, though that is not done here.  The example code assumes you have a GML version of Knuth's graph of *Anna Karenina* available at http://www-rohan.sdsu.edu/~gawron/python_for_ss/course_core/assignments/anna.gml."
   ]
  },
  {
   "cell_type": "code",
   "execution_count": 1,
   "metadata": {},
   "outputs": [
    {
     "name": "stderr",
     "output_type": "stream",
     "text": [
      "Matplotlib is building the font cache using fc-list. This may take a moment.\n"
     ]
    }
   ],
   "source": [
    "import json\n",
    "import numpy as np\n",
    "import networkx as nx\n",
    "import matplotlib.pyplot as plt\n",
    "%matplotlib inline\n",
    "from networkx.readwrite import json_graph"
   ]
  },
  {
   "cell_type": "markdown",
   "metadata": {},
   "source": [
    "We'll make the json file we use for the `d3` display from a `networkx` graph.  The code in the next cell is going to save a minimal json version of the *anna karenina* graph.  For example, it does not let us include any node label information in the display.  Below we experiment with richer versions of the graph."
   ]
  },
  {
   "cell_type": "code",
   "execution_count": 19,
   "metadata": {},
   "outputs": [
    {
     "data": {
      "text/plain": [
       "{'club': 'Mr. Hi'}"
      ]
     },
     "execution_count": 19,
     "metadata": {},
     "output_type": "execute_result"
    }
   ],
   "source": [
    "g.nodes[0]"
   ]
  },
  {
   "cell_type": "code",
   "execution_count": 56,
   "metadata": {},
   "outputs": [],
   "source": [
    "import networkx as nx\n",
    "import readwrite_gml\n",
    "import json\n",
    "from networkx.readwrite import json_graph\n",
    "\n",
    "ak = readwrite_gml.read_gml('anna.gml',relabel=False)\n",
    "# Prepare the graph to have the attributes d3 knows\n",
    "for n in ak:\n",
    "   # We delete the 'id' attribute because the json graph link fn \n",
    "   # wants to compute a unique id itself and breaks if there already is one.\n",
    "   del ak.nodes[n]['attr_dict']['id']\n",
    "   nm = ak.nodes[n]['attr_dict']['desc'].split(',')[0]\n",
    "   # Use informative names as value of  node 'name'  attribute\n",
    "   ak.nodes[n]['name'] = nm\n",
    "   \n",
    "# For now let's screen out this data, the edge weights\n",
    "#for (s,e,att_dict) in ak.edges(data=True):\n",
    "#  del att_dict['attr_dict']['value']\n",
    "\n",
    "# Alternate example\n",
    "data = json_graph.node_link_data(ak)\n",
    "with open('ak_graph1.json', 'w') as f:\n",
    "    json.dump(data, f, indent=4)"
   ]
  },
  {
   "cell_type": "markdown",
   "metadata": {},
   "source": [
    "An alternative graph to draw.  Just replace the reference to 'ak_graph1.json' in the the main body of the javascript code with 'kn_graph1.json'."
   ]
  },
  {
   "cell_type": "code",
   "execution_count": 63,
   "metadata": {},
   "outputs": [],
   "source": [
    "g = nx.karate_club_graph()\n",
    "for n in g:\n",
    "    g.nodes[n]['name'] = n\n",
    "data = json_graph.node_link_data(g)\n",
    "with open('kn_graph1.json', 'w') as f:\n",
    "    json.dump(data, f, indent=4)"
   ]
  },
  {
   "cell_type": "markdown",
   "metadata": {},
   "source": [
    "What we're going to do now is display the *Anna Karenina* graph using [the D3 javascript\n",
    "library](http://d3js.org/), which is a very innovative set of visualization tools that will work in\n",
    "most any browser.  In particular, we're going to display the graph in the web page you're looking at, which happens to be an IPython notebook.\n",
    "\n",
    "We first create an HTML notebook cell using IPython magic command `%%html`. We'll call this **the HTML cell** below. HTML cells are a powerful feature of IPython notebooks. You can insert HTML code into an HTML cell and when the cell is executed, the HTML code in the cell will be passed directly to your browser to be displayed correctly. The HTML cell below defines an HTML page division (a `div`) with the  id `d3-example`, in which our graph will be displayed, but not until after we execute the cell below the HTML cell, which contains javascript code specifying how to display a `d3-example`.  We'll call that the JAVASCRIPT cell. So execute the HTML cell and then the JAVASCRIPT cell, then scroll back to look at the *Anna Karenina* graph displayed in the HTML cell."
   ]
  },
  {
   "cell_type": "code",
   "execution_count": 66,
   "metadata": {},
   "outputs": [
    {
     "data": {
      "text/html": [
       "<div id=\"d3-example\"></div>\n",
       "<style>\n",
       ".node {stroke: #fff; stroke-width: 1.5px;}\n",
       ".link {stroke: #999; stroke-opacity: .6;}\n",
       "</style>\n"
      ],
      "text/plain": [
       "<IPython.core.display.HTML object>"
      ]
     },
     "metadata": {},
     "output_type": "display_data"
    }
   ],
   "source": [
    "%%html\n",
    "<div id=\"d3-example\"></div>\n",
    "<style>\n",
    ".node {stroke: #fff; stroke-width: 1.5px;}\n",
    ".link {stroke: #999; stroke-opacity: .6;}\n",
    "</style>"
   ]
  },
  {
   "cell_type": "code",
   "execution_count": 67,
   "metadata": {},
   "outputs": [
    {
     "data": {
      "application/javascript": [
       "// We load the d3.js library from the Web.\n",
       "require.config({paths: {d3: \"http://d3js.org/d3.v3.min\"}});\n",
       "require([\"d3\"], function(d3) {\n",
       "    // The code in this block is executed when the \n",
       "    // d3.js library has been loaded.\n",
       "    \n",
       "    // First, we specify the size of the canvas containing\n",
       "    // the visualization (size of the <div> element).\n",
       "    var width = 500,\n",
       "        height = 525;\n",
       "\n",
       "    // We create a color scale.\n",
       "    var color = d3.scale.category10();\n",
       "\n",
       "    // We create a force-directed dynamic graph layout.\n",
       "    var force = d3.layout.force()\n",
       "        .charge(-120)\n",
       "        .linkDistance(50)\n",
       "        .size([width, height]);\n",
       "\n",
       "    // In the <div> element, we create a <svg> graphic\n",
       "    // that will contain our interactive visualization.\n",
       "    var svg = d3.select(\"#d3-example\").select(\"svg\")\n",
       "    if (svg.empty()) {\n",
       "        svg = d3.select(\"#d3-example\").append(\"svg\")\n",
       "                    .attr(\"width\", width)\n",
       "                    .attr(\"height\", height);\n",
       "    }\n",
       "        \n",
       "    // We load the JSON file.\n",
       "    d3.json(\"ak_graph1.json\", function(error, graph) {\n",
       "        // In this block, the file has been loaded\n",
       "        // and the 'graph' object contains our graph.\n",
       "        \n",
       "        // We load the nodes and links in the force-directed\n",
       "        // graph.\n",
       "        force.nodes(graph.nodes)\n",
       "            .links(graph.links)\n",
       "            .start();\n",
       "\n",
       "        // We create a <line> SVG element for each link\n",
       "        // in the graph.\n",
       "        var link = svg.selectAll(\".link\")\n",
       "            .data(graph.links)\n",
       "            .enter().append(\"line\")\n",
       "            .attr(\"class\", \"link\")\n",
       "            .style(\"stroke-width\", function(d) { return Math.sqrt( d.value); });\n",
       "\n",
       "        // We create a <circle> SVG element for each node\n",
       "        // in the graph, and we specify a few attributes.\n",
       "        var node = svg.selectAll(\".node\")\n",
       "            .data(graph.nodes)\n",
       "            .enter().append(\"circle\")\n",
       "            .attr(\"class\", \"node\")\n",
       "            .attr(\"r\", 5)  // radius\n",
       "            .style(\"fill\", function(d) {\n",
       "                // The node color depends on the club.\n",
       "                // Works only for karate graph\n",
       "                return color(d.group); \n",
       "            })\n",
       "            .call(force.drag);\n",
       "\n",
       "        // The name of each node is the node number.\n",
       "        node.append(\"title\")\n",
       "            .text(function(d) { return d.name; });\n",
       "\n",
       "        // We bind the positions of the SVG elements\n",
       "        // to the positions of the dynamic force-directed graph,\n",
       "        // at each time step.\n",
       "        force.on(\"tick\", function() {\n",
       "            link.attr(\"x1\", function(d) { return d.source.x; })\n",
       "                .attr(\"y1\", function(d) { return d.source.y; })\n",
       "                .attr(\"x2\", function(d) { return d.target.x; })\n",
       "                .attr(\"y2\", function(d) { return d.target.y; });\n",
       "\n",
       "            node.attr(\"cx\", function(d) { return d.x; })\n",
       "                .attr(\"cy\", function(d) { return d.y; });\n",
       "        });\n",
       "    });\n",
       "});\n"
      ],
      "text/plain": [
       "<IPython.core.display.Javascript object>"
      ]
     },
     "metadata": {},
     "output_type": "display_data"
    }
   ],
   "source": [
    "%%javascript\n",
    "// We load the d3.js library from the Web.\n",
    "require.config({paths: {d3: \"http://d3js.org/d3.v3.min\"}});\n",
    "require([\"d3\"], function(d3) {\n",
    "    // The code in this block is executed when the \n",
    "    // d3.js library has been loaded.\n",
    "    \n",
    "    // First, we specify the size of the canvas containing\n",
    "    // the visualization (size of the <div> element).\n",
    "    var width = 500,\n",
    "        height = 525;\n",
    "\n",
    "    // We create a color scale.\n",
    "    var color = d3.scale.category10();\n",
    "\n",
    "    // We create a force-directed dynamic graph layout.\n",
    "    var force = d3.layout.force()\n",
    "        .charge(-120)\n",
    "        .linkDistance(50)\n",
    "        .size([width, height]);\n",
    "\n",
    "    // In the <div> element, we create a <svg> graphic\n",
    "    // that will contain our interactive visualization.\n",
    "    var svg = d3.select(\"#d3-example\").select(\"svg\")\n",
    "    if (svg.empty()) {\n",
    "        svg = d3.select(\"#d3-example\").append(\"svg\")\n",
    "                    .attr(\"width\", width)\n",
    "                    .attr(\"height\", height);\n",
    "    }\n",
    "        \n",
    "    // We load the JSON file.\n",
    "    d3.json(\"ak_graph1.json\", function(error, graph) {\n",
    "        // In this block, the file has been loaded\n",
    "        // and the 'graph' object contains our graph.\n",
    "        \n",
    "        // We load the nodes and links in the force-directed\n",
    "        // graph.\n",
    "        force.nodes(graph.nodes)\n",
    "            .links(graph.links)\n",
    "            .start();\n",
    "\n",
    "        // We create a <line> SVG element for each link\n",
    "        // in the graph.\n",
    "        var link = svg.selectAll(\".link\")\n",
    "            .data(graph.links)\n",
    "            .enter().append(\"line\")\n",
    "            .attr(\"class\", \"link\")\n",
    "            .style(\"stroke-width\", function(d) { return Math.sqrt( d.value); });\n",
    "\n",
    "        // We create a <circle> SVG element for each node\n",
    "        // in the graph, and we specify a few attributes.\n",
    "        var node = svg.selectAll(\".node\")\n",
    "            .data(graph.nodes)\n",
    "            .enter().append(\"circle\")\n",
    "            .attr(\"class\", \"node\")\n",
    "            .attr(\"r\", 5)  // radius\n",
    "            .style(\"fill\", function(d) {\n",
    "                // The node color depends on the club.\n",
    "                // Works only for karate graph\n",
    "                return color(d.group); \n",
    "            })\n",
    "            .call(force.drag);\n",
    "\n",
    "        // The name of each node is the node number.\n",
    "        node.append(\"title\")\n",
    "            .text(function(d) { return d.name; });\n",
    "\n",
    "        // We bind the positions of the SVG elements\n",
    "        // to the positions of the dynamic force-directed graph,\n",
    "        // at each time step.\n",
    "        force.on(\"tick\", function() {\n",
    "            link.attr(\"x1\", function(d) { return d.source.x; })\n",
    "                .attr(\"y1\", function(d) { return d.source.y; })\n",
    "                .attr(\"x2\", function(d) { return d.target.x; })\n",
    "                .attr(\"y2\", function(d) { return d.target.y; });\n",
    "\n",
    "            node.attr(\"cx\", function(d) { return d.x; })\n",
    "                .attr(\"cy\", function(d) { return d.y; });\n",
    "        });\n",
    "    });\n",
    "});"
   ]
  },
  {
   "cell_type": "markdown",
   "metadata": {},
   "source": [
    "## Community discovery"
   ]
  },
  {
   "cell_type": "markdown",
   "metadata": {},
   "source": [
    "We now attempt to partition the characters of the novel into communities, using Newman's several greedy modularity maximization algorithms, which has a Python implementation in a `networkx` module called `community.modularity_max`.  Below, we'll use the `group` attribute to represent the community of a character in the D3 graph.  If you scroll through the javascript code you'll see that the D3 coloring of a node is already defined via its `group` attribute.  The D3 color function implements conventions for assigning colors to integers, so that's what we'll pass as values of the `group` attribute. A default color is assigned when a node has no \"group\", which is why the javascript code didn't when break when we passed it graphs with no `group` attribute.  The `greedy_modularity_communities` function returns a list of node groupings (a list of lists).  We turn that into a dictionary whose keys are node indices and whose values are their communities, represented as integers, so it's quite easy to link it to a D3 color."
   ]
  },
  {
   "cell_type": "code",
   "execution_count": 69,
   "metadata": {},
   "outputs": [],
   "source": [
    "#import community\n",
    "from networkx.algorithms.community import modularity_max\n",
    "import readwrite_gml\n",
    "ak = readwrite_gml.read_gml('anna.gml',relabel=False)\n",
    "partitions = modularity_max.greedy_modularity_communities(ak.to_undirected())\n",
    "partition_dict = dict((n,i) for (i,p) in enumerate(partitions) for n in p)\n",
    "\n",
    "# Prepare the graph to have the attributes d3 knows\n",
    "for n in ak:\n",
    "   # We delete the 'id' attribute because the json graph link fn \n",
    "   # wants to compute a unique id itself and breaks if there already is one.\n",
    "   del ak.nodes[n]['attr_dict']['id']\n",
    "   nm = ak.nodes[n]['attr_dict']['desc'].split(',')[0]\n",
    "   ak.nodes[n]['name'] = nm\n",
    "   ak.nodes[n]['group'] = partition_dict[n]\n",
    "\n",
    "# For now let's screen out this data, the edge weights\n",
    "for (s,e,att_dict) in ak.edges(data=True):\n",
    "   del att_dict['attr_dict']['value']\n",
    "\n",
    "data = json_graph.node_link_data(ak)\n",
    "with open('ak_graph2.json', 'w') as f:\n",
    "    json.dump(data, f, indent=4)"
   ]
  },
  {
   "cell_type": "markdown",
   "metadata": {},
   "source": [
    "Finally we'll try keeping the edge weights and inspecting the results in the final graph.  If you look at the java script, you'll see that a link has a style which in turn has a stroke-width that is a function of the `value` attribute of the link.\n",
    "Up until now, we've been omittin that information from the `ak` graph.  Now we'll include it.  Check out the thickness of teh edges linking major characters like Anna, Vronsky, Karenin, and Stiva.  Think of the links as the springs that are anchoring a character to their position in the network, and the thickness of the link as the strength of that spring.  Now check out the strength of the links holding `Levin` in place.  For those who know the novel, contemplate that."
   ]
  },
  {
   "cell_type": "code",
   "execution_count": 70,
   "metadata": {},
   "outputs": [],
   "source": [
    "\n",
    "#import community\n",
    "from networkx.algorithms.community import modularity_max\n",
    "import readwrite_gml\n",
    "ak = readwrite_gml.read_gml('anna.gml',relabel=False)\n",
    "partitions = modularity_max.greedy_modularity_communities(ak.to_undirected())\n",
    "partition_dict = dict((n,i) for (i,p) in enumerate(partitions) for n in p)\n",
    "#partition = community.best_partition(ak.to_undirected())\n",
    "# Prepare the graph to have the attributes d3 knows\n",
    "for n in ak:\n",
    "   # We delete the 'id' attribute because the json graph link fn \n",
    "   # wants to compute a unique id itself and breaks if there already is one.\n",
    "   #del ak.nodes[n]['attr_dict']['id']\n",
    "   nm = ak.nodes[n]['attr_dict']['desc'].split(',')[0]\n",
    "   #dd = dict()\n",
    "   #ak.nodes[n]['attr_dict'] = dd\n",
    "   ak.nodes[n]['name'] = nm\n",
    "   ak.nodes[n]['group'] = partition_dict[n]\n",
    "\n",
    "#Keeping node values\n",
    "# For now let's screen out this data, the edge weights\n",
    "#for (s,e,att_dict) in ak.edges(data=True):\n",
    "#   del att_dict['value']\n",
    "\n",
    "data = json_graph.node_link_data(ak)\n",
    "with open('ak_graph3.json', 'w') as f:\n",
    "    json.dump(data, f, indent=4)"
   ]
  },
  {
   "cell_type": "markdown",
   "metadata": {},
   "source": [
    "## Using json file generated from Drew Conway's code "
   ]
  },
  {
   "cell_type": "markdown",
   "metadata": {},
   "source": [
    "In this example, the json data file was generated by the code above, so that it can be directly be loaded by the java script.  Because the file includes community and name information for each node, the name associated with a node appears when you hover the mouse over  it, and the colors reflect community assignments.  In addition edge values reflect weights."
   ]
  },
  {
   "cell_type": "code",
   "execution_count": 92,
   "metadata": {},
   "outputs": [
    {
     "data": {
      "text/html": [
       "<div id=\"d3-example5\"></div>\n",
       "<style>\n",
       ".node {stroke: #fff; stroke-width: 1.5px;}\n",
       ".link {stroke: #999; stroke-opacity: .6;}\n",
       "</style>\n"
      ],
      "text/plain": [
       "<IPython.core.display.HTML object>"
      ]
     },
     "metadata": {},
     "output_type": "display_data"
    }
   ],
   "source": [
    "%%html\n",
    "<div id=\"d3-example5\"></div>\n",
    "<style>\n",
    ".node {stroke: #fff; stroke-width: 1.5px;}\n",
    ".link {stroke: #999; stroke-opacity: .6;}\n",
    "</style>"
   ]
  },
  {
   "cell_type": "markdown",
   "metadata": {},
   "source": [
    "The graph we read in has communities encoded in a `group` attribute.  We modify the javascript code to look there for color."
   ]
  },
  {
   "cell_type": "code",
   "execution_count": 93,
   "metadata": {},
   "outputs": [
    {
     "data": {
      "application/javascript": [
       "// We load the d3.js library from the Web.\n",
       "require.config({paths: {d3: \"http://d3js.org/d3.v3.min\"}});\n",
       "require([\"d3\"], function(d3) {\n",
       "    // The code in this block is executed when the \n",
       "    // d3.js library has been loaded.\n",
       "    \n",
       "    // First, we specify the size of the canvas containing\n",
       "    // the visualization (size of the <div> element).\n",
       "    var width = 800,\n",
       "        height = 500;\n",
       "\n",
       "    // We create a color scale.\n",
       "    var color = d3.scale.category10();\n",
       "\n",
       "    // We create a force-directed dynamic graph layout.\n",
       "    var force = d3.layout.force()\n",
       "        .charge(-170)\n",
       "        .linkDistance(20)\n",
       "        .size([width, height]);\n",
       "\n",
       "    // In the <div> element, we create a <svg> graphic\n",
       "    // that will contain our interactive visualization.\n",
       "    var svg = d3.select(\"#d3-example5\").select(\"svg\")\n",
       "    if (svg.empty()) {\n",
       "        svg = d3.select(\"#d3-example5\").append(\"svg\")\n",
       "                    .attr(\"width\", width)\n",
       "                    .attr(\"height\", height);\n",
       "    }\n",
       "   \n",
       "d3.json('ak_graph2.json', function(error, graph) {\n",
       "  force\n",
       "      .nodes(graph.nodes)\n",
       "      .links(graph.links)\n",
       "      .start();\n",
       "\n",
       "  var link = svg.selectAll(\".link\")\n",
       "      .data(graph.links)\n",
       "    .enter().append(\"line\")\n",
       "      .attr(\"class\", \"link\")\n",
       "      .style(\"stroke-width\", function(d) { return Math.sqrt( d.value); });\n",
       "\n",
       "  var node = svg.selectAll(\".node\")\n",
       "      .data(graph.nodes)\n",
       "    .enter().append(\"circle\")\n",
       "      .attr(\"class\", \"node\")\n",
       "      .attr(\"r\", 5)\n",
       "      .style(\"fill\", function(d) { return color(d.group); })\n",
       "      .call(force.drag);\n",
       "\n",
       "  node.append(\"title\")\n",
       "      .text(function(d) { return d.name; });\n",
       "\n",
       "  force.on(\"tick\", function() {\n",
       "    link.attr(\"x1\", function(d) { return d.source.x; })\n",
       "        .attr(\"y1\", function(d) { return d.source.y; })\n",
       "        .attr(\"x2\", function(d) { return d.target.x; })\n",
       "        .attr(\"y2\", function(d) { return d.target.y; });\n",
       "\n",
       "    node.attr(\"cx\", function(d) { return d.x; })\n",
       "        .attr(\"cy\", function(d) { return d.y; });\n",
       "  });\n",
       "});\n",
       "\n",
       "});\n"
      ],
      "text/plain": [
       "<IPython.core.display.Javascript object>"
      ]
     },
     "metadata": {},
     "output_type": "display_data"
    }
   ],
   "source": [
    "%%javascript\n",
    "// We load the d3.js library from the Web.\n",
    "require.config({paths: {d3: \"http://d3js.org/d3.v3.min\"}});\n",
    "require([\"d3\"], function(d3) {\n",
    "    // The code in this block is executed when the \n",
    "    // d3.js library has been loaded.\n",
    "    \n",
    "    // First, we specify the size of the canvas containing\n",
    "    // the visualization (size of the <div> element).\n",
    "    var width = 800,\n",
    "        height = 500;\n",
    "\n",
    "    // We create a color scale.\n",
    "    var color = d3.scale.category10();\n",
    "\n",
    "    // We create a force-directed dynamic graph layout.\n",
    "    var force = d3.layout.force()\n",
    "        .charge(-170)\n",
    "        .linkDistance(20)\n",
    "        .size([width, height]);\n",
    "\n",
    "    // In the <div> element, we create a <svg> graphic\n",
    "    // that will contain our interactive visualization.\n",
    "    var svg = d3.select(\"#d3-example5\").select(\"svg\")\n",
    "    if (svg.empty()) {\n",
    "        svg = d3.select(\"#d3-example5\").append(\"svg\")\n",
    "                    .attr(\"width\", width)\n",
    "                    .attr(\"height\", height);\n",
    "    }\n",
    "   \n",
    "d3.json('ak_graph2.json', function(error, graph) {\n",
    "  force\n",
    "      .nodes(graph.nodes)\n",
    "      .links(graph.links)\n",
    "      .start();\n",
    "\n",
    "  var link = svg.selectAll(\".link\")\n",
    "      .data(graph.links)\n",
    "    .enter().append(\"line\")\n",
    "      .attr(\"class\", \"link\")\n",
    "      .style(\"stroke-width\", function(d) { return Math.sqrt( d.value); });\n",
    "\n",
    "  var node = svg.selectAll(\".node\")\n",
    "      .data(graph.nodes)\n",
    "    .enter().append(\"circle\")\n",
    "      .attr(\"class\", \"node\")\n",
    "      .attr(\"r\", 5)\n",
    "      .style(\"fill\", function(d) { return color(d.group); })\n",
    "      .call(force.drag);\n",
    "\n",
    "  node.append(\"title\")\n",
    "      .text(function(d) { return d.name; });\n",
    "\n",
    "  force.on(\"tick\", function() {\n",
    "    link.attr(\"x1\", function(d) { return d.source.x; })\n",
    "        .attr(\"y1\", function(d) { return d.source.y; })\n",
    "        .attr(\"x2\", function(d) { return d.target.x; })\n",
    "        .attr(\"y2\", function(d) { return d.target.y; });\n",
    "\n",
    "    node.attr(\"cx\", function(d) { return d.x; })\n",
    "        .attr(\"cy\", function(d) { return d.y; });\n",
    "  });\n",
    "});\n",
    "\n",
    "});"
   ]
  },
  {
   "cell_type": "code",
   "execution_count": null,
   "metadata": {},
   "outputs": [],
   "source": []
  }
 ],
 "metadata": {
  "kernelspec": {
   "display_name": "Python 3",
   "language": "python",
   "name": "python3"
  },
  "language_info": {
   "codemirror_mode": {
    "name": "ipython",
    "version": 3
   },
   "file_extension": ".py",
   "mimetype": "text/x-python",
   "name": "python",
   "nbconvert_exporter": "python",
   "pygments_lexer": "ipython3",
   "version": "3.6.9"
  },
  "toc": {
   "base_numbering": 1,
   "nav_menu": {
    "height": "81px",
    "width": "252px"
   },
   "number_sections": true,
   "sideBar": true,
   "skip_h1_title": false,
   "title_cell": "Table of Contents",
   "title_sidebar": "Contents",
   "toc_cell": false,
   "toc_position": {},
   "toc_section_display": "block",
   "toc_window_display": false
  }
 },
 "nbformat": 4,
 "nbformat_minor": 1
}
