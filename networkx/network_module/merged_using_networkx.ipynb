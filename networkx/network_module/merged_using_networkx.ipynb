{
 "cells": [
  {
   "cell_type": "markdown",
   "metadata": {
    "id": "a1UO_o6lEScx"
   },
   "source": [
    "## Using networkx"
   ]
  },
  {
   "cell_type": "markdown",
   "metadata": {
    "id": "QS5qilwvEScx"
   },
   "source": [
    "We investiate `networkx`, a suite of tools for dealinbg with networks, including social networks."
   ]
  },
  {
   "cell_type": "code",
   "execution_count": 15,
   "metadata": {
    "id": "H2drF1R8EScx"
   },
   "outputs": [],
   "source": [
    "#%matplotlib inline\n",
    "import networkx as nx\n",
    "import matplotlib\n",
    "import matplotlib.pyplot as plt"
   ]
  },
  {
   "cell_type": "code",
   "execution_count": 16,
   "metadata": {
    "colab": {
     "base_uri": "https://localhost:8080/",
     "height": 35
    },
    "id": "kqozrekQEScx",
    "outputId": "48623726-1b9b-45c7-eead-6bc6df18af03"
   },
   "outputs": [
    {
     "data": {
      "text/plain": [
       "'2.8.4'"
      ]
     },
     "execution_count": 16,
     "metadata": {},
     "output_type": "execute_result"
    }
   ],
   "source": [
    "nx.__version__"
   ]
  },
  {
   "cell_type": "markdown",
   "metadata": {},
   "source": [
    "#### First Example:  Zachary's Karate Club Graph"
   ]
  },
  {
   "cell_type": "markdown",
   "metadata": {
    "id": "oSpIOAVBEScy"
   },
   "source": [
    "Let's read in the karate network from\n",
    "\n",
    "> Zachary, W. W. 1977. \"An information flow model for conflict and fission in small groups.\" Journal of anthropological research, 452-473.\n",
    "\n",
    "We'll be reading in the builtin `networkx` version of the karate graph, rather than any version you might find distributed on the web. The key advantage of this version is that it has node attributes identifying what faction each  member belongs to, and edge attrbutes identifying the strength of relationships. Both will be important in \n",
    "analyzing the graph."
   ]
  },
  {
   "cell_type": "code",
   "execution_count": 17,
   "metadata": {
    "id": "PVKDlAE_EScy"
   },
   "outputs": [],
   "source": [
    "kn = nx.karate_club_graph()"
   ]
  },
  {
   "cell_type": "markdown",
   "metadata": {},
   "source": [
    "`kn` is a `networkx` graph."
   ]
  },
  {
   "cell_type": "code",
   "execution_count": null,
   "metadata": {},
   "outputs": [],
   "source": [
    "kn"
   ]
  },
  {
   "cell_type": "markdown",
   "metadata": {},
   "source": [
    "A `networkx Graph` is a container.  It has a length and supports the `in` test."
   ]
  },
  {
   "cell_type": "code",
   "execution_count": null,
   "metadata": {},
   "outputs": [],
   "source": [
    "len(kn)"
   ]
  },
  {
   "cell_type": "code",
   "execution_count": null,
   "metadata": {},
   "outputs": [],
   "source": [
    "3 in kn"
   ]
  },
  {
   "cell_type": "markdown",
   "metadata": {},
   "source": [
    "The `True` here reflects the fact that there is a node in `kn` whose name is 3."
   ]
  },
  {
   "cell_type": "markdown",
   "metadata": {
    "id": "-NMvVATDEScz"
   },
   "source": [
    "`kn` can be also **iterated** through like any container (all containers\n",
    "are iterables). So we can print the 34 members of the karate club as follows:"
   ]
  },
  {
   "cell_type": "code",
   "execution_count": null,
   "metadata": {},
   "outputs": [],
   "source": [
    "for n in kn:\n",
    "    print(n)"
   ]
  },
  {
   "cell_type": "markdown",
   "metadata": {
    "id": "yfaaWirOEScy",
    "scrolled": true
   },
   "source": [
    "Let's draw the graph to get a birdseye view of the data.\n",
    "\n",
    "For drawing, we'll try a force spring layout algorithm."
   ]
  },
  {
   "cell_type": "code",
   "execution_count": null,
   "metadata": {
    "colab": {
     "base_uri": "https://localhost:8080/",
     "height": 318
    },
    "id": "vvXz7tdQEScy",
    "outputId": "fc0322a3-7082-4fa1-dfc7-fe7a44ddc22e",
    "scrolled": false
   },
   "outputs": [],
   "source": [
    "# Draw choosing  a force-spring algorithm\n",
    "nx.draw_spring(kn)\n",
    "# Use the default drawing program.\n",
    "#nx.draw_networkx(kn)\n",
    "# Saving the figure to a file (works only after drawing it)\n",
    "#plt.savefig('networkx_spring_karate.png')"
   ]
  },
  {
   "cell_type": "code",
   "execution_count": null,
   "metadata": {
    "colab": {
     "base_uri": "https://localhost:8080/",
     "height": 318
    },
    "id": "yzNhNm2_EScy",
    "outputId": "7a2aec38-ef62-4405-fbeb-3849e625a52a"
   },
   "outputs": [],
   "source": [
    "# Different layout algorithm, and we'll throw a new node color and labels in too.\n",
    "nx.draw_circular(kn,with_labels=True,font_size=9, node_color='cyan')\n",
    "#plt.savefig('networkx_circular_karate.png')"
   ]
  },
  {
   "cell_type": "code",
   "execution_count": null,
   "metadata": {
    "colab": {
     "base_uri": "https://localhost:8080/",
     "height": 318
    },
    "id": "y4CWAiLSEScy",
    "outputId": "65410eb0-8a19-4c99-b961-46b5d222b753"
   },
   "outputs": [],
   "source": [
    "# This layout suffers from node overlap, making labels unfeasible \n",
    "# Shrinking node circles to help\n",
    "nx.draw_spectral(kn,node_size=125)\n",
    "#plt.savefig('networkx_spectral_karate.png')"
   ]
  },
  {
   "cell_type": "markdown",
   "metadata": {},
   "source": [
    "#### Graphs as Dictionaries"
   ]
  },
  {
   "cell_type": "markdown",
   "metadata": {},
   "source": [
    "Graphs in `networkx` are **dictionary-like**."
   ]
  },
  {
   "cell_type": "markdown",
   "metadata": {},
   "source": [
    "By this I mean that we can treat the graph `kn` as a dictionary whose keys are the nodes of `kn`;"
   ]
  },
  {
   "cell_type": "code",
   "execution_count": null,
   "metadata": {
    "id": "JoG59eLvEScy",
    "outputId": "aeea1d6e-54f1-47fd-9ee7-dce5ed8ee2b1"
   },
   "outputs": [],
   "source": [
    "kn[0]"
   ]
  },
  {
   "cell_type": "markdown",
   "metadata": {
    "id": "GpH6wh8_EScz"
   },
   "source": [
    "returns another dictionary-like object, which we'll just call a dictionary for now,\n",
    "since it has keys and values like a dictionary, and values can be looked up using the \n",
    "get-item-syntax Python uses for dictionaries.\n",
    "\n",
    "The keys of the *dictionary* `kn[0]` are the neighbors of node `0`.  So\n",
    "the fact that `kn[0]` has 1 as one of its keys means that\n",
    "there is an edge between 0 and 1 in the graph.\n",
    "\n",
    "You'll notice that the values of the `kn[0]` dictionary are themselves dictionaries. For example,\n",
    "\n",
    "`kn[0][1]`\n",
    "\n",
    "is the **attribute dictionary** for the edge (0,1)."
   ]
  },
  {
   "cell_type": "code",
   "execution_count": null,
   "metadata": {},
   "outputs": [],
   "source": [
    "kn[0][1]"
   ]
  },
  {
   "cell_type": "markdown",
   "metadata": {
    "id": "GpH6wh8_EScz"
   },
   "source": [
    "Note that all \n",
    "the edges have a **weight attribute**.  These weights are taken from Zachary's paper and \n",
    "quantify the intensity of the relationship, \n",
    "measured by frequency with which the two club members see each other outside club\n",
    "activities, based on Zachary's interviews.  So above we see that member 0's relationship with member 2 is\n",
    "more intense than any of 1's other relationships with club members.  We'll return to this edge\n",
    "attribute later on this notebook.\n",
    "\n",
    "We look up the weight of a relationship as follows"
   ]
  },
  {
   "cell_type": "code",
   "execution_count": null,
   "metadata": {
    "scrolled": true
   },
   "outputs": [],
   "source": [
    "kn[0][2]['weight']"
   ]
  },
  {
   "cell_type": "markdown",
   "metadata": {},
   "source": [
    "Now this is an undirected graph, so of course it has to be the case that:"
   ]
  },
  {
   "cell_type": "code",
   "execution_count": null,
   "metadata": {},
   "outputs": [],
   "source": [
    "kn[2][0]['weight']"
   ]
  },
  {
   "cell_type": "markdown",
   "metadata": {},
   "source": [
    "This is not a claim about whether friendship intensity has to be the same in both directions.\n",
    "\n",
    "Rather, it's down to the fact that we are representing the karate club\n",
    "as undirected graph, and in an undirected graph the edge from 0 to 2 is the same edge\n",
    "as the edge from 2 to 0.  Therefore the the edge attributes must be represented by\n",
    "one and the same dictionary:"
   ]
  },
  {
   "cell_type": "code",
   "execution_count": null,
   "metadata": {},
   "outputs": [],
   "source": [
    "kn[0][2] is kn[2][0]"
   ]
  },
  {
   "cell_type": "markdown",
   "metadata": {},
   "source": [
    "Notice I didn't use `==` here.  I'm interested in whether the two expressions\n",
    "`kn[0][2]` and `kn[2][0]` denote the same object in memory (the meaning of `is`)\n",
    "And they do. If I were interested in whether\n",
    "they contain the same information, I would use `==`. \n",
    "\n",
    "When you reflect on how Zachary measures intensity (frequency of interaction), it seems correct \n",
    "that the intensity must be the same for the pair (0,2) and the pair (2,0), and\n",
    "that supports the decision to treat the club as an undirected graph."
   ]
  },
  {
   "cell_type": "markdown",
   "metadata": {
    "id": "GpH6wh8_EScz"
   },
   "source": [
    "Now suppose we wanted to color edges and that we want to assign the color red to the edge from 0 to 1.  Then we could add another attribute \n",
    "to the following edge attribute dictionary:"
   ]
  },
  {
   "cell_type": "code",
   "execution_count": null,
   "metadata": {
    "colab": {
     "base_uri": "https://localhost:8080/"
    },
    "id": "U4gPgjL4EScy",
    "outputId": "3036dfe6-bee7-4a8e-a5cb-7e875869217e"
   },
   "outputs": [],
   "source": [
    "kn[0][1]"
   ]
  },
  {
   "cell_type": "code",
   "execution_count": null,
   "metadata": {
    "id": "iFqFm5kUEScz"
   },
   "outputs": [],
   "source": [
    "kn[0][1]['color'] = 'red'"
   ]
  },
  {
   "cell_type": "markdown",
   "metadata": {},
   "source": [
    "And  when we look at it now"
   ]
  },
  {
   "cell_type": "code",
   "execution_count": null,
   "metadata": {},
   "outputs": [],
   "source": [
    "kn[0][1]"
   ]
  },
  {
   "cell_type": "code",
   "execution_count": null,
   "metadata": {
    "colab": {
     "base_uri": "https://localhost:8080/"
    },
    "id": "2bhmcMk5EScz",
    "outputId": "c0c819f2-97ab-44d1-d504-c4350041722e"
   },
   "outputs": [],
   "source": [
    "kn[1][0]"
   ]
  },
  {
   "cell_type": "markdown",
   "metadata": {},
   "source": [
    "#### Customizing  Drawing I:  The four stages of drawing a graph."
   ]
  },
  {
   "cell_type": "markdown",
   "metadata": {},
   "source": [
    "Adding some customization to the drawing.\n",
    "We'll display the edge coloring we just added and\n",
    "we will illustrate some important concepts\n",
    "for drawing networkx objects.\n",
    "\n",
    "The most important concept is that\n",
    "most customizations will require breaking down \n",
    "the drawing into stages: compute layout, draw nodes, draw labels,\n",
    "draw edges.  And of course the last three steps all depend on the layout,\n",
    "which must be done first.\n",
    "\n",
    "Spelling this out: everything we did in\n",
    "one function call to `nx.draw()` above\n",
    "can be broken down into these four stages:\n",
    "\n",
    "  1.  Compute the basic layout.  This creates a layout object we'll call `pos`,  used in the next steps\n",
    "  2.  Draw the node labels  for `pos`(optional)\n",
    "  3.  Draw the nodes for `pos`, possibly with coloring, and possibly with special outlining\n",
    "  4.  Draw the edges for `pos`, connecting the nodes.\n",
    "  \n",
    "These correspond to the following functions:\n",
    "\n",
    "  ```\n",
    "  nx.spring_layout (there are alternative layout functions; this is the default)\n",
    "  nx.draw_networkx_labels\n",
    "  nx.draw_networkx_nodes\n",
    "  nx.draw_networkx edges\n",
    "  ```\n",
    "\n",
    "\n",
    "Almost all complex graphs will benefit from some kind of customization when drawing them.  For example, the layout algorithm does not take labeling into account, so that adding labels to a graph may result in a cluttered, even unreadable, graph.  You can deal with this by leaving some nodes out, or by leaving some edges out, adjusting label size and position, or by factoring some of the information into coloring.  In all cases you need to break the drawing process up into component steps, which allows you to customize some or all of them. \n",
    "\n",
    "We illustrate with a fairly sinple example. We expand on that\n",
    "ion the next example.  We use thse concepts throughout\n",
    "the notebook to introduce more and more flexibility \n",
    "into our network visualizations."
   ]
  },
  {
   "cell_type": "code",
   "execution_count": null,
   "metadata": {},
   "outputs": [],
   "source": [
    "############# Stage 1 alyout ##################################\n",
    "\n",
    "#  This returns a layout object we can reuse in future commands/drawings.\n",
    "#  Fixing seed allows us to reproduce a particular layout in future runs.\n",
    "seed = 47\n",
    "pos=nx.spring_layout(kn,seed=seed)\n",
    "\n",
    "\n",
    "############# Stage 2 Nodes ##################################\n",
    "ncoll = nx.draw_networkx_nodes(kn, pos, node_color='cyan')\n",
    "#Add Node outlines.  No keyword arg for this.  Whine to networkx folks\n",
    "ncoll.set_edgecolor('k')\n",
    "\n",
    "############# Stage 3 Labels ##################################\n",
    "# Labels must be a dict(): node_id -> label\n",
    "labels= {i:i for  i in range(len(kn))}\n",
    "nx.draw_networkx_labels(kn, pos, labels=labels,font_size=9)\n",
    "\n",
    "############# Edges ##################################\n",
    "default_edge_color='aqua'\n",
    "# To understand the next lines better, do\n",
    "# print(kn.edges.__doc__)\n",
    "# This is a way to collect values for a SINGLE edge attribute (the kn graph has 2: weight and color)\n",
    "# providing a default, and using the same ordering stored in kn.edges()\n",
    "EVcol_data = kn.edges(data=\"color\", default=default_edge_color)\n",
    "edge_colors= [col for (i,j,col) in EVcol_data]\n",
    "nx.draw_networkx_edges(kn, pos, edge_color=edge_colors)\n",
    "\n",
    "# The above is approximated with the following, \n",
    "# which necessarily allows fewer customizations (viz. layout, edge colots,  node outlines)\n",
    "# nx.draw_spring(kn,labels=labels,edge_color=edge_colors,node_color='cyan',font_size=9)"
   ]
  },
  {
   "cell_type": "markdown",
   "metadata": {
    "id": "eI7rxwT8EScz"
   },
   "source": [
    "## Node data"
   ]
  },
  {
   "cell_type": "markdown",
   "metadata": {
    "id": "S4UWQrihEScz"
   },
   "source": [
    "In  the examples above we looked at edge attributes.  Now let's look\n",
    "at node attributes.  Most interesting network applications will involve doing some computing with\n",
    "either edge or node attributes.\n",
    "\n",
    "As we said above, the reason for loading up the networkx definition of the karate club graph was that it contained information about the faction of each node, information taken from Zachary's original paper.  This is stored as a **node attribute**.    In `networkx`, node attributes are stored in another  dictionary-like object \n",
    "that is found as the value of the `nodes` attribute of the graph:"
   ]
  },
  {
   "cell_type": "code",
   "execution_count": null,
   "metadata": {
    "colab": {
     "base_uri": "https://localhost:8080/"
    },
    "id": "rZ6kStacEScz",
    "outputId": "9f3db133-aef4-4a88-cff3-2594f2091371",
    "scrolled": true
   },
   "outputs": [],
   "source": [
    "kn.nodes(data=True)"
   ]
  },
  {
   "cell_type": "markdown",
   "metadata": {
    "id": "MJ2A09iQEScz"
   },
   "source": [
    "As the dictionary structure sugests, `networkx` nodes can have attributes too."
   ]
  },
  {
   "cell_type": "markdown",
   "metadata": {},
   "source": [
    "To find the attribute dictionary for members 0 and 27, we do\n"
   ]
  },
  {
   "cell_type": "code",
   "execution_count": null,
   "metadata": {
    "colab": {
     "base_uri": "https://localhost:8080/"
    },
    "id": "lLWb66o7EScz",
    "outputId": "98e0a4c1-526f-45f6-8586-9ebb53ec157b",
    "scrolled": true
   },
   "outputs": [],
   "source": [
    "kn.nodes[0]"
   ]
  },
  {
   "cell_type": "code",
   "execution_count": null,
   "metadata": {
    "colab": {
     "base_uri": "https://localhost:8080/"
    },
    "id": "joKMIjb4EScz",
    "outputId": "b2121a6c-e750-4719-88a5-1e801318c98f"
   },
   "outputs": [],
   "source": [
    "kn.nodes[27]"
   ]
  },
  {
   "cell_type": "markdown",
   "metadata": {},
   "source": [
    "So this is where the information about which faction (\"club\") each member belongs to is stored.\n",
    "The history of the club is that after a period of stability it split it\n",
    "into two different groups.\n",
    "\n",
    "Zachary assigned the `club` values according to which group each member ended up in after the split.  We\n",
    "see that members 0 and 27 ended up on different sides of the split."
   ]
  },
  {
   "cell_type": "markdown",
   "metadata": {
    "id": "fu_S0v1zEScz"
   },
   "source": [
    "**Note**: Despite the fact that the node names are integers \n",
    "here, `kn.nodes` is not technically a sequence and\n",
    "does not support Python sequence features like\n",
    "slices and negative indices.\n",
    "In general `kn.nodes` will  have node names as keys, \n",
    "and those may or may not be integers, and although a fixed order is preserved,\n",
    "that order derives from the order\n",
    "of creation of elements of the graph and not from a natural integer ordering.\n",
    "That order will always be the order used for iterating  through the graph.\n",
    "\n",
    "Consider the following toy example:"
   ]
  },
  {
   "cell_type": "code",
   "execution_count": null,
   "metadata": {},
   "outputs": [],
   "source": [
    "G = nx.Graph()\n",
    "G.add_edge(0,2)\n",
    "G.add_edge(1,0)\n",
    "\n",
    "print(G.nodes())\n",
    "print()\n",
    "for n in G:\n",
    "    print(n)"
   ]
  },
  {
   "cell_type": "markdown",
   "metadata": {
    "id": "-NMvVATDEScz"
   },
   "source": [
    "#### Exercise \n",
    "\n",
    "Construct a list comprehension that collects the the club membership of each node\n",
    "in the order fiound by `kn.nodes()`."
   ]
  },
  {
   "cell_type": "code",
   "execution_count": null,
   "metadata": {},
   "outputs": [],
   "source": []
  },
  {
   "cell_type": "code",
   "execution_count": null,
   "metadata": {},
   "outputs": [],
   "source": []
  },
  {
   "cell_type": "code",
   "execution_count": null,
   "metadata": {},
   "outputs": [],
   "source": []
  },
  {
   "cell_type": "code",
   "execution_count": null,
   "metadata": {},
   "outputs": [],
   "source": []
  },
  {
   "cell_type": "code",
   "execution_count": null,
   "metadata": {},
   "outputs": [],
   "source": []
  },
  {
   "cell_type": "code",
   "execution_count": null,
   "metadata": {},
   "outputs": [],
   "source": []
  },
  {
   "cell_type": "code",
   "execution_count": null,
   "metadata": {},
   "outputs": [],
   "source": []
  },
  {
   "cell_type": "code",
   "execution_count": null,
   "metadata": {},
   "outputs": [],
   "source": []
  },
  {
   "cell_type": "code",
   "execution_count": null,
   "metadata": {},
   "outputs": [],
   "source": []
  },
  {
   "cell_type": "code",
   "execution_count": null,
   "metadata": {},
   "outputs": [],
   "source": []
  },
  {
   "cell_type": "markdown",
   "metadata": {},
   "source": [
    "This makes use of the fact a graph is a container whose elements are its nodes."
   ]
  },
  {
   "cell_type": "code",
   "execution_count": null,
   "metadata": {
    "colab": {
     "base_uri": "https://localhost:8080/"
    },
    "id": "udiacEY1EScz",
    "outputId": "eb09dae6-11cf-4b8f-f60a-4b8f379f04bf"
   },
   "outputs": [],
   "source": [
    "# Soln 1\n",
    "[kn.nodes[n]['club'] for n in kn]"
   ]
  },
  {
   "cell_type": "code",
   "execution_count": null,
   "metadata": {},
   "outputs": [],
   "source": [
    "# Soln 2 (equivalent but less concise)\n",
    "#[kn.nodes[n]['club'] for n in kn.nodes()]"
   ]
  },
  {
   "cell_type": "markdown",
   "metadata": {
    "id": "kj1iPz96EScz"
   },
   "source": [
    "#### Exercise\n",
    "\n",
    "Write code that constructs the set of clubs without constructing the club list for all the members.\n",
    "\n",
    "Note that there are only two clubs; the set you end up with should be\n",
    "\n",
    "```\n",
    "{'Mr. Hi', 'Officer'}\n",
    "```\n",
    "\n",
    "But you dont know that until you've collected the clubs of all members into a set."
   ]
  },
  {
   "cell_type": "code",
   "execution_count": null,
   "metadata": {},
   "outputs": [],
   "source": []
  },
  {
   "cell_type": "code",
   "execution_count": null,
   "metadata": {},
   "outputs": [],
   "source": []
  },
  {
   "cell_type": "code",
   "execution_count": null,
   "metadata": {},
   "outputs": [],
   "source": []
  },
  {
   "cell_type": "code",
   "execution_count": null,
   "metadata": {},
   "outputs": [],
   "source": []
  },
  {
   "cell_type": "code",
   "execution_count": null,
   "metadata": {},
   "outputs": [],
   "source": []
  },
  {
   "cell_type": "code",
   "execution_count": null,
   "metadata": {},
   "outputs": [],
   "source": []
  },
  {
   "cell_type": "code",
   "execution_count": null,
   "metadata": {},
   "outputs": [],
   "source": []
  },
  {
   "cell_type": "code",
   "execution_count": null,
   "metadata": {},
   "outputs": [],
   "source": []
  },
  {
   "cell_type": "code",
   "execution_count": null,
   "metadata": {
    "colab": {
     "base_uri": "https://localhost:8080/"
    },
    "id": "Jq3L2NCYEScz",
    "outputId": "b07d968d-5674-4bb7-e3bd-1dda70d572f1"
   },
   "outputs": [],
   "source": [
    "{kn.nodes[n]['club'] for n in kn}"
   ]
  },
  {
   "cell_type": "markdown",
   "metadata": {
    "id": "OMHLfRDnESc0"
   },
   "source": [
    "## Customized drawing example II"
   ]
  },
  {
   "cell_type": "markdown",
   "metadata": {
    "id": "GhroYScjESc0"
   },
   "source": [
    "Now that we have introduced node attributes, we are ready to use them in visualization. The next customized drawing shows how to the colors representiong the club membership of each node in the karate graph. \n",
    "  \n",
    "This drawing includes the steps needed to produce the colored FG layout figure in the lecture notes,\n",
    "with a couple of added customizations.\n",
    "\n",
    "The goal of this picture is to draw something you would find useful as you read the original Zachary paper:\n",
    "Label club members as in the paper, color each node according to its\n",
    "club, provide a legend identifying which club (and which color) is which.  That is, when\n",
    "reference is made to member 14, you can refer to the picture to see that member 14 is a Mr. Hi\n",
    "follower."
   ]
  },
  {
   "cell_type": "code",
   "execution_count": null,
   "metadata": {
    "id": "7t_Am6G3ESc0",
    "outputId": "9b17cd2f-0119-4c0a-c453-5b732ace98e7"
   },
   "outputs": [],
   "source": [
    "import math\n",
    "import matplotlib.pyplot as plt\n",
    "import networkx as nx\n",
    "\n",
    "# create a matplot lib fig, ax \n",
    "# which implicitly becomes the oine used by networkx drawing\n",
    "fig, ax = plt.subplots(1,1,figsize=(11,8))\n",
    "\n",
    "kn = nx.karate_club_graph()\n",
    "\n",
    "####################################################################################\n",
    "#\n",
    "#  P r e p a r i n g   a   C o l o r   D i c t i o n a r y  (club -> color)\n",
    "#\n",
    "#####################################################################################\n",
    "#Some alternative color schemes:  ('lightgray','salmon') ('lightblue','salmon') ('yellow','lightgreen')\n",
    "#club_colors = ('#00CCFF','#FF0033')\n",
    "club_colors = ('salmon','lightblue')\n",
    "clubs = ('Officer', 'Mr. Hi')\n",
    "# A dictionary that maps from a club to the club color.\n",
    "color_dict = dict(list(zip(clubs, club_colors)))\n",
    "\n",
    "\n",
    "###################################################################################\n",
    "#\n",
    "#  S e p a r a t i n g   t h e   n o d e s    b y   C l u b\n",
    "#\n",
    "#####################################################################################\n",
    "\n",
    "node_dict = kn.nodes \n",
    "\n",
    "# To draw both communities with one node drawing command (meaning no legend) use this\n",
    "# node_color = [color_dict[node_dict[n]['club']] \n",
    "#             for n in range(len(kn.nodes()))]\n",
    "nodes_officer = [n for n in range(len(kn.nodes())) if node_dict[n]['club']  == clubs[0]]\n",
    "nodes_mr_hi = [n for n in range(len(kn.nodes())) if node_dict[n]['club']  == clubs[1]]\n",
    "\n",
    "\n",
    "#####################################################################################\n",
    "#\n",
    "#  L a y o u t    C o m pu t i n g\n",
    "#\n",
    "#####################################################################################\n",
    "\n",
    "seed=47\n",
    "pos = nx.spring_layout(kn,seed=seed)\n",
    "\n",
    "#####################################################################################\n",
    "#\n",
    "#  L a b e l    D r a w i n g\n",
    "#\n",
    "#####################################################################################\n",
    "\n",
    "# Now put in the labels, using a label->new_label mapping. We'll change the labels to agree with\n",
    "# Zachary's original indexing, so x->x+1\n",
    "new_labels = dict((x,x + 1) for x in kn.nodes())\n",
    "font_size = 10\n",
    "nx.draw_networkx_labels(kn,pos,new_labels,\n",
    "                        font_size=font_size,\n",
    "                        font_color='black',\n",
    "                        verticalalignment='center',\n",
    "                        horizontalalignment = 'center')\n",
    "\n",
    "#####################################################################################\n",
    "#\n",
    "#  N o d e    D r a w i n g\n",
    "#\n",
    "#####################################################################################\n",
    "\n",
    "# Highlight the two leader nodes, by drawing slightly larger black circles round them.\n",
    "# NB these will render as nodes 1 and nodes 34 because of relabeling\n",
    "ncoll=nx.draw_networkx_nodes(kn,pos,{0:0,33:33},\n",
    "                       node_color=['black','black'],node_size=600)\n",
    "##  We draw the clubs in separate bunches so as to have separate graphic objects that\n",
    "##  can be referenced in the legend.\n",
    "basic_node_size = 350 \n",
    "nx.draw_networkx_nodes(kn,pos, nodes_officer, node_color=color_dict['Officer'],\n",
    "                       node_size=basic_node_size,edgecolors=\"black\",\n",
    "                       label='Officer')\n",
    "nx.draw_networkx_nodes(kn,pos,nodes_mr_hi,  node_color=color_dict['Mr. Hi'],\n",
    "                       node_size=basic_node_size,edgecolors=\"black\",\n",
    "                       label=\"Mr. Hi\")\n",
    "\n",
    "#####################################################################################\n",
    "#\n",
    "#  E d g e    D r a w i n g\n",
    "#\n",
    "#####################################################################################\n",
    "\n",
    "# Put in the edges\n",
    "nx.draw_networkx_edges(kn,pos)\n",
    "\n",
    "#####################################################################################\n",
    "#\n",
    "#  L e g e n d\n",
    "# \n",
    "#####################################################################################\n",
    "\n",
    "\n",
    "# Add a legend, using the graphic objects returned by the two node drawing commands\n",
    "# We have provided labels above and  are locating the legend in teh figure.\n",
    "plt.legend(loc='lower left')"
   ]
  },
  {
   "cell_type": "markdown",
   "metadata": {},
   "source": [
    "#### Degree Distribution"
   ]
  },
  {
   "cell_type": "markdown",
   "metadata": {},
   "source": [
    "Every node in a connected graph has neighbors and the number of neighbors it has is its **degree**.\n",
    "\n",
    "The distribution of the degrees in a graph tells us something about the kind of graph it is.\n",
    "Random graphs, for example, have a characteristic degree deistribution."
   ]
  },
  {
   "cell_type": "code",
   "execution_count": 24,
   "metadata": {},
   "outputs": [
    {
     "name": "stdout",
     "output_type": "stream",
     "text": [
      "Draw the nodes of the graph G.\n",
      "\n",
      "    This draws only the nodes of the graph G.\n",
      "\n",
      "    Parameters\n",
      "    ----------\n",
      "    G : graph\n",
      "        A networkx graph\n",
      "\n",
      "    pos : dictionary\n",
      "        A dictionary with nodes as keys and positions as values.\n",
      "        Positions should be sequences of length 2.\n",
      "\n",
      "    ax : Matplotlib Axes object, optional\n",
      "        Draw the graph in the specified Matplotlib axes.\n",
      "\n",
      "    nodelist : list (default list(G))\n",
      "        Draw only specified nodes\n",
      "\n",
      "    node_size : scalar or array (default=300)\n",
      "        Size of nodes.  If an array it must be the same length as nodelist.\n",
      "\n",
      "    node_color : color or array of colors (default='#1f78b4')\n",
      "        Node color. Can be a single color or a sequence of colors with the same\n",
      "        length as nodelist. Color can be string or rgb (or rgba) tuple of\n",
      "        floats from 0-1. If numeric values are specified they will be\n",
      "        mapped to colors using the cmap and vmin,vmax parameters. See\n",
      "        matplotlib.scatter for more details.\n",
      "\n",
      "    node_shape :  string (default='o')\n",
      "        The shape of the node.  Specification is as matplotlib.scatter\n",
      "        marker, one of 'so^>v<dph8'.\n",
      "\n",
      "    alpha : float or array of floats (default=None)\n",
      "        The node transparency.  This can be a single alpha value,\n",
      "        in which case it will be applied to all the nodes of color. Otherwise,\n",
      "        if it is an array, the elements of alpha will be applied to the colors\n",
      "        in order (cycling through alpha multiple times if necessary).\n",
      "\n",
      "    cmap : Matplotlib colormap (default=None)\n",
      "        Colormap for mapping intensities of nodes\n",
      "\n",
      "    vmin,vmax : floats or None (default=None)\n",
      "        Minimum and maximum for node colormap scaling\n",
      "\n",
      "    linewidths : [None | scalar | sequence] (default=1.0)\n",
      "        Line width of symbol border\n",
      "\n",
      "    edgecolors : [None | scalar | sequence] (default = node_color)\n",
      "        Colors of node borders\n",
      "\n",
      "    label : [None | string]\n",
      "        Label for legend\n",
      "\n",
      "    margins : float or 2-tuple, optional\n",
      "        Sets the padding for axis autoscaling. Increase margin to prevent\n",
      "        clipping for nodes that are near the edges of an image. Values should\n",
      "        be in the range ``[0, 1]``. See :meth:`matplotlib.axes.Axes.margins`\n",
      "        for details. The default is `None`, which uses the Matplotlib default.\n",
      "\n",
      "    Returns\n",
      "    -------\n",
      "    matplotlib.collections.PathCollection\n",
      "        `PathCollection` of the nodes.\n",
      "\n",
      "    Examples\n",
      "    --------\n",
      "    >>> G = nx.dodecahedral_graph()\n",
      "    >>> nodes = nx.draw_networkx_nodes(G, pos=nx.spring_layout(G))\n",
      "\n",
      "    Also see the NetworkX drawing examples at\n",
      "    https://networkx.org/documentation/latest/auto_examples/index.html\n",
      "\n",
      "    See Also\n",
      "    --------\n",
      "    draw\n",
      "    draw_networkx\n",
      "    draw_networkx_edges\n",
      "    draw_networkx_labels\n",
      "    draw_networkx_edge_labels\n",
      "    \n"
     ]
    }
   ],
   "source": [
    "print(nx.draw_networkx_nodes.__doc__)"
   ]
  },
  {
   "cell_type": "code",
   "execution_count": 27,
   "metadata": {},
   "outputs": [
    {
     "data": {
      "text/plain": [
       "DegreeView({0: 16, 1: 9, 2: 10, 3: 6, 4: 3, 5: 4, 6: 4, 7: 4, 8: 5, 9: 2, 10: 3, 11: 1, 12: 2, 13: 5, 14: 2, 15: 2, 16: 2, 17: 2, 18: 2, 19: 3, 20: 2, 21: 2, 22: 2, 23: 5, 24: 3, 25: 3, 26: 2, 27: 4, 28: 3, 29: 4, 30: 4, 31: 6, 32: 12, 33: 17})"
      ]
     },
     "execution_count": 27,
     "metadata": {},
     "output_type": "execute_result"
    }
   ],
   "source": [
    "kn.degree()"
   ]
  },
  {
   "cell_type": "code",
   "execution_count": 34,
   "metadata": {},
   "outputs": [
    {
     "data": {
      "image/png": "[encoded data removed]",
      "text/plain": [
       "<Figure size 1200x1200 with 2 Axes>"
      ]
     },
     "metadata": {},
     "output_type": "display_data"
    }
   ],
   "source": [
    "import collections\n",
    "import matplotlib.pyplot as plt\n",
    "import networkx as nx\n",
    "import random\n",
    "\n",
    "def plot_degree_distribution (G,draw_largest_component=False,seed=None):\n",
    "    degree_sequence = sorted([d for n, d in G.degree()], reverse=True)  # degree sequence\n",
    "    # print \"Degree sequence\", degree_sequence\n",
    "    degreeCount = collections.Counter(degree_sequence)\n",
    "    deg, cnt = zip(*degreeCount.items())\n",
    "\n",
    "    fig, ax = plt.subplots(figsize=(12,12))\n",
    "    plt.bar(deg, cnt, width=0.80, color='b')\n",
    "\n",
    "    plt.title(\"Degree Histogram\")\n",
    "    plt.ylabel(\"Count\")\n",
    "    plt.xlabel(\"Degree\")\n",
    "    ax.set_xticks([d + 0.4 for d in deg])\n",
    "    ax.set_xticklabels(deg)\n",
    "\n",
    "    # draw graph in inset dfnd by this bbox\n",
    "    #plt.axes([0.4, 0.4, 0.5, 0.5])\n",
    "    #plt.axes([0.5, 0.4, 0.6, 0.5])\n",
    "\n",
    "    if draw_largest_component:\n",
    "        # draw graph in inset dfnd by this bbox\n",
    "        #plt.axes([0.4, 0.4, 0.5, 0.5])\n",
    "        plt.axes([0.5, 0.4, 0.6, 0.5])\n",
    "\n",
    "        #  Just draw the largest connected component\n",
    "        Gcc = sorted(nx.connected_components(G), key=len, reverse=True)[0]\n",
    "        subG = nx.subgraph(G,Gcc)\n",
    "        sdegree_sequence = [d for n, d in subG.degree()] # degree sequence\n",
    "        color_sequence = ['r' if d==1 else 'c' for d in sdegree_sequence]\n",
    "        pos = nx.spring_layout(subG,seed=seed)\n",
    "        plt.axis('off')\n",
    "        nx.draw_networkx_nodes(subG, pos, node_size=20,node_color=color_sequence)\n",
    "        nx.draw_networkx_edges(subG, pos, alpha=0.4)\n",
    "\n",
    "seed = 47#random.seed(47)       \n",
    "G = nx.gnp_random_graph(100, 0.02,seed=seed)\n",
    "#seed = random.seed(47)   \n",
    "plot_degree_distribution (G,draw_largest_component=True,seed=seed)"
   ]
  },
  {
   "cell_type": "markdown",
   "metadata": {},
   "source": [
    "Reading the bar graph: the most popular degree is one, with two  and three coming in a close second; 41 nodes have only one neighbor. SWe have drawn those nodes in red.\n",
    "There are 21 nodes with two neighbors and 13 with three neighbors.  Approximately 11 nodes have no neighbors, meaning they are disconnected from the graph and they are not drawn in our inset.\n",
    "\n",
    "The more nodes in the random graph and the bigger the probability of a random connection,\n",
    "the more the degree distribution looks like a bell curve (a normal distribution)."
   ]
  },
  {
   "cell_type": "code",
   "execution_count": 35,
   "metadata": {
    "scrolled": false
   },
   "outputs": [
    {
     "data": {
      "image/png": "[encoded data removed]",
      "text/plain": [
       "<Figure size 1200x1200 with 1 Axes>"
      ]
     },
     "metadata": {},
     "output_type": "display_data"
    }
   ],
   "source": [
    "G = nx.gnp_random_graph(300, 0.2)\n",
    "plot_degree_distribution (G,seed=47)"
   ]
  },
  {
   "cell_type": "markdown",
   "metadata": {},
   "source": [
    "Now let's compute the degree distribution of a social network, using the karate graph \n",
    "as our example.\n",
    "\n",
    "First, its degree distribution."
   ]
  },
  {
   "cell_type": "code",
   "execution_count": 36,
   "metadata": {},
   "outputs": [
    {
     "data": {
      "image/png": "[encoded data removed]",
      "text/plain": [
       "<Figure size 1200x1200 with 1 Axes>"
      ]
     },
     "metadata": {},
     "output_type": "display_data"
    }
   ],
   "source": [
    "plot_degree_distribution (kn)"
   ]
  },
  {
   "cell_type": "markdown",
   "metadata": {},
   "source": [
    "This does not look much like a bell curve,  In general, the degree distribution of a social network\n",
    "will not look much like a normal distribution.  It will be what is called a **power-law\n",
    "distribution:**  A large number of nodes of very low degree, a very few at the tail end of the curve, \n",
    "with very high degree.\n",
    "\n",
    "See the Watts-Strogatz \"Small Worlds\" paper for more on this:\n",
    "\n",
    "Watts, D., Strogatz, S. Collective dynamics of ‘small-world’ networks. Nature 393, 440–442 (1998). https://doi.org/10.1038/30918\n"
   ]
  },
  {
   "cell_type": "markdown",
   "metadata": {
    "id": "nP3L0IKKEScz"
   },
   "source": [
    "## Degree Centrality"
   ]
  },
  {
   "cell_type": "markdown",
   "metadata": {},
   "source": [
    "Now let's compute some influence information about the karate graph. To look\n",
    "for influence information in a social network, we use a **centrality measure**.\n",
    "The more central a node is, the higher its degree of influence.\n",
    "\n",
    "There are various notions of centrality implemented in `networkx`.  We'll\n",
    "look at some others below and we'll talk about a variety of\n",
    "them in the **Network Centrality notebook**.  For now, we'll use **degree centrality**,\n",
    "which is the simplest.\n",
    "\n",
    "A `networkx` convention followed for all centrality measures is that they assign \n",
    "a value between 0 and 1 to each node. For degree centrality,\n",
    "the degree centrality of a node is its degree divided by \n",
    "the maximum number of nodes that it can\n",
    "be connected to.  What is the maximum number of nodes that a node can be\n",
    "connected to?  Well if the graph has length N, the maximum number of\n",
    "nodes it can be connected to is $N-1$, since we are not allowing self-loops."
   ]
  },
  {
   "cell_type": "code",
   "execution_count": null,
   "metadata": {
    "colab": {
     "base_uri": "https://localhost:8080/"
    },
    "id": "0tSuUskiEScz",
    "outputId": "915054ec-c254-46a9-d5cf-aaa398726692"
   },
   "outputs": [],
   "source": [
    "# The proportion of all the nodes that each node is connected to.\n",
    "D = nx.degree_centrality(kn)\n",
    "D"
   ]
  },
  {
   "cell_type": "markdown",
   "metadata": {},
   "source": [
    "Note that there is a  simple way to find node degrees implemented in `networkx`.\n",
    "\n",
    "Every graph has a `degree` attribute which denotes a `DegreeView` object.\n"
   ]
  },
  {
   "cell_type": "code",
   "execution_count": null,
   "metadata": {
    "scrolled": false
   },
   "outputs": [],
   "source": [
    "kn.degree"
   ]
  },
  {
   "cell_type": "markdown",
   "metadata": {},
   "source": [
    "Consistent with the way the `nodes` attributes of a graph\n",
    "are implemented, this is a dictionary-like object that can be used to look up\n",
    "an individual  node's  degree:"
   ]
  },
  {
   "cell_type": "code",
   "execution_count": null,
   "metadata": {
    "id": "1cig1BeCEScz"
   },
   "outputs": [],
   "source": [
    "kn.degree[0]"
   ]
  },
  {
   "cell_type": "markdown",
   "metadata": {},
   "source": [
    "So computing it using `kn.degree`, the degree centrality of node 0 is"
   ]
  },
  {
   "cell_type": "code",
   "execution_count": null,
   "metadata": {},
   "outputs": [],
   "source": [
    "kn.degree[0]/(len(kn) - 1)"
   ]
  },
  {
   "cell_type": "markdown",
   "metadata": {},
   "source": [
    "Now `D` , which we computed above is just a dictionary assigning a degree centrality to overy node.\n",
    "\n",
    "We look up the degree centrality for node 0 in `D` and find pretty close agreement."
   ]
  },
  {
   "cell_type": "code",
   "execution_count": null,
   "metadata": {},
   "outputs": [],
   "source": [
    "D[0]"
   ]
  },
  {
   "cell_type": "markdown",
   "metadata": {},
   "source": [
    "We can visulize the range of degree centralities in the club by using a color map."
   ]
  },
  {
   "cell_type": "code",
   "execution_count": null,
   "metadata": {
    "id": "7t_Am6G3ESc0",
    "outputId": "9b17cd2f-0119-4c0a-c453-5b732ace98e7"
   },
   "outputs": [],
   "source": [
    "import math\n",
    "import matplotlib as mpl\n",
    "import matplotlib.pyplot as plt\n",
    "import networkx as nx\n",
    "\n",
    "\n",
    "kn = nx.karate_club_graph()\n",
    "\n",
    "\n",
    "#cmap = plt.cm.jet\n",
    "cmap = plt.cm.Spectral_r\n",
    "\n",
    "# create a matplot lib fig, ax \n",
    "# which implicitly becomes the oine used by networkx drawing\n",
    "#(fig, (ax,cax)) = plt.subplots(2,1,figsize=(11,8))\n",
    "(fig, ax) = plt.subplots(1,1,figsize=(11,11))\n",
    "\n",
    "\n",
    "#####################################################################################\n",
    "#\n",
    "#  L a y o u t    C o m pu t i n g\n",
    "#\n",
    "#####################################################################################\n",
    "\n",
    "seed=47\n",
    "pos = nx.spring_layout(kn,seed=seed)\n",
    "\n",
    "#####################################################################################\n",
    "#\n",
    "#  L a b e l    D r a w i n g\n",
    "#\n",
    "#####################################################################################\n",
    "\n",
    "# Now put in the labels, using a label->new_label mapping. We'll change the labels to agree with\n",
    "# Zachary's original indexing, so x->x+1\n",
    "new_labels = dict((x,x + 1) for x in kn.nodes())\n",
    "font_size = 10\n",
    "nx.draw_networkx_labels(kn,pos,new_labels,\n",
    "                        font_size=font_size,\n",
    "                        font_color='black',\n",
    "                        verticalalignment='center',\n",
    "                        horizontalalignment = 'center')\n",
    "\n",
    "###################################################################################\n",
    "#\n",
    "#  A s s i g n i n g    t h e   N o d e    C o l o r s\n",
    "#\n",
    "#####################################################################################\n",
    "\n",
    "# Using centrality values to determine color\n",
    "D = nx.degree_centrality(kn)\n",
    "node_color = [D[n] for n in kn.nodes()]\n",
    "\n",
    "#####################################################################################\n",
    "#\n",
    "#  N o d e    D r a w i n g  \n",
    "#\n",
    "#####################################################################################\n",
    "\n",
    "basic_node_size = 350 \n",
    "# Note use of color map here together with centrality values\n",
    "ncoll= nx.draw_networkx_nodes(kn,pos, kn.nodes, node_color=node_color, cmap=cmap,\n",
    "                       node_size=basic_node_size,edgecolors=\"black\")\n",
    "\n",
    "\n",
    "#####################################################################################\n",
    "#\n",
    "#  E d g e    D r a w i n g\n",
    "#\n",
    "#####################################################################################\n",
    "\n",
    "# Put in the edges\n",
    "nx.draw_networkx_edges(kn,pos)\n",
    "\n",
    "#####################################################################################\n",
    "#\n",
    "#  T i t l e   &   C o l o r B a r\n",
    "# \n",
    "#####################################################################################\n",
    "norm = mpl.colors.Normalize(vmin=0, vmax=1)\n",
    "#fig.colorbar(mpl.cm.ScalarMappable(norm=norm, cmap=cmap), ax=axes.ravel().tolist())\n",
    "fig.colorbar(mpl.cm.ScalarMappable(norm=norm, cmap=cmap), ax=ax,orientation=\"vertical\")\n",
    "plt.title(\"Degree Centralities of Karate Graph\")\n",
    "None"
   ]
  },
  {
   "cell_type": "markdown",
   "metadata": {},
   "source": [
    "####  Sorting by Centrality\n",
    "\n",
    "Let's return to  the  global picture of degree centrality,\n",
    "using the degree centrality dictionary `D` we found above."
   ]
  },
  {
   "cell_type": "markdown",
   "metadata": {
    "id": "w0xoLaAVEScz"
   },
   "source": [
    "`D` assigns a centrality score to each node, but often what we're interested in  is\n",
    "the **ranking** of nodes by centrality scores, for example, if we want to find\n",
    "the most influential person in the karate club.  So we're going to sort our nodes by\n",
    "their centrality scores.\n",
    "\n",
    "We need a data structure capable of representing order, so we first turn the dictionary into a list of pairs with the `items` method.  "
   ]
  },
  {
   "cell_type": "code",
   "execution_count": null,
   "metadata": {
    "colab": {
     "base_uri": "https://localhost:8080/"
    },
    "id": "D_iORYNQEScz",
    "outputId": "04e8b04b-581a-4537-c680-98115fc2c0ed",
    "scrolled": true
   },
   "outputs": [],
   "source": [
    "dc_il = list(D.items())\n",
    "dc_il"
   ]
  },
  {
   "cell_type": "markdown",
   "metadata": {
    "id": "B5_IFkW6EScz"
   },
   "source": [
    "Next we sort that list, paying attention only to the second member of each pair (the centrality score), reversing the the ranking so that the most central node comes **first**.  Here's the code.  We comment on some\n",
    "features below."
   ]
  },
  {
   "cell_type": "code",
   "execution_count": null,
   "metadata": {},
   "outputs": [],
   "source": [
    "def second (seq):\n",
    "    return seq[1]\n",
    "\n",
    "dc_il = list(D.items())\n",
    "dc_il.sort(key=second,reverse=True)\n"
   ]
  },
  {
   "cell_type": "code",
   "execution_count": null,
   "metadata": {},
   "outputs": [],
   "source": []
  },
  {
   "cell_type": "markdown",
   "metadata": {},
   "source": [
    "#### An alternative way of sorting: Use lambda expressions"
   ]
  },
  {
   "cell_type": "markdown",
   "metadata": {},
   "source": [
    "First, what are are passing in as a value for the keyword argument `key`?\n",
    "We're passing in a function object.\n",
    "\n",
    "The optional keyword `key` of the `.sort( )`  method\n",
    "can be any function `f` that guides the sort.  In particular, `f`\n",
    "gets applied to each element of the list being sorted and should return\n",
    "some value the `.sort( )` method  knows how to sort, usually\n",
    "a number or a string. \n",
    "\n",
    "In this example, we supplied a function that returns the second member\n",
    "of a sequence. We are sorting a list of pairs each of whose second member\n",
    "is a number, so `second` returns a number for each pair in `dc_il`\n",
    "and `.sort( )` knows how to sort numbers.  So we end up sorting\n",
    "the pairs from largest centrality score to smallest (because\n",
    "the keyword `reverse` has been set to `True`).\n",
    "\n",
    "Now it's worth pointing out a slightly\n",
    "more complicated-looking variant that is popular\n",
    "and will show up in a lot of code.  Instead of passing\n",
    "in a named function defined by with the `def` statement, we could have \n",
    "passed in a `lambda-`expression, in\n",
    "particular `lambda x:x[1]`.\n",
    "\n",
    "Just like `second`, The expression `lambda x:x[1]` denotes a function\n",
    "that returns the second element of a sequence.  We illustrate."
   ]
  },
  {
   "cell_type": "code",
   "execution_count": null,
   "metadata": {
    "colab": {
     "base_uri": "https://localhost:8080/"
    },
    "id": "dLQkuD2AJt1x",
    "outputId": "63466ce3-efd7-41aa-a80a-b137c83f9e40"
   },
   "outputs": [],
   "source": [
    "seq0 = (33, 0.5151515151515151)\n",
    "(lambda x:x[1])(seq0)"
   ]
  },
  {
   "cell_type": "markdown",
   "metadata": {},
   "source": [
    "Now the `lambda` is the same function we defined above and named `second`."
   ]
  },
  {
   "cell_type": "code",
   "execution_count": null,
   "metadata": {},
   "outputs": [],
   "source": [
    "second(seq0)"
   ]
  },
  {
   "cell_type": "markdown",
   "metadata": {},
   "source": [
    "The `lambda` operator is a general purpose device for defining one-off functions\n",
    "that aren't worthy of a name.  It doesn't have nearly the expressive power\n",
    "of a `def` statement because `lambda x:` must be followed by a single Python expression,\n",
    "but it's often very convenient, if only to keep us from cluttering up\n",
    "the namespace with functions we'll never use again.\n",
    "\n",
    "So a completely equivalent way of doing the sort is:"
   ]
  },
  {
   "cell_type": "code",
   "execution_count": null,
   "metadata": {
    "id": "SKWDLV4vEScz",
    "outputId": "d1f99a98-b935-4f2f-a09c-f43052b9cadc",
    "scrolled": true
   },
   "outputs": [],
   "source": [
    "dc_il0 = list(D.items())\n",
    "dc_il0.sort(key=lambda x:x[1],reverse=True)"
   ]
  },
  {
   "cell_type": "markdown",
   "metadata": {},
   "source": [
    "`lambda` needs one or more parameters and a colon, folllowed by an expression whose value is returned. It works as in the following example:"
   ]
  },
  {
   "cell_type": "code",
   "execution_count": null,
   "metadata": {},
   "outputs": [],
   "source": [
    "# Both sets of parens are needed.  The first set lets the Python parser know where the \n",
    "# function definition ends (no code block allowed here)  The second set is the parens that any function\n",
    "# needs around its arguments.\n",
    "(lambda x: x + 1)(3)"
   ]
  },
  {
   "cell_type": "code",
   "execution_count": null,
   "metadata": {},
   "outputs": [],
   "source": [
    "# Or you could do\n",
    "f = lambda x: x + 1\n",
    "f(3)"
   ]
  },
  {
   "cell_type": "markdown",
   "metadata": {
    "id": "dy-y_PzOESc0"
   },
   "source": [
    "## Betweenness centrality and the Girvan-Newman algorithm"
   ]
  },
  {
   "cell_type": "markdown",
   "metadata": {
    "id": "Mi8baH3PESc0"
   },
   "source": [
    "Same code pattern, different kind of centrality, yielding different but similar results.\n",
    "This time we will use **betweenness centrality**.\n",
    "For a discussion of betweenness centrality, see the online textbook."
   ]
  },
  {
   "cell_type": "code",
   "execution_count": null,
   "metadata": {
    "colab": {
     "base_uri": "https://localhost:8080/"
    },
    "id": "Ejc_Dw8KESc0",
    "outputId": "99a51bdc-023d-462a-a2f6-d94e720fd23e",
    "scrolled": true
   },
   "outputs": [],
   "source": [
    "B = nx.betweenness_centrality(kn)\n",
    "B_il = list(B.items())\n",
    "B_il.sort(key=lambda x:x[1],reverse=True)\n",
    "B_il"
   ]
  },
  {
   "cell_type": "markdown",
   "metadata": {
    "id": "Ap3faTJ3ESc0"
   },
   "source": [
    "Now let's do `betweenness centrality` again for a different kind of object, edges instead of nodes.  It's edge centrality that is used in the Girvan Newman algorithm discussed in the online book."
   ]
  },
  {
   "cell_type": "code",
   "execution_count": null,
   "metadata": {
    "id": "ppqEgZQBESc0"
   },
   "outputs": [],
   "source": [
    "eb = nx.edge_betweenness_centrality(kn)"
   ]
  },
  {
   "cell_type": "code",
   "execution_count": null,
   "metadata": {
    "colab": {
     "base_uri": "https://localhost:8080/"
    },
    "id": "qxi1KVtTESc0",
    "outputId": "193189ae-c139-48da-9814-b052fe9df646",
    "scrolled": true
   },
   "outputs": [],
   "source": [
    "eb_il = list(eb.items())\n",
    "\n",
    "sorted(eb_il,key=lambda x: x[1], reverse=True)"
   ]
  },
  {
   "cell_type": "markdown",
   "metadata": {
    "id": "L76_EI0rESc0"
   },
   "source": [
    "Here's the Python code implementing the heart of Girvan-Newman.   We'll begin by copying\n",
    "the graph so we don't affect any OTHER part Of the notebook while worKing\n",
    "on this code.  We are going to destructively modify the graph by removing edges."
   ]
  },
  {
   "cell_type": "code",
   "execution_count": null,
   "metadata": {},
   "outputs": [],
   "source": [
    "kn0 = kn.copy()"
   ]
  },
  {
   "cell_type": "markdown",
   "metadata": {},
   "source": [
    "Here is code simulating a step in Girvan-Newman community discovery method. \n",
    "Calculate the edge betweenness of all edges.\n",
    "\n",
    "Remove the highest betweenness edge.  See if the graph has split into two\n",
    "communities.\n",
    "\n",
    "In the full algorithm: we would keep doing this until there was more\n",
    "than one component:"
   ]
  },
  {
   "cell_type": "code",
   "execution_count": null,
   "metadata": {
    "colab": {
     "base_uri": "https://localhost:8080/"
    },
    "id": "5Js4hhiyESc0",
    "outputId": "c75ae63b-8141-45a9-c7e0-ef568d836f5a",
    "scrolled": true
   },
   "outputs": [],
   "source": [
    "eb2 = nx.edge_betweenness_centrality(kn0)\n",
    "eb_il2 = list(eb2.items())\n",
    "# Find start and end of the highest betweenness edge\n",
    "(start,end) = sorted(eb_il2,key=lambda x: x[1], reverse=True)[0][0]\n",
    "## Remove that highest betweenness edge\n",
    "kn0.remove_edge(start,end)\n",
    "## Find the components of the now mutilated graph\n",
    "components = list(nx.connected_components(kn0))\n",
    "## There is 1 component\n",
    "print(len(list(components)))\n",
    "components"
   ]
  },
  {
   "cell_type": "markdown",
   "metadata": {},
   "source": [
    "So this means the graph consists of 1 connected component, containing all of the graph's nodes."
   ]
  },
  {
   "cell_type": "code",
   "execution_count": null,
   "metadata": {
    "colab": {
     "base_uri": "https://localhost:8080/"
    },
    "id": "n4X-VewbESc0",
    "outputId": "540c848e-514b-4061-e4ba-70517e4f7a10"
   },
   "outputs": [],
   "source": [
    "components = nx.connected_components(kn0)"
   ]
  },
  {
   "cell_type": "code",
   "execution_count": null,
   "metadata": {
    "colab": {
     "base_uri": "https://localhost:8080/"
    },
    "id": "dDsVzVgTESc0",
    "outputId": "c2d63b83-6f20-424d-e81c-bab2045646cf"
   },
   "outputs": [],
   "source": [
    "L = list(components)\n",
    "len(kn0),len(L)"
   ]
  },
  {
   "cell_type": "markdown",
   "metadata": {},
   "source": [
    "Lets look at that single component to verify if is just the set of all nodes:"
   ]
  },
  {
   "cell_type": "code",
   "execution_count": null,
   "metadata": {},
   "outputs": [],
   "source": [
    "print(len(kn0),len(L),len(L[0]))\n",
    "L[0]"
   ]
  },
  {
   "cell_type": "markdown",
   "metadata": {
    "id": "yqCucmjUESc0"
   },
   "source": [
    "So we didnt succeed in splitting the graph in two by snipping this one edge.  This means we would try again if we're\n",
    "doing the full algorithm, recomputing all the betweenness centrality numbers, finding the new best-scoring edge, \n",
    "and snipping that.  But we leave that part an an exercise."
   ]
  },
  {
   "cell_type": "markdown",
   "metadata": {},
   "source": [
    "#### Exercise: Girvan Newman I\n",
    "\n",
    "Complete a partial implementation of the Girvan-Newman algorithm by inserting the code snippet above in a \n",
    "*while*-loop.  You will need to formulate the correct test that defines when the algorithm is terminated.\n",
    "You will also need to create initial values that enable the test to succeed when the while\n",
    "loop starts, so that successive edge-snippings can be attempted\n",
    "\n",
    "```\n",
    "while <test>:\n",
    "   <python code block including snippet above possibly with edits>\n",
    "```\n",
    "\n",
    "The idea of this partial implementation is simply to split the graph into two groups.  In\n",
    "the complete version implemented in networkx, the splitting continues on each of the\n",
    "components discovered, until the graph is iteratively broken down into individual nodes.\n",
    "In the version asked for here, the algorithm is finished when you've succeeded in splitting the graph\n",
    "in two.  You will need to snip off a number of edges (more than 3) to accomplish this.\n",
    "\n",
    "You then need to recover the two groups found.\n",
    "\n",
    "Hint:  You should begin by making a brand new copy of `kn` outside the loop:"
   ]
  },
  {
   "cell_type": "code",
   "execution_count": null,
   "metadata": {},
   "outputs": [],
   "source": []
  },
  {
   "cell_type": "code",
   "execution_count": null,
   "metadata": {},
   "outputs": [],
   "source": []
  },
  {
   "cell_type": "code",
   "execution_count": null,
   "metadata": {},
   "outputs": [],
   "source": []
  },
  {
   "cell_type": "code",
   "execution_count": null,
   "metadata": {},
   "outputs": [],
   "source": []
  },
  {
   "cell_type": "code",
   "execution_count": null,
   "metadata": {},
   "outputs": [],
   "source": []
  },
  {
   "cell_type": "code",
   "execution_count": null,
   "metadata": {},
   "outputs": [],
   "source": []
  },
  {
   "cell_type": "code",
   "execution_count": null,
   "metadata": {},
   "outputs": [],
   "source": []
  },
  {
   "cell_type": "code",
   "execution_count": null,
   "metadata": {},
   "outputs": [],
   "source": []
  },
  {
   "cell_type": "code",
   "execution_count": null,
   "metadata": {},
   "outputs": [],
   "source": []
  },
  {
   "cell_type": "code",
   "execution_count": null,
   "metadata": {},
   "outputs": [],
   "source": []
  },
  {
   "cell_type": "code",
   "execution_count": null,
   "metadata": {},
   "outputs": [],
   "source": []
  },
  {
   "cell_type": "code",
   "execution_count": null,
   "metadata": {},
   "outputs": [],
   "source": [
    "components = []\n",
    "kn0 = kn.copy()\n",
    "# Im going to keep track of how many snips it takes to split the graph in two.\n",
    "ctr = 0\n",
    "while len(components) < 2:\n",
    "    ctr += 1 \n",
    "    eb2 = nx.edge_betweenness_centrality(kn0)\n",
    "    eb_il2 = list(eb2.items())\n",
    "    (start,end) = sorted(eb_il2,key=lambda x: x[1], reverse=True)[0][0]\n",
    "    kn0.remove_edge(start,end)\n",
    "    components = list(nx.connected_components(kn0))\n",
    "print(ctr)"
   ]
  },
  {
   "cell_type": "markdown",
   "metadata": {},
   "source": [
    "It took 10 snips to split the graph in two.\n",
    "\n",
    "Here are the communities we found.  As expected, there are 2."
   ]
  },
  {
   "cell_type": "code",
   "execution_count": null,
   "metadata": {},
   "outputs": [],
   "source": [
    "components"
   ]
  },
  {
   "cell_type": "markdown",
   "metadata": {},
   "source": [
    "#### Exercise: Girvan Newman II\n",
    "\n",
    "Are the communities you found in\n",
    "the last exercise equivalent to Zachary's factions?  Checking the node attribute \"club\" for each\n",
    "of the two communities you've found, count up how many members of each community\n",
    "belong to each of the two clubs.  For a given node n, its club is\n",
    "\n",
    "```\n",
    "kn.nodes[n]['club']\n",
    "```\n",
    "\n",
    "For example the following expression\n",
    "\n",
    "```\n",
    "kn.nodes[0]['club']\n",
    "```\n",
    "\n",
    "returns\n",
    "\n",
    "```\n",
    "'Mr. Hi'\n",
    "```\n",
    "because node 0 belongs to Mr. Hi's club.\n",
    "\n",
    "Since there are two node groups and two clubs, that's four counts in all. The more skewed\n",
    "each of your communities is toward 1 club, the better your \"faction\" detection.\n",
    "Hint: this will be considerably simplified if you use a Counter:\n",
    "\n",
    "```\n",
    "from collections import Counter\n",
    "ctr0 = Counter('abracadabra')\n",
    "ctr0\n",
    "```\n",
    "\n",
    "returns\n",
    "\n",
    "```\n",
    "Counter({'a': 5, 'b': 2, 'r': 2, 'c': 1, 'd': 1})\n",
    "```\n",
    "So pass in a sequence of \"club\" values to `Counter(..)`  and you\n",
    "get club-value counts."
   ]
  },
  {
   "cell_type": "code",
   "execution_count": null,
   "metadata": {},
   "outputs": [],
   "source": []
  },
  {
   "cell_type": "code",
   "execution_count": null,
   "metadata": {},
   "outputs": [],
   "source": []
  },
  {
   "cell_type": "code",
   "execution_count": null,
   "metadata": {},
   "outputs": [],
   "source": []
  },
  {
   "cell_type": "code",
   "execution_count": null,
   "metadata": {},
   "outputs": [],
   "source": []
  },
  {
   "cell_type": "code",
   "execution_count": null,
   "metadata": {},
   "outputs": [],
   "source": []
  },
  {
   "cell_type": "code",
   "execution_count": null,
   "metadata": {},
   "outputs": [],
   "source": []
  },
  {
   "cell_type": "code",
   "execution_count": null,
   "metadata": {},
   "outputs": [],
   "source": []
  },
  {
   "cell_type": "code",
   "execution_count": null,
   "metadata": {},
   "outputs": [],
   "source": []
  },
  {
   "cell_type": "code",
   "execution_count": null,
   "metadata": {},
   "outputs": [],
   "source": []
  },
  {
   "cell_type": "code",
   "execution_count": null,
   "metadata": {},
   "outputs": [],
   "source": []
  },
  {
   "cell_type": "code",
   "execution_count": null,
   "metadata": {},
   "outputs": [],
   "source": []
  },
  {
   "cell_type": "code",
   "execution_count": null,
   "metadata": {},
   "outputs": [],
   "source": []
  },
  {
   "cell_type": "code",
   "execution_count": null,
   "metadata": {},
   "outputs": [],
   "source": [
    "from collections import Counter\n",
    "ctr_com0= Counter([kn.nodes[n]['club'] for n in components[0]])\n",
    "print(ctr_com0)\n",
    "ctr_com1 = Counter([kn.nodes[n]['club'] for n in components[1]])\n",
    "print(ctr_com1)"
   ]
  },
  {
   "cell_type": "markdown",
   "metadata": {},
   "source": [
    "Not bad.  All of the members of community 0 are in Mr. Hi's club;\n",
    "and almost all the members of community 1 are in the Officer's club.\n",
    "\n",
    "For future reference (we're coming back to this problem), let's see what nodes were put in the wrong\n",
    "group:"
   ]
  },
  {
   "cell_type": "code",
   "execution_count": null,
   "metadata": {},
   "outputs": [],
   "source": [
    "[n for n in components[1] if kn.nodes[n]['club'] == 'Mr. Hi']"
   ]
  },
  {
   "cell_type": "markdown",
   "metadata": {
    "id": "IWT-KLzLESc0"
   },
   "source": [
    "## Watts-Strogatz graphs"
   ]
  },
  {
   "cell_type": "markdown",
   "metadata": {},
   "source": [
    "We create a **Watts-Strogatz graph**, which serves as a small scale model of a social network,\n",
    "first introduced in the original Watts and Strogatz 'small worlds\" paper cited above.\n",
    "\n",
    "The idea is that we traverse the continuum from small worlds to random graphs to \n",
    "completely structred graphs by increasing `p`, the probability that a node \n",
    "originally connected to a fixed number of neighbors (4 in the examples below)\n",
    "randomly re-connects to another node."
   ]
  },
  {
   "cell_type": "code",
   "execution_count": null,
   "metadata": {},
   "outputs": [],
   "source": [
    "import networkx as nx\n",
    "#watts_strogatz_graph(n,k,p,seed)\n",
    "# k=Number of neighbors each node connects to initially\n",
    "# p= probability of reconnection. p=0 an ordered graph, p=1 random.\n",
    "(n,k,p,seed) = (100,4,.11,5)\n",
    "g_ran = nx.watts_strogatz_graph(n,k, 1.0, seed)\n",
    "g_ws = nx.watts_strogatz_graph(n,k, p, seed)\n",
    "g_ordered = nx.watts_strogatz_graph(n,k, 0, seed)\n",
    "g_ordered_simple = nx.watts_strogatz_graph(15,k, 0, seed)"
   ]
  },
  {
   "cell_type": "markdown",
   "metadata": {},
   "source": [
    "Randomly reconnected.   The random\n",
    "reconnections create shortcuts for most node pairs."
   ]
  },
  {
   "cell_type": "code",
   "execution_count": null,
   "metadata": {
    "colab": {
     "base_uri": "https://localhost:8080/",
     "height": 319
    },
    "id": "xz2jNd_OESc0",
    "outputId": "13afff95-b6d4-48e8-9c33-d5d3d00d8164",
    "scrolled": false
   },
   "outputs": [],
   "source": [
    "nx.draw_circular(g_ran,node_size=50)"
   ]
  },
  {
   "cell_type": "markdown",
   "metadata": {},
   "source": [
    "A classic Watts-Strogatz small world graph -- halfway between random and ordered.  The random\n",
    "reconnections still create shortcuts for most node pairs."
   ]
  },
  {
   "cell_type": "code",
   "execution_count": null,
   "metadata": {
    "colab": {
     "base_uri": "https://localhost:8080/",
     "height": 319
    },
    "id": "q0HZR33eESc0",
    "outputId": "01487f6d-1e9b-4389-c079-b17b68a94a0d",
    "scrolled": true
   },
   "outputs": [],
   "source": [
    "nx.draw_circular(g_ws,node_size=50)"
   ]
  },
  {
   "cell_type": "markdown",
   "metadata": {},
   "source": [
    "A maximally ordered  Watts-Strogatz graph.  The reconnections are ordered and predictable.\n",
    "\n",
    "Every node connects in exactly the same pattern, so that there are no short cuts\n",
    "for traveling long distances."
   ]
  },
  {
   "cell_type": "code",
   "execution_count": null,
   "metadata": {
    "colab": {
     "base_uri": "https://localhost:8080/",
     "height": 319
    },
    "id": "20E6wBRoESc0",
    "outputId": "86cc0c34-3e7b-46aa-d68f-86212ac14dae",
    "scrolled": true
   },
   "outputs": [],
   "source": [
    "nx.draw_circular(g_ordered,node_size=50)"
   ]
  },
  {
   "cell_type": "markdown",
   "metadata": {},
   "source": [
    "This is easier to see if we reduce the number of nodes but keep the reconnection prob the same."
   ]
  },
  {
   "cell_type": "code",
   "execution_count": null,
   "metadata": {},
   "outputs": [],
   "source": [
    "#g_ordered_simple = nx.watts_strogatz_graph(15,k, 0, seed)\n",
    "nx.draw_circular(g_ordered_simple)#,node_size=50)"
   ]
  },
  {
   "cell_type": "markdown",
   "metadata": {
    "id": "jpUI1USYESc0"
   },
   "source": [
    "## The clustering coefficient of a random graph"
   ]
  },
  {
   "cell_type": "markdown",
   "metadata": {},
   "source": [
    "We compute the clustering coefficient of some random graphs, as discussed\n",
    "in the original Watts and Strogatz \"small worlds\" paper:\n",
    "\n",
    "\n",
    "Watts, D., Strogatz, S. Collective dynamics of ‘small-world’ networks. Nature 393, 440–442 (1998). https://doi.org/10.1038/30918"
   ]
  },
  {
   "cell_type": "markdown",
   "metadata": {
    "id": "UKOY_64OESc0"
   },
   "source": [
    "`Networkx` provides a clustering function that takes a graph and sequence of nodes in that graph and returns a dictionary each of the given nodes with its clustering coefficient.  The average clustering coefficient of the graph is just the sum of the values of the coefficients for all the nodes divided by the number of nodes."
   ]
  },
  {
   "cell_type": "code",
   "execution_count": null,
   "metadata": {},
   "outputs": [],
   "source": [
    "G = nx.erdos_renyi_graph(100,0.11)\n",
    "nx.draw_spring(G,node_size=180)"
   ]
  },
  {
   "cell_type": "code",
   "execution_count": null,
   "metadata": {
    "colab": {
     "base_uri": "https://localhost:8080/"
    },
    "id": "R8ApPWTyESc0",
    "outputId": "e2a53c9f-fd0e-4d48-af2a-5df01f116521"
   },
   "outputs": [],
   "source": [
    "G = nx.erdos_renyi_graph(100,0.11)\n",
    "cl = nx.clustering(G,G.nodes())\n",
    "sum(cl.values())/len(cl)"
   ]
  },
  {
   "cell_type": "code",
   "execution_count": null,
   "metadata": {
    "colab": {
     "base_uri": "https://localhost:8080/"
    },
    "id": "E5e8dF-xESc0",
    "outputId": "9edd01ed-b94d-4227-ebaf-ba65b3394aac",
    "scrolled": true
   },
   "outputs": [],
   "source": [
    "cl"
   ]
  },
  {
   "cell_type": "code",
   "execution_count": null,
   "metadata": {
    "colab": {
     "base_uri": "https://localhost:8080/"
    },
    "id": "yQKDDCFvESc0",
    "outputId": "8eb4a38d-24ed-4fe2-bae6-7f32fd81a21a"
   },
   "outputs": [],
   "source": [
    "G = nx.erdos_renyi_graph(500,0.11)\n",
    "cl = nx.clustering(G,G.nodes())\n",
    "sum(cl.values())/len(cl)"
   ]
  },
  {
   "cell_type": "markdown",
   "metadata": {
    "id": "aeXimqd7ESc0"
   },
   "source": [
    "The next cell will take a while.  While it's computing away, you'll have the chance to think\n",
    "about it. What do you think the clustering coefficient of the graph will be?  Approximately."
   ]
  },
  {
   "cell_type": "code",
   "execution_count": null,
   "metadata": {
    "colab": {
     "base_uri": "https://localhost:8080/"
    },
    "id": "kwEzKtqnESc0",
    "outputId": "22ce3b1b-0584-41c3-cddf-7a8a456cf5b9"
   },
   "outputs": [],
   "source": [
    "G = nx.erdos_renyi_graph(1000,0.11)\n",
    "cl = nx.clustering(G,G.nodes())\n",
    "sum(cl.values())/len(cl)"
   ]
  },
  {
   "cell_type": "markdown",
   "metadata": {
    "id": "wNuuht5rESc0"
   },
   "source": [
    "####  Exercise\n",
    "\n",
    "The value of the clustering coefficient is one of the properties that distinguishes random graphs from social networks.  In the next cell compute the clustering coefficent of the karate graph.  Is it higher or lower than that of the random graph?  Is that what you expect given that social networks are small worlds?"
   ]
  },
  {
   "cell_type": "code",
   "execution_count": null,
   "metadata": {
    "id": "dI3PaMn7ESc1"
   },
   "outputs": [],
   "source": []
  },
  {
   "cell_type": "markdown",
   "metadata": {
    "id": "Igqm9MDxESc1"
   },
   "source": [
    "## Florentine families"
   ]
  },
  {
   "cell_type": "markdown",
   "metadata": {
    "id": "4rW0oCRcESc1"
   },
   "source": [
    "The next graph is a famous graph of Florentine families.   The data used to build this graph is taken directly\n",
    "from Breiger and Pattison (1986).\n",
    "\n",
    ">Breiger, R.L. and Pattison, P.E., 1986. Cumulated social roles: The duality of persons and their algebras. Social networks, 8(3), pp.215-256. [http://commres.net/wiki/_media/cumulated-social-roles-the-duality-of-persons-and-their-algebras.pdf](http://commres.net/wiki/_media/cumulated-social-roles-the-duality-of-persons-and-their-algebras.pdf)\n",
    "\n",
    "\n",
    "The data is attributed to Padgett and Angell, who published a far more detailed study with\n",
    "many more variables defining the social network in Padgett and Ansell (1993).\n",
    "\n",
    ">Padgett, John F., and Christopher K. Ansell. 1983. \"Robust Action and the Rise of the Medici: 1400-1434.\" American Journal of Sociology pp. 1259-1319.  [https://www.stats.ox.ac.uk/~snijders/PadgettAnsell1993.pdf](https://www.stats.ox.ac.uk/~snijders/PadgettAnsell1993.pdf)\n",
    "\n",
    "In the graph implemented in `networkx`, a link simply represents marriage between members of the families.  Marriage between families was a recognized way\n",
    "of creating alliances and obligation, and therefore a way of consolidating or extending power.  \n",
    "This is an undirected graph. Therefore a link is simply a link and doesn't directly represent who owes who, or who has the power. In Padgett and Christopher's discussion, marriage between families is represented by a directed link,\n",
    "because it matters which family contributed the groom and which family contributed the bride; this\n",
    "is just one small way in which the graph we analyze below represents a simplification of complex social\n",
    "facts."
   ]
  },
  {
   "cell_type": "code",
   "execution_count": null,
   "metadata": {
    "id": "GCVylHMHESc1"
   },
   "outputs": [],
   "source": [
    "ff = nx.florentine_families_graph()"
   ]
  },
  {
   "cell_type": "code",
   "execution_count": null,
   "metadata": {
    "colab": {
     "base_uri": "https://localhost:8080/",
     "height": 248
    },
    "id": "XbYB8hhHESc1",
    "outputId": "a7a5ed43-2560-4a06-848f-6c347e2bb48f",
    "scrolled": true
   },
   "outputs": [],
   "source": [
    "nx.draw_networkx(ff)"
   ]
  },
  {
   "cell_type": "markdown",
   "metadata": {},
   "source": [
    "The labels are not being treated very nicely in the picture above. To the point where some of them are hard to read.\n",
    "\n",
    "A standard (though not always aesthetically pleasing) backup strategy is to \n",
    "put the labels in \"bbox\"s (text boxes).  This puts little frames around each label with\n",
    "customizable shape and padding, as well as colorable faces and boundaries.  My guess is that the nodes\n",
    "have been drawn but are covered."
   ]
  },
  {
   "cell_type": "code",
   "execution_count": null,
   "metadata": {},
   "outputs": [],
   "source": [
    "from matplotlib import pyplot as plt\n",
    "plt.figure(figsize=(10,8)) \n",
    "nx.draw_networkx(ff, with_labels=True, node_shape = 's', node_color=\"none\", \n",
    "        bbox=dict(facecolor=\"skyblue\", edgecolor='gray', boxstyle='round,pad=0.2'))"
   ]
  },
  {
   "cell_type": "markdown",
   "metadata": {
    "id": "yHeK0QdyESc1"
   },
   "source": [
    "#### Exercise\n",
    "\n",
    "Part I: Try using the betweenness centrality and degree centrality measures illustrated above for the karate graph\n",
    "on the Florentine Families graph.  How\n",
    "well do these two measures correlate? Use `scipy.stats.pearsonr`, which takes two\n",
    "value sequences, s1 and s2, where the measurement at `s1[i]` should correspond to the measurement at `s2[i].`\n",
    "\n",
    "Part II:  Which measure does a better job representing the relative powers of\n",
    "the families, at least as regards to who is the most powerful family?\n",
    "(Have a look at the Padgett and Ansell paper to see who it should be).\n",
    "\n",
    "Part III:  Look at a case for which the two measures differ significantly, the Peruzzi family.  What is\n",
    "the rank of the Peruzzi family by Betweenness Centrality?  What is their rank by Degree Centrality?\n",
    "Explain why.  Speculate as to which measure is doing a better job of\n",
    "representing power in the world, using only facts apparent from the graph.\n",
    "\n",
    "Part IV:  Find two families whose importance is identical according to **both**\n",
    "measures, and argue using facts deduceable from the graph, that something is being missed."
   ]
  },
  {
   "cell_type": "code",
   "execution_count": null,
   "metadata": {},
   "outputs": [],
   "source": []
  },
  {
   "cell_type": "code",
   "execution_count": null,
   "metadata": {},
   "outputs": [],
   "source": []
  },
  {
   "cell_type": "code",
   "execution_count": null,
   "metadata": {},
   "outputs": [],
   "source": []
  },
  {
   "cell_type": "code",
   "execution_count": null,
   "metadata": {},
   "outputs": [],
   "source": []
  },
  {
   "cell_type": "code",
   "execution_count": null,
   "metadata": {},
   "outputs": [],
   "source": []
  },
  {
   "cell_type": "code",
   "execution_count": null,
   "metadata": {},
   "outputs": [],
   "source": []
  },
  {
   "cell_type": "code",
   "execution_count": null,
   "metadata": {},
   "outputs": [],
   "source": []
  },
  {
   "cell_type": "code",
   "execution_count": null,
   "metadata": {},
   "outputs": [],
   "source": []
  },
  {
   "cell_type": "code",
   "execution_count": null,
   "metadata": {},
   "outputs": [],
   "source": []
  },
  {
   "cell_type": "code",
   "execution_count": null,
   "metadata": {},
   "outputs": [],
   "source": []
  },
  {
   "cell_type": "markdown",
   "metadata": {},
   "source": [
    "**Part I**"
   ]
  },
  {
   "cell_type": "code",
   "execution_count": null,
   "metadata": {},
   "outputs": [],
   "source": [
    "bc_ff = nx.betweenness_centrality(ff)\n",
    "bc_ff"
   ]
  },
  {
   "cell_type": "code",
   "execution_count": null,
   "metadata": {},
   "outputs": [],
   "source": [
    "dc_ff = nx.degree_centrality(ff)\n",
    "dc_ff"
   ]
  },
  {
   "cell_type": "markdown",
   "metadata": {},
   "source": [
    "Create two sequences with values derived from the same node sequence."
   ]
  },
  {
   "cell_type": "code",
   "execution_count": null,
   "metadata": {},
   "outputs": [],
   "source": [
    "dc_seq = [dc_ff[n] for n in ff.nodes]\n",
    "bc_seq = [bc_ff[n] for n in ff.nodes]"
   ]
  },
  {
   "cell_type": "markdown",
   "metadata": {},
   "source": [
    "The correlation is +.84, which is pretty high, and the correlation has a very good pvalue."
   ]
  },
  {
   "cell_type": "code",
   "execution_count": null,
   "metadata": {},
   "outputs": [],
   "source": [
    "import scipy\n",
    "scipy.stats.pearsonr(dc_seq,bc_seq)"
   ]
  },
  {
   "cell_type": "markdown",
   "metadata": {},
   "source": [
    "Note:  This result is valid for this graph only.  The correlation will rise\n",
    "and fall for other graphs."
   ]
  },
  {
   "cell_type": "markdown",
   "metadata": {},
   "source": [
    "**Part II**\n",
    "\n",
    "Both measures rank the Medici family first.  The importance of the Medicis is pretty much the starting point\n",
    "of the paper, which is about the emergence of statehood."
   ]
  },
  {
   "cell_type": "code",
   "execution_count": null,
   "metadata": {},
   "outputs": [],
   "source": [
    "bc_ranking = sorted(list(bc_ff.items()),key=second,reverse=True)\n",
    "dc_ranking = sorted(list(dc_ff.items()),key=second,reverse=True)"
   ]
  },
  {
   "cell_type": "code",
   "execution_count": null,
   "metadata": {},
   "outputs": [],
   "source": [
    "bc_ranking[0]"
   ]
  },
  {
   "cell_type": "code",
   "execution_count": null,
   "metadata": {},
   "outputs": [],
   "source": [
    "dc_ranking[0]"
   ]
  },
  {
   "cell_type": "markdown",
   "metadata": {},
   "source": [
    "Therefore the link structure of the graph, while undirected, does actually do a pretty good job of capturing something about power/influence. Note that this result is more about being clever about choosing what to represent in your graph than it is about the magic of centrality measures.  The simple fact that the Medicis are linked to 6 other families by marriage is telling, and is what is driving these high centrality scores."
   ]
  },
  {
   "cell_type": "markdown",
   "metadata": {},
   "source": [
    "**Part III**"
   ]
  },
  {
   "cell_type": "markdown",
   "metadata": {},
   "source": [
    "Betweenness Centrality ranks the Peruzzi family much lower (11th) than Degree Centrality (5th). "
   ]
  },
  {
   "cell_type": "code",
   "execution_count": null,
   "metadata": {},
   "outputs": [],
   "source": [
    "(bc_fams, bc_scores) = zip(*bc_ranking)\n",
    "bc_fams.index('Peruzzi')"
   ]
  },
  {
   "cell_type": "code",
   "execution_count": null,
   "metadata": {
    "scrolled": true
   },
   "outputs": [],
   "source": [
    "(dc_fams, dc_scores) = zip(*dc_ranking)\n",
    "dc_fams.index('Peruzzi')"
   ]
  },
  {
   "cell_type": "markdown",
   "metadata": {},
   "source": [
    "This is because the Peruzzi family has a higher degree (3) than many of the families in\n",
    "the graph, so Degree Centrality ranks it high.  "
   ]
  },
  {
   "cell_type": "code",
   "execution_count": null,
   "metadata": {},
   "outputs": [],
   "source": [
    "dc_ff['Peruzzi']"
   ]
  },
  {
   "cell_type": "markdown",
   "metadata": {},
   "source": [
    "On the other hand, its Betweenness Centrality\n",
    "score is relatively low"
   ]
  },
  {
   "cell_type": "code",
   "execution_count": null,
   "metadata": {},
   "outputs": [],
   "source": [
    "bc_ff['Peruzzi']"
   ]
  },
  {
   "cell_type": "markdown",
   "metadata": {},
   "source": [
    "because its influence extends over only a small clique of 4 families.  The distance \n",
    "from Peruzzi to Medici is 3, and there are many family pairs for which no shortest path\n",
    "passes through Peruzzi.  It appears from the graph that Betweenness Centrality may be doing\n",
    "a better job of representing power here.  Having only a very distant connection to\n",
    "the Medicis is definitely a disadvantage."
   ]
  },
  {
   "cell_type": "markdown",
   "metadata": {},
   "source": [
    "**Part IV**\n",
    "\n",
    "The Pazzi family and the Acciaiuoli family have identical low scores by both measures."
   ]
  },
  {
   "cell_type": "code",
   "execution_count": null,
   "metadata": {
    "scrolled": true
   },
   "outputs": [],
   "source": [
    "bc_ff['Acciaiuoli'],bc_ff['Pazzi']"
   ]
  },
  {
   "cell_type": "code",
   "execution_count": null,
   "metadata": {
    "scrolled": true
   },
   "outputs": [],
   "source": [
    "dc_ff['Acciaiuoli'],dc_ff['Pazzi']"
   ]
  },
  {
   "cell_type": "markdown",
   "metadata": {},
   "source": [
    "Arguably the Acciaiuoli  family is much better positioned because they have married directly into the Medici\n",
    "family.  That is, being directly connected to a very important node ought to count for something,\n",
    "even if one has few or no other connections.\n",
    "\n",
    "One measure that addresses this and is well-suited to undirected graphs is Eigenvector Centrality:"
   ]
  },
  {
   "cell_type": "code",
   "execution_count": null,
   "metadata": {},
   "outputs": [],
   "source": [
    "kc_ff = nx.eigenvector_centrality(ff)\n",
    "kc_ff['Medici'],kc_ff['Acciaiuoli'],kc_ff['Pazzi']"
   ]
  },
  {
   "cell_type": "markdown",
   "metadata": {},
   "source": [
    "To learn more about how Eigenvector Centrality works, as well as more about other Centrality Measures,\n",
    "see the Centrality Measures Notebook."
   ]
  },
  {
   "cell_type": "markdown",
   "metadata": {
    "id": "OsFj8ET-ESc1"
   },
   "source": [
    "## Another drawing customization example"
   ]
  },
  {
   "cell_type": "markdown",
   "metadata": {},
   "source": [
    "An alternative route for drawing the Florentine Families graph is to adjust \n",
    "the labels by hand in `matplotlib`.  To do this we introduce a function\n",
    "`annotate_with_networkx_labels` which is intended as a replacement for\n",
    "`nx.draw_networkx_labels`, which is the internal function\n",
    "that draws labels. Paralleling that we also have\n",
    "`nx.draw_netwoprkx_nodes`, and `nx.draw_netwoprkx_edges`,\n",
    "which we do not replace here.  All three of these functions\n",
    "require a separately computed layout which can be supplied\n",
    "by any of a number of `networkx` layout functions,\n",
    "differing in what layout algorithm they use (there are a ton!).\n",
    "We'll use `pos=nx.spring_layout(G)` in all our examples.\n",
    "Here `pos` is the layout to used by all the other drawing\n",
    "functions."
   ]
  },
  {
   "cell_type": "markdown",
   "metadata": {
    "id": "0lZh80HxESc1"
   },
   "source": [
    "In the plot below, we redraw the Florentine families graph with the node labels raised above the nodes.  Networkx does not seem to offer this capability, so we provide `annotate_with_networkx_labels`, which does.\n",
    "Basically the function takes x- and y-offset values that determine the direction of the offset of the\n",
    "node labels from the center of the node.  The nodes labels are added in matplotlib as annotations to  the plot.  This is all made possible because `networkx` draws all its graph layouts on `matplotlib` figures and axes."
   ]
  },
  {
   "cell_type": "markdown",
   "metadata": {
    "id": "nM1JXztDESc1"
   },
   "source": [
    "Next execute the code in the next two cells to redraw the Florentine family graph, using the new function."
   ]
  },
  {
   "cell_type": "code",
   "execution_count": null,
   "metadata": {
    "id": "f81BxeAi4cTG"
   },
   "outputs": [],
   "source": [
    "import networkx as nx\n",
    "#import matplotlib.pylab as plt\n",
    "import matplotlib.cbook as cb\n",
    "import math\n",
    "import math\n",
    "from matplotlib import pyplot as plt\n",
    "from matplotlib import rcParams\n",
    "import cycler\n",
    "\n",
    "# So far, only 'DejaVu Sans' works\n",
    "rcParams['font.sans-serif'] = ['Lucida Grande', 'DejaVu Sans',\n",
    "                               'Verdana']\n",
    "\n",
    "#n = 4\n",
    "#color = pyplot.cm.viridis(np.linspace(0, 1,n))\n",
    "color = [\"Cyan\", \"Gold\", \"Violet\", \"Ivory\"]\n",
    "#rcParams['axes.prop_cycle'] = cycler.cycler(color = color)\n",
    "def annotate_with_networkx_labels(G, pos,\n",
    "                                  labels=None,\n",
    "                                  fontname = None,\n",
    "                                  fontsize=12,\n",
    "                                  font_color='k',\n",
    "                                  font_weight='normal',\n",
    "                                  alpha=1.0,\n",
    "                                  ax=None,\n",
    "                                  horizontalalignment = 'center',\n",
    "                                  verticalalignment = 'center',\n",
    "                                  xoff = 0.0,\n",
    "                                  yoff = 0.0,\n",
    "                                  offset_dict = None,\n",
    "                                  **kwds):\n",
    "    \"\"\"\n",
    "    Draw node labels on the graph G.  This functions as a standin for networx.draw_networkx_labels,\n",
    "    which allows either uniform label offset (xoff,yoff) or node by node label offset (offset_dict).\n",
    "\n",
    "    Parameters\n",
    "    ----------\n",
    "    G : graph\n",
    "       A networkx graph\n",
    "\n",
    "    pos : dictionary, optional\n",
    "       A dictionary with nodes as keys and positions as values.\n",
    "       If not specified a spring layout positioning will be computed.\n",
    "       See networkx.layout for functions that compute node positions.\n",
    "\n",
    "    font_size : int\n",
    "       Font size for text labels (default=12)\n",
    "\n",
    "    font_color : string\n",
    "       Font color string (default='k' black)\n",
    "\n",
    "    font_weight : string\n",
    "       Font weight (default='normal')\n",
    "\n",
    "    xoff: int ot float\n",
    "        Horizontal offset in points of text from node\n",
    "        \n",
    "    yoff: int ot float\n",
    "        Vertical offset in points of text from node\n",
    "        \n",
    "    alpha : float\n",
    "       The text transparency (default=1.0)\n",
    "\n",
    "    ax : Matplotlib Axes object, optional\n",
    "       Draw the graph in the specified Matplotlib axes.\n",
    "    \"\"\"\n",
    "    if ax is None:\n",
    "        ax=plt.gca()\n",
    "    if labels is None:\n",
    "        labels=dict( (n,n) for n in G.nodes())\n",
    "\n",
    "    # A variant for some of the text annotations.\n",
    "    text_props_r = dict(fontname =fontname,\n",
    "                        size=fontsize,\n",
    "                        color= font_color,\n",
    "                        weight = font_weight,\n",
    "                        verticalalignment = verticalalignment,\n",
    "                        horizontalalignment = horizontalalignment,\n",
    "                        alpha = alpha,\n",
    "                        # Express text coords in offsets from xy, unit is pt\n",
    "                        textcoords='offset points')\n",
    "\n",
    "    text_items={}  # there is no text collection so we'll fake one\n",
    "    offset_dict0 = dict((n,(xoff,yoff)) for n in G)\n",
    "    if offset_dict:\n",
    "        offset_dict0.update(offset_dict)\n",
    "    for n, label in labels.items():\n",
    "        (x,y)=pos[n]\n",
    "        label=str(label) # this will cause \"1\" and 1 to be labeled the same\n",
    "        thisxoff,thisyoff = offset_dict0[n]\n",
    "        t=ax.annotate(label,xy=(x, y),\n",
    "                      xytext=(thisxoff,thisyoff),\n",
    "                      #transform = ax.transData,\n",
    "                      clip_on=True,\n",
    "                      **text_props_r\n",
    "                      )\n",
    "        text_items[n]=t\n",
    "\n",
    "    return text_items\n"
   ]
  },
  {
   "cell_type": "code",
   "execution_count": null,
   "metadata": {
    "colab": {
     "base_uri": "https://localhost:8080/",
     "height": 575
    },
    "id": "uFs6YMl9ESc1",
    "outputId": "db39d514-158d-4379-c7e1-6b2a7335108c"
   },
   "outputs": [],
   "source": [
    "import matplotlib.pylab as plt\n",
    "\n",
    "import networkx as nx\n",
    "#from imp import reload\n",
    "#reload(annotate_networkx)\n",
    "\n",
    "G = nx.florentine_families_graph()\n",
    "seed=47\n",
    "pos=nx.spring_layout(G,seed=seed) \n",
    "\n",
    "# Make the figure bigger\n",
    "plt.figure(figsize=(10,10))\n",
    "# So no labeling.  We'll do it ourselves.\n",
    "nx.draw_networkx_nodes(G,pos,\n",
    "                       node_color='r',\n",
    "                       node_size=250,\n",
    "                       alpha=0.8)\n",
    "# edges\n",
    "nx.draw_networkx_edges(G,pos,width=3.0,alpha=0.3)\n",
    "\n",
    "yoff = 16\n",
    "# Raise labels so that the vertical center of the text is yoff above node\n",
    "text = annotate_with_networkx_labels(G,pos,yoff=yoff, xoff= 5, alpha = .8,\n",
    "                                     verticalalignment='center')\n",
    "#plt.show()"
   ]
  },
  {
   "cell_type": "markdown",
   "metadata": {
    "id": "PTWGqxJYESc1"
   },
   "source": [
    "## Political blogs example"
   ]
  },
  {
   "cell_type": "markdown",
   "metadata": {
    "id": "OVkXMcw6ESc1"
   },
   "source": [
    "This example is mostly another example of \n",
    "customizing networkx's graph drawing, this time with a larger network.\n",
    "We first read in the Adamic/Glance political blogs data.  This is raw data and it presents a problem.  The hyperlinks\n",
    "from website to another, are directional and there are self-loops.\n",
    "\n",
    "This directionality of the links the graph what is called a **directed graph**, and many of our analysis tools don't work on directed graphs.  So what we'll do is turn it into an undirected graph.  We then check for connectedness,\n",
    "another property we often rely on, and if the graph is not connected, we'll work\n",
    "omn the largest component that is.   Along the way we'll remove self-loops, reasoning that those links\n",
    "are not germane to what we're studying (political polarization, in this case)."
   ]
  },
  {
   "cell_type": "code",
   "execution_count": null,
   "metadata": {
    "id": "QSS845VuESc1"
   },
   "outputs": [],
   "source": [
    "import networkx as nx\n",
    "import urllib.request\n",
    "import os.path\n",
    "\n",
    "def url_fetch_networkx_graph (url):\n",
    "    with urllib.request.urlopen(url) as filehandle:\n",
    "         G = nx.read_gml(filehandle)\n",
    "    return G\n",
    "\n",
    "github_networks_data = 'https://raw.githubusercontent.com/gawron/python-for-social-science/master/networks/'\n",
    "pb_url = os.path.join(github_networks_data, 'polblogs.gml')\n",
    "\n",
    "pb = url_fetch_networkx_graph (pb_url)"
   ]
  },
  {
   "cell_type": "code",
   "execution_count": null,
   "metadata": {
    "colab": {
     "base_uri": "https://localhost:8080/"
    },
    "id": "vUdiwmKSESc1",
    "outputId": "55b12a72-70e3-40b1-8d6d-95bea8e733cc"
   },
   "outputs": [],
   "source": [
    "def get_biggest_component (UG):\n",
    "    components = list(nx.connected_components(UG))\n",
    "    components.sort(key=lambda x:len(x),reverse=True)\n",
    "    return UG.subgraph(components[0])\n",
    "\n",
    "def remove_self_loops(G):\n",
    "    before = len(G.edges())\n",
    "    for v in [n for n in G.nodes if n in G[n]]:\n",
    "        G.remove_edge(v,v)\n",
    "    after = len(G.edges())\n",
    "    print(f\"There were {before:,} edges before self-loop removal and {after:,} edges after\")"
   ]
  },
  {
   "cell_type": "code",
   "execution_count": null,
   "metadata": {
    "colab": {
     "base_uri": "https://localhost:8080/"
    },
    "id": "vUdiwmKSESc1",
    "outputId": "55b12a72-70e3-40b1-8d6d-95bea8e733cc"
   },
   "outputs": [],
   "source": [
    "pb_ug = pb.to_undirected()\n",
    "remove_self_loops(pb_ug)\n",
    "big_component = get_biggest_component(pb_ug)\n",
    "\n",
    "print(f\"{len(pb_ug)=:,} {len(big_component)=:,}\")"
   ]
  },
  {
   "cell_type": "markdown",
   "metadata": {},
   "source": [
    "The graph is from the real world.  It's not a surprise that it's not connected. "
   ]
  },
  {
   "cell_type": "markdown",
   "metadata": {
    "id": "pYco9Q49ESc1"
   },
   "source": [
    "The largest component is still plenty big!\n",
    "\n",
    "Summing up: we read in a big graph (nearly 1500 nodes) and it was not completely connected.  Along with\n",
    "other network analysis tools, the layout algorithms we want to demo below work only with undirected connected graphs. The `networkx` graph method `to_undirected` made sure we had an undirected graph, and\n",
    "we ffound the largest connected component of that.\n",
    "\n",
    "Note that it might also be useful to use the boolean keyword *relabel=True* to use the names given\n",
    "the blog sites on the *label* attribute.  By default `networkx` throws those away and just\n",
    "uses the *id* attribute as the node name.  For now we don't do this, since we will dispense with any labels in this graph, because of the extra visualization problems labels create.  We next run the  layout algorithm. \n",
    "\n",
    "One option that networkx provides is to contract out the drawing work to another node layout program `graphviz`.  You can try using a graphviz implementation of the force-spring layout algorithm (read the docs), but that will only work if you have graphviz installed.  Whether you use graphviz or not, the layout step will take a few minutes, so be patient."
   ]
  },
  {
   "cell_type": "code",
   "execution_count": null,
   "metadata": {
    "id": "E17CDq1tESc1",
    "scrolled": true
   },
   "outputs": [],
   "source": [
    "import networkx as nx\n",
    "pb_pos = nx.spring_layout(big_component)"
   ]
  },
  {
   "cell_type": "code",
   "execution_count": null,
   "metadata": {
    "colab": {
     "base_uri": "https://localhost:8080/",
     "height": 466
    },
    "id": "e__CfOvzESc1",
    "outputId": "216d90a3-ac5e-46eb-fee6-4ed85c891173"
   },
   "outputs": [],
   "source": [
    "import matplotlib.pyplot as plt\n",
    "plt.figure(figsize=(8,8))\n",
    "nx.draw_networkx_nodes(big_component,pos=pb_pos,node_size=50)\n",
    "nx.draw_networkx_edges(big_component,pos=pb_pos,alpha=.3)"
   ]
  },
  {
   "cell_type": "markdown",
   "metadata": {
    "id": "wShIe0eEESc1"
   },
   "source": [
    "This does not look quite as well separated as the graph we saw in lecture, produced by Gephi, and that may or may not due to the fact that the default number of iterations is not quite enough with this many nodes (the more iterations, the further apart the nodes fly).  But the liberal and conservative blogs are in fact already quite well separated, as we can see if we add in some coloring.  The classifications of the blog sites into liberal and conservative are stored in the class attribute `value`. So let's use that information to color. The value `1` stands for conservative (color that red) and the value `0` for liberal (color that blue)."
   ]
  },
  {
   "cell_type": "code",
   "execution_count": null,
   "metadata": {
    "colab": {
     "base_uri": "https://localhost:8080/"
    },
    "id": "VXZaL-snESc1",
    "outputId": "1380711f-24ba-41b2-d9b0-8fd0f556f510"
   },
   "outputs": [],
   "source": [
    "blog_names = list(big_component.nodes)\n",
    "print(blog_names[0])\n",
    "big_component.nodes[blog_names[0]]['value']"
   ]
  },
  {
   "cell_type": "code",
   "execution_count": null,
   "metadata": {
    "colab": {
     "base_uri": "https://localhost:8080/",
     "height": 751
    },
    "id": "Xh8c6tbWESc1",
    "outputId": "801579b1-18b1-467a-aaaa-d77f4d29af48"
   },
   "outputs": [],
   "source": [
    "# Note that we're going to stick with the layout computed above (`pos`)\n",
    "# because that took time to compute\n",
    "color_seq = ('blue','red')\n",
    "val_seq = (0,1)\n",
    "cls_attr = 'value'\n",
    "# dict that maps values onto colors\n",
    "color_dict = dict(list(zip(val_seq, color_seq)))\n",
    "# dict with each node attribute [all networkx graphs have this]\n",
    "node_dict = big_component.nodes\n",
    "# List of length n (# nodes) that assigns a color to each node\n",
    "colorList = [color_dict[node_dict[n][cls_attr]] \n",
    "             for n in list(node_dict.keys())]\n",
    "plt.figure(figsize=(8,8))\n",
    "nx.draw(big_component,pb_pos,node_size=75,node_color=colorList)\n",
    "plt.show()\n",
    "# An equivalent way of doing it.\n",
    "#nx.draw_networkx_nodes(big_component,pos=pos,node_color=colorList)\n",
    "#nx.draw_networkx_edges(big_component,pos=pos)"
   ]
  },
  {
   "cell_type": "markdown",
   "metadata": {
    "id": "3YITeQs6ESc1"
   },
   "source": [
    "## Les Miserables"
   ]
  },
  {
   "cell_type": "markdown",
   "metadata": {
    "id": "8pW6pdqLESc1"
   },
   "source": [
    "First let's read in the graph for the characters in Victor Hugo's massive historical novel `Les Miserables`,\n",
    "about post-Waterloo France, leading up to the revolution of 1830.\n",
    "\n",
    "Next we'll do some simple computations."
   ]
  },
  {
   "cell_type": "code",
   "execution_count": null,
   "metadata": {
    "id": "O13RTDWdESc1"
   },
   "outputs": [],
   "source": [
    "import networkx as nx\n",
    "import urllib.request\n",
    "import os.path\n",
    "\n",
    "def url_fetch_networkx_graph (url):\n",
    "    with urllib.request.urlopen(url) as filehandle:\n",
    "         G = nx.read_gml(filehandle)\n",
    "    return G\n",
    "\n",
    "github_networks_data = 'https://raw.githubusercontent.com/gawron/python-for-social-science/master/networks/'\n",
    "lm_url = os.path.join(github_networks_data, 'lesmiserables.gml')\n",
    "\n",
    "lm = url_fetch_networkx_graph(lm_url)"
   ]
  },
  {
   "cell_type": "markdown",
   "metadata": {
    "id": "7VSQgvf6eC4K"
   },
   "source": [
    "## Centrality"
   ]
  },
  {
   "cell_type": "code",
   "execution_count": null,
   "metadata": {
    "id": "mq5WPAzHd606"
   },
   "outputs": [],
   "source": [
    "M = nx.betweenness_centrality(lm)\n",
    "il = list(M.items())\n",
    "il.sort(key=lambda x:x[1],reverse=True)\n",
    "top_chars = il[:10]"
   ]
  },
  {
   "cell_type": "markdown",
   "metadata": {
    "id": "_W6bNbLdd6F-"
   },
   "source": []
  },
  {
   "cell_type": "code",
   "execution_count": null,
   "metadata": {
    "colab": {
     "base_uri": "https://localhost:8080/"
    },
    "id": "g2hNBYTWESc1",
    "outputId": "ab3bb5c8-6d66-4166-a691-0c69584bd777"
   },
   "outputs": [],
   "source": [
    "top_chars"
   ]
  },
  {
   "cell_type": "markdown",
   "metadata": {
    "id": "Rlxm_KusESc1"
   },
   "source": [
    "The `top_chars` list is interesting and mostly intuitive, except that `Javert`, the policeman who relentlessly tracks `Valjean` and is certainly important, has rather a low betweenness centrality value.  You can look at the graph pictures below and speculate as to why this is.  Readers of the novel might also have some ideas.  It might also help answer questions about when  `betweeness centrality` is the bext choice as a measure of centrality."
   ]
  },
  {
   "cell_type": "markdown",
   "metadata": {
    "id": "csMycd_KESc1"
   },
   "source": [
    "## Simple graph attributes and analysis"
   ]
  },
  {
   "cell_type": "markdown",
   "metadata": {
    "id": "rVgzs7L_ESc1"
   },
   "source": [
    "Ths list of characters."
   ]
  },
  {
   "cell_type": "code",
   "execution_count": null,
   "metadata": {
    "colab": {
     "base_uri": "https://localhost:8080/"
    },
    "id": "0MjIwgGlESc1",
    "outputId": "81225c05-4ae8-4368-fe42-01013239d109",
    "scrolled": true
   },
   "outputs": [],
   "source": [
    "lm.nodes()"
   ]
  },
  {
   "cell_type": "markdown",
   "metadata": {
    "id": "oCX3p1Z5ESc1"
   },
   "source": [
    "Note that although it is no printed out above, the `NodeView` above also leads to the node attribute dictionary for each character."
   ]
  },
  {
   "cell_type": "markdown",
   "metadata": {
    "id": "FlyoDsWhESc2"
   },
   "source": [
    "Recall that edges can  have attributes. In our *Les Miserables* graph, there is a value attribute on each edge, which contains a weight reflecting how frequently the characters connected by the edge have appeared together in scenes."
   ]
  },
  {
   "cell_type": "code",
   "execution_count": null,
   "metadata": {
    "colab": {
     "base_uri": "https://localhost:8080/"
    },
    "id": "8aFiIoswESc2",
    "outputId": "c29256e4-34a0-4175-9190-5d4b587eeb76"
   },
   "outputs": [],
   "source": [
    "lm['Javert']"
   ]
  },
  {
   "cell_type": "markdown",
   "metadata": {
    "id": "E7VaLyX6ESc2"
   },
   "source": [
    "Note that Javert's relationship to Valjean has weight 17, which is higher than all his other relationships.\n",
    "In general, the higher the value the more intense\n",
    "or \"weighted\" the connection between the two characters is.  We will experiment with\n",
    "using this attribute in drawing graphs below."
   ]
  },
  {
   "cell_type": "markdown",
   "metadata": {
    "id": "C0HK6KDmESc2"
   },
   "source": [
    "Note that edges are tuples (of nodes) and hence can be keys in a dictionary:"
   ]
  },
  {
   "cell_type": "code",
   "execution_count": null,
   "metadata": {
    "id": "PC2Q-NQzfBWw"
   },
   "outputs": [],
   "source": [
    "(e,e_atts) = list(lm.edges.items())[0]"
   ]
  },
  {
   "cell_type": "code",
   "execution_count": null,
   "metadata": {
    "colab": {
     "base_uri": "https://localhost:8080/"
    },
    "id": "FvoR7NXQnsIk",
    "outputId": "a76d6452-2c8e-4746-be74-2770332ff78d"
   },
   "outputs": [],
   "source": [
    "e"
   ]
  },
  {
   "cell_type": "code",
   "execution_count": null,
   "metadata": {
    "colab": {
     "base_uri": "https://localhost:8080/"
    },
    "id": "fgdyat1Im4cT",
    "outputId": "e77e3338-a891-42ad-d5da-548ba45f1d29"
   },
   "outputs": [],
   "source": [
    "e_atts"
   ]
  },
  {
   "cell_type": "markdown",
   "metadata": {},
   "source": [
    "So let's make one dictionary that has edges as keys and their weights as values.  We'll use that to sort character relationships by strength:"
   ]
  },
  {
   "cell_type": "code",
   "execution_count": null,
   "metadata": {
    "colab": {
     "base_uri": "https://localhost:8080/"
    },
    "id": "6lp3prNMESc2",
    "outputId": "c2cef29e-2495-427c-817e-2c30ccbaa8e8"
   },
   "outputs": [],
   "source": [
    "def sort_edges_by_weight (G,weight_att='value'):\n",
    "    # frozenset used because ('Cosette', 'Valjean') is the same relationship as ('Valjean','Cosette'). \n",
    "    edge_dict = dict((frozenset(pair), fdict['value']) for (pair,fdict) in G.edges.items())\n",
    "    return sorted(list(edge_dict.items()),key=lambda x: x[1], reverse=True)\n",
    "\n",
    "edge_dict_il = sort_edges_by_weight(lm)\n",
    "edge_dict_il[:5]"
   ]
  },
  {
   "cell_type": "markdown",
   "metadata": {},
   "source": [
    "So does this mean the relationship between Cosette and Valjean is the most important in the novel?\n",
    "Not really.  It means the connection between these two characters is central, or best positioned in this network\n",
    "to facilitate connections between others.\n",
    "\n",
    "Note that there's\n",
    "a triangle of betweenness importance at the top linking Cosette, Valjean and Marius.  Javert is somewhat\n",
    "peripheral to this triangle, since he is connected only to Valjean."
   ]
  },
  {
   "cell_type": "markdown",
   "metadata": {
    "id": "cMotnM1gESc2"
   },
   "source": [
    "#### Les Mis: Drawing issues"
   ]
  },
  {
   "cell_type": "markdown",
   "metadata": {
    "id": "5xyJxWUHESc2"
   },
   "source": [
    "Next we try to draw the `Les Mis` graph, using the tools we used before."
   ]
  },
  {
   "cell_type": "code",
   "execution_count": null,
   "metadata": {
    "colab": {
     "base_uri": "https://localhost:8080/",
     "height": 629
    },
    "id": "iVr2-xxxESc2",
    "outputId": "197d8595-3ea2-4af1-c22d-f682be612ab0",
    "scrolled": false
   },
   "outputs": [],
   "source": [
    "#pos = nx.spring_layout(lm,scale=1.0,iterations=200)\n",
    "import math\n",
    "from matplotlib import pyplot as plt\n",
    "plt.figure(figsize=(11,11))\n",
    "default_distance_between_nodes = 1.0/(math.sqrt(len(lm.nodes())))\n",
    "#pos = nx.spring_layout(lm,scale=1.0,k=5*default_distance_between_nodes) # Try adjusting default distance between nodes\n",
    "pos = nx.spring_layout(lm)\n",
    "# Default node size=300, default font_size=12\n",
    "# nx.draw_networkx(lm,pos, node_size=300, font_size=12)  \n",
    "# node_size=800,font_size=8\n",
    "# Try experimenting with node_shape 'D'\n",
    "nx.draw_networkx(lm,pos, node_size=300, font_size=8)\n"
   ]
  },
  {
   "cell_type": "markdown",
   "metadata": {
    "id": "60P98jlpESc2"
   },
   "source": [
    "This graph isnt very pretty to look at, primarily because of the bad placement of\n",
    "the big labels.  We're going to try to draw something better.\n",
    "\n",
    "We're only going to label subset of the nodes in the final graph (the top characters).  To do\n",
    "that, we're going to create a dictionary of the nodes we're interested in.  It's going\n",
    "to map nodes to the labels we want to use.  But the nodes are already represented by the labels\n",
    "we're interested in, because we read them in with *relabel=True*.  So our new_labels dictionary\n",
    "is just going to map a node to itself."
   ]
  },
  {
   "cell_type": "code",
   "execution_count": null,
   "metadata": {
    "id": "5OHNqxKWESc2"
   },
   "outputs": [],
   "source": [
    "new_lm_labels = dict((k,k) for (k,v) in top_chars)\n",
    "num_nodes = len(lm.nodes())\n",
    "import math\n",
    "default_distance_between_nodes = 1.0/(math.sqrt(num_nodes))"
   ]
  },
  {
   "cell_type": "code",
   "execution_count": null,
   "metadata": {
    "colab": {
     "base_uri": "https://localhost:8080/"
    },
    "id": "a4akglZkESc2",
    "outputId": "99e8bfaf-2deb-4c53-e865-04291a011955"
   },
   "outputs": [],
   "source": [
    "new_lm_labels"
   ]
  },
  {
   "cell_type": "markdown",
   "metadata": {
    "id": "JzeB8pgmVGzd"
   },
   "source": [
    "## Drawing and **annotation** code"
   ]
  },
  {
   "cell_type": "code",
   "execution_count": null,
   "metadata": {
    "id": "8J54J_fNGWKZ"
   },
   "outputs": [],
   "source": [
    "import math\n",
    "\n",
    "def assign_colors(G, color_att, color_seq=None, val_seq=None, integers_ok=True):\n",
    "    \"\"\"\n",
    "    Return a dictionary: Val |-> Col\n",
    "\n",
    "    where Vals are the valueset for Graph C{G}'s node attribute C{color_att}.\n",
    "\n",
    "    C{color_seq}  and C{val_seq} are aligned sequences of equal length\n",
    "    specifying a particular assignment of colors to values.  If C{val_seq}\n",
    "    is not supplied, the full range of value of C{color_att} is used,\n",
    "    in arbitrary order.  If C{color_seq} is not supplied and C{integers_ok} is True, \n",
    "    an arbitrary sequence of integers will be used instead,\n",
    "    with the assumption that some color map will be used to map from integers to colors.\n",
    "    If C{integers_ok} is not True, a default color sequence is used.\n",
    "    \"\"\"\n",
    "    val_set = set([G.nodes[n][color_att] for n in G.nodes()])\n",
    "    if color_seq is None and integers_ok:\n",
    "         # Use integers and default color map\n",
    "         color_seq = list(range(len(val_set)))\n",
    "    elif color_seq is None:\n",
    "         color_seq = ('gold','cyan','dimgray','coral','burlywood','ivory','red', 'k')\n",
    "    if val_seq is None:\n",
    "      val_seq = val_set\n",
    "    else:\n",
    "       assert(val_set.issubset(val_seq)), 'Data vals include values not in val_seq'\n",
    "    return dict(list(zip(val_seq, color_seq)))\n",
    "\n",
    "\n",
    "def draw_networkx_but_for_labels (G,pos=None, seed=None,ax=None,figsize=(11,11),node_color='r',\n",
    "                                 node_size=180,node_alpha=.9,edge_alpha=.3,edgewidth=.8,\n",
    "                                 node_edgecolor=\"black\"):\n",
    "    if ax is None:\n",
    "      (_fig, ax) = plt.subplots(1,1,figsize=figsize)\n",
    "    if pos is None:\n",
    "        pos = nx.spring_layout(G,seed=seed)\n",
    "    ncoll = nx.draw_networkx_nodes(G, pos,\n",
    "                                   node_color=node_color,\n",
    "                                   node_size=node_size,\n",
    "                                   alpha=node_alpha,ax=ax)\n",
    "    ncoll.set_edgecolor(node_edgecolor)\n",
    "    # edges\n",
    "    nx.draw_networkx_edges(G,pos,width=edgewidth,alpha=edge_alpha,ax=ax)\n",
    "    return pos\n",
    "\n",
    "def draw_color_graph (G, color_att, pos=None, labels=None,\n",
    "                      offset_dict=None, yoff=None, plt_file=None, ax=None, figsize=(11,11),\n",
    "                      node_size=220, node_alpha=.9, node_color=None,\n",
    "                      label_alpha=.8, edge_alpha = .3, edgewidth=.8,\n",
    "                      color_seq=None, val_seq=None, with_labels=True, \n",
    "                      seed=47,fontsize=8,node_edgecolor=\"black\"):\n",
    "    \"\"\"\n",
    "    C{color_att} is the attribute that determines a node's color.  C{color_seq} and C{val_seq}\n",
    "    are an aligned sequence of the values of color_att and colors or color specs (see assign_colors).\n",
    "    Used when C{node_color} is not None.\n",
    "    \n",
    "    \n",
    "    C{node_color} can be a be a color string spec; if it is, all nodes get that color. Otherwise\n",
    "    it is a sequence of colors aligned with node sequence in G.nodes(). C{labels} is a similarly\n",
    "    aligned sequence. C{offset_dict} or C{yoff} f for label customiuzation. See \n",
    "    annotate_with_networkx_labels.\n",
    "    \"\"\"\n",
    "    node_dict  = G.nodes\n",
    "    if node_color is None:\n",
    "      color_dict = assign_colors(G, color_att, color_seq, val_seq)\n",
    "      # List of length n (# nodes) that assigns a color to each node\n",
    "      colorList = [color_dict[node_dict[n][color_att]] for n in G.nodes()]\n",
    "    else:\n",
    "      ColorList = node_color\n",
    "    if ax is None:\n",
    "      (_fig, ax) = plt.subplots(1,1,figsize=figsize)\n",
    "    pos = draw_networkx_but_for_labels(G, pos, seed=seed,ax=ax, figsize=figsize,\n",
    "                                     node_color=colorList, node_size=node_size,\n",
    "                                     node_alpha=node_alpha, edge_alpha=edge_alpha,\n",
    "                                     edgewidth=edgewidth,node_edgecolor=node_edgecolor)\n",
    "    if with_labels and (offset_dict is not None or  yoff is not None):\n",
    "        # label placement customization desired\n",
    "        if yoff is None:\n",
    "            yoff = 8.0\n",
    "        annotate_with_networkx_labels(G,pos,labels=labels,yoff=yoff, alpha = label_alpha,\n",
    "                                        verticalalignment='bottom', offset_dict = offset_dict,\n",
    "                                        ax=ax, fontsize=fontsize) \n",
    "    elif with_labels:\n",
    "        nx.draw_networkx_labels(G,pos,labels=labels, font_size = fontsize, font_color='black',\n",
    "                                verticalalignment='center', horizontalalignment = 'center',ax=ax)\n",
    "    if plt_file:\n",
    "        plt.savefig(plt_file)\n",
    "    return color_dict, pos"
   ]
  },
  {
   "cell_type": "code",
   "execution_count": null,
   "metadata": {
    "colab": {
     "base_uri": "https://localhost:8080/",
     "height": 466
    },
    "id": "_foid9L-ESc2",
    "outputId": "3e837a32-a0fa-4d92-ac33-1e7a8a72b221"
   },
   "outputs": [],
   "source": [
    "\n",
    "plt.figure(figsize=(12,8))\n",
    "# Space out placement of nodes in layout. 16 * the default.\n",
    "# Try changing this to the 8 * default: 8.0/(math.sqrt(len(lm.nodes()))\n",
    "distance_between_nodes = 16.0/(math.sqrt(len(lm.nodes())))\n",
    "seed=57\n",
    "pos = nx.spring_layout(lm,scale=1.0,k= distance_between_nodes, seed=seed)\n",
    "# Try increasing spring tension for characters who share more scenes \n",
    "# pos = nx.spring_layout(lm,scale=1.0,weight='value')\n",
    "\n",
    "##############  Draw Edges ########################################################\n",
    "nx.draw_networkx_edges(lm,pos, edge_color='blue',alpha=.3)  \n",
    "##############  Draw Small Unlabeled Nodes ########################################################\n",
    "nx.draw_networkx_nodes(lm,pos,node_color='black',node_size=100) \n",
    "##############  Draw Large Labeled Nodes ########################################################\n",
    "ncoll= nx.draw_networkx_nodes(lm,pos,new_lm_labels,node_color='red',node_size=200)\n",
    "## Add outline to large nodes only\n",
    "ncoll.set_edgecolor('black')\n",
    "\n",
    "# yoff: Raise labels so that text bottom is 9 pt above node bottom\n",
    "text = annotate_with_networkx_labels(lm,pos,labels=new_labels,yoff=9, alpha = .9, \n",
    "                                     verticalalignment='bottom',fontsize=9)\n"
   ]
  },
  {
   "cell_type": "markdown",
   "metadata": {
    "id": "lIsqiZogESc2"
   },
   "source": [
    "First we draw the graph with no labels and small nodes.   Then\n",
    "in line 16 we resize the top character nodes using `new_labels` and make them red;\n",
    "`new_labels` is a dictionary containing labels for just the nodes we want to highlight.\n",
    "Since the nodes are already identified by their correct labels, this is a dictionary\n",
    "that maps every node name to itself for the top character nodes:"
   ]
  },
  {
   "cell_type": "code",
   "execution_count": null,
   "metadata": {
    "scrolled": true
   },
   "outputs": [],
   "source": [
    "new_labels"
   ]
  },
  {
   "cell_type": "markdown",
   "metadata": {
    "id": "lIsqiZogESc2"
   },
   "source": [
    "Then in line 21 we add labels to just those nodes using `new_labels` again.\n",
    "This sequence of code is a very useful model.  When you want to\n",
    "do something special to a subset of the nodes, draw the background graph first, choosing parameters to make the background nodes less visually salient.  Then tweak the graph to make  subset of the nodes salient\n",
    "using some viusal foregrounding features such as node size or node color.\n",
    "\n",
    "Here we used color and size as well as\n",
    "labeling, using `networkx_draw_labels` for that subset of the nodes we wanted to foreground."
   ]
  },
  {
   "cell_type": "markdown",
   "metadata": {},
   "source": [
    "Note that in the above picture the 'Valjean' label overlaps the 'Thenardier' Node.  Let's fix that with\n",
    "a small tweak.\n",
    "\n",
    "Redraw adjusting the label for Jean Valean."
   ]
  },
  {
   "cell_type": "code",
   "execution_count": null,
   "metadata": {},
   "outputs": [],
   "source": [
    "plt.figure(figsize=(12,8))\n",
    "distance_between_nodes = 16.0/(math.sqrt(len(lm.nodes())))\n",
    "seed=57\n",
    "pos = nx.spring_layout(lm,scale=1.0,k= distance_between_nodes, seed=seed)\n",
    "# Try this instead to see the effect of increaing k\n",
    "#pos = nx.spring_layout(lm,scale=1.0,seed=seed)\n",
    "nx.draw_networkx_edges(lm,pos, edge_color='blue',alpha=.3)  \n",
    "nx.draw_networkx_nodes(lm,pos,node_color='black',node_size=100) \n",
    "ncoll= nx.draw_networkx_nodes(lm,pos,new_lm_labels,node_color='red',node_size=200)\n",
    "ncoll.set_edgecolor('black')\n",
    "\n",
    "# offset_dict provides a placement tweak for yust one node label.  Al;l th erest are positioned\n",
    "# using yoff.  \n",
    "text = annotate_with_networkx_labels(lm,pos,labels=new_labels,yoff=9, alpha = .9, offset_dict=dict(Valjean=(0,-20)),\n",
    "                                     fontsize=9,verticalalignment='bottom')\n"
   ]
  },
  {
   "cell_type": "markdown",
   "metadata": {},
   "source": [
    "\n",
    "#### Exercise (Anna Karenina)\n",
    "\n",
    "Read in the graph for *Anna Karenina* (call it `ak`). It is located\n",
    "in the same directory of the same  github repository as the\n",
    "Les Miserables graph and the file is \"anna.gml\".\n",
    "\n",
    "Follow the model used in analyzing *Les Miserables* above. That is find the top\n",
    "10 charatcters by some centrlity measure. Then draw\n",
    "the graph  `ak`  labeling only the top 10 most\n",
    "central characters, coloring those nodes differently, and making \n",
    "those nodes a different size.  \n",
    "\n",
    "There is some evidence that 10 is not the right number when choosing the central\n",
    "chacaters.  Look for evidence of this and redo everything with different number.\n",
    "Before doing that, define a function `top_n_characters` that encapsulates the\n",
    "code you've been using to compute the top 10 characters and generalizes it to \n",
    "compute the top_n characters for any n.  The arguments the function should\n",
    "take are a graph and an integer `top_n` (which defaults to 10)."
   ]
  },
  {
   "cell_type": "code",
   "execution_count": null,
   "metadata": {},
   "outputs": [],
   "source": []
  },
  {
   "cell_type": "code",
   "execution_count": null,
   "metadata": {},
   "outputs": [],
   "source": []
  },
  {
   "cell_type": "code",
   "execution_count": null,
   "metadata": {},
   "outputs": [],
   "source": []
  },
  {
   "cell_type": "code",
   "execution_count": null,
   "metadata": {},
   "outputs": [],
   "source": []
  },
  {
   "cell_type": "code",
   "execution_count": null,
   "metadata": {},
   "outputs": [],
   "source": []
  },
  {
   "cell_type": "code",
   "execution_count": null,
   "metadata": {},
   "outputs": [],
   "source": []
  },
  {
   "cell_type": "code",
   "execution_count": null,
   "metadata": {},
   "outputs": [],
   "source": []
  },
  {
   "cell_type": "code",
   "execution_count": null,
   "metadata": {},
   "outputs": [],
   "source": []
  },
  {
   "cell_type": "code",
   "execution_count": null,
   "metadata": {},
   "outputs": [],
   "source": []
  },
  {
   "cell_type": "code",
   "execution_count": null,
   "metadata": {},
   "outputs": [],
   "source": []
  },
  {
   "cell_type": "markdown",
   "metadata": {},
   "source": [
    "Read it in:"
   ]
  },
  {
   "cell_type": "code",
   "execution_count": null,
   "metadata": {},
   "outputs": [],
   "source": [
    "github_networks_data = 'https://raw.githubusercontent.com/gawron/python-for-social-science/master/networks/'\n",
    "ak_url = os.path.join(github_networks_data, 'anna.gml')\n",
    "\n",
    "ak = url_fetch_networkx_graph(ak_url)"
   ]
  },
  {
   "cell_type": "markdown",
   "metadata": {},
   "source": [
    "Find the top 10 characters:"
   ]
  },
  {
   "cell_type": "code",
   "execution_count": null,
   "metadata": {},
   "outputs": [],
   "source": [
    "def top_n_characters (G,top_n=10):\n",
    "    M = nx.betweenness_centrality(G)\n",
    "    G_il = list(M.items())\n",
    "    G_il.sort(key=lambda x:x[1],reverse=True)\n",
    "    G_chars, G_score= zip(*G_il)\n",
    "    return G_chars[:top_n],G_il\n",
    "\n",
    "top_n = 10\n",
    "ak_top_chars,ak_il = top_n_characters (ak,top_n)\n",
    "new_ak_labels = dict((k,k) for k in ak_top_chars)"
   ]
  },
  {
   "cell_type": "code",
   "execution_count": null,
   "metadata": {},
   "outputs": [],
   "source": [
    "ak_top_chars"
   ]
  },
  {
   "cell_type": "code",
   "execution_count": null,
   "metadata": {},
   "outputs": [],
   "source": [
    "new_ak_labels"
   ]
  },
  {
   "cell_type": "markdown",
   "metadata": {},
   "source": [
    "Plot all the characters labeling and highlighting the top 10."
   ]
  },
  {
   "cell_type": "code",
   "execution_count": null,
   "metadata": {
    "scrolled": false
   },
   "outputs": [],
   "source": [
    "\n",
    "plt.figure(figsize=(12,8))\n",
    "# Space out placement of nodes in layout. 16 * the default.\n",
    "# Try changing this to the 8 * default: 8.0/(math.sqrt(len(lm.nodes()))\n",
    "distance_between_nodes = 16.0/(math.sqrt(len(lm.nodes())))\n",
    "seed=57\n",
    "ak_pos = nx.spring_layout(ak,scale=1.0,k= distance_between_nodes, seed=seed)\n",
    "# Try increasing spring tension for characters who share more scenes \n",
    "# pos = nx.spring_layout(lm,scale=1.0,weight='value')\n",
    "\n",
    "##############  Draw Edges ########################################################\n",
    "# decreasing alpha for better look\n",
    "nx.draw_networkx_edges(ak,ak_pos, edge_color='blue',alpha=.1)  \n",
    "##############  Draw Small Unlabeled Nodes ########################################################\n",
    "nx.draw_networkx_nodes(ak,ak_pos,node_color='black',node_size=100) \n",
    "##############  Draw Large Labeled Nodes ########################################################\n",
    "ncoll= nx.draw_networkx_nodes(ak,ak_pos,ak_new_labels,node_color='red',node_size=200)\n",
    "## Add outline to large nodes only\n",
    "ncoll.set_edgecolor('black')\n",
    "\n",
    "# yoff: Raise labels so that text bottom is 9 pt above node bottom\n",
    "text = annotate_with_networkx_labels(ak,ak_pos,labels=new_ak_labels,yoff=9, alpha = .9, \n",
    "                                     verticalalignment='bottom',fontsize=8,font_color='black')\n"
   ]
  },
  {
   "cell_type": "markdown",
   "metadata": {},
   "source": [
    "Although this is a complex novel with many characters, notice how well the diagram layout agrees with our centrality measure.  Most of the blue nodes have been banished to the periphery. (How dramatic the separation\n",
    "of the periphery is depends not on facts about the novel, but on our choice of `distance_beteen_nodes`).\n",
    "\n",
    "There are about 10 nodes that are exceptions.  Looking at `ak_il` past rank 10 there is a signifcant score gap betwene `BT` at rank 20 and `TU` at rank 21, so 20 is not a bad number.  We'll try that."
   ]
  },
  {
   "cell_type": "code",
   "execution_count": null,
   "metadata": {},
   "outputs": [],
   "source": [
    "for (i,(char,sc)) in enumerate(ak_il[:25]):\n",
    "    print(f\"{i+1:>2}. {char} {sc:.3f} \")"
   ]
  },
  {
   "cell_type": "code",
   "execution_count": null,
   "metadata": {
    "scrolled": false
   },
   "outputs": [],
   "source": [
    "top_n = 20\n",
    "ak_top_chars,ak_il = top_n_characters (ak,top_n)\n",
    "ak_new_labels = dict((k,k) for k in ak_top_chars)\n",
    "\n",
    "\n",
    "plt.figure(figsize=(12,8))\n",
    "# Space out placement of nodes in layout. 16 * the default.\n",
    "# Try changing this to the 8 * default: 8.0/(math.sqrt(len(lm.nodes()))\n",
    "distance_between_nodes = 16.0/(math.sqrt(len(lm.nodes())))\n",
    "seed=57\n",
    "#ak_pos = nx.spring_layout(ak,scale=1.0,k= distance_between_nodes, seed=seed)\n",
    "# Try increasing spring tension for characters who share more scenes \n",
    "# pos = nx.spring_layout(lm,scale=1.0,weight='value')\n",
    "\n",
    "##############  Draw Edges ########################################################\n",
    "# decreasing alpha for better look\n",
    "nx.draw_networkx_edges(ak,ak_pos, edge_color='blue',alpha=.1)  \n",
    "##############  Draw Small Unlabeled Nodes ########################################################\n",
    "nx.draw_networkx_nodes(ak,ak_pos,node_color='blue',node_size=100) \n",
    "##############  Draw Large Labeled Nodes ########################################################\n",
    "ncoll= nx.draw_networkx_nodes(ak,ak_pos,ak_new_labels,node_color='red',node_size=200)\n",
    "## Add outline to large nodes only\n",
    "ncoll.set_edgecolor('black')\n",
    "\n",
    "# yoff: Raise labels so that text bottom is 9 pt above node bottom\n",
    "text = annotate_with_networkx_labels(ak,ak_pos,labels=new_ak_labels,yoff=9, alpha = .9, \n",
    "                                     verticalalignment='bottom',fontsize=8)"
   ]
  },
  {
   "cell_type": "markdown",
   "metadata": {},
   "source": [
    "We're still missing some characters that are not peripheral per the layout algorithm. but we did include\n",
    "some new nodes very close to the center (KO, YV), so call this a win."
   ]
  },
  {
   "cell_type": "markdown",
   "metadata": {},
   "source": [
    "Note for those interested in doing more with this graph.\n",
    "\n",
    "There are some interesting \n",
    "node attributes in this graph, as illustrated here:\n"
   ]
  },
  {
   "cell_type": "code",
   "execution_count": null,
   "metadata": {},
   "outputs": [],
   "source": [
    "desc_dict = ak.nodes\n",
    "for ch in ak_top_chars:\n",
    "    print('%5s %s' % (ch, desc_dict[ch]['desc']))"
   ]
  },
  {
   "cell_type": "markdown",
   "metadata": {
    "id": "ANO9SiKsESc2"
   },
   "source": [
    "=============================================================================================="
   ]
  },
  {
   "cell_type": "markdown",
   "metadata": {
    "id": "HRxuhpYgESc2"
   },
   "source": [
    "## Hand labeling"
   ]
  },
  {
   "cell_type": "markdown",
   "metadata": {
    "id": "HJYEH0iNESc2"
   },
   "source": [
    "The next version of the `Les Mis` graph is the one that takes the most work\n",
    "but is really simple conceptually.  All labels are drawn, and their positioning with respect to the node is specified on a node-by-node basis.  Where in our first example using `annotate_with_networkx_labels`,\n",
    "we provide a position tweak for one node lable using an `offset_dict` with\n",
    "only one entry, here we provide an offset dict that assigns a position for each node,\n",
    "and that allows us to draw a useful graph that includes all node labels.  The\n",
    "side-effect is that with this amount of label placement control we are allowed\n",
    "to use a much smaller distance between nodes (we use the default), which arguably\n",
    "produces a much more natural-looking layout with fewer nodes driven to the periphery.\n",
    "\n",
    "This will produce the best-looking result that loses no information, and for some purposes (important reference diagram in a paper) is worth the work."
   ]
  },
  {
   "cell_type": "code",
   "execution_count": null,
   "metadata": {
    "colab": {
     "base_uri": "https://localhost:8080/",
     "height": 629
    },
    "id": "Cv0V9qLbESc2",
    "outputId": "df19b923-a495-48c4-acf1-33ebd51d0bc5"
   },
   "outputs": [],
   "source": [
    "### import networkx as nx\n",
    "from matplotlib import pyplot as plt\n",
    "from random import seed\n",
    "\n",
    "\n",
    "##################################################################################################\n",
    "###\n",
    "###   O f f s e t    D i c t i o n a r y\n",
    "###\n",
    "##################################################################################################\n",
    "\n",
    "center_below = (0,-18)\n",
    "center_above = (0,8)  # default\n",
    "northwest = (-20, 0)\n",
    "northwest_delta_x = (-25, 0)\n",
    "northeast = (24, 2)\n",
    "east = (19, -7)\n",
    "# Offset units are pts (1/72in), so pretty small.\n",
    "# Keys alphabetized to ease offset tweaking\n",
    "lm_offset_dict = {\n",
    " 'Anzelma': center_above,#(0,0 ),\n",
    " 'Babet': east,\n",
    " 'Bahorel': (-10,6),\n",
    " 'Bamatabois': (14, 4),\n",
    " 'BaronessT': (39, -4),\n",
    " 'Blacheville': center_below,\n",
    " 'Bossuet': (0,5),\n",
    " 'Boulatruelle': center_below,\n",
    " 'Brevet': (-20, -8),\n",
    " 'Brujon': center_below,\n",
    " 'Champmathieu': (-20, 6),\n",
    " 'Champtercier': center_below,\n",
    " 'Chenildieu': (24, 0),\n",
    " 'Child1': center_above,\n",
    " 'Child2': center_below,\n",
    " 'Claquesous': (-23, -4),\n",
    " 'Cochepaille': (25, -4),\n",
    " 'Combeferre': northeast,\n",
    " 'Cosette': center_above,\n",
    " 'Count': (-24, 0),\n",
    " 'CountessDeLo': (-1, 9),\n",
    " 'Courfeyrac': (-14, -7),\n",
    " 'Cravatte': (-30, -5),\n",
    " 'Dahlia': center_above,\n",
    " 'Enjolras': (-8,8),\n",
    " 'Eponine': center_above,\n",
    " 'Fameuil': (-26, 0),\n",
    " 'Fauchelevent': center_below,\n",
    " 'Favourite': (30, -7),\n",
    " 'Feuilly': (18, 5),\n",
    " 'Gavroche': center_below,\n",
    " 'Geborand': (-38, -5),\n",
    " 'Gervais': (3, 7),\n",
    " 'Gillenormand': center_above,\n",
    " 'Grantaire': center_below,\n",
    " 'Gueulemer': center_above,\n",
    " 'Isabeau': (-30, -4),\n",
    " 'Javert': center_below,\n",
    " 'Joly': (-15,0),\n",
    " 'Judge': northwest,\n",
    "  'Labarre': center_above,\n",
    " 'Listolier': (-25, 0),\n",
    " 'LtGillenormand': center_above,\n",
    " 'Mabeuf': (-17,-8),\n",
    " 'Marguerite': (-5, -17),\n",
    " 'Marius': (15, 8),\n",
    " 'MlleGillenormand': (-30, -4),\n",
    " 'MmeDeR': (-36, -5),\n",
    " 'MmeHucheloup': northeast,\n",
    " 'MmeMagloire': (0, -18),\n",
    " 'MmePontmercy': (49, -4),\n",
    " 'MmeThenardier': (23, 0),\n",
    " 'Montparnasse': center_below,\n",
    " 'MotherInnocent': center_above,\n",
    " 'Napoleon': center_above,\n",
    " 'Pontmercy': (36, -4),\n",
    " 'Prouvaire': (6,-18),\n",
    " 'Scaufflaire': (-36, -4),\n",
    " 'Simplice': (0, -18),\n",
    " 'Toussaint': center_above,\n",
    " 'Valjean': northwest_delta_x,\n",
    " 'Woman1': center_above,#(0, 8),\n",
    " 'Woman2': center_above,#(0, 8),\n",
    " 'Zephine': (26, 0)\n",
    "}\n",
    "\n",
    "# May be usefil sub for offset_dict when attempting to read overlapping labels\n",
    "#offset_dict22 = {k:(0,8) for (k,v) in offset_dict.values()}\n",
    "\n",
    "##################################################################################################\n",
    "###\n",
    "###   L a b e l   D i c t i o n a r y\n",
    "###\n",
    "##################################################################################################\n",
    "\n",
    "## To further help fit labels into the layout, we abbreviate some of them.\n",
    "lm_labels = dict((n,n) for n in lm.nodes())\n",
    "lm_labels['Anzelma'] = 'Anz'\n",
    "lm_labels['Bamatabois'] = 'Bam'\n",
    "lm_labels['Brevet'] = \"Brev't\"\n",
    "lm_labels[\"Eponine\"]  = \"Epn\"\n",
    "lm_labels['Champmathieu'] = 'Champmt'\n",
    "lm_labels['Chenildieu'] = 'Chdieu'\n",
    "lm_labels['LtGillenormand'] = 'LtGille'\n",
    "lm_labels['MlleGillenormand'] = 'MlleGille'\n",
    "lm_labels['Gillenormand'] = 'Gille'\n",
    "lm_labels['Woman1'] = 'W1'\n",
    "lm_labels['Woman2'] = 'W2'\n",
    "lm_labels[\"Mabeuf\"] = \"Mbf\"\n",
    "lm_labels['Montparnasse'] = 'MtP'\n",
    "lm_labels['Cochepaille'] = \"C'paille\"\n",
    "lm_labels['MmeThenardier'] = 'MmeT'\n",
    "lm_labels['Thenardier'] = 'Then'\n",
    "lm_labels['Toussaint'] = 'Tousst'\n",
    "lm_labels['Cosette'] = \"Cstte\"\n",
    "lm_labels['Claquesous'] = \"Clqss\"\n",
    "lm_labels['MlleBaptistine'] = 'MmeB'\n",
    "lm_labels['Gueulemer'] = 'Gm'\n",
    "lm_labels['Babet'] = 'Babt'\n",
    "lm_labels['MmeHucheloup'] = 'MmeH'\n",
    "lm_labels['Enjolras'] = 'Enj'\n",
    "lm_labels['Bossuet'] = 'Boss'\n",
    "lm_labels['Courfeyrac'] = 'Cr'\n",
    "lm_labels['Combeferre'] = 'Cmbfrr'\n",
    "lm_labels['Prouvaire'] = 'Prvr'\n",
    "lm_labels['Grantaire'] = 'Grtr'\n",
    "lm_labels['CountessDeLo']  = 'CtssDeLo'"
   ]
  },
  {
   "cell_type": "markdown",
   "metadata": {},
   "source": [
    "Having defined the labeling tweaks, we add a few extra parameters for nice drawing, and \n",
    "call the label annotatioon function with the offset dictionary."
   ]
  },
  {
   "cell_type": "code",
   "execution_count": null,
   "metadata": {
    "colab": {
     "base_uri": "https://localhost:8080/",
     "height": 629
    },
    "id": "Cv0V9qLbESc2",
    "outputId": "df19b923-a495-48c4-acf1-33ebd51d0bc5"
   },
   "outputs": [],
   "source": [
    "lm_seed=51\n",
    "savefig=False\n",
    "lm_node_color,lm_node_size = 'r',180\n",
    "lm_node_alpha,lm_edge_alpha,lm_edgewidth = .9,.3,.8\n",
    "lm_fontsize = 10\n",
    "lm_pos = draw_networkx_but_for_labels (lm,seed=lm_seed,node_color=lm_node_color,\n",
    "                                      node_size=lm_node_size,node_alpha=lm_node_alpha,\n",
    "                                      edge_alpha=lm_edge_alpha,edgewidth=lm_edgewidth)\n",
    "# Default text y offset from bottom of node = 8pt\n",
    "# Default text alpha = .8\n",
    "lm_label_alpha = .8\n",
    "text = annotate_with_networkx_labels(lm, lm_pos, labels=lm_labels, yoff=8, alpha = lm_label_alpha,\n",
    "                                     verticalalignment='bottom',\n",
    "                                     offset_dict = lm_offset_dict,fontsize=lm_fontsize)\n",
    "\n",
    "if savefig:\n",
    "    fig_filename = 'LesMiserables.png'\n",
    "    print(f\"Saving image to {fig_filename}\")\n",
    "    plt.savefig(fig_filename,bbox_inches='tight')"
   ]
  },
  {
   "cell_type": "markdown",
   "metadata": {},
   "source": [
    "##  Adding Communities I\n",
    "\n",
    "#### Final incarnation of Les Mis Graph (Add community colors)"
   ]
  },
  {
   "cell_type": "markdown",
   "metadata": {
    "id": "t-qDv1yhESc2"
   },
   "source": [
    "We've already encountered the task of **community discovery**, back when we implemented a truncated version \n",
    "of the Girvan-Newman algorithm and ran it on Zachary's Karate Club graph.  There we discovered an intuitive algorithm for successively splitting a graph could do fairly well at recovering the factions underlying\n",
    "the club's eventual split.  \n",
    "\n",
    "In the next example, we will use community disovery in a differemt way, as a data mining tool aimed at uncovering the natural groupings in a data set. We will look for communities in the `Les Mis` graph using a community detection algorithm and color the characters in the graph according to their community. We will also use a different community discovery algorithm, the **Clauset-Newman-Moore greedy modularity maximization algorithm**.\n",
    "\n",
    "Clauset, A., Newman, M. E., & Moore, C. 2004. “Finding community structure in very large networks.” Physical Review E 70(6).\n",
    "\n",
    "For a contextualizing discussion and background on Community Detection, see *Networks: An Introduction*\n",
    "by Mark Newman.  Especially\n",
    "\n",
    "Newman, M. E. J. 2011.  *Networks: An Introduction*.  p. 224 Oxford University Press.\n",
    "\n",
    "To make displaying the algorithm's findings convenient we define `draw_color_graph`,  a function which produces graph drawings that color nodes according to some node attribute. In general, this attribute can either be some class attribute in the data (gender, race, club) like the political orientation attribute `value` in the Polblogs example, \n",
    "or it can be assigned by a community detection program.\n",
    "In our example, we'll use the node attribute \"Community\" assigned by our community\n",
    "detection algorithm, which  in `networkx` is called `modularity_max`.\n",
    "\n",
    "The `draw_color_graph` function we'll use for drawing combines many of the features we've used in this notebook.\n",
    "\n",
    "1. We allow label positions to be fine-tuned with an offset dictionary \n",
    "2. We also pass in a previously used layout\n",
    "3. We can pass in a value sequence and an aligned color sequence specifying the colors we want to assign \n",
    "to each value of the \"Community\" attribute.\n",
    "\n",
    "If you look\n",
    "in the code, you'll that `draw_color_graph` calls many functions we discussed above.\n",
    "\n",
    "1. It calls the function `annotate_with_networkx_labels` for label positioning (used throughout this notebook).\n",
    "2. It calls the function `assign_colors` used for coloring the polblog graph. This produces a color\n",
    "   dictionary assigning a color to every node.\n",
    "3. It calls the fumnction `draw_networkx_but_for_labels` used in the hand labeling example,\n",
    "   which generally handles the non-labeling parts of graph drawing, with many tweakable parameters.\n",
    "\n",
    "We provide this as an example to illustrate one way of pull together all the strategies we have used in this nodebook."
   ]
  },
  {
   "cell_type": "markdown",
   "metadata": {},
   "source": [
    "Add the `\"Community\"` attribute to the graph."
   ]
  },
  {
   "cell_type": "code",
   "execution_count": null,
   "metadata": {
    "id": "cR9goLs_ESc3"
   },
   "outputs": [],
   "source": [
    "#import community\n",
    "from networkx.algorithms.community import modularity_max\n",
    "# Get a fresh copy because we want to assign a new attribute,\n",
    "lm = url_fetch_networkx_graph(lm_url)\n",
    "\n",
    "# Call community discovery algorithm and create a dictionary assigning a community to each node\n",
    "partitions = modularity_max.greedy_modularity_communities(lm)\n",
    "partition_dict = dict((n,i) for (i,p) in enumerate(partitions) for n in p)\n",
    "\n",
    "# Export the community assigmnments to the graph by populating a new node attribute\n",
    "# 'Community' containing the community of each node\n",
    "for n in lm.nodes():\n",
    "    lm.nodes[n]['Community'] = partition_dict[n]"
   ]
  },
  {
   "cell_type": "markdown",
   "metadata": {},
   "source": [
    "The community detection algorithm finds 5 communities (natural, structurally determined groupings)\n",
    "in the graph:"
   ]
  },
  {
   "cell_type": "code",
   "execution_count": null,
   "metadata": {},
   "outputs": [],
   "source": [
    "print({lm.nodes[n]['Community'] for n in lm.nodes})"
   ]
  },
  {
   "cell_type": "markdown",
   "metadata": {},
   "source": [
    "Next we create a color sequence and an aligned value sequence assigning a color to each of these\n",
    "5 communities.  We'll pass those to `draw_color_graph`."
   ]
  },
  {
   "cell_type": "code",
   "execution_count": null,
   "metadata": {},
   "outputs": [],
   "source": [
    "\n",
    "communities = sorted(list({lm.nodes[n]['Community'] for n in lm.nodes()}))\n",
    "# A palette of 20 compatible colors to choose from\n",
    "color_cyc = plt.cycler(\"color\", plt.cm.tab20c.colors)\n",
    "# Start a cycle\n",
    "closed_color_cyc = color_cyc()\n",
    "# color distance: We have 20 compatible colors to choose from and 5 communities.  Pick every 4th color\n",
    "color_dist = 4 \n",
    "# Color seq of same length as classes\n",
    "color_seq = [c['color'] for (i,c) in zip(range(len(color_cyc)),closed_color_cyc) if i%color_dist == 0]\n",
    "val_seq = communities\n",
    "\n",
    "# Final condition to check\n",
    "assert len(color_seq)  == len(val_seq)"
   ]
  },
  {
   "cell_type": "markdown",
   "metadata": {},
   "source": [
    " The parameter-settings used in the next cell are almost all\n",
    " settings defined for the hand labeling example, including the layout `lm_pos`.  \n",
    " The sole exceptions are the `color_seq` and `val_seq` derived  in the previous\n",
    " cell.  The result is a graph identical in color and lyayout to what we did\n",
    " before, except for the color added by community discovery."
   ]
  },
  {
   "cell_type": "code",
   "execution_count": null,
   "metadata": {},
   "outputs": [],
   "source": [
    "(_,_) = draw_color_graph (lm, \"Community\", pos= lm_pos, \n",
    "                          color_seq=color_seq,val_seq=val_seq,\n",
    "                          labels=lm_labels, offset_dict= lm_offset_dict,\n",
    "                          node_size= lm_node_size, fontsize=lm_fontsize)"
   ]
  },
  {
   "cell_type": "markdown",
   "metadata": {},
   "source": [
    "Notice how there is a lot of agreement between the communities the community detection\n",
    "algorithm found and the way the layout algorithm groups nodes:   The nodes of the same\n",
    "color are generally close together in the graph.\n",
    "\n",
    "Notice also how different the layout is from that of the Anna Karenina graph.  This is in part\n",
    "due to the choice of `distance_between_nodes` in that graph. In this picture, we use\n",
    "the default."
   ]
  },
  {
   "cell_type": "markdown",
   "metadata": {
    "id": "VVeS4abmESc2"
   },
   "source": [
    "## Adding Communities II"
   ]
  },
  {
   "cell_type": "markdown",
   "metadata": {
    "id": "4VMN4FWyESc2"
   },
   "source": [
    "In this section we continue looking at visualizations related to community discovery algorithms.\n",
    "\n",
    "As we just saw, one of the most important uses of community discovery algorithms is to discover structure\n",
    "implicit in the graph's connections, perhaps even indicative of functional distinctions\n",
    "within the real world relationships the graph is modeling.\n",
    "\n",
    "To evaluate a community discovery algorithm, then, it's often useful to \n",
    "find graphs for which there are known meaningful divisions and see how well\n",
    "the algorithm does at discovering those divisions.  The *Les Miserables* graph\n",
    "used in the previous example does not have this feature; readers of\n",
    "the book may have intuitions about the various groups the characters fall into,\n",
    "but there's no generally agreed on final answer.  \n",
    "\n",
    "A graph that does have natural groupings, however, is Zachary's karate graph.\n",
    "In this case we have the **club** attribute, which acording to Zachary,\n",
    "captures the two factions the club eventually split into.  "
   ]
  },
  {
   "cell_type": "code",
   "execution_count": null,
   "metadata": {
    "id": "2UAaNLAuESc2"
   },
   "outputs": [],
   "source": [
    "import networkx as nx\n",
    "from networkx.algorithms.community import modularity_max\n",
    "kn = nx.karate_club_graph()"
   ]
  },
  {
   "cell_type": "markdown",
   "metadata": {
    "id": "z-hynmalESc2"
   },
   "source": [
    "We run the algorithm and create a dictionary containing each node's community."
   ]
  },
  {
   "cell_type": "code",
   "execution_count": null,
   "metadata": {
    "id": "MNzo0ctRrlYB"
   },
   "outputs": [],
   "source": [
    "# A list of lists of node.  Each list in partitions is an inferred community\n",
    "partitions = modularity_max.greedy_modularity_communities(kn)\n",
    "## node -> partition index (community) of node\n",
    "partition_dict = dict((n,i) for (i,p) in enumerate(partitions) for n in p)"
   ]
  },
  {
   "cell_type": "markdown",
   "metadata": {},
   "source": [
    "We add the node attributes we are going to use in drawing the pictures\n",
    "below:\n",
    "\n",
    "1.  'Cluster''n]:  The cluster the community discovery algorithm found  for node n (0,1, or 2).\n",
    "2.  'Purity'[n]: The Purity Status of the cluster assigned to node n.  This is the club for node n\n",
    "     if it agrees with the club for the cluster; otherwise it is \"misclassified'.  The club\n",
    "     for the cluster is simply the club the majority of its members belong to."
   ]
  },
  {
   "cell_type": "code",
   "execution_count": null,
   "metadata": {
    "colab": {
     "base_uri": "https://localhost:8080/"
    },
    "id": "jceg82w9ESc2",
    "outputId": "c65bc49c-bfbb-4f11-bbad-4a365ad813f1",
    "scrolled": true
   },
   "outputs": [],
   "source": [
    "from collections import Counter\n",
    "# We create a dictionary assigning a club label to every cluster\n",
    "# the club label for a cluster is the club the plurality\n",
    "# of its members belong to.\n",
    "best_rep = {}\n",
    "for (i,partition) in enumerate(partitions):\n",
    "    # Counte the number of members for each club in partition\n",
    "    ctr = Counter([kn.nodes[n]['club'] for n in partition])\n",
    "    best_rep[i] = ctr.most_common(1)[0][0]\n",
    "\n",
    "print(best_rep)\n",
    "\n",
    "# Next we add a new attribute `Purity` recording whenever a node \n",
    "# does not belong to the best represented club of its cluster by assigning that node \n",
    "# the `purity` value 'misclassified'. Otherwise the `Purity` value is \n",
    "# the same as club value.\n",
    "for n in kn.nodes():\n",
    "    com,club = partition_dict[n], kn.nodes[n]['club']\n",
    "    # n gets its cluster membership as an attribute\n",
    "    kn.nodes[n]['Cluster'] = com\n",
    "    # n gets its purity status as an attribute\n",
    "    kn.nodes[n]['Purity'] = club if club == best_rep[com] else 'misclassified'\n",
    "\n",
    "# This is the algorithm performance classes: 2 clubs plus misclassified.\n",
    "classes = sorted(list({kn.nodes[n]['Purity'] for n in kn.nodes()}))\n",
    "communities = sorted(list({kn.nodes[n]['Cluster'] for n in kn.nodes()}))\n",
    "print(f\"{len(set(communities))} Communities found\")"
   ]
  },
  {
   "cell_type": "markdown",
   "metadata": {},
   "source": [
    "Summing up, there are  now three attributes assigned \n",
    "to every node of karate club grap, illustrated below by node 0:"
   ]
  },
  {
   "cell_type": "code",
   "execution_count": null,
   "metadata": {},
   "outputs": [],
   "source": [
    "kn.nodes()[0]"
   ]
  },
  {
   "cell_type": "markdown",
   "metadata": {},
   "source": [
    "We see that node 0 represents a person belonging to the Mr. Hi faction ('club=Mr. Hi'),\n",
    "and assigned to cluster 2 by the community discovery algorithm ('Cluster=2').   We also \n",
    "see that the majority of the members of cluster 2 are members of the Mr. Hi faction\n",
    "'Purity=Mr. Hi').\n",
    "\n",
    "On the other hand we have node 8:"
   ]
  },
  {
   "cell_type": "code",
   "execution_count": null,
   "metadata": {},
   "outputs": [],
   "source": [
    "kn.nodes()[8]"
   ]
  },
  {
   "cell_type": "markdown",
   "metadata": {},
   "source": [
    "Node 8 also represents a person belonging to the Mr. Hi faction ('club=Mr. Hi'),\n",
    "but node 8 was assigned to cluster 0 ('Cluster=0'), and since\n",
    "a majority of the members of cluster 0 belong to the Officer faction,\n",
    "node 8 receives the 'Purity value `'misclassified'`\n",
    "\n",
    "Below we draw a picture to visualize the performance of the community\n",
    "detection algorithm."
   ]
  },
  {
   "cell_type": "code",
   "execution_count": null,
   "metadata": {},
   "outputs": [],
   "source": [
    "def choose_colors (color_distance, color_palette = plt.cm.tab20c.colors):\n",
    "    \"\"\"\n",
    "    Pick colors that are C{color_distance} apart in the discrete color palette.\n",
    "    \n",
    "    Increase distance for greater color discrimination.\n",
    "    \"\"\"\n",
    "    color_cyc = plt.cycler(\"color\", color_palette)\n",
    "    # Start a cycle\n",
    "    closed_color_cyc = color_cyc()\n",
    "    # Color seq for default club and club graphs\n",
    "    color_seq = [c['color'] for (i,c) in zip(range(len(color_cyc)),closed_color_cyc) \n",
    "                 if i%color_distance == 0]\n",
    "    return color_seq"
   ]
  },
  {
   "cell_type": "code",
   "execution_count": null,
   "metadata": {
    "colab": {
     "base_uri": "https://localhost:8080/",
     "height": 535
    },
    "id": "OBizRNtHESc2",
    "outputId": "2aca0151-6621-440a-f347-71be2439bfe0"
   },
   "outputs": [],
   "source": [
    "from collections import Counter\n",
    "from matplotlib import pyplot as plt\n",
    "\n",
    "# Color seq for clubs \n",
    "color_seq = choose_colors (color_distance = 3)\n",
    "# Color seq for clusters (communities)\n",
    "color_seq2 = choose_colors (color_distance = 2)"
   ]
  },
  {
   "cell_type": "code",
   "execution_count": null,
   "metadata": {},
   "outputs": [],
   "source": [
    "################# Plotting Code ###########################\n",
    "# Ask for  three sidebyside subplots, _f is the figure, which we wont use\n",
    "# Therefore ask for figsize (16,6): much more width than height\n",
    "_f, (ax1, ax2, ax3) = plt.subplots(1, 3, sharey=True,figsize=(16,6))\n",
    "# filenames to save images in if we're saving images\n",
    "fn1,fn2 = None, None\n",
    "#fn1,fn2 = \"karate_club.png\",\"karate_club_purity.png\"\n",
    "# Layout the graph, keep random state to enable saving nice layout\n",
    "kn_seed=48\n",
    "kn_fontsize,kn_nodesize,kn_node_edgecolor =11,350,'darkgreen'\n",
    "kpos = nx.spring_layout(kn,seed=kn_seed)\n",
    "kclub_color_dict, _kpos =  draw_color_graph (kn, \"club\", pos= kpos, plt_file=fn1,\n",
    "                                            ax=ax1, color_seq= color_seq, node_size=kn_nodesize,\n",
    "                                            val_seq=classes,fontsize=kn_fontsize,\n",
    "                                            node_edgecolor=kn_node_edgecolor)\n",
    "title1 = ax1.set_title(\"Zachary's factions\")\n",
    "#cls_attr = 'Purity', \n",
    "kclub_color_dict2, _kpos2 =  draw_color_graph (kn, \"Purity\", pos= kpos, plt_file=fn2,\n",
    "                                               ax=ax2, color_seq= color_seq, node_size=kn_nodesize,\n",
    "                                               val_seq=classes,fontsize=kn_fontsize,\n",
    "                                               node_edgecolor=kn_node_edgecolor)\n",
    "title2 = ax2.set_title(\"Clusters default factions [+mislabeled]\")\n",
    "#cls_attr = 'Purity', \n",
    "kclub_color_dict2, _kpos2 =  draw_color_graph (kn, \"Cluster\", pos= kpos, \n",
    "                                               ax=ax3, color_seq= color_seq2,node_size=kn_nodesize,\n",
    "                                               val_seq=communities,fontsize=kn_fontsize,\n",
    "                                               node_edgecolor=kn_node_edgecolor)\n",
    "title3 = ax3.set_title(\"Clusters\")"
   ]
  },
  {
   "cell_type": "markdown",
   "metadata": {
    "id": "o9USSX3pESc2"
   },
   "source": [
    "The graph on the left shows the ground truth communities, Zachary's factions.  The alignment with the clusters found by the community discovery algorithm is shown in the middle. The nodes in each cluster are colored in accordance with their **best-represented faction**, except that a third color is used for those nodes that have been misclassified by the community discovery algorithm.\n",
    "\n",
    "We see that nodes 8 and 9 have been 'misclassified' (quantitatively, this mirrors the performance we got when we simulated the Girvan Newman algorithm to split this graph, though we misclassified a different set of nodes).   Nodes 8 and 9 are also transitional nodes, each with 2 friendships split between the two factions.  Arguably it is very hard to predict from the link structure alone where they will end up. \n",
    "It also makes sense that such individuals might exist.  In any community fracture, there may be individuals with strong ties on both sides of the fracture; those individuals may face a difficult choice when the fracture occurs.\n",
    "This is a special case of a very general problem with community discovery, and with clustering algorithms in general.  Whatever grouping properties in the real world we are trying to predict with our algorithm, the discriminating features available in the data, in this case the link structure of the graph, may not be sufficient to\n",
    "predict the groups in the real world.\n",
    "\n",
    "The graph on the right shows the 3 clusters found by the community discovery algorithm.  We see that the 0-faction has been split into two clusters we'll call 0a (green) and 0b (orange), and the 33-faction has been recovered almost perfectly. Node 8 has been grouped with the 33-cluster and should be in one of the 0 clusters,  Node 9 has been been grouped with 0b and should be in 33.\n",
    "\n",
    "#### Purity\n",
    "\n",
    "One might complain that there are 3 clusters but there should be 2, but in fact the data Zachary gives us doesn't\n",
    "say that. She tells us there is a split into 2 factions but\n",
    "we don't know if one of those factions can be further divided on similar grounds.  This is a general problem with ground truth communities, especially in social networks.\n",
    "One way to deal with this is to choose an evaluation metric\n",
    "that doesn't pay attention to whether the number of clusters\n",
    "found by the community discovery algorithm agrees with the\n",
    "number of ground truth communities.  Rather we assign \n",
    "each cluster a **best-represented community**,  the ground truth community of the plurality of its cluster members.\n",
    "The **purity** of a cluster is the proportion of its members belonging to that best-represented community. The total purity of all clusters is the proportion of nodes whose ground truth community agrees with the best- represented community of their cluster.  The worst possible purity score is .5 and the best possible purity score is 1.0. Note that it is possible to get a perfect purity score in the situation we see above, when the algorithm finds 3 clusters for 2 ground truth communities.\n",
    "\n",
    "Based on the picture above, we see that the karate club clustering isn't perfectly pure; in fact, 32 of the 34 club members belong to ground truth communities that agree with\n",
    "the best-represented community of their cluster, that is, the total purity is .941, which is still pretty good.\n",
    "\n",
    "A criticism that is sometimes made of purity as an evaluation measure is that it doesn't penalize a partition for having a lot of partitions with a small number\n",
    "of members.  In fact, one can guarantee a perfect purity\n",
    "score by having all the partitions have exactly one member. There are other metrics\n",
    "that try to address this concern while trying to preserve some of\n",
    "the intuitions of purity, but that leads us down a fairly deep rabbit hole.\n",
    "For more on the issues and a look at some of the implemented solutions,\n",
    "see [the scikit learn docs on clustering metrics.](https://www.tutorialspoint.com/scikit_learn/scikit_learn_clustering_performance_evaluation.htm)\n",
    "\n",
    "The next cell provides some code for computing purity.\n"
   ]
  },
  {
   "cell_type": "code",
   "execution_count": null,
   "metadata": {
    "colab": {
     "base_uri": "https://localhost:8080/"
    },
    "id": "kFnGYPpX3Dai",
    "outputId": "71e9ef46-f928-44f5-ecc7-06aeb06f96c8"
   },
   "outputs": [],
   "source": [
    "import numpy as np\n",
    "from sklearn import metrics\n",
    "\n",
    "def purity_score(y_true, y_pred,verbose=False):\n",
    "    # compute contingency matrix (also called confusion matrix)\n",
    "    CM = metrics.cluster.contingency_matrix(y_true, y_pred)\n",
    "    if verbose:\n",
    "        print(CM)\n",
    "    # np.amax(... axis=0) returns the max in each column\n",
    "    # i.e. the number of members in each cluster belonging\n",
    "    # to the best represented community.\n",
    "    return np.sum(np.amax(CM, axis=0)) / np.sum(CM) \n",
    "\n",
    "y_pred = [kn.nodes[n]['Cluster'] for n in kn.nodes()]\n",
    "y_true = [kn.nodes[n]['club'] for n in kn.nodes()]\n",
    "\n",
    "print(f'32/34: {32/34:.3f} Purity score: {purity_score(y_true, y_pred):.3f}')"
   ]
  },
  {
   "cell_type": "markdown",
   "metadata": {
    "id": "tTJ0462B7GML"
   },
   "source": [
    "The contingency matrix `CM` being used to compute purity is\n",
    "a nice thing to eyeball.  If there are `m` ground truth communities and `n` clusters, `CM` has shape `m x n` and `CM[i,j]` is the number of members of community `i` belonging to cluster `j`.\n",
    "\n",
    "In our case we have 2 ground truth communities, both with\n",
    "17 members, split quite unevenly among 3 clusters. The columns tell us how each cluster is split up among the two ground truth communities."
   ]
  },
  {
   "cell_type": "code",
   "execution_count": null,
   "metadata": {
    "colab": {
     "base_uri": "https://localhost:8080/"
    },
    "id": "nq_m2-8i63Tm",
    "outputId": "773fd0e2-8244-4baa-8280-16b2f3978cff"
   },
   "outputs": [],
   "source": [
    "CM = metrics.cluster.contingency_matrix(y_true, y_pred)\n",
    "CM"
   ]
  },
  {
   "cell_type": "markdown",
   "metadata": {},
   "source": [
    "#### A small improvement\n",
    "\n",
    "But hold on! There's a piece of information we forgot to use: the **weights** on the edges.\n",
    "These come directly from Zachary's paper and reflect the intensity of each of the\n",
    "relationships represented by an edge.\n",
    "\n",
    "The community discovery algorithm can be told to pay attention to a numerical valued attribute\n",
    "which tells it how much importance to give each link. We merely need to tell it the name of the attribute\n",
    "the edge importance is stored in.\n",
    "\n",
    "In our case that is:"
   ]
  },
  {
   "cell_type": "code",
   "execution_count": null,
   "metadata": {},
   "outputs": [],
   "source": [
    "kn[8][0]"
   ]
  },
  {
   "cell_type": "markdown",
   "metadata": {},
   "source": [
    "Let's redo everything done above that\n",
    "depends on the algorithm's choices, with the\n",
    "one small change that we tell it to use the \"weight\" attribute to measure\n",
    "the importance of an edge. Then we'll redraw using the same layout."
   ]
  },
  {
   "cell_type": "code",
   "execution_count": null,
   "metadata": {
    "scrolled": false
   },
   "outputs": [],
   "source": [
    "partitions = modularity_max.greedy_modularity_communities(kn,weight=\"weight\")\n",
    "partition_dict = dict((n,i) for (i,p) in enumerate(partitions) for n in p)\n",
    "\n",
    "best_rep = {}\n",
    "for (i,partition) in enumerate(partitions):\n",
    "    ctr = Counter([kn.nodes[n]['club'] for n in partition])\n",
    "    best_rep[i] = ctr.most_common(1)[0][0]\n",
    "\n",
    "for n in kn.nodes():\n",
    "    com,club = partition_dict[n], kn.nodes[n]['club']\n",
    "    # n gets its cluster membership as an attribute\n",
    "    kn.nodes[n]['Cluster'] = com\n",
    "    # n gets its purity status as an attribute\n",
    "    kn.nodes[n]['Purity'] = club if club == best_rep[com] else 'misclassified'\n",
    "\n",
    "classes = sorted(list({kn.nodes[n]['Purity'] for n in kn.nodes()}))\n",
    "communities = sorted(list({kn.nodes[n]['Cluster'] for n in kn.nodes()}))\n",
    "print(f\"{len(set(communities))} Communities found\")\n",
    "\n",
    "################# Plotting Code ###########################\n",
    "\n",
    "_f, (ax1, ax2, ax3) = plt.subplots(1, 3, sharey=True,figsize=(16,6))\n",
    "kclub_color_dict, _kpos =  draw_color_graph (kn, \"club\", pos= kpos, plt_file=fn1,\n",
    "                                            ax=ax1, color_seq= color_seq, node_size=kn_nodesize,\n",
    "                                            val_seq=classes,fontsize=kn_fontsize,\n",
    "                                            node_edgecolor=kn_node_edgecolor)\n",
    "title1 = ax1.set_title(\"Zachary's factions\")\n",
    "kclub_color_dict2, _kpos2 =  draw_color_graph (kn, \"Purity\", pos= kpos, plt_file=fn2,\n",
    "                                               ax=ax2, color_seq= color_seq, node_size=kn_nodesize,\n",
    "                                               val_seq=classes,fontsize=kn_fontsize,\n",
    "                                               node_edgecolor=kn_node_edgecolor)\n",
    "title2 = ax2.set_title(\"Clusters default factions [+mislabeled]\")\n",
    "kclub_color_dict2, _kpos2 =  draw_color_graph (kn, \"Cluster\", pos= kpos, \n",
    "                                               ax=ax3, color_seq= color_seq2,node_size=kn_nodesize,\n",
    "                                               val_seq=communities,fontsize=kn_fontsize,\n",
    "                                               node_edgecolor=kn_node_edgecolor)\n",
    "title3 = ax3.set_title(\"Clusters\")"
   ]
  },
  {
   "cell_type": "markdown",
   "metadata": {},
   "source": [
    "Performance improved!  Now only one node, node 8, is misclassified!\n",
    "\n",
    "As might be expected, our purity score improves too:"
   ]
  },
  {
   "cell_type": "code",
   "execution_count": null,
   "metadata": {},
   "outputs": [],
   "source": [
    "y_pred = [kn.nodes[n]['Cluster'] for n in kn.nodes()]\n",
    "y_true = [kn.nodes[n]['club'] for n in kn.nodes()]\n",
    "\n",
    "print(f'Old Purity Score: {32/34:.3f} 33/34: {33/34:.3f} New Purity score: {purity_score(y_true, y_pred):.3f}')"
   ]
  },
  {
   "cell_type": "markdown",
   "metadata": {},
   "source": [
    "And that is because we have two perfectly pure clusters:"
   ]
  },
  {
   "cell_type": "code",
   "execution_count": null,
   "metadata": {},
   "outputs": [],
   "source": [
    "CM = metrics.cluster.contingency_matrix(y_true, y_pred)\n",
    "CM"
   ]
  },
  {
   "cell_type": "code",
   "execution_count": null,
   "metadata": {
    "id": "sKD4XNF_ESc4"
   },
   "outputs": [],
   "source": []
  }
 ],
 "metadata": {
  "colab": {
   "collapsed_sections": [
    "eI7rxwT8EScz",
    "nP3L0IKKEScz",
    "dy-y_PzOESc0",
    "1O7fitw2ESc0",
    "OMHLfRDnESc0",
    "IWT-KLzLESc0",
    "jpUI1USYESc0",
    "wNuuht5rESc0",
    "Igqm9MDxESc1",
    "yHeK0QdyESc1",
    "OsFj8ET-ESc1",
    "PTWGqxJYESc1",
    "3YITeQs6ESc1",
    "7VSQgvf6eC4K",
    "csMycd_KESc1",
    "cMotnM1gESc2",
    "JzeB8pgmVGzd",
    "HRxuhpYgESc2",
    "VVeS4abmESc2",
    "_qmzbuGIESc3",
    "9BMd79ebESc4"
   ],
   "name": "new_using_networkx.ipynb",
   "provenance": []
  },
  "kernelspec": {
   "display_name": "Python 3 (ipykernel)",
   "language": "python",
   "name": "python3"
  },
  "language_info": {
   "codemirror_mode": {
    "name": "ipython",
    "version": 3
   },
   "file_extension": ".py",
   "mimetype": "text/x-python",
   "name": "python",
   "nbconvert_exporter": "python",
   "pygments_lexer": "ipython3",
   "version": "3.10.6"
  },
  "toc": {
   "base_numbering": 1,
   "nav_menu": {
    "height": "423px",
    "width": "252px"
   },
   "number_sections": true,
   "sideBar": true,
   "skip_h1_title": false,
   "title_cell": "Table of Contents",
   "title_sidebar": "Contents",
   "toc_cell": false,
   "toc_position": {},
   "toc_section_display": "block",
   "toc_window_display": false
  }
 },
 "nbformat": 4,
 "nbformat_minor": 1
}
