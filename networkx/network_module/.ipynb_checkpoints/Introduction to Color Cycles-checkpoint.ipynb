{
 "cells": [
  {
   "cell_type": "markdown",
   "id": "30418f68",
   "metadata": {},
   "source": [
    "# Using color cycles\n",
    "\n",
    "When the number of colors is unknown in advance, as when running a community discovery algorithm, color cycles are helpful.  "
   ]
  },
  {
   "cell_type": "code",
   "execution_count": 1,
   "id": "29107218",
   "metadata": {},
   "outputs": [
    {
     "name": "stdout",
     "output_type": "stream",
     "text": [
      "Num colors 3\n",
      "{'color': 'r', 'style': 'plain'}\n",
      "{'color': 'g', 'style': 'dashed'}\n",
      "{'color': 'b', 'style': 'dotted'}\n"
     ]
    }
   ],
   "source": [
    "from cycler import cycler\n",
    "# a cycler Is a container containing dictionaries, all with the sam ekeys\n",
    "# So we can simultaneously cycle through colors and line styles\n",
    "color_cycle = cycler(color=['r', 'g', 'b'],style=['plain','dashed','dotted'])\n",
    "\n",
    "Ncolors = len(color_cycle)\n",
    "print('Num colors',Ncolors)\n",
    "#  We picked 3 color/line style to cylce through.\n",
    "for v in color_cycle:\n",
    "  print(v)"
   ]
  },
  {
   "cell_type": "code",
   "execution_count": 2,
   "id": "b83a3e70",
   "metadata": {},
   "outputs": [
    {
     "name": "stdout",
     "output_type": "stream",
     "text": [
      "==============\n",
      "{'color': 'r'}\n",
      "{'color': 'g'}\n",
      "{'color': 'b'}\n",
      "==============\n",
      "{'color': 'r'}\n",
      "{'color': 'g'}\n",
      "{'color': 'b'}\n",
      "==============\n",
      "{'color': 'r'}\n",
      "{'color': 'g'}\n",
      "{'color': 'b'}\n",
      "==============\n",
      "{'color': 'r'}\n",
      "{'color': 'g'}\n",
      "{'color': 'b'}\n"
     ]
    }
   ],
   "source": [
    "from cycler import cycler\n",
    "color_cycle = cycler(color=['r', 'g', 'b'])\n",
    "Ncolors = len(color_cycle)\n",
    "# Turn it into an infinite iterator\n",
    "cc = color_cycle()\n",
    "# Show the cycler cycling\n",
    "for (i,c) in zip(range(4*Ncolors),cc):\n",
    "     if i%Ncolors == 0:\n",
    "       print('='*14)\n",
    "     print(c)"
   ]
  },
  {
   "cell_type": "markdown",
   "id": "6a96bb31",
   "metadata": {},
   "source": [
    "Color cycles are often used for configuring matplotlib."
   ]
  },
  {
   "cell_type": "code",
   "execution_count": 3,
   "id": "c89a8267",
   "metadata": {},
   "outputs": [
    {
     "name": "stdout",
     "output_type": "stream",
     "text": [
      "Num colors 20\n",
      "{'color': (0.19215686274509805, 0.5098039215686274, 0.7411764705882353)}\n",
      "{'color': (0.4196078431372549, 0.6823529411764706, 0.8392156862745098)}\n",
      "{'color': (0.6196078431372549, 0.792156862745098, 0.8823529411764706)}\n"
     ]
    },
    {
     "data": {
      "image/png": "[encoded data removed]",
      "text/plain": [
       "<Figure size 640x480 with 1 Axes>"
      ]
     },
     "metadata": {},
     "output_type": "display_data"
    }
   ],
   "source": [
    "from matplotlib import pyplot as plt\n",
    "Z = plt.cycler(\"color\", plt.cm.tab20c.colors)\n",
    "# When plotting cycle through this sequence\n",
    "from matplotlib import rcParams\n",
    "rcParams[\"axes.prop_cycle\"] = Z\n",
    "zz = Z()\n",
    "# How many colors willI cycle through?\n",
    "print('Num colors', len(Z))\n",
    "for (i,c) in zip(range(3),zz):\n",
    "     print(c)\n",
    "fig, ax = plt.subplots()\n",
    "# add 1 to the default\n",
    "linewidth= 2.5\n",
    "# Plot a line for every 4th color in cycle, go partway intio 2nd cycle\n",
    "for i in range(25):\n",
    "    if i%4 ==0:\n",
    "      ax.plot([0,1], [i, 2*i],linewidth=linewidth)\n",
    "    else:\n",
    "      ax.plot([0],[0],linewidth)\n",
    "\n",
    "#plt.show()"
   ]
  },
  {
   "cell_type": "code",
   "execution_count": null,
   "id": "49564b20",
   "metadata": {},
   "outputs": [],
   "source": [
    "def new_draw_networkx(g,fileName=None, cls_attr='Community', ax = None,\n",
    "                   prog = 'neato', pos = None, color_seq = None,\n",
    "                   val_seq = None,with_labels=False,show=False, title=None,\n",
    "                   use_graphviz=False,figsize=(8,8),seed=None):\n",
    "    \"\"\"\n",
    "    Draws graph uses nx drawing tools, which call matplotlib (pyplot) as plt.\n",
    "\n",
    "    Use color_seq to specify colors used to represent membership in set\n",
    "    of nodes bearing attribute C{cls_attr}.  By default this is C{Community},\n",
    "    but it can be any node attribute  represented in C{node_dict}.\n",
    "\n",
    "    Pass in C{color_seq} to use a particular set of node colors.\n",
    "    Optionally use val_seq in conjunction to map particular colors to particular values.\n",
    "\n",
    "    Can optionally pass in a previously computed node layout as C{pos}.  Useful\n",
    "    for comparing versions of graph colored according to different\n",
    "    attributes.\n",
    "    \"\"\"\n",
    "    ## Get the range of the attribute function.\n",
    "    #node_dict = dict(g.nodes(data=True))\n",
    "    node_dict = g.nodes\n",
    "    val_set = set([node_dict[n][cls_attr] for n in g.nodes()])\n",
    "    if color_seq is None:\n",
    "        # Use integers and default color map\n",
    "        color_seq = list(range(len(val_set)))\n",
    "    ## Assign a color index to each member of val_set\n",
    "    if val_seq is None:\n",
    "        val_seq = val_set\n",
    "    else:\n",
    "        assert(val_set.issubset(val_seq)), 'Data vals include values not in val_seq'\n",
    "    color_dict = dict((v,color_seq[i]) for (i,v) in enumerate(val_seq))\n",
    "    colorList = [color_dict[node_dict[n][cls_attr]] for n in g.nodes()]\n",
    "    if ax is None:\n",
    "        plt.figure(figsize=figsize)\n",
    "    if title:\n",
    "        plt.title(title)\n",
    "    if pos is None and use_graphviz:\n",
    "        pos = nx.graphviz_layout(g,prog=prog)\n",
    "        # The next two lines seem to be out of date, since they raise a \"Requires pygraphviz\" error\n",
    "        #Gprime = nx.to_agraph(g)\n",
    "        #Gprime.layout(prog=prog)\n",
    "    elif pos is None:\n",
    "        pos = nx.spring_layout(g,seed=seed)\n",
    "    nx.draw(g,pos,ax = ax, node_color=colorList,with_labels=with_labels)\n",
    "    if fileName is not None:\n",
    "        plt.savefig(fileName)\n",
    "    if show:\n",
    "        plt.show()\n",
    "    return color_dict, pos\n"
   ]
  }
 ],
 "metadata": {
  "kernelspec": {
   "display_name": "Python 3 (ipykernel)",
   "language": "python",
   "name": "python3"
  },
  "language_info": {
   "codemirror_mode": {
    "name": "ipython",
    "version": 3
   },
   "file_extension": ".py",
   "mimetype": "text/x-python",
   "name": "python",
   "nbconvert_exporter": "python",
   "pygments_lexer": "ipython3",
   "version": "3.10.6"
  }
 },
 "nbformat": 4,
 "nbformat_minor": 5
}
