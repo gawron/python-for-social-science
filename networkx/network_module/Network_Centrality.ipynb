{
 "cells": [
  {
   "cell_type": "markdown",
   "metadata": {},
   "source": [
    "## Networks : Powers of adjacency matrices, eigenvectors"
   ]
  },
  {
   "cell_type": "markdown",
   "metadata": {},
   "source": [
    "Using as background Newman's discussion of\n",
    "Eigenvector Centrality and Katz Centrality in Chapter 7 of **Networks: An Introduction**.\n",
    "\n",
    "Preparing for that discussion in Chapter 7, we want to find an expression in powers $m$ of matrix \n",
    "$A$ that approaches 0 as $m \\to \\infty$."
   ]
  },
  {
   "cell_type": "markdown",
   "metadata": {},
   "source": [
    "Make an n x n symmetric adjacency matrix for an undirected graph with no  self-loops."
   ]
  },
  {
   "cell_type": "code",
   "execution_count": 6,
   "metadata": {},
   "outputs": [],
   "source": [
    "import numpy as np\n",
    "import random\n",
    "\n",
    "\n",
    "def make_symmetric_adjacency_matrix (n,no_self_loops=1,seed=None):\n",
    "    \"\"\"\n",
    "    no_self_loops=1: We assume A has no self loops, so \n",
    "    the diagonal is filled with 0s.\n",
    "    \"\"\"\n",
    "    A = np.zeros((n,n))\n",
    "    if seed is not None:\n",
    "        random.seed(seed)\n",
    "    for i in range (n):\n",
    "        for j in range(i + no_self_loops, n):\n",
    "            bit = random.randint(0,1)\n",
    "            A[i,j] = bit\n",
    "            A[j,i] = bit\n",
    "    return A\n",
    "\n",
    "\n",
    "n = 4"
   ]
  },
  {
   "cell_type": "markdown",
   "metadata": {},
   "source": [
    "An adjacency matrix is a square matrix (or 2-dimensional array in Python) consisting entirely of 0s and 1s that \n",
    "serves as one way of defining a graph.  If $A[i,j] == 1$, then there is a edge\n",
    "from node $i$ to node $j$.  If the graph is undirected, the matrix is symmetric.  That is, \n",
    "$A[i,j] == A[j,i]$."
   ]
  },
  {
   "cell_type": "code",
   "execution_count": 9,
   "metadata": {},
   "outputs": [
    {
     "data": {
      "text/plain": [
       "array([[0., 0., 0., 1.],\n",
       "       [0., 0., 1., 1.],\n",
       "       [0., 1., 0., 1.],\n",
       "       [1., 1., 1., 0.]])"
      ]
     },
     "execution_count": 9,
     "metadata": {},
     "output_type": "execute_result"
    }
   ],
   "source": [
    "A = make_symmetric_adjacency_matrix (n,seed=67)\n",
    "A"
   ]
  },
  {
   "cell_type": "markdown",
   "metadata": {},
   "source": [
    "You can use an adjacency matrix to create a `networkx` graph."
   ]
  },
  {
   "cell_type": "code",
   "execution_count": 10,
   "metadata": {},
   "outputs": [
    {
     "data": {
      "image/png": "[encoded data removed]",
      "text/plain": [
       "<Figure size 640x480 with 1 Axes>"
      ]
     },
     "metadata": {},
     "output_type": "display_data"
    }
   ],
   "source": [
    "import networkx as nx\n",
    "G = nx.from_numpy_matrix(A)\n",
    "nx.draw_networkx(G)"
   ]
  },
  {
   "cell_type": "markdown",
   "metadata": {},
   "source": [
    "Let's look at some powers of A.  Recall that the `@` represents matrix multiplication, so  $A^{n}$ has very much\n",
    "the same meaning as $2^{n}$, with matrix multiplication replacing multiplication."
   ]
  },
  {
   "cell_type": "code",
   "execution_count": 11,
   "metadata": {},
   "outputs": [
    {
     "data": {
      "text/plain": [
       "array([[1., 1., 1., 0.],\n",
       "       [1., 2., 1., 1.],\n",
       "       [1., 1., 2., 1.],\n",
       "       [0., 1., 1., 3.]])"
      ]
     },
     "execution_count": 11,
     "metadata": {},
     "output_type": "execute_result"
    }
   ],
   "source": [
    "A2 = A @ A\n",
    "A2"
   ]
  },
  {
   "cell_type": "markdown",
   "metadata": {},
   "source": [
    "This actually has an interpretation we'll come back to: $A^{2}[i,j]$ is the number of paths of length \n",
    "2 between vertex $i$ and vertex $j$.  For example, there are two paths of length 2 between vertex 1 and vertex 1.\n",
    "\n",
    "$$\n",
    "\\begin{array}[t]{l}\n",
    "1 \\rightarrow 2 \\rightarrow 1\\\\\n",
    "1 \\rightarrow 3 \\rightarrow 1\n",
    "\\end{array}\n",
    "$$"
   ]
  },
  {
   "cell_type": "code",
   "execution_count": 12,
   "metadata": {},
   "outputs": [
    {
     "data": {
      "text/plain": [
       "array([[0., 1., 1., 3.],\n",
       "       [1., 2., 3., 4.],\n",
       "       [1., 3., 2., 4.],\n",
       "       [3., 4., 4., 2.]])"
      ]
     },
     "execution_count": 12,
     "metadata": {},
     "output_type": "execute_result"
    }
   ],
   "source": [
    "A3 = A2 @ A\n",
    "A3"
   ]
  },
  {
   "cell_type": "markdown",
   "metadata": {},
   "source": [
    "Continuing our interpretation examples: $A3[2,3]$  is 4.  Therefore, there are 4 paths of length 3 between vertex 2 and vertex 3.\n",
    "\n",
    "$$\n",
    "\\begin{array}[t]{l}\n",
    "2 \\rightarrow 3\\rightarrow 1 \\rightarrow 3\\\\\n",
    "2 \\rightarrow 3 \\rightarrow 0 \\rightarrow 3\\\\\n",
    "2 \\rightarrow 3\\rightarrow  2 \\rightarrow 3\\\\\n",
    "2 \\rightarrow 1\\rightarrow  2\\rightarrow 3\\\\\n",
    "\\end{array}\n",
    "$$"
   ]
  },
  {
   "cell_type": "markdown",
   "metadata": {},
   "source": [
    "Let's think about why this interpretation works.  Every path of length 3 from vertex 2 to vertex 3\n",
    "must be an extension of \n",
    "\n",
    "  1. a path of length 2 from vertex 2 to some other vertex $i$;and\n",
    "  \n",
    "  2. $i$ must be connected to vertex 3.\n",
    " \n",
    "The information we need for (1) is in $A2[2,:]$ and the information we need for (2) is in \n",
    "$A[:,3]$ and according to the definition of matrix multiplication\n",
    "\n",
    "$$\n",
    "(A2 @ A)[2,3] = A2[2,:] \\cdot A[:,3] = \\sum_i A2[2,i] \\times A[i,3]\n",
    "$$\n",
    "\n",
    "will contain the number of paths satisfying (a) and (b);\n",
    "that is, it sums up how many paths of length 2 from vertex 2 to some vertex $i$\n",
    "can be extended to paths to vertex 3."
   ]
  },
  {
   "cell_type": "code",
   "execution_count": 123,
   "metadata": {},
   "outputs": [
    {
     "data": {
      "text/plain": [
       "array([[ 3.,  4.,  4.,  2.],\n",
       "       [ 4.,  7.,  6.,  6.],\n",
       "       [ 4.,  6.,  7.,  6.],\n",
       "       [ 2.,  6.,  6., 11.]])"
      ]
     },
     "execution_count": 123,
     "metadata": {},
     "output_type": "execute_result"
    }
   ],
   "source": [
    "A4 = A3 @ A\n",
    "A4"
   ]
  },
  {
   "cell_type": "code",
   "execution_count": 124,
   "metadata": {},
   "outputs": [
    {
     "data": {
      "text/plain": [
       "array([[ 2.,  6.,  6., 11.],\n",
       "       [ 6., 12., 13., 17.],\n",
       "       [ 6., 13., 12., 17.],\n",
       "       [11., 17., 17., 14.]])"
      ]
     },
     "execution_count": 124,
     "metadata": {},
     "output_type": "execute_result"
    }
   ],
   "source": [
    "A5 = A4 @ A\n",
    "A5"
   ]
  },
  {
   "cell_type": "markdown",
   "metadata": {},
   "source": [
    "In general this diverges, the numbers getting bigger and bigger.\n",
    "\n",
    "But suppose we take powers of $\\alpha A$ instead of just $A$. As long as $\\alpha^m$ gets\n",
    "smaller faster than the path numbers grow, $(\\alpha A)^m$  can converge to 0.\n",
    "\n",
    "In practice values of $\\alpha$ much smaller than 1 seem to be required.  To illustrate, let's try $\\alpha = .5$."
   ]
  },
  {
   "cell_type": "code",
   "execution_count": 125,
   "metadata": {},
   "outputs": [
    {
     "name": "stdout",
     "output_type": "stream",
     "text": [
      "[[11. 17. 17. 14.]\n",
      " [17. 30. 29. 31.]\n",
      " [17. 29. 30. 31.]\n",
      " [14. 31. 31. 45.]]\n",
      "[[14. 31. 31. 45.]\n",
      " [31. 60. 61. 76.]\n",
      " [31. 61. 60. 76.]\n",
      " [45. 76. 76. 76.]]\n",
      "[[ 45.  76.  76.  76.]\n",
      " [ 76. 137. 136. 152.]\n",
      " [ 76. 136. 137. 152.]\n",
      " [ 76. 152. 152. 197.]]\n",
      "[[ 76. 152. 152. 197.]\n",
      " [152. 288. 289. 349.]\n",
      " [152. 289. 288. 349.]\n",
      " [197. 349. 349. 380.]]\n"
     ]
    },
    {
     "data": {
      "text/plain": [
       "array([[197., 349., 349., 380.],\n",
       "       [349., 638., 637., 729.],\n",
       "       [349., 637., 638., 729.],\n",
       "       [380., 729., 729., 895.]])"
      ]
     },
     "execution_count": 125,
     "metadata": {},
     "output_type": "execute_result"
    }
   ],
   "source": [
    "A6 = A5 @ A\n",
    "print(A6)\n",
    "A7 = A6 @ A\n",
    "print(A7)\n",
    "A8 = A7 @ A\n",
    "print(A8)\n",
    "A9 = A8 @ A\n",
    "print(A9)\n",
    "A10 = A9 @ A\n",
    "A10"
   ]
  },
  {
   "cell_type": "markdown",
   "metadata": {},
   "source": [
    "Looking at the max values in some of the power matrices and multiplying them by $\\alpha^m$, we get:"
   ]
  },
  {
   "cell_type": "code",
   "execution_count": 126,
   "metadata": {},
   "outputs": [
    {
     "data": {
      "text/plain": [
       "76.0"
      ]
     },
     "execution_count": 126,
     "metadata": {},
     "output_type": "execute_result"
    }
   ],
   "source": [
    "A7.max()"
   ]
  },
  {
   "cell_type": "code",
   "execution_count": 127,
   "metadata": {},
   "outputs": [
    {
     "data": {
      "text/plain": [
       "0.59375"
      ]
     },
     "execution_count": 127,
     "metadata": {},
     "output_type": "execute_result"
    }
   ],
   "source": [
    "m,maxval = 7,A7.max()\n",
    "(.5)**m * maxval"
   ]
  },
  {
   "cell_type": "code",
   "execution_count": 128,
   "metadata": {},
   "outputs": [
    {
     "data": {
      "text/plain": [
       "0.76953125"
      ]
     },
     "execution_count": 128,
     "metadata": {},
     "output_type": "execute_result"
    }
   ],
   "source": [
    "m,maxval = 8,A8.max()\n",
    "(.5)**m * maxval"
   ]
  },
  {
   "cell_type": "code",
   "execution_count": 129,
   "metadata": {},
   "outputs": [
    {
     "data": {
      "text/plain": [
       "0.8740234375"
      ]
     },
     "execution_count": 129,
     "metadata": {},
     "output_type": "execute_result"
    }
   ],
   "source": [
    "m,maxval = 10,A10.max()\n",
    "(.5)**m * maxval"
   ]
  },
  {
   "cell_type": "markdown",
   "metadata": {},
   "source": [
    "Not getting smaller, which is what we'd like for an expression with 0 as a limit..  But suppose $\\alpha=.01$."
   ]
  },
  {
   "cell_type": "code",
   "execution_count": 133,
   "metadata": {},
   "outputs": [
    {
     "name": "stdout",
     "output_type": "stream",
     "text": [
      "7.60e-13\n",
      "1.97e-14\n",
      "8.95e-18\n",
      "2.01e-34\n"
     ]
    }
   ],
   "source": [
    "alpha = .01\n",
    "print(f\"{alpha**7 * A7.max():.2e}\")\n",
    "print(f\"{alpha**8 * A8.max():.2e}\")\n",
    "print(f\"{alpha**10 * A10.max():.2e}\")\n",
    "print(f\"{alpha**20 * (A10@A10).max():.2e}\")"
   ]
  },
  {
   "cell_type": "markdown",
   "metadata": {},
   "source": [
    "\n",
    "\n",
    "But all this depends on the convergence of $(\\alpha A)^{m}$.\n",
    "and that works fine for the given example an $\\alpha$-value of .01, \n",
    "but will an $\\alpha$-value of .01 work for all cases?\n",
    "If so, why?  If not, why not?  We next address the question of how to choose $\\alpha$\n",
    "so as to guarantee convergence.\n",
    "\n",
    "Let's consider an iterative process that uses powers of $A$.  For instance, define:\n",
    "\n",
    "$$\n",
    "x_m  = Ax_{m-1}.\n",
    "$$\n",
    "\n",
    "By $x_m$  we mean the $m$th estimate of vector $x$ in our successive estimations of $x$.  \n",
    "We are computing $x$ through an iterative process starting\n",
    "with some given initial value $x_{0}$, and each succeeding value is obtained from the\n",
    "previous simply by multiplying by $A$. It follows:\n",
    "\n",
    "$$\n",
    "x_{m}  = A^{m}x_{0}\n",
    "$$\n",
    "\n",
    "Now whatever $x_{0}$ is, linear algebra tells us we can\n",
    "write $x_{0}$ as a linear combination of the eigenvectors of A:\n",
    "\n",
    "$$\n",
    "x_{0} = \\sum_{i} c_{i} v_{i},\n",
    "$$\n",
    "\n",
    "for appropriate choice of the $c_{i}$. Then \n",
    "\n",
    "$$\n",
    "x_{m} = A^{m} \\sum_{i} c_{i} v_{i} =  \\sum_{i} c_{i} \\kappa_{i}^{m}  v_{i} = \\kappa_{1}^{m} \\sum_{i} c_{i} \\left \\lbrack \\frac{\\kappa_{i}}{\\kappa_{1}}\\right \\rbrack^{m} v_{i} \n",
    "$$\n",
    "\n",
    "where $\\kappa_{1}$ is the leading or largest eigenvalue.  Then, since $\\kappa_{i}/\\kappa_{1} < 1$ whenever $i\\neq 1$,\n",
    "all the $i\\neq 1$ terms will tend toward 0.  Then\n",
    "\n",
    "$$\n",
    "\\lim_{m \\to \\infty} A^{𝑚} 𝑥(0) = \\kappa_{1}^{m} c_{1} \\left \\lbrack \\frac{\\kappa_{1}}{\\kappa_{1}}\\right \\rbrack^{m} v_{1} \n",
    "= \\kappa_{1}^{m} c_{1} v_{1} \n",
    "$$\n",
    "\n",
    "That is, applying $A^{m}$ to **any** vector converges on a vector proportional to $v_{1}$, the first eigenvector of A. The significance of that is that any vector proportional to a first eigenvector $v_{1}$ is still a first eigenvector, that is, it is in the same\n",
    "**eigenspace**, so we will get a vector that is a first eigenvector.  Using the eigenvector\n",
    "we can always easily find the eigenvalue.\n",
    "\n",
    "Returning to $A^{m}$ itself, if we want $\\alpha^{m} A^{m}$ to converge to a matrix with 0 values, we need\n",
    "to use $\\alpha$ such that\n",
    "\n",
    "$$\n",
    "\\alpha \\lt \\kappa_{1}.\n",
    "$$\n",
    "\n",
    "\n",
    "\n",
    "$$\n",
    "\\lim_{m \\to \\infty} \\alpha^{m} A^{𝑚} 𝑥(0) < \\kappa_{1}^{-m} \\kappa_{1}^{m} c_{1} v_{1} = c_{1} v_{1}.\n",
    "$$\n",
    "\n",
    "So we clearly have a bound on the value.  To find the value of the limit, consider the fact\n",
    "that if $\\alpha \\lt \\kappa_{1}^{-1}$ and $\\kappa_{1}^{-1}$ is positive, \n",
    "then there is some $0 < \\eta \\lt 1$ such that $\\alpha = \\eta\\kappa^{-1}$. Then\n",
    "\n",
    "$$\n",
    "\\begin{array}[t]{lcl}\n",
    "\\lim_{m \\to \\infty}\\alpha^{m} A^{𝑚} 𝑥(0) &=& \\lim_{m \\to \\infty} \\eta^{m} \\kappa_{1}^{-m} \\kappa_{1}^{m} c_{1} v_{1} \\\\\n",
    "                                         & = &\\lim_{m \\to \\infty} \\eta^{m} c_{1} v_{1} \\\\\n",
    "                                         &= & {\\mathbf 0},\n",
    "\\end{array}\n",
    "$$\n",
    "\n",
    "since $c_{1}v_{1}$ is constant and $\\eta^m$ dwindles to 0 as $m\\to \\infty$.\n",
    "\n",
    "Alternatively, consider what happens when $\\eta \\gt 1$ (because $\\alpha \\gt \\kappa_{1}^{-1}$).\n",
    "Then $\\eta^m$ diverges to  $\\infty$ and so does $\\eta^{m} c_{1} v_{1}$.\n",
    "\n",
    "Finally, consider what happens when $\\eta = 1$ (because $\\alpha = \\kappa_{1}^{-1}$).\n",
    "This is the same as not using $\\alpha$ at all, and amounts to asking what the limit of\n",
    "the infinite sum is, which as we saw is a first eigenvector."
   ]
  },
  {
   "cell_type": "markdown",
   "metadata": {},
   "source": [
    "Let's try this out on our example above.  First we make  a suitable $\\alpha$."
   ]
  },
  {
   "cell_type": "code",
   "execution_count": 13,
   "metadata": {},
   "outputs": [],
   "source": [
    "from numpy.linalg import eig\n",
    "\n",
    "\n",
    "A = make_symmetric_adjacency_matrix (n,seed=67)\n",
    "\n",
    "def make_alpha (A,eps=.001):\n",
    "    (evals, evecs) = eig(A)\n",
    "    lead_eval_ind = np.argmax(evals)\n",
    "    kappa_1,evec_1 = evals[lead_eval_ind],evecs[lead_eval_ind]\n",
    "    #Alpha just slightly less than kappa^{-1}\n",
    "    return (1/kappa_1) - eps\n",
    "\n",
    "alpha = make_alpha(A)"
   ]
  },
  {
   "cell_type": "markdown",
   "metadata": {},
   "source": [
    "Looking for convergence as we run the powers of A and extract the max values in the matrix\n",
    "to be scaled by a power of our carefully chosen $\\alpha$."
   ]
  },
  {
   "cell_type": "code",
   "execution_count": 15,
   "metadata": {},
   "outputs": [],
   "source": [
    "n = 4\n",
    "x = np.zeros(250)\n",
    "#\n",
    "Ai = np.eye(n)\n",
    "for i in range(250):\n",
    "    x[i] = (alpha**i) * Ai.max()\n",
    "    Ai = A@Ai"
   ]
  },
  {
   "cell_type": "markdown",
   "metadata": {},
   "source": [
    "And we see that after some wiggling, the maximum value of $A^{m}$ commences to head \"straight\" down (the descent is not linear, despite its appearance in the graph).\n"
   ]
  },
  {
   "cell_type": "code",
   "execution_count": 16,
   "metadata": {},
   "outputs": [
    {
     "data": {
      "text/plain": [
       "[<matplotlib.lines.Line2D at 0x7faca7e01f90>]"
      ]
     },
     "execution_count": 16,
     "metadata": {},
     "output_type": "execute_result"
    },
    {
     "data": {
      "image/png": "[encoded data removed]",
      "text/plain": [
       "<Figure size 640x480 with 1 Axes>"
      ]
     },
     "metadata": {},
     "output_type": "display_data"
    }
   ],
   "source": [
    "import matplotlib\n",
    "from matplotlib import pyplot as plt\n",
    "\n",
    "fig, ax = plt.subplots(1)\n",
    "ax.plot(np.arange(1,250),x[1:])"
   ]
  },
  {
   "cell_type": "markdown",
   "metadata": {},
   "source": [
    "Looking at some sample values we confirm what the picture shows: the downward trend begins in the vicinity of $m=20$."
   ]
  },
  {
   "cell_type": "code",
   "execution_count": 308,
   "metadata": {},
   "outputs": [
    {
     "name": "stdout",
     "output_type": "stream",
     "text": [
      "  7: 3.30e-01\n",
      "  8: 3.94e-01\n",
      " 10: 3.78e-01\n",
      " 20: 3.58e-01\n",
      " 40: 3.43e-01\n",
      " 80: 1.18e-01\n",
      "120: 4.03e-02\n",
      "160: 1.38e-02\n"
     ]
    }
   ],
   "source": [
    "\n",
    "x = np.zeros(100)\n",
    "print(f\"  7: {alpha**7 * A7.max():.2e}\")\n",
    "print(f\"  8: {alpha**8 * A8.max():.2e}\")\n",
    "print(f\" 10: {alpha**10 * A10.max():.2e}\")\n",
    "print(f\" 20: {alpha**20 * (A10@A10).max():.2e}\")\n",
    "A40 = A10@A10@A10@A10\n",
    "print(f\" 40: {alpha**40 * A40.max():.2e}\")\n",
    "A80,A120,A160 = A40**2,A40**3,A40**4\n",
    "print(f\" 80: {alpha**80 * (A80).max():.2e}\")\n",
    "print(f\"120: {alpha**120 * (A120).max():.2e}\")\n",
    "print(f\"160: {alpha**160 * (A160).max():.2e}\")"
   ]
  },
  {
   "cell_type": "markdown",
   "metadata": {},
   "source": [
    "#### Katz Centrality\n",
    "\n",
    "In this section, we discuss **Katz Centrality**, introduced in a very highly cited paper\n",
    "[Leo Katz: A New Status Index Derived from Sociometric Index. Psychometrika 18(1):39–43, 1953](https://link.springer.com/content/pdf/10.1007/BF02289026.pdf).\n",
    "\n",
    "The remarks above lead very quickly to an application for our limit.  We start\n",
    "with the following fact. The expression $\\alpha^{m} A^{m}$ arises in the following context:\n",
    "\n",
    "$$\n",
    "(1)\\;\\; \\sigma = \\lim^{\\infty}_{m = 0} \\sum \\alpha^{m}A^{m} \n",
    "$$\n",
    "\n",
    "where $\\sigma$ is the NxN **regular equivalence matrix** (Newman Section 7.12.4) of a network with adjacency matrix A.\n",
    "Two vertices are regularly equivalent if they \"have neighbors\n",
    "who are themselves are similar\". (p. 217) (so they may\n",
    "be similar in this sense, even if they don't actually share any neighbors).\n",
    "Based on our reflections about what $A^{m}$ means, this definition  says\n",
    "two vertices are regularly equivalent if they are connected to many of the same paths, where we\n",
    "consider paths of all lengths.  Moreover, if $0\\lt \\alpha \\lt 1$  (which is how we've been using $\\alpha$),\n",
    "then longer paths will contribute exponentially less to the values in $\\sigma$.\n",
    "\n",
    "Now in order for $\\sigma$ to be well-defined we have to show the limit of this sum exists\n",
    "(the fact that the nth term of the sum approaches 0 is not enough to guarantee the sum\n",
    "has a limit).  Consider:\n",
    "$$\n",
    "\\begin{array}[t]{cc}\n",
    "(6) &\n",
    "\\begin{array}[t]{lcl}\n",
    "I - \\alpha^{m}A^{m} & = & (\\alpha^m A^m + \\alpha^{m-1} A^{m-1} + \\dots + \\alpha^2 A^2 + \\alpha A  + I) (I - \\alpha A) \\\\\n",
    "& = & (\\sum \\alpha^{m}A^{m})(I - \\alpha A) \n",
    "\\end{array}\n",
    "\\end{array}\n",
    "$$\n",
    "\n",
    "We saw that for an appropriately chosen $\\alpha$, the expression on the LHS of the equality approaches $I$ as $m \\to \\infty$.\n",
    "Therefore\n",
    "\n",
    "$$\n",
    "(7) \\lim^{\\infty}_{m = 0} \\sum \\alpha^{m}A^{m}  = (I - \\alpha A)^{-1}\n",
    "$$\n",
    "\n",
    "So we see that the limit exists if and only if $(I - \\alpha A)$ has an inverse (more discussion on what that means below), and therefore we can add to (1) as follows:\n",
    "\n",
    "$$\n",
    "(1')\\;\\; \\sigma = \\lim^{\\infty}_{m = 0} \\sum \\alpha^{m}A^{m}  = (I - \\alpha A)^{-1}\n",
    "$$\n",
    "\n",
    "\n",
    "Newman observes that the last expression on (1')\n",
    "resembles the expression for **Katz Centrality** in Section 7.3 p. 173,\n",
    "equation (7.10).  The centrality vector\n",
    "$x$ (in which $x_{i}$ gives the centrality score for vertex $i$) is defined\n",
    "\n",
    "$$\n",
    "(8) \\;\\;\\text{Katz Centrality}(A) = x = (I - \\alpha A)^{-1} {\\mathbf 1}  = \\sigma {\\mathbf 1}\n",
    "$$\n",
    "\n",
    "Here ${\\mathbf 1}$ is the vector $\\lbrace 1,\\,1,\\,1,\\, \\dots ,\\, 1 \\rbrace$.  Since $\\sigma$ is a matrix of similarity values, then the centrality $x_{i}$ is just the sum of the similarities of\n",
    "vertex $i$ to all vertices.  We might call this a typicality score rather than a centrality score, but let's stick with the standard terminology for now.  So what is called Katz Centrality in the literature\n",
    "can be defined in terms of regular equivalence, a particular kind of similarity.  Newman suggests we might\n",
    "want to call this kind of similarity **Katz similarity** (not the usual term) instead of regular equivalence (the usual term).\n",
    "\n",
    "So we've discussed how $\\alpha^{m}A^{m}$ shows up in the definition of regular equivalence (or \"Katz Similarity\") and how that can be used to define a measure of Centrality.  But how do powers of A relate to intuitions\n",
    "about centrality?"
   ]
  },
  {
   "cell_type": "markdown",
   "metadata": {},
   "source": [
    "#### Explaining Katz centrality\n",
    "\n",
    "The leading intuition of Katz Centrality (and Eigenvector Centrality, from which it is derived) is that the centrality of a node $x_{i}$ is proportional to the sum of the centralities of its neighbors.  This can be motivated as follows.  A fundamental definition of centrality is degree centrality, which simply defines the centrality\n",
    "of a vertex as its degree, or the number of its neighbors.  But not all neighbors are equal.  Some\n",
    "are more important than others.  Therefore a better characterization of the centrality is gotten\n",
    "by taking a weighted sum of a vertex's neighbors, with each vertex's contribution weighted\n",
    "by its own importance, or centrality.  That is, the importance of vertex $i$, or the value $x_{i}$\n",
    "in the centrality vector is\n",
    "\n",
    "$$\n",
    "\\begin{array}[t]{cc}\n",
    "(3) &\n",
    "\\begin{array}[t]{lcl}\n",
    "x_{i} &= &\\alpha \\sum_{j} A_{ij} x_{j}\\\\\n",
    "\\end{array}\n",
    "\\end{array}\n",
    "$$\n",
    "\n",
    "The utility of $\\alpha$ will be discussed below.  In Matrix notation, we have:\n",
    "\n",
    "$$\n",
    "\\begin{array}[t]{cc}\n",
    "(4) &\n",
    "\\begin{array}[t]{c}\n",
    " x = \\alpha A x\n",
    "\\end{array}\n",
    "\\end{array}\n",
    "$$\n",
    "\n",
    "This is Eigenvector Centrality.  So the leading intuition of Eigenvector Centrality amounts to saying the centrality vector $x$ is an eigenvector of A and the proportionality \n",
    "factor $\\alpha$ is the inverse of the eigenvalue of $x$.\n",
    "\n",
    "$$\n",
    "\\begin{array}[t]{cc}\n",
    "(4') &\n",
    "\\begin{array}[t]{c}\n",
    " A x = \\alpha^{-1} x\n",
    "\\end{array}\n",
    "\\end{array}\n",
    "$$\n",
    "\n",
    "Note that this is reminscent of our discussion of how to find an appropriate value for $\\alpha$\n",
    "in the infinite sum in (1).  We return to\n",
    "this point below, after modifying this definition.\n",
    "\n",
    "The definition in (4) has some technical problems discussed in Section 7.2, especially in directed networks, having to do with vertices which have no incoming nodes, leading to 0-centrality values which then \n",
    "propagate through the network according to (4).  These are addressed by Katz Centrality. In Katz Centrality, the centrality vector $x$ is initialized with an arbitrary centrality value (let's say 1) conferred on every node.\n",
    "Then $x$ is defined via a small modification of (4):\n",
    "\n",
    "$$\n",
    "\\begin{array}[t]{cc}\n",
    "(5) &\n",
    "\\begin{array}[t]{l}\n",
    "x = \\alpha A x + {\\mathbf 1}\\\\\n",
    "x - \\alpha A x = {\\mathbf 1} \\\\\n",
    "x (I - \\alpha A) = {\\mathbf 1} \\\\\n",
    "x = (I - \\alpha A)^{-1} {\\mathbf 1} = \\sigma{\\mathbf 1},\n",
    "\\end{array}\n",
    "\\end{array}\n",
    "$$\n",
    "\n",
    "where $\\sigma = \\lim^{\\infty}_{m = 0} \\sum \\alpha^{m}A^{m}$."
   ]
  },
  {
   "cell_type": "markdown",
   "metadata": {},
   "source": [
    "That relation in turn can be related to our first observation about powers of\n",
    "A.  $ A^{m}[i,j]$ contains the number of occurrences of paths of length $m$\n",
    "starting at vertex $i$ and ending at vertex $j$.  Call such neighbors of $j$\n",
    "$m$th-order neighbors. \n",
    "The $m$th term in the power sum  --- $ \\alpha^{m} A^{m}{\\mathbf 1}$ ---\n",
    "deals with the contribution of the\n",
    "$m$th order neighbors to the overall centrality of $j$.\n",
    "\n",
    "$$\n",
    "\\begin{array}[t]{ll}\n",
    "m  & \\alpha^{m}A^{m}[i,j]\\\\\n",
    "\\hline\n",
    "1  &  \\alpha^{1}\\times \\text{ the number of paths of length 1 from $i$ to $j$: degree centrality}\\\\\n",
    "2  &  \\alpha^{2}\\times\\text{ the number of paths of length 2 from $i$ to $j$: 2nd order degree centrality }\\\\\n",
    "   & \\dots \\\\\n",
    "m  &  \\alpha^{m}\\times\\text{ the number of paths of length $m$ from $i$ to $j$: $m$th order degree centrality}\\\\\n",
    "\\end{array}\n",
    "$$\n",
    "\n",
    "This clarifies the role of $\\alpha$.\n",
    "As $m$ grows larger, the paths grow longer, and their\n",
    "contribution to $x$ decays exponentially, because $\\alpha \\lt 1$.\n",
    "Thus the choice of $\\alpha$ governs how quickly the contributions of \n",
    "paths of greater length diminish; ultimately it also governs\n",
    "the balance between the initial intrinsic centrality values and \n",
    "those inherited from neighbors.\n",
    "\n",
    "\n",
    "In contrast, classic degree centrality takes into account only\n",
    "first-order neighbors.\n",
    "Thus, Katz centrality can be viewed as a generalization\n",
    "of degree centrality which takes into account \n",
    "not just first-order paths, but all paths.\n",
    "Using Katz Centrality a node with a small number of neighbors\n",
    "can have high centrality if those neigbors \n",
    "have high centrality.\n"
   ]
  },
  {
   "cell_type": "markdown",
   "metadata": {},
   "source": [
    "Computing $\\sigma$, the similarity matrix for a matrix $A$."
   ]
  },
  {
   "cell_type": "code",
   "execution_count": 290,
   "metadata": {},
   "outputs": [],
   "source": [
    "from numpy.linalg import inv\n",
    "\n",
    "n = 8\n",
    "One = np.ones(n)\n",
    "I = np.diag(One)\n",
    "\n",
    "# Make sure we get the SAME network in multiple iterations of this notebook.\n",
    "random.seed(41)\n",
    "A = make_symmetric_adjacency_matrix(n)"
   ]
  },
  {
   "cell_type": "code",
   "execution_count": 283,
   "metadata": {},
   "outputs": [
    {
     "data": {
      "image/png": "[encoded data removed]",
      "text/plain": [
       "<Figure size 640x480 with 1 Axes>"
      ]
     },
     "metadata": {},
     "output_type": "display_data"
    }
   ],
   "source": [
    "G = nx.from_numpy_matrix(A)\n",
    "nx.draw_networkx(G)"
   ]
  },
  {
   "cell_type": "code",
   "execution_count": 291,
   "metadata": {},
   "outputs": [
    {
     "data": {
      "text/plain": [
       "array([[66.90214834, 51.4942948 , 56.70155189, 26.51168895, 24.27008839,\n",
       "        36.00553801, 64.90764822, 32.14687504],\n",
       "       [51.4942948 , 40.96555292, 44.22866036, 20.60554929, 18.86957675,\n",
       "        27.88392657, 50.5837435 , 24.8494651 ],\n",
       "       [56.70155189, 44.22866036, 49.5244835 , 22.70546548, 21.02205877,\n",
       "        30.70041193, 55.68713258, 27.43349139],\n",
       "       [26.51168895, 20.60554929, 22.70546548, 11.74629392,  9.78733155,\n",
       "        14.40325992, 26.21605417, 13.12419441],\n",
       "       [24.27008839, 18.86957675, 21.02205877,  9.78733155, 10.03233145,\n",
       "        13.12713153, 23.7859783 , 12.04368159],\n",
       "       [36.00553801, 27.88392657, 30.70041193, 14.40325992, 13.12713153,\n",
       "        20.49771494, 35.37208836, 17.35565476],\n",
       "       [64.90764822, 50.5837435 , 55.68713258, 26.21605417, 23.7859783 ,\n",
       "        35.37208836, 64.58320314, 31.38905441],\n",
       "       [32.14687504, 24.8494651 , 27.43349139, 13.12419441, 12.04368159,\n",
       "        17.35565476, 31.38905441, 16.65626001]])"
      ]
     },
     "execution_count": 291,
     "metadata": {},
     "output_type": "execute_result"
    }
   ],
   "source": [
    "alpha = make_alpha(A,eps=.001)\n",
    "#  Note with Big matrices this is prohibitively expensive (Order n^2)\n",
    "#  We might do better using a sum of powers of A to estimate sigma (see below).\n",
    "sigma = inv(I - (alpha*A))\n",
    "sigma"
   ]
  },
  {
   "cell_type": "markdown",
   "metadata": {},
   "source": [
    "Computing the centrality vector."
   ]
  },
  {
   "cell_type": "code",
   "execution_count": 292,
   "metadata": {},
   "outputs": [
    {
     "data": {
      "text/plain": [
       "array([358.93983364, 279.48076929, 308.0032559 , 145.09983769,\n",
       "       132.93817833, 195.34572601, 352.52490269, 174.99867671])"
      ]
     },
     "execution_count": 292,
     "metadata": {},
     "output_type": "execute_result"
    }
   ],
   "source": [
    "x = sigma @ One\n",
    "x"
   ]
  },
  {
   "cell_type": "markdown",
   "metadata": {},
   "source": [
    "The most central vertex by Katz centrality."
   ]
  },
  {
   "cell_type": "code",
   "execution_count": 293,
   "metadata": {},
   "outputs": [
    {
     "data": {
      "text/plain": [
       "0"
      ]
     },
     "execution_count": 293,
     "metadata": {},
     "output_type": "execute_result"
    }
   ],
   "source": [
    "x.argmax()"
   ]
  },
  {
   "cell_type": "markdown",
   "metadata": {},
   "source": [
    "Compare to degree centrality.  Here is A."
   ]
  },
  {
   "cell_type": "code",
   "execution_count": 294,
   "metadata": {},
   "outputs": [
    {
     "data": {
      "text/plain": [
       "array([[0., 1., 1., 0., 0., 1., 1., 1.],\n",
       "       [1., 0., 1., 0., 0., 0., 1., 0.],\n",
       "       [1., 1., 0., 0., 1., 0., 1., 0.],\n",
       "       [0., 0., 0., 0., 0., 0., 1., 1.],\n",
       "       [0., 0., 1., 0., 0., 0., 0., 1.],\n",
       "       [1., 0., 0., 0., 0., 0., 1., 0.],\n",
       "       [1., 1., 1., 1., 0., 1., 0., 0.],\n",
       "       [1., 0., 0., 1., 1., 0., 0., 0.]])"
      ]
     },
     "execution_count": 294,
     "metadata": {},
     "output_type": "execute_result"
    }
   ],
   "source": [
    "A"
   ]
  },
  {
   "cell_type": "markdown",
   "metadata": {},
   "source": [
    "Note that by degree centrality, nodes 0 and 6 are tied for the most important:"
   ]
  },
  {
   "cell_type": "code",
   "execution_count": 295,
   "metadata": {},
   "outputs": [
    {
     "data": {
      "text/plain": [
       "array([5., 3., 4., 2., 2., 2., 5., 3.])"
      ]
     },
     "execution_count": 295,
     "metadata": {},
     "output_type": "execute_result"
    }
   ],
   "source": [
    "A.sum(axis=1)"
   ]
  },
  {
   "cell_type": "markdown",
   "metadata": {},
   "source": [
    "But by Katz Centrality the connections of vertex 0\n",
    "make it more important:"
   ]
  },
  {
   "cell_type": "code",
   "execution_count": 289,
   "metadata": {},
   "outputs": [
    {
     "data": {
      "text/plain": [
       "array([358.93983364, 279.48076929, 308.0032559 , 145.09983769,\n",
       "       132.93817833, 195.34572601, 352.52490269, 174.99867671])"
      ]
     },
     "execution_count": 289,
     "metadata": {},
     "output_type": "execute_result"
    }
   ],
   "source": [
    "x"
   ]
  },
  {
   "cell_type": "markdown",
   "metadata": {},
   "source": [
    "#### Demonstrating the powers relation"
   ]
  },
  {
   "cell_type": "markdown",
   "metadata": {},
   "source": [
    "All the math above not only helps us get at the intuitions of the Katz Centrality.\n",
    "It also provides a useful, efficient way of estimating $\\sigma$ by summing\n",
    "powers of $A$ instead of finding the inverse of A. We demonstrate.\n",
    "\n",
    "Let \n",
    "\n",
    "$$\n",
    "\\sigma'(m) = \\sum \\alpha^{m}A^{m}\n",
    "$$\n",
    "\n",
    "So $\\sigma'(m)$ is our estimate of $\\sigma$ for $m$, a given power of A.\n",
    "\n",
    "We show by example that convergence of $\\sigma'$ to $\\sigma$ is slow but steady:"
   ]
  },
  {
   "cell_type": "code",
   "execution_count": 245,
   "metadata": {},
   "outputs": [
    {
     "name": "stdout",
     "output_type": "stream",
     "text": [
      "sigma sum: 1597.0525\n",
      "\n",
      "  m   Mx diff  sigma' sum\n",
      "=========================\n",
      " 250 11.41921  1116.2786\n",
      " 500  3.45482  1451.5972\n",
      " 750  1.04523  1553.0459\n",
      "1000  0.31623  1583.7386\n",
      "1250  0.09567  1593.0245\n",
      "1500  0.02895  1595.8339\n",
      "1750  0.00876  1596.6838\n",
      "2000  0.00265  1596.9410\n",
      "2250  0.00080  1597.0188\n",
      "2500  0.00024  1597.0423\n",
      "2750  0.00007  1597.0495\n",
      "3000  0.00002  1597.0516\n",
      "3250  0.00001  1597.0523\n",
      "3500  0.00000  1597.0525\n"
     ]
    }
   ],
   "source": [
    "M=3_501\n",
    "\n",
    "res = I\n",
    "sigma_prime = res\n",
    "\n",
    "def mdiff (M1,M2):\n",
    "    return (M1-M2).max()\n",
    "\n",
    "banner = \"  m   Mx diff  sigma' sum\"\n",
    "print(f\"sigma sum: {sigma.sum():.4f}\")\n",
    "print()\n",
    "print(banner)\n",
    "print(\"=\"* len(banner))\n",
    "for m in range(1, M):\n",
    "    res = alpha * (res @ A)\n",
    "    sigma_prime = sigma_prime + res\n",
    "    if m%250 == 0:\n",
    "        print(f\"{m:>4} {mdiff(sigma,sigma_prime):>8.5f}  {sigma_prime.sum():>7.4f}\")"
   ]
  },
  {
   "cell_type": "markdown",
   "metadata": {},
   "source": [
    "#### Properties of the Katz Centrality Matrix\n",
    "\n",
    "Let us call the matrix\n",
    "\n",
    "$$\n",
    "(9)\\; ({\\mathbf I} - \\alpha A),\n",
    "$$\n",
    "\n",
    "which we used to define Katz-Centrality in equation (5), the **Katz Centrality\n",
    "Matrix** (KCM).  This matrix very closely\n",
    "resembles one that comes up often in Linear Algebra.\n",
    "We will discuss the matrix that crops up in Linear Algebra, which will\n",
    "help clarify how setting values for $\\alpha$ works.\n",
    "\n",
    "Consider the determinant of the\n",
    "the Katz Centrality matrix and in particular,\n",
    "consider the possibility that it is equal to 0.\n",
    "\n",
    "$$\n",
    "(10)\\; Det({\\mathbf I} - \\alpha A) = 0.\n",
    "$$\n",
    "\n",
    "Multiplying $I - \\alpha A$ by $-\\alpha^{-1}$ will still give us a matrix\n",
    "with determinant 0 ($Det(kM) = k^{n}Det(M)$):\n",
    "\n",
    "$$\n",
    "(10')\\; Det(\\alpha^{-1}{\\mathbf I} - A) = 0\n",
    "$$\n",
    "\n",
    "But now we have a matrix that defines the characteristic polynomial for matrix A,\n",
    "whose eigenvalue is $\\alpha^{-1}$; that is,\n",
    "the values for $\\alpha^{-1}$ that satisfy this equations are\n",
    "the eigenvalues for A.  \n",
    "\n",
    "So how does this relate to Katz Centrality?\n",
    "The definition of Katz Centrality uses the **inverse** of\n",
    "the matrix in (10) which has the same determinant as $(\\alpha^{-1}{\\mathbf I} - A)$,\n",
    "but a matrix with determinant 0 has no inverse, so\n",
    "the inverse needed for Katz Centrality ceases to exist precisely when\n",
    "$\\alpha^{-1}$ is an eigenvalue for $A$. More precisely, it grows very large or diverges\n",
    "as $\\alpha$ approaches $\\kappa^{-1}$. So we have reached the same\n",
    "conclusion we reached above about the right value for $\\alpha$\n",
    "by a different route.  We looked at the infinite\n",
    "series of powers of A, which had the inverse of the Katz Centrality matrix as a limit,\n",
    "\n",
    "$$\n",
    "(11)\\; \\lim^{\\infty}_{m = 0} \\sum \\alpha^{m}A^{m}  = (I - \\alpha A)^{-1},\n",
    "$$\n",
    "\n",
    "and we discovered that for any vector \n",
    "$$\n",
    "\\lim_{m \\to \\infty} \\alpha^{m} A^{𝑚} 𝑥(0) = {\\mathbf 0},\n",
    "$$\n",
    "when $\\alpha \\lt k_{1}^{-1}$, where $\\kappa_{1}$ is the leading eigenvalue.\n",
    "That's good news for the infinite sum in (11).  On the other hand, if $\\alpha^{m} = \\kappa^{-1}$,\n",
    "then in the limit \n",
    "\n",
    "$$\n",
    "(12)\\; \\lim_{m \\to \\infty} \\alpha^{m} A^{𝑚} 𝑥(0) \n",
    "$$\n",
    "\n",
    "diverges."
   ]
  },
  {
   "cell_type": "code",
   "execution_count": null,
   "metadata": {},
   "outputs": [],
   "source": []
  },
  {
   "cell_type": "markdown",
   "metadata": {},
   "source": [
    "#### Linear algebra digression\n",
    "\n",
    "Let's review one important case where (10') arises in Linear Algebra,\n",
    "in finding eigenvectors.\n",
    "\n",
    "We start with the basic condition for an eigenvector\n",
    "\n",
    "$$\n",
    "(13) \\begin{array}[t]{l}\n",
    "Av = \\kappa v\\\\\n",
    "(\\kappa I - A)v = {\\mathbf 0}\n",
    "\\end{array}\n",
    "$$\n",
    "\n",
    "That is, the eigenvector $v$ is in the null space of the matrix $(\\kappa I - A)$\n",
    "(the set of vectors the matrix maps to the zero vector ${\\mathbf 0}$).\n",
    "We're interested in non-trivial solutions, $v$ other than the zero vector.\n",
    "If there are any, then the matrix $(\\kappa I - A)$ must have a non trivial null space;\n",
    "This condition can only be satisfied when there is a non trivial linear combination of \n",
    "the columns of $(\\kappa I - A)$ equal to 0. That means $(\\kappa I - A)$\n",
    "is of reduced rank (rank less than $n$),  That has a very useful consequence.\n",
    "It means the determinant  of $(A - \\alpha I)$  is 0.  So the equation we usually\n",
    "solve to find eigenvalues is\n",
    "\n",
    "$$\n",
    "Det(\\kappa I - A) = 0.\n",
    "$$\n",
    "\n",
    "It is not very hard to show that a reduced rank matrix must have a determinant of 0.\n",
    "Sketching the idea: Reduced rank means that one of the columns of $M =(\\kappa I - A)$ can be expressed\n",
    "as a linear combination of the others.\n",
    "So if we start with a series of matrices $M_{i}$, each with one duplicated column, we can express\n",
    "$M$ as a linear combination of the $M_{i}$s.  Since the $Det(M_{i}) = 0$ for each $M_{i}$,\n",
    "and $Det(M)$ is a **multilinear function** of M, $Det(M)$ must be\n",
    "0. (Note: The term multilinear here means that Det(M) is linear in each of the columns of M).\n",
    "\n",
    "A matrix with a determinant of 0 is called **singular**; singularity\n",
    "can be defined in different ways because there are a lot of closely\n",
    "related properties that swirl around the notion of a matrix with\n",
    "determinant 0.  The following are all equivalent descriptions \n",
    "of a matrix $A$.\n",
    "\n",
    "  1.  A has reduced rank;\n",
    "  2.  A has a non trivial null space;\n",
    "  3.  A is noninvertible (= does not have an inverse);\n",
    "  4.  A has determinant of 0.\n",
    "  5.  The linear mapping $L: R^{n} \\to R^{n}$ associated\n",
    "      with $A$ is not 1-1.\n",
    "\n",
    "For example, to show property 2 implies property 3, \n",
    "we prove the contrapositive of  2 $\\rightarrow$ 3:  Invertibility\n",
    "implies a trivial null space.\n",
    "\n",
    "Suppose  then that $A$ has an inverse,\n",
    "and that $Av = {\\mathbf 0}$ for some vector $v$.\n",
    "We show $v$ must be ${\\mathbf 0}$:\n",
    "$$\n",
    "(14) \\begin{array}[t]{l}\n",
    "Av = 0\\\\\n",
    "A^{-1}Av = A^{-1}0\\\\\n",
    "Iv  = 0\n",
    "\\end{array}\n",
    "$$\n",
    "\n",
    "It follows that $v$ is ${\\mathbf 0}$.  "
   ]
  },
  {
   "cell_type": "markdown",
   "metadata": {},
   "source": [
    "So let's sum up what we know about constraints on $\\alpha$\n",
    "in the definition of Katz Centrality.\n",
    "\n",
    "We have  as the solution for $x$ in Katz Centrality\n",
    "\n",
    "$$\n",
    "x = (I - \\alpha A)^{-1} {\\mathbf 1}\n",
    "$$\n",
    "\n",
    "Setting $\\alpha$ to 0 gives us the centrality vector\n",
    "in which all vertices have the same centrality, that is, 1.\n",
    "\n",
    "Increasing $\\alpha^{-1}$ the centralities increase up\n",
    "until $\\alpha^{-1} = \\kappa_{1}$ at which point they\n",
    "diverge to infinity or are undefined.   Of course they are defined again\n",
    "when we start with $\\alpha$ values above $\\kappa^{-1}$,\n",
    "but let's not go there because we have no interpretation\n",
    "for centrality values that diverge to infinity. We\n",
    "restrict our attention to the interval\n",
    "\n",
    "$$\n",
    "0 \\leq \\alpha \\lt \\kappa^{-1}.\n",
    "$$\n",
    "\n",
    "We will call the set of values outside this interval the **forbidden zone**."
   ]
  },
  {
   "cell_type": "markdown",
   "metadata": {},
   "source": [
    "**FootNote**: We rely on the fact that all the eigenvalues of an adjacency matrix are positive.  \n",
    "Therefore as $\\alpha$ inches upward from 0 it will reach $\\kappa_{1}^{-1}$,\n",
    "the smallest of the eigenvalue inverses, first."
   ]
  },
  {
   "cell_type": "code",
   "execution_count": null,
   "metadata": {},
   "outputs": [],
   "source": []
  },
  {
   "cell_type": "markdown",
   "metadata": {},
   "source": [
    "#### The Forbidden Zone"
   ]
  },
  {
   "cell_type": "markdown",
   "metadata": {},
   "source": [
    "Let's demonstrate divergence in forbidden zone of $\\alpha$ in Python."
   ]
  },
  {
   "cell_type": "code",
   "execution_count": 4,
   "metadata": {},
   "outputs": [],
   "source": [
    "from numpy.linalg import inv\n",
    "from numpy.linalg import det\n",
    "from numpy.linalg import eigvals, eigvalsh\n",
    "import random\n",
    "\n",
    "def katz_centrality_matrix(A,v=1):\n",
    "    \"\"\"\n",
    "    v is a candidate alpha value.  Note this is not the\n",
    "    characteristic polynomial matrix, but $- \\alpha^{-1}$\n",
    "    times the characteristic polynomial matrix.\n",
    "    \"\"\"\n",
    "    (m,n) = A.shape\n",
    "    assert m == n, \"Only square matrices have well-defined characteristic polynomials.\"\n",
    "    return np.eye(m) - v*A\n",
    "                \n",
    "def det_katz_centrality_matrix(A,v=1):\n",
    "  #return det(np.eye(m) - v*A)\n",
    "  return det(katz_centrality_matrix(A,v))\n",
    "\n",
    "def make_alpha (A,eps=.001):\n",
    "    #Alpha just slightly less than kappa^{-1}\n",
    "    return 1/find_leading_eigenval(A) - eps\n",
    "\n",
    "#def find_leading_eigenval (A):\n",
    "#    evals = eigvals(A)\n",
    "#    lead_eval_ind = np.argmax(evals)\n",
    "#    return  evals[lead_eval_ind]\n",
    "\n",
    "def find_leading_eigenval (A,tol=.01):\n",
    "    \"\"\"\n",
    "    If A is symmetric eigvalsh will certainly be faster.  \n",
    "    See find_leading_eigval_check_symmetric\n",
    "    This returns the eval with the highest absolute value.\n",
    "    \"\"\"\n",
    "    evals = eigvals(A)\n",
    "    pevals = np.abs(evals)\n",
    "    cand1 = pevals[pevals.argsort()[-1]]\n",
    "    for ev in evals:\n",
    "        if np.abs(ev-cand1) < tol:\n",
    "            return ev\n",
    "    # else return the highest absolute value, preserving sign\n",
    "    return evals[pevals.argsort()[-1]]\n",
    "\n",
    "def old_find_leading_eigenval (A):\n",
    "    \"\"\"\n",
    "    If A is symmetric eigvalsh will certainly be faster.  \n",
    "    See find_leading_eigval_check_symmetric\n",
    "    This returns the eval with the highest absolute value.\n",
    "    \"\"\"\n",
    "    pevals = eigvals(A)\n",
    "    return pevals[pevals.argsort()[-1]]\n",
    "\n",
    "def check_symmetric(a, rtol=1e-05, atol=1e-08):\n",
    "    return np.allclose(a, a.T, rtol=rtol, atol=atol)\n",
    "\n",
    "def find_leading_eigenval_check_symmetric (A):\n",
    "    \"\"\"\n",
    "    If A is symmetric eigvalsh will certainly be faster.\n",
    "    \"\"\"\n",
    "    if check_symmetric(A):\n",
    "        evals = eigvalsh(A)\n",
    "    else:\n",
    "        evals = eigvals(A)\n",
    "    pevals = np.abs(evals)\n",
    "    return pevals[pevals.argsort()[-1]]"
   ]
  },
  {
   "cell_type": "code",
   "execution_count": 7,
   "metadata": {},
   "outputs": [
    {
     "name": "stdout",
     "output_type": "stream",
     "text": [
      "1/kappa_1 of T 0.7071\n",
      "\n",
      "10: alpha: 0.160   det(KCM(T)):  0.9488\n",
      "                  ...                   \n",
      "\n",
      "20: alpha: 0.260   det(KCM(T)):  0.8648\n",
      "                  ...                   \n",
      "\n",
      "30: alpha: 0.360   det(KCM(T)):  0.7408\n",
      "                  ...                   \n",
      "\n",
      "40: alpha: 0.460   det(KCM(T)):  0.5768\n",
      "                  ...                   \n",
      "\n",
      "50: alpha: 0.560   det(KCM(T)):  0.3728\n",
      "                  ...                   \n",
      "\n",
      "55: alpha: 0.610   det(KCM(T)):  0.2558\n",
      "56: alpha: 0.620   det(KCM(T)):  0.2312\n",
      "57: alpha: 0.630   det(KCM(T)):  0.2062\n",
      "58: alpha: 0.640   det(KCM(T)):  0.1808\n",
      "59: alpha: 0.650   det(KCM(T)):  0.1550\n",
      "60: alpha: 0.660   det(KCM(T)):  0.1288\n",
      "61: alpha: 0.670   det(KCM(T)):  0.1022\n",
      "62: alpha: 0.680   det(KCM(T)):  0.0752\n",
      "63: alpha: 0.690   det(KCM(T)):  0.0478\n",
      "64: alpha: 0.700   det(KCM(T)):  0.0200\n",
      "65: alpha: 0.710   det(KCM(T)): -0.0082\n"
     ]
    }
   ],
   "source": [
    "m=4\n",
    "# Try seed values 42 and 46 to get eigennvalues that are integers\n",
    "random.seed(51)\n",
    "T= make_symmetric_adjacency_matrix (m)\n",
    "eig_val = find_leading_eigenval(T)\n",
    "max_alpha = 1/eig_val\n",
    "step = .01\n",
    "#alpha_vec = np.arange(.45,.47,step=.001)\n",
    "eigval_vec = np.arange(0.06,max_alpha+step,step=step)\n",
    "\n",
    "print(f'1/kappa_1 of T {max_alpha:.4f}',end=\"\\n\\n\")\n",
    "for (i,v) in enumerate(eigval_vec[1:],start=1):\n",
    "    s = det_katz_centrality_matrix(T,v)\n",
    "    #print(i,v,s)\n",
    "    if i%10 == 0 or v > .6:\n",
    "        print(f\"{i:>2}: alpha: {v:5.3f}   det(KCM(T)): {s: 7.4f}\")\n",
    "        if i%10 == 0 and v <= .6:\n",
    "            print(f\"{'...':^40}\",end=\"\\n\\n\")"
   ]
  },
  {
   "cell_type": "markdown",
   "metadata": {},
   "source": [
    "So the determinant is positive and falling and passes through 0 as $\\alpha$ passes through $\\kappa_{1}^{-1}$.\n",
    "\n",
    "Computing the Katz Centrality Matrix in the forbidden zone (when $\\alpha = \\kappa^{-1}$):"
   ]
  },
  {
   "cell_type": "code",
   "execution_count": 9,
   "metadata": {},
   "outputs": [
    {
     "data": {
      "text/plain": [
       "array([[ 1.        ,  0.        ,  0.        ,  0.        ],\n",
       "       [ 0.        ,  1.        ,  0.        , -0.70710678],\n",
       "       [ 0.        ,  0.        ,  1.        , -0.70710678],\n",
       "       [ 0.        , -0.70710678, -0.70710678,  1.        ]])"
      ]
     },
     "execution_count": 9,
     "metadata": {},
     "output_type": "execute_result"
    }
   ],
   "source": [
    "M = katz_centrality_matrix(T,v=max_alpha)\n",
    "M"
   ]
  },
  {
   "cell_type": "code",
   "execution_count": 10,
   "metadata": {},
   "outputs": [
    {
     "data": {
      "text/plain": [
       "3"
      ]
     },
     "execution_count": 10,
     "metadata": {},
     "output_type": "execute_result"
    }
   ],
   "source": [
    "from numpy.linalg import matrix_rank\n",
    "matrix_rank(M)"
   ]
  },
  {
   "cell_type": "markdown",
   "metadata": {},
   "source": [
    "This is a matrix of reduced rank, meaning the determinant should be 0."
   ]
  },
  {
   "cell_type": "markdown",
   "metadata": {},
   "source": [
    "But in practical numerical computing we often just get a determinant very close to 0 for what\n",
    "should be a singular matrix, because of small rounding errors."
   ]
  },
  {
   "cell_type": "code",
   "execution_count": 11,
   "metadata": {},
   "outputs": [
    {
     "data": {
      "text/plain": [
       "-1.2386923780787705e-16"
      ]
     },
     "execution_count": 11,
     "metadata": {},
     "output_type": "execute_result"
    }
   ],
   "source": [
    "det(M)"
   ]
  },
  {
   "cell_type": "markdown",
   "metadata": {},
   "source": [
    "We attempt to compute $\\sigma$, the inverse of the Katz Centrality Matrix, \n",
    "and instead of a Singular Matrix error, we get a matrix with some very large\n",
    "negative values."
   ]
  },
  {
   "cell_type": "code",
   "execution_count": 12,
   "metadata": {
    "scrolled": true
   },
   "outputs": [
    {
     "data": {
      "text/plain": [
       "array([[ 1.00000000e+00,  0.00000000e+00,  0.00000000e+00,\n",
       "         0.00000000e+00],\n",
       "       [ 0.00000000e+00, -4.03651471e+15, -4.03651471e+15,\n",
       "        -5.70849384e+15],\n",
       "       [ 0.00000000e+00, -4.03651471e+15, -4.03651471e+15,\n",
       "        -5.70849384e+15],\n",
       "       [-0.00000000e+00, -5.70849384e+15, -5.70849384e+15,\n",
       "        -8.07302941e+15]])"
      ]
     },
     "execution_count": 12,
     "metadata": {},
     "output_type": "execute_result"
    }
   ],
   "source": [
    "sigma = inv(M)\n",
    "sigma"
   ]
  },
  {
   "cell_type": "markdown",
   "metadata": {},
   "source": [
    "So we can look at our centralities, and they are well defined, although it's not entirely clear to \n",
    "make of negative centralities if we think of the computation\n",
    "as starting out every vertex out with a score of 1,\n",
    "and iteratively updating by adding centrality scores."
   ]
  },
  {
   "cell_type": "code",
   "execution_count": 39,
   "metadata": {},
   "outputs": [
    {
     "data": {
      "text/plain": [
       "array([ 1.00000000e+00, -1.37815233e+16, -1.37815233e+16, -1.94900171e+16])"
      ]
     },
     "execution_count": 39,
     "metadata": {},
     "output_type": "execute_result"
    }
   ],
   "source": [
    "One =np.ones(m)\n",
    "sigma@One"
   ]
  },
  {
   "cell_type": "markdown",
   "metadata": {},
   "source": [
    "Let's try using $\\alpha=\\kappa^{-1}$  while using the infinite series to directly calulate $\\sigma$\n",
    "without taking an inverse, as in (7).  \n",
    "\n",
    "The resulting $\\sigma$ is a matrix with large values.  Although $\\sigma$ diverges,\n",
    "it does so very slowly."
   ]
  },
  {
   "cell_type": "code",
   "execution_count": 31,
   "metadata": {},
   "outputs": [
    {
     "name": "stdout",
     "output_type": "stream",
     "text": [
      "  291,419\n",
      "  582,840\n",
      "  874,262\n",
      "1,165,683\n",
      "1,457,104\n",
      "1,748,526\n",
      "2,039,947\n",
      "2,331,369\n",
      "2,622,790\n",
      "2,914,211\n"
     ]
    },
    {
     "data": {
      "text/plain": [
       "array([[1.00000000e+00, 0.00000000e+00, 0.00000000e+00, 0.00000000e+00],\n",
       "       [0.00000000e+00, 2.50000500e+05, 2.49999500e+05, 3.53553391e+05],\n",
       "       [0.00000000e+00, 2.49999500e+05, 2.50000500e+05, 3.53553391e+05],\n",
       "       [0.00000000e+00, 3.53553391e+05, 3.53553391e+05, 5.00000000e+05]])"
      ]
     },
     "execution_count": 31,
     "metadata": {},
     "output_type": "execute_result"
    }
   ],
   "source": [
    "import math\n",
    "\n",
    "def matrix_powers_sum(T, power, alpha=1.0,verbose=0):\n",
    "    (n,m) = T.shape\n",
    "    assert n == m, \"Only square matrices allowed!\"\n",
    "    sigma = np.zeros((n,n))\n",
    "    sigma_M = np.eye(n)\n",
    "    check_every_n = math.floor(power/10)\n",
    "    \n",
    "    for i in range(power):\n",
    "        if verbose and (i+1)%check_every_n == 0:\n",
    "            print(f\"{math.floor(sigma.sum()):>9,}\")\n",
    "        sigma += sigma_M\n",
    "        sigma_M = (alpha * sigma_M) @ T\n",
    "    return sigma\n",
    "\n",
    "\n",
    "sigma = matrix_powers_sum(T, 1_000_000, alpha=max_alpha,verbose=1)\n",
    "sigma"
   ]
  },
  {
   "cell_type": "markdown",
   "metadata": {},
   "source": [
    "Consistent with the idea that the infinite series diverges, the centralities for the infinite sum are, in most cases, completely different from those computed via the inverse."
   ]
  },
  {
   "cell_type": "code",
   "execution_count": 40,
   "metadata": {},
   "outputs": [
    {
     "data": {
      "text/plain": [
       "array([ 1.00000000e+00, -1.37815233e+16, -1.37815233e+16, -1.94900171e+16])"
      ]
     },
     "execution_count": 40,
     "metadata": {},
     "output_type": "execute_result"
    }
   ],
   "source": [
    "sigma@One"
   ]
  },
  {
   "cell_type": "markdown",
   "metadata": {},
   "source": [
    "On the other hand try an $\\alpha$-value not in the forbidden zone, where the series does converge,\n",
    "and we see very rapid convergence, as well as sensible centrality scores."
   ]
  },
  {
   "cell_type": "code",
   "execution_count": 41,
   "metadata": {},
   "outputs": [
    {
     "name": "stdout",
     "output_type": "stream",
     "text": [
      "       10\n",
      "       16\n",
      "       19\n",
      "       20\n",
      "       21\n",
      "       21\n",
      "       21\n",
      "       21\n",
      "       21\n",
      "       21\n"
     ]
    },
    {
     "data": {
      "text/plain": [
       "array([[1.        , 0.        , 0.        , 0.        ],\n",
       "       [0.        , 2.40134878, 1.40134878, 2.30864348],\n",
       "       [0.        , 1.40134878, 2.40134878, 2.30864348],\n",
       "       [0.        , 2.30864348, 2.30864348, 3.80269757]])"
      ]
     },
     "execution_count": 41,
     "metadata": {},
     "output_type": "execute_result"
    }
   ],
   "source": [
    "sigma = matrix_powers_sum(T, 50, alpha=max_alpha-.1,verbose=1)\n",
    "sigma"
   ]
  },
  {
   "cell_type": "code",
   "execution_count": 42,
   "metadata": {},
   "outputs": [
    {
     "data": {
      "text/plain": [
       "array([1.        , 6.11134105, 6.11134105, 8.41998452])"
      ]
     },
     "execution_count": 42,
     "metadata": {},
     "output_type": "execute_result"
    }
   ],
   "source": [
    "sigma@One"
   ]
  },
  {
   "cell_type": "markdown",
   "metadata": {},
   "source": [
    "And comparing this to the computation using the KCM, we see close agreement, which\n",
    "can be improved by summing more terms."
   ]
  },
  {
   "cell_type": "code",
   "execution_count": 43,
   "metadata": {},
   "outputs": [
    {
     "data": {
      "text/plain": [
       "array([1.        , 6.11432885, 6.11432885, 8.42410102])"
      ]
     },
     "execution_count": 43,
     "metadata": {},
     "output_type": "execute_result"
    }
   ],
   "source": [
    "KCM = katz_centrality_matrix(T,v=max_alpha-.1)\n",
    "inv(KCM)@One"
   ]
  },
  {
   "cell_type": "markdown",
   "metadata": {},
   "source": [
    "## Indeterminacy with singular matrices and inversion"
   ]
  },
  {
   "cell_type": "markdown",
   "metadata": {},
   "source": [
    "In practice working computationally  with singular matrices and inverses is a bit of an inexact science.\n",
    "\n",
    "Here's a different adjacency matrix where the eigenvalue is an integer,\n",
    "max_alpha is exact, and det(KCM) is exactly 0 instead of close to 0."
   ]
  },
  {
   "cell_type": "code",
   "execution_count": 635,
   "metadata": {},
   "outputs": [
    {
     "name": "stdout",
     "output_type": "stream",
     "text": [
      "eigv: 1.00\n"
     ]
    },
    {
     "data": {
      "text/plain": [
       "0.0"
      ]
     },
     "execution_count": 635,
     "metadata": {},
     "output_type": "execute_result"
    }
   ],
   "source": [
    "seed= 42\n",
    "random.seed(seed)\n",
    "T0 = make_symmetric_adjacency_matrix (m)\n",
    "eig_val0 = find_leading_eigenval(T0)\n",
    "print(f'eigv: {eig_val0:.2f}')\n",
    "max_alpha0 = 1/eig_val0\n",
    "M0 = katz_centrality_matrix(T0,v=max_alpha0)\n",
    "det(M0)"
   ]
  },
  {
   "cell_type": "markdown",
   "metadata": {},
   "source": [
    "In this case, attempting to take the inverse does raise a `Singular matrix` error."
   ]
  },
  {
   "cell_type": "code",
   "execution_count": 636,
   "metadata": {},
   "outputs": [
    {
     "ename": "LinAlgError",
     "evalue": "Singular matrix",
     "output_type": "error",
     "traceback": [
      "\u001b[0;31m---------------------------------------------------------------------------\u001b[0m",
      "\u001b[0;31mLinAlgError\u001b[0m                               Traceback (most recent call last)",
      "Input \u001b[0;32mIn [636]\u001b[0m, in \u001b[0;36m<cell line: 1>\u001b[0;34m()\u001b[0m\n\u001b[0;32m----> 1\u001b[0m \u001b[43minv\u001b[49m\u001b[43m(\u001b[49m\u001b[43mM0\u001b[49m\u001b[43m)\u001b[49m\n",
      "File \u001b[0;32m<__array_function__ internals>:180\u001b[0m, in \u001b[0;36minv\u001b[0;34m(*args, **kwargs)\u001b[0m\n",
      "File \u001b[0;32m~/opt/anaconda3/envs/p310/lib/python3.10/site-packages/numpy/linalg/linalg.py:552\u001b[0m, in \u001b[0;36minv\u001b[0;34m(a)\u001b[0m\n\u001b[1;32m    550\u001b[0m signature \u001b[38;5;241m=\u001b[39m \u001b[38;5;124m'\u001b[39m\u001b[38;5;124mD->D\u001b[39m\u001b[38;5;124m'\u001b[39m \u001b[38;5;28;01mif\u001b[39;00m isComplexType(t) \u001b[38;5;28;01melse\u001b[39;00m \u001b[38;5;124m'\u001b[39m\u001b[38;5;124md->d\u001b[39m\u001b[38;5;124m'\u001b[39m\n\u001b[1;32m    551\u001b[0m extobj \u001b[38;5;241m=\u001b[39m get_linalg_error_extobj(_raise_linalgerror_singular)\n\u001b[0;32m--> 552\u001b[0m ainv \u001b[38;5;241m=\u001b[39m \u001b[43m_umath_linalg\u001b[49m\u001b[38;5;241;43m.\u001b[39;49m\u001b[43minv\u001b[49m\u001b[43m(\u001b[49m\u001b[43ma\u001b[49m\u001b[43m,\u001b[49m\u001b[43m \u001b[49m\u001b[43msignature\u001b[49m\u001b[38;5;241;43m=\u001b[39;49m\u001b[43msignature\u001b[49m\u001b[43m,\u001b[49m\u001b[43m \u001b[49m\u001b[43mextobj\u001b[49m\u001b[38;5;241;43m=\u001b[39;49m\u001b[43mextobj\u001b[49m\u001b[43m)\u001b[49m\n\u001b[1;32m    553\u001b[0m \u001b[38;5;28;01mreturn\u001b[39;00m wrap(ainv\u001b[38;5;241m.\u001b[39mastype(result_t, copy\u001b[38;5;241m=\u001b[39m\u001b[38;5;28;01mFalse\u001b[39;00m))\n",
      "File \u001b[0;32m~/opt/anaconda3/envs/p310/lib/python3.10/site-packages/numpy/linalg/linalg.py:89\u001b[0m, in \u001b[0;36m_raise_linalgerror_singular\u001b[0;34m(err, flag)\u001b[0m\n\u001b[1;32m     88\u001b[0m \u001b[38;5;28;01mdef\u001b[39;00m \u001b[38;5;21m_raise_linalgerror_singular\u001b[39m(err, flag):\n\u001b[0;32m---> 89\u001b[0m     \u001b[38;5;28;01mraise\u001b[39;00m LinAlgError(\u001b[38;5;124m\"\u001b[39m\u001b[38;5;124mSingular matrix\u001b[39m\u001b[38;5;124m\"\u001b[39m)\n",
      "\u001b[0;31mLinAlgError\u001b[0m: Singular matrix"
     ]
    }
   ],
   "source": [
    "inv(M0)"
   ]
  },
  {
   "cell_type": "markdown",
   "metadata": {},
   "source": [
    "### Computing Katz Centrality directly ( and efficiently)"
   ]
  },
  {
   "cell_type": "markdown",
   "metadata": {},
   "source": [
    "We have been computing Katz Centrality by two different methods, either by computing a converging matrix sum\n",
    "summed to many terms, which gives us the similarity matrix we call $\\sigma$,\n",
    "or by computing $\\sigma$ by taking a matrix inverse. We then apply $\\sigma$\n",
    "to the initial centralities, which we have taken to be ${\\mathbf 1}$ to get\n",
    "the final Katz centralities.\n",
    "\n",
    "In practice, with large matrices, a small variant\n",
    "of the first method is more efficient than taking an inverse.  The idea is simply to bypass computing\n",
    "the full $\\sigma$-matrix by implementing the first line\n",
    "of (5):\n",
    "\n",
    "$$\n",
    "(5') \\;\n",
    "\\begin{array}[t]{l}\n",
    "x_{i+1} = \\alpha A x_{i} + {\\mathbf 1}\\\\\n",
    "\\end{array}\n",
    "$$\n",
    "\n",
    "It's clear that if $x_{0} = {\\mathbf 1}$, this works out as\n",
    "\n",
    "$$\n",
    "\\begin{array}[t]{lcl}\n",
    "x_{0} &=& {\\mathbf 1}\\\\\n",
    "x_{1} &=& \\alpha A {\\mathbf 1} + {\\mathbf 1}\\\\\n",
    "x_{2} &=& \\alpha A (\\alpha A {\\mathbf 1} + {\\mathbf 1}) + {\\mathbf 1}   = \\alpha^{2} A^{2} {\\mathbf 1} + \\alpha A {\\mathbf 1} + {\\mathbf 1}\\\\\n",
    "& = & \\dots\n",
    "\\end{array}\n",
    "$$\n",
    "\n",
    "For $k$ iterations this is k iterations of\n",
    "our infinite sum applied to $x_{0}$, exactly what we did above, without\n",
    "taking full powers of A, with $A^{0}$ understood to be the identity matrix $I_{n}$:\n",
    "\n",
    "$$\n",
    "\\begin{array}[t]{l}\n",
    "x_k = (\\sum^{k}_{i=0}\\alpha^{i} A^{i}) {\\mathbf 1} = \\sigma{\\mathbf 1}\\\\\n",
    "\\end{array}\n",
    "$$\n",
    "\n",
    "Let's redo the example above with this leaner version, which uses less costly matrix multiplications."
   ]
  },
  {
   "cell_type": "code",
   "execution_count": 78,
   "metadata": {},
   "outputs": [
    {
     "data": {
      "text/plain": [
       "array([1.        , 6.11432739, 6.11432739, 8.42409901])"
      ]
     },
     "execution_count": 78,
     "metadata": {},
     "output_type": "execute_result"
    }
   ],
   "source": [
    "x"
   ]
  },
  {
   "cell_type": "code",
   "execution_count": 13,
   "metadata": {},
   "outputs": [],
   "source": [
    "import math\n",
    "\n",
    "def katz_centrality_vector1(A, power, alpha=1.0,verbose=0):\n",
    "    \"\"\"\n",
    "    Note despite correctly implementing the equation,\n",
    "    this version only works with symmetric matrices in the  networkx\n",
    "    environment.  This will be fixed below.\n",
    "    \"\"\"\n",
    "    (n,m) = A.shape\n",
    "    assert n == m, \"Only square matrices allowed!\"\n",
    "    One = np.ones(n)\n",
    "    x = np.zeros(n)\n",
    "    check_every_n = math.floor(power/10)\n",
    "    \n",
    "    for i in range(power):\n",
    "        if verbose and (i+1)%check_every_n == 0:\n",
    "            reals = np.real(x)\n",
    "            print(f\"Vertex {reals.argmax()}: {math.floor(reals.max()):>9,}\")\n",
    "        x = (alpha * (A @ x)) + One\n",
    "    return x"
   ]
  },
  {
   "cell_type": "code",
   "execution_count": 14,
   "metadata": {},
   "outputs": [
    {
     "name": "stdout",
     "output_type": "stream",
     "text": [
      "Vertex 3:         6\n",
      "Vertex 3:         7\n",
      "Vertex 3:         8\n",
      "Vertex 3:         8\n",
      "Vertex 3:         8\n",
      "Vertex 3:         8\n",
      "Vertex 3:         8\n",
      "Vertex 3:         8\n",
      "Vertex 3:         8\n",
      "Vertex 3:         8\n"
     ]
    },
    {
     "data": {
      "text/plain": [
       "array([1.        , 6.11432739, 6.11432739, 8.42409901])"
      ]
     },
     "execution_count": 14,
     "metadata": {},
     "output_type": "execute_result"
    }
   ],
   "source": [
    "x = katz_centrality_vector1(T, 100, alpha=max_alpha-.1,verbose=1)\n",
    "x"
   ]
  },
  {
   "cell_type": "markdown",
   "metadata": {},
   "source": [
    "Checking our answer `x` against the networkx implementation of katz_centrality."
   ]
  },
  {
   "cell_type": "code",
   "execution_count": 17,
   "metadata": {},
   "outputs": [
    {
     "data": {
      "text/plain": [
       "array([0.082553  , 0.50475563, 0.50475563, 0.69543404])"
      ]
     },
     "execution_count": 17,
     "metadata": {},
     "output_type": "execute_result"
    }
   ],
   "source": [
    "import networkx as nx\n",
    "G = nx.from_numpy_matrix(T)\n",
    "cdict = nx.katz_centrality(G,alpha=max_alpha-.1)\n",
    "# Let's turn the networx dictionary into an array for easier comparison\n",
    "n = T.shape[0]\n",
    "nx_centralities = np.array([cdict[i] for i in range(n)])\n",
    "nx_centralities"
   ]
  },
  {
   "cell_type": "markdown",
   "metadata": {},
   "source": [
    "This looks different but note that the mins and maxes are associated with the right vertices,\n",
    "and the same two vertices have equal centrality values.  \n",
    "\n",
    "In fact, the centrality values of the networkx answer is proportional\n",
    "the `katz_centrality_vector` answer."
   ]
  },
  {
   "cell_type": "markdown",
   "metadata": {},
   "source": [
    "We can visually check proportionality by elementwise division:"
   ]
  },
  {
   "cell_type": "code",
   "execution_count": 18,
   "metadata": {},
   "outputs": [
    {
     "data": {
      "text/plain": [
       "array([12.11343027, 12.11344067, 12.11344067, 12.11344067])"
      ]
     },
     "execution_count": 18,
     "metadata": {},
     "output_type": "execute_result"
    }
   ],
   "source": [
    "x/nx_centralities"
   ]
  },
  {
   "cell_type": "markdown",
   "metadata": {},
   "source": [
    "Same proportion everywhere!  Computationally, here's one way to check if two vectors\n",
    "are proportional:"
   ]
  },
  {
   "cell_type": "code",
   "execution_count": 20,
   "metadata": {},
   "outputs": [
    {
     "name": "stdout",
     "output_type": "stream",
     "text": [
      "[1.         6.11432215 6.11432215 8.42409178]\n"
     ]
    },
    {
     "data": {
      "text/plain": [
       "True"
      ]
     },
     "execution_count": 20,
     "metadata": {},
     "output_type": "execute_result"
    }
   ],
   "source": [
    "scaling_factor = x[0]/nx_centralities[0]\n",
    "scaled_nx = nx_centralities * scaling_factor\n",
    "print(scaled_nx)\n",
    "np.allclose(scaled_nx,x)"
   ]
  },
  {
   "cell_type": "markdown",
   "metadata": {},
   "source": [
    "And now we see the two answers agree."
   ]
  },
  {
   "cell_type": "markdown",
   "metadata": {},
   "source": [
    "### Directed Graph Example"
   ]
  },
  {
   "cell_type": "markdown",
   "metadata": {},
   "source": [
    "Computing centrality in directed graphs has been one of guiding concerns (this is a chief motivation\n",
    "for generalizing Eigenvector Centrality to Katz Centrality.\n",
    "\n",
    "Let's use some directed graph examples."
   ]
  },
  {
   "cell_type": "code",
   "execution_count": 93,
   "metadata": {},
   "outputs": [],
   "source": [
    "import networkx as nx \n",
    "\n",
    "\n",
    "# This version is a variant of make_symmetric_adjacency_matrix (defined above)\n",
    "\n",
    "def make_asymmetric_adjacency_matrix (n,no_self_loops=1, seed=None, return_networkx_graph=False):\n",
    "    \"\"\"\n",
    "    no_self_loops=1: We assume A has no self loops, so \n",
    "    the diagonal is filled with 0s.\n",
    "    \"\"\"\n",
    "    A = np.zeros((n,n))\n",
    "    if seed is not None:\n",
    "        random.seed(seed)\n",
    "    for i in range (n):\n",
    "        for j in range(n):\n",
    "            if no_self_loops and i == j:\n",
    "                continue\n",
    "            # Flip a coin.  Vertices connected by an edge with prob .5\n",
    "            A[i,j] = random.randint(0,1)\n",
    "    if return_networkx_graph:\n",
    "        return (nx.from_numpy_matrix(A,create_using=nx.DiGraph),A)\n",
    "    return A\n",
    "\n",
    "# We'll mostly use the networkx functions that do the same job.\n",
    "\n",
    "def make_asymmetric_graph(n, p=.5,seed=None):\n",
    "    G = nx.gnp_random_graph(n, p, seed=seed, directed=True)\n",
    "    return G,nx.to_numpy_array(G)"
   ]
  },
  {
   "cell_type": "code",
   "execution_count": 50,
   "metadata": {},
   "outputs": [
    {
     "name": "stdout",
     "output_type": "stream",
     "text": [
      "57\n"
     ]
    }
   ],
   "source": [
    "n=8\n",
    "for sd in range(55,75):\n",
    "    G4,B4=make_asymmetric_graph (n, seed=sd)\n",
    "    k_out=B4.sum(axis=1)\n",
    "    if k_out.min() == 0:\n",
    "        print(sd)\n",
    "        break"
   ]
  },
  {
   "cell_type": "code",
   "execution_count": 51,
   "metadata": {},
   "outputs": [
    {
     "data": {
      "text/plain": [
       "array([[0., 1., 0., 1., 0., 0., 1., 0.],\n",
       "       [0., 0., 0., 1., 0., 0., 0., 1.],\n",
       "       [0., 0., 0., 0., 0., 0., 0., 0.],\n",
       "       [0., 1., 0., 0., 1., 0., 1., 0.],\n",
       "       [0., 1., 0., 1., 0., 0., 0., 1.],\n",
       "       [1., 1., 0., 1., 0., 0., 1., 1.],\n",
       "       [0., 1., 1., 0., 1., 0., 0., 1.],\n",
       "       [1., 0., 1., 1., 1., 1., 0., 0.]])"
      ]
     },
     "execution_count": 51,
     "metadata": {},
     "output_type": "execute_result"
    }
   ],
   "source": [
    "B4"
   ]
  },
  {
   "cell_type": "markdown",
   "metadata": {},
   "source": [
    "In agreement with the adjacency matrix, vertex 2 in the networkx graph has no outgoing edges."
   ]
  },
  {
   "cell_type": "code",
   "execution_count": 466,
   "metadata": {
    "scrolled": true
   },
   "outputs": [
    {
     "data": {
      "image/png": "[encoded data removed]",
      "text/plain": [
       "<Figure size 640x480 with 1 Axes>"
      ]
     },
     "metadata": {},
     "output_type": "display_data"
    }
   ],
   "source": [
    "n=8\n",
    "G4,B4=make_asymmetric_graph (n, seed=57)\n",
    "nx.draw_networkx(G4)"
   ]
  },
  {
   "cell_type": "markdown",
   "metadata": {},
   "source": [
    "A second example.  Make sure you understand the connection between the adjacency matrix and the\n",
    "graph.  A 1 in column $j$ of row $i$ ($B[i,:]$) means there is an edge from $i$ to $j$.  Equivalently, \n",
    "a 1 in row $i$ of column $j$ ($B[:,j]$) means there is an edge from $i$ to $j$.\n",
    "\n",
    "More succinctly, $B[i,j]=1$ means there is an edge from $i$ to $j$."
   ]
  },
  {
   "cell_type": "code",
   "execution_count": 56,
   "metadata": {
    "scrolled": true
   },
   "outputs": [
    {
     "data": {
      "image/png": "[encoded data removed]",
      "text/plain": [
       "<Figure size 640x480 with 1 Axes>"
      ]
     },
     "metadata": {},
     "output_type": "display_data"
    }
   ],
   "source": [
    "n=8\n",
    "(G2,B2) = make_asymmetric_graph(n,seed=47)\n",
    "nx.draw_networkx(G2)"
   ]
  },
  {
   "cell_type": "code",
   "execution_count": 57,
   "metadata": {},
   "outputs": [
    {
     "data": {
      "text/plain": [
       "array([[0., 1., 1., 1., 1., 0., 1., 1.],\n",
       "       [1., 0., 1., 1., 1., 0., 1., 0.],\n",
       "       [0., 0., 0., 0., 1., 0., 1., 0.],\n",
       "       [1., 1., 0., 0., 0., 0., 0., 1.],\n",
       "       [0., 0., 1., 1., 0., 1., 1., 0.],\n",
       "       [1., 0., 0., 0., 0., 0., 1., 0.],\n",
       "       [0., 0., 0., 1., 0., 1., 0., 0.],\n",
       "       [1., 0., 1., 1., 0., 1., 0., 0.]])"
      ]
     },
     "execution_count": 57,
     "metadata": {},
     "output_type": "execute_result"
    }
   ],
   "source": [
    "B2"
   ]
  },
  {
   "cell_type": "code",
   "execution_count": 476,
   "metadata": {},
   "outputs": [],
   "source": [
    "def katz_centrality_vector(A, power, alpha=.85, beta=1.0, \n",
    "                           personalization=None, verbose=0):\n",
    "    \"\"\"\n",
    "    This version works with both direct and undirected graphs in\n",
    "    the networkx environment.  See the documentation for pagerank.\n",
    "    \"\"\"\n",
    "    (n,m) = A.shape\n",
    "    assert n == m, \"Only square matrices allowed!\"\n",
    "    if personalization is None:\n",
    "        personalization = np.ones(n)\n",
    "    One = beta * personalization\n",
    "    x = np.zeros(n)\n",
    "    check_every_n = math.floor(power/10)\n",
    "    for i in range(power):\n",
    "        if verbose and (i+1)%check_every_n == 0:\n",
    "            print(f\"Vertex {x.argmax()}: {math.floor(x.max()):>9,}\")\n",
    "        x = (alpha * (x@A)) + One\n",
    "    return x\n"
   ]
  },
  {
   "cell_type": "markdown",
   "metadata": {},
   "source": [
    "Let's compute the Katz Centrality vector for asymmetric adjacency matrix (= directed graph).\n",
    "We first need to compute eigenvalues to find appropriate $\\alpha$s.\n",
    "\n",
    "Since the adjacency matrix is asymmetric, imaginary eigenvalues are possible, though they do\n",
    "not arise in this instance."
   ]
  },
  {
   "cell_type": "code",
   "execution_count": 467,
   "metadata": {},
   "outputs": [
    {
     "name": "stdout",
     "output_type": "stream",
     "text": [
      "eigv: 3.08+0.00j\n",
      "Vertex 3:         4\n",
      "Vertex 3:         4\n",
      "Vertex 3:         4\n",
      "Vertex 3:         4\n",
      "Vertex 3:         4\n",
      "Vertex 3:         4\n",
      "Vertex 3:         4\n",
      "Vertex 3:         4\n",
      "Vertex 3:         4\n",
      "Vertex 3:         4\n"
     ]
    },
    {
     "name": "stderr",
     "output_type": "stream",
     "text": [
      "/var/folders/_q/2s1hy5bx1l7f9j1lw9zjgt19_wb463/T/ipykernel_48097/2797797203.py:16: ComplexWarning: Casting complex values to real discards the imaginary part\n",
      "  print(f\"Vertex {x.argmax()}: {math.floor(x.max()):>9,}\")\n"
     ]
    },
    {
     "data": {
      "text/plain": [
       "array([2.2889779 +0.j, 4.42791688+0.j, 2.53434598+0.j, 4.59526549+0.j,\n",
       "       3.565082  +0.j, 1.86961577+0.j, 2.96352484+0.j, 3.87695324+0.j])"
      ]
     },
     "execution_count": 467,
     "metadata": {},
     "output_type": "execute_result"
    }
   ],
   "source": [
    "random.seed(42)\n",
    "random.seed(42)\n",
    "\n",
    "eig_val0 = find_leading_eigenval(B4)\n",
    "print(f'eigv: {eig_val0:.2f}')\n",
    "max_alpha0 = 1/eig_val0\n",
    "katz_centrality_vector(B4, 100, alpha=max_alpha0-.1,verbose=1)"
   ]
  },
  {
   "cell_type": "markdown",
   "metadata": {},
   "source": [
    "The Katz_centrality leader is also an indegree centrality leader."
   ]
  },
  {
   "cell_type": "code",
   "execution_count": 469,
   "metadata": {},
   "outputs": [
    {
     "data": {
      "text/plain": [
       "array([2., 5., 2., 5., 3., 1., 3., 4.])"
      ]
     },
     "execution_count": 469,
     "metadata": {},
     "output_type": "execute_result"
    }
   ],
   "source": [
    "B4.sum(axis=0)"
   ]
  },
  {
   "cell_type": "markdown",
   "metadata": {},
   "source": [
    "## Page Rank"
   ]
  },
  {
   "cell_type": "markdown",
   "metadata": {},
   "source": [
    "Pagerank was first discussed under that name in a paper describing Google's framework for web search,\n",
    "in particular, its method for\n",
    "ranking pages retrieved by a web search engine.  The idea is that some\n",
    "sort of metric for assigning importance to pages should play a key role.\n",
    "\n",
    "Brin, S. and Page, L. The Anatomy of a large-scale hypertextual Web search engine.  *Comput.\n",
    "Netw.* **30**  107-117(1998).\n",
    "\n",
    "Pagerank is thus essentially a centrality measure, and as it happens, it\n",
    "is closely related to Katz Centrality. But, in this application, we are thinking\n",
    "mainly about the world wide web, a directed graph with some special\n",
    "properties. Consider Newman's example:  The *Yahoo!* Directory\n",
    "is an extremely important page, and it points to my web page, but it also points to millions of\n",
    "other web pages.  Should all of our pages receive extremely high centrality values simply\n",
    "because the *Yahoo!* directory page points to them? Probably not.\n",
    "\n",
    "Solution: We qualify the degree to which nodes confer high centrality\n",
    "on their neighbors by dividing their centrality weight by their out-degree.  This means \n",
    "nodes with extremely high out-degree should receive less weight\n",
    "when propagating their centrality. We modify our basic definition of Katz Centrality (5') to\n",
    "take account of a node's outdegree.\n",
    "\n",
    "$$\n",
    "(15)\\,\\,  x_{i} = \\alpha \\sum_{j} A_{ij} \\frac{x_j}{k^{out}_{j}} + {\\mathbf 1}\n",
    "$$\n",
    "\n",
    "An issue is that there can of course be vertices with 0 outdegree.  This expression is undefined in\n",
    "those cases.  Notice that it's also true that in such cases $A_{ij}$ will be 0.  So what we want to do is set\n",
    "$k^{out}_{j}$ to be 1 in those cases (the exact value doesnt matter).\n",
    "Then\n",
    "\n",
    "$$\n",
    "A_{ij} \\frac{x_j}{k^{out}_{j}} = 0\n",
    "$$\n",
    "\n",
    "And vertices like $j$ will correctly contribute nothing to the centrality of vertex $i$.\n",
    "\n",
    "In matrix terms:\n",
    "\n",
    "$$\n",
    "(16)\\,\\,x = \\alpha AD^{-1}x + {\\mathbf 1}\n",
    "$$\n",
    "\n",
    "where D is the diagonal matrix with diagonal elements $D_{ii} = \\max(k^{out}_{i}, 1)$.\n",
    "\n",
    "Solving (16):\n",
    "\n",
    "$$\n",
    "(17)\\,\\,x = (I - \\alpha AD^{-1})^{-1}{\\mathbf 1}\n",
    "$$\n",
    "\n",
    "The inverse on the RHS can be simplified as follows:\n",
    "\n",
    "$$\n",
    "\\begin{array}[t]{l}\n",
    "(I - {\\alpha}AD^{-1})^{-1}\\\\\n",
    "D (D^{-1}\\,(I - \\alpha AD^{-1})^{-1})\\\\\n",
    "D \\,((I - \\alpha AD^{-1})\\,D)^{-1}\\\\\n",
    "D \\,(D - \\alpha AD^{-1}D)^{-1}\\\\\n",
    "D \\,(D - \\alpha A)^{-1}\\\\\n",
    "\\end{array}\n",
    "$$\n",
    "\n",
    "Substituting back into (17)\n",
    "\n",
    "$$\n",
    "(18)\\,\\,x = D \\,(D - \\alpha A)^{-1}{\\mathbf 1}\n",
    "$$\n",
    "\n",
    "For practical computational purposes, however, we will use equation (16)\n",
    "much as we used (5') for computing Katz Centrality.\n",
    "\n",
    "Working with (16), then, let's add two fine points.  First, we may want to start with\n",
    "some initial assignment of centrality values to the vertices other than 1.\n",
    "Let's call that number $\\beta$.  It's best to think of $\\beta$ as a weight indicating\n",
    "how much importance we attach to the intrinsic centralities of vertices\n",
    "and $\\alpha$ as a weight indicating how much importance we attach to the \n",
    "centrality propagation process, which relies on how the vertices are connected.\n",
    "\n",
    "$$\n",
    "(19)\\,\\, x = \\alpha AD^{-1}x + \\beta\\,{\\mathbf 1}\n",
    "$$\n",
    "\n",
    "The usual practice is to have $\\alpha$ and $\\beta$ sum to 1, though nothing in  the\n",
    "logic we've used thuse far requires that (what is still required is that $\\alpha \\lt \\kappa_{1}^{-1}$)\n",
    "Now suppose we wish to assign different initial centralities to different vertices.\n",
    "for example, in a document query system, each document might be assigned a probability\n",
    "indicating how likely it is to be relevant.\n",
    "\n",
    "Let's call that vector ${\\mathbf p}$ (for personalization):\n",
    "\n",
    "$$\n",
    "(20)\\,\\,x = \\alpha AD^{-1}x + \\beta\\,{\\mathbf p}\n",
    "$$\n",
    "\n",
    "In many instances we will still use ${\\mathbf 1}$ as our personalization vector."
   ]
  },
  {
   "cell_type": "markdown",
   "metadata": {},
   "source": [
    "#### Making $D^{-1}$"
   ]
  },
  {
   "cell_type": "markdown",
   "metadata": {},
   "source": [
    "We consider how to compute $D^{-1}$ in Python.  We'll start with a graph which has\n",
    "a vertex with 0 out degree, since that is what led us to complicate our definition\n",
    "of $D$."
   ]
  },
  {
   "cell_type": "code",
   "execution_count": 5,
   "metadata": {
    "scrolled": true
   },
   "outputs": [
    {
     "name": "stdout",
     "output_type": "stream",
     "text": [
      "2\n"
     ]
    },
    {
     "data": {
      "image/png": "[encoded data removed]",
      "text/plain": [
       "<Figure size 640x480 with 1 Axes>"
      ]
     },
     "metadata": {},
     "output_type": "display_data"
    }
   ],
   "source": [
    "n=8\n",
    "\n",
    "G,B=make_asymmetric_graph (n, seed=57)\n",
    "outdegs = B.sum(axis=1)\n",
    "if outdegs.min() == 0:\n",
    "   print(outdegs.argmin())\n",
    " \n",
    "nx.draw_networkx(G)"
   ]
  },
  {
   "cell_type": "markdown",
   "metadata": {},
   "source": [
    "As desired, vertex 2 has no outward bound edges.\n",
    "\n",
    "The corresponding adjacency matrix:"
   ]
  },
  {
   "cell_type": "code",
   "execution_count": 62,
   "metadata": {},
   "outputs": [
    {
     "data": {
      "text/plain": [
       "array([[0., 1., 0., 1., 0., 0., 1., 0.],\n",
       "       [0., 0., 0., 1., 0., 0., 0., 1.],\n",
       "       [0., 0., 0., 0., 0., 0., 0., 0.],\n",
       "       [0., 1., 0., 0., 1., 0., 1., 0.],\n",
       "       [0., 1., 0., 1., 0., 0., 0., 1.],\n",
       "       [1., 1., 0., 1., 0., 0., 1., 1.],\n",
       "       [0., 1., 1., 0., 1., 0., 0., 1.],\n",
       "       [1., 0., 1., 1., 1., 1., 0., 0.]])"
      ]
     },
     "execution_count": 62,
     "metadata": {},
     "output_type": "execute_result"
    }
   ],
   "source": [
    "B"
   ]
  },
  {
   "cell_type": "markdown",
   "metadata": {},
   "source": [
    "Sum of cols of B: indegrees.  Note According to the standard interp  in Newman, this is wrong.  But this\n",
    "is how 2D adjacency arrays are interpreted in networkx, which is what will guide us\n",
    "in writing the code below."
   ]
  },
  {
   "cell_type": "code",
   "execution_count": 63,
   "metadata": {},
   "outputs": [
    {
     "data": {
      "text/plain": [
       "array([2., 5., 2., 5., 3., 1., 3., 4.])"
      ]
     },
     "execution_count": 63,
     "metadata": {},
     "output_type": "execute_result"
    }
   ],
   "source": [
    "\n",
    "indegs = B.sum(axis=0)\n",
    "indegs"
   ]
  },
  {
   "cell_type": "code",
   "execution_count": 64,
   "metadata": {},
   "outputs": [
    {
     "data": {
      "text/plain": [
       "2.0"
      ]
     },
     "execution_count": 64,
     "metadata": {},
     "output_type": "execute_result"
    }
   ],
   "source": [
    "# indegree of vertex 2\n",
    "indegs[2]"
   ]
  },
  {
   "cell_type": "markdown",
   "metadata": {},
   "source": [
    "Sum of rows: outdegrees."
   ]
  },
  {
   "cell_type": "code",
   "execution_count": 65,
   "metadata": {},
   "outputs": [
    {
     "data": {
      "text/plain": [
       "array([3., 2., 0., 3., 3., 5., 4., 5.])"
      ]
     },
     "execution_count": 65,
     "metadata": {},
     "output_type": "execute_result"
    }
   ],
   "source": [
    "outdegs = B.sum(axis=1)\n",
    "outdegs"
   ]
  },
  {
   "cell_type": "markdown",
   "metadata": {},
   "source": [
    "Row w index 2 shows that vertex 2 has out degree 0."
   ]
  },
  {
   "cell_type": "code",
   "execution_count": 774,
   "metadata": {},
   "outputs": [
    {
     "data": {
      "text/plain": [
       "array([0., 0., 0., 0., 0., 0., 0., 0.])"
      ]
     },
     "execution_count": 774,
     "metadata": {},
     "output_type": "execute_result"
    }
   ],
   "source": [
    "B[2,:]"
   ]
  },
  {
   "cell_type": "markdown",
   "metadata": {},
   "source": [
    "Row w index 1 shows that vertex 1 has out degree 2."
   ]
  },
  {
   "cell_type": "code",
   "execution_count": 775,
   "metadata": {},
   "outputs": [
    {
     "data": {
      "text/plain": [
       "array([0., 0., 0., 1., 0., 0., 0., 1.])"
      ]
     },
     "execution_count": 775,
     "metadata": {},
     "output_type": "execute_result"
    }
   ],
   "source": [
    "B[1,:]"
   ]
  },
  {
   "cell_type": "code",
   "execution_count": 776,
   "metadata": {},
   "outputs": [
    {
     "data": {
      "text/plain": [
       "array([3., 2., 0., 3., 3., 5., 4., 5.])"
      ]
     },
     "execution_count": 776,
     "metadata": {},
     "output_type": "execute_result"
    }
   ],
   "source": [
    "outdegs = B.sum(axis=1)\n",
    "outdegs"
   ]
  },
  {
   "cell_type": "markdown",
   "metadata": {},
   "source": [
    "The is the diagonal of $D^{-1}$."
   ]
  },
  {
   "cell_type": "code",
   "execution_count": 779,
   "metadata": {},
   "outputs": [
    {
     "data": {
      "text/plain": [
       "array([0.33333333, 0.5       , 1.        , 0.33333333, 0.33333333,\n",
       "       0.2       , 0.25      , 0.2       ])"
      ]
     },
     "execution_count": 779,
     "metadata": {},
     "output_type": "execute_result"
    }
   ],
   "source": [
    "adjusted_outdegs = np.where(outdegs > 0, outdegs, 1)\n",
    "adjusted_outdegs_inv = 1/adjusted_outdegs\n",
    "adjusted_outdegs_inv"
   ]
  },
  {
   "cell_type": "markdown",
   "metadata": {},
   "source": [
    "Combining our steps, we can now make $D^{-1}$."
   ]
  },
  {
   "cell_type": "code",
   "execution_count": 778,
   "metadata": {},
   "outputs": [
    {
     "data": {
      "text/plain": [
       "array([[0.33333333, 0.        , 0.        , 0.        , 0.        ,\n",
       "        0.        , 0.        , 0.        ],\n",
       "       [0.        , 0.5       , 0.        , 0.        , 0.        ,\n",
       "        0.        , 0.        , 0.        ],\n",
       "       [0.        , 0.        , 1.        , 0.        , 0.        ,\n",
       "        0.        , 0.        , 0.        ],\n",
       "       [0.        , 0.        , 0.        , 0.33333333, 0.        ,\n",
       "        0.        , 0.        , 0.        ],\n",
       "       [0.        , 0.        , 0.        , 0.        , 0.33333333,\n",
       "        0.        , 0.        , 0.        ],\n",
       "       [0.        , 0.        , 0.        , 0.        , 0.        ,\n",
       "        0.2       , 0.        , 0.        ],\n",
       "       [0.        , 0.        , 0.        , 0.        , 0.        ,\n",
       "        0.        , 0.25      , 0.        ],\n",
       "       [0.        , 0.        , 0.        , 0.        , 0.        ,\n",
       "        0.        , 0.        , 0.2       ]])"
      ]
     },
     "execution_count": 778,
     "metadata": {},
     "output_type": "execute_result"
    }
   ],
   "source": [
    "\n",
    "outdegs = B.sum(axis=1)\n",
    "adjusted_outdegs = np.where(outdegs > 0, outdegs, 1)\n",
    "adjusted_outdegs_inv = 1/adjusted_outdegs\n",
    "D_inv = np.diag(adjusted_outdegs_inv)\n",
    "D_inv"
   ]
  },
  {
   "cell_type": "markdown",
   "metadata": {},
   "source": [
    "Per equation (16) above (= 7.16 in Newman, p. 176, 1st Edition), we'd like to implement `page_rank` by calling `katz_centrality_vector` on $AD^{-1}$.\n",
    "\n",
    "There is one complication however. $A$ needs to be transposed.  \n",
    "\n",
    "Here's why.  The pagerank equation (from Newman) is\n",
    "    \n",
    "$$\n",
    "x_{i} = \\alpha \\sum_{j} A_{ij} \\frac{x_j}{k^{out}_{j}} + {\\mathbf 1}\n",
    "$$\n",
    "\n",
    "Inside the sum,  $A[i,j]=1$ means there is an edge **from** $j$ to $i$:\n",
    "       \n",
    "       1.  In a directed graph: The centrality of vertex i is the sum of the centralities of vertices sending edges to vertex $i$.\n",
    "       2.  We are dividing vertex $j$'s centrality $x_j$ by vertex $j$'s OUTdegree.\n",
    "    \n",
    "But to stay consistent with networkx (in particular the functions\n",
    "that map back and forth between numpy matrices and networkx graphs), \n",
    "$A_{ij}$ needs to represent an edge from i to j.  So we implement\n",
    "the $AD^{-1}$ of Newman's equation as $D^{-1}A$.  \n",
    "Similarily, the definition of katz_centrality_vector needs implement the\n",
    "basic katz-centrality recursion using $x^{T}A$ in place of $Ax$."
   ]
  },
  {
   "cell_type": "code",
   "execution_count": 25,
   "metadata": {},
   "outputs": [],
   "source": [
    "def page_rank (A, power, alpha=None, tol=.1, beta=None, personalization = None, verbose=0):\n",
    "    \"\"\"\n",
    "    The pagerank equation (from Newman) is\n",
    "    \n",
    "    x_{i} = \\alpha \\sum_{j} A_{ij} \\frac{x_j}{k^{out}_{j}} + {\\mathbf 1}\n",
    "    \n",
    "\n",
    "    But to stay consistent with networkx, A_{ij} represents an edge from i to j.  \n",
    "    \n",
    "    So we implement the $AD^{-1}$ of the equation as $D^{-1}A$. \n",
    "    \n",
    "    \"\"\"\n",
    "    (n,m) = A.shape\n",
    "    T =  get_D_inv(A)@A\n",
    "    if alpha is None:\n",
    "        eig_val = find_leading_eigenval(T)\n",
    "        max_alpha = 1/eig_val\n",
    "        alpha = max_alpha - tol\n",
    "        if verbose:\n",
    "            print('eig_val:', eig_val, 'alpha:', alpha)\n",
    "    if beta is None:\n",
    "        if alpha > 1:\n",
    "            print('Warning. alpha is greater than 1.')\n",
    "            beta = 1.0\n",
    "        else:\n",
    "            beta = 1 - alpha\n",
    "    if personalization is None:\n",
    "        personalization = np.ones(n)/n\n",
    "    return katz_centrality_vector(T, power, alpha=alpha, beta=beta, \n",
    "                                  personalization=personalization,\n",
    "                                  verbose=verbose),alpha\n",
    "\n",
    "def katz_centrality_vector(A, power, alpha=.85, beta=1.0, \n",
    "                           personalization=None, verbose=0):\n",
    "    \"\"\"\n",
    "    This version works with both direct and undirected graphs in\n",
    "    the networkx environment. It uses $x^{A}$ in place of $Ax$. See the comments on\n",
    "    pagerank in the notebook text and the documentation for pagerank.\n",
    "    \"\"\"\n",
    "    (n,m) = A.shape\n",
    "    assert n == m, \"Only square matrices allowed!\"\n",
    "    if personalization is None:\n",
    "        personalization = np.ones(n)\n",
    "    One = beta * personalization\n",
    "    x = np.zeros(n)\n",
    "    check_every_n = math.floor(power/10)\n",
    "    for i in range(power):\n",
    "        if verbose and (i+1)%check_every_n == 0:\n",
    "            print(f\"Vertex {x.argmax()}: {math.floor(x.max()):>9,}\")\n",
    "        x = (alpha * (x@A)) + One\n",
    "    return x\n",
    "\n",
    "\n",
    "def get_D_inv (A):\n",
    "    \"\"\"\n",
    "    A is an adjacency matrix where the sum of the 1s in row $i$ gives the \n",
    "    OUTdegree of vertex $i$. That is, $A_{ij}=1$ indicates an edge from  \n",
    "    vertex $i$ to vertex $j$.  \n",
    "    \"\"\"\n",
    "    outdegs = A.sum(axis=1)\n",
    "    adjusted_outdegs = np.where(outdegs > 0, outdegs, 1)\n",
    "    return np.diag(1/adjusted_outdegs)\n",
    "\n",
    "def old_find_leading_eigenval (A):\n",
    "    \"\"\"\n",
    "    If A is symmetric eigvalsh will certainly be faster.  See \n",
    "    find_leading_eigval_check_symmetric\n",
    "    \"\"\"\n",
    "    return np.linalg.eigvals(A).max()\n",
    "\n",
    "\n",
    "def find_leading_eigenval_by_power_method(A,max_iters=30):\n",
    "    \"\"\"\n",
    "    Essentially the power method finds the first eigenvalue and first \n",
    "    eigenvector of a matrix.  The basic algorithm finds the first eigenvector,\n",
    "    from which the corresponding eigenvalue is easily computed.\n",
    "    \n",
    "    Note the following now entirely correct vaceat from some MIT course notes:\n",
    "    \n",
    "      \"If two eigenvalues are of equal absolute value and opposite sign the\n",
    "       method will not converge. \n",
    "          ---https://web.mit.edu/18.06/www/Spring17/Power-Method.pdf\"\n",
    "    \n",
    "    Let's call these zero-sum eigenvalues. There are certainly examples galore. \n",
    "    In seed range(40,60) there are 3 examples.\n",
    "    \n",
    "    random.seed(51)\n",
    "    T= make_symmetric_adjacency_matrix (m)\n",
    "    \n",
    "    which gives\n",
    "    \n",
    "    array([[0., 0., 0., 0.],\n",
    "           [0., 0., 0., 1.],\n",
    "           [0., 0., 0., 1.],\n",
    "           [0., 1., 1., 0.]])\n",
    "           \n",
    "    This singular matrix has eigenvalues of equal magnitude and opposite sign\n",
    "    \n",
    "    >>> np.linalg.eigvals(T)\n",
    "    array([ 1.41421356, -1.41421356,  0.        ,  0.        ])\n",
    "\n",
    "    Given any input vector The power method oscillates betyween two vectors.\n",
    "    for example\n",
    "    \n",
    "    v0= [0.43701876 0.46798616 0.48795425 0.56022626]\n",
    "    v1= [0.         0.58604727 0.58604727 1.        ]\n",
    "    v2= [0.         0.85317351 0.85317351 1.        ]\n",
    "    v3 = v1           \n",
    "    v4 = v2 \n",
    "    \n",
    "    ....\n",
    "    \n",
    "    Another example with zero-sum eigenvalues.\n",
    "                \n",
    "    T1 = array([[0., 1., 0., 0],\n",
    "                [1., 0., 1., 0.],\n",
    "                [0., 1., 0., 0.],\n",
    "                [0, 0., 0., 0.]])\n",
    "       \n",
    "    Both matrices,  T and T1 are also of reduced rank (have 0-eigenvalues)  \n",
    "    That means the proof that the sum of powers of A converges fails, because \n",
    "    there can be vectors in R^4 that are not expressible as a linear combination \n",
    "    of the eigenvectors (the eigenvectors are not a basis for R^4).  However the\n",
    "    zero-sum property which may be more relevant to the oscillating behavior. \n",
    "    In this case the zero-sum eigenvalues are 1 and -1.\n",
    "    \n",
    "    Now having a zero eigenvalue and having\n",
    "    zero-sum evals is a necessary but not a sufficient condition for non convergence.\n",
    "    The minimal pair is seeds 51 [zero-sum evals plus two 0 evals with \n",
    "    non-convergence and 55 [zero-sum evals plus two 0 evals and \n",
    "    converges]. There is a possibility that this is an accident of what\n",
    "    starting vector was used, and that both can be non-convergent.\n",
    "    \n",
    "    Theoretically using the powers method to find only the leading eval ought\n",
    "    to be faster than using np.eigvals to find all of them.  Havent tested this yet.\n",
    "    \n",
    "    \n",
    "    \"\"\"\n",
    "    e_vec = np.random.rand(A.shape[0])\n",
    "    for _ in range(max_iters):\n",
    "        e_vec0 = A @ e_vec\n",
    "        e_val,e_vec = normalize2(e_vec0)\n",
    "    return e_val\n",
    "\n",
    "def normalize(x):\n",
    "    fac = abs(x).max()\n",
    "    x_n = x / fac\n",
    "    return fac, x_n\n",
    "\n",
    "def find_leading_eigenval (A,tol=.01):\n",
    "    \"\"\"\n",
    "    If A is symmetric eigvalsh will certainly be faster.  \n",
    "    See find_leading_eigval_check_symmetric\n",
    "    This returns the eval with the highest absolute value.\n",
    "    \"\"\"\n",
    "    evals = eigvals(A)\n",
    "    pevals = np.abs(evals)\n",
    "    cand1 = pevals[pevals.argsort()[-1]]\n",
    "    for ev in evals:\n",
    "        if ev-cand1 < tol:\n",
    "            return ev\n",
    "    # else return the highest absolute value, preserving sign\n",
    "    return evals[pevals.argsort()[-1]]\n",
    "\n",
    "def normalize2(x):\n",
    "    \"\"\"\n",
    "    Bug?  If fac is a minimum because x has negative elements, then\n",
    "    fac*x_n may not equal x.\n",
    "    \"\"\"\n",
    "  \n",
    "    fac = abs(x).max()\n",
    "    x_n = x / x.max()\n",
    "    return fac, x_n\n",
    "\n",
    "def normalize(x):\n",
    "    fac = abs(x).max()\n",
    "    x_n = x / fac\n",
    "    return fac, x_n"
   ]
  },
  {
   "cell_type": "markdown",
   "metadata": {},
   "source": [
    "An alternative implementation of page_rank just transposes A and then exactly implements\n",
    "the page rank equations from our discussion of Newman."
   ]
  },
  {
   "cell_type": "code",
   "execution_count": null,
   "metadata": {},
   "outputs": [],
   "source": [
    "import math\n",
    "import numpy as np\n",
    "\n",
    "def alt_page_rank (A, power, alpha=None, tol=.1, beta=None, personalization = None, verbose=0):\n",
    "    \"\"\"\n",
    "    A needs to be transposed here.  Here's why.  The pagerank equation (from Newman) is\n",
    "    \n",
    "    x_{i} = \\alpha \\sum_{j} A_{ij} \\frac{x_j}{k^{out}_{j}} + {\\mathbf 1}\n",
    "    \n",
    "    Inside the sum each edge ij is an edge FROM j to i:\n",
    "       \n",
    "       1.  In a directed graph\" The centrality of vertex i is the sum of the centralities of \n",
    "           vertices spawning its incoming edges\n",
    "       2.  we are dividing j's centrality x_j by j's OUTdegree\n",
    "    \n",
    "    But to stay consistent with networkx, A_{ij} represents an edge from i to j.  So we implement\n",
    "    the $AD^{-1}$ of the eqution as $A^{T}D^{-1}$.  Here A^{T} is the transpose of A, a matrix in which row i\n",
    "    give the vertices INccoming to i. And $D^{-1}_{ii} = max(k^{out}_{i},1)$; we compute $k^{out}_{i}$ using\n",
    "    A.\n",
    "    \n",
    "    \"\"\"\n",
    "    (n,m) = A.shape\n",
    "    T = A.T @ get_D_inv(A)\n",
    "    if alpha is None:\n",
    "        eig_val = find_leading_eigenval(T)\n",
    "        max_alpha = 1/eig_val\n",
    "        alpha = max_alpha - tol\n",
    "        if verbose:\n",
    "            print('eig_val:', eig_val, 'alpha:', alpha)\n",
    "    if beta is None:\n",
    "        if alpha > 1:\n",
    "            print('Warning. alpha is greater than 1.')\n",
    "            beta = 1.0\n",
    "        else:\n",
    "            beta = 1 - alpha\n",
    "    if personalization is None:\n",
    "        personalization = np.ones(n)/n\n",
    "    return alt_katz_centrality_vector(T, power, alpha=alpha, beta=beta, personalization=personalization,\n",
    "                                  verbose=verbose),alpha\n",
    "\n",
    "def alt_katz_centrality_vector(A, power, alpha=.85, beta=1.0, \n",
    "                               personalization=None, verbose=0):\n",
    "    \"\"\"\n",
    "    This version works undirected graphs (symmetric adjacency matrices) \n",
    "    or with directed graphs in which the $A_{ij}=1$ in the adjacency matrix\n",
    "    encodes an edge from vertex j to vertex i.  This version is consistent with Newman's\n",
    "    equation for KC as written:\n",
    "    \n",
    "    $$\n",
    "    x_{i}  =  \\alpha \\sum_{j}  A_{ij}  + 1\n",
    "    $$\n",
    "    \n",
    "    In a directed graph the general convention is to have vertex i's importance\n",
    "    depend on the centrality of the edges pointing TO it, so this version of the \n",
    "    equation assumes the value of $A_{ij}$ encodes the presence of an edge \n",
    "    from $j$ to $i$.\n",
    "    \n",
    "    But the code in networkx relating adjacency matrices to graphs assumes $A_{ij}=1$ \n",
    "    encodes an edge in the opposite direction.  So in order to use this function\n",
    "    for classic Katz Centrality on a networkx adjacency matrix  A(which we assume through this\n",
    "    notebook), call it as follows:\n",
    "    \n",
    "    alt_katz_centrality_vector(A.T, power)\n",
    "    \n",
    "    \n",
    "    \"\"\"\n",
    "    (n,m) = A.shape\n",
    "    assert n == m, \"Only square matrices allowed!\"\n",
    "    if personalization is None:\n",
    "        personalization = np.ones(n)\n",
    "    One = beta * personalization\n",
    "    x = np.zeros(n)\n",
    "    check_every_n = math.floor(power/10)\n",
    "    for i in range(power):\n",
    "        if verbose and (i+1)%check_every_n == 0:\n",
    "            print(f\"Vertex {x.argmax()}: {math.floor(x.max()):>9,}\")\n",
    "        x = (alpha * (A @ x)) + One\n",
    "    return x"
   ]
  },
  {
   "cell_type": "markdown",
   "metadata": {},
   "source": [
    "We try pagerank first with a symmetric adjacency matrix."
   ]
  },
  {
   "cell_type": "code",
   "execution_count": 26,
   "metadata": {},
   "outputs": [
    {
     "name": "stdout",
     "output_type": "stream",
     "text": [
      "1\n",
      "Vertex 5:         0\n",
      "Vertex 5:         0\n",
      "Vertex 5:         0\n",
      "Vertex 5:         0\n",
      "Vertex 5:         0\n",
      "Vertex 5:         0\n",
      "Vertex 5:         0\n",
      "Vertex 5:         0\n",
      "Vertex 5:         0\n",
      "Vertex 5:         0\n"
     ]
    },
    {
     "data": {
      "text/plain": [
       "array([0.11333228, 0.02097902, 0.15693959, 0.06823027, 0.11267538,\n",
       "       0.20484773, 0.15622663, 0.1667691 ])"
      ]
     },
     "execution_count": 26,
     "metadata": {},
     "output_type": "execute_result"
    }
   ],
   "source": [
    "import random\n",
    "\n",
    "n=8\n",
    "\n",
    "random.seed(31)\n",
    "B3 = make_symmetric_adjacency_matrix (n)\n",
    "outdegs = B3.sum(axis=1)\n",
    "if outdegs.min() == 0:\n",
    "   print(outdegs.argmin())\n",
    " \n",
    "#using nx (and Google) default val for alpha\n",
    "alpha=.85\n",
    "pr_centralities,alpha2 = page_rank (B3, 100, alpha=alpha, verbose=1)\n",
    "pr_centralities/=pr_centralities.sum()\n",
    "pr_centralities"
   ]
  },
  {
   "cell_type": "code",
   "execution_count": 27,
   "metadata": {},
   "outputs": [
    {
     "data": {
      "text/plain": [
       "array([0.11333271, 0.02097902, 0.1569391 , 0.06823044, 0.11267497,\n",
       "       0.20484826, 0.15622684, 0.16676866])"
      ]
     },
     "execution_count": 27,
     "metadata": {},
     "output_type": "execute_result"
    }
   ],
   "source": [
    "G3 = nx.from_numpy_matrix(B3,create_using=nx.Graph)\n",
    "cdict = nx.pagerank(G3,alpha=alpha)\n",
    "# Turn this into a numpy array\n",
    "nx_centralities = np.array([cdict[i] for i in range(n)])\n",
    "nx_centralities"
   ]
  },
  {
   "cell_type": "markdown",
   "metadata": {},
   "source": [
    "Check!"
   ]
  },
  {
   "cell_type": "markdown",
   "metadata": {},
   "source": [
    "Note the leading eigenvalue of $AD^{-1}$ is 1."
   ]
  },
  {
   "cell_type": "code",
   "execution_count": 29,
   "metadata": {},
   "outputs": [
    {
     "data": {
      "text/plain": [
       "1.0"
      ]
     },
     "execution_count": 29,
     "metadata": {},
     "output_type": "execute_result"
    }
   ],
   "source": [
    "eig_val = find_leading_eigenval(B3@get_D_inv (B3))\n",
    "eig_val"
   ]
  },
  {
   "cell_type": "markdown",
   "metadata": {},
   "source": [
    "A note on undirected $AD^{-1}$ graphs for symmetric Adjacency matrices.\n",
    "\n",
    "The leading eigenvector is 1, and the corresponding eigenvector is\n",
    "\n",
    "$$\n",
    "[k_{0},\\,k_{1},\\,\\dots k_{n}],\n",
    "$$\n",
    "\n",
    "where $k_{i}$ is the degree of vertex $i$.  See Newman for discussion."
   ]
  },
  {
   "cell_type": "code",
   "execution_count": 30,
   "metadata": {},
   "outputs": [
    {
     "name": "stdout",
     "output_type": "stream",
     "text": [
      "0\n"
     ]
    },
    {
     "data": {
      "text/plain": [
       "array([ 1.00000000e+00,  6.20552097e-01, -8.49857144e-01,  2.27945304e-01,\n",
       "       -2.08801444e-17, -6.34416633e-01, -3.64223625e-01,  0.00000000e+00])"
      ]
     },
     "execution_count": 30,
     "metadata": {},
     "output_type": "execute_result"
    }
   ],
   "source": [
    "D_inv3 = get_D_inv(B3)\n",
    "T3 = B3@D_inv3\n",
    "evals, evecs = np.linalg.eig(T3)\n",
    "print(evals.argmax())\n",
    "# 1 is the leading eigenvalue\n",
    "evals"
   ]
  },
  {
   "cell_type": "markdown",
   "metadata": {},
   "source": [
    "The leading eigenvector is proportional to the degrees of the vertices; that is, the degree\n",
    "vector is a vector is in the 1-dimensional eigenspace belonging to the leading eigenvector."
   ]
  },
  {
   "cell_type": "code",
   "execution_count": 33,
   "metadata": {},
   "outputs": [
    {
     "data": {
      "text/plain": [
       "(array([-0.2773501 ,  0.        , -0.41602515, -0.13867505, -0.2773501 ,\n",
       "        -0.5547002 , -0.41602515, -0.41602515]),\n",
       " array([2., 0., 3., 1., 2., 4., 3., 3.]),\n",
       " array([ 2., -0.,  3.,  1.,  2.,  4.,  3.,  3.]))"
      ]
     },
     "execution_count": 33,
     "metadata": {},
     "output_type": "execute_result"
    }
   ],
   "source": [
    "evec0 = evecs[:,evals.argmax()]\n",
    "outdegs = B3.sum(axis=1)\n",
    "evec0,outdegs,evec0*(outdegs[0]/evec0[0])"
   ]
  },
  {
   "cell_type": "markdown",
   "metadata": {},
   "source": [
    "Checking eigenvector property on $AD^{-1}$."
   ]
  },
  {
   "cell_type": "code",
   "execution_count": 83,
   "metadata": {},
   "outputs": [
    {
     "name": "stdout",
     "output_type": "stream",
     "text": [
      "[-0.2773501   0.         -0.41602515 -0.13867505 -0.2773501  -0.5547002\n",
      " -0.41602515 -0.41602515]\n",
      "[-0.2773501   0.         -0.41602515 -0.13867505 -0.2773501  -0.5547002\n",
      " -0.41602515 -0.41602515]\n"
     ]
    }
   ],
   "source": [
    "i = 0\n",
    "print(evals[i] * evecs[:,i])\n",
    "print(T3 @ evecs[:,i])"
   ]
  },
  {
   "cell_type": "markdown",
   "metadata": {},
   "source": [
    "Next we'll try directed graphs, which is where pagerank really matters."
   ]
  },
  {
   "cell_type": "code",
   "execution_count": 94,
   "metadata": {},
   "outputs": [
    {
     "data": {
      "image/png": "[encoded data removed]",
      "text/plain": [
       "<Figure size 640x480 with 1 Axes>"
      ]
     },
     "metadata": {},
     "output_type": "display_data"
    }
   ],
   "source": [
    "# Chosen to have a vertex w/ k_{out}=0 \n",
    "n=8\n",
    "# seed = 57 has a vertex with 0 outdegree\n",
    "G4,B4=make_asymmetric_graph (n, seed=57)\n",
    "nx.draw_networkx(G4,with_labels=True)"
   ]
  },
  {
   "cell_type": "markdown",
   "metadata": {},
   "source": [
    "Note vertex 2 has 0 outdegree.  This will allow us to check the definition of D."
   ]
  },
  {
   "cell_type": "code",
   "execution_count": 90,
   "metadata": {},
   "outputs": [
    {
     "data": {
      "text/plain": [
       "array([0.05699076+0.j, 0.18035298+0.j, 0.07399102+0.j, 0.20930946+0.j,\n",
       "       0.14190724+0.j, 0.04770352+0.j, 0.10801976+0.j, 0.18172526+0.j])"
      ]
     },
     "execution_count": 90,
     "metadata": {},
     "output_type": "execute_result"
    }
   ],
   "source": [
    "pr_centralities,alpha = page_rank (B4, 100, verbose=0)\n",
    "pr_centralities/=pr_centralities.sum()\n",
    "pr_centralities"
   ]
  },
  {
   "cell_type": "code",
   "execution_count": 86,
   "metadata": {},
   "outputs": [
    {
     "data": {
      "text/plain": [
       "(0.9734384947298097+0j)"
      ]
     },
     "execution_count": 86,
     "metadata": {},
     "output_type": "execute_result"
    }
   ],
   "source": [
    "alpha"
   ]
  },
  {
   "cell_type": "code",
   "execution_count": 88,
   "metadata": {},
   "outputs": [
    {
     "data": {
      "text/plain": [
       "array([0.0569902 , 0.18035297, 0.07399074, 0.20931014, 0.14190754,\n",
       "       0.04770304, 0.10801948, 0.18172589])"
      ]
     },
     "execution_count": 88,
     "metadata": {},
     "output_type": "execute_result"
    }
   ],
   "source": [
    "cdict = nx.pagerank(G4,alpha=alpha)\n",
    "# Turn cdict into a numpy array for easy comparison\n",
    "nx_centralities = np.array([cdict[i] for i in range(n)])\n",
    "nx_centralities"
   ]
  },
  {
   "cell_type": "code",
   "execution_count": 461,
   "metadata": {},
   "outputs": [
    {
     "data": {
      "text/plain": [
       "array([5, 0, 2, 6, 4, 7, 1, 3])"
      ]
     },
     "execution_count": 461,
     "metadata": {},
     "output_type": "execute_result"
    }
   ],
   "source": [
    "pr_centralities.argsort()"
   ]
  },
  {
   "cell_type": "code",
   "execution_count": 462,
   "metadata": {},
   "outputs": [
    {
     "data": {
      "text/plain": [
       "array([5, 0, 2, 6, 4, 1, 7, 3])"
      ]
     },
     "execution_count": 462,
     "metadata": {},
     "output_type": "execute_result"
    }
   ],
   "source": [
    "nx_centralities.argsort()"
   ]
  },
  {
   "cell_type": "code",
   "execution_count": 92,
   "metadata": {},
   "outputs": [
    {
     "data": {
      "text/plain": [
       "(0.9734384947298115+0j)"
      ]
     },
     "execution_count": 92,
     "metadata": {},
     "output_type": "execute_result"
    }
   ],
   "source": [
    "alpha"
   ]
  },
  {
   "cell_type": "markdown",
   "metadata": {},
   "source": [
    "outdegree centrality.  Pr adheres pretty closely."
   ]
  },
  {
   "cell_type": "markdown",
   "metadata": {},
   "source": [
    "Returning to Katz centrality.  We try it on a directed graph."
   ]
  },
  {
   "cell_type": "code",
   "execution_count": 239,
   "metadata": {
    "scrolled": true
   },
   "outputs": [
    {
     "data": {
      "text/plain": [
       "array([0.23812053+0.j, 0.46063255+0.j, 0.26364596+0.j, 0.47804168+0.j,\n",
       "       0.37087254+0.j, 0.19449463+0.j, 0.30829308+0.j, 0.40331626+0.j])"
      ]
     },
     "execution_count": 239,
     "metadata": {},
     "output_type": "execute_result"
    }
   ],
   "source": [
    "alpha22 = make_alpha(B4,eps=.1)\n",
    "kc_dict = nx.katz_centrality(G4,alpha=alpha22)\n",
    "nx_kc = np.array([kc_dict[i] for i in range(len(kc_dict))])\n",
    "nx_kc"
   ]
  },
  {
   "cell_type": "code",
   "execution_count": 230,
   "metadata": {},
   "outputs": [
    {
     "data": {
      "text/plain": [
       "array([2.2889779 +0.j, 4.42791688+0.j, 2.53434598+0.j, 4.59526549+0.j,\n",
       "       3.565082  +0.j, 1.86961577+0.j, 2.96352484+0.j, 3.87695324+0.j])"
      ]
     },
     "execution_count": 230,
     "metadata": {},
     "output_type": "execute_result"
    }
   ],
   "source": [
    "kcv = katz_centrality_vector(B4, 100, alpha=alpha22)\n",
    "kcv"
   ]
  },
  {
   "cell_type": "code",
   "execution_count": 231,
   "metadata": {
    "scrolled": true
   },
   "outputs": [
    {
     "data": {
      "text/plain": [
       "array([9.61268609+0.j, 9.61268781+0.j, 9.61268663+0.j, 9.61268802+0.j,\n",
       "       9.61268783+0.j, 9.61268577+0.j, 9.61268681+0.j, 9.61268769+0.j])"
      ]
     },
     "execution_count": 231,
     "metadata": {},
     "output_type": "execute_result"
    }
   ],
   "source": [
    "kcv/nx_kc"
   ]
  },
  {
   "cell_type": "markdown",
   "metadata": {},
   "source": [
    "## HITS (Hyperlink-Induced Topic Search)"
   ]
  },
  {
   "cell_type": "markdown",
   "metadata": {},
   "source": [
    "Let's look at another approach to centrality.  Thus far we've assumed all centrality depends on \n",
    "incoming edges.  That is, the guiding intuition has been that the centrality of vertex $i$ is the\n",
    "sum of the centralities of the vertices spawning edges **to** vertex $i$.  But we could\n",
    "just as easily have gone the other way and defined centrality on the basis\n",
    "of outgoing edges.  \n",
    "Then the centrality of vertex $i$ would be the\n",
    "sum of the centralities of the vertices accepting edges **from** vertex $i$.\n",
    "We had some initial application ideas that motivated defining importance based on incoming\n",
    "edges (the world wide web), but in the general case there might well be other kinds of importance\n",
    "depending on outgoing edges.   For example, in a network where the vertices are papers\n",
    "and links are from citing papers to papers cited, we might well be\n",
    "interested in papers that cite a lot of other papers, with citations weighted\n",
    "by how important the cited papers were.  This motivates the idea of defining\n",
    "two kinds of centrality in terms of each other.  Let's call a paper that cites\n",
    "a lot of other papers (outgoing links) a **hub** and papers that are cited\n",
    "by a lot of other papers an **authority**.   Then following Klein (??), we adopt the following idea:\n",
    "\n",
    " 1. Good authorities are pointed to by good hubs.\n",
    " 2. Good hubs point to good authorities.\n",
    "\n",
    "This would motivate a definition involving mutual dependence.  Note: as in all equations in this\n",
    "notebook, we follow Newman's convention for an adjacency matrix $A$: $A_{ij}=1$ means that there is an\n",
    "edge from $j$ to $i$.\n",
    "\n",
    "\n",
    "$$\n",
    "\\begin{array}[t]{llcl}\n",
    "(a) & a_{i} & = & \\alpha \\sum_{j} A_{ij} h_{j}\\\\\n",
    "(b) & h_{i} & = & \\beta \\sum_{j} A_{ji} a_{j}\\\\\n",
    "\\end{array}\n",
    "$$\n",
    "\n",
    "Clause (a) says the authority centrality for vertex $i$ is proportional to the sum of the hub centralities\n",
    "of the vertices $j$ that point to $i$.\n",
    "Note the swapped indices in clause (b);\n",
    "The hub centrality of vertex $i$ is proportional to the sum of  the authority centralities\n",
    "of the vertices $j$ that $i$ points to.  Thus the two HITS centralities are defined via\n",
    "a mutual recursion.\n",
    "\n",
    "In matrix form\n",
    "\n",
    "$$\n",
    "\\begin{array}[t]{llcl}\n",
    "(a') & a & = & \\alpha Ah\\\\\n",
    "(b') & h & = & \\beta A^{T}a\n",
    "\\end{array}\n",
    "$$"
   ]
  },
  {
   "cell_type": "markdown",
   "metadata": {},
   "source": [
    "#### Cocitation and Bibliographic coupling"
   ]
  },
  {
   "cell_type": "markdown",
   "metadata": {},
   "source": [
    "Combining equations (a') and (b') we get\n",
    "\n",
    "$$\n",
    "\\begin{array}[t]{llcl}\n",
    "(a'') & a & = & \\alpha \\beta AA^{T}a\\\\\n",
    "(b'')& h & = & \\beta \\alpha A^{T}Ah\n",
    "\\end{array}\n",
    "$$\n",
    "\n",
    "or \n",
    "$$\n",
    "(A) \\begin{array}[t]{llcl}\n",
    "(a)& AA^{T}a & = & \\lambda a\\\\\n",
    "(b)& A^{T}Ah & = & \\lambda h\n",
    "\\end{array}\n",
    "$$\n",
    "where $\\lambda=(\\alpha\\beta)^{-1}$. Note that in this formulation we have eliminated\n",
    "the mutual recursion in the definition of HITS; authority scores\n",
    "are now defined in terms of a recursion on authority scores, and\n",
    "similarly for hub scores.\n",
    "\n",
    "That is, the authority centrality scores are given by the eigenvector of $AA^{T}$.\n",
    "The hub centrality scores are given by the eigenvector of $A^{T}A$.\n",
    "A couple of fine-print points. First, by an argument similar\n",
    "to the one used for Katz Centrality, it can be shown that the eigenvector\n",
    "in both cases must be the one corresponding to the leading eigenvalue.\n",
    "Second, for equations A to have a solution at all,  $AA^{T}$ and $A^{T}A$\n",
    "must share that eigenvalue.  Do they?  Will they always?  The answer is yes\n",
    "and the proof is quite easy. Suppose $\\lambda$ is an eigenvalue of $AA^{T}$\n",
    "with eigenvector $a$. Then\n",
    "\n",
    "$$\n",
    "AA^{T}a  =  \\lambda a\n",
    "$$\n",
    "\n",
    "Multiplying both sides by $A^{T}$:\n",
    "\n",
    "$$\n",
    "(A^{T}A)A^{T}a  = \\lambda A^{T} a.\n",
    "$$\n",
    "\n",
    "Hence $A^{T} a$ is an eigenvector of $(A^{T}A)$\n",
    "with eigenvalue $\\lambda$.\n",
    "\n",
    "But now we know that $A^{T} a$ is a vector satisfying\n",
    "our requirements for $h$ in equation (A.b). That\n",
    "means we can find $h$ easily (without another eigenvector computation)\n",
    "once we know $a$:\n",
    "\n",
    "$$\n",
    "h = A^{T} a  \n",
    "$$\n",
    "\n",
    "This corresponds to Equation (7.26) in Newman, p, 180.\n",
    "\n",
    "The matrices  $(AA^{T})$ and $(A^{T}A)$  have\n",
    "played an important role elsewhere in network studies.  \n",
    "If $A$ depicts a citation network where vertices represent\n",
    "papers and a link from $i$ to $j$ represents the fact that \n",
    "paper $i$ contains a citation of paper $j$, \n",
    "then  $(AA^{T})$ and $(A^{T}A)$ are referred\n",
    "to as the **cocitation matrix** (call it $C$ for short) and **bibliographic coupling\n",
    "matrix** call it $B$ for short).  $C[i,j]$ contains the number of papers\n",
    "cited by both papers $i$ and $j$.  "
   ]
  },
  {
   "cell_type": "markdown",
   "metadata": {},
   "source": [
    "#### HITS relation to similarity "
   ]
  },
  {
   "cell_type": "markdown",
   "metadata": {},
   "source": [
    "As suggested by our descriptions, the cocitation matrix $C$ and bibliographic coupling\n",
    "matrix matrix $B$ can be viewed as tables of similarity scores.\n",
    "The larger $C[i,j]$ is,\n",
    "the more similar the citation patterns of $i$ and $j$.\n",
    "In the World WideWeb application the corresponding concept is similarity of\n",
    "linking patterns, and we might we call $C$ the colinking matrix;\n",
    "however, we will follow standard usage and continue to refer to $C$ as the cocitation matrix.\n",
    "Conversely, $B[i,j]$ contains the number of papers that\n",
    "have cited both  $i$ and $j$, or the number of web sites\n",
    "that link to both sites $i$ and $j$. The larger that\n",
    "number the more similar the communities interested in $i$ and $j$.\n",
    "Thus, just as we did with\n",
    "Katz Centrality, we have related a centrality measure to a similarity\n",
    "measure. The relationship between the similarity and centrality\n",
    "measures is very similar in the two cases.\n",
    "The centrality measure of a vertex $i$ is the sum of the centralities\n",
    "of each vertex $j$ weighted by their similarity to $i$.\n",
    "Let's review that for $C$, the matrix used\n",
    "for defining authority scores (the case for $B$ us quite similar).\n",
    "\n",
    "Repeating (A.a)  as (B.a):\n",
    "$$\n",
    "(B) \\begin{array}[t]{llcl}\n",
    "(a)& AA^{T}a & = & \\lambda a\\\\\n",
    "(b)& a_{i} & = & \\lambda \\sum_{j} (AA^{T})_{ij}\\, a_{j}\n",
    "\\end{array}\n",
    "$$\n",
    "In (B.b) we move back from matrix form to\n",
    "vector sum form to define the authority score of vertex $i$\n",
    "as the sum of the authority scores of\n",
    "all vertices $j$, weighted by \n",
    "their (cocitation/linking) similarity to vertex $i$.\n",
    "\n",
    "Having  said this, it is important to point out that\n",
    "$AA^{T}$ is not ideal when viewed as a table of similarities.\n",
    "$AA^{T}[i,j]$ contains the dot product of row $i$ ($A[i,:]$)\n",
    "with row $j$ ($A[j,:]$). Let's look\n",
    "at general properties of dot product as a similarity measure.\n",
    "\n",
    "Dot product has been criticized\n",
    "as a similarity measure because it lacks at least one important\n",
    "properties of a similarity measure. It is not maximized\n",
    "by self-similarity.  In general the dot product of a vector $v_{i} \\cdot v_{j}$\n",
    "can be larger than $v_{i} \\cdot v_{i}$.\n",
    "\n",
    "In fact this particular objection doesn't apply to\n",
    "the sort of adjacency matrix we have\n",
    "assumed, where the values are always 1 and 0, and the self\n",
    "similarity of vertex $i$ in $C$ is just its outdegree  ($d_{i}$) and the maximum\n",
    "value of $v_{i} \\cdot v_{j}$ is $\\min(d_{i}, d_{j})$.   There are still problems, however; acheiving this maximum\n",
    "does not guarantee the vertices have identical links,\n",
    "since one may be of higher degree than the other.\n",
    "Obvious modifications to solve this problem (such\n",
    "as using cosine instead of dot product)\n",
    "move us away from the original intentions\n",
    "of HITS.  \n"
   ]
  },
  {
   "cell_type": "markdown",
   "metadata": {},
   "source": [
    "####  Checking the equations out in networkx"
   ]
  },
  {
   "cell_type": "markdown",
   "metadata": {},
   "source": [
    "Let's create a nice directed graph for a toy example."
   ]
  },
  {
   "cell_type": "code",
   "execution_count": 53,
   "metadata": {},
   "outputs": [
    {
     "name": "stdout",
     "output_type": "stream",
     "text": [
      "a [0.         0.43425855 0.18858048 0.18858048 0.18858048]\n",
      "h [0.43425855 0.         0.18858048 0.18858048 0.18858048]\n"
     ]
    },
    {
     "data": {
      "image/png": "[encoded data removed]",
      "text/plain": [
       "<Figure size 640x480 with 1 Axes>"
      ]
     },
     "metadata": {},
     "output_type": "display_data"
    }
   ],
   "source": [
    "import networkx as nx\n",
    "import matplotlib.pyplot as plt\n",
    "import random\n",
    "\n",
    "# Make node 0 a hub, 1 an authority\n",
    "edgelist = [(0,1),(0,2),(0,3),(0,4),(2,1),(3,1),(4,1)]\n",
    "G0=nx.DiGraph()\n",
    "G0.add_edges_from(edgelist)\n",
    "\n",
    "# Gets HITS centralities\n",
    "h,a=nx.hits(G0)\n",
    "# Convert the dictionary into an array\n",
    "h_arr = np.array([h[i] for i in range(len(G0))])\n",
    "a_arr = np.array([a[i] for i in range(len(G0))])\n",
    "print ('a', a_arr)\n",
    "print ('h', h_arr)\n",
    "\n",
    "\n",
    "# Draw!\n",
    "seed = 42\n",
    "pos = nx.drawing.fruchterman_reingold_layout(G0,seed=seed)\n",
    "nx.draw_networkx_nodes(G0,pos,node_color='c')\n",
    "# Choosing the custom drawing route.\n",
    "# Need to pass in a node label dict to get labels\n",
    "dd = dict(zip(G0.nodes(),G0.nodes()))\n",
    "nx.draw_networkx_labels(G0,pos, dd,font_size=9)\n",
    "nx.draw_networkx_edges(G0,pos)\n",
    "plt.show()\n",
    " "
   ]
  },
  {
   "cell_type": "markdown",
   "metadata": {},
   "source": [
    "Clearly, vertex 1 is a much better authority than any other vertex. And clearly 0 is a much better\n",
    "hub.  And the `a` and `h` scores reflect this.\n",
    "\n",
    "Note also that vertex 0 has a low authority score (0), because no node points to it.  Conversely, node 1 has a \n",
    "low hub score (0), because it points to nothing.  Meanwhile, nodes 2, 3, and 4 have identical scores because their hub/authority situations are identical: Each points to the same great authority (node 1) and is pointed to by the same great hub (node 0).\n",
    "\n",
    "Let's check whether the implementation respects equation A above (or equations (7.24) p.180 of Newman)."
   ]
  },
  {
   "cell_type": "code",
   "execution_count": 113,
   "metadata": {},
   "outputs": [],
   "source": [
    "import numpy as np\n",
    "A0 = nx.to_numpy_array(G0)\n",
    "\n",
    "#cocitation network and bibliographic coupling network \n",
    "C0,B0 = A0@(A0.T),(A0.T)@A0\n",
    "\n",
    "# Authority scores come from the leading eigenvector of the cocitation network\n",
    "(C0_evals,C0_evecs) = np.linalg.eig(C0)\n",
    "## Hub scores come from the leading eigenvector of the bibliographic coupling network \n",
    "(B0_evals,B0_evecs) = np.linalg.eig(B0)"
   ]
  },
  {
   "cell_type": "code",
   "execution_count": 106,
   "metadata": {},
   "outputs": [
    {
     "data": {
      "text/plain": [
       "array([[0., 1., 1., 1., 1.],\n",
       "       [0., 0., 0., 0., 0.],\n",
       "       [0., 1., 0., 0., 0.],\n",
       "       [0., 1., 0., 0., 0.],\n",
       "       [0., 1., 0., 0., 0.]])"
      ]
     },
     "execution_count": 106,
     "metadata": {},
     "output_type": "execute_result"
    }
   ],
   "source": [
    "A0"
   ]
  },
  {
   "cell_type": "code",
   "execution_count": 107,
   "metadata": {},
   "outputs": [
    {
     "data": {
      "text/plain": [
       "1.0"
      ]
     },
     "execution_count": 107,
     "metadata": {},
     "output_type": "execute_result"
    }
   ],
   "source": [
    "C0[0,2]"
   ]
  },
  {
   "cell_type": "markdown",
   "metadata": {},
   "source": [
    "First eigenval is leader (has the greatest magnitude)."
   ]
  },
  {
   "cell_type": "code",
   "execution_count": 109,
   "metadata": {},
   "outputs": [
    {
     "name": "stdout",
     "output_type": "stream",
     "text": [
      "[5.30277564e+00 1.69722436e+00 6.28687657e-18 3.00888257e-16\n",
      " 0.00000000e+00]\n"
     ]
    }
   ],
   "source": [
    "print(B0_evals)\n",
    "max_B0_index = B0_evals.argmax()"
   ]
  },
  {
   "cell_type": "markdown",
   "metadata": {},
   "source": [
    "So authority values (`B0_evec`) come from the first column of `B0_evecs`."
   ]
  },
  {
   "cell_type": "code",
   "execution_count": 111,
   "metadata": {},
   "outputs": [
    {
     "data": {
      "text/plain": [
       "array([ 0.        , -0.79917148, -0.34704704, -0.34704704, -0.34704704])"
      ]
     },
     "execution_count": 111,
     "metadata": {},
     "output_type": "execute_result"
    }
   ],
   "source": [
    "B0_evec = B0_evecs[:,max_B0_index]\n",
    "B0_evec"
   ]
  },
  {
   "cell_type": "markdown",
   "metadata": {},
   "source": [
    "We want to compare this with what `nx.hits` gave us as the authority centralities vector."
   ]
  },
  {
   "cell_type": "code",
   "execution_count": 79,
   "metadata": {},
   "outputs": [
    {
     "data": {
      "text/plain": [
       "array([0.        , 0.43425855, 0.18858048, 0.18858048, 0.18858048])"
      ]
     },
     "execution_count": 79,
     "metadata": {},
     "output_type": "execute_result"
    }
   ],
   "source": [
    "a_arr"
   ]
  },
  {
   "cell_type": "markdown",
   "metadata": {},
   "source": [
    "So we show that `B0_evec` is a rescaling of `a_arr`."
   ]
  },
  {
   "cell_type": "code",
   "execution_count": 112,
   "metadata": {},
   "outputs": [
    {
     "data": {
      "text/plain": [
       "array([-0.        , -0.79917148, -0.34704704, -0.34704704, -0.34704704])"
      ]
     },
     "execution_count": 112,
     "metadata": {},
     "output_type": "execute_result"
    }
   ],
   "source": [
    "(B0_evec[1]/a_arr[1])* a_arr"
   ]
  },
  {
   "cell_type": "markdown",
   "metadata": {},
   "source": [
    "Now let's check Eq. 7.26, p. 180, which provides the easy way to compute `a_arr` once given `h_arr`."
   ]
  },
  {
   "cell_type": "code",
   "execution_count": 81,
   "metadata": {},
   "outputs": [
    {
     "name": "stdout",
     "output_type": "stream",
     "text": [
      "[0.         0.43425855 0.18858048 0.18858048 0.18858048]\n",
      "[0.         0.43425855 0.18858048 0.18858048 0.18858048]\n"
     ]
    }
   ],
   "source": [
    "a_arr0 = A0.T@h_arr\n",
    "# demonstrating that a_arr0 is a rescaling of a_arr (Eq. 7.26, p. 180)\n",
    "print(a_arr)\n",
    "print((a_arr[1]/a_arr0[1])*a_arr0)\n",
    "\n"
   ]
  },
  {
   "cell_type": "markdown",
   "metadata": {},
   "source": []
  },
  {
   "cell_type": "markdown",
   "metadata": {},
   "source": [
    "For a more complex example, let's returning to graph `G4`, the directed graph we used in demoing pagerank."
   ]
  },
  {
   "cell_type": "code",
   "execution_count": 114,
   "metadata": {},
   "outputs": [],
   "source": [
    "import numpy as np\n",
    "A4 = nx.to_numpy_array(G4)\n",
    "\n",
    "#cocitation network and bibliographic coupling network \n",
    "C4,B4 = A4@(A4.T),(A4.T)@A4\n",
    "\n",
    "# Authority scores come from the leading eigenvector of the cocitation network\n",
    "(C4_evals,C4_evecs) = np.linalg.eig(C4)\n",
    "## Hub scores come from the leading eigenvector of the bibliographic coupling network \n",
    "(B4_evals,B4_evecs) = np.linalg.eig(B4)"
   ]
  },
  {
   "cell_type": "code",
   "execution_count": 97,
   "metadata": {},
   "outputs": [
    {
     "data": {
      "text/plain": [
       "array([[3., 1., 0., 2., 2., 3., 1., 1.],\n",
       "       [1., 2., 0., 0., 2., 2., 1., 1.],\n",
       "       [0., 0., 0., 0., 0., 0., 0., 0.],\n",
       "       [2., 0., 0., 3., 1., 2., 2., 1.],\n",
       "       [2., 2., 0., 1., 3., 3., 2., 1.],\n",
       "       [3., 2., 0., 2., 3., 5., 2., 2.],\n",
       "       [1., 1., 0., 2., 2., 2., 4., 2.],\n",
       "       [1., 1., 0., 1., 1., 2., 2., 5.]])"
      ]
     },
     "execution_count": 97,
     "metadata": {},
     "output_type": "execute_result"
    }
   ],
   "source": [
    "C4"
   ]
  },
  {
   "cell_type": "code",
   "execution_count": 98,
   "metadata": {},
   "outputs": [
    {
     "data": {
      "text/plain": [
       "3.0"
      ]
     },
     "execution_count": 98,
     "metadata": {},
     "output_type": "execute_result"
    }
   ],
   "source": [
    "C4[0,5]"
   ]
  },
  {
   "cell_type": "markdown",
   "metadata": {},
   "source": [
    "Relating this value to `A4`, it is the dot product of row 0 `0` (`A4[0,:]`) with row 5 (`A4[5,:]`), or the number of out-edges vertex `0` shares with vertex `5`."
   ]
  },
  {
   "cell_type": "code",
   "execution_count": 100,
   "metadata": {},
   "outputs": [
    {
     "data": {
      "text/plain": [
       "3.0"
      ]
     },
     "execution_count": 100,
     "metadata": {},
     "output_type": "execute_result"
    }
   ],
   "source": [
    "A4[0].dot(A4[5])"
   ]
  },
  {
   "cell_type": "markdown",
   "metadata": {},
   "source": [
    "And in fact vertex 5 links to every one of vertex 0's out-neighbors"
   ]
  },
  {
   "cell_type": "code",
   "execution_count": 101,
   "metadata": {},
   "outputs": [
    {
     "data": {
      "text/plain": [
       "3.0"
      ]
     },
     "execution_count": 101,
     "metadata": {},
     "output_type": "execute_result"
    }
   ],
   "source": [
    "A4[0].dot(A4[0])"
   ]
  },
  {
   "cell_type": "markdown",
   "metadata": {},
   "source": [
    "but also some links vertex 0 does not have, since it is of higher degree."
   ]
  },
  {
   "cell_type": "code",
   "execution_count": 102,
   "metadata": {},
   "outputs": [
    {
     "data": {
      "text/plain": [
       "5.0"
      ]
     },
     "execution_count": 102,
     "metadata": {},
     "output_type": "execute_result"
    }
   ],
   "source": [
    "A4[5].dot(A4[5])"
   ]
  },
  {
   "cell_type": "markdown",
   "metadata": {},
   "source": [
    "And here are the authority values.  In fact vertex 0 has a lower authority than vertex 5, which\n",
    "is the most authoritative of all."
   ]
  },
  {
   "cell_type": "code",
   "execution_count": 103,
   "metadata": {},
   "outputs": [
    {
     "data": {
      "text/plain": [
       "array([0.36475229, 0.24790513, 0.        , 0.30309427, 0.38992712,\n",
       "       0.54072096, 0.38087812, 0.35233822])"
      ]
     },
     "execution_count": 103,
     "metadata": {},
     "output_type": "execute_result"
    }
   ],
   "source": [
    "C4_evecs[:,C4_evals.argmax()]"
   ]
  },
  {
   "cell_type": "code",
   "execution_count": 95,
   "metadata": {},
   "outputs": [
    {
     "data": {
      "image/png": "[encoded data removed]",
      "text/plain": [
       "<Figure size 640x480 with 1 Axes>"
      ]
     },
     "metadata": {},
     "output_type": "display_data"
    }
   ],
   "source": [
    "nx.draw_networkx(G4,with_labels=True)"
   ]
  },
  {
   "cell_type": "markdown",
   "metadata": {},
   "source": [
    "#### Klein HITS Exercise"
   ]
  },
  {
   "cell_type": "markdown",
   "metadata": {},
   "source": [
    "Here's a new graph and its hub and authority scores.  Answer some questions about how those scores turned out. A note for those not using to reading Python numbers in scientific notation.  Just think of the numbers with `e-09` in them as very small numbers, pretty much equal to 0."
   ]
  },
  {
   "cell_type": "code",
   "execution_count": 236,
   "metadata": {},
   "outputs": [
    {
     "name": "stdout",
     "output_type": "stream",
     "text": [
      "h {1: -3.849065237055306e-17, 3: 0.6180339887498949, 2: 0.3819660112501052}\n",
      "a {1: 0.6180339887498949, 3: -6.227918378471157e-17, 2: 0.38196601125010515}\n"
     ]
    },
    {
     "data": {
      "image/png": "[encoded data removed]",
      "text/plain": [
       "<Figure size 640x480 with 1 Axes>"
      ]
     },
     "metadata": {},
     "output_type": "display_data"
    }
   ],
   "source": [
    "G0=nx.DiGraph()\n",
    "# Make node 0 a hub,\n",
    "G0.add_edge(1,3)\n",
    "G0.add_edge(2,1)\n",
    "G0.add_edge(3,1)\n",
    "G0.add_edge(3,2)\n",
    "h,a=nx.hits(G0)\n",
    "print ('h', h)\n",
    "print ('a', a)\n",
    "# Draw!\n",
    "pos = nx.drawing.fruchterman_reingold_layout(G0)\n",
    "dd = dict(zip(G0.nodes(),G0.nodes()))\n",
    "nx.draw_networkx_nodes(G0,pos, dd,node_color='c')\n",
    "nx.draw_networkx_labels(G0,pos, dd,font_size=9)\n",
    "nx.draw_networkx_edges(G0,pos)\n",
    "plt.show()\n",
    " "
   ]
  },
  {
   "cell_type": "markdown",
   "metadata": {},
   "source": [
    "### Questions"
   ]
  },
  {
   "cell_type": "markdown",
   "metadata": {},
   "source": [
    "\n",
    "\n",
    "   1. Nodes  2 and 3 have indegree 1.  Why is node 3's authority score so small relative to node 2's \n",
    "    authority  score?\n",
    "   2.  Nodes 1 and 2 both have outdegree 1.  Why is node 1's hub score so small relative to node 2's hub score?"
   ]
  },
  {
   "cell_type": "markdown",
   "metadata": {},
   "source": [
    "## Igraph"
   ]
  },
  {
   "cell_type": "code",
   "execution_count": 477,
   "metadata": {},
   "outputs": [
    {
     "data": {
      "text/plain": [
       "'3.10.6 (main, Oct  7 2022, 15:17:23) [Clang 12.0.0 ]'"
      ]
     },
     "execution_count": 477,
     "metadata": {},
     "output_type": "execute_result"
    }
   ],
   "source": [
    "import sys\n",
    "sys.version"
   ]
  },
  {
   "cell_type": "markdown",
   "metadata": {},
   "source": [
    "For using the default (and arguably the best) drawing engine in igraph, the next cell needs to work.  \n",
    "\n",
    "Install `pycairo` if not."
   ]
  },
  {
   "cell_type": "code",
   "execution_count": 6,
   "metadata": {},
   "outputs": [],
   "source": [
    "import cairo"
   ]
  },
  {
   "cell_type": "markdown",
   "metadata": {},
   "source": [
    "Using `G4` from above, the graph used to illustrate `pagerank`."
   ]
  },
  {
   "cell_type": "code",
   "execution_count": 49,
   "metadata": {},
   "outputs": [
    {
     "data": {
      "image/png": "[encoded data removed]",
      "text/plain": [
       "<Figure size 640x480 with 1 Axes>"
      ]
     },
     "metadata": {},
     "output_type": "display_data"
    }
   ],
   "source": [
    "import networkx as nx\n",
    "import igraph as ig\n",
    "# Chosen to have a vertex w/ k_{out}=0 \n",
    "n,seed=8,57\n",
    "G4 = nx.gnp_random_graph(n, p=.5, seed=seed, directed=True)\n",
    "B4 = nx.to_numpy_array(G4)\n",
    "nx.draw_networkx(G4)\n",
    "IG4 = ig.Graph.from_networkx(G4)\n",
    "# Copy networkx names to be used as labels in drawing.\n",
    "IG4.vs['label'] = IG4.vs['_nx_name']"
   ]
  },
  {
   "cell_type": "markdown",
   "metadata": {},
   "source": [
    "A lot of people think the `igraph` visualizations are better than those of networkx,\n",
    "especially when the visualization uses `igraph`'s default visualization engine, a graphic system called `cairo`,\n",
    "ported to python under the name `pycairo`."
   ]
  },
  {
   "cell_type": "code",
   "execution_count": 50,
   "metadata": {},
   "outputs": [
    {
     "data": {
      "image/svg+xml": [
       "<?xml version=\"1.0\" encoding=\"UTF-8\"?>\n",
       "<svg xmlns=\"http://www.w3.org/2000/svg\" xmlns:xlink=\"http://www.w3.org/1999/xlink\" width=\"300pt\" height=\"300pt\" viewBox=\"0 0 300 300\" version=\"1.1\">\n",
       "<defs>\n",
       "<g>\n",
       "<symbol overflow=\"visible\" id=\"glyph0-0\">\n",
       "<path style=\"stroke:none;\" d=\"M 0.453125 0 L 0.453125 -10.042969 L 8.421875 -10.042969 L 8.421875 0 Z M 7.164062 -1.257812 L 7.164062 -8.785156 L 1.710938 -8.785156 L 1.710938 -1.257812 Z M 7.164062 -1.257812 \"/>\n",
       "</symbol>\n",
       "<symbol overflow=\"visible\" id=\"glyph0-1\">\n",
       "<path style=\"stroke:none;\" d=\"M 3.789062 -9.789062 C 5.054688 -9.789062 5.96875 -9.265625 6.535156 -8.222656 C 6.972656 -7.417969 7.191406 -6.3125 7.191406 -4.90625 C 7.191406 -3.578125 6.992188 -2.476562 6.597656 -1.605469 C 6.023438 -0.359375 5.082031 0.265625 3.78125 0.265625 C 2.605469 0.265625 1.730469 -0.242188 1.15625 -1.265625 C 0.675781 -2.117188 0.4375 -3.261719 0.4375 -4.695312 C 0.4375 -5.808594 0.582031 -6.761719 0.867188 -7.5625 C 1.40625 -9.046875 2.378906 -9.789062 3.789062 -9.789062 Z M 3.773438 -0.855469 C 4.410156 -0.855469 4.917969 -1.136719 5.296875 -1.703125 C 5.675781 -2.265625 5.867188 -3.320312 5.867188 -4.859375 C 5.867188 -5.972656 5.726562 -6.886719 5.453125 -7.605469 C 5.179688 -8.324219 4.652344 -8.679688 3.863281 -8.679688 C 3.136719 -8.679688 2.609375 -8.339844 2.273438 -7.660156 C 1.9375 -6.976562 1.769531 -5.976562 1.769531 -4.648438 C 1.769531 -3.648438 1.878906 -2.847656 2.09375 -2.242188 C 2.421875 -1.316406 2.980469 -0.855469 3.773438 -0.855469 Z M 3.773438 -0.855469 \"/>\n",
       "</symbol>\n",
       "<symbol overflow=\"visible\" id=\"glyph0-2\">\n",
       "<path style=\"stroke:none;\" d=\"M 1.339844 -6.929688 L 1.339844 -7.875 C 2.226562 -7.960938 2.847656 -8.105469 3.199219 -8.308594 C 3.550781 -8.511719 3.8125 -8.992188 3.984375 -9.75 L 4.957031 -9.75 L 4.957031 0 L 3.644531 0 L 3.644531 -6.929688 Z M 1.339844 -6.929688 \"/>\n",
       "</symbol>\n",
       "<symbol overflow=\"visible\" id=\"glyph0-3\">\n",
       "<path style=\"stroke:none;\" d=\"M 0.4375 0 C 0.484375 -0.84375 0.65625 -1.578125 0.960938 -2.203125 C 1.265625 -2.828125 1.855469 -3.394531 2.734375 -3.902344 L 4.046875 -4.664062 C 4.632812 -5.003906 5.046875 -5.296875 5.285156 -5.539062 C 5.65625 -5.914062 5.84375 -6.347656 5.84375 -6.835938 C 5.84375 -7.40625 5.671875 -7.859375 5.332031 -8.191406 C 4.992188 -8.527344 4.535156 -8.695312 3.964844 -8.695312 C 3.121094 -8.695312 2.539062 -8.375 2.214844 -7.738281 C 2.042969 -7.398438 1.945312 -6.921875 1.929688 -6.316406 L 0.675781 -6.316406 C 0.691406 -7.167969 0.847656 -7.863281 1.148438 -8.402344 C 1.679688 -9.351562 2.621094 -9.824219 3.972656 -9.824219 C 5.09375 -9.824219 5.910156 -9.519531 6.429688 -8.914062 C 6.945312 -8.308594 7.203125 -7.632812 7.203125 -6.890625 C 7.203125 -6.105469 6.929688 -5.4375 6.378906 -4.882812 C 6.058594 -4.558594 5.488281 -4.164062 4.664062 -3.703125 L 3.726562 -3.1875 C 3.28125 -2.941406 2.929688 -2.703125 2.671875 -2.480469 C 2.21875 -2.085938 1.929688 -1.644531 1.8125 -1.164062 L 7.15625 -1.164062 L 7.15625 0 Z M 0.4375 0 \"/>\n",
       "</symbol>\n",
       "<symbol overflow=\"visible\" id=\"glyph0-4\">\n",
       "<path style=\"stroke:none;\" d=\"M 3.636719 0.265625 C 2.480469 0.265625 1.640625 -0.0507812 1.117188 -0.6875 C 0.59375 -1.324219 0.335938 -2.097656 0.335938 -3.007812 L 1.621094 -3.007812 C 1.675781 -2.375 1.792969 -1.914062 1.976562 -1.625 C 2.296875 -1.109375 2.871094 -0.855469 3.703125 -0.855469 C 4.351562 -0.855469 4.871094 -1.027344 5.265625 -1.375 C 5.65625 -1.71875 5.851562 -2.167969 5.851562 -2.714844 C 5.851562 -3.390625 5.644531 -3.859375 5.234375 -4.128906 C 4.820312 -4.398438 4.246094 -4.53125 3.515625 -4.53125 C 3.433594 -4.53125 3.347656 -4.53125 3.265625 -4.527344 C 3.179688 -4.527344 3.09375 -4.523438 3.007812 -4.519531 L 3.007812 -5.605469 C 3.136719 -5.59375 3.242188 -5.582031 3.328125 -5.578125 C 3.414062 -5.574219 3.507812 -5.570312 3.609375 -5.570312 C 4.070312 -5.570312 4.449219 -5.644531 4.742188 -5.789062 C 5.261719 -6.046875 5.523438 -6.5 5.523438 -7.15625 C 5.523438 -7.644531 5.351562 -8.019531 5.003906 -8.285156 C 4.65625 -8.550781 4.253906 -8.679688 3.792969 -8.679688 C 2.972656 -8.679688 2.40625 -8.40625 2.09375 -7.859375 C 1.917969 -7.558594 1.820312 -7.132812 1.796875 -6.578125 L 0.582031 -6.578125 C 0.582031 -7.304688 0.726562 -7.925781 1.019531 -8.4375 C 1.519531 -9.347656 2.402344 -9.804688 3.664062 -9.804688 C 4.664062 -9.804688 5.433594 -9.582031 5.980469 -9.136719 C 6.527344 -8.691406 6.800781 -8.046875 6.800781 -7.203125 C 6.800781 -6.601562 6.640625 -6.117188 6.316406 -5.742188 C 6.117188 -5.507812 5.855469 -5.328125 5.539062 -5.195312 C 6.054688 -5.054688 6.453125 -4.78125 6.742188 -4.378906 C 7.03125 -3.976562 7.179688 -3.480469 7.179688 -2.898438 C 7.179688 -1.964844 6.871094 -1.203125 6.253906 -0.617188 C 5.640625 -0.0273438 4.765625 0.265625 3.636719 0.265625 Z M 3.636719 0.265625 \"/>\n",
       "</symbol>\n",
       "<symbol overflow=\"visible\" id=\"glyph0-5\">\n",
       "<path style=\"stroke:none;\" d=\"M 4.628906 -3.464844 L 4.628906 -7.902344 L 1.492188 -3.464844 Z M 4.648438 0 L 4.648438 -2.390625 L 0.355469 -2.390625 L 0.355469 -3.59375 L 4.839844 -9.816406 L 5.878906 -9.816406 L 5.878906 -3.464844 L 7.320312 -3.464844 L 7.320312 -2.390625 L 5.878906 -2.390625 L 5.878906 0 Z M 4.648438 0 \"/>\n",
       "</symbol>\n",
       "<symbol overflow=\"visible\" id=\"glyph0-6\">\n",
       "<path style=\"stroke:none;\" d=\"M 1.730469 -2.496094 C 1.8125 -1.792969 2.136719 -1.308594 2.707031 -1.039062 C 3 -0.902344 3.335938 -0.835938 3.71875 -0.835938 C 4.449219 -0.835938 4.988281 -1.066406 5.339844 -1.53125 C 5.691406 -1.996094 5.867188 -2.511719 5.867188 -3.078125 C 5.867188 -3.761719 5.65625 -4.289062 5.238281 -4.664062 C 4.820312 -5.035156 4.324219 -5.222656 3.738281 -5.222656 C 3.316406 -5.222656 2.953125 -5.140625 2.648438 -4.976562 C 2.34375 -4.8125 2.085938 -4.585938 1.875 -4.292969 L 0.804688 -4.355469 L 1.550781 -9.625 L 6.636719 -9.625 L 6.636719 -8.4375 L 2.476562 -8.4375 L 2.058594 -5.714844 C 2.285156 -5.886719 2.5 -6.019531 2.707031 -6.105469 C 3.070312 -6.253906 3.492188 -6.328125 3.972656 -6.328125 C 4.871094 -6.328125 5.628906 -6.039062 6.253906 -5.460938 C 6.878906 -4.882812 7.191406 -4.148438 7.191406 -3.261719 C 7.191406 -2.335938 6.90625 -1.519531 6.332031 -0.8125 C 5.761719 -0.105469 4.847656 0.246094 3.59375 0.246094 C 2.796875 0.246094 2.09375 0.0234375 1.480469 -0.425781 C 0.867188 -0.875 0.523438 -1.566406 0.453125 -2.496094 Z M 1.730469 -2.496094 \"/>\n",
       "</symbol>\n",
       "<symbol overflow=\"visible\" id=\"glyph0-7\">\n",
       "<path style=\"stroke:none;\" d=\"M 4.09375 -9.828125 C 5.1875 -9.828125 5.949219 -9.546875 6.382812 -8.980469 C 6.8125 -8.414062 7.027344 -7.828125 7.027344 -7.226562 L 5.8125 -7.226562 C 5.738281 -7.613281 5.621094 -7.914062 5.460938 -8.132812 C 5.164062 -8.542969 4.71875 -8.75 4.117188 -8.75 C 3.429688 -8.75 2.878906 -8.433594 2.476562 -7.796875 C 2.070312 -7.160156 1.84375 -6.25 1.796875 -5.066406 C 2.078125 -5.480469 2.4375 -5.789062 2.863281 -5.996094 C 3.257812 -6.179688 3.695312 -6.269531 4.175781 -6.269531 C 4.996094 -6.269531 5.710938 -6.007812 6.324219 -5.484375 C 6.933594 -4.960938 7.238281 -4.175781 7.238281 -3.136719 C 7.238281 -2.25 6.949219 -1.460938 6.371094 -0.777344 C 5.792969 -0.0898438 4.96875 0.253906 3.898438 0.253906 C 2.980469 0.253906 2.191406 -0.09375 1.523438 -0.789062 C 0.859375 -1.484375 0.527344 -2.65625 0.527344 -4.300781 C 0.527344 -5.515625 0.675781 -6.546875 0.96875 -7.398438 C 1.539062 -9.019531 2.582031 -9.828125 4.09375 -9.828125 Z M 4.007812 -0.839844 C 4.652344 -0.839844 5.136719 -1.058594 5.457031 -1.492188 C 5.78125 -1.929688 5.941406 -2.441406 5.941406 -3.035156 C 5.941406 -3.535156 5.796875 -4.015625 5.507812 -4.46875 C 5.222656 -4.921875 4.699219 -5.148438 3.945312 -5.148438 C 3.414062 -5.148438 2.953125 -4.972656 2.554688 -4.621094 C 2.15625 -4.269531 1.953125 -3.742188 1.953125 -3.035156 C 1.953125 -2.414062 2.136719 -1.894531 2.5 -1.472656 C 2.859375 -1.050781 3.363281 -0.839844 4.007812 -0.839844 Z M 4.007812 -0.839844 \"/>\n",
       "</symbol>\n",
       "<symbol overflow=\"visible\" id=\"glyph0-8\">\n",
       "<path style=\"stroke:none;\" d=\"M 7.320312 -9.625 L 7.320312 -8.550781 C 7.007812 -8.246094 6.589844 -7.714844 6.066406 -6.960938 C 5.546875 -6.203125 5.082031 -5.386719 4.683594 -4.511719 C 4.285156 -3.660156 3.984375 -2.882812 3.78125 -2.179688 C 3.648438 -1.730469 3.476562 -1.003906 3.265625 0 L 1.90625 0 C 2.21875 -1.867188 2.902344 -3.726562 3.957031 -5.578125 C 4.582031 -6.664062 5.238281 -7.597656 5.925781 -8.386719 L 0.511719 -8.386719 L 0.511719 -9.625 Z M 7.320312 -9.625 \"/>\n",
       "</symbol>\n",
       "</g>\n",
       "</defs>\n",
       "<g id=\"surface32\">\n",
       "<rect x=\"0\" y=\"0\" width=\"300\" height=\"300\" style=\"fill:rgb(100%,100%,100%);fill-opacity:1;stroke:none;\"/>\n",
       "<path style=\"fill:none;stroke-width:1;stroke-linecap:butt;stroke-linejoin:miter;stroke:rgb(26.666667%,26.666667%,26.666667%);stroke-opacity:1;stroke-miterlimit:10;\" d=\"M 241.28125 280 L 274.496094 137.335938 \"/>\n",
       "<path style=\" stroke:none;fill-rule:nonzero;fill:rgb(26.666667%,26.666667%,26.666667%);fill-opacity:1;\" d=\"M 277.734375 123.441406 L 279.011719 138.386719 L 269.984375 136.285156 L 277.734375 123.441406 \"/>\n",
       "<path style=\"fill:none;stroke-width:1;stroke-linecap:butt;stroke-linejoin:miter;stroke:rgb(26.666667%,26.666667%,26.666667%);stroke-opacity:1;stroke-miterlimit:10;\" d=\"M 241.28125 280 L 229.511719 108.851562 \"/>\n",
       "<path style=\" stroke:none;fill-rule:nonzero;fill:rgb(26.666667%,26.666667%,26.666667%);fill-opacity:1;\" d=\"M 228.535156 94.621094 L 234.136719 108.535156 L 224.886719 109.171875 L 228.535156 94.621094 \"/>\n",
       "<path style=\"fill:none;stroke-width:1;stroke-linecap:butt;stroke-linejoin:miter;stroke:rgb(26.666667%,26.666667%,26.666667%);stroke-opacity:1;stroke-miterlimit:10;\" d=\"M 241.28125 280 L 174.757812 228.695312 \"/>\n",
       "<path style=\" stroke:none;fill-rule:nonzero;fill:rgb(26.666667%,26.666667%,26.666667%);fill-opacity:1;\" d=\"M 163.460938 219.984375 L 177.585938 225.023438 L 171.925781 232.363281 L 163.460938 219.984375 \"/>\n",
       "<path style=\"fill:none;stroke-width:1;stroke-linecap:butt;stroke-linejoin:miter;stroke:rgb(26.666667%,26.666667%,26.666667%);stroke-opacity:1;stroke-miterlimit:10;\" d=\"M 280 113.699219 C 260.558594 94.621094 227.753906 84.796875 215.199219 105.058594 \"/>\n",
       "<path style=\" stroke:none;fill-rule:nonzero;fill:rgb(26.666667%,26.666667%,26.666667%);fill-opacity:1;\" d=\"M 222.710938 92.933594 L 219.136719 107.5 L 211.257812 102.617188 L 222.710938 92.933594 \"/>\n",
       "<path style=\"fill:none;stroke-width:1;stroke-linecap:butt;stroke-linejoin:miter;stroke:rgb(26.666667%,26.666667%,26.666667%);stroke-opacity:1;stroke-miterlimit:10;\" d=\"M 280 113.699219 L 188.9375 137.902344 \"/>\n",
       "<path style=\" stroke:none;fill-rule:nonzero;fill:rgb(26.666667%,26.666667%,26.666667%);fill-opacity:1;\" d=\"M 175.152344 141.566406 L 187.746094 133.425781 L 190.128906 142.382812 L 175.152344 141.566406 \"/>\n",
       "<path style=\"fill:none;stroke-width:1;stroke-linecap:butt;stroke-linejoin:miter;stroke:rgb(26.666667%,26.666667%,26.666667%);stroke-opacity:1;stroke-miterlimit:10;\" d=\"M 227.847656 84.644531 C 228.925781 103.089844 240 121.871094 256.480469 118.507812 \"/>\n",
       "<path style=\" stroke:none;fill-rule:nonzero;fill:rgb(26.666667%,26.666667%,26.666667%);fill-opacity:1;\" d=\"M 270.457031 115.652344 L 257.40625 123.046875 L 255.550781 113.964844 L 270.457031 115.652344 \"/>\n",
       "<path style=\"fill:none;stroke-width:1;stroke-linecap:butt;stroke-linejoin:miter;stroke:rgb(26.666667%,26.666667%,26.666667%);stroke-opacity:1;stroke-miterlimit:10;\" d=\"M 227.847656 84.644531 C 221.824219 57.636719 184.621094 54.527344 177.390625 41.464844 \"/>\n",
       "<path style=\" stroke:none;fill-rule:nonzero;fill:rgb(26.666667%,26.666667%,26.666667%);fill-opacity:1;\" d=\"M 170.480469 28.984375 L 181.445312 39.21875 L 173.335938 43.710938 L 170.480469 28.984375 \"/>\n",
       "<path style=\"fill:none;stroke-width:1;stroke-linecap:butt;stroke-linejoin:miter;stroke:rgb(26.666667%,26.666667%,26.666667%);stroke-opacity:1;stroke-miterlimit:10;\" d=\"M 227.847656 84.644531 L 167.390625 192.699219 \"/>\n",
       "<path style=\" stroke:none;fill-rule:nonzero;fill:rgb(26.666667%,26.666667%,26.666667%);fill-opacity:1;\" d=\"M 160.421875 205.148438 L 163.34375 190.4375 L 171.433594 194.960938 L 160.421875 205.148438 \"/>\n",
       "<path style=\"fill:none;stroke-width:1;stroke-linecap:butt;stroke-linejoin:miter;stroke:rgb(26.666667%,26.666667%,26.666667%);stroke-opacity:1;stroke-miterlimit:10;\" d=\"M 165.507812 20 L 261.222656 98.332031 \"/>\n",
       "<path style=\" stroke:none;fill-rule:nonzero;fill:rgb(26.666667%,26.666667%,26.666667%);fill-opacity:1;\" d=\"M 272.261719 107.367188 L 258.285156 101.917969 L 264.15625 94.746094 L 272.261719 107.367188 \"/>\n",
       "<path style=\"fill:none;stroke-width:1;stroke-linecap:butt;stroke-linejoin:miter;stroke:rgb(26.666667%,26.666667%,26.666667%);stroke-opacity:1;stroke-miterlimit:10;\" d=\"M 165.507812 20 C 161.464844 51.9375 175.835938 90.035156 203.734375 87.144531 \"/>\n",
       "<path style=\" stroke:none;fill-rule:nonzero;fill:rgb(26.666667%,26.666667%,26.666667%);fill-opacity:1;\" d=\"M 217.925781 85.671875 L 204.214844 91.753906 L 203.257812 82.53125 L 217.925781 85.671875 \"/>\n",
       "<path style=\"fill:none;stroke-width:1;stroke-linecap:butt;stroke-linejoin:miter;stroke:rgb(26.666667%,26.666667%,26.666667%);stroke-opacity:1;stroke-miterlimit:10;\" d=\"M 165.507812 20 C 128.722656 53.234375 110.117188 126.246094 142.738281 136.785156 \"/>\n",
       "<path style=\" stroke:none;fill-rule:nonzero;fill:rgb(26.666667%,26.666667%,26.666667%);fill-opacity:1;\" d=\"M 156.3125 141.171875 L 141.3125 141.195312 L 144.164062 132.375 L 156.3125 141.171875 \"/>\n",
       "<path style=\"fill:none;stroke-width:1;stroke-linecap:butt;stroke-linejoin:miter;stroke:rgb(26.666667%,26.666667%,26.666667%);stroke-opacity:1;stroke-miterlimit:10;\" d=\"M 273.867188 207.859375 L 251.273438 257.886719 \"/>\n",
       "<path style=\" stroke:none;fill-rule:nonzero;fill:rgb(26.666667%,26.666667%,26.666667%);fill-opacity:1;\" d=\"M 245.398438 270.886719 L 247.046875 255.976562 L 255.496094 259.792969 L 245.398438 270.886719 \"/>\n",
       "<path style=\"fill:none;stroke-width:1;stroke-linecap:butt;stroke-linejoin:miter;stroke:rgb(26.666667%,26.666667%,26.666667%);stroke-opacity:1;stroke-miterlimit:10;\" d=\"M 273.867188 207.859375 L 278.421875 137.914062 \"/>\n",
       "<path style=\" stroke:none;fill-rule:nonzero;fill:rgb(26.666667%,26.666667%,26.666667%);fill-opacity:1;\" d=\"M 279.351562 123.679688 L 283.046875 138.214844 L 273.796875 137.613281 L 279.351562 123.679688 \"/>\n",
       "<path style=\"fill:none;stroke-width:1;stroke-linecap:butt;stroke-linejoin:miter;stroke:rgb(26.666667%,26.666667%,26.666667%);stroke-opacity:1;stroke-miterlimit:10;\" d=\"M 273.867188 207.859375 L 236.335938 107.375 \"/>\n",
       "<path style=\" stroke:none;fill-rule:nonzero;fill:rgb(26.666667%,26.666667%,26.666667%);fill-opacity:1;\" d=\"M 231.347656 94.011719 L 240.679688 105.753906 L 231.996094 108.996094 L 231.347656 94.011719 \"/>\n",
       "<path style=\"fill:none;stroke-width:1;stroke-linecap:butt;stroke-linejoin:miter;stroke:rgb(26.666667%,26.666667%,26.666667%);stroke-opacity:1;stroke-miterlimit:10;\" d=\"M 273.867188 207.859375 L 179.777344 212.644531 \"/>\n",
       "<path style=\" stroke:none;fill-rule:nonzero;fill:rgb(26.666667%,26.666667%,26.666667%);fill-opacity:1;\" d=\"M 165.527344 213.367188 L 179.539062 208.015625 L 180.011719 217.273438 L 165.527344 213.367188 \"/>\n",
       "<path style=\"fill:none;stroke-width:1;stroke-linecap:butt;stroke-linejoin:miter;stroke:rgb(26.666667%,26.666667%,26.666667%);stroke-opacity:1;stroke-miterlimit:10;\" d=\"M 273.867188 207.859375 C 262.503906 164.550781 233.585938 135.515625 189.6875 141.074219 \"/>\n",
       "<path style=\" stroke:none;fill-rule:nonzero;fill:rgb(26.666667%,26.666667%,26.666667%);fill-opacity:1;\" d=\"M 175.535156 142.863281 L 189.105469 136.472656 L 190.269531 145.671875 L 175.535156 142.863281 \"/>\n",
       "<path style=\"fill:none;stroke-width:1;stroke-linecap:butt;stroke-linejoin:miter;stroke:rgb(26.666667%,26.666667%,26.666667%);stroke-opacity:1;stroke-miterlimit:10;\" d=\"M 155.539062 213.875 L 261.097656 128.914062 \"/>\n",
       "<path style=\" stroke:none;fill-rule:nonzero;fill:rgb(26.666667%,26.666667%,26.666667%);fill-opacity:1;\" d=\"M 272.210938 119.972656 L 264.003906 132.527344 L 258.191406 125.304688 L 272.210938 119.972656 \"/>\n",
       "<path style=\"fill:none;stroke-width:1;stroke-linecap:butt;stroke-linejoin:miter;stroke:rgb(26.666667%,26.666667%,26.666667%);stroke-opacity:1;stroke-miterlimit:10;\" d=\"M 155.539062 213.875 L 44.007812 230.324219 \"/>\n",
       "<path style=\" stroke:none;fill-rule:nonzero;fill:rgb(26.666667%,26.666667%,26.666667%);fill-opacity:1;\" d=\"M 29.894531 232.402344 L 43.328125 225.738281 L 44.683594 234.910156 L 29.894531 232.402344 \"/>\n",
       "<path style=\"fill:none;stroke-width:1;stroke-linecap:butt;stroke-linejoin:miter;stroke:rgb(26.666667%,26.666667%,26.666667%);stroke-opacity:1;stroke-miterlimit:10;\" d=\"M 155.539062 213.875 L 164.261719 44.234375 \"/>\n",
       "<path style=\" stroke:none;fill-rule:nonzero;fill:rgb(26.666667%,26.666667%,26.666667%);fill-opacity:1;\" d=\"M 164.992188 29.988281 L 168.890625 44.472656 L 159.632812 43.996094 L 164.992188 29.988281 \"/>\n",
       "<path style=\"fill:none;stroke-width:1;stroke-linecap:butt;stroke-linejoin:miter;stroke:rgb(26.666667%,26.666667%,26.666667%);stroke-opacity:1;stroke-miterlimit:10;\" d=\"M 155.539062 213.875 L 162.058594 168.160156 \"/>\n",
       "<path style=\" stroke:none;fill-rule:nonzero;fill:rgb(26.666667%,26.666667%,26.666667%);fill-opacity:1;\" d=\"M 164.074219 154.035156 L 166.648438 168.8125 L 157.472656 167.503906 L 164.074219 154.035156 \"/>\n",
       "<path style=\"fill:none;stroke-width:1;stroke-linecap:butt;stroke-linejoin:miter;stroke:rgb(26.666667%,26.666667%,26.666667%);stroke-opacity:1;stroke-miterlimit:10;\" d=\"M 165.484375 144.136719 L 229.460938 258.808594 \"/>\n",
       "<path style=\" stroke:none;fill-rule:nonzero;fill:rgb(26.666667%,26.666667%,26.666667%);fill-opacity:1;\" d=\"M 236.410156 271.265625 L 225.414062 261.066406 L 233.507812 256.550781 L 236.410156 271.265625 \"/>\n",
       "<path style=\"fill:none;stroke-width:1;stroke-linecap:butt;stroke-linejoin:miter;stroke:rgb(26.666667%,26.666667%,26.666667%);stroke-opacity:1;stroke-miterlimit:10;\" d=\"M 165.484375 144.136719 L 40.652344 221.125 \"/>\n",
       "<path style=\" stroke:none;fill-rule:nonzero;fill:rgb(26.666667%,26.666667%,26.666667%);fill-opacity:1;\" d=\"M 28.511719 228.613281 L 38.21875 217.179688 L 43.085938 225.070312 L 28.511719 228.613281 \"/>\n",
       "<path style=\"fill:none;stroke-width:1;stroke-linecap:butt;stroke-linejoin:miter;stroke:rgb(26.666667%,26.666667%,26.666667%);stroke-opacity:1;stroke-miterlimit:10;\" d=\"M 165.484375 144.136719 L 210.289062 101.394531 \"/>\n",
       "<path style=\" stroke:none;fill-rule:nonzero;fill:rgb(26.666667%,26.666667%,26.666667%);fill-opacity:1;\" d=\"M 220.613281 91.546875 L 213.488281 104.746094 L 207.089844 98.039062 L 220.613281 91.546875 \"/>\n",
       "<path style=\"fill:none;stroke-width:1;stroke-linecap:butt;stroke-linejoin:miter;stroke:rgb(26.666667%,26.666667%,26.666667%);stroke-opacity:1;stroke-miterlimit:10;\" d=\"M 165.484375 144.136719 C 194.570312 112.773438 194.703125 80.398438 176.164062 42.042969 \"/>\n",
       "<path style=\" stroke:none;fill-rule:nonzero;fill:rgb(26.666667%,26.666667%,26.666667%);fill-opacity:1;\" d=\"M 169.953125 29.199219 L 180.335938 40.027344 L 171.988281 44.0625 L 169.953125 29.199219 \"/>\n",
       "<path style=\"fill:none;stroke-width:1;stroke-linecap:butt;stroke-linejoin:miter;stroke:rgb(26.666667%,26.666667%,26.666667%);stroke-opacity:1;stroke-miterlimit:10;\" d=\"M 165.484375 144.136719 C 176.695312 187.78125 206.226562 218.941406 249.855469 211.792969 \"/>\n",
       "<path style=\" stroke:none;fill-rule:nonzero;fill:rgb(26.666667%,26.666667%,26.666667%);fill-opacity:1;\" d=\"M 263.933594 209.488281 L 250.605469 216.367188 L 249.105469 207.21875 L 263.933594 209.488281 \"/>\n",
       "<path style=\"fill-rule:nonzero;fill:rgb(100%,0%,0%);fill-opacity:1;stroke-width:1;stroke-linecap:butt;stroke-linejoin:miter;stroke:rgb(0%,0%,0%);stroke-opacity:1;stroke-miterlimit:10;\" d=\"M 251.28125 280 C 251.28125 285.523438 246.804688 290 241.28125 290 C 235.757812 290 231.28125 285.523438 231.28125 280 C 231.28125 274.476562 235.757812 270 241.28125 270 C 246.804688 270 251.28125 274.476562 251.28125 280 \"/>\n",
       "<path style=\"fill-rule:nonzero;fill:rgb(100%,0%,0%);fill-opacity:1;stroke-width:1;stroke-linecap:butt;stroke-linejoin:miter;stroke:rgb(0%,0%,0%);stroke-opacity:1;stroke-miterlimit:10;\" d=\"M 290 113.699219 C 290 119.222656 285.523438 123.699219 280 123.699219 C 274.476562 123.699219 270 119.222656 270 113.699219 C 270 108.179688 274.476562 103.699219 280 103.699219 C 285.523438 103.699219 290 108.179688 290 113.699219 \"/>\n",
       "<path style=\"fill-rule:nonzero;fill:rgb(100%,0%,0%);fill-opacity:1;stroke-width:1;stroke-linecap:butt;stroke-linejoin:miter;stroke:rgb(0%,0%,0%);stroke-opacity:1;stroke-miterlimit:10;\" d=\"M 30 233.863281 C 30 239.386719 25.523438 243.863281 20 243.863281 C 14.476562 243.863281 10 239.386719 10 233.863281 C 10 228.339844 14.476562 223.863281 20 223.863281 C 25.523438 223.863281 30 228.339844 30 233.863281 \"/>\n",
       "<path style=\"fill-rule:nonzero;fill:rgb(100%,0%,0%);fill-opacity:1;stroke-width:1;stroke-linecap:butt;stroke-linejoin:miter;stroke:rgb(0%,0%,0%);stroke-opacity:1;stroke-miterlimit:10;\" d=\"M 237.847656 84.644531 C 237.847656 90.167969 233.371094 94.644531 227.847656 94.644531 C 222.324219 94.644531 217.847656 90.167969 217.847656 84.644531 C 217.847656 79.121094 222.324219 74.644531 227.847656 74.644531 C 233.371094 74.644531 237.847656 79.121094 237.847656 84.644531 \"/>\n",
       "<path style=\"fill-rule:nonzero;fill:rgb(100%,0%,0%);fill-opacity:1;stroke-width:1;stroke-linecap:butt;stroke-linejoin:miter;stroke:rgb(0%,0%,0%);stroke-opacity:1;stroke-miterlimit:10;\" d=\"M 175.507812 20 C 175.507812 25.523438 171.03125 30 165.507812 30 C 159.984375 30 155.507812 25.523438 155.507812 20 C 155.507812 14.476562 159.984375 10 165.507812 10 C 171.03125 10 175.507812 14.476562 175.507812 20 \"/>\n",
       "<path style=\"fill-rule:nonzero;fill:rgb(100%,0%,0%);fill-opacity:1;stroke-width:1;stroke-linecap:butt;stroke-linejoin:miter;stroke:rgb(0%,0%,0%);stroke-opacity:1;stroke-miterlimit:10;\" d=\"M 283.867188 207.859375 C 283.867188 213.382812 279.390625 217.859375 273.867188 217.859375 C 268.34375 217.859375 263.867188 213.382812 263.867188 207.859375 C 263.867188 202.335938 268.34375 197.859375 273.867188 197.859375 C 279.390625 197.859375 283.867188 202.335938 283.867188 207.859375 \"/>\n",
       "<path style=\"fill-rule:nonzero;fill:rgb(100%,0%,0%);fill-opacity:1;stroke-width:1;stroke-linecap:butt;stroke-linejoin:miter;stroke:rgb(0%,0%,0%);stroke-opacity:1;stroke-miterlimit:10;\" d=\"M 165.539062 213.875 C 165.539062 219.398438 161.0625 223.875 155.539062 223.875 C 150.019531 223.875 145.539062 219.398438 145.539062 213.875 C 145.539062 208.351562 150.019531 203.875 155.539062 203.875 C 161.0625 203.875 165.539062 208.351562 165.539062 213.875 \"/>\n",
       "<path style=\"fill-rule:nonzero;fill:rgb(100%,0%,0%);fill-opacity:1;stroke-width:1;stroke-linecap:butt;stroke-linejoin:miter;stroke:rgb(0%,0%,0%);stroke-opacity:1;stroke-miterlimit:10;\" d=\"M 175.484375 144.136719 C 175.484375 149.660156 171.007812 154.136719 165.484375 154.136719 C 159.964844 154.136719 155.484375 149.660156 155.484375 144.136719 C 155.484375 138.613281 159.964844 134.136719 165.484375 134.136719 C 171.007812 134.136719 175.484375 138.613281 175.484375 144.136719 \"/>\n",
       "<g style=\"fill:rgb(0%,0%,0%);fill-opacity:1;\">\n",
       "  <use xlink:href=\"#glyph0-1\" x=\"237.46875\" y=\"286.503906\"/>\n",
       "</g>\n",
       "<g style=\"fill:rgb(0%,0%,0%);fill-opacity:1;\">\n",
       "  <use xlink:href=\"#glyph0-2\" x=\"276.851562\" y=\"120.183594\"/>\n",
       "</g>\n",
       "<g style=\"fill:rgb(0%,0%,0%);fill-opacity:1;\">\n",
       "  <use xlink:href=\"#glyph0-3\" x=\"16.179688\" y=\"240.382812\"/>\n",
       "</g>\n",
       "<g style=\"fill:rgb(0%,0%,0%);fill-opacity:1;\">\n",
       "  <use xlink:href=\"#glyph0-4\" x=\"224.089844\" y=\"91.15625\"/>\n",
       "</g>\n",
       "<g style=\"fill:rgb(0%,0%,0%);fill-opacity:1;\">\n",
       "  <use xlink:href=\"#glyph0-5\" x=\"161.667969\" y=\"26.519531\"/>\n",
       "</g>\n",
       "<g style=\"fill:rgb(0%,0%,0%);fill-opacity:1;\">\n",
       "  <use xlink:href=\"#glyph0-6\" x=\"270.046875\" y=\"214.28125\"/>\n",
       "</g>\n",
       "<g style=\"fill:rgb(0%,0%,0%);fill-opacity:1;\">\n",
       "  <use xlink:href=\"#glyph0-7\" x=\"151.65625\" y=\"220.402344\"/>\n",
       "</g>\n",
       "<g style=\"fill:rgb(0%,0%,0%);fill-opacity:1;\">\n",
       "  <use xlink:href=\"#glyph0-8\" x=\"161.570312\" y=\"150.558594\"/>\n",
       "</g>\n",
       "</g>\n",
       "</svg>\n"
      ],
      "text/plain": [
       "<igraph.drawing.cairo.plot.CairoPlot at 0x7ff05476a320>"
      ]
     },
     "execution_count": 50,
     "metadata": {
      "image/svg+xml": {
       "isolated": true
      }
     },
     "output_type": "execute_result"
    }
   ],
   "source": [
    "lo1 = IG4.layout_fruchterman_reingold()\n",
    "#Constrain size of figure\n",
    "bbox,margin =(300, 300), 20\n",
    "ig.plot(IG4,layout=lo1,bbox=bbox,margin=margin)"
   ]
  },
  {
   "cell_type": "markdown",
   "metadata": {},
   "source": [
    "It is possible to do visualization in igraph w/o installing `pycairo` by using matplotlib as the\n",
    "visualization engine.  The small changes in the layout appear to be due to a rescaling and a rotation."
   ]
  },
  {
   "cell_type": "code",
   "execution_count": 51,
   "metadata": {},
   "outputs": [
    {
     "data": {
      "text/plain": [
       "<AxesSubplot:>"
      ]
     },
     "execution_count": 51,
     "metadata": {},
     "output_type": "execute_result"
    },
    {
     "data": {
      "image/png": "[encoded data removed]",
      "text/plain": [
       "<Figure size 500x700 with 1 Axes>"
      ]
     },
     "metadata": {},
     "output_type": "display_data"
    }
   ],
   "source": [
    "import matplotlib.pyplot as plt\n",
    "fig, ax = plt.subplots(figsize=(5,7))\n",
    "ig.plot(IG4, layout=lo1, target=ax)"
   ]
  },
  {
   "cell_type": "markdown",
   "metadata": {},
   "source": [
    "We can also create the `igraph` graph object directly from an adjacency matrix.\n",
    "There is nothing corresponding to the `'_nx_name'` and attribute, so we have to\n",
    "supply a sequence of names by hand."
   ]
  },
  {
   "cell_type": "code",
   "execution_count": 6,
   "metadata": {},
   "outputs": [],
   "source": [
    "IGG4 = ig.Graph.Adjacency(B4)\n",
    "IGG4.vs['label'] = range(7)"
   ]
  },
  {
   "cell_type": "markdown",
   "metadata": {},
   "source": [
    "We can draw this graph with a new layout or re-using the layout from above, because `IG4` and `IGG4` have the \n",
    "same vertices."
   ]
  },
  {
   "cell_type": "code",
   "execution_count": 52,
   "metadata": {
    "scrolled": true
   },
   "outputs": [
    {
     "data": {
      "image/svg+xml": [
       "<?xml version=\"1.0\" encoding=\"UTF-8\"?>\n",
       "<svg xmlns=\"http://www.w3.org/2000/svg\" xmlns:xlink=\"http://www.w3.org/1999/xlink\" width=\"300pt\" height=\"300pt\" viewBox=\"0 0 300 300\" version=\"1.1\">\n",
       "<defs>\n",
       "<g>\n",
       "<symbol overflow=\"visible\" id=\"glyph0-0\">\n",
       "<path style=\"stroke:none;\" d=\"M 0.453125 0 L 0.453125 -10.042969 L 8.421875 -10.042969 L 8.421875 0 Z M 7.164062 -1.257812 L 7.164062 -8.785156 L 1.710938 -8.785156 L 1.710938 -1.257812 Z M 7.164062 -1.257812 \"/>\n",
       "</symbol>\n",
       "<symbol overflow=\"visible\" id=\"glyph0-1\">\n",
       "<path style=\"stroke:none;\" d=\"M 3.789062 -9.789062 C 5.054688 -9.789062 5.96875 -9.265625 6.535156 -8.222656 C 6.972656 -7.417969 7.191406 -6.3125 7.191406 -4.90625 C 7.191406 -3.578125 6.992188 -2.476562 6.597656 -1.605469 C 6.023438 -0.359375 5.082031 0.265625 3.78125 0.265625 C 2.605469 0.265625 1.730469 -0.242188 1.15625 -1.265625 C 0.675781 -2.117188 0.4375 -3.261719 0.4375 -4.695312 C 0.4375 -5.808594 0.582031 -6.761719 0.867188 -7.5625 C 1.40625 -9.046875 2.378906 -9.789062 3.789062 -9.789062 Z M 3.773438 -0.855469 C 4.410156 -0.855469 4.917969 -1.136719 5.296875 -1.703125 C 5.675781 -2.265625 5.867188 -3.320312 5.867188 -4.859375 C 5.867188 -5.972656 5.726562 -6.886719 5.453125 -7.605469 C 5.179688 -8.324219 4.652344 -8.679688 3.863281 -8.679688 C 3.136719 -8.679688 2.609375 -8.339844 2.273438 -7.660156 C 1.9375 -6.976562 1.769531 -5.976562 1.769531 -4.648438 C 1.769531 -3.648438 1.878906 -2.847656 2.09375 -2.242188 C 2.421875 -1.316406 2.980469 -0.855469 3.773438 -0.855469 Z M 3.773438 -0.855469 \"/>\n",
       "</symbol>\n",
       "<symbol overflow=\"visible\" id=\"glyph0-2\">\n",
       "<path style=\"stroke:none;\" d=\"M 1.339844 -6.929688 L 1.339844 -7.875 C 2.226562 -7.960938 2.847656 -8.105469 3.199219 -8.308594 C 3.550781 -8.511719 3.8125 -8.992188 3.984375 -9.75 L 4.957031 -9.75 L 4.957031 0 L 3.644531 0 L 3.644531 -6.929688 Z M 1.339844 -6.929688 \"/>\n",
       "</symbol>\n",
       "<symbol overflow=\"visible\" id=\"glyph0-3\">\n",
       "<path style=\"stroke:none;\" d=\"M 0.4375 0 C 0.484375 -0.84375 0.65625 -1.578125 0.960938 -2.203125 C 1.265625 -2.828125 1.855469 -3.394531 2.734375 -3.902344 L 4.046875 -4.664062 C 4.632812 -5.003906 5.046875 -5.296875 5.285156 -5.539062 C 5.65625 -5.914062 5.84375 -6.347656 5.84375 -6.835938 C 5.84375 -7.40625 5.671875 -7.859375 5.332031 -8.191406 C 4.992188 -8.527344 4.535156 -8.695312 3.964844 -8.695312 C 3.121094 -8.695312 2.539062 -8.375 2.214844 -7.738281 C 2.042969 -7.398438 1.945312 -6.921875 1.929688 -6.316406 L 0.675781 -6.316406 C 0.691406 -7.167969 0.847656 -7.863281 1.148438 -8.402344 C 1.679688 -9.351562 2.621094 -9.824219 3.972656 -9.824219 C 5.09375 -9.824219 5.910156 -9.519531 6.429688 -8.914062 C 6.945312 -8.308594 7.203125 -7.632812 7.203125 -6.890625 C 7.203125 -6.105469 6.929688 -5.4375 6.378906 -4.882812 C 6.058594 -4.558594 5.488281 -4.164062 4.664062 -3.703125 L 3.726562 -3.1875 C 3.28125 -2.941406 2.929688 -2.703125 2.671875 -2.480469 C 2.21875 -2.085938 1.929688 -1.644531 1.8125 -1.164062 L 7.15625 -1.164062 L 7.15625 0 Z M 0.4375 0 \"/>\n",
       "</symbol>\n",
       "<symbol overflow=\"visible\" id=\"glyph0-4\">\n",
       "<path style=\"stroke:none;\" d=\"M 3.636719 0.265625 C 2.480469 0.265625 1.640625 -0.0507812 1.117188 -0.6875 C 0.59375 -1.324219 0.335938 -2.097656 0.335938 -3.007812 L 1.621094 -3.007812 C 1.675781 -2.375 1.792969 -1.914062 1.976562 -1.625 C 2.296875 -1.109375 2.871094 -0.855469 3.703125 -0.855469 C 4.351562 -0.855469 4.871094 -1.027344 5.265625 -1.375 C 5.65625 -1.71875 5.851562 -2.167969 5.851562 -2.714844 C 5.851562 -3.390625 5.644531 -3.859375 5.234375 -4.128906 C 4.820312 -4.398438 4.246094 -4.53125 3.515625 -4.53125 C 3.433594 -4.53125 3.347656 -4.53125 3.265625 -4.527344 C 3.179688 -4.527344 3.09375 -4.523438 3.007812 -4.519531 L 3.007812 -5.605469 C 3.136719 -5.59375 3.242188 -5.582031 3.328125 -5.578125 C 3.414062 -5.574219 3.507812 -5.570312 3.609375 -5.570312 C 4.070312 -5.570312 4.449219 -5.644531 4.742188 -5.789062 C 5.261719 -6.046875 5.523438 -6.5 5.523438 -7.15625 C 5.523438 -7.644531 5.351562 -8.019531 5.003906 -8.285156 C 4.65625 -8.550781 4.253906 -8.679688 3.792969 -8.679688 C 2.972656 -8.679688 2.40625 -8.40625 2.09375 -7.859375 C 1.917969 -7.558594 1.820312 -7.132812 1.796875 -6.578125 L 0.582031 -6.578125 C 0.582031 -7.304688 0.726562 -7.925781 1.019531 -8.4375 C 1.519531 -9.347656 2.402344 -9.804688 3.664062 -9.804688 C 4.664062 -9.804688 5.433594 -9.582031 5.980469 -9.136719 C 6.527344 -8.691406 6.800781 -8.046875 6.800781 -7.203125 C 6.800781 -6.601562 6.640625 -6.117188 6.316406 -5.742188 C 6.117188 -5.507812 5.855469 -5.328125 5.539062 -5.195312 C 6.054688 -5.054688 6.453125 -4.78125 6.742188 -4.378906 C 7.03125 -3.976562 7.179688 -3.480469 7.179688 -2.898438 C 7.179688 -1.964844 6.871094 -1.203125 6.253906 -0.617188 C 5.640625 -0.0273438 4.765625 0.265625 3.636719 0.265625 Z M 3.636719 0.265625 \"/>\n",
       "</symbol>\n",
       "<symbol overflow=\"visible\" id=\"glyph0-5\">\n",
       "<path style=\"stroke:none;\" d=\"M 4.628906 -3.464844 L 4.628906 -7.902344 L 1.492188 -3.464844 Z M 4.648438 0 L 4.648438 -2.390625 L 0.355469 -2.390625 L 0.355469 -3.59375 L 4.839844 -9.816406 L 5.878906 -9.816406 L 5.878906 -3.464844 L 7.320312 -3.464844 L 7.320312 -2.390625 L 5.878906 -2.390625 L 5.878906 0 Z M 4.648438 0 \"/>\n",
       "</symbol>\n",
       "<symbol overflow=\"visible\" id=\"glyph0-6\">\n",
       "<path style=\"stroke:none;\" d=\"M 1.730469 -2.496094 C 1.8125 -1.792969 2.136719 -1.308594 2.707031 -1.039062 C 3 -0.902344 3.335938 -0.835938 3.71875 -0.835938 C 4.449219 -0.835938 4.988281 -1.066406 5.339844 -1.53125 C 5.691406 -1.996094 5.867188 -2.511719 5.867188 -3.078125 C 5.867188 -3.761719 5.65625 -4.289062 5.238281 -4.664062 C 4.820312 -5.035156 4.324219 -5.222656 3.738281 -5.222656 C 3.316406 -5.222656 2.953125 -5.140625 2.648438 -4.976562 C 2.34375 -4.8125 2.085938 -4.585938 1.875 -4.292969 L 0.804688 -4.355469 L 1.550781 -9.625 L 6.636719 -9.625 L 6.636719 -8.4375 L 2.476562 -8.4375 L 2.058594 -5.714844 C 2.285156 -5.886719 2.5 -6.019531 2.707031 -6.105469 C 3.070312 -6.253906 3.492188 -6.328125 3.972656 -6.328125 C 4.871094 -6.328125 5.628906 -6.039062 6.253906 -5.460938 C 6.878906 -4.882812 7.191406 -4.148438 7.191406 -3.261719 C 7.191406 -2.335938 6.90625 -1.519531 6.332031 -0.8125 C 5.761719 -0.105469 4.847656 0.246094 3.59375 0.246094 C 2.796875 0.246094 2.09375 0.0234375 1.480469 -0.425781 C 0.867188 -0.875 0.523438 -1.566406 0.453125 -2.496094 Z M 1.730469 -2.496094 \"/>\n",
       "</symbol>\n",
       "<symbol overflow=\"visible\" id=\"glyph0-7\">\n",
       "<path style=\"stroke:none;\" d=\"M 4.09375 -9.828125 C 5.1875 -9.828125 5.949219 -9.546875 6.382812 -8.980469 C 6.8125 -8.414062 7.027344 -7.828125 7.027344 -7.226562 L 5.8125 -7.226562 C 5.738281 -7.613281 5.621094 -7.914062 5.460938 -8.132812 C 5.164062 -8.542969 4.71875 -8.75 4.117188 -8.75 C 3.429688 -8.75 2.878906 -8.433594 2.476562 -7.796875 C 2.070312 -7.160156 1.84375 -6.25 1.796875 -5.066406 C 2.078125 -5.480469 2.4375 -5.789062 2.863281 -5.996094 C 3.257812 -6.179688 3.695312 -6.269531 4.175781 -6.269531 C 4.996094 -6.269531 5.710938 -6.007812 6.324219 -5.484375 C 6.933594 -4.960938 7.238281 -4.175781 7.238281 -3.136719 C 7.238281 -2.25 6.949219 -1.460938 6.371094 -0.777344 C 5.792969 -0.0898438 4.96875 0.253906 3.898438 0.253906 C 2.980469 0.253906 2.191406 -0.09375 1.523438 -0.789062 C 0.859375 -1.484375 0.527344 -2.65625 0.527344 -4.300781 C 0.527344 -5.515625 0.675781 -6.546875 0.96875 -7.398438 C 1.539062 -9.019531 2.582031 -9.828125 4.09375 -9.828125 Z M 4.007812 -0.839844 C 4.652344 -0.839844 5.136719 -1.058594 5.457031 -1.492188 C 5.78125 -1.929688 5.941406 -2.441406 5.941406 -3.035156 C 5.941406 -3.535156 5.796875 -4.015625 5.507812 -4.46875 C 5.222656 -4.921875 4.699219 -5.148438 3.945312 -5.148438 C 3.414062 -5.148438 2.953125 -4.972656 2.554688 -4.621094 C 2.15625 -4.269531 1.953125 -3.742188 1.953125 -3.035156 C 1.953125 -2.414062 2.136719 -1.894531 2.5 -1.472656 C 2.859375 -1.050781 3.363281 -0.839844 4.007812 -0.839844 Z M 4.007812 -0.839844 \"/>\n",
       "</symbol>\n",
       "</g>\n",
       "</defs>\n",
       "<g id=\"surface38\">\n",
       "<rect x=\"0\" y=\"0\" width=\"300\" height=\"300\" style=\"fill:rgb(100%,100%,100%);fill-opacity:1;stroke:none;\"/>\n",
       "<path style=\"fill:none;stroke-width:1;stroke-linecap:butt;stroke-linejoin:miter;stroke:rgb(26.666667%,26.666667%,26.666667%);stroke-opacity:1;stroke-miterlimit:10;\" d=\"M 241.28125 280 L 274.496094 137.335938 \"/>\n",
       "<path style=\" stroke:none;fill-rule:nonzero;fill:rgb(26.666667%,26.666667%,26.666667%);fill-opacity:1;\" d=\"M 277.734375 123.441406 L 279.011719 138.386719 L 269.984375 136.285156 L 277.734375 123.441406 \"/>\n",
       "<path style=\"fill:none;stroke-width:1;stroke-linecap:butt;stroke-linejoin:miter;stroke:rgb(26.666667%,26.666667%,26.666667%);stroke-opacity:1;stroke-miterlimit:10;\" d=\"M 241.28125 280 L 229.511719 108.851562 \"/>\n",
       "<path style=\" stroke:none;fill-rule:nonzero;fill:rgb(26.666667%,26.666667%,26.666667%);fill-opacity:1;\" d=\"M 228.535156 94.621094 L 234.136719 108.535156 L 224.886719 109.171875 L 228.535156 94.621094 \"/>\n",
       "<path style=\"fill:none;stroke-width:1;stroke-linecap:butt;stroke-linejoin:miter;stroke:rgb(26.666667%,26.666667%,26.666667%);stroke-opacity:1;stroke-miterlimit:10;\" d=\"M 241.28125 280 L 174.757812 228.695312 \"/>\n",
       "<path style=\" stroke:none;fill-rule:nonzero;fill:rgb(26.666667%,26.666667%,26.666667%);fill-opacity:1;\" d=\"M 163.460938 219.984375 L 177.585938 225.023438 L 171.925781 232.363281 L 163.460938 219.984375 \"/>\n",
       "<path style=\"fill:none;stroke-width:1;stroke-linecap:butt;stroke-linejoin:miter;stroke:rgb(26.666667%,26.666667%,26.666667%);stroke-opacity:1;stroke-miterlimit:10;\" d=\"M 280 113.699219 C 260.558594 94.621094 227.753906 84.796875 215.199219 105.058594 \"/>\n",
       "<path style=\" stroke:none;fill-rule:nonzero;fill:rgb(26.666667%,26.666667%,26.666667%);fill-opacity:1;\" d=\"M 222.710938 92.933594 L 219.136719 107.5 L 211.257812 102.617188 L 222.710938 92.933594 \"/>\n",
       "<path style=\"fill:none;stroke-width:1;stroke-linecap:butt;stroke-linejoin:miter;stroke:rgb(26.666667%,26.666667%,26.666667%);stroke-opacity:1;stroke-miterlimit:10;\" d=\"M 280 113.699219 L 188.9375 137.902344 \"/>\n",
       "<path style=\" stroke:none;fill-rule:nonzero;fill:rgb(26.666667%,26.666667%,26.666667%);fill-opacity:1;\" d=\"M 175.152344 141.566406 L 187.746094 133.425781 L 190.128906 142.382812 L 175.152344 141.566406 \"/>\n",
       "<path style=\"fill:none;stroke-width:1;stroke-linecap:butt;stroke-linejoin:miter;stroke:rgb(26.666667%,26.666667%,26.666667%);stroke-opacity:1;stroke-miterlimit:10;\" d=\"M 227.847656 84.644531 C 228.925781 103.089844 240 121.871094 256.480469 118.507812 \"/>\n",
       "<path style=\" stroke:none;fill-rule:nonzero;fill:rgb(26.666667%,26.666667%,26.666667%);fill-opacity:1;\" d=\"M 270.457031 115.652344 L 257.40625 123.046875 L 255.550781 113.964844 L 270.457031 115.652344 \"/>\n",
       "<path style=\"fill:none;stroke-width:1;stroke-linecap:butt;stroke-linejoin:miter;stroke:rgb(26.666667%,26.666667%,26.666667%);stroke-opacity:1;stroke-miterlimit:10;\" d=\"M 227.847656 84.644531 C 221.824219 57.636719 184.621094 54.527344 177.390625 41.464844 \"/>\n",
       "<path style=\" stroke:none;fill-rule:nonzero;fill:rgb(26.666667%,26.666667%,26.666667%);fill-opacity:1;\" d=\"M 170.480469 28.984375 L 181.445312 39.21875 L 173.335938 43.710938 L 170.480469 28.984375 \"/>\n",
       "<path style=\"fill:none;stroke-width:1;stroke-linecap:butt;stroke-linejoin:miter;stroke:rgb(26.666667%,26.666667%,26.666667%);stroke-opacity:1;stroke-miterlimit:10;\" d=\"M 227.847656 84.644531 L 167.390625 192.699219 \"/>\n",
       "<path style=\" stroke:none;fill-rule:nonzero;fill:rgb(26.666667%,26.666667%,26.666667%);fill-opacity:1;\" d=\"M 160.421875 205.148438 L 163.34375 190.4375 L 171.433594 194.960938 L 160.421875 205.148438 \"/>\n",
       "<path style=\"fill:none;stroke-width:1;stroke-linecap:butt;stroke-linejoin:miter;stroke:rgb(26.666667%,26.666667%,26.666667%);stroke-opacity:1;stroke-miterlimit:10;\" d=\"M 165.507812 20 L 261.222656 98.332031 \"/>\n",
       "<path style=\" stroke:none;fill-rule:nonzero;fill:rgb(26.666667%,26.666667%,26.666667%);fill-opacity:1;\" d=\"M 272.261719 107.367188 L 258.285156 101.917969 L 264.15625 94.746094 L 272.261719 107.367188 \"/>\n",
       "<path style=\"fill:none;stroke-width:1;stroke-linecap:butt;stroke-linejoin:miter;stroke:rgb(26.666667%,26.666667%,26.666667%);stroke-opacity:1;stroke-miterlimit:10;\" d=\"M 165.507812 20 C 161.464844 51.9375 175.835938 90.035156 203.734375 87.144531 \"/>\n",
       "<path style=\" stroke:none;fill-rule:nonzero;fill:rgb(26.666667%,26.666667%,26.666667%);fill-opacity:1;\" d=\"M 217.925781 85.671875 L 204.214844 91.753906 L 203.257812 82.53125 L 217.925781 85.671875 \"/>\n",
       "<path style=\"fill:none;stroke-width:1;stroke-linecap:butt;stroke-linejoin:miter;stroke:rgb(26.666667%,26.666667%,26.666667%);stroke-opacity:1;stroke-miterlimit:10;\" d=\"M 165.507812 20 C 128.722656 53.234375 110.117188 126.246094 142.738281 136.785156 \"/>\n",
       "<path style=\" stroke:none;fill-rule:nonzero;fill:rgb(26.666667%,26.666667%,26.666667%);fill-opacity:1;\" d=\"M 156.3125 141.171875 L 141.3125 141.195312 L 144.164062 132.375 L 156.3125 141.171875 \"/>\n",
       "<path style=\"fill:none;stroke-width:1;stroke-linecap:butt;stroke-linejoin:miter;stroke:rgb(26.666667%,26.666667%,26.666667%);stroke-opacity:1;stroke-miterlimit:10;\" d=\"M 273.867188 207.859375 L 251.273438 257.886719 \"/>\n",
       "<path style=\" stroke:none;fill-rule:nonzero;fill:rgb(26.666667%,26.666667%,26.666667%);fill-opacity:1;\" d=\"M 245.398438 270.886719 L 247.046875 255.976562 L 255.496094 259.792969 L 245.398438 270.886719 \"/>\n",
       "<path style=\"fill:none;stroke-width:1;stroke-linecap:butt;stroke-linejoin:miter;stroke:rgb(26.666667%,26.666667%,26.666667%);stroke-opacity:1;stroke-miterlimit:10;\" d=\"M 273.867188 207.859375 L 278.421875 137.914062 \"/>\n",
       "<path style=\" stroke:none;fill-rule:nonzero;fill:rgb(26.666667%,26.666667%,26.666667%);fill-opacity:1;\" d=\"M 279.351562 123.679688 L 283.046875 138.214844 L 273.796875 137.613281 L 279.351562 123.679688 \"/>\n",
       "<path style=\"fill:none;stroke-width:1;stroke-linecap:butt;stroke-linejoin:miter;stroke:rgb(26.666667%,26.666667%,26.666667%);stroke-opacity:1;stroke-miterlimit:10;\" d=\"M 273.867188 207.859375 L 236.335938 107.375 \"/>\n",
       "<path style=\" stroke:none;fill-rule:nonzero;fill:rgb(26.666667%,26.666667%,26.666667%);fill-opacity:1;\" d=\"M 231.347656 94.011719 L 240.679688 105.753906 L 231.996094 108.996094 L 231.347656 94.011719 \"/>\n",
       "<path style=\"fill:none;stroke-width:1;stroke-linecap:butt;stroke-linejoin:miter;stroke:rgb(26.666667%,26.666667%,26.666667%);stroke-opacity:1;stroke-miterlimit:10;\" d=\"M 273.867188 207.859375 L 179.777344 212.644531 \"/>\n",
       "<path style=\" stroke:none;fill-rule:nonzero;fill:rgb(26.666667%,26.666667%,26.666667%);fill-opacity:1;\" d=\"M 165.527344 213.367188 L 179.539062 208.015625 L 180.011719 217.273438 L 165.527344 213.367188 \"/>\n",
       "<path style=\"fill:none;stroke-width:1;stroke-linecap:butt;stroke-linejoin:miter;stroke:rgb(26.666667%,26.666667%,26.666667%);stroke-opacity:1;stroke-miterlimit:10;\" d=\"M 273.867188 207.859375 C 262.503906 164.550781 233.585938 135.515625 189.6875 141.074219 \"/>\n",
       "<path style=\" stroke:none;fill-rule:nonzero;fill:rgb(26.666667%,26.666667%,26.666667%);fill-opacity:1;\" d=\"M 175.535156 142.863281 L 189.105469 136.472656 L 190.269531 145.671875 L 175.535156 142.863281 \"/>\n",
       "<path style=\"fill:none;stroke-width:1;stroke-linecap:butt;stroke-linejoin:miter;stroke:rgb(26.666667%,26.666667%,26.666667%);stroke-opacity:1;stroke-miterlimit:10;\" d=\"M 155.539062 213.875 L 261.097656 128.914062 \"/>\n",
       "<path style=\" stroke:none;fill-rule:nonzero;fill:rgb(26.666667%,26.666667%,26.666667%);fill-opacity:1;\" d=\"M 272.210938 119.972656 L 264.003906 132.527344 L 258.191406 125.304688 L 272.210938 119.972656 \"/>\n",
       "<path style=\"fill:none;stroke-width:1;stroke-linecap:butt;stroke-linejoin:miter;stroke:rgb(26.666667%,26.666667%,26.666667%);stroke-opacity:1;stroke-miterlimit:10;\" d=\"M 155.539062 213.875 L 44.007812 230.324219 \"/>\n",
       "<path style=\" stroke:none;fill-rule:nonzero;fill:rgb(26.666667%,26.666667%,26.666667%);fill-opacity:1;\" d=\"M 29.894531 232.402344 L 43.328125 225.738281 L 44.683594 234.910156 L 29.894531 232.402344 \"/>\n",
       "<path style=\"fill:none;stroke-width:1;stroke-linecap:butt;stroke-linejoin:miter;stroke:rgb(26.666667%,26.666667%,26.666667%);stroke-opacity:1;stroke-miterlimit:10;\" d=\"M 155.539062 213.875 L 164.261719 44.234375 \"/>\n",
       "<path style=\" stroke:none;fill-rule:nonzero;fill:rgb(26.666667%,26.666667%,26.666667%);fill-opacity:1;\" d=\"M 164.992188 29.988281 L 168.890625 44.472656 L 159.632812 43.996094 L 164.992188 29.988281 \"/>\n",
       "<path style=\"fill:none;stroke-width:1;stroke-linecap:butt;stroke-linejoin:miter;stroke:rgb(26.666667%,26.666667%,26.666667%);stroke-opacity:1;stroke-miterlimit:10;\" d=\"M 155.539062 213.875 L 162.058594 168.160156 \"/>\n",
       "<path style=\" stroke:none;fill-rule:nonzero;fill:rgb(26.666667%,26.666667%,26.666667%);fill-opacity:1;\" d=\"M 164.074219 154.035156 L 166.648438 168.8125 L 157.472656 167.503906 L 164.074219 154.035156 \"/>\n",
       "<path style=\"fill:none;stroke-width:1;stroke-linecap:butt;stroke-linejoin:miter;stroke:rgb(26.666667%,26.666667%,26.666667%);stroke-opacity:1;stroke-miterlimit:10;\" d=\"M 165.484375 144.136719 L 229.460938 258.808594 \"/>\n",
       "<path style=\" stroke:none;fill-rule:nonzero;fill:rgb(26.666667%,26.666667%,26.666667%);fill-opacity:1;\" d=\"M 236.410156 271.265625 L 225.414062 261.066406 L 233.507812 256.550781 L 236.410156 271.265625 \"/>\n",
       "<path style=\"fill:none;stroke-width:1;stroke-linecap:butt;stroke-linejoin:miter;stroke:rgb(26.666667%,26.666667%,26.666667%);stroke-opacity:1;stroke-miterlimit:10;\" d=\"M 165.484375 144.136719 L 40.652344 221.125 \"/>\n",
       "<path style=\" stroke:none;fill-rule:nonzero;fill:rgb(26.666667%,26.666667%,26.666667%);fill-opacity:1;\" d=\"M 28.511719 228.613281 L 38.21875 217.179688 L 43.085938 225.070312 L 28.511719 228.613281 \"/>\n",
       "<path style=\"fill:none;stroke-width:1;stroke-linecap:butt;stroke-linejoin:miter;stroke:rgb(26.666667%,26.666667%,26.666667%);stroke-opacity:1;stroke-miterlimit:10;\" d=\"M 165.484375 144.136719 L 210.289062 101.394531 \"/>\n",
       "<path style=\" stroke:none;fill-rule:nonzero;fill:rgb(26.666667%,26.666667%,26.666667%);fill-opacity:1;\" d=\"M 220.613281 91.546875 L 213.488281 104.746094 L 207.089844 98.039062 L 220.613281 91.546875 \"/>\n",
       "<path style=\"fill:none;stroke-width:1;stroke-linecap:butt;stroke-linejoin:miter;stroke:rgb(26.666667%,26.666667%,26.666667%);stroke-opacity:1;stroke-miterlimit:10;\" d=\"M 165.484375 144.136719 C 194.570312 112.773438 194.703125 80.398438 176.164062 42.042969 \"/>\n",
       "<path style=\" stroke:none;fill-rule:nonzero;fill:rgb(26.666667%,26.666667%,26.666667%);fill-opacity:1;\" d=\"M 169.953125 29.199219 L 180.335938 40.027344 L 171.988281 44.0625 L 169.953125 29.199219 \"/>\n",
       "<path style=\"fill:none;stroke-width:1;stroke-linecap:butt;stroke-linejoin:miter;stroke:rgb(26.666667%,26.666667%,26.666667%);stroke-opacity:1;stroke-miterlimit:10;\" d=\"M 165.484375 144.136719 C 176.695312 187.78125 206.226562 218.941406 249.855469 211.792969 \"/>\n",
       "<path style=\" stroke:none;fill-rule:nonzero;fill:rgb(26.666667%,26.666667%,26.666667%);fill-opacity:1;\" d=\"M 263.933594 209.488281 L 250.605469 216.367188 L 249.105469 207.21875 L 263.933594 209.488281 \"/>\n",
       "<path style=\"fill-rule:nonzero;fill:rgb(100%,0%,0%);fill-opacity:1;stroke-width:1;stroke-linecap:butt;stroke-linejoin:miter;stroke:rgb(0%,0%,0%);stroke-opacity:1;stroke-miterlimit:10;\" d=\"M 251.28125 280 C 251.28125 285.523438 246.804688 290 241.28125 290 C 235.757812 290 231.28125 285.523438 231.28125 280 C 231.28125 274.476562 235.757812 270 241.28125 270 C 246.804688 270 251.28125 274.476562 251.28125 280 \"/>\n",
       "<path style=\"fill-rule:nonzero;fill:rgb(100%,0%,0%);fill-opacity:1;stroke-width:1;stroke-linecap:butt;stroke-linejoin:miter;stroke:rgb(0%,0%,0%);stroke-opacity:1;stroke-miterlimit:10;\" d=\"M 290 113.699219 C 290 119.222656 285.523438 123.699219 280 123.699219 C 274.476562 123.699219 270 119.222656 270 113.699219 C 270 108.179688 274.476562 103.699219 280 103.699219 C 285.523438 103.699219 290 108.179688 290 113.699219 \"/>\n",
       "<path style=\"fill-rule:nonzero;fill:rgb(100%,0%,0%);fill-opacity:1;stroke-width:1;stroke-linecap:butt;stroke-linejoin:miter;stroke:rgb(0%,0%,0%);stroke-opacity:1;stroke-miterlimit:10;\" d=\"M 30 233.863281 C 30 239.386719 25.523438 243.863281 20 243.863281 C 14.476562 243.863281 10 239.386719 10 233.863281 C 10 228.339844 14.476562 223.863281 20 223.863281 C 25.523438 223.863281 30 228.339844 30 233.863281 \"/>\n",
       "<path style=\"fill-rule:nonzero;fill:rgb(100%,0%,0%);fill-opacity:1;stroke-width:1;stroke-linecap:butt;stroke-linejoin:miter;stroke:rgb(0%,0%,0%);stroke-opacity:1;stroke-miterlimit:10;\" d=\"M 237.847656 84.644531 C 237.847656 90.167969 233.371094 94.644531 227.847656 94.644531 C 222.324219 94.644531 217.847656 90.167969 217.847656 84.644531 C 217.847656 79.121094 222.324219 74.644531 227.847656 74.644531 C 233.371094 74.644531 237.847656 79.121094 237.847656 84.644531 \"/>\n",
       "<path style=\"fill-rule:nonzero;fill:rgb(100%,0%,0%);fill-opacity:1;stroke-width:1;stroke-linecap:butt;stroke-linejoin:miter;stroke:rgb(0%,0%,0%);stroke-opacity:1;stroke-miterlimit:10;\" d=\"M 175.507812 20 C 175.507812 25.523438 171.03125 30 165.507812 30 C 159.984375 30 155.507812 25.523438 155.507812 20 C 155.507812 14.476562 159.984375 10 165.507812 10 C 171.03125 10 175.507812 14.476562 175.507812 20 \"/>\n",
       "<path style=\"fill-rule:nonzero;fill:rgb(100%,0%,0%);fill-opacity:1;stroke-width:1;stroke-linecap:butt;stroke-linejoin:miter;stroke:rgb(0%,0%,0%);stroke-opacity:1;stroke-miterlimit:10;\" d=\"M 283.867188 207.859375 C 283.867188 213.382812 279.390625 217.859375 273.867188 217.859375 C 268.34375 217.859375 263.867188 213.382812 263.867188 207.859375 C 263.867188 202.335938 268.34375 197.859375 273.867188 197.859375 C 279.390625 197.859375 283.867188 202.335938 283.867188 207.859375 \"/>\n",
       "<path style=\"fill-rule:nonzero;fill:rgb(100%,0%,0%);fill-opacity:1;stroke-width:1;stroke-linecap:butt;stroke-linejoin:miter;stroke:rgb(0%,0%,0%);stroke-opacity:1;stroke-miterlimit:10;\" d=\"M 165.539062 213.875 C 165.539062 219.398438 161.0625 223.875 155.539062 223.875 C 150.019531 223.875 145.539062 219.398438 145.539062 213.875 C 145.539062 208.351562 150.019531 203.875 155.539062 203.875 C 161.0625 203.875 165.539062 208.351562 165.539062 213.875 \"/>\n",
       "<path style=\"fill-rule:nonzero;fill:rgb(100%,0%,0%);fill-opacity:1;stroke-width:1;stroke-linecap:butt;stroke-linejoin:miter;stroke:rgb(0%,0%,0%);stroke-opacity:1;stroke-miterlimit:10;\" d=\"M 175.484375 144.136719 C 175.484375 149.660156 171.007812 154.136719 165.484375 154.136719 C 159.964844 154.136719 155.484375 149.660156 155.484375 144.136719 C 155.484375 138.613281 159.964844 134.136719 165.484375 134.136719 C 171.007812 134.136719 175.484375 138.613281 175.484375 144.136719 \"/>\n",
       "<g style=\"fill:rgb(0%,0%,0%);fill-opacity:1;\">\n",
       "  <use xlink:href=\"#glyph0-1\" x=\"237.46875\" y=\"286.503906\"/>\n",
       "</g>\n",
       "<g style=\"fill:rgb(0%,0%,0%);fill-opacity:1;\">\n",
       "  <use xlink:href=\"#glyph0-2\" x=\"276.851562\" y=\"120.183594\"/>\n",
       "</g>\n",
       "<g style=\"fill:rgb(0%,0%,0%);fill-opacity:1;\">\n",
       "  <use xlink:href=\"#glyph0-3\" x=\"16.179688\" y=\"240.382812\"/>\n",
       "</g>\n",
       "<g style=\"fill:rgb(0%,0%,0%);fill-opacity:1;\">\n",
       "  <use xlink:href=\"#glyph0-4\" x=\"224.089844\" y=\"91.15625\"/>\n",
       "</g>\n",
       "<g style=\"fill:rgb(0%,0%,0%);fill-opacity:1;\">\n",
       "  <use xlink:href=\"#glyph0-5\" x=\"161.667969\" y=\"26.519531\"/>\n",
       "</g>\n",
       "<g style=\"fill:rgb(0%,0%,0%);fill-opacity:1;\">\n",
       "  <use xlink:href=\"#glyph0-6\" x=\"270.046875\" y=\"214.28125\"/>\n",
       "</g>\n",
       "<g style=\"fill:rgb(0%,0%,0%);fill-opacity:1;\">\n",
       "  <use xlink:href=\"#glyph0-7\" x=\"151.65625\" y=\"220.402344\"/>\n",
       "</g>\n",
       "<g style=\"fill:rgb(0%,0%,0%);fill-opacity:1;\">\n",
       "  <use xlink:href=\"#glyph0-1\" x=\"161.671875\" y=\"150.640625\"/>\n",
       "</g>\n",
       "</g>\n",
       "</svg>\n"
      ],
      "text/plain": [
       "<igraph.drawing.cairo.plot.CairoPlot at 0x7ff0549ce230>"
      ]
     },
     "execution_count": 52,
     "metadata": {
      "image/svg+xml": {
       "isolated": true
      }
     },
     "output_type": "execute_result"
    }
   ],
   "source": [
    "lo2 = IGG4.layout_fruchterman_reingold()\n",
    "#Use old layout, constrain size \n",
    "\n",
    "bbox,margin =(300, 300), 20\n",
    "ig.plot(IGG4,layout=lo1, bbox=bbox, margin=margin)\n",
    "# Use new layout\n",
    "#ig.plot(IGG4,layout=lo2)"
   ]
  },
  {
   "cell_type": "markdown",
   "metadata": {},
   "source": [
    "In every way that matters the two graphs are the same."
   ]
  },
  {
   "cell_type": "code",
   "execution_count": 8,
   "metadata": {
    "scrolled": false
   },
   "outputs": [
    {
     "name": "stdout",
     "output_type": "stream",
     "text": [
      "IGRAPH D--- 8 25 --\n",
      "+ attr: _nx_name (v), label (v)\n",
      "+ edges:\n",
      "0 -> 1 3 6       2 ->             4 -> 1 3 7       6 -> 1 2 4 7\n",
      "1 -> 3 7         3 -> 1 4 6       5 -> 0 1 3 6 7   7 -> 0 2 3 4 5\n"
     ]
    }
   ],
   "source": [
    "print(IG4)"
   ]
  },
  {
   "cell_type": "code",
   "execution_count": 9,
   "metadata": {},
   "outputs": [
    {
     "name": "stdout",
     "output_type": "stream",
     "text": [
      "IGRAPH D--- 8 25 --\n",
      "+ attr: label (v)\n",
      "+ edges:\n",
      "0 -> 1 3 6       2 ->             4 -> 1 3 7       6 -> 1 2 4 7\n",
      "1 -> 3 7         3 -> 1 4 6       5 -> 0 1 3 6 7   7 -> 0 2 3 4 5\n"
     ]
    }
   ],
   "source": [
    "print(IGG4)"
   ]
  },
  {
   "cell_type": "markdown",
   "metadata": {},
   "source": [
    "We see that `ig` pagerank agrees with `networkx`'s."
   ]
  },
  {
   "cell_type": "code",
   "execution_count": 10,
   "metadata": {
    "scrolled": true
   },
   "outputs": [
    {
     "data": {
      "text/plain": [
       "array([0.06654295, 0.17466943, 0.08068815, 0.1984218 , 0.13690766,\n",
       "       0.05687432, 0.1120651 , 0.17383059])"
      ]
     },
     "execution_count": 10,
     "metadata": {},
     "output_type": "execute_result"
    }
   ],
   "source": [
    "import numpy as np\n",
    "ig_centralities = np.array(IG4.pagerank())\n",
    "# playing with the damping parameter\n",
    "#ig_centralities = np.array(IG4.pagerank(directed=True,damping=.98))\n",
    "ig_centralities"
   ]
  },
  {
   "cell_type": "markdown",
   "metadata": {},
   "source": [
    "No disagreement to speak of."
   ]
  },
  {
   "cell_type": "code",
   "execution_count": 11,
   "metadata": {},
   "outputs": [
    {
     "data": {
      "text/plain": [
       "array([0.06654297, 0.17466966, 0.08068806, 0.1984218 , 0.13690749,\n",
       "       0.05687427, 0.11206518, 0.17383058])"
      ]
     },
     "execution_count": 11,
     "metadata": {},
     "output_type": "execute_result"
    }
   ],
   "source": [
    "kc_dict = nx.pagerank(G4)\n",
    "nx_centralities = np.array([kc_dict[i] for i in range(len(kc_dict))])\n",
    "nx_centralities"
   ]
  },
  {
   "cell_type": "markdown",
   "metadata": {},
   "source": [
    "This algorithm appear to be close to networkx's and\n",
    "converges after 10 iters on our example graph G4 on a very similar solution."
   ]
  },
  {
   "cell_type": "markdown",
   "metadata": {},
   "source": [
    "Drawing a more complicated graph, coloring communities:"
   ]
  },
  {
   "cell_type": "code",
   "execution_count": 36,
   "metadata": {
    "scrolled": false
   },
   "outputs": [
    {
     "data": {
      "image/svg+xml": [
       "<?xml version=\"1.0\" encoding=\"UTF-8\"?>\n",
       "<svg xmlns=\"http://www.w3.org/2000/svg\" xmlns:xlink=\"http://www.w3.org/1999/xlink\" width=\"600pt\" height=\"600pt\" viewBox=\"0 0 600 600\" version=\"1.1\">\n",
       "<g id=\"surface26\">\n",
       "<rect x=\"0\" y=\"0\" width=\"600\" height=\"600\" style=\"fill:rgb(100%,100%,100%);fill-opacity:1;stroke:none;\"/>\n",
       "<path style=\"fill:none;stroke-width:1;stroke-linecap:butt;stroke-linejoin:miter;stroke:rgb(26.666667%,26.666667%,26.666667%);stroke-opacity:1;stroke-miterlimit:10;\" d=\"M 402.464844 453.023438 L 455.949219 416.914062 \"/>\n",
       "<path style=\"fill:none;stroke-width:1;stroke-linecap:butt;stroke-linejoin:miter;stroke:rgb(26.666667%,26.666667%,26.666667%);stroke-opacity:1;stroke-miterlimit:10;\" d=\"M 402.464844 453.023438 L 409.332031 380.828125 \"/>\n",
       "<path style=\"fill:none;stroke-width:1;stroke-linecap:butt;stroke-linejoin:miter;stroke:rgb(26.666667%,26.666667%,26.666667%);stroke-opacity:1;stroke-miterlimit:10;\" d=\"M 402.464844 453.023438 L 409.40625 421.6875 \"/>\n",
       "<path style=\"fill:none;stroke-width:1;stroke-linecap:butt;stroke-linejoin:miter;stroke:rgb(26.666667%,26.666667%,26.666667%);stroke-opacity:1;stroke-miterlimit:10;\" d=\"M 455.949219 416.914062 L 329.601562 267.851562 \"/>\n",
       "<path style=\"fill:none;stroke-width:1;stroke-linecap:butt;stroke-linejoin:miter;stroke:rgb(26.666667%,26.666667%,26.666667%);stroke-opacity:1;stroke-miterlimit:10;\" d=\"M 455.949219 416.914062 L 465.882812 363.578125 \"/>\n",
       "<path style=\"fill:none;stroke-width:1;stroke-linecap:butt;stroke-linejoin:miter;stroke:rgb(26.666667%,26.666667%,26.666667%);stroke-opacity:1;stroke-miterlimit:10;\" d=\"M 455.949219 416.914062 L 499.082031 359.492188 \"/>\n",
       "<path style=\"fill:none;stroke-width:1;stroke-linecap:butt;stroke-linejoin:miter;stroke:rgb(26.666667%,26.666667%,26.666667%);stroke-opacity:1;stroke-miterlimit:10;\" d=\"M 455.949219 416.914062 L 452.757812 454.925781 \"/>\n",
       "<path style=\"fill:none;stroke-width:1;stroke-linecap:butt;stroke-linejoin:miter;stroke:rgb(26.666667%,26.666667%,26.666667%);stroke-opacity:1;stroke-miterlimit:10;\" d=\"M 455.949219 416.914062 L 381.207031 274.332031 \"/>\n",
       "<path style=\"fill:none;stroke-width:1;stroke-linecap:butt;stroke-linejoin:miter;stroke:rgb(26.666667%,26.666667%,26.666667%);stroke-opacity:1;stroke-miterlimit:10;\" d=\"M 455.949219 416.914062 L 435.742188 480.0625 \"/>\n",
       "<path style=\"fill:none;stroke-width:1;stroke-linecap:butt;stroke-linejoin:miter;stroke:rgb(26.666667%,26.666667%,26.666667%);stroke-opacity:1;stroke-miterlimit:10;\" d=\"M 455.949219 416.914062 L 519.941406 491.65625 \"/>\n",
       "<path style=\"fill:none;stroke-width:1;stroke-linecap:butt;stroke-linejoin:miter;stroke:rgb(26.666667%,26.666667%,26.666667%);stroke-opacity:1;stroke-miterlimit:10;\" d=\"M 455.949219 416.914062 L 444.871094 371.882812 \"/>\n",
       "<path style=\"fill:none;stroke-width:1;stroke-linecap:butt;stroke-linejoin:miter;stroke:rgb(26.666667%,26.666667%,26.666667%);stroke-opacity:1;stroke-miterlimit:10;\" d=\"M 455.949219 416.914062 L 460.039062 389.785156 \"/>\n",
       "<path style=\"fill:none;stroke-width:1;stroke-linecap:butt;stroke-linejoin:miter;stroke:rgb(26.666667%,26.666667%,26.666667%);stroke-opacity:1;stroke-miterlimit:10;\" d=\"M 455.949219 416.914062 L 472.203125 348.363281 \"/>\n",
       "<path style=\"fill:none;stroke-width:1;stroke-linecap:butt;stroke-linejoin:miter;stroke:rgb(26.666667%,26.666667%,26.666667%);stroke-opacity:1;stroke-miterlimit:10;\" d=\"M 455.949219 416.914062 L 463.839844 515.476562 \"/>\n",
       "<path style=\"fill:none;stroke-width:1;stroke-linecap:butt;stroke-linejoin:miter;stroke:rgb(26.666667%,26.666667%,26.666667%);stroke-opacity:1;stroke-miterlimit:10;\" d=\"M 455.949219 416.914062 L 529.972656 478.890625 \"/>\n",
       "<path style=\"fill:none;stroke-width:1;stroke-linecap:butt;stroke-linejoin:miter;stroke:rgb(26.666667%,26.666667%,26.666667%);stroke-opacity:1;stroke-miterlimit:10;\" d=\"M 455.949219 416.914062 L 427.859375 401.242188 \"/>\n",
       "<path style=\"fill:none;stroke-width:1;stroke-linecap:butt;stroke-linejoin:miter;stroke:rgb(26.666667%,26.666667%,26.666667%);stroke-opacity:1;stroke-miterlimit:10;\" d=\"M 455.949219 416.914062 L 451.460938 343.464844 \"/>\n",
       "<path style=\"fill:none;stroke-width:1;stroke-linecap:butt;stroke-linejoin:miter;stroke:rgb(26.666667%,26.666667%,26.666667%);stroke-opacity:1;stroke-miterlimit:10;\" d=\"M 455.949219 416.914062 L 419.273438 437.496094 \"/>\n",
       "<path style=\"fill:none;stroke-width:1;stroke-linecap:butt;stroke-linejoin:miter;stroke:rgb(26.666667%,26.666667%,26.666667%);stroke-opacity:1;stroke-miterlimit:10;\" d=\"M 455.949219 416.914062 L 498.179688 413.453125 \"/>\n",
       "<path style=\"fill:none;stroke-width:1;stroke-linecap:butt;stroke-linejoin:miter;stroke:rgb(26.666667%,26.666667%,26.666667%);stroke-opacity:1;stroke-miterlimit:10;\" d=\"M 455.949219 416.914062 L 390.105469 417.453125 \"/>\n",
       "<path style=\"fill:none;stroke-width:1;stroke-linecap:butt;stroke-linejoin:miter;stroke:rgb(26.666667%,26.666667%,26.666667%);stroke-opacity:1;stroke-miterlimit:10;\" d=\"M 455.949219 416.914062 L 492.242188 474.0625 \"/>\n",
       "<path style=\"fill:none;stroke-width:1;stroke-linecap:butt;stroke-linejoin:miter;stroke:rgb(26.666667%,26.666667%,26.666667%);stroke-opacity:1;stroke-miterlimit:10;\" d=\"M 455.949219 416.914062 L 505.128906 377.726562 \"/>\n",
       "<path style=\"fill:none;stroke-width:1;stroke-linecap:butt;stroke-linejoin:miter;stroke:rgb(26.666667%,26.666667%,26.666667%);stroke-opacity:1;stroke-miterlimit:10;\" d=\"M 455.949219 416.914062 L 518.675781 388.394531 \"/>\n",
       "<path style=\"fill:none;stroke-width:1;stroke-linecap:butt;stroke-linejoin:miter;stroke:rgb(26.666667%,26.666667%,26.666667%);stroke-opacity:1;stroke-miterlimit:10;\" d=\"M 455.949219 416.914062 L 429.925781 449.210938 \"/>\n",
       "<path style=\"fill:none;stroke-width:1;stroke-linecap:butt;stroke-linejoin:miter;stroke:rgb(26.666667%,26.666667%,26.666667%);stroke-opacity:1;stroke-miterlimit:10;\" d=\"M 455.949219 416.914062 L 482.289062 496.003906 \"/>\n",
       "<path style=\"fill:none;stroke-width:1;stroke-linecap:butt;stroke-linejoin:miter;stroke:rgb(26.666667%,26.666667%,26.666667%);stroke-opacity:1;stroke-miterlimit:10;\" d=\"M 455.949219 416.914062 L 446.953125 401.613281 \"/>\n",
       "<path style=\"fill:none;stroke-width:1;stroke-linecap:butt;stroke-linejoin:miter;stroke:rgb(26.666667%,26.666667%,26.666667%);stroke-opacity:1;stroke-miterlimit:10;\" d=\"M 455.949219 416.914062 L 486.730469 413.863281 \"/>\n",
       "<path style=\"fill:none;stroke-width:1;stroke-linecap:butt;stroke-linejoin:miter;stroke:rgb(26.666667%,26.666667%,26.666667%);stroke-opacity:1;stroke-miterlimit:10;\" d=\"M 455.949219 416.914062 L 419.335938 455.332031 \"/>\n",
       "<path style=\"fill:none;stroke-width:1;stroke-linecap:butt;stroke-linejoin:miter;stroke:rgb(26.666667%,26.666667%,26.666667%);stroke-opacity:1;stroke-miterlimit:10;\" d=\"M 455.949219 416.914062 L 398.46875 436.332031 \"/>\n",
       "<path style=\"fill:none;stroke-width:1;stroke-linecap:butt;stroke-linejoin:miter;stroke:rgb(26.666667%,26.666667%,26.666667%);stroke-opacity:1;stroke-miterlimit:10;\" d=\"M 455.949219 416.914062 L 385.34375 431.664062 \"/>\n",
       "<path style=\"fill:none;stroke-width:1;stroke-linecap:butt;stroke-linejoin:miter;stroke:rgb(26.666667%,26.666667%,26.666667%);stroke-opacity:1;stroke-miterlimit:10;\" d=\"M 455.949219 416.914062 L 490.1875 513.960938 \"/>\n",
       "<path style=\"fill:none;stroke-width:1;stroke-linecap:butt;stroke-linejoin:miter;stroke:rgb(26.666667%,26.666667%,26.666667%);stroke-opacity:1;stroke-miterlimit:10;\" d=\"M 455.949219 416.914062 L 481.1875 397.644531 \"/>\n",
       "<path style=\"fill:none;stroke-width:1;stroke-linecap:butt;stroke-linejoin:miter;stroke:rgb(26.666667%,26.666667%,26.666667%);stroke-opacity:1;stroke-miterlimit:10;\" d=\"M 455.949219 416.914062 L 436.652344 386.382812 \"/>\n",
       "<path style=\"fill:none;stroke-width:1;stroke-linecap:butt;stroke-linejoin:miter;stroke:rgb(26.666667%,26.666667%,26.666667%);stroke-opacity:1;stroke-miterlimit:10;\" d=\"M 455.949219 416.914062 L 527.355469 432.828125 \"/>\n",
       "<path style=\"fill:none;stroke-width:1;stroke-linecap:butt;stroke-linejoin:miter;stroke:rgb(26.666667%,26.666667%,26.666667%);stroke-opacity:1;stroke-miterlimit:10;\" d=\"M 455.949219 416.914062 L 501.453125 402.464844 \"/>\n",
       "<path style=\"fill:none;stroke-width:1;stroke-linecap:butt;stroke-linejoin:miter;stroke:rgb(26.666667%,26.666667%,26.666667%);stroke-opacity:1;stroke-miterlimit:10;\" d=\"M 455.949219 416.914062 L 536.988281 463.160156 \"/>\n",
       "<path style=\"fill:none;stroke-width:1;stroke-linecap:butt;stroke-linejoin:miter;stroke:rgb(26.666667%,26.666667%,26.666667%);stroke-opacity:1;stroke-miterlimit:10;\" d=\"M 455.949219 416.914062 L 512.019531 358.507812 \"/>\n",
       "<path style=\"fill:none;stroke-width:1;stroke-linecap:butt;stroke-linejoin:miter;stroke:rgb(26.666667%,26.666667%,26.666667%);stroke-opacity:1;stroke-miterlimit:10;\" d=\"M 455.949219 416.914062 L 507.46875 502.957031 \"/>\n",
       "<path style=\"fill:none;stroke-width:1;stroke-linecap:butt;stroke-linejoin:miter;stroke:rgb(26.666667%,26.666667%,26.666667%);stroke-opacity:1;stroke-miterlimit:10;\" d=\"M 455.949219 416.914062 L 476.882812 479.230469 \"/>\n",
       "<path style=\"fill:none;stroke-width:1;stroke-linecap:butt;stroke-linejoin:miter;stroke:rgb(26.666667%,26.666667%,26.666667%);stroke-opacity:1;stroke-miterlimit:10;\" d=\"M 455.949219 416.914062 L 390.761719 447.152344 \"/>\n",
       "<path style=\"fill:none;stroke-width:1;stroke-linecap:butt;stroke-linejoin:miter;stroke:rgb(26.666667%,26.666667%,26.666667%);stroke-opacity:1;stroke-miterlimit:10;\" d=\"M 455.949219 416.914062 L 383.425781 355.671875 \"/>\n",
       "<path style=\"fill:none;stroke-width:1;stroke-linecap:butt;stroke-linejoin:miter;stroke:rgb(26.666667%,26.666667%,26.666667%);stroke-opacity:1;stroke-miterlimit:10;\" d=\"M 455.949219 416.914062 L 461.710938 487.878906 \"/>\n",
       "<path style=\"fill:none;stroke-width:1;stroke-linecap:butt;stroke-linejoin:miter;stroke:rgb(26.666667%,26.666667%,26.666667%);stroke-opacity:1;stroke-miterlimit:10;\" d=\"M 455.949219 416.914062 L 468.652344 425.839844 \"/>\n",
       "<path style=\"fill:none;stroke-width:1;stroke-linecap:butt;stroke-linejoin:miter;stroke:rgb(26.666667%,26.666667%,26.666667%);stroke-opacity:1;stroke-miterlimit:10;\" d=\"M 455.949219 416.914062 L 446.15625 492.660156 \"/>\n",
       "<path style=\"fill:none;stroke-width:1;stroke-linecap:butt;stroke-linejoin:miter;stroke:rgb(26.666667%,26.666667%,26.666667%);stroke-opacity:1;stroke-miterlimit:10;\" d=\"M 455.949219 416.914062 L 446.765625 388.445312 \"/>\n",
       "<path style=\"fill:none;stroke-width:1;stroke-linecap:butt;stroke-linejoin:miter;stroke:rgb(26.666667%,26.666667%,26.666667%);stroke-opacity:1;stroke-miterlimit:10;\" d=\"M 455.949219 416.914062 L 502.722656 462.378906 \"/>\n",
       "<path style=\"fill:none;stroke-width:1;stroke-linecap:butt;stroke-linejoin:miter;stroke:rgb(26.666667%,26.666667%,26.666667%);stroke-opacity:1;stroke-miterlimit:10;\" d=\"M 455.949219 416.914062 L 519.195312 372.351562 \"/>\n",
       "<path style=\"fill:none;stroke-width:1;stroke-linecap:butt;stroke-linejoin:miter;stroke:rgb(26.666667%,26.666667%,26.666667%);stroke-opacity:1;stroke-miterlimit:10;\" d=\"M 329.601562 267.851562 L 258.5 121.488281 \"/>\n",
       "<path style=\"fill:none;stroke-width:1;stroke-linecap:butt;stroke-linejoin:miter;stroke:rgb(26.666667%,26.666667%,26.666667%);stroke-opacity:1;stroke-miterlimit:10;\" d=\"M 329.601562 267.851562 L 294.148438 243.820312 \"/>\n",
       "<path style=\"fill:none;stroke-width:1;stroke-linecap:butt;stroke-linejoin:miter;stroke:rgb(26.666667%,26.666667%,26.666667%);stroke-opacity:1;stroke-miterlimit:10;\" d=\"M 329.601562 267.851562 L 203.375 214.605469 \"/>\n",
       "<path style=\"fill:none;stroke-width:1;stroke-linecap:butt;stroke-linejoin:miter;stroke:rgb(26.666667%,26.666667%,26.666667%);stroke-opacity:1;stroke-miterlimit:10;\" d=\"M 329.601562 267.851562 L 309.429688 233.507812 \"/>\n",
       "<path style=\"fill:none;stroke-width:1;stroke-linecap:butt;stroke-linejoin:miter;stroke:rgb(26.666667%,26.666667%,26.666667%);stroke-opacity:1;stroke-miterlimit:10;\" d=\"M 329.601562 267.851562 L 409.332031 380.828125 \"/>\n",
       "<path style=\"fill:none;stroke-width:1;stroke-linecap:butt;stroke-linejoin:miter;stroke:rgb(26.666667%,26.666667%,26.666667%);stroke-opacity:1;stroke-miterlimit:10;\" d=\"M 329.601562 267.851562 L 297.382812 155.558594 \"/>\n",
       "<path style=\"fill:none;stroke-width:1;stroke-linecap:butt;stroke-linejoin:miter;stroke:rgb(26.666667%,26.666667%,26.666667%);stroke-opacity:1;stroke-miterlimit:10;\" d=\"M 258.5 121.488281 L 150.394531 203.308594 \"/>\n",
       "<path style=\"fill:none;stroke-width:1;stroke-linecap:butt;stroke-linejoin:miter;stroke:rgb(26.666667%,26.666667%,26.666667%);stroke-opacity:1;stroke-miterlimit:10;\" d=\"M 258.5 121.488281 L 381.207031 274.332031 \"/>\n",
       "<path style=\"fill:none;stroke-width:1;stroke-linecap:butt;stroke-linejoin:miter;stroke:rgb(26.666667%,26.666667%,26.666667%);stroke-opacity:1;stroke-miterlimit:10;\" d=\"M 258.5 121.488281 L 294.976562 175.433594 \"/>\n",
       "<path style=\"fill:none;stroke-width:1;stroke-linecap:butt;stroke-linejoin:miter;stroke:rgb(26.666667%,26.666667%,26.666667%);stroke-opacity:1;stroke-miterlimit:10;\" d=\"M 258.5 121.488281 L 308.359375 111.230469 \"/>\n",
       "<path style=\"fill:none;stroke-width:1;stroke-linecap:butt;stroke-linejoin:miter;stroke:rgb(26.666667%,26.666667%,26.666667%);stroke-opacity:1;stroke-miterlimit:10;\" d=\"M 258.5 121.488281 L 247.109375 191.390625 \"/>\n",
       "<path style=\"fill:none;stroke-width:1;stroke-linecap:butt;stroke-linejoin:miter;stroke:rgb(26.666667%,26.666667%,26.666667%);stroke-opacity:1;stroke-miterlimit:10;\" d=\"M 258.5 121.488281 L 247.441406 137.878906 \"/>\n",
       "<path style=\"fill:none;stroke-width:1;stroke-linecap:butt;stroke-linejoin:miter;stroke:rgb(26.666667%,26.666667%,26.666667%);stroke-opacity:1;stroke-miterlimit:10;\" d=\"M 258.5 121.488281 L 182.054688 94.296875 \"/>\n",
       "<path style=\"fill:none;stroke-width:1;stroke-linecap:butt;stroke-linejoin:miter;stroke:rgb(26.666667%,26.666667%,26.666667%);stroke-opacity:1;stroke-miterlimit:10;\" d=\"M 258.5 121.488281 L 300.867188 95.335938 \"/>\n",
       "<path style=\"fill:none;stroke-width:1;stroke-linecap:butt;stroke-linejoin:miter;stroke:rgb(26.666667%,26.666667%,26.666667%);stroke-opacity:1;stroke-miterlimit:10;\" d=\"M 258.5 121.488281 L 242.46875 197.179688 \"/>\n",
       "<path style=\"fill:none;stroke-width:1;stroke-linecap:butt;stroke-linejoin:miter;stroke:rgb(26.666667%,26.666667%,26.666667%);stroke-opacity:1;stroke-miterlimit:10;\" d=\"M 258.5 121.488281 L 186.035156 109.261719 \"/>\n",
       "<path style=\"fill:none;stroke-width:1;stroke-linecap:butt;stroke-linejoin:miter;stroke:rgb(26.666667%,26.666667%,26.666667%);stroke-opacity:1;stroke-miterlimit:10;\" d=\"M 258.5 121.488281 L 209.269531 80.234375 \"/>\n",
       "<path style=\"fill:none;stroke-width:1;stroke-linecap:butt;stroke-linejoin:miter;stroke:rgb(26.666667%,26.666667%,26.666667%);stroke-opacity:1;stroke-miterlimit:10;\" d=\"M 258.5 121.488281 L 241.824219 101.246094 \"/>\n",
       "<path style=\"fill:none;stroke-width:1;stroke-linecap:butt;stroke-linejoin:miter;stroke:rgb(26.666667%,26.666667%,26.666667%);stroke-opacity:1;stroke-miterlimit:10;\" d=\"M 258.5 121.488281 L 234.144531 128.988281 \"/>\n",
       "<path style=\"fill:none;stroke-width:1;stroke-linecap:butt;stroke-linejoin:miter;stroke:rgb(26.666667%,26.666667%,26.666667%);stroke-opacity:1;stroke-miterlimit:10;\" d=\"M 258.5 121.488281 L 270.28125 110.5625 \"/>\n",
       "<path style=\"fill:none;stroke-width:1;stroke-linecap:butt;stroke-linejoin:miter;stroke:rgb(26.666667%,26.666667%,26.666667%);stroke-opacity:1;stroke-miterlimit:10;\" d=\"M 258.5 121.488281 L 233.019531 29.640625 \"/>\n",
       "<path style=\"fill:none;stroke-width:1;stroke-linecap:butt;stroke-linejoin:miter;stroke:rgb(26.666667%,26.666667%,26.666667%);stroke-opacity:1;stroke-miterlimit:10;\" d=\"M 258.5 121.488281 L 234.789062 145.742188 \"/>\n",
       "<path style=\"fill:none;stroke-width:1;stroke-linecap:butt;stroke-linejoin:miter;stroke:rgb(26.666667%,26.666667%,26.666667%);stroke-opacity:1;stroke-miterlimit:10;\" d=\"M 258.5 121.488281 L 262.992188 167.546875 \"/>\n",
       "<path style=\"fill:none;stroke-width:1;stroke-linecap:butt;stroke-linejoin:miter;stroke:rgb(26.666667%,26.666667%,26.666667%);stroke-opacity:1;stroke-miterlimit:10;\" d=\"M 258.5 121.488281 L 239.074219 115.542969 \"/>\n",
       "<path style=\"fill:none;stroke-width:1;stroke-linecap:butt;stroke-linejoin:miter;stroke:rgb(26.666667%,26.666667%,26.666667%);stroke-opacity:1;stroke-miterlimit:10;\" d=\"M 258.5 121.488281 L 195.742188 69.597656 \"/>\n",
       "<path style=\"fill:none;stroke-width:1;stroke-linecap:butt;stroke-linejoin:miter;stroke:rgb(26.666667%,26.666667%,26.666667%);stroke-opacity:1;stroke-miterlimit:10;\" d=\"M 258.5 121.488281 L 254.214844 105.289062 \"/>\n",
       "<path style=\"fill:none;stroke-width:1;stroke-linecap:butt;stroke-linejoin:miter;stroke:rgb(26.666667%,26.666667%,26.666667%);stroke-opacity:1;stroke-miterlimit:10;\" d=\"M 258.5 121.488281 L 294.792969 33.9375 \"/>\n",
       "<path style=\"fill:none;stroke-width:1;stroke-linecap:butt;stroke-linejoin:miter;stroke:rgb(26.666667%,26.666667%,26.666667%);stroke-opacity:1;stroke-miterlimit:10;\" d=\"M 258.5 121.488281 L 208.371094 63.835938 \"/>\n",
       "<path style=\"fill:none;stroke-width:1;stroke-linecap:butt;stroke-linejoin:miter;stroke:rgb(26.666667%,26.666667%,26.666667%);stroke-opacity:1;stroke-miterlimit:10;\" d=\"M 258.5 121.488281 L 322.179688 109.15625 \"/>\n",
       "<path style=\"fill:none;stroke-width:1;stroke-linecap:butt;stroke-linejoin:miter;stroke:rgb(26.666667%,26.666667%,26.666667%);stroke-opacity:1;stroke-miterlimit:10;\" d=\"M 258.5 121.488281 L 292.949219 80.453125 \"/>\n",
       "<path style=\"fill:none;stroke-width:1;stroke-linecap:butt;stroke-linejoin:miter;stroke:rgb(26.666667%,26.666667%,26.666667%);stroke-opacity:1;stroke-miterlimit:10;\" d=\"M 258.5 121.488281 L 198.34375 92.53125 \"/>\n",
       "<path style=\"fill:none;stroke-width:1;stroke-linecap:butt;stroke-linejoin:miter;stroke:rgb(26.666667%,26.666667%,26.666667%);stroke-opacity:1;stroke-miterlimit:10;\" d=\"M 258.5 121.488281 L 265.125 96.019531 \"/>\n",
       "<path style=\"fill:none;stroke-width:1;stroke-linecap:butt;stroke-linejoin:miter;stroke:rgb(26.666667%,26.666667%,26.666667%);stroke-opacity:1;stroke-miterlimit:10;\" d=\"M 258.5 121.488281 L 260.511719 201.714844 \"/>\n",
       "<path style=\"fill:none;stroke-width:1;stroke-linecap:butt;stroke-linejoin:miter;stroke:rgb(26.666667%,26.666667%,26.666667%);stroke-opacity:1;stroke-miterlimit:10;\" d=\"M 258.5 121.488281 L 245.808594 20 \"/>\n",
       "<path style=\"fill:none;stroke-width:1;stroke-linecap:butt;stroke-linejoin:miter;stroke:rgb(26.666667%,26.666667%,26.666667%);stroke-opacity:1;stroke-miterlimit:10;\" d=\"M 258.5 121.488281 L 256.183594 34.398438 \"/>\n",
       "<path style=\"fill:none;stroke-width:1;stroke-linecap:butt;stroke-linejoin:miter;stroke:rgb(26.666667%,26.666667%,26.666667%);stroke-opacity:1;stroke-miterlimit:10;\" d=\"M 258.5 121.488281 L 273.804688 199.90625 \"/>\n",
       "<path style=\"fill:none;stroke-width:1;stroke-linecap:butt;stroke-linejoin:miter;stroke:rgb(26.666667%,26.666667%,26.666667%);stroke-opacity:1;stroke-miterlimit:10;\" d=\"M 258.5 121.488281 L 216.78125 30.785156 \"/>\n",
       "<path style=\"fill:none;stroke-width:1;stroke-linecap:butt;stroke-linejoin:miter;stroke:rgb(26.666667%,26.666667%,26.666667%);stroke-opacity:1;stroke-miterlimit:10;\" d=\"M 258.5 121.488281 L 222.257812 67.820312 \"/>\n",
       "<path style=\"fill:none;stroke-width:1;stroke-linecap:butt;stroke-linejoin:miter;stroke:rgb(26.666667%,26.666667%,26.666667%);stroke-opacity:1;stroke-miterlimit:10;\" d=\"M 258.5 121.488281 L 266.457031 20.304688 \"/>\n",
       "<path style=\"fill:none;stroke-width:1;stroke-linecap:butt;stroke-linejoin:miter;stroke:rgb(26.666667%,26.666667%,26.666667%);stroke-opacity:1;stroke-miterlimit:10;\" d=\"M 258.5 121.488281 L 263.21875 133.171875 \"/>\n",
       "<path style=\"fill:none;stroke-width:1;stroke-linecap:butt;stroke-linejoin:miter;stroke:rgb(26.666667%,26.666667%,26.666667%);stroke-opacity:1;stroke-miterlimit:10;\" d=\"M 258.5 121.488281 L 279.128906 30.464844 \"/>\n",
       "<path style=\"fill:none;stroke-width:1;stroke-linecap:butt;stroke-linejoin:miter;stroke:rgb(26.666667%,26.666667%,26.666667%);stroke-opacity:1;stroke-miterlimit:10;\" d=\"M 258.5 121.488281 L 308.234375 80.75 \"/>\n",
       "<path style=\"fill:none;stroke-width:1;stroke-linecap:butt;stroke-linejoin:miter;stroke:rgb(26.666667%,26.666667%,26.666667%);stroke-opacity:1;stroke-miterlimit:10;\" d=\"M 258.5 121.488281 L 186.921875 79.945312 \"/>\n",
       "<path style=\"fill:none;stroke-width:1;stroke-linecap:butt;stroke-linejoin:miter;stroke:rgb(26.666667%,26.666667%,26.666667%);stroke-opacity:1;stroke-miterlimit:10;\" d=\"M 258.5 121.488281 L 254.449219 185.789062 \"/>\n",
       "<path style=\"fill:none;stroke-width:1;stroke-linecap:butt;stroke-linejoin:miter;stroke:rgb(26.666667%,26.666667%,26.666667%);stroke-opacity:1;stroke-miterlimit:10;\" d=\"M 258.5 121.488281 L 318.0625 92.523438 \"/>\n",
       "<path style=\"fill:none;stroke-width:1;stroke-linecap:butt;stroke-linejoin:miter;stroke:rgb(26.666667%,26.666667%,26.666667%);stroke-opacity:1;stroke-miterlimit:10;\" d=\"M 150.394531 203.308594 L 105.910156 149.621094 \"/>\n",
       "<path style=\"fill:none;stroke-width:1;stroke-linecap:butt;stroke-linejoin:miter;stroke:rgb(26.666667%,26.666667%,26.666667%);stroke-opacity:1;stroke-miterlimit:10;\" d=\"M 150.394531 203.308594 L 81.839844 253.027344 \"/>\n",
       "<path style=\"fill:none;stroke-width:1;stroke-linecap:butt;stroke-linejoin:miter;stroke:rgb(26.666667%,26.666667%,26.666667%);stroke-opacity:1;stroke-miterlimit:10;\" d=\"M 150.394531 203.308594 L 95.113281 159.398438 \"/>\n",
       "<path style=\"fill:none;stroke-width:1;stroke-linecap:butt;stroke-linejoin:miter;stroke:rgb(26.666667%,26.666667%,26.666667%);stroke-opacity:1;stroke-miterlimit:10;\" d=\"M 150.394531 203.308594 L 294.148438 243.820312 \"/>\n",
       "<path style=\"fill:none;stroke-width:1;stroke-linecap:butt;stroke-linejoin:miter;stroke:rgb(26.666667%,26.666667%,26.666667%);stroke-opacity:1;stroke-miterlimit:10;\" d=\"M 150.394531 203.308594 L 203.375 214.605469 \"/>\n",
       "<path style=\"fill:none;stroke-width:1;stroke-linecap:butt;stroke-linejoin:miter;stroke:rgb(26.666667%,26.666667%,26.666667%);stroke-opacity:1;stroke-miterlimit:10;\" d=\"M 150.394531 203.308594 L 106.746094 189.117188 \"/>\n",
       "<path style=\"fill:none;stroke-width:1;stroke-linecap:butt;stroke-linejoin:miter;stroke:rgb(26.666667%,26.666667%,26.666667%);stroke-opacity:1;stroke-miterlimit:10;\" d=\"M 150.394531 203.308594 L 287.113281 259.707031 \"/>\n",
       "<path style=\"fill:none;stroke-width:1;stroke-linecap:butt;stroke-linejoin:miter;stroke:rgb(26.666667%,26.666667%,26.666667%);stroke-opacity:1;stroke-miterlimit:10;\" d=\"M 150.394531 203.308594 L 222.148438 225.476562 \"/>\n",
       "<path style=\"fill:none;stroke-width:1;stroke-linecap:butt;stroke-linejoin:miter;stroke:rgb(26.666667%,26.666667%,26.666667%);stroke-opacity:1;stroke-miterlimit:10;\" d=\"M 150.394531 203.308594 L 69.324219 239.929688 \"/>\n",
       "<path style=\"fill:none;stroke-width:1;stroke-linecap:butt;stroke-linejoin:miter;stroke:rgb(26.666667%,26.666667%,26.666667%);stroke-opacity:1;stroke-miterlimit:10;\" d=\"M 150.394531 203.308594 L 93.285156 185.03125 \"/>\n",
       "<path style=\"fill:none;stroke-width:1;stroke-linecap:butt;stroke-linejoin:miter;stroke:rgb(26.666667%,26.666667%,26.666667%);stroke-opacity:1;stroke-miterlimit:10;\" d=\"M 150.394531 203.308594 L 209.40625 130.5 \"/>\n",
       "<path style=\"fill:none;stroke-width:1;stroke-linecap:butt;stroke-linejoin:miter;stroke:rgb(26.666667%,26.666667%,26.666667%);stroke-opacity:1;stroke-miterlimit:10;\" d=\"M 150.394531 203.308594 L 57.796875 191.921875 \"/>\n",
       "<path style=\"fill:none;stroke-width:1;stroke-linecap:butt;stroke-linejoin:miter;stroke:rgb(26.666667%,26.666667%,26.666667%);stroke-opacity:1;stroke-miterlimit:10;\" d=\"M 150.394531 203.308594 L 74.492188 211.769531 \"/>\n",
       "<path style=\"fill:none;stroke-width:1;stroke-linecap:butt;stroke-linejoin:miter;stroke:rgb(26.666667%,26.666667%,26.666667%);stroke-opacity:1;stroke-miterlimit:10;\" d=\"M 150.394531 203.308594 L 95.984375 262.394531 \"/>\n",
       "<path style=\"fill:none;stroke-width:1;stroke-linecap:butt;stroke-linejoin:miter;stroke:rgb(26.666667%,26.666667%,26.666667%);stroke-opacity:1;stroke-miterlimit:10;\" d=\"M 150.394531 203.308594 L 74.328125 197.410156 \"/>\n",
       "<path style=\"fill:none;stroke-width:1;stroke-linecap:butt;stroke-linejoin:miter;stroke:rgb(26.666667%,26.666667%,26.666667%);stroke-opacity:1;stroke-miterlimit:10;\" d=\"M 150.394531 203.308594 L 72.3125 178.917969 \"/>\n",
       "<path style=\"fill:none;stroke-width:1;stroke-linecap:butt;stroke-linejoin:miter;stroke:rgb(26.666667%,26.666667%,26.666667%);stroke-opacity:1;stroke-miterlimit:10;\" d=\"M 150.394531 203.308594 L 104.347656 204.359375 \"/>\n",
       "<path style=\"fill:none;stroke-width:1;stroke-linecap:butt;stroke-linejoin:miter;stroke:rgb(26.666667%,26.666667%,26.666667%);stroke-opacity:1;stroke-miterlimit:10;\" d=\"M 150.394531 203.308594 L 75.449219 160.945312 \"/>\n",
       "<path style=\"fill:none;stroke-width:1;stroke-linecap:butt;stroke-linejoin:miter;stroke:rgb(26.666667%,26.666667%,26.666667%);stroke-opacity:1;stroke-miterlimit:10;\" d=\"M 150.394531 203.308594 L 199.589844 226.320312 \"/>\n",
       "<path style=\"fill:none;stroke-width:1;stroke-linecap:butt;stroke-linejoin:miter;stroke:rgb(26.666667%,26.666667%,26.666667%);stroke-opacity:1;stroke-miterlimit:10;\" d=\"M 150.394531 203.308594 L 87.921875 218.765625 \"/>\n",
       "<path style=\"fill:none;stroke-width:1;stroke-linecap:butt;stroke-linejoin:miter;stroke:rgb(26.666667%,26.666667%,26.666667%);stroke-opacity:1;stroke-miterlimit:10;\" d=\"M 465.882812 363.578125 L 491.152344 392.296875 \"/>\n",
       "<path style=\"fill:none;stroke-width:1;stroke-linecap:butt;stroke-linejoin:miter;stroke:rgb(26.666667%,26.666667%,26.666667%);stroke-opacity:1;stroke-miterlimit:10;\" d=\"M 465.882812 363.578125 L 475.859375 274.824219 \"/>\n",
       "<path style=\"fill:none;stroke-width:1;stroke-linecap:butt;stroke-linejoin:miter;stroke:rgb(26.666667%,26.666667%,26.666667%);stroke-opacity:1;stroke-miterlimit:10;\" d=\"M 465.882812 363.578125 L 460.152344 344.363281 \"/>\n",
       "<path style=\"fill:none;stroke-width:1;stroke-linecap:butt;stroke-linejoin:miter;stroke:rgb(26.666667%,26.666667%,26.666667%);stroke-opacity:1;stroke-miterlimit:10;\" d=\"M 465.882812 363.578125 L 409.332031 380.828125 \"/>\n",
       "<path style=\"fill:none;stroke-width:1;stroke-linecap:butt;stroke-linejoin:miter;stroke:rgb(26.666667%,26.666667%,26.666667%);stroke-opacity:1;stroke-miterlimit:10;\" d=\"M 465.882812 363.578125 L 457.164062 433.621094 \"/>\n",
       "<path style=\"fill:none;stroke-width:1;stroke-linecap:butt;stroke-linejoin:miter;stroke:rgb(26.666667%,26.666667%,26.666667%);stroke-opacity:1;stroke-miterlimit:10;\" d=\"M 499.082031 359.492188 L 460.152344 344.363281 \"/>\n",
       "<path style=\"fill:none;stroke-width:1;stroke-linecap:butt;stroke-linejoin:miter;stroke:rgb(26.666667%,26.666667%,26.666667%);stroke-opacity:1;stroke-miterlimit:10;\" d=\"M 452.757812 454.925781 L 449.285156 529.609375 \"/>\n",
       "<path style=\"fill:none;stroke-width:1;stroke-linecap:butt;stroke-linejoin:miter;stroke:rgb(26.666667%,26.666667%,26.666667%);stroke-opacity:1;stroke-miterlimit:10;\" d=\"M 452.757812 454.925781 L 491.152344 392.296875 \"/>\n",
       "<path style=\"fill:none;stroke-width:1;stroke-linecap:butt;stroke-linejoin:miter;stroke:rgb(26.666667%,26.666667%,26.666667%);stroke-opacity:1;stroke-miterlimit:10;\" d=\"M 452.757812 454.925781 L 409.332031 380.828125 \"/>\n",
       "<path style=\"fill:none;stroke-width:1;stroke-linecap:butt;stroke-linejoin:miter;stroke:rgb(26.666667%,26.666667%,26.666667%);stroke-opacity:1;stroke-miterlimit:10;\" d=\"M 381.207031 274.332031 L 491.152344 392.296875 \"/>\n",
       "<path style=\"fill:none;stroke-width:1;stroke-linecap:butt;stroke-linejoin:miter;stroke:rgb(26.666667%,26.666667%,26.666667%);stroke-opacity:1;stroke-miterlimit:10;\" d=\"M 381.207031 274.332031 L 418.15625 306.851562 \"/>\n",
       "<path style=\"fill:none;stroke-width:1;stroke-linecap:butt;stroke-linejoin:miter;stroke:rgb(26.666667%,26.666667%,26.666667%);stroke-opacity:1;stroke-miterlimit:10;\" d=\"M 381.207031 274.332031 L 475.859375 274.824219 \"/>\n",
       "<path style=\"fill:none;stroke-width:1;stroke-linecap:butt;stroke-linejoin:miter;stroke:rgb(26.666667%,26.666667%,26.666667%);stroke-opacity:1;stroke-miterlimit:10;\" d=\"M 381.207031 274.332031 L 395.890625 234.917969 \"/>\n",
       "<path style=\"fill:none;stroke-width:1;stroke-linecap:butt;stroke-linejoin:miter;stroke:rgb(26.666667%,26.666667%,26.666667%);stroke-opacity:1;stroke-miterlimit:10;\" d=\"M 381.207031 274.332031 L 294.148438 243.820312 \"/>\n",
       "<path style=\"fill:none;stroke-width:1;stroke-linecap:butt;stroke-linejoin:miter;stroke:rgb(26.666667%,26.666667%,26.666667%);stroke-opacity:1;stroke-miterlimit:10;\" d=\"M 381.207031 274.332031 L 287.113281 259.707031 \"/>\n",
       "<path style=\"fill:none;stroke-width:1;stroke-linecap:butt;stroke-linejoin:miter;stroke:rgb(26.666667%,26.666667%,26.666667%);stroke-opacity:1;stroke-miterlimit:10;\" d=\"M 381.207031 274.332031 L 425.257812 252.027344 \"/>\n",
       "<path style=\"fill:none;stroke-width:1;stroke-linecap:butt;stroke-linejoin:miter;stroke:rgb(26.666667%,26.666667%,26.666667%);stroke-opacity:1;stroke-miterlimit:10;\" d=\"M 381.207031 274.332031 L 414.40625 225.1875 \"/>\n",
       "<path style=\"fill:none;stroke-width:1;stroke-linecap:butt;stroke-linejoin:miter;stroke:rgb(26.666667%,26.666667%,26.666667%);stroke-opacity:1;stroke-miterlimit:10;\" d=\"M 381.207031 274.332031 L 460.152344 344.363281 \"/>\n",
       "<path style=\"fill:none;stroke-width:1;stroke-linecap:butt;stroke-linejoin:miter;stroke:rgb(26.666667%,26.666667%,26.666667%);stroke-opacity:1;stroke-miterlimit:10;\" d=\"M 381.207031 274.332031 L 309.429688 233.507812 \"/>\n",
       "<path style=\"fill:none;stroke-width:1;stroke-linecap:butt;stroke-linejoin:miter;stroke:rgb(26.666667%,26.666667%,26.666667%);stroke-opacity:1;stroke-miterlimit:10;\" d=\"M 381.207031 274.332031 L 409.332031 380.828125 \"/>\n",
       "<path style=\"fill:none;stroke-width:1;stroke-linecap:butt;stroke-linejoin:miter;stroke:rgb(26.666667%,26.666667%,26.666667%);stroke-opacity:1;stroke-miterlimit:10;\" d=\"M 381.207031 274.332031 L 297.382812 155.558594 \"/>\n",
       "<path style=\"fill:none;stroke-width:1;stroke-linecap:butt;stroke-linejoin:miter;stroke:rgb(26.666667%,26.666667%,26.666667%);stroke-opacity:1;stroke-miterlimit:10;\" d=\"M 381.207031 274.332031 L 443.582031 228.695312 \"/>\n",
       "<path style=\"fill:none;stroke-width:1;stroke-linecap:butt;stroke-linejoin:miter;stroke:rgb(26.666667%,26.666667%,26.666667%);stroke-opacity:1;stroke-miterlimit:10;\" d=\"M 105.910156 149.621094 L 103.917969 170.976562 \"/>\n",
       "<path style=\"fill:none;stroke-width:1;stroke-linecap:butt;stroke-linejoin:miter;stroke:rgb(26.666667%,26.666667%,26.666667%);stroke-opacity:1;stroke-miterlimit:10;\" d=\"M 105.910156 149.621094 L 137.289062 171.734375 \"/>\n",
       "<path style=\"fill:none;stroke-width:1;stroke-linecap:butt;stroke-linejoin:miter;stroke:rgb(26.666667%,26.666667%,26.666667%);stroke-opacity:1;stroke-miterlimit:10;\" d=\"M 435.742188 480.0625 L 449.285156 529.609375 \"/>\n",
       "<path style=\"fill:none;stroke-width:1;stroke-linecap:butt;stroke-linejoin:miter;stroke:rgb(26.666667%,26.666667%,26.666667%);stroke-opacity:1;stroke-miterlimit:10;\" d=\"M 435.742188 480.0625 L 409.332031 380.828125 \"/>\n",
       "<path style=\"fill:none;stroke-width:1;stroke-linecap:butt;stroke-linejoin:miter;stroke:rgb(26.666667%,26.666667%,26.666667%);stroke-opacity:1;stroke-miterlimit:10;\" d=\"M 435.742188 480.0625 L 460.160156 554.976562 \"/>\n",
       "<path style=\"fill:none;stroke-width:1;stroke-linecap:butt;stroke-linejoin:miter;stroke:rgb(26.666667%,26.666667%,26.666667%);stroke-opacity:1;stroke-miterlimit:10;\" d=\"M 435.742188 480.0625 L 457.164062 433.621094 \"/>\n",
       "<path style=\"fill:none;stroke-width:1;stroke-linecap:butt;stroke-linejoin:miter;stroke:rgb(26.666667%,26.666667%,26.666667%);stroke-opacity:1;stroke-miterlimit:10;\" d=\"M 449.285156 529.609375 L 482.289062 496.003906 \"/>\n",
       "<path style=\"fill:none;stroke-width:1;stroke-linecap:butt;stroke-linejoin:miter;stroke:rgb(26.666667%,26.666667%,26.666667%);stroke-opacity:1;stroke-miterlimit:10;\" d=\"M 444.871094 371.882812 L 491.152344 392.296875 \"/>\n",
       "<path style=\"fill:none;stroke-width:1;stroke-linecap:butt;stroke-linejoin:miter;stroke:rgb(26.666667%,26.666667%,26.666667%);stroke-opacity:1;stroke-miterlimit:10;\" d=\"M 444.871094 371.882812 L 418.15625 306.851562 \"/>\n",
       "<path style=\"fill:none;stroke-width:1;stroke-linecap:butt;stroke-linejoin:miter;stroke:rgb(26.666667%,26.666667%,26.666667%);stroke-opacity:1;stroke-miterlimit:10;\" d=\"M 444.871094 371.882812 L 409.332031 380.828125 \"/>\n",
       "<path style=\"fill:none;stroke-width:1;stroke-linecap:butt;stroke-linejoin:miter;stroke:rgb(26.666667%,26.666667%,26.666667%);stroke-opacity:1;stroke-miterlimit:10;\" d=\"M 444.871094 371.882812 L 457.164062 433.621094 \"/>\n",
       "<path style=\"fill:none;stroke-width:1;stroke-linecap:butt;stroke-linejoin:miter;stroke:rgb(26.666667%,26.666667%,26.666667%);stroke-opacity:1;stroke-miterlimit:10;\" d=\"M 294.976562 175.433594 L 294.148438 243.820312 \"/>\n",
       "<path style=\"fill:none;stroke-width:1;stroke-linecap:butt;stroke-linejoin:miter;stroke:rgb(26.666667%,26.666667%,26.666667%);stroke-opacity:1;stroke-miterlimit:10;\" d=\"M 294.976562 175.433594 L 297.382812 155.558594 \"/>\n",
       "<path style=\"fill:none;stroke-width:1;stroke-linecap:butt;stroke-linejoin:miter;stroke:rgb(26.666667%,26.666667%,26.666667%);stroke-opacity:1;stroke-miterlimit:10;\" d=\"M 460.039062 389.785156 L 460.152344 344.363281 \"/>\n",
       "<path style=\"fill:none;stroke-width:1;stroke-linecap:butt;stroke-linejoin:miter;stroke:rgb(26.666667%,26.666667%,26.666667%);stroke-opacity:1;stroke-miterlimit:10;\" d=\"M 460.039062 389.785156 L 409.332031 380.828125 \"/>\n",
       "<path style=\"fill:none;stroke-width:1;stroke-linecap:butt;stroke-linejoin:miter;stroke:rgb(26.666667%,26.666667%,26.666667%);stroke-opacity:1;stroke-miterlimit:10;\" d=\"M 460.039062 389.785156 L 457.164062 433.621094 \"/>\n",
       "<path style=\"fill:none;stroke-width:1;stroke-linecap:butt;stroke-linejoin:miter;stroke:rgb(26.666667%,26.666667%,26.666667%);stroke-opacity:1;stroke-miterlimit:10;\" d=\"M 472.203125 348.363281 L 491.152344 392.296875 \"/>\n",
       "<path style=\"fill:none;stroke-width:1;stroke-linecap:butt;stroke-linejoin:miter;stroke:rgb(26.666667%,26.666667%,26.666667%);stroke-opacity:1;stroke-miterlimit:10;\" d=\"M 472.203125 348.363281 L 475.859375 274.824219 \"/>\n",
       "<path style=\"fill:none;stroke-width:1;stroke-linecap:butt;stroke-linejoin:miter;stroke:rgb(26.666667%,26.666667%,26.666667%);stroke-opacity:1;stroke-miterlimit:10;\" d=\"M 472.203125 348.363281 L 460.152344 344.363281 \"/>\n",
       "<path style=\"fill:none;stroke-width:1;stroke-linecap:butt;stroke-linejoin:miter;stroke:rgb(26.666667%,26.666667%,26.666667%);stroke-opacity:1;stroke-miterlimit:10;\" d=\"M 472.203125 348.363281 L 409.332031 380.828125 \"/>\n",
       "<path style=\"fill:none;stroke-width:1;stroke-linecap:butt;stroke-linejoin:miter;stroke:rgb(26.666667%,26.666667%,26.666667%);stroke-opacity:1;stroke-miterlimit:10;\" d=\"M 308.359375 111.230469 L 297.382812 155.558594 \"/>\n",
       "<path style=\"fill:none;stroke-width:1;stroke-linecap:butt;stroke-linejoin:miter;stroke:rgb(26.666667%,26.666667%,26.666667%);stroke-opacity:1;stroke-miterlimit:10;\" d=\"M 247.109375 191.390625 L 294.148438 243.820312 \"/>\n",
       "<path style=\"fill:none;stroke-width:1;stroke-linecap:butt;stroke-linejoin:miter;stroke:rgb(26.666667%,26.666667%,26.666667%);stroke-opacity:1;stroke-miterlimit:10;\" d=\"M 247.109375 191.390625 L 203.375 214.605469 \"/>\n",
       "<path style=\"fill:none;stroke-width:1;stroke-linecap:butt;stroke-linejoin:miter;stroke:rgb(26.666667%,26.666667%,26.666667%);stroke-opacity:1;stroke-miterlimit:10;\" d=\"M 247.109375 191.390625 L 222.148438 225.476562 \"/>\n",
       "<path style=\"fill:none;stroke-width:1;stroke-linecap:butt;stroke-linejoin:miter;stroke:rgb(26.666667%,26.666667%,26.666667%);stroke-opacity:1;stroke-miterlimit:10;\" d=\"M 247.109375 191.390625 L 309.429688 233.507812 \"/>\n",
       "<path style=\"fill:none;stroke-width:1;stroke-linecap:butt;stroke-linejoin:miter;stroke:rgb(26.666667%,26.666667%,26.666667%);stroke-opacity:1;stroke-miterlimit:10;\" d=\"M 247.109375 191.390625 L 209.40625 130.5 \"/>\n",
       "<path style=\"fill:none;stroke-width:1;stroke-linecap:butt;stroke-linejoin:miter;stroke:rgb(26.666667%,26.666667%,26.666667%);stroke-opacity:1;stroke-miterlimit:10;\" d=\"M 247.109375 191.390625 L 297.382812 155.558594 \"/>\n",
       "<path style=\"fill:none;stroke-width:1;stroke-linecap:butt;stroke-linejoin:miter;stroke:rgb(26.666667%,26.666667%,26.666667%);stroke-opacity:1;stroke-miterlimit:10;\" d=\"M 247.109375 191.390625 L 199.589844 226.320312 \"/>\n",
       "<path style=\"fill:none;stroke-width:1;stroke-linecap:butt;stroke-linejoin:miter;stroke:rgb(26.666667%,26.666667%,26.666667%);stroke-opacity:1;stroke-miterlimit:10;\" d=\"M 427.859375 401.242188 L 460.152344 344.363281 \"/>\n",
       "<path style=\"fill:none;stroke-width:1;stroke-linecap:butt;stroke-linejoin:miter;stroke:rgb(26.666667%,26.666667%,26.666667%);stroke-opacity:1;stroke-miterlimit:10;\" d=\"M 427.859375 401.242188 L 409.332031 380.828125 \"/>\n",
       "<path style=\"fill:none;stroke-width:1;stroke-linecap:butt;stroke-linejoin:miter;stroke:rgb(26.666667%,26.666667%,26.666667%);stroke-opacity:1;stroke-miterlimit:10;\" d=\"M 427.859375 401.242188 L 409.40625 421.6875 \"/>\n",
       "<path style=\"fill:none;stroke-width:1;stroke-linecap:butt;stroke-linejoin:miter;stroke:rgb(26.666667%,26.666667%,26.666667%);stroke-opacity:1;stroke-miterlimit:10;\" d=\"M 427.859375 401.242188 L 457.164062 433.621094 \"/>\n",
       "<path style=\"fill:none;stroke-width:1;stroke-linecap:butt;stroke-linejoin:miter;stroke:rgb(26.666667%,26.666667%,26.666667%);stroke-opacity:1;stroke-miterlimit:10;\" d=\"M 247.441406 137.878906 L 209.40625 130.5 \"/>\n",
       "<path style=\"fill:none;stroke-width:1;stroke-linecap:butt;stroke-linejoin:miter;stroke:rgb(26.666667%,26.666667%,26.666667%);stroke-opacity:1;stroke-miterlimit:10;\" d=\"M 247.441406 137.878906 L 297.382812 155.558594 \"/>\n",
       "<path style=\"fill:none;stroke-width:1;stroke-linecap:butt;stroke-linejoin:miter;stroke:rgb(26.666667%,26.666667%,26.666667%);stroke-opacity:1;stroke-miterlimit:10;\" d=\"M 451.460938 343.464844 L 491.152344 392.296875 \"/>\n",
       "<path style=\"fill:none;stroke-width:1;stroke-linecap:butt;stroke-linejoin:miter;stroke:rgb(26.666667%,26.666667%,26.666667%);stroke-opacity:1;stroke-miterlimit:10;\" d=\"M 451.460938 343.464844 L 418.15625 306.851562 \"/>\n",
       "<path style=\"fill:none;stroke-width:1;stroke-linecap:butt;stroke-linejoin:miter;stroke:rgb(26.666667%,26.666667%,26.666667%);stroke-opacity:1;stroke-miterlimit:10;\" d=\"M 451.460938 343.464844 L 475.859375 274.824219 \"/>\n",
       "<path style=\"fill:none;stroke-width:1;stroke-linecap:butt;stroke-linejoin:miter;stroke:rgb(26.666667%,26.666667%,26.666667%);stroke-opacity:1;stroke-miterlimit:10;\" d=\"M 451.460938 343.464844 L 460.152344 344.363281 \"/>\n",
       "<path style=\"fill:none;stroke-width:1;stroke-linecap:butt;stroke-linejoin:miter;stroke:rgb(26.666667%,26.666667%,26.666667%);stroke-opacity:1;stroke-miterlimit:10;\" d=\"M 451.460938 343.464844 L 409.332031 380.828125 \"/>\n",
       "<path style=\"fill:none;stroke-width:1;stroke-linecap:butt;stroke-linejoin:miter;stroke:rgb(26.666667%,26.666667%,26.666667%);stroke-opacity:1;stroke-miterlimit:10;\" d=\"M 419.273438 437.496094 L 409.332031 380.828125 \"/>\n",
       "<path style=\"fill:none;stroke-width:1;stroke-linecap:butt;stroke-linejoin:miter;stroke:rgb(26.666667%,26.666667%,26.666667%);stroke-opacity:1;stroke-miterlimit:10;\" d=\"M 419.273438 437.496094 L 409.40625 421.6875 \"/>\n",
       "<path style=\"fill:none;stroke-width:1;stroke-linecap:butt;stroke-linejoin:miter;stroke:rgb(26.666667%,26.666667%,26.666667%);stroke-opacity:1;stroke-miterlimit:10;\" d=\"M 419.273438 437.496094 L 457.164062 433.621094 \"/>\n",
       "<path style=\"fill:none;stroke-width:1;stroke-linecap:butt;stroke-linejoin:miter;stroke:rgb(26.666667%,26.666667%,26.666667%);stroke-opacity:1;stroke-miterlimit:10;\" d=\"M 182.054688 94.296875 L 209.40625 130.5 \"/>\n",
       "<path style=\"fill:none;stroke-width:1;stroke-linecap:butt;stroke-linejoin:miter;stroke:rgb(26.666667%,26.666667%,26.666667%);stroke-opacity:1;stroke-miterlimit:10;\" d=\"M 498.179688 413.453125 L 491.152344 392.296875 \"/>\n",
       "<path style=\"fill:none;stroke-width:1;stroke-linecap:butt;stroke-linejoin:miter;stroke:rgb(26.666667%,26.666667%,26.666667%);stroke-opacity:1;stroke-miterlimit:10;\" d=\"M 498.179688 413.453125 L 460.152344 344.363281 \"/>\n",
       "<path style=\"fill:none;stroke-width:1;stroke-linecap:butt;stroke-linejoin:miter;stroke:rgb(26.666667%,26.666667%,26.666667%);stroke-opacity:1;stroke-miterlimit:10;\" d=\"M 498.179688 413.453125 L 457.164062 433.621094 \"/>\n",
       "<path style=\"fill:none;stroke-width:1;stroke-linecap:butt;stroke-linejoin:miter;stroke:rgb(26.666667%,26.666667%,26.666667%);stroke-opacity:1;stroke-miterlimit:10;\" d=\"M 95.113281 159.398438 L 103.917969 170.976562 \"/>\n",
       "<path style=\"fill:none;stroke-width:1;stroke-linecap:butt;stroke-linejoin:miter;stroke:rgb(26.666667%,26.666667%,26.666667%);stroke-opacity:1;stroke-miterlimit:10;\" d=\"M 95.113281 159.398438 L 137.289062 171.734375 \"/>\n",
       "<path style=\"fill:none;stroke-width:1;stroke-linecap:butt;stroke-linejoin:miter;stroke:rgb(26.666667%,26.666667%,26.666667%);stroke-opacity:1;stroke-miterlimit:10;\" d=\"M 300.867188 95.335938 L 297.382812 155.558594 \"/>\n",
       "<path style=\"fill:none;stroke-width:1;stroke-linecap:butt;stroke-linejoin:miter;stroke:rgb(26.666667%,26.666667%,26.666667%);stroke-opacity:1;stroke-miterlimit:10;\" d=\"M 390.105469 417.453125 L 409.332031 380.828125 \"/>\n",
       "<path style=\"fill:none;stroke-width:1;stroke-linecap:butt;stroke-linejoin:miter;stroke:rgb(26.666667%,26.666667%,26.666667%);stroke-opacity:1;stroke-miterlimit:10;\" d=\"M 390.105469 417.453125 L 409.40625 421.6875 \"/>\n",
       "<path style=\"fill:none;stroke-width:1;stroke-linecap:butt;stroke-linejoin:miter;stroke:rgb(26.666667%,26.666667%,26.666667%);stroke-opacity:1;stroke-miterlimit:10;\" d=\"M 491.152344 392.296875 L 505.128906 377.726562 \"/>\n",
       "<path style=\"fill:none;stroke-width:1;stroke-linecap:butt;stroke-linejoin:miter;stroke:rgb(26.666667%,26.666667%,26.666667%);stroke-opacity:1;stroke-miterlimit:10;\" d=\"M 491.152344 392.296875 L 482.289062 496.003906 \"/>\n",
       "<path style=\"fill:none;stroke-width:1;stroke-linecap:butt;stroke-linejoin:miter;stroke:rgb(26.666667%,26.666667%,26.666667%);stroke-opacity:1;stroke-miterlimit:10;\" d=\"M 491.152344 392.296875 L 446.953125 401.613281 \"/>\n",
       "<path style=\"fill:none;stroke-width:1;stroke-linecap:butt;stroke-linejoin:miter;stroke:rgb(26.666667%,26.666667%,26.666667%);stroke-opacity:1;stroke-miterlimit:10;\" d=\"M 491.152344 392.296875 L 481.1875 397.644531 \"/>\n",
       "<path style=\"fill:none;stroke-width:1;stroke-linecap:butt;stroke-linejoin:miter;stroke:rgb(26.666667%,26.666667%,26.666667%);stroke-opacity:1;stroke-miterlimit:10;\" d=\"M 491.152344 392.296875 L 436.652344 386.382812 \"/>\n",
       "<path style=\"fill:none;stroke-width:1;stroke-linecap:butt;stroke-linejoin:miter;stroke:rgb(26.666667%,26.666667%,26.666667%);stroke-opacity:1;stroke-miterlimit:10;\" d=\"M 491.152344 392.296875 L 527.355469 432.828125 \"/>\n",
       "<path style=\"fill:none;stroke-width:1;stroke-linecap:butt;stroke-linejoin:miter;stroke:rgb(26.666667%,26.666667%,26.666667%);stroke-opacity:1;stroke-miterlimit:10;\" d=\"M 491.152344 392.296875 L 577.957031 417.769531 \"/>\n",
       "<path style=\"fill:none;stroke-width:1;stroke-linecap:butt;stroke-linejoin:miter;stroke:rgb(26.666667%,26.666667%,26.666667%);stroke-opacity:1;stroke-miterlimit:10;\" d=\"M 491.152344 392.296875 L 468.652344 425.839844 \"/>\n",
       "<path style=\"fill:none;stroke-width:1;stroke-linecap:butt;stroke-linejoin:miter;stroke:rgb(26.666667%,26.666667%,26.666667%);stroke-opacity:1;stroke-miterlimit:10;\" d=\"M 491.152344 392.296875 L 446.765625 388.445312 \"/>\n",
       "<path style=\"fill:none;stroke-width:1;stroke-linecap:butt;stroke-linejoin:miter;stroke:rgb(26.666667%,26.666667%,26.666667%);stroke-opacity:1;stroke-miterlimit:10;\" d=\"M 491.152344 392.296875 L 580 400.914062 \"/>\n",
       "<path style=\"fill:none;stroke-width:1;stroke-linecap:butt;stroke-linejoin:miter;stroke:rgb(26.666667%,26.666667%,26.666667%);stroke-opacity:1;stroke-miterlimit:10;\" d=\"M 491.152344 392.296875 L 572.757812 434.832031 \"/>\n",
       "<path style=\"fill:none;stroke-width:1;stroke-linecap:butt;stroke-linejoin:miter;stroke:rgb(26.666667%,26.666667%,26.666667%);stroke-opacity:1;stroke-miterlimit:10;\" d=\"M 491.152344 392.296875 L 442.101562 424.519531 \"/>\n",
       "<path style=\"fill:none;stroke-width:1;stroke-linecap:butt;stroke-linejoin:miter;stroke:rgb(26.666667%,26.666667%,26.666667%);stroke-opacity:1;stroke-miterlimit:10;\" d=\"M 491.152344 392.296875 L 578.4375 382.597656 \"/>\n",
       "<path style=\"fill:none;stroke-width:1;stroke-linecap:butt;stroke-linejoin:miter;stroke:rgb(26.666667%,26.666667%,26.666667%);stroke-opacity:1;stroke-miterlimit:10;\" d=\"M 242.46875 197.179688 L 294.148438 243.820312 \"/>\n",
       "<path style=\"fill:none;stroke-width:1;stroke-linecap:butt;stroke-linejoin:miter;stroke:rgb(26.666667%,26.666667%,26.666667%);stroke-opacity:1;stroke-miterlimit:10;\" d=\"M 242.46875 197.179688 L 203.375 214.605469 \"/>\n",
       "<path style=\"fill:none;stroke-width:1;stroke-linecap:butt;stroke-linejoin:miter;stroke:rgb(26.666667%,26.666667%,26.666667%);stroke-opacity:1;stroke-miterlimit:10;\" d=\"M 242.46875 197.179688 L 222.148438 225.476562 \"/>\n",
       "<path style=\"fill:none;stroke-width:1;stroke-linecap:butt;stroke-linejoin:miter;stroke:rgb(26.666667%,26.666667%,26.666667%);stroke-opacity:1;stroke-miterlimit:10;\" d=\"M 242.46875 197.179688 L 309.429688 233.507812 \"/>\n",
       "<path style=\"fill:none;stroke-width:1;stroke-linecap:butt;stroke-linejoin:miter;stroke:rgb(26.666667%,26.666667%,26.666667%);stroke-opacity:1;stroke-miterlimit:10;\" d=\"M 242.46875 197.179688 L 209.40625 130.5 \"/>\n",
       "<path style=\"fill:none;stroke-width:1;stroke-linecap:butt;stroke-linejoin:miter;stroke:rgb(26.666667%,26.666667%,26.666667%);stroke-opacity:1;stroke-miterlimit:10;\" d=\"M 418.15625 306.851562 L 395.804688 264.339844 \"/>\n",
       "<path style=\"fill:none;stroke-width:1;stroke-linecap:butt;stroke-linejoin:miter;stroke:rgb(26.666667%,26.666667%,26.666667%);stroke-opacity:1;stroke-miterlimit:10;\" d=\"M 418.15625 306.851562 L 387.21875 270.179688 \"/>\n",
       "<path style=\"fill:none;stroke-width:1;stroke-linecap:butt;stroke-linejoin:miter;stroke:rgb(26.666667%,26.666667%,26.666667%);stroke-opacity:1;stroke-miterlimit:10;\" d=\"M 492.242188 474.0625 L 457.164062 433.621094 \"/>\n",
       "<path style=\"fill:none;stroke-width:1;stroke-linecap:butt;stroke-linejoin:miter;stroke:rgb(26.666667%,26.666667%,26.666667%);stroke-opacity:1;stroke-miterlimit:10;\" d=\"M 475.859375 274.824219 L 537.117188 232.828125 \"/>\n",
       "<path style=\"fill:none;stroke-width:1;stroke-linecap:butt;stroke-linejoin:miter;stroke:rgb(26.666667%,26.666667%,26.666667%);stroke-opacity:1;stroke-miterlimit:10;\" d=\"M 475.859375 274.824219 L 395.804688 264.339844 \"/>\n",
       "<path style=\"fill:none;stroke-width:1;stroke-linecap:butt;stroke-linejoin:miter;stroke:rgb(26.666667%,26.666667%,26.666667%);stroke-opacity:1;stroke-miterlimit:10;\" d=\"M 475.859375 274.824219 L 533.21875 214.925781 \"/>\n",
       "<path style=\"fill:none;stroke-width:1;stroke-linecap:butt;stroke-linejoin:miter;stroke:rgb(26.666667%,26.666667%,26.666667%);stroke-opacity:1;stroke-miterlimit:10;\" d=\"M 475.859375 274.824219 L 552.996094 254.09375 \"/>\n",
       "<path style=\"fill:none;stroke-width:1;stroke-linecap:butt;stroke-linejoin:miter;stroke:rgb(26.666667%,26.666667%,26.666667%);stroke-opacity:1;stroke-miterlimit:10;\" d=\"M 475.859375 274.824219 L 552.769531 234.707031 \"/>\n",
       "<path style=\"fill:none;stroke-width:1;stroke-linecap:butt;stroke-linejoin:miter;stroke:rgb(26.666667%,26.666667%,26.666667%);stroke-opacity:1;stroke-miterlimit:10;\" d=\"M 475.859375 274.824219 L 387.21875 270.179688 \"/>\n",
       "<path style=\"fill:none;stroke-width:1;stroke-linecap:butt;stroke-linejoin:miter;stroke:rgb(26.666667%,26.666667%,26.666667%);stroke-opacity:1;stroke-miterlimit:10;\" d=\"M 505.128906 377.726562 L 460.152344 344.363281 \"/>\n",
       "<path style=\"fill:none;stroke-width:1;stroke-linecap:butt;stroke-linejoin:miter;stroke:rgb(26.666667%,26.666667%,26.666667%);stroke-opacity:1;stroke-miterlimit:10;\" d=\"M 518.675781 388.394531 L 460.152344 344.363281 \"/>\n",
       "<path style=\"fill:none;stroke-width:1;stroke-linecap:butt;stroke-linejoin:miter;stroke:rgb(26.666667%,26.666667%,26.666667%);stroke-opacity:1;stroke-miterlimit:10;\" d=\"M 186.035156 109.261719 L 209.40625 130.5 \"/>\n",
       "<path style=\"fill:none;stroke-width:1;stroke-linecap:butt;stroke-linejoin:miter;stroke:rgb(26.666667%,26.666667%,26.666667%);stroke-opacity:1;stroke-miterlimit:10;\" d=\"M 209.269531 80.234375 L 209.40625 130.5 \"/>\n",
       "<path style=\"fill:none;stroke-width:1;stroke-linecap:butt;stroke-linejoin:miter;stroke:rgb(26.666667%,26.666667%,26.666667%);stroke-opacity:1;stroke-miterlimit:10;\" d=\"M 429.925781 449.210938 L 409.332031 380.828125 \"/>\n",
       "<path style=\"fill:none;stroke-width:1;stroke-linecap:butt;stroke-linejoin:miter;stroke:rgb(26.666667%,26.666667%,26.666667%);stroke-opacity:1;stroke-miterlimit:10;\" d=\"M 429.925781 449.210938 L 457.164062 433.621094 \"/>\n",
       "<path style=\"fill:none;stroke-width:1;stroke-linecap:butt;stroke-linejoin:miter;stroke:rgb(26.666667%,26.666667%,26.666667%);stroke-opacity:1;stroke-miterlimit:10;\" d=\"M 241.824219 101.246094 L 209.40625 130.5 \"/>\n",
       "<path style=\"fill:none;stroke-width:1;stroke-linecap:butt;stroke-linejoin:miter;stroke:rgb(26.666667%,26.666667%,26.666667%);stroke-opacity:1;stroke-miterlimit:10;\" d=\"M 241.824219 101.246094 L 297.382812 155.558594 \"/>\n",
       "<path style=\"fill:none;stroke-width:1;stroke-linecap:butt;stroke-linejoin:miter;stroke:rgb(26.666667%,26.666667%,26.666667%);stroke-opacity:1;stroke-miterlimit:10;\" d=\"M 395.890625 234.917969 L 395.804688 264.339844 \"/>\n",
       "<path style=\"fill:none;stroke-width:1;stroke-linecap:butt;stroke-linejoin:miter;stroke:rgb(26.666667%,26.666667%,26.666667%);stroke-opacity:1;stroke-miterlimit:10;\" d=\"M 395.890625 234.917969 L 381.074219 206.058594 \"/>\n",
       "<path style=\"fill:none;stroke-width:1;stroke-linecap:butt;stroke-linejoin:miter;stroke:rgb(26.666667%,26.666667%,26.666667%);stroke-opacity:1;stroke-miterlimit:10;\" d=\"M 395.890625 234.917969 L 387.21875 270.179688 \"/>\n",
       "<path style=\"fill:none;stroke-width:1;stroke-linecap:butt;stroke-linejoin:miter;stroke:rgb(26.666667%,26.666667%,26.666667%);stroke-opacity:1;stroke-miterlimit:10;\" d=\"M 395.890625 234.917969 L 397.496094 256.949219 \"/>\n",
       "<path style=\"fill:none;stroke-width:1;stroke-linecap:butt;stroke-linejoin:miter;stroke:rgb(26.666667%,26.666667%,26.666667%);stroke-opacity:1;stroke-miterlimit:10;\" d=\"M 294.148438 243.820312 L 262.992188 167.546875 \"/>\n",
       "<path style=\"fill:none;stroke-width:1;stroke-linecap:butt;stroke-linejoin:miter;stroke:rgb(26.666667%,26.666667%,26.666667%);stroke-opacity:1;stroke-miterlimit:10;\" d=\"M 294.148438 243.820312 L 395.804688 264.339844 \"/>\n",
       "<path style=\"fill:none;stroke-width:1;stroke-linecap:butt;stroke-linejoin:miter;stroke:rgb(26.666667%,26.666667%,26.666667%);stroke-opacity:1;stroke-miterlimit:10;\" d=\"M 294.148438 243.820312 L 330.945312 217.011719 \"/>\n",
       "<path style=\"fill:none;stroke-width:1;stroke-linecap:butt;stroke-linejoin:miter;stroke:rgb(26.666667%,26.666667%,26.666667%);stroke-opacity:1;stroke-miterlimit:10;\" d=\"M 294.148438 243.820312 L 260.511719 201.714844 \"/>\n",
       "<path style=\"fill:none;stroke-width:1;stroke-linecap:butt;stroke-linejoin:miter;stroke:rgb(26.666667%,26.666667%,26.666667%);stroke-opacity:1;stroke-miterlimit:10;\" d=\"M 294.148438 243.820312 L 331.480469 302.585938 \"/>\n",
       "<path style=\"fill:none;stroke-width:1;stroke-linecap:butt;stroke-linejoin:miter;stroke:rgb(26.666667%,26.666667%,26.666667%);stroke-opacity:1;stroke-miterlimit:10;\" d=\"M 294.148438 243.820312 L 278.203125 282.894531 \"/>\n",
       "<path style=\"fill:none;stroke-width:1;stroke-linecap:butt;stroke-linejoin:miter;stroke:rgb(26.666667%,26.666667%,26.666667%);stroke-opacity:1;stroke-miterlimit:10;\" d=\"M 294.148438 243.820312 L 273.804688 199.90625 \"/>\n",
       "<path style=\"fill:none;stroke-width:1;stroke-linecap:butt;stroke-linejoin:miter;stroke:rgb(26.666667%,26.666667%,26.666667%);stroke-opacity:1;stroke-miterlimit:10;\" d=\"M 294.148438 243.820312 L 383.425781 355.671875 \"/>\n",
       "<path style=\"fill:none;stroke-width:1;stroke-linecap:butt;stroke-linejoin:miter;stroke:rgb(26.666667%,26.666667%,26.666667%);stroke-opacity:1;stroke-miterlimit:10;\" d=\"M 294.148438 243.820312 L 224.460938 261.085938 \"/>\n",
       "<path style=\"fill:none;stroke-width:1;stroke-linecap:butt;stroke-linejoin:miter;stroke:rgb(26.666667%,26.666667%,26.666667%);stroke-opacity:1;stroke-miterlimit:10;\" d=\"M 294.148438 243.820312 L 254.449219 185.789062 \"/>\n",
       "<path style=\"fill:none;stroke-width:1;stroke-linecap:butt;stroke-linejoin:miter;stroke:rgb(26.666667%,26.666667%,26.666667%);stroke-opacity:1;stroke-miterlimit:10;\" d=\"M 294.148438 243.820312 L 260.921875 221.148438 \"/>\n",
       "<path style=\"fill:none;stroke-width:1;stroke-linecap:butt;stroke-linejoin:miter;stroke:rgb(26.666667%,26.666667%,26.666667%);stroke-opacity:1;stroke-miterlimit:10;\" d=\"M 294.148438 243.820312 L 236.160156 277.246094 \"/>\n",
       "<path style=\"fill:none;stroke-width:1;stroke-linecap:butt;stroke-linejoin:miter;stroke:rgb(26.666667%,26.666667%,26.666667%);stroke-opacity:1;stroke-miterlimit:10;\" d=\"M 294.148438 243.820312 L 397.496094 256.949219 \"/>\n",
       "<path style=\"fill:none;stroke-width:1;stroke-linecap:butt;stroke-linejoin:miter;stroke:rgb(26.666667%,26.666667%,26.666667%);stroke-opacity:1;stroke-miterlimit:10;\" d=\"M 234.144531 128.988281 L 209.40625 130.5 \"/>\n",
       "<path style=\"fill:none;stroke-width:1;stroke-linecap:butt;stroke-linejoin:miter;stroke:rgb(26.666667%,26.666667%,26.666667%);stroke-opacity:1;stroke-miterlimit:10;\" d=\"M 234.144531 128.988281 L 297.382812 155.558594 \"/>\n",
       "<path style=\"fill:none;stroke-width:1;stroke-linecap:butt;stroke-linejoin:miter;stroke:rgb(26.666667%,26.666667%,26.666667%);stroke-opacity:1;stroke-miterlimit:10;\" d=\"M 203.375 214.605469 L 148.007812 267.195312 \"/>\n",
       "<path style=\"fill:none;stroke-width:1;stroke-linecap:butt;stroke-linejoin:miter;stroke:rgb(26.666667%,26.666667%,26.666667%);stroke-opacity:1;stroke-miterlimit:10;\" d=\"M 203.375 214.605469 L 103.917969 170.976562 \"/>\n",
       "<path style=\"fill:none;stroke-width:1;stroke-linecap:butt;stroke-linejoin:miter;stroke:rgb(26.666667%,26.666667%,26.666667%);stroke-opacity:1;stroke-miterlimit:10;\" d=\"M 203.375 214.605469 L 137.289062 171.734375 \"/>\n",
       "<path style=\"fill:none;stroke-width:1;stroke-linecap:butt;stroke-linejoin:miter;stroke:rgb(26.666667%,26.666667%,26.666667%);stroke-opacity:1;stroke-miterlimit:10;\" d=\"M 203.375 214.605469 L 254.449219 185.789062 \"/>\n",
       "<path style=\"fill:none;stroke-width:1;stroke-linecap:butt;stroke-linejoin:miter;stroke:rgb(26.666667%,26.666667%,26.666667%);stroke-opacity:1;stroke-miterlimit:10;\" d=\"M 203.375 214.605469 L 260.921875 221.148438 \"/>\n",
       "<path style=\"fill:none;stroke-width:1;stroke-linecap:butt;stroke-linejoin:miter;stroke:rgb(26.666667%,26.666667%,26.666667%);stroke-opacity:1;stroke-miterlimit:10;\" d=\"M 482.289062 496.003906 L 460.160156 554.976562 \"/>\n",
       "<path style=\"fill:none;stroke-width:1;stroke-linecap:butt;stroke-linejoin:miter;stroke:rgb(26.666667%,26.666667%,26.666667%);stroke-opacity:1;stroke-miterlimit:10;\" d=\"M 482.289062 496.003906 L 516.277344 580 \"/>\n",
       "<path style=\"fill:none;stroke-width:1;stroke-linecap:butt;stroke-linejoin:miter;stroke:rgb(26.666667%,26.666667%,26.666667%);stroke-opacity:1;stroke-miterlimit:10;\" d=\"M 482.289062 496.003906 L 457.164062 433.621094 \"/>\n",
       "<path style=\"fill:none;stroke-width:1;stroke-linecap:butt;stroke-linejoin:miter;stroke:rgb(26.666667%,26.666667%,26.666667%);stroke-opacity:1;stroke-miterlimit:10;\" d=\"M 106.746094 189.117188 L 103.917969 170.976562 \"/>\n",
       "<path style=\"fill:none;stroke-width:1;stroke-linecap:butt;stroke-linejoin:miter;stroke:rgb(26.666667%,26.666667%,26.666667%);stroke-opacity:1;stroke-miterlimit:10;\" d=\"M 106.746094 189.117188 L 137.289062 171.734375 \"/>\n",
       "<path style=\"fill:none;stroke-width:1;stroke-linecap:butt;stroke-linejoin:miter;stroke:rgb(26.666667%,26.666667%,26.666667%);stroke-opacity:1;stroke-miterlimit:10;\" d=\"M 270.28125 110.5625 L 209.40625 130.5 \"/>\n",
       "<path style=\"fill:none;stroke-width:1;stroke-linecap:butt;stroke-linejoin:miter;stroke:rgb(26.666667%,26.666667%,26.666667%);stroke-opacity:1;stroke-miterlimit:10;\" d=\"M 270.28125 110.5625 L 297.382812 155.558594 \"/>\n",
       "<path style=\"fill:none;stroke-width:1;stroke-linecap:butt;stroke-linejoin:miter;stroke:rgb(26.666667%,26.666667%,26.666667%);stroke-opacity:1;stroke-miterlimit:10;\" d=\"M 446.953125 401.613281 L 460.152344 344.363281 \"/>\n",
       "<path style=\"fill:none;stroke-width:1;stroke-linecap:butt;stroke-linejoin:miter;stroke:rgb(26.666667%,26.666667%,26.666667%);stroke-opacity:1;stroke-miterlimit:10;\" d=\"M 446.953125 401.613281 L 409.332031 380.828125 \"/>\n",
       "<path style=\"fill:none;stroke-width:1;stroke-linecap:butt;stroke-linejoin:miter;stroke:rgb(26.666667%,26.666667%,26.666667%);stroke-opacity:1;stroke-miterlimit:10;\" d=\"M 446.953125 401.613281 L 409.40625 421.6875 \"/>\n",
       "<path style=\"fill:none;stroke-width:1;stroke-linecap:butt;stroke-linejoin:miter;stroke:rgb(26.666667%,26.666667%,26.666667%);stroke-opacity:1;stroke-miterlimit:10;\" d=\"M 446.953125 401.613281 L 457.164062 433.621094 \"/>\n",
       "<path style=\"fill:none;stroke-width:1;stroke-linecap:butt;stroke-linejoin:miter;stroke:rgb(26.666667%,26.666667%,26.666667%);stroke-opacity:1;stroke-miterlimit:10;\" d=\"M 486.730469 413.863281 L 460.152344 344.363281 \"/>\n",
       "<path style=\"fill:none;stroke-width:1;stroke-linecap:butt;stroke-linejoin:miter;stroke:rgb(26.666667%,26.666667%,26.666667%);stroke-opacity:1;stroke-miterlimit:10;\" d=\"M 486.730469 413.863281 L 457.164062 433.621094 \"/>\n",
       "<path style=\"fill:none;stroke-width:1;stroke-linecap:butt;stroke-linejoin:miter;stroke:rgb(26.666667%,26.666667%,26.666667%);stroke-opacity:1;stroke-miterlimit:10;\" d=\"M 287.113281 259.707031 L 331.480469 302.585938 \"/>\n",
       "<path style=\"fill:none;stroke-width:1;stroke-linecap:butt;stroke-linejoin:miter;stroke:rgb(26.666667%,26.666667%,26.666667%);stroke-opacity:1;stroke-miterlimit:10;\" d=\"M 287.113281 259.707031 L 387.21875 270.179688 \"/>\n",
       "<path style=\"fill:none;stroke-width:1;stroke-linecap:butt;stroke-linejoin:miter;stroke:rgb(26.666667%,26.666667%,26.666667%);stroke-opacity:1;stroke-miterlimit:10;\" d=\"M 234.789062 145.742188 L 209.40625 130.5 \"/>\n",
       "<path style=\"fill:none;stroke-width:1;stroke-linecap:butt;stroke-linejoin:miter;stroke:rgb(26.666667%,26.666667%,26.666667%);stroke-opacity:1;stroke-miterlimit:10;\" d=\"M 234.789062 145.742188 L 297.382812 155.558594 \"/>\n",
       "<path style=\"fill:none;stroke-width:1;stroke-linecap:butt;stroke-linejoin:miter;stroke:rgb(26.666667%,26.666667%,26.666667%);stroke-opacity:1;stroke-miterlimit:10;\" d=\"M 262.992188 167.546875 L 209.40625 130.5 \"/>\n",
       "<path style=\"fill:none;stroke-width:1;stroke-linecap:butt;stroke-linejoin:miter;stroke:rgb(26.666667%,26.666667%,26.666667%);stroke-opacity:1;stroke-miterlimit:10;\" d=\"M 262.992188 167.546875 L 297.382812 155.558594 \"/>\n",
       "<path style=\"fill:none;stroke-width:1;stroke-linecap:butt;stroke-linejoin:miter;stroke:rgb(26.666667%,26.666667%,26.666667%);stroke-opacity:1;stroke-miterlimit:10;\" d=\"M 419.335938 455.332031 L 409.332031 380.828125 \"/>\n",
       "<path style=\"fill:none;stroke-width:1;stroke-linecap:butt;stroke-linejoin:miter;stroke:rgb(26.666667%,26.666667%,26.666667%);stroke-opacity:1;stroke-miterlimit:10;\" d=\"M 419.335938 455.332031 L 457.164062 433.621094 \"/>\n",
       "<path style=\"fill:none;stroke-width:1;stroke-linecap:butt;stroke-linejoin:miter;stroke:rgb(26.666667%,26.666667%,26.666667%);stroke-opacity:1;stroke-miterlimit:10;\" d=\"M 239.074219 115.542969 L 209.40625 130.5 \"/>\n",
       "<path style=\"fill:none;stroke-width:1;stroke-linecap:butt;stroke-linejoin:miter;stroke:rgb(26.666667%,26.666667%,26.666667%);stroke-opacity:1;stroke-miterlimit:10;\" d=\"M 239.074219 115.542969 L 297.382812 155.558594 \"/>\n",
       "<path style=\"fill:none;stroke-width:1;stroke-linecap:butt;stroke-linejoin:miter;stroke:rgb(26.666667%,26.666667%,26.666667%);stroke-opacity:1;stroke-miterlimit:10;\" d=\"M 425.257812 252.027344 L 387.21875 270.179688 \"/>\n",
       "<path style=\"fill:none;stroke-width:1;stroke-linecap:butt;stroke-linejoin:miter;stroke:rgb(26.666667%,26.666667%,26.666667%);stroke-opacity:1;stroke-miterlimit:10;\" d=\"M 195.742188 69.597656 L 209.40625 130.5 \"/>\n",
       "<path style=\"fill:none;stroke-width:1;stroke-linecap:butt;stroke-linejoin:miter;stroke:rgb(26.666667%,26.666667%,26.666667%);stroke-opacity:1;stroke-miterlimit:10;\" d=\"M 414.40625 225.1875 L 395.804688 264.339844 \"/>\n",
       "<path style=\"fill:none;stroke-width:1;stroke-linecap:butt;stroke-linejoin:miter;stroke:rgb(26.666667%,26.666667%,26.666667%);stroke-opacity:1;stroke-miterlimit:10;\" d=\"M 414.40625 225.1875 L 381.074219 206.058594 \"/>\n",
       "<path style=\"fill:none;stroke-width:1;stroke-linecap:butt;stroke-linejoin:miter;stroke:rgb(26.666667%,26.666667%,26.666667%);stroke-opacity:1;stroke-miterlimit:10;\" d=\"M 414.40625 225.1875 L 457.863281 173.621094 \"/>\n",
       "<path style=\"fill:none;stroke-width:1;stroke-linecap:butt;stroke-linejoin:miter;stroke:rgb(26.666667%,26.666667%,26.666667%);stroke-opacity:1;stroke-miterlimit:10;\" d=\"M 414.40625 225.1875 L 387.21875 270.179688 \"/>\n",
       "<path style=\"fill:none;stroke-width:1;stroke-linecap:butt;stroke-linejoin:miter;stroke:rgb(26.666667%,26.666667%,26.666667%);stroke-opacity:1;stroke-miterlimit:10;\" d=\"M 414.40625 225.1875 L 397.496094 256.949219 \"/>\n",
       "<path style=\"fill:none;stroke-width:1;stroke-linecap:butt;stroke-linejoin:miter;stroke:rgb(26.666667%,26.666667%,26.666667%);stroke-opacity:1;stroke-miterlimit:10;\" d=\"M 398.46875 436.332031 L 409.332031 380.828125 \"/>\n",
       "<path style=\"fill:none;stroke-width:1;stroke-linecap:butt;stroke-linejoin:miter;stroke:rgb(26.666667%,26.666667%,26.666667%);stroke-opacity:1;stroke-miterlimit:10;\" d=\"M 398.46875 436.332031 L 409.40625 421.6875 \"/>\n",
       "<path style=\"fill:none;stroke-width:1;stroke-linecap:butt;stroke-linejoin:miter;stroke:rgb(26.666667%,26.666667%,26.666667%);stroke-opacity:1;stroke-miterlimit:10;\" d=\"M 385.34375 431.664062 L 409.332031 380.828125 \"/>\n",
       "<path style=\"fill:none;stroke-width:1;stroke-linecap:butt;stroke-linejoin:miter;stroke:rgb(26.666667%,26.666667%,26.666667%);stroke-opacity:1;stroke-miterlimit:10;\" d=\"M 385.34375 431.664062 L 409.40625 421.6875 \"/>\n",
       "<path style=\"fill:none;stroke-width:1;stroke-linecap:butt;stroke-linejoin:miter;stroke:rgb(26.666667%,26.666667%,26.666667%);stroke-opacity:1;stroke-miterlimit:10;\" d=\"M 460.152344 344.363281 L 537.429688 313.832031 \"/>\n",
       "<path style=\"fill:none;stroke-width:1;stroke-linecap:butt;stroke-linejoin:miter;stroke:rgb(26.666667%,26.666667%,26.666667%);stroke-opacity:1;stroke-miterlimit:10;\" d=\"M 460.152344 344.363281 L 481.1875 397.644531 \"/>\n",
       "<path style=\"fill:none;stroke-width:1;stroke-linecap:butt;stroke-linejoin:miter;stroke:rgb(26.666667%,26.666667%,26.666667%);stroke-opacity:1;stroke-miterlimit:10;\" d=\"M 460.152344 344.363281 L 395.804688 264.339844 \"/>\n",
       "<path style=\"fill:none;stroke-width:1;stroke-linecap:butt;stroke-linejoin:miter;stroke:rgb(26.666667%,26.666667%,26.666667%);stroke-opacity:1;stroke-miterlimit:10;\" d=\"M 460.152344 344.363281 L 436.652344 386.382812 \"/>\n",
       "<path style=\"fill:none;stroke-width:1;stroke-linecap:butt;stroke-linejoin:miter;stroke:rgb(26.666667%,26.666667%,26.666667%);stroke-opacity:1;stroke-miterlimit:10;\" d=\"M 460.152344 344.363281 L 501.453125 402.464844 \"/>\n",
       "<path style=\"fill:none;stroke-width:1;stroke-linecap:butt;stroke-linejoin:miter;stroke:rgb(26.666667%,26.666667%,26.666667%);stroke-opacity:1;stroke-miterlimit:10;\" d=\"M 460.152344 344.363281 L 512.019531 358.507812 \"/>\n",
       "<path style=\"fill:none;stroke-width:1;stroke-linecap:butt;stroke-linejoin:miter;stroke:rgb(26.666667%,26.666667%,26.666667%);stroke-opacity:1;stroke-miterlimit:10;\" d=\"M 460.152344 344.363281 L 446.765625 388.445312 \"/>\n",
       "<path style=\"fill:none;stroke-width:1;stroke-linecap:butt;stroke-linejoin:miter;stroke:rgb(26.666667%,26.666667%,26.666667%);stroke-opacity:1;stroke-miterlimit:10;\" d=\"M 460.152344 344.363281 L 387.21875 270.179688 \"/>\n",
       "<path style=\"fill:none;stroke-width:1;stroke-linecap:butt;stroke-linejoin:miter;stroke:rgb(26.666667%,26.666667%,26.666667%);stroke-opacity:1;stroke-miterlimit:10;\" d=\"M 460.152344 344.363281 L 519.195312 372.351562 \"/>\n",
       "<path style=\"fill:none;stroke-width:1;stroke-linecap:butt;stroke-linejoin:miter;stroke:rgb(26.666667%,26.666667%,26.666667%);stroke-opacity:1;stroke-miterlimit:10;\" d=\"M 460.152344 344.363281 L 397.496094 256.949219 \"/>\n",
       "<path style=\"fill:none;stroke-width:1;stroke-linecap:butt;stroke-linejoin:miter;stroke:rgb(26.666667%,26.666667%,26.666667%);stroke-opacity:1;stroke-miterlimit:10;\" d=\"M 222.148438 225.476562 L 260.511719 201.714844 \"/>\n",
       "<path style=\"fill:none;stroke-width:1;stroke-linecap:butt;stroke-linejoin:miter;stroke:rgb(26.666667%,26.666667%,26.666667%);stroke-opacity:1;stroke-miterlimit:10;\" d=\"M 222.148438 225.476562 L 273.804688 199.90625 \"/>\n",
       "<path style=\"fill:none;stroke-width:1;stroke-linecap:butt;stroke-linejoin:miter;stroke:rgb(26.666667%,26.666667%,26.666667%);stroke-opacity:1;stroke-miterlimit:10;\" d=\"M 222.148438 225.476562 L 224.460938 261.085938 \"/>\n",
       "<path style=\"fill:none;stroke-width:1;stroke-linecap:butt;stroke-linejoin:miter;stroke:rgb(26.666667%,26.666667%,26.666667%);stroke-opacity:1;stroke-miterlimit:10;\" d=\"M 222.148438 225.476562 L 260.921875 221.148438 \"/>\n",
       "<path style=\"fill:none;stroke-width:1;stroke-linecap:butt;stroke-linejoin:miter;stroke:rgb(26.666667%,26.666667%,26.666667%);stroke-opacity:1;stroke-miterlimit:10;\" d=\"M 222.148438 225.476562 L 236.160156 277.246094 \"/>\n",
       "<path style=\"fill:none;stroke-width:1;stroke-linecap:butt;stroke-linejoin:miter;stroke:rgb(26.666667%,26.666667%,26.666667%);stroke-opacity:1;stroke-miterlimit:10;\" d=\"M 309.429688 233.507812 L 395.804688 264.339844 \"/>\n",
       "<path style=\"fill:none;stroke-width:1;stroke-linecap:butt;stroke-linejoin:miter;stroke:rgb(26.666667%,26.666667%,26.666667%);stroke-opacity:1;stroke-miterlimit:10;\" d=\"M 309.429688 233.507812 L 260.511719 201.714844 \"/>\n",
       "<path style=\"fill:none;stroke-width:1;stroke-linecap:butt;stroke-linejoin:miter;stroke:rgb(26.666667%,26.666667%,26.666667%);stroke-opacity:1;stroke-miterlimit:10;\" d=\"M 309.429688 233.507812 L 331.480469 302.585938 \"/>\n",
       "<path style=\"fill:none;stroke-width:1;stroke-linecap:butt;stroke-linejoin:miter;stroke:rgb(26.666667%,26.666667%,26.666667%);stroke-opacity:1;stroke-miterlimit:10;\" d=\"M 309.429688 233.507812 L 278.203125 282.894531 \"/>\n",
       "<path style=\"fill:none;stroke-width:1;stroke-linecap:butt;stroke-linejoin:miter;stroke:rgb(26.666667%,26.666667%,26.666667%);stroke-opacity:1;stroke-miterlimit:10;\" d=\"M 309.429688 233.507812 L 273.804688 199.90625 \"/>\n",
       "<path style=\"fill:none;stroke-width:1;stroke-linecap:butt;stroke-linejoin:miter;stroke:rgb(26.666667%,26.666667%,26.666667%);stroke-opacity:1;stroke-miterlimit:10;\" d=\"M 309.429688 233.507812 L 381.074219 206.058594 \"/>\n",
       "<path style=\"fill:none;stroke-width:1;stroke-linecap:butt;stroke-linejoin:miter;stroke:rgb(26.666667%,26.666667%,26.666667%);stroke-opacity:1;stroke-miterlimit:10;\" d=\"M 309.429688 233.507812 L 254.449219 185.789062 \"/>\n",
       "<path style=\"fill:none;stroke-width:1;stroke-linecap:butt;stroke-linejoin:miter;stroke:rgb(26.666667%,26.666667%,26.666667%);stroke-opacity:1;stroke-miterlimit:10;\" d=\"M 309.429688 233.507812 L 260.921875 221.148438 \"/>\n",
       "<path style=\"fill:none;stroke-width:1;stroke-linecap:butt;stroke-linejoin:miter;stroke:rgb(26.666667%,26.666667%,26.666667%);stroke-opacity:1;stroke-miterlimit:10;\" d=\"M 254.214844 105.289062 L 209.40625 130.5 \"/>\n",
       "<path style=\"fill:none;stroke-width:1;stroke-linecap:butt;stroke-linejoin:miter;stroke:rgb(26.666667%,26.666667%,26.666667%);stroke-opacity:1;stroke-miterlimit:10;\" d=\"M 254.214844 105.289062 L 297.382812 155.558594 \"/>\n",
       "<path style=\"fill:none;stroke-width:1;stroke-linecap:butt;stroke-linejoin:miter;stroke:rgb(26.666667%,26.666667%,26.666667%);stroke-opacity:1;stroke-miterlimit:10;\" d=\"M 481.1875 397.644531 L 457.164062 433.621094 \"/>\n",
       "<path style=\"fill:none;stroke-width:1;stroke-linecap:butt;stroke-linejoin:miter;stroke:rgb(26.666667%,26.666667%,26.666667%);stroke-opacity:1;stroke-miterlimit:10;\" d=\"M 208.371094 63.835938 L 209.40625 130.5 \"/>\n",
       "<path style=\"fill:none;stroke-width:1;stroke-linecap:butt;stroke-linejoin:miter;stroke:rgb(26.666667%,26.666667%,26.666667%);stroke-opacity:1;stroke-miterlimit:10;\" d=\"M 395.804688 264.339844 L 424.71875 206.007812 \"/>\n",
       "<path style=\"fill:none;stroke-width:1;stroke-linecap:butt;stroke-linejoin:miter;stroke:rgb(26.666667%,26.666667%,26.666667%);stroke-opacity:1;stroke-miterlimit:10;\" d=\"M 436.652344 386.382812 L 409.332031 380.828125 \"/>\n",
       "<path style=\"fill:none;stroke-width:1;stroke-linecap:butt;stroke-linejoin:miter;stroke:rgb(26.666667%,26.666667%,26.666667%);stroke-opacity:1;stroke-miterlimit:10;\" d=\"M 436.652344 386.382812 L 409.40625 421.6875 \"/>\n",
       "<path style=\"fill:none;stroke-width:1;stroke-linecap:butt;stroke-linejoin:miter;stroke:rgb(26.666667%,26.666667%,26.666667%);stroke-opacity:1;stroke-miterlimit:10;\" d=\"M 409.332031 380.828125 L 331.480469 302.585938 \"/>\n",
       "<path style=\"fill:none;stroke-width:1;stroke-linecap:butt;stroke-linejoin:miter;stroke:rgb(26.666667%,26.666667%,26.666667%);stroke-opacity:1;stroke-miterlimit:10;\" d=\"M 409.332031 380.828125 L 390.761719 447.152344 \"/>\n",
       "<path style=\"fill:none;stroke-width:1;stroke-linecap:butt;stroke-linejoin:miter;stroke:rgb(26.666667%,26.666667%,26.666667%);stroke-opacity:1;stroke-miterlimit:10;\" d=\"M 409.332031 380.828125 L 383.425781 355.671875 \"/>\n",
       "<path style=\"fill:none;stroke-width:1;stroke-linecap:butt;stroke-linejoin:miter;stroke:rgb(26.666667%,26.666667%,26.666667%);stroke-opacity:1;stroke-miterlimit:10;\" d=\"M 409.332031 380.828125 L 468.652344 425.839844 \"/>\n",
       "<path style=\"fill:none;stroke-width:1;stroke-linecap:butt;stroke-linejoin:miter;stroke:rgb(26.666667%,26.666667%,26.666667%);stroke-opacity:1;stroke-miterlimit:10;\" d=\"M 409.332031 380.828125 L 446.765625 388.445312 \"/>\n",
       "<path style=\"fill:none;stroke-width:1;stroke-linecap:butt;stroke-linejoin:miter;stroke:rgb(26.666667%,26.666667%,26.666667%);stroke-opacity:1;stroke-miterlimit:10;\" d=\"M 409.332031 380.828125 L 387.21875 270.179688 \"/>\n",
       "<path style=\"fill:none;stroke-width:1;stroke-linecap:butt;stroke-linejoin:miter;stroke:rgb(26.666667%,26.666667%,26.666667%);stroke-opacity:1;stroke-miterlimit:10;\" d=\"M 409.332031 380.828125 L 442.101562 424.519531 \"/>\n",
       "<path style=\"fill:none;stroke-width:1;stroke-linecap:butt;stroke-linejoin:miter;stroke:rgb(26.666667%,26.666667%,26.666667%);stroke-opacity:1;stroke-miterlimit:10;\" d=\"M 93.285156 185.03125 L 103.917969 170.976562 \"/>\n",
       "<path style=\"fill:none;stroke-width:1;stroke-linecap:butt;stroke-linejoin:miter;stroke:rgb(26.666667%,26.666667%,26.666667%);stroke-opacity:1;stroke-miterlimit:10;\" d=\"M 93.285156 185.03125 L 137.289062 171.734375 \"/>\n",
       "<path style=\"fill:none;stroke-width:1;stroke-linecap:butt;stroke-linejoin:miter;stroke:rgb(26.666667%,26.666667%,26.666667%);stroke-opacity:1;stroke-miterlimit:10;\" d=\"M 501.453125 402.464844 L 457.164062 433.621094 \"/>\n",
       "<path style=\"fill:none;stroke-width:1;stroke-linecap:butt;stroke-linejoin:miter;stroke:rgb(26.666667%,26.666667%,26.666667%);stroke-opacity:1;stroke-miterlimit:10;\" d=\"M 322.179688 109.15625 L 297.382812 155.558594 \"/>\n",
       "<path style=\"fill:none;stroke-width:1;stroke-linecap:butt;stroke-linejoin:miter;stroke:rgb(26.666667%,26.666667%,26.666667%);stroke-opacity:1;stroke-miterlimit:10;\" d=\"M 209.40625 130.5 L 198.34375 92.53125 \"/>\n",
       "<path style=\"fill:none;stroke-width:1;stroke-linecap:butt;stroke-linejoin:miter;stroke:rgb(26.666667%,26.666667%,26.666667%);stroke-opacity:1;stroke-miterlimit:10;\" d=\"M 209.40625 130.5 L 265.125 96.019531 \"/>\n",
       "<path style=\"fill:none;stroke-width:1;stroke-linecap:butt;stroke-linejoin:miter;stroke:rgb(26.666667%,26.666667%,26.666667%);stroke-opacity:1;stroke-miterlimit:10;\" d=\"M 209.40625 130.5 L 103.917969 170.976562 \"/>\n",
       "<path style=\"fill:none;stroke-width:1;stroke-linecap:butt;stroke-linejoin:miter;stroke:rgb(26.666667%,26.666667%,26.666667%);stroke-opacity:1;stroke-miterlimit:10;\" d=\"M 209.40625 130.5 L 137.289062 171.734375 \"/>\n",
       "<path style=\"fill:none;stroke-width:1;stroke-linecap:butt;stroke-linejoin:miter;stroke:rgb(26.666667%,26.666667%,26.666667%);stroke-opacity:1;stroke-miterlimit:10;\" d=\"M 209.40625 130.5 L 222.257812 67.820312 \"/>\n",
       "<path style=\"fill:none;stroke-width:1;stroke-linecap:butt;stroke-linejoin:miter;stroke:rgb(26.666667%,26.666667%,26.666667%);stroke-opacity:1;stroke-miterlimit:10;\" d=\"M 209.40625 130.5 L 253.386719 86.726562 \"/>\n",
       "<path style=\"fill:none;stroke-width:1;stroke-linecap:butt;stroke-linejoin:miter;stroke:rgb(26.666667%,26.666667%,26.666667%);stroke-opacity:1;stroke-miterlimit:10;\" d=\"M 209.40625 130.5 L 263.21875 133.171875 \"/>\n",
       "<path style=\"fill:none;stroke-width:1;stroke-linecap:butt;stroke-linejoin:miter;stroke:rgb(26.666667%,26.666667%,26.666667%);stroke-opacity:1;stroke-miterlimit:10;\" d=\"M 209.40625 130.5 L 186.921875 79.945312 \"/>\n",
       "<path style=\"fill:none;stroke-width:1;stroke-linecap:butt;stroke-linejoin:miter;stroke:rgb(26.666667%,26.666667%,26.666667%);stroke-opacity:1;stroke-miterlimit:10;\" d=\"M 209.40625 130.5 L 254.449219 185.789062 \"/>\n",
       "<path style=\"fill:none;stroke-width:1;stroke-linecap:butt;stroke-linejoin:miter;stroke:rgb(26.666667%,26.666667%,26.666667%);stroke-opacity:1;stroke-miterlimit:10;\" d=\"M 292.949219 80.453125 L 297.382812 155.558594 \"/>\n",
       "<path style=\"fill:none;stroke-width:1;stroke-linecap:butt;stroke-linejoin:miter;stroke:rgb(26.666667%,26.666667%,26.666667%);stroke-opacity:1;stroke-miterlimit:10;\" d=\"M 476.882812 479.230469 L 457.164062 433.621094 \"/>\n",
       "<path style=\"fill:none;stroke-width:1;stroke-linecap:butt;stroke-linejoin:miter;stroke:rgb(26.666667%,26.666667%,26.666667%);stroke-opacity:1;stroke-miterlimit:10;\" d=\"M 265.125 96.019531 L 297.382812 155.558594 \"/>\n",
       "<path style=\"fill:none;stroke-width:1;stroke-linecap:butt;stroke-linejoin:miter;stroke:rgb(26.666667%,26.666667%,26.666667%);stroke-opacity:1;stroke-miterlimit:10;\" d=\"M 103.917969 170.976562 L 74.492188 211.769531 \"/>\n",
       "<path style=\"fill:none;stroke-width:1;stroke-linecap:butt;stroke-linejoin:miter;stroke:rgb(26.666667%,26.666667%,26.666667%);stroke-opacity:1;stroke-miterlimit:10;\" d=\"M 103.917969 170.976562 L 74.328125 197.410156 \"/>\n",
       "<path style=\"fill:none;stroke-width:1;stroke-linecap:butt;stroke-linejoin:miter;stroke:rgb(26.666667%,26.666667%,26.666667%);stroke-opacity:1;stroke-miterlimit:10;\" d=\"M 103.917969 170.976562 L 72.3125 178.917969 \"/>\n",
       "<path style=\"fill:none;stroke-width:1;stroke-linecap:butt;stroke-linejoin:miter;stroke:rgb(26.666667%,26.666667%,26.666667%);stroke-opacity:1;stroke-miterlimit:10;\" d=\"M 103.917969 170.976562 L 104.347656 204.359375 \"/>\n",
       "<path style=\"fill:none;stroke-width:1;stroke-linecap:butt;stroke-linejoin:miter;stroke:rgb(26.666667%,26.666667%,26.666667%);stroke-opacity:1;stroke-miterlimit:10;\" d=\"M 103.917969 170.976562 L 75.449219 160.945312 \"/>\n",
       "<path style=\"fill:none;stroke-width:1;stroke-linecap:butt;stroke-linejoin:miter;stroke:rgb(26.666667%,26.666667%,26.666667%);stroke-opacity:1;stroke-miterlimit:10;\" d=\"M 103.917969 170.976562 L 20 156.09375 \"/>\n",
       "<path style=\"fill:none;stroke-width:1;stroke-linecap:butt;stroke-linejoin:miter;stroke:rgb(26.666667%,26.666667%,26.666667%);stroke-opacity:1;stroke-miterlimit:10;\" d=\"M 103.917969 170.976562 L 87.921875 218.765625 \"/>\n",
       "<path style=\"fill:none;stroke-width:1;stroke-linecap:butt;stroke-linejoin:miter;stroke:rgb(26.666667%,26.666667%,26.666667%);stroke-opacity:1;stroke-miterlimit:10;\" d=\"M 103.917969 170.976562 L 28.136719 132.777344 \"/>\n",
       "<path style=\"fill:none;stroke-width:1;stroke-linecap:butt;stroke-linejoin:miter;stroke:rgb(26.666667%,26.666667%,26.666667%);stroke-opacity:1;stroke-miterlimit:10;\" d=\"M 260.511719 201.714844 L 297.382812 155.558594 \"/>\n",
       "<path style=\"fill:none;stroke-width:1;stroke-linecap:butt;stroke-linejoin:miter;stroke:rgb(26.666667%,26.666667%,26.666667%);stroke-opacity:1;stroke-miterlimit:10;\" d=\"M 260.511719 201.714844 L 199.589844 226.320312 \"/>\n",
       "<path style=\"fill:none;stroke-width:1;stroke-linecap:butt;stroke-linejoin:miter;stroke:rgb(26.666667%,26.666667%,26.666667%);stroke-opacity:1;stroke-miterlimit:10;\" d=\"M 137.289062 171.734375 L 104.347656 204.359375 \"/>\n",
       "<path style=\"fill:none;stroke-width:1;stroke-linecap:butt;stroke-linejoin:miter;stroke:rgb(26.666667%,26.666667%,26.666667%);stroke-opacity:1;stroke-miterlimit:10;\" d=\"M 297.382812 155.558594 L 253.386719 86.726562 \"/>\n",
       "<path style=\"fill:none;stroke-width:1;stroke-linecap:butt;stroke-linejoin:miter;stroke:rgb(26.666667%,26.666667%,26.666667%);stroke-opacity:1;stroke-miterlimit:10;\" d=\"M 297.382812 155.558594 L 263.21875 133.171875 \"/>\n",
       "<path style=\"fill:none;stroke-width:1;stroke-linecap:butt;stroke-linejoin:miter;stroke:rgb(26.666667%,26.666667%,26.666667%);stroke-opacity:1;stroke-miterlimit:10;\" d=\"M 297.382812 155.558594 L 308.234375 80.75 \"/>\n",
       "<path style=\"fill:none;stroke-width:1;stroke-linecap:butt;stroke-linejoin:miter;stroke:rgb(26.666667%,26.666667%,26.666667%);stroke-opacity:1;stroke-miterlimit:10;\" d=\"M 297.382812 155.558594 L 387.21875 270.179688 \"/>\n",
       "<path style=\"fill:none;stroke-width:1;stroke-linecap:butt;stroke-linejoin:miter;stroke:rgb(26.666667%,26.666667%,26.666667%);stroke-opacity:1;stroke-miterlimit:10;\" d=\"M 297.382812 155.558594 L 355.546875 92.230469 \"/>\n",
       "<path style=\"fill:none;stroke-width:1;stroke-linecap:butt;stroke-linejoin:miter;stroke:rgb(26.666667%,26.666667%,26.666667%);stroke-opacity:1;stroke-miterlimit:10;\" d=\"M 297.382812 155.558594 L 260.921875 221.148438 \"/>\n",
       "<path style=\"fill:none;stroke-width:1;stroke-linecap:butt;stroke-linejoin:miter;stroke:rgb(26.666667%,26.666667%,26.666667%);stroke-opacity:1;stroke-miterlimit:10;\" d=\"M 297.382812 155.558594 L 318.0625 92.523438 \"/>\n",
       "<path style=\"fill:none;stroke-width:1;stroke-linecap:butt;stroke-linejoin:miter;stroke:rgb(26.666667%,26.666667%,26.666667%);stroke-opacity:1;stroke-miterlimit:10;\" d=\"M 381.074219 206.058594 L 424.71875 206.007812 \"/>\n",
       "<path style=\"fill:none;stroke-width:1;stroke-linecap:butt;stroke-linejoin:miter;stroke:rgb(26.666667%,26.666667%,26.666667%);stroke-opacity:1;stroke-miterlimit:10;\" d=\"M 424.71875 206.007812 L 457.863281 173.621094 \"/>\n",
       "<path style=\"fill:none;stroke-width:1;stroke-linecap:butt;stroke-linejoin:miter;stroke:rgb(26.666667%,26.666667%,26.666667%);stroke-opacity:1;stroke-miterlimit:10;\" d=\"M 424.71875 206.007812 L 397.496094 256.949219 \"/>\n",
       "<path style=\"fill:none;stroke-width:1;stroke-linecap:butt;stroke-linejoin:miter;stroke:rgb(26.666667%,26.666667%,26.666667%);stroke-opacity:1;stroke-miterlimit:10;\" d=\"M 390.761719 447.152344 L 409.40625 421.6875 \"/>\n",
       "<path style=\"fill:none;stroke-width:1;stroke-linecap:butt;stroke-linejoin:miter;stroke:rgb(26.666667%,26.666667%,26.666667%);stroke-opacity:1;stroke-miterlimit:10;\" d=\"M 383.425781 355.671875 L 457.164062 433.621094 \"/>\n",
       "<path style=\"fill:none;stroke-width:1;stroke-linecap:butt;stroke-linejoin:miter;stroke:rgb(26.666667%,26.666667%,26.666667%);stroke-opacity:1;stroke-miterlimit:10;\" d=\"M 461.710938 487.878906 L 457.164062 433.621094 \"/>\n",
       "<path style=\"fill:none;stroke-width:1;stroke-linecap:butt;stroke-linejoin:miter;stroke:rgb(26.666667%,26.666667%,26.666667%);stroke-opacity:1;stroke-miterlimit:10;\" d=\"M 468.652344 425.839844 L 457.164062 433.621094 \"/>\n",
       "<path style=\"fill:none;stroke-width:1;stroke-linecap:butt;stroke-linejoin:miter;stroke:rgb(26.666667%,26.666667%,26.666667%);stroke-opacity:1;stroke-miterlimit:10;\" d=\"M 446.15625 492.660156 L 457.164062 433.621094 \"/>\n",
       "<path style=\"fill:none;stroke-width:1;stroke-linecap:butt;stroke-linejoin:miter;stroke:rgb(26.666667%,26.666667%,26.666667%);stroke-opacity:1;stroke-miterlimit:10;\" d=\"M 446.765625 388.445312 L 409.40625 421.6875 \"/>\n",
       "<path style=\"fill:none;stroke-width:1;stroke-linecap:butt;stroke-linejoin:miter;stroke:rgb(26.666667%,26.666667%,26.666667%);stroke-opacity:1;stroke-miterlimit:10;\" d=\"M 199.589844 226.320312 L 224.460938 261.085938 \"/>\n",
       "<path style=\"fill:none;stroke-width:1;stroke-linecap:butt;stroke-linejoin:miter;stroke:rgb(26.666667%,26.666667%,26.666667%);stroke-opacity:1;stroke-miterlimit:10;\" d=\"M 502.722656 462.378906 L 457.164062 433.621094 \"/>\n",
       "<path style=\"fill-rule:nonzero;fill:rgb(100%,0%,0%);fill-opacity:1;stroke-width:1;stroke-linecap:butt;stroke-linejoin:miter;stroke:rgb(0%,0%,0%);stroke-opacity:1;stroke-miterlimit:10;\" d=\"M 412.464844 453.023438 C 412.464844 458.546875 407.988281 463.023438 402.464844 463.023438 C 396.941406 463.023438 392.464844 458.546875 392.464844 453.023438 C 392.464844 447.5 396.941406 443.023438 402.464844 443.023438 C 407.988281 443.023438 412.464844 447.5 412.464844 453.023438 \"/>\n",
       "<path style=\"fill-rule:nonzero;fill:rgb(100%,0%,0%);fill-opacity:1;stroke-width:1;stroke-linecap:butt;stroke-linejoin:miter;stroke:rgb(0%,0%,0%);stroke-opacity:1;stroke-miterlimit:10;\" d=\"M 465.949219 416.914062 C 465.949219 422.4375 461.472656 426.914062 455.949219 426.914062 C 450.425781 426.914062 445.949219 422.4375 445.949219 416.914062 C 445.949219 411.390625 450.425781 406.914062 455.949219 406.914062 C 461.472656 406.914062 465.949219 411.390625 465.949219 416.914062 \"/>\n",
       "<path style=\"fill-rule:nonzero;fill:rgb(0%,100%,0%);fill-opacity:1;stroke-width:1;stroke-linecap:butt;stroke-linejoin:miter;stroke:rgb(0%,0%,0%);stroke-opacity:1;stroke-miterlimit:10;\" d=\"M 339.601562 267.851562 C 339.601562 273.375 335.121094 277.851562 329.601562 277.851562 C 324.078125 277.851562 319.601562 273.375 319.601562 267.851562 C 319.601562 262.328125 324.078125 257.851562 329.601562 257.851562 C 335.121094 257.851562 339.601562 262.328125 339.601562 267.851562 \"/>\n",
       "<path style=\"fill-rule:nonzero;fill:rgb(0%,0%,100%);fill-opacity:1;stroke-width:1;stroke-linecap:butt;stroke-linejoin:miter;stroke:rgb(0%,0%,0%);stroke-opacity:1;stroke-miterlimit:10;\" d=\"M 268.5 121.488281 C 268.5 127.011719 264.023438 131.488281 258.5 131.488281 C 252.976562 131.488281 248.5 127.011719 248.5 121.488281 C 248.5 115.964844 252.976562 111.488281 258.5 111.488281 C 264.023438 111.488281 268.5 115.964844 268.5 121.488281 \"/>\n",
       "<path style=\"fill-rule:nonzero;fill:rgb(100%,100%,0%);fill-opacity:1;stroke-width:1;stroke-linecap:butt;stroke-linejoin:miter;stroke:rgb(0%,0%,0%);stroke-opacity:1;stroke-miterlimit:10;\" d=\"M 160.394531 203.308594 C 160.394531 208.832031 155.917969 213.308594 150.394531 213.308594 C 144.871094 213.308594 140.394531 208.832031 140.394531 203.308594 C 140.394531 197.785156 144.871094 193.308594 150.394531 193.308594 C 155.917969 193.308594 160.394531 197.785156 160.394531 203.308594 \"/>\n",
       "<path style=\"fill-rule:nonzero;fill:rgb(100%,0%,0%);fill-opacity:1;stroke-width:1;stroke-linecap:butt;stroke-linejoin:miter;stroke:rgb(0%,0%,0%);stroke-opacity:1;stroke-miterlimit:10;\" d=\"M 475.882812 363.578125 C 475.882812 369.101562 471.40625 373.578125 465.882812 373.578125 C 460.359375 373.578125 455.882812 369.101562 455.882812 363.578125 C 455.882812 358.058594 460.359375 353.578125 465.882812 353.578125 C 471.40625 353.578125 475.882812 358.058594 475.882812 363.578125 \"/>\n",
       "<path style=\"fill-rule:nonzero;fill:rgb(100%,0%,0%);fill-opacity:1;stroke-width:1;stroke-linecap:butt;stroke-linejoin:miter;stroke:rgb(0%,0%,0%);stroke-opacity:1;stroke-miterlimit:10;\" d=\"M 509.082031 359.492188 C 509.082031 365.015625 504.605469 369.492188 499.082031 369.492188 C 493.558594 369.492188 489.082031 365.015625 489.082031 359.492188 C 489.082031 353.96875 493.558594 349.492188 499.082031 349.492188 C 504.605469 349.492188 509.082031 353.96875 509.082031 359.492188 \"/>\n",
       "<path style=\"fill-rule:nonzero;fill:rgb(100%,0%,0%);fill-opacity:1;stroke-width:1;stroke-linecap:butt;stroke-linejoin:miter;stroke:rgb(0%,0%,0%);stroke-opacity:1;stroke-miterlimit:10;\" d=\"M 462.757812 454.925781 C 462.757812 460.449219 458.28125 464.925781 452.757812 464.925781 C 447.238281 464.925781 442.757812 460.449219 442.757812 454.925781 C 442.757812 449.402344 447.238281 444.925781 452.757812 444.925781 C 458.28125 444.925781 462.757812 449.402344 462.757812 454.925781 \"/>\n",
       "<path style=\"fill-rule:nonzero;fill:rgb(100%,0%,100%);fill-opacity:1;stroke-width:1;stroke-linecap:butt;stroke-linejoin:miter;stroke:rgb(0%,0%,0%);stroke-opacity:1;stroke-miterlimit:10;\" d=\"M 391.207031 274.332031 C 391.207031 279.851562 386.730469 284.332031 381.207031 284.332031 C 375.683594 284.332031 371.207031 279.851562 371.207031 274.332031 C 371.207031 268.808594 375.683594 264.332031 381.207031 264.332031 C 386.730469 264.332031 391.207031 268.808594 391.207031 274.332031 \"/>\n",
       "<path style=\"fill-rule:nonzero;fill:rgb(100%,100%,0%);fill-opacity:1;stroke-width:1;stroke-linecap:butt;stroke-linejoin:miter;stroke:rgb(0%,0%,0%);stroke-opacity:1;stroke-miterlimit:10;\" d=\"M 115.910156 149.621094 C 115.910156 155.144531 111.433594 159.621094 105.910156 159.621094 C 100.390625 159.621094 95.910156 155.144531 95.910156 149.621094 C 95.910156 144.097656 100.390625 139.621094 105.910156 139.621094 C 111.433594 139.621094 115.910156 144.097656 115.910156 149.621094 \"/>\n",
       "<path style=\"fill-rule:nonzero;fill:rgb(0%,100%,100%);fill-opacity:1;stroke-width:1;stroke-linecap:butt;stroke-linejoin:miter;stroke:rgb(0%,0%,0%);stroke-opacity:1;stroke-miterlimit:10;\" d=\"M 445.742188 480.0625 C 445.742188 485.585938 441.265625 490.0625 435.742188 490.0625 C 430.21875 490.0625 425.742188 485.585938 425.742188 480.0625 C 425.742188 474.539062 430.21875 470.0625 435.742188 470.0625 C 441.265625 470.0625 445.742188 474.539062 445.742188 480.0625 \"/>\n",
       "<path style=\"fill-rule:nonzero;fill:rgb(0%,100%,100%);fill-opacity:1;stroke-width:1;stroke-linecap:butt;stroke-linejoin:miter;stroke:rgb(0%,0%,0%);stroke-opacity:1;stroke-miterlimit:10;\" d=\"M 459.285156 529.609375 C 459.285156 535.132812 454.804688 539.609375 449.285156 539.609375 C 443.761719 539.609375 439.285156 535.132812 439.285156 529.609375 C 439.285156 524.085938 443.761719 519.609375 449.285156 519.609375 C 454.804688 519.609375 459.285156 524.085938 459.285156 529.609375 \"/>\n",
       "<path style=\"fill-rule:nonzero;fill:rgb(100%,0%,0%);fill-opacity:1;stroke-width:1;stroke-linecap:butt;stroke-linejoin:miter;stroke:rgb(0%,0%,0%);stroke-opacity:1;stroke-miterlimit:10;\" d=\"M 529.941406 491.65625 C 529.941406 497.179688 525.464844 501.65625 519.941406 501.65625 C 514.421875 501.65625 509.941406 497.179688 509.941406 491.65625 C 509.941406 486.132812 514.421875 481.65625 519.941406 481.65625 C 525.464844 481.65625 529.941406 486.132812 529.941406 491.65625 \"/>\n",
       "<path style=\"fill-rule:nonzero;fill:rgb(100%,0%,0%);fill-opacity:1;stroke-width:1;stroke-linecap:butt;stroke-linejoin:miter;stroke:rgb(0%,0%,0%);stroke-opacity:1;stroke-miterlimit:10;\" d=\"M 454.871094 371.882812 C 454.871094 377.40625 450.394531 381.882812 444.871094 381.882812 C 439.351562 381.882812 434.871094 377.40625 434.871094 371.882812 C 434.871094 366.359375 439.351562 361.882812 444.871094 361.882812 C 450.394531 361.882812 454.871094 366.359375 454.871094 371.882812 \"/>\n",
       "<path style=\"fill-rule:nonzero;fill:rgb(0%,0%,100%);fill-opacity:1;stroke-width:1;stroke-linecap:butt;stroke-linejoin:miter;stroke:rgb(0%,0%,0%);stroke-opacity:1;stroke-miterlimit:10;\" d=\"M 304.976562 175.433594 C 304.976562 180.957031 300.496094 185.433594 294.976562 185.433594 C 289.453125 185.433594 284.976562 180.957031 284.976562 175.433594 C 284.976562 169.910156 289.453125 165.433594 294.976562 165.433594 C 300.496094 165.433594 304.976562 169.910156 304.976562 175.433594 \"/>\n",
       "<path style=\"fill-rule:nonzero;fill:rgb(100%,0%,0%);fill-opacity:1;stroke-width:1;stroke-linecap:butt;stroke-linejoin:miter;stroke:rgb(0%,0%,0%);stroke-opacity:1;stroke-miterlimit:10;\" d=\"M 470.039062 389.785156 C 470.039062 395.304688 465.5625 399.785156 460.039062 399.785156 C 454.515625 399.785156 450.039062 395.304688 450.039062 389.785156 C 450.039062 384.261719 454.515625 379.785156 460.039062 379.785156 C 465.5625 379.785156 470.039062 384.261719 470.039062 389.785156 \"/>\n",
       "<path style=\"fill-rule:nonzero;fill:rgb(100%,0%,0%);fill-opacity:1;stroke-width:1;stroke-linecap:butt;stroke-linejoin:miter;stroke:rgb(0%,0%,0%);stroke-opacity:1;stroke-miterlimit:10;\" d=\"M 482.203125 348.363281 C 482.203125 353.886719 477.726562 358.363281 472.203125 358.363281 C 466.679688 358.363281 462.203125 353.886719 462.203125 348.363281 C 462.203125 342.84375 466.679688 338.363281 472.203125 338.363281 C 477.726562 338.363281 482.203125 342.84375 482.203125 348.363281 \"/>\n",
       "<path style=\"fill-rule:nonzero;fill:rgb(100%,0%,0%);fill-opacity:1;stroke-width:1;stroke-linecap:butt;stroke-linejoin:miter;stroke:rgb(0%,0%,0%);stroke-opacity:1;stroke-miterlimit:10;\" d=\"M 473.839844 515.476562 C 473.839844 521 469.363281 525.476562 463.839844 525.476562 C 458.316406 525.476562 453.839844 521 453.839844 515.476562 C 453.839844 509.957031 458.316406 505.476562 463.839844 505.476562 C 469.363281 505.476562 473.839844 509.957031 473.839844 515.476562 \"/>\n",
       "<path style=\"fill-rule:nonzero;fill:rgb(100%,0%,0%);fill-opacity:1;stroke-width:1;stroke-linecap:butt;stroke-linejoin:miter;stroke:rgb(0%,0%,0%);stroke-opacity:1;stroke-miterlimit:10;\" d=\"M 539.972656 478.890625 C 539.972656 484.414062 535.496094 488.890625 529.972656 488.890625 C 524.453125 488.890625 519.972656 484.414062 519.972656 478.890625 C 519.972656 473.371094 524.453125 468.890625 529.972656 468.890625 C 535.496094 468.890625 539.972656 473.371094 539.972656 478.890625 \"/>\n",
       "<path style=\"fill-rule:nonzero;fill:rgb(0%,0%,100%);fill-opacity:1;stroke-width:1;stroke-linecap:butt;stroke-linejoin:miter;stroke:rgb(0%,0%,0%);stroke-opacity:1;stroke-miterlimit:10;\" d=\"M 318.359375 111.230469 C 318.359375 116.753906 313.882812 121.230469 308.359375 121.230469 C 302.835938 121.230469 298.359375 116.753906 298.359375 111.230469 C 298.359375 105.707031 302.835938 101.230469 308.359375 101.230469 C 313.882812 101.230469 318.359375 105.707031 318.359375 111.230469 \"/>\n",
       "<path style=\"fill-rule:nonzero;fill:rgb(0%,100%,0%);fill-opacity:1;stroke-width:1;stroke-linecap:butt;stroke-linejoin:miter;stroke:rgb(0%,0%,0%);stroke-opacity:1;stroke-miterlimit:10;\" d=\"M 257.109375 191.390625 C 257.109375 196.914062 252.632812 201.390625 247.109375 201.390625 C 241.585938 201.390625 237.109375 196.914062 237.109375 191.390625 C 237.109375 185.867188 241.585938 181.390625 247.109375 181.390625 C 252.632812 181.390625 257.109375 185.867188 257.109375 191.390625 \"/>\n",
       "<path style=\"fill-rule:nonzero;fill:rgb(100%,100%,0%);fill-opacity:1;stroke-width:1;stroke-linecap:butt;stroke-linejoin:miter;stroke:rgb(0%,0%,0%);stroke-opacity:1;stroke-miterlimit:10;\" d=\"M 91.839844 253.027344 C 91.839844 258.550781 87.363281 263.027344 81.839844 263.027344 C 76.316406 263.027344 71.839844 258.550781 71.839844 253.027344 C 71.839844 247.507812 76.316406 243.027344 81.839844 243.027344 C 87.363281 243.027344 91.839844 247.507812 91.839844 253.027344 \"/>\n",
       "<path style=\"fill-rule:nonzero;fill:rgb(100%,0%,0%);fill-opacity:1;stroke-width:1;stroke-linecap:butt;stroke-linejoin:miter;stroke:rgb(0%,0%,0%);stroke-opacity:1;stroke-miterlimit:10;\" d=\"M 437.859375 401.242188 C 437.859375 406.765625 433.382812 411.242188 427.859375 411.242188 C 422.339844 411.242188 417.859375 406.765625 417.859375 401.242188 C 417.859375 395.71875 422.339844 391.242188 427.859375 391.242188 C 433.382812 391.242188 437.859375 395.71875 437.859375 401.242188 \"/>\n",
       "<path style=\"fill-rule:nonzero;fill:rgb(0%,0%,100%);fill-opacity:1;stroke-width:1;stroke-linecap:butt;stroke-linejoin:miter;stroke:rgb(0%,0%,0%);stroke-opacity:1;stroke-miterlimit:10;\" d=\"M 257.441406 137.878906 C 257.441406 143.402344 252.960938 147.878906 247.441406 147.878906 C 241.917969 147.878906 237.441406 143.402344 237.441406 137.878906 C 237.441406 132.355469 241.917969 127.878906 247.441406 127.878906 C 252.960938 127.878906 257.441406 132.355469 257.441406 137.878906 \"/>\n",
       "<path style=\"fill-rule:nonzero;fill:rgb(100%,0%,0%);fill-opacity:1;stroke-width:1;stroke-linecap:butt;stroke-linejoin:miter;stroke:rgb(0%,0%,0%);stroke-opacity:1;stroke-miterlimit:10;\" d=\"M 461.460938 343.464844 C 461.460938 348.984375 456.984375 353.464844 451.460938 353.464844 C 445.9375 353.464844 441.460938 348.984375 441.460938 343.464844 C 441.460938 337.941406 445.9375 333.464844 451.460938 333.464844 C 456.984375 333.464844 461.460938 337.941406 461.460938 343.464844 \"/>\n",
       "<path style=\"fill-rule:nonzero;fill:rgb(100%,0%,0%);fill-opacity:1;stroke-width:1;stroke-linecap:butt;stroke-linejoin:miter;stroke:rgb(0%,0%,0%);stroke-opacity:1;stroke-miterlimit:10;\" d=\"M 429.273438 437.496094 C 429.273438 443.019531 424.792969 447.496094 419.273438 447.496094 C 413.75 447.496094 409.273438 443.019531 409.273438 437.496094 C 409.273438 431.976562 413.75 427.496094 419.273438 427.496094 C 424.792969 427.496094 429.273438 431.976562 429.273438 437.496094 \"/>\n",
       "<path style=\"fill-rule:nonzero;fill:rgb(0%,0%,100%);fill-opacity:1;stroke-width:1;stroke-linecap:butt;stroke-linejoin:miter;stroke:rgb(0%,0%,0%);stroke-opacity:1;stroke-miterlimit:10;\" d=\"M 192.054688 94.296875 C 192.054688 99.820312 187.574219 104.296875 182.054688 104.296875 C 176.53125 104.296875 172.054688 99.820312 172.054688 94.296875 C 172.054688 88.773438 176.53125 84.296875 182.054688 84.296875 C 187.574219 84.296875 192.054688 88.773438 192.054688 94.296875 \"/>\n",
       "<path style=\"fill-rule:nonzero;fill:rgb(100%,0%,0%);fill-opacity:1;stroke-width:1;stroke-linecap:butt;stroke-linejoin:miter;stroke:rgb(0%,0%,0%);stroke-opacity:1;stroke-miterlimit:10;\" d=\"M 508.179688 413.453125 C 508.179688 418.976562 503.703125 423.453125 498.179688 423.453125 C 492.65625 423.453125 488.179688 418.976562 488.179688 413.453125 C 488.179688 407.929688 492.65625 403.453125 498.179688 403.453125 C 503.703125 403.453125 508.179688 407.929688 508.179688 413.453125 \"/>\n",
       "<path style=\"fill-rule:nonzero;fill:rgb(100%,100%,0%);fill-opacity:1;stroke-width:1;stroke-linecap:butt;stroke-linejoin:miter;stroke:rgb(0%,0%,0%);stroke-opacity:1;stroke-miterlimit:10;\" d=\"M 105.113281 159.398438 C 105.113281 164.917969 100.636719 169.398438 95.113281 169.398438 C 89.589844 169.398438 85.113281 164.917969 85.113281 159.398438 C 85.113281 153.875 89.589844 149.398438 95.113281 149.398438 C 100.636719 149.398438 105.113281 153.875 105.113281 159.398438 \"/>\n",
       "<path style=\"fill-rule:nonzero;fill:rgb(0%,0%,100%);fill-opacity:1;stroke-width:1;stroke-linecap:butt;stroke-linejoin:miter;stroke:rgb(0%,0%,0%);stroke-opacity:1;stroke-miterlimit:10;\" d=\"M 310.867188 95.335938 C 310.867188 100.859375 306.390625 105.335938 300.867188 105.335938 C 295.347656 105.335938 290.867188 100.859375 290.867188 95.335938 C 290.867188 89.8125 295.347656 85.335938 300.867188 85.335938 C 306.390625 85.335938 310.867188 89.8125 310.867188 95.335938 \"/>\n",
       "<path style=\"fill-rule:nonzero;fill:rgb(100%,0%,0%);fill-opacity:1;stroke-width:1;stroke-linecap:butt;stroke-linejoin:miter;stroke:rgb(0%,0%,0%);stroke-opacity:1;stroke-miterlimit:10;\" d=\"M 400.105469 417.453125 C 400.105469 422.972656 395.628906 427.453125 390.105469 427.453125 C 384.582031 427.453125 380.105469 422.972656 380.105469 417.453125 C 380.105469 411.929688 384.582031 407.453125 390.105469 407.453125 C 395.628906 407.453125 400.105469 411.929688 400.105469 417.453125 \"/>\n",
       "<path style=\"fill-rule:nonzero;fill:rgb(100%,0%,0%);fill-opacity:1;stroke-width:1;stroke-linecap:butt;stroke-linejoin:miter;stroke:rgb(0%,0%,0%);stroke-opacity:1;stroke-miterlimit:10;\" d=\"M 501.152344 392.296875 C 501.152344 397.816406 496.675781 402.296875 491.152344 402.296875 C 485.628906 402.296875 481.152344 397.816406 481.152344 392.296875 C 481.152344 386.773438 485.628906 382.296875 491.152344 382.296875 C 496.675781 382.296875 501.152344 386.773438 501.152344 392.296875 \"/>\n",
       "<path style=\"fill-rule:nonzero;fill:rgb(0%,100%,0%);fill-opacity:1;stroke-width:1;stroke-linecap:butt;stroke-linejoin:miter;stroke:rgb(0%,0%,0%);stroke-opacity:1;stroke-miterlimit:10;\" d=\"M 252.46875 197.179688 C 252.46875 202.703125 247.988281 207.179688 242.46875 207.179688 C 236.945312 207.179688 232.46875 202.703125 232.46875 197.179688 C 232.46875 191.65625 236.945312 187.179688 242.46875 187.179688 C 247.988281 187.179688 252.46875 191.65625 252.46875 197.179688 \"/>\n",
       "<path style=\"fill-rule:nonzero;fill:rgb(100%,0%,100%);fill-opacity:1;stroke-width:1;stroke-linecap:butt;stroke-linejoin:miter;stroke:rgb(0%,0%,0%);stroke-opacity:1;stroke-miterlimit:10;\" d=\"M 428.15625 306.851562 C 428.15625 312.375 423.679688 316.851562 418.15625 316.851562 C 412.632812 316.851562 408.15625 312.375 408.15625 306.851562 C 408.15625 301.328125 412.632812 296.851562 418.15625 296.851562 C 423.679688 296.851562 428.15625 301.328125 428.15625 306.851562 \"/>\n",
       "<path style=\"fill-rule:nonzero;fill:rgb(100%,0%,0%);fill-opacity:1;stroke-width:1;stroke-linecap:butt;stroke-linejoin:miter;stroke:rgb(0%,0%,0%);stroke-opacity:1;stroke-miterlimit:10;\" d=\"M 502.242188 474.0625 C 502.242188 479.585938 497.765625 484.0625 492.242188 484.0625 C 486.71875 484.0625 482.242188 479.585938 482.242188 474.0625 C 482.242188 468.539062 486.71875 464.0625 492.242188 464.0625 C 497.765625 464.0625 502.242188 468.539062 502.242188 474.0625 \"/>\n",
       "<path style=\"fill-rule:nonzero;fill:rgb(50.196078%,50.196078%,50.196078%);fill-opacity:1;stroke-width:1;stroke-linecap:butt;stroke-linejoin:miter;stroke:rgb(0%,0%,0%);stroke-opacity:1;stroke-miterlimit:10;\" d=\"M 485.859375 274.824219 C 485.859375 280.347656 481.382812 284.824219 475.859375 284.824219 C 470.339844 284.824219 465.859375 280.347656 465.859375 274.824219 C 465.859375 269.300781 470.339844 264.824219 475.859375 264.824219 C 481.382812 264.824219 485.859375 269.300781 485.859375 274.824219 \"/>\n",
       "<path style=\"fill-rule:nonzero;fill:rgb(100%,0%,0%);fill-opacity:1;stroke-width:1;stroke-linecap:butt;stroke-linejoin:miter;stroke:rgb(0%,0%,0%);stroke-opacity:1;stroke-miterlimit:10;\" d=\"M 515.128906 377.726562 C 515.128906 383.25 510.652344 387.726562 505.128906 387.726562 C 499.605469 387.726562 495.128906 383.25 495.128906 377.726562 C 495.128906 372.203125 499.605469 367.726562 505.128906 367.726562 C 510.652344 367.726562 515.128906 372.203125 515.128906 377.726562 \"/>\n",
       "<path style=\"fill-rule:nonzero;fill:rgb(100%,0%,0%);fill-opacity:1;stroke-width:1;stroke-linecap:butt;stroke-linejoin:miter;stroke:rgb(0%,0%,0%);stroke-opacity:1;stroke-miterlimit:10;\" d=\"M 528.675781 388.394531 C 528.675781 393.917969 524.199219 398.394531 518.675781 398.394531 C 513.15625 398.394531 508.675781 393.917969 508.675781 388.394531 C 508.675781 382.871094 513.15625 378.394531 518.675781 378.394531 C 524.199219 378.394531 528.675781 382.871094 528.675781 388.394531 \"/>\n",
       "<path style=\"fill-rule:nonzero;fill:rgb(0%,0%,100%);fill-opacity:1;stroke-width:1;stroke-linecap:butt;stroke-linejoin:miter;stroke:rgb(0%,0%,0%);stroke-opacity:1;stroke-miterlimit:10;\" d=\"M 196.035156 109.261719 C 196.035156 114.785156 191.558594 119.261719 186.035156 119.261719 C 180.511719 119.261719 176.035156 114.785156 176.035156 109.261719 C 176.035156 103.738281 180.511719 99.261719 186.035156 99.261719 C 191.558594 99.261719 196.035156 103.738281 196.035156 109.261719 \"/>\n",
       "<path style=\"fill-rule:nonzero;fill:rgb(0%,0%,100%);fill-opacity:1;stroke-width:1;stroke-linecap:butt;stroke-linejoin:miter;stroke:rgb(0%,0%,0%);stroke-opacity:1;stroke-miterlimit:10;\" d=\"M 219.269531 80.234375 C 219.269531 85.757812 214.789062 90.234375 209.269531 90.234375 C 203.746094 90.234375 199.269531 85.757812 199.269531 80.234375 C 199.269531 74.710938 203.746094 70.234375 209.269531 70.234375 C 214.789062 70.234375 219.269531 74.710938 219.269531 80.234375 \"/>\n",
       "<path style=\"fill-rule:nonzero;fill:rgb(100%,0%,0%);fill-opacity:1;stroke-width:1;stroke-linecap:butt;stroke-linejoin:miter;stroke:rgb(0%,0%,0%);stroke-opacity:1;stroke-miterlimit:10;\" d=\"M 439.925781 449.210938 C 439.925781 454.734375 435.449219 459.210938 429.925781 459.210938 C 424.402344 459.210938 419.925781 454.734375 419.925781 449.210938 C 419.925781 443.6875 424.402344 439.210938 429.925781 439.210938 C 435.449219 439.210938 439.925781 443.6875 439.925781 449.210938 \"/>\n",
       "<path style=\"fill-rule:nonzero;fill:rgb(0%,0%,100%);fill-opacity:1;stroke-width:1;stroke-linecap:butt;stroke-linejoin:miter;stroke:rgb(0%,0%,0%);stroke-opacity:1;stroke-miterlimit:10;\" d=\"M 251.824219 101.246094 C 251.824219 106.765625 247.34375 111.246094 241.824219 111.246094 C 236.300781 111.246094 231.824219 106.765625 231.824219 101.246094 C 231.824219 95.722656 236.300781 91.246094 241.824219 91.246094 C 247.34375 91.246094 251.824219 95.722656 251.824219 101.246094 \"/>\n",
       "<path style=\"fill-rule:nonzero;fill:rgb(100%,0%,100%);fill-opacity:1;stroke-width:1;stroke-linecap:butt;stroke-linejoin:miter;stroke:rgb(0%,0%,0%);stroke-opacity:1;stroke-miterlimit:10;\" d=\"M 405.890625 234.917969 C 405.890625 240.441406 401.410156 244.917969 395.890625 244.917969 C 390.367188 244.917969 385.890625 240.441406 385.890625 234.917969 C 385.890625 229.394531 390.367188 224.917969 395.890625 224.917969 C 401.410156 224.917969 405.890625 229.394531 405.890625 234.917969 \"/>\n",
       "<path style=\"fill-rule:nonzero;fill:rgb(0%,100%,0%);fill-opacity:1;stroke-width:1;stroke-linecap:butt;stroke-linejoin:miter;stroke:rgb(0%,0%,0%);stroke-opacity:1;stroke-miterlimit:10;\" d=\"M 304.148438 243.820312 C 304.148438 249.339844 299.671875 253.820312 294.148438 253.820312 C 288.625 253.820312 284.148438 249.339844 284.148438 243.820312 C 284.148438 238.296875 288.625 233.820312 294.148438 233.820312 C 299.671875 233.820312 304.148438 238.296875 304.148438 243.820312 \"/>\n",
       "<path style=\"fill-rule:nonzero;fill:rgb(0%,0%,100%);fill-opacity:1;stroke-width:1;stroke-linecap:butt;stroke-linejoin:miter;stroke:rgb(0%,0%,0%);stroke-opacity:1;stroke-miterlimit:10;\" d=\"M 244.144531 128.988281 C 244.144531 134.511719 239.667969 138.988281 234.144531 138.988281 C 228.625 138.988281 224.144531 134.511719 224.144531 128.988281 C 224.144531 123.464844 228.625 118.988281 234.144531 118.988281 C 239.667969 118.988281 244.144531 123.464844 244.144531 128.988281 \"/>\n",
       "<path style=\"fill-rule:nonzero;fill:rgb(0%,100%,0%);fill-opacity:1;stroke-width:1;stroke-linecap:butt;stroke-linejoin:miter;stroke:rgb(0%,0%,0%);stroke-opacity:1;stroke-miterlimit:10;\" d=\"M 213.375 214.605469 C 213.375 220.128906 208.894531 224.605469 203.375 224.605469 C 197.851562 224.605469 193.375 220.128906 193.375 214.605469 C 193.375 209.082031 197.851562 204.605469 203.375 204.605469 C 208.894531 204.605469 213.375 209.082031 213.375 214.605469 \"/>\n",
       "<path style=\"fill-rule:nonzero;fill:rgb(50.196078%,50.196078%,50.196078%);fill-opacity:1;stroke-width:1;stroke-linecap:butt;stroke-linejoin:miter;stroke:rgb(0%,0%,0%);stroke-opacity:1;stroke-miterlimit:10;\" d=\"M 547.117188 232.828125 C 547.117188 238.351562 542.640625 242.828125 537.117188 242.828125 C 531.59375 242.828125 527.117188 238.351562 527.117188 232.828125 C 527.117188 227.304688 531.59375 222.828125 537.117188 222.828125 C 542.640625 222.828125 547.117188 227.304688 547.117188 232.828125 \"/>\n",
       "<path style=\"fill-rule:nonzero;fill:rgb(0%,100%,100%);fill-opacity:1;stroke-width:1;stroke-linecap:butt;stroke-linejoin:miter;stroke:rgb(0%,0%,0%);stroke-opacity:1;stroke-miterlimit:10;\" d=\"M 492.289062 496.003906 C 492.289062 501.527344 487.808594 506.003906 482.289062 506.003906 C 476.765625 506.003906 472.289062 501.527344 472.289062 496.003906 C 472.289062 490.480469 476.765625 486.003906 482.289062 486.003906 C 487.808594 486.003906 492.289062 490.480469 492.289062 496.003906 \"/>\n",
       "<path style=\"fill-rule:nonzero;fill:rgb(100%,100%,0%);fill-opacity:1;stroke-width:1;stroke-linecap:butt;stroke-linejoin:miter;stroke:rgb(0%,0%,0%);stroke-opacity:1;stroke-miterlimit:10;\" d=\"M 116.746094 189.117188 C 116.746094 194.640625 112.269531 199.117188 106.746094 199.117188 C 101.222656 199.117188 96.746094 194.640625 96.746094 189.117188 C 96.746094 183.59375 101.222656 179.117188 106.746094 179.117188 C 112.269531 179.117188 116.746094 183.59375 116.746094 189.117188 \"/>\n",
       "<path style=\"fill-rule:nonzero;fill:rgb(0%,0%,100%);fill-opacity:1;stroke-width:1;stroke-linecap:butt;stroke-linejoin:miter;stroke:rgb(0%,0%,0%);stroke-opacity:1;stroke-miterlimit:10;\" d=\"M 280.28125 110.5625 C 280.28125 116.085938 275.800781 120.5625 270.28125 120.5625 C 264.757812 120.5625 260.28125 116.085938 260.28125 110.5625 C 260.28125 105.039062 264.757812 100.5625 270.28125 100.5625 C 275.800781 100.5625 280.28125 105.039062 280.28125 110.5625 \"/>\n",
       "<path style=\"fill-rule:nonzero;fill:rgb(0%,0%,100%);fill-opacity:1;stroke-width:1;stroke-linecap:butt;stroke-linejoin:miter;stroke:rgb(0%,0%,0%);stroke-opacity:1;stroke-miterlimit:10;\" d=\"M 243.019531 29.640625 C 243.019531 35.160156 238.542969 39.640625 233.019531 39.640625 C 227.496094 39.640625 223.019531 35.160156 223.019531 29.640625 C 223.019531 24.117188 227.496094 19.640625 233.019531 19.640625 C 238.542969 19.640625 243.019531 24.117188 243.019531 29.640625 \"/>\n",
       "<path style=\"fill-rule:nonzero;fill:rgb(100%,0%,0%);fill-opacity:1;stroke-width:1;stroke-linecap:butt;stroke-linejoin:miter;stroke:rgb(0%,0%,0%);stroke-opacity:1;stroke-miterlimit:10;\" d=\"M 456.953125 401.613281 C 456.953125 407.136719 452.476562 411.613281 446.953125 411.613281 C 441.429688 411.613281 436.953125 407.136719 436.953125 401.613281 C 436.953125 396.089844 441.429688 391.613281 446.953125 391.613281 C 452.476562 391.613281 456.953125 396.089844 456.953125 401.613281 \"/>\n",
       "<path style=\"fill-rule:nonzero;fill:rgb(100%,0%,0%);fill-opacity:1;stroke-width:1;stroke-linecap:butt;stroke-linejoin:miter;stroke:rgb(0%,0%,0%);stroke-opacity:1;stroke-miterlimit:10;\" d=\"M 496.730469 413.863281 C 496.730469 419.386719 492.253906 423.863281 486.730469 423.863281 C 481.207031 423.863281 476.730469 419.386719 476.730469 413.863281 C 476.730469 408.34375 481.207031 403.863281 486.730469 403.863281 C 492.253906 403.863281 496.730469 408.34375 496.730469 413.863281 \"/>\n",
       "<path style=\"fill-rule:nonzero;fill:rgb(100%,0%,100%);fill-opacity:1;stroke-width:1;stroke-linecap:butt;stroke-linejoin:miter;stroke:rgb(0%,0%,0%);stroke-opacity:1;stroke-miterlimit:10;\" d=\"M 297.113281 259.707031 C 297.113281 265.230469 292.636719 269.707031 287.113281 269.707031 C 281.59375 269.707031 277.113281 265.230469 277.113281 259.707031 C 277.113281 254.183594 281.59375 249.707031 287.113281 249.707031 C 292.636719 249.707031 297.113281 254.183594 297.113281 259.707031 \"/>\n",
       "<path style=\"fill-rule:nonzero;fill:rgb(0%,0%,100%);fill-opacity:1;stroke-width:1;stroke-linecap:butt;stroke-linejoin:miter;stroke:rgb(0%,0%,0%);stroke-opacity:1;stroke-miterlimit:10;\" d=\"M 244.789062 145.742188 C 244.789062 151.265625 240.3125 155.742188 234.789062 155.742188 C 229.265625 155.742188 224.789062 151.265625 224.789062 145.742188 C 224.789062 140.21875 229.265625 135.742188 234.789062 135.742188 C 240.3125 135.742188 244.789062 140.21875 244.789062 145.742188 \"/>\n",
       "<path style=\"fill-rule:nonzero;fill:rgb(0%,0%,100%);fill-opacity:1;stroke-width:1;stroke-linecap:butt;stroke-linejoin:miter;stroke:rgb(0%,0%,0%);stroke-opacity:1;stroke-miterlimit:10;\" d=\"M 272.992188 167.546875 C 272.992188 173.066406 268.515625 177.546875 262.992188 177.546875 C 257.46875 177.546875 252.992188 173.066406 252.992188 167.546875 C 252.992188 162.023438 257.46875 157.546875 262.992188 157.546875 C 268.515625 157.546875 272.992188 162.023438 272.992188 167.546875 \"/>\n",
       "<path style=\"fill-rule:nonzero;fill:rgb(0%,100%,0%);fill-opacity:1;stroke-width:1;stroke-linecap:butt;stroke-linejoin:miter;stroke:rgb(0%,0%,0%);stroke-opacity:1;stroke-miterlimit:10;\" d=\"M 158.007812 267.195312 C 158.007812 272.71875 153.53125 277.195312 148.007812 277.195312 C 142.484375 277.195312 138.007812 272.71875 138.007812 267.195312 C 138.007812 261.671875 142.484375 257.195312 148.007812 257.195312 C 153.53125 257.195312 158.007812 261.671875 158.007812 267.195312 \"/>\n",
       "<path style=\"fill-rule:nonzero;fill:rgb(100%,0%,0%);fill-opacity:1;stroke-width:1;stroke-linecap:butt;stroke-linejoin:miter;stroke:rgb(0%,0%,0%);stroke-opacity:1;stroke-miterlimit:10;\" d=\"M 429.335938 455.332031 C 429.335938 460.855469 424.859375 465.332031 419.335938 465.332031 C 413.8125 465.332031 409.335938 460.855469 409.335938 455.332031 C 409.335938 449.808594 413.8125 445.332031 419.335938 445.332031 C 424.859375 445.332031 429.335938 449.808594 429.335938 455.332031 \"/>\n",
       "<path style=\"fill-rule:nonzero;fill:rgb(0%,0%,100%);fill-opacity:1;stroke-width:1;stroke-linecap:butt;stroke-linejoin:miter;stroke:rgb(0%,0%,0%);stroke-opacity:1;stroke-miterlimit:10;\" d=\"M 249.074219 115.542969 C 249.074219 121.066406 244.597656 125.542969 239.074219 125.542969 C 233.554688 125.542969 229.074219 121.066406 229.074219 115.542969 C 229.074219 110.019531 233.554688 105.542969 239.074219 105.542969 C 244.597656 105.542969 249.074219 110.019531 249.074219 115.542969 \"/>\n",
       "<path style=\"fill-rule:nonzero;fill:rgb(100%,0%,100%);fill-opacity:1;stroke-width:1;stroke-linecap:butt;stroke-linejoin:miter;stroke:rgb(0%,0%,0%);stroke-opacity:1;stroke-miterlimit:10;\" d=\"M 435.257812 252.027344 C 435.257812 257.550781 430.78125 262.027344 425.257812 262.027344 C 419.734375 262.027344 415.257812 257.550781 415.257812 252.027344 C 415.257812 246.507812 419.734375 242.027344 425.257812 242.027344 C 430.78125 242.027344 435.257812 246.507812 435.257812 252.027344 \"/>\n",
       "<path style=\"fill-rule:nonzero;fill:rgb(0%,0%,100%);fill-opacity:1;stroke-width:1;stroke-linecap:butt;stroke-linejoin:miter;stroke:rgb(0%,0%,0%);stroke-opacity:1;stroke-miterlimit:10;\" d=\"M 205.742188 69.597656 C 205.742188 75.121094 201.261719 79.597656 195.742188 79.597656 C 190.21875 79.597656 185.742188 75.121094 185.742188 69.597656 C 185.742188 64.074219 190.21875 59.597656 195.742188 59.597656 C 201.261719 59.597656 205.742188 64.074219 205.742188 69.597656 \"/>\n",
       "<path style=\"fill-rule:nonzero;fill:rgb(100%,0%,100%);fill-opacity:1;stroke-width:1;stroke-linecap:butt;stroke-linejoin:miter;stroke:rgb(0%,0%,0%);stroke-opacity:1;stroke-miterlimit:10;\" d=\"M 424.40625 225.1875 C 424.40625 230.710938 419.929688 235.1875 414.40625 235.1875 C 408.882812 235.1875 404.40625 230.710938 404.40625 225.1875 C 404.40625 219.667969 408.882812 215.1875 414.40625 215.1875 C 419.929688 215.1875 424.40625 219.667969 424.40625 225.1875 \"/>\n",
       "<path style=\"fill-rule:nonzero;fill:rgb(100%,0%,0%);fill-opacity:1;stroke-width:1;stroke-linecap:butt;stroke-linejoin:miter;stroke:rgb(0%,0%,0%);stroke-opacity:1;stroke-miterlimit:10;\" d=\"M 408.46875 436.332031 C 408.46875 441.855469 403.992188 446.332031 398.46875 446.332031 C 392.945312 446.332031 388.46875 441.855469 388.46875 436.332031 C 388.46875 430.808594 392.945312 426.332031 398.46875 426.332031 C 403.992188 426.332031 408.46875 430.808594 408.46875 436.332031 \"/>\n",
       "<path style=\"fill-rule:nonzero;fill:rgb(100%,0%,0%);fill-opacity:1;stroke-width:1;stroke-linecap:butt;stroke-linejoin:miter;stroke:rgb(0%,0%,0%);stroke-opacity:1;stroke-miterlimit:10;\" d=\"M 395.34375 431.664062 C 395.34375 437.1875 390.867188 441.664062 385.34375 441.664062 C 379.820312 441.664062 375.34375 437.1875 375.34375 431.664062 C 375.34375 426.140625 379.820312 421.664062 385.34375 421.664062 C 390.867188 421.664062 395.34375 426.140625 395.34375 431.664062 \"/>\n",
       "<path style=\"fill-rule:nonzero;fill:rgb(100%,0%,0%);fill-opacity:1;stroke-width:1;stroke-linecap:butt;stroke-linejoin:miter;stroke:rgb(0%,0%,0%);stroke-opacity:1;stroke-miterlimit:10;\" d=\"M 470.152344 344.363281 C 470.152344 349.886719 465.675781 354.363281 460.152344 354.363281 C 454.628906 354.363281 450.152344 349.886719 450.152344 344.363281 C 450.152344 338.839844 454.628906 334.363281 460.152344 334.363281 C 465.675781 334.363281 470.152344 338.839844 470.152344 344.363281 \"/>\n",
       "<path style=\"fill-rule:nonzero;fill:rgb(0%,100%,0%);fill-opacity:1;stroke-width:1;stroke-linecap:butt;stroke-linejoin:miter;stroke:rgb(0%,0%,0%);stroke-opacity:1;stroke-miterlimit:10;\" d=\"M 232.148438 225.476562 C 232.148438 230.996094 227.671875 235.476562 222.148438 235.476562 C 216.625 235.476562 212.148438 230.996094 212.148438 225.476562 C 212.148438 219.953125 216.625 215.476562 222.148438 215.476562 C 227.671875 215.476562 232.148438 219.953125 232.148438 225.476562 \"/>\n",
       "<path style=\"fill-rule:nonzero;fill:rgb(100%,0%,0%);fill-opacity:1;stroke-width:1;stroke-linecap:butt;stroke-linejoin:miter;stroke:rgb(0%,0%,0%);stroke-opacity:1;stroke-miterlimit:10;\" d=\"M 500.1875 513.960938 C 500.1875 519.484375 495.710938 523.960938 490.1875 523.960938 C 484.664062 523.960938 480.1875 519.484375 480.1875 513.960938 C 480.1875 508.4375 484.664062 503.960938 490.1875 503.960938 C 495.710938 503.960938 500.1875 508.4375 500.1875 513.960938 \"/>\n",
       "<path style=\"fill-rule:nonzero;fill:rgb(0%,100%,0%);fill-opacity:1;stroke-width:1;stroke-linecap:butt;stroke-linejoin:miter;stroke:rgb(0%,0%,0%);stroke-opacity:1;stroke-miterlimit:10;\" d=\"M 319.429688 233.507812 C 319.429688 239.03125 314.953125 243.507812 309.429688 243.507812 C 303.910156 243.507812 299.429688 239.03125 299.429688 233.507812 C 299.429688 227.984375 303.910156 223.507812 309.429688 223.507812 C 314.953125 223.507812 319.429688 227.984375 319.429688 233.507812 \"/>\n",
       "<path style=\"fill-rule:nonzero;fill:rgb(0%,0%,100%);fill-opacity:1;stroke-width:1;stroke-linecap:butt;stroke-linejoin:miter;stroke:rgb(0%,0%,0%);stroke-opacity:1;stroke-miterlimit:10;\" d=\"M 264.214844 105.289062 C 264.214844 110.8125 259.734375 115.289062 254.214844 115.289062 C 248.691406 115.289062 244.214844 110.8125 244.214844 105.289062 C 244.214844 99.765625 248.691406 95.289062 254.214844 95.289062 C 259.734375 95.289062 264.214844 99.765625 264.214844 105.289062 \"/>\n",
       "<path style=\"fill-rule:nonzero;fill:rgb(100%,0%,0%);fill-opacity:1;stroke-width:1;stroke-linecap:butt;stroke-linejoin:miter;stroke:rgb(0%,0%,0%);stroke-opacity:1;stroke-miterlimit:10;\" d=\"M 547.429688 313.832031 C 547.429688 319.355469 542.953125 323.832031 537.429688 323.832031 C 531.910156 323.832031 527.429688 319.355469 527.429688 313.832031 C 527.429688 308.308594 531.910156 303.832031 537.429688 303.832031 C 542.953125 303.832031 547.429688 308.308594 547.429688 313.832031 \"/>\n",
       "<path style=\"fill-rule:nonzero;fill:rgb(100%,0%,0%);fill-opacity:1;stroke-width:1;stroke-linecap:butt;stroke-linejoin:miter;stroke:rgb(0%,0%,0%);stroke-opacity:1;stroke-miterlimit:10;\" d=\"M 491.1875 397.644531 C 491.1875 403.164062 486.710938 407.644531 481.1875 407.644531 C 475.664062 407.644531 471.1875 403.164062 471.1875 397.644531 C 471.1875 392.121094 475.664062 387.644531 481.1875 387.644531 C 486.710938 387.644531 491.1875 392.121094 491.1875 397.644531 \"/>\n",
       "<path style=\"fill-rule:nonzero;fill:rgb(0%,0%,100%);fill-opacity:1;stroke-width:1;stroke-linecap:butt;stroke-linejoin:miter;stroke:rgb(0%,0%,0%);stroke-opacity:1;stroke-miterlimit:10;\" d=\"M 304.792969 33.9375 C 304.792969 39.460938 300.316406 43.9375 294.792969 43.9375 C 289.269531 43.9375 284.792969 39.460938 284.792969 33.9375 C 284.792969 28.417969 289.269531 23.9375 294.792969 23.9375 C 300.316406 23.9375 304.792969 28.417969 304.792969 33.9375 \"/>\n",
       "<path style=\"fill-rule:nonzero;fill:rgb(0%,0%,100%);fill-opacity:1;stroke-width:1;stroke-linecap:butt;stroke-linejoin:miter;stroke:rgb(0%,0%,0%);stroke-opacity:1;stroke-miterlimit:10;\" d=\"M 218.371094 63.835938 C 218.371094 69.355469 213.890625 73.835938 208.371094 73.835938 C 202.847656 73.835938 198.371094 69.355469 198.371094 63.835938 C 198.371094 58.3125 202.847656 53.835938 208.371094 53.835938 C 213.890625 53.835938 218.371094 58.3125 218.371094 63.835938 \"/>\n",
       "<path style=\"fill-rule:nonzero;fill:rgb(100%,0%,100%);fill-opacity:1;stroke-width:1;stroke-linecap:butt;stroke-linejoin:miter;stroke:rgb(0%,0%,0%);stroke-opacity:1;stroke-miterlimit:10;\" d=\"M 405.804688 264.339844 C 405.804688 269.863281 401.328125 274.339844 395.804688 274.339844 C 390.285156 274.339844 385.804688 269.863281 385.804688 264.339844 C 385.804688 258.816406 390.285156 254.339844 395.804688 254.339844 C 401.328125 254.339844 405.804688 258.816406 405.804688 264.339844 \"/>\n",
       "<path style=\"fill-rule:nonzero;fill:rgb(50.196078%,50.196078%,50.196078%);fill-opacity:1;stroke-width:1;stroke-linecap:butt;stroke-linejoin:miter;stroke:rgb(0%,0%,0%);stroke-opacity:1;stroke-miterlimit:10;\" d=\"M 543.21875 214.925781 C 543.21875 220.449219 538.742188 224.925781 533.21875 224.925781 C 527.695312 224.925781 523.21875 220.449219 523.21875 214.925781 C 523.21875 209.402344 527.695312 204.925781 533.21875 204.925781 C 538.742188 204.925781 543.21875 209.402344 543.21875 214.925781 \"/>\n",
       "<path style=\"fill-rule:nonzero;fill:rgb(100%,100%,0%);fill-opacity:1;stroke-width:1;stroke-linecap:butt;stroke-linejoin:miter;stroke:rgb(0%,0%,0%);stroke-opacity:1;stroke-miterlimit:10;\" d=\"M 79.324219 239.929688 C 79.324219 245.453125 74.847656 249.929688 69.324219 249.929688 C 63.804688 249.929688 59.324219 245.453125 59.324219 239.929688 C 59.324219 234.40625 63.804688 229.929688 69.324219 229.929688 C 74.847656 229.929688 79.324219 234.40625 79.324219 239.929688 \"/>\n",
       "<path style=\"fill-rule:nonzero;fill:rgb(100%,0%,0%);fill-opacity:1;stroke-width:1;stroke-linecap:butt;stroke-linejoin:miter;stroke:rgb(0%,0%,0%);stroke-opacity:1;stroke-miterlimit:10;\" d=\"M 446.652344 386.382812 C 446.652344 391.90625 442.175781 396.382812 436.652344 396.382812 C 431.128906 396.382812 426.652344 391.90625 426.652344 386.382812 C 426.652344 380.859375 431.128906 376.382812 436.652344 376.382812 C 442.175781 376.382812 446.652344 380.859375 446.652344 386.382812 \"/>\n",
       "<path style=\"fill-rule:nonzero;fill:rgb(100%,0%,0%);fill-opacity:1;stroke-width:1;stroke-linecap:butt;stroke-linejoin:miter;stroke:rgb(0%,0%,0%);stroke-opacity:1;stroke-miterlimit:10;\" d=\"M 419.332031 380.828125 C 419.332031 386.347656 414.855469 390.828125 409.332031 390.828125 C 403.808594 390.828125 399.332031 386.347656 399.332031 380.828125 C 399.332031 375.304688 403.808594 370.828125 409.332031 370.828125 C 414.855469 370.828125 419.332031 375.304688 419.332031 380.828125 \"/>\n",
       "<path style=\"fill-rule:nonzero;fill:rgb(100%,0%,0%);fill-opacity:1;stroke-width:1;stroke-linecap:butt;stroke-linejoin:miter;stroke:rgb(0%,0%,0%);stroke-opacity:1;stroke-miterlimit:10;\" d=\"M 537.355469 432.828125 C 537.355469 438.351562 532.878906 442.828125 527.355469 442.828125 C 521.832031 442.828125 517.355469 438.351562 517.355469 432.828125 C 517.355469 427.304688 521.832031 422.828125 527.355469 422.828125 C 532.878906 422.828125 537.355469 427.304688 537.355469 432.828125 \"/>\n",
       "<path style=\"fill-rule:nonzero;fill:rgb(100%,100%,0%);fill-opacity:1;stroke-width:1;stroke-linecap:butt;stroke-linejoin:miter;stroke:rgb(0%,0%,0%);stroke-opacity:1;stroke-miterlimit:10;\" d=\"M 103.285156 185.03125 C 103.285156 190.554688 98.808594 195.03125 93.285156 195.03125 C 87.761719 195.03125 83.285156 190.554688 83.285156 185.03125 C 83.285156 179.507812 87.761719 175.03125 93.285156 175.03125 C 98.808594 175.03125 103.285156 179.507812 103.285156 185.03125 \"/>\n",
       "<path style=\"fill-rule:nonzero;fill:rgb(100%,0%,0%);fill-opacity:1;stroke-width:1;stroke-linecap:butt;stroke-linejoin:miter;stroke:rgb(0%,0%,0%);stroke-opacity:1;stroke-miterlimit:10;\" d=\"M 511.453125 402.464844 C 511.453125 407.988281 506.976562 412.464844 501.453125 412.464844 C 495.933594 412.464844 491.453125 407.988281 491.453125 402.464844 C 491.453125 396.941406 495.933594 392.464844 501.453125 392.464844 C 506.976562 392.464844 511.453125 396.941406 511.453125 402.464844 \"/>\n",
       "<path style=\"fill-rule:nonzero;fill:rgb(0%,0%,100%);fill-opacity:1;stroke-width:1;stroke-linecap:butt;stroke-linejoin:miter;stroke:rgb(0%,0%,0%);stroke-opacity:1;stroke-miterlimit:10;\" d=\"M 332.179688 109.15625 C 332.179688 114.679688 327.703125 119.15625 322.179688 119.15625 C 316.65625 119.15625 312.179688 114.679688 312.179688 109.15625 C 312.179688 103.632812 316.65625 99.15625 322.179688 99.15625 C 327.703125 99.15625 332.179688 103.632812 332.179688 109.15625 \"/>\n",
       "<path style=\"fill-rule:nonzero;fill:rgb(0%,0%,100%);fill-opacity:1;stroke-width:1;stroke-linecap:butt;stroke-linejoin:miter;stroke:rgb(0%,0%,0%);stroke-opacity:1;stroke-miterlimit:10;\" d=\"M 219.40625 130.5 C 219.40625 136.019531 214.925781 140.5 209.40625 140.5 C 203.882812 140.5 199.40625 136.019531 199.40625 130.5 C 199.40625 124.976562 203.882812 120.5 209.40625 120.5 C 214.925781 120.5 219.40625 124.976562 219.40625 130.5 \"/>\n",
       "<path style=\"fill-rule:nonzero;fill:rgb(100%,0%,0%);fill-opacity:1;stroke-width:1;stroke-linecap:butt;stroke-linejoin:miter;stroke:rgb(0%,0%,0%);stroke-opacity:1;stroke-miterlimit:10;\" d=\"M 587.957031 417.769531 C 587.957031 423.292969 583.480469 427.769531 577.957031 427.769531 C 572.433594 427.769531 567.957031 423.292969 567.957031 417.769531 C 567.957031 412.246094 572.433594 407.769531 577.957031 407.769531 C 583.480469 407.769531 587.957031 412.246094 587.957031 417.769531 \"/>\n",
       "<path style=\"fill-rule:nonzero;fill:rgb(100%,0%,0%);fill-opacity:1;stroke-width:1;stroke-linecap:butt;stroke-linejoin:miter;stroke:rgb(0%,0%,0%);stroke-opacity:1;stroke-miterlimit:10;\" d=\"M 546.988281 463.160156 C 546.988281 468.683594 542.511719 473.160156 536.988281 473.160156 C 531.46875 473.160156 526.988281 468.683594 526.988281 463.160156 C 526.988281 457.636719 531.46875 453.160156 536.988281 453.160156 C 542.511719 453.160156 546.988281 457.636719 546.988281 463.160156 \"/>\n",
       "<path style=\"fill-rule:nonzero;fill:rgb(100%,0%,0%);fill-opacity:1;stroke-width:1;stroke-linecap:butt;stroke-linejoin:miter;stroke:rgb(0%,0%,0%);stroke-opacity:1;stroke-miterlimit:10;\" d=\"M 522.019531 358.507812 C 522.019531 364.027344 517.542969 368.507812 512.019531 368.507812 C 506.5 368.507812 502.019531 364.027344 502.019531 358.507812 C 502.019531 352.984375 506.5 348.507812 512.019531 348.507812 C 517.542969 348.507812 522.019531 352.984375 522.019531 358.507812 \"/>\n",
       "<path style=\"fill-rule:nonzero;fill:rgb(0%,0%,100%);fill-opacity:1;stroke-width:1;stroke-linecap:butt;stroke-linejoin:miter;stroke:rgb(0%,0%,0%);stroke-opacity:1;stroke-miterlimit:10;\" d=\"M 302.949219 80.453125 C 302.949219 85.976562 298.46875 90.453125 292.949219 90.453125 C 287.425781 90.453125 282.949219 85.976562 282.949219 80.453125 C 282.949219 74.929688 287.425781 70.453125 292.949219 70.453125 C 298.46875 70.453125 302.949219 74.929688 302.949219 80.453125 \"/>\n",
       "<path style=\"fill-rule:nonzero;fill:rgb(0%,0%,100%);fill-opacity:1;stroke-width:1;stroke-linecap:butt;stroke-linejoin:miter;stroke:rgb(0%,0%,0%);stroke-opacity:1;stroke-miterlimit:10;\" d=\"M 208.34375 92.53125 C 208.34375 98.054688 203.863281 102.53125 198.34375 102.53125 C 192.820312 102.53125 188.34375 98.054688 188.34375 92.53125 C 188.34375 87.011719 192.820312 82.53125 198.34375 82.53125 C 203.863281 82.53125 208.34375 87.011719 208.34375 92.53125 \"/>\n",
       "<path style=\"fill-rule:nonzero;fill:rgb(100%,0%,0%);fill-opacity:1;stroke-width:1;stroke-linecap:butt;stroke-linejoin:miter;stroke:rgb(0%,0%,0%);stroke-opacity:1;stroke-miterlimit:10;\" d=\"M 517.46875 502.957031 C 517.46875 508.480469 512.992188 512.957031 507.46875 512.957031 C 501.945312 512.957031 497.46875 508.480469 497.46875 502.957031 C 497.46875 497.433594 501.945312 492.957031 507.46875 492.957031 C 512.992188 492.957031 517.46875 497.433594 517.46875 502.957031 \"/>\n",
       "<path style=\"fill-rule:nonzero;fill:rgb(100%,0%,0%);fill-opacity:1;stroke-width:1;stroke-linecap:butt;stroke-linejoin:miter;stroke:rgb(0%,0%,0%);stroke-opacity:1;stroke-miterlimit:10;\" d=\"M 486.882812 479.230469 C 486.882812 484.75 482.40625 489.230469 476.882812 489.230469 C 471.359375 489.230469 466.882812 484.75 466.882812 479.230469 C 466.882812 473.707031 471.359375 469.230469 476.882812 469.230469 C 482.40625 469.230469 486.882812 473.707031 486.882812 479.230469 \"/>\n",
       "<path style=\"fill-rule:nonzero;fill:rgb(0%,0%,100%);fill-opacity:1;stroke-width:1;stroke-linecap:butt;stroke-linejoin:miter;stroke:rgb(0%,0%,0%);stroke-opacity:1;stroke-miterlimit:10;\" d=\"M 275.125 96.019531 C 275.125 101.542969 270.648438 106.019531 265.125 106.019531 C 259.605469 106.019531 255.125 101.542969 255.125 96.019531 C 255.125 90.496094 259.605469 86.019531 265.125 86.019531 C 270.648438 86.019531 275.125 90.496094 275.125 96.019531 \"/>\n",
       "<path style=\"fill-rule:nonzero;fill:rgb(100%,100%,0%);fill-opacity:1;stroke-width:1;stroke-linecap:butt;stroke-linejoin:miter;stroke:rgb(0%,0%,0%);stroke-opacity:1;stroke-miterlimit:10;\" d=\"M 113.917969 170.976562 C 113.917969 176.5 109.441406 180.976562 103.917969 180.976562 C 98.394531 180.976562 93.917969 176.5 93.917969 170.976562 C 93.917969 165.453125 98.394531 160.976562 103.917969 160.976562 C 109.441406 160.976562 113.917969 165.453125 113.917969 170.976562 \"/>\n",
       "<path style=\"fill-rule:nonzero;fill:rgb(0%,100%,0%);fill-opacity:1;stroke-width:1;stroke-linecap:butt;stroke-linejoin:miter;stroke:rgb(0%,0%,0%);stroke-opacity:1;stroke-miterlimit:10;\" d=\"M 340.945312 217.011719 C 340.945312 222.53125 336.46875 227.011719 330.945312 227.011719 C 325.421875 227.011719 320.945312 222.53125 320.945312 217.011719 C 320.945312 211.488281 325.421875 207.011719 330.945312 207.011719 C 336.46875 207.011719 340.945312 211.488281 340.945312 217.011719 \"/>\n",
       "<path style=\"fill-rule:nonzero;fill:rgb(100%,100%,0%);fill-opacity:1;stroke-width:1;stroke-linecap:butt;stroke-linejoin:miter;stroke:rgb(0%,0%,0%);stroke-opacity:1;stroke-miterlimit:10;\" d=\"M 67.796875 191.921875 C 67.796875 197.445312 63.320312 201.921875 57.796875 201.921875 C 52.273438 201.921875 47.796875 197.445312 47.796875 191.921875 C 47.796875 186.398438 52.273438 181.921875 57.796875 181.921875 C 63.320312 181.921875 67.796875 186.398438 67.796875 191.921875 \"/>\n",
       "<path style=\"fill-rule:nonzero;fill:rgb(0%,100%,0%);fill-opacity:1;stroke-width:1;stroke-linecap:butt;stroke-linejoin:miter;stroke:rgb(0%,0%,0%);stroke-opacity:1;stroke-miterlimit:10;\" d=\"M 270.511719 201.714844 C 270.511719 207.234375 266.035156 211.714844 260.511719 211.714844 C 254.988281 211.714844 250.511719 207.234375 250.511719 201.714844 C 250.511719 196.191406 254.988281 191.714844 260.511719 191.714844 C 266.035156 191.714844 270.511719 196.191406 270.511719 201.714844 \"/>\n",
       "<path style=\"fill-rule:nonzero;fill:rgb(0%,100%,100%);fill-opacity:1;stroke-width:1;stroke-linecap:butt;stroke-linejoin:miter;stroke:rgb(0%,0%,0%);stroke-opacity:1;stroke-miterlimit:10;\" d=\"M 470.160156 554.976562 C 470.160156 560.5 465.683594 564.976562 460.160156 564.976562 C 454.636719 564.976562 450.160156 560.5 450.160156 554.976562 C 450.160156 549.457031 454.636719 544.976562 460.160156 544.976562 C 465.683594 544.976562 470.160156 549.457031 470.160156 554.976562 \"/>\n",
       "<path style=\"fill-rule:nonzero;fill:rgb(50.196078%,50.196078%,50.196078%);fill-opacity:1;stroke-width:1;stroke-linecap:butt;stroke-linejoin:miter;stroke:rgb(0%,0%,0%);stroke-opacity:1;stroke-miterlimit:10;\" d=\"M 562.996094 254.09375 C 562.996094 259.617188 558.515625 264.09375 552.996094 264.09375 C 547.472656 264.09375 542.996094 259.617188 542.996094 254.09375 C 542.996094 248.570312 547.472656 244.09375 552.996094 244.09375 C 558.515625 244.09375 562.996094 248.570312 562.996094 254.09375 \"/>\n",
       "<path style=\"fill-rule:nonzero;fill:rgb(100%,100%,0%);fill-opacity:1;stroke-width:1;stroke-linecap:butt;stroke-linejoin:miter;stroke:rgb(0%,0%,0%);stroke-opacity:1;stroke-miterlimit:10;\" d=\"M 84.492188 211.769531 C 84.492188 217.289062 80.011719 221.769531 74.492188 221.769531 C 68.96875 221.769531 64.492188 217.289062 64.492188 211.769531 C 64.492188 206.246094 68.96875 201.769531 74.492188 201.769531 C 80.011719 201.769531 84.492188 206.246094 84.492188 211.769531 \"/>\n",
       "<path style=\"fill-rule:nonzero;fill:rgb(0%,0%,100%);fill-opacity:1;stroke-width:1;stroke-linecap:butt;stroke-linejoin:miter;stroke:rgb(0%,0%,0%);stroke-opacity:1;stroke-miterlimit:10;\" d=\"M 255.808594 20 C 255.808594 25.523438 251.332031 30 245.808594 30 C 240.289062 30 235.808594 25.523438 235.808594 20 C 235.808594 14.476562 240.289062 10 245.808594 10 C 251.332031 10 255.808594 14.476562 255.808594 20 \"/>\n",
       "<path style=\"fill-rule:nonzero;fill:rgb(100%,100%,0%);fill-opacity:1;stroke-width:1;stroke-linecap:butt;stroke-linejoin:miter;stroke:rgb(0%,0%,0%);stroke-opacity:1;stroke-miterlimit:10;\" d=\"M 105.984375 262.394531 C 105.984375 267.917969 101.507812 272.394531 95.984375 272.394531 C 90.460938 272.394531 85.984375 267.917969 85.984375 262.394531 C 85.984375 256.871094 90.460938 252.394531 95.984375 252.394531 C 101.507812 252.394531 105.984375 256.871094 105.984375 262.394531 \"/>\n",
       "<path style=\"fill-rule:nonzero;fill:rgb(0%,0%,100%);fill-opacity:1;stroke-width:1;stroke-linecap:butt;stroke-linejoin:miter;stroke:rgb(0%,0%,0%);stroke-opacity:1;stroke-miterlimit:10;\" d=\"M 266.183594 34.398438 C 266.183594 39.917969 261.707031 44.398438 256.183594 44.398438 C 250.660156 44.398438 246.183594 39.917969 246.183594 34.398438 C 246.183594 28.875 250.660156 24.398438 256.183594 24.398438 C 261.707031 24.398438 266.183594 28.875 266.183594 34.398438 \"/>\n",
       "<path style=\"fill-rule:nonzero;fill:rgb(100%,100%,0%);fill-opacity:1;stroke-width:1;stroke-linecap:butt;stroke-linejoin:miter;stroke:rgb(0%,0%,0%);stroke-opacity:1;stroke-miterlimit:10;\" d=\"M 147.289062 171.734375 C 147.289062 177.257812 142.808594 181.734375 137.289062 181.734375 C 131.765625 181.734375 127.289062 177.257812 127.289062 171.734375 C 127.289062 166.210938 131.765625 161.734375 137.289062 161.734375 C 142.808594 161.734375 147.289062 166.210938 147.289062 171.734375 \"/>\n",
       "<path style=\"fill-rule:nonzero;fill:rgb(0%,100%,0%);fill-opacity:1;stroke-width:1;stroke-linecap:butt;stroke-linejoin:miter;stroke:rgb(0%,0%,0%);stroke-opacity:1;stroke-miterlimit:10;\" d=\"M 341.480469 302.585938 C 341.480469 308.109375 337.003906 312.585938 331.480469 312.585938 C 325.957031 312.585938 321.480469 308.109375 321.480469 302.585938 C 321.480469 297.0625 325.957031 292.585938 331.480469 292.585938 C 337.003906 292.585938 341.480469 297.0625 341.480469 302.585938 \"/>\n",
       "<path style=\"fill-rule:nonzero;fill:rgb(0%,0%,100%);fill-opacity:1;stroke-width:1;stroke-linecap:butt;stroke-linejoin:miter;stroke:rgb(0%,0%,0%);stroke-opacity:1;stroke-miterlimit:10;\" d=\"M 307.382812 155.558594 C 307.382812 161.078125 302.90625 165.558594 297.382812 165.558594 C 291.859375 165.558594 287.382812 161.078125 287.382812 155.558594 C 287.382812 150.035156 291.859375 145.558594 297.382812 145.558594 C 302.90625 145.558594 307.382812 150.035156 307.382812 155.558594 \"/>\n",
       "<path style=\"fill-rule:nonzero;fill:rgb(0%,100%,0%);fill-opacity:1;stroke-width:1;stroke-linecap:butt;stroke-linejoin:miter;stroke:rgb(0%,0%,0%);stroke-opacity:1;stroke-miterlimit:10;\" d=\"M 288.203125 282.894531 C 288.203125 288.417969 283.726562 292.894531 278.203125 292.894531 C 272.679688 292.894531 268.203125 288.417969 268.203125 282.894531 C 268.203125 277.371094 272.679688 272.894531 278.203125 272.894531 C 283.726562 272.894531 288.203125 277.371094 288.203125 282.894531 \"/>\n",
       "<path style=\"fill-rule:nonzero;fill:rgb(0%,100%,0%);fill-opacity:1;stroke-width:1;stroke-linecap:butt;stroke-linejoin:miter;stroke:rgb(0%,0%,0%);stroke-opacity:1;stroke-miterlimit:10;\" d=\"M 283.804688 199.90625 C 283.804688 205.429688 279.328125 209.90625 273.804688 209.90625 C 268.285156 209.90625 263.804688 205.429688 263.804688 199.90625 C 263.804688 194.382812 268.285156 189.90625 273.804688 189.90625 C 279.328125 189.90625 283.804688 194.382812 283.804688 199.90625 \"/>\n",
       "<path style=\"fill-rule:nonzero;fill:rgb(100%,0%,100%);fill-opacity:1;stroke-width:1;stroke-linecap:butt;stroke-linejoin:miter;stroke:rgb(0%,0%,0%);stroke-opacity:1;stroke-miterlimit:10;\" d=\"M 391.074219 206.058594 C 391.074219 211.582031 386.597656 216.058594 381.074219 216.058594 C 375.550781 216.058594 371.074219 211.582031 371.074219 206.058594 C 371.074219 200.535156 375.550781 196.058594 381.074219 196.058594 C 386.597656 196.058594 391.074219 200.535156 391.074219 206.058594 \"/>\n",
       "<path style=\"fill-rule:nonzero;fill:rgb(100%,0%,100%);fill-opacity:1;stroke-width:1;stroke-linecap:butt;stroke-linejoin:miter;stroke:rgb(0%,0%,0%);stroke-opacity:1;stroke-miterlimit:10;\" d=\"M 434.71875 206.007812 C 434.71875 211.527344 430.242188 216.007812 424.71875 216.007812 C 419.195312 216.007812 414.71875 211.527344 414.71875 206.007812 C 414.71875 200.484375 419.195312 196.007812 424.71875 196.007812 C 430.242188 196.007812 434.71875 200.484375 434.71875 206.007812 \"/>\n",
       "<path style=\"fill-rule:nonzero;fill:rgb(0%,0%,100%);fill-opacity:1;stroke-width:1;stroke-linecap:butt;stroke-linejoin:miter;stroke:rgb(0%,0%,0%);stroke-opacity:1;stroke-miterlimit:10;\" d=\"M 226.78125 30.785156 C 226.78125 36.308594 222.304688 40.785156 216.78125 40.785156 C 211.261719 40.785156 206.78125 36.308594 206.78125 30.785156 C 206.78125 25.261719 211.261719 20.785156 216.78125 20.785156 C 222.304688 20.785156 226.78125 25.261719 226.78125 30.785156 \"/>\n",
       "<path style=\"fill-rule:nonzero;fill:rgb(100%,100%,0%);fill-opacity:1;stroke-width:1;stroke-linecap:butt;stroke-linejoin:miter;stroke:rgb(0%,0%,0%);stroke-opacity:1;stroke-miterlimit:10;\" d=\"M 84.328125 197.410156 C 84.328125 202.933594 79.851562 207.410156 74.328125 207.410156 C 68.804688 207.410156 64.328125 202.933594 64.328125 197.410156 C 64.328125 191.890625 68.804688 187.410156 74.328125 187.410156 C 79.851562 187.410156 84.328125 191.890625 84.328125 197.410156 \"/>\n",
       "<path style=\"fill-rule:nonzero;fill:rgb(0%,0%,100%);fill-opacity:1;stroke-width:1;stroke-linecap:butt;stroke-linejoin:miter;stroke:rgb(0%,0%,0%);stroke-opacity:1;stroke-miterlimit:10;\" d=\"M 232.257812 67.820312 C 232.257812 73.34375 227.777344 77.820312 222.257812 77.820312 C 216.734375 77.820312 212.257812 73.34375 212.257812 67.820312 C 212.257812 62.296875 216.734375 57.820312 222.257812 57.820312 C 227.777344 57.820312 232.257812 62.296875 232.257812 67.820312 \"/>\n",
       "<path style=\"fill-rule:nonzero;fill:rgb(0%,0%,100%);fill-opacity:1;stroke-width:1;stroke-linecap:butt;stroke-linejoin:miter;stroke:rgb(0%,0%,0%);stroke-opacity:1;stroke-miterlimit:10;\" d=\"M 263.386719 86.726562 C 263.386719 92.25 258.910156 96.726562 253.386719 96.726562 C 247.867188 96.726562 243.386719 92.25 243.386719 86.726562 C 243.386719 81.207031 247.867188 76.726562 253.386719 76.726562 C 258.910156 76.726562 263.386719 81.207031 263.386719 86.726562 \"/>\n",
       "<path style=\"fill-rule:nonzero;fill:rgb(100%,100%,0%);fill-opacity:1;stroke-width:1;stroke-linecap:butt;stroke-linejoin:miter;stroke:rgb(0%,0%,0%);stroke-opacity:1;stroke-miterlimit:10;\" d=\"M 82.3125 178.917969 C 82.3125 184.441406 77.835938 188.917969 72.3125 188.917969 C 66.789062 188.917969 62.3125 184.441406 62.3125 178.917969 C 62.3125 173.394531 66.789062 168.917969 72.3125 168.917969 C 77.835938 168.917969 82.3125 173.394531 82.3125 178.917969 \"/>\n",
       "<path style=\"fill-rule:nonzero;fill:rgb(100%,0%,100%);fill-opacity:1;stroke-width:1;stroke-linecap:butt;stroke-linejoin:miter;stroke:rgb(0%,0%,0%);stroke-opacity:1;stroke-miterlimit:10;\" d=\"M 453.582031 228.695312 C 453.582031 234.21875 449.105469 238.695312 443.582031 238.695312 C 438.058594 238.695312 433.582031 234.21875 433.582031 228.695312 C 433.582031 223.175781 438.058594 218.695312 443.582031 218.695312 C 449.105469 218.695312 453.582031 223.175781 453.582031 228.695312 \"/>\n",
       "<path style=\"fill-rule:nonzero;fill:rgb(100%,0%,0%);fill-opacity:1;stroke-width:1;stroke-linecap:butt;stroke-linejoin:miter;stroke:rgb(0%,0%,0%);stroke-opacity:1;stroke-miterlimit:10;\" d=\"M 400.761719 447.152344 C 400.761719 452.675781 396.285156 457.152344 390.761719 457.152344 C 385.242188 457.152344 380.761719 452.675781 380.761719 447.152344 C 380.761719 441.628906 385.242188 437.152344 390.761719 437.152344 C 396.285156 437.152344 400.761719 441.628906 400.761719 447.152344 \"/>\n",
       "<path style=\"fill-rule:nonzero;fill:rgb(0%,0%,100%);fill-opacity:1;stroke-width:1;stroke-linecap:butt;stroke-linejoin:miter;stroke:rgb(0%,0%,0%);stroke-opacity:1;stroke-miterlimit:10;\" d=\"M 276.457031 20.304688 C 276.457031 25.828125 271.980469 30.304688 266.457031 30.304688 C 260.9375 30.304688 256.457031 25.828125 256.457031 20.304688 C 256.457031 14.78125 260.9375 10.304688 266.457031 10.304688 C 271.980469 10.304688 276.457031 14.78125 276.457031 20.304688 \"/>\n",
       "<path style=\"fill-rule:nonzero;fill:rgb(100%,100%,0%);fill-opacity:1;stroke-width:1;stroke-linecap:butt;stroke-linejoin:miter;stroke:rgb(0%,0%,0%);stroke-opacity:1;stroke-miterlimit:10;\" d=\"M 114.347656 204.359375 C 114.347656 209.882812 109.871094 214.359375 104.347656 214.359375 C 98.824219 214.359375 94.347656 209.882812 94.347656 204.359375 C 94.347656 198.835938 98.824219 194.359375 104.347656 194.359375 C 109.871094 194.359375 114.347656 198.835938 114.347656 204.359375 \"/>\n",
       "<path style=\"fill-rule:nonzero;fill:rgb(100%,0%,0%);fill-opacity:1;stroke-width:1;stroke-linecap:butt;stroke-linejoin:miter;stroke:rgb(0%,0%,0%);stroke-opacity:1;stroke-miterlimit:10;\" d=\"M 393.425781 355.671875 C 393.425781 361.195312 388.949219 365.671875 383.425781 365.671875 C 377.90625 365.671875 373.425781 361.195312 373.425781 355.671875 C 373.425781 350.148438 377.90625 345.671875 383.425781 345.671875 C 388.949219 345.671875 393.425781 350.148438 393.425781 355.671875 \"/>\n",
       "<path style=\"fill-rule:nonzero;fill:rgb(100%,100%,0%);fill-opacity:1;stroke-width:1;stroke-linecap:butt;stroke-linejoin:miter;stroke:rgb(0%,0%,0%);stroke-opacity:1;stroke-miterlimit:10;\" d=\"M 85.449219 160.945312 C 85.449219 166.46875 80.96875 170.945312 75.449219 170.945312 C 69.925781 170.945312 65.449219 166.46875 65.449219 160.945312 C 65.449219 155.421875 69.925781 150.945312 75.449219 150.945312 C 80.96875 150.945312 85.449219 155.421875 85.449219 160.945312 \"/>\n",
       "<path style=\"fill-rule:nonzero;fill:rgb(100%,0%,0%);fill-opacity:1;stroke-width:1;stroke-linecap:butt;stroke-linejoin:miter;stroke:rgb(0%,0%,0%);stroke-opacity:1;stroke-miterlimit:10;\" d=\"M 471.710938 487.878906 C 471.710938 493.402344 467.230469 497.878906 461.710938 497.878906 C 456.1875 497.878906 451.710938 493.402344 451.710938 487.878906 C 451.710938 482.359375 456.1875 477.878906 461.710938 477.878906 C 467.230469 477.878906 471.710938 482.359375 471.710938 487.878906 \"/>\n",
       "<path style=\"fill-rule:nonzero;fill:rgb(100%,0%,0%);fill-opacity:1;stroke-width:1;stroke-linecap:butt;stroke-linejoin:miter;stroke:rgb(0%,0%,0%);stroke-opacity:1;stroke-miterlimit:10;\" d=\"M 478.652344 425.839844 C 478.652344 431.363281 474.175781 435.839844 468.652344 435.839844 C 463.128906 435.839844 458.652344 431.363281 458.652344 425.839844 C 458.652344 420.316406 463.128906 415.839844 468.652344 415.839844 C 474.175781 415.839844 478.652344 420.316406 478.652344 425.839844 \"/>\n",
       "<path style=\"fill-rule:nonzero;fill:rgb(100%,0%,0%);fill-opacity:1;stroke-width:1;stroke-linecap:butt;stroke-linejoin:miter;stroke:rgb(0%,0%,0%);stroke-opacity:1;stroke-miterlimit:10;\" d=\"M 456.15625 492.660156 C 456.15625 498.183594 451.679688 502.660156 446.15625 502.660156 C 440.636719 502.660156 436.15625 498.183594 436.15625 492.660156 C 436.15625 487.136719 440.636719 482.660156 446.15625 482.660156 C 451.679688 482.660156 456.15625 487.136719 456.15625 492.660156 \"/>\n",
       "<path style=\"fill-rule:nonzero;fill:rgb(100%,0%,0%);fill-opacity:1;stroke-width:1;stroke-linecap:butt;stroke-linejoin:miter;stroke:rgb(0%,0%,0%);stroke-opacity:1;stroke-miterlimit:10;\" d=\"M 456.765625 388.445312 C 456.765625 393.96875 452.289062 398.445312 446.765625 398.445312 C 441.242188 398.445312 436.765625 393.96875 436.765625 388.445312 C 436.765625 382.921875 441.242188 378.445312 446.765625 378.445312 C 452.289062 378.445312 456.765625 382.921875 456.765625 388.445312 \"/>\n",
       "<path style=\"fill-rule:nonzero;fill:rgb(100%,0%,0%);fill-opacity:1;stroke-width:1;stroke-linecap:butt;stroke-linejoin:miter;stroke:rgb(0%,0%,0%);stroke-opacity:1;stroke-miterlimit:10;\" d=\"M 419.40625 421.6875 C 419.40625 427.210938 414.929688 431.6875 409.40625 431.6875 C 403.882812 431.6875 399.40625 427.210938 399.40625 421.6875 C 399.40625 416.167969 403.882812 411.6875 409.40625 411.6875 C 414.929688 411.6875 419.40625 416.167969 419.40625 421.6875 \"/>\n",
       "<path style=\"fill-rule:nonzero;fill:rgb(0%,0%,100%);fill-opacity:1;stroke-width:1;stroke-linecap:butt;stroke-linejoin:miter;stroke:rgb(0%,0%,0%);stroke-opacity:1;stroke-miterlimit:10;\" d=\"M 273.21875 133.171875 C 273.21875 138.695312 268.742188 143.171875 263.21875 143.171875 C 257.695312 143.171875 253.21875 138.695312 253.21875 133.171875 C 253.21875 127.652344 257.695312 123.171875 263.21875 123.171875 C 268.742188 123.171875 273.21875 127.652344 273.21875 133.171875 \"/>\n",
       "<path style=\"fill-rule:nonzero;fill:rgb(0%,100%,100%);fill-opacity:1;stroke-width:1;stroke-linecap:butt;stroke-linejoin:miter;stroke:rgb(0%,0%,0%);stroke-opacity:1;stroke-miterlimit:10;\" d=\"M 526.277344 580 C 526.277344 585.523438 521.796875 590 516.277344 590 C 510.753906 590 506.277344 585.523438 506.277344 580 C 506.277344 574.476562 510.753906 570 516.277344 570 C 521.796875 570 526.277344 574.476562 526.277344 580 \"/>\n",
       "<path style=\"fill-rule:nonzero;fill:rgb(100%,100%,0%);fill-opacity:1;stroke-width:1;stroke-linecap:butt;stroke-linejoin:miter;stroke:rgb(0%,0%,0%);stroke-opacity:1;stroke-miterlimit:10;\" d=\"M 30 156.09375 C 30 161.617188 25.523438 166.09375 20 166.09375 C 14.476562 166.09375 10 161.617188 10 156.09375 C 10 150.570312 14.476562 146.09375 20 146.09375 C 25.523438 146.09375 30 150.570312 30 156.09375 \"/>\n",
       "<path style=\"fill-rule:nonzero;fill:rgb(0%,0%,100%);fill-opacity:1;stroke-width:1;stroke-linecap:butt;stroke-linejoin:miter;stroke:rgb(0%,0%,0%);stroke-opacity:1;stroke-miterlimit:10;\" d=\"M 289.128906 30.464844 C 289.128906 35.988281 284.652344 40.464844 279.128906 40.464844 C 273.605469 40.464844 269.128906 35.988281 269.128906 30.464844 C 269.128906 24.941406 273.605469 20.464844 279.128906 20.464844 C 284.652344 20.464844 289.128906 24.941406 289.128906 30.464844 \"/>\n",
       "<path style=\"fill-rule:nonzero;fill:rgb(100%,0%,0%);fill-opacity:1;stroke-width:1;stroke-linecap:butt;stroke-linejoin:miter;stroke:rgb(0%,0%,0%);stroke-opacity:1;stroke-miterlimit:10;\" d=\"M 590 400.914062 C 590 406.4375 585.523438 410.914062 580 410.914062 C 574.476562 410.914062 570 406.4375 570 400.914062 C 570 395.390625 574.476562 390.914062 580 390.914062 C 585.523438 390.914062 590 395.390625 590 400.914062 \"/>\n",
       "<path style=\"fill-rule:nonzero;fill:rgb(100%,0%,0%);fill-opacity:1;stroke-width:1;stroke-linecap:butt;stroke-linejoin:miter;stroke:rgb(0%,0%,0%);stroke-opacity:1;stroke-miterlimit:10;\" d=\"M 582.757812 434.832031 C 582.757812 440.355469 578.28125 444.832031 572.757812 444.832031 C 567.234375 444.832031 562.757812 440.355469 562.757812 434.832031 C 562.757812 429.308594 567.234375 424.832031 572.757812 424.832031 C 578.28125 424.832031 582.757812 429.308594 582.757812 434.832031 \"/>\n",
       "<path style=\"fill-rule:nonzero;fill:rgb(0%,0%,100%);fill-opacity:1;stroke-width:1;stroke-linecap:butt;stroke-linejoin:miter;stroke:rgb(0%,0%,0%);stroke-opacity:1;stroke-miterlimit:10;\" d=\"M 318.234375 80.75 C 318.234375 86.273438 313.757812 90.75 308.234375 90.75 C 302.710938 90.75 298.234375 86.273438 298.234375 80.75 C 298.234375 75.226562 302.710938 70.75 308.234375 70.75 C 313.757812 70.75 318.234375 75.226562 318.234375 80.75 \"/>\n",
       "<path style=\"fill-rule:nonzero;fill:rgb(50.196078%,50.196078%,50.196078%);fill-opacity:1;stroke-width:1;stroke-linecap:butt;stroke-linejoin:miter;stroke:rgb(0%,0%,0%);stroke-opacity:1;stroke-miterlimit:10;\" d=\"M 562.769531 234.707031 C 562.769531 240.230469 558.292969 244.707031 552.769531 244.707031 C 547.246094 244.707031 542.769531 240.230469 542.769531 234.707031 C 542.769531 229.183594 547.246094 224.707031 552.769531 224.707031 C 558.292969 224.707031 562.769531 229.183594 562.769531 234.707031 \"/>\n",
       "<path style=\"fill-rule:nonzero;fill:rgb(100%,0%,100%);fill-opacity:1;stroke-width:1;stroke-linecap:butt;stroke-linejoin:miter;stroke:rgb(0%,0%,0%);stroke-opacity:1;stroke-miterlimit:10;\" d=\"M 467.863281 173.621094 C 467.863281 179.144531 463.386719 183.621094 457.863281 183.621094 C 452.34375 183.621094 447.863281 179.144531 447.863281 173.621094 C 447.863281 168.097656 452.34375 163.621094 457.863281 163.621094 C 463.386719 163.621094 467.863281 168.097656 467.863281 173.621094 \"/>\n",
       "<path style=\"fill-rule:nonzero;fill:rgb(100%,0%,100%);fill-opacity:1;stroke-width:1;stroke-linecap:butt;stroke-linejoin:miter;stroke:rgb(0%,0%,0%);stroke-opacity:1;stroke-miterlimit:10;\" d=\"M 397.21875 270.179688 C 397.21875 275.703125 392.742188 280.179688 387.21875 280.179688 C 381.695312 280.179688 377.21875 275.703125 377.21875 270.179688 C 377.21875 264.65625 381.695312 260.179688 387.21875 260.179688 C 392.742188 260.179688 397.21875 264.65625 397.21875 270.179688 \"/>\n",
       "<path style=\"fill-rule:nonzero;fill:rgb(0%,100%,0%);fill-opacity:1;stroke-width:1;stroke-linecap:butt;stroke-linejoin:miter;stroke:rgb(0%,0%,0%);stroke-opacity:1;stroke-miterlimit:10;\" d=\"M 209.589844 226.320312 C 209.589844 231.84375 205.113281 236.320312 199.589844 236.320312 C 194.066406 236.320312 189.589844 231.84375 189.589844 226.320312 C 189.589844 220.800781 194.066406 216.320312 199.589844 216.320312 C 205.113281 216.320312 209.589844 220.800781 209.589844 226.320312 \"/>\n",
       "<path style=\"fill-rule:nonzero;fill:rgb(100%,0%,0%);fill-opacity:1;stroke-width:1;stroke-linecap:butt;stroke-linejoin:miter;stroke:rgb(0%,0%,0%);stroke-opacity:1;stroke-miterlimit:10;\" d=\"M 512.722656 462.378906 C 512.722656 467.902344 508.246094 472.378906 502.722656 472.378906 C 497.199219 472.378906 492.722656 467.902344 492.722656 462.378906 C 492.722656 456.855469 497.199219 452.378906 502.722656 452.378906 C 508.246094 452.378906 512.722656 456.855469 512.722656 462.378906 \"/>\n",
       "<path style=\"fill-rule:nonzero;fill:rgb(100%,0%,0%);fill-opacity:1;stroke-width:1;stroke-linecap:butt;stroke-linejoin:miter;stroke:rgb(0%,0%,0%);stroke-opacity:1;stroke-miterlimit:10;\" d=\"M 467.164062 433.621094 C 467.164062 439.144531 462.6875 443.621094 457.164062 443.621094 C 451.640625 443.621094 447.164062 439.144531 447.164062 433.621094 C 447.164062 428.097656 451.640625 423.621094 457.164062 423.621094 C 462.6875 423.621094 467.164062 428.097656 467.164062 433.621094 \"/>\n",
       "<path style=\"fill-rule:nonzero;fill:rgb(100%,100%,0%);fill-opacity:1;stroke-width:1;stroke-linecap:butt;stroke-linejoin:miter;stroke:rgb(0%,0%,0%);stroke-opacity:1;stroke-miterlimit:10;\" d=\"M 97.921875 218.765625 C 97.921875 224.285156 93.441406 228.765625 87.921875 228.765625 C 82.398438 228.765625 77.921875 224.285156 77.921875 218.765625 C 77.921875 213.242188 82.398438 208.765625 87.921875 208.765625 C 93.441406 208.765625 97.921875 213.242188 97.921875 218.765625 \"/>\n",
       "<path style=\"fill-rule:nonzero;fill:rgb(0%,0%,100%);fill-opacity:1;stroke-width:1;stroke-linecap:butt;stroke-linejoin:miter;stroke:rgb(0%,0%,0%);stroke-opacity:1;stroke-miterlimit:10;\" d=\"M 196.921875 79.945312 C 196.921875 85.464844 192.441406 89.945312 186.921875 89.945312 C 181.398438 89.945312 176.921875 85.464844 176.921875 79.945312 C 176.921875 74.421875 181.398438 69.945312 186.921875 69.945312 C 192.441406 69.945312 196.921875 74.421875 196.921875 79.945312 \"/>\n",
       "<path style=\"fill-rule:nonzero;fill:rgb(0%,0%,100%);fill-opacity:1;stroke-width:1;stroke-linecap:butt;stroke-linejoin:miter;stroke:rgb(0%,0%,0%);stroke-opacity:1;stroke-miterlimit:10;\" d=\"M 365.546875 92.230469 C 365.546875 97.753906 361.070312 102.230469 355.546875 102.230469 C 350.027344 102.230469 345.546875 97.753906 345.546875 92.230469 C 345.546875 86.710938 350.027344 82.230469 355.546875 82.230469 C 361.070312 82.230469 365.546875 86.710938 365.546875 92.230469 \"/>\n",
       "<path style=\"fill-rule:nonzero;fill:rgb(100%,0%,0%);fill-opacity:1;stroke-width:1;stroke-linecap:butt;stroke-linejoin:miter;stroke:rgb(0%,0%,0%);stroke-opacity:1;stroke-miterlimit:10;\" d=\"M 529.195312 372.351562 C 529.195312 377.875 524.71875 382.351562 519.195312 382.351562 C 513.671875 382.351562 509.195312 377.875 509.195312 372.351562 C 509.195312 366.828125 513.671875 362.351562 519.195312 362.351562 C 524.71875 362.351562 529.195312 366.828125 529.195312 372.351562 \"/>\n",
       "<path style=\"fill-rule:nonzero;fill:rgb(0%,100%,0%);fill-opacity:1;stroke-width:1;stroke-linecap:butt;stroke-linejoin:miter;stroke:rgb(0%,0%,0%);stroke-opacity:1;stroke-miterlimit:10;\" d=\"M 234.460938 261.085938 C 234.460938 266.609375 229.984375 271.085938 224.460938 271.085938 C 218.9375 271.085938 214.460938 266.609375 214.460938 261.085938 C 214.460938 255.5625 218.9375 251.085938 224.460938 251.085938 C 229.984375 251.085938 234.460938 255.5625 234.460938 261.085938 \"/>\n",
       "<path style=\"fill-rule:nonzero;fill:rgb(0%,100%,0%);fill-opacity:1;stroke-width:1;stroke-linecap:butt;stroke-linejoin:miter;stroke:rgb(0%,0%,0%);stroke-opacity:1;stroke-miterlimit:10;\" d=\"M 264.449219 185.789062 C 264.449219 191.308594 259.972656 195.789062 254.449219 195.789062 C 248.925781 195.789062 244.449219 191.308594 244.449219 185.789062 C 244.449219 180.265625 248.925781 175.789062 254.449219 175.789062 C 259.972656 175.789062 264.449219 180.265625 264.449219 185.789062 \"/>\n",
       "<path style=\"fill-rule:nonzero;fill:rgb(100%,100%,0%);fill-opacity:1;stroke-width:1;stroke-linecap:butt;stroke-linejoin:miter;stroke:rgb(0%,0%,0%);stroke-opacity:1;stroke-miterlimit:10;\" d=\"M 38.136719 132.777344 C 38.136719 138.300781 33.660156 142.777344 28.136719 142.777344 C 22.613281 142.777344 18.136719 138.300781 18.136719 132.777344 C 18.136719 127.253906 22.613281 122.777344 28.136719 122.777344 C 33.660156 122.777344 38.136719 127.253906 38.136719 132.777344 \"/>\n",
       "<path style=\"fill-rule:nonzero;fill:rgb(0%,100%,0%);fill-opacity:1;stroke-width:1;stroke-linecap:butt;stroke-linejoin:miter;stroke:rgb(0%,0%,0%);stroke-opacity:1;stroke-miterlimit:10;\" d=\"M 270.921875 221.148438 C 270.921875 226.667969 266.445312 231.148438 260.921875 231.148438 C 255.398438 231.148438 250.921875 226.667969 250.921875 221.148438 C 250.921875 215.625 255.398438 211.148438 260.921875 211.148438 C 266.445312 211.148438 270.921875 215.625 270.921875 221.148438 \"/>\n",
       "<path style=\"fill-rule:nonzero;fill:rgb(0%,0%,100%);fill-opacity:1;stroke-width:1;stroke-linecap:butt;stroke-linejoin:miter;stroke:rgb(0%,0%,0%);stroke-opacity:1;stroke-miterlimit:10;\" d=\"M 328.0625 92.523438 C 328.0625 98.042969 323.585938 102.523438 318.0625 102.523438 C 312.542969 102.523438 308.0625 98.042969 308.0625 92.523438 C 308.0625 87 312.542969 82.523438 318.0625 82.523438 C 323.585938 82.523438 328.0625 87 328.0625 92.523438 \"/>\n",
       "<path style=\"fill-rule:nonzero;fill:rgb(100%,0%,0%);fill-opacity:1;stroke-width:1;stroke-linecap:butt;stroke-linejoin:miter;stroke:rgb(0%,0%,0%);stroke-opacity:1;stroke-miterlimit:10;\" d=\"M 452.101562 424.519531 C 452.101562 430.042969 447.621094 434.519531 442.101562 434.519531 C 436.578125 434.519531 432.101562 430.042969 432.101562 424.519531 C 432.101562 418.996094 436.578125 414.519531 442.101562 414.519531 C 447.621094 414.519531 452.101562 418.996094 452.101562 424.519531 \"/>\n",
       "<path style=\"fill-rule:nonzero;fill:rgb(100%,0%,0%);fill-opacity:1;stroke-width:1;stroke-linecap:butt;stroke-linejoin:miter;stroke:rgb(0%,0%,0%);stroke-opacity:1;stroke-miterlimit:10;\" d=\"M 588.4375 382.597656 C 588.4375 388.121094 583.960938 392.597656 578.4375 392.597656 C 572.914062 392.597656 568.4375 388.121094 568.4375 382.597656 C 568.4375 377.074219 572.914062 372.597656 578.4375 372.597656 C 583.960938 372.597656 588.4375 377.074219 588.4375 382.597656 \"/>\n",
       "<path style=\"fill-rule:nonzero;fill:rgb(0%,100%,0%);fill-opacity:1;stroke-width:1;stroke-linecap:butt;stroke-linejoin:miter;stroke:rgb(0%,0%,0%);stroke-opacity:1;stroke-miterlimit:10;\" d=\"M 246.160156 277.246094 C 246.160156 282.769531 241.683594 287.246094 236.160156 287.246094 C 230.640625 287.246094 226.160156 282.769531 226.160156 277.246094 C 226.160156 271.726562 230.640625 267.246094 236.160156 267.246094 C 241.683594 267.246094 246.160156 271.726562 246.160156 277.246094 \"/>\n",
       "<path style=\"fill-rule:nonzero;fill:rgb(100%,0%,100%);fill-opacity:1;stroke-width:1;stroke-linecap:butt;stroke-linejoin:miter;stroke:rgb(0%,0%,0%);stroke-opacity:1;stroke-miterlimit:10;\" d=\"M 407.496094 256.949219 C 407.496094 262.472656 403.019531 266.949219 397.496094 266.949219 C 391.972656 266.949219 387.496094 262.472656 387.496094 256.949219 C 387.496094 251.425781 391.972656 246.949219 397.496094 246.949219 C 403.019531 246.949219 407.496094 251.425781 407.496094 256.949219 \"/>\n",
       "</g>\n",
       "</svg>\n"
      ],
      "text/plain": [
       "<igraph.drawing.cairo.plot.CairoPlot at 0x7ff056373430>"
      ]
     },
     "execution_count": 36,
     "metadata": {
      "image/svg+xml": {
       "isolated": true
      }
     },
     "output_type": "execute_result"
    }
   ],
   "source": [
    "N,seed = 150, 51\n",
    "g0 = nx.duplication_divergence_graph(N, .5, seed)\n",
    "igg0=ig.Graph.from_networkx(g0)\n",
    "# Less cluttered w/o labelling, else fiddle vertex fontsize\n",
    "#igg0.vs['label'] = igg0.vs['_nx_name']\n",
    "i=ig.community._community_infomap(igg0) \n",
    "pal = ig.drawing.colors.ClusterColoringPalette(len(i))\n",
    "igg0.vs['color'] = pal.get_many(i.membership)\n",
    "ig.plot(igg0)"
   ]
  },
  {
   "cell_type": "code",
   "execution_count": 64,
   "metadata": {},
   "outputs": [
    {
     "data": {
      "image/svg+xml": [
       "<?xml version=\"1.0\" encoding=\"UTF-8\"?>\n",
       "<svg xmlns=\"http://www.w3.org/2000/svg\" xmlns:xlink=\"http://www.w3.org/1999/xlink\" width=\"600pt\" height=\"600pt\" viewBox=\"0 0 600 600\" version=\"1.1\">\n",
       "<g id=\"surface26\">\n",
       "<rect x=\"0\" y=\"0\" width=\"600\" height=\"600\" style=\"fill:rgb(100%,100%,100%);fill-opacity:1;stroke:none;\"/>\n",
       "<path style=\"fill:none;stroke-width:1;stroke-linecap:butt;stroke-linejoin:miter;stroke:rgb(26.666667%,26.666667%,26.666667%);stroke-opacity:1;stroke-miterlimit:10;\" d=\"M 255.335938 289.277344 L 183.765625 177.011719 \"/>\n",
       "<path style=\"fill:none;stroke-width:1;stroke-linecap:butt;stroke-linejoin:miter;stroke:rgb(26.666667%,26.666667%,26.666667%);stroke-opacity:1;stroke-miterlimit:10;\" d=\"M 255.335938 289.277344 L 213.101562 437.488281 \"/>\n",
       "<path style=\"fill:none;stroke-width:1;stroke-linecap:butt;stroke-linejoin:miter;stroke:rgb(26.666667%,26.666667%,26.666667%);stroke-opacity:1;stroke-miterlimit:10;\" d=\"M 255.335938 289.277344 L 355.65625 300.363281 \"/>\n",
       "<path style=\"fill:none;stroke-width:1;stroke-linecap:butt;stroke-linejoin:miter;stroke:rgb(26.666667%,26.666667%,26.666667%);stroke-opacity:1;stroke-miterlimit:10;\" d=\"M 355.65625 300.363281 L 453.378906 260.78125 \"/>\n",
       "<path style=\"fill:none;stroke-width:1;stroke-linecap:butt;stroke-linejoin:miter;stroke:rgb(26.666667%,26.666667%,26.666667%);stroke-opacity:1;stroke-miterlimit:10;\" d=\"M 453.378906 260.78125 L 507.617188 402.71875 \"/>\n",
       "<path style=\"fill:none;stroke-width:1;stroke-linecap:butt;stroke-linejoin:miter;stroke:rgb(26.666667%,26.666667%,26.666667%);stroke-opacity:1;stroke-miterlimit:10;\" d=\"M 355.65625 300.363281 L 334.695312 442.828125 \"/>\n",
       "<path style=\"fill:none;stroke-width:1;stroke-linecap:butt;stroke-linejoin:miter;stroke:rgb(26.666667%,26.666667%,26.666667%);stroke-opacity:1;stroke-miterlimit:10;\" d=\"M 183.765625 177.011719 L 90.648438 202.261719 \"/>\n",
       "<path style=\"fill:none;stroke-width:1;stroke-linecap:butt;stroke-linejoin:miter;stroke:rgb(26.666667%,26.666667%,26.666667%);stroke-opacity:1;stroke-miterlimit:10;\" d=\"M 453.378906 260.78125 L 520.4375 141.105469 \"/>\n",
       "<path style=\"fill:none;stroke-width:1;stroke-linecap:butt;stroke-linejoin:miter;stroke:rgb(26.666667%,26.666667%,26.666667%);stroke-opacity:1;stroke-miterlimit:10;\" d=\"M 90.648438 202.261719 L 20 290.574219 \"/>\n",
       "<path style=\"fill:none;stroke-width:1;stroke-linecap:butt;stroke-linejoin:miter;stroke:rgb(26.666667%,26.666667%,26.666667%);stroke-opacity:1;stroke-miterlimit:10;\" d=\"M 213.101562 437.488281 L 179.921875 580 \"/>\n",
       "<path style=\"fill:none;stroke-width:1;stroke-linecap:butt;stroke-linejoin:miter;stroke:rgb(26.666667%,26.666667%,26.666667%);stroke-opacity:1;stroke-miterlimit:10;\" d=\"M 453.378906 260.78125 L 452.101562 108.804688 \"/>\n",
       "<path style=\"fill:none;stroke-width:1;stroke-linecap:butt;stroke-linejoin:miter;stroke:rgb(26.666667%,26.666667%,26.666667%);stroke-opacity:1;stroke-miterlimit:10;\" d=\"M 355.65625 300.363281 L 349.15625 162.957031 \"/>\n",
       "<path style=\"fill:none;stroke-width:1;stroke-linecap:butt;stroke-linejoin:miter;stroke:rgb(26.666667%,26.666667%,26.666667%);stroke-opacity:1;stroke-miterlimit:10;\" d=\"M 183.765625 177.011719 L 205.328125 20 \"/>\n",
       "<path style=\"fill:none;stroke-width:1;stroke-linecap:butt;stroke-linejoin:miter;stroke:rgb(26.666667%,26.666667%,26.666667%);stroke-opacity:1;stroke-miterlimit:10;\" d=\"M 520.4375 141.105469 L 580 33.566406 \"/>\n",
       "<path style=\"fill:none;stroke-width:1;stroke-linecap:butt;stroke-linejoin:miter;stroke:rgb(26.666667%,26.666667%,26.666667%);stroke-opacity:1;stroke-miterlimit:10;\" d=\"M 183.765625 177.011719 L 145.777344 45.203125 \"/>\n",
       "<path style=\"fill:none;stroke-width:1;stroke-linecap:butt;stroke-linejoin:miter;stroke:rgb(26.666667%,26.666667%,26.666667%);stroke-opacity:1;stroke-miterlimit:10;\" d=\"M 90.648438 202.261719 L 22.21875 100.882812 \"/>\n",
       "<path style=\"fill:none;stroke-width:1;stroke-linecap:butt;stroke-linejoin:miter;stroke:rgb(26.666667%,26.666667%,26.666667%);stroke-opacity:1;stroke-miterlimit:10;\" d=\"M 453.378906 260.78125 L 532.25 281.117188 \"/>\n",
       "<path style=\"fill:none;stroke-width:1;stroke-linecap:butt;stroke-linejoin:miter;stroke:rgb(26.666667%,26.666667%,26.666667%);stroke-opacity:1;stroke-miterlimit:10;\" d=\"M 355.65625 300.363281 L 385.351562 442.472656 \"/>\n",
       "<path style=\"fill:none;stroke-width:1;stroke-linecap:butt;stroke-linejoin:miter;stroke:rgb(26.666667%,26.666667%,26.666667%);stroke-opacity:1;stroke-miterlimit:10;\" d=\"M 507.617188 402.71875 L 571.105469 506.574219 \"/>\n",
       "<path style=\"fill-rule:nonzero;fill:rgb(100%,0%,0%);fill-opacity:1;stroke-width:1;stroke-linecap:butt;stroke-linejoin:miter;stroke:rgb(0%,0%,0%);stroke-opacity:1;stroke-miterlimit:10;\" d=\"M 265.335938 289.277344 C 265.335938 294.800781 260.859375 299.277344 255.335938 299.277344 C 249.8125 299.277344 245.335938 294.800781 245.335938 289.277344 C 245.335938 283.753906 249.8125 279.277344 255.335938 279.277344 C 260.859375 279.277344 265.335938 283.753906 265.335938 289.277344 \"/>\n",
       "<path style=\"fill-rule:nonzero;fill:rgb(0%,100%,0%);fill-opacity:1;stroke-width:1;stroke-linecap:butt;stroke-linejoin:miter;stroke:rgb(0%,0%,0%);stroke-opacity:1;stroke-miterlimit:10;\" d=\"M 193.765625 177.011719 C 193.765625 182.535156 189.289062 187.011719 183.765625 187.011719 C 178.242188 187.011719 173.765625 182.535156 173.765625 177.011719 C 173.765625 171.492188 178.242188 167.011719 183.765625 167.011719 C 189.289062 167.011719 193.765625 171.492188 193.765625 177.011719 \"/>\n",
       "<path style=\"fill-rule:nonzero;fill:rgb(100%,0%,0%);fill-opacity:1;stroke-width:1;stroke-linecap:butt;stroke-linejoin:miter;stroke:rgb(0%,0%,0%);stroke-opacity:1;stroke-miterlimit:10;\" d=\"M 223.101562 437.488281 C 223.101562 443.011719 218.625 447.488281 213.101562 447.488281 C 207.582031 447.488281 203.101562 443.011719 203.101562 437.488281 C 203.101562 431.964844 207.582031 427.488281 213.101562 427.488281 C 218.625 427.488281 223.101562 431.964844 223.101562 437.488281 \"/>\n",
       "<path style=\"fill-rule:nonzero;fill:rgb(0%,0%,100%);fill-opacity:1;stroke-width:1;stroke-linecap:butt;stroke-linejoin:miter;stroke:rgb(0%,0%,0%);stroke-opacity:1;stroke-miterlimit:10;\" d=\"M 365.65625 300.363281 C 365.65625 305.886719 361.179688 310.363281 355.65625 310.363281 C 350.132812 310.363281 345.65625 305.886719 345.65625 300.363281 C 345.65625 294.839844 350.132812 290.363281 355.65625 290.363281 C 361.179688 290.363281 365.65625 294.839844 365.65625 300.363281 \"/>\n",
       "<path style=\"fill-rule:nonzero;fill:rgb(100%,100%,0%);fill-opacity:1;stroke-width:1;stroke-linecap:butt;stroke-linejoin:miter;stroke:rgb(0%,0%,0%);stroke-opacity:1;stroke-miterlimit:10;\" d=\"M 463.378906 260.78125 C 463.378906 266.300781 458.902344 270.78125 453.378906 270.78125 C 447.855469 270.78125 443.378906 266.300781 443.378906 260.78125 C 443.378906 255.257812 447.855469 250.78125 453.378906 250.78125 C 458.902344 250.78125 463.378906 255.257812 463.378906 260.78125 \"/>\n",
       "<path style=\"fill-rule:nonzero;fill:rgb(100%,100%,0%);fill-opacity:1;stroke-width:1;stroke-linecap:butt;stroke-linejoin:miter;stroke:rgb(0%,0%,0%);stroke-opacity:1;stroke-miterlimit:10;\" d=\"M 517.617188 402.71875 C 517.617188 408.238281 513.140625 412.71875 507.617188 412.71875 C 502.09375 412.71875 497.617188 408.238281 497.617188 402.71875 C 497.617188 397.195312 502.09375 392.71875 507.617188 392.71875 C 513.140625 392.71875 517.617188 397.195312 517.617188 402.71875 \"/>\n",
       "<path style=\"fill-rule:nonzero;fill:rgb(0%,0%,100%);fill-opacity:1;stroke-width:1;stroke-linecap:butt;stroke-linejoin:miter;stroke:rgb(0%,0%,0%);stroke-opacity:1;stroke-miterlimit:10;\" d=\"M 344.695312 442.828125 C 344.695312 448.351562 340.21875 452.828125 334.695312 452.828125 C 329.171875 452.828125 324.695312 448.351562 324.695312 442.828125 C 324.695312 437.308594 329.171875 432.828125 334.695312 432.828125 C 340.21875 432.828125 344.695312 437.308594 344.695312 442.828125 \"/>\n",
       "<path style=\"fill-rule:nonzero;fill:rgb(0%,100%,0%);fill-opacity:1;stroke-width:1;stroke-linecap:butt;stroke-linejoin:miter;stroke:rgb(0%,0%,0%);stroke-opacity:1;stroke-miterlimit:10;\" d=\"M 100.648438 202.261719 C 100.648438 207.785156 96.171875 212.261719 90.648438 212.261719 C 85.125 212.261719 80.648438 207.785156 80.648438 202.261719 C 80.648438 196.742188 85.125 192.261719 90.648438 192.261719 C 96.171875 192.261719 100.648438 196.742188 100.648438 202.261719 \"/>\n",
       "<path style=\"fill-rule:nonzero;fill:rgb(100%,100%,0%);fill-opacity:1;stroke-width:1;stroke-linecap:butt;stroke-linejoin:miter;stroke:rgb(0%,0%,0%);stroke-opacity:1;stroke-miterlimit:10;\" d=\"M 530.4375 141.105469 C 530.4375 146.628906 525.960938 151.105469 520.4375 151.105469 C 514.914062 151.105469 510.4375 146.628906 510.4375 141.105469 C 510.4375 135.582031 514.914062 131.105469 520.4375 131.105469 C 525.960938 131.105469 530.4375 135.582031 530.4375 141.105469 \"/>\n",
       "<path style=\"fill-rule:nonzero;fill:rgb(0%,100%,0%);fill-opacity:1;stroke-width:1;stroke-linecap:butt;stroke-linejoin:miter;stroke:rgb(0%,0%,0%);stroke-opacity:1;stroke-miterlimit:10;\" d=\"M 30 290.574219 C 30 296.097656 25.523438 300.574219 20 300.574219 C 14.476562 300.574219 10 296.097656 10 290.574219 C 10 285.054688 14.476562 280.574219 20 280.574219 C 25.523438 280.574219 30 285.054688 30 290.574219 \"/>\n",
       "<path style=\"fill-rule:nonzero;fill:rgb(100%,0%,0%);fill-opacity:1;stroke-width:1;stroke-linecap:butt;stroke-linejoin:miter;stroke:rgb(0%,0%,0%);stroke-opacity:1;stroke-miterlimit:10;\" d=\"M 189.921875 580 C 189.921875 585.523438 185.445312 590 179.921875 590 C 174.398438 590 169.921875 585.523438 169.921875 580 C 169.921875 574.476562 174.398438 570 179.921875 570 C 185.445312 570 189.921875 574.476562 189.921875 580 \"/>\n",
       "<path style=\"fill-rule:nonzero;fill:rgb(100%,100%,0%);fill-opacity:1;stroke-width:1;stroke-linecap:butt;stroke-linejoin:miter;stroke:rgb(0%,0%,0%);stroke-opacity:1;stroke-miterlimit:10;\" d=\"M 462.101562 108.804688 C 462.101562 114.328125 457.625 118.804688 452.101562 118.804688 C 446.578125 118.804688 442.101562 114.328125 442.101562 108.804688 C 442.101562 103.28125 446.578125 98.804688 452.101562 98.804688 C 457.625 98.804688 462.101562 103.28125 462.101562 108.804688 \"/>\n",
       "<path style=\"fill-rule:nonzero;fill:rgb(0%,0%,100%);fill-opacity:1;stroke-width:1;stroke-linecap:butt;stroke-linejoin:miter;stroke:rgb(0%,0%,0%);stroke-opacity:1;stroke-miterlimit:10;\" d=\"M 359.15625 162.957031 C 359.15625 168.480469 354.679688 172.957031 349.15625 172.957031 C 343.632812 172.957031 339.15625 168.480469 339.15625 162.957031 C 339.15625 157.433594 343.632812 152.957031 349.15625 152.957031 C 354.679688 152.957031 359.15625 157.433594 359.15625 162.957031 \"/>\n",
       "<path style=\"fill-rule:nonzero;fill:rgb(0%,100%,0%);fill-opacity:1;stroke-width:1;stroke-linecap:butt;stroke-linejoin:miter;stroke:rgb(0%,0%,0%);stroke-opacity:1;stroke-miterlimit:10;\" d=\"M 215.328125 20 C 215.328125 25.523438 210.847656 30 205.328125 30 C 199.804688 30 195.328125 25.523438 195.328125 20 C 195.328125 14.476562 199.804688 10 205.328125 10 C 210.847656 10 215.328125 14.476562 215.328125 20 \"/>\n",
       "<path style=\"fill-rule:nonzero;fill:rgb(100%,100%,0%);fill-opacity:1;stroke-width:1;stroke-linecap:butt;stroke-linejoin:miter;stroke:rgb(0%,0%,0%);stroke-opacity:1;stroke-miterlimit:10;\" d=\"M 590 33.566406 C 590 39.089844 585.523438 43.566406 580 43.566406 C 574.476562 43.566406 570 39.089844 570 33.566406 C 570 28.042969 574.476562 23.566406 580 23.566406 C 585.523438 23.566406 590 28.042969 590 33.566406 \"/>\n",
       "<path style=\"fill-rule:nonzero;fill:rgb(0%,100%,0%);fill-opacity:1;stroke-width:1;stroke-linecap:butt;stroke-linejoin:miter;stroke:rgb(0%,0%,0%);stroke-opacity:1;stroke-miterlimit:10;\" d=\"M 155.777344 45.203125 C 155.777344 50.726562 151.300781 55.203125 145.777344 55.203125 C 140.253906 55.203125 135.777344 50.726562 135.777344 45.203125 C 135.777344 39.679688 140.253906 35.203125 145.777344 35.203125 C 151.300781 35.203125 155.777344 39.679688 155.777344 45.203125 \"/>\n",
       "<path style=\"fill-rule:nonzero;fill:rgb(0%,100%,0%);fill-opacity:1;stroke-width:1;stroke-linecap:butt;stroke-linejoin:miter;stroke:rgb(0%,0%,0%);stroke-opacity:1;stroke-miterlimit:10;\" d=\"M 32.21875 100.882812 C 32.21875 106.40625 27.742188 110.882812 22.21875 110.882812 C 16.699219 110.882812 12.21875 106.40625 12.21875 100.882812 C 12.21875 95.359375 16.699219 90.882812 22.21875 90.882812 C 27.742188 90.882812 32.21875 95.359375 32.21875 100.882812 \"/>\n",
       "<path style=\"fill-rule:nonzero;fill:rgb(100%,100%,0%);fill-opacity:1;stroke-width:1;stroke-linecap:butt;stroke-linejoin:miter;stroke:rgb(0%,0%,0%);stroke-opacity:1;stroke-miterlimit:10;\" d=\"M 542.25 281.117188 C 542.25 286.640625 537.773438 291.117188 532.25 291.117188 C 526.726562 291.117188 522.25 286.640625 522.25 281.117188 C 522.25 275.597656 526.726562 271.117188 532.25 271.117188 C 537.773438 271.117188 542.25 275.597656 542.25 281.117188 \"/>\n",
       "<path style=\"fill-rule:nonzero;fill:rgb(0%,0%,100%);fill-opacity:1;stroke-width:1;stroke-linecap:butt;stroke-linejoin:miter;stroke:rgb(0%,0%,0%);stroke-opacity:1;stroke-miterlimit:10;\" d=\"M 395.351562 442.472656 C 395.351562 447.992188 390.875 452.472656 385.351562 452.472656 C 379.828125 452.472656 375.351562 447.992188 375.351562 442.472656 C 375.351562 436.949219 379.828125 432.472656 385.351562 432.472656 C 390.875 432.472656 395.351562 436.949219 395.351562 442.472656 \"/>\n",
       "<path style=\"fill-rule:nonzero;fill:rgb(100%,100%,0%);fill-opacity:1;stroke-width:1;stroke-linecap:butt;stroke-linejoin:miter;stroke:rgb(0%,0%,0%);stroke-opacity:1;stroke-miterlimit:10;\" d=\"M 581.105469 506.574219 C 581.105469 512.09375 576.628906 516.574219 571.105469 516.574219 C 565.582031 516.574219 561.105469 512.09375 561.105469 506.574219 C 561.105469 501.050781 565.582031 496.574219 571.105469 496.574219 C 576.628906 496.574219 581.105469 501.050781 581.105469 506.574219 \"/>\n",
       "</g>\n",
       "</svg>\n"
      ],
      "text/plain": [
       "<igraph.drawing.cairo.plot.CairoPlot at 0x7faafbcdbc40>"
      ]
     },
     "execution_count": 64,
     "metadata": {
      "image/svg+xml": {
       "isolated": true
      }
     },
     "output_type": "execute_result"
    }
   ],
   "source": [
    "import igraph\n",
    "g = igraph.Graph.Barabasi(n = 20, m = 1)\n",
    "i = g.community_infomap()\n",
    "pal = igraph.drawing.colors.ClusterColoringPalette(len(i))\n",
    "g.vs['color'] = pal.get_many(i.membership)\n",
    "igraph.plot(g)"
   ]
  },
  {
   "cell_type": "markdown",
   "metadata": {},
   "source": [
    "### Diagonal matrices  (Weighting rows/columns)"
   ]
  },
  {
   "cell_type": "code",
   "execution_count": 21,
   "metadata": {},
   "outputs": [
    {
     "name": "stdout",
     "output_type": "stream",
     "text": [
      "M:\n",
      " [[0 1 2]\n",
      " [3 4 5]\n",
      " [6 7 8]]\n",
      "D:\n",
      " [[1 0 0]\n",
      " [0 2 0]\n",
      " [0 0 3]]\n",
      "MD:\n",
      " [[ 0  2  6]\n",
      " [ 3  8 15]\n",
      " [ 6 14 24]]\n",
      "DM:\n",
      "[[ 0  1  2]\n",
      " [ 6  8 10]\n",
      " [18 21 24]]\n"
     ]
    }
   ],
   "source": [
    "M = np.arange(9).reshape((3,3))\n",
    "D = np.diag(np.array([1,2,3]))\n",
    "\n",
    "print(\"M:\\n\",M)\n",
    "print(\"D:\\n\",D)\n",
    "# Diag entries apply to columns of M\n",
    "# easiest seen with column-space view of Matrix multiplication\n",
    "print(\"MD:\\n\",M@D)\n",
    "# Diag entries apply to rows of M\n",
    "print(f\"DM:\\n{D@M}\")"
   ]
  },
  {
   "cell_type": "code",
   "execution_count": 68,
   "metadata": {},
   "outputs": [
    {
     "data": {
      "text/plain": [
       "array([[1., 1., 1.],\n",
       "       [2., 2., 2.],\n",
       "       [3., 3., 3.]])"
      ]
     },
     "execution_count": 68,
     "metadata": {},
     "output_type": "execute_result"
    }
   ],
   "source": [
    "D@M"
   ]
  },
  {
   "cell_type": "code",
   "execution_count": null,
   "metadata": {},
   "outputs": [],
   "source": []
  }
 ],
 "metadata": {
  "kernelspec": {
   "display_name": "Python 3 (ipykernel)",
   "language": "python",
   "name": "python3"
  },
  "language_info": {
   "codemirror_mode": {
    "name": "ipython",
    "version": 3
   },
   "file_extension": ".py",
   "mimetype": "text/x-python",
   "name": "python",
   "nbconvert_exporter": "python",
   "pygments_lexer": "ipython3",
   "version": "3.10.6"
  }
 },
 "nbformat": 4,
 "nbformat_minor": 2
}
