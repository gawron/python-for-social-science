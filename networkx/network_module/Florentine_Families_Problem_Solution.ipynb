{
 "cells": [
  {
   "cell_type": "markdown",
   "id": "5161f8ec",
   "metadata": {},
   "source": [
    "## The Florentine Families Problem (Solution below)"
   ]
  },
  {
   "cell_type": "markdown",
   "id": "71eccee3",
   "metadata": {
    "id": "4rW0oCRcESc1"
   },
   "source": [
    "The next graph is a famous graph of Florentine families.   The data used to build this graph is taken directly\n",
    "from Breiger and Pattison (1986).\n",
    "\n",
    ">Breiger, R.L. and Pattison, P.E., 1986. Cumulated social roles: The duality of persons and their algebras. Social networks, 8(3), pp.215-256. [http://commres.net/wiki/_media/cumulated-social-roles-the-duality-of-persons-and-their-algebras.pdf](http://commres.net/wiki/_media/cumulated-social-roles-the-duality-of-persons-and-their-algebras.pdf)\n",
    "\n",
    "\n",
    "The data is attributed to Padgett and Angell, who published a far more detailed study with\n",
    "many more variables defining the social network in Padgett and Ansell (1993).\n",
    "\n",
    ">Padgett, John F., and Christopher K. Ansell. 1983. \"Robust Action and the Rise of the Medici: 1400-1434.\" American Journal of Sociology pp. 1259-1319.  [https://www.stats.ox.ac.uk/~snijders/PadgettAnsell1993.pdf](https://www.stats.ox.ac.uk/~snijders/PadgettAnsell1993.pdf)\n",
    "\n",
    "In the graph implemented in `networkx`, a link simply represents marriage between members of the families.  Marriage between families was a recognized way\n",
    "of creating alliances and obligation, and therefore a way of consolidating or extending power.  \n",
    "This is an undirected graph. Therefore a link is simply a link and doesn't directly represent who owes who, or who has the power. In Padgett and Christopher's discussion, marriage between families is represented by a directed link,\n",
    "because it matters which family contributed the groom and which family contributed the bride; this\n",
    "is just one small way in which the graph we analyze below represents a simplification of complex social\n",
    "facts."
   ]
  },
  {
   "cell_type": "code",
   "execution_count": 5,
   "id": "c6eec922",
   "metadata": {
    "id": "GCVylHMHESc1"
   },
   "outputs": [],
   "source": [
    "import networkx as nx\n",
    "ff = nx.florentine_families_graph()"
   ]
  },
  {
   "cell_type": "markdown",
   "id": "85ddd5a7",
   "metadata": {
    "id": "yHeK0QdyESc1"
   },
   "source": [
    "#### Exercise\n",
    "\n",
    "Part I: Try using the betweenness centrality and degree centrality measures illustrated above for the karate graph\n",
    "on the Florentine Families graph.  How\n",
    "well do these two measures correlate? Use `scipy.stats.pearsonr`, which takes two\n",
    "value sequences, s1 and s2, where the measurement at `s1[i]` should correspond to the measurement at `s2[i].`\n",
    "\n",
    "Part II:  Which measure does a better job representing the relative powers of\n",
    "the families, at least as regards to who is the most powerful family?\n",
    "(Have a look at the Padgett and Ansell paper to see who it should be).\n",
    "\n",
    "Part III:  Look at a case for which the two measures differ significantly, the Peruzzi family.  What is\n",
    "the rank of the Peruzzi family by Betweenness Centrality?  What is their rank by Degree Centrality?\n",
    "Explain why.  Speculate as to which measure is doing a better job of\n",
    "representing power in the world, using only facts apparent from the graph.\n",
    "\n",
    "Part IV:  Find two families whose importance is identical according to **both**\n",
    "measures, and argue using facts deduceable from the graph, that something is being missed."
   ]
  },
  {
   "cell_type": "markdown",
   "id": "15ffac65",
   "metadata": {},
   "source": [
    "**Part I**"
   ]
  },
  {
   "cell_type": "code",
   "execution_count": null,
   "id": "17b2e06e",
   "metadata": {},
   "outputs": [],
   "source": []
  },
  {
   "cell_type": "code",
   "execution_count": 6,
   "id": "d64125d3",
   "metadata": {},
   "outputs": [
    {
     "data": {
      "text/plain": [
       "{'Acciaiuoli': 0.0,\n",
       " 'Medici': 0.521978021978022,\n",
       " 'Castellani': 0.05494505494505495,\n",
       " 'Peruzzi': 0.02197802197802198,\n",
       " 'Strozzi': 0.10256410256410257,\n",
       " 'Barbadori': 0.09340659340659341,\n",
       " 'Ridolfi': 0.11355311355311355,\n",
       " 'Tornabuoni': 0.09157509157509157,\n",
       " 'Albizzi': 0.21245421245421245,\n",
       " 'Salviati': 0.14285714285714288,\n",
       " 'Pazzi': 0.0,\n",
       " 'Bischeri': 0.1043956043956044,\n",
       " 'Guadagni': 0.2545787545787546,\n",
       " 'Ginori': 0.0,\n",
       " 'Lamberteschi': 0.0}"
      ]
     },
     "execution_count": 6,
     "metadata": {},
     "output_type": "execute_result"
    }
   ],
   "source": [
    "bc_ff = nx.betweenness_centrality(ff)\n",
    "bc_ff"
   ]
  },
  {
   "cell_type": "code",
   "execution_count": 7,
   "id": "6ddfbae1",
   "metadata": {},
   "outputs": [
    {
     "data": {
      "text/plain": [
       "{'Acciaiuoli': 0.07142857142857142,\n",
       " 'Medici': 0.42857142857142855,\n",
       " 'Castellani': 0.21428571428571427,\n",
       " 'Peruzzi': 0.21428571428571427,\n",
       " 'Strozzi': 0.2857142857142857,\n",
       " 'Barbadori': 0.14285714285714285,\n",
       " 'Ridolfi': 0.21428571428571427,\n",
       " 'Tornabuoni': 0.21428571428571427,\n",
       " 'Albizzi': 0.21428571428571427,\n",
       " 'Salviati': 0.14285714285714285,\n",
       " 'Pazzi': 0.07142857142857142,\n",
       " 'Bischeri': 0.21428571428571427,\n",
       " 'Guadagni': 0.2857142857142857,\n",
       " 'Ginori': 0.07142857142857142,\n",
       " 'Lamberteschi': 0.07142857142857142}"
      ]
     },
     "execution_count": 7,
     "metadata": {},
     "output_type": "execute_result"
    }
   ],
   "source": [
    "dc_ff = nx.degree_centrality(ff)\n",
    "dc_ff"
   ]
  },
  {
   "cell_type": "markdown",
   "id": "a4093661",
   "metadata": {},
   "source": [
    "Create two sequences with values derived from the same node sequence."
   ]
  },
  {
   "cell_type": "code",
   "execution_count": 8,
   "id": "9d7cad07",
   "metadata": {},
   "outputs": [],
   "source": [
    "dc_seq = [dc_ff[n] for n in ff.nodes]\n",
    "bc_seq = [bc_ff[n] for n in ff.nodes]"
   ]
  },
  {
   "cell_type": "markdown",
   "id": "246db0a4",
   "metadata": {},
   "source": [
    "The correlation is +.84, which is pretty high, and the correlation has a very good pvalue."
   ]
  },
  {
   "cell_type": "code",
   "execution_count": 9,
   "id": "d9377a2a",
   "metadata": {},
   "outputs": [
    {
     "data": {
      "text/plain": [
       "PearsonRResult(statistic=0.8441513289848926, pvalue=7.575095714865155e-05)"
      ]
     },
     "execution_count": 9,
     "metadata": {},
     "output_type": "execute_result"
    }
   ],
   "source": [
    "import scipy\n",
    "scipy.stats.pearsonr(dc_seq,bc_seq)"
   ]
  },
  {
   "cell_type": "markdown",
   "id": "2f96edd7",
   "metadata": {},
   "source": [
    "Note:  This result is valid for this graph only.  The correlation will rise\n",
    "and fall for other graphs."
   ]
  },
  {
   "cell_type": "markdown",
   "id": "8ed7d35b",
   "metadata": {},
   "source": [
    "**Part II**\n",
    "\n",
    "Both measures rank the Medici family first.  The importance of the Medicis is pretty much the starting point\n",
    "of the paper, which is about the emergence of statehood."
   ]
  },
  {
   "cell_type": "code",
   "execution_count": 11,
   "id": "afd341e9",
   "metadata": {},
   "outputs": [],
   "source": [
    "def second (x):\n",
    "    return x[1]\n",
    "bc_ranking = sorted(list(bc_ff.items()),key=second,reverse=True)\n",
    "dc_ranking = sorted(list(dc_ff.items()),key=second,reverse=True)"
   ]
  },
  {
   "cell_type": "code",
   "execution_count": 12,
   "id": "0576199b",
   "metadata": {},
   "outputs": [
    {
     "data": {
      "text/plain": [
       "('Medici', 0.521978021978022)"
      ]
     },
     "execution_count": 12,
     "metadata": {},
     "output_type": "execute_result"
    }
   ],
   "source": [
    "bc_ranking[0]"
   ]
  },
  {
   "cell_type": "code",
   "execution_count": 13,
   "id": "d73f5c65",
   "metadata": {},
   "outputs": [
    {
     "data": {
      "text/plain": [
       "('Medici', 0.42857142857142855)"
      ]
     },
     "execution_count": 13,
     "metadata": {},
     "output_type": "execute_result"
    }
   ],
   "source": [
    "dc_ranking[0]"
   ]
  },
  {
   "cell_type": "markdown",
   "id": "a5f0f03c",
   "metadata": {},
   "source": [
    "Therefore the link structure of the graph, while undirected, does actually do a pretty good job of capturing something about power/influence. Note that this result is more about being clever about choosing what to represent in your graph than it is about the magic of centrality measures.  The simple fact that the Medicis are linked to 6 other families by marriage is telling, and is what is driving these high centrality scores."
   ]
  },
  {
   "cell_type": "markdown",
   "id": "60c0e94c",
   "metadata": {},
   "source": [
    "**Part III**"
   ]
  },
  {
   "cell_type": "markdown",
   "id": "9aeadefb",
   "metadata": {},
   "source": [
    "Betweenness Centrality ranks the Peruzzi family much lower (11th) than Degree Centrality (5th). "
   ]
  },
  {
   "cell_type": "code",
   "execution_count": 14,
   "id": "fdf2a6a9",
   "metadata": {},
   "outputs": [
    {
     "data": {
      "text/plain": [
       "10"
      ]
     },
     "execution_count": 14,
     "metadata": {},
     "output_type": "execute_result"
    }
   ],
   "source": [
    "(bc_fams, bc_scores) = zip(*bc_ranking)\n",
    "bc_fams.index('Peruzzi')"
   ]
  },
  {
   "cell_type": "code",
   "execution_count": 15,
   "id": "922350f9",
   "metadata": {
    "scrolled": true
   },
   "outputs": [
    {
     "data": {
      "text/plain": [
       "4"
      ]
     },
     "execution_count": 15,
     "metadata": {},
     "output_type": "execute_result"
    }
   ],
   "source": [
    "(dc_fams, dc_scores) = zip(*dc_ranking)\n",
    "dc_fams.index('Peruzzi')"
   ]
  },
  {
   "cell_type": "markdown",
   "id": "d5a4f2db",
   "metadata": {},
   "source": [
    "This is because the Peruzzi family has a higher degree (3) than many of the families in\n",
    "the graph, so Degree Centrality ranks it high.  "
   ]
  },
  {
   "cell_type": "code",
   "execution_count": 16,
   "id": "9eada930",
   "metadata": {},
   "outputs": [
    {
     "data": {
      "text/plain": [
       "0.21428571428571427"
      ]
     },
     "execution_count": 16,
     "metadata": {},
     "output_type": "execute_result"
    }
   ],
   "source": [
    "dc_ff['Peruzzi']"
   ]
  },
  {
   "cell_type": "markdown",
   "id": "a0fc1a3e",
   "metadata": {},
   "source": [
    "On the other hand, its Betweenness Centrality\n",
    "score is relatively low"
   ]
  },
  {
   "cell_type": "code",
   "execution_count": 17,
   "id": "05a6a790",
   "metadata": {},
   "outputs": [
    {
     "data": {
      "text/plain": [
       "0.02197802197802198"
      ]
     },
     "execution_count": 17,
     "metadata": {},
     "output_type": "execute_result"
    }
   ],
   "source": [
    "bc_ff['Peruzzi']"
   ]
  },
  {
   "cell_type": "markdown",
   "id": "e1141be8",
   "metadata": {},
   "source": [
    "because its influence extends over only a small clique of 4 families.  The distance \n",
    "from Peruzzi to Medici is 3, and there are many family pairs for which no shortest path\n",
    "passes through Peruzzi.  It appears from the graph that Betweenness Centrality may be doing\n",
    "a better job of representing power here.  Having only a very distant connection to\n",
    "the Medicis is definitely a disadvantage."
   ]
  },
  {
   "cell_type": "markdown",
   "id": "c5b1d83c",
   "metadata": {},
   "source": [
    "**Part IV**\n",
    "\n",
    "The Pazzi family and the Acciaiuoli family have identical low scores by both measures."
   ]
  },
  {
   "cell_type": "code",
   "execution_count": null,
   "id": "1ac6b940",
   "metadata": {
    "scrolled": true
   },
   "outputs": [],
   "source": [
    "bc_ff['Acciaiuoli'],bc_ff['Pazzi']"
   ]
  },
  {
   "cell_type": "code",
   "execution_count": null,
   "id": "77951208",
   "metadata": {
    "scrolled": true
   },
   "outputs": [],
   "source": [
    "dc_ff['Acciaiuoli'],dc_ff['Pazzi']"
   ]
  },
  {
   "cell_type": "markdown",
   "id": "50fad25a",
   "metadata": {},
   "source": [
    "Arguably the Acciaiuoli  family is much better positioned because they have married directly into the Medici\n",
    "family.  That is, being directly connected to a very important node ought to count for something,\n",
    "even if one has few or no other connections.\n",
    "\n",
    "One measure that addresses this and is well-suited to undirected graphs is Eigenvector Centrality:"
   ]
  },
  {
   "cell_type": "code",
   "execution_count": null,
   "id": "b73b2f76",
   "metadata": {},
   "outputs": [],
   "source": [
    "kc_ff = nx.eigenvector_centrality(ff)\n",
    "kc_ff['Medici'],kc_ff['Acciaiuoli'],kc_ff['Pazzi']"
   ]
  },
  {
   "cell_type": "markdown",
   "id": "e6337cab",
   "metadata": {},
   "source": [
    "To learn more about how Eigenvector Centrality works, as well as more about other Centrality Measures,\n",
    "see the Centrality Measures Notebook."
   ]
  }
 ],
 "metadata": {
  "kernelspec": {
   "display_name": "Python 3 (ipykernel)",
   "language": "python",
   "name": "python3"
  },
  "language_info": {
   "codemirror_mode": {
    "name": "ipython",
    "version": 3
   },
   "file_extension": ".py",
   "mimetype": "text/x-python",
   "name": "python",
   "nbconvert_exporter": "python",
   "pygments_lexer": "ipython3",
   "version": "3.10.6"
  }
 },
 "nbformat": 4,
 "nbformat_minor": 5
}
