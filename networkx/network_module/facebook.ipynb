{
 "cells": [
  {
   "cell_type": "markdown",
   "metadata": {},
   "source": [
    "## Snap Facebook graph data "
   ]
  },
  {
   "cell_type": "markdown",
   "metadata": {},
   "source": [
    "### Untarring the tar file (Do this just once!)"
   ]
  },
  {
   "cell_type": "markdown",
   "metadata": {},
   "source": [
    "This only needs to be done the first time you use this notebook, to extract the files from the archive downloaded from snap."
   ]
  },
  {
   "cell_type": "code",
   "execution_count": 1,
   "metadata": {},
   "outputs": [],
   "source": [
    "import tarfile\n",
    "import os.path\n",
    "\n",
    "def py_files(members,extension):\n",
    "    for tarinfo in members:\n",
    "        if os.path.splitext(tarinfo.name)[1] == extension:\n",
    "            yield tarinfo\n",
    "\n",
    "# If you get an IO error it's because you havent placed the \n",
    "# facebook tar file in the facebook_ego_network directory relative\n",
    "# to the notebook.  Edit the path to be right create the directory\n",
    "# and move the tarfile there.\n",
    "tar_file_path = os.path.join('facebook_ego_network',\"facebook.tar.gz\")\n",
    "tar = tarfile.open(tar_file_path)\n",
    "# To untar just one type of file\n",
    "#tar.extractall(members=py_files(tar,extension=\".edges\"))\n",
    "tar.extractall()\n",
    "tar.close()"
   ]
  },
  {
   "cell_type": "markdown",
   "metadata": {},
   "source": [
    "###  Reading in the edges of an ego network"
   ]
  },
  {
   "cell_type": "markdown",
   "metadata": {},
   "source": [
    "Starting here, we have cells that need to be re-executed each time you run the notebook, first to build the graph of ego's friends, or the ego network."
   ]
  },
  {
   "cell_type": "code",
   "execution_count": 2,
   "metadata": {},
   "outputs": [],
   "source": [
    "import networkx as nx\n",
    "import os.path\n",
    "\n",
    "# The tarfile You need to \n",
    "facebook_dir = os.path.join('facebook_ego_network', 'facebook')\n",
    "\n",
    "# Read in edges of graph, treating node id as ints (otherwise they'd be strings)\n",
    "# Change the value of egoid to look at a different ego.  There are 10 ego graphs\n",
    "# in the data set.\n",
    "egoid = 0\n",
    "\n",
    "G = nx.read_edgelist(os.path.join(facebook_dir,f'{egoid}.edges'),nodetype=int)\n"
   ]
  },
  {
   "cell_type": "markdown",
   "metadata": {},
   "source": [
    "This particular egoid has 333 friends.  Note that there is never a node for ego in this graph.  If there were, ego would just be a node connected to all the others."
   ]
  },
  {
   "cell_type": "code",
   "execution_count": 2,
   "metadata": {},
   "outputs": [
    {
     "data": {
      "text/plain": [
       "333"
      ]
     },
     "execution_count": 2,
     "metadata": {},
     "output_type": "execute_result"
    }
   ],
   "source": [
    "len(G.nodes())"
   ]
  },
  {
   "cell_type": "markdown",
   "metadata": {},
   "source": [
    "### Adding data about ego and nodes"
   ]
  },
  {
   "cell_type": "markdown",
   "metadata": {},
   "source": [
    "Each feature index in the SNAP feature system represents a feature,value pair.\n",
    " For example, the feature index 24 might represent the value `'Harvard'` for\n",
    "the feature `'education;school'`.  For each node, the feature is either on\n",
    " or off.  In the ego graph for ego_id 0, Features 24-52 all represent \n",
    " possible values for the 'education;school' feature. For most individuals \n",
    " only one of the features in that range will be on. We're using numbers so we \n",
    " don't know which feature values represent which actual schools. Similarly \n",
    " features 77 and 78 represent the two values for the gender feature, but we don't \n",
    " know which represents male and which female. Using integers **anonymizes** the \n",
    "feature values, so we can't use the cluster of features\n",
    "belonging to an individual in a network to identify them."
   ]
  },
  {
   "cell_type": "code",
   "execution_count": 3,
   "metadata": {},
   "outputs": [],
   "source": [
    "\n",
    "from collections import defaultdict\n",
    "\n",
    "def read_featnames_file (ego_id):\n",
    "    \"\"\"\n",
    "    Return a Decoding list and a feature dict. The decoding list maps \n",
    "    from a SNAP feature id to a feature name. feat_dict[i] is the feature name \n",
    "    for which feature code `i`  defines a value. So `feat_dict[77]` and \n",
    "    `decoding_list[78]` both are 'gender`.  The keys of `feat_dict` are feature names. \n",
    "    For each feature name, `feat_dict[i]` gives the the list of features that \n",
    "    represent values for that feature,\n",
    "    so for the ego network for egoid 0, feature_dict['gender'] is [77,78].\n",
    "    \"\"\"\n",
    "    global decoding_dict,feat_dict,feats0,facebook_dir\n",
    "    \n",
    "    with open(os.path.join(facebook_dir, f'{ego_id:d}.featnames')) as fh:\n",
    "        feats = fh.readlines()\n",
    "    decoding_list,feat_dict = [],defaultdict(list)\n",
    "    feats0 = [l.strip().split() for l in feats]\n",
    "    decoding_list =  [';'.join(featname.split(';')[:-1])\n",
    "                      for (local_index,featname,_,global_index) in feats0]\n",
    "    for (index,featname) in enumerate(decoding_list):\n",
    "        feat_dict[featname].append(index)\n",
    "    return (decoding_list, feat_dict)\n",
    "\n",
    "egoid = 0\n",
    "# decoding_list feat_index -> feat_name\n",
    "# feat_dict feat_name -> feat_index\n",
    "(decoding_list,feat_dict) = read_featnames_file(egoid)\n",
    "    \n",
    "    \n",
    "    "
   ]
  },
  {
   "cell_type": "markdown",
   "metadata": {},
   "source": [
    "If you want to know the meaning of feature 10, you look it up in the decoding list:"
   ]
  },
  {
   "cell_type": "code",
   "execution_count": 4,
   "metadata": {},
   "outputs": [
    {
     "name": "stdout",
     "output_type": "stream",
     "text": [
      "education;classes;id\n"
     ]
    },
    {
     "data": {
      "text/plain": [
       "['education;classes;id',\n",
       " 'education;classes;id',\n",
       " 'education;classes;id',\n",
       " 'education;classes;id',\n",
       " 'education;classes;id',\n",
       " 'education;concentration;id',\n",
       " 'education;concentration;id',\n",
       " 'education;concentration;id',\n",
       " 'education;concentration;id',\n",
       " 'education;concentration;id',\n",
       " 'education;concentration;id',\n",
       " 'education;concentration;id']"
      ]
     },
     "execution_count": 4,
     "metadata": {},
     "output_type": "execute_result"
    }
   ],
   "source": [
    "print(decoding_list[10])\n",
    "decoding_list[8:20]"
   ]
  },
  {
   "cell_type": "markdown",
   "metadata": {},
   "source": [
    "`education;concentration;id` occurs once for each possible value of the\n",
    "`education;conecentration` feature.\n",
    "\n",
    "So the total number of feature values (combining values from all features)\n",
    "is:"
   ]
  },
  {
   "cell_type": "code",
   "execution_count": 5,
   "metadata": {},
   "outputs": [
    {
     "data": {
      "text/plain": [
       "224"
      ]
     },
     "execution_count": 5,
     "metadata": {},
     "output_type": "execute_result"
    }
   ],
   "source": [
    "len(decoding_list)"
   ]
  },
  {
   "cell_type": "markdown",
   "metadata": {},
   "source": [
    "Over 200 feature values were found. The values are there \n",
    "because some user decided to include a \n",
    "particular kind of information (such as high school attended) in their profile.\n",
    "Bear in mind that many Facebook users provide very little information about themselves,\n",
    "so that most features have no value for most users.  For example, the graph for egoid 0\n",
    "includes several individuals about whom we know nothing but their gender."
   ]
  },
  {
   "cell_type": "markdown",
   "metadata": {},
   "source": [
    "How many distinct features are there? What are they and how many values does each have?"
   ]
  },
  {
   "cell_type": "code",
   "execution_count": 4,
   "metadata": {},
   "outputs": [
    {
     "name": "stdout",
     "output_type": "stream",
     "text": [
      "There are 21 features\n",
      "\n",
      "birthday:                     8 values\n",
      "education;classes;id:         5 values\n",
      "education;concentration;id:   7 values\n",
      "education;degree;id:          4 values\n",
      "education;school;id:         29 values\n",
      "education;type:               3 values\n",
      "education;with;id:            1 values\n",
      "education;year;id:           16 values\n",
      "first_name:                   4 values\n",
      "gender:                       2 values\n",
      "hometown;id:                 11 values\n",
      "languages;id:                14 values\n",
      "last_name:                   21 values\n",
      "locale:                       3 values\n",
      "location;id:                 12 values\n",
      "work;employer;id:            20 values\n",
      "work;end_date:               16 values\n",
      "work;location;id:            12 values\n",
      "work;position;id:            13 values\n",
      "work;start_date:             22 values\n",
      "work;with;id:                 1 values\n",
      "---------------------------------------------\n",
      "                            224 values\n"
     ]
    }
   ],
   "source": [
    "from collections import Counter\n",
    "value_ctr = Counter(decoding_list)\n",
    "print ('There are {0} features'.format(len(feat_dict)))\n",
    "print()\n",
    "ctr = 0\n",
    "for k,v in sorted(feat_dict.items()):\n",
    "    print(f\"{k+':':27s}  {value_ctr[k]:>2d} values\")\n",
    "    ctr += len(v)\n",
    "\n",
    "print('-' * 45)\n",
    "width = 5 + max(len(f) for f in feat_dict.keys())\n",
    "print(f'{ctr:>{width}} values')"
   ]
  },
  {
   "cell_type": "code",
   "execution_count": 5,
   "metadata": {},
   "outputs": [],
   "source": [
    "def add_node_properties_to_graph(G,ego_id,decoding_list):\n",
    "    global featlist, facebook_dir\n",
    "    with open(os.path.join(facebook_dir, f'{ego_id:d}.feat')) as fh:\n",
    "        featlist = [[int(x) for x in line.strip().split()] for line in fh.readlines()]\n",
    "    nodelist = G.nodes()\n",
    "    for atts in featlist:\n",
    "        node,feats = atts[0],atts[1:]\n",
    "        #print len(feats)\n",
    "        if node in nodelist:\n",
    "            pass\n",
    "        else:\n",
    "            # For notification of the addition of unconnected nodes\n",
    "            # print(f'Adding {node}')\n",
    "            G.add_node(node,attr_dict = {})\n",
    "        add_feats_to_feat_dict(feats, G.nodes()[node], decoding_list)\n",
    "\n",
    "def add_feats_to_feat_dict (feats, feat_dict, decoding_list):\n",
    "    \"\"\"\n",
    "    We do not assume features are single-valued; i.e., each person has only one\n",
    "    highest degree, one school attended, one gender.  \n",
    "    \n",
    "    For example the feature `languages` may have multiple vals.\n",
    "    \"\"\"\n",
    "    for (feat_index,val) in enumerate(feats):\n",
    "        feat = decoding_list[feat_index]\n",
    "        if val:\n",
    "            if feat in feat_dict and feat_index not in feat_dict[feat]:\n",
    "                feat_dict[feat] += (feat_index,)\n",
    "            else:\n",
    "                feat_dict[feat] = (feat_index,)\n",
    "  \n",
    "    \n",
    "def read_ego_features(ego_id, decoding_list):\n",
    "    \"\"\"\n",
    "    Return a feat dict for ego just like the feat_dicts found in G.node,\n",
    "    except this one won't belong to a node in the graph.  Useful for comparing\n",
    "    features of ego to features of ego's friends.\n",
    "    \"\"\"\n",
    "    with open(os.path.join(facebook_dir,f'{ego_id:d}.egofeat')) as fh:\n",
    "        featlist = [int(x) for x in fh.readline().strip().split()]\n",
    "    ego_feat_dict = {}\n",
    "    add_feats_to_feat_dict(featlist, ego_feat_dict, decoding_list)\n",
    "    return ego_feat_dict\n",
    "\n",
    "def add_circles_to_graph(G,ego_id,decoding_list):\n",
    "    with open(os.path.join(facebook_dir,f'{ego_id:d}.circles')) as fh:\n",
    "         circlelist0 = [line.strip().split() for line in fh.readlines()]\n",
    "    #circles = [circ[0] for circ in circlelist]\n",
    "    print (f'{len(circlelist0)} circles found!')\n",
    "    # We treat the n circles found as the n possible values for a new feature named circles\n",
    "    for i in range(len(circlelist0)):\n",
    "        decoding_list.append('circles')\n",
    "    circlelist = [[int(ind) for ind in circ[1:]] for circ in circlelist0]\n",
    "    for (circid,members) in enumerate(circlelist):\n",
    "        for m in members:\n",
    "            node_dict = G.nodes()[m]\n",
    "            if 'circles' not in node_dict:\n",
    "                # Because we want to do set based comparison \n",
    "                # of circles, we want tuples\n",
    "                node_dict['circles'] = (circid,)\n",
    "            elif circid not in node_dict['circles']:\n",
    "                node_dict['circles'] += (circid,)\n",
    "    return circlelist\n",
    "    "
   ]
  },
  {
   "cell_type": "markdown",
   "metadata": {},
   "source": [
    "Execute the cell above before executing the cell below.  Click on the cell below and Type `Esc-l` to toggle line numbers if they aren't already there."
   ]
  },
  {
   "cell_type": "code",
   "execution_count": 6,
   "metadata": {},
   "outputs": [
    {
     "name": "stdout",
     "output_type": "stream",
     "text": [
      "24 circles found!\n"
     ]
    }
   ],
   "source": [
    "egoid = 0\n",
    "add_node_properties_to_graph(G,egoid,decoding_list) \n",
    "circlelist = add_circles_to_graph(G,egoid,decoding_list)\n",
    "ego_feat_dict = read_ego_features(egoid, decoding_list)"
   ]
  },
  {
   "cell_type": "markdown",
   "metadata": {},
   "source": [
    "In line 1 we decide on the ego id whose ego graph we are analyzing. In  line 2 we add the known properities of the friends in that graph and store them on the graph (see below).  In line 3 we compute the circles\n",
    "and return them in a list.  Each circle is a list of ego's friends, so `circlelist` is a list of lists.  For example there might be one circle for family members, another for work, another for karate club members, and so on. Finally in line 5 we compute the properties ego has made public on his/her profile page and store them in a dictionary."
   ]
  },
  {
   "cell_type": "markdown",
   "metadata": {},
   "source": [
    "Friend properties have been stored as dictionaries we'll call **feat_dicts**.  The feat dicts of all ego's friends are stored in one big dictionary keyed by node names in `G.node`. Ego is not part of the graph, nor is ego's feat dict.  It's just a separate feat dict that we computed in line 4 in the cell above. "
   ]
  },
  {
   "cell_type": "markdown",
   "metadata": {},
   "source": [
    "Here are ego's features."
   ]
  },
  {
   "cell_type": "code",
   "execution_count": 7,
   "metadata": {},
   "outputs": [
    {
     "data": {
      "text/plain": [
       "{'education;classes;id': (9,),\n",
       " 'education;concentration;id': (14,),\n",
       " 'education;school;id': (39, 50, 52),\n",
       " 'education;type': (53, 54, 55),\n",
       " 'education;year;id': (69,),\n",
       " 'gender': (78,),\n",
       " 'last_name': (104,),\n",
       " 'locale': (127,),\n",
       " 'location;id': (129,),\n",
       " 'work;employer;id': (145, 147, 151, 156),\n",
       " 'work;end_date': (160, 163, 166, 168),\n",
       " 'work;location;id': (176,),\n",
       " 'work;position;id': (192, 195),\n",
       " 'work;start_date': (205, 206, 208, 210, 212, 219)}"
      ]
     },
     "execution_count": 7,
     "metadata": {},
     "output_type": "execute_result"
    }
   ],
   "source": [
    "ego_feat_dict"
   ]
  },
  {
   "cell_type": "markdown",
   "metadata": {},
   "source": [
    "Here's a sample of the kinds of features found among ego's friends. Remember all ego's friends\n",
    "will be identified by an id number, a unique integer.\n",
    "\n",
    "G.nodes is both callable (returns a node sequence) and dictionary-like\n",
    "(node_name -> attribute dictionary)."
   ]
  },
  {
   "cell_type": "code",
   "execution_count": 8,
   "metadata": {
    "scrolled": true
   },
   "outputs": [
    {
     "data": {
      "text/plain": [
       "{'birthday': (7,),\n",
       " 'education;concentration;id': (14,),\n",
       " 'education;school;id': (50,),\n",
       " 'education;type': (53,),\n",
       " 'education;year;id': (59,),\n",
       " 'gender': (77,),\n",
       " 'locale': (127,),\n",
       " 'location;id': (138,),\n",
       " 'work;employer;id': (149, 152),\n",
       " 'work;end_date': (160, 169, 173, 175),\n",
       " 'work;location;id': (182, 185),\n",
       " 'work;position;id': (195,),\n",
       " 'work;start_date': (210, 216, 219, 220, 222),\n",
       " 'circles': (4, 15)}"
      ]
     },
     "execution_count": 8,
     "metadata": {},
     "output_type": "execute_result"
    }
   ],
   "source": [
    "G.nodes[236]"
   ]
  },
  {
   "cell_type": "markdown",
   "metadata": {},
   "source": [
    "#### Does anyone belong to more than one circle?"
   ]
  },
  {
   "cell_type": "code",
   "execution_count": 9,
   "metadata": {},
   "outputs": [
    {
     "name": "stdout",
     "output_type": "stream",
     "text": [
      "+==========+\n",
      "| 6 19 | 10|\n",
      "|15 16 |  9|\n",
      "| 4 15 |  6|\n",
      "|15 17 |  3|\n",
      "| 0 11 |  3|\n",
      "| 5 15 |  1|\n",
      "|11 15 |  1|\n",
      "| 9 15 |  1|\n",
      "| 4 16 |  1|\n",
      "| 1 16 |  1|\n",
      "| 8 20 |  1|\n",
      "| 0 15 |  1|\n",
      "| 6 17 |  1|\n",
      "+==========+\n",
      "\n",
      "Selected Circle Sizes\n",
      "=====================\n",
      "       6  20\n",
      "       9  10\n",
      "      10   4\n",
      "      15 133\n"
     ]
    }
   ],
   "source": [
    "from collections import Counter\n",
    "\n",
    "ctr = Counter()\n",
    "\n",
    "for friend in G.nodes():\n",
    "    feat_dict = G.nodes[friend]\n",
    "    if 'circles' in feat_dict and len(feat_dict['circles']) > 1:\n",
    "        #print(f\"{friend:>4}: \",end=\" \")\n",
    "        #for circ in feat_dict['circles']:\n",
    "        #    print(f'{circ:>2}',end=' ')\n",
    "        #print()\n",
    "        ctr[feat_dict['circles']]  += 1\n",
    "\n",
    "ctr_pairs = ctr.most_common()\n",
    "\n",
    "#print('_'*12)\n",
    "print(f\"+{('='*10)}+\")\n",
    "for ((circ1,circ2), ct) in ctr_pairs:\n",
    "    print(f'|{circ1:>2} {circ2:>2} | {ct:>2}|')\n",
    "print(f\"+{('='*10)}+\")\n",
    "#print(f\"|{('_'*10)}|\")\n",
    "\n",
    "print()\n",
    "print('Selected Circle Sizes')\n",
    "print('='*len('Selected Circle Sizes'))\n",
    "for (c,ct) in [(c,len(circlelist[c])) for c in [6,9,10,15]]:\n",
    "    print(f'      {c:>2} {ct:>3}')"
   ]
  },
  {
   "cell_type": "markdown",
   "metadata": {},
   "source": [
    "So a large number of ego's friends belong to more than one of ego's circles, and\n",
    "there are certain circles, like 6 and 19, that have a large amount of \n",
    "membership overlap, as well as certain circles, like 15, the very \n",
    "large circle, that have overlaps with a number of others.  "
   ]
  },
  {
   "cell_type": "markdown",
   "metadata": {},
   "source": [
    "#### How many of ego's friends have the same last name as ego?"
   ]
  },
  {
   "cell_type": "code",
   "execution_count": 10,
   "metadata": {},
   "outputs": [
    {
     "data": {
      "text/plain": [
       "{'birthday': (7,),\n",
       " 'education;concentration;id': (14,),\n",
       " 'education;school;id': (50,),\n",
       " 'education;type': (53,),\n",
       " 'education;year;id': (59,),\n",
       " 'gender': (77,),\n",
       " 'locale': (127,),\n",
       " 'location;id': (138,),\n",
       " 'work;employer;id': (149, 152),\n",
       " 'work;end_date': (160, 169, 173, 175),\n",
       " 'work;location;id': (182, 185),\n",
       " 'work;position;id': (195,),\n",
       " 'work;start_date': (210, 216, 219, 220, 222),\n",
       " 'circles': (4, 15)}"
      ]
     },
     "execution_count": 10,
     "metadata": {},
     "output_type": "execute_result"
    }
   ],
   "source": [
    "node_info = G.nodes(data=True)\n",
    "node_info[236]"
   ]
  },
  {
   "cell_type": "code",
   "execution_count": 13,
   "metadata": {},
   "outputs": [
    {
     "data": {
      "text/plain": [
       "5"
      ]
     },
     "execution_count": 13,
     "metadata": {},
     "output_type": "execute_result"
    }
   ],
   "source": [
    "node_info = G.nodes(data=True)\n",
    "ego_last = ego_feat_dict['last_name']\n",
    "sum(1 for friend,nd in node_info\n",
    "     if 'last_name' in nd and nd['last_name'] == ego_last)"
   ]
  },
  {
   "cell_type": "markdown",
   "metadata": {},
   "source": [
    "#### What circle has the most people with the same last name as ego?  \n",
    "\n",
    "Perhaps this is a family circle?"
   ]
  },
  {
   "cell_type": "code",
   "execution_count": 11,
   "metadata": {},
   "outputs": [
    {
     "data": {
      "text/plain": [
       "[(14, 2), (7, 1), (12, 1)]"
      ]
     },
     "execution_count": 11,
     "metadata": {},
     "output_type": "execute_result"
    }
   ],
   "source": [
    "from collections import Counter\n",
    "shared_last = Counter()\n",
    "ego_last = ego_feat_dict['last_name']\n",
    "node_info_dict = G.nodes\n",
    "\n",
    "# Loop through all the circles\n",
    "for (i,c) in enumerate(circlelist):\n",
    "    # loop through the members of a given circle\n",
    "    for m in c:\n",
    "        m_info = node_info_dict[m]\n",
    "        # If this member has revealed his last name and \n",
    "        # it is the same as ego's\n",
    "        if 'last_name' in m_info and \\\n",
    "            m_info['last_name'] == ego_last:\n",
    "                # increment the count of how many last name sharers\n",
    "                # there are in this circle\n",
    "                shared_last[i] += 1\n",
    "\n",
    "#What are top three circles as far as sharing last names with ego goes?\n",
    "shared_last.most_common(3)            \n",
    "    "
   ]
  },
  {
   "cell_type": "markdown",
   "metadata": {},
   "source": [
    "One circle, circle 14, has two members with the same last name as ego.  How many members does circle 14 have?"
   ]
  },
  {
   "cell_type": "code",
   "execution_count": 15,
   "metadata": {},
   "outputs": [
    {
     "data": {
      "text/plain": [
       "2"
      ]
     },
     "execution_count": 15,
     "metadata": {},
     "output_type": "execute_result"
    }
   ],
   "source": [
    "len(circlelist[14])"
   ]
  },
  {
   "cell_type": "markdown",
   "metadata": {},
   "source": [
    "## Similarity of friends: Homophily"
   ]
  },
  {
   "cell_type": "markdown",
   "metadata": {},
   "source": [
    "We speculated above that the two members of Circle 14 might be related to ego, because they have the same last name.\n",
    "\n",
    "Let's try to **measure** how similar these two friends are, as well as how similar they are to ego.\n",
    "\n",
    "We'll use a very famous similarity function known as the **Dice coefficient**, after its inventor, Lee Dice, who introduced it in the following work:\n",
    "\n",
    "> Dice, Lee R. \"Measures of the amount of ecologic association between species.\" Ecology 26.3 (1945): 297-302.\n",
    "\n",
    "The Dice coefficient counts the number of shared properties two entities `a` and `b`\n",
    "have, and divides by the size of the set of their combined properties. That is, what proportion of the combined properties of `a` and `b` are shared?\n",
    "\n",
    "To facilitate  comparison with ego's properties, we define it as a function of feature_dicts."
   ]
  },
  {
   "cell_type": "code",
   "execution_count": 12,
   "metadata": {},
   "outputs": [
    {
     "name": "stdout",
     "output_type": "stream",
     "text": [
      "Sim(175, 227): 0.31\n",
      "Sim(175, ego): 0.15\n",
      "Sim(227, ego): 0.08\n"
     ]
    }
   ],
   "source": [
    "def hashable(item):\n",
    "    try:\n",
    "      hash(item)\n",
    "      return True\n",
    "    except TypeError as e:\n",
    "      return False\n",
    "\n",
    "def items2tuple(items):\n",
    "    return tuple(filter(hashable,items))\n",
    "\n",
    "def dice_coefficient (fd1,fd2):\n",
    "    \"\"\"\n",
    "    Returns a number between 0 and 1 representing the similarity of\n",
    "    feature set `fd1` to feature set `fd2`, which are dictionaries\n",
    "    with hashable values (strings, ints, or tuples, no lists).\n",
    "    \"\"\"\n",
    "    fd1_s,fd2_s = set(items2tuple(fd1.items())),\\\n",
    "                  set(items2tuple(fd2.items()))\n",
    "    \n",
    "    return len(fd1_s.intersection(fd2_s))/len(fd1_s.union(fd2_s))\n",
    "\n",
    "node_info_dict = G.nodes\n",
    "\n",
    "# The two members of circle 14\n",
    "mem1, mem2 = circlelist[14][0],circlelist[14][1]\n",
    "# The feat dicts of those two members, taken from the graph.\n",
    "mem1_feat_dict, mem2_feat_dict = node_info_dict[mem1], node_info_dict[mem2]\n",
    "\n",
    "# The similarities of 3 pairs of individuals\n",
    "mems12_sim = dice_coefficient(mem1_feat_dict, mem2_feat_dict)\n",
    "mem1_ego_sim = dice_coefficient(mem1_feat_dict, ego_feat_dict)\n",
    "mem2_ego_sim = dice_coefficient(mem2_feat_dict, ego_feat_dict)\n",
    "\n",
    "print(f\"Sim({mem1}, {mem2}): {mems12_sim:.2f}\")\n",
    "print(f\"Sim({mem1}, ego): {mem1_ego_sim:.2f}\")\n",
    "print(f\"Sim({mem2}, ego): {mem2_ego_sim:.2f}\")"
   ]
  },
  {
   "cell_type": "code",
   "execution_count": 17,
   "metadata": {},
   "outputs": [
    {
     "data": {
      "text/plain": [
       "{'birthday': (4,),\n",
       " 'education;school;id': (45,),\n",
       " 'education;type': (55,),\n",
       " 'gender': (78,),\n",
       " 'hometown;id': (88,),\n",
       " 'last_name': (104,),\n",
       " 'locale': (127,),\n",
       " 'location;id': (137,),\n",
       " 'circles': (14,)}"
      ]
     },
     "execution_count": 17,
     "metadata": {},
     "output_type": "execute_result"
    }
   ],
   "source": [
    "mem1_feat_dict"
   ]
  },
  {
   "cell_type": "code",
   "execution_count": 119,
   "metadata": {},
   "outputs": [
    {
     "data": {
      "text/plain": [
       "{'birthday': (7,),\n",
       " 'education;school;id': (26, 45),\n",
       " 'education;type': (53, 55),\n",
       " 'education;year;id': (65, 69),\n",
       " 'gender': (77,),\n",
       " 'hometown;id': (88,),\n",
       " 'last_name': (104,),\n",
       " 'locale': (127,),\n",
       " 'location;id': (137,),\n",
       " 'work;location;id': (177,),\n",
       " 'work;start_date': (215,),\n",
       " 'circles': (14,)}"
      ]
     },
     "execution_count": 119,
     "metadata": {},
     "output_type": "execute_result"
    }
   ],
   "source": [
    "mem2_feat_dict"
   ]
  },
  {
   "cell_type": "markdown",
   "metadata": {},
   "source": [
    "## Highest degree centrality"
   ]
  },
  {
   "cell_type": "markdown",
   "metadata": {},
   "source": [
    "This is a lot like things we've done before.  Let's write a function which given a scoring dictionary, turns it into a list and sorts it highest scorer to lowest scorer:"
   ]
  },
  {
   "cell_type": "code",
   "execution_count": 13,
   "metadata": {},
   "outputs": [],
   "source": [
    "import networkx as nx\n",
    "\n",
    "def sort_score_dict (score_dict):\n",
    "    return sorted(score_dict.items(),key=lambda x:x[1],reverse=True)\n",
    "\n",
    "degree_list = sort_score_dict(nx.degree_centrality(G))"
   ]
  },
  {
   "cell_type": "markdown",
   "metadata": {},
   "source": [
    "The friend with the highest degree centrality (that friend of ego's\n",
    "who knows the largest number of ego's friends)."
   ]
  },
  {
   "cell_type": "code",
   "execution_count": 14,
   "metadata": {},
   "outputs": [
    {
     "name": "stdout",
     "output_type": "stream",
     "text": [
      "56 0.223\n"
     ]
    }
   ],
   "source": [
    "connected_guy, score = degree_list[0]\n",
    "print(f'{connected_guy} {score:.3f}')"
   ]
  },
  {
   "cell_type": "markdown",
   "metadata": {},
   "source": [
    "## Largest connected component"
   ]
  },
  {
   "cell_type": "code",
   "execution_count": 15,
   "metadata": {},
   "outputs": [
    {
     "name": "stdout",
     "output_type": "stream",
     "text": [
      "19\n"
     ]
    }
   ],
   "source": [
    "cc = list(nx.connected_components(G))\n",
    "print(len(cc))"
   ]
  },
  {
   "cell_type": "markdown",
   "metadata": {},
   "source": [
    "So there are 19 components unconnected to each other!\n",
    "Is this very atypical for Facebook network? Not really,\n",
    "especially for an ego network that's been growing for a number of years.\n",
    "\n",
    "Note that the largest connected component is the winner by **a lot.** "
   ]
  },
  {
   "cell_type": "code",
   "execution_count": 21,
   "metadata": {},
   "outputs": [
    {
     "data": {
      "text/plain": [
       "[324, 3, 2, 2, 2, 1, 1, 1, 1, 1, 1, 1, 1, 1, 1, 1, 1, 1, 1]"
      ]
     },
     "execution_count": 21,
     "metadata": {},
     "output_type": "execute_result"
    }
   ],
   "source": [
    "sorted([len(comp) for comp in cc],reverse=True)"
   ]
  },
  {
   "cell_type": "markdown",
   "metadata": {},
   "source": [
    "You can use sorting to do this, but we're told `max` is more efficient."
   ]
  },
  {
   "cell_type": "code",
   "execution_count": 16,
   "metadata": {},
   "outputs": [],
   "source": [
    "cc = nx.connected_components(G)\n",
    "largest_component_nodes = max(cc, key=len)\n",
    "largest_component = nx.subgraph(G,largest_component_nodes)"
   ]
  },
  {
   "cell_type": "code",
   "execution_count": 23,
   "metadata": {},
   "outputs": [
    {
     "data": {
      "text/plain": [
       "(324, set, networkx.classes.graph.Graph)"
      ]
     },
     "execution_count": 23,
     "metadata": {},
     "output_type": "execute_result"
    }
   ],
   "source": [
    "len(largest_component_nodes),type(largest_component_nodes),type(largest_component)"
   ]
  },
  {
   "cell_type": "markdown",
   "metadata": {},
   "source": [
    "## Clustering coefficient"
   ]
  },
  {
   "cell_type": "markdown",
   "metadata": {},
   "source": [
    "We compute the clustering coefficient of every node in the largest component (returned in the dictionary `cl`), and then take the average of all the values."
   ]
  },
  {
   "cell_type": "code",
   "execution_count": 17,
   "metadata": {},
   "outputs": [
    {
     "data": {
      "text/plain": [
       "0.5223624457077092"
      ]
     },
     "execution_count": 17,
     "metadata": {},
     "output_type": "execute_result"
    }
   ],
   "source": [
    "cl = nx.clustering(largest_component,largest_component_nodes)\n",
    "avg_cl = sum(cl.values())/len(cl)\n",
    "avg_cl"
   ]
  },
  {
   "cell_type": "markdown",
   "metadata": {},
   "source": [
    "Now we do it for all circles in the graph and compare it to the average.  We see that only a few of the larger circles beat the network clustering average, and they tend to be\n",
    "small, which makes the largest highly clustered network (16) more interesting."
   ]
  },
  {
   "cell_type": "code",
   "execution_count": 18,
   "metadata": {},
   "outputs": [
    {
     "name": "stdout",
     "output_type": "stream",
     "text": [
      "  0 Size:  20  0.441   \n",
      "  2 Size:   9  0.639   Above avg \n",
      "  3 Size:   3  0.800   Above avg \n",
      "  4 Size:  17  0.509   \n",
      "  6 Size:  20  0.524   Above avg \n",
      "  7 Size:   2  0.903   Above avg \n",
      "  9 Size:  10  0.287   \n",
      " 10 Size:   4  0.521   \n",
      " 11 Size:  30  0.519   \n",
      " 13 Size:   5  0.663   Above avg \n",
      " 14 Size:   2  0.411   \n",
      " 15 Size: 133  0.478   \n",
      " 16 Size:  32  0.631   Above avg \n",
      " 17 Size:   9  0.343   \n",
      " 19 Size:  13  0.610   Above avg \n",
      " 20 Size:   6  0.917   Above avg \n",
      " 23 Size:   3  0.760   Above avg \n"
     ]
    }
   ],
   "source": [
    "\n",
    "for (i,circle) in enumerate(circlelist):\n",
    "    if len(circle) > 1:\n",
    "       cl_c = nx.clustering(largest_component,circle)\n",
    "       avg_cl_c = sum(cl_c.values())/len(cl_c)\n",
    "       print(f'{i:>3} Size:{len(circle):>4}  {avg_cl_c:.3f}  ',end=' ')\n",
    "       if avg_cl_c>avg_cl:\n",
    "            print('Above avg', end= ' ')\n",
    "       print()\n",
    "       #.format(i,avg_cl_c,len(circle), avg_cl)"
   ]
  },
  {
   "cell_type": "markdown",
   "metadata": {},
   "source": [
    "## Drawing the network, Connectedness"
   ]
  },
  {
   "cell_type": "markdown",
   "metadata": {},
   "source": [
    "We'll draw the network, coloring nodes according to the first circle they belong to.\n",
    "\n",
    "A node belonging to no circle will be black."
   ]
  },
  {
   "cell_type": "code",
   "execution_count": 47,
   "metadata": {},
   "outputs": [],
   "source": [
    "from matplotlib import pyplot as plt\n",
    "N= len(circlelist)\n",
    "import numpy as np\n",
    "import matplotlib.colors as mcolors\n",
    "colors0 = list(mcolors.TABLEAU_COLORS.values())\n",
    "cl = [c for i in range(3) for c in colors0]\n",
    "colors = [cl[i] for i in range(len(circlelist))]\n",
    "node_dict =  largest_component.nodes\n",
    "node_colors = [colors[node_dict[n]['circles'][0]]\n",
    "                      if 'circles' in node_dict[n]\n",
    "                      else '#000000' \n",
    "               for n in largest_component.nodes()]"
   ]
  },
  {
   "cell_type": "code",
   "execution_count": 55,
   "metadata": {},
   "outputs": [
    {
     "data": {
      "image/png": "[encoded data removed]",
      "text/plain": [
       "<Figure size 720x576 with 1 Axes>"
      ]
     },
     "metadata": {},
     "output_type": "display_data"
    }
   ],
   "source": [
    "plt.figure(figsize=(10,8))\n",
    "nx.draw_spring(largest_component,node_size=50,\n",
    "               nodelist=largest_component.nodes(),\n",
    "               node_color=node_colors,\n",
    "               )"
   ]
  },
  {
   "cell_type": "markdown",
   "metadata": {},
   "source": [
    "Also can be seen by drawing the entire graph:"
   ]
  },
  {
   "cell_type": "code",
   "execution_count": 300,
   "metadata": {},
   "outputs": [
    {
     "data": {
      "image/png": "[encoded data removed]",
      "text/plain": [
       "<Figure size 432x288 with 1 Axes>"
      ]
     },
     "metadata": {},
     "output_type": "display_data"
    }
   ],
   "source": [
    "nx.draw_spring(G,node_size=50)\n",
    "plt.show()"
   ]
  },
  {
   "cell_type": "markdown",
   "metadata": {},
   "source": [
    "## Finding communities"
   ]
  },
  {
   "cell_type": "markdown",
   "metadata": {},
   "source": [
    "Looking for communities in the graph.  \n",
    "\n",
    "See the `using_networkx` notebook for more on `networkx` community discovery tools.\n",
    "\n",
    "Here we use a fast algorithm that doesn't  always provide the best performance.\n",
    "We can think of the `partitions` returned as the algorithm's guess at what\n",
    "the ego network's circles are."
   ]
  },
  {
   "cell_type": "code",
   "execution_count": 345,
   "metadata": {},
   "outputs": [],
   "source": [
    "from networkx.algorithms.community import modularity_max\n",
    "partitions0 = modularity_max.greedy_modularity_communities(largest_component)\n",
    "partitions = [sorted(list(p)) for p in partitions0]\n",
    "partition_dict = dict((n,i) for (i,p) in enumerate(partitions) for n in p)"
   ]
  },
  {
   "cell_type": "markdown",
   "metadata": {},
   "source": [
    "There are many other options.  See [the Scikit learn tutorial on\n",
    "clusterer evaluation.](https://www.tutorialspoint.com/scikit_learn/scikit_learn_clustering_performance_evaluation.htm)"
   ]
  },
  {
   "cell_type": "markdown",
   "metadata": {},
   "source": [
    "##### Evaluation\n",
    "\n",
    "We'd like to evaluate the performance of the community discovery algorithm\n",
    "with regard to capturing the circles.\n",
    "\n",
    "The problem is that the algorithm produces a partition of the graph\n",
    "and the circles are not a partition because a member may belong\n",
    "to more than one circle.  Thus a measure that can only compare two\n",
    "partitionings, predicted and true, is not appropriate. Purity\n",
    "is an example of such a measure.\n",
    "\n",
    "An alternative is Fowlkes-Mallows Score which can be formulated\n",
    "as a pair-by-pair comparison:\n",
    "\n",
    "$$\n",
    "FMS=\\frac{TP}{\\sqrt{(TP+FP)(TP+FN)}}\n",
    "$$\n",
    "\n",
    "TP = True Positive − number of pair of points belonging to the same clusters in true as well as predicted labels both.\n",
    "\n",
    "FP = False Positive − number of pair of points belonging to the same clusters in true labels but not in the predicted labels.\n",
    "\n",
    "FN = False Negative − number of pair of points belonging to the same clusters in the predicted labels but not in the true labels.\n",
    "\n",
    "To use this idea on circles we define a function that returns True\n",
    "for a pair of members if there is any overlap in their circles.  \n",
    "We store the results of applying that function in\n",
    "a dictionary whose keys are member pairs.\n",
    "\n",
    "Fowlkes, Edward B; Mallows, Colin L (1983). \"A method for comparing two hierarchical clusterings\". *Journal of the American Statistical Association*. **78** (383): 553–569. [doi:10.1080/01621459.1983.10478008.](doi:10.1080/01621459.1983.10478008)"
   ]
  },
  {
   "cell_type": "code",
   "execution_count": 363,
   "metadata": {},
   "outputs": [
    {
     "data": {
      "text/plain": [
       "0.3683158297904581"
      ]
     },
     "execution_count": 363,
     "metadata": {},
     "output_type": "execute_result"
    }
   ],
   "source": [
    "import numpy as np\n",
    "\n",
    "def same_circle (G0, m1,m2):\n",
    "    def get_circles(m):\n",
    "        return G0.nodes[m].get('circles',())\n",
    "    return set(get_circles(m1)).intersection(get_circles(m2))\n",
    "\n",
    "def fowlkes_mallows_score (G0,partition_dict):\n",
    "    nodelist = list(G0.nodes())\n",
    "    tp,fp,fn = 0,0,0\n",
    "    for (i,m1) in enumerate(nodelist):\n",
    "        for m2 in nodelist[i+1:]:\n",
    "            same_partition = (partition_dict[m1]==partition_dict[m2])\n",
    "            same_c = same_circle(G0,m1,m2)\n",
    "            if same_partition and same_c:\n",
    "                tp += 1\n",
    "            elif same_partition:\n",
    "                fp += 1\n",
    "            elif same_c:\n",
    "                fn += 1\n",
    "    \n",
    "    return (tp/np.sqrt((tp+fp)*(tp+fn)))\n",
    "    \n",
    "\n",
    "fowlkes_mallows_score (largest_component, partition_dict)"
   ]
  },
  {
   "cell_type": "markdown",
   "metadata": {},
   "source": [
    "Appendix:  How purity misbehaves.  We get a purity score below the\n",
    "minimum (.5)."
   ]
  },
  {
   "cell_type": "code",
   "execution_count": 344,
   "metadata": {},
   "outputs": [
    {
     "name": "stdout",
     "output_type": "stream",
     "text": [
      "324 324 306 324\n",
      "306 268\n",
      "362\n",
      "Purity score: 0.466\n"
     ]
    }
   ],
   "source": [
    "import numpy as np\n",
    "from sklearn import metrics\n",
    "\n",
    "def purity_score(y_true, y_pred):\n",
    "    # compute contingency matrix (also called confusion matrix)\n",
    "    CM = metrics.cluster.contingency_matrix(y_true, y_pred)\n",
    "    # np.amax(... axis=0) returns the max in each column\n",
    "    # i.e. the number of members in each cluster belonging\n",
    "    # to the best represented community.\n",
    "    return np.sum(np.amax(CM, axis=0)) / np.sum(CM) \n",
    "\n",
    "y_pred = [partition_dict[n] for n in largest_component.nodes()]\n",
    "largest_cc_circlelist = [[m for m in c if m in largest_component.nodes()]\n",
    "                          for c in circlelist]\n",
    "print(len(largest_component.nodes()), len(y_pred),\n",
    "      sum(len(c) for c in largest_cc_circlelist),\n",
    "      sum(len(p) for p in partitions))\n",
    "\n",
    "circled_mems = [m for c in largest_cc_circlelist for m in c]\n",
    "# Not all members have a circle,  Those that do often belong to several\n",
    "print(len(circled_mems),len(set(circled_mems)))\n",
    "# Create a new circle for the uncircled mems\n",
    "uncircled_mems = [m for m in largest_component.nodes() if m not in circled_mems]\n",
    "largest_cc_circlelist.append(uncircled_mems)\n",
    "print(sum(len(c) for c in largest_cc_circlelist))\n",
    "circle_dict = dict((n,i) for (i,p) in enumerate(largest_cc_circlelist) for n in p)\n",
    "y_true = [circle_dict[n] for n in largest_component.nodes()]\n",
    "\n",
    "print(f'Purity score: {purity_score(y_true, y_pred):.3f}')"
   ]
  },
  {
   "cell_type": "markdown",
   "metadata": {
    "collapsed": true
   },
   "source": [
    "## Finding the average similarity in a circle"
   ]
  },
  {
   "cell_type": "markdown",
   "metadata": {},
   "source": [
    "Let's find average pairwise similarity of people in a circle.  Look at circle 0:"
   ]
  },
  {
   "cell_type": "code",
   "execution_count": 25,
   "metadata": {},
   "outputs": [
    {
     "data": {
      "text/plain": [
       "20"
      ]
     },
     "execution_count": 25,
     "metadata": {},
     "output_type": "execute_result"
    }
   ],
   "source": [
    "len(circlelist[0])"
   ]
  },
  {
   "cell_type": "code",
   "execution_count": 307,
   "metadata": {},
   "outputs": [],
   "source": [
    "node_info_dict = G.nodes\n",
    "sim_scores = [dice_coefficient(node_info_dict[m1], node_info_dict[m2]) \n",
    "                for m1 in circlelist[0] \n",
    "                  for m2 in circlelist[0]]\n",
    "\n",
    "#sim_scores = []\n",
    "#for m1 in circlelist[0]:\n",
    "#    for m2 in circlelist[0]:\n",
    "#        #print(m1,node_info_dict[m1])\n",
    "#        #print(m2, node_info_dict[m2])\n",
    "#        #print()\n",
    "#        sim_scores.append(dice_coefficient(node_info_dict[m1], node_info_dict[m2]))\n",
    "    "
   ]
  },
  {
   "cell_type": "code",
   "execution_count": 308,
   "metadata": {},
   "outputs": [
    {
     "name": "stdout",
     "output_type": "stream",
     "text": [
      "400\n",
      "[1.0, 0.17647058823529413, 0.2, 0.125, 0.043478260869565216, 0.14285714285714285, 0.08695652173913043, 0.13333333333333333, 0.21052631578947367, 0.14285714285714285, 0.14285714285714285, 0.045454545454545456, 0.14285714285714285, 0.14285714285714285, 0.15, 0.14285714285714285, 0.041666666666666664, 0.1, 0.1111111111111111, 0.041666666666666664, 0.17647058823529413, 1.0]\n"
     ]
    }
   ],
   "source": [
    "print(len(sim_scores))\n",
    "print(sim_scores[:22])"
   ]
  },
  {
   "cell_type": "markdown",
   "metadata": {},
   "source": [
    "Notice the first and last scores printed out are 1.0.  This is because every 21 pairs we take the similarity of a member to themselves, which is always 1.0 by definition.  Obviously, it's not very meaningful to include this case, so we eliminate it:"
   ]
  },
  {
   "cell_type": "code",
   "execution_count": 309,
   "metadata": {},
   "outputs": [],
   "source": [
    "node_info_dict = G.nodes\n",
    "sim_scores2 = [dice_coefficient(node_info_dict[m1], node_info_dict[m2]) \n",
    "                 for m1 in circlelist[0] \n",
    "                    for m2 in circlelist[0] if m1 != m2]\n",
    "    "
   ]
  },
  {
   "cell_type": "code",
   "execution_count": 310,
   "metadata": {},
   "outputs": [
    {
     "name": "stdout",
     "output_type": "stream",
     "text": [
      "380\n",
      "[0.17647058823529413, 0.2, 0.125, 0.043478260869565216, 0.14285714285714285, 0.08695652173913043, 0.13333333333333333, 0.21052631578947367, 0.14285714285714285, 0.14285714285714285, 0.045454545454545456, 0.14285714285714285, 0.14285714285714285, 0.15, 0.14285714285714285, 0.041666666666666664, 0.1, 0.1111111111111111, 0.041666666666666664, 0.17647058823529413, 0.2, 0.2]\n"
     ]
    }
   ],
   "source": [
    "print(len(sim_scores2))\n",
    "print(sim_scores2[:22])"
   ]
  },
  {
   "cell_type": "markdown",
   "metadata": {},
   "source": [
    "What we're interested in is the average sim_score:"
   ]
  },
  {
   "cell_type": "code",
   "execution_count": 297,
   "metadata": {},
   "outputs": [
    {
     "data": {
      "text/plain": [
       "0.2219662575117638"
      ]
     },
     "execution_count": 297,
     "metadata": {},
     "output_type": "execute_result"
    }
   ],
   "source": [
    "avg_sim_score = sum(sim_scores)/len(sim_scores)\n",
    "avg_sim_score"
   ]
  },
  {
   "cell_type": "markdown",
   "metadata": {},
   "source": [
    "So now we have the knowledge to write a function:"
   ]
  },
  {
   "cell_type": "code",
   "execution_count": 311,
   "metadata": {},
   "outputs": [],
   "source": [
    "node_info_dict = G.nodes\n",
    "\n",
    "def get_avg_sim_score(circle):\n",
    "    sim_scores = [dice_coefficient(node_info_dict[m1], node_info_dict[m2]) \n",
    "                    for m1 in circle \n",
    "                      for m2 in circle if m1 != m2]\n",
    "    if sim_scores:\n",
    "       return sum(sim_scores)/len(sim_scores)\n",
    "    else:\n",
    "        return 0.0"
   ]
  },
  {
   "cell_type": "markdown",
   "metadata": {},
   "source": [
    "The clause which returns 0 is there because there may be circles of length 1, which would give us a `sim_scores` list of length 0.\n",
    "\n",
    "Now that we have a function it's easy to write a piece of code that computes the average group similarity for all circles.  Let's store it in a dictionary, sort the results,\n",
    "and print them, along with size of the circle"
   ]
  },
  {
   "cell_type": "code",
   "execution_count": 312,
   "metadata": {},
   "outputs": [
    {
     "name": "stdout",
     "output_type": "stream",
     "text": [
      "(('education;type', (53, 54)), ('education;year;id', (60, 65)), ('gender', (78,)), ('languages;id', (91, 92, 98)), ('last_name', (118,)), ('locale', (127,)), ('location;id', (133,)), ('work;employer;id', (156,)), ('work;end_date', (165, 173)), ('work;location;id', (181,)), ('work;position;id', (200,)), ('work;start_date', (202, 207, 220)), ('circles', (0,)))\n",
      "(('education;concentration;id', (14,)), ('education;type', (54,)), ('gender', (78,)), ('locale', (127,)), ('work;employer;id', (152,)), ('work;end_date', (160,)), ('circles', (0,)))\n",
      "(('gender', (78,)), ('languages;id', (92, 100)), ('locale', (127,)), ('location;id', (133,)), ('circles', (0, 11)))\n",
      "(('education;type', (53,)), ('education;year;id', (68,)), ('gender', (77,)), ('locale', (127,)), ('circles', (0,)))\n",
      "(('birthday', (6,)), ('education;type', (53,)), ('education;year;id', (69,)), ('gender', (77,)), ('locale', (127,)), ('work;employer;id', (158,)), ('work;end_date', (173,)), ('work;location;id', (185,)), ('work;position;id', (193,)), ('work;start_date', (204, 210)), ('circles', (0, 11)))\n",
      "(('education;school;id', (50,)), ('education;type', (53, 55)), ('education;year;id', (59, 65)), ('gender', (77,)), ('languages;id', (92,)), ('locale', (127,)), ('location;id', (138,)), ('work;end_date', (172,)), ('work;position;id', (200,)), ('work;start_date', (217,)), ('circles', (0,)))\n",
      "(('education;concentration;id', (14,)), ('education;degree;id', (23,)), ('education;school;id', (52,)), ('education;type', (53, 54, 55)), ('education;year;id', (63,)), ('gender', (77,)), ('languages;id', (92, 103)), ('locale', (127,)), ('location;id', (128,)), ('work;end_date', (173,)), ('work;position;id', (191,)), ('circles', (0,)))\n",
      "(('education;type', (53,)), ('gender', (77,)), ('locale', (127,)), ('circles', (0,)))\n",
      "(('education;type', (55,)), ('gender', (78,)), ('hometown;id', (84,)), ('languages;id', (92,)), ('locale', (127,)), ('location;id', (129,)), ('work;employer;id', (141, 153)), ('work;location;id', (181,)), ('work;start_date', (216,)), ('circles', (0,)))\n",
      "(('gender', (78,)), ('locale', (127,)), ('circles', (0, 11)))\n",
      "(('gender', (77,)), ('locale', (127,)), ('circles', (0,)))\n",
      "(('education;school;id', (50,)), ('education;type', (53, 55)), ('education;year;id', (58, 66)), ('gender', (77,)), ('locale', (126,)), ('location;id', (134,)), ('work;end_date', (164, 169)), ('work;location;id', (185,)), ('work;start_date', (206, 210, 212)), ('circles', (0,)))\n",
      "(('education;school;id', (43, 50)), ('education;type', (53, 55)), ('gender', (78,)), ('languages;id', (92, 93, 98)), ('locale', (127,)), ('location;id', (138,)), ('work;employer;id', (149,)), ('work;end_date', (171,)), ('work;location;id', (185,)), ('work;start_date', (215,)), ('circles', (0,)))\n",
      "(('gender', (77,)), ('locale', (127,)), ('circles', (0,)))\n",
      "(('education;school;id', (52,)), ('education;type', (54,)), ('education;year;id', (63,)), ('gender', (78,)), ('locale', (127,)), ('location;id', (128,)), ('work;employer;id', (141,)), ('work;end_date', (160,)), ('work;start_date', (201,)), ('circles', (0,)))\n",
      "(('gender', (78,)), ('locale', (126,)), ('circles', (0,)))\n",
      "(('birthday', (7,)), ('education;school;id', (52,)), ('education;type', (53, 55)), ('education;year;id', (65,)), ('gender', (77,)), ('languages;id', (90, 92)), ('locale', (127,)), ('location;id', (128,)), ('work;employer;id', (141, 156)), ('work;end_date', (169, 174)), ('work;start_date', (211, 217)), ('circles', (0, 15)))\n",
      "(('education;school;id', (50,)), ('education;type', (53, 55)), ('education;year;id', (65,)), ('gender', (77,)), ('languages;id', (90, 92, 94)), ('last_name', (106,)), ('locale', (127,)), ('location;id', (139,)), ('circles', (0,)))\n",
      "(('education;school;id', (32,)), ('education;type', (54,)), ('education;year;id', (63,)), ('gender', (77,)), ('locale', (127,)), ('location;id', (129,)), ('circles', (0,)))\n",
      "(('birthday', (7,)), ('education;school;id', (50,)), ('education;type', (53, 55)), ('education;year;id', (59, 65)), ('gender', (77,)), ('languages;id', (92, 100)), ('locale', (126,)), ('location;id', (138,)), ('work;end_date', (171,)), ('work;position;id', (192,)), ('work;start_date', (214,)), ('circles', (0,)))\n"
     ]
    }
   ],
   "source": [
    "#get_avg_sim_score(circlelist[0])\n",
    "for m in circlelist[0]:\n",
    "    print(items2tuple(node_info_dict[m].items()))"
   ]
  },
  {
   "cell_type": "code",
   "execution_count": 243,
   "metadata": {},
   "outputs": [
    {
     "name": "stdout",
     "output_type": "stream",
     "text": [
      "7   0.500  2  \n",
      "23  0.435  3  \n",
      "20  0.356  6  \n",
      "13  0.351  5  \n",
      "2   0.318  9  \n",
      "14  0.312  2  \n",
      "10  0.306  4  \n",
      "19  0.290  13 \n",
      "6   0.254  20 \n",
      "9   0.253  10 \n",
      "3   0.232  3  \n",
      "4   0.219  17 \n",
      "15  0.215  133\n",
      "11  0.210  30 \n",
      "17  0.202  9  \n",
      "0   0.181  20 \n",
      "16  0.174  32 \n",
      "1   0.000  1  \n",
      "5   0.000  1  \n",
      "8   0.000  1  \n",
      "12  0.000  1  \n",
      "18  0.000  1  \n",
      "21  0.000  1  \n",
      "22  0.000  1  \n"
     ]
    }
   ],
   "source": [
    "circle_sims = dict()\n",
    "for (i,c) in enumerate(circlelist):\n",
    "    sim_score = get_avg_sim_score(c)\n",
    "    circle_sims[i] = sim_score\n",
    "sorted_circle_sims = sorted(circle_sims.items(),key=lambda x:x[1],reverse=True)\n",
    "for (i,sim_score) in sorted_circle_sims:\n",
    "    print('{0:<2}  {1:.3f}  {2:<3}'.format(i,sim_score,len(circlelist[i])))\n",
    "\n",
    "## Make this a function that can use different ranking functions\n",
    "def score_and_rank_circles(scoring_func):\n",
    "    circle_sims = dict()\n",
    "    for (i,c) in enumerate(circlelist):\n",
    "       sim_score = scoring_func(c)\n",
    "       circle_sims[i] = sim_score\n",
    "    sorted_circle_sims = sorted(circle_sims.items(),key=lambda x:x[1],reverse=True)\n",
    "    for (i,sim_score) in sorted_circle_sims:\n",
    "        print ('{0:<2}  {1:.3f}  {2:<3}'.format(i,sim_score,len(circlelist[i])))\n",
    "    return circle_sims"
   ]
  },
  {
   "cell_type": "markdown",
   "metadata": {},
   "source": [
    "Note that group 2, has both a fairly high average sim score and significant size.  So it's interesting.  Note also that the largest group by far (over half of ego's friends) has significant internal similarity.  Next let's find out which group has the greatest similarity to ego. The code is very simailar."
   ]
  },
  {
   "cell_type": "code",
   "execution_count": 313,
   "metadata": {},
   "outputs": [
    {
     "name": "stdout",
     "output_type": "stream",
     "text": [
      "7   0.144  2  \n",
      "1   0.136  1  \n",
      "22  0.118  1  \n",
      "19  0.117  13 \n",
      "14  0.117  2  \n",
      "16  0.109  32 \n",
      "10  0.108  4  \n",
      "20  0.107  6  \n",
      "6   0.105  20 \n",
      "9   0.105  10 \n",
      "4   0.102  17 \n",
      "15  0.100  133\n",
      "11  0.096  30 \n",
      "13  0.089  5  \n",
      "12  0.087  1  \n",
      "0   0.079  20 \n",
      "17  0.076  9  \n",
      "2   0.068  9  \n",
      "8   0.059  1  \n",
      "23  0.056  3  \n",
      "21  0.056  1  \n",
      "5   0.050  1  \n",
      "18  0.048  1  \n",
      "3   0.013  3  \n"
     ]
    }
   ],
   "source": [
    "node_info_dict = G.nodes\n",
    "\n",
    "def get_avg_ego_sim(circle):\n",
    "    sim_scores = [dice_coefficient(node_info_dict[m1], ego_feat_dict) for m1 in circle]\n",
    "    return sum(sim_scores)/len(sim_scores)\n",
    "                  \n",
    "## Make the code above a function that can use different ranking functions\n",
    "def score_and_rank_circles(circlelist, scoring_func):\n",
    "    circle_sims = dict()\n",
    "    for (i,c) in enumerate(circlelist):\n",
    "       sim_score = scoring_func(c)\n",
    "       circle_sims[i] = sim_score\n",
    "    sorted_circle_sims = sorted(circle_sims.items(),key=lambda x:x[1],reverse=True)\n",
    "    for (i,sim_score) in sorted_circle_sims:\n",
    "        print ('{0:<2}  {1:.3f}  {2:<3}'.format(i,sim_score,len(circlelist[i])))\n",
    "                  \n",
    "ego_sim_rankings = score_and_rank_circles(circlelist, get_avg_ego_sim)"
   ]
  },
  {
   "cell_type": "markdown",
   "metadata": {},
   "source": [
    "So circle 13 looks interesting, because it has size and significant similarity to ego."
   ]
  },
  {
   "cell_type": "markdown",
   "metadata": {},
   "source": [
    "Lets pass `get_avg_ego_sim` a \"circle\" consisting of all of ego's friends."
   ]
  },
  {
   "cell_type": "code",
   "execution_count": 248,
   "metadata": {},
   "outputs": [
    {
     "data": {
      "text/plain": [
       "0.0994593191404611"
      ]
     },
     "execution_count": 248,
     "metadata": {},
     "output_type": "execute_result"
    }
   ],
   "source": [
    "get_avg_ego_sim(node_info_dict.keys())"
   ]
  },
  {
   "cell_type": "markdown",
   "metadata": {},
   "source": [
    "Here we've used `G.node`, the dictionary that contains all the friend attribute dictionaries, and of course the list of its keys (`G.node.keys()`) is the list of all friends.  And we see something interesting.  The average pairwise similarity of friends at large is much smaller than the average similarity of people within circles.  It's too soon to tell, of course, but maybe people **do** tend to travel within circles of people who are similar to them."
   ]
  },
  {
   "cell_type": "code",
   "execution_count": null,
   "metadata": {
    "collapsed": true
   },
   "outputs": [],
   "source": []
  }
 ],
 "metadata": {
  "kernelspec": {
   "display_name": "Python 3",
   "language": "python",
   "name": "python3"
  },
  "language_info": {
   "codemirror_mode": {
    "name": "ipython",
    "version": 3
   },
   "file_extension": ".py",
   "mimetype": "text/x-python",
   "name": "python",
   "nbconvert_exporter": "python",
   "pygments_lexer": "ipython3",
   "version": "3.7.0"
  },
  "toc": {
   "colors": {
    "hover_highlight": "#DAA520",
    "running_highlight": "#FF0000",
    "selected_highlight": "#FFD700"
   },
   "moveMenuLeft": true,
   "nav_menu": {
    "height": "206px",
    "width": "252px"
   },
   "navigate_menu": true,
   "number_sections": true,
   "sideBar": true,
   "threshold": 4,
   "toc_cell": false,
   "toc_section_display": "block",
   "toc_window_display": false,
   "widenNotebook": false
  }
 },
 "nbformat": 4,
 "nbformat_minor": 1
}
